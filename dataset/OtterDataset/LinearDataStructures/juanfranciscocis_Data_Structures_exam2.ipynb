{
 "cells": [
  {
   "cell_type": "markdown",
   "source": [
    "# Midterm 2\n",
    "## Juan Francisco Cisneros\n"
   ],
   "metadata": {
    "collapsed": false,
    "pycharm": {
     "name": "#%% md\n"
    }
   }
  },
  {
   "cell_type": "code",
   "execution_count": 137,
   "outputs": [],
   "source": [
    "import time\n",
    "#https://www.geeksforgeeks.org/timing-functions-with-decorators-python/ <- IMPLEMENTATION FROM, RE WRITTED BY JUAN FRANCISCO CISNEROS\n",
    "def timer_func(func):\n",
    "    # This function shows the execution time of\n",
    "    # the function object passed\n",
    "    def wrap_func(*args, **kwargs):\n",
    "        t1 = time()*10**12\n",
    "        result = func(*args, **kwargs)\n",
    "        t2 = time()*10**12\n",
    "        return result , t2-t1\n",
    "    return wrap_func"
   ],
   "metadata": {
    "collapsed": false,
    "pycharm": {
     "name": "#%%\n"
    }
   }
  },
  {
   "cell_type": "markdown",
   "source": [
    "### ARRAY IMPLEMENTATION"
   ],
   "metadata": {
    "collapsed": false,
    "pycharm": {
     "name": "#%% md\n"
    }
   }
  },
  {
   "cell_type": "code",
   "execution_count": 138,
   "outputs": [],
   "source": [
    "import ctypes\n",
    "import math\n",
    "\n",
    "class Array(object):\n",
    "    \"\"\"\n",
    "    Implementation of the array data structure\n",
    "    \"\"\"\n",
    "\n",
    "    def __init__(self, n):\n",
    "        \"\"\"\n",
    "        Initialize the class\n",
    "        \"\"\"\n",
    "        self.l = 0\n",
    "        self.n = n\n",
    "        self.array = self._create_array(self.n)\n",
    "\n",
    "    def _create_array(self, n):\n",
    "        \"\"\"\n",
    "        Creates a new array of capacity n\n",
    "        \"\"\"\n",
    "        return (n * ctypes.py_object)()\n",
    "\n",
    "    def __getitem__(self, item_index):\n",
    "        \"\"\"\n",
    "        Return element at item_index\n",
    "        \"\"\"\n",
    "        if (item_index < 0) or (item_index >= self.n):\n",
    "            raise IndexError('index out of range!')\n",
    "        try:\n",
    "            x = self.array[item_index]\n",
    "        except ValueError:\n",
    "            x = None\n",
    "        return x\n",
    "\n",
    "    def __setitem__(self, item_index, item):\n",
    "        \"\"\"\n",
    "        Set element at item_index\n",
    "        \"\"\"\n",
    "        if (item_index < 0) or (item_index >= self.n):\n",
    "            raise IndexError('index out of range!')\n",
    "        self.array[item_index] = item\n",
    "\n",
    "    def __init__(self, n, values=None):\n",
    "        self.l = 0\n",
    "        self.n = n\n",
    "        self.array = self._create_array(self.n)\n",
    "        if values:\n",
    "            self.initialize_array(values)\n",
    "\n",
    "    def initialize_array(self, values):\n",
    "        \"\"\"\n",
    "        Initialize array\n",
    "        \"\"\"\n",
    "        if self.n != len(values):\n",
    "            raise ValueError(\"element count different than capacity\")\n",
    "        for item in values:\n",
    "            self.array[self.l] = item\n",
    "            self.l += 1\n",
    "\n",
    "    def list_array(self):\n",
    "        \"\"\"\n",
    "        List elements of the array\n",
    "        using list comprehension\n",
    "        \"\"\"\n",
    "        return \", \".join(str(x) if x is not None else '_' for x in self)\n",
    "\n",
    "    def list_array2(self):\n",
    "        y = []\n",
    "        for x in self:\n",
    "            if x is not None:\n",
    "                y.append(str(x))\n",
    "            else:\n",
    "                y.append('_')\n",
    "        return \", \".join(y)\n",
    "\n",
    "    def insert_to_tail(self, item):\n",
    "        \"\"\"\n",
    "        Add new item to the tail of the array\n",
    "        \"\"\"\n",
    "        if self.l == self.n:\n",
    "            raise ValueError(\"no more capacity\")\n",
    "        self.array[self.l] = item\n",
    "        self.l += 1\n",
    "\n",
    "    def insert_to_head(self, item):\n",
    "        \"\"\"\n",
    "        Add new item to the beginning of the array\n",
    "        \"\"\"\n",
    "        if self.l == self.n:\n",
    "            raise ValueError(\"no more capacity\")\n",
    "        i = self.l\n",
    "        while (i > 0):\n",
    "            self.array[i] = self.array[i-1]\n",
    "            i -= 1\n",
    "        self.array[0] = item\n",
    "        self.l += 1\n",
    "\n",
    "    def insert(self, index, element):\n",
    "        \"\"\"\n",
    "        implementation of insert\n",
    "        \"\"\"\n",
    "        if self.l == self.n:\n",
    "            raise ValueError(\"no more capacity\")\n",
    "        if (index < 0) or (index > self.l):\n",
    "            raise IndexError('index out of range!')\n",
    "        x = self.l\n",
    "        while x > index:\n",
    "            self.array[x] = self.array[x-1]\n",
    "            x -= 1\n",
    "        self.array[index] = element\n",
    "        self.l += 1\n",
    "\n",
    "    def delete_last_item(self):\n",
    "        \"\"\"\n",
    "        Delete last item of the array\n",
    "        \"\"\"\n",
    "        self.array[self.l-1] = None\n",
    "        self.l -= 1\n",
    "\n",
    "    def delete_first_item(self):\n",
    "        \"\"\"\n",
    "        Delete first item of the array\n",
    "        \"\"\"\n",
    "        self.array[self.l] = None\n",
    "        i=0\n",
    "        while (i!=self.l):\n",
    "            try:\n",
    "                self.array[i] = self.array[i+1]\n",
    "                i+=1\n",
    "            except:\n",
    "                return\n",
    "        self.l -=1\n",
    "\n",
    "\n",
    "    def delete_using_index(self,index):\n",
    "        \"\"\"\n",
    "        Delete item given by a certain index\n",
    "        \"\"\"\n",
    "        self.array[index] = None\n",
    "        i=index\n",
    "        while (i!=self.l):\n",
    "            try:\n",
    "                self.array[i] = self.array[i+1]\n",
    "                i+=1\n",
    "            except:\n",
    "                self.array[self.l-1] = None\n",
    "                self.l -=1\n",
    "                return\n",
    "        self.l -=1"
   ],
   "metadata": {
    "collapsed": false,
    "pycharm": {
     "name": "#%%\n"
    }
   }
  },
  {
   "cell_type": "markdown",
   "source": [
    "### NODE IMPLEMENTATION"
   ],
   "metadata": {
    "collapsed": false,
    "pycharm": {
     "name": "#%% md\n"
    }
   }
  },
  {
   "cell_type": "code",
   "execution_count": 159,
   "outputs": [],
   "source": [
    "class Node:\n",
    "    \"\"\"\n",
    "    Implementation of a node\n",
    "    \"\"\"\n",
    "    def __init__(self, val=None): #CONSTANT\n",
    "        self.val = val\n",
    "        self.next_node = None\n",
    "\n",
    "    def set_next_node(self, next_node): #CONSTANT\n",
    "        self.next_node = next_node"
   ],
   "metadata": {
    "collapsed": false,
    "pycharm": {
     "name": "#%%\n"
    }
   }
  },
  {
   "cell_type": "markdown",
   "source": [
    "### LINKED LIST IMPLEMENTATION"
   ],
   "metadata": {
    "collapsed": false,
    "pycharm": {
     "name": "#%% md\n"
    }
   }
  },
  {
   "cell_type": "code",
   "execution_count": 160,
   "outputs": [],
   "source": [
    "class Singly_linked_list:\n",
    "    \"\"\"\n",
    "    Implementation of a singly linked list\n",
    "    \"\"\"\n",
    "    def __init__(self, head_node=None): #CONSTANT\n",
    "        self.head_node = head_node\n",
    "\n",
    "    def list_traversed(self):\n",
    "        node = self.head_node\n",
    "        while node:\n",
    "            try:\n",
    "                print(node.val)\n",
    "                node = node.next_node\n",
    "            except:\n",
    "                print()\n",
    "\n",
    "    def insert_head(self, new_node): #CONSTANT\n",
    "        # insert to the head\n",
    "        # A -> B -> null\n",
    "        # R -> A -> B -> null\n",
    "        new_node.set_next_node(self.head_node)\n",
    "        self.head_node = new_node\n",
    "\n",
    "    def insert_tail(self, new_node):\n",
    "        # insert to the tail\n",
    "        # A -> B -> null\n",
    "        # A -> B -> R -> null\n",
    "        node = self.head_node\n",
    "        prev = None\n",
    "        while node:\n",
    "            prev = node\n",
    "            node = node.next_node\n",
    "        prev.set_next_node(new_node)\n",
    "\n",
    "    def insert_middle(self, new_node, value):\n",
    "        # insert in the middle\n",
    "        # A -> B -> C -> null\n",
    "        # A -> B -> R -> C -> null\n",
    "        node = self.head_node\n",
    "        while node.val != value:\n",
    "            node = node.next_node\n",
    "        if node:\n",
    "            new_node.set_next_node(node.next_node)\n",
    "            node.set_next_node(new_node)\n",
    "        else:\n",
    "            self.insert_tail(new_node)\n",
    "\n",
    "    def delete(self,value): #O(n)\n",
    "        node = self.head_node\n",
    "        prev = None\n",
    "\n",
    "        if node.val == value:\n",
    "            self.head_node = self.head_node.next_node\n",
    "            node.set_next_node(None)\n",
    "            return node.val\n",
    "\n",
    "\n",
    "        while node and node.val != value:\n",
    "            prev = node\n",
    "            if node.next_node != None:\n",
    "                node = node.next_node\n",
    "        if node:\n",
    "            prev.set_next_node(node.next_node)\n",
    "            node.set_next_node(None)\n",
    "        else:\n",
    "            raise ValueError('No value founded')\n",
    "\n",
    "    def reverse_list(self):\n",
    "        prev = None\n",
    "        now = self.head_node\n",
    "        while(now is not None):\n",
    "            next = now.next_node\n",
    "            now.next_node = prev\n",
    "            prev = now\n",
    "            now = next\n",
    "        self.head_node = prev"
   ],
   "metadata": {
    "collapsed": false,
    "pycharm": {
     "name": "#%%\n"
    }
   }
  },
  {
   "cell_type": "code",
   "execution_count": 161,
   "outputs": [],
   "source": [
    "def intersection(head1, head2):\n",
    "    while head2:\n",
    "        actualHead = head1\n",
    "        while actualHead:\n",
    "            if actualHead == head2:\n",
    "                return head2\n",
    "            actualHead = actualHead.next_node\n",
    "        head2 = head2.next_node\n",
    "    return None"
   ],
   "metadata": {
    "collapsed": false,
    "pycharm": {
     "name": "#%%\n"
    }
   }
  },
  {
   "cell_type": "code",
   "execution_count": 163,
   "outputs": [],
   "source": [
    "newNode = Node(10)\n",
    "head1 = newNode\n",
    "newNode = Node(3)\n",
    "head2 = newNode\n",
    "newNode = Node(6)\n",
    "head2.next_node = newNode\n",
    "newNode = Node(9)\n",
    "head2.next_node.next_node = newNode\n",
    "newNode = Node(15)\n",
    "head1.next_node = newNode\n",
    "head2.next_node.next_node.next_node = newNode\n",
    "newNode = Node(30)\n",
    "head1.next_node.next_node = newNode\n",
    "\n",
    "intersectionPoint = intersection(head1, head2)"
   ],
   "metadata": {
    "collapsed": false,
    "pycharm": {
     "name": "#%%\n"
    }
   }
  },
  {
   "cell_type": "code",
   "execution_count": 164,
   "outputs": [
    {
     "name": "stdout",
     "output_type": "stream",
     "text": [
      "15\n"
     ]
    }
   ],
   "source": [
    "print(intersectionPoint.val)"
   ],
   "metadata": {
    "collapsed": false,
    "pycharm": {
     "name": "#%%\n"
    }
   }
  },
  {
   "cell_type": "markdown",
   "source": [
    "### IMPLEMENTATION OF A QUEUE"
   ],
   "metadata": {
    "collapsed": false,
    "pycharm": {
     "name": "#%% md\n"
    }
   }
  },
  {
   "cell_type": "code",
   "execution_count": 141,
   "outputs": [],
   "source": [
    "import ctypes\n",
    "\n",
    "class Queue(object):\n",
    "    \"\"\"\n",
    "    Implementation of the queue data structure\n",
    "    \"\"\"\n",
    "    def __init__(self, n): #O(1)\n",
    "        self.l = 0 #O(1)\n",
    "        self.n = n #O(1)\n",
    "        self.isReverse = False #O(1)\n",
    "        self.queue = self._create_queue(self.n) #O(1)\n",
    "\n",
    "    def _create_queue(self, n):\n",
    "        \"\"\"\n",
    "        Creates a new stack of capacity n\n",
    "        \"\"\"\n",
    "        return Stack(n) #O(1)\n",
    "\n",
    "    def enqueue(self, item): #O(1)\n",
    "        \"\"\"\n",
    "        Add new item to the queue\n",
    "        \"\"\"\n",
    "        self.isReverse = False #O(1)\n",
    "        if self.l == self.n: #O(1)\n",
    "            raise ValueError(\"no more capacity\")\n",
    "        self.queue.push(item) #O(1)\n",
    "        self.l += 1 #O(1)\n",
    "\n",
    "    def reverse(self): #O(n)\n",
    "        if not self.isReverse:\n",
    "            newStack = Stack(self.n)\n",
    "            for i in range(self.l):\n",
    "                newStack.push(self.queue.pop())\n",
    "            self.queue = newStack\n",
    "        self.isReverse = True\n",
    "\n",
    "\n",
    "    def dequeue(self): #O(n)\n",
    "        \"\"\"\n",
    "        Remove an element from the queue\n",
    "        \"\"\"\n",
    "        if self.l == 0: #O(1)\n",
    "            raise ValueError(\"no more elements\")\n",
    "        self.reverse() #O(n)\n",
    "        self.l -= 1 #O(1)\n",
    "        return self.queue.pop() #O(1)\n",
    "\n",
    "\n",
    "\n",
    "    def first(self): #O(n)\n",
    "        \"\"\"\n",
    "        Show the first element of the queue\n",
    "        \"\"\"\n",
    "        self.reverse() #O(n)\n",
    "        return self.queue.top()  #O(1)\n",
    "\n",
    "    def full(self): #O(1)\n",
    "        \"\"\"\n",
    "        Is the queue full?\n",
    "        \"\"\"\n",
    "        if self.l == self.n: #O(1)\n",
    "            return True\n",
    "        return False\n",
    "\n",
    "    def empty(self): #O(1)\n",
    "        \"\"\"\n",
    "        Is the queue empty?\n",
    "        \"\"\"\n",
    "        if self.l == 0: #O(1)\n",
    "            return True\n",
    "        return False\n",
    "\n",
    "    def size(self): #O(1)\n",
    "        \"\"\"\n",
    "        Return size of the queue\n",
    "        \"\"\"\n",
    "        return self.l #O(1)\n",
    "\n"
   ],
   "metadata": {
    "collapsed": false,
    "pycharm": {
     "name": "#%%\n"
    }
   }
  },
  {
   "cell_type": "code",
   "execution_count": 280,
   "outputs": [],
   "source": [
    "import ctypes\n",
    "class Queue(object):\n",
    "\n",
    "    def __init__(self, n):\n",
    "        self.l = 0\n",
    "        self.n = n\n",
    "        self.queue = self._create_queue(self.n)\n",
    "\n",
    "    def _create_queue(self, n):\n",
    "        return (n * ctypes.py_object)()\n",
    "\n",
    "    def enqueue(self, item):\n",
    "        if self.l == self.n:\n",
    "            raise ValueError(\"no more capacity\")\n",
    "        self.queue[self.l] = item\n",
    "        self.l += 1\n",
    "\n",
    "    def dequeue(self):\n",
    "        c = self.queue[0]\n",
    "        for i in range(1,self.l):\n",
    "            self.queue[i-1] = self.queue[i]\n",
    "        self.queue[self.l - 1] = ctypes.py_object\n",
    "        self.l -= 1\n",
    "        return c\n",
    "\n",
    "    def first(self):\n",
    "        return self.queue[0]\n",
    "\n",
    "    def full(self):\n",
    "        if self.l == self.n:\n",
    "            return True\n",
    "        return False\n",
    "\n",
    "    def empty(self):\n",
    "        if self.l == 0:\n",
    "            return True\n",
    "        return False\n",
    "\n",
    "    def size(self):\n",
    "        return self.l"
   ],
   "metadata": {
    "collapsed": false,
    "pycharm": {
     "name": "#%%\n"
    }
   }
  },
  {
   "cell_type": "code",
   "execution_count": 281,
   "outputs": [],
   "source": [
    "# use queue to write a function that determines that when the numbers are grouped in pairs, they are consecutive.\n",
    "# For example:\n",
    "#- In the case of A = [1,2,9,8], the program should return True because (1,2) are consecutive numbers, as well as (9,8).\n",
    "# - In the case of B = [2, 2, 4, 5], the program returns False since (2,2) are not consecutive, although (4,5) are consecutive.\n",
    "\n",
    "def consecutive_pairs(A:Queue):\n",
    "    queue = A\n",
    "    while not queue.empty():\n",
    "        a = queue.dequeue()\n",
    "        b = queue.dequeue()\n",
    "        if abs(a-b) != 1:\n",
    "            return False\n",
    "    return True"
   ],
   "metadata": {
    "collapsed": false,
    "pycharm": {
     "name": "#%%\n"
    }
   }
  },
  {
   "cell_type": "code",
   "execution_count": 282,
   "outputs": [
    {
     "name": "stdout",
     "output_type": "stream",
     "text": [
      "True\n"
     ]
    }
   ],
   "source": [
    "A = Queue(4)\n",
    "A.enqueue(1)\n",
    "A.enqueue(2)\n",
    "A.enqueue(9)\n",
    "A.enqueue(8)\n",
    "print(consecutive_pairs(A))"
   ],
   "metadata": {
    "collapsed": false,
    "pycharm": {
     "name": "#%%\n"
    }
   }
  },
  {
   "cell_type": "code",
   "execution_count": 283,
   "outputs": [
    {
     "name": "stdout",
     "output_type": "stream",
     "text": [
      "False\n"
     ]
    }
   ],
   "source": [
    "A = Queue(4)\n",
    "A.enqueue(2)\n",
    "A.enqueue(2)\n",
    "A.enqueue(4)\n",
    "A.enqueue(5)\n",
    "print(consecutive_pairs(A))"
   ],
   "metadata": {
    "collapsed": false,
    "pycharm": {
     "name": "#%%\n"
    }
   }
  },
  {
   "cell_type": "code",
   "execution_count": 250,
   "outputs": [
    {
     "ename": "ValueError",
     "evalue": "PyObject is NULL",
     "output_type": "error",
     "traceback": [
      "\u001B[0;31m---------------------------------------------------------------------------\u001B[0m",
      "\u001B[0;31mValueError\u001B[0m                                Traceback (most recent call last)",
      "Cell \u001B[0;32mIn [250], line 1\u001B[0m\n\u001B[0;32m----> 1\u001B[0m \u001B[43mParentesis_duplicados\u001B[49m\u001B[43m(\u001B[49m\u001B[38;5;124;43m'\u001B[39;49m\u001B[38;5;124;43m((()))\u001B[39;49m\u001B[38;5;124;43m'\u001B[39;49m\u001B[43m)\u001B[49m\n",
      "Cell \u001B[0;32mIn [249], line 5\u001B[0m, in \u001B[0;36mParentesis_duplicados\u001B[0;34m(par)\u001B[0m\n\u001B[1;32m      3\u001B[0m \u001B[38;5;28;01mfor\u001B[39;00m i \u001B[38;5;129;01min\u001B[39;00m \u001B[38;5;28mrange\u001B[39m(\u001B[38;5;28mlen\u001B[39m(par)):\n\u001B[1;32m      4\u001B[0m     \u001B[38;5;28;01mif\u001B[39;00m par[i] \u001B[38;5;241m==\u001B[39m \u001B[38;5;124m'\u001B[39m\u001B[38;5;124m(\u001B[39m\u001B[38;5;124m'\u001B[39m:\n\u001B[0;32m----> 5\u001B[0m         \u001B[38;5;28;01mif\u001B[39;00m \u001B[43mmiStack\u001B[49m\u001B[38;5;241;43m.\u001B[39;49m\u001B[43mtop\u001B[49m\u001B[43m(\u001B[49m\u001B[43m)\u001B[49m \u001B[38;5;241m==\u001B[39m \u001B[38;5;124m'\u001B[39m\u001B[38;5;124m)\u001B[39m\u001B[38;5;124m'\u001B[39m:\n\u001B[1;32m      6\u001B[0m             \u001B[38;5;28;01mreturn\u001B[39;00m \u001B[38;5;28;01mTrue\u001B[39;00m\n\u001B[1;32m      7\u001B[0m         \u001B[38;5;28;01melse\u001B[39;00m:\n",
      "Cell \u001B[0;32mIn [243], line 25\u001B[0m, in \u001B[0;36mStack.top\u001B[0;34m(self)\u001B[0m\n\u001B[1;32m     24\u001B[0m \u001B[38;5;28;01mdef\u001B[39;00m \u001B[38;5;21mtop\u001B[39m(\u001B[38;5;28mself\u001B[39m):\n\u001B[0;32m---> 25\u001B[0m     \u001B[38;5;28;01mreturn\u001B[39;00m \u001B[38;5;28;43mself\u001B[39;49m\u001B[38;5;241;43m.\u001B[39;49m\u001B[43mstack\u001B[49m\u001B[43m[\u001B[49m\u001B[38;5;28;43mself\u001B[39;49m\u001B[38;5;241;43m.\u001B[39;49m\u001B[43ml\u001B[49m\u001B[38;5;241;43m-\u001B[39;49m\u001B[38;5;241;43m1\u001B[39;49m\u001B[43m]\u001B[49m\n",
      "\u001B[0;31mValueError\u001B[0m: PyObject is NULL"
     ]
    }
   ],
   "source": [
    "Parentesis_duplicados('((()))')"
   ],
   "metadata": {
    "collapsed": false,
    "pycharm": {
     "name": "#%%\n"
    }
   }
  },
  {
   "cell_type": "markdown",
   "source": [
    "### IMPLEMENTATION OF A PRIORITY QUEUE"
   ],
   "metadata": {
    "collapsed": false,
    "pycharm": {
     "name": "#%% md\n"
    }
   }
  },
  {
   "cell_type": "code",
   "execution_count": 142,
   "outputs": [],
   "source": [
    "import ctypes\n",
    "class PriorityQueue(object):\n",
    "    \"\"\"\n",
    "    Implementation of the queue data structure\n",
    "    \"\"\"\n",
    "\n",
    "    def __init__(self, n): #CONSTANT\n",
    "        self.l = 0 #CONSTANT\n",
    "        self.n = n #CONSTANT\n",
    "        self.queue = self._create_queue(self.n) #CONSTANT\n",
    "\n",
    "    def _create_queue(self, n): #CONSTANT\n",
    "        \"\"\"\n",
    "        Creates a new stack of capacity n\n",
    "        \"\"\"\n",
    "        return (n * ctypes.py_object)() #CONSTANT\n",
    "\n",
    "    def enqueue(self, item): #CONSTANT\n",
    "        \"\"\"\n",
    "        Add new item to the queue\n",
    "        \"\"\"\n",
    "        if self.l == self.n: #CONSTANT\n",
    "            raise ValueError(\"no more capacity\")\n",
    "        self.queue[self.l] = item #CONSTANT\n",
    "        self.l += 1 #CONSTANT\n",
    "\n",
    "\n",
    "\n",
    "\n",
    "    def insertionSort(self): #O(N^2)\n",
    "\n",
    "        \"\"\"\n",
    "        Delete item with the highest priority\n",
    "        \"\"\"\n",
    "        a = self.queue\n",
    "        for i in range(1, self.n): #N VECES\n",
    "            try:\n",
    "                key = a[i] # N VECES\n",
    "                j = i-1 #N VECES\n",
    "                while j >=0 and key < a[j] : #N VECES\n",
    "                        a[j+1] = a[j]  #N VECES\n",
    "                        j -= 1  #N VECES\n",
    "                a[j+1] = key  #N VECES\n",
    "            except:\n",
    "                continue\n",
    "        sortedList = (self.n * ctypes.py_object)()\n",
    "        for j in range(self.n): #N VECES\n",
    "            try:\n",
    "                sortedList[j]=a[j] #N VECES\n",
    "            except:\n",
    "                continue\n",
    "        self.queue = sortedList\n",
    "\n",
    "\n",
    "    def dequeue(self): #O(n^2)\n",
    "        \"\"\"\n",
    "        Delete item with the highest priority\n",
    "        \"\"\"\n",
    "        self.insertionSort() # SORTING ITEMS BEFORE DEQUEUE O(n^2)\n",
    "        newQueue = (self.n * ctypes.py_object)() #MEMORY O(N)\n",
    "        for i in range(self.l): #O(n)\n",
    "            newQueue[i]=self.queue[i]\n",
    "        self.queue = newQueue #CONSTANT\n",
    "        self.l -=1 #CONSTANT\n",
    "        return self.queue[self.l]\n",
    "\n",
    "\n",
    "    def size(self):  #CONSTANT\n",
    "        \"\"\"\n",
    "        Return size of the queue\n",
    "        \"\"\"\n",
    "        return self.l #CONSTANT\n",
    "\n",
    "    def first(self): #CONSTANT\n",
    "        \"\"\"\n",
    "        Show the first element of the queue\n",
    "        \"\"\"\n",
    "        return self.queue[0]\n",
    "\n",
    "    def traversed(self): #O(n)\n",
    "        \"\"\"\n",
    "        Show the first element of the queue\n",
    "        \"\"\"\n",
    "        cadena = ''\n",
    "        for i in range(self.l):\n",
    "            cadena += str(self.queue[i])\n",
    "        return cadena\n",
    "\n",
    "\n",
    "\n",
    "\n",
    "\n"
   ],
   "metadata": {
    "collapsed": false,
    "pycharm": {
     "name": "#%%\n"
    }
   }
  },
  {
   "cell_type": "markdown",
   "source": [
    "### IMPLEMENTATION OF A STACK"
   ],
   "metadata": {
    "collapsed": false,
    "pycharm": {
     "name": "#%% md\n"
    }
   }
  },
  {
   "cell_type": "code",
   "execution_count": 143,
   "outputs": [],
   "source": [
    "# We can use the same implementation we used for Arrays\n",
    "import ctypes\n",
    "class Stack(object):\n",
    "    \"\"\"\n",
    "    Implementation of the stack data structure\n",
    "    \"\"\"\n",
    "\n",
    "    def __init__(self, n):\n",
    "        self.l = 0\n",
    "        self.n = n\n",
    "        self.stack = self._create_stack(self.n)\n",
    "\n",
    "    def _create_stack(self, n):\n",
    "        \"\"\"\n",
    "        Creates a new stack of capacity n\n",
    "        \"\"\"\n",
    "        return (n * ctypes.py_object)()\n",
    "\n",
    "    def push(self, item):\n",
    "        \"\"\"\n",
    "        Add new item to the stack\n",
    "        \"\"\"\n",
    "        if self.l == self.n:\n",
    "            raise ValueError(\"no more capacity\")\n",
    "        self.stack[self.l] = item\n",
    "        self.l += 1\n",
    "\n",
    "    def pop(self):\n",
    "        \"\"\"\n",
    "        Remove an element from the stack\n",
    "        \"\"\"\n",
    "        # self.l = 0\n",
    "        # 0 is equivalent to False\n",
    "        # any number != 0 is True\n",
    "        if not self.l:\n",
    "            raise('stack is empty')\n",
    "        c = self.stack[self.l-1]\n",
    "        self.stack[self.l] = ctypes.py_object\n",
    "        self.l -= 1\n",
    "        return c\n",
    "\n",
    "    def top(self):\n",
    "        \"\"\"\n",
    "        Show the top element of the stack\n",
    "        \"\"\"\n",
    "        return self.stack[self.l-1]\n",
    "\n",
    "    def full(self):\n",
    "        \"\"\"\n",
    "        Is the stack full?\n",
    "        \"\"\"\n",
    "        return self.l == self.n\n",
    "        # if self.l == self.n:\n",
    "        #    return True\n",
    "        # return False\n",
    "\n",
    "    def empty(self):\n",
    "        \"\"\"\n",
    "        Is the stack empty?\n",
    "        \"\"\"\n",
    "        return self.l == 0\n",
    "        #if self.l == 0:\n",
    "        #    return True\n",
    "        #return False\n",
    "\n",
    "    def size(self):\n",
    "        \"\"\"\n",
    "        Return size of the stack\n",
    "        \"\"\"\n",
    "        return self.l\n",
    "\n",
    "    def getMax(self):\n",
    "        max = self.stack[0]\n",
    "        for i in range(self.l):\n",
    "            if self.stack[i] > max:\n",
    "                max = self.stack[i]\n",
    "        return max"
   ],
   "metadata": {
    "collapsed": false,
    "pycharm": {
     "name": "#%%\n"
    }
   }
  },
  {
   "cell_type": "code",
   "execution_count": 287,
   "outputs": [],
   "source": [
    "# Use stacks to write a function that determines that when the numbers are grouped in pairs, they are consecutive.\n",
    "# For example, if B = [1, 2, 9, 8], the program returns True since (1,2) and (9,8) are consecutive.\n",
    "# If B = [2, 2, 4, 5], the program returns False since (2,2) and (4,5) are not consecutive.\n",
    "def consecutive (A:Stack):\n",
    "    while A.l > 1:\n",
    "        a = A.pop()\n",
    "        b = A.pop()\n",
    "        if abs(a-b) != 1:\n",
    "            return False\n",
    "    return True\n",
    "\n",
    "\n",
    "\n"
   ],
   "metadata": {
    "collapsed": false,
    "pycharm": {
     "name": "#%%\n"
    }
   }
  },
  {
   "cell_type": "code",
   "execution_count": 288,
   "outputs": [
    {
     "ename": "IndexError",
     "evalue": "invalid index",
     "output_type": "error",
     "traceback": [
      "\u001B[0;31m---------------------------------------------------------------------------\u001B[0m",
      "\u001B[0;31mIndexError\u001B[0m                                Traceback (most recent call last)",
      "Cell \u001B[0;32mIn [288], line 6\u001B[0m\n\u001B[1;32m      4\u001B[0m A\u001B[38;5;241m.\u001B[39mpush(\u001B[38;5;241m9\u001B[39m)\n\u001B[1;32m      5\u001B[0m A\u001B[38;5;241m.\u001B[39mpush(\u001B[38;5;241m8\u001B[39m)\n\u001B[0;32m----> 6\u001B[0m \u001B[38;5;28mprint\u001B[39m(\u001B[43mconsecutive_pairs\u001B[49m\u001B[43m(\u001B[49m\u001B[43mA\u001B[49m\u001B[43m)\u001B[49m)\n",
      "Cell \u001B[0;32mIn [285], line 7\u001B[0m, in \u001B[0;36mconsecutive_pairs\u001B[0;34m(A)\u001B[0m\n\u001B[1;32m      5\u001B[0m stack \u001B[38;5;241m=\u001B[39m A\n\u001B[1;32m      6\u001B[0m \u001B[38;5;28;01mwhile\u001B[39;00m \u001B[38;5;129;01mnot\u001B[39;00m stack\u001B[38;5;241m.\u001B[39mempty():\n\u001B[0;32m----> 7\u001B[0m     a \u001B[38;5;241m=\u001B[39m \u001B[43mstack\u001B[49m\u001B[38;5;241;43m.\u001B[39;49m\u001B[43mpop\u001B[49m\u001B[43m(\u001B[49m\u001B[43m)\u001B[49m\n\u001B[1;32m      8\u001B[0m     b \u001B[38;5;241m=\u001B[39m stack\u001B[38;5;241m.\u001B[39mpop()\n\u001B[1;32m      9\u001B[0m     \u001B[38;5;28;01mif\u001B[39;00m \u001B[38;5;28mabs\u001B[39m(a\u001B[38;5;241m-\u001B[39mb) \u001B[38;5;241m!=\u001B[39m \u001B[38;5;241m1\u001B[39m:\n",
      "Cell \u001B[0;32mIn [243], line 20\u001B[0m, in \u001B[0;36mStack.pop\u001B[0;34m(self)\u001B[0m\n\u001B[1;32m     18\u001B[0m     \u001B[38;5;28;01mraise\u001B[39;00m(\u001B[38;5;124m'\u001B[39m\u001B[38;5;124mstack is empty\u001B[39m\u001B[38;5;124m'\u001B[39m)\n\u001B[1;32m     19\u001B[0m c \u001B[38;5;241m=\u001B[39m \u001B[38;5;28mself\u001B[39m\u001B[38;5;241m.\u001B[39mstack[\u001B[38;5;28mself\u001B[39m\u001B[38;5;241m.\u001B[39ml\u001B[38;5;241m-\u001B[39m\u001B[38;5;241m1\u001B[39m]\n\u001B[0;32m---> 20\u001B[0m \u001B[38;5;28;43mself\u001B[39;49m\u001B[38;5;241;43m.\u001B[39;49m\u001B[43mstack\u001B[49m\u001B[43m[\u001B[49m\u001B[38;5;28;43mself\u001B[39;49m\u001B[38;5;241;43m.\u001B[39;49m\u001B[43ml\u001B[49m\u001B[43m]\u001B[49m \u001B[38;5;241m=\u001B[39m ctypes\u001B[38;5;241m.\u001B[39mpy_object\n\u001B[1;32m     21\u001B[0m \u001B[38;5;28mself\u001B[39m\u001B[38;5;241m.\u001B[39ml \u001B[38;5;241m-\u001B[39m\u001B[38;5;241m=\u001B[39m \u001B[38;5;241m1\u001B[39m\n\u001B[1;32m     22\u001B[0m \u001B[38;5;28;01mreturn\u001B[39;00m c\n",
      "\u001B[0;31mIndexError\u001B[0m: invalid index"
     ]
    }
   ],
   "source": [
    "A = Stack(4)\n",
    "A.push(1)\n",
    "A.push(2)\n",
    "A.push(9)\n",
    "A.push(8)\n",
    "print(consecutive_pairs(A))"
   ],
   "metadata": {
    "collapsed": false,
    "pycharm": {
     "name": "#%%\n"
    }
   }
  },
  {
   "cell_type": "code",
   "execution_count": 238,
   "outputs": [],
   "source": [
    "#Write a function duplicatedParenthesis that determines that we have used duplicated parenthesis in a single expression. Return true or false\n",
    "def duplicated(parentesis):\n",
    "    stack = Stack(len(parentesis))\n",
    "    for i in range(len(parentesis)):\n",
    "        if parentesis[i] == ')':\n",
    "            if stack.top() == '(':\n",
    "                return True\n",
    "            else:\n",
    "                while stack.top() != '(':\n",
    "                    stack.pop()\n",
    "                stack.pop()\n",
    "        else:\n",
    "            stack.push(parentesis[i])\n",
    "    return False\n",
    "\n",
    "\n",
    "\n",
    "\n"
   ],
   "metadata": {
    "collapsed": false,
    "pycharm": {
     "name": "#%%\n"
    }
   }
  },
  {
   "cell_type": "code",
   "execution_count": 242,
   "outputs": [
    {
     "data": {
      "text/plain": "False"
     },
     "execution_count": 242,
     "metadata": {},
     "output_type": "execute_result"
    }
   ],
   "source": [
    "duplicated('(x+y)+(z+v)')"
   ],
   "metadata": {
    "collapsed": false,
    "pycharm": {
     "name": "#%%\n"
    }
   }
  },
  {
   "cell_type": "code",
   "execution_count": 254,
   "outputs": [],
   "source": [
    "def Parentesis_duplicados(par):\n",
    "    miStack = Stack(len(par))\n",
    "    for i in range(len(par)):\n",
    "        if par[i] == ')':\n",
    "            if miStack.top() == '(':\n",
    "                return True\n",
    "            else:\n",
    "                while miStack.top() != '(':\n",
    "                    miStack.pop()\n",
    "                miStack.pop()\n",
    "        else:\n",
    "            miStack.push(par[i])\n",
    "    return False\n",
    "\n"
   ],
   "metadata": {
    "collapsed": false,
    "pycharm": {
     "name": "#%%\n"
    }
   }
  },
  {
   "cell_type": "code",
   "execution_count": 255,
   "outputs": [
    {
     "data": {
      "text/plain": "False"
     },
     "execution_count": 255,
     "metadata": {},
     "output_type": "execute_result"
    }
   ],
   "source": [
    "Parentesis_duplicados('(a+b)+(c+d)')"
   ],
   "metadata": {
    "collapsed": false,
    "pycharm": {
     "name": "#%%\n"
    }
   }
  },
  {
   "cell_type": "code",
   "execution_count": 243,
   "outputs": [],
   "source": [
    "class Stack(object):\n",
    "    def __init__(self, n):\n",
    "        self.l = 0\n",
    "        self.n = n\n",
    "        self.stack = self._create_stack(self.n)\n",
    "\n",
    "    def _create_stack(self, n):\n",
    "        return (n * ctypes.py_object)()\n",
    "\n",
    "    def push(self, item):\n",
    "        if self.l == self.n:\n",
    "            raise ValueError(\"no more capacity\")\n",
    "        self.stack[self.l] = item\n",
    "        self.l += 1\n",
    "\n",
    "    def pop(self):\n",
    "        if not self.l:\n",
    "            raise('stack is empty')\n",
    "        c = self.stack[self.l-1]\n",
    "        self.stack[self.l] = ctypes.py_object\n",
    "        self.l -= 1\n",
    "        return c\n",
    "\n",
    "    def top(self):\n",
    "        return self.stack[self.l-1]\n",
    "\n",
    "    def full(self):\n",
    "        return self.l == self.n\n",
    "\n",
    "    def empty(self):\n",
    "        return self.l == 0\n",
    "\n",
    "\n",
    "    def size(self):\n",
    "        return self.l\n",
    "\n",
    "    def getMax(self):\n",
    "        max = self.stack[0]\n",
    "        for i in range(self.l):\n",
    "            if self.stack[i] > max:\n",
    "                max = self.stack[i]\n",
    "        return max\n",
    "\n",
    "\n",
    "def duplicated(parentesis):\n",
    "    stack = Stack(len(parentesis))\n",
    "    for i in range(len(parentesis)):\n",
    "        if parentesis[i] == ')':\n",
    "            if stack.top() == '(':\n",
    "                return True\n",
    "            else:\n",
    "                while stack.top() != '(':\n",
    "                    stack.pop()\n",
    "                stack.pop()\n",
    "        else:\n",
    "            stack.push(parentesis[i])\n",
    "    return False\n",
    "\n"
   ],
   "metadata": {
    "collapsed": false,
    "pycharm": {
     "name": "#%%\n"
    }
   }
  },
  {
   "cell_type": "code",
   "execution_count": 245,
   "outputs": [
    {
     "data": {
      "text/plain": "True"
     },
     "execution_count": 245,
     "metadata": {},
     "output_type": "execute_result"
    }
   ],
   "source": [
    "duplicated('((x+y))+((z+v))')"
   ],
   "metadata": {
    "collapsed": false,
    "pycharm": {
     "name": "#%%\n"
    }
   }
  },
  {
   "cell_type": "code",
   "execution_count": 153,
   "outputs": [],
   "source": [
    "class Stack(object):\n",
    "\n",
    "    def __init__(self, n):\n",
    "        self.l = 0\n",
    "        self.n = n\n",
    "        self.stack = self._create_stack(self.n)\n",
    "\n",
    "    def _create_stack(self, n):\n",
    "        return (n * ctypes.py_object)()\n",
    "\n",
    "    def push(self, item):\n",
    "        if self.l == self.n:\n",
    "            raise ValueError(\"no more capacity\")\n",
    "        self.stack[self.l] = item\n",
    "        self.l += 1\n",
    "\n",
    "    def pop(self):\n",
    "        if not self.l:\n",
    "            raise('stack is empty')\n",
    "        c = self.stack[self.l-1]\n",
    "        self.stack[self.l] = ctypes.py_object\n",
    "        self.l -= 1\n",
    "        return c\n",
    "\n",
    "    def top(self):\n",
    "        return self.stack[self.l-1]\n",
    "\n",
    "    def full(self):\n",
    "        return self.l == self.n\n",
    "\n",
    "\n",
    "    def empty(self):\n",
    "        return self.l == 0\n",
    "\n",
    "\n",
    "    def size(self):\n",
    "        return self.l\n",
    "\n",
    "    def getMax(self):\n",
    "        max = self.stack[0]\n",
    "        for i in range(self.l):\n",
    "            if self.stack[i] > max:\n",
    "                max = self.stack[i]\n",
    "        return max\n",
    "\n"
   ],
   "metadata": {
    "collapsed": false,
    "pycharm": {
     "name": "#%%\n"
    }
   }
  },
  {
   "cell_type": "code",
   "execution_count": 154,
   "outputs": [
    {
     "name": "stdout",
     "output_type": "stream",
     "text": [
      "12\n"
     ]
    }
   ],
   "source": [
    "s = Stack(10)\n",
    "s.push(1)\n",
    "s.push(12)\n",
    "s.push(3)\n",
    "s.push(4)\n",
    "s.push(10)\n",
    "\n",
    "print(s.getMax())"
   ],
   "metadata": {
    "collapsed": false,
    "pycharm": {
     "name": "#%%\n"
    }
   }
  },
  {
   "cell_type": "markdown",
   "source": [
    "### IMPLEMENTATION OF A DOUBLY LINKED LIST"
   ],
   "metadata": {
    "collapsed": false,
    "pycharm": {
     "name": "#%% md\n"
    }
   }
  },
  {
   "cell_type": "code",
   "execution_count": 145,
   "outputs": [],
   "source": [
    "class Node:\n",
    "    \"\"\"\n",
    "    Implementation of a node\n",
    "    \"\"\"\n",
    "    def __init__(self, val=None):\n",
    "        self.val = val\n",
    "        self.next_node = None\n",
    "        self.prev_node = None\n",
    "\n",
    "class Doubly_linked_list:\n",
    "    \"\"\"\n",
    "    Implementation of a singly linked list\n",
    "    \"\"\"\n",
    "    def __init__(self, head_node=None):\n",
    "        self.head_node = head_node\n",
    "\n",
    "    def list_traversed(self):\n",
    "        node = self.head_node\n",
    "        while node:\n",
    "            print(node.val)\n",
    "            node = node.next_node\n",
    "\n",
    "    def insert_at_start(self, data):\n",
    "        \"\"\"\n",
    "        Insert a node at the start of the list\n",
    "        \"\"\"\n",
    "        if self.head_node is None:\n",
    "            new_node = Node(data)\n",
    "            self.head_node = new_node\n",
    "            return\n",
    "        new_node = Node(data)\n",
    "        new_node.next_node = self.head_node\n",
    "        self.head_node.prev_node = new_node\n",
    "        self.head_node = new_node\n",
    "\n",
    "    def insert_at_end(self, data):\n",
    "        \"\"\"\n",
    "        Insert a node at the end of the list\n",
    "        \"\"\"\n",
    "        if self.head_node is None:\n",
    "            new_node = Node(data)\n",
    "            self.head_node = new_node\n",
    "            return\n",
    "        node = self.head_node\n",
    "        while node.next_node:\n",
    "            node = node.next_node\n",
    "        new_node = Node(data)\n",
    "        new_node.prev_node = node\n",
    "        node.next_node = new_node\n",
    "\n",
    "    def insert_after_node(self, value, data):\n",
    "        \"\"\"\n",
    "        Insert a node after a given node\n",
    "        \"\"\"\n",
    "        if self.head_node is None:\n",
    "            new_node = Node(data)\n",
    "            self.head_node = new_node\n",
    "            return\n",
    "        n = self.head_node\n",
    "        while n.next_node:\n",
    "            if n.val == value:\n",
    "                break\n",
    "            n = n.next_node\n",
    "        if not n:\n",
    "            raise ValueError(\"node not found\")\n",
    "\n",
    "        new_node = Node(data)\n",
    "        new_node.next_node = n.next_node\n",
    "        n.next_node.prev_node = new_node\n",
    "        n.next_node = new_node\n",
    "        new_node.prev_node = n\n",
    "\n",
    "    def insert_before_node(self, value, data):\n",
    "        \"\"\"\n",
    "        Insert a node before a given node\n",
    "        \"\"\"\n",
    "        if self.head_node is None:\n",
    "            new_node = Node(data)\n",
    "            self.head_node = new_node\n",
    "            return\n",
    "        n = self.head_node\n",
    "        while n.next_node:\n",
    "            if n.val == value:\n",
    "                break\n",
    "            n = n.next_node\n",
    "        if not n:\n",
    "            raise ValueError(\"node not found\")\n",
    "\n",
    "        new_node = Node(data)\n",
    "        new_node.prev_node = n.prev_node\n",
    "        n.prev_node = new_node\n",
    "        new_node.next_node = n\n",
    "        new_node.prev_node.next_node = new_node\n",
    "\n",
    "    def delete_head_node(self):\n",
    "        self.head_node = self.head_node.next_node\n",
    "        self.head_node.prev_node.next_node = None\n",
    "        self.head_node.prev_node = None\n",
    "\n",
    "    def delete_tail_node(self):\n",
    "        n = self.head_node\n",
    "        while n.next_node:\n",
    "            if n.next_node == None:\n",
    "                n.prev_node.next_node = None\n",
    "                return\n",
    "            n = n.next_node\n",
    "        if not n:\n",
    "            raise ValueError(\"node not found\")\n",
    "\n",
    "\n",
    "    def delete_by_value(self,value):\n",
    "        n = self.head_node\n",
    "        while n.next_node:\n",
    "            if n.val == value:\n",
    "                n.prev_node.next_node = n.next_node\n",
    "                n.next_node.prev_node = n.prev_node\n",
    "                return\n",
    "            n = n.next_node\n",
    "        if not n:\n",
    "            raise ValueError(\"node not found\")\n"
   ],
   "metadata": {
    "collapsed": false,
    "pycharm": {
     "name": "#%%\n"
    }
   }
  },
  {
   "cell_type": "markdown",
   "source": [
    "### RECURSION\n",
    "\n",
    "## Time complexity\n",
    "\n",
    "The time complexity of a recursion algorithm is usually the product of the number of recursion invocations $R$ and the complexity of each recursion call $O(s)$:\n",
    "\n",
    "$O(T) = R \\times O(s)$"
   ],
   "metadata": {
    "collapsed": false,
    "pycharm": {
     "name": "#%% md\n"
    }
   }
  },
  {
   "cell_type": "markdown",
   "source": [
    "### IMPLEMENTATION OF A TREE"
   ],
   "metadata": {
    "collapsed": false,
    "pycharm": {
     "name": "#%% md\n"
    }
   }
  },
  {
   "cell_type": "code",
   "execution_count": 146,
   "outputs": [],
   "source": [
    "class TreeNode:\n",
    "    def __init__(self, val=0, left=None, right=None):\n",
    "        self.val = val\n",
    "        self.left = left\n",
    "        self.right = right"
   ],
   "metadata": {
    "collapsed": false,
    "pycharm": {
     "name": "#%%\n"
    }
   }
  },
  {
   "cell_type": "markdown",
   "source": [
    "### Pre-order Traversal\n",
    "\n",
    "- Visit the root first\n",
    "- Then traverse the left subtree\n",
    "- Finally, traverse the right subtree"
   ],
   "metadata": {
    "collapsed": false,
    "pycharm": {
     "name": "#%% md\n"
    }
   }
  },
  {
   "cell_type": "code",
   "execution_count": 147,
   "outputs": [],
   "source": [
    "\n",
    "\n",
    "def preorderTraversal(root):\n",
    "\n",
    "    if root is None:\n",
    "        return []\n",
    "    stack = [root]\n",
    "    out = []\n",
    "\n",
    "    while stack:\n",
    "        node = stack.pop()\n",
    "        if node:\n",
    "            out.append(node.val)\n",
    "            for child in [node.right, node.left]:\n",
    "                if child:\n",
    "                    stack.append(child)\n",
    "    return out"
   ],
   "metadata": {
    "collapsed": false,
    "pycharm": {
     "name": "#%%\n"
    }
   }
  },
  {
   "cell_type": "markdown",
   "source": [
    "### In-order Traversal\n",
    "\n",
    "- Traverse the left subtree first\n",
    "- Then visit the root\n",
    "- Finally, traverse the right subtree"
   ],
   "metadata": {
    "collapsed": false,
    "pycharm": {
     "name": "#%% md\n"
    }
   }
  },
  {
   "cell_type": "code",
   "execution_count": 148,
   "outputs": [],
   "source": [
    "# Implementation using recursion\n",
    "def inorderTraversalrec(root):\n",
    "\n",
    "    if root is None:\n",
    "        return []\n",
    "\n",
    "    out = inorderTraversalrec(root.left)\n",
    "    out += [root.val]\n",
    "    out += inorderTraversalrec(root.right)\n",
    "\n",
    "    return out"
   ],
   "metadata": {
    "collapsed": false,
    "pycharm": {
     "name": "#%%\n"
    }
   }
  },
  {
   "cell_type": "markdown",
   "source": [
    "### Post-order Traversal\n",
    "- Traverse the left subtree first\n",
    "- Then traverse the right subtree\n",
    "- Finally, visit the root"
   ],
   "metadata": {
    "collapsed": false,
    "pycharm": {
     "name": "#%% md\n"
    }
   }
  },
  {
   "cell_type": "code",
   "execution_count": 149,
   "outputs": [],
   "source": [
    "# Implementation using recursion\n",
    "def postorderTraversalrec(root):\n",
    "\n",
    "    if root is None:\n",
    "        return []\n",
    "\n",
    "    out = postorderTraversalrec(root.left)\n",
    "    out += postorderTraversalrec(root.right)\n",
    "    out += [root.val]\n",
    "\n",
    "    return out"
   ],
   "metadata": {
    "collapsed": false,
    "pycharm": {
     "name": "#%%\n"
    }
   }
  },
  {
   "cell_type": "code",
   "execution_count": 150,
   "outputs": [],
   "source": [
    "def max_depth_rec(root, depth):\n",
    "    global answer\n",
    "    if not root:\n",
    "        return\n",
    "    if (not root.left) and (not root.right):\n",
    "        answer = max(answer, depth)\n",
    "    max_depth_rec(root.left, depth + 1)\n",
    "    max_depth_rec(root.right, depth + 1)"
   ],
   "metadata": {
    "collapsed": false,
    "pycharm": {
     "name": "#%%\n"
    }
   }
  },
  {
   "cell_type": "code",
   "execution_count": 151,
   "outputs": [],
   "source": [
    "class Node:\n",
    "    def __init__(self, val=0, left=None, right=None):\n",
    "        self.val = val\n",
    "        self.left = None\n",
    "        self.right = None\n",
    "\n",
    "def search_BST(root, val):\n",
    "    if root is None or val == root.val:\n",
    "        node = root\n",
    "    elif val < root.val:\n",
    "        node = search_BST(root.left, val)\n",
    "    else:\n",
    "        node = search_BST(root.right, val)\n",
    "    return node"
   ],
   "metadata": {
    "collapsed": false,
    "pycharm": {
     "name": "#%%\n"
    }
   }
  },
  {
   "cell_type": "code",
   "execution_count": 152,
   "outputs": [],
   "source": [
    "def insert_BST(root, val):\n",
    "    if not root:\n",
    "        return Node(val)\n",
    "\n",
    "    if val > root.val:\n",
    "        root.right = insert_BST(root.right, val)\n",
    "    else:\n",
    "        root.left = insert_BST(root.left, val)\n",
    "    return root"
   ],
   "metadata": {
    "collapsed": false,
    "pycharm": {
     "name": "#%%\n"
    }
   }
  },
  {
   "cell_type": "code",
   "execution_count": 152,
   "outputs": [],
   "source": [],
   "metadata": {
    "collapsed": false,
    "pycharm": {
     "name": "#%%\n"
    }
   }
  },
  {
   "cell_type": "code",
   "execution_count": null,
   "outputs": [],
   "source": [],
   "metadata": {
    "collapsed": false,
    "pycharm": {
     "name": "#%%\n"
    }
   }
  },
  {
   "cell_type": "code",
   "execution_count": 192,
   "outputs": [],
   "source": [
    "# Given any two values a and b in X, let's define the absolute difference of these two numbers as |a-b|. Write a program using recursion to find the pair of values in X, such that their absolute difference is the smallest.\n",
    "# return a and b USE RECURSION\n",
    "\n",
    "\n",
    "\n",
    "\n",
    "\n",
    "\n",
    "def diff(X):\n",
    "    if len(X) == 2:\n",
    "        return X[0], X[1]\n",
    "    else:\n",
    "        a, b = diff(X[1:])\n",
    "        if abs(X[0]-a) < abs(X[0]-b):\n",
    "            return X[0], a\n",
    "        else:\n",
    "            return X[0], b\n",
    "\n",
    "# q: whats the complexity?\n",
    "# r: O(n)\n",
    "\n",
    "def find_min_diff(X):\n",
    "    X.sort()\n",
    "    min_diff = float('inf')\n",
    "    min_a = None\n",
    "    min_b = None\n",
    "    for i in range(1, len(X)):\n",
    "        if X[i] - X[i-1] < min_diff:\n",
    "            min_diff = X[i] - X[i-1]\n",
    "            min_a = X[i-1]\n",
    "            min_b = X[i]\n",
    "    return min_a, min_b\n",
    "\n",
    "# q: whats the complexity?\n",
    "# r: O(nlogn)\n"
   ],
   "metadata": {
    "collapsed": false,
    "pycharm": {
     "name": "#%%\n"
    }
   }
  },
  {
   "cell_type": "code",
   "execution_count": 193,
   "outputs": [
    {
     "data": {
      "text/plain": "(1, 2)"
     },
     "execution_count": 193,
     "metadata": {},
     "output_type": "execute_result"
    }
   ],
   "source": [
    "a = [2,1,4]\n",
    "find_min_diff(a)"
   ],
   "metadata": {
    "collapsed": false,
    "pycharm": {
     "name": "#%%\n"
    }
   }
  },
  {
   "cell_type": "code",
   "execution_count": 205,
   "outputs": [],
   "source": [
    "\n",
    "\n"
   ],
   "metadata": {
    "collapsed": false,
    "pycharm": {
     "name": "#%%\n"
    }
   }
  },
  {
   "cell_type": "code",
   "execution_count": 206,
   "outputs": [
    {
     "ename": "TypeError",
     "evalue": "object of type 'Stack' has no len()",
     "output_type": "error",
     "traceback": [
      "\u001B[0;31m---------------------------------------------------------------------------\u001B[0m",
      "\u001B[0;31mTypeError\u001B[0m                                 Traceback (most recent call last)",
      "Cell \u001B[0;32mIn [206], line 7\u001B[0m\n\u001B[1;32m      4\u001B[0m s\u001B[38;5;241m.\u001B[39mpush(\u001B[38;5;241m8\u001B[39m)\n\u001B[1;32m      5\u001B[0m s\u001B[38;5;241m.\u001B[39mpush(\u001B[38;5;241m9\u001B[39m)\n\u001B[0;32m----> 7\u001B[0m \u001B[43mconsecutive\u001B[49m\u001B[43m(\u001B[49m\u001B[43ms\u001B[49m\u001B[43m)\u001B[49m\n",
      "Cell \u001B[0;32mIn [205], line 9\u001B[0m, in \u001B[0;36mconsecutive\u001B[0;34m(A)\u001B[0m\n\u001B[1;32m      8\u001B[0m \u001B[38;5;28;01mdef\u001B[39;00m \u001B[38;5;21mconsecutive\u001B[39m(A):\n\u001B[0;32m----> 9\u001B[0m     \u001B[38;5;28;01mif\u001B[39;00m \u001B[38;5;28;43mlen\u001B[39;49m\u001B[43m(\u001B[49m\u001B[43mA\u001B[49m\u001B[43m)\u001B[49m \u001B[38;5;241m==\u001B[39m \u001B[38;5;241m0\u001B[39m:\n\u001B[1;32m     10\u001B[0m         \u001B[38;5;28;01mreturn\u001B[39;00m \u001B[38;5;28;01mTrue\u001B[39;00m\n\u001B[1;32m     11\u001B[0m     \u001B[38;5;28;01mif\u001B[39;00m \u001B[38;5;28mlen\u001B[39m(A) \u001B[38;5;241m%\u001B[39m \u001B[38;5;241m2\u001B[39m \u001B[38;5;241m!=\u001B[39m \u001B[38;5;241m0\u001B[39m:\n",
      "\u001B[0;31mTypeError\u001B[0m: object of type 'Stack' has no len()"
     ]
    }
   ],
   "source": [
    "s = Stack(4)\n",
    "s.push(1)\n",
    "s.push(2)\n",
    "s.push(8)\n",
    "s.push(9)\n"
   ],
   "metadata": {
    "collapsed": false,
    "pycharm": {
     "name": "#%%\n"
    }
   }
  },
  {
   "cell_type": "code",
   "execution_count": 197,
   "outputs": [
    {
     "data": {
      "text/plain": "False"
     },
     "execution_count": 197,
     "metadata": {},
     "output_type": "execute_result"
    }
   ],
   "source": [],
   "metadata": {
    "collapsed": false,
    "pycharm": {
     "name": "#%%\n"
    }
   }
  },
  {
   "cell_type": "code",
   "execution_count": null,
   "outputs": [],
   "source": [
    "|"
   ],
   "metadata": {
    "collapsed": false,
    "pycharm": {
     "name": "#%%\n"
    }
   }
  }
 ],
 "metadata": {
  "kernelspec": {
   "display_name": "Python 3",
   "language": "python",
   "name": "python3"
  },
  "language_info": {
   "codemirror_mode": {
    "name": "ipython",
    "version": 2
   },
   "file_extension": ".py",
   "mimetype": "text/x-python",
   "name": "python",
   "nbconvert_exporter": "python",
   "pygments_lexer": "ipython2",
   "version": "2.7.6"
  }
 },
 "nbformat": 4,
 "nbformat_minor": 0
}