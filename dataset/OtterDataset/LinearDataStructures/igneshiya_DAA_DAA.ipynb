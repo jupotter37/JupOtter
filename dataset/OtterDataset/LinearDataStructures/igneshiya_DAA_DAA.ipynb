{
  "nbformat": 4,
  "nbformat_minor": 0,
  "metadata": {
    "colab": {
      "provenance": []
    },
    "kernelspec": {
      "name": "python3",
      "display_name": "Python 3"
    },
    "language_info": {
      "name": "python"
    }
  },
  "cells": [
    {
      "cell_type": "markdown",
      "source": [
        "#Implement the following DS in Python, Upload the code on GitHub and share your GitHub Link here.\n",
        "1. Stack Using Array\n",
        "2. Stack using Linked List\n",
        "3. Queue using Array\n",
        "4. Queue using Linked List\n",
        "5. Priority Queue\n",
        "6. Circular Queue"
      ],
      "metadata": {
        "id": "h2NStgevm6ZS"
      }
    },
    {
      "cell_type": "markdown",
      "source": [
        "#1. Stack Using Array\n",
        "\n"
      ],
      "metadata": {
        "id": "yfryZRrrm_9O"
      }
    },
    {
      "cell_type": "code",
      "execution_count": null,
      "metadata": {
        "id": "ZQ2J-fWdmz4D"
      },
      "outputs": [],
      "source": [
        "class StackArray:\n",
        "    def __init__(self):\n",
        "        self.items = []\n",
        "\n",
        "    def is_empty(self):\n",
        "        return len(self.items) == 0\n",
        "\n",
        "    def push(self, item):\n",
        "        self.items.append(item)\n",
        "\n",
        "    def pop(self):\n",
        "        if not self.is_empty():\n",
        "            return self.items.pop()\n",
        "\n",
        "    def peek(self):\n",
        "        if not self.is_empty():\n",
        "            return self.items[-1]\n",
        "\n",
        "    def size(self):\n",
        "        return len(self.items)\n"
      ]
    },
    {
      "cell_type": "markdown",
      "source": [
        "#2. Stack Using Linked List\n"
      ],
      "metadata": {
        "id": "cxIlnXIInEkb"
      }
    },
    {
      "cell_type": "code",
      "source": [
        "class Node:\n",
        "    def __init__(self, data=None):\n",
        "        self.data = data\n",
        "        self.next = None\n",
        "\n",
        "class StackLinkedList:\n",
        "    def __init__(self):\n",
        "        self.top = None\n",
        "\n",
        "    def is_empty(self):\n",
        "        return self.top is None\n",
        "\n",
        "    def push(self, item):\n",
        "        new_node = Node(item)\n",
        "        new_node.next = self.top\n",
        "        self.top = new_node\n",
        "\n",
        "    def pop(self):\n",
        "        if not self.is_empty():\n",
        "            popped = self.top.data\n",
        "            self.top = self.top.next\n",
        "            return popped\n",
        "\n",
        "    def peek(self):\n",
        "        if not self.is_empty():\n",
        "            return self.top.data\n",
        "\n",
        "    def size(self):\n",
        "        count = 0\n",
        "        current = self.top\n",
        "        while current:\n",
        "            count += 1\n",
        "            current = current.next\n",
        "        return count\n"
      ],
      "metadata": {
        "id": "LF1j4_1HnCvw"
      },
      "execution_count": null,
      "outputs": []
    },
    {
      "cell_type": "markdown",
      "source": [
        "# 3. Queue Using Array\n"
      ],
      "metadata": {
        "id": "RKZmj3NqnK6G"
      }
    },
    {
      "cell_type": "code",
      "source": [
        "class QueueArray:\n",
        "    def __init__(self):\n",
        "        self.items = []\n",
        "\n",
        "    def is_empty(self):\n",
        "        return len(self.items) == 0\n",
        "\n",
        "    def enqueue(self, item):\n",
        "        self.items.append(item)\n",
        "\n",
        "    def dequeue(self):\n",
        "        if not self.is_empty():\n",
        "            return self.items.pop(0)\n",
        "\n",
        "    def front(self):\n",
        "        if not self.is_empty():\n",
        "            return self.items[0]\n",
        "\n",
        "    def size(self):\n",
        "        return len(self.items)\n"
      ],
      "metadata": {
        "id": "gJrFiFLJnJR2"
      },
      "execution_count": null,
      "outputs": []
    },
    {
      "cell_type": "markdown",
      "source": [
        "#4. Queue Using Linked List\n"
      ],
      "metadata": {
        "id": "oHnCu-wAnPi2"
      }
    },
    {
      "cell_type": "code",
      "source": [
        "class Node:\n",
        "    def __init__(self, data):\n",
        "        self.data = data\n",
        "        self.next = None\n",
        "\n",
        "class QueueLinkedList:\n",
        "    def __init__(self):\n",
        "        self.front = None\n",
        "        self.rear = None\n",
        "\n",
        "    def is_empty(self):\n",
        "        return self.front is None\n",
        "\n",
        "    def enqueue(self, item):\n",
        "        new_node = Node(item)\n",
        "        if self.is_empty():\n",
        "            self.front = new_node\n",
        "            self.rear = new_node\n",
        "        else:\n",
        "            self.rear.next = new_node\n",
        "            self.rear = new_node\n",
        "\n",
        "    def dequeue(self):\n",
        "        if not self.is_empty():\n",
        "            dequeued = self.front.data\n",
        "            self.front = self.front.next\n",
        "            if self.front is None:\n",
        "                self.rear = None\n",
        "            return dequeued\n",
        "        else:\n",
        "            print(\"Queue is empty\")\n",
        "\n",
        "    def peek(self):\n",
        "        if not self.is_empty():\n",
        "            return self.front.data\n",
        "        else:\n",
        "            print(\"Queue is empty\")\n",
        "\n",
        "    def size(self):\n",
        "        current = self.front\n",
        "        count = 0\n",
        "        while current:\n",
        "            count += 1\n",
        "            current = current.next\n",
        "        return count\n",
        "\n",
        "\n"
      ],
      "metadata": {
        "id": "MpZEjYKgnNqe"
      },
      "execution_count": null,
      "outputs": []
    },
    {
      "cell_type": "markdown",
      "source": [
        "#5. Priority Queue:\n"
      ],
      "metadata": {
        "id": "EOu2FvqjqLNy"
      }
    },
    {
      "cell_type": "code",
      "source": [
        "import heapq\n",
        "\n",
        "class PriorityQueue:\n",
        "    def __init__(self):\n",
        "        self.heap = []\n",
        "\n",
        "    def is_empty(self):\n",
        "        return len(self.heap) == 0\n",
        "\n",
        "    def enqueue(self, item, priority):\n",
        "        heapq.heappush(self.heap, (priority, item))\n",
        "\n",
        "    def dequeue(self):\n",
        "        if not self.is_empty():\n",
        "            priority, item = heapq.heappop(self.heap)\n",
        "            return item\n",
        "        else:\n",
        "            print(\"Priority Queue is empty\")\n",
        "\n",
        "    def peek(self):\n",
        "        if not self.is_empty():\n",
        "            return self.heap[0][1]\n",
        "        else:\n",
        "            print(\"Priority Queue is empty\")\n",
        "\n",
        "    def size(self):\n",
        "        return len(self.heap)\n",
        "\n",
        "\n"
      ],
      "metadata": {
        "id": "-dpkCbJgprnZ"
      },
      "execution_count": null,
      "outputs": []
    },
    {
      "cell_type": "markdown",
      "source": [
        "#6. Circular Queue:\n"
      ],
      "metadata": {
        "id": "mKH8_hc1qODK"
      }
    },
    {
      "cell_type": "code",
      "source": [
        "class CircularQueue:\n",
        "    def __init__(self, capacity):\n",
        "        self.capacity = capacity\n",
        "        self.queue = [None] * capacity\n",
        "        self.front = self.rear = -1\n",
        "\n",
        "    def is_empty(self):\n",
        "        return self.front == self.rear == -1\n",
        "\n",
        "    def is_full(self):\n",
        "        return (self.rear + 1) % self.capacity == self.front\n",
        "\n",
        "    def enqueue(self, item):\n",
        "        if self.is_full():\n",
        "            print(\"Circular Queue is full\")\n",
        "        else:\n",
        "            if self.is_empty():\n",
        "                self.front = self.rear = 0\n",
        "            else:\n",
        "                self.rear = (self.rear + 1) % self.capacity\n",
        "            self.queue[self.rear] = item\n",
        "\n",
        "    def dequeue(self):\n",
        "        if self.is_empty():\n",
        "            print(\"Circular Queue is empty\")\n",
        "        else:\n",
        "            dequeued_item = self.queue[self.front]\n",
        "            if self.front == self.rear:\n",
        "                self.front = self.rear = -1\n",
        "            else:\n",
        "                self.front = (self.front + 1) % self.capacity\n",
        "            return dequeued_item\n",
        "\n",
        "    def peek(self):\n",
        "        if not self.is_empty():\n",
        "            return self.queue[self.front]\n",
        "        else:\n",
        "            print(\"Circular Queue is empty\")\n",
        "\n",
        "    def size(self):\n",
        "        if self.is_empty():\n",
        "            return 0\n",
        "        elif self.front <= self.rear:\n",
        "            return self.rear - self.front + 1\n",
        "        else:\n",
        "            return self.capacity - self.front + self.rear + 1\n",
        "\n",
        "\n"
      ],
      "metadata": {
        "id": "8jTX0TrXqO1_"
      },
      "execution_count": null,
      "outputs": []
    },
    {
      "cell_type": "code",
      "source": [],
      "metadata": {
        "id": "ipDB3WPMqZFh"
      },
      "execution_count": null,
      "outputs": []
    }
  ]
}