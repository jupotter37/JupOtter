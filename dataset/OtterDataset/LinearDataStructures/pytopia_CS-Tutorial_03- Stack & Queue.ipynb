{
 "cells": [
  {
   "cell_type": "markdown",
   "metadata": {},
   "source": [
    "# 03-  Stack & Queue"
   ]
  },
  {
   "cell_type": "markdown",
   "metadata": {},
   "source": [
    "## 3.1 Stack"
   ]
  },
  {
   "cell_type": "markdown",
   "metadata": {},
   "source": [
    "A stack uses LIFO (last-in first-out) ordering. As in the stack of dinner plates, the most recent item added to the stack is the first item to be removed."
   ]
  },
  {
   "cell_type": "markdown",
   "metadata": {},
   "source": [
    "It uses the following operations:\n",
    "- `pop()`: Remove the top item from the stack.\n",
    "- `push()`: Add an item to the top of the stack.\n",
    "- `peek()`: Return the top of the stack.\n",
    "- `isEmpty()`: Return true if and only if the stack is empty."
   ]
  },
  {
   "cell_type": "markdown",
   "metadata": {},
   "source": [
    "### Stacks vs. Array\n",
    "- An array is a contiguous block of memory. A stack is a first-in-last-out data structure with access only to the top of the data. In stack we lose the ability of constant-time access to the ith item. However, it allows constant time add and removes as it doesn't require shifting elements around.\n",
    "- Since many languages do not provide facility for stack, it is backed by either arrays or linked list.\n",
    "- In arrays, the values can be added or deleted on any side, but in stack the other side is sealed."
   ]
  },
  {
   "cell_type": "markdown",
   "metadata": {},
   "source": [
    "![array](./images/stack.jpg)"
   ]
  },
  {
   "cell_type": "markdown",
   "metadata": {},
   "source": [
    "## 3.2 Queue\n",
    "A queue implements FIFO (first-in first-out) ordering."
   ]
  },
  {
   "cell_type": "markdown",
   "metadata": {},
   "source": [
    "It uses the following operations:\n",
    "- `add(item)`: Add an item to the end of the list.\n",
    "- `remove()`: Remove the first item in the list.\n",
    "- `peek()`: Return the top of the queue.\n",
    "- `isEmpty()`: Return true if and only if the queue is empty."
   ]
  },
  {
   "cell_type": "markdown",
   "metadata": {},
   "source": [
    "A queue can be implemented with a linked list. In fact, they are essentially the same thing as long as items are added and removed from opposite sides."
   ]
  },
  {
   "cell_type": "markdown",
   "metadata": {},
   "source": [
    "|Data Structure|Time Complexity||||||||Space Complexity|\n",
    "|:--|:--|:--|:--|:--|:--|:--|:--|:--|:--|\n",
    "||Average||||Worst||||\n",
    "||Access|Search|Insertion|Deletion|Access|Search|Insertion|Deletion|\n",
    "|Stack|O(n)|O(n)|O(1)|O(1)|O(n)|O(n)|O(1)|O(1)|O(n)|\n",
    "|Queue|O(n)|O(n)|O(1)|O(1)|O(n)|O(n)|O(1)|O(1)|O(n)|"
   ]
  },
  {
   "cell_type": "markdown",
   "metadata": {},
   "source": [
    "## Stack & Queue in python"
   ]
  },
  {
   "cell_type": "markdown",
   "metadata": {},
   "source": [
    "### the `list` Built-in"
   ]
  },
  {
   "cell_type": "markdown",
   "metadata": {},
   "source": [
    "Python’s built-in list type makes a decent stack data structure as it supports push and pop operations in amortized O(1) time."
   ]
  },
  {
   "cell_type": "markdown",
   "metadata": {},
   "source": [
    "Python’s lists are implemented as dynamic arrays internally which means they occasional need to resize the storage space for elements stored in them when elements are added or removed. The list over-allocates its backing storage so that not every push or pop requires resizing and you get an amortized O(1) time complexity for these operations."
   ]
  },
  {
   "cell_type": "markdown",
   "metadata": {},
   "source": [
    "The downside is that this makes their performance less consistent than the stable O(1) inserts and deletes provided by a linked list based implementation. On the other hand lists do provide fast O(1) time random access to elements on the stack which can be an added benefit."
   ]
  },
  {
   "cell_type": "markdown",
   "metadata": {},
   "source": [
    "Here’s an important performance **caveat** when using lists as stacks:"
   ]
  },
  {
   "cell_type": "markdown",
   "metadata": {},
   "source": [
    "To get the amortized O(1) performance for inserts and deletes new items must be added to the end of the list with the append() method and removed again from the end using pop(). Stacks based on Python lists grow to the right and shrink to the left.\n",
    "\n",
    "Adding and removing from the front is much slower and takes O(n) time, as the existing elements must be shifted around to make room for the new element.\n",
    "\n",
    "### the `collections.deque` Class\n",
    "\n",
    "The deque class implements a double-ended queue that supports adding and removing elements from either end in O(1) time (non-amortized).\n",
    "\n",
    "Because deques support adding and removing elements from either end equally well, they can serve both as queues and as stacks.\n",
    "\n",
    "Python’s deque objects are implemented as doubly-linked lists which gives them excellent and consistent performance for inserting and deleting elements, but poor O(n) performance for randomly accessing elements in the middle of the stack."
   ]
  },
  {
   "cell_type": "code",
   "execution_count": 1,
   "metadata": {},
   "outputs": [],
   "source": [
    "from collections import deque"
   ]
  },
  {
   "cell_type": "code",
   "execution_count": 2,
   "metadata": {},
   "outputs": [],
   "source": [
    "SIZE = 100000000\n",
    "\n",
    "# Declaring deque \n",
    "queue = deque(list(range(SIZE)))\n",
    "mylist = list(range(SIZE))"
   ]
  },
  {
   "cell_type": "code",
   "execution_count": 116,
   "metadata": {},
   "outputs": [
    {
     "name": "stdout",
     "output_type": "stream",
     "text": [
      "21 ns ± 0.59 ns per loop (mean ± std. dev. of 7 runs, 10000000 loops each)\n"
     ]
    }
   ],
   "source": [
    "%timeit mylist[0]"
   ]
  },
  {
   "cell_type": "code",
   "execution_count": 117,
   "metadata": {},
   "outputs": [
    {
     "name": "stdout",
     "output_type": "stream",
     "text": [
      "21.5 ns ± 0.713 ns per loop (mean ± std. dev. of 7 runs, 10000000 loops each)\n"
     ]
    }
   ],
   "source": [
    "%timeit queue[0]"
   ]
  },
  {
   "cell_type": "markdown",
   "metadata": {},
   "source": [
    "## 3.3 Python List Size & Capacity"
   ]
  },
  {
   "cell_type": "code",
   "execution_count": 19,
   "metadata": {},
   "outputs": [],
   "source": [
    "import sys"
   ]
  },
  {
   "cell_type": "code",
   "execution_count": 20,
   "metadata": {},
   "outputs": [
    {
     "name": "stdout",
     "output_type": "stream",
     "text": [
      "size of an empty list : 72\n"
     ]
    }
   ],
   "source": [
    "l = [] \n",
    "size = sys.getsizeof(l) \n",
    "print(\"size of an empty list :\", size) "
   ]
  },
  {
   "cell_type": "code",
   "execution_count": 21,
   "metadata": {},
   "outputs": [],
   "source": [
    "# append four element in the list \n",
    "l.append(1) \n",
    "l.append(2) \n",
    "l.append(3) \n",
    "l.append(4) "
   ]
  },
  {
   "cell_type": "code",
   "execution_count": 22,
   "metadata": {},
   "outputs": [
    {
     "data": {
      "text/plain": [
       "104"
      ]
     },
     "execution_count": 22,
     "metadata": {},
     "output_type": "execute_result"
    }
   ],
   "source": [
    "sys.getsizeof(l)"
   ]
  },
  {
   "cell_type": "code",
   "execution_count": 23,
   "metadata": {},
   "outputs": [
    {
     "name": "stdout",
     "output_type": "stream",
     "text": [
      "Now total size of a list : 104\n"
     ]
    }
   ],
   "source": [
    "# calculate total size of the list after appending four element \n",
    "print(\"Now total size of a list :\", sys.getsizeof(l)) "
   ]
  },
  {
   "cell_type": "code",
   "execution_count": 24,
   "metadata": {},
   "outputs": [
    {
     "name": "stdout",
     "output_type": "stream",
     "text": [
      "Size of each element: 8.0\n"
     ]
    }
   ],
   "source": [
    "print(\"Size of each element:\", (sys.getsizeof(l) - size) / 4 )"
   ]
  },
  {
   "cell_type": "code",
   "execution_count": 25,
   "metadata": {},
   "outputs": [
    {
     "data": {
      "text/plain": [
       "4"
      ]
     },
     "execution_count": 25,
     "metadata": {},
     "output_type": "execute_result"
    }
   ],
   "source": [
    "# calculate capacity of the list after appending four element \n",
    "c = (sys.getsizeof(l) - size) // 8\n",
    "c"
   ]
  },
  {
   "cell_type": "code",
   "execution_count": 26,
   "metadata": {},
   "outputs": [],
   "source": [
    "def get_capacity(mylist):\n",
    "    # this functions returns the capacity of an element\n",
    "    # 72 is list overhead size and 8 is the size of each element\n",
    "    return (sys.getsizeof(mylist) - 72) // 8"
   ]
  },
  {
   "cell_type": "markdown",
   "metadata": {},
   "source": [
    "Now look at how python manages size and capacity in list"
   ]
  },
  {
   "cell_type": "code",
   "execution_count": 27,
   "metadata": {
    "scrolled": true
   },
   "outputs": [
    {
     "name": "stdout",
     "output_type": "stream",
     "text": [
      "0 0\n",
      "1 4\n",
      "2 4\n",
      "3 4\n",
      "4 4\n",
      "5 8\n",
      "6 8\n",
      "7 8\n",
      "8 8\n",
      "9 16\n",
      "10 16\n",
      "11 16\n",
      "12 16\n",
      "13 16\n",
      "14 16\n",
      "15 16\n",
      "16 16\n",
      "17 25\n",
      "18 25\n",
      "19 25\n",
      "20 25\n",
      "21 25\n",
      "22 25\n",
      "23 25\n",
      "24 25\n",
      "25 25\n",
      "26 35\n",
      "27 35\n",
      "28 35\n",
      "29 35\n",
      "30 35\n",
      "31 35\n"
     ]
    }
   ],
   "source": [
    "mylist = []\n",
    "\n",
    "for i in range(32):\n",
    "    print(len(mylist), get_capacity(mylist))\n",
    "    mylist.append(i)"
   ]
  },
  {
   "cell_type": "markdown",
   "metadata": {},
   "source": [
    "**Best way to reserve space in list:**\n",
    "\n",
    "```\n",
    "mylist = [None] * reserve_size\n",
    "```"
   ]
  },
  {
   "cell_type": "code",
   "execution_count": 28,
   "metadata": {},
   "outputs": [],
   "source": [
    "# reserve space for 1000 elements in a list\n",
    "mylist = [None] * 1000"
   ]
  }
 ],
 "metadata": {
  "kernelspec": {
   "display_name": "Python 3",
   "language": "python",
   "name": "python3"
  },
  "language_info": {
   "codemirror_mode": {
    "name": "ipython",
    "version": 3
   },
   "file_extension": ".py",
   "mimetype": "text/x-python",
   "name": "python",
   "nbconvert_exporter": "python",
   "pygments_lexer": "ipython3",
   "version": "3.7.6"
  }
 },
 "nbformat": 4,
 "nbformat_minor": 4
}
