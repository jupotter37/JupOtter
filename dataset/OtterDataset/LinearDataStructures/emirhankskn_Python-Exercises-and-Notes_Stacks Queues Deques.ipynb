{
 "cells": [
  {
   "cell_type": "markdown",
   "metadata": {},
   "source": [
    "# Stacks - Queues - Deques"
   ]
  },
  {
   "cell_type": "markdown",
   "metadata": {},
   "source": [
    "## İçerik\n",
    "* [Stacks](#1)\n",
    "* [Stacks with Python](#2)\n",
    "* [Queues](#3)\n",
    "* [Queues with Python](#4)\n",
    "* [Deques](#5)\n",
    "* [Deques with Python](#6)\n",
    "* [Stacks Queues Deques İş Mülakatları Soru-Cevap](#7)\n",
    "* [Stacks Queues Deques Python Challenge/Problem](#8)\n",
    "* [Neler Öğrendik](#99)"
   ]
  },
  {
   "cell_type": "markdown",
   "metadata": {},
   "source": [
    "<a id=\"1\"></a>\n",
    "## Stacks (Yığın)\n",
    "* Ekleme ve çıkarma işlemlerinin her zaman aynı yerden yapıldığı yapılara stack (yığın) denir.\n",
    "* Bu ekleme çıkarma işlemi \"top\" kısmından yapılır.\n",
    "* Top'ın tersi olan kısma da \"base\" denir.\n",
    "* İlk giren son çıkar LIFO (Last in First Out) mantığı ile çalışır. \n",
    "* Uçağın sadece ön kapısından yolcu alıp indirdiğini düşünün.\n",
    "* Karakteristik özelliği Push ve Pop işlemleridir. Yığına veri atılması işlemine Push işlemi adı verilir. Yığından veri çekilmesi işlemine de pop denir.\n",
    "* Üç ana fonksiyonu vardır.\n",
    "    * Push: Stack içerisine eleman koyma\n",
    "    * Pop: Stack içerisinden eleman alma\n",
    "    * Top: Stack’in en tepesindeki elemanı gösterme\n",
    "* ![title](stack.jpg)\n"
   ]
  },
  {
   "cell_type": "markdown",
   "metadata": {},
   "source": [
    "<a id=\"2\"></a>\n",
    "## Stacks with Python "
   ]
  },
  {
   "cell_type": "code",
   "execution_count": 83,
   "metadata": {},
   "outputs": [],
   "source": [
    "class Stack:\n",
    "    \n",
    "    def __init__(self):\n",
    "        \"\"\"\n",
    "        initialize (constructor)\n",
    "        \"\"\"\n",
    "        self.items = []\n",
    "        \n",
    "    def isEmpty(self):\n",
    "        \"\"\"\n",
    "        bos olup olmadigini kontrol eder\n",
    "        \"\"\"\n",
    "        return self.items == []  # boolean operation\n",
    "    \n",
    "    def push(self,item):\n",
    "        \"\"\"\n",
    "        stack'e item ekler\n",
    "        \"\"\"\n",
    "        self.items.append(item)\n",
    "    \n",
    "    def pop(self):\n",
    "        \"\"\"\n",
    "        stack'ten item cikarma\n",
    "        \"\"\"\n",
    "        return self.items.pop()\n",
    "    \n",
    "    def top(self):\n",
    "        \"\"\"\n",
    "        stack icerisindeki son item'i gosterir\n",
    "        \"\"\"\n",
    "        return self.items[len(self.items)-1]\n",
    "    \n",
    "    def size(self):\n",
    "        \"\"\"\n",
    "        size of stack\n",
    "        \"\"\"\n",
    "        return len(self.items)"
   ]
  },
  {
   "cell_type": "code",
   "execution_count": 84,
   "metadata": {},
   "outputs": [
    {
     "name": "stdout",
     "output_type": "stream",
     "text": [
      "True\n",
      "ankara\n",
      "istanbul\n",
      "izmir\n",
      "3\n",
      "istanbul\n",
      "ankara\n",
      "False\n",
      "True\n"
     ]
    }
   ],
   "source": [
    "stack = Stack()\n",
    "print(stack.isEmpty())\n",
    "\n",
    "stack.push(\"ankara\")\n",
    "print(stack.top())\n",
    "\n",
    "stack.push(\"istanbul\")\n",
    "print(stack.top())\n",
    "\n",
    "stack.push(\"izmir\")\n",
    "print(stack.top())\n",
    "\n",
    "print(stack.size())\n",
    "\n",
    "stack.pop()\n",
    "print(stack.top())\n",
    "\n",
    "stack.pop()\n",
    "print(stack.top())\n",
    "\n",
    "print(stack.isEmpty())\n",
    "\n",
    "stack.pop()\n",
    "print(stack.isEmpty())"
   ]
  },
  {
   "cell_type": "markdown",
   "metadata": {},
   "source": [
    "<a id=\"3\"></a>\n",
    "## Queues (Sıra)\n",
    "* \"rear\" kısmından veri ekleriz ve \"front\" kısmından veri çıkartırız. \n",
    "* İlk giren ilk çıkar. (FIFO , first in first out yada first come first served)\n",
    "* Yemekhane sırası gibi düşünebilirsiniz.\n",
    "* Enqueue item eklemek, Dequeue item çıkarmak\n",
    "* ![title](stack and queue.jpg)"
   ]
  },
  {
   "cell_type": "markdown",
   "metadata": {},
   "source": [
    "<a id=\"4\"></a>\n",
    "## Queues with Python "
   ]
  },
  {
   "cell_type": "code",
   "execution_count": 85,
   "metadata": {},
   "outputs": [],
   "source": [
    "class Queue:\n",
    "    \n",
    "    def __init__(self):\n",
    "        \"\"\"\n",
    "        initialize (constructor)\n",
    "        \"\"\"\n",
    "        self.items = []\n",
    "        \n",
    "    def isEmpty(self):\n",
    "        \"\"\"\n",
    "        bos olup olmadigini kontrol et\n",
    "        \"\"\"\n",
    "        return self.items == [] # bool operation\n",
    "    \n",
    "    def enqueue(self,item):\n",
    "        \"\"\"\n",
    "        queue item ekler\n",
    "        \"\"\"\n",
    "        self.items.insert(0,item)\n",
    "        \n",
    "    def dequeue(self):\n",
    "        \"\"\"\n",
    "        queue dan item cikartir\n",
    "        \"\"\"\n",
    "        return self.items.pop()\n",
    "    \n",
    "    def size(self):\n",
    "        \"\"\"\n",
    "        length of items(queue)\n",
    "        \"\"\"\n",
    "        return len(self.items)"
   ]
  },
  {
   "cell_type": "code",
   "execution_count": 86,
   "metadata": {},
   "outputs": [
    {
     "name": "stdout",
     "output_type": "stream",
     "text": [
      "True\n",
      "size:  2\n",
      "size:  1\n",
      "size:  0\n"
     ]
    },
    {
     "data": {
      "text/plain": [
       "True"
      ]
     },
     "execution_count": 86,
     "metadata": {},
     "output_type": "execute_result"
    }
   ],
   "source": [
    "queue = Queue()\n",
    "\n",
    "print(queue.isEmpty())\n",
    "\n",
    "queue.enqueue(\"ankara\")\n",
    "queue.enqueue(\"istanbul\")\n",
    "print(\"size: \",queue.size())\n",
    "\n",
    "queue.dequeue()\n",
    "print(\"size: \",queue.size())\n",
    "\n",
    "queue.dequeue()\n",
    "print(\"size: \",queue.size())\n",
    "queue.isEmpty()"
   ]
  },
  {
   "cell_type": "markdown",
   "metadata": {},
   "source": [
    "<a id=\"5\"></a>\n",
    "## Deque \n",
    "* Double ended queue olarak bilinir.\n",
    "* İki tane \"end\", \"front\" ve \"rear\" a sahip.\n",
    "* ![title](sqd.jpg)"
   ]
  },
  {
   "cell_type": "markdown",
   "metadata": {},
   "source": [
    "<a id=\"6\"></a>\n",
    "## Deque with Python "
   ]
  },
  {
   "cell_type": "code",
   "execution_count": 87,
   "metadata": {},
   "outputs": [],
   "source": [
    "class Deque:\n",
    "    \n",
    "    def __init__(self):\n",
    "        \"\"\"\n",
    "        initialize (constructor)\n",
    "        \"\"\"\n",
    "        self.items = []\n",
    "        \n",
    "    def isEmpty(self):\n",
    "        \"\"\"\n",
    "        bos olup olmadigini kontrol et\n",
    "        \"\"\"\n",
    "        return self.items == [] # bool operation\n",
    "    \n",
    "    def addFront(self, item):\n",
    "        \"\"\"\n",
    "        deque ya front kismindan item ekler\n",
    "        \"\"\"\n",
    "        self.items.append(item)\n",
    "        \n",
    "        \n",
    "    def addRear(self, item):\n",
    "        \"\"\"\n",
    "        deque ya rear kismindan yeni item ekler\n",
    "        \"\"\"\n",
    "        self.items.insert(0,item)\n",
    "        \n",
    "    def removeFront(self):\n",
    "        \"\"\"\n",
    "        deque front kismindan item cikartir\n",
    "        \"\"\"\n",
    "        return self.items.pop()\n",
    "    \n",
    "    def removeRear(self):\n",
    "        \"\"\"\n",
    "        deque rear kismindan iterm cikart\n",
    "        \"\"\"\n",
    "        return self.items.pop(0)\n",
    "    \n",
    "    def size(self):\n",
    "        \"\"\"\n",
    "        length of deque\n",
    "        \"\"\"\n",
    "        return len(self.items)\n",
    "        "
   ]
  },
  {
   "cell_type": "code",
   "execution_count": 88,
   "metadata": {},
   "outputs": [
    {
     "name": "stdout",
     "output_type": "stream",
     "text": [
      "True\n",
      "size:  2\n",
      "False\n",
      "True\n"
     ]
    }
   ],
   "source": [
    "deque = Deque()\n",
    "\n",
    "print(deque.isEmpty())\n",
    "deque.addFront(\"deep\")\n",
    "deque.addRear(\"learning\")\n",
    "print(\"size: \",deque.size())\n",
    "print(deque.isEmpty())\n",
    "deque.removeFront()\n",
    "deque.removeRear()\n",
    "print(deque.isEmpty())"
   ]
  },
  {
   "cell_type": "markdown",
   "metadata": {},
   "source": [
    "<a id=\"7\"></a>\n",
    "## Stacks Queues Deques İş Mülakatları Soru-Cevap \n",
    "* Linear data structure örnekleri nelerdir?\n",
    "    * Array, Stacks ve Queues\n",
    "* **Stacks:**\n",
    "    * Stack hakkında kısa bilgi verin?\n",
    "        * Stack last in first out prensibine dayalı bir data structure'dır. 3 tane main operasyonu vardır. Bunlar push,pop ve peek operasyonlarıdır.\n",
    "    * Stack de item nasıl depolanır?\n",
    "        *  last-in, first-out (LIFO)\n",
    "    * Stack hızı nasıldır yani big-O hakkında bilgi?\n",
    "        * ![title](stack_big_o.jpg)\n",
    "    * Advantages: \n",
    "        * Fast operations. All stack operations take O(1) time.\n",
    "    * Stack başka data structure'lar ile kullanılır mı?\n",
    "        * Linked lists ve dynamic array'ler ile kullanılabilir\n",
    "    * Hangisi application of Stack Data Structure?\n",
    "        * (A) Managing function calls\n",
    "        * (B) The stock span problem\n",
    "        * (C) Arithmetic expression evaluation\n",
    "        * (D) String parsing\n",
    "        * (E) All of the above\n",
    "        * E\n",
    "* **Queues:**\n",
    "    * Queues nedir, stack'ten farkı nelerdir?\n",
    "        * Queue linear data structure'lardan bir tanesidir. First In First Out prensibiyle çalışır. Temel metotları enqueue ve dequeque'dır.\n",
    "        * Stack ile aralarında ki temel fark item remove etme sırasıdır.\n",
    "    * Queues hızı nasıldır yani big-O hakkında bilgi? \n",
    "        * Fast operations. All queue operations take O(1) time ![title](queue big o2.jpg)\n",
    "    * Queues kullanım alanları nelerdir?\n",
    "        * Printers: ilke gelen yazıcıda ilk bastırılır\n",
    "        * web servers: requesti yönetmek için queue kullanır\n",
    "* **Deque:**\n",
    "    * Queues ve stacks ile olan bağlantısı nedir?\n",
    "        * Deque queues ve stacks karışımı gibidir.\n",
    "        * Yeni item ister front'dan ister rear'dan eklenebilir.\n",
    "        * Stacks ve queues'in tüm özellikleri tek bir data structure'da yani deque de sağlanır."
   ]
  },
  {
   "cell_type": "markdown",
   "metadata": {},
   "source": [
    "<a id=\"8\"></a>\n",
    "## Stacks Queues Deques Python Challenge/Problem\n",
    "1. Stack Kullanarak String'in Tersini Bulmak\n",
    "2. Python da Listeyi Stack ve Queues Gibi Kullanmak\n",
    "3. İki Stack Kullanarak Queue yaratmak"
   ]
  },
  {
   "cell_type": "markdown",
   "metadata": {},
   "source": [
    "### 1) Stack Kullanarak String'in Tersini Bulmak\n",
    "* input: \"datai\"\n",
    "* output: \"iatad\"\n",
    "* input: \"machine learning\"\n",
    "* output: \"gninrael enihcam\"\n"
   ]
  },
  {
   "cell_type": "code",
   "execution_count": 89,
   "metadata": {},
   "outputs": [],
   "source": [
    "# define stack metod\n",
    "def createStack():\n",
    "    stack = []\n",
    "    return stack\n",
    "\n",
    "# stack size\n",
    "def size(stack):\n",
    "    pass\n",
    "\n",
    "# stack top method\n",
    "def top(stack):\n",
    "    pass\n",
    "\n",
    "# isEmpty\n",
    "def isEmpty(stack):\n",
    "    pass\n",
    "\n",
    "# push method\n",
    "def push(stack,item):\n",
    "    stack.append(item)\n",
    "    \n",
    "# pop method\n",
    "def pop(stack):\n",
    "    return stack.pop()\n",
    "\n",
    "# find reverse as using stack\n",
    "def reverse(string):\n",
    "    \n",
    "    n = len(string)\n",
    "    \n",
    "    stack = createStack()  # stack\n",
    "    \n",
    "    # string icerisindeki her bir harfi stack icerisine depola\n",
    "    for i in range(n):\n",
    "        push(stack,string[i])  # \"d\",\"a\",\"t\",\"a\",\"i\" stack = [\"d\",\"a\",\"t\",\"a\",\"i\"] \n",
    "     \n",
    "    new_string = \"\"\n",
    "    \n",
    "    # pop\n",
    "    for i in range(n):\n",
    "        new_string += pop(stack) # \"i\", \"a\",...  # new_string = \"iatad\"\n",
    "    \n",
    "    return new_string"
   ]
  },
  {
   "cell_type": "code",
   "execution_count": 90,
   "metadata": {},
   "outputs": [
    {
     "name": "stdout",
     "output_type": "stream",
     "text": [
      "datai:  iatad\n",
      "machine learning:  gninrael enihcam\n"
     ]
    }
   ],
   "source": [
    "print(\"datai: \",reverse(\"datai\"))\n",
    "print(\"machine learning: \",reverse(\"machine learning\"))"
   ]
  },
  {
   "cell_type": "markdown",
   "metadata": {},
   "source": [
    "### 2) Python da Listeyi Stack ve Queues Gibi Kullanmak "
   ]
  },
  {
   "cell_type": "code",
   "execution_count": 91,
   "metadata": {},
   "outputs": [
    {
     "name": "stdout",
     "output_type": "stream",
     "text": [
      "['datai', 'ml', 'ai', 'deep', 'learning']\n",
      "learning\n",
      "['datai', 'ml', 'ai', 'deep']\n",
      "deep\n",
      "['datai', 'ml', 'ai']\n"
     ]
    }
   ],
   "source": [
    "# liste kullanarak stack yapmak\n",
    "stack = [\"datai\",\"ml\",\"ai\"] # liste\n",
    "stack.append(\"deep\")\n",
    "stack.append(\"learning\")  # append = push\n",
    "print(stack)\n",
    "print(stack.pop())\n",
    "print(stack)\n",
    "print(stack.pop())\n",
    "print(stack)"
   ]
  },
  {
   "cell_type": "code",
   "execution_count": 92,
   "metadata": {},
   "outputs": [
    {
     "name": "stdout",
     "output_type": "stream",
     "text": [
      "deque(['datai', 'ml', 'ai'])\n",
      "deque(['deep', 'datai', 'ml', 'ai'])\n",
      "deque(['learning', 'deep', 'datai', 'ml', 'ai'])\n",
      "deque(['learning', 'deep', 'datai', 'ml'])\n",
      "deque(['learning', 'deep', 'datai'])\n"
     ]
    }
   ],
   "source": [
    "# liste ve deque kullanarak queue yapmak\n",
    "from collections import deque\n",
    "queue = deque([\"datai\",\"ml\",\"ai\"])\n",
    "print(queue)\n",
    "queue.insert(0,\"deep\")\n",
    "print(queue)\n",
    "queue.insert(0,\"learning\")\n",
    "print(queue)\n",
    "queue.pop()\n",
    "print(queue)\n",
    "queue.pop()\n",
    "print(queue)\n",
    "\n",
    "# insert yerine append ve pop yerine popleft"
   ]
  },
  {
   "cell_type": "markdown",
   "metadata": {},
   "source": [
    "### 3) İki Stack Kullanarak Queue yaratmak"
   ]
  },
  {
   "cell_type": "code",
   "execution_count": 93,
   "metadata": {},
   "outputs": [],
   "source": [
    "class Queue2Stack(object):\n",
    "    \n",
    "    def __init__(self):\n",
    "        \"\"\"\n",
    "        initialize 2 stacks\n",
    "        \"\"\"\n",
    "        self.stack1 = []\n",
    "        self.stack2 = []\n",
    "        \n",
    "    def enqueue(self, item):\n",
    "        \"\"\"\n",
    "        stack'e item eklemek ama queue yaratmak icin\n",
    "        \"\"\"\n",
    "        self.stack1.append(item)\n",
    "        \n",
    "    def dequeue(self):\n",
    "        \"\"\"\n",
    "        stack1'in icinden pop yaparak stack2 nin icine item yollamak\n",
    "        \"\"\"\n",
    "        if not self.stack2:\n",
    "            while len(self.stack1) > 0:\n",
    "                self.stack2.append(self.stack1.pop())\n",
    "        \n",
    "        return self.stack2.pop()"
   ]
  },
  {
   "cell_type": "code",
   "execution_count": 94,
   "metadata": {},
   "outputs": [
    {
     "name": "stdout",
     "output_type": "stream",
     "text": [
      "1\n",
      "2\n",
      "3\n"
     ]
    }
   ],
   "source": [
    "# queue object\n",
    "queue = Queue2Stack()\n",
    "queue.enqueue(\"1\")\n",
    "queue.enqueue(\"2\")\n",
    "queue.enqueue(\"3\")\n",
    "print(queue.dequeue())\n",
    "print(queue.dequeue())\n",
    "print(queue.dequeue())"
   ]
  },
  {
   "cell_type": "code",
   "execution_count": 95,
   "metadata": {},
   "outputs": [],
   "source": [
    "# comment kisa yolu: ctrl + /\n",
    "# stack1 = [\"1\",\"2\",\"3\"] # stack2.append(stack1.pop)\n",
    "# stack2 = [\"3\",\"2\",\"1\"] # stack2.pop() \"1\"\n",
    "# queue = [\"3\",\"2\",\"1\"]  # queue.pop() \"1\""
   ]
  },
  {
   "cell_type": "markdown",
   "metadata": {},
   "source": [
    "<a id=\"99\"></a>\n",
    "## Neler Öğrendik\n",
    "* Stacks\n",
    "* Stacks with Python\n",
    "* Queues\n",
    "* Queues with Python\n",
    "* Deques\n",
    "* Deques with Python\n",
    "* Stacks Queues Deques İş Mülakatları Soru-Cevap\n",
    "* Stacks Queues Deques Python Challenge/Problem\n",
    "\n",
    "* TAVSİYE: Stacks Queues Deques ile ilgili soru çözün"
   ]
  }
 ],
 "metadata": {
  "kernelspec": {
   "display_name": "Python 3",
   "language": "python",
   "name": "python3"
  },
  "language_info": {
   "codemirror_mode": {
    "name": "ipython",
    "version": 3
   },
   "file_extension": ".py",
   "mimetype": "text/x-python",
   "name": "python",
   "nbconvert_exporter": "python",
   "pygments_lexer": "ipython3",
   "version": "3.6.5"
  }
 },
 "nbformat": 4,
 "nbformat_minor": 2
}
