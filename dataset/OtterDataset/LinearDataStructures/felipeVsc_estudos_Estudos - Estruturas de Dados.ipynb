{
 "cells": [
  {
   "cell_type": "markdown",
   "id": "e29e12cf",
   "metadata": {},
   "source": [
    "## Estrutura de Dados\n",
    "\n",
    "Notebook com estudos acerca das principais estruturas de dados, utilizar em auxílio com o OneNote!\n",
    "\n",
    "Usando como principais bases os livros:\n",
    "\n",
    "* Data Structures and Algorithms in Python (Goodrich)\n",
    "* Algoritmos - CLRS (Cormen)\n",
    "* Algoritmos (Dasgupta)\n",
    "\n",
    "Principais pontos:\n",
    "\n",
    "* Stacks\n",
    "* Queues\n",
    "* Deques\n",
    "* Linked List\n",
    "* Trees\n",
    "* Hash\n",
    "* Heap"
   ]
  },
  {
   "cell_type": "markdown",
   "id": "39046b09",
   "metadata": {},
   "source": [
    "### Stacks (Pilhas)\n",
    "\n",
    "Pilhas são estruturas de dados que funcionam no esquema Last-in First-Out (LIFO), igual uma pilha de pratos. Ou seja, você só pode remover o topo da pilha.\n",
    "\n",
    "**Ações**\n",
    "\n",
    "Push &rarr; Adiciona um elemento ao topo da pilha\n",
    "Pop &rarr; Remove o elemento do topo da pilha e retorna ele\n",
    "\n",
    "**Inverter uma Array**\n",
    "\n",
    "Como em uma pilha você só pode retirar os últimos, então se você der pop em todos os elementos, eles sairão na ordem inversa de insersão. \n",
    "\n",
    "Por exemplo, se você der Push em 1,2,3 e depois der POP, o retorno será: 3,2,1"
   ]
  },
  {
   "cell_type": "code",
   "execution_count": 6,
   "id": "f789a080",
   "metadata": {},
   "outputs": [
    {
     "name": "stdout",
     "output_type": "stream",
     "text": [
      "[1, 2, 3]\n",
      "[1, 2]\n",
      "Pilha invertida\n",
      "[2, 1]\n"
     ]
    }
   ],
   "source": [
    "class Stack:\n",
    "    \n",
    "    def __init__(self):\n",
    "        self.st = []\n",
    "        \n",
    "    def push(self,num):\n",
    "        self.st.append(num)\n",
    "    \n",
    "    def pop(self):\n",
    "        return self.st.pop()\n",
    "    \n",
    "    def printar(self):\n",
    "        print(self.st)\n",
    "    \n",
    "pilha = Stack()\n",
    "pilha.push(1)\n",
    "pilha.push(2)\n",
    "pilha.push(3)\n",
    "pilha.printar()\n",
    "\n",
    "pilha.pop()\n",
    "pilha.printar()\n",
    "\n",
    "pilhainversa = Stack()\n",
    "\n",
    "for x in range(len(pilha.st)):\n",
    "    pilhainversa.push(pilha.pop())\n",
    "\n",
    "print(\"Pilha invertida\")\n",
    "pilhainversa.printar()\n",
    "        "
   ]
  },
  {
   "cell_type": "markdown",
   "id": "bf3f013a",
   "metadata": {},
   "source": [
    "Exemplo de uso de Pilhas:\n",
    "\n",
    "Matching Sequences\n",
    "\n",
    "Se queremos saber se parenteses e etc estão balanceados, podemos pegar um lado da string e armazenar numa pilha. Pegaremos o outro lado e iremos lendo, toda vez que encontrarmos um simbolo de fechamento, damos pop. Se ao chegar no fim da metade da direita e a pilha NÃO estiver vazia, então quer dizer que não está balanceado."
   ]
  },
  {
   "cell_type": "code",
   "execution_count": null,
   "id": "44efc23f",
   "metadata": {},
   "outputs": [],
   "source": []
  },
  {
   "cell_type": "markdown",
   "id": "e960f199",
   "metadata": {},
   "source": [
    "### Queues (Filas)\n",
    "\n",
    "Funcionamento igual a uma fila, ou seja, First-In First-Out (FIFO), o primeiro que entrar é o primeiro a sair.\n",
    "\n",
    "\"Entra no fim e sai o da frente\"\n",
    "\n",
    "**Ações**\n",
    "\n",
    "Enqueue &rarr; Adicionar o elemento ao fim da fila\n",
    "Dequeue &rarr; Remover o primeiro elemento da fila\n"
   ]
  },
  {
   "cell_type": "markdown",
   "id": "3cb1f247",
   "metadata": {},
   "source": [
    "### Double Ended Queues"
   ]
  },
  {
   "cell_type": "markdown",
   "id": "02943727",
   "metadata": {},
   "source": [
    "### Deques"
   ]
  },
  {
   "cell_type": "markdown",
   "id": "10f50071",
   "metadata": {},
   "source": [
    "### Singly Linked List "
   ]
  },
  {
   "cell_type": "code",
   "execution_count": 4,
   "id": "fb39061d",
   "metadata": {},
   "outputs": [
    {
     "name": "stdout",
     "output_type": "stream",
     "text": [
      "None\n",
      "1\n",
      "2\n"
     ]
    }
   ],
   "source": [
    "class Node:\n",
    "\n",
    "    def __init__(self,elem,nextnode):\n",
    "        self.elemento = elem\n",
    "        self.next = nextnode\n",
    "\n",
    "class LinkedStack:\n",
    "\n",
    "    # Last in First Out\n",
    "    def __init__(self):\n",
    "        self.head = None\n",
    "        self.size = 0\n",
    "\n",
    "    def push(self,elemento):\n",
    "        novaHead = Node(elemento,self.head)\n",
    "        self.head = novaHead\n",
    "        self.size+=1\n",
    "\n",
    "    def pop(self):\n",
    "        novaHead = self.head.next\n",
    "        headatual = self.head.elemento\n",
    "        self.head = novaHead\n",
    "        self.size-=1\n",
    "        return headatual\n",
    "\n",
    "\n",
    "stack = LinkedStack()\n",
    "print(stack.head)\n",
    "\n",
    "stack.push(1)\n",
    "print(stack.head.elemento)\n",
    "\n",
    "stack.push(2)\n",
    "print(stack.head.elemento)\n",
    "\n",
    "\n",
    "        \n",
    "    \n",
    "\n",
    "\n"
   ]
  },
  {
   "cell_type": "code",
   "execution_count": 13,
   "id": "9169b1e9",
   "metadata": {},
   "outputs": [
    {
     "name": "stdout",
     "output_type": "stream",
     "text": [
      "2\n",
      "1\n",
      "2\n"
     ]
    }
   ],
   "source": [
    "# Singly Linked List\n",
    "\n",
    "class Node:\n",
    "\n",
    "    def __init__(self,elem,nextnode):\n",
    "        self.elemento = elem\n",
    "        self.next = nextnode\n",
    "\n",
    "class LinkedList:\n",
    "\n",
    "    # Last in First Out\n",
    "    def __init__(self):\n",
    "        self.head = None\n",
    "        self.tail = None\n",
    "        self.size = 0\n",
    "\n",
    "    # se o size == 0, entao nao tem head nem tail\n",
    "    # se for == 1, entao head e tail sao iguais\n",
    "    # >1 entao sao diferentes\n",
    "    def addToHead(self,elemento):\n",
    "        if self.size == 0:\n",
    "            novaHead = Node(elemento,None)\n",
    "            self.tail = novaHead\n",
    "        else:\n",
    "            novaHead = Node(elemento,self.head)\n",
    "            \n",
    "        self.head = novaHead\n",
    "        self.size+=1\n",
    "\n",
    "\n",
    "    def addToTail(self,elemento):\n",
    "        if self.size == 0:\n",
    "            self.addToHead(elemento)\n",
    "        else:\n",
    "            novaTail = Node(elemento,None)\n",
    "            self.tail.next = novaTail\n",
    "            self.size+=1\n",
    "        \n",
    "\n",
    "    def removeFromHead(self):\n",
    "        headAtual = self.head\n",
    "        self.head = headAtual.next\n",
    "        self.size-=1\n",
    "\n",
    "    def removeFromTail(self):\n",
    "        tailAtual = self.tail\n",
    "        nodeatual = self.head\n",
    "        for x in range(self.size-1):\n",
    "            nodeatual = nodeatual.next\n",
    "\n",
    "        self.tail = nodeatual\n",
    "        self.size-=1\n",
    "\n",
    "    def getIndexElement(self,index):\n",
    "        nodeatual = self.head\n",
    "        for x in range(index-1):\n",
    "            nodeatual = nodeatual.next\n",
    "        print(nodeatual.elemento)\n",
    "\n",
    "    def getAll(self):\n",
    "        nd = self.head\n",
    "        for x in range(self.size):\n",
    "            print(nd.elemento)\n",
    "            nd = nd.next\n",
    "\n",
    "\n",
    "lista = LinkedList()\n",
    "lista.addToHead(1)\n",
    "lista.addToTail(2)\n",
    "lista.getAll()"
   ]
  }
 ],
 "metadata": {
  "kernelspec": {
   "display_name": "Python 3",
   "language": "python",
   "name": "python3"
  },
  "language_info": {
   "codemirror_mode": {
    "name": "ipython",
    "version": 3
   },
   "file_extension": ".py",
   "mimetype": "text/x-python",
   "name": "python",
   "nbconvert_exporter": "python",
   "pygments_lexer": "ipython3",
   "version": "3.10.7 (main, Nov 24 2022, 19:45:47) [GCC 12.2.0]"
  },
  "vscode": {
   "interpreter": {
    "hash": "916dbcbb3f70747c44a77c7bcd40155683ae19c65e1c03b4aa3499c5328201f1"
   }
  }
 },
 "nbformat": 4,
 "nbformat_minor": 5
}
