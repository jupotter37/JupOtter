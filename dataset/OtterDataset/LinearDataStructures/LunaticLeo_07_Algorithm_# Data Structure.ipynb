{
 "cells": [
  {
   "cell_type": "markdown",
   "id": "42bf3838",
   "metadata": {},
   "source": [
    "**<center><font size=\"6\">Basic Data Structure</font></center>**"
   ]
  },
  {
   "cell_type": "markdown",
   "id": "e6c5dfba",
   "metadata": {},
   "source": [
    "# Data Structure Description\n",
    "- Array \n",
    "    - An array is a collection of items stored at contiguous memory locations\n",
    "    - Access O(1), Update O(1), Add O(N), Delete O(N)\n",
    "    - Python: List(not static length), the list of python is more like ArrayList in Java  \n",
    "    - Java: Array(static length) & ArrayList(not static length)  \n",
    "- ArrayList\n",
    "    - Array List is a resizable array used in **Java**, the difference between normal array is that the size of ArrayList can be modified. ArrayList usually used when more search operations are required.\n",
    "    - Access O(1), Update O(1), Add O(N), Delete O(N)  \n",
    "    - Python: List  \n",
    "    - Java: ArrayList   \n",
    "- LinkedList\n",
    "    - LinkedList is a resizable array used in **Java** too. A linked list is a linear data structure, but the elements are not stored at contiguous memory locations. The elements in a linked list are linked using pointers. Usually for less read, most add situation. LinkedList should be used where more insert and delete operation is needed.\n",
    "    - Access O(N), Update O(N), Add O(1), Delete O(1), but if add or delete with index which means not in the top or end, so add and delete is O(N) too\n",
    "    - Single Linked List and Double Linked List\n",
    "    - Python: Deque\n",
    "    - Java: LikedList\n",
    "- Queue\n",
    "    - A Queue is a linear structure which follows a particular order in which the operations are performed. The order is First In First Out (FIFO). \n",
    "    - Access O(N), Update O(N), Add O(1), Delete O(1), but if add and delete with index, so add and delete is O(N) too\n",
    "    - Python: Deque\n",
    "    - Java: Queue, using likedlist interface; PriorityQueue, sorted queue\n",
    "- Stack\n",
    "    - linear data structure, LIFO(Last In First Out)\n",
    "    - Access O(N), Update O(N), Add O(1), Delete O(1), but if add and delete with index, so add and delete is O(N) too\n",
    "    - Python: List/Deque\n",
    "    - Java: Stack\n",
    "- HashTable\n",
    "    - (key, value)\n",
    "    - Access O(1), Update O(1), Add O(1), Delete O(1)\n",
    "    - Python: Dictionary\n",
    "    - Java: HashMap\n",
    "- Set\n",
    "    - store any number of unique values in any order\n",
    "    - Access o(1), Update o(1), Add o(1), Delete o(1)\n",
    "    - Python: Set\n",
    "    - Java: Set/HashSet/TreeSet. HashSet is not sorted, TreeSet is sorted and always Red-Black Tress, HashSet is faster than TreeSet.\n",
    "- Tree\n",
    "    - Nonlinear data structure\n",
    "    - root node is the topmost node\n",
    "    - inner node(branch) is any node has child nodes\n",
    "    - leaf node is any node doesn't hae child nodes.\n",
    "    - Distance(路径距离):The number of edges along the shortest path between two nodes.\n",
    "    - Degree(度): the max distance from a given node to any leaf node. A leaf has necessarily degree zero. \n",
    "    - Degree of tree(最大度): The degree of a tree is the maximum degree of a node in the tree. \n",
    "    - Level(层): The level of a node is the distance to the root node.\n",
    "    - Height/Depth(高度/深度): the number of levels\n",
    "    - Preorder Traversal(前序遍历): parents -> left child -> right child\n",
    "    - Inorder Traversal(中序遍历): left child -> parents -> right child\n",
    "    - Postorder Traversal(后序遍历): left child -> right child -> parents \n",
    "- Binary Tree\n",
    "    - A tree that every node has at most two child node. \n",
    "    - Complete Binary Tree(完全二叉树): a binary tree in which every level, except possibly the last, is completely filled, and all nodes are as far left as possible.\n",
    "    - A full binary tree(满二叉树): a tree in which every node other than the leaves has two children.\n",
    "    - Binary Search Tree: ordered tree. A node's left child must have a value less than its parent's value and the node's right child must have a value greater than its parent value. Create & Search: o(log2 n)\n",
    "- Heap\n",
    "    - A binary tree that a node value is smaller/bigger than all child nodes' values\n",
    "    - Python: heapq\n",
    "    - Java: PriorityQueue\n",
    "- Graph\n",
    "    - A Graph is a non-linear data structure consisting of vertices and edges. The vertices are sometimes also referred to as nodes and the edges are lines or arcs that connect any two nodes in the graph. More formally a Graph is composed of a set of vertices( V ) and a set of edges( E ). The graph is denoted by G(E, V)."
   ]
  },
  {
   "cell_type": "markdown",
   "id": "a1a8c193",
   "metadata": {},
   "source": [
    "# Python"
   ]
  },
  {
   "cell_type": "markdown",
   "id": "91cddfce",
   "metadata": {},
   "source": [
    "## List (used as Array & ArrayList)"
   ]
  },
  {
   "cell_type": "code",
   "execution_count": null,
   "id": "b56e6521",
   "metadata": {
    "vscode": {
     "languageId": "java"
    }
   },
   "outputs": [],
   "source": [
    "# create\n",
    "list =[]\n",
    "# create from another list\n",
    "list = list2.copy\n",
    "\n",
    "# add at right\n",
    "list.append(ele)\n",
    "# add by index\n",
    "list.insert(index,ele)\n",
    "# add with iterable item\n",
    "list.extend(list2)\n",
    "\n",
    "# delete first element same as the argument, if not exsist, values error will occur\n",
    "list.remove(ele)\n",
    "# delete index element(default last) and return the element\n",
    "list.pop(index=-1)\n",
    "# delete index element without return\n",
    "del list[index]\n",
    "# delete all\n",
    "list.clear()\n",
    "\n",
    "# check element exist, if is return true, if no return false\n",
    "ele in list\n",
    "# find first element as argument from start to end(end not include), if not exist, values error will occur\n",
    "list.index(ele,start=0,end=-1)\n",
    "# ascending sort itself\n",
    "list.sort(reverse=True|False, key=myFunc)\n",
    "# this function can sort anything is iterable, and usually use key as lambda expression\n",
    "sorted(list,cmp=None,key=None,reverse=False)\n",
    "# length\n",
    "len(list)\n",
    "# max\n",
    "max(list)\n",
    "# min\n",
    "min(list)\n",
    "# count one element\n",
    "list.count(ele)\n",
    "\n",
    "# transfer list to string with str as filler, str and elements of list must be string\n",
    "str.join(list)\n",
    "\n",
    "# loop list\n",
    "for ele in list:\n",
    "# create list 2,the first expr can be any expression about ele\n",
    "[expr for ele in list]\n",
    "# create list with check\n",
    "[expr for ele in list if x==?]\n",
    "# loop list and get index, start is the first index values, and whatever start is, it will loop all list\n",
    "for i, ele in enumerate(list,start = ?):"
   ]
  },
  {
   "cell_type": "markdown",
   "id": "affa5d7d",
   "metadata": {},
   "source": [
    "## Deque(used as LinkedList & Queue/Stack)"
   ]
  },
  {
   "cell_type": "code",
   "execution_count": null,
   "id": "9244ad78",
   "metadata": {
    "vscode": {
     "languageId": "java"
    }
   },
   "outputs": [],
   "source": [
    "import collections\n",
    "\n",
    "# create deque\n",
    "deque = collections.deque()\n",
    "# create with max length, if full, accoring to the next element, queue will delete for opposite direction\n",
    "deque = collections.deque(maxlen=5)\n",
    "# create from anther deque\n",
    "deque = anotherDeque.copy()\n",
    "\n",
    "# add at end\n",
    "deque.append(element)\n",
    "# add at start\n",
    "deque.appedleft(element)\n",
    "# add with index\n",
    "deque.insert(index,element)\n",
    "# add with a iterable item from right\n",
    "deque.extend(iterable item)\n",
    "# add with a iterable item from left\n",
    "deque.extendleft(iterable item)\n",
    "\n",
    "# delete at end, with return\n",
    "deque.pop()\n",
    "# delete at start, with return\n",
    "deque.popleft()\n",
    "# delete first element, if not exist, error occur\n",
    "deque.remove(element)\n",
    "# delete all element\n",
    "deque.clear()\n",
    "\n",
    "# length\n",
    "len(deque)\n",
    "# find element, if not find error occur, if exist, return first index\n",
    "deque.index(element,start,end)\n",
    "# count element, if not found return 0\n",
    "deque.count(element)\n",
    "# reverse queue\n",
    "deque.reverse()\n",
    "# rotate queus with num, similar to pop and appendleft\n",
    "deque.rotate(num)\n",
    "# sort\n",
    "sorted(deque,cmp=None,key=None,reverse=False)"
   ]
  },
  {
   "cell_type": "markdown",
   "id": "680cb120",
   "metadata": {},
   "source": [
    "## Dictionary(used as hashTable)"
   ]
  },
  {
   "cell_type": "code",
   "execution_count": null,
   "id": "d0eef62a",
   "metadata": {
    "vscode": {
     "languageId": "java"
    }
   },
   "outputs": [],
   "source": [
    "# create dictionary\n",
    "dic = {}\n",
    "# create dictionary with default value, when specific key is not exist, return default value\n",
    "# default Value can be 0 or list\n",
    "dic = collections.defaultdict(defaultValue)\n",
    "\n",
    "# creat dictionary from a list, the values is the occurancy of element\n",
    "dic = collections.Counter(list)\n",
    "\n",
    "# add key-value in dictionary\n",
    "dic[key] = value\n",
    "\n",
    "# update key-value in dictionary\n",
    "dic[key] = newValue\n",
    "\n",
    "# delete key-value in dictionary, return value, if not exist, error occur\n",
    "dic.pop(key)\n",
    "# delete all key-value in dictionary\n",
    "dic.clear()\n",
    "\n",
    "# access key-value in dictionary\n",
    "dic[key]\n",
    "# access key-value in dictionary, if not exist, return None, more parctiable\n",
    "dic.get(key)\n",
    "\n",
    "# check key in dictionary\n",
    "key in dic\n",
    "\n",
    "# length\n",
    "len(dic)\n",
    "# get all keys with list\n",
    "list(dic.keys())\n",
    "# get all values with list\n",
    "list(dic.values())\n",
    "# get all key-value in dictionary\n",
    "list(dic.items())"
   ]
  },
  {
   "cell_type": "markdown",
   "id": "7ee56d61",
   "metadata": {},
   "source": [
    "## Set"
   ]
  },
  {
   "cell_type": "code",
   "execution_count": null,
   "id": "8ddfe70e",
   "metadata": {
    "vscode": {
     "languageId": "java"
    }
   },
   "outputs": [],
   "source": [
    "# create set\n",
    "setEg = set()\n",
    "setEg = set(element,element2...)\n",
    "setEg = set(arr)\n",
    "\n",
    "# add element\n",
    "setEg.add(element)\n",
    "# add element with list, dic\n",
    "setEg.update(elements)\n",
    "\n",
    "# delete element, if not exist, error occur\n",
    "setEg.remove(element)\n",
    "# delete element\n",
    "setEg.discard(element)\n",
    "# delete all\n",
    "setEg.clear()\n",
    "\n",
    "# length\n",
    "len(setEg)\n",
    "# check element exist, return true/false\n",
    "element in setEg"
   ]
  },
  {
   "cell_type": "markdown",
   "id": "bdaa5668-436e-4047-a037-0348acb08883",
   "metadata": {},
   "source": [
    "## Tree"
   ]
  },
  {
   "cell_type": "code",
   "execution_count": null,
   "id": "36b27164-d5fc-4f65-91cd-666e79c10b13",
   "metadata": {
    "vscode": {
     "languageId": "java"
    }
   },
   "outputs": [],
   "source": [
    "%%python\n",
    "class TreeNode:\n",
    "    def __init__(self, key):\n",
    "        self.left = None\n",
    "        self.right = None\n",
    "        self.val = key\n",
    "        \n",
    "class BinarySearchTree:\n",
    "    \n",
    "    def search(root,key):     \n",
    "        if root is None or root.val == key:\n",
    "            return root\n",
    "\n",
    "        if root.val < key:\n",
    "            return search(root.right,key)\n",
    "\n",
    "        return search(root.left,key)\n",
    "\n",
    "    def insert(root, key):\n",
    "        if root is None:\n",
    "            return Node(key)\n",
    "        else:\n",
    "            if root.val == key:\n",
    "                return root\n",
    "            elif root.val < key:\n",
    "                root.right = insert(root.right, key)\n",
    "            else:\n",
    "                root.left = insert(root.left, key)\n",
    "        return root\n",
    " "
   ]
  },
  {
   "cell_type": "markdown",
   "id": "5c4509e5-b379-4f6a-9f6d-94f54de5f85c",
   "metadata": {},
   "source": [
    "## heap"
   ]
  },
  {
   "cell_type": "code",
   "execution_count": null,
   "id": "76cce1a5-e5da-4fcf-98c8-16927e602eb3",
   "metadata": {
    "vscode": {
     "languageId": "java"
    }
   },
   "outputs": [],
   "source": [
    "# use heapq, only increasing order\n",
    "import heapq\n",
    "\n",
    "# create, heapq usuall transfer list to a heap, not init\n",
    "li = [1,2,3,4]\n",
    "heapq.heapify(li) # then li became a heap\n",
    "\n",
    "ele=5\n",
    "k=1\n",
    "\n",
    "# add\n",
    "heapq.heappush(li, ele)\n",
    "# add first and then delete smallest ele\n",
    "heapq.heappushpop(li, ele)\n",
    "# delete smallest ele first and add a ele\n",
    "heapq.heapreplace(li, ele)\n",
    "# delete smallest ele, return the deleted ele\n",
    "heapq.heappop(li)\n",
    "\n",
    "# access k largest ele from heap\n",
    "heapq.nlargest(k, li, key=fun)\n",
    "# access k smallest ele from heap\n",
    "heapq.nsmallest(k, li, key=fun)\n",
    "# access first ele\n",
    "li[0]\n",
    "\n",
    "# length\n",
    "len(li)\n",
    "\n",
    "print(li)"
   ]
  },
  {
   "cell_type": "markdown",
   "id": "15cbc575",
   "metadata": {},
   "source": [
    "# Java "
   ]
  },
  {
   "cell_type": "markdown",
   "id": "e9333551-2b83-48b5-ae58-1073b00fb59d",
   "metadata": {},
   "source": [
    "![](./image/#dataStrucure_JavaHierarchy.png)"
   ]
  },
  {
   "cell_type": "markdown",
   "id": "ae09f957",
   "metadata": {},
   "source": [
    "- **Arrays** is **static** class to provide static methods, which has equals(), sort(), binarySearch(). The relationship of Collection and **Collections** are same like Array and Arrays. ```import java.util.Arrays;```\n",
    "- When use **basic data type E** in ArrayList, HashMap etc, E should be **Integer, Boolean, Character, String, Float, Double**\n"
   ]
  },
  {
   "cell_type": "code",
   "execution_count": null,
   "id": "a0528943-7a9b-42c7-aabd-b4491306ec6f",
   "metadata": {},
   "outputs": [],
   "source": [
    "// some trick methods\n",
    "\n",
    "// return the sign of a Integer, 1 for all positive integer, 0 for 0, -1 for all negetive integer\n",
    "Integer.signum(int)"
   ]
  },
  {
   "cell_type": "markdown",
   "metadata": {},
   "source": [
    "- Array Sort using Comparetor, Comparaing, Lambda"
   ]
  },
  {
   "cell_type": "code",
   "execution_count": null,
   "metadata": {},
   "outputs": [],
   "source": [
    "// https://www.baeldung.com/java-8-sort-lambda\n",
    "public class Human {\n",
    "    private String name;\n",
    "    private int age;\n",
    "}\n",
    "\n",
    "Arraylist<Human> Humans = new Arraylist<>();"
   ]
  },
  {
   "cell_type": "markdown",
   "id": "a33e93d4",
   "metadata": {},
   "source": [
    "- Array Inner Sort Method"
   ]
  },
  {
   "cell_type": "code",
   "execution_count": null,
   "id": "aaaea2b0",
   "metadata": {},
   "outputs": [],
   "source": [
    "//java method for sort, most collections has innate sort methond, we just need to tell how to compare\n",
    "Arrays.sort(arr, [arg2]) // arr is simple array, like int[n] string[n]\n",
    "// below two is mostly same \n",
    "Arrays.sort(humans, [Comparator])\n",
    "Collections.sort(humans, [Comparator])\n",
    "humans.sort([Comparator])\n",
    "\n",
    "// below two are same, both will make sort descending order\n",
    "Compartor.reversed()\n",
    "Collections.reverseOrder() "
   ]
  },
  {
   "cell_type": "markdown",
   "id": "cb465f03",
   "metadata": {},
   "source": [
    "- Using Comparator Comparing in the inner Sort Method"
   ]
  },
  {
   "cell_type": "code",
   "execution_count": null,
   "id": "f4ac6995",
   "metadata": {},
   "outputs": [],
   "source": [
    "// Comparator\n",
    "\n",
    "// string innate compare method, this compare by alphabet not string length, aaa < b \n",
    "\"aaa\".compareTo(\"b\") //-1\n",
    "\"b\".compareTo(\"b\") //0\n",
    "\"bb\".compareTo(\"b\") //1\n",
    "\"c\".compareTo(\"b\") //1\n",
    "\n",
    "// comparator innate method only have int, double and long\n",
    "Comparator.comparingInt()\n",
    "Comparator.comparingDouble()\n",
    "Comparator.comparingLong()\n",
    "\n",
    "// example\n",
    "Comparator.comparingInt(String::length)\n",
    "\n",
    "// Comparator interface\n",
    "import java.util.Comparator;\n",
    "public class xxxComparator implements Comparator<E> {\n",
    "    public int compare(E s1, E s2) {\n",
    "        // compare relationship of s1 s2. \n",
    "\n",
    "        //return should be int, -1 0 1 or other integer. 0 counts as false\n",
    "\n",
    "        // example if s1 and s2 are String\n",
    "        return s2.length() - s1.length();\n",
    "    }\n",
    "    //example\n",
    "    public static void main (String[] args) {\n",
    "        List<String> names = Arrays.asList(\"Jan\", \"Tommy\", \"Jo\", \"Adam\");\n",
    "        names.sort(new xxxComparator());\n",
    "        System.out.println(names); // [Tommy, Adam, Jan, Jo]\n",
    "    }\n",
    "}\n",
    "\n",
    "\n",
    "// Sort Using Reference to Static Method\n",
    "Collections.sort(humans, Comparator.comparing(Human::getName));\n",
    "humans.sort(Human::compareByNameThenAge);\n",
    "\n",
    "// creating an anonymous inner class for the Comparator\n",
    "new Comparator<E>() {\n",
    "    @Override\n",
    "    public int compare(E h1, E h2) {\n",
    "        return ;\n",
    "    }\n",
    "} \n",
    "\n",
    "// compare with multiple conditions\n",
    "Comparator.comparing(Human::getName).thenComparing(Human::getAge)\n",
    "\n",
    "//lambda expression\n",
    "(a,b) -> a-b\n",
    "（a,b）->()\n",
    "\n",
    "//example\n",
    "Arrays.sort(String[], (a, b) -> Integer.signum(a.length() - b.length()));\n",
    "Arrays.sort(String[], Comparator.comparingInt(String::length));   // compare string length directly\n",
    "// Collections can be array, arraylist variable directly\n",
    "Collections.sort(E, new Comparator<E>() {\n",
    "        @Override\n",
    "        public int compare(E h1, E h2) {\n",
    "            return ;\n",
    "        }\n",
    "    });\n",
    "// using an instance method reference \n",
    "Collections.sort( humans, Comparator.comparing(Human::getName));\n",
    "\n",
    "// sort by stream, and comparator use the same way\n",
    "List<String> letters = Lists.newArrayList(\"B\", \"A\", \"C\");\n",
    "List<String> sortedLetters = letters.stream().sorted().collect(Collectors.toList());\n",
    "List<Human> sortedHumans = humans.stream().sorted(nameComparator).collect(Collectors.toList());\n",
    "// reverse order \n",
    "List<Human> reverseSortedHumans = humans.stream()\n",
    "    .sorted(Comparator.comparing(Human::getName, Comparator.reverseOrder()))\n",
    "    .collect(Collectors.toList());"
   ]
  },
  {
   "cell_type": "markdown",
   "id": "a1a1401c",
   "metadata": {},
   "source": [
    "## Array"
   ]
  },
  {
   "cell_type": "code",
   "execution_count": null,
   "id": "52ed4ce1",
   "metadata": {
    "vscode": {
     "languageId": "java"
    }
   },
   "outputs": [],
   "source": [
    "// create\n",
    "E[] arr={1,2,3};\n",
    "// create, n is the max length of array\n",
    "E[] arr=new E[n];\n",
    "// create with manually element\n",
    "E[] arr=new E[]{ele,....}\n",
    "\n",
    "// fill elements with one value, don't need to reassign to arr\n",
    "Arrays.fill(arr,starting index ,ending index ,value);\n",
    "// set elements by their index from specific expressions, don't need to reassign to arr \n",
    "Arrays.setAll(arr, i -> i*2); // element at index 1 will be 2\n",
    "// return extended arr, need to reassign to arr\n",
    "arr = Arrays.copyOf(arr, newLength);\n",
    "// return part of arr, end excluded\n",
    "Arrays.copyOfRange(int[] original_array, int from_index, int to_index) \n",
    "\n",
    "// length\n",
    "arr.length;\n",
    "// print\n",
    "Arrays.toString(arr);\n",
    "// sort, collections.reverseOrder means descending order\n",
    "Arrays.sort(arr, Collections.reverseOrder());\n",
    "// find and return index, using binary search, and arr must to be sorted\n",
    "Arrays.binarySearch(arr, ele);\n",
    "// compare, the index and element should be same\n",
    "Arrays.equals(arr,arr2); // not same as arr.equals()\n",
    "// compare address, equals ==\n",
    "arr.equals(arr2)\n",
    "// reverse\n",
    "Collections.reverse(arr);\n",
    "// sum\n",
    "Arrays.stream(arr).sum()\n",
    "\n",
    "// return a list with elements, then use list methods, like print list directly\n",
    "Arrays.asList(arr);\n",
    "\n",
    "// max, but arr can't be float, stream not support float, so as min\n",
    "Arrays.stream(arr).max().getAsInt(); // getAsDouble()\n",
    "// min\n",
    "Arrays.stream(arr).max().getAsInt(); // getAsDouble()"
   ]
  },
  {
   "cell_type": "markdown",
   "id": "2fa23116",
   "metadata": {},
   "source": [
    "## ArrayList"
   ]
  },
  {
   "cell_type": "code",
   "execution_count": null,
   "id": "a295b6eb",
   "metadata": {
    "vscode": {
     "languageId": "java"
    }
   },
   "outputs": [],
   "source": [
    "// ArrayList is dynamic, don't need to and can't set max length to create\n",
    "// create ArrayList and don't limit the datatype\n",
    "ArrayList arrlist = new ArrayList();\n",
    "// create Arraylist with specific datatype\n",
    "ArrayList<E> arrlist = new ArrayList<>();\n",
    "// create Arraylist with value\n",
    "ArrayList<E> arrlist = new ArrayList<>(Arrays.asList(ele, ele2, ele3, ele4));\n",
    "\n",
    "// add at the end of array\n",
    "arrlist.add(x);\n",
    "// add index\n",
    "arrlist.add(index, x);\n",
    "// add all, collection can be anything in collecion\n",
    "arrlist.addAll(Collection c);\n",
    "arrlist.addAll(int index=0, Collection c);\n",
    "// get\n",
    "arrlist.get(index);\n",
    "// change\n",
    "arrlist.set(index, x);\n",
    "// delete\n",
    "arrlist.remove(index);\n",
    "// delete all\n",
    "arrlist.clear();\n",
    "// length\n",
    "arrlist.size();\n",
    "// copy\n",
    "\n",
    "// sort by collection\n",
    "Collections.sort(arrlist);\n",
    "// sort by comparator， Comparator.reverseOrder\n",
    "arrlist.sort(Comparator.naturalOrder());\n",
    "// find, if exist, return index, if not exist return -1\n",
    "arrlist.indexOf();\n",
    "// find element last index\n",
    "arrlist.lastIndexOf();\n",
    "// check is empty\n",
    "arrlist.isEmpty();\n",
    "// slice, not include end\n",
    "arrlist.subList(int start, int end);\n",
    "    \n",
    "// tranfer to array\n",
    "arrlist.toArray();\n",
    "// tranfer to string\n",
    "arrlist.toString();\n",
    "\n",
    "// loop classic\n",
    "for(int i=0;i<arrlist.size();i++){}\n",
    "// loop for each\n",
    "for(datatype i : arrlist){}"
   ]
  },
  {
   "cell_type": "markdown",
   "id": "1815f35e",
   "metadata": {},
   "source": [
    "## LinkedList"
   ]
  },
  {
   "cell_type": "code",
   "execution_count": null,
   "id": "568b78cc",
   "metadata": {
    "vscode": {
     "languageId": "java"
    }
   },
   "outputs": [],
   "source": [
    "// create linkedlist\n",
    "LinkedList<E>  linkedlist = new LinkedList<>();\n",
    "// create with another linkedlist\n",
    "LinkedList<E> linkedlist2 = new LinkedList<>(linkedlist);\n",
    "\n",
    "// add with index\n",
    "linkedlist.add(index,element);\n",
    "// add at start\n",
    "linkedlist.addFirst(element);\n",
    "// add at end\n",
    "linkedlist.add(element); // return true/false\n",
    "linkedlist.addLast(element);\n",
    "// add fron collection, return true/false\n",
    "linkedlist.addAll(index,Collection);\n",
    "\n",
    "// add with true/false\n",
    "linkedlist.offer(element); // add last\n",
    "linkedlist.offerFirst(element);\n",
    "linkedlist.offerLast(element);\n",
    "\n",
    "// access with index\n",
    "linkedlist.get(index);\n",
    "// access at first\n",
    "linkedlist.getFirst();\n",
    "// access at end\n",
    "linkedlist.getLast();\n",
    "\n",
    "// update with index\n",
    "linkedlist.set(index,element)\n",
    "\n",
    "// delete with index, return deleted element\n",
    "linkedlist.remove(index);\n",
    "// delete at start, return deleted element\n",
    "linkedlist.removeFirst();\n",
    "// delete at end, return deleted element\n",
    "linkedlist.removeLast();\n",
    "// delete all\n",
    "linkedlist.clear();\n",
    "\n",
    "//length\n",
    "linkedlist.size();\n",
    "// find element contains\n",
    "linkedlist.contains(element);\n",
    "// find element, return first index\n",
    "linkedlist.indexOf(element); \n",
    "// find element, return last index\n",
    "linkedlist.lastIndexOf(element); \n",
    "// tranfer to string\n",
    "linkedlist.toString();\n",
    "\n",
    "// loop classic\n",
    "for(int i=0;i<linkedlist.size();i++){}\n",
    "// loop for each\n",
    "for(E i : linkedlist){}"
   ]
  },
  {
   "cell_type": "markdown",
   "id": "4be12b84",
   "metadata": {},
   "source": [
    "## Queue"
   ]
  },
  {
   "cell_type": "code",
   "execution_count": null,
   "id": "d07c0df9",
   "metadata": {
    "vscode": {
     "languageId": "java"
    }
   },
   "outputs": [],
   "source": [
    "// create queue\n",
    "Queue<E> queue = new LinkedList<>(size);\n",
    "\n",
    "// access head element, if not exist, return null\n",
    "queue.peek();\n",
    "\n",
    "// add, if success return true, if fail return false\n",
    "queue.offer(element);\n",
    "// delete, return element in head, if not exist, return null\n",
    "queue.poll();\n",
    "\n",
    "// check empty\n",
    "queue.isEmpty();\n",
    "// length\n",
    "queue.size();\n",
    "// find\n",
    "queue.contains(element);\n",
    "\n",
    "// loop\n",
    "for(E element : queue){}"
   ]
  },
  {
   "cell_type": "markdown",
   "id": "0d18b0b8-cb07-4f43-b58f-bc02029b3d08",
   "metadata": {},
   "source": [
    "## Sorted Queue(also used as heap)"
   ]
  },
  {
   "cell_type": "code",
   "execution_count": null,
   "id": "389ac26e-7cfc-485f-b96e-d1f08b7ebe85",
   "metadata": {
    "vscode": {
     "languageId": "java"
    }
   },
   "outputs": [],
   "source": [
    "// PriorityQueue,\n",
    "\n",
    "// create priorityqueue with default increasing order\n",
    "PriorityQueue<E> pq = new PriorityQueue<>();\n",
    "// create priorityqueue with decreasing order\n",
    "PriorityQueue<E> pq = new PriorityQueue<>(Collections.reverseOrder());\n",
    "// create priorityqueue with default order and fill with a collection \n",
    "PriorityQueue<E> pq = new PriorityQueue<>(Collection<E> c);\n",
    "// create with init capacity not the max length\n",
    "PriorityQueue<E> pq = new PriorityQueue<>(int initialCapacity);\n",
    "// create with iniit capacity and comparator\n",
    "PriorityQueue<E> pq = new PriorityQueue<>(int initialCapacity, Comparator<E> comparator);\n",
    "\n",
    "// add, return true/false\n",
    "pq.add(ele);\n",
    "\n",
    "// remove\n",
    "pq.remove(ele);\n",
    "// remove first element\n",
    "pq.poll()\n",
    "\n",
    "// access, return null if empty\n",
    "pq.peek();\n",
    "\n",
    "// length\n",
    "pq.size();\n",
    "pq.isEmpty();\n"
   ]
  },
  {
   "cell_type": "markdown",
   "id": "ed259cd4",
   "metadata": {},
   "source": [
    "## Stack "
   ]
  },
  {
   "cell_type": "code",
   "execution_count": null,
   "id": "1640ce8b",
   "metadata": {
    "vscode": {
     "languageId": "java"
    }
   },
   "outputs": [],
   "source": [
    "// create stack\n",
    "Stack<E> stack = new Stack<>();\n",
    "\n",
    "// add element\n",
    "stack.push(element);\n",
    "\n",
    "// access head element, if none error occur\n",
    "stack.peek();\n",
    "\n",
    "// delete head element, and return it\n",
    "stack.pop();\n",
    "\n",
    "// length\n",
    "stack.size();\n",
    "\n",
    "// empty\n",
    "stack.isEmpty();"
   ]
  },
  {
   "cell_type": "markdown",
   "id": "9d65221f",
   "metadata": {},
   "source": [
    "## HashMap"
   ]
  },
  {
   "cell_type": "code",
   "execution_count": null,
   "id": "b9778d01",
   "metadata": {
    "vscode": {
     "languageId": "java"
    }
   },
   "outputs": [],
   "source": [
    "// create hashMap\n",
    "HashMap<E,E> hashmap = new HashMap<>();\n",
    "// create from exist hashMap\n",
    "HashMap<E,E> hashmap2 = new HashMap<>(hashmap);\n",
    "\n",
    "// add key-value, if exist, return old value, if not exist, return null\n",
    "hashmap.put(key,value);\n",
    "\n",
    "// delete key-value, if exist, return value, if not exist, return null\n",
    "hashmap.remove(key);\n",
    "// delete all\n",
    "hashmap.clear();\n",
    "\n",
    "// access key-value, if not exist, error occur\n",
    "hashmap.get(key);\n",
    "// access key-value, if not exist, return defaultValue\n",
    "hashmap.getOrDefault(key,defaultValue);\n",
    "\n",
    "// check key\n",
    "map.containsKey(key);\n",
    "// check value\n",
    "map.containsValue(value);\n",
    "// check empty\n",
    "hashmap.isEmpty();\n",
    "// length\n",
    "hashmap.size();\n",
    "\n",
    "// get keys\n",
    "hashmap.keySet();\n",
    "// get values\n",
    "hashmap.values();\n",
    "// loop hashmap\n",
    "for (E key : hashmap.keySet()) {\n",
    "    System.out.println(\"key: \" + key + \" value: \" + hashmap.get(key));\n",
    "}\n"
   ]
  },
  {
   "cell_type": "markdown",
   "id": "224a39f9",
   "metadata": {},
   "source": [
    "## HashSet"
   ]
  },
  {
   "cell_type": "code",
   "execution_count": null,
   "id": "0e0d0387",
   "metadata": {
    "vscode": {
     "languageId": "java"
    }
   },
   "outputs": [],
   "source": [
    "import java.util.HashSet;\n",
    "// create hashset\n",
    "HashSet<E> set = new HashSet<>();\n",
    "HashSet<E> set = new HashSet<>(Arrays.asList(arr));\n",
    "\n",
    "// add element\n",
    "set.add(element);\n",
    "\n",
    "// add all element from collection\n",
    "set.addAll(collection)\n",
    "\n",
    "// search element\n",
    "set.contains(element);\n",
    "\n",
    "// delete element, return true/false\n",
    "set.remove(element);\n",
    "// delete all\n",
    "set.clear();\n",
    "\n",
    "// length\n",
    "set.size();\n",
    "\n",
    "// empty\n",
    "set.isEmpty();\n",
    "\n",
    "// loop\n",
    "for(datatype element : set){\n",
    "    \n",
    "}\n",
    "\n",
    "// transfer to array\n",
    "set.toArray();"
   ]
  },
  {
   "cell_type": "markdown",
   "id": "69e0d563",
   "metadata": {},
   "source": [
    "## Tree"
   ]
  },
  {
   "cell_type": "code",
   "execution_count": null,
   "id": "55a314d9",
   "metadata": {
    "vscode": {
     "languageId": "java"
    }
   },
   "outputs": [],
   "source": [
    "public class TreeNode {\n",
    "    E val;\n",
    "    TreeNode left;\n",
    "    TreeNode right;\n",
    "\n",
    "    TreeNode() {\n",
    "    }\n",
    "\n",
    "    TreeNode(E val) {\n",
    "        this.val = val;\n",
    "    }\n",
    "\n",
    "    TreeNode(E val, TreeNode left, TreeNode right) {\n",
    "        this.val = val;\n",
    "        this.left = left;\n",
    "        this.right = right;\n",
    "    }\n",
    "}\n",
    "\n",
    "\n",
    "// Binary Search Tree Methods\n",
    "public class BinarySearchTree{\n",
    "        \n",
    "    public static TreeNode search(TreeNode root, E arg){\n",
    "        if(root.val==arg || root==null){\n",
    "            return root;\n",
    "        }\n",
    "        \n",
    "        return root.val>arg ? search(root.left, arg): search(root.right, arg);\n",
    "    }\n",
    "    \n",
    "    public static TreeNode add(TreeNode root, E arg){\n",
    "        if(root==null){\n",
    "            return new TreeNode(arg);\n",
    "        }\n",
    "        \n",
    "        if(root.val==arg){\n",
    "            return root;\n",
    "        }\n",
    "            \n",
    "        return root.val>arg ? add(root.left, arg): add(root.right, arg);        \n",
    "    }\n",
    "    \n",
    "    public static TreeNode min(TreeNode root){\n",
    "        while(roo.leftt!=null){\n",
    "            root=root.left;\n",
    "        }\n",
    "        return root.val;\n",
    "    }    \n",
    "    \n",
    "    public static TreeNode max(TreeNode root){\n",
    "        while(root.right!=null){\n",
    "            root=root.right;\n",
    "        }\n",
    "        return root.val;\n",
    "    }\n",
    "    \n",
    "    public static TreeNode delete(TreeNode root, E arg){\n",
    "        if(root==null){\n",
    "            return null;\n",
    "        }\n",
    "        \n",
    "        if(root.val>arg){\n",
    "            delete(root.left, arg);\n",
    "        }else if(root.val<arg){\n",
    "            delete(root.right, arg);\n",
    "        }else{\n",
    "            if(root.left==null && root.right==null){\n",
    "                root = null;\n",
    "            }else if(root.right!=null){\n",
    "                root.val=min(root.right);\n",
    "                root.right=delete(root.right, root.val);\n",
    "            }else{\n",
    "                root.val=min(root.left);\n",
    "                delete(root.left, root.val);\n",
    "            }\n",
    "        }\n",
    "        \n",
    "        return root;\n",
    "        \n",
    "    }\n",
    "    \n",
    "}"
   ]
  }
 ],
 "metadata": {
  "kernelspec": {
   "display_name": "Python 3 (ipykernel)",
   "language": "python",
   "name": "python3"
  },
  "language_info": {
   "codemirror_mode": {
    "name": "ipython",
    "version": 3
   },
   "file_extension": ".py",
   "mimetype": "text/x-python",
   "name": "python",
   "nbconvert_exporter": "python",
   "pygments_lexer": "ipython3",
   "version": "3.9.7"
  },
  "toc-autonumbering": true,
  "toc-showcode": false,
  "toc-showmarkdowntxt": false,
  "toc-showtags": false
 },
 "nbformat": 4,
 "nbformat_minor": 5
}
