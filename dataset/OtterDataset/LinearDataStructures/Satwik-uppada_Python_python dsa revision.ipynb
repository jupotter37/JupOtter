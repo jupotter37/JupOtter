{
 "cells": [
  {
   "cell_type": "markdown",
   "metadata": {},
   "source": [
    "# `Python DSA Revision`"
   ]
  },
  {
   "cell_type": "markdown",
   "metadata": {},
   "source": [
    "## Data structures in Python"
   ]
  },
  {
   "cell_type": "markdown",
   "metadata": {},
   "source": [
    "---\n",
    "\n",
    "`What are data structures?`\n",
    "\n",
    "Data structures are used to organize, store and manage data for efficient access and modification.\n",
    "\n",
    "---"
   ]
  },
  {
   "cell_type": "markdown",
   "metadata": {},
   "source": [
    "## Types of data structures in python\n",
    "\n",
    "### Inbuilt Data Structures\n",
    "\n",
    "- **List**\n",
    "- **Tuple**\n",
    "- **Dictionary (dict)**\n",
    "- **Set**\n",
    "- **String**\n",
    "- **Array** (from array module)\n",
    "- **Deque** (from collections module)\n",
    "- **Heap**\n",
    "  - Min Heap\n",
    "  - Max Heap\n",
    "- **Counter** (from collections module)\n",
    "- **OrderedDict** (from collections module)\n",
    "- **DefaultDict** (from collections module)\n",
    "\n",
    "\n",
    "### User-defined Data Structures\n",
    "\n",
    "- **Linked List**\n",
    "  - Singly Linked List\n",
    "  - Doubly Linked List\n",
    "  - Circular Linked List\n",
    "\n",
    "- **Stack**\n",
    "- **Queue**\n",
    "  - Queue\n",
    "  - Deque (Double-ended Queue)\n",
    "- **Tree**\n",
    "  - Binary Tree\n",
    "    - Binary Search Tree (BST)\n",
    "    - AVL Tree\n",
    "    - Red-Black Tree\n",
    "  - N-ary Tree\n",
    "    - Trie\n",
    "- **Graph**\n",
    "  - Directed Graph\n",
    "  - Undirected Graph\n",
    "- **Hash Table**\n",
    "  - Dictionary (dict)\n",
    "  - Set\n",
    "\n",
    "---"
   ]
  },
  {
   "cell_type": "markdown",
   "metadata": {},
   "source": [
    "## Inbuilt Data sturctures\n",
    "\n",
    "### `Lists`"
   ]
  },
  {
   "cell_type": "markdown",
   "metadata": {},
   "source": [
    "| Function            | Description                                                                                          |\n",
    "|---------------------|------------------------------------------------------------------------------------------------------|\n",
    "| `len(list)`         | Returns the number of elements in the list.                                                          |\n",
    "| `min(list)`         | Returns the minimum value from the list.                                                             |\n",
    "| `max(list)`         | Returns the maximum value from the list.                                                             |\n",
    "| `sum(list)`         | Returns the sum of all elements in the list.                                                         |\n"
   ]
  },
  {
   "cell_type": "code",
   "execution_count": 76,
   "metadata": {},
   "outputs": [],
   "source": [
    "\n",
    "# Creating a list\n",
    "my_list: list = [1,2,3,4,5]"
   ]
  },
  {
   "cell_type": "markdown",
   "metadata": {},
   "source": [
    "### List Functions\n",
    "---"
   ]
  },
  {
   "cell_type": "code",
   "execution_count": 77,
   "metadata": {},
   "outputs": [
    {
     "name": "stdout",
     "output_type": "stream",
     "text": [
      "5\n"
     ]
    }
   ],
   "source": [
    "print(len(my_list))"
   ]
  },
  {
   "cell_type": "code",
   "execution_count": 78,
   "metadata": {},
   "outputs": [
    {
     "name": "stdout",
     "output_type": "stream",
     "text": [
      "1\n"
     ]
    }
   ],
   "source": [
    "print(min(my_list))"
   ]
  },
  {
   "cell_type": "code",
   "execution_count": 79,
   "metadata": {},
   "outputs": [
    {
     "name": "stdout",
     "output_type": "stream",
     "text": [
      "5\n"
     ]
    }
   ],
   "source": [
    "print(max(my_list))"
   ]
  },
  {
   "cell_type": "code",
   "execution_count": 80,
   "metadata": {},
   "outputs": [
    {
     "name": "stdout",
     "output_type": "stream",
     "text": [
      "15\n"
     ]
    }
   ],
   "source": [
    "print(sum(my_list))"
   ]
  },
  {
   "cell_type": "markdown",
   "metadata": {},
   "source": [
    "### List Methods\n",
    "---"
   ]
  },
  {
   "cell_type": "markdown",
   "metadata": {},
   "source": [
    "| Method                           | Description                                                                                                     |\n",
    "|----------------------------------|-----------------------------------------------------------------------------------------------------------------|\n",
    "| `list.append(element)`           | Adds an element to the end of the list.                                                                         |\n",
    "| `list.extend(iterable)`          | Appends elements from an iterable (such as another list) to the end of the list.                               |\n",
    "| `list.insert(index, element)`    | Inserts an element at the specified index.                                                                      |\n",
    "| `list.remove(element)`           | Removes the first occurrence of the specified element from the list.                                           |\n",
    "| `list.pop([index])`              | Removes and returns the element at the specified index. If no index is specified, removes and returns the last element. |\n",
    "| `list.clear()`                   | Removes all elements from the list.                                                                             |\n",
    "| `list.index(element, start, end)`| Returns the index of the first occurrence of the specified element within the specified start and end indexes. |\n",
    "| `list.count(element)`            | Returns the number of occurrences of the specified element in the list.                                        |\n",
    "| `list.reverse()`                 | Reverses the order of elements in the list.                                                                     |\n",
    "| `list.sort(key=None, reverse=False)` | Sorts the elements of the list in ascending order.                                                           |\n",
    "| `list.copy()`                    | Returns a shallow copy of the list.                                                                             |\n",
    "| `sorted(iterable, key=None, reverse=False)` | Returns a new sorted list from the elements of any iterable.                                                 |\n",
    "| `all(iterable)`                  | Returns True if all elements in the iterable are true (or if the iterable is empty).                           |\n",
    "| `any(iterable)`                  | Returns True if any element in the iterable is true. If the iterable is empty, returns False.                   |\n",
    "| `enumerate(iterable, start=0)`   | Returns an enumerate object containing tuples of the form `(index, value)` for each element in the iterable.   |\n"
   ]
  },
  {
   "cell_type": "code",
   "execution_count": 81,
   "metadata": {},
   "outputs": [
    {
     "data": {
      "text/plain": [
       "[1, 2, 3, 4, 5, 6]"
      ]
     },
     "execution_count": 81,
     "metadata": {},
     "output_type": "execute_result"
    }
   ],
   "source": [
    "my_list.append(6)\n",
    "my_list"
   ]
  },
  {
   "cell_type": "code",
   "execution_count": 82,
   "metadata": {},
   "outputs": [
    {
     "data": {
      "text/plain": [
       "[1, 2, 2.5, 3, 4, 5, 6]"
      ]
     },
     "execution_count": 82,
     "metadata": {},
     "output_type": "execute_result"
    }
   ],
   "source": [
    "\n",
    "# insert(position, value) - insert at specified index\n",
    "my_list.insert(2,2.5)\n",
    "my_list"
   ]
  },
  {
   "cell_type": "code",
   "execution_count": 83,
   "metadata": {},
   "outputs": [
    {
     "data": {
      "text/plain": [
       "[1, 2, 2.5, 3, 5, 6]"
      ]
     },
     "execution_count": 83,
     "metadata": {},
     "output_type": "execute_result"
    }
   ],
   "source": [
    "\n",
    "#remove(value) - removes the first occurrence of the specified value\n",
    "my_list.remove(4)\n",
    "my_list"
   ]
  },
  {
   "cell_type": "code",
   "execution_count": 84,
   "metadata": {},
   "outputs": [
    {
     "name": "stdout",
     "output_type": "stream",
     "text": [
      "2.5\n",
      "[1, 2, 3, 5, 6]\n"
     ]
    }
   ],
   "source": [
    "\n",
    "# pop(position) - removes and return the element at specified index\n",
    "print(my_list.pop(2))\n",
    "print(my_list)\n"
   ]
  },
  {
   "cell_type": "code",
   "execution_count": 85,
   "metadata": {},
   "outputs": [
    {
     "data": {
      "text/plain": [
       "[1, 2, 3, 5, 6, 4, 5, 6]"
      ]
     },
     "execution_count": 85,
     "metadata": {},
     "output_type": "execute_result"
    }
   ],
   "source": [
    "\n",
    "my_list.extend([4,5,6])  # append list of elements at the end of the list\n",
    "my_list"
   ]
  },
  {
   "cell_type": "code",
   "execution_count": 86,
   "metadata": {},
   "outputs": [
    {
     "name": "stdout",
     "output_type": "stream",
     "text": [
      "2\n",
      "4\n"
     ]
    }
   ],
   "source": [
    "\n",
    "# index(element, start, end) - Returns the index of the first occurrence of the specified element within the specified start and end indexes.\n",
    "print(my_list.index(3))\n",
    "print(my_list.index(6,4,)) \n"
   ]
  },
  {
   "cell_type": "code",
   "execution_count": 87,
   "metadata": {},
   "outputs": [
    {
     "data": {
      "text/plain": [
       "2"
      ]
     },
     "execution_count": 87,
     "metadata": {},
     "output_type": "execute_result"
    }
   ],
   "source": [
    "\n",
    "# count(value) - returns no.of occurrences of specified element\n",
    "my_list.count(6)"
   ]
  },
  {
   "cell_type": "code",
   "execution_count": 88,
   "metadata": {},
   "outputs": [
    {
     "data": {
      "text/plain": [
       "[6, 5, 4, 6, 5, 3, 2, 1]"
      ]
     },
     "execution_count": 88,
     "metadata": {},
     "output_type": "execute_result"
    }
   ],
   "source": [
    "\n",
    "# reversve() - reverse the order of the list\n",
    "\n",
    "my_list.reverse()\n",
    "my_list"
   ]
  },
  {
   "cell_type": "code",
   "execution_count": 89,
   "metadata": {},
   "outputs": [
    {
     "name": "stdout",
     "output_type": "stream",
     "text": [
      "ascending:  [1, 2, 3, 4, 5, 5, 6, 6]\n",
      "descending: [6, 6, 5, 5, 4, 3, 2, 1]\n"
     ]
    }
   ],
   "source": [
    "\n",
    "# sort() - returns the sorted array in ascending order by default\n",
    "my_list.sort()\n",
    "print(\"ascending: \", my_list)\n",
    "\n",
    "my_list.sort(reverse=True)\n",
    "print(\"descending:\",my_list)"
   ]
  },
  {
   "cell_type": "code",
   "execution_count": 90,
   "metadata": {},
   "outputs": [
    {
     "data": {
      "text/plain": [
       "[6, 6, 5, 5, 4, 3, 2, 1]"
      ]
     },
     "execution_count": 90,
     "metadata": {},
     "output_type": "execute_result"
    }
   ],
   "source": [
    "\n",
    "# Sorting using key --> sorted(my_list,reverse = True/False)\n",
    "sorted_list = sorted(my_list,reverse=True)\n",
    "sorted_list"
   ]
  },
  {
   "cell_type": "code",
   "execution_count": 91,
   "metadata": {},
   "outputs": [
    {
     "name": "stdout",
     "output_type": "stream",
     "text": [
      "[6, 6, 5, 5, 4, 3, 2, 1]\n"
     ]
    }
   ],
   "source": [
    "\n",
    "# copy() ---> Returns a shallow copy of the list. \n",
    "# Changes made to the copy will not affect the original list, and vice versa.\n",
    "copied_list = my_list.copy()\n",
    "print(copied_list)\n"
   ]
  },
  {
   "cell_type": "code",
   "execution_count": 92,
   "metadata": {},
   "outputs": [
    {
     "name": "stdout",
     "output_type": "stream",
     "text": [
      "False\n"
     ]
    }
   ],
   "source": [
    "\n",
    "\"\"\" `all(iterable):` Returns True if all elements in the iterable are true \n",
    "(or if the iterable is empty).\"\"\"\n",
    "my_list = [True, True, False]\n",
    "print(all(my_list))  # Output: False\n"
   ]
  },
  {
   "cell_type": "code",
   "execution_count": 93,
   "metadata": {},
   "outputs": [
    {
     "name": "stdout",
     "output_type": "stream",
     "text": [
      "True\n"
     ]
    }
   ],
   "source": [
    "my_list = [True, True, False]\n",
    "print(any(my_list))  # Output: True\n"
   ]
  },
  {
   "cell_type": "code",
   "execution_count": 94,
   "metadata": {},
   "outputs": [
    {
     "name": "stdout",
     "output_type": "stream",
     "text": [
      "Element at index 1: a\n",
      "Element at index 2: b\n",
      "Element at index 3: c\n"
     ]
    }
   ],
   "source": [
    "my_list = ['a', 'b', 'c']\n",
    "for index, value in enumerate(my_list, start=1):\n",
    "    print(f\"Element at index {index}: {value}\")\n"
   ]
  },
  {
   "cell_type": "markdown",
   "metadata": {},
   "source": [
    "---\n",
    "\n",
    "### `Tuples`\n",
    "\n",
    "### Functions in Tuples"
   ]
  },
  {
   "cell_type": "markdown",
   "metadata": {},
   "source": [
    "| Fucntion          | Description                                                                                                         |\n",
    "|---------------------------|---------------------------------------------------------------------------------------------------------------------|\n",
    "| `len(tuple)`              | Returns the number of elements in the tuple.                                                                        |\n",
    "| `min(tuple)`              | Returns the minimum value from the tuple.                                                                           |\n",
    "| `max(tuple)`              | Returns the maximum value from the tuple.                                                                           |\n",
    "| `sum(tuple)`              | Returns the sum of all elements in the tuple.                                                                       |\n"
   ]
  },
  {
   "cell_type": "code",
   "execution_count": 95,
   "metadata": {},
   "outputs": [],
   "source": [
    "\n",
    "# Creating a tuple\n",
    "my_tuple = (1,2,3,4,5)"
   ]
  },
  {
   "cell_type": "code",
   "execution_count": 96,
   "metadata": {},
   "outputs": [
    {
     "name": "stdout",
     "output_type": "stream",
     "text": [
      "5\n"
     ]
    }
   ],
   "source": [
    "print(len(my_tuple))  # Output: 5"
   ]
  },
  {
   "cell_type": "code",
   "execution_count": 97,
   "metadata": {},
   "outputs": [
    {
     "name": "stdout",
     "output_type": "stream",
     "text": [
      "1\n"
     ]
    }
   ],
   "source": [
    "\n",
    "print(min(my_tuple))  # Output: 1"
   ]
  },
  {
   "cell_type": "code",
   "execution_count": 98,
   "metadata": {},
   "outputs": [
    {
     "name": "stdout",
     "output_type": "stream",
     "text": [
      "5\n"
     ]
    }
   ],
   "source": [
    "print(max(my_tuple))  # Output: 5\n"
   ]
  },
  {
   "cell_type": "code",
   "execution_count": 99,
   "metadata": {},
   "outputs": [
    {
     "name": "stdout",
     "output_type": "stream",
     "text": [
      "15\n"
     ]
    }
   ],
   "source": [
    "print(sum(my_tuple))  # Output: 15\n"
   ]
  },
  {
   "cell_type": "markdown",
   "metadata": {},
   "source": [
    "### Methods in Tuple"
   ]
  },
  {
   "cell_type": "markdown",
   "metadata": {},
   "source": [
    "| Fucntion          | Description                                                                                                         |\n",
    "|---------------------------|---------------------------------------------------------------------------------------------------------------------|\n",
    "| `tuple.count(element)`   | Returns the number of occurrences of the specified element in the tuple.                                            |\n",
    "| `tuple.index(element, start, end)` | Returns the index of the first occurrence of the specified element within the specified start and end indexes. |"
   ]
  },
  {
   "cell_type": "code",
   "execution_count": 100,
   "metadata": {},
   "outputs": [
    {
     "name": "stdout",
     "output_type": "stream",
     "text": [
      "2\n",
      "3\n"
     ]
    }
   ],
   "source": [
    "my_tuple = (1, 2, 2, 3, 3, 3)\n",
    "print(my_tuple.count(2))  # Output: 2 (number of occurrences of 2)\n",
    "print(my_tuple.count(3))  # Output: 3 (number of occurrences of 3)\n"
   ]
  },
  {
   "cell_type": "code",
   "execution_count": 101,
   "metadata": {},
   "outputs": [
    {
     "name": "stdout",
     "output_type": "stream",
     "text": [
      "2\n",
      "4\n"
     ]
    }
   ],
   "source": [
    "my_tuple = (1, 2, 3, 4, 3)\n",
    "print(my_tuple.index(3))     # Output: 2 (index of the first occurrence of 3)\n",
    "print(my_tuple.index(3, 3))  # Output: 4 (index of the first occurrence of 3 after index 3)\n"
   ]
  },
  {
   "cell_type": "markdown",
   "metadata": {},
   "source": [
    "--- \n",
    "\n",
    "### `Dictionaries`\n",
    "\n"
   ]
  },
  {
   "cell_type": "markdown",
   "metadata": {},
   "source": [
    "| Method                           | Description                                                                                                         |\n",
    "|----------------------------------|---------------------------------------------------------------------------------------------------------------------|\n",
    "| `len(dict)`                      | Returns the number of key-value pairs in the dictionary.                                                            |\n",
    "| `dict.keys()`                    | Returns a view object containing the keys of the dictionary.                                                        |\n",
    "| `dict.values()`                  | Returns a view object containing the values of the dictionary.                                                      |\n",
    "| `dict.items()`                   | Returns a view object containing the key-value pairs of the dictionary as tuples.                                   |\n",
    "| `dict.get(key, default=None)`    | Returns the value associated with the specified key. If the key is not found, it returns the default value (None if not specified). |\n",
    "| `dict.pop(key, default)`         | Removes the key-value pair with the specified key and returns the value. If the key is not found, returns the default value (or raises a KeyError if not specified). |\n",
    "| `dict.popitem()`                 | Removes and returns the last key-value pair (as a tuple) inserted into the dictionary.                              |\n",
    "| `dict.clear()`                   | Removes all key-value pairs from the dictionary.                                                                    |\n"
   ]
  },
  {
   "cell_type": "markdown",
   "metadata": {},
   "source": [
    "Creating a dictionary"
   ]
  },
  {
   "cell_type": "code",
   "execution_count": 119,
   "metadata": {},
   "outputs": [],
   "source": [
    "\n",
    "# Creating a dictionary\n",
    "my_dict = {'name':'satwik', 'age':20, 'course': 'cse'}"
   ]
  },
  {
   "cell_type": "markdown",
   "metadata": {},
   "source": [
    "Acessing Elements"
   ]
  },
  {
   "cell_type": "code",
   "execution_count": 120,
   "metadata": {},
   "outputs": [
    {
     "name": "stdout",
     "output_type": "stream",
     "text": [
      "satwik\n"
     ]
    }
   ],
   "source": [
    "print(my_dict['name']) # Output:"
   ]
  },
  {
   "cell_type": "code",
   "execution_count": 121,
   "metadata": {},
   "outputs": [
    {
     "ename": "KeyError",
     "evalue": "'courses'",
     "output_type": "error",
     "traceback": [
      "\u001b[1;31m---------------------------------------------------------------------------\u001b[0m",
      "\u001b[1;31mKeyError\u001b[0m                                  Traceback (most recent call last)",
      "Input \u001b[1;32mIn [121]\u001b[0m, in \u001b[0;36m<cell line: 1>\u001b[1;34m()\u001b[0m\n\u001b[1;32m----> 1\u001b[0m \u001b[38;5;28mprint\u001b[39m(\u001b[43mmy_dict\u001b[49m\u001b[43m[\u001b[49m\u001b[38;5;124;43m'\u001b[39;49m\u001b[38;5;124;43mcourses\u001b[39;49m\u001b[38;5;124;43m'\u001b[39;49m\u001b[43m]\u001b[49m)\n",
      "\u001b[1;31mKeyError\u001b[0m: 'courses'"
     ]
    }
   ],
   "source": [
    "print(my_dict['courses'])"
   ]
  },
  {
   "cell_type": "markdown",
   "metadata": {},
   "source": [
    "If the key doesn't exist, it will raise a KeyError. You can also use the get() method to retrieve a value safely without raising an error if the key doesn't exist."
   ]
  },
  {
   "cell_type": "code",
   "execution_count": 122,
   "metadata": {},
   "outputs": [
    {
     "name": "stdout",
     "output_type": "stream",
     "text": [
      "None\n"
     ]
    }
   ],
   "source": [
    "print(my_dict.get('courses'))"
   ]
  },
  {
   "cell_type": "markdown",
   "metadata": {},
   "source": [
    "### Functions"
   ]
  },
  {
   "cell_type": "code",
   "execution_count": 123,
   "metadata": {},
   "outputs": [
    {
     "data": {
      "text/plain": [
       "3"
      ]
     },
     "execution_count": 123,
     "metadata": {},
     "output_type": "execute_result"
    }
   ],
   "source": [
    "\n",
    "len(my_dict)"
   ]
  },
  {
   "cell_type": "markdown",
   "metadata": {},
   "source": [
    "### Methods"
   ]
  },
  {
   "cell_type": "code",
   "execution_count": 124,
   "metadata": {},
   "outputs": [
    {
     "data": {
      "text/plain": [
       "dict_keys(['name', 'age', 'course'])"
      ]
     },
     "execution_count": 124,
     "metadata": {},
     "output_type": "execute_result"
    }
   ],
   "source": [
    "\n",
    "my_dict.keys()"
   ]
  },
  {
   "cell_type": "code",
   "execution_count": 125,
   "metadata": {},
   "outputs": [
    {
     "data": {
      "text/plain": [
       "dict_values(['satwik', 20, 'cse'])"
      ]
     },
     "execution_count": 125,
     "metadata": {},
     "output_type": "execute_result"
    }
   ],
   "source": [
    "my_dict.values()"
   ]
  },
  {
   "cell_type": "code",
   "execution_count": 126,
   "metadata": {},
   "outputs": [
    {
     "data": {
      "text/plain": [
       "dict_items([('name', 'satwik'), ('age', 20), ('course', 'cse')])"
      ]
     },
     "execution_count": 126,
     "metadata": {},
     "output_type": "execute_result"
    }
   ],
   "source": [
    "my_dict.items()"
   ]
  },
  {
   "cell_type": "code",
   "execution_count": 127,
   "metadata": {},
   "outputs": [
    {
     "name": "stdout",
     "output_type": "stream",
     "text": [
      "None\n"
     ]
    }
   ],
   "source": [
    "print(my_dict.get('gender'))"
   ]
  },
  {
   "cell_type": "code",
   "execution_count": 128,
   "metadata": {},
   "outputs": [
    {
     "name": "stdout",
     "output_type": "stream",
     "text": [
      "male\n"
     ]
    }
   ],
   "source": [
    "print(my_dict.get('gender','male'))"
   ]
  },
  {
   "cell_type": "markdown",
   "metadata": {},
   "source": [
    "The second parameter gives the default output for the value of that key if the key is not present in the dictionary\n"
   ]
  },
  {
   "cell_type": "code",
   "execution_count": 129,
   "metadata": {},
   "outputs": [
    {
     "name": "stdout",
     "output_type": "stream",
     "text": [
      "20\n",
      "{'name': 'satwik', 'course': 'cse'}\n"
     ]
    }
   ],
   "source": [
    "print(my_dict.pop('age'))     # Output: 20\n",
    "print(my_dict)                # Output: {'name': 'satwik', 'course': 'cse'}\n"
   ]
  },
  {
   "cell_type": "code",
   "execution_count": 130,
   "metadata": {},
   "outputs": [
    {
     "name": "stdout",
     "output_type": "stream",
     "text": [
      "('course', 'cse')\n",
      "{'name': 'satwik'}\n"
     ]
    }
   ],
   "source": [
    "print(my_dict.popitem())      # Output: ('course', 'cse')\n",
    "print(my_dict)                # Output: {'name': 'satwik'}"
   ]
  },
  {
   "cell_type": "code",
   "execution_count": 131,
   "metadata": {},
   "outputs": [
    {
     "name": "stdout",
     "output_type": "stream",
     "text": [
      "{'name': 'satwik', 'city': 'Rajamundry', 'gender': 'Male'}\n"
     ]
    }
   ],
   "source": [
    "\n",
    "my_dict.update({'city': 'Rajamundry', 'gender': 'Male'})\n",
    "print(my_dict)  # Output: {'name': 'satwik', 'city': 'Rajamundry', 'gender': 'Male'}\n"
   ]
  },
  {
   "cell_type": "markdown",
   "metadata": {},
   "source": [
    "---"
   ]
  },
  {
   "cell_type": "markdown",
   "metadata": {},
   "source": [
    "## `Sets`"
   ]
  },
  {
   "cell_type": "markdown",
   "metadata": {},
   "source": [
    "| Method                   | Description                                                                                     |\n",
    "|--------------------------|-------------------------------------------------------------------------------------------------|\n",
    "| `set.add(element)`       | Adds the specified element to the set.                                                          |\n",
    "| `set.update(iterable)`   | Adds elements from an iterable (such as another set) to the set.                                |\n",
    "| `set.remove(element)`    | Removes the specified element from the set. Raises a KeyError if the element is not present.    |\n",
    "| `set.discard(element)`   | Removes the specified element from the set if it is present. Does not raise an error if not found. |\n",
    "| `set.pop()`              | Removes and returns an arbitrary element from the set. Raises a KeyError if the set is empty.   |\n",
    "| `set.clear()`            | Removes all elements from the set.                                                              |\n",
    "| `len(set)`               | Returns the number of elements in the set.                                                      |\n"
   ]
  },
  {
   "cell_type": "code",
   "execution_count": 132,
   "metadata": {},
   "outputs": [],
   "source": [
    "my_set = {1, 2, 3, 4, 5}\n",
    "# my_set = set([1, 2, 3, 4, 5]) --> another way for creating sets using set() constructor.\n"
   ]
  },
  {
   "cell_type": "markdown",
   "metadata": {},
   "source": [
    "As we all know set is unordered. We cant access the elements by using indices.\n"
   ]
  },
  {
   "cell_type": "markdown",
   "metadata": {},
   "source": [
    "## Acessing elements"
   ]
  },
  {
   "cell_type": "code",
   "execution_count": 135,
   "metadata": {},
   "outputs": [
    {
     "name": "stdout",
     "output_type": "stream",
     "text": [
      "True\n",
      "False\n",
      "True\n"
     ]
    }
   ],
   "source": [
    "print(3 in my_set)  # Output: True\n",
    "print(6 in my_set)  # Output: False\n",
    "print(2 in my_set) # Output: True"
   ]
  },
  {
   "cell_type": "markdown",
   "metadata": {},
   "source": [
    "## Functions"
   ]
  },
  {
   "cell_type": "code",
   "execution_count": 136,
   "metadata": {},
   "outputs": [
    {
     "data": {
      "text/plain": [
       "5"
      ]
     },
     "execution_count": 136,
     "metadata": {},
     "output_type": "execute_result"
    }
   ],
   "source": [
    "len(my_set) # Output:5"
   ]
  },
  {
   "cell_type": "markdown",
   "metadata": {},
   "source": [
    "## Methods"
   ]
  },
  {
   "cell_type": "code",
   "execution_count": 137,
   "metadata": {},
   "outputs": [],
   "source": [
    "\n",
    "my_set.add(6)"
   ]
  },
  {
   "cell_type": "code",
   "execution_count": 138,
   "metadata": {},
   "outputs": [
    {
     "name": "stdout",
     "output_type": "stream",
     "text": [
      "{1, 2, 3, 4, 5, 6}\n"
     ]
    }
   ],
   "source": [
    "print(my_set)"
   ]
  },
  {
   "cell_type": "code",
   "execution_count": 139,
   "metadata": {},
   "outputs": [
    {
     "data": {
      "text/plain": [
       "{1, 2, 3, 4, 5, 6, 7, 8, 9}"
      ]
     },
     "execution_count": 139,
     "metadata": {},
     "output_type": "execute_result"
    }
   ],
   "source": [
    "\n",
    "my_set.update({7,8,9})\n",
    "my_set"
   ]
  },
  {
   "cell_type": "code",
   "execution_count": 144,
   "metadata": {},
   "outputs": [
    {
     "data": {
      "text/plain": [
       "{1, 2, 3, 4, 5, 6, 7, 8, 9, 10, 11}"
      ]
     },
     "execution_count": 144,
     "metadata": {},
     "output_type": "execute_result"
    }
   ],
   "source": [
    "\n",
    "my_set.update([7,8,9,10,11]) # we can add any type of iterable(lists,tuples,sets) except dictionaries.\n",
    "my_set"
   ]
  },
  {
   "cell_type": "code",
   "execution_count": 145,
   "metadata": {},
   "outputs": [
    {
     "data": {
      "text/plain": [
       "{1, 2, 3, 4, 5, 7, 8, 9, 10, 11}"
      ]
     },
     "execution_count": 145,
     "metadata": {},
     "output_type": "execute_result"
    }
   ],
   "source": [
    "\n",
    "my_set.remove(6)\n",
    "my_set"
   ]
  },
  {
   "cell_type": "code",
   "execution_count": 146,
   "metadata": {},
   "outputs": [
    {
     "name": "stdout",
     "output_type": "stream",
     "text": [
      "{1, 2, 3, 4, 5, 7, 8, 9, 10, 11}\n"
     ]
    }
   ],
   "source": [
    "\n",
    "my_set.discard(12)\n",
    "print(my_set)  # Output: {1, 2, 3, 4, 5, 7, 8, 9, 10, 11}\n"
   ]
  },
  {
   "cell_type": "code",
   "execution_count": 147,
   "metadata": {},
   "outputs": [
    {
     "name": "stdout",
     "output_type": "stream",
     "text": [
      "1\n",
      "{2, 3, 4, 5, 7, 8, 9, 10, 11}\n"
     ]
    }
   ],
   "source": [
    "\n",
    "popped_element = my_set.pop()\n",
    "print(popped_element)  # Output: 1\n",
    "print(my_set)          # Output: {2, 3, 4, 5, 7, 8, 9, 10, 11}\n"
   ]
  },
  {
   "cell_type": "markdown",
   "metadata": {},
   "source": [
    "----"
   ]
  },
  {
   "cell_type": "markdown",
   "metadata": {},
   "source": [
    "## `Operations in sets`"
   ]
  },
  {
   "cell_type": "markdown",
   "metadata": {},
   "source": [
    "### Union\n",
    "---\n",
    "The union of two sets A and B contains all the distinct elements from both sets."
   ]
  },
  {
   "cell_type": "code",
   "execution_count": 148,
   "metadata": {},
   "outputs": [
    {
     "name": "stdout",
     "output_type": "stream",
     "text": [
      "{1, 2, 3, 4, 5}\n"
     ]
    }
   ],
   "source": [
    "A = {1, 2, 3}\n",
    "B = {3, 4, 5}\n",
    "union_set = A | B  # or A.union(B)\n",
    "print(union_set)  # Output: {1, 2, 3, 4, 5}\n"
   ]
  },
  {
   "cell_type": "markdown",
   "metadata": {},
   "source": [
    "### Intersection\n",
    "---\n",
    "\n",
    "The intersection of two sets A and B contains only the elements that are common to both sets."
   ]
  },
  {
   "cell_type": "code",
   "execution_count": 149,
   "metadata": {},
   "outputs": [
    {
     "name": "stdout",
     "output_type": "stream",
     "text": [
      "{3}\n"
     ]
    }
   ],
   "source": [
    "A = {1, 2, 3}\n",
    "B = {3, 4, 5}\n",
    "intersection_set = A & B  # or A.intersection(B)\n",
    "print(intersection_set)  # Output: {3}\n"
   ]
  },
  {
   "cell_type": "markdown",
   "metadata": {},
   "source": [
    "### Difference\n",
    "---\n",
    "The difference between two sets A and B contains the elements that are in A but not in B."
   ]
  },
  {
   "cell_type": "code",
   "execution_count": 150,
   "metadata": {},
   "outputs": [
    {
     "name": "stdout",
     "output_type": "stream",
     "text": [
      "{1, 2}\n"
     ]
    }
   ],
   "source": [
    "A = {1, 2, 3}\n",
    "B = {3, 4, 5}\n",
    "difference_set = A - B  # or A.difference(B)\n",
    "print(difference_set)  # Output: {1, 2}\n"
   ]
  },
  {
   "cell_type": "code",
   "execution_count": 151,
   "metadata": {},
   "outputs": [
    {
     "name": "stdout",
     "output_type": "stream",
     "text": [
      "{4, 5}\n"
     ]
    }
   ],
   "source": [
    "A = {1, 2, 3}\n",
    "B = {3, 4, 5}\n",
    "difference_set = B - A  # or B.difference(A)\n",
    "print(difference_set)  # Output: {4, 5}\n"
   ]
  },
  {
   "cell_type": "markdown",
   "metadata": {},
   "source": [
    "### Symmetric Difference\n",
    "---\n",
    "\n",
    "The symmetric difference between two sets A and B contains the elements that are in either A or B, but not in both."
   ]
  },
  {
   "cell_type": "code",
   "execution_count": 152,
   "metadata": {},
   "outputs": [
    {
     "name": "stdout",
     "output_type": "stream",
     "text": [
      "{1, 2, 4, 5}\n"
     ]
    }
   ],
   "source": [
    "A = {1, 2, 3}\n",
    "B = {3, 4, 5}\n",
    "symmetric_difference_set = A ^ B  # or A.symmetric_difference(B)\n",
    "print(symmetric_difference_set)  # Output: {1, 2, 4, 5}\n"
   ]
  },
  {
   "cell_type": "markdown",
   "metadata": {},
   "source": [
    "### Subset and Superset\n",
    "\n",
    "---\n",
    "You can check if a set A is a subset or superset of another set B."
   ]
  },
  {
   "cell_type": "code",
   "execution_count": 154,
   "metadata": {},
   "outputs": [
    {
     "name": "stdout",
     "output_type": "stream",
     "text": [
      "True\n",
      "True\n"
     ]
    }
   ],
   "source": [
    "A = {1, 2}\n",
    "B = {1, 2, 3, 4}\n",
    "print(A.issubset(B))    # Output: True\n",
    "print(B.issuperset(A))  # Output: True\n"
   ]
  },
  {
   "cell_type": "markdown",
   "metadata": {},
   "source": [
    "### Disjoint\n",
    "\n",
    "---\n",
    "Two sets are disjoint if they have no common elements."
   ]
  },
  {
   "cell_type": "code",
   "execution_count": 153,
   "metadata": {},
   "outputs": [
    {
     "name": "stdout",
     "output_type": "stream",
     "text": [
      "True\n"
     ]
    }
   ],
   "source": [
    "A = {1, 2}\n",
    "B = {3, 4}\n",
    "print(A.isdisjoint(B))  # Output: True\n"
   ]
  },
  {
   "cell_type": "markdown",
   "metadata": {},
   "source": [
    "---\n",
    "---"
   ]
  },
  {
   "cell_type": "markdown",
   "metadata": {},
   "source": [
    "# ` Differences`\n",
    "\n",
    "\n",
    "| Feature         | Lists                                | Tuples                                   | Dictionaries                            | Sets                                 |\n",
    "|-----------------|--------------------------------------|------------------------------------------|-----------------------------------------|--------------------------------------|\n",
    "| **Mutability**  | Mutable                              | Immutable                                | Mutable                                 | Mutable                              |\n",
    "| **Ordered**     | Ordered                              | Ordered                                  | Unordered                               | Unordered                            |\n",
    "| **Indexing**    | Indexed (by position)                | Indexed (by position)                    | Indexed (by key)                        | Not indexed                         |\n",
    "| **Duplicates**  | Allows duplicates                    | Allows duplicates                        | No duplicates                           | No duplicates                       |\n",
    "| **Syntax**      | Square brackets `[]`                 | Parentheses `()`                         | Curly braces `{}`                       | Curly braces `{}`                   |\n",
    "| **Creation**    | `[1, 2, 3]`                          | `(1, 2, 3)`                              | `{'key1': 'value1', 'key2': 'value2'}` | `{1, 2, 3}`                         |\n",
    "| **Example**     | `my_list = [1, 2, 3]`                | `my_tuple = (1, 2, 3)`                   | `my_dict = {'name': 'John', 'age': 30}` | `my_set = {1, 2, 3}`               |\n",
    "| **Access**      | `my_list[0]`                         | `my_tuple[0]`                            | `my_dict['name']`                       | Not applicable                      |\n",
    "| **Iteration**   | Iterates over elements               | Iterates over elements                   | Iterates over keys/values               | Iterates over elements              |\n",
    "| **Operations**  | Support various operations           | Limited operations                       | Support various operations              | Support various operations          |\n",
    "| **Use case**    | When you need a collection of items | When you need an immutable collection   | When you need key-value pairs           | When you need unique elements       |\n",
    "| **Example**     | `[1, 'apple', True]`                 | `(1, 'apple', True)`                     | `{'name': 'John', 'age': 30}`           | `{1, 2, 3}`                         |\n"
   ]
  },
  {
   "cell_type": "markdown",
   "metadata": {},
   "source": [
    "----\n",
    "---"
   ]
  },
  {
   "cell_type": "markdown",
   "metadata": {},
   "source": [
    "# `List of all operations`\n",
    "\n",
    "| Operation         | Lists                        | Tuples                      | Dictionaries                | Sets                          |\n",
    "|-------------------|------------------------------|-----------------------------|-----------------------------|-------------------------------|\n",
    "| **Access**        | Indexing (`[]`)              | Indexing (`[]`)              | Key-based access            | Not applicable                |\n",
    "| **Iteration**     | `for` loop                   | `for` loop                   | `for` loop                  | `for` loop                    |\n",
    "| **Addition**      | `append()`, `extend()`, `+`  | Not applicable               | `update()`                   | `add()`, `update()`, `\\|`     |\n",
    "| **Removal**       | `pop()`, `remove()`, `del`   | Not applicable               | `pop()`, `del`              | `remove()`, `discard()`, `pop()` |\n",
    "| **Update**        | Indexing (`[]`)              | Not applicable               | Indexing (`[]`), `update()` | Not applicable                |\n",
    "| **Length**        | `len()`                      | `len()`                      | `len()`                     | `len()`                       |\n",
    "| **Membership**    | `in`                         | `in`                         | `in`                        | `in`                          |\n",
    "| **Sorting**       | `sorted()`, `sort()`         | Not applicable               | Not applicable              | Not applicable                |\n",
    "| **Intersection**  | Not applicable               | Not applicable               | Not applicable              | Not applicable                |\n",
    "| **Union**         | `+`, `extend()`, `append()`  | Not applicable               | `update()`                  | `update()`, `union()`,`\\|`   |\n",
    "| **Difference**    | Not applicable               | Not applicable               | Not applicable              | Not applicable                |\n",
    "| **Subset**        | Not applicable               | Not applicable               | Not applicable              | `issubset()`                  |\n",
    "| **Superset**      | Not applicable               | Not applicable               | Not applicable              | `issuperset()`                |\n",
    "| **Disjoint**      | Not applicable               | Not applicable               | Not applicable              | `isdisjoint()`                |\n"
   ]
  },
  {
   "cell_type": "markdown",
   "metadata": {},
   "source": [
    "---\n",
    "---"
   ]
  },
  {
   "cell_type": "markdown",
   "metadata": {},
   "source": [
    "## Arrays"
   ]
  },
  {
   "cell_type": "markdown",
   "metadata": {},
   "source": [
    "## Largest element in the array"
   ]
  },
  {
   "cell_type": "markdown",
   "metadata": {},
   "source": [
    "### Brute force method"
   ]
  },
  {
   "cell_type": "code",
   "execution_count": 163,
   "metadata": {},
   "outputs": [
    {
     "name": "stdout",
     "output_type": "stream",
     "text": [
      "5\n",
      "CPU times: total: 0 ns\n",
      "Wall time: 0 ns\n"
     ]
    }
   ],
   "source": [
    "%%time\n",
    "import array as arr\n",
    "\n",
    "def largest_ele(arr):\n",
    "    reverse_arr=sorted(arr,reverse=True)\n",
    "    return reverse_arr[0]\n",
    "\n",
    "print(largest_ele([2,4,1,5,3]))\n"
   ]
  },
  {
   "cell_type": "code",
   "execution_count": 165,
   "metadata": {},
   "outputs": [
    {
     "name": "stdout",
     "output_type": "stream",
     "text": [
      "5\n"
     ]
    }
   ],
   "source": [
    "import array as arr\n",
    "\n",
    "def largest_ele(arr):\n",
    "    reverse_arr=sorted(arr,reverse=False)\n",
    "    return reverse_arr[len(arr)-1]\n",
    "\n",
    "print(largest_ele(arr.array('i',(2,4,1,5,3))))\n"
   ]
  },
  {
   "cell_type": "code",
   "execution_count": 167,
   "metadata": {},
   "outputs": [
    {
     "name": "stdout",
     "output_type": "stream",
     "text": [
      "5\n",
      "CPU times: total: 0 ns\n",
      "Wall time: 0 ns\n"
     ]
    }
   ],
   "source": [
    "\n",
    "%%time\n",
    "import array as arr\n",
    "\n",
    "def largest_ele(arr):\n",
    "    largest = arr[0]\n",
    "    for i in range(len(arr)):\n",
    "        if arr[i] > largest:\n",
    "            largest = arr[i]\n",
    "    \n",
    "    return largest\n",
    "\n",
    "print(largest_ele(arr.array('i',(2,4,1,5,3))))"
   ]
  },
  {
   "cell_type": "markdown",
   "metadata": {},
   "source": [
    "### second largest element in the array"
   ]
  },
  {
   "cell_type": "markdown",
   "metadata": {},
   "source": [
    "1. With sorting method - O(n logn)\n"
   ]
  },
  {
   "cell_type": "code",
   "execution_count": 3,
   "metadata": {},
   "outputs": [
    {
     "name": "stdout",
     "output_type": "stream",
     "text": [
      "4\n",
      "CPU times: total: 0 ns\n",
      "Wall time: 1 ms\n"
     ]
    }
   ],
   "source": [
    "\n",
    "\n",
    "%%time\n",
    "import array as arr\n",
    "\n",
    "def second_largest_ele(arr):\n",
    "\n",
    "    order_arr = sorted(arr,reverse=True)\n",
    "    largest = order_arr[0]\n",
    "    for i in range(1,len(order_arr)):\n",
    "        if arr[i] != largest:\n",
    "            sec_largest = arr[i]\n",
    "            break\n",
    "        \n",
    "    \n",
    "    return sec_largest\n",
    "\n",
    "print(second_largest_ele(arr.array('i',(2,4,1,5,3))))"
   ]
  },
  {
   "cell_type": "markdown",
   "metadata": {},
   "source": [
    "2. With better method - O(n+n) =O(2n)"
   ]
  },
  {
   "cell_type": "code",
   "execution_count": 2,
   "metadata": {},
   "outputs": [
    {
     "name": "stdout",
     "output_type": "stream",
     "text": [
      "5\n",
      "CPU times: total: 0 ns\n",
      "Wall time: 2.67 ms\n"
     ]
    }
   ],
   "source": [
    "\n",
    "%%time\n",
    "import array as arr\n",
    "\n",
    "def second_largest_ele(arr):\n",
    "    largest = arr[0]\n",
    "\n",
    "    for i in range(len(arr)):\n",
    "        if arr[i] > largest:\n",
    "            largest = arr[i]\n",
    "\n",
    "    second_largest = -1\n",
    "    for i in range(len(arr)):\n",
    "        if arr[i] <largest and arr[i] > second_largest:\n",
    "            second_largest = arr[i]   \n",
    "\n",
    "    return second_largest\n",
    "\n",
    "print(second_largest_ele(arr.array('i',(1,2,4,7,7,5))))"
   ]
  },
  {
   "cell_type": "code",
   "execution_count": 11,
   "metadata": {},
   "outputs": [
    {
     "name": "stdout",
     "output_type": "stream",
     "text": [
      "5\n",
      "CPU times: total: 0 ns\n",
      "Wall time: 1.22 ms\n"
     ]
    }
   ],
   "source": [
    "\n",
    "%%time\n",
    "import array as arr\n",
    "\n",
    "def second_largest_ele(arr):\n",
    "    largest = arr[0]\n",
    "    sec_largest = -1\n",
    "\n",
    "    for i in range(len(arr)):\n",
    "        if arr[i] > largest:\n",
    "            largest = arr[i]\n",
    "            sec_largest = arr[i-1]\n",
    "        else:\n",
    "            sec_largest = arr[i]\n",
    "\n",
    "    return sec_largest\n",
    "\n",
    "print(second_largest_ele(arr.array('i',(1,2,4,7,7,5))))"
   ]
  },
  {
   "cell_type": "markdown",
   "metadata": {},
   "source": [
    "## Check the array is sorted or not?"
   ]
  },
  {
   "cell_type": "code",
   "execution_count": 18,
   "metadata": {},
   "outputs": [
    {
     "name": "stdout",
     "output_type": "stream",
     "text": [
      "False\n"
     ]
    }
   ],
   "source": [
    "\n",
    "\n",
    "import array as arr\n",
    "\n",
    "def check_sort_arr(arr):\n",
    "    sorted_arr = sorted(arr, reverse = False)\n",
    "    return True if (arr == sorted_arr) else False\n",
    "\n",
    "\n",
    "\n",
    "print(check_sort_arr(arr.array('i',(1,2,4,7,7,5))))\n"
   ]
  },
  {
   "cell_type": "code",
   "execution_count": 25,
   "metadata": {},
   "outputs": [
    {
     "name": "stdout",
     "output_type": "stream",
     "text": [
      "array('i', [1, 2, 4, 5, 7, 7])\n",
      "[1, 2, 4, 5, 7, 7]\n",
      "True\n"
     ]
    }
   ],
   "source": [
    "\n",
    "\n",
    "import array as arr\n",
    "\n",
    "def check_sort_arr(arr):\n",
    "    print(arr)\n",
    "    sorted_arr = sorted(arr, reverse = False)\n",
    "    print(sorted_arr)\n",
    "\n",
    "    if (list(arr) == sorted_arr):\n",
    "        return True\n",
    "    else:\n",
    "        return False\n",
    "    \n",
    "\n",
    "\n",
    "\n",
    "print(check_sort_arr(arr.array('i',[1,2,4,5,7,7])))\n"
   ]
  },
  {
   "cell_type": "markdown",
   "metadata": {},
   "source": [
    "## `Linked List`"
   ]
  },
  {
   "attachments": {
    "image-2.png": {
     "image/png": "[encoded data removed]"
    },
    "image-3.png": {
     "image/png": "[encoded data removed]"
    },
    "image.png": {
     "image/png": "[encoded data removed]"
    }
   },
   "cell_type": "markdown",
   "metadata": {},
   "source": [
    "\n",
    "\n",
    "1) Linear data structure.<br>\n",
    "2) collection of nodes that are linked with each other. A node contains two things first is data and second is a link that connects it with another node.<br>\n",
    "3) First node is called as Head.\n",
    "\n",
    "![image.png](attachment:image.png)\n",
    "\n",
    "\n",
    "Types of linked list:\n",
    "- Single linked list: Navigation is forward only\n",
    "- Doubly Linked list: Forward and backward navigation is possible.\n",
    "- Circular linked list: last element is linked to the first element.\n",
    "\n",
    "\n",
    "## `Single linked list`\n",
    "\n",
    "A single linked list is a list made up of nodes that consists of two parts.\n",
    "\n",
    "![image-2.png](attachment:image-2.png)\n",
    "\n",
    "**Example**\n",
    "\n",
    "![image-3.png](attachment:image-3.png)\n",
    "\n",
    "- 1000,2000...4000 are the random addresses assigned to the nodes in the memory(link)\n",
    "- 1000 is the act as head \n",
    "- last node is having NULL as the link because after that there is no nodes to specify its address. It indicates that it was the last node\n",
    "\n"
   ]
  },
  {
   "cell_type": "markdown",
   "metadata": {},
   "source": [
    "---"
   ]
  },
  {
   "cell_type": "markdown",
   "metadata": {},
   "source": [
    "# `Single linked list`"
   ]
  },
  {
   "cell_type": "markdown",
   "metadata": {},
   "source": [
    "## `Creating Linked list in python`\n",
    "- creating node class and intialize the linked list.\n",
    "  - This __init__ method initialize the linked list with an empty head.\n",
    "- Then, create an insert/add_at_begin function to insert a node at beginning.\n",
    "- Then, create an insert/add_at_end function to insert a node at ending.\n",
    "- Then, create an insert/add_at_index function to insert a node at specific index.\n",
    "- Then create update_node function to update the value of a node at given position.\n",
    "- Then create remove_first,remove_last, remove_index function to remove a node.\n",
    "- Traversal of linked list\n",
    "- Length of linked list\n"
   ]
  },
  {
   "cell_type": "markdown",
   "metadata": {},
   "source": [
    "### `Creating a Node Class`"
   ]
  },
  {
   "cell_type": "code",
   "execution_count": 2,
   "metadata": {},
   "outputs": [],
   "source": [
    "class Node:\n",
    "    def __init__(self,data) -> None:\n",
    "        self.data = data\n",
    "        self.next = None    # initialize the lined list with an empty head\n",
    "        "
   ]
  },
  {
   "cell_type": "markdown",
   "metadata": {},
   "source": [
    "### `Inserting at Beginning`"
   ]
  },
  {
   "cell_type": "code",
   "execution_count": null,
   "metadata": {},
   "outputs": [],
   "source": [
    "def insert_at_beginning(self,data):\n",
    "    new_node = Node(data)\n",
    "    if self.head is None:\n",
    "        self.head = new_node  # making new_node as head\n",
    "        return\n",
    "    else:\n",
    "        new_node.next = self.head  # insert the head at next new_node\n",
    "        self.head = new_node       # make the head = new_node"
   ]
  },
  {
   "cell_type": "markdown",
   "metadata": {},
   "source": [
    "## `Binary Tree`"
   ]
  },
  {
   "cell_type": "code",
   "execution_count": 1,
   "metadata": {},
   "outputs": [],
   "source": [
    "class Node:\n",
    "    def __init__(self,key):\n",
    "        self.left = None\n",
    "        self.right = None\n",
    "        self.val = key\n",
    "        \n",
    "\n",
    "root = Node(1)\n",
    "root.left = Node(2)\n",
    "root.right = Node(3)\n",
    "\n",
    "root.left.left = Node(4)\n",
    "\n",
    "\n"
   ]
  },
  {
   "cell_type": "code",
   "execution_count": null,
   "metadata": {},
   "outputs": [],
   "source": []
  }
 ],
 "metadata": {
  "kernelspec": {
   "display_name": "Python 3",
   "language": "python",
   "name": "python3"
  },
  "language_info": {
   "codemirror_mode": {
    "name": "ipython",
    "version": 3
   },
   "file_extension": ".py",
   "mimetype": "text/x-python",
   "name": "python",
   "nbconvert_exporter": "python",
   "pygments_lexer": "ipython3",
   "version": "3.10.5"
  }
 },
 "nbformat": 4,
 "nbformat_minor": 2
}
