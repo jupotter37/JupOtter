{
 "cells": [
  {
   "cell_type": "markdown",
   "id": "fcfe3a72",
   "metadata": {},
   "source": [
    "# <p style=\"background-color:steelblue;font-family:newtimeroman;font-size:180%;color:white;text-align:center;border-radius:10px 10px;\"><b>Advanced Python\n"
   ]
  },
  {
   "cell_type": "markdown",
   "id": "3cc53a0f",
   "metadata": {},
   "source": [
    "## Try Exceptions"
   ]
  },
  {
   "cell_type": "markdown",
   "id": "7078c6f7",
   "metadata": {},
   "source": [
    "### Basics"
   ]
  },
  {
   "cell_type": "code",
   "execution_count": null,
   "id": "02f7d3d9",
   "metadata": {},
   "outputs": [],
   "source": [
    "try:\n",
    "    pass\n",
    "except:\n",
    "    pass\n",
    "else:\n",
    "    pass\n",
    "finally:\n",
    "    pass"
   ]
  },
  {
   "cell_type": "code",
   "execution_count": 1,
   "id": "aa93992d",
   "metadata": {
    "ExecuteTime": {
     "end_time": "2024-05-13T17:42:25.588813Z",
     "start_time": "2024-05-13T17:42:25.014034Z"
    }
   },
   "outputs": [
    {
     "ename": "NameError",
     "evalue": "name 'sedat' is not defined",
     "output_type": "error",
     "traceback": [
      "\u001b[1;31m---------------------------------------------------------------------------\u001b[0m",
      "\u001b[1;31mNameError\u001b[0m                                 Traceback (most recent call last)",
      "Cell \u001b[1;32mIn[1], line 1\u001b[0m\n\u001b[1;32m----> 1\u001b[0m \u001b[43msedat\u001b[49m\n",
      "\u001b[1;31mNameError\u001b[0m: name 'sedat' is not defined"
     ]
    }
   ],
   "source": [
    "sedat"
   ]
  },
  {
   "cell_type": "code",
   "execution_count": 2,
   "id": "54db9321",
   "metadata": {
    "ExecuteTime": {
     "end_time": "2024-05-13T17:42:52.120268Z",
     "start_time": "2024-05-13T17:42:52.097901Z"
    }
   },
   "outputs": [
    {
     "ename": "ZeroDivisionError",
     "evalue": "division by zero",
     "output_type": "error",
     "traceback": [
      "\u001b[1;31m---------------------------------------------------------------------------\u001b[0m",
      "\u001b[1;31mZeroDivisionError\u001b[0m                         Traceback (most recent call last)",
      "Cell \u001b[1;32mIn[2], line 1\u001b[0m\n\u001b[1;32m----> 1\u001b[0m \u001b[38;5;241;43m10\u001b[39;49m\u001b[38;5;241;43m/\u001b[39;49m\u001b[38;5;241;43m0\u001b[39;49m\n",
      "\u001b[1;31mZeroDivisionError\u001b[0m: division by zero"
     ]
    }
   ],
   "source": [
    "10/0\n"
   ]
  },
  {
   "cell_type": "code",
   "execution_count": 3,
   "id": "93fa093b",
   "metadata": {
    "ExecuteTime": {
     "end_time": "2024-05-13T17:44:01.840321Z",
     "start_time": "2024-05-13T17:44:01.805027Z"
    }
   },
   "outputs": [
    {
     "ename": "TypeError",
     "evalue": "unsupported operand type(s) for +: 'int' and 'str'",
     "output_type": "error",
     "traceback": [
      "\u001b[1;31m---------------------------------------------------------------------------\u001b[0m",
      "\u001b[1;31mTypeError\u001b[0m                                 Traceback (most recent call last)",
      "Cell \u001b[1;32mIn[3], line 1\u001b[0m\n\u001b[1;32m----> 1\u001b[0m \u001b[38;5;241;43m1\u001b[39;49m\u001b[43m \u001b[49m\u001b[38;5;241;43m+\u001b[39;49m\u001b[43m \u001b[49m\u001b[38;5;124;43m'\u001b[39;49m\u001b[38;5;124;43m1\u001b[39;49m\u001b[38;5;124;43m'\u001b[39;49m\n",
      "\u001b[1;31mTypeError\u001b[0m: unsupported operand type(s) for +: 'int' and 'str'"
     ]
    }
   ],
   "source": [
    "1 + '1'"
   ]
  },
  {
   "cell_type": "code",
   "execution_count": null,
   "id": "fa20b1f3",
   "metadata": {},
   "outputs": [],
   "source": [
    "try:\n",
    "    pass\n",
    "except:\n",
    "    pass"
   ]
  },
  {
   "cell_type": "code",
   "execution_count": 4,
   "id": "3679e1c3",
   "metadata": {
    "ExecuteTime": {
     "end_time": "2024-05-13T17:45:49.205247Z",
     "start_time": "2024-05-13T17:45:49.202068Z"
    }
   },
   "outputs": [],
   "source": [
    "bolunen = 6\n",
    "bolen = 2"
   ]
  },
  {
   "cell_type": "code",
   "execution_count": 5,
   "id": "323ecc5a",
   "metadata": {
    "ExecuteTime": {
     "end_time": "2024-05-13T17:45:59.959246Z",
     "start_time": "2024-05-13T17:45:59.950892Z"
    }
   },
   "outputs": [
    {
     "data": {
      "text/plain": [
       "3.0"
      ]
     },
     "execution_count": 5,
     "metadata": {},
     "output_type": "execute_result"
    }
   ],
   "source": [
    "bolunen / bolen"
   ]
  },
  {
   "cell_type": "code",
   "execution_count": 6,
   "id": "c79a6f3f",
   "metadata": {
    "ExecuteTime": {
     "end_time": "2024-05-13T17:46:27.593871Z",
     "start_time": "2024-05-13T17:46:27.555046Z"
    }
   },
   "outputs": [
    {
     "ename": "ZeroDivisionError",
     "evalue": "division by zero",
     "output_type": "error",
     "traceback": [
      "\u001b[1;31m---------------------------------------------------------------------------\u001b[0m",
      "\u001b[1;31mZeroDivisionError\u001b[0m                         Traceback (most recent call last)",
      "Cell \u001b[1;32mIn[6], line 4\u001b[0m\n\u001b[0;32m      1\u001b[0m bolunen \u001b[38;5;241m=\u001b[39m \u001b[38;5;241m6\u001b[39m\n\u001b[0;32m      2\u001b[0m bolen \u001b[38;5;241m=\u001b[39m \u001b[38;5;241m0\u001b[39m\n\u001b[1;32m----> 4\u001b[0m \u001b[43mbolunen\u001b[49m\u001b[43m \u001b[49m\u001b[38;5;241;43m/\u001b[39;49m\u001b[43m \u001b[49m\u001b[43mbolen\u001b[49m\n",
      "\u001b[1;31mZeroDivisionError\u001b[0m: division by zero"
     ]
    }
   ],
   "source": [
    "bolunen = 6\n",
    "bolen = 0\n",
    "\n",
    "bolunen / bolen"
   ]
  },
  {
   "cell_type": "code",
   "execution_count": 7,
   "id": "d1c4b784",
   "metadata": {
    "ExecuteTime": {
     "end_time": "2024-05-13T17:47:53.229011Z",
     "start_time": "2024-05-13T17:47:53.226067Z"
    }
   },
   "outputs": [
    {
     "name": "stdout",
     "output_type": "stream",
     "text": [
      "try kismi calismadi\n"
     ]
    }
   ],
   "source": [
    "try:\n",
    "    print(bolunen / bolen)\n",
    "except:\n",
    "    print('try kismi calismadi')"
   ]
  },
  {
   "cell_type": "code",
   "execution_count": 8,
   "id": "afb80c32",
   "metadata": {
    "ExecuteTime": {
     "end_time": "2024-05-13T17:56:43.164750Z",
     "start_time": "2024-05-13T17:56:17.718402Z"
    }
   },
   "outputs": [
    {
     "name": "stdout",
     "output_type": "stream",
     "text": [
      "0 kullanilmaz bolunurken, farkli bir deger gir:3\n",
      "2.0\n"
     ]
    }
   ],
   "source": [
    "try:\n",
    "    print(bolunen / bolen)\n",
    "except:\n",
    "    bolen = int(input('0 kullanilmaz bolunurken, farkli bir deger gir:'))\n",
    "    print(bolunen / bolen)"
   ]
  },
  {
   "cell_type": "code",
   "execution_count": 10,
   "id": "6f28f109",
   "metadata": {
    "ExecuteTime": {
     "end_time": "2024-05-13T17:59:51.833634Z",
     "start_time": "2024-05-13T17:59:51.830568Z"
    }
   },
   "outputs": [],
   "source": [
    "bolunen = 6\n",
    "bolen = 0"
   ]
  },
  {
   "cell_type": "code",
   "execution_count": 11,
   "id": "01df3192",
   "metadata": {
    "ExecuteTime": {
     "end_time": "2024-05-13T17:59:52.314287Z",
     "start_time": "2024-05-13T17:59:52.277320Z"
    }
   },
   "outputs": [
    {
     "ename": "TypeError",
     "evalue": "unsupported operand type(s) for +: 'int' and 'str'",
     "output_type": "error",
     "traceback": [
      "\u001b[1;31m---------------------------------------------------------------------------\u001b[0m",
      "\u001b[1;31mZeroDivisionError\u001b[0m                         Traceback (most recent call last)",
      "Cell \u001b[1;32mIn[11], line 2\u001b[0m\n\u001b[0;32m      1\u001b[0m \u001b[38;5;28;01mtry\u001b[39;00m:\n\u001b[1;32m----> 2\u001b[0m     \u001b[38;5;28mprint\u001b[39m(\u001b[43mbolunen\u001b[49m\u001b[43m \u001b[49m\u001b[38;5;241;43m/\u001b[39;49m\u001b[43m \u001b[49m\u001b[43mbolen\u001b[49m)\n\u001b[0;32m      3\u001b[0m \u001b[38;5;28;01mexcept\u001b[39;00m:\n",
      "\u001b[1;31mZeroDivisionError\u001b[0m: division by zero",
      "\nDuring handling of the above exception, another exception occurred:\n",
      "\u001b[1;31mTypeError\u001b[0m                                 Traceback (most recent call last)",
      "Cell \u001b[1;32mIn[11], line 4\u001b[0m\n\u001b[0;32m      2\u001b[0m     \u001b[38;5;28mprint\u001b[39m(bolunen \u001b[38;5;241m/\u001b[39m bolen)\n\u001b[0;32m      3\u001b[0m \u001b[38;5;28;01mexcept\u001b[39;00m:\n\u001b[1;32m----> 4\u001b[0m     \u001b[38;5;28mprint\u001b[39m(\u001b[38;5;241;43m1\u001b[39;49m\u001b[43m \u001b[49m\u001b[38;5;241;43m+\u001b[39;49m\u001b[43m \u001b[49m\u001b[38;5;124;43m'\u001b[39;49m\u001b[38;5;124;43m1\u001b[39;49m\u001b[38;5;124;43m'\u001b[39;49m)\n",
      "\u001b[1;31mTypeError\u001b[0m: unsupported operand type(s) for +: 'int' and 'str'"
     ]
    }
   ],
   "source": [
    "try:\n",
    "    print(bolunen / bolen)\n",
    "except:\n",
    "    print(1 + '1')"
   ]
  },
  {
   "cell_type": "code",
   "execution_count": 12,
   "id": "1b83af83",
   "metadata": {
    "ExecuteTime": {
     "end_time": "2024-05-13T18:04:16.685120Z",
     "start_time": "2024-05-13T18:04:16.681136Z"
    }
   },
   "outputs": [
    {
     "name": "stdout",
     "output_type": "stream",
     "text": [
      "try kismindan gelecek olan hata ZeroDivisionError hatasidir\n"
     ]
    }
   ],
   "source": [
    "try:\n",
    "    print(bolunen / bolen)\n",
    "except ZeroDivisionError:\n",
    "    print('try kismindan gelecek olan hata ZeroDivisionError hatasidir')"
   ]
  },
  {
   "cell_type": "code",
   "execution_count": 13,
   "id": "da45aea3",
   "metadata": {
    "ExecuteTime": {
     "end_time": "2024-05-13T18:05:05.282127Z",
     "start_time": "2024-05-13T18:05:05.246809Z"
    }
   },
   "outputs": [
    {
     "ename": "ZeroDivisionError",
     "evalue": "division by zero",
     "output_type": "error",
     "traceback": [
      "\u001b[1;31m---------------------------------------------------------------------------\u001b[0m",
      "\u001b[1;31mZeroDivisionError\u001b[0m                         Traceback (most recent call last)",
      "Cell \u001b[1;32mIn[13], line 2\u001b[0m\n\u001b[0;32m      1\u001b[0m \u001b[38;5;28;01mtry\u001b[39;00m:\n\u001b[1;32m----> 2\u001b[0m     \u001b[38;5;28mprint\u001b[39m(\u001b[43mbolunen\u001b[49m\u001b[43m \u001b[49m\u001b[38;5;241;43m/\u001b[39;49m\u001b[43m \u001b[49m\u001b[43mbolen\u001b[49m)\n\u001b[0;32m      3\u001b[0m \u001b[38;5;28;01mexcept\u001b[39;00m \u001b[38;5;167;01mNameError\u001b[39;00m:\n\u001b[0;32m      4\u001b[0m     \u001b[38;5;28mprint\u001b[39m(\u001b[38;5;124m'\u001b[39m\u001b[38;5;124mtry kismindan gelecek olan hata ZeroDivisionError hatasidir\u001b[39m\u001b[38;5;124m'\u001b[39m)\n",
      "\u001b[1;31mZeroDivisionError\u001b[0m: division by zero"
     ]
    }
   ],
   "source": [
    "try:\n",
    "    print(bolunen / bolen)\n",
    "except NameError:\n",
    "    print('try kismindan gelecek olan hata ZeroDivisionError hatasidir')"
   ]
  },
  {
   "cell_type": "code",
   "execution_count": 15,
   "id": "33f44819",
   "metadata": {
    "ExecuteTime": {
     "end_time": "2024-05-13T18:07:46.092501Z",
     "start_time": "2024-05-13T18:07:46.087889Z"
    }
   },
   "outputs": [
    {
     "name": "stdout",
     "output_type": "stream",
     "text": [
      "try kismindan gelecek olan hata ZeroDivisionError hatasidir\n"
     ]
    }
   ],
   "source": [
    "try:\n",
    "    print(bolunen / bolen)\n",
    "except NameError:\n",
    "    print('try kismindan gelecek olan hata NameError hatasidir')\n",
    "except ZeroDivisionError:\n",
    "    print('try kismindan gelecek olan hata ZeroDivisionError hatasidir')"
   ]
  },
  {
   "cell_type": "code",
   "execution_count": 16,
   "id": "a4d36d14",
   "metadata": {
    "ExecuteTime": {
     "end_time": "2024-05-13T18:11:30.066412Z",
     "start_time": "2024-05-13T18:11:26.657127Z"
    }
   },
   "outputs": [
    {
     "name": "stdout",
     "output_type": "stream",
     "text": [
      "0 kullanilmaz bolunurken, farkli bir deger gir:2\n",
      "3.0\n"
     ]
    }
   ],
   "source": [
    "try:\n",
    "    print(bolunen / bolen)\n",
    "except NameError:\n",
    "    print('try kismindan gelecek olan hata NameError hatasidir')\n",
    "except ZeroDivisionError:\n",
    "    bolen = int(input('0 kullanilmaz bolunurken, farkli bir deger gir:'))\n",
    "    print(bolunen/ bolen)"
   ]
  },
  {
   "cell_type": "code",
   "execution_count": 17,
   "id": "6edd99db",
   "metadata": {
    "ExecuteTime": {
     "end_time": "2024-05-13T18:11:45.252867Z",
     "start_time": "2024-05-13T18:11:45.248923Z"
    }
   },
   "outputs": [],
   "source": [
    "bolunen = 8\n",
    "bolen = 2"
   ]
  },
  {
   "cell_type": "code",
   "execution_count": 19,
   "id": "533a7462",
   "metadata": {
    "ExecuteTime": {
     "end_time": "2024-05-13T18:13:46.579082Z",
     "start_time": "2024-05-13T18:13:46.575216Z"
    }
   },
   "outputs": [
    {
     "name": "stdout",
     "output_type": "stream",
     "text": [
      "4.0\n",
      "try kismindan gelecek olan hata NameError hatasidir\n"
     ]
    }
   ],
   "source": [
    "try:\n",
    "    print(bolunen / bolen)\n",
    "    print(Sami)\n",
    "except NameError:\n",
    "    print('try kismindan gelecek olan hata NameError hatasidir')\n",
    "except ZeroDivisionError:\n",
    "    bolen = int(input('0 kullanilmaz bolunurken, farkli bir deger gir:'))\n",
    "    print(bolunen/ bolen)\n",
    "except:\n",
    "    print('butun hatalari yakalarim')"
   ]
  },
  {
   "cell_type": "code",
   "execution_count": 20,
   "id": "c74c9d31",
   "metadata": {
    "ExecuteTime": {
     "end_time": "2024-05-13T18:14:54.762939Z",
     "start_time": "2024-05-13T18:14:54.747794Z"
    }
   },
   "outputs": [
    {
     "ename": "NameError",
     "evalue": "name 'sami' is not defined",
     "output_type": "error",
     "traceback": [
      "\u001b[1;31m---------------------------------------------------------------------------\u001b[0m",
      "\u001b[1;31mNameError\u001b[0m                                 Traceback (most recent call last)",
      "Cell \u001b[1;32mIn[20], line 1\u001b[0m\n\u001b[1;32m----> 1\u001b[0m \u001b[38;5;28mprint\u001b[39m(\u001b[43msami\u001b[49m)\n",
      "\u001b[1;31mNameError\u001b[0m: name 'sami' is not defined"
     ]
    }
   ],
   "source": [
    "print(sami)"
   ]
  },
  {
   "cell_type": "code",
   "execution_count": 21,
   "id": "bb12730b",
   "metadata": {
    "ExecuteTime": {
     "end_time": "2024-05-13T18:15:30.302887Z",
     "start_time": "2024-05-13T18:15:30.298060Z"
    }
   },
   "outputs": [
    {
     "name": "stdout",
     "output_type": "stream",
     "text": [
      "4.0\n",
      "try kismindan gelecek olan hata NameError hatasidir\n"
     ]
    }
   ],
   "source": [
    "try:  # hatayı görene kadarki doğru satırlar çalışır. Hatadan sonra doğru satır olsa dahi çalışmaz\n",
    "    print(bolunen / bolen)\n",
    "    print(Sami)\n",
    "    print(8 / 0)\n",
    "except NameError:\n",
    "    print('try kismindan gelecek olan hata NameError hatasidir')\n",
    "except ZeroDivisionError:\n",
    "    bolen = int(input('0 kullanilmaz bolunurken, farkli bir deger gir:'))\n",
    "    print(bolunen/ bolen)\n",
    "except:\n",
    "    print('butun hatalari yakalarim')"
   ]
  },
  {
   "cell_type": "code",
   "execution_count": 1,
   "id": "8134630e",
   "metadata": {
    "ExecuteTime": {
     "end_time": "2024-05-16T00:41:31.344299Z",
     "start_time": "2024-05-16T00:41:31.337768Z"
    }
   },
   "outputs": [
    {
     "ename": "SyntaxError",
     "evalue": "default 'except:' must be last (1490050621.py, line 6)",
     "output_type": "error",
     "traceback": [
      "\u001b[1;36m  Cell \u001b[1;32mIn[1], line 6\u001b[1;36m\u001b[0m\n\u001b[1;33m    except:\u001b[0m\n\u001b[1;37m    ^\u001b[0m\n\u001b[1;31mSyntaxError\u001b[0m\u001b[1;31m:\u001b[0m default 'except:' must be last\n"
     ]
    }
   ],
   "source": [
    "try:  # syntax hatası varsa doğru satır olsa dahi çalışmaz\n",
    "    print(bölünen / bölen)\n",
    "    print(sami)\n",
    "    print(8 / 0)\n",
    "\n",
    "except:   # SyntaxError: default 'except:' must be last\n",
    "    print(\"Bütün hataları ben yakalarım\")\n",
    "except NameError:\n",
    "    print(\"try çalışmazsa bilki NameError hatasıdır\")\n",
    "except ZeroDivisionError:\n",
    "    bölen = int(input(\"Sıfırı kullabndığın için beni karşında gördün. Farklı bir değer gir. \"))\n",
    "    print(bölünen / bölen)\n"
   ]
  },
  {
   "cell_type": "code",
   "execution_count": 2,
   "id": "59d0c559",
   "metadata": {
    "ExecuteTime": {
     "end_time": "2024-05-16T00:42:30.014886Z",
     "start_time": "2024-05-16T00:42:30.010300Z"
    }
   },
   "outputs": [
    {
     "ename": "SyntaxError",
     "evalue": "unterminated string literal (detected at line 3) (353584575.py, line 3)",
     "output_type": "error",
     "traceback": [
      "\u001b[1;36m  Cell \u001b[1;32mIn[2], line 3\u001b[1;36m\u001b[0m\n\u001b[1;33m    print(\"Talha)\u001b[0m\n\u001b[1;37m          ^\u001b[0m\n\u001b[1;31mSyntaxError\u001b[0m\u001b[1;31m:\u001b[0m unterminated string literal (detected at line 3)\n"
     ]
    }
   ],
   "source": [
    "print(\"Sami\")\n",
    "print(\"Nazım\")\n",
    "print(\"Talha)"
   ]
  },
  {
   "cell_type": "code",
   "execution_count": 3,
   "id": "018b8913",
   "metadata": {
    "ExecuteTime": {
     "end_time": "2024-05-16T00:42:30.465684Z",
     "start_time": "2024-05-16T00:42:30.462484Z"
    }
   },
   "outputs": [],
   "source": [
    "bölünen = 8\n",
    "bölen = 2"
   ]
  },
  {
   "cell_type": "code",
   "execution_count": 4,
   "id": "aa57263a",
   "metadata": {
    "ExecuteTime": {
     "end_time": "2024-05-16T00:42:32.587932Z",
     "start_time": "2024-05-16T00:42:32.585785Z"
    }
   },
   "outputs": [],
   "source": [
    "name = 'Sami'"
   ]
  },
  {
   "cell_type": "code",
   "execution_count": 5,
   "id": "32eaf44d",
   "metadata": {
    "ExecuteTime": {
     "end_time": "2024-05-16T00:42:58.858928Z",
     "start_time": "2024-05-16T00:42:58.855102Z"
    }
   },
   "outputs": [
    {
     "name": "stdout",
     "output_type": "stream",
     "text": [
      "4.0\n",
      "Sami\n",
      "Sizin yakalayamadıklarınızı ben yakalarım\n"
     ]
    }
   ],
   "source": [
    "try: \n",
    "    print(bölünen / bölen)\n",
    "    print(name)\n",
    "    print(5 + \"5\") # TypeError hatasi\n",
    "\n",
    "except NameError:\n",
    "    print(\"try çalışmazsa bilki NameError hatasıdır\")\n",
    "except ZeroDivisionError:\n",
    "    bölen = int(input(\"Sıfırı kullabndığın için beni karşında gördün. Farklı bir değer gir. \"))\n",
    "    print(bölünen / bölen)\n",
    "except:\n",
    "    print(\"Sizin yakalayamadıklarınızı ben yakalarım\")"
   ]
  },
  {
   "cell_type": "code",
   "execution_count": 6,
   "id": "61a72212",
   "metadata": {
    "ExecuteTime": {
     "end_time": "2024-05-16T00:43:15.382249Z",
     "start_time": "2024-05-16T00:43:15.379053Z"
    }
   },
   "outputs": [],
   "source": [
    "bölünen = 8\n",
    "bölen = 2"
   ]
  },
  {
   "cell_type": "code",
   "execution_count": 7,
   "id": "94f7f44e",
   "metadata": {
    "ExecuteTime": {
     "end_time": "2024-05-16T00:43:15.755154Z",
     "start_time": "2024-05-16T00:43:15.751782Z"
    }
   },
   "outputs": [
    {
     "name": "stdout",
     "output_type": "stream",
     "text": [
      "4.0\n",
      "Sizin yakalayamadıklarınızı ben yakalarım\n",
      "bu koddaki hata name 'student' is not defined\n"
     ]
    }
   ],
   "source": [
    "try: \n",
    "    print(bölünen / bölen)\n",
    "    print(student)\n",
    "\n",
    "except ZeroDivisionError:\n",
    "    bölen = int(input(\"Sıfırı kullabndığın için beni karşında gördün. Farklı bir değer gir. \"))\n",
    "    print(bölünen / bölen)\n",
    "except Exception as error:\n",
    "    print(\"Sizin yakalayamadıklarınızı ben yakalarım\")\n",
    "    print(f\"bu koddaki hata {error}\")"
   ]
  },
  {
   "cell_type": "code",
   "execution_count": 8,
   "id": "3dcd3571",
   "metadata": {
    "ExecuteTime": {
     "end_time": "2024-05-16T00:43:31.603397Z",
     "start_time": "2024-05-16T00:43:31.079444Z"
    }
   },
   "outputs": [
    {
     "ename": "NameError",
     "evalue": "name 'student' is not defined",
     "output_type": "error",
     "traceback": [
      "\u001b[1;31m---------------------------------------------------------------------------\u001b[0m",
      "\u001b[1;31mNameError\u001b[0m                                 Traceback (most recent call last)",
      "Cell \u001b[1;32mIn[8], line 1\u001b[0m\n\u001b[1;32m----> 1\u001b[0m \u001b[43mstudent\u001b[49m\n",
      "\u001b[1;31mNameError\u001b[0m: name 'student' is not defined"
     ]
    }
   ],
   "source": [
    "student"
   ]
  },
  {
   "cell_type": "code",
   "execution_count": 9,
   "id": "ef9d10e4",
   "metadata": {
    "ExecuteTime": {
     "end_time": "2024-05-16T00:43:39.303692Z",
     "start_time": "2024-05-16T00:43:39.300661Z"
    }
   },
   "outputs": [],
   "source": [
    "liste = [5 , \"aaa\", 15, \"bbb\", 47]"
   ]
  },
  {
   "cell_type": "code",
   "execution_count": 10,
   "id": "8a78326b",
   "metadata": {
    "ExecuteTime": {
     "end_time": "2024-05-16T00:43:53.962270Z",
     "start_time": "2024-05-16T00:43:53.958774Z"
    }
   },
   "outputs": [
    {
     "name": "stdout",
     "output_type": "stream",
     "text": [
      "[5, 15, 47]\n"
     ]
    }
   ],
   "source": [
    "liste = [5 , \"aaa\", 15, \"bbb\", 47]\n",
    "\n",
    "new_list = []\n",
    "\n",
    "for i in liste: \n",
    "\n",
    "    try: \n",
    "        x = int(i)\n",
    "        new_list.append(i)\n",
    "    except:\n",
    "        continue\n",
    "\n",
    "print(new_list)"
   ]
  },
  {
   "cell_type": "markdown",
   "id": "df310827",
   "metadata": {},
   "source": [
    "### else"
   ]
  },
  {
   "cell_type": "code",
   "execution_count": null,
   "id": "baa45ff8",
   "metadata": {},
   "outputs": [],
   "source": [
    "# else kismi sadece try calisirsa calisir"
   ]
  },
  {
   "cell_type": "code",
   "execution_count": 11,
   "id": "dab57889",
   "metadata": {
    "ExecuteTime": {
     "end_time": "2024-05-16T00:47:28.085726Z",
     "start_time": "2024-05-16T00:47:28.081699Z"
    }
   },
   "outputs": [],
   "source": [
    "try:\n",
    "    pass\n",
    "except:\n",
    "    pass\n",
    "else:\n",
    "    pass"
   ]
  },
  {
   "cell_type": "code",
   "execution_count": 12,
   "id": "31464a22",
   "metadata": {
    "ExecuteTime": {
     "end_time": "2024-05-16T00:47:28.467206Z",
     "start_time": "2024-05-16T00:47:28.463672Z"
    }
   },
   "outputs": [],
   "source": [
    "bölünen = 9\n",
    "bölen = 3"
   ]
  },
  {
   "cell_type": "code",
   "execution_count": 16,
   "id": "dbcdb17a",
   "metadata": {
    "ExecuteTime": {
     "end_time": "2024-05-16T00:47:39.307046Z",
     "start_time": "2024-05-16T00:47:34.723739Z"
    }
   },
   "outputs": [
    {
     "name": "stdout",
     "output_type": "stream",
     "text": [
      "Sıfırı kullabndığın için beni karşında gördün. Farklı bir değer gir. 6\n",
      "1.5\n"
     ]
    }
   ],
   "source": [
    "try:\n",
    "    print(bölünen / bölen)\n",
    "except:\n",
    "    bölen = int(input(\"Sıfırı kullabndığın için beni karşında gördün. Farklı bir değer gir. \"))\n",
    "    print(bölünen / bölen)\n",
    "else:\n",
    "    print(\"Ben else olarak sadece ve sadece try çalışısrsa işlem yaparım\")"
   ]
  },
  {
   "cell_type": "code",
   "execution_count": 17,
   "id": "3d5fc755",
   "metadata": {
    "ExecuteTime": {
     "end_time": "2024-05-16T00:47:40.805027Z",
     "start_time": "2024-05-16T00:47:40.802372Z"
    }
   },
   "outputs": [],
   "source": [
    "bölünen = 9\n",
    "bölen = 0"
   ]
  },
  {
   "cell_type": "code",
   "execution_count": 18,
   "id": "0acc60a2",
   "metadata": {
    "ExecuteTime": {
     "end_time": "2024-05-16T00:47:44.288594Z",
     "start_time": "2024-05-16T00:47:41.621892Z"
    }
   },
   "outputs": [
    {
     "name": "stdout",
     "output_type": "stream",
     "text": [
      "Sıfırı kullabndığın için beni karşında gördün. Farklı bir değer gir. 5\n",
      "1.8\n"
     ]
    }
   ],
   "source": [
    "try: # try çalışmazsa else de çalışmaz. \n",
    "    print(bölünen / bölen)\n",
    "except:\n",
    "    bölen = int(input(\"Sıfırı kullabndığın için beni karşında gördün. Farklı bir değer gir. \"))\n",
    "    print(bölünen / bölen)\n",
    "else:\n",
    "    print(\"Ben else olarak sadece ve sadece try çalışısrsa işlem yaparım\")"
   ]
  },
  {
   "cell_type": "code",
   "execution_count": 19,
   "id": "11a57018",
   "metadata": {
    "ExecuteTime": {
     "end_time": "2024-05-16T00:47:45.413558Z",
     "start_time": "2024-05-16T00:47:45.408732Z"
    }
   },
   "outputs": [
    {
     "name": "stdout",
     "output_type": "stream",
     "text": [
      "[5, 15, 47]\n"
     ]
    }
   ],
   "source": [
    "liste = [5 , \"aaa\", 15, \"bbb\", 47]\n",
    "\n",
    "new_list = []\n",
    "\n",
    "for i in liste: \n",
    "\n",
    "    try: \n",
    "        x = int(i)\n",
    "    except:\n",
    "        continue\n",
    "    else:\n",
    "        new_list.append(i)\n",
    "\n",
    "print(new_list)"
   ]
  },
  {
   "cell_type": "markdown",
   "id": "1bf7b1e3",
   "metadata": {},
   "source": [
    "### finally"
   ]
  },
  {
   "cell_type": "code",
   "execution_count": 20,
   "id": "b6b2e642",
   "metadata": {
    "ExecuteTime": {
     "end_time": "2024-05-16T00:47:46.104924Z",
     "start_time": "2024-05-16T00:47:46.102026Z"
    }
   },
   "outputs": [],
   "source": [
    "try:\n",
    "    pass\n",
    "except:\n",
    "    pass\n",
    "else:\n",
    "    pass\n",
    "finally:\n",
    "    pass"
   ]
  },
  {
   "cell_type": "code",
   "execution_count": 21,
   "id": "0c624cb3",
   "metadata": {
    "ExecuteTime": {
     "end_time": "2024-05-16T00:47:46.934962Z",
     "start_time": "2024-05-16T00:47:46.931277Z"
    }
   },
   "outputs": [],
   "source": [
    "bölünen = 9\n",
    "bölen = 0"
   ]
  },
  {
   "cell_type": "code",
   "execution_count": 22,
   "id": "81c3527b",
   "metadata": {
    "ExecuteTime": {
     "end_time": "2024-05-16T00:47:49.475471Z",
     "start_time": "2024-05-16T00:47:47.575230Z"
    }
   },
   "outputs": [
    {
     "name": "stdout",
     "output_type": "stream",
     "text": [
      "Sıfırı kullabndığın için beni karşında gördün. Farklı bir değer gir. 5\n",
      "1.8\n",
      "ben finally olarak yukarıdan bağımsız olarak her halükarda çalışırım\n"
     ]
    }
   ],
   "source": [
    "try: # try çalışmazsa else te çalışmaz. \n",
    "    print(bölünen / bölen)\n",
    "except:\n",
    "    bölen = int(input(\"Sıfırı kullabndığın için beni karşında gördün. Farklı bir değer gir. \"))\n",
    "    print(bölünen / bölen)\n",
    "else:\n",
    "    print(\"Ben else olarak sadece ve sadece try çalışısrsa işlem yaparım\")\n",
    "finally:\n",
    "    print(\"ben finally olarak yukarıdan bağımsız olarak her halükarda çalışırım\")"
   ]
  },
  {
   "cell_type": "code",
   "execution_count": 23,
   "id": "107a8d74",
   "metadata": {
    "ExecuteTime": {
     "end_time": "2024-05-16T00:47:50.006297Z",
     "start_time": "2024-05-16T00:47:50.000019Z"
    }
   },
   "outputs": [],
   "source": [
    "bölünen = 9\n",
    "bölen = 3"
   ]
  },
  {
   "cell_type": "code",
   "execution_count": 24,
   "id": "9fb7e83f",
   "metadata": {
    "ExecuteTime": {
     "end_time": "2024-05-16T00:47:50.729481Z",
     "start_time": "2024-05-16T00:47:50.707780Z"
    }
   },
   "outputs": [
    {
     "name": "stdout",
     "output_type": "stream",
     "text": [
      "3.0\n",
      "Ben else olarak sadece ve sadece try çalışısrsa işlem yaparım\n"
     ]
    },
    {
     "ename": "NameError",
     "evalue": "name 'student' is not defined",
     "output_type": "error",
     "traceback": [
      "\u001b[1;31m---------------------------------------------------------------------------\u001b[0m",
      "\u001b[1;31mNameError\u001b[0m                                 Traceback (most recent call last)",
      "Cell \u001b[1;32mIn[24], line 9\u001b[0m\n\u001b[0;32m      7\u001b[0m     \u001b[38;5;28mprint\u001b[39m(\u001b[38;5;124m\"\u001b[39m\u001b[38;5;124mBen else olarak sadece ve sadece try çalışısrsa işlem yaparım\u001b[39m\u001b[38;5;124m\"\u001b[39m)\n\u001b[0;32m      8\u001b[0m \u001b[38;5;28;01mfinally\u001b[39;00m:\n\u001b[1;32m----> 9\u001b[0m     \u001b[38;5;28mprint\u001b[39m(\u001b[38;5;124m\"\u001b[39m\u001b[38;5;124mben finally olarak yukarıdan bağımsız olarak her halükarda çalışırım\u001b[39m\u001b[38;5;124m\"\u001b[39m, \u001b[43mstudent\u001b[49m)\n",
      "\u001b[1;31mNameError\u001b[0m: name 'student' is not defined"
     ]
    }
   ],
   "source": [
    "try: # try çalışmazsa else te çalışmaz. \n",
    "    print(bölünen / bölen)\n",
    "except:\n",
    "    bölen = int(input(\"Sıfırı kullabndığın için beni karşında gördün. Farklı bir değer gir. \"))\n",
    "    print(bölünen / bölen)\n",
    "else:\n",
    "    print(\"Ben else olarak sadece ve sadece try çalışısrsa işlem yaparım\")\n",
    "finally:\n",
    "    print(\"ben finally olarak yukarıdan bağımsız olarak her halükarda çalışırım\", student)"
   ]
  },
  {
   "cell_type": "markdown",
   "id": "6b1c45df",
   "metadata": {},
   "source": [
    "### raise"
   ]
  },
  {
   "cell_type": "code",
   "execution_count": 25,
   "id": "3929ad50",
   "metadata": {
    "ExecuteTime": {
     "end_time": "2024-05-16T00:47:51.554164Z",
     "start_time": "2024-05-16T00:47:51.536151Z"
    }
   },
   "outputs": [
    {
     "ename": "Exception",
     "evalue": "Keyfime göre",
     "output_type": "error",
     "traceback": [
      "\u001b[1;31m---------------------------------------------------------------------------\u001b[0m",
      "\u001b[1;31mException\u001b[0m                                 Traceback (most recent call last)",
      "Cell \u001b[1;32mIn[25], line 1\u001b[0m\n\u001b[1;32m----> 1\u001b[0m \u001b[38;5;28;01mraise\u001b[39;00m \u001b[38;5;167;01mException\u001b[39;00m(\u001b[38;5;124m\"\u001b[39m\u001b[38;5;124mKeyfime göre\u001b[39m\u001b[38;5;124m\"\u001b[39m)\n",
      "\u001b[1;31mException\u001b[0m: Keyfime göre"
     ]
    }
   ],
   "source": [
    "raise Exception(\"Keyfime göre\")"
   ]
  },
  {
   "cell_type": "code",
   "execution_count": 26,
   "id": "99257d07",
   "metadata": {
    "ExecuteTime": {
     "end_time": "2024-05-16T00:47:52.453506Z",
     "start_time": "2024-05-16T00:47:52.448542Z"
    }
   },
   "outputs": [],
   "source": [
    "def terstenyazdir(a):\n",
    "\n",
    "    if type(a) != str:\n",
    "\n",
    "        raise TypeError(\"Girdiğiniz değer str olmalıydı.\")\n",
    "    \n",
    "    else: \n",
    "        return a[::-1]\n"
   ]
  },
  {
   "cell_type": "code",
   "execution_count": 27,
   "id": "0d4589ba",
   "metadata": {
    "ExecuteTime": {
     "end_time": "2024-05-16T00:47:53.185821Z",
     "start_time": "2024-05-16T00:47:53.177676Z"
    }
   },
   "outputs": [
    {
     "data": {
      "text/plain": [
       "'imaS'"
      ]
     },
     "execution_count": 27,
     "metadata": {},
     "output_type": "execute_result"
    }
   ],
   "source": [
    "terstenyazdir(\"Sami\")"
   ]
  },
  {
   "cell_type": "code",
   "execution_count": 28,
   "id": "ea9fd9ae",
   "metadata": {
    "ExecuteTime": {
     "end_time": "2024-05-16T00:47:53.862728Z",
     "start_time": "2024-05-16T00:47:53.833634Z"
    }
   },
   "outputs": [
    {
     "ename": "TypeError",
     "evalue": "Girdiğiniz değer str olmalıydı.",
     "output_type": "error",
     "traceback": [
      "\u001b[1;31m---------------------------------------------------------------------------\u001b[0m",
      "\u001b[1;31mTypeError\u001b[0m                                 Traceback (most recent call last)",
      "Cell \u001b[1;32mIn[28], line 1\u001b[0m\n\u001b[1;32m----> 1\u001b[0m \u001b[43mterstenyazdir\u001b[49m\u001b[43m(\u001b[49m\u001b[43m[\u001b[49m\u001b[38;5;241;43m1\u001b[39;49m\u001b[43m,\u001b[49m\u001b[38;5;241;43m2\u001b[39;49m\u001b[43m,\u001b[49m\u001b[38;5;241;43m3\u001b[39;49m\u001b[43m,\u001b[49m\u001b[38;5;241;43m4\u001b[39;49m\u001b[43m,\u001b[49m\u001b[38;5;241;43m5\u001b[39;49m\u001b[43m]\u001b[49m\u001b[43m)\u001b[49m\n",
      "Cell \u001b[1;32mIn[26], line 5\u001b[0m, in \u001b[0;36mterstenyazdir\u001b[1;34m(a)\u001b[0m\n\u001b[0;32m      1\u001b[0m \u001b[38;5;28;01mdef\u001b[39;00m \u001b[38;5;21mterstenyazdir\u001b[39m(a):\n\u001b[0;32m      3\u001b[0m     \u001b[38;5;28;01mif\u001b[39;00m \u001b[38;5;28mtype\u001b[39m(a) \u001b[38;5;241m!=\u001b[39m \u001b[38;5;28mstr\u001b[39m:\n\u001b[1;32m----> 5\u001b[0m         \u001b[38;5;28;01mraise\u001b[39;00m \u001b[38;5;167;01mTypeError\u001b[39;00m(\u001b[38;5;124m\"\u001b[39m\u001b[38;5;124mGirdiğiniz değer str olmalıydı.\u001b[39m\u001b[38;5;124m\"\u001b[39m)\n\u001b[0;32m      7\u001b[0m     \u001b[38;5;28;01melse\u001b[39;00m: \n\u001b[0;32m      8\u001b[0m         \u001b[38;5;28;01mreturn\u001b[39;00m a[::\u001b[38;5;241m-\u001b[39m\u001b[38;5;241m1\u001b[39m]\n",
      "\u001b[1;31mTypeError\u001b[0m: Girdiğiniz değer str olmalıydı."
     ]
    }
   ],
   "source": [
    "terstenyazdir([1,2,3,4,5])"
   ]
  },
  {
   "cell_type": "markdown",
   "id": "081d4fb1",
   "metadata": {},
   "source": [
    "### assert"
   ]
  },
  {
   "cell_type": "code",
   "execution_count": 29,
   "id": "29bca0c8",
   "metadata": {
    "ExecuteTime": {
     "end_time": "2024-05-16T00:47:54.243566Z",
     "start_time": "2024-05-16T00:47:54.240611Z"
    }
   },
   "outputs": [],
   "source": [
    "liste = [1,2,3]"
   ]
  },
  {
   "cell_type": "code",
   "execution_count": 30,
   "id": "52bd5551",
   "metadata": {
    "ExecuteTime": {
     "end_time": "2024-05-16T00:47:54.831272Z",
     "start_time": "2024-05-16T00:47:54.828493Z"
    }
   },
   "outputs": [],
   "source": [
    "assert len(liste) == 3, \"eleman sayısı 3 olmalı\""
   ]
  },
  {
   "cell_type": "code",
   "execution_count": 31,
   "id": "2c534996",
   "metadata": {
    "ExecuteTime": {
     "end_time": "2024-05-16T00:47:55.369157Z",
     "start_time": "2024-05-16T00:47:55.352745Z"
    }
   },
   "outputs": [
    {
     "ename": "AssertionError",
     "evalue": "eleman sayısı 2 olmalı",
     "output_type": "error",
     "traceback": [
      "\u001b[1;31m---------------------------------------------------------------------------\u001b[0m",
      "\u001b[1;31mAssertionError\u001b[0m                            Traceback (most recent call last)",
      "Cell \u001b[1;32mIn[31], line 1\u001b[0m\n\u001b[1;32m----> 1\u001b[0m \u001b[38;5;28;01massert\u001b[39;00m \u001b[38;5;28mlen\u001b[39m(liste) \u001b[38;5;241m==\u001b[39m \u001b[38;5;241m2\u001b[39m, \u001b[38;5;124m\"\u001b[39m\u001b[38;5;124meleman sayısı 2 olmalı\u001b[39m\u001b[38;5;124m\"\u001b[39m\n",
      "\u001b[1;31mAssertionError\u001b[0m: eleman sayısı 2 olmalı"
     ]
    }
   ],
   "source": [
    "assert len(liste) == 2, \"eleman sayısı 2 olmalı\""
   ]
  },
  {
   "cell_type": "code",
   "execution_count": 33,
   "id": "0df44363",
   "metadata": {
    "ExecuteTime": {
     "end_time": "2024-05-16T00:48:01.233068Z",
     "start_time": "2024-05-16T00:47:59.389194Z"
    }
   },
   "outputs": [
    {
     "name": "stdout",
     "output_type": "stream",
     "text": [
      "sifre girin en az 6 karakter olmalı6\n"
     ]
    },
    {
     "ename": "AssertionError",
     "evalue": "Sifreniz 6 karakterden büyük olmalı",
     "output_type": "error",
     "traceback": [
      "\u001b[1;31m---------------------------------------------------------------------------\u001b[0m",
      "\u001b[1;31mAssertionError\u001b[0m                            Traceback (most recent call last)",
      "Cell \u001b[1;32mIn[33], line 3\u001b[0m\n\u001b[0;32m      1\u001b[0m sifre \u001b[38;5;241m=\u001b[39m \u001b[38;5;28minput\u001b[39m(\u001b[38;5;124m\"\u001b[39m\u001b[38;5;124msifre girin en az 6 karakter olmalı\u001b[39m\u001b[38;5;124m\"\u001b[39m)\n\u001b[1;32m----> 3\u001b[0m \u001b[38;5;28;01massert\u001b[39;00m \u001b[38;5;28mlen\u001b[39m(sifre) \u001b[38;5;241m>\u001b[39m\u001b[38;5;241m=\u001b[39m \u001b[38;5;241m6\u001b[39m, \u001b[38;5;124m\"\u001b[39m\u001b[38;5;124mSifreniz 6 karakterden büyük olmalı\u001b[39m\u001b[38;5;124m\"\u001b[39m\n",
      "\u001b[1;31mAssertionError\u001b[0m: Sifreniz 6 karakterden büyük olmalı"
     ]
    }
   ],
   "source": [
    "sifre = input(\"sifre girin en az 6 karakter olmalı\")\n",
    "\n",
    "assert len(sifre) >= 6, \"Sifreniz 6 karakterden büyük olmalı\""
   ]
  },
  {
   "cell_type": "code",
   "execution_count": 34,
   "id": "ce59ab5e",
   "metadata": {
    "ExecuteTime": {
     "end_time": "2024-05-16T00:48:02.608886Z",
     "start_time": "2024-05-16T00:48:02.605289Z"
    }
   },
   "outputs": [],
   "source": [
    "def kayıt(kullanıcı_adı, yaş):\n",
    "\n",
    "    assert isinstance(kullanıcı_adı, str) and kullanıcı_adı, \"Geçerli bir kullanıcı adı girmediniz\"\n",
    "\n",
    "    assert isinstance(yaş, int) and yaş >= 0, \"Geçerli bir yaş girmediniz.\" \n",
    "\n",
    "    print(f\"kullanıcı adı: {kullanıcı_adı}, yaş: {yaş}\")"
   ]
  },
  {
   "cell_type": "code",
   "execution_count": 35,
   "id": "52147716",
   "metadata": {
    "ExecuteTime": {
     "end_time": "2024-05-16T00:48:03.493539Z",
     "start_time": "2024-05-16T00:48:03.489779Z"
    }
   },
   "outputs": [
    {
     "name": "stdout",
     "output_type": "stream",
     "text": [
      "kullanıcı adı: sedat, yaş: 32\n"
     ]
    }
   ],
   "source": [
    "kayıt(\"sedat\", 32)"
   ]
  },
  {
   "cell_type": "code",
   "execution_count": 36,
   "id": "5f7b0eb3",
   "metadata": {
    "ExecuteTime": {
     "end_time": "2024-05-16T00:48:04.203110Z",
     "start_time": "2024-05-16T00:48:04.160794Z"
    }
   },
   "outputs": [
    {
     "ename": "AssertionError",
     "evalue": "Geçerli bir yaş girmediniz.",
     "output_type": "error",
     "traceback": [
      "\u001b[1;31m---------------------------------------------------------------------------\u001b[0m",
      "\u001b[1;31mAssertionError\u001b[0m                            Traceback (most recent call last)",
      "Cell \u001b[1;32mIn[36], line 1\u001b[0m\n\u001b[1;32m----> 1\u001b[0m \u001b[43mkayıt\u001b[49m\u001b[43m(\u001b[49m\u001b[38;5;124;43m\"\u001b[39;49m\u001b[38;5;124;43msedat\u001b[39;49m\u001b[38;5;124;43m\"\u001b[39;49m\u001b[43m,\u001b[49m\u001b[43m \u001b[49m\u001b[38;5;124;43m\"\u001b[39;49m\u001b[38;5;124;43motuziki\u001b[39;49m\u001b[38;5;124;43m\"\u001b[39;49m\u001b[43m)\u001b[49m\n",
      "Cell \u001b[1;32mIn[34], line 5\u001b[0m, in \u001b[0;36mkayıt\u001b[1;34m(kullanıcı_adı, yaş)\u001b[0m\n\u001b[0;32m      1\u001b[0m \u001b[38;5;28;01mdef\u001b[39;00m \u001b[38;5;21mkayıt\u001b[39m(kullanıcı_adı, yaş):\n\u001b[0;32m      3\u001b[0m     \u001b[38;5;28;01massert\u001b[39;00m \u001b[38;5;28misinstance\u001b[39m(kullanıcı_adı, \u001b[38;5;28mstr\u001b[39m) \u001b[38;5;129;01mand\u001b[39;00m kullanıcı_adı, \u001b[38;5;124m\"\u001b[39m\u001b[38;5;124mGeçerli bir kullanıcı adı girmediniz\u001b[39m\u001b[38;5;124m\"\u001b[39m\n\u001b[1;32m----> 5\u001b[0m     \u001b[38;5;28;01massert\u001b[39;00m \u001b[38;5;28misinstance\u001b[39m(yaş, \u001b[38;5;28mint\u001b[39m) \u001b[38;5;129;01mand\u001b[39;00m yaş \u001b[38;5;241m>\u001b[39m\u001b[38;5;241m=\u001b[39m \u001b[38;5;241m0\u001b[39m, \u001b[38;5;124m\"\u001b[39m\u001b[38;5;124mGeçerli bir yaş girmediniz.\u001b[39m\u001b[38;5;124m\"\u001b[39m \n\u001b[0;32m      7\u001b[0m     \u001b[38;5;28mprint\u001b[39m(\u001b[38;5;124mf\u001b[39m\u001b[38;5;124m\"\u001b[39m\u001b[38;5;124mkullanıcı adı: \u001b[39m\u001b[38;5;132;01m{\u001b[39;00mkullanıcı_adı\u001b[38;5;132;01m}\u001b[39;00m\u001b[38;5;124m, yaş: \u001b[39m\u001b[38;5;132;01m{\u001b[39;00myaş\u001b[38;5;132;01m}\u001b[39;00m\u001b[38;5;124m\"\u001b[39m)\n",
      "\u001b[1;31mAssertionError\u001b[0m: Geçerli bir yaş girmediniz."
     ]
    }
   ],
   "source": [
    "kayıt(\"sedat\", \"otuziki\")"
   ]
  },
  {
   "cell_type": "code",
   "execution_count": 37,
   "id": "ac31c559",
   "metadata": {
    "ExecuteTime": {
     "end_time": "2024-05-16T00:48:04.837331Z",
     "start_time": "2024-05-16T00:48:04.833967Z"
    }
   },
   "outputs": [],
   "source": [
    "######################################"
   ]
  },
  {
   "cell_type": "code",
   "execution_count": 38,
   "id": "844e8273",
   "metadata": {
    "ExecuteTime": {
     "end_time": "2024-05-16T00:48:05.599032Z",
     "start_time": "2024-05-16T00:48:05.595202Z"
    }
   },
   "outputs": [],
   "source": [
    "def facktoriyel(sayı):\n",
    "\n",
    "    if sayı == 1:\n",
    "        return 1\n",
    "    \n",
    "    return sayı * facktoriyel(sayı - 1)"
   ]
  },
  {
   "cell_type": "code",
   "execution_count": 39,
   "id": "1ee1b9b1",
   "metadata": {
    "ExecuteTime": {
     "end_time": "2024-05-16T00:48:06.238780Z",
     "start_time": "2024-05-16T00:48:06.234071Z"
    }
   },
   "outputs": [
    {
     "data": {
      "text/plain": [
       "120"
      ]
     },
     "execution_count": 39,
     "metadata": {},
     "output_type": "execute_result"
    }
   ],
   "source": [
    "facktoriyel(5)"
   ]
  },
  {
   "cell_type": "code",
   "execution_count": 40,
   "id": "7ae0058d",
   "metadata": {
    "ExecuteTime": {
     "end_time": "2024-05-16T00:48:09.383143Z",
     "start_time": "2024-05-16T00:48:06.884097Z"
    }
   },
   "outputs": [
    {
     "ename": "RecursionError",
     "evalue": "maximum recursion depth exceeded",
     "output_type": "error",
     "traceback": [
      "\u001b[1;31m---------------------------------------------------------------------------\u001b[0m",
      "\u001b[1;31mRecursionError\u001b[0m                            Traceback (most recent call last)",
      "Cell \u001b[1;32mIn[40], line 1\u001b[0m\n\u001b[1;32m----> 1\u001b[0m \u001b[43mfacktoriyel\u001b[49m\u001b[43m(\u001b[49m\u001b[38;5;241;43m-\u001b[39;49m\u001b[38;5;241;43m2\u001b[39;49m\u001b[43m)\u001b[49m\n",
      "Cell \u001b[1;32mIn[38], line 6\u001b[0m, in \u001b[0;36mfacktoriyel\u001b[1;34m(sayı)\u001b[0m\n\u001b[0;32m      3\u001b[0m \u001b[38;5;28;01mif\u001b[39;00m sayı \u001b[38;5;241m==\u001b[39m \u001b[38;5;241m1\u001b[39m:\n\u001b[0;32m      4\u001b[0m     \u001b[38;5;28;01mreturn\u001b[39;00m \u001b[38;5;241m1\u001b[39m\n\u001b[1;32m----> 6\u001b[0m \u001b[38;5;28;01mreturn\u001b[39;00m sayı \u001b[38;5;241m*\u001b[39m \u001b[43mfacktoriyel\u001b[49m\u001b[43m(\u001b[49m\u001b[43msayı\u001b[49m\u001b[43m \u001b[49m\u001b[38;5;241;43m-\u001b[39;49m\u001b[43m \u001b[49m\u001b[38;5;241;43m1\u001b[39;49m\u001b[43m)\u001b[49m\n",
      "Cell \u001b[1;32mIn[38], line 6\u001b[0m, in \u001b[0;36mfacktoriyel\u001b[1;34m(sayı)\u001b[0m\n\u001b[0;32m      3\u001b[0m \u001b[38;5;28;01mif\u001b[39;00m sayı \u001b[38;5;241m==\u001b[39m \u001b[38;5;241m1\u001b[39m:\n\u001b[0;32m      4\u001b[0m     \u001b[38;5;28;01mreturn\u001b[39;00m \u001b[38;5;241m1\u001b[39m\n\u001b[1;32m----> 6\u001b[0m \u001b[38;5;28;01mreturn\u001b[39;00m sayı \u001b[38;5;241m*\u001b[39m \u001b[43mfacktoriyel\u001b[49m\u001b[43m(\u001b[49m\u001b[43msayı\u001b[49m\u001b[43m \u001b[49m\u001b[38;5;241;43m-\u001b[39;49m\u001b[43m \u001b[49m\u001b[38;5;241;43m1\u001b[39;49m\u001b[43m)\u001b[49m\n",
      "    \u001b[1;31m[... skipping similar frames: facktoriyel at line 6 (2970 times)]\u001b[0m\n",
      "Cell \u001b[1;32mIn[38], line 6\u001b[0m, in \u001b[0;36mfacktoriyel\u001b[1;34m(sayı)\u001b[0m\n\u001b[0;32m      3\u001b[0m \u001b[38;5;28;01mif\u001b[39;00m sayı \u001b[38;5;241m==\u001b[39m \u001b[38;5;241m1\u001b[39m:\n\u001b[0;32m      4\u001b[0m     \u001b[38;5;28;01mreturn\u001b[39;00m \u001b[38;5;241m1\u001b[39m\n\u001b[1;32m----> 6\u001b[0m \u001b[38;5;28;01mreturn\u001b[39;00m sayı \u001b[38;5;241m*\u001b[39m \u001b[43mfacktoriyel\u001b[49m\u001b[43m(\u001b[49m\u001b[43msayı\u001b[49m\u001b[43m \u001b[49m\u001b[38;5;241;43m-\u001b[39;49m\u001b[43m \u001b[49m\u001b[38;5;241;43m1\u001b[39;49m\u001b[43m)\u001b[49m\n",
      "\u001b[1;31mRecursionError\u001b[0m: maximum recursion depth exceeded"
     ]
    }
   ],
   "source": [
    "facktoriyel(-2)"
   ]
  },
  {
   "cell_type": "code",
   "execution_count": 41,
   "id": "52a005df",
   "metadata": {
    "ExecuteTime": {
     "end_time": "2024-05-16T00:48:32.505588Z",
     "start_time": "2024-05-16T00:48:32.501810Z"
    }
   },
   "outputs": [],
   "source": [
    "def facktoriyel(sayı):\n",
    "\n",
    "    assert sayı > 0, \"Faktoriyel işleminde sayı pozitif olmalıdır\"\n",
    "    if sayı == 1:\n",
    "        return 1\n",
    "    \n",
    "    return sayı * facktoriyel(sayı - 1)"
   ]
  },
  {
   "cell_type": "code",
   "execution_count": 42,
   "id": "f5402009",
   "metadata": {
    "ExecuteTime": {
     "end_time": "2024-05-16T00:48:33.224610Z",
     "start_time": "2024-05-16T00:48:33.200566Z"
    }
   },
   "outputs": [
    {
     "ename": "AssertionError",
     "evalue": "Faktoriyel işleminde sayı pozitif olmalıdır",
     "output_type": "error",
     "traceback": [
      "\u001b[1;31m---------------------------------------------------------------------------\u001b[0m",
      "\u001b[1;31mAssertionError\u001b[0m                            Traceback (most recent call last)",
      "Cell \u001b[1;32mIn[42], line 1\u001b[0m\n\u001b[1;32m----> 1\u001b[0m \u001b[43mfacktoriyel\u001b[49m\u001b[43m(\u001b[49m\u001b[38;5;241;43m-\u001b[39;49m\u001b[38;5;241;43m2\u001b[39;49m\u001b[43m)\u001b[49m\n",
      "Cell \u001b[1;32mIn[41], line 3\u001b[0m, in \u001b[0;36mfacktoriyel\u001b[1;34m(sayı)\u001b[0m\n\u001b[0;32m      1\u001b[0m \u001b[38;5;28;01mdef\u001b[39;00m \u001b[38;5;21mfacktoriyel\u001b[39m(sayı):\n\u001b[1;32m----> 3\u001b[0m     \u001b[38;5;28;01massert\u001b[39;00m sayı \u001b[38;5;241m>\u001b[39m \u001b[38;5;241m0\u001b[39m, \u001b[38;5;124m\"\u001b[39m\u001b[38;5;124mFaktoriyel işleminde sayı pozitif olmalıdır\u001b[39m\u001b[38;5;124m\"\u001b[39m\n\u001b[0;32m      4\u001b[0m     \u001b[38;5;28;01mif\u001b[39;00m sayı \u001b[38;5;241m==\u001b[39m \u001b[38;5;241m1\u001b[39m:\n\u001b[0;32m      5\u001b[0m         \u001b[38;5;28;01mreturn\u001b[39;00m \u001b[38;5;241m1\u001b[39m\n",
      "\u001b[1;31mAssertionError\u001b[0m: Faktoriyel işleminde sayı pozitif olmalıdır"
     ]
    }
   ],
   "source": [
    "facktoriyel(-2)"
   ]
  },
  {
   "cell_type": "markdown",
   "id": "1d75a7ff",
   "metadata": {
    "heading_collapsed": true
   },
   "source": [
    "## OS Module"
   ]
  },
  {
   "cell_type": "code",
   "execution_count": 2,
   "id": "eea24ae4",
   "metadata": {
    "ExecuteTime": {
     "end_time": "2024-05-16T03:00:55.465446Z",
     "start_time": "2024-05-16T03:00:55.462792Z"
    },
    "hidden": true
   },
   "outputs": [],
   "source": [
    "import os"
   ]
  },
  {
   "cell_type": "code",
   "execution_count": 44,
   "id": "dae8ebb8",
   "metadata": {
    "ExecuteTime": {
     "end_time": "2024-05-16T01:02:43.827875Z",
     "start_time": "2024-05-16T01:02:43.823516Z"
    },
    "hidden": true
   },
   "outputs": [
    {
     "data": {
      "text/plain": [
       "'C:\\\\Users\\\\humag\\\\Masaüstü\\\\Advanced_Python'"
      ]
     },
     "execution_count": 44,
     "metadata": {},
     "output_type": "execute_result"
    }
   ],
   "source": [
    "os.getcwd()   # current working directory"
   ]
  },
  {
   "cell_type": "code",
   "execution_count": 45,
   "id": "50cf0238",
   "metadata": {
    "ExecuteTime": {
     "end_time": "2024-05-16T01:02:44.892176Z",
     "start_time": "2024-05-16T01:02:44.886174Z"
    },
    "hidden": true
   },
   "outputs": [
    {
     "data": {
      "text/plain": [
       "'C:\\\\Users\\\\humag\\\\Masaüstü\\\\Advanced_Python'"
      ]
     },
     "execution_count": 45,
     "metadata": {},
     "output_type": "execute_result"
    }
   ],
   "source": [
    "pwd   # ayni sey ama os modulunun bir metodu getcwd()"
   ]
  },
  {
   "cell_type": "code",
   "execution_count": 46,
   "id": "5a7cf136",
   "metadata": {
    "ExecuteTime": {
     "end_time": "2024-05-16T01:02:45.682069Z",
     "start_time": "2024-05-16T01:02:45.662153Z"
    },
    "collapsed": true,
    "hidden": true
   },
   "outputs": [
    {
     "ename": "FileExistsError",
     "evalue": "[WinError 183] Cannot create a file when that file already exists: 'sample'",
     "output_type": "error",
     "traceback": [
      "\u001b[1;31m---------------------------------------------------------------------------\u001b[0m",
      "\u001b[1;31mFileExistsError\u001b[0m                           Traceback (most recent call last)",
      "Cell \u001b[1;32mIn[46], line 1\u001b[0m\n\u001b[1;32m----> 1\u001b[0m \u001b[43mos\u001b[49m\u001b[38;5;241;43m.\u001b[39;49m\u001b[43mmkdir\u001b[49m\u001b[43m(\u001b[49m\u001b[38;5;124;43m'\u001b[39;49m\u001b[38;5;124;43msample\u001b[39;49m\u001b[38;5;124;43m'\u001b[39;49m\u001b[43m)\u001b[49m\n",
      "\u001b[1;31mFileExistsError\u001b[0m: [WinError 183] Cannot create a file when that file already exists: 'sample'"
     ]
    }
   ],
   "source": [
    "os.mkdir('sample')"
   ]
  },
  {
   "cell_type": "code",
   "execution_count": 3,
   "id": "63940bbc",
   "metadata": {
    "ExecuteTime": {
     "end_time": "2024-05-16T03:00:58.380930Z",
     "start_time": "2024-05-16T03:00:58.377684Z"
    },
    "hidden": true
   },
   "outputs": [],
   "source": [
    "os.chdir('sample')  # relative path, tum yol gerekiyorsa: absolute path"
   ]
  },
  {
   "cell_type": "code",
   "execution_count": 4,
   "id": "6c93ad17",
   "metadata": {
    "ExecuteTime": {
     "end_time": "2024-05-16T03:01:01.348578Z",
     "start_time": "2024-05-16T03:01:01.340380Z"
    },
    "hidden": true
   },
   "outputs": [
    {
     "data": {
      "text/plain": [
       "'C:\\\\Users\\\\humag\\\\Masaüstü\\\\Advanced_Python\\\\sample'"
      ]
     },
     "execution_count": 4,
     "metadata": {},
     "output_type": "execute_result"
    }
   ],
   "source": [
    "os.getcwd()"
   ]
  },
  {
   "cell_type": "code",
   "execution_count": 5,
   "id": "56861363",
   "metadata": {
    "ExecuteTime": {
     "end_time": "2024-05-16T03:01:05.286176Z",
     "start_time": "2024-05-16T03:01:05.263705Z"
    },
    "hidden": true
   },
   "outputs": [
    {
     "ename": "FileNotFoundError",
     "evalue": "[WinError 2] The system cannot find the file specified: 'Advanced_Python'",
     "output_type": "error",
     "traceback": [
      "\u001b[1;31m---------------------------------------------------------------------------\u001b[0m",
      "\u001b[1;31mFileNotFoundError\u001b[0m                         Traceback (most recent call last)",
      "Cell \u001b[1;32mIn[5], line 1\u001b[0m\n\u001b[1;32m----> 1\u001b[0m \u001b[43mos\u001b[49m\u001b[38;5;241;43m.\u001b[39;49m\u001b[43mchdir\u001b[49m\u001b[43m(\u001b[49m\u001b[38;5;124;43m'\u001b[39;49m\u001b[38;5;124;43mAdvanced_Python\u001b[39;49m\u001b[38;5;124;43m'\u001b[39;49m\u001b[43m)\u001b[49m \u001b[38;5;66;03m# sample'dan gecemedik abs path lazim\u001b[39;00m\n",
      "\u001b[1;31mFileNotFoundError\u001b[0m: [WinError 2] The system cannot find the file specified: 'Advanced_Python'"
     ]
    }
   ],
   "source": [
    "os.chdir('Advanced_Python') # sample'dan gecemedik abs path lazim"
   ]
  },
  {
   "cell_type": "code",
   "execution_count": 6,
   "id": "968bfb2a",
   "metadata": {
    "ExecuteTime": {
     "end_time": "2024-05-16T03:01:09.139859Z",
     "start_time": "2024-05-16T03:01:09.136904Z"
    },
    "hidden": true
   },
   "outputs": [],
   "source": [
    "os.chdir(r'C:\\Users\\humag\\Masaüstü')  # r ile escape sequence'leri ignore et"
   ]
  },
  {
   "cell_type": "code",
   "execution_count": 7,
   "id": "db6b0c67",
   "metadata": {
    "ExecuteTime": {
     "end_time": "2024-05-16T03:01:10.299338Z",
     "start_time": "2024-05-16T03:01:10.295303Z"
    },
    "hidden": true
   },
   "outputs": [
    {
     "data": {
      "text/plain": [
       "'C:\\\\Users\\\\humag\\\\Masaüstü'"
      ]
     },
     "execution_count": 7,
     "metadata": {},
     "output_type": "execute_result"
    }
   ],
   "source": [
    "os.getcwd()"
   ]
  },
  {
   "cell_type": "code",
   "execution_count": 8,
   "id": "9c92e5cf",
   "metadata": {
    "ExecuteTime": {
     "end_time": "2024-05-16T03:01:11.018096Z",
     "start_time": "2024-05-16T03:01:11.014946Z"
    },
    "hidden": true
   },
   "outputs": [],
   "source": [
    "os.chdir('C:\\\\Users\\\\humag\\\\Masaüstü\\\\Advanced_Python')  # change directory"
   ]
  },
  {
   "cell_type": "code",
   "execution_count": 9,
   "id": "b6ea8ce1",
   "metadata": {
    "ExecuteTime": {
     "end_time": "2024-05-16T03:01:12.731969Z",
     "start_time": "2024-05-16T03:01:12.728370Z"
    },
    "hidden": true
   },
   "outputs": [
    {
     "data": {
      "text/plain": [
       "'C:\\\\Users\\\\humag\\\\Masaüstü\\\\Advanced_Python'"
      ]
     },
     "execution_count": 9,
     "metadata": {},
     "output_type": "execute_result"
    }
   ],
   "source": [
    "os.getcwd()"
   ]
  },
  {
   "cell_type": "code",
   "execution_count": 57,
   "id": "5f8848b8",
   "metadata": {
    "ExecuteTime": {
     "end_time": "2024-05-16T01:04:16.215235Z",
     "start_time": "2024-05-16T01:04:16.210976Z"
    },
    "hidden": true
   },
   "outputs": [
    {
     "name": "stdout",
     "output_type": "stream",
     "text": [
      "C:\\Users\\humag\\Masaüstü\n"
     ]
    },
    {
     "name": "stderr",
     "output_type": "stream",
     "text": [
      "C:\\Users\\humag\\AppData\\Local\\Programs\\Python\\Python311\\Lib\\site-packages\\IPython\\core\\magics\\osm.py:417: UserWarning: This is now an optional IPython functionality, setting dhist requires you to install the `pickleshare` library.\n",
      "  self.shell.db['dhist'] = compress_dhist(dhist)[-100:]\n"
     ]
    }
   ],
   "source": [
    "cd ..  # bir oncekine gitme  (comment satiri ile calismiyor btw)"
   ]
  },
  {
   "cell_type": "code",
   "execution_count": 58,
   "id": "1ed52159",
   "metadata": {
    "ExecuteTime": {
     "end_time": "2024-05-16T01:04:44.712013Z",
     "start_time": "2024-05-16T01:04:44.708562Z"
    },
    "hidden": true
   },
   "outputs": [
    {
     "name": "stdout",
     "output_type": "stream",
     "text": [
      "C:\\Users\\humag\n"
     ]
    }
   ],
   "source": [
    "%cd ..  # same thing "
   ]
  },
  {
   "cell_type": "code",
   "execution_count": 59,
   "id": "2061f7dd",
   "metadata": {
    "ExecuteTime": {
     "end_time": "2024-05-16T01:04:59.442633Z",
     "start_time": "2024-05-16T01:04:59.438850Z"
    },
    "hidden": true
   },
   "outputs": [
    {
     "data": {
      "text/plain": [
       "'C:\\\\Users\\\\humag'"
      ]
     },
     "execution_count": 59,
     "metadata": {},
     "output_type": "execute_result"
    }
   ],
   "source": [
    "os.getcwd()"
   ]
  },
  {
   "cell_type": "code",
   "execution_count": 60,
   "id": "22f22f88",
   "metadata": {
    "ExecuteTime": {
     "end_time": "2024-05-16T01:05:17.979216Z",
     "start_time": "2024-05-16T01:05:17.975997Z"
    },
    "hidden": true
   },
   "outputs": [
    {
     "name": "stdout",
     "output_type": "stream",
     "text": [
      "C:\\Users\\humag\\Masaüstü\\Advanced_Python\n"
     ]
    }
   ],
   "source": [
    "%cd Masaüstü\\Advanced_Python"
   ]
  },
  {
   "cell_type": "code",
   "execution_count": 61,
   "id": "565b0ed1",
   "metadata": {
    "ExecuteTime": {
     "end_time": "2024-05-16T01:05:24.390444Z",
     "start_time": "2024-05-16T01:05:24.386968Z"
    },
    "hidden": true
   },
   "outputs": [
    {
     "name": "stdout",
     "output_type": "stream",
     "text": [
      "[WinError 2] The system cannot find the file specified: \"'Advanced_Python' # cift tirnak olunca hata verdi vscode'da calisir ama\"\n",
      "C:\\Users\\humag\\Masaüstü\\Advanced_Python\n"
     ]
    }
   ],
   "source": [
    "%cd 'Advanced_Python' # cift tirnak olunca hata verdi vscode'da calisir ama "
   ]
  },
  {
   "cell_type": "code",
   "execution_count": 10,
   "id": "a06260ee",
   "metadata": {
    "ExecuteTime": {
     "end_time": "2024-05-16T03:01:29.964516Z",
     "start_time": "2024-05-16T03:01:29.960614Z"
    },
    "hidden": true
   },
   "outputs": [
    {
     "data": {
      "text/plain": [
       "'C:\\\\Users\\\\humag\\\\Masaüstü\\\\Advanced_Python'"
      ]
     },
     "execution_count": 10,
     "metadata": {},
     "output_type": "execute_result"
    }
   ],
   "source": [
    "os.getcwd()"
   ]
  },
  {
   "cell_type": "code",
   "execution_count": 11,
   "id": "36fb9e23",
   "metadata": {
    "ExecuteTime": {
     "end_time": "2024-05-16T03:01:34.163516Z",
     "start_time": "2024-05-16T03:01:34.157544Z"
    },
    "hidden": true
   },
   "outputs": [
    {
     "data": {
      "text/plain": [
       "['.ipynb_checkpoints',\n",
       " 'advantage_of_python.txt',\n",
       " 'files',\n",
       " 'log_kayıtları.xlsx',\n",
       " 'Master(Try_Except_OS_Module_OOP).ipynb',\n",
       " 'nested',\n",
       " 'OOP.ipynb',\n",
       " 'sample']"
      ]
     },
     "execution_count": 11,
     "metadata": {},
     "output_type": "execute_result"
    }
   ],
   "source": [
    "os.listdir()  # içinde bulunduğumuz klasörün içibdekileri liste olarak döndürür."
   ]
  },
  {
   "cell_type": "code",
   "execution_count": 12,
   "id": "7d26c051",
   "metadata": {
    "ExecuteTime": {
     "end_time": "2024-05-16T03:01:50.589306Z",
     "start_time": "2024-05-16T03:01:50.585139Z"
    },
    "hidden": true
   },
   "outputs": [
    {
     "data": {
      "text/plain": [
       "['.ipynb_checkpoints',\n",
       " 'advantage_of_python.txt',\n",
       " 'files',\n",
       " 'log_kayıtları.xlsx',\n",
       " 'Master(Try_Except_OS_Module_OOP).ipynb',\n",
       " 'nested',\n",
       " 'OOP.ipynb',\n",
       " 'sample']"
      ]
     },
     "execution_count": 12,
     "metadata": {},
     "output_type": "execute_result"
    }
   ],
   "source": [
    "dirlist = os.listdir()\n",
    "dirlist"
   ]
  },
  {
   "cell_type": "code",
   "execution_count": 13,
   "id": "f9a68c71",
   "metadata": {
    "ExecuteTime": {
     "end_time": "2024-05-16T03:01:53.454370Z",
     "start_time": "2024-05-16T03:01:53.450121Z"
    },
    "hidden": true
   },
   "outputs": [
    {
     "data": {
      "text/plain": [
       "'sample'"
      ]
     },
     "execution_count": 13,
     "metadata": {},
     "output_type": "execute_result"
    }
   ],
   "source": [
    "dirlist.pop() # listeden siler sadece"
   ]
  },
  {
   "cell_type": "code",
   "execution_count": 14,
   "id": "2b575da8",
   "metadata": {
    "ExecuteTime": {
     "end_time": "2024-05-16T03:01:56.809970Z",
     "start_time": "2024-05-16T03:01:56.805872Z"
    },
    "hidden": true
   },
   "outputs": [
    {
     "data": {
      "text/plain": [
       "['.ipynb_checkpoints',\n",
       " 'advantage_of_python.txt',\n",
       " 'files',\n",
       " 'log_kayıtları.xlsx',\n",
       " 'Master(Try_Except_OS_Module_OOP).ipynb',\n",
       " 'nested',\n",
       " 'OOP.ipynb']"
      ]
     },
     "execution_count": 14,
     "metadata": {},
     "output_type": "execute_result"
    }
   ],
   "source": [
    "dirlist"
   ]
  },
  {
   "cell_type": "code",
   "execution_count": 18,
   "id": "b149822f",
   "metadata": {
    "ExecuteTime": {
     "end_time": "2024-05-16T03:02:16.822156Z",
     "start_time": "2024-05-16T03:02:16.816552Z"
    },
    "hidden": true
   },
   "outputs": [
    {
     "data": {
      "text/plain": [
       "'sample'"
      ]
     },
     "execution_count": 18,
     "metadata": {},
     "output_type": "execute_result"
    }
   ],
   "source": [
    "os.listdir().pop() # dosyadan silmis gibi gosteriyor ama silmez"
   ]
  },
  {
   "cell_type": "code",
   "execution_count": 19,
   "id": "088b4c3c",
   "metadata": {
    "ExecuteTime": {
     "end_time": "2024-05-16T03:02:17.268205Z",
     "start_time": "2024-05-16T03:02:17.265338Z"
    },
    "hidden": true
   },
   "outputs": [
    {
     "name": "stdout",
     "output_type": "stream",
     "text": [
      ".ipynb_checkpoints\n",
      "advantage_of_python.txt\n",
      "files\n",
      "log_kayıtları.xlsx\n",
      "Master(Try_Except_OS_Module_OOP).ipynb\n",
      "nested\n",
      "OOP.ipynb\n",
      "sample\n"
     ]
    }
   ],
   "source": [
    "for i in os.listdir():\n",
    "    print(i)"
   ]
  },
  {
   "cell_type": "code",
   "execution_count": 20,
   "id": "f509cf62",
   "metadata": {
    "ExecuteTime": {
     "end_time": "2024-05-16T03:02:21.731910Z",
     "start_time": "2024-05-16T03:02:21.726631Z"
    },
    "hidden": true
   },
   "outputs": [
    {
     "data": {
      "text/plain": [
       "'C:\\\\Users\\\\humag\\\\Masaüstü\\\\Advanced_Python'"
      ]
     },
     "execution_count": 20,
     "metadata": {},
     "output_type": "execute_result"
    }
   ],
   "source": [
    "os.getcwd()"
   ]
  },
  {
   "cell_type": "code",
   "execution_count": 22,
   "id": "17bcf047",
   "metadata": {
    "ExecuteTime": {
     "end_time": "2024-05-16T03:02:37.180073Z",
     "start_time": "2024-05-16T03:02:37.176609Z"
    },
    "hidden": true
   },
   "outputs": [],
   "source": [
    "os.mkdir('new_folder')"
   ]
  },
  {
   "cell_type": "code",
   "execution_count": 80,
   "id": "bc0ec0d9",
   "metadata": {
    "ExecuteTime": {
     "end_time": "2024-05-14T18:34:07.567170Z",
     "start_time": "2024-05-14T18:34:07.563118Z"
    },
    "hidden": true
   },
   "outputs": [],
   "source": [
    "os.mkdir('C:\\\\Users\\\\humag\\\\Masaüstü\\\\Advanced_Python\\\\sample\\\\new_folder_2')"
   ]
  },
  {
   "cell_type": "code",
   "execution_count": 23,
   "id": "52066513",
   "metadata": {
    "ExecuteTime": {
     "end_time": "2024-05-16T03:02:40.791222Z",
     "start_time": "2024-05-16T03:02:40.785597Z"
    },
    "hidden": true
   },
   "outputs": [
    {
     "data": {
      "text/plain": [
       "['.ipynb_checkpoints',\n",
       " 'advantage_of_python.txt',\n",
       " 'files',\n",
       " 'log_kayıtları.xlsx',\n",
       " 'Master(Try_Except_OS_Module_OOP).ipynb',\n",
       " 'nested',\n",
       " 'new_folder',\n",
       " 'OOP.ipynb',\n",
       " 'sample']"
      ]
     },
     "execution_count": 23,
     "metadata": {},
     "output_type": "execute_result"
    }
   ],
   "source": [
    "os.listdir()"
   ]
  },
  {
   "cell_type": "code",
   "execution_count": 24,
   "id": "2b9e9b2b",
   "metadata": {
    "ExecuteTime": {
     "end_time": "2024-05-16T03:02:47.178103Z",
     "start_time": "2024-05-16T03:02:47.174304Z"
    },
    "hidden": true
   },
   "outputs": [
    {
     "data": {
      "text/plain": [
       "['new_folder_2']"
      ]
     },
     "execution_count": 24,
     "metadata": {},
     "output_type": "execute_result"
    }
   ],
   "source": [
    "os.listdir('C:\\\\Users\\\\humag\\\\Masaüstü\\\\Advanced_Python\\\\sample')"
   ]
  },
  {
   "cell_type": "code",
   "execution_count": 25,
   "id": "fbb39930",
   "metadata": {
    "ExecuteTime": {
     "end_time": "2024-05-16T03:02:50.767743Z",
     "start_time": "2024-05-16T03:02:50.749054Z"
    },
    "hidden": true
   },
   "outputs": [
    {
     "ename": "FileExistsError",
     "evalue": "[WinError 183] Cannot create a file when that file already exists: 'new_folder'",
     "output_type": "error",
     "traceback": [
      "\u001b[1;31m---------------------------------------------------------------------------\u001b[0m",
      "\u001b[1;31mFileExistsError\u001b[0m                           Traceback (most recent call last)",
      "Cell \u001b[1;32mIn[25], line 1\u001b[0m\n\u001b[1;32m----> 1\u001b[0m \u001b[43mos\u001b[49m\u001b[38;5;241;43m.\u001b[39;49m\u001b[43mmkdir\u001b[49m\u001b[43m(\u001b[49m\u001b[38;5;124;43m'\u001b[39;49m\u001b[38;5;124;43mnew_folder\u001b[39;49m\u001b[38;5;124;43m'\u001b[39;49m\u001b[43m)\u001b[49m \u001b[38;5;66;03m# ayni dosyadan bir tane daha olusturamiyoruz\u001b[39;00m\n",
      "\u001b[1;31mFileExistsError\u001b[0m: [WinError 183] Cannot create a file when that file already exists: 'new_folder'"
     ]
    }
   ],
   "source": [
    "os.mkdir('new_folder') # ayni dosyadan bir tane daha olusturamiyoruz"
   ]
  },
  {
   "cell_type": "code",
   "execution_count": 88,
   "id": "9ce549bc",
   "metadata": {
    "ExecuteTime": {
     "end_time": "2024-05-14T18:37:52.122091Z",
     "start_time": "2024-05-14T18:37:52.114297Z"
    },
    "hidden": true
   },
   "outputs": [],
   "source": [
    "os.makedirs('C:\\\\Users\\\\humag\\\\Masaüstü\\\\Advanced_Python\\\\nested\\\\nested_2\\\\nested_3') \n",
    "\n",
    "# birden fazla dosya olusturma"
   ]
  },
  {
   "cell_type": "code",
   "execution_count": 26,
   "id": "455feda2",
   "metadata": {
    "ExecuteTime": {
     "end_time": "2024-05-16T03:02:55.934914Z",
     "start_time": "2024-05-16T03:02:55.929579Z"
    },
    "hidden": true
   },
   "outputs": [
    {
     "data": {
      "text/plain": [
       "['.ipynb_checkpoints',\n",
       " 'advantage_of_python.txt',\n",
       " 'files',\n",
       " 'log_kayıtları.xlsx',\n",
       " 'Master(Try_Except_OS_Module_OOP).ipynb',\n",
       " 'nested',\n",
       " 'new_folder',\n",
       " 'OOP.ipynb',\n",
       " 'sample']"
      ]
     },
     "execution_count": 26,
     "metadata": {},
     "output_type": "execute_result"
    }
   ],
   "source": [
    "os.listdir()"
   ]
  },
  {
   "cell_type": "code",
   "execution_count": 28,
   "id": "3b1571d3",
   "metadata": {
    "ExecuteTime": {
     "end_time": "2024-05-16T03:03:18.816706Z",
     "start_time": "2024-05-16T03:03:18.809998Z"
    },
    "hidden": true
   },
   "outputs": [
    {
     "data": {
      "text/plain": [
       "['nested_3']"
      ]
     },
     "execution_count": 28,
     "metadata": {},
     "output_type": "execute_result"
    }
   ],
   "source": [
    "os.listdir('C:\\\\Users\\\\humag\\\\Masaüstü\\\\Advanced_Python\\\\nested\\\\nested_2')"
   ]
  },
  {
   "cell_type": "code",
   "execution_count": 29,
   "id": "8fad5058",
   "metadata": {
    "ExecuteTime": {
     "end_time": "2024-05-16T03:03:23.974877Z",
     "start_time": "2024-05-16T03:03:23.971124Z"
    },
    "hidden": true
   },
   "outputs": [
    {
     "data": {
      "text/plain": [
       "'C:\\\\Users\\\\humag\\\\Masaüstü\\\\Advanced_Python'"
      ]
     },
     "execution_count": 29,
     "metadata": {},
     "output_type": "execute_result"
    }
   ],
   "source": [
    "os.getcwd()"
   ]
  },
  {
   "cell_type": "code",
   "execution_count": 30,
   "id": "c8f3afb2",
   "metadata": {
    "ExecuteTime": {
     "end_time": "2024-05-16T03:03:26.903847Z",
     "start_time": "2024-05-16T03:03:26.901746Z"
    },
    "hidden": true
   },
   "outputs": [],
   "source": [
    "os.rmdir('new_folder')"
   ]
  },
  {
   "cell_type": "code",
   "execution_count": 31,
   "id": "6add265f",
   "metadata": {
    "ExecuteTime": {
     "end_time": "2024-05-16T03:03:27.854535Z",
     "start_time": "2024-05-16T03:03:27.851175Z"
    },
    "hidden": true
   },
   "outputs": [
    {
     "data": {
      "text/plain": [
       "['.ipynb_checkpoints',\n",
       " 'advantage_of_python.txt',\n",
       " 'files',\n",
       " 'log_kayıtları.xlsx',\n",
       " 'Master(Try_Except_OS_Module_OOP).ipynb',\n",
       " 'nested',\n",
       " 'OOP.ipynb',\n",
       " 'sample']"
      ]
     },
     "execution_count": 31,
     "metadata": {},
     "output_type": "execute_result"
    }
   ],
   "source": [
    "os.listdir()"
   ]
  },
  {
   "cell_type": "code",
   "execution_count": 32,
   "id": "c9a0e44c",
   "metadata": {
    "ExecuteTime": {
     "end_time": "2024-05-16T03:03:39.330573Z",
     "start_time": "2024-05-16T03:03:39.311180Z"
    },
    "hidden": true
   },
   "outputs": [
    {
     "ename": "OSError",
     "evalue": "[WinError 145] The directory is not empty: 'C:\\\\Users\\\\humag\\\\Masaüstü\\\\Advanced_Python\\\\nested\\\\nested_2'",
     "output_type": "error",
     "traceback": [
      "\u001b[1;31m---------------------------------------------------------------------------\u001b[0m",
      "\u001b[1;31mOSError\u001b[0m                                   Traceback (most recent call last)",
      "Cell \u001b[1;32mIn[32], line 1\u001b[0m\n\u001b[1;32m----> 1\u001b[0m \u001b[43mos\u001b[49m\u001b[38;5;241;43m.\u001b[39;49m\u001b[43mrmdir\u001b[49m\u001b[43m(\u001b[49m\u001b[38;5;124;43m'\u001b[39;49m\u001b[38;5;124;43mC:\u001b[39;49m\u001b[38;5;130;43;01m\\\\\u001b[39;49;00m\u001b[38;5;124;43mUsers\u001b[39;49m\u001b[38;5;130;43;01m\\\\\u001b[39;49;00m\u001b[38;5;124;43mhumag\u001b[39;49m\u001b[38;5;130;43;01m\\\\\u001b[39;49;00m\u001b[38;5;124;43mMasaüstü\u001b[39;49m\u001b[38;5;130;43;01m\\\\\u001b[39;49;00m\u001b[38;5;124;43mAdvanced_Python\u001b[39;49m\u001b[38;5;130;43;01m\\\\\u001b[39;49;00m\u001b[38;5;124;43mnested\u001b[39;49m\u001b[38;5;130;43;01m\\\\\u001b[39;49;00m\u001b[38;5;124;43mnested_2\u001b[39;49m\u001b[38;5;124;43m'\u001b[39;49m\u001b[43m)\u001b[49m\n\u001b[0;32m      3\u001b[0m \u001b[38;5;66;03m# klasorun ici dolu oldugu icin (nested_3 var) silemez, bos olmali\u001b[39;00m\n",
      "\u001b[1;31mOSError\u001b[0m: [WinError 145] The directory is not empty: 'C:\\\\Users\\\\humag\\\\Masaüstü\\\\Advanced_Python\\\\nested\\\\nested_2'"
     ]
    }
   ],
   "source": [
    "os.rmdir('C:\\\\Users\\\\humag\\\\Masaüstü\\\\Advanced_Python\\\\nested\\\\nested_2')\n",
    "\n",
    "# klasorun ici dolu oldugu icin (nested_3 var) silemez, bos olmali"
   ]
  },
  {
   "cell_type": "code",
   "execution_count": 33,
   "id": "96a06625",
   "metadata": {
    "ExecuteTime": {
     "end_time": "2024-05-16T03:03:42.033377Z",
     "start_time": "2024-05-16T03:03:42.028621Z"
    },
    "hidden": true
   },
   "outputs": [
    {
     "data": {
      "text/plain": [
       "['.ipynb_checkpoints',\n",
       " 'advantage_of_python.txt',\n",
       " 'files',\n",
       " 'log_kayıtları.xlsx',\n",
       " 'Master(Try_Except_OS_Module_OOP).ipynb',\n",
       " 'nested',\n",
       " 'OOP.ipynb',\n",
       " 'sample']"
      ]
     },
     "execution_count": 33,
     "metadata": {},
     "output_type": "execute_result"
    }
   ],
   "source": [
    "os.listdir()"
   ]
  },
  {
   "cell_type": "code",
   "execution_count": 96,
   "id": "9c2dad76",
   "metadata": {
    "ExecuteTime": {
     "end_time": "2024-05-14T18:46:03.772507Z",
     "start_time": "2024-05-14T18:46:03.767928Z"
    },
    "hidden": true
   },
   "outputs": [],
   "source": [
    "os.remove('aa.txt') # ici dolu bir dosya"
   ]
  },
  {
   "cell_type": "markdown",
   "id": "eb2049ae",
   "metadata": {},
   "source": [
    "## File Operations"
   ]
  },
  {
   "cell_type": "markdown",
   "id": "fbd01d0c",
   "metadata": {},
   "source": [
    "### Basics"
   ]
  },
  {
   "cell_type": "code",
   "execution_count": 85,
   "id": "ab782471",
   "metadata": {
    "ExecuteTime": {
     "end_time": "2024-05-16T01:18:43.685520Z",
     "start_time": "2024-05-16T01:18:43.681011Z"
    }
   },
   "outputs": [
    {
     "data": {
      "text/plain": [
       "'C:\\\\Users\\\\humag\\\\Masaüstü\\\\Advanced_Python'"
      ]
     },
     "execution_count": 85,
     "metadata": {},
     "output_type": "execute_result"
    }
   ],
   "source": [
    "os.getcwd()"
   ]
  },
  {
   "cell_type": "code",
   "execution_count": 98,
   "id": "e46d2d93",
   "metadata": {
    "ExecuteTime": {
     "end_time": "2024-05-14T18:49:32.062377Z",
     "start_time": "2024-05-14T18:49:32.057318Z"
    }
   },
   "outputs": [],
   "source": [
    "f = open('advantage_of_python.txt', mode='r')"
   ]
  },
  {
   "cell_type": "code",
   "execution_count": 99,
   "id": "62924403",
   "metadata": {
    "ExecuteTime": {
     "end_time": "2024-05-14T18:51:32.479344Z",
     "start_time": "2024-05-14T18:51:32.475243Z"
    }
   },
   "outputs": [
    {
     "name": "stdout",
     "output_type": "stream",
     "text": [
      "Kolay Okunabilirlik ve Sadelik\n",
      "Python, okunmasÄ± ve anlaÅŸÄ±lmasÄ± kolay olan bir dildir. Bu dil, insan diline yakÄ±n bir sÃ¶z dizimine sahiptir ve aÃ§Ä±k bir yapÄ±ya sahiptir. Yani, baÅŸka bir Python programcÄ±sÄ±nÄ±n yazdÄ±ÄŸÄ± kodlarÄ± kolayca anlayabilirsiniz.\n",
      "\n",
      "AyrÄ±ca, Python'un basit ve sade sÃ¶z dizimi, programcÄ±larÄ±n hÄ±zlÄ± bir ÅŸekilde kod yazmalarÄ±nÄ± saÄŸlar. Kodun anlaÅŸÄ±lmasÄ± ve yazÄ±lmasÄ± daha kolay olduÄŸundan, programcÄ±lar daha az zaman harcayarak daha fazla iÅŸ yapabilirler.\n",
      "\n",
      "Ã‡ok YÃ¶nlÃ¼lÃ¼k\n",
      "Python, birÃ§ok farklÄ± alanda kullanÄ±labilen bir dil olarak tanÄ±nÄ±r. Veri bilimi, yapay zeka, makine Ã¶ÄŸrenmesi, web geliÅŸtirme, otomasyon ve daha pek Ã§ok alanda kullanÄ±labilir.\n",
      "\n",
      "Python, Ã§eÅŸitli kÃ¼tÃ¼phaneleri ve modÃ¼lleri ile birlikte gelir. Bu kÃ¼tÃ¼phaneler, birÃ§ok farklÄ± alanda kullanÄ±labilecek araÃ§lar sunar ve Python'u daha da Ã§ok yÃ¶nlÃ¼ bir hale getirir.\n",
      "\n",
      "BÃ¼yÃ¼k Topluluk ve KapsamlÄ± Belgelendirme\n",
      "Python'un en bÃ¼yÃ¼k avantajlarÄ±ndan biri, dÃ¼nya Ã§apÄ±nda bÃ¼yÃ¼k bir topluluÄŸa sahip olmasÄ±dÄ±r. Bu topluluk, Python'u kullanan programcÄ±lara yardÄ±mcÄ± olmak iÃ§in birÃ§ok kaynak sunar. AyrÄ±ca, Python'un kapsamlÄ± bir belgelendirmesi vardÄ±r ve programcÄ±lar, ihtiyaÃ§ duyduklarÄ± herhangi bir konuda bilgi edinmek iÃ§in belgelendirmeyi kullanabilirler.\n",
      "\n",
      "Ãœcretsiz ve AÃ§Ä±k KaynaklÄ±\n",
      "Python, Ã¼cretsiz ve aÃ§Ä±k kaynaklÄ± bir dildir. Bu, programcÄ±larÄ±n Python'u kullanarak projelerine baÅŸlamalarÄ± iÃ§in herhangi bir Ã¼cret Ã¶demelerine gerek olmadÄ±ÄŸÄ± anlamÄ±na gelir. Python, tÃ¼m dÃ¼nyadaki programcÄ±lar tarafÄ±ndan geliÅŸtirilmeye aÃ§Ä±ktÄ±r ve bu da Python topluluÄŸunun bÃ¼yÃ¼mesine ve geliÅŸmesine katkÄ±da bulunur.\n",
      "\n",
      "SonuÃ§\n",
      "Python, kolay okunabilirlik, Ã§ok yÃ¶nlÃ¼lÃ¼k, bÃ¼yÃ¼k topluluk ve kapsamlÄ± belgelendirme, Ã¼cretsiz ve aÃ§Ä±k kaynaklÄ± olma gibi birÃ§ok avantajÄ±yla Ã¶ne Ã§Ä±kar. Bu nedenle, Python son yÄ±llarda birÃ§ok farklÄ± alanda kullanÄ±lan en popÃ¼ler dillerden biri haline gelmiÅŸtir.\n",
      "\n"
     ]
    }
   ],
   "source": [
    "icerik = f.read()\n",
    "print(icerik)"
   ]
  },
  {
   "cell_type": "code",
   "execution_count": 100,
   "id": "dba24c33",
   "metadata": {
    "ExecuteTime": {
     "end_time": "2024-05-14T18:53:07.344592Z",
     "start_time": "2024-05-14T18:53:07.336508Z"
    }
   },
   "outputs": [
    {
     "data": {
      "text/plain": [
       "''"
      ]
     },
     "execution_count": 100,
     "metadata": {},
     "output_type": "execute_result"
    }
   ],
   "source": [
    "f.read() # bi kere zaten okuduk o yuzden bos str verdi, imlec dosyanin en sonunda "
   ]
  },
  {
   "cell_type": "code",
   "execution_count": 101,
   "id": "61bc960e",
   "metadata": {
    "ExecuteTime": {
     "end_time": "2024-05-14T18:54:58.907729Z",
     "start_time": "2024-05-14T18:54:58.903509Z"
    }
   },
   "outputs": [
    {
     "data": {
      "text/plain": [
       "str"
      ]
     },
     "execution_count": 101,
     "metadata": {},
     "output_type": "execute_result"
    }
   ],
   "source": [
    "type(icerik)"
   ]
  },
  {
   "cell_type": "code",
   "execution_count": 102,
   "id": "06670e89",
   "metadata": {
    "ExecuteTime": {
     "end_time": "2024-05-14T18:55:21.676629Z",
     "start_time": "2024-05-14T18:55:21.671299Z"
    }
   },
   "outputs": [
    {
     "data": {
      "text/plain": [
       "str"
      ]
     },
     "execution_count": 102,
     "metadata": {},
     "output_type": "execute_result"
    }
   ],
   "source": [
    "type(f.read())"
   ]
  },
  {
   "cell_type": "code",
   "execution_count": 104,
   "id": "6290a792",
   "metadata": {
    "ExecuteTime": {
     "end_time": "2024-05-14T18:55:32.647525Z",
     "start_time": "2024-05-14T18:55:32.641790Z"
    }
   },
   "outputs": [
    {
     "data": {
      "text/plain": [
       "builtin_function_or_method"
      ]
     },
     "execution_count": 104,
     "metadata": {},
     "output_type": "execute_result"
    }
   ],
   "source": [
    "type(f.read)"
   ]
  },
  {
   "cell_type": "code",
   "execution_count": 105,
   "id": "7f786ec6",
   "metadata": {
    "ExecuteTime": {
     "end_time": "2024-05-14T19:01:22.946474Z",
     "start_time": "2024-05-14T19:01:22.935325Z"
    }
   },
   "outputs": [
    {
     "name": "stdout",
     "output_type": "stream",
     "text": [
      "Kolay Okunabilirlik ve Sadelik\n",
      "Python, okunması ve anlaşılması kolay olan bir dildir. Bu dil, insan diline yakın bir söz dizimine sahiptir ve açık bir yapıya sahiptir. Yani, başka bir Python programcısının yazdığı kodları kolayca anlayabilirsiniz.\n",
      "\n",
      "Ayrıca, Python'un basit ve sade söz dizimi, programcıların hızlı bir şekilde kod yazmalarını sağlar. Kodun anlaşılması ve yazılması daha kolay olduğundan, programcılar daha az zaman harcayarak daha fazla iş yapabilirler.\n",
      "\n",
      "Çok Yönlülük\n",
      "Python, birçok farklı alanda kullanılabilen bir dil olarak tanınır. Veri bilimi, yapay zeka, makine öğrenmesi, web geliştirme, otomasyon ve daha pek çok alanda kullanılabilir.\n",
      "\n",
      "Python, çeşitli kütüphaneleri ve modülleri ile birlikte gelir. Bu kütüphaneler, birçok farklı alanda kullanılabilecek araçlar sunar ve Python'u daha da çok yönlü bir hale getirir.\n",
      "\n",
      "Büyük Topluluk ve Kapsamlı Belgelendirme\n",
      "Python'un en büyük avantajlarından biri, dünya çapında büyük bir topluluğa sahip olmasıdır. Bu topluluk, Python'u kullanan programcılara yardımcı olmak için birçok kaynak sunar. Ayrıca, Python'un kapsamlı bir belgelendirmesi vardır ve programcılar, ihtiyaç duydukları herhangi bir konuda bilgi edinmek için belgelendirmeyi kullanabilirler.\n",
      "\n",
      "Ücretsiz ve Açık Kaynaklı\n",
      "Python, ücretsiz ve açık kaynaklı bir dildir. Bu, programcıların Python'u kullanarak projelerine başlamaları için herhangi bir ücret ödemelerine gerek olmadığı anlamına gelir. Python, tüm dünyadaki programcılar tarafından geliştirilmeye açıktır ve bu da Python topluluğunun büyümesine ve gelişmesine katkıda bulunur.\n",
      "\n",
      "Sonuç\n",
      "Python, kolay okunabilirlik, çok yönlülük, büyük topluluk ve kapsamlı belgelendirme, ücretsiz ve açık kaynaklı olma gibi birçok avantajıyla öne çıkar. Bu nedenle, Python son yıllarda birçok farklı alanda kullanılan en popüler dillerden biri haline gelmiştir.\n",
      "\n"
     ]
    }
   ],
   "source": [
    "f = open('advantage_of_python.txt', mode='r', encoding='utf-8') # turkce karakterler gozuksun diye\n",
    "icerik = f.read()\n",
    "print(icerik)"
   ]
  },
  {
   "cell_type": "code",
   "execution_count": 106,
   "id": "05fa1d25",
   "metadata": {
    "ExecuteTime": {
     "end_time": "2024-05-14T19:02:59.247664Z",
     "start_time": "2024-05-14T19:02:59.243704Z"
    }
   },
   "outputs": [
    {
     "data": {
      "text/plain": [
       "False"
      ]
     },
     "execution_count": 106,
     "metadata": {},
     "output_type": "execute_result"
    }
   ],
   "source": [
    "f.closed # dosya kapali mi diye sorduk"
   ]
  },
  {
   "cell_type": "code",
   "execution_count": 107,
   "id": "ecc4822d",
   "metadata": {
    "ExecuteTime": {
     "end_time": "2024-05-14T19:05:34.899256Z",
     "start_time": "2024-05-14T19:05:34.895474Z"
    }
   },
   "outputs": [],
   "source": [
    "f.close()"
   ]
  },
  {
   "cell_type": "code",
   "execution_count": 108,
   "id": "d4e43fa4",
   "metadata": {
    "ExecuteTime": {
     "end_time": "2024-05-14T19:05:40.962444Z",
     "start_time": "2024-05-14T19:05:40.957084Z"
    }
   },
   "outputs": [
    {
     "data": {
      "text/plain": [
       "True"
      ]
     },
     "execution_count": 108,
     "metadata": {},
     "output_type": "execute_result"
    }
   ],
   "source": [
    "f.closed"
   ]
  },
  {
   "cell_type": "code",
   "execution_count": 109,
   "id": "3574bf5d",
   "metadata": {
    "ExecuteTime": {
     "end_time": "2024-05-14T19:08:04.909533Z",
     "start_time": "2024-05-14T19:08:04.900751Z"
    }
   },
   "outputs": [
    {
     "data": {
      "text/plain": [
       "'Kolay Okunabilirlik ve Sadelik\\nPython, okunması ve anlaşılması kolay olan bir dildir. Bu dil, insan '"
      ]
     },
     "execution_count": 109,
     "metadata": {},
     "output_type": "execute_result"
    }
   ],
   "source": [
    "f = open('advantage_of_python.txt', mode='r', encoding='utf-8') \n",
    "metin = f.read()[:100] # tamamini okuduktan sonra ilk 100 karakteri okudu\n",
    "metin"
   ]
  },
  {
   "cell_type": "code",
   "execution_count": 110,
   "id": "6088d68d",
   "metadata": {
    "ExecuteTime": {
     "end_time": "2024-05-14T19:08:14.161809Z",
     "start_time": "2024-05-14T19:08:14.155462Z"
    }
   },
   "outputs": [
    {
     "data": {
      "text/plain": [
       "''"
      ]
     },
     "execution_count": 110,
     "metadata": {},
     "output_type": "execute_result"
    }
   ],
   "source": [
    "f.read() # en sona gitti kaldigi yerden okumadi"
   ]
  },
  {
   "cell_type": "code",
   "execution_count": 112,
   "id": "26769235",
   "metadata": {
    "ExecuteTime": {
     "end_time": "2024-05-14T19:09:08.711724Z",
     "start_time": "2024-05-14T19:09:08.701748Z"
    }
   },
   "outputs": [],
   "source": [
    "f.close()"
   ]
  },
  {
   "cell_type": "code",
   "execution_count": 113,
   "id": "4d8fdf9c",
   "metadata": {
    "ExecuteTime": {
     "end_time": "2024-05-14T19:11:13.835658Z",
     "start_time": "2024-05-14T19:11:13.829268Z"
    }
   },
   "outputs": [],
   "source": [
    "f = open('advantage_of_python.txt', mode='r', encoding='utf-8') \n",
    "metin1 = f.read(100)\n",
    "metin2 = f.read(50)\n",
    "metin3 = f.read(25)\n",
    "\n",
    "# ustteki koddan farkli olarak read() icine verdigimiz sayi kadarini okutmus oluruz"
   ]
  },
  {
   "cell_type": "code",
   "execution_count": 114,
   "id": "58f4da75",
   "metadata": {
    "ExecuteTime": {
     "end_time": "2024-05-14T19:11:17.891426Z",
     "start_time": "2024-05-14T19:11:17.883596Z"
    }
   },
   "outputs": [
    {
     "data": {
      "text/plain": [
       "'Kolay Okunabilirlik ve Sadelik\\nPython, okunması ve anlaşılması kolay olan bir dildir. Bu dil, insan '"
      ]
     },
     "execution_count": 114,
     "metadata": {},
     "output_type": "execute_result"
    }
   ],
   "source": [
    "metin1"
   ]
  },
  {
   "cell_type": "code",
   "execution_count": 115,
   "id": "d16965f1",
   "metadata": {
    "ExecuteTime": {
     "end_time": "2024-05-14T19:11:23.050030Z",
     "start_time": "2024-05-14T19:11:23.045485Z"
    }
   },
   "outputs": [
    {
     "data": {
      "text/plain": [
       "'diline yakın bir söz dizimine sahiptir ve açık bir'"
      ]
     },
     "execution_count": 115,
     "metadata": {},
     "output_type": "execute_result"
    }
   ],
   "source": [
    "metin2"
   ]
  },
  {
   "cell_type": "code",
   "execution_count": 116,
   "id": "a2145cd1",
   "metadata": {
    "ExecuteTime": {
     "end_time": "2024-05-14T19:11:27.489644Z",
     "start_time": "2024-05-14T19:11:27.484783Z"
    }
   },
   "outputs": [
    {
     "data": {
      "text/plain": [
       "' yapıya sahiptir. Yani, b'"
      ]
     },
     "execution_count": 116,
     "metadata": {},
     "output_type": "execute_result"
    }
   ],
   "source": [
    "metin3"
   ]
  },
  {
   "cell_type": "code",
   "execution_count": 117,
   "id": "1382abcc",
   "metadata": {
    "ExecuteTime": {
     "end_time": "2024-05-14T19:12:52.008319Z",
     "start_time": "2024-05-14T19:12:52.002567Z"
    }
   },
   "outputs": [],
   "source": [
    "f.close()"
   ]
  },
  {
   "cell_type": "code",
   "execution_count": 118,
   "id": "ff608c5d",
   "metadata": {
    "ExecuteTime": {
     "end_time": "2024-05-14T19:13:51.924949Z",
     "start_time": "2024-05-14T19:13:51.919483Z"
    }
   },
   "outputs": [
    {
     "name": "stdout",
     "output_type": "stream",
     "text": [
      "20\n",
      "36\n",
      "46\n"
     ]
    }
   ],
   "source": [
    "f = open('advantage_of_python.txt', mode='r', encoding='utf-8') \n",
    "metin1 = f.read(20)\n",
    "print(f.tell())\n",
    "metin2 = f.read(15) # 20 + 15 = 35  36'da curser\n",
    "print(f.tell())\n",
    "metin3 = f.read(10) # 36 + 10 = 46'da curser (bu farklilik byte'tan kaynakli)\n",
    "print(f.tell())"
   ]
  },
  {
   "cell_type": "code",
   "execution_count": 119,
   "id": "cd194c8b",
   "metadata": {
    "ExecuteTime": {
     "end_time": "2024-05-14T19:15:22.649865Z",
     "start_time": "2024-05-14T19:15:22.645588Z"
    }
   },
   "outputs": [],
   "source": [
    "f.close()"
   ]
  },
  {
   "cell_type": "markdown",
   "id": "bb498dbb",
   "metadata": {},
   "source": [
    "### withopen"
   ]
  },
  {
   "cell_type": "code",
   "execution_count": null,
   "id": "654aee6d",
   "metadata": {},
   "outputs": [],
   "source": [
    "# with ile acilan dosyalari tekrar close yapmaya gerek yok"
   ]
  },
  {
   "cell_type": "code",
   "execution_count": 120,
   "id": "bcdec18c",
   "metadata": {
    "ExecuteTime": {
     "end_time": "2024-05-14T19:17:05.756415Z",
     "start_time": "2024-05-14T19:17:05.744647Z"
    }
   },
   "outputs": [
    {
     "name": "stdout",
     "output_type": "stream",
     "text": [
      "Kolay Okunabilirlik ve Sadelik\n",
      "Python, okunması ve anlaşılması kolay olan bir dildir. Bu dil, insan diline yakın bir söz dizimine sahiptir ve açık bir yapıya sahiptir. Yani, başka bir Python programcısının yazdığı kodları kolayca anlayabilirsiniz.\n",
      "\n",
      "Ayrıca, Python'un basit ve sade söz dizimi, programcıların hızlı bir şekilde kod yazmalarını sağlar. Kodun anlaşılması ve yazılması daha kolay olduğundan, programcılar daha az zaman harcayarak daha fazla iş yapabilirler.\n",
      "\n",
      "Çok Yönlülük\n",
      "Python, birçok farklı alanda kullanılabilen bir dil olarak tanınır. Veri bilimi, yapay zeka, makine öğrenmesi, web geliştirme, otomasyon ve daha pek çok alanda kullanılabilir.\n",
      "\n",
      "Python, çeşitli kütüphaneleri ve modülleri ile birlikte gelir. Bu kütüphaneler, birçok farklı alanda kullanılabilecek araçlar sunar ve Python'u daha da çok yönlü bir hale getirir.\n",
      "\n",
      "Büyük Topluluk ve Kapsamlı Belgelendirme\n",
      "Python'un en büyük avantajlarından biri, dünya çapında büyük bir topluluğa sahip olmasıdır. Bu topluluk, Python'u kullanan programcılara yardımcı olmak için birçok kaynak sunar. Ayrıca, Python'un kapsamlı bir belgelendirmesi vardır ve programcılar, ihtiyaç duydukları herhangi bir konuda bilgi edinmek için belgelendirmeyi kullanabilirler.\n",
      "\n",
      "Ücretsiz ve Açık Kaynaklı\n",
      "Python, ücretsiz ve açık kaynaklı bir dildir. Bu, programcıların Python'u kullanarak projelerine başlamaları için herhangi bir ücret ödemelerine gerek olmadığı anlamına gelir. Python, tüm dünyadaki programcılar tarafından geliştirilmeye açıktır ve bu da Python topluluğunun büyümesine ve gelişmesine katkıda bulunur.\n",
      "\n",
      "Sonuç\n",
      "Python, kolay okunabilirlik, çok yönlülük, büyük topluluk ve kapsamlı belgelendirme, ücretsiz ve açık kaynaklı olma gibi birçok avantajıyla öne çıkar. Bu nedenle, Python son yıllarda birçok farklı alanda kullanılan en popüler dillerden biri haline gelmiştir.\n",
      "\n"
     ]
    }
   ],
   "source": [
    "with open('advantage_of_python.txt', mode='r', encoding='utf-8') as f:\n",
    "    metin = f.read()\n",
    "\n",
    "print(metin)"
   ]
  },
  {
   "cell_type": "code",
   "execution_count": 122,
   "id": "71f05cab",
   "metadata": {
    "ExecuteTime": {
     "end_time": "2024-05-14T19:18:22.666679Z",
     "start_time": "2024-05-14T19:18:22.659201Z"
    }
   },
   "outputs": [
    {
     "data": {
      "text/plain": [
       "True"
      ]
     },
     "execution_count": 122,
     "metadata": {},
     "output_type": "execute_result"
    }
   ],
   "source": [
    "f.closed  # dosya otomatik kapali, Ram'i mesgul etmemek icin daha iyi (close demeyi unutursak vs)"
   ]
  },
  {
   "cell_type": "markdown",
   "id": "cd781ab0",
   "metadata": {},
   "source": [
    "### Dosya oluşturma ve dosyaya yazma"
   ]
  },
  {
   "cell_type": "code",
   "execution_count": 86,
   "id": "b15e5743",
   "metadata": {
    "ExecuteTime": {
     "end_time": "2024-05-16T01:20:27.783045Z",
     "start_time": "2024-05-16T01:20:27.777458Z"
    }
   },
   "outputs": [
    {
     "data": {
      "text/plain": [
       "'C:\\\\Users\\\\humag\\\\Masaüstü\\\\Advanced_Python'"
      ]
     },
     "execution_count": 86,
     "metadata": {},
     "output_type": "execute_result"
    }
   ],
   "source": [
    "os.getcwd()"
   ]
  },
  {
   "cell_type": "code",
   "execution_count": 87,
   "id": "6263ad7c",
   "metadata": {
    "ExecuteTime": {
     "end_time": "2024-05-16T01:20:44.274743Z",
     "start_time": "2024-05-16T01:20:44.270981Z"
    }
   },
   "outputs": [],
   "source": [
    "os.mkdir(\"files\")"
   ]
  },
  {
   "cell_type": "code",
   "execution_count": 88,
   "id": "b7bf5c16",
   "metadata": {
    "ExecuteTime": {
     "end_time": "2024-05-16T01:20:44.857522Z",
     "start_time": "2024-05-16T01:20:44.853819Z"
    }
   },
   "outputs": [],
   "source": [
    "os.chdir(\"files\")"
   ]
  },
  {
   "cell_type": "code",
   "execution_count": 89,
   "id": "99123f56",
   "metadata": {
    "ExecuteTime": {
     "end_time": "2024-05-16T01:20:45.826652Z",
     "start_time": "2024-05-16T01:20:45.821103Z"
    }
   },
   "outputs": [
    {
     "data": {
      "text/plain": [
       "'C:\\\\Users\\\\humag\\\\Masaüstü\\\\Advanced_Python\\\\files'"
      ]
     },
     "execution_count": 89,
     "metadata": {},
     "output_type": "execute_result"
    }
   ],
   "source": [
    "os.getcwd()"
   ]
  },
  {
   "cell_type": "code",
   "execution_count": 90,
   "id": "5caf2033",
   "metadata": {
    "ExecuteTime": {
     "end_time": "2024-05-16T01:22:01.433142Z",
     "start_time": "2024-05-16T01:22:01.428767Z"
    }
   },
   "outputs": [],
   "source": [
    "with open(\"deneme.txt\", mode=\"w\", encoding=\"utf-8\") as f:  # write \n",
    "    f.write(\"Hello world\")"
   ]
  },
  {
   "cell_type": "code",
   "execution_count": 91,
   "id": "62e31265",
   "metadata": {
    "ExecuteTime": {
     "end_time": "2024-05-16T01:22:16.445171Z",
     "start_time": "2024-05-16T01:22:16.441026Z"
    }
   },
   "outputs": [
    {
     "data": {
      "text/plain": [
       "['deneme.txt']"
      ]
     },
     "execution_count": 91,
     "metadata": {},
     "output_type": "execute_result"
    }
   ],
   "source": [
    "os.listdir() # txt dosyasi olusmus"
   ]
  },
  {
   "cell_type": "code",
   "execution_count": 92,
   "id": "e32563dc",
   "metadata": {
    "ExecuteTime": {
     "end_time": "2024-05-16T01:48:37.871277Z",
     "start_time": "2024-05-16T01:48:37.867688Z"
    }
   },
   "outputs": [],
   "source": [
    "with open(\"deneme.txt\", mode=\"w\", encoding=\"utf-8\") as f:   # w öncekini silip üstüne yazar\n",
    "    f.write(\"Acaba biraz önce yazdıklarım hala duruyor mu?\")"
   ]
  },
  {
   "cell_type": "code",
   "execution_count": 93,
   "id": "e9449c61",
   "metadata": {
    "ExecuteTime": {
     "end_time": "2024-05-16T01:48:38.637144Z",
     "start_time": "2024-05-16T01:48:38.633281Z"
    }
   },
   "outputs": [],
   "source": [
    "with open(\"advantage_of_python.txt\", mode=\"a\", encoding=\"utf-8\") as f:  # append imleçten itibaren ekler\n",
    "    f.write(\"Calgici karisi binnaz\")"
   ]
  },
  {
   "cell_type": "code",
   "execution_count": 94,
   "id": "c1c17438",
   "metadata": {
    "ExecuteTime": {
     "end_time": "2024-05-16T01:48:39.309328Z",
     "start_time": "2024-05-16T01:48:39.305571Z"
    }
   },
   "outputs": [],
   "source": [
    "with open(\"advantage_of_python.txt\", mode=\"a\", encoding=\"utf-8\") as f:  # append imleçten itibaren ekler\n",
    "    f.write(\"\\nEsnaf karisi binnaz\")"
   ]
  },
  {
   "cell_type": "code",
   "execution_count": 95,
   "id": "f5138276",
   "metadata": {
    "ExecuteTime": {
     "end_time": "2024-05-16T01:48:40.275941Z",
     "start_time": "2024-05-16T01:48:40.272558Z"
    }
   },
   "outputs": [
    {
     "data": {
      "text/plain": [
       "'C:\\\\Users\\\\humag\\\\Masaüstü\\\\Advanced_Python\\\\files'"
      ]
     },
     "execution_count": 95,
     "metadata": {},
     "output_type": "execute_result"
    }
   ],
   "source": [
    "os.getcwd()"
   ]
  },
  {
   "cell_type": "code",
   "execution_count": 96,
   "id": "58571a55",
   "metadata": {
    "ExecuteTime": {
     "end_time": "2024-05-16T01:48:42.668188Z",
     "start_time": "2024-05-16T01:48:42.635314Z"
    }
   },
   "outputs": [
    {
     "name": "stdout",
     "output_type": "stream",
     "text": [
      "C:\\Users\\humag\\Masaüstü\\Advanced_Python\n"
     ]
    },
    {
     "name": "stderr",
     "output_type": "stream",
     "text": [
      "C:\\Users\\humag\\AppData\\Local\\Programs\\Python\\Python311\\Lib\\site-packages\\IPython\\core\\magics\\osm.py:417: UserWarning: This is now an optional IPython functionality, setting dhist requires you to install the `pickleshare` library.\n",
      "  self.shell.db['dhist'] = compress_dhist(dhist)[-100:]\n"
     ]
    }
   ],
   "source": [
    "%cd .."
   ]
  },
  {
   "cell_type": "code",
   "execution_count": 171,
   "id": "ad61ab48",
   "metadata": {
    "ExecuteTime": {
     "end_time": "2024-05-16T02:33:35.181940Z",
     "start_time": "2024-05-16T02:33:35.178455Z"
    }
   },
   "outputs": [],
   "source": [
    "f = open(\"advantage_of_python.txt\", mode= \"r+\", encoding='utf-8')"
   ]
  },
  {
   "cell_type": "code",
   "execution_count": 172,
   "id": "63f5ea15",
   "metadata": {
    "ExecuteTime": {
     "end_time": "2024-05-16T02:33:35.899737Z",
     "start_time": "2024-05-16T02:33:35.896662Z"
    }
   },
   "outputs": [
    {
     "name": "stdout",
     "output_type": "stream",
     "text": [
      "Okunabilirlik ve Sadelik\n",
      "Python, okunması ve anlaşılması kolay olan bir dildir. Bu dil, insan diline yakın bir söz dizimine sahiptir ve açık bir yapıya sahiptir. Yani, başka bir Python programcısının yazdığı kodları kolayca anlayabilirsiniz.\n",
      "\n",
      "Ayrıca, Python'un basit ve sade söz dizimi, programcıların hızlı bir şekilde kod yazmalarını sağlar. Kodun anlaşılması ve yazılması daha kolay olduğundan, programcılar daha az zaman harcayarak daha fazla iş yapabilirler.\n",
      "\n",
      "Çok Yönlülük\n",
      "Python, birçok farklı alanda kullanılabilen bir dil olarak tanınır. Veri bilimi, yapay zeka, makine öğrenmesi, web geliştirme, otomasyon ve daha pek çok alanda kullanılabilir.\n",
      "\n",
      "Python, çeşitli kütüphaneleri ve modülleri ile birlikte gelir. Bu kütüphaneler, birçok farklı alanda kullanılabilecek araçlar sunar ve Python'u daha da çok yönlü bir hale getirir.\n",
      "\n",
      "Büyük Topluluk ve Kapsamlı Belgelendirme\n",
      "Python'un en büyük avantajlarından biri, dünya çapında büyük bir topluluğa sahip olmasıdır. Bu topluluk, Python'u kullanan programcılara yardımcı olmak için birçok kaynak sunar. Ayrıca, Python'un kapsamlı bir belgelendirmesi vardır ve programcılar, ihtiyaç duydukları herhangi bir konuda bilgi edinmek için belgelendirmeyi kullanabilirler.\n",
      "\n",
      "Ücretsiz ve Açık Kaynaklı\n",
      "Python, ücretsiz ve açık kaynaklı bir dildir. Bu, programcıların Python'u kullanarak projelerine başlamaları için herhangi bir ücret ödemelerine gerek olmadığı anlamına gelir. Python, tüm dünyadaki programcılar tarafından geliştirilmeye açıktır ve bu da Python topluluğunun büyümesine ve gelişmesine katkıda bulunur.\n",
      "\n",
      "Sonuç\n",
      "Python, kolay okunabilirlik, çok yönlülük, büyük topluluk ve kapsamlı belgelendirme, ücretsiz ve açık kaynaklı olma gibi birçok avantajıyla öne çıkar. Bu nedenle, Python son yıllarda birçok farklı alanda kullanılan en popüler dillerden biri haline gelmiştir.\n"
     ]
    }
   ],
   "source": [
    "metin = f.read()\n",
    "\n",
    "print(metin)"
   ]
  },
  {
   "cell_type": "code",
   "execution_count": 173,
   "id": "270c3856",
   "metadata": {
    "ExecuteTime": {
     "end_time": "2024-05-16T02:33:37.655794Z",
     "start_time": "2024-05-16T02:33:37.651957Z"
    }
   },
   "outputs": [
    {
     "data": {
      "text/plain": [
       "31"
      ]
     },
     "execution_count": 173,
     "metadata": {},
     "output_type": "execute_result"
    }
   ],
   "source": [
    "f.write(\"dosyaya ekleme yapmak istiyorum\")"
   ]
  },
  {
   "cell_type": "code",
   "execution_count": 174,
   "id": "756c5867",
   "metadata": {
    "ExecuteTime": {
     "end_time": "2024-05-16T02:33:39.293404Z",
     "start_time": "2024-05-16T02:33:39.289558Z"
    }
   },
   "outputs": [
    {
     "data": {
      "text/plain": [
       "''"
      ]
     },
     "execution_count": 174,
     "metadata": {},
     "output_type": "execute_result"
    }
   ],
   "source": [
    "f.read()"
   ]
  },
  {
   "cell_type": "markdown",
   "id": "e7a08534",
   "metadata": {},
   "source": [
    "offset: İmlecin ne kadar ve hangi yönde hareket edeceğini belirler. Bu değer bayt cinsinden belirtilir.\n",
    "whence: İmlecin hangi referans noktasından hareket edeceğini belirtir. Üç değer alabilir:\n",
    "\n",
    "0: Dosyanın başından itibaren (varsayılan değer).\n",
    "\n",
    "1: Mevcut konumdan itibaren.\n",
    "\n",
    "2: Dosyanın sonundan itibaren."
   ]
  },
  {
   "cell_type": "code",
   "execution_count": 175,
   "id": "8edd5494",
   "metadata": {
    "ExecuteTime": {
     "end_time": "2024-05-16T02:33:40.874514Z",
     "start_time": "2024-05-16T02:33:40.855523Z"
    }
   },
   "outputs": [
    {
     "ename": "NameError",
     "evalue": "name 'a' is not defined",
     "output_type": "error",
     "traceback": [
      "\u001b[1;31m---------------------------------------------------------------------------\u001b[0m",
      "\u001b[1;31mNameError\u001b[0m                                 Traceback (most recent call last)",
      "Cell \u001b[1;32mIn[175], line 1\u001b[0m\n\u001b[1;32m----> 1\u001b[0m f\u001b[38;5;241m.\u001b[39mseek(\u001b[43ma\u001b[49m,b) \u001b[38;5;66;03m# seek imleci hareket ettiriyor\u001b[39;00m\n",
      "\u001b[1;31mNameError\u001b[0m: name 'a' is not defined"
     ]
    }
   ],
   "source": [
    "f.seek(a,b) # seek imleci hareket ettiriyor"
   ]
  },
  {
   "cell_type": "code",
   "execution_count": 179,
   "id": "7237eea3",
   "metadata": {
    "ExecuteTime": {
     "end_time": "2024-05-16T02:34:25.533523Z",
     "start_time": "2024-05-16T02:34:25.529914Z"
    }
   },
   "outputs": [
    {
     "data": {
      "text/plain": [
       "0"
      ]
     },
     "execution_count": 179,
     "metadata": {},
     "output_type": "execute_result"
    }
   ],
   "source": [
    "f.seek(0,0) # imleci en basa aldik"
   ]
  },
  {
   "cell_type": "code",
   "execution_count": 180,
   "id": "b71df8f0",
   "metadata": {
    "ExecuteTime": {
     "end_time": "2024-05-16T02:35:03.411586Z",
     "start_time": "2024-05-16T02:35:03.405253Z"
    }
   },
   "outputs": [
    {
     "data": {
      "text/plain": [
       "\"Okunabilirlik ve Sadelik\\nPython, okunması ve anlaşılması kolay olan bir dildir. Bu dil, insan diline yakın bir söz dizimine sahiptir ve açık bir yapıya sahiptir. Yani, başka bir Python programcısının yazdığı kodları kolayca anlayabilirsiniz.\\n\\nAyrıca, Python'un basit ve sade söz dizimi, programcıların hızlı bir şekilde kod yazmalarını sağlar. Kodun anlaşılması ve yazılması daha kolay olduğundan, programcılar daha az zaman harcayarak daha fazla iş yapabilirler.\\n\\nÇok Yönlülük\\nPython, birçok farklı alanda kullanılabilen bir dil olarak tanınır. Veri bilimi, yapay zeka, makine öğrenmesi, web geliştirme, otomasyon ve daha pek çok alanda kullanılabilir.\\n\\nPython, çeşitli kütüphaneleri ve modülleri ile birlikte gelir. Bu kütüphaneler, birçok farklı alanda kullanılabilecek araçlar sunar ve Python'u daha da çok yönlü bir hale getirir.\\n\\nBüyük Topluluk ve Kapsamlı Belgelendirme\\nPython'un en büyük avantajlarından biri, dünya çapında büyük bir topluluğa sahip olmasıdır. Bu topluluk, Python'u kullanan programcılara yardımcı olmak için birçok kaynak sunar. Ayrıca, Python'un kapsamlı bir belgelendirmesi vardır ve programcılar, ihtiyaç duydukları herhangi bir konuda bilgi edinmek için belgelendirmeyi kullanabilirler.\\n\\nÜcretsiz ve Açık Kaynaklı\\nPython, ücretsiz ve açık kaynaklı bir dildir. Bu, programcıların Python'u kullanarak projelerine başlamaları için herhangi bir ücret ödemelerine gerek olmadığı anlamına gelir. Python, tüm dünyadaki programcılar tarafından geliştirilmeye açıktır ve bu da Python topluluğunun büyümesine ve gelişmesine katkıda bulunur.\\n\\nSonuç\\nPython, kolay okunabilirlik, çok yönlülük, büyük topluluk ve kapsamlı belgelendirme, ücretsiz ve açık kaynaklı olma gibi birçok avantajıyla öne çıkar. Bu nedenle, Python son yıllarda birçok farklı alanda kullanılan en popüler dillerden biri haline gelmiştir.dosyaya ekleme yapmak istiyorum\""
      ]
     },
     "execution_count": 180,
     "metadata": {},
     "output_type": "execute_result"
    }
   ],
   "source": [
    "f.read() # imleci basa alip okuduk "
   ]
  },
  {
   "cell_type": "code",
   "execution_count": 181,
   "id": "27ff274b",
   "metadata": {
    "ExecuteTime": {
     "end_time": "2024-05-16T02:35:07.992829Z",
     "start_time": "2024-05-16T02:35:07.988757Z"
    }
   },
   "outputs": [
    {
     "data": {
      "text/plain": [
       "20"
      ]
     },
     "execution_count": 181,
     "metadata": {},
     "output_type": "execute_result"
    }
   ],
   "source": [
    "f.seek(20,0)"
   ]
  },
  {
   "cell_type": "code",
   "execution_count": 182,
   "id": "2175c727",
   "metadata": {
    "ExecuteTime": {
     "end_time": "2024-05-16T02:35:08.378206Z",
     "start_time": "2024-05-16T02:35:08.374472Z"
    }
   },
   "outputs": [
    {
     "data": {
      "text/plain": [
       "\"elik\\nPython, okunması ve anlaşılması kolay olan bir dildir. Bu dil, insan diline yakın bir söz dizimine sahiptir ve açık bir yapıya sahiptir. Yani, başka bir Python programcısının yazdığı kodları kolayca anlayabilirsiniz.\\n\\nAyrıca, Python'un basit ve sade söz dizimi, programcıların hızlı bir şekilde kod yazmalarını sağlar. Kodun anlaşılması ve yazılması daha kolay olduğundan, programcılar daha az zaman harcayarak daha fazla iş yapabilirler.\\n\\nÇok Yönlülük\\nPython, birçok farklı alanda kullanılabilen bir dil olarak tanınır. Veri bilimi, yapay zeka, makine öğrenmesi, web geliştirme, otomasyon ve daha pek çok alanda kullanılabilir.\\n\\nPython, çeşitli kütüphaneleri ve modülleri ile birlikte gelir. Bu kütüphaneler, birçok farklı alanda kullanılabilecek araçlar sunar ve Python'u daha da çok yönlü bir hale getirir.\\n\\nBüyük Topluluk ve Kapsamlı Belgelendirme\\nPython'un en büyük avantajlarından biri, dünya çapında büyük bir topluluğa sahip olmasıdır. Bu topluluk, Python'u kullanan programcılara yardımcı olmak için birçok kaynak sunar. Ayrıca, Python'un kapsamlı bir belgelendirmesi vardır ve programcılar, ihtiyaç duydukları herhangi bir konuda bilgi edinmek için belgelendirmeyi kullanabilirler.\\n\\nÜcretsiz ve Açık Kaynaklı\\nPython, ücretsiz ve açık kaynaklı bir dildir. Bu, programcıların Python'u kullanarak projelerine başlamaları için herhangi bir ücret ödemelerine gerek olmadığı anlamına gelir. Python, tüm dünyadaki programcılar tarafından geliştirilmeye açıktır ve bu da Python topluluğunun büyümesine ve gelişmesine katkıda bulunur.\\n\\nSonuç\\nPython, kolay okunabilirlik, çok yönlülük, büyük topluluk ve kapsamlı belgelendirme, ücretsiz ve açık kaynaklı olma gibi birçok avantajıyla öne çıkar. Bu nedenle, Python son yıllarda birçok farklı alanda kullanılan en popüler dillerden biri haline gelmiştir.dosyaya ekleme yapmak istiyorum\""
      ]
     },
     "execution_count": 182,
     "metadata": {},
     "output_type": "execute_result"
    }
   ],
   "source": [
    "f.read()"
   ]
  },
  {
   "cell_type": "code",
   "execution_count": 183,
   "id": "ac1ef166",
   "metadata": {
    "ExecuteTime": {
     "end_time": "2024-05-16T02:35:18.014278Z",
     "start_time": "2024-05-16T02:35:18.011306Z"
    }
   },
   "outputs": [],
   "source": [
    "f.close()"
   ]
  },
  {
   "cell_type": "code",
   "execution_count": null,
   "id": "645ebe79",
   "metadata": {},
   "outputs": [],
   "source": [
    "################################"
   ]
  },
  {
   "cell_type": "code",
   "execution_count": 184,
   "id": "e914e510",
   "metadata": {
    "ExecuteTime": {
     "end_time": "2024-05-16T02:35:21.191030Z",
     "start_time": "2024-05-16T02:35:21.187631Z"
    }
   },
   "outputs": [],
   "source": [
    "f = open(\"advantage_of_python.txt\", mode = \"r+\", encoding= 'utf-8')"
   ]
  },
  {
   "cell_type": "code",
   "execution_count": 185,
   "id": "89945914",
   "metadata": {
    "ExecuteTime": {
     "end_time": "2024-05-16T02:35:22.095326Z",
     "start_time": "2024-05-16T02:35:22.090147Z"
    }
   },
   "outputs": [
    {
     "name": "stdout",
     "output_type": "stream",
     "text": [
      "Okunabilirlik ve Sadelik\n",
      "Python, okunması ve anlaşılması kolay olan bir dildir. Bu dil, insan diline yakın bir söz dizimine sahiptir ve açık bir yapıya sahiptir. Yani, başka bir Python programcısının yazdığı kodları kolayca anlayabilirsiniz.\n",
      "\n",
      "Ayrıca, Python'un basit ve sade söz dizimi, programcıların hızlı bir şekilde kod yazmalarını sağlar. Kodun anlaşılması ve yazılması daha kolay olduğundan, programcılar daha az zaman harcayarak daha fazla iş yapabilirler.\n",
      "\n",
      "Çok Yönlülük\n",
      "Python, birçok farklı alanda kullanılabilen bir dil olarak tanınır. Veri bilimi, yapay zeka, makine öğrenmesi, web geliştirme, otomasyon ve daha pek çok alanda kullanılabilir.\n",
      "\n",
      "Python, çeşitli kütüphaneleri ve modülleri ile birlikte gelir. Bu kütüphaneler, birçok farklı alanda kullanılabilecek araçlar sunar ve Python'u daha da çok yönlü bir hale getirir.\n",
      "\n",
      "Büyük Topluluk ve Kapsamlı Belgelendirme\n",
      "Python'un en büyük avantajlarından biri, dünya çapında büyük bir topluluğa sahip olmasıdır. Bu topluluk, Python'u kullanan programcılara yardımcı olmak için birçok kaynak sunar. Ayrıca, Python'un kapsamlı bir belgelendirmesi vardır ve programcılar, ihtiyaç duydukları herhangi bir konuda bilgi edinmek için belgelendirmeyi kullanabilirler.\n",
      "\n",
      "Ücretsiz ve Açık Kaynaklı\n",
      "Python, ücretsiz ve açık kaynaklı bir dildir. Bu, programcıların Python'u kullanarak projelerine başlamaları için herhangi bir ücret ödemelerine gerek olmadığı anlamına gelir. Python, tüm dünyadaki programcılar tarafından geliştirilmeye açıktır ve bu da Python topluluğunun büyümesine ve gelişmesine katkıda bulunur.\n",
      "\n",
      "Sonuç\n",
      "Python, kolay okunabilirlik, çok yönlülük, büyük topluluk ve kapsamlı belgelendirme, ücretsiz ve açık kaynaklı olma gibi birçok avantajıyla öne çıkar. Bu nedenle, Python son yıllarda birçok farklı alanda kullanılan en popüler dillerden biri haline gelmiştir.dosyaya ekleme yapmak istiyorum\n"
     ]
    }
   ],
   "source": [
    "print(f.read())"
   ]
  },
  {
   "cell_type": "code",
   "execution_count": 186,
   "id": "64e522b5",
   "metadata": {
    "ExecuteTime": {
     "end_time": "2024-05-16T02:35:27.682977Z",
     "start_time": "2024-05-16T02:35:27.678946Z"
    }
   },
   "outputs": [
    {
     "data": {
      "text/plain": [
       "2001"
      ]
     },
     "execution_count": 186,
     "metadata": {},
     "output_type": "execute_result"
    }
   ],
   "source": [
    "f.tell()"
   ]
  },
  {
   "cell_type": "code",
   "execution_count": 187,
   "id": "963872cc",
   "metadata": {
    "ExecuteTime": {
     "end_time": "2024-05-16T02:36:23.135004Z",
     "start_time": "2024-05-16T02:36:23.130690Z"
    }
   },
   "outputs": [
    {
     "data": {
      "text/plain": [
       "''"
      ]
     },
     "execution_count": 187,
     "metadata": {},
     "output_type": "execute_result"
    }
   ],
   "source": [
    "f.read()"
   ]
  },
  {
   "cell_type": "code",
   "execution_count": 188,
   "id": "27f911e6",
   "metadata": {
    "ExecuteTime": {
     "end_time": "2024-05-16T02:36:24.408287Z",
     "start_time": "2024-05-16T02:36:24.403386Z"
    }
   },
   "outputs": [
    {
     "data": {
      "text/plain": [
       "100"
      ]
     },
     "execution_count": 188,
     "metadata": {},
     "output_type": "execute_result"
    }
   ],
   "source": [
    "f.seek(100,0) # 0 -> en basa git, 100. imlece gel"
   ]
  },
  {
   "cell_type": "code",
   "execution_count": 189,
   "id": "f48ca327",
   "metadata": {
    "ExecuteTime": {
     "end_time": "2024-05-16T02:36:25.824421Z",
     "start_time": "2024-05-16T02:36:25.819688Z"
    }
   },
   "outputs": [
    {
     "data": {
      "text/plain": [
       "\"line yakın bir söz dizimine sahiptir ve açık bir yapıya sahiptir. Yani, başka bir Python programcısının yazdığı kodları kolayca anlayabilirsiniz.\\n\\nAyrıca, Python'un basit ve sade söz dizimi, programcıların hızlı bir şekilde kod yazmalarını sağlar. Kodun anlaşılması ve yazılması daha kolay olduğundan, programcılar daha az zaman harcayarak daha fazla iş yapabilirler.\\n\\nÇok Yönlülük\\nPython, birçok farklı alanda kullanılabilen bir dil olarak tanınır. Veri bilimi, yapay zeka, makine öğrenmesi, web geliştirme, otomasyon ve daha pek çok alanda kullanılabilir.\\n\\nPython, çeşitli kütüphaneleri ve modülleri ile birlikte gelir. Bu kütüphaneler, birçok farklı alanda kullanılabilecek araçlar sunar ve Python'u daha da çok yönlü bir hale getirir.\\n\\nBüyük Topluluk ve Kapsamlı Belgelendirme\\nPython'un en büyük avantajlarından biri, dünya çapında büyük bir topluluğa sahip olmasıdır. Bu topluluk, Python'u kullanan programcılara yardımcı olmak için birçok kaynak sunar. Ayrıca, Python'un kapsamlı bir belgelendirmesi vardır ve programcılar, ihtiyaç duydukları herhangi bir konuda bilgi edinmek için belgelendirmeyi kullanabilirler.\\n\\nÜcretsiz ve Açık Kaynaklı\\nPython, ücretsiz ve açık kaynaklı bir dildir. Bu, programcıların Python'u kullanarak projelerine başlamaları için herhangi bir ücret ödemelerine gerek olmadığı anlamına gelir. Python, tüm dünyadaki programcılar tarafından geliştirilmeye açıktır ve bu da Python topluluğunun büyümesine ve gelişmesine katkıda bulunur.\\n\\nSonuç\\nPython, kolay okunabilirlik, çok yönlülük, büyük topluluk ve kapsamlı belgelendirme, ücretsiz ve açık kaynaklı olma gibi birçok avantajıyla öne çıkar. Bu nedenle, Python son yıllarda birçok farklı alanda kullanılan en popüler dillerden biri haline gelmiştir.dosyaya ekleme yapmak istiyorum\""
      ]
     },
     "execution_count": 189,
     "metadata": {},
     "output_type": "execute_result"
    }
   ],
   "source": [
    "f.read()"
   ]
  },
  {
   "cell_type": "code",
   "execution_count": 190,
   "id": "4b802c0f",
   "metadata": {
    "ExecuteTime": {
     "end_time": "2024-05-16T02:36:29.439969Z",
     "start_time": "2024-05-16T02:36:29.434834Z"
    }
   },
   "outputs": [
    {
     "data": {
      "text/plain": [
       "0"
      ]
     },
     "execution_count": 190,
     "metadata": {},
     "output_type": "execute_result"
    }
   ],
   "source": [
    "f.seek(0,0) "
   ]
  },
  {
   "cell_type": "code",
   "execution_count": 191,
   "id": "25596346",
   "metadata": {
    "ExecuteTime": {
     "end_time": "2024-05-16T02:37:00.099872Z",
     "start_time": "2024-05-16T02:37:00.094596Z"
    }
   },
   "outputs": [
    {
     "data": {
      "text/plain": [
       "57"
      ]
     },
     "execution_count": 191,
     "metadata": {},
     "output_type": "execute_result"
    }
   ],
   "source": [
    "f.write(\"Bu ne perhiz, What is this? Aman İsmail Can't touch this \") \n",
    "\n",
    "# en basa yazdik AMA var olan metnin ustune yazdi"
   ]
  },
  {
   "cell_type": "code",
   "execution_count": 192,
   "id": "7d3a0e59",
   "metadata": {
    "ExecuteTime": {
     "end_time": "2024-05-16T02:37:01.643310Z",
     "start_time": "2024-05-16T02:37:01.637304Z"
    }
   },
   "outputs": [
    {
     "data": {
      "text/plain": [
       "0"
      ]
     },
     "execution_count": 192,
     "metadata": {},
     "output_type": "execute_result"
    }
   ],
   "source": [
    "f.seek(0,0)"
   ]
  },
  {
   "cell_type": "code",
   "execution_count": 193,
   "id": "c795c635",
   "metadata": {
    "ExecuteTime": {
     "end_time": "2024-05-16T02:37:02.529576Z",
     "start_time": "2024-05-16T02:37:02.524316Z"
    }
   },
   "outputs": [
    {
     "data": {
      "text/plain": [
       "\"Bu ne perhiz, What is this? Aman İsmail Can't touch this ı kolay olan bir dildir. Bu dil, insan diline yakın bir söz dizimine sahiptir ve açık bir yapıya sahiptir. Yani, başka bir Python programcısının yazdığı kodları kolayca anlayabilirsiniz.\\n\\nAyrıca, Python'un basit ve sade söz dizimi, programcıların hızlı bir şekilde kod yazmalarını sağlar. Kodun anlaşılması ve yazılması daha kolay olduğundan, programcılar daha az zaman harcayarak daha fazla iş yapabilirler.\\n\\nÇok Yönlülük\\nPython, birçok farklı alanda kullanılabilen bir dil olarak tanınır. Veri bilimi, yapay zeka, makine öğrenmesi, web geliştirme, otomasyon ve daha pek çok alanda kullanılabilir.\\n\\nPython, çeşitli kütüphaneleri ve modülleri ile birlikte gelir. Bu kütüphaneler, birçok farklı alanda kullanılabilecek araçlar sunar ve Python'u daha da çok yönlü bir hale getirir.\\n\\nBüyük Topluluk ve Kapsamlı Belgelendirme\\nPython'un en büyük avantajlarından biri, dünya çapında büyük bir topluluğa sahip olmasıdır. Bu topluluk, Python'u kullanan programcılara yardımcı olmak için birçok kaynak sunar. Ayrıca, Python'un kapsamlı bir belgelendirmesi vardır ve programcılar, ihtiyaç duydukları herhangi bir konuda bilgi edinmek için belgelendirmeyi kullanabilirler.\\n\\nÜcretsiz ve Açık Kaynaklı\\nPython, ücretsiz ve açık kaynaklı bir dildir. Bu, programcıların Python'u kullanarak projelerine başlamaları için herhangi bir ücret ödemelerine gerek olmadığı anlamına gelir. Python, tüm dünyadaki programcılar tarafından geliştirilmeye açıktır ve bu da Python topluluğunun büyümesine ve gelişmesine katkıda bulunur.\\n\\nSonuç\\nPython, kolay okunabilirlik, çok yönlülük, büyük topluluk ve kapsamlı belgelendirme, ücretsiz ve açık kaynaklı olma gibi birçok avantajıyla öne çıkar. Bu nedenle, Python son yıllarda birçok farklı alanda kullanılan en popüler dillerden biri haline gelmiştir.dosyaya ekleme yapmak istiyorum\""
      ]
     },
     "execution_count": 193,
     "metadata": {},
     "output_type": "execute_result"
    }
   ],
   "source": [
    "f.read()"
   ]
  },
  {
   "cell_type": "code",
   "execution_count": 194,
   "id": "d878c428",
   "metadata": {
    "ExecuteTime": {
     "end_time": "2024-05-16T02:37:35.044508Z",
     "start_time": "2024-05-16T02:37:35.040864Z"
    }
   },
   "outputs": [],
   "source": [
    "f.close()"
   ]
  },
  {
   "cell_type": "markdown",
   "id": "4fefaf2e",
   "metadata": {},
   "source": [
    "## OOP"
   ]
  },
  {
   "cell_type": "markdown",
   "id": "cd98ddcd",
   "metadata": {
    "heading_collapsed": true
   },
   "source": [
    "### Basics"
   ]
  },
  {
   "cell_type": "code",
   "execution_count": 1,
   "id": "537e5e76",
   "metadata": {
    "ExecuteTime": {
     "end_time": "2024-05-15T17:44:04.596074Z",
     "start_time": "2024-05-15T17:44:04.590478Z"
    },
    "hidden": true
   },
   "outputs": [],
   "source": [
    "class MyFirstClass:\n",
    "    pass"
   ]
  },
  {
   "cell_type": "code",
   "execution_count": 3,
   "id": "705dfd2c",
   "metadata": {
    "ExecuteTime": {
     "end_time": "2024-05-15T17:45:50.050957Z",
     "start_time": "2024-05-15T17:45:50.046252Z"
    },
    "hidden": true
   },
   "outputs": [],
   "source": [
    "liste = list()"
   ]
  },
  {
   "cell_type": "code",
   "execution_count": 4,
   "id": "bfa81785",
   "metadata": {
    "ExecuteTime": {
     "end_time": "2024-05-15T17:45:50.750308Z",
     "start_time": "2024-05-15T17:45:50.747377Z"
    },
    "hidden": true
   },
   "outputs": [],
   "source": [
    "my_class = MyFirstClass()  # instance -> my_class, class ozelliklerini tasiyan degisken"
   ]
  },
  {
   "cell_type": "code",
   "execution_count": 5,
   "id": "8d9a7c6a",
   "metadata": {
    "ExecuteTime": {
     "end_time": "2024-05-15T17:47:18.550236Z",
     "start_time": "2024-05-15T17:47:18.545620Z"
    },
    "hidden": true
   },
   "outputs": [],
   "source": [
    "my_class.__doc__"
   ]
  },
  {
   "cell_type": "code",
   "execution_count": 6,
   "id": "2ab3c9b2",
   "metadata": {
    "ExecuteTime": {
     "end_time": "2024-05-15T17:47:43.881444Z",
     "start_time": "2024-05-15T17:47:43.875494Z"
    },
    "hidden": true
   },
   "outputs": [],
   "source": [
    "MyFirstClass().__doc__"
   ]
  },
  {
   "cell_type": "code",
   "execution_count": 7,
   "id": "efd52424",
   "metadata": {
    "ExecuteTime": {
     "end_time": "2024-05-15T17:49:11.644181Z",
     "start_time": "2024-05-15T17:49:11.640789Z"
    },
    "hidden": true
   },
   "outputs": [],
   "source": [
    "class Person:\n",
    "    pass"
   ]
  },
  {
   "cell_type": "code",
   "execution_count": 8,
   "id": "edd4b323",
   "metadata": {
    "ExecuteTime": {
     "end_time": "2024-05-15T17:49:27.123649Z",
     "start_time": "2024-05-15T17:49:27.120186Z"
    },
    "hidden": true
   },
   "outputs": [],
   "source": [
    "p1 = Person()"
   ]
  },
  {
   "cell_type": "code",
   "execution_count": 9,
   "id": "14fdd1e6",
   "metadata": {
    "ExecuteTime": {
     "end_time": "2024-05-15T17:50:49.926759Z",
     "start_time": "2024-05-15T17:50:49.922907Z"
    },
    "hidden": true
   },
   "outputs": [
    {
     "name": "stdout",
     "output_type": "stream",
     "text": [
      "<__main__.Person object at 0x0000023320E8A990>\n"
     ]
    }
   ],
   "source": [
    "print(p1)"
   ]
  },
  {
   "cell_type": "code",
   "execution_count": 10,
   "id": "98c40323",
   "metadata": {
    "ExecuteTime": {
     "end_time": "2024-05-15T17:53:26.784252Z",
     "start_time": "2024-05-15T17:53:26.778227Z"
    },
    "hidden": true
   },
   "outputs": [],
   "source": [
    "p1.name = 'Huma'\n",
    "p1.age = 23\n",
    "p1.job = 'DataScientist'"
   ]
  },
  {
   "cell_type": "code",
   "execution_count": 11,
   "id": "7263b49c",
   "metadata": {
    "ExecuteTime": {
     "end_time": "2024-05-15T17:53:41.177816Z",
     "start_time": "2024-05-15T17:53:40.912520Z"
    },
    "hidden": true
   },
   "outputs": [
    {
     "ename": "NameError",
     "evalue": "name 'g1' is not defined",
     "output_type": "error",
     "traceback": [
      "\u001b[1;31m---------------------------------------------------------------------------\u001b[0m",
      "\u001b[1;31mNameError\u001b[0m                                 Traceback (most recent call last)",
      "Cell \u001b[1;32mIn[11], line 1\u001b[0m\n\u001b[1;32m----> 1\u001b[0m \u001b[43mg1\u001b[49m\u001b[38;5;241m.\u001b[39mname \u001b[38;5;241m=\u001b[39m \u001b[38;5;124m'\u001b[39m\u001b[38;5;124mSami\u001b[39m\u001b[38;5;124m'\u001b[39m\n",
      "\u001b[1;31mNameError\u001b[0m: name 'g1' is not defined"
     ]
    }
   ],
   "source": [
    "g1.name = 'Sami'"
   ]
  },
  {
   "cell_type": "code",
   "execution_count": 12,
   "id": "09e6bb4b",
   "metadata": {
    "ExecuteTime": {
     "end_time": "2024-05-15T17:53:46.596216Z",
     "start_time": "2024-05-15T17:53:46.589081Z"
    },
    "hidden": true
   },
   "outputs": [
    {
     "data": {
      "text/plain": [
       "'Huma'"
      ]
     },
     "execution_count": 12,
     "metadata": {},
     "output_type": "execute_result"
    }
   ],
   "source": [
    "p1.name"
   ]
  },
  {
   "cell_type": "code",
   "execution_count": 14,
   "id": "fe3dc588",
   "metadata": {
    "ExecuteTime": {
     "end_time": "2024-05-15T17:54:26.981523Z",
     "start_time": "2024-05-15T17:54:26.978358Z"
    },
    "hidden": true
   },
   "outputs": [],
   "source": [
    "p1.__doc__"
   ]
  },
  {
   "cell_type": "code",
   "execution_count": 15,
   "id": "95b60f0e",
   "metadata": {
    "ExecuteTime": {
     "end_time": "2024-05-15T17:55:25.874213Z",
     "start_time": "2024-05-15T17:55:25.871474Z"
    },
    "hidden": true
   },
   "outputs": [],
   "source": [
    "import math"
   ]
  },
  {
   "cell_type": "code",
   "execution_count": 16,
   "id": "b8a566e6",
   "metadata": {
    "ExecuteTime": {
     "end_time": "2024-05-15T17:56:09.167352Z",
     "start_time": "2024-05-15T17:56:09.161842Z"
    },
    "hidden": true
   },
   "outputs": [
    {
     "data": {
      "text/plain": [
       "3.141592653589793"
      ]
     },
     "execution_count": 16,
     "metadata": {},
     "output_type": "execute_result"
    }
   ],
   "source": [
    "math.pi  # pi attribute"
   ]
  },
  {
   "cell_type": "code",
   "execution_count": 17,
   "id": "ad46e066",
   "metadata": {
    "ExecuteTime": {
     "end_time": "2024-05-15T17:56:11.245818Z",
     "start_time": "2024-05-15T17:56:11.239139Z"
    },
    "hidden": true
   },
   "outputs": [
    {
     "data": {
      "text/plain": [
       "120"
      ]
     },
     "execution_count": 17,
     "metadata": {},
     "output_type": "execute_result"
    }
   ],
   "source": [
    "math.factorial(5)  # method -> icine deger verebiliyoruz"
   ]
  },
  {
   "cell_type": "code",
   "execution_count": 18,
   "id": "4f77dde3",
   "metadata": {
    "ExecuteTime": {
     "end_time": "2024-05-15T18:02:09.073566Z",
     "start_time": "2024-05-15T18:02:09.068974Z"
    },
    "hidden": true
   },
   "outputs": [],
   "source": [
    "class Person:\n",
    "    \n",
    "    def __init__(self, isim, yas, meslek):  # class in ozu self, ille de self yaz \n",
    "        \n",
    "        self.name = isim\n",
    "        self.age = yas \n",
    "        self.job = meslek"
   ]
  },
  {
   "cell_type": "code",
   "execution_count": 19,
   "id": "afd0c87a",
   "metadata": {
    "ExecuteTime": {
     "end_time": "2024-05-15T18:03:52.604580Z",
     "start_time": "2024-05-15T18:03:52.532529Z"
    },
    "hidden": true
   },
   "outputs": [
    {
     "ename": "TypeError",
     "evalue": "Person.__init__() missing 3 required positional arguments: 'isim', 'yas', and 'meslek'",
     "output_type": "error",
     "traceback": [
      "\u001b[1;31m---------------------------------------------------------------------------\u001b[0m",
      "\u001b[1;31mTypeError\u001b[0m                                 Traceback (most recent call last)",
      "Cell \u001b[1;32mIn[19], line 1\u001b[0m\n\u001b[1;32m----> 1\u001b[0m p2 \u001b[38;5;241m=\u001b[39m \u001b[43mPerson\u001b[49m\u001b[43m(\u001b[49m\u001b[43m)\u001b[49m\n",
      "\u001b[1;31mTypeError\u001b[0m: Person.__init__() missing 3 required positional arguments: 'isim', 'yas', and 'meslek'"
     ]
    }
   ],
   "source": [
    "p2 = Person()  # ici bos "
   ]
  },
  {
   "cell_type": "code",
   "execution_count": 20,
   "id": "5c18d7a7",
   "metadata": {
    "ExecuteTime": {
     "end_time": "2024-05-15T18:05:24.102049Z",
     "start_time": "2024-05-15T18:05:24.098387Z"
    },
    "hidden": true
   },
   "outputs": [],
   "source": [
    "p3 = Person('Sami', 24, 'DataAnalyst')"
   ]
  },
  {
   "cell_type": "code",
   "execution_count": 21,
   "id": "c2736a8e",
   "metadata": {
    "ExecuteTime": {
     "end_time": "2024-05-15T18:05:56.069413Z",
     "start_time": "2024-05-15T18:05:56.064295Z"
    },
    "hidden": true
   },
   "outputs": [
    {
     "data": {
      "text/plain": [
       "'Sami'"
      ]
     },
     "execution_count": 21,
     "metadata": {},
     "output_type": "execute_result"
    }
   ],
   "source": [
    "p3.name"
   ]
  },
  {
   "cell_type": "code",
   "execution_count": 22,
   "id": "182192da",
   "metadata": {
    "ExecuteTime": {
     "end_time": "2024-05-15T18:06:11.958283Z",
     "start_time": "2024-05-15T18:06:11.951728Z"
    },
    "hidden": true
   },
   "outputs": [
    {
     "data": {
      "text/plain": [
       "24"
      ]
     },
     "execution_count": 22,
     "metadata": {},
     "output_type": "execute_result"
    }
   ],
   "source": [
    "p3.age"
   ]
  },
  {
   "cell_type": "code",
   "execution_count": 30,
   "id": "cbc00dfb",
   "metadata": {
    "ExecuteTime": {
     "end_time": "2024-05-15T18:09:46.619876Z",
     "start_time": "2024-05-15T18:09:46.616743Z"
    },
    "hidden": true
   },
   "outputs": [],
   "source": [
    "class Person:    \n",
    "    \n",
    "    def __init__(self, isim = \"belirtilmedi\", yaş= \"belirtilmedi\", meslek= \"belirtilmedi\"):        \n",
    "        self.name = isim\n",
    "        self.age = yaş\n",
    "        self.job = meslek"
   ]
  },
  {
   "cell_type": "code",
   "execution_count": 31,
   "id": "0008cdff",
   "metadata": {
    "ExecuteTime": {
     "end_time": "2024-05-15T18:09:47.128396Z",
     "start_time": "2024-05-15T18:09:47.124591Z"
    },
    "hidden": true
   },
   "outputs": [],
   "source": [
    "p4 = Person()"
   ]
  },
  {
   "cell_type": "code",
   "execution_count": 32,
   "id": "7b71a6ed",
   "metadata": {
    "ExecuteTime": {
     "end_time": "2024-05-15T18:09:47.585742Z",
     "start_time": "2024-05-15T18:09:47.580518Z"
    },
    "hidden": true
   },
   "outputs": [
    {
     "data": {
      "text/plain": [
       "'belirtilmedi'"
      ]
     },
     "execution_count": 32,
     "metadata": {},
     "output_type": "execute_result"
    }
   ],
   "source": [
    "p4.name"
   ]
  },
  {
   "cell_type": "code",
   "execution_count": 33,
   "id": "601d4c51",
   "metadata": {
    "ExecuteTime": {
     "end_time": "2024-05-15T18:09:48.086766Z",
     "start_time": "2024-05-15T18:09:48.082812Z"
    },
    "hidden": true
   },
   "outputs": [],
   "source": [
    "p4.salary = 10000"
   ]
  },
  {
   "cell_type": "code",
   "execution_count": 34,
   "id": "f236e1ef",
   "metadata": {
    "ExecuteTime": {
     "end_time": "2024-05-15T18:09:48.702559Z",
     "start_time": "2024-05-15T18:09:48.696993Z"
    },
    "hidden": true
   },
   "outputs": [
    {
     "data": {
      "text/plain": [
       "{'name': 'belirtilmedi',\n",
       " 'age': 'belirtilmedi',\n",
       " 'job': 'belirtilmedi',\n",
       " 'salary': 10000}"
      ]
     },
     "execution_count": 34,
     "metadata": {},
     "output_type": "execute_result"
    }
   ],
   "source": [
    "p4.__dict__"
   ]
  },
  {
   "cell_type": "code",
   "execution_count": 35,
   "id": "be898fa6",
   "metadata": {
    "ExecuteTime": {
     "end_time": "2024-05-15T18:09:51.886075Z",
     "start_time": "2024-05-15T18:09:51.883905Z"
    },
    "hidden": true
   },
   "outputs": [],
   "source": [
    "p4.name = 'Huma'"
   ]
  },
  {
   "cell_type": "code",
   "execution_count": 36,
   "id": "fb1d1fbd",
   "metadata": {
    "ExecuteTime": {
     "end_time": "2024-05-15T18:09:57.551962Z",
     "start_time": "2024-05-15T18:09:57.545519Z"
    },
    "hidden": true
   },
   "outputs": [
    {
     "data": {
      "text/plain": [
       "{'name': 'Huma', 'age': 'belirtilmedi', 'job': 'belirtilmedi', 'salary': 10000}"
      ]
     },
     "execution_count": 36,
     "metadata": {},
     "output_type": "execute_result"
    }
   ],
   "source": [
    "p4.__dict__"
   ]
  },
  {
   "cell_type": "code",
   "execution_count": 37,
   "id": "2e4ca5b9",
   "metadata": {
    "ExecuteTime": {
     "end_time": "2024-05-15T18:15:43.515196Z",
     "start_time": "2024-05-15T18:15:43.511243Z"
    },
    "hidden": true
   },
   "outputs": [],
   "source": [
    "class Person:    \n",
    "    def __init__(self, isim, yaş, meslek):        \n",
    "        self.name = isim\n",
    "        self.age = yaş\n",
    "        self.job = meslek    \n",
    "        \n",
    "    def show_info(self):\n",
    "        print(f\"isim: {self.name}, yaş: {self.age}, meslek: {self.job}\")"
   ]
  },
  {
   "cell_type": "code",
   "execution_count": 38,
   "id": "d5be11d6",
   "metadata": {
    "ExecuteTime": {
     "end_time": "2024-05-15T18:16:31.048570Z",
     "start_time": "2024-05-15T18:16:31.045042Z"
    },
    "hidden": true
   },
   "outputs": [],
   "source": [
    "p5 = Person('Cumali', 32, 'Python_developer')"
   ]
  },
  {
   "cell_type": "code",
   "execution_count": 39,
   "id": "47244851",
   "metadata": {
    "ExecuteTime": {
     "end_time": "2024-05-15T18:16:39.823171Z",
     "start_time": "2024-05-15T18:16:39.818650Z"
    },
    "hidden": true
   },
   "outputs": [
    {
     "name": "stdout",
     "output_type": "stream",
     "text": [
      "isim: Cumali, yaş: 32, meslek: Python_developer\n"
     ]
    }
   ],
   "source": [
    "p5.show_info()"
   ]
  },
  {
   "cell_type": "markdown",
   "id": "c2bd0349",
   "metadata": {
    "heading_collapsed": true
   },
   "source": [
    "### Class attribute & instance attribute"
   ]
  },
  {
   "cell_type": "code",
   "execution_count": 40,
   "id": "2d9007e3",
   "metadata": {
    "ExecuteTime": {
     "end_time": "2024-05-15T18:34:23.260693Z",
     "start_time": "2024-05-15T18:34:23.255863Z"
    },
    "hidden": true
   },
   "outputs": [],
   "source": [
    "class Okul:\n",
    "    \n",
    "    egitim_sistemi = 'Devlet Okullari'\n",
    "    \n",
    "    def __init__(self, okul_adi, ogr_sayisi):\n",
    "        \n",
    "        self.school_name = okul_adi\n",
    "        self.count_of_student = ogr_sayisi"
   ]
  },
  {
   "cell_type": "code",
   "execution_count": 41,
   "id": "0537ca7a",
   "metadata": {
    "ExecuteTime": {
     "end_time": "2024-05-15T18:36:42.756680Z",
     "start_time": "2024-05-15T18:36:42.753933Z"
    },
    "hidden": true
   },
   "outputs": [],
   "source": [
    "okul1 = Okul('Ataturk lisesi', 650)\n",
    "okul2 = Okul('Cumhuriyet Orta Okulu', 800)"
   ]
  },
  {
   "cell_type": "code",
   "execution_count": 42,
   "id": "f71f2578",
   "metadata": {
    "ExecuteTime": {
     "end_time": "2024-05-15T18:38:36.427014Z",
     "start_time": "2024-05-15T18:38:36.423329Z"
    },
    "hidden": true
   },
   "outputs": [
    {
     "name": "stdout",
     "output_type": "stream",
     "text": [
      "Devlet Okullari, Ataturk lisesi, 650\n",
      "Devlet Okullari, Cumhuriyet Orta Okulu, 800\n"
     ]
    }
   ],
   "source": [
    "print(f'{Okul.egitim_sistemi}, {okul1.school_name}, {okul1.count_of_student}')\n",
    "print(f'{Okul.egitim_sistemi}, {okul2.school_name}, {okul2.count_of_student}')"
   ]
  },
  {
   "cell_type": "code",
   "execution_count": 43,
   "id": "1d970bf5",
   "metadata": {
    "ExecuteTime": {
     "end_time": "2024-05-15T18:38:54.212802Z",
     "start_time": "2024-05-15T18:38:54.210346Z"
    },
    "hidden": true
   },
   "outputs": [],
   "source": [
    "Okul.egitim_sistemi = 'Ozel Okullar'"
   ]
  },
  {
   "cell_type": "code",
   "execution_count": 44,
   "id": "7afa5d60",
   "metadata": {
    "ExecuteTime": {
     "end_time": "2024-05-15T18:39:03.453255Z",
     "start_time": "2024-05-15T18:39:03.444281Z"
    },
    "hidden": true
   },
   "outputs": [
    {
     "name": "stdout",
     "output_type": "stream",
     "text": [
      "Ozel Okullar, Ataturk lisesi, 650\n",
      "Ozel Okullar, Cumhuriyet Orta Okulu, 800\n"
     ]
    }
   ],
   "source": [
    "print(f'{Okul.egitim_sistemi}, {okul1.school_name}, {okul1.count_of_student}')\n",
    "print(f'{Okul.egitim_sistemi}, {okul2.school_name}, {okul2.count_of_student}')"
   ]
  },
  {
   "cell_type": "code",
   "execution_count": null,
   "id": "85a5bea1",
   "metadata": {
    "hidden": true
   },
   "outputs": [],
   "source": [
    "#############################"
   ]
  },
  {
   "cell_type": "code",
   "execution_count": 45,
   "id": "09ca0374",
   "metadata": {
    "ExecuteTime": {
     "end_time": "2024-05-15T18:41:46.678278Z",
     "start_time": "2024-05-15T18:41:46.674960Z"
    },
    "hidden": true
   },
   "outputs": [],
   "source": [
    "class Employees:\n",
    "    \n",
    "    def __init__(self, isim, soyisim, yas, maas):\n",
    "        \n",
    "        self.name = isim\n",
    "        self.surname = soyisim\n",
    "        self.age = yas\n",
    "        self.salary = maas"
   ]
  },
  {
   "cell_type": "code",
   "execution_count": 46,
   "id": "82375145",
   "metadata": {
    "ExecuteTime": {
     "end_time": "2024-05-15T18:42:52.163788Z",
     "start_time": "2024-05-15T18:42:52.159726Z"
    },
    "hidden": true
   },
   "outputs": [],
   "source": [
    "e1 = Employees('Nazim', 'C', 33, 5000)"
   ]
  },
  {
   "cell_type": "code",
   "execution_count": 47,
   "id": "6d4993cd",
   "metadata": {
    "ExecuteTime": {
     "end_time": "2024-05-15T18:43:05.406211Z",
     "start_time": "2024-05-15T18:43:05.399493Z"
    },
    "hidden": true
   },
   "outputs": [
    {
     "data": {
      "text/plain": [
       "{'name': 'Nazim', 'surname': 'C', 'age': 33, 'salary': 5000}"
      ]
     },
     "execution_count": 47,
     "metadata": {},
     "output_type": "execute_result"
    }
   ],
   "source": [
    "e1.__dict__"
   ]
  },
  {
   "cell_type": "code",
   "execution_count": 57,
   "id": "573b782c",
   "metadata": {
    "ExecuteTime": {
     "end_time": "2024-05-15T18:52:05.488955Z",
     "start_time": "2024-05-15T18:52:05.484633Z"
    },
    "hidden": true
   },
   "outputs": [],
   "source": [
    "class Employees:\n",
    "    \n",
    "    def __init__(self, isim, soyisim, yas, maas, artis_miktari = 1.4):\n",
    "        \n",
    "        self.name = isim\n",
    "        self.surname = soyisim\n",
    "        self.age = yas\n",
    "        self.salary = maas\n",
    "        self.raise_amount = artis_miktari\n",
    "\n",
    "    def salary_increase(self):\n",
    "        \n",
    "        self.salary = self.salary * self.raise_amount"
   ]
  },
  {
   "cell_type": "code",
   "execution_count": 58,
   "id": "d00c6874",
   "metadata": {
    "ExecuteTime": {
     "end_time": "2024-05-15T18:52:05.900861Z",
     "start_time": "2024-05-15T18:52:05.896258Z"
    },
    "hidden": true
   },
   "outputs": [],
   "source": [
    "e2 = Employees('Huma', 'G', 23, 5000)"
   ]
  },
  {
   "cell_type": "code",
   "execution_count": 59,
   "id": "8f8c099e",
   "metadata": {
    "ExecuteTime": {
     "end_time": "2024-05-15T18:52:06.345873Z",
     "start_time": "2024-05-15T18:52:06.341036Z"
    },
    "hidden": true
   },
   "outputs": [],
   "source": [
    "e2.salary_increase() # artisi calistirdik"
   ]
  },
  {
   "cell_type": "code",
   "execution_count": 60,
   "id": "681fec4b",
   "metadata": {
    "ExecuteTime": {
     "end_time": "2024-05-15T18:52:06.855258Z",
     "start_time": "2024-05-15T18:52:06.850368Z"
    },
    "hidden": true
   },
   "outputs": [
    {
     "data": {
      "text/plain": [
       "{'name': 'Huma',\n",
       " 'surname': 'G',\n",
       " 'age': 23,\n",
       " 'salary': 7000.0,\n",
       " 'raise_amount': 1.4}"
      ]
     },
     "execution_count": 60,
     "metadata": {},
     "output_type": "execute_result"
    }
   ],
   "source": [
    "e2.__dict__ "
   ]
  },
  {
   "cell_type": "code",
   "execution_count": 61,
   "id": "480c753b",
   "metadata": {
    "ExecuteTime": {
     "end_time": "2024-05-15T18:54:55.633979Z",
     "start_time": "2024-05-15T18:54:55.630334Z"
    },
    "hidden": true
   },
   "outputs": [],
   "source": [
    "class Employees:\n",
    "    \n",
    "    artis_orani = 1.5\n",
    "    \n",
    "    def __init__(self, isim, soyisim, yas, maas):\n",
    "        \n",
    "        self.name = isim\n",
    "        self.surname = soyisim\n",
    "        self.age = yas\n",
    "        self.salary = maas\n",
    "\n",
    "    def salary_increase(self):\n",
    "        \n",
    "        self.salary = self.salary * Employees.artis_orani"
   ]
  },
  {
   "cell_type": "code",
   "execution_count": 62,
   "id": "f376e8f9",
   "metadata": {
    "ExecuteTime": {
     "end_time": "2024-05-15T18:55:51.855555Z",
     "start_time": "2024-05-15T18:55:51.850989Z"
    },
    "hidden": true
   },
   "outputs": [],
   "source": [
    "e3 = Employees('Arzu', 'N', 25, 5000)"
   ]
  },
  {
   "cell_type": "code",
   "execution_count": 63,
   "id": "e8505853",
   "metadata": {
    "ExecuteTime": {
     "end_time": "2024-05-15T18:56:08.697829Z",
     "start_time": "2024-05-15T18:56:08.694317Z"
    },
    "hidden": true
   },
   "outputs": [
    {
     "data": {
      "text/plain": [
       "{'name': 'Arzu', 'surname': 'N', 'age': 25, 'salary': 5000}"
      ]
     },
     "execution_count": 63,
     "metadata": {},
     "output_type": "execute_result"
    }
   ],
   "source": [
    "e3.__dict__"
   ]
  },
  {
   "cell_type": "code",
   "execution_count": 64,
   "id": "dd3a98cc",
   "metadata": {
    "ExecuteTime": {
     "end_time": "2024-05-15T18:56:54.001943Z",
     "start_time": "2024-05-15T18:56:53.998775Z"
    },
    "hidden": true
   },
   "outputs": [],
   "source": [
    "e3.salary_increase()"
   ]
  },
  {
   "cell_type": "code",
   "execution_count": 65,
   "id": "f046e699",
   "metadata": {
    "ExecuteTime": {
     "end_time": "2024-05-15T18:57:00.469351Z",
     "start_time": "2024-05-15T18:57:00.464430Z"
    },
    "hidden": true
   },
   "outputs": [
    {
     "data": {
      "text/plain": [
       "{'name': 'Arzu', 'surname': 'N', 'age': 25, 'salary': 7500.0}"
      ]
     },
     "execution_count": 65,
     "metadata": {},
     "output_type": "execute_result"
    }
   ],
   "source": [
    "e3.__dict__"
   ]
  },
  {
   "cell_type": "markdown",
   "id": "6f65c4de",
   "metadata": {
    "heading_collapsed": true
   },
   "source": [
    "### Class method & Instance Method"
   ]
  },
  {
   "cell_type": "code",
   "execution_count": 81,
   "id": "122f0bab",
   "metadata": {
    "ExecuteTime": {
     "end_time": "2024-05-15T19:12:02.242893Z",
     "start_time": "2024-05-15T19:12:02.236180Z"
    },
    "hidden": true
   },
   "outputs": [],
   "source": [
    "class Employees:\n",
    "    \n",
    "    employee_count = 0\n",
    "    \n",
    "    def __init__(self, isim, soyisim, yas, maas, artis_miktari = 1.4):\n",
    "        \n",
    "        self.name = isim\n",
    "        self.surname = soyisim\n",
    "        self.age = yas\n",
    "        self.salary = maas\n",
    "        self.raise_amount = artis_miktari\n",
    "        Employees.employee_count += 1\n",
    "    \n",
    "    def show_person_info(self):\n",
    "\n",
    "        print(f\"isim: {self.name}, soyisim: {self.surname}, yaş: {self.age}, maas: {self.salary}\")\n",
    "\n",
    "    def salary_increase(self):\n",
    "        \n",
    "        self.salary = self.salary * self.raise_amount\n",
    "    \n",
    "    @classmethod\n",
    "    def number_of_employee(cls):\n",
    "        \n",
    "        return f'Number of total employees: {cls.employee_count}'"
   ]
  },
  {
   "cell_type": "code",
   "execution_count": 82,
   "id": "df16daa0",
   "metadata": {
    "ExecuteTime": {
     "end_time": "2024-05-15T19:12:02.734946Z",
     "start_time": "2024-05-15T19:12:02.730723Z"
    },
    "hidden": true
   },
   "outputs": [],
   "source": [
    "e4 = Employees('Fatma', 'S', 35, 6000)\n",
    "e5 = Employees('Enejan', 'H', 28, 4800)"
   ]
  },
  {
   "cell_type": "code",
   "execution_count": 83,
   "id": "736b518f",
   "metadata": {
    "ExecuteTime": {
     "end_time": "2024-05-15T19:12:03.118222Z",
     "start_time": "2024-05-15T19:12:03.114495Z"
    },
    "hidden": true
   },
   "outputs": [
    {
     "name": "stdout",
     "output_type": "stream",
     "text": [
      "isim: Enejan, soyisim: H, yaş: 28, maas: 4800\n"
     ]
    }
   ],
   "source": [
    "e5.show_person_info()"
   ]
  },
  {
   "cell_type": "code",
   "execution_count": 84,
   "id": "c3335e7d",
   "metadata": {
    "ExecuteTime": {
     "end_time": "2024-05-15T19:12:03.603048Z",
     "start_time": "2024-05-15T19:12:03.598886Z"
    },
    "hidden": true
   },
   "outputs": [],
   "source": [
    "e5.salary_increase()  # maas artisi yaptik"
   ]
  },
  {
   "cell_type": "code",
   "execution_count": 85,
   "id": "32c80a98",
   "metadata": {
    "ExecuteTime": {
     "end_time": "2024-05-15T19:12:04.138745Z",
     "start_time": "2024-05-15T19:12:04.132981Z"
    },
    "hidden": true
   },
   "outputs": [
    {
     "name": "stdout",
     "output_type": "stream",
     "text": [
      "isim: Enejan, soyisim: H, yaş: 28, maas: 6720.0\n"
     ]
    }
   ],
   "source": [
    "e5.show_person_info()"
   ]
  },
  {
   "cell_type": "code",
   "execution_count": 86,
   "id": "9b4868ee",
   "metadata": {
    "ExecuteTime": {
     "end_time": "2024-05-15T19:12:04.627914Z",
     "start_time": "2024-05-15T19:12:04.615791Z"
    },
    "hidden": true
   },
   "outputs": [
    {
     "data": {
      "text/plain": [
       "'Number of total employees: 2'"
      ]
     },
     "execution_count": 86,
     "metadata": {},
     "output_type": "execute_result"
    }
   ],
   "source": [
    "Employees.number_of_employee()"
   ]
  },
  {
   "cell_type": "markdown",
   "id": "a21c9329",
   "metadata": {},
   "source": [
    "### Inheritance (Kalitim - Miras)"
   ]
  },
  {
   "cell_type": "code",
   "execution_count": 36,
   "id": "49893eae",
   "metadata": {
    "ExecuteTime": {
     "end_time": "2024-05-16T03:15:47.445173Z",
     "start_time": "2024-05-16T03:15:47.438520Z"
    }
   },
   "outputs": [],
   "source": [
    "class Employees:\n",
    "    \n",
    "    employee_count = 0\n",
    "    \n",
    "    def __init__(self, isim, soyisim, yas, maas, artis_miktari = 1.4):\n",
    "        \n",
    "        self.name = isim\n",
    "        self.surname = soyisim\n",
    "        self.age = yas\n",
    "        self.salary = maas\n",
    "        self.raise_amount = artis_miktari\n",
    "        Employees.employee_count += 1\n",
    "    \n",
    "    def show_person_info(self):\n",
    "\n",
    "        print(f\"isim: {self.name}, soyisim: {self.surname}, yaş: {self.age}, maas: {self.salary}\")\n",
    "\n",
    "    def salary_increase(self):\n",
    "        \n",
    "        self.salary = self.salary * self.raise_amount\n",
    "    \n",
    "    @classmethod  # class'a ait olduğunu belirtmek için \n",
    "    def number_of_employee(cls):\n",
    "        \n",
    "        return f'Number of total employees: {cls.employee_count}'"
   ]
  },
  {
   "cell_type": "code",
   "execution_count": 37,
   "id": "8dc6cc45",
   "metadata": {
    "ExecuteTime": {
     "end_time": "2024-05-16T03:15:52.769774Z",
     "start_time": "2024-05-16T03:15:52.766609Z"
    }
   },
   "outputs": [],
   "source": [
    "class Programmer(Employees):\n",
    "    pass"
   ]
  },
  {
   "cell_type": "code",
   "execution_count": 38,
   "id": "0881a18e",
   "metadata": {
    "ExecuteTime": {
     "end_time": "2024-05-16T03:15:53.309077Z",
     "start_time": "2024-05-16T03:15:53.305710Z"
    }
   },
   "outputs": [],
   "source": [
    "p1 = Programmer('Inci', 'A', 26, 4000)"
   ]
  },
  {
   "cell_type": "code",
   "execution_count": 39,
   "id": "4f490318",
   "metadata": {
    "ExecuteTime": {
     "end_time": "2024-05-16T03:15:53.783734Z",
     "start_time": "2024-05-16T03:15:53.778660Z"
    }
   },
   "outputs": [
    {
     "data": {
      "text/plain": [
       "{'name': 'Inci',\n",
       " 'surname': 'A',\n",
       " 'age': 26,\n",
       " 'salary': 4000,\n",
       " 'raise_amount': 1.4}"
      ]
     },
     "execution_count": 39,
     "metadata": {},
     "output_type": "execute_result"
    }
   ],
   "source": [
    "p1.__dict__"
   ]
  },
  {
   "cell_type": "code",
   "execution_count": 40,
   "id": "5f894eee",
   "metadata": {
    "ExecuteTime": {
     "end_time": "2024-05-16T03:15:54.213653Z",
     "start_time": "2024-05-16T03:15:54.207308Z"
    }
   },
   "outputs": [],
   "source": [
    "class Programmer(Employees):\n",
    "\n",
    "    def __init__(self, isim, soyisim, yas, maas, dil):\n",
    "        \n",
    "        self.name = isim\n",
    "        self.surname = soyisim\n",
    "        self.age = yas\n",
    "        self.salary = maas\n",
    "        self.language = dil"
   ]
  },
  {
   "cell_type": "code",
   "execution_count": 41,
   "id": "47172180",
   "metadata": {
    "ExecuteTime": {
     "end_time": "2024-05-16T03:15:54.629406Z",
     "start_time": "2024-05-16T03:15:54.609802Z"
    }
   },
   "outputs": [
    {
     "ename": "TypeError",
     "evalue": "Programmer.__init__() missing 1 required positional argument: 'dil'",
     "output_type": "error",
     "traceback": [
      "\u001b[1;31m---------------------------------------------------------------------------\u001b[0m",
      "\u001b[1;31mTypeError\u001b[0m                                 Traceback (most recent call last)",
      "Cell \u001b[1;32mIn[41], line 1\u001b[0m\n\u001b[1;32m----> 1\u001b[0m p2 \u001b[38;5;241m=\u001b[39m \u001b[43mProgrammer\u001b[49m\u001b[43m(\u001b[49m\u001b[38;5;124;43m'\u001b[39;49m\u001b[38;5;124;43mNazim\u001b[39;49m\u001b[38;5;124;43m'\u001b[39;49m\u001b[43m,\u001b[49m\u001b[43m \u001b[49m\u001b[38;5;124;43m'\u001b[39;49m\u001b[38;5;124;43mC\u001b[39;49m\u001b[38;5;124;43m'\u001b[39;49m\u001b[43m,\u001b[49m\u001b[43m \u001b[49m\u001b[38;5;241;43m32\u001b[39;49m\u001b[43m,\u001b[49m\u001b[43m \u001b[49m\u001b[38;5;241;43m4800\u001b[39;49m\u001b[43m)\u001b[49m\n",
      "\u001b[1;31mTypeError\u001b[0m: Programmer.__init__() missing 1 required positional argument: 'dil'"
     ]
    }
   ],
   "source": [
    "p2 = Programmer('Nazim', 'C', 32, 4800)"
   ]
  },
  {
   "cell_type": "code",
   "execution_count": 42,
   "id": "079f421a",
   "metadata": {
    "ExecuteTime": {
     "end_time": "2024-05-16T03:15:55.060983Z",
     "start_time": "2024-05-16T03:15:55.057384Z"
    }
   },
   "outputs": [],
   "source": [
    "p3 = Programmer(\"Nazım\", \"Ç\", 32, 4800, \"python\")"
   ]
  },
  {
   "cell_type": "code",
   "execution_count": 43,
   "id": "867bcd8e",
   "metadata": {
    "ExecuteTime": {
     "end_time": "2024-05-16T03:15:56.182804Z",
     "start_time": "2024-05-16T03:15:56.179443Z"
    }
   },
   "outputs": [],
   "source": [
    "class Programmer(Employees):\n",
    "\n",
    "    def __init__(self, isim, soyisim, yas, maas, dil):\n",
    "        super().__init__(isim, soyisim, yas, maas) \n",
    "        self.program_name = dil"
   ]
  },
  {
   "cell_type": "code",
   "execution_count": 44,
   "id": "41f3f3ca",
   "metadata": {
    "ExecuteTime": {
     "end_time": "2024-05-16T03:15:56.621793Z",
     "start_time": "2024-05-16T03:15:56.618750Z"
    }
   },
   "outputs": [],
   "source": [
    "p4 = Programmer(\"Sami\", \"Y\", 22, 5000, \"Pull Stack Developer\")"
   ]
  },
  {
   "cell_type": "code",
   "execution_count": 45,
   "id": "9b214b66",
   "metadata": {
    "ExecuteTime": {
     "end_time": "2024-05-16T03:15:57.010934Z",
     "start_time": "2024-05-16T03:15:57.005826Z"
    }
   },
   "outputs": [
    {
     "data": {
      "text/plain": [
       "{'name': 'Sami',\n",
       " 'surname': 'Y',\n",
       " 'age': 22,\n",
       " 'salary': 5000,\n",
       " 'raise_amount': 1.4,\n",
       " 'program_name': 'Pull Stack Developer'}"
      ]
     },
     "execution_count": 45,
     "metadata": {},
     "output_type": "execute_result"
    }
   ],
   "source": [
    "p4.__dict__"
   ]
  },
  {
   "cell_type": "code",
   "execution_count": 46,
   "id": "847fcae1",
   "metadata": {
    "ExecuteTime": {
     "end_time": "2024-05-16T03:15:57.570433Z",
     "start_time": "2024-05-16T03:15:57.567323Z"
    }
   },
   "outputs": [],
   "source": [
    "#########################################"
   ]
  },
  {
   "cell_type": "markdown",
   "id": "202c7d49",
   "metadata": {},
   "source": [
    "Bu koddaki super() ile baslayan satir,\n",
    "\n",
    "```python\n",
    "class Programmer(Employees):\n",
    "\n",
    "    def __init__(self, isim, soyisim, yas, maas, dil):\n",
    "        super().__init__(isim, soyisim, yas, maas) \n",
    "        self.program_name = dil\n",
    "```\n",
    "\n",
    "Bu sekilde de yazilabiliyor:\n",
    "\n",
    "```python\n",
    "class Programmer(Employees):\n",
    "\n",
    "    def __init__(self, isim, soyisim, yas, maas, dil):\n",
    "        Employees.__init__(self, isim, soyisim, yas, maas)\n",
    "        self.program_name = dil\n",
    "```\n"
   ]
  },
  {
   "cell_type": "code",
   "execution_count": 47,
   "id": "9bda361c",
   "metadata": {
    "ExecuteTime": {
     "end_time": "2024-05-16T03:15:58.891951Z",
     "start_time": "2024-05-16T03:15:58.890072Z"
    }
   },
   "outputs": [],
   "source": [
    "#########################################"
   ]
  },
  {
   "cell_type": "code",
   "execution_count": 48,
   "id": "3c1bafc7",
   "metadata": {
    "ExecuteTime": {
     "end_time": "2024-05-16T03:15:59.434384Z",
     "start_time": "2024-05-16T03:15:59.431225Z"
    }
   },
   "outputs": [],
   "source": [
    "class Programmer(Employees):\n",
    "\n",
    "    def __init__(self, isim, soyisim, yas, maas, dil):\n",
    "        super().__init__(isim, soyisim, yas, maas)  # Employees'de tanimladik zaten tekrar tek tek yazmiyoruz\n",
    "        self.program_name = dil\n",
    "    \n",
    "    def person_info(self, tecrube_yil):\n",
    "        self.experience = tecrube_yil\n",
    "\n",
    "        print(f\"isim: {self.name}, soyisim: {self.surname}, yaş: {self.age}, maas: {self.salary}, dil: {self.program_name}, tecrube: {self.experience} \")"
   ]
  },
  {
   "cell_type": "code",
   "execution_count": 49,
   "id": "15689c12",
   "metadata": {
    "ExecuteTime": {
     "end_time": "2024-05-16T03:15:59.932853Z",
     "start_time": "2024-05-16T03:15:59.929808Z"
    }
   },
   "outputs": [],
   "source": [
    "p5 = Programmer(\"Sami\", \"Y\", 24, 6000, \"Python\")"
   ]
  },
  {
   "cell_type": "code",
   "execution_count": 50,
   "id": "5cad29d3",
   "metadata": {
    "ExecuteTime": {
     "end_time": "2024-05-16T03:16:00.472315Z",
     "start_time": "2024-05-16T03:16:00.468915Z"
    }
   },
   "outputs": [
    {
     "name": "stdout",
     "output_type": "stream",
     "text": [
      "isim: Sami, soyisim: Y, yaş: 24, maas: 6000, dil: Python, tecrube: 5 \n"
     ]
    }
   ],
   "source": [
    "p5.person_info(5)"
   ]
  },
  {
   "cell_type": "code",
   "execution_count": 51,
   "id": "dc08cce2",
   "metadata": {
    "ExecuteTime": {
     "end_time": "2024-05-16T03:16:01.045139Z",
     "start_time": "2024-05-16T03:16:01.039714Z"
    }
   },
   "outputs": [],
   "source": [
    "class Manager(Employees):\n",
    "\n",
    "    def __init__(self, isim, soyisim, yas, maas, calisan = None):\n",
    "        super().__init__(isim, soyisim, yas, maas)\n",
    "        \n",
    "        if calisan == None:\n",
    "            self.employee = []\n",
    "        else:\n",
    "            self.employee = calisan\n",
    "    \n",
    "    def add_employee(self, calisan):\n",
    "        self.employee.append(calisan)\n",
    "\n",
    "    def remove_employee(self, calisan):\n",
    "        self.employee.remove(calisan)\n",
    "    \n",
    "    def show_employee(self):\n",
    "        for i in self.employee:\n",
    "            i.show_person_info()"
   ]
  },
  {
   "cell_type": "code",
   "execution_count": 52,
   "id": "c9c47c36",
   "metadata": {
    "ExecuteTime": {
     "end_time": "2024-05-16T03:16:01.487149Z",
     "start_time": "2024-05-16T03:16:01.483226Z"
    }
   },
   "outputs": [],
   "source": [
    "m1 = Manager(\"Nazım\", \"Ç\", 32, 5000)"
   ]
  },
  {
   "cell_type": "code",
   "execution_count": 53,
   "id": "45f66add",
   "metadata": {
    "ExecuteTime": {
     "end_time": "2024-05-16T03:16:01.958753Z",
     "start_time": "2024-05-16T03:16:01.953723Z"
    }
   },
   "outputs": [
    {
     "data": {
      "text/plain": [
       "{'name': 'Nazım',\n",
       " 'surname': 'Ç',\n",
       " 'age': 32,\n",
       " 'salary': 5000,\n",
       " 'raise_amount': 1.4,\n",
       " 'employee': []}"
      ]
     },
     "execution_count": 53,
     "metadata": {},
     "output_type": "execute_result"
    }
   ],
   "source": [
    "m1.__dict__"
   ]
  },
  {
   "cell_type": "code",
   "execution_count": 54,
   "id": "700715e1",
   "metadata": {
    "ExecuteTime": {
     "end_time": "2024-05-16T03:16:02.761768Z",
     "start_time": "2024-05-16T03:16:02.758705Z"
    }
   },
   "outputs": [],
   "source": [
    "e7 = Employees(\"Hüma\", \"G\", 23, 5000)\n",
    "e8 = Employees(\"Murat\", \"A\", 25, 6000)"
   ]
  },
  {
   "cell_type": "code",
   "execution_count": 55,
   "id": "d23184e8",
   "metadata": {
    "ExecuteTime": {
     "end_time": "2024-05-16T03:16:03.572157Z",
     "start_time": "2024-05-16T03:16:03.568742Z"
    }
   },
   "outputs": [],
   "source": [
    "m1.add_employee(e7)"
   ]
  },
  {
   "cell_type": "code",
   "execution_count": 56,
   "id": "e07fbb1e",
   "metadata": {
    "ExecuteTime": {
     "end_time": "2024-05-16T03:16:04.673844Z",
     "start_time": "2024-05-16T03:16:04.669153Z"
    }
   },
   "outputs": [
    {
     "data": {
      "text/plain": [
       "{'name': 'Nazım',\n",
       " 'surname': 'Ç',\n",
       " 'age': 32,\n",
       " 'salary': 5000,\n",
       " 'raise_amount': 1.4,\n",
       " 'employee': [<__main__.Employees at 0x211a540bb90>]}"
      ]
     },
     "execution_count": 56,
     "metadata": {},
     "output_type": "execute_result"
    }
   ],
   "source": [
    "m1.__dict__"
   ]
  },
  {
   "cell_type": "code",
   "execution_count": 57,
   "id": "d96ba50f",
   "metadata": {
    "ExecuteTime": {
     "end_time": "2024-05-16T03:16:06.267230Z",
     "start_time": "2024-05-16T03:16:06.263521Z"
    }
   },
   "outputs": [
    {
     "name": "stdout",
     "output_type": "stream",
     "text": [
      "isim: Hüma, soyisim: G, yaş: 23, maas: 5000\n"
     ]
    }
   ],
   "source": [
    "m1.show_employee()"
   ]
  },
  {
   "cell_type": "markdown",
   "id": "7df52596",
   "metadata": {},
   "source": [
    "#### Bu kisim Onemli!"
   ]
  },
  {
   "cell_type": "code",
   "execution_count": 165,
   "id": "95fcd15b",
   "metadata": {
    "ExecuteTime": {
     "end_time": "2024-05-16T00:20:10.919862Z",
     "start_time": "2024-05-16T00:20:10.907075Z"
    }
   },
   "outputs": [],
   "source": [
    "import pandas as pd\n",
    "from datetime import datetime\n",
    "\n",
    "class Employees:\n",
    "    raise_rate = 1.3\n",
    "    employee_log = []\n",
    "\n",
    "    def __init__(self, isim, soyisim, maaş):\n",
    "        self.name = isim\n",
    "        self.surname = soyisim\n",
    "        self.salary = maaş\n",
    "\n",
    "    def show_info(self):\n",
    "        print(f\"Name: {self.name} Surname: {self.surname} Salary: {self.salary}\")\n",
    "\n",
    "    @classmethod\n",
    "    def log_employee_action(cls, durum, çalışan):\n",
    "        cls.employee_log.append({\n",
    "            \"Action\": durum,\n",
    "            \"Name\": çalışan.name,\n",
    "            \"Surname\": çalışan.surname,\n",
    "            \"Salary\": çalışan.salary,\n",
    "            \"process_time\": datetime.now().strftime(\"%Y-%m-%d %H:%M:%S\")\n",
    "        })\n",
    "\n",
    "        \n",
    "############################################################################\n",
    "\n",
    "        \n",
    "class Programmer(Employees):\n",
    "    def __init__(self, isim, soyisim, maaş, dil):\n",
    "        super().__init__(isim, soyisim, maaş)\n",
    "        self.program_language = dil\n",
    "    raise_rate = 1.5\n",
    "\n",
    "    \n",
    "############################################################################\n",
    "    \n",
    "class Manager(Employees):\n",
    "    def __init__(self, isim, soyisim, maaş, çalışan=None):\n",
    "        super().__init__(isim, soyisim, maaş)\n",
    "        self.employee = çalışan if çalışan else []\n",
    "\n",
    "    def add_employe(self, çalışan):\n",
    "        if çalışan not in self.employee:\n",
    "            self.employee.append(çalışan)\n",
    "            Employees.log_employee_action(\"Added\", çalışan)  # log_employee_action Employee'deki classmethod\n",
    "\n",
    "    def remove_employe(self, çalışan):\n",
    "        if çalışan in self.employee:\n",
    "            self.employee.remove(çalışan)\n",
    "            Employees.log_employee_action(\"Removed\", çalışan)\n",
    "\n",
    "    def show_employe(self):\n",
    "        for i in self.employee:\n",
    "            i.show_info()"
   ]
  },
  {
   "cell_type": "code",
   "execution_count": 166,
   "id": "79153bb9",
   "metadata": {
    "ExecuteTime": {
     "end_time": "2024-05-16T00:20:11.460389Z",
     "start_time": "2024-05-16T00:20:11.456399Z"
    }
   },
   "outputs": [],
   "source": [
    "# 4 tane Employee tanimladik\n",
    "\n",
    "e1 = Employees(\"Ahmet\", \"A\", 5000)\n",
    "e2 = Employees(\"Mehmet\", \"B\", 6000)\n",
    "e3 = Employees(\"Yılmaz\", \"C\", 4000)\n",
    "e4 = Employees(\"Cüneyt\", \"D\", 3000)"
   ]
  },
  {
   "cell_type": "code",
   "execution_count": 167,
   "id": "00c75211",
   "metadata": {
    "ExecuteTime": {
     "end_time": "2024-05-16T00:20:12.063304Z",
     "start_time": "2024-05-16T00:20:12.059566Z"
    }
   },
   "outputs": [
    {
     "name": "stdout",
     "output_type": "stream",
     "text": [
      "Name: Ahmet Surname: A Salary: 5000\n"
     ]
    }
   ],
   "source": [
    "e1.show_info()"
   ]
  },
  {
   "cell_type": "code",
   "execution_count": 168,
   "id": "e396d04d",
   "metadata": {
    "ExecuteTime": {
     "end_time": "2024-05-16T00:20:12.567220Z",
     "start_time": "2024-05-16T00:20:12.562733Z"
    }
   },
   "outputs": [],
   "source": [
    "# 2 tane Programmer tanimladik\n",
    "\n",
    "p1 = Programmer(\"Şule\", \"B\", 4000, \"Pyhton\")\n",
    "p2 = Programmer(\"Ayşe\", \"A\", 2500, \"Java\")"
   ]
  },
  {
   "cell_type": "code",
   "execution_count": 169,
   "id": "319d8b7f",
   "metadata": {
    "ExecuteTime": {
     "end_time": "2024-05-16T00:20:13.149364Z",
     "start_time": "2024-05-16T00:20:13.145957Z"
    }
   },
   "outputs": [],
   "source": [
    "# Bi tane manager tanimladik\n",
    "\n",
    "m1 = Manager(\"Hüma\", \"C\", 8000)"
   ]
  },
  {
   "cell_type": "code",
   "execution_count": 170,
   "id": "03a9e25a",
   "metadata": {
    "ExecuteTime": {
     "end_time": "2024-05-16T00:20:13.673695Z",
     "start_time": "2024-05-16T00:20:13.670555Z"
    }
   },
   "outputs": [],
   "source": [
    "# Manager'daki employee'ye 3 tane calisan ekledik\n",
    "\n",
    "m1.add_employe(e1)\n",
    "m1.add_employe(e3)\n",
    "m1.add_employe(p1) # Programmer da add_employe ile eklendi"
   ]
  },
  {
   "cell_type": "code",
   "execution_count": 171,
   "id": "d0ef5d60",
   "metadata": {
    "ExecuteTime": {
     "end_time": "2024-05-16T00:20:14.118013Z",
     "start_time": "2024-05-16T00:20:14.114173Z"
    }
   },
   "outputs": [
    {
     "name": "stdout",
     "output_type": "stream",
     "text": [
      "Name: Hüma Surname: C Salary: 8000\n"
     ]
    }
   ],
   "source": [
    "m1.show_info()"
   ]
  },
  {
   "cell_type": "code",
   "execution_count": 172,
   "id": "cc4fc276",
   "metadata": {
    "ExecuteTime": {
     "end_time": "2024-05-16T00:20:14.656723Z",
     "start_time": "2024-05-16T00:20:14.653649Z"
    }
   },
   "outputs": [
    {
     "name": "stdout",
     "output_type": "stream",
     "text": [
      "Name: Ahmet Surname: A Salary: 5000\n",
      "Name: Yılmaz Surname: C Salary: 4000\n",
      "Name: Şule Surname: B Salary: 4000\n"
     ]
    }
   ],
   "source": [
    "m1.show_employe()"
   ]
  },
  {
   "cell_type": "code",
   "execution_count": 173,
   "id": "6a9d25c2",
   "metadata": {
    "ExecuteTime": {
     "end_time": "2024-05-16T00:20:15.171597Z",
     "start_time": "2024-05-16T00:20:15.167221Z"
    }
   },
   "outputs": [
    {
     "data": {
      "text/plain": [
       "[{'Action': 'Added',\n",
       "  'Name': 'Ahmet',\n",
       "  'Surname': 'A',\n",
       "  'Salary': 5000,\n",
       "  'process_time': '2024-05-16 01:20:13'},\n",
       " {'Action': 'Added',\n",
       "  'Name': 'Yılmaz',\n",
       "  'Surname': 'C',\n",
       "  'Salary': 4000,\n",
       "  'process_time': '2024-05-16 01:20:13'},\n",
       " {'Action': 'Added',\n",
       "  'Name': 'Şule',\n",
       "  'Surname': 'B',\n",
       "  'Salary': 4000,\n",
       "  'process_time': '2024-05-16 01:20:13'}]"
      ]
     },
     "execution_count": 173,
     "metadata": {},
     "output_type": "execute_result"
    }
   ],
   "source": [
    "m1.employee_log"
   ]
  },
  {
   "cell_type": "code",
   "execution_count": 174,
   "id": "c91275f6",
   "metadata": {
    "ExecuteTime": {
     "end_time": "2024-05-16T00:20:15.819561Z",
     "start_time": "2024-05-16T00:20:15.815076Z"
    }
   },
   "outputs": [
    {
     "data": {
      "text/plain": [
       "{'name': 'Hüma',\n",
       " 'surname': 'C',\n",
       " 'salary': 8000,\n",
       " 'employee': [<__main__.Employees at 0x2333209af10>,\n",
       "  <__main__.Employees at 0x23332098c10>,\n",
       "  <__main__.Programmer at 0x2333208e890>]}"
      ]
     },
     "execution_count": 174,
     "metadata": {},
     "output_type": "execute_result"
    }
   ],
   "source": [
    "m1.__dict__"
   ]
  },
  {
   "cell_type": "code",
   "execution_count": 175,
   "id": "33ed6d69",
   "metadata": {
    "ExecuteTime": {
     "end_time": "2024-05-16T00:20:16.349162Z",
     "start_time": "2024-05-16T00:20:16.346145Z"
    }
   },
   "outputs": [],
   "source": [
    "# ekledigimiz calisanlari geri cikardik\n",
    "\n",
    "m1.remove_employe(e1)\n",
    "m1.remove_employe(e3)\n",
    "m1.remove_employe(p1)"
   ]
  },
  {
   "cell_type": "code",
   "execution_count": 176,
   "id": "f792bcbf",
   "metadata": {
    "ExecuteTime": {
     "end_time": "2024-05-16T00:20:16.818006Z",
     "start_time": "2024-05-16T00:20:16.812360Z"
    }
   },
   "outputs": [
    {
     "data": {
      "text/plain": [
       "{'name': 'Hüma', 'surname': 'C', 'salary': 8000, 'employee': []}"
      ]
     },
     "execution_count": 176,
     "metadata": {},
     "output_type": "execute_result"
    }
   ],
   "source": [
    "m1.__dict__"
   ]
  },
  {
   "cell_type": "code",
   "execution_count": 177,
   "id": "d21edcbd",
   "metadata": {
    "ExecuteTime": {
     "end_time": "2024-05-16T00:20:18.679816Z",
     "start_time": "2024-05-16T00:20:17.806289Z"
    }
   },
   "outputs": [],
   "source": [
    "employee_df = pd.DataFrame(Employees.employee_log)\n",
    "employee_df.to_excel(\"log_kayıtları.xlsx\", index=False)"
   ]
  }
 ],
 "metadata": {
  "hide_input": false,
  "kernelspec": {
   "display_name": "Python 3 (ipykernel)",
   "language": "python",
   "name": "python3"
  },
  "language_info": {
   "codemirror_mode": {
    "name": "ipython",
    "version": 3
   },
   "file_extension": ".py",
   "mimetype": "text/x-python",
   "name": "python",
   "nbconvert_exporter": "python",
   "pygments_lexer": "ipython3",
   "version": "3.11.1"
  },
  "toc": {
   "base_numbering": 1,
   "nav_menu": {},
   "number_sections": true,
   "sideBar": true,
   "skip_h1_title": false,
   "title_cell": "Table of Contents",
   "title_sidebar": "Contents",
   "toc_cell": false,
   "toc_position": {
    "height": "calc(100% - 180px)",
    "left": "10px",
    "top": "150px",
    "width": "357.665px"
   },
   "toc_section_display": true,
   "toc_window_display": true
  }
 },
 "nbformat": 4,
 "nbformat_minor": 5
}
