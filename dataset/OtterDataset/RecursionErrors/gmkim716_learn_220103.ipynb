{
 "cells": [
  {
   "cell_type": "code",
   "execution_count": 1,
   "id": "7164e37f-3cee-4804-a8c5-e8bb4911fd54",
   "metadata": {},
   "outputs": [],
   "source": [
    "# 단지 번호 붙이기 코드 복습"
   ]
  },
  {
   "cell_type": "code",
   "execution_count": 58,
   "id": "9b6849e9-0f80-4fff-825d-c802ee7c4fd1",
   "metadata": {},
   "outputs": [
    {
     "name": "stdin",
     "output_type": "stream",
     "text": [
      " 7\n",
      " 0110100\n",
      " 0110101\n",
      " 1110101\n",
      " 0000111\n",
      " 0100000\n",
      " 0111110\n",
      " 0111000\n"
     ]
    },
    {
     "name": "stdout",
     "output_type": "stream",
     "text": [
      "[7, 8, 9]\n",
      "3\n",
      "7\n",
      "8\n",
      "9\n"
     ]
    }
   ],
   "source": [
    "# n의 개수, graph, visited 정의\n",
    "n = int(input())\n",
    "graph = [[0]*n for _ in range(n)]\n",
    "visited = [[False]*n for _ in range(n)]\n",
    "\n",
    "# 입력값 graph에 기입\n",
    "for i in range(n):\n",
    "    line = input()\n",
    "    for j, b in enumerate(line):\n",
    "        graph[i][j] = int(b)\n",
    "        \n",
    "# 상하좌우 이동 설정 \n",
    "dx = [0, 0, -1, 1]\n",
    "dy = [1, -1, 0, 0]\n",
    "\n",
    "# dfs 정의\n",
    "def dfs(x, y):\n",
    "    global cnt    # 함수 작성 후 추가 \n",
    "    visited[x][y] = True\n",
    "    if graph[x][y] == 1:\n",
    "        cnt += 1\n",
    "    for i in range(4):\n",
    "        nx = x + dx[i]\n",
    "        ny = y + dy[i]\n",
    "        if 0 <= nx < n and 0 <= ny < n:\n",
    "            if visited[nx][ny] == False and graph[nx][ny] == 1:\n",
    "                dfs(nx, ny)\n",
    "\n",
    "cnt = 0\n",
    "numlist = []\n",
    "\n",
    "# 준비된 dfs를 가지고 graph를 탐색\n",
    "for x in range(n):\n",
    "    for y in range(n):\n",
    "        if graph[x][y] == 1 and visited[x][y] == False:\n",
    "            dfs(x, y)\n",
    "            numlist.append(cnt)  # cnt된 묶음을 numlist에 입력 \n",
    "            cnt = 0  # cnt를 초기화해서 다음 계산에 영향을 주지 않도록\n",
    "\n",
    "# 문제 답 도출\n",
    "print(len(numlist))\n",
    "for n in sorted(numlist):\n",
    "    print(n)"
   ]
  },
  {
   "cell_type": "code",
   "execution_count": 1,
   "id": "6bd3b614-7ab2-4871-932d-8191d3f8f125",
   "metadata": {},
   "outputs": [],
   "source": [
    "# Silver I\n",
    "# 2667 단지번호 붙이기"
   ]
  },
  {
   "cell_type": "code",
   "execution_count": 11,
   "id": "1a8a10de-be81-462a-ac6d-7f1ca9dfbaba",
   "metadata": {},
   "outputs": [
    {
     "name": "stdin",
     "output_type": "stream",
     "text": [
      " 7\n",
      " 0110100\n",
      " 0110101\n",
      " 1110101\n",
      " 0000111\n",
      " 0100000\n",
      " 0111110\n",
      " 0111000\n"
     ]
    },
    {
     "name": "stdout",
     "output_type": "stream",
     "text": [
      "3\n",
      "7\n",
      "8\n",
      "9\n"
     ]
    }
   ],
   "source": [
    "n = int(input())\n",
    "graph = [[0]*n for _ in range(n)]\n",
    "visited = [[False]*n for _ in range(n)]\n",
    "\n",
    "for i in range(n):\n",
    "    line = input()\n",
    "    for j, b in enumerate(line):\n",
    "        graph[i][j] = int(b)\n",
    "\n",
    "dx = [0, 0, -1, 1]\n",
    "dy = [1, -1, 0, 0]\n",
    "\n",
    "def dfs(x, y):\n",
    "    global cnt\n",
    "    visited[x][y] = True\n",
    "    if graph[x][y] == 1:\n",
    "        cnt += 1 \n",
    "    for i in range(4):\n",
    "        nx = x + dx[i]\n",
    "        ny = y + dy[i]\n",
    "        if 0 <= nx < n and 0 <= ny < n:\n",
    "            if visited[nx][ny] == False and graph[nx][ny] == 1:\n",
    "                dfs(nx, ny)\n",
    "                \n",
    "cnt = 0\n",
    "housing = []\n",
    "for i in range(n):\n",
    "    for j in range(n):\n",
    "        if graph[i][j] == 1 and visited[i][j] == False: \n",
    "            dfs(i, j)\n",
    "            housing.append(cnt)\n",
    "            cnt = 0\n",
    "\n",
    "housing.sort()\n",
    "print(len(housing))\n",
    "for i in housing:\n",
    "    print(i)"
   ]
  },
  {
   "cell_type": "code",
   "execution_count": 13,
   "id": "8629d6a0-2eed-4e69-9090-78f57ba32dae",
   "metadata": {},
   "outputs": [],
   "source": [
    "# Silver II\n",
    "# 1012 유기농 배추"
   ]
  },
  {
   "cell_type": "code",
   "execution_count": 34,
   "id": "d7d98bc1-e7fb-422c-aa4a-49db053774c6",
   "metadata": {},
   "outputs": [
    {
     "name": "stdin",
     "output_type": "stream",
     "text": [
      " 1\n",
      " 5 3 6\n",
      " 0 2\n",
      " 1 2\n",
      " 2 2\n",
      " 3 2\n",
      " 4 2\n",
      " 4 0\n"
     ]
    },
    {
     "ename": "RecursionError",
     "evalue": "maximum recursion depth exceeded in comparison",
     "output_type": "error",
     "traceback": [
      "\u001b[1;31m---------------------------------------------------------------------------\u001b[0m",
      "\u001b[1;31mRecursionError\u001b[0m                            Traceback (most recent call last)",
      "\u001b[1;32m~\\AppData\\Local\\Temp/ipykernel_25484/147909727.py\u001b[0m in \u001b[0;36m<module>\u001b[1;34m\u001b[0m\n\u001b[0;32m     25\u001b[0m         \u001b[1;32mfor\u001b[0m \u001b[0mb\u001b[0m \u001b[1;32min\u001b[0m \u001b[0mrange\u001b[0m\u001b[1;33m(\u001b[0m\u001b[0mN\u001b[0m\u001b[1;33m)\u001b[0m\u001b[1;33m:\u001b[0m\u001b[1;33m\u001b[0m\u001b[1;33m\u001b[0m\u001b[0m\n\u001b[0;32m     26\u001b[0m             \u001b[1;32mif\u001b[0m \u001b[0mgraph\u001b[0m\u001b[1;33m[\u001b[0m\u001b[0mb\u001b[0m\u001b[1;33m]\u001b[0m\u001b[1;33m[\u001b[0m\u001b[0ma\u001b[0m\u001b[1;33m]\u001b[0m \u001b[1;33m==\u001b[0m \u001b[1;36m1\u001b[0m\u001b[1;33m:\u001b[0m\u001b[1;33m\u001b[0m\u001b[1;33m\u001b[0m\u001b[0m\n\u001b[1;32m---> 27\u001b[1;33m                 \u001b[0mdfs\u001b[0m\u001b[1;33m(\u001b[0m\u001b[0ma\u001b[0m\u001b[1;33m,\u001b[0m \u001b[0mb\u001b[0m\u001b[1;33m)\u001b[0m\u001b[1;33m\u001b[0m\u001b[1;33m\u001b[0m\u001b[0m\n\u001b[0m\u001b[0;32m     28\u001b[0m                 \u001b[0mcnt\u001b[0m \u001b[1;33m+=\u001b[0m \u001b[1;36m1\u001b[0m\u001b[1;33m\u001b[0m\u001b[1;33m\u001b[0m\u001b[0m\n\u001b[0;32m     29\u001b[0m \u001b[1;33m\u001b[0m\u001b[0m\n",
      "\u001b[1;32m~\\AppData\\Local\\Temp/ipykernel_25484/147909727.py\u001b[0m in \u001b[0;36mdfs\u001b[1;34m(x, y)\u001b[0m\n\u001b[0;32m     10\u001b[0m         \u001b[1;32mif\u001b[0m \u001b[1;36m0\u001b[0m \u001b[1;33m<=\u001b[0m \u001b[0mnx\u001b[0m \u001b[1;33m<\u001b[0m \u001b[0mM\u001b[0m \u001b[1;32mand\u001b[0m \u001b[1;36m0\u001b[0m \u001b[1;33m<=\u001b[0m \u001b[0mny\u001b[0m \u001b[1;33m<\u001b[0m \u001b[0mN\u001b[0m\u001b[1;33m:\u001b[0m\u001b[1;33m\u001b[0m\u001b[1;33m\u001b[0m\u001b[0m\n\u001b[0;32m     11\u001b[0m             \u001b[1;32mif\u001b[0m \u001b[0mgraph\u001b[0m\u001b[1;33m[\u001b[0m\u001b[0mny\u001b[0m\u001b[1;33m]\u001b[0m\u001b[1;33m[\u001b[0m\u001b[0mnx\u001b[0m\u001b[1;33m]\u001b[0m \u001b[1;33m==\u001b[0m \u001b[1;36m1\u001b[0m\u001b[1;33m:\u001b[0m\u001b[1;33m\u001b[0m\u001b[1;33m\u001b[0m\u001b[0m\n\u001b[1;32m---> 12\u001b[1;33m                 \u001b[0mdfs\u001b[0m\u001b[1;33m(\u001b[0m\u001b[0mnx\u001b[0m\u001b[1;33m,\u001b[0m \u001b[0mny\u001b[0m\u001b[1;33m)\u001b[0m\u001b[1;33m\u001b[0m\u001b[1;33m\u001b[0m\u001b[0m\n\u001b[0m\u001b[0;32m     13\u001b[0m \u001b[1;33m\u001b[0m\u001b[0m\n\u001b[0;32m     14\u001b[0m \u001b[1;33m\u001b[0m\u001b[0m\n",
      "... last 1 frames repeated, from the frame below ...\n",
      "\u001b[1;32m~\\AppData\\Local\\Temp/ipykernel_25484/147909727.py\u001b[0m in \u001b[0;36mdfs\u001b[1;34m(x, y)\u001b[0m\n\u001b[0;32m     10\u001b[0m         \u001b[1;32mif\u001b[0m \u001b[1;36m0\u001b[0m \u001b[1;33m<=\u001b[0m \u001b[0mnx\u001b[0m \u001b[1;33m<\u001b[0m \u001b[0mM\u001b[0m \u001b[1;32mand\u001b[0m \u001b[1;36m0\u001b[0m \u001b[1;33m<=\u001b[0m \u001b[0mny\u001b[0m \u001b[1;33m<\u001b[0m \u001b[0mN\u001b[0m\u001b[1;33m:\u001b[0m\u001b[1;33m\u001b[0m\u001b[1;33m\u001b[0m\u001b[0m\n\u001b[0;32m     11\u001b[0m             \u001b[1;32mif\u001b[0m \u001b[0mgraph\u001b[0m\u001b[1;33m[\u001b[0m\u001b[0mny\u001b[0m\u001b[1;33m]\u001b[0m\u001b[1;33m[\u001b[0m\u001b[0mnx\u001b[0m\u001b[1;33m]\u001b[0m \u001b[1;33m==\u001b[0m \u001b[1;36m1\u001b[0m\u001b[1;33m:\u001b[0m\u001b[1;33m\u001b[0m\u001b[1;33m\u001b[0m\u001b[0m\n\u001b[1;32m---> 12\u001b[1;33m                 \u001b[0mdfs\u001b[0m\u001b[1;33m(\u001b[0m\u001b[0mnx\u001b[0m\u001b[1;33m,\u001b[0m \u001b[0mny\u001b[0m\u001b[1;33m)\u001b[0m\u001b[1;33m\u001b[0m\u001b[1;33m\u001b[0m\u001b[0m\n\u001b[0m\u001b[0;32m     13\u001b[0m \u001b[1;33m\u001b[0m\u001b[0m\n\u001b[0;32m     14\u001b[0m \u001b[1;33m\u001b[0m\u001b[0m\n",
      "\u001b[1;31mRecursionError\u001b[0m: maximum recursion depth exceeded in comparison"
     ]
    }
   ],
   "source": [
    "# 코드 참고 정답 수정\n",
    "\n",
    "T = int(input())\n",
    "\n",
    "def dfs(x, y):\n",
    "    dx = [0,0,-1,1]\n",
    "    dy = [1,-1,0,0]\n",
    "    \n",
    "    for i in range(4):\n",
    "        nx = x + dx[i]\n",
    "        ny = y + dy[i]\n",
    "        if 0 <= nx < M and 0 <= ny < N:\n",
    "            if graph[ny][nx] == 1:\n",
    "                dfs(nx, ny)\n",
    "\n",
    "                \n",
    "for i in range(T):\n",
    "    M, N, K = map(int, input().split())\n",
    "    graph = [[0]*M for i in range(N)]\n",
    "    cnt = 0\n",
    "    \n",
    "    for j in range(K):\n",
    "        X, Y = map(int, input().split())\n",
    "        graph[Y][X] = 1\n",
    "    \n",
    "    for a in range(M):\n",
    "        for b in range(N):\n",
    "            if graph[b][a] == 1:\n",
    "                dfs(a, b)\n",
    "                cnt += 1\n",
    "    \n",
    "    print(cnt)"
   ]
  },
  {
   "cell_type": "code",
   "execution_count": 2,
   "id": "4d533d26-c094-4301-92e4-00bf77a4e5f3",
   "metadata": {},
   "outputs": [
    {
     "name": "stdin",
     "output_type": "stream",
     "text": [
      " 1\n",
      " 5 3 6\n",
      " 0 2\n",
      " 1 2\n",
      " 2 2\n",
      " 3 2\n",
      " 4 2\n",
      " 4 0\n"
     ]
    },
    {
     "name": "stdout",
     "output_type": "stream",
     "text": [
      "2\n"
     ]
    }
   ],
   "source": [
    "T = int(input())\n",
    "\n",
    "def dfs(x, y):\n",
    "    dy = [0,0,-1,1]\n",
    "    dx = [1,-1,0,0]\n",
    "    \n",
    "    for i in range(4):\n",
    "        nx = x + dx[i]\n",
    "        ny = y + dy[i]\n",
    "        if 0 <= nx < N and 0 <= ny < M:\n",
    "            if graph[nx][ny] == 1:\n",
    "                graph[nx][ny] = -1\n",
    "                dfs(nx, ny)\n",
    "\n",
    "                \n",
    "for i in range(T):\n",
    "    M, N, K = map(int, input().split())\n",
    "    graph = [[0]*M for i in range(N)]\n",
    "    cnt = 0\n",
    "    \n",
    "    for j in range(K):\n",
    "        X, Y = map(int, input().split())\n",
    "        graph[Y][X] = 1\n",
    "    \n",
    "    for a in range(N):\n",
    "        for b in range(M):\n",
    "            if graph[a][b] == 1:\n",
    "                dfs(a, b)\n",
    "                cnt += 1\n",
    "    \n",
    "    print(cnt)"
   ]
  },
  {
   "cell_type": "code",
   "execution_count": 3,
   "id": "b5d6d4dd-f457-4d93-b396-e8fbf26c7b36",
   "metadata": {},
   "outputs": [
    {
     "name": "stdin",
     "output_type": "stream",
     "text": [
      " 1\n",
      " 5 3 6\n",
      " 0 2\n",
      " 1 2\n",
      " 2 2\n",
      " 3 2\n",
      " 4 2\n",
      " 4 0\n"
     ]
    },
    {
     "name": "stdout",
     "output_type": "stream",
     "text": [
      "2\n"
     ]
    }
   ],
   "source": [
    "# 다시 혼자 풀어보기_220104\n",
    "\n",
    "def dfs(x, y):\n",
    "    dx = [0,0,-1,1]\n",
    "    dy = [1,-1,0,0]\n",
    "    for i in range(4):\n",
    "        nx = x + dx[i]\n",
    "        ny = y + dy[i]\n",
    "        if 0<=nx<M and 0<=ny<N:\n",
    "            if graph[ny][nx] == 1:\n",
    "                graph[ny][nx] = -1\n",
    "                dfs(nx, ny)\n",
    "\n",
    "T = int(input())\n",
    "\n",
    "for _ in range(T):\n",
    "    M, N, K = map(int, input().split())\n",
    "    graph = [[0]*M for i in range(N)]\n",
    "    cnt = 0\n",
    "    for i in range(K):\n",
    "        X, Y = map(int, input().split())\n",
    "        graph[Y][X] = 1\n",
    "        \n",
    "    for x in range(M):\n",
    "        for y in range(N):\n",
    "            if graph[y][x] == 1:\n",
    "                dfs(x, y)\n",
    "                cnt += 1\n",
    "                \n",
    "    print(cnt)"
   ]
  }
 ],
 "metadata": {
  "kernelspec": {
   "display_name": "Python 3 (ipykernel)",
   "language": "python",
   "name": "python3"
  },
  "language_info": {
   "codemirror_mode": {
    "name": "ipython",
    "version": 3
   },
   "file_extension": ".py",
   "mimetype": "text/x-python",
   "name": "python",
   "nbconvert_exporter": "python",
   "pygments_lexer": "ipython3",
   "version": "3.8.12"
  }
 },
 "nbformat": 4,
 "nbformat_minor": 5
}
