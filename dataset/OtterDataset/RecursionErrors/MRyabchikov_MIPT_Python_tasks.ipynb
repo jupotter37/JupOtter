{
 "cells": [
  {
   "cell_type": "markdown",
   "id": "72f00248-6435-4379-80f8-33ad70d7c22b",
   "metadata": {
    "tags": []
   },
   "source": [
    "## Задача 1"
   ]
  },
  {
   "cell_type": "markdown",
   "id": "70d69579-127f-4cd3-81e6-9d133ac486d5",
   "metadata": {},
   "source": [
    "Дана функция и список целочисленных переменных.\n",
    "\n",
    "Написать функцию, которая считает значение функции для каждого элемента из списка. И возвращает результат работы одной из следующих оперций над полученными значениями функции:\n",
    "- Сумму всех элементов (\"sum\")\n",
    "- Максимальное значение (\"max\")\n",
    "- Минимальное значение (\"min\")\n",
    "- Среднее значение (\"mean\")\n",
    "- Медианное значение (\"med\")\n",
    "\n",
    "Если при вызове функции не указана операция, то она должна возвращать произведение всех элементов."
   ]
  },
  {
   "cell_type": "code",
   "execution_count": 3,
   "id": "f4cff83c-95a3-410e-bd38-851c2a7fd579",
   "metadata": {
    "tags": []
   },
   "outputs": [],
   "source": [
    "from math import prod\n",
    "from statistics import median\n",
    "\n",
    "def task1(f, a, op = 'mult'):\n",
    "    a = [f(i) for i in a]\n",
    "\n",
    "    if op == 'mult':\n",
    "        return prod(a)\n",
    "    elif op == 'sum':\n",
    "        return sum(a)\n",
    "    elif op == 'min':\n",
    "        return min(a)\n",
    "    elif op == 'max':\n",
    "        return max(a)\n",
    "    elif op == 'med':\n",
    "        return median(a)\n",
    "    elif op == 'mean':\n",
    "        return sum(a) / len(a)\n"
   ]
  },
  {
   "cell_type": "markdown",
   "id": "430cb0bd-59c6-42fa-abc2-f9e81bf35e4e",
   "metadata": {
    "tags": []
   },
   "source": [
    "## Задача 2"
   ]
  },
  {
   "cell_type": "markdown",
   "id": "90822b0b-75e5-4fe2-a948-9716ddb8898e",
   "metadata": {},
   "source": [
    "На вход подается массив, при помощи функции map все четный числа возведите в квадрат, а нечетные в куб.\n",
    "\n",
    "После при помощи функции filter выделите из предыдущего массива 2 подмассива, которые делятся на 3 и на 4 без остатка соответсвенно."
   ]
  },
  {
   "cell_type": "code",
   "execution_count": 7,
   "id": "a81a5804-5d32-4524-bcfa-02c03182015f",
   "metadata": {
    "tags": []
   },
   "outputs": [],
   "source": [
    "def f1(x):\n",
    "    return x ** 2 if x % 2 == 0 else x**3\n",
    "\n",
    "a = [int(x) for x in input().split()]\n",
    "a = list(map(f1, a))\n",
    "\n",
    "a1 = list(filter(lambda x : x%3 == 0, a))\n",
    "s2 = list(filter(lambda x : x%4 == 0, a))"
   ]
  },
  {
   "cell_type": "markdown",
   "id": "ad0c57c1-30e5-4c32-9eb6-27f9e20bd646",
   "metadata": {
    "tags": []
   },
   "source": [
    "## Задача 3"
   ]
  },
  {
   "cell_type": "markdown",
   "id": "bd43e64b-a825-4f81-aaec-4926fc79fc1c",
   "metadata": {},
   "source": [
    "Даны функции:\n",
    "\n",
    "$F(x, y, z) = G(x - 2, y // 2) + G(y - 1, z - 2)$ при $x \\geq 2, y \\geq 1, z \\geq 2$, иначе $F(x, y, z) = x + y + z$ \n",
    "\n",
    "$G(x, y) = F(x // 3, y - 1, |x - y|)$ при $x \\geq 0, y \\geq 1$, иначе $G(x, y) = 1$\n",
    "\n",
    "По трём входным числам $x, y, z$ посчитать знаение $F(x, y, z)$"
   ]
  },
  {
   "cell_type": "code",
   "execution_count": 9,
   "id": "30d7198c-62e8-4485-b929-0af650088dfc",
   "metadata": {},
   "outputs": [],
   "source": [
    "def F(x, y, z):\n",
    "    if x >= 2 and y>=1 and z>=2:\n",
    "        return G(x-2, y//2) + G(y-1, z-2)\n",
    "    return x + y + z\n",
    "def G(x, y):\n",
    "    if x>=0 and y>=1:\n",
    "        return F(x//3, y-1, abs(x-y))\n",
    "    return 1\n"
   ]
  },
  {
   "cell_type": "markdown",
   "id": "9116c66d-85ea-4aaa-b114-5b7b000bd5dc",
   "metadata": {
    "tags": []
   },
   "source": [
    "## Задача 4"
   ]
  },
  {
   "cell_type": "markdown",
   "id": "edfb0dd0-c0d9-4060-aaf8-8e95ac63d384",
   "metadata": {},
   "source": [
    "Женя работает в фирме, которая разробатывает приложение для создание заметок. Ему дали задание написать 2 функции:\n",
    "- Функция которая добавляет запись в заметку по ее названию, если заметка уже существует, или создает новую заметку.\n",
    "- Функция которая выводить все записи из конкретной заметки, если название заметки не указывается, то выводятся записи из главной заметки под названием \"home\" (она всегда существует).\n",
    "\n",
    "Но есть один ньюнас, записи в заметках разделены на предложение (и хранятся в базе данных  как список предложеий), поэтому на вход в функцию Жени подается имя заметки и n предложений из потока ввода. Значение n всегда разное, Женя не знает сколько предложений ему прийдет. Помогите Жене реализовать эти функции.\n",
    "\n",
    "Формат ввода:\n",
    "\n",
    "add_note(\"name\", \"sentence1\", \"sentence2\", \"sentence3\", ...)\n",
    "\n",
    "get_note(\"name\") / get_note()"
   ]
  },
  {
   "cell_type": "code",
   "execution_count": 13,
   "id": "1558d3ff-0dc5-4e9a-a7aa-8cb58902859a",
   "metadata": {
    "tags": []
   },
   "outputs": [
    {
     "data": {
      "text/plain": [
       "['finish calc', 'do phisics']"
      ]
     },
     "execution_count": 13,
     "metadata": {},
     "output_type": "execute_result"
    }
   ],
   "source": [
    "notes =  {\"home\" : []}\n",
    "def add_note(name : str, *sentences):\n",
    "    if name not in notes.keys():\n",
    "        notes[name] = []\n",
    "    for s in sentences:\n",
    "        notes[name].append(s)\n",
    "    \n",
    "def get_note(name = \"home\"):\n",
    "    return notes.get(name, notes[\"home\"])\n",
    "\n",
    "add_note(\"home\", \"Do tasks\")\n",
    "add_note(\"MIPT\", \"finish calc\", \"do phisics\")\n",
    "get_note()\n",
    "get_note(\"MIPT\")\n"
   ]
  },
  {
   "cell_type": "markdown",
   "id": "f08e284d-c2c6-4144-984c-d7168d64681b",
   "metadata": {
    "tags": []
   },
   "source": [
    "## Задача 5"
   ]
  },
  {
   "cell_type": "markdown",
   "id": "3da51bba-c4df-4c93-bc22-7a175e7dca20",
   "metadata": {},
   "source": [
    "Возвести число x в степень n за $O(\\sqrt n)$"
   ]
  },
  {
   "cell_type": "code",
   "execution_count": 19,
   "id": "150b4779-02be-4012-9bd3-c12d0bd171cf",
   "metadata": {},
   "outputs": [
    {
     "ename": "RecursionError",
     "evalue": "maximum recursion depth exceeded",
     "output_type": "error",
     "traceback": [
      "\u001b[1;31m---------------------------------------------------------------------------\u001b[0m",
      "\u001b[1;31mRecursionError\u001b[0m                            Traceback (most recent call last)",
      "\u001b[1;32mc:\\UniversityProgramming\\MIPT\\Term-1\\MIPT_Python\\seminars\\sem7\\tasks.ipynb Cell 15\u001b[0m line \u001b[0;36m9\n\u001b[0;32m      <a href='vscode-notebook-cell:/c%3A/UniversityProgramming/MIPT/Term-1/MIPT_Python/seminars/sem7/tasks.ipynb#X20sZmlsZQ%3D%3D?line=6'>7</a>\u001b[0m     \u001b[39melse\u001b[39;00m:\n\u001b[0;32m      <a href='vscode-notebook-cell:/c%3A/UniversityProgramming/MIPT/Term-1/MIPT_Python/seminars/sem7/tasks.ipynb#X20sZmlsZQ%3D%3D?line=7'>8</a>\u001b[0m         \u001b[39mreturn\u001b[39;00m new_x \u001b[39m*\u001b[39m new_x \u001b[39m*\u001b[39m x\n\u001b[1;32m----> <a href='vscode-notebook-cell:/c%3A/UniversityProgramming/MIPT/Term-1/MIPT_Python/seminars/sem7/tasks.ipynb#X20sZmlsZQ%3D%3D?line=8'>9</a>\u001b[0m \u001b[39mprint\u001b[39m(f(\u001b[39m3\u001b[39;49m, \u001b[39m-\u001b[39;49m\u001b[39m2\u001b[39;49m))\n",
      "\u001b[1;32mc:\\UniversityProgramming\\MIPT\\Term-1\\MIPT_Python\\seminars\\sem7\\tasks.ipynb Cell 15\u001b[0m line \u001b[0;36m4\n\u001b[0;32m      <a href='vscode-notebook-cell:/c%3A/UniversityProgramming/MIPT/Term-1/MIPT_Python/seminars/sem7/tasks.ipynb#X20sZmlsZQ%3D%3D?line=1'>2</a>\u001b[0m \u001b[39mif\u001b[39;00m n \u001b[39m==\u001b[39m \u001b[39m0\u001b[39m:\n\u001b[0;32m      <a href='vscode-notebook-cell:/c%3A/UniversityProgramming/MIPT/Term-1/MIPT_Python/seminars/sem7/tasks.ipynb#X20sZmlsZQ%3D%3D?line=2'>3</a>\u001b[0m     \u001b[39mreturn\u001b[39;00m \u001b[39m1\u001b[39m\n\u001b[1;32m----> <a href='vscode-notebook-cell:/c%3A/UniversityProgramming/MIPT/Term-1/MIPT_Python/seminars/sem7/tasks.ipynb#X20sZmlsZQ%3D%3D?line=3'>4</a>\u001b[0m new_x \u001b[39m=\u001b[39m f(x, n\u001b[39m/\u001b[39;49m\u001b[39m/\u001b[39;49m\u001b[39m2\u001b[39;49m)\n\u001b[0;32m      <a href='vscode-notebook-cell:/c%3A/UniversityProgramming/MIPT/Term-1/MIPT_Python/seminars/sem7/tasks.ipynb#X20sZmlsZQ%3D%3D?line=4'>5</a>\u001b[0m \u001b[39mif\u001b[39;00m n \u001b[39m%\u001b[39m \u001b[39m2\u001b[39m \u001b[39m==\u001b[39m \u001b[39m0\u001b[39m:\n\u001b[0;32m      <a href='vscode-notebook-cell:/c%3A/UniversityProgramming/MIPT/Term-1/MIPT_Python/seminars/sem7/tasks.ipynb#X20sZmlsZQ%3D%3D?line=5'>6</a>\u001b[0m     \u001b[39mreturn\u001b[39;00m new_x\u001b[39m*\u001b[39mnew_x\n",
      "\u001b[1;32mc:\\UniversityProgramming\\MIPT\\Term-1\\MIPT_Python\\seminars\\sem7\\tasks.ipynb Cell 15\u001b[0m line \u001b[0;36m4\n\u001b[0;32m      <a href='vscode-notebook-cell:/c%3A/UniversityProgramming/MIPT/Term-1/MIPT_Python/seminars/sem7/tasks.ipynb#X20sZmlsZQ%3D%3D?line=1'>2</a>\u001b[0m \u001b[39mif\u001b[39;00m n \u001b[39m==\u001b[39m \u001b[39m0\u001b[39m:\n\u001b[0;32m      <a href='vscode-notebook-cell:/c%3A/UniversityProgramming/MIPT/Term-1/MIPT_Python/seminars/sem7/tasks.ipynb#X20sZmlsZQ%3D%3D?line=2'>3</a>\u001b[0m     \u001b[39mreturn\u001b[39;00m \u001b[39m1\u001b[39m\n\u001b[1;32m----> <a href='vscode-notebook-cell:/c%3A/UniversityProgramming/MIPT/Term-1/MIPT_Python/seminars/sem7/tasks.ipynb#X20sZmlsZQ%3D%3D?line=3'>4</a>\u001b[0m new_x \u001b[39m=\u001b[39m f(x, n\u001b[39m/\u001b[39;49m\u001b[39m/\u001b[39;49m\u001b[39m2\u001b[39;49m)\n\u001b[0;32m      <a href='vscode-notebook-cell:/c%3A/UniversityProgramming/MIPT/Term-1/MIPT_Python/seminars/sem7/tasks.ipynb#X20sZmlsZQ%3D%3D?line=4'>5</a>\u001b[0m \u001b[39mif\u001b[39;00m n \u001b[39m%\u001b[39m \u001b[39m2\u001b[39m \u001b[39m==\u001b[39m \u001b[39m0\u001b[39m:\n\u001b[0;32m      <a href='vscode-notebook-cell:/c%3A/UniversityProgramming/MIPT/Term-1/MIPT_Python/seminars/sem7/tasks.ipynb#X20sZmlsZQ%3D%3D?line=5'>6</a>\u001b[0m     \u001b[39mreturn\u001b[39;00m new_x\u001b[39m*\u001b[39mnew_x\n",
      "    \u001b[1;31m[... skipping similar frames: f at line 4 (2971 times)]\u001b[0m\n",
      "\u001b[1;32mc:\\UniversityProgramming\\MIPT\\Term-1\\MIPT_Python\\seminars\\sem7\\tasks.ipynb Cell 15\u001b[0m line \u001b[0;36m4\n\u001b[0;32m      <a href='vscode-notebook-cell:/c%3A/UniversityProgramming/MIPT/Term-1/MIPT_Python/seminars/sem7/tasks.ipynb#X20sZmlsZQ%3D%3D?line=1'>2</a>\u001b[0m \u001b[39mif\u001b[39;00m n \u001b[39m==\u001b[39m \u001b[39m0\u001b[39m:\n\u001b[0;32m      <a href='vscode-notebook-cell:/c%3A/UniversityProgramming/MIPT/Term-1/MIPT_Python/seminars/sem7/tasks.ipynb#X20sZmlsZQ%3D%3D?line=2'>3</a>\u001b[0m     \u001b[39mreturn\u001b[39;00m \u001b[39m1\u001b[39m\n\u001b[1;32m----> <a href='vscode-notebook-cell:/c%3A/UniversityProgramming/MIPT/Term-1/MIPT_Python/seminars/sem7/tasks.ipynb#X20sZmlsZQ%3D%3D?line=3'>4</a>\u001b[0m new_x \u001b[39m=\u001b[39m f(x, n\u001b[39m/\u001b[39;49m\u001b[39m/\u001b[39;49m\u001b[39m2\u001b[39;49m)\n\u001b[0;32m      <a href='vscode-notebook-cell:/c%3A/UniversityProgramming/MIPT/Term-1/MIPT_Python/seminars/sem7/tasks.ipynb#X20sZmlsZQ%3D%3D?line=4'>5</a>\u001b[0m \u001b[39mif\u001b[39;00m n \u001b[39m%\u001b[39m \u001b[39m2\u001b[39m \u001b[39m==\u001b[39m \u001b[39m0\u001b[39m:\n\u001b[0;32m      <a href='vscode-notebook-cell:/c%3A/UniversityProgramming/MIPT/Term-1/MIPT_Python/seminars/sem7/tasks.ipynb#X20sZmlsZQ%3D%3D?line=5'>6</a>\u001b[0m     \u001b[39mreturn\u001b[39;00m new_x\u001b[39m*\u001b[39mnew_x\n",
      "\u001b[1;31mRecursionError\u001b[0m: maximum recursion depth exceeded"
     ]
    }
   ],
   "source": [
    "def f(x, n):\n",
    "    if n == 0:\n",
    "        return 1\n",
    "    new_x = f(x, n//2)\n",
    "    if n % 2 == 0:\n",
    "        return new_x*new_x\n",
    "    else:\n",
    "        return new_x * new_x * x\n",
    "print(f(3, -2))\n",
    "    "
   ]
  },
  {
   "cell_type": "code",
   "execution_count": null,
   "id": "5ddfe269",
   "metadata": {},
   "outputs": [],
   "source": []
  }
 ],
 "metadata": {
  "kernelspec": {
   "display_name": "Python 3 (ipykernel)",
   "language": "python",
   "name": "python3"
  },
  "language_info": {
   "codemirror_mode": {
    "name": "ipython",
    "version": 3
   },
   "file_extension": ".py",
   "mimetype": "text/x-python",
   "name": "python",
   "nbconvert_exporter": "python",
   "pygments_lexer": "ipython3",
   "version": "3.11.1"
  }
 },
 "nbformat": 4,
 "nbformat_minor": 5
}
