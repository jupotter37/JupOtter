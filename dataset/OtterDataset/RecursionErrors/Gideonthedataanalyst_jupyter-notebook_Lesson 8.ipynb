{
 "cells": [
  {
   "cell_type": "markdown",
   "id": "2b567ed3-4ada-4622-8092-0142f86fbbf7",
   "metadata": {},
   "source": [
    "# Global versus Local variables"
   ]
  },
  {
   "cell_type": "markdown",
   "id": "d40ae44c-186a-43f5-b542-28a93a02f8df",
   "metadata": {},
   "source": [
    "## Local variable"
   ]
  },
  {
   "cell_type": "code",
   "execution_count": 1,
   "id": "ad74f78e-5171-4f58-bffb-a9b5987c4b5b",
   "metadata": {},
   "outputs": [],
   "source": [
    "# defining a function Onyesha() that will print out alocal variable num which is initialized to 16\n",
    "def onyesha():\n",
    "    num=16\n",
    "    print(\"the number is\",num)"
   ]
  },
  {
   "cell_type": "code",
   "execution_count": 2,
   "id": "915b8fd3-6518-4928-ae34-7b337ce7cd1a",
   "metadata": {},
   "outputs": [
    {
     "name": "stdout",
     "output_type": "stream",
     "text": [
      "the number is 16\n"
     ]
    }
   ],
   "source": [
    "#calling onyesha() function\n",
    "onyesha()"
   ]
  },
  {
   "cell_type": "code",
   "execution_count": 3,
   "id": "2931ba2e-8e5f-40bc-b9a4-c5cc7431c268",
   "metadata": {},
   "outputs": [
    {
     "ename": "NameError",
     "evalue": "name 'num' is not defined",
     "output_type": "error",
     "traceback": [
      "\u001b[1;31m---------------------------------------------------------------------------\u001b[0m",
      "\u001b[1;31mNameError\u001b[0m                                 Traceback (most recent call last)",
      "Cell \u001b[1;32mIn[3], line 2\u001b[0m\n\u001b[0;32m      1\u001b[0m \u001b[38;5;66;03m#trying to acces the local variable num outside the function\u001b[39;00m\n\u001b[1;32m----> 2\u001b[0m num\n",
      "\u001b[1;31mNameError\u001b[0m: name 'num' is not defined"
     ]
    }
   ],
   "source": [
    "#trying to acces the local variable num outside the function\n",
    "num"
   ]
  },
  {
   "cell_type": "markdown",
   "id": "a15ccb38-a5d7-49bf-84c9-ad57e38a15af",
   "metadata": {},
   "source": [
    "#### The error above comes because num is only known within the function called onyesha. It is therefore a local variable in the function"
   ]
  },
  {
   "cell_type": "code",
   "execution_count": null,
   "id": "e8eb11b6-4268-4812-9366-e577721323ff",
   "metadata": {},
   "outputs": [],
   "source": []
  },
  {
   "cell_type": "code",
   "execution_count": null,
   "id": "3e101676-94c7-4e7e-9872-9c64a0f9d8b2",
   "metadata": {},
   "outputs": [],
   "source": []
  },
  {
   "cell_type": "markdown",
   "id": "4ece2913-f40d-4698-8ca2-af0bd3fd7264",
   "metadata": {},
   "source": [
    "## Global variable"
   ]
  },
  {
   "cell_type": "code",
   "execution_count": 4,
   "id": "93683d3f-47ea-45cb-8d1b-f4ea5ab0b037",
   "metadata": {},
   "outputs": [],
   "source": [
    "# defining a function onyesha() that will print out the variable num which is initialized to 16\n",
    "num=16\n",
    "def onyesha():\n",
    "    print(\"the number is\",num)"
   ]
  },
  {
   "cell_type": "code",
   "execution_count": 5,
   "id": "dcab60a3-3749-4a99-ad56-dfe1c6d838a1",
   "metadata": {},
   "outputs": [
    {
     "name": "stdout",
     "output_type": "stream",
     "text": [
      "the number is 16\n"
     ]
    }
   ],
   "source": [
    "onyesha()"
   ]
  },
  {
   "cell_type": "code",
   "execution_count": 6,
   "id": "65025028-b1cf-4b6b-9c44-15a4617fa7e7",
   "metadata": {},
   "outputs": [
    {
     "data": {
      "text/plain": [
       "16"
      ]
     },
     "execution_count": 6,
     "metadata": {},
     "output_type": "execute_result"
    }
   ],
   "source": [
    "num"
   ]
  },
  {
   "cell_type": "markdown",
   "id": "2118e3f2-33c7-4b83-90c0-862f37d749f5",
   "metadata": {},
   "source": [
    "#### In this case num is a global variable since we can access it outside the function"
   ]
  },
  {
   "cell_type": "code",
   "execution_count": null,
   "id": "48a0bb06-08cf-4cff-b3e9-6fcf78073efa",
   "metadata": {},
   "outputs": [],
   "source": []
  },
  {
   "cell_type": "code",
   "execution_count": null,
   "id": "ee513a23-0abe-4f32-bcfd-c42117d7e95e",
   "metadata": {},
   "outputs": [],
   "source": []
  },
  {
   "cell_type": "code",
   "execution_count": null,
   "id": "4b0c0bfc-1bb0-43f0-8d2b-f099effdc420",
   "metadata": {},
   "outputs": [],
   "source": []
  },
  {
   "cell_type": "markdown",
   "id": "e06ece89-7630-4127-ac20-ff66c2b64652",
   "metadata": {},
   "source": [
    "# Recursive functions"
   ]
  },
  {
   "cell_type": "code",
   "execution_count": null,
   "id": "a7ed3e9e-e073-4ba1-9291-2e7e00c3e527",
   "metadata": {},
   "outputs": [],
   "source": [
    "# functions that can use themselves"
   ]
  },
  {
   "cell_type": "code",
   "execution_count": 7,
   "id": "2f5930cf-2df7-4062-bd41-a7b52297ac85",
   "metadata": {},
   "outputs": [],
   "source": [
    "def factorial(number):\n",
    "    if number==1:\n",
    "        return 1\n",
    "    else:\n",
    "        return number*factorial(number-1)"
   ]
  },
  {
   "cell_type": "code",
   "execution_count": 9,
   "id": "05d8b90b-6764-4ae8-b8e5-0b59ae2bd032",
   "metadata": {},
   "outputs": [
    {
     "data": {
      "text/plain": [
       "120"
      ]
     },
     "execution_count": 9,
     "metadata": {},
     "output_type": "execute_result"
    }
   ],
   "source": [
    "factorial(5)"
   ]
  },
  {
   "cell_type": "code",
   "execution_count": 10,
   "id": "b6fed86c-d671-4420-9a2e-39a20ab4b641",
   "metadata": {},
   "outputs": [
    {
     "data": {
      "text/plain": [
       "24"
      ]
     },
     "execution_count": 10,
     "metadata": {},
     "output_type": "execute_result"
    }
   ],
   "source": [
    "factorial(4)"
   ]
  },
  {
   "cell_type": "code",
   "execution_count": 11,
   "id": "e10d664b-af16-46d5-afaa-bdfe380bdefa",
   "metadata": {},
   "outputs": [
    {
     "data": {
      "text/plain": [
       "6"
      ]
     },
     "execution_count": 11,
     "metadata": {},
     "output_type": "execute_result"
    }
   ],
   "source": [
    "factorial(3)"
   ]
  },
  {
   "cell_type": "code",
   "execution_count": 12,
   "id": "0bd3f168-b452-4d68-a06a-8ff42ce3eace",
   "metadata": {},
   "outputs": [
    {
     "data": {
      "text/plain": [
       "2"
      ]
     },
     "execution_count": 12,
     "metadata": {},
     "output_type": "execute_result"
    }
   ],
   "source": [
    "factorial(2)"
   ]
  },
  {
   "cell_type": "code",
   "execution_count": 13,
   "id": "0b4e0fbb-af7a-45fc-bc3f-23b7c48c1d1c",
   "metadata": {},
   "outputs": [
    {
     "data": {
      "text/plain": [
       "1"
      ]
     },
     "execution_count": 13,
     "metadata": {},
     "output_type": "execute_result"
    }
   ],
   "source": [
    "factorial(1)"
   ]
  },
  {
   "cell_type": "code",
   "execution_count": 14,
   "id": "1d9570f4-84ca-480a-8a32-4d206f85967c",
   "metadata": {},
   "outputs": [
    {
     "ename": "RecursionError",
     "evalue": "maximum recursion depth exceeded",
     "output_type": "error",
     "traceback": [
      "\u001b[1;31m---------------------------------------------------------------------------\u001b[0m",
      "\u001b[1;31mRecursionError\u001b[0m                            Traceback (most recent call last)",
      "Cell \u001b[1;32mIn[14], line 1\u001b[0m\n\u001b[1;32m----> 1\u001b[0m factorial(\u001b[38;5;241m0\u001b[39m)\n",
      "Cell \u001b[1;32mIn[7], line 5\u001b[0m, in \u001b[0;36mfactorial\u001b[1;34m(number)\u001b[0m\n\u001b[0;32m      3\u001b[0m     \u001b[38;5;28;01mreturn\u001b[39;00m \u001b[38;5;241m1\u001b[39m\n\u001b[0;32m      4\u001b[0m \u001b[38;5;28;01melse\u001b[39;00m:\n\u001b[1;32m----> 5\u001b[0m     \u001b[38;5;28;01mreturn\u001b[39;00m number\u001b[38;5;241m*\u001b[39mfactorial(number\u001b[38;5;241m-\u001b[39m\u001b[38;5;241m1\u001b[39m)\n",
      "Cell \u001b[1;32mIn[7], line 5\u001b[0m, in \u001b[0;36mfactorial\u001b[1;34m(number)\u001b[0m\n\u001b[0;32m      3\u001b[0m     \u001b[38;5;28;01mreturn\u001b[39;00m \u001b[38;5;241m1\u001b[39m\n\u001b[0;32m      4\u001b[0m \u001b[38;5;28;01melse\u001b[39;00m:\n\u001b[1;32m----> 5\u001b[0m     \u001b[38;5;28;01mreturn\u001b[39;00m number\u001b[38;5;241m*\u001b[39mfactorial(number\u001b[38;5;241m-\u001b[39m\u001b[38;5;241m1\u001b[39m)\n",
      "    \u001b[1;31m[... skipping similar frames: factorial at line 5 (2974 times)]\u001b[0m\n",
      "Cell \u001b[1;32mIn[7], line 5\u001b[0m, in \u001b[0;36mfactorial\u001b[1;34m(number)\u001b[0m\n\u001b[0;32m      3\u001b[0m     \u001b[38;5;28;01mreturn\u001b[39;00m \u001b[38;5;241m1\u001b[39m\n\u001b[0;32m      4\u001b[0m \u001b[38;5;28;01melse\u001b[39;00m:\n\u001b[1;32m----> 5\u001b[0m     \u001b[38;5;28;01mreturn\u001b[39;00m number\u001b[38;5;241m*\u001b[39mfactorial(number\u001b[38;5;241m-\u001b[39m\u001b[38;5;241m1\u001b[39m)\n",
      "\u001b[1;31mRecursionError\u001b[0m: maximum recursion depth exceeded"
     ]
    }
   ],
   "source": [
    "factorial(0)"
   ]
  },
  {
   "cell_type": "code",
   "execution_count": 16,
   "id": "8258a1d2-68e8-4086-a260-ed079690b84f",
   "metadata": {},
   "outputs": [],
   "source": [
    "def factorial(number):\n",
    "    if number==1:\n",
    "        return 1\n",
    "    elif number==0:\n",
    "        return 1\n",
    "    elif number<0:\n",
    "        print (\"Invalid number. Please enter a positive number\")\n",
    "    else:\n",
    "        return number*factorial(number-1)"
   ]
  },
  {
   "cell_type": "code",
   "execution_count": 20,
   "id": "01cc4da1-f347-4f5b-85b7-21238563bbc5",
   "metadata": {},
   "outputs": [
    {
     "name": "stdin",
     "output_type": "stream",
     "text": [
      "please enter your number 0\n"
     ]
    },
    {
     "data": {
      "text/plain": [
       "1"
      ]
     },
     "execution_count": 20,
     "metadata": {},
     "output_type": "execute_result"
    }
   ],
   "source": [
    "number=int(input(\"please enter your number\"))\n",
    "factorial(number)"
   ]
  },
  {
   "cell_type": "code",
   "execution_count": null,
   "id": "0490f5aa-1e49-4d5a-9373-c68ce1847cc6",
   "metadata": {},
   "outputs": [],
   "source": []
  },
  {
   "cell_type": "code",
   "execution_count": null,
   "id": "a44e792b-cc52-4a75-8fb0-7a759be095a6",
   "metadata": {},
   "outputs": [],
   "source": []
  },
  {
   "cell_type": "code",
   "execution_count": null,
   "id": "f2e0dbdd-1468-4890-be30-be18965f469e",
   "metadata": {},
   "outputs": [],
   "source": []
  },
  {
   "cell_type": "markdown",
   "id": "476c54a9-da54-46fd-bf5a-556291faa149",
   "metadata": {},
   "source": [
    "# PYTHON PANDAS"
   ]
  },
  {
   "cell_type": "code",
   "execution_count": null,
   "id": "9a26ce34-3cd2-4094-9b82-d610d320fba6",
   "metadata": {},
   "outputs": [],
   "source": [
    "# IS A PACKAGE USED TO DEAL WITH TABULAR DATA(DATA IN TABLES)\n",
    "# A table in pandas is called a dataframe"
   ]
  },
  {
   "cell_type": "code",
   "execution_count": 21,
   "id": "409abb1e-abab-4aa4-8483-847a34a28bf7",
   "metadata": {},
   "outputs": [],
   "source": [
    "import pandas as pd"
   ]
  },
  {
   "cell_type": "markdown",
   "id": "80cdae27-f318-400b-aa73-9c88d4e7af17",
   "metadata": {},
   "source": [
    "### Creating a dataframe"
   ]
  },
  {
   "cell_type": "markdown",
   "id": "55c94ba5-39a8-4540-87d8-e6be5c386016",
   "metadata": {},
   "source": [
    "### Creating a dataframe from a dictionary"
   ]
  },
  {
   "cell_type": "code",
   "execution_count": 22,
   "id": "f6fb7842-06cf-42bc-8ae5-5989655c84ee",
   "metadata": {},
   "outputs": [],
   "source": [
    "Sonek_web_visit={'Day':[1,2,3,4,5,6],'Visitors':[1000,2000,3000,4000,5000,6000],'Bounce Rate':[10,20,30,40,50,60]}"
   ]
  },
  {
   "cell_type": "code",
   "execution_count": 23,
   "id": "d8871fae-fc0c-4284-9c04-4d01032c0868",
   "metadata": {},
   "outputs": [
    {
     "data": {
      "text/plain": [
       "dict_keys(['Day', 'Visitors', 'Bounce Rate'])"
      ]
     },
     "execution_count": 23,
     "metadata": {},
     "output_type": "execute_result"
    }
   ],
   "source": [
    "Sonek_web_visit.keys()"
   ]
  },
  {
   "cell_type": "code",
   "execution_count": 24,
   "id": "9ba8dcb5-bbe2-4251-afad-dd3d8a785066",
   "metadata": {},
   "outputs": [
    {
     "data": {
      "text/plain": [
       "dict_values([[1, 2, 3, 4, 5, 6], [1000, 2000, 3000, 4000, 5000, 6000], [10, 20, 30, 40, 50, 60]])"
      ]
     },
     "execution_count": 24,
     "metadata": {},
     "output_type": "execute_result"
    }
   ],
   "source": [
    "Sonek_web_visit.values()"
   ]
  },
  {
   "cell_type": "code",
   "execution_count": 25,
   "id": "1ff32c06-bead-4421-ace0-67c3db262a2d",
   "metadata": {},
   "outputs": [],
   "source": [
    "df1=pd.DataFrame(Sonek_web_visit)"
   ]
  },
  {
   "cell_type": "code",
   "execution_count": 26,
   "id": "84542efe-4f41-4eff-9973-67bdb3d991b3",
   "metadata": {},
   "outputs": [
    {
     "data": {
      "text/html": [
       "<div>\n",
       "<style scoped>\n",
       "    .dataframe tbody tr th:only-of-type {\n",
       "        vertical-align: middle;\n",
       "    }\n",
       "\n",
       "    .dataframe tbody tr th {\n",
       "        vertical-align: top;\n",
       "    }\n",
       "\n",
       "    .dataframe thead th {\n",
       "        text-align: right;\n",
       "    }\n",
       "</style>\n",
       "<table border=\"1\" class=\"dataframe\">\n",
       "  <thead>\n",
       "    <tr style=\"text-align: right;\">\n",
       "      <th></th>\n",
       "      <th>Day</th>\n",
       "      <th>Visitors</th>\n",
       "      <th>Bounce Rate</th>\n",
       "    </tr>\n",
       "  </thead>\n",
       "  <tbody>\n",
       "    <tr>\n",
       "      <th>0</th>\n",
       "      <td>1</td>\n",
       "      <td>1000</td>\n",
       "      <td>10</td>\n",
       "    </tr>\n",
       "    <tr>\n",
       "      <th>1</th>\n",
       "      <td>2</td>\n",
       "      <td>2000</td>\n",
       "      <td>20</td>\n",
       "    </tr>\n",
       "    <tr>\n",
       "      <th>2</th>\n",
       "      <td>3</td>\n",
       "      <td>3000</td>\n",
       "      <td>30</td>\n",
       "    </tr>\n",
       "    <tr>\n",
       "      <th>3</th>\n",
       "      <td>4</td>\n",
       "      <td>4000</td>\n",
       "      <td>40</td>\n",
       "    </tr>\n",
       "    <tr>\n",
       "      <th>4</th>\n",
       "      <td>5</td>\n",
       "      <td>5000</td>\n",
       "      <td>50</td>\n",
       "    </tr>\n",
       "    <tr>\n",
       "      <th>5</th>\n",
       "      <td>6</td>\n",
       "      <td>6000</td>\n",
       "      <td>60</td>\n",
       "    </tr>\n",
       "  </tbody>\n",
       "</table>\n",
       "</div>"
      ],
      "text/plain": [
       "   Day  Visitors  Bounce Rate\n",
       "0    1      1000           10\n",
       "1    2      2000           20\n",
       "2    3      3000           30\n",
       "3    4      4000           40\n",
       "4    5      5000           50\n",
       "5    6      6000           60"
      ]
     },
     "execution_count": 26,
     "metadata": {},
     "output_type": "execute_result"
    }
   ],
   "source": [
    "df1"
   ]
  },
  {
   "cell_type": "code",
   "execution_count": null,
   "id": "918126cb-12d8-42b7-b804-1b01c5795024",
   "metadata": {},
   "outputs": [],
   "source": []
  },
  {
   "cell_type": "code",
   "execution_count": null,
   "id": "8ac9c927-4ab0-41da-a965-8bc8ef043b27",
   "metadata": {},
   "outputs": [],
   "source": []
  },
  {
   "cell_type": "markdown",
   "id": "348336b2-7649-4e98-9cc6-52966a57cd5b",
   "metadata": {},
   "source": [
    "## Creating Data Frames by reading from an external file"
   ]
  },
  {
   "cell_type": "markdown",
   "id": "b7017a55-81f3-44b0-86a7-bf1e90687608",
   "metadata": {},
   "source": [
    "### pd.read_csv for .csv extensions and pd.read_excel for .xlxs extensions"
   ]
  },
  {
   "cell_type": "code",
   "execution_count": 27,
   "id": "b16d1c70-139b-4278-878f-f6b97491347a",
   "metadata": {},
   "outputs": [],
   "source": [
    "product_df=pd.read_csv(\"Product (2).csv\")"
   ]
  },
  {
   "cell_type": "code",
   "execution_count": 28,
   "id": "dd3f1680-3bb2-42e6-b1d3-fe01b7391505",
   "metadata": {},
   "outputs": [
    {
     "data": {
      "text/html": [
       "<div>\n",
       "<style scoped>\n",
       "    .dataframe tbody tr th:only-of-type {\n",
       "        vertical-align: middle;\n",
       "    }\n",
       "\n",
       "    .dataframe tbody tr th {\n",
       "        vertical-align: top;\n",
       "    }\n",
       "\n",
       "    .dataframe thead th {\n",
       "        text-align: right;\n",
       "    }\n",
       "</style>\n",
       "<table border=\"1\" class=\"dataframe\">\n",
       "  <thead>\n",
       "    <tr style=\"text-align: right;\">\n",
       "      <th></th>\n",
       "      <th>Product_ID</th>\n",
       "      <th>Product_Name</th>\n",
       "      <th>Category</th>\n",
       "      <th>Price</th>\n",
       "      <th>Seller_City</th>\n",
       "    </tr>\n",
       "  </thead>\n",
       "  <tbody>\n",
       "    <tr>\n",
       "      <th>0</th>\n",
       "      <td>101</td>\n",
       "      <td>Watch</td>\n",
       "      <td>Fashion</td>\n",
       "      <td>299</td>\n",
       "      <td>Delhi</td>\n",
       "    </tr>\n",
       "    <tr>\n",
       "      <th>1</th>\n",
       "      <td>102</td>\n",
       "      <td>Bag</td>\n",
       "      <td>Fashion</td>\n",
       "      <td>1350</td>\n",
       "      <td>Mumbai</td>\n",
       "    </tr>\n",
       "    <tr>\n",
       "      <th>2</th>\n",
       "      <td>103</td>\n",
       "      <td>Shoes</td>\n",
       "      <td>Fashion</td>\n",
       "      <td>2999</td>\n",
       "      <td>Chennai</td>\n",
       "    </tr>\n",
       "    <tr>\n",
       "      <th>3</th>\n",
       "      <td>104</td>\n",
       "      <td>Smartphone</td>\n",
       "      <td>Electronics</td>\n",
       "      <td>14999</td>\n",
       "      <td>Klokata</td>\n",
       "    </tr>\n",
       "    <tr>\n",
       "      <th>4</th>\n",
       "      <td>105</td>\n",
       "      <td>Books</td>\n",
       "      <td>Study</td>\n",
       "      <td>145</td>\n",
       "      <td>Delhi</td>\n",
       "    </tr>\n",
       "    <tr>\n",
       "      <th>5</th>\n",
       "      <td>106</td>\n",
       "      <td>Oil</td>\n",
       "      <td>Grocery</td>\n",
       "      <td>110</td>\n",
       "      <td>Chennai</td>\n",
       "    </tr>\n",
       "    <tr>\n",
       "      <th>6</th>\n",
       "      <td>107</td>\n",
       "      <td>Laptop</td>\n",
       "      <td>Electronics</td>\n",
       "      <td>79999</td>\n",
       "      <td>Bengalore</td>\n",
       "    </tr>\n",
       "  </tbody>\n",
       "</table>\n",
       "</div>"
      ],
      "text/plain": [
       "   Product_ID Product_Name     Category  Price Seller_City\n",
       "0         101        Watch      Fashion    299       Delhi\n",
       "1         102          Bag      Fashion   1350      Mumbai\n",
       "2         103        Shoes      Fashion   2999     Chennai\n",
       "3         104   Smartphone  Electronics  14999     Klokata\n",
       "4         105        Books        Study    145       Delhi\n",
       "5         106          Oil      Grocery    110     Chennai\n",
       "6         107       Laptop  Electronics  79999   Bengalore"
      ]
     },
     "execution_count": 28,
     "metadata": {},
     "output_type": "execute_result"
    }
   ],
   "source": [
    "product_df"
   ]
  },
  {
   "cell_type": "code",
   "execution_count": 29,
   "id": "ba021f99-4ba6-45ad-8452-88332661a8fd",
   "metadata": {},
   "outputs": [
    {
     "data": {
      "text/html": [
       "<div>\n",
       "<style scoped>\n",
       "    .dataframe tbody tr th:only-of-type {\n",
       "        vertical-align: middle;\n",
       "    }\n",
       "\n",
       "    .dataframe tbody tr th {\n",
       "        vertical-align: top;\n",
       "    }\n",
       "\n",
       "    .dataframe thead th {\n",
       "        text-align: right;\n",
       "    }\n",
       "</style>\n",
       "<table border=\"1\" class=\"dataframe\">\n",
       "  <thead>\n",
       "    <tr style=\"text-align: right;\">\n",
       "      <th></th>\n",
       "      <th>Product_ID</th>\n",
       "      <th>Product_Name</th>\n",
       "      <th>Category</th>\n",
       "      <th>Price</th>\n",
       "      <th>Seller_City</th>\n",
       "    </tr>\n",
       "  </thead>\n",
       "  <tbody>\n",
       "    <tr>\n",
       "      <th>0</th>\n",
       "      <td>101</td>\n",
       "      <td>Watch</td>\n",
       "      <td>Fashion</td>\n",
       "      <td>299</td>\n",
       "      <td>Delhi</td>\n",
       "    </tr>\n",
       "    <tr>\n",
       "      <th>1</th>\n",
       "      <td>102</td>\n",
       "      <td>Bag</td>\n",
       "      <td>Fashion</td>\n",
       "      <td>1350</td>\n",
       "      <td>Mumbai</td>\n",
       "    </tr>\n",
       "    <tr>\n",
       "      <th>2</th>\n",
       "      <td>103</td>\n",
       "      <td>Shoes</td>\n",
       "      <td>Fashion</td>\n",
       "      <td>2999</td>\n",
       "      <td>Chennai</td>\n",
       "    </tr>\n",
       "    <tr>\n",
       "      <th>3</th>\n",
       "      <td>104</td>\n",
       "      <td>Smartphone</td>\n",
       "      <td>Electronics</td>\n",
       "      <td>14999</td>\n",
       "      <td>Klokata</td>\n",
       "    </tr>\n",
       "    <tr>\n",
       "      <th>4</th>\n",
       "      <td>105</td>\n",
       "      <td>Books</td>\n",
       "      <td>Study</td>\n",
       "      <td>145</td>\n",
       "      <td>Delhi</td>\n",
       "    </tr>\n",
       "  </tbody>\n",
       "</table>\n",
       "</div>"
      ],
      "text/plain": [
       "   Product_ID Product_Name     Category  Price Seller_City\n",
       "0         101        Watch      Fashion    299       Delhi\n",
       "1         102          Bag      Fashion   1350      Mumbai\n",
       "2         103        Shoes      Fashion   2999     Chennai\n",
       "3         104   Smartphone  Electronics  14999     Klokata\n",
       "4         105        Books        Study    145       Delhi"
      ]
     },
     "execution_count": 29,
     "metadata": {},
     "output_type": "execute_result"
    }
   ],
   "source": [
    "# to show the top 5 rows\n",
    "product_df.head()"
   ]
  },
  {
   "cell_type": "code",
   "execution_count": 30,
   "id": "d6b8b7f2-6d81-442f-9dd0-9ec2d14b8d11",
   "metadata": {},
   "outputs": [
    {
     "data": {
      "text/html": [
       "<div>\n",
       "<style scoped>\n",
       "    .dataframe tbody tr th:only-of-type {\n",
       "        vertical-align: middle;\n",
       "    }\n",
       "\n",
       "    .dataframe tbody tr th {\n",
       "        vertical-align: top;\n",
       "    }\n",
       "\n",
       "    .dataframe thead th {\n",
       "        text-align: right;\n",
       "    }\n",
       "</style>\n",
       "<table border=\"1\" class=\"dataframe\">\n",
       "  <thead>\n",
       "    <tr style=\"text-align: right;\">\n",
       "      <th></th>\n",
       "      <th>Product_ID</th>\n",
       "      <th>Product_Name</th>\n",
       "      <th>Category</th>\n",
       "      <th>Price</th>\n",
       "      <th>Seller_City</th>\n",
       "    </tr>\n",
       "  </thead>\n",
       "  <tbody>\n",
       "    <tr>\n",
       "      <th>0</th>\n",
       "      <td>101</td>\n",
       "      <td>Watch</td>\n",
       "      <td>Fashion</td>\n",
       "      <td>299</td>\n",
       "      <td>Delhi</td>\n",
       "    </tr>\n",
       "    <tr>\n",
       "      <th>1</th>\n",
       "      <td>102</td>\n",
       "      <td>Bag</td>\n",
       "      <td>Fashion</td>\n",
       "      <td>1350</td>\n",
       "      <td>Mumbai</td>\n",
       "    </tr>\n",
       "    <tr>\n",
       "      <th>2</th>\n",
       "      <td>103</td>\n",
       "      <td>Shoes</td>\n",
       "      <td>Fashion</td>\n",
       "      <td>2999</td>\n",
       "      <td>Chennai</td>\n",
       "    </tr>\n",
       "  </tbody>\n",
       "</table>\n",
       "</div>"
      ],
      "text/plain": [
       "   Product_ID Product_Name Category  Price Seller_City\n",
       "0         101        Watch  Fashion    299       Delhi\n",
       "1         102          Bag  Fashion   1350      Mumbai\n",
       "2         103        Shoes  Fashion   2999     Chennai"
      ]
     },
     "execution_count": 30,
     "metadata": {},
     "output_type": "execute_result"
    }
   ],
   "source": [
    "product_df.head(3)"
   ]
  },
  {
   "cell_type": "code",
   "execution_count": 31,
   "id": "d04f4464-d83c-4b8b-91af-fa5e472ec7be",
   "metadata": {},
   "outputs": [
    {
     "data": {
      "text/html": [
       "<div>\n",
       "<style scoped>\n",
       "    .dataframe tbody tr th:only-of-type {\n",
       "        vertical-align: middle;\n",
       "    }\n",
       "\n",
       "    .dataframe tbody tr th {\n",
       "        vertical-align: top;\n",
       "    }\n",
       "\n",
       "    .dataframe thead th {\n",
       "        text-align: right;\n",
       "    }\n",
       "</style>\n",
       "<table border=\"1\" class=\"dataframe\">\n",
       "  <thead>\n",
       "    <tr style=\"text-align: right;\">\n",
       "      <th></th>\n",
       "      <th>Product_ID</th>\n",
       "      <th>Product_Name</th>\n",
       "      <th>Category</th>\n",
       "      <th>Price</th>\n",
       "      <th>Seller_City</th>\n",
       "    </tr>\n",
       "  </thead>\n",
       "  <tbody>\n",
       "    <tr>\n",
       "      <th>2</th>\n",
       "      <td>103</td>\n",
       "      <td>Shoes</td>\n",
       "      <td>Fashion</td>\n",
       "      <td>2999</td>\n",
       "      <td>Chennai</td>\n",
       "    </tr>\n",
       "    <tr>\n",
       "      <th>3</th>\n",
       "      <td>104</td>\n",
       "      <td>Smartphone</td>\n",
       "      <td>Electronics</td>\n",
       "      <td>14999</td>\n",
       "      <td>Klokata</td>\n",
       "    </tr>\n",
       "    <tr>\n",
       "      <th>4</th>\n",
       "      <td>105</td>\n",
       "      <td>Books</td>\n",
       "      <td>Study</td>\n",
       "      <td>145</td>\n",
       "      <td>Delhi</td>\n",
       "    </tr>\n",
       "    <tr>\n",
       "      <th>5</th>\n",
       "      <td>106</td>\n",
       "      <td>Oil</td>\n",
       "      <td>Grocery</td>\n",
       "      <td>110</td>\n",
       "      <td>Chennai</td>\n",
       "    </tr>\n",
       "    <tr>\n",
       "      <th>6</th>\n",
       "      <td>107</td>\n",
       "      <td>Laptop</td>\n",
       "      <td>Electronics</td>\n",
       "      <td>79999</td>\n",
       "      <td>Bengalore</td>\n",
       "    </tr>\n",
       "  </tbody>\n",
       "</table>\n",
       "</div>"
      ],
      "text/plain": [
       "   Product_ID Product_Name     Category  Price Seller_City\n",
       "2         103        Shoes      Fashion   2999     Chennai\n",
       "3         104   Smartphone  Electronics  14999     Klokata\n",
       "4         105        Books        Study    145       Delhi\n",
       "5         106          Oil      Grocery    110     Chennai\n",
       "6         107       Laptop  Electronics  79999   Bengalore"
      ]
     },
     "execution_count": 31,
     "metadata": {},
     "output_type": "execute_result"
    }
   ],
   "source": [
    "# to show the bottom 5 rows\n",
    "product_df.tail()"
   ]
  },
  {
   "cell_type": "code",
   "execution_count": 32,
   "id": "a6652a53-f0ee-4d7d-aeee-e0056b4101bc",
   "metadata": {},
   "outputs": [
    {
     "data": {
      "text/html": [
       "<div>\n",
       "<style scoped>\n",
       "    .dataframe tbody tr th:only-of-type {\n",
       "        vertical-align: middle;\n",
       "    }\n",
       "\n",
       "    .dataframe tbody tr th {\n",
       "        vertical-align: top;\n",
       "    }\n",
       "\n",
       "    .dataframe thead th {\n",
       "        text-align: right;\n",
       "    }\n",
       "</style>\n",
       "<table border=\"1\" class=\"dataframe\">\n",
       "  <thead>\n",
       "    <tr style=\"text-align: right;\">\n",
       "      <th></th>\n",
       "      <th>Product_ID</th>\n",
       "      <th>Product_Name</th>\n",
       "      <th>Category</th>\n",
       "      <th>Price</th>\n",
       "      <th>Seller_City</th>\n",
       "    </tr>\n",
       "  </thead>\n",
       "  <tbody>\n",
       "    <tr>\n",
       "      <th>5</th>\n",
       "      <td>106</td>\n",
       "      <td>Oil</td>\n",
       "      <td>Grocery</td>\n",
       "      <td>110</td>\n",
       "      <td>Chennai</td>\n",
       "    </tr>\n",
       "    <tr>\n",
       "      <th>6</th>\n",
       "      <td>107</td>\n",
       "      <td>Laptop</td>\n",
       "      <td>Electronics</td>\n",
       "      <td>79999</td>\n",
       "      <td>Bengalore</td>\n",
       "    </tr>\n",
       "  </tbody>\n",
       "</table>\n",
       "</div>"
      ],
      "text/plain": [
       "   Product_ID Product_Name     Category  Price Seller_City\n",
       "5         106          Oil      Grocery    110     Chennai\n",
       "6         107       Laptop  Electronics  79999   Bengalore"
      ]
     },
     "execution_count": 32,
     "metadata": {},
     "output_type": "execute_result"
    }
   ],
   "source": [
    "product_df.tail(2)"
   ]
  },
  {
   "cell_type": "code",
   "execution_count": null,
   "id": "297ffa0d-7b7f-4991-8778-b92ec81920a9",
   "metadata": {},
   "outputs": [],
   "source": []
  },
  {
   "cell_type": "code",
   "execution_count": null,
   "id": "92d5cdd3-9042-4836-9958-012b3703e86d",
   "metadata": {},
   "outputs": [],
   "source": []
  },
  {
   "cell_type": "code",
   "execution_count": null,
   "id": "6a18a97b-d972-4eb0-9add-87ec57e85258",
   "metadata": {},
   "outputs": [],
   "source": []
  },
  {
   "cell_type": "code",
   "execution_count": null,
   "id": "e8cdf2e6-c0be-45a7-93fd-b4bce227d4cb",
   "metadata": {},
   "outputs": [],
   "source": []
  },
  {
   "cell_type": "code",
   "execution_count": null,
   "id": "a303d7e4-bef7-48fc-8cb8-8c9cd1b7e219",
   "metadata": {},
   "outputs": [],
   "source": []
  },
  {
   "cell_type": "code",
   "execution_count": null,
   "id": "b0e16150-2718-4965-bb85-810aa553c874",
   "metadata": {},
   "outputs": [],
   "source": []
  },
  {
   "cell_type": "code",
   "execution_count": null,
   "id": "6724a2da-46cd-4f3a-aaca-a7423842eab6",
   "metadata": {},
   "outputs": [],
   "source": []
  },
  {
   "cell_type": "code",
   "execution_count": null,
   "id": "0e94d8c2-650e-4b3a-8a05-304729643910",
   "metadata": {},
   "outputs": [],
   "source": []
  },
  {
   "cell_type": "code",
   "execution_count": null,
   "id": "61d53754-6d0f-4273-a8d5-07bc35b0b5db",
   "metadata": {},
   "outputs": [],
   "source": []
  },
  {
   "cell_type": "code",
   "execution_count": null,
   "id": "455ea105-1544-4edb-aad8-be351cfe6712",
   "metadata": {},
   "outputs": [],
   "source": []
  },
  {
   "cell_type": "code",
   "execution_count": null,
   "id": "9e6c00dd-c058-4b19-abc9-1d29a72d0b7d",
   "metadata": {},
   "outputs": [],
   "source": []
  },
  {
   "cell_type": "code",
   "execution_count": null,
   "id": "fe27d427-6343-4695-8899-03b36e70f2d6",
   "metadata": {},
   "outputs": [],
   "source": []
  },
  {
   "cell_type": "code",
   "execution_count": null,
   "id": "b3f0d509-b2cf-440a-9340-ea11d26bf0a7",
   "metadata": {},
   "outputs": [],
   "source": []
  },
  {
   "cell_type": "code",
   "execution_count": null,
   "id": "d6fc5057-0403-4e65-af15-b8c21a04719e",
   "metadata": {},
   "outputs": [],
   "source": []
  },
  {
   "cell_type": "code",
   "execution_count": null,
   "id": "f0b2dd1f-be50-4848-901a-b93c593a7cde",
   "metadata": {},
   "outputs": [],
   "source": []
  },
  {
   "cell_type": "code",
   "execution_count": null,
   "id": "2cbeb434-5009-4423-932b-e65db104c59d",
   "metadata": {},
   "outputs": [],
   "source": []
  },
  {
   "cell_type": "code",
   "execution_count": null,
   "id": "634840fc-8fa6-4aa6-8f1a-45a4b2bbc4a5",
   "metadata": {},
   "outputs": [],
   "source": []
  },
  {
   "cell_type": "code",
   "execution_count": null,
   "id": "7754351b-23d0-477c-8972-8b190c95b8a0",
   "metadata": {},
   "outputs": [],
   "source": []
  },
  {
   "cell_type": "code",
   "execution_count": null,
   "id": "160e446c-bd8c-417b-bc89-a03211eb7b45",
   "metadata": {},
   "outputs": [],
   "source": []
  },
  {
   "cell_type": "code",
   "execution_count": null,
   "id": "0c060b11-748d-408e-9d72-e4b996dc1a87",
   "metadata": {},
   "outputs": [],
   "source": []
  },
  {
   "cell_type": "code",
   "execution_count": null,
   "id": "9629b3db-9bcb-4a35-b480-05dda942bb5e",
   "metadata": {},
   "outputs": [],
   "source": []
  },
  {
   "cell_type": "code",
   "execution_count": null,
   "id": "814a4ae7-293e-4741-b282-296eaec344e6",
   "metadata": {},
   "outputs": [],
   "source": []
  },
  {
   "cell_type": "code",
   "execution_count": null,
   "id": "e8f24c25-38d6-41bd-ac82-a44d57234ef4",
   "metadata": {},
   "outputs": [],
   "source": []
  },
  {
   "cell_type": "code",
   "execution_count": null,
   "id": "78815ab4-def8-41d3-8f7e-823d3bf12ac6",
   "metadata": {},
   "outputs": [],
   "source": []
  },
  {
   "cell_type": "code",
   "execution_count": null,
   "id": "1facad73-a0d5-450a-9230-7d9f855bcdb0",
   "metadata": {},
   "outputs": [],
   "source": []
  },
  {
   "cell_type": "code",
   "execution_count": null,
   "id": "7bf030e8-5a2c-463d-8255-3b4e67fa1275",
   "metadata": {},
   "outputs": [],
   "source": []
  },
  {
   "cell_type": "code",
   "execution_count": null,
   "id": "f09f0268-ad2f-40cc-a24e-cbe0ac2984e3",
   "metadata": {},
   "outputs": [],
   "source": []
  },
  {
   "cell_type": "code",
   "execution_count": null,
   "id": "55afec70-47aa-4c3d-8f7f-85a3ed1df2be",
   "metadata": {},
   "outputs": [],
   "source": []
  },
  {
   "cell_type": "code",
   "execution_count": null,
   "id": "2ce78678-9352-4708-834c-9a794fd8a78d",
   "metadata": {},
   "outputs": [],
   "source": []
  },
  {
   "cell_type": "code",
   "execution_count": null,
   "id": "56c4a526-7a16-446c-ac8d-4de413472da0",
   "metadata": {},
   "outputs": [],
   "source": []
  },
  {
   "cell_type": "code",
   "execution_count": null,
   "id": "a478dbbf-1ca8-4da7-a958-92ac7b2ebf0a",
   "metadata": {},
   "outputs": [],
   "source": []
  },
  {
   "cell_type": "code",
   "execution_count": null,
   "id": "a8dc1e2a-b3ff-4d09-b37e-d44bafa9348d",
   "metadata": {},
   "outputs": [],
   "source": []
  },
  {
   "cell_type": "code",
   "execution_count": null,
   "id": "b3308e08-96a9-4d37-8838-b1c42a226132",
   "metadata": {},
   "outputs": [],
   "source": []
  },
  {
   "cell_type": "code",
   "execution_count": null,
   "id": "6294eaf4-af16-4dbb-8060-69f93ce0664e",
   "metadata": {},
   "outputs": [],
   "source": []
  },
  {
   "cell_type": "code",
   "execution_count": null,
   "id": "57a365e3-7bd8-453b-a68e-115d4e42e655",
   "metadata": {},
   "outputs": [],
   "source": []
  },
  {
   "cell_type": "code",
   "execution_count": null,
   "id": "8fe4431c-eac3-4932-a170-86d670a6d0fe",
   "metadata": {},
   "outputs": [],
   "source": []
  },
  {
   "cell_type": "code",
   "execution_count": null,
   "id": "d2220878-1e28-44e4-873f-177b385432a9",
   "metadata": {},
   "outputs": [],
   "source": []
  },
  {
   "cell_type": "code",
   "execution_count": null,
   "id": "2bb8137f-d590-45a6-b679-336d83ab998c",
   "metadata": {},
   "outputs": [],
   "source": []
  },
  {
   "cell_type": "code",
   "execution_count": null,
   "id": "60f82061-61ae-4890-903f-9c749e328de7",
   "metadata": {},
   "outputs": [],
   "source": []
  },
  {
   "cell_type": "code",
   "execution_count": null,
   "id": "77481314-5def-4a43-adad-665debbac6f3",
   "metadata": {},
   "outputs": [],
   "source": []
  }
 ],
 "metadata": {
  "kernelspec": {
   "display_name": "Python 3 (ipykernel)",
   "language": "python",
   "name": "python3"
  },
  "language_info": {
   "codemirror_mode": {
    "name": "ipython",
    "version": 3
   },
   "file_extension": ".py",
   "mimetype": "text/x-python",
   "name": "python",
   "nbconvert_exporter": "python",
   "pygments_lexer": "ipython3",
   "version": "3.12.4"
  }
 },
 "nbformat": 4,
 "nbformat_minor": 5
}
