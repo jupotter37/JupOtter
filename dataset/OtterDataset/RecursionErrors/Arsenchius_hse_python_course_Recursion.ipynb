{
 "cells": [
  {
   "cell_type": "markdown",
   "id": "1471c99b",
   "metadata": {},
   "source": [
    "## Рекурсивные функции\n",
    "\n",
    "`Рекурсивная функция` - это функция, которая вызывает сама себя, и при каждом очередном вызове использует данные, созданные во время предыдущего вызова. В программировании есть ряд задач, которые проще (но не всегда эффективнее) решаются с помощью рекурсии. Чтобы разобраться в принципе работы рекурсивных функций, нужно понять (в самых общих чертах) концепцию `стека` вызовов."
   ]
  },
  {
   "cell_type": "markdown",
   "id": "cdcf9184",
   "metadata": {},
   "source": [
    "`Стек` – это структура данных LIFO (last in, first out): информация последовательно добавляется в «стопку» , каждый новый объект помещается поверх предыдущего, а извлекаются объекты в обратном порядке, – начиная с верхнего. Работу стека отлично иллюстрирует добавление данных в список с помощью `append` и извлечение информации посредством `pop`:"
   ]
  },
  {
   "cell_type": "code",
   "execution_count": 1,
   "id": "9d0a41a6",
   "metadata": {
    "scrolled": true
   },
   "outputs": [
    {
     "name": "stdout",
     "output_type": "stream",
     "text": [
      "+ 1-й элемент добавлен\n",
      "1-й элемент + 2-й элемент добавлен\n",
      "1-й элемент 2-й элемент + 3-й элемент добавлен\n",
      "1-й элемент 2-й элемент 3-й элемент + 4-й элемент добавлен\n",
      "1-й элемент 2-й элемент 3-й элемент 4-й элемент + 5-й элемент добавлен\n",
      "1-й элемент 2-й элемент 3-й элемент 4-й элемент 5-й элемент \n",
      "\n",
      "В стеке:  1-й элемент 2-й элемент 3-й элемент 4-й элемент 5-й элемент \n",
      "5-й элемент удален из стека\n",
      "В стеке:  1-й элемент 2-й элемент 3-й элемент 4-й элемент \n",
      "4-й элемент удален из стека\n",
      "В стеке:  1-й элемент 2-й элемент 3-й элемент \n",
      "3-й элемент удален из стека\n",
      "В стеке:  1-й элемент 2-й элемент \n",
      "2-й элемент удален из стека\n",
      "В стеке:  1-й элемент \n",
      "1-й элемент удален из стека\n"
     ]
    }
   ],
   "source": [
    "stack = []\n",
    "for i in range(1, 6):\n",
    "    stack.append(f'{i}-й элемент')\n",
    "    print(f'+ {i}-й элемент добавлен')\n",
    "    for i in stack:\n",
    "        print(i, end=\" \")\n",
    "print()\n",
    "print()\n",
    "for i in range(len(stack)):\n",
    "    print('В стеке: ', end=\" \")\n",
    "    for i in stack:\n",
    "        print(i, end=\" \")\n",
    "    print(f'\\n{stack.pop()} удален из стека')"
   ]
  },
  {
   "cell_type": "markdown",
   "id": "5a06a1a6",
   "metadata": {},
   "source": [
    "`Стек вызовов`, в свою очередь, – это область памяти, в которой выполняются функции. При каждом вызове функции создается фрейм – фрагмент памяти, – в котором содержится:\n",
    "\n",
    "- информация о текущем состоянии выполнения функции;\n",
    "- значения всех переменных, которые функция получила для обработки;\n",
    "- локальные данные, созданные во время очередного вызова;\n",
    "- сведения о строке программы, к которой нужно вернуться после выполнения функции.\n",
    "\n",
    "Фреймы помещаются в стек вызовов, как уже было показано в примере выше, и удаляются точно так же, сверху вниз. Рекурсивные функции при каждом новом вызове используют данные, созданные во время работы предыдущего вызова.\n",
    "\n",
    "\n",
    "Неверное же использование рекурсии приводит к переполнению стека (stack overflow). Популярный сайт StackOverflow назван как раз в честь этой ошибки."
   ]
  },
  {
   "cell_type": "markdown",
   "id": "b2f52b17",
   "metadata": {},
   "source": [
    "Переполнить стек в опытных целях можно с помощью простейшей рекурсивной функции, которая бесконечно вызывает сама себя, но не возвращает никаких данных и не содержит никакого условия для прекращения своей работы:"
   ]
  },
  {
   "cell_type": "code",
   "execution_count": 3,
   "id": "47645b95",
   "metadata": {},
   "outputs": [
    {
     "ename": "RecursionError",
     "evalue": "maximum recursion depth exceeded",
     "output_type": "error",
     "traceback": [
      "\u001b[0;31m---------------------------------------------------------------------------\u001b[0m",
      "\u001b[0;31mRecursionError\u001b[0m                            Traceback (most recent call last)",
      "Cell \u001b[0;32mIn[3], line 4\u001b[0m\n\u001b[1;32m      1\u001b[0m \u001b[38;5;28;01mdef\u001b[39;00m \u001b[38;5;21mrecursive\u001b[39m():\n\u001b[1;32m      2\u001b[0m     recursive()\n\u001b[0;32m----> 4\u001b[0m \u001b[43mrecursive\u001b[49m\u001b[43m(\u001b[49m\u001b[43m)\u001b[49m\n",
      "Cell \u001b[0;32mIn[3], line 2\u001b[0m, in \u001b[0;36mrecursive\u001b[0;34m()\u001b[0m\n\u001b[1;32m      1\u001b[0m \u001b[38;5;28;01mdef\u001b[39;00m \u001b[38;5;21mrecursive\u001b[39m():\n\u001b[0;32m----> 2\u001b[0m     \u001b[43mrecursive\u001b[49m\u001b[43m(\u001b[49m\u001b[43m)\u001b[49m\n",
      "Cell \u001b[0;32mIn[3], line 2\u001b[0m, in \u001b[0;36mrecursive\u001b[0;34m()\u001b[0m\n\u001b[1;32m      1\u001b[0m \u001b[38;5;28;01mdef\u001b[39;00m \u001b[38;5;21mrecursive\u001b[39m():\n\u001b[0;32m----> 2\u001b[0m     \u001b[43mrecursive\u001b[49m\u001b[43m(\u001b[49m\u001b[43m)\u001b[49m\n",
      "    \u001b[0;31m[... skipping similar frames: recursive at line 2 (2970 times)]\u001b[0m\n",
      "Cell \u001b[0;32mIn[3], line 2\u001b[0m, in \u001b[0;36mrecursive\u001b[0;34m()\u001b[0m\n\u001b[1;32m      1\u001b[0m \u001b[38;5;28;01mdef\u001b[39;00m \u001b[38;5;21mrecursive\u001b[39m():\n\u001b[0;32m----> 2\u001b[0m     \u001b[43mrecursive\u001b[49m\u001b[43m(\u001b[49m\u001b[43m)\u001b[49m\n",
      "\u001b[0;31mRecursionError\u001b[0m: maximum recursion depth exceeded"
     ]
    }
   ],
   "source": [
    "def recursive():\n",
    "    recursive()\n",
    "\n",
    "recursive()"
   ]
  },
  {
   "cell_type": "markdown",
   "id": "8ffd2945",
   "metadata": {},
   "source": [
    "Интерпретатор Python автоматически отслеживает переполнение стека и после 3000 бесплодных вызовов завершает работу подобных функций с ошибкой\n",
    "\n",
    "\n",
    "При желании лимит на глубину рекурсии можно увеличить, но сделать его бесконечным, разумеется, нельзя – даже самый внушительный объем оперативной памяти в итоге окажется переполненным:"
   ]
  },
  {
   "cell_type": "code",
   "execution_count": 4,
   "id": "8b311866",
   "metadata": {},
   "outputs": [
    {
     "name": "stdout",
     "output_type": "stream",
     "text": [
      "3000\n",
      "5000\n"
     ]
    }
   ],
   "source": [
    "from sys import getrecursionlimit\n",
    "from sys import setrecursionlimit\n",
    "print(getrecursionlimit()) # выводит лимит по умолчанию\n",
    "setrecursionlimit(5000) # увеличивает лимит до 2000 вызовов\n",
    "print(getrecursionlimit())# выводит новый лимит"
   ]
  },
  {
   "cell_type": "markdown",
   "id": "1b2be365",
   "metadata": {},
   "source": [
    "Чтобы стек вызовов не переполнялся, в каждой рекурсивной функции всегда должны быть предусмотрены два случая:\n",
    "\n",
    "- Граничный, при котором функция завершает работу и возвращает данные в основную программу.\n",
    "- Рекурсивный, при котором функция продолжает вызывать себя.\n",
    "\n",
    "Вот пример простейшей рекурсивной функции, в которой учтены оба случая:"
   ]
  },
  {
   "cell_type": "code",
   "execution_count": 5,
   "id": "a8672066",
   "metadata": {},
   "outputs": [
    {
     "name": "stdout",
     "output_type": "stream",
     "text": [
      "Hello world!\n",
      "Hello world\n",
      "Hello worl\n",
      "Hello wor\n",
      "Hello wo\n",
      "Hello w\n",
      "Hello \n",
      "Hello\n",
      "Hell\n",
      "Hel\n",
      "He\n",
      "H\n",
      "\n"
     ]
    }
   ],
   "source": [
    "def greetings(word):\n",
    "    print(word)\n",
    "    \n",
    "    if len(word) == 0:\n",
    "        return\n",
    "    else:\n",
    "        greetings(word[:-1])\n",
    "\n",
    "greetings(\"Hello world!\")"
   ]
  },
  {
   "cell_type": "code",
   "execution_count": 6,
   "id": "ffb92faf",
   "metadata": {},
   "outputs": [
    {
     "name": "stdout",
     "output_type": "stream",
     "text": [
      "Nikita\n",
      "Nikit\n",
      "Niki\n",
      "Nik\n",
      "Ni\n",
      "N\n",
      "\n"
     ]
    }
   ],
   "source": [
    "greetings(\"Nikita\")"
   ]
  },
  {
   "cell_type": "code",
   "execution_count": 7,
   "id": "20d96acd",
   "metadata": {},
   "outputs": [
    {
     "name": "stdout",
     "output_type": "stream",
     "text": [
      "Hello world!\n",
      "Hello world\n",
      "Hello worl\n",
      "Hello wor\n",
      "Hello wo\n",
      "Hello w\n",
      "Hello \n",
      "Hello\n",
      "Hell\n",
      "Hel\n",
      "He\n",
      "H\n",
      "\n"
     ]
    }
   ],
   "source": [
    "def greetings(word):\n",
    "    print(word)\n",
    "    \n",
    "    if len(word) >0:\n",
    "        greetings(word[:-1])\n",
    "\n",
    "greetings(\"Hello world!\")"
   ]
  },
  {
   "cell_type": "markdown",
   "id": "0e62d3dc",
   "metadata": {},
   "source": [
    "## Скорость выполнения: итерация vs рекурсия\n",
    "\n",
    "\n",
    "Рекурсивные функции работают медленнее обычных, поэтому их стоит применять только тогда, когда решить задачу без рекурсии сложно. Вот сравнение времени выполнения двух функций, рекурсивной `fib_recursive(n)` и обычной `fib_iter(n)`, решающих одну и ту же задачу – вычисление последовательности Фибоначчи:"
   ]
  },
  {
   "cell_type": "code",
   "execution_count": 8,
   "id": "60f1359f",
   "metadata": {},
   "outputs": [
    {
     "name": "stdout",
     "output_type": "stream",
     "text": [
      "Время выполнения итеративной функции:  0.1247612499864772\n",
      "Время выполнения рекурсивной функции:  2.494186917087063\n"
     ]
    }
   ],
   "source": [
    "from timeit import timeit\n",
    "\n",
    "def fib_iter(n):\n",
    "    if n == 1:\n",
    "        return [1]\n",
    "    if n == 2:\n",
    "        return [1, 1]\n",
    "    fibs = [1, 1]\n",
    "    for _ in range(2, n):\n",
    "        fibs.append(fibs[-1] + fibs[-2])\n",
    "    return fibs\n",
    "\n",
    "setup_code_iter = 'from __main__ import fib_iter'\n",
    "stmt_iter = 'fib_iter(15)'\n",
    "print('Время выполнения итеративной функции: ', timeit(setup=setup_code_iter, stmt=stmt_iter, number=20000))\n",
    "\n",
    "def fib_recursive(n):\n",
    "    if(n <= 1):\n",
    "        return n\n",
    "    else:\n",
    "        return(fib_recursive(n-1) + fib_recursive(n-2))\n",
    "    \n",
    "setup_code_rec = 'from __main__ import fib_recursive'\n",
    "stmt_rec = 'fib_recursive(15)'\n",
    "print('Время выполнения рекурсивной функции: ', timeit(setup=setup_code_rec, stmt=stmt_rec, number=20000))"
   ]
  },
  {
   "cell_type": "markdown",
   "id": "0dbffadb",
   "metadata": {},
   "source": [
    "В приведенном выше примере в обычной функции используется цикл for. Цикл выполняет итерацию (перебор), причем справляется с задачей гораздо быстрее, чем рекурсивная функция, поскольку рекурсия совершает множество повторных вызовов, и с увеличением числа элементов последовательности количество повторов растет лавинообразно:"
   ]
  },
  {
   "cell_type": "markdown",
   "id": "5af04462",
   "metadata": {},
   "source": [
    "![fibb](fib.png)"
   ]
  },
  {
   "cell_type": "markdown",
   "id": "6939214c",
   "metadata": {},
   "source": [
    "Итерацию можно назвать противоположностью рекурсии. Всегда, когда задачу можно решить итерацией (либо итерацией с использованием стека), следует делать выбор в пользу цикла for или while вместо рекурсии."
   ]
  },
  {
   "cell_type": "markdown",
   "id": "fe726039",
   "metadata": {},
   "source": [
    "Задание 1\n",
    "Напишите функцию для вычисления факториала числа. Решите задачу двумя способами – итеративным и рекурсивным.\n",
    "\n",
    "Примечание для рекурсивного решения: предположим, нам нужно вычислить 5! Факториал 5 равен: 5 х 4 х 3 х 2 х 1. Факториал 4: 4 х 3 х 2 х 1, факториал 3: 3 х 2 х 1, факториал 2: 2 х 1, и факториал 1 равен 1. Очевидно, что 5! = 5 x 4!, 4! = 4 x 3!, 3! = 3 x 2! и так далее до граничного случая 1! = 1, то есть каждый последующий факториал включает в себя определение предыдущего."
   ]
  },
  {
   "cell_type": "markdown",
   "id": "0311bd12",
   "metadata": {},
   "source": [
    "Решение 1 – итеративное:"
   ]
  },
  {
   "cell_type": "code",
   "execution_count": 9,
   "id": "479ecafe",
   "metadata": {},
   "outputs": [
    {
     "name": "stdout",
     "output_type": "stream",
     "text": [
      "5\n",
      "120\n"
     ]
    }
   ],
   "source": [
    "def fact_iter(n):\n",
    "    factorial = 1\n",
    "    for i in range(1, n + 1):\n",
    "        factorial *= i\n",
    "    return factorial\n",
    "print(fact_iter(int(input())))"
   ]
  },
  {
   "cell_type": "markdown",
   "id": "360e3eb8",
   "metadata": {},
   "source": [
    "Решение 2 – рекурсивное:"
   ]
  },
  {
   "cell_type": "code",
   "execution_count": 10,
   "id": "155c77af",
   "metadata": {},
   "outputs": [
    {
     "name": "stdout",
     "output_type": "stream",
     "text": [
      "5\n",
      "120\n"
     ]
    }
   ],
   "source": [
    "def fact_recursive(n):\n",
    "    if n == 1: # граничный случай\n",
    "        return 1\n",
    "    else: # рекурсивный случай\n",
    "        return n * fact_recursive(n - 1)\n",
    "print(fact_recursive(int(input())))"
   ]
  },
  {
   "cell_type": "markdown",
   "id": "70def96f",
   "metadata": {},
   "source": [
    "Задание 2\n",
    "Напишите программу для возведения числа n в степень m. Решите задачу двумя способами – итеративным и рекурсивным.\n",
    "\n",
    "Примечание для рекурсивного решения: предположим, что нужно возвести число 5 в степень 6. Свойства степени позволяют разбить процесс на более мелкие операции и представить выражение 5 ** 6 в виде (5 ** 3) ** 2. Этот подход работает в том случае, если степень представляет собой четное число. Если степень нечетная, следует воспользоваться другим свойством: (n ** m) x n = n ** (m + 1). Поскольку может ввести как четное, так и нечетное значение m, в функции должны быть два рекурсивных случая. В качестве граничного случая используется еще одно свойство степени: n ** 1 = n.\n",
    "\n",
    "Пример ввода:\n",
    "\n",
    "        \n",
    "12\n",
    "\n",
    "8\n",
    "\n",
    "    \n",
    "Вывод:\n",
    "\n",
    "        \n",
    "429981696"
   ]
  },
  {
   "cell_type": "markdown",
   "id": "e36d260e",
   "metadata": {},
   "source": [
    "Решение 1 – итеративное:"
   ]
  },
  {
   "cell_type": "code",
   "execution_count": 11,
   "id": "c3606c44",
   "metadata": {},
   "outputs": [
    {
     "name": "stdout",
     "output_type": "stream",
     "text": [
      "12\n",
      "8\n",
      "429981696\n"
     ]
    }
   ],
   "source": [
    "def pow_iter(n, m):\n",
    "    res = 1\n",
    "    for i in range(m):\n",
    "        res *= n\n",
    "    return res\n",
    "n, m = int(input()), int(input())\n",
    "print(pow_iter(n, m))"
   ]
  },
  {
   "cell_type": "markdown",
   "id": "d96974e7",
   "metadata": {},
   "source": [
    "Решение 2 – рекурсивное:"
   ]
  },
  {
   "cell_type": "code",
   "execution_count": 12,
   "id": "6f27b3ed",
   "metadata": {},
   "outputs": [
    {
     "name": "stdout",
     "output_type": "stream",
     "text": [
      "12\n",
      "8\n",
      "429981696\n"
     ]
    }
   ],
   "source": [
    "def pow_recursive(n, m):\n",
    "    if m == 1: # граничный случай\n",
    "        return n\n",
    "    elif m % 2 == 0: # четный рекурсивный случай\n",
    "        res = pow_recursive(n, m // 2)\n",
    "        return res * res\n",
    "    else: # нечетный рекурсивный случай\n",
    "        res = pow_recursive(n, m // 2)\n",
    "        return res * res * n\n",
    "n, m = int(input()), int(input())\n",
    "print(pow_recursive(n, m))"
   ]
  },
  {
   "cell_type": "markdown",
   "id": "37d0fac7",
   "metadata": {},
   "source": [
    "Задание 3\n",
    "Напишите итеративную и рекурсивную функции для вычисления суммы n первых членов геометрической прогрессии:\n",
    "\n",
    "<!-- ![task](task3.png) -->\n",
    "\n",
    "S = 1/2 + 1/(2^2) + 1/(2^3) + ... + + 1/(2^(n-1)) + 1/(2^n)\n",
    "\n",
    "Пример ввода:\n",
    "\n",
    "        \n",
    "9\n",
    "\n",
    "    \n",
    "Вывод:\n",
    "\n",
    "        \n",
    "1.99609375"
   ]
  },
  {
   "cell_type": "markdown",
   "id": "adf6e1a5",
   "metadata": {},
   "source": [
    "Решение 1: итеративное"
   ]
  },
  {
   "cell_type": "code",
   "execution_count": 14,
   "id": "8cf92c95",
   "metadata": {},
   "outputs": [
    {
     "name": "stdout",
     "output_type": "stream",
     "text": [
      "9\n",
      "1.99609375\n"
     ]
    }
   ],
   "source": [
    "def geometric_iter(n):\n",
    "    res = 0\n",
    "    for i in range(n):\n",
    "        res += 1 / 2 ** i\n",
    "    return res    \n",
    "print(geometric_iter(int(input())))"
   ]
  },
  {
   "cell_type": "markdown",
   "id": "865d2cb0",
   "metadata": {},
   "source": [
    "Решение 2: рекурсивное"
   ]
  },
  {
   "cell_type": "code",
   "execution_count": 13,
   "id": "3686126d",
   "metadata": {},
   "outputs": [
    {
     "name": "stdout",
     "output_type": "stream",
     "text": [
      "9\n",
      "1.998046875\n"
     ]
    }
   ],
   "source": [
    "def geometric_rec(n):\n",
    "    if n < 0: # граничный случай\n",
    "        return 0\n",
    "    else: # рекурсивный случай\n",
    "        return 1/2 ** n + geometric_rec(n-1)\n",
    "\n",
    "print(geometric_rec(int(input())))"
   ]
  },
  {
   "cell_type": "markdown",
   "id": "69f7440f",
   "metadata": {},
   "source": [
    "Примечание: если знаменатель не равен 1, задачу можно решить с помощью формулы суммы n первых членов геометрической прогрессии:"
   ]
  },
  {
   "cell_type": "code",
   "execution_count": 15,
   "id": "89554c3b",
   "metadata": {},
   "outputs": [
    {
     "name": "stdout",
     "output_type": "stream",
     "text": [
      "9\n",
      "1.99609375\n"
     ]
    }
   ],
   "source": [
    "b, q, n = 1, 0.5, int(input())\n",
    "print(b * (1 - q ** n) / (1 - q))"
   ]
  },
  {
   "cell_type": "markdown",
   "id": "69fa3c7d",
   "metadata": {},
   "source": [
    "Задание 4\n",
    "Напишите рекурсивную функцию, которая определяет, является ли введенная пользователем строка палиндромом.\n",
    "\n",
    "\n",
    "Пример ввода:\n",
    "\n",
    "        \n",
    "Лёша на полке клопа нашёл\n",
    "\n",
    "    \n",
    "Вывод:\n",
    "\n",
    "        \n",
    "True\n",
    "\n",
    "    \n"
   ]
  },
  {
   "cell_type": "markdown",
   "id": "2936c70a",
   "metadata": {},
   "source": [
    "Рекурсивное решение"
   ]
  },
  {
   "cell_type": "code",
   "execution_count": 16,
   "id": "e2ea7d2f",
   "metadata": {},
   "outputs": [
    {
     "name": "stdout",
     "output_type": "stream",
     "text": [
      "Лёша на полке клопа нашёл\n",
      "True\n"
     ]
    }
   ],
   "source": [
    "def palindrome(my_str):\n",
    "    if len(my_str) == 0 or len(my_str) == 1: # граничный случай\n",
    "        return True\n",
    "    else: # рекурсивный случай\n",
    "        head = my_str[0]\n",
    "        middle = my_str[1:-1]\n",
    "        end = my_str[-1]\n",
    "        return head == end and palindrome(middle)\n",
    "\n",
    "st = [i.lower() for i in input() if i.isalpha()]\n",
    "print((palindrome(st)))"
   ]
  },
  {
   "cell_type": "markdown",
   "id": "c43f2210",
   "metadata": {},
   "source": [
    "Решение без рекурсии"
   ]
  },
  {
   "cell_type": "code",
   "execution_count": 21,
   "id": "2cf5d069",
   "metadata": {},
   "outputs": [
    {
     "name": "stdout",
     "output_type": "stream",
     "text": [
      "Лёша на полке клопа нашёл\n",
      "True\n"
     ]
    }
   ],
   "source": [
    "st = [i.lower() for i in input() if i.isalpha()]\n",
    "print(st == st[::-1])"
   ]
  },
  {
   "cell_type": "code",
   "execution_count": null,
   "id": "19e4897b",
   "metadata": {},
   "outputs": [],
   "source": []
  }
 ],
 "metadata": {
  "kernelspec": {
   "display_name": "Python 3 (ipykernel)",
   "language": "python",
   "name": "python3"
  },
  "language_info": {
   "codemirror_mode": {
    "name": "ipython",
    "version": 3
   },
   "file_extension": ".py",
   "mimetype": "text/x-python",
   "name": "python",
   "nbconvert_exporter": "python",
   "pygments_lexer": "ipython3",
   "version": "3.10.8"
  }
 },
 "nbformat": 4,
 "nbformat_minor": 5
}
