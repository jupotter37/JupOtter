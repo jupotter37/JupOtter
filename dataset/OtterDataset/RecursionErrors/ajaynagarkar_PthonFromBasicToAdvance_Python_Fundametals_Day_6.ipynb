{
 "cells": [
  {
   "cell_type": "markdown",
   "id": "ba8f2580",
   "metadata": {},
   "source": [
    "# Functions"
   ]
  },
  {
   "cell_type": "markdown",
   "id": "8aae8a2b",
   "metadata": {},
   "source": [
    "##What are functions ............ \n",
    "bulit in functions\n",
    "user define functions(crated by users)\n",
    "block of code gives output when "
   ]
  },
  {
   "cell_type": "markdown",
   "id": "853009bb",
   "metadata": {},
   "source": [
    "abstraction = code is there but not seen\n",
    "decomposition  = small join to create a big \n",
    "comp9=onets of fuctions :\n",
    "def (keyword)\n",
    "\n",
    "def is_even(i):\n",
    "    \"Reading mannual or heading thing in functions\n",
    "    \"\n",
    "    body (working of funcitons) logic\n",
    "    \n",
    "    return statments or ouput to user\n",
    "    \n",
    "is_even(7) --recalling to function\n"
   ]
  },
  {
   "cell_type": "code",
   "execution_count": 1,
   "id": "94fce3ab",
   "metadata": {},
   "outputs": [
    {
     "name": "stdout",
     "output_type": "stream",
     "text": [
      "inside is_even\n"
     ]
    },
    {
     "data": {
      "text/plain": [
       "True"
      ]
     },
     "execution_count": 1,
     "metadata": {},
     "output_type": "execute_result"
    }
   ],
   "source": [
    "def is_even(i):\n",
    "    \"\"\"input: i ,a positive int \n",
    "    retruns  i if it is even numbeer other wise gives false \"\"\"\n",
    "    print('inside is_even')\n",
    "    return i%2==0\n",
    "is_even(2)"
   ]
  },
  {
   "cell_type": "code",
   "execution_count": 11,
   "id": "3c3cc531",
   "metadata": {},
   "outputs": [],
   "source": [
    "def is_even(num):\n",
    "    \"\"\"This functions returns given number is odd or even\n",
    "    input - any valid integer output - odd or even\n",
    "    created- 08 /08/ 2024\"\"\"\n",
    "    if type(num)==int:\n",
    "        if num % 2 ==0:\n",
    "            return ('Even',num)\n",
    "        else:\n",
    "            return ('Odd', num)\n",
    "    else:\n",
    "        return 'pagal he kya change kar data typer'"
   ]
  },
  {
   "cell_type": "code",
   "execution_count": 40,
   "id": "c9092f75",
   "metadata": {},
   "outputs": [
    {
     "name": "stdout",
     "output_type": "stream",
     "text": [
      "This functions returns given number is odd or even\n",
      "    input - any valid integer output - odd or even\n",
      "    created- 08 /08/ 2024\n",
      "Prints the values to a stream, or to sys.stdout by default.\n",
      "\n",
      "  sep\n",
      "    string inserted between values, default a space.\n",
      "  end\n",
      "    string appended after the last value, default a newline.\n",
      "  file\n",
      "    a file-like object (stream); defaults to the current sys.stdout.\n",
      "  flush\n",
      "    whether to forcibly flush the stream.\n"
     ]
    }
   ],
   "source": [
    "print(is_even.__doc__)\n",
    "print(print.__doc__)"
   ]
  },
  {
   "cell_type": "code",
   "execution_count": 12,
   "id": "fe913d12",
   "metadata": {},
   "outputs": [
    {
     "name": "stdout",
     "output_type": "stream",
     "text": [
      "('Odd', 1)\n",
      "('Even', 2)\n",
      "('Odd', 3)\n",
      "('Even', 4)\n",
      "('Odd', 5)\n",
      "('Even', 6)\n",
      "('Odd', 7)\n",
      "('Even', 8)\n",
      "('Odd', 9)\n"
     ]
    }
   ],
   "source": [
    "for i in range(1,10):\n",
    "    x = is_even(i)\n",
    "    \n",
    "    print(x)"
   ]
  },
  {
   "cell_type": "code",
   "execution_count": 13,
   "id": "b3cc0364",
   "metadata": {},
   "outputs": [
    {
     "data": {
      "text/plain": [
       "'pagal he kya change kar data typer'"
      ]
     },
     "execution_count": 13,
     "metadata": {},
     "output_type": "execute_result"
    }
   ],
   "source": [
    "is_even('hello')"
   ]
  },
  {
   "cell_type": "markdown",
   "id": "0a24bff1",
   "metadata": {},
   "source": [
    "Parameter vs Argument\n",
    "\n",
    "def is_even(parameter): when crating functions\n",
    "\n",
    "is_even(argument) : \n",
    "\n",
    "\n",
    "\n",
    "Types of arguments\n",
    "1) Default Arguements - "
   ]
  },
  {
   "cell_type": "code",
   "execution_count": 14,
   "id": "a9ae1c37",
   "metadata": {},
   "outputs": [],
   "source": [
    "# default arguements\n",
    "def power(a,b):\n",
    "    return (a**b)\n",
    "    "
   ]
  },
  {
   "cell_type": "code",
   "execution_count": 16,
   "id": "a08fc93d",
   "metadata": {},
   "outputs": [
    {
     "data": {
      "text/plain": [
       "64"
      ]
     },
     "execution_count": 16,
     "metadata": {},
     "output_type": "execute_result"
    }
   ],
   "source": [
    "power(2,6)"
   ]
  },
  {
   "cell_type": "code",
   "execution_count": null,
   "id": "37742816",
   "metadata": {},
   "outputs": [],
   "source": [
    "default argument # intilizationg the argumenats"
   ]
  },
  {
   "cell_type": "code",
   "execution_count": 18,
   "id": "891ed5be",
   "metadata": {},
   "outputs": [],
   "source": [
    "def power(a=1,b=2):\n",
    "    return(a**b)"
   ]
  },
  {
   "cell_type": "code",
   "execution_count": 19,
   "id": "e112dfa5",
   "metadata": {},
   "outputs": [
    {
     "data": {
      "text/plain": [
       "1"
      ]
     },
     "execution_count": 19,
     "metadata": {},
     "output_type": "execute_result"
    }
   ],
   "source": [
    "power()"
   ]
  },
  {
   "cell_type": "code",
   "execution_count": 20,
   "id": "fb82e8be",
   "metadata": {},
   "outputs": [
    {
     "data": {
      "text/plain": [
       "8"
      ]
     },
     "execution_count": 20,
     "metadata": {},
     "output_type": "execute_result"
    }
   ],
   "source": [
    "# positional argument\n",
    "power(2,3)"
   ]
  },
  {
   "cell_type": "code",
   "execution_count": 21,
   "id": "9cdff61b",
   "metadata": {},
   "outputs": [
    {
     "data": {
      "text/plain": [
       "4"
      ]
     },
     "execution_count": 21,
     "metadata": {},
     "output_type": "execute_result"
    }
   ],
   "source": [
    "# key world elements\n",
    "power(b=2,a = 2)"
   ]
  },
  {
   "cell_type": "code",
   "execution_count": 22,
   "id": "3761c087",
   "metadata": {},
   "outputs": [
    {
     "name": "stdout",
     "output_type": "stream",
     "text": [
      "This functions returns given number is odd or even\n",
      "    input - any valid integer output - odd or even\n",
      "    created- 08 /08/ 2024\n"
     ]
    }
   ],
   "source": [
    "print(is_even.__doc__)"
   ]
  },
  {
   "cell_type": "markdown",
   "id": "f32d9435",
   "metadata": {},
   "source": [
    "* arga and ** kwargs\n",
    "\n",
    "are special python keywords that are used to pass the variable length of arguments to a functions\n"
   ]
  },
  {
   "cell_type": "code",
   "execution_count": 26,
   "id": "f3fc077f",
   "metadata": {},
   "outputs": [],
   "source": [
    "## *args\n",
    "\n",
    "def multipy_1(a,b,c):\n",
    "    return (a*b*c)"
   ]
  },
  {
   "cell_type": "code",
   "execution_count": 27,
   "id": "38375e3f",
   "metadata": {},
   "outputs": [
    {
     "data": {
      "text/plain": [
       "6"
      ]
     },
     "execution_count": 27,
     "metadata": {},
     "output_type": "execute_result"
    }
   ],
   "source": [
    "multipy_1(2,3,1)"
   ]
  },
  {
   "cell_type": "code",
   "execution_count": 34,
   "id": "2f55b8b0",
   "metadata": {},
   "outputs": [],
   "source": [
    "def multipy (*args):\n",
    "    product = 1\n",
    "    \n",
    "    for i in args:\n",
    "        product = product * i\n",
    "    print(args)   \n",
    "    return product\n",
    "# internally forms agrs as tuple\n",
    "\n",
    "# do'ts known how many inputs are coming"
   ]
  },
  {
   "cell_type": "code",
   "execution_count": 35,
   "id": "c8ff2016",
   "metadata": {},
   "outputs": [
    {
     "name": "stdout",
     "output_type": "stream",
     "text": [
      "(3, 5, 4, 6, 7)\n"
     ]
    },
    {
     "data": {
      "text/plain": [
       "2520"
      ]
     },
     "execution_count": 35,
     "metadata": {},
     "output_type": "execute_result"
    }
   ],
   "source": [
    "multipy(3,5,4,6,7)"
   ]
  },
  {
   "cell_type": "code",
   "execution_count": 36,
   "id": "6e8555d2",
   "metadata": {},
   "outputs": [],
   "source": [
    "def multipy (*ajay):\n",
    "    product = 1\n",
    "    \n",
    "    for i in ajay:\n",
    "        product = product + i\n",
    "    print(ajay)   \n",
    "    return product"
   ]
  },
  {
   "cell_type": "code",
   "execution_count": 37,
   "id": "115f6eb3",
   "metadata": {},
   "outputs": [
    {
     "name": "stdout",
     "output_type": "stream",
     "text": [
      "(3, 5, 4, 6, 7)\n"
     ]
    },
    {
     "data": {
      "text/plain": [
       "26"
      ]
     },
     "execution_count": 37,
     "metadata": {},
     "output_type": "execute_result"
    }
   ],
   "source": [
    "multipy(3,5,4,6,7)"
   ]
  },
  {
   "cell_type": "code",
   "execution_count": null,
   "id": "c4a5eb18",
   "metadata": {},
   "outputs": [],
   "source": []
  },
  {
   "cell_type": "code",
   "execution_count": 43,
   "id": "0a01e43a",
   "metadata": {},
   "outputs": [],
   "source": [
    "## ** kwargs\n",
    "## ** kwargs allows us to pass any number of key word argunments\n",
    "# key words agrument they contians key values pairs like a dictonary\n",
    "def display(**kwargs):\n",
    "    \n",
    "    \n",
    "    for (key,values) in kwargs.items():\n",
    "        print(key, '->',values)"
   ]
  },
  {
   "cell_type": "code",
   "execution_count": 44,
   "id": "e87bf383",
   "metadata": {},
   "outputs": [
    {
     "name": "stdout",
     "output_type": "stream",
     "text": [
      "india -> delhi\n",
      "srilanka -> colombo\n"
     ]
    }
   ],
   "source": [
    "display(india='delhi',srilanka='colombo')"
   ]
  },
  {
   "cell_type": "code",
   "execution_count": null,
   "id": "eb7572a9",
   "metadata": {},
   "outputs": [],
   "source": [
    "# order of arguments is matter"
   ]
  },
  {
   "cell_type": "code",
   "execution_count": null,
   "id": "3d18813f",
   "metadata": {},
   "outputs": [],
   "source": [
    "\n",
    "\n",
    "## how funcitons executed in meomary"
   ]
  },
  {
   "cell_type": "code",
   "execution_count": null,
   "id": "0c09b3c7",
   "metadata": {},
   "outputs": [],
   "source": [
    "# variable scope\n",
    "\n",
    "def g(y):\n",
    "    print(x)\n",
    "    print(x+1)\n",
    "x=5\n",
    "g(x)\n",
    "print(x)"
   ]
  },
  {
   "cell_type": "code",
   "execution_count": 45,
   "id": "25ee2fb2",
   "metadata": {},
   "outputs": [
    {
     "name": "stdout",
     "output_type": "stream",
     "text": [
      "2\n",
      "5\n"
     ]
    }
   ],
   "source": [
    "def f(y):\n",
    "    x=1\n",
    "    x+=1\n",
    "    print(x)\n",
    "x=5\n",
    "f(x)\n",
    "print(x)"
   ]
  },
  {
   "cell_type": "code",
   "execution_count": 47,
   "id": "64a54dc8",
   "metadata": {},
   "outputs": [
    {
     "ename": "UnboundLocalError",
     "evalue": "cannot access local variable 'x' where it is not associated with a value",
     "output_type": "error",
     "traceback": [
      "\u001b[1;31m---------------------------------------------------------------------------\u001b[0m",
      "\u001b[1;31mUnboundLocalError\u001b[0m                         Traceback (most recent call last)",
      "Cell \u001b[1;32mIn[47], line 4\u001b[0m\n\u001b[0;32m      2\u001b[0m     x\u001b[38;5;241m+\u001b[39m\u001b[38;5;241m=\u001b[39m\u001b[38;5;241m1\u001b[39m\n\u001b[0;32m      3\u001b[0m x\u001b[38;5;241m=\u001b[39m\u001b[38;5;241m5\u001b[39m\n\u001b[1;32m----> 4\u001b[0m h(x)\n\u001b[0;32m      5\u001b[0m \u001b[38;5;28mprint\u001b[39m(x)\n",
      "Cell \u001b[1;32mIn[47], line 2\u001b[0m, in \u001b[0;36mh\u001b[1;34m(y)\u001b[0m\n\u001b[0;32m      1\u001b[0m \u001b[38;5;28;01mdef\u001b[39;00m \u001b[38;5;21mh\u001b[39m(y):\n\u001b[1;32m----> 2\u001b[0m     x\u001b[38;5;241m+\u001b[39m\u001b[38;5;241m=\u001b[39m\u001b[38;5;241m1\u001b[39m\n",
      "\u001b[1;31mUnboundLocalError\u001b[0m: cannot access local variable 'x' where it is not associated with a value"
     ]
    }
   ],
   "source": [
    "def h(y):\n",
    "    x+=1\n",
    "x=5\n",
    "h(x)\n",
    "print(x)"
   ]
  },
  {
   "cell_type": "code",
   "execution_count": 46,
   "id": "f653476f",
   "metadata": {},
   "outputs": [
    {
     "name": "stdout",
     "output_type": "stream",
     "text": [
      "in f(x) : = 4\n",
      "in main program scope: z= 4\n",
      "in main program scope: x 3\n"
     ]
    }
   ],
   "source": [
    "def f(x):\n",
    "    x= x+1\n",
    "    print('in f(x) : =',x)\n",
    "    return x\n",
    "x=3\n",
    "z= f(x)\n",
    "print('in main program scope: z=', z)\n",
    "print('in main program scope: x', x)"
   ]
  },
  {
   "cell_type": "code",
   "execution_count": 52,
   "id": "f7e14766",
   "metadata": {},
   "outputs": [],
   "source": [
    "# nested fuctions\n",
    "\n",
    "\n",
    "def f():\n",
    "    def g():\n",
    "        print('inside funcion g')\n",
    "    g()\n",
    "    print('inside fucntion f')"
   ]
  },
  {
   "cell_type": "code",
   "execution_count": 53,
   "id": "e527c00b",
   "metadata": {},
   "outputs": [
    {
     "name": "stdout",
     "output_type": "stream",
     "text": [
      "inside funcion g\n",
      "inside fucntion f\n"
     ]
    }
   ],
   "source": [
    "f()"
   ]
  },
  {
   "cell_type": "code",
   "execution_count": 54,
   "id": "3b3cc47b",
   "metadata": {},
   "outputs": [
    {
     "ename": "NameError",
     "evalue": "name 'g' is not defined",
     "output_type": "error",
     "traceback": [
      "\u001b[1;31m---------------------------------------------------------------------------\u001b[0m",
      "\u001b[1;31mNameError\u001b[0m                                 Traceback (most recent call last)",
      "Cell \u001b[1;32mIn[54], line 1\u001b[0m\n\u001b[1;32m----> 1\u001b[0m g()\n",
      "\u001b[1;31mNameError\u001b[0m: name 'g' is not defined"
     ]
    }
   ],
   "source": [
    "g()\n",
    "# we cannot call inside functions"
   ]
  },
  {
   "cell_type": "code",
   "execution_count": 57,
   "id": "9281c167",
   "metadata": {},
   "outputs": [],
   "source": [
    "def f():\n",
    "    def g():\n",
    "        print('inside funcion g')\n",
    "    f()\n",
    "    g()\n",
    "    print('inside fucntion f')"
   ]
  },
  {
   "cell_type": "code",
   "execution_count": 58,
   "id": "48f49b12",
   "metadata": {},
   "outputs": [
    {
     "ename": "RecursionError",
     "evalue": "maximum recursion depth exceeded",
     "output_type": "error",
     "traceback": [
      "\u001b[1;31m---------------------------------------------------------------------------\u001b[0m",
      "\u001b[1;31mRecursionError\u001b[0m                            Traceback (most recent call last)",
      "Cell \u001b[1;32mIn[58], line 1\u001b[0m\n\u001b[1;32m----> 1\u001b[0m f()\n",
      "Cell \u001b[1;32mIn[57], line 4\u001b[0m, in \u001b[0;36mf\u001b[1;34m()\u001b[0m\n\u001b[0;32m      2\u001b[0m \u001b[38;5;28;01mdef\u001b[39;00m \u001b[38;5;21mg\u001b[39m():\n\u001b[0;32m      3\u001b[0m     \u001b[38;5;28mprint\u001b[39m(\u001b[38;5;124m'\u001b[39m\u001b[38;5;124minside funcion g\u001b[39m\u001b[38;5;124m'\u001b[39m)\n\u001b[1;32m----> 4\u001b[0m f()\n\u001b[0;32m      5\u001b[0m g()\n\u001b[0;32m      6\u001b[0m \u001b[38;5;28mprint\u001b[39m(\u001b[38;5;124m'\u001b[39m\u001b[38;5;124minside fucntion f\u001b[39m\u001b[38;5;124m'\u001b[39m)\n",
      "Cell \u001b[1;32mIn[57], line 4\u001b[0m, in \u001b[0;36mf\u001b[1;34m()\u001b[0m\n\u001b[0;32m      2\u001b[0m \u001b[38;5;28;01mdef\u001b[39;00m \u001b[38;5;21mg\u001b[39m():\n\u001b[0;32m      3\u001b[0m     \u001b[38;5;28mprint\u001b[39m(\u001b[38;5;124m'\u001b[39m\u001b[38;5;124minside funcion g\u001b[39m\u001b[38;5;124m'\u001b[39m)\n\u001b[1;32m----> 4\u001b[0m f()\n\u001b[0;32m      5\u001b[0m g()\n\u001b[0;32m      6\u001b[0m \u001b[38;5;28mprint\u001b[39m(\u001b[38;5;124m'\u001b[39m\u001b[38;5;124minside fucntion f\u001b[39m\u001b[38;5;124m'\u001b[39m)\n",
      "    \u001b[1;31m[... skipping similar frames: f at line 4 (2970 times)]\u001b[0m\n",
      "Cell \u001b[1;32mIn[57], line 4\u001b[0m, in \u001b[0;36mf\u001b[1;34m()\u001b[0m\n\u001b[0;32m      2\u001b[0m \u001b[38;5;28;01mdef\u001b[39;00m \u001b[38;5;21mg\u001b[39m():\n\u001b[0;32m      3\u001b[0m     \u001b[38;5;28mprint\u001b[39m(\u001b[38;5;124m'\u001b[39m\u001b[38;5;124minside funcion g\u001b[39m\u001b[38;5;124m'\u001b[39m)\n\u001b[1;32m----> 4\u001b[0m f()\n\u001b[0;32m      5\u001b[0m g()\n\u001b[0;32m      6\u001b[0m \u001b[38;5;28mprint\u001b[39m(\u001b[38;5;124m'\u001b[39m\u001b[38;5;124minside fucntion f\u001b[39m\u001b[38;5;124m'\u001b[39m)\n",
      "\u001b[1;31mRecursionError\u001b[0m: maximum recursion depth exceeded"
     ]
    }
   ],
   "source": [
    "f()"
   ]
  },
  {
   "cell_type": "code",
   "execution_count": 59,
   "id": "b0a53c68",
   "metadata": {},
   "outputs": [
    {
     "name": "stdout",
     "output_type": "stream",
     "text": [
      "in g(x): x= 4\n"
     ]
    }
   ],
   "source": [
    "def g(x):\n",
    "    def h():\n",
    "        x = 'abc'\n",
    "    x=x+1\n",
    "    print('in g(x): x=',x)\n",
    "    h()\n",
    "    return x\n",
    "x=3\n",
    "z=g(x)"
   ]
  },
  {
   "cell_type": "markdown",
   "id": "16b9b95f",
   "metadata": {},
   "source": [
    "# First class citizens"
   ]
  },
  {
   "cell_type": "code",
   "execution_count": null,
   "id": "e377ed2e",
   "metadata": {},
   "outputs": [],
   "source": [
    "\n",
    "### we pass argument , returned form functions, assigned to variables"
   ]
  },
  {
   "cell_type": "code",
   "execution_count": 61,
   "id": "33349eac",
   "metadata": {},
   "outputs": [
    {
     "data": {
      "text/plain": [
       "function"
      ]
     },
     "execution_count": 61,
     "metadata": {},
     "output_type": "execute_result"
    }
   ],
   "source": [
    "def square(num):\n",
    "    return num * 2\n",
    "\n",
    "type(square)\n",
    "\n",
    "# funcions will acts like a data types"
   ]
  },
  {
   "cell_type": "code",
   "execution_count": 62,
   "id": "c8507f50",
   "metadata": {},
   "outputs": [
    {
     "data": {
      "text/plain": [
       "2127314012096"
      ]
     },
     "execution_count": 62,
     "metadata": {},
     "output_type": "execute_result"
    }
   ],
   "source": [
    "id(square)"
   ]
  },
  {
   "cell_type": "code",
   "execution_count": 64,
   "id": "d072ae92",
   "metadata": {},
   "outputs": [
    {
     "data": {
      "text/plain": [
       "6"
      ]
     },
     "execution_count": 64,
     "metadata": {},
     "output_type": "execute_result"
    }
   ],
   "source": [
    "## \n",
    "x= square\n",
    "x\n",
    "x(3)"
   ]
  },
  {
   "cell_type": "code",
   "execution_count": 65,
   "id": "3625aec9",
   "metadata": {},
   "outputs": [],
   "source": [
    "del square"
   ]
  },
  {
   "cell_type": "code",
   "execution_count": 66,
   "id": "c4502d00",
   "metadata": {},
   "outputs": [
    {
     "ename": "NameError",
     "evalue": "name 'square' is not defined",
     "output_type": "error",
     "traceback": [
      "\u001b[1;31m---------------------------------------------------------------------------\u001b[0m",
      "\u001b[1;31mNameError\u001b[0m                                 Traceback (most recent call last)",
      "Cell \u001b[1;32mIn[66], line 1\u001b[0m\n\u001b[1;32m----> 1\u001b[0m square(\u001b[38;5;241m3\u001b[39m)\n",
      "\u001b[1;31mNameError\u001b[0m: name 'square' is not defined"
     ]
    }
   ],
   "source": [
    "square(3)"
   ]
  },
  {
   "cell_type": "code",
   "execution_count": 68,
   "id": "df56e41d",
   "metadata": {},
   "outputs": [
    {
     "data": {
      "text/plain": [
       "function"
      ]
     },
     "execution_count": 68,
     "metadata": {},
     "output_type": "execute_result"
    }
   ],
   "source": [
    "def square(num):\n",
    "    return num * 2\n",
    "\n",
    "type(square)\n"
   ]
  },
  {
   "cell_type": "code",
   "execution_count": 69,
   "id": "55b7fea0",
   "metadata": {},
   "outputs": [
    {
     "name": "stdout",
     "output_type": "stream",
     "text": [
      "[1, 2, 3, 4, <function square at 0x000001EF4DCBE5C0>]\n"
     ]
    }
   ],
   "source": [
    "l =[1,2,3,4,square]\n",
    "print(l)"
   ]
  },
  {
   "cell_type": "code",
   "execution_count": 70,
   "id": "92f284e0",
   "metadata": {},
   "outputs": [
    {
     "data": {
      "text/plain": [
       "6"
      ]
     },
     "execution_count": 70,
     "metadata": {},
     "output_type": "execute_result"
    }
   ],
   "source": [
    "l[-1](3)"
   ]
  },
  {
   "cell_type": "code",
   "execution_count": 72,
   "id": "254d3371",
   "metadata": {},
   "outputs": [
    {
     "data": {
      "text/plain": [
       "{<function __main__.square(num)>}"
      ]
     },
     "execution_count": 72,
     "metadata": {},
     "output_type": "execute_result"
    }
   ],
   "source": [
    "s= {square}\n",
    "s"
   ]
  },
  {
   "cell_type": "code",
   "execution_count": 73,
   "id": "c6125ca6",
   "metadata": {},
   "outputs": [
    {
     "name": "stdout",
     "output_type": "stream",
     "text": [
      "7\n"
     ]
    }
   ],
   "source": [
    "# function returning a function\n",
    "def f():\n",
    "    def x(a,b):\n",
    "        return a+b\n",
    "    return x\n",
    "val = f()(3,4)\n",
    "print(val)"
   ]
  },
  {
   "cell_type": "code",
   "execution_count": 76,
   "id": "c75d031f",
   "metadata": {},
   "outputs": [
    {
     "name": "stdout",
     "output_type": "stream",
     "text": [
      "inside fun_c\n",
      "inside func_a\n",
      "None\n"
     ]
    }
   ],
   "source": [
    "# function as an argument\n",
    "def fun_a():\n",
    "    print('inside func_a')\n",
    "def func_b(z):\n",
    "    print('inside fun_c')\n",
    "    return z()\n",
    "print(func_b(fun_a))"
   ]
  },
  {
   "cell_type": "code",
   "execution_count": 78,
   "id": "fdcb253a",
   "metadata": {},
   "outputs": [],
   "source": [
    "## code modularity ()\n",
    "#code readibility\n",
    "#code usebility\n"
   ]
  },
  {
   "cell_type": "code",
   "execution_count": null,
   "id": "6c689099",
   "metadata": {},
   "outputs": [],
   "source": [
    "### Lambda functions"
   ]
  },
  {
   "cell_type": "code",
   "execution_count": null,
   "id": "f39f2e68",
   "metadata": {},
   "outputs": [],
   "source": [
    "# small anonymous functions\n",
    "# can take any number of agruments , but can only have one expression"
   ]
  },
  {
   "cell_type": "code",
   "execution_count": null,
   "id": "de7ab136",
   "metadata": {},
   "outputs": [],
   "source": [
    "## lmabda a,b: a+b"
   ]
  },
  {
   "cell_type": "code",
   "execution_count": 80,
   "id": "7c764f8e",
   "metadata": {},
   "outputs": [
    {
     "data": {
      "text/plain": [
       "4"
      ]
     },
     "execution_count": 80,
     "metadata": {},
     "output_type": "execute_result"
    }
   ],
   "source": [
    "y =lambda x:x*2\n",
    "y(2)"
   ]
  },
  {
   "cell_type": "code",
   "execution_count": 81,
   "id": "ee155107",
   "metadata": {},
   "outputs": [
    {
     "data": {
      "text/plain": [
       "7"
      ]
     },
     "execution_count": 81,
     "metadata": {},
     "output_type": "execute_result"
    }
   ],
   "source": [
    "a=lambda x,y: x+y\n",
    "a(5,2)"
   ]
  },
  {
   "cell_type": "code",
   "execution_count": null,
   "id": "24088798",
   "metadata": {},
   "outputs": [],
   "source": [
    "# differnces\n",
    "# lambda function dose not have any name\n",
    "# lambds function retrun is function\n",
    "# lambda functions written in one line\n",
    "# not reusable"
   ]
  },
  {
   "cell_type": "code",
   "execution_count": 82,
   "id": "bd1704ea",
   "metadata": {},
   "outputs": [
    {
     "data": {
      "text/plain": [
       "False"
      ]
     },
     "execution_count": 82,
     "metadata": {},
     "output_type": "execute_result"
    }
   ],
   "source": [
    "\n",
    "# lambda functions used with higher order function\n",
    "a=lambda s: 'a' in s\n",
    "a('hello')"
   ]
  },
  {
   "cell_type": "code",
   "execution_count": 83,
   "id": "397b1de2",
   "metadata": {},
   "outputs": [],
   "source": [
    "# odd or even\n",
    "y= lambda x: 'even' if x%2==0 else 'odd'"
   ]
  },
  {
   "cell_type": "code",
   "execution_count": 84,
   "id": "985221f8",
   "metadata": {},
   "outputs": [
    {
     "data": {
      "text/plain": [
       "'odd'"
      ]
     },
     "execution_count": 84,
     "metadata": {},
     "output_type": "execute_result"
    }
   ],
   "source": [
    "y(5)"
   ]
  },
  {
   "cell_type": "code",
   "execution_count": 85,
   "id": "3601ba4e",
   "metadata": {},
   "outputs": [
    {
     "name": "stdout",
     "output_type": "stream",
     "text": [
      "[1, 4, 9, 16, 25, 36]\n"
     ]
    }
   ],
   "source": [
    "# higher order functions\n",
    "\n",
    "# it retruns functions\n",
    "\n",
    "# input take other functions\n",
    "def square(x):\n",
    "    return x**2\n",
    "def transform(f,L):\n",
    "    output =[]\n",
    "    for i in L:\n",
    "        output.append(f(i))\n",
    "    print(output)\n",
    "    \n",
    "L=[1,2,3,4,5,6]\n",
    "transform(square,L)"
   ]
  },
  {
   "cell_type": "code",
   "execution_count": 87,
   "id": "f7429812",
   "metadata": {},
   "outputs": [
    {
     "data": {
      "text/plain": [
       "[1, 4, 9, 16, 25]"
      ]
     },
     "execution_count": 87,
     "metadata": {},
     "output_type": "execute_result"
    }
   ],
   "source": [
    "# map\n",
    "\n",
    "list(map(lambda x:x**2, [1,2,3,4,5]))"
   ]
  },
  {
   "cell_type": "code",
   "execution_count": 89,
   "id": "08e85f6f",
   "metadata": {},
   "outputs": [
    {
     "data": {
      "text/plain": [
       "['odd', 'even', 'odd', 'even', 'odd']"
      ]
     },
     "execution_count": 89,
     "metadata": {},
     "output_type": "execute_result"
    }
   ],
   "source": [
    "L =[1,2,3,4,5]\n",
    "list(map(lambda x:'even' if x%2==0 else 'odd',L))"
   ]
  },
  {
   "cell_type": "code",
   "execution_count": 92,
   "id": "bcd3152f",
   "metadata": {},
   "outputs": [],
   "source": [
    "# fetch names from a list\n",
    "\n",
    "users=[\n",
    "    {\n",
    "    'name':'Rahul',\n",
    "    'age':45,\n",
    "    'gender':'male'\n",
    "    },\n",
    "    {\n",
    "    'name':'ajay',\n",
    "    'age':451,\n",
    "    'gender':'male'\n",
    "        \n",
    "    },\n",
    "    {\n",
    "    'name':'vivjay',\n",
    "    'age':453,\n",
    "    'gender':'female'\n",
    "    }\n",
    "    \n",
    "    ]"
   ]
  },
  {
   "cell_type": "code",
   "execution_count": 93,
   "id": "c18e2a49",
   "metadata": {},
   "outputs": [
    {
     "data": {
      "text/plain": [
       "['male', 'male', 'female']"
      ]
     },
     "execution_count": 93,
     "metadata": {},
     "output_type": "execute_result"
    }
   ],
   "source": [
    "list(map(lambda users:users['gender'],users))"
   ]
  },
  {
   "cell_type": "code",
   "execution_count": 100,
   "id": "f5ca73f6",
   "metadata": {},
   "outputs": [
    {
     "data": {
      "text/plain": [
       "[6, 7, 8, 9]"
      ]
     },
     "execution_count": 100,
     "metadata": {},
     "output_type": "execute_result"
    }
   ],
   "source": [
    "## filter\n",
    "l = [3,4,5,6,7,8,9]\n",
    "list(filter(lambda x:x>5,l))"
   ]
  },
  {
   "cell_type": "code",
   "execution_count": 101,
   "id": "d8c04b3f",
   "metadata": {},
   "outputs": [
    {
     "data": {
      "text/plain": [
       "['apple']"
      ]
     },
     "execution_count": 101,
     "metadata": {},
     "output_type": "execute_result"
    }
   ],
   "source": [
    "fruits = ['apple','banana','orange']\n",
    "list(filter(lambda x:x.startswith('a'),fruits))"
   ]
  },
  {
   "cell_type": "code",
   "execution_count": 102,
   "id": "a9da6d49",
   "metadata": {},
   "outputs": [],
   "source": [
    "## reduce\n",
    "import functools"
   ]
  },
  {
   "cell_type": "code",
   "execution_count": 103,
   "id": "0538b24e",
   "metadata": {},
   "outputs": [
    {
     "data": {
      "text/plain": [
       "15"
      ]
     },
     "execution_count": 103,
     "metadata": {},
     "output_type": "execute_result"
    }
   ],
   "source": [
    "functools.reduce(lambda x,y: x+y,[1,2,3,4,5])"
   ]
  },
  {
   "cell_type": "code",
   "execution_count": 104,
   "id": "ec4b3b70",
   "metadata": {},
   "outputs": [
    {
     "data": {
      "text/plain": [
       "4"
      ]
     },
     "execution_count": 104,
     "metadata": {},
     "output_type": "execute_result"
    }
   ],
   "source": [
    "functools.reduce(lambda x,y: x if x<y else y, [23,56,45,4,8,9])"
   ]
  },
  {
   "cell_type": "code",
   "execution_count": 105,
   "id": "1a2a6024",
   "metadata": {},
   "outputs": [
    {
     "data": {
      "text/plain": [
       "56"
      ]
     },
     "execution_count": 105,
     "metadata": {},
     "output_type": "execute_result"
    }
   ],
   "source": [
    "functools.reduce(lambda x,y: x if x>y else y, [23,56,45,4,8,9])"
   ]
  },
  {
   "cell_type": "code",
   "execution_count": null,
   "id": "835dac4d",
   "metadata": {},
   "outputs": [],
   "source": []
  },
  {
   "cell_type": "code",
   "execution_count": null,
   "id": "a2f68db8",
   "metadata": {},
   "outputs": [],
   "source": []
  }
 ],
 "metadata": {
  "kernelspec": {
   "display_name": "Python 3 (ipykernel)",
   "language": "python",
   "name": "python3"
  },
  "language_info": {
   "codemirror_mode": {
    "name": "ipython",
    "version": 3
   },
   "file_extension": ".py",
   "mimetype": "text/x-python",
   "name": "python",
   "nbconvert_exporter": "python",
   "pygments_lexer": "ipython3",
   "version": "3.11.7"
  }
 },
 "nbformat": 4,
 "nbformat_minor": 5
}
