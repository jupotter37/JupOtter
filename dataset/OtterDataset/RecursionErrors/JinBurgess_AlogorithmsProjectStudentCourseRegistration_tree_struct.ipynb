{
 "cells": [
  {
   "cell_type": "code",
   "execution_count": 3,
   "metadata": {},
   "outputs": [
    {
     "name": "stdout",
     "output_type": "stream",
     "text": [
      "0\n"
     ]
    }
   ],
   "source": [
    "\n",
    "#  classes is an object constructor which allows for new instances of that type to be made\n",
    "# in BST, the base structure is a node with a possible left and right child\n",
    "\n",
    "# creating a class for the boject constructor of the base structure\n",
    "class Node:\n",
    "    def __init__(self, inserting_node):\n",
    "        self.inserting_node = inserting_node\n",
    "        self.left = None # intially, there are no left child for a node since structure has not been made\n",
    "        self.right = None # intially, there are no right child for a node\n",
    "        self.height = 1\n",
    "# inserting a node into the BST structure\n",
    "def insert(parent_node, inserting_node):\n",
    "    # If the tree is empty, return a new node\n",
    "    if parent_node is None:\n",
    "        return Node(inserting_node)\n",
    " \n",
    "    # Otherwise, recur down the tree\n",
    "\n",
    "    # checking to see if the node you want to insert is less than or greater than the nodes currently in the structure\n",
    "    # it will move it to the place within the BST and then do the comparison again if there are more nodes to compare\n",
    "    if inserting_node < parent_node.inserting_node:\n",
    "        parent_node.left = insert(parent_node.left, inserting_node)\n",
    "    else:\n",
    "        parent_node.right = insert(parent_node.right, inserting_node)\n",
    " \n",
    "    # Return the (unchanged) node pointer\n",
    "    return parent_node\n",
    "\n",
    "def height(root):\n",
    "            if root is None:\n",
    "                return 0\n",
    "            return root.height\n",
    "\n",
    "def balance_factor(node):\n",
    "        if node is None:\n",
    "            return 0  # Empty subtree has a balance factor of 0\n",
    "        left_height = height(node.left)\n",
    "        right_height = height(node.right)\n",
    "        return left_height - right_height \n",
    "\n",
    "# goes through the BST and finds if a value is within the tree\n",
    "def search_BST(root, value_check):\n",
    "    # checking to see if the tree doesn't have a root or if the value is the root node\n",
    "    if root is None or value_check == root.inserting_node:\n",
    "        return root\n",
    "    \n",
    "    # iterates through the tree to find the value\n",
    "    if value_check < root.inserting_node:\n",
    "        return search_BST(root.left,value_check) # if its smaller than the root/parent then look through the left sub-tree\n",
    "    else:\n",
    "        return search_BST(root.right,value_check) # if its smaller than the root/parent then look through the right sub-tree\n",
    "    \n",
    "    \n",
    "\n",
    "if __name__== \"__main__\":\n",
    "    root = None\n",
    "    root = insert(root, 5)\n",
    "    insert(root, 3)\n",
    "    insert(root, 2)\n",
    "    insert(root, 4)\n",
    "    insert(root, 7)\n",
    "    insert(root, 6)\n",
    "    insert(root, 8)\n",
    "    insert(root, 1)\n",
    "    \n",
    "    print(balance_factor(root))\n",
    "    # test_BST = [5,4,10,7,11, 1]\n",
    "    # for i, val in enumerate(test_BST, start=1):\n",
    "    #     result = search_BST(root, val)\n",
    "\n",
    "    #     if result is not None:\n",
    "    #         print(f\"Value {result.inserting_node} found in the BST.\")\n",
    "    #     else:\n",
    "    #         print(\"Value not found in the BST.\")\n",
    "\n",
    "\n",
    "# insert, delete, searchworst-case: O(n) \n",
    "# you could have a BST structure that looks like a list, every new input could be greater than the one before or vice versa\n",
    "\n",
    "# average runtime is O(nlog(n)) for all "
   ]
  },
  {
   "cell_type": "code",
   "execution_count": 6,
   "metadata": {},
   "outputs": [
    {
     "name": "stdout",
     "output_type": "stream",
     "text": [
      "[-1, 0]\n"
     ]
    },
    {
     "ename": "RecursionError",
     "evalue": "maximum recursion depth exceeded in comparison",
     "output_type": "error",
     "traceback": [
      "\u001b[0;31m---------------------------------------------------------------------------\u001b[0m",
      "\u001b[0;31mRecursionError\u001b[0m                            Traceback (most recent call last)",
      "Cell \u001b[0;32mIn[6], line 29\u001b[0m\n\u001b[1;32m     26\u001b[0m             \u001b[39melse\u001b[39;00m:\n\u001b[1;32m     27\u001b[0m                 \u001b[39mreturn\u001b[39;00m \u001b[39m-\u001b[39m\u001b[39m1\u001b[39m\n\u001b[0;32m---> 29\u001b[0m search(nums, target)\n",
      "Cell \u001b[0;32mIn[6], line 25\u001b[0m, in \u001b[0;36msearch\u001b[0;34m(nums, target)\u001b[0m\n\u001b[1;32m     23\u001b[0m \u001b[39melif\u001b[39;00m target \u001b[39m<\u001b[39m nums[mid]:\n\u001b[1;32m     24\u001b[0m     \u001b[39mprint\u001b[39m(nums[\u001b[39m0\u001b[39m:mid\u001b[39m-\u001b[39m\u001b[39m1\u001b[39m])\n\u001b[0;32m---> 25\u001b[0m     \u001b[39mreturn\u001b[39;00m search(nums[:mid\u001b[39m-\u001b[39m\u001b[39m1\u001b[39m], target)\n\u001b[1;32m     26\u001b[0m \u001b[39melse\u001b[39;00m:\n\u001b[1;32m     27\u001b[0m     \u001b[39mreturn\u001b[39;00m \u001b[39m-\u001b[39m\u001b[39m1\u001b[39m\n",
      "Cell \u001b[0;32mIn[6], line 21\u001b[0m, in \u001b[0;36msearch\u001b[0;34m(nums, target)\u001b[0m\n\u001b[1;32m     17\u001b[0m     \u001b[39mreturn\u001b[39;00m nums[mid]\n\u001b[1;32m     19\u001b[0m \u001b[39melif\u001b[39;00m target \u001b[39m>\u001b[39m nums[mid]:\n\u001b[0;32m---> 21\u001b[0m     \u001b[39mreturn\u001b[39;00m search(nums[mid:], target)\n\u001b[1;32m     23\u001b[0m \u001b[39melif\u001b[39;00m target \u001b[39m<\u001b[39m nums[mid]:\n\u001b[1;32m     24\u001b[0m     \u001b[39mprint\u001b[39m(nums[\u001b[39m0\u001b[39m:mid\u001b[39m-\u001b[39m\u001b[39m1\u001b[39m])\n",
      "Cell \u001b[0;32mIn[6], line 21\u001b[0m, in \u001b[0;36msearch\u001b[0;34m(nums, target)\u001b[0m\n\u001b[1;32m     17\u001b[0m     \u001b[39mreturn\u001b[39;00m nums[mid]\n\u001b[1;32m     19\u001b[0m \u001b[39melif\u001b[39;00m target \u001b[39m>\u001b[39m nums[mid]:\n\u001b[0;32m---> 21\u001b[0m     \u001b[39mreturn\u001b[39;00m search(nums[mid:], target)\n\u001b[1;32m     23\u001b[0m \u001b[39melif\u001b[39;00m target \u001b[39m<\u001b[39m nums[mid]:\n\u001b[1;32m     24\u001b[0m     \u001b[39mprint\u001b[39m(nums[\u001b[39m0\u001b[39m:mid\u001b[39m-\u001b[39m\u001b[39m1\u001b[39m])\n",
      "    \u001b[0;31m[... skipping similar frames: search at line 21 (2969 times)]\u001b[0m\n",
      "Cell \u001b[0;32mIn[6], line 21\u001b[0m, in \u001b[0;36msearch\u001b[0;34m(nums, target)\u001b[0m\n\u001b[1;32m     17\u001b[0m     \u001b[39mreturn\u001b[39;00m nums[mid]\n\u001b[1;32m     19\u001b[0m \u001b[39melif\u001b[39;00m target \u001b[39m>\u001b[39m nums[mid]:\n\u001b[0;32m---> 21\u001b[0m     \u001b[39mreturn\u001b[39;00m search(nums[mid:], target)\n\u001b[1;32m     23\u001b[0m \u001b[39melif\u001b[39;00m target \u001b[39m<\u001b[39m nums[mid]:\n\u001b[1;32m     24\u001b[0m     \u001b[39mprint\u001b[39m(nums[\u001b[39m0\u001b[39m:mid\u001b[39m-\u001b[39m\u001b[39m1\u001b[39m])\n",
      "Cell \u001b[0;32mIn[6], line 10\u001b[0m, in \u001b[0;36msearch\u001b[0;34m(nums, target)\u001b[0m\n\u001b[1;32m      4\u001b[0m \u001b[39mdef\u001b[39;00m \u001b[39msearch\u001b[39m(nums, target):\n\u001b[1;32m      5\u001b[0m \u001b[39m        \u001b[39m\u001b[39m\"\"\"\u001b[39;00m\n\u001b[1;32m      6\u001b[0m \u001b[39m        :type nums: List[int]\u001b[39;00m\n\u001b[1;32m      7\u001b[0m \u001b[39m        :type target: int\u001b[39;00m\n\u001b[1;32m      8\u001b[0m \u001b[39m        :rtype: int\u001b[39;00m\n\u001b[1;32m      9\u001b[0m \u001b[39m        \"\"\"\u001b[39;00m\n\u001b[0;32m---> 10\u001b[0m         \u001b[39mif\u001b[39;00m nums \u001b[39m==\u001b[39m \u001b[39mNone\u001b[39;00m:\n\u001b[1;32m     11\u001b[0m             \u001b[39mreturn\u001b[39;00m \u001b[39m-\u001b[39m\u001b[39m1\u001b[39m\n\u001b[1;32m     12\u001b[0m         \u001b[39melse\u001b[39;00m:\n",
      "\u001b[0;31mRecursionError\u001b[0m: maximum recursion depth exceeded in comparison"
     ]
    }
   ],
   "source": [
    "nums = [-1,0,3,5,9,12]\n",
    "target = 2\n",
    "\n",
    "def search(nums, target):\n",
    "        \"\"\"\n",
    "        :type nums: List[int]\n",
    "        :type target: int\n",
    "        :rtype: int\n",
    "        \"\"\"\n",
    "        if nums == None:\n",
    "            return -1\n",
    "        else:\n",
    "            N = len(nums)\n",
    "            mid = N//2\n",
    "            \n",
    "            if target == nums[mid]:\n",
    "                return nums[mid]\n",
    "\n",
    "            elif target > nums[mid]:\n",
    "                \n",
    "                return search(nums[mid:], target)\n",
    "\n",
    "            elif target < nums[mid]:\n",
    "                print(nums[0:mid-1])\n",
    "                return search(nums[:mid-1], target)\n",
    "            else:\n",
    "                return -1\n",
    "            \n",
    "search(nums, target)"
   ]
  }
 ],
 "metadata": {
  "kernelspec": {
   "display_name": "base",
   "language": "python",
   "name": "python3"
  },
  "language_info": {
   "codemirror_mode": {
    "name": "ipython",
    "version": 3
   },
   "file_extension": ".py",
   "mimetype": "text/x-python",
   "name": "python",
   "nbconvert_exporter": "python",
   "pygments_lexer": "ipython3",
   "version": "3.11.4"
  },
  "orig_nbformat": 4
 },
 "nbformat": 4,
 "nbformat_minor": 2
}
