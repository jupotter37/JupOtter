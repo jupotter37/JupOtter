{
 "cells": [
  {
   "cell_type": "markdown",
   "metadata": {
    "slideshow": {
     "slide_type": "slide"
    }
   },
   "source": [
    "## PROTOCOL\n",
    "<span class=\"mark\">왜 python에서는 object.length() 대신에 len(object)를 사용하나요?</span>"
   ]
  },
  {
   "cell_type": "markdown",
   "metadata": {
    "slideshow": {
     "slide_type": "subslide"
    }
   },
   "source": [
    "- 특정한 action에 대해 python 언어가 제시하는 protocol이 있습니다.\n",
    " - <span class=\"girk\">for문에서 iterable한 객체를 다루는 protocol을 떠올려보세요.</span>\n",
    "- 해당 protocol을 구현만 한다면 어느 객체도 python이 다룰 수 있습니다.\n",
    " - 사용자 객체도 builtin객체처럼 다룰 수 있는 강력한 장점을 제시합니다.\n",
    " - builtin처럼 동작시키기 위해 기존 상속 메커니즘(혹은 java에서 사용하는 interface)을 필요로 하지 않습니다.\n",
    " - 그저 *필요한 동작에 대한 protocol만 구현해주면 됩니다.*\n",
    "- dunder function 스타일로 구현합니다."
   ]
  },
  {
   "cell_type": "code",
   "execution_count": 1,
   "metadata": {
    "slideshow": {
     "slide_type": "subslide"
    }
   },
   "outputs": [
    {
     "data": {
      "text/plain": [
       "10"
      ]
     },
     "execution_count": 1,
     "metadata": {},
     "output_type": "execute_result"
    }
   ],
   "source": [
    "# 예) 객체의 길이계산은 __len__을 호출합니다.\n",
    "class Sample():\n",
    "    def __len__(self):\n",
    "        return 10\n",
    "\n",
    "len(Sample())    "
   ]
  },
  {
   "cell_type": "code",
   "execution_count": 5,
   "metadata": {
    "slideshow": {
     "slide_type": "subslide"
    }
   },
   "outputs": [
    {
     "data": {
      "text/plain": [
       "10"
      ]
     },
     "execution_count": 5,
     "metadata": {},
     "output_type": "execute_result"
    }
   ],
   "source": [
    "# 예) 호출은 __call__을 호출합니다.\n",
    "# 객체 인스턴스를 함수처럼 사용하기\n",
    "class Sample():\n",
    "    def __call__(self):\n",
    "        return 10\n",
    "    \n",
    "sample = Sample()\n",
    "sample()"
   ]
  },
  {
   "cell_type": "code",
   "execution_count": 8,
   "metadata": {
    "slideshow": {
     "slide_type": "subslide"
    }
   },
   "outputs": [
    {
     "data": {
      "text/plain": [
       "(True, True, True)"
      ]
     },
     "execution_count": 8,
     "metadata": {},
     "output_type": "execute_result"
    }
   ],
   "source": [
    "# 예) in operator는 __contains__를 호출합니다.\n",
    "class Sample():\n",
    "    def __contains__(self, any_value):\n",
    "        return True\n",
    "sample = Sample()\n",
    "10 in sample, 20 in sample, 30 in sample"
   ]
  },
  {
   "cell_type": "code",
   "execution_count": 11,
   "metadata": {
    "slideshow": {
     "slide_type": "subslide"
    }
   },
   "outputs": [
    {
     "ename": "RecursionError",
     "evalue": "maximum recursion depth exceeded",
     "output_type": "error",
     "traceback": [
      "\u001b[0;31m---------------------------------------------------------------------------\u001b[0m",
      "\u001b[0;31mRecursionError\u001b[0m                            Traceback (most recent call last)",
      "\u001b[0;32m<ipython-input-11-ea2e8d351eb2>\u001b[0m in \u001b[0;36m<module>\u001b[0;34m()\u001b[0m\n\u001b[1;32m      9\u001b[0m         \u001b[0msetattr\u001b[0m\u001b[0;34m(\u001b[0m\u001b[0mself\u001b[0m\u001b[0;34m,\u001b[0m \u001b[0mname\u001b[0m\u001b[0;34m,\u001b[0m \u001b[0;34m'Universe'\u001b[0m\u001b[0;34m)\u001b[0m\u001b[0;34m\u001b[0m\u001b[0m\n\u001b[1;32m     10\u001b[0m \u001b[0;34m\u001b[0m\u001b[0m\n\u001b[0;32m---> 11\u001b[0;31m \u001b[0mb\u001b[0m \u001b[0;34m=\u001b[0m \u001b[0mBlackhole\u001b[0m\u001b[0;34m(\u001b[0m\u001b[0;34m)\u001b[0m\u001b[0;34m\u001b[0m\u001b[0m\n\u001b[0m\u001b[1;32m     12\u001b[0m \u001b[0;31m# . operator로 접근할 때.\u001b[0m\u001b[0;34m\u001b[0m\u001b[0;34m\u001b[0m\u001b[0m\n\u001b[1;32m     13\u001b[0m \u001b[0mb\u001b[0m\u001b[0;34m.\u001b[0m\u001b[0mhello\u001b[0m \u001b[0;34m=\u001b[0m \u001b[0;34m'world'\u001b[0m\u001b[0;34m\u001b[0m\u001b[0m\n",
      "\u001b[0;32m<ipython-input-11-ea2e8d351eb2>\u001b[0m in \u001b[0;36m__init__\u001b[0;34m(self)\u001b[0m\n\u001b[1;32m      3\u001b[0m \u001b[0;32mclass\u001b[0m \u001b[0mBlackhole\u001b[0m\u001b[0;34m(\u001b[0m\u001b[0;34m)\u001b[0m\u001b[0;34m:\u001b[0m\u001b[0;34m\u001b[0m\u001b[0m\n\u001b[1;32m      4\u001b[0m     \u001b[0;32mdef\u001b[0m \u001b[0m__init__\u001b[0m\u001b[0;34m(\u001b[0m\u001b[0mself\u001b[0m\u001b[0;34m)\u001b[0m\u001b[0;34m:\u001b[0m\u001b[0;34m\u001b[0m\u001b[0m\n\u001b[0;32m----> 5\u001b[0;31m         \u001b[0mself\u001b[0m\u001b[0;34m.\u001b[0m\u001b[0mhello\u001b[0m \u001b[0;34m=\u001b[0m \u001b[0;34m'world'\u001b[0m\u001b[0;34m\u001b[0m\u001b[0m\n\u001b[0m\u001b[1;32m      6\u001b[0m \u001b[0;31m#     def __getattr__(self, name):\u001b[0m\u001b[0;34m\u001b[0m\u001b[0;34m\u001b[0m\u001b[0m\n\u001b[1;32m      7\u001b[0m \u001b[0;31m#         return 'Universe'\u001b[0m\u001b[0;34m\u001b[0m\u001b[0;34m\u001b[0m\u001b[0m\n",
      "\u001b[0;32m<ipython-input-11-ea2e8d351eb2>\u001b[0m in \u001b[0;36m__setattr__\u001b[0;34m(self, name, value)\u001b[0m\n\u001b[1;32m      7\u001b[0m \u001b[0;31m#         return 'Universe'\u001b[0m\u001b[0;34m\u001b[0m\u001b[0;34m\u001b[0m\u001b[0m\n\u001b[1;32m      8\u001b[0m     \u001b[0;32mdef\u001b[0m \u001b[0m__setattr__\u001b[0m\u001b[0;34m(\u001b[0m\u001b[0mself\u001b[0m\u001b[0;34m,\u001b[0m \u001b[0mname\u001b[0m\u001b[0;34m,\u001b[0m \u001b[0mvalue\u001b[0m\u001b[0;34m)\u001b[0m\u001b[0;34m:\u001b[0m\u001b[0;34m\u001b[0m\u001b[0m\n\u001b[0;32m----> 9\u001b[0;31m         \u001b[0msetattr\u001b[0m\u001b[0;34m(\u001b[0m\u001b[0mself\u001b[0m\u001b[0;34m,\u001b[0m \u001b[0mname\u001b[0m\u001b[0;34m,\u001b[0m \u001b[0;34m'Universe'\u001b[0m\u001b[0;34m)\u001b[0m\u001b[0;34m\u001b[0m\u001b[0m\n\u001b[0m\u001b[1;32m     10\u001b[0m \u001b[0;34m\u001b[0m\u001b[0m\n\u001b[1;32m     11\u001b[0m \u001b[0mb\u001b[0m \u001b[0;34m=\u001b[0m \u001b[0mBlackhole\u001b[0m\u001b[0;34m(\u001b[0m\u001b[0;34m)\u001b[0m\u001b[0;34m\u001b[0m\u001b[0m\n",
      "... last 1 frames repeated, from the frame below ...\n",
      "\u001b[0;32m<ipython-input-11-ea2e8d351eb2>\u001b[0m in \u001b[0;36m__setattr__\u001b[0;34m(self, name, value)\u001b[0m\n\u001b[1;32m      7\u001b[0m \u001b[0;31m#         return 'Universe'\u001b[0m\u001b[0;34m\u001b[0m\u001b[0;34m\u001b[0m\u001b[0m\n\u001b[1;32m      8\u001b[0m     \u001b[0;32mdef\u001b[0m \u001b[0m__setattr__\u001b[0m\u001b[0;34m(\u001b[0m\u001b[0mself\u001b[0m\u001b[0;34m,\u001b[0m \u001b[0mname\u001b[0m\u001b[0;34m,\u001b[0m \u001b[0mvalue\u001b[0m\u001b[0;34m)\u001b[0m\u001b[0;34m:\u001b[0m\u001b[0;34m\u001b[0m\u001b[0m\n\u001b[0;32m----> 9\u001b[0;31m         \u001b[0msetattr\u001b[0m\u001b[0;34m(\u001b[0m\u001b[0mself\u001b[0m\u001b[0;34m,\u001b[0m \u001b[0mname\u001b[0m\u001b[0;34m,\u001b[0m \u001b[0;34m'Universe'\u001b[0m\u001b[0;34m)\u001b[0m\u001b[0;34m\u001b[0m\u001b[0m\n\u001b[0m\u001b[1;32m     10\u001b[0m \u001b[0;34m\u001b[0m\u001b[0m\n\u001b[1;32m     11\u001b[0m \u001b[0mb\u001b[0m \u001b[0;34m=\u001b[0m \u001b[0mBlackhole\u001b[0m\u001b[0;34m(\u001b[0m\u001b[0;34m)\u001b[0m\u001b[0;34m\u001b[0m\u001b[0m\n",
      "\u001b[0;31mRecursionError\u001b[0m: maximum recursion depth exceeded"
     ]
    }
   ],
   "source": [
    "# 이상한 객체를 만들 수 있습니다.\n",
    "#__setattr__, __getattr__을 배우기 위함.\n",
    "class Blackhole():\n",
    "    def __init__(self):\n",
    "        self.hello = 'world'\n",
    "    def __getattr__(self, name):\n",
    "        return 'Universe'\n",
    "    \n",
    "b = Blackhole()\n",
    "b.hello = 'world'\n",
    "b.hello\n"
   ]
  },
  {
   "cell_type": "code",
   "execution_count": null,
   "metadata": {
    "slideshow": {
     "slide_type": "subslide"
    }
   },
   "outputs": [],
   "source": [
    "# 이상한 객체를 만들 수 있습니다.\n",
    "#__getitem__, __setitem__을 배우기 위함.\n",
    "class AnotherBlackhole():\n",
    "    def __getitem__(self, name):\n",
    "        return 'Universe'\n",
    "\n",
    "b = AnotherBlackhole()\n",
    "# [] operator로 접근할 때.\n",
    "b['hello'], b['world']"
   ]
  },
  {
   "cell_type": "markdown",
   "metadata": {
    "slideshow": {
     "slide_type": "subslide"
    }
   },
   "source": [
    "특정 protocol 구현여부를 검사할 수도 있습니다. (특정한 동작을 수행할 수 있는지)"
   ]
  },
  {
   "cell_type": "code",
   "execution_count": 8,
   "metadata": {
    "slideshow": {
     "slide_type": "subslide"
    }
   },
   "outputs": [
    {
     "name": "stdout",
     "output_type": "stream",
     "text": [
      "['AsyncGenerator', 'AsyncIterable', 'AsyncIterator', 'Awaitable', 'ByteString', 'Callable', 'Collection', 'Container', 'Coroutine', 'Generator', 'Hashable', 'ItemsView', 'Iterable', 'Iterator', 'KeysView', 'Mapping', 'MappingView', 'MutableMapping', 'MutableSequence', 'MutableSet', 'Reversible', 'Sequence', 'Set', 'Sized', 'ValuesView', '__all__', '__builtins__', '__cached__', '__doc__', '__file__', '__loader__', '__name__', '__package__', '__spec__']\n"
     ]
    },
    {
     "data": {
      "text/plain": [
       "(10, 20)"
      ]
     },
     "execution_count": 8,
     "metadata": {},
     "output_type": "execute_result"
    }
   ],
   "source": [
    "from collections.abc import Sized, Callable\n",
    "from collections import abc\n",
    "print(dir(abc))\n",
    "\n",
    "# 예) 객체의 길이계산은 __len__을 호출합니다.\n",
    "class Sample:\n",
    "    def __len__(self):\n",
    "        return 10\n",
    "    def __call__(self):\n",
    "        return 20\n",
    "\n",
    "sample = Sample()\n",
    "isinstance(sample, Sized) and len(sample), \\\n",
    "isinstance(sample, Callable) and sample()"
   ]
  },
  {
   "cell_type": "code",
   "execution_count": 9,
   "metadata": {
    "slideshow": {
     "slide_type": "subslide"
    }
   },
   "outputs": [
    {
     "data": {
      "text/plain": [
       "True"
      ]
     },
     "execution_count": 9,
     "metadata": {},
     "output_type": "execute_result"
    }
   ],
   "source": [
    "from collections.abc import Container\n",
    "class Sample:\n",
    "    def __contains__(self, _):\n",
    "        return True\n",
    "\n",
    "isinstance(Sample(), Container)"
   ]
  },
  {
   "cell_type": "markdown",
   "metadata": {
    "slideshow": {
     "slide_type": "subslide"
    }
   },
   "source": [
    "만약 어떤 새가 오리처럼 걷고, 헤엄치고, 꽥꽥거리는 소리를 낸다면 나는 그 새를 오리라고 부를 것이다.\n",
    "\n",
    "- duck typing"
   ]
  },
  {
   "cell_type": "markdown",
   "metadata": {},
   "source": [
    "> 컴퓨터 프로그래밍 분야에서 덕 타이핑(duck typing)은 동적 타이핑의 한 종류로, 객체의 변수 및 메소드의 집합이 객체의 타입을 결정하는 것을 말한다. <u>클래스 상속이나 인터페이스 구현으로 타입을 구분하는 대신, 덕 타이핑은 객체가 어떤 타입에 걸맞은 변수와 메소드를 지니면 객체를 해당 타입에 속하는 것으로 간주한다.</u> “덕 타이핑”이라는 용어는 다음과 같이 표현될 수 있는 덕 테스트에서 유래했다. (덕은 영어로 오리를 의미한다.)"
   ]
  },
  {
   "cell_type": "markdown",
   "metadata": {
    "slideshow": {
     "slide_type": "subslide"
    }
   },
   "source": [
    " - type을 이용한 비교를 잘 사용하지 않게 됩니다. 상속을 고려해주지 않기 때문입니다.\n",
    " - python모델은 가능한 많이 핵심 프로토콜과 협업하려고 애씁니다. 최소한의 인터페이스만 구현되어 있으면 그것을 최대한으로 활용해서 모델로서 동작하도록 구현되어있습니다.\n",
    " - python 클래스는 동적 변경이 가능하기 때문에 (monkey patching) duck-typing을 유연하게 사용할 수 있습니다. 어떤 객체든 인터페이스를 갖고 있으면 동작할 것이고, 그것이 최초에 가지고 있었던 후에 동적으로 추가되었던 상관하지 않기 때문입니다."
   ]
  },
  {
   "cell_type": "markdown",
   "metadata": {
    "slideshow": {
     "slide_type": "subslide"
    }
   },
   "source": [
    "그래도 굳이 내가 만든 함수에서 arguement의 type검사를 해본다고 합시다."
   ]
  },
  {
   "cell_type": "code",
   "execution_count": 1,
   "metadata": {
    "slideshow": {
     "slide_type": "fragment"
    }
   },
   "outputs": [],
   "source": [
    "# 나는 dict 형식의 argument만 받아서 처리하고 싶은 함수\n",
    "# 이렇게 잘 하지 않습니다만,\n",
    "def proc_dict(d):  # OrderedDict, Dict\n",
    "     if type(d) == type({}):\n",
    "            pass"
   ]
  },
  {
   "cell_type": "code",
   "execution_count": 7,
   "metadata": {
    "slideshow": {
     "slide_type": "subslide"
    }
   },
   "outputs": [
    {
     "name": "stdout",
     "output_type": "stream",
     "text": [
      "True\n",
      "True\n",
      "True\n"
     ]
    }
   ],
   "source": [
    "# builtin-dictionary와 호환되는 object를 만들고 싶다면\n",
    "from collections.abc import Mapping\n",
    "from collections import OrderedDict\n",
    "\n",
    "# 다음 세개 method중 하나라도 없으면 에러발생!\n",
    "class MyDict(Mapping):\n",
    "    def __getitem__(self, key):\n",
    "        return None\n",
    "    def __iter__(self):\n",
    "        pass\n",
    "    def __len__(self):\n",
    "        return 0\n",
    "\n",
    "print(isinstance({'hello': 'world'}, Mapping))\n",
    "print(isinstance(OrderedDict({'hello': 'world'}), Mapping))\n",
    "print(isinstance(MyDict(), Mapping))"
   ]
  },
  {
   "cell_type": "code",
   "execution_count": 2,
   "metadata": {
    "slideshow": {
     "slide_type": "subslide"
    }
   },
   "outputs": [
    {
     "ename": "TypeError",
     "evalue": "Can't instantiate abstract class MyIterableObject with abstract methods __next__",
     "output_type": "error",
     "traceback": [
      "\u001b[0;31m---------------------------------------------------------------------------\u001b[0m",
      "\u001b[0;31mTypeError\u001b[0m                                 Traceback (most recent call last)",
      "\u001b[0;32m<ipython-input-2-137678aad4a1>\u001b[0m in \u001b[0;36m<module>\u001b[0;34m()\u001b[0m\n\u001b[1;32m      5\u001b[0m     \u001b[0;32mpass\u001b[0m\u001b[0;34m\u001b[0m\u001b[0m\n\u001b[1;32m      6\u001b[0m \u001b[0;34m\u001b[0m\u001b[0m\n\u001b[0;32m----> 7\u001b[0;31m \u001b[0mMyIterableObject\u001b[0m\u001b[0;34m(\u001b[0m\u001b[0;34m)\u001b[0m\u001b[0;34m\u001b[0m\u001b[0m\n\u001b[0m",
      "\u001b[0;31mTypeError\u001b[0m: Can't instantiate abstract class MyIterableObject with abstract methods __next__"
     ]
    }
   ],
   "source": [
    "# https://docs.python.org/3/library/collections.abc.html\n",
    "from collections.abc import Iterator, Iterable\n",
    "\n",
    "class MyIterableObject(Iterator):\n",
    "    pass\n",
    "\n",
    "MyIterableObject()"
   ]
  },
  {
   "cell_type": "code",
   "execution_count": 3,
   "metadata": {
    "slideshow": {
     "slide_type": "subslide"
    }
   },
   "outputs": [
    {
     "ename": "TypeError",
     "evalue": "Can't instantiate abstract class MySizeCheckableObject with abstract methods __len__",
     "output_type": "error",
     "traceback": [
      "\u001b[0;31m---------------------------------------------------------------------------\u001b[0m",
      "\u001b[0;31mTypeError\u001b[0m                                 Traceback (most recent call last)",
      "\u001b[0;32m<ipython-input-3-ac42f35266dd>\u001b[0m in \u001b[0;36m<module>\u001b[0;34m()\u001b[0m\n\u001b[1;32m      5\u001b[0m     \u001b[0;32mpass\u001b[0m\u001b[0;34m\u001b[0m\u001b[0m\n\u001b[1;32m      6\u001b[0m \u001b[0;34m\u001b[0m\u001b[0m\n\u001b[0;32m----> 7\u001b[0;31m \u001b[0mMySizeCheckableObject\u001b[0m\u001b[0;34m(\u001b[0m\u001b[0;34m)\u001b[0m\u001b[0;34m\u001b[0m\u001b[0m\n\u001b[0m",
      "\u001b[0;31mTypeError\u001b[0m: Can't instantiate abstract class MySizeCheckableObject with abstract methods __len__"
     ]
    }
   ],
   "source": [
    "# https://docs.python.org/3/library/collections.abc.html\n",
    "from collections.abc import Sized\n",
    "\n",
    "class MySizeCheckableObject(Sized):\n",
    "    pass\n",
    "\n",
    "MySizeCheckableObject()"
   ]
  },
  {
   "cell_type": "markdown",
   "metadata": {
    "slideshow": {
     "slide_type": "slide"
    }
   },
   "source": [
    "Decorator again! 클래스로도 구현할 수 있습니다."
   ]
  },
  {
   "cell_type": "code",
   "execution_count": 2,
   "metadata": {
    "collapsed": true,
    "slideshow": {
     "slide_type": "subslide"
    }
   },
   "outputs": [],
   "source": [
    "import functools\n",
    "def decorator(func):\n",
    "    @functools.wraps(func)\n",
    "    def inner(*args, **kwargs):\n",
    "        print('before function call')\n",
    "        func(*args, **kwargs)\n",
    "        print('after function call')\n",
    "    return inner"
   ]
  },
  {
   "cell_type": "code",
   "execution_count": 1,
   "metadata": {
    "collapsed": true,
    "slideshow": {
     "slide_type": "subslide"
    }
   },
   "outputs": [],
   "source": [
    "class decorator_class(object):\n",
    "    def __init__(self, function):\n",
    "        self.function = function\n",
    "    def __call__(self, *args, ** kwargs):\n",
    "        # do something before invocation \n",
    "        result = self.function(*args, ** kwargs)\n",
    "        # do something after\n",
    "        return result"
   ]
  },
  {
   "cell_type": "markdown",
   "metadata": {
    "slideshow": {
     "slide_type": "slide"
    }
   },
   "source": [
    "## EXERCISE"
   ]
  },
  {
   "cell_type": "code",
   "execution_count": 4,
   "metadata": {},
   "outputs": [],
   "source": [
    "# pypi를 관리하는 class를 만들어봅시다.\n",
    "\n",
    "# url은 다음 형태로 관리됩니다.\n",
    "# https://pypi.python.org/pypi/Flask/0.12.2/json\n",
    "\n"
   ]
  },
  {
   "cell_type": "code",
   "execution_count": 5,
   "metadata": {
    "slideshow": {
     "slide_type": "skip"
    }
   },
   "outputs": [
    {
     "ename": "AssertionError",
     "evalue": "",
     "output_type": "error",
     "traceback": [
      "\u001b[0;31m---------------------------------------------------------------------------\u001b[0m",
      "\u001b[0;31mAssertionError\u001b[0m                            Traceback (most recent call last)",
      "\u001b[0;32m<ipython-input-5-0cc34c6c04f3>\u001b[0m in \u001b[0;36m<module>\u001b[0;34m()\u001b[0m\n\u001b[1;32m     47\u001b[0m \u001b[0;31m# 다음 세가지 속성을 사용할 수 있습니다. @property\u001b[0m\u001b[0;34m\u001b[0m\u001b[0;34m\u001b[0m\u001b[0m\n\u001b[1;32m     48\u001b[0m \u001b[0;32massert\u001b[0m\u001b[0;34m(\u001b[0m\u001b[0mpypi\u001b[0m\u001b[0;34m.\u001b[0m\u001b[0mauthor\u001b[0m \u001b[0;34m==\u001b[0m \u001b[0;34m'Armin Ronacher'\u001b[0m\u001b[0;34m)\u001b[0m\u001b[0;34m\u001b[0m\u001b[0m\n\u001b[0;32m---> 49\u001b[0;31m \u001b[0;32massert\u001b[0m \u001b[0mpypi\u001b[0m\u001b[0;34m.\u001b[0m\u001b[0mhome_page\u001b[0m \u001b[0;34m==\u001b[0m \u001b[0;34m\"http://github.com/pallets/flask/\"\u001b[0m\u001b[0;34m\u001b[0m\u001b[0m\n\u001b[0m\u001b[1;32m     50\u001b[0m \u001b[0;32massert\u001b[0m \u001b[0mpypi\u001b[0m\u001b[0;34m.\u001b[0m\u001b[0mversion\u001b[0m \u001b[0;34m==\u001b[0m \u001b[0;34m'0.12.2'\u001b[0m\u001b[0;34m\u001b[0m\u001b[0m\n\u001b[1;32m     51\u001b[0m \u001b[0;34m\u001b[0m\u001b[0m\n",
      "\u001b[0;31mAssertionError\u001b[0m: "
     ]
    }
   ],
   "source": [
    "import json\n",
    "from urllib.request import urlopen\n",
    "from urllib.error import HTTPError\n",
    "\n",
    "class PyPiError(Exception):\n",
    "    pass\n",
    "\n",
    "class PyPi:\n",
    "    def __init__(self, name, version=None):\n",
    "        base_url = 'https://pypi.python.org/pypi/'\n",
    "        if version:\n",
    "            url = base_url + name + '/' + version + '/json'\n",
    "        else:\n",
    "            url = base_url + name + '/json'\n",
    "        try:\n",
    "            self._data = json.load(urlopen(url))\n",
    "        except HTTPError:\n",
    "            raise PyPiError(f'{name} does not exists')\n",
    "        self.name = name\n",
    "        self.version = self._data['info']['version']\n",
    "\n",
    "    def to_json(self):\n",
    "        return json.dumps(self._data)\n",
    "    \n",
    "    def __repr__(self):\n",
    "        return f\"PyPi({self.name}, {self.version})\"\n",
    "    \n",
    "    def __str__(self):\n",
    "        return f\"PyPi({self.name}, {self.version}):str\"\n",
    "\n",
    "    def __getattr__(self, key):\n",
    "        return self._data['info'][key]\n",
    "    \n",
    "    def __len__(self):\n",
    "        return len(self._data)\n",
    "    \n",
    "    def __iter__(self):\n",
    "        return iter(self._data['info'])\n",
    "\n",
    "    def __contains__(self, key):\n",
    "        return key in self._data\n",
    "    \n",
    "########################################################################\n",
    "# 다음 테스트를 통과하도록 작성해보세요.\n",
    "pypi = PyPi('Flask')\n",
    "\n",
    "# 다음 세가지 속성을 사용할 수 있습니다. @property\n",
    "assert(pypi.author == 'Armin Ronacher')\n",
    "assert pypi.home_page == \"http://github.com/pallets/flask/\"\n",
    "assert pypi.version == '0.12.2'\n",
    "\n",
    "# # 다음 메서드를 만들어주세요.\n",
    "assert pypi.to_json()\n",
    "\n",
    "# 버전을 추가로 지정할 수 있습니다.\n",
    "pypi = PyPi('Flask', '0.9')\n",
    "\n",
    "assert pypi.version == '0.9'\n",
    "\n",
    "# # 존재하지 않는 버전이나 패키지를 찾을시에 오류발생\n",
    "# pypi = PyPi('Flaask')\n",
    "# raise Exception(\"Flaask doesn't exist.\")\n",
    "# pypi = PyPi('Flask', '99.99')\n",
    "# raise Exception(\"Flask(99.99) doesn't exist.\")\n",
    "\n",
    "# # 문자열표현을 만들어보아요.\n",
    "str(pypi), pypi\n",
    "# # > \"PyPi(Flask, 0.12.2)\"\n",
    "\n",
    "# # info의 모든 속성을 객체의 속성으로 연결해보세요.\n",
    "pypi.author_email, pypi.platform\n",
    "# # ...\n",
    "\n",
    "# # json데이터의 length를 계산해보세요.\n",
    "len(pypi)\n",
    "\n",
    "# # for-loop을 통해 info내용을 볼 수 있도록 만들어보아요.\n",
    "for key in pypi._data['info']:\n",
    "# for key in pypi:\n",
    "    print(key)\n",
    "    \n",
    "# # 특정 key값을 검사할 수 있는 기능을 만들어보아요.\n",
    "'x' in pypi"
   ]
  }
 ],
 "metadata": {
  "celltoolbar": "Slideshow",
  "kernelspec": {
   "display_name": "Python 3",
   "language": "python",
   "name": "python3"
  },
  "language_info": {
   "codemirror_mode": {
    "name": "ipython",
    "version": 3
   },
   "file_extension": ".py",
   "mimetype": "text/x-python",
   "name": "python",
   "nbconvert_exporter": "python",
   "pygments_lexer": "ipython3",
   "version": "3.6.1"
  }
 },
 "nbformat": 4,
 "nbformat_minor": 2
}
