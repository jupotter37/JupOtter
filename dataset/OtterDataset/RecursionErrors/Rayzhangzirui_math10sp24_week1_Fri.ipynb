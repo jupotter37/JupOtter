{
 "cells": [
  {
   "cell_type": "markdown",
   "id": "31c26b81",
   "metadata": {},
   "source": [
    "# week1 Fri"
   ]
  },
  {
   "cell_type": "markdown",
   "id": "b0dec18f",
   "metadata": {},
   "source": [
    "## function"
   ]
  },
  {
   "cell_type": "code",
   "execution_count": 1,
   "id": "67f6988b",
   "metadata": {},
   "outputs": [
    {
     "name": "stdout",
     "output_type": "stream",
     "text": [
      "None\n"
     ]
    }
   ],
   "source": [
    "# what is the output\n",
    "\n",
    "def addone(x):\n",
    "    x + 1\n",
    "\n",
    "y = addone(2)\n",
    "print(y)\n",
    "\n",
    "# (<--) 3\n",
    "# (-->) None\n",
    "# ( ) 2\n",
    "\n",
    "# if no return, then return None"
   ]
  },
  {
   "cell_type": "code",
   "execution_count": 2,
   "id": "75636a10",
   "metadata": {},
   "outputs": [
    {
     "name": "stdout",
     "output_type": "stream",
     "text": [
      "3\n"
     ]
    }
   ],
   "source": [
    "# need to specify return\n",
    "def addone(x):\n",
    "    return x + 1\n",
    "\n",
    "y = addone(2)\n",
    "print(y)\n"
   ]
  },
  {
   "cell_type": "code",
   "execution_count": 4,
   "id": "e832e624",
   "metadata": {},
   "outputs": [
    {
     "name": "stdout",
     "output_type": "stream",
     "text": [
      "1\n"
     ]
    }
   ],
   "source": [
    "def myadd(x):\n",
    "    a = x + 1\n",
    "    return a\n",
    "\n",
    "a = 1\n",
    "c = 2\n",
    "b = myadd(c)\n",
    "\n",
    "# what is a\n",
    "# (<-) a = 3\n",
    "# (->) a = 1\n",
    "# ( ) a = 2\n",
    "print(a)\n",
    "\n",
    "# a is a local variable, does not change the variable a outside"
   ]
  },
  {
   "cell_type": "code",
   "execution_count": 5,
   "id": "bca167ca",
   "metadata": {},
   "outputs": [
    {
     "name": "stdout",
     "output_type": "stream",
     "text": [
      "[99, 1, 2]\n"
     ]
    }
   ],
   "source": [
    "def myfun(x):\n",
    "    x[0] = 99\n",
    "    return x\n",
    "\n",
    "x = [0,1,2]\n",
    "y = myfun(x)\n",
    "\n",
    "print(x)\n",
    "#  what is the output\n",
    "# (<-) [0,1,2]\n",
    "# (->) [99,1,2]\n",
    "# ( ) None\n",
    "\n",
    "# list is mutable, x and y are bound to the same list"
   ]
  },
  {
   "cell_type": "code",
   "execution_count": 6,
   "id": "521bef6d",
   "metadata": {},
   "outputs": [
    {
     "name": "stdout",
     "output_type": "stream",
     "text": [
      "[99, 1, -1]\n"
     ]
    }
   ],
   "source": [
    "y[-1] = -1\n",
    "print(x)"
   ]
  },
  {
   "cell_type": "code",
   "execution_count": 7,
   "id": "cb872277",
   "metadata": {},
   "outputs": [
    {
     "name": "stdout",
     "output_type": "stream",
     "text": [
      "8\n"
     ]
    }
   ],
   "source": [
    "def cubic(x):\n",
    "    return x**3\n",
    "\n",
    "def evaluate(f,x):\n",
    "    return f(x)\n",
    "\n",
    "print(evaluate(cubic, 2))\n",
    "\n",
    "# function can be argument of another function"
   ]
  },
  {
   "cell_type": "code",
   "execution_count": 10,
   "id": "b1f10d14",
   "metadata": {},
   "outputs": [
    {
     "name": "stdout",
     "output_type": "stream",
     "text": [
      "4\n",
      "8\n"
     ]
    }
   ],
   "source": [
    "# function can have multiple output\n",
    "def myfun(x):\n",
    "    return x**2, x**3\n",
    "\n",
    "a,b = myfun(2)\n",
    "print(a)\n",
    "print(b)"
   ]
  },
  {
   "cell_type": "code",
   "execution_count": 12,
   "id": "9f9843d1",
   "metadata": {},
   "outputs": [
    {
     "name": "stdout",
     "output_type": "stream",
     "text": [
      "(4, 8)\n"
     ]
    }
   ],
   "source": [
    "# what is \n",
    "# (<-) 4\n",
    "# (->) (4,8)\n",
    "# ( ) 8\n",
    "\n",
    "c = myfun(2)\n",
    "print(c)\n",
    "\n",
    "# myfun actually return a tuple"
   ]
  },
  {
   "cell_type": "code",
   "execution_count": 13,
   "id": "a285704e",
   "metadata": {},
   "outputs": [
    {
     "name": "stdout",
     "output_type": "stream",
     "text": [
      "0\n",
      "1\n"
     ]
    }
   ],
   "source": [
    "a,b = (0,1)\n",
    "print(a)\n",
    "print(b)\n",
    "\n",
    "# and the tuple is unpacked to the variables"
   ]
  },
  {
   "cell_type": "code",
   "execution_count": 14,
   "id": "65956ceb",
   "metadata": {},
   "outputs": [
    {
     "name": "stdout",
     "output_type": "stream",
     "text": [
      "[1, 2]\n"
     ]
    }
   ],
   "source": [
    "# function can have default arguments\n",
    "def gen_list(x, y = 1):\n",
    "    return [x,y]\n",
    "\n",
    "print(gen_list(1,2))\n",
    "\n"
   ]
  },
  {
   "cell_type": "code",
   "execution_count": 15,
   "id": "850449b2",
   "metadata": {},
   "outputs": [
    {
     "name": "stdout",
     "output_type": "stream",
     "text": [
      "[1, 1]\n"
     ]
    }
   ],
   "source": [
    "print(gen_list(1))"
   ]
  },
  {
   "cell_type": "code",
   "execution_count": 16,
   "id": "156e6b69",
   "metadata": {},
   "outputs": [
    {
     "name": "stdout",
     "output_type": "stream",
     "text": [
      "2\n"
     ]
    }
   ],
   "source": [
    "a = 1\n",
    "def myfun(x):\n",
    "    return x + a\n",
    "\n",
    "print(myfun(1))\n",
    "\n",
    "# what is printed\n",
    "# (<-) error\n",
    "# (->) 2\n",
    "# ( ) 1\n",
    "\n",
    "# when the function does not find the definition of \"a\" inside (in the local scope)\n",
    "# it try to find it outside (in the global scope of the file)"
   ]
  },
  {
   "cell_type": "code",
   "execution_count": 17,
   "id": "881a1647",
   "metadata": {},
   "outputs": [
    {
     "name": "stdout",
     "output_type": "stream",
     "text": [
      "11\n"
     ]
    }
   ],
   "source": [
    "a = 10 \n",
    "print(myfun(1))\n",
    "# what is printed\n",
    "# (<-) 11\n",
    "# (->) 2\n",
    "# ( ) error\n"
   ]
  },
  {
   "cell_type": "code",
   "execution_count": 33,
   "id": "3dd40c33",
   "metadata": {},
   "outputs": [
    {
     "name": "stdout",
     "output_type": "stream",
     "text": [
      "6\n"
     ]
    }
   ],
   "source": [
    "def myfun(n):\n",
    "    if n == 1:\n",
    "        return 1\n",
    "    else:\n",
    "        return n*myfun(n-1)\n",
    "\n",
    "print(myfun(3))\n",
    "\n",
    "# what is printed\n",
    "# (<-) 1\n",
    "# (->) 6\n",
    "# ( ) 3\n",
    "\n",
    "\n",
    "# this is recursion: a function can call it self.\n",
    "# the function compute n-factorial: myfun(n) = n! =  n * (n-1) * (n-2) ... * 2 * 1"
   ]
  },
  {
   "cell_type": "code",
   "execution_count": 35,
   "id": "e92f4743",
   "metadata": {},
   "outputs": [],
   "source": [
    "# what happen\n",
    "# myfun(3.5)\n",
    "\n",
    "\n",
    "# this is dangerous, the function never return anything and similar to \"infinite loop\"\n",
    "# myfun(3.5) calls myfun(2.5), which calls myfun(1.5), calls myfun(0.5), ....\n",
    "# because the input is nevery 1, this goes on forever in theory\n",
    "# in practice, python terminate the problem and give the following error:\n",
    "# RecursionError: maximum recursion depth exceeded in comparison"
   ]
  },
  {
   "cell_type": "code",
   "execution_count": 20,
   "id": "2835da19",
   "metadata": {},
   "outputs": [
    {
     "data": {
      "text/plain": [
       "function"
      ]
     },
     "execution_count": 20,
     "metadata": {},
     "output_type": "execute_result"
    }
   ],
   "source": [
    "type(myfun)"
   ]
  },
  {
   "cell_type": "code",
   "execution_count": 19,
   "id": "45b1853f",
   "metadata": {},
   "outputs": [
    {
     "data": {
      "text/plain": [
       "function"
      ]
     },
     "execution_count": 19,
     "metadata": {},
     "output_type": "execute_result"
    }
   ],
   "source": [
    "# lambda function is same as regular function defined using \"def\"\n",
    "f = lambda x:x+2\n",
    "type(f)"
   ]
  },
  {
   "cell_type": "code",
   "execution_count": 21,
   "id": "b57660ae",
   "metadata": {},
   "outputs": [
    {
     "data": {
      "text/plain": [
       "2"
      ]
     },
     "execution_count": 21,
     "metadata": {},
     "output_type": "execute_result"
    }
   ],
   "source": [
    "a = 1\n",
    "fa = lambda x:x+a\n",
    "fa(1)"
   ]
  },
  {
   "cell_type": "code",
   "execution_count": 22,
   "id": "ca56b315",
   "metadata": {},
   "outputs": [
    {
     "data": {
      "text/plain": [
       "11"
      ]
     },
     "execution_count": 22,
     "metadata": {},
     "output_type": "execute_result"
    }
   ],
   "source": [
    "a = 10\n",
    "fa(1)\n"
   ]
  },
  {
   "cell_type": "code",
   "execution_count": 24,
   "id": "ac76fc31",
   "metadata": {},
   "outputs": [
    {
     "name": "stdout",
     "output_type": "stream",
     "text": [
      "[5, 2, 3, 1, 4]\n"
     ]
    }
   ],
   "source": [
    "a = [5,2,3,1,4]\n",
    "b = sorted(a)\n",
    "# is \"a\" sorted in the end?\n",
    "# (<-) Yes\n",
    "# (->) no\n",
    "# ( ) Don't know\n",
    "print(a)\n",
    "\n",
    "# this return a new list, that is sorted"
   ]
  },
  {
   "cell_type": "code",
   "execution_count": 32,
   "id": "5d88f270",
   "metadata": {},
   "outputs": [
    {
     "name": "stdout",
     "output_type": "stream",
     "text": [
      "[1, 2, 3, 4, 5]\n"
     ]
    }
   ],
   "source": [
    "a = [5,2,3,1,4]\n",
    "c = a.sort()\n",
    "# is \"a\" sorted in the end?\n",
    "# (<-) Yes\n",
    "# (->) no\n",
    "# ( ) Don't know\n",
    "print(a)\n",
    "\n",
    "# this sorts the list \"a\" in-place, it returns None"
   ]
  },
  {
   "cell_type": "code",
   "execution_count": 26,
   "id": "7de1be19",
   "metadata": {},
   "outputs": [
    {
     "name": "stdout",
     "output_type": "stream",
     "text": [
      "None\n"
     ]
    }
   ],
   "source": [
    "print(c)\n",
    "# what is c\n",
    "# (<-) None\n",
    "# (->) \"a\" but sorted\n",
    "# ( ) don't know\n"
   ]
  },
  {
   "cell_type": "code",
   "execution_count": 31,
   "id": "5a1f88c1",
   "metadata": {},
   "outputs": [
    {
     "data": {
      "text/plain": [
       "[5, 4, 3, -1, -2]"
      ]
     },
     "execution_count": 31,
     "metadata": {},
     "output_type": "execute_result"
    }
   ],
   "source": [
    "c = [5, -2, 3, -1, 4]\n",
    "# how to sort by decreasing order of the absolute value of the elements\n",
    "sorted(c, reverse = True, key = lambda x:abs(x))\n",
    "\n"
   ]
  }
 ],
 "metadata": {
  "kernelspec": {
   "display_name": "Python 3 (ipykernel)",
   "language": "python",
   "name": "python3"
  },
  "language_info": {
   "codemirror_mode": {
    "name": "ipython",
    "version": 3
   },
   "file_extension": ".py",
   "mimetype": "text/x-python",
   "name": "python",
   "nbconvert_exporter": "python",
   "pygments_lexer": "ipython3",
   "version": "3.7.13"
  }
 },
 "nbformat": 4,
 "nbformat_minor": 5
}
