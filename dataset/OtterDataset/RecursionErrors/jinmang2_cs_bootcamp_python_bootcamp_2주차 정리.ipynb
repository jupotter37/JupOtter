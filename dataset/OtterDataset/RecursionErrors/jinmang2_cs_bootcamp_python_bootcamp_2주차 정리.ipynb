{
 "cells": [
  {
   "cell_type": "markdown",
   "metadata": {},
   "source": [
    "# 2주차 부트 캠프"
   ]
  },
  {
   "cell_type": "markdown",
   "metadata": {},
   "source": [
    "## 1. Epsilon"
   ]
  },
  {
   "cell_type": "code",
   "execution_count": 1,
   "metadata": {},
   "outputs": [
    {
     "data": {
      "text/plain": [
       "15"
      ]
     },
     "execution_count": 1,
     "metadata": {},
     "output_type": "execute_result"
    }
   ],
   "source": [
    "import sys\n",
    "\n",
    "# 64bit 컴퓨터에서 정확히 표현 가능한 자릿수 확인\n",
    "sys.float_info.dig"
   ]
  },
  {
   "cell_type": "code",
   "execution_count": 2,
   "metadata": {},
   "outputs": [
    {
     "data": {
      "text/plain": [
       "9007199254740992.0"
      ]
     },
     "execution_count": 2,
     "metadata": {},
     "output_type": "execute_result"
    }
   ],
   "source": [
    "num = 2.0**53\n",
    "num"
   ]
  },
  {
   "cell_type": "code",
   "execution_count": 3,
   "metadata": {},
   "outputs": [
    {
     "data": {
      "text/plain": [
       "16"
      ]
     },
     "execution_count": 3,
     "metadata": {},
     "output_type": "execute_result"
    }
   ],
   "source": [
    "# num는 16자리 숫자. 즉, 마지막 숫자는 불확실함.\n",
    "# 64bit 컴퓨터는 15자리까지 숫자의 정확성을 보장받음\n",
    "# 이는 실수 구현 당시 속도를 택하고 정확도를 버린 결과\n",
    "len(str(int(num)))"
   ]
  },
  {
   "cell_type": "code",
   "execution_count": 4,
   "metadata": {},
   "outputs": [],
   "source": [
    "# 2진수 53자리까지 완벽하게 표현이 가능\n",
    "# 10진수는 15자리까지 완벽하게 표현이 가능\n",
    "# 1.0을 십진수로 표현하고 싶다!!\n",
    "# 1.000000000000.......0_(2) * 2^0 -> 1.0 # representable number\n",
    "# 이 다음에 표현할 수 있는 수는?\n",
    "# 1.000000000000.......1_(2) * 2^0\n",
    "# 위의 두 수 사이의 차이 == epsilon\n",
    "\n",
    "# sys module에서 epsilon 받아오기\n",
    "ep = sys.float_info.epsilon"
   ]
  },
  {
   "cell_type": "code",
   "execution_count": 5,
   "metadata": {},
   "outputs": [
    {
     "name": "stdout",
     "output_type": "stream",
     "text": [
      "epsilon : 2.220446049250313e-16\n",
      "this number means, 2.220...*10^-16\n"
     ]
    }
   ],
   "source": [
    "print(\"epsilon : {}\".format(ep))\n",
    "print(\"this number means, 2.220...*10^-16\")"
   ]
  },
  {
   "cell_type": "code",
   "execution_count": 6,
   "metadata": {},
   "outputs": [
    {
     "data": {
      "text/plain": [
       "2.220446049250313e-16"
      ]
     },
     "execution_count": 6,
     "metadata": {},
     "output_type": "execute_result"
    }
   ],
   "source": [
    "# 64bit에서 11개의 exp term, 부호 표시 1개 제외 52자리 표현가능\n",
    "2**-52"
   ]
  },
  {
   "cell_type": "markdown",
   "metadata": {},
   "source": [
    "## absolute comparison"
   ]
  },
  {
   "cell_type": "code",
   "execution_count": 7,
   "metadata": {},
   "outputs": [],
   "source": [
    "a = 0.1 * 3\n",
    "b = 0.3"
   ]
  },
  {
   "cell_type": "code",
   "execution_count": 8,
   "metadata": {},
   "outputs": [
    {
     "data": {
      "text/plain": [
       "False"
      ]
     },
     "execution_count": 8,
     "metadata": {},
     "output_type": "execute_result"
    }
   ],
   "source": [
    "# 육안으로 보면 같은 결과.\n",
    "# 하지만 결과는?\n",
    "a==b"
   ]
  },
  {
   "cell_type": "code",
   "execution_count": 9,
   "metadata": {},
   "outputs": [
    {
     "data": {
      "text/plain": [
       "0.30000000000000004"
      ]
     },
     "execution_count": 9,
     "metadata": {},
     "output_type": "execute_result"
    }
   ],
   "source": [
    "a"
   ]
  },
  {
   "cell_type": "code",
   "execution_count": 10,
   "metadata": {},
   "outputs": [
    {
     "data": {
      "text/plain": [
       "0.3"
      ]
     },
     "execution_count": 10,
     "metadata": {},
     "output_type": "execute_result"
    }
   ],
   "source": [
    "b"
   ]
  },
  {
   "cell_type": "code",
   "execution_count": 11,
   "metadata": {},
   "outputs": [
    {
     "name": "stdout",
     "output_type": "stream",
     "text": [
      "fantastic baby\n"
     ]
    }
   ],
   "source": [
    "# for 게임 개발하시는 분들의 입장,\n",
    "# 실수 쓸 때 == 쓰지마라!\n",
    "# 무조건 >=, <=\n",
    "# 게임에서는 double은 안쓰고 float를 씀\n",
    "# 실수가 같은지 비교해야할 상황이 온다면 어떻게 해결할 것인가?\n",
    "\n",
    "# data science, coding\n",
    "if a==b:\n",
    "    print(\"thing\")\n",
    "else:\n",
    "    print(\"fantastic baby\")"
   ]
  },
  {
   "cell_type": "markdown",
   "metadata": {},
   "source": [
    "## 절대 비교\n",
    "#### absolute comparison\n",
    "  - interface\n",
    "  - is_equal(a,b) -> boolean\n",
    "  - a와 b의 차이를 절대값으로 만듦\n",
    "  - 이 값  1e-10 >> 1*10^-10\n",
    "  - diff < upper than True"
   ]
  },
  {
   "cell_type": "code",
   "execution_count": 12,
   "metadata": {},
   "outputs": [
    {
     "name": "stdout",
     "output_type": "stream",
     "text": [
      "a-b is 5.551115123125783e-17 \n",
      "epsilon is 2.220446049250313e-16\n"
     ]
    }
   ],
   "source": [
    "print(\"a-b is {}\".format(a-b),\"\\nepsilon is {}\".format(ep))"
   ]
  },
  {
   "cell_type": "code",
   "execution_count": 13,
   "metadata": {},
   "outputs": [
    {
     "data": {
      "text/plain": [
       "True"
      ]
     },
     "execution_count": 13,
     "metadata": {},
     "output_type": "execute_result"
    }
   ],
   "source": [
    "ep > a-b"
   ]
  },
  {
   "cell_type": "code",
   "execution_count": 14,
   "metadata": {},
   "outputs": [
    {
     "data": {
      "text/plain": [
       "10000000000.0"
      ]
     },
     "execution_count": 14,
     "metadata": {},
     "output_type": "execute_result"
    }
   ],
   "source": [
    "# 다음과 같은 표현으로도 python은 숫자 표현이 가능하다!\n",
    "c = 1e10\n",
    "c"
   ]
  },
  {
   "cell_type": "code",
   "execution_count": 15,
   "metadata": {},
   "outputs": [
    {
     "name": "stdout",
     "output_type": "stream",
     "text": [
      "abs(a-b) is 5.551115123125783e-17\n",
      "fabs(a-b) is 5.551115123125783e-17\n",
      "is this same? : True\n"
     ]
    }
   ],
   "source": [
    "from math import fabs\n",
    "print(\"abs(a-b) is {}\".format(abs(a-b)))\n",
    "print(\"fabs(a-b) is {}\".format(fabs(a-b)))\n",
    "print(\"is this same? : {}\".format(abs(a-b)==fabs(a-b)))"
   ]
  },
  {
   "cell_type": "code",
   "execution_count": 16,
   "metadata": {},
   "outputs": [
    {
     "name": "stdout",
     "output_type": "stream",
     "text": [
      "Great\n"
     ]
    }
   ],
   "source": [
    "# Since 절대비교, 특정한 값과 비교\n",
    "def is_equal_by_absolute(a,b):\n",
    "    return fabs(a-b) <=1e-10\n",
    "\n",
    "a = 0.1 * 3\n",
    "b = 0.3\n",
    "if a==b:\n",
    "    print(\"wow\")\n",
    "elif is_equal_by_absolute(a,b):\n",
    "    print(\"Great\")\n",
    "else:\n",
    "    print(\"no\")"
   ]
  },
  {
   "cell_type": "markdown",
   "metadata": {},
   "source": [
    "## Relative comparison(상대 비교)"
   ]
  },
  {
   "cell_type": "code",
   "execution_count": 17,
   "metadata": {},
   "outputs": [
    {
     "name": "stdout",
     "output_type": "stream",
     "text": [
      "Great\n"
     ]
    }
   ],
   "source": [
    "# 값을 고정시켜 놓으면 일반화시킬 수 없다\n",
    "# 즉, 두 실수의 scale로 조정하여 변화율을 측정,\n",
    "# 들어오는 input value에 맞춰서 error rate를 측정한다.\n",
    "\n",
    "def is_equal_by_relative(a,b):\n",
    "    diff = fabs(a-b)\n",
    "    maximal = max(fabs(a),fabs(b))\n",
    "    rel_error = diff / maximal\n",
    "    return rel_error <= 1e-8\n",
    "\n",
    "if is_equal_by_relative(a,b):\n",
    "    print(\"Great\")"
   ]
  },
  {
   "cell_type": "code",
   "execution_count": 18,
   "metadata": {},
   "outputs": [
    {
     "name": "stdout",
     "output_type": "stream",
     "text": [
      "thing\n"
     ]
    }
   ],
   "source": [
    "# 다음은 절대 참조와 상대 참조 모두를 활용하는 함수이다.\n",
    "\n",
    "def is_equal(a,b):\n",
    "    diff = fabs(a-b)\n",
    "    rel_error = diff / max(fabs(a),fabs(b))\n",
    "    if diff <= 1e-10:\n",
    "        result = True\n",
    "    elif rel_error <= 1e-8:\n",
    "        result = True\n",
    "    else:\n",
    "        result = False\n",
    "    return result\n",
    "\n",
    "if is_equal(a,b):\n",
    "    print(\"thing\")"
   ]
  },
  {
   "cell_type": "code",
   "execution_count": 19,
   "metadata": {},
   "outputs": [],
   "source": [
    "# is_equal함수의 다른 표현 방법이다.\n",
    "\n",
    "def is_equal2(a,b):\n",
    "    diff = fabs(a-b)\n",
    "    rel_error = diff / max(fabs(a),fabs(b))\n",
    "    if diff <= 1e-10:\n",
    "        return True\n",
    "    return rel_error <= 1e-8"
   ]
  },
  {
   "cell_type": "code",
   "execution_count": 20,
   "metadata": {},
   "outputs": [],
   "source": [
    "# 위의 is_equal함수에서 상수를 ep으로 활용한 함수이다.\n",
    "\n",
    "def is_equal_by_epsilon(a,b):\n",
    "    ep = sys.float_info.epsilon\n",
    "    diff = fabs(a-b)\n",
    "    rel_error = diff / max(fabs(a),fabs(b))\n",
    "    if diff <= ep:\n",
    "        return True\n",
    "    return rel_error <= ep"
   ]
  },
  {
   "cell_type": "code",
   "execution_count": 21,
   "metadata": {},
   "outputs": [
    {
     "data": {
      "text/plain": [
       "1.0000000000000007"
      ]
     },
     "execution_count": 21,
     "metadata": {},
     "output_type": "execute_result"
    }
   ],
   "source": [
    "# 단순하게 epsilon이랑 비교할 경우, 다음과 같은 문제점이 발생할 수 있다.\n",
    "\n",
    "a = 0.01\n",
    "s = 0.0\n",
    "for _ in range(100):\n",
    "    s+=a\n",
    "s\n",
    "# 우리가 기대하기로, s는 1이 되어야 할 것인데,"
   ]
  },
  {
   "cell_type": "code",
   "execution_count": 22,
   "metadata": {},
   "outputs": [
    {
     "data": {
      "text/plain": [
       "False"
      ]
     },
     "execution_count": 22,
     "metadata": {},
     "output_type": "execute_result"
    }
   ],
   "source": [
    "t = 1.0\n",
    "is_equal_by_epsilon(t,s)\n",
    "# 우리가 제작한 함수로는 위 두 수를 \"같다\"라고 표현할 수가 없다."
   ]
  },
  {
   "cell_type": "code",
   "execution_count": 23,
   "metadata": {},
   "outputs": [
    {
     "name": "stdout",
     "output_type": "stream",
     "text": [
      "thing\n"
     ]
    }
   ],
   "source": [
    "# 즉, 가중치를 두어 우리가 조절할 수 있게 만들자!\n",
    "\n",
    "def is_equal_by_epsilon_weighted(a,b, w=0):\n",
    "    ep = sys.float_info.epsilon\n",
    "    diff = fabs(a-b)\n",
    "    rel_error = diff / max(fabs(a),fabs(b))\n",
    "    #if diff <= ep:\n",
    "    #    return True\n",
    "    return rel_error <= ep*(2**w)\n",
    "\n",
    "if is_equal_by_epsilon_weighted(t,s,w=2):\n",
    "    print(\"thing\")"
   ]
  },
  {
   "cell_type": "markdown",
   "metadata": {},
   "source": [
    "## 2. Firstclass_function\n",
    "  - 함수를\n",
    "  - 첫째, argument (인자)로 전달할 수 있는가\n",
    "  - 둘째, variable (변수)로 전달할 수 있는가\n",
    "  - 셋째, return (반환값)으로 함수를 사용할 수 있는가\n",
    "  - 위의 세 조건을 만족하는 언어를 Firstclass_function을 만족한다고 한다.\n",
    "- python은 이것을 지원하는 언어\n",
    "- c언어는 포인터를 넘겨서 사용\n",
    "- js는 지원을 함"
   ]
  },
  {
   "cell_type": "markdown",
   "metadata": {},
   "source": [
    "1. argument"
   ]
  },
  {
   "cell_type": "code",
   "execution_count": 24,
   "metadata": {},
   "outputs": [
    {
     "data": {
      "text/plain": [
       "3"
      ]
     },
     "execution_count": 24,
     "metadata": {},
     "output_type": "execute_result"
    }
   ],
   "source": [
    "def f(a,b):\n",
    "    return a+b\n",
    "\n",
    "# 함수를 argument로 calling\n",
    "# 이게 먹힌다는 얘기는 함수를 인자로 전달할 수 있다는 얘기\n",
    "def g(func, a, b):\n",
    "    return func(a,b) \n",
    "\n",
    "# 보는 바와 같이 잘 먹힌다.\n",
    "g(f,1,2)"
   ]
  },
  {
   "cell_type": "markdown",
   "metadata": {},
   "source": [
    "2. variable"
   ]
  },
  {
   "cell_type": "code",
   "execution_count": 25,
   "metadata": {},
   "outputs": [
    {
     "data": {
      "text/plain": [
       "3"
      ]
     },
     "execution_count": 25,
     "metadata": {},
     "output_type": "execute_result"
    }
   ],
   "source": [
    "f_var = f\n",
    "f_var(1,2) # 함수를 변수에 저장할 수 있다."
   ]
  },
  {
   "cell_type": "markdown",
   "metadata": {},
   "source": [
    "3. return"
   ]
  },
  {
   "cell_type": "code",
   "execution_count": 26,
   "metadata": {},
   "outputs": [
    {
     "data": {
      "text/plain": [
       "function"
      ]
     },
     "execution_count": 26,
     "metadata": {},
     "output_type": "execute_result"
    }
   ],
   "source": [
    "def calc(kind):\n",
    "    if kind == \"add\":\n",
    "        def add(a,b):\n",
    "            return a+b\n",
    "        return add\n",
    "    elif kind == \"subtract\":\n",
    "        def subtract(a,b):\n",
    "            return a-b\n",
    "        return subtract\n",
    "    \n",
    "adder = calc(\"add\")\n",
    "# 함수를 return값으로 받는 것이 가능하다.\n",
    "type(adder)"
   ]
  },
  {
   "cell_type": "code",
   "execution_count": 27,
   "metadata": {},
   "outputs": [
    {
     "data": {
      "text/plain": [
       "3"
      ]
     },
     "execution_count": 27,
     "metadata": {},
     "output_type": "execute_result"
    }
   ],
   "source": [
    "adder(1,2)"
   ]
  },
  {
   "cell_type": "markdown",
   "metadata": {},
   "source": [
    "## 3. Stackframe"
   ]
  },
  {
   "cell_type": "code",
   "execution_count": 28,
   "metadata": {},
   "outputs": [
    {
     "name": "stdout",
     "output_type": "stream",
     "text": [
      "함수 내에서 선언된 a : 20\n",
      "함수 밖에서 선언된 a : 10\n"
     ]
    }
   ],
   "source": [
    "# 파이썬 특화\n",
    "a = 10 # 전역 변수\n",
    "def func():\n",
    "    a = 20 # 함수 내에 선언된 변수 : 지역 변수\n",
    "    print(\"함수 내에서 선언된 a :\", a)\n",
    "func()\n",
    "print(\"함수 밖에서 선언된 a :\", a)"
   ]
  },
  {
   "cell_type": "code",
   "execution_count": 29,
   "metadata": {},
   "outputs": [
    {
     "name": "stdout",
     "output_type": "stream",
     "text": [
      "함수 내에서 선언된 a : 20\n",
      "함수 밖에서 선언된 a : 20\n"
     ]
    }
   ],
   "source": [
    "# 파이썬 특화\n",
    "a = 10\n",
    "def func():\n",
    "    global a\n",
    "    a = 20\n",
    "    print(\"함수 내에서 선언된 a :\", a)\n",
    "    \n",
    "# 위의 다른 것을 해결하기 위해선 global을 선언해주면 된다.\n",
    "func()\n",
    "print(\"함수 밖에서 선언된 a :\", a)"
   ]
  },
  {
   "cell_type": "markdown",
   "metadata": {},
   "source": [
    "- Nonlocal"
   ]
  },
  {
   "cell_type": "code",
   "execution_count": 30,
   "metadata": {},
   "outputs": [
    {
     "name": "stdout",
     "output_type": "stream",
     "text": [
      "45 in inner\n",
      "20 in outer\n"
     ]
    }
   ],
   "source": [
    "a = 10\n",
    "def outer():\n",
    "    b = 20 # in python, free variable for inner\n",
    "    def inner():\n",
    "        b = 45\n",
    "        print(\"{} in inner\".format(b))\n",
    "    inner()\n",
    "    print(\"{} in outer\".format(b))\n",
    "outer()\n",
    "\n",
    "# outer의 b는 global도 아니고 local도 아니고... 도대체 무엇일까?"
   ]
  },
  {
   "cell_type": "code",
   "execution_count": 31,
   "metadata": {},
   "outputs": [
    {
     "name": "stdout",
     "output_type": "stream",
     "text": [
      "45 in inner\n",
      "45 in outer\n"
     ]
    }
   ],
   "source": [
    "a = 10\n",
    "def outer():\n",
    "    b = 20 # in python, free variable for inner\n",
    "    def inner():\n",
    "        nonlocal b\n",
    "        b = 45\n",
    "        print(\"{} in inner\".format(b))\n",
    "    inner()\n",
    "    print(\"{} in outer\".format(b))\n",
    "outer()"
   ]
  },
  {
   "cell_type": "markdown",
   "metadata": {},
   "source": [
    "### 다시 제대로 StackFrame"
   ]
  },
  {
   "cell_type": "code",
   "execution_count": 32,
   "metadata": {},
   "outputs": [],
   "source": [
    "# 전역변수 vs 지역변수\n",
    "c = 10 # 전역 변수\n",
    "def func(a, b):\n",
    "    c = 20 # 함수 내에 선언된 변수 : 지역 변수\n",
    "    return a + b\n",
    "d = func(10, 20)\n",
    "\n",
    "# global에 c = 10 쌓임\n",
    "# d = 를 쌓는 순간 함수라는 stackframe이 쌓임\n",
    "# stackframe이 쌓이며,\n",
    "#    - 밑에서 부터 하나하나 쌓아올림\n",
    "#    - b = 20\n",
    "#    - a = 10\n",
    "#    - c = 20\n",
    "# global의 c랑 stackframe의 c는 완전 다른 memory 공간에 존재함\n",
    "# func()를 호출하는 순간 stackframe은 소멸됨.\n",
    "# 때문에 메모리적인 관점에서 global c = 10은 전혀 바뀌지 않음\n",
    "# func() stackframe이 쌓였다가 return함과 동시에 할당하고 memory에서 버림"
   ]
  },
  {
   "cell_type": "markdown",
   "metadata": {},
   "source": [
    "http://pythontutor.com/"
   ]
  },
  {
   "cell_type": "markdown",
   "metadata": {},
   "source": [
    "- 위의 사이트 참고, 내가 짠 코드가 어떻게 메모리 상에서 처리되는지 시각화 자료를 볼 수 있다."
   ]
  },
  {
   "cell_type": "markdown",
   "metadata": {},
   "source": [
    "### stack overflow"
   ]
  },
  {
   "cell_type": "code",
   "execution_count": 33,
   "metadata": {},
   "outputs": [
    {
     "ename": "RecursionError",
     "evalue": "maximum recursion depth exceeded",
     "output_type": "error",
     "traceback": [
      "\u001b[1;31m---------------------------------------------------------------------------\u001b[0m",
      "\u001b[1;31mRecursionError\u001b[0m                            Traceback (most recent call last)",
      "\u001b[1;32m<ipython-input-33-7cebe143561c>\u001b[0m in \u001b[0;36m<module>\u001b[1;34m()\u001b[0m\n\u001b[0;32m      2\u001b[0m     \u001b[0ma\u001b[0m \u001b[1;33m=\u001b[0m \u001b[1;36m10\u001b[0m\u001b[1;33m\u001b[0m\u001b[0m\n\u001b[0;32m      3\u001b[0m     \u001b[0mfunc\u001b[0m\u001b[1;33m(\u001b[0m\u001b[1;33m)\u001b[0m\u001b[1;33m\u001b[0m\u001b[0m\n\u001b[1;32m----> 4\u001b[1;33m \u001b[0mfunc\u001b[0m\u001b[1;33m(\u001b[0m\u001b[1;33m)\u001b[0m\u001b[1;33m\u001b[0m\u001b[0m\n\u001b[0m",
      "\u001b[1;32m<ipython-input-33-7cebe143561c>\u001b[0m in \u001b[0;36mfunc\u001b[1;34m()\u001b[0m\n\u001b[0;32m      1\u001b[0m \u001b[1;32mdef\u001b[0m \u001b[0mfunc\u001b[0m\u001b[1;33m(\u001b[0m\u001b[1;33m)\u001b[0m\u001b[1;33m:\u001b[0m\u001b[1;33m\u001b[0m\u001b[0m\n\u001b[0;32m      2\u001b[0m     \u001b[0ma\u001b[0m \u001b[1;33m=\u001b[0m \u001b[1;36m10\u001b[0m\u001b[1;33m\u001b[0m\u001b[0m\n\u001b[1;32m----> 3\u001b[1;33m     \u001b[0mfunc\u001b[0m\u001b[1;33m(\u001b[0m\u001b[1;33m)\u001b[0m\u001b[1;33m\u001b[0m\u001b[0m\n\u001b[0m\u001b[0;32m      4\u001b[0m \u001b[0mfunc\u001b[0m\u001b[1;33m(\u001b[0m\u001b[1;33m)\u001b[0m\u001b[1;33m\u001b[0m\u001b[0m\n",
      "... last 1 frames repeated, from the frame below ...\n",
      "\u001b[1;32m<ipython-input-33-7cebe143561c>\u001b[0m in \u001b[0;36mfunc\u001b[1;34m()\u001b[0m\n\u001b[0;32m      1\u001b[0m \u001b[1;32mdef\u001b[0m \u001b[0mfunc\u001b[0m\u001b[1;33m(\u001b[0m\u001b[1;33m)\u001b[0m\u001b[1;33m:\u001b[0m\u001b[1;33m\u001b[0m\u001b[0m\n\u001b[0;32m      2\u001b[0m     \u001b[0ma\u001b[0m \u001b[1;33m=\u001b[0m \u001b[1;36m10\u001b[0m\u001b[1;33m\u001b[0m\u001b[0m\n\u001b[1;32m----> 3\u001b[1;33m     \u001b[0mfunc\u001b[0m\u001b[1;33m(\u001b[0m\u001b[1;33m)\u001b[0m\u001b[1;33m\u001b[0m\u001b[0m\n\u001b[0m\u001b[0;32m      4\u001b[0m \u001b[0mfunc\u001b[0m\u001b[1;33m(\u001b[0m\u001b[1;33m)\u001b[0m\u001b[1;33m\u001b[0m\u001b[0m\n",
      "\u001b[1;31mRecursionError\u001b[0m: maximum recursion depth exceeded"
     ]
    }
   ],
   "source": [
    "def func():\n",
    "    a = 10\n",
    "    func()\n",
    "func()"
   ]
  },
  {
   "cell_type": "code",
   "execution_count": 34,
   "metadata": {},
   "outputs": [],
   "source": [
    "# func()호출하면 function frame을 하나 만듬\n",
    "# 그 안에서 또 func()호출, 또 frame을 만듬\n",
    "# 계속 반복\n",
    "# 함수가 호출될 때 마다 stackframe이 하나씩 만듬\n",
    "# 그러다가 stack 용량이 넘침\n",
    "# 이것을 RecursionError을 일으킴\n",
    "# 사실은 python은 stack을 직접적으로 사용할 수가 없다.\n",
    "\n",
    "# stack을 쌓다가 터진 것을 stack overflow 라고 함\n",
    "\n",
    "# http://pythontutor.com\n",
    "\n",
    "cnt=0\n",
    "def f(m=5):\n",
    "    global cnt\n",
    "    cnt += 1\n",
    "    if cnt>m:\n",
    "        return\n",
    "    a=10\n",
    "    f()\n",
    "    \n",
    "f(m=5)\n",
    "# 이걸로 시험해보시길"
   ]
  },
  {
   "cell_type": "markdown",
   "metadata": {},
   "source": [
    "## 4. Closure\n",
    "  - 위의 firstclass function이 되어야 만들 수 있음\n",
    "  - java script에서도 큰 역할을 하고 있음\n",
    "  - why 쓸 수 밖에 없나?\n",
    "  - js에는 class가 없음. 일부로 구현을 안함.\n",
    "  - js 진영 : 우리도 OOP 쓰고 싶어요!\n",
    "  - oop의 대용품으로 나온 것이 closure!\n",
    "  - definition Clousure\n",
    "  - 함수 내부에 상태 정보를 가지고 있음\n",
    "  - python에서는 closure를 쓰실 일이 거의 없음..\n",
    "  - becuase OOP로 대부분의 것들이 해결 가능!"
   ]
  },
  {
   "cell_type": "code",
   "execution_count": 35,
   "metadata": {},
   "outputs": [
    {
     "name": "stdout",
     "output_type": "stream",
     "text": [
      "type(greg_acnt) : <class 'function'>\n",
      "type(mark_acnt) : <class 'function'>\n"
     ]
    }
   ],
   "source": [
    "# 지금부터 짜는 코드는 oop로 짜면 단번에 해결됨\n",
    "# 함수 -> 계좌\n",
    "def account(name, balance):\n",
    "    def transaction(money):\n",
    "        nonlocal balance\n",
    "        balance += money\n",
    "        return name, balance\n",
    "    return transaction\n",
    "# 이것이 closure\n",
    "\n",
    "# 내부 정보를 남겨두고 조회를 하는 것이 closure\n",
    "\n",
    "greg_acnt = account(\"Greg\", 50000000)\n",
    "mark_acnt = account(\"Mark\", 3000000)\n",
    "\n",
    "print(\"type(greg_acnt) : {}\".format(type(greg_acnt)))\n",
    "print(\"type(mark_acnt) : {}\".format(type(mark_acnt)))"
   ]
  },
  {
   "cell_type": "code",
   "execution_count": 36,
   "metadata": {},
   "outputs": [
    {
     "name": "stdout",
     "output_type": "stream",
     "text": [
      "greg_acnt(5000000) : ('Greg', 55000000)\n",
      "mark_acnt(5000000) : ('Mark', 8000000)\n"
     ]
    }
   ],
   "source": [
    "print(\"greg_acnt(5000000) : {}\".format(greg_acnt(5000000)))\n",
    "print(\"mark_acnt(5000000) : {}\".format(mark_acnt(5000000)))"
   ]
  },
  {
   "cell_type": "code",
   "execution_count": 37,
   "metadata": {},
   "outputs": [
    {
     "name": "stdout",
     "output_type": "stream",
     "text": [
      "greg_acnt.__name__ : transaction\n",
      "mark_acnt.__name__ : transaction\n"
     ]
    }
   ],
   "source": [
    "print(\"greg_acnt.__name__ : {}\".format(greg_acnt.__name__))\n",
    "print(\"mark_acnt.__name__ : {}\".format(mark_acnt.__name__))\n",
    "\n",
    "# closure를 이해하고 decorator를 만들어보자!\n",
    "# 그전에 이해도를 높이고!"
   ]
  },
  {
   "cell_type": "markdown",
   "metadata": {},
   "source": [
    "## 5. Decorator"
   ]
  },
  {
   "cell_type": "code",
   "execution_count": 38,
   "metadata": {},
   "outputs": [],
   "source": [
    "class A:\n",
    "    def __init__(self, a):\n",
    "        self.__a = a\n",
    "#    @func2\n",
    "#    @func1\n",
    "    @property\n",
    "    def a(self):\n",
    "        return self.__a\n",
    "    \n",
    "    @a.setter\n",
    "    def a(self, new_a):\n",
    "        self.__a = new_a\n",
    "        \n",
    "# decorator는 어떤 함수에 기능을 추가할 때 사용함"
   ]
  },
  {
   "cell_type": "code",
   "execution_count": 39,
   "metadata": {},
   "outputs": [
    {
     "data": {
      "text/plain": [
       "3"
      ]
     },
     "execution_count": 39,
     "metadata": {},
     "output_type": "execute_result"
    }
   ],
   "source": [
    "def func(a, b):\n",
    "    return a+b\n",
    "\n",
    "func(1,2)"
   ]
  },
  {
   "cell_type": "code",
   "execution_count": 40,
   "metadata": {},
   "outputs": [
    {
     "data": {
      "text/plain": [
       "-1"
      ]
     },
     "execution_count": 40,
     "metadata": {},
     "output_type": "execute_result"
    }
   ],
   "source": [
    "def func(a, b):\n",
    "    return a-b\n",
    "\n",
    "func(1,2)"
   ]
  },
  {
   "cell_type": "markdown",
   "metadata": {},
   "source": [
    "- 위의 함수를 덮어버림\n",
    "\n",
    "- 이제부터 설명을 시작합니다~"
   ]
  },
  {
   "cell_type": "markdown",
   "metadata": {},
   "source": [
    "- 잠시 asterisk에 대해 설명"
   ]
  },
  {
   "cell_type": "code",
   "execution_count": 42,
   "metadata": {},
   "outputs": [
    {
     "name": "stdout",
     "output_type": "stream",
     "text": [
      "1 [2, 3, 4, 5]\n"
     ]
    }
   ],
   "source": [
    "# unpacking\n",
    "li = [1,2,3,4,5]\n",
    "a, *b = li\n",
    "print(a, b)"
   ]
  },
  {
   "cell_type": "code",
   "execution_count": 43,
   "metadata": {},
   "outputs": [],
   "source": [
    "def func(*args, **kwargs):\n",
    "    print(args) # tuple로 묶임\n",
    "    print(kwargs) # dictionary로 묶임\n",
    "    \n",
    "# 함수를 선언할 때의 argument의 의미는, 받겠다.\n",
    "# 함수를 호출할 때의 이 의미는, 풀겠다."
   ]
  },
  {
   "cell_type": "code",
   "execution_count": 44,
   "metadata": {},
   "outputs": [
    {
     "name": "stdout",
     "output_type": "stream",
     "text": [
      "(1, 2, 3, {'a': 1, 'b': 2})\n",
      "{}\n"
     ]
    }
   ],
   "source": [
    "func(1,2,3,{\"a\":1,\"b\":2})"
   ]
  },
  {
   "cell_type": "code",
   "execution_count": 45,
   "metadata": {},
   "outputs": [
    {
     "name": "stdout",
     "output_type": "stream",
     "text": [
      "(1, 2, 3)\n",
      "{'a': 4, 'b': 5}\n"
     ]
    }
   ],
   "source": [
    "func(1,2,3,a=4,b=5)"
   ]
  },
  {
   "cell_type": "code",
   "execution_count": 46,
   "metadata": {},
   "outputs": [],
   "source": [
    "tu = (1,2,3)\n",
    "dic = {\"a\":4, \"b\":5}"
   ]
  },
  {
   "cell_type": "code",
   "execution_count": 47,
   "metadata": {},
   "outputs": [
    {
     "name": "stdout",
     "output_type": "stream",
     "text": [
      "((1, 2, 3), {'a': 4, 'b': 5})\n",
      "{}\n"
     ]
    }
   ],
   "source": [
    "func(tu, dic)"
   ]
  },
  {
   "cell_type": "code",
   "execution_count": 48,
   "metadata": {},
   "outputs": [
    {
     "name": "stdout",
     "output_type": "stream",
     "text": [
      "(1, 2, 3, 'a', 'b')\n",
      "{}\n"
     ]
    }
   ],
   "source": [
    "func(*tu, *dic)"
   ]
  },
  {
   "cell_type": "code",
   "execution_count": 49,
   "metadata": {},
   "outputs": [
    {
     "name": "stdout",
     "output_type": "stream",
     "text": [
      "(1, 2, 3)\n",
      "{'a': 4, 'b': 5}\n"
     ]
    }
   ],
   "source": [
    "func(*tu, **dic)"
   ]
  },
  {
   "cell_type": "markdown",
   "metadata": {},
   "source": [
    "- 하던 것을 마져 해 볼까요?"
   ]
  },
  {
   "cell_type": "code",
   "execution_count": 56,
   "metadata": {},
   "outputs": [
    {
     "data": {
      "text/plain": [
       "3"
      ]
     },
     "execution_count": 56,
     "metadata": {},
     "output_type": "execute_result"
    }
   ],
   "source": [
    "def outer(org_func):\n",
    "    def inner(*args, **kwargs):\n",
    "        # 필요한 기능 추가\n",
    "        print(\"things to do\")\n",
    "        return org_func(*args, **kwargs) # 함수니까 당연히 callable 가능\n",
    "    return inner\n",
    "\n",
    "def add(a,b):\n",
    "    return a+b\n",
    "\n",
    "add(1,2)"
   ]
  },
  {
   "cell_type": "code",
   "execution_count": 57,
   "metadata": {},
   "outputs": [
    {
     "data": {
      "text/plain": [
       "<function __main__.outer.<locals>.inner(*args, **kwargs)>"
      ]
     },
     "execution_count": 57,
     "metadata": {},
     "output_type": "execute_result"
    }
   ],
   "source": [
    "add = outer(add)\n",
    "add"
   ]
  },
  {
   "cell_type": "code",
   "execution_count": 58,
   "metadata": {},
   "outputs": [
    {
     "name": "stdout",
     "output_type": "stream",
     "text": [
      "things to do\n"
     ]
    },
    {
     "data": {
      "text/plain": [
       "3"
      ]
     },
     "execution_count": 58,
     "metadata": {},
     "output_type": "execute_result"
    }
   ],
   "source": [
    "add(1,2)"
   ]
  },
  {
   "cell_type": "code",
   "execution_count": 59,
   "metadata": {},
   "outputs": [],
   "source": [
    "@outer\n",
    "def add(a,b):\n",
    "    return a+b"
   ]
  },
  {
   "cell_type": "code",
   "execution_count": 60,
   "metadata": {},
   "outputs": [
    {
     "name": "stdout",
     "output_type": "stream",
     "text": [
      "things to do\n"
     ]
    },
    {
     "data": {
      "text/plain": [
       "3"
      ]
     },
     "execution_count": 60,
     "metadata": {},
     "output_type": "execute_result"
    }
   ],
   "source": [
    "add(1,2)"
   ]
  },
  {
   "cell_type": "code",
   "execution_count": 61,
   "metadata": {},
   "outputs": [
    {
     "data": {
      "text/plain": [
       "'inner'"
      ]
     },
     "execution_count": 61,
     "metadata": {},
     "output_type": "execute_result"
    }
   ],
   "source": [
    "## decorator는 기능을 추가하는 것, 붙이는 것\n",
    "\n",
    "add.__name__\n",
    "# outer 함수의 결과값은 inner\n",
    "\n",
    "# 이거 맘에 안들어! outer 안에 있는 함수가 뭔지 알고?"
   ]
  },
  {
   "cell_type": "code",
   "execution_count": 62,
   "metadata": {},
   "outputs": [],
   "source": [
    "from functools import wraps\n",
    "\n",
    "def outer(org_func):\n",
    "    @wraps(org_func)\n",
    "    def inner(*args, **kwargs):\n",
    "        # 필요한 기능 추가\n",
    "        print(\"things to do\")\n",
    "        return org_func(*args, **kwargs) # 함수니까 당연히 callable 가능\n",
    "    return inner\n",
    "\n",
    "@outer\n",
    "def add(a,b):\n",
    "    return a+b"
   ]
  },
  {
   "cell_type": "code",
   "execution_count": 63,
   "metadata": {},
   "outputs": [
    {
     "name": "stdout",
     "output_type": "stream",
     "text": [
      "things to do\n"
     ]
    },
    {
     "data": {
      "text/plain": [
       "3"
      ]
     },
     "execution_count": 63,
     "metadata": {},
     "output_type": "execute_result"
    }
   ],
   "source": [
    "add(1,2)"
   ]
  },
  {
   "cell_type": "code",
   "execution_count": 64,
   "metadata": {},
   "outputs": [
    {
     "data": {
      "text/plain": [
       "'add'"
      ]
     },
     "execution_count": 64,
     "metadata": {},
     "output_type": "execute_result"
    }
   ],
   "source": [
    "add.__name__"
   ]
  },
  {
   "cell_type": "markdown",
   "metadata": {},
   "source": [
    "### Benchmarker\n",
    "  - 함수 실행 시간을 비교하여 성능 파악\n",
    "  - 함수 실행 시간을 알려주는 decorator를 만들 것임"
   ]
  },
  {
   "cell_type": "code",
   "execution_count": 65,
   "metadata": {},
   "outputs": [],
   "source": [
    "from functools import wraps\n",
    "import time\n",
    "\n",
    "def benchmarker(org_func):\n",
    "    @wraps(org_func)\n",
    "    def inner(*args, **kwargs):\n",
    "        #epoch 1911.~ 시간을 정수형태 초단위로 반환\n",
    "        start = time.time()\n",
    "        # 이러면 치명적인 오류 존재! return으로 함수가 끝나버림..\n",
    "        return org_func(*args, **kwargs)\n",
    "        elapsed = time.time() - start\n",
    "        print(\"elapsed time of {} : {}\".format(org_func.__name__, elapsed))\n",
    "    return inner\n",
    "\n",
    "del benchmarker\n",
    "\n",
    "def benchmarker(org_func):\n",
    "    @wraps(org_func)\n",
    "    def inner(*args, **kwargs):\n",
    "        start = time.time()\n",
    "        result = org_func(*args, **kwargs)\n",
    "        elapsed = time.time() - start\n",
    "        print(\"elapsed time of {} : {}\".format(org_func.__name__, elapsed))\n",
    "        return result\n",
    "    return inner"
   ]
  },
  {
   "cell_type": "code",
   "execution_count": 66,
   "metadata": {},
   "outputs": [],
   "source": [
    "@benchmarker\n",
    "def add(a,b):\n",
    "    time.sleep(3) # 초 단위로 셈\n",
    "    return a+b"
   ]
  },
  {
   "cell_type": "code",
   "execution_count": 67,
   "metadata": {},
   "outputs": [
    {
     "name": "stdout",
     "output_type": "stream",
     "text": [
      "elapsed time of add : 3.000967025756836\n"
     ]
    },
    {
     "data": {
      "text/plain": [
       "3"
      ]
     },
     "execution_count": 67,
     "metadata": {},
     "output_type": "execute_result"
    }
   ],
   "source": [
    "add(1,2)"
   ]
  },
  {
   "cell_type": "code",
   "execution_count": 68,
   "metadata": {},
   "outputs": [],
   "source": [
    "# ronud()함수를 사용, 깔끔하게 만들어보자.\n",
    "\n",
    "def benchmarker(org_func):\n",
    "    @wraps(org_func)\n",
    "    def inner(*args, **kwargs):\n",
    "        start = time.time() #epoch 1911.~ 시간을 정수형태 초단위로 반환\n",
    "        result = org_func(*args, **kwargs)\n",
    "        elapsed = time.time() - start\n",
    "        print(\"elapsed time of {} : {}\".format(org_func.__name__, round(elapsed, 6)))\n",
    "        return result\n",
    "    return inner"
   ]
  },
  {
   "cell_type": "code",
   "execution_count": 69,
   "metadata": {},
   "outputs": [
    {
     "name": "stdout",
     "output_type": "stream",
     "text": [
      "elapsed time of add : 3.000112\n"
     ]
    },
    {
     "data": {
      "text/plain": [
       "3"
      ]
     },
     "execution_count": 69,
     "metadata": {},
     "output_type": "execute_result"
    }
   ],
   "source": [
    "@benchmarker\n",
    "def add(a,b):\n",
    "    time.sleep(3) # 초 단위로 쉼\n",
    "    return a+b\n",
    "add(1,2)"
   ]
  },
  {
   "cell_type": "markdown",
   "metadata": {},
   "source": [
    "### senior, architechter >>> decorator 작동 원리를 아는 것 필요"
   ]
  },
  {
   "cell_type": "code",
   "execution_count": null,
   "metadata": {},
   "outputs": [],
   "source": []
  }
 ],
 "metadata": {
  "kernelspec": {
   "display_name": "Python 3",
   "language": "python",
   "name": "python3"
  },
  "language_info": {
   "codemirror_mode": {
    "name": "ipython",
    "version": 3
   },
   "file_extension": ".py",
   "mimetype": "text/x-python",
   "name": "python",
   "nbconvert_exporter": "python",
   "pygments_lexer": "ipython3",
   "version": "3.6.5"
  }
 },
 "nbformat": 4,
 "nbformat_minor": 2
}
