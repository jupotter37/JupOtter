{
 "cells": [
  {
   "cell_type": "code",
   "execution_count": 13,
   "metadata": {},
   "outputs": [
    {
     "name": "stdout",
     "output_type": "stream",
     "text": [
      "0 0 -9223372036854775808\n",
      "0 0 9223372036854775807\n",
      "1 1 -9223372036854775808\n",
      "0 1 9223372036854775807\n",
      "2 2 -9223372036854775808\n",
      "0 2 1\n",
      "3 3 -9223372036854775808\n",
      "0 3 1\n",
      "4 4 -9223372036854775808\n",
      "0 4 1\n",
      "5 5 -9223372036854775808\n",
      "0 5 1\n",
      "6 6 -9223372036854775808\n",
      "0 6 1\n",
      "7 7 -9223372036854775808\n",
      "0 7 1\n",
      "8 8 -9223372036854775808\n",
      "0 8 1\n",
      "9 9 -9223372036854775808\n",
      "0 9 1\n",
      "{'max': 9, 'max2': -9223372036854775808, 'min': 0, 'min2': 1}\n"
     ]
    }
   ],
   "source": [
    "import sys\n",
    "def comp(i, max, max2, min, min2):\n",
    "    if i > max:\n",
    "        max2 = max\n",
    "        max = i\n",
    "    elif i > max2:\n",
    "        max2 = i\n",
    "    if i < min:\n",
    "        min2 = min\n",
    "        min = i\n",
    "    elif i < min2:\n",
    "        min2 = i\n",
    "    return max, max2, min, min2\n",
    "def less_than(a, b):\n",
    "    if a < b:\n",
    "        return a\n",
    "    else:\n",
    "        return b\n",
    "def in_betn_lt(a, b, c):\n",
    "    if a < b and b < c:\n",
    "        return b \n",
    "    else:\n",
    "        return c\n",
    "def greater_than(a, b):\n",
    "    if a > b: \n",
    "        return a\n",
    "    else:\n",
    "        return b\n",
    "def in_betn_gt(a, b, c):\n",
    "    if a > b and b > c:\n",
    "        return b \n",
    "    else:\n",
    "        return c \n",
    "def in_betn_comp(a, b, c, compare):\n",
    "    print(a, b, c)\n",
    "    if compare(a, b) and compare(b, c):\n",
    "        return b\n",
    "    else:\n",
    "        return c\n",
    "def comp_and_get(a, b, comp):\n",
    "    if comp(a, b):\n",
    "        return a\n",
    "    else:\n",
    "        return b\n",
    "def comp_gt(a, b):\n",
    "    return a > b\n",
    "def comp_lt(a, b):\n",
    "    return a < b\n",
    "def comp2(i, max, max2, min, min2):\n",
    "    max = comp_and_get(i, max, comp_gt)\n",
    "    max2 = in_betn_comp(max, i, max2, comp_gt)\n",
    "    min = less_than(min, i)\n",
    "    min2 = in_betn_comp(min, i, min2, comp_lt)\n",
    "    return max, max2, min, min2\n",
    "def find(list):\n",
    "    MAX_INT = sys.maxsize\n",
    "    MIN_INT = -sys.maxsize - 1\n",
    "    max = MIN_INT\n",
    "    max2 = MIN_INT\n",
    "    min = MAX_INT\n",
    "    min2 = MAX_INT\n",
    "    for i in list:\n",
    "        # max, max2, min, min2 = comp(i, max, max2, min, min2)\n",
    "        max, max2, min, min2 = comp2(i, max, max2, min, min2)        \n",
    "    return {'max':max, 'max2':max2, 'min':min, 'min2':min2}\n",
    "print(find(range(10)))\n"
   ]
  },
  {
   "cell_type": "code",
   "execution_count": 21,
   "metadata": {},
   "outputs": [
    {
     "name": "stdout",
     "output_type": "stream",
     "text": [
      "{'max': 9, 'max2': 8, 'min': 0, 'min2': 1}\n"
     ]
    }
   ],
   "source": [
    "import sys\n",
    "def comp(i, max, max2, min, min2):\n",
    "    max2, max = comp_fun(greater_than, i, max, max2)\n",
    "    min2, min = comp_fun(less_than, i, min, min2)\n",
    "    return max, max2, min, min2\n",
    "\n",
    "def less_than(a, b):\n",
    "    return a < b\n",
    "def greater_than(a, b):\n",
    "    return a > b\n",
    "def comp_fun(compare, a, b, c):\n",
    "    if compare(a, b):\n",
    "        return b, a\n",
    "    elif compare(a, c):\n",
    "        return a, b\n",
    "    else:\n",
    "        return c, b\n",
    "\n",
    "def find(list):\n",
    "    MAX_INT = sys.maxsize\n",
    "    MIN_INT = -sys.maxsize - 1\n",
    "    max = MIN_INT\n",
    "    max2 = MIN_INT\n",
    "    min = MAX_INT\n",
    "    min2 = MAX_INT\n",
    "    for i in list:\n",
    "        # print(i, max, max2, min, min2)\n",
    "        max, max2, min, min2 = comp(i, max, max2, min, min2)\n",
    "     \n",
    "    return {'max':max, 'max2':max2, 'min':min, 'min2':min2}\n",
    "print(find(range(10)))"
   ]
  },
  {
   "cell_type": "code",
   "execution_count": null,
   "metadata": {},
   "outputs": [],
   "source": [
    "def compose(input, functions):\n",
    "    for f in functions:\n",
    "        input = f(*input)\n",
    "    return input"
   ]
  },
  {
   "cell_type": "code",
   "execution_count": 25,
   "metadata": {},
   "outputs": [
    {
     "name": "stdout",
     "output_type": "stream",
     "text": [
      "[1, 2, 3, 4, 5]\n"
     ]
    }
   ],
   "source": [
    "def fun(input):\n",
    "    return [*input]\n",
    "r = fun((1,2,3,4,5))\n",
    "print(r)"
   ]
  },
  {
   "cell_type": "code",
   "execution_count": 33,
   "metadata": {},
   "outputs": [
    {
     "name": "stdout",
     "output_type": "stream",
     "text": [
      "[1, 1.5, 2.0, 2.5, 3.0, 3.5, 4.0, 4.5]\n"
     ]
    }
   ],
   "source": [
    "def prefix_average1(S):\n",
    "    \"\"\"Return list of prefix averages of S.\n",
    "\n",
    "    >>> prefix_average1([1,2,3,4,5,6,7,8])\n",
    "    [1.0, 1.5, 2.0, 2.5, 3.0, 3.5, 4.0, 4.5]\n",
    "    \"\"\"\n",
    "    n = len(S)\n",
    "    A = [0] * n\n",
    "    A[0] = S[0]\n",
    "    for i in range(1, n):\n",
    "        A[i] = A[i-1] * i + S[i]\n",
    "        A[i] = A[i] / (i+1)\n",
    "    return A\n",
    "print(prefix_average1([1,2,3,4,5,6,7,8]))"
   ]
  },
  {
   "cell_type": "code",
   "execution_count": 36,
   "metadata": {},
   "outputs": [],
   "source": [
    "d = {'a':'a'}\n",
    "d['a']\n",
    "try:\n",
    "    d['b']\n",
    "except KeyError:\n",
    "    ...\n"
   ]
  },
  {
   "cell_type": "code",
   "execution_count": 48,
   "metadata": {},
   "outputs": [
    {
     "name": "stdout",
     "output_type": "stream",
     "text": [
      "True\n",
      "False\n",
      "True\n",
      "True\n",
      "True\n",
      "False\n",
      "True\n",
      "False\n",
      "True\n",
      "True\n",
      "True\n",
      "True\n"
     ]
    }
   ],
   "source": [
    "def disjoint1(A,B,C): # does this even work properly?\n",
    "                    #   O(n^3)\n",
    "    for a in A:\n",
    "        for b in B:\n",
    "            for c in C:\n",
    "                if a == b == c:\n",
    "                    return False\n",
    "    return True\n",
    "def disjoint1_2(A, B, C): # O(n ^ 3)\n",
    "    for a in A:\n",
    "        for b in B:\n",
    "            if a == b:\n",
    "                for c in C:\n",
    "                    if a == c:\n",
    "                        return False\n",
    "    return True\n",
    "\n",
    "\n",
    "def disjoint2(A, B, C): # O(n^2)\n",
    "    for a in A:\n",
    "        for b in B:\n",
    "            if a == b:\n",
    "                return False\n",
    "    for a in A:\n",
    "        for c in C:\n",
    "            if a == c:\n",
    "                return False\n",
    "    for b in B:\n",
    "        for c in C:\n",
    "            if b == c:\n",
    "                return False\n",
    "    return True\n",
    "def disjoint2_2(A, B, C): # O(n^2)\n",
    "    for a in A:\n",
    "        for b in B:\n",
    "            if a == b:\n",
    "                return False\n",
    "    for a in A:\n",
    "        for c in C:\n",
    "            if a == c:\n",
    "                return False\n",
    "    return True\n",
    "\n",
    "def disjoint3(A, B, C): #O(n^2), fastest\n",
    "    \"\"\"\"\"\"\n",
    "    set_A = set(A)\n",
    "    set_B = set(B)\n",
    "    if set_A & set_B != set(): # O(n^2)\n",
    "        return False\n",
    "    set_AB = set_A | set_B # O(n)\n",
    "    set_C = set(C)\n",
    "    if set_AB & set_C != set(): # O(n^2)\n",
    "        return False\n",
    "    return True\n",
    "def disjoint3_2(A, B, C): #O(n) to O(nlogn), fastest, no branches\n",
    "    \"\"\"\"\"\"\n",
    "    set_A = set(A)\n",
    "    set_B = set(B)\n",
    "    set_AB = set_A & set_B # O(n) to O(nlogn)\n",
    "    set_C = set(C)\n",
    "    set_ABC = set_AB & set_C # O(n) to O(nlogn)\n",
    "    is_disjoint = set_ABC == set()\n",
    "    return is_disjoint\n",
    "print(disjoint3([*range(1, 22, 2)], [*range(2, 24, 2)], [*range(25, 30)]))\n",
    "print(disjoint3([*range(1, 22, 2)], [*range(2, 24, 2)], [*range(1, 30)]))\n",
    "print(disjoint3_2([*range(1, 22, 2)], [*range(2, 24, 2)], [*range(25, 30)]))\n",
    "print(disjoint3_2([*range(1, 22, 2)], [*range(2, 24, 2)], [*range(1, 30)]))\n",
    "print(disjoint2([*range(1, 22, 2)], [*range(2, 24, 2)], [*range(25, 30)]))\n",
    "print(disjoint2([*range(1, 22, 2)], [*range(2, 24, 2)], [*range(1, 30)]))\n",
    "print(disjoint2_2([*range(1, 22, 2)], [*range(2, 24, 2)], [*range(25, 30)]))\n",
    "print(disjoint2_2([*range(1, 22, 2)], [*range(2, 24, 2)], [*range(1, 30)]))\n",
    "print(disjoint1([*range(1, 22, 2)], [*range(2, 24, 2)], [*range(25, 30)]))\n",
    "print(disjoint1([*range(1, 22, 2)], [*range(2, 24, 2)], [*range(1, 30)]))\n",
    "print(disjoint1_2([*range(1, 22, 2)], [*range(2, 24, 2)], [*range(25, 30)]))\n",
    "print(disjoint1_2([*range(1, 22, 2)], [*range(2, 24, 2)], [*range(1, 30)]))"
   ]
  },
  {
   "cell_type": "code",
   "execution_count": 57,
   "metadata": {},
   "outputs": [
    {
     "data": {
      "text/plain": [
       "'b c d'"
      ]
     },
     "execution_count": 57,
     "metadata": {},
     "output_type": "execute_result"
    }
   ],
   "source": [
    "str.join(' ',('b','c', 'd'))"
   ]
  },
  {
   "cell_type": "code",
   "execution_count": 61,
   "metadata": {},
   "outputs": [
    {
     "data": {
      "text/plain": [
       "'abcd'"
      ]
     },
     "execution_count": 61,
     "metadata": {},
     "output_type": "execute_result"
    }
   ],
   "source": [
    "'a' 'b' 'c' 'd'"
   ]
  },
  {
   "cell_type": "code",
   "execution_count": 60,
   "metadata": {},
   "outputs": [
    {
     "data": {
      "text/plain": [
       "'a c e'"
      ]
     },
     "execution_count": 60,
     "metadata": {},
     "output_type": "execute_result"
    }
   ],
   "source": [
    "'a'.__add__(' ').__add__('c').__add__(' ').__add__('e')"
   ]
  },
  {
   "cell_type": "code",
   "execution_count": null,
   "metadata": {},
   "outputs": [],
   "source": [
    "def unique1(A, B):\n",
    "    for a in A:\n",
    "        for b in B:\n",
    "            if a == b:\n",
    "                return False\n",
    "    return True\n",
    "def unique2(A ,B):\n",
    "    set_A = set(A)\n",
    "    set_B = set(B)\n",
    "    set_AB = set_A & set_B\n",
    "    return set_AB == set()\n"
   ]
  },
  {
   "cell_type": "code",
   "execution_count": 68,
   "metadata": {},
   "outputs": [
    {
     "name": "stdout",
     "output_type": "stream",
     "text": [
      "[1, 3, 5, 7, 9, 11, 13, 15, 17, 19, 21, 2, 4, 6, 8, 10, 12, 14, 16, 18, 20, 22, 25, 26, 27, 28, 29]\n",
      "unique1 True\n",
      "unique2 True\n",
      "unique3 True\n",
      "[1, 2, 3, 4, 5, 6, 7, 8, 9, 10, 11, 12, 13, 14, 15, 16, 17, 18, 19, 20, 21, 22, 23, 24, 25, 26, 27, 28, 29, 30, 31, 32, 33, 34, 35, 36, 37, 38, 39, 40, 41, 42, 43, 44, 45, 46, 47, 48, 49, 50, 51, 52, 53, 54, 55, 56, 57, 58, 59, 60, 61, 62, 63, 64, 65, 66, 67, 68, 69, 70, 71, 72, 73, 74, 75, 76, 77, 78, 79, 80, 81, 82, 83, 84, 85, 86, 87, 88, 89, 90, 91, 92, 93, 94, 95, 96, 97, 98, 99]\n",
      "unique1 True\n",
      "unique2 True\n",
      "unique3 True\n",
      "[1, 3, 5, 7, 9, 11, 13, 15, 17, 19, 21, 2, 4, 6, 8, 10, 12, 14, 16, 18, 20, 22, 25, 26, 27, 28, 29, 1, 3, 5, 7, 9, 11, 13, 15, 17, 19, 21, 2, 4, 6, 8, 10, 12, 14, 16, 18, 20, 22, 25, 26, 27, 28, 29]\n",
      "unique1 False\n",
      "unique2 False\n",
      "unique3 False\n"
     ]
    }
   ],
   "source": [
    "def unique1(A):\n",
    "    len_A = len(A)\n",
    "    for i in range(len_A):\n",
    "        for j in range(i+1, len_A):\n",
    "            if A[i] == A[j]:\n",
    "                return False\n",
    "    return True\n",
    "def unique2(A):\n",
    "    set_A = set(A)\n",
    "    has_all_unique = len(set_A) == len(A)\n",
    "    return has_all_unique\n",
    "def unique3(A):\n",
    "    temp = sorted(A)\n",
    "    len_temp = len(temp)\n",
    "    for j in range(1, len_temp):\n",
    "        if temp[j-1] == temp[j]:\n",
    "            return False\n",
    "    return True\n",
    "\n",
    "\n",
    "\n",
    "test_data = [[*range(1, 22, 2), *range(2, 24, 2), *range(25, 30)], [*range(1, 100)], [*range(1, 22, 2), *range(2, 24, 2), *range(25, 30)]*2]\n",
    "for test in test_data:\n",
    "    print(test)\n",
    "    print('unique1', unique1(test))\n",
    "    print('unique2', unique2(test))\n",
    "    print('unique3', unique3(test))\n"
   ]
  },
  {
   "cell_type": "code",
   "execution_count": 69,
   "metadata": {},
   "outputs": [
    {
     "data": {
      "text/plain": [
       "[<matplotlib.lines.Line2D at 0x22594115490>]"
      ]
     },
     "execution_count": 69,
     "metadata": {},
     "output_type": "execute_result"
    },
    {
     "data": {
      "image/png": "[encoded data removed]",
      "text/plain": [
       "<Figure size 432x288 with 1 Axes>"
      ]
     },
     "metadata": {
      "needs_background": "light"
     },
     "output_type": "display_data"
    }
   ],
   "source": [
    "import matplotlib.pyplot as plt\n",
    "x_axis_vals = [*range(1, 4)]\n",
    "y_axis_vals = [2, 4, 1]\n",
    "plt.plot(x_axis_vals, y_axis_vals)"
   ]
  },
  {
   "cell_type": "code",
   "execution_count": null,
   "metadata": {},
   "outputs": [],
   "source": []
  },
  {
   "cell_type": "code",
   "execution_count": 72,
   "metadata": {},
   "outputs": [
    {
     "data": {
      "text/plain": [
       "[<matplotlib.lines.Line2D at 0x225942ddd60>]"
      ]
     },
     "execution_count": 72,
     "metadata": {},
     "output_type": "execute_result"
    },
    {
     "data": {
      "image/png": "[encoded data removed]",
      "text/plain": [
       "<Figure size 432x288 with 1 Axes>"
      ]
     },
     "metadata": {
      "needs_background": "light"
     },
     "output_type": "display_data"
    }
   ],
   "source": [
    "def linear(start, end):\n",
    "    return lambda x: start + (end - start) * x\n",
    "def logarythmic(start, end):\n",
    "    return lambda x: start * (end / start) ** x\n",
    "def quadratic(start, end):\n",
    "    return lambda x: start * (end / start) ** (2 * x)\n",
    "def cubic(start, end):\n",
    "    return lambda x: start * (end / start) ** (3 * x)\n",
    "def exponential(start, end):\n",
    "    return lambda x: start * (end / start) ** (x * 2)\n",
    "def sinusoidal(start, end):\n",
    "    return lambda x: start * (end / start) ** (x * 2)\n",
    "def cosinusoidal(start, end):\n",
    "    return lambda x: start * (end / start) ** (x * 2)\n",
    "def circular(start, end):\n",
    "    return lambda x: start * (end / start) ** (x * 2)\n",
    "\n",
    "\n",
    "linear_func = linear(1, 100)\n",
    "linear_x = [linear_func(x) for x in range(100)]\n",
    "linear_y = [linear_func(y) for y in range(100)]\n",
    "plt.plot(linear_x, linear_y)\n",
    "logarythmic_func = logarythmic(1, 100)\n",
    "logarythmic_x = [logarythmic_func(x) for x in range(100)]\n",
    "logarythmic_y = [logarythmic_func(y) for y in range(100)]\n",
    "plt.plot(logarythmic_x, logarythmic_y)"
   ]
  },
  {
   "cell_type": "code",
   "execution_count": 75,
   "metadata": {},
   "outputs": [
    {
     "ename": "TypeError",
     "evalue": "float() argument must be a string or a number, not 'function'",
     "output_type": "error",
     "traceback": [
      "\u001b[1;31m---------------------------------------------------------------------------\u001b[0m",
      "\u001b[1;31mTypeError\u001b[0m                                 Traceback (most recent call last)",
      "\u001b[1;32m<ipython-input-75-5f5681ef0cf6>\u001b[0m in \u001b[0;36m<module>\u001b[1;34m\u001b[0m\n\u001b[0;32m     12\u001b[0m \u001b[1;33m\u001b[0m\u001b[0m\n\u001b[0;32m     13\u001b[0m \u001b[1;33m\u001b[0m\u001b[0m\n\u001b[1;32m---> 14\u001b[1;33m \u001b[0mFunction\u001b[0m\u001b[1;33m(\u001b[0m\u001b[0mlinear\u001b[0m\u001b[1;33m,\u001b[0m \u001b[1;36m1\u001b[0m\u001b[1;33m,\u001b[0m \u001b[1;36m100\u001b[0m\u001b[1;33m)\u001b[0m\u001b[1;33m.\u001b[0m\u001b[0mgraph\u001b[0m\u001b[1;33m(\u001b[0m\u001b[0mrange\u001b[0m\u001b[1;33m(\u001b[0m\u001b[1;36m100\u001b[0m\u001b[1;33m)\u001b[0m\u001b[1;33m)\u001b[0m\u001b[1;33m\u001b[0m\u001b[1;33m\u001b[0m\u001b[0m\n\u001b[0m",
      "\u001b[1;32m<ipython-input-75-5f5681ef0cf6>\u001b[0m in \u001b[0;36mgraph\u001b[1;34m(self, x_vals)\u001b[0m\n\u001b[0;32m      9\u001b[0m     \u001b[1;32mdef\u001b[0m \u001b[0mgraph\u001b[0m\u001b[1;33m(\u001b[0m\u001b[0mself\u001b[0m\u001b[1;33m,\u001b[0m \u001b[0mx_vals\u001b[0m\u001b[1;33m)\u001b[0m\u001b[1;33m:\u001b[0m\u001b[1;33m\u001b[0m\u001b[1;33m\u001b[0m\u001b[0m\n\u001b[0;32m     10\u001b[0m         \u001b[0my_vals\u001b[0m \u001b[1;33m=\u001b[0m \u001b[1;33m[\u001b[0m\u001b[0mself\u001b[0m\u001b[1;33m.\u001b[0m\u001b[0mf\u001b[0m\u001b[1;33m(\u001b[0m\u001b[0mx\u001b[0m\u001b[1;33m,\u001b[0m \u001b[1;36m1000\u001b[0m\u001b[1;33m)\u001b[0m \u001b[1;32mfor\u001b[0m \u001b[0mx\u001b[0m \u001b[1;32min\u001b[0m \u001b[0mx_vals\u001b[0m\u001b[1;33m]\u001b[0m\u001b[1;33m\u001b[0m\u001b[1;33m\u001b[0m\u001b[0m\n\u001b[1;32m---> 11\u001b[1;33m         \u001b[0mplt\u001b[0m\u001b[1;33m.\u001b[0m\u001b[0mplot\u001b[0m\u001b[1;33m(\u001b[0m\u001b[0mx_vals\u001b[0m\u001b[1;33m,\u001b[0m \u001b[0my_vals\u001b[0m\u001b[1;33m)\u001b[0m\u001b[1;33m\u001b[0m\u001b[1;33m\u001b[0m\u001b[0m\n\u001b[0m\u001b[0;32m     12\u001b[0m \u001b[1;33m\u001b[0m\u001b[0m\n\u001b[0;32m     13\u001b[0m \u001b[1;33m\u001b[0m\u001b[0m\n",
      "\u001b[1;32mC:\\useful\\py\\anc\\lib\\site-packages\\matplotlib\\pyplot.py\u001b[0m in \u001b[0;36mplot\u001b[1;34m(scalex, scaley, data, *args, **kwargs)\u001b[0m\n\u001b[0;32m   2838\u001b[0m \u001b[1;33m@\u001b[0m\u001b[0m_copy_docstring_and_deprecators\u001b[0m\u001b[1;33m(\u001b[0m\u001b[0mAxes\u001b[0m\u001b[1;33m.\u001b[0m\u001b[0mplot\u001b[0m\u001b[1;33m)\u001b[0m\u001b[1;33m\u001b[0m\u001b[1;33m\u001b[0m\u001b[0m\n\u001b[0;32m   2839\u001b[0m \u001b[1;32mdef\u001b[0m \u001b[0mplot\u001b[0m\u001b[1;33m(\u001b[0m\u001b[1;33m*\u001b[0m\u001b[0margs\u001b[0m\u001b[1;33m,\u001b[0m \u001b[0mscalex\u001b[0m\u001b[1;33m=\u001b[0m\u001b[1;32mTrue\u001b[0m\u001b[1;33m,\u001b[0m \u001b[0mscaley\u001b[0m\u001b[1;33m=\u001b[0m\u001b[1;32mTrue\u001b[0m\u001b[1;33m,\u001b[0m \u001b[0mdata\u001b[0m\u001b[1;33m=\u001b[0m\u001b[1;32mNone\u001b[0m\u001b[1;33m,\u001b[0m \u001b[1;33m**\u001b[0m\u001b[0mkwargs\u001b[0m\u001b[1;33m)\u001b[0m\u001b[1;33m:\u001b[0m\u001b[1;33m\u001b[0m\u001b[1;33m\u001b[0m\u001b[0m\n\u001b[1;32m-> 2840\u001b[1;33m     return gca().plot(\n\u001b[0m\u001b[0;32m   2841\u001b[0m         \u001b[1;33m*\u001b[0m\u001b[0margs\u001b[0m\u001b[1;33m,\u001b[0m \u001b[0mscalex\u001b[0m\u001b[1;33m=\u001b[0m\u001b[0mscalex\u001b[0m\u001b[1;33m,\u001b[0m \u001b[0mscaley\u001b[0m\u001b[1;33m=\u001b[0m\u001b[0mscaley\u001b[0m\u001b[1;33m,\u001b[0m\u001b[1;33m\u001b[0m\u001b[1;33m\u001b[0m\u001b[0m\n\u001b[0;32m   2842\u001b[0m         **({\"data\": data} if data is not None else {}), **kwargs)\n",
      "\u001b[1;32mC:\\useful\\py\\anc\\lib\\site-packages\\matplotlib\\axes\\_axes.py\u001b[0m in \u001b[0;36mplot\u001b[1;34m(self, scalex, scaley, data, *args, **kwargs)\u001b[0m\n\u001b[0;32m   1743\u001b[0m         \u001b[0mlines\u001b[0m \u001b[1;33m=\u001b[0m \u001b[1;33m[\u001b[0m\u001b[1;33m*\u001b[0m\u001b[0mself\u001b[0m\u001b[1;33m.\u001b[0m\u001b[0m_get_lines\u001b[0m\u001b[1;33m(\u001b[0m\u001b[1;33m*\u001b[0m\u001b[0margs\u001b[0m\u001b[1;33m,\u001b[0m \u001b[0mdata\u001b[0m\u001b[1;33m=\u001b[0m\u001b[0mdata\u001b[0m\u001b[1;33m,\u001b[0m \u001b[1;33m**\u001b[0m\u001b[0mkwargs\u001b[0m\u001b[1;33m)\u001b[0m\u001b[1;33m]\u001b[0m\u001b[1;33m\u001b[0m\u001b[1;33m\u001b[0m\u001b[0m\n\u001b[0;32m   1744\u001b[0m         \u001b[1;32mfor\u001b[0m \u001b[0mline\u001b[0m \u001b[1;32min\u001b[0m \u001b[0mlines\u001b[0m\u001b[1;33m:\u001b[0m\u001b[1;33m\u001b[0m\u001b[1;33m\u001b[0m\u001b[0m\n\u001b[1;32m-> 1745\u001b[1;33m             \u001b[0mself\u001b[0m\u001b[1;33m.\u001b[0m\u001b[0madd_line\u001b[0m\u001b[1;33m(\u001b[0m\u001b[0mline\u001b[0m\u001b[1;33m)\u001b[0m\u001b[1;33m\u001b[0m\u001b[1;33m\u001b[0m\u001b[0m\n\u001b[0m\u001b[0;32m   1746\u001b[0m         \u001b[0mself\u001b[0m\u001b[1;33m.\u001b[0m\u001b[0m_request_autoscale_view\u001b[0m\u001b[1;33m(\u001b[0m\u001b[0mscalex\u001b[0m\u001b[1;33m=\u001b[0m\u001b[0mscalex\u001b[0m\u001b[1;33m,\u001b[0m \u001b[0mscaley\u001b[0m\u001b[1;33m=\u001b[0m\u001b[0mscaley\u001b[0m\u001b[1;33m)\u001b[0m\u001b[1;33m\u001b[0m\u001b[1;33m\u001b[0m\u001b[0m\n\u001b[0;32m   1747\u001b[0m         \u001b[1;32mreturn\u001b[0m \u001b[0mlines\u001b[0m\u001b[1;33m\u001b[0m\u001b[1;33m\u001b[0m\u001b[0m\n",
      "\u001b[1;32mC:\\useful\\py\\anc\\lib\\site-packages\\matplotlib\\axes\\_base.py\u001b[0m in \u001b[0;36madd_line\u001b[1;34m(self, line)\u001b[0m\n\u001b[0;32m   1962\u001b[0m             \u001b[0mline\u001b[0m\u001b[1;33m.\u001b[0m\u001b[0mset_clip_path\u001b[0m\u001b[1;33m(\u001b[0m\u001b[0mself\u001b[0m\u001b[1;33m.\u001b[0m\u001b[0mpatch\u001b[0m\u001b[1;33m)\u001b[0m\u001b[1;33m\u001b[0m\u001b[1;33m\u001b[0m\u001b[0m\n\u001b[0;32m   1963\u001b[0m \u001b[1;33m\u001b[0m\u001b[0m\n\u001b[1;32m-> 1964\u001b[1;33m         \u001b[0mself\u001b[0m\u001b[1;33m.\u001b[0m\u001b[0m_update_line_limits\u001b[0m\u001b[1;33m(\u001b[0m\u001b[0mline\u001b[0m\u001b[1;33m)\u001b[0m\u001b[1;33m\u001b[0m\u001b[1;33m\u001b[0m\u001b[0m\n\u001b[0m\u001b[0;32m   1965\u001b[0m         \u001b[1;32mif\u001b[0m \u001b[1;32mnot\u001b[0m \u001b[0mline\u001b[0m\u001b[1;33m.\u001b[0m\u001b[0mget_label\u001b[0m\u001b[1;33m(\u001b[0m\u001b[1;33m)\u001b[0m\u001b[1;33m:\u001b[0m\u001b[1;33m\u001b[0m\u001b[1;33m\u001b[0m\u001b[0m\n\u001b[0;32m   1966\u001b[0m             \u001b[0mline\u001b[0m\u001b[1;33m.\u001b[0m\u001b[0mset_label\u001b[0m\u001b[1;33m(\u001b[0m\u001b[1;34m'_line%d'\u001b[0m \u001b[1;33m%\u001b[0m \u001b[0mlen\u001b[0m\u001b[1;33m(\u001b[0m\u001b[0mself\u001b[0m\u001b[1;33m.\u001b[0m\u001b[0mlines\u001b[0m\u001b[1;33m)\u001b[0m\u001b[1;33m)\u001b[0m\u001b[1;33m\u001b[0m\u001b[1;33m\u001b[0m\u001b[0m\n",
      "\u001b[1;32mC:\\useful\\py\\anc\\lib\\site-packages\\matplotlib\\axes\\_base.py\u001b[0m in \u001b[0;36m_update_line_limits\u001b[1;34m(self, line)\u001b[0m\n\u001b[0;32m   1984\u001b[0m         \u001b[0mFigures\u001b[0m \u001b[0mout\u001b[0m \u001b[0mthe\u001b[0m \u001b[0mdata\u001b[0m \u001b[0mlimit\u001b[0m \u001b[0mof\u001b[0m \u001b[0mthe\u001b[0m \u001b[0mgiven\u001b[0m \u001b[0mline\u001b[0m\u001b[1;33m,\u001b[0m \u001b[0mupdating\u001b[0m \u001b[0mself\u001b[0m\u001b[1;33m.\u001b[0m\u001b[0mdataLim\u001b[0m\u001b[1;33m.\u001b[0m\u001b[1;33m\u001b[0m\u001b[1;33m\u001b[0m\u001b[0m\n\u001b[0;32m   1985\u001b[0m         \"\"\"\n\u001b[1;32m-> 1986\u001b[1;33m         \u001b[0mpath\u001b[0m \u001b[1;33m=\u001b[0m \u001b[0mline\u001b[0m\u001b[1;33m.\u001b[0m\u001b[0mget_path\u001b[0m\u001b[1;33m(\u001b[0m\u001b[1;33m)\u001b[0m\u001b[1;33m\u001b[0m\u001b[1;33m\u001b[0m\u001b[0m\n\u001b[0m\u001b[0;32m   1987\u001b[0m         \u001b[1;32mif\u001b[0m \u001b[0mpath\u001b[0m\u001b[1;33m.\u001b[0m\u001b[0mvertices\u001b[0m\u001b[1;33m.\u001b[0m\u001b[0msize\u001b[0m \u001b[1;33m==\u001b[0m \u001b[1;36m0\u001b[0m\u001b[1;33m:\u001b[0m\u001b[1;33m\u001b[0m\u001b[1;33m\u001b[0m\u001b[0m\n\u001b[0;32m   1988\u001b[0m             \u001b[1;32mreturn\u001b[0m\u001b[1;33m\u001b[0m\u001b[1;33m\u001b[0m\u001b[0m\n",
      "\u001b[1;32mC:\\useful\\py\\anc\\lib\\site-packages\\matplotlib\\lines.py\u001b[0m in \u001b[0;36mget_path\u001b[1;34m(self)\u001b[0m\n\u001b[0;32m   1009\u001b[0m         \"\"\"\n\u001b[0;32m   1010\u001b[0m         \u001b[1;32mif\u001b[0m \u001b[0mself\u001b[0m\u001b[1;33m.\u001b[0m\u001b[0m_invalidy\u001b[0m \u001b[1;32mor\u001b[0m \u001b[0mself\u001b[0m\u001b[1;33m.\u001b[0m\u001b[0m_invalidx\u001b[0m\u001b[1;33m:\u001b[0m\u001b[1;33m\u001b[0m\u001b[1;33m\u001b[0m\u001b[0m\n\u001b[1;32m-> 1011\u001b[1;33m             \u001b[0mself\u001b[0m\u001b[1;33m.\u001b[0m\u001b[0mrecache\u001b[0m\u001b[1;33m(\u001b[0m\u001b[1;33m)\u001b[0m\u001b[1;33m\u001b[0m\u001b[1;33m\u001b[0m\u001b[0m\n\u001b[0m\u001b[0;32m   1012\u001b[0m         \u001b[1;32mreturn\u001b[0m \u001b[0mself\u001b[0m\u001b[1;33m.\u001b[0m\u001b[0m_path\u001b[0m\u001b[1;33m\u001b[0m\u001b[1;33m\u001b[0m\u001b[0m\n\u001b[0;32m   1013\u001b[0m \u001b[1;33m\u001b[0m\u001b[0m\n",
      "\u001b[1;32mC:\\useful\\py\\anc\\lib\\site-packages\\matplotlib\\lines.py\u001b[0m in \u001b[0;36mrecache\u001b[1;34m(self, always)\u001b[0m\n\u001b[0;32m    656\u001b[0m         \u001b[1;32mif\u001b[0m \u001b[0malways\u001b[0m \u001b[1;32mor\u001b[0m \u001b[0mself\u001b[0m\u001b[1;33m.\u001b[0m\u001b[0m_invalidy\u001b[0m\u001b[1;33m:\u001b[0m\u001b[1;33m\u001b[0m\u001b[1;33m\u001b[0m\u001b[0m\n\u001b[0;32m    657\u001b[0m             \u001b[0myconv\u001b[0m \u001b[1;33m=\u001b[0m \u001b[0mself\u001b[0m\u001b[1;33m.\u001b[0m\u001b[0mconvert_yunits\u001b[0m\u001b[1;33m(\u001b[0m\u001b[0mself\u001b[0m\u001b[1;33m.\u001b[0m\u001b[0m_yorig\u001b[0m\u001b[1;33m)\u001b[0m\u001b[1;33m\u001b[0m\u001b[1;33m\u001b[0m\u001b[0m\n\u001b[1;32m--> 658\u001b[1;33m             \u001b[0my\u001b[0m \u001b[1;33m=\u001b[0m \u001b[0m_to_unmasked_float_array\u001b[0m\u001b[1;33m(\u001b[0m\u001b[0myconv\u001b[0m\u001b[1;33m)\u001b[0m\u001b[1;33m.\u001b[0m\u001b[0mravel\u001b[0m\u001b[1;33m(\u001b[0m\u001b[1;33m)\u001b[0m\u001b[1;33m\u001b[0m\u001b[1;33m\u001b[0m\u001b[0m\n\u001b[0m\u001b[0;32m    659\u001b[0m         \u001b[1;32melse\u001b[0m\u001b[1;33m:\u001b[0m\u001b[1;33m\u001b[0m\u001b[1;33m\u001b[0m\u001b[0m\n\u001b[0;32m    660\u001b[0m             \u001b[0my\u001b[0m \u001b[1;33m=\u001b[0m \u001b[0mself\u001b[0m\u001b[1;33m.\u001b[0m\u001b[0m_y\u001b[0m\u001b[1;33m\u001b[0m\u001b[1;33m\u001b[0m\u001b[0m\n",
      "\u001b[1;32mC:\\useful\\py\\anc\\lib\\site-packages\\matplotlib\\cbook\\__init__.py\u001b[0m in \u001b[0;36m_to_unmasked_float_array\u001b[1;34m(x)\u001b[0m\n\u001b[0;32m   1287\u001b[0m         \u001b[1;32mreturn\u001b[0m \u001b[0mnp\u001b[0m\u001b[1;33m.\u001b[0m\u001b[0mma\u001b[0m\u001b[1;33m.\u001b[0m\u001b[0masarray\u001b[0m\u001b[1;33m(\u001b[0m\u001b[0mx\u001b[0m\u001b[1;33m,\u001b[0m \u001b[0mfloat\u001b[0m\u001b[1;33m)\u001b[0m\u001b[1;33m.\u001b[0m\u001b[0mfilled\u001b[0m\u001b[1;33m(\u001b[0m\u001b[0mnp\u001b[0m\u001b[1;33m.\u001b[0m\u001b[0mnan\u001b[0m\u001b[1;33m)\u001b[0m\u001b[1;33m\u001b[0m\u001b[1;33m\u001b[0m\u001b[0m\n\u001b[0;32m   1288\u001b[0m     \u001b[1;32melse\u001b[0m\u001b[1;33m:\u001b[0m\u001b[1;33m\u001b[0m\u001b[1;33m\u001b[0m\u001b[0m\n\u001b[1;32m-> 1289\u001b[1;33m         \u001b[1;32mreturn\u001b[0m \u001b[0mnp\u001b[0m\u001b[1;33m.\u001b[0m\u001b[0masarray\u001b[0m\u001b[1;33m(\u001b[0m\u001b[0mx\u001b[0m\u001b[1;33m,\u001b[0m \u001b[0mfloat\u001b[0m\u001b[1;33m)\u001b[0m\u001b[1;33m\u001b[0m\u001b[1;33m\u001b[0m\u001b[0m\n\u001b[0m\u001b[0;32m   1290\u001b[0m \u001b[1;33m\u001b[0m\u001b[0m\n\u001b[0;32m   1291\u001b[0m \u001b[1;33m\u001b[0m\u001b[0m\n",
      "\u001b[1;32mC:\\useful\\py\\anc\\lib\\site-packages\\numpy\\core\\_asarray.py\u001b[0m in \u001b[0;36masarray\u001b[1;34m(a, dtype, order)\u001b[0m\n\u001b[0;32m     81\u001b[0m \u001b[1;33m\u001b[0m\u001b[0m\n\u001b[0;32m     82\u001b[0m     \"\"\"\n\u001b[1;32m---> 83\u001b[1;33m     \u001b[1;32mreturn\u001b[0m \u001b[0marray\u001b[0m\u001b[1;33m(\u001b[0m\u001b[0ma\u001b[0m\u001b[1;33m,\u001b[0m \u001b[0mdtype\u001b[0m\u001b[1;33m,\u001b[0m \u001b[0mcopy\u001b[0m\u001b[1;33m=\u001b[0m\u001b[1;32mFalse\u001b[0m\u001b[1;33m,\u001b[0m \u001b[0morder\u001b[0m\u001b[1;33m=\u001b[0m\u001b[0morder\u001b[0m\u001b[1;33m)\u001b[0m\u001b[1;33m\u001b[0m\u001b[1;33m\u001b[0m\u001b[0m\n\u001b[0m\u001b[0;32m     84\u001b[0m \u001b[1;33m\u001b[0m\u001b[0m\n\u001b[0;32m     85\u001b[0m \u001b[1;33m\u001b[0m\u001b[0m\n",
      "\u001b[1;31mTypeError\u001b[0m: float() argument must be a string or a number, not 'function'"
     ]
    },
    {
     "data": {
      "image/png": "[encoded data removed]",
      "text/plain": [
       "<Figure size 432x288 with 1 Axes>"
      ]
     },
     "metadata": {
      "needs_background": "light"
     },
     "output_type": "display_data"
    }
   ],
   "source": [
    "# Graph the functions 8n, 4n log n, 2n2, n3, and 2n using a logarithmic scale for the x- and y-axes; that is, if the function value f(n) is y, plot this as a point with x-coordinate at log n and y-coordinate at log y\n"
   ]
  },
  {
   "cell_type": "markdown",
   "metadata": {},
   "source": [
    "Communication security is extremely important in computer networks, and one way many network protocols achieve security is to encrypt messages. Typical cryptographic schemes for the secure transmission of messages over such networks are based on the fact that no efficient algorithms are known for factoring large integers. Hence, if we can represent a secret message by a large prime number p, we can transmit, over the network, the number r = p · q, where q > p is another large prime number that acts as the encryption key. An eavesdropper who obtains the transmitted number r on the network would have to factor r in order to figure out the secret message p.\n",
    "\n",
    "Using factoring to figure out a message is very difficult without knowing the encryption key q. To understand why, consider the following naive factoring algorithm:\n",
    "\n",
    "for p in range(2,r):\n",
    "  if r % p == 0:                               # if p divides r\n",
    "     return ‘The secret message is p!’\n",
    "\n",
    "    Suppose that the eavesdropper uses the above algorithm and has a computer that can carry out in 1 microsecond (1 millionth of a second) a division between two integers of up to 100 bits each. Give an estimate of the time that it will take in the worst case to decipher the secret message p if the transmitted message r has 100 bits.\n",
    "    What is the worst-case time complexity of the above algorithm? Since the input to the algorithm is just one large number r, assume that the input size n is the number of bytes needed to store r, that is, images, and that each division takes time O(n).\n",
    "\n"
   ]
  },
  {
   "cell_type": "code",
   "execution_count": null,
   "metadata": {},
   "outputs": [],
   "source": [
    "\"\"\"A sequence S contains n − 1 unique integers in the range [0, n − 1],\n",
    " that is, there is one number from this range that is not in S.\n",
    "  Design an O(n)-time algorithm for finding that number. You are only allowed to use O(1) additional space besides the sequence S itself.\"\"\"\n",
    "\n",
    "\n",
    "def find_missing_number(A):\n",
    "    n = len(A)\n",
    "    for i in range(n):\n",
    "        if A[i] != i:\n",
    "            return i\n",
    "    return n\n",
    "\n",
    "\n",
    "def find_missing_number_2(A):\n",
    "    n = len(A)\n",
    "    sum_A = sum(A)\n",
    "    sum_A_expected = (n + 1) * n / 2\n",
    "    return sum_A_expected - sum_A\n",
    "\n",
    "\n"
   ]
  },
  {
   "cell_type": "code",
   "execution_count": 3,
   "metadata": {},
   "outputs": [
    {
     "name": "stdout",
     "output_type": "stream",
     "text": [
      "10\n"
     ]
    }
   ],
   "source": [
    "def F(N):\n",
    "    if N < 1:\n",
    "        return 0\n",
    "    if N == 1:\n",
    "        return 1\n",
    "    return F(N - 1) + N\n",
    "\n",
    "\n",
    "print(F(4))"
   ]
  },
  {
   "cell_type": "code",
   "execution_count": 2,
   "metadata": {},
   "outputs": [
    {
     "name": "stdout",
     "output_type": "stream",
     "text": [
      "1\n",
      "1\n"
     ]
    }
   ],
   "source": [
    "# fibonacci numbers recursively\n",
    "count = 0\n",
    "def F(N):\n",
    "    global count\n",
    "    count += 1\n",
    "    print(count)\n",
    "    if N < 1:\n",
    "        return 0\n",
    "    if N == 1:\n",
    "        return 1\n",
    "    return F(N - 1) + F(N - 2)\n",
    "print(F(1))"
   ]
  },
  {
   "cell_type": "code",
   "execution_count": 1,
   "metadata": {},
   "outputs": [
    {
     "name": "stdout",
     "output_type": "stream",
     "text": [
      "1\n"
     ]
    }
   ],
   "source": [
    "def F(N): return F(N - 1) + F(N - 2) if N > 1 else 1\n",
    "print(F(1))"
   ]
  },
  {
   "cell_type": "code",
   "execution_count": 23,
   "metadata": {},
   "outputs": [
    {
     "name": "stdout",
     "output_type": "stream",
     "text": [
      "maximum recursion depth exceeded while calling a Python object\n",
      "2963\n"
     ]
    }
   ],
   "source": [
    "count = 0\n",
    "def factorial(n):\n",
    "    global count \n",
    "    count += 1\n",
    "    if not (isinstance(n, int) and n >= 0):\n",
    "        raise ValueError(\"n must be a non-negative integer\")\n",
    "    if n <= 0:\n",
    "        return 1\n",
    "    return n * factorial(n - 1)\n",
    "# try:\n",
    "#     print(factorial(-1))\n",
    "# except ValueError as e:\n",
    "#     print(e)\n",
    "# print(factorial(0))\n",
    "# print(factorial(1))\n",
    "# print(factorial(10))\n",
    "# print(factorial(20))\n",
    "# print(factorial(50))\n",
    "# print(factorial(100))\n",
    "# print(factorial(200))\n",
    "# print(factorial(500))\n",
    "# print(factorial(1000))\n",
    "# print(factorial(2000))\n",
    "try:\n",
    "    print(factorial(5000))\n",
    "except RecursionError as e:\n",
    "    print(e)\n",
    "print(count)\n",
    "\n",
    "\n",
    "\n",
    "\n",
    "\n",
    "\n",
    "\n",
    "\n",
    "\n"
   ]
  },
  {
   "cell_type": "code",
   "execution_count": 24,
   "metadata": {},
   "outputs": [
    {
     "name": "stdout",
     "output_type": "stream",
     "text": [
      "-----0\n",
      "-\n",
      "--\n",
      "-\n",
      "---\n",
      "-\n",
      "--\n",
      "-\n",
      "----\n",
      "-\n",
      "--\n",
      "-\n",
      "---\n",
      "-\n",
      "--\n",
      "-\n",
      "-----1\n",
      "-\n",
      "--\n",
      "-\n",
      "---\n",
      "-\n",
      "--\n",
      "-\n",
      "----\n",
      "-\n",
      "--\n",
      "-\n",
      "---\n",
      "-\n",
      "--\n",
      "-\n",
      "-----2\n",
      "-\n",
      "--\n",
      "-\n",
      "---\n",
      "-\n",
      "--\n",
      "-\n",
      "----\n",
      "-\n",
      "--\n",
      "-\n",
      "---\n",
      "-\n",
      "--\n",
      "-\n",
      "-----3\n",
      "-\n",
      "--\n",
      "-\n",
      "---\n",
      "-\n",
      "--\n",
      "-\n",
      "----\n",
      "-\n",
      "--\n",
      "-\n",
      "---\n",
      "-\n",
      "--\n",
      "-\n",
      "-----4\n"
     ]
    }
   ],
   "source": [
    "\n",
    "class EnglishRuler:\n",
    "    def __init__(self, num_inches, major_length):\n",
    "        self.__num_inches = num_inches\n",
    "        self.__major_length = major_length\n",
    "    \n",
    "    #draw line method\n",
    "    def draw_line(self, tick_length, tick_label=''):\n",
    "        line ='-'*tick_length\n",
    "        if tick_label:\n",
    "            line += ''+tick_label\n",
    "        print(line)\n",
    "        \n",
    "    #draw interval method    \n",
    "    def draw_interval(self, center_length):\n",
    "        if center_length>0:\n",
    "            self.draw_interval(center_length - 1)\n",
    "            self.draw_line(center_length)\n",
    "            self.draw_interval(center_length - 1)\n",
    "            \n",
    "    #draw ruler method        \n",
    "    def draw_ruler(self):\n",
    "        self.draw_line(self.__major_length, '0')\n",
    "        for j in range(1, 1+self.__num_inches):\n",
    "            self.draw_interval(self.__major_length- 1)\n",
    "            self.draw_line(self.__major_length, str(j))\n",
    "            \n",
    "\n",
    "ruler = EnglishRuler(4,5)\n",
    "ruler.draw_ruler()"
   ]
  },
  {
   "cell_type": "code",
   "execution_count": 29,
   "metadata": {},
   "outputs": [
    {
     "name": "stdout",
     "output_type": "stream",
     "text": [
      "1024\n",
      "1024\n"
     ]
    }
   ],
   "source": [
    "def power(x, n):\n",
    "    if n == 0:\n",
    "        return 1\n",
    "    if n % 2 == 0:\n",
    "        return power(x, n // 2) ** 2\n",
    "    else:\n",
    "        return x * power(x, n - 1)\n",
    "def power2(x, n):\n",
    "    res = 1\n",
    "    for i in range(n):\n",
    "        res = res * x\n",
    "    return res\n",
    "\n",
    "\n",
    "print(power(2, 10))\n",
    "\n",
    "print(power2(2, 10))"
   ]
  },
  {
   "cell_type": "code",
   "execution_count": 33,
   "metadata": {},
   "outputs": [
    {
     "name": "stdout",
     "output_type": "stream",
     "text": [
      "sys.version_info(major=3, minor=8, micro=5, releaselevel='final', serial=0)\n",
      "2\n",
      "3\n"
     ]
    }
   ],
   "source": [
    "import math\n",
    "from sys import version_info\n",
    "print(version_info)\n",
    "print(math.floor(2.5))\n",
    "print(math.ceil(2.5))\n"
   ]
  }
 ],
 "metadata": {
  "interpreter": {
   "hash": "3302eebcf7e52c14d71868d015eee8315393a5eb39dbe380d769cb4e6bd351bd"
  },
  "kernelspec": {
   "display_name": "Python 3.8.5 64-bit ('base': conda)",
   "language": "python",
   "name": "python3"
  },
  "language_info": {
   "codemirror_mode": {
    "name": "ipython",
    "version": 3
   },
   "file_extension": ".py",
   "mimetype": "text/x-python",
   "name": "python",
   "nbconvert_exporter": "python",
   "pygments_lexer": "ipython3",
   "version": "3.8.5"
  },
  "orig_nbformat": 4
 },
 "nbformat": 4,
 "nbformat_minor": 2
}
