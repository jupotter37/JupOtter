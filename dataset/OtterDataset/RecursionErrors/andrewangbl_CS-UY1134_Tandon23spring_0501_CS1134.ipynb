{
 "cells": [
  {
   "cell_type": "code",
   "execution_count": 1,
   "id": "147702cb",
   "metadata": {},
   "outputs": [
    {
     "data": {
      "text/plain": [
       "7263166218187223801"
      ]
     },
     "execution_count": 1,
     "metadata": {},
     "output_type": "execute_result"
    }
   ],
   "source": [
    "hash(\"diuk\")"
   ]
  },
  {
   "cell_type": "code",
   "execution_count": 9,
   "id": "8373c020",
   "metadata": {},
   "outputs": [
    {
     "data": {
      "text/plain": [
       "70"
      ]
     },
     "execution_count": 9,
     "metadata": {},
     "output_type": "execute_result"
    }
   ],
   "source": [
    "hash(70)"
   ]
  },
  {
   "cell_type": "code",
   "execution_count": null,
   "id": "c8ff6d35",
   "metadata": {},
   "outputs": [],
   "source": [
    "class HashTableMap:\n",
    "    def __init__(self):\n",
    "        pass\n",
    "    def __len__(self):\n",
    "        pass\n",
    "    def is_empty(self):\n",
    "        pass\n",
    "    def __getitem__(self):\n",
    "        pass\n",
    "    def __setitem__(self):\n",
    "        pass\n",
    "    def __delitem__(self,key):\n",
    "        pass\n",
    "    "
   ]
  },
  {
   "cell_type": "code",
   "execution_count": 1,
   "id": "9107a241",
   "metadata": {},
   "outputs": [],
   "source": [
    "class LinearFunction:\n",
    "    def __init__(self,a,b):\n",
    "        self.a = a\n",
    "        self.b = b\n",
    "    def __call__(self,x):\n",
    "        return self.a*x + self.b"
   ]
  },
  {
   "cell_type": "code",
   "execution_count": 2,
   "id": "57003b72",
   "metadata": {},
   "outputs": [],
   "source": [
    "f1 = LinearFunction(3,5)\n",
    "f2 = LinearFunction(2,-8)\n"
   ]
  },
  {
   "cell_type": "code",
   "execution_count": 3,
   "id": "6c0b955c",
   "metadata": {},
   "outputs": [
    {
     "data": {
      "text/plain": [
       "11"
      ]
     },
     "execution_count": 3,
     "metadata": {},
     "output_type": "execute_result"
    }
   ],
   "source": [
    "f1(2)"
   ]
  },
  {
   "cell_type": "code",
   "execution_count": null,
   "id": "9ba5d4bf",
   "metadata": {},
   "outputs": [],
   "source": [
    "from lists import ArrayList\n",
    "class UnsortedArrayMap:\n",
    "    class Item:\n",
    "        def __init__(self, key, value = None):\n",
    "            self.key = key\n",
    "            self.value = value\n",
    "    def __init__(self):\n",
    "        self.table = ArrayList()\n",
    "        \n",
    "    def __len__(self):\n",
    "        return (len(self.table))\n",
    "    def is_empty(self):\n",
    "        return (len(self) == 0)\n",
    "    \n",
    "    def __getitem__(self,key):\n",
    "        for item in self.table:\n",
    "            if item.key == key:\n",
    "                return item.value\n",
    "        raise KeyError(\"Key Error:\"+str(key))\n",
    "        \n",
    "    def __setitem__(self,key):\n",
    "        for item in self.table:\n",
    "            if item.key == key:\n",
    "                item.value=value\n",
    "                return\n",
    "        new_item=UnsortedArrayMap.Item(key,value)\n",
    "        self.table.append(new_item)\n",
    "    def __delitem__(self,key):\n",
    "        for i in range(len(self.table)):\n",
    "            curr_item = self.table[i]\n",
    "            if (curr_item.key == key):\n",
    "                self.table.pop(i)\n",
    "                return\n",
    "        raise KeyError(\"Key Error\"+str(key))\n",
    "        \n",
    "    def __iter__(self):\n",
    "        for item in self.table:\n",
    "            yield item.key\n",
    "\n",
    "            \n",
    "            \n",
    "class ChainingHashTableMap:\n",
    "    class MADHashFunction:\n",
    "            def __init__(self,N,p=40306835204840513073):\n",
    "                self.N = N\n",
    "                self.p = p\n",
    "                self.a = random.randint(1,self.p-1)\n",
    "                self.b = random.randint(0,self.p-1)\n",
    "\n",
    "            def __call__(self,key):\n",
    "                return ((((self.a * hash(key)) + self.b)%self.p)%self.N)\n",
    "            \n",
    "    def __init__(self, N=64):\n",
    "        self.N = N\n",
    "        self.table = make_array(self.N)\n",
    "        for i in range(self.N):\n",
    "            self.table[i]=UnsortedArrayMap()\n",
    "        self.n = 0\n",
    "        self.hash_function = ChainingHashTableMap.MADHashFunction(N)\n",
    "        \n",
    "    def __len__(self):\n",
    "        return self.n\n",
    "    \n",
    "    def is_empty(self):\n",
    "        return (len(self)==0)\n",
    "    \n",
    "    def __getitem__(self,key):\n",
    "        i = self.hash_function(key)\n",
    "        curr_bucket = self.table[i]\n",
    "        return curr_bucket[key]\n",
    "    def __setitem__(self,key,value):\n",
    "        i = self.hash_function(key)\n",
    "        curr_bucket = self.table[i]\n",
    "        old_size = len(curr_bucket)\n",
    "        curr_bucket[key] = value\n",
    "        new_size = len(curr_bucket)\n",
    "        if (new_size > old_size):\n",
    "            self.n += 1\n",
    "        if (self.n > self.N):\n",
    "            self.rehash(2*self.N)\n",
    "            \n",
    "    def __delitem__(self,key):\n",
    "        i = self.hash_function(key)\n",
    "        curr_bucket = self.table[i]\n",
    "        del curr_bucket[key]\n",
    "        self.n -= 1\n",
    "        if (self.n < self.N//4):\n",
    "            self.rehash(self.N//2)\n",
    "            \n",
    "    def __contains__(self,key):\n",
    "        try:\n",
    "            val = self[key]\n",
    "            return True\n",
    "        except KeyError:\n",
    "            return False\n",
    "\n",
    "    def __iter__(self):\n",
    "        for curr_bucket in self.table:\n",
    "            for key in curr_bucket:\n",
    "                yield key\n",
    "\n",
    "    def rehash(self,new_size):\n",
    "        old_data=[(key,self[key]) for key in self]\n",
    "        self.__init__(new_size)\n",
    "        for (key,val) in old_data:\n",
    "            self[key]=val"
   ]
  },
  {
   "cell_type": "code",
   "execution_count": null,
   "id": "ae6a79ce",
   "metadata": {},
   "outputs": [],
   "source": []
  },
  {
   "cell_type": "markdown",
   "id": "7b8d1b56",
   "metadata": {},
   "source": [
    "# Recitation"
   ]
  },
  {
   "cell_type": "code",
   "execution_count": null,
   "id": "354f63d7",
   "metadata": {},
   "outputs": [],
   "source": [
    "class Company(self):\n",
    "    def __init__(self):\n",
    "        # stack\n",
    "    def __len__(self):\n",
    "        pass\n",
    "    def fire(self):\n",
    "        "
   ]
  },
  {
   "cell_type": "code",
   "execution_count": null,
   "id": "1d0a7a7a",
   "metadata": {},
   "outputs": [],
   "source": [
    "class AlbumCatalog:\n",
    "    def __init__(self):\n",
    "        vvvbccbx                  \n",
    "    def __len__(self):\n",
    "        pass"
   ]
  },
  {
   "cell_type": "code",
   "execution_count": 20,
   "id": "1fc82379",
   "metadata": {},
   "outputs": [
    {
     "ename": "SyntaxError",
     "evalue": "invalid syntax (2777892449.py, line 1)",
     "output_type": "error",
     "traceback": [
      "\u001b[0;36m  File \u001b[0;32m\"/var/folders/rd/q2lzfdss4b167026m7l6h8pm0000gn/T/ipykernel_15384/2777892449.py\"\u001b[0;36m, line \u001b[0;32m1\u001b[0m\n\u001b[0;31m    list comprehenseion\u001b[0m\n\u001b[0m         ^\u001b[0m\n\u001b[0;31mSyntaxError\u001b[0m\u001b[0;31m:\u001b[0m invalid syntax\n"
     ]
    }
   ],
   "source": [
    "list comprehenseion\n",
    "[something if condition else something else]"
   ]
  },
  {
   "cell_type": "code",
   "execution_count": 22,
   "id": "7d343646",
   "metadata": {},
   "outputs": [],
   "source": [
    "# nested list\n",
    "nums = [1,2,[3,4],5,[6]]"
   ]
  },
  {
   "cell_type": "code",
   "execution_count": 28,
   "id": "e69f272e",
   "metadata": {},
   "outputs": [],
   "source": [
    "def net_sum(lst):\n",
    "    s = 0\n",
    "    for elem in lst:\n",
    "        if isinstance(elem,list):\n",
    "            s += net_sum(lst)\n",
    "        else:\n",
    "            s += elem"
   ]
  },
  {
   "cell_type": "code",
   "execution_count": 29,
   "id": "79837a47",
   "metadata": {},
   "outputs": [
    {
     "ename": "RecursionError",
     "evalue": "maximum recursion depth exceeded while calling a Python object",
     "output_type": "error",
     "traceback": [
      "\u001b[0;31m---------------------------------------------------------------------------\u001b[0m",
      "\u001b[0;31mRecursionError\u001b[0m                            Traceback (most recent call last)",
      "\u001b[0;32m/var/folders/rd/q2lzfdss4b167026m7l6h8pm0000gn/T/ipykernel_15384/2809297473.py\u001b[0m in \u001b[0;36m<module>\u001b[0;34m\u001b[0m\n\u001b[0;32m----> 1\u001b[0;31m \u001b[0mnet_sum\u001b[0m\u001b[0;34m(\u001b[0m\u001b[0mnums\u001b[0m\u001b[0;34m)\u001b[0m\u001b[0;34m\u001b[0m\u001b[0;34m\u001b[0m\u001b[0m\n\u001b[0m",
      "\u001b[0;32m/var/folders/rd/q2lzfdss4b167026m7l6h8pm0000gn/T/ipykernel_15384/2500198207.py\u001b[0m in \u001b[0;36mnet_sum\u001b[0;34m(lst)\u001b[0m\n\u001b[1;32m      3\u001b[0m     \u001b[0;32mfor\u001b[0m \u001b[0melem\u001b[0m \u001b[0;32min\u001b[0m \u001b[0mlst\u001b[0m\u001b[0;34m:\u001b[0m\u001b[0;34m\u001b[0m\u001b[0;34m\u001b[0m\u001b[0m\n\u001b[1;32m      4\u001b[0m         \u001b[0;32mif\u001b[0m \u001b[0misinstance\u001b[0m\u001b[0;34m(\u001b[0m\u001b[0melem\u001b[0m\u001b[0;34m,\u001b[0m\u001b[0mlist\u001b[0m\u001b[0;34m)\u001b[0m\u001b[0;34m:\u001b[0m\u001b[0;34m\u001b[0m\u001b[0;34m\u001b[0m\u001b[0m\n\u001b[0;32m----> 5\u001b[0;31m             \u001b[0ms\u001b[0m \u001b[0;34m+=\u001b[0m \u001b[0mnet_sum\u001b[0m\u001b[0;34m(\u001b[0m\u001b[0mlst\u001b[0m\u001b[0;34m)\u001b[0m\u001b[0;34m\u001b[0m\u001b[0;34m\u001b[0m\u001b[0m\n\u001b[0m\u001b[1;32m      6\u001b[0m         \u001b[0;32melse\u001b[0m\u001b[0;34m:\u001b[0m\u001b[0;34m\u001b[0m\u001b[0;34m\u001b[0m\u001b[0m\n\u001b[1;32m      7\u001b[0m             \u001b[0ms\u001b[0m \u001b[0;34m+=\u001b[0m \u001b[0melem\u001b[0m\u001b[0;34m\u001b[0m\u001b[0;34m\u001b[0m\u001b[0m\n",
      "... last 1 frames repeated, from the frame below ...\n",
      "\u001b[0;32m/var/folders/rd/q2lzfdss4b167026m7l6h8pm0000gn/T/ipykernel_15384/2500198207.py\u001b[0m in \u001b[0;36mnet_sum\u001b[0;34m(lst)\u001b[0m\n\u001b[1;32m      3\u001b[0m     \u001b[0;32mfor\u001b[0m \u001b[0melem\u001b[0m \u001b[0;32min\u001b[0m \u001b[0mlst\u001b[0m\u001b[0;34m:\u001b[0m\u001b[0;34m\u001b[0m\u001b[0;34m\u001b[0m\u001b[0m\n\u001b[1;32m      4\u001b[0m         \u001b[0;32mif\u001b[0m \u001b[0misinstance\u001b[0m\u001b[0;34m(\u001b[0m\u001b[0melem\u001b[0m\u001b[0;34m,\u001b[0m\u001b[0mlist\u001b[0m\u001b[0;34m)\u001b[0m\u001b[0;34m:\u001b[0m\u001b[0;34m\u001b[0m\u001b[0;34m\u001b[0m\u001b[0m\n\u001b[0;32m----> 5\u001b[0;31m             \u001b[0ms\u001b[0m \u001b[0;34m+=\u001b[0m \u001b[0mnet_sum\u001b[0m\u001b[0;34m(\u001b[0m\u001b[0mlst\u001b[0m\u001b[0;34m)\u001b[0m\u001b[0;34m\u001b[0m\u001b[0;34m\u001b[0m\u001b[0m\n\u001b[0m\u001b[1;32m      6\u001b[0m         \u001b[0;32melse\u001b[0m\u001b[0;34m:\u001b[0m\u001b[0;34m\u001b[0m\u001b[0;34m\u001b[0m\u001b[0m\n\u001b[1;32m      7\u001b[0m             \u001b[0ms\u001b[0m \u001b[0;34m+=\u001b[0m \u001b[0melem\u001b[0m\u001b[0;34m\u001b[0m\u001b[0;34m\u001b[0m\u001b[0m\n",
      "\u001b[0;31mRecursionError\u001b[0m: maximum recursion depth exceeded while calling a Python object"
     ]
    }
   ],
   "source": [
    "net_sum(nums)"
   ]
  },
  {
   "cell_type": "code",
   "execution_count": null,
   "id": "a8711b70",
   "metadata": {},
   "outputs": [],
   "source": [
    "# r"
   ]
  },
  {
   "cell_type": "code",
   "execution_count": null,
   "id": "a527c7c7",
   "metadata": {},
   "outputs": [],
   "source": []
  },
  {
   "cell_type": "code",
   "execution_count": null,
   "id": "bbc1ae59",
   "metadata": {},
   "outputs": [],
   "source": []
  },
  {
   "cell_type": "code",
   "execution_count": null,
   "id": "b4741063",
   "metadata": {},
   "outputs": [],
   "source": []
  },
  {
   "cell_type": "code",
   "execution_count": null,
   "id": "6f6c257a",
   "metadata": {},
   "outputs": [],
   "source": []
  },
  {
   "cell_type": "code",
   "execution_count": null,
   "id": "4b62a699",
   "metadata": {},
   "outputs": [],
   "source": []
  },
  {
   "cell_type": "code",
   "execution_count": null,
   "id": "a14c6827",
   "metadata": {},
   "outputs": [],
   "source": []
  },
  {
   "cell_type": "code",
   "execution_count": null,
   "id": "88bc1650",
   "metadata": {},
   "outputs": [],
   "source": []
  },
  {
   "cell_type": "code",
   "execution_count": null,
   "id": "a0c47bc8",
   "metadata": {},
   "outputs": [],
   "source": []
  },
  {
   "cell_type": "code",
   "execution_count": null,
   "id": "0768cf50",
   "metadata": {},
   "outputs": [],
   "source": []
  },
  {
   "cell_type": "code",
   "execution_count": null,
   "id": "24dadc48",
   "metadata": {},
   "outputs": [],
   "source": []
  },
  {
   "cell_type": "code",
   "execution_count": null,
   "id": "6dee9521",
   "metadata": {},
   "outputs": [],
   "source": []
  },
  {
   "cell_type": "code",
   "execution_count": null,
   "id": "44c6780a",
   "metadata": {},
   "outputs": [],
   "source": []
  },
  {
   "cell_type": "code",
   "execution_count": null,
   "id": "d01ecc83",
   "metadata": {},
   "outputs": [],
   "source": []
  },
  {
   "cell_type": "code",
   "execution_count": null,
   "id": "7cb0fdc7",
   "metadata": {},
   "outputs": [],
   "source": []
  },
  {
   "cell_type": "code",
   "execution_count": null,
   "id": "00f44e8d",
   "metadata": {},
   "outputs": [],
   "source": []
  }
 ],
 "metadata": {
  "kernelspec": {
   "display_name": "Python 3 (ipykernel)",
   "language": "python",
   "name": "python3"
  },
  "language_info": {
   "codemirror_mode": {
    "name": "ipython",
    "version": 3
   },
   "file_extension": ".py",
   "mimetype": "text/x-python",
   "name": "python",
   "nbconvert_exporter": "python",
   "pygments_lexer": "ipython3",
   "version": "3.8.12"
  },
  "toc": {
   "base_numbering": 1,
   "nav_menu": {},
   "number_sections": true,
   "sideBar": true,
   "skip_h1_title": false,
   "title_cell": "Table of Contents",
   "title_sidebar": "Contents",
   "toc_cell": false,
   "toc_position": {},
   "toc_section_display": true,
   "toc_window_display": false
  }
 },
 "nbformat": 4,
 "nbformat_minor": 5
}
