{
 "cells": [
  {
   "cell_type": "code",
   "execution_count": null,
   "id": "675c8e8d-2e5d-4a3b-990e-b3e4f50a8bed",
   "metadata": {},
   "outputs": [],
   "source": [
    "#PYTHON"
   ]
  },
  {
   "cell_type": "code",
   "execution_count": 1,
   "id": "b6fd54fa-8699-46b9-8321-026749098672",
   "metadata": {},
   "outputs": [
    {
     "name": "stdout",
     "output_type": "stream",
     "text": [
      "36\n"
     ]
    }
   ],
   "source": [
    "#Write a Python program using lambda to calculate the square of a number entered by the user. \n",
    "#ANS\n",
    "num = 6\n",
    "square=lambda x:x**2\n",
    "print(square(num))"
   ]
  },
  {
   "cell_type": "code",
   "execution_count": 3,
   "id": "44db9b5a-9fb0-4d6f-bc35-60c8d65bcdfe",
   "metadata": {},
   "outputs": [
    {
     "name": "stdout",
     "output_type": "stream",
     "text": [
      "[2, 4, 6, 8, 10]\n"
     ]
    }
   ],
   "source": [
    "#Use map to double all the elements in the list: [1, 2, 3, 4, 5]. \n",
    "#ANS\n",
    "numbers = [1, 2, 3, 4, 5]\n",
    "doubled_numbers = list(map(lambda x: x * 2, numbers))\n",
    "print(doubled_numbers)"
   ]
  },
  {
   "cell_type": "code",
   "execution_count": 4,
   "id": "8ec5b20a-1815-4b94-aa87-82c1306af69a",
   "metadata": {},
   "outputs": [
    {
     "name": "stdout",
     "output_type": "stream",
     "text": [
      "[10, 20, 30]\n"
     ]
    }
   ],
   "source": [
    "#Use filter to extract all even numbers from the list: [10, 15, 20, 25, 30]. \n",
    "#ANS\n",
    "numbers = [10, 15, 20, 25, 30]\n",
    "even_numbers = list(filter(lambda x: x % 2 == 0, numbers))\n",
    "print(even_numbers)"
   ]
  },
  {
   "cell_type": "code",
   "execution_count": 6,
   "id": "416f70cc-db67-479d-88b0-b6fa39b96d24",
   "metadata": {},
   "outputs": [
    {
     "name": "stdout",
     "output_type": "stream",
     "text": [
      "15\n"
     ]
    }
   ],
   "source": [
    "#Write a function that takes a variable number of arguments (*args) and returns their sum. \n",
    "def sum_all(*args):\n",
    "  return sum(args)\n",
    "\n",
    "result = sum_all(1, 2, 3, 4, 5)\n",
    "print(result) "
   ]
  },
  {
   "cell_type": "code",
   "execution_count": 11,
   "id": "77c61fb5-48f8-4f2c-8eac-5e23874c2171",
   "metadata": {},
   "outputs": [
    {
     "name": "stdout",
     "output_type": "stream",
     "text": [
      "Hello, my name is saurav\n"
     ]
    }
   ],
   "source": [
    "#Create a class Person with attributes name and age. Add a method greet that prints a greeting with the name. Create an object of the class and call the greet method.\n",
    "#ANS\n",
    "class Person:\n",
    "    def __init__(self, name, age):\n",
    "        self.name = name\n",
    "        self.age = age\n",
    "    def greet(self):\n",
    "        print(\"Hello, my name is\", self.name)\n",
    "person1 = Person(\"saurav\",30)\n",
    "person1.greet()  "
   ]
  },
  {
   "cell_type": "code",
   "execution_count": 14,
   "id": "049ab94b-dc8c-4acc-9401-0a1caae2d9f9",
   "metadata": {},
   "outputs": [
    {
     "name": "stdout",
     "output_type": "stream",
     "text": [
      "1\n",
      "2\n",
      "3\n",
      "4\n",
      "5\n",
      "6\n",
      "7\n",
      "8\n",
      "9\n",
      "10\n"
     ]
    }
   ],
   "source": [
    "# Write a program to print the first 10 natural numbers using a for loop. \n",
    "#ANS\n",
    "for i in range(1, 11):\n",
    "    print(i)"
   ]
  },
  {
   "cell_type": "code",
   "execution_count": 15,
   "id": "cb7dd9ea-d1e5-4572-8e28-cb2bdb242951",
   "metadata": {},
   "outputs": [
    {
     "name": "stdout",
     "output_type": "stream",
     "text": [
      "The sum of the numbers is: 50\n"
     ]
    }
   ],
   "source": [
    "#Write a program to calculate the sum of all numbers in a list: [5, 10, 15, 20] using a for loop. \n",
    "#ANS\n",
    "numbers = [5, 10, 15, 20]\n",
    "total = 0\n",
    "for number in numbers:\n",
    "  total=total+ number\n",
    "print(\"The sum of the numbers is:\", total)"
   ]
  },
  {
   "cell_type": "code",
   "execution_count": 17,
   "id": "bdf8b7f3-327e-4f90-af2c-3d7c2225ffa0",
   "metadata": {},
   "outputs": [
    {
     "name": "stdin",
     "output_type": "stream",
     "text": [
      "Enter a string:  malayalam\n"
     ]
    },
    {
     "name": "stdout",
     "output_type": "stream",
     "text": [
      "The string is a palindrome.\n"
     ]
    }
   ],
   "source": [
    "# Write a Python function to check if a string is a palindrome. \n",
    "#ANS\n",
    "def is_palindrome(string):\n",
    "  return string == string[::-1]\n",
    "string = input(\"Enter a string: \")\n",
    "if is_palindrome(string):\n",
    "  print(\"The string is a palindrome.\")\n",
    "else:\n",
    "  print(\"The string is not a palindrome.\")"
   ]
  },
  {
   "cell_type": "code",
   "execution_count": 30,
   "id": "056f8d46-659d-4475-954f-b0be7ad7d0bb",
   "metadata": {},
   "outputs": [
    {
     "name": "stdin",
     "output_type": "stream",
     "text": [
      "Enter the first number:  6\n",
      "Enter the second number:  7\n",
      "Enter the third number:    8\n"
     ]
    },
    {
     "ename": "RecursionError",
     "evalue": "maximum recursion depth exceeded",
     "output_type": "error",
     "traceback": [
      "\u001b[1;31m---------------------------------------------------------------------------\u001b[0m",
      "\u001b[1;31mRecursionError\u001b[0m                            Traceback (most recent call last)",
      "Cell \u001b[1;32mIn[30], line 10\u001b[0m\n\u001b[0;32m      7\u001b[0m num2 \u001b[38;5;241m=\u001b[39m \u001b[38;5;28mint\u001b[39m(\u001b[38;5;28minput\u001b[39m(\u001b[38;5;124m\"\u001b[39m\u001b[38;5;124mEnter the second number: \u001b[39m\u001b[38;5;124m\"\u001b[39m))\n\u001b[0;32m      8\u001b[0m num3 \u001b[38;5;241m=\u001b[39m \u001b[38;5;28mint\u001b[39m(\u001b[38;5;28minput\u001b[39m(\u001b[38;5;124m\"\u001b[39m\u001b[38;5;124mEnter the third number:   \u001b[39m\u001b[38;5;124m\"\u001b[39m))\n\u001b[1;32m---> 10\u001b[0m max_num\u001b[38;5;241m=\u001b[39m\u001b[43mfind_max\u001b[49m\u001b[43m(\u001b[49m\u001b[43mnum1\u001b[49m\u001b[43m,\u001b[49m\u001b[43m \u001b[49m\u001b[43mnum2\u001b[49m\u001b[43m,\u001b[49m\u001b[43m \u001b[49m\u001b[43mnum3\u001b[49m\u001b[43m)\u001b[49m\n\u001b[0;32m     11\u001b[0m \u001b[38;5;28mprint\u001b[39m(\u001b[38;5;124m\"\u001b[39m\u001b[38;5;124mThe maximum number is:\u001b[39m\u001b[38;5;124m\"\u001b[39m, max_num)\n",
      "Cell \u001b[1;32mIn[30], line 4\u001b[0m, in \u001b[0;36mfind_max\u001b[1;34m(num1, num2, num3)\u001b[0m\n\u001b[0;32m      3\u001b[0m \u001b[38;5;28;01mdef\u001b[39;00m \u001b[38;5;21mfind_max\u001b[39m(num1, num2, num3):\n\u001b[1;32m----> 4\u001b[0m   \u001b[38;5;28;01mreturn\u001b[39;00m \u001b[38;5;28;43mmax\u001b[39;49m\u001b[43m(\u001b[49m\u001b[43mnum1\u001b[49m\u001b[43m,\u001b[49m\u001b[43m \u001b[49m\u001b[43mnum2\u001b[49m\u001b[43m,\u001b[49m\u001b[43m \u001b[49m\u001b[43mnum3\u001b[49m\u001b[43m)\u001b[49m\n",
      "Cell \u001b[1;32mIn[19], line 7\u001b[0m, in \u001b[0;36mmax\u001b[1;34m(num1, num2, num3)\u001b[0m\n\u001b[0;32m      6\u001b[0m \u001b[38;5;28;01mdef\u001b[39;00m \u001b[38;5;21mmax\u001b[39m(num1, num2, num3):\n\u001b[1;32m----> 7\u001b[0m   \u001b[38;5;28;01mreturn\u001b[39;00m \u001b[38;5;28;43mmax\u001b[39;49m\u001b[43m(\u001b[49m\u001b[43mnum1\u001b[49m\u001b[43m,\u001b[49m\u001b[43m \u001b[49m\u001b[43mnum2\u001b[49m\u001b[43m,\u001b[49m\u001b[43m \u001b[49m\u001b[43mnum3\u001b[49m\u001b[43m)\u001b[49m\n",
      "Cell \u001b[1;32mIn[19], line 7\u001b[0m, in \u001b[0;36mmax\u001b[1;34m(num1, num2, num3)\u001b[0m\n\u001b[0;32m      6\u001b[0m \u001b[38;5;28;01mdef\u001b[39;00m \u001b[38;5;21mmax\u001b[39m(num1, num2, num3):\n\u001b[1;32m----> 7\u001b[0m   \u001b[38;5;28;01mreturn\u001b[39;00m \u001b[38;5;28;43mmax\u001b[39;49m\u001b[43m(\u001b[49m\u001b[43mnum1\u001b[49m\u001b[43m,\u001b[49m\u001b[43m \u001b[49m\u001b[43mnum2\u001b[49m\u001b[43m,\u001b[49m\u001b[43m \u001b[49m\u001b[43mnum3\u001b[49m\u001b[43m)\u001b[49m\n",
      "    \u001b[1;31m[... skipping similar frames: max at line 7 (2969 times)]\u001b[0m\n",
      "Cell \u001b[1;32mIn[19], line 7\u001b[0m, in \u001b[0;36mmax\u001b[1;34m(num1, num2, num3)\u001b[0m\n\u001b[0;32m      6\u001b[0m \u001b[38;5;28;01mdef\u001b[39;00m \u001b[38;5;21mmax\u001b[39m(num1, num2, num3):\n\u001b[1;32m----> 7\u001b[0m   \u001b[38;5;28;01mreturn\u001b[39;00m \u001b[38;5;28;43mmax\u001b[39;49m\u001b[43m(\u001b[49m\u001b[43mnum1\u001b[49m\u001b[43m,\u001b[49m\u001b[43m \u001b[49m\u001b[43mnum2\u001b[49m\u001b[43m,\u001b[49m\u001b[43m \u001b[49m\u001b[43mnum3\u001b[49m\u001b[43m)\u001b[49m\n",
      "\u001b[1;31mRecursionError\u001b[0m: maximum recursion depth exceeded"
     ]
    }
   ],
   "source": [
    "# Write a function to find the maximum of three numbers entered by the user. \n",
    "#Ans\n",
    "def find_max(num1, num2, num3):\n",
    "  return max(num1, num2, num3)\n",
    "num1 = int(input(\"Enter the first number: \"))\n",
    "num2 = int(input(\"Enter the second number: \"))\n",
    "num3 = int(input(\"Enter the third number:   \"))\n",
    "max_num=find_max(num1, num2, num3)\n",
    "print(\"The maximum number is:\", max_num)"
   ]
  },
  {
   "cell_type": "code",
   "execution_count": 31,
   "id": "79514816-0fc0-4a94-bba7-18e3d56c7a05",
   "metadata": {},
   "outputs": [
    {
     "name": "stdout",
     "output_type": "stream",
     "text": [
      "The largest number is: 20\n"
     ]
    }
   ],
   "source": [
    "# Write a function that takes a list of numbers and returns the largest number.\n",
    "#ans\n",
    "def find_largest(numbers):\n",
    "  largest = numbers[0]\n",
    "  for num in numbers:\n",
    "    if num > largest:\n",
    "      largest = num\n",
    "  return largest\n",
    "\n",
    "numbers = [10, 5, 20, 15, 8]\n",
    "largest_number = find_largest(numbers)\n",
    "print(\"The largest number is:\", largest_number)"
   ]
  },
  {
   "cell_type": "code",
   "execution_count": 32,
   "id": "5f27faf4-bb31-40c0-9e02-74a4ac22017a",
   "metadata": {},
   "outputs": [
    {
     "name": "stdin",
     "output_type": "stream",
     "text": [
      "Enter a non-negative integer:  5\n"
     ]
    },
    {
     "name": "stdout",
     "output_type": "stream",
     "text": [
      "The factorial of 5 is 120\n"
     ]
    }
   ],
   "source": [
    "#Write a program to find the factorial of a number using a while loop. \n",
    "#ans\n",
    "def factorial(n):\n",
    "  if n < 0:\n",
    "    return \"Factorial is not defined for negative numbers\"\n",
    "  elif n == 0:\n",
    "    return 1\n",
    "  else:\n",
    "    fact = 1\n",
    "    while n > 0:\n",
    "      fact *= n\n",
    "      n -= 1\n",
    "    return fact\n",
    "      \n",
    "num = int(input(\"Enter a non-negative integer: \"))\n",
    "result = factorial(num)\n",
    "print(\"The factorial of\", num, \"is\", result)"
   ]
  },
  {
   "cell_type": "code",
   "execution_count": null,
   "id": "01f85c13-02bb-4169-bc99-0cfe157cbe78",
   "metadata": {},
   "outputs": [],
   "source": [
    "#NumPy"
   ]
  },
  {
   "cell_type": "code",
   "execution_count": 34,
   "id": "f1f446e9-c954-4059-8f7d-abd95af671f3",
   "metadata": {},
   "outputs": [
    {
     "name": "stdout",
     "output_type": "stream",
     "text": [
      "[[0. 0. 0. 0.]\n",
      " [0. 0. 0. 0.]\n",
      " [0. 0. 0. 0.]]\n"
     ]
    }
   ],
   "source": [
    "#Create a NumPy array of zeros with shape (3, 4). \n",
    "#ans\n",
    "import numpy as np\n",
    "array = np.zeros((3, 4))#3 rows and 4 columns\n",
    "print(array)"
   ]
  },
  {
   "cell_type": "code",
   "execution_count": 35,
   "id": "7e5dc537-7c01-4822-9b3a-ed6570ae8373",
   "metadata": {},
   "outputs": [
    {
     "name": "stdout",
     "output_type": "stream",
     "text": [
      "[[1. 1. 1. 1. 1.]\n",
      " [1. 1. 1. 1. 1.]]\n"
     ]
    }
   ],
   "source": [
    "#Create a NumPy array of ones with shape (2, 5). \n",
    "array = np.ones((2, 5))\n",
    "print(array)"
   ]
  },
  {
   "cell_type": "code",
   "execution_count": 36,
   "id": "aaba388a-1b02-4e87-8ea1-a2ae78036b52",
   "metadata": {},
   "outputs": [
    {
     "name": "stdout",
     "output_type": "stream",
     "text": [
      "[[ 1  2  3  4  5]\n",
      " [ 6  7  8  9 10]]\n"
     ]
    }
   ],
   "source": [
    "#Create a NumPy matrix with the values from 1 to 10 using np.arange(). \n",
    "#ANS\n",
    "matrix = np.arange(1, 11).reshape(2, 5)\n",
    "print(matrix)"
   ]
  },
  {
   "cell_type": "code",
   "execution_count": 38,
   "id": "e27f356e-7443-47f9-a806-85011c2f4c9c",
   "metadata": {},
   "outputs": [
    {
     "name": "stdout",
     "output_type": "stream",
     "text": [
      "[0.  0.1 0.2 0.3 0.4 0.5 0.6 0.7 0.8 0.9 1. ]\n"
     ]
    }
   ],
   "source": [
    "#Create a NumPy array with numbers from 0 to 1 (inclusive) with a step size of 0.1 using np.arange(). \n",
    "#Ans\n",
    "array = np.arange(0, 1.1, 0.1)# 0 to 1.1 and 0.1 step size\n",
    "print(array)"
   ]
  },
  {
   "cell_type": "code",
   "execution_count": 41,
   "id": "4ec71e5e-31b3-4558-89e9-fcce4909f78e",
   "metadata": {},
   "outputs": [
    {
     "name": "stdout",
     "output_type": "stream",
     "text": [
      "1\n"
     ]
    }
   ],
   "source": [
    "#Find the minimum value in the array np.array([1, 5, 9, 3, 6]) using np.min()\n",
    "#ANS \n",
    "array = np.array([1, 5, 9, 3, 6])\n",
    "min_value = np.min(array)\n",
    "print(min_value)"
   ]
  },
  {
   "cell_type": "code",
   "execution_count": 42,
   "id": "96c43e0e-cbf8-4444-bd32-93855390402e",
   "metadata": {},
   "outputs": [
    {
     "name": "stdout",
     "output_type": "stream",
     "text": [
      "9\n"
     ]
    }
   ],
   "source": [
    "#Find the maximum value in the array np.array([1, 5, 9, 3, 6]) using np.max().\n",
    "#ANS\n",
    "array = np.array([1, 5, 9, 3, 6])\n",
    "max_value = np.max(array)\n",
    "print(max_value)"
   ]
  },
  {
   "cell_type": "code",
   "execution_count": 46,
   "id": "31fc7d49-8d62-4536-80c4-3e9937295b4d",
   "metadata": {},
   "outputs": [
    {
     "name": "stdout",
     "output_type": "stream",
     "text": [
      "20\n"
     ]
    }
   ],
   "source": [
    "#Compute the sum of all elements in the array np.array([2, 3, 4, 5, 6]). \n",
    "#ans\n",
    "array = np.array([2, 3, 4, 5, 6])\n",
    "sums = np.sum(array)\n",
    "print(sums)\n"
   ]
  },
  {
   "cell_type": "code",
   "execution_count": 47,
   "id": "10876c9b-f2a8-466a-b578-06cab31981bf",
   "metadata": {},
   "outputs": [
    {
     "name": "stdout",
     "output_type": "stream",
     "text": [
      "[[ 6  8]\n",
      " [10 12]]\n"
     ]
    }
   ],
   "source": [
    "#Perform matrix addition of two matrices A = np.array([[1, 2], [3, 4]]) and B = np.array([[5, 6], [7, 8]]).\n",
    "#ANS\n",
    "A = np.array([[1, 2], [3, 4]])\n",
    "B = np.array([[5, 6], [7, 8]])\n",
    "C = A + B\n",
    "print(C)"
   ]
  },
  {
   "cell_type": "code",
   "execution_count": 49,
   "id": "7fc74519-58a2-4175-8be9-686a83ec983a",
   "metadata": {},
   "outputs": [
    {
     "name": "stdout",
     "output_type": "stream",
     "text": [
      "[10 20]\n"
     ]
    }
   ],
   "source": [
    "# Slice the first two elements from the array np.array([10, 20, 30, 40, 50]).\n",
    "array = np.array([10, 20, 30, 40, 50])\n",
    "sliced_array = array[0:2]\n",
    "print(sliced_array)\n"
   ]
  },
  {
   "cell_type": "code",
   "execution_count": 50,
   "id": "07d5f700-34c5-4f2b-abda-090ca17fda4b",
   "metadata": {},
   "outputs": [
    {
     "name": "stdout",
     "output_type": "stream",
     "text": [
      "[ 1  2  3 10 10 10]\n"
     ]
    }
   ],
   "source": [
    "#Use np.where() to replace all elements greater than 5 in the array [1, 2, 3, 6, 7, 8] with 10. \n",
    "#ans\n",
    "array = np.array([1, 2, 3, 6, 7, 8])\n",
    "array = np.where(array > 5, 10, array)\n",
    "print(array)"
   ]
  },
  {
   "cell_type": "code",
   "execution_count": null,
   "id": "f6c2b7bb-299d-4ba0-a95f-ddde358d1079",
   "metadata": {},
   "outputs": [],
   "source": []
  }
 ],
 "metadata": {
  "kernelspec": {
   "display_name": "Python 3 (ipykernel)",
   "language": "python",
   "name": "python3"
  },
  "language_info": {
   "codemirror_mode": {
    "name": "ipython",
    "version": 3
   },
   "file_extension": ".py",
   "mimetype": "text/x-python",
   "name": "python",
   "nbconvert_exporter": "python",
   "pygments_lexer": "ipython3",
   "version": "3.11.4"
  }
 },
 "nbformat": 4,
 "nbformat_minor": 5
}
