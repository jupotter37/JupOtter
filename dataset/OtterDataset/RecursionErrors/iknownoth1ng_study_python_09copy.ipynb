{
 "cells": [
  {
   "cell_type": "markdown",
   "metadata": {},
   "source": [
    "Python对象的比较、拷贝\n",
    "- ==  vs is"
   ]
  },
  {
   "cell_type": "code",
   "execution_count": 3,
   "metadata": {},
   "outputs": [
    {
     "name": "stdout",
     "output_type": "stream",
     "text": [
      "True\n",
      "True\n",
      "140718424530976\n",
      "140718424530976\n",
      "False\n",
      "1504083813936\n",
      "1504083813520\n"
     ]
    }
   ],
   "source": [
    "# ==  vs is\n",
    "a = 10\n",
    "b = 10\n",
    "\n",
    "print(a == b)\n",
    "print(a is b)\n",
    "print(id(a))\n",
    "print(id(b))\n",
    "\n",
    "# -5到256会缓存\n",
    "a = 257\n",
    "b = 257\n",
    "print(a is b)\n",
    "print(id(a))\n",
    "print(id(b))\n"
   ]
  },
  {
   "cell_type": "markdown",
   "metadata": {},
   "source": [
    "is与==的性能\n",
    "- is的速度效率比==高，因为is操作符不用重载。\n",
    "- == 操作符相当于执行a.__eq__(b),而python大部分的数据类型都会去重载__eq__这个函数。"
   ]
  },
  {
   "cell_type": "markdown",
   "metadata": {},
   "source": [
    "不可变(immutable)的变量，如果之前用==或者is比较过，结果是不是就一直不变了呢？"
   ]
  },
  {
   "cell_type": "code",
   "execution_count": 4,
   "metadata": {},
   "outputs": [
    {
     "name": "stdout",
     "output_type": "stream",
     "text": [
      "True\n",
      "False\n"
     ]
    }
   ],
   "source": [
    "# 答案是否定的\n",
    "t1 = (1, 2, [3, 4])\n",
    "t2 = (1, 2, [3, 4])\n",
    "print(t1 == t2)\n",
    "t1[-1].append(5)\n",
    "print(t1 == t2)\n"
   ]
  },
  {
   "cell_type": "markdown",
   "metadata": {},
   "source": [
    "深拷贝（deep copy）与浅拷贝（shallow copy）\n",
    "- 浅拷贝：是指重新分配一块内存，创建一个新的对象，里面的元素是原对象中子对象的引用。因此，如果原对象中的元素不可变，那倒无所谓；如果元素可变，浅拷贝通常会带来一些副作用。\n",
    "- 深拷贝：是指重新分配一块内存，创建一个新的对象，并将原对象中的元素，以递归的方式，通过创建新的子对象拷贝到新对象中。因此新对象喝原对象没有任何关联。"
   ]
  },
  {
   "cell_type": "code",
   "execution_count": 5,
   "metadata": {},
   "outputs": [
    {
     "name": "stdout",
     "output_type": "stream",
     "text": [
      "True\n",
      "False\n",
      "True\n",
      "False\n"
     ]
    }
   ],
   "source": [
    "# 使用数据类型本身的构造器来浅拷贝\n",
    "import copy\n",
    "l1 = [1, 2, 3]\n",
    "l2 = list(l1)\n",
    "print(l1 == l2)\n",
    "print(l1 is l2)\n",
    "\n",
    "s1 = set([1, 2, 3])\n",
    "s2 = set(s1)\n",
    "print(s1 == s2)\n",
    "print(s1 is s2)\n"
   ]
  },
  {
   "cell_type": "code",
   "execution_count": 6,
   "metadata": {},
   "outputs": [
    {
     "name": "stdout",
     "output_type": "stream",
     "text": [
      "True\n",
      "False\n"
     ]
    }
   ],
   "source": [
    "# 对于可变序列，还可以使用切片符完成浅拷贝\n",
    "l1 = [1, 2, 3]\n",
    "l2 = l1[:]\n",
    "print(l1 == l2)\n",
    "print(l1 is l2)\n"
   ]
  },
  {
   "cell_type": "code",
   "execution_count": 7,
   "metadata": {},
   "outputs": [
    {
     "name": "stdout",
     "output_type": "stream",
     "text": [
      "True\n",
      "False\n"
     ]
    }
   ],
   "source": [
    "# 使用函数copy适用于任何数据类型\n",
    "l2 = copy.copy(l1)\n",
    "print(l2 == l1)\n",
    "print(l2 is l1)\n"
   ]
  },
  {
   "cell_type": "code",
   "execution_count": 8,
   "metadata": {},
   "outputs": [
    {
     "name": "stdout",
     "output_type": "stream",
     "text": [
      "True\n",
      "True\n"
     ]
    }
   ],
   "source": [
    "# 对于元组来说，使用tuple()、切片操作与，不会创建一份浅拷贝，相反，它会返回一个指向相同元组的引用。\n",
    "t1 = (1, 2, 3)\n",
    "t2 = tuple(t1)\n",
    "print(t1 == t2)\n",
    "print(t1 is t2)\n"
   ]
  },
  {
   "cell_type": "code",
   "execution_count": 9,
   "metadata": {},
   "outputs": [
    {
     "name": "stdout",
     "output_type": "stream",
     "text": [
      "[[1, 2, 3], (30, 40), 100]\n",
      "[[1, 2, 3], (30, 40)]\n",
      "[[1, 2, 3], (30, 40, 50, 60), 100]\n",
      "[[1, 2, 3], (30, 40)]\n"
     ]
    }
   ],
   "source": [
    "# 副作用\n",
    "l1 = [[1, 2], (30, 40)]\n",
    "l2 = list(l1)\n",
    "l1.append(100)\n",
    "l1[0].append(3)\n",
    "\n",
    "print(l1)\n",
    "print(l2)\n",
    "l1[1] += (50, 60)\n",
    "print(l1)\n",
    "\n",
    "print(l2)\n"
   ]
  },
  {
   "cell_type": "code",
   "execution_count": 10,
   "metadata": {},
   "outputs": [
    {
     "name": "stdout",
     "output_type": "stream",
     "text": [
      "[[1, 2, 3], (30, 40), 100]\n",
      "[[1, 2], (30, 40)]\n"
     ]
    }
   ],
   "source": [
    "# 深拷贝\n",
    "# 使用copy.deepcopy()来实现对象的深度拷贝\n",
    "l1 = [[1, 2], (30, 40)]\n",
    "l2 = copy.deepcopy(l1)\n",
    "l1.append(100)\n",
    "l1[0].append(3)\n",
    "\n",
    "print(l1)\n",
    "print(l2)\n"
   ]
  },
  {
   "cell_type": "code",
   "execution_count": 13,
   "metadata": {},
   "outputs": [
    {
     "name": "stdout",
     "output_type": "stream",
     "text": [
      "[1, [...]]\n",
      "[1, [...]]\n",
      "3000\n"
     ]
    },
    {
     "ename": "RecursionError",
     "evalue": "maximum recursion depth exceeded in comparison",
     "output_type": "error",
     "traceback": [
      "\u001b[1;31m---------------------------------------------------------------------------\u001b[0m",
      "\u001b[1;31mRecursionError\u001b[0m                            Traceback (most recent call last)",
      "\u001b[1;32md:\\cs\\language\\python\\study_python\\00Pratice\\01Basci\\09copy.ipynb Cell 13'\u001b[0m in \u001b[0;36m<cell line: 11>\u001b[1;34m()\u001b[0m\n\u001b[0;32m      <a href='vscode-notebook-cell:/d%3A/cs/language/python/study_python/00Pratice/01Basci/09copy.ipynb#ch0000013?line=8'>9</a>\u001b[0m \u001b[39mimport\u001b[39;00m \u001b[39msys\u001b[39;00m\n\u001b[0;32m     <a href='vscode-notebook-cell:/d%3A/cs/language/python/study_python/00Pratice/01Basci/09copy.ipynb#ch0000013?line=9'>10</a>\u001b[0m \u001b[39mprint\u001b[39m(sys\u001b[39m.\u001b[39mgetrecursionlimit()) \u001b[39m# 递归层数\u001b[39;00m\n\u001b[1;32m---> <a href='vscode-notebook-cell:/d%3A/cs/language/python/study_python/00Pratice/01Basci/09copy.ipynb#ch0000013?line=10'>11</a>\u001b[0m \u001b[39mprint\u001b[39m(x \u001b[39m==\u001b[39;49m y)\n",
      "\u001b[1;31mRecursionError\u001b[0m: maximum recursion depth exceeded in comparison"
     ]
    }
   ],
   "source": [
    "# 深度拷贝缺点。循环引用\n",
    "x = [1]\n",
    "x.append(x)\n",
    "print(x)\n",
    "\n",
    "y = copy.deepcopy(x)\n",
    "print(y)\n",
    "\n",
    "import sys\n",
    "print(sys.getrecursionlimit()) # 递归层数\n",
    "print(x == y)\n"
   ]
  },
  {
   "cell_type": "markdown",
   "metadata": {},
   "source": [
    "![这是图片](../../image/00/copy.png \"deep copy\")"
   ]
  }
 ],
 "metadata": {
  "kernelspec": {
   "display_name": "Python 3.8.13 ('study')",
   "language": "python",
   "name": "python3"
  },
  "language_info": {
   "codemirror_mode": {
    "name": "ipython",
    "version": 3
   },
   "file_extension": ".py",
   "mimetype": "text/x-python",
   "name": "python",
   "nbconvert_exporter": "python",
   "pygments_lexer": "ipython3",
   "version": "3.8.13"
  },
  "orig_nbformat": 4,
  "vscode": {
   "interpreter": {
    "hash": "46cb6235441a8b74df724a68ed242e7b6759bfc907d92e7c8b163c38b1b4592e"
   }
  }
 },
 "nbformat": 4,
 "nbformat_minor": 2
}
