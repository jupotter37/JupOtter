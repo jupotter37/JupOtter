{
 "cells": [
  {
   "cell_type": "code",
   "execution_count": null,
   "id": "1e4e4acf-0ce8-474d-a9dd-19d31ca10297",
   "metadata": {},
   "outputs": [],
   "source": []
  },
  {
   "cell_type": "markdown",
   "id": "0dd0f80f-7bb1-4754-8f48-679fc8c8346d",
   "metadata": {},
   "source": [
    "## intro to Python"
   ]
  },
  {
   "cell_type": "code",
   "execution_count": 4,
   "id": "eae6e6b0-967a-444f-aff3-06c37035d3e0",
   "metadata": {
    "tags": []
   },
   "outputs": [
    {
     "name": "stdout",
     "output_type": "stream",
     "text": [
      "Hello World\n"
     ]
    }
   ],
   "source": [
    "# \n",
    "\n",
    "print(\"Hello World\")"
   ]
  },
  {
   "cell_type": "code",
   "execution_count": 8,
   "id": "4591e874-5886-4d99-abd0-98234a460051",
   "metadata": {
    "tags": []
   },
   "outputs": [
    {
     "name": "stdout",
     "output_type": "stream",
     "text": [
      "3\n"
     ]
    }
   ],
   "source": [
    "a =3 \n",
    "b =4\n",
    "\n",
    "print(a)"
   ]
  },
  {
   "cell_type": "code",
   "execution_count": 10,
   "id": "65dfd4e0-ebab-41a8-af1a-f491d703dc31",
   "metadata": {
    "tags": []
   },
   "outputs": [
    {
     "data": {
      "text/plain": [
       "3"
      ]
     },
     "execution_count": 10,
     "metadata": {},
     "output_type": "execute_result"
    }
   ],
   "source": [
    "b\n",
    "a"
   ]
  },
  {
   "cell_type": "code",
   "execution_count": 12,
   "id": "14d0f278-f4f8-4320-9740-fabdfdbcbbb8",
   "metadata": {
    "tags": []
   },
   "outputs": [
    {
     "name": "stdout",
     "output_type": "stream",
     "text": [
      "7\n"
     ]
    }
   ],
   "source": [
    "print(a+b)"
   ]
  },
  {
   "cell_type": "code",
   "execution_count": 27,
   "id": "0d8478a0-681d-4242-9b4c-87e6043acf3d",
   "metadata": {
    "tags": []
   },
   "outputs": [
    {
     "name": "stdout",
     "output_type": "stream",
     "text": [
      "3\n",
      "4\n",
      "7\n"
     ]
    }
   ],
   "source": [
    "print(a)\n",
    "print(b)\n",
    "print(a+b)"
   ]
  },
  {
   "cell_type": "code",
   "execution_count": 29,
   "id": "4a5e8091-d331-4d87-997c-dbcd211548fc",
   "metadata": {
    "tags": []
   },
   "outputs": [
    {
     "data": {
      "text/plain": [
       "7"
      ]
     },
     "execution_count": 29,
     "metadata": {},
     "output_type": "execute_result"
    }
   ],
   "source": [
    "# fanlnfa\n",
    "\n",
    "c = a+b\n",
    "c"
   ]
  },
  {
   "cell_type": "code",
   "execution_count": 30,
   "id": "0e59cc02-004b-48e7-92aa-9ac504976649",
   "metadata": {
    "tags": []
   },
   "outputs": [
    {
     "data": {
      "text/plain": [
       "int"
      ]
     },
     "execution_count": 30,
     "metadata": {},
     "output_type": "execute_result"
    }
   ],
   "source": [
    "type(a)"
   ]
  },
  {
   "cell_type": "code",
   "execution_count": null,
   "id": "ed26479a-cfb2-42cc-9125-29bd2a7b0daa",
   "metadata": {},
   "outputs": [],
   "source": []
  },
  {
   "cell_type": "code",
   "execution_count": null,
   "id": "d18c4dba-241f-486c-928b-75199b329589",
   "metadata": {},
   "outputs": [],
   "source": []
  },
  {
   "cell_type": "code",
   "execution_count": null,
   "id": "befc8afc-db13-4cd5-b09c-3980ca6bad7b",
   "metadata": {},
   "outputs": [],
   "source": []
  },
  {
   "cell_type": "code",
   "execution_count": null,
   "id": "74e6547f-f5a3-46e3-8b3d-2f0d4dc5fe68",
   "metadata": {},
   "outputs": [],
   "source": []
  },
  {
   "cell_type": "code",
   "execution_count": 31,
   "id": "c13dd106-0fe5-4559-9833-657c2dc6f1b2",
   "metadata": {
    "tags": []
   },
   "outputs": [
    {
     "data": {
      "text/plain": [
       "8"
      ]
     },
     "execution_count": 31,
     "metadata": {},
     "output_type": "execute_result"
    }
   ],
   "source": [
    "a = 3 \n",
    "b = 5\n",
    "\n",
    "a+b"
   ]
  },
  {
   "cell_type": "code",
   "execution_count": null,
   "id": "8d533fac-9376-48c2-9cbf-06fe627f0555",
   "metadata": {},
   "outputs": [],
   "source": []
  },
  {
   "cell_type": "code",
   "execution_count": 32,
   "id": "879ee4a6-7b87-49a8-b68d-4c05d5614f82",
   "metadata": {
    "tags": []
   },
   "outputs": [
    {
     "data": {
      "text/plain": [
       "10"
      ]
     },
     "execution_count": 32,
     "metadata": {},
     "output_type": "execute_result"
    }
   ],
   "source": [
    "a =5 \n",
    "b=5\n",
    "a+b"
   ]
  },
  {
   "cell_type": "code",
   "execution_count": 34,
   "id": "7e6c7eb4-eaa7-4cd7-903a-5cb623df5c18",
   "metadata": {
    "tags": []
   },
   "outputs": [
    {
     "data": {
      "text/plain": [
       "7"
      ]
     },
     "execution_count": 34,
     "metadata": {},
     "output_type": "execute_result"
    }
   ],
   "source": [
    "a =7 \n",
    "b= 0\n",
    "a+b"
   ]
  },
  {
   "cell_type": "code",
   "execution_count": 47,
   "id": "bd942001-5899-45fd-801d-a078b41ebbb0",
   "metadata": {
    "tags": []
   },
   "outputs": [],
   "source": [
    "def sum_print():\n",
    "    print(6+5)"
   ]
  },
  {
   "cell_type": "code",
   "execution_count": 48,
   "id": "e0ad1d30-b415-44aa-bd9c-80bd55d4104b",
   "metadata": {
    "tags": []
   },
   "outputs": [],
   "source": [
    "def sum():\n",
    "    return 5+6"
   ]
  },
  {
   "cell_type": "code",
   "execution_count": 49,
   "id": "be1703ec-9737-4b7e-b239-a3bf926d3bf1",
   "metadata": {
    "tags": []
   },
   "outputs": [
    {
     "name": "stdout",
     "output_type": "stream",
     "text": [
      "11\n"
     ]
    }
   ],
   "source": [
    "\n",
    "\n",
    "c =sum()\n",
    "sum_print()\n"
   ]
  },
  {
   "cell_type": "code",
   "execution_count": 63,
   "id": "2d1e8945-f475-4129-9e73-41b8f9659ab1",
   "metadata": {
    "tags": []
   },
   "outputs": [],
   "source": [
    "def sum_args(a,b=5):\n",
    "    print(a-b)"
   ]
  },
  {
   "cell_type": "code",
   "execution_count": null,
   "id": "564df7be-5df7-45ac-a1ba-151bae9fac1e",
   "metadata": {},
   "outputs": [],
   "source": []
  },
  {
   "cell_type": "code",
   "execution_count": null,
   "id": "eea85c25-ee6f-434a-8e38-f64feda86dc5",
   "metadata": {},
   "outputs": [],
   "source": []
  },
  {
   "cell_type": "code",
   "execution_count": null,
   "id": "73a8c06a-57e8-460b-9559-42d94f721b94",
   "metadata": {},
   "outputs": [],
   "source": []
  },
  {
   "cell_type": "code",
   "execution_count": 61,
   "id": "2d942be0-e1a2-4476-8ca8-37f3b88ddc8b",
   "metadata": {
    "tags": []
   },
   "outputs": [
    {
     "name": "stdout",
     "output_type": "stream",
     "text": [
      "0\n"
     ]
    }
   ],
   "source": [
    "sum_args(5)"
   ]
  },
  {
   "cell_type": "code",
   "execution_count": 62,
   "id": "51dd5ded-dcfd-486b-b4e9-5d66984512da",
   "metadata": {
    "tags": []
   },
   "outputs": [
    {
     "name": "stdout",
     "output_type": "stream",
     "text": [
      "-95\n"
     ]
    }
   ],
   "source": [
    "sum_args(5,100)"
   ]
  },
  {
   "cell_type": "code",
   "execution_count": null,
   "id": "122ab535-a81e-453d-b3b8-e9bb450152f5",
   "metadata": {},
   "outputs": [],
   "source": []
  },
  {
   "cell_type": "code",
   "execution_count": null,
   "id": "b28b12ba-7d0b-4239-b723-78418571783f",
   "metadata": {},
   "outputs": [],
   "source": []
  },
  {
   "cell_type": "code",
   "execution_count": null,
   "id": "0ea56036-9686-4cb9-b9ac-3ef051498af7",
   "metadata": {},
   "outputs": [],
   "source": []
  },
  {
   "cell_type": "code",
   "execution_count": null,
   "id": "a0849d14-2530-4b09-8e39-8b13d3427819",
   "metadata": {},
   "outputs": [],
   "source": []
  },
  {
   "cell_type": "code",
   "execution_count": null,
   "id": "eb37a525-d4b1-4b19-a40e-6f12ed55b749",
   "metadata": {},
   "outputs": [],
   "source": []
  },
  {
   "cell_type": "code",
   "execution_count": 70,
   "id": "a7bf7d90-9b3c-4b1e-aa9a-a1c3fb3de99c",
   "metadata": {
    "tags": []
   },
   "outputs": [
    {
     "name": "stdout",
     "output_type": "stream",
     "text": [
      "Line 1%Line 1 contentLine 2"
     ]
    }
   ],
   "source": [
    "# Printing multiple lines using the print() function\n",
    "print(\"Line 1\",\"Line 1 content\",sep='%',end='',)\n",
    "print(\"Line 2\",end='')\n"
   ]
  },
  {
   "cell_type": "code",
   "execution_count": null,
   "id": "d6647df6-2136-4462-8b82-68d0a8dece3f",
   "metadata": {},
   "outputs": [],
   "source": []
  },
  {
   "cell_type": "code",
   "execution_count": null,
   "id": "a19e2fc7-0501-4000-b57d-0b3c65616d2e",
   "metadata": {},
   "outputs": [],
   "source": []
  },
  {
   "cell_type": "code",
   "execution_count": null,
   "id": "6549fb87-a9ab-475f-98b2-0bb5237031f2",
   "metadata": {},
   "outputs": [],
   "source": []
  },
  {
   "cell_type": "code",
   "execution_count": null,
   "id": "2dc531f7-64cb-446d-b43e-e91c2f409f0d",
   "metadata": {},
   "outputs": [],
   "source": []
  },
  {
   "cell_type": "code",
   "execution_count": 66,
   "id": "3bec2106-8c7a-475c-825e-8bad176d0b39",
   "metadata": {
    "tags": []
   },
   "outputs": [
    {
     "name": "stdout",
     "output_type": "stream",
     "text": [
      "Hello     <>  World!"
     ]
    }
   ],
   "source": [
    "# Using other parameters in the print() function\n",
    "print(\"Hello\", \"World!\", sep=\"     <>  \", end=\"\")  # Output: Hello, World!!!\n"
   ]
  },
  {
   "cell_type": "code",
   "execution_count": null,
   "id": "43dce247-745e-42f4-8edd-1b4568b1ed27",
   "metadata": {},
   "outputs": [],
   "source": []
  },
  {
   "cell_type": "code",
   "execution_count": 71,
   "id": "0529e76d-4a53-4c62-b0f9-c5b6cbb68929",
   "metadata": {
    "tags": []
   },
   "outputs": [
    {
     "name": "stdin",
     "output_type": "stream",
     "text": [
      " 5\n"
     ]
    },
    {
     "data": {
      "text/plain": [
       "'5'"
      ]
     },
     "execution_count": 71,
     "metadata": {},
     "output_type": "execute_result"
    }
   ],
   "source": [
    "input()"
   ]
  },
  {
   "cell_type": "code",
   "execution_count": null,
   "id": "c6a770ad-98ac-4110-803c-1befedb165ec",
   "metadata": {},
   "outputs": [],
   "source": []
  },
  {
   "cell_type": "code",
   "execution_count": 76,
   "id": "353d0a84-fe7e-4a8c-a2ca-5510b82185af",
   "metadata": {
    "tags": []
   },
   "outputs": [],
   "source": [
    "abc =10"
   ]
  },
  {
   "cell_type": "code",
   "execution_count": 77,
   "id": "2f4d6921-6908-4df7-ae29-cfd3a7c735c9",
   "metadata": {
    "tags": []
   },
   "outputs": [
    {
     "name": "stdout",
     "output_type": "stream",
     "text": [
      "10\n"
     ]
    }
   ],
   "source": [
    "print(abc)"
   ]
  },
  {
   "cell_type": "code",
   "execution_count": 85,
   "id": "12698df0-c986-4869-80aa-0ec3d693ef9d",
   "metadata": {
    "tags": []
   },
   "outputs": [],
   "source": [
    "def print(s):\n",
    "    print(s)"
   ]
  },
  {
   "cell_type": "code",
   "execution_count": null,
   "id": "a6084dbb-c9ef-49f0-a351-825d16760b15",
   "metadata": {},
   "outputs": [],
   "source": []
  },
  {
   "cell_type": "code",
   "execution_count": 82,
   "id": "2f1dbc1b-06db-4d67-b290-cfd77fa4cbe1",
   "metadata": {
    "tags": []
   },
   "outputs": [
    {
     "ename": "SyntaxError",
     "evalue": "invalid decimal literal (4092204122.py, line 1)",
     "output_type": "error",
     "traceback": [
      "\u001b[0;36m  Cell \u001b[0;32mIn[82], line 1\u001b[0;36m\u001b[0m\n\u001b[0;31m    1abc =10\u001b[0m\n\u001b[0m    ^\u001b[0m\n\u001b[0;31mSyntaxError\u001b[0m\u001b[0;31m:\u001b[0m invalid decimal literal\n"
     ]
    }
   ],
   "source": [
    "1abc =10"
   ]
  },
  {
   "cell_type": "code",
   "execution_count": 83,
   "id": "fcce3e5d-1dd6-48dc-a3f2-bda5c0bbdec5",
   "metadata": {
    "tags": []
   },
   "outputs": [],
   "source": [
    "_ = 10"
   ]
  },
  {
   "cell_type": "code",
   "execution_count": 86,
   "id": "9e705f7e-a5f8-4cfc-bba8-88266f9f0b34",
   "metadata": {
    "tags": []
   },
   "outputs": [
    {
     "ename": "RecursionError",
     "evalue": "maximum recursion depth exceeded",
     "output_type": "error",
     "traceback": [
      "\u001b[0;31m---------------------------------------------------------------------------\u001b[0m",
      "\u001b[0;31mRecursionError\u001b[0m                            Traceback (most recent call last)",
      "Cell \u001b[0;32mIn[86], line 1\u001b[0m\n\u001b[0;32m----> 1\u001b[0m \u001b[38;5;28mprint\u001b[39m(_)\n",
      "Cell \u001b[0;32mIn[85], line 2\u001b[0m, in \u001b[0;36mprint\u001b[0;34m(s)\u001b[0m\n\u001b[1;32m      1\u001b[0m \u001b[38;5;28;01mdef\u001b[39;00m \u001b[38;5;21mprint\u001b[39m(s):\n\u001b[0;32m----> 2\u001b[0m     \u001b[38;5;28mprint\u001b[39m(s)\n",
      "Cell \u001b[0;32mIn[85], line 2\u001b[0m, in \u001b[0;36mprint\u001b[0;34m(s)\u001b[0m\n\u001b[1;32m      1\u001b[0m \u001b[38;5;28;01mdef\u001b[39;00m \u001b[38;5;21mprint\u001b[39m(s):\n\u001b[0;32m----> 2\u001b[0m     \u001b[38;5;28mprint\u001b[39m(s)\n",
      "    \u001b[0;31m[... skipping similar frames: print at line 2 (2971 times)]\u001b[0m\n",
      "Cell \u001b[0;32mIn[85], line 2\u001b[0m, in \u001b[0;36mprint\u001b[0;34m(s)\u001b[0m\n\u001b[1;32m      1\u001b[0m \u001b[38;5;28;01mdef\u001b[39;00m \u001b[38;5;21mprint\u001b[39m(s):\n\u001b[0;32m----> 2\u001b[0m     \u001b[38;5;28mprint\u001b[39m(s)\n",
      "\u001b[0;31mRecursionError\u001b[0m: maximum recursion depth exceeded"
     ]
    }
   ],
   "source": [
    "print(_)"
   ]
  },
  {
   "cell_type": "code",
   "execution_count": null,
   "id": "886ede63-f25b-408b-a830-8d38ffc9007b",
   "metadata": {},
   "outputs": [],
   "source": []
  },
  {
   "cell_type": "code",
   "execution_count": 91,
   "id": "8839db2e-ff6a-41fc-ad32-e4d0631628ad",
   "metadata": {
    "tags": []
   },
   "outputs": [
    {
     "ename": "SyntaxError",
     "evalue": "invalid syntax (743397545.py, line 1)",
     "output_type": "error",
     "traceback": [
      "\u001b[0;36m  Cell \u001b[0;32mIn[91], line 1\u001b[0;36m\u001b[0m\n\u001b[0;31m    def raise():\u001b[0m\n\u001b[0m        ^\u001b[0m\n\u001b[0;31mSyntaxError\u001b[0m\u001b[0;31m:\u001b[0m invalid syntax\n"
     ]
    }
   ],
   "source": [
    "def raise():\n",
    "    print(\"hi\")"
   ]
  },
  {
   "cell_type": "code",
   "execution_count": 92,
   "id": "a59a68bb-0316-4297-b97b-48f0f301fe83",
   "metadata": {
    "tags": []
   },
   "outputs": [],
   "source": [
    "global_ =5"
   ]
  },
  {
   "cell_type": "code",
   "execution_count": 93,
   "id": "c04ced49-22c5-416a-8a0d-4b28926fac3d",
   "metadata": {
    "tags": []
   },
   "outputs": [],
   "source": [
    "raise_ =10"
   ]
  },
  {
   "cell_type": "code",
   "execution_count": 96,
   "id": "f409a63a-8a1f-4f90-b207-180727bd4427",
   "metadata": {
    "tags": []
   },
   "outputs": [],
   "source": [
    "global123=0"
   ]
  },
  {
   "cell_type": "code",
   "execution_count": null,
   "id": "059f348d-aa17-4d3c-a9c5-158624a2bd39",
   "metadata": {},
   "outputs": [],
   "source": []
  },
  {
   "cell_type": "code",
   "execution_count": null,
   "id": "7685bd5f-3248-4955-9786-4530601edd66",
   "metadata": {},
   "outputs": [],
   "source": []
  },
  {
   "cell_type": "code",
   "execution_count": 97,
   "id": "494fcf1d-7b68-45d4-9767-456b27054b0f",
   "metadata": {
    "tags": []
   },
   "outputs": [],
   "source": [
    "print = 5"
   ]
  }
 ],
 "metadata": {
  "kernelspec": {
   "display_name": "Python 3 (ipykernel)",
   "language": "python",
   "name": "python3"
  },
  "language_info": {
   "codemirror_mode": {
    "name": "ipython",
    "version": 3
   },
   "file_extension": ".py",
   "mimetype": "text/x-python",
   "name": "python",
   "nbconvert_exporter": "python",
   "pygments_lexer": "ipython3",
   "version": "3.11.7"
  }
 },
 "nbformat": 4,
 "nbformat_minor": 5
}
