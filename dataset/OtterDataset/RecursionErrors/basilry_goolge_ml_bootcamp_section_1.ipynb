{
 "cells": [
  {
   "cell_type": "code",
   "id": "initial_id",
   "metadata": {
    "collapsed": true,
    "ExecuteTime": {
     "end_time": "2024-07-22T14:15:49.555080Z",
     "start_time": "2024-07-22T14:15:35.675572Z"
    }
   },
   "source": [
    "import numpy as np\n",
    "import torch\n",
    "import tensorflow as tf"
   ],
   "outputs": [],
   "execution_count": 46
  },
  {
   "metadata": {
    "ExecuteTime": {
     "end_time": "2024-07-22T13:35:04.615264Z",
     "start_time": "2024-07-22T13:35:04.612721Z"
    }
   },
   "cell_type": "code",
   "source": [
    "a = np.array([1, 2, 3])\n",
    "print(a)"
   ],
   "id": "4a7ce9f3c868f5bf",
   "outputs": [
    {
     "name": "stdout",
     "output_type": "stream",
     "text": [
      "[1 2 3]\n"
     ]
    }
   ],
   "execution_count": 25
  },
  {
   "metadata": {
    "ExecuteTime": {
     "end_time": "2024-07-22T13:35:04.916482Z",
     "start_time": "2024-07-22T13:35:04.911957Z"
    }
   },
   "cell_type": "code",
   "source": "a.T",
   "id": "70a33818847efced",
   "outputs": [
    {
     "data": {
      "text/plain": [
       "array([1, 2, 3])"
      ]
     },
     "execution_count": 26,
     "metadata": {},
     "output_type": "execute_result"
    }
   ],
   "execution_count": 26
  },
  {
   "metadata": {
    "ExecuteTime": {
     "end_time": "2024-07-22T13:35:05.193289Z",
     "start_time": "2024-07-22T13:35:05.190315Z"
    }
   },
   "cell_type": "code",
   "source": [
    "b = np.array([[1, 2, 3]])\n",
    "print(b)"
   ],
   "id": "a61046ff1d40f6b4",
   "outputs": [
    {
     "name": "stdout",
     "output_type": "stream",
     "text": [
      "[[1 2 3]]\n"
     ]
    }
   ],
   "execution_count": 27
  },
  {
   "metadata": {
    "ExecuteTime": {
     "end_time": "2024-07-22T13:35:08.106740Z",
     "start_time": "2024-07-22T13:35:08.103313Z"
    }
   },
   "cell_type": "code",
   "source": "print(b.T)",
   "id": "18efc1fb711af82b",
   "outputs": [
    {
     "name": "stdout",
     "output_type": "stream",
     "text": [
      "[[1]\n",
      " [2]\n",
      " [3]]\n"
     ]
    }
   ],
   "execution_count": 29
  },
  {
   "metadata": {
    "ExecuteTime": {
     "end_time": "2024-07-22T13:36:14.064586Z",
     "start_time": "2024-07-22T13:36:14.061841Z"
    }
   },
   "cell_type": "code",
   "source": "x = np.array([25, 2, 5])",
   "id": "ad429a1f621e7282",
   "outputs": [],
   "execution_count": 33
  },
  {
   "metadata": {
    "ExecuteTime": {
     "end_time": "2024-07-22T13:36:35.095443Z",
     "start_time": "2024-07-22T13:36:35.092226Z"
    }
   },
   "cell_type": "code",
   "source": "x.T",
   "id": "fcac6b385586d318",
   "outputs": [
    {
     "data": {
      "text/plain": [
       "array([25,  2,  5])"
      ]
     },
     "execution_count": 37,
     "metadata": {},
     "output_type": "execute_result"
    }
   ],
   "execution_count": 37
  },
  {
   "metadata": {
    "ExecuteTime": {
     "end_time": "2024-07-22T13:36:39.436350Z",
     "start_time": "2024-07-22T13:36:39.433734Z"
    }
   },
   "cell_type": "code",
   "source": "x.shape",
   "id": "e53862a902d8a508",
   "outputs": [
    {
     "data": {
      "text/plain": [
       "(3,)"
      ]
     },
     "execution_count": 38,
     "metadata": {},
     "output_type": "execute_result"
    }
   ],
   "execution_count": 38
  },
  {
   "metadata": {
    "ExecuteTime": {
     "end_time": "2024-07-22T13:36:53.765086Z",
     "start_time": "2024-07-22T13:36:53.762765Z"
    }
   },
   "cell_type": "code",
   "source": "y = np.array([[25], [2], [5]])",
   "id": "91d5ddf0d6a0ccfe",
   "outputs": [],
   "execution_count": 39
  },
  {
   "metadata": {
    "ExecuteTime": {
     "end_time": "2024-07-22T13:37:09.407833Z",
     "start_time": "2024-07-22T13:37:09.405504Z"
    }
   },
   "cell_type": "code",
   "source": "y.shape",
   "id": "dc718b4f4b426c68",
   "outputs": [
    {
     "data": {
      "text/plain": [
       "(3, 1)"
      ]
     },
     "execution_count": 41,
     "metadata": {},
     "output_type": "execute_result"
    }
   ],
   "execution_count": 41
  },
  {
   "metadata": {
    "ExecuteTime": {
     "end_time": "2024-07-22T13:37:24.648458Z",
     "start_time": "2024-07-22T13:37:24.645540Z"
    }
   },
   "cell_type": "code",
   "source": [
    "y_t = y.T\n",
    "y.T"
   ],
   "id": "545614612ae9c8af",
   "outputs": [
    {
     "data": {
      "text/plain": [
       "array([[25,  2,  5]])"
      ]
     },
     "execution_count": 42,
     "metadata": {},
     "output_type": "execute_result"
    }
   ],
   "execution_count": 42
  },
  {
   "metadata": {
    "ExecuteTime": {
     "end_time": "2024-07-22T13:37:44.858553Z",
     "start_time": "2024-07-22T13:37:44.855408Z"
    }
   },
   "cell_type": "code",
   "source": "x",
   "id": "2664dc84f55eaabf",
   "outputs": [
    {
     "data": {
      "text/plain": [
       "array([25,  2,  5])"
      ]
     },
     "execution_count": 43,
     "metadata": {},
     "output_type": "execute_result"
    }
   ],
   "execution_count": 43
  },
  {
   "metadata": {
    "ExecuteTime": {
     "end_time": "2024-07-22T13:37:51.488177Z",
     "start_time": "2024-07-22T13:37:51.485234Z"
    }
   },
   "cell_type": "code",
   "source": "(25**2 + 2**2 + 5**2)**(1/2)",
   "id": "26a1d0eeaebdb1e9",
   "outputs": [
    {
     "data": {
      "text/plain": [
       "25.573423705088842"
      ]
     },
     "execution_count": 44,
     "metadata": {},
     "output_type": "execute_result"
    }
   ],
   "execution_count": 44
  },
  {
   "metadata": {
    "ExecuteTime": {
     "end_time": "2024-07-22T13:37:52.262825Z",
     "start_time": "2024-07-22T13:37:52.259753Z"
    }
   },
   "cell_type": "code",
   "source": "np.linalg.norm(x)",
   "id": "5cef623272afefa8",
   "outputs": [
    {
     "data": {
      "text/plain": [
       "np.float64(25.573423705088842)"
      ]
     },
     "execution_count": 45,
     "metadata": {},
     "output_type": "execute_result"
    }
   ],
   "execution_count": 45
  },
  {
   "metadata": {
    "ExecuteTime": {
     "end_time": "2024-07-22T14:17:01.926862Z",
     "start_time": "2024-07-22T14:17:01.922934Z"
    }
   },
   "cell_type": "code",
   "source": [
    "X_pt = torch.tensor([[25, 2], [5, 26], [3, 7]])\n",
    "X_pt"
   ],
   "id": "a87a69345ed2e601",
   "outputs": [
    {
     "data": {
      "text/plain": [
       "tensor([[25,  2],\n",
       "        [ 5, 26],\n",
       "        [ 3,  7]])"
      ]
     },
     "execution_count": 48,
     "metadata": {},
     "output_type": "execute_result"
    }
   ],
   "execution_count": 48
  },
  {
   "metadata": {
    "ExecuteTime": {
     "end_time": "2024-07-22T14:17:08.056017Z",
     "start_time": "2024-07-22T14:17:08.053225Z"
    }
   },
   "cell_type": "code",
   "source": "X_pt.shape",
   "id": "8b8f58ad79be742d",
   "outputs": [
    {
     "data": {
      "text/plain": [
       "torch.Size([3, 2])"
      ]
     },
     "execution_count": 49,
     "metadata": {},
     "output_type": "execute_result"
    }
   ],
   "execution_count": 49
  },
  {
   "metadata": {
    "ExecuteTime": {
     "end_time": "2024-07-22T14:24:43.355092Z",
     "start_time": "2024-07-22T14:24:43.353201Z"
    }
   },
   "cell_type": "code",
   "source": "tf.config.run_functions_eagerly(True)",
   "id": "292212b10e7871e3",
   "outputs": [],
   "execution_count": 58
  },
  {
   "metadata": {
    "ExecuteTime": {
     "end_time": "2024-07-22T14:25:20.841991Z",
     "start_time": "2024-07-22T14:25:20.838837Z"
    }
   },
   "cell_type": "code",
   "source": [
    "X_tf = tf.Variable([[25, 2], [5, 26], [3, 7]])\n",
    "print(X_tf.numpy())"
   ],
   "id": "819093a9bc5b16a3",
   "outputs": [
    {
     "name": "stdout",
     "output_type": "stream",
     "text": [
      "[[25  2]\n",
      " [ 5 26]\n",
      " [ 3  7]]\n"
     ]
    }
   ],
   "execution_count": 62
  },
  {
   "metadata": {
    "ExecuteTime": {
     "end_time": "2024-07-22T14:20:28.019974Z",
     "start_time": "2024-07-22T14:20:27.948221Z"
    }
   },
   "cell_type": "code",
   "source": "tf.shape(X_tf)",
   "id": "53e58bfb9236bf40",
   "outputs": [
    {
     "ename": "RecursionError",
     "evalue": "maximum recursion depth exceeded",
     "output_type": "error",
     "traceback": [
      "\u001B[0;31m---------------------------------------------------------------------------\u001B[0m",
      "\u001B[0;31mRecursionError\u001B[0m                            Traceback (most recent call last)",
      "File \u001B[0;32m~/Projects/006_google_ml_bootcamp/venv/lib/python3.12/site-packages/IPython/core/formatters.py:711\u001B[0m, in \u001B[0;36mPlainTextFormatter.__call__\u001B[0;34m(self, obj)\u001B[0m\n\u001B[1;32m    704\u001B[0m stream \u001B[38;5;241m=\u001B[39m StringIO()\n\u001B[1;32m    705\u001B[0m printer \u001B[38;5;241m=\u001B[39m pretty\u001B[38;5;241m.\u001B[39mRepresentationPrinter(stream, \u001B[38;5;28mself\u001B[39m\u001B[38;5;241m.\u001B[39mverbose,\n\u001B[1;32m    706\u001B[0m     \u001B[38;5;28mself\u001B[39m\u001B[38;5;241m.\u001B[39mmax_width, \u001B[38;5;28mself\u001B[39m\u001B[38;5;241m.\u001B[39mnewline,\n\u001B[1;32m    707\u001B[0m     max_seq_length\u001B[38;5;241m=\u001B[39m\u001B[38;5;28mself\u001B[39m\u001B[38;5;241m.\u001B[39mmax_seq_length,\n\u001B[1;32m    708\u001B[0m     singleton_pprinters\u001B[38;5;241m=\u001B[39m\u001B[38;5;28mself\u001B[39m\u001B[38;5;241m.\u001B[39msingleton_printers,\n\u001B[1;32m    709\u001B[0m     type_pprinters\u001B[38;5;241m=\u001B[39m\u001B[38;5;28mself\u001B[39m\u001B[38;5;241m.\u001B[39mtype_printers,\n\u001B[1;32m    710\u001B[0m     deferred_pprinters\u001B[38;5;241m=\u001B[39m\u001B[38;5;28mself\u001B[39m\u001B[38;5;241m.\u001B[39mdeferred_printers)\n\u001B[0;32m--> 711\u001B[0m \u001B[43mprinter\u001B[49m\u001B[38;5;241;43m.\u001B[39;49m\u001B[43mpretty\u001B[49m\u001B[43m(\u001B[49m\u001B[43mobj\u001B[49m\u001B[43m)\u001B[49m\n\u001B[1;32m    712\u001B[0m printer\u001B[38;5;241m.\u001B[39mflush()\n\u001B[1;32m    713\u001B[0m \u001B[38;5;28;01mreturn\u001B[39;00m stream\u001B[38;5;241m.\u001B[39mgetvalue()\n",
      "File \u001B[0;32m~/Projects/006_google_ml_bootcamp/venv/lib/python3.12/site-packages/IPython/lib/pretty.py:419\u001B[0m, in \u001B[0;36mRepresentationPrinter.pretty\u001B[0;34m(self, obj)\u001B[0m\n\u001B[1;32m    408\u001B[0m                         \u001B[38;5;28;01mreturn\u001B[39;00m meth(obj, \u001B[38;5;28mself\u001B[39m, cycle)\n\u001B[1;32m    409\u001B[0m                 \u001B[38;5;28;01mif\u001B[39;00m (\n\u001B[1;32m    410\u001B[0m                     \u001B[38;5;28mcls\u001B[39m \u001B[38;5;129;01mis\u001B[39;00m \u001B[38;5;129;01mnot\u001B[39;00m \u001B[38;5;28mobject\u001B[39m\n\u001B[1;32m    411\u001B[0m                     \u001B[38;5;66;03m# check if cls defines __repr__\u001B[39;00m\n\u001B[0;32m   (...)\u001B[0m\n\u001B[1;32m    417\u001B[0m                     \u001B[38;5;129;01mand\u001B[39;00m \u001B[38;5;28mcallable\u001B[39m(_safe_getattr(\u001B[38;5;28mcls\u001B[39m, \u001B[38;5;124m\"\u001B[39m\u001B[38;5;124m__repr__\u001B[39m\u001B[38;5;124m\"\u001B[39m, \u001B[38;5;28;01mNone\u001B[39;00m))\n\u001B[1;32m    418\u001B[0m                 ):\n\u001B[0;32m--> 419\u001B[0m                     \u001B[38;5;28;01mreturn\u001B[39;00m \u001B[43m_repr_pprint\u001B[49m\u001B[43m(\u001B[49m\u001B[43mobj\u001B[49m\u001B[43m,\u001B[49m\u001B[43m \u001B[49m\u001B[38;5;28;43mself\u001B[39;49m\u001B[43m,\u001B[49m\u001B[43m \u001B[49m\u001B[43mcycle\u001B[49m\u001B[43m)\u001B[49m\n\u001B[1;32m    421\u001B[0m     \u001B[38;5;28;01mreturn\u001B[39;00m _default_pprint(obj, \u001B[38;5;28mself\u001B[39m, cycle)\n\u001B[1;32m    422\u001B[0m \u001B[38;5;28;01mfinally\u001B[39;00m:\n",
      "File \u001B[0;32m~/Projects/006_google_ml_bootcamp/venv/lib/python3.12/site-packages/IPython/lib/pretty.py:787\u001B[0m, in \u001B[0;36m_repr_pprint\u001B[0;34m(obj, p, cycle)\u001B[0m\n\u001B[1;32m    785\u001B[0m \u001B[38;5;250m\u001B[39m\u001B[38;5;124;03m\"\"\"A pprint that just redirects to the normal repr function.\"\"\"\u001B[39;00m\n\u001B[1;32m    786\u001B[0m \u001B[38;5;66;03m# Find newlines and replace them with p.break_()\u001B[39;00m\n\u001B[0;32m--> 787\u001B[0m output \u001B[38;5;241m=\u001B[39m \u001B[38;5;28;43mrepr\u001B[39;49m\u001B[43m(\u001B[49m\u001B[43mobj\u001B[49m\u001B[43m)\u001B[49m\n\u001B[1;32m    788\u001B[0m lines \u001B[38;5;241m=\u001B[39m output\u001B[38;5;241m.\u001B[39msplitlines()\n\u001B[1;32m    789\u001B[0m \u001B[38;5;28;01mwith\u001B[39;00m p\u001B[38;5;241m.\u001B[39mgroup():\n",
      "File \u001B[0;32m~/Projects/006_google_ml_bootcamp/venv/lib/python3.12/site-packages/tensorflow/python/framework/ops.py:344\u001B[0m, in \u001B[0;36m_EagerTensorBase.__repr__\u001B[0;34m(self)\u001B[0m\n\u001B[1;32m    342\u001B[0m \u001B[38;5;28;01mdef\u001B[39;00m \u001B[38;5;21m__repr__\u001B[39m(\u001B[38;5;28mself\u001B[39m) \u001B[38;5;241m-\u001B[39m\u001B[38;5;241m>\u001B[39m \u001B[38;5;28mstr\u001B[39m:\n\u001B[1;32m    343\u001B[0m   \u001B[38;5;28;01mreturn\u001B[39;00m \u001B[38;5;124m\"\u001B[39m\u001B[38;5;124m<tf.Tensor: shape=\u001B[39m\u001B[38;5;132;01m%s\u001B[39;00m\u001B[38;5;124m, dtype=\u001B[39m\u001B[38;5;132;01m%s\u001B[39;00m\u001B[38;5;124m, \u001B[39m\u001B[38;5;132;01m%s\u001B[39;00m\u001B[38;5;124m>\u001B[39m\u001B[38;5;124m\"\u001B[39m \u001B[38;5;241m%\u001B[39m (\n\u001B[0;32m--> 344\u001B[0m       \u001B[38;5;28mself\u001B[39m\u001B[38;5;241m.\u001B[39mshape, \u001B[38;5;28mself\u001B[39m\u001B[38;5;241m.\u001B[39mdtype\u001B[38;5;241m.\u001B[39mname, \u001B[43mvalue_text\u001B[49m\u001B[43m(\u001B[49m\u001B[38;5;28;43mself\u001B[39;49m\u001B[43m,\u001B[49m\u001B[43m \u001B[49m\u001B[43mis_repr\u001B[49m\u001B[38;5;241;43m=\u001B[39;49m\u001B[38;5;28;43;01mTrue\u001B[39;49;00m\u001B[43m)\u001B[49m)\n",
      "File \u001B[0;32m~/Projects/006_google_ml_bootcamp/venv/lib/python3.12/site-packages/tensorflow/python/framework/ops.py:245\u001B[0m, in \u001B[0;36mvalue_text\u001B[0;34m(tensor, is_repr)\u001B[0m\n\u001B[1;32m    243\u001B[0m     text \u001B[38;5;241m=\u001B[39m \u001B[38;5;124m\"\u001B[39m\u001B[38;5;124mvalue=\u001B[39m\u001B[38;5;124m\"\u001B[39m \u001B[38;5;241m+\u001B[39m text\n\u001B[1;32m    244\u001B[0m \u001B[38;5;28;01melse\u001B[39;00m:\n\u001B[0;32m--> 245\u001B[0m   text \u001B[38;5;241m=\u001B[39m \u001B[43mnumpy_text\u001B[49m\u001B[43m(\u001B[49m\u001B[43mtensor\u001B[49m\u001B[43m,\u001B[49m\u001B[43m \u001B[49m\u001B[43mis_repr\u001B[49m\u001B[38;5;241;43m=\u001B[39;49m\u001B[43mis_repr\u001B[49m\u001B[43m)\u001B[49m\n\u001B[1;32m    246\u001B[0m   \u001B[38;5;28;01mif\u001B[39;00m is_repr:\n\u001B[1;32m    247\u001B[0m     text \u001B[38;5;241m=\u001B[39m \u001B[38;5;124m\"\u001B[39m\u001B[38;5;124mnumpy=\u001B[39m\u001B[38;5;124m\"\u001B[39m \u001B[38;5;241m+\u001B[39m text\n",
      "File \u001B[0;32m~/Projects/006_google_ml_bootcamp/venv/lib/python3.12/site-packages/tensorflow/python/framework/ops.py:216\u001B[0m, in \u001B[0;36mnumpy_text\u001B[0;34m(tensor, is_repr)\u001B[0m\n\u001B[1;32m    213\u001B[0m \u001B[38;5;250m\u001B[39m\u001B[38;5;124;03m\"\"\"Human readable representation of a tensor's numpy value.\"\"\"\u001B[39;00m\n\u001B[1;32m    214\u001B[0m \u001B[38;5;28;01mif\u001B[39;00m tensor\u001B[38;5;241m.\u001B[39mdtype\u001B[38;5;241m.\u001B[39mis_numpy_compatible:\n\u001B[1;32m    215\u001B[0m   \u001B[38;5;66;03m# pylint: disable=protected-access\u001B[39;00m\n\u001B[0;32m--> 216\u001B[0m   text \u001B[38;5;241m=\u001B[39m \u001B[38;5;28;43mrepr\u001B[39;49m\u001B[43m(\u001B[49m\u001B[43mtensor\u001B[49m\u001B[38;5;241;43m.\u001B[39;49m\u001B[43m_numpy\u001B[49m\u001B[43m(\u001B[49m\u001B[43m)\u001B[49m\u001B[43m)\u001B[49m \u001B[38;5;28;01mif\u001B[39;00m is_repr \u001B[38;5;28;01melse\u001B[39;00m \u001B[38;5;28mstr\u001B[39m(tensor\u001B[38;5;241m.\u001B[39m_numpy())\n\u001B[1;32m    217\u001B[0m   \u001B[38;5;66;03m# pylint: enable=protected-access\u001B[39;00m\n\u001B[1;32m    218\u001B[0m \u001B[38;5;28;01melse\u001B[39;00m:\n\u001B[1;32m    219\u001B[0m   text \u001B[38;5;241m=\u001B[39m \u001B[38;5;124m\"\u001B[39m\u001B[38;5;124m<unprintable>\u001B[39m\u001B[38;5;124m\"\u001B[39m\n",
      "File \u001B[0;32m~/Projects/006_google_ml_bootcamp/venv/lib/python3.12/site-packages/numpy/core/arrayprint.py:1499\u001B[0m, in \u001B[0;36m_array_repr_implementation\u001B[0;34m(arr, max_line_width, precision, suppress_small, array2string)\u001B[0m\n\u001B[1;32m   1496\u001B[0m \u001B[38;5;28;01melse\u001B[39;00m:\n\u001B[1;32m   1497\u001B[0m     class_name \u001B[38;5;241m=\u001B[39m \u001B[38;5;124m\"\u001B[39m\u001B[38;5;124marray\u001B[39m\u001B[38;5;124m\"\u001B[39m\n\u001B[0;32m-> 1499\u001B[0m skipdtype \u001B[38;5;241m=\u001B[39m \u001B[43mdtype_is_implied\u001B[49m\u001B[43m(\u001B[49m\u001B[43marr\u001B[49m\u001B[38;5;241;43m.\u001B[39;49m\u001B[43mdtype\u001B[49m\u001B[43m)\u001B[49m \u001B[38;5;129;01mand\u001B[39;00m arr\u001B[38;5;241m.\u001B[39msize \u001B[38;5;241m>\u001B[39m \u001B[38;5;241m0\u001B[39m\n\u001B[1;32m   1501\u001B[0m prefix \u001B[38;5;241m=\u001B[39m class_name \u001B[38;5;241m+\u001B[39m \u001B[38;5;124m\"\u001B[39m\u001B[38;5;124m(\u001B[39m\u001B[38;5;124m\"\u001B[39m\n\u001B[1;32m   1502\u001B[0m suffix \u001B[38;5;241m=\u001B[39m \u001B[38;5;124m\"\u001B[39m\u001B[38;5;124m)\u001B[39m\u001B[38;5;124m\"\u001B[39m \u001B[38;5;28;01mif\u001B[39;00m skipdtype \u001B[38;5;28;01melse\u001B[39;00m \u001B[38;5;124m\"\u001B[39m\u001B[38;5;124m,\u001B[39m\u001B[38;5;124m\"\u001B[39m\n",
      "File \u001B[0;32m~/Projects/006_google_ml_bootcamp/venv/lib/python3.12/site-packages/numpy/core/arrayprint.py:1440\u001B[0m, in \u001B[0;36mdtype_is_implied\u001B[0;34m(dtype)\u001B[0m\n\u001B[1;32m   1415\u001B[0m \u001B[38;5;28;01mdef\u001B[39;00m \u001B[38;5;21mdtype_is_implied\u001B[39m(dtype):\n\u001B[1;32m   1416\u001B[0m \u001B[38;5;250m    \u001B[39m\u001B[38;5;124;03m\"\"\"\u001B[39;00m\n\u001B[1;32m   1417\u001B[0m \u001B[38;5;124;03m    Determine if the given dtype is implied by the representation of its values.\u001B[39;00m\n\u001B[1;32m   1418\u001B[0m \n\u001B[0;32m   (...)\u001B[0m\n\u001B[1;32m   1438\u001B[0m \u001B[38;5;124;03m    array([1, 2, 3], dtype=int8)\u001B[39;00m\n\u001B[1;32m   1439\u001B[0m \u001B[38;5;124;03m    \"\"\"\u001B[39;00m\n\u001B[0;32m-> 1440\u001B[0m     dtype \u001B[38;5;241m=\u001B[39m \u001B[43mnp\u001B[49m\u001B[38;5;241;43m.\u001B[39;49m\u001B[43mdtype\u001B[49m\u001B[43m(\u001B[49m\u001B[43mdtype\u001B[49m\u001B[43m)\u001B[49m\n\u001B[1;32m   1441\u001B[0m     \u001B[38;5;28;01mif\u001B[39;00m _format_options[\u001B[38;5;124m'\u001B[39m\u001B[38;5;124mlegacy\u001B[39m\u001B[38;5;124m'\u001B[39m] \u001B[38;5;241m<\u001B[39m\u001B[38;5;241m=\u001B[39m \u001B[38;5;241m113\u001B[39m \u001B[38;5;129;01mand\u001B[39;00m dtype\u001B[38;5;241m.\u001B[39mtype \u001B[38;5;241m==\u001B[39m bool_:\n\u001B[1;32m   1442\u001B[0m         \u001B[38;5;28;01mreturn\u001B[39;00m \u001B[38;5;28;01mFalse\u001B[39;00m\n",
      "File \u001B[0;32m~/Projects/006_google_ml_bootcamp/venv/lib/python3.12/site-packages/numpy/core/_dtype.py:46\u001B[0m, in \u001B[0;36m__repr__\u001B[0;34m(dtype)\u001B[0m\n\u001B[1;32m     45\u001B[0m \u001B[38;5;28;01mdef\u001B[39;00m \u001B[38;5;21m__repr__\u001B[39m(dtype):\n\u001B[0;32m---> 46\u001B[0m     arg_str \u001B[38;5;241m=\u001B[39m \u001B[43m_construction_repr\u001B[49m\u001B[43m(\u001B[49m\u001B[43mdtype\u001B[49m\u001B[43m,\u001B[49m\u001B[43m \u001B[49m\u001B[43minclude_align\u001B[49m\u001B[38;5;241;43m=\u001B[39;49m\u001B[38;5;28;43;01mFalse\u001B[39;49;00m\u001B[43m)\u001B[49m\n\u001B[1;32m     47\u001B[0m     \u001B[38;5;28;01mif\u001B[39;00m dtype\u001B[38;5;241m.\u001B[39misalignedstruct:\n\u001B[1;32m     48\u001B[0m         arg_str \u001B[38;5;241m=\u001B[39m arg_str \u001B[38;5;241m+\u001B[39m \u001B[38;5;124m\"\u001B[39m\u001B[38;5;124m, align=True\u001B[39m\u001B[38;5;124m\"\u001B[39m\n",
      "File \u001B[0;32m~/Projects/006_google_ml_bootcamp/venv/lib/python3.12/site-packages/numpy/core/_dtype.py:100\u001B[0m, in \u001B[0;36m_construction_repr\u001B[0;34m(dtype, include_align, short)\u001B[0m\n\u001B[1;32m     98\u001B[0m     \u001B[38;5;28;01mreturn\u001B[39;00m _subarray_str(dtype)\n\u001B[1;32m     99\u001B[0m \u001B[38;5;28;01melse\u001B[39;00m:\n\u001B[0;32m--> 100\u001B[0m     \u001B[38;5;28;01mreturn\u001B[39;00m \u001B[43m_scalar_str\u001B[49m\u001B[43m(\u001B[49m\u001B[43mdtype\u001B[49m\u001B[43m,\u001B[49m\u001B[43m \u001B[49m\u001B[43mshort\u001B[49m\u001B[38;5;241;43m=\u001B[39;49m\u001B[43mshort\u001B[49m\u001B[43m)\u001B[49m\n",
      "File \u001B[0;32m~/Projects/006_google_ml_bootcamp/venv/lib/python3.12/site-packages/numpy/core/_dtype.py:143\u001B[0m, in \u001B[0;36m_scalar_str\u001B[0;34m(dtype, short)\u001B[0m\n\u001B[1;32m    140\u001B[0m \u001B[38;5;28;01melif\u001B[39;00m dtype\u001B[38;5;241m.\u001B[39mtype \u001B[38;5;241m==\u001B[39m np\u001B[38;5;241m.\u001B[39mtimedelta64:\n\u001B[1;32m    141\u001B[0m     \u001B[38;5;28;01mreturn\u001B[39;00m \u001B[38;5;124m\"\u001B[39m\u001B[38;5;124m'\u001B[39m\u001B[38;5;132;01m%s\u001B[39;00m\u001B[38;5;124mm8\u001B[39m\u001B[38;5;132;01m%s\u001B[39;00m\u001B[38;5;124m'\u001B[39m\u001B[38;5;124m\"\u001B[39m \u001B[38;5;241m%\u001B[39m (byteorder, _datetime_metadata_str(dtype))\n\u001B[0;32m--> 143\u001B[0m \u001B[38;5;28;01melif\u001B[39;00m \u001B[43mnp\u001B[49m\u001B[38;5;241;43m.\u001B[39;49m\u001B[43missubdtype\u001B[49m\u001B[43m(\u001B[49m\u001B[43mdtype\u001B[49m\u001B[43m,\u001B[49m\u001B[43m \u001B[49m\u001B[43mnp\u001B[49m\u001B[38;5;241;43m.\u001B[39;49m\u001B[43mnumber\u001B[49m\u001B[43m)\u001B[49m:\n\u001B[1;32m    144\u001B[0m     \u001B[38;5;66;03m# Short repr with endianness, like '<f8'\u001B[39;00m\n\u001B[1;32m    145\u001B[0m     \u001B[38;5;28;01mif\u001B[39;00m short \u001B[38;5;129;01mor\u001B[39;00m dtype\u001B[38;5;241m.\u001B[39mbyteorder \u001B[38;5;129;01mnot\u001B[39;00m \u001B[38;5;129;01min\u001B[39;00m (\u001B[38;5;124m'\u001B[39m\u001B[38;5;124m=\u001B[39m\u001B[38;5;124m'\u001B[39m, \u001B[38;5;124m'\u001B[39m\u001B[38;5;124m|\u001B[39m\u001B[38;5;124m'\u001B[39m):\n\u001B[1;32m    146\u001B[0m         \u001B[38;5;28;01mreturn\u001B[39;00m \u001B[38;5;124m\"\u001B[39m\u001B[38;5;124m'\u001B[39m\u001B[38;5;132;01m%s\u001B[39;00m\u001B[38;5;132;01m%c\u001B[39;00m\u001B[38;5;132;01m%d\u001B[39;00m\u001B[38;5;124m'\u001B[39m\u001B[38;5;124m\"\u001B[39m \u001B[38;5;241m%\u001B[39m (byteorder, dtype\u001B[38;5;241m.\u001B[39mkind, dtype\u001B[38;5;241m.\u001B[39mitemsize)\n",
      "File \u001B[0;32m~/Projects/006_google_ml_bootcamp/venv/lib/python3.12/site-packages/numpy/_core/numerictypes.py:529\u001B[0m, in \u001B[0;36missubdtype\u001B[0;34m(arg1, arg2)\u001B[0m\n",
      "File \u001B[0;32m~/Projects/006_google_ml_bootcamp/venv/lib/python3.12/site-packages/numpy/core/_dtype.py:46\u001B[0m, in \u001B[0;36m__repr__\u001B[0;34m(dtype)\u001B[0m\n\u001B[1;32m     45\u001B[0m \u001B[38;5;28;01mdef\u001B[39;00m \u001B[38;5;21m__repr__\u001B[39m(dtype):\n\u001B[0;32m---> 46\u001B[0m     arg_str \u001B[38;5;241m=\u001B[39m \u001B[43m_construction_repr\u001B[49m\u001B[43m(\u001B[49m\u001B[43mdtype\u001B[49m\u001B[43m,\u001B[49m\u001B[43m \u001B[49m\u001B[43minclude_align\u001B[49m\u001B[38;5;241;43m=\u001B[39;49m\u001B[38;5;28;43;01mFalse\u001B[39;49;00m\u001B[43m)\u001B[49m\n\u001B[1;32m     47\u001B[0m     \u001B[38;5;28;01mif\u001B[39;00m dtype\u001B[38;5;241m.\u001B[39misalignedstruct:\n\u001B[1;32m     48\u001B[0m         arg_str \u001B[38;5;241m=\u001B[39m arg_str \u001B[38;5;241m+\u001B[39m \u001B[38;5;124m\"\u001B[39m\u001B[38;5;124m, align=True\u001B[39m\u001B[38;5;124m\"\u001B[39m\n",
      "File \u001B[0;32m~/Projects/006_google_ml_bootcamp/venv/lib/python3.12/site-packages/numpy/core/_dtype.py:100\u001B[0m, in \u001B[0;36m_construction_repr\u001B[0;34m(dtype, include_align, short)\u001B[0m\n\u001B[1;32m     98\u001B[0m     \u001B[38;5;28;01mreturn\u001B[39;00m _subarray_str(dtype)\n\u001B[1;32m     99\u001B[0m \u001B[38;5;28;01melse\u001B[39;00m:\n\u001B[0;32m--> 100\u001B[0m     \u001B[38;5;28;01mreturn\u001B[39;00m \u001B[43m_scalar_str\u001B[49m\u001B[43m(\u001B[49m\u001B[43mdtype\u001B[49m\u001B[43m,\u001B[49m\u001B[43m \u001B[49m\u001B[43mshort\u001B[49m\u001B[38;5;241;43m=\u001B[39;49m\u001B[43mshort\u001B[49m\u001B[43m)\u001B[49m\n",
      "File \u001B[0;32m~/Projects/006_google_ml_bootcamp/venv/lib/python3.12/site-packages/numpy/core/_dtype.py:143\u001B[0m, in \u001B[0;36m_scalar_str\u001B[0;34m(dtype, short)\u001B[0m\n\u001B[1;32m    140\u001B[0m \u001B[38;5;28;01melif\u001B[39;00m dtype\u001B[38;5;241m.\u001B[39mtype \u001B[38;5;241m==\u001B[39m np\u001B[38;5;241m.\u001B[39mtimedelta64:\n\u001B[1;32m    141\u001B[0m     \u001B[38;5;28;01mreturn\u001B[39;00m \u001B[38;5;124m\"\u001B[39m\u001B[38;5;124m'\u001B[39m\u001B[38;5;132;01m%s\u001B[39;00m\u001B[38;5;124mm8\u001B[39m\u001B[38;5;132;01m%s\u001B[39;00m\u001B[38;5;124m'\u001B[39m\u001B[38;5;124m\"\u001B[39m \u001B[38;5;241m%\u001B[39m (byteorder, _datetime_metadata_str(dtype))\n\u001B[0;32m--> 143\u001B[0m \u001B[38;5;28;01melif\u001B[39;00m \u001B[43mnp\u001B[49m\u001B[38;5;241;43m.\u001B[39;49m\u001B[43missubdtype\u001B[49m\u001B[43m(\u001B[49m\u001B[43mdtype\u001B[49m\u001B[43m,\u001B[49m\u001B[43m \u001B[49m\u001B[43mnp\u001B[49m\u001B[38;5;241;43m.\u001B[39;49m\u001B[43mnumber\u001B[49m\u001B[43m)\u001B[49m:\n\u001B[1;32m    144\u001B[0m     \u001B[38;5;66;03m# Short repr with endianness, like '<f8'\u001B[39;00m\n\u001B[1;32m    145\u001B[0m     \u001B[38;5;28;01mif\u001B[39;00m short \u001B[38;5;129;01mor\u001B[39;00m dtype\u001B[38;5;241m.\u001B[39mbyteorder \u001B[38;5;129;01mnot\u001B[39;00m \u001B[38;5;129;01min\u001B[39;00m (\u001B[38;5;124m'\u001B[39m\u001B[38;5;124m=\u001B[39m\u001B[38;5;124m'\u001B[39m, \u001B[38;5;124m'\u001B[39m\u001B[38;5;124m|\u001B[39m\u001B[38;5;124m'\u001B[39m):\n\u001B[1;32m    146\u001B[0m         \u001B[38;5;28;01mreturn\u001B[39;00m \u001B[38;5;124m\"\u001B[39m\u001B[38;5;124m'\u001B[39m\u001B[38;5;132;01m%s\u001B[39;00m\u001B[38;5;132;01m%c\u001B[39;00m\u001B[38;5;132;01m%d\u001B[39;00m\u001B[38;5;124m'\u001B[39m\u001B[38;5;124m\"\u001B[39m \u001B[38;5;241m%\u001B[39m (byteorder, dtype\u001B[38;5;241m.\u001B[39mkind, dtype\u001B[38;5;241m.\u001B[39mitemsize)\n",
      "File \u001B[0;32m~/Projects/006_google_ml_bootcamp/venv/lib/python3.12/site-packages/numpy/_core/numerictypes.py:529\u001B[0m, in \u001B[0;36missubdtype\u001B[0;34m(arg1, arg2)\u001B[0m\n",
      "    \u001B[0;31m[... skipping similar frames: __repr__ at line 46 (738 times), _construction_repr at line 100 (738 times), _scalar_str at line 143 (738 times), issubdtype at line 529 (737 times)]\u001B[0m\n",
      "File \u001B[0;32m~/Projects/006_google_ml_bootcamp/venv/lib/python3.12/site-packages/numpy/_core/numerictypes.py:529\u001B[0m, in \u001B[0;36missubdtype\u001B[0;34m(arg1, arg2)\u001B[0m\n",
      "File \u001B[0;32m~/Projects/006_google_ml_bootcamp/venv/lib/python3.12/site-packages/numpy/core/_dtype.py:46\u001B[0m, in \u001B[0;36m__repr__\u001B[0;34m(dtype)\u001B[0m\n\u001B[1;32m     45\u001B[0m \u001B[38;5;28;01mdef\u001B[39;00m \u001B[38;5;21m__repr__\u001B[39m(dtype):\n\u001B[0;32m---> 46\u001B[0m     arg_str \u001B[38;5;241m=\u001B[39m \u001B[43m_construction_repr\u001B[49m\u001B[43m(\u001B[49m\u001B[43mdtype\u001B[49m\u001B[43m,\u001B[49m\u001B[43m \u001B[49m\u001B[43minclude_align\u001B[49m\u001B[38;5;241;43m=\u001B[39;49m\u001B[38;5;28;43;01mFalse\u001B[39;49;00m\u001B[43m)\u001B[49m\n\u001B[1;32m     47\u001B[0m     \u001B[38;5;28;01mif\u001B[39;00m dtype\u001B[38;5;241m.\u001B[39misalignedstruct:\n\u001B[1;32m     48\u001B[0m         arg_str \u001B[38;5;241m=\u001B[39m arg_str \u001B[38;5;241m+\u001B[39m \u001B[38;5;124m\"\u001B[39m\u001B[38;5;124m, align=True\u001B[39m\u001B[38;5;124m\"\u001B[39m\n",
      "File \u001B[0;32m~/Projects/006_google_ml_bootcamp/venv/lib/python3.12/site-packages/numpy/core/_dtype.py:100\u001B[0m, in \u001B[0;36m_construction_repr\u001B[0;34m(dtype, include_align, short)\u001B[0m\n\u001B[1;32m     98\u001B[0m     \u001B[38;5;28;01mreturn\u001B[39;00m _subarray_str(dtype)\n\u001B[1;32m     99\u001B[0m \u001B[38;5;28;01melse\u001B[39;00m:\n\u001B[0;32m--> 100\u001B[0m     \u001B[38;5;28;01mreturn\u001B[39;00m \u001B[43m_scalar_str\u001B[49m\u001B[43m(\u001B[49m\u001B[43mdtype\u001B[49m\u001B[43m,\u001B[49m\u001B[43m \u001B[49m\u001B[43mshort\u001B[49m\u001B[38;5;241;43m=\u001B[39;49m\u001B[43mshort\u001B[49m\u001B[43m)\u001B[49m\n",
      "File \u001B[0;32m~/Projects/006_google_ml_bootcamp/venv/lib/python3.12/site-packages/numpy/core/_dtype.py:143\u001B[0m, in \u001B[0;36m_scalar_str\u001B[0;34m(dtype, short)\u001B[0m\n\u001B[1;32m    140\u001B[0m \u001B[38;5;28;01melif\u001B[39;00m dtype\u001B[38;5;241m.\u001B[39mtype \u001B[38;5;241m==\u001B[39m np\u001B[38;5;241m.\u001B[39mtimedelta64:\n\u001B[1;32m    141\u001B[0m     \u001B[38;5;28;01mreturn\u001B[39;00m \u001B[38;5;124m\"\u001B[39m\u001B[38;5;124m'\u001B[39m\u001B[38;5;132;01m%s\u001B[39;00m\u001B[38;5;124mm8\u001B[39m\u001B[38;5;132;01m%s\u001B[39;00m\u001B[38;5;124m'\u001B[39m\u001B[38;5;124m\"\u001B[39m \u001B[38;5;241m%\u001B[39m (byteorder, _datetime_metadata_str(dtype))\n\u001B[0;32m--> 143\u001B[0m \u001B[38;5;28;01melif\u001B[39;00m \u001B[43mnp\u001B[49m\u001B[38;5;241;43m.\u001B[39;49m\u001B[43missubdtype\u001B[49m\u001B[43m(\u001B[49m\u001B[43mdtype\u001B[49m\u001B[43m,\u001B[49m\u001B[43m \u001B[49m\u001B[43mnp\u001B[49m\u001B[38;5;241;43m.\u001B[39;49m\u001B[43mnumber\u001B[49m\u001B[43m)\u001B[49m:\n\u001B[1;32m    144\u001B[0m     \u001B[38;5;66;03m# Short repr with endianness, like '<f8'\u001B[39;00m\n\u001B[1;32m    145\u001B[0m     \u001B[38;5;28;01mif\u001B[39;00m short \u001B[38;5;129;01mor\u001B[39;00m dtype\u001B[38;5;241m.\u001B[39mbyteorder \u001B[38;5;129;01mnot\u001B[39;00m \u001B[38;5;129;01min\u001B[39;00m (\u001B[38;5;124m'\u001B[39m\u001B[38;5;124m=\u001B[39m\u001B[38;5;124m'\u001B[39m, \u001B[38;5;124m'\u001B[39m\u001B[38;5;124m|\u001B[39m\u001B[38;5;124m'\u001B[39m):\n\u001B[1;32m    146\u001B[0m         \u001B[38;5;28;01mreturn\u001B[39;00m \u001B[38;5;124m\"\u001B[39m\u001B[38;5;124m'\u001B[39m\u001B[38;5;132;01m%s\u001B[39;00m\u001B[38;5;132;01m%c\u001B[39;00m\u001B[38;5;132;01m%d\u001B[39;00m\u001B[38;5;124m'\u001B[39m\u001B[38;5;124m\"\u001B[39m \u001B[38;5;241m%\u001B[39m (byteorder, dtype\u001B[38;5;241m.\u001B[39mkind, dtype\u001B[38;5;241m.\u001B[39mitemsize)\n",
      "File \u001B[0;32m~/Projects/006_google_ml_bootcamp/venv/lib/python3.12/site-packages/numpy/_core/numerictypes.py:528\u001B[0m, in \u001B[0;36missubdtype\u001B[0;34m(arg1, arg2)\u001B[0m\n",
      "\u001B[0;31mRecursionError\u001B[0m: maximum recursion depth exceeded"
     ]
    }
   ],
   "execution_count": 56
  },
  {
   "metadata": {},
   "cell_type": "code",
   "outputs": [],
   "execution_count": null,
   "source": "",
   "id": "5c9bc7c7122e6ee2"
  }
 ],
 "metadata": {
  "kernelspec": {
   "display_name": "Python 3",
   "language": "python",
   "name": "python3"
  },
  "language_info": {
   "codemirror_mode": {
    "name": "ipython",
    "version": 2
   },
   "file_extension": ".py",
   "mimetype": "text/x-python",
   "name": "python",
   "nbconvert_exporter": "python",
   "pygments_lexer": "ipython2",
   "version": "2.7.6"
  }
 },
 "nbformat": 4,
 "nbformat_minor": 5
}
