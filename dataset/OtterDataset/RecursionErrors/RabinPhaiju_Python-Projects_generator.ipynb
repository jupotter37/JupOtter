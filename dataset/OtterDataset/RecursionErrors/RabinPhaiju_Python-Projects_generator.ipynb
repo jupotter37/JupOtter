{
 "cells": [
  {
   "cell_type": "markdown",
   "metadata": {},
   "source": [
    "# Generator\n",
    "- generate sequence of value over time\n",
    "- a type of iterator/are iterators, they implement the iterator protocol.\n",
    "- Generator are ingerently laxy iterators (can be infinite)\n",
    "- Generator are iterators, and can be used in the same way (for loops, comprehension)\n",
    "- it can be exhausted, cannot be 'restored'\n",
    "- This leads to a bug, if we try to iterate twice over a generator.\n",
    "-\n",
    "### Generator Function\n",
    "- Generator factories-> they return a Generator when called\n",
    "- a function that uses the yield statement\n",
    "- generator function always returns an iterator.\n",
    "-\n",
    "### Generator expression:\n",
    "- uses comprehension syntax\n",
    "- a more concise way of creating Generators\n",
    "- like list comprehension, useful for simple situations."
   ]
  },
  {
   "cell_type": "markdown",
   "metadata": {},
   "source": [
    "## Yield\n",
    "- The yield keyword does exactly what we want:\n",
    "- It emits a value\n",
    "- the function is effectively suspended(but it retains it current state)\n",
    "- calling next on the function resumes running the function right after the yield statement\n",
    "- if function returns somethings instead if yielding -> StopIteration exception."
   ]
  },
  {
   "cell_type": "code",
   "execution_count": 10,
   "metadata": {},
   "outputs": [
    {
     "name": "stdout",
     "output_type": "stream",
     "text": [
      "<generator object song at 0x7e34f751e7a0>\n",
      "types: <class 'generator'>\n"
     ]
    }
   ],
   "source": [
    "def song():\n",
    "    print('line 1')\n",
    "    yield 'I am a lumberjack and i am OK'\n",
    "    print('line 2')\n",
    "    yield 'i sleep all night and i work all day'\n",
    "\n",
    "print(song())\n",
    "lines = song()\n",
    "print('types:',type(lines))\n",
    "# calling a function, returns a genertaor object\n",
    "# the returned generator is executed by calling next()\n",
    "# the function body will execute untill it encourters a yield statement."
   ]
  },
  {
   "cell_type": "code",
   "execution_count": 11,
   "metadata": {},
   "outputs": [
    {
     "name": "stdout",
     "output_type": "stream",
     "text": [
      "line 1\n",
      "I am a lumberjack and i am OK\n"
     ]
    }
   ],
   "source": [
    "line = next(lines)\n",
    "print(line)"
   ]
  },
  {
   "cell_type": "code",
   "execution_count": 12,
   "metadata": {},
   "outputs": [
    {
     "name": "stdout",
     "output_type": "stream",
     "text": [
      "line 2\n"
     ]
    },
    {
     "data": {
      "text/plain": [
       "'i sleep all night and i work all day'"
      ]
     },
     "execution_count": 12,
     "metadata": {},
     "output_type": "execute_result"
    }
   ],
   "source": [
    "line = next(lines)\n",
    "line"
   ]
  },
  {
   "cell_type": "code",
   "execution_count": 13,
   "metadata": {},
   "outputs": [
    {
     "ename": "StopIteration",
     "evalue": "",
     "output_type": "error",
     "traceback": [
      "\u001b[0;31m---------------------------------------------------------------------------\u001b[0m",
      "\u001b[0;31mStopIteration\u001b[0m                             Traceback (most recent call last)",
      "Cell \u001b[0;32mIn[13], line 1\u001b[0m\n\u001b[0;32m----> 1\u001b[0m line \u001b[38;5;241m=\u001b[39m \u001b[38;5;28;43mnext\u001b[39;49m\u001b[43m(\u001b[49m\u001b[43mlines\u001b[49m\u001b[43m)\u001b[49m\n\u001b[1;32m      2\u001b[0m line\n",
      "\u001b[0;31mStopIteration\u001b[0m: "
     ]
    }
   ],
   "source": [
    "line = next(lines)\n",
    "line"
   ]
  },
  {
   "cell_type": "code",
   "execution_count": 16,
   "metadata": {},
   "outputs": [
    {
     "name": "stdout",
     "output_type": "stream",
     "text": [
      "0\n",
      "1\n",
      "2\n"
     ]
    }
   ],
   "source": [
    "# range(100000) -> all the result of this list(range(100000)) stores in memory. \n",
    "# and can be access after it is created.\n",
    "\n",
    "# while generator, generate 1 at a time. -> when needed.\n",
    "def get_next_number(num):\n",
    "    for i in range(num):\n",
    "        yield i\n",
    "\n",
    "gen = get_next_number(10)\n",
    "print(next(gen))\n",
    "print(next(gen))\n",
    "print(next(gen))  # it only get next number when needed. "
   ]
  },
  {
   "cell_type": "markdown",
   "metadata": {},
   "source": [
    "* iterable\n",
    "* iterate\n",
    "* generators - are iterable, but not all iterable are generators\n",
    "    - range() is generator (faster)\n",
    "    - list() is iterable. "
   ]
  },
  {
   "cell_type": "code",
   "execution_count": 17,
   "metadata": {},
   "outputs": [
    {
     "name": "stdout",
     "output_type": "stream",
     "text": [
      "0\n",
      "1\n",
      "2\n",
      "3\n",
      "4\n",
      "5\n",
      "6\n",
      "7\n",
      "8\n",
      "9\n"
     ]
    }
   ],
   "source": [
    "gen1 = get_next_number(10)\n",
    "for item in gen1:\n",
    "    print(item)"
   ]
  },
  {
   "cell_type": "code",
   "execution_count": 19,
   "metadata": {},
   "outputs": [
    {
     "data": {
      "text/plain": [
       "[1, 1, 2, 6, 24]"
      ]
     },
     "execution_count": 19,
     "metadata": {},
     "output_type": "execute_result"
    }
   ],
   "source": [
    "# Example using iterator\n",
    "import math\n",
    "class FactIter:\n",
    "    def __init__(self,n):\n",
    "        self.n = n\n",
    "        self.i = 0\n",
    "\n",
    "    def __iter__(self):\n",
    "        return self\n",
    "    \n",
    "    def __next__(self):\n",
    "        if self.i>=self.n:\n",
    "            raise StopIteration\n",
    "        else:\n",
    "            result = math.factorial(self.i)\n",
    "            self.i +=1\n",
    "            return result\n",
    "\n",
    "fact_iter = FactIter(5)\n",
    "list(fact_iter)"
   ]
  },
  {
   "cell_type": "code",
   "execution_count": 20,
   "metadata": {},
   "outputs": [
    {
     "data": {
      "text/plain": [
       "[1, 1, 2, 6, 24]"
      ]
     },
     "execution_count": 20,
     "metadata": {},
     "output_type": "execute_result"
    }
   ],
   "source": [
    "# using closure\n",
    "import math\n",
    "def fact():\n",
    "    i = 0\n",
    "    def inner():\n",
    "        nonlocal i\n",
    "        result = math.factorial(i)\n",
    "        i +=1\n",
    "        return result\n",
    "    return inner\n",
    "\n",
    "fact_inter = iter(fact(),math.factorial(5))\n",
    "\n",
    "list(fact_inter)"
   ]
  },
  {
   "cell_type": "code",
   "execution_count": 21,
   "metadata": {},
   "outputs": [
    {
     "data": {
      "text/plain": [
       "[1, 1, 2, 6, 24]"
      ]
     },
     "execution_count": 21,
     "metadata": {},
     "output_type": "execute_result"
    }
   ],
   "source": [
    "# using generator\n",
    "def factorails(n):\n",
    "    for i in range(n):\n",
    "        yield math.factorial(i)\n",
    "\n",
    "fact_gen = factorails(5)\n",
    "list(fact_gen)"
   ]
  },
  {
   "cell_type": "markdown",
   "metadata": {},
   "source": [
    "yield and closures (via functions or lambdas) can both be used to generate the next integer in a sequence, but they operate in different ways.\n",
    "\n",
    "1. Using yield (Generators):\n",
    "yield is used in a generator function. A generator produces values on demand, maintaining state between calls.\n",
    "When you call a generator, it returns an iterator object. You can then iterate over it or call next() to get the next value.\n",
    "Generators are useful for sequences that are too large to fit in memory, as they generate each value lazily, only when needed.\n",
    "\n",
    "2. Using Closures:\n",
    "A closure is created when a function retains access to variables from its enclosing scope even after the outer function has finished executing.\n",
    "In this case, you can create a function that encapsulates the current state (like the integer value) and returns a new function that will return the next integer each time it’s called.\n",
    "Closures require manual state management."
   ]
  },
  {
   "cell_type": "markdown",
   "metadata": {},
   "source": [
    "# Example - Fibonacci Sequence"
   ]
  },
  {
   "cell_type": "code",
   "execution_count": 43,
   "metadata": {},
   "outputs": [
    {
     "name": "stdout",
     "output_type": "stream",
     "text": [
      "[1, 1, 2, 3, 5, 8, 13, 21]\n"
     ]
    },
    {
     "data": {
      "text/plain": [
       "1.0915313229997992"
      ]
     },
     "execution_count": 43,
     "metadata": {},
     "output_type": "execute_result"
    }
   ],
   "source": [
    "# we can use recursive\n",
    "from timeit import timeit\n",
    "\n",
    "def fib_recursive(n):\n",
    "    if n<=1:\n",
    "        return 1\n",
    "    else:\n",
    "        return fib_recursive(n-1)+fib_recursive(n-2)\n",
    "\n",
    "print([fib_recursive(i) for i in range(8)])\n",
    "# it is fine if the number is small, what if the number of large output-> it is slow.\n",
    "timeit('fib_recursive(30)',globals=globals(),number=10)"
   ]
  },
  {
   "cell_type": "code",
   "execution_count": 46,
   "metadata": {},
   "outputs": [
    {
     "name": "stdout",
     "output_type": "stream",
     "text": [
      "[1, 1, 2, 3, 5, 8, 13, 21]\n",
      "5.615400004899129e-05\n"
     ]
    },
    {
     "ename": "RecursionError",
     "evalue": "maximum recursion depth exceeded in comparison",
     "output_type": "error",
     "traceback": [
      "\u001b[0;31m---------------------------------------------------------------------------\u001b[0m",
      "\u001b[0;31mRecursionError\u001b[0m                            Traceback (most recent call last)",
      "Cell \u001b[0;32mIn[46], line 15\u001b[0m\n\u001b[1;32m     12\u001b[0m \u001b[38;5;28mprint\u001b[39m(timeit(\u001b[38;5;124m'\u001b[39m\u001b[38;5;124mfib_recursive_lru(30)\u001b[39m\u001b[38;5;124m'\u001b[39m,\u001b[38;5;28mglobals\u001b[39m\u001b[38;5;241m=\u001b[39m\u001b[38;5;28mglobals\u001b[39m(),number\u001b[38;5;241m=\u001b[39m\u001b[38;5;241m10\u001b[39m))\n\u001b[1;32m     13\u001b[0m \u001b[38;5;66;03m# it now preety fast, but it still going to be prob. the depth of python. using lot of memory is not good.\u001b[39;00m\n\u001b[0;32m---> 15\u001b[0m \u001b[43mfib_recursive_lru\u001b[49m\u001b[43m(\u001b[49m\u001b[38;5;241;43m2000\u001b[39;49m\u001b[43m)\u001b[49m\n\u001b[1;32m     16\u001b[0m \u001b[38;5;66;03m# The maximum recursion depth exceeded.\u001b[39;00m\n",
      "Cell \u001b[0;32mIn[46], line 9\u001b[0m, in \u001b[0;36mfib_recursive_lru\u001b[0;34m(n)\u001b[0m\n\u001b[1;32m      7\u001b[0m     \u001b[38;5;28;01mreturn\u001b[39;00m \u001b[38;5;241m1\u001b[39m\n\u001b[1;32m      8\u001b[0m \u001b[38;5;28;01melse\u001b[39;00m:\n\u001b[0;32m----> 9\u001b[0m     \u001b[38;5;28;01mreturn\u001b[39;00m \u001b[43mfib_recursive_lru\u001b[49m\u001b[43m(\u001b[49m\u001b[43mn\u001b[49m\u001b[38;5;241;43m-\u001b[39;49m\u001b[38;5;241;43m1\u001b[39;49m\u001b[43m)\u001b[49m\u001b[38;5;241m+\u001b[39mfib_recursive_lru(n\u001b[38;5;241m-\u001b[39m\u001b[38;5;241m2\u001b[39m)\n",
      "Cell \u001b[0;32mIn[46], line 9\u001b[0m, in \u001b[0;36mfib_recursive_lru\u001b[0;34m(n)\u001b[0m\n\u001b[1;32m      7\u001b[0m     \u001b[38;5;28;01mreturn\u001b[39;00m \u001b[38;5;241m1\u001b[39m\n\u001b[1;32m      8\u001b[0m \u001b[38;5;28;01melse\u001b[39;00m:\n\u001b[0;32m----> 9\u001b[0m     \u001b[38;5;28;01mreturn\u001b[39;00m \u001b[43mfib_recursive_lru\u001b[49m\u001b[43m(\u001b[49m\u001b[43mn\u001b[49m\u001b[38;5;241;43m-\u001b[39;49m\u001b[38;5;241;43m1\u001b[39;49m\u001b[43m)\u001b[49m\u001b[38;5;241m+\u001b[39mfib_recursive_lru(n\u001b[38;5;241m-\u001b[39m\u001b[38;5;241m2\u001b[39m)\n",
      "    \u001b[0;31m[... skipping similar frames: fib_recursive_lru at line 9 (1482 times)]\u001b[0m\n",
      "Cell \u001b[0;32mIn[46], line 9\u001b[0m, in \u001b[0;36mfib_recursive_lru\u001b[0;34m(n)\u001b[0m\n\u001b[1;32m      7\u001b[0m     \u001b[38;5;28;01mreturn\u001b[39;00m \u001b[38;5;241m1\u001b[39m\n\u001b[1;32m      8\u001b[0m \u001b[38;5;28;01melse\u001b[39;00m:\n\u001b[0;32m----> 9\u001b[0m     \u001b[38;5;28;01mreturn\u001b[39;00m \u001b[43mfib_recursive_lru\u001b[49m\u001b[43m(\u001b[49m\u001b[43mn\u001b[49m\u001b[38;5;241;43m-\u001b[39;49m\u001b[38;5;241;43m1\u001b[39;49m\u001b[43m)\u001b[49m\u001b[38;5;241m+\u001b[39mfib_recursive_lru(n\u001b[38;5;241m-\u001b[39m\u001b[38;5;241m2\u001b[39m)\n",
      "Cell \u001b[0;32mIn[46], line 6\u001b[0m, in \u001b[0;36mfib_recursive_lru\u001b[0;34m(n)\u001b[0m\n\u001b[1;32m      4\u001b[0m \u001b[38;5;129m@lru_cache\u001b[39m\n\u001b[1;32m      5\u001b[0m \u001b[38;5;28;01mdef\u001b[39;00m \u001b[38;5;21mfib_recursive_lru\u001b[39m(n):\n\u001b[0;32m----> 6\u001b[0m     \u001b[38;5;28;01mif\u001b[39;00m \u001b[43mn\u001b[49m\u001b[38;5;241;43m<\u001b[39;49m\u001b[38;5;241;43m=\u001b[39;49m\u001b[38;5;241;43m1\u001b[39;49m:\n\u001b[1;32m      7\u001b[0m         \u001b[38;5;28;01mreturn\u001b[39;00m \u001b[38;5;241m1\u001b[39m\n\u001b[1;32m      8\u001b[0m     \u001b[38;5;28;01melse\u001b[39;00m:\n",
      "\u001b[0;31mRecursionError\u001b[0m: maximum recursion depth exceeded in comparison"
     ]
    }
   ],
   "source": [
    "# we can use memoization.\n",
    "from functools import lru_cache\n",
    "\n",
    "@lru_cache\n",
    "def fib_recursive_lru(n):\n",
    "    if n<=1:\n",
    "        return 1\n",
    "    else:\n",
    "        return fib_recursive_lru(n-1)+fib_recursive_lru(n-2)\n",
    "\n",
    "print([fib_recursive_lru(i) for i in range(8)])\n",
    "print(timeit('fib_recursive_lru(30)',globals=globals(),number=10))\n",
    "# it now preety fast, but it still going to be prob. the depth of python. using lot of memory is not good.\n",
    "\n",
    "fib_recursive_lru(2000)\n",
    "# The maximum recursion depth exceeded."
   ]
  },
  {
   "cell_type": "code",
   "execution_count": 47,
   "metadata": {},
   "outputs": [
    {
     "name": "stdout",
     "output_type": "stream",
     "text": [
      "[1, 1, 2, 3, 5, 8, 13, 21]\n",
      "1.4658000054623699e-05\n"
     ]
    }
   ],
   "source": [
    "# Then we can use loops -> for\n",
    "def fib_loop(n):\n",
    "    f1 = 1\n",
    "    f2 = 1\n",
    "    for i in range(n):\n",
    "        f1,f2 = f2,f1+f2\n",
    "    return f1\n",
    "\n",
    "print([fib_loop(i) for i in range(8)])\n",
    "print(timeit('fib_loop(30)',globals=globals(),number=10))"
   ]
  },
  {
   "cell_type": "code",
   "execution_count": 48,
   "metadata": {},
   "outputs": [
    {
     "name": "stdout",
     "output_type": "stream",
     "text": [
      "[1, 1, 2, 3, 5, 8, 13, 21, 34]\n"
     ]
    }
   ],
   "source": [
    "# let use iterator in loop\n",
    "class FibIter:\n",
    "    def __init__(self,n):\n",
    "        self.n = n\n",
    "        self.i = 0\n",
    "\n",
    "    def __iter__(self):\n",
    "        return self\n",
    "    \n",
    "    def __next__(self):\n",
    "        if self.i>=self.n:\n",
    "            raise StopIteration\n",
    "        else:\n",
    "            result = fib_loop(self.i)\n",
    "            self.i+=1\n",
    "            return result\n",
    "fib_loop_class = FibIter(9)\n",
    "print([num for num in fib_loop_class])\n",
    "# now here, we have to write a class, just to print a fibonacci series. we can use generator to perform the same task, easier and faster."
   ]
  },
  {
   "cell_type": "code",
   "execution_count": 50,
   "metadata": {},
   "outputs": [],
   "source": [
    "# using yield\n",
    "def fib_gen(n):\n",
    "    i,j = 0,1\n",
    "    for _ in range(n):\n",
    "        i,j = j,i+j\n",
    "        yield i"
   ]
  },
  {
   "cell_type": "code",
   "execution_count": 51,
   "metadata": {},
   "outputs": [
    {
     "data": {
      "text/plain": [
       "[1, 1, 2, 3, 5, 8, 13, 21, 34]"
      ]
     },
     "execution_count": 51,
     "metadata": {},
     "output_type": "execute_result"
    }
   ],
   "source": [
    "f= fib_gen(9)\n",
    "[x for x in f]"
   ]
  },
  {
   "cell_type": "code",
   "execution_count": 52,
   "metadata": {},
   "outputs": [
    {
     "name": "stdout",
     "output_type": "stream",
     "text": [
      "0.0042462110000087705\n",
      "5.1137462140000025\n",
      "3.1079998734639958e-06\n"
     ]
    }
   ],
   "source": [
    "from timeit import timeit\n",
    "print(timeit('fib_loop(5000)',globals=globals(),number=10))\n",
    "print(timeit('list(FibIter(5000))',globals=globals(),number=10))\n",
    "print(timeit('fib_gen(5000)',globals=globals(),number=10))"
   ]
  },
  {
   "cell_type": "code",
   "execution_count": null,
   "metadata": {},
   "outputs": [],
   "source": [
    "# Here loop is faster, but, we need to call all values.\n",
    "# using class gives __iter__, but it is slower\n",
    "# using generator to yield or __iter__ is fast and convinent."
   ]
  },
  {
   "cell_type": "markdown",
   "metadata": {},
   "source": [
    "# Making a Iterable from a Generator\n",
    "- it can be exhausted, cannot be 'restored'\n",
    "- This leads to a bug, if we try to iterate twice over a generator."
   ]
  },
  {
   "cell_type": "code",
   "execution_count": 18,
   "metadata": {},
   "outputs": [
    {
     "data": {
      "text/plain": [
       "[0, 1, 4, 9, 16]"
      ]
     },
     "execution_count": 18,
     "metadata": {},
     "output_type": "execute_result"
    }
   ],
   "source": [
    "# eg:\n",
    "def square(n):\n",
    "    for i in range(n):\n",
    "        yield i**2\n",
    "\n",
    "sq = square(5)\n",
    "list(sq)"
   ]
  },
  {
   "cell_type": "code",
   "execution_count": 31,
   "metadata": {},
   "outputs": [
    {
     "name": "stdout",
     "output_type": "stream",
     "text": [
      "0\n",
      "1\n"
     ]
    },
    {
     "data": {
      "text/plain": [
       "[(0, 4), (1, 9), (2, 16)]"
      ]
     },
     "execution_count": 31,
     "metadata": {},
     "output_type": "execute_result"
    }
   ],
   "source": [
    "# This can lead us to unexpected behavior sometimes.\n",
    "sq = square(5)\n",
    "\n",
    "# what if we want to enumerate the sq.\n",
    "enum1 = enumerate(sq) # enumerate is lazy-> hasn't iterated through 'sq' yet.\n",
    "\n",
    "print(next(sq))\n",
    "print(next(sq))\n",
    "list(enum1) # here enum1 is called here so, enumerator does know, that sq, starts with 2, with enumerate with 0."
   ]
  },
  {
   "cell_type": "markdown",
   "metadata": {},
   "source": [
    "### making an iterator"
   ]
  },
  {
   "cell_type": "code",
   "execution_count": 38,
   "metadata": {},
   "outputs": [
    {
     "name": "stdout",
     "output_type": "stream",
     "text": [
      "[(0, 0), (1, 1), (2, 4), (3, 9), (4, 16)]\n",
      "[0, 1, 4, 9, 16]\n",
      "custom range: [0, 1, 4, 9, 16]\n"
     ]
    }
   ],
   "source": [
    "class Squares:\n",
    "    def __init__(self,n):\n",
    "        self.n = n\n",
    "    \n",
    "    def __iter__(self):\n",
    "        return square(self.n) # new instance of the generator\n",
    "\n",
    "sq = Squares(5)\n",
    "print(list(enumerate(sq)))\n",
    "print(list(sq))\n",
    "print('custom range:',list(Squares(5)))"
   ]
  },
  {
   "cell_type": "markdown",
   "metadata": {},
   "source": [
    "### Under the hood of generators"
   ]
  },
  {
   "cell_type": "code",
   "execution_count": 34,
   "metadata": {},
   "outputs": [
    {
     "name": "stdout",
     "output_type": "stream",
     "text": [
      "<list_iterator object at 0x7e34fcbe1090>\n",
      "2\n",
      "<list_iterator object at 0x7e34fcbe1090>\n",
      "4\n",
      "<list_iterator object at 0x7e34fcbe1090>\n",
      "6\n",
      "<list_iterator object at 0x7e34fcbe1090>\n"
     ]
    }
   ],
   "source": [
    "def special_for(iterable):\n",
    "    iterator = iter(iterable)\n",
    "    while True:\n",
    "        try:\n",
    "            print(iterator)\n",
    "            print(next(iterator)*2)\n",
    "        except StopIteration:\n",
    "            break\n",
    "\n",
    "special_for([1,2,3])"
   ]
  },
  {
   "cell_type": "code",
   "execution_count": 41,
   "metadata": {},
   "outputs": [
    {
     "name": "stdout",
     "output_type": "stream",
     "text": [
      "0\n",
      "1\n",
      "2\n",
      "3\n",
      "4\n"
     ]
    }
   ],
   "source": [
    "# making a custom range()\n",
    "class MyGen():\n",
    "    def __init__(self,start,end):\n",
    "        self.start = start\n",
    "        self.end = end\n",
    "\n",
    "    def __iter__(self):\n",
    "        return self\n",
    "\n",
    "    def __next__(self):\n",
    "        if self.start<self.end:\n",
    "            result = self.start\n",
    "            self.start+=1\n",
    "            return result\n",
    "        else:\n",
    "            raise StopIteration\n",
    "\n",
    "gen = MyGen(0,5)\n",
    "for i in gen:\n",
    "    print(i)"
   ]
  },
  {
   "cell_type": "markdown",
   "metadata": {},
   "source": [
    "# Example : Card Deck"
   ]
  },
  {
   "cell_type": "code",
   "execution_count": 42,
   "metadata": {},
   "outputs": [],
   "source": [
    "from collections import namedtuple\n",
    "\n",
    "Card = namedtuple('Card','rand suit')\n",
    "\n",
    "SUITS = ('Spades','Hearts','Diamonds','Clubs')\n",
    "RANKS = tuple(range(2,11))+tuple('JQKA')"
   ]
  },
  {
   "cell_type": "code",
   "execution_count": 48,
   "metadata": {},
   "outputs": [
    {
     "data": {
      "text/plain": [
       "[Card(rand=2, suit='Spades'),\n",
       " Card(rand=3, suit='Spades'),\n",
       " Card(rand=4, suit='Spades'),\n",
       " Card(rand=5, suit='Spades'),\n",
       " Card(rand=6, suit='Spades'),\n",
       " Card(rand=7, suit='Spades'),\n",
       " Card(rand=8, suit='Spades'),\n",
       " Card(rand=9, suit='Spades'),\n",
       " Card(rand=10, suit='Spades'),\n",
       " Card(rand='J', suit='Spades'),\n",
       " Card(rand='Q', suit='Spades'),\n",
       " Card(rand='K', suit='Spades')]"
      ]
     },
     "execution_count": 48,
     "metadata": {},
     "output_type": "execute_result"
    }
   ],
   "source": [
    "\"\"\"\n",
    "suit_index = card_index // len(RANKS)\n",
    "rand_index = card_index % len(RANKS)\n",
    "\"\"\"\n",
    "\n",
    "def card_gen():\n",
    "    for i in range(len(SUITS)*len(RANKS)):\n",
    "        suit = SUITS[i//len(RANKS)]\n",
    "        rank = RANKS[i%len(RANKS)]\n",
    "        card = Card(rank,suit)\n",
    "        yield card\n",
    "\n",
    "card1 = card_gen()\n",
    "list(card1)[0:12]"
   ]
  },
  {
   "cell_type": "code",
   "execution_count": 47,
   "metadata": {},
   "outputs": [
    {
     "data": {
      "text/plain": [
       "[Card(rand=2, suit='Spades'),\n",
       " Card(rand=3, suit='Spades'),\n",
       " Card(rand=4, suit='Spades'),\n",
       " Card(rand=5, suit='Spades'),\n",
       " Card(rand=6, suit='Spades'),\n",
       " Card(rand=7, suit='Spades'),\n",
       " Card(rand=8, suit='Spades'),\n",
       " Card(rand=9, suit='Spades'),\n",
       " Card(rand=10, suit='Spades'),\n",
       " Card(rand='J', suit='Spades'),\n",
       " Card(rand='Q', suit='Spades'),\n",
       " Card(rand='K', suit='Spades')]"
      ]
     },
     "execution_count": 47,
     "metadata": {},
     "output_type": "execute_result"
    }
   ],
   "source": [
    "def card_gen():\n",
    "    for suit in SUITS:\n",
    "        for rank in RANKS:\n",
    "            yield Card(rank,suit)\n",
    "\n",
    "card1 = card_gen()\n",
    "list(card1)[0:12]"
   ]
  },
  {
   "cell_type": "code",
   "execution_count": 62,
   "metadata": {},
   "outputs": [],
   "source": [
    "class CardDeck:\n",
    "    SUITS = ('Spaces','Hearts','Diamonds','Clubs')\n",
    "    RANKS = tuple(range(2,11))+tuple('JQKA')\n",
    "\n",
    "    def __iter__(self):\n",
    "        return CardDeck.card_gen(self)\n",
    "    \n",
    "    def __reversed__(self):\n",
    "        return CardDeck.reversed_card_gen(self)\n",
    "\n",
    "    @staticmethod\n",
    "    def card_gen(self):\n",
    "        for suit in self.SUITS:\n",
    "            for rank in self.RANKS:\n",
    "                yield Card(rank,suit)\n",
    "\n",
    "    @staticmethod\n",
    "    def reversed_card_gen(self):\n",
    "        for suit in self.SUITS[::-1]:\n",
    "            for rank in self.RANKS[::-1]:\n",
    "                yield Card(rank,suit)"
   ]
  },
  {
   "cell_type": "code",
   "execution_count": 64,
   "metadata": {},
   "outputs": [
    {
     "data": {
      "text/plain": [
       "[Card(rand=2, suit='Spaces'),\n",
       " Card(rand=3, suit='Spaces'),\n",
       " Card(rand=4, suit='Spaces'),\n",
       " Card(rand=5, suit='Spaces'),\n",
       " Card(rand=6, suit='Spaces'),\n",
       " Card(rand=7, suit='Spaces'),\n",
       " Card(rand=8, suit='Spaces'),\n",
       " Card(rand=9, suit='Spaces'),\n",
       " Card(rand=10, suit='Spaces'),\n",
       " Card(rand='J', suit='Spaces'),\n",
       " Card(rand='Q', suit='Spaces')]"
      ]
     },
     "execution_count": 64,
     "metadata": {},
     "output_type": "execute_result"
    }
   ],
   "source": [
    "deck = CardDeck()\n",
    "list(deck)[0:11]"
   ]
  },
  {
   "cell_type": "code",
   "execution_count": 60,
   "metadata": {},
   "outputs": [
    {
     "data": {
      "text/plain": [
       "[Card(rand=2, suit='Spaces'),\n",
       " Card(rand=3, suit='Spaces'),\n",
       " Card(rand=4, suit='Spaces'),\n",
       " Card(rand=5, suit='Spaces'),\n",
       " Card(rand=6, suit='Spaces'),\n",
       " Card(rand=7, suit='Spaces'),\n",
       " Card(rand=8, suit='Spaces'),\n",
       " Card(rand=9, suit='Spaces'),\n",
       " Card(rand=10, suit='Spaces'),\n",
       " Card(rand='J', suit='Spaces'),\n",
       " Card(rand='Q', suit='Spaces')]"
      ]
     },
     "execution_count": 60,
     "metadata": {},
     "output_type": "execute_result"
    }
   ],
   "source": [
    "list(deck)[0:11] # now we can call as many time we want."
   ]
  },
  {
   "cell_type": "code",
   "execution_count": 66,
   "metadata": {},
   "outputs": [
    {
     "data": {
      "text/plain": [
       "[Card(rand='A', suit='Clubs'),\n",
       " Card(rand='K', suit='Clubs'),\n",
       " Card(rand='Q', suit='Clubs'),\n",
       " Card(rand='J', suit='Clubs'),\n",
       " Card(rand=10, suit='Clubs'),\n",
       " Card(rand=9, suit='Clubs'),\n",
       " Card(rand=8, suit='Clubs'),\n",
       " Card(rand=7, suit='Clubs'),\n",
       " Card(rand=6, suit='Clubs'),\n",
       " Card(rand=5, suit='Clubs'),\n",
       " Card(rand=4, suit='Clubs')]"
      ]
     },
     "execution_count": 66,
     "metadata": {},
     "output_type": "execute_result"
    }
   ],
   "source": [
    "list(reversed(deck))[0:11]"
   ]
  },
  {
   "cell_type": "markdown",
   "metadata": {},
   "source": [
    "# Generator Expressions: and Performance.\n",
    "- it uses the same syntax as list comprehensions syntax-> including nesting, if\n",
    "- instead of [], we Use ()\n",
    "- instead of returning list, it return generator\n",
    "-\n",
    "- instead if evaluation is eagar, it evaluation is lazy\n",
    "- instead of iterable, it is iterator.\n",
    "- instead of creating object right away, they are delayed untill requested.\n",
    "- list comprehensions takes longer to create/return the list,so iteartion is faster(object already created)\n",
    "- generator is createdretuned immediately. iteartion is slower(object need to be created)\n",
    "- instead of loadint entire collection to memory, it only load only a single item.\n",
    "    - #### generator dont take all memory at a time, it uses memory when they are called.\n",
    "    - if we have a huge file, and done list comprehensions, it will aquire more memory. in this type of context, it better to use generators.\n",
    "-\n",
    "- ## Performance\n",
    "    - If you iterate through all the elements -> time Performance is about to same\n",
    "    - but, if you dont iterate through all the elements-> generator is more efficient.\n",
    "    - if we, just have to access certain no of transaction from database, instead of loading whole transaction."
   ]
  },
  {
   "cell_type": "code",
   "execution_count": 71,
   "metadata": {},
   "outputs": [
    {
     "name": "stdout",
     "output_type": "stream",
     "text": [
      "<class 'list'>\n"
     ]
    },
    {
     "data": {
      "text/plain": [
       "[0, 1, 4, 9, 16]"
      ]
     },
     "execution_count": 71,
     "metadata": {},
     "output_type": "execute_result"
    }
   ],
   "source": [
    "# list comprehension\n",
    "l = [ i**2 for i in range(5)]\n",
    "print(type(l))\n",
    "l"
   ]
  },
  {
   "cell_type": "code",
   "execution_count": 76,
   "metadata": {},
   "outputs": [
    {
     "name": "stdout",
     "output_type": "stream",
     "text": [
      "<class 'generator'>\n"
     ]
    },
    {
     "data": {
      "text/plain": [
       "[0, 1, 4, 9, 16]"
      ]
     },
     "execution_count": 76,
     "metadata": {},
     "output_type": "execute_result"
    }
   ],
   "source": [
    "# generator\n",
    "l = ( i**2 for i in range(5))\n",
    "print(type(l))\n",
    "list(l)"
   ]
  },
  {
   "cell_type": "code",
   "execution_count": 78,
   "metadata": {},
   "outputs": [
    {
     "data": {
      "text/plain": [
       "[[1, 2, 3, 4, 5, 6, 7, 8, 9, 10],\n",
       " [2, 4, 6, 8, 10, 12, 14, 16, 18, 20],\n",
       " [3, 6, 9, 12, 15, 18, 21, 24, 27, 30],\n",
       " [4, 8, 12, 16, 20, 24, 28, 32, 36, 40],\n",
       " [5, 10, 15, 20, 25, 30, 35, 40, 45, 50],\n",
       " [6, 12, 18, 24, 30, 36, 42, 48, 54, 60],\n",
       " [7, 14, 21, 28, 35, 42, 49, 56, 63, 70],\n",
       " [8, 16, 24, 32, 40, 48, 56, 64, 72, 80],\n",
       " [9, 18, 27, 36, 45, 54, 63, 72, 81, 90],\n",
       " [10, 20, 30, 40, 50, 60, 70, 80, 90, 100]]"
      ]
     },
     "execution_count": 78,
     "metadata": {},
     "output_type": "execute_result"
    }
   ],
   "source": [
    "# multiple list using list comprehension\n",
    "start = 1\n",
    "stop = 10\n",
    "multi_list = [[i*j for i in range(start,stop+1)] for j in range(start,stop+1)]\n",
    "multi_list"
   ]
  },
  {
   "cell_type": "code",
   "execution_count": 91,
   "metadata": {},
   "outputs": [
    {
     "name": "stdout",
     "output_type": "stream",
     "text": [
      "<generator object <genexpr> at 0x000001A0A71B4580>\n",
      "(1, 2, 3, 4, 5, 6, 7, 8, 9, 10)\n",
      "(2, 4, 6, 8, 10, 12, 14, 16, 18, 20)\n",
      "(3, 6, 9, 12, 15, 18, 21, 24, 27, 30)\n",
      "(4, 8, 12, 16, 20, 24, 28, 32, 36, 40)\n",
      "(5, 10, 15, 20, 25, 30, 35, 40, 45, 50)\n",
      "(6, 12, 18, 24, 30, 36, 42, 48, 54, 60)\n",
      "(7, 14, 21, 28, 35, 42, 49, 56, 63, 70)\n",
      "(8, 16, 24, 32, 40, 48, 56, 64, 72, 80)\n",
      "(9, 18, 27, 36, 45, 54, 63, 72, 81, 90)\n",
      "(10, 20, 30, 40, 50, 60, 70, 80, 90, 100)\n"
     ]
    }
   ],
   "source": [
    "# multiple list using generator comprehension\n",
    "start = 1\n",
    "stop = 10\n",
    "multi_list = ((i*j for i in range(start,stop+1)) for j in range(start,stop+1))\n",
    "print(multi_list)\n",
    "\n",
    "for i in multi_list:\n",
    "    print(tuple(i))"
   ]
  },
  {
   "cell_type": "markdown",
   "metadata": {},
   "source": [
    "# Yield From"
   ]
  },
  {
   "cell_type": "code",
   "execution_count": 97,
   "metadata": {},
   "outputs": [],
   "source": [
    "def matrix(n):\n",
    "    gen = ((i*j for j in range(1,n+1)) for i in range(1,n+1))\n",
    "    return gen"
   ]
  },
  {
   "cell_type": "code",
   "execution_count": 98,
   "metadata": {},
   "outputs": [
    {
     "name": "stdout",
     "output_type": "stream",
     "text": [
      "1\n",
      "2\n",
      "3\n",
      "2\n",
      "4\n",
      "6\n",
      "3\n",
      "6\n",
      "9\n"
     ]
    }
   ],
   "source": [
    "def matrix_iterator(n):\n",
    "    for row in matrix(n):\n",
    "        for item in row:\n",
    "            yield item\n",
    "\n",
    "for item in matrix_iterator(3):\n",
    "    print(item)"
   ]
  },
  {
   "cell_type": "code",
   "execution_count": 99,
   "metadata": {},
   "outputs": [
    {
     "name": "stdout",
     "output_type": "stream",
     "text": [
      "1\n",
      "2\n",
      "3\n",
      "2\n",
      "4\n",
      "6\n",
      "3\n",
      "6\n",
      "9\n"
     ]
    }
   ],
   "source": [
    "#using yield from\n",
    "\n",
    "def matrix_iterator(n):\n",
    "    for row in matrix(n):\n",
    "        yield from row\n",
    "\n",
    "for item in matrix_iterator(3):\n",
    "    print(item)"
   ]
  }
 ],
 "metadata": {
  "interpreter": {
   "hash": "6dbcfa4acfde829108fd9fed7b4c7e3cf5b89483651b78d4b8e08d6c4461514a"
  },
  "kernelspec": {
   "display_name": "Python 3.9.1 64-bit ('venv1')",
   "name": "python3"
  },
  "language_info": {
   "codemirror_mode": {
    "name": "ipython",
    "version": 3
   },
   "file_extension": ".py",
   "mimetype": "text/x-python",
   "name": "python",
   "nbconvert_exporter": "python",
   "pygments_lexer": "ipython3",
   "version": "3.10.12"
  },
  "orig_nbformat": 2
 },
 "nbformat": 4,
 "nbformat_minor": 2
}
