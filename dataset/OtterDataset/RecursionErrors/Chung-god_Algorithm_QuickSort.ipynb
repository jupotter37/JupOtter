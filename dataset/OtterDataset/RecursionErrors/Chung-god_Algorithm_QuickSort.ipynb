{
  "nbformat": 4,
  "nbformat_minor": 0,
  "metadata": {
    "colab": {
      "name": "QuickSort.ipynb",
      "provenance": [],
      "authorship_tag": "ABX9TyPWk8x2x7eqD/glnr4Id7gl",
      "include_colab_link": true
    },
    "kernelspec": {
      "name": "python3",
      "display_name": "Python 3"
    },
    "language_info": {
      "name": "python"
    }
  },
  "cells": [
    {
      "cell_type": "markdown",
      "metadata": {
        "id": "view-in-github",
        "colab_type": "text"
      },
      "source": [
        "<a href=\"https://colab.research.google.com/github/Chung-god/Algorithm/blob/master/QuickSort.ipynb\" target=\"_parent\"><img src=\"https://colab.research.google.com/assets/colab-badge.svg\" alt=\"Open In Colab\"/></a>"
      ]
    },
    {
      "cell_type": "code",
      "metadata": {
        "id": "DdvWXRuGVHlo"
      },
      "source": [
        "from random import randint #임의의 정수\n",
        "import csv #엑셀 파일 생성 \n",
        "import time # 시간복잡도 계산 \n",
        "import tracemalloc #메모리 분석 내장 라이브러리"
      ],
      "execution_count": null,
      "outputs": []
    },
    {
      "cell_type": "code",
      "metadata": {
        "id": "xHHT6iUpWtjN"
      },
      "source": [
        "f = open('random.csv', 'w', encoding='utf-8') #쓰기 위한 엑셀 파일 생성 \n",
        "wr = csv.writer(f) \n",
        "\n",
        "for i in range(0, 1000000): #임의의 100만개 정수 엑셀에 쓰기 \n",
        "  num = randint(1,10000)\n",
        "  wr.writerow([num])\n",
        "f.close()"
      ],
      "execution_count": null,
      "outputs": []
    },
    {
      "cell_type": "code",
      "metadata": {
        "id": "Nv-JRH79dkAv"
      },
      "source": [
        "f = open('asc.csv', 'w', encoding='utf-8')\n",
        "wr = csv.writer(f)\n",
        "for i in range(0, 1000000):#오름차순 100만개 정수 엑셀에 쓰기 \n",
        "  wr.writerow([i])\n",
        "f.close()"
      ],
      "execution_count": null,
      "outputs": []
    },
    {
      "cell_type": "code",
      "metadata": {
        "id": "HJAlYTMzeQO3"
      },
      "source": [
        "f = open('des.csv', 'w', encoding='utf-8')\n",
        "wr = csv.writer(f)\n",
        "for i in range(0, 1000000):#내림차순 100만개 정수 엑셀에 쓰기 \n",
        "  wr.writerow([1000000 - i])\n",
        "f.close()"
      ],
      "execution_count": null,
      "outputs": []
    },
    {
      "cell_type": "code",
      "metadata": {
        "id": "5uyMOirNelTx"
      },
      "source": [
        "#나의 퀵 정렬 함수 \n",
        "def my_quick_sort(arr):\n",
        "  if len(arr) <= 1: return arr\n",
        "  # pivot = arr[len(arr)//2]\n",
        "  pivot = arr[len(arr)//2] # 통상적으로 가장 왼쪽값을 Pivot 값으로 결정했을 때 내림차순이 배열로 들어올 때 비효율성을 해결하기 위해 가운데 값으로 선정 \n",
        "  less_arr, equal_arr, big_arr = [], [], []\n",
        "  for i in arr:\n",
        "    if i < pivot :\n",
        "      less_arr.append(i)\n",
        "    elif i > pivot :\n",
        "      big_arr.append(i)\n",
        "    else:\n",
        "      equal_arr.append(i)\n",
        "  return  my_quick_sort(less_arr) + equal_arr +  my_quick_sort(big_arr)\n",
        "\n"
      ],
      "execution_count": null,
      "outputs": []
    },
    {
      "cell_type": "code",
      "metadata": {
        "id": "6lGHX-HhvbTW"
      },
      "source": [
        "#퀵 정렬 함수 \n",
        "def quick_sort(arr):\n",
        "  if len(arr) <= 1: return arr\n",
        "  \n",
        "  less_arr, big_arr = [],[]\n",
        "  pivot = arr[0]\n",
        "\n",
        "  for i in range(1,len(arr)):\n",
        "    if pivot > arr[i]:\n",
        "      less_arr.append(arr[i])\n",
        "    else:\n",
        "      big_arr.append(arr[i])\n",
        "  return quick_sort(less_arr) + [pivot] + quick_sort(big_arr)\n",
        "\n"
      ],
      "execution_count": null,
      "outputs": []
    },
    {
      "cell_type": "code",
      "metadata": {
        "colab": {
          "base_uri": "https://localhost:8080/",
          "height": 412
        },
        "id": "OcB0gcnawE14",
        "outputId": "b5033737-22c0-4282-a05f-0dc87f7fa86e"
      },
      "source": [
        "#파이썬 내장함수와 비교 \n",
        "tracemalloc.start()\n",
        "snapshot0 = tracemalloc.take_snapshot()\n",
        "start = time.time() \n",
        "quick_sort(arr0)\n",
        "print(\"Sort time : \", time.time() - start)\n",
        "snapshot1 = tracemalloc.take_snapshot()\n",
        "\n",
        "top_stats = snapshot1.compare_to(snapshot0, 'lineno')\n",
        "\n",
        "print(\"[ Top 10 differences ]\")\n",
        "for stat in top_stats[:10]:\n",
        "    print(stat)\n"
      ],
      "execution_count": null,
      "outputs": [
        {
          "output_type": "error",
          "ename": "RecursionError",
          "evalue": "ignored",
          "traceback": [
            "\u001b[0;31m---------------------------------------------------------------------------\u001b[0m",
            "\u001b[0;31mRecursionError\u001b[0m                            Traceback (most recent call last)",
            "\u001b[0;32m<ipython-input-34-0ce75006a12d>\u001b[0m in \u001b[0;36m<module>\u001b[0;34m()\u001b[0m\n\u001b[1;32m      3\u001b[0m \u001b[0msnapshot0\u001b[0m \u001b[0;34m=\u001b[0m \u001b[0mtracemalloc\u001b[0m\u001b[0;34m.\u001b[0m\u001b[0mtake_snapshot\u001b[0m\u001b[0;34m(\u001b[0m\u001b[0;34m)\u001b[0m\u001b[0;34m\u001b[0m\u001b[0;34m\u001b[0m\u001b[0m\n\u001b[1;32m      4\u001b[0m \u001b[0mstart\u001b[0m \u001b[0;34m=\u001b[0m \u001b[0mtime\u001b[0m\u001b[0;34m.\u001b[0m\u001b[0mtime\u001b[0m\u001b[0;34m(\u001b[0m\u001b[0;34m)\u001b[0m\u001b[0;34m\u001b[0m\u001b[0;34m\u001b[0m\u001b[0m\n\u001b[0;32m----> 5\u001b[0;31m \u001b[0mquick_sort\u001b[0m\u001b[0;34m(\u001b[0m\u001b[0marr0\u001b[0m\u001b[0;34m)\u001b[0m\u001b[0;34m\u001b[0m\u001b[0;34m\u001b[0m\u001b[0m\n\u001b[0m\u001b[1;32m      6\u001b[0m \u001b[0mprint\u001b[0m\u001b[0;34m(\u001b[0m\u001b[0;34m\"Sort time : \"\u001b[0m\u001b[0;34m,\u001b[0m \u001b[0mtime\u001b[0m\u001b[0;34m.\u001b[0m\u001b[0mtime\u001b[0m\u001b[0;34m(\u001b[0m\u001b[0;34m)\u001b[0m \u001b[0;34m-\u001b[0m \u001b[0mstart\u001b[0m\u001b[0;34m)\u001b[0m\u001b[0;34m\u001b[0m\u001b[0;34m\u001b[0m\u001b[0m\n\u001b[1;32m      7\u001b[0m \u001b[0msnapshot1\u001b[0m \u001b[0;34m=\u001b[0m \u001b[0mtracemalloc\u001b[0m\u001b[0;34m.\u001b[0m\u001b[0mtake_snapshot\u001b[0m\u001b[0;34m(\u001b[0m\u001b[0;34m)\u001b[0m\u001b[0;34m\u001b[0m\u001b[0;34m\u001b[0m\u001b[0m\n",
            "\u001b[0;32m<ipython-input-32-bd8fbcd3e56b>\u001b[0m in \u001b[0;36mquick_sort\u001b[0;34m(arr)\u001b[0m\n\u001b[1;32m     11\u001b[0m     \u001b[0;32melse\u001b[0m\u001b[0;34m:\u001b[0m\u001b[0;34m\u001b[0m\u001b[0;34m\u001b[0m\u001b[0m\n\u001b[1;32m     12\u001b[0m       \u001b[0mbig_arr\u001b[0m\u001b[0;34m.\u001b[0m\u001b[0mappend\u001b[0m\u001b[0;34m(\u001b[0m\u001b[0marr\u001b[0m\u001b[0;34m[\u001b[0m\u001b[0mi\u001b[0m\u001b[0;34m]\u001b[0m\u001b[0;34m)\u001b[0m\u001b[0;34m\u001b[0m\u001b[0;34m\u001b[0m\u001b[0m\n\u001b[0;32m---> 13\u001b[0;31m   \u001b[0;32mreturn\u001b[0m \u001b[0mquick_sort\u001b[0m\u001b[0;34m(\u001b[0m\u001b[0mless_arr\u001b[0m\u001b[0;34m)\u001b[0m \u001b[0;34m+\u001b[0m \u001b[0;34m[\u001b[0m\u001b[0mpivot\u001b[0m\u001b[0;34m]\u001b[0m \u001b[0;34m+\u001b[0m \u001b[0mquick_sort\u001b[0m\u001b[0;34m(\u001b[0m\u001b[0mbig_arr\u001b[0m\u001b[0;34m)\u001b[0m\u001b[0;34m\u001b[0m\u001b[0;34m\u001b[0m\u001b[0m\n\u001b[0m\u001b[1;32m     14\u001b[0m \u001b[0;34m\u001b[0m\u001b[0m\n",
            "... last 1 frames repeated, from the frame below ...\n",
            "\u001b[0;32m<ipython-input-32-bd8fbcd3e56b>\u001b[0m in \u001b[0;36mquick_sort\u001b[0;34m(arr)\u001b[0m\n\u001b[1;32m     11\u001b[0m     \u001b[0;32melse\u001b[0m\u001b[0;34m:\u001b[0m\u001b[0;34m\u001b[0m\u001b[0;34m\u001b[0m\u001b[0m\n\u001b[1;32m     12\u001b[0m       \u001b[0mbig_arr\u001b[0m\u001b[0;34m.\u001b[0m\u001b[0mappend\u001b[0m\u001b[0;34m(\u001b[0m\u001b[0marr\u001b[0m\u001b[0;34m[\u001b[0m\u001b[0mi\u001b[0m\u001b[0;34m]\u001b[0m\u001b[0;34m)\u001b[0m\u001b[0;34m\u001b[0m\u001b[0;34m\u001b[0m\u001b[0m\n\u001b[0;32m---> 13\u001b[0;31m   \u001b[0;32mreturn\u001b[0m \u001b[0mquick_sort\u001b[0m\u001b[0;34m(\u001b[0m\u001b[0mless_arr\u001b[0m\u001b[0;34m)\u001b[0m \u001b[0;34m+\u001b[0m \u001b[0;34m[\u001b[0m\u001b[0mpivot\u001b[0m\u001b[0;34m]\u001b[0m \u001b[0;34m+\u001b[0m \u001b[0mquick_sort\u001b[0m\u001b[0;34m(\u001b[0m\u001b[0mbig_arr\u001b[0m\u001b[0;34m)\u001b[0m\u001b[0;34m\u001b[0m\u001b[0;34m\u001b[0m\u001b[0m\n\u001b[0m\u001b[1;32m     14\u001b[0m \u001b[0;34m\u001b[0m\u001b[0m\n",
            "\u001b[0;31mRecursionError\u001b[0m: maximum recursion depth exceeded in comparison"
          ]
        }
      ]
    },
    {
      "cell_type": "code",
      "metadata": {
        "colab": {
          "base_uri": "https://localhost:8080/"
        },
        "id": "3Y_sMZcwYgGF",
        "outputId": "7e31ef9b-a432-408f-d2a6-6c6407c4ca37"
      },
      "source": [
        "tracemalloc.start() # 메모리를 확인하기 위한 함수\n",
        "\n",
        "arr0 = []\n",
        "f = open('random.csv', 'r', encoding='utf-8')\n",
        "rdr = csv.reader(f)\n",
        "for line in rdr:\n",
        "  arr0.append(line[0])\n",
        "f.close()\n",
        "\n",
        "arr0temp = arr0 #파이썬 내장 함수를 사용하기 위한 변수  \n",
        "\n",
        "snapshot0 = tracemalloc.take_snapshot() #메모리 비교를 위한 변수\n",
        "start = time.time() #시간 비교를 위한 변수 \n",
        "my_quick_sort(arr0)\n",
        "print(\"my Quick Sort time : \", time.time() - start) #프로그램 시간 계산 \n",
        "snapshot1 = tracemalloc.take_snapshot()\n",
        "\n",
        "top_stats = snapshot1.compare_to(snapshot0, 'lineno') #프로그램 메모리 계산 \n",
        "\n",
        "print(\"[ Top 10 differences ]\") #메모리 현황 출력 \n",
        "for stat in top_stats[:10]:\n",
        "    print(stat)\n"
      ],
      "execution_count": null,
      "outputs": [
        {
          "output_type": "stream",
          "text": [
            "my Quick Sort time :  4.014326095581055\n",
            "[ Top 10 differences ]\n",
            "/usr/local/lib/python3.7/dist-packages/debugpy/_vendored/pydevd/_pydevd_bundle/_debug_adapter/pydevd_schema.py:12242: size=13.1 KiB (+7144 B), count=131 (+53), average=102 B\n",
            "/usr/local/lib/python3.7/dist-packages/debugpy/_vendored/pydevd/_pydevd_bundle/_debug_adapter/pydevd_schema.py:12290: size=0 B (-5328 B), count=0 (-18)\n",
            "/usr/local/lib/python3.7/dist-packages/debugpy/_vendored/pydevd/pydevd_file_utils.py:637: size=4632 B (+4632 B), count=1 (+1), average=4632 B\n",
            "/usr/local/lib/python3.7/dist-packages/debugpy/_vendored/pydevd/_pydevd_bundle/pydevd_net_command_factory_xml.py:180: size=3584 B (+1568 B), count=112 (+49), average=32 B\n",
            "/usr/lib/python3.7/threading.py:1264: size=5184 B (+1512 B), count=72 (+21), average=72 B\n",
            "/usr/local/lib/python3.7/dist-packages/debugpy/_vendored/pydevd/pydevd.py:1564: size=2080 B (+1040 B), count=4 (+2), average=520 B\n",
            "<ipython-input-11-2cd0654930fb>:14: size=1800 B (+576 B), count=25 (+8), average=72 B\n",
            "/usr/lib/python3.7/threading.py:552: size=2760 B (+552 B), count=5 (+1), average=552 B\n",
            "/usr/lib/python3.7/asyncio/base_events.py:1750: size=1608 B (-536 B), count=3 (-1), average=536 B\n",
            "/usr/local/lib/python3.7/dist-packages/debugpy/_vendored/pydevd/_pydevd_bundle/pydevd_net_command.py:73: size=808 B (+488 B), count=9 (+5), average=90 B\n"
          ],
          "name": "stdout"
        }
      ]
    },
    {
      "cell_type": "code",
      "metadata": {
        "id": "fLKHbgFgdCqI",
        "colab": {
          "base_uri": "https://localhost:8080/"
        },
        "outputId": "8612a1d8-8ef2-40a0-c47f-be78708e1d1c"
      },
      "source": [
        "#파이썬 내장함수와 비교 \n",
        "tracemalloc.start()\n",
        "snapshot0 = tracemalloc.take_snapshot()\n",
        "start = time.time() \n",
        "arr0temp.sort()\n",
        "print(\"Sort time : \", time.time() - start)\n",
        "snapshot1 = tracemalloc.take_snapshot()\n",
        "\n",
        "top_stats = snapshot1.compare_to(snapshot0, 'lineno')\n",
        "\n",
        "print(\"[ Top 10 differences ]\")\n",
        "for stat in top_stats[:10]:\n",
        "    print(stat)\n"
      ],
      "execution_count": null,
      "outputs": [
        {
          "output_type": "stream",
          "text": [
            "Sort time :  0.4450497627258301\n",
            "[ Top 10 differences ]\n",
            "/usr/lib/python3.7/inspect.py:1993: size=0 B (-613 KiB), count=0 (-17)\n",
            "/usr/lib/python3.7/inspect.py:2020: size=6320 B (-19.4 KiB), count=32 (-64), average=198 B\n",
            "/usr/lib/python3.7/json/decoder.py:353: size=2757 B (-8070 B), count=30 (-114), average=92 B\n",
            "/usr/local/lib/python3.7/dist-packages/zmq/sugar/socket.py:586: size=1152 B (-8064 B), count=6 (-42), average=192 B\n",
            "/usr/local/lib/python3.7/dist-packages/jupyter_client/session.py:911: size=834 B (-4174 B), count=4 (-28), average=208 B\n",
            "/usr/local/lib/python3.7/dist-packages/debugpy/_vendored/pydevd/_pydevd_bundle/_debug_adapter/pydevd_schema.py:12242: size=9160 B (-3952 B), count=87 (-34), average=105 B\n",
            "/usr/lib/python3.7/inspect.py:2114: size=0 B (-3808 B), count=0 (-68)\n",
            "/usr/local/lib/python3.7/dist-packages/debugpy/_vendored/pydevd/_pydevd_bundle/_debug_adapter/pydevd_schema.py:12290: size=0 B (-2664 B), count=0 (-9)\n",
            "/usr/lib/python3.7/inspect.py:2033: size=0 B (-2448 B), count=0 (-17)\n",
            "/usr/lib/python3.7/inspect.py:2021: size=0 B (-2448 B), count=0 (-17)\n"
          ],
          "name": "stdout"
        }
      ]
    },
    {
      "cell_type": "code",
      "metadata": {
        "colab": {
          "base_uri": "https://localhost:8080/"
        },
        "id": "AGRd_xdvppj1",
        "outputId": "f88ae241-ec04-4520-9f51-825b9ebae215"
      },
      "source": [
        "tracemalloc.start()\n",
        "\n",
        "arr1 = []\n",
        "f = open('asc.csv', 'r', encoding='utf-8')\n",
        "rdr = csv.reader(f)\n",
        "for line in rdr:\n",
        "  arr1.append(line[0])\n",
        "f.close()\n",
        "\n",
        "arr1temp = arr1\n",
        "\n",
        "snapshot0 = tracemalloc.take_snapshot()\n",
        "start = time.time()\n",
        "my_quick_sort(arr1)\n",
        "print(\"my Quick Sort time : \", time.time() - start)\n",
        "snapshot1 = tracemalloc.take_snapshot()\n",
        "\n",
        "top_stats = snapshot1.compare_to(snapshot0, 'lineno')\n",
        "\n",
        "print(\"[ Top 10 differences ]\")\n",
        "for stat in top_stats[:10]:\n",
        "    print(stat)\n"
      ],
      "execution_count": null,
      "outputs": [
        {
          "output_type": "stream",
          "text": [
            "my Quick Sort time :  4.344381809234619\n",
            "[ Top 10 differences ]\n",
            "/usr/local/lib/python3.7/dist-packages/debugpy/_vendored/pydevd/_pydevd_bundle/_debug_adapter/pydevd_schema.py:12242: size=13.3 KiB (+7744 B), count=120 (+66), average=114 B\n",
            "/usr/local/lib/python3.7/dist-packages/debugpy/_vendored/pydevd/pydevd_file_utils.py:637: size=9248 B (+4616 B), count=1 (+0), average=9248 B\n",
            "/usr/local/lib/python3.7/dist-packages/debugpy/_vendored/pydevd/_pydevd_bundle/pydevd_net_command_factory_xml.py:180: size=8160 B (+2784 B), count=255 (+87), average=32 B\n",
            "<ipython-input-11-2cd0654930fb>:14: size=2592 B (+1368 B), count=36 (+19), average=72 B\n",
            "/usr/lib/python3.7/threading.py:1264: size=5544 B (-1296 B), count=77 (-18), average=72 B\n",
            "/usr/local/lib/python3.7/dist-packages/ipykernel/jsonutil.py:191: size=15.8 KiB (-1056 B), count=31 (-2), average=521 B\n",
            "/usr/local/lib/python3.7/dist-packages/ipykernel/iostream.py:161: size=824 B (-832 B), count=7 (-6), average=118 B\n",
            "/usr/local/lib/python3.7/dist-packages/ipykernel/iostream.py:214: size=584 B (-672 B), count=4 (-4), average=146 B\n",
            "/usr/local/lib/python3.7/dist-packages/IPython/core/completer.py:169: size=0 B (-640 B), count=0 (-8)\n",
            "/usr/lib/python3.7/queue.py:179: size=1104 B (+552 B), count=2 (+1), average=552 B\n"
          ],
          "name": "stdout"
        }
      ]
    },
    {
      "cell_type": "code",
      "metadata": {
        "id": "RGrs6dqDdHWk",
        "colab": {
          "base_uri": "https://localhost:8080/"
        },
        "outputId": "57ec27d4-6176-4a36-95b9-1151e5a518b5"
      },
      "source": [
        "tracemalloc.start()\n",
        "snapshot0 = tracemalloc.take_snapshot()\n",
        "start = time.time()\n",
        "arr1temp.sort()\n",
        "print(\"Sort time : \", time.time() - start)\n",
        "snapshot1 = tracemalloc.take_snapshot()\n",
        "\n",
        "top_stats = snapshot1.compare_to(snapshot0, 'lineno')\n",
        "\n",
        "print(\"[ Top 10 differences ]\")\n",
        "for stat in top_stats[:10]:\n",
        "    print(stat)\n"
      ],
      "execution_count": null,
      "outputs": [
        {
          "output_type": "stream",
          "text": [
            "Sort time :  0.03217649459838867\n",
            "[ Top 10 differences ]\n",
            "/usr/lib/python3.7/json/decoder.py:353: size=3762 B (-6226 B), count=34 (-91), average=111 B\n",
            "/usr/local/lib/python3.7/dist-packages/zmq/sugar/socket.py:586: size=1152 B (-5760 B), count=6 (-30), average=192 B\n",
            "/usr/local/lib/python3.7/dist-packages/debugpy/_vendored/pydevd/_pydevd_bundle/_debug_adapter/pydevd_schema.py:12290: size=5328 B (+5328 B), count=18 (+18), average=296 B\n",
            "/usr/local/lib/python3.7/dist-packages/jupyter_client/session.py:911: size=856 B (-2722 B), count=4 (-20), average=214 B\n",
            "/usr/local/lib/python3.7/dist-packages/jupyter_client/session.py:933: size=296 B (-1480 B), count=1 (-5), average=296 B\n",
            "/usr/local/lib/python3.7/dist-packages/jupyter_client/jsonutil.py:67: size=296 B (-1480 B), count=1 (-5), average=296 B\n",
            "/usr/local/lib/python3.7/dist-packages/zmq/utils/jsonapi.py:44: size=0 B (-1433 B), count=0 (-8)\n",
            "/usr/lib/python3.7/enum.py:582: size=0 B (-1400 B), count=0 (-15)\n",
            "/usr/lib/python3.7/enum.py:560: size=0 B (-1040 B), count=0 (-10)\n",
            "/usr/local/lib/python3.7/dist-packages/zmq/sugar/socket.py:583: size=192 B (-968 B), count=1 (-6), average=192 B\n"
          ],
          "name": "stdout"
        }
      ]
    },
    {
      "cell_type": "code",
      "metadata": {
        "colab": {
          "base_uri": "https://localhost:8080/"
        },
        "id": "BCrMaSwdsUff",
        "outputId": "36307bf7-7ecb-4b78-8813-fa275c4ad502"
      },
      "source": [
        "tracemalloc.start()\n",
        "\n",
        "arr2 = []\n",
        "f = open('des.csv', 'r', encoding='utf-8')\n",
        "rdr = csv.reader(f)\n",
        "for line in rdr:\n",
        "  arr2.append(line[0])\n",
        "f.close()\n",
        "\n",
        "arr2temp = arr2\n",
        "\n",
        "snapshot0 = tracemalloc.take_snapshot()\n",
        "start = time.time()\n",
        "my_quick_sort(arr2)\n",
        "print(\"my Quick Sort time : \", time.time() - start)\n",
        "snapshot1 = tracemalloc.take_snapshot()\n",
        "\n",
        "top_stats = snapshot1.compare_to(snapshot0, 'lineno')\n",
        "\n",
        "print(\"[ Top 10 differences ]\")\n",
        "for stat in top_stats[:10]:\n",
        "    print(stat)\n"
      ],
      "execution_count": null,
      "outputs": [
        {
          "output_type": "stream",
          "text": [
            "my Quick Sort time :  4.376770973205566\n",
            "[ Top 10 differences ]\n",
            "/usr/local/lib/python3.7/dist-packages/debugpy/_vendored/pydevd/pydevd_file_utils.py:637: size=18.0 KiB (+9208 B), count=1 (+0), average=18.0 KiB\n",
            "/usr/lib/python3.7/json/decoder.py:353: size=4880 B (-5999 B), count=37 (-80), average=132 B\n",
            "/usr/local/lib/python3.7/dist-packages/zmq/sugar/socket.py:586: size=1152 B (-4608 B), count=6 (-24), average=192 B\n",
            "/usr/local/lib/python3.7/dist-packages/jupyter_client/session.py:911: size=1007 B (-2885 B), count=4 (-16), average=252 B\n",
            "/usr/local/lib/python3.7/dist-packages/debugpy/_vendored/pydevd/_pydevd_bundle/pydevd_net_command_factory_xml.py:180: size=14.2 KiB (+2816 B), count=453 (+88), average=32 B\n",
            "/usr/local/lib/python3.7/dist-packages/debugpy/_vendored/pydevd/_pydevd_bundle/_debug_adapter/pydevd_schema.py:12242: size=15.5 KiB (+2448 B), count=151 (+13), average=105 B\n",
            "/usr/local/lib/python3.7/dist-packages/debugpy/_vendored/pydevd/pydevd_file_utils.py:635: size=4228 B (+2436 B), count=151 (+87), average=28 B\n",
            "<ipython-input-11-2cd0654930fb>:14: size=3888 B (+2160 B), count=54 (+30), average=72 B\n",
            "/usr/local/lib/python3.7/dist-packages/debugpy/_vendored/pydevd/_pydevd_bundle/pydevd_net_command.py:101: size=7334 B (+1971 B), count=1 (-2), average=7334 B\n",
            "/usr/lib/python3.7/threading.py:1264: size=4456 B (-1872 B), count=62 (-26), average=72 B\n"
          ],
          "name": "stdout"
        }
      ]
    },
    {
      "cell_type": "code",
      "metadata": {
        "id": "Lc26GAG1a_k2",
        "colab": {
          "base_uri": "https://localhost:8080/"
        },
        "outputId": "94ebf74f-ab90-4f01-8150-75a065337e07"
      },
      "source": [
        "\n",
        "tracemalloc.start()\n",
        "snapshot0 = tracemalloc.take_snapshot()\n",
        "start = time.time()\n",
        "arr2temp.sort()\n",
        "print(\"Sort time : \", time.time() - start)\n",
        "snapshot1 = tracemalloc.take_snapshot()\n",
        "\n",
        "top_stats = snapshot1.compare_to(snapshot0, 'lineno')\n",
        "\n",
        "print(\"[ Top 10 differences ]\")\n",
        "for stat in top_stats[:10]:\n",
        "    print(stat)\n"
      ],
      "execution_count": null,
      "outputs": [
        {
          "output_type": "stream",
          "text": [
            "Sort time :  0.03453373908996582\n",
            "[ Top 10 differences ]\n",
            "/usr/local/lib/python3.7/dist-packages/debugpy/_vendored/pydevd/_pydevd_bundle/_debug_adapter/pydevd_schema.py:12290: size=7104 B (+7104 B), count=24 (+24), average=296 B\n",
            "/usr/local/lib/python3.7/dist-packages/debugpy/_vendored/pydevd/_pydevd_bundle/pydevd_net_command.py:101: size=5239 B (+4942 B), count=2 (+1), average=2620 B\n",
            "/usr/local/lib/python3.7/dist-packages/debugpy/_vendored/pydevd/_pydevd_bundle/_debug_adapter/pydevd_schema.py:12242: size=10176 B (+2320 B), count=92 (+29), average=111 B\n",
            "/usr/local/lib/python3.7/dist-packages/zmq/utils/jsonapi.py:44: size=0 B (-883 B), count=0 (-4)\n",
            "/usr/local/lib/python3.7/dist-packages/ipykernel/iostream.py:400: size=576 B (+576 B), count=4 (+4), average=144 B\n",
            "/usr/lib/python3.7/threading.py:552: size=22.1 KiB (-552 B), count=41 (-1), average=552 B\n",
            "/usr/local/lib/python3.7/dist-packages/ipykernel/jsonutil.py:191: size=15.2 KiB (-528 B), count=30 (-1), average=520 B\n",
            "<ipython-input-22-79ccad5bbde2>:6: size=516 B (+516 B), count=9 (+9), average=57 B\n",
            "/usr/lib/python3.7/threading.py:1264: size=4168 B (+432 B), count=58 (+6), average=72 B\n",
            "/usr/local/lib/python3.7/dist-packages/debugpy/_vendored/pydevd/_pydevd_bundle/_debug_adapter/pydevd_schema.py:7357: size=376 B (+376 B), count=2 (+2), average=188 B\n"
          ],
          "name": "stdout"
        }
      ]
    }
  ]
}