{
  "cells": [
    {
      "cell_type": "code",
      "execution_count": 1,
      "metadata": {},
      "outputs": [],
      "source": [
        "from app.core.config import settings\n",
        "from app.core.enums import LessonTypeEnum, UserType\n",
        "from app.db.session import SessionLocal, engine, get_db, Base\n",
        "from app.db.init_db import init_db, init_test_db\n",
        "from app.schemas.credit import CreditCreate\n",
        "from app.schemas.lesson import LessonCreate\n",
        "from app.crud.credit import crud_credit\n",
        "from app.crud.lesson import crud_lesson\n",
        "from app.models.lesson import Lesson\n",
        "from app.models.credit import Credit\n",
        "import datetime\n",
        "from sqlalchemy import between\n"
      ]
    },
    {
      "cell_type": "code",
      "execution_count": 2,
      "metadata": {},
      "outputs": [],
      "source": [
        "db = SessionLocal()\n",
        "Base.metadata.create_all(bind=engine)\n",
        "# init_test_db(db)\n"
      ]
    },
    {
      "cell_type": "code",
      "execution_count": 3,
      "metadata": {},
      "outputs": [
        {
          "data": {
            "text/plain": [
              "'dallant-music-develop.c8ki1rplwmad.us-east-1.rds.amazonaws.com'"
            ]
          },
          "execution_count": 3,
          "metadata": {},
          "output_type": "execute_result"
        }
      ],
      "source": [
        "from app.core.config import settings\n",
        "settings.HOST"
      ]
    },
    {
      "cell_type": "code",
      "execution_count": 3,
      "metadata": {},
      "outputs": [],
      "source": [
        "from app.schemas.lesson import LessonCreate"
      ]
    },
    {
      "cell_type": "code",
      "execution_count": 4,
      "metadata": {},
      "outputs": [],
      "source": [
        "for _ in range(6):\n",
        "    crud_credit.create(\n",
        "        db,\n",
        "        obj_in=CreditCreate(\n",
        "            credit_type=LessonTypeEnum.type50,\n",
        "            own_student_id=3,\n",
        "            target_instructor_id=4,\n",
        "            is_used=True,\n",
        "        ),\n",
        "    )"
      ]
    },
    {
      "cell_type": "code",
      "execution_count": 5,
      "metadata": {},
      "outputs": [
        {
          "data": {
            "text/plain": [
              "<app.models.lesson.Lesson at 0x7f56cb510a30>"
            ]
          },
          "execution_count": 5,
          "metadata": {},
          "output_type": "execute_result"
        }
      ],
      "source": [
        "crud_lesson.create(\n",
        "    db,\n",
        "    obj_in=LessonCreate(\n",
        "        lesson_type=LessonTypeEnum.type50,\n",
        "        date=datetime.date(2022, 1, 8),\n",
        "        is_charged=True,\n",
        "        time=datetime.time(11, 0),\n",
        "        student_id=3,\n",
        "        instructor_id=4,\n",
        "        review=\"1월8일 수업입니다. 최대 5000바이트\",\n",
        "        credit_id=17,\n",
        "    ),\n",
        ")\n",
        "crud_lesson.create(\n",
        "    db,\n",
        "    obj_in=LessonCreate(\n",
        "        lesson_type=LessonTypeEnum.type50,\n",
        "        date=datetime.date(2022, 1, 10),\n",
        "        is_charged=True,\n",
        "        time=datetime.time(11, 0),\n",
        "        student_id=3,\n",
        "        instructor_id=4,\n",
        "        review=\"1월10일 수업입니다. 최대 5000바이트\",\n",
        "        credit_id=18,\n",
        "    ),\n",
        ")\n",
        "crud_lesson.create(\n",
        "    db,\n",
        "    obj_in=LessonCreate(\n",
        "        lesson_type=LessonTypeEnum.type50,\n",
        "        date=datetime.date(2022, 1, 31),\n",
        "        is_charged=True,\n",
        "        time=datetime.time(11, 0),\n",
        "        student_id=3,\n",
        "        instructor_id=4,\n",
        "        review=\"1월31일 수업입니다. 최대 5000바이트\",\n",
        "        credit_id=19,\n",
        "    ),\n",
        ")\n",
        "crud_lesson.create(\n",
        "    db,\n",
        "    obj_in=LessonCreate(\n",
        "        lesson_type=LessonTypeEnum.type50,\n",
        "        date=datetime.date(2022, 2, 8),\n",
        "        is_charged=True,\n",
        "        time=datetime.time(11, 0),\n",
        "        student_id=3,\n",
        "        instructor_id=4,\n",
        "        review=\"2월8일 수업입니다. 최대 5000바이트\",\n",
        "        credit_id=20,\n",
        "    ),\n",
        ")\n",
        "crud_lesson.create(\n",
        "    db,\n",
        "    obj_in=LessonCreate(\n",
        "        lesson_type=LessonTypeEnum.type50,\n",
        "        date=datetime.date(2022, 2, 10),\n",
        "        is_charged=False,\n",
        "        time=datetime.time(11, 0),\n",
        "        student_id=3,\n",
        "        instructor_id=4,\n",
        "        review=\"2월 10일 수업입니다. 최대 5000바이트\",\n",
        "        credit_id=21,\n",
        "    ),\n",
        ")\n",
        "crud_lesson.create(\n",
        "    db,\n",
        "    obj_in=LessonCreate(\n",
        "        lesson_type=LessonTypeEnum.type50,\n",
        "        date=datetime.date(2022, 2, 14),\n",
        "        is_charged=False,\n",
        "        time=datetime.time(11, 0),\n",
        "        student_id=3,\n",
        "        instructor_id=4,\n",
        "        review=\"2월 14일 수업입니다. 최대 5000바이트\",\n",
        "        credit_id=22,\n",
        "    ),\n",
        ")"
      ]
    },
    {
      "cell_type": "code",
      "execution_count": 10,
      "metadata": {},
      "outputs": [],
      "source": [
        "obj_in = LessonCreate(**{\n",
        "  \"lesson_type\": \"type50\",\n",
        "  \"date\": \"2022-07-26\",\n",
        "  \"is_charged\": False,\n",
        "  \"time\": \"11:00:00\",\n",
        "  \"student_id\": 2,\n",
        "  \"instructor_id\": 4,\n",
        "  \"review\": \"7월 26일 수업입니다.\",\n",
        "  \"credit_id\": 7,\n",
        "})"
      ]
    },
    {
      "cell_type": "code",
      "execution_count": 11,
      "metadata": {},
      "outputs": [],
      "source": [
        "db_obj = Lesson(\n",
        "            lesson_type=obj_in.lesson_type,\n",
        "            student_id=obj_in.student_id,\n",
        "            instructor_id=obj_in.instructor_id,\n",
        "            date=obj_in.date,\n",
        "            time=obj_in.time,\n",
        "            credit_id=obj_in.credit_id,\n",
        "            is_charged=False,\n",
        "            review=obj_in.review,\n",
        "        )"
      ]
    },
    {
      "cell_type": "code",
      "execution_count": 12,
      "metadata": {},
      "outputs": [],
      "source": [
        "db.add(db_obj)\n",
        "db.commit()"
      ]
    },
    {
      "cell_type": "code",
      "execution_count": 17,
      "metadata": {},
      "outputs": [],
      "source": [
        "credit_obj = db.query(Credit).filter(Credit.id == obj_in.credit_id).first()"
      ]
    },
    {
      "cell_type": "code",
      "execution_count": 18,
      "metadata": {},
      "outputs": [
        {
          "data": {
            "text/plain": [
              "<app.models.credit.Credit at 0x7f655cf02020>"
            ]
          },
          "execution_count": 18,
          "metadata": {},
          "output_type": "execute_result"
        }
      ],
      "source": [
        "credit_obj"
      ]
    },
    {
      "cell_type": "code",
      "execution_count": 9,
      "metadata": {},
      "outputs": [
        {
          "ename": "InvalidRequestError",
          "evalue": "Could not refresh instance '<Lesson at 0x7f655ffa3b80>'",
          "output_type": "error",
          "traceback": [
            "\u001b[0;31m---------------------------------------------------------------------------\u001b[0m",
            "\u001b[0;31mInvalidRequestError\u001b[0m                       Traceback (most recent call last)",
            "\u001b[1;32m/home/sejeonglee/workspaces/dallantmusic-backend/test.ipynb Cell 7\u001b[0m in \u001b[0;36m<cell line: 1>\u001b[0;34m()\u001b[0m\n\u001b[0;32m----> <a href='vscode-notebook-cell://wsl%2Bubuntu/home/sejeonglee/workspaces/dallantmusic-backend/test.ipynb#ch0000016vscode-remote?line=0'>1</a>\u001b[0m db\u001b[39m.\u001b[39;49mrefresh(db_obj)\n",
            "File \u001b[0;32m~/.local/share/virtualenvs/dallantmusic-backend-grsaFriR/lib/python3.10/site-packages/sqlalchemy/orm/session.py:2348\u001b[0m, in \u001b[0;36mSession.refresh\u001b[0;34m(self, instance, attribute_names, with_for_update)\u001b[0m\n\u001b[1;32m   2336\u001b[0m stmt \u001b[39m=\u001b[39m sql\u001b[39m.\u001b[39mselect(object_mapper(instance))\n\u001b[1;32m   2337\u001b[0m \u001b[39mif\u001b[39;00m (\n\u001b[1;32m   2338\u001b[0m     loading\u001b[39m.\u001b[39mload_on_ident(\n\u001b[1;32m   2339\u001b[0m         \u001b[39mself\u001b[39m,\n\u001b[0;32m   (...)\u001b[0m\n\u001b[1;32m   2346\u001b[0m     \u001b[39mis\u001b[39;00m \u001b[39mNone\u001b[39;00m\n\u001b[1;32m   2347\u001b[0m ):\n\u001b[0;32m-> 2348\u001b[0m     \u001b[39mraise\u001b[39;00m sa_exc\u001b[39m.\u001b[39mInvalidRequestError(\n\u001b[1;32m   2349\u001b[0m         \u001b[39m\"\u001b[39m\u001b[39mCould not refresh instance \u001b[39m\u001b[39m'\u001b[39m\u001b[39m%s\u001b[39;00m\u001b[39m'\u001b[39m\u001b[39m\"\u001b[39m \u001b[39m%\u001b[39m instance_str(instance)\n\u001b[1;32m   2350\u001b[0m     )\n",
            "\u001b[0;31mInvalidRequestError\u001b[0m: Could not refresh instance '<Lesson at 0x7f655ffa3b80>'"
          ]
        }
      ],
      "source": [
        "db.refresh(db_obj)"
      ]
    },
    {
      "cell_type": "code",
      "execution_count": 8,
      "metadata": {},
      "outputs": [
        {
          "ename": "RecursionError",
          "evalue": "maximum recursion depth exceeded while calling a Python object",
          "output_type": "error",
          "traceback": [
            "\u001b[0;31m---------------------------------------------------------------------------\u001b[0m",
            "\u001b[0;31mRecursionError\u001b[0m                            Traceback (most recent call last)",
            "\u001b[1;32m/home/sejeonglee/workspaces/dallantmusic-backend/test.ipynb Cell 13\u001b[0m in \u001b[0;36m<cell line: 1>\u001b[0;34m()\u001b[0m\n\u001b[0;32m----> <a href='vscode-notebook-cell://wsl%2Bubuntu/home/sejeonglee/workspaces/dallantmusic-backend/test.ipynb#ch0000011vscode-remote?line=0'>1</a>\u001b[0m crud_lesson\u001b[39m.\u001b[39;49mcreate_lesson_and_disable_credit(db, obj_in \u001b[39m=\u001b[39;49m lesson)\n",
            "File \u001b[0;32m~/workspaces/dallantmusic-backend/app/crud/lesson.py:100\u001b[0m, in \u001b[0;36mCRUDLesson.create_lesson_and_disable_credit\u001b[0;34m(self, db, obj_in)\u001b[0m\n\u001b[1;32m     98\u001b[0m db\u001b[39m.\u001b[39madd(db_obj)\n\u001b[1;32m     99\u001b[0m credit_obj \u001b[39m=\u001b[39m db\u001b[39m.\u001b[39mquery(Credit)\u001b[39m.\u001b[39mfilter(Credit\u001b[39m.\u001b[39mid \u001b[39m==\u001b[39m obj_in\u001b[39m.\u001b[39mcredit_id)\n\u001b[0;32m--> 100\u001b[0m crud_credit\u001b[39m.\u001b[39;49mupdate(db, db_obj\u001b[39m=\u001b[39;49mcredit_obj, obj_in\u001b[39m=\u001b[39;49m{\u001b[39m\"\u001b[39;49m\u001b[39mis_used\u001b[39;49m\u001b[39m\"\u001b[39;49m: \u001b[39mTrue\u001b[39;49;00m})\n\u001b[1;32m    101\u001b[0m db\u001b[39m.\u001b[39mcommit()\n\u001b[1;32m    102\u001b[0m db\u001b[39m.\u001b[39mrefresh(db_obj)\n",
            "File \u001b[0;32m~/workspaces/dallantmusic-backend/app/crud/credit.py:103\u001b[0m, in \u001b[0;36mCRUDCredit.update\u001b[0;34m(self, db, db_obj, obj_in)\u001b[0m\n\u001b[1;32m    101\u001b[0m \u001b[39melse\u001b[39;00m:\n\u001b[1;32m    102\u001b[0m     update_data \u001b[39m=\u001b[39m obj_in\u001b[39m.\u001b[39mdict(exclude_unset\u001b[39m=\u001b[39m\u001b[39mTrue\u001b[39;00m)\n\u001b[0;32m--> 103\u001b[0m \u001b[39mreturn\u001b[39;00m \u001b[39msuper\u001b[39;49m()\u001b[39m.\u001b[39;49mupdate(db, db_obj\u001b[39m=\u001b[39;49mdb_obj, obj_in\u001b[39m=\u001b[39;49mupdate_data)\n",
            "File \u001b[0;32m~/workspaces/dallantmusic-backend/app/crud/base.py:49\u001b[0m, in \u001b[0;36mCRUDBase.update\u001b[0;34m(self, db, db_obj, obj_in)\u001b[0m\n\u001b[1;32m     42\u001b[0m \u001b[39mdef\u001b[39;00m \u001b[39mupdate\u001b[39m(\n\u001b[1;32m     43\u001b[0m     \u001b[39mself\u001b[39m,\n\u001b[1;32m     44\u001b[0m     db: Session,\n\u001b[0;32m   (...)\u001b[0m\n\u001b[1;32m     47\u001b[0m     obj_in: Union[UpdateSchemaType, Dict[\u001b[39mstr\u001b[39m, Any]]\n\u001b[1;32m     48\u001b[0m ) \u001b[39m-\u001b[39m\u001b[39m>\u001b[39m ModelType:\n\u001b[0;32m---> 49\u001b[0m     obj_data \u001b[39m=\u001b[39m jsonable_encoder(db_obj)\n\u001b[1;32m     50\u001b[0m     \u001b[39mif\u001b[39;00m \u001b[39misinstance\u001b[39m(obj_in, \u001b[39mdict\u001b[39m):\n\u001b[1;32m     51\u001b[0m         update_data \u001b[39m=\u001b[39m obj_in\n",
            "File \u001b[0;32m~/.local/share/virtualenvs/dallantmusic-backend-grsaFriR/lib/python3.10/site-packages/fastapi/encoders.py:161\u001b[0m, in \u001b[0;36mjsonable_encoder\u001b[0;34m(obj, include, exclude, by_alias, skip_defaults, exclude_unset, exclude_defaults, exclude_none, custom_encoder, sqlalchemy_safe)\u001b[0m\n\u001b[1;32m    159\u001b[0m         errors\u001b[39m.\u001b[39mappend(e)\n\u001b[1;32m    160\u001b[0m         \u001b[39mraise\u001b[39;00m \u001b[39mValueError\u001b[39;00m(errors)\n\u001b[0;32m--> 161\u001b[0m \u001b[39mreturn\u001b[39;00m jsonable_encoder(\n\u001b[1;32m    162\u001b[0m     data,\n\u001b[1;32m    163\u001b[0m     by_alias\u001b[39m=\u001b[39;49mby_alias,\n\u001b[1;32m    164\u001b[0m     exclude_unset\u001b[39m=\u001b[39;49mexclude_unset,\n\u001b[1;32m    165\u001b[0m     exclude_defaults\u001b[39m=\u001b[39;49mexclude_defaults,\n\u001b[1;32m    166\u001b[0m     exclude_none\u001b[39m=\u001b[39;49mexclude_none,\n\u001b[1;32m    167\u001b[0m     custom_encoder\u001b[39m=\u001b[39;49mcustom_encoder,\n\u001b[1;32m    168\u001b[0m     sqlalchemy_safe\u001b[39m=\u001b[39;49msqlalchemy_safe,\n\u001b[1;32m    169\u001b[0m )\n",
            "File \u001b[0;32m~/.local/share/virtualenvs/dallantmusic-backend-grsaFriR/lib/python3.10/site-packages/fastapi/encoders.py:109\u001b[0m, in \u001b[0;36mjsonable_encoder\u001b[0;34m(obj, include, exclude, by_alias, skip_defaults, exclude_unset, exclude_defaults, exclude_none, custom_encoder, sqlalchemy_safe)\u001b[0m\n\u001b[1;32m     92\u001b[0m     \u001b[39mif\u001b[39;00m (\n\u001b[1;32m     93\u001b[0m         (\n\u001b[1;32m     94\u001b[0m             \u001b[39mnot\u001b[39;00m sqlalchemy_safe\n\u001b[0;32m   (...)\u001b[0m\n\u001b[1;32m     99\u001b[0m         \u001b[39mand\u001b[39;00m ((include \u001b[39mand\u001b[39;00m key \u001b[39min\u001b[39;00m include) \u001b[39mor\u001b[39;00m key \u001b[39mnot\u001b[39;00m \u001b[39min\u001b[39;00m exclude)\n\u001b[1;32m    100\u001b[0m     ):\n\u001b[1;32m    101\u001b[0m         encoded_key \u001b[39m=\u001b[39m jsonable_encoder(\n\u001b[1;32m    102\u001b[0m             key,\n\u001b[1;32m    103\u001b[0m             by_alias\u001b[39m=\u001b[39mby_alias,\n\u001b[0;32m   (...)\u001b[0m\n\u001b[1;32m    107\u001b[0m             sqlalchemy_safe\u001b[39m=\u001b[39msqlalchemy_safe,\n\u001b[1;32m    108\u001b[0m         )\n\u001b[0;32m--> 109\u001b[0m         encoded_value \u001b[39m=\u001b[39m jsonable_encoder(\n\u001b[1;32m    110\u001b[0m             value,\n\u001b[1;32m    111\u001b[0m             by_alias\u001b[39m=\u001b[39;49mby_alias,\n\u001b[1;32m    112\u001b[0m             exclude_unset\u001b[39m=\u001b[39;49mexclude_unset,\n\u001b[1;32m    113\u001b[0m             exclude_none\u001b[39m=\u001b[39;49mexclude_none,\n\u001b[1;32m    114\u001b[0m             custom_encoder\u001b[39m=\u001b[39;49mcustom_encoder,\n\u001b[1;32m    115\u001b[0m             sqlalchemy_safe\u001b[39m=\u001b[39;49msqlalchemy_safe,\n\u001b[1;32m    116\u001b[0m         )\n\u001b[1;32m    117\u001b[0m         encoded_dict[encoded_key] \u001b[39m=\u001b[39m encoded_value\n\u001b[1;32m    118\u001b[0m \u001b[39mreturn\u001b[39;00m encoded_dict\n",
            "File \u001b[0;32m~/.local/share/virtualenvs/dallantmusic-backend-grsaFriR/lib/python3.10/site-packages/fastapi/encoders.py:161\u001b[0m, in \u001b[0;36mjsonable_encoder\u001b[0;34m(obj, include, exclude, by_alias, skip_defaults, exclude_unset, exclude_defaults, exclude_none, custom_encoder, sqlalchemy_safe)\u001b[0m\n\u001b[1;32m    159\u001b[0m         errors\u001b[39m.\u001b[39mappend(e)\n\u001b[1;32m    160\u001b[0m         \u001b[39mraise\u001b[39;00m \u001b[39mValueError\u001b[39;00m(errors)\n\u001b[0;32m--> 161\u001b[0m \u001b[39mreturn\u001b[39;00m jsonable_encoder(\n\u001b[1;32m    162\u001b[0m     data,\n\u001b[1;32m    163\u001b[0m     by_alias\u001b[39m=\u001b[39;49mby_alias,\n\u001b[1;32m    164\u001b[0m     exclude_unset\u001b[39m=\u001b[39;49mexclude_unset,\n\u001b[1;32m    165\u001b[0m     exclude_defaults\u001b[39m=\u001b[39;49mexclude_defaults,\n\u001b[1;32m    166\u001b[0m     exclude_none\u001b[39m=\u001b[39;49mexclude_none,\n\u001b[1;32m    167\u001b[0m     custom_encoder\u001b[39m=\u001b[39;49mcustom_encoder,\n\u001b[1;32m    168\u001b[0m     sqlalchemy_safe\u001b[39m=\u001b[39;49msqlalchemy_safe,\n\u001b[1;32m    169\u001b[0m )\n",
            "File \u001b[0;32m~/.local/share/virtualenvs/dallantmusic-backend-grsaFriR/lib/python3.10/site-packages/fastapi/encoders.py:109\u001b[0m, in \u001b[0;36mjsonable_encoder\u001b[0;34m(obj, include, exclude, by_alias, skip_defaults, exclude_unset, exclude_defaults, exclude_none, custom_encoder, sqlalchemy_safe)\u001b[0m\n\u001b[1;32m     92\u001b[0m     \u001b[39mif\u001b[39;00m (\n\u001b[1;32m     93\u001b[0m         (\n\u001b[1;32m     94\u001b[0m             \u001b[39mnot\u001b[39;00m sqlalchemy_safe\n\u001b[0;32m   (...)\u001b[0m\n\u001b[1;32m     99\u001b[0m         \u001b[39mand\u001b[39;00m ((include \u001b[39mand\u001b[39;00m key \u001b[39min\u001b[39;00m include) \u001b[39mor\u001b[39;00m key \u001b[39mnot\u001b[39;00m \u001b[39min\u001b[39;00m exclude)\n\u001b[1;32m    100\u001b[0m     ):\n\u001b[1;32m    101\u001b[0m         encoded_key \u001b[39m=\u001b[39m jsonable_encoder(\n\u001b[1;32m    102\u001b[0m             key,\n\u001b[1;32m    103\u001b[0m             by_alias\u001b[39m=\u001b[39mby_alias,\n\u001b[0;32m   (...)\u001b[0m\n\u001b[1;32m    107\u001b[0m             sqlalchemy_safe\u001b[39m=\u001b[39msqlalchemy_safe,\n\u001b[1;32m    108\u001b[0m         )\n\u001b[0;32m--> 109\u001b[0m         encoded_value \u001b[39m=\u001b[39m jsonable_encoder(\n\u001b[1;32m    110\u001b[0m             value,\n\u001b[1;32m    111\u001b[0m             by_alias\u001b[39m=\u001b[39;49mby_alias,\n\u001b[1;32m    112\u001b[0m             exclude_unset\u001b[39m=\u001b[39;49mexclude_unset,\n\u001b[1;32m    113\u001b[0m             exclude_none\u001b[39m=\u001b[39;49mexclude_none,\n\u001b[1;32m    114\u001b[0m             custom_encoder\u001b[39m=\u001b[39;49mcustom_encoder,\n\u001b[1;32m    115\u001b[0m             sqlalchemy_safe\u001b[39m=\u001b[39;49msqlalchemy_safe,\n\u001b[1;32m    116\u001b[0m         )\n\u001b[1;32m    117\u001b[0m         encoded_dict[encoded_key] \u001b[39m=\u001b[39m encoded_value\n\u001b[1;32m    118\u001b[0m \u001b[39mreturn\u001b[39;00m encoded_dict\n",
            "File \u001b[0;32m~/.local/share/virtualenvs/dallantmusic-backend-grsaFriR/lib/python3.10/site-packages/fastapi/encoders.py:101\u001b[0m, in \u001b[0;36mjsonable_encoder\u001b[0;34m(obj, include, exclude, by_alias, skip_defaults, exclude_unset, exclude_defaults, exclude_none, custom_encoder, sqlalchemy_safe)\u001b[0m\n\u001b[1;32m     91\u001b[0m \u001b[39mfor\u001b[39;00m key, value \u001b[39min\u001b[39;00m obj\u001b[39m.\u001b[39mitems():\n\u001b[1;32m     92\u001b[0m     \u001b[39mif\u001b[39;00m (\n\u001b[1;32m     93\u001b[0m         (\n\u001b[1;32m     94\u001b[0m             \u001b[39mnot\u001b[39;00m sqlalchemy_safe\n\u001b[0;32m   (...)\u001b[0m\n\u001b[1;32m     99\u001b[0m         \u001b[39mand\u001b[39;00m ((include \u001b[39mand\u001b[39;00m key \u001b[39min\u001b[39;00m include) \u001b[39mor\u001b[39;00m key \u001b[39mnot\u001b[39;00m \u001b[39min\u001b[39;00m exclude)\n\u001b[1;32m    100\u001b[0m     ):\n\u001b[0;32m--> 101\u001b[0m         encoded_key \u001b[39m=\u001b[39m jsonable_encoder(\n\u001b[1;32m    102\u001b[0m             key,\n\u001b[1;32m    103\u001b[0m             by_alias\u001b[39m=\u001b[39;49mby_alias,\n\u001b[1;32m    104\u001b[0m             exclude_unset\u001b[39m=\u001b[39;49mexclude_unset,\n\u001b[1;32m    105\u001b[0m             exclude_none\u001b[39m=\u001b[39;49mexclude_none,\n\u001b[1;32m    106\u001b[0m             custom_encoder\u001b[39m=\u001b[39;49mcustom_encoder,\n\u001b[1;32m    107\u001b[0m             sqlalchemy_safe\u001b[39m=\u001b[39;49msqlalchemy_safe,\n\u001b[1;32m    108\u001b[0m         )\n\u001b[1;32m    109\u001b[0m         encoded_value \u001b[39m=\u001b[39m jsonable_encoder(\n\u001b[1;32m    110\u001b[0m             value,\n\u001b[1;32m    111\u001b[0m             by_alias\u001b[39m=\u001b[39mby_alias,\n\u001b[0;32m   (...)\u001b[0m\n\u001b[1;32m    115\u001b[0m             sqlalchemy_safe\u001b[39m=\u001b[39msqlalchemy_safe,\n\u001b[1;32m    116\u001b[0m         )\n\u001b[1;32m    117\u001b[0m         encoded_dict[encoded_key] \u001b[39m=\u001b[39m encoded_value\n",
            "File \u001b[0;32m~/.local/share/virtualenvs/dallantmusic-backend-grsaFriR/lib/python3.10/site-packages/fastapi/encoders.py:161\u001b[0m, in \u001b[0;36mjsonable_encoder\u001b[0;34m(obj, include, exclude, by_alias, skip_defaults, exclude_unset, exclude_defaults, exclude_none, custom_encoder, sqlalchemy_safe)\u001b[0m\n\u001b[1;32m    159\u001b[0m         errors\u001b[39m.\u001b[39mappend(e)\n\u001b[1;32m    160\u001b[0m         \u001b[39mraise\u001b[39;00m \u001b[39mValueError\u001b[39;00m(errors)\n\u001b[0;32m--> 161\u001b[0m \u001b[39mreturn\u001b[39;00m jsonable_encoder(\n\u001b[1;32m    162\u001b[0m     data,\n\u001b[1;32m    163\u001b[0m     by_alias\u001b[39m=\u001b[39;49mby_alias,\n\u001b[1;32m    164\u001b[0m     exclude_unset\u001b[39m=\u001b[39;49mexclude_unset,\n\u001b[1;32m    165\u001b[0m     exclude_defaults\u001b[39m=\u001b[39;49mexclude_defaults,\n\u001b[1;32m    166\u001b[0m     exclude_none\u001b[39m=\u001b[39;49mexclude_none,\n\u001b[1;32m    167\u001b[0m     custom_encoder\u001b[39m=\u001b[39;49mcustom_encoder,\n\u001b[1;32m    168\u001b[0m     sqlalchemy_safe\u001b[39m=\u001b[39;49msqlalchemy_safe,\n\u001b[1;32m    169\u001b[0m )\n",
            "File \u001b[0;32m~/.local/share/virtualenvs/dallantmusic-backend-grsaFriR/lib/python3.10/site-packages/fastapi/encoders.py:109\u001b[0m, in \u001b[0;36mjsonable_encoder\u001b[0;34m(obj, include, exclude, by_alias, skip_defaults, exclude_unset, exclude_defaults, exclude_none, custom_encoder, sqlalchemy_safe)\u001b[0m\n\u001b[1;32m     92\u001b[0m     \u001b[39mif\u001b[39;00m (\n\u001b[1;32m     93\u001b[0m         (\n\u001b[1;32m     94\u001b[0m             \u001b[39mnot\u001b[39;00m sqlalchemy_safe\n\u001b[0;32m   (...)\u001b[0m\n\u001b[1;32m     99\u001b[0m         \u001b[39mand\u001b[39;00m ((include \u001b[39mand\u001b[39;00m key \u001b[39min\u001b[39;00m include) \u001b[39mor\u001b[39;00m key \u001b[39mnot\u001b[39;00m \u001b[39min\u001b[39;00m exclude)\n\u001b[1;32m    100\u001b[0m     ):\n\u001b[1;32m    101\u001b[0m         encoded_key \u001b[39m=\u001b[39m jsonable_encoder(\n\u001b[1;32m    102\u001b[0m             key,\n\u001b[1;32m    103\u001b[0m             by_alias\u001b[39m=\u001b[39mby_alias,\n\u001b[0;32m   (...)\u001b[0m\n\u001b[1;32m    107\u001b[0m             sqlalchemy_safe\u001b[39m=\u001b[39msqlalchemy_safe,\n\u001b[1;32m    108\u001b[0m         )\n\u001b[0;32m--> 109\u001b[0m         encoded_value \u001b[39m=\u001b[39m jsonable_encoder(\n\u001b[1;32m    110\u001b[0m             value,\n\u001b[1;32m    111\u001b[0m             by_alias\u001b[39m=\u001b[39;49mby_alias,\n\u001b[1;32m    112\u001b[0m             exclude_unset\u001b[39m=\u001b[39;49mexclude_unset,\n\u001b[1;32m    113\u001b[0m             exclude_none\u001b[39m=\u001b[39;49mexclude_none,\n\u001b[1;32m    114\u001b[0m             custom_encoder\u001b[39m=\u001b[39;49mcustom_encoder,\n\u001b[1;32m    115\u001b[0m             sqlalchemy_safe\u001b[39m=\u001b[39;49msqlalchemy_safe,\n\u001b[1;32m    116\u001b[0m         )\n\u001b[1;32m    117\u001b[0m         encoded_dict[encoded_key] \u001b[39m=\u001b[39m encoded_value\n\u001b[1;32m    118\u001b[0m \u001b[39mreturn\u001b[39;00m encoded_dict\n",
            "File \u001b[0;32m~/.local/share/virtualenvs/dallantmusic-backend-grsaFriR/lib/python3.10/site-packages/fastapi/encoders.py:161\u001b[0m, in \u001b[0;36mjsonable_encoder\u001b[0;34m(obj, include, exclude, by_alias, skip_defaults, exclude_unset, exclude_defaults, exclude_none, custom_encoder, sqlalchemy_safe)\u001b[0m\n\u001b[1;32m    159\u001b[0m         errors\u001b[39m.\u001b[39mappend(e)\n\u001b[1;32m    160\u001b[0m         \u001b[39mraise\u001b[39;00m \u001b[39mValueError\u001b[39;00m(errors)\n\u001b[0;32m--> 161\u001b[0m \u001b[39mreturn\u001b[39;00m jsonable_encoder(\n\u001b[1;32m    162\u001b[0m     data,\n\u001b[1;32m    163\u001b[0m     by_alias\u001b[39m=\u001b[39;49mby_alias,\n\u001b[1;32m    164\u001b[0m     exclude_unset\u001b[39m=\u001b[39;49mexclude_unset,\n\u001b[1;32m    165\u001b[0m     exclude_defaults\u001b[39m=\u001b[39;49mexclude_defaults,\n\u001b[1;32m    166\u001b[0m     exclude_none\u001b[39m=\u001b[39;49mexclude_none,\n\u001b[1;32m    167\u001b[0m     custom_encoder\u001b[39m=\u001b[39;49mcustom_encoder,\n\u001b[1;32m    168\u001b[0m     sqlalchemy_safe\u001b[39m=\u001b[39;49msqlalchemy_safe,\n\u001b[1;32m    169\u001b[0m )\n",
            "    \u001b[0;31m[... skipping similar frames: jsonable_encoder at line 161 (1 times)]\u001b[0m\n",
            "File \u001b[0;32m~/.local/share/virtualenvs/dallantmusic-backend-grsaFriR/lib/python3.10/site-packages/fastapi/encoders.py:109\u001b[0m, in \u001b[0;36mjsonable_encoder\u001b[0;34m(obj, include, exclude, by_alias, skip_defaults, exclude_unset, exclude_defaults, exclude_none, custom_encoder, sqlalchemy_safe)\u001b[0m\n\u001b[1;32m     92\u001b[0m     \u001b[39mif\u001b[39;00m (\n\u001b[1;32m     93\u001b[0m         (\n\u001b[1;32m     94\u001b[0m             \u001b[39mnot\u001b[39;00m sqlalchemy_safe\n\u001b[0;32m   (...)\u001b[0m\n\u001b[1;32m     99\u001b[0m         \u001b[39mand\u001b[39;00m ((include \u001b[39mand\u001b[39;00m key \u001b[39min\u001b[39;00m include) \u001b[39mor\u001b[39;00m key \u001b[39mnot\u001b[39;00m \u001b[39min\u001b[39;00m exclude)\n\u001b[1;32m    100\u001b[0m     ):\n\u001b[1;32m    101\u001b[0m         encoded_key \u001b[39m=\u001b[39m jsonable_encoder(\n\u001b[1;32m    102\u001b[0m             key,\n\u001b[1;32m    103\u001b[0m             by_alias\u001b[39m=\u001b[39mby_alias,\n\u001b[0;32m   (...)\u001b[0m\n\u001b[1;32m    107\u001b[0m             sqlalchemy_safe\u001b[39m=\u001b[39msqlalchemy_safe,\n\u001b[1;32m    108\u001b[0m         )\n\u001b[0;32m--> 109\u001b[0m         encoded_value \u001b[39m=\u001b[39m jsonable_encoder(\n\u001b[1;32m    110\u001b[0m             value,\n\u001b[1;32m    111\u001b[0m             by_alias\u001b[39m=\u001b[39;49mby_alias,\n\u001b[1;32m    112\u001b[0m             exclude_unset\u001b[39m=\u001b[39;49mexclude_unset,\n\u001b[1;32m    113\u001b[0m             exclude_none\u001b[39m=\u001b[39;49mexclude_none,\n\u001b[1;32m    114\u001b[0m             custom_encoder\u001b[39m=\u001b[39;49mcustom_encoder,\n\u001b[1;32m    115\u001b[0m             sqlalchemy_safe\u001b[39m=\u001b[39;49msqlalchemy_safe,\n\u001b[1;32m    116\u001b[0m         )\n\u001b[1;32m    117\u001b[0m         encoded_dict[encoded_key] \u001b[39m=\u001b[39m encoded_value\n\u001b[1;32m    118\u001b[0m \u001b[39mreturn\u001b[39;00m encoded_dict\n",
            "    \u001b[0;31m[... skipping similar frames: jsonable_encoder at line 161 (1773 times), jsonable_encoder at line 109 (1181 times)]\u001b[0m\n",
            "File \u001b[0;32m~/.local/share/virtualenvs/dallantmusic-backend-grsaFriR/lib/python3.10/site-packages/fastapi/encoders.py:109\u001b[0m, in \u001b[0;36mjsonable_encoder\u001b[0;34m(obj, include, exclude, by_alias, skip_defaults, exclude_unset, exclude_defaults, exclude_none, custom_encoder, sqlalchemy_safe)\u001b[0m\n\u001b[1;32m     92\u001b[0m     \u001b[39mif\u001b[39;00m (\n\u001b[1;32m     93\u001b[0m         (\n\u001b[1;32m     94\u001b[0m             \u001b[39mnot\u001b[39;00m sqlalchemy_safe\n\u001b[0;32m   (...)\u001b[0m\n\u001b[1;32m     99\u001b[0m         \u001b[39mand\u001b[39;00m ((include \u001b[39mand\u001b[39;00m key \u001b[39min\u001b[39;00m include) \u001b[39mor\u001b[39;00m key \u001b[39mnot\u001b[39;00m \u001b[39min\u001b[39;00m exclude)\n\u001b[1;32m    100\u001b[0m     ):\n\u001b[1;32m    101\u001b[0m         encoded_key \u001b[39m=\u001b[39m jsonable_encoder(\n\u001b[1;32m    102\u001b[0m             key,\n\u001b[1;32m    103\u001b[0m             by_alias\u001b[39m=\u001b[39mby_alias,\n\u001b[0;32m   (...)\u001b[0m\n\u001b[1;32m    107\u001b[0m             sqlalchemy_safe\u001b[39m=\u001b[39msqlalchemy_safe,\n\u001b[1;32m    108\u001b[0m         )\n\u001b[0;32m--> 109\u001b[0m         encoded_value \u001b[39m=\u001b[39m jsonable_encoder(\n\u001b[1;32m    110\u001b[0m             value,\n\u001b[1;32m    111\u001b[0m             by_alias\u001b[39m=\u001b[39;49mby_alias,\n\u001b[1;32m    112\u001b[0m             exclude_unset\u001b[39m=\u001b[39;49mexclude_unset,\n\u001b[1;32m    113\u001b[0m             exclude_none\u001b[39m=\u001b[39;49mexclude_none,\n\u001b[1;32m    114\u001b[0m             custom_encoder\u001b[39m=\u001b[39;49mcustom_encoder,\n\u001b[1;32m    115\u001b[0m             sqlalchemy_safe\u001b[39m=\u001b[39;49msqlalchemy_safe,\n\u001b[1;32m    116\u001b[0m         )\n\u001b[1;32m    117\u001b[0m         encoded_dict[encoded_key] \u001b[39m=\u001b[39m encoded_value\n\u001b[1;32m    118\u001b[0m \u001b[39mreturn\u001b[39;00m encoded_dict\n",
            "File \u001b[0;32m~/.local/share/virtualenvs/dallantmusic-backend-grsaFriR/lib/python3.10/site-packages/fastapi/encoders.py:161\u001b[0m, in \u001b[0;36mjsonable_encoder\u001b[0;34m(obj, include, exclude, by_alias, skip_defaults, exclude_unset, exclude_defaults, exclude_none, custom_encoder, sqlalchemy_safe)\u001b[0m\n\u001b[1;32m    159\u001b[0m         errors\u001b[39m.\u001b[39mappend(e)\n\u001b[1;32m    160\u001b[0m         \u001b[39mraise\u001b[39;00m \u001b[39mValueError\u001b[39;00m(errors)\n\u001b[0;32m--> 161\u001b[0m \u001b[39mreturn\u001b[39;00m jsonable_encoder(\n\u001b[1;32m    162\u001b[0m     data,\n\u001b[1;32m    163\u001b[0m     by_alias\u001b[39m=\u001b[39;49mby_alias,\n\u001b[1;32m    164\u001b[0m     exclude_unset\u001b[39m=\u001b[39;49mexclude_unset,\n\u001b[1;32m    165\u001b[0m     exclude_defaults\u001b[39m=\u001b[39;49mexclude_defaults,\n\u001b[1;32m    166\u001b[0m     exclude_none\u001b[39m=\u001b[39;49mexclude_none,\n\u001b[1;32m    167\u001b[0m     custom_encoder\u001b[39m=\u001b[39;49mcustom_encoder,\n\u001b[1;32m    168\u001b[0m     sqlalchemy_safe\u001b[39m=\u001b[39;49msqlalchemy_safe,\n\u001b[1;32m    169\u001b[0m )\n",
            "File \u001b[0;32m~/.local/share/virtualenvs/dallantmusic-backend-grsaFriR/lib/python3.10/site-packages/fastapi/encoders.py:101\u001b[0m, in \u001b[0;36mjsonable_encoder\u001b[0;34m(obj, include, exclude, by_alias, skip_defaults, exclude_unset, exclude_defaults, exclude_none, custom_encoder, sqlalchemy_safe)\u001b[0m\n\u001b[1;32m     91\u001b[0m \u001b[39mfor\u001b[39;00m key, value \u001b[39min\u001b[39;00m obj\u001b[39m.\u001b[39mitems():\n\u001b[1;32m     92\u001b[0m     \u001b[39mif\u001b[39;00m (\n\u001b[1;32m     93\u001b[0m         (\n\u001b[1;32m     94\u001b[0m             \u001b[39mnot\u001b[39;00m sqlalchemy_safe\n\u001b[0;32m   (...)\u001b[0m\n\u001b[1;32m     99\u001b[0m         \u001b[39mand\u001b[39;00m ((include \u001b[39mand\u001b[39;00m key \u001b[39min\u001b[39;00m include) \u001b[39mor\u001b[39;00m key \u001b[39mnot\u001b[39;00m \u001b[39min\u001b[39;00m exclude)\n\u001b[1;32m    100\u001b[0m     ):\n\u001b[0;32m--> 101\u001b[0m         encoded_key \u001b[39m=\u001b[39m jsonable_encoder(\n\u001b[1;32m    102\u001b[0m             key,\n\u001b[1;32m    103\u001b[0m             by_alias\u001b[39m=\u001b[39;49mby_alias,\n\u001b[1;32m    104\u001b[0m             exclude_unset\u001b[39m=\u001b[39;49mexclude_unset,\n\u001b[1;32m    105\u001b[0m             exclude_none\u001b[39m=\u001b[39;49mexclude_none,\n\u001b[1;32m    106\u001b[0m             custom_encoder\u001b[39m=\u001b[39;49mcustom_encoder,\n\u001b[1;32m    107\u001b[0m             sqlalchemy_safe\u001b[39m=\u001b[39;49msqlalchemy_safe,\n\u001b[1;32m    108\u001b[0m         )\n\u001b[1;32m    109\u001b[0m         encoded_value \u001b[39m=\u001b[39m jsonable_encoder(\n\u001b[1;32m    110\u001b[0m             value,\n\u001b[1;32m    111\u001b[0m             by_alias\u001b[39m=\u001b[39mby_alias,\n\u001b[0;32m   (...)\u001b[0m\n\u001b[1;32m    115\u001b[0m             sqlalchemy_safe\u001b[39m=\u001b[39msqlalchemy_safe,\n\u001b[1;32m    116\u001b[0m         )\n\u001b[1;32m    117\u001b[0m         encoded_dict[encoded_key] \u001b[39m=\u001b[39m encoded_value\n",
            "File \u001b[0;32m~/.local/share/virtualenvs/dallantmusic-backend-grsaFriR/lib/python3.10/site-packages/fastapi/encoders.py:52\u001b[0m, in \u001b[0;36mjsonable_encoder\u001b[0;34m(obj, include, exclude, by_alias, skip_defaults, exclude_unset, exclude_defaults, exclude_none, custom_encoder, sqlalchemy_safe)\u001b[0m\n\u001b[1;32m     50\u001b[0m \u001b[39mif\u001b[39;00m exclude \u001b[39mis\u001b[39;00m \u001b[39mnot\u001b[39;00m \u001b[39mNone\u001b[39;00m \u001b[39mand\u001b[39;00m \u001b[39mnot\u001b[39;00m \u001b[39misinstance\u001b[39m(exclude, \u001b[39mset\u001b[39m):\n\u001b[1;32m     51\u001b[0m     exclude \u001b[39m=\u001b[39m \u001b[39mset\u001b[39m(exclude)\n\u001b[0;32m---> 52\u001b[0m \u001b[39mif\u001b[39;00m \u001b[39misinstance\u001b[39;49m(obj, BaseModel):\n\u001b[1;32m     53\u001b[0m     encoder \u001b[39m=\u001b[39m \u001b[39mgetattr\u001b[39m(obj\u001b[39m.\u001b[39mConfig, \u001b[39m\"\u001b[39m\u001b[39mjson_encoders\u001b[39m\u001b[39m\"\u001b[39m, {})\n\u001b[1;32m     54\u001b[0m     \u001b[39mif\u001b[39;00m custom_encoder:\n",
            "\u001b[0;31mRecursionError\u001b[0m: maximum recursion depth exceeded while calling a Python object"
          ]
        }
      ],
      "source": [
        "crud_lesson.create_lesson_and_disable_credit(db, obj_in = lesson)"
      ]
    },
    {
      "cell_type": "markdown",
      "metadata": {},
      "source": [
        "### 코드 저장"
      ]
    },
    {
      "cell_type": "code",
      "execution_count": null,
      "metadata": {},
      "outputs": [],
      "source": [
        "# 수강 완료 시 크레딧 사용 완료\n",
        "credit_id = 12\n",
        "crud_credit.update_is_used_to_true(db, credit_id)"
      ]
    },
    {
      "cell_type": "code",
      "execution_count": 9,
      "metadata": {},
      "outputs": [
        {
          "data": {
            "text/plain": [
              "<models.credit.Credit at 0x7f0e717da380>"
            ]
          },
          "execution_count": 9,
          "metadata": {},
          "output_type": "execute_result"
        }
      ],
      "source": [
        "# 결제 시, 혹은 외상 신청시 크레딧 생성\n",
        "instructor_id = 4\n",
        "student_id = 5\n",
        "crud_credit.create(\n",
        "    db,\n",
        "    obj_in=CreditCreate(\n",
        "        credit_type=LessonTypeEnum.typePostPay,\n",
        "        own_student_id=student_id,\n",
        "        target_instructor_id=instructor_id,\n",
        "    ),\n",
        ")\n"
      ]
    },
    {
      "cell_type": "code",
      "execution_count": 6,
      "metadata": {},
      "outputs": [],
      "source": [
        "# instructor 번호 왔을 때 학생 리스트 보내주기\n",
        "def student_list_instructor():\n",
        "    instructor_id = 4\n",
        "    crud_credit.get_all_students_unused_credits_to_instructor(\n",
        "        db, instructor_id\n",
        "    )\n",
        "\n",
        "\n",
        "# 학생별 크레딜 리스트\n",
        "def credit_list_by_student():\n",
        "    instructor_id = 4\n",
        "    student_id = 5\n",
        "    crud_credit.get_student_unused_credits_to_instructor(\n",
        "        db, instructor_id, student_id\n",
        "    )\n"
      ]
    },
    {
      "cell_type": "code",
      "execution_count": null,
      "metadata": {},
      "outputs": [],
      "source": []
    }
  ],
  "metadata": {
    "kernelspec": {
      "display_name": "Python 3.10.4 ('dallantmusic-backend-grsaFriR')",
      "language": "python",
      "name": "python3"
    },
    "language_info": {
      "codemirror_mode": {
        "name": "ipython",
        "version": 3
      },
      "file_extension": ".py",
      "mimetype": "text/x-python",
      "name": "python",
      "nbconvert_exporter": "python",
      "pygments_lexer": "ipython3",
      "version": "3.10.4"
    },
    "orig_nbformat": 4,
    "vscode": {
      "interpreter": {
        "hash": "1a1bfac050e46988a43dc00f51989725778c65ed22a7fe56335463ce9d8d7720"
      }
    }
  },
  "nbformat": 4,
  "nbformat_minor": 2
}
