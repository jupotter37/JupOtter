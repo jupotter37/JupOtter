{
 "cells": [
  {
   "cell_type": "markdown",
   "id": "58ba4329-5230-404d-987a-aa10028cdad8",
   "metadata": {},
   "source": [
    "# Iteration"
   ]
  },
  {
   "cell_type": "markdown",
   "id": "c2de9708-c96f-4db0-8fef-7377f2139136",
   "metadata": {},
   "source": [
    "Def: \"Code wiederholt ausführen\""
   ]
  },
  {
   "cell_type": "code",
   "execution_count": 1,
   "id": "6304836c-6da1-478e-957e-8ee4510d139f",
   "metadata": {},
   "outputs": [],
   "source": [
    "import time"
   ]
  },
  {
   "cell_type": "markdown",
   "id": "966c34af-6ba9-45dd-9629-c1e559c9cdb0",
   "metadata": {},
   "source": [
    "## Rekursion"
   ]
  },
  {
   "cell_type": "markdown",
   "id": "e9544e95-94a6-4169-af99-7e00d553d745",
   "metadata": {},
   "source": [
    "Def: \"Eine Rekursion ist eine Funktion, die sich selbst aufruft, und einen (mind. einen) *Ausweg* hat\""
   ]
  },
  {
   "cell_type": "markdown",
   "id": "ee084d4f-f86e-4854-9fc5-39c958c33006",
   "metadata": {
    "jp-MarkdownHeadingCollapsed": true
   },
   "source": [
    "#### Bsp: `countdown()`"
   ]
  },
  {
   "cell_type": "code",
   "execution_count": 25,
   "id": "1de80c83-0cf9-4879-9e94-e7e5e786c63b",
   "metadata": {},
   "outputs": [],
   "source": [
    "def countdown(n):\n",
    "    if n == 0:  # Ausweg => Base Case\n",
    "        print(\"Happy New Year!\")\n",
    "    else:\n",
    "        print(n)       # Code, der wiederholt wird\n",
    "        time.sleep(1)  # Code, der wiederholt wird\n",
    "        countdown(n - 1)"
   ]
  },
  {
   "cell_type": "code",
   "execution_count": 26,
   "id": "9091625d-b79d-4480-8c66-968741274726",
   "metadata": {},
   "outputs": [
    {
     "name": "stdout",
     "output_type": "stream",
     "text": [
      "5\n",
      "4\n",
      "3\n",
      "2\n",
      "1\n",
      "Happy New Year!\n"
     ]
    }
   ],
   "source": [
    "countdown(5)"
   ]
  },
  {
   "cell_type": "markdown",
   "id": "e8fa8fcf-33f7-4e84-921a-d279d8a7515c",
   "metadata": {
    "jp-MarkdownHeadingCollapsed": true
   },
   "source": [
    "### Unendliche Rekursion"
   ]
  },
  {
   "cell_type": "markdown",
   "id": "24a91552-ac4b-4ebe-a2b5-bceda1f2aad7",
   "metadata": {},
   "source": [
    "FALSCH!"
   ]
  },
  {
   "cell_type": "code",
   "execution_count": 29,
   "id": "44ccc7a5-5606-41f0-9859-84d76dbdadfb",
   "metadata": {},
   "outputs": [],
   "source": [
    "def recursion(n):\n",
    "    recursion(n + 1)"
   ]
  },
  {
   "cell_type": "code",
   "execution_count": 31,
   "id": "c5719aac-30ed-4452-b5cd-694e00bb3ed1",
   "metadata": {},
   "outputs": [
    {
     "ename": "RecursionError",
     "evalue": "maximum recursion depth exceeded",
     "output_type": "error",
     "traceback": [
      "\u001b[0;31m---------------------------------------------------------------------------\u001b[0m",
      "\u001b[0;31mRecursionError\u001b[0m                            Traceback (most recent call last)",
      "Cell \u001b[0;32mIn[31], line 1\u001b[0m\n\u001b[0;32m----> 1\u001b[0m \u001b[43mrecursion\u001b[49m\u001b[43m(\u001b[49m\u001b[38;5;241;43m10\u001b[39;49m\u001b[43m)\u001b[49m\n",
      "Cell \u001b[0;32mIn[29], line 2\u001b[0m, in \u001b[0;36mrecursion\u001b[0;34m(n)\u001b[0m\n\u001b[1;32m      1\u001b[0m \u001b[38;5;28;01mdef\u001b[39;00m \u001b[38;5;21mrecursion\u001b[39m(n):\n\u001b[0;32m----> 2\u001b[0m     \u001b[43mrecursion\u001b[49m\u001b[43m(\u001b[49m\u001b[43mn\u001b[49m\u001b[43m \u001b[49m\u001b[38;5;241;43m+\u001b[39;49m\u001b[43m \u001b[49m\u001b[38;5;241;43m1\u001b[39;49m\u001b[43m)\u001b[49m\n",
      "Cell \u001b[0;32mIn[29], line 2\u001b[0m, in \u001b[0;36mrecursion\u001b[0;34m(n)\u001b[0m\n\u001b[1;32m      1\u001b[0m \u001b[38;5;28;01mdef\u001b[39;00m \u001b[38;5;21mrecursion\u001b[39m(n):\n\u001b[0;32m----> 2\u001b[0m     \u001b[43mrecursion\u001b[49m\u001b[43m(\u001b[49m\u001b[43mn\u001b[49m\u001b[43m \u001b[49m\u001b[38;5;241;43m+\u001b[39;49m\u001b[43m \u001b[49m\u001b[38;5;241;43m1\u001b[39;49m\u001b[43m)\u001b[49m\n",
      "    \u001b[0;31m[... skipping similar frames: recursion at line 2 (2975 times)]\u001b[0m\n",
      "Cell \u001b[0;32mIn[29], line 2\u001b[0m, in \u001b[0;36mrecursion\u001b[0;34m(n)\u001b[0m\n\u001b[1;32m      1\u001b[0m \u001b[38;5;28;01mdef\u001b[39;00m \u001b[38;5;21mrecursion\u001b[39m(n):\n\u001b[0;32m----> 2\u001b[0m     \u001b[43mrecursion\u001b[49m\u001b[43m(\u001b[49m\u001b[43mn\u001b[49m\u001b[43m \u001b[49m\u001b[38;5;241;43m+\u001b[39;49m\u001b[43m \u001b[49m\u001b[38;5;241;43m1\u001b[39;49m\u001b[43m)\u001b[49m\n",
      "\u001b[0;31mRecursionError\u001b[0m: maximum recursion depth exceeded"
     ]
    }
   ],
   "source": [
    "recursion(10)"
   ]
  },
  {
   "cell_type": "markdown",
   "id": "2c6c1f7b-4ece-499b-a842-ac3eff9bd707",
   "metadata": {},
   "source": [
    "## Looping"
   ]
  },
  {
   "cell_type": "markdown",
   "id": "ea186756-de69-4f6a-8ebf-4947977cf6a2",
   "metadata": {
    "jp-MarkdownHeadingCollapsed": true
   },
   "source": [
    "#### Bsp: `countdown()`"
   ]
  },
  {
   "cell_type": "code",
   "execution_count": 4,
   "id": "7ba81eec-736c-44bf-b19e-4850cbe7eb44",
   "metadata": {},
   "outputs": [],
   "source": [
    "def countdown(n, *, prompt=\"Happy Birthday!\"):\n",
    "    for i in range(n):\n",
    "        print(n - i)   # Code, der wiederholt wird\n",
    "        time.sleep(1)  # Code, der wiederholt wird\n",
    "\n",
    "    print(prompt)"
   ]
  },
  {
   "cell_type": "code",
   "execution_count": 7,
   "id": "d5617650-b89c-4653-b3dc-b2fae8cb5e8f",
   "metadata": {},
   "outputs": [
    {
     "name": "stdout",
     "output_type": "stream",
     "text": [
      "10\n",
      "9\n",
      "8\n",
      "7\n",
      "6\n",
      "5\n",
      "4\n",
      "3\n",
      "2\n",
      "1\n",
      "Happy New Year!\n"
     ]
    }
   ],
   "source": [
    "countdown(10, prompt=\"Happy New Year!\")"
   ]
  },
  {
   "cell_type": "code",
   "execution_count": 10,
   "id": "d89a14f7-0140-4f70-9c22-2f3069148789",
   "metadata": {},
   "outputs": [],
   "source": [
    "def countdown(n, *, prompt=\"Happy Birthday!\"):\n",
    "    for i in range(n, 0, -1):\n",
    "        print(i)       # Code, der wiederholt wird\n",
    "        time.sleep(1)  # Code, der wiederholt wird\n",
    "\n",
    "    print(prompt)"
   ]
  },
  {
   "cell_type": "code",
   "execution_count": 11,
   "id": "6c3dbc8b-aa4a-4aa9-b927-06df6a447054",
   "metadata": {},
   "outputs": [
    {
     "name": "stdout",
     "output_type": "stream",
     "text": [
      "Happy Birthday!\n"
     ]
    }
   ],
   "source": [
    "countdown(5)"
   ]
  },
  {
   "cell_type": "markdown",
   "id": "89884786-3202-436e-abf6-f2d0fc4b95ad",
   "metadata": {},
   "source": [
    "```python\n",
    "while condition:\n",
    "    block of code, Zeile 1\n",
    "    block of code, Zeile 2\n",
    "    ...\n",
    "```"
   ]
  },
  {
   "cell_type": "code",
   "execution_count": 23,
   "id": "8f8384c0-73a5-49f6-a8d5-7c0fbbc4ab68",
   "metadata": {},
   "outputs": [],
   "source": [
    "def countdown(n, *, prompt=\"Happy Birthday!\"):\n",
    "    while n > 0:\n",
    "        print(n)       # Code, der wiederholt wird\n",
    "        time.sleep(1)  # Code, der wiederholt wird\n",
    "    \n",
    "        n = n - 1  # wir müssen den while-Loop aktiv managen => hier: unnötig\n",
    "\n",
    "    print(prompt)"
   ]
  },
  {
   "cell_type": "code",
   "execution_count": 24,
   "id": "d6ed89d6-8264-46e4-9b04-6f54fe671d5b",
   "metadata": {},
   "outputs": [
    {
     "name": "stdout",
     "output_type": "stream",
     "text": [
      "5\n",
      "4\n",
      "3\n",
      "2\n",
      "1\n",
      "Happy Birthday!\n"
     ]
    }
   ],
   "source": [
    "countdown(5)"
   ]
  }
 ],
 "metadata": {
  "kernelspec": {
   "display_name": "Python 3.12",
   "language": "python",
   "name": "python3.12"
  },
  "language_info": {
   "codemirror_mode": {
    "name": "ipython",
    "version": 3
   },
   "file_extension": ".py",
   "mimetype": "text/x-python",
   "name": "python",
   "nbconvert_exporter": "python",
   "pygments_lexer": "ipython3",
   "version": "3.12.0"
  }
 },
 "nbformat": 4,
 "nbformat_minor": 5
}
