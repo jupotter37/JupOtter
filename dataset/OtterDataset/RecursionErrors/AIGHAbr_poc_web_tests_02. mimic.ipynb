{
 "cells": [
  {
   "cell_type": "markdown",
   "metadata": {},
   "source": [
    "# Setup"
   ]
  },
  {
   "cell_type": "code",
   "execution_count": 1,
   "metadata": {},
   "outputs": [
    {
     "name": "stdout",
     "output_type": "stream",
     "text": [
      "/Users/bihaiko/anaconda3/bin/python: No module named build\n",
      "\n",
      "Requirement already satisfied: NELL in /Users/bihaiko/anaconda3/lib/python3.11/site-packages (0.1)\n",
      "Note: you may need to restart the kernel to use updated packages.\n"
     ]
    },
    {
     "data": {
      "text/plain": [
       "'All packages installed'"
      ]
     },
     "metadata": {},
     "output_type": "display_data"
    }
   ],
   "source": [
    "from NELL.Main import Main\n",
    "from NELL.logger.Logger import Logger\n",
    "from NELL.logger.Snapshoter import Snapshoter\n",
    "from IPython.display import display, clear_output\n",
    "\n",
    "def install_requires_packages():\n",
    "    global all_packages_installed\n",
    "\n",
    "    try: \n",
    "        if all_packages_installed: return\n",
    "    except: pass\n",
    "\n",
    "    %pip install -r requirements.txt\n",
    "    all_packages_installed = True\n",
    "    clear_output()  \n",
    "\n",
    "\n",
    "def build_nell_test_tool():\n",
    "\n",
    "    import sys\n",
    "    import subprocess\n",
    "\n",
    "    python_executable = sys.executable\n",
    "\n",
    "    try:\n",
    "        result = subprocess.run(\n",
    "            [python_executable, \"-m\", \"build\"], \n",
    "                stdout=subprocess.PIPE, \n",
    "                stderr=subprocess.PIPE, \n",
    "                check=True)\n",
    "\n",
    "        display(\"NELL (Nell Test Tool) Built Successfully!\")\n",
    "\n",
    "    except subprocess.CalledProcessError as e:\n",
    "        print(e.stderr.decode())\n",
    "\n",
    "install_requires_packages()\n",
    "\n",
    "build_nell_test_tool()\n",
    "%pip install NELL\n",
    "\n",
    "display(\"All packages installed\")"
   ]
  },
  {
   "cell_type": "markdown",
   "metadata": {},
   "source": [
    "# Mimic"
   ]
  },
  {
   "cell_type": "code",
   "execution_count": 2,
   "metadata": {},
   "outputs": [
    {
     "data": {
      "text/plain": [
       "<NELL.logger.Mimic.Mimic at 0x103c45c90>"
      ]
     },
     "execution_count": 2,
     "metadata": {},
     "output_type": "execute_result"
    },
    {
     "name": "stdout",
     "output_type": "stream",
     "text": [
      "Doppelganging at port 8000\n"
     ]
    },
    {
     "name": "stderr",
     "output_type": "stream",
     "text": [
      "127.0.0.1 - - [15/Feb/2024 02:38:21] \"OPTIONS / HTTP/1.1\" 200 -\n",
      "Traceback (most recent call last):\n",
      "  File \"/Users/bihaiko/VSCodeProjects/poc_web_tests/NELL/logger/LogHttpServer.py\", line 55, in do_POST\n",
      "    LoggerHolder.get().log_event(entry)\n",
      "  File \"/Users/bihaiko/VSCodeProjects/poc_web_tests/NELL/logger/LogHttpServer.py\", line 25, in log_event\n",
      "    self.log_event(event)\n",
      "  File \"/Users/bihaiko/VSCodeProjects/poc_web_tests/NELL/logger/LogHttpServer.py\", line 25, in log_event\n",
      "    self.log_event(event)\n",
      "  File \"/Users/bihaiko/VSCodeProjects/poc_web_tests/NELL/logger/LogHttpServer.py\", line 25, in log_event\n",
      "    self.log_event(event)\n",
      "  [Previous line repeated 2983 more times]\n",
      "RecursionError: maximum recursion depth exceeded\n",
      "127.0.0.1 - - [15/Feb/2024 02:38:21] code 500, message maximum recursion depth exceeded\n",
      "127.0.0.1 - - [15/Feb/2024 02:38:21] \"POST / HTTP/1.1\" 500 -\n",
      "Exception in thread Thread-4 (check_browser):\n",
      "Traceback (most recent call last):\n",
      "  File \"/Users/bihaiko/anaconda3/lib/python3.11/threading.py\", line 1038, in _bootstrap_inner\n",
      "    self.run()\n",
      "  File \"/Users/bihaiko/anaconda3/lib/python3.11/threading.py\", line 975, in run\n",
      "    self._target(*self._args, **self._kwargs)\n",
      "  File \"/Users/bihaiko/VSCodeProjects/poc_web_tests/NELL/logger/Mimic.py\", line 104, in check_browser\n",
      "    if not self.is_page_ready():\n",
      "           ^^^^^^^^^^^^^^^^^^^^\n",
      "  File \"/Users/bihaiko/VSCodeProjects/poc_web_tests/NELL/logger/Mimic.py\", line 139, in is_page_ready\n",
      "    if self.selenium.driver.current_url is None: return False\n",
      "       ^^^^^^^^^^^^^^^^^^^^^^^^^^^^^^^^\n",
      "  File \"/Users/bihaiko/anaconda3/lib/python3.11/site-packages/selenium/webdriver/remote/webdriver.py\", line 437, in current_url\n",
      "    return self.execute(Command.GET_CURRENT_URL)[\"value\"]\n",
      "           ^^^^^^^^^^^^^^^^^^^^^^^^^^^^^^^^^^^^^\n",
      "  File \"/Users/bihaiko/anaconda3/lib/python3.11/site-packages/selenium/webdriver/remote/webdriver.py\", line 347, in execute\n",
      "    self.error_handler.check_response(response)\n",
      "  File \"/Users/bihaiko/anaconda3/lib/python3.11/site-packages/selenium/webdriver/remote/errorhandler.py\", line 229, in check_response\n",
      "    raise exception_class(message, screen, stacktrace)\n",
      "selenium.common.exceptions.WebDriverException: Message: disconnected: not connected to DevTools\n",
      "  (failed to check if window was closed: disconnected: not connected to DevTools)\n",
      "  (Session info: chrome=121.0.6167.184)\n",
      "Stacktrace:\n",
      "0   chromedriver                        0x0000000102a927dc chromedriver + 4040668\n",
      "1   chromedriver                        0x0000000102a8a9e0 chromedriver + 4008416\n",
      "2   chromedriver                        0x00000001026fd870 chromedriver + 284784\n",
      "3   chromedriver                        0x00000001026e60d8 chromedriver + 188632\n",
      "4   chromedriver                        0x00000001026e6004 chromedriver + 188420\n",
      "5   chromedriver                        0x000000010277a778 chromedriver + 796536\n",
      "6   chromedriver                        0x000000010273574c chromedriver + 513868\n",
      "7   chromedriver                        0x0000000102736044 chromedriver + 516164\n",
      "8   chromedriver                        0x0000000102a57a04 chromedriver + 3799556\n",
      "9   chromedriver                        0x0000000102a5bee4 chromedriver + 3817188\n",
      "10  chromedriver                        0x0000000102a40260 chromedriver + 3703392\n",
      "11  chromedriver                        0x0000000102a5ca2c chromedriver + 3820076\n",
      "12  chromedriver                        0x0000000102a3301c chromedriver + 3649564\n",
      "13  chromedriver                        0x0000000102a79e3c chromedriver + 3939900\n",
      "14  chromedriver                        0x0000000102a79fb4 chromedriver + 3940276\n",
      "15  chromedriver                        0x0000000102a8a660 chromedriver + 4007520\n",
      "16  libsystem_pthread.dylib             0x000000018a51a034 _pthread_start + 136\n",
      "17  libsystem_pthread.dylib             0x000000018a514e3c thread_start + 8\n",
      "\n",
      "Traceback (most recent call last):\n",
      "  File \"/Users/bihaiko/VSCodeProjects/poc_web_tests/NELL/logger/LogHttpServer.py\", line 55, in do_POST\n",
      "    LoggerHolder.get().log_event(entry)\n",
      "  File \"/Users/bihaiko/VSCodeProjects/poc_web_tests/NELL/logger/LogHttpServer.py\", line 25, in log_event\n",
      "    self.log_event(event)\n",
      "  File \"/Users/bihaiko/VSCodeProjects/poc_web_tests/NELL/logger/LogHttpServer.py\", line 25, in log_event\n",
      "    self.log_event(event)\n",
      "  File \"/Users/bihaiko/VSCodeProjects/poc_web_tests/NELL/logger/LogHttpServer.py\", line 25, in log_event\n",
      "    self.log_event(event)\n",
      "  [Previous line repeated 2983 more times]\n",
      "RecursionError: maximum recursion depth exceeded\n",
      "127.0.0.1 - - [15/Feb/2024 14:48:58] code 500, message maximum recursion depth exceeded\n",
      "127.0.0.1 - - [15/Feb/2024 14:48:58] \"POST / HTTP/1.1\" 500 -\n",
      "127.0.0.1 - - [15/Feb/2024 14:48:58] \"OPTIONS / HTTP/1.1\" 200 -\n",
      "127.0.0.1 - - [15/Feb/2024 14:48:58] \"OPTIONS / HTTP/1.1\" 200 -\n",
      "127.0.0.1 - - [15/Feb/2024 14:48:58] \"OPTIONS / HTTP/1.1\" 200 -\n",
      "Traceback (most recent call last):\n",
      "  File \"/Users/bihaiko/VSCodeProjects/poc_web_tests/NELL/logger/LogHttpServer.py\", line 55, in do_POST\n",
      "    LoggerHolder.get().log_event(entry)\n",
      "  File \"/Users/bihaiko/VSCodeProjects/poc_web_tests/NELL/logger/LogHttpServer.py\", line 25, in log_event\n",
      "    self.log_event(event)\n",
      "  File \"/Users/bihaiko/VSCodeProjects/poc_web_tests/NELL/logger/LogHttpServer.py\", line 25, in log_event\n",
      "    self.log_event(event)\n",
      "  File \"/Users/bihaiko/VSCodeProjects/poc_web_tests/NELL/logger/LogHttpServer.py\", line 25, in log_event\n",
      "    self.log_event(event)\n",
      "  [Previous line repeated 2983 more times]\n",
      "RecursionError: maximum recursion depth exceeded\n",
      "127.0.0.1 - - [15/Feb/2024 14:48:58] code 500, message maximum recursion depth exceeded\n",
      "127.0.0.1 - - [15/Feb/2024 14:48:58] \"POST / HTTP/1.1\" 500 -\n",
      "Traceback (most recent call last):\n",
      "  File \"/Users/bihaiko/VSCodeProjects/poc_web_tests/NELL/logger/LogHttpServer.py\", line 55, in do_POST\n",
      "    LoggerHolder.get().log_event(entry)\n",
      "  File \"/Users/bihaiko/VSCodeProjects/poc_web_tests/NELL/logger/LogHttpServer.py\", line 25, in log_event\n",
      "    self.log_event(event)\n",
      "  File \"/Users/bihaiko/VSCodeProjects/poc_web_tests/NELL/logger/LogHttpServer.py\", line 25, in log_event\n",
      "    self.log_event(event)\n",
      "  File \"/Users/bihaiko/VSCodeProjects/poc_web_tests/NELL/logger/LogHttpServer.py\", line 25, in log_event\n",
      "    self.log_event(event)\n",
      "  [Previous line repeated 2983 more times]\n",
      "RecursionError: maximum recursion depth exceeded\n",
      "127.0.0.1 - - [15/Feb/2024 14:48:58] code 500, message maximum recursion depth exceeded\n",
      "127.0.0.1 - - [15/Feb/2024 14:48:58] \"POST / HTTP/1.1\" 500 -\n",
      "127.0.0.1 - - [15/Feb/2024 14:49:08] \"OPTIONS / HTTP/1.1\" 200 -\n",
      "Traceback (most recent call last):\n",
      "  File \"/Users/bihaiko/VSCodeProjects/poc_web_tests/NELL/logger/LogHttpServer.py\", line 55, in do_POST\n",
      "    LoggerHolder.get().log_event(entry)\n",
      "  File \"/Users/bihaiko/VSCodeProjects/poc_web_tests/NELL/logger/LogHttpServer.py\", line 25, in log_event\n",
      "    self.log_event(event)\n",
      "  File \"/Users/bihaiko/VSCodeProjects/poc_web_tests/NELL/logger/LogHttpServer.py\", line 25, in log_event\n",
      "    self.log_event(event)\n",
      "  File \"/Users/bihaiko/VSCodeProjects/poc_web_tests/NELL/logger/LogHttpServer.py\", line 25, in log_event\n",
      "    self.log_event(event)\n",
      "  [Previous line repeated 2983 more times]\n",
      "RecursionError: maximum recursion depth exceeded\n",
      "127.0.0.1 - - [15/Feb/2024 14:49:08] code 500, message maximum recursion depth exceeded\n",
      "127.0.0.1 - - [15/Feb/2024 14:49:08] \"POST / HTTP/1.1\" 500 -\n",
      "127.0.0.1 - - [15/Feb/2024 14:49:13] \"OPTIONS / HTTP/1.1\" 200 -\n",
      "Traceback (most recent call last):\n",
      "  File \"/Users/bihaiko/VSCodeProjects/poc_web_tests/NELL/logger/LogHttpServer.py\", line 55, in do_POST\n",
      "    LoggerHolder.get().log_event(entry)\n",
      "  File \"/Users/bihaiko/VSCodeProjects/poc_web_tests/NELL/logger/LogHttpServer.py\", line 25, in log_event\n",
      "    self.log_event(event)\n",
      "  File \"/Users/bihaiko/VSCodeProjects/poc_web_tests/NELL/logger/LogHttpServer.py\", line 25, in log_event\n",
      "    self.log_event(event)\n",
      "  File \"/Users/bihaiko/VSCodeProjects/poc_web_tests/NELL/logger/LogHttpServer.py\", line 25, in log_event\n",
      "    self.log_event(event)\n",
      "  [Previous line repeated 2983 more times]\n",
      "RecursionError: maximum recursion depth exceeded\n",
      "127.0.0.1 - - [15/Feb/2024 14:49:13] code 500, message maximum recursion depth exceeded\n",
      "127.0.0.1 - - [15/Feb/2024 14:49:13] \"POST / HTTP/1.1\" 500 -\n"
     ]
    }
   ],
   "source": [
    "from NELL.logger.Mimic import Mimic\n",
    "\n",
    "\n",
    "Mimic()"
   ]
  }
 ],
 "metadata": {
  "kernelspec": {
   "display_name": "Python 3",
   "language": "python",
   "name": "python3"
  },
  "language_info": {
   "codemirror_mode": {
    "name": "ipython",
    "version": 3
   },
   "file_extension": ".py",
   "mimetype": "text/x-python",
   "name": "python",
   "nbconvert_exporter": "python",
   "pygments_lexer": "ipython3",
   "version": "3.11.5"
  }
 },
 "nbformat": 4,
 "nbformat_minor": 2
}
