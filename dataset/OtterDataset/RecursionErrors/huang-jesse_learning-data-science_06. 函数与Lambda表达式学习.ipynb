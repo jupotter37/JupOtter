{
 "cells": [
  {
   "cell_type": "markdown",
   "metadata": {},
   "source": [
    "# 06. 函数与Lambda表达式学习\n",
    "---\n",
    "## 1. 函数\n",
    "\n",
    "### 文档字符串（docstring）\n",
    "- 在函数开始位置的第一个注释字符串\n",
    "是位于函数开始位置的一个字符串， 解释了函数的接口（“doc”是“documentation”的缩写）\n",
    "按照惯例，所有的文档字符串都是三重引号（triple-quoted）字符串，也被称为多行字符串， 因为三重引号允许字符串超过一行。\n",
    "\n",
    "它很简要（terse），但是包括了他人使用此函数时需要了解的关键信息。 它扼要地说明该函数做什么（不介绍背后的具体细节）。 它解释了每个形参对函数的行为有什么影响，以及每个形参应有的类型 （如果它不明显的话）。\n",
    "\n",
    "写这种文档是接口设计中很重要的一部分。 一个设计良好的接口应该很容易解释， 如果你很难解释你的某个函数，那么你的接口也许还有改进空间。\n"
   ]
  },
  {
   "cell_type": "code",
   "execution_count": 101,
   "metadata": {},
   "outputs": [
    {
     "name": "stdout",
     "output_type": "stream",
     "text": [
      "hello world!\n",
      "Help on function print_helloworld in module __main__:\n",
      "\n",
      "print_helloworld()\n",
      "    this is a function for print hello world\n",
      "\n"
     ]
    }
   ],
   "source": [
    "def print_helloworld():\n",
    "    \"\"\"\n",
    "    this is a function for print hello world\n",
    "    \"\"\"\n",
    "    print(\"hello world!\")\n",
    "print_helloworld()\n",
    "help(print_helloworld)"
   ]
  },
  {
   "cell_type": "markdown",
   "metadata": {},
   "source": [
    "### 参数组合\n",
    "\n",
    "在 Python 中定义函数，可以用位置参数、默认参数、可变参数、命名关键字参数和关键字参数，这 5 种参数中的 4 个都可以一起使用，但是注意，参数定义的顺序必须是：\n",
    "\n",
    "- 位置参数、默认参数、可变参数和关键字参数。\n",
    "- 位置参数、默认参数、命名关键字参数和关键字参数。\n",
    "\n",
    "要注意定义可变参数和关键字参数的语法：\n",
    "\n",
    "- `*args` 是可变参数，`args` 接收的是一个 `tuple`\n",
    "- `**kw` 是关键字参数，`kw` 接收的是一个 `dict`\n",
    "\n",
    "命名关键字参数是为了限制调用者可以传入的参数名，同时可以提供默认值。定义命名关键字参数不要忘了写分隔符 `*`，否则定义的是位置参数。\n",
    "\n",
    "警告：虽然可以组合多达 5 种参数，但不要同时使用太多的组合，否则函数很难懂。"
   ]
  },
  {
   "cell_type": "code",
   "execution_count": 42,
   "metadata": {},
   "outputs": [
    {
     "name": "stdout",
     "output_type": "stream",
     "text": [
      "arg1: test1\n",
      "arg2: test\n",
      "()\n",
      "{'nkw1': 'a'}\n"
     ]
    }
   ],
   "source": [
    "def printInfo(arg1, arg2 = 'test', *args, **kwargs):\n",
    "    print(\"arg1:\", arg1)\n",
    "    print(\"arg2:\", arg2)\n",
    "    print(args)\n",
    "    print(kwargs)\n",
    "#     print(nkw1)\n",
    "# printInfo(\"hh\", 2, 1,2,3,4)\n",
    "printInfo(\"test1\",nkw1=\"a\")"
   ]
  },
  {
   "cell_type": "markdown",
   "metadata": {},
   "source": [
    "### 变量作用域\n",
    "\n",
    "- Python 中，程序的变量并不是在哪个位置都可以访问的，访问权限决定于这个变量是在哪里赋值的。\n",
    "- 定义在函数内部的变量拥有局部作用域，该变量称为局部变量。\n",
    "- 定义在函数外部的变量拥有全局作用域，该变量称为全局变量。\n",
    "- 局部变量只能在其被声明的函数内部访问，而全局变量可以在整个程序范围内访问。\n",
    "\n",
    "**`global`关键字用来在函数或其它局部作用域中使用全局变量, 仅读取全局变量则不需要声明该关键字**"
   ]
  },
  {
   "cell_type": "code",
   "execution_count": 57,
   "metadata": {},
   "outputs": [
    {
     "name": "stdout",
     "output_type": "stream",
     "text": [
      "update before: 1\n",
      "2\n",
      "only read: 111\n",
      "update after: 2\n"
     ]
    }
   ],
   "source": [
    "num = 1\n",
    "onlyReadNum = 111\n",
    "def fun1():\n",
    "    global num\n",
    "    print(\"before:\", num)\n",
    "    num = 2\n",
    "    print(num)\n",
    "    print(\"only read:\", onlyReadNum)\n",
    "fun1()\n",
    "print(\"after:\", num)"
   ]
  },
  {
   "cell_type": "markdown",
   "metadata": {},
   "source": [
    "**`nonlocal`关键字用来在函数或其它作用域中使用外层（非全局）变量**"
   ]
  },
  {
   "cell_type": "code",
   "execution_count": 61,
   "metadata": {},
   "outputs": [
    {
     "name": "stdout",
     "output_type": "stream",
     "text": [
      "before: 1\n",
      "2\n",
      "after: 2\n"
     ]
    }
   ],
   "source": [
    "def outer_fun1():\n",
    "    num = 1\n",
    "    def inner_fun1():\n",
    "        nonlocal num\n",
    "        print(\"before:\", num)\n",
    "        num = num * 2\n",
    "        print(num)\n",
    "    inner_fun1()\n",
    "    print(\"after:\", num)\n",
    "outer_fun1()"
   ]
  },
  {
   "cell_type": "markdown",
   "metadata": {},
   "source": [
    "### 闭包\n",
    "\n",
    "- 是函数式编程的一个重要的语法结构，是一种特殊的内嵌函数。\n",
    "- 如果在一个内部函数里对外层非全局作用域的变量进行引用，那么内部函数就被认为是闭包。\n",
    "- 通过闭包可以访问外层非全局作用域的变量，这个作用域称为 <b>闭包作用域</b>。\n",
    "\n",
    "> 与Javascript的闭包有一定的相似性"
   ]
  },
  {
   "cell_type": "code",
   "execution_count": 91,
   "metadata": {},
   "outputs": [
    {
     "name": "stdout",
     "output_type": "stream",
     "text": [
      "16\n",
      "8\n",
      "64\n"
     ]
    }
   ],
   "source": [
    "def outer_fun2(x):\n",
    "    \"\"\"\n",
    "    计算y的x幂次方\n",
    "    \"\"\"\n",
    "    def inner_fun2(y):\n",
    "        # 这里引用了外部作用域的变量x\n",
    "        return y ** x\n",
    "    # 返回内部函数inner_fun2引用，此时inner_fun2固化了外部的作用域x的值\n",
    "    # 通过闭包的特性,构建了一个计算x次幂的函数\n",
    "    return inner_fun2\n",
    "\n",
    "powerOfTwo = outer_fun2(2)\n",
    "print(powerOfTwo(4))\n",
    "powerOfThree = outer_fun2(3)\n",
    "print(powerOfThree(2))\n",
    "print(powerOfTwo(8))"
   ]
  },
  {
   "cell_type": "code",
   "execution_count": 67,
   "metadata": {},
   "outputs": [
    {
     "name": "stdout",
     "output_type": "stream",
     "text": [
      "120\n"
     ]
    }
   ],
   "source": [
    "def factorial(n):\n",
    "    if n == 1:\n",
    "        return 1\n",
    "    return n * factorial(n - 1)\n",
    "\n",
    "\n",
    "print(factorial(5)) # 120"
   ]
  },
  {
   "cell_type": "code",
   "execution_count": 75,
   "metadata": {},
   "outputs": [
    {
     "name": "stdout",
     "output_type": "stream",
     "text": [
      "1\n",
      "1\n",
      "[1, 1, 2, 3, 5, 8, 13, 21, 34, 55]\n"
     ]
    }
   ],
   "source": [
    "def recur_fibo(n):\n",
    "    if n <= 1:\n",
    "        return n\n",
    "    return recur_fibo(n - 1) + recur_fibo(n - 2)\n",
    "print(recur_fibo(1))\n",
    "print(recur_fibo(2))\n",
    "\n",
    "lst = list()\n",
    "for i in range(1, 11):\n",
    "    lst.append(recur_fibo(i))\n",
    "print(lst)"
   ]
  },
  {
   "cell_type": "markdown",
   "metadata": {},
   "source": [
    "---\n",
    "## 2. Lambda 表达式\n",
    "\n",
    "### 匿名函数的定义\n",
    "\n",
    "在 Python 里有两类函数：\n",
    "\n",
    "- 第一类：用 `def` 关键词定义的正规函数\n",
    "- 第二类：用 `lambda` 关键词定义的匿名函数\n",
    "\n",
    "python 使用 `lambda` 关键词来创建匿名函数，而非`def`关键词，它没有函数名，其语法结构如下：\n",
    "\n",
    "```python\n",
    "lambda argument_list: expression\n",
    "```\n",
    "\n",
    "- `lambda` - 定义匿名函数的关键词。\n",
    "- `argument_list` - 函数参数，它们可以是位置参数、默认参数、关键字参数，和正规函数里的参数类型一样。\n",
    "- `:`- 冒号，在函数参数和表达式中间要加个冒号。\n",
    "- `expression` - 只是一个表达式，输入函数参数，输出一些值。\n",
    "\n",
    "注意：\n",
    "\n",
    "- `expression` 中没有 return 语句，因为 lambda 不需要它来返回，表达式本身结果就是返回值。\n",
    "- 匿名函数拥有自己的命名空间，且不能访问自己参数列表之外或全局命名空间里的参数。"
   ]
  },
  {
   "cell_type": "code",
   "execution_count": 79,
   "metadata": {},
   "outputs": [
    {
     "name": "stdout",
     "output_type": "stream",
     "text": [
      "8\n",
      "[1, 4, 9, 16, 25, 36, 49, 64, 81, 100]\n"
     ]
    }
   ],
   "source": [
    "lbd_power = lambda x, y: x ** y\n",
    "print(ldb_power(2,3))\n",
    "lbd_lst = [lbd_power(x, 2) for x in range(1,11)]\n",
    "print(lbd_lst)"
   ]
  },
  {
   "cell_type": "markdown",
   "metadata": {},
   "source": [
    "### 匿名函数的应用\n",
    "\n",
    "函数式编程 是指代码中每一块都是不可变的，都由纯函数的形式组成。这里的纯函数，是指函数本身相互独立、互不影响，对于相同的输入，总会有相同的输出，没有任何副作用。"
   ]
  },
  {
   "cell_type": "code",
   "execution_count": 80,
   "metadata": {},
   "outputs": [
    {
     "name": "stdout",
     "output_type": "stream",
     "text": [
      "[11, 12, 13]\n",
      "[1, 2, 3]\n"
     ]
    }
   ],
   "source": [
    "# 非函数式编程\n",
    "def f(x):\n",
    "    for i in range(0, len(x)):\n",
    "        x[i] += 10\n",
    "    return x\n",
    "\n",
    "\n",
    "x = [1, 2, 3]\n",
    "f(x)\n",
    "print(x)\n",
    "# [11, 12, 13]\n",
    "\n",
    "# 函数式编程\n",
    "def f(x):\n",
    "    y = []\n",
    "    for item in x:\n",
    "        y.append(item + 10)\n",
    "    return y\n",
    "\n",
    "\n",
    "x = [1, 2, 3]\n",
    "f(x)\n",
    "print(x)\n",
    "# [1, 2, 3]"
   ]
  },
  {
   "cell_type": "markdown",
   "metadata": {},
   "source": [
    "匿名函数 常常应用于函数式编程的高阶函数 (high-order function)中，主要有两种形式：\n",
    "\n",
    "- 参数是函数 (filter, map)\n",
    "- 返回值是函数 (closure)\n",
    "\n",
    "\n",
    "如，在 `filter`和`map`函数中的应用：\n",
    "\n",
    "- `filter(function, iterable)` 过滤序列，过滤掉不符合条件的元素，返回一个迭代器对象，如果要转换为列表，可以使用 `list()` 来转换。"
   ]
  },
  {
   "cell_type": "code",
   "execution_count": 84,
   "metadata": {},
   "outputs": [
    {
     "name": "stdout",
     "output_type": "stream",
     "text": [
      "<filter object at 0x0000015B7FC1E940>\n",
      "[1, 3, 5, 7, 9]\n"
     ]
    }
   ],
   "source": [
    "odd = lambda x: x % 2 == 1\n",
    "templist = filter(odd, [1, 2, 3, 4, 5, 6, 7, 8, 9])\n",
    "print(templist)\n",
    "print(list(templist))  # [1, 3, 5, 7, 9]"
   ]
  },
  {
   "cell_type": "markdown",
   "metadata": {},
   "source": [
    "- `map(function, *iterables)` 根据提供的函数对指定序列做映射。"
   ]
  },
  {
   "cell_type": "code",
   "execution_count": 85,
   "metadata": {},
   "outputs": [
    {
     "name": "stdout",
     "output_type": "stream",
     "text": [
      "[1, 4, 9, 16, 25]\n",
      "[3, 7, 11, 15, 19]\n"
     ]
    }
   ],
   "source": [
    "m1 = map(lambda x: x ** 2, [1, 2, 3, 4, 5])\n",
    "print(list(m1))  \n",
    "# [1, 4, 9, 16, 25]\n",
    "\n",
    "m2 = map(lambda x, y: x + y, [1, 3, 5, 7, 9], [2, 4, 6, 8, 10])\n",
    "print(list(m2))  \n",
    "# [3, 7, 11, 15, 19]"
   ]
  },
  {
   "cell_type": "markdown",
   "metadata": {},
   "source": [
    "- 除了 Python 这些内置函数，我们也可以自己定义高阶函数。"
   ]
  },
  {
   "cell_type": "code",
   "execution_count": 86,
   "metadata": {},
   "outputs": [
    {
     "name": "stdout",
     "output_type": "stream",
     "text": [
      "15\n",
      "5\n",
      "3.0\n"
     ]
    }
   ],
   "source": [
    "def apply_to_list(fun, some_list):\n",
    "    return fun(some_list)\n",
    "lst = [1, 2, 3, 4, 5]\n",
    "print(apply_to_list(sum, lst))\n",
    "# 15\n",
    "print(apply_to_list(len, lst))\n",
    "# 5\n",
    "print(apply_to_list(lambda x: sum(x) / len(x), lst))\n",
    "# 3.0"
   ]
  },
  {
   "cell_type": "markdown",
   "metadata": {},
   "source": [
    "## 练习题\n",
    "\n",
    "1. 怎么给函数编写⽂档？\n",
    "2. 怎么给函数参数和返回值注解？\n",
    "3. 闭包中，怎么对数字、字符串、元组等不可变元素更新。\n",
    "4. 分别根据每一行的首元素和尾元素大小对二维列表 a = [[6, 5], [3, 7], [2, 8]] 排序。(利用lambda表达式)"
   ]
  },
  {
   "cell_type": "code",
   "execution_count": 111,
   "metadata": {},
   "outputs": [
    {
     "name": "stdout",
     "output_type": "stream",
     "text": [
      "Help on function add in module __main__:\n",
      "\n",
      "add(x: int, y: int) -> int\n",
      "    add function\n",
      "\n",
      "Help on built-in function sorted in module builtins:\n",
      "\n",
      "sorted(iterable, /, *, key=None, reverse=False)\n",
      "    Return a new list containing all items from the iterable in ascending order.\n",
      "    \n",
      "    A custom key function can be supplied to customize the sort order, and the\n",
      "    reverse flag can be set to request the result in descending order.\n",
      "\n",
      "[[2, 8], [3, 7], [6, 5]]\n",
      "[[2, 8], [3, 7], [6, 5]]\n"
     ]
    }
   ],
   "source": [
    "# 1. 怎么给函数编写⽂档？\n",
    "# 在函数名下方的第一行用三引号写上doc注释\n",
    "\n",
    "# 2. 怎么给函数参数和返回值注解？\n",
    "def add(x:int, y:int) -> int:\n",
    "    \"\"\"add function\"\"\"\n",
    "    return x + y\n",
    "help(add)\n",
    "\n",
    "# 3. 闭包中，怎么对数字、字符串、元组等不可变元素更新。\n",
    "# nonlocal\n",
    "\n",
    "# 4. 分别根据每一行的首元素和尾元素大小对二维列表 a = [[6, 5], [3, 7], [2, 8]] 排序。(利用lambda表达式)\n",
    "a = [[6, 5], [3, 7], [2, 8]]\n",
    "# sorted方法中key字段可以自定义lambda表达式\n",
    "help(sorted)\n",
    "b=sorted(a,key=lambda row:row[0])# 根据每一行的首元素排序，默认reverse=False\n",
    "c=sorted(a,key=lambda row:row[-1], reverse=True)# 根据每一行的尾元素排序，设置reverse=True实现逆序\n",
    "print(b)\n",
    "print(c)"
   ]
  },
  {
   "cell_type": "markdown",
   "metadata": {},
   "source": [
    "5. 利用python解决汉诺塔问题？\n",
    "> 有a、b、c三根柱子，在a柱子上从下往上按照大小顺序摞着64片圆盘，把圆盘从下面开始按大小顺序重新摆放在c柱子上，尝试用函数来模拟解决的过程。（提示：将问题简化为已经成功地将a柱上面的63个盘子移到了b柱）\n",
    "\n",
    "![](https://img-blog.csdnimg.cn/20200714232535813.png)"
   ]
  },
  {
   "cell_type": "code",
   "execution_count": 178,
   "metadata": {},
   "outputs": [
    {
     "name": "stdout",
     "output_type": "stream",
     "text": [
      "forecast move count: 2047\n",
      "real move count: 2047\n",
      "[1, 2, 3, 4, 5, 6, 7, 8, 9, 10, 11]\n",
      "[]\n",
      "[]\n"
     ]
    }
   ],
   "source": [
    "from typing import List\n",
    "class Solution:\n",
    "    \"\"\"\n",
    "    问题可以想象为三个步骤（假设有n个圆盘）：\n",
    "    1.先将n-1个圆盘从a移动到b\n",
    "    2.将a最后的圆盘移动到c\n",
    "    3.将b的n-1个圆盘移动到c\n",
    "    用递归的思路就可以解决这个问题\n",
    "    \"\"\"\n",
    "    moveCount = 0\n",
    "    def hanota(self, A: List[int], B: List[int], C: List[int]) -> None:\n",
    "        \"\"\"\n",
    "        Do not return anything, modify C in-place instead.\n",
    "        \"\"\"\n",
    "        n = len(A)\n",
    "        self.move(n, A, B, C)\n",
    "    def move(self, n, A, B, C):\n",
    "        if n == 1:\n",
    "            C.append(A.pop())\n",
    "            self.moveCount += 1\n",
    "            return\n",
    "        self.move(n - 1, A, C, B)\n",
    "        C.append(A.pop())\n",
    "        self.moveCount += 1\n",
    "        self.move(n - 1, B, A, C)\n",
    "\n",
    "so = Solution()\n",
    "A = list(range(1,12))\n",
    "B = []\n",
    "C = []\n",
    "forecastMoveCount = 2**len(A) - 1\n",
    "so.hanota(A, B, C)\n",
    "\n",
    "print(\"forecast move count:\", forecastMoveCount)\n",
    "print(\"real move count:\",so.moveCount)\n",
    "print(C)\n",
    "print(A)\n",
    "print(B)"
   ]
  },
  {
   "cell_type": "code",
   "execution_count": 176,
   "metadata": {},
   "outputs": [
    {
     "ename": "RecursionError",
     "evalue": "maximum recursion depth exceeded while calling a Python object",
     "output_type": "error",
     "traceback": [
      "\u001b[1;31m---------------------------------------------------------------------------\u001b[0m",
      "\u001b[1;31mRecursionError\u001b[0m                            Traceback (most recent call last)",
      "\u001b[1;32m<ipython-input-176-a1cf8b373073>\u001b[0m in \u001b[0;36m<module>\u001b[1;34m\u001b[0m\n\u001b[0;32m     23\u001b[0m \u001b[0mC\u001b[0m \u001b[1;33m=\u001b[0m \u001b[1;33m[\u001b[0m\u001b[1;33m]\u001b[0m\u001b[1;33m\u001b[0m\u001b[1;33m\u001b[0m\u001b[0m\n\u001b[0;32m     24\u001b[0m \u001b[0mforecastMoveCount\u001b[0m \u001b[1;33m=\u001b[0m \u001b[1;36m2\u001b[0m\u001b[1;33m**\u001b[0m\u001b[0mlen\u001b[0m\u001b[1;33m(\u001b[0m\u001b[0mA\u001b[0m\u001b[1;33m)\u001b[0m \u001b[1;33m-\u001b[0m \u001b[1;36m1\u001b[0m\u001b[1;33m\u001b[0m\u001b[1;33m\u001b[0m\u001b[0m\n\u001b[1;32m---> 25\u001b[1;33m \u001b[0mso\u001b[0m\u001b[1;33m.\u001b[0m\u001b[0mhanota\u001b[0m\u001b[1;33m(\u001b[0m\u001b[0mA\u001b[0m\u001b[1;33m,\u001b[0m \u001b[0mB\u001b[0m\u001b[1;33m,\u001b[0m \u001b[0mC\u001b[0m\u001b[1;33m)\u001b[0m\u001b[1;33m\u001b[0m\u001b[1;33m\u001b[0m\u001b[0m\n\u001b[0m",
      "\u001b[1;32m<ipython-input-176-a1cf8b373073>\u001b[0m in \u001b[0;36mhanota\u001b[1;34m(self, A, B, C)\u001b[0m\n\u001b[0;32m     12\u001b[0m         \u001b[1;31m# 在这里将A列表，进行了拆分，实际A的引用地址已经变量，相当于引入了一个新的变量，在递归过程中，A列表的又被传递给了其他列表（因为汉诺塔传递步骤）\u001b[0m\u001b[1;33m\u001b[0m\u001b[1;33m\u001b[0m\u001b[1;33m\u001b[0m\u001b[0m\n\u001b[0;32m     13\u001b[0m         \u001b[1;31m# 造成了严重的死循环\u001b[0m\u001b[1;33m\u001b[0m\u001b[1;33m\u001b[0m\u001b[1;33m\u001b[0m\u001b[0m\n\u001b[1;32m---> 14\u001b[1;33m         \u001b[0mself\u001b[0m\u001b[1;33m.\u001b[0m\u001b[0mhanota\u001b[0m\u001b[1;33m(\u001b[0m\u001b[0mA\u001b[0m\u001b[1;33m[\u001b[0m\u001b[1;36m1\u001b[0m\u001b[1;33m:\u001b[0m\u001b[1;33m]\u001b[0m\u001b[1;33m,\u001b[0m \u001b[0mC\u001b[0m\u001b[1;33m,\u001b[0m \u001b[0mB\u001b[0m\u001b[1;33m)\u001b[0m\u001b[1;33m\u001b[0m\u001b[1;33m\u001b[0m\u001b[0m\n\u001b[0m\u001b[0;32m     15\u001b[0m         \u001b[0mA\u001b[0m \u001b[1;33m=\u001b[0m \u001b[0mA\u001b[0m\u001b[1;33m[\u001b[0m\u001b[1;33m:\u001b[0m\u001b[1;36m1\u001b[0m\u001b[1;33m]\u001b[0m\u001b[1;33m\u001b[0m\u001b[1;33m\u001b[0m\u001b[0m\n\u001b[0;32m     16\u001b[0m         \u001b[0mC\u001b[0m\u001b[1;33m.\u001b[0m\u001b[0mappend\u001b[0m\u001b[1;33m(\u001b[0m\u001b[0mA\u001b[0m\u001b[1;33m.\u001b[0m\u001b[0mpop\u001b[0m\u001b[1;33m(\u001b[0m\u001b[1;33m)\u001b[0m\u001b[1;33m)\u001b[0m\u001b[1;33m\u001b[0m\u001b[1;33m\u001b[0m\u001b[0m\n",
      "... last 1 frames repeated, from the frame below ...\n",
      "\u001b[1;32m<ipython-input-176-a1cf8b373073>\u001b[0m in \u001b[0;36mhanota\u001b[1;34m(self, A, B, C)\u001b[0m\n\u001b[0;32m     12\u001b[0m         \u001b[1;31m# 在这里将A列表，进行了拆分，实际A的引用地址已经变量，相当于引入了一个新的变量，在递归过程中，A列表的又被传递给了其他列表（因为汉诺塔传递步骤）\u001b[0m\u001b[1;33m\u001b[0m\u001b[1;33m\u001b[0m\u001b[1;33m\u001b[0m\u001b[0m\n\u001b[0;32m     13\u001b[0m         \u001b[1;31m# 造成了严重的死循环\u001b[0m\u001b[1;33m\u001b[0m\u001b[1;33m\u001b[0m\u001b[1;33m\u001b[0m\u001b[0m\n\u001b[1;32m---> 14\u001b[1;33m         \u001b[0mself\u001b[0m\u001b[1;33m.\u001b[0m\u001b[0mhanota\u001b[0m\u001b[1;33m(\u001b[0m\u001b[0mA\u001b[0m\u001b[1;33m[\u001b[0m\u001b[1;36m1\u001b[0m\u001b[1;33m:\u001b[0m\u001b[1;33m]\u001b[0m\u001b[1;33m,\u001b[0m \u001b[0mC\u001b[0m\u001b[1;33m,\u001b[0m \u001b[0mB\u001b[0m\u001b[1;33m)\u001b[0m\u001b[1;33m\u001b[0m\u001b[1;33m\u001b[0m\u001b[0m\n\u001b[0m\u001b[0;32m     15\u001b[0m         \u001b[0mA\u001b[0m \u001b[1;33m=\u001b[0m \u001b[0mA\u001b[0m\u001b[1;33m[\u001b[0m\u001b[1;33m:\u001b[0m\u001b[1;36m1\u001b[0m\u001b[1;33m]\u001b[0m\u001b[1;33m\u001b[0m\u001b[1;33m\u001b[0m\u001b[0m\n\u001b[0;32m     16\u001b[0m         \u001b[0mC\u001b[0m\u001b[1;33m.\u001b[0m\u001b[0mappend\u001b[0m\u001b[1;33m(\u001b[0m\u001b[0mA\u001b[0m\u001b[1;33m.\u001b[0m\u001b[0mpop\u001b[0m\u001b[1;33m(\u001b[0m\u001b[1;33m)\u001b[0m\u001b[1;33m)\u001b[0m\u001b[1;33m\u001b[0m\u001b[1;33m\u001b[0m\u001b[0m\n",
      "\u001b[1;31mRecursionError\u001b[0m: maximum recursion depth exceeded while calling a Python object"
     ]
    }
   ],
   "source": [
    "from typing import List\n",
    "class Solution:\n",
    "    \"\"\"\n",
    "    一种错误的解法，A列表的引用被污染，导致A列表在递归过程中数据被混淆，造成死循环（或者无法估量的深度嵌套循环）\n",
    "    \"\"\"\n",
    "    moveCount = 0\n",
    "    def hanota(self, A: List[int], B: List[int], C: List[int]) -> None:\n",
    "        if len(A) == 1:\n",
    "            C.append(A.pop())\n",
    "            self.moveCount += 1\n",
    "            return\n",
    "        # 在这里将A列表，进行了拆分，实际A的引用地址已经变了，相当于引入了一个新的变量，在递归过程中，A列表的又被传递给了其他列表（因为汉诺塔传递步骤）\n",
    "        # 造成了严重的死循环\n",
    "        # A[1:]和 A[:1]成了不同于A的引用对象\n",
    "        self.hanota(A[1:], C, B)\n",
    "        A = A[:1]\n",
    "        C.append(A.pop())\n",
    "        self.moveCount += 1\n",
    "        self.hanota(B, A, C)\n",
    "\n",
    "so = Solution()\n",
    "A = list(range(1,1))\n",
    "B = []\n",
    "C = []\n",
    "forecastMoveCount = 2**len(A) - 1\n",
    "so.hanota(A, B, C)"
   ]
  }
 ],
 "metadata": {
  "kernelspec": {
   "display_name": "Python 3",
   "language": "python",
   "name": "python3"
  },
  "language_info": {
   "codemirror_mode": {
    "name": "ipython",
    "version": 3
   },
   "file_extension": ".py",
   "mimetype": "text/x-python",
   "name": "python",
   "nbconvert_exporter": "python",
   "pygments_lexer": "ipython3",
   "version": "3.8.3"
  }
 },
 "nbformat": 4,
 "nbformat_minor": 4
}
