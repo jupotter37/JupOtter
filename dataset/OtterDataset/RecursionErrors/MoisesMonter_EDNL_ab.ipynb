{
 "cells": [
  {
   "cell_type": "markdown",
   "metadata": {},
   "source": [
    "Nó : Esquerda , Direita , Valor"
   ]
  },
  {
   "cell_type": "code",
   "execution_count": 62,
   "metadata": {},
   "outputs": [],
   "source": [
    "import random "
   ]
  },
  {
   "cell_type": "code",
   "execution_count": 85,
   "metadata": {},
   "outputs": [],
   "source": [
    "class Nodo:\n",
    "    def __init__(self, value = None, left = None,right = None, ):\n",
    "        self.left = left\n",
    "        self.key = int(value)\n",
    "        self.right = right\n",
    "        \n",
    "    def __repr__(self):\n",
    "        return '%s <- %s -> %s' % (self.left and self.left.key,\n",
    "                                    self.key,\n",
    "                                    self.right and self.right.key)\n",
    "\n",
    "\n"
   ]
  },
  {
   "cell_type": "code",
   "execution_count": 2,
   "metadata": {},
   "outputs": [],
   "source": [
    "def value_input(text = None):\n",
    "    if len(text) >0:\n",
    "        print(text)\n",
    "    x = None\n",
    "    while True:\n",
    "        try:\n",
    "            x = int(input(\"Please enter a number: \"))\n",
    "            return x\n",
    "        except ValueError:\n",
    "            print (\"Oops! That was not a valid number. Try again...\")\n",
    "   "
   ]
  },
  {
   "cell_type": "code",
   "execution_count": null,
   "metadata": {},
   "outputs": [],
   "source": []
  },
  {
   "cell_type": "markdown",
   "metadata": {},
   "source": [
    "1) Escreva um algoritmo para calcular a altura de um árvore binária. ✔\n",
    "2) Escreva um algoritmo que conte o número de nós de uma árvore binária. ✔\n",
    "3) Escreva um algoritmo que conte o número de folhas de uma árvore binária. ✔\n",
    "4) Escreva um algoritmo que insira um número na árvore binária. ✔\n",
    "5) Escreva um algoritmo que delete um nó de uma árvore binária."
   ]
  },
  {
   "cell_type": "code",
   "execution_count": 46,
   "metadata": {},
   "outputs": [],
   "source": [
    "def create(x):\n",
    "    if x == None:\n",
    "        x = value_input(\"Crie o nó:\")\n",
    "    \n",
    "    return Nodo(x)\n"
   ]
  },
  {
   "cell_type": "code",
   "execution_count": 89,
   "metadata": {},
   "outputs": [],
   "source": [
    "def insert(raiz,new_nodo):\n",
    "    if raiz is None:\n",
    "        raiz = new_nodo\n",
    "    \n",
    "    elif int(raiz.key) < int(new_nodo.key):\n",
    "        if raiz.right is None:\n",
    "            raiz.right = new_nodo\n",
    "        else:\n",
    "            insert(raiz.right,new_nodo)\n",
    "    \n",
    "    else:\n",
    "        if raiz.left is None:\n",
    "            raiz.left = new_nodo\n",
    "        else:\n",
    "            insert(raiz.left,new_nodo)\n",
    "\n",
    "\n",
    "    "
   ]
  },
  {
   "cell_type": "code",
   "execution_count": 5,
   "metadata": {},
   "outputs": [],
   "source": [
    "def printed(raiz,searched,nodo):\n",
    "    run = \"Raiz\"\n",
    "    if len(searched) <=0:\n",
    "        print(raiz, ' here in ',run, \", Nodo: \",nodo)\n",
    "    else:\n",
    "\n",
    "        cont = 0\n",
    "        print(raiz, ' here in ',run, \", Nodo: \",cont)\n",
    "        for l_or_r in searched:\n",
    "            cont+=1\n",
    "            if l_or_r == 0:\n",
    "                \n",
    "                raiz,run  = raiz.right,\"RIGHT\"\n",
    "                \n",
    "            else:\n",
    "                raiz,run = raiz.left,\"LEFT\"\n",
    "            print(raiz, 'came from RIGHT', \", Nodo: \",cont)"
   ]
  },
  {
   "cell_type": "code",
   "execution_count": 6,
   "metadata": {},
   "outputs": [],
   "source": [
    "def search_actuale_and_previous_case(raiz, value):\n",
    "    x = None\n",
    "    if raiz is None:\n",
    "        return 0\n",
    "    \n",
    "    else: \n",
    "        if raiz.right is not None:\n",
    "            next_node = raiz.right\n",
    "            if next_node.key == int(value):\n",
    "                x = raiz.right    \n",
    "                return raiz,x\n",
    "        if raiz.left is not None:\n",
    "            next_node = raiz.left\n",
    "            if next_node.key == int(value):\n",
    "                x = raiz.left \n",
    "                return raiz,x\n",
    "        \n",
    "        if int(raiz.key) < int(value):\n",
    "            if raiz.right is not None:\n",
    "                raiz,x = search_actuale_and_previous_case(raiz.right, value)\n",
    "        else:\n",
    "            if raiz.left is not None:\n",
    "                raiz,x =  search_actuale_and_previous_case(raiz.left, value)\n",
    "        \n",
    "    \n",
    "\n",
    "\n",
    "    return raiz,x\n",
    "    \n",
    "    "
   ]
  },
  {
   "cell_type": "code",
   "execution_count": 87,
   "metadata": {},
   "outputs": [],
   "source": [
    "def search_smalle_case(raiz):\n",
    "    if raiz is None:\n",
    "        return 0\n",
    "    else:\n",
    "        if raiz.left is not None:\n",
    "            return search_smalle_case(raiz.left)\n",
    "    return raiz"
   ]
  },
  {
   "cell_type": "code",
   "execution_count": 90,
   "metadata": {},
   "outputs": [],
   "source": [
    "def deleted(raiz,x):\n",
    "    if x == None:\n",
    "        x = value_input(\"deleted:\")\n",
    "    raiz,actuale_raiz = search_actuale_and_previous_case(raiz,x)\n",
    "    print(actuale_raiz)\n",
    "    print(actuale_raiz.left)\n",
    "    raiz_small = search_smalle_case(actuale_raiz)\n",
    "    print(raiz_small)\n",
    "    if raiz.left.key == actuale_raiz.key:\n",
    "        actuale_raiz.left = raiz_small\n",
    "        raiz.left = actuale_raiz\n",
    "    if raiz.right.key == actuale_raiz.key:\n",
    "        actuale_raiz.right = raiz_small\n",
    "        raiz.right = actuale_raiz\n",
    "    raiz_small.left,raiz_small.right = actuale_raiz.left, actuale_raiz.right\n",
    "    return raiz\n"
   ]
  },
  {
   "cell_type": "code",
   "execution_count": 9,
   "metadata": {},
   "outputs": [],
   "source": [
    "def searchToInsert(raiz,value):\n",
    "    new_nodo = Nodo(key)\n",
    "    insert(raiz,new_nodo)\n",
    "    \n",
    "        "
   ]
  },
  {
   "cell_type": "code",
   "execution_count": 10,
   "metadata": {},
   "outputs": [],
   "source": [
    "def heightSize(raiz,count):\n",
    "    if raiz is None:\n",
    "        return 0\n",
    "    else:\n",
    "        size_left,size_right = 0,0\n",
    "        if raiz.left is not None:\n",
    "            size_left = heightSize(raiz.left,1)\n",
    "            \n",
    "        if raiz.right is not None:\n",
    "            size_right = heightSize(raiz.right,1)\n",
    "        if int(count) > 0:\n",
    "            return max(size_left,size_right)+1\n",
    "        else:\n",
    "            return max(size_left,size_right)"
   ]
  },
  {
   "cell_type": "code",
   "execution_count": 11,
   "metadata": {},
   "outputs": [],
   "source": [
    "def nodeSize(raiz):\n",
    "    if raiz is None:\n",
    "        return 0\n",
    "    else:\n",
    "        size = 0\n",
    "        if raiz.left is not None:\n",
    "            size += nodeSize(raiz.left) +1\n",
    "        if raiz.right is not None:\n",
    "            size += nodeSize(raiz.right) +1\n",
    "    return size "
   ]
  },
  {
   "cell_type": "code",
   "execution_count": 12,
   "metadata": {},
   "outputs": [],
   "source": [
    "def leafCount(raiz):\n",
    "    if raiz is None:\n",
    "        return 0\n",
    "    else:\n",
    "        size = 0\n",
    "        if raiz.left is None and raiz.right is None:\n",
    "            return 1\n",
    "        else:\n",
    "            if raiz.left is not None:\n",
    "                size += leafCount(raiz.left)\n",
    "            if raiz.right is not None:\n",
    "                size += leafCount(raiz.right)\n",
    "            return size\n"
   ]
  },
  {
   "cell_type": "code",
   "execution_count": 13,
   "metadata": {},
   "outputs": [],
   "source": [
    "def search(raiz,value,nodo,searched):\n",
    "\n",
    "    if raiz is None or raiz.key is None:\n",
    "        print(\"Raiz is None\")\n",
    "    \n",
    "    if int(raiz.key) == int(value):\n",
    "        print(\"here in Node: \"+str(nodo))\n",
    "        print(searched)\n",
    "\n",
    "        return searched, nodo\n",
    "    \n",
    "    nodo+=1\n",
    "    \n",
    "    if int(raiz.key) <= value:\n",
    "        # print(raiz,' ...search: ',value, 'in RIGHT', \"Nodo: \",nodo)\n",
    "        if raiz.right == None:\n",
    "            print(\"END, Not searched\")\n",
    "        else:\n",
    "            searched.append(0)\n",
    "            search(raiz.right,value,nodo,searched)\n",
    "        \n",
    "    elif int(raiz.key) >= value:\n",
    "        # print(raiz,' ...search: ',value, 'in LEFT',\"Nodo: \",nodo)\n",
    "        if raiz.left == None:\n",
    "            print(\"END, Not searched\")\n",
    "\n",
    "\n",
    "        else:\n",
    "            searched.append(1)\n",
    "            search(raiz.left,value,nodo,searched)\n",
    "\n",
    "    return searched, nodo\n",
    "    \n",
    "    "
   ]
  },
  {
   "cell_type": "code",
   "execution_count": 78,
   "metadata": {},
   "outputs": [],
   "source": [
    "from random import random\n",
    "def listing(raiz,listings):\n",
    "    \n",
    "    if len(listings) <=0:\n",
    "        listings = [random.randint(0,55) for x in range(5)] \n",
    "        \n",
    "\n",
    "    if raiz == None:\n",
    "        raiz = create(listings[0])\n",
    "        print(listings)\n",
    "        listings.pop(0)\n",
    "        print(listings)\n",
    "    for key in listings:\n",
    "        new_nodo = Nodo(key)\n",
    "        insert(raiz,new_nodo)\n",
    "    return raiz\n"
   ]
  },
  {
   "cell_type": "code",
   "execution_count": null,
   "metadata": {},
   "outputs": [
    {
     "ename": "TypeError",
     "evalue": "search() takes 4 positional arguments but 5 were given",
     "output_type": "error",
     "traceback": [
      "\u001b[1;31m---------------------------------------------------------------------------\u001b[0m",
      "\u001b[1;31mTypeError\u001b[0m                                 Traceback (most recent call last)",
      "\u001b[1;32mc:\\Users\\20211094040006\\Desktop\\EDNL\\EDNL\\Arvore Binaria\\ab.ipynb Cell 24\u001b[0m line \u001b[0;36m2\n\u001b[0;32m      <a href='vscode-notebook-cell:/c%3A/Users/20211094040006/Desktop/EDNL/EDNL/Arvore%20Binaria/ab.ipynb#X15sZmlsZQ%3D%3D?line=0'>1</a>\u001b[0m node\u001b[39m=\u001b[39m \u001b[39mint\u001b[39m(\u001b[39m0\u001b[39m)\n\u001b[1;32m----> <a href='vscode-notebook-cell:/c%3A/Users/20211094040006/Desktop/EDNL/EDNL/Arvore%20Binaria/ab.ipynb#X15sZmlsZQ%3D%3D?line=1'>2</a>\u001b[0m search(raiz,\u001b[39m150\u001b[39;49m,node,[],\u001b[39m0\u001b[39;49m)\n",
      "\u001b[1;31mTypeError\u001b[0m: search() takes 4 positional arguments but 5 were given"
     ]
    }
   ],
   "source": [
    "node= int(0)\n",
    "search(raiz,150,node,[],0)"
   ]
  },
  {
   "cell_type": "code",
   "execution_count": null,
   "metadata": {},
   "outputs": [
    {
     "name": "stdout",
     "output_type": "stream",
     "text": [
      "13 <- 15 -> 46\n"
     ]
    }
   ],
   "source": [
    "print(raiz)"
   ]
  },
  {
   "cell_type": "code",
   "execution_count": 64,
   "metadata": {},
   "outputs": [
    {
     "name": "stdout",
     "output_type": "stream",
     "text": [
      "[40, 50, 28, 50, 18]\n",
      "[50, 28, 50, 18]\n",
      "28 <- 40 -> 50\n"
     ]
    }
   ],
   "source": [
    "\n",
    "if __name__ == \"__main__\":\n",
    "    raiz = None\n",
    "    raiz = listing(raiz, [] )\n",
    "\n",
    "    print(raiz)\n",
    "\n",
    "\n",
    "   "
   ]
  },
  {
   "cell_type": "code",
   "execution_count": 91,
   "metadata": {},
   "outputs": [
    {
     "name": "stdout",
     "output_type": "stream",
     "text": [
      "here in Node: 2\n",
      "[1, 1]\n",
      "28 <- 40 -> 50  here in  Raiz , Nodo:  0\n",
      "18 <- 28 -> None came from RIGHT , Nodo:  1\n",
      "18 <- 18 -> None came from RIGHT , Nodo:  2\n",
      "deleted:\n",
      "18 <- 28 -> None\n",
      "18 <- 18 -> None\n"
     ]
    },
    {
     "ename": "RecursionError",
     "evalue": "maximum recursion depth exceeded",
     "output_type": "error",
     "traceback": [
      "\u001b[1;31m---------------------------------------------------------------------------\u001b[0m",
      "\u001b[1;31mRecursionError\u001b[0m                            Traceback (most recent call last)",
      "\u001b[1;32mc:\\Users\\20211094040006\\Desktop\\EDNL\\EDNL\\Arvore Binaria\\ab.ipynb Cell 22\u001b[0m line \u001b[0;36m7\n\u001b[0;32m      <a href='vscode-notebook-cell:/c%3A/Users/20211094040006/Desktop/EDNL/EDNL/Arvore%20Binaria/ab.ipynb#X32sZmlsZQ%3D%3D?line=4'>5</a>\u001b[0m printed(raiz,seach,node)\n\u001b[0;32m      <a href='vscode-notebook-cell:/c%3A/Users/20211094040006/Desktop/EDNL/EDNL/Arvore%20Binaria/ab.ipynb#X32sZmlsZQ%3D%3D?line=5'>6</a>\u001b[0m raiz1\u001b[39m=\u001b[39m raiz\n\u001b[1;32m----> <a href='vscode-notebook-cell:/c%3A/Users/20211094040006/Desktop/EDNL/EDNL/Arvore%20Binaria/ab.ipynb#X32sZmlsZQ%3D%3D?line=6'>7</a>\u001b[0m raiz1 \u001b[39m=\u001b[39m deleted(raiz1,\u001b[39mNone\u001b[39;49;00m)\n\u001b[0;32m      <a href='vscode-notebook-cell:/c%3A/Users/20211094040006/Desktop/EDNL/EDNL/Arvore%20Binaria/ab.ipynb#X32sZmlsZQ%3D%3D?line=8'>9</a>\u001b[0m \u001b[39m# #nós\u001b[39;00m\n\u001b[0;32m     <a href='vscode-notebook-cell:/c%3A/Users/20211094040006/Desktop/EDNL/EDNL/Arvore%20Binaria/ab.ipynb#X32sZmlsZQ%3D%3D?line=9'>10</a>\u001b[0m \u001b[39m# print(nodeSize(raiz))\u001b[39;00m\n\u001b[0;32m     <a href='vscode-notebook-cell:/c%3A/Users/20211094040006/Desktop/EDNL/EDNL/Arvore%20Binaria/ab.ipynb#X32sZmlsZQ%3D%3D?line=10'>11</a>\u001b[0m \n\u001b[1;32m   (...)\u001b[0m\n\u001b[0;32m     <a href='vscode-notebook-cell:/c%3A/Users/20211094040006/Desktop/EDNL/EDNL/Arvore%20Binaria/ab.ipynb#X32sZmlsZQ%3D%3D?line=17'>18</a>\u001b[0m \u001b[39m# #Inserir\u001b[39;00m\n\u001b[0;32m     <a href='vscode-notebook-cell:/c%3A/Users/20211094040006/Desktop/EDNL/EDNL/Arvore%20Binaria/ab.ipynb#X32sZmlsZQ%3D%3D?line=18'>19</a>\u001b[0m \u001b[39m# searchToInsert(raiz,value_input('insert an value'))\u001b[39;00m\n",
      "\u001b[1;32mc:\\Users\\20211094040006\\Desktop\\EDNL\\EDNL\\Arvore Binaria\\ab.ipynb Cell 22\u001b[0m line \u001b[0;36m7\n\u001b[0;32m      <a href='vscode-notebook-cell:/c%3A/Users/20211094040006/Desktop/EDNL/EDNL/Arvore%20Binaria/ab.ipynb#X32sZmlsZQ%3D%3D?line=4'>5</a>\u001b[0m \u001b[39mprint\u001b[39m(actuale_raiz)\n\u001b[0;32m      <a href='vscode-notebook-cell:/c%3A/Users/20211094040006/Desktop/EDNL/EDNL/Arvore%20Binaria/ab.ipynb#X32sZmlsZQ%3D%3D?line=5'>6</a>\u001b[0m \u001b[39mprint\u001b[39m(actuale_raiz\u001b[39m.\u001b[39mleft)\n\u001b[1;32m----> <a href='vscode-notebook-cell:/c%3A/Users/20211094040006/Desktop/EDNL/EDNL/Arvore%20Binaria/ab.ipynb#X32sZmlsZQ%3D%3D?line=6'>7</a>\u001b[0m raiz_small \u001b[39m=\u001b[39m search_smalle_case(actuale_raiz)\n\u001b[0;32m      <a href='vscode-notebook-cell:/c%3A/Users/20211094040006/Desktop/EDNL/EDNL/Arvore%20Binaria/ab.ipynb#X32sZmlsZQ%3D%3D?line=7'>8</a>\u001b[0m \u001b[39mprint\u001b[39m(raiz_small)\n\u001b[0;32m      <a href='vscode-notebook-cell:/c%3A/Users/20211094040006/Desktop/EDNL/EDNL/Arvore%20Binaria/ab.ipynb#X32sZmlsZQ%3D%3D?line=8'>9</a>\u001b[0m \u001b[39mif\u001b[39;00m raiz\u001b[39m.\u001b[39mleft\u001b[39m.\u001b[39mkey \u001b[39m==\u001b[39m actuale_raiz\u001b[39m.\u001b[39mkey:\n",
      "\u001b[1;32mc:\\Users\\20211094040006\\Desktop\\EDNL\\EDNL\\Arvore Binaria\\ab.ipynb Cell 22\u001b[0m line \u001b[0;36m6\n\u001b[0;32m      <a href='vscode-notebook-cell:/c%3A/Users/20211094040006/Desktop/EDNL/EDNL/Arvore%20Binaria/ab.ipynb#X32sZmlsZQ%3D%3D?line=3'>4</a>\u001b[0m \u001b[39melse\u001b[39;00m:\n\u001b[0;32m      <a href='vscode-notebook-cell:/c%3A/Users/20211094040006/Desktop/EDNL/EDNL/Arvore%20Binaria/ab.ipynb#X32sZmlsZQ%3D%3D?line=4'>5</a>\u001b[0m     \u001b[39mif\u001b[39;00m raiz\u001b[39m.\u001b[39mleft \u001b[39mis\u001b[39;00m \u001b[39mnot\u001b[39;00m \u001b[39mNone\u001b[39;00m:\n\u001b[1;32m----> <a href='vscode-notebook-cell:/c%3A/Users/20211094040006/Desktop/EDNL/EDNL/Arvore%20Binaria/ab.ipynb#X32sZmlsZQ%3D%3D?line=5'>6</a>\u001b[0m         \u001b[39mreturn\u001b[39;00m search_smalle_case(raiz\u001b[39m.\u001b[39;49mleft)\n\u001b[0;32m      <a href='vscode-notebook-cell:/c%3A/Users/20211094040006/Desktop/EDNL/EDNL/Arvore%20Binaria/ab.ipynb#X32sZmlsZQ%3D%3D?line=6'>7</a>\u001b[0m \u001b[39mreturn\u001b[39;00m raiz\n",
      "\u001b[1;32mc:\\Users\\20211094040006\\Desktop\\EDNL\\EDNL\\Arvore Binaria\\ab.ipynb Cell 22\u001b[0m line \u001b[0;36m6\n\u001b[0;32m      <a href='vscode-notebook-cell:/c%3A/Users/20211094040006/Desktop/EDNL/EDNL/Arvore%20Binaria/ab.ipynb#X32sZmlsZQ%3D%3D?line=3'>4</a>\u001b[0m \u001b[39melse\u001b[39;00m:\n\u001b[0;32m      <a href='vscode-notebook-cell:/c%3A/Users/20211094040006/Desktop/EDNL/EDNL/Arvore%20Binaria/ab.ipynb#X32sZmlsZQ%3D%3D?line=4'>5</a>\u001b[0m     \u001b[39mif\u001b[39;00m raiz\u001b[39m.\u001b[39mleft \u001b[39mis\u001b[39;00m \u001b[39mnot\u001b[39;00m \u001b[39mNone\u001b[39;00m:\n\u001b[1;32m----> <a href='vscode-notebook-cell:/c%3A/Users/20211094040006/Desktop/EDNL/EDNL/Arvore%20Binaria/ab.ipynb#X32sZmlsZQ%3D%3D?line=5'>6</a>\u001b[0m         \u001b[39mreturn\u001b[39;00m search_smalle_case(raiz\u001b[39m.\u001b[39;49mleft)\n\u001b[0;32m      <a href='vscode-notebook-cell:/c%3A/Users/20211094040006/Desktop/EDNL/EDNL/Arvore%20Binaria/ab.ipynb#X32sZmlsZQ%3D%3D?line=6'>7</a>\u001b[0m \u001b[39mreturn\u001b[39;00m raiz\n",
      "    \u001b[1;31m[... skipping similar frames: search_smalle_case at line 6 (2970 times)]\u001b[0m\n",
      "\u001b[1;32mc:\\Users\\20211094040006\\Desktop\\EDNL\\EDNL\\Arvore Binaria\\ab.ipynb Cell 22\u001b[0m line \u001b[0;36m6\n\u001b[0;32m      <a href='vscode-notebook-cell:/c%3A/Users/20211094040006/Desktop/EDNL/EDNL/Arvore%20Binaria/ab.ipynb#X32sZmlsZQ%3D%3D?line=3'>4</a>\u001b[0m \u001b[39melse\u001b[39;00m:\n\u001b[0;32m      <a href='vscode-notebook-cell:/c%3A/Users/20211094040006/Desktop/EDNL/EDNL/Arvore%20Binaria/ab.ipynb#X32sZmlsZQ%3D%3D?line=4'>5</a>\u001b[0m     \u001b[39mif\u001b[39;00m raiz\u001b[39m.\u001b[39mleft \u001b[39mis\u001b[39;00m \u001b[39mnot\u001b[39;00m \u001b[39mNone\u001b[39;00m:\n\u001b[1;32m----> <a href='vscode-notebook-cell:/c%3A/Users/20211094040006/Desktop/EDNL/EDNL/Arvore%20Binaria/ab.ipynb#X32sZmlsZQ%3D%3D?line=5'>6</a>\u001b[0m         \u001b[39mreturn\u001b[39;00m search_smalle_case(raiz\u001b[39m.\u001b[39;49mleft)\n\u001b[0;32m      <a href='vscode-notebook-cell:/c%3A/Users/20211094040006/Desktop/EDNL/EDNL/Arvore%20Binaria/ab.ipynb#X32sZmlsZQ%3D%3D?line=6'>7</a>\u001b[0m \u001b[39mreturn\u001b[39;00m raiz\n",
      "\u001b[1;31mRecursionError\u001b[0m: maximum recursion depth exceeded"
     ]
    }
   ],
   "source": [
    "if __name__ == \"__main__\":\n",
    "    node= int(0)\n",
    "\n",
    "    seach,node = search(raiz,18,node,[])\n",
    "    printed(raiz,seach,node)\n",
    "    raiz1= raiz\n",
    "    raiz1 = deleted(raiz1,None)\n",
    "\n",
    "    # #nós\n",
    "    # print(nodeSize(raiz))\n",
    "\n",
    "    # #altura\n",
    "    # print(heightSize(raiz,0))\n",
    "\n",
    "    # #folhas\n",
    "    # print(leafCount(raiz))\n",
    "\n",
    "    # #Inserir\n",
    "    # searchToInsert(raiz,value_input('insert an value'))"
   ]
  },
  {
   "cell_type": "code",
   "execution_count": 83,
   "metadata": {},
   "outputs": [
    {
     "name": "stdout",
     "output_type": "stream",
     "text": [
      "28 <- 40 -> 50\n"
     ]
    }
   ],
   "source": [
    "print(raiz1)"
   ]
  }
 ],
 "metadata": {
  "kernelspec": {
   "display_name": "Python 3.10.7 64-bit",
   "language": "python",
   "name": "python3"
  },
  "language_info": {
   "codemirror_mode": {
    "name": "ipython",
    "version": 3
   },
   "file_extension": ".py",
   "mimetype": "text/x-python",
   "name": "python",
   "nbconvert_exporter": "python",
   "pygments_lexer": "ipython3",
   "version": "3.11.4"
  },
  "orig_nbformat": 4,
  "vscode": {
   "interpreter": {
    "hash": "369f2c481f4da34e4445cda3fffd2e751bd1c4d706f27375911949ba6bb62e1c"
   }
  }
 },
 "nbformat": 4,
 "nbformat_minor": 2
}
