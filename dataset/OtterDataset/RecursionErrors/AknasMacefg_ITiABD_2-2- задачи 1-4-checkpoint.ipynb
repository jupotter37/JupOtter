{
 "cells": [
  {
   "cell_type": "code",
   "execution_count": 33,
   "id": "78ec4bd7",
   "metadata": {},
   "outputs": [
    {
     "name": "stdout",
     "output_type": "stream",
     "text": [
      "human1\n",
      "human2\n",
      "human3\n",
      "student\n"
     ]
    }
   ],
   "source": [
    "class human1:\n",
    "    def __init__(self,name,surname,age, **kwargs):\n",
    "        self.name = name\n",
    "        self.surname = surname\n",
    "        self.age = age\n",
    "        print(\"human1\")\n",
    "        super().__init__(**kwargs)\n",
    "        \n",
    "class human2:\n",
    "    def __init__(self,city,numpass,gender,**kwargs):\n",
    "        self.city = city\n",
    "        self.numpass = numpass\n",
    "        self.gender = gender\n",
    "        print(\"human2\")\n",
    "        super().__init__(**kwargs)\n",
    "        \n",
    "class human3:\n",
    "    def __init__(self, height, weight, colour, **kwargs):\n",
    "        self.height = height\n",
    "        self.weight = weight\n",
    "        self.colour = colour\n",
    "        print(\"human3\")\n",
    "        super().__init__(**kwargs)\n",
    "\n",
    "class student(human1, human2, human3):\n",
    "    def __init__ (self, name, surname, age, city, numpass,gender,gr,idd, height, weight, colour, marks = {}):\n",
    "        super().__init__(name, surname, age, city = city, numpass = numpass, gender = gender, height = height, weight = weight, colour = colour)\n",
    "        print(\"student\")\n",
    "        self.group = gr\n",
    "        self.idd = idd\n",
    "        \n",
    "Artem = student(\"Artem\", \"Celin\", 19, \"Moscow\", 2322222,\"m\",\"id23-1\",\"12345\", \"180\", \"70\", \"black\")\n"
   ]
  },
  {
   "cell_type": "markdown",
   "id": "bec72f91",
   "metadata": {},
   "source": [
    "Задача 1. Создать класс, хранящий в себе информацию о котах.\n",
    "С помощью конструктора класса создать несколько объектов данного класса'''"
   ]
  },
  {
   "cell_type": "code",
   "execution_count": 4,
   "id": "7d2ccc4d",
   "metadata": {},
   "outputs": [
    {
     "ename": "RecursionError",
     "evalue": "maximum recursion depth exceeded",
     "output_type": "error",
     "traceback": [
      "\u001b[1;31m---------------------------------------------------------------------------\u001b[0m",
      "\u001b[1;31mRecursionError\u001b[0m                            Traceback (most recent call last)",
      "Cell \u001b[1;32mIn[4], line 7\u001b[0m\n\u001b[0;32m      5\u001b[0m         cat3 \u001b[38;5;241m=\u001b[39m Cat()\n\u001b[0;32m      6\u001b[0m         \u001b[38;5;28mprint\u001b[39m(\u001b[38;5;124mf\u001b[39m\u001b[38;5;124m\"\u001b[39m\u001b[38;5;124mВызов кота \u001b[39m\u001b[38;5;132;01m{\u001b[39;00m\u001b[38;5;28mself\u001b[39m\u001b[38;5;132;01m}\u001b[39;00m\u001b[38;5;124m\"\u001b[39m)\n\u001b[1;32m----> 7\u001b[0m cats \u001b[38;5;241m=\u001b[39m \u001b[43mCat\u001b[49m\u001b[43m(\u001b[49m\u001b[43m)\u001b[49m\n",
      "Cell \u001b[1;32mIn[4], line 3\u001b[0m, in \u001b[0;36mCat.__init__\u001b[1;34m(self)\u001b[0m\n\u001b[0;32m      2\u001b[0m \u001b[38;5;28;01mdef\u001b[39;00m \u001b[38;5;21m__init__\u001b[39m(\u001b[38;5;28mself\u001b[39m):\n\u001b[1;32m----> 3\u001b[0m     cat1 \u001b[38;5;241m=\u001b[39m \u001b[43mCat\u001b[49m\u001b[43m(\u001b[49m\u001b[43m)\u001b[49m\n\u001b[0;32m      4\u001b[0m     cat2 \u001b[38;5;241m=\u001b[39m Cat()\n\u001b[0;32m      5\u001b[0m     cat3 \u001b[38;5;241m=\u001b[39m Cat()\n",
      "Cell \u001b[1;32mIn[4], line 3\u001b[0m, in \u001b[0;36mCat.__init__\u001b[1;34m(self)\u001b[0m\n\u001b[0;32m      2\u001b[0m \u001b[38;5;28;01mdef\u001b[39;00m \u001b[38;5;21m__init__\u001b[39m(\u001b[38;5;28mself\u001b[39m):\n\u001b[1;32m----> 3\u001b[0m     cat1 \u001b[38;5;241m=\u001b[39m \u001b[43mCat\u001b[49m\u001b[43m(\u001b[49m\u001b[43m)\u001b[49m\n\u001b[0;32m      4\u001b[0m     cat2 \u001b[38;5;241m=\u001b[39m Cat()\n\u001b[0;32m      5\u001b[0m     cat3 \u001b[38;5;241m=\u001b[39m Cat()\n",
      "    \u001b[1;31m[... skipping similar frames: Cat.__init__ at line 3 (1483 times)]\u001b[0m\n",
      "Cell \u001b[1;32mIn[4], line 3\u001b[0m, in \u001b[0;36mCat.__init__\u001b[1;34m(self)\u001b[0m\n\u001b[0;32m      2\u001b[0m \u001b[38;5;28;01mdef\u001b[39;00m \u001b[38;5;21m__init__\u001b[39m(\u001b[38;5;28mself\u001b[39m):\n\u001b[1;32m----> 3\u001b[0m     cat1 \u001b[38;5;241m=\u001b[39m \u001b[43mCat\u001b[49m\u001b[43m(\u001b[49m\u001b[43m)\u001b[49m\n\u001b[0;32m      4\u001b[0m     cat2 \u001b[38;5;241m=\u001b[39m Cat()\n\u001b[0;32m      5\u001b[0m     cat3 \u001b[38;5;241m=\u001b[39m Cat()\n",
      "\u001b[1;31mRecursionError\u001b[0m: maximum recursion depth exceeded"
     ]
    }
   ],
   "source": []
  },
  {
   "cell_type": "markdown",
   "id": "c14a7446",
   "metadata": {},
   "source": [
    "Задача 2. Создать класс Учитель и Ученик. По результатам работы данных классов\n",
    "вывести на экран всех учеников, которых обучил учитель. Для каждого ученика вывести\n",
    "информацию, по какому предмету они обучились и их оценку.'''"
   ]
  },
  {
   "cell_type": "code",
   "execution_count": null,
   "id": "d99b4e18",
   "metadata": {},
   "outputs": [],
   "source": [
    "class Teacher:\n",
    "    def __init(self, name, discipline):\n",
    "        self.name = name\n",
    "        self.discipline = discipline\n",
    "    \n",
    "class Student:\n",
    "    def __init__(self, name, marks):\n",
    "        self.name = name\n",
    "        self.marks = marks\n",
    "\n",
    "student1 = Student(\"Иван\", {'math':4, 'rus':5})\n",
    "student2 = Student(\"Петя\", {'math':5, 'rus':3})\n",
    "student3 = Student(\"Мария\", {'math':3, 'rus':3})\n",
    "teacher1 = Teacher(\"Кирилл\", 'math')\n",
    "teacher2 = Teacher(\"Маргарита\", 'rus')\n",
    "\n"
   ]
  },
  {
   "cell_type": "markdown",
   "id": "5fb64315",
   "metadata": {},
   "source": [
    "Задача 3. Создать два класса домашних и диких животных,\n",
    "содержащих одинаковый метод \"Предпочтения в еде\". Использовать данный метод для\n",
    "двух классов (принцип полиморфизма).В конструкторе домашнего животного\n",
    "использовать название животного и возраст. В конструкторе дикого животного\n",
    "использовать только название животного'''"
   ]
  },
  {
   "cell_type": "code",
   "execution_count": null,
   "id": "2d3a88c8",
   "metadata": {},
   "outputs": [],
   "source": []
  },
  {
   "cell_type": "markdown",
   "id": "d7712791",
   "metadata": {},
   "source": [
    "Задача 4. Создайте класс Часы по переводу минут в часы или секунды.\n",
    "Пользователь должен задать время, напрмер, 89 минут, и также пользователь должен\n",
    "определить в часы или в секунды перевести заданное время. Используйте\n",
    "принципы абстракции, инкапсуляции, а также конструктор классов'''"
   ]
  },
  {
   "cell_type": "code",
   "execution_count": null,
   "id": "98bd9945",
   "metadata": {},
   "outputs": [],
   "source": []
  },
  {
   "cell_type": "markdown",
   "id": "270c08ab",
   "metadata": {},
   "source": [
    "Задача 5. Создайте класс мебели . Используйте конструктор с параметрами по умолчанию.\n",
    "Определите с помощью класса дорогая или нет мебель. Учесть, что дорогая мебель\n",
    "с ценой выше 20000руб, а дешевая с ценой ниже 5 000руб.Ценовые пороги мебели может\n",
    "задавать пользователь.'''\n"
   ]
  }
 ],
 "metadata": {
  "kernelspec": {
   "display_name": "Python 3 (ipykernel)",
   "language": "python",
   "name": "python3"
  },
  "language_info": {
   "codemirror_mode": {
    "name": "ipython",
    "version": 3
   },
   "file_extension": ".py",
   "mimetype": "text/x-python",
   "name": "python",
   "nbconvert_exporter": "python",
   "pygments_lexer": "ipython3",
   "version": "3.10.9"
  }
 },
 "nbformat": 4,
 "nbformat_minor": 5
}
