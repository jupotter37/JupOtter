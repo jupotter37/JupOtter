{
 "cells": [
  {
   "cell_type": "markdown",
   "metadata": {},
   "source": [
    "16.10.2023\n",
    "Curs 4"
   ]
  },
  {
   "cell_type": "markdown",
   "metadata": {},
   "source": [
    "Multimi\n",
    "- definite inductiv A = {3, 5, 7, 9, ...}\n",
    "A = {x | x = 2k+3, k Natural}\n",
    "\n",
    "3 apartine de A (  P(0)  )\n",
    "x ap de A ---- x + 2 ap de A \n",
    "P(k) --- P(k + 1)\n",
    "\n",
    "\n",
    "definire a multimii inductive\n",
    "\n",
    "baza - element P(n0)\n",
    "inductia - regula de constructie\n",
    "inchiderea - multimea contine doar elementele obt prin pasii de baza si inductia\n",
    "\n",
    "\n",
    "Exemplu - Multimea Numerelor Naturale\n",
    "Constructorii lui N:\n",
    "\n",
    "baza - 0 in N \n",
    "inductia x in N, x + 1 in N "
   ]
  },
  {
   "cell_type": "markdown",
   "metadata": {},
   "source": [
    "Turnurile din Hanoi\n",
    "\n",
    "p(n) = p(n - 1) + 1 + p(n - 1)\n",
    "mut n - 1 discuri de pe o tija pe alta\n",
    "mut discul N pe alta tija goala\n",
    "mut n - 1 discuri peste discul N\n",
    "\n",
    "numar de mutari - p(n) = 2^n - 1"
   ]
  },
  {
   "cell_type": "markdown",
   "metadata": {},
   "source": [
    "Problema numarului de profesori - Fibonacci\n",
    "\n",
    "f(n + 1) = f(n) (profii de anul trecut) + f(n - 1) (profesorii noi)"
   ]
  },
  {
   "cell_type": "markdown",
   "metadata": {},
   "source": [
    "Recurenta liniara\n",
    "\n",
    "f(n) = a1*f(n - 1) + a2*f(n - 2) + .... + ad * f(n - d)\n",
    "= sum(i = 1 -> d) ai * f(n - i)"
   ]
  },
  {
   "cell_type": "markdown",
   "metadata": {},
   "source": [
    "Functii recursive in python"
   ]
  },
  {
   "cell_type": "code",
   "execution_count": 4,
   "metadata": {},
   "outputs": [
    {
     "name": "stdout",
     "output_type": "stream",
     "text": [
      "4\n",
      "3\n",
      "2\n",
      "1\n"
     ]
    }
   ],
   "source": [
    "def recursive(n):\n",
    "    if n == 0:\n",
    "        pass\n",
    "    else:\n",
    "        #recursive(n - 1)\n",
    "        print(n)\n",
    "        recursive(n - 1)\n",
    "\n",
    "recursive(4)\n"
   ]
  },
  {
   "cell_type": "markdown",
   "metadata": {},
   "source": [
    "Progresia aritmetica\n",
    "\n",
    "x(0) = b\n",
    "x(n) = x(n - 1) + r"
   ]
  },
  {
   "cell_type": "markdown",
   "metadata": {},
   "source": [
    "Progresia geometrica\n",
    "\n",
    "x(0) = b\n",
    "x(n) = x(n - 1) * q"
   ]
  },
  {
   "cell_type": "markdown",
   "metadata": {},
   "source": [
    "Elementele unei definitii recursive\n",
    "\n",
    "1. Cazul de baza ( termenul initial - x(0) )\n",
    "2. Relatia de recurenta\n",
    "3. Oprirea recursivitatii "
   ]
  },
  {
   "cell_type": "code",
   "execution_count": 5,
   "metadata": {},
   "outputs": [
    {
     "ename": "RecursionError",
     "evalue": "maximum recursion depth exceeded",
     "output_type": "error",
     "traceback": [
      "\u001b[0;31m---------------------------------------------------------------------------\u001b[0m",
      "\u001b[0;31mRecursionError\u001b[0m                            Traceback (most recent call last)",
      "\u001b[1;32m/Users/paulhondola/Faculta/LSD/4/4.ipynb Cell 11\u001b[0m line \u001b[0;36m7\n\u001b[1;32m      <a href='vscode-notebook-cell:/Users/paulhondola/Faculta/LSD/4/4.ipynb#X31sZmlsZQ%3D%3D?line=3'>4</a>\u001b[0m     x \u001b[39m=\u001b[39m \u001b[39m7\u001b[39m\n\u001b[1;32m      <a href='vscode-notebook-cell:/Users/paulhondola/Faculta/LSD/4/4.ipynb#X31sZmlsZQ%3D%3D?line=4'>5</a>\u001b[0m     frec()\n\u001b[0;32m----> <a href='vscode-notebook-cell:/Users/paulhondola/Faculta/LSD/4/4.ipynb#X31sZmlsZQ%3D%3D?line=6'>7</a>\u001b[0m frec()\n",
      "\u001b[1;32m/Users/paulhondola/Faculta/LSD/4/4.ipynb Cell 11\u001b[0m line \u001b[0;36m5\n\u001b[1;32m      <a href='vscode-notebook-cell:/Users/paulhondola/Faculta/LSD/4/4.ipynb#X31sZmlsZQ%3D%3D?line=2'>3</a>\u001b[0m \u001b[39mdef\u001b[39;00m \u001b[39mfrec\u001b[39m():\n\u001b[1;32m      <a href='vscode-notebook-cell:/Users/paulhondola/Faculta/LSD/4/4.ipynb#X31sZmlsZQ%3D%3D?line=3'>4</a>\u001b[0m     x \u001b[39m=\u001b[39m \u001b[39m7\u001b[39m\n\u001b[0;32m----> <a href='vscode-notebook-cell:/Users/paulhondola/Faculta/LSD/4/4.ipynb#X31sZmlsZQ%3D%3D?line=4'>5</a>\u001b[0m     frec()\n",
      "\u001b[1;32m/Users/paulhondola/Faculta/LSD/4/4.ipynb Cell 11\u001b[0m line \u001b[0;36m5\n\u001b[1;32m      <a href='vscode-notebook-cell:/Users/paulhondola/Faculta/LSD/4/4.ipynb#X31sZmlsZQ%3D%3D?line=2'>3</a>\u001b[0m \u001b[39mdef\u001b[39;00m \u001b[39mfrec\u001b[39m():\n\u001b[1;32m      <a href='vscode-notebook-cell:/Users/paulhondola/Faculta/LSD/4/4.ipynb#X31sZmlsZQ%3D%3D?line=3'>4</a>\u001b[0m     x \u001b[39m=\u001b[39m \u001b[39m7\u001b[39m\n\u001b[0;32m----> <a href='vscode-notebook-cell:/Users/paulhondola/Faculta/LSD/4/4.ipynb#X31sZmlsZQ%3D%3D?line=4'>5</a>\u001b[0m     frec()\n",
      "    \u001b[0;31m[... skipping similar frames: frec at line 5 (2970 times)]\u001b[0m\n",
      "\u001b[1;32m/Users/paulhondola/Faculta/LSD/4/4.ipynb Cell 11\u001b[0m line \u001b[0;36m5\n\u001b[1;32m      <a href='vscode-notebook-cell:/Users/paulhondola/Faculta/LSD/4/4.ipynb#X31sZmlsZQ%3D%3D?line=2'>3</a>\u001b[0m \u001b[39mdef\u001b[39;00m \u001b[39mfrec\u001b[39m():\n\u001b[1;32m      <a href='vscode-notebook-cell:/Users/paulhondola/Faculta/LSD/4/4.ipynb#X31sZmlsZQ%3D%3D?line=3'>4</a>\u001b[0m     x \u001b[39m=\u001b[39m \u001b[39m7\u001b[39m\n\u001b[0;32m----> <a href='vscode-notebook-cell:/Users/paulhondola/Faculta/LSD/4/4.ipynb#X31sZmlsZQ%3D%3D?line=4'>5</a>\u001b[0m     frec()\n",
      "\u001b[0;31mRecursionError\u001b[0m: maximum recursion depth exceeded"
     ]
    }
   ],
   "source": [
    "# la fiecare apel, se aloca spatiu de memorie nou, distinct pt fiecare x\n",
    "\n",
    "def frec():\n",
    "    x = 7\n",
    "    frec()\n",
    "\n",
    "frec()"
   ]
  },
  {
   "cell_type": "markdown",
   "metadata": {},
   "source": [
    "Conjectura lui Collatz\n",
    "\n",
    "n pozitiv\n",
    "n par - n / 2\n",
    "n impar - 3 * n + 1\n",
    "\n",
    "numarul de pasi\n",
    "\n",
    "p(n) = 0 (daca n == 1)\n",
    "p(n) = 1 + p(f(n)) (daca n > 1)"
   ]
  },
  {
   "cell_type": "code",
   "execution_count": 6,
   "metadata": {},
   "outputs": [
    {
     "data": {
      "text/plain": [
       "17"
      ]
     },
     "execution_count": 6,
     "metadata": {},
     "output_type": "execute_result"
    }
   ],
   "source": [
    "def next(n):\n",
    "    if n % 2 == 0:\n",
    "        return n / 2\n",
    "    else:\n",
    "        return 3 * n + 1\n",
    "    \n",
    "def pasi(n):\n",
    "    if n == 1:\n",
    "        return 1\n",
    "    else:\n",
    "        return 1 + pasi(next(n))\n",
    "    \n",
    "pasi(7)"
   ]
  },
  {
   "cell_type": "markdown",
   "metadata": {},
   "source": [
    "Fibonacci in python"
   ]
  },
  {
   "cell_type": "code",
   "execution_count": 8,
   "metadata": {},
   "outputs": [
    {
     "name": "stdout",
     "output_type": "stream",
     "text": [
      "55\n"
     ]
    }
   ],
   "source": [
    "def fibo(n):\n",
    "    if n == 0 or n == 1:\n",
    "        return n\n",
    "    else:\n",
    "        return fibo(n - 1) + fibo(n - 2)\n",
    "    \n",
    "print(fibo(10))"
   ]
  },
  {
   "cell_type": "code",
   "execution_count": 1,
   "metadata": {},
   "outputs": [
    {
     "name": "stdout",
     "output_type": "stream",
     "text": [
      "89\n"
     ]
    }
   ],
   "source": [
    "# Fibonacci in switch\n",
    "\n",
    "def fibo(n):\n",
    "    match n:\n",
    "        case 0:\n",
    "            return 1\n",
    "        case 1:\n",
    "            return 1\n",
    "        case _:\n",
    "            return fibo(n - 1) + fibo(n - 2)\n",
    "        \n",
    "print(fibo(10))"
   ]
  },
  {
   "cell_type": "markdown",
   "metadata": {},
   "source": [
    "Tail recursion\n",
    "\n",
    "eliminarea oricarui alt calcul la apelul recursiv"
   ]
  },
  {
   "cell_type": "code",
   "execution_count": 2,
   "metadata": {},
   "outputs": [
    {
     "name": "stdout",
     "output_type": "stream",
     "text": [
      "24\n"
     ]
    }
   ],
   "source": [
    "def fact(n, a = 1):\n",
    "    if n <= 1:\n",
    "        return a\n",
    "    else:\n",
    "        return fact(n - 1, n * a)\n",
    "    \n",
    "print(fact(4))"
   ]
  },
  {
   "cell_type": "code",
   "execution_count": 4,
   "metadata": {},
   "outputs": [
    {
     "name": "stdout",
     "output_type": "stream",
     "text": [
      "24\n"
     ]
    }
   ],
   "source": [
    "def fact(n):\n",
    "    return 1 if n == 1 else n * fact(n - 1)\n",
    "\n",
    "print(fact(4))"
   ]
  }
 ],
 "metadata": {
  "kernelspec": {
   "display_name": "Python 3",
   "language": "python",
   "name": "python3"
  },
  "language_info": {
   "codemirror_mode": {
    "name": "ipython",
    "version": 3
   },
   "file_extension": ".py",
   "mimetype": "text/x-python",
   "name": "python",
   "nbconvert_exporter": "python",
   "pygments_lexer": "ipython3",
   "version": "3.11.6"
  }
 },
 "nbformat": 4,
 "nbformat_minor": 2
}
