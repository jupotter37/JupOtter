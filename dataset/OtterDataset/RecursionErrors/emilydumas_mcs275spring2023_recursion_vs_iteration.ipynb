{
 "cells": [
  {
   "cell_type": "code",
   "execution_count": 28,
   "id": "29b22c54",
   "metadata": {},
   "outputs": [],
   "source": [
    "import rec\n",
    "import time"
   ]
  },
  {
   "cell_type": "code",
   "execution_count": 3,
   "id": "6a9428f5",
   "metadata": {},
   "outputs": [
    {
     "data": {
      "text/plain": [
       "1675711833.3626418"
      ]
     },
     "execution_count": 3,
     "metadata": {},
     "output_type": "execute_result"
    }
   ],
   "source": [
    "time.time() # seconds since 12:00AM Jan 1 1970 GMT"
   ]
  },
  {
   "cell_type": "code",
   "execution_count": 2,
   "id": "983b4eea",
   "metadata": {},
   "outputs": [
    {
     "data": {
      "text/plain": [
       "317811"
      ]
     },
     "execution_count": 2,
     "metadata": {},
     "output_type": "execute_result"
    }
   ],
   "source": [
    "rec.fib_memoized(28)"
   ]
  },
  {
   "cell_type": "code",
   "execution_count": 3,
   "id": "4a6377da",
   "metadata": {},
   "outputs": [
    {
     "data": {
      "text/plain": [
       "317811"
      ]
     },
     "execution_count": 3,
     "metadata": {},
     "output_type": "execute_result"
    }
   ],
   "source": [
    "rec.fib(28)"
   ]
  },
  {
   "cell_type": "code",
   "execution_count": 4,
   "id": "b963c9e6",
   "metadata": {},
   "outputs": [
    {
     "data": {
      "text/plain": [
       "{0: 0,\n",
       " 1: 1,\n",
       " 2: 1,\n",
       " 3: 2,\n",
       " 4: 3,\n",
       " 5: 5,\n",
       " 6: 8,\n",
       " 7: 13,\n",
       " 8: 21,\n",
       " 9: 34,\n",
       " 10: 55,\n",
       " 11: 89,\n",
       " 12: 144,\n",
       " 13: 233,\n",
       " 14: 377,\n",
       " 15: 610,\n",
       " 16: 987,\n",
       " 17: 1597,\n",
       " 18: 2584,\n",
       " 19: 4181,\n",
       " 20: 6765,\n",
       " 21: 10946,\n",
       " 22: 17711,\n",
       " 23: 28657,\n",
       " 24: 46368,\n",
       " 25: 75025,\n",
       " 26: 121393,\n",
       " 27: 196418,\n",
       " 28: 317811}"
      ]
     },
     "execution_count": 4,
     "metadata": {},
     "output_type": "execute_result"
    }
   ],
   "source": [
    "rec.fib_cache"
   ]
  },
  {
   "cell_type": "code",
   "execution_count": 4,
   "id": "3b372fb7",
   "metadata": {},
   "outputs": [
    {
     "data": {
      "text/plain": [
       "40.57578778266907"
      ]
     },
     "execution_count": 4,
     "metadata": {},
     "output_type": "execute_result"
    }
   ],
   "source": [
    "time.time() - 1675711833.3626418"
   ]
  },
  {
   "cell_type": "code",
   "execution_count": 6,
   "id": "6be766ac",
   "metadata": {},
   "outputs": [],
   "source": [
    "def timed_call(f,n):\n",
    "    \"Measure how long it takes to call f(n)\"\n",
    "    t0 = time.time()\n",
    "    f(n)\n",
    "    t1 = time.time()\n",
    "    return t1-t0"
   ]
  },
  {
   "cell_type": "code",
   "execution_count": 6,
   "id": "0a69f95b",
   "metadata": {},
   "outputs": [
    {
     "data": {
      "text/plain": [
       "3.003253698348999"
      ]
     },
     "execution_count": 6,
     "metadata": {},
     "output_type": "execute_result"
    }
   ],
   "source": [
    "timed_call(time.sleep,3)"
   ]
  },
  {
   "cell_type": "code",
   "execution_count": 8,
   "id": "49d4f85f",
   "metadata": {},
   "outputs": [
    {
     "data": {
      "text/plain": [
       "2.2769806385040283"
      ]
     },
     "execution_count": 8,
     "metadata": {},
     "output_type": "execute_result"
    }
   ],
   "source": [
    "timed_call(rec.fib,35)"
   ]
  },
  {
   "cell_type": "markdown",
   "id": "9f21a20a",
   "metadata": {},
   "source": [
    "## Timing table for `fact`"
   ]
  },
  {
   "cell_type": "code",
   "execution_count": 14,
   "id": "d8410fe6",
   "metadata": {},
   "outputs": [
    {
     "name": "stdout",
     "output_type": "stream",
     "text": [
      "n    t_rec    t_iter\n",
      "  0  0.00000  0.00000\n",
      " 50  0.00002  0.00001\n",
      "100  0.00004  0.00002\n",
      "150  0.00006  0.00003\n",
      "200  0.00009  0.00004\n",
      "250  0.00010  0.00003\n",
      "300  0.00012  0.00004\n",
      "350  0.00010  0.00005\n",
      "400  0.00011  0.00006\n",
      "450  0.00013  0.00007\n",
      "500  0.00015  0.00008\n",
      "550  0.00017  0.00009\n",
      "600  0.00020  0.00012\n",
      "650  0.00023  0.00013\n",
      "700  0.00023  0.00013\n",
      "750  0.00032  0.00015\n",
      "800  0.00028  0.00016\n",
      "850  0.00032  0.00018\n",
      "900  0.00034  0.00020\n"
     ]
    }
   ],
   "source": [
    "print(\"n    t_rec    t_iter\")\n",
    "for n in range(0,901,50):\n",
    "    t_rec = timed_call(rec.fact,n)\n",
    "    t_iter = timed_call(rec.fact_iterative,n)\n",
    "    print(\"{:3d}  {:.5f}  {:.5f}\".format(n,t_rec,t_iter))"
   ]
  },
  {
   "cell_type": "markdown",
   "id": "f519fc55",
   "metadata": {},
   "source": [
    "## Timing table for `fib`"
   ]
  },
  {
   "cell_type": "code",
   "execution_count": 8,
   "id": "8a3564ea",
   "metadata": {},
   "outputs": [
    {
     "name": "stdout",
     "output_type": "stream",
     "text": [
      "n    t_rec    t_memo   t_iter\n",
      "  0  0.00000  0.00000 0.00000\n",
      "  1  0.00000  0.00000 0.00000\n",
      "  2  0.00000  0.00000 0.00000\n",
      "  3  0.00000  0.00000 0.00000\n",
      "  4  0.00000  0.00000 0.00000\n",
      "  5  0.00000  0.00000 0.00000\n",
      "  6  0.00000  0.00000 0.00000\n",
      "  7  0.00001  0.00000 0.00000\n",
      "  8  0.00001  0.00000 0.00000\n",
      "  9  0.00001  0.00000 0.00000\n",
      " 10  0.00003  0.00000 0.00000\n",
      " 11  0.00004  0.00000 0.00000\n",
      " 12  0.00006  0.00000 0.00000\n",
      " 13  0.00010  0.00001 0.00000\n",
      " 14  0.00016  0.00001 0.00000\n",
      " 15  0.00026  0.00001 0.00000\n",
      " 16  0.00040  0.00001 0.00000\n",
      " 17  0.00065  0.00001 0.00000\n",
      " 18  0.00193  0.00001 0.00000\n",
      " 19  0.00300  0.00002 0.00000\n",
      " 20  0.00366  0.00001 0.00000\n",
      " 21  0.00647  0.00002 0.00001\n",
      " 22  0.00604  0.00001 0.00000\n",
      " 23  0.00944  0.00001 0.00000\n",
      " 24  0.01526  0.00001 0.00000\n",
      " 25  0.02258  0.00001 0.00000\n",
      " 26  0.03058  0.00001 0.00000\n",
      " 27  0.04723  0.00001 0.00000\n",
      " 28  0.07460  0.00001 0.00000\n",
      " 29  0.12260  0.00001 0.00000\n",
      " 30  0.20048  0.00001 0.00000\n",
      " 31  0.31755  0.00001 0.00000\n",
      " 32  0.52478  0.00001 0.00000\n",
      " 33  0.86695  0.00001 0.00000\n",
      " 34  1.37984  0.00001 0.00000\n",
      " 35  2.18980  0.00001 0.00000\n"
     ]
    }
   ],
   "source": [
    "print(\"n    t_rec    t_memo   t_iter\")\n",
    "for n in range(0,36):\n",
    "    t_rec = timed_call(rec.fib,n)\n",
    "    rec.fib_cache = {0:0, 1:1}  # clear stored values\n",
    "    t_memo = timed_call(rec.fib_memoized,n)\n",
    "    t_iter = timed_call(rec.fib_iterative,n)\n",
    "    print(\"{:3d}  {:.5f}  {:.5f} {:.5f}\".format(n,t_rec,t_memo,t_iter))"
   ]
  },
  {
   "cell_type": "code",
   "execution_count": 9,
   "id": "4f3fdd5e",
   "metadata": {},
   "outputs": [
    {
     "name": "stdout",
     "output_type": "stream",
     "text": [
      "n    t_memo  t_iter\n",
      "  0   0.00000   0.00000\n",
      "500   0.00055   0.00004\n",
      "1000   0.00070   0.00009\n",
      "1500   0.00092   0.00020\n",
      "2000   0.00176   0.00019\n",
      "2500   0.00140   0.00026\n"
     ]
    },
    {
     "ename": "RecursionError",
     "evalue": "maximum recursion depth exceeded",
     "output_type": "error",
     "traceback": [
      "\u001b[0;31m---------------------------------------------------------------------------\u001b[0m",
      "\u001b[0;31mRecursionError\u001b[0m                            Traceback (most recent call last)",
      "\u001b[0;32m/tmp/ipykernel_130598/286854475.py\u001b[0m in \u001b[0;36m<module>\u001b[0;34m\u001b[0m\n\u001b[1;32m      3\u001b[0m     \u001b[0mt_iter\u001b[0m \u001b[0;34m=\u001b[0m \u001b[0mtimed_call\u001b[0m\u001b[0;34m(\u001b[0m\u001b[0mrec\u001b[0m\u001b[0;34m.\u001b[0m\u001b[0mfib_iterative\u001b[0m\u001b[0;34m,\u001b[0m\u001b[0mn\u001b[0m\u001b[0;34m)\u001b[0m\u001b[0;34m\u001b[0m\u001b[0;34m\u001b[0m\u001b[0m\n\u001b[1;32m      4\u001b[0m     \u001b[0mrec\u001b[0m\u001b[0;34m.\u001b[0m\u001b[0mfib_cache\u001b[0m \u001b[0;34m=\u001b[0m \u001b[0;34m{\u001b[0m\u001b[0;36m0\u001b[0m\u001b[0;34m:\u001b[0m\u001b[0;36m0\u001b[0m\u001b[0;34m,\u001b[0m \u001b[0;36m1\u001b[0m\u001b[0;34m:\u001b[0m\u001b[0;36m1\u001b[0m\u001b[0;34m}\u001b[0m  \u001b[0;31m# clear stored values\u001b[0m\u001b[0;34m\u001b[0m\u001b[0;34m\u001b[0m\u001b[0m\n\u001b[0;32m----> 5\u001b[0;31m     \u001b[0mt_memo\u001b[0m \u001b[0;34m=\u001b[0m \u001b[0mtimed_call\u001b[0m\u001b[0;34m(\u001b[0m\u001b[0mrec\u001b[0m\u001b[0;34m.\u001b[0m\u001b[0mfib_memoized\u001b[0m\u001b[0;34m,\u001b[0m\u001b[0mn\u001b[0m\u001b[0;34m)\u001b[0m\u001b[0;34m\u001b[0m\u001b[0;34m\u001b[0m\u001b[0m\n\u001b[0m\u001b[1;32m      6\u001b[0m     \u001b[0mprint\u001b[0m\u001b[0;34m(\u001b[0m\u001b[0;34m\"{:3d}   {:.5f}   {:.5f}\"\u001b[0m\u001b[0;34m.\u001b[0m\u001b[0mformat\u001b[0m\u001b[0;34m(\u001b[0m\u001b[0mn\u001b[0m\u001b[0;34m,\u001b[0m\u001b[0mt_memo\u001b[0m\u001b[0;34m,\u001b[0m\u001b[0mt_iter\u001b[0m\u001b[0;34m)\u001b[0m\u001b[0;34m)\u001b[0m\u001b[0;34m\u001b[0m\u001b[0;34m\u001b[0m\u001b[0m\n",
      "\u001b[0;32m/tmp/ipykernel_130598/557318939.py\u001b[0m in \u001b[0;36mtimed_call\u001b[0;34m(f, n)\u001b[0m\n\u001b[1;32m      2\u001b[0m     \u001b[0;34m\"Measure how long it takes to call f(n)\"\u001b[0m\u001b[0;34m\u001b[0m\u001b[0;34m\u001b[0m\u001b[0m\n\u001b[1;32m      3\u001b[0m     \u001b[0mt0\u001b[0m \u001b[0;34m=\u001b[0m \u001b[0mtime\u001b[0m\u001b[0;34m.\u001b[0m\u001b[0mtime\u001b[0m\u001b[0;34m(\u001b[0m\u001b[0;34m)\u001b[0m\u001b[0;34m\u001b[0m\u001b[0;34m\u001b[0m\u001b[0m\n\u001b[0;32m----> 4\u001b[0;31m     \u001b[0mf\u001b[0m\u001b[0;34m(\u001b[0m\u001b[0mn\u001b[0m\u001b[0;34m)\u001b[0m\u001b[0;34m\u001b[0m\u001b[0;34m\u001b[0m\u001b[0m\n\u001b[0m\u001b[1;32m      5\u001b[0m     \u001b[0mt1\u001b[0m \u001b[0;34m=\u001b[0m \u001b[0mtime\u001b[0m\u001b[0;34m.\u001b[0m\u001b[0mtime\u001b[0m\u001b[0;34m(\u001b[0m\u001b[0;34m)\u001b[0m\u001b[0;34m\u001b[0m\u001b[0;34m\u001b[0m\u001b[0m\n\u001b[1;32m      6\u001b[0m     \u001b[0;32mreturn\u001b[0m \u001b[0mt1\u001b[0m\u001b[0;34m-\u001b[0m\u001b[0mt0\u001b[0m\u001b[0;34m\u001b[0m\u001b[0;34m\u001b[0m\u001b[0m\n",
      "\u001b[0;32m~/Dropbox/teaching/mcs275/public/samplecode/recursion/rec.py\u001b[0m in \u001b[0;36mfib_memoized\u001b[0;34m(n)\u001b[0m\n\u001b[1;32m     52\u001b[0m         \u001b[0;32mreturn\u001b[0m \u001b[0mfib_cache\u001b[0m\u001b[0;34m[\u001b[0m\u001b[0mn\u001b[0m\u001b[0;34m]\u001b[0m\u001b[0;34m\u001b[0m\u001b[0;34m\u001b[0m\u001b[0m\n\u001b[1;32m     53\u001b[0m \u001b[0;34m\u001b[0m\u001b[0m\n\u001b[0;32m---> 54\u001b[0;31m     \u001b[0mresult\u001b[0m \u001b[0;34m=\u001b[0m \u001b[0mfib_memoized\u001b[0m\u001b[0;34m(\u001b[0m\u001b[0mn\u001b[0m\u001b[0;34m-\u001b[0m\u001b[0;36m1\u001b[0m\u001b[0;34m)\u001b[0m \u001b[0;34m+\u001b[0m \u001b[0mfib_memoized\u001b[0m\u001b[0;34m(\u001b[0m\u001b[0mn\u001b[0m\u001b[0;34m-\u001b[0m\u001b[0;36m2\u001b[0m\u001b[0;34m)\u001b[0m\u001b[0;34m\u001b[0m\u001b[0;34m\u001b[0m\u001b[0m\n\u001b[0m\u001b[1;32m     55\u001b[0m     \u001b[0mfib_cache\u001b[0m\u001b[0;34m[\u001b[0m\u001b[0mn\u001b[0m\u001b[0;34m]\u001b[0m \u001b[0;34m=\u001b[0m \u001b[0mresult\u001b[0m  \u001b[0;31m# store for later use!\u001b[0m\u001b[0;34m\u001b[0m\u001b[0;34m\u001b[0m\u001b[0m\n\u001b[1;32m     56\u001b[0m     \u001b[0;32mreturn\u001b[0m \u001b[0mresult\u001b[0m\u001b[0;34m\u001b[0m\u001b[0;34m\u001b[0m\u001b[0m\n",
      "... last 1 frames repeated, from the frame below ...\n",
      "\u001b[0;32m~/Dropbox/teaching/mcs275/public/samplecode/recursion/rec.py\u001b[0m in \u001b[0;36mfib_memoized\u001b[0;34m(n)\u001b[0m\n\u001b[1;32m     52\u001b[0m         \u001b[0;32mreturn\u001b[0m \u001b[0mfib_cache\u001b[0m\u001b[0;34m[\u001b[0m\u001b[0mn\u001b[0m\u001b[0;34m]\u001b[0m\u001b[0;34m\u001b[0m\u001b[0;34m\u001b[0m\u001b[0m\n\u001b[1;32m     53\u001b[0m \u001b[0;34m\u001b[0m\u001b[0m\n\u001b[0;32m---> 54\u001b[0;31m     \u001b[0mresult\u001b[0m \u001b[0;34m=\u001b[0m \u001b[0mfib_memoized\u001b[0m\u001b[0;34m(\u001b[0m\u001b[0mn\u001b[0m\u001b[0;34m-\u001b[0m\u001b[0;36m1\u001b[0m\u001b[0;34m)\u001b[0m \u001b[0;34m+\u001b[0m \u001b[0mfib_memoized\u001b[0m\u001b[0;34m(\u001b[0m\u001b[0mn\u001b[0m\u001b[0;34m-\u001b[0m\u001b[0;36m2\u001b[0m\u001b[0;34m)\u001b[0m\u001b[0;34m\u001b[0m\u001b[0;34m\u001b[0m\u001b[0m\n\u001b[0m\u001b[1;32m     55\u001b[0m     \u001b[0mfib_cache\u001b[0m\u001b[0;34m[\u001b[0m\u001b[0mn\u001b[0m\u001b[0;34m]\u001b[0m \u001b[0;34m=\u001b[0m \u001b[0mresult\u001b[0m  \u001b[0;31m# store for later use!\u001b[0m\u001b[0;34m\u001b[0m\u001b[0;34m\u001b[0m\u001b[0m\n\u001b[1;32m     56\u001b[0m     \u001b[0;32mreturn\u001b[0m \u001b[0mresult\u001b[0m\u001b[0;34m\u001b[0m\u001b[0;34m\u001b[0m\u001b[0m\n",
      "\u001b[0;31mRecursionError\u001b[0m: maximum recursion depth exceeded"
     ]
    }
   ],
   "source": [
    "print(\"n    t_memo  t_iter\")\n",
    "for n in range(0,10001,500):\n",
    "    t_iter = timed_call(rec.fib_iterative,n)\n",
    "    rec.fib_cache = {0:0, 1:1}  # clear stored values\n",
    "    t_memo = timed_call(rec.fib_memoized,n)\n",
    "    print(\"{:3d}   {:.5f}   {:.5f}\".format(n,t_memo,t_iter))"
   ]
  },
  {
   "cell_type": "markdown",
   "id": "fcb8d7e8",
   "metadata": {},
   "source": [
    "## Call counts for `fib` (naive recursive)"
   ]
  },
  {
   "cell_type": "code",
   "execution_count": 36,
   "id": "87807442",
   "metadata": {},
   "outputs": [],
   "source": [
    "call_counts = {\n",
    "    \"fibcount\": 0,\n",
    "}\n",
    "\n",
    "def fibcount(n):\n",
    "    \"The n^th fibonacci number computed by a ridiculously inefficient recursive algorithm\"\n",
    "    call_counts[\"fibcount\"] += 1\n",
    "    # call_counts.__setitem__(\"fibcount\",1) calls method of global, mutating it\n",
    "    if n <= 1:\n",
    "        return n\n",
    "    return fibcount(n - 1) + fibcount(n - 2)"
   ]
  },
  {
   "cell_type": "code",
   "execution_count": 37,
   "id": "c1d8dcbc",
   "metadata": {},
   "outputs": [
    {
     "data": {
      "text/plain": [
       "{'fibcount': 0}"
      ]
     },
     "execution_count": 37,
     "metadata": {},
     "output_type": "execute_result"
    }
   ],
   "source": [
    "call_counts"
   ]
  },
  {
   "cell_type": "code",
   "execution_count": 38,
   "id": "c52d4562",
   "metadata": {},
   "outputs": [
    {
     "data": {
      "text/plain": [
       "832040"
      ]
     },
     "execution_count": 38,
     "metadata": {},
     "output_type": "execute_result"
    }
   ],
   "source": [
    "fibcount(30)"
   ]
  },
  {
   "cell_type": "code",
   "execution_count": 39,
   "id": "5e533dc8",
   "metadata": {},
   "outputs": [
    {
     "data": {
      "text/plain": [
       "{'fibcount': 2692537}"
      ]
     },
     "execution_count": 39,
     "metadata": {},
     "output_type": "execute_result"
    }
   ],
   "source": [
    "call_counts"
   ]
  },
  {
   "cell_type": "code",
   "execution_count": 40,
   "id": "b500c5fa",
   "metadata": {},
   "outputs": [],
   "source": [
    "call_counts[\"fibcount\"] = 0 # reset the counter"
   ]
  },
  {
   "cell_type": "code",
   "execution_count": 41,
   "id": "45ebc430",
   "metadata": {},
   "outputs": [
    {
     "name": "stdout",
     "output_type": "stream",
     "text": [
      "0 1\n",
      "1 1\n",
      "2 3\n",
      "3 5\n",
      "4 9\n",
      "5 15\n",
      "6 25\n",
      "7 41\n",
      "8 67\n",
      "9 109\n",
      "10 177\n",
      "11 287\n",
      "12 465\n",
      "13 753\n",
      "14 1219\n"
     ]
    }
   ],
   "source": [
    "for n in range(15):\n",
    "    call_counts[\"fibcount\"] = 0\n",
    "    fibcount(n)\n",
    "    print(n,call_counts[\"fibcount\"])"
   ]
  },
  {
   "cell_type": "code",
   "execution_count": null,
   "id": "46243d2a",
   "metadata": {},
   "outputs": [],
   "source": []
  }
 ],
 "metadata": {
  "kernelspec": {
   "display_name": "Python 3 (ipykernel)",
   "language": "python",
   "name": "python3"
  },
  "language_info": {
   "codemirror_mode": {
    "name": "ipython",
    "version": 3
   },
   "file_extension": ".py",
   "mimetype": "text/x-python",
   "name": "python",
   "nbconvert_exporter": "python",
   "pygments_lexer": "ipython3",
   "version": "3.10.6"
  }
 },
 "nbformat": 4,
 "nbformat_minor": 5
}
