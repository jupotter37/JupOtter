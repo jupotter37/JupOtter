{
 "cells": [
  {
   "cell_type": "markdown",
   "id": "162109b9-eafc-46ef-a2c6-19b2dbd97236",
   "metadata": {},
   "source": [
    "<br><br>\n",
    "\n",
    "### <span style=\"color: blue\">Python &nbsp;Property</span>\n",
    "\n",
    "<br>\n"
   ]
  },
  {
   "cell_type": "markdown",
   "id": "d35915e5-f1fc-4fba-ae50-d27ef928464f",
   "metadata": {},
   "source": [
    "<code style=\"background-color: white;\"><code style=\"background-color: blue; color: white;\">Property                              </code>  –  show you how to use the <span style=\"background-color: yellow;\">property class</span> to create a property</code>                               <br>\n",
    "<code style=\"background-color: white;\"><code style=\"background-color: blue; color: white;\">@property decorator                   </code>  –  learn how to use the <code style=\"background-color: yellow;\">@property decorator</code> to create a property</code>                  <br>\n",
    "<code style=\"background-color: white;\"><code style=\"background-color: blue; color: white;\">Read-only property                    </code>  –  learn how to define <u>read-only properties</u> and use them for computed properties</code>   <br>\n",
    "<code style=\"background-color: white;\"><code style=\"background-color: blue; color: white;\">Delete a property                     </code>  –  guide you on how to <u>delete a property</u> from an object</code>                             <br>\n",
    "<code style=\"background-color: white;\"><code style=\"background-color: blue; color: white;\">Advantages of using property in Python</code>  –  show you it's wider application through <u>practical examples</u></code>                                                              <br>\n",
    "\n",
    "<br>\n",
    "\n",
    "<span style=\"color: #DCBD10\">▬▬▬▬▬▬▬▬▬▬▬▬▬▬▬▬▬▬▬▬▬▬▬▬▬▬▬▬▬▬▬▬▬▬▬▬▬▬▬▬▬▬▬▬▬▬▬▬▬▬▬▬▬▬▬▬▬▬▬▬▬▬▬▬▬▬▬▬▬▬▬▬▬▬▬▬▬</span>\n"
   ]
  },
  {
   "cell_type": "markdown",
   "id": "9d099072-c626-47c2-872b-89eefe20a7c1",
   "metadata": {},
   "source": [
    "#### <code style=\"background-color: blue; color: white;\">Property</code>\n",
    "\n",
    "<br>\n",
    "\n",
    "<font size=\"+1\">⭐</font><u><strong><code style=\"font-size: 1.05rem; background-color: white;\">Summary</code></u>&nbsp;:</strong> <code style=\"background-color: white;\">In this tutorial, you’ll learn about the Python <span style=\"background-color: yellow;\">property</span> class and how to use it to define properties for a class.</code>\n",
    "\n",
    "<br>\n",
    "\n",
    "<span style=\"color: red;\">================================================================================================================</span>\n",
    "\n",
    "<br>\n",
    "\n",
    "<font size=\"+1\">⭐</font><u><strong><code style=\"font-size: 1.05rem; background-color: white;\">Introduction to class properties</code></strong></u>\n",
    "\n",
    "<code style=\"background-color: white;\">The following defines a <code style=\"color: red;\">Person</code> <span style=\"color: blue;\">class</span> that has two <span style=\"color: blue;\">attributes</span> <code style=\"color: red;\">name</code> and <code style=\"color: red;\">age</code>, and create a new instance of the <code style=\"color: red;\">Person</code> class:</code>"
   ]
  },
  {
   "cell_type": "code",
   "execution_count": 1,
   "id": "6adeed7b-7985-461e-b3f7-2adfcc9594d7",
   "metadata": {},
   "outputs": [],
   "source": [
    "\n",
    "class Person:\n",
    "    def __init__(self, name, age):\n",
    "        self.name = name\n",
    "        self.age = age\n",
    "\n",
    "avinash = Person('Avinash', 29)\n"
   ]
  },
  {
   "cell_type": "markdown",
   "id": "30c33714-820f-48b3-b8aa-de5795be68cc",
   "metadata": {},
   "source": [
    "<br>\n",
    "\n",
    "<code style=\"background-color: white;\">Since <code style=\"color: red;\">age</code> is the <span style=\"color: blue;\">instance attribute</span> of the <code style=\"color: red;\">Person</code> class, you can assign it a <u>new value</u> like this:</code>"
   ]
  },
  {
   "cell_type": "code",
   "execution_count": 2,
   "id": "f8e6ee8d-7280-4a90-9199-88328228cd11",
   "metadata": {},
   "outputs": [
    {
     "name": "stdout",
     "output_type": "stream",
     "text": [
      "30\n"
     ]
    }
   ],
   "source": [
    "\n",
    "avinash.age = 30\n",
    "\n",
    "print(avinash.age)\n"
   ]
  },
  {
   "cell_type": "markdown",
   "id": "7a81c168-5029-4d39-a9ac-6272fa1e9ebb",
   "metadata": {},
   "source": [
    "<br>\n",
    "\n",
    "<code style=\"background-color: white;\">The following assignment is also technically valid:</code>\n"
   ]
  },
  {
   "cell_type": "code",
   "execution_count": 3,
   "id": "0de991fc-782a-4b2e-9879-5302d5b82816",
   "metadata": {},
   "outputs": [
    {
     "name": "stdout",
     "output_type": "stream",
     "text": [
      "-1\n"
     ]
    }
   ],
   "source": [
    "\n",
    "avinash.age = -1\n",
    "\n",
    "print(avinash.age)\n"
   ]
  },
  {
   "cell_type": "markdown",
   "id": "11026ba9-9a75-4ebf-a0d2-40b57cc1b844",
   "metadata": {},
   "source": [
    "<br>\n",
    "\n",
    "<code style=\"background-color: white;\">However, this <code style=\"color: red;\">age</code> is <u>semantically incorrect</u>.</code>\n",
    "\n",
    "<code style=\"background-color: white;\">To ensure that the <code style=\"color: red;\">age</code> is not zero or negative, you use the <code style=\"color: blue;\">if</code> statement to add a check as follows:</code>\n",
    "\n",
    "<div style=\"margin-left: 6px;\">\n",
    "\n",
    "![](media/Shraddha_Kapra_oops_41.PNG)\n",
    "\n",
    "</div>\n",
    "\n",
    "<code style=\"background-color: white;\">And you need to do this every time you want to assign a value to the age attribute. <u>This is repetitive and difficult to maintain</u>.</code>\n",
    "\n",
    "<code style=\"background-color: #dcfefc;\">To avoid this repetition, you can define a pair of methods called <span style=\"font-size: 1rem;\"><strong>getter</strong></span> and <span style=\"font-size: 1rem;\"><strong>setter</strong></span>.</code>\n",
    "\n",
    "<br>\n",
    "\n",
    "<span style=\"color: red;\">================================================================================================================</span>\n",
    "\n",
    "<br>\n",
    "\n",
    "<font size=\"+1\">⭐</font><u><strong><code style=\"font-size: 1.05rem; background-color: white;\">Getter and Setter</code></strong></u>\n",
    "\n",
    "<code style=\"background-color: white;\">The getter and setter methods provide an interface for accessing an instance attribute:</code>\n",
    "\n",
    "&nbsp;&nbsp;&nbsp;&nbsp;&nbsp;&nbsp;&nbsp;<span style=\"color: red;\">▷</span>&nbsp;&nbsp;<code style=\"background-color: white;\">The <span style=\"font-size: 1rem;\"><strong>getter</strong></span> returns the value of an attribute</code>   <br>\n",
    "&nbsp;&nbsp;&nbsp;&nbsp;&nbsp;&nbsp;&nbsp;<span style=\"color: red;\">▷</span>&nbsp;&nbsp;<code style=\"background-color: white;\">The <span style=\"font-size: 1rem;\"><strong>setter</strong></span> sets a new value for an attribute</code>\n",
    "\n",
    "<br>\n",
    "\n",
    "In <code style=\"background-color: white;\">the above example, you can make the <code style=\"color: red;\">age</code> attribute <u><span style=\"color: blue; font-size: 1rem;\"><strong>private</strong></span> (by convention)</u> and define a <span style=\"font-size: 1rem;\"><strong>getter</strong></span> and a <span style=\"font-size: 1rem;\"><strong>setter</strong></span> to manipulate the <code style=\"color: red;\">age</code> attribute.</code>\n"
   ]
  },
  {
   "cell_type": "code",
   "execution_count": 4,
   "id": "ca518c0f-06d5-4381-aa1f-aaf52344fc7b",
   "metadata": {},
   "outputs": [],
   "source": [
    "\n",
    "class Person:\n",
    "    def __init__(self, name, age):\n",
    "        self.name = name\n",
    "        # self._age = age              # you  need  to  add  the  validation check  before  setting  the  age,  so  better  call  the  set_age()  method\n",
    "        self.set_age(age)              # calls  the  set_age()  setter  method  to  initialize  the  \"_age\"  attribute\n",
    "\n",
    "    def get_age(self):                 # getter\n",
    "        return self._age\n",
    "\n",
    "    def set_age(self, age):            # setter\n",
    "        if age <= 0:\n",
    "            raise ValueError('The age must be positive')\n",
    "        self._age = age\n"
   ]
  },
  {
   "cell_type": "markdown",
   "id": "b04491bf-b30b-4217-a19a-005938dae18f",
   "metadata": {},
   "source": [
    "<br>\n",
    "\n",
    "<u><span style=\"font-size: 1rem;\"><strong>Note</strong></span></u> &nbsp;&nbsp;&nbsp;===>&nbsp;&nbsp; <code style=\"background-color:  #dcfefc \n",
    ";\">By convention the <span style=\"font-size: 0.8rem;\"><strong>getter</strong></span> and <span style=\"font-size: 0.8rem;\"><strong>setter</strong></span> have the following name:  <span style=\"color: red; font-size: 1rem;\"><strong>get_\\<attribute>()</strong></span>   and   <span style=\"color: red; font-size: 1rem;\"><strong>set_\\<attribute>()</strong></span></code>\n",
    "\n",
    "&nbsp;&nbsp;&nbsp;&nbsp;&nbsp;&nbsp;&nbsp;&nbsp;&nbsp;&nbsp;&nbsp;&nbsp;&nbsp;&nbsp;===>&nbsp;&nbsp;<code style=\"background-color: white;\">Private attribute <code style=\"color: red;\">_age</code> cannot be accessed like a Public attribute <code style=\"color: red;\">age</code></code>\n"
   ]
  },
  {
   "cell_type": "code",
   "execution_count": 5,
   "id": "74ee0709-3d68-466d-bf7e-5203d14505ef",
   "metadata": {},
   "outputs": [
    {
     "ename": "ValueError",
     "evalue": "The age must be positive",
     "output_type": "error",
     "traceback": [
      "\u001b[1;31m---------------------------------------------------------------------------\u001b[0m",
      "\u001b[1;31mValueError\u001b[0m                                Traceback (most recent call last)",
      "Cell \u001b[1;32mIn[5], line 5\u001b[0m\n\u001b[0;32m      1\u001b[0m avinash \u001b[38;5;241m=\u001b[39m Person(\u001b[38;5;124m'\u001b[39m\u001b[38;5;124mAvinash\u001b[39m\u001b[38;5;124m'\u001b[39m, \u001b[38;5;241m18\u001b[39m)\n\u001b[0;32m      3\u001b[0m \u001b[38;5;66;03m# print(avinash.age)                  # OUTPUT:  AttributeError: 'Person' object has no attribute 'age'\u001b[39;00m\n\u001b[1;32m----> 5\u001b[0m \u001b[43mavinash\u001b[49m\u001b[38;5;241;43m.\u001b[39;49m\u001b[43mset_age\u001b[49m\u001b[43m(\u001b[49m\u001b[38;5;241;43m-\u001b[39;49m\u001b[38;5;241;43m19\u001b[39;49m\u001b[43m)\u001b[49m                  \u001b[38;5;66;03m# OUTPUT:  ValueError: The age must be positive\u001b[39;00m\n",
      "Cell \u001b[1;32mIn[4], line 12\u001b[0m, in \u001b[0;36mPerson.set_age\u001b[1;34m(self, age)\u001b[0m\n\u001b[0;32m     10\u001b[0m \u001b[38;5;28;01mdef\u001b[39;00m \u001b[38;5;21mset_age\u001b[39m(\u001b[38;5;28mself\u001b[39m, age):            \u001b[38;5;66;03m# setter\u001b[39;00m\n\u001b[0;32m     11\u001b[0m     \u001b[38;5;28;01mif\u001b[39;00m age \u001b[38;5;241m<\u001b[39m\u001b[38;5;241m=\u001b[39m \u001b[38;5;241m0\u001b[39m:\n\u001b[1;32m---> 12\u001b[0m         \u001b[38;5;28;01mraise\u001b[39;00m \u001b[38;5;167;01mValueError\u001b[39;00m(\u001b[38;5;124m'\u001b[39m\u001b[38;5;124mThe age must be positive\u001b[39m\u001b[38;5;124m'\u001b[39m)\n\u001b[0;32m     13\u001b[0m     \u001b[38;5;28mself\u001b[39m\u001b[38;5;241m.\u001b[39m_age \u001b[38;5;241m=\u001b[39m age\n",
      "\u001b[1;31mValueError\u001b[0m: The age must be positive"
     ]
    }
   ],
   "source": [
    "\n",
    "avinash = Person('Avinash', 18)\n",
    "\n",
    "# print(avinash.age)                  # OUTPUT:  AttributeError: 'Person' object has no attribute 'age'\n",
    "\n",
    "avinash.set_age(-19)                  # OUTPUT:  ValueError: The age must be positive\n"
   ]
  },
  {
   "cell_type": "markdown",
   "id": "cf54c579-b2e1-408b-8209-26bbfeebe60e",
   "metadata": {},
   "source": [
    "<br>\n",
    "\n",
    "<code style=\"background-color: white;\">This code works just fine. But it has a <span style=\"font-size: 0.9rem; background-color: yellow;\">backward compatibility issue</span>.</code>\n",
    "\n",
    "<br>\n",
    "\n",
    "<div style=\"background-color: #fbe8ff; padding: 20px; margin-left: -10px;\">\n",
    "\n",
    "Suppose <code style=\"background-color: #fbe8ff;\">you added the <span style=\"font-size: 0.9rem;\"><strong>getter</strong></span> and <span style=\"font-size: 0.9rem;\"><strong>setter</strong></span> for the instance attribute <span style=\"color: blue; font-size: 0.9rem;\"><strong>_age</strong></span> of the <span style=\"color: red; font-size: 0.9rem;\"><strong>Person</strong></span> class to add some validation check on it while other developers have abeen already using it.</code>\n",
    "\n",
    "<br>\n",
    "\n",
    "You <code style=\"background-color: #fbe8ff;\">may fear it may break their code (i.e, all their code that uses the <span style=\"color: red; font-size: 0.9rem;\"><strong>Person</strong></span> class won’t work anymore) and now they might have to change it to get and set the instance attribute <span style=\"color: blue; font-size: 0.9rem;\"><strong>_age</strong></span> through the <span style=\"font-size: 1rem;\"><strong>getter</strong></span> and <span style=\"font-size: 1rem;\"><strong>setter</strong></span> method.</code>\n",
    "\n",
    "<br>\n",
    "\n",
    "But <code style=\"background-color: #fbe8ff;\">surprisingly, you'll find that even after releasing your code and merging with theirs, <span style=\"background-color: white;\">they are <u>still able</u> to get and set that instance attribute <span style=\"color: blue; font-size: 0.9rem;\"><strong>_age</strong></span> without using the <span style=\"font-size: 1rem;\"><strong>getter</strong></span> and <span style=\"font-size: 1rem;\"><strong>setter</strong></span> methods recently added. In other words, without doing any validation check which fails the purpose of adding the <span style=\"font-size: 1rem;\"><strong>getter</strong></span> and <span style=\"font-size: 1rem;\"><strong>setter</strong></span>.</span> This is called the <span style=\"font-size: 0.9rem; background-color: yellow;\">backward compatibility issue</span>.</code>\n",
    "\n",
    "</div> <br>\n",
    "\n",
    "<br>\n",
    "\n",
    "<code style=\"background-color: white;\">Let's understand this <span style=\"font-size: 0.9rem; background-color: yellow;\">backward compatibility issue</span> through an example</code>:\n",
    "\n",
    "<div style=\"margin-left: 10px;\">\n",
    "\n",
    "![](media/Shraddha_Kapra_oops_42.PNG)\n",
    "\n",
    "</div>"
   ]
  },
  {
   "cell_type": "code",
   "execution_count": 6,
   "id": "2426c55f-2024-4ebf-8fd9-ee78ad2f55c3",
   "metadata": {},
   "outputs": [
    {
     "name": "stdout",
     "output_type": "stream",
     "text": [
      "30\n",
      "-1\n",
      "25\n",
      "26\n"
     ]
    },
    {
     "ename": "ValueError",
     "evalue": "The age must be positive",
     "output_type": "error",
     "traceback": [
      "\u001b[1;31m---------------------------------------------------------------------------\u001b[0m",
      "\u001b[1;31mValueError\u001b[0m                                Traceback (most recent call last)",
      "Cell \u001b[1;32mIn[6], line 28\u001b[0m\n\u001b[0;32m     26\u001b[0m p2\u001b[38;5;241m.\u001b[39mset_age(\u001b[38;5;241m26\u001b[39m)                                                                \u001b[38;5;66;03m#  USING  setter\u001b[39;00m\n\u001b[0;32m     27\u001b[0m \u001b[38;5;28mprint\u001b[39m(p2\u001b[38;5;241m.\u001b[39mget_age())                 \u001b[38;5;66;03m# OUTPUT: 26                              #  USING  getter\u001b[39;00m\n\u001b[1;32m---> 28\u001b[0m \u001b[43mp2\u001b[49m\u001b[38;5;241;43m.\u001b[39;49m\u001b[43mset_age\u001b[49m\u001b[43m(\u001b[49m\u001b[38;5;241;43m-\u001b[39;49m\u001b[38;5;241;43m1\u001b[39;49m\u001b[43m)\u001b[49m                      \u001b[38;5;66;03m# ValueError: The age must be positive    #  USING  setter             ===>   This throws validation error\u001b[39;00m\n",
      "Cell \u001b[1;32mIn[6], line 13\u001b[0m, in \u001b[0;36mPerson.set_age\u001b[1;34m(self, age)\u001b[0m\n\u001b[0;32m     11\u001b[0m \u001b[38;5;28;01mdef\u001b[39;00m \u001b[38;5;21mset_age\u001b[39m(\u001b[38;5;28mself\u001b[39m, age):         \u001b[38;5;66;03m# setter\u001b[39;00m\n\u001b[0;32m     12\u001b[0m     \u001b[38;5;28;01mif\u001b[39;00m age \u001b[38;5;241m<\u001b[39m\u001b[38;5;241m=\u001b[39m \u001b[38;5;241m0\u001b[39m:\n\u001b[1;32m---> 13\u001b[0m         \u001b[38;5;28;01mraise\u001b[39;00m \u001b[38;5;167;01mValueError\u001b[39;00m(\u001b[38;5;124m'\u001b[39m\u001b[38;5;124mThe age must be positive\u001b[39m\u001b[38;5;124m'\u001b[39m)\n\u001b[0;32m     14\u001b[0m     \u001b[38;5;28mself\u001b[39m\u001b[38;5;241m.\u001b[39m_age \u001b[38;5;241m=\u001b[39m age\n",
      "\u001b[1;31mValueError\u001b[0m: The age must be positive"
     ]
    }
   ],
   "source": [
    "\n",
    "# NEW  SNAPSHOT  OF  THE  MERGED  CODEBASE  FOR  BOTH  THE  DEVELOPERS\n",
    "\n",
    "class Person:\n",
    "    def __init__(self, name, age):\n",
    "        self.name = name\n",
    "        self.set_age(age)           # sets  \"_age\"  WITH  validation\n",
    "\n",
    "    def get_age(self):              # getter\n",
    "        return self._age\n",
    "\n",
    "    def set_age(self, age):         # setter\n",
    "        if age <= 0:\n",
    "            raise ValueError('The age must be positive')\n",
    "        self._age = age\n",
    "\n",
    "\n",
    "p1 = Person(\"Avinash\", 30)\n",
    "\n",
    "print(p1._age)                     # OUTPUT:  30                              #  WITHOUT  USING  getter\n",
    "p1._age = -1                                                                  #  WITHOUT  USING  setter    ===>   This does not throw validation error\n",
    "print(p1._age)                     # OUTPUT:  -1                              #  WITHOUT  USING  getter\n",
    "\n",
    "p2 = Person(\"Aman\", 25)\n",
    "\n",
    "print(p2.get_age())                 # OUTPUT: 25                              #  USING  getter\n",
    "p2.set_age(26)                                                                #  USING  setter\n",
    "print(p2.get_age())                 # OUTPUT: 26                              #  USING  getter\n",
    "p2.set_age(-1)                      # ValueError: The age must be positive    #  USING  setter             ===>   This throws validation error\n"
   ]
  },
  {
   "cell_type": "markdown",
   "id": "9ac36bdb-0bfd-41d7-8b55-6e705f08f925",
   "metadata": {},
   "source": [
    "<br>\n",
    "\n",
    "The <code style=\"background-color: white;\"><span style=\"font-size: 0.9rem; background-color: yellow;\">backward compatibility issue</span> in this scenario arises because <span style=\"font-size: 1rem;\"><strong>Python does not enforce strict encapsulation</strong></span>. Even though the <code style=\"color: red;\">_age</code> attribute is intended to be treated as \"<span style=\"color: blue;\">private</span>\" (indicated by the leading underscore), <code>it is still accessible and modifiable directly, outside of the <span style=\"color: red;\">Person</span> class</code>. This is why you can access <code>p1.<span style=\"color: red;\">_age</span></code> and modify it directly, even after <u>developer2</u> introduced the <code style=\"color: blue;\">get_age()</code> and <code style=\"color: blue;\">set_age()</code> methods to handle validation.</code>\n",
    "\n",
    "<br>\n",
    "\n",
    "<code style=\"color: black; font-size: 1rem; background-color: #2471a3; color: white;\">Why this happens :</code>\n",
    "\n",
    "<div style=\"margin-left: 50px\">\n",
    "<span style=\"font-size: 1.1rem;\">↳</span> &nbsp;<span style= \"font-size: 1rem; color: #2ecc71;\"><strong>Leading &nbsp;Underscore (<code style=\"color: red;\">_</code>)</strong></span><code style=\"background-color: white;\">: In Python, a leading underscore is a convention that indicates an attribute is intended to be used only internally (i.e., \"<span style=\"color: blue;\">private</span>\" by convention), but it is not enforced by the language itself. You can still directly access and modify it from outside the class, as you have done with <code>p1.<span style=\"color: red;\">_age</span> = 31</code>.</code>\n",
    "</div>\n",
    "\n",
    "<br>\n",
    "\n",
    "<div style=\"margin-left: 50px\">\n",
    "<span style=\"font-size: 1.1rem;\">↳</span> &nbsp;<span style= \"font-size: 1rem; color: #2ecc71;\"><strong>Backward &nbsp;Compatibility</strong></span><code style=\"background-color: white;\">:</code><code style=\"background-color: white;\">The <span style=\"background-color: yellow;\">issue</span> here is that while <u>developer2</u> introduced <span style=\"font-size: 1rem;\"><strong>getter</strong></span> and <span style=\"font-size: 1rem;\"><strong>setter</strong></span> methods to validate and encapsulate access to the <code style=\"color: red;\">_age</code> attribute, existing code (like <code>p1.<span style=\"color: red;\">_age</span> = 31</code>) from <u>developer1</u> still works without using those methods. <code style=\"background-color: #c9fffa;\">This breaks the intent of encapsulation and validation but preserves compatibility with older code, leading to potential inconsistencies in how the <span style=\"color: red;\">_age</span> attribute is handled</code>.</code>\n",
    "</div>\n",
    "\n",
    "<br>\n",
    "\n",
    "<code style=\"font-size: 1rem; background-color: #2471a3; color: white;\">How to Properly Encapsulate :</code>\n",
    "\n",
    "<div style=\"margin-left: 50px\">\n",
    "To <code style=\"background-color: white;\">truly restrict direct access and enforce encapsulation, you can use <span style=\"font-size: 1rem;\"><strong>double underscores (<code style=\"color: red;\">__</code>)</strong></span> for name mangling or Python's property mechanism:</code>\n",
    "\n",
    "<span style=\"font-size: 1rem; color: #2ecc71;\"><strong>1. Name &nbsp;Mangling &nbsp;(Double &nbsp;underscore)</strong></span> :   <br>\n",
    "&nbsp;&nbsp;&nbsp;&nbsp;&nbsp;&nbsp;&nbsp;&nbsp;&nbsp;&nbsp;&nbsp;&nbsp;<code style=\"background-color: white;\">Using <code style=\"color: red;\">__age</code> makes it harder (but not impossible) to access the attribute directly from outside the class.</code>\n",
    "\n",
    "</div>\n",
    "\n",
    "<div style=\"margin-left: 175px;\">\n",
    "\n",
    "![](media/Shraddha_Kapra_oops_43.PNG)\n",
    "\n",
    "</div>\n",
    "\n",
    "<div style=\"margin-left: 50px\">\n",
    "\n",
    "<span style=\"font-size: 1rem; color: #2ecc71;\"><strong>2. Using &nbsp;<span style=\"background-color: yellow; color: black;\">property</span> &nbsp;for &nbsp;Encapsulation</strong></span> :   <br>\n",
    "&nbsp;&nbsp;&nbsp;&nbsp;&nbsp;&nbsp;&nbsp;&nbsp;&nbsp;&nbsp;&nbsp;&nbsp;<code style=\"background-color: white;\">To define a <span style=\"font-size: 1rem;\"><strong>getter</strong></span> and <span style=\"font-size: 1rem;\"><strong>setter</strong></span> method while achieving <u>backward compatibility</u>, you can use the <span style=\"background-color: yellow;\">property()</span> class.</code>  <br>\n",
    "&nbsp;&nbsp;&nbsp;&nbsp;&nbsp;&nbsp;&nbsp;&nbsp;&nbsp;&nbsp;&nbsp;&nbsp;<code style=\"background-color: white;\">Alternatively, you can also use the <span style=\"background-color: yellow;\">@property decorator</span> to manage access to the <code style=\"color: red;\">_age</code> attribute.\n",
    "\n",
    "</div>\n",
    "\n",
    "<div style=\"margin-left: 110px;\">\n",
    "\n",
    "![](media/Shraddha_Kapra_oops_44.PNG)\n",
    "Now, <code style=\"background-color: white;\">directly accessing <code>p1.<span style=\"color: red;\">_age</span></code> or setting <code>p1.<span style=\"color: red;\">_age</span> = -1</code> <span style=\"font-size: 1rem;\"><strong>won't bypass the validation logic</strong></span>, enforcing proper encapsulation.</code>\n",
    "</div>\n",
    "\n",
    "<br>\n",
    "\n",
    "<span style=\"color: red;\">================================================================================================================</span>\n",
    "\n",
    "<br>\n",
    "\n",
    "<font size=\"+1\">⭐</font><u><strong><code style=\"font-size: 1.05rem; background-color: white;\">The Python property class</code></strong></u>\n",
    "\n",
    "<code style=\"background-color: white;\">The property class returns a <span style=\"background-color: yellow;\">property</span> <span style=\"font-size: 1rem;\"><strong>object</strong></span>. The <span style=\"background-color: yellow;\">property()</span> class has the following syntax:</code>\n",
    "\n",
    "<div style=\"margin-left: 70px;\">\n",
    "\n",
    "![](media/Shraddha_Kapra_oops_45.PNG)\n",
    "\n",
    "<code style=\"background-color: white\">The <span style=\"background-color: yellow;\">property()</span> has the following parameters:</code>\n",
    "\n",
    "&nbsp;&nbsp;&nbsp;&nbsp;&nbsp;&nbsp;&nbsp;&nbsp;&nbsp;<code style=\"background-color: white;\">● &nbsp;<code style=\"color: red;\">fget</code> is a function to get the value of the attribute, or the <span style=\"font-size: 1rem;\"><strong>getter</strong></span> method.</code>\n",
    "\n",
    "&nbsp;&nbsp;&nbsp;&nbsp;&nbsp;&nbsp;&nbsp;&nbsp;&nbsp;<code style=\"background-color: white;\">● &nbsp;<code style=\"color: red;\">fset</code> is a function to set the value of the attribute, or the <span style=\"font-size: 1rem;\"><strong>setter</strong></span> method.</code>\n",
    "\n",
    "&nbsp;&nbsp;&nbsp;&nbsp;&nbsp;&nbsp;&nbsp;&nbsp;&nbsp;<code style=\"background-color: white;\">● &nbsp;<code style=\"color: red;\">fdel</code> is a function to delete the attribute, or the <span style=\"font-size: 1rem;\"><strong>deleter</strong></span> method.</code>\n",
    "\n",
    "&nbsp;&nbsp;&nbsp;&nbsp;&nbsp;&nbsp;&nbsp;&nbsp;&nbsp;<code style=\"background-color: white;\">● &nbsp;<code style=\"color: red;\">doc</code> is a <span style=\"font-size: 1rem;\"><strong>docstring</strong></span> i.e., a comment.</code>\n",
    "\n",
    "</div>\n",
    "\n",
    "<br>\n",
    "\n",
    "<code style=\"background-color: white;\">The following uses the <span style=\"background-color: yellow;\">property()</span> function to define the <code style=\"color: red;\">age</code> property for the <code style=\"color: red;\">Person</code> class :</code>\n"
   ]
  },
  {
   "cell_type": "code",
   "execution_count": 8,
   "id": "e79ad158-5980-4f9d-83d8-264022c26ead",
   "metadata": {},
   "outputs": [],
   "source": [
    "\n",
    "class Person:\n",
    "\n",
    "    default_age = 18                                        # class attribute\n",
    "    \n",
    "    def __init__(self, name, age):\n",
    "        self.name = name                                    # instance attribute\n",
    "        self.age = age                                      # calls  the  setter  method   ====>  self.set_age(age)  ====>  set_age(self, age)   \n",
    "\n",
    "    def get_age(self):                                      # GETTER\n",
    "        return self._age\n",
    "\n",
    "    def set_age(self, age):                                 # SETTER\n",
    "        if age <= 0:\n",
    "            raise ValueError('The age must be positive')\n",
    "        self._age = age\n",
    "\n",
    "    age = property(fget=get_age, fset=set_age)             # creates an instance (object) of type property    ===>   \"age\" is a property class object\n"
   ]
  },
  {
   "cell_type": "markdown",
   "id": "737571c0-f539-4a82-8e7a-bd12e6b1e7a1",
   "metadata": {},
   "source": [
    "<br>\n",
    "\n",
    "In <code style=\"background-color: white;\">the <code style=\"color: red;\">Person</code> class, we create a new <span style=\"background-color: yellow;\">property <span style=\"font-size: 1rem;\"><strong>object</strong></span></span> by calling the <span style=\"background-color: yellow;\">property()</span> and assign the <span style=\"background-color: yellow;\">property <span style=\"font-size: 1rem;\"><strong>object</strong></span></span> to the <code style=\"color: red;\">age</code> attribute. <u>Note that the <code style=\"color: red;\">age</code> is a <span style=\"color: blue; font-size: 1rem;\"><strong>class attribute</strong></span></u>, not an <span style=\"color: blue;\">instance attribute</span>.</code>\n",
    "\n",
    "<div style=\"background-color: #caffc7; padding: 20px; margin-left: -10px;\">\n",
    "\n",
    "<pre>\n",
    "    \n",
    "    <span style=\"color: red;\">age</span> = property(fget=get_age, fset=set_age)\n",
    "\n",
    "</pre> <br>\n",
    "\n",
    "&nbsp;&nbsp;&nbsp;&nbsp;&nbsp;&nbsp;<code style=\"background-color: #caffc7;\"><code style=\"color: red; background-color: #caffc7;\">age</code> is a <span style=\"background-color: yellow;\">property <span style=\"font-size: 1rem;\"><strong>object</strong></span></span> which is stored as a <span style=\"color: blue;\">class attribute</span> of the <span style=\"background-color: yellow;\">property <span style=\"font-size: 1rem;\"><strong>class</strong></span></span>.</code>\n",
    "\n",
    "</div>\n",
    "\n",
    "<br>\n",
    "\n",
    "While <code style=\"background-color: white;\">you can directly verify it like a Python interpreter <u>by first searching it in the list of <span style=\"color: blue;\">instance attributes</span> and then in the list of <span style=\"color: blue; font-size: 1rem;\"><strong>class attributes</strong></span></u>; but even without going into that much details, you can still verify it by trying to access it like a <span style=\"color: blue; font-size: 1rem;\"><strong>class attribute</strong></span> i.e,</code> <code style=\"background-color: #fff2da;\">Classname.<span style=\"color: red;\">propertyobjectname</span></code>\n"
   ]
  },
  {
   "cell_type": "code",
   "execution_count": 9,
   "id": "ba664eda-ee3b-4b4f-8896-a0fbed2c974c",
   "metadata": {},
   "outputs": [
    {
     "name": "stdout",
     "output_type": "stream",
     "text": [
      "<property object at 0x0000014BFB038C20>\n"
     ]
    }
   ],
   "source": [
    "\n",
    "print(Person.age)\n"
   ]
  },
  {
   "cell_type": "markdown",
   "id": "7eec9dcf-f382-4563-a6d2-cfea38ba0892",
   "metadata": {},
   "source": [
    "<br>\n",
    "\n",
    "But <code style=\"background-color: white;\">unlike a <span style=\"color: blue;\">class attribute</span> which remains same for all the instances of the <code style=\"color: red;\">Person</code> class, <u>the <span style=\"background-color: yellow;\">property object age</span> can have <span style=\"font-size: 1rem;\"><strong>different values for different objects</strong></span> of the <code style=\"color: red;\">Person</code> class</u> just like the <span style=\"color: blue;\">instance attribute</span> <code style=\"color: red;\">name</code>.</code>"
   ]
  },
  {
   "cell_type": "code",
   "execution_count": 11,
   "id": "f6ec2558-17e5-46b7-ba10-f983116acea6",
   "metadata": {},
   "outputs": [
    {
     "name": "stdout",
     "output_type": "stream",
     "text": [
      "30\n",
      "25\n"
     ]
    }
   ],
   "source": [
    "\n",
    "avinash = Person('Avinash', 30)       # creates  an  object  \"Avinash\"  of  type  \"Person\"\n",
    "print(avinash.age)                    # calls  the  getter  method                            ===>     get_age(avinash)\n",
    "\n",
    "aman = Person('Aman', 25)             # creates  an  object  \"aman\"  of  type  \"Person\"\n",
    "print(aman.age)                       # calls  the  getter  method                            ===>     get_age(avinash)\n"
   ]
  },
  {
   "cell_type": "markdown",
   "id": "342b228e-d0d0-459e-babb-db72b3fba2cc",
   "metadata": {},
   "source": [
    "<br>\n",
    "\n",
    "So <code style=\"background-color: white;\">now that we know <code style=\"color: red;\">age</code> is a <u><span style=\"font-size: 1rem; color: blue;\"><strong>class attribute</strong></span> in <span style=\"font-size: 1rem;\"><strong>reality</strong></span></u> but <u><span style=\"font-size: 1rem; color: blue;\">instance attribute</span> in behavior</u>, let's check what does it return when we try to access it through the <span style=\"background-color: #ffd4ab;\">classname</span> and an <span style=\"background-color: #9afff6;\">objectname</span>.</code>"
   ]
  },
  {
   "cell_type": "code",
   "execution_count": 12,
   "id": "bbc44e39-20c7-409b-a95a-381b71935e84",
   "metadata": {},
   "outputs": [
    {
     "name": "stdout",
     "output_type": "stream",
     "text": [
      "<property object at 0x0000014BFB038C20>\n",
      "30\n"
     ]
    }
   ],
   "source": [
    "\n",
    "print(Person.age)           # accessing it like a class attribute returns the property abject \"age\"\n",
    "\n",
    "print(avinash.age)          # accessing it like an instance attribute returns the value of the property object \"age\"\n",
    "                            # it is actually calling the getter method   ====>   get_age(avinash)\n"
   ]
  },
  {
   "cell_type": "markdown",
   "id": "bd1b4de8-9097-450c-bfe5-ad1e7fc6a091",
   "metadata": {},
   "source": [
    "\n",
    "<div style=\"background-color: #caffc7; padding: 20px; margin-left: -10px;\"><br>\n",
    "    \n",
    "<code style=\"background-color: white;\">Classname.<span style=\"color: red;\">propertyobjectname</span> </code> &nbsp;&nbsp;&nbsp;&nbsp;===>&nbsp;&nbsp;&nbsp; <code style=\"color: black; background-color: #fff2da;\">\\<property object at 0x000001FD184854E0></code><br>\n",
    "\n",
    "<code  style=\"background-color: white;\">objectname.<span style=\"color: red;\">propertyobjectname</span></code> &nbsp;&nbsp;&nbsp;&nbsp;===>&nbsp;&nbsp;&nbsp;&nbsp;<code style=\"background-color: white; background-color: yellow;\">the actual value of that property for that object</code>\n",
    "</div>\n",
    "\n",
    "<br>\n",
    "\n",
    "As <code style=\"background-color: white;\">you can see, <u><code style=\"color: red;\">age</code> is not an <span style=\"color: blue;\">instance attribute</span></u>, but we still can access it <u>like an <span style=\"color: blue;\">instance attribute</span></u>  ===>  <code>avinash.<span style=\"color: red;\">age</span></code></code> <br>\n",
    "\n",
    "<div style=\"background-color: #ffe0b0; padding: 10px;\"> <br>\n",
    "    \n",
    "<code style=\"background-color: #ffe0b0\"><span style=\"background-color: yellow; font-size: 0.9rem;\">property object</span><code style=\"color: red; background-color: #ffe0b0;\">age</code>       ====>       <span style=\"color: red;\">age</span> is a <span style=\"background-color: yellow; font-size: 0.9rem;\">class attribute of property type</span>       ====>       <span style=\"color: red;\">age</span> is a <span style=\"background-color: yellow; font-size: 0.9rem;\">property class attribute</span></code>\n",
    "\n",
    "<br>\n",
    "\n",
    "<pre>\n",
    "    \n",
    "  <code></code>For convenience, you can refer a <u>property class attribute</u> as a <span style=\"font-size: 1rem;\"><strong>property attribute<strong></span>.</code>\n",
    "\n",
    "  It is also safe to say that a <span style=\"font-size: 1rem;\"><strong>property attribute<strong></span> is actually a <u><span style=\"color: blue; font-size: 1rem;\"><strong>class attribute</strong></span> in reality</u> but an <u><span style=\"color: blue;\">instance attribute</span> in behavior</u>.\n",
    "    \n",
    "</pre>\n",
    "\n",
    "<br>\n",
    "\n",
    "</div> <br>\n",
    "\n",
    "<br>\n",
    "\n",
    "<code style=\"background-color: white;\">If you still want some more clarity on this, let's first understand how does <code>avinash.<span style=\"color: red;\">age</span></code> works in the background :</code> <font size=\"+2\">↴</font><br>\n",
    "\n",
    "<br>\n",
    "\n",
    "<div>\n",
    "\n",
    "![](media/Shraddha_Kapra_oops_47.PNG)\n",
    "\n",
    "</div>\n",
    "\n"
   ]
  },
  {
   "cell_type": "markdown",
   "id": "50cedd0f-770b-4946-8d20-17470099d813",
   "metadata": {},
   "source": [
    "But <code style=\"background-color: white;\">before proceeding with exactly how <code>avinash.<span style=\"color: red;\">age</span></code> is accessing the value, let's first see <u>where actually are these different types of attributes stored</u> ?</code>\n",
    "\n",
    "<div style=\"margin-left: 70px;\">\n",
    "\n",
    "![](media/Shraddha_Kapra_oops_46.PNG)\n",
    "\n",
    "</div>\n",
    "\n",
    "So <code style=\"background-color: white;\">now you know whay <span style=\"color: red;\">age</span> is a <span style=\"color: blue; font-size: 1rem;\"><strong>class attribute</strong></span> (to be specific, a <span style=\"background-color: yellow;\">property class attribute</span>), and not an <span style=\"color: blue;\">instance attribute</span>.</code>\n"
   ]
  },
  {
   "cell_type": "code",
   "execution_count": 14,
   "id": "d0a14894-11cd-470b-a0f6-476427023716",
   "metadata": {},
   "outputs": [
    {
     "name": "stdout",
     "output_type": "stream",
     "text": [
      "Instance Attributes              ==>    ['name', '_age']\n",
      "Class Attributes                 ==>    ['__module__', 'default_age', '__init__', 'get_age', 'set_age', 'age', '__dict__', '__weakref__', '__doc__']\n",
      "Pre-defined Class Attributes     ==>    ['__module__', '__dict__', '__weakref__', '__doc__']\n",
      "Property Class Attributes        ==>    ['age']\n",
      "Non-property Class Attributes    ==>    ['default_age']\n"
     ]
    }
   ],
   "source": [
    "\n",
    "print(\"Instance Attributes              ==>   \", list(avinash.__dict__.keys()))\n",
    "\n",
    "\n",
    "print(\"Class Attributes                 ==>   \", list(Person.__dict__.keys()))\n",
    "\n",
    "\n",
    "# Pre-defined Class Attributes are starting with \"__\"\n",
    "print(\"Pre-defined Class Attributes     ==>   \", [key for key, value in Person.__dict__.items() if not callable(value) and key.startswith('__')])\n",
    "\n",
    "\n",
    "print(\"Property Class Attributes        ==>   \", [name for name, attr in vars(Person).items() if isinstance(attr, property)])\n",
    "\n",
    "\n",
    "lst = [key for key, value in Person.__dict__.items() if not callable(value) and not key.startswith('__')]      # class attributes not starting with \"__\"\n",
    "sublist = [name for name, attr in vars(Person).items() if isinstance(attr, property)]                          # property class attributes\n",
    "print(\"Non-property Class Attributes    ==>   \", [x for x in lst if x not in sublist])                         # non-property class attributes\n"
   ]
  },
  {
   "cell_type": "markdown",
   "id": "13dc1144-80b6-458e-b1d2-837a8fe9d6e8",
   "metadata": {},
   "source": [
    "<br>"
   ]
  },
  {
   "cell_type": "code",
   "execution_count": 15,
   "id": "26f3233d-1f5b-413d-9678-937fac78a7f6",
   "metadata": {},
   "outputs": [
    {
     "name": "stdout",
     "output_type": "stream",
     "text": [
      "Instance Attributes          ===>    ['name', '_age']\n",
      "Class Attributes             ===>    ['__module__', 'default_age', '__init__', 'get_age', 'set_age', 'age', '__dict__', '__weakref__', '__doc__']\n",
      "Property Class Attributes    ===>    ['age']\n"
     ]
    }
   ],
   "source": [
    "\n",
    "print(\"Instance Attributes          ===>   \", list(avinash.__dict__.keys()))\n",
    "\n",
    "\n",
    "print(\"Class Attributes             ===>   \", list(Person.__dict__.keys()))\n",
    "\n",
    "\n",
    "print(\"Property Class Attributes    ===>   \", [name for name, attr in vars(Person).items() if isinstance(attr, property)])\n"
   ]
  },
  {
   "cell_type": "markdown",
   "id": "2984d9c0-0b0a-4394-8ed1-deb4399d2903",
   "metadata": {},
   "source": [
    "<br>\n",
    "\n",
    "<div style=\"background-color: #c7fdb1;\"> <br>\n",
    "\n",
    "<code style=\"background-color: #c7fdb1;\">With this basic understanding in mind, let's now proceed with exactly how <code style=\"background-color: white;\">avinash.<span style=\"color: red;\">age</span></code> is working behind the scene:</code>\n",
    "\n",
    "<div style=\"margin-left: 32px;\">\n",
    "<font size=\"+1\">↳</font>&nbsp; Since <code style=\"background-color: #c7fdb1;;\"><code style=\"background-color: white;\">Person.<span style=\"color: red;\">age</span></code> is a <span style=\"background-color: yellow; color: black;\">property  <span style=\"font-size: 1rem;\"><strong>object</strong></span></span>. So when you <span style=\"color: red;\"><u><span style=\"color: blue;\">assign a value</span></u></span> to the <code style=\"color: red; background-color: white;\">age</code> object like <code style=\"background-color: white;\">avinash.<span style=\"color: red; background-color: white;\">age</span> = 31</code>, Python will call the function assigned to the <code style=\"color: red; background-color: white;\">fset</code> argument, which is the <code style=\"color: blue; background-color: white; font-size: 1rem;\"><strong>set_age()</strong></code> </code>\n",
    "</div>\n",
    "\n",
    "<br>\n",
    "\n",
    "<div style=\"margin-left: 32px;\">\n",
    "<font size=\"+1\">↳</font>&nbsp; Similarly, <code style=\"background-color: #c7fdb1;;\">when you read from the <code style=\"color: red; background-color: white;\">age</code> <span style=\"background-color: yellow; color: black;\">property  <span style=\"font-size: 1rem;\"><strong>object</strong></span></span>, it executes the function assigned to the <code style=\"color: red; background-color: white;\">fget</code> argument, which is the <code style=\"color: blue; background-color: white; font-size: 1rem;\"><strong>get_age()</strong></code> method.</code>\n",
    "</div>\n",
    "\n",
    "<br>\n",
    "\n",
    "</div>\n",
    "\n",
    "<br>\n",
    "<br>\n"
   ]
  },
  {
   "cell_type": "markdown",
   "id": "7c71105f-dee5-4b46-82c5-69f1818a548c",
   "metadata": {},
   "source": [
    "\n",
    "<div style=\"margin-left: 230px;\">\n",
    "\n",
    "![](media/Shraddha_Kapra_oops_48.PNG)\n",
    "\n",
    "</div>\n",
    "\n",
    "<br>\n",
    "\n",
    "<div style=\"margin-left: 0px;\">\n",
    "\n",
    "![](media/Shraddha_Kapra_oops_49.PNG)\n",
    "\n",
    "</div>\n",
    "\n",
    "<br>\n",
    "\n",
    "As <code style=\"background-color: white;\">you can see, <span style=\"background-color: yellow;  font-size: 0.9rem;\">property class attribute</span> \"<span style=\"color: red;\">age</span>\" is just a <span style=\"font-size: 1rem;\"><strong>wrapper</strong></span> and interestingly, it is actually the value of the instance attribute \"<span style=\"color: #4a62ff;\">_age</span>\" which is getting <u>pulled</u> or <u>updated</u> as and when you <u>get</u> or <u>set</u> the <span style=\"background-color: yellow; font-size: 0.9rem;\">property class attribute</span> \"<span style=\"color: red;\">age</span>\".</code>"
   ]
  },
  {
   "cell_type": "code",
   "execution_count": 16,
   "id": "4d721ffe-431a-45ef-9858-e2c067d7a8d2",
   "metadata": {},
   "outputs": [
    {
     "name": "stdout",
     "output_type": "stream",
     "text": [
      "30\n",
      "31\n"
     ]
    }
   ],
   "source": [
    "\n",
    "class Person:\n",
    "\n",
    "    default_age = 18                                                   # class attribute\n",
    "    \n",
    "    def __init__(self, name, age):\n",
    "        self.name = name                                               # instance attribute\n",
    "        self.age = age                                                 # calls the setter method  self.set_age(age)   ===>   set_age(self, age)   \n",
    "\n",
    "    # getter method\n",
    "    def get_age(self):                                                \n",
    "        return self._age                                               # instance attribute (private)\n",
    "\n",
    "    # setter method\n",
    "    def set_age(self, age):                               \n",
    "        if age <= 0:\n",
    "            raise ValueError('The age must be positive')\n",
    "        self._age = age                                                # instance attribute (private)\n",
    "\n",
    "    age = property(fget=get_age, fset=set_age)                         # creates an instance \"age\" of type \"property\"\n",
    "\n",
    "\n",
    "class property:\n",
    "    def __init__(self, fget=None, fset=None, fdel=None, doc=None):\n",
    "        self.fget = fget                                               # getter function\n",
    "        self.fset = fset                                               # setter function\n",
    "        self.fdel = fdel                                               # deleter function\n",
    "        self.__doc__ = doc                                             # documentation string\n",
    "\n",
    "    def __get__(self, instance, owner):\n",
    "        if instance is None:\n",
    "            return self\n",
    "        if self.fget is None:\n",
    "            raise AttributeError(\"unreadable attribute\")\n",
    "        return self.fget(instance)                                     # calls the getter\n",
    "\n",
    "    def __set__(self, instance, value):\n",
    "        if self.fset is None:\n",
    "            raise AttributeError(\"can't set attribute\")\n",
    "        self.fset(instance, value)                                     # calls the setter\n",
    "\n",
    "    def __delete__(self, instance):\n",
    "        if self.fdel is None:\n",
    "            raise AttributeError(\"can't delete attribute\")\n",
    "        self.fdel(instance)                                            # calls the deleter\n",
    "\n",
    "\n",
    "avinash = Person('Avinash', 30)            # calls  an  instance  \"avinash\"  of  type  \"Person\"\n",
    "print(avinash.age)                         # calls  the  getter  method  \"get_age(avinash)\"  &  prints  the  value  of  the  property  attribute  \"age\" \n",
    "\n",
    "avinash.age = 31                           # calls  the  setter  method  \"set_age(avinash, age)\" and updates the value of the property attribute \"age\"\n",
    "print(avinash.age)                         # calls  the  getter  method  \"get_age(avinash)\"  &  prints  the  value  of  the  property  attribute  \"age\"\n"
   ]
  },
  {
   "cell_type": "markdown",
   "id": "7759a019-f9e3-48c3-87c3-f22d7b230983",
   "metadata": {},
   "source": [
    "<br>\n",
    "\n",
    "<div style=\"background-color: #ffe0b0; padding-left: 20px; padding-top: 20px; padding-bottom: 8px;\">\n",
    "\n",
    "By <code style=\"background-color: #ffe0b0;\">using the <span style=\"background-color: yellow;\">property() <span style=\"font-size: 1rem;\"><strong>class</strong></span></span>, we can <u>add a <span style=\"background-color: yellow;\">property</span> to a class while maintaining <span style=\"font-size: 1rem;\"><strong>backward compatibility</strong></span></u>. In practice, you will define the attributes first. Later, you can add the property to the class if needed.</code>\n",
    "</div>\n",
    "\n",
    "<br>\n",
    "\n",
    "<code style=\"background-color: white;\">To <u>summarise</u>, let's put it all together.</code>"
   ]
  },
  {
   "cell_type": "code",
   "execution_count": 17,
   "id": "b5d1573c-cc5d-40d2-9b4e-b530b02aeee5",
   "metadata": {},
   "outputs": [
    {
     "name": "stdout",
     "output_type": "stream",
     "text": [
      "<__main__.property object at 0x0000014BFB568B50> \n",
      "\n",
      "{'name': 'Avinash', '_age': 30} \n",
      "\n",
      "mappingproxy({'__dict__': <attribute '__dict__' of 'Person' objects>,\n",
      "              '__doc__': None,\n",
      "              '__init__': <function Person.__init__ at 0x0000014BFB57A160>,\n",
      "              '__module__': '__main__',\n",
      "              '__weakref__': <attribute '__weakref__' of 'Person' objects>,\n",
      "              'age': <__main__.property object at 0x0000014BFB568B50>,\n",
      "              'get_age': <function Person.get_age at 0x0000014BFB57A3E0>,\n",
      "              'set_age': <function Person.set_age at 0x0000014BFB57A340>})\n"
     ]
    }
   ],
   "source": [
    "\n",
    "from pprint import pprint                                   # To beautify the JSON OUTPUT\n",
    "\n",
    "class Person:\n",
    "    def __init__(self, name, age):\n",
    "        self.name = name                                    # instance attribute\n",
    "        self.age = age                                      # property class attribute\n",
    "\n",
    "    def set_age(self, age):\n",
    "        if age <= 0:\n",
    "            raise ValueError('The age must be positive')\n",
    "        self._age = age                                     # instance attribute (private)\n",
    "\n",
    "    def get_age(self):\n",
    "        return self._age                                    # instance attribute (private)\n",
    "\n",
    "    age = property(fget=get_age, fset=set_age)              # creates an instance \"age\" of type property\n",
    "\n",
    "\n",
    "print(Person.age, \"\\n\")                                     # OUTPUT:  <__main__.property object at 0x00000249611A1B10>\n",
    "\n",
    "avinash = Person('Avinash', 30)\n",
    "print(avinash.__dict__, \"\\n\")                               # OUTPUT:  {'name': 'Avinash', '_age': 30} \n",
    "\n",
    "avinash.age = 31\n",
    "pprint(Person.__dict__)                                     # OUTPUT:  {......,  'age': <__main__.property object at 0x00000249611A1B10>,  ......}\n"
   ]
  },
  {
   "cell_type": "markdown",
   "id": "7131b2ce-5eb3-4feb-87af-9f14b65abab5",
   "metadata": {},
   "source": [
    "<br>\n",
    "\n",
    "<strong><span style=\"color: blue; font-size: 1rem;\"><u>Note</u></span></strong> &nbsp;:&nbsp; <br>\n",
    "At <code style=\"background-color: white;\">least <u>property <span style=\"font-size: 1rem;\"><strong>getter</strong></span></u> and <u>property <span style=\"font-size: 1rem;\"><strong>setter</strong></span></u> should always be together. Beause if there is no <u>property <span style=\"font-size: 1rem;\"><strong>setter</strong></span></u>, <span style=\"color: red;\">you can't even create an instance with that <span style=\"font-size: 1rem;\"><strong>property attribute</strong></span></span>. And if there is no <u>property <span style=\"font-size: 1rem;\"><strong>getter</strong></span></u>, although the <span style=\"background-color: yellow; font-size: 0.9rem;\">property attribute</span> will be created but what's the use of creating a <span style=\"background-color: yellow; font-size: 0.9rem;\">property attribute</span> when <span style=\"color: red;\">you can't access the value of the <span style=\"font-size: 1rem;\"><strong>property attribute</strong></span></span>.</code>"
   ]
  },
  {
   "cell_type": "markdown",
   "id": "76470192-a378-4fbf-8c3f-bd4ee78b76a4",
   "metadata": {},
   "source": [
    "<br>\n",
    "\n",
    "<div style=\"margin-left: 82px;\">\n",
    "\n",
    "![](media/Shraddha_Kapra_oops_53.PNG)\n",
    "\n",
    "</div>\n",
    "\n",
    "<div style=\"margin-left: 90px;\">\n",
    "\n",
    "![](media/Shraddha_Kapra_oops_52.PNG)\n",
    "\n",
    "</div>"
   ]
  },
  {
   "cell_type": "markdown",
   "id": "332d1e49-e2e8-4793-b64e-0c04b6743a9e",
   "metadata": {},
   "source": [
    "\n",
    "<span style=\"color: #DCBD10\">▬▬▬▬▬▬▬▬▬▬▬▬▬▬▬▬▬▬▬▬▬▬▬▬▬▬▬▬▬▬▬▬▬▬▬▬▬▬▬▬▬▬▬▬▬▬▬▬▬▬▬▬▬▬▬▬▬▬▬▬▬▬▬▬▬▬▬▬▬▬▬▬▬▬▬▬▬</span>\n"
   ]
  },
  {
   "cell_type": "markdown",
   "id": "ccc78ba6-2ef3-4b51-bd8a-8a8927b3949a",
   "metadata": {},
   "source": [
    "#### <code style=\"background-color: blue; color: white;\">@property decorator</code>\n",
    "\n",
    "<br>"
   ]
  },
  {
   "cell_type": "markdown",
   "id": "96144171-6f19-4aa3-b3dc-446e767652e1",
   "metadata": {},
   "source": [
    "\n",
    "<font size=\"+1\">⭐</font><u><strong><code style=\"font-size: 1.05rem; background-color: white;\">Summary</code></u>&nbsp;:</strong> <code style=\"background-color: white;\">in this tutorial, you’ll learn about Python <span style=\"font-size: 1rem;\"><strong>property decorator</strong></span> (<span style=\"background-color: yellow;\">@property</span>) and more importantly how it works.</code>\n",
    "\n",
    "\n",
    "<br>\n",
    "\n",
    "<span style=\"color: red;\">================================================================================================================</span>\n",
    "\n",
    "<br>\n",
    "\n",
    "<font size=\"+1\">⭐</font><u><strong><code style=\"font-size: 1.05rem; background-color: white;\">Introduction to the Python <span style=\"background-color: yellow;\">property</span> decorator</code></u>&nbsp;</strong>\n",
    "\n",
    "\n",
    "<br>\n",
    "\n",
    "<div style=\"background-color: #ffe9b9; padding: 20px;\">\n",
    "We <code style=\"background-color: #ffe9b9;\">use <span style=\"background-color: yellow;\">@property</span> <span style=\"font-size: 1rem;\"><strong>decorator</strong></span> on any method in a class <u>to use the method as a property</u>. Or simply, <u>to create a property for a class</u>.</code> \n",
    "</div>\n",
    "<div style=\"background-color: #c3fff9; padding: 20px;\">\n",
    "In <code style=\"background-color: #c3fff9\">Python, the <span style=\"background-color: yellow;\">@property</span> <span style=\"font-size: 1rem;\"><strong>decorator</strong></span> is used <u>to define methods in a class that <span style=\"color: red;\">act as <span style=\"font-size: 1rem;\"><strong>attributes</strong></span></span></u>. This allows us to create <u>managed attributes</u>, where we can define <u>custom behavior</u> when <span style=\"font-size: 1rem;\"><strong>getting</strong></span>, <span style=\"font-size: 1rem;\"><strong>setting</strong></span>, or <span style=\"font-size: 1rem;\"><strong>deleting</strong></span> an attribute.</code>\n",
    "</div>\n",
    "<div style=\"background-color: #ffddfe; padding: 20px;\">\n",
    "<span style=\"background-color: yellow;\">@property</span> <code style=\"background-color: #ffddfe;\"><span style=\"color: red;\">decorator</span> is preferred more than <span style=\"background-color: yellow;\">property()</span> <span style=\"color: red;\">class</span> because it does not only <u>reduce <span style=\"font-size: 1rem;\"><strong>code-redundancy</strong></span></u> but also make it <span style=\"font-size: 1rem;\"><strong>convenient</strong></span> and more <span style=\"font-size: 1rem;\"><strong>readable</strong></span> for the coders.</code> \n",
    "</div>\n",
    "\n",
    "<br>\n",
    "\n",
    "<code style=\"background-color: white;\">Consider the following example :</code>"
   ]
  },
  {
   "cell_type": "code",
   "execution_count": 18,
   "id": "696f8655-4a91-438a-b3a1-84a0436666df",
   "metadata": {},
   "outputs": [
    {
     "name": "stdout",
     "output_type": "stream",
     "text": [
      "98.0 %\n",
      "98.0 %\n"
     ]
    }
   ],
   "source": [
    "\n",
    "class Student:\n",
    "    def __init__(self, phy, chem, maths):\n",
    "        self.phy = phy\n",
    "        self.chem = chem\n",
    "        self.maths = maths\n",
    "        self.percentage = str((self.phy + self.chem + self.maths) / 3) + \" %\"\n",
    "\n",
    "\n",
    "stud1 = Student(98, 97, 99)\n",
    "\n",
    "print(stud1.percentage)      # OUTPUT: 98 %\n",
    "\n",
    "stud1.phy = 86\n",
    "\n",
    "print(stud1.percentage)      # OUTPUT: 98 %       EXPECTED: 94 %      # Note: \"percentage\" is used as an ATTRIBUTE not METHOD   ===>   stud1.percentage\n"
   ]
  },
  {
   "cell_type": "markdown",
   "id": "e12eb681-6dd9-4067-a4cb-70f87ea2a4b4",
   "metadata": {},
   "source": [
    "<br>\n",
    "\n",
    "<code style=\"background-color: white;\">&nbsp;As you can see, the actual output is still 98% which is not correct.</code>\n",
    "\n",
    "<pre style=\"background-color: #ffe9b9; padding: 20px; margin-left: -10px;\">\n",
    "There are two ways to solve this:\n",
    "    \n",
    "    1. using a <u>simple method</u> dedicated to calculate percentage only\n",
    "    \n",
    "    2. making percentage a <span style=\"font-size: 1rem; color: blue;\"><strong>property</strong></span> (<u><span style=\"color: red;\">a special type of method</span></u>) and <span style=\"font-size: 1rem; color: black;\"><strong>calling it as an attribute</strong></span> <font size=\"+1\">⭐</font>\n",
    "</pre>\n",
    "\n",
    "<br> <font size= +1>↳</font> <code style=\"background-color: #ceffbd;\">using a simple method dedicated to calculate percentage only</code>"
   ]
  },
  {
   "cell_type": "code",
   "execution_count": 19,
   "id": "f216b324-708c-4b77-b1bb-8d8d92c9ca2d",
   "metadata": {},
   "outputs": [
    {
     "name": "stdout",
     "output_type": "stream",
     "text": [
      "98.0 %\n",
      "94.0 %\n"
     ]
    }
   ],
   "source": [
    "\n",
    "class Student:\n",
    "    def __init__(self, phy, chem, maths):\n",
    "        self.phy = phy\n",
    "        self.chem = chem\n",
    "        self.maths = maths\n",
    "        # self.percentage = str((self.phy + self.chem + self.maths) / 3) + \" %\"\n",
    "\n",
    "    def percentage(self):\n",
    "        return str((self.phy + self.chem + self.maths) / 3) + \" %\"\n",
    "\n",
    "stud1 = Student(98, 97, 99)\n",
    "\n",
    "print(stud1.percentage())      # OUTPUT: 98 %\n",
    "\n",
    "stud1.phy = 86\n",
    "\n",
    "print(stud1.percentage())      # OUTPUT: 98 %                        # Note: \"percentage\" is used as a METHOD not ATTRIBUTE   ===>   stud1.percentage()\n"
   ]
  },
  {
   "cell_type": "markdown",
   "id": "b810d4f3-3728-4246-95f6-fb4df693bf57",
   "metadata": {},
   "source": [
    "<br> <font size= +1>↳</font> <code style=\"background-color: #ceffbd;\">making percentage a <span style=\"font-size: 1rem; color: blue;\"><strong>property</strong></span> (<u><span style=\"color: red;\">a special type of method</span></u>) and <span style=\"font-size: 1rem; color: black;\"><strong>calling it as an attribute</strong></code></span>"
   ]
  },
  {
   "cell_type": "code",
   "execution_count": 20,
   "id": "7c231989-46e3-4316-b8af-9183f0e079d4",
   "metadata": {},
   "outputs": [
    {
     "ename": "RecursionError",
     "evalue": "maximum recursion depth exceeded",
     "output_type": "error",
     "traceback": [
      "\u001b[1;31m---------------------------------------------------------------------------\u001b[0m",
      "\u001b[1;31mRecursionError\u001b[0m                            Traceback (most recent call last)",
      "Cell \u001b[1;32mIn[20], line 16\u001b[0m\n\u001b[0;32m     12\u001b[0m         \u001b[38;5;28mself\u001b[39m\u001b[38;5;241m.\u001b[39mpercentage \u001b[38;5;241m=\u001b[39m value\n\u001b[0;32m     14\u001b[0m     percentage \u001b[38;5;241m=\u001b[39m \u001b[38;5;28mproperty\u001b[39m(fget\u001b[38;5;241m=\u001b[39mget_percentage, fset\u001b[38;5;241m=\u001b[39mset_percentage)\n\u001b[1;32m---> 16\u001b[0m stud1 \u001b[38;5;241m=\u001b[39m \u001b[43mStudent\u001b[49m\u001b[43m(\u001b[49m\u001b[38;5;241;43m98\u001b[39;49m\u001b[43m,\u001b[49m\u001b[43m \u001b[49m\u001b[38;5;241;43m97\u001b[39;49m\u001b[43m,\u001b[49m\u001b[43m \u001b[49m\u001b[38;5;241;43m99\u001b[39;49m\u001b[43m)\u001b[49m\n\u001b[0;32m     18\u001b[0m \u001b[38;5;28mprint\u001b[39m(stud1\u001b[38;5;241m.\u001b[39mpercentage)      \u001b[38;5;66;03m# OUTPUT: 98 %\u001b[39;00m\n\u001b[0;32m     20\u001b[0m stud1\u001b[38;5;241m.\u001b[39mphy \u001b[38;5;241m=\u001b[39m \u001b[38;5;241m86\u001b[39m\n",
      "Cell \u001b[1;32mIn[20], line 6\u001b[0m, in \u001b[0;36mStudent.__init__\u001b[1;34m(self, phy, chem, maths)\u001b[0m\n\u001b[0;32m      4\u001b[0m \u001b[38;5;28mself\u001b[39m\u001b[38;5;241m.\u001b[39mchem \u001b[38;5;241m=\u001b[39m chem\n\u001b[0;32m      5\u001b[0m \u001b[38;5;28mself\u001b[39m\u001b[38;5;241m.\u001b[39mmaths \u001b[38;5;241m=\u001b[39m maths\n\u001b[1;32m----> 6\u001b[0m \u001b[38;5;28;43mself\u001b[39;49m\u001b[38;5;241;43m.\u001b[39;49m\u001b[43mpercentage\u001b[49m \u001b[38;5;241m=\u001b[39m \u001b[38;5;28mstr\u001b[39m((\u001b[38;5;28mself\u001b[39m\u001b[38;5;241m.\u001b[39mphy \u001b[38;5;241m+\u001b[39m \u001b[38;5;28mself\u001b[39m\u001b[38;5;241m.\u001b[39mchem \u001b[38;5;241m+\u001b[39m \u001b[38;5;28mself\u001b[39m\u001b[38;5;241m.\u001b[39mmaths) \u001b[38;5;241m/\u001b[39m \u001b[38;5;241m3\u001b[39m) \u001b[38;5;241m+\u001b[39m \u001b[38;5;124m\"\u001b[39m\u001b[38;5;124m \u001b[39m\u001b[38;5;124m%\u001b[39m\u001b[38;5;124m\"\u001b[39m\n",
      "Cell \u001b[1;32mIn[16], line 39\u001b[0m, in \u001b[0;36mproperty.__set__\u001b[1;34m(self, instance, value)\u001b[0m\n\u001b[0;32m     37\u001b[0m \u001b[38;5;28;01mif\u001b[39;00m \u001b[38;5;28mself\u001b[39m\u001b[38;5;241m.\u001b[39mfset \u001b[38;5;129;01mis\u001b[39;00m \u001b[38;5;28;01mNone\u001b[39;00m:\n\u001b[0;32m     38\u001b[0m     \u001b[38;5;28;01mraise\u001b[39;00m \u001b[38;5;167;01mAttributeError\u001b[39;00m(\u001b[38;5;124m\"\u001b[39m\u001b[38;5;124mcan\u001b[39m\u001b[38;5;124m'\u001b[39m\u001b[38;5;124mt set attribute\u001b[39m\u001b[38;5;124m\"\u001b[39m)\n\u001b[1;32m---> 39\u001b[0m \u001b[38;5;28;43mself\u001b[39;49m\u001b[38;5;241;43m.\u001b[39;49m\u001b[43mfset\u001b[49m\u001b[43m(\u001b[49m\u001b[43minstance\u001b[49m\u001b[43m,\u001b[49m\u001b[43m \u001b[49m\u001b[43mvalue\u001b[49m\u001b[43m)\u001b[49m\n",
      "Cell \u001b[1;32mIn[20], line 12\u001b[0m, in \u001b[0;36mStudent.set_percentage\u001b[1;34m(self, value)\u001b[0m\n\u001b[0;32m     11\u001b[0m \u001b[38;5;28;01mdef\u001b[39;00m \u001b[38;5;21mset_percentage\u001b[39m(\u001b[38;5;28mself\u001b[39m, value):\n\u001b[1;32m---> 12\u001b[0m     \u001b[38;5;28;43mself\u001b[39;49m\u001b[38;5;241;43m.\u001b[39;49m\u001b[43mpercentage\u001b[49m \u001b[38;5;241m=\u001b[39m value\n",
      "Cell \u001b[1;32mIn[16], line 39\u001b[0m, in \u001b[0;36mproperty.__set__\u001b[1;34m(self, instance, value)\u001b[0m\n\u001b[0;32m     37\u001b[0m \u001b[38;5;28;01mif\u001b[39;00m \u001b[38;5;28mself\u001b[39m\u001b[38;5;241m.\u001b[39mfset \u001b[38;5;129;01mis\u001b[39;00m \u001b[38;5;28;01mNone\u001b[39;00m:\n\u001b[0;32m     38\u001b[0m     \u001b[38;5;28;01mraise\u001b[39;00m \u001b[38;5;167;01mAttributeError\u001b[39;00m(\u001b[38;5;124m\"\u001b[39m\u001b[38;5;124mcan\u001b[39m\u001b[38;5;124m'\u001b[39m\u001b[38;5;124mt set attribute\u001b[39m\u001b[38;5;124m\"\u001b[39m)\n\u001b[1;32m---> 39\u001b[0m \u001b[38;5;28;43mself\u001b[39;49m\u001b[38;5;241;43m.\u001b[39;49m\u001b[43mfset\u001b[49m\u001b[43m(\u001b[49m\u001b[43minstance\u001b[49m\u001b[43m,\u001b[49m\u001b[43m \u001b[49m\u001b[43mvalue\u001b[49m\u001b[43m)\u001b[49m\n",
      "Cell \u001b[1;32mIn[20], line 12\u001b[0m, in \u001b[0;36mStudent.set_percentage\u001b[1;34m(self, value)\u001b[0m\n\u001b[0;32m     11\u001b[0m \u001b[38;5;28;01mdef\u001b[39;00m \u001b[38;5;21mset_percentage\u001b[39m(\u001b[38;5;28mself\u001b[39m, value):\n\u001b[1;32m---> 12\u001b[0m     \u001b[38;5;28;43mself\u001b[39;49m\u001b[38;5;241;43m.\u001b[39;49m\u001b[43mpercentage\u001b[49m \u001b[38;5;241m=\u001b[39m value\n",
      "    \u001b[1;31m[... skipping similar frames: property.__set__ at line 39 (1483 times), Student.set_percentage at line 12 (1482 times)]\u001b[0m\n",
      "Cell \u001b[1;32mIn[20], line 12\u001b[0m, in \u001b[0;36mStudent.set_percentage\u001b[1;34m(self, value)\u001b[0m\n\u001b[0;32m     11\u001b[0m \u001b[38;5;28;01mdef\u001b[39;00m \u001b[38;5;21mset_percentage\u001b[39m(\u001b[38;5;28mself\u001b[39m, value):\n\u001b[1;32m---> 12\u001b[0m     \u001b[38;5;28;43mself\u001b[39;49m\u001b[38;5;241;43m.\u001b[39;49m\u001b[43mpercentage\u001b[49m \u001b[38;5;241m=\u001b[39m value\n",
      "Cell \u001b[1;32mIn[16], line 39\u001b[0m, in \u001b[0;36mproperty.__set__\u001b[1;34m(self, instance, value)\u001b[0m\n\u001b[0;32m     37\u001b[0m \u001b[38;5;28;01mif\u001b[39;00m \u001b[38;5;28mself\u001b[39m\u001b[38;5;241m.\u001b[39mfset \u001b[38;5;129;01mis\u001b[39;00m \u001b[38;5;28;01mNone\u001b[39;00m:\n\u001b[0;32m     38\u001b[0m     \u001b[38;5;28;01mraise\u001b[39;00m \u001b[38;5;167;01mAttributeError\u001b[39;00m(\u001b[38;5;124m\"\u001b[39m\u001b[38;5;124mcan\u001b[39m\u001b[38;5;124m'\u001b[39m\u001b[38;5;124mt set attribute\u001b[39m\u001b[38;5;124m\"\u001b[39m)\n\u001b[1;32m---> 39\u001b[0m \u001b[38;5;28;43mself\u001b[39;49m\u001b[38;5;241;43m.\u001b[39;49m\u001b[43mfset\u001b[49m\u001b[43m(\u001b[49m\u001b[43minstance\u001b[49m\u001b[43m,\u001b[49m\u001b[43m \u001b[49m\u001b[43mvalue\u001b[49m\u001b[43m)\u001b[49m\n",
      "\u001b[1;31mRecursionError\u001b[0m: maximum recursion depth exceeded"
     ]
    }
   ],
   "source": [
    "\n",
    "class Student:\n",
    "    def __init__(self, phy, chem, maths):\n",
    "        self.phy = phy\n",
    "        self.chem = chem\n",
    "        self.maths = maths\n",
    "        self.percentage = str((self.phy + self.chem + self.maths) / 3) + \" %\"\n",
    "\n",
    "    def get_percentage(self):\n",
    "        return str((self.phy + self.chem + self.maths) / 3) + \" %\"\n",
    "\n",
    "    def set_percentage(self, value):\n",
    "        self.percentage = value\n",
    "\n",
    "    percentage = property(fget=get_percentage, fset=set_percentage)\n",
    "\n",
    "stud1 = Student(98, 97, 99)\n",
    "\n",
    "print(stud1.percentage)      # OUTPUT: 98 %\n",
    "\n",
    "stud1.phy = 86\n",
    "\n",
    "print(stud1.percentage)      # OUTPUT: 94 %                           # Note: \"percentage\" is used as an ATTRIBUTE not METHOD   ===>   stud1.percentage\n"
   ]
  },
  {
   "cell_type": "markdown",
   "id": "7f902f56-3d7b-487d-b496-637bb19e8e2f",
   "metadata": {},
   "source": [
    "<br>\n",
    "\n",
    "<div>\n",
    "\n",
    "![](media/Shraddha_Kapra_oops_54.PNG)\n",
    "\n",
    "</div>\n",
    "\n",
    "<br>\n",
    "\n",
    "<div style=\"background-color: #ffe9b9; padding: 20px; margin-left: -10px;\">\n",
    "    \n",
    "<span style=\"font-size: 1rem;\"><strong>To</strong></span> <code style=\"background-color: #ffe9b9;\"><span style=\"font-size: 1rem;\"><strong>avoid this recursion error</strong></span>, you need to store the <u>actual percentage value</u> in an <span style=\"color: blue; font-size: 0.9rem;\"><strong>instance attribute</strong></span> whose name should not be same as that of the <span style=\"background-color: yellow; font-size: 0.9rem;\">property object</span> \"<span style=\"color: red;\">percentage</span>\" also known as <span style=\"background-color: yellow; font-size: 0.9rem;\">property class attribute</span>.</code>\n",
    "\n",
    "<br>\n",
    "\n",
    "However, <code style=\"background-color: #ffe9b9;\">it is important to note that instead of using a different name altogether, <span style=\"font-size: 1rem;\"><strong>the standard way of avoiding this recursion error</strong></span> is by storing the actual value of the percentage in a <span style=\"color: blue; font-size: 0.9rem;\"><strong>private attribute</strong></span> \"<span style=\"color: red;\">_percentage</span>\".</code>\n",
    "\n",
    "<br>\n",
    "\n",
    "<font size=\"+1\">⭐</font>&nbsp; If &nbsp;&nbsp;<code style=\"background-color: white;\">property attribute  ====>  <code style=\"color: red; background-color: white;\">attributename</code></code>  &nbsp;&nbsp;&nbsp;&nbsp;then, &nbsp;the &nbsp;corresponding &nbsp;&nbsp;&nbsp;&nbsp;<code style=\"background-color: white;\">instance attribute  ====>  <code style=\"color: red; background-color: white;\">_attributename</code></code>\n",
    "<br>\n",
    "\n",
    "    \n",
    "</div>"
   ]
  },
  {
   "cell_type": "code",
   "execution_count": 21,
   "id": "78c001cc-e042-4b51-85c0-03fe7595d06b",
   "metadata": {},
   "outputs": [
    {
     "name": "stdout",
     "output_type": "stream",
     "text": [
      "98.0 %\n",
      "94.0 %\n"
     ]
    }
   ],
   "source": [
    "\n",
    "class Student:\n",
    "    def __init__(self, phy, chem, maths):\n",
    "        self.phy = phy\n",
    "        self.chem = chem\n",
    "        self.maths = maths\n",
    "        self._percentage = str((self.phy + self.chem + self.maths) / 3) + \" %\"\n",
    "\n",
    "    def get_percentage(self):\n",
    "        return str((self.phy + self.chem + self.maths) / 3) + \" %\"\n",
    "\n",
    "    def set_percentage(self, value):\n",
    "        self._percentage = value\n",
    "\n",
    "    percentage = property(fget=get_percentage, fset=set_percentage)\n",
    "\n",
    "stud1 = Student(98, 97, 99)\n",
    "\n",
    "print(stud1.percentage)      # OUTPUT: 98 %\n",
    "\n",
    "stud1.phy = 86\n",
    "\n",
    "print(stud1.percentage)      # OUTPUT: 94 %      EXPECTED: 94 %      # Note: \"percentage\" is used as an ATTRIBUTE not METHOD   ===>   stud1.percentage\n"
   ]
  },
  {
   "cell_type": "markdown",
   "id": "048cd30a-b359-42dc-8d2f-696527a82071",
   "metadata": {},
   "source": [
    "<br>\n",
    "\n",
    "As you can see, <code>the <span style=\"color: red;\">percentage</span> is <span style=\"font-size: 1rem;\"><strong>automatically updated</strong></span> based on the new marks of physics.</code>\n",
    "\n",
    "However, <code style=\"background-color: white;\">instead of directly assigning to <code>self.percentage</code> in the <code>\\_\\_init__</code> method (or anywhere else), you should rely on the <span style=\"background-color: yellow;\">property</span> to calculate the percentage when it’s accessed. Also, since <code style=\"color: red;\">percentage</code> is calculated dynamically from <code>phy</code>, <code>chem</code>, and <code>maths</code>, <u>you don’t really need a <span style=\"font-size: 1rem;\"><strong>setter</strong></span> for it</u>.</code>\n",
    "\n",
    "So <code style=\"background-color: white;\">let's simplify the above code :</code>"
   ]
  },
  {
   "cell_type": "code",
   "execution_count": 22,
   "id": "a77b4889-c260-4e28-aa41-e3515ea6f00a",
   "metadata": {},
   "outputs": [
    {
     "name": "stdout",
     "output_type": "stream",
     "text": [
      "98.0 %\n",
      "94.0 %\n",
      "stud1.percentage        ===>  94.0 %\n",
      "stud1.get_percentage()  ===>  94.0 %\n"
     ]
    }
   ],
   "source": [
    "\n",
    "class Student:\n",
    "    def __init__(self, phy, chem, maths):\n",
    "        self.phy = phy\n",
    "        self.chem = chem\n",
    "        self.maths = maths\n",
    "        # No need to assign self.percentage here\n",
    "    \n",
    "    def get_percentage(self):\n",
    "        return str((self.phy + self.chem + self.maths) / 3) + \" %\"\n",
    "\n",
    "    # Removing the setter since percentage is dynamically calculated\n",
    "    \n",
    "    percentage = property(fget=get_percentage)\n",
    "\n",
    "stud1 = Student(98, 97, 99)\n",
    "\n",
    "print(stud1.percentage)      # OUTPUT: 98 %\n",
    "\n",
    "stud1.phy = 86\n",
    "\n",
    "print(stud1.percentage)      # OUTPUT: 94 %      EXPECTED: 94 %      # Note: \"percentage\" is used as an ATTRIBUTE not a METHOD   ===>   stud1.percentage\n",
    "\n",
    "\n",
    "########################################################################################################################################################\n",
    "\n",
    "print(\"stud1.percentage        ===> \", stud1.percentage)\n",
    "print(\"stud1.get_percentage()  ===> \", stud1.get_percentage())\n"
   ]
  },
  {
   "cell_type": "markdown",
   "id": "578f67b9-145a-483e-a730-3e7449f2eeee",
   "metadata": {},
   "source": [
    "<br>\n",
    "\n",
    "So <code style=\"background-color: white;\">to get the <code style=\"color: red;\">percentage</code> of a <code style=\"color: red;\">Student</code> object, you can use either the <code>stud1.<span style=\"color: red;\">percentage</span></code> <span style=\"background-color: yellow;\">property</span> or the <code>stud1.<span style=\"color: blue;\">get_percentage()</span></code> <span style=\"font-size: 1rem;\"><strong>method</strong></span>. <u>This creates an unnecessary redundancy</u>.</code>\n",
    "\n",
    "To <code style=\"background-color: white;\">avoid this redundancy, you can rename the <span style=\"color: blue; font-size: 1rem;\"><strong>get_percentage()</strong></span> method to the <span style=\"color: blue; font-size: 1rem;\"><strong>percentage()</strong></span> method like this:</code>\n",
    "\n",
    "<br>\n",
    "\n",
    "<div style=\"margin-left: 80px;\">\n",
    "\n",
    "![](media/Shraddha_Kapra_oops_55.PNG)\n",
    "\n",
    "</div>\n",
    "\n",
    "<br>\n",
    "\n",
    "The <code style=\"background-color: white;\"><span style=\"background-color: yellow; font-size: 0.9rem;\">property()</span> accepts a <span style=\"font-size: 1rem;\"><strong>callable</strong></span> (<u><span style=\"color: red; font-size: 1rem;\"><strong>percentage</strong></span></u>) and returns a <span style=\"font-size: 1rem;\"><strong>callable</strong></span>. Therefore, it is a <u>decorator</u>. So, you can use the <span style=\"background-color: yellow; font-size: 0.9rem;\">@property</span> <u>decorator</u> to decorate the <span style=\"color: blue; font-size: 1rem;\"><strong>percentage()</strong></span> method as follows:</code>\n"
   ]
  },
  {
   "cell_type": "markdown",
   "id": "849952c9-70e7-4a87-8a29-3c9bde9534fc",
   "metadata": {},
   "source": [
    "<br>\n",
    "\n",
    "<div style=\"margin-left: 83px;\">\n",
    "\n",
    "![](media/Shraddha_Kapra_oops_56.PNG)\n",
    "\n",
    "</div>\n",
    "\n",
    "<div style=\"background-color: #ffe9b9; padding-top: 25px; padding-left: 20px; margin-left: -10px;\">\n",
    "    \n",
    "Key <code style=\"background-color: #ffe9b9;\">things to remember while using a <span style=\"background-color: yellow;\">@property</span> <span style=\"color: red;\">decorator</span>:</code> \n",
    "\n",
    "&nbsp;&nbsp;&nbsp;&nbsp;&nbsp;&nbsp;■ <code style=\"background-color: #ffe9b9;\">remove the expression related to the property class <span style=\"background-color: yellow;\">property()</span></code> <br>\n",
    "\n",
    "&nbsp;&nbsp;&nbsp;&nbsp;&nbsp;&nbsp;■ <code style=\"background-color: #ffe9b9;\">then rename the <span style=\"color: blue;\">property getter method</span> as same that of the corresponding <span style=\"background-color: yellow;\">property attribute</span></code> <br>\n",
    "\n",
    "&nbsp;&nbsp;&nbsp;&nbsp;&nbsp;&nbsp;■ <code style=\"background-color: #ffe9b9;\">and then add the <span style=\"background-color: yellow;\">@property</span> <span style=\"color: red;\">decorator</span> on the top of the method instead of you having to link it explicitly with the <span style=\"background-color: yellow;\">property()</span> <span style=\"color: red;\">class</span></code>\n",
    "\n",
    "This <code style=\"background-color: #ffe9b9;\">not only <u>avoids <span style=\"font-size: 1rem;\"><strong>code-redundancy</strong></span></u>, but also make it more <span style=\"font-size: 1rem;\"><strong>convenient and readable</strong></span> for the coders</code>\n",
    "\n",
    "<br>\n",
    "\n",
    "</div>\n",
    "\n"
   ]
  },
  {
   "cell_type": "code",
   "execution_count": 23,
   "id": "2fbeb29d-df13-422f-9f68-0aa626b74851",
   "metadata": {},
   "outputs": [
    {
     "name": "stdout",
     "output_type": "stream",
     "text": [
      "98.0 %\n",
      "94.0 %\n"
     ]
    }
   ],
   "source": [
    "\n",
    "class Student:\n",
    "    def __init__(self, phy, chem, maths):\n",
    "        self.phy = phy\n",
    "        self.chem = chem\n",
    "        self.maths = maths\n",
    "\n",
    "    @property\n",
    "    def percentage(self):\n",
    "        return str((self.phy + self.chem + self.maths) / 3) + \" %\"\n",
    "\n",
    "stud1 = Student(98, 97, 99)\n",
    "\n",
    "print(stud1.percentage)      # OUTPUT: 98 %\n",
    "\n",
    "stud1.phy = 86\n",
    "\n",
    "print(stud1.percentage)      # OUTPUT: 94 %      EXPECTED: 94 %      # Note: \"percentage\" is used as an ATTRIBUTE not a METHOD   ===>   stud1.percentage\n"
   ]
  },
  {
   "cell_type": "markdown",
   "id": "fd866afd-93f0-4a7d-8f5e-fb99fd82daed",
   "metadata": {},
   "source": [
    "<br>\n",
    "\n",
    "<code style=\"background-color: white;\">Now, <span style=\"color: red;\"><u><span style=\"color: black;\">you can't use <span style=\"color: blue; font-size: 1rem;\"><strong>get_percentage()</strong></span> method anymore</span></u></span> to access the perecentage value of any <code style=\"color: red;\">Student</code> <span style=\"font-size: 1rem;\"><strong>object</strong></span>. Let's verify:</code>"
   ]
  },
  {
   "cell_type": "code",
   "execution_count": 24,
   "id": "eeacc6c8-2d1b-46d5-b2ba-1b8c15783876",
   "metadata": {},
   "outputs": [
    {
     "name": "stdout",
     "output_type": "stream",
     "text": [
      "stud1.percentage        ===>  94.0 %\n"
     ]
    },
    {
     "ename": "AttributeError",
     "evalue": "'Student' object has no attribute 'get_percentage'",
     "output_type": "error",
     "traceback": [
      "\u001b[1;31m---------------------------------------------------------------------------\u001b[0m",
      "\u001b[1;31mAttributeError\u001b[0m                            Traceback (most recent call last)",
      "Cell \u001b[1;32mIn[24], line 2\u001b[0m\n\u001b[0;32m      1\u001b[0m \u001b[38;5;28mprint\u001b[39m(\u001b[38;5;124m\"\u001b[39m\u001b[38;5;124mstud1.percentage        ===> \u001b[39m\u001b[38;5;124m\"\u001b[39m, stud1\u001b[38;5;241m.\u001b[39mpercentage)                       \u001b[38;5;66;03m# OUTPUT:           94.0%\u001b[39;00m\n\u001b[1;32m----> 2\u001b[0m \u001b[38;5;28mprint\u001b[39m(\u001b[38;5;124m\"\u001b[39m\u001b[38;5;124mstud1.get_percentage()  ===> \u001b[39m\u001b[38;5;124m\"\u001b[39m, \u001b[43mstud1\u001b[49m\u001b[38;5;241;43m.\u001b[39;49m\u001b[43mget_percentage\u001b[49m())                 \u001b[38;5;66;03m# AttributeError:  'Student' object has no attribute 'get_percentage'\u001b[39;00m\n",
      "\u001b[1;31mAttributeError\u001b[0m: 'Student' object has no attribute 'get_percentage'"
     ]
    }
   ],
   "source": [
    "\n",
    "print(\"stud1.percentage        ===> \", stud1.percentage)                       # OUTPUT:           94.0%\n",
    "print(\"stud1.get_percentage()  ===> \", stud1.get_percentage())                 # AttributeError:  'Student' object has no attribute 'get_percentage'\n"
   ]
  },
  {
   "attachments": {},
   "cell_type": "markdown",
   "id": "6a8deaf3-2db0-464c-b28f-b68d13b50b3a",
   "metadata": {},
   "source": [
    "\n",
    "<br>\n",
    "\n",
    "--------------------------------------------------------------<code style=\"background-color: white; font-size: 1rem;\">Let's take another example to understand it</code>------------------------------------------------------------\n",
    "\n",
    "<div style=\"margin-left: 225px;\">\n",
    "\n",
    "![](media/Shraddha_Kapra_oops_57.PNG)\n",
    "\n",
    "</div>\n"
   ]
  },
  {
   "cell_type": "code",
   "execution_count": 25,
   "id": "c5797575-9eaa-44f7-a33e-0b0f8fd5124d",
   "metadata": {},
   "outputs": [],
   "source": [
    "\n",
    "class Person:\n",
    "    def __init__(self, name, age):\n",
    "        self.name = name\n",
    "        self._age = age\n",
    "\n",
    "    def get_age(self):\n",
    "        return self._age\n",
    "\n",
    "    age = property(fget=get_age)\n"
   ]
  },
  {
   "cell_type": "code",
   "execution_count": 26,
   "id": "ef187415-93ac-4c07-9311-86135a6fff67",
   "metadata": {},
   "outputs": [
    {
     "name": "stdout",
     "output_type": "stream",
     "text": [
      "25\n",
      "25\n"
     ]
    }
   ],
   "source": [
    "\n",
    "avinash = Person('Avinash', 25)\n",
    "\n",
    "print(avinash.age)                   # OUTPUT:  25\n",
    "print(avinash.get_age())             # OUTPUT:  25\n"
   ]
  },
  {
   "cell_type": "markdown",
   "id": "5098a5f5-4aec-43f8-abd2-9fb2a8de890e",
   "metadata": {},
   "source": [
    "<br>\n",
    "\n",
    "So <code style=\"background-color: white;\">to get the <code style=\"color: red;\">age</code> of a <code style=\"color: red;\">Person</code> object, you can use either the <code style=\"color: red;\">age</code> <span style=\"font-size: 1rem;\"><strong>property</strong></span> or the <code style=\"color: blue;\">get_age()</code> <span style=\"font-size: 1rem;\"><strong>method</strong></span>. This creates an <u>unnecessary redundancy</u>.</code>\n",
    "\n",
    "<strong>To</strong> <code style=\"background-color: white;\"><span style=\"font-size: 1rem;\"><strong>avoid this redundancy</strong></span>, you can rename the <code style=\"color: blue;\">get_age()</code> method to the <code style=\"color: blue;\">age()</code> method like this:</code>\n"
   ]
  },
  {
   "cell_type": "code",
   "execution_count": 27,
   "id": "ab4ac544-36d8-45ed-aa8a-f43d20b86fe8",
   "metadata": {},
   "outputs": [],
   "source": [
    "\n",
    "class Person:\n",
    "    def __init__(self, name, age):\n",
    "        self.name = name\n",
    "        self._age = age\n",
    "\n",
    "    def age(self):\n",
    "        return self._age\n",
    "\n",
    "    age = property(fget=age)\n"
   ]
  },
  {
   "cell_type": "markdown",
   "id": "0e2d70a7-de9a-44cc-8c6e-d99ed933fe04",
   "metadata": {},
   "source": [
    "<br>\n",
    "\n",
    "The <code style=\"background-color: white;\"><span style=\"background-color: yellow;\">property()</span> accepts a <span style=\"font-size: 1rem;\"><strong>callable</strong></span> (<u><span style=\"color: red; font-size: 1rem;\"><strong>age</strong></span></u>) and returns a <span style=\"font-size: 1rem;\"><strong>callable</strong></span>. Therefore, it is a <u>decorator</u>. So, you can use the <span style=\"background-color: yellow;\">@property</span> <u>decorator</u> to decorate the <span style=\"color: blue; font-size: 1rem;\"><strong>age()</strong></span> method as follows:</code>"
   ]
  },
  {
   "cell_type": "code",
   "execution_count": 28,
   "id": "daf36646-ff0a-48d9-9fb2-505e66941abb",
   "metadata": {},
   "outputs": [],
   "source": [
    "\n",
    "class Person:\n",
    "    def __init__(self, name, age):\n",
    "        self.name = name                                                                   # instance attribute  =========>  \"name\"\n",
    "        self._age = age                                                                    # instance attribute  =========>  \"_age\"\n",
    "\n",
    "    @property                                                                              # property class attribute  ===>  \"age\"  \n",
    "    def age(self):                 # property getter method of the property object \"age\"\n",
    "        return self._age\n"
   ]
  },
  {
   "cell_type": "markdown",
   "id": "562ea72d-65ac-4e12-be69-f847ff1f568e",
   "metadata": {},
   "source": [
    "<br>\n",
    "\n",
    "<div style=\"background-color: #ffe9b9; padding: 20px;\">\n",
    "<code style=\"background-color: #ffe9b9;\">So by using the <span style=\"background-color: yellow;\">@property</span> <span style=\"color: red;\">decorator</span>, you can simplify the <u>property definition for a class</u>.\n",
    "</div>\n"
   ]
  },
  {
   "cell_type": "markdown",
   "id": "1b4b4c38-d307-4b47-b2f6-f9483ab22343",
   "metadata": {},
   "source": [
    "<br>\n",
    "\n",
    "<span style=\"color: red;\">================================================================================================================</span>\n",
    "\n",
    "<br>\n",
    "\n",
    "<font size=\"+1\">⭐</font><u><strong><code style=\"font-size: 1.05rem; background-color: white;\">Setter decorators</code></strong></u>\n",
    "\n",
    "<code style=\"background-color: white;\">The following adds a setter method <code style=\"color: blue;\">set_age()</code> to assign a value to <code style=\"color: red;\">_age</code> attribute to the <code style=\"color: red;\">Person</code> class:</code>\n",
    "\n",
    "<div style=\"margin-left: 80px;\">\n",
    "\n",
    "![](media/Shraddha_Kapra_oops_58.PNG)\n",
    "\n",
    "</div>\n"
   ]
  },
  {
   "cell_type": "code",
   "execution_count": 1,
   "id": "8000c0bd-7b69-4189-be31-5e20ec4d0834",
   "metadata": {},
   "outputs": [],
   "source": [
    "\n",
    "class Person:\n",
    "    def __init__(self, name, age):\n",
    "        self.name = name                                                                                               # instance attribute \"name\"\n",
    "        self._age = age                                                                                                # instance attribute \"_age\"\n",
    "\n",
    "    @property\n",
    "    def age(self):                                           # property getter method\n",
    "        return self._age                                                                                               # instance attribute \"_age\"\n",
    "\n",
    "    def set_age(self, value):                                # property setter method\n",
    "        if value <= 0:\n",
    "            raise ValueError('The age must be positive')\n",
    "        self._age = value                                                                                              # instance attribute \"_age\"\n",
    "\n",
    "    age = age.setter(set_age)                                # assigns the \"set_age()\" method to the \"fset\" argument of the property object \"age\"\n"
   ]
  },
  {
   "cell_type": "markdown",
   "id": "0cd20b16-e2d0-4c6d-8863-d347add1c99a",
   "metadata": {},
   "source": [
    "<br>\n",
    "\n",
    "The <code style=\"background-color: white;\"><code style=\"color: red;\">setter()</code> method accepts a <span style=\"font-size: 1rem;\"><strong>callable</strong></span> and returns another <span style=\"font-size: 1rem;\"><strong>callable</strong></span> (a <span style=\"background-color: yellow;\">property object</span>). Therefore, you can use the <u>decorator</u> <code style=\"color: red;\">@age.setter</code> for the <code style=\"color: blue;\">set_age()</code> method like this:</code>"
   ]
  },
  {
   "cell_type": "code",
   "execution_count": 3,
   "id": "f5fedc33-3859-490c-b254-875d23a205f1",
   "metadata": {},
   "outputs": [],
   "source": [
    "\n",
    "class Person:\n",
    "    def __init__(self, name, age):\n",
    "        self.name = name                                                                                                   # instance attribute \"name\"\n",
    "        self._age = age                                                                                                    # instance attribute \"_age\"\n",
    "\n",
    "    @property\n",
    "    def age(self):                                            # property getter method   ======>   links it with the fget of the property object \"age\"\n",
    "        return self._age\n",
    "\n",
    "    @age.setter\n",
    "    def set_age(self, value):                                 # property setter method   ======>   links it with the fset of the property object \"age\"\n",
    "        if value <= 0:\n",
    "            raise ValueError('The age must be positive')\n",
    "        self._age = value\n"
   ]
  },
  {
   "cell_type": "markdown",
   "id": "535295c3-fa23-4d26-a528-c9a76476c720",
   "metadata": {},
   "source": [
    "<br>\n",
    "\n",
    "Now, <code style=\"background-color: white;\">you can change the <code style=\"color: blue;\">set_age()</code> method to the <code style=\"color: blue;\">age()</code> method and use the <code style=\"color: red;\">age</code> <span style=\"background-color: yellow;\">property</span> in the <code style=\"color: red;\">\\_\\_init__()</code> method:</code>"
   ]
  },
  {
   "cell_type": "code",
   "execution_count": 4,
   "id": "b386c152-dc2c-4d8c-b735-2dd4cef47d38",
   "metadata": {},
   "outputs": [],
   "source": [
    "\n",
    "class Person:\n",
    "    def __init__(self, name, age):\n",
    "        self.name = name                                                                                                   # instance attribute \"name\"\n",
    "        self._age = age                                                                                                    # instance attribute \"_age\"\n",
    "\n",
    "    @property\n",
    "    def age(self):                                            # property getter method   ======>   links it with the fget of the property object \"age\"\n",
    "        return self._age\n",
    "\n",
    "    @age.setter\n",
    "    def set_age(self, value):                                 # property setter method   ======>   links it with the fset of the property object \"age\"\n",
    "        if value <= 0:\n",
    "            raise ValueError('The age must be positive')\n",
    "        self._age = value\n"
   ]
  },
  {
   "cell_type": "markdown",
   "id": "cdc9272c-8364-4e77-b522-5e875f1621a0",
   "metadata": {},
   "source": [
    "<br>\n",
    "\n",
    "<code style=\"background-color: white\">To <u>summarize</u>, you can use <span style=\"font-size: 1rem;\"><strong>decorators</strong></span> to create a <span style=\"background-color: yellow;\">property</span> using the following pattern:</code>\n",
    "\n",
    "<br>\n",
    "\n",
    "<div style=\"margin-left: 50px;\">\n",
    "\n",
    "![](media/Shraddha_Kapra_oops_59.PNG)\n",
    "\n",
    "</div>\n",
    "\n",
    "<code style=\"background-color: white;\">The following example uses the <span style=\"background-color: yellow;\">@property</span> decorators to create the <code style=\"color: red;\">name</code> and <code style=\"color: red;\">age</code> properties in the <code style=\"color: red;\">Person</code> class:</code>"
   ]
  },
  {
   "cell_type": "code",
   "execution_count": 5,
   "id": "dce870f6-4517-46c0-afc8-ea7b0971c7c7",
   "metadata": {},
   "outputs": [],
   "source": [
    "\n",
    "class Person:\n",
    "    def __init__(self, name, age):\n",
    "        self.name = name\n",
    "        self.age = age\n",
    "\n",
    "    @property\n",
    "    def age(self):\n",
    "        return self._age\n",
    "\n",
    "    @age.setter\n",
    "    def age(self, value):\n",
    "        if value <= 0:\n",
    "            raise ValueError('The age must be positive')\n",
    "        self._age = value\n",
    "\n",
    "    @property\n",
    "    def name(self):\n",
    "        return self._name\n",
    "\n",
    "    @name.setter\n",
    "    def name(self, value):\n",
    "        if value.strip() == '':\n",
    "            raise ValueError('The name cannot be empty')\n",
    "        self._name = value"
   ]
  },
  {
   "cell_type": "code",
   "execution_count": 6,
   "id": "5001a797-601e-45c4-a33d-fa136d51e4aa",
   "metadata": {},
   "outputs": [
    {
     "name": "stdout",
     "output_type": "stream",
     "text": [
      "<property object at 0x00000163B1821260>\n",
      "Avinash\n",
      "Avinash\n",
      "\n",
      "\n",
      "<property object at 0x00000163B18214E0>\n",
      "30\n",
      "30\n"
     ]
    }
   ],
   "source": [
    "\n",
    "avinash = Person(\"Avinash\", 30)\n",
    "\n",
    "print(Person.name)\n",
    "print(avinash.name)\n",
    "print(avinash._name)\n",
    "\n",
    "print(\"\\n\")\n",
    "\n",
    "print(Person.age)\n",
    "print(avinash.age)\n",
    "print(avinash._age)\n"
   ]
  },
  {
   "cell_type": "code",
   "execution_count": 7,
   "id": "6f484be2-f523-4ea6-9679-f651688acd6c",
   "metadata": {},
   "outputs": [
    {
     "name": "stdout",
     "output_type": "stream",
     "text": [
      "Instance Attributes          ===>    ['_name', '_age']\n",
      "Class Attributes             ===>    ['__module__', '__init__', 'age', 'name', '__dict__', '__weakref__', '__doc__']\n",
      "Property Class Attributes    ===>    ['age', 'name']\n"
     ]
    }
   ],
   "source": [
    "\n",
    "print(\"Instance Attributes          ===>   \", list(avinash.__dict__.keys()))\n",
    "\n",
    "\n",
    "print(\"Class Attributes             ===>   \", list(Person.__dict__.keys()))\n",
    "\n",
    "\n",
    "print(\"Property Class Attributes    ===>   \", [name for name, attr in vars(Person).items() if isinstance(attr, property)])\n"
   ]
  },
  {
   "cell_type": "markdown",
   "id": "f2c36ac2-3e02-4fa4-b7dd-b77499f22d85",
   "metadata": {},
   "source": [
    "<br>\n",
    "\n",
    "<span style=\"color: red;\">================================================================================================================</span>\n",
    "\n",
    "<br>\n",
    "\n",
    "🔶 <code style=\"background-color: white;\">Key reasons for introducing the <code style=\"background-color: yellow;\">@property</code> decorator :</code>\n",
    "\n",
    "<div style=\"display: flex;\">\n",
    "\n",
    "<div style=\"margin-left: 30px;\"><span style=\"font-size: 0.8rem;\">■</span> &nbsp;&nbsp;<code style=\"background-color: #8efffc;\">Cleaner and More Readable Code  :</code></div>\n",
    "\n",
    "<div style=\"margin-left: 15px; width: 730px;\">The &nbsp;<span style=\"background-color: yellow;\">@property</span>&nbsp; decorator approach is more intutitive and cleaner because it allows a more <strong>natural, concise &nbsp;syntax</strong> to define a property. Instead of manually creating the <code>property object</code> by explicitly calling <code>property()</code> class with getter and setter methods, you can define them directly using decorators. This makes the code easier to read and maintain, thus improving code-clarity.  <br>\n",
    "</div>\n",
    "\n",
    "</div>\n",
    "\n",
    "<span style=\"color: #00efe8; margin-left: 52px;\">------------------------------------------------------------------------------------------------------------------------------------------------------------------------------------</span>\n",
    "\n",
    "<div style=\"display: flex;\">\n",
    "    \n",
    "<div style=\"margin-left: 30px;\"><span style=\"font-size: 0.8rem;\">■</span> &nbsp;&nbsp;<code style=\"background-color: #8efffc;\">Improved Separation of Concerns :</code></div>\n",
    "\n",
    "<div style=\"margin-left: 15px; width: 730px;\">\n",
    "    \n",
    "With &nbsp;<span style=\"background-color: yellow;\">@property</span>&nbsp; and related decorators (&nbsp;<code>@\\<property>.setter</code>&nbsp; and &nbsp;<code>@\\<property>.deleter</code>&nbsp;), the logic for getting, setting, and deleting an attribute is grouped directly with the method that handles each operation. This helps in maintaining the code's separation of concerns, making it clear what each method is responsible for.  <br>\n",
    "\n",
    "<div style=\"display: flex;\">\n",
    "    <div>↳&nbsp;&nbsp;</div>\n",
    "    <div><strong>With &nbsp;&nbsp;Decorators</strong> &nbsp;&nbsp;&nbsp;&nbsp;&nbsp;&nbsp;&nbsp;&nbsp;&nbsp;&nbsp;&nbsp;&nbsp;➜&nbsp;&nbsp;&nbsp;&nbsp;You can see the getter, setter, and deleter immediately next to each other, with their respective purposes clearly marked by the decorator.</div>\n",
    "</div>\n",
    "\n",
    "<br>\n",
    "\n",
    "<div style=\"display: flex;\">\n",
    "    <div>↳&nbsp;&nbsp;</div>\n",
    "    <div><strong>Without &nbsp;&nbsp;Decorators</strong> &nbsp;&nbsp;&nbsp;&nbsp;&nbsp;&nbsp;➜&nbsp;&nbsp;&nbsp;&nbsp;The getter and setter are defined as independent functions, which makes it harder to quickly understand the property logic.</div>\n",
    "</div>\n",
    "    \n",
    "</div>\n",
    "\n",
    "</div>\n",
    "\n",
    "<span style=\"color: #00efe8; margin-left: 52px;\">------------------------------------------------------------------------------------------------------------------------------------------------------------------------------------</span>\n",
    "\n",
    "<div style=\"display: flex;\">\n",
    "    \n",
    "<div style=\"margin-left: 30px;\"><span style=\"font-size: 0.8rem;\">■</span> &nbsp;&nbsp;<code style=\"background-color: #8efffc;\">Reduced Boilerplate             :</code></div>\n",
    "\n",
    "<div style=\"margin-left: 15px; width: 730px;\">When using &nbsp;<span style=\"background-color: yellow;\">@property</span>&nbsp;, you don't have to manually create the &nbsp;<code>property()</code>&nbsp; object with getter and setter methods. The decorator automatically handles this for you, reducing boilerplate code.  <br><br>\n",
    "\n",
    "<div style=\"display: flex;\">\n",
    "    <div>↳&nbsp;&nbsp;</div>\n",
    "    <div><strong>Using &nbsp;&nbsp;property( )</strong> &nbsp;&nbsp;&nbsp;&nbsp;&nbsp;&nbsp;&nbsp;&nbsp;&nbsp;&nbsp;➜&nbsp;&nbsp;&nbsp;&nbsp;You have to explicitly pass methods to &nbsp;<code>fget</code>, &nbsp;<code>fset</code>, and &nbsp;<code>fdel</code>.</div>\n",
    "</div> <br>\n",
    "\n",
    "<div style=\"display: flex;\">\n",
    "    <div>↳&nbsp;&nbsp;</div>\n",
    "    <div><strong>Using &nbsp;&nbsp;@property</strong> &nbsp;&nbsp;&nbsp;&nbsp;&nbsp;&nbsp;&nbsp;&nbsp;&nbsp;&nbsp;➜&nbsp;&nbsp;&nbsp;&nbsp;The decorator does this automatically without additional parameters.</div>\n",
    "</div>\n",
    "\n",
    "</div>\n",
    "\n",
    "</div>\n",
    "\n",
    "<span style=\"color: #00efe8; margin-left: 52px;\">------------------------------------------------------------------------------------------------------------------------------------------------------------------------------------</span>\n",
    "\n",
    "<div style=\"display: flex;\">\n",
    "    \n",
    "<div style=\"margin-left: 30px;\"><span style=\"font-size: 0.8rem;\">■</span> &nbsp;&nbsp;<code style=\"background-color: #8efffc;\">Encapsulation and Flexibility   :</code></div>\n",
    "\n",
    "<div style=\"margin-left: 15px; width: 730px;\">The &nbsp;<span style=\"background-color: yellow;\">@property</span>&nbsp; decorator supports Python’s philosophy of <strong>encapsulation</strong>. You can start by making an attribute public, then later change it to a property without altering the interface used by the class's consumers. This <strong>flexibility</strong>&nbsp; allows you to <u>refactor</u> code easily while keeping <u>backward compatibility</u>.\n",
    "</div>\n",
    "\n",
    "</div>\n",
    "\n",
    "<br>"
   ]
  },
  {
   "cell_type": "markdown",
   "id": "6e28b4c3-15b7-4953-b821-046faf0d163f",
   "metadata": {},
   "source": [
    "<br>\n",
    "\n",
    "<span style=\"color: #DCBD10\">▬▬▬▬▬▬▬▬▬▬▬▬▬▬▬▬▬▬▬▬▬▬▬▬▬▬▬▬▬▬▬▬▬▬▬▬▬▬▬▬▬▬▬▬▬▬▬▬▬▬▬▬▬▬▬▬▬▬▬▬▬▬▬▬▬▬▬▬▬▬▬▬▬▬▬▬▬</span>\n"
   ]
  },
  {
   "cell_type": "markdown",
   "id": "30e92370-3a74-4c10-894a-3e94bee8990b",
   "metadata": {},
   "source": [
    "#### <code style=\"background-color: blue; color: white;\">Python Readonly Property</code>\n",
    "\n",
    "<br>\n",
    "\n",
    "<font size=\"+1\">⭐</font><u><strong><code style=\"font-size: 1.05rem; background-color: white;\">Summary</code></u>&nbsp;:</strong> <code style=\"background-color: white;\">in this tutorial, you’ll learn how to define <span style=\"background-color: yellow; font-size: 0.9rem;\">Python <span style=\"font-size: 1rem;\"><strong>readonly</strong></span> property</span> and how to use it to define <u>computed properties</u>.</code>\n",
    "\n",
    "<br>\n",
    "\n",
    "<span style=\"color: red;\">================================================================================================================</span>\n",
    "\n",
    "<br>\n",
    "\n",
    "<font size=\"+1\">⭐</font><u><strong><code style=\"font-size: 1.05rem; background-color: white;\">Introduction to the <span style=\"background-color: yellow;\">Python readonly property</span></code>\n",
    "\n",
    "To <code style=\"background-color: white;\">define a readonly property, you need to create a property with <u>only the getter</u>. <code>However, it is <u>not truly read-only</u> because you can always access the underlying attribute and change it.</code></code>\n",
    "\n",
    "You <code style=\"background-color: white;\">can define a <span style=\"background-color: yellow;\">read-only property</span> by omitting the setter and deleter methods. <u>This prevents modification or deletion of the property</u>.</code>\n",
    "\n",
    "The <code style=\"background-color: white;\"><span style=\"background-color: yellow;\">read-only properties</span> are useful in some cases such as for <span style=\"background-color: #ffd5c9;\">computed properties</span>.</code>\n",
    "\n",
    "Consider <code style=\"background-color: white;\">the following example :</code>"
   ]
  },
  {
   "cell_type": "code",
   "execution_count": 8,
   "id": "d0c063ac-818d-44a7-8952-edc3478522f5",
   "metadata": {},
   "outputs": [
    {
     "name": "stdout",
     "output_type": "stream",
     "text": [
      "314.1592653589793\n"
     ]
    }
   ],
   "source": [
    "\n",
    "import math\n",
    "\n",
    "class Circle:\n",
    "    def __init__(self, radius):                   # CONSTRUCTOR\n",
    "        self.radius = radius                                                  # instance attribute \"radius\"\n",
    "\n",
    "    def area(self):                               # GETTER  METHOD\n",
    "        return math.pi * self.radius ** 2\n",
    "\n",
    "c = Circle(10)\n",
    "\n",
    "print(c.area())\n"
   ]
  },
  {
   "cell_type": "markdown",
   "id": "99ab476b-321d-444e-be79-62a061c1bb6e",
   "metadata": {},
   "source": [
    "<br>\n",
    "\n",
    "This <code style=\"background-color: white;\">code works perfectly fine.</code>\n",
    "\n",
    "But <code style=\"background-color: white;\"><u>it would be more natural had the area been a <span style=\"font-size: 1rem;\"><strong>property</strong></span> of the <code style=\"color: red;\">Circle</code> object, not a <span style=\"font-size: 1rem;\"><strong>method</strong></span></u>. To make the <code style=\"color: red;\">area()</code> method as a <span style=\"font-size: 1rem;\"><strong>property</strong></span> of the <code style=\"color: red;\">Circle</code> class, you can use the <span style=\"background-color: yellow;\">@property</span> <span style=\"font-size: 1rem;\"><strong>decorator</strong></span> as follows:</code>"
   ]
  },
  {
   "cell_type": "code",
   "execution_count": 9,
   "id": "f809730c-b39f-4cd2-8d7b-f843061089d5",
   "metadata": {},
   "outputs": [
    {
     "name": "stdout",
     "output_type": "stream",
     "text": [
      "314.1592653589793\n"
     ]
    }
   ],
   "source": [
    "\n",
    "import math\n",
    "\n",
    "class Circle:\n",
    "    def __init__(self, radius):                    # CONSTRUCTOR\n",
    "        self.radius = radius                                                        # instance  attribute\n",
    "\n",
    "    @property                                                                       # property  attribute  \"area\"\n",
    "    def area(self):                                # PROPERTY  GETTER  METHOD\n",
    "        return math.pi * self.radius ** 2\n",
    "\n",
    "c = Circle(10)\n",
    "print(c.area)\n"
   ]
  },
  {
   "cell_type": "markdown",
   "id": "401b31cf-805e-4083-8a88-7ef4eb3d5e0a",
   "metadata": {},
   "source": [
    "<br>\n",
    "\n",
    "The <code style=\"background-color: white;\">area is calculated from the <code style=\"color: red;\">radius</code> attribute. Therefore, it’s often called a <u>calculated or computed property</u>.</code>\n",
    "\n",
    "Now <code style=\"background-color: white;\">if you try to access the area as a <span style=\"font-size: 1rem;\"><strong>method</strong></span>, it will throw <u>error</u>.</code>"
   ]
  },
  {
   "cell_type": "code",
   "execution_count": 11,
   "id": "18fdd3e1-e3b6-486c-9bda-84b3e3eb757f",
   "metadata": {},
   "outputs": [
    {
     "ename": "TypeError",
     "evalue": "'float' object is not callable",
     "output_type": "error",
     "traceback": [
      "\u001b[1;31m---------------------------------------------------------------------------\u001b[0m",
      "\u001b[1;31mTypeError\u001b[0m                                 Traceback (most recent call last)",
      "Cell \u001b[1;32mIn[11], line 1\u001b[0m\n\u001b[1;32m----> 1\u001b[0m \u001b[43mc\u001b[49m\u001b[38;5;241;43m.\u001b[39;49m\u001b[43marea\u001b[49m\u001b[43m(\u001b[49m\u001b[43m)\u001b[49m\n",
      "\u001b[1;31mTypeError\u001b[0m: 'float' object is not callable"
     ]
    }
   ],
   "source": [
    "\n",
    "c.area()\n"
   ]
  },
  {
   "cell_type": "markdown",
   "id": "7d84237f-48ca-4b52-9689-275cd2cff796",
   "metadata": {},
   "source": [
    "<br>\n",
    "\n",
    "<span style=\"color: red;\">================================================================================================================</span>\n",
    "\n",
    "<br>\n",
    "\n",
    "<font size=\"+1\">⭐</font><u><strong><code style=\"font-size: 1.05rem; background-color: white;\"><span style=\"background-color: #cdffc2;\">Cache</span> calculated properties</code>\n",
    "\n",
    "Suppose <code style=\"background-color: white;\">you create a new circle object and access the area property many times. <u>Each time, the area needs to be recalculated, which is not efficient</u>.</code>\n",
    "\n",
    "To <code style=\"background-color: white;\">make it more performant, you need to recalculate the area of the circle <u>only when the radius changes</u>. <span style=\"background-color: #ffe7c2;\">If the radius doesn’t change, you should be able to reuse the <u>previously calculated area</u></span>.</code>\n",
    "\n",
    "<br>\n",
    "\n",
    "<div style=\"background-color: #ffe9b9; padding-top: 20px; padding-left: 20px; margin-left: -10px;\">\n",
    "    \n",
    "To <code style=\"background-color: #ffe9b9;\">do it, you can use the <span style=\"background-color: white;\"> <span style=\"color: red;\">caching</span> technique </span>&nbsp;:</code> \n",
    "\n",
    "&nbsp;&nbsp;&nbsp;&nbsp;&nbsp;&nbsp;&nbsp;&nbsp;■\n",
    "<code style=\"background-color: #ffe9b9;\">First, calculate the area and <u>save it in a cache</u>.</code> <br>\n",
    "\n",
    "&nbsp;&nbsp;&nbsp;&nbsp;&nbsp;&nbsp;&nbsp;&nbsp;■ <code style=\"background-color: #ffe9b9;\">Second, if the radius changes, <u>reset the area</u>. Otherwise, <u>return the area directly from the cache</u> without recalcuation.</code> <br>\n",
    "\n",
    "<br>\n",
    "\n",
    "</div>\n",
    "\n",
    "<br>\n",
    "\n",
    "<code style=\"background-color: white;\">The following defines the new <code style=\"color: red;\">Circle</code> class with cached <code style=\"color: red;\">area</code> <span style=\"background-color: yellow;\">property</span>:</code>"
   ]
  },
  {
   "cell_type": "code",
   "execution_count": 12,
   "id": "b3fc57ab-bdf0-43dc-addf-38135bdb9219",
   "metadata": {},
   "outputs": [],
   "source": [
    "\n",
    "import math\n",
    "\n",
    "class Circle:\n",
    "    def __init__(self, radius):                               # CONSTRUCTOR\n",
    "        self._radius = radius                                                                                   # instance  attribute  \"_radius\"\n",
    "        self._area = None                                                                                       # instance  attribute  \"_age\"\n",
    "\n",
    "    @property\n",
    "    def radius(self):                                         # PROPERTY  GETTER  METHOD    ===========>    property  class  attribute  \"radius\"\n",
    "        return self._radius\n",
    "\n",
    "    @radius.setter\n",
    "    def radius(self, value):                                  # PROPERTY  GETTER  METHOD    ===========>    property  class  attribute  \"radius\"\n",
    "        if value < 0:\n",
    "            raise ValueError('Radius must be positive')\n",
    "\n",
    "        if value != self._radius:\n",
    "            self._radius = value\n",
    "            self._area = None\n",
    "\n",
    "    @property\n",
    "    def area(self):                                           # PROPERTY  GETTER  METHOD    ===========>    property  class  attribute  \"area\"\n",
    "        if self._area is None:\n",
    "            self._area = math.pi * self.radius ** 2\n",
    "\n",
    "        return self._area\n"
   ]
  },
  {
   "cell_type": "code",
   "execution_count": 13,
   "id": "0256ae81-dfc4-46dd-8372-0429c91ed7b8",
   "metadata": {},
   "outputs": [
    {
     "name": "stdout",
     "output_type": "stream",
     "text": [
      "314.1592653589793\n"
     ]
    }
   ],
   "source": [
    "\n",
    "c = Circle(10)\n",
    "print(c.area)\n"
   ]
  },
  {
   "cell_type": "code",
   "execution_count": 14,
   "id": "71fdbaa3-6fc0-4486-bcbd-9ef711bc59b7",
   "metadata": {},
   "outputs": [
    {
     "name": "stdout",
     "output_type": "stream",
     "text": [
      "Instance Attributes          ===>    ['_radius', '_area']\n",
      "Class Attributes             ===>    ['__module__', '__init__', 'radius', 'area', '__dict__', '__weakref__', '__doc__']\n",
      "Property Class Attributes    ===>    ['radius', 'area']\n"
     ]
    }
   ],
   "source": [
    "\n",
    "print(\"Instance Attributes          ===>   \", list(c.__dict__.keys()))\n",
    "\n",
    "\n",
    "print(\"Class Attributes             ===>   \", list(Circle.__dict__.keys()))\n",
    "\n",
    "\n",
    "print(\"Property Class Attributes    ===>   \", [name for name, attr in vars(Circle).items() if isinstance(attr, property)])\n"
   ]
  },
  {
   "cell_type": "markdown",
   "id": "ae5d2872-170c-4cab-83b9-63e5abec5020",
   "metadata": {},
   "source": [
    "<br>\n",
    "\n",
    "<div style=\"margin-left: 100px;\">\n",
    "\n",
    "![](media/Shraddha_Kapra_oops_60.PNG)\n",
    "\n",
    "</div>\n",
    "\n",
    "<br>\n",
    "\n",
    "&nbsp;&nbsp;&nbsp;&nbsp;How &nbsp;it &nbsp;works?\n",
    "\n",
    "&nbsp;&nbsp;&nbsp;&nbsp;&nbsp;&nbsp;&nbsp;&nbsp;&nbsp;&nbsp;&nbsp;&nbsp;■&nbsp; <code style=\"background-color: white;\">First, set the <code style=\"color: red;\">\\_area</code> to <code style=\"color: red;\">None</code> in the <code style=\"color: red;\">\\_\\_init__</code> method. The <code style=\"color: red;\">_area</code> attribute is the <span style=\"background-color: #b7ffb8;\">cache</span> that stores the <u>calculated area</u>.</code>\n",
    "\n",
    "&nbsp;&nbsp;&nbsp;&nbsp;&nbsp;&nbsp;&nbsp;&nbsp;&nbsp;&nbsp;&nbsp;&nbsp;■&nbsp; <code style=\"background-color: white;\">Second, <u>if the radius changes (in the setter)</u>, reset the <code style=\"color: red;\">_area</code> to <code style=\"color: red;\">None</code>.</code>\n",
    "\n",
    "&nbsp;&nbsp;&nbsp;&nbsp;&nbsp;&nbsp;&nbsp;&nbsp;&nbsp;&nbsp;&nbsp;&nbsp;■&nbsp;&nbsp;&nbsp;Third, <code style=\"background-color: white;\">define the <u>computed property</u> <code style=\"color: red;\">area</code>. The <code style=\"color: red;\">area</code> property returns <code style=\"color: red;\">_area</code> if it is not <code style=\"color: red;\">None</code>. \n",
    "         Otherwise, calculate the area, save it into the <code style=\"color: red;\">_area</code>, and return it.</code>\n",
    "\n",
    "<br>\n",
    "\n",
    "<span style=\"color: #03d1ff;\">---------------------------------------------------------------------------<code style=\"background-color: white; color: #00b8e1; font-size: 1.05rem;\">Let's take another example</code>------------------------------------------------------------------------</span>"
   ]
  },
  {
   "cell_type": "code",
   "execution_count": 15,
   "id": "9a3d31de-bf2a-4c25-9520-aa3edf812200",
   "metadata": {},
   "outputs": [
    {
     "name": "stdout",
     "output_type": "stream",
     "text": [
      "Aman\n",
      "Mishra\n",
      "Aman Mishra\n",
      "Aman_Mishra@EMAIL.com\n"
     ]
    }
   ],
   "source": [
    "\n",
    "class Employee:\n",
    "\n",
    "    def __init__(self, firstname, lastname):                            # CONSTRUCTOR\n",
    "        self.firstname = firstname\n",
    "        self.lastname = lastname\n",
    "                                                                        \n",
    "    def fullname(self):                                                 # GETTER    ===========>    addS a method for fullname\n",
    "        return f\"{self.firstname} {self.lastname}\"\n",
    "\n",
    "    def email(self):                                                    # GETTER    ===========>    addS a method for email\n",
    "        return f\"{self.firstname}_{self.lastname}@EMAIL.com\"\n",
    "\n",
    "\n",
    "emp1 = Employee(\"Avinash\", \"Mishra\")\n",
    "\n",
    "emp1.firstname = \"Aman\"\n",
    "\n",
    "print(emp1.firstname)\n",
    "print(emp1.lastname)\n",
    "print(emp1.fullname())                                                  # emp1.fullname()    ===>    using  fullname()  as  a  method\n",
    "print(emp1.email())                                                     # emp1.email()       ===>    using  email()     as  a  method\n"
   ]
  },
  {
   "cell_type": "markdown",
   "id": "d6abe3a3-4ef9-4325-9fba-85c2e898d9f8",
   "metadata": {},
   "source": [
    "<br>\n",
    "\n",
    "Now <code style=\"background-color: white;\">instead of simply using a method for accessing the <span style=\"color: blue;\">fullname</span> or the <span style=\"color: blue;\">email</span>, let us add a <span style=\"background-color: yellow; color: black;\">@property</span> <u>decorator</u> on top of both these methods <u><span style=\"color: red;\">to access them as properties</span></u> (or <span style=\"font-size: 1rem;\"><strong>like <span style=\"background-color: #ffeccf;\">attributes</span></strong></span>)</code>\n",
    "\n",
    "<br>\n",
    "\n",
    "<div style=\"margin-left: 75px;\">\n",
    "\n",
    "![](media/Shraddha_Kapra_oops_62.PNG)\n",
    "\n",
    "</div>\n"
   ]
  },
  {
   "cell_type": "code",
   "execution_count": 16,
   "id": "244e1bc3-670a-4119-b75c-3465db95788a",
   "metadata": {},
   "outputs": [
    {
     "name": "stdout",
     "output_type": "stream",
     "text": [
      "Aman Mishra\n",
      "aman_mishra@email.com\n"
     ]
    }
   ],
   "source": [
    "\n",
    "class Employee:\n",
    "\n",
    "    def __init__(self, firstname, lastname):                                      # CONSTRUCTOR\n",
    "        self.firstname = firstname\n",
    "        self.lastname = lastname\n",
    "\n",
    "    @property\n",
    "    def fullname(self):                                                           # GETTER   ===>   now  \"fullname\"  can  be  treated  as  an  attribute\n",
    "        return f\"{self.firstname} {self.lastname}\"\n",
    "\n",
    "    @property\n",
    "    def email(self):                                                              # GETTER   ===>   now  \"email\"  can  be  treated  as  an  attribute\n",
    "        return f\"{self.firstname.lower()}_{self.lastname.lower()}@email.com\"\n",
    "\n",
    "\n",
    "emp1 = Employee(\"Avinash\", \"Mishra\")\n",
    "\n",
    "emp1.firstname = \"Aman\"\n",
    "\n",
    "print(emp1.fullname)            # OUTPUT:     Aman Mishra               <====     using   \"fullname\"    as  an  attribute\n",
    "print(emp1.email)               # OUTPUT:     Aman_Mishra@EMAIL.com     <====     using   \"email\"     as  a   method\n",
    "      "
   ]
  },
  {
   "cell_type": "markdown",
   "id": "4aed704f-b941-4af5-bde2-9e147c2ea8ba",
   "metadata": {},
   "source": [
    "<br>\n",
    "\n",
    "<code style=\"background-color: white;\">Let's make the <code style=\"color: red;\">fullname</code> and <code style=\"color: red;\">email</code> a <span style=\"background-color: yellow;\">readonly property</span></code>"
   ]
  },
  {
   "cell_type": "code",
   "execution_count": 17,
   "id": "42b87095-10fd-41bc-bce9-e5fd401595e7",
   "metadata": {},
   "outputs": [
    {
     "name": "stdout",
     "output_type": "stream",
     "text": [
      "Aman Mishra\n",
      "aman_mishra@email.com\n"
     ]
    }
   ],
   "source": [
    "\n",
    "class Employee:\n",
    "\n",
    "    def __init__(self, firstname, lastname):\n",
    "        self._firstname = firstname\n",
    "        self._lastname = lastname\n",
    "        self._fullname = None\n",
    "        self._email = None\n",
    "\n",
    "##################################################################################################################################\n",
    "    @property\n",
    "    def firstname(self):\n",
    "        return self._firstname\n",
    "\n",
    "    @firstname.setter\n",
    "    def firstname(self, value):\n",
    "        if value != self._firstname:\n",
    "            self._firstname = value\n",
    "\n",
    "##################################################################################################################################\n",
    "    @property\n",
    "    def lastname(self):\n",
    "        return self._lastname\n",
    "\n",
    "    @lastname.setter\n",
    "    def lastame(self, value):\n",
    "        if value != self._lastname:\n",
    "            self._lastname = value\n",
    "\n",
    "##################################################################################################################################\n",
    "    @property\n",
    "    def fullname(self):\n",
    "        if self._fullname is None:\n",
    "            self._fullname = f\"{self.firstname} {self.lastname}\"\n",
    "        return self._fullname\n",
    "\n",
    "    @property\n",
    "    def email(self):\n",
    "        if self._email is None:\n",
    "            self._email =  f\"{self.firstname.lower()}_{self.lastname.lower()}@email.com\"\n",
    "        return self._email\n",
    "\n",
    "##################################################################################################################################\n",
    "emp1 = Employee(\"Avinash\", \"Mishra\")\n",
    "\n",
    "emp1.firstname = \"Aman\"\n",
    "\n",
    "print(emp1.fullname)            # OUTPUT:     Aman Mishra               <====     using   \"fullname\"    as  an  attribute\n",
    "print(emp1.email)               # OUTPUT:     Aman_Mishra@EMAIL.com     <====     using   \"email\"     as  a   method\n",
    "      "
   ]
  },
  {
   "cell_type": "markdown",
   "id": "5981b9d0-6e3c-4f92-8394-9bad80ee3778",
   "metadata": {},
   "source": [
    "<br>\n",
    "\n",
    "<span style=\"color: #03d1ff;\">--------------------------------------------------------------------<code style=\"background-color: white; color: #00b8e1; font-size: 1.05rem;\">Let's again take one more example</code>-------------------------------------------------------------------</span>"
   ]
  },
  {
   "cell_type": "code",
   "execution_count": 19,
   "id": "6c851750-b346-40f8-a04d-4089aec8a133",
   "metadata": {},
   "outputs": [
    {
     "name": "stdout",
     "output_type": "stream",
     "text": [
      "98.0 %\n",
      "94.0 %\n"
     ]
    }
   ],
   "source": [
    "\n",
    "class Student:\n",
    "    def __init__(self, phy, chem, maths):                             # CONSTRUCTOR\n",
    "        self.phy = phy                                                                      # instance  attribute  \"phy\"\n",
    "        self.chem = chem                                                                    # instance  attribute  \"chem\"\n",
    "        self.maths = maths                                                                  # instance  attribute  \"maths\"\n",
    "\n",
    "    def percentage(self):                                             # GETTER METHOD\n",
    "        return str((self.phy + self.chem + self.maths) / 3) + \" %\"\n",
    "\n",
    "stud1 = Student(98, 97, 99)\n",
    "\n",
    "print(stud1.percentage())      # OUTPUT: 98 %\n",
    "\n",
    "stud1.phy = 86\n",
    "\n",
    "print(stud1.percentage())      # OUTPUT: 98 %                         # Note: \"percentage\" is used as a METHOD not ATTRIBUTE   ===>   stud1.percentage()\n"
   ]
  },
  {
   "cell_type": "markdown",
   "id": "c2a0c996-d75b-4b3e-9e75-a31639dc78e0",
   "metadata": {},
   "source": [
    "<br>\n",
    "\n",
    "Now <code style=\"background-color: white;\">instead of simply using a method for accessing the <span style=\"color: blue;\">percentage</span>, let us add a <span style=\"background-color: yellow; color: black;\">@property</span> <u>decorator</u> on top of this method <u><span style=\"color: red;\">to access it as a property</span></u> (or <span style=\"font-size: 1rem;\"><strong>like an <span style=\"background-color: #ffeccf;\">attribute</span></strong></span>)</code>\n",
    "\n",
    "<br>\n",
    "\n",
    "<div style=\"margin-left: 40px;\">\n",
    "\n",
    "![](media/Shraddha_Kapra_oops_61.PNG)\n",
    "\n",
    "</div>"
   ]
  },
  {
   "cell_type": "code",
   "execution_count": 20,
   "id": "9401286f-84c8-4106-908c-313997348e45",
   "metadata": {},
   "outputs": [
    {
     "name": "stdout",
     "output_type": "stream",
     "text": [
      "98.0 %\n",
      "94.0 %\n"
     ]
    }
   ],
   "source": [
    "\n",
    "class Student:\n",
    "    def __init__(self, phy, chem, maths):                             # CONSTRUCTOR\n",
    "        self.phy = phy                                                                                # instance  attribute  \"phy\"\n",
    "        self.chem = chem                                                                              # instance  attribute  \"chem\"\n",
    "        self.maths = maths                                                                            # instance  attribute  \"maths\"\n",
    "\n",
    "    @property                                                                                         # property  class  attribute  \"percentage\"\n",
    "    def percentage(self):                                             # PROPERTY  GETTER  METHOD\n",
    "        return str((self.phy + self.chem + self.maths) / 3) + \" %\"\n",
    "\n",
    "stud1 = Student(98, 97, 99)\n",
    "\n",
    "print(stud1.percentage)         # OUTPUT: 98 %\n",
    "\n",
    "stud1.phy = 86\n",
    "\n",
    "print(stud1.percentage)         # OUTPUT: 94 %                        # Note: \"percentage\" is used as an ATTRIBUTE not METHOD   ==>   stud1.percentage()\n"
   ]
  },
  {
   "cell_type": "markdown",
   "id": "9c6d88b3-a1ac-464e-b2aa-f9c1be8f5e4f",
   "metadata": {},
   "source": [
    "<br>\n",
    "\n",
    "<code style=\"background-color: white;\">Despite the <code style=\"color: red;\">percentage</code> being a <u><span style=\"font-size: 1rem;\"><strong>computed</strong></span> property</u>, should we make it a <span style=\"background-color: yellow;\">readonly property</span> in this case? Let's check it out.</code>"
   ]
  },
  {
   "cell_type": "code",
   "execution_count": 38,
   "id": "f234274e-4cdc-4409-87df-efee952c8c21",
   "metadata": {},
   "outputs": [
    {
     "name": "stdout",
     "output_type": "stream",
     "text": [
      "98.0 %\n",
      "98.0 %\n"
     ]
    }
   ],
   "source": [
    "\n",
    "class Student:\n",
    "    def __init__(self, phy, chem, maths):\n",
    "        self._phy = phy                                                                 # instance  attribute  \"_phy\"\n",
    "        self._chem = chem                                                               # instance  attribute  \"_chem\"\n",
    "        self._maths = maths                                                             # instance  attribute  \"_maths\"\n",
    "        self._percentage = None                                                         # instance  attribute  \"_percentage\"\n",
    "\n",
    "##################################################################################################################################\n",
    "    @property                                                                           # property  attribute  \"phy\"\n",
    "    def phy(self):\n",
    "        return self._phy\n",
    "\n",
    "    @phy.setter\n",
    "    def phy(self, value):\n",
    "        if value != self._phy:\n",
    "            self._phy = value\n",
    "\n",
    "##################################################################################################################################\n",
    "    @property                                                                           # property  attribute  \"chem\"\n",
    "    def chem(self):\n",
    "        return self._chem\n",
    "\n",
    "    @chem.setter\n",
    "    def chem(self, value):\n",
    "        if value != self._chem:\n",
    "            self._chem = value\n",
    "\n",
    "##################################################################################################################################\n",
    "    @property                                                                           # property  attribute  \"maths\"\n",
    "    def maths(self):\n",
    "        return self._maths\n",
    "\n",
    "    @maths.setter\n",
    "    def maths(self, value):\n",
    "        if value != self._maths:\n",
    "            self._maths = value\n",
    "\n",
    "##################################################################################################################################\n",
    "    @property                                                                           # property  attribute  \"percentage\"\n",
    "    def percentage(self):\n",
    "        if self._percentage is None:\n",
    "            self._percentage = str((self.phy + self.chem + self.maths) / 3) + \" %\"\n",
    "        return self._percentage\n",
    "\n",
    "\n",
    "stud1 = Student(98, 97, 99)\n",
    "\n",
    "print(stud1.percentage)           # OUTPUT: 98 %\n",
    "\n",
    "stud1.phy = 86\n",
    "\n",
    "print(stud1.percentage)           # OUTPUT: 98 %       # EXPECTED: 94%\n"
   ]
  },
  {
   "cell_type": "markdown",
   "id": "5b1d212f-2d94-45b2-861a-b1cb63e7773e",
   "metadata": {},
   "source": [
    "<br>\n",
    "\n",
    "<code style=\"background-color: white;\">As you can see, the <code>actual output</code> (98%) is <span style=\"font-size: 1rem;\"><strong>not matching</strong></span> with the <code>expected output</code> (94%), let's see why?</code>\n",
    "\n",
    "<div style=\"margin-left: 20px;\">\n",
    "\n",
    "![](media/Shraddha_Kapra_oops_63.PNG)\n",
    "\n",
    "</div>\n",
    "\n",
    "<code style=\"background-color: white;\">Therefore despite the <code style=\"color: red;\">perecentage</code> being a <u>computed property</u>; it <span style=\"font-size: 1rem;\"><strong>cannot</strong></span> be a <span style=\"background-color: yellow;\">readonly property</span></code>\n",
    "\n",
    "<br>\n",
    "\n",
    "<span style=\"color: red;\">================================================================================================================</span>\n",
    "\n",
    "<br>\n",
    "\n",
    "<code style=\"background-color: white;\">Let's summarise. To create a python <span style=\"background-color: yellow;\">readonly property</span> :</code>\n",
    "\n",
    "&nbsp;&nbsp;&nbsp;&nbsp;&nbsp;&nbsp;&nbsp;&nbsp;&nbsp;&nbsp;&nbsp;&nbsp;■&nbsp; <code style=\"background-color: white;\">Define <u>only the getter</u> to make a property readonly</code>\n",
    "\n",
    "&nbsp;&nbsp;&nbsp;&nbsp;&nbsp;&nbsp;&nbsp;&nbsp;&nbsp;&nbsp;&nbsp;&nbsp;■&nbsp; <code style=\"background-color: white;\">Do use <u>computed property</u> to make the property of a class more natural</code>\n",
    "\n",
    "&nbsp;&nbsp;&nbsp;&nbsp;&nbsp;&nbsp;&nbsp;&nbsp;&nbsp;&nbsp;&nbsp;&nbsp;■&nbsp; <code style=\"background-color: white;\">Use <u>caching</u> computed properties to improve the performance</code>\n",
    "\n"
   ]
  },
  {
   "cell_type": "markdown",
   "id": "4aa35e2d-2481-42ab-92b3-333d0279c9b3",
   "metadata": {},
   "source": [
    "<br>\n",
    "\n",
    "<span style=\"color: #DCBD10\">▬▬▬▬▬▬▬▬▬▬▬▬▬▬▬▬▬▬▬▬▬▬▬▬▬▬▬▬▬▬▬▬▬▬▬▬▬▬▬▬▬▬▬▬▬▬▬▬▬▬▬▬▬▬▬▬▬▬▬▬▬▬▬▬▬▬▬▬▬▬▬▬▬▬▬▬▬</span>\n"
   ]
  },
  {
   "cell_type": "markdown",
   "id": "49ec75b6-0127-4fa3-a74f-859c822a0bae",
   "metadata": {},
   "source": [
    "\n",
    "#### <code style=\"background-color: blue; color: white;\">Delete Property</code>\n",
    "\n",
    "<br>"
   ]
  },
  {
   "cell_type": "markdown",
   "id": "3328c4bb-4900-4289-97f6-637587fe991a",
   "metadata": {},
   "source": [
    "In <code style=\"background-color: white;\">this tutorial, you’ll learn how to use the <span style=\"background-color: yellow;\">property()</span> class to <u><span style=\"font-size: 1rem;\"><strong>delete</strong></span> the property</u> of an object.</code>\n",
    "\n",
    "<br>\n",
    "\n",
    "To <code style=\"background-color: white;\">create a <span style=\"background-color: yellow;\">property</span> of a class, you use the <u><span style=\"background-color: yellow;\">@property</span> decorator</u>. Underhood, the <u><span style=\"background-color: yellow;\">@property</span> decorator</u> uses the <span style=\"background-color: yellow;\">property</span> class that has three methods: <span style=\"font-size: 1rem; color: red;\">setter</span>, <span style=\"font-size: 1rem; color: red;\">getter</span>, and <span style=\"font-size: 1rem; color: red;\">deleter</span>.</code>\n",
    "\n",
    "<br>\n",
    "\n",
    "<div style=\"background-color: #ffe9b9; padding-left: 10px; padding-top: 15px; padding-bottom: 10px;\">\n",
    "\n",
    "<code style=\"background-color: #ffe9b9;\">By using the <span style=\"font-size: 1rem; color: red;\">deleter</span>, you can delete a property of an <u>instance</u> of a <u>class</u>. </code>\n",
    "\n",
    "<code style=\"background-color: #ffe9b9;\">Notice that the <span style=\"background-color: yellow;\">deleter()</span> method <u>deletes a property of an <span style=\"font-size: 1rem;\"><strong>object</strong></span></u>, <span style=\"background-color: white;\">not a <span style=\"font-size: 1rem;\"><strong>class</strong></span></span>.</code>\n",
    "\n",
    "</div>\n",
    "\n",
    "<br>\n",
    "\n",
    "Consider <code style=\"background-color: white;\">the following example which defines the <code style=\"color: red;\">Person</code> class with the <code style=\"color: red;\">name</code> property:</code>\n",
    "\n",
    "<div style=\"margin-left: 40px;\">\n",
    "\n",
    "![](media/Shraddha_Kapra_oops_64.PNG)\n",
    "\n",
    "</div>\n",
    "\n",
    "In <code style=\"background-color: white;\">the <code style=\"color: red;\">Person</code> class, we use the <span style=\"background-color: yellow;\">@name.deleter</span> decorator. Inside the <span style=\"font-size: 1rem;\"><strong>deleter</strong></span>, we use the <code style=\"background-color: #b5ffa8;\">del</code> keyword to delete the <code style=\"color: blue;\">_name</code> attribute of the <code style=\"color: red;\">Person</code> instance.</code>"
   ]
  },
  {
   "cell_type": "code",
   "execution_count": 22,
   "id": "28f2c00c-8008-4adb-9f73-8f5e49c808d2",
   "metadata": {},
   "outputs": [
    {
     "data": {
      "text/plain": [
       "mappingproxy({'__module__': '__main__',\n",
       "              '__init__': <function __main__.Person.__init__(self, name)>,\n",
       "              'name': <property at 0x163b1dd5b20>,\n",
       "              '__dict__': <attribute '__dict__' of 'Person' objects>,\n",
       "              '__weakref__': <attribute '__weakref__' of 'Person' objects>,\n",
       "              '__doc__': None})"
      ]
     },
     "execution_count": 22,
     "metadata": {},
     "output_type": "execute_result"
    }
   ],
   "source": [
    "\n",
    "class Person:\n",
    "    def __init__(self, name):\n",
    "        self._name = name\n",
    "\n",
    "    @property\n",
    "    def name(self):\n",
    "        return self._name\n",
    "\n",
    "    @name.setter\n",
    "    def name(self, value):\n",
    "        if value.strip() == '':\n",
    "            raise ValueError('name cannot be empty')\n",
    "        self._name = value\n",
    "\n",
    "    @name.deleter\n",
    "    def name(self):\n",
    "        del self._name\n",
    "\n",
    "\n",
    "Person.__dict__            # returns  all  the  class  attributes  of  type  \"Person\"\n"
   ]
  },
  {
   "cell_type": "markdown",
   "id": "b0baacec-6cd4-4d16-b4d2-16c60c50a426",
   "metadata": {},
   "source": [
    "<br>\n",
    "\n",
    "As <code style=\"background-color: white;\">you can see the <code style=\"color: red;\">Person.\\_\\_dict__</code> class has the name variable.</code>"
   ]
  },
  {
   "cell_type": "code",
   "execution_count": 23,
   "id": "ef9acf43-13d1-4acf-be6b-3e77c5880603",
   "metadata": {},
   "outputs": [
    {
     "data": {
      "text/plain": [
       "{'_name': 'Avinash'}"
      ]
     },
     "execution_count": 23,
     "metadata": {},
     "output_type": "execute_result"
    }
   ],
   "source": [
    "\n",
    "avinash = Person(\"Avinash\")       # creates an instance \"avinash\" of type \"Person\"\n",
    "\n",
    "avinash.__dict__\n"
   ]
  },
  {
   "cell_type": "markdown",
   "id": "3827e06a-3e19-47ec-8481-ff4e10936983",
   "metadata": {},
   "source": [
    "<br>\n",
    "\n",
    "The <code style=\"background-color: white;\">following uses the <code style=\"background-color: #b5ffa8;\">del</code> keyword to delete the <code style=\"color: red;\">name</code> <span style=\"background-color: yellow;\">property</span>:</code>"
   ]
  },
  {
   "cell_type": "code",
   "execution_count": 24,
   "id": "dd6e26ce-b242-4a7c-9af0-085e2bd6082c",
   "metadata": {},
   "outputs": [],
   "source": [
    "\n",
    "del avinash.name\n"
   ]
  },
  {
   "cell_type": "markdown",
   "id": "42f77e4e-a5fb-4a37-88f9-c141445ee169",
   "metadata": {},
   "source": [
    "<br>\n",
    "\n",
    "Internally, <code style=\"background-color: white;\">Python will execute the <span style=\"color: red; font-size: 1rem;\">deleter</span> method that deletes the <code style=\"color: red;\">_name</code> attribute from the <code style=\"color: red;\">person</code> object.</code>\n",
    "\n",
    "So  <code style=\"background-color: white;\">now if you attempt to access <code style=\"color: red;\">name</code> property again or the corresponding instance attribute <code style=\"color: red;\">_name</code>, you’ll get <span style=\"color: red;\"><u><span style=\"color: black; font-size: 1rem;\"><strong>no attribute error</strong></span></u></span> :</code>"
   ]
  },
  {
   "cell_type": "code",
   "execution_count": 25,
   "id": "401d0092-a6e1-4e45-bd19-1df504c25c31",
   "metadata": {},
   "outputs": [
    {
     "ename": "AttributeError",
     "evalue": "'Person' object has no attribute '_name'",
     "output_type": "error",
     "traceback": [
      "\u001b[1;31m---------------------------------------------------------------------------\u001b[0m",
      "\u001b[1;31mAttributeError\u001b[0m                            Traceback (most recent call last)",
      "Cell \u001b[1;32mIn[25], line 1\u001b[0m\n\u001b[1;32m----> 1\u001b[0m \u001b[43mavinash\u001b[49m\u001b[38;5;241;43m.\u001b[39;49m\u001b[43mname\u001b[49m\n",
      "Cell \u001b[1;32mIn[22], line 7\u001b[0m, in \u001b[0;36mPerson.name\u001b[1;34m(self)\u001b[0m\n\u001b[0;32m      5\u001b[0m \u001b[38;5;129m@property\u001b[39m\n\u001b[0;32m      6\u001b[0m \u001b[38;5;28;01mdef\u001b[39;00m \u001b[38;5;21mname\u001b[39m(\u001b[38;5;28mself\u001b[39m):\n\u001b[1;32m----> 7\u001b[0m     \u001b[38;5;28;01mreturn\u001b[39;00m \u001b[38;5;28;43mself\u001b[39;49m\u001b[38;5;241;43m.\u001b[39;49m\u001b[43m_name\u001b[49m\n",
      "\u001b[1;31mAttributeError\u001b[0m: 'Person' object has no attribute '_name'"
     ]
    }
   ],
   "source": [
    "\n",
    "avinash.name\n"
   ]
  },
  {
   "cell_type": "code",
   "execution_count": 26,
   "id": "10738dd9-57d7-464e-96b4-0292ee43365c",
   "metadata": {},
   "outputs": [
    {
     "ename": "AttributeError",
     "evalue": "'Person' object has no attribute '_name'",
     "output_type": "error",
     "traceback": [
      "\u001b[1;31m---------------------------------------------------------------------------\u001b[0m",
      "\u001b[1;31mAttributeError\u001b[0m                            Traceback (most recent call last)",
      "Cell \u001b[1;32mIn[26], line 1\u001b[0m\n\u001b[1;32m----> 1\u001b[0m \u001b[43mavinash\u001b[49m\u001b[38;5;241;43m.\u001b[39;49m\u001b[43m_name\u001b[49m\n",
      "\u001b[1;31mAttributeError\u001b[0m: 'Person' object has no attribute '_name'"
     ]
    }
   ],
   "source": [
    "\n",
    "avinash._name\n"
   ]
  },
  {
   "cell_type": "markdown",
   "id": "ae325aa2-2afb-4735-b2d0-88cef9aeb075",
   "metadata": {},
   "source": [
    "<br>\n",
    "\n",
    "And <code style=\"background-color: white;\">you can confirm this through <code style=\"color: red;\">person.\\_\\_dict__</code> also :</code>"
   ]
  },
  {
   "cell_type": "code",
   "execution_count": 27,
   "id": "f0e30fe2-1f5a-4d1f-ad90-760226a0c054",
   "metadata": {},
   "outputs": [
    {
     "data": {
      "text/plain": [
       "{}"
      ]
     },
     "execution_count": 27,
     "metadata": {},
     "output_type": "execute_result"
    }
   ],
   "source": [
    "\n",
    "avinash.__dict__\n"
   ]
  },
  {
   "cell_type": "markdown",
   "id": "c49f16ab-3a98-4081-8142-d3137d540dbd",
   "metadata": {},
   "source": [
    "\n",
    "You <code style=\"background-color: white;\">can see there is no <code style=\"color: red;\">_name</code> in the <u>list of instance attributes</u> of the <code style=\"color: red;\">avinash</code> <span style=\"background-color: yellow;\">property object</span> of class <code style=\"color: red;\">Person</code>.</code>"
   ]
  },
  {
   "cell_type": "markdown",
   "id": "a41b0c58-437e-44c8-a865-72023086db71",
   "metadata": {},
   "source": [
    "<br>\n",
    "\n",
    "<span style=\"color: #DCBD10\">▬▬▬▬▬▬▬▬▬▬▬▬▬▬▬▬▬▬▬▬▬▬▬▬▬▬▬▬▬▬▬▬▬▬▬▬▬▬▬▬▬▬▬▬▬▬▬▬▬▬▬▬▬▬▬▬▬▬▬▬▬▬▬▬▬▬▬▬▬▬▬▬▬▬▬▬▬</span>\n"
   ]
  },
  {
   "cell_type": "markdown",
   "id": "33ef3553-59e0-4256-9cb2-d17137a7b5a8",
   "metadata": {},
   "source": [
    "#### <code style=\"background-color: blue; color: white;\">Advantages of using property in Python</code>\n"
   ]
  },
  {
   "cell_type": "markdown",
   "id": "42564431-7ad4-4816-b85e-825c82aef607",
   "metadata": {},
   "source": [
    "<br>\n",
    "\n",
    "<div style=\"background-color: #e7e5e4; padding-left: 10px; padding-top: 15px; padding-bottom: 10px;\">\n",
    "\n",
    "The concept of <span style=\"background-color: yellow;\">property</span> in Python is introduced to provide <strong>controlled access</strong> to <span style=\"color: red;\"><u>class attributes</u></span>, allowing developers to &nbsp;<span style=\"background-color: white;\">&nbsp;<strong>encapsulate</strong> logic & behavior around an attribute without changing the external interface of the class, thus maintaining the simple syntax of <strong>direct attribute access</strong>&nbsp;</span>. In simple words, <span style=\"color: blue;\"> using property the getter, setter & deleter methods of an attribute can be simply called as if that attribute is being called directly</span>.  <br>\n",
    "\n",
    "<br>\n",
    "\n",
    "This maintains simplicity for the user of the class while allowing &nbsp;<span style=\"background-color: #ffcfab;\">internal complexity</span>, &nbsp;<span style=\"background-color: #ffcfab;\">validation</span>, or &nbsp;<span style=\"background-color: #ffcfab;\">dynamic computation</span> for the developer. It bridges the gap between traditional getter/setter methods (common in languages like Java) and <span style=\"color: red;\"><u><span style=\"color: black;\"><i>Python’s philosophy of making attributes easy to access directly</i></span></u></span>  <br>\n",
    "\n",
    "<br>\n",
    "\n",
    "<span style=\"background-color: white;\">By providing getter, setter, and deleter functionality through properties, Python maintains the &nbsp;<strong>clean attribute access syntax</strong>&nbsp; while allowing for more sophisticated internal behavior, leading to more maintainable and robust code.</span>\n",
    "\n",
    "</div>  <br>\n",
    "\n",
    "1. <strong>Simplicity </strong> :&nbsp;&nbsp;&nbsp;&nbsp;&nbsp;&nbsp;&nbsp;&nbsp;&nbsp;&nbsp;&nbsp;&nbsp;<span style=\"color: red; background-color: white; font-size: 0.9rem;\">Allows to use a method like attribute and makes Python more \"Pythonic\"</span>   <br>\n",
    "&nbsp;&nbsp;&nbsp;&nbsp;&nbsp;&nbsp;&nbsp;&nbsp;&nbsp;&nbsp;&nbsp;&nbsp;&nbsp;&nbsp;&nbsp;&nbsp;&nbsp;&nbsp;&nbsp;&nbsp;&nbsp;&nbsp;&nbsp;&nbsp;&nbsp;&nbsp;&nbsp;&nbsp;&nbsp;&nbsp;&nbsp;<code style=\"background-color: white; font-size: 0.8rem; color: red;\">■</code>&nbsp;1.1 ) &nbsp; <code style=\"background-color: #99fff6;\">Encapsulation of logic</code> &nbsp;-&nbsp; <span style=\"color: blue;  font-size: 0.8rem;\">hiding internal implementation details of a <u>method</u> and use it as a <span style=\"color: 1rem;\"><strong>custom</strong></span> or <span style=\"color: 1rem;\"><strong>managed</strong></span> <u>attribute</u></span><br>\n",
    "&nbsp;&nbsp;&nbsp;&nbsp;&nbsp;&nbsp;&nbsp;&nbsp;&nbsp;&nbsp;&nbsp;&nbsp;&nbsp;&nbsp;&nbsp;&nbsp;&nbsp;&nbsp;&nbsp;&nbsp;&nbsp;&nbsp;&nbsp;&nbsp;&nbsp;&nbsp;&nbsp;&nbsp;&nbsp;&nbsp;&nbsp;<code style=\"background-color: white; font-size: 0.8rem; color: red;\">■</code>&nbsp;1.2 ) &nbsp; <code style=\"background-color: #99fff6;\">Simplicity in accessing attributes</code> &nbsp;-&nbsp; <span style=\"color: blue; font-size: 0.8rem;\">unlike in <code style=\"background-color: yellow;\">Java</code>, no need to explicitly write <u>getter</u> and <u>setter</u> methods to access <span style=\"font-size: 0.8rem;\"><strong>private</strong></span> attributes</span>\n",
    "<br>\n",
    "\n",
    "2. <strong>Flexibility</strong> : &nbsp;&nbsp;&nbsp;&nbsp;&nbsp;&nbsp;&nbsp;&nbsp;&nbsp;&nbsp;&nbsp;<span style=\"color: red; background-color: white; font-size: 0.9rem;\">Allows data validation, computed attributes, and lazy evaluation (compute on demand)</span>  <br>\n",
    "&nbsp;&nbsp;&nbsp;&nbsp;&nbsp;&nbsp;&nbsp;&nbsp;&nbsp;&nbsp;&nbsp;&nbsp;&nbsp;&nbsp;&nbsp;&nbsp;&nbsp;&nbsp;&nbsp;&nbsp;&nbsp;&nbsp;&nbsp;&nbsp;&nbsp;&nbsp;&nbsp;&nbsp;&nbsp;&nbsp;&nbsp;<code style=\"background-color: white; font-size: 0.8rem; color: red;\">■</code>&nbsp;2.1 ) &nbsp; <code style=\"background-color: #99fff6;\">Validation</code> &nbsp;-&nbsp; <span style=\"color: blue; font-size: 0.8rem;\">sometimes, attributes need to be accessed with certain logic applied</span> <br>\n",
    "&nbsp;&nbsp;&nbsp;&nbsp;&nbsp;&nbsp;&nbsp;&nbsp;&nbsp;&nbsp;&nbsp;&nbsp;&nbsp;&nbsp;&nbsp;&nbsp;&nbsp;&nbsp;&nbsp;&nbsp;&nbsp;&nbsp;&nbsp;&nbsp;&nbsp;&nbsp;&nbsp;&nbsp;&nbsp;&nbsp;&nbsp;<code style=\"background-color: white; font-size: 0.8rem; color: red;\">■</code>&nbsp;2.2 ) &nbsp; <code style=\"background-color: #99fff6;\">Computed Attributes</code>  &nbsp;-&nbsp; <span style=\"color: blue; font-size: 0.8rem; color: red;\">some attributes don’t store values separately rather they are <span style=\"font-size: 0.8rem;\"><strong>computed everytime</strong></span> dynamically <u>based on other attributes</u></span> <br>\n",
    "&nbsp;&nbsp;&nbsp;&nbsp;&nbsp;&nbsp;&nbsp;&nbsp;&nbsp;&nbsp;&nbsp;&nbsp;&nbsp;&nbsp;&nbsp;&nbsp;&nbsp;&nbsp;&nbsp;&nbsp;&nbsp;&nbsp;&nbsp;&nbsp;&nbsp;&nbsp;&nbsp;&nbsp;&nbsp;&nbsp;&nbsp;<code style=\"background-color: white; font-size: 0.8rem; color: red;\">■</code>&nbsp;2.3 ) &nbsp; <code style=\"background-color: #99fff6;\">Lazy Evaluation (Computation on demand)</code> &nbsp;-&nbsp; <span style=\"color: blue; font-size: 0.8rem;\"> Some attributes should be computed <u>only when accessed</u> and then <span style=\"font-size: 0.8rem;\"><strong>cached<strong></span> for future accesses</span>\n",
    "<br>\n",
    "\n",
    "3. <strong>Control</strong> :&nbsp;&nbsp;&nbsp;&nbsp;&nbsp;&nbsp;&nbsp;&nbsp;&nbsp;&nbsp;&nbsp;&nbsp;&nbsp;&nbsp;&nbsp;&nbsp;<span style=\"color: red; background-color: white; font-size: 0.9rem;\">Provides full control over how attributes are accessed or modified</span> <br>\n",
    "&nbsp;&nbsp;&nbsp;&nbsp;&nbsp;&nbsp;&nbsp;&nbsp;&nbsp;&nbsp;&nbsp;&nbsp;&nbsp;&nbsp;&nbsp;&nbsp;&nbsp;&nbsp;&nbsp;&nbsp;&nbsp;&nbsp;&nbsp;&nbsp;&nbsp;&nbsp;&nbsp;&nbsp;&nbsp;&nbsp;&nbsp;<code style=\"background-color: white; color: red;\">■</code>&nbsp;3.1 ) &nbsp; <code style=\"background-color: #99fff6;\">Read only property</code> &nbsp;-&nbsp; <span style=\"color: blue;\">you can make certain attributes read-only, so they <u>can be read but not modified</u></span>   <br>\n",
    "&nbsp;&nbsp;&nbsp;&nbsp;&nbsp;&nbsp;&nbsp;&nbsp;&nbsp;&nbsp;&nbsp;&nbsp;&nbsp;&nbsp;&nbsp;&nbsp;&nbsp;&nbsp;&nbsp;&nbsp;&nbsp;&nbsp;&nbsp;&nbsp;&nbsp;&nbsp;&nbsp;&nbsp;&nbsp;&nbsp;&nbsp;<code style=\"background-color: white; color: red;\">■</code>&nbsp;3.2 ) &nbsp; <code style=\"background-color: #99fff6;\">Deleters for Custom Logic on Deletion</code> &nbsp;-&nbsp; <span style=\"color: blue;\">in some cases, you might want <u>to add some custom behavior when an attribute is deleted</u></span>\n",
    "<br>\n",
    "\n",
    "4. <strong>Maintainability </strong> :&nbsp;&nbsp; <span style=\"color: red; background-color: white; font-size: 0.9rem;\">Makes it easy to maintain backward compatibility by turning existing attributes into properties without changing the interface.</span> <br>&nbsp;&nbsp;&nbsp;&nbsp;&nbsp;&nbsp;&nbsp;&nbsp;&nbsp;&nbsp;&nbsp;&nbsp;&nbsp;&nbsp;&nbsp;&nbsp;&nbsp;&nbsp;&nbsp;&nbsp;&nbsp;&nbsp;&nbsp;&nbsp;&nbsp;&nbsp;&nbsp;&nbsp;&nbsp;&nbsp;&nbsp;<code style=\"background-color: white; color: red;\">■</code>&nbsp;4.1) &nbsp; <code style=\"background-color: #99fff6;\">Backward Compatibility & Refactoring</code>&nbsp;-&nbsp; <span style=\"color: blue;\">allows you to change the internal implementation of how an attribute is stored or accessed, <br>\n",
    "&nbsp;&nbsp;&nbsp;&nbsp;&nbsp;&nbsp;&nbsp;&nbsp;&nbsp;&nbsp;&nbsp;&nbsp;&nbsp;&nbsp;&nbsp;&nbsp;&nbsp;&nbsp;&nbsp;&nbsp;&nbsp;&nbsp;&nbsp;&nbsp;&nbsp;&nbsp;&nbsp;&nbsp;&nbsp;&nbsp;&nbsp;&nbsp;&nbsp;&nbsp;&nbsp;&nbsp;&nbsp;&nbsp;&nbsp;&nbsp;&nbsp;&nbsp;&nbsp;&nbsp;&nbsp;&nbsp;&nbsp;&nbsp;&nbsp;&nbsp;&nbsp;&nbsp;&nbsp;&nbsp;&nbsp;&nbsp;&nbsp;&nbsp;&nbsp;&nbsp;&nbsp;&nbsp;&nbsp;&nbsp;&nbsp;&nbsp;&nbsp;&nbsp;&nbsp;&nbsp;&nbsp;&nbsp;&nbsp;&nbsp;&nbsp;&nbsp;&nbsp;&nbsp;&nbsp;&nbsp;&nbsp;&nbsp;&nbsp;&nbsp;&nbsp;&nbsp;&nbsp;&nbsp;&nbsp;&nbsp;&nbsp;&nbsp;&nbsp;&nbsp;&nbsp;&nbsp;&nbsp;&nbsp;&nbsp;&nbsp;&nbsp;&nbsp;&nbsp;&nbsp;&nbsp;&nbsp;&nbsp;&nbsp;&nbsp;&nbsp;&nbsp;&nbsp;&nbsp;&nbsp;&nbsp;&nbsp;&nbsp;&nbsp;&nbsp;&nbsp;&nbsp;&nbsp;&nbsp;&nbsp;&nbsp;<u>without breaking the <span style=\"font-size: 0.8rem;\"><strong>public API</strong></span></u> of your class; <u>particularly useful when refactoring code</u></span> <br>\n",
    "\n",
    "<span style=\"color: #03dcdf;\">------------------------------------------------------------------------------------------------------------------------------------------------------------------------------------------------</span>\n",
    "\n",
    "\n",
    "\n"
   ]
  },
  {
   "cell_type": "markdown",
   "id": "6caf268c-597b-42b2-ae59-34a5f5081c6a",
   "metadata": {},
   "source": [
    "\n",
    "Let's <code style=\"background-color: white;\">see an example of each</code>  \n",
    "\n",
    "<br>\n",
    "\n",
    "<span style=\"color: red;\">■</span>&nbsp;&nbsp;<code style=\"background-color: #99fff6;\">1.1) Encapsulation of Logic</code>\n",
    "\n",
    "Sometimes, attributes need to be accessed with certain logic applied. The &nbsp;<code style=\"background-color: yellow;\">property</code>&nbsp; feature allows you to control how attributes of a class are accessed and modified <u>without directly exposing the internal attributes</u>. This adheres to the principle of <strong>encapsulation</strong> in object-oriented programming, where the internal state of an object should not be modified directly.\n",
    "\n",
    "For example, you may want &nbsp;<span style=\"background-color: #ededed;\">to ensure that a person's &nbsp;<strong>age</strong>&nbsp; is always positive</span>&nbsp;:"
   ]
  },
  {
   "cell_type": "code",
   "execution_count": 28,
   "id": "552b09cf-c964-47b3-b171-5c81a9fa66f5",
   "metadata": {},
   "outputs": [
    {
     "name": "stdout",
     "output_type": "stream",
     "text": [
      "30\n",
      "25\n"
     ]
    },
    {
     "ename": "ValueError",
     "evalue": "Age cannot be negative!",
     "output_type": "error",
     "traceback": [
      "\u001b[1;31m---------------------------------------------------------------------------\u001b[0m",
      "\u001b[1;31mValueError\u001b[0m                                Traceback (most recent call last)",
      "Cell \u001b[1;32mIn[28], line 21\u001b[0m\n\u001b[0;32m     19\u001b[0m p\u001b[38;5;241m.\u001b[39mage \u001b[38;5;241m=\u001b[39m \u001b[38;5;241m25\u001b[39m                \u001b[38;5;66;03m# Works fine\u001b[39;00m\n\u001b[0;32m     20\u001b[0m \u001b[38;5;28mprint\u001b[39m(p\u001b[38;5;241m.\u001b[39mage)              \u001b[38;5;66;03m# OUTPUT  =============================================>  25\u001b[39;00m\n\u001b[1;32m---> 21\u001b[0m \u001b[43mp\u001b[49m\u001b[38;5;241;43m.\u001b[39;49m\u001b[43mage\u001b[49m \u001b[38;5;241m=\u001b[39m \u001b[38;5;241m-\u001b[39m\u001b[38;5;241m5\u001b[39m                \u001b[38;5;66;03m# Raises ValueError: Age cannot be negative!\u001b[39;00m\n",
      "Cell \u001b[1;32mIn[28], line 13\u001b[0m, in \u001b[0;36mPerson.age\u001b[1;34m(self, value)\u001b[0m\n\u001b[0;32m     10\u001b[0m \u001b[38;5;129m@age\u001b[39m\u001b[38;5;241m.\u001b[39msetter\n\u001b[0;32m     11\u001b[0m \u001b[38;5;28;01mdef\u001b[39;00m \u001b[38;5;21mage\u001b[39m(\u001b[38;5;28mself\u001b[39m, value):\n\u001b[0;32m     12\u001b[0m     \u001b[38;5;28;01mif\u001b[39;00m value \u001b[38;5;241m<\u001b[39m \u001b[38;5;241m0\u001b[39m:\n\u001b[1;32m---> 13\u001b[0m         \u001b[38;5;28;01mraise\u001b[39;00m \u001b[38;5;167;01mValueError\u001b[39;00m(\u001b[38;5;124m\"\u001b[39m\u001b[38;5;124mAge cannot be negative!\u001b[39m\u001b[38;5;124m\"\u001b[39m)\n\u001b[0;32m     14\u001b[0m     \u001b[38;5;28mself\u001b[39m\u001b[38;5;241m.\u001b[39m_age \u001b[38;5;241m=\u001b[39m value\n",
      "\u001b[1;31mValueError\u001b[0m: Age cannot be negative!"
     ]
    }
   ],
   "source": [
    "\n",
    "class Person:\n",
    "    def __init__(self, name, age):\n",
    "        self._name = name\n",
    "        self._age = age\n",
    "\n",
    "    @property\n",
    "    def age(self):\n",
    "        return self._age\n",
    "\n",
    "    @age.setter\n",
    "    def age(self, value):\n",
    "        if value < 0:\n",
    "            raise ValueError(\"Age cannot be negative!\")\n",
    "        self._age = value\n",
    "\n",
    "\n",
    "p = Person(\"Alice\", 30)\n",
    "print(p.age)              # OUTPUT  =============================================>  30\n",
    "p.age = 25                # Works fine\n",
    "print(p.age)              # OUTPUT  =============================================>  25\n",
    "p.age = -5                # Raises ValueError: Age cannot be negative!\n"
   ]
  },
  {
   "cell_type": "markdown",
   "id": "b37df946-29b8-43af-bd23-d0654f788b73",
   "metadata": {},
   "source": [
    "<br>\n",
    "\n",
    "<span style=\"color: red;\">■</span>&nbsp;&nbsp;<code style=\"background-color: #99fff6;\">1.2) Simplicity in accessing attributes</code>\n",
    "\n",
    "In many other object-oriented programming languages, you would have to <strong>explicitly</strong> write getter and setter methods to access <u>private attributes</u>. For example, in Java:\n",
    "\n",
    "<div style=\"margin-left: 55px;\">\n",
    "\n",
    "![](media/Shraddha_Kapra_oops_65.PNG)\n",
    "\n",
    "</div>\n",
    "\n",
    "But in Python, you can manage the logic of the getter & setter method of even a <u>private attribute</u> (let alone a public attribute) <strong>under the hood</strong> and directly use it as an attribute.\n",
    "\n",
    "<div style=\"margin-left: 50px;\">\n",
    "\n",
    "![](media/Shraddha_Kapra_oops_66.PNG)\n",
    "\n",
    "</div>\n",
    "\n",
    "This simplifies the code by making it <strong>more Pythonic</strong> and avoids the need for explicit getter and setter methods.\n",
    "\n",
    "<br>\n",
    "\n",
    "<span style=\"color: red;\">■</span>&nbsp;&nbsp;<code style=\"background-color: #99fff6;\">2.1) Validation</code>\n",
    "\n",
    "You can control what happens when an attribute is <u>accessed</u>, <u>modified</u>, or <u>deleted</u>.\n",
    "\n",
    "Refer example &nbsp;<code>1.1</code>\n",
    "\n",
    "<br>\n",
    "\n",
    "<span style=\"color: red;\">■</span>&nbsp;&nbsp;<code style=\"background-color: #99fff6;\">2.2) Computed Attributes</code> &nbsp;( <u><code style=\"background-color: #99fff6;\">Dynamic Computation of Attributes</code></u> )\n",
    "\n",
    "Some attributes don’t store values directly but are instead <u>computed based on other attributes</u>. Using &nbsp;<code style=\"background-color: yellow;\">property</code>&nbsp;, you can calculate the value when accessed, giving the illusion of a simple attribute.\n",
    "\n",
    "Example of computed attributes:"
   ]
  },
  {
   "cell_type": "code",
   "execution_count": 29,
   "id": "7e7b25aa-933e-4cde-8104-1ca35d7ae877",
   "metadata": {},
   "outputs": [
    {
     "name": "stdout",
     "output_type": "stream",
     "text": [
      "50\n",
      "80\n"
     ]
    }
   ],
   "source": [
    "\n",
    "class Rectangle:\n",
    "    def __init__(self, length, breadth):\n",
    "        self.length = length\n",
    "        self.breadth = breadth\n",
    "\n",
    "    @property\n",
    "    def area(self):\n",
    "        return self.length * self.breadth\n",
    "\n",
    "rect = Rectangle(5, 10)\n",
    "print(rect.area)                          # Output: 50\n",
    "\n",
    "# You can update the dimensions\n",
    "rect.length = 8\n",
    "print(rect.area)                          # Output: 80\n"
   ]
  },
  {
   "cell_type": "markdown",
   "id": "a38b3514-6bc8-4f7a-a810-a85aa78e646b",
   "metadata": {},
   "source": [
    "\n",
    "Here, &nbsp;<code>area</code>&nbsp; is a computed property. &nbsp;<span style=\"background-color: #ffdfce;\">It doesn’t need to be stored separately; &nbsp;it is calculated every time it's accessed</span>.&nbsp; This makes the class simpler and more efficient because &nbsp;<strong>it avoids redundant storage of data</strong>."
   ]
  },
  {
   "cell_type": "markdown",
   "id": "2537735f-ffdf-4568-8014-67cf622dcb2d",
   "metadata": {},
   "source": [
    "<br>\n",
    "\n",
    "<span style=\"color: red;\">■</span>&nbsp;&nbsp;<code style=\"background-color: #99fff6;\">2.3) Lazy Evaluation</code> &nbsp;( <u><code style=\"background-color: #99fff6;\">Computation on demand</code></u> )\n",
    "\n",
    "You can use properties to implement &nbsp;<strong>lazy attributes</strong>&nbsp; - &nbsp;<span style=\"background-color: #ffdfce;\">attributes that are <span style=\"color: red;\">computed only when accessed</span> and then <span style=\"color: red;\">cached</span> for future accesses</span>.\n"
   ]
  },
  {
   "cell_type": "code",
   "execution_count": 30,
   "id": "30e751fc-f62f-4118-8227-fc71db6b13ff",
   "metadata": {},
   "outputs": [
    {
     "name": "stdout",
     "output_type": "stream",
     "text": [
      "Calculating area...\n",
      "78.53975\n",
      "78.53975\n"
     ]
    }
   ],
   "source": [
    "\n",
    "class Circle:\n",
    "    def __init__(self, radius):\n",
    "        self._radius = radius\n",
    "        self._area = None                                     # Placeholder for computed value\n",
    "\n",
    "    @property\n",
    "    def area(self):\n",
    "        if self._area is None:\n",
    "            print(\"Calculating area...\")\n",
    "            self._area = 3.14159 * (self._radius ** 2)        # Lazy computation\n",
    "        return self._area\n",
    "\n",
    "# Example usage\n",
    "circle = Circle(5)\n",
    "print(circle.area)                                            # First time, it calculates the area\n",
    "print(circle.area)                                            # Second time, it uses the cached value\n"
   ]
  },
  {
   "cell_type": "markdown",
   "id": "2935b12d-5d14-47bc-b044-b18045451e33",
   "metadata": {},
   "source": [
    "<br>\n",
    "\n",
    "<span style=\"color: red;\">■</span>&nbsp;&nbsp;<code style=\"background-color: #99fff6;\">3.1) Read-only property</code>\n",
    "\n",
    "You can define a read-only property by <u>omitting the <strong>setter</strong> and <strong>deleter</strong> methods</u>. This prevents modification or deletion of the property."
   ]
  },
  {
   "cell_type": "code",
   "execution_count": 31,
   "id": "d1963ab0-dfdc-42a8-95aa-d4c903d5562b",
   "metadata": {},
   "outputs": [
    {
     "name": "stdout",
     "output_type": "stream",
     "text": [
      "Aman\n"
     ]
    },
    {
     "ename": "AttributeError",
     "evalue": "property 'name' of 'Person' object has no setter",
     "output_type": "error",
     "traceback": [
      "\u001b[1;31m---------------------------------------------------------------------------\u001b[0m",
      "\u001b[1;31mAttributeError\u001b[0m                            Traceback (most recent call last)",
      "Cell \u001b[1;32mIn[31], line 11\u001b[0m\n\u001b[0;32m      9\u001b[0m aman \u001b[38;5;241m=\u001b[39m Person(\u001b[38;5;124m\"\u001b[39m\u001b[38;5;124mAman\u001b[39m\u001b[38;5;124m\"\u001b[39m)\n\u001b[0;32m     10\u001b[0m \u001b[38;5;28mprint\u001b[39m(aman\u001b[38;5;241m.\u001b[39mname)                 \u001b[38;5;66;03m# OUTPUT:  Aman\u001b[39;00m\n\u001b[1;32m---> 11\u001b[0m \u001b[43maman\u001b[49m\u001b[38;5;241;43m.\u001b[39;49m\u001b[43mname\u001b[49m \u001b[38;5;241m=\u001b[39m \u001b[38;5;124m\"\u001b[39m\u001b[38;5;124mBabu\u001b[39m\u001b[38;5;124m\"\u001b[39m               \u001b[38;5;66;03m# This will raise an AttributeError: can't set attribute\u001b[39;00m\n",
      "\u001b[1;31mAttributeError\u001b[0m: property 'name' of 'Person' object has no setter"
     ]
    }
   ],
   "source": [
    "\n",
    "class Person:\n",
    "    def __init__(self, name):\n",
    "        self._name = name\n",
    "\n",
    "    @property                    # property  getter  method\n",
    "    def name(self):\n",
    "        return self._name\n",
    "\n",
    "aman = Person(\"Aman\")\n",
    "print(aman.name)                 # OUTPUT:  Aman\n",
    "aman.name = \"Babu\"               # This will raise an AttributeError: can't set attribute\n"
   ]
  },
  {
   "cell_type": "code",
   "execution_count": 32,
   "id": "3a5f6b2b-74df-4e3f-89e9-765d0d0602a7",
   "metadata": {},
   "outputs": [
    {
     "ename": "AttributeError",
     "evalue": "property 'name' of 'Person' object has no deleter",
     "output_type": "error",
     "traceback": [
      "\u001b[1;31m---------------------------------------------------------------------------\u001b[0m",
      "\u001b[1;31mAttributeError\u001b[0m                            Traceback (most recent call last)",
      "Cell \u001b[1;32mIn[32], line 1\u001b[0m\n\u001b[1;32m----> 1\u001b[0m \u001b[38;5;28;01mdel\u001b[39;00m \u001b[43maman\u001b[49m\u001b[38;5;241;43m.\u001b[39;49m\u001b[43mname\u001b[49m\n",
      "\u001b[1;31mAttributeError\u001b[0m: property 'name' of 'Person' object has no deleter"
     ]
    }
   ],
   "source": [
    "\n",
    "del aman.name\n"
   ]
  },
  {
   "cell_type": "markdown",
   "id": "648b54be-a684-4c8a-8d88-7875c81961ae",
   "metadata": {},
   "source": [
    "<br>\n",
    "\n",
    "<span style=\"color: red;\">■</span>&nbsp;&nbsp;<code style=\"background-color: #99fff6;\">3.2) Deleters for Custom Logic on Deletion</code>\n",
    "\n",
    "In some cases, you might want <u>to add custom behavior when an attribute is deleted</u>. Using the &nbsp;<span style=\"background-color: yellow;\"> @deleter </span>&nbsp; decorator, you can define logic that will be executed when &nbsp;<span style=\"background-color: #bcffb4;\"> del </span>&nbsp; is called on the property."
   ]
  },
  {
   "cell_type": "code",
   "execution_count": 33,
   "id": "190d8aa0-8122-47d5-ad81-555371a98ff2",
   "metadata": {},
   "outputs": [
    {
     "name": "stdout",
     "output_type": "stream",
     "text": [
      "30\n",
      "Deleting age...\n"
     ]
    },
    {
     "ename": "AttributeError",
     "evalue": "'Person' object has no attribute '_age'",
     "output_type": "error",
     "traceback": [
      "\u001b[1;31m---------------------------------------------------------------------------\u001b[0m",
      "\u001b[1;31mAttributeError\u001b[0m                            Traceback (most recent call last)",
      "Cell \u001b[1;32mIn[33], line 25\u001b[0m\n\u001b[0;32m     22\u001b[0m \u001b[38;5;28mprint\u001b[39m(p\u001b[38;5;241m.\u001b[39mage)                             \u001b[38;5;66;03m# OUTPUT  =================================================================>  30\u001b[39;00m\n\u001b[0;32m     24\u001b[0m \u001b[38;5;28;01mdel\u001b[39;00m p\u001b[38;5;241m.\u001b[39mage                                \u001b[38;5;66;03m# Deletes the age attribute and prints  ===================================>  \"Deleting age...\"\u001b[39;00m\n\u001b[1;32m---> 25\u001b[0m \u001b[38;5;28mprint\u001b[39m(\u001b[43mp\u001b[49m\u001b[38;5;241;43m.\u001b[39;49m\u001b[43mage\u001b[49m)                             \u001b[38;5;66;03m# Raises AttributeError: 'Person' object has no attribute '_age'\u001b[39;00m\n",
      "Cell \u001b[1;32mIn[33], line 8\u001b[0m, in \u001b[0;36mPerson.age\u001b[1;34m(self)\u001b[0m\n\u001b[0;32m      6\u001b[0m \u001b[38;5;129m@property\u001b[39m\n\u001b[0;32m      7\u001b[0m \u001b[38;5;28;01mdef\u001b[39;00m \u001b[38;5;21mage\u001b[39m(\u001b[38;5;28mself\u001b[39m):\n\u001b[1;32m----> 8\u001b[0m     \u001b[38;5;28;01mreturn\u001b[39;00m \u001b[38;5;28;43mself\u001b[39;49m\u001b[38;5;241;43m.\u001b[39;49m\u001b[43m_age\u001b[49m\n",
      "\u001b[1;31mAttributeError\u001b[0m: 'Person' object has no attribute '_age'"
     ]
    }
   ],
   "source": [
    "\n",
    "class Person:\n",
    "    def __init__(self, name, age):\n",
    "        self._name = name\n",
    "        self._age = age\n",
    "\n",
    "    @property\n",
    "    def age(self):\n",
    "        return self._age\n",
    "\n",
    "    @age.setter\n",
    "    def age(self, value):\n",
    "        if value < 0:\n",
    "            raise ValueError(\"Age cannot be negative!\")\n",
    "        self._age = value\n",
    "\n",
    "    @age.deleter\n",
    "    def age(self):\n",
    "        print(\"Deleting age...\")\n",
    "        del self._age\n",
    "\n",
    "p = Person(\"John\", 30)\n",
    "print(p.age)                             # OUTPUT  =================================================================>  30\n",
    "\n",
    "del p.age                                # Deletes the age attribute and prints  ===================================>  \"Deleting age...\"\n",
    "print(p.age)                             # Raises AttributeError: 'Person' object has no attribute '_age'\n"
   ]
  },
  {
   "cell_type": "markdown",
   "id": "ad9c5b6b-7e62-4afe-a974-df285b4b48b9",
   "metadata": {},
   "source": [
    "<br>\n",
    "\n",
    "<span style=\"color: red;\">■</span>&nbsp;&nbsp;<code style=\"background-color: #99fff6;\">4.1) Backward Compatibility and Refactoring</code>\n",
    "\n",
    "One major benefit of &nbsp;<span style=\"background-color: yellow;\"> property </span>&nbsp; is that it allows you to change the internal implementation of how an attribute is stored or accessed, &nbsp;<strong>without breaking the public API</strong>&nbsp; of your class. This is particularly useful when <u>refactoring</u> code.\n",
    "\n",
    "<font size=\"+1\">↳</font> <span style=\"color: blue;\">&nbsp;<u>Before &nbsp;refactoring</u>&nbsp;</span>"
   ]
  },
  {
   "cell_type": "code",
   "execution_count": 34,
   "id": "6f295346-eb26-4080-8a6e-558c5663f00c",
   "metadata": {},
   "outputs": [
    {
     "name": "stdout",
     "output_type": "stream",
     "text": [
      "1000\n"
     ]
    }
   ],
   "source": [
    "\n",
    "class Product:\n",
    "    def __init__(self, name, price):\n",
    "        self.name = name\n",
    "        self.price = price               # Public attribute\n",
    "\n",
    "\n",
    "product = Product(\"Laptop\", 1000)\n",
    "print(product.price)                     # Output: 1000\n"
   ]
  },
  {
   "cell_type": "markdown",
   "id": "66abb0c6-cdb4-4f9d-a1a5-d9e487651d47",
   "metadata": {},
   "source": [
    "Now imagine you need to introduce validation or more complex logic when setting the price. You could refactor the class to use a property while keeping the interface the same:\n",
    "\n",
    "<font size=\"+1\">↳</font> <span style=\"color: blue;\">&nbsp;<u>After &nbsp;refactoring&nbsp; with&nbsp; property</u></span>"
   ]
  },
  {
   "cell_type": "code",
   "execution_count": 35,
   "id": "47cbddf5-41da-4f53-83aa-a5df3baed15e",
   "metadata": {},
   "outputs": [
    {
     "name": "stdout",
     "output_type": "stream",
     "text": [
      "1000\n",
      "1200\n"
     ]
    },
    {
     "ename": "ValueError",
     "evalue": "Price cannot be negative!",
     "output_type": "error",
     "traceback": [
      "\u001b[1;31m---------------------------------------------------------------------------\u001b[0m",
      "\u001b[1;31mValueError\u001b[0m                                Traceback (most recent call last)",
      "Cell \u001b[1;32mIn[35], line 24\u001b[0m\n\u001b[0;32m     21\u001b[0m \u001b[38;5;28mprint\u001b[39m(product\u001b[38;5;241m.\u001b[39mprice)                                 \u001b[38;5;66;03m# Output  ===========================================>  1200\u001b[39;00m\n\u001b[0;32m     23\u001b[0m \u001b[38;5;66;03m# Trying to set an invalid price raises an error\u001b[39;00m\n\u001b[1;32m---> 24\u001b[0m \u001b[43mproduct\u001b[49m\u001b[38;5;241;43m.\u001b[39;49m\u001b[43mprice\u001b[49m \u001b[38;5;241m=\u001b[39m \u001b[38;5;241m-\u001b[39m\u001b[38;5;241m200\u001b[39m                                 \u001b[38;5;66;03m# Raises ValueError: Price cannot be negative!\u001b[39;00m\n",
      "Cell \u001b[1;32mIn[35], line 13\u001b[0m, in \u001b[0;36mProduct.price\u001b[1;34m(self, value)\u001b[0m\n\u001b[0;32m     10\u001b[0m \u001b[38;5;129m@price\u001b[39m\u001b[38;5;241m.\u001b[39msetter\n\u001b[0;32m     11\u001b[0m \u001b[38;5;28;01mdef\u001b[39;00m \u001b[38;5;21mprice\u001b[39m(\u001b[38;5;28mself\u001b[39m, value):\n\u001b[0;32m     12\u001b[0m     \u001b[38;5;28;01mif\u001b[39;00m value \u001b[38;5;241m<\u001b[39m \u001b[38;5;241m0\u001b[39m:\n\u001b[1;32m---> 13\u001b[0m         \u001b[38;5;28;01mraise\u001b[39;00m \u001b[38;5;167;01mValueError\u001b[39;00m(\u001b[38;5;124m\"\u001b[39m\u001b[38;5;124mPrice cannot be negative!\u001b[39m\u001b[38;5;124m\"\u001b[39m)\n\u001b[0;32m     14\u001b[0m     \u001b[38;5;28mself\u001b[39m\u001b[38;5;241m.\u001b[39m_price \u001b[38;5;241m=\u001b[39m value\n",
      "\u001b[1;31mValueError\u001b[0m: Price cannot be negative!"
     ]
    }
   ],
   "source": [
    "\n",
    "class Product:\n",
    "    def __init__(self, name, price):\n",
    "        self.name = name\n",
    "        self._price = price\n",
    "\n",
    "    @property\n",
    "    def price(self):\n",
    "        return self._price\n",
    "\n",
    "    @price.setter\n",
    "    def price(self, value):\n",
    "        if value < 0:\n",
    "            raise ValueError(\"Price cannot be negative!\")\n",
    "        self._price = value\n",
    "\n",
    "product = Product(\"Laptop\", 1000)\n",
    "print(product.price)                                 # Output  ===========================================>  1000\n",
    "\n",
    "# Sets a new valid price\n",
    "product.price = 1200                   \n",
    "print(product.price)                                 # Output  ===========================================>  1200\n",
    "\n",
    "# Trying to set an invalid price raises an error\n",
    "product.price = -200                                 # Raises ValueError: Price cannot be negative!\n"
   ]
  },
  {
   "cell_type": "markdown",
   "id": "ee05f6ab-aa97-402f-8a05-8bff997e2886",
   "metadata": {},
   "source": [
    "<br>\n",
    "\n",
    "By using properties, we’ve added validation without breaking the existing code that accessed &nbsp;<code>price</code>&nbsp; as if it were a public attribute."
   ]
  },
  {
   "cell_type": "markdown",
   "id": "39e11ac0-21a5-4348-b6e3-e240fc887d63",
   "metadata": {},
   "source": [
    "<span style=\"color: red;\">================================================================================================================</span>\n",
    "\n",
    "\n",
    "<font size=\"+1\">⭐</font>&nbsp;&nbsp;&nbsp;<code style=\"background-color: #ffd6b8; color: black;\">Avoiding Infinite Recursion in Properties</code>\n",
    "\n",
    "One <code style=\"background-color: white;\">common mistake when using properties is creating infinite recursion <u>by accidentally referencing the property within its own <span style=\"font-size: 1rem;\"><strong>setter</strong></span> or <span style=\"font-size: 1rem;\"><strong>getter</strong></span></u>. To avoid this, always use a <span style=\"background-color: #ebe6eb;\">separate internal (i.e, private) attribute</span> (commonly prefixed with <span style=\"background-color: yellow;\"> _ </span>) to store the actual value.</code>\n",
    "\n",
    "<font size=\"+1\">↳</font> <span style=\"color: blue;\">&nbsp;<u>Wrong &nbsp;Example &nbsp;(Infinite &nbsp;Recursion)</u>&nbsp;:</span>\n"
   ]
  },
  {
   "cell_type": "code",
   "execution_count": 36,
   "id": "ffea0bd1-3c54-4ec9-8ffd-57b904f639f1",
   "metadata": {},
   "outputs": [],
   "source": [
    "\n",
    "class Employee:\n",
    "    @property\n",
    "    def name(self):\n",
    "        return self.name          # This causes infinite recursion!\n",
    "\n",
    "    @name.setter\n",
    "    def name(self, value):\n",
    "        self.name = value         # This also causes infinite recursion!\n"
   ]
  },
  {
   "cell_type": "markdown",
   "id": "e4c81362-33bf-4c8c-8436-490f2b20a3b0",
   "metadata": {},
   "source": [
    "\n",
    "<font size=\"+1\">↳</font> <span style=\"color: blue;\">&nbsp;Correct &nbsp;Example&nbsp;:</span>\n"
   ]
  },
  {
   "cell_type": "code",
   "execution_count": 37,
   "id": "a4b6b9d3-1a16-481a-92b0-722cc3e88743",
   "metadata": {},
   "outputs": [],
   "source": [
    "\n",
    "class Employee:\n",
    "    def __init__(self, name):\n",
    "        self._name = name         # Uses an internal attribute\n",
    "\n",
    "    @property\n",
    "    def name(self):\n",
    "        return self._name\n",
    "\n",
    "    @name.setter\n",
    "    def name(self, value):\n",
    "        self._name = value\n"
   ]
  },
  {
   "cell_type": "code",
   "execution_count": null,
   "id": "57c1914a-e7b4-4722-8593-85a3c10465d3",
   "metadata": {},
   "outputs": [],
   "source": []
  },
  {
   "cell_type": "code",
   "execution_count": null,
   "id": "b25b9351-271d-4ee1-89e1-1266884e9e71",
   "metadata": {},
   "outputs": [],
   "source": []
  },
  {
   "cell_type": "code",
   "execution_count": null,
   "id": "98a1032f-2751-453e-9835-4a54193c9d95",
   "metadata": {},
   "outputs": [],
   "source": []
  },
  {
   "cell_type": "code",
   "execution_count": null,
   "id": "f1b576ab-de39-4685-b0c6-288cd9e3247a",
   "metadata": {},
   "outputs": [],
   "source": []
  },
  {
   "cell_type": "code",
   "execution_count": null,
   "id": "751b547d-d7de-4ffb-bf65-91f3a96f7e8b",
   "metadata": {},
   "outputs": [],
   "source": []
  }
 ],
 "metadata": {
  "kernelspec": {
   "display_name": "Python 3 (ipykernel)",
   "language": "python",
   "name": "python3"
  },
  "language_info": {
   "codemirror_mode": {
    "name": "ipython",
    "version": 3
   },
   "file_extension": ".py",
   "mimetype": "text/x-python",
   "name": "python",
   "nbconvert_exporter": "python",
   "pygments_lexer": "ipython3",
   "version": "3.11.3"
  }
 },
 "nbformat": 4,
 "nbformat_minor": 5
}
