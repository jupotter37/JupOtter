{
 "cells": [
  {
   "cell_type": "markdown",
   "id": "9ac70a89",
   "metadata": {
    "slideshow": {
     "slide_type": "skip"
    }
   },
   "source": [
    "**note**: for anyone trying to view this as a slideshow, run 'pip install rise', reload your notebook, then click on the button that looks like a bar graph to the right of the command palette at the top."
   ]
  },
  {
   "cell_type": "markdown",
   "id": "0aaa7f3e",
   "metadata": {
    "slideshow": {
     "slide_type": "slide"
    }
   },
   "source": [
    "<center><h1>Discussion 6</h1></center>\n",
    "<center><h2>DSC 20, Winter 2024</h2><center>"
   ]
  },
  {
   "cell_type": "markdown",
   "id": "172f9b03",
   "metadata": {
    "slideshow": {
     "slide_type": "slide"
    }
   },
   "source": [
    "<center><h3>Meme of the Week</h3></center>\n",
    "<br>\n",
    "\n",
    "<center><img src='imgs/meme.png' width = 600></center>"
   ]
  },
  {
   "cell_type": "markdown",
   "id": "c8f91290",
   "metadata": {
    "slideshow": {
     "slide_type": "slide"
    }
   },
   "source": [
    "<center><h3>Agenda</h3></center>\n",
    "<ul>\n",
    "    <li> <b style = 'color:blue'>Advanced Argument Passing </b> - Args, Kwargs, defaults\n",
    "    <li> <b style = 'color:blue'>Recursion</b> - Base Case, Recursive Calls, Logic </li>\n",
    "</ul>"
   ]
  },
  {
   "cell_type": "markdown",
   "id": "0da67025",
   "metadata": {
    "slideshow": {
     "slide_type": "slide"
    }
   },
   "source": [
    "<center><h3>*args</h3></center>\n",
    "\n",
    "<ul>\n",
    "    <li> Used when an unknown number of arguments will be passed into a function\n",
    "    <li> Denoted by * in the method header (IMPORTANT)\n",
    "    <li> processed in a similar manner to a list\n",
    "</ul>"
   ]
  },
  {
   "cell_type": "code",
   "execution_count": 10,
   "id": "06ef5902",
   "metadata": {
    "slideshow": {
     "slide_type": "fragment"
    }
   },
   "outputs": [
    {
     "name": "stdout",
     "output_type": "stream",
     "text": [
      "0\n",
      "15\n"
     ]
    }
   ],
   "source": [
    "def summation(*nums):\n",
    "    return sum(nums)\n",
    "print(summation())\n",
    "print(summation(1,2,3,4,5))"
   ]
  },
  {
   "cell_type": "markdown",
   "id": "c1fc1800",
   "metadata": {
    "slideshow": {
     "slide_type": "slide"
    }
   },
   "source": [
    "<center><h3 style = 'color:blue'> Checkpoint </h3></center>\n",
    "\n",
    "<center>What is the result of this function call?</center>"
   ]
  },
  {
   "cell_type": "code",
   "execution_count": null,
   "id": "2899af78",
   "metadata": {
    "slideshow": {
     "slide_type": "fragment"
    }
   },
   "outputs": [],
   "source": [
    "def generate_names(*name_parts):\n",
    "    output = []\n",
    "    for name in name_parts:\n",
    "        output.append(name*2)\n",
    "    return output\n",
    "generate_names('pika', 'dodo')"
   ]
  },
  {
   "cell_type": "markdown",
   "id": "a674d42c",
   "metadata": {
    "slideshow": {
     "slide_type": "fragment"
    }
   },
   "source": [
    "A. [['pikapika'], ['dodododo']]\n",
    "\n",
    "B. ['pikapika', 'dodododo']\n",
    "\n",
    "C. ['pika', 'dodo']\n",
    "\n",
    "D.[['pika'], ['dodo']]"
   ]
  },
  {
   "cell_type": "markdown",
   "id": "9a894fa7",
   "metadata": {
    "slideshow": {
     "slide_type": "slide"
    }
   },
   "source": [
    "<center><h3 style = 'color:blue'> Checkpoint Solution </h3></center>"
   ]
  },
  {
   "cell_type": "code",
   "execution_count": 14,
   "id": "f81bc865",
   "metadata": {
    "slideshow": {
     "slide_type": "fragment"
    }
   },
   "outputs": [
    {
     "data": {
      "text/plain": [
       "['pikapika', 'dodododo']"
      ]
     },
     "execution_count": 14,
     "metadata": {},
     "output_type": "execute_result"
    }
   ],
   "source": [
    "def generate_names(*name_parts):\n",
    "    output = []\n",
    "    for name in name_parts:\n",
    "        output.append(name*2)\n",
    "    return output\n",
    "generate_names('pika', 'dodo')"
   ]
  },
  {
   "cell_type": "markdown",
   "id": "7ba0d31a",
   "metadata": {
    "slideshow": {
     "slide_type": "slide"
    }
   },
   "source": [
    "<center><h3>**kwargs</h3></center>\n",
    "\n",
    "<ul>\n",
    "    <li> Used when an unknown number of <b>keyworded</b> arguments will be passed into a function\n",
    "    <li> Denoted by ** in the method header (IMPORTANT)\n",
    "    <li> processed in a similar manner to a dictionary\n",
    "</ul>"
   ]
  },
  {
   "cell_type": "code",
   "execution_count": 17,
   "id": "4d1b8648",
   "metadata": {
    "slideshow": {
     "slide_type": "fragment"
    }
   },
   "outputs": [
    {
     "name": "stdout",
     "output_type": "stream",
     "text": [
      "{}\n",
      "{'marina': 1, 'langlois': 2}\n",
      "{'marina': 1}\n"
     ]
    }
   ],
   "source": [
    "marina = {'marina':1}\n",
    "def create_dct(**entry):\n",
    "    return dict(entry)\n",
    "print(create_dct())\n",
    "print(create_dct(marina=1, langlois=2))\n",
    "print(marina)"
   ]
  },
  {
   "cell_type": "markdown",
   "id": "125c30c8",
   "metadata": {
    "slideshow": {
     "slide_type": "slide"
    }
   },
   "source": [
    "<center><h3>default_arguments</h3></center>\n",
    "\n",
    "<ul>\n",
    "    <li> Basically normal arguments, but with a default value\n",
    "    <li> if no value is passed, default value is set\n",
    "    <li> if a value is passed, default value is overwritten\n",
    "</ul>"
   ]
  },
  {
   "cell_type": "code",
   "execution_count": 16,
   "id": "598c76ad",
   "metadata": {
    "slideshow": {
     "slide_type": "fragment"
    }
   },
   "outputs": [
    {
     "name": "stdout",
     "output_type": "stream",
     "text": [
      "False\n",
      "True\n"
     ]
    }
   ],
   "source": [
    "def check_legal_age(age=18):\n",
    "    return age>=21\n",
    "print(check_legal_age())\n",
    "print(check_legal_age(21))"
   ]
  },
  {
   "cell_type": "markdown",
   "id": "2a091974",
   "metadata": {
    "slideshow": {
     "slide_type": "slide"
    }
   },
   "source": [
    "<center><h3 style = 'color:blue'> Checkpoint </h3></center>\n",
    "\n",
    "<center>What is the result of this function call?</center>"
   ]
  },
  {
   "cell_type": "code",
   "execution_count": 18,
   "id": "54fa17dc",
   "metadata": {
    "slideshow": {
     "slide_type": "fragment"
    }
   },
   "outputs": [
    {
     "data": {
      "text/plain": [
       "{'test': [3, 4, 5], 'idk': [6, 7, 8, 9]}"
      ]
     },
     "execution_count": 18,
     "metadata": {},
     "output_type": "execute_result"
    }
   ],
   "source": [
    "def filter_dict(t=2, **items_in):\n",
    "    return {k:v for k,v in items_in.items() if len(v)>t}\n",
    "filter_dict(temp=[1,2], test=[3,4,5], idk=[6,7,8,9])"
   ]
  },
  {
   "cell_type": "markdown",
   "id": "80f2b3b6",
   "metadata": {
    "slideshow": {
     "slide_type": "fragment"
    }
   },
   "source": [
    "A. {'idk': [6, 7, 8, 9]}\n",
    "\n",
    "B. {'temp': [1, 2], 'test': [3, 4, 5], 'idk': [6, 7, 8, 9]}\n",
    "\n",
    "C. {'test': [3, 4, 5], 'idk': [6, 7, 8, 9]}\n",
    "\n",
    "D. {'temp': [1, 2], 'test': [3, 4, 5]}"
   ]
  },
  {
   "cell_type": "markdown",
   "id": "8c67bdb7",
   "metadata": {
    "slideshow": {
     "slide_type": "slide"
    }
   },
   "source": [
    "<center><h3>note</h3></center>\n",
    "\n",
    "<center>complex argument ordering gets really messy</center>"
   ]
  },
  {
   "cell_type": "code",
   "execution_count": 20,
   "id": "982d59ca",
   "metadata": {
    "slideshow": {
     "slide_type": "fragment"
    }
   },
   "outputs": [
    {
     "data": {
      "text/plain": [
       "[42, [1, 1, 1, 1, 1, 1, 3], 4, {'test': 1}]"
      ]
     },
     "execution_count": 20,
     "metadata": {},
     "output_type": "execute_result"
    }
   ],
   "source": [
    "def func(norm, *args, darg=2, **kwargs):\n",
    "    return [norm, list(args), darg, dict(kwargs)]\n",
    "func(42,1,1,1,1,1,1,3,darg=4, test=1)"
   ]
  },
  {
   "cell_type": "code",
   "execution_count": 22,
   "id": "247a3896",
   "metadata": {
    "slideshow": {
     "slide_type": "fragment"
    }
   },
   "outputs": [
    {
     "data": {
      "text/plain": [
       "[42, [1, 1, 1, 1, 1, 1, 3], 4, {'test': 1}]"
      ]
     },
     "execution_count": 22,
     "metadata": {},
     "output_type": "execute_result"
    }
   ],
   "source": [
    "def func(norm, darg=2, *args, **kwargs):\n",
    "    return [norm, list(args), darg, dict(kwargs)]\n",
    "func(42,4,1,1,1,1,1,1,3,test=1)"
   ]
  },
  {
   "cell_type": "markdown",
   "id": "d7e87f59",
   "metadata": {
    "slideshow": {
     "slide_type": "slide"
    }
   },
   "source": [
    "<center><h3>Recursion</h3></center>\n",
    "<br>\n",
    "\n",
    "<center>Recursion is a design method for code - it refers to a class of functions that call on itself repeatedly. A lot of important ideas' optimal solutions are recursive and many algorithms depend on recursion to function correctly (ex. BFS, DFS, Dijkstra's algorithm, DP, etc.). You can't escape it :)</center>\n",
    "\n",
    "<center><img src = 'imgs/infinity_cat.gif' width=500></center>"
   ]
  },
  {
   "cell_type": "markdown",
   "id": "d9440d66",
   "metadata": {
    "slideshow": {
     "slide_type": "slide"
    }
   },
   "source": [
    "<center><h3>Recursion - Base Case</h3></center>\n",
    "\n",
    "<center> Base case(s) are regarded as the most important part of a recursive function. They determine the stop point for recursion and begin the argument passing up the \"stack\" of recursive calls. Without a well written base case, recursion will either never end or end incorrectly. When writing recursion questions, always start with determining the base case. </center>"
   ]
  },
  {
   "cell_type": "markdown",
   "id": "2ff3f6f5",
   "metadata": {
    "slideshow": {
     "slide_type": "fragment"
    }
   },
   "source": [
    "<center><h3>Recursion - Recursive Calls</h3></center>\n",
    "\n",
    "<center>The crux of a recursive function working is the recursive calls. These calls will repeat until the base case is reached, creating the \"stack\" of recursive calls that will begin resolving at the base case. Keep in mind when writing recursive calls that every call needs to trend towards the base case.</center>"
   ]
  },
  {
   "cell_type": "markdown",
   "id": "f9ac9c3e",
   "metadata": {
    "slideshow": {
     "slide_type": "slide"
    }
   },
   "source": [
    "<center><h3>Recursion - Example</h3></center>"
   ]
  },
  {
   "cell_type": "code",
   "execution_count": 2,
   "id": "b5d1a370",
   "metadata": {
    "slideshow": {
     "slide_type": "fragment"
    }
   },
   "outputs": [],
   "source": [
    "def list_product(lst):\n",
    "    \"\"\"\n",
    "    recursive function to find the product of every\n",
    "    element in a list. Discuss recursive structure\n",
    "    \"\"\"\n",
    "    if len(lst)==0: # base case\n",
    "        return 1\n",
    "    else: # recursive call\n",
    "        return list_product(lst[1:]) * lst[0]"
   ]
  },
  {
   "cell_type": "code",
   "execution_count": 4,
   "id": "b2816edd",
   "metadata": {
    "slideshow": {
     "slide_type": "fragment"
    }
   },
   "outputs": [
    {
     "data": {
      "text/plain": [
       "6"
      ]
     },
     "execution_count": 4,
     "metadata": {},
     "output_type": "execute_result"
    }
   ],
   "source": [
    "list_product([1,2,3])"
   ]
  },
  {
   "cell_type": "markdown",
   "id": "c3b6b98a",
   "metadata": {
    "slideshow": {
     "slide_type": "slide"
    }
   },
   "source": [
    "<center><h3>Recursion - Tracing Logic</h3></center>\n",
    "<center><img src='imgs/recursion_trace.png' width=600></center>\n",
    "\n",
    "<center>The recurisve calls of the function generates a \"stack\" of recursive functions to resolve, each waiting for the result from the next until it can be solved. No resolution can happen until the base case is reached and returns the iniital value.</center>\n",
    "\n",
    "<center><a href='https://pythontutor.com/visualize.html#code=def%20list_product%28lst%29%3A%0A%20%20%20%20%22%22%22%0A%20%20%20%20recursive%20function%20to%20find%20the%20product%20of%20every%0A%20%20%20%20element%20in%20a%20list.%20Discuss%20recursive%20structure%0A%20%20%20%20%22%22%22%0A%20%20%20%20if%20len%28lst%29%3D%3D0%3A%0A%20%20%20%20%20%20%20%20return%201%0A%20%20%20%20else%3A%0A%20%20%20%20%20%20%20%20return%20list_product%28lst%5B1%3A%5D%29%20*%20lst%5B0%5D%0A%20%20%20%20%20%20%20%20%0Aprint%28list_product%28%5B1,2,3,4%5D%29%29&cumulative=false&heapPrimitives=nevernest&mode=edit&origin=opt-frontend.js&py=3&rawInputLstJSON=%5B%5D&textReferences=false'> link </a></center>"
   ]
  },
  {
   "cell_type": "markdown",
   "id": "73182961",
   "metadata": {
    "slideshow": {
     "slide_type": "slide"
    }
   },
   "source": [
    "<center><h3>Recursion - Bad Base Case</h3></center>"
   ]
  },
  {
   "cell_type": "code",
   "execution_count": 2,
   "id": "a3c9f086",
   "metadata": {
    "slideshow": {
     "slide_type": "fragment"
    }
   },
   "outputs": [
    {
     "data": {
      "text/plain": [
       "0"
      ]
     },
     "execution_count": 2,
     "metadata": {},
     "output_type": "execute_result"
    }
   ],
   "source": [
    "def list_product_wrong(lst):\n",
    "    if len(lst)==0:\n",
    "        return 0\n",
    "    return list_product_wrong(lst[1:]) * lst[0]\n",
    "list_product_wrong([1,2,3])"
   ]
  },
  {
   "cell_type": "code",
   "execution_count": 2,
   "id": "4d771bb1",
   "metadata": {
    "slideshow": {
     "slide_type": "fragment"
    }
   },
   "outputs": [
    {
     "ename": "RecursionError",
     "evalue": "maximum recursion depth exceeded while calling a Python object",
     "output_type": "error",
     "traceback": [
      "\u001b[0;31m---------------------------------------------------------------------------\u001b[0m",
      "\u001b[0;31mRecursionError\u001b[0m                            Traceback (most recent call last)",
      "Cell \u001b[0;32mIn[2], line 5\u001b[0m\n\u001b[1;32m      3\u001b[0m         \u001b[38;5;28;01mreturn\u001b[39;00m \u001b[38;5;241m1\u001b[39m\n\u001b[1;32m      4\u001b[0m     \u001b[38;5;28;01mreturn\u001b[39;00m list_product_wrong(lst[\u001b[38;5;241m1\u001b[39m:]) \u001b[38;5;241m*\u001b[39m lst[\u001b[38;5;241m0\u001b[39m]\n\u001b[0;32m----> 5\u001b[0m \u001b[43mlist_product_wrong\u001b[49m\u001b[43m(\u001b[49m\u001b[43m[\u001b[49m\u001b[38;5;241;43m1\u001b[39;49m\u001b[43m,\u001b[49m\u001b[38;5;241;43m2\u001b[39;49m\u001b[43m,\u001b[49m\u001b[38;5;241;43m3\u001b[39;49m\u001b[43m]\u001b[49m\u001b[43m)\u001b[49m\n",
      "Cell \u001b[0;32mIn[2], line 4\u001b[0m, in \u001b[0;36mlist_product_wrong\u001b[0;34m(lst)\u001b[0m\n\u001b[1;32m      2\u001b[0m \u001b[38;5;28;01mif\u001b[39;00m \u001b[38;5;28mlen\u001b[39m(lst)\u001b[38;5;241m==\u001b[39m\u001b[38;5;241m-\u001b[39m\u001b[38;5;241m1\u001b[39m:\n\u001b[1;32m      3\u001b[0m     \u001b[38;5;28;01mreturn\u001b[39;00m \u001b[38;5;241m1\u001b[39m\n\u001b[0;32m----> 4\u001b[0m \u001b[38;5;28;01mreturn\u001b[39;00m \u001b[43mlist_product_wrong\u001b[49m\u001b[43m(\u001b[49m\u001b[43mlst\u001b[49m\u001b[43m[\u001b[49m\u001b[38;5;241;43m1\u001b[39;49m\u001b[43m:\u001b[49m\u001b[43m]\u001b[49m\u001b[43m)\u001b[49m \u001b[38;5;241m*\u001b[39m lst[\u001b[38;5;241m0\u001b[39m]\n",
      "Cell \u001b[0;32mIn[2], line 4\u001b[0m, in \u001b[0;36mlist_product_wrong\u001b[0;34m(lst)\u001b[0m\n\u001b[1;32m      2\u001b[0m \u001b[38;5;28;01mif\u001b[39;00m \u001b[38;5;28mlen\u001b[39m(lst)\u001b[38;5;241m==\u001b[39m\u001b[38;5;241m-\u001b[39m\u001b[38;5;241m1\u001b[39m:\n\u001b[1;32m      3\u001b[0m     \u001b[38;5;28;01mreturn\u001b[39;00m \u001b[38;5;241m1\u001b[39m\n\u001b[0;32m----> 4\u001b[0m \u001b[38;5;28;01mreturn\u001b[39;00m \u001b[43mlist_product_wrong\u001b[49m\u001b[43m(\u001b[49m\u001b[43mlst\u001b[49m\u001b[43m[\u001b[49m\u001b[38;5;241;43m1\u001b[39;49m\u001b[43m:\u001b[49m\u001b[43m]\u001b[49m\u001b[43m)\u001b[49m \u001b[38;5;241m*\u001b[39m lst[\u001b[38;5;241m0\u001b[39m]\n",
      "    \u001b[0;31m[... skipping similar frames: list_product_wrong at line 4 (2969 times)]\u001b[0m\n",
      "Cell \u001b[0;32mIn[2], line 4\u001b[0m, in \u001b[0;36mlist_product_wrong\u001b[0;34m(lst)\u001b[0m\n\u001b[1;32m      2\u001b[0m \u001b[38;5;28;01mif\u001b[39;00m \u001b[38;5;28mlen\u001b[39m(lst)\u001b[38;5;241m==\u001b[39m\u001b[38;5;241m-\u001b[39m\u001b[38;5;241m1\u001b[39m:\n\u001b[1;32m      3\u001b[0m     \u001b[38;5;28;01mreturn\u001b[39;00m \u001b[38;5;241m1\u001b[39m\n\u001b[0;32m----> 4\u001b[0m \u001b[38;5;28;01mreturn\u001b[39;00m \u001b[43mlist_product_wrong\u001b[49m\u001b[43m(\u001b[49m\u001b[43mlst\u001b[49m\u001b[43m[\u001b[49m\u001b[38;5;241;43m1\u001b[39;49m\u001b[43m:\u001b[49m\u001b[43m]\u001b[49m\u001b[43m)\u001b[49m \u001b[38;5;241m*\u001b[39m lst[\u001b[38;5;241m0\u001b[39m]\n",
      "Cell \u001b[0;32mIn[2], line 2\u001b[0m, in \u001b[0;36mlist_product_wrong\u001b[0;34m(lst)\u001b[0m\n\u001b[1;32m      1\u001b[0m \u001b[38;5;28;01mdef\u001b[39;00m \u001b[38;5;21mlist_product_wrong\u001b[39m(lst):\n\u001b[0;32m----> 2\u001b[0m     \u001b[38;5;28;01mif\u001b[39;00m \u001b[38;5;28;43mlen\u001b[39;49m\u001b[43m(\u001b[49m\u001b[43mlst\u001b[49m\u001b[43m)\u001b[49m\u001b[38;5;241m==\u001b[39m\u001b[38;5;241m-\u001b[39m\u001b[38;5;241m1\u001b[39m:\n\u001b[1;32m      3\u001b[0m         \u001b[38;5;28;01mreturn\u001b[39;00m \u001b[38;5;241m1\u001b[39m\n\u001b[1;32m      4\u001b[0m     \u001b[38;5;28;01mreturn\u001b[39;00m list_product_wrong(lst[\u001b[38;5;241m1\u001b[39m:]) \u001b[38;5;241m*\u001b[39m lst[\u001b[38;5;241m0\u001b[39m]\n",
      "\u001b[0;31mRecursionError\u001b[0m: maximum recursion depth exceeded while calling a Python object"
     ]
    }
   ],
   "source": [
    "def list_product_wrong(lst):\n",
    "    if len(lst)==-1:\n",
    "        return 1\n",
    "    return list_product_wrong(lst[1:]) * lst[0]\n",
    "list_product_wrong([1,2,3])"
   ]
  },
  {
   "cell_type": "markdown",
   "id": "f8bba235",
   "metadata": {
    "slideshow": {
     "slide_type": "slide"
    }
   },
   "source": [
    "<center><h3 style='color:blue'>Checkpoint</h3></center>\n",
    "\n",
    "<center>What should the base case be?</center>"
   ]
  },
  {
   "cell_type": "code",
   "execution_count": 28,
   "id": "ff62f0ec",
   "metadata": {
    "slideshow": {
     "slide_type": "fragment"
    }
   },
   "outputs": [],
   "source": [
    "def reverse_recursive(s):\n",
    "    \"\"\"\n",
    "    Recursive function to reverse a string\n",
    "    \n",
    "    args:\n",
    "        s(string): string to be reversed\n",
    "    returns:\n",
    "        reversed string\n",
    "    \n",
    "    >>> reverse_recursive('siolgnal aniram')\n",
    "    marina langlois\n",
    "    \"\"\"\n",
    "    # your implementation here"
   ]
  },
  {
   "cell_type": "markdown",
   "id": "f4d98dda",
   "metadata": {
    "slideshow": {
     "slide_type": "fragment"
    }
   },
   "source": [
    "A. ```if len(s) == 0: return s```\n",
    "\n",
    "B. ```if len(s) == 1: return s```\n",
    "\n",
    "C. ```if len(s): return s```\n",
    "\n",
    "D. ```if len(s) != 1: return s ```"
   ]
  },
  {
   "cell_type": "markdown",
   "id": "b742ae44",
   "metadata": {
    "slideshow": {
     "slide_type": "slide"
    }
   },
   "source": [
    "<center><h3 style='color:blue'>Checkpoint Solution</h3></center>"
   ]
  },
  {
   "cell_type": "code",
   "execution_count": 32,
   "id": "c385d18d",
   "metadata": {
    "slideshow": {
     "slide_type": "fragment"
    }
   },
   "outputs": [
    {
     "name": "stdout",
     "output_type": "stream",
     "text": [
      "marina langlois\n"
     ]
    }
   ],
   "source": [
    "def reverse_recursive(s):\n",
    "    if len(s) == 0: # can be 0 or 1\n",
    "        return s"
   ]
  },
  {
   "cell_type": "markdown",
   "id": "41a343ff",
   "metadata": {
    "slideshow": {
     "slide_type": "slide"
    }
   },
   "source": [
    "<center><h3 style='color:blue'>Checkpoint</h3></center>\n",
    "\n",
    "<center>What should the recursive call be?</center>"
   ]
  },
  {
   "cell_type": "code",
   "execution_count": null,
   "id": "d0c251f5",
   "metadata": {
    "slideshow": {
     "slide_type": "fragment"
    }
   },
   "outputs": [],
   "source": [
    "def reverse_recursive(s):\n",
    "    \"\"\"\n",
    "    Recursive function to reverse a string\n",
    "    \n",
    "    args:\n",
    "        s(string): string to be reversed\n",
    "    returns:\n",
    "        reversed string\n",
    "    \n",
    "    >>> reverse_recursive('siolgnal aniram')\n",
    "    marina langlois\n",
    "    \"\"\"\n",
    "    if len(s) == 0: # can be 0 or 1\n",
    "        return s"
   ]
  },
  {
   "cell_type": "markdown",
   "id": "2e5b10cb",
   "metadata": {
    "slideshow": {
     "slide_type": "fragment"
    }
   },
   "source": [
    "A. ```return s[-1]```\n",
    "\n",
    "B. ```return s[1] + reverse_recursive(s[:1])```\n",
    "\n",
    "C. ```return reverse_recursive(s[:-1])```\n",
    "\n",
    "D. ```return s[-1] + reverse_recursive(s[:-1]) ```"
   ]
  },
  {
   "cell_type": "markdown",
   "id": "d27e88ff",
   "metadata": {
    "slideshow": {
     "slide_type": "slide"
    }
   },
   "source": [
    "<center><h3 style='color:blue'>Checkpoint Solution</h3></center>"
   ]
  },
  {
   "cell_type": "code",
   "execution_count": 8,
   "id": "09dde003",
   "metadata": {
    "slideshow": {
     "slide_type": "fragment"
    }
   },
   "outputs": [
    {
     "name": "stdout",
     "output_type": "stream",
     "text": [
      "marina langlois\n"
     ]
    }
   ],
   "source": [
    "def reverse_recursive(s):\n",
    "    if len(s) == 0: # can be 0 or 1\n",
    "        return s\n",
    "    else:\n",
    "        return s[-1] + reverse_recursive(s[:-1])\n",
    "\n",
    "print(reverse_recursive('siolgnal aniram'))"
   ]
  },
  {
   "cell_type": "markdown",
   "id": "6c75fcea",
   "metadata": {
    "slideshow": {
     "slide_type": "slide"
    }
   },
   "source": [
    "<center><h2>practice questions</h2></center>"
   ]
  },
  {
   "cell_type": "code",
   "execution_count": 15,
   "id": "fdf3fb1c",
   "metadata": {
    "slideshow": {
     "slide_type": "skip"
    }
   },
   "outputs": [],
   "source": [
    "def recursive_len(lst):\n",
    "    \"\"\"\n",
    "    Write a recursive version of built-in len function.\n",
    "    DO NOT USE LEN THAT LITERALLY DEFEATS THE PURPOSE\n",
    "    \n",
    "    >>> recursive_len([1,2,3])\n",
    "    3\n",
    "    >>> recursive_len([])\n",
    "    0\n",
    "    \"\"\"\n",
    "    # Write your implementation here\n",
    "    return\n",
    "\n",
    "def recursive_max(lst):\n",
    "    \"\"\"\n",
    "    recursive version of built-in max function.\n",
    "    DO NOT USE MAX THAT LITERALLY DEFEATS THE PURPOSE\n",
    "    \n",
    "    >>> recursive_max([1,4,2,10,5])\n",
    "    10\n",
    "    >>> recursive_max([5])\n",
    "    5\n",
    "    \"\"\"\n",
    "    # Write your implementation here\n",
    "    return\n",
    "    \n",
    "    \n",
    "# Write a function that takes in an unknown number of lists and returns the sum of the \n",
    "# length of the first 'counter' lists, default value of 4.\n"
   ]
  },
  {
   "cell_type": "markdown",
   "id": "43d12f5d",
   "metadata": {
    "slideshow": {
     "slide_type": "slide"
    }
   },
   "source": [
    "<center><h2>practice question solutions</h2></center>"
   ]
  },
  {
   "cell_type": "code",
   "execution_count": 34,
   "id": "55d353e3",
   "metadata": {
    "slideshow": {
     "slide_type": "slide"
    }
   },
   "outputs": [
    {
     "name": "stdout",
     "output_type": "stream",
     "text": [
      "3\n",
      "0\n"
     ]
    }
   ],
   "source": [
    "def recursive_len(lst):\n",
    "    \"\"\"\n",
    "    recursive version of built-in len function.\n",
    "    \n",
    "    >>> recursive_len([1,2,3])\n",
    "    3\n",
    "    >>> recursive_len([])\n",
    "    0\n",
    "    \"\"\"\n",
    "    if not lst:\n",
    "        return 0\n",
    "    else:\n",
    "        return 1 + recursive_len(lst[1:])\n",
    "print(recursive_len([1,2,3]))\n",
    "print(recursive_len([]))"
   ]
  },
  {
   "cell_type": "code",
   "execution_count": 21,
   "id": "a6008d07",
   "metadata": {
    "slideshow": {
     "slide_type": "slide"
    }
   },
   "outputs": [
    {
     "name": "stdout",
     "output_type": "stream",
     "text": [
      "10\n"
     ]
    }
   ],
   "source": [
    "def recursive_max(lst):\n",
    "    \"\"\"\n",
    "    recursive version of built-in max function.\n",
    "    \n",
    "    >>> recursive_max([1,4,2,10,5])\n",
    "    10\n",
    "    >>> recursive_max([5])\n",
    "    5\n",
    "    \"\"\"\n",
    "    if len(lst)==1:\n",
    "        return lst[0]\n",
    "    else:\n",
    "        if lst[0] > lst[1]:\n",
    "            return recursive_max([lst[0]]+lst[2:])\n",
    "        else:\n",
    "            return recursive_max(lst[1:])\n",
    "\n",
    "print(recursive_max([1,2,4,10,5]))"
   ]
  },
  {
   "cell_type": "markdown",
   "id": "f7af6829",
   "metadata": {
    "slideshow": {
     "slide_type": "slide"
    }
   },
   "source": [
    "<center><a href='https://pythontutor.com/render.html#code=def%20recursive_max%28lst%29%3A%0A%0A%20%20%20%20if%20len%28lst%29%3D%3D1%3A%0A%20%20%20%20%20%20%20%20return%20lst%5B0%5D%0A%20%20%20%20else%3A%0A%20%20%20%20%20%20%20%20if%20lst%5B0%5D%20%3E%20lst%5B1%5D%3A%0A%20%20%20%20%20%20%20%20%20%20%20%20return%20recursive_max%28%5Blst%5B0%5D%5D%2Blst%5B2%3A%5D%29%0A%20%20%20%20%20%20%20%20else%3A%0A%20%20%20%20%20%20%20%20%20%20%20%20return%20recursive_max%28lst%5B1%3A%5D%29%0A%0Aprint%28recursive_max%28%5B1,2,4,10,5%5D%29%29&cumulative=false&curInstr=0&heapPrimitives=nevernest&mode=display&origin=opt-frontend.js&py=3&rawInputLstJSON=%5B%5D&textReferences=false'> Python Tutor </a></center>"
   ]
  },
  {
   "cell_type": "code",
   "execution_count": 25,
   "id": "ee9e4158",
   "metadata": {
    "slideshow": {
     "slide_type": "slide"
    }
   },
   "outputs": [
    {
     "name": "stdout",
     "output_type": "stream",
     "text": [
      "10\n"
     ]
    }
   ],
   "source": [
    "def recursive_max(lst):\n",
    "    \"\"\"\n",
    "    recursive version of built-in max function.\n",
    "    \n",
    "    >>> recursive_max([1,4,2,10,5])\n",
    "    10\n",
    "    >>> recursive_max([5])\n",
    "    5\n",
    "    \"\"\"\n",
    "    if len(lst)==1:\n",
    "        return lst[0]\n",
    "    else:\n",
    "        curr_max = recursive_max(lst[1:])\n",
    "        if lst[0] > curr_max:\n",
    "            return lst[0]\n",
    "        else:\n",
    "            return curr_max\n",
    "\n",
    "print(recursive_max([1,2,4,10,5]))"
   ]
  },
  {
   "cell_type": "markdown",
   "id": "57b828fc",
   "metadata": {
    "slideshow": {
     "slide_type": "fragment"
    }
   },
   "source": [
    "<center><a href='https://pythontutor.com/render.html#code=def%20recursive_max%28lst%29%3A%0A%20%20%20%20if%20len%28lst%29%3D%3D1%3A%0A%20%20%20%20%20%20%20%20return%20lst%5B0%5D%0A%20%20%20%20else%3A%0A%20%20%20%20%20%20%20%20curr_max%20%3D%20recursive_max%28lst%5B1%3A%5D%29%0A%20%20%20%20%20%20%20%20if%20lst%5B0%5D%20%3E%20curr_max%3A%0A%20%20%20%20%20%20%20%20%20%20%20%20return%20lst%5B0%5D%0A%20%20%20%20%20%20%20%20else%3A%0A%20%20%20%20%20%20%20%20%20%20%20%20return%20curr_max%0A%0Aprint%28recursive_max%28%5B1,2,4,10,5%5D%29%29&cumulative=false&curInstr=0&heapPrimitives=nevernest&mode=display&origin=opt-frontend.js&py=3&rawInputLstJSON=%5B%5D&textReferences=false'> Python Tutor </a></center>"
   ]
  },
  {
   "cell_type": "code",
   "execution_count": 27,
   "id": "344a5cd4",
   "metadata": {
    "slideshow": {
     "slide_type": "slide"
    }
   },
   "outputs": [
    {
     "name": "stdout",
     "output_type": "stream",
     "text": [
      "3\n",
      "0\n"
     ]
    }
   ],
   "source": [
    "def count_len_lsts(*lists, counter=4):\n",
    "    \"\"\"\n",
    "    Write a function that takes in an unknown number of lists \n",
    "    and returns the sum of the length of the first 'counter' \n",
    "    lists, default value of 4.\n",
    "    \n",
    "    Args:\n",
    "        lists(args): unknown number of lists\n",
    "        counter(int): number of lists length to count\n",
    "    Returns:\n",
    "        sum of the lengths of the first counter lists\n",
    "    \n",
    "    >>> count_len_lsts([],[1],[2],[3],[4])\n",
    "    3\n",
    "    >>> count_len_lsts([],[],[1,2,3],[4,5], counter=2)\n",
    "    0\n",
    "    \"\"\"\n",
    "    return sum([len(x) for x in lists[:counter]])\n",
    "print(count_len_lsts([],[1],[2],[3],[4]))\n",
    "print(count_len_lsts([],[],[1,2,3],[4,5], counter=2))"
   ]
  },
  {
   "cell_type": "markdown",
   "id": "49030538",
   "metadata": {
    "slideshow": {
     "slide_type": "slide"
    }
   },
   "source": [
    "<center> <h1>Thanks for coming!</h1></center>"
   ]
  },
  {
   "cell_type": "code",
   "execution_count": null,
   "id": "aecf0425",
   "metadata": {
    "slideshow": {
     "slide_type": "skip"
    }
   },
   "outputs": [],
   "source": []
  }
 ],
 "metadata": {
  "celltoolbar": "Slideshow",
  "kernelspec": {
   "display_name": "Python 3 (ipykernel)",
   "language": "python",
   "name": "python3"
  },
  "language_info": {
   "codemirror_mode": {
    "name": "ipython",
    "version": 3
   },
   "file_extension": ".py",
   "mimetype": "text/x-python",
   "name": "python",
   "nbconvert_exporter": "python",
   "pygments_lexer": "ipython3",
   "version": "3.10.8"
  },
  "rise": {
   "enable_chalkboard": true
  }
 },
 "nbformat": 4,
 "nbformat_minor": 5
}
