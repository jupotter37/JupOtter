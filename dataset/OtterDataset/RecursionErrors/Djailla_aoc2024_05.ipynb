{
 "cells": [
  {
   "cell_type": "code",
   "execution_count": null,
   "id": "41ff991a-de98-48ca-939f-a807c9756f27",
   "metadata": {},
   "outputs": [],
   "source": [
    "with open(\"input.txt\") as f:\n",
    "    data = f.read().splitlines()"
   ]
  },
  {
   "cell_type": "code",
   "execution_count": null,
   "id": "7d679c1e-13c6-44cb-ad95-35436f6e4bf9",
   "metadata": {},
   "outputs": [],
   "source": [
    "!uv pip install more_itertools\n",
    "\n",
    "import more_itertools as mit\n",
    "\n",
    "pred = lambda x: x == \"\"\n",
    "\n",
    "rules, updates = mit.split_at(data, pred)"
   ]
  },
  {
   "cell_type": "code",
   "execution_count": null,
   "id": "cb2370a5-22b1-48f2-917b-4dd40bec210c",
   "metadata": {},
   "outputs": [],
   "source": [
    "from collections import defaultdict\n",
    "\n",
    "next_page_rules = defaultdict(list)\n",
    "prev_page_rules = defaultdict(list)\n",
    "\n",
    "for l in rules:\n",
    "    a, b = l.split(\"|\")\n",
    "    next_page_rules[a].append(b)\n",
    "    prev_page_rules[b].append(a)"
   ]
  },
  {
   "cell_type": "code",
   "execution_count": null,
   "id": "83a9a36d-c2af-45db-800d-6cd087364b1d",
   "metadata": {},
   "outputs": [],
   "source": [
    "def check_page_order(pages, test_rules):\n",
    "    \n",
    "    # Copy pages list to avoid mutations\n",
    "    test_pages = pages.copy()\n",
    "\n",
    "    # Get beginning page\n",
    "    cur_page = test_pages.pop(0)\n",
    "\n",
    "    # For each other page, check if it is in the right order\n",
    "    while test_pages:\n",
    "        test_page = test_pages.pop(0)\n",
    "        if test_page not in test_rules[cur_page]:\n",
    "            return False\n",
    "\n",
    "    return True\n",
    "\n",
    "def check_page(idx, steps):\n",
    "    steps = list(steps)\n",
    "    next_pages = steps[idx:]\n",
    "    prev_pages = steps[0:idx + 1]\n",
    "    prev_pages.reverse()\n",
    "    return check_page_order(next_pages, next_page_rules) and check_page_order(prev_pages, prev_page_rules)\n",
    "    "
   ]
  },
  {
   "cell_type": "code",
   "execution_count": null,
   "id": "d93f307f-8a25-4ad1-a84c-24a6dc8ef2c9",
   "metadata": {},
   "outputs": [],
   "source": [
    "tot = 0\n",
    "\n",
    "for upd in updates:\n",
    "    steps = upd.split(\",\")\n",
    "    is_valid = all(check_page(x, steps) for x in range(len(steps)))\n",
    "    if is_valid:\n",
    "        tot += int(steps[int(len(steps)/2)])"
   ]
  },
  {
   "cell_type": "code",
   "execution_count": null,
   "id": "fbc6bd9c-645c-4e86-85b0-d2f588121ade",
   "metadata": {},
   "outputs": [],
   "source": [
    "tot"
   ]
  },
  {
   "cell_type": "code",
   "execution_count": null,
   "id": "5e62bc98-c076-48ca-9bd6-6c2a0f2b2e66",
   "metadata": {},
   "outputs": [],
   "source": [
    "misordered = []\n",
    "\n",
    "for upd in updates:\n",
    "    steps = upd.split(\",\")\n",
    "    is_valid = all(check_page(x, steps) for x in range(len(steps)))\n",
    "    if not is_valid:\n",
    "        misordered.append(steps)"
   ]
  },
  {
   "cell_type": "code",
   "execution_count": null,
   "id": "f0606c9b-80b4-42a0-9e8a-5ef71b958694",
   "metadata": {},
   "outputs": [],
   "source": [
    "valid_keys = set(next_page_rules) | set(prev_page_rules)"
   ]
  },
  {
   "cell_type": "code",
   "execution_count": null,
   "id": "03316403-541a-416b-abc0-b9be9863ca85",
   "metadata": {},
   "outputs": [],
   "source": [
    "from itertools import chain, permutations"
   ]
  },
  {
   "cell_type": "code",
   "execution_count": null,
   "id": "270b99b8-5b42-403c-80d2-9fea239816f4",
   "metadata": {},
   "outputs": [],
   "source": [
    "valid_perms = []"
   ]
  },
  {
   "cell_type": "code",
   "execution_count": null,
   "id": "e83243be-caf6-43a5-b1ba-ccca8cec3e5c",
   "metadata": {},
   "outputs": [],
   "source": [
    "#for perm in chain.from_iterable(permutations(valid_keys, n) for n in range(len(valid_keys) + 1)):\n",
    "#    if all(check_page(x, perm) for x in range(len(perm))):\n",
    "#        valid_perms.append(perm)"
   ]
  },
  {
   "cell_type": "code",
   "execution_count": null,
   "id": "0f909e86-b59f-4ba6-9798-debdae810456",
   "metadata": {},
   "outputs": [],
   "source": [
    "#for update in updates:\n",
    "#    test_upd = tuple(x for x in update.split(\",\"))\n",
    "#    print(test_upd)\n",
    "#    print(test_upd in valid_perms)"
   ]
  },
  {
   "cell_type": "code",
   "execution_count": null,
   "id": "79ea5ff1-b468-4d2b-a1b4-bd1be507e71c",
   "metadata": {},
   "outputs": [],
   "source": [
    "tot = 0\n",
    "\n",
    "for misorder in misordered:\n",
    "    for perm in permutations(misorder):\n",
    "        print(perm)\n",
    "        if perm in valid_perms:\n",
    "            print(perm[int(len(perm)/2)])\n",
    "            tot += int(perm[int(len(perm)/2)])\n",
    "            break"
   ]
  },
  {
   "cell_type": "code",
   "execution_count": null,
   "id": "4f301c92-0b83-4454-957a-df1a818d70a1",
   "metadata": {},
   "outputs": [],
   "source": [
    "tot"
   ]
  },
  {
   "cell_type": "code",
   "execution_count": 49,
   "id": "84ac7075-1903-4ba5-8f72-5acf7feaf69f",
   "metadata": {},
   "outputs": [
    {
     "ename": "RecursionError",
     "evalue": "maximum recursion depth exceeded while calling a Python object",
     "output_type": "error",
     "traceback": [
      "\u001b[0;31m---------------------------------------------------------------------------\u001b[0m",
      "\u001b[0;31mRecursionError\u001b[0m                            Traceback (most recent call last)",
      "Cell \u001b[0;32mIn[49], line 14\u001b[0m\n\u001b[1;32m     11\u001b[0m             generate_subsets(route \u001b[38;5;241m+\u001b[39m [elem])\n\u001b[1;32m     13\u001b[0m \u001b[38;5;28;01mfor\u001b[39;00m a \u001b[38;5;129;01min\u001b[39;00m next_page_rules:\n\u001b[0;32m---> 14\u001b[0m     \u001b[43mgenerate_subsets\u001b[49m\u001b[43m(\u001b[49m\u001b[43m[\u001b[49m\u001b[43ma\u001b[49m\u001b[43m]\u001b[49m\u001b[43m)\u001b[49m\n\u001b[1;32m     16\u001b[0m full_routes\n",
      "Cell \u001b[0;32mIn[49], line 11\u001b[0m, in \u001b[0;36mgenerate_subsets\u001b[0;34m(route)\u001b[0m\n\u001b[1;32m      9\u001b[0m \u001b[38;5;28;01melse\u001b[39;00m:\n\u001b[1;32m     10\u001b[0m     \u001b[38;5;28;01mfor\u001b[39;00m elem \u001b[38;5;129;01min\u001b[39;00m next_elems:\n\u001b[0;32m---> 11\u001b[0m         \u001b[43mgenerate_subsets\u001b[49m\u001b[43m(\u001b[49m\u001b[43mroute\u001b[49m\u001b[43m \u001b[49m\u001b[38;5;241;43m+\u001b[39;49m\u001b[43m \u001b[49m\u001b[43m[\u001b[49m\u001b[43melem\u001b[49m\u001b[43m]\u001b[49m\u001b[43m)\u001b[49m\n",
      "Cell \u001b[0;32mIn[49], line 11\u001b[0m, in \u001b[0;36mgenerate_subsets\u001b[0;34m(route)\u001b[0m\n\u001b[1;32m      9\u001b[0m \u001b[38;5;28;01melse\u001b[39;00m:\n\u001b[1;32m     10\u001b[0m     \u001b[38;5;28;01mfor\u001b[39;00m elem \u001b[38;5;129;01min\u001b[39;00m next_elems:\n\u001b[0;32m---> 11\u001b[0m         \u001b[43mgenerate_subsets\u001b[49m\u001b[43m(\u001b[49m\u001b[43mroute\u001b[49m\u001b[43m \u001b[49m\u001b[38;5;241;43m+\u001b[39;49m\u001b[43m \u001b[49m\u001b[43m[\u001b[49m\u001b[43melem\u001b[49m\u001b[43m]\u001b[49m\u001b[43m)\u001b[49m\n",
      "    \u001b[0;31m[... skipping similar frames: generate_subsets at line 11 (2969 times)]\u001b[0m\n",
      "Cell \u001b[0;32mIn[49], line 11\u001b[0m, in \u001b[0;36mgenerate_subsets\u001b[0;34m(route)\u001b[0m\n\u001b[1;32m      9\u001b[0m \u001b[38;5;28;01melse\u001b[39;00m:\n\u001b[1;32m     10\u001b[0m     \u001b[38;5;28;01mfor\u001b[39;00m elem \u001b[38;5;129;01min\u001b[39;00m next_elems:\n\u001b[0;32m---> 11\u001b[0m         \u001b[43mgenerate_subsets\u001b[49m\u001b[43m(\u001b[49m\u001b[43mroute\u001b[49m\u001b[43m \u001b[49m\u001b[38;5;241;43m+\u001b[39;49m\u001b[43m \u001b[49m\u001b[43m[\u001b[49m\u001b[43melem\u001b[49m\u001b[43m]\u001b[49m\u001b[43m)\u001b[49m\n",
      "Cell \u001b[0;32mIn[49], line 5\u001b[0m, in \u001b[0;36mgenerate_subsets\u001b[0;34m(route)\u001b[0m\n\u001b[1;32m      3\u001b[0m \u001b[38;5;28;01mdef\u001b[39;00m \u001b[38;5;21mgenerate_subsets\u001b[39m(route):\n\u001b[1;32m      4\u001b[0m     last_elem \u001b[38;5;241m=\u001b[39m route[\u001b[38;5;241m-\u001b[39m\u001b[38;5;241m1\u001b[39m]\n\u001b[0;32m----> 5\u001b[0m     next_elems \u001b[38;5;241m=\u001b[39m \u001b[43mnext_page_rules\u001b[49m\u001b[38;5;241;43m.\u001b[39;49m\u001b[43mget\u001b[49m\u001b[43m(\u001b[49m\u001b[43mlast_elem\u001b[49m\u001b[43m)\u001b[49m\n\u001b[1;32m      7\u001b[0m     \u001b[38;5;28;01mif\u001b[39;00m \u001b[38;5;129;01mnot\u001b[39;00m next_elems:\n\u001b[1;32m      8\u001b[0m         full_routes\u001b[38;5;241m.\u001b[39mappend(route)\n",
      "\u001b[0;31mRecursionError\u001b[0m: maximum recursion depth exceeded while calling a Python object"
     ]
    }
   ],
   "source": [
    "full_routes = []\n",
    "\n",
    "def generate_subsets(route):\n",
    "    last_elem = route[-1]\n",
    "    next_elems = next_page_rules.get(last_elem)\n",
    "\n",
    "    if not next_elems:\n",
    "        full_routes.append(route)\n",
    "    else:\n",
    "        for elem in next_elems:\n",
    "            generate_subsets(route + [elem])\n",
    "\n",
    "for a in next_page_rules:\n",
    "    generate_subsets([a])\n",
    "\n",
    "full_routes"
   ]
  },
  {
   "cell_type": "code",
   "execution_count": null,
   "id": "04312ef9-f3b8-4146-92a4-f55f24d402ee",
   "metadata": {},
   "outputs": [],
   "source": []
  }
 ],
 "metadata": {
  "kernelspec": {
   "display_name": "Python 3 (ipykernel)",
   "language": "python",
   "name": "python3"
  },
  "language_info": {
   "codemirror_mode": {
    "name": "ipython",
    "version": 3
   },
   "file_extension": ".py",
   "mimetype": "text/x-python",
   "name": "python",
   "nbconvert_exporter": "python",
   "pygments_lexer": "ipython3",
   "version": "3.11.10"
  }
 },
 "nbformat": 4,
 "nbformat_minor": 5
}
