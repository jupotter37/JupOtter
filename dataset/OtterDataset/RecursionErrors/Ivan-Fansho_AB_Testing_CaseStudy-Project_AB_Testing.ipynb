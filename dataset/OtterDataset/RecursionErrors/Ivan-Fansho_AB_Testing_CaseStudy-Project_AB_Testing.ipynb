{
 "cells": [
  {
   "cell_type": "code",
   "execution_count": 1,
   "id": "ebc530381b106e0f",
   "metadata": {
    "ExecuteTime": {
     "end_time": "2024-10-02T09:19:57.121498Z",
     "start_time": "2024-10-02T09:19:54.668777Z"
    }
   },
   "outputs": [
    {
     "ename": "RecursionError",
     "evalue": "maximum recursion depth exceeded",
     "output_type": "error",
     "traceback": [
      "\u001b[0;31m---------------------------------------------------------------------------\u001b[0m",
      "\u001b[0;31mRecursionError\u001b[0m                            Traceback (most recent call last)",
      "Cell \u001b[0;32mIn[1], line 3\u001b[0m\n\u001b[1;32m      1\u001b[0m \u001b[38;5;28;01mimport\u001b[39;00m \u001b[38;5;21;01mnumpy\u001b[39;00m \u001b[38;5;28;01mas\u001b[39;00m \u001b[38;5;21;01mnp\u001b[39;00m\n\u001b[1;32m      2\u001b[0m \u001b[38;5;28;01mimport\u001b[39;00m \u001b[38;5;21;01mpandas\u001b[39;00m \u001b[38;5;28;01mas\u001b[39;00m \u001b[38;5;21;01mpd\u001b[39;00m\n\u001b[0;32m----> 3\u001b[0m \u001b[38;5;28;01mfrom\u001b[39;00m \u001b[38;5;21;01mscipy\u001b[39;00m\u001b[38;5;21;01m.\u001b[39;00m\u001b[38;5;21;01mstats\u001b[39;00m \u001b[38;5;28;01mimport\u001b[39;00m norm\n\u001b[1;32m      4\u001b[0m \u001b[38;5;28;01mimport\u001b[39;00m \u001b[38;5;21;01mseaborn\u001b[39;00m \u001b[38;5;28;01mas\u001b[39;00m \u001b[38;5;21;01msns\u001b[39;00m\n\u001b[1;32m      5\u001b[0m \u001b[38;5;28;01mimport\u001b[39;00m \u001b[38;5;21;01mmatplotlib\u001b[39;00m\u001b[38;5;21;01m.\u001b[39;00m\u001b[38;5;21;01mpyplot\u001b[39;00m \u001b[38;5;28;01mas\u001b[39;00m \u001b[38;5;21;01mplt\u001b[39;00m\n",
      "File \u001b[0;32m~/anaconda3/envs/data_env311/lib/python3.11/site-packages/scipy/stats/__init__.py:610\u001b[0m\n\u001b[1;32m      1\u001b[0m \u001b[38;5;124;03m\"\"\"\u001b[39;00m\n\u001b[1;32m      2\u001b[0m \u001b[38;5;124;03m.. _statsrefmanual:\u001b[39;00m\n\u001b[1;32m      3\u001b[0m \n\u001b[0;32m   (...)\u001b[0m\n\u001b[1;32m    605\u001b[0m \n\u001b[1;32m    606\u001b[0m \u001b[38;5;124;03m\"\"\"\u001b[39;00m  \u001b[38;5;66;03m# noqa: E501\u001b[39;00m\n\u001b[1;32m    608\u001b[0m \u001b[38;5;28;01mfrom\u001b[39;00m \u001b[38;5;21;01m.\u001b[39;00m\u001b[38;5;21;01m_warnings_errors\u001b[39;00m \u001b[38;5;28;01mimport\u001b[39;00m (ConstantInputWarning, NearConstantInputWarning,\n\u001b[1;32m    609\u001b[0m                                DegenerateDataWarning, FitError)\n\u001b[0;32m--> 610\u001b[0m \u001b[38;5;28;01mfrom\u001b[39;00m \u001b[38;5;21;01m.\u001b[39;00m\u001b[38;5;21;01m_stats_py\u001b[39;00m \u001b[38;5;28;01mimport\u001b[39;00m \u001b[38;5;241m*\u001b[39m\n\u001b[1;32m    611\u001b[0m \u001b[38;5;28;01mfrom\u001b[39;00m \u001b[38;5;21;01m.\u001b[39;00m\u001b[38;5;21;01m_variation\u001b[39;00m \u001b[38;5;28;01mimport\u001b[39;00m variation\n\u001b[1;32m    612\u001b[0m \u001b[38;5;28;01mfrom\u001b[39;00m \u001b[38;5;21;01m.\u001b[39;00m\u001b[38;5;21;01mdistributions\u001b[39;00m \u001b[38;5;28;01mimport\u001b[39;00m \u001b[38;5;241m*\u001b[39m\n",
      "File \u001b[0;32m~/anaconda3/envs/data_env311/lib/python3.11/site-packages/scipy/stats/_stats_py.py:49\u001b[0m\n\u001b[1;32m     46\u001b[0m \u001b[38;5;66;03m# Import unused here but needs to stay until end of deprecation periode\u001b[39;00m\n\u001b[1;32m     47\u001b[0m \u001b[38;5;66;03m# See https://github.com/scipy/scipy/issues/15765#issuecomment-1875564522\u001b[39;00m\n\u001b[1;32m     48\u001b[0m \u001b[38;5;28;01mfrom\u001b[39;00m \u001b[38;5;21;01mscipy\u001b[39;00m \u001b[38;5;28;01mimport\u001b[39;00m linalg  \u001b[38;5;66;03m# noqa: F401\u001b[39;00m\n\u001b[0;32m---> 49\u001b[0m \u001b[38;5;28;01mfrom\u001b[39;00m \u001b[38;5;21;01m.\u001b[39;00m \u001b[38;5;28;01mimport\u001b[39;00m distributions\n\u001b[1;32m     50\u001b[0m \u001b[38;5;28;01mfrom\u001b[39;00m \u001b[38;5;21;01m.\u001b[39;00m \u001b[38;5;28;01mimport\u001b[39;00m _mstats_basic \u001b[38;5;28;01mas\u001b[39;00m mstats_basic\n\u001b[1;32m     52\u001b[0m \u001b[38;5;28;01mfrom\u001b[39;00m \u001b[38;5;21;01m.\u001b[39;00m\u001b[38;5;21;01m_stats_mstats_common\u001b[39;00m \u001b[38;5;28;01mimport\u001b[39;00m _find_repeats, theilslopes, siegelslopes\n",
      "File \u001b[0;32m~/anaconda3/envs/data_env311/lib/python3.11/site-packages/scipy/stats/distributions.py:10\u001b[0m\n\u001b[1;32m      1\u001b[0m \u001b[38;5;66;03m#\u001b[39;00m\n\u001b[1;32m      2\u001b[0m \u001b[38;5;66;03m# Author:  Travis Oliphant  2002-2011 with contributions from\u001b[39;00m\n\u001b[1;32m      3\u001b[0m \u001b[38;5;66;03m#          SciPy Developers 2004-2011\u001b[39;00m\n\u001b[0;32m   (...)\u001b[0m\n\u001b[1;32m      6\u001b[0m \u001b[38;5;66;03m#       instead of `git blame -Lxxx,+x`.\u001b[39;00m\n\u001b[1;32m      7\u001b[0m \u001b[38;5;66;03m#\u001b[39;00m\n\u001b[1;32m      8\u001b[0m \u001b[38;5;28;01mfrom\u001b[39;00m \u001b[38;5;21;01m.\u001b[39;00m\u001b[38;5;21;01m_distn_infrastructure\u001b[39;00m \u001b[38;5;28;01mimport\u001b[39;00m (rv_discrete, rv_continuous, rv_frozen)  \u001b[38;5;66;03m# noqa: F401\u001b[39;00m\n\u001b[0;32m---> 10\u001b[0m \u001b[38;5;28;01mfrom\u001b[39;00m \u001b[38;5;21;01m.\u001b[39;00m \u001b[38;5;28;01mimport\u001b[39;00m _continuous_distns\n\u001b[1;32m     11\u001b[0m \u001b[38;5;28;01mfrom\u001b[39;00m \u001b[38;5;21;01m.\u001b[39;00m \u001b[38;5;28;01mimport\u001b[39;00m _discrete_distns\n\u001b[1;32m     13\u001b[0m \u001b[38;5;28;01mfrom\u001b[39;00m \u001b[38;5;21;01m.\u001b[39;00m\u001b[38;5;21;01m_continuous_distns\u001b[39;00m \u001b[38;5;28;01mimport\u001b[39;00m \u001b[38;5;241m*\u001b[39m  \u001b[38;5;66;03m# noqa: F403\u001b[39;00m\n",
      "File \u001b[0;32m~/anaconda3/envs/data_env311/lib/python3.11/site-packages/scipy/stats/_continuous_distns.py:12\u001b[0m\n\u001b[1;32m     10\u001b[0m \u001b[38;5;28;01mimport\u001b[39;00m \u001b[38;5;21;01mnumpy\u001b[39;00m \u001b[38;5;28;01mas\u001b[39;00m \u001b[38;5;21;01mnp\u001b[39;00m\n\u001b[1;32m     11\u001b[0m \u001b[38;5;28;01mfrom\u001b[39;00m \u001b[38;5;21;01mnumpy\u001b[39;00m\u001b[38;5;21;01m.\u001b[39;00m\u001b[38;5;21;01mpolynomial\u001b[39;00m \u001b[38;5;28;01mimport\u001b[39;00m Polynomial\n\u001b[0;32m---> 12\u001b[0m \u001b[38;5;28;01mfrom\u001b[39;00m \u001b[38;5;21;01mscipy\u001b[39;00m\u001b[38;5;21;01m.\u001b[39;00m\u001b[38;5;21;01minterpolate\u001b[39;00m \u001b[38;5;28;01mimport\u001b[39;00m BSpline\n\u001b[1;32m     13\u001b[0m \u001b[38;5;28;01mfrom\u001b[39;00m \u001b[38;5;21;01mscipy\u001b[39;00m\u001b[38;5;21;01m.\u001b[39;00m\u001b[38;5;21;01m_lib\u001b[39;00m\u001b[38;5;21;01m.\u001b[39;00m\u001b[38;5;21;01mdoccer\u001b[39;00m \u001b[38;5;28;01mimport\u001b[39;00m (extend_notes_in_docstring,\n\u001b[1;32m     14\u001b[0m                                replace_notes_in_docstring,\n\u001b[1;32m     15\u001b[0m                                inherit_docstring_from)\n\u001b[1;32m     16\u001b[0m \u001b[38;5;28;01mfrom\u001b[39;00m \u001b[38;5;21;01mscipy\u001b[39;00m\u001b[38;5;21;01m.\u001b[39;00m\u001b[38;5;21;01m_lib\u001b[39;00m\u001b[38;5;21;01m.\u001b[39;00m\u001b[38;5;21;01m_ccallback\u001b[39;00m \u001b[38;5;28;01mimport\u001b[39;00m LowLevelCallable\n",
      "File \u001b[0;32m~/anaconda3/envs/data_env311/lib/python3.11/site-packages/scipy/interpolate/__init__.py:167\u001b[0m\n\u001b[1;32m      1\u001b[0m \u001b[38;5;124;03m\"\"\"\u001b[39;00m\n\u001b[1;32m      2\u001b[0m \u001b[38;5;124;03m========================================\u001b[39;00m\n\u001b[1;32m      3\u001b[0m \u001b[38;5;124;03mInterpolation (:mod:`scipy.interpolate`)\u001b[39;00m\n\u001b[0;32m   (...)\u001b[0m\n\u001b[1;32m    165\u001b[0m \u001b[38;5;124;03m(should not be used in new code).\u001b[39;00m\n\u001b[1;32m    166\u001b[0m \u001b[38;5;124;03m\"\"\"\u001b[39;00m\n\u001b[0;32m--> 167\u001b[0m \u001b[38;5;28;01mfrom\u001b[39;00m \u001b[38;5;21;01m.\u001b[39;00m\u001b[38;5;21;01m_interpolate\u001b[39;00m \u001b[38;5;28;01mimport\u001b[39;00m \u001b[38;5;241m*\u001b[39m\n\u001b[1;32m    168\u001b[0m \u001b[38;5;28;01mfrom\u001b[39;00m \u001b[38;5;21;01m.\u001b[39;00m\u001b[38;5;21;01m_fitpack_py\u001b[39;00m \u001b[38;5;28;01mimport\u001b[39;00m \u001b[38;5;241m*\u001b[39m\n\u001b[1;32m    170\u001b[0m \u001b[38;5;66;03m# New interface to fitpack library:\u001b[39;00m\n",
      "File \u001b[0;32m~/anaconda3/envs/data_env311/lib/python3.11/site-packages/scipy/interpolate/_interpolate.py:12\u001b[0m\n\u001b[1;32m      9\u001b[0m \u001b[38;5;28;01mfrom\u001b[39;00m \u001b[38;5;21;01mscipy\u001b[39;00m\u001b[38;5;21;01m.\u001b[39;00m\u001b[38;5;21;01m_lib\u001b[39;00m\u001b[38;5;21;01m.\u001b[39;00m\u001b[38;5;21;01m_util\u001b[39;00m \u001b[38;5;28;01mimport\u001b[39;00m copy_if_needed\n\u001b[1;32m     10\u001b[0m \u001b[38;5;28;01mfrom\u001b[39;00m \u001b[38;5;21;01mscipy\u001b[39;00m\u001b[38;5;21;01m.\u001b[39;00m\u001b[38;5;21;01mspecial\u001b[39;00m \u001b[38;5;28;01mimport\u001b[39;00m comb\n\u001b[0;32m---> 12\u001b[0m \u001b[38;5;28;01mfrom\u001b[39;00m \u001b[38;5;21;01m.\u001b[39;00m \u001b[38;5;28;01mimport\u001b[39;00m _fitpack_py\n\u001b[1;32m     13\u001b[0m \u001b[38;5;28;01mfrom\u001b[39;00m \u001b[38;5;21;01m.\u001b[39;00m\u001b[38;5;21;01m_polyint\u001b[39;00m \u001b[38;5;28;01mimport\u001b[39;00m _Interpolator1D\n\u001b[1;32m     14\u001b[0m \u001b[38;5;28;01mfrom\u001b[39;00m \u001b[38;5;21;01m.\u001b[39;00m \u001b[38;5;28;01mimport\u001b[39;00m _ppoly\n",
      "File \u001b[0;32m~/anaconda3/envs/data_env311/lib/python3.11/site-packages/scipy/interpolate/_fitpack_py.py:8\u001b[0m\n\u001b[1;32m      5\u001b[0m \u001b[38;5;28;01mimport\u001b[39;00m \u001b[38;5;21;01mnumpy\u001b[39;00m \u001b[38;5;28;01mas\u001b[39;00m \u001b[38;5;21;01mnp\u001b[39;00m\n\u001b[1;32m      7\u001b[0m \u001b[38;5;66;03m# These are in the API for fitpack even if not used in fitpack.py itself.\u001b[39;00m\n\u001b[0;32m----> 8\u001b[0m \u001b[38;5;28;01mfrom\u001b[39;00m \u001b[38;5;21;01m.\u001b[39;00m\u001b[38;5;21;01m_fitpack_impl\u001b[39;00m \u001b[38;5;28;01mimport\u001b[39;00m bisplrep, bisplev, dblint  \u001b[38;5;66;03m# noqa: F401\u001b[39;00m\n\u001b[1;32m      9\u001b[0m \u001b[38;5;28;01mfrom\u001b[39;00m \u001b[38;5;21;01m.\u001b[39;00m \u001b[38;5;28;01mimport\u001b[39;00m _fitpack_impl \u001b[38;5;28;01mas\u001b[39;00m _impl\n\u001b[1;32m     10\u001b[0m \u001b[38;5;28;01mfrom\u001b[39;00m \u001b[38;5;21;01m.\u001b[39;00m\u001b[38;5;21;01m_bsplines\u001b[39;00m \u001b[38;5;28;01mimport\u001b[39;00m BSpline\n",
      "File \u001b[0;32m~/anaconda3/envs/data_env311/lib/python3.11/site-packages/scipy/interpolate/_fitpack_impl.py:103\u001b[0m\n\u001b[1;32m     52\u001b[0m _iermess \u001b[38;5;241m=\u001b[39m {\n\u001b[1;32m     53\u001b[0m     \u001b[38;5;241m0\u001b[39m: [\u001b[38;5;124m\"\u001b[39m\u001b[38;5;124mThe spline has a residual sum of squares fp such that \u001b[39m\u001b[38;5;124m\"\u001b[39m\n\u001b[1;32m     54\u001b[0m         \u001b[38;5;124m\"\u001b[39m\u001b[38;5;124mabs(fp-s)/s<=0.001\u001b[39m\u001b[38;5;124m\"\u001b[39m, \u001b[38;5;28;01mNone\u001b[39;00m],\n\u001b[0;32m   (...)\u001b[0m\n\u001b[1;32m     68\u001b[0m     \u001b[38;5;124m'\u001b[39m\u001b[38;5;124munknown\u001b[39m\u001b[38;5;124m'\u001b[39m: [\u001b[38;5;124m\"\u001b[39m\u001b[38;5;124mAn error occurred\u001b[39m\u001b[38;5;124m\"\u001b[39m, \u001b[38;5;167;01mTypeError\u001b[39;00m]\n\u001b[1;32m     69\u001b[0m }\n\u001b[1;32m     71\u001b[0m _iermess2 \u001b[38;5;241m=\u001b[39m {\n\u001b[1;32m     72\u001b[0m     \u001b[38;5;241m0\u001b[39m: [\u001b[38;5;124m\"\u001b[39m\u001b[38;5;124mThe spline has a residual sum of squares fp such that \u001b[39m\u001b[38;5;124m\"\u001b[39m\n\u001b[1;32m     73\u001b[0m         \u001b[38;5;124m\"\u001b[39m\u001b[38;5;124mabs(fp-s)/s<=0.001\u001b[39m\u001b[38;5;124m\"\u001b[39m, \u001b[38;5;28;01mNone\u001b[39;00m],\n\u001b[0;32m   (...)\u001b[0m\n\u001b[1;32m     99\u001b[0m     \u001b[38;5;124m'\u001b[39m\u001b[38;5;124munknown\u001b[39m\u001b[38;5;124m'\u001b[39m: [\u001b[38;5;124m\"\u001b[39m\u001b[38;5;124mAn error occurred\u001b[39m\u001b[38;5;124m\"\u001b[39m, \u001b[38;5;167;01mTypeError\u001b[39;00m]\n\u001b[1;32m    100\u001b[0m }\n\u001b[1;32m    102\u001b[0m _parcur_cache \u001b[38;5;241m=\u001b[39m {\u001b[38;5;124m'\u001b[39m\u001b[38;5;124mt\u001b[39m\u001b[38;5;124m'\u001b[39m: array([], \u001b[38;5;28mfloat\u001b[39m), \u001b[38;5;124m'\u001b[39m\u001b[38;5;124mwrk\u001b[39m\u001b[38;5;124m'\u001b[39m: array([], \u001b[38;5;28mfloat\u001b[39m),\n\u001b[0;32m--> 103\u001b[0m                  \u001b[38;5;124m'\u001b[39m\u001b[38;5;124miwrk\u001b[39m\u001b[38;5;124m'\u001b[39m: array([], dfitpack_int), \u001b[38;5;124m'\u001b[39m\u001b[38;5;124mu\u001b[39m\u001b[38;5;124m'\u001b[39m: array([], \u001b[38;5;28mfloat\u001b[39m),\n\u001b[1;32m    104\u001b[0m                  \u001b[38;5;124m'\u001b[39m\u001b[38;5;124mub\u001b[39m\u001b[38;5;124m'\u001b[39m: \u001b[38;5;241m0\u001b[39m, \u001b[38;5;124m'\u001b[39m\u001b[38;5;124mue\u001b[39m\u001b[38;5;124m'\u001b[39m: \u001b[38;5;241m1\u001b[39m}\n\u001b[1;32m    107\u001b[0m \u001b[38;5;28;01mdef\u001b[39;00m \u001b[38;5;21msplprep\u001b[39m(x, w\u001b[38;5;241m=\u001b[39m\u001b[38;5;28;01mNone\u001b[39;00m, u\u001b[38;5;241m=\u001b[39m\u001b[38;5;28;01mNone\u001b[39;00m, ub\u001b[38;5;241m=\u001b[39m\u001b[38;5;28;01mNone\u001b[39;00m, ue\u001b[38;5;241m=\u001b[39m\u001b[38;5;28;01mNone\u001b[39;00m, k\u001b[38;5;241m=\u001b[39m\u001b[38;5;241m3\u001b[39m, task\u001b[38;5;241m=\u001b[39m\u001b[38;5;241m0\u001b[39m, s\u001b[38;5;241m=\u001b[39m\u001b[38;5;28;01mNone\u001b[39;00m, t\u001b[38;5;241m=\u001b[39m\u001b[38;5;28;01mNone\u001b[39;00m,\n\u001b[1;32m    108\u001b[0m             full_output\u001b[38;5;241m=\u001b[39m\u001b[38;5;241m0\u001b[39m, nest\u001b[38;5;241m=\u001b[39m\u001b[38;5;28;01mNone\u001b[39;00m, per\u001b[38;5;241m=\u001b[39m\u001b[38;5;241m0\u001b[39m, quiet\u001b[38;5;241m=\u001b[39m\u001b[38;5;241m1\u001b[39m):\n\u001b[1;32m    109\u001b[0m     \u001b[38;5;66;03m# see the docstring of `_fitpack_py/splprep`\u001b[39;00m\n\u001b[1;32m    110\u001b[0m     \u001b[38;5;28;01mif\u001b[39;00m task \u001b[38;5;241m<\u001b[39m\u001b[38;5;241m=\u001b[39m \u001b[38;5;241m0\u001b[39m:\n",
      "File \u001b[0;32m~/anaconda3/envs/data_env311/lib/python3.11/site-packages/numpy/core/_dtype.py:46\u001b[0m, in \u001b[0;36m__repr__\u001b[0;34m(dtype)\u001b[0m\n\u001b[1;32m     45\u001b[0m \u001b[38;5;28;01mdef\u001b[39;00m \u001b[38;5;21m__repr__\u001b[39m(dtype):\n\u001b[0;32m---> 46\u001b[0m     arg_str \u001b[38;5;241m=\u001b[39m _construction_repr(dtype, include_align\u001b[38;5;241m=\u001b[39m\u001b[38;5;28;01mFalse\u001b[39;00m)\n\u001b[1;32m     47\u001b[0m     \u001b[38;5;28;01mif\u001b[39;00m dtype\u001b[38;5;241m.\u001b[39misalignedstruct:\n\u001b[1;32m     48\u001b[0m         arg_str \u001b[38;5;241m=\u001b[39m arg_str \u001b[38;5;241m+\u001b[39m \u001b[38;5;124m\"\u001b[39m\u001b[38;5;124m, align=True\u001b[39m\u001b[38;5;124m\"\u001b[39m\n",
      "File \u001b[0;32m~/anaconda3/envs/data_env311/lib/python3.11/site-packages/numpy/core/_dtype.py:100\u001b[0m, in \u001b[0;36m_construction_repr\u001b[0;34m(dtype, include_align, short)\u001b[0m\n\u001b[1;32m     98\u001b[0m     \u001b[38;5;28;01mreturn\u001b[39;00m _subarray_str(dtype)\n\u001b[1;32m     99\u001b[0m \u001b[38;5;28;01melse\u001b[39;00m:\n\u001b[0;32m--> 100\u001b[0m     \u001b[38;5;28;01mreturn\u001b[39;00m _scalar_str(dtype, short\u001b[38;5;241m=\u001b[39mshort)\n",
      "File \u001b[0;32m~/anaconda3/envs/data_env311/lib/python3.11/site-packages/numpy/core/_dtype.py:143\u001b[0m, in \u001b[0;36m_scalar_str\u001b[0;34m(dtype, short)\u001b[0m\n\u001b[1;32m    140\u001b[0m \u001b[38;5;28;01melif\u001b[39;00m dtype\u001b[38;5;241m.\u001b[39mtype \u001b[38;5;241m==\u001b[39m np\u001b[38;5;241m.\u001b[39mtimedelta64:\n\u001b[1;32m    141\u001b[0m     \u001b[38;5;28;01mreturn\u001b[39;00m \u001b[38;5;124m\"\u001b[39m\u001b[38;5;124m'\u001b[39m\u001b[38;5;132;01m%s\u001b[39;00m\u001b[38;5;124mm8\u001b[39m\u001b[38;5;132;01m%s\u001b[39;00m\u001b[38;5;124m'\u001b[39m\u001b[38;5;124m\"\u001b[39m \u001b[38;5;241m%\u001b[39m (byteorder, _datetime_metadata_str(dtype))\n\u001b[0;32m--> 143\u001b[0m \u001b[38;5;28;01melif\u001b[39;00m np\u001b[38;5;241m.\u001b[39missubdtype(dtype, np\u001b[38;5;241m.\u001b[39mnumber):\n\u001b[1;32m    144\u001b[0m     \u001b[38;5;66;03m# Short repr with endianness, like '<f8'\u001b[39;00m\n\u001b[1;32m    145\u001b[0m     \u001b[38;5;28;01mif\u001b[39;00m short \u001b[38;5;129;01mor\u001b[39;00m dtype\u001b[38;5;241m.\u001b[39mbyteorder \u001b[38;5;129;01mnot\u001b[39;00m \u001b[38;5;129;01min\u001b[39;00m (\u001b[38;5;124m'\u001b[39m\u001b[38;5;124m=\u001b[39m\u001b[38;5;124m'\u001b[39m, \u001b[38;5;124m'\u001b[39m\u001b[38;5;124m|\u001b[39m\u001b[38;5;124m'\u001b[39m):\n\u001b[1;32m    146\u001b[0m         \u001b[38;5;28;01mreturn\u001b[39;00m \u001b[38;5;124m\"\u001b[39m\u001b[38;5;124m'\u001b[39m\u001b[38;5;132;01m%s\u001b[39;00m\u001b[38;5;132;01m%c\u001b[39;00m\u001b[38;5;132;01m%d\u001b[39;00m\u001b[38;5;124m'\u001b[39m\u001b[38;5;124m\"\u001b[39m \u001b[38;5;241m%\u001b[39m (byteorder, dtype\u001b[38;5;241m.\u001b[39mkind, dtype\u001b[38;5;241m.\u001b[39mitemsize)\n",
      "File \u001b[0;32m~/anaconda3/envs/data_env311/lib/python3.11/site-packages/numpy/core/numerictypes.py:417\u001b[0m, in \u001b[0;36missubdtype\u001b[0;34m(arg1, arg2)\u001b[0m\n\u001b[1;32m    359\u001b[0m \u001b[38;5;250m\u001b[39m\u001b[38;5;124mr\u001b[39m\u001b[38;5;124;03m\"\"\"\u001b[39;00m\n\u001b[1;32m    360\u001b[0m \u001b[38;5;124;03mReturns True if first argument is a typecode lower/equal in type hierarchy.\u001b[39;00m\n\u001b[1;32m    361\u001b[0m \n\u001b[0;32m   (...)\u001b[0m\n\u001b[1;32m    414\u001b[0m \n\u001b[1;32m    415\u001b[0m \u001b[38;5;124;03m\"\"\"\u001b[39;00m\n\u001b[1;32m    416\u001b[0m \u001b[38;5;28;01mif\u001b[39;00m \u001b[38;5;129;01mnot\u001b[39;00m issubclass_(arg1, generic):\n\u001b[0;32m--> 417\u001b[0m     arg1 \u001b[38;5;241m=\u001b[39m dtype(arg1)\u001b[38;5;241m.\u001b[39mtype\n\u001b[1;32m    418\u001b[0m \u001b[38;5;28;01mif\u001b[39;00m \u001b[38;5;129;01mnot\u001b[39;00m issubclass_(arg2, generic):\n\u001b[1;32m    419\u001b[0m     arg2 \u001b[38;5;241m=\u001b[39m dtype(arg2)\u001b[38;5;241m.\u001b[39mtype\n",
      "File \u001b[0;32m~/anaconda3/envs/data_env311/lib/python3.11/site-packages/numpy/core/_dtype.py:46\u001b[0m, in \u001b[0;36m__repr__\u001b[0;34m(dtype)\u001b[0m\n\u001b[1;32m     45\u001b[0m \u001b[38;5;28;01mdef\u001b[39;00m \u001b[38;5;21m__repr__\u001b[39m(dtype):\n\u001b[0;32m---> 46\u001b[0m     arg_str \u001b[38;5;241m=\u001b[39m _construction_repr(dtype, include_align\u001b[38;5;241m=\u001b[39m\u001b[38;5;28;01mFalse\u001b[39;00m)\n\u001b[1;32m     47\u001b[0m     \u001b[38;5;28;01mif\u001b[39;00m dtype\u001b[38;5;241m.\u001b[39misalignedstruct:\n\u001b[1;32m     48\u001b[0m         arg_str \u001b[38;5;241m=\u001b[39m arg_str \u001b[38;5;241m+\u001b[39m \u001b[38;5;124m\"\u001b[39m\u001b[38;5;124m, align=True\u001b[39m\u001b[38;5;124m\"\u001b[39m\n",
      "File \u001b[0;32m~/anaconda3/envs/data_env311/lib/python3.11/site-packages/numpy/core/_dtype.py:100\u001b[0m, in \u001b[0;36m_construction_repr\u001b[0;34m(dtype, include_align, short)\u001b[0m\n\u001b[1;32m     98\u001b[0m     \u001b[38;5;28;01mreturn\u001b[39;00m _subarray_str(dtype)\n\u001b[1;32m     99\u001b[0m \u001b[38;5;28;01melse\u001b[39;00m:\n\u001b[0;32m--> 100\u001b[0m     \u001b[38;5;28;01mreturn\u001b[39;00m _scalar_str(dtype, short\u001b[38;5;241m=\u001b[39mshort)\n",
      "File \u001b[0;32m~/anaconda3/envs/data_env311/lib/python3.11/site-packages/numpy/core/_dtype.py:143\u001b[0m, in \u001b[0;36m_scalar_str\u001b[0;34m(dtype, short)\u001b[0m\n\u001b[1;32m    140\u001b[0m \u001b[38;5;28;01melif\u001b[39;00m dtype\u001b[38;5;241m.\u001b[39mtype \u001b[38;5;241m==\u001b[39m np\u001b[38;5;241m.\u001b[39mtimedelta64:\n\u001b[1;32m    141\u001b[0m     \u001b[38;5;28;01mreturn\u001b[39;00m \u001b[38;5;124m\"\u001b[39m\u001b[38;5;124m'\u001b[39m\u001b[38;5;132;01m%s\u001b[39;00m\u001b[38;5;124mm8\u001b[39m\u001b[38;5;132;01m%s\u001b[39;00m\u001b[38;5;124m'\u001b[39m\u001b[38;5;124m\"\u001b[39m \u001b[38;5;241m%\u001b[39m (byteorder, _datetime_metadata_str(dtype))\n\u001b[0;32m--> 143\u001b[0m \u001b[38;5;28;01melif\u001b[39;00m np\u001b[38;5;241m.\u001b[39missubdtype(dtype, np\u001b[38;5;241m.\u001b[39mnumber):\n\u001b[1;32m    144\u001b[0m     \u001b[38;5;66;03m# Short repr with endianness, like '<f8'\u001b[39;00m\n\u001b[1;32m    145\u001b[0m     \u001b[38;5;28;01mif\u001b[39;00m short \u001b[38;5;129;01mor\u001b[39;00m dtype\u001b[38;5;241m.\u001b[39mbyteorder \u001b[38;5;129;01mnot\u001b[39;00m \u001b[38;5;129;01min\u001b[39;00m (\u001b[38;5;124m'\u001b[39m\u001b[38;5;124m=\u001b[39m\u001b[38;5;124m'\u001b[39m, \u001b[38;5;124m'\u001b[39m\u001b[38;5;124m|\u001b[39m\u001b[38;5;124m'\u001b[39m):\n\u001b[1;32m    146\u001b[0m         \u001b[38;5;28;01mreturn\u001b[39;00m \u001b[38;5;124m\"\u001b[39m\u001b[38;5;124m'\u001b[39m\u001b[38;5;132;01m%s\u001b[39;00m\u001b[38;5;132;01m%c\u001b[39;00m\u001b[38;5;132;01m%d\u001b[39;00m\u001b[38;5;124m'\u001b[39m\u001b[38;5;124m\"\u001b[39m \u001b[38;5;241m%\u001b[39m (byteorder, dtype\u001b[38;5;241m.\u001b[39mkind, dtype\u001b[38;5;241m.\u001b[39mitemsize)\n",
      "File \u001b[0;32m~/anaconda3/envs/data_env311/lib/python3.11/site-packages/numpy/core/numerictypes.py:417\u001b[0m, in \u001b[0;36missubdtype\u001b[0;34m(arg1, arg2)\u001b[0m\n\u001b[1;32m    359\u001b[0m \u001b[38;5;250m\u001b[39m\u001b[38;5;124mr\u001b[39m\u001b[38;5;124;03m\"\"\"\u001b[39;00m\n\u001b[1;32m    360\u001b[0m \u001b[38;5;124;03mReturns True if first argument is a typecode lower/equal in type hierarchy.\u001b[39;00m\n\u001b[1;32m    361\u001b[0m \n\u001b[0;32m   (...)\u001b[0m\n\u001b[1;32m    414\u001b[0m \n\u001b[1;32m    415\u001b[0m \u001b[38;5;124;03m\"\"\"\u001b[39;00m\n\u001b[1;32m    416\u001b[0m \u001b[38;5;28;01mif\u001b[39;00m \u001b[38;5;129;01mnot\u001b[39;00m issubclass_(arg1, generic):\n\u001b[0;32m--> 417\u001b[0m     arg1 \u001b[38;5;241m=\u001b[39m dtype(arg1)\u001b[38;5;241m.\u001b[39mtype\n\u001b[1;32m    418\u001b[0m \u001b[38;5;28;01mif\u001b[39;00m \u001b[38;5;129;01mnot\u001b[39;00m issubclass_(arg2, generic):\n\u001b[1;32m    419\u001b[0m     arg2 \u001b[38;5;241m=\u001b[39m dtype(arg2)\u001b[38;5;241m.\u001b[39mtype\n",
      "    \u001b[0;31m[... skipping similar frames: __repr__ at line 46 (482 times), _construction_repr at line 100 (482 times), _scalar_str at line 143 (481 times), issubdtype at line 417 (481 times)]\u001b[0m\n",
      "File \u001b[0;32m~/anaconda3/envs/data_env311/lib/python3.11/site-packages/numpy/core/_dtype.py:143\u001b[0m, in \u001b[0;36m_scalar_str\u001b[0;34m(dtype, short)\u001b[0m\n\u001b[1;32m    140\u001b[0m \u001b[38;5;28;01melif\u001b[39;00m dtype\u001b[38;5;241m.\u001b[39mtype \u001b[38;5;241m==\u001b[39m np\u001b[38;5;241m.\u001b[39mtimedelta64:\n\u001b[1;32m    141\u001b[0m     \u001b[38;5;28;01mreturn\u001b[39;00m \u001b[38;5;124m\"\u001b[39m\u001b[38;5;124m'\u001b[39m\u001b[38;5;132;01m%s\u001b[39;00m\u001b[38;5;124mm8\u001b[39m\u001b[38;5;132;01m%s\u001b[39;00m\u001b[38;5;124m'\u001b[39m\u001b[38;5;124m\"\u001b[39m \u001b[38;5;241m%\u001b[39m (byteorder, _datetime_metadata_str(dtype))\n\u001b[0;32m--> 143\u001b[0m \u001b[38;5;28;01melif\u001b[39;00m np\u001b[38;5;241m.\u001b[39missubdtype(dtype, np\u001b[38;5;241m.\u001b[39mnumber):\n\u001b[1;32m    144\u001b[0m     \u001b[38;5;66;03m# Short repr with endianness, like '<f8'\u001b[39;00m\n\u001b[1;32m    145\u001b[0m     \u001b[38;5;28;01mif\u001b[39;00m short \u001b[38;5;129;01mor\u001b[39;00m dtype\u001b[38;5;241m.\u001b[39mbyteorder \u001b[38;5;129;01mnot\u001b[39;00m \u001b[38;5;129;01min\u001b[39;00m (\u001b[38;5;124m'\u001b[39m\u001b[38;5;124m=\u001b[39m\u001b[38;5;124m'\u001b[39m, \u001b[38;5;124m'\u001b[39m\u001b[38;5;124m|\u001b[39m\u001b[38;5;124m'\u001b[39m):\n\u001b[1;32m    146\u001b[0m         \u001b[38;5;28;01mreturn\u001b[39;00m \u001b[38;5;124m\"\u001b[39m\u001b[38;5;124m'\u001b[39m\u001b[38;5;132;01m%s\u001b[39;00m\u001b[38;5;132;01m%c\u001b[39;00m\u001b[38;5;132;01m%d\u001b[39;00m\u001b[38;5;124m'\u001b[39m\u001b[38;5;124m\"\u001b[39m \u001b[38;5;241m%\u001b[39m (byteorder, dtype\u001b[38;5;241m.\u001b[39mkind, dtype\u001b[38;5;241m.\u001b[39mitemsize)\n",
      "File \u001b[0;32m~/anaconda3/envs/data_env311/lib/python3.11/site-packages/numpy/core/numerictypes.py:417\u001b[0m, in \u001b[0;36missubdtype\u001b[0;34m(arg1, arg2)\u001b[0m\n\u001b[1;32m    359\u001b[0m \u001b[38;5;250m\u001b[39m\u001b[38;5;124mr\u001b[39m\u001b[38;5;124;03m\"\"\"\u001b[39;00m\n\u001b[1;32m    360\u001b[0m \u001b[38;5;124;03mReturns True if first argument is a typecode lower/equal in type hierarchy.\u001b[39;00m\n\u001b[1;32m    361\u001b[0m \n\u001b[0;32m   (...)\u001b[0m\n\u001b[1;32m    414\u001b[0m \n\u001b[1;32m    415\u001b[0m \u001b[38;5;124;03m\"\"\"\u001b[39;00m\n\u001b[1;32m    416\u001b[0m \u001b[38;5;28;01mif\u001b[39;00m \u001b[38;5;129;01mnot\u001b[39;00m issubclass_(arg1, generic):\n\u001b[0;32m--> 417\u001b[0m     arg1 \u001b[38;5;241m=\u001b[39m dtype(arg1)\u001b[38;5;241m.\u001b[39mtype\n\u001b[1;32m    418\u001b[0m \u001b[38;5;28;01mif\u001b[39;00m \u001b[38;5;129;01mnot\u001b[39;00m issubclass_(arg2, generic):\n\u001b[1;32m    419\u001b[0m     arg2 \u001b[38;5;241m=\u001b[39m dtype(arg2)\u001b[38;5;241m.\u001b[39mtype\n",
      "File \u001b[0;32m~/anaconda3/envs/data_env311/lib/python3.11/site-packages/numpy/core/_dtype.py:46\u001b[0m, in \u001b[0;36m__repr__\u001b[0;34m(dtype)\u001b[0m\n\u001b[1;32m     45\u001b[0m \u001b[38;5;28;01mdef\u001b[39;00m \u001b[38;5;21m__repr__\u001b[39m(dtype):\n\u001b[0;32m---> 46\u001b[0m     arg_str \u001b[38;5;241m=\u001b[39m _construction_repr(dtype, include_align\u001b[38;5;241m=\u001b[39m\u001b[38;5;28;01mFalse\u001b[39;00m)\n\u001b[1;32m     47\u001b[0m     \u001b[38;5;28;01mif\u001b[39;00m dtype\u001b[38;5;241m.\u001b[39misalignedstruct:\n\u001b[1;32m     48\u001b[0m         arg_str \u001b[38;5;241m=\u001b[39m arg_str \u001b[38;5;241m+\u001b[39m \u001b[38;5;124m\"\u001b[39m\u001b[38;5;124m, align=True\u001b[39m\u001b[38;5;124m\"\u001b[39m\n",
      "File \u001b[0;32m~/anaconda3/envs/data_env311/lib/python3.11/site-packages/numpy/core/_dtype.py:100\u001b[0m, in \u001b[0;36m_construction_repr\u001b[0;34m(dtype, include_align, short)\u001b[0m\n\u001b[1;32m     98\u001b[0m     \u001b[38;5;28;01mreturn\u001b[39;00m _subarray_str(dtype)\n\u001b[1;32m     99\u001b[0m \u001b[38;5;28;01melse\u001b[39;00m:\n\u001b[0;32m--> 100\u001b[0m     \u001b[38;5;28;01mreturn\u001b[39;00m _scalar_str(dtype, short\u001b[38;5;241m=\u001b[39mshort)\n",
      "\u001b[0;31mRecursionError\u001b[0m: maximum recursion depth exceeded"
     ]
    }
   ],
   "source": [
    "import numpy as np\n",
    "import pandas as pd\n",
    "from scipy.stats import norm\n",
    "import seaborn as sns\n",
    "import matplotlib.pyplot as plt"
   ]
  },
  {
   "cell_type": "markdown",
   "id": "682f86e0644a5298",
   "metadata": {},
   "source": [
    "Loading our CTR Data for AB Test"
   ]
  },
  {
   "cell_type": "code",
   "execution_count": null,
   "id": "4cd96d77899b2d73",
   "metadata": {},
   "outputs": [],
   "source": [
    "# Load the data from the CSV file\n",
    "df_ab_test = pd.read_csv(\"ab_test_data.csv\")\n",
    "\n",
    "# Display the first few rows of the DataFrame to confirm it's loaded correctly\n",
    "print(df_ab_test.head())\n",
    "print(df_ab_test.describe())\n",
    "print(df_ab_test.groupby(\"group\").sum(\"click\"))"
   ]
  },
  {
   "cell_type": "markdown",
   "id": "a79801fce782e9c8",
   "metadata": {},
   "source": [
    "## A simple bar chart showing the total clicks versus no-clicks in each group can provide a clear visual comparison of user engagement."
   ]
  },
  {
   "cell_type": "code",
   "execution_count": null,
   "id": "2a654f3109a340be",
   "metadata": {},
   "outputs": [],
   "source": [
    "# Custom palette for yellow and black\n",
    "palette = {0: 'yellow', 1: 'black'}  # Assuming 0 is for no-click, 1 for click\n",
    "\n",
    "# Plotting the click distribution for each group with the custom colors\n",
    "plt.figure(figsize=(10, 6))\n",
    "ax = sns.countplot(x='group', hue='click', data=df_ab_test, palette=palette)\n",
    "plt.title('Click Distribution in Experimental and Control Groups')\n",
    "plt.xlabel('Group')\n",
    "plt.ylabel('Count')\n",
    "plt.legend(title='Click', labels=['No', 'Yes'])\n",
    "\n",
    "# Calculate the percentages and annotate the bars\n",
    "group_counts = df_ab_test.groupby(['group']).size()\n",
    "print(group_counts)\n",
    "group_click_counts = df_ab_test.groupby(['group', 'click']).size().reset_index(name='count')\n",
    "\n",
    "for p in ax.patches:\n",
    "    height = p.get_height()\n",
    "    # Find the group and click type for the current bar\n",
    "    group = 'exp' if p.get_x() < 0.5 else 'con'\n",
    "    click = 1 if p.get_x() % 1 > 0.5 else 0\n",
    "    total = group_counts.loc[group]\n",
    "    percentage = 100 * height / total\n",
    "    ax.text(p.get_x() + p.get_width() / 2., height + 5, f'{percentage:.1f}%', ha=\"center\", color='black', fontsize=10)\n",
    "\n",
    "plt.tight_layout()\n",
    "plt.show()"
   ]
  },
  {
   "cell_type": "markdown",
   "id": "17439f64f4b4f742",
   "metadata": {},
   "source": [
    "## Parameters of the Model from Power Analysis"
   ]
  },
  {
   "cell_type": "code",
   "execution_count": null,
   "id": "bb54b2d45e9642d1",
   "metadata": {},
   "outputs": [],
   "source": [
    "alpha = 0.05 # 5%\n",
    "print(\"Alpha: significance level is:\", alpha )\n",
    "\n",
    "delta = 0.1 # 10%\n",
    "print(\"Delta: minimum detectable effect is:\", delta )"
   ]
  },
  {
   "cell_type": "markdown",
   "id": "8b5ec49e0bd875da",
   "metadata": {},
   "source": [
    "## Calculating total number of clicks per group by summing clicks"
   ]
  },
  {
   "cell_type": "code",
   "execution_count": null,
   "id": "1b41e2841ef03341",
   "metadata": {},
   "outputs": [],
   "source": [
    "N_con = df_ab_test[df_ab_test[\"group\"] == \"con\"].count()[0]\n",
    "N_exp = df_ab_test[df_ab_test[\"group\"] == \"exp\"].count()[0]\n",
    "\n",
    "# calculating the total number of clicks per group by summing 1's\n",
    "X_con = df_ab_test.groupby(\"group\")[\"click\"].sum().loc[\"con\"]\n",
    "X_exp = df_ab_test.groupby(\"group\")[\"click\"].sum().loc[\"exp\"]\n",
    "\n",
    "# printing this for visibility\n",
    "print(df_ab_test.groupby(\"group\")[\"click\"].sum())\n",
    "print(\"Number of user in Control: \", N_con)\n",
    "print(\"Number of users in Experimental: \", N_exp)\n",
    "print(\"Number of CLicks in Control: \", X_con)\n",
    "print(\"Number of CLicks in Experimental: \", X_exp)"
   ]
  },
  {
   "cell_type": "markdown",
   "id": "8a680c16bef38481",
   "metadata": {},
   "source": [
    "## Calculating Pooled Estimates for Clicks per Group"
   ]
  },
  {
   "cell_type": "code",
   "execution_count": null,
   "id": "4f6934ea4858ca32",
   "metadata": {},
   "outputs": [],
   "source": [
    "# computing the estimate of click probability per group\n",
    "p_con_hat = X_con/N_con\n",
    "p_exp_hat = X_exp/N_exp\n",
    "print(\"Click Probability in Control Group:\", p_con_hat)\n",
    "print(\"Click Probability in Experimental Group:\", p_exp_hat)\n",
    "\n",
    "# computing the estimate of pooled clicked probability\n",
    "p_pooled_hat = (X_con+X_exp)/(N_con + N_exp)\n",
    "print(\"Pooled Click Probability:\", p_pooled_hat)"
   ]
  },
  {
   "cell_type": "markdown",
   "id": "3e256704e53e68c1",
   "metadata": {},
   "source": [
    "## Calculating Pooled Variance"
   ]
  },
  {
   "cell_type": "code",
   "execution_count": null,
   "id": "ada296c474d5d661",
   "metadata": {},
   "outputs": [],
   "source": [
    "# computing the estimate of pooled variance\n",
    "pooled_variance = p_pooled_hat * (1-p_pooled_hat) * (1/N_con + 1/N_exp)\n",
    "print(\"p^_pooled is: \", p_pooled_hat)\n",
    "print(\"pooled_variance is: \", pooled_variance)"
   ]
  },
  {
   "cell_type": "markdown",
   "id": "90c22e19952e1f22",
   "metadata": {},
   "source": [
    "## Calculating Standard Error and Test Statistics"
   ]
  },
  {
   "cell_type": "code",
   "execution_count": null,
   "id": "6fdd67b9a65bd09d",
   "metadata": {},
   "outputs": [],
   "source": [
    "# computing the standard error of the test\n",
    "SE = np.sqrt(pooled_variance)\n",
    "print(\"Standard Error is: \", SE)\n",
    "\n",
    "# computing the test statistics of Z-test\n",
    "Test_stat = (p_con_hat - p_exp_hat)/SE\n",
    "print(\"Test Statistics for 2-sample Z-test is:\", Test_stat)\n",
    "\n",
    "# critical value of the Z-test\n",
    "Z_crit = norm.ppf(1-alpha/2)\n",
    "print(\"Z-critical value from Standard Normal distribution: \", Z_crit)"
   ]
  },
  {
   "cell_type": "markdown",
   "id": "996b220d230c339f",
   "metadata": {},
   "source": [
    "## Calculating p_values of the Z-test"
   ]
  },
  {
   "cell_type": "code",
   "execution_count": null,
   "id": "c49eea03f008b5ab",
   "metadata": {},
   "outputs": [],
   "source": [
    "#calculating p value\n",
    "p_value = 2 * norm.sf(abs(Test_stat))\n",
    "\n",
    "# function checking the statistical significance\n",
    "def is_statistical_significance(p_value, alpha):\n",
    "    \"\"\"\n",
    "    We assess whether there is statistical significance based on the p-value and alpha.\n",
    "\n",
    "    Arguments:\n",
    "    - p_value (float): The p-value resulting from a statistical test.\n",
    "    - alpha (float, optional): The significance level threshold used to determine statistical significance. Defaults to 0.05.\n",
    "\n",
    "    Returns:\n",
    "    - Prints the assessment of statistical significance.\n",
    "    \"\"\"\n",
    "\n",
    "    # Print the rounded p-value to 3 decimal places\n",
    "    print(f\"P-value of the 2-sample Z-test: {(p_value)}\")\n",
    "\n",
    "    # Determine statistical significance\n",
    "    if p_value <= alpha:\n",
    "        print(\"There is statistical significance, indicating that the observed differences between the groups are unlikely to have occurred by chance alone. This suggests that the changes in the experimental group have a real effect compared to the control group.\")\n",
    "    else:\n",
    "        print(\"There is no statistical significance, suggesting that the observed differences between the groups could have occurred by chance. This implies that the changes in the experimental group do not have a substantial effect compared to the control group.\")\n",
    "\n",
    "\n",
    "\n",
    "is_statistical_significance(p_value, alpha)"
   ]
  },
  {
   "cell_type": "code",
   "execution_count": null,
   "id": "3549f83112b2c5d1",
   "metadata": {},
   "outputs": [],
   "source": [
    "# Parameters for the standard normal distribution\n",
    "mu = 0  # Mean\n",
    "sigma = 1  # Standard deviation\n",
    "x = np.linspace(mu - 3*sigma, mu + 3*sigma, 100)\n",
    "y = norm.pdf(x, mu, sigma)\n",
    "\n",
    "\n",
    "# Plotting the standard normal distribution\n",
    "plt.plot(x, y, label='Standard Normal Distribution')\n",
    "# Shade the rejection region for a two-tailed test\n",
    "plt.fill_between(x, y, where=(x > Z_crit) | (x < -Z_crit), color='red', alpha=0.5, label='Rejection Region')\n",
    "# Adding Test Statistic\n",
    "plt.axvline(Test_stat, color='green', linestyle='dashed', linewidth=2, label=f'Test Statistic = {Test_stat:.2f}')\n",
    "# Adding Z-critical values\n",
    "plt.axvline(Z_crit, color='blue', linestyle='dashed', linewidth=1, label=f'Z-critical = {Z_crit:.2f}')\n",
    "plt.axvline(-Z_crit, color='blue', linestyle='dashed', linewidth=1)\n",
    "\n",
    "# Adding labels and title\n",
    "plt.xlabel('Z-value')\n",
    "plt.ylabel('Probability Density')\n",
    "plt.title('Gaussian Distribution with Rejection Region \\n (A/B Testing for LunarTech CTA button)')\n",
    "plt.legend()\n",
    "# Show plot\n",
    "plt.show()"
   ]
  },
  {
   "cell_type": "markdown",
   "id": "b05480dedbbf4de3",
   "metadata": {},
   "source": [
    "## Calculating Confidence Interval of the test"
   ]
  },
  {
   "cell_type": "code",
   "execution_count": null,
   "id": "9c2d654b8bb728ff",
   "metadata": {},
   "outputs": [],
   "source": [
    "# Calculate the Confidence Interval (CI) for a 2-sample Z-test\n",
    "## Calculate the lower and upper bounds of the confidence interval\n",
    "CI = [\n",
    "    round((p_exp_hat - p_con_hat) - SE*Z_crit, 3),  # Lower bound of the CI, rounded to 3 decimal places\n",
    "    round((p_exp_hat - p_con_hat) + SE*Z_crit, 3)   # Upper bound of the CI, rounded to 3 decimal places\n",
    "]\n",
    "\n",
    "# Print the calculated confidence interval\n",
    "print(\"Confidence Interval of the 2 sample Z-test is: \", CI)\n",
    "\n",
    "# Here, the confidence interval provides a range of values within which the true difference between the experimental and control group proportions is likely to lie with a certain level of confidence (e.g., 95%).\n"
   ]
  },
  {
   "cell_type": "markdown",
   "id": "5b49fd1cabf389f6",
   "metadata": {},
   "source": [
    "## Testing for Practical Significance in A/B Testing"
   ]
  },
  {
   "cell_type": "code",
   "execution_count": null,
   "id": "333aa4359453c019",
   "metadata": {},
   "outputs": [],
   "source": [
    "def is_Practically_significant(delta, CI_95):\n",
    "    \"\"\"\n",
    "    We assess here if the difference between Control and Experimental group is practically significant using the Minimum Detectable Effect (MDE) parameter from the Power Analysis.\n",
    "\n",
    "    Arguments:\n",
    "    - delta (float): The Minimum Detectable Effect (MDE) considered for practical significance.\n",
    "    - CI_95 (tuple): A tuple representing the lower and upper bounds of the 95% Confidence Interval.\n",
    "\n",
    "    Returns:\n",
    "    - Prints whether the experiment has practical significance based on the MDE and CI.\n",
    "    \"\"\"\n",
    "\n",
    "    # Extract lower bound of 95% Confidence Interval\n",
    "    lower_bound_CI = CI_95[0]\n",
    "\n",
    "    # Check if the lower bound of the CI is greater than or equal to delta\n",
    "    if delta >= lower_bound_CI:\n",
    "        print(f\"We have practical significance! \\nWith MDE of {delta}, The difference between Control and Experimental group is practically significant.\")\n",
    "        return True\n",
    "    else:\n",
    "        print(\"We don't have practical significance! \\nThe difference between Control and Experimental group is not practically significant.\")\n",
    "        return False\n",
    "\n",
    "\n",
    "\n",
    "# Call the function\n",
    "significance = is_Practically_significant(delta, CI)\n",
    "print(\"Lower bound of 95% confidence interval is: \", CI[0])"
   ]
  }
 ],
 "metadata": {
  "kernelspec": {
   "display_name": "Python 3 (ipykernel)",
   "language": "python",
   "name": "python3"
  },
  "language_info": {
   "codemirror_mode": {
    "name": "ipython",
    "version": 3
   },
   "file_extension": ".py",
   "mimetype": "text/x-python",
   "name": "python",
   "nbconvert_exporter": "python",
   "pygments_lexer": "ipython3",
   "version": "3.11.9"
  }
 },
 "nbformat": 4,
 "nbformat_minor": 5
}
