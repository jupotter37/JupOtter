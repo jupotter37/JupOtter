{
 "cells": [
  {
   "cell_type": "code",
   "execution_count": 25,
   "id": "initial_id",
   "metadata": {
    "collapsed": true,
    "ExecuteTime": {
     "end_time": "2024-03-27T13:52:56.038060Z",
     "start_time": "2024-03-27T13:52:56.034489Z"
    }
   },
   "outputs": [],
   "source": [
    "import numbers\n",
    "from html import escape\n",
    "from decimal import Decimal"
   ]
  },
  {
   "cell_type": "code",
   "outputs": [],
   "source": [
    "def html_escape(arg):\n",
    "    return escape(str(arg))\n",
    "\n",
    "def html_int(a):\n",
    "    return f'{a}(<i>{str(hex(a))}</i>)'\n",
    "\n",
    "def html_real(a):\n",
    "    return f'{round(a, 2):.2f}'\n",
    "\n",
    "def html_str(s):\n",
    "    return html_escape(s).replace('\\n', '<br/>\\n')\n",
    "\n",
    "def html_list(l):\n",
    "    items = (f'<li>{htmlize(item)}</li>' for item in l)\n",
    "    return '<ul>\\n' + '\\n'.join(items) + '\\n</ul>'\n",
    "\n",
    "def html_dict(d):\n",
    "    items = (f'<li>{k}={v}</li>' for k, v in d.items())\n",
    "    return '<ul>\\n' + '\\n'.join(items) + '\\n</ul>'"
   ],
   "metadata": {
    "collapsed": false,
    "ExecuteTime": {
     "end_time": "2024-03-27T13:52:59.297715Z",
     "start_time": "2024-03-27T13:52:59.290589Z"
    }
   },
   "id": "6a42619bd4cb45ef",
   "execution_count": 26
  },
  {
   "cell_type": "code",
   "outputs": [],
   "source": [
    "def htmlize(arg):\n",
    "    if isinstance(arg, int):\n",
    "        return html_int(arg)\n",
    "    elif isinstance(arg, float) or isinstance(arg, Decimal):\n",
    "        return html_real(arg)\n",
    "    elif isinstance(arg, list) or isinstance(arg, tuple):\n",
    "        return html_list(arg)\n",
    "    elif isinstance(arg, dict):\n",
    "        return html_dict(arg)\n",
    "    elif isinstance(arg, str):\n",
    "        return html_str(arg)\n",
    "    else:\n",
    "        return html_escape(arg)"
   ],
   "metadata": {
    "collapsed": false,
    "ExecuteTime": {
     "end_time": "2024-03-27T13:53:00.044335Z",
     "start_time": "2024-03-27T13:53:00.039403Z"
    }
   },
   "id": "b8ed8501569f7da6",
   "execution_count": 27
  },
  {
   "cell_type": "code",
   "outputs": [
    {
     "name": "stdout",
     "output_type": "stream",
     "text": [
      "<ul>\n",
      "<li>Py<br/>\n",
      "Tho<br/>\n",
      "Pet is &lt; 100</li>\n",
      "<li><ul>\n",
      "<li>1(<i>0x1</i>)</li>\n",
      "<li>2(<i>0x2</i>)</li>\n",
      "<li>3(<i>0x3</i>)</li>\n",
      "</ul></li>\n",
      "<li>100(<i>0x64</i>)</li>\n",
      "</ul>\n"
     ]
    }
   ],
   "source": [],
   "metadata": {
    "collapsed": false,
    "ExecuteTime": {
     "end_time": "2024-03-27T13:53:00.477463Z",
     "start_time": "2024-03-27T13:53:00.473442Z"
    }
   },
   "id": "3f302fdf6dc58b15",
   "execution_count": 28
  },
  {
   "cell_type": "code",
   "outputs": [],
   "source": [
    "del htmlize"
   ],
   "metadata": {
    "collapsed": false,
    "ExecuteTime": {
     "end_time": "2024-03-27T14:02:39.697506Z",
     "start_time": "2024-03-27T14:02:39.693815Z"
    }
   },
   "id": "f47b504d05cc564c",
   "execution_count": 31
  },
  {
   "cell_type": "code",
   "outputs": [],
   "source": [
    "def htmlize(arg):\n",
    "    register = {\n",
    "        object: html_escape,\n",
    "        int: html_int,\n",
    "        float: html_real,\n",
    "        Decimal: html_real,\n",
    "        list: html_list,\n",
    "        tuple: html_list,\n",
    "        set: html_list,\n",
    "        dict: html_dict,\n",
    "        str: html_str\n",
    "    }\n",
    "    return register.get(type(arg), html_escape)(arg)"
   ],
   "metadata": {
    "collapsed": false,
    "ExecuteTime": {
     "end_time": "2024-03-27T14:11:08.551615Z",
     "start_time": "2024-03-27T14:11:08.546552Z"
    }
   },
   "id": "81055389fc42cd0d",
   "execution_count": 40
  },
  {
   "cell_type": "code",
   "outputs": [
    {
     "name": "stdout",
     "output_type": "stream",
     "text": [
      "(10+10j)\n"
     ]
    }
   ],
   "source": [
    "print(htmlize(10+10j))"
   ],
   "metadata": {
    "collapsed": false,
    "ExecuteTime": {
     "end_time": "2024-03-27T14:05:50.288369Z",
     "start_time": "2024-03-27T14:05:50.283452Z"
    }
   },
   "id": "d69f5cbeebb26f99",
   "execution_count": 39
  },
  {
   "cell_type": "code",
   "outputs": [],
   "source": [
    "def singledispatch(fn):\n",
    "    registry = {}\n",
    "    registry[object] = fn\n",
    "    def inner(arg):\n",
    "        return registry[object](arg)\n",
    "    return inner"
   ],
   "metadata": {
    "collapsed": false,
    "ExecuteTime": {
     "end_time": "2024-03-27T14:39:22.670436Z",
     "start_time": "2024-03-27T14:39:22.666354Z"
    }
   },
   "id": "139a899c6c20150c",
   "execution_count": 41
  },
  {
   "cell_type": "code",
   "outputs": [],
   "source": [
    "@singledispatch\n",
    "def htmlize(a):\n",
    "    return escape(str(a))"
   ],
   "metadata": {
    "collapsed": false,
    "ExecuteTime": {
     "end_time": "2024-03-27T14:39:51.383387Z",
     "start_time": "2024-03-27T14:39:51.378586Z"
    }
   },
   "id": "3274b4f8d3fee94c",
   "execution_count": 42
  },
  {
   "cell_type": "code",
   "outputs": [
    {
     "data": {
      "text/plain": "'1 &lt; 10'"
     },
     "execution_count": 44,
     "metadata": {},
     "output_type": "execute_result"
    }
   ],
   "source": [
    "htmlize('1 < 10')"
   ],
   "metadata": {
    "collapsed": false,
    "ExecuteTime": {
     "end_time": "2024-03-27T14:40:04.748562Z",
     "start_time": "2024-03-27T14:40:04.743258Z"
    }
   },
   "id": "5be3cd1f37444f07",
   "execution_count": 44
  },
  {
   "cell_type": "code",
   "outputs": [],
   "source": [
    "def singledispatch(fn):\n",
    "    registry = {}\n",
    "    registry[object] = fn\n",
    "    \n",
    "    def decorated(arg):\n",
    "        return registry.get(type(arg), registry[object])(arg)\n",
    "    \n",
    "    def register(type_):\n",
    "        def inner(fn):\n",
    "            registry[type_] = fn\n",
    "            return fn\n",
    "        return inner\n",
    "    \n",
    "    def dispatch(type_):\n",
    "        return registry.get(type_, registry[object])\n",
    "    \n",
    "    # decorated.registry = registry\n",
    "    decorated.register = register\n",
    "    decorated.dispatch = dispatch\n",
    "    \n",
    "    return decorated"
   ],
   "metadata": {
    "collapsed": false,
    "ExecuteTime": {
     "end_time": "2024-03-27T15:23:50.794807Z",
     "start_time": "2024-03-27T15:23:50.786994Z"
    }
   },
   "id": "5081a4990167dbcd",
   "execution_count": 65
  },
  {
   "cell_type": "code",
   "outputs": [],
   "source": [
    "@singledispatch\n",
    "def htmlize(arg):\n",
    "    return escape(str(arg))"
   ],
   "metadata": {
    "collapsed": false,
    "ExecuteTime": {
     "end_time": "2024-03-27T15:23:50.960105Z",
     "start_time": "2024-03-27T15:23:50.956461Z"
    }
   },
   "id": "9a59b62b96a36648",
   "execution_count": 66
  },
  {
   "cell_type": "code",
   "outputs": [],
   "source": [
    "@htmlize.register(int)\n",
    "def html_int(arg):\n",
    "    return f'{arg}(<i>{str(hex(arg))}</i>)'"
   ],
   "metadata": {
    "collapsed": false,
    "ExecuteTime": {
     "end_time": "2024-03-27T15:23:51.124506Z",
     "start_time": "2024-03-27T15:23:51.120226Z"
    }
   },
   "id": "459a434ef492e67c",
   "execution_count": 67
  },
  {
   "cell_type": "code",
   "outputs": [
    {
     "data": {
      "text/plain": "'123(<i>0x7b</i>)'"
     },
     "execution_count": 68,
     "metadata": {},
     "output_type": "execute_result"
    }
   ],
   "source": [
    "htmlize(123)"
   ],
   "metadata": {
    "collapsed": false,
    "ExecuteTime": {
     "end_time": "2024-03-27T15:23:51.270375Z",
     "start_time": "2024-03-27T15:23:51.264445Z"
    }
   },
   "id": "746d6a6c74861f0f",
   "execution_count": 68
  },
  {
   "cell_type": "code",
   "outputs": [
    {
     "data": {
      "text/plain": "<function __main__.html_int(a)>"
     },
     "execution_count": 69,
     "metadata": {},
     "output_type": "execute_result"
    }
   ],
   "source": [
    "htmlize.dispatch(int)"
   ],
   "metadata": {
    "collapsed": false,
    "ExecuteTime": {
     "end_time": "2024-03-27T15:23:51.397820Z",
     "start_time": "2024-03-27T15:23:51.392859Z"
    }
   },
   "id": "cc9e57fa74e3f5c5",
   "execution_count": 69
  },
  {
   "cell_type": "code",
   "outputs": [
    {
     "data": {
      "text/plain": "<function __main__.htmlize(arg)>"
     },
     "execution_count": 70,
     "metadata": {},
     "output_type": "execute_result"
    }
   ],
   "source": [
    "htmlize.dispatch(str)"
   ],
   "metadata": {
    "collapsed": false,
    "ExecuteTime": {
     "end_time": "2024-03-27T15:23:51.577179Z",
     "start_time": "2024-03-27T15:23:51.571049Z"
    }
   },
   "id": "56828e95c9c076e2",
   "execution_count": 70
  },
  {
   "cell_type": "code",
   "outputs": [],
   "source": [
    "from numbers import Integral"
   ],
   "metadata": {
    "collapsed": false,
    "ExecuteTime": {
     "end_time": "2024-03-27T15:39:13.195055Z",
     "start_time": "2024-03-27T15:39:13.191498Z"
    }
   },
   "id": "590a812da4a98f42",
   "execution_count": 71
  },
  {
   "cell_type": "code",
   "outputs": [],
   "source": [
    "class Person:\n",
    "    pass"
   ],
   "metadata": {
    "collapsed": false,
    "ExecuteTime": {
     "end_time": "2024-03-27T15:39:22.370688Z",
     "start_time": "2024-03-27T15:39:22.366176Z"
    }
   },
   "id": "4a66befa43aa9e3c",
   "execution_count": 72
  },
  {
   "cell_type": "code",
   "outputs": [],
   "source": [
    "class Student(Person):\n",
    "    pass"
   ],
   "metadata": {
    "collapsed": false,
    "ExecuteTime": {
     "end_time": "2024-03-27T15:43:39.970049Z",
     "start_time": "2024-03-27T15:43:39.966727Z"
    }
   },
   "id": "9f097c9a0dfc0563",
   "execution_count": 86
  },
  {
   "cell_type": "code",
   "outputs": [],
   "source": [
    "student1 = Student()"
   ],
   "metadata": {
    "collapsed": false,
    "ExecuteTime": {
     "end_time": "2024-03-27T15:43:40.127652Z",
     "start_time": "2024-03-27T15:43:40.124433Z"
    }
   },
   "id": "8a4c70b9f4971a08",
   "execution_count": 87
  },
  {
   "cell_type": "code",
   "outputs": [
    {
     "data": {
      "text/plain": "True"
     },
     "execution_count": 88,
     "metadata": {},
     "output_type": "execute_result"
    }
   ],
   "source": [
    "isinstance(False, int)"
   ],
   "metadata": {
    "collapsed": false,
    "ExecuteTime": {
     "end_time": "2024-03-27T15:43:40.472619Z",
     "start_time": "2024-03-27T15:43:40.467203Z"
    }
   },
   "id": "c1ddbf7a2da97139",
   "execution_count": 88
  },
  {
   "cell_type": "code",
   "outputs": [
    {
     "data": {
      "text/plain": "__main__.Person"
     },
     "execution_count": 93,
     "metadata": {},
     "output_type": "execute_result"
    }
   ],
   "source": [
    "Student.__mro__[-2]"
   ],
   "metadata": {
    "collapsed": false,
    "ExecuteTime": {
     "end_time": "2024-03-27T15:48:26.985932Z",
     "start_time": "2024-03-27T15:48:26.980976Z"
    }
   },
   "id": "1cea294c966a82e1",
   "execution_count": 93
  },
  {
   "cell_type": "code",
   "outputs": [],
   "source": [
    "from functools import singledispatch"
   ],
   "metadata": {
    "collapsed": false,
    "ExecuteTime": {
     "end_time": "2024-03-27T16:33:45.838898Z",
     "start_time": "2024-03-27T16:33:45.835807Z"
    }
   },
   "id": "9c05547cf78fa9bf",
   "execution_count": 94
  },
  {
   "cell_type": "code",
   "outputs": [],
   "source": [
    "from numbers import Integral\n",
    "from collections.abc import Sequence\n",
    "from html import escape"
   ],
   "metadata": {
    "collapsed": false,
    "ExecuteTime": {
     "end_time": "2024-03-27T16:35:07.473572Z",
     "start_time": "2024-03-27T16:35:07.469728Z"
    }
   },
   "id": "f81ac1fa8c602d07",
   "execution_count": 97
  },
  {
   "cell_type": "code",
   "outputs": [],
   "source": [
    "@singledispatch\n",
    "def htmlize(arg):\n",
    "    return escape(str(arg))"
   ],
   "metadata": {
    "collapsed": false,
    "ExecuteTime": {
     "end_time": "2024-03-27T16:48:49.110972Z",
     "start_time": "2024-03-27T16:48:49.107348Z"
    }
   },
   "id": "464f2fb47e413b22",
   "execution_count": 120
  },
  {
   "cell_type": "code",
   "outputs": [
    {
     "data": {
      "text/plain": "{'register': <function functools.singledispatch.<locals>.register(cls, func=None)>,\n 'dispatch': <function functools.singledispatch.<locals>.dispatch(cls)>,\n 'registry': mappingproxy({object: <function __main__.htmlize(arg)>}),\n '_clear_cache': <bound method MutableMapping.clear of <WeakKeyDictionary at 0x7fb6e75a86e0>>,\n '__wrapped__': <function __main__.htmlize(arg)>}"
     },
     "execution_count": 121,
     "metadata": {},
     "output_type": "execute_result"
    }
   ],
   "source": [
    "htmlize.__dict__"
   ],
   "metadata": {
    "collapsed": false,
    "ExecuteTime": {
     "end_time": "2024-03-27T16:48:49.576111Z",
     "start_time": "2024-03-27T16:48:49.572532Z"
    }
   },
   "id": "d6473768ef73e9d0",
   "execution_count": 121
  },
  {
   "cell_type": "code",
   "outputs": [
    {
     "data": {
      "text/plain": "<function __main__.htmlize(arg)>"
     },
     "execution_count": 122,
     "metadata": {},
     "output_type": "execute_result"
    }
   ],
   "source": [
    "htmlize.dispatch(str)"
   ],
   "metadata": {
    "collapsed": false,
    "ExecuteTime": {
     "end_time": "2024-03-27T16:48:50.565599Z",
     "start_time": "2024-03-27T16:48:50.560590Z"
    }
   },
   "id": "6b2d7d6f1bdf67b4",
   "execution_count": 122
  },
  {
   "cell_type": "code",
   "outputs": [],
   "source": [
    "@htmlize.register(Integral)\n",
    "def htmlize_integral_number(arg):\n",
    "   return f'{arg}(<i>{str(hex(arg))}</i>)' "
   ],
   "metadata": {
    "collapsed": false,
    "ExecuteTime": {
     "end_time": "2024-03-27T16:49:21.806125Z",
     "start_time": "2024-03-27T16:49:21.802458Z"
    }
   },
   "id": "5740c7cdd3b00d61",
   "execution_count": 124
  },
  {
   "cell_type": "code",
   "outputs": [
    {
     "data": {
      "text/plain": "'123(<i>0x7b</i>)'"
     },
     "execution_count": 125,
     "metadata": {},
     "output_type": "execute_result"
    }
   ],
   "source": [
    "htmlize(123)"
   ],
   "metadata": {
    "collapsed": false,
    "ExecuteTime": {
     "end_time": "2024-03-27T16:49:23.257042Z",
     "start_time": "2024-03-27T16:49:23.252005Z"
    }
   },
   "id": "33401453a7edd6f",
   "execution_count": 125
  },
  {
   "cell_type": "code",
   "outputs": [
    {
     "data": {
      "text/plain": "mappingproxy({object: <function __main__.htmlize(arg)>,\n              numbers.Integral: <function __main__.htmlize_integral_number(arg)>})"
     },
     "execution_count": 126,
     "metadata": {},
     "output_type": "execute_result"
    }
   ],
   "source": [
    "htmlize.registry"
   ],
   "metadata": {
    "collapsed": false,
    "ExecuteTime": {
     "end_time": "2024-03-27T16:49:24.012099Z",
     "start_time": "2024-03-27T16:49:24.006995Z"
    }
   },
   "id": "aa2ae17bba377ff9",
   "execution_count": 126
  },
  {
   "cell_type": "code",
   "outputs": [],
   "source": [
    "@htmlize.register(Sequence)\n",
    "def htmlize_sequence(arg):\n",
    "    items = (f'<li>{htmlize(item)}</li>' for item in arg)\n",
    "    return '<ul>\\n' + '\\n'.join(items) + '\\n</ul>'"
   ],
   "metadata": {
    "collapsed": false,
    "ExecuteTime": {
     "end_time": "2024-03-27T16:52:10.691298Z",
     "start_time": "2024-03-27T16:52:10.686469Z"
    }
   },
   "id": "2d7a942aacfd36ca",
   "execution_count": 127
  },
  {
   "cell_type": "code",
   "outputs": [
    {
     "name": "stdout",
     "output_type": "stream",
     "text": [
      "<ul>\n",
      "<li>1(<i>0x1</i>)</li>\n",
      "<li>2(<i>0x2</i>)</li>\n",
      "<li>3(<i>0x3</i>)</li>\n",
      "</ul>\n"
     ]
    }
   ],
   "source": [
    "print(htmlize([1, 2, 3]))"
   ],
   "metadata": {
    "collapsed": false,
    "ExecuteTime": {
     "end_time": "2024-03-27T16:52:27.322800Z",
     "start_time": "2024-03-27T16:52:27.319044Z"
    }
   },
   "id": "4d25fca794941c22",
   "execution_count": 129
  },
  {
   "cell_type": "code",
   "outputs": [],
   "source": [
    "@htmlize.register(set)\n",
    "def htmlize_sequence(arg):\n",
    "    items = (f'<li>{htmlize(item)}</li>' for item in arg)\n",
    "    return '<ul>\\n' + '\\n'.join(items) + '\\n</ul>'"
   ],
   "metadata": {
    "collapsed": false,
    "ExecuteTime": {
     "end_time": "2024-03-27T16:58:53.582693Z",
     "start_time": "2024-03-27T16:58:53.578352Z"
    }
   },
   "id": "7d3bfe185f6e7e8",
   "execution_count": 131
  },
  {
   "cell_type": "code",
   "outputs": [
    {
     "name": "stdout",
     "output_type": "stream",
     "text": [
      "<ul>\n",
      "<li><ul>\n",
      "<li>1(<i>0x1</i>)</li>\n",
      "<li>2(<i>0x2</i>)</li>\n",
      "<li>3(<i>0x3</i>)</li>\n",
      "</ul></li>\n",
      "<li><ul>\n",
      "<li>False(<i>0x0</i>)</li>\n",
      "<li>True(<i>0x1</i>)</li>\n",
      "</ul></li>\n",
      "</ul>\n"
     ]
    }
   ],
   "source": [
    "print(htmlize([(1, 2, 3), {True, False}]))"
   ],
   "metadata": {
    "collapsed": false,
    "ExecuteTime": {
     "end_time": "2024-03-27T16:58:54.050826Z",
     "start_time": "2024-03-27T16:58:54.047088Z"
    }
   },
   "id": "5f6f1dc821543c5d",
   "execution_count": 132
  },
  {
   "cell_type": "code",
   "outputs": [
    {
     "ename": "RecursionError",
     "evalue": "maximum recursion depth exceeded",
     "output_type": "error",
     "traceback": [
      "\u001B[0;31m---------------------------------------------------------------------------\u001B[0m",
      "\u001B[0;31mRecursionError\u001B[0m                            Traceback (most recent call last)",
      "Cell \u001B[0;32mIn[133], line 1\u001B[0m\n\u001B[0;32m----> 1\u001B[0m \u001B[43mhtmlize\u001B[49m\u001B[43m(\u001B[49m\u001B[38;5;124;43m'\u001B[39;49m\u001B[38;5;124;43mpython\u001B[39;49m\u001B[38;5;124;43m'\u001B[39;49m\u001B[43m)\u001B[49m\n",
      "File \u001B[0;32m/usr/lib64/python3.12/functools.py:909\u001B[0m, in \u001B[0;36msingledispatch.<locals>.wrapper\u001B[0;34m(*args, **kw)\u001B[0m\n\u001B[1;32m    905\u001B[0m \u001B[38;5;28;01mif\u001B[39;00m \u001B[38;5;129;01mnot\u001B[39;00m args:\n\u001B[1;32m    906\u001B[0m     \u001B[38;5;28;01mraise\u001B[39;00m \u001B[38;5;167;01mTypeError\u001B[39;00m(\u001B[38;5;124mf\u001B[39m\u001B[38;5;124m'\u001B[39m\u001B[38;5;132;01m{\u001B[39;00mfuncname\u001B[38;5;132;01m}\u001B[39;00m\u001B[38;5;124m requires at least \u001B[39m\u001B[38;5;124m'\u001B[39m\n\u001B[1;32m    907\u001B[0m                     \u001B[38;5;124m'\u001B[39m\u001B[38;5;124m1 positional argument\u001B[39m\u001B[38;5;124m'\u001B[39m)\n\u001B[0;32m--> 909\u001B[0m \u001B[38;5;28;01mreturn\u001B[39;00m \u001B[43mdispatch\u001B[49m\u001B[43m(\u001B[49m\u001B[43margs\u001B[49m\u001B[43m[\u001B[49m\u001B[38;5;241;43m0\u001B[39;49m\u001B[43m]\u001B[49m\u001B[38;5;241;43m.\u001B[39;49m\u001B[38;5;18;43m__class__\u001B[39;49m\u001B[43m)\u001B[49m\u001B[43m(\u001B[49m\u001B[38;5;241;43m*\u001B[39;49m\u001B[43margs\u001B[49m\u001B[43m,\u001B[49m\u001B[43m \u001B[49m\u001B[38;5;241;43m*\u001B[39;49m\u001B[38;5;241;43m*\u001B[39;49m\u001B[43mkw\u001B[49m\u001B[43m)\u001B[49m\n",
      "Cell \u001B[0;32mIn[127], line 4\u001B[0m, in \u001B[0;36mhtmlize_sequence\u001B[0;34m(arg)\u001B[0m\n\u001B[1;32m      1\u001B[0m \u001B[38;5;129m@htmlize\u001B[39m\u001B[38;5;241m.\u001B[39mregister(Sequence)\n\u001B[1;32m      2\u001B[0m \u001B[38;5;28;01mdef\u001B[39;00m \u001B[38;5;21mhtmlize_sequence\u001B[39m(arg):\n\u001B[1;32m      3\u001B[0m     items \u001B[38;5;241m=\u001B[39m (\u001B[38;5;124mf\u001B[39m\u001B[38;5;124m'\u001B[39m\u001B[38;5;124m<li>\u001B[39m\u001B[38;5;132;01m{\u001B[39;00mhtmlize(item)\u001B[38;5;132;01m}\u001B[39;00m\u001B[38;5;124m</li>\u001B[39m\u001B[38;5;124m'\u001B[39m \u001B[38;5;28;01mfor\u001B[39;00m item \u001B[38;5;129;01min\u001B[39;00m arg)\n\u001B[0;32m----> 4\u001B[0m     \u001B[38;5;28;01mreturn\u001B[39;00m \u001B[38;5;124m'\u001B[39m\u001B[38;5;124m<ul>\u001B[39m\u001B[38;5;130;01m\\n\u001B[39;00m\u001B[38;5;124m'\u001B[39m \u001B[38;5;241m+\u001B[39m \u001B[38;5;124;43m'\u001B[39;49m\u001B[38;5;130;43;01m\\n\u001B[39;49;00m\u001B[38;5;124;43m'\u001B[39;49m\u001B[38;5;241;43m.\u001B[39;49m\u001B[43mjoin\u001B[49m\u001B[43m(\u001B[49m\u001B[43mitems\u001B[49m\u001B[43m)\u001B[49m \u001B[38;5;241m+\u001B[39m \u001B[38;5;124m'\u001B[39m\u001B[38;5;130;01m\\n\u001B[39;00m\u001B[38;5;124m</ul>\u001B[39m\u001B[38;5;124m'\u001B[39m\n",
      "Cell \u001B[0;32mIn[127], line 3\u001B[0m, in \u001B[0;36m<genexpr>\u001B[0;34m(.0)\u001B[0m\n\u001B[1;32m      1\u001B[0m \u001B[38;5;129m@htmlize\u001B[39m\u001B[38;5;241m.\u001B[39mregister(Sequence)\n\u001B[1;32m      2\u001B[0m \u001B[38;5;28;01mdef\u001B[39;00m \u001B[38;5;21mhtmlize_sequence\u001B[39m(arg):\n\u001B[0;32m----> 3\u001B[0m     items \u001B[38;5;241m=\u001B[39m (\u001B[38;5;124mf\u001B[39m\u001B[38;5;124m'\u001B[39m\u001B[38;5;124m<li>\u001B[39m\u001B[38;5;132;01m{\u001B[39;00m\u001B[43mhtmlize\u001B[49m\u001B[43m(\u001B[49m\u001B[43mitem\u001B[49m\u001B[43m)\u001B[49m\u001B[38;5;132;01m}\u001B[39;00m\u001B[38;5;124m</li>\u001B[39m\u001B[38;5;124m'\u001B[39m \u001B[38;5;28;01mfor\u001B[39;00m item \u001B[38;5;129;01min\u001B[39;00m arg)\n\u001B[1;32m      4\u001B[0m     \u001B[38;5;28;01mreturn\u001B[39;00m \u001B[38;5;124m'\u001B[39m\u001B[38;5;124m<ul>\u001B[39m\u001B[38;5;130;01m\\n\u001B[39;00m\u001B[38;5;124m'\u001B[39m \u001B[38;5;241m+\u001B[39m \u001B[38;5;124m'\u001B[39m\u001B[38;5;130;01m\\n\u001B[39;00m\u001B[38;5;124m'\u001B[39m\u001B[38;5;241m.\u001B[39mjoin(items) \u001B[38;5;241m+\u001B[39m \u001B[38;5;124m'\u001B[39m\u001B[38;5;130;01m\\n\u001B[39;00m\u001B[38;5;124m</ul>\u001B[39m\u001B[38;5;124m'\u001B[39m\n",
      "File \u001B[0;32m/usr/lib64/python3.12/functools.py:909\u001B[0m, in \u001B[0;36msingledispatch.<locals>.wrapper\u001B[0;34m(*args, **kw)\u001B[0m\n\u001B[1;32m    905\u001B[0m \u001B[38;5;28;01mif\u001B[39;00m \u001B[38;5;129;01mnot\u001B[39;00m args:\n\u001B[1;32m    906\u001B[0m     \u001B[38;5;28;01mraise\u001B[39;00m \u001B[38;5;167;01mTypeError\u001B[39;00m(\u001B[38;5;124mf\u001B[39m\u001B[38;5;124m'\u001B[39m\u001B[38;5;132;01m{\u001B[39;00mfuncname\u001B[38;5;132;01m}\u001B[39;00m\u001B[38;5;124m requires at least \u001B[39m\u001B[38;5;124m'\u001B[39m\n\u001B[1;32m    907\u001B[0m                     \u001B[38;5;124m'\u001B[39m\u001B[38;5;124m1 positional argument\u001B[39m\u001B[38;5;124m'\u001B[39m)\n\u001B[0;32m--> 909\u001B[0m \u001B[38;5;28;01mreturn\u001B[39;00m \u001B[43mdispatch\u001B[49m\u001B[43m(\u001B[49m\u001B[43margs\u001B[49m\u001B[43m[\u001B[49m\u001B[38;5;241;43m0\u001B[39;49m\u001B[43m]\u001B[49m\u001B[38;5;241;43m.\u001B[39;49m\u001B[38;5;18;43m__class__\u001B[39;49m\u001B[43m)\u001B[49m\u001B[43m(\u001B[49m\u001B[38;5;241;43m*\u001B[39;49m\u001B[43margs\u001B[49m\u001B[43m,\u001B[49m\u001B[43m \u001B[49m\u001B[38;5;241;43m*\u001B[39;49m\u001B[38;5;241;43m*\u001B[39;49m\u001B[43mkw\u001B[49m\u001B[43m)\u001B[49m\n",
      "Cell \u001B[0;32mIn[127], line 4\u001B[0m, in \u001B[0;36mhtmlize_sequence\u001B[0;34m(arg)\u001B[0m\n\u001B[1;32m      1\u001B[0m \u001B[38;5;129m@htmlize\u001B[39m\u001B[38;5;241m.\u001B[39mregister(Sequence)\n\u001B[1;32m      2\u001B[0m \u001B[38;5;28;01mdef\u001B[39;00m \u001B[38;5;21mhtmlize_sequence\u001B[39m(arg):\n\u001B[1;32m      3\u001B[0m     items \u001B[38;5;241m=\u001B[39m (\u001B[38;5;124mf\u001B[39m\u001B[38;5;124m'\u001B[39m\u001B[38;5;124m<li>\u001B[39m\u001B[38;5;132;01m{\u001B[39;00mhtmlize(item)\u001B[38;5;132;01m}\u001B[39;00m\u001B[38;5;124m</li>\u001B[39m\u001B[38;5;124m'\u001B[39m \u001B[38;5;28;01mfor\u001B[39;00m item \u001B[38;5;129;01min\u001B[39;00m arg)\n\u001B[0;32m----> 4\u001B[0m     \u001B[38;5;28;01mreturn\u001B[39;00m \u001B[38;5;124m'\u001B[39m\u001B[38;5;124m<ul>\u001B[39m\u001B[38;5;130;01m\\n\u001B[39;00m\u001B[38;5;124m'\u001B[39m \u001B[38;5;241m+\u001B[39m \u001B[38;5;124;43m'\u001B[39;49m\u001B[38;5;130;43;01m\\n\u001B[39;49;00m\u001B[38;5;124;43m'\u001B[39;49m\u001B[38;5;241;43m.\u001B[39;49m\u001B[43mjoin\u001B[49m\u001B[43m(\u001B[49m\u001B[43mitems\u001B[49m\u001B[43m)\u001B[49m \u001B[38;5;241m+\u001B[39m \u001B[38;5;124m'\u001B[39m\u001B[38;5;130;01m\\n\u001B[39;00m\u001B[38;5;124m</ul>\u001B[39m\u001B[38;5;124m'\u001B[39m\n",
      "Cell \u001B[0;32mIn[127], line 3\u001B[0m, in \u001B[0;36m<genexpr>\u001B[0;34m(.0)\u001B[0m\n\u001B[1;32m      1\u001B[0m \u001B[38;5;129m@htmlize\u001B[39m\u001B[38;5;241m.\u001B[39mregister(Sequence)\n\u001B[1;32m      2\u001B[0m \u001B[38;5;28;01mdef\u001B[39;00m \u001B[38;5;21mhtmlize_sequence\u001B[39m(arg):\n\u001B[0;32m----> 3\u001B[0m     items \u001B[38;5;241m=\u001B[39m (\u001B[38;5;124mf\u001B[39m\u001B[38;5;124m'\u001B[39m\u001B[38;5;124m<li>\u001B[39m\u001B[38;5;132;01m{\u001B[39;00m\u001B[43mhtmlize\u001B[49m\u001B[43m(\u001B[49m\u001B[43mitem\u001B[49m\u001B[43m)\u001B[49m\u001B[38;5;132;01m}\u001B[39;00m\u001B[38;5;124m</li>\u001B[39m\u001B[38;5;124m'\u001B[39m \u001B[38;5;28;01mfor\u001B[39;00m item \u001B[38;5;129;01min\u001B[39;00m arg)\n\u001B[1;32m      4\u001B[0m     \u001B[38;5;28;01mreturn\u001B[39;00m \u001B[38;5;124m'\u001B[39m\u001B[38;5;124m<ul>\u001B[39m\u001B[38;5;130;01m\\n\u001B[39;00m\u001B[38;5;124m'\u001B[39m \u001B[38;5;241m+\u001B[39m \u001B[38;5;124m'\u001B[39m\u001B[38;5;130;01m\\n\u001B[39;00m\u001B[38;5;124m'\u001B[39m\u001B[38;5;241m.\u001B[39mjoin(items) \u001B[38;5;241m+\u001B[39m \u001B[38;5;124m'\u001B[39m\u001B[38;5;130;01m\\n\u001B[39;00m\u001B[38;5;124m</ul>\u001B[39m\u001B[38;5;124m'\u001B[39m\n",
      "    \u001B[0;31m[... skipping similar frames: htmlize_sequence at line 4 (492 times), singledispatch.<locals>.wrapper at line 909 (492 times), <genexpr> at line 3 (491 times)]\u001B[0m\n",
      "Cell \u001B[0;32mIn[127], line 3\u001B[0m, in \u001B[0;36m<genexpr>\u001B[0;34m(.0)\u001B[0m\n\u001B[1;32m      1\u001B[0m \u001B[38;5;129m@htmlize\u001B[39m\u001B[38;5;241m.\u001B[39mregister(Sequence)\n\u001B[1;32m      2\u001B[0m \u001B[38;5;28;01mdef\u001B[39;00m \u001B[38;5;21mhtmlize_sequence\u001B[39m(arg):\n\u001B[0;32m----> 3\u001B[0m     items \u001B[38;5;241m=\u001B[39m (\u001B[38;5;124mf\u001B[39m\u001B[38;5;124m'\u001B[39m\u001B[38;5;124m<li>\u001B[39m\u001B[38;5;132;01m{\u001B[39;00m\u001B[43mhtmlize\u001B[49m\u001B[43m(\u001B[49m\u001B[43mitem\u001B[49m\u001B[43m)\u001B[49m\u001B[38;5;132;01m}\u001B[39;00m\u001B[38;5;124m</li>\u001B[39m\u001B[38;5;124m'\u001B[39m \u001B[38;5;28;01mfor\u001B[39;00m item \u001B[38;5;129;01min\u001B[39;00m arg)\n\u001B[1;32m      4\u001B[0m     \u001B[38;5;28;01mreturn\u001B[39;00m \u001B[38;5;124m'\u001B[39m\u001B[38;5;124m<ul>\u001B[39m\u001B[38;5;130;01m\\n\u001B[39;00m\u001B[38;5;124m'\u001B[39m \u001B[38;5;241m+\u001B[39m \u001B[38;5;124m'\u001B[39m\u001B[38;5;130;01m\\n\u001B[39;00m\u001B[38;5;124m'\u001B[39m\u001B[38;5;241m.\u001B[39mjoin(items) \u001B[38;5;241m+\u001B[39m \u001B[38;5;124m'\u001B[39m\u001B[38;5;130;01m\\n\u001B[39;00m\u001B[38;5;124m</ul>\u001B[39m\u001B[38;5;124m'\u001B[39m\n",
      "File \u001B[0;32m/usr/lib64/python3.12/functools.py:909\u001B[0m, in \u001B[0;36msingledispatch.<locals>.wrapper\u001B[0;34m(*args, **kw)\u001B[0m\n\u001B[1;32m    905\u001B[0m \u001B[38;5;28;01mif\u001B[39;00m \u001B[38;5;129;01mnot\u001B[39;00m args:\n\u001B[1;32m    906\u001B[0m     \u001B[38;5;28;01mraise\u001B[39;00m \u001B[38;5;167;01mTypeError\u001B[39;00m(\u001B[38;5;124mf\u001B[39m\u001B[38;5;124m'\u001B[39m\u001B[38;5;132;01m{\u001B[39;00mfuncname\u001B[38;5;132;01m}\u001B[39;00m\u001B[38;5;124m requires at least \u001B[39m\u001B[38;5;124m'\u001B[39m\n\u001B[1;32m    907\u001B[0m                     \u001B[38;5;124m'\u001B[39m\u001B[38;5;124m1 positional argument\u001B[39m\u001B[38;5;124m'\u001B[39m)\n\u001B[0;32m--> 909\u001B[0m \u001B[38;5;28;01mreturn\u001B[39;00m \u001B[43mdispatch\u001B[49m\u001B[43m(\u001B[49m\u001B[43margs\u001B[49m\u001B[43m[\u001B[49m\u001B[38;5;241;43m0\u001B[39;49m\u001B[43m]\u001B[49m\u001B[38;5;241;43m.\u001B[39;49m\u001B[38;5;18;43m__class__\u001B[39;49m\u001B[43m)\u001B[49m\u001B[43m(\u001B[49m\u001B[38;5;241;43m*\u001B[39;49m\u001B[43margs\u001B[49m\u001B[43m,\u001B[49m\u001B[43m \u001B[49m\u001B[38;5;241;43m*\u001B[39;49m\u001B[38;5;241;43m*\u001B[39;49m\u001B[43mkw\u001B[49m\u001B[43m)\u001B[49m\n",
      "Cell \u001B[0;32mIn[127], line 4\u001B[0m, in \u001B[0;36mhtmlize_sequence\u001B[0;34m(arg)\u001B[0m\n\u001B[1;32m      1\u001B[0m \u001B[38;5;129m@htmlize\u001B[39m\u001B[38;5;241m.\u001B[39mregister(Sequence)\n\u001B[1;32m      2\u001B[0m \u001B[38;5;28;01mdef\u001B[39;00m \u001B[38;5;21mhtmlize_sequence\u001B[39m(arg):\n\u001B[1;32m      3\u001B[0m     items \u001B[38;5;241m=\u001B[39m (\u001B[38;5;124mf\u001B[39m\u001B[38;5;124m'\u001B[39m\u001B[38;5;124m<li>\u001B[39m\u001B[38;5;132;01m{\u001B[39;00mhtmlize(item)\u001B[38;5;132;01m}\u001B[39;00m\u001B[38;5;124m</li>\u001B[39m\u001B[38;5;124m'\u001B[39m \u001B[38;5;28;01mfor\u001B[39;00m item \u001B[38;5;129;01min\u001B[39;00m arg)\n\u001B[0;32m----> 4\u001B[0m     \u001B[38;5;28;01mreturn\u001B[39;00m \u001B[38;5;124m'\u001B[39m\u001B[38;5;124m<ul>\u001B[39m\u001B[38;5;130;01m\\n\u001B[39;00m\u001B[38;5;124m'\u001B[39m \u001B[38;5;241m+\u001B[39m \u001B[38;5;124;43m'\u001B[39;49m\u001B[38;5;130;43;01m\\n\u001B[39;49;00m\u001B[38;5;124;43m'\u001B[39;49m\u001B[38;5;241;43m.\u001B[39;49m\u001B[43mjoin\u001B[49m\u001B[43m(\u001B[49m\u001B[43mitems\u001B[49m\u001B[43m)\u001B[49m \u001B[38;5;241m+\u001B[39m \u001B[38;5;124m'\u001B[39m\u001B[38;5;130;01m\\n\u001B[39;00m\u001B[38;5;124m</ul>\u001B[39m\u001B[38;5;124m'\u001B[39m\n",
      "\u001B[0;31mRecursionError\u001B[0m: maximum recursion depth exceeded"
     ]
    }
   ],
   "source": [
    "htmlize('python')"
   ],
   "metadata": {
    "collapsed": false,
    "ExecuteTime": {
     "end_time": "2024-03-27T17:03:24.365396Z",
     "start_time": "2024-03-27T17:03:23.882491Z"
    }
   },
   "id": "507a812ef71becfc",
   "execution_count": 133
  },
  {
   "cell_type": "code",
   "outputs": [],
   "source": [
    "@htmlize.register(str)\n",
    "def htmlize_str(arg):\n",
    "    return html_escape(arg).replace('\\n', '<br/>\\n')"
   ],
   "metadata": {
    "collapsed": false,
    "ExecuteTime": {
     "end_time": "2024-03-27T17:06:22.968514Z",
     "start_time": "2024-03-27T17:06:22.965135Z"
    }
   },
   "id": "b75dc77fdeaef9cd",
   "execution_count": 134
  },
  {
   "cell_type": "code",
   "outputs": [
    {
     "data": {
      "text/plain": "'python'"
     },
     "execution_count": 136,
     "metadata": {},
     "output_type": "execute_result"
    }
   ],
   "source": [
    "htmlize('python')"
   ],
   "metadata": {
    "collapsed": false,
    "ExecuteTime": {
     "end_time": "2024-03-27T17:16:20.497071Z",
     "start_time": "2024-03-27T17:14:38.368008Z"
    }
   },
   "id": "d374d0e255995568",
   "execution_count": 136
  },
  {
   "cell_type": "code",
   "outputs": [],
   "source": [
    "@singledispatch\n",
    "def htmlize(arg):\n",
    "    return escape(str(arg))"
   ],
   "metadata": {
    "collapsed": false,
    "ExecuteTime": {
     "end_time": "2024-03-27T17:19:48.194982Z",
     "start_time": "2024-03-27T17:19:48.191344Z"
    }
   },
   "id": "82cf72dbfb8acbb",
   "execution_count": 138
  },
  {
   "cell_type": "code",
   "outputs": [],
   "source": [
    "@htmlize.register(set)\n",
    "def _(arg):\n",
    "   return f'{arg}(<i>{str(hex(arg))}</i>)' "
   ],
   "metadata": {
    "collapsed": false,
    "ExecuteTime": {
     "end_time": "2024-03-27T17:20:54.296508Z",
     "start_time": "2024-03-27T17:20:54.292289Z"
    }
   },
   "id": "b10a2d809f06d50d",
   "execution_count": 143
  },
  {
   "cell_type": "code",
   "outputs": [
    {
     "data": {
      "text/plain": "False"
     },
     "execution_count": 147,
     "metadata": {},
     "output_type": "execute_result"
    }
   ],
   "source": [
    "htmlize.registry[set] == htmlize.registry[Integral]"
   ],
   "metadata": {
    "collapsed": false,
    "ExecuteTime": {
     "end_time": "2024-03-27T17:21:49.302071Z",
     "start_time": "2024-03-27T17:21:49.296625Z"
    }
   },
   "id": "24844368072e402a",
   "execution_count": 147
  },
  {
   "cell_type": "code",
   "outputs": [],
   "source": [
    "lst = []\n",
    "a = 10\n",
    "lst.append(a)\n",
    "a = True\n",
    "lst.append(a)\n",
    "del a"
   ],
   "metadata": {
    "collapsed": false,
    "ExecuteTime": {
     "end_time": "2024-03-27T17:24:16.260604Z",
     "start_time": "2024-03-27T17:24:16.256788Z"
    }
   },
   "id": "452c01a3730510fe",
   "execution_count": 148
  },
  {
   "cell_type": "code",
   "outputs": [
    {
     "data": {
      "text/plain": "(10, True)"
     },
     "execution_count": 149,
     "metadata": {},
     "output_type": "execute_result"
    }
   ],
   "source": [
    "lst[0], lst[1]"
   ],
   "metadata": {
    "collapsed": false,
    "ExecuteTime": {
     "end_time": "2024-03-27T17:24:25.044433Z",
     "start_time": "2024-03-27T17:24:25.040431Z"
    }
   },
   "id": "cf3a92fc6d696a41",
   "execution_count": 149
  },
  {
   "cell_type": "code",
   "outputs": [
    {
     "data": {
      "text/plain": "(140423204430816, 140423204430496)"
     },
     "execution_count": 153,
     "metadata": {},
     "output_type": "execute_result"
    }
   ],
   "source": [
    "id(htmlize.dispatch(Integral)), id(htmlize.dispatch(set)) "
   ],
   "metadata": {
    "collapsed": false,
    "ExecuteTime": {
     "end_time": "2024-03-27T17:27:35.321572Z",
     "start_time": "2024-03-27T17:27:35.316695Z"
    }
   },
   "id": "5a63f6972acb2f95",
   "execution_count": 153
  },
  {
   "cell_type": "code",
   "outputs": [],
   "source": [],
   "metadata": {
    "collapsed": false
   },
   "id": "d298c334b1e2e14e"
  }
 ],
 "metadata": {
  "kernelspec": {
   "display_name": "Python 3",
   "language": "python",
   "name": "python3"
  },
  "language_info": {
   "codemirror_mode": {
    "name": "ipython",
    "version": 2
   },
   "file_extension": ".py",
   "mimetype": "text/x-python",
   "name": "python",
   "nbconvert_exporter": "python",
   "pygments_lexer": "ipython2",
   "version": "2.7.6"
  }
 },
 "nbformat": 4,
 "nbformat_minor": 5
}
