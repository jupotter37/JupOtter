{
 "cells": [
  {
   "cell_type": "markdown",
   "metadata": {},
   "source": [
    "# ALL Possible Combinations"
   ]
  },
  {
   "cell_type": "code",
   "execution_count": 1,
   "metadata": {},
   "outputs": [],
   "source": [
    "def solve(arr):\n",
    "    # n = len(A)\n",
    "    # ans = []\n",
    "    # for i in range(n):\n",
    "    #     str1 = A[i]\n",
    "    #     for j in range(i + 1, n):\n",
    "    #         str2 = A[j]\n",
    "    #         ans.append()\n",
    "    \n",
    "    # Recursion\n",
    "    self.ans = []\n",
    "    start, end = 0, 0\n",
    "    # self.arr = A[:]\n",
    "    for i in range(len(A)):\n",
    "        str1 = A[i]\n",
    "        solve(str1, start, end)\n",
    "    return self.ans"
   ]
  },
  {
   "cell_type": "code",
   "execution_count": 2,
   "metadata": {},
   "outputs": [
    {
     "ename": "RecursionError",
     "evalue": "maximum recursion depth exceeded in comparison",
     "output_type": "error",
     "traceback": [
      "\u001b[1;31m---------------------------------------------------------------------------\u001b[0m",
      "\u001b[1;31mRecursionError\u001b[0m                            Traceback (most recent call last)",
      "Cell \u001b[1;32mIn [2], line 23\u001b[0m\n\u001b[0;32m     18\u001b[0m     \u001b[38;5;28;01mreturn\u001b[39;00m ans\n\u001b[0;32m     21\u001b[0m arr \u001b[38;5;241m=\u001b[39m [\u001b[38;5;124m'\u001b[39m\u001b[38;5;124mab\u001b[39m\u001b[38;5;124m'\u001b[39m, \u001b[38;5;124m'\u001b[39m\u001b[38;5;124mcd\u001b[39m\u001b[38;5;124m'\u001b[39m, \u001b[38;5;124m'\u001b[39m\u001b[38;5;124mef\u001b[39m\u001b[38;5;124m'\u001b[39m]\n\u001b[1;32m---> 23\u001b[0m \u001b[38;5;28mprint\u001b[39m(\u001b[43mAPC\u001b[49m\u001b[43m(\u001b[49m\u001b[43marr\u001b[49m\u001b[43m)\u001b[49m)\n",
      "Cell \u001b[1;32mIn [2], line 17\u001b[0m, in \u001b[0;36mAPC\u001b[1;34m(arr)\u001b[0m\n\u001b[0;32m     15\u001b[0m \u001b[38;5;28;01mdef\u001b[39;00m \u001b[38;5;21mAPC\u001b[39m(arr):\n\u001b[0;32m     16\u001b[0m     start, end \u001b[38;5;241m=\u001b[39m \u001b[38;5;241m0\u001b[39m, \u001b[38;5;28mlen\u001b[39m(arr)\n\u001b[1;32m---> 17\u001b[0m     \u001b[43mhelper\u001b[49m\u001b[43m(\u001b[49m\u001b[43marr\u001b[49m\u001b[43m,\u001b[49m\u001b[43m \u001b[49m\u001b[43mstart\u001b[49m\u001b[43m,\u001b[49m\u001b[43m \u001b[49m\u001b[43mend\u001b[49m\u001b[43m)\u001b[49m\n\u001b[0;32m     18\u001b[0m     \u001b[38;5;28;01mreturn\u001b[39;00m ans\n",
      "Cell \u001b[1;32mIn [2], line 13\u001b[0m, in \u001b[0;36mhelper\u001b[1;34m(arr, start, end)\u001b[0m\n\u001b[0;32m     11\u001b[0m     ansString \u001b[38;5;241m=\u001b[39m \u001b[38;5;124m'\u001b[39m\u001b[38;5;124m'\u001b[39m\n\u001b[0;32m     12\u001b[0m ansString \u001b[38;5;241m+\u001b[39m\u001b[38;5;241m=\u001b[39m str1[start]\n\u001b[1;32m---> 13\u001b[0m \u001b[43mhelper\u001b[49m\u001b[43m(\u001b[49m\u001b[43marr\u001b[49m\u001b[43m,\u001b[49m\u001b[43m \u001b[49m\u001b[43mstart\u001b[49m\u001b[38;5;241;43m+\u001b[39;49m\u001b[38;5;241;43m1\u001b[39;49m\u001b[43m,\u001b[49m\u001b[43m \u001b[49m\u001b[43mend\u001b[49m\u001b[43m)\u001b[49m\n",
      "Cell \u001b[1;32mIn [2], line 13\u001b[0m, in \u001b[0;36mhelper\u001b[1;34m(arr, start, end)\u001b[0m\n\u001b[0;32m     11\u001b[0m     ansString \u001b[38;5;241m=\u001b[39m \u001b[38;5;124m'\u001b[39m\u001b[38;5;124m'\u001b[39m\n\u001b[0;32m     12\u001b[0m ansString \u001b[38;5;241m+\u001b[39m\u001b[38;5;241m=\u001b[39m str1[start]\n\u001b[1;32m---> 13\u001b[0m \u001b[43mhelper\u001b[49m\u001b[43m(\u001b[49m\u001b[43marr\u001b[49m\u001b[43m,\u001b[49m\u001b[43m \u001b[49m\u001b[43mstart\u001b[49m\u001b[38;5;241;43m+\u001b[39;49m\u001b[38;5;241;43m1\u001b[39;49m\u001b[43m,\u001b[49m\u001b[43m \u001b[49m\u001b[43mend\u001b[49m\u001b[43m)\u001b[49m\n",
      "    \u001b[1;31m[... skipping similar frames: helper at line 13 (2969 times)]\u001b[0m\n",
      "Cell \u001b[1;32mIn [2], line 13\u001b[0m, in \u001b[0;36mhelper\u001b[1;34m(arr, start, end)\u001b[0m\n\u001b[0;32m     11\u001b[0m     ansString \u001b[38;5;241m=\u001b[39m \u001b[38;5;124m'\u001b[39m\u001b[38;5;124m'\u001b[39m\n\u001b[0;32m     12\u001b[0m ansString \u001b[38;5;241m+\u001b[39m\u001b[38;5;241m=\u001b[39m str1[start]\n\u001b[1;32m---> 13\u001b[0m \u001b[43mhelper\u001b[49m\u001b[43m(\u001b[49m\u001b[43marr\u001b[49m\u001b[43m,\u001b[49m\u001b[43m \u001b[49m\u001b[43mstart\u001b[49m\u001b[38;5;241;43m+\u001b[39;49m\u001b[38;5;241;43m1\u001b[39;49m\u001b[43m,\u001b[49m\u001b[43m \u001b[49m\u001b[43mend\u001b[49m\u001b[43m)\u001b[49m\n",
      "Cell \u001b[1;32mIn [2], line 7\u001b[0m, in \u001b[0;36mhelper\u001b[1;34m(arr, start, end)\u001b[0m\n\u001b[0;32m      4\u001b[0m \u001b[38;5;28;01mif\u001b[39;00m start \u001b[38;5;241m==\u001b[39m end:\n\u001b[0;32m      5\u001b[0m     ans\u001b[38;5;241m.\u001b[39mappend(ansString[:])\n\u001b[1;32m----> 7\u001b[0m \u001b[38;5;28;01mfor\u001b[39;00m i \u001b[38;5;129;01min\u001b[39;00m \u001b[38;5;28mrange\u001b[39m(\u001b[38;5;28mlen\u001b[39m(arr)):\n\u001b[0;32m      8\u001b[0m     str1 \u001b[38;5;241m=\u001b[39m arr[i]\n\u001b[0;32m      9\u001b[0m     start, end \u001b[38;5;241m=\u001b[39m \u001b[38;5;241m0\u001b[39m, \u001b[38;5;28mlen\u001b[39m(str1)\n",
      "\u001b[1;31mRecursionError\u001b[0m: maximum recursion depth exceeded in comparison"
     ]
    }
   ],
   "source": [
    "# APC\n",
    "ans = []\n",
    "def helper(arr, start, end):\n",
    "    if start == end:\n",
    "        ans.append(ansString[:])\n",
    "    \n",
    "    for i in range(len(arr)):\n",
    "        str1 = arr[i]\n",
    "        start, end = 0, len(str1)\n",
    "        if start == 0:\n",
    "            ansString = ''\n",
    "        ansString += str1[start]\n",
    "        helper(arr, start+1, end)\n",
    "\n",
    "def APC(arr):\n",
    "    start, end = 0, len(arr)\n",
    "    helper(arr, start, end)\n",
    "    return ans\n",
    "\n",
    "\n",
    "arr = ['ab', 'cd', 'ef']\n",
    "\n",
    "print(APC(arr))"
   ]
  },
  {
   "cell_type": "code",
   "execution_count": 3,
   "metadata": {},
   "outputs": [
    {
     "name": "stdout",
     "output_type": "stream",
     "text": [
      "['ace', 'acf', 'de', 'df', 'ee', 'ef', 'fe', 'ff', 'bce', 'bcf', 'de', 'df', 'ee', 'ef', 'fe', 'ff', 'cce', 'ccf', 'de', 'df', 'ee', 'ef', 'fe', 'ff', 'dce', 'dcf', 'de', 'df', 'ee', 'ef', 'fe', 'ff', 'ece', 'ecf', 'de', 'df', 'ee', 'ef', 'fe', 'ff', 'fce', 'fcf', 'de', 'df', 'ee', 'ef', 'fe', 'ff']\n"
     ]
    }
   ],
   "source": [
    "# APC\n",
    "ans = []\n",
    "temp = ''\n",
    "def helper(arr, start, end):\n",
    "    global temp\n",
    "    if start == end:\n",
    "        # print(arr[start])\n",
    "        ans.append(temp)\n",
    "        # i = 0\n",
    "        # temp = ''\n",
    "    \n",
    "    for i in range(start, end):\n",
    "        for j in range(len(arr[i])):\n",
    "            # ans.append(arr[i][j])\n",
    "            temp += arr[i][j]\n",
    "            helper(arr, start+1, end)\n",
    "            # print(arr[i][j])\n",
    "            # temp = ''\n",
    "            temp = temp[ : j - 1]\n",
    "            # print(temp)\n",
    "\n",
    "def APC(arr):\n",
    "    start, end = 0, len(arr)\n",
    "    # temp = ''\n",
    "    helper(arr, start, end)\n",
    "    return ans\n",
    "\n",
    "\n",
    "arr = ['ab', 'cd', 'ef']\n",
    "\n",
    "print(APC(arr))"
   ]
  },
  {
   "cell_type": "code",
   "execution_count": null,
   "metadata": {},
   "outputs": [],
   "source": []
  }
 ],
 "metadata": {
  "kernelspec": {
   "display_name": "Python 3",
   "language": "python",
   "name": "python3"
  },
  "language_info": {
   "codemirror_mode": {
    "name": "ipython",
    "version": 3
   },
   "file_extension": ".py",
   "mimetype": "text/x-python",
   "name": "python",
   "nbconvert_exporter": "python",
   "pygments_lexer": "ipython3",
   "version": "3.11.3"
  }
 },
 "nbformat": 4,
 "nbformat_minor": 2
}
