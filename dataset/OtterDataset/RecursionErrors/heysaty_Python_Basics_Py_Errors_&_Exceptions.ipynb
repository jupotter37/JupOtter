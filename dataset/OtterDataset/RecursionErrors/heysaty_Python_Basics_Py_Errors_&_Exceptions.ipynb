{
  "nbformat": 4,
  "nbformat_minor": 0,
  "metadata": {
    "colab": {
      "provenance": []
    },
    "kernelspec": {
      "name": "python3",
      "display_name": "Python 3"
    },
    "language_info": {
      "name": "python"
    }
  },
  "cells": [
    {
      "cell_type": "markdown",
      "source": [
        "#Syntax error"
      ],
      "metadata": {
        "id": "AQ4M4C9XdEq4"
      }
    },
    {
      "cell_type": "code",
      "source": [
        "num1 = 10\n",
        "num2 = 10\n",
        "\n",
        "# catching syntax error using eval\n",
        "try:\n",
        "  eval('num3 = num1 num2  ')\n",
        "except SyntaxError as e:\n",
        "  print(e)"
      ],
      "metadata": {
        "colab": {
          "base_uri": "https://localhost:8080/"
        },
        "id": "RoA7uJlKyL3t",
        "outputId": "d4def577-508e-4607-9c26-9756ab3d7e31"
      },
      "execution_count": 37,
      "outputs": [
        {
          "output_type": "stream",
          "name": "stdout",
          "text": [
            "invalid syntax (<string>, line 1)\n"
          ]
        }
      ]
    },
    {
      "cell_type": "markdown",
      "source": [
        "#Recursion Error"
      ],
      "metadata": {
        "id": "unPAo143yWJy"
      }
    },
    {
      "cell_type": "code",
      "source": [
        "def rec():\n",
        "\n",
        "  return rec()\n",
        "\n",
        "try:\n",
        "  rec()\n",
        "except RecursionError as e:\n",
        "  print(e)\n"
      ],
      "metadata": {
        "colab": {
          "base_uri": "https://localhost:8080/"
        },
        "id": "5BZsMMYNyjNj",
        "outputId": "fb491e49-1a8c-4fbc-ad01-3bb84088ccdd"
      },
      "execution_count": 36,
      "outputs": [
        {
          "output_type": "stream",
          "name": "stdout",
          "text": [
            "maximum recursion depth exceeded\n"
          ]
        }
      ]
    },
    {
      "cell_type": "markdown",
      "source": [
        "#Indentation Error"
      ],
      "metadata": {
        "id": "kjTN6uduyq3g"
      }
    },
    {
      "cell_type": "code",
      "source": [
        "\n",
        "while True:\n",
        "print(\"Hello\")\n",
        "\n"
      ],
      "metadata": {
        "colab": {
          "base_uri": "https://localhost:8080/",
          "height": 131
        },
        "id": "2sKI9E_Ny83U",
        "outputId": "d2c8621e-8f20-41ac-c760-0755cf246bac"
      },
      "execution_count": 32,
      "outputs": [
        {
          "output_type": "error",
          "ename": "IndentationError",
          "evalue": "ignored",
          "traceback": [
            "\u001b[0;36m  File \u001b[0;32m\"<ipython-input-32-2a81b222d83a>\"\u001b[0;36m, line \u001b[0;32m2\u001b[0m\n\u001b[0;31m    print(\"Hello\")\u001b[0m\n\u001b[0m        ^\u001b[0m\n\u001b[0;31mIndentationError\u001b[0m\u001b[0;31m:\u001b[0m expected an indented block\n"
          ]
        }
      ]
    },
    {
      "cell_type": "markdown",
      "source": [
        "#Exceptions\n"
      ],
      "metadata": {
        "id": "FMca9VWczAY3"
      }
    },
    {
      "cell_type": "code",
      "source": [
        "# type error\n",
        "\n",
        "num1 = 2\n",
        "str1 = \"batman\"\n",
        "\n",
        "try:\n",
        "  result = num1 + str1\n",
        "except TypeError:\n",
        "  print('Type Error raised !!!')"
      ],
      "metadata": {
        "colab": {
          "base_uri": "https://localhost:8080/"
        },
        "id": "858YjEFEzKPe",
        "outputId": "76a3541a-2bff-4004-8ffc-cb4a6c6aebf7"
      },
      "execution_count": 34,
      "outputs": [
        {
          "output_type": "stream",
          "name": "stdout",
          "text": [
            "Type Error raised !!!\n"
          ]
        }
      ]
    },
    {
      "cell_type": "code",
      "source": [
        "# zero division error\n",
        "try:\n",
        "  99/0\n",
        "except ZeroDivisionError as e:\n",
        "  print(e)\n"
      ],
      "metadata": {
        "colab": {
          "base_uri": "https://localhost:8080/"
        },
        "id": "SAbtiK1czSwQ",
        "outputId": "dc508d10-a0f1-41fc-da02-bb3eae6b318d"
      },
      "execution_count": 35,
      "outputs": [
        {
          "output_type": "stream",
          "name": "stdout",
          "text": [
            "division by zero\n"
          ]
        }
      ]
    },
    {
      "cell_type": "markdown",
      "source": [
        "#Exception Handling"
      ],
      "metadata": {
        "id": "ymnvqUJnzXW4"
      }
    },
    {
      "cell_type": "code",
      "source": [
        "# try, except, else, finally\n",
        "def division(num1,num2):\n",
        "  try:\n",
        "\n",
        "    result = num1/num2\n",
        "  except:\n",
        "    print(\"Sorry ! You are dividing by zero \")\n",
        "  else:\n",
        "    print(\"Your Answer is : \", result)\n",
        "\n",
        "  finally:\n",
        "    print(\"Finally executed !!!\")\n",
        "\n",
        "\n",
        "division(10,200)\n",
        "\n",
        "division(100,0)"
      ],
      "metadata": {
        "colab": {
          "base_uri": "https://localhost:8080/"
        },
        "id": "WVo5Xcugzjcm",
        "outputId": "00ca18c1-429d-46b1-f8e5-2d992a781a6b"
      },
      "execution_count": null,
      "outputs": [
        {
          "output_type": "stream",
          "name": "stdout",
          "text": [
            "Your Answer is :  0.05\n",
            "Finally executed !!!\n",
            "Sorry ! You are dividing by zero \n",
            "Finally executed !!!\n"
          ]
        }
      ]
    },
    {
      "cell_type": "markdown",
      "source": [
        "#Arithmetic error"
      ],
      "metadata": {
        "id": "2drf4P0_2XcX"
      }
    },
    {
      "cell_type": "code",
      "source": [
        "# overflow error\n",
        "\n",
        "import math\n",
        "\n",
        "try:\n",
        "  print(math.exp(1000))\n",
        "except OverflowError as e:\n",
        "  print(e)\n",
        "\n",
        "\n"
      ],
      "metadata": {
        "colab": {
          "base_uri": "https://localhost:8080/"
        },
        "id": "W4lkctdt5pR-",
        "outputId": "7c926195-f449-449f-f3a6-88fc9b52a122"
      },
      "execution_count": 38,
      "outputs": [
        {
          "output_type": "stream",
          "name": "stdout",
          "text": [
            "math range error\n"
          ]
        }
      ]
    },
    {
      "cell_type": "code",
      "source": [
        "# ASSERTION ERROR\n",
        "def equals(num1,num2):\n",
        "  try:\n",
        "    assert num1 == num2\n",
        "    \n",
        "  except AssertionError:\n",
        "    print(\"Assertion Error !!!\")\n",
        "\n",
        "equals(11,10)"
      ],
      "metadata": {
        "colab": {
          "base_uri": "https://localhost:8080/"
        },
        "id": "DCPVXxK75_2P",
        "outputId": "5f54d033-5df1-4903-d9c1-89118d42f92b"
      },
      "execution_count": 42,
      "outputs": [
        {
          "output_type": "stream",
          "name": "stdout",
          "text": [
            "Assertion Error !!!\n"
          ]
        }
      ]
    },
    {
      "cell_type": "code",
      "source": [
        "# ATTRIBUTE ERROR\n",
        "\n",
        "class Cars:\n",
        "  model = \"mustang\"\n",
        "  print(model)\n",
        "\n",
        "try:\n",
        "  car = Cars()\n",
        "  print(car.price)\n",
        "except AttributeError as e:\n",
        "  print(e)"
      ],
      "metadata": {
        "colab": {
          "base_uri": "https://localhost:8080/"
        },
        "id": "sTLI-3hs6Y50",
        "outputId": "0b8fbe74-407d-4bd1-84c9-73b7b9971c8c"
      },
      "execution_count": 43,
      "outputs": [
        {
          "output_type": "stream",
          "name": "stdout",
          "text": [
            "mustang\n",
            "'Cars' object has no attribute 'price'\n"
          ]
        }
      ]
    },
    {
      "cell_type": "markdown",
      "source": [
        "# import error"
      ],
      "metadata": {
        "id": "6kLEljaRXiDS"
      }
    },
    {
      "cell_type": "code",
      "source": [
        "\n",
        "\n",
        "try :\n",
        "  import satyam \n",
        "except ModuleNotFoundError as e:\n",
        "  print(e)"
      ],
      "metadata": {
        "colab": {
          "base_uri": "https://localhost:8080/"
        },
        "id": "ZS16Ve7S82RJ",
        "outputId": "18b2fc2e-5ce1-49b6-d1ef-6471ecfcb04c"
      },
      "execution_count": 44,
      "outputs": [
        {
          "output_type": "stream",
          "name": "stdout",
          "text": [
            "No module named 'satyam'\n"
          ]
        }
      ]
    },
    {
      "cell_type": "markdown",
      "source": [
        "#Lookup Error"
      ],
      "metadata": {
        "id": "JggtFBCm9KVW"
      }
    },
    {
      "cell_type": "code",
      "source": [
        "# key error\n",
        "\n",
        "try:  \n",
        "    dict = {1:'a', 2:'b', 3:'c'}  \n",
        "    print (dict[4])  \n",
        "\n",
        "except KeyError:  \n",
        "    print (\"Key Error Exception Raised.\")\n",
        "\n",
        "else:  \n",
        "    print (\"Success, no error!\")"
      ],
      "metadata": {
        "colab": {
          "base_uri": "https://localhost:8080/"
        },
        "id": "0JfrTpbg9Pr4",
        "outputId": "0e94b728-710b-4eaa-ad92-f0c10c24b340"
      },
      "execution_count": 57,
      "outputs": [
        {
          "output_type": "stream",
          "name": "stdout",
          "text": [
            "Key Error Exception Raised.\n"
          ]
        }
      ]
    },
    {
      "cell_type": "code",
      "source": [
        "#index error \n",
        "\n",
        "try:  \n",
        "    lst = ['a', 'b', 'c']  \n",
        "    print(lst[4])  \n",
        "\n",
        "except IndexError as e:  \n",
        "    print (e)\n",
        "\n",
        "else:  \n",
        "    print (\"Success, no error!\")"
      ],
      "metadata": {
        "colab": {
          "base_uri": "https://localhost:8080/"
        },
        "id": "LX7HNgkG9X-u",
        "outputId": "08312e47-9be9-49aa-cb03-6df70f0a01e6"
      },
      "execution_count": 51,
      "outputs": [
        {
          "output_type": "stream",
          "name": "stdout",
          "text": [
            "list index out of range\n"
          ]
        }
      ]
    },
    {
      "cell_type": "markdown",
      "source": [
        "#Name Error\n"
      ],
      "metadata": {
        "id": "vUt3_WOf9v8v"
      }
    },
    {
      "cell_type": "code",
      "source": [
        "try:\n",
        "    print(ans)\n",
        "except NameError as e:  \n",
        "    print(e)"
      ],
      "metadata": {
        "colab": {
          "base_uri": "https://localhost:8080/"
        },
        "id": "hYEJVvwOTRk1",
        "outputId": "fce4fb77-bb4d-4cb8-8e48-fe7e0e01c6c8"
      },
      "execution_count": 60,
      "outputs": [
        {
          "output_type": "stream",
          "name": "stdout",
          "text": [
            "name 'ans' is not defined\n"
          ]
        }
      ]
    },
    {
      "cell_type": "markdown",
      "source": [
        "#Value Error"
      ],
      "metadata": {
        "id": "zRAR3k3YVLwr"
      }
    },
    {
      "cell_type": "code",
      "source": [
        "try:\n",
        "    print(float('DataCamp'))\n",
        "except ValueError as e:\n",
        "    print (e)\n"
      ],
      "metadata": {
        "colab": {
          "base_uri": "https://localhost:8080/"
        },
        "id": "xPvQrYR8VhBs",
        "outputId": "ed380a49-7250-4a74-ee95-711549e167e7"
      },
      "execution_count": 64,
      "outputs": [
        {
          "output_type": "stream",
          "name": "stdout",
          "text": [
            "could not convert string to float: 'DataCamp'\n"
          ]
        }
      ]
    },
    {
      "cell_type": "code",
      "source": [],
      "metadata": {
        "id": "TtqOzqOOWIoK"
      },
      "execution_count": null,
      "outputs": []
    }
  ]
}