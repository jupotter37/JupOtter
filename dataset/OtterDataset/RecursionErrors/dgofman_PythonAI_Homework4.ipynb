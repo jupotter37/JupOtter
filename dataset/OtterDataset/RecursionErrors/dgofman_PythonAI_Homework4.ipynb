{
  "nbformat": 4,
  "nbformat_minor": 0,
  "metadata": {
    "colab": {
      "name": "Homework4.ipynb",
      "provenance": [],
      "collapsed_sections": []
    },
    "kernelspec": {
      "name": "python3",
      "display_name": "Python 3"
    },
    "language_info": {
      "name": "python"
    }
  },
  "cells": [
    {
      "cell_type": "markdown",
      "source": [
        "**Questions**"
      ],
      "metadata": {
        "id": "-6bVoIIBAIAu"
      }
    },
    {
      "cell_type": "markdown",
      "source": [
        "**Some problems can be solved through recursion only. True or False?**\n",
        "\n",
        "*True*\n",
        "\n",
        "**Besides recursion, what other approach can you use to solve a problem that is repetitive in nature?**\n",
        "\n",
        "*Using loops is one of the options:* https://wiki.python.org/moin/ForLoop"
      ],
      "metadata": {
        "id": "YaRecWHGAO2_"
      }
    },
    {
      "cell_type": "markdown",
      "source": [
        "**hw4_exercise1**.py"
      ],
      "metadata": {
        "id": "5pxPzaYOA4H0"
      }
    },
    {
      "cell_type": "code",
      "source": [
        "import urllib.request\n",
        "urllib.request.urlretrieve('https://raw.githubusercontent.com/dgofman/PythonAI/main/Homework4/hw4_exercise1.py', '/content/hw4_exercise1.py')\n",
        "\n",
        "import hw4_exercise1 as hw\n",
        "hw.main([None, 5])\n",
        "\n",
        "hw.main([None, 3, '#'])"
      ],
      "metadata": {
        "colab": {
          "base_uri": "https://localhost:8080/"
        },
        "id": "WclWHeswA7cD",
        "outputId": "6b3af82d-2193-4610-8891-88a01fb9e0ba"
      },
      "execution_count": 3,
      "outputs": [
        {
          "output_type": "stream",
          "name": "stdout",
          "text": [
            "\n",
            "*\n",
            "**\n",
            "***\n",
            "****\n",
            "*****\n",
            "\n",
            "#\n",
            "##\n",
            "###\n"
          ]
        }
      ]
    },
    {
      "cell_type": "markdown",
      "source": [
        "**hw4_exercise2**.py"
      ],
      "metadata": {
        "id": "2QtvMFV6BozK"
      }
    },
    {
      "cell_type": "code",
      "source": [
        "import urllib.request\n",
        "urllib.request.urlretrieve('https://raw.githubusercontent.com/dgofman/PythonAI/main/Homework4/hw4_exercise2.py', '/content/hw4_exercise2.py')\n",
        "\n",
        "import hw4_exercise2 as hw\n",
        "hw.main()"
      ],
      "metadata": {
        "colab": {
          "base_uri": "https://localhost:8080/"
        },
        "id": "VdnHcBr9Brvg",
        "outputId": "38345224-4d19-4b73-f0e0-f03eb23d32bd"
      },
      "execution_count": 1,
      "outputs": [
        {
          "output_type": "stream",
          "name": "stdout",
          "text": [
            "The largest value in the list: 9\n"
          ]
        }
      ]
    },
    {
      "cell_type": "markdown",
      "source": [
        "**hw4_exercise3**.py"
      ],
      "metadata": {
        "id": "VT7hhckoCjSP"
      }
    },
    {
      "cell_type": "code",
      "source": [
        "import urllib.request\n",
        "urllib.request.urlretrieve('https://raw.githubusercontent.com/dgofman/PythonAI/main/Homework4/hw4_exercise3.py', '/content/hw4_exercise3.py')\n",
        "\n",
        "import hw4_exercise3 as hw\n",
        "hw.main([None, 50])\n",
        "hw.main([None, 10])"
      ],
      "metadata": {
        "colab": {
          "base_uri": "https://localhost:8080/"
        },
        "id": "tUmmMzNmCo6l",
        "outputId": "2c955f6c-5b73-4376-eeec-770f635dbe11"
      },
      "execution_count": 4,
      "outputs": [
        {
          "output_type": "stream",
          "name": "stdout",
          "text": [
            "The sum of 50 = 1275\n",
            "The sum of 10 = 55\n"
          ]
        }
      ]
    },
    {
      "cell_type": "markdown",
      "source": [
        "**hw4_exercise4**.py"
      ],
      "metadata": {
        "id": "MIroXYCnDBTr"
      }
    },
    {
      "cell_type": "code",
      "source": [
        "import urllib.request\n",
        "urllib.request.urlretrieve('https://raw.githubusercontent.com/dgofman/PythonAI/main/Homework4/hw4_exercise4.py', '/content/hw4_exercise4.py')\n",
        "\n",
        "import hw4_exercise4 as hw\n",
        "hw.main([None, 1, 1])\n",
        "hw.main([None, 2, 1])\n",
        "hw.main([None, 3, 1])\n",
        "hw.main([None, 4, 1])"
      ],
      "metadata": {
        "id": "W7K0MooUDFFX",
        "outputId": "f44e4f98-ee60-49e6-9286-c4142f999634",
        "colab": {
          "base_uri": "https://localhost:8080/"
        }
      },
      "execution_count": 2,
      "outputs": [
        {
          "output_type": "stream",
          "name": "stdout",
          "text": [
            "3\n",
            "5\n",
            "13\n",
            "\u001b[91m RecursionError: maximum recursion depth exceeded in comparison\u001b[00m\n"
          ]
        }
      ]
    }
  ]
}