{
 "cells": [
  {
   "cell_type": "markdown",
   "id": "9ac70a89",
   "metadata": {
    "slideshow": {
     "slide_type": "skip"
    }
   },
   "source": [
    "**note**: for anyone trying to view this as a slideshow, run 'pip install rise', reload your notebook, then click on the button that looks like a bar graph to the right of the command palette at the top."
   ]
  },
  {
   "cell_type": "markdown",
   "id": "0aaa7f3e",
   "metadata": {
    "slideshow": {
     "slide_type": "slide"
    }
   },
   "source": [
    "<center><h1>Discussion 6</h1></center>\n",
    "<center><h2>DSC 20, Fall 2023</h2><center>"
   ]
  },
  {
   "cell_type": "markdown",
   "id": "172f9b03",
   "metadata": {
    "slideshow": {
     "slide_type": "slide"
    }
   },
   "source": [
    "<center><h3>Meme of the Week</h3></center>\n",
    "<br>\n",
    "\n",
    "<center><img src='imgs/meme.png' width = 600></center>"
   ]
  },
  {
   "cell_type": "markdown",
   "id": "c8f91290",
   "metadata": {
    "slideshow": {
     "slide_type": "slide"
    }
   },
   "source": [
    "<center><h3>Agenda</h3></center>\n",
    "<ul>\n",
    "    <li> <b style = 'color:blue'>Complexity</b> - Math Review, Interpretation, Calculation</li>\n",
    "    <li> <b style = 'color:blue'>Recursion</b> - Base Case, Recursive Calls, Logic </li>\n",
    "</ul>"
   ]
  },
  {
   "cell_type": "markdown",
   "id": "fc582f61",
   "metadata": {
    "slideshow": {
     "slide_type": "slide"
    }
   },
   "source": [
    "<center><h3>Complexity</h3></center>\n",
    "<br>\n",
    "\n",
    "<center>Time complexity is an empirical method to measure the efficiency of code. Since everyone's computer is different, we can't compare code with actual numbers. Instead, we classify them into different runtime categories that allow us to infer its runtime relative to our input.</center>\n",
    "<br>\n",
    "\n",
    "<center><img src = 'imgs/cat_math.gif' width=500></center>"
   ]
  },
  {
   "cell_type": "markdown",
   "id": "58b796c3",
   "metadata": {
    "slideshow": {
     "slide_type": "slide"
    }
   },
   "source": [
    "<center><h3>Complexity Fundamentals</h3></center>\n",
    "\n",
    "1. Code should be quantified into big O values\n",
    "\n",
    "2. Nested code will have compounded big O values\n",
    "\n",
    "3. The largest term dictates the growth rate (i.e. only largest term matters)\n",
    "\n",
    "4. Constants are irrelevant\n",
    "\n",
    "5. big O analysis uses similar ideas to calculus and limits - reference your math knowledge\n"
   ]
  },
  {
   "cell_type": "markdown",
   "id": "fa6ad4f9",
   "metadata": {
    "slideshow": {
     "slide_type": "slide"
    }
   },
   "source": [
    "<center><h3>Complexity - Basic Interpretation</h3></center>"
   ]
  },
  {
   "cell_type": "markdown",
   "id": "41db42ff",
   "metadata": {
    "slideshow": {
     "slide_type": "fragment"
    }
   },
   "source": [
    "Operations that take a <b>constant</b> time to run and run at the same speed regardless of input size -> $O(1)$"
   ]
  },
  {
   "cell_type": "code",
   "execution_count": null,
   "id": "e9cc2a0c",
   "metadata": {
    "slideshow": {
     "slide_type": "fragment"
    }
   },
   "outputs": [],
   "source": [
    "1 + 1 + 1 + 1 + 1 # O(1)"
   ]
  },
  {
   "cell_type": "markdown",
   "id": "43bd90e0",
   "metadata": {
    "slideshow": {
     "slide_type": "fragment"
    }
   },
   "source": [
    "A statement that takes <b>linear</b> time to run will increase linearly with the size of input -> $O(n)$"
   ]
  },
  {
   "cell_type": "code",
   "execution_count": null,
   "id": "589e9870",
   "metadata": {
    "slideshow": {
     "slide_type": "fragment"
    }
   },
   "outputs": [],
   "source": [
    "for _ in range(n): # O(n)\n",
    "    print(n) "
   ]
  },
  {
   "cell_type": "markdown",
   "id": "fc3377da",
   "metadata": {
    "slideshow": {
     "slide_type": "slide"
    }
   },
   "source": [
    "<center><h3>Complexity - Basic Interpretation (Cont.)</h3></center>"
   ]
  },
  {
   "cell_type": "markdown",
   "id": "2bdffa24",
   "metadata": {
    "slideshow": {
     "slide_type": "fragment"
    }
   },
   "source": [
    "A statement that takes <b>quadratic</b> time to run will increase quadratically with the size of input -> $O(n^2)$"
   ]
  },
  {
   "cell_type": "code",
   "execution_count": null,
   "id": "511d2932",
   "metadata": {
    "slideshow": {
     "slide_type": "fragment"
    }
   },
   "outputs": [],
   "source": [
    "for i in range(x): # O(n^2)\n",
    "    for j in range(y): \n",
    "        print(i + j)"
   ]
  },
  {
   "cell_type": "markdown",
   "id": "e5801ddf",
   "metadata": {
    "slideshow": {
     "slide_type": "fragment"
    }
   },
   "source": [
    "A statement that takes <b>logarithmic</b> time to run will increase logarithmically with the size of input -> $O(logn)$"
   ]
  },
  {
   "cell_type": "code",
   "execution_count": null,
   "id": "22f621e8",
   "metadata": {
    "slideshow": {
     "slide_type": "fragment"
    }
   },
   "outputs": [],
   "source": [
    "i = n\n",
    "while i > 0: # O(log(n))\n",
    "    i = i // 2"
   ]
  },
  {
   "cell_type": "markdown",
   "id": "7be02713",
   "metadata": {
    "slideshow": {
     "slide_type": "slide"
    }
   },
   "source": [
    "<center><h3>Complexity - Basic Interpretation (Cont.)</h3></center>\n",
    "\n",
    "<center>These are very basic examples. Just because there's a nested for loop does not necessarily mean that the runtime is O(n^2). Runtime depends on the number of iterations happening and the cost of each calculation. For example, every function you've used in this class so far has a specific runtime -> sorting is usually $O(nlogn)$\n",
    "    </center>"
   ]
  },
  {
   "cell_type": "markdown",
   "id": "7982b8c4",
   "metadata": {
    "slideshow": {
     "slide_type": "slide"
    }
   },
   "source": [
    "<center><h3 style='color:blue'>Checkpoint</h3></center>\n",
    "<center> What is the runtime of the following function?</center>"
   ]
  },
  {
   "cell_type": "code",
   "execution_count": 24,
   "id": "dee1bcf9",
   "metadata": {
    "slideshow": {
     "slide_type": "fragment"
    }
   },
   "outputs": [],
   "source": [
    "def boo(lst):\n",
    "    for i in lst:\n",
    "        for j in 1000:\n",
    "            print(i + j)"
   ]
  },
  {
   "cell_type": "markdown",
   "id": "91b5e8d8",
   "metadata": {
    "slideshow": {
     "slide_type": "slide"
    }
   },
   "source": [
    "<center><h3 style='color:blue'>Checkpoint Solution</h3></center>"
   ]
  },
  {
   "cell_type": "markdown",
   "id": "3c15325e",
   "metadata": {
    "slideshow": {
     "slide_type": "fragment"
    }
   },
   "source": [
    "<center><b style = 'color:blue'>Solution:</b> $O(n)$</center>\n",
    "<br>\n",
    "<center>The second for loop is a bait! The outer loop grows linearly with the input, but the second loop is constant.</center>"
   ]
  },
  {
   "cell_type": "code",
   "execution_count": null,
   "id": "36aec16d",
   "metadata": {
    "slideshow": {
     "slide_type": "fragment"
    }
   },
   "outputs": [],
   "source": [
    "def boo(lst):\n",
    "    for i in lst: # O(n)\n",
    "        for j in 1000: # O(1)\n",
    "            print(i + j) # O(1)"
   ]
  },
  {
   "cell_type": "markdown",
   "id": "54d98642",
   "metadata": {
    "slideshow": {
     "slide_type": "fragment"
    }
   },
   "source": [
    "<center>$O$(boo) = $O(n*1000*1) = O(n)$</center>"
   ]
  },
  {
   "cell_type": "markdown",
   "id": "44174b5f",
   "metadata": {
    "slideshow": {
     "slide_type": "slide"
    }
   },
   "source": [
    "<center><h3>Complexity - Calculation</h3></center>\n",
    "\n",
    "<b style='color:blue'>tips</b>:\n",
    "1. Always look for \"hallmark features\" (ex. if I see i // 2, there's probably log involved)\n",
    "2. If there are loops, check the iteration count (don't assume n runtime)\n",
    "3. Order of Growth follows mathematical principles. Only consider the largest term\n",
    "\n",
    "<center><img src='imgs/graph_ref.png' width = 600></center>\n",
    "<center><a href='https://www.bigocheatsheet.com/'>source</a></center>"
   ]
  },
  {
   "cell_type": "markdown",
   "id": "f5b15b31",
   "metadata": {
    "slideshow": {
     "slide_type": "slide"
    }
   },
   "source": [
    "<center><h3 style='color:blue'>Checkpoint</h3></center>\n",
    "\n",
    "<center>Determine the time complexity of the following function</center>"
   ]
  },
  {
   "cell_type": "code",
   "execution_count": 9,
   "id": "2e3d1653",
   "metadata": {
    "slideshow": {
     "slide_type": "fragment"
    }
   },
   "outputs": [],
   "source": [
    "def bubble_sort(arr):\n",
    "    \"\"\"\n",
    "    function that sorts a list of values.\n",
    "    \"\"\"\n",
    "    n = len(arr)\n",
    "    for i in range(n):\n",
    "        for j in range(n - 1):\n",
    "            if arr[j] > arr[j + 1]:\n",
    "                arr[j], arr[j + 1] = arr[j + 1], arr[j]\n",
    "    return arr"
   ]
  },
  {
   "cell_type": "markdown",
   "id": "0a3d2d77",
   "metadata": {
    "slideshow": {
     "slide_type": "slide"
    }
   },
   "source": [
    "<center><h3 style='color:blue'>Checkpoint Solution</h3></center>"
   ]
  },
  {
   "cell_type": "markdown",
   "id": "61e8d169",
   "metadata": {
    "slideshow": {
     "slide_type": "fragment"
    }
   },
   "source": [
    "<center><b style = 'color:blue'>Solution:</b> $O(n^2)$</center>\n",
    "<br>\n",
    "<center>Outer for loop, which runs $n$ times. Inner for loop that runs $n-1$ times. Within these 2 for loops, operations are all constant.</center>"
   ]
  },
  {
   "cell_type": "code",
   "execution_count": null,
   "id": "c4b305e1",
   "metadata": {
    "slideshow": {
     "slide_type": "fragment"
    }
   },
   "outputs": [],
   "source": [
    "def bubble_sort(arr):\n",
    "    n = len(arr) # O(1)\n",
    "    for i in range(n): # O(n)\n",
    "        for j in range(n - 1): # O(n-1)\n",
    "            if arr[j] > arr[j + 1]: # O(1)\n",
    "                arr[j], arr[j + 1] = arr[j + 1], arr[j]\n",
    "    return arr"
   ]
  },
  {
   "cell_type": "markdown",
   "id": "01f07c2f",
   "metadata": {
    "slideshow": {
     "slide_type": "fragment"
    }
   },
   "source": [
    "<center>$O$(bubble_sort) = $O(1 + n*(n-1)*1) = O(n^2 - n + 1) = O(n^2)$</center>"
   ]
  },
  {
   "cell_type": "markdown",
   "id": "0d0867ab",
   "metadata": {
    "slideshow": {
     "slide_type": "slide"
    }
   },
   "source": [
    "<center><h3 style='color:blue'>Checkpoint</h3></center>\n",
    "\n",
    "<center>Determine the time complexity of the following function</center>"
   ]
  },
  {
   "cell_type": "code",
   "execution_count": 11,
   "id": "69153054",
   "metadata": {
    "slideshow": {
     "slide_type": "fragment"
    }
   },
   "outputs": [],
   "source": [
    "def most_frequent_numbers(arr):\n",
    "    \"\"\"\n",
    "    function to find the two numbers that \n",
    "    appear most frequently in the list.\n",
    "    \"\"\"\n",
    "    nums_dict = {}\n",
    "    for num in arr:\n",
    "        if num in nums_dict:\n",
    "            nums_dict[num] += 1\n",
    "        else:\n",
    "            nums_dict[num] = 1\n",
    "    most_frequent = sorted(nums_dict.items(), key=lambda x: x[1], reverse=True)[:2]\n",
    "    return [num[0] for num in most_frequent]"
   ]
  },
  {
   "cell_type": "markdown",
   "id": "26a1c516",
   "metadata": {
    "slideshow": {
     "slide_type": "slide"
    }
   },
   "source": [
    "<center><h3 style='color:blue'>Checkpoint Solution</h3></center>"
   ]
  },
  {
   "cell_type": "markdown",
   "id": "18a1634d",
   "metadata": {
    "slideshow": {
     "slide_type": "fragment"
    }
   },
   "source": [
    "<center><b style = 'color:blue'>Solution:</b> $O(nlogn)$</center>\n",
    "<br>\n",
    "\n",
    "<center>Outer for loop, which runs $n$ times. Within the loop, operations are all $O(1)$. Outside of the loop, sorted() is called, which is a sorting algorithm with time complexity of $O(nlogn)$.</center>"
   ]
  },
  {
   "cell_type": "code",
   "execution_count": null,
   "id": "b68823b4",
   "metadata": {
    "slideshow": {
     "slide_type": "fragment"
    }
   },
   "outputs": [],
   "source": [
    "def most_frequent_numbers(arr):\n",
    "    nums_dict = {}\n",
    "    for num in arr: # O(n)\n",
    "        if num in nums_dict: # O(1)\n",
    "            nums_dict[num] += 1\n",
    "        else:\n",
    "            nums_dict[num] = 1\n",
    "    #O(nlogn)\n",
    "    most_frequent = sorted(nums_dict.items(), \\\n",
    "           key=lambda x: x[1], reverse=True)[:2]\n",
    "    return [num[0] for num in most_frequent]"
   ]
  },
  {
   "cell_type": "markdown",
   "id": "a827ac0c",
   "metadata": {
    "slideshow": {
     "slide_type": "fragment"
    }
   },
   "source": [
    "<center>$O$(most_frequent_numbers) = $O(n*1 + nlogn) = O(nlogn)$</center>"
   ]
  },
  {
   "cell_type": "markdown",
   "id": "d7e87f59",
   "metadata": {
    "slideshow": {
     "slide_type": "slide"
    }
   },
   "source": [
    "<center><h3>Recursion</h3></center>\n",
    "<br>\n",
    "\n",
    "<center>Recursion is a design method for code - it refers to a class of functions that call on itself repeatedly. A lot of important ideas' optimal solutions are recursive and many algorithms depend on recursion to function correctly (ex. BFS, DFS, Dijkstra's algorithm, BST's). You can't escape it :)</center>\n",
    "\n",
    "<center><img src = 'imgs/infinity_cat.gif' width=500></center>"
   ]
  },
  {
   "cell_type": "markdown",
   "id": "d9440d66",
   "metadata": {
    "slideshow": {
     "slide_type": "slide"
    }
   },
   "source": [
    "<center><h3>Recursion - Base Case</h3></center>\n",
    "\n",
    "<center> Base case(s) are regarded as the most important part of a recursive function. They determine the stop point for recursion and begin the argument passing up the \"stack\" of recursive calls. Without a well written base case, recursion will either never end or end incorrectly. When writing recursion questions, always start with determining the base case. </center>"
   ]
  },
  {
   "cell_type": "markdown",
   "id": "2ff3f6f5",
   "metadata": {
    "slideshow": {
     "slide_type": "fragment"
    }
   },
   "source": [
    "<center><h3>Recursion - Recursive Calls</h3></center>\n",
    "\n",
    "<center>The crux of a recursive function working is the recursive calls. These calls will repeat until the base case is reached, creating the \"stack\" of recursive calls that will begin resolving at the base case. Keep in mind when writing recursive calls that every call needs to trend towards the base case.</center>"
   ]
  },
  {
   "cell_type": "markdown",
   "id": "f9ac9c3e",
   "metadata": {
    "slideshow": {
     "slide_type": "slide"
    }
   },
   "source": [
    "<center><h3>Recursion - Example</h3></center>"
   ]
  },
  {
   "cell_type": "code",
   "execution_count": 26,
   "id": "b5d1a370",
   "metadata": {
    "slideshow": {
     "slide_type": "fragment"
    }
   },
   "outputs": [],
   "source": [
    "def list_product(lst):\n",
    "    \"\"\"\n",
    "    recursive function to find the product of every\n",
    "    element in a list. Discuss recursive structure\n",
    "    \"\"\"\n",
    "    if len(lst)==0: # base case\n",
    "        return 1\n",
    "    else: # recursive call\n",
    "        return list_product(lst[1:]) * lst[0]"
   ]
  },
  {
   "cell_type": "code",
   "execution_count": 27,
   "id": "b2816edd",
   "metadata": {
    "slideshow": {
     "slide_type": "fragment"
    }
   },
   "outputs": [
    {
     "data": {
      "text/plain": [
       "6"
      ]
     },
     "execution_count": 27,
     "metadata": {},
     "output_type": "execute_result"
    }
   ],
   "source": [
    "list_product([1,2,3])"
   ]
  },
  {
   "cell_type": "markdown",
   "id": "c3b6b98a",
   "metadata": {
    "slideshow": {
     "slide_type": "slide"
    }
   },
   "source": [
    "<center><h3>Recursion - Tracing Logic</h3></center>\n",
    "<center><img src='imgs/recursion_trace.png' width=600></center>\n",
    "\n",
    "<center>The recurisve calls of the function generates a \"stack\" of recursive functions to resolve, each waiting for the result from the next until it can be solved. No resolution can happen until the base case is reached and returns the iniital value.</center>\n",
    "\n",
    "<center><a href='https://pythontutor.com/visualize.html#code=def%20list_product%28lst%29%3A%0A%20%20%20%20%22%22%22%0A%20%20%20%20recursive%20function%20to%20find%20the%20product%20of%20every%0A%20%20%20%20element%20in%20a%20list.%20Discuss%20recursive%20structure%0A%20%20%20%20%22%22%22%0A%20%20%20%20if%20len%28lst%29%3D%3D0%3A%0A%20%20%20%20%20%20%20%20return%201%0A%20%20%20%20else%3A%0A%20%20%20%20%20%20%20%20return%20list_product%28lst%5B1%3A%5D%29%20*%20lst%5B0%5D%0A%20%20%20%20%20%20%20%20%0Aprint%28list_product%28%5B1,2,3%5D%29%29&cumulative=false&heapPrimitives=nevernest&mode=edit&origin=opt-frontend.js&py=3&rawInputLstJSON=%5B%5D&textReferences=false'> link </a></center>"
   ]
  },
  {
   "cell_type": "markdown",
   "id": "73182961",
   "metadata": {
    "slideshow": {
     "slide_type": "slide"
    }
   },
   "source": [
    "<center><h3>Recursion - Bad Base Case</h3></center>"
   ]
  },
  {
   "cell_type": "code",
   "execution_count": 2,
   "id": "4d771bb1",
   "metadata": {
    "slideshow": {
     "slide_type": "fragment"
    }
   },
   "outputs": [
    {
     "ename": "RecursionError",
     "evalue": "maximum recursion depth exceeded while calling a Python object",
     "output_type": "error",
     "traceback": [
      "\u001b[0;31m---------------------------------------------------------------------------\u001b[0m",
      "\u001b[0;31mRecursionError\u001b[0m                            Traceback (most recent call last)",
      "Cell \u001b[0;32mIn[2], line 5\u001b[0m\n\u001b[1;32m      3\u001b[0m         \u001b[38;5;28;01mreturn\u001b[39;00m \u001b[38;5;241m1\u001b[39m\n\u001b[1;32m      4\u001b[0m     \u001b[38;5;28;01mreturn\u001b[39;00m list_product_wrong(lst[\u001b[38;5;241m1\u001b[39m:]) \u001b[38;5;241m*\u001b[39m lst[\u001b[38;5;241m0\u001b[39m]\n\u001b[0;32m----> 5\u001b[0m \u001b[43mlist_product_wrong\u001b[49m\u001b[43m(\u001b[49m\u001b[43m[\u001b[49m\u001b[38;5;241;43m1\u001b[39;49m\u001b[43m,\u001b[49m\u001b[38;5;241;43m2\u001b[39;49m\u001b[43m,\u001b[49m\u001b[38;5;241;43m3\u001b[39;49m\u001b[43m]\u001b[49m\u001b[43m)\u001b[49m\n",
      "Cell \u001b[0;32mIn[2], line 4\u001b[0m, in \u001b[0;36mlist_product_wrong\u001b[0;34m(lst)\u001b[0m\n\u001b[1;32m      2\u001b[0m \u001b[38;5;28;01mif\u001b[39;00m \u001b[38;5;28mlen\u001b[39m(lst)\u001b[38;5;241m==\u001b[39m\u001b[38;5;241m-\u001b[39m\u001b[38;5;241m1\u001b[39m:\n\u001b[1;32m      3\u001b[0m     \u001b[38;5;28;01mreturn\u001b[39;00m \u001b[38;5;241m1\u001b[39m\n\u001b[0;32m----> 4\u001b[0m \u001b[38;5;28;01mreturn\u001b[39;00m \u001b[43mlist_product_wrong\u001b[49m\u001b[43m(\u001b[49m\u001b[43mlst\u001b[49m\u001b[43m[\u001b[49m\u001b[38;5;241;43m1\u001b[39;49m\u001b[43m:\u001b[49m\u001b[43m]\u001b[49m\u001b[43m)\u001b[49m \u001b[38;5;241m*\u001b[39m lst[\u001b[38;5;241m0\u001b[39m]\n",
      "Cell \u001b[0;32mIn[2], line 4\u001b[0m, in \u001b[0;36mlist_product_wrong\u001b[0;34m(lst)\u001b[0m\n\u001b[1;32m      2\u001b[0m \u001b[38;5;28;01mif\u001b[39;00m \u001b[38;5;28mlen\u001b[39m(lst)\u001b[38;5;241m==\u001b[39m\u001b[38;5;241m-\u001b[39m\u001b[38;5;241m1\u001b[39m:\n\u001b[1;32m      3\u001b[0m     \u001b[38;5;28;01mreturn\u001b[39;00m \u001b[38;5;241m1\u001b[39m\n\u001b[0;32m----> 4\u001b[0m \u001b[38;5;28;01mreturn\u001b[39;00m \u001b[43mlist_product_wrong\u001b[49m\u001b[43m(\u001b[49m\u001b[43mlst\u001b[49m\u001b[43m[\u001b[49m\u001b[38;5;241;43m1\u001b[39;49m\u001b[43m:\u001b[49m\u001b[43m]\u001b[49m\u001b[43m)\u001b[49m \u001b[38;5;241m*\u001b[39m lst[\u001b[38;5;241m0\u001b[39m]\n",
      "    \u001b[0;31m[... skipping similar frames: list_product_wrong at line 4 (2969 times)]\u001b[0m\n",
      "Cell \u001b[0;32mIn[2], line 4\u001b[0m, in \u001b[0;36mlist_product_wrong\u001b[0;34m(lst)\u001b[0m\n\u001b[1;32m      2\u001b[0m \u001b[38;5;28;01mif\u001b[39;00m \u001b[38;5;28mlen\u001b[39m(lst)\u001b[38;5;241m==\u001b[39m\u001b[38;5;241m-\u001b[39m\u001b[38;5;241m1\u001b[39m:\n\u001b[1;32m      3\u001b[0m     \u001b[38;5;28;01mreturn\u001b[39;00m \u001b[38;5;241m1\u001b[39m\n\u001b[0;32m----> 4\u001b[0m \u001b[38;5;28;01mreturn\u001b[39;00m \u001b[43mlist_product_wrong\u001b[49m\u001b[43m(\u001b[49m\u001b[43mlst\u001b[49m\u001b[43m[\u001b[49m\u001b[38;5;241;43m1\u001b[39;49m\u001b[43m:\u001b[49m\u001b[43m]\u001b[49m\u001b[43m)\u001b[49m \u001b[38;5;241m*\u001b[39m lst[\u001b[38;5;241m0\u001b[39m]\n",
      "Cell \u001b[0;32mIn[2], line 2\u001b[0m, in \u001b[0;36mlist_product_wrong\u001b[0;34m(lst)\u001b[0m\n\u001b[1;32m      1\u001b[0m \u001b[38;5;28;01mdef\u001b[39;00m \u001b[38;5;21mlist_product_wrong\u001b[39m(lst):\n\u001b[0;32m----> 2\u001b[0m     \u001b[38;5;28;01mif\u001b[39;00m \u001b[38;5;28;43mlen\u001b[39;49m\u001b[43m(\u001b[49m\u001b[43mlst\u001b[49m\u001b[43m)\u001b[49m\u001b[38;5;241m==\u001b[39m\u001b[38;5;241m-\u001b[39m\u001b[38;5;241m1\u001b[39m:\n\u001b[1;32m      3\u001b[0m         \u001b[38;5;28;01mreturn\u001b[39;00m \u001b[38;5;241m1\u001b[39m\n\u001b[1;32m      4\u001b[0m     \u001b[38;5;28;01mreturn\u001b[39;00m list_product_wrong(lst[\u001b[38;5;241m1\u001b[39m:]) \u001b[38;5;241m*\u001b[39m lst[\u001b[38;5;241m0\u001b[39m]\n",
      "\u001b[0;31mRecursionError\u001b[0m: maximum recursion depth exceeded while calling a Python object"
     ]
    }
   ],
   "source": [
    "def list_product_wrong(lst):\n",
    "    if len(lst)==-1:\n",
    "        return 1\n",
    "    return list_product_wrong(lst[1:]) * lst[0]\n",
    "list_product_wrong([1,2,3])"
   ]
  },
  {
   "cell_type": "markdown",
   "id": "f8bba235",
   "metadata": {
    "slideshow": {
     "slide_type": "slide"
    }
   },
   "source": [
    "<center><h3 style='color:blue'>Checkpoint</h3></center>\n",
    "\n",
    "<center>What should the base case be? What should the recursive call be?</center>"
   ]
  },
  {
   "cell_type": "code",
   "execution_count": 28,
   "id": "ff62f0ec",
   "metadata": {
    "slideshow": {
     "slide_type": "fragment"
    }
   },
   "outputs": [],
   "source": [
    "def reverse_recursive(s):\n",
    "    \"\"\"\n",
    "    Recursive function to reverse a string\n",
    "    \n",
    "    args:\n",
    "        s(string): string to be reversed\n",
    "    returns:\n",
    "        reversed string\n",
    "    \n",
    "    >>> reverse_recursive('siolgnal aniram')\n",
    "    marina langlois\n",
    "    \"\"\"\n",
    "    # your implementation here"
   ]
  },
  {
   "cell_type": "markdown",
   "id": "b742ae44",
   "metadata": {
    "slideshow": {
     "slide_type": "slide"
    }
   },
   "source": [
    "<center><h3 style='color:blue'>Checkpoint Solution</h3></center>"
   ]
  },
  {
   "cell_type": "code",
   "execution_count": 32,
   "id": "c385d18d",
   "metadata": {
    "slideshow": {
     "slide_type": "fragment"
    }
   },
   "outputs": [
    {
     "name": "stdout",
     "output_type": "stream",
     "text": [
      "marina langlois\n"
     ]
    }
   ],
   "source": [
    "def reverse_recursive(s):\n",
    "    if len(s) == 0: # can be 0 or 1\n",
    "        return s\n",
    "    else:\n",
    "        return s[-1] + reverse_recursive(s[:-1])\n",
    "\n",
    "print(reverse_recursive('siolgnal aniram'))"
   ]
  },
  {
   "cell_type": "markdown",
   "id": "6c75fcea",
   "metadata": {
    "slideshow": {
     "slide_type": "slide"
    }
   },
   "source": [
    "<center><h2>practice questions</h2></center>\n",
    "<br>\n",
    "<center>Time to do some practice questions! Take about 10-15 minutes to work on the questions. Feel free to flag me down if you need help/clarification.</center>\n",
    "<br>\n",
    "<center> If you finish early, head over to gradescope and complete the discussion attendance assignment </center>"
   ]
  },
  {
   "cell_type": "code",
   "execution_count": 15,
   "id": "fdf3fb1c",
   "metadata": {
    "slideshow": {
     "slide_type": "skip"
    }
   },
   "outputs": [],
   "source": [
    "def complexity(x):\n",
    "    total = 1\n",
    "    k_sum = 0\n",
    "    \n",
    "    for i in range(x): \n",
    "        for j in range(x**2, x**2 + 5*x - 50):\n",
    "            total += j\n",
    "        k = x\n",
    "        while k > 0:\n",
    "            k = k // 2\n",
    "            k_sum += k\n",
    "    \n",
    "    return total, k_sum\n",
    "\n",
    "def recursive_len(lst):\n",
    "    \"\"\"\n",
    "    Write a recursive version of built-in len function.\n",
    "    \n",
    "    >>> recursive_len([1,2,3])\n",
    "    3\n",
    "    >>> recursive_len([])\n",
    "    0\n",
    "    \"\"\"\n",
    "    # Write your implementation here\n",
    "    return\n",
    "\n",
    "def recursive_factorial(num):\n",
    "    \"\"\"\n",
    "    Write a recursive function calculating the factorial\n",
    "    of a number.\n",
    "    \n",
    "    >>> recursive_factorial(5)\n",
    "    120\n",
    "    >>> recursive_factorial(0)\n",
    "    1\n",
    "    \"\"\"\n",
    "    # Write your implementation here\n",
    "    return\n",
    "        \n",
    "    \n",
    "# maybe too much\n",
    "def recursive_palindrome(word):\n",
    "    \"\"\"\n",
    "    Write a recursive function to check if a string \n",
    "    is a palindrome (same word reversed).\n",
    "    \n",
    "    args:\n",
    "        word (string): string to be considered\n",
    "        \n",
    "    returns: \n",
    "        True if it's a palindrome, false otherwise.\n",
    "    \n",
    "    >>> is_palindrome('racecar')\n",
    "    True\n",
    "    >>> is_palindrome('chatgpt')\n",
    "    False\n",
    "    \"\"\"\n",
    "    # Write your implementation here\n",
    "    return"
   ]
  },
  {
   "cell_type": "markdown",
   "id": "43d12f5d",
   "metadata": {
    "slideshow": {
     "slide_type": "slide"
    }
   },
   "source": [
    "<center><h2>practice question solutions</h2></center>"
   ]
  },
  {
   "cell_type": "markdown",
   "id": "d1e2ff94",
   "metadata": {
    "slideshow": {
     "slide_type": "slide"
    }
   },
   "source": [
    "<center>What do the following runtime expressions evaluate to?</center>"
   ]
  },
  {
   "cell_type": "markdown",
   "id": "97726304",
   "metadata": {
    "slideshow": {
     "slide_type": "fragment"
    }
   },
   "source": [
    "$O(2n + nlogn + \\sqrt{n} + 100) = O(nlogn)$"
   ]
  },
  {
   "cell_type": "markdown",
   "id": "33cbb238",
   "metadata": {
    "slideshow": {
     "slide_type": "fragment"
    }
   },
   "source": [
    "$O(n! + 2^n + n^2 + 999 + n^n)$ = $O(n^n)$"
   ]
  },
  {
   "cell_type": "markdown",
   "id": "6dac1228",
   "metadata": {
    "slideshow": {
     "slide_type": "fragment"
    }
   },
   "source": [
    "$O(n^3 + n^2\\sqrt{n} + 9999n)$ = $O(n^3)$"
   ]
  },
  {
   "cell_type": "markdown",
   "id": "78b1e166",
   "metadata": {
    "slideshow": {
     "slide_type": "slide"
    }
   },
   "source": [
    "What is the runtime complexity of the following function?"
   ]
  },
  {
   "cell_type": "code",
   "execution_count": 38,
   "id": "192b600e",
   "metadata": {
    "slideshow": {
     "slide_type": "fragment"
    }
   },
   "outputs": [],
   "source": [
    "def complexity(x):\n",
    "    total = 1\n",
    "    k_sum = 0\n",
    "    \n",
    "    for i in range(x): \n",
    "        for j in range(x**2, x**2 + 5*x - 50):\n",
    "            total += j\n",
    "        k = x\n",
    "        while k > 0:\n",
    "            k = k // 2\n",
    "            k_sum += k\n",
    "    \n",
    "    return total, k_sum"
   ]
  },
  {
   "cell_type": "markdown",
   "id": "99c97bd2",
   "metadata": {
    "slideshow": {
     "slide_type": "slide"
    }
   },
   "source": [
    "<center><b style = 'color:blue'>Solution:</b> $O(n^2)$</center>\n",
    "\n",
    "<center>Outer for loop which runs $n$ times. Inner for loop that runs for $(n^2 + 5*n - 50) - n^2 = 5*n - 50$ times. Inner while loop that runs $logn$ times. All other operations are constant.</center>"
   ]
  },
  {
   "cell_type": "code",
   "execution_count": 37,
   "id": "e6aea70f",
   "metadata": {
    "slideshow": {
     "slide_type": "fragment"
    }
   },
   "outputs": [],
   "source": [
    "def complexity(x):\n",
    "    total = 1\n",
    "    k_sum = 0\n",
    "    \n",
    "    for i in range(x): # O(n)\n",
    "        for j in range(x**2, x**2 + 5*x - 50): # O(n)\n",
    "            total += j\n",
    "        k = x\n",
    "        while k > 0: # O(logn)\n",
    "            k = k // 2\n",
    "            k_sum += k\n",
    "    \n",
    "    return total, k_sum"
   ]
  },
  {
   "cell_type": "markdown",
   "id": "6b1bacd9",
   "metadata": {
    "slideshow": {
     "slide_type": "fragment"
    }
   },
   "source": [
    "<center>$O$(complexity) = $O(n((n^2 + 5n - 50 - n^2) + logn)) = O(n((5n - 50) + logn)) = O(5n^2 - 50n + nlogn) = O(n^2)$</center>"
   ]
  },
  {
   "cell_type": "code",
   "execution_count": 34,
   "id": "55d353e3",
   "metadata": {
    "slideshow": {
     "slide_type": "slide"
    }
   },
   "outputs": [
    {
     "name": "stdout",
     "output_type": "stream",
     "text": [
      "3\n",
      "0\n"
     ]
    }
   ],
   "source": [
    "def recursive_len(lst):\n",
    "    \"\"\"\n",
    "    recursive version of built-in len function.\n",
    "    \n",
    "    >>> recursive_len([1,2,3])\n",
    "    3\n",
    "    >>> recursive_len([])\n",
    "    0\n",
    "    \"\"\"\n",
    "    if not lst:\n",
    "        return 0\n",
    "    else:\n",
    "        return 1 + recursive_len(lst[1:])\n",
    "print(recursive_len([1,2,3]))\n",
    "print(recursive_len([]))"
   ]
  },
  {
   "cell_type": "code",
   "execution_count": 4,
   "id": "f4e10154",
   "metadata": {
    "slideshow": {
     "slide_type": "skip"
    }
   },
   "outputs": [
    {
     "name": "stdout",
     "output_type": "stream",
     "text": [
      "120\n",
      "0\n"
     ]
    }
   ],
   "source": [
    "def foo(num):\n",
    "    if not num:\n",
    "        return 1\n",
    "    else:\n",
    "        return num * foo(num-1)"
   ]
  },
  {
   "cell_type": "code",
   "execution_count": 1,
   "id": "a6008d07",
   "metadata": {
    "slideshow": {
     "slide_type": "slide"
    }
   },
   "outputs": [
    {
     "name": "stdout",
     "output_type": "stream",
     "text": [
      "10\n"
     ]
    }
   ],
   "source": [
    "def recursive_max(lst):\n",
    "    \"\"\"\n",
    "    recursive version of built-in max function.\n",
    "    \n",
    "    >>> recursive_max([1,4,2,10,5])\n",
    "    10\n",
    "    >>> recursive_max([5])\n",
    "    5\n",
    "    \"\"\"\n",
    "    if len(lst)==1:\n",
    "        return lst[0]\n",
    "    else:\n",
    "        if lst[0] > lst[1]:\n",
    "            return recursive_max([lst[0]]+lst[2:])\n",
    "        else:\n",
    "            return recursive_max(lst[1:])\n",
    "\n",
    "print(recursive_max([1,2,4,10,5]))"
   ]
  },
  {
   "cell_type": "markdown",
   "id": "f7af6829",
   "metadata": {
    "slideshow": {
     "slide_type": "fragment"
    }
   },
   "source": [
    "<center><a href='https://pythontutor.com/render.html#code=def%20foo%28lst%29%3A%0A%20%20%20%20if%20len%28lst%29%3D%3D1%3A%0A%20%20%20%20%20%20%20%20return%20lst%5B0%5D%0A%20%20%20%20else%3A%0A%20%20%20%20%20%20%20%20if%20lst%5B0%5D%20%3E%20lst%5B1%5D%3A%0A%20%20%20%20%20%20%20%20%20%20%20%20return%20foo%28%5Blst%5B0%5D%5D%20%2B%20lst%5B2%3A%5D%29%0A%20%20%20%20%20%20%20%20else%3A%0A%20%20%20%20%20%20%20%20%20%20%20%20return%20foo%28lst%5B1%3A%5D%29%0A%20%20%20%20%20%20%20%20%20%20%20%20%0Afoo%28%5B1,4,2,10,5%5D%29&cumulative=false&curInstr=26&heapPrimitives=nevernest&mode=display&origin=opt-frontend.js&py=3&rawInputLstJSON=%5B%5D&textReferences=false'>pythontutor</a></center>"
   ]
  },
  {
   "cell_type": "code",
   "execution_count": 21,
   "id": "4f71af97",
   "metadata": {
    "slideshow": {
     "slide_type": "skip"
    }
   },
   "outputs": [
    {
     "name": "stdout",
     "output_type": "stream",
     "text": [
      "True\n",
      "False\n"
     ]
    }
   ],
   "source": [
    "def recursive_palindrome(word):\n",
    "    \"\"\"\n",
    "    Write a recursive function to check if a string \n",
    "    is a palindrome (same word reversed).\n",
    "    \n",
    "    args:\n",
    "        word (string): string to be considered\n",
    "        \n",
    "    returns: \n",
    "        True if it's a palindrome, false otherwise.\n",
    "    \n",
    "    >>> recursive_palindrome('racecar')\n",
    "    True\n",
    "    >>> recursive_palindrome('chatgpt')\n",
    "    False\n",
    "    \"\"\"\n",
    "    # Write your implementation here\n",
    "    if len(word) <= 1:\n",
    "        return True\n",
    "    else:\n",
    "        return all([recursive_palindrome(word[1:-1]), word[0] == word[-1]])\n",
    "\n",
    "print(recursive_palindrome('racecar'))\n",
    "print(recursive_palindrome('chatgpt'))"
   ]
  },
  {
   "cell_type": "markdown",
   "id": "6e223bb9",
   "metadata": {
    "slideshow": {
     "slide_type": "slide"
    }
   },
   "source": [
    "<center><h2>Discussion Attendance</h2></center>\n",
    "<center>Take 2 minutes and head to gradescope to complete discussion attendance. The assignment is called Discussion 6 Participation.</center>"
   ]
  },
  {
   "cell_type": "markdown",
   "id": "49030538",
   "metadata": {
    "slideshow": {
     "slide_type": "slide"
    }
   },
   "source": [
    "<center> <h1>Thanks for coming!</h1></center>"
   ]
  },
  {
   "cell_type": "code",
   "execution_count": null,
   "id": "aecf0425",
   "metadata": {
    "slideshow": {
     "slide_type": "skip"
    }
   },
   "outputs": [],
   "source": []
  }
 ],
 "metadata": {
  "celltoolbar": "Slideshow",
  "kernelspec": {
   "display_name": "Python 3 (ipykernel)",
   "language": "python",
   "name": "python3"
  },
  "language_info": {
   "codemirror_mode": {
    "name": "ipython",
    "version": 3
   },
   "file_extension": ".py",
   "mimetype": "text/x-python",
   "name": "python",
   "nbconvert_exporter": "python",
   "pygments_lexer": "ipython3",
   "version": "3.10.8"
  },
  "rise": {
   "enable_chalkboard": true
  }
 },
 "nbformat": 4,
 "nbformat_minor": 5
}
