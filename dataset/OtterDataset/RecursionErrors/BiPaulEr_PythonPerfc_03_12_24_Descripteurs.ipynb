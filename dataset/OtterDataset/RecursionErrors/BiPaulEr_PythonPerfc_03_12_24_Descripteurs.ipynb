{
 "cells": [
  {
   "cell_type": "code",
   "execution_count": 4,
   "id": "64dc0ceb-c78a-4a83-aa4d-7cde11621da8",
   "metadata": {},
   "outputs": [
    {
     "name": "stdout",
     "output_type": "stream",
     "text": [
      "{'__module__': '__main__', 'y': 5, '__dict__': <attribute '__dict__' of 'MyClass' objects>, '__weakref__': <attribute '__weakref__' of 'MyClass' objects>, '__doc__': None}\n",
      "{}\n"
     ]
    }
   ],
   "source": [
    "class MyClass:\n",
    "    y = 5\n",
    "\n",
    "my_instance = MyClass()\n",
    "#my_instance.y = 10\n",
    "print(MyClass.__dict__)\n",
    "print(my_instance.__dict__)"
   ]
  },
  {
   "cell_type": "code",
   "execution_count": 5,
   "id": "6369c289-daea-4b62-82fc-ab5fd9320f0e",
   "metadata": {},
   "outputs": [
    {
     "name": "stdout",
     "output_type": "stream",
     "text": [
      "5\n"
     ]
    }
   ],
   "source": [
    "print(my_instance.y)"
   ]
  },
  {
   "cell_type": "code",
   "execution_count": 9,
   "id": "fa0a5c8f-2962-4268-8f86-8de23fe511e6",
   "metadata": {},
   "outputs": [],
   "source": [
    "class RevealAccess:\n",
    "    def __init__(self, nom, valeur):\n",
    "        self.nom = nom\n",
    "        self.valeur = valeur\n",
    "        \n",
    "    def __get__(self, obj, object_type):\n",
    "        print(f\"{self}\")\n",
    "        print(f\"{obj}\")\n",
    "        print(f\"{object_type}\")\n",
    "        print(f\"Je suis accèder avec {self.nom} et valeur {self.valeur}\")\n",
    "        return self.valeur\n",
    "\n",
    "    def __set__(self, obj, value): \n",
    "        print(f\"{self}\")\n",
    "        print(f\"{obj}\")\n",
    "        print(f\"{value}\")\n",
    "        print(f\"Je modifie {self.nom} avec la valeur {value}, l'ancienne valeur est {self.valeur}\")\n",
    "        self.valeur = value "
   ]
  },
  {
   "cell_type": "code",
   "execution_count": 10,
   "id": "3e2a7bfc-1d81-4362-a10a-e2d56381e2f9",
   "metadata": {},
   "outputs": [],
   "source": [
    "class MyClass:\n",
    "    y = RevealAccess(\"Bob\", 100)\n",
    "    x = 5"
   ]
  },
  {
   "cell_type": "code",
   "execution_count": 11,
   "id": "3976d270-83aa-4b16-8498-754079335588",
   "metadata": {},
   "outputs": [],
   "source": [
    "myclass = MyClass()"
   ]
  },
  {
   "cell_type": "code",
   "execution_count": 12,
   "id": "c2d3c288-97b1-472e-b514-81f9ebabd355",
   "metadata": {},
   "outputs": [
    {
     "name": "stdout",
     "output_type": "stream",
     "text": [
      "<__main__.RevealAccess object at 0x000001E843CBE450>\n",
      "<__main__.MyClass object at 0x000001E8427BB2F0>\n",
      "<class '__main__.MyClass'>\n",
      "Je suis accèder avec Bob et valeur 100\n",
      "100\n"
     ]
    }
   ],
   "source": [
    "print(myclass.y)"
   ]
  },
  {
   "cell_type": "code",
   "execution_count": 13,
   "id": "702f62c1-0e09-4357-b5c1-13a81ded416c",
   "metadata": {},
   "outputs": [
    {
     "name": "stdout",
     "output_type": "stream",
     "text": [
      "<__main__.RevealAccess object at 0x000001E843CBE450>\n",
      "<__main__.MyClass object at 0x000001E8427BB2F0>\n",
      "5\n",
      "Je modifie Bob avec la valeur 5, l'ancienne valeur est 100\n"
     ]
    }
   ],
   "source": [
    "myclass.y = 5"
   ]
  },
  {
   "cell_type": "code",
   "execution_count": 14,
   "id": "4dc9800d-a278-4eb5-9bf3-a47f0281f586",
   "metadata": {},
   "outputs": [
    {
     "name": "stdout",
     "output_type": "stream",
     "text": [
      "<__main__.RevealAccess object at 0x000001E843CBE450>\n",
      "<__main__.MyClass object at 0x000001E8427BB2F0>\n",
      "<class '__main__.MyClass'>\n",
      "Je suis accèder avec Bob et valeur 5\n",
      "5\n"
     ]
    }
   ],
   "source": [
    "print(myclass.y)\n"
   ]
  },
  {
   "cell_type": "code",
   "execution_count": 15,
   "id": "1b7ae037-04c6-4dd0-90e1-111c5366332d",
   "metadata": {},
   "outputs": [
    {
     "name": "stdout",
     "output_type": "stream",
     "text": [
      "{}\n"
     ]
    }
   ],
   "source": [
    "print(myclass.__dict__)"
   ]
  },
  {
   "cell_type": "code",
   "execution_count": 38,
   "id": "b406d2f8-1a12-434f-8aa0-192c27f1d571",
   "metadata": {},
   "outputs": [
    {
     "name": "stdout",
     "output_type": "stream",
     "text": [
      "{'__module__': '__main__', 'y': <__main__.RevealAccess object at 0x000001B2C10639B0>, 'x': 5, '__dict__': <attribute '__dict__' of 'MyClass' objects>, '__weakref__': <attribute '__weakref__' of 'MyClass' objects>, '__doc__': None}\n"
     ]
    }
   ],
   "source": [
    "print(MyClass.__dict__)"
   ]
  },
  {
   "cell_type": "code",
   "execution_count": 55,
   "id": "3577bc5e-54e3-4fe2-b76d-b70b7e13a5f5",
   "metadata": {},
   "outputs": [],
   "source": [
    "class ReadOnly:\n",
    "    def __init__(self, name):\n",
    "        self.name = name   \n",
    "    def __get__(self, obj, objtype):\n",
    "        print(\"get\")\n",
    "        valeur = getattr(obj, self.name)\n",
    "        return valeur\n",
    "        \n",
    "    def __set__(self, obj, objtype):\n",
    "        print(\"set\")\n",
    "        raise AttributeError"
   ]
  },
  {
   "cell_type": "code",
   "execution_count": 56,
   "id": "8c802069-f2be-4b70-80e9-8953b0d1993e",
   "metadata": {},
   "outputs": [
    {
     "name": "stdout",
     "output_type": "stream",
     "text": [
      "get\n",
      "Martin\n",
      "get\n",
      "PAul\n"
     ]
    }
   ],
   "source": [
    "class Person:\n",
    "    nom = ReadOnly(\"attribut_privee\")\n",
    "    prenom = ReadOnly(\"attribut_privee2\")\n",
    "    \n",
    "    def __init__(self, name, prenom):\n",
    "        self.attribut_privee = name \n",
    "        self.attribut_privee2 = prenom\n",
    "\n",
    "person1 = Person(\"Martin\", \"PAul\")\n",
    "\n",
    "print(person1.nom)\n",
    "print(person1.prenom)"
   ]
  },
  {
   "cell_type": "code",
   "execution_count": 24,
   "id": "fbe51117-85e4-4305-9e59-7df5ce70bc4b",
   "metadata": {},
   "outputs": [
    {
     "name": "stdout",
     "output_type": "stream",
     "text": [
      "set\n"
     ]
    },
    {
     "ename": "AttributeError",
     "evalue": "",
     "output_type": "error",
     "traceback": [
      "\u001b[1;31m---------------------------------------------------------------------------\u001b[0m",
      "\u001b[1;31mAttributeError\u001b[0m                            Traceback (most recent call last)",
      "Cell \u001b[1;32mIn[24], line 1\u001b[0m\n\u001b[1;32m----> 1\u001b[0m \u001b[43mperson1\u001b[49m\u001b[38;5;241;43m.\u001b[39;49m\u001b[43mnom\u001b[49m \u001b[38;5;241m=\u001b[39m \u001b[38;5;124m\"\u001b[39m\u001b[38;5;124mDupont\u001b[39m\u001b[38;5;124m\"\u001b[39m\n",
      "Cell \u001b[1;32mIn[22], line 11\u001b[0m, in \u001b[0;36mReadOnly.__set__\u001b[1;34m(self, obj, objtype)\u001b[0m\n\u001b[0;32m      9\u001b[0m \u001b[38;5;28;01mdef\u001b[39;00m \u001b[38;5;21m__set__\u001b[39m(\u001b[38;5;28mself\u001b[39m, obj, objtype):\n\u001b[0;32m     10\u001b[0m     \u001b[38;5;28mprint\u001b[39m(\u001b[38;5;124m\"\u001b[39m\u001b[38;5;124mset\u001b[39m\u001b[38;5;124m\"\u001b[39m)\n\u001b[1;32m---> 11\u001b[0m     \u001b[38;5;28;01mraise\u001b[39;00m \u001b[38;5;167;01mAttributeError\u001b[39;00m\n",
      "\u001b[1;31mAttributeError\u001b[0m: "
     ]
    }
   ],
   "source": [
    "person1.nom = \"Dupont\""
   ]
  },
  {
   "cell_type": "code",
   "execution_count": 31,
   "id": "253c8faf-2555-4405-8cf5-1e1e3930dcc6",
   "metadata": {},
   "outputs": [],
   "source": [
    "class LazyProperty:\n",
    "    def __init__(self, calculation_fonction):\n",
    "        self.calculation_fonction = calculation_fonction\n",
    "        self.value = None\n",
    "    def __get__(self, obj, obj_type):\n",
    "        if self.value is None:\n",
    "            self.value = self.calculation_fonction(obj)\n",
    "        return self.value\n",
    "        \n",
    "    def __set__(self, obj, value):\n",
    "        pass\n",
    "\n",
    "class Circle:\n",
    "    area = LazyProperty(lambda self : self.radius**2  * 3.14)\n",
    "    def __init__(self, radius):\n",
    "        self.radius = radius\n",
    "        \n",
    "circle = Circle(12)"
   ]
  },
  {
   "cell_type": "code",
   "execution_count": 32,
   "id": "3267a02b-a2f6-4559-bb09-008c11db9591",
   "metadata": {},
   "outputs": [
    {
     "data": {
      "text/plain": [
       "{'radius': 12}"
      ]
     },
     "execution_count": 32,
     "metadata": {},
     "output_type": "execute_result"
    }
   ],
   "source": [
    "Circle.__dict__\n",
    "circle.__dict__"
   ]
  },
  {
   "cell_type": "code",
   "execution_count": 33,
   "id": "7210ec6b-24d2-4ccb-9a74-789ab6c95ba9",
   "metadata": {},
   "outputs": [
    {
     "data": {
      "text/plain": [
       "452.16"
      ]
     },
     "execution_count": 33,
     "metadata": {},
     "output_type": "execute_result"
    }
   ],
   "source": [
    "circle.area"
   ]
  },
  {
   "cell_type": "code",
   "execution_count": 34,
   "id": "0d81f3ae-25fd-4e1f-aee7-d4067240f617",
   "metadata": {},
   "outputs": [
    {
     "data": {
      "text/plain": [
       "mappingproxy({'__module__': '__main__',\n",
       "              'area': <__main__.LazyProperty at 0x1e843e1be30>,\n",
       "              '__init__': <function __main__.Circle.__init__(self, radius)>,\n",
       "              '__dict__': <attribute '__dict__' of 'Circle' objects>,\n",
       "              '__weakref__': <attribute '__weakref__' of 'Circle' objects>,\n",
       "              '__doc__': None})"
      ]
     },
     "execution_count": 34,
     "metadata": {},
     "output_type": "execute_result"
    }
   ],
   "source": [
    "Circle.__dict__"
   ]
  },
  {
   "cell_type": "code",
   "execution_count": 60,
   "id": "97bb3a83-6055-4f27-89ea-9a5a660c3318",
   "metadata": {},
   "outputs": [],
   "source": [
    "#property avant les décorateurs\n",
    "import math\n",
    "class Circle:\n",
    "    def __init__(self, radius):\n",
    "        self._radius = radius\n",
    "\n",
    "    def radius_get(self):\n",
    "            \"\"\"Obtenir le rayon du cercle.\"\"\"\n",
    "            return self._radius\n",
    "    def radius_set(self, value):\n",
    "            if value <= 0:\n",
    "                    raise ValueError(\"Le rayon doit être positif.\")\n",
    "            self._radius = value\n",
    "        \n",
    "    radius = property(fget = radius_get, fset =  radius_set, doc = \"radius du cercle \")\n",
    "  \n",
    "\n",
    "    def area_get(self):\n",
    "            \"\"\"Calculer le diamètre du cercle.\"\"\"\n",
    "            return self._radius **2 * 3.14\n",
    "    def area_set(self, value_area):\n",
    "        self._radius = math.sqrt(value_area / 3.14)\n",
    "\n",
    "    area = property(fget = area_get, fset =  area_set, doc = \"AREA calculé\")"
   ]
  },
  {
   "cell_type": "code",
   "execution_count": 61,
   "id": "e69a46a3-1e28-446a-93f8-7ba79f200f84",
   "metadata": {},
   "outputs": [
    {
     "name": "stdout",
     "output_type": "stream",
     "text": [
      "452.16\n",
      "12\n",
      "Help on Circle in module __main__ object:\n",
      "\n",
      "class Circle(builtins.object)\n",
      " |  Circle(radius)\n",
      " |\n",
      " |  Methods defined here:\n",
      " |\n",
      " |  __init__(self, radius)\n",
      " |      Initialize self.  See help(type(self)) for accurate signature.\n",
      " |\n",
      " |  area_get(self)\n",
      " |      Calculer le diamètre du cercle.\n",
      " |\n",
      " |  area_set(self, value_area)\n",
      " |\n",
      " |  radius_get(self)\n",
      " |      Obtenir le rayon du cercle.\n",
      " |\n",
      " |  radius_set(self, value)\n",
      " |\n",
      " |  ----------------------------------------------------------------------\n",
      " |  Data descriptors defined here:\n",
      " |\n",
      " |  __dict__\n",
      " |      dictionary for instance variables\n",
      " |\n",
      " |  __weakref__\n",
      " |      list of weak references to the object\n",
      " |\n",
      " |  area\n",
      " |      AREA calculé\n",
      " |\n",
      " |  radius\n",
      " |      radius du cercle\n",
      "\n",
      "None\n"
     ]
    }
   ],
   "source": [
    "c = Circle(12)\n",
    "print(c.area)\n",
    "print(c.radius)\n",
    "print(help(c))"
   ]
  },
  {
   "cell_type": "code",
   "execution_count": 47,
   "id": "4739954f-f937-4824-88b1-d49717ec2749",
   "metadata": {},
   "outputs": [],
   "source": [
    "import math\n",
    "class Circle:\n",
    "    def __init__(self, radius):\n",
    "        self._radius = radius\n",
    "\n",
    "    @property\n",
    "    def radius(self):\n",
    "            \"\"\"Obtenir le rayon du cercle.\"\"\"\n",
    "            return self._radius\n",
    "\n",
    "    @radius.setter\n",
    "    def radius(self, value):\n",
    "            if value <= 0:\n",
    "                    raise ValueError(\"Le rayon doit être positif.\")\n",
    "            self._radius = value\n",
    "\n",
    "    @property\n",
    "    def area(self):\n",
    "            \"\"\"Calculer le diamètre du cercle.\"\"\"\n",
    "            return self._radius **2 * 3.14\n",
    "    @area.setter\n",
    "    def area(self, value_area):\n",
    "        self._radius = math.sqrt(value_area / 3.14)"
   ]
  },
  {
   "cell_type": "code",
   "execution_count": 48,
   "id": "1ca0568f-05f8-436a-8eac-47c555c27124",
   "metadata": {},
   "outputs": [],
   "source": [
    "circle = Circle(13)"
   ]
  },
  {
   "cell_type": "code",
   "execution_count": 49,
   "id": "9613d650-e8a0-4292-ae82-b8f214543fde",
   "metadata": {},
   "outputs": [
    {
     "data": {
      "text/plain": [
       "530.66"
      ]
     },
     "execution_count": 49,
     "metadata": {},
     "output_type": "execute_result"
    }
   ],
   "source": [
    "circle.area"
   ]
  },
  {
   "cell_type": "code",
   "execution_count": 50,
   "id": "e8108c2d-c3a6-401d-8c0d-cb389e70dcde",
   "metadata": {},
   "outputs": [],
   "source": [
    "circle.area = 12"
   ]
  },
  {
   "cell_type": "code",
   "execution_count": 51,
   "id": "c0def18b-8005-4d2f-a64f-573f345a0f6c",
   "metadata": {},
   "outputs": [
    {
     "data": {
      "text/plain": [
       "1.9549056373532239"
      ]
     },
     "execution_count": 51,
     "metadata": {},
     "output_type": "execute_result"
    }
   ],
   "source": [
    "circle.radius\n"
   ]
  },
  {
   "cell_type": "code",
   "execution_count": 52,
   "id": "bb85f29c-89d6-4cec-b45b-5523e230963f",
   "metadata": {},
   "outputs": [
    {
     "ename": "RecursionError",
     "evalue": "maximum recursion depth exceeded",
     "output_type": "error",
     "traceback": [
      "\u001b[1;31m---------------------------------------------------------------------------\u001b[0m",
      "\u001b[1;31mRecursionError\u001b[0m                            Traceback (most recent call last)",
      "Cell \u001b[1;32mIn[52], line 15\u001b[0m\n\u001b[0;32m     12\u001b[0m             \u001b[38;5;28;01mraise\u001b[39;00m \u001b[38;5;167;01mTypeError\u001b[39;00m(\u001b[38;5;124m\"\u001b[39m\u001b[38;5;124mAge must be an integer\u001b[39m\u001b[38;5;124m\"\u001b[39m)\n\u001b[0;32m     13\u001b[0m         \u001b[38;5;28mself\u001b[39m\u001b[38;5;241m.\u001b[39mage \u001b[38;5;241m=\u001b[39m value\n\u001b[1;32m---> 15\u001b[0m test \u001b[38;5;241m=\u001b[39m \u001b[43mClassWithAgeAsTypedAttribute\u001b[49m\u001b[43m(\u001b[49m\u001b[43m)\u001b[49m\n",
      "Cell \u001b[1;32mIn[52], line 3\u001b[0m, in \u001b[0;36mClassWithAgeAsTypedAttribute.__init__\u001b[1;34m(self)\u001b[0m\n\u001b[0;32m      2\u001b[0m \u001b[38;5;28;01mdef\u001b[39;00m \u001b[38;5;21m__init__\u001b[39m(\u001b[38;5;28mself\u001b[39m):\n\u001b[1;32m----> 3\u001b[0m     \u001b[38;5;28;43mself\u001b[39;49m\u001b[38;5;241;43m.\u001b[39;49m\u001b[43mage\u001b[49m \u001b[38;5;241m=\u001b[39m \u001b[38;5;241m0\u001b[39m\n",
      "Cell \u001b[1;32mIn[52], line 13\u001b[0m, in \u001b[0;36mClassWithAgeAsTypedAttribute.age\u001b[1;34m(self, value)\u001b[0m\n\u001b[0;32m     11\u001b[0m \u001b[38;5;28;01mif\u001b[39;00m \u001b[38;5;129;01mnot\u001b[39;00m \u001b[38;5;28misinstance\u001b[39m(value, \u001b[38;5;28mint\u001b[39m):\n\u001b[0;32m     12\u001b[0m     \u001b[38;5;28;01mraise\u001b[39;00m \u001b[38;5;167;01mTypeError\u001b[39;00m(\u001b[38;5;124m\"\u001b[39m\u001b[38;5;124mAge must be an integer\u001b[39m\u001b[38;5;124m\"\u001b[39m)\n\u001b[1;32m---> 13\u001b[0m \u001b[38;5;28;43mself\u001b[39;49m\u001b[38;5;241;43m.\u001b[39;49m\u001b[43mage\u001b[49m \u001b[38;5;241m=\u001b[39m value\n",
      "Cell \u001b[1;32mIn[52], line 13\u001b[0m, in \u001b[0;36mClassWithAgeAsTypedAttribute.age\u001b[1;34m(self, value)\u001b[0m\n\u001b[0;32m     11\u001b[0m \u001b[38;5;28;01mif\u001b[39;00m \u001b[38;5;129;01mnot\u001b[39;00m \u001b[38;5;28misinstance\u001b[39m(value, \u001b[38;5;28mint\u001b[39m):\n\u001b[0;32m     12\u001b[0m     \u001b[38;5;28;01mraise\u001b[39;00m \u001b[38;5;167;01mTypeError\u001b[39;00m(\u001b[38;5;124m\"\u001b[39m\u001b[38;5;124mAge must be an integer\u001b[39m\u001b[38;5;124m\"\u001b[39m)\n\u001b[1;32m---> 13\u001b[0m \u001b[38;5;28;43mself\u001b[39;49m\u001b[38;5;241;43m.\u001b[39;49m\u001b[43mage\u001b[49m \u001b[38;5;241m=\u001b[39m value\n",
      "    \u001b[1;31m[... skipping similar frames: ClassWithAgeAsTypedAttribute.age at line 13 (1487 times)]\u001b[0m\n",
      "Cell \u001b[1;32mIn[52], line 13\u001b[0m, in \u001b[0;36mClassWithAgeAsTypedAttribute.age\u001b[1;34m(self, value)\u001b[0m\n\u001b[0;32m     11\u001b[0m \u001b[38;5;28;01mif\u001b[39;00m \u001b[38;5;129;01mnot\u001b[39;00m \u001b[38;5;28misinstance\u001b[39m(value, \u001b[38;5;28mint\u001b[39m):\n\u001b[0;32m     12\u001b[0m     \u001b[38;5;28;01mraise\u001b[39;00m \u001b[38;5;167;01mTypeError\u001b[39;00m(\u001b[38;5;124m\"\u001b[39m\u001b[38;5;124mAge must be an integer\u001b[39m\u001b[38;5;124m\"\u001b[39m)\n\u001b[1;32m---> 13\u001b[0m \u001b[38;5;28;43mself\u001b[39;49m\u001b[38;5;241;43m.\u001b[39;49m\u001b[43mage\u001b[49m \u001b[38;5;241m=\u001b[39m value\n",
      "\u001b[1;31mRecursionError\u001b[0m: maximum recursion depth exceeded"
     ]
    }
   ],
   "source": [
    "class ClassWithAgeAsTypedAttribute:\n",
    "    def __init__(self):\n",
    "        self.age = 0  # Default value for age\n",
    "\n",
    "    @property\n",
    "    def age(self):\n",
    "        return self.age\n",
    "\n",
    "    @age.setter\n",
    "    def age(self, value):\n",
    "        if not isinstance(value, int):\n",
    "            raise TypeError(\"Age must be an integer\")\n",
    "        self.age = value\n",
    "\n",
    "test = ClassWithAgeAsTypedAttribute()"
   ]
  },
  {
   "cell_type": "code",
   "execution_count": 82,
   "id": "88189118-250d-483d-a368-62a99a84be53",
   "metadata": {},
   "outputs": [
    {
     "name": "stdout",
     "output_type": "stream",
     "text": [
      "16\n",
      "91.51398437129302\n",
      "32.0\n"
     ]
    }
   ],
   "source": [
    "#Exerice Pyramide\n",
    "import math\n",
    "class Pyramide:\n",
    "    def __init__(self, longeur_base, hauteur):\n",
    "        if (longeur_base <= 0 or hauteur <= 0):\n",
    "            raise ValueError\n",
    "        self.__longeur_base = longeur_base\n",
    "        self.__hauteur = hauteur\n",
    "\n",
    "    @property\n",
    "    def aire_base(self):\n",
    "        \"\"\" aire de la base \"\"\"\n",
    "        return self.__longeur_base**2\n",
    "    @aire_base.setter\n",
    "    def aire_base(self, value):\n",
    "        raise AttributeError\n",
    "\n",
    "    @property\n",
    "    def perimeter(self):\n",
    "        \"\"\" longeur de tous les cotes\"\"\"\n",
    "        return 4 * self.__longeur_base**2 + 4 * math.sqrt(math.sqrt(2) * self.__longeur_base**2 / 2 + self.__hauteur **2)\n",
    "    @perimeter.setter\n",
    "    def perimeter(self, value):\n",
    "        raise AttributeError\n",
    "\n",
    "    @property\n",
    "    def volume(self):\n",
    "        \"\"\" cest beau dans les cheveux\"\"\"\n",
    "        return (1/3.0) * self.__longeur_base ** 2 * self.__hauteur\n",
    "    @volume.setter\n",
    "    def volume(self, value):\n",
    "        raise AttributeError\n",
    "\n",
    "    @property\n",
    "    def longeur_base(self):\n",
    "        return self.__longeur_base\n",
    "    @longeur_base.setter\n",
    "    def longeur_base(self, value):\n",
    "        if value <=0:    \n",
    "            raise ValueError\n",
    "        else:\n",
    "            self.__longeur_base = value\n",
    "\n",
    "    @property\n",
    "    def hauteur(self):\n",
    "        return self.__hauteur\n",
    "    @hauteur.setter\n",
    "    def hauteur(self, value):\n",
    "        if value <=0:    \n",
    "            raise ValueError\n",
    "        else:\n",
    "            self.__hauteur = value\n",
    "\n",
    "\n",
    "pyramide = Pyramide(4, 6)\n",
    "\n",
    "print(pyramide.aire_base)\n",
    "print(pyramide.perimeter)\n",
    "print(pyramide.volume)\n",
    "\n",
    "#pyramide.volume = 4\n",
    "\n",
    "    "
   ]
  },
  {
   "cell_type": "code",
   "execution_count": 75,
   "id": "561fd0b8-bed0-407f-b493-765560fd061e",
   "metadata": {},
   "outputs": [],
   "source": [
    "pyramide.hauteur = 7"
   ]
  },
  {
   "cell_type": "code",
   "execution_count": 76,
   "id": "613a9a8e-7eae-42e5-be05-097cc1639935",
   "metadata": {},
   "outputs": [
    {
     "ename": "ValueError",
     "evalue": "",
     "output_type": "error",
     "traceback": [
      "\u001b[1;31m---------------------------------------------------------------------------\u001b[0m",
      "\u001b[1;31mValueError\u001b[0m                                Traceback (most recent call last)",
      "Cell \u001b[1;32mIn[76], line 1\u001b[0m\n\u001b[1;32m----> 1\u001b[0m \u001b[43mpyramide\u001b[49m\u001b[38;5;241;43m.\u001b[39;49m\u001b[43mhauteur\u001b[49m \u001b[38;5;241m=\u001b[39m \u001b[38;5;241m-\u001b[39m\u001b[38;5;241m9\u001b[39m\n",
      "Cell \u001b[1;32mIn[74], line 47\u001b[0m, in \u001b[0;36mPyramide.hauteur\u001b[1;34m(self, value)\u001b[0m\n\u001b[0;32m     44\u001b[0m \u001b[38;5;129m@hauteur\u001b[39m\u001b[38;5;241m.\u001b[39msetter\n\u001b[0;32m     45\u001b[0m \u001b[38;5;28;01mdef\u001b[39;00m \u001b[38;5;21mhauteur\u001b[39m(\u001b[38;5;28mself\u001b[39m, value):\n\u001b[0;32m     46\u001b[0m     \u001b[38;5;28;01mif\u001b[39;00m value \u001b[38;5;241m<\u001b[39m\u001b[38;5;241m=\u001b[39m\u001b[38;5;241m0\u001b[39m:    \n\u001b[1;32m---> 47\u001b[0m         \u001b[38;5;28;01mraise\u001b[39;00m \u001b[38;5;167;01mValueError\u001b[39;00m\n\u001b[0;32m     48\u001b[0m     \u001b[38;5;28;01melse\u001b[39;00m:\n\u001b[0;32m     49\u001b[0m         \u001b[38;5;28mself\u001b[39m\u001b[38;5;241m.\u001b[39m__hauteur \u001b[38;5;241m=\u001b[39m value\n",
      "\u001b[1;31mValueError\u001b[0m: "
     ]
    }
   ],
   "source": [
    "pyramide.hauteur = -9"
   ]
  },
  {
   "cell_type": "code",
   "execution_count": 79,
   "id": "b1d1069e-4981-4c55-adfa-460e82c19c24",
   "metadata": {},
   "outputs": [],
   "source": [
    "pyramide.__hauteur = -90"
   ]
  },
  {
   "cell_type": "code",
   "execution_count": 80,
   "id": "08dfa549-4b22-41b7-bc2b-2db9b8ecebd1",
   "metadata": {},
   "outputs": [
    {
     "data": {
      "text/plain": [
       "37.33333333333333"
      ]
     },
     "execution_count": 80,
     "metadata": {},
     "output_type": "execute_result"
    }
   ],
   "source": [
    "pyramide.volume"
   ]
  },
  {
   "cell_type": "code",
   "execution_count": 81,
   "id": "e1ff3f2d-7449-4794-8735-92beffb7ff8a",
   "metadata": {},
   "outputs": [
    {
     "name": "stdout",
     "output_type": "stream",
     "text": [
      "{'_Pyramide__longeur_base': 4, '_Pyramide__hauteur': 7, '_hauteur': -90, '__hauteur': -90}\n"
     ]
    }
   ],
   "source": [
    "print(pyramide.__dict__)"
   ]
  },
  {
   "cell_type": "code",
   "execution_count": 83,
   "id": "e35c9373-27f8-4ac4-9f51-f994dfbacaaa",
   "metadata": {},
   "outputs": [
    {
     "name": "stdout",
     "output_type": "stream",
     "text": [
      "Help on class Pyramide in module __main__:\n",
      "\n",
      "class Pyramide(builtins.object)\n",
      " |  Pyramide(longeur_base, hauteur)\n",
      " |\n",
      " |  Methods defined here:\n",
      " |\n",
      " |  __init__(self, longeur_base, hauteur)\n",
      " |      Initialize self.  See help(type(self)) for accurate signature.\n",
      " |\n",
      " |  ----------------------------------------------------------------------\n",
      " |  Data descriptors defined here:\n",
      " |\n",
      " |  __dict__\n",
      " |      dictionary for instance variables\n",
      " |\n",
      " |  __weakref__\n",
      " |      list of weak references to the object\n",
      " |\n",
      " |  aire_base\n",
      " |      aire de la base\n",
      " |\n",
      " |  hauteur\n",
      " |\n",
      " |  longeur_base\n",
      " |\n",
      " |  perimeter\n",
      " |      longeur de tous les cotes\n",
      " |\n",
      " |  volume\n",
      " |      cest beau dans les cheveux\n",
      "\n"
     ]
    }
   ],
   "source": [
    "help(Pyramide)"
   ]
  },
  {
   "cell_type": "code",
   "execution_count": null,
   "id": "042bcaf2-2a39-47f1-8a7c-5e8fa92c9127",
   "metadata": {},
   "outputs": [],
   "source": []
  }
 ],
 "metadata": {
  "kernelspec": {
   "display_name": "Python 3 (ipykernel)",
   "language": "python",
   "name": "python3"
  },
  "language_info": {
   "codemirror_mode": {
    "name": "ipython",
    "version": 3
   },
   "file_extension": ".py",
   "mimetype": "text/x-python",
   "name": "python",
   "nbconvert_exporter": "python",
   "pygments_lexer": "ipython3",
   "version": "3.12.7"
  }
 },
 "nbformat": 4,
 "nbformat_minor": 5
}
