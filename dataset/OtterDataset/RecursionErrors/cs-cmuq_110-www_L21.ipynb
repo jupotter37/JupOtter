{
 "cells": [
  {
   "cell_type": "markdown",
   "metadata": {},
   "source": [
    "L21, 15-110 CMU-Q, Fall'19, G. Di Caro"
   ]
  },
  {
   "cell_type": "code",
   "execution_count": null,
   "metadata": {},
   "outputs": [],
   "source": [
    "import time\n",
    "def infinite_regress (n):\n",
    "    print(\"At\", n)\n",
    "    time.sleep(0.01)  # this makes the process \"sleeping\" for the given amount of seconds\n",
    "    infinite_regress(n-1)"
   ]
  },
  {
   "cell_type": "code",
   "execution_count": null,
   "metadata": {},
   "outputs": [],
   "source": [
    "infinite_regress(5)\n",
    "# need to interrupt the kernel to stop the running process that would never \n",
    "# end, in theory. \n",
    "# In practice it will end when the memory stack for calling the function will get full\n",
    "# When this happens we get the following error:\n",
    "# RecursionError: maximum recursion depth exceeded while calling a Python object\n",
    "#"
   ]
  },
  {
   "cell_type": "code",
   "execution_count": null,
   "metadata": {},
   "outputs": [],
   "source": [
    "def factorial(n):\n",
    "    # Base case: 1! = 1\n",
    "    if n == 1 or n == 0:\n",
    "        return 1\n",
    "\n",
    "    # Recursive case: n! = n * (n-1)!\n",
    "    else:\n",
    "        return n * factorial(n-1)"
   ]
  },
  {
   "cell_type": "code",
   "execution_count": null,
   "metadata": {},
   "outputs": [],
   "source": [
    "for i in range(n):\n",
    "    print('{}: {}'.format(i, factorial(i)))"
   ]
  },
  {
   "cell_type": "code",
   "execution_count": null,
   "metadata": {},
   "outputs": [],
   "source": [
    "def factorial_verbose(n):\n",
    "    print(\"factorial has been called with n =\", n)\n",
    "    if n == 1 or n == 0:\n",
    "        return 1\n",
    "    else:\n",
    "        res = n * factorial(n-1)\n",
    "        print(\"intermediate result for {} * factorial({}): {}\".format(n, n-1,res))\n",
    "        return res\n",
    "\n",
    "print(factorial_verbose(5))"
   ]
  },
  {
   "cell_type": "code",
   "execution_count": null,
   "metadata": {},
   "outputs": [],
   "source": [
    "factorial(100)\n",
    "# The number of digits in an integer number is only limited by the OS memory. Numbers can\n",
    "# grow a lot. The same isn't in general true for floats."
   ]
  },
  {
   "cell_type": "code",
   "execution_count": null,
   "metadata": {},
   "outputs": [],
   "source": [
    "import sys\n",
    "sys.getrecursionlimit()\n",
    "#sys.setrecursionlimit(4500)"
   ]
  },
  {
   "cell_type": "code",
   "execution_count": null,
   "metadata": {},
   "outputs": [],
   "source": [
    "def factorial_it(n):\n",
    "    v = 1\n",
    "    for i in range(2, n+1):\n",
    "        v *= i\n",
    "    return v"
   ]
  },
  {
   "cell_type": "code",
   "execution_count": null,
   "metadata": {},
   "outputs": [],
   "source": [
    "import time\n",
    "def compare_running_times(experiments, trials, algorithms, args=None):\n",
    "    '''Takes as input two functions/algorithms and compares their running times\n",
    "       over a given number of experiments/tests (+1). Each experiment consists of a number\n",
    "       of trials, whose results are averaged. The results of the comparisons are printed out.\n",
    "       Inputs: experiments (integer) specifies the number of tests, where the index of each \n",
    "               experiment is used as input for the algorithms. trials (integer) specifies \n",
    "               how many times each experiment is repeated, accounting for random variability. \n",
    "               The running times observed in each trial are averaged to compute the average \n",
    "               running time for each experiment. algorithms (list) is a list\n",
    "               of two lists, where each list element contains in turn two elements, the\n",
    "               first one is a string with the name of the algorithm, and the second is a\n",
    "               variable holding the reference to a function (that implements the algorithm), e.g.,\n",
    "               algorithms = [ ['label alg 1', function_alg_1],['label alg 2', function_alg_2] ].\n",
    "               args (list) is a list of two lists with the additional arguments to pass to the\n",
    "               two functions, if any. e.g. args = [x, y], or arg = [x, None] if the second algorithm\n",
    "               doesn't take any additional parameter.\n",
    "        Output: None is returned. However, for each trial, a summary of the observed running\n",
    "                times for the two algorithms, as well as their ratio, is printed out.\n",
    "    '''\n",
    "    for n in range(experiments + 1):\n",
    "        total = []\n",
    "        msg = 'n={}, '.format(n)\n",
    "        for a in (0,1):\n",
    "            observed_times = []\n",
    "            for r in range(trials):\n",
    "                start = time.process_time()\n",
    "                algorithm = algorithms[a][1]\n",
    "                if args == None:\n",
    "                    algorithm(n)\n",
    "                else:\n",
    "                    if args[a] != None:\n",
    "                        algorithm(n, args[a])\n",
    "                    else:\n",
    "                        algorithm(n)\n",
    "                end = time.process_time()\n",
    "                observed_times.append(end - start)\n",
    "            average_time = sum(observed_times) / trials\n",
    "            total.append(average_time)\n",
    "            msg += '{:s}: {:.9f}, '.format(algorithms[a][0], total[-1])\n",
    "        msg += 'ratio: {:.3f}'.format(total[0] / total[1])\n",
    "        print(msg)\n",
    "\n",
    "compare_running_times(40, 30, [ ['factorial recursion', factorial], ['factorial iteration', factorial_it] ])"
   ]
  },
  {
   "cell_type": "code",
   "execution_count": null,
   "metadata": {},
   "outputs": [],
   "source": [
    "def exponentiate(x, n):\n",
    "    if n == 0:\n",
    "        return 1\n",
    "    else: \n",
    "        return x * exponentiate(x, n - 1)"
   ]
  },
  {
   "cell_type": "code",
   "execution_count": null,
   "metadata": {},
   "outputs": [],
   "source": [
    "exponentiate(0, 10)"
   ]
  },
  {
   "cell_type": "code",
   "execution_count": null,
   "metadata": {},
   "outputs": [],
   "source": [
    "def summation(n):\n",
    "    if n == 0:\n",
    "        return 0\n",
    "    else: \n",
    "        return n + summation(n - 1)"
   ]
  },
  {
   "cell_type": "code",
   "execution_count": null,
   "metadata": {},
   "outputs": [],
   "source": [
    "n = 100\n",
    "print(summation(n), (n * (n+1))/2)"
   ]
  },
  {
   "cell_type": "code",
   "execution_count": null,
   "metadata": {},
   "outputs": [],
   "source": [
    "def fibonacci(n):\n",
    "    if n == 0:\n",
    "        return 0\n",
    "    elif n == 1:\n",
    "        return 1\n",
    "    else:\n",
    "        return fibonacci(n-1) + fibonacci(n-2)"
   ]
  },
  {
   "cell_type": "code",
   "execution_count": 271,
   "metadata": {},
   "outputs": [
    {
     "name": "stdout",
     "output_type": "stream",
     "text": [
      "0\n",
      "1\n",
      "1\n",
      "2\n",
      "3\n",
      "5\n",
      "8\n",
      "13\n",
      "21\n",
      "34\n",
      "55\n",
      "89\n",
      "144\n",
      "233\n",
      "377\n",
      "610\n",
      "987\n",
      "1597\n",
      "2584\n",
      "4181\n"
     ]
    }
   ],
   "source": [
    "for i in range(20):\n",
    "    print(fibonacci(i))"
   ]
  },
  {
   "cell_type": "code",
   "execution_count": null,
   "metadata": {},
   "outputs": [],
   "source": [
    "def fibonacci_iteration(n):\n",
    "    past_state, new_state = 0, 1\n",
    "    if n == 0:\n",
    "        return 0\n",
    "    for i in range(n-1):\n",
    "        past_state, new_state = new_state, past_state + new_state\n",
    "    return new_state"
   ]
  },
  {
   "cell_type": "code",
   "execution_count": null,
   "metadata": {},
   "outputs": [],
   "source": [
    "compare_running_times(35, 20, [ ['fibonacci recursion', fibonacci], ['fibonacci iteration', fibonacci_iteration]])"
   ]
  },
  {
   "cell_type": "code",
   "execution_count": null,
   "metadata": {},
   "outputs": [],
   "source": [
    "computed = {0:0, 1:1}\n",
    "def fibonacci_memoization(n, computed):\n",
    "    if n not in computed:\n",
    "        computed[n] = fibonacci_memoization(n-1, computed) + fibonacci_memoization(n-2, computed)\n",
    "    return computed[n]\n",
    "\n",
    "fibonacci_memoization(40, computed)\n",
    "\n",
    "def fibonacci_memoization_g(n):\n",
    "    global computed\n",
    "    if n not in computed:\n",
    "        computed[n] = fibonacci_memoization_g(n-1) + fibonacci_memoization_g(n-2)\n",
    "    return computed[n]\n",
    "\n",
    "fibonacci_memoization_g(50)"
   ]
  },
  {
   "cell_type": "code",
   "execution_count": 270,
   "metadata": {},
   "outputs": [
    {
     "name": "stdout",
     "output_type": "stream",
     "text": [
      "n=0, fibonacci rec+memoization: 0.000003000, fibonacci iteration: 0.000002400, ratio: 1.250\n",
      "n=1, fibonacci rec+memoization: 0.000002400, fibonacci iteration: 0.000003000, ratio: 0.800\n",
      "n=2, fibonacci rec+memoization: 0.000003000, fibonacci iteration: 0.000005000, ratio: 0.600\n",
      "n=3, fibonacci rec+memoization: 0.000002600, fibonacci iteration: 0.000003400, ratio: 0.765\n",
      "n=4, fibonacci rec+memoization: 0.000002600, fibonacci iteration: 0.000003400, ratio: 0.765\n",
      "n=5, fibonacci rec+memoization: 0.000002600, fibonacci iteration: 0.000003400, ratio: 0.765\n",
      "n=6, fibonacci rec+memoization: 0.000002600, fibonacci iteration: 0.000003600, ratio: 0.722\n",
      "n=7, fibonacci rec+memoization: 0.000002400, fibonacci iteration: 0.000003600, ratio: 0.667\n",
      "n=8, fibonacci rec+memoization: 0.000002600, fibonacci iteration: 0.000003800, ratio: 0.684\n",
      "n=9, fibonacci rec+memoization: 0.000002600, fibonacci iteration: 0.000003800, ratio: 0.684\n",
      "n=10, fibonacci rec+memoization: 0.000002800, fibonacci iteration: 0.000003800, ratio: 0.737\n",
      "n=11, fibonacci rec+memoization: 0.000002200, fibonacci iteration: 0.000004000, ratio: 0.550\n",
      "n=12, fibonacci rec+memoization: 0.000002600, fibonacci iteration: 0.000004400, ratio: 0.591\n",
      "n=13, fibonacci rec+memoization: 0.000003800, fibonacci iteration: 0.000006400, ratio: 0.594\n",
      "n=14, fibonacci rec+memoization: 0.000004200, fibonacci iteration: 0.000006000, ratio: 0.700\n",
      "n=15, fibonacci rec+memoization: 0.000002800, fibonacci iteration: 0.000004800, ratio: 0.583\n",
      "n=16, fibonacci rec+memoization: 0.000002600, fibonacci iteration: 0.000004600, ratio: 0.565\n",
      "n=17, fibonacci rec+memoization: 0.000002800, fibonacci iteration: 0.000004800, ratio: 0.583\n",
      "n=18, fibonacci rec+memoization: 0.000004000, fibonacci iteration: 0.000006200, ratio: 0.645\n",
      "n=19, fibonacci rec+memoization: 0.000002800, fibonacci iteration: 0.000005000, ratio: 0.560\n",
      "n=20, fibonacci rec+memoization: 0.000002800, fibonacci iteration: 0.000005200, ratio: 0.538\n",
      "n=21, fibonacci rec+memoization: 0.000002800, fibonacci iteration: 0.000005200, ratio: 0.538\n",
      "n=22, fibonacci rec+memoization: 0.000003000, fibonacci iteration: 0.000005400, ratio: 0.556\n",
      "n=23, fibonacci rec+memoization: 0.000002600, fibonacci iteration: 0.000005800, ratio: 0.448\n",
      "n=24, fibonacci rec+memoization: 0.000002800, fibonacci iteration: 0.000005600, ratio: 0.500\n",
      "n=25, fibonacci rec+memoization: 0.000002600, fibonacci iteration: 0.000008400, ratio: 0.310\n",
      "n=26, fibonacci rec+memoization: 0.000004000, fibonacci iteration: 0.000009000, ratio: 0.444\n",
      "n=27, fibonacci rec+memoization: 0.000004400, fibonacci iteration: 0.000010200, ratio: 0.431\n",
      "n=28, fibonacci rec+memoization: 0.000002400, fibonacci iteration: 0.000005800, ratio: 0.414\n",
      "n=29, fibonacci rec+memoization: 0.000002400, fibonacci iteration: 0.000005800, ratio: 0.414\n",
      "n=30, fibonacci rec+memoization: 0.000002400, fibonacci iteration: 0.000005800, ratio: 0.414\n",
      "n=31, fibonacci rec+memoization: 0.000002400, fibonacci iteration: 0.000006000, ratio: 0.400\n",
      "n=32, fibonacci rec+memoization: 0.000002400, fibonacci iteration: 0.000006200, ratio: 0.387\n",
      "n=33, fibonacci rec+memoization: 0.000003600, fibonacci iteration: 0.000006000, ratio: 0.600\n",
      "n=34, fibonacci rec+memoization: 0.000002400, fibonacci iteration: 0.000006200, ratio: 0.387\n",
      "n=35, fibonacci rec+memoization: 0.000002400, fibonacci iteration: 0.000006200, ratio: 0.387\n",
      "n=36, fibonacci rec+memoization: 0.000002400, fibonacci iteration: 0.000006400, ratio: 0.375\n",
      "n=37, fibonacci rec+memoization: 0.000002400, fibonacci iteration: 0.000006600, ratio: 0.364\n",
      "n=38, fibonacci rec+memoization: 0.000002200, fibonacci iteration: 0.000006800, ratio: 0.324\n",
      "n=39, fibonacci rec+memoization: 0.000002600, fibonacci iteration: 0.000007000, ratio: 0.371\n",
      "n=40, fibonacci rec+memoization: 0.000003000, fibonacci iteration: 0.000006800, ratio: 0.441\n"
     ]
    }
   ],
   "source": [
    "computed = {0:0, 1:1}\n",
    "compare_running_times(40, 10, [ ['fibonacci rec+memoization', fibonacci_memoization], \n",
    "                                ['fibonacci iteration', fibonacci_iteration]], [computed, None])"
   ]
  },
  {
   "cell_type": "code",
   "execution_count": null,
   "metadata": {},
   "outputs": [],
   "source": [
    "def exponent_divide(x, n): \n",
    "    global count\n",
    "    count += 1\n",
    "    # Base Cases \n",
    "    if (n == 0): \n",
    "        return 1\n",
    "    if (x == 0): \n",
    "        return 0\n",
    "      \n",
    "    # If n is even \n",
    "    if (n % 2 == 0): \n",
    "        y = exponent_divide(x, n/2) \n",
    "        return y * y\n",
    "      \n",
    "    # If n is odd \n",
    "    else: \n",
    "        y = exponent_divide(x, (n-1)/2)  \n",
    "        return  x * (y * y)"
   ]
  },
  {
   "cell_type": "code",
   "execution_count": null,
   "metadata": {},
   "outputs": [],
   "source": [
    "import math\n",
    "n = 1000\n",
    "x = 5\n",
    "count = 0\n",
    "print(exponent_divide(x,n), count/2, math.log(n)) "
   ]
  },
  {
   "cell_type": "code",
   "execution_count": null,
   "metadata": {},
   "outputs": [],
   "source": [
    "def nested_sum(l):\n",
    "    total = 0\n",
    "    for element in l:\n",
    "        if (type(element) != type([])):\n",
    "            total += element\n",
    "        else:\n",
    "            total += nested_sum(element)\n",
    "    return total\n",
    "print( \"Sum is:\", nested_sum([ 1,2, [1,2,3], [3,4, [1,2,[3,2]]] ]))\n"
   ]
  },
  {
   "cell_type": "code",
   "execution_count": null,
   "metadata": {},
   "outputs": [],
   "source": [
    "def binary_search(values, start_pos, end_pos, key):\n",
    "    '''Search key in list values from index (start_pos) to index (end_pos - 1).\n",
    "        Returns the index of the key in the list, or -1 if not found.'''\n",
    "    if not start_pos < end_pos:\n",
    "        return -1\n",
    "    mid = (start_pos + end_pos) // 2\n",
    "    if values[mid] < key:\n",
    "        return binary_search(values, mid + 1, end_pos, key)\n",
    "    elif values[mid] > key:\n",
    "        return binary_search(values, start_pos, mid, key)\n",
    "    else:\n",
    "        return mid\n",
    " "
   ]
  },
  {
   "cell_type": "code",
   "execution_count": null,
   "metadata": {},
   "outputs": [],
   "source": [
    "v = [3,4,5,39,54,78,109]\n",
    "binary_search(v, 0, len(v), 78)"
   ]
  },
  {
   "cell_type": "code",
   "execution_count": null,
   "metadata": {},
   "outputs": [],
   "source": [
    "binary_search(v, 0, len(v), 32)"
   ]
  }
 ],
 "metadata": {
  "kernelspec": {
   "display_name": "Python 3",
   "language": "python",
   "name": "python3"
  },
  "language_info": {
   "codemirror_mode": {
    "name": "ipython",
    "version": 3
   },
   "file_extension": ".py",
   "mimetype": "text/x-python",
   "name": "python",
   "nbconvert_exporter": "python",
   "pygments_lexer": "ipython3",
   "version": "3.7.2"
  }
 },
 "nbformat": 4,
 "nbformat_minor": 2
}
