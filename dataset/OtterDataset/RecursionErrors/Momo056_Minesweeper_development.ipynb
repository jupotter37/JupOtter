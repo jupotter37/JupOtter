{
 "cells": [
  {
   "cell_type": "code",
   "execution_count": 1,
   "metadata": {},
   "outputs": [],
   "source": [
    "from src.Game import Game\n",
    "from src.Players.Minesweeper_bot import Minesweeper_bot\n",
    "from src.UI.GUI_Bot_Inputs import GUI_Bot_Inputs\n",
    "from src.UI.No_UI import No_UI\n",
    "from src.Grid import Grid\n",
    "\n",
    "import numpy as np"
   ]
  },
  {
   "cell_type": "code",
   "execution_count": 2,
   "metadata": {},
   "outputs": [
    {
     "name": "stdout",
     "output_type": "stream",
     "text": [
      "Found a losing grid\n"
     ]
    }
   ],
   "source": [
    "grid_size = (20, 20)\n",
    "mine_percent = 0.30\n",
    "max_iter = 100\n",
    "bot_provider = lambda : Minesweeper_bot(True)\n",
    "for i in range(max_iter):\n",
    "    grid = Grid(*grid_size, mine_percent)\n",
    "    result = No_UI().start(\n",
    "        Game(grid),\n",
    "        bot_provider()\n",
    "    )\n",
    "    if not result:\n",
    "        print('Found a losing grid')\n",
    "        GUI_Bot_Inputs(delay=100).start(Game(grid), bot_provider())\n",
    "        break\n",
    "else:\n",
    "    print('Won everytime')"
   ]
  },
  {
   "cell_type": "code",
   "execution_count": 3,
   "metadata": {},
   "outputs": [
    {
     "data": {
      "text/plain": [
       "array([[False, False,  True, False, False, False],\n",
       "       [False,  True, False, False, False, False],\n",
       "       [False, False, False,  True, False, False],\n",
       "       [False,  True, False, False, False, False],\n",
       "       [ True,  True, False, False, False, False],\n",
       "       [False, False, False, False, False, False],\n",
       "       [False, False, False, False, False, False]])"
      ]
     },
     "execution_count": 3,
     "metadata": {},
     "output_type": "execute_result"
    }
   ],
   "source": [
    "base_mines = np.array([\n",
    "        [0, 0, 1, 0, 0, 0.],\n",
    "        [0, 1, 0, 0, 0, 0.],\n",
    "        [0, 0, 0, 1, 0, 0.],\n",
    "        [0, 1, 0, 0, 0, 0.],\n",
    "        [1, 1, 0, 0, 0, 0.],\n",
    "        [0, 0, 0, 0, 0, 0.],\n",
    "        [0, 0, 0, 0, 0, 0.],\n",
    "    ],\n",
    "    dtype=bool\n",
    ")\n",
    "base_mines"
   ]
  },
  {
   "cell_type": "code",
   "execution_count": 4,
   "metadata": {},
   "outputs": [
    {
     "ename": "NameError",
     "evalue": "name 'Command_Line_UI' is not defined",
     "output_type": "error",
     "traceback": [
      "\u001b[1;31m---------------------------------------------------------------------------\u001b[0m",
      "\u001b[1;31mNameError\u001b[0m                                 Traceback (most recent call last)",
      "Cell \u001b[1;32mIn[4], line 13\u001b[0m\n\u001b[0;32m      7\u001b[0m \u001b[38;5;66;03m# game.action(1, 2)\u001b[39;00m\n\u001b[0;32m      8\u001b[0m \u001b[38;5;66;03m# game.action(0, 1)\u001b[39;00m\n\u001b[0;32m      9\u001b[0m \u001b[38;5;66;03m# Minesweeper bot is unable to decide\u001b[39;00m\n\u001b[0;32m     10\u001b[0m \u001b[38;5;66;03m# GUI_User_Inputs().start(game)\u001b[39;00m\n\u001b[0;32m     11\u001b[0m bot \u001b[38;5;241m=\u001b[39m Minesweeper_bot()\n\u001b[1;32m---> 13\u001b[0m game_result \u001b[38;5;241m=\u001b[39m \u001b[43mCommand_Line_UI\u001b[49m()\u001b[38;5;241m.\u001b[39mstart(game, bot)\n\u001b[0;32m     14\u001b[0m game_result\n",
      "\u001b[1;31mNameError\u001b[0m: name 'Command_Line_UI' is not defined"
     ]
    }
   ],
   "source": [
    "test_grid = Grid(4, 5, 0.1)\n",
    "test_grid.mines = base_mines\n",
    "test_grid.n_bomb = np.sum(base_mines)\n",
    "test_grid.update()\n",
    "game = Game(test_grid)\n",
    "game.action(5, 5)\n",
    "# game.action(1, 2)\n",
    "# game.action(0, 1)\n",
    "# Minesweeper bot is unable to decide\n",
    "# GUI_User_Inputs().start(game)\n",
    "bot = Minesweeper_bot()\n",
    "\n",
    "game_result = Command_Line_UI().start(game, bot)\n",
    "game_result"
   ]
  },
  {
   "cell_type": "code",
   "execution_count": 261,
   "metadata": {},
   "outputs": [
    {
     "data": {
      "text/plain": [
       "array([[False, False,  True, False, False, False],\n",
       "       [False,  True, False, False, False, False],\n",
       "       [False, False, False,  True, False, False],\n",
       "       [False,  True, False, False, False, False],\n",
       "       [ True,  True, False, False, False, False],\n",
       "       [False, False, False, False, False, False],\n",
       "       [False, False, False, False, False, False]])"
      ]
     },
     "execution_count": 261,
     "metadata": {},
     "output_type": "execute_result"
    }
   ],
   "source": [
    "test_grid.mines"
   ]
  },
  {
   "cell_type": "code",
   "execution_count": 289,
   "metadata": {},
   "outputs": [
    {
     "name": "stdout",
     "output_type": "stream",
     "text": [
      "Hey\n",
      "Hey\n",
      "Hey\n",
      "Hey\n",
      "Hey\n",
      "Hey\n",
      "Hey\n",
      "Hey\n",
      "Hey\n",
      "Hey\n",
      "Hey\n",
      "Hey\n",
      "Hey\n",
      "Hey\n",
      "Hey\n",
      "Hey\n",
      "Hey\n",
      "Hey\n",
      "Hey\n",
      "Hey\n",
      "Hey\n",
      "Hey\n",
      "Hey\n",
      "Hey\n",
      "Hey\n",
      "Hey\n",
      "Hey\n",
      "Hey\n",
      "Hey\n",
      "Hey\n",
      "Hey\n",
      "Hey\n",
      "Hey\n",
      "Hey\n",
      "Hey\n",
      "Hey\n",
      "Hey\n",
      "Hey\n",
      "Hey\n",
      "Hey\n",
      "Hey\n",
      "Hey\n",
      "Hey\n",
      "Hey\n",
      "Hey\n",
      "Found a losing grid\n",
      "Hey\n",
      "Hey\n",
      "Hey\n",
      "Hey\n",
      "Hey\n",
      "Hey\n",
      "Hey\n",
      "Hey\n",
      "Hey\n",
      "Hey\n",
      "Hey\n",
      "Hey\n",
      "Hey\n",
      "Hey\n",
      "Hey\n"
     ]
    }
   ],
   "source": [
    "grid_size = (10, 10)\n",
    "mine_percent = 0.20\n",
    "max_iter = 100\n",
    "for i in range(max_iter):\n",
    "    grid = Grid(*grid_size, mine_percent)\n",
    "    result = No_UI().start(\n",
    "        Game(grid),\n",
    "        Minesweeper_bot()\n",
    "    )\n",
    "    if not result:\n",
    "        print('Found a losing grid')\n",
    "        GUI_Bot_Inputs(delay=100).start(Game(grid), Minesweeper_bot())\n",
    "        break\n",
    "else:\n",
    "    print('Won everytime')"
   ]
  },
  {
   "cell_type": "code",
   "execution_count": 278,
   "metadata": {},
   "outputs": [],
   "source": [
    "GUI_User_Inputs().start(Game(grid))"
   ]
  },
  {
   "cell_type": "code",
   "execution_count": 279,
   "metadata": {},
   "outputs": [
    {
     "name": "stdout",
     "output_type": "stream",
     "text": [
      "Hey\n"
     ]
    },
    {
     "data": {
      "text/plain": [
       "False"
      ]
     },
     "execution_count": 279,
     "metadata": {},
     "output_type": "execute_result"
    }
   ],
   "source": []
  },
  {
   "cell_type": "code",
   "execution_count": 237,
   "metadata": {},
   "outputs": [
    {
     "data": {
      "text/plain": [
       "array([[False, False,  True, False,  True, False, False, False, False,\n",
       "        False],\n",
       "       [False, False, False, False, False, False, False, False,  True,\n",
       "        False],\n",
       "       [False, False, False, False,  True, False, False, False, False,\n",
       "        False],\n",
       "       [False, False,  True, False, False, False, False, False, False,\n",
       "        False],\n",
       "       [False, False, False, False, False, False, False, False,  True,\n",
       "        False],\n",
       "       [False, False, False, False, False, False, False, False, False,\n",
       "        False],\n",
       "       [False, False, False, False,  True, False, False, False, False,\n",
       "        False],\n",
       "       [False, False,  True, False,  True, False, False, False, False,\n",
       "         True],\n",
       "       [False, False, False, False, False,  True,  True, False, False,\n",
       "        False],\n",
       "       [ True,  True, False, False, False, False,  True, False, False,\n",
       "        False]])"
      ]
     },
     "execution_count": 237,
     "metadata": {},
     "output_type": "execute_result"
    }
   ],
   "source": [
    "grid.mines"
   ]
  },
  {
   "cell_type": "code",
   "execution_count": 240,
   "metadata": {},
   "outputs": [
    {
     "ename": "RecursionError",
     "evalue": "maximum recursion depth exceeded",
     "output_type": "error",
     "traceback": [
      "\u001b[1;31m---------------------------------------------------------------------------\u001b[0m",
      "\u001b[1;31mRecursionError\u001b[0m                            Traceback (most recent call last)",
      "Cell \u001b[1;32mIn[240], line 1\u001b[0m\n\u001b[1;32m----> 1\u001b[0m \u001b[43mGame\u001b[49m\u001b[43m(\u001b[49m\u001b[43mgrid\u001b[49m\u001b[43m)\u001b[49m\u001b[38;5;241;43m.\u001b[39;49m\u001b[43maction\u001b[49m\u001b[43m(\u001b[49m\u001b[38;5;241;43m5\u001b[39;49m\u001b[43m,\u001b[49m\u001b[43m \u001b[49m\u001b[38;5;241;43m5\u001b[39;49m\u001b[43m)\u001b[49m\n",
      "Cell \u001b[1;32mIn[160], line 17\u001b[0m, in \u001b[0;36mGame.action\u001b[1;34m(self, x, y)\u001b[0m\n\u001b[0;32m     14\u001b[0m \u001b[38;5;28;01mdef\u001b[39;00m \u001b[38;5;21maction\u001b[39m(\u001b[38;5;28mself\u001b[39m, x: \u001b[38;5;28mint\u001b[39m, y: \u001b[38;5;28mint\u001b[39m):\u001b[38;5;66;03m# Discover new part (or not new) of the grid\u001b[39;00m\n\u001b[0;32m     15\u001b[0m     \u001b[38;5;28;01mif\u001b[39;00m np\u001b[38;5;241m.\u001b[39msum(\u001b[38;5;28mself\u001b[39m\u001b[38;5;241m.\u001b[39mplayer_grid_view) \u001b[38;5;241m==\u001b[39m \u001b[38;5;241m0\u001b[39m:\n\u001b[0;32m     16\u001b[0m         \u001b[38;5;66;03m# First action of the player, we move the grid such that the player input is on a empty cell\u001b[39;00m\n\u001b[1;32m---> 17\u001b[0m         \u001b[38;5;28;43mself\u001b[39;49m\u001b[38;5;241;43m.\u001b[39;49m\u001b[43mgrid\u001b[49m\u001b[38;5;241;43m.\u001b[39;49m\u001b[43mmove_to_empty\u001b[49m\u001b[43m(\u001b[49m\u001b[43mx\u001b[49m\u001b[43m,\u001b[49m\u001b[43m \u001b[49m\u001b[43my\u001b[49m\u001b[43m)\u001b[49m\n\u001b[0;32m     19\u001b[0m     \u001b[38;5;28mself\u001b[39m\u001b[38;5;241m.\u001b[39mplayer_grid_view \u001b[38;5;241m=\u001b[39m np\u001b[38;5;241m.\u001b[39mlogical_or(\n\u001b[0;32m     20\u001b[0m         \u001b[38;5;28mself\u001b[39m\u001b[38;5;241m.\u001b[39mplayer_grid_view,\n\u001b[0;32m     21\u001b[0m         \u001b[38;5;28mself\u001b[39m\u001b[38;5;241m.\u001b[39mgrid\u001b[38;5;241m.\u001b[39mdiscover(x, y),\n\u001b[0;32m     22\u001b[0m     )\n",
      "Cell \u001b[1;32mIn[160], line 72\u001b[0m, in \u001b[0;36mGrid.move_to_empty\u001b[1;34m(self, x, y)\u001b[0m\n\u001b[0;32m     69\u001b[0m \u001b[38;5;28mself\u001b[39m\u001b[38;5;241m.\u001b[39mslide_grid(\u001b[38;5;241m*\u001b[39m(np\u001b[38;5;241m.\u001b[39marray([x, y]) \u001b[38;5;241m-\u001b[39m destination))\n\u001b[0;32m     70\u001b[0m \u001b[38;5;66;03m# On edge cases, we might still be not on the lowest possible grid value\u001b[39;00m\n\u001b[0;32m     71\u001b[0m \u001b[38;5;66;03m# We itrate until it is stable\u001b[39;00m\n\u001b[1;32m---> 72\u001b[0m \u001b[38;5;28;01mreturn\u001b[39;00m \u001b[38;5;28;43mself\u001b[39;49m\u001b[38;5;241;43m.\u001b[39;49m\u001b[43mmove_to_empty\u001b[49m\u001b[43m(\u001b[49m\u001b[43mx\u001b[49m\u001b[43m,\u001b[49m\u001b[43m \u001b[49m\u001b[43my\u001b[49m\u001b[43m)\u001b[49m\n",
      "Cell \u001b[1;32mIn[160], line 72\u001b[0m, in \u001b[0;36mGrid.move_to_empty\u001b[1;34m(self, x, y)\u001b[0m\n\u001b[0;32m     69\u001b[0m \u001b[38;5;28mself\u001b[39m\u001b[38;5;241m.\u001b[39mslide_grid(\u001b[38;5;241m*\u001b[39m(np\u001b[38;5;241m.\u001b[39marray([x, y]) \u001b[38;5;241m-\u001b[39m destination))\n\u001b[0;32m     70\u001b[0m \u001b[38;5;66;03m# On edge cases, we might still be not on the lowest possible grid value\u001b[39;00m\n\u001b[0;32m     71\u001b[0m \u001b[38;5;66;03m# We itrate until it is stable\u001b[39;00m\n\u001b[1;32m---> 72\u001b[0m \u001b[38;5;28;01mreturn\u001b[39;00m \u001b[38;5;28;43mself\u001b[39;49m\u001b[38;5;241;43m.\u001b[39;49m\u001b[43mmove_to_empty\u001b[49m\u001b[43m(\u001b[49m\u001b[43mx\u001b[49m\u001b[43m,\u001b[49m\u001b[43m \u001b[49m\u001b[43my\u001b[49m\u001b[43m)\u001b[49m\n",
      "    \u001b[1;31m[... skipping similar frames: Grid.move_to_empty at line 72 (2969 times)]\u001b[0m\n",
      "Cell \u001b[1;32mIn[160], line 72\u001b[0m, in \u001b[0;36mGrid.move_to_empty\u001b[1;34m(self, x, y)\u001b[0m\n\u001b[0;32m     69\u001b[0m \u001b[38;5;28mself\u001b[39m\u001b[38;5;241m.\u001b[39mslide_grid(\u001b[38;5;241m*\u001b[39m(np\u001b[38;5;241m.\u001b[39marray([x, y]) \u001b[38;5;241m-\u001b[39m destination))\n\u001b[0;32m     70\u001b[0m \u001b[38;5;66;03m# On edge cases, we might still be not on the lowest possible grid value\u001b[39;00m\n\u001b[0;32m     71\u001b[0m \u001b[38;5;66;03m# We itrate until it is stable\u001b[39;00m\n\u001b[1;32m---> 72\u001b[0m \u001b[38;5;28;01mreturn\u001b[39;00m \u001b[38;5;28;43mself\u001b[39;49m\u001b[38;5;241;43m.\u001b[39;49m\u001b[43mmove_to_empty\u001b[49m\u001b[43m(\u001b[49m\u001b[43mx\u001b[49m\u001b[43m,\u001b[49m\u001b[43m \u001b[49m\u001b[43my\u001b[49m\u001b[43m)\u001b[49m\n",
      "Cell \u001b[1;32mIn[160], line 64\u001b[0m, in \u001b[0;36mGrid.move_to_empty\u001b[1;34m(self, x, y)\u001b[0m\n\u001b[0;32m     61\u001b[0m \u001b[38;5;28;01mif\u001b[39;00m values[x, y] \u001b[38;5;241m==\u001b[39m min_value:\n\u001b[0;32m     62\u001b[0m     \u001b[38;5;28;01mreturn\u001b[39;00m values[x, y]\n\u001b[1;32m---> 64\u001b[0m possible_destinations \u001b[38;5;241m=\u001b[39m \u001b[43mnp\u001b[49m\u001b[38;5;241;43m.\u001b[39;49m\u001b[43margwhere\u001b[49m\u001b[43m(\u001b[49m\u001b[43mvalues\u001b[49m\u001b[43m \u001b[49m\u001b[38;5;241;43m==\u001b[39;49m\u001b[43m \u001b[49m\u001b[43mmin_value\u001b[49m\u001b[43m)\u001b[49m\n\u001b[0;32m     65\u001b[0m \u001b[38;5;66;03m# destination: np.ndarray = choices(possible_destinations, k=1)[0]\u001b[39;00m\n\u001b[0;32m     66\u001b[0m destination \u001b[38;5;241m=\u001b[39m possible_destinations[\u001b[38;5;241m0\u001b[39m]\n",
      "File \u001b[1;32mc:\\Users\\Antoine\\Documents\\Projets-personels\\Python_env\\venv312\\Lib\\site-packages\\numpy\\core\\numeric.py:608\u001b[0m, in \u001b[0;36margwhere\u001b[1;34m(a)\u001b[0m\n\u001b[0;32m    606\u001b[0m     \u001b[38;5;66;03m# then remove the added dimension\u001b[39;00m\n\u001b[0;32m    607\u001b[0m     \u001b[38;5;28;01mreturn\u001b[39;00m argwhere(a)[:,:\u001b[38;5;241m0\u001b[39m]\n\u001b[1;32m--> 608\u001b[0m \u001b[38;5;28;01mreturn\u001b[39;00m \u001b[43mtranspose\u001b[49m\u001b[43m(\u001b[49m\u001b[43mnonzero\u001b[49m\u001b[43m(\u001b[49m\u001b[43ma\u001b[49m\u001b[43m)\u001b[49m\u001b[43m)\u001b[49m\n",
      "File \u001b[1;32mc:\\Users\\Antoine\\Documents\\Projets-personels\\Python_env\\venv312\\Lib\\site-packages\\numpy\\core\\fromnumeric.py:655\u001b[0m, in \u001b[0;36mtranspose\u001b[1;34m(a, axes)\u001b[0m\n\u001b[0;32m    588\u001b[0m \u001b[38;5;129m@array_function_dispatch\u001b[39m(_transpose_dispatcher)\n\u001b[0;32m    589\u001b[0m \u001b[38;5;28;01mdef\u001b[39;00m \u001b[38;5;21mtranspose\u001b[39m(a, axes\u001b[38;5;241m=\u001b[39m\u001b[38;5;28;01mNone\u001b[39;00m):\n\u001b[0;32m    590\u001b[0m \u001b[38;5;250m    \u001b[39m\u001b[38;5;124;03m\"\"\"\u001b[39;00m\n\u001b[0;32m    591\u001b[0m \u001b[38;5;124;03m    Returns an array with axes transposed.\u001b[39;00m\n\u001b[0;32m    592\u001b[0m \n\u001b[1;32m   (...)\u001b[0m\n\u001b[0;32m    653\u001b[0m \n\u001b[0;32m    654\u001b[0m \u001b[38;5;124;03m    \"\"\"\u001b[39;00m\n\u001b[1;32m--> 655\u001b[0m     \u001b[38;5;28;01mreturn\u001b[39;00m \u001b[43m_wrapfunc\u001b[49m\u001b[43m(\u001b[49m\u001b[43ma\u001b[49m\u001b[43m,\u001b[49m\u001b[43m \u001b[49m\u001b[38;5;124;43m'\u001b[39;49m\u001b[38;5;124;43mtranspose\u001b[39;49m\u001b[38;5;124;43m'\u001b[39;49m\u001b[43m,\u001b[49m\u001b[43m \u001b[49m\u001b[43maxes\u001b[49m\u001b[43m)\u001b[49m\n",
      "File \u001b[1;32mc:\\Users\\Antoine\\Documents\\Projets-personels\\Python_env\\venv312\\Lib\\site-packages\\numpy\\core\\fromnumeric.py:56\u001b[0m, in \u001b[0;36m_wrapfunc\u001b[1;34m(obj, method, *args, **kwds)\u001b[0m\n\u001b[0;32m     54\u001b[0m bound \u001b[38;5;241m=\u001b[39m \u001b[38;5;28mgetattr\u001b[39m(obj, method, \u001b[38;5;28;01mNone\u001b[39;00m)\n\u001b[0;32m     55\u001b[0m \u001b[38;5;28;01mif\u001b[39;00m bound \u001b[38;5;129;01mis\u001b[39;00m \u001b[38;5;28;01mNone\u001b[39;00m:\n\u001b[1;32m---> 56\u001b[0m     \u001b[38;5;28;01mreturn\u001b[39;00m \u001b[43m_wrapit\u001b[49m\u001b[43m(\u001b[49m\u001b[43mobj\u001b[49m\u001b[43m,\u001b[49m\u001b[43m \u001b[49m\u001b[43mmethod\u001b[49m\u001b[43m,\u001b[49m\u001b[43m \u001b[49m\u001b[38;5;241;43m*\u001b[39;49m\u001b[43margs\u001b[49m\u001b[43m,\u001b[49m\u001b[43m \u001b[49m\u001b[38;5;241;43m*\u001b[39;49m\u001b[38;5;241;43m*\u001b[39;49m\u001b[43mkwds\u001b[49m\u001b[43m)\u001b[49m\n\u001b[0;32m     58\u001b[0m \u001b[38;5;28;01mtry\u001b[39;00m:\n\u001b[0;32m     59\u001b[0m     \u001b[38;5;28;01mreturn\u001b[39;00m bound(\u001b[38;5;241m*\u001b[39margs, \u001b[38;5;241m*\u001b[39m\u001b[38;5;241m*\u001b[39mkwds)\n",
      "\u001b[1;31mRecursionError\u001b[0m: maximum recursion depth exceeded"
     ]
    }
   ],
   "source": [
    "Game(grid).action(5, 5)"
   ]
  },
  {
   "cell_type": "code",
   "execution_count": null,
   "metadata": {},
   "outputs": [],
   "source": []
  }
 ],
 "metadata": {
  "kernelspec": {
   "display_name": "venv312",
   "language": "python",
   "name": "python3"
  },
  "language_info": {
   "codemirror_mode": {
    "name": "ipython",
    "version": 3
   },
   "file_extension": ".py",
   "mimetype": "text/x-python",
   "name": "python",
   "nbconvert_exporter": "python",
   "pygments_lexer": "ipython3",
   "version": "3.12.3"
  }
 },
 "nbformat": 4,
 "nbformat_minor": 2
}
