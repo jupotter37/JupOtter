{
  "cells": [
    {
      "cell_type": "markdown",
      "metadata": {
        "id": "pb0MWXO7oXhH"
      },
      "source": [
        "# Functions in Python"
      ]
    },
    {
      "cell_type": "markdown",
      "metadata": {
        "id": "JcKWdsscoXhI"
      },
      "source": [
        "## Why Use Functions?\n",
        "\n",
        "- Functions help us:\n",
        "    - <u>recycle code: </u>\n",
        "        - **Rule of three**: https://en.wikipedia.org/wiki/Rule_of_three_(computer_programming)\n",
        "        - **DRY principle**: https://en.wikipedia.org/wiki/Don%27t_repeat_yourself\n",
        "    - <u>document steps</u>\n",
        "        - **docstrings**: https://www.python.org/dev/peps/pep-0257/\n",
        "    - <u>organize our ideas</u>\n",
        "\n",
        "## Function Syntax: \n",
        "\n",
        "Example function: \n",
        "\n",
        "```python\n",
        "def function_name(x,y,z):\n",
        "    \"\"\"Documentation comes here\"\"\"\n",
        "    k = x + y + z\n",
        "    \n",
        "    return k\n",
        "```\n",
        "\n",
        "### Step by Step\n",
        "We use the `def` keyword followed by the `function_name`:\n",
        "```python\n",
        "def function_name\n",
        "```\n",
        "---\n",
        "We can pass **arguments** inside parenthesis after the `function_name`:\n",
        "```python\n",
        "def function_name(x,y,z)\n",
        "```\n",
        "A function doesn't need arguments: `def function_name()`!\n",
        "\n",
        "---\n",
        "After the `:` we insert the **function body** - the lines of code our function will execute\n",
        "```python\n",
        "def function_name(x,y,z):\n",
        "    k = x + y + z\n",
        "    \n",
        "```\n",
        "---\n",
        "It's always important to document our functions through a `docstring`:\n",
        "```python\n",
        "def function_name(x,y,z):\n",
        "    \"\"\"Documentation comes here\"\"\"\n",
        "    k = x + y + z\n",
        "    \n",
        "```\n",
        "---\n",
        "\n",
        "At last, if our function needs to **return** something the the global scope, we need to use the `return` keyword:\n",
        "```python\n",
        "def function_name(x,y,z):\n",
        "    \"\"\"Documentation comes here\"\"\"\n",
        "    k = x + y + z\n",
        "    \n",
        "    return k\n",
        "    \n",
        "```"
      ]
    },
    {
      "cell_type": "code",
      "execution_count": null,
      "metadata": {
        "ExecuteTime": {
          "end_time": "2020-07-22T00:23:47.224974Z",
          "start_time": "2020-07-22T00:23:47.222006Z"
        },
        "id": "neaNFeAhoXhJ"
      },
      "outputs": [],
      "source": [
        "def scream():\n",
        "    \"\"\"This function screams!!\"\"\"\n",
        "    print('AHHH!!')\n",
        "    \n",
        "print('Hello')"
      ]
    },
    {
      "cell_type": "code",
      "execution_count": null,
      "metadata": {
        "ExecuteTime": {
          "end_time": "2020-07-22T00:23:13.408173Z",
          "start_time": "2020-07-22T00:23:13.405172Z"
        },
        "id": "VFyQhSwEoXhK"
      },
      "outputs": [],
      "source": [
        "scream()\n",
        "scream()\n",
        "scream()\n",
        "scream()"
      ]
    },
    {
      "cell_type": "code",
      "source": [
        "scream()"
      ],
      "metadata": {
        "id": "aFbxbALU0ITQ"
      },
      "execution_count": null,
      "outputs": []
    },
    {
      "cell_type": "markdown",
      "metadata": {
        "id": "sCZTCL4yoXhL"
      },
      "source": [
        "# Functions in Python"
      ]
    },
    {
      "cell_type": "code",
      "execution_count": null,
      "metadata": {
        "ExecuteTime": {
          "end_time": "2020-07-22T00:37:35.573429Z",
          "start_time": "2020-07-22T00:37:34.687274Z"
        },
        "id": "es18Vm1EoXhL"
      },
      "outputs": [],
      "source": [
        "x = int(input('Pick a number:'))\n",
        "\n",
        "if x < 3:\n",
        "    print('Nice! You won!')\n",
        "elif x < 5:\n",
        "    print('You lost! Good luck next time :)')\n",
        "elif x < 7:\n",
        "    print('Nice! You won!')\n",
        "elif x < 9:\n",
        "    print('You lost! Good luck next time :)')\n",
        "elif x < 15:\n",
        "    print('Nice! You won!')\n",
        "elif x < 25:\n",
        "    print('You lost! Good luck next time :)')\n",
        "elif x < 37:\n",
        "    print('Nice! You won!')"
      ]
    },
    {
      "cell_type": "code",
      "execution_count": null,
      "metadata": {
        "ExecuteTime": {
          "end_time": "2020-07-22T00:38:17.375025Z",
          "start_time": "2020-07-22T00:38:17.371028Z"
        },
        "id": "Eu2-lFBVoXhL"
      },
      "outputs": [],
      "source": [
        "def say_congrats():\n",
        "    '''\n",
        "    This function says you won the game.\n",
        "    '''\n",
        "    \n",
        "    print('Nice! You won!')\n",
        "    \n",
        "def say_condolence():\n",
        "    '''\n",
        "    This function says you lost the game and prints your number choice.\n",
        "    '''\n",
        "    print('Out of luck!')\n",
        "    \n",
        "# jogo completamente aleatório:\n",
        "\n",
        "x = int(input('Pick a Number:'))\n",
        "\n",
        "if x < 3:\n",
        "    say_congrats()\n",
        "elif x < 5: # x >= 3 and x < 5\n",
        "    say_condolence()\n",
        "elif x < 7: # x >= 5 and x < 7\n",
        "    say_congrats()\n",
        "elif x < 9: # x >= 7 and x < 9\n",
        "    say_condolence()\n",
        "elif x < 15:\n",
        "    say_congrats()\n",
        "elif x < 25:\n",
        "    say_condolence()\n",
        "elif x < 37:\n",
        "    say_congrats()"
      ]
    },
    {
      "cell_type": "markdown",
      "metadata": {
        "id": "ZNE95nK5oXhM"
      },
      "source": [
        "## Functions are `callables` (invocable)"
      ]
    },
    {
      "cell_type": "code",
      "execution_count": null,
      "metadata": {
        "ExecuteTime": {
          "end_time": "2020-07-22T00:44:34.904390Z",
          "start_time": "2020-07-22T00:44:34.901390Z"
        },
        "id": "GlvrJq8qoXhM"
      },
      "outputs": [],
      "source": [
        "def useless_function():\n",
        "    print('Im a worthless function :(')"
      ]
    },
    {
      "cell_type": "code",
      "execution_count": null,
      "metadata": {
        "ExecuteTime": {
          "end_time": "2020-07-21T21:34:21.116416Z",
          "start_time": "2020-07-21T21:34:21.113417Z"
        },
        "id": "s4Jjo69MoXhN"
      },
      "outputs": [],
      "source": [
        "useless_function"
      ]
    },
    {
      "cell_type": "code",
      "execution_count": null,
      "metadata": {
        "id": "KP1fuWBHoXhN"
      },
      "outputs": [],
      "source": [
        "print(useless_function)"
      ]
    },
    {
      "cell_type": "code",
      "execution_count": null,
      "metadata": {
        "ExecuteTime": {
          "end_time": "2020-07-21T21:34:21.116416Z",
          "start_time": "2020-07-21T21:34:21.113417Z"
        },
        "id": "vwRteRSqoXhO"
      },
      "outputs": [],
      "source": [
        "useless_function()"
      ]
    },
    {
      "cell_type": "code",
      "execution_count": null,
      "metadata": {
        "ExecuteTime": {
          "end_time": "2020-07-22T00:47:38.304842Z",
          "start_time": "2020-07-22T00:47:38.301841Z"
        },
        "id": "Lofq7WZWoXhO"
      },
      "outputs": [],
      "source": [
        "a = 1\n",
        "a()"
      ]
    },
    {
      "cell_type": "markdown",
      "metadata": {
        "id": "5xzUMFIxoXhO"
      },
      "source": [
        "# Functions can return values"
      ]
    },
    {
      "cell_type": "code",
      "execution_count": null,
      "metadata": {
        "id": "4qjKnaERoXhP"
      },
      "outputs": [],
      "source": [
        "lista_exemplo = [1,2,3]\n",
        "comprimento = len(lista_exemplo)"
      ]
    },
    {
      "cell_type": "code",
      "source": [
        "comprimento"
      ],
      "metadata": {
        "id": "bSI9FmBG2UXb"
      },
      "execution_count": null,
      "outputs": []
    },
    {
      "cell_type": "code",
      "source": [
        "print(comprimento)"
      ],
      "metadata": {
        "id": "qwaNF77u2MXV"
      },
      "execution_count": null,
      "outputs": []
    },
    {
      "cell_type": "markdown",
      "metadata": {
        "id": "NyH6XZnioXhP"
      },
      "source": [
        "Vamos ver como uma função sem `return` se comporta:"
      ]
    },
    {
      "cell_type": "code",
      "execution_count": 17,
      "metadata": {
        "id": "liIkrOsmoXhP",
        "outputId": "4ddaea66-d5c9-4102-b4d9-2edd17734ec5",
        "colab": {
          "base_uri": "https://localhost:8080/"
        }
      },
      "outputs": [
        {
          "output_type": "stream",
          "name": "stdout",
          "text": [
            "Alas, Im worthless as well :(\n"
          ]
        }
      ],
      "source": [
        "def stupid_func():\n",
        "    print('Alas, Im worthless as well :(')\n",
        "    \n",
        "teste = stupid_func()"
      ]
    },
    {
      "cell_type": "code",
      "execution_count": 18,
      "metadata": {
        "id": "QI74XpFmoXhP",
        "outputId": "340a04a7-578d-42c4-e1f9-6ddb90757b3e",
        "colab": {
          "base_uri": "https://localhost:8080/"
        }
      },
      "outputs": [
        {
          "output_type": "stream",
          "name": "stdout",
          "text": [
            "None\n"
          ]
        }
      ],
      "source": [
        "print(teste)"
      ]
    },
    {
      "cell_type": "markdown",
      "metadata": {
        "id": "Z0umoeh9oXhQ"
      },
      "source": [
        "Let's use `return` to send the string back to the global scope:"
      ]
    },
    {
      "cell_type": "code",
      "execution_count": 21,
      "metadata": {
        "id": "Z2eEfcDQoXhR",
        "outputId": "6cd7e7ac-d02d-4b27-fe64-a1b08ceed02d",
        "colab": {
          "base_uri": "https://localhost:8080/"
        }
      },
      "outputs": [
        {
          "output_type": "stream",
          "name": "stdout",
          "text": [
            "Alas, Im worthless as well, but at least I return something :)\n"
          ]
        }
      ],
      "source": [
        "def return_function():\n",
        "    print('Alas, Im worthless as well, but at least I return something :)')\n",
        "\n",
        "    return 1\n",
        "\n",
        "teste = return_function()\n"
      ]
    },
    {
      "cell_type": "code",
      "source": [
        "print(type(teste))\n",
        "print(teste)"
      ],
      "metadata": {
        "id": "_Y6yFiXW2-DA",
        "outputId": "6cadc1b2-6111-45c9-ef9d-2b052c0a481c",
        "colab": {
          "base_uri": "https://localhost:8080/"
        }
      },
      "execution_count": 22,
      "outputs": [
        {
          "output_type": "stream",
          "name": "stdout",
          "text": [
            "<class 'int'>\n",
            "1\n"
          ]
        }
      ]
    },
    {
      "cell_type": "markdown",
      "metadata": {
        "id": "EQE8-SiRoXhR"
      },
      "source": [
        "We can return multiple values:"
      ]
    },
    {
      "cell_type": "code",
      "execution_count": 23,
      "metadata": {
        "id": "RC3hrnNPoXhS"
      },
      "outputs": [],
      "source": [
        "def funcao_retorna_2():\n",
        "    return 'Hey! I return 2 things!', 1\n",
        "\n",
        "teste = funcao_retorna_2()"
      ]
    },
    {
      "cell_type": "code",
      "source": [
        "print(teste)"
      ],
      "metadata": {
        "id": "vMlP6pbX3UVH",
        "outputId": "f2a39ef9-d8be-448f-8da1-8430fd77a5c7",
        "colab": {
          "base_uri": "https://localhost:8080/"
        }
      },
      "execution_count": 24,
      "outputs": [
        {
          "output_type": "stream",
          "name": "stdout",
          "text": [
            "('Hey! I return 2 things!', 1)\n"
          ]
        }
      ]
    },
    {
      "cell_type": "code",
      "execution_count": 25,
      "metadata": {
        "id": "9KkZWrTSoXhS"
      },
      "outputs": [],
      "source": [
        "parte_1, parte_2 = funcao_retorna_2()"
      ]
    },
    {
      "cell_type": "code",
      "execution_count": 26,
      "metadata": {
        "id": "BKXIfPStoXhS",
        "outputId": "349ce870-bbf3-44c3-ea9f-62ddabaf156b",
        "colab": {
          "base_uri": "https://localhost:8080/"
        }
      },
      "outputs": [
        {
          "output_type": "stream",
          "name": "stdout",
          "text": [
            "Hey! I return 2 things!\n"
          ]
        }
      ],
      "source": [
        "print(parte_1)"
      ]
    },
    {
      "cell_type": "code",
      "execution_count": 27,
      "metadata": {
        "id": "m4BVA8I0oXhT",
        "outputId": "f4734583-1f64-4b1b-d8dc-c77927687741",
        "colab": {
          "base_uri": "https://localhost:8080/"
        }
      },
      "outputs": [
        {
          "output_type": "stream",
          "name": "stdout",
          "text": [
            "1\n"
          ]
        }
      ],
      "source": [
        "print(parte_2)"
      ]
    },
    {
      "cell_type": "markdown",
      "metadata": {
        "id": "pGWGVIgeoXhT"
      },
      "source": [
        "Functions can return any type of objects:"
      ]
    },
    {
      "cell_type": "code",
      "execution_count": 29,
      "metadata": {
        "id": "Lra3qZZtoXhT",
        "outputId": "a8013fb0-0b12-407a-f7d4-9d8faaf48bdd",
        "colab": {
          "base_uri": "https://localhost:8080/"
        }
      },
      "outputs": [
        {
          "output_type": "stream",
          "name": "stdout",
          "text": [
            "[1, 2, 3]\n"
          ]
        }
      ],
      "source": [
        "def retorna_lista():\n",
        "    return [1,2,3]\n",
        "\n",
        "teste = retorna_lista()\n",
        "print(teste)"
      ]
    },
    {
      "cell_type": "code",
      "source": [
        "def return_variable():\n",
        "  blue = 1\n",
        "  return blue\n",
        "\n",
        "x = return_variable()\n",
        "print(x)"
      ],
      "metadata": {
        "id": "j5owHave3uY3",
        "outputId": "994418f4-d7d3-4096-d835-ebc73cf2cb02",
        "colab": {
          "base_uri": "https://localhost:8080/"
        }
      },
      "execution_count": 32,
      "outputs": [
        {
          "output_type": "stream",
          "name": "stdout",
          "text": [
            "1\n"
          ]
        }
      ]
    },
    {
      "cell_type": "markdown",
      "metadata": {
        "id": "Tw-aprXVoXhT"
      },
      "source": [
        "# Function Arguments\n",
        "The `return` keyword allows us to take values from inside a function and *return* them to the global scope (our script). **Arguments** allow us to transport values from our scrip to the function's body."
      ]
    },
    {
      "cell_type": "code",
      "execution_count": 40,
      "metadata": {
        "ExecuteTime": {
          "end_time": "2020-07-22T00:49:13.565422Z",
          "start_time": "2020-07-22T00:49:13.563422Z"
        },
        "id": "SrZooCdRoXhU"
      },
      "outputs": [],
      "source": [
        "\n",
        "def function_with_argument(x, y):\n",
        "    '''\n",
        "    Returns the sum of x and y\n",
        "\n",
        "            Parameters:\n",
        "                    x (numeric): um número float ou inteiro.\n",
        "                    y (numeric): outro número float ou inteiro.\n",
        "\n",
        "            Returns:\n",
        "                    soma (numeric): soma dos números x e y.\n",
        "    '''\n",
        "    soma = (x + y)\n",
        "    return soma"
      ]
    },
    {
      "cell_type": "code",
      "source": [
        "function_with_argument(2, 3)"
      ],
      "metadata": {
        "id": "1oCNMCZf4h0D",
        "outputId": "e4120901-f6ab-447e-e804-a26f3149dc7b",
        "colab": {
          "base_uri": "https://localhost:8080/"
        }
      },
      "execution_count": 41,
      "outputs": [
        {
          "output_type": "execute_result",
          "data": {
            "text/plain": [
              "5"
            ]
          },
          "metadata": {},
          "execution_count": 41
        }
      ]
    },
    {
      "cell_type": "code",
      "execution_count": 42,
      "metadata": {
        "id": "va1TruN_oXhU",
        "outputId": "23f3c0e4-48ed-43ce-b07c-a7937500ee2f",
        "colab": {
          "base_uri": "https://localhost:8080/"
        }
      },
      "outputs": [
        {
          "output_type": "stream",
          "name": "stdout",
          "text": [
            "5\n"
          ]
        }
      ],
      "source": [
        "teste_com_argumento = function_with_argument(2, 3)\n",
        "print(teste_com_argumento)"
      ]
    },
    {
      "cell_type": "markdown",
      "metadata": {
        "id": "hpXnJqoVoXhU"
      },
      "source": [
        "Arguments are variables inside the function! The function above creates the **variables** `x` and `y` inside the body of our function:"
      ]
    },
    {
      "cell_type": "code",
      "execution_count": 37,
      "metadata": {
        "id": "LAIJ-_XBoXhU",
        "outputId": "dc570937-3dfd-47dd-f394-c501734ba5fa",
        "colab": {
          "base_uri": "https://localhost:8080/"
        }
      },
      "outputs": [
        {
          "output_type": "stream",
          "name": "stdout",
          "text": [
            "5\n",
            "3\n",
            "5\n",
            "7\n"
          ]
        }
      ],
      "source": [
        "lista_num = [1,2,3,4]\n",
        "\n",
        "for i in range(len(lista_num)):\n",
        "    soma = function_with_argument(lista_num[i], lista_num[i-1])\n",
        "    print(soma)"
      ]
    },
    {
      "cell_type": "code",
      "source": [
        "a = 5\n",
        "b = 10\n",
        "sum_ab = function_with_argument(a, b)\n",
        "print(sum_ab)"
      ],
      "metadata": {
        "id": "XkGjl6kw42x7",
        "outputId": "f2bda810-9a07-4f12-bda1-fdad62437ce5",
        "colab": {
          "base_uri": "https://localhost:8080/"
        }
      },
      "execution_count": 39,
      "outputs": [
        {
          "output_type": "stream",
          "name": "stdout",
          "text": [
            "15\n"
          ]
        }
      ]
    },
    {
      "cell_type": "markdown",
      "metadata": {
        "id": "4kVAohBzoXhV"
      },
      "source": [
        "Since **arguments** are variables, the order we pass values to a function matters!"
      ]
    },
    {
      "cell_type": "code",
      "execution_count": 43,
      "metadata": {
        "id": "1m14g8lNoXhV"
      },
      "outputs": [],
      "source": [
        "def sub(x, y):\n",
        "    '''\n",
        "    Returns x-y.\n",
        "\n",
        "            Parameters:\n",
        "                    x (numeric): um número float ou inteiro.\n",
        "                    y (numeric): outro número float ou inteiro.\n",
        "\n",
        "            Returns:\n",
        "                    subt (numeric): x - y\n",
        "    '''\n",
        "    return x - y"
      ]
    },
    {
      "cell_type": "code",
      "execution_count": 44,
      "metadata": {
        "id": "qODQpl3-oXhV",
        "outputId": "2d08097d-3f58-47c4-b008-bf57694f921a",
        "colab": {
          "base_uri": "https://localhost:8080/"
        }
      },
      "outputs": [
        {
          "output_type": "execute_result",
          "data": {
            "text/plain": [
              "9"
            ]
          },
          "metadata": {},
          "execution_count": 44
        }
      ],
      "source": [
        "sub(10, 1)"
      ]
    },
    {
      "cell_type": "code",
      "execution_count": 48,
      "metadata": {
        "id": "mJ2nZXlqoXhV",
        "outputId": "f1327206-7a63-49c6-c253-4f116db52f42",
        "colab": {
          "base_uri": "https://localhost:8080/"
        }
      },
      "outputs": [
        {
          "output_type": "execute_result",
          "data": {
            "text/plain": [
              "-9"
            ]
          },
          "metadata": {},
          "execution_count": 48
        }
      ],
      "source": [
        "sub(x=1, y=10)"
      ]
    },
    {
      "cell_type": "markdown",
      "metadata": {
        "id": "AnmXjdtDoXhV"
      },
      "source": [
        "**Values** fed to a function like that are called **positional arguments**. We can pass values in any order we want as long as we **name these arguments**:"
      ]
    },
    {
      "cell_type": "code",
      "execution_count": 53,
      "metadata": {
        "id": "xcdi2Gn8oXhV",
        "outputId": "d4323ab4-9b24-4164-89ac-f1fd70235eba",
        "colab": {
          "base_uri": "https://localhost:8080/"
        }
      },
      "outputs": [
        {
          "output_type": "execute_result",
          "data": {
            "text/plain": [
              "-34"
            ]
          },
          "metadata": {},
          "execution_count": 53
        }
      ],
      "source": [
        "sub(y = 1, x = sub(x = 10, y = sub(55, 12)))"
      ]
    },
    {
      "cell_type": "code",
      "source": [
        "a = 10\n",
        "b = 12\n",
        "sub(a, sub(b, sub(a, b)))"
      ],
      "metadata": {
        "id": "5PlNeFCe6qT5",
        "outputId": "d1f67f19-f93b-4ac7-f934-a33ede1d7ef0",
        "colab": {
          "base_uri": "https://localhost:8080/"
        }
      },
      "execution_count": 54,
      "outputs": [
        {
          "output_type": "execute_result",
          "data": {
            "text/plain": [
              "-4"
            ]
          },
          "metadata": {},
          "execution_count": 54
        }
      ]
    },
    {
      "cell_type": "code",
      "source": [
        "d = dict()\n",
        "d['a'] = 10"
      ],
      "metadata": {
        "id": "ZMdspMji7BPN"
      },
      "execution_count": 64,
      "outputs": []
    },
    {
      "cell_type": "code",
      "source": [
        "list_of_numbers = [10, 12, 10, 15]\n",
        "sub(x = list_of_numbers[1], \n",
        "    y = d['a'])"
      ],
      "metadata": {
        "id": "eHcLt6pz6yne",
        "outputId": "b271f063-f9e0-4e1d-b7ad-c7a96d17cbc8",
        "colab": {
          "base_uri": "https://localhost:8080/"
        }
      },
      "execution_count": 65,
      "outputs": [
        {
          "output_type": "execute_result",
          "data": {
            "text/plain": [
              "2"
            ]
          },
          "metadata": {},
          "execution_count": 65
        }
      ]
    },
    {
      "cell_type": "markdown",
      "metadata": {
        "id": "W_cJPO3aoXhV"
      },
      "source": [
        "# Functions can receive `OPTIONAL` arguments"
      ]
    },
    {
      "cell_type": "code",
      "execution_count": 80,
      "metadata": {
        "ExecuteTime": {
          "end_time": "2020-07-22T01:16:21.080074Z",
          "start_time": "2020-07-22T01:16:21.073076Z"
        },
        "id": "-AiA94z3oXhV"
      },
      "outputs": [],
      "source": [
        "def sum_list(lista_numeros, C = 1):\n",
        "    '''\n",
        "    Multiplies each element in a list by C and returns the sum of the products.\n",
        "\n",
        "            Parameters:\n",
        "                    lista_numeros (lista): lista de números (floats ou ints).\n",
        "                    C (numeric): outro número float ou inteiro.\n",
        "\n",
        "            Returns:\n",
        "                    total_lista (numeric): soma dos números na lista_numeros vezes C.\n",
        "    '''\n",
        "    \n",
        "    total_lista = 0\n",
        "    for elemento in lista_numeros:\n",
        "        total_lista += elemento * C\n",
        "        \n",
        "    return total_lista"
      ]
    },
    {
      "cell_type": "code",
      "execution_count": 69,
      "metadata": {
        "id": "shZu0KxMoXhW",
        "outputId": "22dc1280-6d2e-443d-b0b4-9e92d925541b",
        "colab": {
          "base_uri": "https://localhost:8080/"
        }
      },
      "outputs": [
        {
          "output_type": "stream",
          "name": "stdout",
          "text": [
            "12\n"
          ]
        }
      ],
      "source": [
        "lista_num = [1, 2, 3]\n",
        "teste = sum_list(lista_num, 2)\n",
        "print(teste)"
      ]
    },
    {
      "cell_type": "code",
      "execution_count": 71,
      "metadata": {
        "id": "snTJ_UkzoXhW",
        "outputId": "9f543871-0732-4166-c9e3-acf0b16fa90f",
        "colab": {
          "base_uri": "https://localhost:8080/"
        }
      },
      "outputs": [
        {
          "output_type": "stream",
          "name": "stdout",
          "text": [
            "6\n"
          ]
        }
      ],
      "source": [
        "teste = sum_list(lista_num)\n",
        "print(teste)"
      ]
    },
    {
      "cell_type": "code",
      "execution_count": 72,
      "metadata": {
        "id": "PQ_cNz12oXhW",
        "outputId": "488eb1d7-6ba1-4755-bce8-44699c6a826c",
        "colab": {
          "base_uri": "https://localhost:8080/"
        }
      },
      "outputs": [
        {
          "output_type": "stream",
          "name": "stdout",
          "text": [
            "60\n"
          ]
        }
      ],
      "source": [
        "teste = sum_list(lista_num, 10)\n",
        "print(teste)"
      ]
    },
    {
      "cell_type": "code",
      "source": [
        "teste = sum_list(lista_num, C = 10)"
      ],
      "metadata": {
        "id": "g6Yorbqg9mP5"
      },
      "execution_count": 77,
      "outputs": []
    },
    {
      "cell_type": "code",
      "source": [
        "print(teste)"
      ],
      "metadata": {
        "id": "7sYT0REJ9p0c",
        "outputId": "dd7be283-50ea-4249-acf9-1e5889cb4c2d",
        "colab": {
          "base_uri": "https://localhost:8080/"
        }
      },
      "execution_count": 74,
      "outputs": [
        {
          "output_type": "stream",
          "name": "stdout",
          "text": [
            "60\n"
          ]
        }
      ]
    },
    {
      "cell_type": "markdown",
      "metadata": {
        "id": "iW9Cqo71oXhW"
      },
      "source": [
        "Only arguments with default values are optional!"
      ]
    },
    {
      "cell_type": "code",
      "execution_count": 79,
      "metadata": {
        "id": "ACz0F2ImoXhW"
      },
      "outputs": [],
      "source": [
        "teste = sum_list(lista_numeros = [1,2,3])"
      ]
    },
    {
      "cell_type": "markdown",
      "metadata": {
        "id": "fN7HQb8RoXhW"
      },
      "source": [
        "## Reserved keywords"
      ]
    },
    {
      "cell_type": "code",
      "source": [
        "def if():\n",
        "  print('Oops')"
      ],
      "metadata": {
        "id": "6R8CMfFQ-w1m",
        "outputId": "9a113e80-9b16-4740-cdbe-ab831591b0b3",
        "colab": {
          "base_uri": "https://localhost:8080/",
          "height": 153
        }
      },
      "execution_count": 89,
      "outputs": [
        {
          "output_type": "error",
          "ename": "SyntaxError",
          "evalue": "ignored",
          "traceback": [
            "\u001b[0;36m  File \u001b[0;32m\"<ipython-input-89-893840dececa>\"\u001b[0;36m, line \u001b[0;32m1\u001b[0m\n\u001b[0;31m    def if():\u001b[0m\n\u001b[0m         ^\u001b[0m\n\u001b[0;31mSyntaxError\u001b[0m\u001b[0;31m:\u001b[0m invalid syntax\n"
          ]
        }
      ]
    },
    {
      "cell_type": "code",
      "execution_count": 90,
      "metadata": {
        "id": "s7YJRIkRoXhW"
      },
      "outputs": [],
      "source": [
        "def len():\n",
        "  print('O que será que acontecerá?')"
      ]
    },
    {
      "cell_type": "code",
      "source": [
        "len()"
      ],
      "metadata": {
        "id": "2KIwrmUA-wX-",
        "outputId": "c06e85d8-c9bd-4189-c3a5-be9f955e9bbb",
        "colab": {
          "base_uri": "https://localhost:8080/"
        }
      },
      "execution_count": 91,
      "outputs": [
        {
          "output_type": "stream",
          "name": "stdout",
          "text": [
            "O que será que acontecerá?\n"
          ]
        }
      ]
    },
    {
      "cell_type": "code",
      "source": [
        "len([1,2,3])"
      ],
      "metadata": {
        "id": "8gCa5QbF-qhl",
        "outputId": "9a145f5d-e5b4-44df-9691-644dfd213534",
        "colab": {
          "base_uri": "https://localhost:8080/"
        }
      },
      "execution_count": 101,
      "outputs": [
        {
          "output_type": "execute_result",
          "data": {
            "text/plain": [
              "3"
            ]
          },
          "metadata": {},
          "execution_count": 101
        }
      ]
    },
    {
      "cell_type": "code",
      "source": [
        "del len"
      ],
      "metadata": {
        "id": "VUvsSLID_XZK"
      },
      "execution_count": 100,
      "outputs": []
    },
    {
      "cell_type": "code",
      "source": [
        "def p(x):\n",
        "  print(x)"
      ],
      "metadata": {
        "id": "6mY1NJrg_Hgb"
      },
      "execution_count": 98,
      "outputs": []
    },
    {
      "cell_type": "code",
      "source": [
        "p('Hello!')"
      ],
      "metadata": {
        "id": "2J5TxTBD_M6C",
        "outputId": "19a996af-99f0-421c-f9bc-803964ff60ce",
        "colab": {
          "base_uri": "https://localhost:8080/"
        }
      },
      "execution_count": 99,
      "outputs": [
        {
          "output_type": "stream",
          "name": "stdout",
          "text": [
            "Hello!\n"
          ]
        }
      ]
    },
    {
      "cell_type": "markdown",
      "metadata": {
        "id": "jSKtb8G2oXhX"
      },
      "source": [
        "# Variable Scopes\n",
        "Variable scope defines **where a variable exists in our program**.\n",
        "\n",
        "## Local Scope\n",
        "\n",
        "All variables created inside a function **exist only inside that function**!! That's why the `return` is so important: it allows our function to *communicate* with the rest of our program."
      ]
    },
    {
      "cell_type": "code",
      "execution_count": 108,
      "metadata": {
        "id": "ocnL5I3hoXhX"
      },
      "outputs": [],
      "source": [
        "def sum_list(lista_numeros, C = 1):\n",
        "    '''\n",
        "    Multiplies each element in a list by C and returns the sum of the products.\n",
        "\n",
        "            Parameters:\n",
        "                    lista_numeros (lista): lista de números (floats ou ints).\n",
        "                    C (numeric): outro número float ou inteiro.\n",
        "\n",
        "            Returns:\n",
        "                    total_lista (numeric): soma dos números na lista_numeros vezes C.\n",
        "    '''\n",
        "    \n",
        "    total_lista = 0\n",
        "    for elemento in lista_numeros:\n",
        "        total_lista += elemento * C\n",
        "    print(total_lista)"
      ]
    },
    {
      "cell_type": "code",
      "execution_count": 109,
      "metadata": {
        "ExecuteTime": {
          "end_time": "2020-10-30T22:45:48.418880Z",
          "start_time": "2020-10-30T22:45:48.406885Z"
        },
        "id": "lGFHY8-4oXhX",
        "outputId": "00c4678b-7a51-4204-8401-f3dbb8bd1c02",
        "colab": {
          "base_uri": "https://localhost:8080/"
        }
      },
      "outputs": [
        {
          "output_type": "stream",
          "name": "stdout",
          "text": [
            "(30, 5, 3)\n"
          ]
        }
      ],
      "source": [
        "a = sum_list([1, 2, 3], 5)\n",
        "print(a)"
      ]
    },
    {
      "cell_type": "code",
      "execution_count": 104,
      "metadata": {
        "id": "dW2q7VbaoXhX",
        "outputId": "01f38a67-cb05-47d6-be6e-48455c196f02",
        "colab": {
          "base_uri": "https://localhost:8080/",
          "height": 188
        }
      },
      "outputs": [
        {
          "output_type": "error",
          "ename": "NameError",
          "evalue": "ignored",
          "traceback": [
            "\u001b[0;31m---------------------------------------------------------------------------\u001b[0m",
            "\u001b[0;31mNameError\u001b[0m                                 Traceback (most recent call last)",
            "\u001b[0;32m<ipython-input-104-6ff4fda102d1>\u001b[0m in \u001b[0;36m<module>\u001b[0;34m\u001b[0m\n\u001b[0;32m----> 1\u001b[0;31m \u001b[0mtotal_lista\u001b[0m\u001b[0;34m\u001b[0m\u001b[0;34m\u001b[0m\u001b[0m\n\u001b[0m",
            "\u001b[0;31mNameError\u001b[0m: name 'total_lista' is not defined"
          ]
        }
      ],
      "source": [
        "total_lista"
      ]
    },
    {
      "cell_type": "markdown",
      "metadata": {
        "id": "PmAAr46WoXhX"
      },
      "source": [
        "## Global Scope\n",
        "\n",
        "Variáveis criadas no corpo do nosso programa e acessadas pelas nossas funções existem no escopo global. Nossas funções conseguem acessar variáveis nesse escopo mas não conseguem altera-lás.\n",
        "\n",
        "Variables created **outside of functions** exist in the **global scope**: functions can access their value but cannot change them"
      ]
    },
    {
      "cell_type": "code",
      "execution_count": 114,
      "metadata": {
        "id": "-e2nW4zzoXhX"
      },
      "outputs": [],
      "source": [
        "def soma():\n",
        "    '''\n",
        "    Retorna a soma x e y\n",
        "    '''\n",
        "    print(x + y)\n",
        "    return x + y"
      ]
    },
    {
      "cell_type": "code",
      "execution_count": 115,
      "metadata": {
        "id": "VL-jeyRVoXhX",
        "outputId": "75d8b1fa-4450-4f33-e971-82d510d04340",
        "colab": {
          "base_uri": "https://localhost:8080/"
        }
      },
      "outputs": [
        {
          "output_type": "stream",
          "name": "stdout",
          "text": [
            "11\n"
          ]
        }
      ],
      "source": [
        "y = 10\n",
        "x = 1\n",
        "teste = soma(15, 60)"
      ]
    },
    {
      "cell_type": "code",
      "source": [
        "print(teste)"
      ],
      "metadata": {
        "id": "iAAHGedOAVwb",
        "outputId": "c0c58cec-1e88-4962-bc3f-d83a44e68936",
        "colab": {
          "base_uri": "https://localhost:8080/"
        }
      },
      "execution_count": 112,
      "outputs": [
        {
          "output_type": "stream",
          "name": "stdout",
          "text": [
            "11\n"
          ]
        }
      ]
    },
    {
      "cell_type": "markdown",
      "metadata": {
        "id": "w2lThwiLoXhY"
      },
      "source": [
        "Global variables cannot be altered from within a function:"
      ]
    },
    {
      "cell_type": "code",
      "execution_count": 116,
      "metadata": {
        "id": "7e-9m2vsoXhY"
      },
      "outputs": [],
      "source": [
        "def nova_soma():\n",
        "    '''\n",
        "    Retorna a soma x e y, guardando o resultado em x\n",
        "    '''\n",
        "    x = x+y\n",
        "    return x"
      ]
    },
    {
      "cell_type": "code",
      "execution_count": 117,
      "metadata": {
        "id": "YdIf37H5oXhY",
        "outputId": "e4bdf845-5a84-4729-d09a-4c7908a4883c",
        "colab": {
          "base_uri": "https://localhost:8080/",
          "height": 330
        }
      },
      "outputs": [
        {
          "output_type": "error",
          "ename": "UnboundLocalError",
          "evalue": "ignored",
          "traceback": [
            "\u001b[0;31m---------------------------------------------------------------------------\u001b[0m",
            "\u001b[0;31mUnboundLocalError\u001b[0m                         Traceback (most recent call last)",
            "\u001b[0;32m<ipython-input-117-2ed8a3e85bc4>\u001b[0m in \u001b[0;36m<module>\u001b[0;34m\u001b[0m\n\u001b[1;32m      1\u001b[0m \u001b[0mx\u001b[0m \u001b[0;34m=\u001b[0m \u001b[0;36m10\u001b[0m\u001b[0;34m\u001b[0m\u001b[0;34m\u001b[0m\u001b[0m\n\u001b[1;32m      2\u001b[0m \u001b[0my\u001b[0m \u001b[0;34m=\u001b[0m \u001b[0;36m1\u001b[0m\u001b[0;34m\u001b[0m\u001b[0;34m\u001b[0m\u001b[0m\n\u001b[0;32m----> 3\u001b[0;31m \u001b[0mnova_soma\u001b[0m\u001b[0;34m(\u001b[0m\u001b[0;34m)\u001b[0m\u001b[0;34m\u001b[0m\u001b[0;34m\u001b[0m\u001b[0m\n\u001b[0m",
            "\u001b[0;32m<ipython-input-116-91508e3a52bf>\u001b[0m in \u001b[0;36mnova_soma\u001b[0;34m()\u001b[0m\n\u001b[1;32m      3\u001b[0m     \u001b[0mRetorna\u001b[0m \u001b[0ma\u001b[0m \u001b[0msoma\u001b[0m \u001b[0mx\u001b[0m \u001b[0me\u001b[0m \u001b[0my\u001b[0m\u001b[0;34m,\u001b[0m \u001b[0mguardando\u001b[0m \u001b[0mo\u001b[0m \u001b[0mresultado\u001b[0m \u001b[0mem\u001b[0m \u001b[0mx\u001b[0m\u001b[0;34m\u001b[0m\u001b[0;34m\u001b[0m\u001b[0m\n\u001b[1;32m      4\u001b[0m     '''\n\u001b[0;32m----> 5\u001b[0;31m     \u001b[0mx\u001b[0m \u001b[0;34m=\u001b[0m \u001b[0mx\u001b[0m\u001b[0;34m+\u001b[0m\u001b[0my\u001b[0m\u001b[0;34m\u001b[0m\u001b[0;34m\u001b[0m\u001b[0m\n\u001b[0m\u001b[1;32m      6\u001b[0m     \u001b[0;32mreturn\u001b[0m \u001b[0mx\u001b[0m\u001b[0;34m\u001b[0m\u001b[0;34m\u001b[0m\u001b[0m\n",
            "\u001b[0;31mUnboundLocalError\u001b[0m: local variable 'x' referenced before assignment"
          ]
        }
      ],
      "source": [
        "x = 10\n",
        "y = 1\n",
        "nova_soma()"
      ]
    },
    {
      "cell_type": "markdown",
      "metadata": {
        "id": "SraBPuYdoXhY"
      },
      "source": [
        "Global variables are usually used to represent constants: the numper *pi*, the Earth's diameter, etc... In this case we conventionally write the variable name in ALL CAPS."
      ]
    },
    {
      "cell_type": "code",
      "execution_count": 120,
      "metadata": {
        "id": "Rni-JBSToXhY"
      },
      "outputs": [],
      "source": [
        "PI = 3.1415\n",
        "\n",
        "def circ_area(diametro):\n",
        "    '''\n",
        "    Calculate the area of a circle\n",
        "        Parameters:\n",
        "            diametro Float: diametro do círculo\n",
        "        \n",
        "        Returns:\n",
        "            float: area\n",
        "    '''\n",
        "    raio = diametro/2\n",
        "    area = PI * raio ** 2\n",
        "    return area, raio\n",
        "\n",
        "def circ_circum(diametro):\n",
        "    '''\n",
        "    Calculates the radius of a circle\n",
        "        Parameters:\n",
        "            diametro Float: diametro do círculo\n",
        "        \n",
        "        Returns:\n",
        "            float: circumferencia\n",
        "    '''\n",
        "    circ = PI * diametro\n",
        "    return circ"
      ]
    },
    {
      "cell_type": "code",
      "execution_count": 121,
      "metadata": {
        "id": "xcYDQifjoXhY",
        "outputId": "573ab46d-ae0d-4dc8-ed76-c12a47d5fb3c",
        "colab": {
          "base_uri": "https://localhost:8080/"
        }
      },
      "outputs": [
        {
          "output_type": "stream",
          "name": "stdout",
          "text": [
            "(19.634375000000002, 2.5)\n",
            "15.707500000000001\n"
          ]
        }
      ],
      "source": [
        "print(circ_area(5))\n",
        "print(circ_circum(5))"
      ]
    },
    {
      "cell_type": "code",
      "source": [
        "area_5, radius_5 = circ_area(5)"
      ],
      "metadata": {
        "id": "lCT3EpXMBxF5"
      },
      "execution_count": 122,
      "outputs": []
    },
    {
      "cell_type": "code",
      "source": [
        "area_5"
      ],
      "metadata": {
        "id": "7qmUe6HiB1b_",
        "outputId": "4615b2de-f461-46ac-af75-5e3c0c428e0d",
        "colab": {
          "base_uri": "https://localhost:8080/"
        }
      },
      "execution_count": 123,
      "outputs": [
        {
          "output_type": "execute_result",
          "data": {
            "text/plain": [
              "19.634375000000002"
            ]
          },
          "metadata": {},
          "execution_count": 123
        }
      ]
    },
    {
      "cell_type": "code",
      "source": [
        "radius_5"
      ],
      "metadata": {
        "id": "aRTWTGQxB2bN",
        "outputId": "656f21b8-ad8f-4673-e27b-ec242d3146e3",
        "colab": {
          "base_uri": "https://localhost:8080/"
        }
      },
      "execution_count": 124,
      "outputs": [
        {
          "output_type": "execute_result",
          "data": {
            "text/plain": [
              "2.5"
            ]
          },
          "metadata": {},
          "execution_count": 124
        }
      ]
    },
    {
      "cell_type": "markdown",
      "metadata": {
        "id": "4U6sZ4BaoXhY"
      },
      "source": [
        "# Funções podem criar funções!\n",
        "\n",
        "Uma função pode retornar qualquer tipo de objeto - incluindo outra função!"
      ]
    },
    {
      "cell_type": "code",
      "execution_count": 131,
      "metadata": {
        "id": "vZDiWlpuoXhZ"
      },
      "outputs": [],
      "source": [
        "def criar_print_educado(prefixo):\n",
        "    '''\n",
        "    Cria um novo print, mais educado (ou não...)\n",
        "        Parameters:\n",
        "            prefixo String: prefixo que será prefixado no novo print\n",
        "        Returns:\n",
        "            function: nova função print, que imprime o prefixo antes de qualquer valor \n",
        "    '''\n",
        "    def print_prefixo(x = ''):\n",
        "        print(f'{prefixo} {x}')\n",
        "        \n",
        "    return print_prefixo"
      ]
    },
    {
      "cell_type": "markdown",
      "metadata": {
        "id": "8crivR2poXhZ"
      },
      "source": [
        "A função criada acima recebe um prefixo e retorna uma função que imprime este prefixo seguido de um argumento."
      ]
    },
    {
      "cell_type": "code",
      "execution_count": 134,
      "metadata": {
        "id": "1k2VwI3goXhZ"
      },
      "outputs": [],
      "source": [
        "print_educado = criar_print_educado('Good morning User!!')"
      ]
    },
    {
      "cell_type": "markdown",
      "metadata": {
        "id": "QyHpuWJLoXhZ"
      },
      "source": [
        "Vamos ver o tipo do objeto `print_educado`:"
      ]
    },
    {
      "cell_type": "code",
      "execution_count": 127,
      "metadata": {
        "id": "dZh1tbakoXhZ",
        "outputId": "34f77fa8-e00e-47b1-c2a9-9b6025f787b1",
        "colab": {
          "base_uri": "https://localhost:8080/"
        }
      },
      "outputs": [
        {
          "output_type": "execute_result",
          "data": {
            "text/plain": [
              "function"
            ]
          },
          "metadata": {},
          "execution_count": 127
        }
      ],
      "source": [
        "type(print_educado)"
      ]
    },
    {
      "cell_type": "code",
      "execution_count": 135,
      "metadata": {
        "id": "d3VMhSSkoXhZ",
        "outputId": "512e36ad-26f2-4a42-9dcf-20054c8c71c5",
        "colab": {
          "base_uri": "https://localhost:8080/"
        }
      },
      "outputs": [
        {
          "output_type": "stream",
          "name": "stdout",
          "text": [
            "Good morning User!! 10\n"
          ]
        }
      ],
      "source": [
        "print_educado(10)"
      ]
    },
    {
      "cell_type": "code",
      "source": [
        "criar_print_educado('Good morning User!!')('Hey there computer!')"
      ],
      "metadata": {
        "id": "krYMxNneCNBG",
        "outputId": "c177e7f5-b9a4-429f-b25d-0cef38727024",
        "colab": {
          "base_uri": "https://localhost:8080/"
        }
      },
      "execution_count": 130,
      "outputs": [
        {
          "output_type": "stream",
          "name": "stdout",
          "text": [
            "Good morning User!! Hey there computer!\n"
          ]
        }
      ]
    },
    {
      "cell_type": "markdown",
      "metadata": {
        "id": "JybcJnoXoXhZ"
      },
      "source": [
        "# Funções podem ser recursivas!\n",
        "\n",
        "Uma função recursiva retorna sua propria execução (quase como um loop while). Devemos tomar cuidado para que as funções recursivas sejam **finitas**."
      ]
    },
    {
      "cell_type": "code",
      "source": [
        "def infinite():\n",
        "  print('Recursion!')\n",
        "  infinite()"
      ],
      "metadata": {
        "id": "kitvB1rPEJcG"
      },
      "execution_count": 141,
      "outputs": []
    },
    {
      "cell_type": "code",
      "source": [
        "infinite()"
      ],
      "metadata": {
        "id": "NAayiAduEY3i",
        "outputId": "09af9798-98ed-467e-ac49-5c4e2991c8c9",
        "colab": {
          "base_uri": "https://localhost:8080/",
          "height": 1000
        }
      },
      "execution_count": 142,
      "outputs": [
        {
          "output_type": "stream",
          "name": "stdout",
          "text": [
            "Recursion!\n",
            "Recursion!\n",
            "Recursion!\n",
            "Recursion!\n",
            "Recursion!\n",
            "Recursion!\n",
            "Recursion!\n",
            "Recursion!\n",
            "Recursion!\n",
            "Recursion!\n",
            "Recursion!\n",
            "Recursion!\n",
            "Recursion!\n",
            "Recursion!\n",
            "Recursion!\n",
            "Recursion!\n",
            "Recursion!\n",
            "Recursion!\n",
            "Recursion!\n",
            "Recursion!\n",
            "Recursion!\n",
            "Recursion!\n",
            "Recursion!\n",
            "Recursion!\n",
            "Recursion!\n",
            "Recursion!\n",
            "Recursion!\n",
            "Recursion!\n",
            "Recursion!\n",
            "Recursion!\n",
            "Recursion!\n",
            "Recursion!\n",
            "Recursion!\n",
            "Recursion!\n",
            "Recursion!\n",
            "Recursion!\n",
            "Recursion!\n",
            "Recursion!\n",
            "Recursion!\n",
            "Recursion!\n",
            "Recursion!\n",
            "Recursion!\n",
            "Recursion!\n",
            "Recursion!\n",
            "Recursion!\n",
            "Recursion!\n",
            "Recursion!\n",
            "Recursion!\n",
            "Recursion!\n",
            "Recursion!\n",
            "Recursion!\n",
            "Recursion!\n",
            "Recursion!\n",
            "Recursion!\n",
            "Recursion!\n",
            "Recursion!\n",
            "Recursion!\n",
            "Recursion!\n",
            "Recursion!\n",
            "Recursion!\n",
            "Recursion!\n",
            "Recursion!\n",
            "Recursion!\n",
            "Recursion!\n",
            "Recursion!\n",
            "Recursion!\n",
            "Recursion!\n",
            "Recursion!\n",
            "Recursion!\n",
            "Recursion!\n",
            "Recursion!\n",
            "Recursion!\n",
            "Recursion!\n",
            "Recursion!\n",
            "Recursion!\n",
            "Recursion!\n",
            "Recursion!\n",
            "Recursion!\n",
            "Recursion!\n",
            "Recursion!\n",
            "Recursion!\n",
            "Recursion!\n",
            "Recursion!\n",
            "Recursion!\n",
            "Recursion!\n",
            "Recursion!\n",
            "Recursion!\n",
            "Recursion!\n",
            "Recursion!\n",
            "Recursion!\n",
            "Recursion!\n",
            "Recursion!\n",
            "Recursion!\n",
            "Recursion!\n",
            "Recursion!\n",
            "Recursion!\n",
            "Recursion!\n",
            "Recursion!\n",
            "Recursion!\n",
            "Recursion!\n",
            "Recursion!\n",
            "Recursion!\n",
            "Recursion!\n",
            "Recursion!\n",
            "Recursion!\n",
            "Recursion!\n",
            "Recursion!\n",
            "Recursion!\n",
            "Recursion!\n",
            "Recursion!\n",
            "Recursion!\n",
            "Recursion!\n",
            "Recursion!\n",
            "Recursion!\n",
            "Recursion!\n",
            "Recursion!\n",
            "Recursion!\n",
            "Recursion!\n",
            "Recursion!\n",
            "Recursion!\n",
            "Recursion!\n",
            "Recursion!\n",
            "Recursion!\n",
            "Recursion!\n",
            "Recursion!\n",
            "Recursion!\n",
            "Recursion!\n",
            "Recursion!\n",
            "Recursion!\n",
            "Recursion!\n",
            "Recursion!\n",
            "Recursion!\n",
            "Recursion!\n",
            "Recursion!\n",
            "Recursion!\n",
            "Recursion!\n",
            "Recursion!\n",
            "Recursion!\n",
            "Recursion!\n",
            "Recursion!\n",
            "Recursion!\n",
            "Recursion!\n",
            "Recursion!\n",
            "Recursion!\n",
            "Recursion!\n",
            "Recursion!\n",
            "Recursion!\n",
            "Recursion!\n",
            "Recursion!\n",
            "Recursion!\n",
            "Recursion!\n",
            "Recursion!\n",
            "Recursion!\n",
            "Recursion!\n",
            "Recursion!\n",
            "Recursion!\n",
            "Recursion!\n",
            "Recursion!\n",
            "Recursion!\n",
            "Recursion!\n",
            "Recursion!\n",
            "Recursion!\n",
            "Recursion!\n",
            "Recursion!\n",
            "Recursion!\n",
            "Recursion!\n",
            "Recursion!\n",
            "Recursion!\n",
            "Recursion!\n",
            "Recursion!\n",
            "Recursion!\n",
            "Recursion!\n",
            "Recursion!\n",
            "Recursion!\n",
            "Recursion!\n",
            "Recursion!\n",
            "Recursion!\n",
            "Recursion!\n",
            "Recursion!\n",
            "Recursion!\n",
            "Recursion!\n",
            "Recursion!\n",
            "Recursion!\n",
            "Recursion!\n",
            "Recursion!\n",
            "Recursion!\n",
            "Recursion!\n",
            "Recursion!\n",
            "Recursion!\n",
            "Recursion!\n",
            "Recursion!\n",
            "Recursion!\n",
            "Recursion!\n",
            "Recursion!\n",
            "Recursion!\n",
            "Recursion!\n",
            "Recursion!\n",
            "Recursion!\n",
            "Recursion!\n",
            "Recursion!\n",
            "Recursion!\n",
            "Recursion!\n",
            "Recursion!\n",
            "Recursion!\n",
            "Recursion!\n",
            "Recursion!\n",
            "Recursion!\n",
            "Recursion!\n",
            "Recursion!\n",
            "Recursion!\n",
            "Recursion!\n",
            "Recursion!\n",
            "Recursion!\n",
            "Recursion!\n",
            "Recursion!\n",
            "Recursion!\n",
            "Recursion!\n",
            "Recursion!\n",
            "Recursion!\n",
            "Recursion!\n",
            "Recursion!\n",
            "Recursion!\n",
            "Recursion!\n",
            "Recursion!\n",
            "Recursion!\n",
            "Recursion!\n",
            "Recursion!\n",
            "Recursion!\n",
            "Recursion!\n",
            "Recursion!\n",
            "Recursion!\n",
            "Recursion!\n",
            "Recursion!\n",
            "Recursion!\n",
            "Recursion!\n",
            "Recursion!\n",
            "Recursion!\n",
            "Recursion!\n",
            "Recursion!\n",
            "Recursion!\n",
            "Recursion!\n",
            "Recursion!\n",
            "Recursion!\n",
            "Recursion!\n",
            "Recursion!\n",
            "Recursion!\n",
            "Recursion!\n",
            "Recursion!\n",
            "Recursion!\n",
            "Recursion!\n",
            "Recursion!\n",
            "Recursion!\n",
            "Recursion!\n",
            "Recursion!\n",
            "Recursion!\n",
            "Recursion!\n",
            "Recursion!\n",
            "Recursion!\n",
            "Recursion!\n",
            "Recursion!\n",
            "Recursion!\n",
            "Recursion!\n",
            "Recursion!\n",
            "Recursion!\n",
            "Recursion!\n",
            "Recursion!\n",
            "Recursion!\n",
            "Recursion!\n",
            "Recursion!\n",
            "Recursion!\n",
            "Recursion!\n",
            "Recursion!\n",
            "Recursion!\n",
            "Recursion!\n",
            "Recursion!\n",
            "Recursion!\n",
            "Recursion!\n",
            "Recursion!\n",
            "Recursion!\n",
            "Recursion!\n",
            "Recursion!\n",
            "Recursion!\n",
            "Recursion!\n",
            "Recursion!\n",
            "Recursion!\n",
            "Recursion!\n",
            "Recursion!\n",
            "Recursion!\n",
            "Recursion!\n",
            "Recursion!\n",
            "Recursion!\n",
            "Recursion!\n",
            "Recursion!\n",
            "Recursion!\n",
            "Recursion!\n",
            "Recursion!\n",
            "Recursion!\n",
            "Recursion!\n",
            "Recursion!\n",
            "Recursion!\n",
            "Recursion!\n",
            "Recursion!\n",
            "Recursion!\n",
            "Recursion!\n",
            "Recursion!\n",
            "Recursion!\n",
            "Recursion!\n",
            "Recursion!\n",
            "Recursion!\n",
            "Recursion!\n",
            "Recursion!\n",
            "Recursion!\n",
            "Recursion!\n",
            "Recursion!\n",
            "Recursion!\n",
            "Recursion!\n",
            "Recursion!\n",
            "Recursion!\n",
            "Recursion!\n",
            "Recursion!\n",
            "Recursion!\n",
            "Recursion!\n",
            "Recursion!\n",
            "Recursion!\n",
            "Recursion!\n",
            "Recursion!\n",
            "Recursion!\n",
            "Recursion!\n",
            "Recursion!\n",
            "Recursion!\n",
            "Recursion!\n",
            "Recursion!\n",
            "Recursion!\n",
            "Recursion!\n",
            "Recursion!\n",
            "Recursion!\n",
            "Recursion!\n",
            "Recursion!\n",
            "Recursion!\n",
            "Recursion!\n",
            "Recursion!\n",
            "Recursion!\n",
            "Recursion!\n",
            "Recursion!\n",
            "Recursion!\n",
            "Recursion!\n",
            "Recursion!\n",
            "Recursion!\n",
            "Recursion!\n",
            "Recursion!\n",
            "Recursion!\n",
            "Recursion!\n",
            "Recursion!\n",
            "Recursion!\n",
            "Recursion!\n",
            "Recursion!\n",
            "Recursion!\n",
            "Recursion!\n",
            "Recursion!\n",
            "Recursion!\n",
            "Recursion!\n",
            "Recursion!\n",
            "Recursion!\n",
            "Recursion!\n",
            "Recursion!\n",
            "Recursion!\n",
            "Recursion!\n",
            "Recursion!\n",
            "Recursion!\n",
            "Recursion!\n",
            "Recursion!\n",
            "Recursion!\n",
            "Recursion!\n",
            "Recursion!\n",
            "Recursion!\n",
            "Recursion!\n",
            "Recursion!\n",
            "Recursion!\n",
            "Recursion!\n",
            "Recursion!\n",
            "Recursion!\n",
            "Recursion!\n",
            "Recursion!\n",
            "Recursion!\n",
            "Recursion!\n",
            "Recursion!\n",
            "Recursion!\n",
            "Recursion!\n",
            "Recursion!\n",
            "Recursion!\n",
            "Recursion!\n",
            "Recursion!\n",
            "Recursion!\n",
            "Recursion!\n",
            "Recursion!\n",
            "Recursion!\n",
            "Recursion!\n",
            "Recursion!\n",
            "Recursion!\n",
            "Recursion!\n",
            "Recursion!\n",
            "Recursion!\n",
            "Recursion!\n",
            "Recursion!\n",
            "Recursion!\n",
            "Recursion!\n",
            "Recursion!\n",
            "Recursion!\n",
            "Recursion!\n",
            "Recursion!\n",
            "Recursion!\n",
            "Recursion!\n",
            "Recursion!\n",
            "Recursion!\n",
            "Recursion!\n",
            "Recursion!\n",
            "Recursion!\n",
            "Recursion!\n",
            "Recursion!\n",
            "Recursion!\n",
            "Recursion!\n",
            "Recursion!\n",
            "Recursion!\n",
            "Recursion!\n",
            "Recursion!\n",
            "Recursion!\n",
            "Recursion!\n",
            "Recursion!\n",
            "Recursion!\n",
            "Recursion!\n",
            "Recursion!\n",
            "Recursion!\n",
            "Recursion!\n",
            "Recursion!\n",
            "Recursion!\n",
            "Recursion!\n",
            "Recursion!\n",
            "Recursion!\n",
            "Recursion!\n",
            "Recursion!\n",
            "Recursion!\n",
            "Recursion!\n",
            "Recursion!\n",
            "Recursion!\n",
            "Recursion!\n",
            "Recursion!\n",
            "Recursion!\n",
            "Recursion!\n",
            "Recursion!\n",
            "Recursion!\n",
            "Recursion!\n",
            "Recursion!\n",
            "Recursion!\n",
            "Recursion!\n",
            "Recursion!\n",
            "Recursion!\n",
            "Recursion!\n",
            "Recursion!\n",
            "Recursion!\n",
            "Recursion!\n",
            "Recursion!\n",
            "Recursion!\n",
            "Recursion!\n",
            "Recursion!\n",
            "Recursion!\n",
            "Recursion!\n",
            "Recursion!\n",
            "Recursion!\n",
            "Recursion!\n",
            "Recursion!\n",
            "Recursion!\n",
            "Recursion!\n",
            "Recursion!\n",
            "Recursion!\n",
            "Recursion!\n",
            "Recursion!\n",
            "Recursion!\n",
            "Recursion!\n",
            "Recursion!\n",
            "Recursion!\n",
            "Recursion!\n",
            "Recursion!\n",
            "Recursion!\n",
            "Recursion!\n",
            "Recursion!\n",
            "Recursion!\n",
            "Recursion!\n",
            "Recursion!\n",
            "Recursion!\n",
            "Recursion!\n",
            "Recursion!\n",
            "Recursion!\n",
            "Recursion!\n",
            "Recursion!\n",
            "Recursion!\n",
            "Recursion!\n",
            "Recursion!\n",
            "Recursion!\n",
            "Recursion!\n",
            "Recursion!\n",
            "Recursion!\n",
            "Recursion!\n",
            "Recursion!\n",
            "Recursion!\n",
            "Recursion!\n",
            "Recursion!\n",
            "Recursion!\n",
            "Recursion!\n",
            "Recursion!\n",
            "Recursion!\n",
            "Recursion!\n",
            "Recursion!\n",
            "Recursion!\n",
            "Recursion!\n",
            "Recursion!\n",
            "Recursion!\n",
            "Recursion!\n",
            "Recursion!\n",
            "Recursion!\n",
            "Recursion!\n",
            "Recursion!\n",
            "Recursion!\n",
            "Recursion!\n",
            "Recursion!\n",
            "Recursion!\n",
            "Recursion!\n",
            "Recursion!\n",
            "Recursion!\n",
            "Recursion!\n",
            "Recursion!\n",
            "Recursion!\n",
            "Recursion!\n",
            "Recursion!\n",
            "Recursion!\n",
            "Recursion!\n",
            "Recursion!\n",
            "Recursion!\n",
            "Recursion!\n",
            "Recursion!\n",
            "Recursion!\n",
            "Recursion!\n",
            "Recursion!\n",
            "Recursion!\n",
            "Recursion!\n",
            "Recursion!\n",
            "Recursion!\n",
            "Recursion!\n",
            "Recursion!\n",
            "Recursion!\n",
            "Recursion!\n",
            "Recursion!\n",
            "Recursion!\n",
            "Recursion!\n",
            "Recursion!\n",
            "Recursion!\n",
            "Recursion!\n",
            "Recursion!\n",
            "Recursion!\n",
            "Recursion!\n",
            "Recursion!\n",
            "Recursion!\n",
            "Recursion!\n",
            "Recursion!\n",
            "Recursion!\n",
            "Recursion!\n",
            "Recursion!\n",
            "Recursion!\n",
            "Recursion!\n",
            "Recursion!\n",
            "Recursion!\n",
            "Recursion!\n",
            "Recursion!\n",
            "Recursion!\n",
            "Recursion!\n",
            "Recursion!\n",
            "Recursion!\n",
            "Recursion!\n",
            "Recursion!\n",
            "Recursion!\n",
            "Recursion!\n",
            "Recursion!\n",
            "Recursion!\n",
            "Recursion!\n",
            "Recursion!\n",
            "Recursion!\n",
            "Recursion!\n",
            "Recursion!\n",
            "Recursion!\n",
            "Recursion!\n",
            "Recursion!\n",
            "Recursion!\n",
            "Recursion!\n",
            "Recursion!\n",
            "Recursion!\n",
            "Recursion!\n",
            "Recursion!\n",
            "Recursion!\n",
            "Recursion!\n",
            "Recursion!\n",
            "Recursion!\n",
            "Recursion!\n",
            "Recursion!\n",
            "Recursion!\n",
            "Recursion!\n",
            "Recursion!\n",
            "Recursion!\n",
            "Recursion!\n",
            "Recursion!\n",
            "Recursion!\n",
            "Recursion!\n",
            "Recursion!\n",
            "Recursion!\n",
            "Recursion!\n",
            "Recursion!\n",
            "Recursion!\n",
            "Recursion!\n",
            "Recursion!\n",
            "Recursion!\n",
            "Recursion!\n",
            "Recursion!\n",
            "Recursion!\n",
            "Recursion!\n",
            "Recursion!\n",
            "Recursion!\n",
            "Recursion!\n",
            "Recursion!\n",
            "Recursion!\n",
            "Recursion!\n",
            "Recursion!\n",
            "Recursion!\n",
            "Recursion!\n",
            "Recursion!\n",
            "Recursion!\n",
            "Recursion!\n",
            "Recursion!\n",
            "Recursion!\n",
            "Recursion!\n",
            "Recursion!\n",
            "Recursion!\n",
            "Recursion!\n",
            "Recursion!\n",
            "Recursion!\n",
            "Recursion!\n",
            "Recursion!\n",
            "Recursion!\n",
            "Recursion!\n",
            "Recursion!\n",
            "Recursion!\n",
            "Recursion!\n",
            "Recursion!\n",
            "Recursion!\n",
            "Recursion!\n",
            "Recursion!\n",
            "Recursion!\n",
            "Recursion!\n",
            "Recursion!\n",
            "Recursion!\n",
            "Recursion!\n",
            "Recursion!\n",
            "Recursion!\n",
            "Recursion!\n",
            "Recursion!\n",
            "Recursion!\n",
            "Recursion!\n",
            "Recursion!\n",
            "Recursion!\n",
            "Recursion!\n",
            "Recursion!\n",
            "Recursion!\n",
            "Recursion!\n",
            "Recursion!\n",
            "Recursion!\n",
            "Recursion!\n",
            "Recursion!\n",
            "Recursion!\n",
            "Recursion!\n",
            "Recursion!\n",
            "Recursion!\n",
            "Recursion!\n",
            "Recursion!\n",
            "Recursion!\n",
            "Recursion!\n",
            "Recursion!\n",
            "Recursion!\n",
            "Recursion!\n",
            "Recursion!\n",
            "Recursion!\n",
            "Recursion!\n",
            "Recursion!\n",
            "Recursion!\n",
            "Recursion!\n",
            "Recursion!\n",
            "Recursion!\n",
            "Recursion!\n",
            "Recursion!\n",
            "Recursion!\n",
            "Recursion!\n",
            "Recursion!\n",
            "Recursion!\n",
            "Recursion!\n",
            "Recursion!\n",
            "Recursion!\n",
            "Recursion!\n",
            "Recursion!\n",
            "Recursion!\n",
            "Recursion!\n",
            "Recursion!\n",
            "Recursion!\n",
            "Recursion!\n",
            "Recursion!\n",
            "Recursion!\n",
            "Recursion!\n",
            "Recursion!\n",
            "Recursion!\n",
            "Recursion!\n",
            "Recursion!\n",
            "Recursion!\n",
            "Recursion!\n",
            "Recursion!\n",
            "Recursion!\n",
            "Recursion!\n",
            "Recursion!\n",
            "Recursion!\n",
            "Recursion!\n",
            "Recursion!\n",
            "Recursion!\n",
            "Recursion!\n",
            "Recursion!\n",
            "Recursion!\n",
            "Recursion!\n",
            "Recursion!\n",
            "Recursion!\n",
            "Recursion!\n",
            "Recursion!\n",
            "Recursion!\n",
            "Recursion!\n",
            "Recursion!\n",
            "Recursion!\n",
            "Recursion!\n",
            "Recursion!\n",
            "Recursion!\n",
            "Recursion!\n",
            "Recursion!\n",
            "Recursion!\n",
            "Recursion!\n",
            "Recursion!\n",
            "Recursion!\n",
            "Recursion!\n",
            "Recursion!\n",
            "Recursion!\n",
            "Recursion!\n",
            "Recursion!\n",
            "Recursion!\n",
            "Recursion!\n",
            "Recursion!\n",
            "Recursion!\n",
            "Recursion!\n",
            "Recursion!\n",
            "Recursion!\n",
            "Recursion!\n",
            "Recursion!\n",
            "Recursion!\n",
            "Recursion!\n",
            "Recursion!\n",
            "Recursion!\n",
            "Recursion!\n",
            "Recursion!\n",
            "Recursion!\n",
            "Recursion!\n",
            "Recursion!\n",
            "Recursion!\n",
            "Recursion!\n",
            "Recursion!\n",
            "Recursion!\n",
            "Recursion!\n",
            "Recursion!\n",
            "Recursion!\n",
            "Recursion!\n",
            "Recursion!\n",
            "Recursion!\n",
            "Recursion!\n",
            "Recursion!\n",
            "Recursion!\n",
            "Recursion!\n",
            "Recursion!\n",
            "Recursion!\n",
            "Recursion!\n",
            "Recursion!\n",
            "Recursion!\n",
            "Recursion!\n",
            "Recursion!\n",
            "Recursion!\n",
            "Recursion!\n",
            "Recursion!\n",
            "Recursion!\n",
            "Recursion!\n",
            "Recursion!\n",
            "Recursion!\n",
            "Recursion!\n",
            "Recursion!\n",
            "Recursion!\n",
            "Recursion!\n",
            "Recursion!\n",
            "Recursion!\n",
            "Recursion!\n",
            "Recursion!\n",
            "Recursion!\n",
            "Recursion!\n",
            "Recursion!\n",
            "Recursion!\n",
            "Recursion!\n",
            "Recursion!\n",
            "Recursion!\n",
            "Recursion!\n",
            "Recursion!\n",
            "Recursion!\n",
            "Recursion!\n",
            "Recursion!\n",
            "Recursion!\n",
            "Recursion!\n",
            "Recursion!\n",
            "Recursion!\n",
            "Recursion!\n",
            "Recursion!\n",
            "Recursion!\n",
            "Recursion!\n",
            "Recursion!\n",
            "Recursion!\n",
            "Recursion!\n",
            "Recursion!\n",
            "Recursion!\n",
            "Recursion!\n",
            "Recursion!\n",
            "Recursion!\n",
            "Recursion!\n",
            "Recursion!\n",
            "Recursion!\n",
            "Recursion!\n",
            "Recursion!\n",
            "Recursion!\n",
            "Recursion!\n",
            "Recursion!\n",
            "Recursion!\n",
            "Recursion!\n",
            "Recursion!\n",
            "Recursion!\n",
            "Recursion!\n",
            "Recursion!\n",
            "Recursion!\n",
            "Recursion!\n",
            "Recursion!\n",
            "Recursion!\n",
            "Recursion!\n",
            "Recursion!\n",
            "Recursion!\n",
            "Recursion!\n",
            "Recursion!\n",
            "Recursion!\n",
            "Recursion!\n",
            "Recursion!\n",
            "Recursion!\n",
            "Recursion!\n",
            "Recursion!\n",
            "Recursion!\n",
            "Recursion!\n",
            "Recursion!\n",
            "Recursion!\n",
            "Recursion!\n",
            "Recursion!\n",
            "Recursion!\n",
            "Recursion!\n",
            "Recursion!\n",
            "Recursion!\n",
            "Recursion!\n",
            "Recursion!\n",
            "Recursion!\n",
            "Recursion!\n",
            "Recursion!\n",
            "Recursion!\n",
            "Recursion!\n",
            "Recursion!\n",
            "Recursion!\n",
            "Recursion!\n",
            "Recursion!\n",
            "Recursion!\n",
            "Recursion!\n",
            "Recursion!\n",
            "Recursion!\n",
            "Recursion!\n",
            "Recursion!\n",
            "Recursion!\n",
            "Recursion!\n",
            "Recursion!\n",
            "Recursion!\n",
            "Recursion!\n",
            "Recursion!\n",
            "Recursion!\n",
            "Recursion!\n",
            "Recursion!\n",
            "Recursion!\n",
            "Recursion!\n",
            "Recursion!\n",
            "Recursion!\n",
            "Recursion!\n",
            "Recursion!\n",
            "Recursion!\n",
            "Recursion!\n",
            "Recursion!\n",
            "Recursion!\n",
            "Recursion!\n",
            "Recursion!\n",
            "Recursion!\n",
            "Recursion!\n",
            "Recursion!\n",
            "Recursion!\n",
            "Recursion!\n",
            "Recursion!\n",
            "Recursion!\n",
            "Recursion!\n",
            "Recursion!\n",
            "Recursion!\n",
            "Recursion!\n",
            "Recursion!\n",
            "Recursion!\n",
            "Recursion!\n",
            "Recursion!\n",
            "Recursion!\n",
            "Recursion!\n",
            "Recursion!\n",
            "Recursion!\n",
            "Recursion!\n",
            "Recursion!\n",
            "Recursion!\n",
            "Recursion!\n",
            "Recursion!\n",
            "Recursion!\n",
            "Recursion!\n",
            "Recursion!\n",
            "Recursion!\n",
            "Recursion!\n",
            "Recursion!\n",
            "Recursion!\n",
            "Recursion!\n",
            "Recursion!\n",
            "Recursion!\n",
            "Recursion!\n",
            "Recursion!\n",
            "Recursion!\n",
            "Recursion!\n",
            "Recursion!\n",
            "Recursion!\n",
            "Recursion!\n",
            "Recursion!\n"
          ]
        },
        {
          "output_type": "error",
          "ename": "RecursionError",
          "evalue": "ignored",
          "traceback": [
            "\u001b[0;31m---------------------------------------------------------------------------\u001b[0m",
            "\u001b[0;31mRecursionError\u001b[0m                            Traceback (most recent call last)",
            "\u001b[0;32m<ipython-input-142-6509860d5194>\u001b[0m in \u001b[0;36m<module>\u001b[0;34m\u001b[0m\n\u001b[0;32m----> 1\u001b[0;31m \u001b[0minfinite\u001b[0m\u001b[0;34m(\u001b[0m\u001b[0;34m)\u001b[0m\u001b[0;34m\u001b[0m\u001b[0;34m\u001b[0m\u001b[0m\n\u001b[0m",
            "\u001b[0;32m<ipython-input-141-ced7838c6ef3>\u001b[0m in \u001b[0;36minfinite\u001b[0;34m()\u001b[0m\n\u001b[1;32m      1\u001b[0m \u001b[0;32mdef\u001b[0m \u001b[0minfinite\u001b[0m\u001b[0;34m(\u001b[0m\u001b[0;34m)\u001b[0m\u001b[0;34m:\u001b[0m\u001b[0;34m\u001b[0m\u001b[0;34m\u001b[0m\u001b[0m\n\u001b[1;32m      2\u001b[0m   \u001b[0mprint\u001b[0m\u001b[0;34m(\u001b[0m\u001b[0;34m'Recursion!'\u001b[0m\u001b[0;34m)\u001b[0m\u001b[0;34m\u001b[0m\u001b[0;34m\u001b[0m\u001b[0m\n\u001b[0;32m----> 3\u001b[0;31m   \u001b[0minfinite\u001b[0m\u001b[0;34m(\u001b[0m\u001b[0;34m)\u001b[0m\u001b[0;34m\u001b[0m\u001b[0;34m\u001b[0m\u001b[0m\n\u001b[0m",
            "... last 1 frames repeated, from the frame below ...\n",
            "\u001b[0;32m<ipython-input-141-ced7838c6ef3>\u001b[0m in \u001b[0;36minfinite\u001b[0;34m()\u001b[0m\n\u001b[1;32m      1\u001b[0m \u001b[0;32mdef\u001b[0m \u001b[0minfinite\u001b[0m\u001b[0;34m(\u001b[0m\u001b[0;34m)\u001b[0m\u001b[0;34m:\u001b[0m\u001b[0;34m\u001b[0m\u001b[0;34m\u001b[0m\u001b[0m\n\u001b[1;32m      2\u001b[0m   \u001b[0mprint\u001b[0m\u001b[0;34m(\u001b[0m\u001b[0;34m'Recursion!'\u001b[0m\u001b[0;34m)\u001b[0m\u001b[0;34m\u001b[0m\u001b[0;34m\u001b[0m\u001b[0m\n\u001b[0;32m----> 3\u001b[0;31m   \u001b[0minfinite\u001b[0m\u001b[0;34m(\u001b[0m\u001b[0;34m)\u001b[0m\u001b[0;34m\u001b[0m\u001b[0;34m\u001b[0m\u001b[0m\n\u001b[0m",
            "\u001b[0;31mRecursionError\u001b[0m: maximum recursion depth exceeded while calling a Python object"
          ]
        }
      ]
    },
    {
      "cell_type": "code",
      "execution_count": 136,
      "metadata": {
        "id": "46alD1aHoXha"
      },
      "outputs": [],
      "source": [
        "def multiplicador_inteligente():\n",
        "    '''\n",
        "    Recebe entradas do usuário para X e Y e tenta retornar o resultado de X * Y.\n",
        "    Caso um dos dois valores não seja numérico, se retorna recursivamente.\n",
        "    '''\n",
        "    x = input('Qual o valor de X?')\n",
        "    y = input('Qual o valor de Y?')\n",
        "    if x.isnumeric() and y.isnumeric():\n",
        "        return float(x) * float(y)\n",
        "    else:\n",
        "        print('Por favor, digite apenas números!')\n",
        "        return multiplicador_inteligente()"
      ]
    },
    {
      "cell_type": "code",
      "execution_count": 138,
      "metadata": {
        "id": "6d4d8MunoXha",
        "outputId": "a2b1fbf2-e7ba-4440-afc7-62286342f3bb",
        "colab": {
          "base_uri": "https://localhost:8080/"
        }
      },
      "outputs": [
        {
          "name": "stdout",
          "output_type": "stream",
          "text": [
            "Qual o valor de X?10\n",
            "Qual o valor de Y?Pedro\n",
            "Por favor, digite apenas números!\n",
            "Qual o valor de X?Pedro\n",
            "Qual o valor de Y?5\n",
            "Por favor, digite apenas números!\n",
            "Qual o valor de X?10\n",
            "Qual o valor de Y?5\n"
          ]
        },
        {
          "output_type": "execute_result",
          "data": {
            "text/plain": [
              "50.0"
            ]
          },
          "metadata": {},
          "execution_count": 138
        }
      ],
      "source": [
        "multiplicador_inteligente()"
      ]
    },
    {
      "cell_type": "markdown",
      "metadata": {
        "id": "XRXICyI-oXha"
      },
      "source": [
        "Um uso clássico de funções recurssivas é percorrer árvores: estruturas de dados parecidas com a rede de seguidores em uma rede social.\n",
        "\n",
        "Já encontramos uma estrutura como essa: as nossas listas de listas! Vamos construir uma função para achatar listas de uma forma recurssiva:"
      ]
    },
    {
      "cell_type": "code",
      "execution_count": 139,
      "metadata": {
        "id": "nwJm1xheoXha"
      },
      "outputs": [],
      "source": [
        "def achatar_lista(lista_de_listas):\n",
        "    if type(lista_de_listas) == list:\n",
        "        if len(lista_de_listas) == 0:\n",
        "            return []\n",
        "        prim, resto = lista_de_listas[0], lista_de_listas[1:]\n",
        "        return achatar_lista(prim) + achatar_lista(resto)\n",
        "    else:\n",
        "        return [lista_de_listas]"
      ]
    },
    {
      "cell_type": "code",
      "execution_count": 140,
      "metadata": {
        "id": "aln7CofYoXha",
        "outputId": "3f5cfb42-02b7-4846-e116-aa306a6f2849",
        "colab": {
          "base_uri": "https://localhost:8080/"
        }
      },
      "outputs": [
        {
          "output_type": "execute_result",
          "data": {
            "text/plain": [
              "[1, 2, 3, 4]"
            ]
          },
          "metadata": {},
          "execution_count": 140
        }
      ],
      "source": [
        "achatar_lista([1,[2,[3,[4]]]])"
      ]
    },
    {
      "cell_type": "code",
      "execution_count": null,
      "metadata": {
        "id": "DMIfVFpeoXha"
      },
      "outputs": [],
      "source": []
    }
  ],
  "metadata": {
    "kernelspec": {
      "display_name": "Python 3.9.11 ('base')",
      "language": "python",
      "name": "python3"
    },
    "language_info": {
      "codemirror_mode": {
        "name": "ipython",
        "version": 3
      },
      "file_extension": ".py",
      "mimetype": "text/x-python",
      "name": "python",
      "nbconvert_exporter": "python",
      "pygments_lexer": "ipython3",
      "version": "3.9.11"
    },
    "toc": {
      "base_numbering": 1,
      "nav_menu": {},
      "number_sections": true,
      "sideBar": true,
      "skip_h1_title": false,
      "title_cell": "Table of Contents",
      "title_sidebar": "Contents",
      "toc_cell": false,
      "toc_position": {},
      "toc_section_display": true,
      "toc_window_display": false
    },
    "varInspector": {
      "cols": {
        "lenName": 16,
        "lenType": 16,
        "lenVar": 40
      },
      "kernels_config": {
        "python": {
          "delete_cmd_postfix": "",
          "delete_cmd_prefix": "del ",
          "library": "var_list.py",
          "varRefreshCmd": "print(var_dic_list())"
        },
        "r": {
          "delete_cmd_postfix": ") ",
          "delete_cmd_prefix": "rm(",
          "library": "var_list.r",
          "varRefreshCmd": "cat(var_dic_list()) "
        }
      },
      "types_to_exclude": [
        "module",
        "function",
        "builtin_function_or_method",
        "instance",
        "_Feature"
      ],
      "window_display": false
    },
    "vscode": {
      "interpreter": {
        "hash": "014f4a4a5af8f0104b12c029e500f4146d6d785e8cf714d2a35b7a9514230cd3"
      }
    },
    "colab": {
      "provenance": []
    }
  },
  "nbformat": 4,
  "nbformat_minor": 0
}