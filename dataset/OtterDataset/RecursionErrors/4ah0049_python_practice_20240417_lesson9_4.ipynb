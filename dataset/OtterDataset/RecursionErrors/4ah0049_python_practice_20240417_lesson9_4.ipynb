{
 "cells": [
  {
   "cell_type": "code",
   "execution_count": 20,
   "metadata": {},
   "outputs": [
    {
     "name": "stdout",
     "output_type": "stream",
     "text": [
      "請輸入身高(cm):\n",
      "180.0\n",
      "請輸入體重(kg):\n",
      "70.0\n",
      "\n",
      "Ben您好:,您的BMI值是21.60,您屬於:正常\n",
      "\n"
     ]
    }
   ],
   "source": [
    "import pyinputplus as pyip\n",
    "\n",
    "class BMI():\n",
    "    def __init__(self,name:str,high:int,weight:int|float):\n",
    "        super().__init__()\n",
    "        self.name=name\n",
    "        self.high=high\n",
    "        self.weight=weight\n",
    "\n",
    "    @property\n",
    "    def bmi(self):\n",
    "        return self.weight / (self.high / 100)**2\n",
    "\n",
    "    def status(self)->str:\n",
    "        if self.bmi < 18.5:\n",
    "            result = '過輕'\n",
    "        elif self.bmi < 24:\n",
    "            result = '正常'\n",
    "        elif self.bmi < 27:\n",
    "            result = '過重'\n",
    "        elif self.bmi < 30:\n",
    "            result = '輕度肥胖'\n",
    "        elif self.bmi < 35:\n",
    "            result = '中度肥胖'\n",
    "        else:\n",
    "            result = '重度肥胖'\n",
    "        return result\n",
    "    \n",
    "    def __repr__(self):\n",
    "        data = f\"\\n{self.name}您好:,您的BMI值是{self.bmi:.2f},您屬於:{self.status()}\\n\"\n",
    "        return data\n",
    "    \n",
    "name = input('請輸入姓名:')\n",
    "high = pyip.inputFloat('請輸入身高(cm):\\n', min=30, max=200)\n",
    "print(high)\n",
    "weight = pyip.inputFloat('請輸入體重(kg):\\n', min=30, max=200)\n",
    "print(weight)\n",
    "\n",
    "b1= BMI (name,high,weight)\n",
    "print(b1)"
   ]
  },
  {
   "cell_type": "code",
   "execution_count": 19,
   "metadata": {},
   "outputs": [
    {
     "name": "stdout",
     "output_type": "stream",
     "text": [
      "請輸入身高(cm):請輸入體重(kg):"
     ]
    },
    {
     "ename": "RecursionError",
     "evalue": "maximum recursion depth exceeded while getting the str of an object",
     "output_type": "error",
     "traceback": [
      "\u001b[0;31m---------------------------------------------------------------------------\u001b[0m",
      "\u001b[0;31mRecursionError\u001b[0m                            Traceback (most recent call last)",
      "Cell \u001b[0;32mIn[19], line 39\u001b[0m\n\u001b[1;32m     35\u001b[0m weight \u001b[38;5;241m=\u001b[39m pyip\u001b[38;5;241m.\u001b[39minputFloat(\u001b[38;5;124m'\u001b[39m\u001b[38;5;124m請輸入體重(kg):\u001b[39m\u001b[38;5;124m'\u001b[39m, \u001b[38;5;28mmin\u001b[39m\u001b[38;5;241m=\u001b[39m\u001b[38;5;241m30\u001b[39m)\n\u001b[1;32m     38\u001b[0m b1\u001b[38;5;241m=\u001b[39m BMI (name,high,weight)\n\u001b[0;32m---> 39\u001b[0m \u001b[38;5;28;43mprint\u001b[39;49m\u001b[43m(\u001b[49m\u001b[43mb1\u001b[49m\u001b[43m)\u001b[49m\n",
      "Cell \u001b[0;32mIn[19], line 30\u001b[0m, in \u001b[0;36mBMI.__repr__\u001b[0;34m(self)\u001b[0m\n\u001b[1;32m     29\u001b[0m \u001b[38;5;28;01mdef\u001b[39;00m \u001b[38;5;21m__repr__\u001b[39m(\u001b[38;5;28mself\u001b[39m):  \u001b[38;5;66;03m# __repr__只能有一個(?\u001b[39;00m\n\u001b[0;32m---> 30\u001b[0m     data \u001b[38;5;241m=\u001b[39m \u001b[38;5;124mf\u001b[39m\u001b[38;5;124m\"\u001b[39m\u001b[38;5;130;01m\\n\u001b[39;00m\u001b[38;5;132;01m{\u001b[39;00m\u001b[38;5;28mself\u001b[39m\u001b[38;5;241m.\u001b[39mname\u001b[38;5;132;01m}\u001b[39;00m\u001b[38;5;124m您好:,您的BMI值是\u001b[39m\u001b[38;5;132;01m{\u001b[39;00m\u001b[38;5;28mself\u001b[39m\u001b[38;5;241m.\u001b[39mbmi\u001b[38;5;132;01m:\u001b[39;00m\u001b[38;5;124m.2f\u001b[39m\u001b[38;5;132;01m}\u001b[39;00m\u001b[38;5;124m,您屬於:\u001b[39m\u001b[38;5;132;01m{\u001b[39;00m\u001b[38;5;28mself\u001b[39m\u001b[38;5;241m.\u001b[39mstatus\u001b[38;5;132;01m}\u001b[39;00m\u001b[38;5;130;01m\\n\u001b[39;00m\u001b[38;5;124m\"\u001b[39m\n\u001b[1;32m     31\u001b[0m     \u001b[38;5;28;01mreturn\u001b[39;00m data\n",
      "Cell \u001b[0;32mIn[19], line 30\u001b[0m, in \u001b[0;36mBMI.__repr__\u001b[0;34m(self)\u001b[0m\n\u001b[1;32m     29\u001b[0m \u001b[38;5;28;01mdef\u001b[39;00m \u001b[38;5;21m__repr__\u001b[39m(\u001b[38;5;28mself\u001b[39m):  \u001b[38;5;66;03m# __repr__只能有一個(?\u001b[39;00m\n\u001b[0;32m---> 30\u001b[0m     data \u001b[38;5;241m=\u001b[39m \u001b[38;5;124mf\u001b[39m\u001b[38;5;124m\"\u001b[39m\u001b[38;5;130;01m\\n\u001b[39;00m\u001b[38;5;132;01m{\u001b[39;00m\u001b[38;5;28mself\u001b[39m\u001b[38;5;241m.\u001b[39mname\u001b[38;5;132;01m}\u001b[39;00m\u001b[38;5;124m您好:,您的BMI值是\u001b[39m\u001b[38;5;132;01m{\u001b[39;00m\u001b[38;5;28mself\u001b[39m\u001b[38;5;241m.\u001b[39mbmi\u001b[38;5;132;01m:\u001b[39;00m\u001b[38;5;124m.2f\u001b[39m\u001b[38;5;132;01m}\u001b[39;00m\u001b[38;5;124m,您屬於:\u001b[39m\u001b[38;5;132;01m{\u001b[39;00m\u001b[38;5;28mself\u001b[39m\u001b[38;5;241m.\u001b[39mstatus\u001b[38;5;132;01m}\u001b[39;00m\u001b[38;5;130;01m\\n\u001b[39;00m\u001b[38;5;124m\"\u001b[39m\n\u001b[1;32m     31\u001b[0m     \u001b[38;5;28;01mreturn\u001b[39;00m data\n",
      "    \u001b[0;31m[... skipping similar frames: BMI.__repr__ at line 30 (740 times)]\u001b[0m\n",
      "Cell \u001b[0;32mIn[19], line 30\u001b[0m, in \u001b[0;36mBMI.__repr__\u001b[0;34m(self)\u001b[0m\n\u001b[1;32m     29\u001b[0m \u001b[38;5;28;01mdef\u001b[39;00m \u001b[38;5;21m__repr__\u001b[39m(\u001b[38;5;28mself\u001b[39m):  \u001b[38;5;66;03m# __repr__只能有一個(?\u001b[39;00m\n\u001b[0;32m---> 30\u001b[0m     data \u001b[38;5;241m=\u001b[39m \u001b[38;5;124mf\u001b[39m\u001b[38;5;124m\"\u001b[39m\u001b[38;5;130;01m\\n\u001b[39;00m\u001b[38;5;132;01m{\u001b[39;00m\u001b[38;5;28mself\u001b[39m\u001b[38;5;241m.\u001b[39mname\u001b[38;5;132;01m}\u001b[39;00m\u001b[38;5;124m您好:,您的BMI值是\u001b[39m\u001b[38;5;132;01m{\u001b[39;00m\u001b[38;5;28mself\u001b[39m\u001b[38;5;241m.\u001b[39mbmi\u001b[38;5;132;01m:\u001b[39;00m\u001b[38;5;124m.2f\u001b[39m\u001b[38;5;132;01m}\u001b[39;00m\u001b[38;5;124m,您屬於:\u001b[39m\u001b[38;5;132;01m{\u001b[39;00m\u001b[38;5;28mself\u001b[39m\u001b[38;5;241m.\u001b[39mstatus\u001b[38;5;132;01m}\u001b[39;00m\u001b[38;5;130;01m\\n\u001b[39;00m\u001b[38;5;124m\"\u001b[39m\n\u001b[1;32m     31\u001b[0m     \u001b[38;5;28;01mreturn\u001b[39;00m data\n",
      "\u001b[0;31mRecursionError\u001b[0m: maximum recursion depth exceeded while getting the str of an object"
     ]
    }
   ],
   "source": [
    "import pyinputplus as pyip\n",
    "\n",
    "class BMI():\n",
    "    def __init__(self,name:str,high:float,weight:float):\n",
    "        super().__init__()\n",
    "        self.name = name\n",
    "        self.high = high\n",
    "        self.weight = weight\n",
    "\n",
    "    @property\n",
    "    def bmi(self):\n",
    "        return self.weight / (self.high/100) ** 2\n",
    "\n",
    "    def status(self)->str:\n",
    "        if self.bmi < 18.5:\n",
    "            result = '過輕'\n",
    "        elif self.bmi < 24:\n",
    "            result = '正常'\n",
    "        elif self.bmi < 27:\n",
    "            result = '過重'\n",
    "        elif self.bmi < 30:\n",
    "            result = '輕度肥胖'\n",
    "        elif self.bmi < 35:\n",
    "            result = '中度肥胖'\n",
    "        else:\n",
    "            result = '重度肥胖'\n",
    "        return result\n",
    "    \n",
    "    def __repr__(self):  # __repr__只能有一個(?\n",
    "        data = f\"\\n{self.name}您好:,您的BMI值是{self.bmi:.2f},您屬於:{self.status()}\\n\"\n",
    "        return data\n",
    "    \n",
    "name = input('請輸入姓名:')\n",
    "high = pyip.inputFloat('請輸入身高(cm):', min=30)\n",
    "weight = pyip.inputFloat('請輸入體重(kg):', min=30)\n",
    "\n",
    "\n",
    "b1= BMI (name,high,weight)\n",
    "print(b1)\n"
   ]
  },
  {
   "cell_type": "code",
   "execution_count": 20,
   "metadata": {},
   "outputs": [
    {
     "name": "stdout",
     "output_type": "stream",
     "text": [
      "請輸入身高(cm): 180.0\n",
      "請輸入體重(kg):70.0\n",
      "\n",
      "Ben您好:,您的BMI值是21.60,您屬於:正常\n",
      "\n"
     ]
    }
   ],
   "source": [
    "import pyinputplus as pyip\n",
    "\n",
    "class BMI():\n",
    "    def __init__(self,name:str,high:float,weight:float):\n",
    "        super().__init__()\n",
    "        self.name = name\n",
    "        self.high = high\n",
    "        self.weight = weight\n",
    "\n",
    "    @property\n",
    "    def bmi(self):\n",
    "        return self.weight / (self.high/100) ** 2\n",
    "\n",
    "    def status(self)->str:\n",
    "        if self.bmi < 18.5:\n",
    "            result = '過輕'\n",
    "        elif self.bmi < 24:\n",
    "            result = '正常'\n",
    "        elif self.bmi < 27:\n",
    "            result = '過重'\n",
    "        elif self.bmi < 30:\n",
    "            result = '輕度肥胖'\n",
    "        elif self.bmi < 35:\n",
    "            result = '中度肥胖'\n",
    "        else:\n",
    "            result = '重度肥胖'\n",
    "        return result\n",
    "    \n",
    "    def __repr__(self):  \n",
    "        data = f\"\\n{self.name}您好:,您的BMI值是{self.bmi:.2f},您屬於:{self.status()}\\n\"\n",
    "        return data\n",
    "    \n",
    "\n",
    "name = input(\"請輸入姓名: \")\n",
    "high = pyip.inputFloat(f\"請輸入身高(cm): \", min=1)\n",
    "print(high)\n",
    "weight = pyip.inputFloat(f\"請輸入體重(kg):\", min=1)\n",
    "print(weight)\n",
    "p1 = BMI(name,high,weight)\n",
    "print(p1)"
   ]
  },
  {
   "cell_type": "code",
   "execution_count": 8,
   "metadata": {},
   "outputs": [
    {
     "name": "stdout",
     "output_type": "stream",
     "text": [
      "請輸入身高(cm): 180.0\n",
      "請輸入體重(kg):70.0\n",
      "\n",
      "ben您好:,您的BMI值是21.60,您屬於:正常\n",
      "\n"
     ]
    }
   ],
   "source": [
    "import pyinputplus as pyip\n",
    "\n",
    "class BMI():\n",
    "    def __init__(self,name:str,high:float,weight:float):\n",
    "        super().__init__()\n",
    "        self.name = name\n",
    "        self.high = high\n",
    "        self.weight = weight\n",
    "\n",
    "    @property\n",
    "    def bmi(self):\n",
    "        return self.weight / (self.high/100) ** 2\n",
    "\n",
    "    def status(self)->str:\n",
    "        if self.bmi < 18.5:\n",
    "            result = '過輕'\n",
    "        elif self.bmi < 24:\n",
    "            result = '正常'\n",
    "        elif self.bmi < 27:\n",
    "            result = '過重'\n",
    "        elif self.bmi < 30:\n",
    "            result = '輕度肥胖'\n",
    "        elif self.bmi < 35:\n",
    "            result = '中度肥胖'\n",
    "        else:\n",
    "            result = '重度肥胖'\n",
    "        return result\n",
    "    \n",
    "    def __repr__(self):  \n",
    "        data = f\"\\n{self.name}您好:,您的BMI值是{self.bmi:.2f},您屬於:{self.status()}\\n\"\n",
    "        return data\n",
    "    \n",
    "\n",
    "name = input(\"請輸入姓名: \")\n",
    "high = pyip.inputFloat(f\"請輸入身高(cm): \", min=1)\n",
    "print(high)\n",
    "weight = pyip.inputFloat(f\"請輸入體重(kg):\", min=1)\n",
    "print(weight)\n",
    "p1 = BMI(name,high,weight)\n",
    "print(p1)"
   ]
  },
  {
   "cell_type": "code",
   "execution_count": 2,
   "metadata": {},
   "outputs": [
    {
     "name": "stdout",
     "output_type": "stream",
     "text": [
      "Ben\n",
      "請輸入身高(cm): 180.0\n",
      "請輸入體重(kg):70.0\n",
      "\n",
      "Ben您好:,您的BMI值是21.60,您屬於:正常\n",
      "\n"
     ]
    }
   ],
   "source": [
    "import pyinputplus as pyip\n",
    "from dataclasses import dataclass\n",
    "\n",
    "@dataclass\n",
    "class BMI():\n",
    "    name:str\n",
    "    high:float\n",
    "    weight:float\n",
    "    \n",
    "    @property\n",
    "    def bmi(self)->float:\n",
    "        return self.weight / (self.high/100) ** 2\n",
    "\n",
    "    def status(self)->str:\n",
    "        if self.bmi < 18.5:\n",
    "            result = '過輕'\n",
    "        elif self.bmi < 24:\n",
    "            result = '正常'\n",
    "        elif self.bmi < 27:\n",
    "            result = '過重'\n",
    "        elif self.bmi < 30:\n",
    "            result = '輕度肥胖'\n",
    "        elif self.bmi < 35:\n",
    "            result = '中度肥胖'\n",
    "        else:\n",
    "            result = '重度肥胖'\n",
    "        return result\n",
    "    \n",
    "    def __repr__(self):  \n",
    "        data = f\"\\n{self.name}您好:,您的BMI值是{self.bmi:.2f},您屬於:{self.status()}\\n\"\n",
    "        return data\n",
    "    \n",
    "\n",
    "name = input(\"請輸入姓名: \")\n",
    "print(name)\n",
    "high = pyip.inputFloat(f\"請輸入身高(cm): \", min=1)\n",
    "print(high)\n",
    "weight = pyip.inputFloat(f\"請輸入體重(kg):\", min=1)\n",
    "print(weight)\n",
    "p1 = BMI(name,high,weight)\n",
    "print(p1)"
   ]
  }
 ],
 "metadata": {
  "kernelspec": {
   "display_name": "Python 3",
   "language": "python",
   "name": "python3"
  },
  "language_info": {
   "codemirror_mode": {
    "name": "ipython",
    "version": 3
   },
   "file_extension": ".py",
   "mimetype": "text/x-python",
   "name": "python",
   "nbconvert_exporter": "python",
   "pygments_lexer": "ipython3",
   "version": "3.10.14"
  }
 },
 "nbformat": 4,
 "nbformat_minor": 2
}
