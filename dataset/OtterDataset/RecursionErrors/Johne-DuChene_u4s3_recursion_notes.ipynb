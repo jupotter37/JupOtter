{
 "cells": [
  {
   "cell_type": "markdown",
   "id": "94679e25",
   "metadata": {},
   "source": [
    "A recursive function is one that calls itself."
   ]
  },
  {
   "cell_type": "markdown",
   "id": "977590ca",
   "metadata": {},
   "source": [
    "# Why use Recursion?"
   ]
  },
  {
   "cell_type": "markdown",
   "id": "b56823cd",
   "metadata": {},
   "source": [
    "Most programming problems are solvable without recursion. So, strictly speaking, recursion usually isn’t necessary.  \n",
    "However, some situations particularly lend themselves to a self-referential definition—for example, the definition of ancestors shown above. If you were devising an algorithm to handle such a case programmatically, a recursive solution would likely be cleaner and more concise.  \n",
    "Traversal of tree-like data structures is another good example. Because these are nested structures, they readily fit a recursive definition. A non-recursive algorithm to walk through a nested structure is likely to be somewhat clunky, while a recursive solution will be relatively elegant. An example of this appears later in this tutorial.  \n",
    "On the other hand, recursion isn’t for every situation. Here are some other factors to consider:  \n",
    "- For some problems, a recursive solution, though possible, will be awkward rather than elegant.  \n",
    "- Recursive implementations often consume more memory than non-recursive ones.  \n",
    "- In some cases, using recursion may result in slower execution time.  \n",
    "\n",
    "Typically, the readability of the code will be the biggest determining factor. But it depends on the circumstances. The examples presented below should help you get a feel for when you should choose recursion."
   ]
  },
  {
   "cell_type": "markdown",
   "id": "1a1502a1",
   "metadata": {},
   "source": [
    "# Recursion in Python  \n",
    "When you call a function in Python, the interpreter creates a new local namespace so that names defined within that function don’t collide with identical names defined elsewhere. One function can call another, and even if they both define objects with the same name, it all works out fine because those objects exist in separate namespaces.  \n",
    "The same holds true if multiple instances of the same function are running concurrently. For example, consider the following definition:"
   ]
  },
  {
   "cell_type": "code",
   "execution_count": 1,
   "id": "68c8eed6",
   "metadata": {},
   "outputs": [],
   "source": [
    "def function():\n",
    "    x = 10\n",
    "    function()"
   ]
  },
  {
   "cell_type": "markdown",
   "id": "c94583b9",
   "metadata": {},
   "source": [
    "When function() executes the first time, Python creates a namespace and assigns x the value 10 in that namespace. Then function() calls itself recursively. The second time function() runs, the interpreter creates a second namespace and assigns 10 to x there as well. These two instances of the name x are distinct from each another and can coexist without clashing because they are in separate namespaces."
   ]
  },
  {
   "cell_type": "markdown",
   "id": "fa46dd3f",
   "metadata": {},
   "source": [
    "Unfortunately, running function() as it stands produces a result that is less than inspiring, as the following traceback shows:"
   ]
  },
  {
   "cell_type": "code",
   "execution_count": 2,
   "id": "492f2d31",
   "metadata": {},
   "outputs": [
    {
     "ename": "RecursionError",
     "evalue": "maximum recursion depth exceeded",
     "output_type": "error",
     "traceback": [
      "\u001b[1;31m---------------------------------------------------------------------------\u001b[0m",
      "\u001b[1;31mRecursionError\u001b[0m                            Traceback (most recent call last)",
      "\u001b[1;32m<ipython-input-2-30ca0b4348da>\u001b[0m in \u001b[0;36m<module>\u001b[1;34m\u001b[0m\n\u001b[1;32m----> 1\u001b[1;33m \u001b[0mfunction\u001b[0m\u001b[1;33m(\u001b[0m\u001b[1;33m)\u001b[0m\u001b[1;33m\u001b[0m\u001b[1;33m\u001b[0m\u001b[0m\n\u001b[0m",
      "\u001b[1;32m<ipython-input-1-f37c739510a7>\u001b[0m in \u001b[0;36mfunction\u001b[1;34m()\u001b[0m\n\u001b[0;32m      1\u001b[0m \u001b[1;32mdef\u001b[0m \u001b[0mfunction\u001b[0m\u001b[1;33m(\u001b[0m\u001b[1;33m)\u001b[0m\u001b[1;33m:\u001b[0m\u001b[1;33m\u001b[0m\u001b[1;33m\u001b[0m\u001b[0m\n\u001b[0;32m      2\u001b[0m     \u001b[0mx\u001b[0m \u001b[1;33m=\u001b[0m \u001b[1;36m10\u001b[0m\u001b[1;33m\u001b[0m\u001b[1;33m\u001b[0m\u001b[0m\n\u001b[1;32m----> 3\u001b[1;33m     \u001b[0mfunction\u001b[0m\u001b[1;33m(\u001b[0m\u001b[1;33m)\u001b[0m\u001b[1;33m\u001b[0m\u001b[1;33m\u001b[0m\u001b[0m\n\u001b[0m",
      "... last 1 frames repeated, from the frame below ...\n",
      "\u001b[1;32m<ipython-input-1-f37c739510a7>\u001b[0m in \u001b[0;36mfunction\u001b[1;34m()\u001b[0m\n\u001b[0;32m      1\u001b[0m \u001b[1;32mdef\u001b[0m \u001b[0mfunction\u001b[0m\u001b[1;33m(\u001b[0m\u001b[1;33m)\u001b[0m\u001b[1;33m:\u001b[0m\u001b[1;33m\u001b[0m\u001b[1;33m\u001b[0m\u001b[0m\n\u001b[0;32m      2\u001b[0m     \u001b[0mx\u001b[0m \u001b[1;33m=\u001b[0m \u001b[1;36m10\u001b[0m\u001b[1;33m\u001b[0m\u001b[1;33m\u001b[0m\u001b[0m\n\u001b[1;32m----> 3\u001b[1;33m     \u001b[0mfunction\u001b[0m\u001b[1;33m(\u001b[0m\u001b[1;33m)\u001b[0m\u001b[1;33m\u001b[0m\u001b[1;33m\u001b[0m\u001b[0m\n\u001b[0m",
      "\u001b[1;31mRecursionError\u001b[0m: maximum recursion depth exceeded"
     ]
    }
   ],
   "source": [
    "function()"
   ]
  },
  {
   "cell_type": "markdown",
   "id": "dd854bce",
   "metadata": {},
   "source": [
    "As written, function() would in theory go on forever, calling itself over and over without any of the calls ever returning. Your comp only has so much memory, and it would run out eventually.  \n",
    "Python doesn’t allow that to happen. The interpreter limits the maximum number of times a function can call itself recursively, and when it reaches that limit, it raises a RecursionError exception, as you see above."
   ]
  },
  {
   "cell_type": "markdown",
   "id": "1382b338",
   "metadata": {},
   "source": [
    "There isn’t much use for a function to indiscriminately call itself recursively without end. It’s reminiscent of the instructions that you sometimes find on shampoo bottles: “Lather, rinse, repeat.” If you were to follow these instructions literally, you’d shampoo your hair forever!  \n",
    "This logical flaw has evidently occurred to some shampoo manufacturers, because some shampoo bottles instead say “Lather, rinse, repeat as necessary.” That provides a termination condition to the instructions. Presumably, you’ll eventually feel your hair is sufficiently clean to consider additional repetitions unnecessary. Shampooing can then stop.  \n",
    "Similarly, a function that calls itself recursively must have a plan to eventually stop. Recursive functions typically follow this pattern:  \n",
    "- There are one or more base cases that are directly solvable without the need for further recursion.  \n",
    "- Each recursive call moves the solution progressively closer to a base case.  \n",
    "\n",
    "You’re now ready to see how this works with some examples.  "
   ]
  },
  {
   "cell_type": "markdown",
   "id": "3fa2b755",
   "metadata": {},
   "source": [
    "# Count Down to Zero"
   ]
  },
  {
   "cell_type": "markdown",
   "id": "8950f0d2",
   "metadata": {},
   "source": [
    "The first example is a function called countdown(), which takes a positive number as an argument and prints the numbers from the specified argument down to zero:"
   ]
  },
  {
   "cell_type": "code",
   "execution_count": 7,
   "id": "a2adca8c",
   "metadata": {},
   "outputs": [
    {
     "name": "stdout",
     "output_type": "stream",
     "text": [
      "5\n",
      "4\n",
      "3\n",
      "2\n",
      "1\n",
      "0\n"
     ]
    }
   ],
   "source": [
    "def countdown(n):\n",
    "    print(n)\n",
    "    if n == 0:\n",
    "        return None # terminate recursion\n",
    "    else:\n",
    "        countdown(n - 1) # recursive call\n",
    "countdown(5)"
   ]
  },
  {
   "cell_type": "markdown",
   "id": "4383a023",
   "metadata": {},
   "source": [
    "Notice how countdown() fits the paradigm for a recursive algorithm described above:  \n"
   ]
  }
 ],
 "metadata": {
  "kernelspec": {
   "display_name": "Python 3",
   "language": "python",
   "name": "python3"
  },
  "language_info": {
   "codemirror_mode": {
    "name": "ipython",
    "version": 3
   },
   "file_extension": ".py",
   "mimetype": "text/x-python",
   "name": "python",
   "nbconvert_exporter": "python",
   "pygments_lexer": "ipython3",
   "version": "3.8.8"
  }
 },
 "nbformat": 4,
 "nbformat_minor": 5
}
