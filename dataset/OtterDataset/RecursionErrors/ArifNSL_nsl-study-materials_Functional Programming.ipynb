{
 "cells": [
  {
   "cell_type": "markdown",
   "id": "71ee5daa",
   "metadata": {},
   "source": [
    "# Funtional programming"
   ]
  },
  {
   "cell_type": "markdown",
   "id": "f1fb5cdf",
   "metadata": {},
   "source": [
    "Functional programming wants to avoid state changes as much as possible and works with data flowing between functions. In Python you might combine the two approaches by writing functions that take and return instances representing objects in your application (e-mail messages, transactions, etc.)."
   ]
  },
  {
   "cell_type": "code",
   "execution_count": 75,
   "id": "9114640b",
   "metadata": {},
   "outputs": [
    {
     "name": "stdout",
     "output_type": "stream",
     "text": [
      "110\n"
     ]
    }
   ],
   "source": [
    "def do_twice(func, arg):\n",
    "    return func(func(arg))\n",
    "\n",
    "def add_five(x):\n",
    "    return x+5\n",
    "\n",
    "print(do_twice(add_five, 100))"
   ]
  },
  {
   "cell_type": "code",
   "execution_count": 77,
   "id": "7a1d95d4",
   "metadata": {},
   "outputs": [
    {
     "name": "stdout",
     "output_type": "stream",
     "text": [
      "[10]\n"
     ]
    }
   ],
   "source": [
    "#impure function\n",
    "my_list = []\n",
    "def my_impure_function(arg):\n",
    "     my_list.append(arg)\n",
    "\n",
    "my_impure_function(10)\n",
    "print(my_list)\n"
   ]
  },
  {
   "cell_type": "markdown",
   "id": "fe36c2f9",
   "metadata": {},
   "source": [
    "## lambda"
   ]
  },
  {
   "cell_type": "markdown",
   "id": "c7e46b3f",
   "metadata": {},
   "source": [
    "A lambda function is a single-line function declared with no name, which can have any number of arguments, but it can only have one expression. Such a function is capable of behaving similarly to a regular function declared using the Python's def keyword."
   ]
  },
  {
   "cell_type": "code",
   "execution_count": 80,
   "id": "3c51589d",
   "metadata": {},
   "outputs": [
    {
     "name": "stdout",
     "output_type": "stream",
     "text": [
      "10\n",
      "8\n"
     ]
    }
   ],
   "source": [
    "def my_function(func, arg):\n",
    "     return func(arg)\n",
    "print(my_function(lambda x: 2 * x, 5))\n",
    "\n",
    "print((lambda x,y: x + 2 * y)(2,3))"
   ]
  },
  {
   "cell_type": "markdown",
   "id": "39a1b71e",
   "metadata": {},
   "source": [
    "## map "
   ]
  },
  {
   "cell_type": "markdown",
   "id": "81cf242d",
   "metadata": {},
   "source": [
    "map() is a function that works as an iterator to return a result after applying a function to every item of an iterable (tuple, lists, etc.). It is used when you want to apply a single transformation function to all the iterable elements. The iterable and function are passed as arguments to the map in Python."
   ]
  },
  {
   "cell_type": "code",
   "execution_count": 82,
   "id": "c4e29851",
   "metadata": {},
   "outputs": [
    {
     "name": "stdout",
     "output_type": "stream",
     "text": [
      "[20, 40, 60, 80]\n"
     ]
    }
   ],
   "source": [
    "def make_double(x):\n",
    "    return x * 2\n",
    "\n",
    "marks = [10,20,30,40]\n",
    "result = map(make_double, marks)\n",
    "\n",
    "print(list(result))"
   ]
  },
  {
   "cell_type": "markdown",
   "id": "567a5b1a",
   "metadata": {},
   "source": [
    "## filter"
   ]
  },
  {
   "cell_type": "markdown",
   "id": "73c1a08a",
   "metadata": {},
   "source": [
    "filter() is a built-in function that allows you to process an iterable and extract those items that satisfy a given condition. This process is commonly known as a filtering operation."
   ]
  },
  {
   "cell_type": "code",
   "execution_count": 28,
   "id": "5e65a541",
   "metadata": {},
   "outputs": [
    {
     "name": "stdout",
     "output_type": "stream",
     "text": [
      "[2, 4, 6, 8]\n",
      "[2, 4, 6, 8]\n"
     ]
    }
   ],
   "source": [
    "def is_even(x):\n",
    "    return x % 2 == 0\n",
    "\n",
    "numbers = [1,2,3,4,5,6,7,8,9]\n",
    "result = filter(is_even, numbers)\n",
    "print(list(result))\n",
    "\n",
    "#lambda\n",
    "res = list(filter(lambda x: x % 2 == 0, numbers))\n",
    "print(res)"
   ]
  },
  {
   "cell_type": "markdown",
   "id": "3d6a95d6",
   "metadata": {},
   "source": [
    "## generator"
   ]
  },
  {
   "cell_type": "markdown",
   "id": "4bc4dfd6",
   "metadata": {},
   "source": [
    "Python Generator functions allow you to declare a function that behaves likes an iterator, allowing programmers to make an iterator in a fast, easy, and clean way. An iterator is an object that can be iterated or looped upon. It is used to abstract a container of data to make it behave like an iterable object."
   ]
  },
  {
   "cell_type": "code",
   "execution_count": 29,
   "id": "d6908b99",
   "metadata": {},
   "outputs": [
    {
     "name": "stdout",
     "output_type": "stream",
     "text": [
      "5\n",
      "4\n",
      "3\n",
      "2\n",
      "1\n"
     ]
    }
   ],
   "source": [
    "def my_iterable():\n",
    "    i = 5\n",
    "    while i > 0:\n",
    "        yield i\n",
    "        i -= 1\n",
    "        \n",
    "\n",
    "for i in my_iterable():\n",
    "    print(i)"
   ]
  },
  {
   "cell_type": "code",
   "execution_count": 30,
   "id": "439208d7",
   "metadata": {},
   "outputs": [
    {
     "name": "stdout",
     "output_type": "stream",
     "text": [
      "[0, 2, 4, 6, 8, 10, 12, 14, 16, 18, 20, 22, 24, 26, 28, 30, 32, 34, 36, 38, 40, 42, 44, 46, 48, 50, 52, 54, 56, 58, 60, 62, 64, 66, 68, 70, 72, 74, 76, 78, 80, 82, 84, 86, 88, 90, 92, 94, 96, 98, 100]\n"
     ]
    }
   ],
   "source": [
    "def even_numbers(x):\n",
    "    for i in range(x+1):\n",
    "        if i % 2 == 0:\n",
    "            yield i\n",
    "            \n",
    "            \n",
    "even_nums_list = list(even_numbers(100))\n",
    "print(even_nums_list)"
   ]
  },
  {
   "cell_type": "markdown",
   "id": "d8fb1792",
   "metadata": {},
   "source": [
    "## decorator"
   ]
  },
  {
   "cell_type": "markdown",
   "id": "733cd875",
   "metadata": {},
   "source": [
    "A decorator in Python is a function that takes another function as its argument, and returns yet another function . Decorators can be extremely useful as they allow the extension of an existing function, without any modification to the original function source code."
   ]
  },
  {
   "cell_type": "code",
   "execution_count": 31,
   "id": "5a333913",
   "metadata": {},
   "outputs": [
    {
     "name": "stdout",
     "output_type": "stream",
     "text": [
      "----------\n",
      "Clear Text\n",
      "----------\n",
      "----------\n",
      "Hello World!\n",
      "----------\n"
     ]
    }
   ],
   "source": [
    "def my_dec(func):\n",
    "    def dec():\n",
    "        print(\"----------\")\n",
    "        func()\n",
    "        print(\"----------\")\n",
    "    return dec\n",
    "\n",
    "def print_raw():\n",
    "    print(\"Clear Text\")\n",
    "    \n",
    "\n",
    "dec_func = my_dec(print_raw)\n",
    "dec_func()\n",
    "\n",
    "@my_dec\n",
    "def print_text():\n",
    "    print(\"Hello World!\")\n",
    "    \n",
    "print_text()"
   ]
  },
  {
   "cell_type": "markdown",
   "id": "9769b7f9",
   "metadata": {},
   "source": [
    "## recursion"
   ]
  },
  {
   "cell_type": "markdown",
   "id": "c4212755",
   "metadata": {},
   "source": [
    "Recursion is a common mathematical and programming concept. It means that a function calls itself. This has the benefit of meaning that you can loop through data to reach a result."
   ]
  },
  {
   "cell_type": "code",
   "execution_count": 32,
   "id": "d3993244",
   "metadata": {},
   "outputs": [
    {
     "name": "stdout",
     "output_type": "stream",
     "text": [
      "171122452428141311372468338881272839092270544893520369393648040923257279754140647424000000000000000\n"
     ]
    }
   ],
   "source": [
    "def factorial(x):\n",
    "    if x== 1:\n",
    "        return 1\n",
    "    else:\n",
    "        return x * factorial(x-1)\n",
    "    \n",
    "print(factorial(69))"
   ]
  },
  {
   "cell_type": "code",
   "execution_count": 33,
   "id": "608a7ea6",
   "metadata": {},
   "outputs": [
    {
     "ename": "RecursionError",
     "evalue": "maximum recursion depth exceeded",
     "output_type": "error",
     "traceback": [
      "\u001b[0;31m---------------------------------------------------------------------------\u001b[0m",
      "\u001b[0;31mRecursionError\u001b[0m                            Traceback (most recent call last)",
      "Input \u001b[0;32mIn [33]\u001b[0m, in \u001b[0;36m<cell line: 4>\u001b[0;34m()\u001b[0m\n\u001b[1;32m      1\u001b[0m \u001b[38;5;28;01mdef\u001b[39;00m \u001b[38;5;21mfactorial\u001b[39m(x):\n\u001b[1;32m      2\u001b[0m     \u001b[38;5;28;01mreturn\u001b[39;00m x \u001b[38;5;241m*\u001b[39m factorial(x\u001b[38;5;241m-\u001b[39m\u001b[38;5;241m1\u001b[39m)\n\u001b[0;32m----> 4\u001b[0m \u001b[38;5;28mprint\u001b[39m(\u001b[43mfactorial\u001b[49m\u001b[43m(\u001b[49m\u001b[38;5;241;43m5\u001b[39;49m\u001b[43m)\u001b[49m)\n",
      "Input \u001b[0;32mIn [33]\u001b[0m, in \u001b[0;36mfactorial\u001b[0;34m(x)\u001b[0m\n\u001b[1;32m      1\u001b[0m \u001b[38;5;28;01mdef\u001b[39;00m \u001b[38;5;21mfactorial\u001b[39m(x):\n\u001b[0;32m----> 2\u001b[0m     \u001b[38;5;28;01mreturn\u001b[39;00m x \u001b[38;5;241m*\u001b[39m \u001b[43mfactorial\u001b[49m\u001b[43m(\u001b[49m\u001b[43mx\u001b[49m\u001b[38;5;241;43m-\u001b[39;49m\u001b[38;5;241;43m1\u001b[39;49m\u001b[43m)\u001b[49m\n",
      "Input \u001b[0;32mIn [33]\u001b[0m, in \u001b[0;36mfactorial\u001b[0;34m(x)\u001b[0m\n\u001b[1;32m      1\u001b[0m \u001b[38;5;28;01mdef\u001b[39;00m \u001b[38;5;21mfactorial\u001b[39m(x):\n\u001b[0;32m----> 2\u001b[0m     \u001b[38;5;28;01mreturn\u001b[39;00m x \u001b[38;5;241m*\u001b[39m \u001b[43mfactorial\u001b[49m\u001b[43m(\u001b[49m\u001b[43mx\u001b[49m\u001b[38;5;241;43m-\u001b[39;49m\u001b[38;5;241;43m1\u001b[39;49m\u001b[43m)\u001b[49m\n",
      "    \u001b[0;31m[... skipping similar frames: factorial at line 2 (2970 times)]\u001b[0m\n",
      "Input \u001b[0;32mIn [33]\u001b[0m, in \u001b[0;36mfactorial\u001b[0;34m(x)\u001b[0m\n\u001b[1;32m      1\u001b[0m \u001b[38;5;28;01mdef\u001b[39;00m \u001b[38;5;21mfactorial\u001b[39m(x):\n\u001b[0;32m----> 2\u001b[0m     \u001b[38;5;28;01mreturn\u001b[39;00m x \u001b[38;5;241m*\u001b[39m \u001b[43mfactorial\u001b[49m\u001b[43m(\u001b[49m\u001b[43mx\u001b[49m\u001b[38;5;241;43m-\u001b[39;49m\u001b[38;5;241;43m1\u001b[39;49m\u001b[43m)\u001b[49m\n",
      "\u001b[0;31mRecursionError\u001b[0m: maximum recursion depth exceeded"
     ]
    }
   ],
   "source": [
    "def factorial(x):\n",
    "    return x * factorial(x-1)\n",
    "\n",
    "print(factorial(5))"
   ]
  },
  {
   "cell_type": "code",
   "execution_count": 34,
   "id": "943a64af",
   "metadata": {},
   "outputs": [
    {
     "name": "stdout",
     "output_type": "stream",
     "text": [
      "True\n",
      "False\n"
     ]
    }
   ],
   "source": [
    "def is_even(x):\n",
    "    if x == 0:\n",
    "        return True\n",
    "    else:\n",
    "        return is_odd(x-1)\n",
    "\n",
    "def is_odd(x):\n",
    "    return not is_even(x)\n",
    "\n",
    "\n",
    "print(is_odd(17))\n",
    "print(is_even(23))"
   ]
  },
  {
   "cell_type": "markdown",
   "id": "44b62d81",
   "metadata": {},
   "source": [
    "## set"
   ]
  },
  {
   "cell_type": "markdown",
   "id": "1f1db370",
   "metadata": {},
   "source": [
    "Sets are used to store multiple items in a single variable. Set is one of 4 built-in data types in Python used to store collections of data, the other 3 are List, Tuple, and Dictionary, all with different qualities and usage. A set is a collection which is unordered, unchangeable, and unindexed."
   ]
  },
  {
   "cell_type": "code",
   "execution_count": 35,
   "id": "5f8c93e7",
   "metadata": {},
   "outputs": [
    {
     "name": "stdout",
     "output_type": "stream",
     "text": [
      "True\n",
      "False\n"
     ]
    }
   ],
   "source": [
    "num_set = {1, 2, 3, 4, 5}\n",
    "word_set = set([\"spam\", \"eggs\", \"sausage\"])\n",
    "\n",
    "print(3 in num_set)\n",
    "print(\"spam\" not in word_set)"
   ]
  },
  {
   "cell_type": "code",
   "execution_count": 36,
   "id": "f5c9828b",
   "metadata": {},
   "outputs": [
    {
     "name": "stdout",
     "output_type": "stream",
     "text": [
      "{1, 2, 3, 4, 5, 6}\n",
      "{1, 2, 4, 5, 6, 7, -7}\n"
     ]
    }
   ],
   "source": [
    "nums = {1, 2, 1, 3, 1, 4, 5, 6}\n",
    "print(nums)\n",
    "\n",
    "nums.add(-7)\n",
    "nums.add(7)\n",
    "\n",
    "nums.remove(3)\n",
    "print(nums)"
   ]
  },
  {
   "cell_type": "code",
   "execution_count": 37,
   "id": "020731e4",
   "metadata": {},
   "outputs": [
    {
     "name": "stdout",
     "output_type": "stream",
     "text": [
      "{1, 2, 3, 4, 5, 6, 7, 8, 9}\n",
      "{4, 5, 6}\n",
      "{1, 2, 3}\n",
      "{8, 9, 7}\n",
      "{1, 2, 3, 7, 8, 9}\n"
     ]
    }
   ],
   "source": [
    "first = {1, 2, 3, 4, 5, 6}\n",
    "second = {4, 5, 6, 7, 8, 9}\n",
    "\n",
    "print(first | second)\n",
    "print(first & second)\n",
    "print(first - second)\n",
    "print(second - first)\n",
    "print(first ^ second)"
   ]
  },
  {
   "cell_type": "markdown",
   "id": "55857e93",
   "metadata": {},
   "source": [
    "## itertools"
   ]
  },
  {
   "cell_type": "markdown",
   "id": "200f0111",
   "metadata": {},
   "source": [
    "Itertools is a module in Python, it is used to iterate over data structures that can be stepped over using a for-loop. Such data structures are also known as iterables."
   ]
  },
  {
   "cell_type": "code",
   "execution_count": 38,
   "id": "8b211e87",
   "metadata": {},
   "outputs": [
    {
     "name": "stdout",
     "output_type": "stream",
     "text": [
      "5\n",
      "6\n",
      "7\n",
      "8\n",
      "9\n",
      "10\n",
      "11\n"
     ]
    }
   ],
   "source": [
    "from itertools import count\n",
    "\n",
    "for i in count(5):\n",
    "    print(i)\n",
    "    if i >= 11:\n",
    "        break"
   ]
  },
  {
   "cell_type": "code",
   "execution_count": 39,
   "id": "fc6d1e8f",
   "metadata": {},
   "outputs": [
    {
     "name": "stdout",
     "output_type": "stream",
     "text": [
      "[1, 3, 6, 10, 15, 21]\n"
     ]
    }
   ],
   "source": [
    "from itertools import accumulate\n",
    "\n",
    "my_numbers = [1, 2, 3, 4, 5, 6]\n",
    "accumulated_numbers = accumulate(my_numbers)\n",
    "list_of_accu_nums = list(accumulated_numbers)\n",
    "print(list_of_accu_nums)"
   ]
  },
  {
   "cell_type": "code",
   "execution_count": 40,
   "id": "378c7944",
   "metadata": {},
   "outputs": [
    {
     "name": "stdout",
     "output_type": "stream",
     "text": [
      "[1, 2, 3, 4, 5, 6]\n"
     ]
    }
   ],
   "source": [
    "from itertools import takewhile\n",
    "\n",
    "my_numbers = [1, 2, 3, 4, 5, 6, 7, 8, 9, 10]\n",
    "nums_less_equal_six = takewhile(lambda x: x <= 6, my_numbers)\n",
    "filtered_numbers = list(nums_less_equal_six)\n",
    "print(filtered_numbers)"
   ]
  },
  {
   "cell_type": "code",
   "execution_count": 41,
   "id": "b480a276",
   "metadata": {
    "scrolled": false
   },
   "outputs": [
    {
     "name": "stdout",
     "output_type": "stream",
     "text": [
      "[('A', 0), ('A', 1), ('B', 0), ('B', 1)]\n",
      "[('A', 'B'), ('B', 'A')]\n"
     ]
    }
   ],
   "source": [
    "from itertools import product, permutations\n",
    "\n",
    "letters = (\"A\", \"B\")\n",
    "print(list(product(letters, range(2))))\n",
    "print(list(permutations(letters)))"
   ]
  },
  {
   "cell_type": "markdown",
   "id": "66f1fc7f",
   "metadata": {},
   "source": [
    "# Pythonickness"
   ]
  },
  {
   "cell_type": "code",
   "execution_count": 42,
   "id": "3655b272",
   "metadata": {
    "scrolled": true
   },
   "outputs": [
    {
     "name": "stdout",
     "output_type": "stream",
     "text": [
      "The Zen of Python, by Tim Peters\n",
      "\n",
      "Beautiful is better than ugly.\n",
      "Explicit is better than implicit.\n",
      "Simple is better than complex.\n",
      "Complex is better than complicated.\n",
      "Flat is better than nested.\n",
      "Sparse is better than dense.\n",
      "Readability counts.\n",
      "Special cases aren't special enough to break the rules.\n",
      "Although practicality beats purity.\n",
      "Errors should never pass silently.\n",
      "Unless explicitly silenced.\n",
      "In the face of ambiguity, refuse the temptation to guess.\n",
      "There should be one-- and preferably only one --obvious way to do it.\n",
      "Although that way may not be obvious at first unless you're Dutch.\n",
      "Now is better than never.\n",
      "Although never is often better than *right* now.\n",
      "If the implementation is hard to explain, it's a bad idea.\n",
      "If the implementation is easy to explain, it may be a good idea.\n",
      "Namespaces are one honking great idea -- let's do more of those!\n"
     ]
    }
   ],
   "source": [
    "import this"
   ]
  },
  {
   "cell_type": "code",
   "execution_count": null,
   "id": "dfb57124",
   "metadata": {},
   "outputs": [],
   "source": []
  }
 ],
 "metadata": {
  "kernelspec": {
   "display_name": "tenv",
   "language": "python",
   "name": "tenv"
  },
  "language_info": {
   "codemirror_mode": {
    "name": "ipython",
    "version": 3
   },
   "file_extension": ".py",
   "mimetype": "text/x-python",
   "name": "python",
   "nbconvert_exporter": "python",
   "pygments_lexer": "ipython3",
   "version": "3.9.12"
  }
 },
 "nbformat": 4,
 "nbformat_minor": 5
}
