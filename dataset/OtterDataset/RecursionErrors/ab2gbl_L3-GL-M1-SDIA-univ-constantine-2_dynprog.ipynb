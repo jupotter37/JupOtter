{
 "cells": [
  {
   "cell_type": "markdown",
   "id": "63679163",
   "metadata": {},
   "source": [
    "Dynamic programming\n",
    "="
   ]
  },
  {
   "cell_type": "markdown",
   "id": "6c17c5ac",
   "metadata": {},
   "source": [
    "**Fibonacci suite** <br>\n",
    "f(1)=f(0)=1 <br>\n",
    "f(n)=f(n-1)+f(n-2)"
   ]
  },
  {
   "cell_type": "markdown",
   "id": "7aad963c",
   "metadata": {},
   "source": [
    "# pure recursive version"
   ]
  },
  {
   "cell_type": "code",
   "execution_count": 413,
   "id": "da9a720c",
   "metadata": {},
   "outputs": [],
   "source": [
    "def fib(n):\n",
    "    if n==1 or n==0:\n",
    "        return 1\n",
    "    else:\n",
    "        return fib(n-1)+fib(n-2)"
   ]
  },
  {
   "cell_type": "code",
   "execution_count": 416,
   "id": "8bb22e73",
   "metadata": {},
   "outputs": [
    {
     "name": "stdout",
     "output_type": "stream",
     "text": [
      "start_time= 1053940.579934\n"
     ]
    },
    {
     "ename": "KeyboardInterrupt",
     "evalue": "",
     "output_type": "error",
     "traceback": [
      "\u001b[1;31m---------------------------------------------------------------------------\u001b[0m",
      "\u001b[1;31mKeyboardInterrupt\u001b[0m                         Traceback (most recent call last)",
      "Cell \u001b[1;32mIn[416], line 5\u001b[0m\n\u001b[0;32m      3\u001b[0m st\u001b[38;5;241m=\u001b[39mtime\u001b[38;5;241m.\u001b[39mperf_counter()\n\u001b[0;32m      4\u001b[0m \u001b[38;5;28mprint\u001b[39m(\u001b[38;5;124m\"\u001b[39m\u001b[38;5;124mstart_time=\u001b[39m\u001b[38;5;124m\"\u001b[39m,st)\n\u001b[1;32m----> 5\u001b[0m \u001b[38;5;28mprint\u001b[39m(fib(\u001b[38;5;241m50\u001b[39m))\n\u001b[0;32m      6\u001b[0m runtime\u001b[38;5;241m=\u001b[39mtime\u001b[38;5;241m.\u001b[39mperf_counter()\u001b[38;5;241m-\u001b[39mst\n\u001b[0;32m      7\u001b[0m \u001b[38;5;28mprint\u001b[39m(\u001b[38;5;124m\"\u001b[39m\u001b[38;5;124mendtime_time=\u001b[39m\u001b[38;5;124m\"\u001b[39m,time\u001b[38;5;241m.\u001b[39mtime())\n",
      "Cell \u001b[1;32mIn[413], line 5\u001b[0m, in \u001b[0;36mfib\u001b[1;34m(n)\u001b[0m\n\u001b[0;32m      3\u001b[0m     \u001b[38;5;28;01mreturn\u001b[39;00m \u001b[38;5;241m1\u001b[39m\n\u001b[0;32m      4\u001b[0m \u001b[38;5;28;01melse\u001b[39;00m:\n\u001b[1;32m----> 5\u001b[0m     \u001b[38;5;28;01mreturn\u001b[39;00m fib(n\u001b[38;5;241m-\u001b[39m\u001b[38;5;241m1\u001b[39m)\u001b[38;5;241m+\u001b[39mfib(n\u001b[38;5;241m-\u001b[39m\u001b[38;5;241m2\u001b[39m)\n",
      "Cell \u001b[1;32mIn[413], line 5\u001b[0m, in \u001b[0;36mfib\u001b[1;34m(n)\u001b[0m\n\u001b[0;32m      3\u001b[0m     \u001b[38;5;28;01mreturn\u001b[39;00m \u001b[38;5;241m1\u001b[39m\n\u001b[0;32m      4\u001b[0m \u001b[38;5;28;01melse\u001b[39;00m:\n\u001b[1;32m----> 5\u001b[0m     \u001b[38;5;28;01mreturn\u001b[39;00m fib(n\u001b[38;5;241m-\u001b[39m\u001b[38;5;241m1\u001b[39m)\u001b[38;5;241m+\u001b[39mfib(n\u001b[38;5;241m-\u001b[39m\u001b[38;5;241m2\u001b[39m)\n",
      "    \u001b[1;31m[... skipping similar frames: fib at line 5 (33 times)]\u001b[0m\n",
      "Cell \u001b[1;32mIn[413], line 5\u001b[0m, in \u001b[0;36mfib\u001b[1;34m(n)\u001b[0m\n\u001b[0;32m      3\u001b[0m     \u001b[38;5;28;01mreturn\u001b[39;00m \u001b[38;5;241m1\u001b[39m\n\u001b[0;32m      4\u001b[0m \u001b[38;5;28;01melse\u001b[39;00m:\n\u001b[1;32m----> 5\u001b[0m     \u001b[38;5;28;01mreturn\u001b[39;00m fib(n\u001b[38;5;241m-\u001b[39m\u001b[38;5;241m1\u001b[39m)\u001b[38;5;241m+\u001b[39mfib(n\u001b[38;5;241m-\u001b[39m\u001b[38;5;241m2\u001b[39m)\n",
      "Cell \u001b[1;32mIn[413], line 1\u001b[0m, in \u001b[0;36mfib\u001b[1;34m(n)\u001b[0m\n\u001b[1;32m----> 1\u001b[0m \u001b[38;5;28;01mdef\u001b[39;00m \u001b[38;5;21mfib\u001b[39m(n):\n\u001b[0;32m      2\u001b[0m     \u001b[38;5;28;01mif\u001b[39;00m n\u001b[38;5;241m==\u001b[39m\u001b[38;5;241m1\u001b[39m \u001b[38;5;129;01mor\u001b[39;00m n\u001b[38;5;241m==\u001b[39m\u001b[38;5;241m0\u001b[39m:\n\u001b[0;32m      3\u001b[0m         \u001b[38;5;28;01mreturn\u001b[39;00m \u001b[38;5;241m1\u001b[39m\n",
      "\u001b[1;31mKeyboardInterrupt\u001b[0m: "
     ]
    }
   ],
   "source": [
    "import time\n",
    "\n",
    "st=time.perf_counter()\n",
    "print(\"start_time=\",st)\n",
    "print(fib(50))\n",
    "runtime=time.perf_counter()-st\n",
    "print(\"endtime_time=\",time.time())\n",
    "print(\"runtime=\",runtime)\n",
    "\n",
    "#print(\"runtime=\",\"{:,.8f}\".format(runtime))"
   ]
  },
  {
   "cell_type": "markdown",
   "id": "e34083c5",
   "metadata": {},
   "source": [
    "# Memoization technique (top-down)"
   ]
  },
  {
   "cell_type": "code",
   "execution_count": 418,
   "id": "cf82a54f",
   "metadata": {},
   "outputs": [],
   "source": [
    "memo=[1,1]\n",
    "def Mfib(n,memo):\n",
    "    if n==1 or n==0:\n",
    "        result=memo[0]\n",
    "    else:\n",
    "        if len(memo)>=n+1:\n",
    "            result= memo[n]\n",
    "        else: \n",
    "            result = Mfib(n-1,memo)+Mfib(n-2,memo)\n",
    "            memo.append(result)\n",
    "    \n",
    "\n",
    "    return result"
   ]
  },
  {
   "cell_type": "code",
   "execution_count": 422,
   "id": "68e8f92b",
   "metadata": {},
   "outputs": [
    {
     "name": "stdout",
     "output_type": "stream",
     "text": [
      "start_time= 1055096.9140112\n"
     ]
    },
    {
     "ename": "RecursionError",
     "evalue": "maximum recursion depth exceeded",
     "output_type": "error",
     "traceback": [
      "\u001b[1;31m---------------------------------------------------------------------------\u001b[0m",
      "\u001b[1;31mRecursionError\u001b[0m                            Traceback (most recent call last)",
      "Cell \u001b[1;32mIn[422], line 5\u001b[0m\n\u001b[0;32m      3\u001b[0m st\u001b[38;5;241m=\u001b[39mtime\u001b[38;5;241m.\u001b[39mperf_counter()\n\u001b[0;32m      4\u001b[0m \u001b[38;5;28mprint\u001b[39m(\u001b[38;5;124m\"\u001b[39m\u001b[38;5;124mstart_time=\u001b[39m\u001b[38;5;124m\"\u001b[39m,st)\n\u001b[1;32m----> 5\u001b[0m \u001b[38;5;28mprint\u001b[39m(Mfib(\u001b[38;5;241m10000\u001b[39m,memo))  \u001b[38;5;66;03m# error for 10000 max recursion \u001b[39;00m\n\u001b[0;32m      6\u001b[0m runtime\u001b[38;5;241m=\u001b[39mtime\u001b[38;5;241m.\u001b[39mperf_counter()\u001b[38;5;241m-\u001b[39mst\n\u001b[0;32m      7\u001b[0m \u001b[38;5;28mprint\u001b[39m(\u001b[38;5;124m\"\u001b[39m\u001b[38;5;124mendtime_time=\u001b[39m\u001b[38;5;124m\"\u001b[39m,time\u001b[38;5;241m.\u001b[39mtime())\n",
      "Cell \u001b[1;32mIn[418], line 9\u001b[0m, in \u001b[0;36mMfib\u001b[1;34m(n, memo)\u001b[0m\n\u001b[0;32m      7\u001b[0m         result\u001b[38;5;241m=\u001b[39m memo[n]\n\u001b[0;32m      8\u001b[0m     \u001b[38;5;28;01melse\u001b[39;00m: \n\u001b[1;32m----> 9\u001b[0m         result \u001b[38;5;241m=\u001b[39m Mfib(n\u001b[38;5;241m-\u001b[39m\u001b[38;5;241m1\u001b[39m,memo)\u001b[38;5;241m+\u001b[39mMfib(n\u001b[38;5;241m-\u001b[39m\u001b[38;5;241m2\u001b[39m,memo)\n\u001b[0;32m     10\u001b[0m         memo\u001b[38;5;241m.\u001b[39mappend(result)\n\u001b[0;32m     13\u001b[0m \u001b[38;5;28;01mreturn\u001b[39;00m result\n",
      "Cell \u001b[1;32mIn[418], line 9\u001b[0m, in \u001b[0;36mMfib\u001b[1;34m(n, memo)\u001b[0m\n\u001b[0;32m      7\u001b[0m         result\u001b[38;5;241m=\u001b[39m memo[n]\n\u001b[0;32m      8\u001b[0m     \u001b[38;5;28;01melse\u001b[39;00m: \n\u001b[1;32m----> 9\u001b[0m         result \u001b[38;5;241m=\u001b[39m Mfib(n\u001b[38;5;241m-\u001b[39m\u001b[38;5;241m1\u001b[39m,memo)\u001b[38;5;241m+\u001b[39mMfib(n\u001b[38;5;241m-\u001b[39m\u001b[38;5;241m2\u001b[39m,memo)\n\u001b[0;32m     10\u001b[0m         memo\u001b[38;5;241m.\u001b[39mappend(result)\n\u001b[0;32m     13\u001b[0m \u001b[38;5;28;01mreturn\u001b[39;00m result\n",
      "    \u001b[1;31m[... skipping similar frames: Mfib at line 9 (2971 times)]\u001b[0m\n",
      "Cell \u001b[1;32mIn[418], line 9\u001b[0m, in \u001b[0;36mMfib\u001b[1;34m(n, memo)\u001b[0m\n\u001b[0;32m      7\u001b[0m         result\u001b[38;5;241m=\u001b[39m memo[n]\n\u001b[0;32m      8\u001b[0m     \u001b[38;5;28;01melse\u001b[39;00m: \n\u001b[1;32m----> 9\u001b[0m         result \u001b[38;5;241m=\u001b[39m Mfib(n\u001b[38;5;241m-\u001b[39m\u001b[38;5;241m1\u001b[39m,memo)\u001b[38;5;241m+\u001b[39mMfib(n\u001b[38;5;241m-\u001b[39m\u001b[38;5;241m2\u001b[39m,memo)\n\u001b[0;32m     10\u001b[0m         memo\u001b[38;5;241m.\u001b[39mappend(result)\n\u001b[0;32m     13\u001b[0m \u001b[38;5;28;01mreturn\u001b[39;00m result\n",
      "\u001b[1;31mRecursionError\u001b[0m: maximum recursion depth exceeded"
     ]
    }
   ],
   "source": [
    "import time\n",
    "\n",
    "st=time.perf_counter()\n",
    "print(\"start_time=\",st)\n",
    "print(Mfib(10000,memo))  # error for 10000 max recursion \n",
    "runtime=time.perf_counter()-st\n",
    "print(\"endtime_time=\",time.time())\n",
    "print(\"runtime=\",runtime)\n",
    "\n",
    "#print(\"runtime=\",\"{:,.8f}\".format(runtime))"
   ]
  },
  {
   "cell_type": "markdown",
   "id": "ef7eb635",
   "metadata": {},
   "source": [
    "# Tabulation  method (buttom-up)"
   ]
  },
  {
   "cell_type": "code",
   "execution_count": 168,
   "id": "58f73840",
   "metadata": {},
   "outputs": [],
   "source": [
    "\n",
    "def Tfib(n):\n",
    "    result=[1]*(n+1)\n",
    "    for i in range(2,n+1):\n",
    "        result[i]=result[i-1]+result[i-2]\n",
    "    return result[n]"
   ]
  },
  {
   "cell_type": "code",
   "execution_count": 426,
   "id": "955c74dd",
   "metadata": {},
   "outputs": [
    {
     "name": "stdout",
     "output_type": "stream",
     "text": [
      "start_time= 1055310.3794361\n",
      "54438373113565281338734260993750380135389184554695967026247715841208582865622349017083051547938960541173822675978026317384359584751116241439174702642959169925586334117906063048089793531476108466259072759367899150677960088306597966641965824937721800381441158841042480997984696487375337180028163763317781927941101369262750979509800713596718023814710669912644214775254478587674568963808002962265133111359929762726679441400101575800043510777465935805362502461707918059226414679005690752321895868142367849593880756423483754386342639635970733756260098962462668746112041739819404875062443709868654315626847186195620146126642232711815040367018825205314845875817193533529827837800351902529239517836689467661917953884712441028463935449484614450778762529520961887597272889220768537396475869543159172434537193611263743926337313005896167248051737986306368115003088396749587102619524631352447499505204198305187168321623283859794627245919771454628218399695789223798912199431775469705216131081096559950638297261253848242007897109054754028438149611930465061866170122983288964352733750792786069444761853525144421077928045979904561298129423809156055033032338919609162236698759922782923191896688017718575555520994653320128446502371153715141749290913104897203455577507196645425232862022019506091483585223882711016708433051169942115775151255510251655931888164048344129557038825477521111577395780115868397072602565614824956460538700280331311861485399805397031555727529693399586079850381581446276433858828529535803424850845426446471681531001533180479567436396815653326152509571127480411928196022148849148284389124178520174507305538928717857923509417743383331506898239354421988805429332440371194867215543576548565499134519271098919802665184564927827827212957649240235507595558205647569365394873317659000206373126570643509709482649710038733517477713403319028105575667931789470024118803094604034362953471997461392274791549730356412633074230824051999996101549784667340458326852960388301120765629245998136251652347093963049734046445106365304163630823669242257761468288461791843224793434406079917883360676846711185597501\n",
      "endtime_time= 1700398504.1941283\n",
      "runtime= 0.016021100105717778\n"
     ]
    }
   ],
   "source": [
    "\n",
    "import time\n",
    "\n",
    "st=time.perf_counter()\n",
    "print(\"start_time=\",st)\n",
    "print(Tfib(10000))\n",
    "runtime=time.perf_counter()-st\n",
    "print(\"endtime_time=\",time.time())\n",
    "print(\"runtime=\",runtime)\n",
    "\n",
    "#print(\"runtime=\",\"{:,.8f}\".format(runtime))"
   ]
  },
  {
   "cell_type": "markdown",
   "id": "991429cd",
   "metadata": {},
   "source": [
    "# coin change problem"
   ]
  },
  {
   "cell_type": "markdown",
   "id": "91253ea4",
   "metadata": {},
   "source": [
    "# recursive version"
   ]
  },
  {
   "cell_type": "code",
   "execution_count": 428,
   "id": "13536e7f",
   "metadata": {},
   "outputs": [
    {
     "name": "stdout",
     "output_type": "stream",
     "text": [
      "Minimum number of coins needed to make change for 30: 2\n"
     ]
    }
   ],
   "source": [
    "def min_coins(coins, total):\n",
    "    \n",
    "    tc=[0]*len(coins)\n",
    "    if total <0:\n",
    "        return 10000\n",
    "    else:\n",
    "        if total==0:\n",
    "            return 0\n",
    "        else:\n",
    "            i=0\n",
    "            for coin in coins:\n",
    "                tc[i]=total-coin\n",
    "                i+=1\n",
    "            #print(tc)\n",
    "            return min([(1+min_coins(coins,tc[coin]))  for coin in range(len(coins))])\n",
    "\n",
    "            #return min([(1+min_coins(coins, total-coins[coin] if  total-coins[coin]>=0 else 10000 )) for coin in range(len(coins))])\n",
    "    \n",
    "\n",
    "# Example usage:\n",
    "coins = [1, 5, 10, 25]  # Available coin denominations\n",
    "amount = 30  # Amount to make change for\n",
    "\n",
    "min_coins_needed = min_coins(coins, amount)\n",
    "if min_coins_needed <=10000:\n",
    "    print(f\"Minimum number of coins needed to make change for {amount}: {min_coins_needed}\")\n",
    "else:\n",
    "    print(f\"No solution exists for {amount} using given coins.\")\n"
   ]
  },
  {
   "cell_type": "code",
   "execution_count": 433,
   "id": "92a1985c",
   "metadata": {},
   "outputs": [
    {
     "name": "stdout",
     "output_type": "stream",
     "text": [
      "Minimum number of coins needed to make change for 13: 4\n"
     ]
    }
   ],
   "source": [
    "def min_coins(coins, total):\n",
    "    \n",
    "    tc=[0]*len(coins)\n",
    "\n",
    "    if total==0:\n",
    "        return 0\n",
    "    else:\n",
    "        return min([(1+min_coins(coins, total-coins[coin]) if  total-coins[coin]>=0 else 10000 ) for coin in range(len(coins))])\n",
    "\n",
    "\n",
    "# Example usage:\n",
    "coins = [1, 5, 10, 25]  # Available coin denominations\n",
    "amount = 13  # Amount to make change for\n",
    "\n",
    "min_coins_needed = min_coins(coins, amount)\n",
    "if min_coins_needed <=10000:\n",
    "    print(f\"Minimum number of coins needed to make change for {amount}: {min_coins_needed}\")\n",
    "else:\n",
    "    print(f\"No solution exists for {amount} using given coins.\")\n"
   ]
  },
  {
   "cell_type": "markdown",
   "id": "3036cb64",
   "metadata": {},
   "source": [
    "## coin change problem by tabular version"
   ]
  },
  {
   "cell_type": "code",
   "execution_count": 334,
   "id": "62157294",
   "metadata": {},
   "outputs": [
    {
     "name": "stdout",
     "output_type": "stream",
     "text": [
      "Minimum number of coins needed to make change for 33: 5\n"
     ]
    }
   ],
   "source": [
    "def min_coins(coins, total):\n",
    "    # Initialize a table to store minimum coins needed for each amount\n",
    "    dp = [total + 1] * (total + 1)\n",
    "    dp[0] = 0  # 0 coins needed to make change for 0\n",
    "\n",
    "    for i in range(1, total + 1):\n",
    "        for coin in coins:\n",
    "            if coin <= i:\n",
    "                # Update the minimum number of coins needed\n",
    "                dp[i] = min(dp[i], dp[i - coin] + 1)\n",
    "\n",
    "    return dp[total] if dp[total] != float('inf') else -1  # If no solution exists, return -1\n",
    "\n",
    "\n",
    "# Example usage:\n",
    "coins = [1, 5, 10, 25]  # Available coin denominations\n",
    "amount = 33  # Amount to make change for\n",
    "\n",
    "min_coins_needed = min_coins(coins, amount)\n",
    "if min_coins_needed != -1:\n",
    "    print(f\"Minimum number of coins needed to make change for {amount}: {min_coins_needed}\")\n",
    "else:\n",
    "    print(f\"No solution exists for {amount} using given coins.\")\n"
   ]
  },
  {
   "cell_type": "markdown",
   "id": "14857763",
   "metadata": {},
   "source": [
    "# memoization version"
   ]
  },
  {
   "cell_type": "code",
   "execution_count": 431,
   "id": "67edd5a3",
   "metadata": {},
   "outputs": [
    {
     "name": "stdout",
     "output_type": "stream",
     "text": [
      "Minimum number of coins needed to make change for 40: 3\n"
     ]
    }
   ],
   "source": [
    "memo=[0]\n",
    "def min_coins(coins, total,memo):\n",
    "    #print(memo)\n",
    "    tc=[0]*len(coins)\n",
    "    if total <0:\n",
    "        return 10000\n",
    "    else:\n",
    "        if total==0:\n",
    "            return 0\n",
    "        else:\n",
    "            \n",
    "            if len(memo) >=total+1:\n",
    "                return memo[total]\n",
    "            else: \n",
    "                i=0\n",
    "                for coin in coins:\n",
    "                    tc[i]=total-coin\n",
    "                    i+=1\n",
    "                result=min([(1+min_coins(coins,tc[coin],memo))  for coin in range(len(coins))])\n",
    "                memo.append(result)\n",
    "                return result\n",
    "   \n",
    "    \n",
    "#         return min([(1+min_coins(coins, total-coins[coin] if  total-coins[coin]>=0 else 10000 )) for coin in range(len(coins))]])\n",
    "    \n",
    "\n",
    "# Example usage:\n",
    "coins = [1, 5, 10, 25]  # Available coin denominations\n",
    "amount = 40  # Amount to make change for\n",
    "\n",
    "min_coins_needed = min_coins(coins, amount,memo)\n",
    "if min_coins_needed <= 10000:\n",
    "    print(f\"Minimum number of coins needed to make change for {amount}: {min_coins_needed}\")\n",
    "else:\n",
    "    print(f\"No solution exists for {amount} using given coins.\")\n"
   ]
  },
  {
   "cell_type": "markdown",
   "id": "981aa3f6",
   "metadata": {},
   "source": [
    "# another recursive version"
   ]
  },
  {
   "cell_type": "code",
   "execution_count": 427,
   "id": "63d212b7",
   "metadata": {},
   "outputs": [
    {
     "ename": "KeyboardInterrupt",
     "evalue": "",
     "output_type": "error",
     "traceback": [
      "\u001b[1;31m---------------------------------------------------------------------------\u001b[0m",
      "\u001b[1;31mKeyboardInterrupt\u001b[0m                         Traceback (most recent call last)",
      "Cell \u001b[1;32mIn[427], line 18\u001b[0m\n\u001b[0;32m     15\u001b[0m coins \u001b[38;5;241m=\u001b[39m [\u001b[38;5;241m1\u001b[39m, \u001b[38;5;241m5\u001b[39m, \u001b[38;5;241m10\u001b[39m, \u001b[38;5;241m25\u001b[39m]  \u001b[38;5;66;03m# Available coin denominations\u001b[39;00m\n\u001b[0;32m     16\u001b[0m amount \u001b[38;5;241m=\u001b[39m \u001b[38;5;241m50\u001b[39m  \u001b[38;5;66;03m# Amount to make change for\u001b[39;00m\n\u001b[1;32m---> 18\u001b[0m min_coins_needed \u001b[38;5;241m=\u001b[39m min_coins(coins, amount)\n\u001b[0;32m     19\u001b[0m \u001b[38;5;28;01mif\u001b[39;00m min_coins_needed \u001b[38;5;241m!=\u001b[39m \u001b[38;5;28mfloat\u001b[39m(\u001b[38;5;124m'\u001b[39m\u001b[38;5;124minf\u001b[39m\u001b[38;5;124m'\u001b[39m):\n\u001b[0;32m     20\u001b[0m     \u001b[38;5;28mprint\u001b[39m(\u001b[38;5;124mf\u001b[39m\u001b[38;5;124m\"\u001b[39m\u001b[38;5;124mMinimum number of coins needed to make change for \u001b[39m\u001b[38;5;132;01m{\u001b[39;00mamount\u001b[38;5;132;01m}\u001b[39;00m\u001b[38;5;124m: \u001b[39m\u001b[38;5;132;01m{\u001b[39;00mmin_coins_needed\u001b[38;5;132;01m}\u001b[39;00m\u001b[38;5;124m\"\u001b[39m)\n",
      "Cell \u001b[1;32mIn[427], line 11\u001b[0m, in \u001b[0;36mmin_coins\u001b[1;34m(coins, total)\u001b[0m\n\u001b[0;32m      8\u001b[0m \u001b[38;5;28;01mfor\u001b[39;00m coin \u001b[38;5;129;01min\u001b[39;00m coins:\n\u001b[0;32m      9\u001b[0m     \u001b[38;5;28;01mif\u001b[39;00m total \u001b[38;5;241m-\u001b[39m coin \u001b[38;5;241m>\u001b[39m\u001b[38;5;241m=\u001b[39m \u001b[38;5;241m0\u001b[39m:\n\u001b[0;32m     10\u001b[0m         \u001b[38;5;66;03m# Recursive call to find the minimum coins needed\u001b[39;00m\n\u001b[1;32m---> 11\u001b[0m         min_coins_needed \u001b[38;5;241m=\u001b[39m \u001b[38;5;28mmin\u001b[39m(min_coins_needed, \u001b[38;5;241m1\u001b[39m \u001b[38;5;241m+\u001b[39m min_coins(coins, total \u001b[38;5;241m-\u001b[39m coin))\n\u001b[0;32m     12\u001b[0m \u001b[38;5;28;01mreturn\u001b[39;00m min_coins_needed\n",
      "Cell \u001b[1;32mIn[427], line 11\u001b[0m, in \u001b[0;36mmin_coins\u001b[1;34m(coins, total)\u001b[0m\n\u001b[0;32m      8\u001b[0m \u001b[38;5;28;01mfor\u001b[39;00m coin \u001b[38;5;129;01min\u001b[39;00m coins:\n\u001b[0;32m      9\u001b[0m     \u001b[38;5;28;01mif\u001b[39;00m total \u001b[38;5;241m-\u001b[39m coin \u001b[38;5;241m>\u001b[39m\u001b[38;5;241m=\u001b[39m \u001b[38;5;241m0\u001b[39m:\n\u001b[0;32m     10\u001b[0m         \u001b[38;5;66;03m# Recursive call to find the minimum coins needed\u001b[39;00m\n\u001b[1;32m---> 11\u001b[0m         min_coins_needed \u001b[38;5;241m=\u001b[39m \u001b[38;5;28mmin\u001b[39m(min_coins_needed, \u001b[38;5;241m1\u001b[39m \u001b[38;5;241m+\u001b[39m min_coins(coins, total \u001b[38;5;241m-\u001b[39m coin))\n\u001b[0;32m     12\u001b[0m \u001b[38;5;28;01mreturn\u001b[39;00m min_coins_needed\n",
      "    \u001b[1;31m[... skipping similar frames: min_coins at line 11 (20 times)]\u001b[0m\n",
      "Cell \u001b[1;32mIn[427], line 11\u001b[0m, in \u001b[0;36mmin_coins\u001b[1;34m(coins, total)\u001b[0m\n\u001b[0;32m      8\u001b[0m \u001b[38;5;28;01mfor\u001b[39;00m coin \u001b[38;5;129;01min\u001b[39;00m coins:\n\u001b[0;32m      9\u001b[0m     \u001b[38;5;28;01mif\u001b[39;00m total \u001b[38;5;241m-\u001b[39m coin \u001b[38;5;241m>\u001b[39m\u001b[38;5;241m=\u001b[39m \u001b[38;5;241m0\u001b[39m:\n\u001b[0;32m     10\u001b[0m         \u001b[38;5;66;03m# Recursive call to find the minimum coins needed\u001b[39;00m\n\u001b[1;32m---> 11\u001b[0m         min_coins_needed \u001b[38;5;241m=\u001b[39m \u001b[38;5;28mmin\u001b[39m(min_coins_needed, \u001b[38;5;241m1\u001b[39m \u001b[38;5;241m+\u001b[39m min_coins(coins, total \u001b[38;5;241m-\u001b[39m coin))\n\u001b[0;32m     12\u001b[0m \u001b[38;5;28;01mreturn\u001b[39;00m min_coins_needed\n",
      "Cell \u001b[1;32mIn[427], line 7\u001b[0m, in \u001b[0;36mmin_coins\u001b[1;34m(coins, total)\u001b[0m\n\u001b[0;32m      5\u001b[0m     \u001b[38;5;28;01mreturn\u001b[39;00m \u001b[38;5;241m0\u001b[39m  \u001b[38;5;66;03m# Base case: No coins needed for total amount of 0\u001b[39;00m\n\u001b[0;32m      6\u001b[0m \u001b[38;5;28;01melse\u001b[39;00m:\n\u001b[1;32m----> 7\u001b[0m     min_coins_needed \u001b[38;5;241m=\u001b[39m \u001b[38;5;28mfloat\u001b[39m(\u001b[38;5;124m'\u001b[39m\u001b[38;5;124minf\u001b[39m\u001b[38;5;124m'\u001b[39m)  \u001b[38;5;66;03m# Initialize with infinity\u001b[39;00m\n\u001b[0;32m      8\u001b[0m     \u001b[38;5;28;01mfor\u001b[39;00m coin \u001b[38;5;129;01min\u001b[39;00m coins:\n\u001b[0;32m      9\u001b[0m         \u001b[38;5;28;01mif\u001b[39;00m total \u001b[38;5;241m-\u001b[39m coin \u001b[38;5;241m>\u001b[39m\u001b[38;5;241m=\u001b[39m \u001b[38;5;241m0\u001b[39m:\n\u001b[0;32m     10\u001b[0m             \u001b[38;5;66;03m# Recursive call to find the minimum coins needed\u001b[39;00m\n",
      "\u001b[1;31mKeyboardInterrupt\u001b[0m: "
     ]
    }
   ],
   "source": [
    "def min_coins(coins, total):\n",
    "    if total < 0:\n",
    "        return float('inf')  # Return infinity if the total becomes negative\n",
    "    elif total == 0:\n",
    "        return 0  # Base case: No coins needed for total amount of 0\n",
    "    else:\n",
    "        min_coins_needed = float('inf')  # Initialize with infinity\n",
    "        for coin in coins:\n",
    "            if total - coin >= 0:\n",
    "                # Recursive call to find the minimum coins needed\n",
    "                min_coins_needed = min(min_coins_needed, 1 + min_coins(coins, total - coin))\n",
    "        return min_coins_needed\n",
    "\n",
    "# Example usage:\n",
    "coins = [1, 5, 10, 25]  # Available coin denominations\n",
    "amount = 50  # Amount to make change for\n",
    "\n",
    "min_coins_needed = min_coins(coins, amount)\n",
    "if min_coins_needed != float('inf'):\n",
    "    print(f\"Minimum number of coins needed to make change for {amount}: {min_coins_needed}\")\n",
    "else:\n",
    "    print(f\"No solution exists for {amount} using given coins.\")"
   ]
  },
  {
   "cell_type": "code",
   "execution_count": 432,
   "id": "5f2ebcda",
   "metadata": {},
   "outputs": [
    {
     "name": "stdout",
     "output_type": "stream",
     "text": [
      "Minimum number of coins needed to make change for 13: 4\n"
     ]
    }
   ],
   "source": [
    "def min_coins(coins, total):\n",
    "    \n",
    "    tc=[0]*len(coins)\n",
    "\n",
    "    if total==0:\n",
    "        return 0\n",
    "    else:\n",
    "        return min([(1+min_coins(coins, total-coins[coin]) if  total-coins[coin]>=0 else 10000 ) for coin in range(len(coins))])\n",
    "\n",
    "\n",
    "# Example usage:\n",
    "coins = [1, 5, 10, 25]  # Available coin denominations\n",
    "amount = 13  # Amount to make change for\n",
    "\n",
    "min_coins_needed = min_coins(coins, amount)\n",
    "if min_coins_needed <=10000:\n",
    "    print(f\"Minimum number of coins needed to make change for {amount}: {min_coins_needed}\")\n",
    "else:\n",
    "    print(f\"No solution exists for {amount} using given coins.\")\n"
   ]
  },
  {
   "cell_type": "code",
   "execution_count": 434,
   "id": "0b7b4139",
   "metadata": {},
   "outputs": [
    {
     "name": "stdout",
     "output_type": "stream",
     "text": [
      "Minimum number of coins needed to make change for 13: 4\n"
     ]
    }
   ],
   "source": [
    "def coin_change(coins, amount):\n",
    "    if amount == 0:\n",
    "        return 0  # Base case: No coins needed for amount 0\n",
    "    min_coins = float('inf')  # Initialize with infinity\n",
    "    \n",
    "    # Iterate through each coin denomination\n",
    "    for coin in coins:\n",
    "        if amount - coin >= 0:\n",
    "            # Recursive call to find the minimum coins needed\n",
    "            current_min = coin_change(coins, amount - coin)\n",
    "            if current_min != float('inf'):\n",
    "                min_coins = min(min_coins, current_min + 1)\n",
    "    \n",
    "    return min_coins\n",
    "\n",
    "# Example usage:\n",
    "coins = [1, 5, 10, 25]  # Available coin denominations\n",
    "amount = 13  # Amount to make change for\n",
    "\n",
    "min_coins_needed = coin_change(coins, amount)\n",
    "if min_coins_needed != float('inf'):\n",
    "    print(f\"Minimum number of coins needed to make change for {amount}: {min_coins_needed}\")\n",
    "else:\n",
    "    print(f\"No solution exists for {amount} using given coins.\")\n"
   ]
  },
  {
   "cell_type": "code",
   "execution_count": null,
   "id": "4b410538",
   "metadata": {},
   "outputs": [],
   "source": []
  }
 ],
 "metadata": {
  "kernelspec": {
   "display_name": "Python 3 (ipykernel)",
   "language": "python",
   "name": "python3"
  },
  "language_info": {
   "codemirror_mode": {
    "name": "ipython",
    "version": 3
   },
   "file_extension": ".py",
   "mimetype": "text/x-python",
   "name": "python",
   "nbconvert_exporter": "python",
   "pygments_lexer": "ipython3",
   "version": "3.11.5"
  }
 },
 "nbformat": 4,
 "nbformat_minor": 5
}
