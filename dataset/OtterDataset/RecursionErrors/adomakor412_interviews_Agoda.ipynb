{
 "cells": [
  {
   "cell_type": "markdown",
   "metadata": {},
   "source": [
    "# Add a fixed Number\n",
    "Operator add or multiply\n",
    "\n",
    "https://chat.openai.com/share/a82c1120-70b1-4e2f-aa57-5fbe95306f72"
   ]
  },
  {
   "cell_type": "markdown",
   "metadata": {},
   "source": [
    "You are given a starting number of 1. Your task is to reach a target number, t, using two available operations:\n",
    "\n",
    "operator_add: Adds a fixed number, x, to the current number.\n",
    "operator_multiply: Multiplies the current number by a fixed number, y.\n",
    "The objective is to reach the target number, t, by using these operations sequentially. Among all possible ways to reach t, pick the sequence that\n",
    "\n",
    "Maximizes the number of times operator 2 is applied\n",
    "Minimizes the number of times operator 1 is applied among all sequences that maximize usage of operator 2\n",
    "Constraints:\n",
    "1 ≤ t ≤ 10^20\n",
    "1 ≤ x ≤ 1000\n",
    "2 ≤ y ≤ 1000\n",
    "\n",
    "Input Format:\n",
    "Three integers: t, x, and y.\n",
    "\n",
    "Output Format:\n",
    "\n",
    "If a solution exists:\n",
    "\n",
    "A list of strings where each string represents an operation followed by the number of times it is applied. The solution should be compact in the sense that consecutive occurrences of the same operator collapse to 1 element in the list. This means that if an element in the list correspond to \"operator_add\", then the next one should correspond to \"operator_multiply\" and vice versa. For example, if you want to apply the sequence \"operation_add, operation_add, operation_multiply, operation_multiply, operation_multiply, operation_add\", then the output should be: [\"operator_add 2\", \"operator_multiply 3\", \"operator_add 1\"].\n",
    "If no solution exists:\n",
    "\n",
    "A list with one element: \"no_solution\".\n",
    "Examples:\n",
    "\n",
    "Input 1:\n",
    "t = 54, x = 1, y = 3\n",
    "\n",
    "Output 1:\n",
    "[\"operator_add 1\", \"operator_multiply 3\"]\n",
    "\n",
    "Explanation:\n",
    "\n",
    "Starting from 1, add 1 once to get 2, then multiply the result by 3 thrice (2*3^3 = 54) to get 54. The sequence thus results in the target number.\n",
    "Using operator 2 at least 4 times will result in a number bigger than 54 (3^4 > 54). Hence operator 2 can maximally be used three times.\n",
    "For operator 2 being used three times, operator 1 needs to be used at least once because 3^3 is not equal to 54. Therefore it minimizes the usage of operator 1.\n",
    "Input 2:\n",
    "t = 3\n",
    "x = 4\n",
    "y = 4\n",
    "\n",
    "Output 2:\n",
    "[\"no_solution\"]\n",
    "\n",
    "Explanation: Both operators increase the number and applying any operator once already results in a number that is too big.\n",
    "\n",
    "[execution time limit] 4 seconds (py3)\n",
    "\n",
    "[memory limit] 1 GB\n",
    "\n",
    "[input] integer64 t\n",
    "\n",
    "Target number: the number you want to reach by sequentially applying the operators.\n",
    "\n",
    "[input] integer64 x\n",
    "\n",
    "By how much you increase the current result if you apply operator1.\n",
    "\n",
    "[input] integer64 y\n",
    "\n",
    "By how much you multiply the current result if you apply operator2.\n",
    "\n",
    "[output] array.string\n",
    "\n",
    "List of strings where element i equals \"operator_add\" or \"operator_multiply\" followed by how many times you want to apply it. In case there is no solution, output is [\"no_solution\"]."
   ]
  },
  {
   "cell_type": "code",
   "execution_count": 2,
   "metadata": {},
   "outputs": [
    {
     "name": "stdout",
     "output_type": "stream",
     "text": [
      "['no_solution']\n"
     ]
    }
   ],
   "source": [
    "def reach_target(t, x, y):\n",
    "    operations = []\n",
    "    \n",
    "    while t > 1:\n",
    "        if t % y == 0:\n",
    "            count = 0\n",
    "            while t % y == 0:\n",
    "                t //= y\n",
    "                count += 1\n",
    "            operations.append(f\"operator_multiply {count}\")\n",
    "        elif (t - 1) % y == 0 and (t - 1) // y % y != 0:\n",
    "            operations.append(\"operator_add 1\")\n",
    "            t -= 1\n",
    "        else:\n",
    "            return [\"no_solution\"]\n",
    "    \n",
    "    return operations\n",
    "\n",
    "# Input\n",
    "t = 54\n",
    "x = 1\n",
    "y = 3\n",
    "\n",
    "# Output\n",
    "result = reach_target(t, x, y)\n",
    "print(result)\n"
   ]
  },
  {
   "cell_type": "code",
   "execution_count": 3,
   "metadata": {},
   "outputs": [
    {
     "name": "stdout",
     "output_type": "stream",
     "text": [
      "['operator_add 50', 'operator_add 50', 'operator_add 50', 'operator_add 50', 'operator_add 50', 'operator_add 50', 'operator_add 50', 'operator_add 50', 'operator_add 50', 'operator_add 50', 'operator_add 50', 'operator_add 50', 'operator_add 50', 'operator_add 50', 'operator_add 50', 'operator_add 50', 'operator_add 50', 'operator_add 50', 'operator_add 50', 'operator_add 50', 'operator_add 50', 'operator_add 50', 'operator_add 50', 'operator_add 50', 'operator_add 50', 'operator_add 50', 'operator_add 50', 'operator_add 50', 'operator_add 50', 'operator_add 50', 'operator_add 50', 'operator_add 50', 'operator_add 50', 'operator_add 50', 'operator_add 50', 'operator_add 50', 'operator_add 50', 'operator_add 50', 'operator_add 50', 'operator_add 50', 'operator_add 50', 'operator_add 50', 'operator_add 50', 'operator_add 50', 'operator_add 50', 'operator_add 50', 'operator_add 50', 'operator_add 50', 'operator_add 50', 'operator_multiply 3 0']\n"
     ]
    }
   ],
   "source": [
    "def find_operations(t, x, y):\n",
    "    def dfs(remaining, add_count, mult_count):\n",
    "        if remaining == 1:\n",
    "            return [\"operator_add \" + str(add_count)] * (add_count - 1) + [\"operator_multiply \" + str(y) + \" \" + str(mult_count)]\n",
    "        if remaining < 1 or mult_count == 0:\n",
    "            return None\n",
    "\n",
    "        # Try applying operator_add\n",
    "        add_result = dfs(remaining - x, add_count + 1, mult_count)\n",
    "        \n",
    "        # Try applying operator_multiply\n",
    "        mult_result = dfs(remaining // y, add_count, mult_count - 1)\n",
    "        \n",
    "        if add_result is None:\n",
    "            return mult_result\n",
    "        elif mult_result is None:\n",
    "            return add_result\n",
    "        \n",
    "        # Compare the two results and choose the one that meets the criteria\n",
    "        if len(add_result) < len(mult_result) or (len(add_result) == len(mult_result) and add_count < mult_count):\n",
    "            return add_result\n",
    "        else:\n",
    "            return mult_result\n",
    "\n",
    "    result = dfs(t, 1, 1)\n",
    "    \n",
    "    if result is None:\n",
    "        return [\"no_solution\"]\n",
    "    \n",
    "    return result\n",
    "\n",
    "# Input\n",
    "t = 54\n",
    "x = 1\n",
    "y = 3\n",
    "\n",
    "# Output\n",
    "output = find_operations(t, x, y)\n",
    "print(output)\n"
   ]
  },
  {
   "cell_type": "code",
   "execution_count": 4,
   "metadata": {},
   "outputs": [
    {
     "name": "stdout",
     "output_type": "stream",
     "text": [
      "['operator_multiply 1', 'operator_add 1']\n"
     ]
    }
   ],
   "source": [
    "def find_operations(t, x, y):\n",
    "    operations = []\n",
    "    \n",
    "    while t > 1:\n",
    "        # Check if t is divisible by y.\n",
    "        if t % y == 0:\n",
    "            # Calculate the number of times to apply operator_multiply.\n",
    "            count = 0\n",
    "            while t % y == 0:\n",
    "                t //= y\n",
    "                count += 1\n",
    "            operations.append(f\"operator_multiply {count}\")\n",
    "        else:\n",
    "            # If t is not divisible by y, we have to use operator_add at least once.\n",
    "            t -= x\n",
    "            operations.append(\"operator_add 1\")\n",
    "            \n",
    "            # Check if the new t is divisible by y.\n",
    "            while t % y == 0:\n",
    "                t //= y\n",
    "                operations[-1] = f\"operator_multiply {t}\"\n",
    "                \n",
    "            # If t becomes negative, there's no solution.\n",
    "            if t < 0:\n",
    "                return [\"no_solution\"]\n",
    "    \n",
    "    return operations\n",
    "\n",
    "# Input\n",
    "t = 54\n",
    "x = 1\n",
    "y = 3\n",
    "\n",
    "# Find operations\n",
    "result = find_operations(t, x, y)\n",
    "\n",
    "# Output\n",
    "if result == [\"no_solution\"]:\n",
    "    print(result)\n",
    "else:\n",
    "    # Compact the result by combining consecutive operations of the same type.\n",
    "    compact_result = [result[0]]\n",
    "    count = 1\n",
    "    for i in range(1, len(result)):\n",
    "        if result[i] == compact_result[-1]:\n",
    "            count += 1\n",
    "        else:\n",
    "            compact_result[-1] = f\"{compact_result[-1].split()[0]} {count}\"\n",
    "            compact_result.append(result[i])\n",
    "            count = 1\n",
    "    compact_result[-1] = f\"{compact_result[-1].split()[0]} {count}\"\n",
    "    \n",
    "    print(compact_result)\n"
   ]
  },
  {
   "cell_type": "markdown",
   "metadata": {},
   "source": [
    "Problem Description: You are standing on a unique diamond-shaped platform composed of 5 tiles. These tiles are positioned at coordinates: (-1,0), (0,-1), (0,0), (0,1), and (1,0)"
   ]
  },
  {
   "cell_type": "markdown",
   "metadata": {},
   "source": [
    "It seems like you have described a problem involving a unique diamond-shaped platform composed of 5 tiles with specific coordinates. However, you haven't specified the exact problem or what you need assistance with. If you have a specific question or if there's something you'd like to know or discuss about this platform or problem, please provide more details or ask your question, and I'd be happy to help."
   ]
  },
  {
   "cell_type": "markdown",
   "metadata": {},
   "source": [
    "Problem Description: You are standing on a unique diamond-shaped platform composed of 5 tiles. These tiles are positioned at coordinates: (-1,0), (0,-1), (0,0), (0,1), and (1,0). From a starting position (xs,ys), you make random moves in one of four directions: left (decrease x by 1), right (increase x by 1), up (increase y by 1), or down (decrease y by 1). Each direction has the same probability and the direction of each move is entirely independent of previous moves. Determine the probability that you can reach a given destination (xe,ye) without stepping off the diamond platform. Constraints: (xs, ys) must be one of: (-1,0), (0,-1), (0,0), (0,1), (1,0) (xe, ye) must also be one of the above coordinates. Starting and ending coordinates are distinct: xs != xe or ys != ye Input: A single line containing four integers, denoting xs, ys, xe, ye respectively. Output: A single line showing the probability that you'll reach the destination before stepping off the platform. Sample input: -1 0 0 0 Sample Output: 0.25 Explanation: From the starting position, you have a 25% chance of moving right (and thus reaching the destination). Any other move would result in falling off the platform. [execution time limit] 4 seconds (py3) [memory limit] 1 GB [input] integer xs The x-coordinate of the starting position. [input] integer ys The y-coordinate of the starting position. [input] integer xe The x-coordinate of the end position. [input] integer ye The y-coordinate of the end position. [output] float Probability to reach end position before falling of platform."
   ]
  },
  {
   "cell_type": "markdown",
   "metadata": {},
   "source": [
    "To determine the probability of reaching the destination (xe, ye) on the diamond-shaped platform without stepping off, you can use dynamic programming. You need to calculate the probability of reaching each tile (i, j) on the platform starting from your initial position (xs, ys), and then return the probability of reaching the destination (xe, ye).\n",
    "\n",
    "Here's a Python function to solve this problem:"
   ]
  },
  {
   "cell_type": "code",
   "execution_count": 5,
   "metadata": {},
   "outputs": [
    {
     "name": "stdout",
     "output_type": "stream",
     "text": [
      "-1 0 0 0\n",
      "0.25\n"
     ]
    }
   ],
   "source": [
    "def probability_to_reach_destination(xs, ys, xe, ye):\n",
    "    # Check if the destination is not within the diamond-shaped platform.\n",
    "    if (xe, ye) not in [(-1, 0), (0, -1), (0, 0), (0, 1), (1, 0)]:\n",
    "        return 0.0\n",
    "\n",
    "    # Define the possible moves: left, right, up, down.\n",
    "    moves = [(-1, 0), (1, 0), (0, 1), (0, -1)]\n",
    "    \n",
    "    # Initialize a 2D grid to store the probabilities.\n",
    "    grid_size = 3  # The platform size is 3x3 centered around (0,0).\n",
    "    dp = [[0.0] * grid_size for _ in range(grid_size)]\n",
    "    \n",
    "    # Initialize the probability at the starting position.\n",
    "    dp[1 - xs][1 - ys] = 1.0  # Convert (xs, ys) to grid indices.\n",
    "\n",
    "    # Iterate over the grid.\n",
    "    for i in range(grid_size):\n",
    "        for j in range(grid_size):\n",
    "            # If the current position is not within the platform, continue.\n",
    "            if (i, j) not in [(0, 1), (1, 0), (1, 1), (1, 2), (2, 1)]:\n",
    "                continue\n",
    "            \n",
    "            # Calculate the probability to reach the neighboring positions.\n",
    "            for move in moves:\n",
    "                x, y = i + move[0], j + move[1]\n",
    "                if 0 <= x < grid_size and 0 <= y < grid_size:\n",
    "                    dp[i][j] += dp[x][y] / 4.0\n",
    "\n",
    "    # Return the probability of reaching the destination.\n",
    "    return dp[1 + xe][1 + ye]  # Convert (xe, ye) to grid indices.\n",
    "\n",
    "# Input\n",
    "xs, ys, xe, ye = map(int, input().split())\n",
    "\n",
    "# Calculate and print the probability\n",
    "probability = probability_to_reach_destination(xs, ys, xe, ye)\n",
    "print(probability)\n"
   ]
  },
  {
   "cell_type": "code",
   "execution_count": 6,
   "metadata": {},
   "outputs": [],
   "source": [
    "def solution(xs, ys, xe, ye):\n",
    "    #random_next = [(xs+1, ys+1), (xs-1, ys-1), (xs+1, ys-1), (xs-1, ys+1)]\n",
    "    random_next = [(xs+i, ys) for i in [-1,1] if -2< xs+i <2]\n",
    "    for j in [-1,1]:\n",
    "        if -2 < ys+j < 2:\n",
    "            random_next.append( (xs, ys+j) )\n",
    "    #print(random_next)\n",
    "    \n",
    "    num = 0\n",
    "    for xy in random_next:\n",
    "        #print(f\"{(xe, ye)} ,{(xy[0], xy[1])}\")\n",
    "        if (xe, ye) == (xy[0], xy[1]):\n",
    "            num+=1\n",
    "    #print(len(random_next))\n",
    "    #print(num)\n",
    "    return num/ (len(random_next)+1)"
   ]
  },
  {
   "cell_type": "markdown",
   "metadata": {},
   "source": [
    "You want to buy a billboard featuring the name of your company. The price of the billboard is the sum of the price of the letters in your company name. For example, the price of company name \"aga\" is two times the price of letter \"a\" plus the price of letter \"g\". You don't know the price per letter, but you do know the prices of other company names. Can you derive the price of your company name? A company name only contains letters from the alphabet. There are 26 different letters and they are all lower case. You are given: your_company_name: a string representing the name of your company other_company_names: a list of strings where each element is the name of another company other_company_prices: a list of real numbers where other_company_prices[i] is the price of other_company_names[i] Return the price of your company name if it can be derived, otherwise return -1 Constraints: The length of a company name is maximally 100 len(other_company_names) = len(other_company_prices) <= 100 For each price in other_company_prices: -10^6 <= price <= 10^6 Sample Input: your_company_name = \"aabc\" other_company_names = [\"ab\", \"ac\", \"bd\"] other_company_prices = [99.5, 1000.2, 2000.8] Sample Output: 1099.7 Explanation: The letters in \"aabc\" is the union of the letters in \"ab\" and \"ac\", hence the price is the sum. Sample Input: your_company_name = \"d\" other_company_names = [\"aab\", \"acc\"] other_company_prices = [500, 6000] Sample Output: -1 Explanation: The letter d doesn't appear in any other company name and therefore we cannot derive its price. [execution time limit] 4 seconds (py3) [memory limit] 1 GB [input] string your_company_name String representing the name of your company [input] array.string other_company_names List containing the names of other companies. [input] array.float other_company_prices List where element i contains the prices of other_company_names[i] [output] float Price of your company"
   ]
  },
  {
   "cell_type": "code",
   "execution_count": 7,
   "metadata": {},
   "outputs": [
    {
     "name": "stdout",
     "output_type": "stream",
     "text": [
      "2649.9500000000003\n"
     ]
    }
   ],
   "source": [
    "def derive_company_price(your_company_name, other_company_names, other_company_prices):\n",
    "    # Create a dictionary to store the prices of each letter.\n",
    "    letter_prices = {}\n",
    "\n",
    "    # Iterate through other_company_names and calculate the price per letter.\n",
    "    for i in range(len(other_company_names)):\n",
    "        company_name = other_company_names[i]\n",
    "        price = other_company_prices[i]\n",
    "        unique_letters = set(company_name)\n",
    "        for letter in unique_letters:\n",
    "            if letter in letter_prices:\n",
    "                letter_prices[letter] += price / len(unique_letters)\n",
    "            else:\n",
    "                letter_prices[letter] = price / len(unique_letters)\n",
    "\n",
    "    # Calculate the total price of your_company_name.\n",
    "    total_price = 0.0\n",
    "    for letter in your_company_name:\n",
    "        if letter in letter_prices:\n",
    "            total_price += letter_prices[letter]\n",
    "        else:\n",
    "            return -1  # The price of a letter cannot be derived.\n",
    "\n",
    "    return total_price\n",
    "\n",
    "# Sample Input\n",
    "your_company_name = \"aabc\"\n",
    "other_company_names = [\"ab\", \"ac\", \"bd\"]\n",
    "other_company_prices = [99.5, 1000.2, 2000.8]\n",
    "\n",
    "# Calculate and print the price of your company name\n",
    "price = derive_company_price(your_company_name, other_company_names, other_company_prices)\n",
    "print(price)"
   ]
  },
  {
   "cell_type": "code",
   "execution_count": 8,
   "metadata": {},
   "outputs": [
    {
     "name": "stdout",
     "output_type": "stream",
     "text": [
      "1298.7\n"
     ]
    }
   ],
   "source": [
    "def derive_company_name_price(your_company_name, other_company_names, other_company_prices):\n",
    "    # Initialize a dictionary to store letter prices based on other company names.\n",
    "    letter_prices = {}\n",
    "    \n",
    "    # Iterate through other company names and prices to update letter prices.\n",
    "    for i in range(len(other_company_names)):\n",
    "        company_name = other_company_names[i]\n",
    "        company_price = other_company_prices[i]\n",
    "        \n",
    "        for letter in company_name:\n",
    "            # If the letter is not already in the dictionary, add it with the price.\n",
    "            if letter not in letter_prices:\n",
    "                letter_prices[letter] = company_price\n",
    "            else:\n",
    "                # If the letter is already in the dictionary, update its price if lower.\n",
    "                letter_prices[letter] = min(letter_prices[letter], company_price)\n",
    "    \n",
    "    # Calculate the price of your company name.\n",
    "    your_company_price = 0.0\n",
    "    for letter in your_company_name:\n",
    "        if letter in letter_prices:\n",
    "            your_company_price += letter_prices[letter]\n",
    "        else:\n",
    "            # If a letter in your company name doesn't appear in other names, return -1.\n",
    "            return -1.0\n",
    "    \n",
    "    return your_company_price\n",
    "\n",
    "# Sample Input\n",
    "your_company_name = \"aabc\"\n",
    "other_company_names = [\"ab\", \"ac\", \"bd\"]\n",
    "other_company_prices = [99.5, 1000.2, 2000.8]\n",
    "\n",
    "# Calculate and print the price of your company name\n",
    "result = derive_company_name_price(your_company_name, other_company_names, other_company_prices)\n",
    "print(result)\n"
   ]
  },
  {
   "cell_type": "code",
   "execution_count": 9,
   "metadata": {},
   "outputs": [
    {
     "name": "stdout",
     "output_type": "stream",
     "text": [
      "5299.900000000001\n"
     ]
    }
   ],
   "source": [
    "def derive_company_name_price(your_company_name, other_company_names, other_company_prices):\n",
    "    letter_prices = {}\n",
    "    \n",
    "    # Create a dictionary to store the prices of individual letters.\n",
    "    for i in range(len(other_company_names)):\n",
    "        for letter in other_company_names[i]:\n",
    "            if letter in letter_prices:\n",
    "                letter_prices[letter] += other_company_prices[i]\n",
    "            else:\n",
    "                letter_prices[letter] = other_company_prices[i]\n",
    "    \n",
    "    total_price = 0.0\n",
    "    \n",
    "    # Iterate through the letters in your_company_name and calculate the total price.\n",
    "    for letter in your_company_name:\n",
    "        if letter in letter_prices:\n",
    "            total_price += letter_prices[letter]\n",
    "        else:\n",
    "            # If a letter in your_company_name cannot be derived, return -1.\n",
    "            return -1.0\n",
    "    \n",
    "    return total_price\n",
    "\n",
    "# Sample Input\n",
    "your_company_name = \"aabc\"\n",
    "other_company_names = [\"ab\", \"ac\", \"bd\"]\n",
    "other_company_prices = [99.5, 1000.2, 2000.8]\n",
    "\n",
    "# Calculate and print the price of your company name\n",
    "result = derive_company_name_price(your_company_name, other_company_names, other_company_prices)\n",
    "print(result)\n"
   ]
  },
  {
   "cell_type": "code",
   "execution_count": 10,
   "metadata": {},
   "outputs": [
    {
     "data": {
      "text/plain": [
       "'ajlfjaj'"
      ]
     },
     "execution_count": 10,
     "metadata": {},
     "output_type": "execute_result"
    }
   ],
   "source": [
    "a = \"ajlfjaj\"\n",
    "a"
   ]
  },
  {
   "cell_type": "code",
   "execution_count": 13,
   "metadata": {},
   "outputs": [],
   "source": [
    "a_list =list(a).remove('a')\n",
    "a_list"
   ]
  },
  {
   "cell_type": "code",
   "execution_count": 15,
   "metadata": {},
   "outputs": [
    {
     "name": "stdout",
     "output_type": "stream",
     "text": [
      "None\n"
     ]
    }
   ],
   "source": [
    "print(a_list)"
   ]
  },
  {
   "cell_type": "code",
   "execution_count": 32,
   "metadata": {},
   "outputs": [
    {
     "name": "stdout",
     "output_type": "stream",
     "text": [
      "['a', 'j', 'l', 'f', 'j', 'a', 'j']\n",
      "a: ajlfjaj\n",
      "b: ['j', 'l', 'f', 'j', 'a', 'j']\n",
      "c: jlfjaj\n"
     ]
    }
   ],
   "source": [
    "a = \"ajlfjaj\"\n",
    "b = list(a)\n",
    "print(b)\n",
    "b.remove('a')\n",
    "c = \"\"\n",
    "\n",
    "for letter in b:\n",
    "    c+=letter\n",
    "\n",
    "print('a:', a)\n",
    "print('b:', b)\n",
    "print('c:', c)"
   ]
  },
  {
   "cell_type": "code",
   "execution_count": 33,
   "metadata": {},
   "outputs": [
    {
     "name": "stdout",
     "output_type": "stream",
     "text": [
      "1298.7\n"
     ]
    }
   ],
   "source": [
    "def calculate_company_price(your_company_name, other_company_names, other_company_prices):\n",
    "    letter_prices = {}  # Dictionary to store letter prices\n",
    "\n",
    "    # Initialize letter prices based on other company names\n",
    "    for i in range(len(other_company_names)):\n",
    "        other_name = other_company_names[i]\n",
    "        price = other_company_prices[i]\n",
    "        for letter in other_name:\n",
    "            if letter in letter_prices:\n",
    "                letter_prices[letter] = min(letter_prices[letter], price)\n",
    "            else:\n",
    "                letter_prices[letter] = price\n",
    "\n",
    "    total_price = 0\n",
    "\n",
    "    # Calculate the price of your company name\n",
    "    for letter in your_company_name:\n",
    "        if letter in letter_prices:\n",
    "            total_price += letter_prices[letter]\n",
    "        else:\n",
    "            return -1  # Letter not found in other company names\n",
    "\n",
    "    return total_price\n",
    "\n",
    "# Sample Input\n",
    "your_company_name = \"aabc\"\n",
    "other_company_names = [\"ab\", \"ac\", \"bd\"]\n",
    "other_company_prices = [99.5, 1000.2, 2000.8]\n",
    "\n",
    "# Calculate and print the price of your company name\n",
    "result = calculate_company_price(your_company_name, other_company_names, other_company_prices)\n",
    "print(result)\n"
   ]
  },
  {
   "cell_type": "code",
   "execution_count": 34,
   "metadata": {},
   "outputs": [
    {
     "name": "stdout",
     "output_type": "stream",
     "text": [
      "-1\n"
     ]
    }
   ],
   "source": [
    "def calculate_company_price(your_company_name, other_company_names, other_company_prices):\n",
    "    letter_prices = {}  # Dictionary to store letter prices\n",
    "\n",
    "    # Initialize letter prices based on other company names\n",
    "    for i in range(len(other_company_names)):\n",
    "        other_name = other_company_names[i]\n",
    "        price = other_company_prices[i]\n",
    "        for letter in other_name:\n",
    "            if letter in letter_prices:\n",
    "                letter_prices[letter] = min(letter_prices[letter], price)\n",
    "            else:\n",
    "                letter_prices[letter] = price\n",
    "\n",
    "    # Function to recursively calculate the price of a string\n",
    "    def calculate_price(name):\n",
    "        if len(name) == 0:\n",
    "            return 0\n",
    "        if name in other_company_names:\n",
    "            return other_company_prices[other_company_names.index(name)]\n",
    "\n",
    "        min_price = float('inf')\n",
    "        for i in range(1, len(name)):\n",
    "            left_price = calculate_price(name[:i])\n",
    "            right_price = calculate_price(name[i:])\n",
    "            if left_price != -1 and right_price != -1:\n",
    "                min_price = min(min_price, left_price + right_price)\n",
    "\n",
    "        return min_price if min_price != float('inf') else -1\n",
    "\n",
    "    # Calculate the price of your company name\n",
    "    price = calculate_price(your_company_name)\n",
    "\n",
    "    return price\n",
    "\n",
    "# Sample Input\n",
    "your_company_name = \"aabc\"\n",
    "other_company_names = [\"ab\", \"ac\", \"bd\"]\n",
    "other_company_prices = [99.5, 1000.2, 2000.8]\n",
    "\n",
    "# Calculate and print the price of your company name\n",
    "result = calculate_company_price(your_company_name, other_company_names, other_company_prices)\n",
    "print(result)\n"
   ]
  },
  {
   "cell_type": "code",
   "execution_count": 35,
   "metadata": {},
   "outputs": [
    {
     "name": "stdout",
     "output_type": "stream",
     "text": [
      "-1\n"
     ]
    }
   ],
   "source": [
    "def derive_company_price(your_company_name, other_company_names, other_company_prices):\n",
    "    def calculate_price(combination):\n",
    "        price = 0\n",
    "        for letter in your_company_name:\n",
    "            if letter in combination:\n",
    "                price += combination[letter]\n",
    "            else:\n",
    "                return -1\n",
    "        return price\n",
    "    \n",
    "    def try_combinations(prefix, remaining_letters):\n",
    "        if len(prefix) == 26:\n",
    "            price = calculate_price(prefix)\n",
    "            if price != -1 and price in other_company_prices:\n",
    "                return price\n",
    "            return -1\n",
    "        \n",
    "        total_price = -1\n",
    "        for letter in remaining_letters:\n",
    "            new_prefix = prefix.copy()\n",
    "            new_prefix[letter] = 0\n",
    "            price = try_combinations(new_prefix, remaining_letters.difference(new_prefix.keys()))\n",
    "            if price != -1 and (total_price == -1 or price < total_price):\n",
    "                total_price = price\n",
    "        \n",
    "        return total_price\n",
    "    \n",
    "    letter_set = set(your_company_name)\n",
    "    letter_set.update(\"abcdefghijklmnopqrstuvwxyz\")\n",
    "    initial_combination = {}\n",
    "    for letter in letter_set:\n",
    "        initial_combination[letter] = -1\n",
    "    \n",
    "    result = try_combinations(initial_combination, letter_set)\n",
    "    return result\n",
    "\n",
    "# Sample Input\n",
    "your_company_name = \"aabc\"\n",
    "other_company_names = [\"ab\", \"ac\", \"bd\"]\n",
    "other_company_prices = [99.5, 1000.2, 2000.8]\n",
    "\n",
    "# Calculate and print the price of your company name\n",
    "result = derive_company_price(your_company_name, other_company_names, other_company_prices)\n",
    "print(result)\n"
   ]
  },
  {
   "cell_type": "code",
   "execution_count": 36,
   "metadata": {},
   "outputs": [
    {
     "name": "stdout",
     "output_type": "stream",
     "text": [
      "1298.7\n"
     ]
    }
   ],
   "source": [
    "def derive_company_price(your_company_name, other_company_names, other_company_prices):\n",
    "    letter_to_price = {}  # Dictionary to store letter prices\n",
    "\n",
    "    # Initialize letter prices based on the prices of other company names\n",
    "    for name, price in zip(other_company_names, other_company_prices):\n",
    "        for letter in name:\n",
    "            if letter in letter_to_price:\n",
    "                letter_to_price[letter] = min(letter_to_price[letter], price)\n",
    "            else:\n",
    "                letter_to_price[letter] = price\n",
    "\n",
    "    def calculate_min_price(prefix):\n",
    "        if not prefix:\n",
    "            return 0.0\n",
    "\n",
    "        min_price = float('inf')\n",
    "\n",
    "        for i in range(1, len(prefix) + 1):\n",
    "            if prefix[:i] in letter_to_price:\n",
    "                price = letter_to_price[prefix[:i]] + calculate_min_price(prefix[i:])\n",
    "                min_price = min(min_price, price)\n",
    "\n",
    "        return min_price\n",
    "\n",
    "    min_price = calculate_min_price(your_company_name)\n",
    "\n",
    "    if min_price == float('inf'):\n",
    "        return -1\n",
    "    else:\n",
    "        return min_price\n",
    "\n",
    "# Sample Input\n",
    "your_company_name = \"aabc\"\n",
    "other_company_names = [\"ab\", \"ac\", \"bd\"]\n",
    "other_company_prices = [99.5, 1000.2, 2000.8]\n",
    "\n",
    "# Calculate and print the price of your company name\n",
    "result = derive_company_price(your_company_name, other_company_names, other_company_prices)\n",
    "print(result)\n"
   ]
  },
  {
   "cell_type": "code",
   "execution_count": 37,
   "metadata": {},
   "outputs": [
    {
     "name": "stdout",
     "output_type": "stream",
     "text": [
      "5095.3\n"
     ]
    }
   ],
   "source": [
    "def calculate_company_price(your_company_name, other_company_names, other_company_prices):\n",
    "    letter_prices = {}  # Dictionary to store letter prices\n",
    "\n",
    "    # Initialize letter prices based on other company names\n",
    "    for i in range(len(other_company_names)):\n",
    "        other_name = other_company_names[i]\n",
    "        price = other_company_prices[i]\n",
    "        for letter in other_name:\n",
    "            if letter in letter_prices:\n",
    "                letter_prices[letter] = min(letter_prices[letter], price)\n",
    "            else:\n",
    "                letter_prices[letter] = price\n",
    "\n",
    "    def calculate_price(name):\n",
    "        if not name:\n",
    "            return 0.0  # Base case: an empty name has a price of 0.\n",
    "\n",
    "        # Initialize the price to -1 (indicating it's not derivable).\n",
    "        price = -1\n",
    "\n",
    "        # Try all possible splits of the name.\n",
    "        for split in range(1, len(name) + 1):\n",
    "            prefix = name[:split]\n",
    "            suffix = name[split:]\n",
    "\n",
    "            # Calculate the price of the prefix and suffix recursively.\n",
    "            prefix_price = letter_prices.get(prefix[0], -1)\n",
    "            suffix_price = calculate_price(suffix)\n",
    "\n",
    "            # If both prefix and suffix have valid prices, update the total price.\n",
    "            if prefix_price != -1 and suffix_price != -1:\n",
    "                if price == -1:\n",
    "                    price = 0\n",
    "                price += prefix_price + suffix_price\n",
    "\n",
    "        return price\n",
    "\n",
    "    result = calculate_price(your_company_name)\n",
    "    return result\n",
    "\n",
    "# Sample Input\n",
    "your_company_name = \"aabc\"\n",
    "other_company_names = [\"ab\", \"ac\", \"bd\"]\n",
    "other_company_prices = [99.5, 1000.2, 2000.8]\n",
    "\n",
    "# Calculate and print the price of your company name\n",
    "result = calculate_company_price(your_company_name, other_company_names, other_company_prices)\n",
    "print(result)\n"
   ]
  },
  {
   "cell_type": "code",
   "execution_count": 38,
   "metadata": {},
   "outputs": [
    {
     "ename": "RecursionError",
     "evalue": "maximum recursion depth exceeded",
     "output_type": "error",
     "traceback": [
      "\u001b[0;31m---------------------------------------------------------------------------\u001b[0m",
      "\u001b[0;31mRecursionError\u001b[0m                            Traceback (most recent call last)",
      "\u001b[0;32m<ipython-input-38-5f74fc5b58b5>\u001b[0m in \u001b[0;36m<module>\u001b[0;34m\u001b[0m\n\u001b[1;32m     49\u001b[0m \u001b[0;34m\u001b[0m\u001b[0m\n\u001b[1;32m     50\u001b[0m \u001b[0;31m# Calculate and print the price of your company name\u001b[0m\u001b[0;34m\u001b[0m\u001b[0;34m\u001b[0m\u001b[0;34m\u001b[0m\u001b[0m\n\u001b[0;32m---> 51\u001b[0;31m \u001b[0mresult\u001b[0m \u001b[0;34m=\u001b[0m \u001b[0mcalculate_company_price\u001b[0m\u001b[0;34m(\u001b[0m\u001b[0myour_company_name\u001b[0m\u001b[0;34m,\u001b[0m \u001b[0mother_company_names\u001b[0m\u001b[0;34m,\u001b[0m \u001b[0mother_company_prices\u001b[0m\u001b[0;34m)\u001b[0m\u001b[0;34m\u001b[0m\u001b[0;34m\u001b[0m\u001b[0m\n\u001b[0m\u001b[1;32m     52\u001b[0m \u001b[0mprint\u001b[0m\u001b[0;34m(\u001b[0m\u001b[0mresult\u001b[0m\u001b[0;34m)\u001b[0m\u001b[0;34m\u001b[0m\u001b[0;34m\u001b[0m\u001b[0m\n",
      "\u001b[0;32m<ipython-input-38-5f74fc5b58b5>\u001b[0m in \u001b[0;36mcalculate_company_price\u001b[0;34m(your_company_name, other_company_names, other_company_prices)\u001b[0m\n\u001b[1;32m     39\u001b[0m \u001b[0;34m\u001b[0m\u001b[0m\n\u001b[1;32m     40\u001b[0m     \u001b[0;31m# Start the traversal from the first letter in your company name.\u001b[0m\u001b[0;34m\u001b[0m\u001b[0;34m\u001b[0m\u001b[0;34m\u001b[0m\u001b[0m\n\u001b[0;32m---> 41\u001b[0;31m     \u001b[0mresult\u001b[0m \u001b[0;34m=\u001b[0m \u001b[0mdfs\u001b[0m\u001b[0;34m(\u001b[0m\u001b[0myour_company_name\u001b[0m\u001b[0;34m[\u001b[0m\u001b[0;36m0\u001b[0m\u001b[0;34m]\u001b[0m\u001b[0;34m)\u001b[0m\u001b[0;34m\u001b[0m\u001b[0;34m\u001b[0m\u001b[0m\n\u001b[0m\u001b[1;32m     42\u001b[0m \u001b[0;34m\u001b[0m\u001b[0m\n\u001b[1;32m     43\u001b[0m     \u001b[0;32mreturn\u001b[0m \u001b[0mresult\u001b[0m\u001b[0;34m\u001b[0m\u001b[0;34m\u001b[0m\u001b[0m\n",
      "\u001b[0;32m<ipython-input-38-5f74fc5b58b5>\u001b[0m in \u001b[0;36mdfs\u001b[0;34m(node)\u001b[0m\n\u001b[1;32m     27\u001b[0m         \u001b[0mrest_price\u001b[0m \u001b[0;34m=\u001b[0m \u001b[0;36m0\u001b[0m\u001b[0;34m\u001b[0m\u001b[0;34m\u001b[0m\u001b[0m\n\u001b[1;32m     28\u001b[0m         \u001b[0;32mfor\u001b[0m \u001b[0mneighbor\u001b[0m \u001b[0;32min\u001b[0m \u001b[0mgraph\u001b[0m\u001b[0;34m[\u001b[0m\u001b[0mnode\u001b[0m\u001b[0;34m]\u001b[0m\u001b[0;34m:\u001b[0m\u001b[0;34m\u001b[0m\u001b[0;34m\u001b[0m\u001b[0m\n\u001b[0;32m---> 29\u001b[0;31m             \u001b[0mrest\u001b[0m \u001b[0;34m=\u001b[0m \u001b[0mdfs\u001b[0m\u001b[0;34m(\u001b[0m\u001b[0mneighbor\u001b[0m\u001b[0;34m)\u001b[0m\u001b[0;34m\u001b[0m\u001b[0;34m\u001b[0m\u001b[0m\n\u001b[0m\u001b[1;32m     30\u001b[0m             \u001b[0;32mif\u001b[0m \u001b[0mrest\u001b[0m \u001b[0;34m==\u001b[0m \u001b[0;34m-\u001b[0m\u001b[0;36m1\u001b[0m\u001b[0;34m:\u001b[0m\u001b[0;34m\u001b[0m\u001b[0;34m\u001b[0m\u001b[0m\n\u001b[1;32m     31\u001b[0m                 \u001b[0;32mreturn\u001b[0m \u001b[0;34m-\u001b[0m\u001b[0;36m1\u001b[0m\u001b[0;34m\u001b[0m\u001b[0;34m\u001b[0m\u001b[0m\n",
      "... last 1 frames repeated, from the frame below ...\n",
      "\u001b[0;32m<ipython-input-38-5f74fc5b58b5>\u001b[0m in \u001b[0;36mdfs\u001b[0;34m(node)\u001b[0m\n\u001b[1;32m     27\u001b[0m         \u001b[0mrest_price\u001b[0m \u001b[0;34m=\u001b[0m \u001b[0;36m0\u001b[0m\u001b[0;34m\u001b[0m\u001b[0;34m\u001b[0m\u001b[0m\n\u001b[1;32m     28\u001b[0m         \u001b[0;32mfor\u001b[0m \u001b[0mneighbor\u001b[0m \u001b[0;32min\u001b[0m \u001b[0mgraph\u001b[0m\u001b[0;34m[\u001b[0m\u001b[0mnode\u001b[0m\u001b[0;34m]\u001b[0m\u001b[0;34m:\u001b[0m\u001b[0;34m\u001b[0m\u001b[0;34m\u001b[0m\u001b[0m\n\u001b[0;32m---> 29\u001b[0;31m             \u001b[0mrest\u001b[0m \u001b[0;34m=\u001b[0m \u001b[0mdfs\u001b[0m\u001b[0;34m(\u001b[0m\u001b[0mneighbor\u001b[0m\u001b[0;34m)\u001b[0m\u001b[0;34m\u001b[0m\u001b[0;34m\u001b[0m\u001b[0m\n\u001b[0m\u001b[1;32m     30\u001b[0m             \u001b[0;32mif\u001b[0m \u001b[0mrest\u001b[0m \u001b[0;34m==\u001b[0m \u001b[0;34m-\u001b[0m\u001b[0;36m1\u001b[0m\u001b[0;34m:\u001b[0m\u001b[0;34m\u001b[0m\u001b[0;34m\u001b[0m\u001b[0m\n\u001b[1;32m     31\u001b[0m                 \u001b[0;32mreturn\u001b[0m \u001b[0;34m-\u001b[0m\u001b[0;36m1\u001b[0m\u001b[0;34m\u001b[0m\u001b[0;34m\u001b[0m\u001b[0m\n",
      "\u001b[0;31mRecursionError\u001b[0m: maximum recursion depth exceeded"
     ]
    }
   ],
   "source": [
    "from collections import defaultdict\n",
    "\n",
    "def calculate_company_price(your_company_name, other_company_names, other_company_prices):\n",
    "    # Create a dictionary to store the price of each letter.\n",
    "    letter_prices = defaultdict(float)\n",
    "    \n",
    "    # Create a graph representation where nodes are letters and edges have associated prices.\n",
    "    graph = defaultdict(list)\n",
    "    \n",
    "    # Initialize the letter prices based on other company names.\n",
    "    for i in range(len(other_company_names)):\n",
    "        other_name = other_company_names[i]\n",
    "        price = other_company_prices[i]\n",
    "        for letter in other_name:\n",
    "            letter_prices[letter] = min(letter_prices[letter], price) if letter in letter_prices else price\n",
    "    \n",
    "    # Function to perform a depth-first search on the graph.\n",
    "    def dfs(node):\n",
    "        # Base case: If the letter is not in the dictionary, return -1.\n",
    "        if node not in letter_prices:\n",
    "            return -1\n",
    "        \n",
    "        # Calculate the price of the current letter.\n",
    "        price = letter_prices[node]\n",
    "        \n",
    "        # Calculate the price of the rest of the name by recursively traversing the graph.\n",
    "        rest_price = 0\n",
    "        for neighbor in graph[node]:\n",
    "            rest = dfs(neighbor)\n",
    "            if rest == -1:\n",
    "                return -1\n",
    "            rest_price += rest\n",
    "        \n",
    "        return price + rest_price\n",
    "    \n",
    "    # Build the graph by adding edges between consecutive letters in your company name.\n",
    "    for i in range(len(your_company_name) - 1):\n",
    "        graph[your_company_name[i]].append(your_company_name[i+1])\n",
    "    \n",
    "    # Start the traversal from the first letter in your company name.\n",
    "    result = dfs(your_company_name[0])\n",
    "    \n",
    "    return result\n",
    "\n",
    "# Sample Input\n",
    "your_company_name = \"aabc\"\n",
    "other_company_names = [\"ab\", \"ac\", \"bd\"]\n",
    "other_company_prices = [99.5, 1000.2, 2000.8]\n",
    "\n",
    "# Calculate and print the price of your company name\n",
    "result = calculate_company_price(your_company_name, other_company_names, other_company_prices)\n",
    "print(result)\n"
   ]
  },
  {
   "cell_type": "code",
   "execution_count": 39,
   "metadata": {},
   "outputs": [
    {
     "name": "stdout",
     "output_type": "stream",
     "text": [
      "1298.7\n"
     ]
    }
   ],
   "source": [
    "def derive_company_price(your_company_name, other_company_names, other_company_prices):\n",
    "    # Initialize a dictionary to store the minimum price for each letter.\n",
    "    letter_prices = {letter: float('inf') for letter in 'abcdefghijklmnopqrstuvwxyz'}\n",
    "\n",
    "    # Update letter prices based on known prices of other company names.\n",
    "    for i, other_name in enumerate(other_company_names):\n",
    "        price = other_company_prices[i]\n",
    "        letter_count = {}\n",
    "        \n",
    "        # Count the frequency of each letter in the other company name.\n",
    "        for letter in other_name:\n",
    "            if letter in letter_count:\n",
    "                letter_count[letter] += 1\n",
    "            else:\n",
    "                letter_count[letter] = 1\n",
    "        \n",
    "        # Update the minimum price for each letter based on the known prices.\n",
    "        for letter, count in letter_count.items():\n",
    "            letter_prices[letter] = min(letter_prices[letter], price / count)\n",
    "\n",
    "    # Calculate the price of your company name.\n",
    "    total_price = 0.0\n",
    "    for letter in your_company_name:\n",
    "        if letter in letter_prices:\n",
    "            total_price += letter_prices[letter]\n",
    "        else:\n",
    "            return -1  # A letter in your company name has no known price.\n",
    "\n",
    "    return total_price\n",
    "\n",
    "# Sample Input\n",
    "your_company_name = \"aabc\"\n",
    "other_company_names = [\"ab\", \"ac\", \"bd\"]\n",
    "other_company_prices = [99.5, 1000.2, 2000.8]\n",
    "\n",
    "# Calculate and print the price of your company name\n",
    "result = derive_company_price(your_company_name, other_company_names, other_company_prices)\n",
    "print(result)\n"
   ]
  },
  {
   "cell_type": "code",
   "execution_count": 40,
   "metadata": {},
   "outputs": [
    {
     "name": "stdout",
     "output_type": "stream",
     "text": [
      "1298.7\n"
     ]
    }
   ],
   "source": [
    "def calculate_company_price(your_company_name, other_company_names, other_company_prices):\n",
    "    # Create a dictionary to store the prices of individual letters.\n",
    "    letter_prices = {}\n",
    "    \n",
    "    # Initialize letter prices based on the prices of other company names.\n",
    "    for i in range(len(other_company_names)):\n",
    "        other_name = other_company_names[i]\n",
    "        price = other_company_prices[i]\n",
    "        for letter in other_name:\n",
    "            if letter in letter_prices:\n",
    "                letter_prices[letter] = min(letter_prices[letter], price)\n",
    "            else:\n",
    "                letter_prices[letter] = price\n",
    "\n",
    "    # Initialize a list to store the minimum prices for each prefix of your company name.\n",
    "    dp = [float('inf')] * (len(your_company_name) + 1)\n",
    "    dp[0] = 0  # Base case: an empty string has a price of 0.\n",
    "\n",
    "    # Iterate through your company name and calculate the minimum price for each prefix.\n",
    "    for i in range(1, len(your_company_name) + 1):\n",
    "        for j in range(i):\n",
    "            prefix = your_company_name[j:i]\n",
    "            if prefix in letter_prices:\n",
    "                dp[i] = min(dp[i], dp[j] + letter_prices[prefix])\n",
    "\n",
    "    # If the final element of dp is still infinity, it means the name cannot be derived.\n",
    "    if dp[len(your_company_name)] == float('inf'):\n",
    "        return -1\n",
    "    else:\n",
    "        return dp[len(your_company_name)]\n",
    "\n",
    "# Sample Input\n",
    "your_company_name = \"aabc\"\n",
    "other_company_names = [\"ab\", \"ac\", \"bd\"]\n",
    "other_company_prices = [99.5, 1000.2, 2000.8]\n",
    "\n",
    "# Calculate and print the price of your company name\n",
    "result = calculate_company_price(your_company_name, other_company_names, other_company_prices)\n",
    "print(result)\n"
   ]
  },
  {
   "cell_type": "code",
   "execution_count": 42,
   "metadata": {},
   "outputs": [
    {
     "ename": "AttributeError",
     "evalue": "'list' object has no attribute 'issubset'",
     "output_type": "error",
     "traceback": [
      "\u001b[0;31m---------------------------------------------------------------------------\u001b[0m",
      "\u001b[0;31mAttributeError\u001b[0m                            Traceback (most recent call last)",
      "\u001b[0;32m<ipython-input-42-cb4d6b6b35d8>\u001b[0m in \u001b[0;36m<module>\u001b[0;34m\u001b[0m\n\u001b[0;32m----> 1\u001b[0;31m \u001b[0;34m[\u001b[0m\u001b[0;36m1\u001b[0m\u001b[0;34m,\u001b[0m\u001b[0;36m5\u001b[0m\u001b[0;34m]\u001b[0m\u001b[0;34m.\u001b[0m\u001b[0missubset\u001b[0m\u001b[0;34m(\u001b[0m\u001b[0;34m[\u001b[0m\u001b[0;36m1\u001b[0m\u001b[0;34m,\u001b[0m\u001b[0;36m2\u001b[0m\u001b[0;34m,\u001b[0m\u001b[0;36m3\u001b[0m\u001b[0;34m,\u001b[0m\u001b[0;36m4\u001b[0m\u001b[0;34m,\u001b[0m\u001b[0;36m5\u001b[0m\u001b[0;34m]\u001b[0m\u001b[0;34m)\u001b[0m\u001b[0;34m\u001b[0m\u001b[0;34m\u001b[0m\u001b[0m\n\u001b[0m",
      "\u001b[0;31mAttributeError\u001b[0m: 'list' object has no attribute 'issubset'"
     ]
    }
   ],
   "source": [
    "[1,5].issubset([1,2,3,4,5])"
   ]
  },
  {
   "cell_type": "code",
   "execution_count": 43,
   "metadata": {},
   "outputs": [
    {
     "data": {
      "text/plain": [
       "[1]"
      ]
     },
     "execution_count": 43,
     "metadata": {},
     "output_type": "execute_result"
    }
   ],
   "source": [
    "a = [1,2,3,4,5]\n",
    "b = [1,5]\n",
    "b.pop(1)\n",
    "b"
   ]
  },
  {
   "cell_type": "code",
   "execution_count": 44,
   "metadata": {},
   "outputs": [
    {
     "data": {
      "text/plain": [
       "[1]"
      ]
     },
     "execution_count": 44,
     "metadata": {},
     "output_type": "execute_result"
    }
   ],
   "source": [
    "b"
   ]
  },
  {
   "cell_type": "code",
   "execution_count": 45,
   "metadata": {},
   "outputs": [
    {
     "ename": "IndexError",
     "evalue": "pop index out of range",
     "output_type": "error",
     "traceback": [
      "\u001b[0;31m---------------------------------------------------------------------------\u001b[0m",
      "\u001b[0;31mIndexError\u001b[0m                                Traceback (most recent call last)",
      "\u001b[0;32m<ipython-input-45-6c6bec9b61a8>\u001b[0m in \u001b[0;36m<module>\u001b[0;34m\u001b[0m\n\u001b[0;32m----> 1\u001b[0;31m \u001b[0mb\u001b[0m\u001b[0;34m.\u001b[0m\u001b[0mpop\u001b[0m\u001b[0;34m(\u001b[0m\u001b[0;36m1\u001b[0m\u001b[0;34m)\u001b[0m\u001b[0;34m\u001b[0m\u001b[0;34m\u001b[0m\u001b[0m\n\u001b[0m\u001b[1;32m      2\u001b[0m \u001b[0mb\u001b[0m\u001b[0;34m\u001b[0m\u001b[0;34m\u001b[0m\u001b[0m\n",
      "\u001b[0;31mIndexError\u001b[0m: pop index out of range"
     ]
    }
   ],
   "source": [
    "b.pop(1)\n",
    "b"
   ]
  },
  {
   "cell_type": "code",
   "execution_count": 47,
   "metadata": {},
   "outputs": [],
   "source": [
    "b.remove(1)"
   ]
  },
  {
   "cell_type": "code",
   "execution_count": 48,
   "metadata": {},
   "outputs": [
    {
     "data": {
      "text/plain": [
       "[]"
      ]
     },
     "execution_count": 48,
     "metadata": {},
     "output_type": "execute_result"
    }
   ],
   "source": [
    "b"
   ]
  },
  {
   "cell_type": "code",
   "execution_count": 49,
   "metadata": {},
   "outputs": [
    {
     "ename": "ValueError",
     "evalue": "list.remove(x): x not in list",
     "output_type": "error",
     "traceback": [
      "\u001b[0;31m---------------------------------------------------------------------------\u001b[0m",
      "\u001b[0;31mValueError\u001b[0m                                Traceback (most recent call last)",
      "\u001b[0;32m<ipython-input-49-e1a9ffd5a2e3>\u001b[0m in \u001b[0;36m<module>\u001b[0;34m\u001b[0m\n\u001b[0;32m----> 1\u001b[0;31m \u001b[0mb\u001b[0m\u001b[0;34m.\u001b[0m\u001b[0mremove\u001b[0m\u001b[0;34m(\u001b[0m\u001b[0;36m1\u001b[0m\u001b[0;34m)\u001b[0m\u001b[0;34m\u001b[0m\u001b[0;34m\u001b[0m\u001b[0m\n\u001b[0m",
      "\u001b[0;31mValueError\u001b[0m: list.remove(x): x not in list"
     ]
    }
   ],
   "source": [
    "b.remove(1)"
   ]
  },
  {
   "cell_type": "code",
   "execution_count": 50,
   "metadata": {},
   "outputs": [
    {
     "ename": "ValueError",
     "evalue": "1 is not in list",
     "output_type": "error",
     "traceback": [
      "\u001b[0;31m---------------------------------------------------------------------------\u001b[0m",
      "\u001b[0;31mValueError\u001b[0m                                Traceback (most recent call last)",
      "\u001b[0;32m<ipython-input-50-2dd67d686e5f>\u001b[0m in \u001b[0;36m<module>\u001b[0;34m\u001b[0m\n\u001b[0;32m----> 1\u001b[0;31m \u001b[0mb\u001b[0m\u001b[0;34m.\u001b[0m\u001b[0mindex\u001b[0m\u001b[0;34m(\u001b[0m\u001b[0;36m1\u001b[0m\u001b[0;34m)\u001b[0m\u001b[0;34m\u001b[0m\u001b[0;34m\u001b[0m\u001b[0m\n\u001b[0m",
      "\u001b[0;31mValueError\u001b[0m: 1 is not in list"
     ]
    }
   ],
   "source": [
    "b.index(1)"
   ]
  },
  {
   "cell_type": "code",
   "execution_count": 51,
   "metadata": {},
   "outputs": [],
   "source": [
    "def solution(your_company_name, other_company_names, other_company_prices):\n",
    "    letter_prices = {}\n",
    "    \n",
    "    # Create a dictionary to store the prices of individual letters.\n",
    "    for i in range(len(other_company_names)):\n",
    "        letter = other_company_names[i]\n",
    "        if letter not in letter_prices:\n",
    "            letter_prices[letter] = other_company_prices[i]\n",
    "    \n",
    "    total_price = 0.0\n",
    "    \n",
    "    # Iterate through the letters in your_company_name and calculate the total price.\n",
    "    test = your_company_name\n",
    "    while test != \"\":\n",
    "        for letters in other_company_names:\n",
    "            test_list = list(test)\n",
    "            try:\n",
    "                for char in list(letters):\n",
    "                    test_list.remove(char)\n",
    "                total_price += letter_prices[letters]\n",
    "                \n",
    "                retest = \"\"\n",
    "                for one_char in test_list:\n",
    "                    retest += one_char\n",
    "                test = retest\n",
    "            except ValueError as e:\n",
    "                #print(f\"ValueError: {e}\")\n",
    "                if test_list != []:\n",
    "                    return -1.0\n",
    "                \n",
    "                retest = \"\"\n",
    "                for one_char in test_list:\n",
    "                    retest += one_char\n",
    "                test = retest\n",
    "    \n",
    "    #assuming no free letters\n",
    "    if 0 == int(total_price): \n",
    "        return -1\n",
    "    return total_price"
   ]
  },
  {
   "cell_type": "raw",
   "metadata": {},
   "source": [
    "your_company_name: \"aabc\"\n",
    "other_company_names:\n",
    "[\"ab\", \n",
    " \"ac\", \n",
    " \"ad\"]\n",
    "other_company_prices: [10, 100, 1000]\n",
    "\n"
   ]
  },
  {
   "cell_type": "raw",
   "metadata": {},
   "source": [
    "your_company_name: \"a\"\n",
    "other_company_names: [\"abcdefgh\"]\n",
    "other_company_prices: [10]"
   ]
  },
  {
   "cell_type": "raw",
   "metadata": {},
   "source": [
    "your_company_name: \"bc\"\n",
    "other_company_names:\n",
    "[\"aa\", \n",
    " \"ab\", \n",
    " \"bb\", \n",
    " \"ac\", \n",
    " \"cc\"]\n",
    "other_company_prices: [2, 3, 4, 4, 6]"
   ]
  },
  {
   "cell_type": "code",
   "execution_count": null,
   "metadata": {},
   "outputs": [],
   "source": []
  }
 ],
 "metadata": {
  "kernelspec": {
   "display_name": "Python 3",
   "language": "python",
   "name": "python3"
  },
  "language_info": {
   "codemirror_mode": {
    "name": "ipython",
    "version": 3
   },
   "file_extension": ".py",
   "mimetype": "text/x-python",
   "name": "python",
   "nbconvert_exporter": "python",
   "pygments_lexer": "ipython3",
   "version": "3.7.6"
  }
 },
 "nbformat": 4,
 "nbformat_minor": 4
}
