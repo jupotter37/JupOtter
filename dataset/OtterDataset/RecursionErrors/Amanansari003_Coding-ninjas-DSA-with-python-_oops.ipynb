{
 "cells": [
  {
   "cell_type": "code",
   "execution_count": null,
   "metadata": {},
   "outputs": [
    {
     "name": "stdout",
     "output_type": "stream",
     "text": [
      "100.0\n"
     ]
    }
   ],
   "source": [
    "class ExpenseTracker:\n",
    "    #class attribute\n",
    "    expense_version_tracker=0.1\n",
    "    def __init__(self,track_category,original_balance,budget):\n",
    "        #instance/object Attributes\n",
    "        self.tracking_category=track_category\n",
    "        self.original_balance=original_balance\n",
    "        self.tracker_budget=budget\n",
    "        #instance method\n",
    "    def get_original_balance(self):\n",
    "        return self.original_balance\n",
    "    def check_balance(self,limit=1000):\n",
    "        if self.tracker_budget>=limit:\n",
    "            return True\n",
    "        else:\n",
    "            return \"Your opening balance is less than limit\"\n",
    "    @staticmethod\n",
    "    def convert_amount(amount):\n",
    "            return float(amount)\n",
    "    @classmethod\n",
    "    def get_attributes_fromstring(cls,diary_entry:str):\n",
    "        tracking_category,opening_balance,tracker_budget=diary_entry.split(\" \")\n",
    "        return ExpenseTracker(tracking_category.capitalize(),\n",
    "                             cls.convert_amount(opening_balance),\n",
    "                             cls.convert_amount(tracker_budget))\n",
    "ClassObject=ExpenseTracker.get_attributes_fromstring(\"shopping 100 5000\")\n",
    "ClassObject.__dict__\n",
    "print(ClassObject.original_balance)   "
   ]
  },
  {
   "cell_type": "code",
   "execution_count": null,
   "metadata": {},
   "outputs": [
    {
     "name": "stdout",
     "output_type": "stream",
     "text": [
      "shopping\n",
      "work\n",
      "0.9\n",
      "10\n",
      "0.9\n",
      "100\n",
      "245\n",
      "True\n",
      "245\n"
     ]
    },
    {
     "data": {
      "text/plain": [
       "1000.0"
      ]
     },
     "execution_count": 49,
     "metadata": {},
     "output_type": "execute_result"
    }
   ],
   "source": [
    "class expensis :\n",
    "    # class variable \n",
    "    version = 0.9    # does't change for the all \n",
    "\n",
    "    # constructor use to inialize the objects methods in the class \n",
    "    def __init__(self, track_catogry, original_balance , budget) :\n",
    "        self.track_catogry = track_catogry\n",
    "        self.original_balance = original_balance\n",
    "        self.budget = budget \n",
    "        \n",
    "\n",
    "    # instance method which can even change the value of the instance \n",
    "    def balance(self):                                          # instance method can even modify the attribute of the instance \n",
    "        return self.original_balance                            # by assigning the value to the instance attribute \n",
    "    def check_balane(self,limit= 1000) :\n",
    "        if self.budget>=  1000 :\n",
    "            return True \n",
    "        else : \n",
    "            return False\n",
    "    def modify_balance( self,):\n",
    "        self.original_balance = 245\n",
    "\n",
    "    # static method \n",
    "    @staticmethod \n",
    "    def convert(ammount) :\n",
    "        return float(ammount)\n",
    "\n",
    "obj1 = expensis('shopping',100, 5000)\n",
    "obj2 = expensis('work',1000 ,400)\n",
    "\n",
    "print(obj1.track_catogry)\n",
    "print(obj2.track_catogry)\n",
    "print(obj1.version)\n",
    "obj1.version = 10\n",
    "print(obj1.version)\n",
    "print(obj2.version)\n",
    "# expensis.col = classmethod(expensis.col)\n",
    "# expensis.col()\n",
    "# obj1.balance()\n",
    "print(obj1.original_balance)\n",
    "\n",
    "obj1.modify_balance()                       # modify or changed the value of the its intance  \n",
    "print(obj1.original_balance)\n",
    "print(obj1.check_balane())\n",
    "print(obj1.balance())\n",
    "\n",
    "obj2.balance()                             # did't modify because we did not call the function to change the value so the instance \n",
    "obj2.original_balance                       # value will be the same \n",
    "obj1.version        \n",
    "obj2.version \n",
    "obj2.convert(obj2.original_balance)\n"
   ]
  },
  {
   "cell_type": "markdown",
   "metadata": {},
   "source": [
    "### private and public modifiers"
   ]
  },
  {
   "cell_type": "code",
   "execution_count": null,
   "metadata": {},
   "outputs": [
    {
     "data": {
      "text/plain": [
       "0"
      ]
     },
     "execution_count": 6,
     "metadata": {},
     "output_type": "execute_result"
    }
   ],
   "source": [
    "class ExpenseTracker:\n",
    "    #class attribute\n",
    "    expense_version_tracker=0.1\n",
    "    def __init__(self,track_category,original_balance,budget):\n",
    "        #instance/object Attributes\n",
    "\n",
    "        # public modifier \n",
    "        self.tracking_category=track_category\n",
    "\n",
    "        ## provate modifier \n",
    "\n",
    "        self.__original_balance=original_balance\n",
    "        self.__tracker_budget=budget\n",
    "        #instance method\n",
    "    def __get_original_balance(self):\n",
    "        return self.__original_balance\n",
    "    def check_balance(self,limit=1000):\n",
    "        if self.__tracker_budget>=limit:\n",
    "            return True\n",
    "        else:\n",
    "            return \"Your opening balance is less than limit\"\n",
    "    @staticmethod\n",
    "    def convert_amount(amount):\n",
    "            return float(amount)\n",
    "    @classmethod\n",
    "    def get_attributes_fromstring(cls,diary_entry:str):\n",
    "        tracking_category,opening_balance,tracker_budget=diary_entry.split(\" \")\n",
    "        return ExpenseTracker(tracking_category.capitalize(),\n",
    "                             cls.convert_amount(opening_balance),\n",
    "                             cls.convert_amount(tracker_budget))\n",
    "home = ExpenseTracker('shopping', 0, 100)\n",
    "# home.__original_balance     will through an error \n",
    "home.__dict__\n",
    "home._ExpenseTracker__original_balance  # private method are only accessable by using the class name with the __ attribute or the method name \n",
    "\n",
    "home._ExpenseTracker__get_original_balance()"
   ]
  },
  {
   "cell_type": "markdown",
   "metadata": {},
   "source": [
    "### inharitance "
   ]
  },
  {
   "cell_type": "code",
   "execution_count": null,
   "metadata": {},
   "outputs": [
    {
     "name": "stdout",
     "output_type": "stream",
     "text": [
      "Tesla  2019  Electric\n"
     ]
    }
   ],
   "source": [
    "# Parent Class\n",
    "class Vehicle():\n",
    "    def __init__(self,make,model,fuel):\n",
    "        self.make=make\n",
    "        self.model=model\n",
    "        self.fuel=fuel\n",
    "\n",
    "# Child Class\n",
    "class Car(Vehicle):\n",
    "    def __init__(self,make,model,fuel,air_conditioning,sunroof):\n",
    "        # Parent Attributes\n",
    "        Vehicle.make=make\n",
    "        Vehicle.model=model\n",
    "        Vehicle.fuel=fuel\n",
    "        self.air_conditioning=air_conditioning\n",
    "        self.sunroof=sunroof\n",
    "    def parent_attribute(self) :\n",
    "        print(self.make,'',self.model, '', self.fuel)\n",
    "myobj=Car(\"Tesla\",2019,\"Electric\",True,True)\n",
    "myobj.__dict__ \n",
    "myobj.parent_attribute()\n"
   ]
  },
  {
   "cell_type": "code",
   "execution_count": null,
   "metadata": {},
   "outputs": [
    {
     "name": "stdout",
     "output_type": "stream",
     "text": [
      "black\n"
     ]
    }
   ],
   "source": [
    "class Vehicle:\n",
    "     def __init__(self,color):\n",
    "         self.color = color\n",
    "class Car(Vehicle):\n",
    "     def __init__(self,color,numGears):\n",
    "        # Vehicle.color = color    without thsi will through error \n",
    "        self.numGears = numGears\n",
    "c= Car('black',5)\n",
    "print(c.color)"
   ]
  },
  {
   "cell_type": "code",
   "execution_count": null,
   "metadata": {},
   "outputs": [
    {
     "name": "stdout",
     "output_type": "stream",
     "text": [
      "black\n"
     ]
    }
   ],
   "source": [
    "class Vehicle:\n",
    "    def __init__(self,color):\n",
    "        self.color = color\n",
    "class Car(Vehicle):\n",
    "    def __init__(self,color,numGears):\n",
    "        super().__init__(color)\n",
    "        self.numGears = numGears\n",
    "c= Car('black',5)\n",
    "print(c.color)"
   ]
  },
  {
   "cell_type": "markdown",
   "metadata": {},
   "source": [
    "accessing private method in the inharitance "
   ]
  },
  {
   "cell_type": "code",
   "execution_count": 3,
   "metadata": {},
   "outputs": [
    {
     "name": "stdout",
     "output_type": "stream",
     "text": [
      "Tesla   2019   Electric\n",
      "None\n",
      "2018\n",
      "This is private\n"
     ]
    }
   ],
   "source": [
    "# Parent Class\n",
    "class Vehicle():\n",
    "    def __init__(self,make,model,fuel):\n",
    "        self.make=make\n",
    "        self.__model=model\n",
    "        self.__fuel=fuel\n",
    "    def __private_method_parent(self):\n",
    "        print(\"This is private\")\n",
    "        \n",
    "\n",
    "# Child Class\n",
    "class Car(Vehicle):\n",
    "    def __init__(self,make,model,fuel,air_conditioning,sunroof):\n",
    "        # Parent Attributes\n",
    "        Vehicle.make=make\n",
    "        Vehicle.__model=model\n",
    "        Vehicle.__fuel=fuel\n",
    "        self.air_conditioning=air_conditioning\n",
    "        self.sunroof=sunroof\n",
    "    def __show_parent_attribute(self):\n",
    "        print(Vehicle.make,\" \",Vehicle.__model,\" \",Vehicle.__fuel)\n",
    "    def show_privatemethod_ofparent(self):\n",
    "        self._Vehicle__private_method_parent()\n",
    "\n",
    "myobj=Car(\"Tesla\",2019,\"Electric\",True,True)\n",
    "myobj2 = Vehicle('tesla',2018,\"electric\")\n",
    "myobj.__dict__\n",
    "print(myobj._Car__show_parent_attribute())\n",
    "\n",
    "# myobj.make\n",
    "# myobj.model\n",
    "\n",
    "print(myobj2._Vehicle__model) # can be access private element by using this from the parent class by creating the another object\n",
    "\n",
    "# myobj.__private_method_parent()\n",
    "myobj.show_privatemethod_ofparent()   # can acces the private method in inharitance by creating a public method in chile calss of the instance"
   ]
  },
  {
   "cell_type": "code",
   "execution_count": null,
   "metadata": {},
   "outputs": [
    {
     "name": "stdout",
     "output_type": "stream",
     "text": [
      "black 5\n"
     ]
    }
   ],
   "source": [
    "class Vehicle:\n",
    "     def __init__(self,color):\n",
    "         self.color = color\n",
    "class Car(Vehicle):\n",
    "    def __init__(self,color,numGears):\n",
    "        super().__init__(color)\n",
    "        self.numGears = numGears\n",
    "    def printCar(self):\n",
    "        print(self.color,end=\" \")\n",
    "        print(self.numGears)\n",
    "c = Car(\"black\",5)\n",
    "c.printCar()"
   ]
  },
  {
   "cell_type": "markdown",
   "metadata": {},
   "source": [
    "### super fuction "
   ]
  },
  {
   "cell_type": "code",
   "execution_count": null,
   "metadata": {},
   "outputs": [
    {
     "ename": "AttributeError",
     "evalue": "'Car' object has no attribute '_Vehicle'",
     "output_type": "error",
     "traceback": [
      "\u001b[1;31m---------------------------------------------------------------------------\u001b[0m",
      "\u001b[1;31mAttributeError\u001b[0m                            Traceback (most recent call last)",
      "\u001b[1;32m~\\AppData\\Local\\Temp/ipykernel_2480/2510678767.py\u001b[0m in \u001b[0;36m<module>\u001b[1;34m\u001b[0m\n\u001b[0;32m     18\u001b[0m \u001b[0mobj\u001b[0m \u001b[1;33m=\u001b[0m \u001b[0mCar\u001b[0m\u001b[1;33m(\u001b[0m\u001b[1;34m\"tesla\"\u001b[0m\u001b[1;33m,\u001b[0m\u001b[1;36m2019\u001b[0m\u001b[1;33m,\u001b[0m\u001b[1;34m\"electric\"\u001b[0m\u001b[1;33m,\u001b[0m\u001b[1;32mTrue\u001b[0m\u001b[1;33m,\u001b[0m\u001b[1;32mTrue\u001b[0m\u001b[1;33m)\u001b[0m\u001b[1;33m\u001b[0m\u001b[1;33m\u001b[0m\u001b[0m\n\u001b[0;32m     19\u001b[0m \u001b[0mobj\u001b[0m\u001b[1;33m.\u001b[0m\u001b[0m__dict__\u001b[0m\u001b[1;33m\u001b[0m\u001b[1;33m\u001b[0m\u001b[0m\n\u001b[1;32m---> 20\u001b[1;33m \u001b[0mobj\u001b[0m\u001b[1;33m.\u001b[0m\u001b[0mmai\u001b[0m\u001b[1;33m(\u001b[0m\u001b[1;33m)\u001b[0m\u001b[1;33m\u001b[0m\u001b[1;33m\u001b[0m\u001b[0m\n\u001b[0m\u001b[0;32m     21\u001b[0m \u001b[1;33m\u001b[0m\u001b[0m\n\u001b[0;32m     22\u001b[0m \u001b[1;33m\u001b[0m\u001b[0m\n",
      "\u001b[1;32m~\\AppData\\Local\\Temp/ipykernel_2480/2510678767.py\u001b[0m in \u001b[0;36mmai\u001b[1;34m(self)\u001b[0m\n\u001b[0;32m     14\u001b[0m         \u001b[0mself\u001b[0m\u001b[1;33m.\u001b[0m\u001b[0msunroof\u001b[0m \u001b[1;33m=\u001b[0m \u001b[0msunroof\u001b[0m\u001b[1;33m\u001b[0m\u001b[1;33m\u001b[0m\u001b[0m\n\u001b[0;32m     15\u001b[0m     \u001b[1;32mdef\u001b[0m \u001b[0mmai\u001b[0m\u001b[1;33m(\u001b[0m\u001b[0mself\u001b[0m\u001b[1;33m)\u001b[0m\u001b[1;33m:\u001b[0m\u001b[1;33m\u001b[0m\u001b[1;33m\u001b[0m\u001b[0m\n\u001b[1;32m---> 16\u001b[1;33m         \u001b[1;32mreturn\u001b[0m \u001b[0mself\u001b[0m\u001b[1;33m.\u001b[0m\u001b[0m_Vehicle\u001b[0m\u001b[1;33m.\u001b[0m\u001b[0m__model\u001b[0m\u001b[1;33m,\u001b[0m\u001b[1;34m\" \"\u001b[0m\u001b[1;33m,\u001b[0m\u001b[0mself\u001b[0m\u001b[1;33m.\u001b[0m\u001b[0msunroof\u001b[0m\u001b[1;33m\u001b[0m\u001b[1;33m\u001b[0m\u001b[0m\n\u001b[0m\u001b[0;32m     17\u001b[0m \u001b[1;33m\u001b[0m\u001b[0m\n\u001b[0;32m     18\u001b[0m \u001b[0mobj\u001b[0m \u001b[1;33m=\u001b[0m \u001b[0mCar\u001b[0m\u001b[1;33m(\u001b[0m\u001b[1;34m\"tesla\"\u001b[0m\u001b[1;33m,\u001b[0m\u001b[1;36m2019\u001b[0m\u001b[1;33m,\u001b[0m\u001b[1;34m\"electric\"\u001b[0m\u001b[1;33m,\u001b[0m\u001b[1;32mTrue\u001b[0m\u001b[1;33m,\u001b[0m\u001b[1;32mTrue\u001b[0m\u001b[1;33m)\u001b[0m\u001b[1;33m\u001b[0m\u001b[1;33m\u001b[0m\u001b[0m\n",
      "\u001b[1;31mAttributeError\u001b[0m: 'Car' object has no attribute '_Vehicle'"
     ]
    }
   ],
   "source": [
    "class Vehicle:\n",
    "    def __init__(self, make, model ,fuel) :\n",
    "        self.make = make \n",
    "        self.__model = model\n",
    "        self.fuel = fuel \n",
    "    ## private method \n",
    "    def ___private_method_parent(self):\n",
    "        print(\"This is the private method\")\n",
    "\n",
    "class Car(Vehicle) :\n",
    "    def __init__ (self, make, model, fuel,air_condition, sunroof):\n",
    "        super(Car,self).__init__(make,model,fuel) \n",
    "        self.air_condition = air_condition\n",
    "        self.sunroof = sunroof\n",
    "    def mai(self):\n",
    "        return self._Vehicle.__model,\" \",self.sunroof\n",
    "\n",
    "obj = Car(\"tesla\",2019,\"electric\",True,True)\n",
    "obj.__dict__\n",
    "obj.mai()\n",
    "\n",
    "        "
   ]
  },
  {
   "cell_type": "code",
   "execution_count": null,
   "metadata": {},
   "outputs": [
    {
     "data": {
      "text/plain": [
       "'khalid'"
      ]
     },
     "execution_count": 41,
     "metadata": {},
     "output_type": "execute_result"
    }
   ],
   "source": [
    "class A :\n",
    "    def __init__(self,aman,ansari):\n",
    "        self.aman = aman\n",
    "        self.ansari = ansari\n",
    "class B(A) :\n",
    "    def __init__(self,aman,ansari,khalid):\n",
    "        super(B,self).__init__(aman,ansari)\n",
    "        self.khalid = khalid\n",
    "obj = B(\"aman\",\"ansari\",\"khalid\")\n",
    "obj.aman\n",
    "obj.khalid "
   ]
  },
  {
   "cell_type": "markdown",
   "metadata": {},
   "source": [
    "### instance attribute of the parent class is not accessable in the child class without using the super function or class declaration "
   ]
  },
  {
   "cell_type": "code",
   "execution_count": 96,
   "metadata": {},
   "outputs": [
    {
     "data": {
      "text/plain": [
       "(10, 'aman')"
      ]
     },
     "execution_count": 96,
     "metadata": {},
     "output_type": "execute_result"
    }
   ],
   "source": [
    "class A :\n",
    "    def __init__(self,aman,ansari):\n",
    "        self.aman = aman\n",
    "        self.ansari = ansari\n",
    "    def mail(self):\n",
    "        return 10\n",
    "class B(A) :\n",
    "    def __init__(self,khalid):\n",
    "        self.khalid = khalid\n",
    "    def ar (self):\n",
    "        return self.mail(),\"aman\"\n",
    "\n",
    "obj = B(\"khalid\")\n",
    "# obj.aman   ### instance attribute can not be acceces without the classe delclaration or using super fuction \n",
    "obj.ar()\n"
   ]
  },
  {
   "cell_type": "markdown",
   "metadata": {},
   "source": [
    "# polymorphism or method overriding "
   ]
  },
  {
   "cell_type": "code",
   "execution_count": null,
   "metadata": {},
   "outputs": [
    {
     "data": {
      "text/plain": [
       "20"
      ]
     },
     "execution_count": 57,
     "metadata": {},
     "output_type": "execute_result"
    }
   ],
   "source": [
    "class A :\n",
    "    number = 10 \n",
    "    def get_value(self) :\n",
    "        a = A.number + 15\n",
    "        return a \n",
    "class B(A) :\n",
    "    def get_value (self):\n",
    "        A.number = 20 \n",
    "        a = A.number + 15 \n",
    "        return a \n",
    "obj1 = A() \n",
    "obj1.get_value()\n",
    "obj1.number \n",
    "obj2 = B()\n",
    "obj2.get_value()\n",
    "obj1.number "
   ]
  },
  {
   "cell_type": "code",
   "execution_count": null,
   "metadata": {},
   "outputs": [
    {
     "name": "stdout",
     "output_type": "stream",
     "text": [
      "This is child override method\n"
     ]
    },
    {
     "data": {
      "text/plain": [
       "5000"
      ]
     },
     "execution_count": 67,
     "metadata": {},
     "output_type": "execute_result"
    }
   ],
   "source": [
    "class Vehicle():\n",
    "    current_year=2021\n",
    "    base_price=1000\n",
    "    \n",
    "    def __init__(self,make,model,fuel):\n",
    "        self.make=make\n",
    "        self.__model=model\n",
    "        self.__fuel=fuel\n",
    "    def __private_method_parent(self):\n",
    "        print(\"This is private\")\n",
    "    def get_value(self):\n",
    "        age=Vehicle.current_year-self.__model\n",
    "        return Vehicle.base_price*(1/age)\n",
    "# Child Class\n",
    "class Car(Vehicle):\n",
    "    def __init__(self,make,model,fuel,air_conditioning,sunroof):\n",
    "        super(Car,self).__init__(make,model,fuel)\n",
    "        self.air_conditioning=air_conditioning\n",
    "        self.sunroof=sunroof\n",
    "    def get_value(self):\n",
    "        Vehicle.base_price=5000\n",
    "        age=Vehicle.current_year-self._Vehicle__model\n",
    "        print(\"This is child override method\")\n",
    "        return Vehicle.base_price*(1/age)\n",
    "    \n",
    "myobj=Car(\"Tesla\",2019,\"Electric\",True,True)\n",
    "# myobj.__dict__\n",
    "# myobj.get_value()\n",
    "# myobj._Vehicle__private_method_parent()\n",
    "myparentobj=Vehicle(\"Ford\",2018,\"petrol\")\n",
    "myparentobj.get_value()\n",
    "myparentobj.base_price\n",
    "myobj.get_value()\n",
    "myobj.base_price\n",
    "myparentobj.base_price\n"
   ]
  },
  {
   "cell_type": "markdown",
   "metadata": {},
   "source": [
    "### protected member "
   ]
  },
  {
   "cell_type": "code",
   "execution_count": null,
   "metadata": {},
   "outputs": [
    {
     "name": "stdout",
     "output_type": "stream",
     "text": [
      "This is child override method\n"
     ]
    },
    {
     "data": {
      "text/plain": [
       "2500.0"
      ]
     },
     "execution_count": 68,
     "metadata": {},
     "output_type": "execute_result"
    }
   ],
   "source": [
    "# Parent Class\n",
    "class Vehicle():\n",
    "    current_year=2021\n",
    "    base_price=1000\n",
    "    \n",
    "    def __init__(self,make,model,fuel):\n",
    "        self.make=make\n",
    "        #Protected Attributes\n",
    "        self._model=model\n",
    "        self._fuel=fuel\n",
    "    \n",
    "    def _get_value(self):\n",
    "        age=Vehicle.current_year-self.model\n",
    "        print(\"This is default method of parent\")\n",
    "        return Vehicle.base_price*(1/age)\n",
    "\n",
    "# Child Class\n",
    "class Car(Vehicle):\n",
    "    def __init__(self,make,model,fuel,air_conditioning,sunroof):\n",
    "        super(Car,self).__init__(make,model,fuel)\n",
    "        #protected\n",
    "        self._air_conditioning=air_conditioning\n",
    "        self._sunroof=sunroof\n",
    "    #Overriding Method --> replaces the parent default method\n",
    "    #Protected Method\n",
    "    def _get_value(self):\n",
    "        Vehicle.base_price=5000\n",
    "        age=Vehicle.current_year-self._model\n",
    "        print(\"This is child override method\")\n",
    "        return Vehicle.base_price*(1/age)\n",
    "\n",
    "myObj=Car(\"Tesla\",2019,\"Electric\",True,True)\n",
    "\n",
    "myObj._air_conditioning\n",
    "\n",
    "myObj._sunroof\n",
    "\n",
    "myObj._get_value()"
   ]
  },
  {
   "cell_type": "markdown",
   "metadata": {},
   "source": [
    "### multiple level inharitance "
   ]
  },
  {
   "cell_type": "code",
   "execution_count": null,
   "metadata": {},
   "outputs": [],
   "source": [
    "class Vehicle :\n",
    "    def __init__ (self,make , model,fuel) :\n",
    "        self.make = make \n",
    "        self.model = model \n",
    "        self.fuel = fuel \n",
    "\n",
    "class Car(Vehicle):\n",
    "    def __init__ (self, make , model,fuel,air_condition,sunroof):\n",
    "        super(Car,self).__init__(make , model,fuel)\n",
    "        self.__air_condition = air_condition\n",
    "        self.sunroof = sunroof \n",
    "class ElectricVehichle (Car) :\n",
    "    def __init__(self, make , model,fuel,air_condition,sunroof,distance) :\n",
    "        super(ElectricVehichle,self).__init__(make , model,fuel,air_condition,sunroof) \n",
    "        self.distance = distance \n",
    "\n",
    "obj = ElectricVehichle (\"tesla\",2019,\"electric\",True,True,500)\n",
    "# obj._Car__air_condition\n"
   ]
  },
  {
   "cell_type": "markdown",
   "metadata": {},
   "source": [
    "### method resolution order "
   ]
  },
  {
   "cell_type": "code",
   "execution_count": 91,
   "metadata": {},
   "outputs": [
    {
     "data": {
      "text/plain": [
       "(400, 'Electric')"
      ]
     },
     "execution_count": 91,
     "metadata": {},
     "output_type": "execute_result"
    }
   ],
   "source": [
    "class Car :\n",
    "    def __init__(self, make, model , fuel):\n",
    "        self.make = make \n",
    "        self.model = model \n",
    "        self.__fuel = fuel \n",
    "    def get_value(self):\n",
    "        return \"the value is from the Car class\"\n",
    "\n",
    "class Vehicle:\n",
    "    def __init__(self,make, model, fuel):\n",
    "        self.make = make \n",
    "        self.model = model \n",
    "        self.fuel = fuel \n",
    "    def get_value(self):\n",
    "        return \"the value is from the Vehical class \"\n",
    "\n",
    "class Texi(Car,Vehicle):\n",
    "    def __init__(self,make,model,fuel,distance):\n",
    "        super().__init__(make,model, fuel)\n",
    "        self.distance = distance \n",
    "    def sp(self):\n",
    "        return self.distance, self._Car__fuel\n",
    "\n",
    "myobj = Texi(\"Tesla\",2019,\"Electric\",400)\n",
    "myobj.__dict__\n",
    "# myobj.distance\n",
    "myobj.sp()\n",
    "\n",
    "\n"
   ]
  },
  {
   "cell_type": "code",
   "execution_count": 90,
   "metadata": {},
   "outputs": [
    {
     "data": {
      "text/plain": [
       "2019"
      ]
     },
     "execution_count": 90,
     "metadata": {},
     "output_type": "execute_result"
    }
   ],
   "source": [
    "class Vehicle :\n",
    "    def __init__ (self,make , model,fuel) :\n",
    "        self.make = make \n",
    "        self.__model = model \n",
    "        self.fuel = fuel \n",
    "    def __get_value (sef):\n",
    "        return \"the value is from the  Vehicale class\"\n",
    "\n",
    "class Car():\n",
    "    def __init__ (self, make , model,fuel,air_condition,sunroof):\n",
    "        super(Car,self).__init__(make , model,fuel)\n",
    "        self.__air_condition = air_condition\n",
    "        self.sunroof = sunroof \n",
    "    def get_value (self):\n",
    "        return \"the value is from the Car class\"\n",
    "class ElectricVehichle (Vehicle,Car) :\n",
    "    def __init__(self, make , model,fuel,air_condition,sunroof,distance) :\n",
    "        super(ElectricVehichle,self).__init__(make , model,fuel) \n",
    "        self.distance = distance \n",
    "    def sp (self):\n",
    "        return self.__model\n",
    "\n",
    "obj = ElectricVehichle (\"tesla\",2019,\"electric\",True,True,500)\n",
    "obj._Vehicle__model\n"
   ]
  },
  {
   "cell_type": "code",
   "execution_count": null,
   "metadata": {},
   "outputs": [
    {
     "ename": "",
     "evalue": "",
     "output_type": "error",
     "traceback": [
      "\u001b[1;31mThe file 'DSA\\random.py' seems to be overriding built in modules and interfering with the startup of the kernel. Consider renaming the file and starting the kernel again..\n",
      "Click <a href='https://aka.ms/kernelFailuresOverridingBuiltInModules'>here</a> for more info."
     ]
    }
   ],
   "source": [
    "class parent():\n",
    "    def __init__(self,make,model,fuel):\n",
    "        self.make = make \n",
    "        self.model = model \n",
    "        self.__fuel = fuel \n",
    "\n",
    "class Car :\n",
    "    def __init__(self,make,model,fuel):\n",
    "        self.make = make \n",
    "        self.model = model \n",
    "        self.fuel = fuel\n",
    "\n",
    "class Texi(parent,B):\n",
    "    def __init__(self,make,model,fuel,distance) :\n",
    "        super().__init__(make,model,fuel)\n",
    "        self.distance = distance\n",
    "    def sp(self):\n",
    "        return self._parent__fuel\n",
    "\n",
    "c = Texi('Tesla',2019,\"elec\",900)\n",
    "c.sp()"
   ]
  },
  {
   "cell_type": "code",
   "execution_count": 92,
   "metadata": {},
   "outputs": [
    {
     "data": {
      "text/plain": [
       "'electric'"
      ]
     },
     "execution_count": 92,
     "metadata": {},
     "output_type": "execute_result"
    }
   ],
   "source": [
    "class Parent :\n",
    "    def __init__(self,make,model,fuel):\n",
    "        self.make = make \n",
    "        self.model = model \n",
    "        self.__fuel = fuel \n",
    "    def __get_value(self):\n",
    "        return \"The value is from the Vehicle\"\n",
    "class Car:\n",
    "    def __init__(self,make,model,fuel):\n",
    "        self.make = make \n",
    "        self.model = model \n",
    "        self.fuel = fuel\n",
    "    def get_value(self):\n",
    "        return \"The value is from the Car\"\n",
    "class Texi (Parent,Car):\n",
    "    def __init__(self,make,model,fuel,distance):\n",
    "        super().__init__(make,model,fuel)\n",
    "        self.distance = distance \n",
    "\n",
    "    def sp(self):\n",
    "        return  self._Parent__fuel\n",
    "\n",
    "obj = Texi(\"tesla\",2019,\"electric\", 800)\n",
    "\n",
    "obj.__dict__\n",
    "# obj._Vehicle__get_value()\n",
    "obj.sp()\n"
   ]
  },
  {
   "cell_type": "markdown",
   "metadata": {},
   "source": [
    "### operator overloading "
   ]
  },
  {
   "cell_type": "code",
   "execution_count": null,
   "metadata": {},
   "outputs": [
    {
     "ename": "",
     "evalue": "",
     "output_type": "error",
     "traceback": [
      "\u001b[1;31mThe file 'DSA\\random.py' seems to be overriding built in modules and interfering with the startup of the kernel. Consider renaming the file and starting the kernel again..\n",
      "Click <a href='https://aka.ms/kernelFailuresOverridingBuiltInModules'>here</a> for more info."
     ]
    }
   ],
   "source": [
    "class Vehicle:\n",
    "    def __init__( self, make, model, fare):\n",
    "        self.make = make \n",
    "        self.model = model \n",
    "        self.fare = fare \n",
    "    def __str__(self):\n",
    "        return \"the model of the care is {} and the maker is {} as well as the fare of the car is {} R/M\".format(self.model,self.make,self.fare)\n",
    "    def __add__(self,other) :\n",
    "        return self.fare + other.fare \n",
    "obj = Vehicle(\"tesla\",2022,40)\n",
    "obj2 = Vehicle(\"Ford\",2018,80)\n",
    "print(obj+obj2)\n"
   ]
  },
  {
   "cell_type": "code",
   "execution_count": null,
   "metadata": {},
   "outputs": [
    {
     "ename": "",
     "evalue": "",
     "output_type": "error",
     "traceback": [
      "\u001b[1;31mFailed to start the Kernel. \n",
      "RecursionError: maximum recursion depth exceeded. \n",
      "View Jupyter <a href='command:jupyter.viewOutput'>log</a> for further details."
     ]
    }
   ],
   "source": [
    "class X:\n",
    "     pass\n",
    "\n",
    "class Y:\n",
    "     pass\n",
    "class Z:\n",
    "    pass\n",
    "class A(X,Y):\n",
    "    pass\n",
    "class B(Y,Z):\n",
    "    pass\n",
    "class C(B,A,Y):\n",
    "    pass\n",
    "\n",
    "an = C()\n",
    "an.mro()"
   ]
  }
 ],
 "metadata": {
  "kernelspec": {
   "display_name": "Python 3.10.0 64-bit",
   "language": "python",
   "name": "python3"
  },
  "language_info": {
   "codemirror_mode": {
    "name": "ipython",
    "version": 3
   },
   "file_extension": ".py",
   "mimetype": "text/x-python",
   "name": "python",
   "nbconvert_exporter": "python",
   "pygments_lexer": "ipython3",
   "version": "3.10.7"
  },
  "orig_nbformat": 4,
  "vscode": {
   "interpreter": {
    "hash": "6b6bb9b73e77c7418ba4b370821ce9827db27c53033f41f9ef34f697bab06e5b"
   }
  }
 },
 "nbformat": 4,
 "nbformat_minor": 2
}
