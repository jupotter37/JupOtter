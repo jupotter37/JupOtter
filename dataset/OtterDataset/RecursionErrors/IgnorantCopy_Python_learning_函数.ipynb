{
 "cells": [
  {
   "cell_type": "markdown",
   "metadata": {},
   "source": [
    "### pow函数"
   ]
  },
  {
   "cell_type": "code",
   "execution_count": 1,
   "metadata": {},
   "outputs": [
    {
     "data": {
      "text/plain": [
       "32"
      ]
     },
     "execution_count": 1,
     "metadata": {},
     "output_type": "execute_result"
    }
   ],
   "source": [
    "# pow(x,y)表示x的y次幂\n",
    "pow(2, 5)"
   ]
  },
  {
   "cell_type": "markdown",
   "metadata": {},
   "source": [
    "# 定义函数"
   ]
  },
  {
   "cell_type": "code",
   "execution_count": 8,
   "metadata": {},
   "outputs": [
    {
     "name": "stdout",
     "output_type": "stream",
     "text": [
      "4\n",
      "相等\n"
     ]
    }
   ],
   "source": [
    "# 下面的\"a\"\"b\"为形参\n",
    "def print_max(a, b):\n",
    "    if a < b:\n",
    "        print(b)\n",
    "    elif a == b:\n",
    "        print(\"相等\")\n",
    "    else:\n",
    "        print(a)\n",
    "\n",
    "\n",
    "# 下面的\"3\"\"4\"为实参\n",
    "print_max(3, 4)\n",
    "print_max(4, 4)"
   ]
  },
  {
   "cell_type": "code",
   "execution_count": 4,
   "metadata": {},
   "outputs": [
    {
     "name": "stdout",
     "output_type": "stream",
     "text": [
      "1\n"
     ]
    }
   ],
   "source": [
    "# 函数可看为变量\n",
    "def f(x):\n",
    "    print(x)\n",
    "\n",
    "\n",
    "f = 1  # 此时f覆盖了函数\n",
    "print(f)"
   ]
  },
  {
   "cell_type": "code",
   "execution_count": 5,
   "metadata": {},
   "outputs": [
    {
     "name": "stdout",
     "output_type": "stream",
     "text": [
      "hello\n"
     ]
    }
   ],
   "source": [
    "# 内置函数也可看为变量\n",
    "str = \"hello\"\n",
    "print(str)"
   ]
  },
  {
   "cell_type": "markdown",
   "metadata": {},
   "source": [
    "# 参数：向函数传递数据\n",
    "分为形参和实参（见上面）"
   ]
  },
  {
   "cell_type": "code",
   "execution_count": 5,
   "metadata": {},
   "outputs": [
    {
     "name": "stdout",
     "output_type": "stream",
     "text": [
      "5\n"
     ]
    }
   ],
   "source": [
    "def set1(x):\n",
    "    x = 1\n",
    "\n",
    "\n",
    "m = 5\n",
    "set1(m)\n",
    "print(m)"
   ]
  },
  {
   "cell_type": "markdown",
   "metadata": {},
   "source": [
    "## 默认参数：给参数指定默认值"
   ]
  },
  {
   "cell_type": "code",
   "execution_count": 7,
   "metadata": {},
   "outputs": [
    {
     "name": "stdout",
     "output_type": "stream",
     "text": [
      "hello Bob!\n",
      "Good morning! Bob!\n"
     ]
    }
   ],
   "source": [
    "def greet(name, greeting=\"hello\"):\n",
    "    # 定义函数时，默认参数不能在非默认参数的前面\n",
    "    print(greeting, name + \"!\")\n",
    "\n",
    "\n",
    "greet(\"Bob\")\n",
    "# 默认参数可以更改\n",
    "greet(\"Bob\", \"Good morning!\")"
   ]
  },
  {
   "cell_type": "markdown",
   "metadata": {},
   "source": [
    "## 关键参数：若传递了参数，使用传递的参数；反之，使用默认的值\n",
    "如：print函数里的end ；下文的b,c"
   ]
  },
  {
   "cell_type": "code",
   "execution_count": 1,
   "metadata": {
    "scrolled": true
   },
   "outputs": [
    {
     "name": "stdout",
     "output_type": "stream",
     "text": [
      "a is 3 b is 7 c is 10\n",
      "a is 25 b is 5 c is 19\n",
      "a is 100 b is 5 c is 50\n"
     ]
    }
   ],
   "source": [
    "def f(a, b=5, c=10):\n",
    "    print(\"a is\", a, \"b is\", b, \"c is\", c)\n",
    "\n",
    "\n",
    "f(3, 7)\n",
    "# 下面\"c=19\"\"a=100\"为关键参数\n",
    "f(25, c=19)\n",
    "# 关键参数的顺序无关紧要\n",
    "f(c=50, a=100)"
   ]
  },
  {
   "cell_type": "markdown",
   "metadata": {},
   "source": [
    "## 可变参数"
   ]
  },
  {
   "cell_type": "raw",
   "metadata": {},
   "source": [
    "*args==>可变位置参数；**kwargs==>可变关键参数"
   ]
  },
  {
   "cell_type": "code",
   "execution_count": 17,
   "metadata": {},
   "outputs": [
    {
     "name": "stdout",
     "output_type": "stream",
     "text": [
      "a=1,b=2,c=(3, 4, 5, 7, 9)\n"
     ]
    }
   ],
   "source": [
    "def f(a, b, *c):\n",
    "    print('a={},b={},c={}'.format(a, b, c))\n",
    "\n",
    "\n",
    "f(1, 2, 3, 4, 5, 7, 9)"
   ]
  },
  {
   "cell_type": "markdown",
   "metadata": {},
   "source": [
    "## 变量的作用域\n",
    "### 局部变量、全局变量"
   ]
  },
  {
   "cell_type": "markdown",
   "metadata": {},
   "source": [
    "#### global,访问全局变量"
   ]
  },
  {
   "cell_type": "code",
   "execution_count": 1,
   "metadata": {
    "ExecuteTime": {
     "end_time": "2024-02-16T04:35:59.305424600Z",
     "start_time": "2024-02-16T04:35:59.263769300Z"
    }
   },
   "outputs": [
    {
     "name": "stdout",
     "output_type": "stream",
     "text": [
      "Hello Mary!\n"
     ]
    }
   ],
   "source": [
    "# name为全局变量\n",
    "name = \"Jack\"\n",
    "\n",
    "\n",
    "def sayhello():\n",
    "    print(\"Hello\", name + \"!\")\n",
    "\n",
    "\n",
    "# newname为局部变量\n",
    "def change_name(newname):\n",
    "    global name\n",
    "    name = newname\n",
    "\n",
    "\n",
    "change_name(\"Mary\")\n",
    "sayhello()"
   ]
  },
  {
   "cell_type": "code",
   "execution_count": 4,
   "metadata": {},
   "outputs": [
    {
     "name": "stdout",
     "output_type": "stream",
     "text": [
      "a is 4\n",
      "b is 3\n",
      "S is 12\n"
     ]
    }
   ],
   "source": [
    "# 计算长方形面积\n",
    "def S():\n",
    "    a = random.randint(0, 10)\n",
    "    b = random.randint(0, 10)\n",
    "    print(\"a is\", a)\n",
    "    print(\"b is\", b)\n",
    "    print(\"S is\", a * b)\n",
    "\n",
    "\n",
    "S()"
   ]
  },
  {
   "cell_type": "code",
   "execution_count": 2,
   "metadata": {},
   "outputs": [
    {
     "name": "stdout",
     "output_type": "stream",
     "text": [
      "x is 50\n",
      "Change local x to 2\n",
      "x is still 50\n"
     ]
    }
   ],
   "source": [
    "def func(x):\n",
    "    print(\"x is\", x)\n",
    "    x = 2\n",
    "    print(\"Change local x to\", x)\n",
    "\n",
    "\n",
    "x = 50\n",
    "func(x)\n",
    "print(\"x is still\", x)"
   ]
  },
  {
   "cell_type": "code",
   "execution_count": 3,
   "metadata": {},
   "outputs": [
    {
     "name": "stdout",
     "output_type": "stream",
     "text": [
      "x is 50\n",
      "Change local x to 2\n",
      "x is still 2\n"
     ]
    }
   ],
   "source": [
    "def func():\n",
    "    global x\n",
    "    print(\"x is\", x)\n",
    "    x = 2\n",
    "    print(\"Change local x to\", x)\n",
    "\n",
    "\n",
    "x = 50\n",
    "func()\n",
    "print(\"x is still\", x)"
   ]
  },
  {
   "cell_type": "code",
   "execution_count": 25,
   "metadata": {},
   "outputs": [
    {
     "name": "stdout",
     "output_type": "stream",
     "text": [
      "sjtu3\n"
     ]
    }
   ],
   "source": [
    "def f():\n",
    "    print(name)\n",
    "\n",
    "\n",
    "name = \"sjtu3\"\n",
    "f()"
   ]
  },
  {
   "cell_type": "markdown",
   "metadata": {},
   "source": [
    "# 返回值"
   ]
  },
  {
   "cell_type": "code",
   "execution_count": 9,
   "metadata": {},
   "outputs": [
    {
     "name": "stdout",
     "output_type": "stream",
     "text": [
      "32\n"
     ]
    }
   ],
   "source": [
    "# pow函数有返回值\n",
    "a = pow(2, 5)\n",
    "print(a)"
   ]
  },
  {
   "cell_type": "code",
   "execution_count": 4,
   "metadata": {},
   "outputs": [
    {
     "name": "stdout",
     "output_type": "stream",
     "text": [
      "hello\n",
      "None\n"
     ]
    }
   ],
   "source": [
    "# print函数无返回值\n",
    "a = print(\"hello\")\n",
    "print(a)"
   ]
  },
  {
   "cell_type": "markdown",
   "metadata": {},
   "source": [
    "## return语句：在函数中返回一个值"
   ]
  },
  {
   "cell_type": "code",
   "execution_count": 13,
   "metadata": {},
   "outputs": [
    {
     "data": {
      "text/plain": [
       "10"
      ]
     },
     "execution_count": 13,
     "metadata": {},
     "output_type": "execute_result"
    }
   ],
   "source": [
    "def maximum(a, b):\n",
    "    if a < b:\n",
    "        return b\n",
    "    elif a == b:\n",
    "        print(\"相等\")\n",
    "    else:\n",
    "        return a\n",
    "\n",
    "\n",
    "maximum(10, 5)"
   ]
  },
  {
   "cell_type": "markdown",
   "metadata": {},
   "source": [
    "### 返回多个返回值\n",
    "finally"
   ]
  },
  {
   "cell_type": "code",
   "execution_count": 3,
   "metadata": {},
   "outputs": [
    {
     "name": "stdout",
     "output_type": "stream",
     "text": [
      "商是1,余数是0\n"
     ]
    }
   ],
   "source": [
    "def func(a, b):\n",
    "    x = a // b\n",
    "    y = a % b\n",
    "    #return[x,y]\n",
    "    #return{'x':x,'y':y}\n",
    "    #return(x,y)\n",
    "    return x, y  # 等同于元组\n",
    "\n",
    "\n",
    "x = func(2, 2)\n",
    "print('商是{},余数是{}'.format(x[0], x[1]))"
   ]
  },
  {
   "cell_type": "markdown",
   "metadata": {},
   "source": [
    "# 递归\n",
    "定义函数时调用自己"
   ]
  },
  {
   "cell_type": "code",
   "execution_count": 9,
   "metadata": {},
   "outputs": [
    {
     "name": "stdout",
     "output_type": "stream",
     "text": [
      "00000000000000000000000000000000000000000000000000000000000000000000000000000000000000000000000000000000000000000000000000000000000000000000000000000000000000000000000000000000000000000000000000000000000000000000000000000000000000000000000000000000000000000000000000000000000000000000000000000000000000000000000000000000000000000000000000000000000000000000000000000000000000000000000000000000000000000000000000000000000000000000000000000000000000000000000000000000000000000000000000000000000000000000000000000000000000000000000000000000000000000000000000000000000000000000000000000000000000000000000000000000000000000000000000000000000000000000000000000000000000000000000000000000000000000000000000000000000000000000000000000000000000000000000000000000000000000000000000000000000000000000000000000000000000000000000000000000000000000000000000000000000000000000000000000000000000000000000000000000000000000000000000000000000000000000000000000000000000000000000000000000000000000000000000000000000000000000000000000000000000000000000000000000000000000000000000000000000000000000000000000000000000000000000000000000000000000000000000000000000000000000000000000000000000000000000000000000000000000000000000000000000000000000000000000000000000000000000000000000000000000000000000000000000000000000000000000000000000000000000000000000000000000000000000000000000000000000000000000000000000000000000000000000000000000000000000000000000000000000000000000000000000000000000000000000000000000000000000000000000000000000000000000000000000000000000000000000000000000000000000000000000000000000000000000000000000000000000000000000000000000000000000000000000000000000000000000000000000000000000000000000000000000000000000000000000000000000000000000000000000000000000000000000000000000000000000000000000000000000000000000000000000000000000000000000000000000000000000000000000000000000000000000000000000000000000000000000000000000000000000000000000000000000000000000000000000000000000000000000000000000000000000000000000000000000000000000000000000000000000000000000000000000000000000000000000000000000000000000000000000000000000000000000000000000000000000000000000000000000000000000000000000000000000000000000000000000000000000000000000000000000000000000000000000000000000000000000000000000000000000000000000000000000000000000000000000000000000000000000000000000000000000000000000000000000000000000000000000000000000000000000000000000000000000000000000000000000000000000000000000000000000000000000000000000000000000000000000000000000000000000000000000000000000000000000000000000000000000000000000000000000000000000000000000000000000000000000000000000000000000000000000000000000000000000000000000000000000000000000000000000000000000000000000000000000000000000000000000000000000000000000000000000000000000000000000000000000000000000000000000000000000000000000000000000000000000000000000000000000000000000000000000000000000000000000000000000000000000000000000000000000000000"
     ]
    },
    {
     "ename": "RecursionError",
     "evalue": "maximum recursion depth exceeded while calling a Python object",
     "output_type": "error",
     "traceback": [
      "\u001B[1;31m---------------------------------------------------------------------------\u001B[0m",
      "\u001B[1;31mRecursionError\u001B[0m                            Traceback (most recent call last)",
      "\u001B[1;32m<ipython-input-9-d034d8444876>\u001B[0m in \u001B[0;36m<module>\u001B[1;34m\u001B[0m\n\u001B[0;32m      3\u001B[0m     \u001B[0mf\u001B[0m\u001B[1;33m(\u001B[0m\u001B[1;33m)\u001B[0m\u001B[1;33m\u001B[0m\u001B[1;33m\u001B[0m\u001B[0m\n\u001B[0;32m      4\u001B[0m \u001B[1;33m\u001B[0m\u001B[0m\n\u001B[1;32m----> 5\u001B[1;33m \u001B[0mf\u001B[0m\u001B[1;33m(\u001B[0m\u001B[1;33m)\u001B[0m\u001B[1;33m\u001B[0m\u001B[1;33m\u001B[0m\u001B[0m\n\u001B[0m",
      "\u001B[1;32m<ipython-input-9-d034d8444876>\u001B[0m in \u001B[0;36mf\u001B[1;34m()\u001B[0m\n\u001B[0;32m      1\u001B[0m \u001B[1;32mdef\u001B[0m \u001B[0mf\u001B[0m\u001B[1;33m(\u001B[0m\u001B[1;33m)\u001B[0m\u001B[1;33m:\u001B[0m\u001B[1;33m\u001B[0m\u001B[1;33m\u001B[0m\u001B[0m\n\u001B[0;32m      2\u001B[0m     \u001B[0mprint\u001B[0m\u001B[1;33m(\u001B[0m\u001B[1;36m0\u001B[0m\u001B[1;33m,\u001B[0m\u001B[0mend\u001B[0m\u001B[1;33m=\u001B[0m\u001B[1;34m''\u001B[0m\u001B[1;33m)\u001B[0m\u001B[1;33m\u001B[0m\u001B[1;33m\u001B[0m\u001B[0m\n\u001B[1;32m----> 3\u001B[1;33m     \u001B[0mf\u001B[0m\u001B[1;33m(\u001B[0m\u001B[1;33m)\u001B[0m\u001B[1;33m\u001B[0m\u001B[1;33m\u001B[0m\u001B[0m\n\u001B[0m\u001B[0;32m      4\u001B[0m \u001B[1;33m\u001B[0m\u001B[0m\n\u001B[0;32m      5\u001B[0m \u001B[0mf\u001B[0m\u001B[1;33m(\u001B[0m\u001B[1;33m)\u001B[0m\u001B[1;33m\u001B[0m\u001B[1;33m\u001B[0m\u001B[0m\n",
      "... last 1 frames repeated, from the frame below ...\n",
      "\u001B[1;32m<ipython-input-9-d034d8444876>\u001B[0m in \u001B[0;36mf\u001B[1;34m()\u001B[0m\n\u001B[0;32m      1\u001B[0m \u001B[1;32mdef\u001B[0m \u001B[0mf\u001B[0m\u001B[1;33m(\u001B[0m\u001B[1;33m)\u001B[0m\u001B[1;33m:\u001B[0m\u001B[1;33m\u001B[0m\u001B[1;33m\u001B[0m\u001B[0m\n\u001B[0;32m      2\u001B[0m     \u001B[0mprint\u001B[0m\u001B[1;33m(\u001B[0m\u001B[1;36m0\u001B[0m\u001B[1;33m,\u001B[0m\u001B[0mend\u001B[0m\u001B[1;33m=\u001B[0m\u001B[1;34m''\u001B[0m\u001B[1;33m)\u001B[0m\u001B[1;33m\u001B[0m\u001B[1;33m\u001B[0m\u001B[0m\n\u001B[1;32m----> 3\u001B[1;33m     \u001B[0mf\u001B[0m\u001B[1;33m(\u001B[0m\u001B[1;33m)\u001B[0m\u001B[1;33m\u001B[0m\u001B[1;33m\u001B[0m\u001B[0m\n\u001B[0m\u001B[0;32m      4\u001B[0m \u001B[1;33m\u001B[0m\u001B[0m\n\u001B[0;32m      5\u001B[0m \u001B[0mf\u001B[0m\u001B[1;33m(\u001B[0m\u001B[1;33m)\u001B[0m\u001B[1;33m\u001B[0m\u001B[1;33m\u001B[0m\u001B[0m\n",
      "\u001B[1;31mRecursionError\u001B[0m: maximum recursion depth exceeded while calling a Python object"
     ]
    }
   ],
   "source": [
    "def f():\n",
    "    print(0, end='')\n",
    "    f()\n",
    "\n",
    "\n",
    "f()  # print(0)至崩溃\n",
    "# 因此递归最重要的是找到停止的条件"
   ]
  },
  {
   "cell_type": "code",
   "execution_count": 10,
   "metadata": {},
   "outputs": [
    {
     "name": "stdout",
     "output_type": "stream",
     "text": [
      "0000000000"
     ]
    }
   ],
   "source": [
    "count = 0\n",
    "\n",
    "\n",
    "def f():\n",
    "    global count\n",
    "    count += 1\n",
    "    print(0, end='')\n",
    "    if count < 10:\n",
    "        f()\n",
    "\n",
    "\n",
    "f()"
   ]
  },
  {
   "cell_type": "code",
   "execution_count": 17,
   "metadata": {},
   "outputs": [
    {
     "data": {
      "text/plain": [
       "5050"
      ]
     },
     "execution_count": 17,
     "metadata": {},
     "output_type": "execute_result"
    }
   ],
   "source": [
    "# 求1-n的和\n",
    "a = 0\n",
    "\n",
    "\n",
    "def get_sum(n):\n",
    "    global a\n",
    "    a += n\n",
    "    if n > 0:\n",
    "        n -= 1\n",
    "        get_sum(n)\n",
    "    return a\n",
    "\n",
    "\n",
    "get_sum(100)"
   ]
  },
  {
   "cell_type": "markdown",
   "metadata": {},
   "source": [
    "## 练习"
   ]
  },
  {
   "cell_type": "code",
   "execution_count": 27,
   "metadata": {},
   "outputs": [
    {
     "data": {
      "text/plain": [
       "3628800"
      ]
     },
     "execution_count": 27,
     "metadata": {},
     "output_type": "execute_result"
    }
   ],
   "source": [
    "# 求x！\n",
    "def f(n):\n",
    "    if n == 0:\n",
    "        return 1\n",
    "    return n * f(n - 1)\n",
    "\n",
    "\n",
    "f(10)"
   ]
  },
  {
   "cell_type": "code",
   "execution_count": 28,
   "metadata": {},
   "outputs": [
    {
     "data": {
      "text/plain": [
       "5"
      ]
     },
     "execution_count": 28,
     "metadata": {},
     "output_type": "execute_result"
    }
   ],
   "source": [
    "# 求斐波那契数列\n",
    "def f(x):\n",
    "    if x == 1 or x == 2:\n",
    "        return 1\n",
    "    return f(x - 2) + f(x - 1)\n",
    "\n",
    "\n",
    "f(5)"
   ]
  },
  {
   "cell_type": "markdown",
   "metadata": {},
   "source": [
    "# 匿名函数\n",
    "用lambda定义一个函数,用于表达一个简单的函数，基本上就调用一次函数"
   ]
  },
  {
   "cell_type": "markdown",
   "source": [
    "调用方法：\n",
    "    1. 给其起个名字（很少这样使用）\n",
    "    2. 把这个函数当作参数传给另一个函数使用"
   ],
   "metadata": {
    "collapsed": false
   }
  },
  {
   "cell_type": "code",
   "execution_count": 29,
   "metadata": {},
   "outputs": [
    {
     "data": {
      "text/plain": [
       "<function __main__.<lambda>(a, b)>"
      ]
     },
     "execution_count": 29,
     "metadata": {},
     "output_type": "execute_result"
    }
   ],
   "source": [
    "lambda a, b: a + b\n",
    "# 相当于def add(a,b):\n",
    "#         return a+b"
   ]
  },
  {
   "cell_type": "code",
   "execution_count": 30,
   "metadata": {},
   "outputs": [
    {
     "data": {
      "text/plain": [
       "3"
      ]
     },
     "execution_count": 30,
     "metadata": {},
     "output_type": "execute_result"
    }
   ],
   "source": [
    "x = lambda a, b: a + b\n",
    "x(1, 2)"
   ]
  },
  {
   "cell_type": "code",
   "execution_count": 38,
   "metadata": {},
   "outputs": [
    {
     "data": {
      "text/plain": [
       "3"
      ]
     },
     "execution_count": 38,
     "metadata": {},
     "output_type": "execute_result"
    }
   ],
   "source": [
    "def f(x, y, z):\n",
    "    if z == '+':\n",
    "        a = lambda m, n: m + n\n",
    "        return a(x, y)\n",
    "    elif z == '-':\n",
    "        b = lambda m, n: m - n\n",
    "        return b(x, y)\n",
    "    elif z == '*':\n",
    "        c = lambda m, n: m * n\n",
    "        return c(x, y)\n",
    "    elif z == '/':\n",
    "        d = lambda m, n: m / n\n",
    "        return d(x, y)\n",
    "\n",
    "\n",
    "f(1, 2, '+')"
   ]
  },
  {
   "cell_type": "code",
   "execution_count": 39,
   "metadata": {},
   "outputs": [
    {
     "data": {
      "text/plain": [
       "-1"
      ]
     },
     "execution_count": 39,
     "metadata": {},
     "output_type": "execute_result"
    }
   ],
   "source": [
    "f(1, 2, '-')"
   ]
  },
  {
   "cell_type": "code",
   "execution_count": 40,
   "metadata": {},
   "outputs": [
    {
     "data": {
      "text/plain": [
       "2"
      ]
     },
     "execution_count": 40,
     "metadata": {},
     "output_type": "execute_result"
    }
   ],
   "source": [
    "f(1, 2, '*')"
   ]
  },
  {
   "cell_type": "code",
   "execution_count": 41,
   "metadata": {},
   "outputs": [
    {
     "data": {
      "text/plain": [
       "0.5"
      ]
     },
     "execution_count": 41,
     "metadata": {},
     "output_type": "execute_result"
    }
   ],
   "source": [
    "f(1, 2, '/')"
   ]
  },
  {
   "cell_type": "markdown",
   "metadata": {},
   "source": [
    "# 高阶函数"
   ]
  },
  {
   "cell_type": "raw",
   "metadata": {},
   "source": [
    "方式：\n",
    "1.一个函数作为另一个函数的返回值\n",
    "2.一个函数作为另一个函数的参数\n",
    "3.函数内部再定义一个函数"
   ]
  },
  {
   "cell_type": "code",
   "execution_count": 2,
   "metadata": {},
   "outputs": [
    {
     "name": "stdout",
     "output_type": "stream",
     "text": [
      "a\n",
      "b\n",
      "a"
     ]
    }
   ],
   "source": [
    "def a():\n",
    "    print('b')\n",
    "    return 'a'\n",
    "\n",
    "\n",
    "def b():\n",
    "    print('a')\n",
    "    return a()\n",
    "\n",
    "\n",
    "x = b()\n",
    "print(x)"
   ]
  },
  {
   "cell_type": "code",
   "execution_count": 4,
   "metadata": {},
   "outputs": [
    {
     "name": "stdout",
     "output_type": "stream",
     "text": [
      "a\n",
      "-----\n",
      "b\n",
      "-----\n",
      "a\n",
      "b\n"
     ]
    }
   ],
   "source": [
    "def a():\n",
    "    print('b')\n",
    "    return 'a'\n",
    "\n",
    "\n",
    "def b():\n",
    "    print('a')\n",
    "    return a\n",
    "\n",
    "\n",
    "x = b()\n",
    "print('-----')\n",
    "x()\n",
    "print('-----')\n",
    "y = b()()"
   ]
  },
  {
   "cell_type": "code",
   "execution_count": 10,
   "metadata": {
    "scrolled": true
   },
   "outputs": [
    {
     "name": "stdout",
     "output_type": "stream",
     "text": [
      "out\n"
     ]
    }
   ],
   "source": [
    "def out():\n",
    "    def inner():\n",
    "        print('in')\n",
    "\n",
    "    print('out')\n",
    "\n",
    "\n",
    "out()  # inner()不会被调用，也不能在外使用"
   ]
  },
  {
   "cell_type": "code",
   "execution_count": 1,
   "metadata": {},
   "outputs": [
    {
     "name": "stdout",
     "output_type": "stream",
     "text": [
      "out\n",
      "in\n"
     ]
    }
   ],
   "source": [
    "def out():\n",
    "    def inner():\n",
    "        print('in')\n",
    "\n",
    "    print('out')\n",
    "    return inner\n",
    "\n",
    "\n",
    "out()()"
   ]
  },
  {
   "cell_type": "markdown",
   "metadata": {},
   "source": [
    "## 闭包:函数块+引用环境"
   ]
  },
  {
   "cell_type": "code",
   "execution_count": null,
   "metadata": {},
   "outputs": [],
   "source": [
    "def out():  # 在一个内部函数里\n",
    "    x = 10  # 对外部作用域的变量（默认不能改变）\n",
    "\n",
    "    def inner():\n",
    "        nonlocal x  # 此时的x不再是新增的变量，而是外部的局部变量x\n",
    "        y = x + 1  # 进行引用\n",
    "        x = 20  # 若无\"nonlocal x\"，则并没有修改外部的x，而是在内部新增一个新的变量x  \n",
    "\n",
    "    return inner"
   ]
  },
  {
   "cell_type": "code",
   "execution_count": 5,
   "metadata": {},
   "outputs": [
    {
     "name": "stdout",
     "output_type": "stream",
     "text": [
      "1.1802897453308105\n"
     ]
    }
   ],
   "source": [
    "# 计算一段代码的运行时间\n",
    "def dm():\n",
    "    x = 0\n",
    "    for i in range(1, 10000000):\n",
    "        x += i\n",
    "\n",
    "\n",
    "def t(f):\n",
    "    a = time.time()\n",
    "    f()\n",
    "    b = time.time()\n",
    "    print(b - a)\n",
    "\n",
    "\n",
    "t(dm)"
   ]
  },
  {
   "cell_type": "markdown",
   "metadata": {},
   "source": [
    "## 装饰器"
   ]
  },
  {
   "cell_type": "code",
   "execution_count": 7,
   "metadata": {},
   "outputs": [
    {
     "name": "stdout",
     "output_type": "stream",
     "text": [
      "1.1440088748931885\n"
     ]
    }
   ],
   "source": [
    "# 计算一段代码的运行时间(Python独有优化)\n",
    "import time\n",
    "\n",
    "\n",
    "def t(f):\n",
    "    def inner():\n",
    "        a = time.time()\n",
    "        f()\n",
    "        b = time.time()\n",
    "        print(b - a)\n",
    "\n",
    "    return inner\n",
    "\n",
    "\n",
    "@t  # 调用t函数\n",
    "def dm():  # 把被装饰的函数dm传递给f\n",
    "    x = 0\n",
    "    for i in range(1, 10000000):\n",
    "        x += i\n",
    "\n",
    "\n",
    "dm()  # 当再次调用dm时，已不再是上面的dm了，而是变成了inner"
   ]
  },
  {
   "cell_type": "code",
   "execution_count": 8,
   "metadata": {},
   "outputs": [
    {
     "name": "stdout",
     "output_type": "stream",
     "text": [
      "1.1405200958251953\n"
     ]
    },
    {
     "data": {
      "text/plain": [
       "49999995000000"
      ]
     },
     "execution_count": 8,
     "metadata": {},
     "output_type": "execute_result"
    }
   ],
   "source": [
    "def t(f):\n",
    "    def inner():\n",
    "        a = time.time()\n",
    "        s = f()  #\n",
    "        b = time.time()\n",
    "        print(b - a)\n",
    "        return s\n",
    "\n",
    "    return inner\n",
    "\n",
    "\n",
    "@t\n",
    "def dm():\n",
    "    x = 0\n",
    "    for i in range(1, 10000000):\n",
    "        x += i\n",
    "    return x  #\n",
    "\n",
    "\n",
    "dm()"
   ]
  },
  {
   "cell_type": "code",
   "execution_count": 10,
   "metadata": {},
   "outputs": [
    {
     "data": {
      "text/plain": [
       "(49999995000000, 1.1689879894256592)"
      ]
     },
     "execution_count": 10,
     "metadata": {},
     "output_type": "execute_result"
    }
   ],
   "source": [
    "def t(f):\n",
    "    def inner(x):  #\n",
    "        a = time.time()\n",
    "        s = f(x)  #\n",
    "        b = time.time()\n",
    "        return s, b - a  #\n",
    "\n",
    "    return inner\n",
    "\n",
    "\n",
    "@t\n",
    "def dm(n):  #\n",
    "    x = 0\n",
    "    for i in range(1, n):  #\n",
    "        x += i\n",
    "    return x\n",
    "\n",
    "\n",
    "dm(10000000)"
   ]
  },
  {
   "cell_type": "markdown",
   "metadata": {},
   "source": [
    "### 高级使用"
   ]
  },
  {
   "cell_type": "code",
   "execution_count": 17,
   "metadata": {},
   "outputs": [
    {
     "name": "stdout",
     "output_type": "stream",
     "text": [
      "can't play\n"
     ]
    },
    {
     "data": {
      "text/plain": [
       "'playing'"
      ]
     },
     "execution_count": 17,
     "metadata": {},
     "output_type": "execute_result"
    }
   ],
   "source": [
    "def canplay(f):\n",
    "    def inner(*args):\n",
    "        if args[0] >= 22:\n",
    "            print(\"can't play\")\n",
    "        else:\n",
    "            s = f()\n",
    "            return s\n",
    "\n",
    "    return inner\n",
    "\n",
    "\n",
    "@canplay\n",
    "def play():\n",
    "    return 'playing'\n",
    "\n",
    "\n",
    "play(23)\n",
    "play(18)"
   ]
  },
  {
   "cell_type": "code",
   "execution_count": 18,
   "metadata": {},
   "outputs": [
    {
     "name": "stdout",
     "output_type": "stream",
     "text": [
      "can't play\n"
     ]
    }
   ],
   "source": [
    "def canplay(f):\n",
    "    def inner(**kwargs):\n",
    "        m = kwargs['c']\n",
    "        if m >= 22:\n",
    "            print(\"can't play\")\n",
    "        else:\n",
    "            s = f()\n",
    "            return s\n",
    "\n",
    "    return inner\n",
    "\n",
    "\n",
    "@canplay\n",
    "def play():\n",
    "    return 'playing'\n",
    "\n",
    "\n",
    "play(c=23)"
   ]
  },
  {
   "cell_type": "code",
   "execution_count": 19,
   "metadata": {
    "collapsed": true
   },
   "outputs": [
    {
     "ename": "KeyError",
     "evalue": "'c'",
     "output_type": "error",
     "traceback": [
      "\u001B[1;31m---------------------------------------------------------------------------\u001B[0m",
      "\u001B[1;31mKeyError\u001B[0m                                  Traceback (most recent call last)",
      "\u001B[1;32m<ipython-input-19-425fd712de3c>\u001B[0m in \u001B[0;36m<module>\u001B[1;34m\u001B[0m\n\u001B[1;32m----> 1\u001B[1;33m \u001B[0mplay\u001B[0m\u001B[1;33m(\u001B[0m\u001B[1;33m)\u001B[0m\u001B[1;33m\u001B[0m\u001B[1;33m\u001B[0m\u001B[0m\n\u001B[0m",
      "\u001B[1;32m<ipython-input-18-7217c99ae4f5>\u001B[0m in \u001B[0;36minner\u001B[1;34m(**t)\u001B[0m\n\u001B[0;32m      1\u001B[0m \u001B[1;32mdef\u001B[0m \u001B[0mcanplay\u001B[0m\u001B[1;33m(\u001B[0m\u001B[0mf\u001B[0m\u001B[1;33m)\u001B[0m\u001B[1;33m:\u001B[0m\u001B[1;33m\u001B[0m\u001B[1;33m\u001B[0m\u001B[0m\n\u001B[0;32m      2\u001B[0m     \u001B[1;32mdef\u001B[0m \u001B[0minner\u001B[0m\u001B[1;33m(\u001B[0m\u001B[1;33m**\u001B[0m\u001B[0mt\u001B[0m\u001B[1;33m)\u001B[0m\u001B[1;33m:\u001B[0m\u001B[1;33m\u001B[0m\u001B[1;33m\u001B[0m\u001B[0m\n\u001B[1;32m----> 3\u001B[1;33m         \u001B[0mm\u001B[0m\u001B[1;33m=\u001B[0m\u001B[0mt\u001B[0m\u001B[1;33m[\u001B[0m\u001B[1;34m'c'\u001B[0m\u001B[1;33m]\u001B[0m\u001B[1;33m\u001B[0m\u001B[1;33m\u001B[0m\u001B[0m\n\u001B[0m\u001B[0;32m      4\u001B[0m         \u001B[1;32mif\u001B[0m \u001B[0mm\u001B[0m\u001B[1;33m>=\u001B[0m\u001B[1;36m22\u001B[0m\u001B[1;33m:\u001B[0m\u001B[1;33m\u001B[0m\u001B[1;33m\u001B[0m\u001B[0m\n\u001B[0;32m      5\u001B[0m             \u001B[0mprint\u001B[0m\u001B[1;33m(\u001B[0m\u001B[1;34m\"can't play\"\u001B[0m\u001B[1;33m)\u001B[0m\u001B[1;33m\u001B[0m\u001B[1;33m\u001B[0m\u001B[0m\n",
      "\u001B[1;31mKeyError\u001B[0m: 'c'"
     ]
    }
   ],
   "source": [
    "play()  # 报错"
   ]
  },
  {
   "cell_type": "code",
   "execution_count": 23,
   "metadata": {},
   "outputs": [
    {
     "name": "stdout",
     "output_type": "stream",
     "text": [
      "can't play\n"
     ]
    },
    {
     "data": {
      "text/plain": [
       "'playing'"
      ]
     },
     "execution_count": 23,
     "metadata": {},
     "output_type": "execute_result"
    }
   ],
   "source": [
    "# 改进\n",
    "def canplay(f):\n",
    "    def inner(**kwargs):\n",
    "        m = kwargs.get('c', 23)\n",
    "        if m >= 22:\n",
    "            print(\"can't play\")\n",
    "        else:\n",
    "            s = f()\n",
    "            return s\n",
    "\n",
    "    return inner\n",
    "\n",
    "\n",
    "@canplay\n",
    "def play():\n",
    "    return 'playing'\n",
    "\n",
    "\n",
    "play()\n",
    "play(c=18)"
   ]
  },
  {
   "cell_type": "code",
   "execution_count": 1,
   "metadata": {
    "collapsed": true
   },
   "outputs": [
    {
     "name": "stdout",
     "output_type": "stream",
     "text": [
      "    ————————————\n",
      "        名片管理系统\n",
      "    1.添加名片\n",
      "    2.删除名片\n",
      "    3.修改名片\n",
      "    4.查询名片\n",
      "    5.显示所有名片\n",
      "    6.退出\n",
      "    ————————————\n",
      "请输入您要进行的操作：1\n",
      "请输入姓名：马楷恒\n",
      "请输入手机号：18506258298\n",
      "[{'序号': 1, 'name': '马楷恒', 'tel': '18506258298'}]\n",
      "    ————————————\n",
      "        名片管理系统\n",
      "    1.添加名片\n",
      "    2.删除名片\n",
      "    3.修改名片\n",
      "    4.查询名片\n",
      "    5.显示所有名片\n",
      "    6.退出\n",
      "    ————————————\n",
      "请输入您要进行的操作：1\n",
      "请输入姓名：徐燕\n",
      "请输入手机号：18962263089\n",
      "[{'序号': 1, 'name': '马楷恒', 'tel': '18506258298'}, {'序号': 2, 'name': '徐燕', 'tel': '18962263089'}]\n",
      "    ————————————\n",
      "        名片管理系统\n",
      "    1.添加名片\n",
      "    2.删除名片\n",
      "    3.修改名片\n",
      "    4.查询名片\n",
      "    5.显示所有名片\n",
      "    6.退出\n",
      "    ————————————\n",
      "请输入您要进行的操作：1\n",
      "请输入姓名：马志强\n",
      "请输入手机号：13291193699\n",
      "[{'序号': 1, 'name': '马楷恒', 'tel': '18506258298'}, {'序号': 2, 'name': '徐燕', 'tel': '18962263089'}, {'序号': 3, 'name': '马志强', 'tel': '13291193699'}]\n",
      "    ————————————\n",
      "        名片管理系统\n",
      "    1.添加名片\n",
      "    2.删除名片\n",
      "    3.修改名片\n",
      "    4.查询名片\n",
      "    5.显示所有名片\n",
      "    6.退出\n",
      "    ————————————\n",
      "请输入您要进行的操作：1\n",
      "请输入姓名：张三\n",
      "请输入手机号：666666\n",
      "[{'序号': 1, 'name': '马楷恒', 'tel': '18506258298'}, {'序号': 2, 'name': '徐燕', 'tel': '18962263089'}, {'序号': 3, 'name': '马志强', 'tel': '13291193699'}, {'序号': 4, 'name': '张三', 'tel': '666666'}]\n",
      "    ————————————\n",
      "        名片管理系统\n",
      "    1.添加名片\n",
      "    2.删除名片\n",
      "    3.修改名片\n",
      "    4.查询名片\n",
      "    5.显示所有名片\n",
      "    6.退出\n",
      "    ————————————\n",
      "请输入您要进行的操作：3\n",
      "请输入要修改的序号：4\n",
      "{'序号': 4, 'name': '张三', 'tel': '666666'}\n",
      "你要修改的信息是(名字打1，手机号打2，两个都改打3)：2\n",
      "请输入新的手机号：888888\n",
      "[{'序号': 1, 'name': '马楷恒', 'tel': '18506258298'}, {'序号': 2, 'name': '徐燕', 'tel': '18962263089'}, {'序号': 3, 'name': '马志强', 'tel': '13291193699'}, {'序号': 4, 'name': '张三', 'tel': '888888'}]\n",
      "    ————————————\n",
      "        名片管理系统\n",
      "    1.添加名片\n",
      "    2.删除名片\n",
      "    3.修改名片\n",
      "    4.查询名片\n",
      "    5.显示所有名片\n",
      "    6.退出\n",
      "    ————————————\n",
      "请输入您要进行的操作：2\n",
      "请输入姓名：张三\n",
      "[{'序号': 1, 'name': '马楷恒', 'tel': '18506258298'}, {'序号': 2, 'name': '徐燕', 'tel': '18962263089'}, {'序号': 3, 'name': '马志强', 'tel': '13291193699'}]\n",
      "    ————————————\n",
      "        名片管理系统\n",
      "    1.添加名片\n",
      "    2.删除名片\n",
      "    3.修改名片\n",
      "    4.查询名片\n",
      "    5.显示所有名片\n",
      "    6.退出\n",
      "    ————————————\n",
      "请输入您要进行的操作：4\n",
      "请输入您要查询的姓名：马志强\n",
      "查询到的信息如下：\n",
      "{'序号': 3, 'name': '马志强', 'tel': '13291193699'}\n",
      "    ————————————\n",
      "        名片管理系统\n",
      "    1.添加名片\n",
      "    2.删除名片\n",
      "    3.修改名片\n",
      "    4.查询名片\n",
      "    5.显示所有名片\n",
      "    6.退出\n",
      "    ————————————\n",
      "请输入您要进行的操作：5\n",
      "序号   姓名    手机号\n",
      "1    马楷恒  18506258298\n",
      "2    徐燕  18962263089\n",
      "3    马志强  13291193699\n",
      "    ————————————\n",
      "        名片管理系统\n",
      "    1.添加名片\n",
      "    2.删除名片\n",
      "    3.修改名片\n",
      "    4.查询名片\n",
      "    5.显示所有名片\n",
      "    6.退出\n",
      "    ————————————\n",
      "请输入您要进行的操作：6\n",
      "亲，你确定要退出吗?~~~(>_<)~~~(yes or no)yes\n"
     ]
    }
   ],
   "source": [
    "# 名片管理系统\n",
    "mp = []\n",
    "count = 0\n",
    "\n",
    "\n",
    "def ts():\n",
    "    print('''    ————————————\n",
    "        名片管理系统\n",
    "    1.添加名片\n",
    "    2.删除名片\n",
    "    3.修改名片\n",
    "    4.查询名片\n",
    "    5.显示所有名片\n",
    "    6.退出\n",
    "    ————————————''')\n",
    "    k = int(input('请输入您要进行的操作：'))\n",
    "    return k\n",
    "\n",
    "\n",
    "def out(f):\n",
    "    def inner():\n",
    "        f()\n",
    "\n",
    "    return inner\n",
    "\n",
    "\n",
    "while 1:\n",
    "    pd = ts()\n",
    "    if pd == 1:\n",
    "        @out\n",
    "        def f1():\n",
    "            name = input('请输入姓名：')\n",
    "            tel = input('请输入手机号：')\n",
    "            panduan = []\n",
    "            for i in mp:\n",
    "                panduan.append(bool(name == i['name']))\n",
    "            if any(panduan) == True:\n",
    "                print('该名字已存在')\n",
    "                f1()\n",
    "            else:\n",
    "                global count\n",
    "                count += 1\n",
    "                x = {'序号': count, 'name': name, 'tel': tel}\n",
    "                mp.append(x)\n",
    "\n",
    "\n",
    "        f1()\n",
    "        print(mp)\n",
    "    elif pd == 2:\n",
    "        @out\n",
    "        def f2():\n",
    "            t = []\n",
    "            name = input('请输入姓名：')\n",
    "            for i in range(len(mp)):\n",
    "                if name == mp[i]['name']:\n",
    "                    mp.pop(i)\n",
    "                    t.append('1')\n",
    "                else:\n",
    "                    t.append('0')\n",
    "            if '1' not in t:\n",
    "                print('该名字不存在')\n",
    "\n",
    "\n",
    "        f2()\n",
    "        for i in range(len(mp)):\n",
    "            mp[i]['序号'] = i + 1\n",
    "        print(mp)\n",
    "    elif pd == 3:\n",
    "        @out\n",
    "        def f3():\n",
    "            i = int(input('请输入要修改的序号：'))\n",
    "            if i - 1 <= len(mp):\n",
    "                print(mp[i - 1])\n",
    "                old_order = mp[i - 1]['序号']\n",
    "                old_name = mp[i - 1]['name']\n",
    "                old_tel = mp[i - 1]['tel']\n",
    "                mp.pop(i - 1)\n",
    "                fix = input('你要修改的信息是(名字打1，手机号打2，两个都改打3)：')\n",
    "                if fix == '1':\n",
    "                    new_name = input('请输入新的名字：')\n",
    "                    x = {'序号': old_order, 'name': new_name, 'tel': old_tel}\n",
    "                elif fix == '2':\n",
    "                    new_tel = input('请输入新的手机号：')\n",
    "                    x = {'序号': old_order, 'name': old_name, 'tel': new_tel}\n",
    "                elif fix == '3':\n",
    "                    new_name = input('请输入新的名字：')\n",
    "                    new_tel = input('请输入新的手机号：')\n",
    "                    x = {'序号': old_order, 'name': new_name, 'tel': new_tel}\n",
    "                mp.insert(i - 1, x)\n",
    "            else:\n",
    "                print('该名片不存在')\n",
    "\n",
    "\n",
    "        f3()\n",
    "        print(mp)\n",
    "    elif pd == 4:\n",
    "        @out\n",
    "        def f4():\n",
    "            t = []\n",
    "            name = input('请输入您要查询的姓名：')\n",
    "            for i in range(len(mp)):\n",
    "                if name == mp[i]['name']:\n",
    "                    print('查询到的信息如下：')\n",
    "                    print(mp[i])\n",
    "                    t.append('1')\n",
    "                else:\n",
    "                    t.append('0')\n",
    "            if '1' not in t:\n",
    "                print('没有找到您要的信息...')\n",
    "\n",
    "\n",
    "        f4()\n",
    "    elif pd == 5:\n",
    "        @out\n",
    "        def f5():\n",
    "            print('序号   姓名    手机号')\n",
    "            for i in mp:\n",
    "                print('{}    {}  {}'.format(i['序号'], i['name'], i['tel']))\n",
    "\n",
    "\n",
    "        f5()\n",
    "    elif pd == 6:\n",
    "        a = input('亲，你确定要退出吗?~~~(>_<)~~~(yes or no)')\n",
    "        if a == 'yes':\n",
    "            break\n",
    "        else:\n",
    "            print('欢迎继续使用！')\n",
    "            continue"
   ]
  },
  {
   "cell_type": "markdown",
   "metadata": {},
   "source": [
    "### 进阶篇"
   ]
  },
  {
   "cell_type": "code",
   "execution_count": 4,
   "metadata": {},
   "outputs": [
    {
     "name": "stdout",
     "output_type": "stream",
     "text": [
      "太晚了，不能玩游戏了\n",
      "None\n"
     ]
    }
   ],
   "source": [
    "def can_play(clock):\n",
    "    def handle_action(f):\n",
    "        def do_action(name, game):\n",
    "            if clock < 21:\n",
    "                f(name, game)\n",
    "            else:\n",
    "                print('太晚了，不能玩游戏了')\n",
    "\n",
    "        return do_action\n",
    "\n",
    "    return handle_action\n",
    "\n",
    "\n",
    "@can_play(22)  # 装饰器函数带参数\n",
    "def play_game(name, game):\n",
    "    print(name + '正在玩' + game)\n",
    "\n",
    "\n",
    "print(play_game('zhangsan', '战地'))"
   ]
  },
  {
   "cell_type": "code",
   "execution_count": 6,
   "metadata": {},
   "outputs": [
    {
     "name": "stdout",
     "output_type": "stream",
     "text": [
      "正在读取数据\n",
      "对不起，您没有权限\n",
      "正在执行任务\n"
     ]
    }
   ],
   "source": [
    "user_permission = 5  # 1\\2\\3(2+1)\\4\\5(4+1)\\6(4+2)\\7(4+2+1)\n",
    "read_permission = 4  # 0b 100\n",
    "write_permission = 2  # 0b 010\n",
    "eecute_permission = 1  # 0b 001\n",
    "\n",
    "\n",
    "def check_permission(x, y):\n",
    "    def handle_action(f):\n",
    "        def do_action():\n",
    "            if x & y != 0:\n",
    "                f()\n",
    "            else:\n",
    "                print('对不起，您没有权限')\n",
    "\n",
    "        return do_action\n",
    "\n",
    "    return handle_action\n",
    "\n",
    "\n",
    "@check_permission(user_permission, read_permission)\n",
    "def read():\n",
    "    print('正在读取数据')\n",
    "\n",
    "\n",
    "@check_permission(user_permission, write_permission)\n",
    "def write():\n",
    "    print('正在写入数据')\n",
    "\n",
    "\n",
    "@check_permission(user_permission, eecute_permission)\n",
    "def execute():\n",
    "    print('正在执行任务')\n",
    "\n",
    "\n",
    "read()\n",
    "write()\n",
    "execute()"
   ]
  },
  {
   "cell_type": "markdown",
   "metadata": {},
   "source": [
    "# 其它内置函数"
   ]
  },
  {
   "cell_type": "raw",
   "metadata": {},
   "source": []
  },
  {
   "cell_type": "markdown",
   "metadata": {},
   "source": [
    "# 练习"
   ]
  },
  {
   "cell_type": "code",
   "execution_count": 13,
   "metadata": {},
   "outputs": [
    {
     "name": "stdout",
     "output_type": "stream",
     "text": [
      "输入一个数字，exit退出输入：1\n",
      "输入一个数字，exit退出输入：2\n",
      "输入一个数字，exit退出输入：3\n",
      "输入一个数字，exit退出输入：4\n",
      "输入一个数字，exit退出输入：5\n",
      "输入一个数字，exit退出输入：6\n",
      "输入一个数字，exit退出输入：7\n",
      "输入一个数字，exit退出输入：8\n",
      "输入一个数字，exit退出输入：9\n",
      "输入一个数字，exit退出输入：exit\n",
      "45\n"
     ]
    }
   ],
   "source": [
    "def get_sum(a):\n",
    "    x = 0\n",
    "    for i in a:\n",
    "        x += i\n",
    "    return x\n",
    "\n",
    "\n",
    "nums = []\n",
    "while 1:\n",
    "    n = input('输入一个数字，exit退出输入：')\n",
    "    if n == 'exit':\n",
    "        break\n",
    "    else:\n",
    "        nums.append(int(n))\n",
    "print(get_sum(nums))"
   ]
  },
  {
   "cell_type": "code",
   "execution_count": 16,
   "metadata": {},
   "outputs": [
    {
     "name": "stdout",
     "output_type": "stream",
     "text": [
      "what's your price:10000\n",
      "what's your taxrate:0.2\n",
      "the final price= 12000.0\n"
     ]
    }
   ],
   "source": [
    "# 询问税前价格，自己给出税率，返回税后价格。\n",
    "the_price = int(input(\"what's your price:\"))\n",
    "the_rate = float(input(\"what's your taxrate:\"))\n",
    "\n",
    "\n",
    "def calculate(price, rate):\n",
    "    final_price = price * (1 + rate)\n",
    "    return final_price\n",
    "\n",
    "\n",
    "result = calculate(the_price, the_rate)\n",
    "print(\"the final price=\", result)"
   ]
  },
  {
   "cell_type": "code",
   "execution_count": 19,
   "metadata": {},
   "outputs": [
    {
     "name": "stdout",
     "output_type": "stream",
     "text": [
      "84 B\n",
      "77 C\n",
      "93 A\n",
      "84 B\n",
      "79 C\n"
     ]
    }
   ],
   "source": [
    "# 建立一个函数对成绩进行评定，要求从100-60分别划分为ABCD四个等级。随机输入60-100范围内的5个数，给出数和相应的等级。\n",
    "def test(x):\n",
    "    if 70 <= x < 80:\n",
    "        print(x, \"C\")\n",
    "    elif 80 <= x < 90:\n",
    "        print(x, \"B\")\n",
    "    elif 90 <= x <= 100:\n",
    "        print(x, \"A\")\n",
    "    else:\n",
    "        print(x, \"D\")\n",
    "\n",
    "\n",
    "import random\n",
    "\n",
    "for i in range(5):\n",
    "    x = random.randint(60, 100)\n",
    "    test(x)"
   ]
  },
  {
   "cell_type": "code",
   "execution_count": 5,
   "metadata": {},
   "outputs": [
    {
     "name": "stdout",
     "output_type": "stream",
     "text": [
      "请输入;\n",
      "输入为空\n"
     ]
    }
   ],
   "source": [
    "# 写一个函数，判断用户传入的对象的元素是否为空。\n",
    "a = input(\"请输入:\")\n",
    "b = len(a)\n",
    "if b == 0:\n",
    "    print(\"输入为空\")\n",
    "else:\n",
    "    print(\"输入不为空\")"
   ]
  },
  {
   "cell_type": "code",
   "execution_count": null,
   "metadata": {},
   "outputs": [
    {
     "name": "stdout",
     "output_type": "stream",
     "text": [
      "输入任意进制的数字：EFG\n",
      "输入进制：18\n",
      "4822\n",
      "1继续，2退出1\n",
      "输入任意进制的数字：11011.11011\n",
      "输入进制：2\n",
      "27.052734375\n"
     ]
    }
   ],
   "source": [
    "# 进制转换函数\n",
    "def panduan(z):\n",
    "    return ord(z) - 54\n",
    "\n",
    "\n",
    "def zhuanhuan(n, r):\n",
    "    r = int(r)\n",
    "    a = len(n)\n",
    "    num = 0\n",
    "    b = 0\n",
    "    e = 0\n",
    "    f = 0\n",
    "    if \".\" in n:\n",
    "        n = n.partition('.')\n",
    "        p = n[0]\n",
    "        q = n[2]\n",
    "        g = len(p)\n",
    "        h = len(q)\n",
    "        for i in range(g):\n",
    "            w = p[-1 - i]\n",
    "            w = panduan(w)\n",
    "            e += int(w) * r ** b\n",
    "            b += 1\n",
    "        for i in range(h):\n",
    "            v = q[i]\n",
    "            v = panduan(v)\n",
    "            f += int(v) * r ** (-b)\n",
    "            b += 1\n",
    "        num = e + f\n",
    "    else:\n",
    "        for i in range(a):\n",
    "            s = n[-1 - i]\n",
    "            s = panduan(s)\n",
    "            num += int(s) * r ** b\n",
    "            b += 1\n",
    "    return num\n",
    "\n",
    "\n",
    "while 1:\n",
    "    x = input('输入任意进制的数字：')\n",
    "    y = input('输入进制：')\n",
    "    print(zhuanhuan(x, y))\n",
    "    c = input('1继续，2退出')\n",
    "    if c == '1':\n",
    "        continue\n",
    "    else:\n",
    "        break"
   ]
  }
 ],
 "metadata": {
  "kernelspec": {
   "display_name": "Python 3",
   "language": "python",
   "name": "python3"
  },
  "language_info": {
   "codemirror_mode": {
    "name": "ipython",
    "version": 3
   },
   "file_extension": ".py",
   "mimetype": "text/x-python",
   "name": "python",
   "nbconvert_exporter": "python",
   "pygments_lexer": "ipython3",
   "version": "3.7.6"
  }
 },
 "nbformat": 4,
 "nbformat_minor": 4
}
