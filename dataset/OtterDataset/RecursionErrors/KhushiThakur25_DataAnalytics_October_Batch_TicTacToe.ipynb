{
 "cells": [
  {
   "cell_type": "code",
   "execution_count": 5,
   "id": "df38ad86-238e-4e5f-b590-62925fad2e03",
   "metadata": {
    "tags": []
   },
   "outputs": [
    {
     "name": "stdout",
     "output_type": "stream",
     "text": [
      "\n",
      "      |   |  \n",
      "    ------------\n",
      "      |   |  \n",
      "    ------------\n",
      "      |   |  \n"
     ]
    },
    {
     "name": "stdin",
     "output_type": "stream",
     "text": [
      "Enter your choice X or 0 x\n",
      "Enter the position to move.. 1\n"
     ]
    },
    {
     "name": "stdout",
     "output_type": "stream",
     "text": [
      "\n",
      "    X |   |  \n",
      "    ------------\n",
      "      |   |  \n",
      "    ------------\n",
      "      |   |  \n",
      "\n",
      "    X |   | 0\n",
      "    ------------\n",
      "      |   |  \n",
      "    ------------\n",
      "      |   |  \n"
     ]
    },
    {
     "name": "stdin",
     "output_type": "stream",
     "text": [
      "Enter the position to move.. 2\n"
     ]
    },
    {
     "name": "stdout",
     "output_type": "stream",
     "text": [
      "\n",
      "    X | X | 0\n",
      "    ------------\n",
      "      |   |  \n",
      "    ------------\n",
      "      |   |  \n",
      "\n",
      "    X | X | 0\n",
      "    ------------\n",
      "    0 |   |  \n",
      "    ------------\n",
      "      |   |  \n"
     ]
    },
    {
     "name": "stdin",
     "output_type": "stream",
     "text": [
      "Enter the position to move.. 7\n"
     ]
    },
    {
     "name": "stdout",
     "output_type": "stream",
     "text": [
      "\n",
      "    X | X | 0\n",
      "    ------------\n",
      "    0 |   |  \n",
      "    ------------\n",
      "    X |   |  \n",
      "\n",
      "    X | X | 0\n",
      "    ------------\n",
      "    0 | 0 |  \n",
      "    ------------\n",
      "    X |   |  \n"
     ]
    },
    {
     "name": "stdin",
     "output_type": "stream",
     "text": [
      "Enter the position to move.. 6\n"
     ]
    },
    {
     "name": "stdout",
     "output_type": "stream",
     "text": [
      "\n",
      "    X | X | 0\n",
      "    ------------\n",
      "    0 | 0 | X\n",
      "    ------------\n",
      "    X |   |  \n",
      "\n",
      "    X | X | 0\n",
      "    ------------\n",
      "    0 | 0 | X\n",
      "    ------------\n",
      "    X |   | 0\n"
     ]
    },
    {
     "name": "stdin",
     "output_type": "stream",
     "text": [
      "Enter the position to move.. 8\n"
     ]
    },
    {
     "name": "stdout",
     "output_type": "stream",
     "text": [
      "\n",
      "    X | X | 0\n",
      "    ------------\n",
      "    0 | 0 | X\n",
      "    ------------\n",
      "    X | X | 0\n",
      "It's a draw\n"
     ]
    },
    {
     "ename": "RecursionError",
     "evalue": "maximum recursion depth exceeded while calling a Python object",
     "output_type": "error",
     "traceback": [
      "\u001b[1;31m---------------------------------------------------------------------------\u001b[0m",
      "\u001b[1;31mRecursionError\u001b[0m                            Traceback (most recent call last)",
      "Cell \u001b[1;32mIn[5], line 71\u001b[0m\n\u001b[0;32m     68\u001b[0m             \u001b[38;5;28;01mbreak\u001b[39;00m\n\u001b[0;32m     70\u001b[0m \u001b[38;5;66;03m# print(cpu_choice,user_choice)\u001b[39;00m\n\u001b[1;32m---> 71\u001b[0m main()\n",
      "Cell \u001b[1;32mIn[5], line 63\u001b[0m, in \u001b[0;36mmain\u001b[1;34m()\u001b[0m\n\u001b[0;32m     61\u001b[0m \u001b[38;5;28;01mif\u001b[39;00m count \u001b[38;5;241m==\u001b[39m \u001b[38;5;241m5\u001b[39m:\n\u001b[0;32m     62\u001b[0m     \u001b[38;5;28mprint\u001b[39m(\u001b[38;5;124m\"\u001b[39m\u001b[38;5;124mIt\u001b[39m\u001b[38;5;124m'\u001b[39m\u001b[38;5;124ms a draw\u001b[39m\u001b[38;5;124m\"\u001b[39m)\n\u001b[1;32m---> 63\u001b[0m cpu_func(cpu_choice)\n\u001b[0;32m     64\u001b[0m gameBoard()\n\u001b[0;32m     65\u001b[0m winner \u001b[38;5;241m=\u001b[39m checkWinner()\n",
      "Cell \u001b[1;32mIn[5], line 18\u001b[0m, in \u001b[0;36mcpu_func\u001b[1;34m(cpu_choice)\u001b[0m\n\u001b[0;32m     16\u001b[0m pos \u001b[38;5;241m=\u001b[39m random\u001b[38;5;241m.\u001b[39mrandint(\u001b[38;5;241m1\u001b[39m,\u001b[38;5;241m9\u001b[39m)\n\u001b[0;32m     17\u001b[0m \u001b[38;5;28;01mif\u001b[39;00m pos \u001b[38;5;129;01min\u001b[39;00m occupied:\n\u001b[1;32m---> 18\u001b[0m     cpu_func(cpu_choice)\n\u001b[0;32m     19\u001b[0m \u001b[38;5;28;01melse\u001b[39;00m:\n\u001b[0;32m     20\u001b[0m     positions[pos\u001b[38;5;241m-\u001b[39m\u001b[38;5;241m1\u001b[39m] \u001b[38;5;241m=\u001b[39m cpu_choice\n",
      "Cell \u001b[1;32mIn[5], line 18\u001b[0m, in \u001b[0;36mcpu_func\u001b[1;34m(cpu_choice)\u001b[0m\n\u001b[0;32m     16\u001b[0m pos \u001b[38;5;241m=\u001b[39m random\u001b[38;5;241m.\u001b[39mrandint(\u001b[38;5;241m1\u001b[39m,\u001b[38;5;241m9\u001b[39m)\n\u001b[0;32m     17\u001b[0m \u001b[38;5;28;01mif\u001b[39;00m pos \u001b[38;5;129;01min\u001b[39;00m occupied:\n\u001b[1;32m---> 18\u001b[0m     cpu_func(cpu_choice)\n\u001b[0;32m     19\u001b[0m \u001b[38;5;28;01melse\u001b[39;00m:\n\u001b[0;32m     20\u001b[0m     positions[pos\u001b[38;5;241m-\u001b[39m\u001b[38;5;241m1\u001b[39m] \u001b[38;5;241m=\u001b[39m cpu_choice\n",
      "    \u001b[1;31m[... skipping similar frames: cpu_func at line 18 (2966 times)]\u001b[0m\n",
      "Cell \u001b[1;32mIn[5], line 18\u001b[0m, in \u001b[0;36mcpu_func\u001b[1;34m(cpu_choice)\u001b[0m\n\u001b[0;32m     16\u001b[0m pos \u001b[38;5;241m=\u001b[39m random\u001b[38;5;241m.\u001b[39mrandint(\u001b[38;5;241m1\u001b[39m,\u001b[38;5;241m9\u001b[39m)\n\u001b[0;32m     17\u001b[0m \u001b[38;5;28;01mif\u001b[39;00m pos \u001b[38;5;129;01min\u001b[39;00m occupied:\n\u001b[1;32m---> 18\u001b[0m     cpu_func(cpu_choice)\n\u001b[0;32m     19\u001b[0m \u001b[38;5;28;01melse\u001b[39;00m:\n\u001b[0;32m     20\u001b[0m     positions[pos\u001b[38;5;241m-\u001b[39m\u001b[38;5;241m1\u001b[39m] \u001b[38;5;241m=\u001b[39m cpu_choice\n",
      "Cell \u001b[1;32mIn[5], line 16\u001b[0m, in \u001b[0;36mcpu_func\u001b[1;34m(cpu_choice)\u001b[0m\n\u001b[0;32m     15\u001b[0m \u001b[38;5;28;01mdef\u001b[39;00m \u001b[38;5;21mcpu_func\u001b[39m(cpu_choice):\n\u001b[1;32m---> 16\u001b[0m     pos \u001b[38;5;241m=\u001b[39m random\u001b[38;5;241m.\u001b[39mrandint(\u001b[38;5;241m1\u001b[39m,\u001b[38;5;241m9\u001b[39m)\n\u001b[0;32m     17\u001b[0m     \u001b[38;5;28;01mif\u001b[39;00m pos \u001b[38;5;129;01min\u001b[39;00m occupied:\n\u001b[0;32m     18\u001b[0m         cpu_func(cpu_choice)\n",
      "File \u001b[1;32mC:\\ProgramData\\anaconda3\\Lib\\random.py:362\u001b[0m, in \u001b[0;36mRandom.randint\u001b[1;34m(self, a, b)\u001b[0m\n\u001b[0;32m    358\u001b[0m \u001b[38;5;28;01mdef\u001b[39;00m \u001b[38;5;21mrandint\u001b[39m(\u001b[38;5;28mself\u001b[39m, a, b):\n\u001b[0;32m    359\u001b[0m \u001b[38;5;250m    \u001b[39m\u001b[38;5;124;03m\"\"\"Return random integer in range [a, b], including both end points.\u001b[39;00m\n\u001b[0;32m    360\u001b[0m \u001b[38;5;124;03m    \"\"\"\u001b[39;00m\n\u001b[1;32m--> 362\u001b[0m     \u001b[38;5;28;01mreturn\u001b[39;00m \u001b[38;5;28mself\u001b[39m\u001b[38;5;241m.\u001b[39mrandrange(a, b\u001b[38;5;241m+\u001b[39m\u001b[38;5;241m1\u001b[39m)\n",
      "File \u001b[1;32mC:\\ProgramData\\anaconda3\\Lib\\random.py:344\u001b[0m, in \u001b[0;36mRandom.randrange\u001b[1;34m(self, start, stop, step)\u001b[0m\n\u001b[0;32m    342\u001b[0m \u001b[38;5;28;01mif\u001b[39;00m istep \u001b[38;5;241m==\u001b[39m \u001b[38;5;241m1\u001b[39m:\n\u001b[0;32m    343\u001b[0m     \u001b[38;5;28;01mif\u001b[39;00m width \u001b[38;5;241m>\u001b[39m \u001b[38;5;241m0\u001b[39m:\n\u001b[1;32m--> 344\u001b[0m         \u001b[38;5;28;01mreturn\u001b[39;00m istart \u001b[38;5;241m+\u001b[39m \u001b[38;5;28mself\u001b[39m\u001b[38;5;241m.\u001b[39m_randbelow(width)\n\u001b[0;32m    345\u001b[0m     \u001b[38;5;28;01mraise\u001b[39;00m \u001b[38;5;167;01mValueError\u001b[39;00m(\u001b[38;5;124m\"\u001b[39m\u001b[38;5;124mempty range for randrange() (\u001b[39m\u001b[38;5;132;01m%d\u001b[39;00m\u001b[38;5;124m, \u001b[39m\u001b[38;5;132;01m%d\u001b[39;00m\u001b[38;5;124m, \u001b[39m\u001b[38;5;132;01m%d\u001b[39;00m\u001b[38;5;124m)\u001b[39m\u001b[38;5;124m\"\u001b[39m \u001b[38;5;241m%\u001b[39m (istart, istop, width))\n\u001b[0;32m    347\u001b[0m \u001b[38;5;66;03m# Non-unit step argument supplied.\u001b[39;00m\n",
      "File \u001b[1;32mC:\\ProgramData\\anaconda3\\Lib\\random.py:239\u001b[0m, in \u001b[0;36mRandom._randbelow_with_getrandbits\u001b[1;34m(self, n)\u001b[0m\n\u001b[0;32m    236\u001b[0m \u001b[38;5;124m\"\u001b[39m\u001b[38;5;124mReturn a random int in the range [0,n).  Defined for n > 0.\u001b[39m\u001b[38;5;124m\"\u001b[39m\n\u001b[0;32m    238\u001b[0m getrandbits \u001b[38;5;241m=\u001b[39m \u001b[38;5;28mself\u001b[39m\u001b[38;5;241m.\u001b[39mgetrandbits\n\u001b[1;32m--> 239\u001b[0m k \u001b[38;5;241m=\u001b[39m n\u001b[38;5;241m.\u001b[39mbit_length()  \u001b[38;5;66;03m# don't use (n-1) here because n can be 1\u001b[39;00m\n\u001b[0;32m    240\u001b[0m r \u001b[38;5;241m=\u001b[39m getrandbits(k)  \u001b[38;5;66;03m# 0 <= r < 2**k\u001b[39;00m\n\u001b[0;32m    241\u001b[0m \u001b[38;5;28;01mwhile\u001b[39;00m r \u001b[38;5;241m>\u001b[39m\u001b[38;5;241m=\u001b[39m n:\n",
      "\u001b[1;31mRecursionError\u001b[0m: maximum recursion depth exceeded while calling a Python object"
     ]
    }
   ],
   "source": [
    "import random\n",
    "\n",
    "positions = [\" \" for i in range(1,10)]\n",
    "occupied = []\n",
    "\n",
    "def user_func(user_choice):\n",
    "    pos = int(input(\"Enter the position to move..\"))\n",
    "    if pos in occupied:\n",
    "        print(\"You can't move this position.., Please select another position..\")\n",
    "        user_func(user_choice)\n",
    "    else:\n",
    "        positions[pos-1] = user_choice\n",
    "        occupied.append(pos)\n",
    "    \n",
    "def cpu_func(cpu_choice):\n",
    "    pos = random.randint(1,9)\n",
    "    if pos in occupied:\n",
    "        cpu_func(cpu_choice)\n",
    "    else:\n",
    "        positions[pos-1] = cpu_choice\n",
    "        occupied.append(pos)\n",
    "def checkWinner():\n",
    "    winning_combinations = [(0,1,2),(3,4,5),(6,7,8),(0,3,6),(1,4,7),(2,5,8),(0,4,8),(2,4,6)]\n",
    "    for combo in winning_combinations:\n",
    "        if positions[combo[0]] == positions[combo[1]] == positions[combo[2]] != \" \":\n",
    "            return positions[combo[0]]\n",
    "    \n",
    "        \n",
    "def gameBoard():\n",
    "    print(\"\"\"\n",
    "    {} | {} | {}\n",
    "    ------------\n",
    "    {} | {} | {}\n",
    "    ------------\n",
    "    {} | {} | {}\"\"\".format(positions[0],positions[1],positions[2],\n",
    "                          positions[3],positions[4],positions[5],\n",
    "                          positions[6],positions[7],positions[8]))\n",
    "\n",
    "def main():\n",
    "    gameBoard()\n",
    "    user_choice = input(\"Enter your choice X or 0\").upper()\n",
    "    while user_choice not in ['X','0']:\n",
    "        print(\"Invalid input\")\n",
    "        user_choice = input(\"Enter your choice X or 0\").upper()\n",
    "        \n",
    "    if user_choice == \"X\":\n",
    "        cpu_choice = \"0\"\n",
    "    else:\n",
    "        cpu_choice = \"X\"\n",
    "    count = 0\n",
    "    winner = None\n",
    "    while count < 5 and not winner:\n",
    "        count += 1\n",
    "        user_func(user_choice)\n",
    "        gameBoard()\n",
    "        winner = checkWinner()\n",
    "        if winner:\n",
    "            print(f\"Congratulations ! {winner} you won match..\")\n",
    "            break\n",
    "        \n",
    "        if count == 5:\n",
    "            print(\"It's a draw\")\n",
    "            break\n",
    "        cpu_func(cpu_choice)\n",
    "        gameBoard()\n",
    "        winner = checkWinner()\n",
    "        if winner:\n",
    "            print(f\"Congratulations Cpu ! {winner} you won match..\")\n",
    "            break\n",
    "       \n",
    "# print(cpu_choice,user_choice)\n",
    "main()"
   ]
  },
  {
   "cell_type": "code",
   "execution_count": null,
   "id": "e5488b0a-d0e4-4db7-bd67-134cc0193402",
   "metadata": {},
   "outputs": [],
   "source": []
  }
 ],
 "metadata": {
  "kernelspec": {
   "display_name": "Python 3 (ipykernel)",
   "language": "python",
   "name": "python3"
  },
  "language_info": {
   "codemirror_mode": {
    "name": "ipython",
    "version": 3
   },
   "file_extension": ".py",
   "mimetype": "text/x-python",
   "name": "python",
   "nbconvert_exporter": "python",
   "pygments_lexer": "ipython3",
   "version": "3.11.5"
  }
 },
 "nbformat": 4,
 "nbformat_minor": 5
}
