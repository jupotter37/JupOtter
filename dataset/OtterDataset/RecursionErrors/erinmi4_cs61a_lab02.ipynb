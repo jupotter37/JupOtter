{
 "cells": [
  {
   "cell_type": "code",
   "execution_count": 1,
   "id": "fe3aa552-622d-4683-9f84-3c998916a34d",
   "metadata": {},
   "outputs": [
    {
     "data": {
      "text/plain": [
       "False"
      ]
     },
     "execution_count": 1,
     "metadata": {},
     "output_type": "execute_result"
    }
   ],
   "source": [
    "not 10"
   ]
  },
  {
   "cell_type": "code",
   "execution_count": 2,
   "id": "58bedd17-fa73-465c-9f2e-924f6899b5bf",
   "metadata": {},
   "outputs": [
    {
     "name": "stdout",
     "output_type": "stream",
     "text": [
      "3\n"
     ]
    },
    {
     "data": {
      "text/plain": [
       "''"
      ]
     },
     "execution_count": 2,
     "metadata": {},
     "output_type": "execute_result"
    }
   ],
   "source": [
    "print(3) or \"\""
   ]
  },
  {
   "cell_type": "code",
   "execution_count": 3,
   "id": "7701b9ba-ec59-4499-92f7-a1aa4bb3441e",
   "metadata": {},
   "outputs": [],
   "source": [
    "def cake():\n",
    "    print('beets')\n",
    "    def pie():\n",
    "        print('sweets')\n",
    "        return 'cake'\n",
    "    return pie"
   ]
  },
  {
   "cell_type": "code",
   "execution_count": 4,
   "id": "2f70a6d3-23fa-458a-a854-211a0a6b76b9",
   "metadata": {},
   "outputs": [
    {
     "name": "stdout",
     "output_type": "stream",
     "text": [
      "beets\n"
     ]
    }
   ],
   "source": [
    "chocolate = cake()"
   ]
  },
  {
   "cell_type": "code",
   "execution_count": 5,
   "id": "7943e316-4e3c-49a9-97f2-d5e2bea6cd4e",
   "metadata": {},
   "outputs": [
    {
     "name": "stdout",
     "output_type": "stream",
     "text": [
      "sweets\n"
     ]
    },
    {
     "data": {
      "text/plain": [
       "'cake'"
      ]
     },
     "execution_count": 5,
     "metadata": {},
     "output_type": "execute_result"
    }
   ],
   "source": [
    "chocolate()"
   ]
  },
  {
   "cell_type": "code",
   "execution_count": 6,
   "id": "22260eaf-1cca-4461-b1ca-496d99dcced3",
   "metadata": {},
   "outputs": [
    {
     "name": "stdout",
     "output_type": "stream",
     "text": [
      "sweets\n"
     ]
    }
   ],
   "source": [
    "more_chocolate, more_cake = chocolate(), cake"
   ]
  },
  {
   "cell_type": "code",
   "execution_count": 7,
   "id": "b467aae6-91a7-4e54-91f6-cbd975fc77cd",
   "metadata": {},
   "outputs": [],
   "source": [
    "def snake(x, y):\n",
    "    if cake == more_cake:\n",
    "        return chocolate\n",
    "    else:\n",
    "        return x + y"
   ]
  },
  {
   "cell_type": "code",
   "execution_count": 8,
   "id": "479d75eb-9d0a-495c-850d-b48a3af0c286",
   "metadata": {},
   "outputs": [
    {
     "data": {
      "text/plain": [
       "<function __main__.cake.<locals>.pie()>"
      ]
     },
     "execution_count": 8,
     "metadata": {},
     "output_type": "execute_result"
    }
   ],
   "source": [
    "snake(10,20)"
   ]
  },
  {
   "cell_type": "code",
   "execution_count": 10,
   "id": "0830073b-01da-4cae-a93f-53943923d111",
   "metadata": {},
   "outputs": [
    {
     "data": {
      "text/plain": [
       "<function __main__.<lambda>(x)>"
      ]
     },
     "execution_count": 10,
     "metadata": {},
     "output_type": "execute_result"
    }
   ],
   "source": [
    "lambda x: x  # A lambda expression with one parameter x"
   ]
  },
  {
   "cell_type": "code",
   "execution_count": 11,
   "id": "8270234b-01d4-4cfe-b800-1d9c23d92faa",
   "metadata": {},
   "outputs": [
    {
     "data": {
      "text/plain": [
       "3"
      ]
     },
     "execution_count": 11,
     "metadata": {},
     "output_type": "execute_result"
    }
   ],
   "source": [
    "(lambda: 3)()  # Using a lambda expression as an operator in a call exp."
   ]
  },
  {
   "cell_type": "code",
   "execution_count": 14,
   "id": "14c6f1ea-2d85-4c25-962d-388c61d57790",
   "metadata": {},
   "outputs": [
    {
     "name": "stdout",
     "output_type": "stream",
     "text": [
      "<function <lambda>.<locals>.<lambda> at 0x00000290998D7CE0>\n"
     ]
    }
   ],
   "source": [
    "b = lambda x, y: lambda: x + y # Lambdas can return other lambdas!\n",
    "c = b(8,4)\n",
    "print(c)"
   ]
  },
  {
   "cell_type": "code",
   "execution_count": 15,
   "id": "fd405fe3-2e52-4a83-be1d-5ee4116e7cd1",
   "metadata": {},
   "outputs": [
    {
     "ename": "TypeError",
     "evalue": "'int' object is not callable",
     "output_type": "error",
     "traceback": [
      "\u001b[1;31m---------------------------------------------------------------------------\u001b[0m",
      "\u001b[1;31mTypeError\u001b[0m                                 Traceback (most recent call last)",
      "Cell \u001b[1;32mIn[15], line 3\u001b[0m\n\u001b[0;32m      1\u001b[0m higher_order_lambda \u001b[38;5;241m=\u001b[39m \u001b[38;5;28;01mlambda\u001b[39;00m f: \u001b[38;5;28;01mlambda\u001b[39;00m x: f(x)\n\u001b[0;32m      2\u001b[0m g \u001b[38;5;241m=\u001b[39m \u001b[38;5;28;01mlambda\u001b[39;00m x: x \u001b[38;5;241m*\u001b[39m x\n\u001b[1;32m----> 3\u001b[0m \u001b[43mhigher_order_lambda\u001b[49m\u001b[43m(\u001b[49m\u001b[38;5;241;43m2\u001b[39;49m\u001b[43m)\u001b[49m\u001b[43m(\u001b[49m\u001b[43mg\u001b[49m\u001b[43m)\u001b[49m\n",
      "Cell \u001b[1;32mIn[15], line 1\u001b[0m, in \u001b[0;36m<lambda>\u001b[1;34m(x)\u001b[0m\n\u001b[1;32m----> 1\u001b[0m higher_order_lambda \u001b[38;5;241m=\u001b[39m \u001b[38;5;28;01mlambda\u001b[39;00m f: \u001b[38;5;28;01mlambda\u001b[39;00m x: \u001b[43mf\u001b[49m\u001b[43m(\u001b[49m\u001b[43mx\u001b[49m\u001b[43m)\u001b[49m\n\u001b[0;32m      2\u001b[0m g \u001b[38;5;241m=\u001b[39m \u001b[38;5;28;01mlambda\u001b[39;00m x: x \u001b[38;5;241m*\u001b[39m x\n\u001b[0;32m      3\u001b[0m higher_order_lambda(\u001b[38;5;241m2\u001b[39m)(g)\n",
      "\u001b[1;31mTypeError\u001b[0m: 'int' object is not callable"
     ]
    }
   ],
   "source": [
    "higher_order_lambda = lambda f: lambda x: f(x)\n",
    "g = lambda x: x * x\n",
    "higher_order_lambda(2)(g)"
   ]
  },
  {
   "cell_type": "code",
   "execution_count": 16,
   "id": "942f5b6c-cf5e-44a2-afff-4a6dd0c8bdf2",
   "metadata": {},
   "outputs": [
    {
     "data": {
      "text/plain": [
       "3"
      ]
     },
     "execution_count": 16,
     "metadata": {},
     "output_type": "execute_result"
    }
   ],
   "source": [
    "call_thrice = lambda f: lambda x: f(f(f(x)))\n",
    "call_thrice(lambda y: y + 1)(0)"
   ]
  },
  {
   "cell_type": "code",
   "execution_count": 1,
   "id": "3453a326-4d91-444a-b98b-424e8ed8d445",
   "metadata": {},
   "outputs": [
    {
     "name": "stdout",
     "output_type": "stream",
     "text": [
      "1\n"
     ]
    }
   ],
   "source": [
    "print(1)"
   ]
  },
  {
   "cell_type": "code",
   "execution_count": 3,
   "id": "96c7efce",
   "metadata": {},
   "outputs": [],
   "source": [
    "def composite_identity(f, g):\n",
    "    \"\"\"\n",
    "    Return a function with one parameter x that returns True if f(g(x)) is\n",
    "    equal to g(f(x)). You can assume the result of g(x) is a valid input for f\n",
    "    and vice versa.\n",
    "\n",
    "    >>> add_one = lambda x: x + 1        # adds one to x\n",
    "    >>> square = lambda x: x**2          # squares x [returns x^2]\n",
    "    >>> b1 = composite_identity(square, add_one)\n",
    "    >>> b1(0)                            # (0 + 1) ** 2 == 0 ** 2 + 1\n",
    "    True\n",
    "    >>> b1(4)                            # (4 + 1) ** 2 != 4 ** 2 + 1\n",
    "    False\n",
    "    \"\"\"\n",
    "    \"*** YOUR CODE HERE ***\"\n",
    "    def sub(x):\n",
    "        if f(g(x)) == g(f(x)):\n",
    "            return True \n",
    "        else :\n",
    "            return False \n",
    "    return sub "
   ]
  },
  {
   "cell_type": "code",
   "execution_count": 5,
   "id": "f846d4dc",
   "metadata": {},
   "outputs": [],
   "source": [
    "from operator import add, mul\n",
    "\n",
    "square = lambda x: x * x\n",
    "\n",
    "identity = lambda x: x\n",
    "\n",
    "triple = lambda x: 3 * x\n",
    "\n",
    "increment = lambda x: x + 1"
   ]
  },
  {
   "cell_type": "code",
   "execution_count": 6,
   "id": "f12d5d06",
   "metadata": {},
   "outputs": [],
   "source": [
    "def product(n, term):\n",
    "    \"\"\"Return the product of the first n terms in a sequence.\n",
    "\n",
    "    n: a positive integer\n",
    "    term:  a function that takes one argument to produce the term\n",
    "\n",
    "    >>> product(3, identity)  # 1 * 2 * 3\n",
    "    6\n",
    "    >>> product(5, identity)  # 1 * 2 * 3 * 4 * 5\n",
    "    120\n",
    "    >>> product(3, square)    # 1^2 * 2^2 * 3^2\n",
    "    36\n",
    "    >>> product(5, square)    # 1^2 * 2^2 * 3^2 * 4^2 * 5^2\n",
    "    14400\n",
    "    >>> product(3, increment) # (1+1) * (2+1) * (3+1)\n",
    "    24\n",
    "    >>> product(3, triple)    # 1*3 * 2*3 * 3*3\n",
    "    162\n",
    "    \"\"\"\n",
    "    \"*** YOUR CODE HERE ***\"\n",
    "    if n == 1 : \n",
    "        return term(n)\n",
    "    else:\n",
    "        return product(n-1,term) * term(n)"
   ]
  },
  {
   "cell_type": "code",
   "execution_count": 7,
   "id": "81c7a974",
   "metadata": {},
   "outputs": [
    {
     "data": {
      "text/plain": [
       "6"
      ]
     },
     "execution_count": 7,
     "metadata": {},
     "output_type": "execute_result"
    }
   ],
   "source": [
    "product(3, identity) "
   ]
  },
  {
   "cell_type": "code",
   "execution_count": 8,
   "id": "487f4560",
   "metadata": {},
   "outputs": [
    {
     "data": {
      "text/plain": [
       "162"
      ]
     },
     "execution_count": 8,
     "metadata": {},
     "output_type": "execute_result"
    }
   ],
   "source": [
    "product(3, triple)"
   ]
  },
  {
   "cell_type": "code",
   "execution_count": 39,
   "id": "3316c4ee",
   "metadata": {},
   "outputs": [],
   "source": [
    "def accumulate(fuse, start, n, term):\n",
    "    \"\"\"Return the result of fusing together the first n terms in a sequence \n",
    "    and start.  The terms to be fused are term(1), term(2), ..., term(n). \n",
    "    The function fuse is a two-argument commutative & associative function.\n",
    "\n",
    "    >>> accumulate(add, 0, 5, identity)  # 0 + 1 + 2 + 3 + 4 + 5\n",
    "    15\n",
    "    >>> accumulate(add, 11, 5, identity) # 11 + 1 + 2 + 3 + 4 + 5\n",
    "    26\n",
    "    >>> accumulate(add, 11, 0, identity) # 11 (fuse is never used)\n",
    "    11\n",
    "    >>> accumulate(add, 11, 3, square)   # 11 + 1^2 + 2^2 + 3^2\n",
    "    25\n",
    "    >>> accumulate(mul, 2, 3, square)    # 2 * 1^2 * 2^2 * 3^2\n",
    "    72\n",
    "    >>> # 2 + (1^2 + 1) + (2^2 + 1) + (3^2 + 1)\n",
    "    >>> accumulate(lambda x, y: x + y + 1, 2, 3, square)\n",
    "    19\n",
    "    \"\"\"\n",
    "    \"*** YOUR CODE HERE ***\"\n",
    "    # python ok -q accumulate --local \n",
    "    if n == 1 : \n",
    "        return fuse(start,term(n))\n",
    "    else:\n",
    "        return fuse(accumulate(fuse,start,n-1,term) , term(n))"
   ]
  },
  {
   "cell_type": "code",
   "execution_count": 38,
   "id": "08746886",
   "metadata": {},
   "outputs": [
    {
     "data": {
      "text/plain": [
       "15"
      ]
     },
     "execution_count": 38,
     "metadata": {},
     "output_type": "execute_result"
    }
   ],
   "source": [
    "accumulate(add, 0, 5, identity)"
   ]
  },
  {
   "cell_type": "code",
   "execution_count": 35,
   "id": "29824650",
   "metadata": {},
   "outputs": [
    {
     "data": {
      "text/plain": [
       "26"
      ]
     },
     "execution_count": 35,
     "metadata": {},
     "output_type": "execute_result"
    }
   ],
   "source": [
    "accumulate(add, 11, 5, identity)"
   ]
  },
  {
   "cell_type": "code",
   "execution_count": 1,
   "id": "9e0d5dd8",
   "metadata": {},
   "outputs": [],
   "source": [
    "def summation_using_accumulate(n, term):\n",
    "    \"\"\"Returns the sum: term(1) + ... + term(n), using accumulate.\n",
    "\n",
    "    >>> summation_using_accumulate(5, square) # square(0) + square(1) + ... + square(4) + square(5)\n",
    "    55\n",
    "    >>> summation_using_accumulate(5, triple) # triple(0) + triple(1) + ... + triple(4) + triple(5)\n",
    "    45\n",
    "    >>> # This test checks that the body of the function is just a return statement.\n",
    "    >>> import inspect, ast\n",
    "    >>> [type(x).__name__ for x in ast.parse(inspect.getsource(summation_using_accumulate)).body[0].body]\n",
    "    ['Expr', 'Return']\n",
    "    \"\"\"\n",
    "    return term(n) + summation_using_accumulate(n-1,term)"
   ]
  },
  {
   "cell_type": "code",
   "execution_count": 7,
   "id": "8d286ac2-4fd6-4496-9633-3734cfab56ab",
   "metadata": {},
   "outputs": [
    {
     "ename": "RecursionError",
     "evalue": "maximum recursion depth exceeded",
     "output_type": "error",
     "traceback": [
      "\u001b[1;31m---------------------------------------------------------------------------\u001b[0m",
      "\u001b[1;31mRecursionError\u001b[0m                            Traceback (most recent call last)",
      "Cell \u001b[1;32mIn[7], line 1\u001b[0m\n\u001b[1;32m----> 1\u001b[0m \u001b[43msummation_using_accumulate\u001b[49m\u001b[43m(\u001b[49m\u001b[38;5;241;43m5\u001b[39;49m\u001b[43m,\u001b[49m\u001b[43m \u001b[49m\u001b[43mtriple\u001b[49m\u001b[43m)\u001b[49m\n",
      "Cell \u001b[1;32mIn[1], line 13\u001b[0m, in \u001b[0;36msummation_using_accumulate\u001b[1;34m(n, term)\u001b[0m\n\u001b[0;32m      1\u001b[0m \u001b[38;5;28;01mdef\u001b[39;00m \u001b[38;5;21msummation_using_accumulate\u001b[39m(n, term):\n\u001b[0;32m      2\u001b[0m \u001b[38;5;250m    \u001b[39m\u001b[38;5;124;03m\"\"\"Returns the sum: term(1) + ... + term(n), using accumulate.\u001b[39;00m\n\u001b[0;32m      3\u001b[0m \n\u001b[0;32m      4\u001b[0m \u001b[38;5;124;03m    >>> summation_using_accumulate(5, square) # square(0) + square(1) + ... + square(4) + square(5)\u001b[39;00m\n\u001b[1;32m   (...)\u001b[0m\n\u001b[0;32m     11\u001b[0m \u001b[38;5;124;03m    ['Expr', 'Return']\u001b[39;00m\n\u001b[0;32m     12\u001b[0m \u001b[38;5;124;03m    \"\"\"\u001b[39;00m\n\u001b[1;32m---> 13\u001b[0m     \u001b[38;5;28;01mreturn\u001b[39;00m term(n) \u001b[38;5;241m+\u001b[39m \u001b[43msummation_using_accumulate\u001b[49m\u001b[43m(\u001b[49m\u001b[43mn\u001b[49m\u001b[38;5;241;43m-\u001b[39;49m\u001b[38;5;241;43m1\u001b[39;49m\u001b[43m,\u001b[49m\u001b[43mterm\u001b[49m\u001b[43m)\u001b[49m\n",
      "Cell \u001b[1;32mIn[1], line 13\u001b[0m, in \u001b[0;36msummation_using_accumulate\u001b[1;34m(n, term)\u001b[0m\n\u001b[0;32m      1\u001b[0m \u001b[38;5;28;01mdef\u001b[39;00m \u001b[38;5;21msummation_using_accumulate\u001b[39m(n, term):\n\u001b[0;32m      2\u001b[0m \u001b[38;5;250m    \u001b[39m\u001b[38;5;124;03m\"\"\"Returns the sum: term(1) + ... + term(n), using accumulate.\u001b[39;00m\n\u001b[0;32m      3\u001b[0m \n\u001b[0;32m      4\u001b[0m \u001b[38;5;124;03m    >>> summation_using_accumulate(5, square) # square(0) + square(1) + ... + square(4) + square(5)\u001b[39;00m\n\u001b[1;32m   (...)\u001b[0m\n\u001b[0;32m     11\u001b[0m \u001b[38;5;124;03m    ['Expr', 'Return']\u001b[39;00m\n\u001b[0;32m     12\u001b[0m \u001b[38;5;124;03m    \"\"\"\u001b[39;00m\n\u001b[1;32m---> 13\u001b[0m     \u001b[38;5;28;01mreturn\u001b[39;00m term(n) \u001b[38;5;241m+\u001b[39m \u001b[43msummation_using_accumulate\u001b[49m\u001b[43m(\u001b[49m\u001b[43mn\u001b[49m\u001b[38;5;241;43m-\u001b[39;49m\u001b[38;5;241;43m1\u001b[39;49m\u001b[43m,\u001b[49m\u001b[43mterm\u001b[49m\u001b[43m)\u001b[49m\n",
      "    \u001b[1;31m[... skipping similar frames: summation_using_accumulate at line 13 (2970 times)]\u001b[0m\n",
      "Cell \u001b[1;32mIn[1], line 13\u001b[0m, in \u001b[0;36msummation_using_accumulate\u001b[1;34m(n, term)\u001b[0m\n\u001b[0;32m      1\u001b[0m \u001b[38;5;28;01mdef\u001b[39;00m \u001b[38;5;21msummation_using_accumulate\u001b[39m(n, term):\n\u001b[0;32m      2\u001b[0m \u001b[38;5;250m    \u001b[39m\u001b[38;5;124;03m\"\"\"Returns the sum: term(1) + ... + term(n), using accumulate.\u001b[39;00m\n\u001b[0;32m      3\u001b[0m \n\u001b[0;32m      4\u001b[0m \u001b[38;5;124;03m    >>> summation_using_accumulate(5, square) # square(0) + square(1) + ... + square(4) + square(5)\u001b[39;00m\n\u001b[1;32m   (...)\u001b[0m\n\u001b[0;32m     11\u001b[0m \u001b[38;5;124;03m    ['Expr', 'Return']\u001b[39;00m\n\u001b[0;32m     12\u001b[0m \u001b[38;5;124;03m    \"\"\"\u001b[39;00m\n\u001b[1;32m---> 13\u001b[0m     \u001b[38;5;28;01mreturn\u001b[39;00m \u001b[43mterm\u001b[49m\u001b[43m(\u001b[49m\u001b[43mn\u001b[49m\u001b[43m)\u001b[49m \u001b[38;5;241m+\u001b[39m summation_using_accumulate(n\u001b[38;5;241m-\u001b[39m\u001b[38;5;241m1\u001b[39m,term)\n",
      "\u001b[1;31mRecursionError\u001b[0m: maximum recursion depth exceeded"
     ]
    }
   ],
   "source": [
    "summation_using_accumulate(5, triple)"
   ]
  },
  {
   "cell_type": "code",
   "execution_count": null,
   "id": "181f078f-17a2-46a7-973e-b2e39880fa6c",
   "metadata": {},
   "outputs": [],
   "source": []
  }
 ],
 "metadata": {
  "kernelspec": {
   "display_name": "Python 3 (ipykernel)",
   "language": "python",
   "name": "python3"
  },
  "language_info": {
   "codemirror_mode": {
    "name": "ipython",
    "version": 3
   },
   "file_extension": ".py",
   "mimetype": "text/x-python",
   "name": "python",
   "nbconvert_exporter": "python",
   "pygments_lexer": "ipython3",
   "version": "3.11.9"
  }
 },
 "nbformat": 4,
 "nbformat_minor": 5
}
