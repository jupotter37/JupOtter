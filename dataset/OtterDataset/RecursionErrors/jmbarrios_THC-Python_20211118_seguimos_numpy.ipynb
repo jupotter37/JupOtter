{
  "nbformat": 4,
  "nbformat_minor": 0,
  "metadata": {
    "colab": {
      "name": "20211118-seguimos-numpy.ipynb",
      "provenance": [],
      "authorship_tag": "ABX9TyNos6zs8UdhvPNYgZoGya97"
    },
    "kernelspec": {
      "name": "python3",
      "display_name": "Python 3"
    },
    "language_info": {
      "name": "python"
    }
  },
  "cells": [
    {
      "cell_type": "markdown",
      "metadata": {
        "id": "V4Rr7x0NDQYC"
      },
      "source": [
        "## La sucesión de Fibonacci\n",
        "\n",
        "![Libro Fibonacci](https://upload.wikimedia.org/wikipedia/commons/thumb/0/04/Liber_abbaci_magliab_f124r.jpg/392px-Liber_abbaci_magliab_f124r.jpg)\n",
        "\n",
        "Esta sucesión fue descrita como una sucesión de cria de conejos. \n",
        "\n",
        "La sucesión se define como:\n",
        "\n",
        "- $a_1=1$\n",
        "- $a_2=1$\n",
        "\n",
        "y para $n>2$, $a_{n+1} = a_n + a_{n-1}$. "
      ]
    },
    {
      "cell_type": "markdown",
      "metadata": {
        "id": "wjSKybgxMIiO"
      },
      "source": [
        "$a_3 = a_2 + a_1 = 1 + 1 = 2$\n",
        "\n",
        "$a_4 = a_3 + a_2 = 2 + 1 = 3$\n",
        "\n",
        "$a_5 = a_4 + a_3 = 3 + 2 = 5$\n"
      ]
    },
    {
      "cell_type": "markdown",
      "metadata": {
        "id": "YWte-ai_Epl2"
      },
      "source": [
        "## Implementación naïve "
      ]
    },
    {
      "cell_type": "code",
      "metadata": {
        "id": "G1Zu7VUKE8uU"
      },
      "source": [
        "def fibonacci_naive(n):\n",
        "    '''calculo del n-esimo elemento de la suc. de Fibonacci\n",
        "\n",
        "    Paramters\n",
        "    ---------\n",
        "    n: int índice que se solicita de la sucesión\n",
        "\n",
        "    Returns\n",
        "    -------\n",
        "    int regresa el n-ésimo valor de la sucesión de Fibonacci\n",
        "    '''\n",
        "    if n == 1 or n == 2:\n",
        "        return 1\n",
        "    else:\n",
        "        f_n = 1\n",
        "        f_n_m_1 = 1\n",
        "        for i in range(n-2):\n",
        "            f_n, f_n_m_1 = f_n + f_n_m_1, f_n\n",
        "        return f_n"
      ],
      "execution_count": 7,
      "outputs": []
    },
    {
      "cell_type": "code",
      "metadata": {
        "id": "DTc5Oy9MUPIC"
      },
      "source": [
        ""
      ],
      "execution_count": null,
      "outputs": []
    },
    {
      "cell_type": "markdown",
      "metadata": {
        "id": "-Ws8Nk6ATtvv"
      },
      "source": [
        "Ejecutar una celda y moverse a la siguiente: `shift + enter`\n",
        "\n",
        "Ejecutar una celda y que se genere una celda abajo nueva: `alt + enter`"
      ]
    },
    {
      "cell_type": "code",
      "metadata": {
        "id": "kkAOjBLbREEZ",
        "outputId": "77b5f9b8-79c8-41b1-fa12-12932298f6a3",
        "colab": {
          "base_uri": "https://localhost:8080/"
        }
      },
      "source": [
        "fibonacci_naive(1)"
      ],
      "execution_count": 2,
      "outputs": [
        {
          "output_type": "execute_result",
          "data": {
            "text/plain": [
              "1"
            ]
          },
          "metadata": {},
          "execution_count": 2
        }
      ]
    },
    {
      "cell_type": "code",
      "metadata": {
        "id": "GHZQoEp7RIwN",
        "outputId": "6141569d-0ba9-4bf2-818a-f40967a84bb1",
        "colab": {
          "base_uri": "https://localhost:8080/"
        }
      },
      "source": [
        "fibonacci_naive(2)"
      ],
      "execution_count": 3,
      "outputs": [
        {
          "output_type": "execute_result",
          "data": {
            "text/plain": [
              "1"
            ]
          },
          "metadata": {},
          "execution_count": 3
        }
      ]
    },
    {
      "cell_type": "code",
      "metadata": {
        "id": "npuB_dXTRKkZ",
        "outputId": "f9a656b6-72d9-4c3e-d0cb-3dbecb46b11a",
        "colab": {
          "base_uri": "https://localhost:8080/"
        }
      },
      "source": [
        "fibonacci_naive(3)"
      ],
      "execution_count": 4,
      "outputs": [
        {
          "output_type": "execute_result",
          "data": {
            "text/plain": [
              "2"
            ]
          },
          "metadata": {},
          "execution_count": 4
        }
      ]
    },
    {
      "cell_type": "code",
      "metadata": {
        "id": "gwyysTkXRMCI",
        "outputId": "4af4334a-5ac6-4bfd-9bdc-a6514e366cce",
        "colab": {
          "base_uri": "https://localhost:8080/"
        }
      },
      "source": [
        "for n in range(1, 11):\n",
        "    print(fibonacci_naive(n)) \n"
      ],
      "execution_count": 5,
      "outputs": [
        {
          "output_type": "stream",
          "name": "stdout",
          "text": [
            "1\n",
            "1\n",
            "2\n",
            "3\n",
            "5\n",
            "8\n",
            "13\n",
            "21\n",
            "34\n",
            "55\n"
          ]
        }
      ]
    },
    {
      "cell_type": "code",
      "metadata": {
        "id": "M8d6CeLsRh4L"
      },
      "source": [
        ""
      ],
      "execution_count": null,
      "outputs": []
    },
    {
      "cell_type": "markdown",
      "metadata": {
        "id": "MlvMk0MbE2gB"
      },
      "source": [
        "## Implementación recursiva"
      ]
    },
    {
      "cell_type": "code",
      "metadata": {
        "id": "JeVzTsVwE7wy"
      },
      "source": [
        "def fibonacci_recursiva(n):\n",
        "    '''calculo del n-esimo elemento de la suc. de Fibonacci\n",
        "\n",
        "    Paramters\n",
        "    ---------\n",
        "    n: int índice que se solicita de la sucesión\n",
        "\n",
        "    Returns\n",
        "    -------\n",
        "    int regresa el n-ésimo valor de la sucesión de Fibonacci\n",
        "    '''\n",
        "    if n == 1 or n == 2:\n",
        "        return 1\n",
        "    else:\n",
        "        return fibonacci_recursiva(n-1) + fibonacci_recursiva(n-2)"
      ],
      "execution_count": 13,
      "outputs": []
    },
    {
      "cell_type": "code",
      "metadata": {
        "id": "D8LxPwLNVJ9T",
        "outputId": "6e869d94-553a-4c8c-c579-f8ba34f3e879",
        "colab": {
          "base_uri": "https://localhost:8080/"
        }
      },
      "source": [
        "for n in range(1, 11):\n",
        "    print(fibonacci_recursiva(n))"
      ],
      "execution_count": 10,
      "outputs": [
        {
          "output_type": "stream",
          "name": "stdout",
          "text": [
            "1\n",
            "1\n",
            "2\n",
            "3\n",
            "5\n",
            "8\n",
            "13\n",
            "21\n",
            "34\n",
            "55\n"
          ]
        }
      ]
    },
    {
      "cell_type": "code",
      "metadata": {
        "id": "4PpPBoQiVUAU"
      },
      "source": [
        ""
      ],
      "execution_count": null,
      "outputs": []
    },
    {
      "cell_type": "markdown",
      "metadata": {
        "id": "iIBcH3jGE906"
      },
      "source": [
        "## Implementación matricial"
      ]
    },
    {
      "cell_type": "markdown",
      "metadata": {
        "id": "FL8mBsRcX7em"
      },
      "source": [
        "$$\n",
        "\\begin{pmatrix}\n",
        "1 & 1 \\\\\n",
        "1 & 0\n",
        "\\end{pmatrix}^n\n",
        "= \\begin{pmatrix}\n",
        "a_{n+1} & a_n \\\\\n",
        "a_n & a_{n-1}\n",
        "\\end{pmatrix}\n",
        "$$"
      ]
    },
    {
      "cell_type": "code",
      "metadata": {
        "id": "M7OgN9TJZNjv"
      },
      "source": [
        "?matrix_power"
      ],
      "execution_count": 16,
      "outputs": []
    },
    {
      "cell_type": "code",
      "metadata": {
        "id": "YmMvhmtaFA1N"
      },
      "source": [
        "import numpy as np\n",
        "from numpy.linalg import matrix_power\n",
        "def fibonacci_matriz(n):\n",
        "    mat = np.array([[1, 1], [1, 0]])\n",
        "    print(mat.dtype)\n",
        "    return matrix_power(mat, n)[0, 1]"
      ],
      "execution_count": 32,
      "outputs": []
    },
    {
      "cell_type": "code",
      "metadata": {
        "id": "VvGQl7pfZfVS",
        "outputId": "41cb9b6f-813b-4d05-e2dc-fdaa203e7797",
        "colab": {
          "base_uri": "https://localhost:8080/"
        }
      },
      "source": [
        "for n in range(1, 11):\n",
        "    print(fibonacci_matriz(n))"
      ],
      "execution_count": 33,
      "outputs": [
        {
          "output_type": "stream",
          "name": "stdout",
          "text": [
            "int64\n",
            "1\n",
            "int64\n",
            "1\n",
            "int64\n",
            "2\n",
            "int64\n",
            "3\n",
            "int64\n",
            "5\n",
            "int64\n",
            "8\n",
            "int64\n",
            "13\n",
            "int64\n",
            "21\n",
            "int64\n",
            "34\n",
            "int64\n",
            "55\n"
          ]
        }
      ]
    },
    {
      "cell_type": "code",
      "metadata": {
        "id": "Xgo1Ek_YZ-ut"
      },
      "source": [
        "mat = np.array([[1, 1], [1, 0]])"
      ],
      "execution_count": 23,
      "outputs": []
    },
    {
      "cell_type": "code",
      "metadata": {
        "id": "UaT2nGomatWQ",
        "outputId": "211fea47-4baa-4c5f-ed8d-c018067bda87",
        "colab": {
          "base_uri": "https://localhost:8080/"
        }
      },
      "source": [
        "print(mat ** 3)"
      ],
      "execution_count": 24,
      "outputs": [
        {
          "output_type": "stream",
          "name": "stdout",
          "text": [
            "[[1 1]\n",
            " [1 0]]\n"
          ]
        }
      ]
    },
    {
      "cell_type": "code",
      "metadata": {
        "id": "i9oSNJ15Z1Tn"
      },
      "source": [
        "# matrix_power(mat, n)    mat**n"
      ],
      "execution_count": 25,
      "outputs": []
    },
    {
      "cell_type": "code",
      "metadata": {
        "id": "dmW4o0Zbejwb",
        "outputId": "fd2272bb-8b9a-4372-e96e-10129ce461e7",
        "colab": {
          "base_uri": "https://localhost:8080/"
        }
      },
      "source": [
        "%timeit fibonacci_naive(20)"
      ],
      "execution_count": 26,
      "outputs": [
        {
          "output_type": "stream",
          "name": "stdout",
          "text": [
            "1000000 loops, best of 5: 1.54 µs per loop\n"
          ]
        }
      ]
    },
    {
      "cell_type": "code",
      "metadata": {
        "id": "G7RINixbet7Z",
        "outputId": "2d27cab1-e7c6-4d0e-b163-b51040b657ea",
        "colab": {
          "base_uri": "https://localhost:8080/"
        }
      },
      "source": [
        "%timeit fibonacci_recursiva(20) # programacion dinamica"
      ],
      "execution_count": 27,
      "outputs": [
        {
          "output_type": "stream",
          "name": "stdout",
          "text": [
            "100 loops, best of 5: 2.16 ms per loop\n"
          ]
        }
      ]
    },
    {
      "cell_type": "code",
      "metadata": {
        "id": "vYh7e_pyey38",
        "outputId": "1d67a0ad-04d9-4d57-efb5-b749e2680e03",
        "colab": {
          "base_uri": "https://localhost:8080/"
        }
      },
      "source": [
        "%timeit fibonacci_matriz(20)"
      ],
      "execution_count": 28,
      "outputs": [
        {
          "output_type": "stream",
          "name": "stdout",
          "text": [
            "The slowest run took 25.40 times longer than the fastest. This could mean that an intermediate result is being cached.\n",
            "100000 loops, best of 5: 13.6 µs per loop\n"
          ]
        }
      ]
    },
    {
      "cell_type": "code",
      "metadata": {
        "id": "p1PH_jv-e3dz",
        "outputId": "9bff7259-d83b-4817-d4b4-5b9c7d2e88f9",
        "colab": {
          "base_uri": "https://localhost:8080/",
          "height": 325
        }
      },
      "source": [
        "fibonacci_recursiva(1000)"
      ],
      "execution_count": 29,
      "outputs": [
        {
          "output_type": "error",
          "ename": "RecursionError",
          "evalue": "ignored",
          "traceback": [
            "\u001b[0;31m---------------------------------------------------------------------------\u001b[0m",
            "\u001b[0;31mRecursionError\u001b[0m                            Traceback (most recent call last)",
            "\u001b[0;32m<ipython-input-29-67d874874a2f>\u001b[0m in \u001b[0;36m<module>\u001b[0;34m()\u001b[0m\n\u001b[0;32m----> 1\u001b[0;31m \u001b[0mfibonacci_recursiva\u001b[0m\u001b[0;34m(\u001b[0m\u001b[0;36m1000\u001b[0m\u001b[0;34m)\u001b[0m\u001b[0;34m\u001b[0m\u001b[0;34m\u001b[0m\u001b[0m\n\u001b[0m",
            "\u001b[0;32m<ipython-input-13-7002dd5d3df6>\u001b[0m in \u001b[0;36mfibonacci_recursiva\u001b[0;34m(n)\u001b[0m\n\u001b[1;32m     13\u001b[0m         \u001b[0;32mreturn\u001b[0m \u001b[0;36m1\u001b[0m\u001b[0;34m\u001b[0m\u001b[0;34m\u001b[0m\u001b[0m\n\u001b[1;32m     14\u001b[0m     \u001b[0;32melse\u001b[0m\u001b[0;34m:\u001b[0m\u001b[0;34m\u001b[0m\u001b[0;34m\u001b[0m\u001b[0m\n\u001b[0;32m---> 15\u001b[0;31m         \u001b[0;32mreturn\u001b[0m \u001b[0mfibonacci_recursiva\u001b[0m\u001b[0;34m(\u001b[0m\u001b[0mn\u001b[0m\u001b[0;34m-\u001b[0m\u001b[0;36m1\u001b[0m\u001b[0;34m)\u001b[0m \u001b[0;34m+\u001b[0m \u001b[0mfibonacci_recursiva\u001b[0m\u001b[0;34m(\u001b[0m\u001b[0mn\u001b[0m\u001b[0;34m-\u001b[0m\u001b[0;36m2\u001b[0m\u001b[0;34m)\u001b[0m\u001b[0;34m\u001b[0m\u001b[0;34m\u001b[0m\u001b[0m\n\u001b[0m",
            "... last 1 frames repeated, from the frame below ...\n",
            "\u001b[0;32m<ipython-input-13-7002dd5d3df6>\u001b[0m in \u001b[0;36mfibonacci_recursiva\u001b[0;34m(n)\u001b[0m\n\u001b[1;32m     13\u001b[0m         \u001b[0;32mreturn\u001b[0m \u001b[0;36m1\u001b[0m\u001b[0;34m\u001b[0m\u001b[0;34m\u001b[0m\u001b[0m\n\u001b[1;32m     14\u001b[0m     \u001b[0;32melse\u001b[0m\u001b[0;34m:\u001b[0m\u001b[0;34m\u001b[0m\u001b[0;34m\u001b[0m\u001b[0m\n\u001b[0;32m---> 15\u001b[0;31m         \u001b[0;32mreturn\u001b[0m \u001b[0mfibonacci_recursiva\u001b[0m\u001b[0;34m(\u001b[0m\u001b[0mn\u001b[0m\u001b[0;34m-\u001b[0m\u001b[0;36m1\u001b[0m\u001b[0;34m)\u001b[0m \u001b[0;34m+\u001b[0m \u001b[0mfibonacci_recursiva\u001b[0m\u001b[0;34m(\u001b[0m\u001b[0mn\u001b[0m\u001b[0;34m-\u001b[0m\u001b[0;36m2\u001b[0m\u001b[0;34m)\u001b[0m\u001b[0;34m\u001b[0m\u001b[0;34m\u001b[0m\u001b[0m\n\u001b[0m",
            "\u001b[0;31mRecursionError\u001b[0m: maximum recursion depth exceeded in comparison"
          ]
        }
      ]
    },
    {
      "cell_type": "code",
      "metadata": {
        "id": "B190Nb46flBp",
        "outputId": "80c744b5-f2e1-4caa-eff5-ba92abce5cbc",
        "colab": {
          "base_uri": "https://localhost:8080/"
        }
      },
      "source": [
        "fibonacci_naive(1000)"
      ],
      "execution_count": 30,
      "outputs": [
        {
          "output_type": "execute_result",
          "data": {
            "text/plain": [
              "43466557686937456435688527675040625802564660517371780402481729089536555417949051890403879840079255169295922593080322634775209689623239873322471161642996440906533187938298969649928516003704476137795166849228875"
            ]
          },
          "metadata": {},
          "execution_count": 30
        }
      ]
    },
    {
      "cell_type": "code",
      "metadata": {
        "id": "bLLQ9U07ftIR",
        "outputId": "fb29d89c-159f-491a-8ddc-dc337385a7dd",
        "colab": {
          "base_uri": "https://localhost:8080/"
        }
      },
      "source": [
        "fibonacci_matriz(95)"
      ],
      "execution_count": 31,
      "outputs": [
        {
          "output_type": "execute_result",
          "data": {
            "text/plain": [
              "-4953053512429003327"
            ]
          },
          "metadata": {},
          "execution_count": 31
        }
      ]
    },
    {
      "cell_type": "markdown",
      "metadata": {
        "id": "LGWw4bl2IKkL"
      },
      "source": [
        "# Fibonacci y la razón aurea\n",
        "\n",
        "![Rectángulo aureo](https://upload.wikimedia.org/wikipedia/commons/thumb/8/8e/SimilarGoldenRectangles.svg/524px-SimilarGoldenRectangles.svg.png)\n",
        "\n",
        "El rectángulo aureo es aquel que cumple\n",
        "\n",
        "$$\n",
        "    \\frac{a+b}{a} = \\frac{a}{b}\n",
        "$$\n",
        "y a este cociente se le denota como $\\varphi=\\frac{1+\\sqrt{5}}{2}$.\n",
        "\n",
        "$$\n",
        "\\lim_{n\\to \\infty} \\frac{a_{n+1}}{a_n} = φ\n",
        "$$"
      ]
    },
    {
      "cell_type": "code",
      "metadata": {
        "id": "lDBSJzZTK7tY",
        "outputId": "5562b164-6587-489d-834f-ce45cf3e6d96",
        "colab": {
          "base_uri": "https://localhost:8080/"
        }
      },
      "source": [
        "fib_seq = np.array([fibonacci_naive(n) for n in range(1, 101)])\n",
        "print(fib_seq[:10])"
      ],
      "execution_count": 34,
      "outputs": [
        {
          "output_type": "stream",
          "name": "stdout",
          "text": [
            "[1 1 2 3 5 8 13 21 34 55]\n"
          ]
        }
      ]
    },
    {
      "cell_type": "code",
      "metadata": {
        "id": "rUTtK7RJiBTY",
        "outputId": "b787f296-5b58-4145-d5fd-206531ab0eed",
        "colab": {
          "base_uri": "https://localhost:8080/"
        }
      },
      "source": [
        "s = fib_seq[1:]/fib_seq[:-1]\n",
        "print(s[:10])"
      ],
      "execution_count": 36,
      "outputs": [
        {
          "output_type": "stream",
          "name": "stdout",
          "text": [
            "[1.0 2.0 1.5 1.6666666666666667 1.6 1.625 1.6153846153846154\n",
            " 1.619047619047619 1.6176470588235294 1.6181818181818182]\n"
          ]
        }
      ]
    },
    {
      "cell_type": "code",
      "metadata": {
        "id": "Bu7QBhfHi2Tr",
        "outputId": "463a76b5-03b4-45c1-c396-ed83df4b95f7",
        "colab": {
          "base_uri": "https://localhost:8080/"
        }
      },
      "source": [
        "print(s.shape)"
      ],
      "execution_count": 38,
      "outputs": [
        {
          "output_type": "stream",
          "name": "stdout",
          "text": [
            "(99,)\n"
          ]
        }
      ]
    },
    {
      "cell_type": "code",
      "metadata": {
        "id": "ry_TXm8Cihqs"
      },
      "source": [
        "from matplotlib import pyplot as plt"
      ],
      "execution_count": 37,
      "outputs": []
    },
    {
      "cell_type": "code",
      "metadata": {
        "id": "mJSQo_2DidGq",
        "outputId": "a134784c-565b-4036-cb60-6f8981d8c73d",
        "colab": {
          "base_uri": "https://localhost:8080/",
          "height": 555
        }
      },
      "source": [
        "plt.figure(figsize=(16, 9))\n",
        "plt.plot(np.arange(99), s)"
      ],
      "execution_count": 41,
      "outputs": [
        {
          "output_type": "execute_result",
          "data": {
            "text/plain": [
              "[<matplotlib.lines.Line2D at 0x7f7490380490>]"
            ]
          },
          "metadata": {},
          "execution_count": 41
        },
        {
          "output_type": "display_data",
          "data": {
            "image/png": "[encoded data removed]",
            "text/plain": [
              "<Figure size 1152x648 with 1 Axes>"
            ]
          },
          "metadata": {
            "needs_background": "light"
          }
        }
      ]
    },
    {
      "cell_type": "code",
      "metadata": {
        "id": "3RKVLVxRjAKF"
      },
      "source": [
        ""
      ],
      "execution_count": null,
      "outputs": []
    }
  ]
}