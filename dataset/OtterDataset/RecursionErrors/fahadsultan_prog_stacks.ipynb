{
 "cells": [
  {
   "cell_type": "markdown",
   "metadata": {},
   "source": [
    "# Stacks"
   ]
  },
  {
   "cell_type": "markdown",
   "metadata": {},
   "source": [
    "<img src=\"https://i.ibb.co/kmD7VBq/stacks.png\" align=\"right\" width=\"40%\">\n",
    "\n",
    "A stack is a collection of objects set on top of each other. \n",
    "\n",
    "Note that this organization imposes constraints on the order in which objects can be added or removed. That is, the last object placed on the stack is the first one to be removed. This is known as the **Last-In-First-Out (LIFO) order**.\n",
    "\n",
    "Stacks are integral to computer science. They are used to store and manage function calls, to implement certain types of algorithms, and to manage memory.\n",
    "\n",
    "## Operations\n",
    "\n",
    "Stacks, in essence, are defined by the operations they support. These operations are:\n",
    "\n",
    "<center>\n",
    "<img src=\"https://cdn.programiz.com/sites/tutorial2program/files/stack.png\" width=\"80%\">\n",
    "</center>\n",
    "\n",
    "\n",
    "<br/>\n",
    "\n",
    "- <span style=\"font-size:20px\">**Push**</span>: Adds a given element to the top of the stack. \n",
    "\n",
    "<!-- <br/> -->\n",
    "\n",
    "- <span style=\"font-size:20px\">**Pop**</span>: Removes the top element from the stack. \n",
    "\n",
    "<!-- <br/> -->\n",
    "\n",
    "- <span style=\"font-size:20px\">**Empty**</span>: Returns `True` if the stack is empty, `False` otherwise.\n",
    "\n",
    "<!-- <br/> -->\n",
    "\n",
    "- <span style=\"font-size:20px\">**Peek**</span>: Returns the top element of the stack, without removing it. \\\n",
    "This operation is also known as `top` or `front` or `head`.\n",
    "\n",
    "<!-- <br/> -->\n",
    "\n",
    "- <span style=\"font-size:20px\">**Size**</span>: Returns the number of elements in the stack. \\\n",
    "This operation is also known as `length` or `count`.\n",
    "\n",
    "<br/>\n",
    "\n",
    "<center><img src=\"https://fullyunderstood.com/wp-content/uploads/2020/02/stack.gif\" width=\"70%\"></center>\n",
    "\n",
    "\n",
    "Equally important to the operations that a stack supports is the operations that it does not support. \n",
    "\n",
    "In other words, stacks do not support: \n",
    "\n",
    "❌ Reading, inserting and removing elements from/at **arbitrary positions**. \\\n",
    "✅ You can access, insert or remove the element at the **_top of the stack only_**.\n",
    "\n",
    "<!-- using the `peek` operation.\n",
    "\n",
    "<br/>\n",
    "\n",
    "* ❌ Insert elements at arbitrary positions. \\\n",
    "✅ You can only insert elements at the _top of the stack_ using the `push` operation.\n",
    "\n",
    "<br/>\n",
    "\n",
    "* ❌ Remove elements from arbitrary positions. \\\n",
    "✅ You can only remove elements from the _top of the stack_ using the `pop` operation.\n",
    "\n",
    "\n",
    "<br/>\n",
    "\n",
    "Whether you are adding, removing, or accessing elements, you can only interact with the top of the stack. \n",
    "\n",
    "<br/> -->"
   ]
  },
  {
   "cell_type": "markdown",
   "metadata": {},
   "source": []
  },
  {
   "cell_type": "markdown",
   "metadata": {},
   "source": [
    "## Application 1: Call Stacks \n",
    "\n",
    "A **Call Stack** is a stack data structure that keeps track of and manages active function (or subroutine or method or procedure) in a computer program at any given time. \n",
    "\n",
    "This kind of stack is also known as an _\"execution stack\", \"control stack\", \"run-time stack\", or \"machine stack\"_, and is often shortened to just _\"the stack\"_.\n",
    "\n",
    "The call stack is used for several related purposes, but the main reason for having a call stack is to keep track of the point to which each active function should jump to when it finishes executing.\n",
    "\n",
    "<br/><br/>\n",
    "<center>\n",
    "<img src=\"https://miro.medium.com/v2/resize:fit:1400/1*rJ2sh-q1deQGGGVG5gYyIQ.png\" width=\"80%\">\n",
    "</center>\n",
    "\n",
    "\n",
    "### Stack Frame \n",
    "\n",
    "A **Stack Frame** is a data structure that contains information about the state of a function (or subroutine or method or procedure). \n",
    "\n",
    "<center>\n",
    "<img src=\"https://upload.wikimedia.org/wikipedia/commons/thumb/d/d3/Call_stack_layout.svg/342px-Call_stack_layout.svg.png\" width=\"40%\">\n",
    "</center>\n",
    "\n",
    "When a function is called, a new frame is pushed onto the stack. This frame contains information about the function, such as its arguments and local variables.\n",
    "\n",
    "When a function returns, the frame is popped off the stack. This allows the program to return to the point where the function was called.\n",
    "\n",
    "<center>\n",
    "<img src=\"https://vaibhavguptame.files.wordpress.com/2018/01/callstack.gif?w=1100\" width=\"70%\">\n",
    "</center>"
   ]
  },
  {
   "cell_type": "markdown",
   "metadata": {},
   "source": [
    "### Stack Trace"
   ]
  },
  {
   "cell_type": "markdown",
   "metadata": {},
   "source": [
    "**Stack trace** (also known as **stack back track** or **stack trace back**) is a list of the function calls, and their corresponding stack frames, at some point in the execution of a program. \n",
    "\n",
    "Any time a program crashes, most programming languages will print a stack trace to the console. This is a list of all the functions that were called up to the point of the crash, and it is a very useful tool for debugging. By examining the stack trace, you can determine the sequence of function calls that led to the crash."
   ]
  },
  {
   "cell_type": "markdown",
   "metadata": {},
   "source": [
    "As an example, the following Python program contains an error."
   ]
  },
  {
   "cell_type": "code",
   "execution_count": null,
   "metadata": {},
   "outputs": [
    {
     "ename": "NameError",
     "evalue": "name 'error' is not defined",
     "output_type": "error",
     "traceback": [
      "\u001b[0;31m---------------------------------------------------------------------------\u001b[0m\n",
      "\u001b[0;31mNameError\u001b[0m                                 Traceback (most recent call last)\n",
      "Cell \u001b[0;32mIn[1], line 15\u001b[0m\n",
      "\u001b[1;32m     12\u001b[0m \u001b[38;5;28;01mdef\u001b[39;00m \u001b[38;5;21mc\u001b[39m():\n",
      "\u001b[1;32m     13\u001b[0m     error()\n",
      "\u001b[0;32m---> 15\u001b[0m \u001b[43ma\u001b[49m\u001b[43m(\u001b[49m\u001b[43m)\u001b[49m\n",
      "\n",
      "Cell \u001b[0;32mIn[1], line 3\u001b[0m, in \u001b[0;36ma\u001b[0;34m()\u001b[0m\n",
      "\u001b[1;32m      1\u001b[0m \u001b[38;5;28;01mdef\u001b[39;00m \u001b[38;5;21ma\u001b[39m():\n",
      "\u001b[1;32m      2\u001b[0m     i \u001b[38;5;241m=\u001b[39m \u001b[38;5;241m0\u001b[39m\n",
      "\u001b[0;32m----> 3\u001b[0m     j \u001b[38;5;241m=\u001b[39m \u001b[43mb\u001b[49m\u001b[43m(\u001b[49m\u001b[43mi\u001b[49m\u001b[43m)\u001b[49m\n",
      "\u001b[1;32m      4\u001b[0m     \u001b[38;5;28;01mreturn\u001b[39;00m j\n",
      "\n",
      "Cell \u001b[0;32mIn[1], line 9\u001b[0m, in \u001b[0;36mb\u001b[0;34m(z)\u001b[0m\n",
      "\u001b[1;32m      7\u001b[0m k \u001b[38;5;241m=\u001b[39m \u001b[38;5;241m5\u001b[39m\n",
      "\u001b[1;32m      8\u001b[0m \u001b[38;5;28;01mif\u001b[39;00m z \u001b[38;5;241m==\u001b[39m \u001b[38;5;241m0\u001b[39m:\n",
      "\u001b[0;32m----> 9\u001b[0m     \u001b[43mc\u001b[49m\u001b[43m(\u001b[49m\u001b[43m)\u001b[49m\n",
      "\u001b[1;32m     10\u001b[0m \u001b[38;5;28;01mreturn\u001b[39;00m k \u001b[38;5;241m+\u001b[39m z\n",
      "\n",
      "Cell \u001b[0;32mIn[1], line 13\u001b[0m, in \u001b[0;36mc\u001b[0;34m()\u001b[0m\n",
      "\u001b[1;32m     12\u001b[0m \u001b[38;5;28;01mdef\u001b[39;00m \u001b[38;5;21mc\u001b[39m():\n",
      "\u001b[0;32m---> 13\u001b[0m     \u001b[43merror\u001b[49m()\n",
      "\n",
      "\u001b[0;31mNameError\u001b[0m: name 'error' is not defined"
     ]
    }
   ],
   "source": [
    "def a():\n",
    "    i = 0\n",
    "    j = b(i)      # line 3\n",
    "    return j\n",
    "\n",
    "def b(z):\n",
    "    k = 5\n",
    "    if z == 0:\n",
    "        c()       # line 9\n",
    "    return k + z\n",
    "\n",
    "def c():\n",
    "    error()       # line 13\n",
    "\n",
    "a()               # line 15"
   ]
  },
  {
   "cell_type": "markdown",
   "metadata": {},
   "source": [
    "\n",
    "\n",
    "### Stack Overflow "
   ]
  },
  {
   "cell_type": "markdown",
   "metadata": {},
   "source": [
    "\n",
    "\n",
    "Stack overflow is a common problem in recursive programs. It occurs when the stack is full and there is no more space to push new function calls.\n",
    "\n",
    "<center><img width=\"25%\" src=\"https://upload.wikimedia.org/wikipedia/commons/thumb/e/ef/Stack_Overflow_icon.svg/768px-Stack_Overflow_icon.svg.png\" ></center>\n",
    "\n",
    "This can happen if a recursive function calls itself too many times, or if the function has a large number of local variables. When a stack overflow occurs, the program will crash with a \"stack overflow\" error."
   ]
  },
  {
   "cell_type": "code",
   "execution_count": null,
   "metadata": {},
   "outputs": [
    {
     "ename": "RecursionError",
     "evalue": "maximum recursion depth exceeded",
     "output_type": "error",
     "traceback": [
      "\u001b[0;31m---------------------------------------------------------------------------\u001b[0m\n",
      "\u001b[0;31mRecursionError\u001b[0m                            Traceback (most recent call last)\n",
      "Cell \u001b[0;32mIn[3], line 4\u001b[0m\n",
      "\u001b[1;32m      1\u001b[0m \u001b[38;5;28;01mdef\u001b[39;00m \u001b[38;5;21mf\u001b[39m():\n",
      "\u001b[1;32m      2\u001b[0m     f()\n",
      "\u001b[0;32m----> 4\u001b[0m \u001b[43mf\u001b[49m\u001b[43m(\u001b[49m\u001b[43m)\u001b[49m\n",
      "\n",
      "Cell \u001b[0;32mIn[3], line 2\u001b[0m, in \u001b[0;36mf\u001b[0;34m()\u001b[0m\n",
      "\u001b[1;32m      1\u001b[0m \u001b[38;5;28;01mdef\u001b[39;00m \u001b[38;5;21mf\u001b[39m():\n",
      "\u001b[0;32m----> 2\u001b[0m     \u001b[43mf\u001b[49m\u001b[43m(\u001b[49m\u001b[43m)\u001b[49m\n",
      "\n",
      "Cell \u001b[0;32mIn[3], line 2\u001b[0m, in \u001b[0;36mf\u001b[0;34m()\u001b[0m\n",
      "\u001b[1;32m      1\u001b[0m \u001b[38;5;28;01mdef\u001b[39;00m \u001b[38;5;21mf\u001b[39m():\n",
      "\u001b[0;32m----> 2\u001b[0m     \u001b[43mf\u001b[49m\u001b[43m(\u001b[49m\u001b[43m)\u001b[49m\n",
      "\n",
      "    \u001b[0;31m[... skipping similar frames: f at line 2 (2970 times)]\u001b[0m\n",
      "\n",
      "Cell \u001b[0;32mIn[3], line 2\u001b[0m, in \u001b[0;36mf\u001b[0;34m()\u001b[0m\n",
      "\u001b[1;32m      1\u001b[0m \u001b[38;5;28;01mdef\u001b[39;00m \u001b[38;5;21mf\u001b[39m():\n",
      "\u001b[0;32m----> 2\u001b[0m     \u001b[43mf\u001b[49m\u001b[43m(\u001b[49m\u001b[43m)\u001b[49m\n",
      "\n",
      "\u001b[0;31mRecursionError\u001b[0m: maximum recursion depth exceeded"
     ]
    }
   ],
   "source": [
    "def f():\n",
    "    f()\n",
    "\n",
    "f()"
   ]
  },
  {
   "cell_type": "markdown",
   "metadata": {},
   "source": []
  },
  {
   "cell_type": "markdown",
   "metadata": {},
   "source": [
    "## Application 2: Undo and History\n",
    "\n",
    "Stacks are also used to implement undo functionality in many applications.\n",
    "\n",
    "For example, when you type text into a text editor, the editor keeps track of the changes you make. If you make a mistake, you can undo the changes by pressing `Ctrl+Z`.\n",
    "\n",
    "The editor does this by storing the changes in a stack. When you press `Ctrl+Z`, the editor pops the last change off the stack and applies it to the text.\n",
    "\n",
    "This is a simple example of how stacks can be used to implement undo functionality. Stacks can also be used to implement history functionality, where you can navigate through the changes you have made to a document.\n",
    "\n",
    "<center><img src=\"https://i.ibb.co/vqyGGdK/Copy-of-6-4-Undo-Redo-Stacks-0.jpg\" width=\"50%\"></center>\n",
    "\n",
    "Similarly, stacks can be used to implement the forward and back buttons in a web browser. When you click on a link, the browser pushes the current page onto a stack and loads the new page. If you click the back button, the browser pops the last page off the stack and loads it."
   ]
  },
  {
   "cell_type": "markdown",
   "metadata": {},
   "source": [
    "## Application 3: Parsing \n",
    "\n",
    "Stacks are also used in parsing and expression evaluation.\n",
    "\n",
    "For example, when you write a program in a programming language, the compiler or interpreter uses a stack to keep track of the order of operations in the program.\n",
    "\n",
    "Similarly, when you evaluate an expression, such as `3 + 4 * 5`, the computer uses a stack to keep track of the order of operations.\n",
    "\n",
    "Some problems that can be solved using stacks are:\n",
    "\n",
    "- **Balanced Parentheses**: Check if a given expression has balanced parentheses. For example, `((()))` is balanced, while `(()))` is not.\n",
    "\n",
    "- **Infix to Postfix**: Convert an infix expression to a postfix expression. For example, convert `3 + 4 * 5` to `3 4 5 * +`.\n",
    "\n",
    "- **Evaluate Postfix**: Evaluate a postfix expression. For example, evaluate `3 4 5 * +` to `23`."
   ]
  },
  {
   "cell_type": "markdown",
   "metadata": {},
   "source": [
    "\n",
    "## Implementation\n"
   ]
  },
  {
   "cell_type": "code",
   "execution_count": 2,
   "metadata": {},
   "outputs": [
    {
     "name": "stdout",
     "output_type": "stream",
     "text": [
      "All test cases passed\n"
     ]
    }
   ],
   "source": [
    "class Stack:\n",
    "\n",
    "    def __init__(self):\n",
    "        self.__data = []\n",
    "\n",
    "    def push(self, value):\n",
    "        self.__data.append(value)\n",
    "\n",
    "    def pop(self):\n",
    "        return self.__data.pop()\n",
    "    \n",
    "    def peek(self):\n",
    "        return self.__data[-1]\n",
    "    \n",
    "    def is_empty(self):\n",
    "        return len(self.__data) == 0\n",
    "    \n",
    "    def __str__(self):\n",
    "        return str(self.__data)\n",
    "    \n",
    "    def __len__(self):\n",
    "        return len(self.__data)\n",
    "    \n",
    "\n",
    "s = Stack()\n",
    "assert s.is_empty() == True,  \"Test case 1 failed\"\n",
    "s.push(1)\n",
    "s.push(2)\n",
    "assert s.is_empty() == False, \"Test case 2 failed\"\n",
    "assert s.pop() == 2,          \"Test case 3 failed\"\n",
    "assert s.peek() == 1,         \"Test case 4 failed\"\n",
    "assert s.pop() == 1,          \"Test case 5 failed\"\n",
    "assert s.is_empty() == True,  \"Test case 6 failed\"\n",
    "\n",
    "print(\"All test cases passed\")\n"
   ]
  },
  {
   "cell_type": "markdown",
   "metadata": {},
   "source": [
    "## Space and Time Complexity\n",
    "\n",
    "The space complexity of a stack is `O(n)`, where `n` is the number of elements in the stack. This is because the stack stores each element in a separate node.\n",
    "\n",
    "The time complexity of the `push`, `pop`, `peek`, `empty`, and `size` operations is `O(1)`. This is because these operations only involve updating the top of the stack, which can be done in constant time."
   ]
  }
 ],
 "metadata": {
  "kernelspec": {
   "display_name": "Python 3",
   "language": "python",
   "name": "python3"
  },
  "language_info": {
   "codemirror_mode": {
    "name": "ipython",
    "version": 3
   },
   "file_extension": ".py",
   "mimetype": "text/x-python",
   "name": "python",
   "nbconvert_exporter": "python",
   "pygments_lexer": "ipython3",
   "version": "3.9.6"
  }
 },
 "nbformat": 4,
 "nbformat_minor": 2
}
