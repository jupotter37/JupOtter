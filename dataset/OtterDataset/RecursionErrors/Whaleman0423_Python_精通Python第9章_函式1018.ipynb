{
  "nbformat": 4,
  "nbformat_minor": 0,
  "metadata": {
    "colab": {
      "name": "精通Python第9章_函式1018.ipynb",
      "provenance": [],
      "collapsed_sections": [],
      "authorship_tag": "ABX9TyOIyzcR9OxxbTJIpaHvVvbj",
      "include_colab_link": true
    },
    "kernelspec": {
      "name": "python3",
      "display_name": "Python 3"
    },
    "language_info": {
      "name": "python"
    }
  },
  "cells": [
    {
      "cell_type": "markdown",
      "metadata": {
        "id": "view-in-github",
        "colab_type": "text"
      },
      "source": [
        "<a href=\"https://colab.research.google.com/github/Whaleman0423/-Python-book-practice/blob/main/%E7%B2%BE%E9%80%9APython/%E7%B2%BE%E9%80%9APython%E7%AC%AC9%E7%AB%A0_%E5%87%BD%E5%BC%8F1018.ipynb\" target=\"_parent\"><img src=\"https://colab.research.google.com/assets/colab-badge.svg\" alt=\"Open In Colab\"/></a>"
      ]
    },
    {
      "cell_type": "code",
      "metadata": {
        "id": "8Drs2bfbI5Vw"
      },
      "source": [
        "def do_nothing():\n",
        "  pass"
      ],
      "execution_count": null,
      "outputs": []
    },
    {
      "cell_type": "code",
      "metadata": {
        "id": "rOuHNrpXTxqc"
      },
      "source": [
        "do_nothing()"
      ],
      "execution_count": null,
      "outputs": []
    },
    {
      "cell_type": "code",
      "metadata": {
        "colab": {
          "base_uri": "https://localhost:8080/"
        },
        "id": "HCtvou7kT0ao",
        "outputId": "59a5ca9c-0b62-4b89-a70e-68390c1ebac5"
      },
      "source": [
        "def make_a_sound():\n",
        "  print(\"quack\")\n",
        "make_a_sound()"
      ],
      "execution_count": null,
      "outputs": [
        {
          "output_type": "stream",
          "name": "stdout",
          "text": [
            "quack\n"
          ]
        }
      ]
    },
    {
      "cell_type": "markdown",
      "metadata": {
        "id": "aRs4erPTUQCO"
      },
      "source": [
        "###### 定義式 回傳值"
      ]
    },
    {
      "cell_type": "code",
      "metadata": {
        "colab": {
          "base_uri": "https://localhost:8080/"
        },
        "id": "9eLBMzkTUBh_",
        "outputId": "9afc7342-1b3d-41d6-8809-1597ccb5bd3f"
      },
      "source": [
        "def agree():\n",
        "  return True\n",
        "\n",
        "if agree():\n",
        "  print(\"Splendid\") \n",
        "else:\n",
        "  print(\"That was unexpected.\")\n"
      ],
      "execution_count": null,
      "outputs": [
        {
          "output_type": "stream",
          "name": "stdout",
          "text": [
            "Splendid\n"
          ]
        }
      ]
    },
    {
      "cell_type": "markdown",
      "metadata": {
        "id": "RAO7Qy_fUlcz"
      },
      "source": [
        "###### 引數與參數"
      ]
    },
    {
      "cell_type": "code",
      "metadata": {
        "colab": {
          "base_uri": "https://localhost:8080/",
          "height": 35
        },
        "id": "FeMKIKerUxJG",
        "outputId": "e9eb3ec6-0645-4995-cfa7-4f71607b972c"
      },
      "source": [
        "def echo(anything):\n",
        "  return anything + \" \" + anything\n",
        "\n",
        "echo(\"Rumplestiltskin\")"
      ],
      "execution_count": null,
      "outputs": [
        {
          "output_type": "execute_result",
          "data": {
            "application/vnd.google.colaboratory.intrinsic+json": {
              "type": "string"
            },
            "text/plain": [
              "'Rumplestiltskin Rumplestiltskin'"
            ]
          },
          "metadata": {},
          "execution_count": 113
        }
      ]
    },
    {
      "cell_type": "code",
      "metadata": {
        "colab": {
          "base_uri": "https://localhost:8080/"
        },
        "id": "bLuUT5h3VcZd",
        "outputId": "1dfcd088-d5b8-414c-b719-4deea9207230"
      },
      "source": [
        "def commentary(color):\n",
        "  if color == \"red\":\n",
        "    return \"It's a tomato.\"\n",
        "  elif color == \"green\":\n",
        "    return \"It's a green papper.\"\n",
        "  elif color == \"bee purple\":\n",
        "    return \"I don't know what it is, but only bees can see it.\" \n",
        "  else:\n",
        "    return \"I've never heard of the color\" + color + \".\"\n",
        "\n",
        "comment = commentary(\"blue\")\n",
        "print(comment)"
      ],
      "execution_count": null,
      "outputs": [
        {
          "output_type": "stream",
          "name": "stdout",
          "text": [
            "I've never heard of the colorblue.\n"
          ]
        }
      ]
    },
    {
      "cell_type": "code",
      "metadata": {
        "colab": {
          "base_uri": "https://localhost:8080/"
        },
        "id": "YqDKIMi5XfRo",
        "outputId": "569fa950-38ed-49f3-cf59-54e695a75ee7"
      },
      "source": [
        "print(do_nothing())"
      ],
      "execution_count": null,
      "outputs": [
        {
          "output_type": "stream",
          "name": "stdout",
          "text": [
            "None\n"
          ]
        }
      ]
    },
    {
      "cell_type": "code",
      "metadata": {
        "colab": {
          "base_uri": "https://localhost:8080/"
        },
        "id": "Xj8igfKuXlM9",
        "outputId": "75652fbd-aa1e-4a9b-dfea-6e1e558315ff"
      },
      "source": [
        "thing = None \n",
        "if thing:\n",
        "  print(\"It's some thing.\")\n",
        "else:\n",
        "  print(\"It's no thing.\")"
      ],
      "execution_count": null,
      "outputs": [
        {
          "output_type": "stream",
          "name": "stdout",
          "text": [
            "It's no thing.\n"
          ]
        }
      ]
    },
    {
      "cell_type": "code",
      "metadata": {
        "colab": {
          "base_uri": "https://localhost:8080/"
        },
        "id": "yhBoWdMMYig1",
        "outputId": "336e4ad5-2fc2-40a7-f893-8d7a8745e875"
      },
      "source": [
        "thing = None \n",
        "if thing is None:\n",
        "  print(\"It's nothing.\")\n",
        "else:\n",
        "  print(\"It's something.\")"
      ],
      "execution_count": null,
      "outputs": [
        {
          "output_type": "stream",
          "name": "stdout",
          "text": [
            "It's nothing.\n"
          ]
        }
      ]
    },
    {
      "cell_type": "code",
      "metadata": {
        "id": "iDmS8_0wZtWz"
      },
      "source": [
        "def whatis(thing):\n",
        "  if thing is None:\n",
        "    print(thing, \"is None.\")\n",
        "  elif thing:\n",
        "    print(thing, \"is True.\")\n",
        "  elif not thing:\n",
        "    print(thing, \"is False.\")\n",
        "  else:\n",
        "    print(thing)"
      ],
      "execution_count": null,
      "outputs": []
    },
    {
      "cell_type": "code",
      "metadata": {
        "colab": {
          "base_uri": "https://localhost:8080/"
        },
        "id": "vLovP3I3aQ9P",
        "outputId": "87d909db-ef6e-4fc7-f3a4-18faae3e589c"
      },
      "source": [
        "whatis(None)"
      ],
      "execution_count": null,
      "outputs": [
        {
          "output_type": "stream",
          "name": "stdout",
          "text": [
            "None is None.\n"
          ]
        }
      ]
    },
    {
      "cell_type": "code",
      "metadata": {
        "colab": {
          "base_uri": "https://localhost:8080/"
        },
        "id": "gq7AkqnoaXzM",
        "outputId": "07ffd8b9-9827-40d9-eb26-a14067156d54"
      },
      "source": [
        "whatis(True)"
      ],
      "execution_count": null,
      "outputs": [
        {
          "output_type": "stream",
          "name": "stdout",
          "text": [
            "True is True.\n"
          ]
        }
      ]
    },
    {
      "cell_type": "code",
      "metadata": {
        "colab": {
          "base_uri": "https://localhost:8080/"
        },
        "id": "Y8RJJdBfabT9",
        "outputId": "f95a1d54-ef23-444f-9791-289159412e07"
      },
      "source": [
        "whatis(False)"
      ],
      "execution_count": null,
      "outputs": [
        {
          "output_type": "stream",
          "name": "stdout",
          "text": [
            "False is False.\n"
          ]
        }
      ]
    },
    {
      "cell_type": "code",
      "metadata": {
        "colab": {
          "base_uri": "https://localhost:8080/"
        },
        "id": "PoM4EZjNanya",
        "outputId": "ee8fad3a-5fa9-4240-dee4-f1828f3e4d9a"
      },
      "source": [
        "whatis(0)"
      ],
      "execution_count": null,
      "outputs": [
        {
          "output_type": "stream",
          "name": "stdout",
          "text": [
            "0 is False.\n"
          ]
        }
      ]
    },
    {
      "cell_type": "code",
      "metadata": {
        "colab": {
          "base_uri": "https://localhost:8080/"
        },
        "id": "jR5e1NUGbBAc",
        "outputId": "f1b4223e-2a9f-4f8a-95a2-221aa5178abe"
      },
      "source": [
        "whatis(0.0)"
      ],
      "execution_count": null,
      "outputs": [
        {
          "output_type": "stream",
          "name": "stdout",
          "text": [
            "0.0 is False.\n"
          ]
        }
      ]
    },
    {
      "cell_type": "code",
      "metadata": {
        "colab": {
          "base_uri": "https://localhost:8080/"
        },
        "id": "lcBQhRdUbD7o",
        "outputId": "9d63096c-a2f7-49b8-e9c8-80457c845baa"
      },
      "source": [
        "whatis('')"
      ],
      "execution_count": null,
      "outputs": [
        {
          "output_type": "stream",
          "name": "stdout",
          "text": [
            " is False.\n"
          ]
        }
      ]
    },
    {
      "cell_type": "code",
      "metadata": {
        "colab": {
          "base_uri": "https://localhost:8080/"
        },
        "id": "mHkxWx5wbGKR",
        "outputId": "abfe16e4-2732-4501-b4a4-29b5b8c76059"
      },
      "source": [
        "whatis(\"\")"
      ],
      "execution_count": null,
      "outputs": [
        {
          "output_type": "stream",
          "name": "stdout",
          "text": [
            " is False.\n"
          ]
        }
      ]
    },
    {
      "cell_type": "code",
      "metadata": {
        "colab": {
          "base_uri": "https://localhost:8080/"
        },
        "id": "qkjbgyGkbJ3G",
        "outputId": "fccf51ba-ec3b-4cef-f3e8-87241de04108"
      },
      "source": [
        "whatis(\"\"\"\"\"\")"
      ],
      "execution_count": null,
      "outputs": [
        {
          "output_type": "stream",
          "name": "stdout",
          "text": [
            " is False.\n"
          ]
        }
      ]
    },
    {
      "cell_type": "code",
      "metadata": {
        "colab": {
          "base_uri": "https://localhost:8080/"
        },
        "id": "E0yM__xIbNDK",
        "outputId": "b790780c-54a9-484a-c728-16ff9200aa7b"
      },
      "source": [
        "whatis(())"
      ],
      "execution_count": null,
      "outputs": [
        {
          "output_type": "stream",
          "name": "stdout",
          "text": [
            "() is False.\n"
          ]
        }
      ]
    },
    {
      "cell_type": "code",
      "metadata": {
        "colab": {
          "base_uri": "https://localhost:8080/"
        },
        "id": "elQb2IsGbPRG",
        "outputId": "c2861986-a084-487e-b380-7b33e1bda4f8"
      },
      "source": [
        "whatis([])"
      ],
      "execution_count": null,
      "outputs": [
        {
          "output_type": "stream",
          "name": "stdout",
          "text": [
            "[] is False.\n"
          ]
        }
      ]
    },
    {
      "cell_type": "code",
      "metadata": {
        "colab": {
          "base_uri": "https://localhost:8080/"
        },
        "id": "bn7AU1b4bRkm",
        "outputId": "bc9a608c-1835-4352-f4ed-ee91cc2c0f61"
      },
      "source": [
        "whatis({})"
      ],
      "execution_count": null,
      "outputs": [
        {
          "output_type": "stream",
          "name": "stdout",
          "text": [
            "{} is False.\n"
          ]
        }
      ]
    },
    {
      "cell_type": "code",
      "metadata": {
        "colab": {
          "base_uri": "https://localhost:8080/"
        },
        "id": "FWqqgNocbdfS",
        "outputId": "044b2c8a-a5bf-4cf6-db6c-0be904199c39"
      },
      "source": [
        "whatis(set())"
      ],
      "execution_count": null,
      "outputs": [
        {
          "output_type": "stream",
          "name": "stdout",
          "text": [
            "set() is False.\n"
          ]
        }
      ]
    },
    {
      "cell_type": "code",
      "metadata": {
        "colab": {
          "base_uri": "https://localhost:8080/"
        },
        "id": "8Rwhf9Pebi3E",
        "outputId": "6a1820b0-0375-45fb-d9a2-cf556382c764"
      },
      "source": [
        "whatis(0.000001)"
      ],
      "execution_count": null,
      "outputs": [
        {
          "output_type": "stream",
          "name": "stdout",
          "text": [
            "1e-06 is True.\n"
          ]
        }
      ]
    },
    {
      "cell_type": "code",
      "metadata": {
        "colab": {
          "base_uri": "https://localhost:8080/"
        },
        "id": "Ogjr3C6bbni0",
        "outputId": "9a22ea6a-bb3f-4c3b-e45b-99428e8a4508"
      },
      "source": [
        "whatis([''])"
      ],
      "execution_count": null,
      "outputs": [
        {
          "output_type": "stream",
          "name": "stdout",
          "text": [
            "[''] is True.\n"
          ]
        }
      ]
    },
    {
      "cell_type": "code",
      "metadata": {
        "colab": {
          "base_uri": "https://localhost:8080/"
        },
        "id": "oQ1OXLhyb01Z",
        "outputId": "4fe21b02-decc-4f24-c1d4-3e8307a93272"
      },
      "source": [
        "whatis(' ')"
      ],
      "execution_count": null,
      "outputs": [
        {
          "output_type": "stream",
          "name": "stdout",
          "text": [
            "  is True.\n"
          ]
        }
      ]
    },
    {
      "cell_type": "markdown",
      "metadata": {
        "id": "Dfrigqir9fwt"
      },
      "source": [
        "##### 位置性引數"
      ]
    },
    {
      "cell_type": "code",
      "metadata": {
        "id": "u6fWe--N9i5c",
        "colab": {
          "base_uri": "https://localhost:8080/"
        },
        "outputId": "1a023e0b-c470-4fab-a4fd-3369415df960"
      },
      "source": [
        "def menu(wine, entree, dessert):\n",
        "  return {\"wine\": wine, \"entree\": entree, \"dessert\": dessert}\n",
        "\n",
        "menu(\"chardonnay\", \"chicken\", \"cake\")\n",
        "# 缺點: 放參數時，必須按順序"
      ],
      "execution_count": null,
      "outputs": [
        {
          "output_type": "execute_result",
          "data": {
            "text/plain": [
              "{'dessert': 'cake', 'entree': 'chicken', 'wine': 'chardonnay'}"
            ]
          },
          "metadata": {},
          "execution_count": 1
        }
      ]
    },
    {
      "cell_type": "markdown",
      "metadata": {
        "id": "YBbTGBpV-Veq"
      },
      "source": [
        "##### 關鍵字引數"
      ]
    },
    {
      "cell_type": "code",
      "metadata": {
        "id": "29wPf2yW-1iD",
        "colab": {
          "base_uri": "https://localhost:8080/"
        },
        "outputId": "e152d92b-af3d-4e5f-ce6e-fa6e649ab942"
      },
      "source": [
        "menu(entree=\"beef\", dessert=\"bagel\", wine=\"bordeaux\")"
      ],
      "execution_count": null,
      "outputs": [
        {
          "output_type": "execute_result",
          "data": {
            "text/plain": [
              "{'dessert': 'bagel', 'entree': 'beef', 'wine': 'bordeaux'}"
            ]
          },
          "metadata": {},
          "execution_count": 2
        }
      ]
    },
    {
      "cell_type": "code",
      "metadata": {
        "id": "vmn-dyjN_N9z",
        "colab": {
          "base_uri": "https://localhost:8080/"
        },
        "outputId": "68bef3e8-e816-4f9c-b547-9730bba9dd9f"
      },
      "source": [
        "menu(\"frontenac\", dessert=\"flan\", entree=\"fish\")"
      ],
      "execution_count": null,
      "outputs": [
        {
          "output_type": "execute_result",
          "data": {
            "text/plain": [
              "{'dessert': 'flan', 'entree': 'fish', 'wine': 'frontenac'}"
            ]
          },
          "metadata": {},
          "execution_count": 3
        }
      ]
    },
    {
      "cell_type": "code",
      "metadata": {
        "id": "UucwKdgE_qFA",
        "colab": {
          "base_uri": "https://localhost:8080/"
        },
        "outputId": "6235699c-5821-48fd-e6ed-730c29363ca1"
      },
      "source": [
        "def menu(wine, entree, dessert=\"pudding\"):\n",
        "  return {\"wine\": wine, \"entree\": entree, \"dessert\": dessert}\n",
        "menu(\"chardonnay\", \"chicken\")"
      ],
      "execution_count": null,
      "outputs": [
        {
          "output_type": "execute_result",
          "data": {
            "text/plain": [
              "{'dessert': 'pudding', 'entree': 'chicken', 'wine': 'chardonnay'}"
            ]
          },
          "metadata": {},
          "execution_count": 5
        }
      ]
    },
    {
      "cell_type": "code",
      "metadata": {
        "id": "RX9HJ-CSAy_K",
        "colab": {
          "base_uri": "https://localhost:8080/"
        },
        "outputId": "2c567fce-44d2-4f2c-bbcd-c7cf1cea404d"
      },
      "source": [
        "menu(\"dunkelfelder\", \"duck\", \"doughnut\")"
      ],
      "execution_count": null,
      "outputs": [
        {
          "output_type": "execute_result",
          "data": {
            "text/plain": [
              "{'dessert': 'doughnut', 'entree': 'duck', 'wine': 'dunkelfelder'}"
            ]
          },
          "metadata": {},
          "execution_count": 6
        }
      ]
    },
    {
      "cell_type": "markdown",
      "metadata": {
        "id": "BVxtZevGCome"
      },
      "source": [
        "##### 預設的參數值是在函式被定義的時候被計算的，不是在執行的時候。"
      ]
    },
    {
      "cell_type": "code",
      "metadata": {
        "id": "uAumBgQ2BR_2",
        "colab": {
          "base_uri": "https://localhost:8080/"
        },
        "outputId": "4bd66152-250d-46ae-ea97-f888f2311bb4"
      },
      "source": [
        "def buggy(arg, result=[]):\n",
        "  result.append(arg)\n",
        "  print(result)\n",
        "buggy(\"a\")"
      ],
      "execution_count": null,
      "outputs": [
        {
          "output_type": "stream",
          "name": "stdout",
          "text": [
            "['a']\n"
          ]
        }
      ]
    },
    {
      "cell_type": "code",
      "metadata": {
        "id": "KT4cBV5nCMJE",
        "colab": {
          "base_uri": "https://localhost:8080/"
        },
        "outputId": "f3ec00f7-1804-4dc2-914d-5d950bf08d6e"
      },
      "source": [
        "buggy(\"b\") # 預期是[\"b\"]"
      ],
      "execution_count": null,
      "outputs": [
        {
          "output_type": "stream",
          "name": "stdout",
          "text": [
            "['a', 'b']\n"
          ]
        }
      ]
    },
    {
      "cell_type": "markdown",
      "metadata": {
        "id": "VVkj4N-VCTsR"
      },
      "source": [
        "##### 改成這樣"
      ]
    },
    {
      "cell_type": "code",
      "metadata": {
        "id": "hLOmZi4qCdSE",
        "colab": {
          "base_uri": "https://localhost:8080/"
        },
        "outputId": "1888856e-c459-40f7-9e02-fafdb211c41a"
      },
      "source": [
        "def works(arg):\n",
        "  result = []\n",
        "  result.append(arg)\n",
        "  return result\n",
        "works(\"a\")"
      ],
      "execution_count": null,
      "outputs": [
        {
          "output_type": "execute_result",
          "data": {
            "text/plain": [
              "['a']"
            ]
          },
          "metadata": {},
          "execution_count": 13
        }
      ]
    },
    {
      "cell_type": "code",
      "metadata": {
        "id": "-FhW7A-CDA57",
        "colab": {
          "base_uri": "https://localhost:8080/"
        },
        "outputId": "f85c633b-49e3-4a7a-9790-3e8259fc1afa"
      },
      "source": [
        "works(\"b\")"
      ],
      "execution_count": null,
      "outputs": [
        {
          "output_type": "execute_result",
          "data": {
            "text/plain": [
              "['b']"
            ]
          },
          "metadata": {},
          "execution_count": 14
        }
      ]
    },
    {
      "cell_type": "markdown",
      "metadata": {
        "id": "jJO9rTafDC5-"
      },
      "source": [
        "##### 或者改成 傳入別的東西來代表第一次呼叫"
      ]
    },
    {
      "cell_type": "code",
      "metadata": {
        "id": "SKpfteA0DVif",
        "colab": {
          "base_uri": "https://localhost:8080/"
        },
        "outputId": "6cfecf65-80f0-4a8f-8cd4-2d2dabab5721"
      },
      "source": [
        "def nonbuggy(arg, result=None):\n",
        "  if result is None:\n",
        "    result = []\n",
        "  result.append(arg)\n",
        "  print(result)\n",
        "nonbuggy(\"a\")"
      ],
      "execution_count": null,
      "outputs": [
        {
          "output_type": "stream",
          "name": "stdout",
          "text": [
            "['a']\n"
          ]
        }
      ]
    },
    {
      "cell_type": "code",
      "metadata": {
        "id": "83K5KUrJDpWh",
        "colab": {
          "base_uri": "https://localhost:8080/"
        },
        "outputId": "638561aa-8264-4575-c928-9ba676d748e3"
      },
      "source": [
        "nonbuggy(\"b\")"
      ],
      "execution_count": null,
      "outputs": [
        {
          "output_type": "stream",
          "name": "stdout",
          "text": [
            "['b']\n"
          ]
        }
      ]
    },
    {
      "cell_type": "code",
      "metadata": {
        "id": "f-OKyniHETuz"
      },
      "source": [
        "##### 在函式參數裡面的 * (星號)，可以將數量不一定的位置引數組成一個參數值 tuple。"
      ],
      "execution_count": null,
      "outputs": []
    },
    {
      "cell_type": "code",
      "metadata": {
        "id": "1HcKADXREjZf",
        "colab": {
          "base_uri": "https://localhost:8080/"
        },
        "outputId": "b13d04c5-ebe8-496e-e5e0-299f4c6e7ba6"
      },
      "source": [
        "def print_args(*args):\n",
        "  print(\"Positional tuple:\", args)\n",
        "print_args()"
      ],
      "execution_count": null,
      "outputs": [
        {
          "output_type": "stream",
          "name": "stdout",
          "text": [
            "Positional tuple: ()\n"
          ]
        }
      ]
    },
    {
      "cell_type": "code",
      "metadata": {
        "id": "rl228x9hEzHF",
        "colab": {
          "base_uri": "https://localhost:8080/"
        },
        "outputId": "951e1fab-a32d-44b0-ceb4-91892fd7288e"
      },
      "source": [
        "print_args(3, 2, 1, \"wait!\", \"uh...\")"
      ],
      "execution_count": null,
      "outputs": [
        {
          "output_type": "stream",
          "name": "stdout",
          "text": [
            "Positional tuple: (3, 2, 1, 'wait!', 'uh...')\n"
          ]
        }
      ]
    },
    {
      "cell_type": "markdown",
      "metadata": {
        "id": "CEKV_rduFERZ"
      },
      "source": [
        "##### 若函式有需要其他位置引數，需先放前面，*(參數)放最後。"
      ]
    },
    {
      "cell_type": "code",
      "metadata": {
        "id": "rUMfi3VdFWla",
        "colab": {
          "base_uri": "https://localhost:8080/"
        },
        "outputId": "29081f9d-da88-4b25-e2aa-6dee93c20417"
      },
      "source": [
        "def print_more(required1, required2, *args):\n",
        "  print(\"Need this one:\", required1)\n",
        "  print(\"Need this one too:\", required2)\n",
        "  print(\"All the rest:\", args)\n",
        "print_more(\"cap\", \"gloves\", \"scarf\", \"monocle\", \"mustache wax\")"
      ],
      "execution_count": null,
      "outputs": [
        {
          "output_type": "stream",
          "name": "stdout",
          "text": [
            "Need this one: cap\n",
            "Need this one too: gloves\n",
            "All the rest: ('scarf', 'monocle', 'mustache wax')\n"
          ]
        }
      ]
    },
    {
      "cell_type": "markdown",
      "metadata": {
        "id": "ozVJQ44eGNJw"
      },
      "source": [
        "###### 使用 * 時，你不一定要將 tupple 引數稱為 *args ， 不過它在 Python 裡面是一種習慣用法。"
      ]
    },
    {
      "cell_type": "code",
      "metadata": {
        "id": "3A8JLJyCGd3W",
        "colab": {
          "base_uri": "https://localhost:8080/"
        },
        "outputId": "c44c5dc6-44a9-4393-98e3-f0a109b9f035"
      },
      "source": [
        "def print_args(*args):\n",
        "  print(\"Positional tuple:\", args)\n",
        "\n",
        "print_args(2, 5, 7, 'x')"
      ],
      "execution_count": null,
      "outputs": [
        {
          "output_type": "stream",
          "name": "stdout",
          "text": [
            "Positional tuple: (2, 5, 7, 'x')\n"
          ]
        }
      ]
    },
    {
      "cell_type": "code",
      "metadata": {
        "id": "W2NSfdoIHIE9",
        "colab": {
          "base_uri": "https://localhost:8080/"
        },
        "outputId": "de397f1b-b897-467f-84dc-b1eba853916c"
      },
      "source": [
        "args = (2, 5, 7, 'x')\n",
        "print_args(args)"
      ],
      "execution_count": null,
      "outputs": [
        {
          "output_type": "stream",
          "name": "stdout",
          "text": [
            "Positional tuple: ((2, 5, 7, 'x'),)\n"
          ]
        }
      ]
    },
    {
      "cell_type": "markdown",
      "metadata": {
        "id": "Qm790gEDHQ5i"
      },
      "source": [
        "######也可以在函式內，將名為 args 的 tupple 引數 「炸」 成位置參數 *args，在內部重新整理成 tuple 參數 args:"
      ]
    },
    {
      "cell_type": "code",
      "metadata": {
        "id": "E7b-cNqkH67V",
        "colab": {
          "base_uri": "https://localhost:8080/"
        },
        "outputId": "09d867f7-5f41-41ff-f5de-48c2a41f64fc"
      },
      "source": [
        "args = (2, 5, 7, 'x')\n",
        "print_args(*args)"
      ],
      "execution_count": null,
      "outputs": [
        {
          "output_type": "stream",
          "name": "stdout",
          "text": [
            "Positional tuple: (2, 5, 7, 'x')\n"
          ]
        }
      ]
    },
    {
      "cell_type": "markdown",
      "metadata": {
        "id": "_siOJ6G-IKqY"
      },
      "source": [
        "#####只能在 呼叫函式 或 定義函式 裡面使用 * 語法"
      ]
    },
    {
      "cell_type": "code",
      "metadata": {
        "id": "bceUEzVTIScd",
        "colab": {
          "base_uri": "https://localhost:8080/",
          "height": 135
        },
        "outputId": "a8c8297c-03fa-4687-9935-46ff22de080c"
      },
      "source": [
        "*args"
      ],
      "execution_count": null,
      "outputs": [
        {
          "output_type": "error",
          "ename": "SyntaxError",
          "evalue": "ignored",
          "traceback": [
            "\u001b[0;36m  File \u001b[0;32m\"<ipython-input-20-040fcb6bb52c>\"\u001b[0;36m, line \u001b[0;32m1\u001b[0m\n\u001b[0;31m    *args\u001b[0m\n\u001b[0m         ^\u001b[0m\n\u001b[0;31mSyntaxError\u001b[0m\u001b[0;31m:\u001b[0m can't use starred expression here\n"
          ]
        }
      ]
    },
    {
      "cell_type": "markdown",
      "metadata": {
        "id": "gmxF0MsUIXl4"
      },
      "source": [
        "##### 用 ** 來炸開 / 收集關鍵字引數 :"
      ]
    },
    {
      "cell_type": "markdown",
      "metadata": {
        "id": "v5gDoJHIVF96"
      },
      "source": [
        "######使用 ** 將關鍵字引數組成字典，其中引數名稱是鍵，它們的值是相應的字典值:"
      ]
    },
    {
      "cell_type": "code",
      "metadata": {
        "id": "YjLCJEJSWDcm"
      },
      "source": [
        "def print_kwargs(**kwargs):         # 用 ** 來收集 鍵與值 kwargs是個字典參數\n",
        "  print(\"Keyword arguments:\", kwargs)"
      ],
      "execution_count": null,
      "outputs": []
    },
    {
      "cell_type": "code",
      "metadata": {
        "id": "srM-5fz4WY5_",
        "colab": {
          "base_uri": "https://localhost:8080/"
        },
        "outputId": "98d76ec5-41dc-482e-a589-74a27c257fbb"
      },
      "source": [
        "print_kwargs()"
      ],
      "execution_count": null,
      "outputs": [
        {
          "output_type": "stream",
          "name": "stdout",
          "text": [
            "Keyword arguments: {}\n"
          ]
        }
      ]
    },
    {
      "cell_type": "code",
      "metadata": {
        "id": "Hd3D27aJW0mo",
        "colab": {
          "base_uri": "https://localhost:8080/"
        },
        "outputId": "be4bed0f-b266-4676-a0db-b194a541aede"
      },
      "source": [
        "print_kwargs(wine=\"merlot\", entree=\"mutton\", dessert=\"macaroon\")"
      ],
      "execution_count": null,
      "outputs": [
        {
          "output_type": "stream",
          "name": "stdout",
          "text": [
            "Keyword arguments: {'wine': 'merlot', 'entree': 'mutton', 'dessert': 'macaroon'}\n"
          ]
        }
      ]
    },
    {
      "cell_type": "markdown",
      "metadata": {
        "id": "IqnLsiJvXA88"
      },
      "source": [
        "##### 引數的順序是 :\n",
        "##### 1. 必需的位置引數\n",
        "##### 2. 選用的位置引數(*args)\n",
        "##### 3. 選用的關鍵字引數(**kwargs)"
      ]
    },
    {
      "cell_type": "markdown",
      "metadata": {
        "id": "XBEmIggFXtil"
      },
      "source": [
        "##### 純關鍵字引數 :\n",
        "##### 在函式定義式裡面的單 * 但表接下來的引數必須用具名引數來提供"
      ]
    },
    {
      "cell_type": "code",
      "metadata": {
        "id": "h9KN32BDaR2J"
      },
      "source": [
        "def print_data(data, *, start=0, end=100):\n",
        "  for value in (data[start:end]):\n",
        "    print(value)"
      ],
      "execution_count": null,
      "outputs": []
    },
    {
      "cell_type": "code",
      "metadata": {
        "id": "2x160k4JakcW",
        "colab": {
          "base_uri": "https://localhost:8080/"
        },
        "outputId": "7e5796eb-9a55-4ddc-ea0f-9ebea4a9f44b"
      },
      "source": [
        "data = [\"a\", \"b\", \"c\", \"d\", \"e\", \"f\"]\n",
        "print_data(data)"
      ],
      "execution_count": null,
      "outputs": [
        {
          "output_type": "stream",
          "name": "stdout",
          "text": [
            "a\n",
            "b\n",
            "c\n",
            "d\n",
            "e\n",
            "f\n"
          ]
        }
      ]
    },
    {
      "cell_type": "code",
      "metadata": {
        "id": "_XAfLZiKawMy",
        "colab": {
          "base_uri": "https://localhost:8080/"
        },
        "outputId": "f8bbe7f1-0fd5-4067-c6f7-4686979c7c8c"
      },
      "source": [
        "print_data(data, start=4)"
      ],
      "execution_count": null,
      "outputs": [
        {
          "output_type": "stream",
          "name": "stdout",
          "text": [
            "e\n",
            "f\n"
          ]
        }
      ]
    },
    {
      "cell_type": "code",
      "metadata": {
        "id": "mQELOdPFa2Vu",
        "colab": {
          "base_uri": "https://localhost:8080/"
        },
        "outputId": "20314415-bb7a-4ffb-9786-39e2a921c876"
      },
      "source": [
        "print_data(data, end=2)"
      ],
      "execution_count": null,
      "outputs": [
        {
          "output_type": "stream",
          "name": "stdout",
          "text": [
            "a\n",
            "b\n"
          ]
        }
      ]
    },
    {
      "cell_type": "markdown",
      "metadata": {
        "id": "ekKaffvfpIKT"
      },
      "source": [
        "####可變與不可變引數 :"
      ]
    },
    {
      "cell_type": "code",
      "metadata": {
        "id": "W_nC6oU-p7WE",
        "colab": {
          "base_uri": "https://localhost:8080/"
        },
        "outputId": "07f3e709-be8c-4de8-ff6a-3988db22af01"
      },
      "source": [
        "list_ = [\"A\", \"B\", \"CCC\", \"DDDD\"]  #建立一個串列\n",
        "\n",
        "x = list_              # 將此串列指定給兩個隨意的變數\n",
        "y = list_\n",
        "\n",
        "x[1] = \"BBBB\"            # 透過任一個變數改變串列\n",
        "\n",
        "print(\"list_ :\", list_)\n",
        "print(\"x :\", x)\n",
        "print(\"y :\", y)\n"
      ],
      "execution_count": null,
      "outputs": [
        {
          "output_type": "stream",
          "name": "stdout",
          "text": [
            "list_ : ['A', 'BBBB', 'CCC', 'DDDD']\n",
            "x : ['A', 'BBBB', 'CCC', 'DDDD']\n",
            "y : ['A', 'BBBB', 'CCC', 'DDDD']\n"
          ]
        }
      ]
    },
    {
      "cell_type": "code",
      "metadata": {
        "id": "YzpS3kafrLgF",
        "colab": {
          "base_uri": "https://localhost:8080/"
        },
        "outputId": "7cb75df8-39b6-4d1a-9263-2b90ed4f42e7"
      },
      "source": [
        "str_ = \"AAACCC\"\n",
        "\n",
        "x = str_\n",
        "y = str_\n",
        "\n",
        "x = \"CCC\"\n",
        "\n",
        "print(str_)"
      ],
      "execution_count": null,
      "outputs": [
        {
          "output_type": "stream",
          "name": "stdout",
          "text": [
            "AAACCC\n"
          ]
        }
      ]
    },
    {
      "cell_type": "code",
      "metadata": {
        "id": "DWY72MxMrZ2I",
        "colab": {
          "base_uri": "https://localhost:8080/"
        },
        "outputId": "1e1c451a-9883-45d3-eb41-20cd5c54b5cc"
      },
      "source": [
        "int_ = 87\n",
        "\n",
        "x = int_\n",
        "y = int_\n",
        "\n",
        "y = 64\n",
        "\n",
        "print(int_)"
      ],
      "execution_count": null,
      "outputs": [
        {
          "output_type": "stream",
          "name": "stdout",
          "text": [
            "87\n"
          ]
        }
      ]
    },
    {
      "cell_type": "code",
      "metadata": {
        "id": "2vnThQpfrhzC",
        "colab": {
          "base_uri": "https://localhost:8080/"
        },
        "outputId": "6cc7b26e-c02a-4e4b-f221-6c2b6a410b11"
      },
      "source": [
        "outside = [\"one\", \"fine\", \"day\"]\n",
        "\n",
        "def mangle(arg):             # 將串列 outside 放入函式\n",
        "  arg[1] = 'terrible!'           # 改變串列中的元素\n",
        "\n",
        "mangle(outside)\n",
        "\n",
        "print(outside)  "
      ],
      "execution_count": null,
      "outputs": [
        {
          "output_type": "stream",
          "name": "stdout",
          "text": [
            "['one', 'terrible!', 'day']\n"
          ]
        }
      ]
    },
    {
      "cell_type": "markdown",
      "metadata": {
        "id": "bWYWZFvosZD2"
      },
      "source": [
        "#### Docstrings :\n",
        "##### 是一種文檔字串，用來解釋構造的作用"
      ]
    },
    {
      "cell_type": "code",
      "metadata": {
        "id": "-KkBc671s267"
      },
      "source": [
        "def echo(anything):\n",
        "  'echo returns its input argument'     # Docstrings 文檔字串\n",
        "  return anything"
      ],
      "execution_count": null,
      "outputs": []
    },
    {
      "cell_type": "code",
      "metadata": {
        "id": "2qtZbq8KtLG-",
        "colab": {
          "base_uri": "https://localhost:8080/",
          "height": 35
        },
        "outputId": "b55d7bfd-a444-4a87-a307-045327d4a685"
      },
      "source": [
        "echo(\"HHHHHHHHelo\")"
      ],
      "execution_count": null,
      "outputs": [
        {
          "output_type": "execute_result",
          "data": {
            "application/vnd.google.colaboratory.intrinsic+json": {
              "type": "string"
            },
            "text/plain": [
              "'HHHHHHHHelo'"
            ]
          },
          "metadata": {},
          "execution_count": 7
        }
      ]
    },
    {
      "cell_type": "code",
      "metadata": {
        "id": "dJXX8-PitPO-"
      },
      "source": [
        "def print_if_true(thing, check):\n",
        "  '''\n",
        "  Prints the first argument if a second argument is true.\n",
        "  The operation is:\n",
        "    1. Check whether the *second* argument is true.\n",
        "    2. If it is, print the *first* argument.\n",
        "  '''\n",
        "  if check:\n",
        "    print(thing)\n"
      ],
      "execution_count": null,
      "outputs": []
    },
    {
      "cell_type": "code",
      "metadata": {
        "id": "mQI28bf4uJnI",
        "colab": {
          "base_uri": "https://localhost:8080/"
        },
        "outputId": "065f152c-0429-4280-9781-0c24edaeadfc"
      },
      "source": [
        "print_if_true(\"AAA\", 1)"
      ],
      "execution_count": null,
      "outputs": [
        {
          "output_type": "stream",
          "name": "stdout",
          "text": [
            "AAA\n"
          ]
        }
      ]
    },
    {
      "cell_type": "code",
      "metadata": {
        "id": "hwwu7MgauNH2"
      },
      "source": [
        "print_if_true(\"AAA\", 0)"
      ],
      "execution_count": null,
      "outputs": []
    },
    {
      "cell_type": "markdown",
      "metadata": {
        "id": "NTdBSzfhuS3m"
      },
      "source": [
        "###### 呼叫Python help() : "
      ]
    },
    {
      "cell_type": "code",
      "metadata": {
        "id": "OjWrME26vQ93",
        "colab": {
          "base_uri": "https://localhost:8080/"
        },
        "outputId": "f17f6d62-ec94-4a57-bb27-160d67fcbdcd"
      },
      "source": [
        "help(echo)"
      ],
      "execution_count": null,
      "outputs": [
        {
          "output_type": "stream",
          "name": "stdout",
          "text": [
            "Help on function echo in module __main__:\n",
            "\n",
            "echo(anything)\n",
            "    echo returns its input argument\n",
            "\n"
          ]
        }
      ]
    },
    {
      "cell_type": "code",
      "metadata": {
        "id": "QhuOzox-vhP6",
        "colab": {
          "base_uri": "https://localhost:8080/"
        },
        "outputId": "2d0b4dd2-d50e-420a-da27-031efc85ffdb"
      },
      "source": [
        "print(echo.__doc__)"
      ],
      "execution_count": null,
      "outputs": [
        {
          "output_type": "stream",
          "name": "stdout",
          "text": [
            "echo returns its input argument\n"
          ]
        }
      ]
    },
    {
      "cell_type": "markdown",
      "metadata": {
        "id": "UgsSDDPgv_b-"
      },
      "source": [
        "### 函式是一級公民"
      ]
    },
    {
      "cell_type": "code",
      "metadata": {
        "id": "65H3AoqxwcgT"
      },
      "source": [
        "def answer():\n",
        "  print(87)"
      ],
      "execution_count": null,
      "outputs": []
    },
    {
      "cell_type": "code",
      "metadata": {
        "id": "KIxFpjaxwgUz",
        "colab": {
          "base_uri": "https://localhost:8080/"
        },
        "outputId": "03c61a16-b3d3-42ca-d399-d58de3d27efa"
      },
      "source": [
        "answer()"
      ],
      "execution_count": null,
      "outputs": [
        {
          "output_type": "stream",
          "name": "stdout",
          "text": [
            "87\n"
          ]
        }
      ]
    },
    {
      "cell_type": "code",
      "metadata": {
        "id": "gFT6zrhrwiyk"
      },
      "source": [
        "def run_something(func):\n",
        "  func()"
      ],
      "execution_count": null,
      "outputs": []
    },
    {
      "cell_type": "code",
      "metadata": {
        "id": "MO6MSdTzwwdI",
        "colab": {
          "base_uri": "https://localhost:8080/"
        },
        "outputId": "f0e93386-25cf-4a80-e1e6-a0cd502d2f07"
      },
      "source": [
        "run_something(answer)     # 將函式這個物件放到函式裡面"
      ],
      "execution_count": null,
      "outputs": [
        {
          "output_type": "stream",
          "name": "stdout",
          "text": [
            "87\n"
          ]
        }
      ]
    },
    {
      "cell_type": "markdown",
      "metadata": {
        "id": "zV3Np9riw0m7"
      },
      "source": [
        "#### () 小括號 => 代表呼叫函式\n",
        "#####Python 會把沒有括號的函式當成一般物件看待"
      ]
    },
    {
      "cell_type": "code",
      "metadata": {
        "id": "5dF6zUSYxH89",
        "colab": {
          "base_uri": "https://localhost:8080/"
        },
        "outputId": "c46bcd9e-b98c-45f2-bbc6-7d51f1e9ac2b"
      },
      "source": [
        "type(run_something)"
      ],
      "execution_count": null,
      "outputs": [
        {
          "output_type": "execute_result",
          "data": {
            "text/plain": [
              "function"
            ]
          },
          "metadata": {},
          "execution_count": 5
        }
      ]
    },
    {
      "cell_type": "code",
      "metadata": {
        "id": "voIIkWqDxYmd",
        "colab": {
          "base_uri": "https://localhost:8080/"
        },
        "outputId": "a6a48d0e-adc3-4132-cccc-744e976619a0"
      },
      "source": [
        "run_something"
      ],
      "execution_count": null,
      "outputs": [
        {
          "output_type": "execute_result",
          "data": {
            "text/plain": [
              "<function __main__.run_something>"
            ]
          },
          "metadata": {},
          "execution_count": 6
        }
      ]
    },
    {
      "cell_type": "markdown",
      "metadata": {
        "id": "bLpxrsX9xbek"
      },
      "source": [
        "#### 在執行函式時傳入引數。"
      ]
    },
    {
      "cell_type": "code",
      "metadata": {
        "id": "ngEQbZdpxs5G"
      },
      "source": [
        "def add_args(arg1, arg2):\n",
        "  print(arg1 + arg2)"
      ],
      "execution_count": null,
      "outputs": []
    },
    {
      "cell_type": "code",
      "metadata": {
        "id": "yQp9_KuBx4XV",
        "colab": {
          "base_uri": "https://localhost:8080/"
        },
        "outputId": "d63d4462-e5ea-4054-eea6-7fb57fc6f728"
      },
      "source": [
        "type(add_args)"
      ],
      "execution_count": null,
      "outputs": [
        {
          "output_type": "execute_result",
          "data": {
            "text/plain": [
              "function"
            ]
          },
          "metadata": {},
          "execution_count": 8
        }
      ]
    },
    {
      "cell_type": "code",
      "metadata": {
        "id": "We93HsCSx9ZN"
      },
      "source": [
        "def run_something_with_args(func, arg1, arg2):\n",
        "  func(arg1, arg2)"
      ],
      "execution_count": null,
      "outputs": []
    },
    {
      "cell_type": "code",
      "metadata": {
        "id": "2jhU1iGHyRYK",
        "colab": {
          "base_uri": "https://localhost:8080/"
        },
        "outputId": "dd50e79a-175c-493b-f185-53a8b46291f6"
      },
      "source": [
        "run_something_with_args(add_args, 40, 47)"
      ],
      "execution_count": null,
      "outputs": [
        {
          "output_type": "stream",
          "name": "stdout",
          "text": [
            "87\n"
          ]
        }
      ]
    },
    {
      "cell_type": "markdown",
      "metadata": {
        "id": "WSsFmCAhyn2r"
      },
      "source": [
        "#### 結合 \\*args 、 \\**kwargs"
      ]
    },
    {
      "cell_type": "code",
      "metadata": {
        "id": "dgsgAYaay3t7"
      },
      "source": [
        "def sum_args(*args):\n",
        "  return sum(args)"
      ],
      "execution_count": null,
      "outputs": []
    },
    {
      "cell_type": "markdown",
      "metadata": {
        "id": "5_31Es-azHuy"
      },
      "source": [
        "#### sum() => Python 內建函式 可計算可迭代數值引數裡面的值的總和，"
      ]
    },
    {
      "cell_type": "code",
      "metadata": {
        "id": "dZ_aDNBZzZmL"
      },
      "source": [
        "def run_with_positional_args(func, *args):\n",
        "  return func(*args)"
      ],
      "execution_count": null,
      "outputs": []
    },
    {
      "cell_type": "code",
      "metadata": {
        "id": "eq07SkJEz0V2",
        "colab": {
          "base_uri": "https://localhost:8080/"
        },
        "outputId": "a7137322-6a25-4e07-bda9-82a4eaec39e4"
      },
      "source": [
        "run_with_positional_args(sum_args, 1, 2, 3, 4)"
      ],
      "execution_count": null,
      "outputs": [
        {
          "output_type": "execute_result",
          "data": {
            "text/plain": [
              "10"
            ]
          },
          "metadata": {},
          "execution_count": 14
        }
      ]
    },
    {
      "cell_type": "markdown",
      "metadata": {
        "id": "eGw1nujPv20C"
      },
      "source": [
        "# 內部函式"
      ]
    },
    {
      "cell_type": "code",
      "metadata": {
        "id": "y3hwjgNHv73Q"
      },
      "source": [
        "def outer(a, b):\n",
        "  def inner(c, d):\n",
        "    return c + d\n",
        "  return inner(a, b)"
      ],
      "execution_count": null,
      "outputs": []
    },
    {
      "cell_type": "code",
      "metadata": {
        "id": "pec6FLB9wXv7",
        "colab": {
          "base_uri": "https://localhost:8080/"
        },
        "outputId": "b5130efb-7121-46ea-f472-2aad1cafdef7"
      },
      "source": [
        "outer(5, 10)"
      ],
      "execution_count": null,
      "outputs": [
        {
          "output_type": "execute_result",
          "data": {
            "text/plain": [
              "15"
            ]
          },
          "metadata": {},
          "execution_count": 17
        }
      ]
    },
    {
      "cell_type": "code",
      "metadata": {
        "id": "252BUgtlwbNh"
      },
      "source": [
        "def outer(a, b):\n",
        "  def inner(c, d):\n",
        "    return c + d\n",
        "  return inner(a, b) + a + b"
      ],
      "execution_count": null,
      "outputs": []
    },
    {
      "cell_type": "code",
      "metadata": {
        "id": "Psn_qVC3wh3l",
        "colab": {
          "base_uri": "https://localhost:8080/"
        },
        "outputId": "be106d15-9252-4b42-ecef-94d3098760fd"
      },
      "source": [
        "outer(5, 10)"
      ],
      "execution_count": null,
      "outputs": [
        {
          "output_type": "execute_result",
          "data": {
            "text/plain": [
              "30"
            ]
          },
          "metadata": {},
          "execution_count": 19
        }
      ]
    },
    {
      "cell_type": "code",
      "metadata": {
        "id": "DzWaVrr2wlP7",
        "colab": {
          "base_uri": "https://localhost:8080/",
          "height": 35
        },
        "outputId": "42ba808f-f257-4740-880d-ea77e617b973"
      },
      "source": [
        "def knights(saying):\n",
        "  def inner(quote):\n",
        "    return \"We are the knights who say: '%s'\" % quote\n",
        "  return inner(saying)\n",
        "knights('Ni!')"
      ],
      "execution_count": null,
      "outputs": [
        {
          "output_type": "execute_result",
          "data": {
            "application/vnd.google.colaboratory.intrinsic+json": {
              "type": "string"
            },
            "text/plain": [
              "\"We are the knights who say: 'Ni!'\""
            ]
          },
          "metadata": {},
          "execution_count": 21
        }
      ]
    },
    {
      "cell_type": "markdown",
      "metadata": {
        "id": "21jtNXwExyth"
      },
      "source": [
        "# closure"
      ]
    },
    {
      "cell_type": "code",
      "metadata": {
        "id": "Tgr3uG6yy9Un"
      },
      "source": [
        "def knights2(saying):\n",
        "  def inner2():\n",
        "    return \"We are the knights who say: '%s'\" % saying\n",
        "  return inner2\n",
        "\n",
        "a = knights2('Duck')\n",
        "b = knights2('Hasenpfeffer')"
      ],
      "execution_count": null,
      "outputs": []
    },
    {
      "cell_type": "code",
      "metadata": {
        "id": "WZ-GrVx8znv8",
        "colab": {
          "base_uri": "https://localhost:8080/"
        },
        "outputId": "7f99825c-f909-4e35-9abf-b97a78ea0e7a"
      },
      "source": [
        "print(type(a))\n",
        "print(type(b))"
      ],
      "execution_count": null,
      "outputs": [
        {
          "output_type": "stream",
          "name": "stdout",
          "text": [
            "<class 'function'>\n",
            "<class 'function'>\n"
          ]
        }
      ]
    },
    {
      "cell_type": "code",
      "metadata": {
        "id": "PsLSQh01ztVg",
        "colab": {
          "base_uri": "https://localhost:8080/"
        },
        "outputId": "e3f6d09e-558b-4df0-d5e2-8c4c58c95b92"
      },
      "source": [
        "a"
      ],
      "execution_count": null,
      "outputs": [
        {
          "output_type": "execute_result",
          "data": {
            "text/plain": [
              "<function __main__.knights2.<locals>.inner2>"
            ]
          },
          "metadata": {},
          "execution_count": 25
        }
      ]
    },
    {
      "cell_type": "code",
      "metadata": {
        "id": "qtcWT-Qpzyyr",
        "colab": {
          "base_uri": "https://localhost:8080/"
        },
        "outputId": "ef9255b2-73c9-45a9-9501-4f158d8754fe"
      },
      "source": [
        "b"
      ],
      "execution_count": null,
      "outputs": [
        {
          "output_type": "execute_result",
          "data": {
            "text/plain": [
              "<function __main__.knights2.<locals>.inner2>"
            ]
          },
          "metadata": {},
          "execution_count": 26
        }
      ]
    },
    {
      "cell_type": "code",
      "metadata": {
        "id": "HQjceX8yz2Lm",
        "colab": {
          "base_uri": "https://localhost:8080/",
          "height": 35
        },
        "outputId": "a6c007c9-33ee-4537-9218-eaacd57b8b23"
      },
      "source": [
        "a()"
      ],
      "execution_count": null,
      "outputs": [
        {
          "output_type": "execute_result",
          "data": {
            "application/vnd.google.colaboratory.intrinsic+json": {
              "type": "string"
            },
            "text/plain": [
              "\"We are the knights who say: 'Duck'\""
            ]
          },
          "metadata": {},
          "execution_count": 27
        }
      ]
    },
    {
      "cell_type": "code",
      "metadata": {
        "id": "NGkmwfcQz4cT",
        "colab": {
          "base_uri": "https://localhost:8080/",
          "height": 35
        },
        "outputId": "4a3142c5-627c-4de1-e7ed-7bbfea3c0fd3"
      },
      "source": [
        "b()"
      ],
      "execution_count": null,
      "outputs": [
        {
          "output_type": "execute_result",
          "data": {
            "application/vnd.google.colaboratory.intrinsic+json": {
              "type": "string"
            },
            "text/plain": [
              "\"We are the knights who say: 'Hasenpfeffer'\""
            ]
          },
          "metadata": {},
          "execution_count": 28
        }
      ]
    },
    {
      "cell_type": "markdown",
      "metadata": {
        "id": "9DH6dN-Vz8NH"
      },
      "source": [
        "# 匿名函式 : lambda"
      ]
    },
    {
      "cell_type": "code",
      "metadata": {
        "id": "Kq0fKBpo0Dme",
        "colab": {
          "base_uri": "https://localhost:8080/"
        },
        "outputId": "d8d34a8f-1636-4bd4-c2d8-e5cfb1fa1182"
      },
      "source": [
        "def edit_story(words, func):\n",
        "  for word in words:\n",
        "    print(func(word))\n",
        "\n",
        "stairs = ['thud', 'meow', 'thud', 'hiss']\n",
        "\n",
        "def enliven(word):\n",
        "  return word.capitalize() + '!'\n",
        "edit_story(stairs, enliven)"
      ],
      "execution_count": null,
      "outputs": [
        {
          "output_type": "stream",
          "name": "stdout",
          "text": [
            "Thud!\n",
            "Meow!\n",
            "Thud!\n",
            "Hiss!\n"
          ]
        }
      ]
    },
    {
      "cell_type": "code",
      "metadata": {
        "id": "gxGFAMoo5IxD",
        "colab": {
          "base_uri": "https://localhost:8080/"
        },
        "outputId": "ee6e2d6d-14bd-47d1-9473-f770fca3597d"
      },
      "source": [
        "# 改成\n",
        "edit_story(stairs, lambda word: word.capitalize() + '!')"
      ],
      "execution_count": null,
      "outputs": [
        {
          "output_type": "stream",
          "name": "stdout",
          "text": [
            "Thud!\n",
            "Meow!\n",
            "Thud!\n",
            "Hiss!\n"
          ]
        }
      ]
    },
    {
      "cell_type": "markdown",
      "metadata": {
        "id": "NNnIzY0Y6zKD"
      },
      "source": [
        "# 產生器 generator"
      ]
    },
    {
      "cell_type": "code",
      "metadata": {
        "id": "awLyLGWo62-W",
        "colab": {
          "base_uri": "https://localhost:8080/"
        },
        "outputId": "d22c289f-574b-424d-c41f-47746d21e4b5"
      },
      "source": [
        "sum(range(1, 101))"
      ],
      "execution_count": null,
      "outputs": [
        {
          "output_type": "execute_result",
          "data": {
            "text/plain": [
              "5050"
            ]
          },
          "metadata": {},
          "execution_count": 32
        }
      ]
    },
    {
      "cell_type": "markdown",
      "metadata": {
        "id": "K5IOlBcA7R1A"
      },
      "source": [
        "## 寫一個自己的 range() 版本 :"
      ]
    },
    {
      "cell_type": "code",
      "metadata": {
        "id": "AH1nHfBL7XrU",
        "colab": {
          "base_uri": "https://localhost:8080/"
        },
        "outputId": "f57539e9-a6df-42d3-9ea7-2e9576d6b6c2"
      },
      "source": [
        "def my_range(first=0, last=10, step=1):\n",
        "  number = first\n",
        "  while number < last:\n",
        "    yield number\n",
        "    number += step\n",
        "my_range"
      ],
      "execution_count": null,
      "outputs": [
        {
          "output_type": "execute_result",
          "data": {
            "text/plain": [
              "<function __main__.my_range>"
            ]
          },
          "metadata": {},
          "execution_count": 34
        }
      ]
    },
    {
      "cell_type": "code",
      "metadata": {
        "id": "-kLFU8dV8cUF",
        "colab": {
          "base_uri": "https://localhost:8080/"
        },
        "outputId": "73fae38c-b930-4ef9-f546-182a041c1132"
      },
      "source": [
        "ranger = my_range(1, 5)\n",
        "ranger"
      ],
      "execution_count": null,
      "outputs": [
        {
          "output_type": "execute_result",
          "data": {
            "text/plain": [
              "<generator object my_range at 0x7f3477e6d750>"
            ]
          },
          "metadata": {},
          "execution_count": 35
        }
      ]
    },
    {
      "cell_type": "markdown",
      "metadata": {
        "id": "atKAAI5e8lxA"
      },
      "source": [
        "### 迭代這個產生器物件"
      ]
    },
    {
      "cell_type": "code",
      "metadata": {
        "id": "vtC35ELf8ybA",
        "colab": {
          "base_uri": "https://localhost:8080/"
        },
        "outputId": "39498b7c-6e26-454b-df2b-d206da52c65d"
      },
      "source": [
        "for x in ranger:  # 迭代產生器 ，不用再加括號\n",
        "  print(x)"
      ],
      "execution_count": null,
      "outputs": [
        {
          "output_type": "stream",
          "name": "stdout",
          "text": [
            "1\n",
            "2\n",
            "3\n",
            "4\n"
          ]
        }
      ]
    },
    {
      "cell_type": "markdown",
      "metadata": {
        "id": "xNKulCug9Ing"
      },
      "source": [
        "#### 上面迭代完了 無法再迭代"
      ]
    },
    {
      "cell_type": "code",
      "metadata": {
        "id": "CqytA4MZ85fZ"
      },
      "source": [
        "for try_again in ranger:\n",
        "  print(try_again)"
      ],
      "execution_count": null,
      "outputs": []
    },
    {
      "cell_type": "markdown",
      "metadata": {
        "id": "-OMhEC-q9XYf"
      },
      "source": [
        "# 產生器生成式"
      ]
    },
    {
      "cell_type": "code",
      "metadata": {
        "id": "QxyE3p7t9icB",
        "colab": {
          "base_uri": "https://localhost:8080/"
        },
        "outputId": "04390c3d-b490-4944-fea8-c58773081b14"
      },
      "source": [
        "genobj = (pair for pair in zip([\"a\", \"b\"], [\"1\", \"2\"]))\n",
        "genobj"
      ],
      "execution_count": null,
      "outputs": [
        {
          "output_type": "execute_result",
          "data": {
            "text/plain": [
              "<generator object <genexpr> at 0x7f3477e094d0>"
            ]
          },
          "metadata": {},
          "execution_count": 38
        }
      ]
    },
    {
      "cell_type": "code",
      "metadata": {
        "id": "YgGcpG6m92lW",
        "colab": {
          "base_uri": "https://localhost:8080/"
        },
        "outputId": "43ec00ec-c1c6-4bec-c700-79e81267e10c"
      },
      "source": [
        "for thing in genobj:\n",
        "  print(thing)"
      ],
      "execution_count": null,
      "outputs": [
        {
          "output_type": "stream",
          "name": "stdout",
          "text": [
            "('a', '1')\n",
            "('b', '2')\n"
          ]
        }
      ]
    },
    {
      "cell_type": "markdown",
      "metadata": {
        "id": "1tVxdprrl-fH"
      },
      "source": [
        "# 裝飾器"
      ]
    },
    {
      "cell_type": "code",
      "metadata": {
        "id": "b6YVS6qLmBJy"
      },
      "source": [
        "def document_it(func):\n",
        "  def new_function(*args, **kwargs):\n",
        "    print('Running function:', func.__name__)\n",
        "    print('Positional arguments:', args)\n",
        "    print('Keyword arguments:', kwargs)\n",
        "    result = func(*args, **kwargs)\n",
        "    print('Result:', result)\n",
        "    return result\n",
        "  return new_function   # 回傳一個新的函式"
      ],
      "execution_count": null,
      "outputs": []
    },
    {
      "cell_type": "code",
      "metadata": {
        "id": "DnKYy8YbnJE0",
        "colab": {
          "base_uri": "https://localhost:8080/"
        },
        "outputId": "d38100b8-0fa3-4068-c823-cd69c0b3aa3e"
      },
      "source": [
        "document_it(print)"
      ],
      "execution_count": null,
      "outputs": [
        {
          "output_type": "execute_result",
          "data": {
            "text/plain": [
              "<function __main__.document_it.<locals>.new_function>"
            ]
          },
          "metadata": {},
          "execution_count": 3
        }
      ]
    },
    {
      "cell_type": "code",
      "metadata": {
        "id": "eZ1bxahooBuR",
        "colab": {
          "base_uri": "https://localhost:8080/"
        },
        "outputId": "7fa34ef6-0bd7-4be3-b49a-d99218af5984"
      },
      "source": [
        "def add_ints(a, b):\n",
        "  return a + b\n",
        "add_ints(3, 5)"
      ],
      "execution_count": null,
      "outputs": [
        {
          "output_type": "execute_result",
          "data": {
            "text/plain": [
              "8"
            ]
          },
          "metadata": {},
          "execution_count": 6
        }
      ]
    },
    {
      "cell_type": "code",
      "metadata": {
        "id": "8ks9kakQocig",
        "colab": {
          "base_uri": "https://localhost:8080/"
        },
        "outputId": "3aa5bd90-a833-4af5-c89c-eb4b3e74a0ad"
      },
      "source": [
        "cooler_add_ints = document_it(add_ints)  # 手動指派裝飾器\n",
        "cooler_add_ints(3, 5)"
      ],
      "execution_count": null,
      "outputs": [
        {
          "output_type": "stream",
          "name": "stdout",
          "text": [
            "Running function: add_ints\n",
            "Positional arguments: (3, 5)\n",
            "Keyword arguments: {}\n",
            "Result: 8\n"
          ]
        },
        {
          "output_type": "execute_result",
          "data": {
            "text/plain": [
              "8"
            ]
          },
          "metadata": {},
          "execution_count": 18
        }
      ]
    },
    {
      "cell_type": "code",
      "metadata": {
        "id": "CJ117_O-roD_",
        "colab": {
          "base_uri": "https://localhost:8080/"
        },
        "outputId": "00b7c207-9b7c-4b2b-9275-bc7c285f9295"
      },
      "source": [
        "@document_it\n",
        "def add_ints(a, b):\n",
        "  return a + b\n",
        "\n",
        "add_ints(3, 5)"
      ],
      "execution_count": null,
      "outputs": [
        {
          "output_type": "stream",
          "name": "stdout",
          "text": [
            "Running function: add_ints\n",
            "Positional arguments: (3, 5)\n",
            "Keyword arguments: {}\n",
            "Result: 8\n"
          ]
        },
        {
          "output_type": "execute_result",
          "data": {
            "text/plain": [
              "8"
            ]
          },
          "metadata": {},
          "execution_count": 20
        }
      ]
    },
    {
      "cell_type": "code",
      "metadata": {
        "id": "c-CcAdTesH6k"
      },
      "source": [
        "## 第二個裝飾器\n",
        "def square_it(func):\n",
        "  def new_function(*args, **kwargs):\n",
        "    result = func(*args, **kwargs)\n",
        "    return result * result\n",
        "  return new_function"
      ],
      "execution_count": null,
      "outputs": []
    },
    {
      "cell_type": "code",
      "metadata": {
        "id": "zrfxQspctNqG",
        "colab": {
          "base_uri": "https://localhost:8080/"
        },
        "outputId": "83089dfc-94c1-411a-fc79-7356c53cd3e6"
      },
      "source": [
        "@document_it\n",
        "@square_it\n",
        "def add_ints(a, b):\n",
        "  return a + b\n",
        "\n",
        "add_ints(3, 5)"
      ],
      "execution_count": null,
      "outputs": [
        {
          "output_type": "stream",
          "name": "stdout",
          "text": [
            "Running function: new_function\n",
            "Positional arguments: (3, 5)\n",
            "Keyword arguments: {}\n",
            "Result: 64\n"
          ]
        },
        {
          "output_type": "execute_result",
          "data": {
            "text/plain": [
              "64"
            ]
          },
          "metadata": {},
          "execution_count": 26
        }
      ]
    },
    {
      "cell_type": "markdown",
      "metadata": {
        "id": "yUybhj5ruVHc"
      },
      "source": [
        "### 最靠近函式的裝飾器會先執行"
      ]
    },
    {
      "cell_type": "markdown",
      "metadata": {
        "id": "cMCiQJjtwogk"
      },
      "source": [
        "# 名稱空間與作用域"
      ]
    },
    {
      "cell_type": "code",
      "metadata": {
        "id": "l0HNL2ynuaUK",
        "colab": {
          "base_uri": "https://localhost:8080/"
        },
        "outputId": "a5576ab3-69d0-4fe9-9cf8-db0f353b2ccb"
      },
      "source": [
        "animal = 'fruitbat'\n",
        "def print_global():\n",
        "  print('inside print_global:', animal)\n",
        "print('at the top leval:', animal)"
      ],
      "execution_count": null,
      "outputs": [
        {
          "output_type": "stream",
          "name": "stdout",
          "text": [
            "at the top leval: fruitbat\n"
          ]
        }
      ]
    },
    {
      "cell_type": "code",
      "metadata": {
        "id": "flXvgGyrwaTN",
        "colab": {
          "base_uri": "https://localhost:8080/"
        },
        "outputId": "1b29a500-d744-4f15-ccf7-284ee3fc30ad"
      },
      "source": [
        "print_global()"
      ],
      "execution_count": null,
      "outputs": [
        {
          "output_type": "stream",
          "name": "stdout",
          "text": [
            "inside print_global: fruitbat\n"
          ]
        }
      ]
    },
    {
      "cell_type": "markdown",
      "metadata": {
        "id": "H6BSA0rpwlkk"
      },
      "source": [
        "### 若再函式內 取得全域變數的值 並且更改它， 會出現錯誤："
      ]
    },
    {
      "cell_type": "code",
      "metadata": {
        "id": "QYzzcMLhw23j",
        "colab": {
          "base_uri": "https://localhost:8080/",
          "height": 323
        },
        "outputId": "dbdce69e-dbe1-4df2-9608-24be0d66681f"
      },
      "source": [
        "animal = 'fruitbat'\n",
        "def change_and_print_global():\n",
        "  print('inside change_and_print_global:', animal)\n",
        "  animal = 'wombat'\n",
        "  print('after the change:', animal)\n",
        "change_and_print_global()"
      ],
      "execution_count": null,
      "outputs": [
        {
          "output_type": "error",
          "ename": "UnboundLocalError",
          "evalue": "ignored",
          "traceback": [
            "\u001b[0;31m---------------------------------------------------------------------------\u001b[0m",
            "\u001b[0;31mUnboundLocalError\u001b[0m                         Traceback (most recent call last)",
            "\u001b[0;32m<ipython-input-34-a1c82481403b>\u001b[0m in \u001b[0;36m<module>\u001b[0;34m()\u001b[0m\n\u001b[1;32m      4\u001b[0m   \u001b[0manimal\u001b[0m \u001b[0;34m=\u001b[0m \u001b[0;34m'wombat'\u001b[0m\u001b[0;34m\u001b[0m\u001b[0;34m\u001b[0m\u001b[0m\n\u001b[1;32m      5\u001b[0m   \u001b[0mprint\u001b[0m\u001b[0;34m(\u001b[0m\u001b[0;34m'after the change:'\u001b[0m\u001b[0;34m,\u001b[0m \u001b[0manimal\u001b[0m\u001b[0;34m)\u001b[0m\u001b[0;34m\u001b[0m\u001b[0;34m\u001b[0m\u001b[0m\n\u001b[0;32m----> 6\u001b[0;31m \u001b[0mchange_and_print_global\u001b[0m\u001b[0;34m(\u001b[0m\u001b[0;34m)\u001b[0m\u001b[0;34m\u001b[0m\u001b[0;34m\u001b[0m\u001b[0m\n\u001b[0m",
            "\u001b[0;32m<ipython-input-34-a1c82481403b>\u001b[0m in \u001b[0;36mchange_and_print_global\u001b[0;34m()\u001b[0m\n\u001b[1;32m      1\u001b[0m \u001b[0manimal\u001b[0m \u001b[0;34m=\u001b[0m \u001b[0;34m'fruitbat'\u001b[0m\u001b[0;34m\u001b[0m\u001b[0;34m\u001b[0m\u001b[0m\n\u001b[1;32m      2\u001b[0m \u001b[0;32mdef\u001b[0m \u001b[0mchange_and_print_global\u001b[0m\u001b[0;34m(\u001b[0m\u001b[0;34m)\u001b[0m\u001b[0;34m:\u001b[0m\u001b[0;34m\u001b[0m\u001b[0;34m\u001b[0m\u001b[0m\n\u001b[0;32m----> 3\u001b[0;31m   \u001b[0mprint\u001b[0m\u001b[0;34m(\u001b[0m\u001b[0;34m'inside change_and_print_global:'\u001b[0m\u001b[0;34m,\u001b[0m \u001b[0manimal\u001b[0m\u001b[0;34m)\u001b[0m\u001b[0;34m\u001b[0m\u001b[0;34m\u001b[0m\u001b[0m\n\u001b[0m\u001b[1;32m      4\u001b[0m   \u001b[0manimal\u001b[0m \u001b[0;34m=\u001b[0m \u001b[0;34m'wombat'\u001b[0m\u001b[0;34m\u001b[0m\u001b[0;34m\u001b[0m\u001b[0m\n\u001b[1;32m      5\u001b[0m   \u001b[0mprint\u001b[0m\u001b[0;34m(\u001b[0m\u001b[0;34m'after the change:'\u001b[0m\u001b[0;34m,\u001b[0m \u001b[0manimal\u001b[0m\u001b[0;34m)\u001b[0m\u001b[0;34m\u001b[0m\u001b[0;34m\u001b[0m\u001b[0m\n",
            "\u001b[0;31mUnboundLocalError\u001b[0m: local variable 'animal' referenced before assignment"
          ]
        }
      ]
    },
    {
      "cell_type": "code",
      "metadata": {
        "id": "wNr8FTyq0mb9",
        "colab": {
          "base_uri": "https://localhost:8080/"
        },
        "outputId": "1103a195-e6ad-4fa5-838f-2ff3417eee1c"
      },
      "source": [
        "animal = 'fruitbat'\n",
        "print(id(animal))\n",
        "\n",
        "def change_local():\n",
        "  animal = 'wombat'\n",
        "  print('inside change_local:', animal, id(animal))\n",
        "\n",
        "change_local()"
      ],
      "execution_count": null,
      "outputs": [
        {
          "output_type": "stream",
          "name": "stdout",
          "text": [
            "139683921229296\n",
            "inside change_local: wombat 139683920947376\n"
          ]
        }
      ]
    },
    {
      "cell_type": "code",
      "metadata": {
        "id": "v314aGAT1LBq",
        "colab": {
          "base_uri": "https://localhost:8080/"
        },
        "outputId": "d4db432d-67e4-4c45-d0c0-99b7d312b732"
      },
      "source": [
        "animal = 'fruitbat'\n",
        "print(id(animal))"
      ],
      "execution_count": null,
      "outputs": [
        {
          "output_type": "stream",
          "name": "stdout",
          "text": [
            "139683921229296\n"
          ]
        }
      ]
    },
    {
      "cell_type": "markdown",
      "metadata": {
        "id": "yaW605rQ2opm"
      },
      "source": [
        "## 使用 global"
      ]
    },
    {
      "cell_type": "code",
      "metadata": {
        "id": "z0u6rwu95OfR",
        "outputId": "4792fabe-68f1-4237-968b-e0d89658c445",
        "colab": {
          "base_uri": "https://localhost:8080/"
        }
      },
      "source": [
        "animal = 'fruitbat'\n",
        "def change_and_print_global():\n",
        "  global animal\n",
        "  animal = 'wombat'\n",
        "  print('inside change_and_print_global:', animal)\n",
        "\n",
        "print(animal)\n",
        "change_and_print_global()\n",
        "print(animal)"
      ],
      "execution_count": 2,
      "outputs": [
        {
          "output_type": "stream",
          "name": "stdout",
          "text": [
            "fruitbat\n",
            "inside change_and_print_global: wombat\n",
            "wombat\n"
          ]
        }
      ]
    },
    {
      "cell_type": "markdown",
      "metadata": {
        "id": "Vb76WNrjR3Yp"
      },
      "source": [
        "# 讀取名稱空間的內容 : \n",
        "## locals()\n",
        "## globals()"
      ]
    },
    {
      "cell_type": "code",
      "metadata": {
        "id": "ruQhYIwQSfNY",
        "outputId": "7d2ebcc8-95c5-43b3-fd96-518f219a70ff",
        "colab": {
          "base_uri": "https://localhost:8080/"
        }
      },
      "source": [
        "animal = 'fruitbat'\n",
        "def change_local():\n",
        "  animal = 'wombat' # 區域變數\n",
        "  print('locals:', locals())\n",
        "\n",
        "print(animal)"
      ],
      "execution_count": 3,
      "outputs": [
        {
          "output_type": "stream",
          "name": "stdout",
          "text": [
            "fruitbat\n"
          ]
        }
      ]
    },
    {
      "cell_type": "code",
      "metadata": {
        "id": "ZpptzknCS4n7",
        "outputId": "eb58b0a4-c89c-46fd-82a2-f446da5a9bdd",
        "colab": {
          "base_uri": "https://localhost:8080/"
        }
      },
      "source": [
        "change_local()"
      ],
      "execution_count": 4,
      "outputs": [
        {
          "output_type": "stream",
          "name": "stdout",
          "text": [
            "locals: {'animal': 'wombat'}\n"
          ]
        }
      ]
    },
    {
      "cell_type": "code",
      "metadata": {
        "id": "ewGI8QwKS8Up",
        "outputId": "3a018f1d-f8be-473e-abf1-21d3301198b3",
        "colab": {
          "base_uri": "https://localhost:8080/"
        }
      },
      "source": [
        "print('globals:', globals())"
      ],
      "execution_count": 5,
      "outputs": [
        {
          "output_type": "stream",
          "name": "stdout",
          "text": [
            "globals: {'__name__': '__main__', '__doc__': 'Automatically created module for IPython interactive environment', '__package__': None, '__loader__': None, '__spec__': None, '__builtin__': <module 'builtins' (built-in)>, '__builtins__': <module 'builtins' (built-in)>, '_ih': ['', \"animal = 'fruitbat'\\ndef change_and_print_global():\\n  global animal\\n  animal = 'wombat'\\n  print('inside change_and_print_global:', animal)\", \"animal = 'fruitbat'\\ndef change_and_print_global():\\n  global animal\\n  animal = 'wombat'\\n  print('inside change_and_print_global:', animal)\\n\\nprint(animal)\\nchange_and_print_global()\\nprint(animal)\", \"animal = 'fruitbat'\\ndef change_local():\\n  animal = 'wombat' # 區域變數\\n  print('locals:', locals())\\n\\nprint(animal)\", 'change_local()', \"print('globals:', globals())\"], '_oh': {}, '_dh': ['/content'], '_sh': <module 'IPython.core.shadowns' from '/usr/local/lib/python3.7/dist-packages/IPython/core/shadowns.py'>, 'In': ['', \"animal = 'fruitbat'\\ndef change_and_print_global():\\n  global animal\\n  animal = 'wombat'\\n  print('inside change_and_print_global:', animal)\", \"animal = 'fruitbat'\\ndef change_and_print_global():\\n  global animal\\n  animal = 'wombat'\\n  print('inside change_and_print_global:', animal)\\n\\nprint(animal)\\nchange_and_print_global()\\nprint(animal)\", \"animal = 'fruitbat'\\ndef change_local():\\n  animal = 'wombat' # 區域變數\\n  print('locals:', locals())\\n\\nprint(animal)\", 'change_local()', \"print('globals:', globals())\"], 'Out': {}, 'get_ipython': <bound method InteractiveShell.get_ipython of <google.colab._shell.Shell object at 0x7fe288d97b50>>, 'exit': <IPython.core.autocall.ZMQExitAutocall object at 0x7fe288b5a850>, 'quit': <IPython.core.autocall.ZMQExitAutocall object at 0x7fe288b5a850>, '_': '', '__': '', '___': '', '_i': 'change_local()', '_ii': \"animal = 'fruitbat'\\ndef change_local():\\n  animal = 'wombat' # 區域變數\\n  print('locals:', locals())\\n\\nprint(animal)\", '_iii': \"animal = 'fruitbat'\\ndef change_and_print_global():\\n  global animal\\n  animal = 'wombat'\\n  print('inside change_and_print_global:', animal)\\n\\nprint(animal)\\nchange_and_print_global()\\nprint(animal)\", '_i1': \"animal = 'fruitbat'\\ndef change_and_print_global():\\n  global animal\\n  animal = 'wombat'\\n  print('inside change_and_print_global:', animal)\", 'animal': 'fruitbat', 'change_and_print_global': <function change_and_print_global at 0x7fe27f3468c0>, '_i2': \"animal = 'fruitbat'\\ndef change_and_print_global():\\n  global animal\\n  animal = 'wombat'\\n  print('inside change_and_print_global:', animal)\\n\\nprint(animal)\\nchange_and_print_global()\\nprint(animal)\", '_i3': \"animal = 'fruitbat'\\ndef change_local():\\n  animal = 'wombat' # 區域變數\\n  print('locals:', locals())\\n\\nprint(animal)\", 'change_local': <function change_local at 0x7fe27f2cb200>, '_i4': 'change_local()', '_i5': \"print('globals:', globals())\"}\n"
          ]
        }
      ]
    },
    {
      "cell_type": "code",
      "metadata": {
        "id": "K_caFP28TZ5B",
        "outputId": "a82c8f5f-a882-45d1-b028-691abd4c6d63",
        "colab": {
          "base_uri": "https://localhost:8080/"
        }
      },
      "source": [
        "print(animal)"
      ],
      "execution_count": 6,
      "outputs": [
        {
          "output_type": "stream",
          "name": "stdout",
          "text": [
            "fruitbat\n"
          ]
        }
      ]
    },
    {
      "cell_type": "markdown",
      "metadata": {
        "id": "T65XOnW-VFVX"
      },
      "source": [
        "# 在名稱內使用 _ 與 __\n",
        "## function.\\_\\_name\\_\\_ => 顯示函式名稱\n",
        "## function.\\_\\_doc\\_\\_ => 顯示文件字串"
      ]
    },
    {
      "cell_type": "code",
      "metadata": {
        "id": "C2X8VIbxUK1Q",
        "outputId": "d8bad520-2566-450b-99a1-9ff668367b9f",
        "colab": {
          "base_uri": "https://localhost:8080/"
        }
      },
      "source": [
        "def amazing():\n",
        "  '''This id the amazing function.  # 文件字串\n",
        "  Want to see it again?'''\n",
        "  print('This function is named:', amazing.__name__, end='\\n\\n')\n",
        "  print('And its docstring is:', amazing.__doc__)\n",
        "\n",
        "amazing()"
      ],
      "execution_count": 10,
      "outputs": [
        {
          "output_type": "stream",
          "name": "stdout",
          "text": [
            "This function is named: amazing\n",
            "\n",
            "And its docstring is: This id the amazing function.\n",
            "  Want to see it again?\n"
          ]
        }
      ]
    },
    {
      "cell_type": "code",
      "metadata": {
        "id": "dYdZCmMdVuz8",
        "outputId": "82931592-85ca-442b-f478-c41424465f93",
        "colab": {
          "base_uri": "https://localhost:8080/"
        }
      },
      "source": [
        "print('globals docstring:', globals.__doc__)\n",
        "print('globals name:', globals.__name__)"
      ],
      "execution_count": 16,
      "outputs": [
        {
          "output_type": "stream",
          "name": "stdout",
          "text": [
            "globals docstring: Return the dictionary containing the current scope's global variables.\n",
            "\n",
            "NOTE: Updates to this dictionary *will* affect name lookups in the current\n",
            "global scope and vice-versa.\n",
            "globals name: globals\n"
          ]
        }
      ]
    },
    {
      "cell_type": "markdown",
      "metadata": {
        "id": "5Ajr2rClWiwK"
      },
      "source": [
        "# 遞迴 :"
      ]
    },
    {
      "cell_type": "code",
      "metadata": {
        "id": "T3USLaAUWl8k",
        "outputId": "bcbcc53f-90ee-4a63-800b-427f2b4595e1",
        "colab": {
          "base_uri": "https://localhost:8080/",
          "height": 347
        }
      },
      "source": [
        "def dive():\n",
        "  return dive()\n",
        "dive()  # 出錯 因為太深了"
      ],
      "execution_count": 18,
      "outputs": [
        {
          "output_type": "error",
          "ename": "RecursionError",
          "evalue": "ignored",
          "traceback": [
            "\u001b[0;31m---------------------------------------------------------------------------\u001b[0m",
            "\u001b[0;31mRecursionError\u001b[0m                            Traceback (most recent call last)",
            "\u001b[0;32m<ipython-input-18-f7b4db780cd4>\u001b[0m in \u001b[0;36m<module>\u001b[0;34m()\u001b[0m\n\u001b[1;32m      1\u001b[0m \u001b[0;32mdef\u001b[0m \u001b[0mdive\u001b[0m\u001b[0;34m(\u001b[0m\u001b[0;34m)\u001b[0m\u001b[0;34m:\u001b[0m\u001b[0;34m\u001b[0m\u001b[0;34m\u001b[0m\u001b[0m\n\u001b[1;32m      2\u001b[0m   \u001b[0;32mreturn\u001b[0m \u001b[0mdive\u001b[0m\u001b[0;34m(\u001b[0m\u001b[0;34m)\u001b[0m\u001b[0;34m\u001b[0m\u001b[0;34m\u001b[0m\u001b[0m\n\u001b[0;32m----> 3\u001b[0;31m \u001b[0mdive\u001b[0m\u001b[0;34m(\u001b[0m\u001b[0;34m)\u001b[0m\u001b[0;34m\u001b[0m\u001b[0;34m\u001b[0m\u001b[0m\n\u001b[0m",
            "\u001b[0;32m<ipython-input-18-f7b4db780cd4>\u001b[0m in \u001b[0;36mdive\u001b[0;34m()\u001b[0m\n\u001b[1;32m      1\u001b[0m \u001b[0;32mdef\u001b[0m \u001b[0mdive\u001b[0m\u001b[0;34m(\u001b[0m\u001b[0;34m)\u001b[0m\u001b[0;34m:\u001b[0m\u001b[0;34m\u001b[0m\u001b[0;34m\u001b[0m\u001b[0m\n\u001b[0;32m----> 2\u001b[0;31m   \u001b[0;32mreturn\u001b[0m \u001b[0mdive\u001b[0m\u001b[0;34m(\u001b[0m\u001b[0;34m)\u001b[0m\u001b[0;34m\u001b[0m\u001b[0;34m\u001b[0m\u001b[0m\n\u001b[0m\u001b[1;32m      3\u001b[0m \u001b[0mdive\u001b[0m\u001b[0;34m(\u001b[0m\u001b[0;34m)\u001b[0m\u001b[0;34m\u001b[0m\u001b[0;34m\u001b[0m\u001b[0m\n",
            "... last 1 frames repeated, from the frame below ...\n",
            "\u001b[0;32m<ipython-input-18-f7b4db780cd4>\u001b[0m in \u001b[0;36mdive\u001b[0;34m()\u001b[0m\n\u001b[1;32m      1\u001b[0m \u001b[0;32mdef\u001b[0m \u001b[0mdive\u001b[0m\u001b[0;34m(\u001b[0m\u001b[0;34m)\u001b[0m\u001b[0;34m:\u001b[0m\u001b[0;34m\u001b[0m\u001b[0;34m\u001b[0m\u001b[0m\n\u001b[0;32m----> 2\u001b[0;31m   \u001b[0;32mreturn\u001b[0m \u001b[0mdive\u001b[0m\u001b[0;34m(\u001b[0m\u001b[0;34m)\u001b[0m\u001b[0;34m\u001b[0m\u001b[0;34m\u001b[0m\u001b[0m\n\u001b[0m\u001b[1;32m      3\u001b[0m \u001b[0mdive\u001b[0m\u001b[0;34m(\u001b[0m\u001b[0;34m)\u001b[0m\u001b[0;34m\u001b[0m\u001b[0;34m\u001b[0m\u001b[0m\n",
            "\u001b[0;31mRecursionError\u001b[0m: maximum recursion depth exceeded"
          ]
        }
      ]
    },
    {
      "cell_type": "markdown",
      "metadata": {
        "id": "gwLjadZqW6YK"
      },
      "source": [
        "## 壓平串列的所有子串列"
      ]
    },
    {
      "cell_type": "code",
      "metadata": {
        "id": "4DopOumOa83s"
      },
      "source": [
        "def flatten(lol):\n",
        "  for item in lol:\n",
        "    if isinstance(item, list):\n",
        "      for subitem in flatten(item):\n",
        "        yield subitem\n",
        "    else:\n",
        "      yield item"
      ],
      "execution_count": 19,
      "outputs": []
    },
    {
      "cell_type": "code",
      "metadata": {
        "id": "L13yUzEWbhHZ",
        "outputId": "733d2086-26be-45f6-aa34-1dcad21bb953",
        "colab": {
          "base_uri": "https://localhost:8080/"
        }
      },
      "source": [
        "lol = [1, 2, [3,4,5], [6,[7,8,9], []]]\n",
        "flatten(lol)"
      ],
      "execution_count": 20,
      "outputs": [
        {
          "output_type": "execute_result",
          "data": {
            "text/plain": [
              "<generator object flatten at 0x7fe27f2b6850>"
            ]
          },
          "metadata": {},
          "execution_count": 20
        }
      ]
    },
    {
      "cell_type": "code",
      "metadata": {
        "id": "FPBaMtS8cE8j",
        "outputId": "e1fa242b-0244-4635-fc9c-c792ee25d89c",
        "colab": {
          "base_uri": "https://localhost:8080/"
        }
      },
      "source": [
        "list(flatten(lol))"
      ],
      "execution_count": 21,
      "outputs": [
        {
          "output_type": "execute_result",
          "data": {
            "text/plain": [
              "[1, 2, 3, 4, 5, 6, 7, 8, 9]"
            ]
          },
          "metadata": {},
          "execution_count": 21
        }
      ]
    },
    {
      "cell_type": "markdown",
      "metadata": {
        "id": "xECNJklucgDA"
      },
      "source": [
        "## 加入 yield from 將一些工作交給另一個產生器\n",
        "## 可以簡化 flatten"
      ]
    },
    {
      "cell_type": "code",
      "metadata": {
        "id": "TL14tZdhcsEN",
        "outputId": "89ad8f92-a085-4bb4-9280-9fffa2539754",
        "colab": {
          "base_uri": "https://localhost:8080/"
        }
      },
      "source": [
        "def flatten(lol):\n",
        "  for item in lol:\n",
        "    if isinstance(item, list):\n",
        "      yield from flatten(item)   # 簡化 不管list多深\n",
        "    else:\n",
        "      yield item\n",
        "\n",
        "lol = [1, 2, [3,4,5], [6,[7,8,9], []]]\n",
        "list(flatten(lol))"
      ],
      "execution_count": 22,
      "outputs": [
        {
          "output_type": "execute_result",
          "data": {
            "text/plain": [
              "[1, 2, 3, 4, 5, 6, 7, 8, 9]"
            ]
          },
          "metadata": {},
          "execution_count": 22
        }
      ]
    },
    {
      "cell_type": "code",
      "metadata": {
        "id": "BolHy2FIdUMC",
        "outputId": "04cf06c9-b920-4f37-e204-51845a3aaccf",
        "colab": {
          "base_uri": "https://localhost:8080/"
        }
      },
      "source": [
        "lol1 = [1, 2, [3,4,5], [6,[7,8,9,[10,11,12,[13,14,15],16],17], []]]\n",
        "list(flatten(lol1))"
      ],
      "execution_count": 23,
      "outputs": [
        {
          "output_type": "execute_result",
          "data": {
            "text/plain": [
              "[1, 2, 3, 4, 5, 6, 7, 8, 9, 10, 11, 12, 13, 14, 15, 16, 17]"
            ]
          },
          "metadata": {},
          "execution_count": 23
        }
      ]
    },
    {
      "cell_type": "markdown",
      "metadata": {
        "id": "5JZnC_78f-r0"
      },
      "source": [
        "# 用 try 和 except 來處理錯誤"
      ]
    },
    {
      "cell_type": "code",
      "metadata": {
        "id": "3FUxU3tXhZkI",
        "outputId": "78cdc9c1-a454-4fdb-e8b1-4989d2b7c248",
        "colab": {
          "base_uri": "https://localhost:8080/"
        }
      },
      "source": [
        "short_list = [1, 2, 3]\n",
        "position = 5\n",
        "try:\n",
        "  short_list[position]\n",
        "except:\n",
        "  print('Need a position between 0 and', len(short_list)-1, ' but got', position)"
      ],
      "execution_count": 24,
      "outputs": [
        {
          "output_type": "stream",
          "name": "stdout",
          "text": [
            "Need a position between 0 and 2  but got 5\n"
          ]
        }
      ]
    },
    {
      "cell_type": "markdown",
      "metadata": {
        "id": "ZmV6tT-HjLsc"
      },
      "source": [
        "## excpet exceptiontype as name"
      ]
    },
    {
      "cell_type": "code",
      "metadata": {
        "id": "9AQfYLeQjVGs",
        "outputId": "dbb38923-71dc-4728-bec4-d116925db9c2",
        "colab": {
          "base_uri": "https://localhost:8080/"
        }
      },
      "source": [
        "short_list = [1, 2, 3]\n",
        "while True:\n",
        "  value = input('Position[q to quit]? ')\n",
        "  if value == 'q':\n",
        "    break\n",
        "  try:\n",
        "    position = int(value)\n",
        "    print(short_list[position])\n",
        "  except IndexError as err:\n",
        "    print(\"Bad index:\", position)\n",
        "  except Exception as other:\n",
        "    print('Something else broke:', other)"
      ],
      "execution_count": 25,
      "outputs": [
        {
          "name": "stdout",
          "output_type": "stream",
          "text": [
            "Position[q to quit]? 1\n",
            "2\n",
            "Position[q to quit]? 2\n",
            "3\n",
            "Position[q to quit]? 0\n",
            "1\n",
            "Position[q to quit]? 3\n",
            "Bad index: 3\n",
            "Position[q to quit]? 4\n",
            "Bad index: 4\n",
            "Position[q to quit]? two\n",
            "Something else broke: invalid literal for int() with base 10: 'two'\n",
            "Position[q to quit]? q\n"
          ]
        }
      ]
    },
    {
      "cell_type": "markdown",
      "metadata": {
        "id": "8wus5-p7khC6"
      },
      "source": [
        "# 自己製作自己的例外"
      ]
    },
    {
      "cell_type": "code",
      "metadata": {
        "id": "SYDmFCg0kkq2",
        "outputId": "2d84de5e-dcaf-4bb3-8fea-0c302988f3cc",
        "colab": {
          "base_uri": "https://localhost:8080/",
          "height": 202
        }
      },
      "source": [
        "class UppercaseException(Exception):\n",
        "  pass\n",
        "words = ['eenie', 'meenie', 'miny', 'MO']\n",
        "for word in words:\n",
        "  if word.isupper():\n",
        "    raise UppercaseException(word)"
      ],
      "execution_count": 26,
      "outputs": [
        {
          "output_type": "error",
          "ename": "UppercaseException",
          "evalue": "ignored",
          "traceback": [
            "\u001b[0;31m---------------------------------------------------------------------------\u001b[0m",
            "\u001b[0;31mUppercaseException\u001b[0m                        Traceback (most recent call last)",
            "\u001b[0;32m<ipython-input-26-41179b2cefb3>\u001b[0m in \u001b[0;36m<module>\u001b[0;34m()\u001b[0m\n\u001b[1;32m      4\u001b[0m \u001b[0;32mfor\u001b[0m \u001b[0mword\u001b[0m \u001b[0;32min\u001b[0m \u001b[0mwords\u001b[0m\u001b[0;34m:\u001b[0m\u001b[0;34m\u001b[0m\u001b[0;34m\u001b[0m\u001b[0m\n\u001b[1;32m      5\u001b[0m   \u001b[0;32mif\u001b[0m \u001b[0mword\u001b[0m\u001b[0;34m.\u001b[0m\u001b[0misupper\u001b[0m\u001b[0;34m(\u001b[0m\u001b[0;34m)\u001b[0m\u001b[0;34m:\u001b[0m\u001b[0;34m\u001b[0m\u001b[0;34m\u001b[0m\u001b[0m\n\u001b[0;32m----> 6\u001b[0;31m     \u001b[0;32mraise\u001b[0m \u001b[0mUppercaseException\u001b[0m\u001b[0;34m(\u001b[0m\u001b[0mword\u001b[0m\u001b[0;34m)\u001b[0m\u001b[0;34m\u001b[0m\u001b[0;34m\u001b[0m\u001b[0m\n\u001b[0m",
            "\u001b[0;31mUppercaseException\u001b[0m: MO"
          ]
        }
      ]
    },
    {
      "cell_type": "code",
      "metadata": {
        "id": "JkcUmqA1n6br",
        "outputId": "4528cfc1-02bb-424b-cbb5-2d8456bd09c8",
        "colab": {
          "base_uri": "https://localhost:8080/"
        }
      },
      "source": [
        "class OopsException(Exception):\n",
        "  pass\n",
        "\n",
        "try:\n",
        "  raise OopsException('panic') \n",
        "  print('try')\n",
        "except OopsException as exc:\n",
        "  print(exc)\n",
        "  print(type(exc))"
      ],
      "execution_count": 34,
      "outputs": [
        {
          "output_type": "stream",
          "name": "stdout",
          "text": [
            "panic\n",
            "<class '__main__.OopsException'>\n"
          ]
        }
      ]
    }
  ]
}