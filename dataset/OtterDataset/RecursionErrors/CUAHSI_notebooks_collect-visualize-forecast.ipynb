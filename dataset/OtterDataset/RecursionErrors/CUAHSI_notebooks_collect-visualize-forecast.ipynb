{
 "cells": [
  {
   "cell_type": "markdown",
   "id": "755942a6-3447-4577-a72c-160e9e96dcff",
   "metadata": {},
   "source": [
    "## Collect and Visualize NWM Forecasts\n",
    "\n",
    "**Authors**: Anthony Castronova (acastronova@cuahsi.org), Irene Garousi-Nejad (igarousi@cuahsi.org)  <br>\n",
    "**Last updated**: \n",
    "\n",
    "This notebook demonstrates how to collect and visualize NWM forecast data. All data used in this notebook are publicly acessible via Amazon AWS. Streamflow data is collected from operational NWM medium-range forecasts (https://console.cloud.google.com/storage/browser/national-water-model/).\n",
    "\n",
    "This work was funded by:\n",
    "\n",
    " <img src=\"https://www.hydroshare.org/resource/dc269e23ff494a06b7372bc6034a5de2/data/contents/v3-SNOW/logo-img/CUAHSI-4-color-logo_with_URL.png\" width=\"300\" height=\"300\" style=\"padding-right:50px\"> <img src=\"https://www.hydroshare.org/resource/dc269e23ff494a06b7372bc6034a5de2/data/contents/v3-SNOW/logo-img/CIROHLogo_200x200.png\" width=\"100\" height=\"20\">    "
   ]
  },
  {
   "cell_type": "code",
   "execution_count": 1,
   "id": "56433a4a-8604-46ce-8565-32eac9eea9b7",
   "metadata": {
    "scrolled": true
   },
   "outputs": [],
   "source": [
    "import os\n",
    "os.environ['USE_PYGEOS'] = '0'\n",
    "\n",
    "import sys\n",
    "import zarr\n",
    "import numpy\n",
    "import xarray\n",
    "import rioxarray\n",
    "import geopandas\n",
    "import numpy as np\n",
    "import pandas as pd\n",
    "from typing import Dict\n",
    "from pathlib import Path\n",
    "from scipy import interpolate\n",
    "import matplotlib.pyplot as plt\n",
    "from dask.distributed import Client\n",
    "from datetime import datetime, timedelta\n",
    "from geocube.api.core import make_geocube\n",
    "\n",
    "# Import a utility library for collecting medium-range forecast data.\n",
    "import forecast"
   ]
  },
  {
   "cell_type": "code",
   "execution_count": 2,
   "id": "a472a6dd-3f0a-42e0-9170-fa137932fa9a",
   "metadata": {},
   "outputs": [
    {
     "name": "stdout",
     "output_type": "stream",
     "text": [
      "/user/castronova/proxy/8787/status\n"
     ]
    }
   ],
   "source": [
    "# use a try accept loop so we only instantiate the client\n",
    "# if it doesn't already exist.\n",
    "try:\n",
    "    print(client.dashboard_link)\n",
    "except:    \n",
    "    # The client should be customized to your workstation resources.\n",
    "    client = Client(n_workers=6, memory_limit='4GB') # per worker\n",
    "    print(client.dashboard_link)"
   ]
  },
  {
   "cell_type": "markdown",
   "id": "be38c156-1de3-4114-8441-fe86ddd4fbe7",
   "metadata": {},
   "source": [
    "Define a feature of interest using an NHD+ Reach ID"
   ]
  },
  {
   "cell_type": "code",
   "execution_count": 3,
   "id": "57176cce-6273-4be6-9eca-f7faeabf3da5",
   "metadata": {},
   "outputs": [],
   "source": [
    "# NHD+ feature id of interest\n",
    "nhd_feature_id=4966269"
   ]
  },
  {
   "cell_type": "markdown",
   "id": "501c9402-d848-43f0-a527-ab86c36546f9",
   "metadata": {},
   "source": [
    "Collect streamflow for this `reach_id` using the `forecast.py` forecast utility."
   ]
  },
  {
   "cell_type": "code",
   "execution_count": 8,
   "id": "c8c78704-ab16-4dc9-9488-600e098d9a5f",
   "metadata": {},
   "outputs": [
    {
     "data": {
      "text/plain": [
       "<module 'forecast' from '/home/jovyan/Desktop/notebooks/nwm/forecast/forecast.py'>"
      ]
     },
     "execution_count": 8,
     "metadata": {},
     "output_type": "execute_result"
    }
   ],
   "source": [
    "import importlib\n",
    "importlib.reload(forecast)"
   ]
  },
  {
   "cell_type": "code",
   "execution_count": 9,
   "id": "0fde1174-e3fb-434b-b719-b9beb761c3bd",
   "metadata": {},
   "outputs": [
    {
     "name": "stdout",
     "output_type": "stream",
     "text": [
      "+ Collecting streamflow data...\n",
      "  - Found 240 matching files.\n"
     ]
    },
    {
     "name": "stderr",
     "output_type": "stream",
     "text": [
      "Downloading medium_range_blend 20240401: 0it [00:00, ?it/s]"
     ]
    },
    {
     "name": "stdout",
     "output_type": "stream",
     "text": [
      "+ Merging files\n"
     ]
    },
    {
     "name": "stderr",
     "output_type": "stream",
     "text": [
      "\n"
     ]
    },
    {
     "ename": "RecursionError",
     "evalue": "maximum recursion depth exceeded while calling a Python object",
     "output_type": "error",
     "traceback": [
      "\u001b[0;31m---------------------------------------------------------------------------\u001b[0m",
      "\u001b[0;31mRecursionError\u001b[0m                            Traceback (most recent call last)",
      "File \u001b[0;32m<timed exec>:11\u001b[0m\n",
      "File \u001b[0;32m~/Desktop/notebooks/nwm/forecast/forecast.py:185\u001b[0m, in \u001b[0;36mget_streamflow_for_reaches\u001b[0;34m(date, init_times, reach_ids, forecast_mode, destination_folder, merge_files, clean_on_success, merge_format)\u001b[0m\n\u001b[1;32m    183\u001b[0m \u001b[38;5;66;03m# Download the streamflow files\u001b[39;00m\n\u001b[1;32m    184\u001b[0m \u001b[38;5;28mprint\u001b[39m(\u001b[38;5;124m'\u001b[39m\u001b[38;5;124m+ Collecting streamflow data...\u001b[39m\u001b[38;5;124m'\u001b[39m)\n\u001b[0;32m--> 185\u001b[0m paths \u001b[38;5;241m=\u001b[39m \u001b[43mdownload_matching_files\u001b[49m\u001b[43m(\u001b[49m\u001b[38;5;124;43m\"\u001b[39;49m\u001b[38;5;124;43mnational-water-model\u001b[39;49m\u001b[38;5;124;43m\"\u001b[39;49m\u001b[43m,\u001b[49m\n\u001b[1;32m    186\u001b[0m \u001b[43m                                \u001b[49m\u001b[43mdate\u001b[49m\u001b[43m,\u001b[49m\n\u001b[1;32m    187\u001b[0m \u001b[43m                                \u001b[49m\u001b[43mforecast_mode\u001b[49m\u001b[43m,\u001b[49m\n\u001b[1;32m    188\u001b[0m \u001b[43m                                \u001b[49m\u001b[43minit_time\u001b[49m\u001b[43m,\u001b[49m\n\u001b[1;32m    189\u001b[0m \u001b[43m                                \u001b[49m\u001b[43mdestination_folder\u001b[49m\u001b[43m,\u001b[49m\n\u001b[1;32m    190\u001b[0m \u001b[43m                                \u001b[49m\u001b[43mmerge_files\u001b[49m\u001b[43m,\u001b[49m\n\u001b[1;32m    191\u001b[0m \u001b[43m                                \u001b[49m\u001b[43mclean_on_success\u001b[49m\u001b[43m,\u001b[49m\n\u001b[1;32m    192\u001b[0m \u001b[43m                                \u001b[49m\u001b[43mmerge_format\u001b[49m\u001b[38;5;241;43m=\u001b[39;49m\u001b[43mmerge_format\u001b[49m\u001b[43m)\u001b[49m\n\u001b[1;32m    194\u001b[0m \u001b[38;5;66;03m# # create list of paths that match .cache/prefix/wildcard\u001b[39;00m\n\u001b[1;32m    195\u001b[0m \u001b[38;5;66;03m# paths = list((Path(\".cache\")/prefix).glob(wildcard))\u001b[39;00m\n\u001b[1;32m    197\u001b[0m \u001b[38;5;28;01mif\u001b[39;00m \u001b[38;5;28mlen\u001b[39m(paths) \u001b[38;5;241m==\u001b[39m \u001b[38;5;241m0\u001b[39m:\n",
      "File \u001b[0;32m~/Desktop/notebooks/nwm/forecast/forecast.py:121\u001b[0m, in \u001b[0;36mdownload_matching_files\u001b[0;34m(bucket_name, date, forecast_mode, init_time, destination_folder, merge_files, clean_on_success, merge_format)\u001b[0m\n\u001b[1;32m    113\u001b[0m \u001b[38;5;28mprint\u001b[39m(\u001b[38;5;124m'\u001b[39m\u001b[38;5;124m+ Merging files\u001b[39m\u001b[38;5;124m'\u001b[39m)\n\u001b[1;32m    115\u001b[0m \u001b[38;5;66;03m## TODO: CDO isn't working properly\u001b[39;00m\n\u001b[1;32m    116\u001b[0m \u001b[38;5;66;03m# from cdo import Cdo\u001b[39;00m\n\u001b[1;32m    117\u001b[0m \u001b[38;5;66;03m# cdo = Cdo()\u001b[39;00m\n\u001b[1;32m    118\u001b[0m \u001b[38;5;66;03m# cdo.cat(input=local_files, output=merged_path)\u001b[39;00m\n\u001b[1;32m    119\u001b[0m \n\u001b[1;32m    120\u001b[0m \u001b[38;5;66;03m# this is inefficient but works fine for now\u001b[39;00m\n\u001b[0;32m--> 121\u001b[0m \u001b[38;5;28;01mimport\u001b[39;00m \u001b[38;5;21;01mpdb\u001b[39;00m; \u001b[43mpdb\u001b[49m\u001b[38;5;241;43m.\u001b[39;49m\u001b[43mset_trace\u001b[49m\u001b[43m(\u001b[49m\u001b[43m)\u001b[49m\n\u001b[1;32m    122\u001b[0m \u001b[38;5;28mprint\u001b[39m(\u001b[38;5;124m'\u001b[39m\u001b[38;5;124m   - Reading NetCDF into Memory...\u001b[39m\u001b[38;5;124m'\u001b[39m, end\u001b[38;5;241m=\u001b[39m\u001b[38;5;124m'\u001b[39m\u001b[38;5;124m'\u001b[39m)\n\u001b[1;32m    123\u001b[0m ds \u001b[38;5;241m=\u001b[39m xr\u001b[38;5;241m.\u001b[39mopen_mfdataset(local_files,\n\u001b[1;32m    124\u001b[0m                        engine\u001b[38;5;241m=\u001b[39mengine,\n\u001b[1;32m    125\u001b[0m                        parallel\u001b[38;5;241m=\u001b[39m\u001b[38;5;28;01mTrue\u001b[39;00m,\n\u001b[1;32m    126\u001b[0m                        preprocess\u001b[38;5;241m=\u001b[39m\u001b[38;5;28;01mlambda\u001b[39;00m ds: ds[[\u001b[38;5;124m'\u001b[39m\u001b[38;5;124mtime\u001b[39m\u001b[38;5;124m'\u001b[39m, \u001b[38;5;124m'\u001b[39m\u001b[38;5;124mstreamflow\u001b[39m\u001b[38;5;124m'\u001b[39m, \u001b[38;5;124m'\u001b[39m\u001b[38;5;124mfeature_id\u001b[39m\u001b[38;5;124m'\u001b[39m]])\n",
      "File \u001b[0;32m/srv/conda/envs/notebook/lib/python3.10/site-packages/IPython/core/debugger.py:1107\u001b[0m, in \u001b[0;36mset_trace\u001b[0;34m(frame)\u001b[0m\n\u001b[1;32m   1101\u001b[0m \u001b[38;5;28;01mdef\u001b[39;00m \u001b[38;5;21mset_trace\u001b[39m(frame\u001b[38;5;241m=\u001b[39m\u001b[38;5;28;01mNone\u001b[39;00m):\n\u001b[1;32m   1102\u001b[0m \u001b[38;5;250m    \u001b[39m\u001b[38;5;124;03m\"\"\"\u001b[39;00m\n\u001b[1;32m   1103\u001b[0m \u001b[38;5;124;03m    Start debugging from `frame`.\u001b[39;00m\n\u001b[1;32m   1104\u001b[0m \n\u001b[1;32m   1105\u001b[0m \u001b[38;5;124;03m    If frame is not specified, debugging starts from caller's frame.\u001b[39;00m\n\u001b[1;32m   1106\u001b[0m \u001b[38;5;124;03m    \"\"\"\u001b[39;00m\n\u001b[0;32m-> 1107\u001b[0m     \u001b[43mPdb\u001b[49m\u001b[43m(\u001b[49m\u001b[43m)\u001b[49m\u001b[38;5;241m.\u001b[39mset_trace(frame \u001b[38;5;129;01mor\u001b[39;00m sys\u001b[38;5;241m.\u001b[39m_getframe()\u001b[38;5;241m.\u001b[39mf_back)\n",
      "File \u001b[0;32m/srv/conda/envs/notebook/lib/python3.10/site-packages/IPython/core/debugger.py:236\u001b[0m, in \u001b[0;36mPdb.__init__\u001b[0;34m(self, completekey, stdin, stdout, context, **kwargs)\u001b[0m\n\u001b[1;32m    233\u001b[0m         \u001b[38;5;28;01mraise\u001b[39;00m \u001b[38;5;167;01mValueError\u001b[39;00m(\u001b[38;5;124m\"\u001b[39m\u001b[38;5;124mContext must be a positive integer\u001b[39m\u001b[38;5;124m\"\u001b[39m) \u001b[38;5;28;01mfrom\u001b[39;00m \u001b[38;5;21;01me\u001b[39;00m\n\u001b[1;32m    235\u001b[0m \u001b[38;5;66;03m# `kwargs` ensures full compatibility with stdlib's `pdb.Pdb`.\u001b[39;00m\n\u001b[0;32m--> 236\u001b[0m \u001b[43mOldPdb\u001b[49m\u001b[38;5;241;43m.\u001b[39;49m\u001b[38;5;21;43m__init__\u001b[39;49m\u001b[43m(\u001b[49m\u001b[38;5;28;43mself\u001b[39;49m\u001b[43m,\u001b[49m\u001b[43m \u001b[49m\u001b[43mcompletekey\u001b[49m\u001b[43m,\u001b[49m\u001b[43m \u001b[49m\u001b[43mstdin\u001b[49m\u001b[43m,\u001b[49m\u001b[43m \u001b[49m\u001b[43mstdout\u001b[49m\u001b[43m,\u001b[49m\u001b[43m \u001b[49m\u001b[38;5;241;43m*\u001b[39;49m\u001b[38;5;241;43m*\u001b[39;49m\u001b[43mkwargs\u001b[49m\u001b[43m)\u001b[49m\n\u001b[1;32m    238\u001b[0m \u001b[38;5;66;03m# IPython changes...\u001b[39;00m\n\u001b[1;32m    239\u001b[0m \u001b[38;5;28mself\u001b[39m\u001b[38;5;241m.\u001b[39mshell \u001b[38;5;241m=\u001b[39m get_ipython()\n",
      "File \u001b[0;32m/srv/conda/envs/notebook/lib/python3.10/site-packages/pdb.py:169\u001b[0m, in \u001b[0;36mPdb.__init__\u001b[0;34m(self, *args, **kwds)\u001b[0m\n\u001b[1;32m    167\u001b[0m kwargs \u001b[38;5;241m=\u001b[39m \u001b[38;5;28mself\u001b[39m\u001b[38;5;241m.\u001b[39mconfig\u001b[38;5;241m.\u001b[39mdefault_pdb_kwargs\u001b[38;5;241m.\u001b[39mcopy()\n\u001b[1;32m    168\u001b[0m kwargs\u001b[38;5;241m.\u001b[39mupdate(\u001b[38;5;241m*\u001b[39m\u001b[38;5;241m*\u001b[39mkwds)\n\u001b[0;32m--> 169\u001b[0m \u001b[38;5;28;43msuper\u001b[39;49m\u001b[43m(\u001b[49m\u001b[43mPdb\u001b[49m\u001b[43m,\u001b[49m\u001b[43m \u001b[49m\u001b[38;5;28;43mself\u001b[39;49m\u001b[43m)\u001b[49m\u001b[38;5;241;43m.\u001b[39;49m\u001b[38;5;21;43m__init__\u001b[39;49m\u001b[43m(\u001b[49m\u001b[38;5;241;43m*\u001b[39;49m\u001b[43margs\u001b[49m\u001b[43m,\u001b[49m\u001b[43m \u001b[49m\u001b[38;5;241;43m*\u001b[39;49m\u001b[38;5;241;43m*\u001b[39;49m\u001b[43mkwargs\u001b[49m\u001b[43m)\u001b[49m\n\u001b[1;32m    170\u001b[0m \u001b[38;5;28mself\u001b[39m\u001b[38;5;241m.\u001b[39mprompt \u001b[38;5;241m=\u001b[39m \u001b[38;5;28mself\u001b[39m\u001b[38;5;241m.\u001b[39mconfig\u001b[38;5;241m.\u001b[39mprompt\n\u001b[1;32m    171\u001b[0m \u001b[38;5;28mself\u001b[39m\u001b[38;5;241m.\u001b[39mdisplay_list \u001b[38;5;241m=\u001b[39m {}  \u001b[38;5;66;03m# frame --> (name --> last seen value)\u001b[39;00m\n",
      "File \u001b[0;32m/srv/conda/envs/notebook/lib/python3.10/site-packages/IPython/core/debugger.py:236\u001b[0m, in \u001b[0;36mPdb.__init__\u001b[0;34m(self, completekey, stdin, stdout, context, **kwargs)\u001b[0m\n\u001b[1;32m    233\u001b[0m         \u001b[38;5;28;01mraise\u001b[39;00m \u001b[38;5;167;01mValueError\u001b[39;00m(\u001b[38;5;124m\"\u001b[39m\u001b[38;5;124mContext must be a positive integer\u001b[39m\u001b[38;5;124m\"\u001b[39m) \u001b[38;5;28;01mfrom\u001b[39;00m \u001b[38;5;21;01me\u001b[39;00m\n\u001b[1;32m    235\u001b[0m \u001b[38;5;66;03m# `kwargs` ensures full compatibility with stdlib's `pdb.Pdb`.\u001b[39;00m\n\u001b[0;32m--> 236\u001b[0m \u001b[43mOldPdb\u001b[49m\u001b[38;5;241;43m.\u001b[39;49m\u001b[38;5;21;43m__init__\u001b[39;49m\u001b[43m(\u001b[49m\u001b[38;5;28;43mself\u001b[39;49m\u001b[43m,\u001b[49m\u001b[43m \u001b[49m\u001b[43mcompletekey\u001b[49m\u001b[43m,\u001b[49m\u001b[43m \u001b[49m\u001b[43mstdin\u001b[49m\u001b[43m,\u001b[49m\u001b[43m \u001b[49m\u001b[43mstdout\u001b[49m\u001b[43m,\u001b[49m\u001b[43m \u001b[49m\u001b[38;5;241;43m*\u001b[39;49m\u001b[38;5;241;43m*\u001b[39;49m\u001b[43mkwargs\u001b[49m\u001b[43m)\u001b[49m\n\u001b[1;32m    238\u001b[0m \u001b[38;5;66;03m# IPython changes...\u001b[39;00m\n\u001b[1;32m    239\u001b[0m \u001b[38;5;28mself\u001b[39m\u001b[38;5;241m.\u001b[39mshell \u001b[38;5;241m=\u001b[39m get_ipython()\n",
      "File \u001b[0;32m/srv/conda/envs/notebook/lib/python3.10/site-packages/pdb.py:169\u001b[0m, in \u001b[0;36mPdb.__init__\u001b[0;34m(self, *args, **kwds)\u001b[0m\n\u001b[1;32m    167\u001b[0m kwargs \u001b[38;5;241m=\u001b[39m \u001b[38;5;28mself\u001b[39m\u001b[38;5;241m.\u001b[39mconfig\u001b[38;5;241m.\u001b[39mdefault_pdb_kwargs\u001b[38;5;241m.\u001b[39mcopy()\n\u001b[1;32m    168\u001b[0m kwargs\u001b[38;5;241m.\u001b[39mupdate(\u001b[38;5;241m*\u001b[39m\u001b[38;5;241m*\u001b[39mkwds)\n\u001b[0;32m--> 169\u001b[0m \u001b[38;5;28;43msuper\u001b[39;49m\u001b[43m(\u001b[49m\u001b[43mPdb\u001b[49m\u001b[43m,\u001b[49m\u001b[43m \u001b[49m\u001b[38;5;28;43mself\u001b[39;49m\u001b[43m)\u001b[49m\u001b[38;5;241;43m.\u001b[39;49m\u001b[38;5;21;43m__init__\u001b[39;49m\u001b[43m(\u001b[49m\u001b[38;5;241;43m*\u001b[39;49m\u001b[43margs\u001b[49m\u001b[43m,\u001b[49m\u001b[43m \u001b[49m\u001b[38;5;241;43m*\u001b[39;49m\u001b[38;5;241;43m*\u001b[39;49m\u001b[43mkwargs\u001b[49m\u001b[43m)\u001b[49m\n\u001b[1;32m    170\u001b[0m \u001b[38;5;28mself\u001b[39m\u001b[38;5;241m.\u001b[39mprompt \u001b[38;5;241m=\u001b[39m \u001b[38;5;28mself\u001b[39m\u001b[38;5;241m.\u001b[39mconfig\u001b[38;5;241m.\u001b[39mprompt\n\u001b[1;32m    171\u001b[0m \u001b[38;5;28mself\u001b[39m\u001b[38;5;241m.\u001b[39mdisplay_list \u001b[38;5;241m=\u001b[39m {}  \u001b[38;5;66;03m# frame --> (name --> last seen value)\u001b[39;00m\n",
      "    \u001b[0;31m[... skipping similar frames: Pdb.__init__ at line 236 (1477 times), Pdb.__init__ at line 169 (1476 times)]\u001b[0m\n",
      "File \u001b[0;32m/srv/conda/envs/notebook/lib/python3.10/site-packages/pdb.py:169\u001b[0m, in \u001b[0;36mPdb.__init__\u001b[0;34m(self, *args, **kwds)\u001b[0m\n\u001b[1;32m    167\u001b[0m kwargs \u001b[38;5;241m=\u001b[39m \u001b[38;5;28mself\u001b[39m\u001b[38;5;241m.\u001b[39mconfig\u001b[38;5;241m.\u001b[39mdefault_pdb_kwargs\u001b[38;5;241m.\u001b[39mcopy()\n\u001b[1;32m    168\u001b[0m kwargs\u001b[38;5;241m.\u001b[39mupdate(\u001b[38;5;241m*\u001b[39m\u001b[38;5;241m*\u001b[39mkwds)\n\u001b[0;32m--> 169\u001b[0m \u001b[38;5;28;43msuper\u001b[39;49m\u001b[43m(\u001b[49m\u001b[43mPdb\u001b[49m\u001b[43m,\u001b[49m\u001b[43m \u001b[49m\u001b[38;5;28;43mself\u001b[39;49m\u001b[43m)\u001b[49m\u001b[38;5;241;43m.\u001b[39;49m\u001b[38;5;21;43m__init__\u001b[39;49m\u001b[43m(\u001b[49m\u001b[38;5;241;43m*\u001b[39;49m\u001b[43margs\u001b[49m\u001b[43m,\u001b[49m\u001b[43m \u001b[49m\u001b[38;5;241;43m*\u001b[39;49m\u001b[38;5;241;43m*\u001b[39;49m\u001b[43mkwargs\u001b[49m\u001b[43m)\u001b[49m\n\u001b[1;32m    170\u001b[0m \u001b[38;5;28mself\u001b[39m\u001b[38;5;241m.\u001b[39mprompt \u001b[38;5;241m=\u001b[39m \u001b[38;5;28mself\u001b[39m\u001b[38;5;241m.\u001b[39mconfig\u001b[38;5;241m.\u001b[39mprompt\n\u001b[1;32m    171\u001b[0m \u001b[38;5;28mself\u001b[39m\u001b[38;5;241m.\u001b[39mdisplay_list \u001b[38;5;241m=\u001b[39m {}  \u001b[38;5;66;03m# frame --> (name --> last seen value)\u001b[39;00m\n",
      "File \u001b[0;32m/srv/conda/envs/notebook/lib/python3.10/site-packages/IPython/core/debugger.py:236\u001b[0m, in \u001b[0;36mPdb.__init__\u001b[0;34m(self, completekey, stdin, stdout, context, **kwargs)\u001b[0m\n\u001b[1;32m    233\u001b[0m         \u001b[38;5;28;01mraise\u001b[39;00m \u001b[38;5;167;01mValueError\u001b[39;00m(\u001b[38;5;124m\"\u001b[39m\u001b[38;5;124mContext must be a positive integer\u001b[39m\u001b[38;5;124m\"\u001b[39m) \u001b[38;5;28;01mfrom\u001b[39;00m \u001b[38;5;21;01me\u001b[39;00m\n\u001b[1;32m    235\u001b[0m \u001b[38;5;66;03m# `kwargs` ensures full compatibility with stdlib's `pdb.Pdb`.\u001b[39;00m\n\u001b[0;32m--> 236\u001b[0m \u001b[43mOldPdb\u001b[49m\u001b[38;5;241;43m.\u001b[39;49m\u001b[38;5;21;43m__init__\u001b[39;49m\u001b[43m(\u001b[49m\u001b[38;5;28;43mself\u001b[39;49m\u001b[43m,\u001b[49m\u001b[43m \u001b[49m\u001b[43mcompletekey\u001b[49m\u001b[43m,\u001b[49m\u001b[43m \u001b[49m\u001b[43mstdin\u001b[49m\u001b[43m,\u001b[49m\u001b[43m \u001b[49m\u001b[43mstdout\u001b[49m\u001b[43m,\u001b[49m\u001b[43m \u001b[49m\u001b[38;5;241;43m*\u001b[39;49m\u001b[38;5;241;43m*\u001b[39;49m\u001b[43mkwargs\u001b[49m\u001b[43m)\u001b[49m\n\u001b[1;32m    238\u001b[0m \u001b[38;5;66;03m# IPython changes...\u001b[39;00m\n\u001b[1;32m    239\u001b[0m \u001b[38;5;28mself\u001b[39m\u001b[38;5;241m.\u001b[39mshell \u001b[38;5;241m=\u001b[39m get_ipython()\n",
      "File \u001b[0;32m/srv/conda/envs/notebook/lib/python3.10/site-packages/pdb.py:163\u001b[0m, in \u001b[0;36mPdb.__init__\u001b[0;34m(self, *args, **kwds)\u001b[0m\n\u001b[1;32m    161\u001b[0m \u001b[38;5;28mself\u001b[39m\u001b[38;5;241m.\u001b[39mstart_lineno \u001b[38;5;241m=\u001b[39m kwds\u001b[38;5;241m.\u001b[39mpop(\u001b[38;5;124m'\u001b[39m\u001b[38;5;124mstart_lineno\u001b[39m\u001b[38;5;124m'\u001b[39m, \u001b[38;5;28;01mNone\u001b[39;00m)\n\u001b[1;32m    162\u001b[0m \u001b[38;5;28mself\u001b[39m\u001b[38;5;241m.\u001b[39mstart_filename \u001b[38;5;241m=\u001b[39m kwds\u001b[38;5;241m.\u001b[39mpop(\u001b[38;5;124m'\u001b[39m\u001b[38;5;124mstart_filename\u001b[39m\u001b[38;5;124m'\u001b[39m, \u001b[38;5;28;01mNone\u001b[39;00m)\n\u001b[0;32m--> 163\u001b[0m \u001b[38;5;28mself\u001b[39m\u001b[38;5;241m.\u001b[39mconfig \u001b[38;5;241m=\u001b[39m \u001b[38;5;28;43mself\u001b[39;49m\u001b[38;5;241;43m.\u001b[39;49m\u001b[43mget_config\u001b[49m\u001b[43m(\u001b[49m\u001b[38;5;28;43mself\u001b[39;49m\u001b[38;5;241;43m.\u001b[39;49m\u001b[43mConfigFactory\u001b[49m\u001b[43m)\u001b[49m\n\u001b[1;32m    164\u001b[0m \u001b[38;5;28mself\u001b[39m\u001b[38;5;241m.\u001b[39mconfig\u001b[38;5;241m.\u001b[39msetup(\u001b[38;5;28mself\u001b[39m)\n\u001b[1;32m    165\u001b[0m \u001b[38;5;28;01mif\u001b[39;00m \u001b[38;5;28mself\u001b[39m\u001b[38;5;241m.\u001b[39mconfig\u001b[38;5;241m.\u001b[39mdisable_pytest_capturing:\n",
      "File \u001b[0;32m/srv/conda/envs/notebook/lib/python3.10/site-packages/fancycompleter.py:197\u001b[0m, in \u001b[0;36mConfigurableClass.get_config\u001b[0;34m(self, Config)\u001b[0m\n\u001b[1;32m    195\u001b[0m \u001b[38;5;66;03m# try to load config from the ~/filename file\u001b[39;00m\n\u001b[1;32m    196\u001b[0m filename \u001b[38;5;241m=\u001b[39m \u001b[38;5;124m'\u001b[39m\u001b[38;5;124m~/\u001b[39m\u001b[38;5;124m'\u001b[39m \u001b[38;5;241m+\u001b[39m \u001b[38;5;28mself\u001b[39m\u001b[38;5;241m.\u001b[39mconfig_filename\n\u001b[0;32m--> 197\u001b[0m rcfile \u001b[38;5;241m=\u001b[39m os\u001b[38;5;241m.\u001b[39mpath\u001b[38;5;241m.\u001b[39mnormpath(\u001b[43mos\u001b[49m\u001b[38;5;241;43m.\u001b[39;49m\u001b[43mpath\u001b[49m\u001b[38;5;241;43m.\u001b[39;49m\u001b[43mexpanduser\u001b[49m\u001b[43m(\u001b[49m\u001b[43mfilename\u001b[49m\u001b[43m)\u001b[49m)\n\u001b[1;32m    198\u001b[0m \u001b[38;5;28;01mif\u001b[39;00m \u001b[38;5;129;01mnot\u001b[39;00m os\u001b[38;5;241m.\u001b[39mpath\u001b[38;5;241m.\u001b[39mexists(rcfile):\n\u001b[1;32m    199\u001b[0m     \u001b[38;5;28;01mreturn\u001b[39;00m \u001b[38;5;28mself\u001b[39m\u001b[38;5;241m.\u001b[39mDefaultConfig()\n",
      "File \u001b[0;32m/srv/conda/envs/notebook/lib/python3.10/posixpath.py:244\u001b[0m, in \u001b[0;36mexpanduser\u001b[0;34m(path)\u001b[0m\n\u001b[1;32m    242\u001b[0m     i \u001b[38;5;241m=\u001b[39m \u001b[38;5;28mlen\u001b[39m(path)\n\u001b[1;32m    243\u001b[0m \u001b[38;5;28;01mif\u001b[39;00m i \u001b[38;5;241m==\u001b[39m \u001b[38;5;241m1\u001b[39m:\n\u001b[0;32m--> 244\u001b[0m     \u001b[38;5;28;01mif\u001b[39;00m \u001b[38;5;124;43m'\u001b[39;49m\u001b[38;5;124;43mHOME\u001b[39;49m\u001b[38;5;124;43m'\u001b[39;49m\u001b[43m \u001b[49m\u001b[38;5;129;43;01mnot\u001b[39;49;00m\u001b[43m \u001b[49m\u001b[38;5;129;43;01min\u001b[39;49;00m\u001b[43m \u001b[49m\u001b[43mos\u001b[49m\u001b[38;5;241;43m.\u001b[39;49m\u001b[43menviron\u001b[49m:\n\u001b[1;32m    245\u001b[0m         \u001b[38;5;28;01mimport\u001b[39;00m \u001b[38;5;21;01mpwd\u001b[39;00m\n\u001b[1;32m    246\u001b[0m         \u001b[38;5;28;01mtry\u001b[39;00m:\n",
      "File \u001b[0;32m/srv/conda/envs/notebook/lib/python3.10/_collections_abc.py:830\u001b[0m, in \u001b[0;36mMapping.__contains__\u001b[0;34m(self, key)\u001b[0m\n\u001b[1;32m    828\u001b[0m \u001b[38;5;28;01mdef\u001b[39;00m \u001b[38;5;21m__contains__\u001b[39m(\u001b[38;5;28mself\u001b[39m, key):\n\u001b[1;32m    829\u001b[0m     \u001b[38;5;28;01mtry\u001b[39;00m:\n\u001b[0;32m--> 830\u001b[0m         \u001b[38;5;28;43mself\u001b[39;49m\u001b[43m[\u001b[49m\u001b[43mkey\u001b[49m\u001b[43m]\u001b[49m\n\u001b[1;32m    831\u001b[0m     \u001b[38;5;28;01mexcept\u001b[39;00m \u001b[38;5;167;01mKeyError\u001b[39;00m:\n\u001b[1;32m    832\u001b[0m         \u001b[38;5;28;01mreturn\u001b[39;00m \u001b[38;5;28;01mFalse\u001b[39;00m\n",
      "File \u001b[0;32m/srv/conda/envs/notebook/lib/python3.10/os.py:677\u001b[0m, in \u001b[0;36m_Environ.__getitem__\u001b[0;34m(self, key)\u001b[0m\n\u001b[1;32m    675\u001b[0m \u001b[38;5;28;01mdef\u001b[39;00m \u001b[38;5;21m__getitem__\u001b[39m(\u001b[38;5;28mself\u001b[39m, key):\n\u001b[1;32m    676\u001b[0m     \u001b[38;5;28;01mtry\u001b[39;00m:\n\u001b[0;32m--> 677\u001b[0m         value \u001b[38;5;241m=\u001b[39m \u001b[38;5;28mself\u001b[39m\u001b[38;5;241m.\u001b[39m_data[\u001b[38;5;28;43mself\u001b[39;49m\u001b[38;5;241;43m.\u001b[39;49m\u001b[43mencodekey\u001b[49m\u001b[43m(\u001b[49m\u001b[43mkey\u001b[49m\u001b[43m)\u001b[49m]\n\u001b[1;32m    678\u001b[0m     \u001b[38;5;28;01mexcept\u001b[39;00m \u001b[38;5;167;01mKeyError\u001b[39;00m:\n\u001b[1;32m    679\u001b[0m         \u001b[38;5;66;03m# raise KeyError with the original key value\u001b[39;00m\n\u001b[1;32m    680\u001b[0m         \u001b[38;5;28;01mraise\u001b[39;00m \u001b[38;5;167;01mKeyError\u001b[39;00m(key) \u001b[38;5;28;01mfrom\u001b[39;00m \u001b[38;5;28;01mNone\u001b[39;00m\n",
      "File \u001b[0;32m/srv/conda/envs/notebook/lib/python3.10/os.py:756\u001b[0m, in \u001b[0;36m_createenviron.<locals>.encode\u001b[0;34m(value)\u001b[0m\n\u001b[1;32m    755\u001b[0m \u001b[38;5;28;01mdef\u001b[39;00m \u001b[38;5;21mencode\u001b[39m(value):\n\u001b[0;32m--> 756\u001b[0m     \u001b[38;5;28;01mif\u001b[39;00m \u001b[38;5;129;01mnot\u001b[39;00m \u001b[38;5;28;43misinstance\u001b[39;49m\u001b[43m(\u001b[49m\u001b[43mvalue\u001b[49m\u001b[43m,\u001b[49m\u001b[43m \u001b[49m\u001b[38;5;28;43mstr\u001b[39;49m\u001b[43m)\u001b[49m:\n\u001b[1;32m    757\u001b[0m         \u001b[38;5;28;01mraise\u001b[39;00m \u001b[38;5;167;01mTypeError\u001b[39;00m(\u001b[38;5;124m\"\u001b[39m\u001b[38;5;124mstr expected, not \u001b[39m\u001b[38;5;132;01m%s\u001b[39;00m\u001b[38;5;124m\"\u001b[39m \u001b[38;5;241m%\u001b[39m \u001b[38;5;28mtype\u001b[39m(value)\u001b[38;5;241m.\u001b[39m\u001b[38;5;18m__name__\u001b[39m)\n\u001b[1;32m    758\u001b[0m     \u001b[38;5;28;01mreturn\u001b[39;00m value\u001b[38;5;241m.\u001b[39mencode(encoding, \u001b[38;5;124m'\u001b[39m\u001b[38;5;124msurrogateescape\u001b[39m\u001b[38;5;124m'\u001b[39m)\n",
      "\u001b[0;31mRecursionError\u001b[0m: maximum recursion depth exceeded while calling a Python object"
     ]
    }
   ],
   "source": [
    "%%time\n",
    "\n",
    "destination_folder = \".cache\"\n",
    "forecast_mode = 'medium_range_blend'\n",
    "init_times = [0] \n",
    "\n",
    "# collect data for the reach above for multiple days\n",
    "start_date = datetime(2024, 4, 1)\n",
    "end_date = datetime(2024, 4, 3)\n",
    "delta = timedelta(days=1)\n",
    "dats = {}\n",
    "while start_date <= end_date:\n",
    "    ds = forecast.get_streamflow_for_reaches(start_date, init_times=init_times, reach_ids=[nhd_feature_id],\n",
    "                                                forecast_mode=forecast_mode,\n",
    "                                                merge_files=True,\n",
    "                                                merge_format='Zarr',\n",
    "                                                clean_on_success=True,\n",
    "                                                )\n",
    "    start_date += delta\n",
    "    dats.update(ds)"
   ]
  },
  {
   "cell_type": "code",
   "execution_count": null,
   "id": "a7cfb84d-2448-4a41-a8da-aeabb4fb13b1",
   "metadata": {},
   "outputs": [],
   "source": [
    "list(dats.keys())"
   ]
  },
  {
   "cell_type": "code",
   "execution_count": null,
   "id": "d0860c38-68d8-40d6-acb2-8522fc3c0212",
   "metadata": {},
   "outputs": [],
   "source": [
    "fig, ax = plt.subplots(1,1)\n",
    "\n",
    "for k, dat in dats.items():\n",
    "    print(f'plotting {k}')\n",
    "    dat.streamflow.plot(ax=ax, label=k);\n",
    "plt.grid()\n",
    "plt.legend()"
   ]
  },
  {
   "cell_type": "code",
   "execution_count": null,
   "id": "3507a2f7-5a84-4812-ad02-973905a7e1a1",
   "metadata": {
    "scrolled": true
   },
   "outputs": [],
   "source": [
    "%%time\n",
    "\n",
    "#bucket_name = \"national-water-model\"\n",
    "#wildcard = \"nwm.t00z*channel_rt*\"\n",
    "\n",
    "destination_folder = \".cache\"\n",
    "forecast_mode = 'short_range'\n",
    "init_times = range(0, 24)\n",
    "# collect data for the reach above for multiple days\n",
    "start_date = datetime(2024, 4, 1)\n",
    "end_date = datetime(2024, 4, 4)\n",
    "delta = timedelta(days=1)\n",
    "dats = {}\n",
    "while start_date <= end_date:\n",
    "    ds = mediumrange.get_streamflow_for_reaches(start_date, init_times=init_times, reach_ids=[nhd_feature_id],\n",
    "                                                forecast_mode=forecast_mode,\n",
    "                                                merge_files=True,\n",
    "                                                merge_format='Zarr',\n",
    "                                                clean_on_success=False,\n",
    "                                                )\n",
    "    start_date += delta\n",
    "    dats.update(ds)"
   ]
  },
  {
   "cell_type": "code",
   "execution_count": null,
   "id": "9e607542-7312-498b-ac4a-113160fb1cc9",
   "metadata": {},
   "outputs": [],
   "source": [
    "list(dats.keys())"
   ]
  },
  {
   "cell_type": "code",
   "execution_count": null,
   "id": "a3b6d679-3e7d-4f1a-bf29-008d1ecbbf79",
   "metadata": {},
   "outputs": [],
   "source": []
  },
  {
   "cell_type": "code",
   "execution_count": null,
   "id": "e2915278-f81d-4466-990f-053fcd93a0f6",
   "metadata": {},
   "outputs": [],
   "source": [
    "\n"
   ]
  },
  {
   "cell_type": "code",
   "execution_count": null,
   "id": "af57c66f-c808-481c-90f0-6654d8f3489a",
   "metadata": {},
   "outputs": [],
   "source": [
    "from matplotlib import colormaps, cm\n",
    "import numpy as np\n",
    "\n",
    "grey_cm = colormaps['Blues']\n",
    "colors = grey_cm(np.linspace(0, 1, 24))\n",
    "\n",
    "fig, ax = plt.subplots(1,1)\n",
    "\n",
    "i = 0\n",
    "for key, dat in dats.items():\n",
    "    \n",
    "    dat.streamflow.plot(ax=ax, color=colors[i]);\n",
    "\n",
    "    i += 1\n",
    "    if i > 23:\n",
    "        break\n",
    "plt.grid()"
   ]
  }
 ],
 "metadata": {
  "kernelspec": {
   "display_name": "Python 3 (ipykernel)",
   "language": "python",
   "name": "python3"
  },
  "language_info": {
   "codemirror_mode": {
    "name": "ipython",
    "version": 3
   },
   "file_extension": ".py",
   "mimetype": "text/x-python",
   "name": "python",
   "nbconvert_exporter": "python",
   "pygments_lexer": "ipython3",
   "version": "3.10.12"
  }
 },
 "nbformat": 4,
 "nbformat_minor": 5
}
