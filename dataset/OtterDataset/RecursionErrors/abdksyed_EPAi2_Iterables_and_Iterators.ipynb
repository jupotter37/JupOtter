{
  "cells": [
    {
      "cell_type": "markdown",
      "source": "### Iterating Collections",
      "metadata": {
        "cell_id": "00000-77c4a333-4ac7-4118-9ec8-e700fa1f6211",
        "deepnote_cell_type": "markdown"
      }
    },
    {
      "cell_type": "code",
      "metadata": {
        "is_code_hidden": false,
        "cell_id": "00005-80a41176-c412-4292-9cf6-f33a534de662",
        "deepnote_to_be_reexecuted": false,
        "source_hash": "4b933152",
        "execution_millis": 28,
        "output_cleared": false,
        "execution_start": 1616214687451,
        "deepnote_cell_type": "code"
      },
      "source": "s = {'x', 'y', 'b', 'c', 'a'}\nfor item in s:\n    print(item)",
      "execution_count": 17,
      "outputs": [
        {
          "name": "stdout",
          "text": "x\nc\ny\nb\na\n",
          "output_type": "stream"
        }
      ]
    },
    {
      "cell_type": "code",
      "metadata": {
        "cell_id": "00008-1d0ca24e-6d07-466a-af57-0afe6391019b",
        "deepnote_to_be_reexecuted": false,
        "source_hash": "2714c711",
        "execution_millis": 22,
        "output_cleared": false,
        "is_code_hidden": false,
        "execution_start": 1616214687480,
        "deepnote_cell_type": "code"
      },
      "source": "s[0]",
      "execution_count": 18,
      "outputs": [
        {
          "output_type": "error",
          "ename": "TypeError",
          "evalue": "'set' object is not subscriptable",
          "traceback": [
            "\u001b[0;31m---------------------------------------------------------------------------\u001b[0m",
            "\u001b[0;31mTypeError\u001b[0m                                 Traceback (most recent call last)",
            "\u001b[0;32m/shared-libs/code/sql_utils.py\u001b[0m in \u001b[0;36m<module>\u001b[0;34m\u001b[0m\n\u001b[0;32m----> 1\u001b[0;31m \u001b[0ms\u001b[0m\u001b[0;34m[\u001b[0m\u001b[0;36m0\u001b[0m\u001b[0;34m]\u001b[0m\u001b[0;34m\u001b[0m\u001b[0;34m\u001b[0m\u001b[0m\n\u001b[0m",
            "\u001b[0;31mTypeError\u001b[0m: 'set' object is not subscriptable"
          ]
        }
      ]
    },
    {
      "cell_type": "markdown",
      "source": "### Rolling our own Next method",
      "metadata": {
        "cell_id": "00009-ad3cffcf-89a4-4df5-9adc-8a6ab471f083",
        "deepnote_cell_type": "markdown"
      }
    },
    {
      "cell_type": "code",
      "metadata": {
        "collapsed": true,
        "cell_id": "00011-751501b9-3789-4244-9090-cb8facdf826d",
        "deepnote_to_be_reexecuted": true,
        "source_hash": "17ae9c5d",
        "is_code_hidden": false,
        "execution_millis": 0,
        "deepnote_cell_type": "code"
      },
      "source": "class Squares:\n    def __init__(self):\n        self.i = 0\n    \n    def next_(self):\n        result = self.i ** 2\n        self.i += 1\n        return result",
      "outputs": [],
      "execution_count": null
    },
    {
      "cell_type": "code",
      "metadata": {
        "collapsed": true,
        "cell_id": "00012-856326f0-0bd0-477f-832a-0d9ab6ff0564",
        "deepnote_to_be_reexecuted": true,
        "source_hash": "b9e374f6",
        "is_code_hidden": false,
        "execution_millis": 6,
        "deepnote_cell_type": "code"
      },
      "source": "sq = Squares()",
      "outputs": [],
      "execution_count": null
    },
    {
      "cell_type": "code",
      "metadata": {
        "cell_id": "00013-9307b3e1-3516-45fd-aaa1-9185466788e0",
        "deepnote_to_be_reexecuted": true,
        "source_hash": "23e1c045",
        "is_code_hidden": false,
        "execution_millis": 63,
        "deepnote_cell_type": "code"
      },
      "source": "sq.next_()",
      "outputs": [
        {
          "output_type": "execute_result",
          "execution_count": 10,
          "data": {
            "text/plain": "0"
          },
          "metadata": {}
        }
      ],
      "execution_count": null
    },
    {
      "cell_type": "code",
      "metadata": {
        "cell_id": "00014-3b76ec56-2d19-4b6e-b9d6-327e686a9f8d",
        "deepnote_to_be_reexecuted": true,
        "source_hash": "23e1c045",
        "is_code_hidden": false,
        "execution_millis": 0,
        "deepnote_cell_type": "code"
      },
      "source": "sq.next_()",
      "outputs": [
        {
          "output_type": "execute_result",
          "execution_count": 11,
          "data": {
            "text/plain": "1"
          },
          "metadata": {}
        }
      ],
      "execution_count": null
    },
    {
      "cell_type": "code",
      "metadata": {
        "cell_id": "00015-7bce7af8-9a6e-4f4b-8b55-17e6efcf0b47",
        "deepnote_to_be_reexecuted": true,
        "source_hash": "23e1c045",
        "is_code_hidden": false,
        "execution_millis": 1,
        "deepnote_cell_type": "code"
      },
      "source": "sq.next_()",
      "outputs": [
        {
          "output_type": "execute_result",
          "execution_count": 12,
          "data": {
            "text/plain": "4"
          },
          "metadata": {}
        }
      ],
      "execution_count": null
    },
    {
      "cell_type": "code",
      "metadata": {
        "collapsed": true,
        "cell_id": "00017-8c979b0c-1275-498f-8ccf-dd902d90b401",
        "deepnote_to_be_reexecuted": true,
        "source_hash": "b9e374f6",
        "is_code_hidden": false,
        "execution_millis": 0,
        "deepnote_cell_type": "code"
      },
      "source": "sq = Squares()",
      "outputs": [],
      "execution_count": null
    },
    {
      "cell_type": "code",
      "metadata": {
        "cell_id": "00018-c7ab85a8-3a3d-42fc-9a15-c426395e51e0",
        "deepnote_to_be_reexecuted": true,
        "source_hash": "1a0527b",
        "output_cleared": false,
        "is_code_hidden": false,
        "execution_millis": 23,
        "deepnote_cell_type": "code"
      },
      "source": "for i in range(10):\n    print(sq.next_())",
      "outputs": [
        {
          "name": "stdout",
          "text": "0\n1\n4\n9\n16\n25\n36\n49\n64\n81\n",
          "output_type": "stream"
        }
      ],
      "execution_count": null
    },
    {
      "cell_type": "code",
      "metadata": {
        "collapsed": true,
        "cell_id": "00020-51d1525a-119c-4d44-b2a2-49f00e913d93",
        "deepnote_to_be_reexecuted": true,
        "source_hash": "dd44b69c",
        "is_code_hidden": false,
        "execution_millis": 4,
        "deepnote_cell_type": "code"
      },
      "source": "class Squares:\n    def __init__(self, length):\n        self.length = length\n        self.i = 0\n    \n    def next_(self):\n        if self.i >= self.length:\n            raise StopIteration\n        else:\n            result = self.i ** 2\n            self.i += 1\n            return result           \n        \n    def __len__(self):\n        return self.length",
      "outputs": [],
      "execution_count": null
    },
    {
      "cell_type": "code",
      "metadata": {
        "collapsed": true,
        "cell_id": "00021-cfecfc4d-0514-4610-802a-531bd21e2b36",
        "deepnote_to_be_reexecuted": true,
        "source_hash": "a1ff77a1",
        "is_code_hidden": false,
        "execution_millis": 7,
        "deepnote_cell_type": "code"
      },
      "source": "sq = Squares(3)",
      "outputs": [],
      "execution_count": null
    },
    {
      "cell_type": "code",
      "metadata": {
        "cell_id": "00022-0e75d783-da86-43dc-8cba-f35c6086686e",
        "deepnote_to_be_reexecuted": true,
        "source_hash": "8845f192",
        "output_cleared": false,
        "is_code_hidden": false,
        "execution_millis": 25,
        "deepnote_cell_type": "code"
      },
      "source": "len(sq)",
      "outputs": [
        {
          "output_type": "execute_result",
          "execution_count": 19,
          "data": {
            "text/plain": "3"
          },
          "metadata": {}
        }
      ],
      "execution_count": null
    },
    {
      "cell_type": "code",
      "metadata": {
        "cell_id": "00023-ae11c156-d331-4c5b-99ff-54c4260965dc",
        "deepnote_to_be_reexecuted": true,
        "source_hash": "23e1c045",
        "output_cleared": false,
        "is_code_hidden": false,
        "execution_millis": 24,
        "deepnote_cell_type": "code"
      },
      "source": "sq.next_()",
      "outputs": [
        {
          "output_type": "execute_result",
          "execution_count": 20,
          "data": {
            "text/plain": "0"
          },
          "metadata": {}
        }
      ],
      "execution_count": null
    },
    {
      "cell_type": "code",
      "metadata": {
        "cell_id": "00024-83a02594-dd7d-49f4-9692-1a92fed57ccf",
        "deepnote_to_be_reexecuted": true,
        "source_hash": "23e1c045",
        "output_cleared": false,
        "is_code_hidden": false,
        "execution_millis": 4,
        "deepnote_cell_type": "code"
      },
      "source": "sq.next_()",
      "outputs": [
        {
          "output_type": "execute_result",
          "execution_count": 21,
          "data": {
            "text/plain": "1"
          },
          "metadata": {}
        }
      ],
      "execution_count": null
    },
    {
      "cell_type": "code",
      "metadata": {
        "cell_id": "00025-b1a308b9-05bb-442d-8c83-135678b0b9dd",
        "deepnote_to_be_reexecuted": true,
        "source_hash": "23e1c045",
        "output_cleared": false,
        "is_code_hidden": false,
        "execution_millis": 13,
        "deepnote_cell_type": "code"
      },
      "source": "sq.next_()",
      "outputs": [
        {
          "output_type": "execute_result",
          "execution_count": 22,
          "data": {
            "text/plain": "4"
          },
          "metadata": {}
        }
      ],
      "execution_count": null
    },
    {
      "cell_type": "code",
      "metadata": {
        "cell_id": "00026-fa905555-8645-4f68-8249-0a32686c66c6",
        "deepnote_to_be_reexecuted": true,
        "source_hash": "23e1c045",
        "output_cleared": false,
        "is_code_hidden": false,
        "execution_millis": 43,
        "deepnote_cell_type": "code"
      },
      "source": "sq.next_()",
      "outputs": [
        {
          "output_type": "error",
          "ename": "StopIteration",
          "evalue": "",
          "traceback": [
            "\u001b[0;31m---------------------------------------------------------------------------\u001b[0m",
            "\u001b[0;31mStopIteration\u001b[0m                             Traceback (most recent call last)",
            "\u001b[0;32m<ipython-input-23-5765082cb41c>\u001b[0m in \u001b[0;36m<module>\u001b[0;34m\u001b[0m\n\u001b[0;32m----> 1\u001b[0;31m \u001b[0msq\u001b[0m\u001b[0;34m.\u001b[0m\u001b[0mnext_\u001b[0m\u001b[0;34m(\u001b[0m\u001b[0;34m)\u001b[0m\u001b[0;34m\u001b[0m\u001b[0;34m\u001b[0m\u001b[0m\n\u001b[0m",
            "\u001b[0;32m<ipython-input-17-a37ca96ef579>\u001b[0m in \u001b[0;36mnext_\u001b[0;34m(self)\u001b[0m\n\u001b[1;32m      6\u001b[0m     \u001b[0;32mdef\u001b[0m \u001b[0mnext_\u001b[0m\u001b[0;34m(\u001b[0m\u001b[0mself\u001b[0m\u001b[0;34m)\u001b[0m\u001b[0;34m:\u001b[0m\u001b[0;34m\u001b[0m\u001b[0;34m\u001b[0m\u001b[0m\n\u001b[1;32m      7\u001b[0m         \u001b[0;32mif\u001b[0m \u001b[0mself\u001b[0m\u001b[0;34m.\u001b[0m\u001b[0mi\u001b[0m \u001b[0;34m>=\u001b[0m \u001b[0mself\u001b[0m\u001b[0;34m.\u001b[0m\u001b[0mlength\u001b[0m\u001b[0;34m:\u001b[0m\u001b[0;34m\u001b[0m\u001b[0;34m\u001b[0m\u001b[0m\n\u001b[0;32m----> 8\u001b[0;31m             \u001b[0;32mraise\u001b[0m \u001b[0mStopIteration\u001b[0m\u001b[0;34m\u001b[0m\u001b[0;34m\u001b[0m\u001b[0m\n\u001b[0m\u001b[1;32m      9\u001b[0m         \u001b[0;32melse\u001b[0m\u001b[0;34m:\u001b[0m\u001b[0;34m\u001b[0m\u001b[0;34m\u001b[0m\u001b[0m\n\u001b[1;32m     10\u001b[0m             \u001b[0mresult\u001b[0m \u001b[0;34m=\u001b[0m \u001b[0mself\u001b[0m\u001b[0;34m.\u001b[0m\u001b[0mi\u001b[0m \u001b[0;34m**\u001b[0m \u001b[0;36m2\u001b[0m\u001b[0;34m\u001b[0m\u001b[0;34m\u001b[0m\u001b[0m\n",
            "\u001b[0;31mStopIteration\u001b[0m: "
          ]
        }
      ],
      "execution_count": null
    },
    {
      "cell_type": "code",
      "metadata": {
        "cell_id": "00028-37b6c240-e392-44be-90db-e448fddeb091",
        "deepnote_to_be_reexecuted": true,
        "source_hash": "4555f56d",
        "output_cleared": false,
        "is_code_hidden": false,
        "execution_millis": 0,
        "deepnote_cell_type": "code"
      },
      "source": "sq = Squares(5)\nwhile True:\n    try:\n        print(sq.next_())\n    except StopIteration:\n        # reached end of iteration\n        # stop looping\n        break       ",
      "outputs": [
        {
          "name": "stdout",
          "text": "0\n1\n4\n9\n16\n",
          "output_type": "stream"
        }
      ],
      "execution_count": null
    },
    {
      "cell_type": "code",
      "metadata": {
        "cell_id": "00030-2a8bb75a-b28f-43c0-86a9-33e5ec0810c3",
        "deepnote_to_be_reexecuted": true,
        "source_hash": "23e1c045",
        "output_cleared": false,
        "is_code_hidden": false,
        "execution_millis": 12,
        "deepnote_cell_type": "code"
      },
      "source": "sq.next_()",
      "outputs": [
        {
          "output_type": "error",
          "ename": "StopIteration",
          "evalue": "",
          "traceback": [
            "\u001b[0;31m---------------------------------------------------------------------------\u001b[0m",
            "\u001b[0;31mStopIteration\u001b[0m                             Traceback (most recent call last)",
            "\u001b[0;32m<ipython-input-25-5765082cb41c>\u001b[0m in \u001b[0;36m<module>\u001b[0;34m\u001b[0m\n\u001b[0;32m----> 1\u001b[0;31m \u001b[0msq\u001b[0m\u001b[0;34m.\u001b[0m\u001b[0mnext_\u001b[0m\u001b[0;34m(\u001b[0m\u001b[0;34m)\u001b[0m\u001b[0;34m\u001b[0m\u001b[0;34m\u001b[0m\u001b[0m\n\u001b[0m",
            "\u001b[0;32m<ipython-input-17-a37ca96ef579>\u001b[0m in \u001b[0;36mnext_\u001b[0;34m(self)\u001b[0m\n\u001b[1;32m      6\u001b[0m     \u001b[0;32mdef\u001b[0m \u001b[0mnext_\u001b[0m\u001b[0;34m(\u001b[0m\u001b[0mself\u001b[0m\u001b[0;34m)\u001b[0m\u001b[0;34m:\u001b[0m\u001b[0;34m\u001b[0m\u001b[0;34m\u001b[0m\u001b[0m\n\u001b[1;32m      7\u001b[0m         \u001b[0;32mif\u001b[0m \u001b[0mself\u001b[0m\u001b[0;34m.\u001b[0m\u001b[0mi\u001b[0m \u001b[0;34m>=\u001b[0m \u001b[0mself\u001b[0m\u001b[0;34m.\u001b[0m\u001b[0mlength\u001b[0m\u001b[0;34m:\u001b[0m\u001b[0;34m\u001b[0m\u001b[0;34m\u001b[0m\u001b[0m\n\u001b[0;32m----> 8\u001b[0;31m             \u001b[0;32mraise\u001b[0m \u001b[0mStopIteration\u001b[0m\u001b[0;34m\u001b[0m\u001b[0;34m\u001b[0m\u001b[0m\n\u001b[0m\u001b[1;32m      9\u001b[0m         \u001b[0;32melse\u001b[0m\u001b[0;34m:\u001b[0m\u001b[0;34m\u001b[0m\u001b[0;34m\u001b[0m\u001b[0m\n\u001b[1;32m     10\u001b[0m             \u001b[0mresult\u001b[0m \u001b[0;34m=\u001b[0m \u001b[0mself\u001b[0m\u001b[0;34m.\u001b[0m\u001b[0mi\u001b[0m \u001b[0;34m**\u001b[0m \u001b[0;36m2\u001b[0m\u001b[0;34m\u001b[0m\u001b[0;34m\u001b[0m\u001b[0m\n",
            "\u001b[0;31mStopIteration\u001b[0m: "
          ]
        }
      ],
      "execution_count": null
    },
    {
      "cell_type": "code",
      "metadata": {
        "cell_id": "00032-343ed064-7def-4547-8bb1-f1a7c60d9ac6",
        "deepnote_to_be_reexecuted": true,
        "source_hash": "a6e4e67b",
        "output_cleared": false,
        "is_code_hidden": false,
        "execution_millis": 27,
        "deepnote_cell_type": "code"
      },
      "source": "for i in Squares(10):\n    print(i)",
      "outputs": [
        {
          "output_type": "error",
          "ename": "TypeError",
          "evalue": "'Squares' object is not iterable",
          "traceback": [
            "\u001b[0;31m---------------------------------------------------------------------------\u001b[0m",
            "\u001b[0;31mTypeError\u001b[0m                                 Traceback (most recent call last)",
            "\u001b[0;32m<ipython-input-26-f21ac37aee11>\u001b[0m in \u001b[0;36m<module>\u001b[0;34m\u001b[0m\n\u001b[0;32m----> 1\u001b[0;31m \u001b[0;32mfor\u001b[0m \u001b[0mi\u001b[0m \u001b[0;32min\u001b[0m \u001b[0mSquares\u001b[0m\u001b[0;34m(\u001b[0m\u001b[0;36m10\u001b[0m\u001b[0;34m)\u001b[0m\u001b[0;34m:\u001b[0m\u001b[0;34m\u001b[0m\u001b[0;34m\u001b[0m\u001b[0m\n\u001b[0m\u001b[1;32m      2\u001b[0m     \u001b[0mprint\u001b[0m\u001b[0;34m(\u001b[0m\u001b[0mi\u001b[0m\u001b[0;34m)\u001b[0m\u001b[0;34m\u001b[0m\u001b[0;34m\u001b[0m\u001b[0m\n",
            "\u001b[0;31mTypeError\u001b[0m: 'Squares' object is not iterable"
          ]
        }
      ],
      "execution_count": null
    },
    {
      "cell_type": "code",
      "metadata": {
        "collapsed": true,
        "cell_id": "00035-37713330-8d03-4b71-a4fa-1b6a309c22a3",
        "deepnote_to_be_reexecuted": true,
        "source_hash": "16c18a8d",
        "is_code_hidden": false,
        "execution_millis": 0,
        "deepnote_cell_type": "code"
      },
      "source": "class Squares:\n    def __init__(self, length):\n        self.length = length\n        self.i = 0\n    \n    def __next__(self):\n        if self.i >= self.length:\n            raise StopIteration\n        else:\n            result = self.i ** 2\n            self.i += 1\n            return result   \n    \n    def __len__(self):\n        return self.length",
      "outputs": [],
      "execution_count": null
    },
    {
      "cell_type": "code",
      "metadata": {
        "collapsed": true,
        "cell_id": "00036-49f31a53-0a56-44fe-9f89-0fdd5532ca9e",
        "deepnote_to_be_reexecuted": true,
        "source_hash": "a1ff77a1",
        "is_code_hidden": false,
        "execution_millis": 0,
        "deepnote_cell_type": "code"
      },
      "source": "sq = Squares(3)",
      "outputs": [],
      "execution_count": null
    },
    {
      "cell_type": "code",
      "metadata": {
        "cell_id": "00037-3c5c96db-33b0-448b-8326-bfd6681d4ed2",
        "deepnote_to_be_reexecuted": true,
        "source_hash": "f27abf31",
        "output_cleared": false,
        "is_code_hidden": false,
        "execution_millis": 29,
        "deepnote_cell_type": "code"
      },
      "source": "next(sq)",
      "outputs": [
        {
          "output_type": "execute_result",
          "execution_count": 29,
          "data": {
            "text/plain": "0"
          },
          "metadata": {}
        }
      ],
      "execution_count": null
    },
    {
      "cell_type": "code",
      "metadata": {
        "cell_id": "00038-eb9f3fa4-4e76-43fa-8222-97ad506c781a",
        "deepnote_to_be_reexecuted": true,
        "source_hash": "f27abf31",
        "output_cleared": false,
        "is_code_hidden": false,
        "execution_millis": 0,
        "deepnote_cell_type": "code"
      },
      "source": "next(sq)",
      "outputs": [
        {
          "output_type": "execute_result",
          "execution_count": 30,
          "data": {
            "text/plain": "1"
          },
          "metadata": {}
        }
      ],
      "execution_count": null
    },
    {
      "cell_type": "code",
      "metadata": {
        "cell_id": "00039-1fccf74d-840b-4a06-9d39-cac3aadbe407",
        "deepnote_to_be_reexecuted": true,
        "source_hash": "f27abf31",
        "output_cleared": false,
        "is_code_hidden": false,
        "execution_millis": 0,
        "deepnote_cell_type": "code"
      },
      "source": "next(sq)",
      "outputs": [
        {
          "output_type": "execute_result",
          "execution_count": 31,
          "data": {
            "text/plain": "4"
          },
          "metadata": {}
        }
      ],
      "execution_count": null
    },
    {
      "cell_type": "code",
      "metadata": {
        "cell_id": "00040-77e22caa-4e53-4024-ab7c-30c8757ae59d",
        "deepnote_to_be_reexecuted": true,
        "source_hash": "f27abf31",
        "output_cleared": false,
        "is_code_hidden": false,
        "execution_millis": 52,
        "deepnote_cell_type": "code"
      },
      "source": "next(sq)",
      "outputs": [
        {
          "output_type": "error",
          "ename": "StopIteration",
          "evalue": "",
          "traceback": [
            "\u001b[0;31m---------------------------------------------------------------------------\u001b[0m",
            "\u001b[0;31mStopIteration\u001b[0m                             Traceback (most recent call last)",
            "\u001b[0;32m<ipython-input-32-498d28888231>\u001b[0m in \u001b[0;36m<module>\u001b[0;34m\u001b[0m\n\u001b[0;32m----> 1\u001b[0;31m \u001b[0mnext\u001b[0m\u001b[0;34m(\u001b[0m\u001b[0msq\u001b[0m\u001b[0;34m)\u001b[0m\u001b[0;34m\u001b[0m\u001b[0;34m\u001b[0m\u001b[0m\n\u001b[0m",
            "\u001b[0;32m<ipython-input-27-1dc3dac520f7>\u001b[0m in \u001b[0;36m__next__\u001b[0;34m(self)\u001b[0m\n\u001b[1;32m      6\u001b[0m     \u001b[0;32mdef\u001b[0m \u001b[0m__next__\u001b[0m\u001b[0;34m(\u001b[0m\u001b[0mself\u001b[0m\u001b[0;34m)\u001b[0m\u001b[0;34m:\u001b[0m\u001b[0;34m\u001b[0m\u001b[0;34m\u001b[0m\u001b[0m\n\u001b[1;32m      7\u001b[0m         \u001b[0;32mif\u001b[0m \u001b[0mself\u001b[0m\u001b[0;34m.\u001b[0m\u001b[0mi\u001b[0m \u001b[0;34m>=\u001b[0m \u001b[0mself\u001b[0m\u001b[0;34m.\u001b[0m\u001b[0mlength\u001b[0m\u001b[0;34m:\u001b[0m\u001b[0;34m\u001b[0m\u001b[0;34m\u001b[0m\u001b[0m\n\u001b[0;32m----> 8\u001b[0;31m             \u001b[0;32mraise\u001b[0m \u001b[0mStopIteration\u001b[0m\u001b[0;34m\u001b[0m\u001b[0;34m\u001b[0m\u001b[0m\n\u001b[0m\u001b[1;32m      9\u001b[0m         \u001b[0;32melse\u001b[0m\u001b[0;34m:\u001b[0m\u001b[0;34m\u001b[0m\u001b[0;34m\u001b[0m\u001b[0m\n\u001b[1;32m     10\u001b[0m             \u001b[0mresult\u001b[0m \u001b[0;34m=\u001b[0m \u001b[0mself\u001b[0m\u001b[0;34m.\u001b[0m\u001b[0mi\u001b[0m \u001b[0;34m**\u001b[0m \u001b[0;36m2\u001b[0m\u001b[0;34m\u001b[0m\u001b[0;34m\u001b[0m\u001b[0m\n",
            "\u001b[0;31mStopIteration\u001b[0m: "
          ]
        }
      ],
      "execution_count": null
    },
    {
      "cell_type": "code",
      "metadata": {
        "cell_id": "00042-863d142c-60ef-4af7-86e3-e4128619489c",
        "deepnote_to_be_reexecuted": true,
        "source_hash": "b800aff6",
        "output_cleared": false,
        "is_code_hidden": false,
        "execution_millis": 1,
        "deepnote_cell_type": "code"
      },
      "source": "sq = Squares(5)\nwhile True:\n    try:\n        print(next(sq))\n    except StopIteration:\n        break  ",
      "outputs": [
        {
          "name": "stdout",
          "text": "0\n1\n4\n9\n16\n",
          "output_type": "stream"
        }
      ],
      "execution_count": null
    },
    {
      "cell_type": "code",
      "metadata": {
        "cell_id": "00044-3d3abfb4-46a3-4a02-b593-72050ebb5360",
        "deepnote_to_be_reexecuted": true,
        "source_hash": "a6e4e67b",
        "output_cleared": false,
        "is_code_hidden": false,
        "execution_millis": 37,
        "deepnote_cell_type": "code"
      },
      "source": "for i in Squares(10):\n    print(i)",
      "outputs": [
        {
          "output_type": "error",
          "ename": "TypeError",
          "evalue": "'Squares' object is not iterable",
          "traceback": [
            "\u001b[0;31m---------------------------------------------------------------------------\u001b[0m",
            "\u001b[0;31mTypeError\u001b[0m                                 Traceback (most recent call last)",
            "\u001b[0;32m<ipython-input-34-f21ac37aee11>\u001b[0m in \u001b[0;36m<module>\u001b[0;34m\u001b[0m\n\u001b[0;32m----> 1\u001b[0;31m \u001b[0;32mfor\u001b[0m \u001b[0mi\u001b[0m \u001b[0;32min\u001b[0m \u001b[0mSquares\u001b[0m\u001b[0;34m(\u001b[0m\u001b[0;36m10\u001b[0m\u001b[0;34m)\u001b[0m\u001b[0;34m:\u001b[0m\u001b[0;34m\u001b[0m\u001b[0;34m\u001b[0m\u001b[0m\n\u001b[0m\u001b[1;32m      2\u001b[0m     \u001b[0mprint\u001b[0m\u001b[0;34m(\u001b[0m\u001b[0mi\u001b[0m\u001b[0;34m)\u001b[0m\u001b[0;34m\u001b[0m\u001b[0;34m\u001b[0m\u001b[0m\n",
            "\u001b[0;31mTypeError\u001b[0m: 'Squares' object is not iterable"
          ]
        }
      ],
      "execution_count": null
    },
    {
      "cell_type": "code",
      "metadata": {
        "collapsed": true,
        "cell_id": "00047-59452869-3036-46f0-a8ce-b79d347b4193",
        "deepnote_to_be_reexecuted": true,
        "source_hash": "89047012",
        "is_code_hidden": false,
        "execution_millis": 0,
        "deepnote_cell_type": "code"
      },
      "source": "import random",
      "outputs": [],
      "execution_count": null
    },
    {
      "cell_type": "code",
      "metadata": {
        "collapsed": true,
        "cell_id": "00048-33e06468-689a-4613-8c7e-e30552930f9b",
        "deepnote_to_be_reexecuted": true,
        "source_hash": "e8240856",
        "is_code_hidden": false,
        "execution_millis": 1,
        "deepnote_cell_type": "code"
      },
      "source": "class RandomNumbers:\n    def __init__(self, length, *, range_min=0, range_max=10):\n        self.length = length\n        self.range_min = range_min\n        self.range_max = range_max\n        self.num_requested = 0\n        \n    def __len__(self):\n        return self.length\n    \n    def __next__(self):\n        if self.num_requested >= self.length:\n            raise StopIteration\n        else:\n            self.num_requested += 1\n            return random.randint(self.range_min, self.range_max)",
      "outputs": [],
      "execution_count": null
    },
    {
      "cell_type": "code",
      "metadata": {
        "collapsed": true,
        "cell_id": "00050-ff62281e-c322-4a93-a407-36511974b395",
        "deepnote_to_be_reexecuted": true,
        "source_hash": "f46841c6",
        "is_code_hidden": false,
        "execution_millis": 7,
        "deepnote_cell_type": "code"
      },
      "source": "numbers = RandomNumbers(10)",
      "outputs": [],
      "execution_count": null
    },
    {
      "cell_type": "code",
      "metadata": {
        "cell_id": "00051-bb2d88f3-ce2d-4a49-b411-05d74a06b7a1",
        "deepnote_to_be_reexecuted": true,
        "source_hash": "b002ad98",
        "output_cleared": false,
        "is_code_hidden": false,
        "execution_millis": 15,
        "deepnote_cell_type": "code"
      },
      "source": "len(numbers)",
      "outputs": [
        {
          "output_type": "execute_result",
          "execution_count": 38,
          "data": {
            "text/plain": "10"
          },
          "metadata": {}
        }
      ],
      "execution_count": null
    },
    {
      "cell_type": "code",
      "metadata": {
        "cell_id": "00052-d53ae753-482c-45a4-845f-e30ecedc790a",
        "deepnote_to_be_reexecuted": true,
        "source_hash": "25db4477",
        "output_cleared": false,
        "is_code_hidden": false,
        "execution_millis": 14,
        "deepnote_cell_type": "code"
      },
      "source": "while True:\n    try:\n        print(next(numbers))\n    except StopIteration:\n        break",
      "outputs": [
        {
          "name": "stdout",
          "text": "3\n1\n8\n4\n10\n10\n5\n6\n2\n10\n",
          "output_type": "stream"
        }
      ],
      "execution_count": null
    },
    {
      "cell_type": "code",
      "metadata": {
        "collapsed": true,
        "cell_id": "00054-a2657458-21a5-4843-b9b6-907c3b61e0f4",
        "deepnote_to_be_reexecuted": true,
        "source_hash": "f46841c6",
        "is_code_hidden": false,
        "execution_millis": 1,
        "deepnote_cell_type": "code"
      },
      "source": "numbers = RandomNumbers(10)",
      "outputs": [],
      "execution_count": null
    },
    {
      "cell_type": "code",
      "metadata": {
        "cell_id": "00055-9b487f42-21bd-490c-9585-8ae5caa62caf",
        "deepnote_to_be_reexecuted": true,
        "source_hash": "1c6346d3",
        "output_cleared": false,
        "is_code_hidden": false,
        "execution_millis": 70,
        "deepnote_cell_type": "code"
      },
      "source": "for item in numbers:\n    print(item)",
      "outputs": [
        {
          "output_type": "error",
          "ename": "TypeError",
          "evalue": "'RandomNumbers' object is not iterable",
          "traceback": [
            "\u001b[0;31m---------------------------------------------------------------------------\u001b[0m",
            "\u001b[0;31mTypeError\u001b[0m                                 Traceback (most recent call last)",
            "\u001b[0;32m<ipython-input-41-4239996ff244>\u001b[0m in \u001b[0;36m<module>\u001b[0;34m\u001b[0m\n\u001b[0;32m----> 1\u001b[0;31m \u001b[0;32mfor\u001b[0m \u001b[0mitem\u001b[0m \u001b[0;32min\u001b[0m \u001b[0mnumbers\u001b[0m\u001b[0;34m:\u001b[0m\u001b[0;34m\u001b[0m\u001b[0;34m\u001b[0m\u001b[0m\n\u001b[0m\u001b[1;32m      2\u001b[0m     \u001b[0mprint\u001b[0m\u001b[0;34m(\u001b[0m\u001b[0mitem\u001b[0m\u001b[0;34m)\u001b[0m\u001b[0;34m\u001b[0m\u001b[0;34m\u001b[0m\u001b[0m\n",
            "\u001b[0;31mTypeError\u001b[0m: 'RandomNumbers' object is not iterable"
          ]
        }
      ],
      "execution_count": null
    },
    {
      "cell_type": "code",
      "metadata": {
        "collapsed": true,
        "cell_id": "00056-1e096b13-d830-4899-9954-0f7f804cd3b7",
        "deepnote_to_be_reexecuted": true,
        "source_hash": "b623e53d",
        "execution_millis": 0,
        "deepnote_cell_type": "code"
      },
      "source": "",
      "outputs": [],
      "execution_count": null
    },
    {
      "cell_type": "markdown",
      "source": "### Iterators",
      "metadata": {
        "cell_id": "00057-0c361a22-f822-4769-aca7-c23c4c946d5e",
        "deepnote_cell_type": "markdown"
      }
    },
    {
      "cell_type": "code",
      "metadata": {
        "collapsed": true,
        "cell_id": "00064-a75d9120-8620-48bc-ab4e-2156b8daa2a2",
        "deepnote_to_be_reexecuted": true,
        "source_hash": "be173384",
        "is_code_hidden": false,
        "execution_millis": 0,
        "deepnote_cell_type": "code"
      },
      "source": "class Squares:\n    def __init__(self, length):\n        self.length = length\n        self.i = 0\n        \n    def __iter__(self):\n        return self\n    \n    def __next__(self):\n        if self.i >= self.length:\n            raise StopIteration\n        else:\n            result = self.i ** 2\n            self.i += 1\n            return result",
      "outputs": [],
      "execution_count": null
    },
    {
      "cell_type": "markdown",
      "source": "next(), iter()",
      "metadata": {
        "tags": [],
        "cell_id": "00039-d3ff8b23-44ff-4179-bceb-e33382f3ce95",
        "deepnote_cell_type": "markdown"
      }
    },
    {
      "cell_type": "code",
      "metadata": {
        "collapsed": true,
        "cell_id": "00066-3e4c39e0-f075-4864-8b45-9fe7713fa487",
        "deepnote_to_be_reexecuted": true,
        "source_hash": "288a5365",
        "is_code_hidden": false,
        "execution_millis": 0,
        "deepnote_cell_type": "code"
      },
      "source": "sq = Squares(5)",
      "outputs": [],
      "execution_count": null
    },
    {
      "cell_type": "code",
      "metadata": {
        "cell_id": "00067-cefa17ec-862a-4031-8300-ed8d481b0849",
        "deepnote_to_be_reexecuted": true,
        "source_hash": "6bf4dcf6",
        "output_cleared": false,
        "is_code_hidden": false,
        "execution_millis": 68,
        "deepnote_cell_type": "code"
      },
      "source": "print(next(sq))\nprint(next(sq))\nprint(next(sq))",
      "outputs": [
        {
          "name": "stdout",
          "text": "0\n1\n4\n",
          "output_type": "stream"
        }
      ],
      "execution_count": null
    },
    {
      "cell_type": "code",
      "metadata": {
        "collapsed": true,
        "cell_id": "00069-454ada7f-9c08-44c4-9c79-7f5ad6ad8f75",
        "deepnote_to_be_reexecuted": true,
        "source_hash": "288a5365",
        "is_code_hidden": false,
        "execution_millis": 4,
        "deepnote_cell_type": "code"
      },
      "source": "sq = Squares(5)",
      "outputs": [],
      "execution_count": null
    },
    {
      "cell_type": "code",
      "metadata": {
        "cell_id": "00071-25fd7383-cdb1-4b8a-8bda-82f0055d365e",
        "deepnote_to_be_reexecuted": true,
        "source_hash": "a55ee0ea",
        "output_cleared": false,
        "is_code_hidden": false,
        "execution_millis": 14,
        "deepnote_cell_type": "code"
      },
      "source": "for item in sq:\n    print(item)",
      "outputs": [
        {
          "name": "stdout",
          "text": "0\n1\n4\n9\n16\n",
          "output_type": "stream"
        }
      ],
      "execution_count": null
    },
    {
      "cell_type": "code",
      "metadata": {
        "collapsed": true,
        "cell_id": "00073-b913fddc-0131-4302-b43d-ab3345ab10d3",
        "deepnote_to_be_reexecuted": true,
        "source_hash": "a55ee0ea",
        "is_code_hidden": false,
        "execution_millis": 0,
        "deepnote_cell_type": "code"
      },
      "source": "for item in sq:\n    print(item)",
      "outputs": [],
      "execution_count": null
    },
    {
      "cell_type": "code",
      "metadata": {
        "collapsed": true,
        "cell_id": "00076-2929f6f4-1609-4e41-baa8-7b0fd7e210e1",
        "deepnote_to_be_reexecuted": true,
        "source_hash": "288a5365",
        "is_code_hidden": false,
        "execution_millis": 4,
        "deepnote_cell_type": "code"
      },
      "source": "sq = Squares(5)",
      "outputs": [],
      "execution_count": null
    },
    {
      "cell_type": "code",
      "metadata": {
        "cell_id": "00077-b964adad-177a-40a2-9363-4f790eaaec97",
        "deepnote_to_be_reexecuted": true,
        "source_hash": "a55ee0ea",
        "output_cleared": false,
        "is_code_hidden": false,
        "execution_millis": 0,
        "deepnote_cell_type": "code"
      },
      "source": "for item in sq:\n    print(item)",
      "outputs": [
        {
          "name": "stdout",
          "text": "0\n1\n4\n9\n16\n",
          "output_type": "stream"
        }
      ],
      "execution_count": null
    },
    {
      "cell_type": "code",
      "metadata": {
        "collapsed": true,
        "cell_id": "00079-be1fcdc6-aadc-4d6f-91a9-fbbf39449843",
        "deepnote_to_be_reexecuted": true,
        "source_hash": "288a5365",
        "is_code_hidden": false,
        "execution_millis": 17,
        "deepnote_cell_type": "code"
      },
      "source": "sq = Squares(5)",
      "outputs": [],
      "execution_count": null
    },
    {
      "cell_type": "code",
      "metadata": {
        "cell_id": "00080-848fd114-1068-4c6f-9523-772e9b4dab07",
        "deepnote_to_be_reexecuted": true,
        "source_hash": "8ff461be",
        "output_cleared": false,
        "is_code_hidden": false,
        "execution_millis": 22,
        "deepnote_cell_type": "code"
      },
      "source": "id(sq)",
      "outputs": [
        {
          "output_type": "execute_result",
          "execution_count": 51,
          "data": {
            "text/plain": "140110853407568"
          },
          "metadata": {}
        }
      ],
      "execution_count": null
    },
    {
      "cell_type": "code",
      "metadata": {
        "cell_id": "00081-7dda784e-f55f-4fec-8ef9-a19756fc883d",
        "deepnote_to_be_reexecuted": true,
        "source_hash": "140935e8",
        "output_cleared": false,
        "is_code_hidden": false,
        "execution_millis": 14,
        "deepnote_cell_type": "code"
      },
      "source": "id(sq.__iter__())",
      "outputs": [
        {
          "output_type": "execute_result",
          "execution_count": 52,
          "data": {
            "text/plain": "140110853407568"
          },
          "metadata": {}
        }
      ],
      "execution_count": null
    },
    {
      "cell_type": "code",
      "metadata": {
        "cell_id": "00082-a02440d5-956a-4011-9f32-ce6bf54464aa",
        "deepnote_to_be_reexecuted": true,
        "source_hash": "e2f72728",
        "output_cleared": false,
        "is_code_hidden": false,
        "execution_millis": 1,
        "deepnote_cell_type": "code"
      },
      "source": "id(iter(sq))",
      "outputs": [
        {
          "output_type": "execute_result",
          "execution_count": 53,
          "data": {
            "text/plain": "140110853407568"
          },
          "metadata": {}
        }
      ],
      "execution_count": null
    },
    {
      "cell_type": "code",
      "metadata": {
        "collapsed": true,
        "cell_id": "00084-6ee7a6d3-c873-4634-8fc5-2dcdd964070f",
        "deepnote_to_be_reexecuted": true,
        "source_hash": "288a5365",
        "is_code_hidden": false,
        "execution_millis": 0,
        "deepnote_cell_type": "code"
      },
      "source": "sq = Squares(5)",
      "outputs": [],
      "execution_count": null
    },
    {
      "cell_type": "code",
      "metadata": {
        "cell_id": "00085-0616f7d4-a34d-460a-9fa2-1127ae5df7a3",
        "deepnote_to_be_reexecuted": true,
        "source_hash": "47f86053",
        "output_cleared": false,
        "is_code_hidden": false,
        "execution_millis": 9,
        "deepnote_cell_type": "code"
      },
      "source": "[item for item in sq if item%2==0]",
      "outputs": [
        {
          "output_type": "execute_result",
          "execution_count": 55,
          "data": {
            "text/plain": "[0, 4, 16]"
          },
          "metadata": {}
        }
      ],
      "execution_count": null
    },
    {
      "cell_type": "code",
      "metadata": {
        "cell_id": "00087-fa33e8eb-4365-4199-b8b5-47d2763cb03a",
        "deepnote_to_be_reexecuted": true,
        "source_hash": "d74e8bc4",
        "output_cleared": false,
        "is_code_hidden": false,
        "execution_millis": 43,
        "deepnote_cell_type": "code"
      },
      "source": "sq = Squares(5)\nlist(enumerate(sq))",
      "outputs": [
        {
          "output_type": "execute_result",
          "execution_count": 56,
          "data": {
            "text/plain": "[(0, 0), (1, 1), (2, 4), (3, 9), (4, 16)]"
          },
          "metadata": {}
        }
      ],
      "execution_count": null
    },
    {
      "cell_type": "code",
      "metadata": {
        "cell_id": "00089-980c131c-44ee-42ae-b740-a7566fd0423b",
        "deepnote_to_be_reexecuted": true,
        "source_hash": "6c65779a",
        "output_cleared": false,
        "is_code_hidden": false,
        "execution_millis": 15,
        "deepnote_cell_type": "code"
      },
      "source": "list(enumerate(sq))",
      "outputs": [
        {
          "output_type": "execute_result",
          "execution_count": 57,
          "data": {
            "text/plain": "[]"
          },
          "metadata": {}
        }
      ],
      "execution_count": null
    },
    {
      "cell_type": "code",
      "metadata": {
        "cell_id": "00091-c65364e0-5914-4109-aae5-9daeb0c27850",
        "deepnote_to_be_reexecuted": true,
        "source_hash": "d74e8bc4",
        "output_cleared": false,
        "is_code_hidden": false,
        "execution_millis": 25,
        "deepnote_cell_type": "code"
      },
      "source": "sq = Squares(5)\nlist(enumerate(sq))",
      "outputs": [
        {
          "output_type": "execute_result",
          "execution_count": 58,
          "data": {
            "text/plain": "[(0, 0), (1, 1), (2, 4), (3, 9), (4, 16)]"
          },
          "metadata": {}
        }
      ],
      "execution_count": null
    },
    {
      "cell_type": "code",
      "metadata": {
        "cell_id": "00093-051c677e-8806-4453-8cd4-48c9a5ef7a07",
        "deepnote_to_be_reexecuted": true,
        "source_hash": "abc992d4",
        "output_cleared": false,
        "is_code_hidden": false,
        "execution_millis": 1,
        "deepnote_cell_type": "code"
      },
      "source": "sq = Squares(5)\nsorted(sq, reverse=True)",
      "outputs": [
        {
          "output_type": "execute_result",
          "execution_count": 59,
          "data": {
            "text/plain": "[16, 9, 4, 1, 0]"
          },
          "metadata": {}
        }
      ],
      "execution_count": null
    },
    {
      "cell_type": "markdown",
      "source": "#### Python Iterators Summary",
      "metadata": {
        "cell_id": "00094-2d3b8963-72c3-46b1-9a8a-63c7a6ba7c14",
        "deepnote_cell_type": "markdown"
      }
    },
    {
      "cell_type": "code",
      "metadata": {
        "cell_id": "00097-2e11122c-1b10-48f1-8211-b5c969657305",
        "deepnote_to_be_reexecuted": true,
        "source_hash": "b6b01bd1",
        "output_cleared": false,
        "is_code_hidden": false,
        "execution_millis": 0,
        "deepnote_cell_type": "code"
      },
      "source": "sq = Squares(5)\nwhile True:\n    try:\n        print(next(sq))\n    except StopIteration:\n        break",
      "outputs": [
        {
          "name": "stdout",
          "text": "0\n1\n4\n9\n16\n",
          "output_type": "stream"
        }
      ],
      "execution_count": null
    },
    {
      "cell_type": "code",
      "metadata": {
        "collapsed": true,
        "cell_id": "00099-26909241-2ef4-4747-89a5-c424d8252e7e",
        "deepnote_to_be_reexecuted": true,
        "source_hash": "bb207660",
        "is_code_hidden": false,
        "execution_millis": 0,
        "deepnote_cell_type": "code"
      },
      "source": "class Squares:\n    def __init__(self, length):\n        self.length = length\n        self.i = 0\n        \n    def __iter__(self):\n        print('calling __iter__')\n        return self\n    \n    def __next__(self):\n        print('calling __next__')\n        if self.i >= self.length:\n            raise StopIteration\n        else:\n            result = self.i ** 2\n            self.i += 1\n            return result",
      "outputs": [],
      "execution_count": null
    },
    {
      "cell_type": "code",
      "metadata": {
        "collapsed": true,
        "cell_id": "00100-326acfcd-1c59-4b71-9330-f7d18b1f3b8f",
        "deepnote_to_be_reexecuted": true,
        "source_hash": "288a5365",
        "is_code_hidden": false,
        "execution_millis": 0,
        "deepnote_cell_type": "code"
      },
      "source": "sq = Squares(5)",
      "outputs": [],
      "execution_count": null
    },
    {
      "cell_type": "code",
      "metadata": {
        "cell_id": "00101-4bd53889-2bfe-4a15-95d4-54cef09a1b56",
        "deepnote_to_be_reexecuted": true,
        "source_hash": "7fbbf69e",
        "output_cleared": false,
        "is_code_hidden": false,
        "execution_millis": 0,
        "deepnote_cell_type": "code"
      },
      "source": "for i in sq:\n    print(i)",
      "outputs": [
        {
          "name": "stdout",
          "text": "calling __iter__\ncalling __next__\n0\ncalling __next__\n1\ncalling __next__\n4\ncalling __next__\n9\ncalling __next__\n16\ncalling __next__\n",
          "output_type": "stream"
        }
      ],
      "execution_count": null
    },
    {
      "cell_type": "code",
      "metadata": {
        "cell_id": "00104-3ea78d51-e19d-40b4-95fa-98c06a831821",
        "deepnote_to_be_reexecuted": true,
        "source_hash": "291ef7da",
        "output_cleared": false,
        "is_code_hidden": false,
        "execution_millis": 12,
        "deepnote_cell_type": "code"
      },
      "source": "sq = Squares(5)\n[item for item in sq if item%2==0]",
      "outputs": [
        {
          "name": "stdout",
          "text": "calling __iter__\ncalling __next__\ncalling __next__\ncalling __next__\ncalling __next__\ncalling __next__\ncalling __next__\n",
          "output_type": "stream"
        },
        {
          "output_type": "execute_result",
          "execution_count": 64,
          "data": {
            "text/plain": "[0, 4, 16]"
          },
          "metadata": {}
        }
      ],
      "execution_count": null
    },
    {
      "cell_type": "code",
      "metadata": {
        "cell_id": "00105-de5dbbd5-0dcb-40ee-87c2-84775653f1f7",
        "deepnote_to_be_reexecuted": true,
        "source_hash": "d74e8bc4",
        "output_cleared": false,
        "is_code_hidden": false,
        "execution_millis": 12,
        "deepnote_cell_type": "code"
      },
      "source": "sq = Squares(5)\nlist(enumerate(sq))",
      "outputs": [
        {
          "name": "stdout",
          "text": "calling __iter__\ncalling __next__\ncalling __next__\ncalling __next__\ncalling __next__\ncalling __next__\ncalling __next__\n",
          "output_type": "stream"
        },
        {
          "output_type": "execute_result",
          "execution_count": 65,
          "data": {
            "text/plain": "[(0, 0), (1, 1), (2, 4), (3, 9), (4, 16)]"
          },
          "metadata": {}
        }
      ],
      "execution_count": null
    },
    {
      "cell_type": "code",
      "metadata": {
        "cell_id": "00106-eb8de33d-cb97-423e-8e20-4c529a55da59",
        "deepnote_to_be_reexecuted": true,
        "source_hash": "abc992d4",
        "output_cleared": false,
        "is_code_hidden": false,
        "execution_millis": 75,
        "deepnote_cell_type": "code"
      },
      "source": "sq = Squares(5)\nsorted(sq, reverse=True)",
      "outputs": [
        {
          "name": "stdout",
          "text": "calling __iter__\ncalling __next__\ncalling __next__\ncalling __next__\ncalling __next__\ncalling __next__\ncalling __next__\n",
          "output_type": "stream"
        },
        {
          "output_type": "execute_result",
          "execution_count": 66,
          "data": {
            "text/plain": "[16, 9, 4, 1, 0]"
          },
          "metadata": {}
        }
      ],
      "execution_count": null
    },
    {
      "cell_type": "code",
      "metadata": {
        "cell_id": "00108-3d2ae14b-c0f3-44bb-9fb9-91f5a5032023",
        "deepnote_to_be_reexecuted": true,
        "source_hash": "1c191bea",
        "output_cleared": false,
        "is_code_hidden": false,
        "execution_millis": 15,
        "deepnote_cell_type": "code"
      },
      "source": "sq = Squares(5)\nsq_iterator = iter(sq)\nprint(id(sq), id(sq_iterator))\nwhile True:\n    try:\n        item = next(sq_iterator)\n        print(item)\n    except StopIteration:\n        break",
      "outputs": [
        {
          "name": "stdout",
          "text": "calling __iter__\n140110853586448 140110853586448\ncalling __next__\n0\ncalling __next__\n1\ncalling __next__\n4\ncalling __next__\n9\ncalling __next__\n16\ncalling __next__\n",
          "output_type": "stream"
        }
      ],
      "execution_count": null
    },
    {
      "cell_type": "markdown",
      "source": "### Iterators and Iterables",
      "metadata": {
        "cell_id": "00111-d2b10d1f-c3fd-4fec-9dc1-877579a27e1d",
        "deepnote_cell_type": "markdown"
      }
    },
    {
      "cell_type": "code",
      "metadata": {
        "collapsed": true,
        "cell_id": "00118-e8833bef-ff2c-44f9-bde0-cf8aa67d8773",
        "deepnote_to_be_reexecuted": true,
        "source_hash": "fa0e74da",
        "is_code_hidden": false,
        "execution_millis": 1,
        "deepnote_cell_type": "code"
      },
      "source": "class Cities:\n    def __init__(self):\n        self._cities = ['Paris', 'Berlin', 'Rome', 'Madrid', 'London']\n        self._index = 0\n    \n    def __iter__(self):\n        return self\n    \n    def __next__(self):\n        if self._index >= len(self._cities):\n            raise StopIteration\n        else:\n            item = self._cities[self._index]\n            self._index += 1\n            return item",
      "outputs": [],
      "execution_count": null
    },
    {
      "cell_type": "code",
      "metadata": {
        "cell_id": "00120-14f38e5a-9eec-4d33-b03f-a5b0be181c90",
        "deepnote_to_be_reexecuted": true,
        "source_hash": "f7bd6120",
        "output_cleared": false,
        "is_code_hidden": false,
        "execution_millis": 4,
        "deepnote_cell_type": "code"
      },
      "source": "cities = Cities()\nlist(enumerate(cities))",
      "outputs": [
        {
          "output_type": "execute_result",
          "execution_count": 69,
          "data": {
            "text/plain": "[(0, 'Paris'), (1, 'Berlin'), (2, 'Rome'), (3, 'Madrid'), (4, 'London')]"
          },
          "metadata": {}
        }
      ],
      "execution_count": null
    },
    {
      "cell_type": "code",
      "metadata": {
        "cell_id": "00121-011ec968-b4f3-4d88-b165-f36c8449bb12",
        "deepnote_to_be_reexecuted": true,
        "source_hash": "296ca225",
        "output_cleared": false,
        "is_code_hidden": false,
        "execution_millis": 16,
        "deepnote_cell_type": "code"
      },
      "source": "cities=Cities()\n[item.upper() for item in cities]",
      "outputs": [
        {
          "output_type": "execute_result",
          "execution_count": 70,
          "data": {
            "text/plain": "['PARIS', 'BERLIN', 'ROME', 'MADRID', 'LONDON']"
          },
          "metadata": {}
        }
      ],
      "execution_count": null
    },
    {
      "cell_type": "code",
      "metadata": {
        "cell_id": "00122-6f96e0b1-59b7-4561-8fe6-344eca26869d",
        "deepnote_to_be_reexecuted": true,
        "source_hash": "2eccc336",
        "output_cleared": false,
        "is_code_hidden": false,
        "execution_millis": 49,
        "deepnote_cell_type": "code"
      },
      "source": "cities=Cities()\nsorted(cities)",
      "outputs": [
        {
          "output_type": "execute_result",
          "execution_count": 71,
          "data": {
            "text/plain": "['Berlin', 'London', 'Madrid', 'Paris', 'Rome']"
          },
          "metadata": {}
        }
      ],
      "execution_count": null
    },
    {
      "cell_type": "code",
      "metadata": {
        "collapsed": true,
        "cell_id": "00126-170a93b2-cf76-40cd-acf6-1c08a8a2d40d",
        "deepnote_to_be_reexecuted": true,
        "source_hash": "8c0d9670",
        "is_code_hidden": false,
        "execution_millis": 1,
        "deepnote_cell_type": "code"
      },
      "source": "class Cities:\n    def __init__(self):\n        self._cities = ['New York', 'Newark', 'New Delhi', 'Newcastle']\n        \n    def __len__(self):\n        return len(self._cities)",
      "outputs": [],
      "execution_count": null
    },
    {
      "cell_type": "code",
      "metadata": {
        "tags": [],
        "cell_id": "00071-5bcbd8ad-e71a-4f72-a1e4-bcbb0b31cdd1",
        "is_code_hidden": false,
        "deepnote_to_be_reexecuted": true,
        "source_hash": "15925596",
        "execution_millis": 0,
        "deepnote_cell_type": "code"
      },
      "source": "class CityIterator:\n    def __init__(self, city_obj):\n        # cities is an instance of Cities\n        self._city_obj = city_obj\n        self._index = 0\n        \n    def __iter__(self):\n        return self\n    \n    def __next__(self):\n        if self._index >= len(self._city_obj):\n            raise StopIteration\n        else:\n            item = self._city_obj._cities[self._index]\n            self._index += 1\n            return item",
      "outputs": [],
      "execution_count": null
    },
    {
      "cell_type": "code",
      "metadata": {
        "collapsed": true,
        "cell_id": "00130-91887756-eb91-48bd-94c3-b335e8d0c8bc",
        "deepnote_to_be_reexecuted": true,
        "source_hash": "71bcfecb",
        "is_code_hidden": false,
        "execution_millis": 13,
        "deepnote_cell_type": "code"
      },
      "source": "cities = Cities()",
      "outputs": [],
      "execution_count": null
    },
    {
      "cell_type": "code",
      "metadata": {
        "collapsed": true,
        "cell_id": "00132-17841eef-d11c-4f79-b0d7-ba0bb6ad3d60",
        "deepnote_to_be_reexecuted": true,
        "source_hash": "3f55ff6e",
        "is_code_hidden": false,
        "execution_millis": 6,
        "deepnote_cell_type": "code"
      },
      "source": "iter_1 = CityIterator(cities)",
      "outputs": [],
      "execution_count": null
    },
    {
      "cell_type": "code",
      "metadata": {
        "cell_id": "00133-656ea7cb-01c6-4b4a-bc15-417c7292c815",
        "deepnote_to_be_reexecuted": true,
        "source_hash": "c36fdb16",
        "is_code_hidden": false,
        "output_cleared": false,
        "execution_millis": 52,
        "deepnote_cell_type": "code"
      },
      "source": "for city in iter_1:\n    print(city)",
      "outputs": [
        {
          "name": "stdout",
          "text": "New York\nNewark\nNew Delhi\nNewcastle\n",
          "output_type": "stream"
        }
      ],
      "execution_count": null
    },
    {
      "cell_type": "code",
      "metadata": {
        "cell_id": "00134-a179ae28-bdb8-42fa-b8fc-903dc664948f",
        "deepnote_to_be_reexecuted": true,
        "source_hash": "1d0c44e",
        "output_cleared": false,
        "is_code_hidden": false,
        "execution_millis": 23,
        "deepnote_cell_type": "code"
      },
      "source": "iter_2 = CityIterator(cities)\n[city.upper() for city in iter_2]",
      "outputs": [
        {
          "output_type": "execute_result",
          "execution_count": 77,
          "data": {
            "text/plain": "['NEW YORK', 'NEWARK', 'NEW DELHI', 'NEWCASTLE']"
          },
          "metadata": {}
        }
      ],
      "execution_count": null
    },
    {
      "cell_type": "code",
      "metadata": {
        "cell_id": "00136-1273e21e-4be2-4e8e-b11a-a6be3a9c9953",
        "deepnote_to_be_reexecuted": true,
        "source_hash": "4ff24104",
        "output_cleared": false,
        "is_code_hidden": false,
        "execution_millis": 14,
        "deepnote_cell_type": "code"
      },
      "source": "for city in cities:\n    print(city)",
      "outputs": [
        {
          "output_type": "error",
          "ename": "TypeError",
          "evalue": "'Cities' object is not iterable",
          "traceback": [
            "\u001b[0;31m---------------------------------------------------------------------------\u001b[0m",
            "\u001b[0;31mTypeError\u001b[0m                                 Traceback (most recent call last)",
            "\u001b[0;32m<ipython-input-78-5ab6add74170>\u001b[0m in \u001b[0;36m<module>\u001b[0;34m\u001b[0m\n\u001b[0;32m----> 1\u001b[0;31m \u001b[0;32mfor\u001b[0m \u001b[0mcity\u001b[0m \u001b[0;32min\u001b[0m \u001b[0mcities\u001b[0m\u001b[0;34m:\u001b[0m\u001b[0;34m\u001b[0m\u001b[0;34m\u001b[0m\u001b[0m\n\u001b[0m\u001b[1;32m      2\u001b[0m     \u001b[0mprint\u001b[0m\u001b[0;34m(\u001b[0m\u001b[0mcity\u001b[0m\u001b[0;34m)\u001b[0m\u001b[0;34m\u001b[0m\u001b[0;34m\u001b[0m\u001b[0m\n",
            "\u001b[0;31mTypeError\u001b[0m: 'Cities' object is not iterable"
          ]
        }
      ],
      "execution_count": null
    },
    {
      "cell_type": "code",
      "metadata": {
        "collapsed": true,
        "cell_id": "00139-c07cc422-2d8d-48e2-a12a-35c397ec1ed4",
        "deepnote_to_be_reexecuted": true,
        "source_hash": "eaa701ec",
        "is_code_hidden": false,
        "execution_millis": 0,
        "deepnote_cell_type": "code"
      },
      "source": "class CityIterator:\n    def __init__(self, city_obj):\n        # cities is an instance of Cities\n        print('Calling CityIterator __init__')\n        self._city_obj = city_obj\n        self._index = 0\n        \n    def __iter__(self):\n        print('Calling CitiyIterator instance __iter__')\n        return self\n    \n    def __next__(self):\n        print('Calling __next__')\n        if self._index >= len(self._city_obj):\n            raise StopIteration\n        else:\n            item = self._city_obj._cities[self._index]\n            self._index += 1\n            return item",
      "outputs": [],
      "execution_count": null
    },
    {
      "cell_type": "code",
      "metadata": {
        "cell_id": "00140-f54914fb-af43-4457-adb2-955fde7ebd35",
        "deepnote_to_be_reexecuted": true,
        "source_hash": "3f55ff6e",
        "output_cleared": false,
        "is_code_hidden": false,
        "execution_millis": 30,
        "deepnote_cell_type": "code"
      },
      "source": "iter_1 = CityIterator(cities)",
      "outputs": [
        {
          "name": "stdout",
          "text": "Calling CityIterator __init__\n",
          "output_type": "stream"
        }
      ],
      "execution_count": null
    },
    {
      "cell_type": "code",
      "metadata": {
        "cell_id": "00141-e9c2aee9-9a85-4f55-bf64-c07840c69e7e",
        "deepnote_to_be_reexecuted": true,
        "source_hash": "c36fdb16",
        "output_cleared": false,
        "is_code_hidden": false,
        "execution_millis": 29,
        "deepnote_cell_type": "code"
      },
      "source": "for city in iter_1:\n    print(city)",
      "outputs": [
        {
          "name": "stdout",
          "text": "Calling CitiyIterator instance __iter__\nCalling __next__\nNew York\nCalling __next__\nNewark\nCalling __next__\nNew Delhi\nCalling __next__\nNewcastle\nCalling __next__\n",
          "output_type": "stream"
        }
      ],
      "execution_count": null
    },
    {
      "cell_type": "markdown",
      "source": "#### Iterables",
      "metadata": {
        "cell_id": "00142-dff5ae49-c975-4ca6-9b9a-d3bfdab34b9e",
        "deepnote_cell_type": "markdown"
      }
    },
    {
      "cell_type": "code",
      "metadata": {
        "collapsed": true,
        "cell_id": "00145-fc66b50e-8716-4ac1-8b5a-0a462681c987",
        "deepnote_to_be_reexecuted": true,
        "source_hash": "eaa701ec",
        "is_code_hidden": false,
        "execution_millis": 0,
        "deepnote_cell_type": "code"
      },
      "source": "class CityIterator:\n    def __init__(self, city_obj):\n        # cities is an instance of Cities\n        print('Calling CityIterator __init__')\n        self._city_obj = city_obj\n        self._index = 0\n        \n    def __iter__(self):\n        print('Calling CitiyIterator instance __iter__')\n        return self\n    \n    def __next__(self):\n        print('Calling __next__')\n        if self._index >= len(self._city_obj):\n            raise StopIteration\n        else:\n            item = self._city_obj._cities[self._index]\n            self._index += 1\n            return item",
      "outputs": [],
      "execution_count": null
    },
    {
      "cell_type": "code",
      "metadata": {
        "collapsed": true,
        "cell_id": "00146-cb8feeac-1950-4810-8110-f3548045fe40",
        "deepnote_to_be_reexecuted": true,
        "source_hash": "d397a5f6",
        "is_code_hidden": false,
        "execution_millis": 1,
        "deepnote_cell_type": "code"
      },
      "source": "class Cities:\n    def __init__(self):\n        self._cities = ['New York', 'Newark', 'New Delhi', 'Newcastle']\n        \n    def __len__(self):\n        return len(self._cities)\n    \n    def __iter__(self):\n        print('Calling Cities instance __iter__')\n        return CityIterator(self)",
      "outputs": [],
      "execution_count": null
    },
    {
      "cell_type": "code",
      "metadata": {
        "collapsed": true,
        "cell_id": "00147-789b9a19-2072-4341-bfbc-f65ceb410eed",
        "deepnote_to_be_reexecuted": true,
        "source_hash": "71bcfecb",
        "is_code_hidden": false,
        "execution_millis": 0,
        "deepnote_cell_type": "code"
      },
      "source": "cities = Cities()",
      "outputs": [],
      "execution_count": null
    },
    {
      "cell_type": "code",
      "metadata": {
        "cell_id": "00148-add90d80-a888-4090-a31a-b686560c5f25",
        "deepnote_to_be_reexecuted": true,
        "source_hash": "4ff24104",
        "output_cleared": false,
        "is_code_hidden": false,
        "execution_millis": 18,
        "deepnote_cell_type": "code"
      },
      "source": "for city in cities:\n    print(city)",
      "outputs": [
        {
          "name": "stdout",
          "text": "Calling Cities instance __iter__\nCalling CityIterator __init__\nCalling __next__\nNew York\nCalling __next__\nNewark\nCalling __next__\nNew Delhi\nCalling __next__\nNewcastle\nCalling __next__\n",
          "output_type": "stream"
        }
      ],
      "execution_count": null
    },
    {
      "cell_type": "code",
      "metadata": {
        "cell_id": "00150-480e88e6-76b0-4b5b-abd9-d4047c3d7af4",
        "deepnote_to_be_reexecuted": true,
        "source_hash": "4ff24104",
        "output_cleared": false,
        "is_code_hidden": false,
        "execution_millis": 12,
        "deepnote_cell_type": "code"
      },
      "source": "for city in cities:\n    print(city)",
      "outputs": [
        {
          "name": "stdout",
          "text": "Calling Cities instance __iter__\nCalling CityIterator __init__\nCalling __next__\nNew York\nCalling __next__\nNewark\nCalling __next__\nNew Delhi\nCalling __next__\nNewcastle\nCalling __next__\n",
          "output_type": "stream"
        }
      ],
      "execution_count": null
    },
    {
      "cell_type": "code",
      "metadata": {
        "cell_id": "00152-afd53c5c-7c9d-4d9d-b2f9-99f6fa85727c",
        "deepnote_to_be_reexecuted": true,
        "source_hash": "3b2a4d7a",
        "output_cleared": false,
        "is_code_hidden": false,
        "execution_millis": 13,
        "deepnote_cell_type": "code"
      },
      "source": "list(enumerate(cities))",
      "outputs": [
        {
          "name": "stdout",
          "text": "Calling Cities instance __iter__\nCalling CityIterator __init__\nCalling __next__\nCalling __next__\nCalling __next__\nCalling __next__\nCalling __next__\n",
          "output_type": "stream"
        },
        {
          "output_type": "execute_result",
          "execution_count": 87,
          "data": {
            "text/plain": "[(0, 'New York'), (1, 'Newark'), (2, 'New Delhi'), (3, 'Newcastle')]"
          },
          "metadata": {}
        }
      ],
      "execution_count": null
    },
    {
      "cell_type": "code",
      "metadata": {
        "cell_id": "00153-6522ed35-57b4-4234-9998-1036106399e1",
        "deepnote_to_be_reexecuted": true,
        "source_hash": "4601da1",
        "output_cleared": false,
        "is_code_hidden": false,
        "execution_millis": 18,
        "deepnote_cell_type": "code"
      },
      "source": "sorted(cities, reverse=True)",
      "outputs": [
        {
          "name": "stdout",
          "text": "Calling Cities instance __iter__\nCalling CityIterator __init__\nCalling __next__\nCalling __next__\nCalling __next__\nCalling __next__\nCalling __next__\n",
          "output_type": "stream"
        },
        {
          "output_type": "execute_result",
          "execution_count": 88,
          "data": {
            "text/plain": "['Newcastle', 'Newark', 'New York', 'New Delhi']"
          },
          "metadata": {}
        }
      ],
      "execution_count": null
    },
    {
      "cell_type": "code",
      "metadata": {
        "collapsed": true,
        "cell_id": "00155-55eb86c3-4260-45da-9e78-939cd3721587",
        "deepnote_to_be_reexecuted": true,
        "source_hash": "a3b7570f",
        "is_code_hidden": false,
        "execution_millis": 0,
        "deepnote_cell_type": "code"
      },
      "source": "del CityIterator  # just to make sure CityIterator is not in our global scope",
      "outputs": [],
      "execution_count": null
    },
    {
      "cell_type": "code",
      "metadata": {
        "collapsed": true,
        "cell_id": "00156-e860ec15-082c-4cea-9335-04ba4b5f4e0a",
        "deepnote_to_be_reexecuted": true,
        "source_hash": "bbcd2558",
        "is_code_hidden": false,
        "execution_millis": 0,
        "deepnote_cell_type": "code"
      },
      "source": "class Cities:\n    def __init__(self):\n        self._cities = ['New York', 'Newark', 'New Delhi', 'Newcastle']\n        \n    def __len__(self):\n        return len(self._cities)\n    \n    def __iter__(self):\n        print('Calling Cities instance __iter__')\n        return self.CityIterator(self)\n    \n    class CityIterator:\n        def __init__(self, city_obj):\n            # cities is an instance of Cities\n            print('Calling CityIterator __init__')\n            self._city_obj = city_obj\n            self._index = 0\n\n        def __iter__(self):\n            print('Calling CitiyIterator instance __iter__')\n            return self\n\n        def __next__(self):\n            print('Calling __next__')\n            if self._index >= len(self._city_obj):\n                raise StopIteration\n            else:\n                item = self._city_obj._cities[self._index]\n                self._index += 1\n                return item",
      "outputs": [],
      "execution_count": null
    },
    {
      "cell_type": "code",
      "metadata": {
        "collapsed": true,
        "cell_id": "00157-6d1a033c-75b8-4e90-884b-0fc8ddba3c14",
        "deepnote_to_be_reexecuted": true,
        "source_hash": "71bcfecb",
        "is_code_hidden": false,
        "execution_millis": 0,
        "deepnote_cell_type": "code"
      },
      "source": "cities = Cities()",
      "outputs": [],
      "execution_count": null
    },
    {
      "cell_type": "code",
      "metadata": {
        "cell_id": "00158-fcb9637e-30d1-4d1f-afcf-df6e42012224",
        "deepnote_to_be_reexecuted": true,
        "source_hash": "3b2a4d7a",
        "is_code_hidden": false,
        "output_cleared": false,
        "execution_millis": 32,
        "deepnote_cell_type": "code"
      },
      "source": "list(enumerate(cities))",
      "outputs": [
        {
          "name": "stdout",
          "text": "Calling Cities instance __iter__\nCalling CityIterator __init__\nCalling __next__\nCalling __next__\nCalling __next__\nCalling __next__\nCalling __next__\n",
          "output_type": "stream"
        },
        {
          "output_type": "execute_result",
          "execution_count": 92,
          "data": {
            "text/plain": "[(0, 'New York'), (1, 'Newark'), (2, 'New Delhi'), (3, 'Newcastle')]"
          },
          "metadata": {}
        }
      ],
      "execution_count": null
    },
    {
      "cell_type": "code",
      "metadata": {
        "cell_id": "00160-8ab7aae7-07b0-43d4-b759-8b3d4d73bdf1",
        "deepnote_to_be_reexecuted": true,
        "source_hash": "462c80f2",
        "output_cleared": false,
        "is_code_hidden": false,
        "execution_millis": 13,
        "deepnote_cell_type": "code"
      },
      "source": "iter_1 = iter(cities)\niter_2 = iter(cities)",
      "outputs": [
        {
          "name": "stdout",
          "text": "Calling Cities instance __iter__\nCalling CityIterator __init__\nCalling Cities instance __iter__\nCalling CityIterator __init__\n",
          "output_type": "stream"
        }
      ],
      "execution_count": null
    },
    {
      "cell_type": "code",
      "metadata": {
        "cell_id": "00162-dced48af-905c-4dc6-b659-6579649fec17",
        "deepnote_to_be_reexecuted": true,
        "source_hash": "7438422e",
        "output_cleared": false,
        "is_code_hidden": false,
        "execution_millis": 14,
        "deepnote_cell_type": "code"
      },
      "source": "id(iter_1), id(iter_2)",
      "outputs": [
        {
          "output_type": "execute_result",
          "execution_count": 94,
          "data": {
            "text/plain": "(140110853691664, 140110853692176)"
          },
          "metadata": {}
        }
      ],
      "execution_count": null
    },
    {
      "cell_type": "markdown",
      "source": "#### Mixing Iterables and Sequences",
      "metadata": {
        "cell_id": "00164-db6d5025-cb93-4ee2-8fb3-f3e0fd22e712",
        "deepnote_cell_type": "markdown"
      }
    },
    {
      "cell_type": "code",
      "metadata": {
        "collapsed": true,
        "cell_id": "00166-fa366590-770b-41a8-8284-20c21bcb437d",
        "deepnote_to_be_reexecuted": true,
        "source_hash": "71bcfecb",
        "is_code_hidden": false,
        "execution_millis": 0,
        "deepnote_cell_type": "code"
      },
      "source": "cities = Cities()",
      "outputs": [],
      "execution_count": null
    },
    {
      "cell_type": "code",
      "metadata": {
        "cell_id": "00167-e3e3a186-5ae6-446c-b029-41bfa4dd58f7",
        "deepnote_to_be_reexecuted": true,
        "source_hash": "dd98bc8c",
        "output_cleared": false,
        "is_code_hidden": false,
        "execution_millis": 0,
        "deepnote_cell_type": "code"
      },
      "source": "len(cities)",
      "outputs": [
        {
          "output_type": "execute_result",
          "execution_count": 96,
          "data": {
            "text/plain": "4"
          },
          "metadata": {}
        }
      ],
      "execution_count": null
    },
    {
      "cell_type": "code",
      "metadata": {
        "cell_id": "00168-32e67e00-9f29-4177-b845-7fc202547215",
        "deepnote_to_be_reexecuted": true,
        "source_hash": "448b83ed",
        "output_cleared": false,
        "is_code_hidden": false,
        "execution_millis": 18,
        "deepnote_cell_type": "code"
      },
      "source": "cities[1]",
      "outputs": [
        {
          "output_type": "error",
          "ename": "TypeError",
          "evalue": "'Cities' object is not subscriptable",
          "traceback": [
            "\u001b[0;31m---------------------------------------------------------------------------\u001b[0m",
            "\u001b[0;31mTypeError\u001b[0m                                 Traceback (most recent call last)",
            "\u001b[0;32m<ipython-input-97-ed970e22d0c8>\u001b[0m in \u001b[0;36m<module>\u001b[0;34m\u001b[0m\n\u001b[0;32m----> 1\u001b[0;31m \u001b[0mcities\u001b[0m\u001b[0;34m[\u001b[0m\u001b[0;36m1\u001b[0m\u001b[0;34m]\u001b[0m\u001b[0;34m\u001b[0m\u001b[0;34m\u001b[0m\u001b[0m\n\u001b[0m",
            "\u001b[0;31mTypeError\u001b[0m: 'Cities' object is not subscriptable"
          ]
        }
      ],
      "execution_count": null
    },
    {
      "cell_type": "code",
      "metadata": {
        "collapsed": true,
        "cell_id": "00170-abfaf01e-da0f-40b2-9bab-1894dd25dfdd",
        "deepnote_to_be_reexecuted": true,
        "source_hash": "932679b5",
        "is_code_hidden": false,
        "execution_millis": 0,
        "deepnote_cell_type": "code"
      },
      "source": "class Cities:\n    def __init__(self):\n        self._cities = ['New York', 'Newark', 'New Delhi', 'Newcastle']\n        \n    def __len__(self):\n        return len(self._cities)\n    \n    def __getitem__(self, s):\n        print('getting item...')\n        return self._cities[s]\n    \n    def __iter__(self):\n        print('Calling Cities instance __iter__')\n        return self.CityIterator(self)\n    \n    class CityIterator:\n        def __init__(self, city_obj):\n            # cities is an instance of Cities\n            print('Calling CityIterator __init__')\n            self._city_obj = city_obj\n            self._index = 0\n\n        def __iter__(self):\n            print('Calling CitiyIterator instance __iter__')\n            return self\n\n        def __next__(self):\n            print('Calling __next__')\n            if self._index >= len(self._city_obj):\n                raise StopIteration\n            else:\n                item = self._city_obj._cities[self._index]\n                self._index += 1\n                return item",
      "outputs": [],
      "execution_count": null
    },
    {
      "cell_type": "code",
      "metadata": {
        "collapsed": true,
        "cell_id": "00171-2db227fb-c0fa-44d2-b25a-9913fea10553",
        "deepnote_to_be_reexecuted": true,
        "source_hash": "71bcfecb",
        "is_code_hidden": false,
        "execution_millis": 1,
        "deepnote_cell_type": "code"
      },
      "source": "cities = Cities()",
      "outputs": [],
      "execution_count": null
    },
    {
      "cell_type": "code",
      "metadata": {
        "cell_id": "00173-16c2a374-a889-4ff2-b28c-c72baee69952",
        "deepnote_to_be_reexecuted": true,
        "source_hash": "3a9b2e59",
        "output_cleared": false,
        "is_code_hidden": false,
        "execution_millis": 25,
        "deepnote_cell_type": "code"
      },
      "source": "cities[0]",
      "outputs": [
        {
          "name": "stdout",
          "text": "getting item...\n",
          "output_type": "stream"
        },
        {
          "output_type": "execute_result",
          "execution_count": 100,
          "data": {
            "text/plain": "'New York'"
          },
          "metadata": {}
        }
      ],
      "execution_count": null
    },
    {
      "cell_type": "code",
      "metadata": {
        "cell_id": "00175-e03ff038-de60-4d35-81c5-70f8dc240aac",
        "deepnote_to_be_reexecuted": true,
        "source_hash": "f37070d3",
        "output_cleared": false,
        "is_code_hidden": false,
        "execution_millis": 12,
        "deepnote_cell_type": "code"
      },
      "source": "next(iter(cities))",
      "outputs": [
        {
          "name": "stdout",
          "text": "Calling Cities instance __iter__\nCalling CityIterator __init__\nCalling __next__\n",
          "output_type": "stream"
        },
        {
          "output_type": "execute_result",
          "execution_count": 101,
          "data": {
            "text/plain": "'New York'"
          },
          "metadata": {}
        }
      ],
      "execution_count": null
    },
    {
      "cell_type": "code",
      "metadata": {
        "cell_id": "00177-8bc53758-3986-4ed9-a56e-69f01be5dd5a",
        "deepnote_to_be_reexecuted": true,
        "source_hash": "5dc61d01",
        "output_cleared": false,
        "is_code_hidden": false,
        "execution_millis": 62,
        "deepnote_cell_type": "code"
      },
      "source": "cities = Cities()\nfor city in cities:\n    print(city)",
      "outputs": [
        {
          "name": "stdout",
          "text": "Calling Cities instance __iter__\nCalling CityIterator __init__\nCalling __next__\nNew York\nCalling __next__\nNewark\nCalling __next__\nNew Delhi\nCalling __next__\nNewcastle\nCalling __next__\n",
          "output_type": "stream"
        }
      ],
      "execution_count": null
    },
    {
      "cell_type": "markdown",
      "source": "### Python Built-In Iterables and Iterators",
      "metadata": {
        "cell_id": "00179-6ba5e88d-1f4f-41fd-897c-b1464aeb3006",
        "deepnote_cell_type": "markdown"
      }
    },
    {
      "cell_type": "code",
      "metadata": {
        "collapsed": true,
        "cell_id": "00181-f328a49a-54bb-43b4-8dcb-911de1ac628a",
        "deepnote_to_be_reexecuted": true,
        "source_hash": "7fb96b43",
        "is_code_hidden": false,
        "execution_millis": 0,
        "deepnote_cell_type": "code"
      },
      "source": "l = [1, 2, 3]",
      "outputs": [],
      "execution_count": null
    },
    {
      "cell_type": "code",
      "metadata": {
        "collapsed": true,
        "cell_id": "00183-6ad430e6-42dc-45da-8a84-dcaab38b6381",
        "deepnote_to_be_reexecuted": true,
        "source_hash": "8c950f93",
        "is_code_hidden": false,
        "execution_millis": 1,
        "deepnote_cell_type": "code"
      },
      "source": "iter_l = iter(l)\n#or could use iter_1 = l.__iter__()",
      "outputs": [],
      "execution_count": null
    },
    {
      "cell_type": "code",
      "metadata": {
        "cell_id": "00184-87e783fb-eb7e-4282-9253-817eafdc8138",
        "deepnote_to_be_reexecuted": true,
        "source_hash": "d16a6629",
        "is_code_hidden": false,
        "output_cleared": false,
        "execution_millis": 20,
        "deepnote_cell_type": "code"
      },
      "source": "type(iter_l)",
      "outputs": [
        {
          "output_type": "execute_result",
          "execution_count": 105,
          "data": {
            "text/plain": "list_iterator"
          },
          "metadata": {}
        }
      ],
      "execution_count": null
    },
    {
      "cell_type": "code",
      "metadata": {
        "cell_id": "00185-8356e5f1-31f4-46cd-8ea9-f2869630d859",
        "deepnote_to_be_reexecuted": true,
        "source_hash": "9e025c8f",
        "is_code_hidden": false,
        "output_cleared": false,
        "execution_millis": 11,
        "deepnote_cell_type": "code"
      },
      "source": "next(iter_l)",
      "outputs": [
        {
          "output_type": "execute_result",
          "execution_count": 106,
          "data": {
            "text/plain": "1"
          },
          "metadata": {}
        }
      ],
      "execution_count": null
    },
    {
      "cell_type": "code",
      "metadata": {
        "cell_id": "00186-3789aa51-1c96-4298-9e42-4cf3d60b547c",
        "deepnote_to_be_reexecuted": true,
        "source_hash": "9e025c8f",
        "is_code_hidden": false,
        "output_cleared": false,
        "execution_millis": 14,
        "deepnote_cell_type": "code"
      },
      "source": "next(iter_l)",
      "outputs": [
        {
          "output_type": "execute_result",
          "execution_count": 107,
          "data": {
            "text/plain": "2"
          },
          "metadata": {}
        }
      ],
      "execution_count": null
    },
    {
      "cell_type": "code",
      "metadata": {
        "cell_id": "00187-bb710d62-b874-4854-a0f0-65482f6de1b5",
        "deepnote_to_be_reexecuted": true,
        "source_hash": "9e025c8f",
        "output_cleared": false,
        "is_code_hidden": false,
        "execution_millis": 47,
        "deepnote_cell_type": "code"
      },
      "source": "next(iter_l)",
      "outputs": [
        {
          "output_type": "execute_result",
          "execution_count": 108,
          "data": {
            "text/plain": "3"
          },
          "metadata": {}
        }
      ],
      "execution_count": null
    },
    {
      "cell_type": "code",
      "metadata": {
        "cell_id": "00188-2c2ee125-c8c9-4673-99fb-ff5fddd6502b",
        "deepnote_to_be_reexecuted": true,
        "source_hash": "9e025c8f",
        "output_cleared": false,
        "is_code_hidden": false,
        "execution_millis": 30,
        "deepnote_cell_type": "code"
      },
      "source": "next(iter_l)",
      "outputs": [
        {
          "output_type": "error",
          "ename": "StopIteration",
          "evalue": "",
          "traceback": [
            "\u001b[0;31m---------------------------------------------------------------------------\u001b[0m",
            "\u001b[0;31mStopIteration\u001b[0m                             Traceback (most recent call last)",
            "\u001b[0;32m<ipython-input-109-1a2d6bfb05b1>\u001b[0m in \u001b[0;36m<module>\u001b[0;34m\u001b[0m\n\u001b[0;32m----> 1\u001b[0;31m \u001b[0mnext\u001b[0m\u001b[0;34m(\u001b[0m\u001b[0miter_l\u001b[0m\u001b[0;34m)\u001b[0m\u001b[0;34m\u001b[0m\u001b[0;34m\u001b[0m\u001b[0m\n\u001b[0m",
            "\u001b[0;31mStopIteration\u001b[0m: "
          ]
        }
      ],
      "execution_count": null
    },
    {
      "cell_type": "code",
      "metadata": {
        "cell_id": "00190-010df60b-de66-4fd8-bc03-216a9907c44d",
        "deepnote_to_be_reexecuted": true,
        "source_hash": "2ef83def",
        "is_code_hidden": false,
        "output_cleared": false,
        "execution_millis": 56,
        "deepnote_cell_type": "code"
      },
      "source": "id(iter_l), id(iter(iter_l))",
      "outputs": [
        {
          "output_type": "execute_result",
          "execution_count": 110,
          "data": {
            "text/plain": "(140110854637584, 140110854637584)"
          },
          "metadata": {}
        }
      ],
      "execution_count": null
    },
    {
      "cell_type": "code",
      "metadata": {
        "cell_id": "00191-a369cb98-ae56-4aa0-8c95-9e289389808f",
        "deepnote_to_be_reexecuted": true,
        "source_hash": "2eea12c7",
        "is_code_hidden": false,
        "output_cleared": false,
        "execution_millis": 11,
        "deepnote_cell_type": "code"
      },
      "source": "'__next__' in dir(iter_l)",
      "outputs": [
        {
          "output_type": "execute_result",
          "execution_count": 111,
          "data": {
            "text/plain": "True"
          },
          "metadata": {}
        }
      ],
      "execution_count": null
    },
    {
      "cell_type": "code",
      "metadata": {
        "cell_id": "00192-27fe87c0-5a55-40bf-9586-1d3c9f0994b4",
        "deepnote_to_be_reexecuted": true,
        "source_hash": "37f59443",
        "is_code_hidden": false,
        "output_cleared": false,
        "execution_millis": 0,
        "deepnote_cell_type": "code"
      },
      "source": "'__iter__' in dir(iter_l)",
      "outputs": [
        {
          "output_type": "execute_result",
          "execution_count": 112,
          "data": {
            "text/plain": "True"
          },
          "metadata": {}
        }
      ],
      "execution_count": null
    },
    {
      "cell_type": "code",
      "metadata": {
        "cell_id": "00194-d9f7b32c-1b3f-49aa-8cb2-ef48bb30e774",
        "deepnote_to_be_reexecuted": true,
        "source_hash": "81bd95bb",
        "is_code_hidden": false,
        "output_cleared": false,
        "execution_millis": 0,
        "deepnote_cell_type": "code"
      },
      "source": "'__iter__' in dir(l)",
      "outputs": [
        {
          "output_type": "execute_result",
          "execution_count": 113,
          "data": {
            "text/plain": "True"
          },
          "metadata": {}
        }
      ],
      "execution_count": null
    },
    {
      "cell_type": "code",
      "metadata": {
        "cell_id": "00196-ae12f7f2-25da-4ad6-b5c2-260bf8305de8",
        "deepnote_to_be_reexecuted": true,
        "source_hash": "103606dd",
        "output_cleared": false,
        "is_code_hidden": false,
        "execution_millis": 0,
        "deepnote_cell_type": "code"
      },
      "source": "'__next__' in dir(l)",
      "outputs": [
        {
          "output_type": "execute_result",
          "execution_count": 114,
          "data": {
            "text/plain": "False"
          },
          "metadata": {}
        }
      ],
      "execution_count": null
    },
    {
      "cell_type": "code",
      "metadata": {
        "cell_id": "00198-7cf6be01-086a-4f78-b1be-58938959c448",
        "deepnote_to_be_reexecuted": true,
        "source_hash": "71ce091c",
        "is_code_hidden": false,
        "output_cleared": false,
        "execution_millis": 14,
        "deepnote_cell_type": "code"
      },
      "source": "'__getitem__' in dir(l)",
      "outputs": [
        {
          "output_type": "execute_result",
          "execution_count": 115,
          "data": {
            "text/plain": "True"
          },
          "metadata": {}
        }
      ],
      "execution_count": null
    },
    {
      "cell_type": "code",
      "metadata": {
        "cell_id": "00200-ba79a128-29d9-4def-b48e-5b2e35da86bb",
        "deepnote_to_be_reexecuted": true,
        "source_hash": "b2687ac0",
        "output_cleared": false,
        "is_code_hidden": false,
        "execution_millis": 46,
        "deepnote_cell_type": "code"
      },
      "source": "'__getitem__' in dir(set)",
      "outputs": [
        {
          "output_type": "execute_result",
          "execution_count": 116,
          "data": {
            "text/plain": "False"
          },
          "metadata": {}
        }
      ],
      "execution_count": null
    },
    {
      "cell_type": "code",
      "metadata": {
        "cell_id": "00201-210d6b71-049f-4a9d-9041-2133b6433277",
        "deepnote_to_be_reexecuted": true,
        "source_hash": "a2431aae",
        "is_code_hidden": false,
        "output_cleared": false,
        "execution_millis": 0,
        "deepnote_cell_type": "code"
      },
      "source": "'__iter__' in dir(set)",
      "outputs": [
        {
          "output_type": "execute_result",
          "execution_count": 117,
          "data": {
            "text/plain": "True"
          },
          "metadata": {}
        }
      ],
      "execution_count": null
    },
    {
      "cell_type": "code",
      "metadata": {
        "cell_id": "00202-61e23607-2a21-4f88-a323-bf5298443f8b",
        "deepnote_to_be_reexecuted": true,
        "source_hash": "91cd765c",
        "is_code_hidden": false,
        "output_cleared": false,
        "execution_millis": 11,
        "deepnote_cell_type": "code"
      },
      "source": "s = {1, 2, 3}\n'__next__' in dir(iter(s))",
      "outputs": [
        {
          "output_type": "execute_result",
          "execution_count": 118,
          "data": {
            "text/plain": "True"
          },
          "metadata": {}
        }
      ],
      "execution_count": null
    },
    {
      "cell_type": "code",
      "metadata": {
        "cell_id": "00203-0be728f5-65b2-4d1a-8890-0e3dfc4d1330",
        "deepnote_to_be_reexecuted": true,
        "source_hash": "2004a584",
        "is_code_hidden": false,
        "output_cleared": false,
        "execution_millis": 21,
        "deepnote_cell_type": "code"
      },
      "source": "'__iter__' in dir(dict)",
      "outputs": [
        {
          "output_type": "execute_result",
          "execution_count": 119,
          "data": {
            "text/plain": "True"
          },
          "metadata": {}
        }
      ],
      "execution_count": null
    },
    {
      "cell_type": "code",
      "metadata": {
        "collapsed": true,
        "cell_id": "00205-406ccbf5-359d-4c53-ba79-ce247203ff01",
        "deepnote_to_be_reexecuted": true,
        "source_hash": "8899363d",
        "is_code_hidden": false,
        "execution_millis": 0,
        "deepnote_cell_type": "code"
      },
      "source": "d = dict(a=1, b=2, c=3)",
      "outputs": [],
      "execution_count": null
    },
    {
      "cell_type": "code",
      "metadata": {
        "collapsed": true,
        "cell_id": "00206-20d3348c-24ca-4236-9d3a-78d7494a3a28",
        "deepnote_to_be_reexecuted": true,
        "source_hash": "56aa96b2",
        "is_code_hidden": false,
        "execution_millis": 8,
        "deepnote_cell_type": "code"
      },
      "source": "iter_d = iter(d)",
      "outputs": [],
      "execution_count": null
    },
    {
      "cell_type": "code",
      "metadata": {
        "cell_id": "00207-60a91496-9c2e-45d3-be60-554762f54a9c",
        "deepnote_to_be_reexecuted": true,
        "source_hash": "48582666",
        "is_code_hidden": false,
        "output_cleared": false,
        "execution_millis": 12,
        "deepnote_cell_type": "code"
      },
      "source": "next(iter_d)",
      "outputs": [
        {
          "output_type": "execute_result",
          "execution_count": 122,
          "data": {
            "text/plain": "'a'"
          },
          "metadata": {}
        }
      ],
      "execution_count": null
    },
    {
      "cell_type": "code",
      "metadata": {
        "collapsed": true,
        "cell_id": "00210-4528a95e-017a-4bcf-8433-63672d8382ff",
        "deepnote_to_be_reexecuted": true,
        "source_hash": "16dadfe1",
        "is_code_hidden": false,
        "execution_millis": 0,
        "deepnote_cell_type": "code"
      },
      "source": "iter_vals = iter(d.values())",
      "outputs": [],
      "execution_count": null
    },
    {
      "cell_type": "code",
      "metadata": {
        "cell_id": "00211-6bbc5ff6-28c0-468c-b9cc-1a804411181b",
        "deepnote_to_be_reexecuted": true,
        "source_hash": "a2918f5c",
        "is_code_hidden": false,
        "output_cleared": false,
        "execution_millis": 0,
        "deepnote_cell_type": "code"
      },
      "source": "next(iter_vals)",
      "outputs": [
        {
          "output_type": "execute_result",
          "execution_count": 124,
          "data": {
            "text/plain": "1"
          },
          "metadata": {}
        }
      ],
      "execution_count": null
    },
    {
      "cell_type": "code",
      "metadata": {
        "collapsed": true,
        "cell_id": "00213-3cbc7250-02da-4704-a708-fe0313f6a68c",
        "deepnote_to_be_reexecuted": true,
        "source_hash": "b782b19a",
        "is_code_hidden": false,
        "execution_millis": 0,
        "deepnote_cell_type": "code"
      },
      "source": "iter_items = iter(d.items())",
      "outputs": [],
      "execution_count": null
    },
    {
      "cell_type": "code",
      "metadata": {
        "cell_id": "00214-d65d1de6-da06-4689-88b8-f75decbc9ff8",
        "deepnote_to_be_reexecuted": true,
        "source_hash": "de95503",
        "is_code_hidden": false,
        "output_cleared": false,
        "execution_millis": 0,
        "deepnote_cell_type": "code"
      },
      "source": "next(iter_items)",
      "outputs": [
        {
          "output_type": "execute_result",
          "execution_count": 126,
          "data": {
            "text/plain": "('a', 1)"
          },
          "metadata": {}
        }
      ],
      "execution_count": null
    },
    {
      "cell_type": "markdown",
      "source": "### Consuming Iterators Manually",
      "metadata": {
        "cell_id": "00217-e661aa1b-b2d4-4c87-bc00-676b0538a7fe",
        "deepnote_cell_type": "markdown"
      }
    },
    {
      "cell_type": "code",
      "metadata": {
        "collapsed": true,
        "cell_id": "00220-3b9d149f-a620-4861-8f9e-5530b07c4556",
        "deepnote_to_be_reexecuted": true,
        "source_hash": "e9c0a0f5",
        "is_code_hidden": false,
        "execution_millis": 0,
        "deepnote_cell_type": "code"
      },
      "source": "s = 'I sleep all night, and I work all day'",
      "outputs": [],
      "execution_count": null
    },
    {
      "cell_type": "code",
      "metadata": {
        "collapsed": true,
        "cell_id": "00221-b887ecb5-53a4-458b-a0c3-ad007b27a53b",
        "deepnote_to_be_reexecuted": true,
        "source_hash": "8219bfc",
        "is_code_hidden": false,
        "execution_millis": 0,
        "deepnote_cell_type": "code"
      },
      "source": "iter_s = iter(s)",
      "outputs": [],
      "execution_count": null
    },
    {
      "cell_type": "code",
      "metadata": {
        "cell_id": "00222-1fc9e2cc-57d2-434d-9257-3f1953d331a7",
        "deepnote_to_be_reexecuted": true,
        "source_hash": "ac5d692d",
        "is_code_hidden": false,
        "output_cleared": false,
        "execution_millis": 1,
        "deepnote_cell_type": "code"
      },
      "source": "print(next(iter_s))\nprint(next(iter_s))\nprint(next(iter_s))\nprint(next(iter_s))\nprint(next(iter_s))",
      "outputs": [
        {
          "name": "stdout",
          "text": "I\n \ns\nl\ne\n",
          "output_type": "stream"
        }
      ],
      "execution_count": null
    },
    {
      "cell_type": "code",
      "metadata": {
        "cell_id": "00227-c87b0b42-5ba2-4a4c-a2f6-165fdd6b6b86",
        "deepnote_to_be_reexecuted": true,
        "source_hash": "498df337",
        "output_cleared": false,
        "is_code_hidden": false,
        "execution_millis": 52,
        "deepnote_cell_type": "code"
      },
      "source": "with open('cars.csv') as file:\n    for line in file:\n        print(line)    ",
      "outputs": [
        {
          "name": "stdout",
          "text": "Car;MPG;Cylinders;Displacement;Horsepower;Weight;Acceleration;Model;Origin\n\nSTRING;DOUBLE;INT;DOUBLE;DOUBLE;DOUBLE;DOUBLE;INT;CAT\n\nChevrolet Chevelle Malibu;18.0;8;307.0;130.0;3504.;12.0;70;US\n\nBuick Skylark 320;15.0;8;350.0;165.0;3693.;11.5;70;US\n\nPlymouth Satellite;18.0;8;318.0;150.0;3436.;11.0;70;US\n\nAMC Rebel SST;16.0;8;304.0;150.0;3433.;12.0;70;US\n\nFord Torino;17.0;8;302.0;140.0;3449.;10.5;70;US\n\nFord Galaxie 500;15.0;8;429.0;198.0;4341.;10.0;70;US\n\nChevrolet Impala;14.0;8;454.0;220.0;4354.;9.0;70;US\n\nPlymouth Fury iii;14.0;8;440.0;215.0;4312.;8.5;70;US\n\nPontiac Catalina;14.0;8;455.0;225.0;4425.;10.0;70;US\n\nAMC Ambassador DPL;15.0;8;390.0;190.0;3850.;8.5;70;US\n\nCitroen DS-21 Pallas;0;4;133.0;115.0;3090.;17.5;70;Europe\n\nChevrolet Chevelle Concours (sw);0;8;350.0;165.0;4142.;11.5;70;US\n\nFord Torino (sw);0;8;351.0;153.0;4034.;11.0;70;US\n\nPlymouth Satellite (sw);0;8;383.0;175.0;4166.;10.5;70;US\n\nAMC Rebel SST (sw);0;8;360.0;175.0;3850.;11.0;70;US\n\nDodge Challenger SE;15.0;8;383.0;170.0;3563.;10.0;70;US\n\nPlymouth 'Cuda 340;14.0;8;340.0;160.0;3609.;8.0;70;US\n\nFord Mustang Boss 302;0;8;302.0;140.0;3353.;8.0;70;US\n\nChevrolet Monte Carlo;15.0;8;400.0;150.0;3761.;9.5;70;US\n\nBuick Estate Wagon (sw);14.0;8;455.0;225.0;3086.;10.0;70;US\n\nToyota Corolla Mark ii;24.0;4;113.0;95.00;2372.;15.0;70;Japan\n\nPlymouth Duster;22.0;6;198.0;95.00;2833.;15.5;70;US\n\nAMC Hornet;18.0;6;199.0;97.00;2774.;15.5;70;US\n\nFord Maverick;21.0;6;200.0;85.00;2587.;16.0;70;US\n\nDatsun PL510;27.0;4;97.00;88.00;2130.;14.5;70;Japan\n\nVolkswagen 1131 Deluxe Sedan;26.0;4;97.00;46.00;1835.;20.5;70;Europe\n\nPeugeot 504;25.0;4;110.0;87.00;2672.;17.5;70;Europe\n\nAudi 100 LS;24.0;4;107.0;90.00;2430.;14.5;70;Europe\n\nSaab 99e;25.0;4;104.0;95.00;2375.;17.5;70;Europe\n\nBMW 2002;26.0;4;121.0;113.0;2234.;12.5;70;Europe\n\nAMC Gremlin;21.0;6;199.0;90.00;2648.;15.0;70;US\n\nFord F250;10.0;8;360.0;215.0;4615.;14.0;70;US\n\nChevy C20;10.0;8;307.0;200.0;4376.;15.0;70;US\n\nDodge D200;11.0;8;318.0;210.0;4382.;13.5;70;US\n\nHi 1200D;9.0;8;304.0;193.0;4732.;18.5;70;US\n\nDatsun PL510;27.0;4;97.00;88.00;2130.;14.5;71;Japan\n\nChevrolet Vega 2300;28.0;4;140.0;90.00;2264.;15.5;71;US\n\nToyota Corolla;25.0;4;113.0;95.00;2228.;14.0;71;Japan\n\nFord Pinto;25.0;4;98.00;0;2046.;19.0;71;US\n\nVolkswagen Super Beetle 117;0;4;97.00;48.00;1978.;20.0;71;Europe\n\nAMC Gremlin;19.0;6;232.0;100.0;2634.;13.0;71;US\n\nPlymouth Satellite Custom;16.0;6;225.0;105.0;3439.;15.5;71;US\n\nChevrolet Chevelle Malibu;17.0;6;250.0;100.0;3329.;15.5;71;US\n\nFord Torino 500;19.0;6;250.0;88.00;3302.;15.5;71;US\n\nAMC Matador;18.0;6;232.0;100.0;3288.;15.5;71;US\n\nChevrolet Impala;14.0;8;350.0;165.0;4209.;12.0;71;US\n\nPontiac Catalina Brougham;14.0;8;400.0;175.0;4464.;11.5;71;US\n\nFord Galaxie 500;14.0;8;351.0;153.0;4154.;13.5;71;US\n\nPlymouth Fury iii;14.0;8;318.0;150.0;4096.;13.0;71;US\n\nDodge Monaco (sw);12.0;8;383.0;180.0;4955.;11.5;71;US\n\nFord Country Squire (sw);13.0;8;400.0;170.0;4746.;12.0;71;US\n\nPontiac Safari (sw);13.0;8;400.0;175.0;5140.;12.0;71;US\n\nAMC Hornet Sportabout (sw);18.0;6;258.0;110.0;2962.;13.5;71;US\n\nChevrolet Vega (sw);22.0;4;140.0;72.00;2408.;19.0;71;US\n\nPontiac Firebird;19.0;6;250.0;100.0;3282.;15.0;71;US\n\nFord Mustang;18.0;6;250.0;88.00;3139.;14.5;71;US\n\nMercury Capri 2000;23.0;4;122.0;86.00;2220.;14.0;71;US\n\nOpel 1900;28.0;4;116.0;90.00;2123.;14.0;71;Europe\n\nPeugeot 304;30.0;4;79.00;70.00;2074.;19.5;71;Europe\n\nFiat 124B;30.0;4;88.00;76.00;2065.;14.5;71;Europe\n\nToyota Corolla 1200;31.0;4;71.00;65.00;1773.;19.0;71;Japan\n\nDatsun 1200;35.0;4;72.00;69.00;1613.;18.0;71;Japan\n\nVolkswagen Model 111;27.0;4;97.00;60.00;1834.;19.0;71;Europe\n\nPlymouth Cricket;26.0;4;91.00;70.00;1955.;20.5;71;US\n\nToyota Corolla Hardtop;24.0;4;113.0;95.00;2278.;15.5;72;Japan\n\nDodge Colt Hardtop;25.0;4;97.50;80.00;2126.;17.0;72;US\n\nVolkswagen Type 3;23.0;4;97.00;54.00;2254.;23.5;72;Europe\n\nChevrolet Vega;20.0;4;140.0;90.00;2408.;19.5;72;US\n\nFord Pinto Runabout;21.0;4;122.0;86.00;2226.;16.5;72;US\n\nChevrolet Impala;13.0;8;350.0;165.0;4274.;12.0;72;US\n\nPontiac Catalina;14.0;8;400.0;175.0;4385.;12.0;72;US\n\nPlymouth Fury III;15.0;8;318.0;150.0;4135.;13.5;72;US\n\nFord Galaxie 500;14.0;8;351.0;153.0;4129.;13.0;72;US\n\nAMC Ambassador SST;17.0;8;304.0;150.0;3672.;11.5;72;US\n\nMercury Marquis;11.0;8;429.0;208.0;4633.;11.0;72;US\n\nBuick LeSabre Custom;13.0;8;350.0;155.0;4502.;13.5;72;US\n\nOldsmobile Delta 88 Royale;12.0;8;350.0;160.0;4456.;13.5;72;US\n\nChrysler Newport Royal;13.0;8;400.0;190.0;4422.;12.5;72;US\n\nMazda RX2 Coupe;19.0;3;70.00;97.00;2330.;13.5;72;Japan\n\nAMC Matador (sw);15.0;8;304.0;150.0;3892.;12.5;72;US\n\nChevrolet Chevelle Concours (sw);13.0;8;307.0;130.0;4098.;14.0;72;US\n\nFord Gran Torino (sw);13.0;8;302.0;140.0;4294.;16.0;72;US\n\nPlymouth Satellite Custom (sw);14.0;8;318.0;150.0;4077.;14.0;72;US\n\nVolvo 145e (sw);18.0;4;121.0;112.0;2933.;14.5;72;Europe\n\nVolkswagen 411 (sw);22.0;4;121.0;76.00;2511.;18.0;72;Europe\n\nPeugeot 504 (sw);21.0;4;120.0;87.00;2979.;19.5;72;Europe\n\nRenault 12 (sw);26.0;4;96.00;69.00;2189.;18.0;72;Europe\n\nFord Pinto (sw);22.0;4;122.0;86.00;2395.;16.0;72;US\n\nDatsun 510 (sw);28.0;4;97.00;92.00;2288.;17.0;72;Japan\n\nToyota Corolla Mark II (sw);23.0;4;120.0;97.00;2506.;14.5;72;Japan\n\nDodge Colt (sw);28.0;4;98.00;80.00;2164.;15.0;72;US\n\nToyota Corolla 1600 (sw);27.0;4;97.00;88.00;2100.;16.5;72;Japan\n\nBuick Century 350;13.0;8;350.0;175.0;4100.;13.0;73;US\n\nAMC Matador;14.0;8;304.0;150.0;3672.;11.5;73;US\n\nChevrolet Malibu;13.0;8;350.0;145.0;3988.;13.0;73;US\n\nFord Gran Torino;14.0;8;302.0;137.0;4042.;14.5;73;US\n\nDodge Coronet Custom;15.0;8;318.0;150.0;3777.;12.5;73;US\n\nMercury Marquis Brougham;12.0;8;429.0;198.0;4952.;11.5;73;US\n\nChevrolet Caprice Classic;13.0;8;400.0;150.0;4464.;12.0;73;US\n\nFord LTD;13.0;8;351.0;158.0;4363.;13.0;73;US\n\nPlymouth Fury Gran Sedan;14.0;8;318.0;150.0;4237.;14.5;73;US\n\nChrysler New Yorker Brougham;13.0;8;440.0;215.0;4735.;11.0;73;US\n\nBuick Electra 225 Custom;12.0;8;455.0;225.0;4951.;11.0;73;US\n\nAMC Ambassador Brougham;13.0;8;360.0;175.0;3821.;11.0;73;US\n\nPlymouth Valiant;18.0;6;225.0;105.0;3121.;16.5;73;US\n\nChevrolet Nova Custom;16.0;6;250.0;100.0;3278.;18.0;73;US\n\nAMC Hornet;18.0;6;232.0;100.0;2945.;16.0;73;US\n\nFord Maverick;18.0;6;250.0;88.00;3021.;16.5;73;US\n\nPlymouth Duster;23.0;6;198.0;95.00;2904.;16.0;73;US\n\nVolkswagen Super Beetle;26.0;4;97.00;46.00;1950.;21.0;73;Europe\n\nChevrolet Impala;11.0;8;400.0;150.0;4997.;14.0;73;US\n\nFord Country;12.0;8;400.0;167.0;4906.;12.5;73;US\n\nPlymouth Custom Suburb;13.0;8;360.0;170.0;4654.;13.0;73;US\n\nOldsmobile Vista Cruiser;12.0;8;350.0;180.0;4499.;12.5;73;US\n\nAMC Gremlin;18.0;6;232.0;100.0;2789.;15.0;73;US\n\nToyota Camry;20.0;4;97.00;88.00;2279.;19.0;73;Japan\n\nChevrolet Vega;21.0;4;140.0;72.00;2401.;19.5;73;US\n\nDatsun 610;22.0;4;108.0;94.00;2379.;16.5;73;Japan\n\nMazda RX3;18.0;3;70.00;90.00;2124.;13.5;73;Japan\n\nFord Pinto;19.0;4;122.0;85.00;2310.;18.5;73;US\n\nMercury Capri v6;21.0;6;155.0;107.0;2472.;14.0;73;US\n\nFiat 124 Sport Coupe;26.0;4;98.00;90.00;2265.;15.5;73;Europe\n\nChevrolet Monte Carlo S;15.0;8;350.0;145.0;4082.;13.0;73;US\n\nPontiac Grand Prix;16.0;8;400.0;230.0;4278.;9.50;73;US\n\nFiat 128;29.0;4;68.00;49.00;1867.;19.5;73;Europe\n\nOpel Manta;24.0;4;116.0;75.00;2158.;15.5;73;Europe\n\nAudi 100LS;20.0;4;114.0;91.00;2582.;14.0;73;Europe\n\nVolvo 144ea;19.0;4;121.0;112.0;2868.;15.5;73;Europe\n\nDodge Dart Custom;15.0;8;318.0;150.0;3399.;11.0;73;US\n\nSaab 99le;24.0;4;121.0;110.0;2660.;14.0;73;Europe\n\nToyota Mark II;20.0;6;156.0;122.0;2807.;13.5;73;Japan\n\nOldsmobile Omega;11.0;8;350.0;180.0;3664.;11.0;73;US\n\nPlymouth Duster;20.0;6;198.0;95.00;3102.;16.5;74;US\n\nFord Maverick;21.0;6;200.0;0;2875.;17.0;74;US\n\nAMC Hornet;19.0;6;232.0;100.0;2901.;16.0;74;US\n\nChevrolet Nova;15.0;6;250.0;100.0;3336.;17.0;74;US\n\nDatsun B210;31.0;4;79.00;67.00;1950.;19.0;74;Japan\n\nFord Pinto;26.0;4;122.0;80.00;2451.;16.5;74;US\n\nToyota Corolla 1200;32.0;4;71.00;65.00;1836.;21.0;74;Japan\n\nChevrolet Vega;25.0;4;140.0;75.00;2542.;17.0;74;US\n\nChevrolet Chevelle Malibu Classic;16.0;6;250.0;100.0;3781.;17.0;74;US\n\nAMC Matador;16.0;6;258.0;110.0;3632.;18.0;74;US\n\nPlymouth Satellite Sebring;18.0;6;225.0;105.0;3613.;16.5;74;US\n\nFord Gran Torino;16.0;8;302.0;140.0;4141.;14.0;74;US\n\nBuick Century Luxus (sw);13.0;8;350.0;150.0;4699.;14.5;74;US\n\nDodge Coronet Custom (sw);14.0;8;318.0;150.0;4457.;13.5;74;US\n\nFord Gran Torino (sw);14.0;8;302.0;140.0;4638.;16.0;74;US\n\nAMC Matador (sw);14.0;8;304.0;150.0;4257.;15.5;74;US\n\nAudi Fox;29.0;4;98.00;83.00;2219.;16.5;74;Europe\n\nVolkswagen Dasher;26.0;4;79.00;67.00;1963.;15.5;74;Europe\n\nOpel Manta;26.0;4;97.00;78.00;2300.;14.5;74;Europe\n\nToyota Corolla;31.0;4;76.00;52.00;1649.;16.5;74;Japan\n\nDatsun 710;32.0;4;83.00;61.00;2003.;19.0;74;Japan\n\nDodge Colt;28.0;4;90.00;75.00;2125.;14.5;74;US\n\nFiat 128;24.0;4;90.00;75.00;2108.;15.5;74;Europe\n\nFiat 124 TC;26.0;4;116.0;75.00;2246.;14.0;74;Europe\n\nHonda Civic;24.0;4;120.0;97.00;2489.;15.0;74;Japan\n\nSubaru;26.0;4;108.0;93.00;2391.;15.5;74;Japan\n\nFiat x1.9;31.0;4;79.00;67.00;2000.;16.0;74;Europe\n\nPlymouth Valiant Custom;19.0;6;225.0;95.00;3264.;16.0;75;US\n\nChevrolet Nova;18.0;6;250.0;105.0;3459.;16.0;75;US\n\nMercury Monarch;15.0;6;250.0;72.00;3432.;21.0;75;US\n\nFord Maverick;15.0;6;250.0;72.00;3158.;19.5;75;US\n\nPontiac Catalina;16.0;8;400.0;170.0;4668.;11.5;75;US\n\nChevrolet Bel Air;15.0;8;350.0;145.0;4440.;14.0;75;US\n\nPlymouth Grand Fury;16.0;8;318.0;150.0;4498.;14.5;75;US\n\nFord LTD;14.0;8;351.0;148.0;4657.;13.5;75;US\n\nBuick Century;17.0;6;231.0;110.0;3907.;21.0;75;US\n\nChevrolete Chevelle Malibu;16.0;6;250.0;105.0;3897.;18.5;75;US\n\nAMC Matador;15.0;6;258.0;110.0;3730.;19.0;75;US\n\nPlymouth Fury;18.0;6;225.0;95.00;3785.;19.0;75;US\n\nBuick Skyhawk;21.0;6;231.0;110.0;3039.;15.0;75;US\n\nChevrolet Monza 2+2;20.0;8;262.0;110.0;3221.;13.5;75;US\n\nFord Mustang II;13.0;8;302.0;129.0;3169.;12.0;75;US\n\nToyota Corolla;29.0;4;97.00;75.00;2171.;16.0;75;Japan\n\nFord Pinto;23.0;4;140.0;83.00;2639.;17.0;75;US\n\nAMC Gremlin;20.0;6;232.0;100.0;2914.;16.0;75;US\n\nPontiac Astro;23.0;4;140.0;78.00;2592.;18.5;75;US\n\nToyota Corolla;24.0;4;134.0;96.00;2702.;13.5;75;Japan\n\nVolkswagen Dasher;25.0;4;90.00;71.00;2223.;16.5;75;Europe\n\nDatsun 710;24.0;4;119.0;97.00;2545.;17.0;75;Japan\n\nFord Pinto;18.0;6;171.0;97.00;2984.;14.5;75;US\n\nVolkswagen Rabbit;29.0;4;90.00;70.00;1937.;14.0;75;Europe\n\nAMC Pacer;19.0;6;232.0;90.00;3211.;17.0;75;US\n\nAudi 100LS;23.0;4;115.0;95.00;2694.;15.0;75;Europe\n\nPeugeot 504;23.0;4;120.0;88.00;2957.;17.0;75;Europe\n\nVolvo 244DL;22.0;4;121.0;98.00;2945.;14.5;75;Europe\n\nSaab 99LE;25.0;4;121.0;115.0;2671.;13.5;75;Europe\n\nHonda Civic CVCC;33.0;4;91.00;53.00;1795.;17.5;75;Japan\n\nFiat 131;28.0;4;107.0;86.00;2464.;15.5;76;Europe\n\nOpel 1900;25.0;4;116.0;81.00;2220.;16.9;76;Europe\n\nCapri ii;25.0;4;140.0;92.00;2572.;14.9;76;US\n\nDodge Colt;26.0;4;98.00;79.00;2255.;17.7;76;US\n\nRenault 12tl;27.0;4;101.0;83.00;2202.;15.3;76;Europe\n\nChevrolet Chevelle Malibu Classic;17.5;8;305.0;140.0;4215.;13.0;76;US\n\nDodge Coronet Brougham;16.0;8;318.0;150.0;4190.;13.0;76;US\n\nAMC Matador;15.5;8;304.0;120.0;3962.;13.9;76;US\n\nFord Gran Torino;14.5;8;351.0;152.0;4215.;12.8;76;US\n\nPlymouth Valiant;22.0;6;225.0;100.0;3233.;15.4;76;US\n\nChevrolet Nova;22.0;6;250.0;105.0;3353.;14.5;76;US\n\nFord Maverick;24.0;6;200.0;81.00;3012.;17.6;76;US\n\nAMC Hornet;22.5;6;232.0;90.00;3085.;17.6;76;US\n\nChevrolet Chevette;29.0;4;85.00;52.00;2035.;22.2;76;US\n\nChevrolet Woody;24.5;4;98.00;60.00;2164.;22.1;76;US\n\nVolkswagen Rabbit;29.0;4;90.00;70.00;1937.;14.2;76;Europe\n\nHonda Civic;33.0;4;91.00;53.00;1795.;17.4;76;Japan\n\nDodge Aspen SE;20.0;6;225.0;100.0;3651.;17.7;76;US\n\nFord Grenada ghia;18.0;6;250.0;78.00;3574.;21.0;76;US\n\nPontiac Ventura SJ;18.5;6;250.0;110.0;3645.;16.2;76;US\n\nAMC Pacer d/l;17.5;6;258.0;95.00;3193.;17.8;76;US\n\nVolkswagen Rabbit;29.5;4;97.00;71.00;1825.;12.2;76;Europe\n\nDatsun B-210;32.0;4;85.00;70.00;1990.;17.0;76;Japan\n\nToyota Corolla;28.0;4;97.00;75.00;2155.;16.4;76;Japan\n\nFord Pinto;26.5;4;140.0;72.00;2565.;13.6;76;US\n\nVolvo 245;20.0;4;130.0;102.0;3150.;15.7;76;Europe\n\nPlymouth Volare Premier v8;13.0;8;318.0;150.0;3940.;13.2;76;US\n\nPeugeot 504;19.0;4;120.0;88.00;3270.;21.9;76;Europe\n\nToyota Mark II;19.0;6;156.0;108.0;2930.;15.5;76;Japan\n\nMercedes-Benz 280s;16.5;6;168.0;120.0;3820.;16.7;76;Europe\n\nCadillac Seville;16.5;8;350.0;180.0;4380.;12.1;76;US\n\nChevrolet C10;13.0;8;350.0;145.0;4055.;12.0;76;US\n\nFord F108;13.0;8;302.0;130.0;3870.;15.0;76;US\n\nDodge D100;13.0;8;318.0;150.0;3755.;14.0;76;US\n\nHonda Accord CVCC;31.5;4;98.00;68.00;2045.;18.5;77;Japan\n\nBuick Opel Isuzu Deluxe;30.0;4;111.0;80.00;2155.;14.8;77;US\n\nRenault 5 GTL;36.0;4;79.00;58.00;1825.;18.6;77;Europe\n\nPlymouth Arrow GS;25.5;4;122.0;96.00;2300.;15.5;77;US\n\nDatsun F-10 Hatchback;33.5;4;85.00;70.00;1945.;16.8;77;Japan\n\nChevrolet Caprice Classic;17.5;8;305.0;145.0;3880.;12.5;77;US\n\nOldsmobile Cutlass Supreme;17.0;8;260.0;110.0;4060.;19.0;77;US\n\nDodge Monaco Brougham;15.5;8;318.0;145.0;4140.;13.7;77;US\n\nMercury Cougar Brougham;15.0;8;302.0;130.0;4295.;14.9;77;US\n\nChevrolet Concours;17.5;6;250.0;110.0;3520.;16.4;77;US\n\nBuick Skylark;20.5;6;231.0;105.0;3425.;16.9;77;US\n\nPlymouth Volare Custom;19.0;6;225.0;100.0;3630.;17.7;77;US\n\nFord Grenada;18.5;6;250.0;98.00;3525.;19.0;77;US\n\nPontiac Grand Prix LJ;16.0;8;400.0;180.0;4220.;11.1;77;US\n\nChevrolet Monte Carlo Landau;15.5;8;350.0;170.0;4165.;11.4;77;US\n\nChrysler Cordoba;15.5;8;400.0;190.0;4325.;12.2;77;US\n\nFord Thunderbird;16.0;8;351.0;149.0;4335.;14.5;77;US\n\nVolkswagen Rabbit Custom;29.0;4;97.00;78.00;1940.;14.5;77;Europe\n\nPontiac Sunbird Coupe;24.5;4;151.0;88.00;2740.;16.0;77;US\n\nToyota Corolla Liftback;26.0;4;97.00;75.00;2265.;18.2;77;Japan\n\nFord Mustang II 2+2;25.5;4;140.0;89.00;2755.;15.8;77;US\n\nChevrolet Chevette;30.5;4;98.00;63.00;2051.;17.0;77;US\n\nDodge Colt m/m;33.5;4;98.00;83.00;2075.;15.9;77;US\n\nSubaru DL;30.0;4;97.00;67.00;1985.;16.4;77;Japan\n\nVolkswagen Dasher;30.5;4;97.00;78.00;2190.;14.1;77;Europe\n\nDatsun 810;22.0;6;146.0;97.00;2815.;14.5;77;Japan\n\nBMW 320i;21.5;4;121.0;110.0;2600.;12.8;77;Europe\n\nMazda RX-4;21.5;3;80.00;110.0;2720.;13.5;77;Japan\n\nVolkswagen Rabbit Custom Diesel;43.1;4;90.00;48.00;1985.;21.5;78;Europe\n\nFord Fiesta;36.1;4;98.00;66.00;1800.;14.4;78;US\n\nMazda GLC Deluxe;32.8;4;78.00;52.00;1985.;19.4;78;Japan\n\nDatsun B210 GX;39.4;4;85.00;70.00;2070.;18.6;78;Japan\n\nHonda Civic CVCC;36.1;4;91.00;60.00;1800.;16.4;78;Japan\n\nOldsmobile Cutlass Salon Brougham;19.9;8;260.0;110.0;3365.;15.5;78;US\n\nDodge Diplomat;19.4;8;318.0;140.0;3735.;13.2;78;US\n\nMercury Monarch ghia;20.2;8;302.0;139.0;3570.;12.8;78;US\n\nPontiac Phoenix LJ;19.2;6;231.0;105.0;3535.;19.2;78;US\n\nChevrolet Malibu;20.5;6;200.0;95.00;3155.;18.2;78;US\n\nFord Fairmont (auto);20.2;6;200.0;85.00;2965.;15.8;78;US\n\nFord Fairmont (man);25.1;4;140.0;88.00;2720.;15.4;78;US\n\nPlymouth Volare;20.5;6;225.0;100.0;3430.;17.2;78;US\n\nAMC Concord;19.4;6;232.0;90.00;3210.;17.2;78;US\n\nBuick Century Special;20.6;6;231.0;105.0;3380.;15.8;78;US\n\nMercury Zephyr;20.8;6;200.0;85.00;3070.;16.7;78;US\n\nDodge Aspen;18.6;6;225.0;110.0;3620.;18.7;78;US\n\nAMC Concord d/l;18.1;6;258.0;120.0;3410.;15.1;78;US\n\nChevrolet Monte Carlo Landau;19.2;8;305.0;145.0;3425.;13.2;78;US\n\nBuick Regal Sport Coupe (turbo);17.7;6;231.0;165.0;3445.;13.4;78;US\n\nFord Futura;18.1;8;302.0;139.0;3205.;11.2;78;US\n\nDodge Magnum XE;17.5;8;318.0;140.0;4080.;13.7;78;US\n\nChevrolet Chevette;30.0;4;98.00;68.00;2155.;16.5;78;US\n\nToyota Corolla;27.5;4;134.0;95.00;2560.;14.2;78;Japan\n\nDatsun 510;27.2;4;119.0;97.00;2300.;14.7;78;Japan\n\nDodge Omni;30.9;4;105.0;75.00;2230.;14.5;78;US\n\nToyota Celica GT Liftback;21.1;4;134.0;95.00;2515.;14.8;78;Japan\n\nPlymouth Sapporo;23.2;4;156.0;105.0;2745.;16.7;78;US\n\nOldsmobile Starfire SX;23.8;4;151.0;85.00;2855.;17.6;78;US\n\nDatsun 200-SX;23.9;4;119.0;97.00;2405.;14.9;78;Japan\n\nAudi 5000;20.3;5;131.0;103.0;2830.;15.9;78;Europe\n\nVolvo 264gl;17.0;6;163.0;125.0;3140.;13.6;78;Europe\n\nSaab 99gle;21.6;4;121.0;115.0;2795.;15.7;78;Europe\n\nPeugeot 604sl;16.2;6;163.0;133.0;3410.;15.8;78;Europe\n\nVolkswagen Scirocco;31.5;4;89.00;71.00;1990.;14.9;78;Europe\n\nHonda Accord LX;29.5;4;98.00;68.00;2135.;16.6;78;Japan\n\nPontiac Lemans V6;21.5;6;231.0;115.0;3245.;15.4;79;US\n\nMercury Zephyr 6;19.8;6;200.0;85.00;2990.;18.2;79;US\n\nFord Fairmont 4;22.3;4;140.0;88.00;2890.;17.3;79;US\n\nAMC Concord DL 6;20.2;6;232.0;90.00;3265.;18.2;79;US\n\nDodge Aspen 6;20.6;6;225.0;110.0;3360.;16.6;79;US\n\nChevrolet Caprice Classic;17.0;8;305.0;130.0;3840.;15.4;79;US\n\nFord LTD Landau;17.6;8;302.0;129.0;3725.;13.4;79;US\n\nMercury Grand Marquis;16.5;8;351.0;138.0;3955.;13.2;79;US\n\nDodge St. Regis;18.2;8;318.0;135.0;3830.;15.2;79;US\n\nBuick Estate Wagon (sw);16.9;8;350.0;155.0;4360.;14.9;79;US\n\nFord Country Squire (sw);15.5;8;351.0;142.0;4054.;14.3;79;US\n\nChevrolet Malibu Classic (sw);19.2;8;267.0;125.0;3605.;15.0;79;US\n\nChrysler Lebaron Town @ Country (sw);18.5;8;360.0;150.0;3940.;13.0;79;US\n\nVolkswagen Rabbit Custom;31.9;4;89.00;71.00;1925.;14.0;79;Europe\n\nMazda GLC Deluxe;34.1;4;86.00;65.00;1975.;15.2;79;Japan\n\nDodge Colt Hatchback Custom;35.7;4;98.00;80.00;1915.;14.4;79;US\n\nAMC Spirit DL;27.4;4;121.0;80.00;2670.;15.0;79;US\n\nMercedes Benz 300d;25.4;5;183.0;77.00;3530.;20.1;79;Europe\n\nCadillac Eldorado;23.0;8;350.0;125.0;3900.;17.4;79;US\n\nPeugeot 504;27.2;4;141.0;71.00;3190.;24.8;79;Europe\n\nOldsmobile Cutlass Salon Brougham;23.9;8;260.0;90.00;3420.;22.2;79;US\n\nPlymouth Horizon;34.2;4;105.0;70.00;2200.;13.2;79;US\n\nPlymouth Horizon TC3;34.5;4;105.0;70.00;2150.;14.9;79;US\n\nDatsun 210;31.8;4;85.00;65.00;2020.;19.2;79;Japan\n\nFiat Strada Custom;37.3;4;91.00;69.00;2130.;14.7;79;Europe\n\nBuick Skylark Limited;28.4;4;151.0;90.00;2670.;16.0;79;US\n\nChevrolet Citation;28.8;6;173.0;115.0;2595.;11.3;79;US\n\nOldsmobile Omega Brougham;26.8;6;173.0;115.0;2700.;12.9;79;US\n\nPontiac Phoenix;33.5;4;151.0;90.00;2556.;13.2;79;US\n\nVolkswagen Rabbit;41.5;4;98.00;76.00;2144.;14.7;80;Europe\n\nToyota Corolla Tercel;38.1;4;89.00;60.00;1968.;18.8;80;Japan\n\nChevrolet Chevette;32.1;4;98.00;70.00;2120.;15.5;80;US\n\nDatsun 310;37.2;4;86.00;65.00;2019.;16.4;80;Japan\n\nChevrolet Citation;28.0;4;151.0;90.00;2678.;16.5;80;US\n\nFord Fairmont;26.4;4;140.0;88.00;2870.;18.1;80;US\n\nAMC Concord;24.3;4;151.0;90.00;3003.;20.1;80;US\n\nDodge Aspen;19.1;6;225.0;90.00;3381.;18.7;80;US\n\nAudi 4000;34.3;4;97.00;78.00;2188.;15.8;80;Europe\n\nToyota Corolla Liftback;29.8;4;134.0;90.00;2711.;15.5;80;Japan\n\nMazda 626;31.3;4;120.0;75.00;2542.;17.5;80;Japan\n\nDatsun 510 Hatchback;37.0;4;119.0;92.00;2434.;15.0;80;Japan\n\nToyota Corolla;32.2;4;108.0;75.00;2265.;15.2;80;Japan\n\nMazda GLC;46.6;4;86.00;65.00;2110.;17.9;80;Japan\n\nDodge Colt;27.9;4;156.0;105.0;2800.;14.4;80;US\n\nDatsun 210;40.8;4;85.00;65.00;2110.;19.2;80;Japan\n\nVolkswagen Rabbit C (Diesel);44.3;4;90.00;48.00;2085.;21.7;80;Europe\n\nVolkswagen Dasher (diesel);43.4;4;90.00;48.00;2335.;23.7;80;Europe\n\nAudi 5000s (diesel);36.4;5;121.0;67.00;2950.;19.9;80;Europe\n\nMercedes-Benz 240d;30.0;4;146.0;67.00;3250.;21.8;80;Europe\n\nHonda Civic 1500 gl;44.6;4;91.00;67.00;1850.;13.8;80;Japan\n\nRenault Lecar Deluxe;40.9;4;85.00;0;1835.;17.3;80;Europe\n\nSubaru DL;33.8;4;97.00;67.00;2145.;18.0;80;Japan\n\nVolkswagen Rabbit;29.8;4;89.00;62.00;1845.;15.3;80;Europe\n\nDatsun 280-ZX;32.7;6;168.0;132.0;2910.;11.4;80;Japan\n\nMazda RX-7 GS;23.7;3;70.00;100.0;2420.;12.5;80;Japan\n\nTriumph TR7 Coupe;35.0;4;122.0;88.00;2500.;15.1;80;Europe\n\nFord Mustang Cobra;23.6;4;140.0;0;2905.;14.3;80;US\n\nHonda Accord;32.4;4;107.0;72.00;2290.;17.0;80;Japan\n\nPlymouth Reliant;27.2;4;135.0;84.00;2490.;15.7;81;US\n\nBuick Skylark;26.6;4;151.0;84.00;2635.;16.4;81;US\n\nDodge Aries Wagon (sw);25.8;4;156.0;92.00;2620.;14.4;81;US\n\nChevrolet Citation;23.5;6;173.0;110.0;2725.;12.6;81;US\n\nPlymouth Reliant;30.0;4;135.0;84.00;2385.;12.9;81;US\n\nToyota Starlet;39.1;4;79.00;58.00;1755.;16.9;81;Japan\n\nPlymouth Champ;39.0;4;86.00;64.00;1875.;16.4;81;US\n\nHonda Civic 1300;35.1;4;81.00;60.00;1760.;16.1;81;Japan\n\nSubaru;32.3;4;97.00;67.00;2065.;17.8;81;Japan\n\nDatsun 210 MPG;37.0;4;85.00;65.00;1975.;19.4;81;Japan\n\nToyota Tercel;37.7;4;89.00;62.00;2050.;17.3;81;Japan\n\nMazda GLC 4;34.1;4;91.00;68.00;1985.;16.0;81;Japan\n\nPlymouth Horizon 4;34.7;4;105.0;63.00;2215.;14.9;81;US\n\nFord Escort 4W;34.4;4;98.00;65.00;2045.;16.2;81;US\n\nFord Escort 2H;29.9;4;98.00;65.00;2380.;20.7;81;US\n\nVolkswagen Jetta;33.0;4;105.0;74.00;2190.;14.2;81;Europe\n\nRenault 18i;34.5;4;100.0;0;2320.;15.8;81;Europe\n\nHonda Prelude;33.7;4;107.0;75.00;2210.;14.4;81;Japan\n\nToyota Corolla;32.4;4;108.0;75.00;2350.;16.8;81;Japan\n\nDatsun 200SX;32.9;4;119.0;100.0;2615.;14.8;81;Japan\n\nMazda 626;31.6;4;120.0;74.00;2635.;18.3;81;Japan\n\nPeugeot 505s Turbo Diesel;28.1;4;141.0;80.00;3230.;20.4;81;Europe\n\nSaab 900s;0;4;121.0;110.0;2800.;15.4;81;Europe\n\nVolvo Diesel;30.7;6;145.0;76.00;3160.;19.6;81;Europe\n\nToyota Cressida;25.4;6;168.0;116.0;2900.;12.6;81;Japan\n\nDatsun 810 Maxima;24.2;6;146.0;120.0;2930.;13.8;81;Japan\n\nBuick Century;22.4;6;231.0;110.0;3415.;15.8;81;US\n\nOldsmobile Cutlass LS;26.6;8;350.0;105.0;3725.;19.0;81;US\n\nFord Grenada gl;20.2;6;200.0;88.00;3060.;17.1;81;US\n\nChrysler Lebaron Salon;17.6;6;225.0;85.00;3465.;16.6;81;US\n\nChevrolet Cavalier;28.0;4;112.0;88.00;2605.;19.6;82;US\n\nChevrolet Cavalier Wagon;27.0;4;112.0;88.00;2640.;18.6;82;US\n\nChevrolet Cavalier 2-door;34.0;4;112.0;88.00;2395.;18.0;82;US\n\nPontiac J2000 SE Hatchback;31.0;4;112.0;85.00;2575.;16.2;82;US\n\nDodge Aries SE;29.0;4;135.0;84.00;2525.;16.0;82;US\n\nPontiac Phoenix;27.0;4;151.0;90.00;2735.;18.0;82;US\n\nFord Fairmont Futura;24.0;4;140.0;92.00;2865.;16.4;82;US\n\nAMC Concord DL;23.0;4;151.0;0;3035.;20.5;82;US\n\nVolkswagen Rabbit l;36.0;4;105.0;74.00;1980.;15.3;82;Europe\n\nMazda GLC Custom l;37.0;4;91.00;68.00;2025.;18.2;82;Japan\n\nMazda GLC Custom;31.0;4;91.00;68.00;1970.;17.6;82;Japan\n\nPlymouth Horizon Miser;38.0;4;105.0;63.00;2125.;14.7;82;US\n\nMercury Lynx l;36.0;4;98.00;70.00;2125.;17.3;82;US\n\nNissan Stanza XE;36.0;4;120.0;88.00;2160.;14.5;82;Japan\n\nHonda Accord;36.0;4;107.0;75.00;2205.;14.5;82;Japan\n\nToyota Corolla;34.0;4;108.0;70.00;2245;16.9;82;Japan\n\nHonda Civic;38.0;4;91.00;67.00;1965.;15.0;82;Japan\n\nHonda Civic (auto);32.0;4;91.00;67.00;1965.;15.7;82;Japan\n\nDatsun 310 GX;38.0;4;91.00;67.00;1995.;16.2;82;Japan\n\nBuick Century Limited;25.0;6;181.0;110.0;2945.;16.4;82;US\n\nOldsmobile Cutlass Ciera (diesel);38.0;6;262.0;85.00;3015.;17.0;82;US\n\nChrysler Lebaron Medallion;26.0;4;156.0;92.00;2585.;14.5;82;US\n\nFord Grenada l;22.0;6;232.0;112.0;2835;14.7;82;US\n\nToyota Celica GT;32.0;4;144.0;96.00;2665.;13.9;82;Japan\n\nDodge Charger 2.2;36.0;4;135.0;84.00;2370.;13.0;82;US\n\nChevrolet Camaro;27.0;4;151.0;90.00;2950.;17.3;82;US\n\nFord Mustang GL;27.0;4;140.0;86.00;2790.;15.6;82;US\n\nVolkswagen Pickup;44.0;4;97.00;52.00;2130.;24.6;82;Europe\n\nDodge Rampage;32.0;4;135.0;84.00;2295.;11.6;82;US\n\nFord Ranger;28.0;4;120.0;79.00;2625.;18.6;82;US\n\nChevy S-10;31.0;4;119.0;82.00;2720.;19.4;82;US\n\n",
          "output_type": "stream"
        }
      ],
      "execution_count": null
    },
    {
      "cell_type": "code",
      "metadata": {
        "cell_id": "00231-466a6138-e599-477c-bf92-14dbdd863f8e",
        "deepnote_to_be_reexecuted": true,
        "source_hash": "f367a666",
        "output_cleared": false,
        "is_code_hidden": false,
        "execution_millis": 56,
        "deepnote_cell_type": "code"
      },
      "source": "with open('cars.csv') as file:\n    row_index = 0\n    for line in file:\n        if row_index == 0:\n            # header row\n            headers = line.strip('\\n').split(';')\n            print(headers)\n        elif row_index == 1:\n            # data type row\n            data_types = line.strip('\\n').split(';')\n            print(data_types)\n        else:\n            # data rows\n            data = line.strip('\\n').split(';')\n            print(data)\n        row_index += 1",
      "outputs": [
        {
          "name": "stdout",
          "text": "['Car', 'MPG', 'Cylinders', 'Displacement', 'Horsepower', 'Weight', 'Acceleration', 'Model', 'Origin']\n['STRING', 'DOUBLE', 'INT', 'DOUBLE', 'DOUBLE', 'DOUBLE', 'DOUBLE', 'INT', 'CAT']\n['Chevrolet Chevelle Malibu', '18.0', '8', '307.0', '130.0', '3504.', '12.0', '70', 'US']\n['Buick Skylark 320', '15.0', '8', '350.0', '165.0', '3693.', '11.5', '70', 'US']\n['Plymouth Satellite', '18.0', '8', '318.0', '150.0', '3436.', '11.0', '70', 'US']\n['AMC Rebel SST', '16.0', '8', '304.0', '150.0', '3433.', '12.0', '70', 'US']\n['Ford Torino', '17.0', '8', '302.0', '140.0', '3449.', '10.5', '70', 'US']\n['Ford Galaxie 500', '15.0', '8', '429.0', '198.0', '4341.', '10.0', '70', 'US']\n['Chevrolet Impala', '14.0', '8', '454.0', '220.0', '4354.', '9.0', '70', 'US']\n['Plymouth Fury iii', '14.0', '8', '440.0', '215.0', '4312.', '8.5', '70', 'US']\n['Pontiac Catalina', '14.0', '8', '455.0', '225.0', '4425.', '10.0', '70', 'US']\n['AMC Ambassador DPL', '15.0', '8', '390.0', '190.0', '3850.', '8.5', '70', 'US']\n['Citroen DS-21 Pallas', '0', '4', '133.0', '115.0', '3090.', '17.5', '70', 'Europe']\n['Chevrolet Chevelle Concours (sw)', '0', '8', '350.0', '165.0', '4142.', '11.5', '70', 'US']\n['Ford Torino (sw)', '0', '8', '351.0', '153.0', '4034.', '11.0', '70', 'US']\n['Plymouth Satellite (sw)', '0', '8', '383.0', '175.0', '4166.', '10.5', '70', 'US']\n['AMC Rebel SST (sw)', '0', '8', '360.0', '175.0', '3850.', '11.0', '70', 'US']\n['Dodge Challenger SE', '15.0', '8', '383.0', '170.0', '3563.', '10.0', '70', 'US']\n[\"Plymouth 'Cuda 340\", '14.0', '8', '340.0', '160.0', '3609.', '8.0', '70', 'US']\n['Ford Mustang Boss 302', '0', '8', '302.0', '140.0', '3353.', '8.0', '70', 'US']\n['Chevrolet Monte Carlo', '15.0', '8', '400.0', '150.0', '3761.', '9.5', '70', 'US']\n['Buick Estate Wagon (sw)', '14.0', '8', '455.0', '225.0', '3086.', '10.0', '70', 'US']\n['Toyota Corolla Mark ii', '24.0', '4', '113.0', '95.00', '2372.', '15.0', '70', 'Japan']\n['Plymouth Duster', '22.0', '6', '198.0', '95.00', '2833.', '15.5', '70', 'US']\n['AMC Hornet', '18.0', '6', '199.0', '97.00', '2774.', '15.5', '70', 'US']\n['Ford Maverick', '21.0', '6', '200.0', '85.00', '2587.', '16.0', '70', 'US']\n['Datsun PL510', '27.0', '4', '97.00', '88.00', '2130.', '14.5', '70', 'Japan']\n['Volkswagen 1131 Deluxe Sedan', '26.0', '4', '97.00', '46.00', '1835.', '20.5', '70', 'Europe']\n['Peugeot 504', '25.0', '4', '110.0', '87.00', '2672.', '17.5', '70', 'Europe']\n['Audi 100 LS', '24.0', '4', '107.0', '90.00', '2430.', '14.5', '70', 'Europe']\n['Saab 99e', '25.0', '4', '104.0', '95.00', '2375.', '17.5', '70', 'Europe']\n['BMW 2002', '26.0', '4', '121.0', '113.0', '2234.', '12.5', '70', 'Europe']\n['AMC Gremlin', '21.0', '6', '199.0', '90.00', '2648.', '15.0', '70', 'US']\n['Ford F250', '10.0', '8', '360.0', '215.0', '4615.', '14.0', '70', 'US']\n['Chevy C20', '10.0', '8', '307.0', '200.0', '4376.', '15.0', '70', 'US']\n['Dodge D200', '11.0', '8', '318.0', '210.0', '4382.', '13.5', '70', 'US']\n['Hi 1200D', '9.0', '8', '304.0', '193.0', '4732.', '18.5', '70', 'US']\n['Datsun PL510', '27.0', '4', '97.00', '88.00', '2130.', '14.5', '71', 'Japan']\n['Chevrolet Vega 2300', '28.0', '4', '140.0', '90.00', '2264.', '15.5', '71', 'US']\n['Toyota Corolla', '25.0', '4', '113.0', '95.00', '2228.', '14.0', '71', 'Japan']\n['Ford Pinto', '25.0', '4', '98.00', '0', '2046.', '19.0', '71', 'US']\n['Volkswagen Super Beetle 117', '0', '4', '97.00', '48.00', '1978.', '20.0', '71', 'Europe']\n['AMC Gremlin', '19.0', '6', '232.0', '100.0', '2634.', '13.0', '71', 'US']\n['Plymouth Satellite Custom', '16.0', '6', '225.0', '105.0', '3439.', '15.5', '71', 'US']\n['Chevrolet Chevelle Malibu', '17.0', '6', '250.0', '100.0', '3329.', '15.5', '71', 'US']\n['Ford Torino 500', '19.0', '6', '250.0', '88.00', '3302.', '15.5', '71', 'US']\n['AMC Matador', '18.0', '6', '232.0', '100.0', '3288.', '15.5', '71', 'US']\n['Chevrolet Impala', '14.0', '8', '350.0', '165.0', '4209.', '12.0', '71', 'US']\n['Pontiac Catalina Brougham', '14.0', '8', '400.0', '175.0', '4464.', '11.5', '71', 'US']\n['Ford Galaxie 500', '14.0', '8', '351.0', '153.0', '4154.', '13.5', '71', 'US']\n['Plymouth Fury iii', '14.0', '8', '318.0', '150.0', '4096.', '13.0', '71', 'US']\n['Dodge Monaco (sw)', '12.0', '8', '383.0', '180.0', '4955.', '11.5', '71', 'US']\n['Ford Country Squire (sw)', '13.0', '8', '400.0', '170.0', '4746.', '12.0', '71', 'US']\n['Pontiac Safari (sw)', '13.0', '8', '400.0', '175.0', '5140.', '12.0', '71', 'US']\n['AMC Hornet Sportabout (sw)', '18.0', '6', '258.0', '110.0', '2962.', '13.5', '71', 'US']\n['Chevrolet Vega (sw)', '22.0', '4', '140.0', '72.00', '2408.', '19.0', '71', 'US']\n['Pontiac Firebird', '19.0', '6', '250.0', '100.0', '3282.', '15.0', '71', 'US']\n['Ford Mustang', '18.0', '6', '250.0', '88.00', '3139.', '14.5', '71', 'US']\n['Mercury Capri 2000', '23.0', '4', '122.0', '86.00', '2220.', '14.0', '71', 'US']\n['Opel 1900', '28.0', '4', '116.0', '90.00', '2123.', '14.0', '71', 'Europe']\n['Peugeot 304', '30.0', '4', '79.00', '70.00', '2074.', '19.5', '71', 'Europe']\n['Fiat 124B', '30.0', '4', '88.00', '76.00', '2065.', '14.5', '71', 'Europe']\n['Toyota Corolla 1200', '31.0', '4', '71.00', '65.00', '1773.', '19.0', '71', 'Japan']\n['Datsun 1200', '35.0', '4', '72.00', '69.00', '1613.', '18.0', '71', 'Japan']\n['Volkswagen Model 111', '27.0', '4', '97.00', '60.00', '1834.', '19.0', '71', 'Europe']\n['Plymouth Cricket', '26.0', '4', '91.00', '70.00', '1955.', '20.5', '71', 'US']\n['Toyota Corolla Hardtop', '24.0', '4', '113.0', '95.00', '2278.', '15.5', '72', 'Japan']\n['Dodge Colt Hardtop', '25.0', '4', '97.50', '80.00', '2126.', '17.0', '72', 'US']\n['Volkswagen Type 3', '23.0', '4', '97.00', '54.00', '2254.', '23.5', '72', 'Europe']\n['Chevrolet Vega', '20.0', '4', '140.0', '90.00', '2408.', '19.5', '72', 'US']\n['Ford Pinto Runabout', '21.0', '4', '122.0', '86.00', '2226.', '16.5', '72', 'US']\n['Chevrolet Impala', '13.0', '8', '350.0', '165.0', '4274.', '12.0', '72', 'US']\n['Pontiac Catalina', '14.0', '8', '400.0', '175.0', '4385.', '12.0', '72', 'US']\n['Plymouth Fury III', '15.0', '8', '318.0', '150.0', '4135.', '13.5', '72', 'US']\n['Ford Galaxie 500', '14.0', '8', '351.0', '153.0', '4129.', '13.0', '72', 'US']\n['AMC Ambassador SST', '17.0', '8', '304.0', '150.0', '3672.', '11.5', '72', 'US']\n['Mercury Marquis', '11.0', '8', '429.0', '208.0', '4633.', '11.0', '72', 'US']\n['Buick LeSabre Custom', '13.0', '8', '350.0', '155.0', '4502.', '13.5', '72', 'US']\n['Oldsmobile Delta 88 Royale', '12.0', '8', '350.0', '160.0', '4456.', '13.5', '72', 'US']\n['Chrysler Newport Royal', '13.0', '8', '400.0', '190.0', '4422.', '12.5', '72', 'US']\n['Mazda RX2 Coupe', '19.0', '3', '70.00', '97.00', '2330.', '13.5', '72', 'Japan']\n['AMC Matador (sw)', '15.0', '8', '304.0', '150.0', '3892.', '12.5', '72', 'US']\n['Chevrolet Chevelle Concours (sw)', '13.0', '8', '307.0', '130.0', '4098.', '14.0', '72', 'US']\n['Ford Gran Torino (sw)', '13.0', '8', '302.0', '140.0', '4294.', '16.0', '72', 'US']\n['Plymouth Satellite Custom (sw)', '14.0', '8', '318.0', '150.0', '4077.', '14.0', '72', 'US']\n['Volvo 145e (sw)', '18.0', '4', '121.0', '112.0', '2933.', '14.5', '72', 'Europe']\n['Volkswagen 411 (sw)', '22.0', '4', '121.0', '76.00', '2511.', '18.0', '72', 'Europe']\n['Peugeot 504 (sw)', '21.0', '4', '120.0', '87.00', '2979.', '19.5', '72', 'Europe']\n['Renault 12 (sw)', '26.0', '4', '96.00', '69.00', '2189.', '18.0', '72', 'Europe']\n['Ford Pinto (sw)', '22.0', '4', '122.0', '86.00', '2395.', '16.0', '72', 'US']\n['Datsun 510 (sw)', '28.0', '4', '97.00', '92.00', '2288.', '17.0', '72', 'Japan']\n['Toyota Corolla Mark II (sw)', '23.0', '4', '120.0', '97.00', '2506.', '14.5', '72', 'Japan']\n['Dodge Colt (sw)', '28.0', '4', '98.00', '80.00', '2164.', '15.0', '72', 'US']\n['Toyota Corolla 1600 (sw)', '27.0', '4', '97.00', '88.00', '2100.', '16.5', '72', 'Japan']\n['Buick Century 350', '13.0', '8', '350.0', '175.0', '4100.', '13.0', '73', 'US']\n['AMC Matador', '14.0', '8', '304.0', '150.0', '3672.', '11.5', '73', 'US']\n['Chevrolet Malibu', '13.0', '8', '350.0', '145.0', '3988.', '13.0', '73', 'US']\n['Ford Gran Torino', '14.0', '8', '302.0', '137.0', '4042.', '14.5', '73', 'US']\n['Dodge Coronet Custom', '15.0', '8', '318.0', '150.0', '3777.', '12.5', '73', 'US']\n['Mercury Marquis Brougham', '12.0', '8', '429.0', '198.0', '4952.', '11.5', '73', 'US']\n['Chevrolet Caprice Classic', '13.0', '8', '400.0', '150.0', '4464.', '12.0', '73', 'US']\n['Ford LTD', '13.0', '8', '351.0', '158.0', '4363.', '13.0', '73', 'US']\n['Plymouth Fury Gran Sedan', '14.0', '8', '318.0', '150.0', '4237.', '14.5', '73', 'US']\n['Chrysler New Yorker Brougham', '13.0', '8', '440.0', '215.0', '4735.', '11.0', '73', 'US']\n['Buick Electra 225 Custom', '12.0', '8', '455.0', '225.0', '4951.', '11.0', '73', 'US']\n['AMC Ambassador Brougham', '13.0', '8', '360.0', '175.0', '3821.', '11.0', '73', 'US']\n['Plymouth Valiant', '18.0', '6', '225.0', '105.0', '3121.', '16.5', '73', 'US']\n['Chevrolet Nova Custom', '16.0', '6', '250.0', '100.0', '3278.', '18.0', '73', 'US']\n['AMC Hornet', '18.0', '6', '232.0', '100.0', '2945.', '16.0', '73', 'US']\n['Ford Maverick', '18.0', '6', '250.0', '88.00', '3021.', '16.5', '73', 'US']\n['Plymouth Duster', '23.0', '6', '198.0', '95.00', '2904.', '16.0', '73', 'US']\n['Volkswagen Super Beetle', '26.0', '4', '97.00', '46.00', '1950.', '21.0', '73', 'Europe']\n['Chevrolet Impala', '11.0', '8', '400.0', '150.0', '4997.', '14.0', '73', 'US']\n['Ford Country', '12.0', '8', '400.0', '167.0', '4906.', '12.5', '73', 'US']\n['Plymouth Custom Suburb', '13.0', '8', '360.0', '170.0', '4654.', '13.0', '73', 'US']\n['Oldsmobile Vista Cruiser', '12.0', '8', '350.0', '180.0', '4499.', '12.5', '73', 'US']\n['AMC Gremlin', '18.0', '6', '232.0', '100.0', '2789.', '15.0', '73', 'US']\n['Toyota Camry', '20.0', '4', '97.00', '88.00', '2279.', '19.0', '73', 'Japan']\n['Chevrolet Vega', '21.0', '4', '140.0', '72.00', '2401.', '19.5', '73', 'US']\n['Datsun 610', '22.0', '4', '108.0', '94.00', '2379.', '16.5', '73', 'Japan']\n['Mazda RX3', '18.0', '3', '70.00', '90.00', '2124.', '13.5', '73', 'Japan']\n['Ford Pinto', '19.0', '4', '122.0', '85.00', '2310.', '18.5', '73', 'US']\n['Mercury Capri v6', '21.0', '6', '155.0', '107.0', '2472.', '14.0', '73', 'US']\n['Fiat 124 Sport Coupe', '26.0', '4', '98.00', '90.00', '2265.', '15.5', '73', 'Europe']\n['Chevrolet Monte Carlo S', '15.0', '8', '350.0', '145.0', '4082.', '13.0', '73', 'US']\n['Pontiac Grand Prix', '16.0', '8', '400.0', '230.0', '4278.', '9.50', '73', 'US']\n['Fiat 128', '29.0', '4', '68.00', '49.00', '1867.', '19.5', '73', 'Europe']\n['Opel Manta', '24.0', '4', '116.0', '75.00', '2158.', '15.5', '73', 'Europe']\n['Audi 100LS', '20.0', '4', '114.0', '91.00', '2582.', '14.0', '73', 'Europe']\n['Volvo 144ea', '19.0', '4', '121.0', '112.0', '2868.', '15.5', '73', 'Europe']\n['Dodge Dart Custom', '15.0', '8', '318.0', '150.0', '3399.', '11.0', '73', 'US']\n['Saab 99le', '24.0', '4', '121.0', '110.0', '2660.', '14.0', '73', 'Europe']\n['Toyota Mark II', '20.0', '6', '156.0', '122.0', '2807.', '13.5', '73', 'Japan']\n['Oldsmobile Omega', '11.0', '8', '350.0', '180.0', '3664.', '11.0', '73', 'US']\n['Plymouth Duster', '20.0', '6', '198.0', '95.00', '3102.', '16.5', '74', 'US']\n['Ford Maverick', '21.0', '6', '200.0', '0', '2875.', '17.0', '74', 'US']\n['AMC Hornet', '19.0', '6', '232.0', '100.0', '2901.', '16.0', '74', 'US']\n['Chevrolet Nova', '15.0', '6', '250.0', '100.0', '3336.', '17.0', '74', 'US']\n['Datsun B210', '31.0', '4', '79.00', '67.00', '1950.', '19.0', '74', 'Japan']\n['Ford Pinto', '26.0', '4', '122.0', '80.00', '2451.', '16.5', '74', 'US']\n['Toyota Corolla 1200', '32.0', '4', '71.00', '65.00', '1836.', '21.0', '74', 'Japan']\n['Chevrolet Vega', '25.0', '4', '140.0', '75.00', '2542.', '17.0', '74', 'US']\n['Chevrolet Chevelle Malibu Classic', '16.0', '6', '250.0', '100.0', '3781.', '17.0', '74', 'US']\n['AMC Matador', '16.0', '6', '258.0', '110.0', '3632.', '18.0', '74', 'US']\n['Plymouth Satellite Sebring', '18.0', '6', '225.0', '105.0', '3613.', '16.5', '74', 'US']\n['Ford Gran Torino', '16.0', '8', '302.0', '140.0', '4141.', '14.0', '74', 'US']\n['Buick Century Luxus (sw)', '13.0', '8', '350.0', '150.0', '4699.', '14.5', '74', 'US']\n['Dodge Coronet Custom (sw)', '14.0', '8', '318.0', '150.0', '4457.', '13.5', '74', 'US']\n['Ford Gran Torino (sw)', '14.0', '8', '302.0', '140.0', '4638.', '16.0', '74', 'US']\n['AMC Matador (sw)', '14.0', '8', '304.0', '150.0', '4257.', '15.5', '74', 'US']\n['Audi Fox', '29.0', '4', '98.00', '83.00', '2219.', '16.5', '74', 'Europe']\n['Volkswagen Dasher', '26.0', '4', '79.00', '67.00', '1963.', '15.5', '74', 'Europe']\n['Opel Manta', '26.0', '4', '97.00', '78.00', '2300.', '14.5', '74', 'Europe']\n['Toyota Corolla', '31.0', '4', '76.00', '52.00', '1649.', '16.5', '74', 'Japan']\n['Datsun 710', '32.0', '4', '83.00', '61.00', '2003.', '19.0', '74', 'Japan']\n['Dodge Colt', '28.0', '4', '90.00', '75.00', '2125.', '14.5', '74', 'US']\n['Fiat 128', '24.0', '4', '90.00', '75.00', '2108.', '15.5', '74', 'Europe']\n['Fiat 124 TC', '26.0', '4', '116.0', '75.00', '2246.', '14.0', '74', 'Europe']\n['Honda Civic', '24.0', '4', '120.0', '97.00', '2489.', '15.0', '74', 'Japan']\n['Subaru', '26.0', '4', '108.0', '93.00', '2391.', '15.5', '74', 'Japan']\n['Fiat x1.9', '31.0', '4', '79.00', '67.00', '2000.', '16.0', '74', 'Europe']\n['Plymouth Valiant Custom', '19.0', '6', '225.0', '95.00', '3264.', '16.0', '75', 'US']\n['Chevrolet Nova', '18.0', '6', '250.0', '105.0', '3459.', '16.0', '75', 'US']\n['Mercury Monarch', '15.0', '6', '250.0', '72.00', '3432.', '21.0', '75', 'US']\n['Ford Maverick', '15.0', '6', '250.0', '72.00', '3158.', '19.5', '75', 'US']\n['Pontiac Catalina', '16.0', '8', '400.0', '170.0', '4668.', '11.5', '75', 'US']\n['Chevrolet Bel Air', '15.0', '8', '350.0', '145.0', '4440.', '14.0', '75', 'US']\n['Plymouth Grand Fury', '16.0', '8', '318.0', '150.0', '4498.', '14.5', '75', 'US']\n['Ford LTD', '14.0', '8', '351.0', '148.0', '4657.', '13.5', '75', 'US']\n['Buick Century', '17.0', '6', '231.0', '110.0', '3907.', '21.0', '75', 'US']\n['Chevrolete Chevelle Malibu', '16.0', '6', '250.0', '105.0', '3897.', '18.5', '75', 'US']\n['AMC Matador', '15.0', '6', '258.0', '110.0', '3730.', '19.0', '75', 'US']\n['Plymouth Fury', '18.0', '6', '225.0', '95.00', '3785.', '19.0', '75', 'US']\n['Buick Skyhawk', '21.0', '6', '231.0', '110.0', '3039.', '15.0', '75', 'US']\n['Chevrolet Monza 2+2', '20.0', '8', '262.0', '110.0', '3221.', '13.5', '75', 'US']\n['Ford Mustang II', '13.0', '8', '302.0', '129.0', '3169.', '12.0', '75', 'US']\n['Toyota Corolla', '29.0', '4', '97.00', '75.00', '2171.', '16.0', '75', 'Japan']\n['Ford Pinto', '23.0', '4', '140.0', '83.00', '2639.', '17.0', '75', 'US']\n['AMC Gremlin', '20.0', '6', '232.0', '100.0', '2914.', '16.0', '75', 'US']\n['Pontiac Astro', '23.0', '4', '140.0', '78.00', '2592.', '18.5', '75', 'US']\n['Toyota Corolla', '24.0', '4', '134.0', '96.00', '2702.', '13.5', '75', 'Japan']\n['Volkswagen Dasher', '25.0', '4', '90.00', '71.00', '2223.', '16.5', '75', 'Europe']\n['Datsun 710', '24.0', '4', '119.0', '97.00', '2545.', '17.0', '75', 'Japan']\n['Ford Pinto', '18.0', '6', '171.0', '97.00', '2984.', '14.5', '75', 'US']\n['Volkswagen Rabbit', '29.0', '4', '90.00', '70.00', '1937.', '14.0', '75', 'Europe']\n['AMC Pacer', '19.0', '6', '232.0', '90.00', '3211.', '17.0', '75', 'US']\n['Audi 100LS', '23.0', '4', '115.0', '95.00', '2694.', '15.0', '75', 'Europe']\n['Peugeot 504', '23.0', '4', '120.0', '88.00', '2957.', '17.0', '75', 'Europe']\n['Volvo 244DL', '22.0', '4', '121.0', '98.00', '2945.', '14.5', '75', 'Europe']\n['Saab 99LE', '25.0', '4', '121.0', '115.0', '2671.', '13.5', '75', 'Europe']\n['Honda Civic CVCC', '33.0', '4', '91.00', '53.00', '1795.', '17.5', '75', 'Japan']\n['Fiat 131', '28.0', '4', '107.0', '86.00', '2464.', '15.5', '76', 'Europe']\n['Opel 1900', '25.0', '4', '116.0', '81.00', '2220.', '16.9', '76', 'Europe']\n['Capri ii', '25.0', '4', '140.0', '92.00', '2572.', '14.9', '76', 'US']\n['Dodge Colt', '26.0', '4', '98.00', '79.00', '2255.', '17.7', '76', 'US']\n['Renault 12tl', '27.0', '4', '101.0', '83.00', '2202.', '15.3', '76', 'Europe']\n['Chevrolet Chevelle Malibu Classic', '17.5', '8', '305.0', '140.0', '4215.', '13.0', '76', 'US']\n['Dodge Coronet Brougham', '16.0', '8', '318.0', '150.0', '4190.', '13.0', '76', 'US']\n['AMC Matador', '15.5', '8', '304.0', '120.0', '3962.', '13.9', '76', 'US']\n['Ford Gran Torino', '14.5', '8', '351.0', '152.0', '4215.', '12.8', '76', 'US']\n['Plymouth Valiant', '22.0', '6', '225.0', '100.0', '3233.', '15.4', '76', 'US']\n['Chevrolet Nova', '22.0', '6', '250.0', '105.0', '3353.', '14.5', '76', 'US']\n['Ford Maverick', '24.0', '6', '200.0', '81.00', '3012.', '17.6', '76', 'US']\n['AMC Hornet', '22.5', '6', '232.0', '90.00', '3085.', '17.6', '76', 'US']\n['Chevrolet Chevette', '29.0', '4', '85.00', '52.00', '2035.', '22.2', '76', 'US']\n['Chevrolet Woody', '24.5', '4', '98.00', '60.00', '2164.', '22.1', '76', 'US']\n['Volkswagen Rabbit', '29.0', '4', '90.00', '70.00', '1937.', '14.2', '76', 'Europe']\n['Honda Civic', '33.0', '4', '91.00', '53.00', '1795.', '17.4', '76', 'Japan']\n['Dodge Aspen SE', '20.0', '6', '225.0', '100.0', '3651.', '17.7', '76', 'US']\n['Ford Grenada ghia', '18.0', '6', '250.0', '78.00', '3574.', '21.0', '76', 'US']\n['Pontiac Ventura SJ', '18.5', '6', '250.0', '110.0', '3645.', '16.2', '76', 'US']\n['AMC Pacer d/l', '17.5', '6', '258.0', '95.00', '3193.', '17.8', '76', 'US']\n['Volkswagen Rabbit', '29.5', '4', '97.00', '71.00', '1825.', '12.2', '76', 'Europe']\n['Datsun B-210', '32.0', '4', '85.00', '70.00', '1990.', '17.0', '76', 'Japan']\n['Toyota Corolla', '28.0', '4', '97.00', '75.00', '2155.', '16.4', '76', 'Japan']\n['Ford Pinto', '26.5', '4', '140.0', '72.00', '2565.', '13.6', '76', 'US']\n['Volvo 245', '20.0', '4', '130.0', '102.0', '3150.', '15.7', '76', 'Europe']\n['Plymouth Volare Premier v8', '13.0', '8', '318.0', '150.0', '3940.', '13.2', '76', 'US']\n['Peugeot 504', '19.0', '4', '120.0', '88.00', '3270.', '21.9', '76', 'Europe']\n['Toyota Mark II', '19.0', '6', '156.0', '108.0', '2930.', '15.5', '76', 'Japan']\n['Mercedes-Benz 280s', '16.5', '6', '168.0', '120.0', '3820.', '16.7', '76', 'Europe']\n['Cadillac Seville', '16.5', '8', '350.0', '180.0', '4380.', '12.1', '76', 'US']\n['Chevrolet C10', '13.0', '8', '350.0', '145.0', '4055.', '12.0', '76', 'US']\n['Ford F108', '13.0', '8', '302.0', '130.0', '3870.', '15.0', '76', 'US']\n['Dodge D100', '13.0', '8', '318.0', '150.0', '3755.', '14.0', '76', 'US']\n['Honda Accord CVCC', '31.5', '4', '98.00', '68.00', '2045.', '18.5', '77', 'Japan']\n['Buick Opel Isuzu Deluxe', '30.0', '4', '111.0', '80.00', '2155.', '14.8', '77', 'US']\n['Renault 5 GTL', '36.0', '4', '79.00', '58.00', '1825.', '18.6', '77', 'Europe']\n['Plymouth Arrow GS', '25.5', '4', '122.0', '96.00', '2300.', '15.5', '77', 'US']\n['Datsun F-10 Hatchback', '33.5', '4', '85.00', '70.00', '1945.', '16.8', '77', 'Japan']\n['Chevrolet Caprice Classic', '17.5', '8', '305.0', '145.0', '3880.', '12.5', '77', 'US']\n['Oldsmobile Cutlass Supreme', '17.0', '8', '260.0', '110.0', '4060.', '19.0', '77', 'US']\n['Dodge Monaco Brougham', '15.5', '8', '318.0', '145.0', '4140.', '13.7', '77', 'US']\n['Mercury Cougar Brougham', '15.0', '8', '302.0', '130.0', '4295.', '14.9', '77', 'US']\n['Chevrolet Concours', '17.5', '6', '250.0', '110.0', '3520.', '16.4', '77', 'US']\n['Buick Skylark', '20.5', '6', '231.0', '105.0', '3425.', '16.9', '77', 'US']\n['Plymouth Volare Custom', '19.0', '6', '225.0', '100.0', '3630.', '17.7', '77', 'US']\n['Ford Grenada', '18.5', '6', '250.0', '98.00', '3525.', '19.0', '77', 'US']\n['Pontiac Grand Prix LJ', '16.0', '8', '400.0', '180.0', '4220.', '11.1', '77', 'US']\n['Chevrolet Monte Carlo Landau', '15.5', '8', '350.0', '170.0', '4165.', '11.4', '77', 'US']\n['Chrysler Cordoba', '15.5', '8', '400.0', '190.0', '4325.', '12.2', '77', 'US']\n['Ford Thunderbird', '16.0', '8', '351.0', '149.0', '4335.', '14.5', '77', 'US']\n['Volkswagen Rabbit Custom', '29.0', '4', '97.00', '78.00', '1940.', '14.5', '77', 'Europe']\n['Pontiac Sunbird Coupe', '24.5', '4', '151.0', '88.00', '2740.', '16.0', '77', 'US']\n['Toyota Corolla Liftback', '26.0', '4', '97.00', '75.00', '2265.', '18.2', '77', 'Japan']\n['Ford Mustang II 2+2', '25.5', '4', '140.0', '89.00', '2755.', '15.8', '77', 'US']\n['Chevrolet Chevette', '30.5', '4', '98.00', '63.00', '2051.', '17.0', '77', 'US']\n['Dodge Colt m/m', '33.5', '4', '98.00', '83.00', '2075.', '15.9', '77', 'US']\n['Subaru DL', '30.0', '4', '97.00', '67.00', '1985.', '16.4', '77', 'Japan']\n['Volkswagen Dasher', '30.5', '4', '97.00', '78.00', '2190.', '14.1', '77', 'Europe']\n['Datsun 810', '22.0', '6', '146.0', '97.00', '2815.', '14.5', '77', 'Japan']\n['BMW 320i', '21.5', '4', '121.0', '110.0', '2600.', '12.8', '77', 'Europe']\n['Mazda RX-4', '21.5', '3', '80.00', '110.0', '2720.', '13.5', '77', 'Japan']\n['Volkswagen Rabbit Custom Diesel', '43.1', '4', '90.00', '48.00', '1985.', '21.5', '78', 'Europe']\n['Ford Fiesta', '36.1', '4', '98.00', '66.00', '1800.', '14.4', '78', 'US']\n['Mazda GLC Deluxe', '32.8', '4', '78.00', '52.00', '1985.', '19.4', '78', 'Japan']\n['Datsun B210 GX', '39.4', '4', '85.00', '70.00', '2070.', '18.6', '78', 'Japan']\n['Honda Civic CVCC', '36.1', '4', '91.00', '60.00', '1800.', '16.4', '78', 'Japan']\n['Oldsmobile Cutlass Salon Brougham', '19.9', '8', '260.0', '110.0', '3365.', '15.5', '78', 'US']\n['Dodge Diplomat', '19.4', '8', '318.0', '140.0', '3735.', '13.2', '78', 'US']\n['Mercury Monarch ghia', '20.2', '8', '302.0', '139.0', '3570.', '12.8', '78', 'US']\n['Pontiac Phoenix LJ', '19.2', '6', '231.0', '105.0', '3535.', '19.2', '78', 'US']\n['Chevrolet Malibu', '20.5', '6', '200.0', '95.00', '3155.', '18.2', '78', 'US']\n['Ford Fairmont (auto)', '20.2', '6', '200.0', '85.00', '2965.', '15.8', '78', 'US']\n['Ford Fairmont (man)', '25.1', '4', '140.0', '88.00', '2720.', '15.4', '78', 'US']\n['Plymouth Volare', '20.5', '6', '225.0', '100.0', '3430.', '17.2', '78', 'US']\n['AMC Concord', '19.4', '6', '232.0', '90.00', '3210.', '17.2', '78', 'US']\n['Buick Century Special', '20.6', '6', '231.0', '105.0', '3380.', '15.8', '78', 'US']\n['Mercury Zephyr', '20.8', '6', '200.0', '85.00', '3070.', '16.7', '78', 'US']\n['Dodge Aspen', '18.6', '6', '225.0', '110.0', '3620.', '18.7', '78', 'US']\n['AMC Concord d/l', '18.1', '6', '258.0', '120.0', '3410.', '15.1', '78', 'US']\n['Chevrolet Monte Carlo Landau', '19.2', '8', '305.0', '145.0', '3425.', '13.2', '78', 'US']\n['Buick Regal Sport Coupe (turbo)', '17.7', '6', '231.0', '165.0', '3445.', '13.4', '78', 'US']\n['Ford Futura', '18.1', '8', '302.0', '139.0', '3205.', '11.2', '78', 'US']\n['Dodge Magnum XE', '17.5', '8', '318.0', '140.0', '4080.', '13.7', '78', 'US']\n['Chevrolet Chevette', '30.0', '4', '98.00', '68.00', '2155.', '16.5', '78', 'US']\n['Toyota Corolla', '27.5', '4', '134.0', '95.00', '2560.', '14.2', '78', 'Japan']\n['Datsun 510', '27.2', '4', '119.0', '97.00', '2300.', '14.7', '78', 'Japan']\n['Dodge Omni', '30.9', '4', '105.0', '75.00', '2230.', '14.5', '78', 'US']\n['Toyota Celica GT Liftback', '21.1', '4', '134.0', '95.00', '2515.', '14.8', '78', 'Japan']\n['Plymouth Sapporo', '23.2', '4', '156.0', '105.0', '2745.', '16.7', '78', 'US']\n['Oldsmobile Starfire SX', '23.8', '4', '151.0', '85.00', '2855.', '17.6', '78', 'US']\n['Datsun 200-SX', '23.9', '4', '119.0', '97.00', '2405.', '14.9', '78', 'Japan']\n['Audi 5000', '20.3', '5', '131.0', '103.0', '2830.', '15.9', '78', 'Europe']\n['Volvo 264gl', '17.0', '6', '163.0', '125.0', '3140.', '13.6', '78', 'Europe']\n['Saab 99gle', '21.6', '4', '121.0', '115.0', '2795.', '15.7', '78', 'Europe']\n['Peugeot 604sl', '16.2', '6', '163.0', '133.0', '3410.', '15.8', '78', 'Europe']\n['Volkswagen Scirocco', '31.5', '4', '89.00', '71.00', '1990.', '14.9', '78', 'Europe']\n['Honda Accord LX', '29.5', '4', '98.00', '68.00', '2135.', '16.6', '78', 'Japan']\n['Pontiac Lemans V6', '21.5', '6', '231.0', '115.0', '3245.', '15.4', '79', 'US']\n['Mercury Zephyr 6', '19.8', '6', '200.0', '85.00', '2990.', '18.2', '79', 'US']\n['Ford Fairmont 4', '22.3', '4', '140.0', '88.00', '2890.', '17.3', '79', 'US']\n['AMC Concord DL 6', '20.2', '6', '232.0', '90.00', '3265.', '18.2', '79', 'US']\n['Dodge Aspen 6', '20.6', '6', '225.0', '110.0', '3360.', '16.6', '79', 'US']\n['Chevrolet Caprice Classic', '17.0', '8', '305.0', '130.0', '3840.', '15.4', '79', 'US']\n['Ford LTD Landau', '17.6', '8', '302.0', '129.0', '3725.', '13.4', '79', 'US']\n['Mercury Grand Marquis', '16.5', '8', '351.0', '138.0', '3955.', '13.2', '79', 'US']\n['Dodge St. Regis', '18.2', '8', '318.0', '135.0', '3830.', '15.2', '79', 'US']\n['Buick Estate Wagon (sw)', '16.9', '8', '350.0', '155.0', '4360.', '14.9', '79', 'US']\n['Ford Country Squire (sw)', '15.5', '8', '351.0', '142.0', '4054.', '14.3', '79', 'US']\n['Chevrolet Malibu Classic (sw)', '19.2', '8', '267.0', '125.0', '3605.', '15.0', '79', 'US']\n['Chrysler Lebaron Town @ Country (sw)', '18.5', '8', '360.0', '150.0', '3940.', '13.0', '79', 'US']\n['Volkswagen Rabbit Custom', '31.9', '4', '89.00', '71.00', '1925.', '14.0', '79', 'Europe']\n['Mazda GLC Deluxe', '34.1', '4', '86.00', '65.00', '1975.', '15.2', '79', 'Japan']\n['Dodge Colt Hatchback Custom', '35.7', '4', '98.00', '80.00', '1915.', '14.4', '79', 'US']\n['AMC Spirit DL', '27.4', '4', '121.0', '80.00', '2670.', '15.0', '79', 'US']\n['Mercedes Benz 300d', '25.4', '5', '183.0', '77.00', '3530.', '20.1', '79', 'Europe']\n['Cadillac Eldorado', '23.0', '8', '350.0', '125.0', '3900.', '17.4', '79', 'US']\n['Peugeot 504', '27.2', '4', '141.0', '71.00', '3190.', '24.8', '79', 'Europe']\n['Oldsmobile Cutlass Salon Brougham', '23.9', '8', '260.0', '90.00', '3420.', '22.2', '79', 'US']\n['Plymouth Horizon', '34.2', '4', '105.0', '70.00', '2200.', '13.2', '79', 'US']\n['Plymouth Horizon TC3', '34.5', '4', '105.0', '70.00', '2150.', '14.9', '79', 'US']\n['Datsun 210', '31.8', '4', '85.00', '65.00', '2020.', '19.2', '79', 'Japan']\n['Fiat Strada Custom', '37.3', '4', '91.00', '69.00', '2130.', '14.7', '79', 'Europe']\n['Buick Skylark Limited', '28.4', '4', '151.0', '90.00', '2670.', '16.0', '79', 'US']\n['Chevrolet Citation', '28.8', '6', '173.0', '115.0', '2595.', '11.3', '79', 'US']\n['Oldsmobile Omega Brougham', '26.8', '6', '173.0', '115.0', '2700.', '12.9', '79', 'US']\n['Pontiac Phoenix', '33.5', '4', '151.0', '90.00', '2556.', '13.2', '79', 'US']\n['Volkswagen Rabbit', '41.5', '4', '98.00', '76.00', '2144.', '14.7', '80', 'Europe']\n['Toyota Corolla Tercel', '38.1', '4', '89.00', '60.00', '1968.', '18.8', '80', 'Japan']\n['Chevrolet Chevette', '32.1', '4', '98.00', '70.00', '2120.', '15.5', '80', 'US']\n['Datsun 310', '37.2', '4', '86.00', '65.00', '2019.', '16.4', '80', 'Japan']\n['Chevrolet Citation', '28.0', '4', '151.0', '90.00', '2678.', '16.5', '80', 'US']\n['Ford Fairmont', '26.4', '4', '140.0', '88.00', '2870.', '18.1', '80', 'US']\n['AMC Concord', '24.3', '4', '151.0', '90.00', '3003.', '20.1', '80', 'US']\n['Dodge Aspen', '19.1', '6', '225.0', '90.00', '3381.', '18.7', '80', 'US']\n['Audi 4000', '34.3', '4', '97.00', '78.00', '2188.', '15.8', '80', 'Europe']\n['Toyota Corolla Liftback', '29.8', '4', '134.0', '90.00', '2711.', '15.5', '80', 'Japan']\n['Mazda 626', '31.3', '4', '120.0', '75.00', '2542.', '17.5', '80', 'Japan']\n['Datsun 510 Hatchback', '37.0', '4', '119.0', '92.00', '2434.', '15.0', '80', 'Japan']\n['Toyota Corolla', '32.2', '4', '108.0', '75.00', '2265.', '15.2', '80', 'Japan']\n['Mazda GLC', '46.6', '4', '86.00', '65.00', '2110.', '17.9', '80', 'Japan']\n['Dodge Colt', '27.9', '4', '156.0', '105.0', '2800.', '14.4', '80', 'US']\n['Datsun 210', '40.8', '4', '85.00', '65.00', '2110.', '19.2', '80', 'Japan']\n['Volkswagen Rabbit C (Diesel)', '44.3', '4', '90.00', '48.00', '2085.', '21.7', '80', 'Europe']\n['Volkswagen Dasher (diesel)', '43.4', '4', '90.00', '48.00', '2335.', '23.7', '80', 'Europe']\n['Audi 5000s (diesel)', '36.4', '5', '121.0', '67.00', '2950.', '19.9', '80', 'Europe']\n['Mercedes-Benz 240d', '30.0', '4', '146.0', '67.00', '3250.', '21.8', '80', 'Europe']\n['Honda Civic 1500 gl', '44.6', '4', '91.00', '67.00', '1850.', '13.8', '80', 'Japan']\n['Renault Lecar Deluxe', '40.9', '4', '85.00', '0', '1835.', '17.3', '80', 'Europe']\n['Subaru DL', '33.8', '4', '97.00', '67.00', '2145.', '18.0', '80', 'Japan']\n['Volkswagen Rabbit', '29.8', '4', '89.00', '62.00', '1845.', '15.3', '80', 'Europe']\n['Datsun 280-ZX', '32.7', '6', '168.0', '132.0', '2910.', '11.4', '80', 'Japan']\n['Mazda RX-7 GS', '23.7', '3', '70.00', '100.0', '2420.', '12.5', '80', 'Japan']\n['Triumph TR7 Coupe', '35.0', '4', '122.0', '88.00', '2500.', '15.1', '80', 'Europe']\n['Ford Mustang Cobra', '23.6', '4', '140.0', '0', '2905.', '14.3', '80', 'US']\n['Honda Accord', '32.4', '4', '107.0', '72.00', '2290.', '17.0', '80', 'Japan']\n['Plymouth Reliant', '27.2', '4', '135.0', '84.00', '2490.', '15.7', '81', 'US']\n['Buick Skylark', '26.6', '4', '151.0', '84.00', '2635.', '16.4', '81', 'US']\n['Dodge Aries Wagon (sw)', '25.8', '4', '156.0', '92.00', '2620.', '14.4', '81', 'US']\n['Chevrolet Citation', '23.5', '6', '173.0', '110.0', '2725.', '12.6', '81', 'US']\n['Plymouth Reliant', '30.0', '4', '135.0', '84.00', '2385.', '12.9', '81', 'US']\n['Toyota Starlet', '39.1', '4', '79.00', '58.00', '1755.', '16.9', '81', 'Japan']\n['Plymouth Champ', '39.0', '4', '86.00', '64.00', '1875.', '16.4', '81', 'US']\n['Honda Civic 1300', '35.1', '4', '81.00', '60.00', '1760.', '16.1', '81', 'Japan']\n['Subaru', '32.3', '4', '97.00', '67.00', '2065.', '17.8', '81', 'Japan']\n['Datsun 210 MPG', '37.0', '4', '85.00', '65.00', '1975.', '19.4', '81', 'Japan']\n['Toyota Tercel', '37.7', '4', '89.00', '62.00', '2050.', '17.3', '81', 'Japan']\n['Mazda GLC 4', '34.1', '4', '91.00', '68.00', '1985.', '16.0', '81', 'Japan']\n['Plymouth Horizon 4', '34.7', '4', '105.0', '63.00', '2215.', '14.9', '81', 'US']\n['Ford Escort 4W', '34.4', '4', '98.00', '65.00', '2045.', '16.2', '81', 'US']\n['Ford Escort 2H', '29.9', '4', '98.00', '65.00', '2380.', '20.7', '81', 'US']\n['Volkswagen Jetta', '33.0', '4', '105.0', '74.00', '2190.', '14.2', '81', 'Europe']\n['Renault 18i', '34.5', '4', '100.0', '0', '2320.', '15.8', '81', 'Europe']\n['Honda Prelude', '33.7', '4', '107.0', '75.00', '2210.', '14.4', '81', 'Japan']\n['Toyota Corolla', '32.4', '4', '108.0', '75.00', '2350.', '16.8', '81', 'Japan']\n['Datsun 200SX', '32.9', '4', '119.0', '100.0', '2615.', '14.8', '81', 'Japan']\n['Mazda 626', '31.6', '4', '120.0', '74.00', '2635.', '18.3', '81', 'Japan']\n['Peugeot 505s Turbo Diesel', '28.1', '4', '141.0', '80.00', '3230.', '20.4', '81', 'Europe']\n['Saab 900s', '0', '4', '121.0', '110.0', '2800.', '15.4', '81', 'Europe']\n['Volvo Diesel', '30.7', '6', '145.0', '76.00', '3160.', '19.6', '81', 'Europe']\n['Toyota Cressida', '25.4', '6', '168.0', '116.0', '2900.', '12.6', '81', 'Japan']\n['Datsun 810 Maxima', '24.2', '6', '146.0', '120.0', '2930.', '13.8', '81', 'Japan']\n['Buick Century', '22.4', '6', '231.0', '110.0', '3415.', '15.8', '81', 'US']\n['Oldsmobile Cutlass LS', '26.6', '8', '350.0', '105.0', '3725.', '19.0', '81', 'US']\n['Ford Grenada gl', '20.2', '6', '200.0', '88.00', '3060.', '17.1', '81', 'US']\n['Chrysler Lebaron Salon', '17.6', '6', '225.0', '85.00', '3465.', '16.6', '81', 'US']\n['Chevrolet Cavalier', '28.0', '4', '112.0', '88.00', '2605.', '19.6', '82', 'US']\n['Chevrolet Cavalier Wagon', '27.0', '4', '112.0', '88.00', '2640.', '18.6', '82', 'US']\n['Chevrolet Cavalier 2-door', '34.0', '4', '112.0', '88.00', '2395.', '18.0', '82', 'US']\n['Pontiac J2000 SE Hatchback', '31.0', '4', '112.0', '85.00', '2575.', '16.2', '82', 'US']\n['Dodge Aries SE', '29.0', '4', '135.0', '84.00', '2525.', '16.0', '82', 'US']\n['Pontiac Phoenix', '27.0', '4', '151.0', '90.00', '2735.', '18.0', '82', 'US']\n['Ford Fairmont Futura', '24.0', '4', '140.0', '92.00', '2865.', '16.4', '82', 'US']\n['AMC Concord DL', '23.0', '4', '151.0', '0', '3035.', '20.5', '82', 'US']\n['Volkswagen Rabbit l', '36.0', '4', '105.0', '74.00', '1980.', '15.3', '82', 'Europe']\n['Mazda GLC Custom l', '37.0', '4', '91.00', '68.00', '2025.', '18.2', '82', 'Japan']\n['Mazda GLC Custom', '31.0', '4', '91.00', '68.00', '1970.', '17.6', '82', 'Japan']\n['Plymouth Horizon Miser', '38.0', '4', '105.0', '63.00', '2125.', '14.7', '82', 'US']\n['Mercury Lynx l', '36.0', '4', '98.00', '70.00', '2125.', '17.3', '82', 'US']\n['Nissan Stanza XE', '36.0', '4', '120.0', '88.00', '2160.', '14.5', '82', 'Japan']\n['Honda Accord', '36.0', '4', '107.0', '75.00', '2205.', '14.5', '82', 'Japan']\n['Toyota Corolla', '34.0', '4', '108.0', '70.00', '2245', '16.9', '82', 'Japan']\n['Honda Civic', '38.0', '4', '91.00', '67.00', '1965.', '15.0', '82', 'Japan']\n['Honda Civic (auto)', '32.0', '4', '91.00', '67.00', '1965.', '15.7', '82', 'Japan']\n['Datsun 310 GX', '38.0', '4', '91.00', '67.00', '1995.', '16.2', '82', 'Japan']\n['Buick Century Limited', '25.0', '6', '181.0', '110.0', '2945.', '16.4', '82', 'US']\n['Oldsmobile Cutlass Ciera (diesel)', '38.0', '6', '262.0', '85.00', '3015.', '17.0', '82', 'US']\n['Chrysler Lebaron Medallion', '26.0', '4', '156.0', '92.00', '2585.', '14.5', '82', 'US']\n['Ford Grenada l', '22.0', '6', '232.0', '112.0', '2835', '14.7', '82', 'US']\n['Toyota Celica GT', '32.0', '4', '144.0', '96.00', '2665.', '13.9', '82', 'Japan']\n['Dodge Charger 2.2', '36.0', '4', '135.0', '84.00', '2370.', '13.0', '82', 'US']\n['Chevrolet Camaro', '27.0', '4', '151.0', '90.00', '2950.', '17.3', '82', 'US']\n['Ford Mustang GL', '27.0', '4', '140.0', '86.00', '2790.', '15.6', '82', 'US']\n['Volkswagen Pickup', '44.0', '4', '97.00', '52.00', '2130.', '24.6', '82', 'Europe']\n['Dodge Rampage', '32.0', '4', '135.0', '84.00', '2295.', '11.6', '82', 'US']\n['Ford Ranger', '28.0', '4', '120.0', '79.00', '2625.', '18.6', '82', 'US']\n['Chevy S-10', '31.0', '4', '119.0', '82.00', '2720.', '19.4', '82', 'US']\n",
          "output_type": "stream"
        }
      ],
      "execution_count": null
    },
    {
      "cell_type": "code",
      "metadata": {
        "cell_id": "00232-a7f9c388-2481-4047-b113-d0379a4e35ec",
        "deepnote_to_be_reexecuted": true,
        "source_hash": "3edcd1cc",
        "is_code_hidden": false,
        "output_cleared": false,
        "execution_millis": 14,
        "deepnote_cell_type": "code"
      },
      "source": "from collections import namedtuple\ncars = []\n\nwith open('cars.csv') as file:\n    row_index = 0\n    for line in file:\n        if row_index == 0:\n            # header row\n            headers = line.strip('\\n').split(';')\n            Car = namedtuple('Car', headers)\n        elif row_index == 1:\n            # data type row\n            data_types = line.strip('\\n').split(';')\n            print(data_types)\n        else:\n            # data rows\n            data = line.strip('\\n').split(';')\n            car = Car(*data)\n            cars.append(car)\n        row_index += 1",
      "outputs": [
        {
          "name": "stdout",
          "text": "['STRING', 'DOUBLE', 'INT', 'DOUBLE', 'DOUBLE', 'DOUBLE', 'DOUBLE', 'INT', 'CAT']\n",
          "output_type": "stream"
        }
      ],
      "execution_count": null
    },
    {
      "cell_type": "code",
      "metadata": {
        "cell_id": "00233-03220ce4-5461-4a3e-9867-abd14a0642c1",
        "deepnote_to_be_reexecuted": true,
        "source_hash": "eb5e212",
        "is_code_hidden": false,
        "output_cleared": false,
        "execution_millis": 13,
        "deepnote_cell_type": "code"
      },
      "source": "print(cars[0])",
      "outputs": [
        {
          "name": "stdout",
          "text": "Car(Car='Chevrolet Chevelle Malibu', MPG='18.0', Cylinders='8', Displacement='307.0', Horsepower='130.0', Weight='3504.', Acceleration='12.0', Model='70', Origin='US')\n",
          "output_type": "stream"
        }
      ],
      "execution_count": null
    },
    {
      "cell_type": "code",
      "metadata": {
        "collapsed": true,
        "cell_id": "00237-f64272df-6af5-4877-a6fa-13dffbc20cbf",
        "deepnote_to_be_reexecuted": true,
        "source_hash": "f0f8ca90",
        "is_code_hidden": false,
        "deepnote_cell_type": "code"
      },
      "source": "def cast(data_type, value):\n    if data_type == 'DOUBLE':\n        return float(value)\n    elif data_type == 'INT':\n        return int(value)\n    else:\n        return str(value)",
      "outputs": [],
      "execution_count": null
    },
    {
      "cell_type": "code",
      "metadata": {
        "collapsed": true,
        "cell_id": "00239-81a4f550-b11a-4d17-8369-321555124875",
        "deepnote_to_be_reexecuted": true,
        "source_hash": "9cd0bd07",
        "is_code_hidden": false,
        "execution_millis": 1,
        "deepnote_cell_type": "code"
      },
      "source": "data_types = ['STRING', 'DOUBLE', 'INT', 'DOUBLE', 'DOUBLE', 'DOUBLE', 'DOUBLE', 'INT', 'CAT']",
      "outputs": [],
      "execution_count": null
    },
    {
      "cell_type": "code",
      "metadata": {
        "collapsed": true,
        "cell_id": "00240-614bf03b-90b3-425c-80a3-08fe5756167b",
        "deepnote_to_be_reexecuted": true,
        "source_hash": "c6657752",
        "is_code_hidden": false,
        "execution_millis": 5,
        "deepnote_cell_type": "code"
      },
      "source": "data_row = ['Chevrolet Chevelle Malibu', '18.0', '8', '307.0', '130.0', '3504.', '12.0', '70', 'US']",
      "outputs": [],
      "execution_count": null
    },
    {
      "cell_type": "code",
      "metadata": {
        "cell_id": "00242-88a6eaea-a878-4909-9971-e8601a64a91a",
        "deepnote_to_be_reexecuted": true,
        "source_hash": "cf968519",
        "is_code_hidden": false,
        "output_cleared": false,
        "deepnote_cell_type": "code"
      },
      "source": "list(zip(data_types, data_row))",
      "outputs": [
        {
          "output_type": "execute_result",
          "execution_count": 138,
          "data": {
            "text/plain": "[('STRING', 'Chevrolet Chevelle Malibu'),\n ('DOUBLE', '18.0'),\n ('INT', '8'),\n ('DOUBLE', '307.0'),\n ('DOUBLE', '130.0'),\n ('DOUBLE', '3504.'),\n ('DOUBLE', '12.0'),\n ('INT', '70'),\n ('CAT', 'US')]"
          },
          "metadata": {}
        }
      ],
      "execution_count": null
    },
    {
      "cell_type": "code",
      "source": "list(zip(data_types, data_row))",
      "metadata": {
        "tags": [],
        "cell_id": "00141-dec04ee0-fa1d-4ca6-a17c-47f2f9c0b673",
        "deepnote_to_be_reexecuted": true,
        "source_hash": "cf968519",
        "execution_millis": 21,
        "deepnote_cell_type": "code"
      },
      "outputs": [
        {
          "output_type": "execute_result",
          "execution_count": 139,
          "data": {
            "text/plain": "[('STRING', 'Chevrolet Chevelle Malibu'),\n ('DOUBLE', '18.0'),\n ('INT', '8'),\n ('DOUBLE', '307.0'),\n ('DOUBLE', '130.0'),\n ('DOUBLE', '3504.'),\n ('DOUBLE', '12.0'),\n ('INT', '70'),\n ('CAT', 'US')]"
          },
          "metadata": {}
        }
      ],
      "execution_count": null
    },
    {
      "cell_type": "code",
      "metadata": {
        "cell_id": "00244-8de91540-bbc3-4ddc-a3a3-17ec31c85a26",
        "deepnote_to_be_reexecuted": true,
        "source_hash": "f8028097",
        "is_code_hidden": false,
        "execution_millis": 14,
        "deepnote_cell_type": "code"
      },
      "source": "[cast(data_type, value) for data_type, value in zip(data_types, data_row)]",
      "outputs": [
        {
          "output_type": "execute_result",
          "execution_count": 140,
          "data": {
            "text/plain": "['Chevrolet Chevelle Malibu', 18.0, 8, 307.0, 130.0, 3504.0, 12.0, 70, 'US']"
          },
          "metadata": {}
        }
      ],
      "execution_count": null
    },
    {
      "cell_type": "code",
      "metadata": {
        "collapsed": true,
        "cell_id": "00246-6908f1bf-2030-47eb-816d-d8f508ee923c",
        "deepnote_to_be_reexecuted": true,
        "source_hash": "7f08272c",
        "is_code_hidden": false,
        "execution_millis": 0,
        "deepnote_cell_type": "code"
      },
      "source": "def cast_row(data_types, data_row):\n    return [cast(data_type, value) \n            for data_type, value in zip(data_types, data_row)]",
      "outputs": [],
      "execution_count": null
    },
    {
      "cell_type": "code",
      "metadata": {
        "collapsed": true,
        "cell_id": "00248-1a3c8520-3a93-4e03-bd9a-f5ecd8a3f66a",
        "deepnote_to_be_reexecuted": true,
        "source_hash": "7fc5df57",
        "is_code_hidden": false,
        "execution_millis": 1,
        "deepnote_cell_type": "code"
      },
      "source": "from collections import namedtuple\ncars = []\n\nwith open('cars.csv') as file:\n    row_index = 0\n    for line in file:\n        if row_index == 0:\n            # header row\n            headers = line.strip('\\n').split(';')\n            Car = namedtuple('Car', headers)\n        elif row_index == 1:\n            # data type row\n            data_types = line.strip('\\n').split(';')\n        else:\n            # data rows\n            data = line.strip('\\n').split(';')\n            data = cast_row(data_types, data)\n            car = Car(*data)\n            cars.append(car)\n        row_index += 1",
      "outputs": [],
      "execution_count": null
    },
    {
      "cell_type": "code",
      "metadata": {
        "cell_id": "00249-0a3e50ca-b652-4a89-9a88-860ba5acb1b7",
        "deepnote_to_be_reexecuted": true,
        "source_hash": "bd982f48",
        "is_code_hidden": false,
        "output_cleared": false,
        "execution_millis": 13,
        "deepnote_cell_type": "code"
      },
      "source": "cars[0]",
      "outputs": [
        {
          "output_type": "execute_result",
          "execution_count": 143,
          "data": {
            "text/plain": "Car(Car='Chevrolet Chevelle Malibu', MPG=18.0, Cylinders=8, Displacement=307.0, Horsepower=130.0, Weight=3504.0, Acceleration=12.0, Model=70, Origin='US')"
          },
          "metadata": {}
        }
      ],
      "execution_count": null
    },
    {
      "cell_type": "code",
      "metadata": {
        "collapsed": true,
        "cell_id": "00251-467268a1-c7d2-4f93-b808-a8bf936ed0b9",
        "deepnote_to_be_reexecuted": true,
        "source_hash": "4bfcd5cb",
        "is_code_hidden": false,
        "execution_millis": 0,
        "deepnote_cell_type": "code"
      },
      "source": "from collections import namedtuple\ncars = []\n\nwith open('cars.csv') as file:\n    file_iter = iter(file)\n    headers = next(file_iter).strip('\\n').split(';')\n    Car = namedtuple('Car', headers)\n    data_types = next(file_iter).strip('\\n').split(';')\n    for line in file_iter:\n        data = line.strip('\\n').split(';')\n        data = cast_row(data_types, data)\n        car = Car(*data)\n        cars.append(car)",
      "outputs": [],
      "execution_count": null
    },
    {
      "cell_type": "code",
      "metadata": {
        "cell_id": "00252-fed56351-bdfa-4775-b0a3-c6da89c06365",
        "deepnote_to_be_reexecuted": true,
        "source_hash": "bd982f48",
        "is_code_hidden": false,
        "output_cleared": false,
        "execution_millis": 0,
        "deepnote_cell_type": "code"
      },
      "source": "cars[0]",
      "outputs": [
        {
          "output_type": "execute_result",
          "execution_count": 145,
          "data": {
            "text/plain": "Car(Car='Chevrolet Chevelle Malibu', MPG=18.0, Cylinders=8, Displacement=307.0, Horsepower=130.0, Weight=3504.0, Acceleration=12.0, Model=70, Origin='US')"
          },
          "metadata": {}
        }
      ],
      "execution_count": null
    },
    {
      "cell_type": "code",
      "metadata": {
        "collapsed": true,
        "cell_id": "00254-ff6df69c-413b-4892-bfa0-e578b3caf5c3",
        "deepnote_to_be_reexecuted": true,
        "source_hash": "5a8ce9ee",
        "is_code_hidden": false,
        "execution_millis": 0,
        "deepnote_cell_type": "code"
      },
      "source": "from collections import namedtuple\n\nwith open('cars.csv') as file:\n    file_iter = iter(file)\n    headers = next(file_iter).strip('\\n').split(';')\n    data_types = next(file_iter).strip('\\n').split(';')\n    cars_data = [cast_row(data_types, \n                          line.strip('\\n').split(';'))\n                   for line in file_iter]\n    cars = [Car(*item) for item in cars_data]",
      "outputs": [],
      "execution_count": null
    },
    {
      "cell_type": "code",
      "metadata": {
        "cell_id": "00255-fb158776-2da7-4d2f-bcee-9a785545c7c1",
        "deepnote_to_be_reexecuted": true,
        "source_hash": "2ba666d7",
        "is_code_hidden": false,
        "output_cleared": false,
        "execution_millis": 0,
        "deepnote_cell_type": "code"
      },
      "source": "cars_data[0]",
      "outputs": [
        {
          "output_type": "execute_result",
          "execution_count": 147,
          "data": {
            "text/plain": "['Chevrolet Chevelle Malibu', 18.0, 8, 307.0, 130.0, 3504.0, 12.0, 70, 'US']"
          },
          "metadata": {}
        }
      ],
      "execution_count": null
    },
    {
      "cell_type": "code",
      "metadata": {
        "cell_id": "00256-900588be-8029-4621-8bcf-168c5b54240d",
        "deepnote_to_be_reexecuted": true,
        "source_hash": "bd982f48",
        "is_code_hidden": false,
        "output_cleared": true,
        "deepnote_cell_type": "code"
      },
      "source": "cars[0]",
      "execution_count": null,
      "outputs": []
    },
    {
      "cell_type": "code",
      "metadata": {
        "collapsed": true,
        "cell_id": "00258-cc451021-d083-4972-b651-7e1569fcb996",
        "deepnote_to_be_reexecuted": true,
        "source_hash": "5593341c",
        "is_code_hidden": true,
        "deepnote_cell_type": "code"
      },
      "source": "from collections import namedtuple\n\nwith open('cars.csv') as file:\n    file_iter = iter(file)\n    headers = next(file_iter).strip('\\n').split(';')\n    data_types = next(file_iter).strip('\\n').split(';')\n    cars = [Car(*cast_row(data_types, \n                          line.strip('\\n').split(';')))\n            for line in file_iter]\n",
      "execution_count": null,
      "outputs": []
    },
    {
      "cell_type": "code",
      "metadata": {
        "cell_id": "00259-51cc2c24-a214-4ddc-945f-9fc91851b50c",
        "deepnote_to_be_reexecuted": true,
        "source_hash": "bd982f48",
        "is_code_hidden": true,
        "deepnote_cell_type": "code"
      },
      "source": "cars[0]",
      "execution_count": null,
      "outputs": [
        {
          "data": {
            "text/plain": "Car(Car='Chevrolet Chevelle Malibu', MPG=18.0, Cylinders=8, Displacement=307.0, Horsepower=130.0, Weight=3504.0, Acceleration=12.0, Model=70, Origin='US')"
          },
          "execution_count": 22,
          "metadata": {},
          "output_type": "execute_result"
        }
      ]
    },
    {
      "cell_type": "markdown",
      "source": "### Cyclic Iterators",
      "metadata": {
        "cell_id": "00260-abcf2de1-3db2-4534-a6b1-d594fdd50c66",
        "deepnote_cell_type": "markdown"
      }
    },
    {
      "cell_type": "code",
      "metadata": {
        "collapsed": true,
        "cell_id": "00264-57a19779-0a49-4e59-8a18-7f2e24207f29",
        "deepnote_to_be_reexecuted": true,
        "source_hash": "cbc267bf",
        "is_code_hidden": false,
        "execution_millis": 1,
        "deepnote_cell_type": "code"
      },
      "source": "class CyclicIterator:\n    def __init__(self, lst):\n        self.lst = lst\n        self.i = 0\n        \n    def __iter__(self):\n        return self\n    \n    def __next__(self):\n        result = self.lst[self.i % len(self.lst)]\n        self.i += 1\n        return result",
      "outputs": [],
      "execution_count": null
    },
    {
      "cell_type": "code",
      "metadata": {
        "collapsed": true,
        "cell_id": "00265-a2e70e04-610b-41ad-b5f3-35a83b4b655c",
        "deepnote_to_be_reexecuted": true,
        "source_hash": "189fd83b",
        "is_code_hidden": false,
        "execution_millis": 0,
        "deepnote_cell_type": "code"
      },
      "source": "iter_cycl = CyclicIterator('NSWE')",
      "outputs": [],
      "execution_count": null
    },
    {
      "cell_type": "code",
      "metadata": {
        "cell_id": "00266-aa2b81a7-9464-4293-9859-fa7741ae27b4",
        "deepnote_to_be_reexecuted": true,
        "source_hash": "5e5da3aa",
        "is_code_hidden": false,
        "output_cleared": false,
        "execution_millis": 22,
        "deepnote_cell_type": "code"
      },
      "source": "for i in range(10):\n    print(next(iter_cycl))",
      "outputs": [
        {
          "name": "stdout",
          "text": "N\nS\nW\nE\nN\nS\nW\nE\nN\nS\n",
          "output_type": "stream"
        }
      ],
      "execution_count": null
    },
    {
      "cell_type": "code",
      "metadata": {
        "cell_id": "00268-e139a491-ad53-4717-9443-e6633b07b2d5",
        "deepnote_to_be_reexecuted": true,
        "source_hash": "8e9cc094",
        "is_code_hidden": false,
        "output_cleared": false,
        "execution_millis": 18,
        "deepnote_cell_type": "code"
      },
      "source": "n = 10\niter_cycl = CyclicIterator('NSWE')\nfor i in range(1, n+1):\n    direction = next(iter_cycl)\n    print(f'{i}{direction}')",
      "outputs": [
        {
          "name": "stdout",
          "text": "1N\n2S\n3W\n4E\n5N\n6S\n7W\n8E\n9N\n10S\n",
          "output_type": "stream"
        }
      ],
      "execution_count": null
    },
    {
      "cell_type": "code",
      "metadata": {
        "cell_id": "00270-d60bd8ef-df51-4e82-890e-d903a9e7258c",
        "deepnote_to_be_reexecuted": true,
        "source_hash": "a7d83cd5",
        "is_code_hidden": false,
        "output_cleared": false,
        "execution_millis": 20,
        "deepnote_cell_type": "code"
      },
      "source": "n = 10\niter_cycl = CyclicIterator('NSWE')\n[f'{i}{next(iter_cycl)}' for i in range(1, n+1)]",
      "outputs": [
        {
          "output_type": "execute_result",
          "execution_count": 152,
          "data": {
            "text/plain": "['1N', '2S', '3W', '4E', '5N', '6S', '7W', '8E', '9N', '10S']"
          },
          "metadata": {}
        }
      ],
      "execution_count": null
    },
    {
      "cell_type": "code",
      "metadata": {
        "cell_id": "00273-95c63c52-2a52-41ca-b7d7-9dad6943079c",
        "deepnote_to_be_reexecuted": true,
        "source_hash": "80263060",
        "is_code_hidden": false,
        "output_cleared": false,
        "execution_millis": 14,
        "deepnote_cell_type": "code"
      },
      "source": "n = 10\nlist(zip(range(1, n+1), 'NSWE' * (n//4 + 1)))",
      "outputs": [
        {
          "output_type": "execute_result",
          "execution_count": 153,
          "data": {
            "text/plain": "[(1, 'N'),\n (2, 'S'),\n (3, 'W'),\n (4, 'E'),\n (5, 'N'),\n (6, 'S'),\n (7, 'W'),\n (8, 'E'),\n (9, 'N'),\n (10, 'S')]"
          },
          "metadata": {}
        }
      ],
      "execution_count": null
    },
    {
      "cell_type": "code",
      "metadata": {
        "cell_id": "00274-7bc8a36b-7acd-4276-b7ad-2eed57433813",
        "deepnote_to_be_reexecuted": true,
        "source_hash": "6d4d7b86",
        "is_code_hidden": false,
        "output_cleared": false,
        "execution_millis": 15,
        "deepnote_cell_type": "code"
      },
      "source": "[f'{i}{direction}'\n for i, direction in zip(range(1, n+1), 'NSWE' * (n//4 + 1))]",
      "outputs": [
        {
          "output_type": "execute_result",
          "execution_count": 154,
          "data": {
            "text/plain": "['1N', '2S', '3W', '4E', '5N', '6S', '7W', '8E', '9N', '10S']"
          },
          "metadata": {}
        }
      ],
      "execution_count": null
    },
    {
      "cell_type": "code",
      "metadata": {
        "collapsed": true,
        "cell_id": "00276-fc38bc3b-0547-452d-a6c9-289b8fd08f14",
        "deepnote_to_be_reexecuted": true,
        "source_hash": "6a57a483",
        "is_code_hidden": false,
        "execution_millis": 1,
        "deepnote_cell_type": "code"
      },
      "source": "import itertools",
      "outputs": [],
      "execution_count": null
    },
    {
      "cell_type": "code",
      "metadata": {
        "cell_id": "00277-48e61761-e10a-4738-9636-58f0460f6c9b",
        "deepnote_to_be_reexecuted": true,
        "source_hash": "a7d83cd5",
        "is_code_hidden": false,
        "output_cleared": false,
        "execution_millis": 24,
        "deepnote_cell_type": "code"
      },
      "source": "n = 10\niter_cycl = CyclicIterator('NSWE')\n[f'{i}{next(iter_cycl)}' for i in range(1, n+1)]",
      "outputs": [
        {
          "output_type": "execute_result",
          "execution_count": 156,
          "data": {
            "text/plain": "['1N', '2S', '3W', '4E', '5N', '6S', '7W', '8E', '9N', '10S']"
          },
          "metadata": {}
        }
      ],
      "execution_count": null
    },
    {
      "cell_type": "code",
      "metadata": {
        "cell_id": "00279-28d23ad7-99fa-4bda-8733-d323179305eb",
        "deepnote_to_be_reexecuted": true,
        "source_hash": "93ba5801",
        "is_code_hidden": false,
        "output_cleared": false,
        "execution_millis": 14,
        "deepnote_cell_type": "code"
      },
      "source": "n = 10\niter_cycl = itertools.cycle('NSWE')\n[f'{i}{next(iter_cycl)}' for i in range(1, n+1)]",
      "outputs": [
        {
          "output_type": "execute_result",
          "execution_count": 157,
          "data": {
            "text/plain": "['1N', '2S', '3W', '4E', '5N', '6S', '7W', '8E', '9N', '10S']"
          },
          "metadata": {}
        }
      ],
      "execution_count": null
    },
    {
      "cell_type": "markdown",
      "source": "### Lazy Iterables",
      "metadata": {
        "cell_id": "00280-193e2247-c79e-43cc-bb01-b6d4e607f29a",
        "deepnote_cell_type": "markdown"
      }
    },
    {
      "cell_type": "code",
      "metadata": {
        "collapsed": true,
        "cell_id": "00284-8f9062ef-77b2-46d0-9f9b-6d4d81fbc534",
        "deepnote_to_be_reexecuted": true,
        "source_hash": "6161ca3",
        "is_code_hidden": false,
        "execution_millis": 0,
        "deepnote_cell_type": "code"
      },
      "source": "import math\n\nclass Circle:\n    def __init__(self, r):\n        self.radius = r\n        \n    @property\n    def radius(self):\n        return self._radius\n    \n    @radius.setter\n    def radius(self, r):\n        self._radius = r\n        self.area = math.pi * r**2",
      "outputs": [],
      "execution_count": null
    },
    {
      "cell_type": "code",
      "metadata": {
        "collapsed": true,
        "cell_id": "00286-3ddf3bc4-0b76-40fb-8cc8-34f05958dda1",
        "deepnote_to_be_reexecuted": true,
        "source_hash": "67f679be",
        "execution_millis": 0,
        "deepnote_cell_type": "code"
      },
      "source": "c = Circle(1)",
      "outputs": [],
      "execution_count": null
    },
    {
      "cell_type": "code",
      "metadata": {
        "cell_id": "00287-31cda80a-8267-4f96-8803-eab0a0fb376c",
        "deepnote_to_be_reexecuted": true,
        "source_hash": "cca2ca00",
        "is_code_hidden": false,
        "output_cleared": false,
        "execution_millis": 41,
        "deepnote_cell_type": "code"
      },
      "source": "c.area",
      "outputs": [
        {
          "output_type": "execute_result",
          "execution_count": 160,
          "data": {
            "text/plain": "3.141592653589793"
          },
          "metadata": {}
        }
      ],
      "execution_count": null
    },
    {
      "cell_type": "code",
      "metadata": {
        "collapsed": true,
        "cell_id": "00288-d810592c-c15c-4ca4-9056-f883e972fbf0",
        "deepnote_to_be_reexecuted": true,
        "source_hash": "2b0f5354",
        "is_code_hidden": false,
        "execution_millis": 1,
        "deepnote_cell_type": "code"
      },
      "source": "c.radius = 2",
      "outputs": [],
      "execution_count": null
    },
    {
      "cell_type": "code",
      "metadata": {
        "cell_id": "00289-d7c91a82-2171-4900-8350-2aa86057cc15",
        "deepnote_to_be_reexecuted": true,
        "source_hash": "ba8713cd",
        "is_code_hidden": false,
        "output_cleared": false,
        "execution_millis": 20,
        "deepnote_cell_type": "code"
      },
      "source": "c.radius, c.area",
      "outputs": [
        {
          "output_type": "execute_result",
          "execution_count": 162,
          "data": {
            "text/plain": "(2, 12.566370614359172)"
          },
          "metadata": {}
        }
      ],
      "execution_count": null
    },
    {
      "cell_type": "code",
      "metadata": {
        "collapsed": true,
        "cell_id": "00291-7b9307f1-2e85-445b-87a1-a2fcf7f3dfaa",
        "deepnote_to_be_reexecuted": true,
        "source_hash": "4b796ea3",
        "is_code_hidden": false,
        "execution_millis": 0,
        "deepnote_cell_type": "code"
      },
      "source": "class Circle:\n    def __init__(self, r):\n        self.radius = r\n        \n    @property\n    def radius(self):\n        return self._radius\n    \n    @radius.setter\n    def radius(self, r):\n        self._radius = r\n\n    @property\n    def area(self):\n        return math.pi * self.radius ** 2",
      "outputs": [],
      "execution_count": null
    },
    {
      "cell_type": "code",
      "metadata": {
        "collapsed": true,
        "cell_id": "00292-e944d3f5-2057-43a8-a484-c7289ffe6856",
        "deepnote_to_be_reexecuted": true,
        "source_hash": "67f679be",
        "is_code_hidden": false,
        "execution_millis": 0,
        "deepnote_cell_type": "code"
      },
      "source": "c = Circle(1)",
      "outputs": [],
      "execution_count": null
    },
    {
      "cell_type": "code",
      "metadata": {
        "cell_id": "00293-6d9150f2-84c9-4824-b75f-aa2ea85eecb4",
        "deepnote_to_be_reexecuted": true,
        "source_hash": "cca2ca00",
        "is_code_hidden": false,
        "output_cleared": false,
        "execution_millis": 0,
        "deepnote_cell_type": "code"
      },
      "source": "c.area",
      "outputs": [
        {
          "output_type": "execute_result",
          "execution_count": 165,
          "data": {
            "text/plain": "3.141592653589793"
          },
          "metadata": {}
        }
      ],
      "execution_count": null
    },
    {
      "cell_type": "code",
      "metadata": {
        "collapsed": true,
        "cell_id": "00294-20135387-4d97-4e46-9159-f76e0bb14c11",
        "deepnote_to_be_reexecuted": true,
        "source_hash": "2b0f5354",
        "is_code_hidden": false,
        "execution_millis": 1,
        "deepnote_cell_type": "code"
      },
      "source": "c.radius = 2",
      "outputs": [],
      "execution_count": null
    },
    {
      "cell_type": "code",
      "metadata": {
        "cell_id": "00295-d5fef38c-5a57-4685-bb66-797ec59a23ba",
        "deepnote_to_be_reexecuted": true,
        "source_hash": "cca2ca00",
        "is_code_hidden": false,
        "output_cleared": false,
        "execution_millis": 0,
        "deepnote_cell_type": "code"
      },
      "source": "c.area",
      "outputs": [
        {
          "output_type": "execute_result",
          "execution_count": 167,
          "data": {
            "text/plain": "12.566370614359172"
          },
          "metadata": {}
        }
      ],
      "execution_count": null
    },
    {
      "cell_type": "code",
      "metadata": {
        "collapsed": true,
        "cell_id": "00297-05acc7a4-3434-46a1-85d3-bc33f43bd850",
        "deepnote_to_be_reexecuted": true,
        "source_hash": "2297a7d6",
        "is_code_hidden": false,
        "execution_millis": 1,
        "deepnote_cell_type": "code"
      },
      "source": "class Circle:\n    def __init__(self, r):\n        self.radius = r\n        \n    @property\n    def radius(self):\n        return self._radius\n    \n    @radius.setter\n    def radius(self, r):\n        self._radius = r\n        self._area = None\n\n    @property\n    def area(self):\n        if self._area is None:\n            print('Calculating area...')\n            self._area = math.pi * self.radius ** 2\n        return self._area",
      "outputs": [],
      "execution_count": null
    },
    {
      "cell_type": "code",
      "metadata": {
        "collapsed": true,
        "cell_id": "00298-19387680-3bc9-48d8-8fc9-a1dbd6b97a7a",
        "deepnote_to_be_reexecuted": true,
        "source_hash": "67f679be",
        "is_code_hidden": false,
        "execution_millis": 0,
        "deepnote_cell_type": "code"
      },
      "source": "c = Circle(1)",
      "outputs": [],
      "execution_count": null
    },
    {
      "cell_type": "code",
      "metadata": {
        "cell_id": "00299-ebd7c24b-ce29-4e90-aef7-a8192b882d47",
        "deepnote_to_be_reexecuted": true,
        "source_hash": "cca2ca00",
        "is_code_hidden": false,
        "output_cleared": false,
        "execution_millis": 27,
        "deepnote_cell_type": "code"
      },
      "source": "c.area",
      "outputs": [
        {
          "name": "stdout",
          "text": "Calculating area...\n",
          "output_type": "stream"
        },
        {
          "output_type": "execute_result",
          "execution_count": 170,
          "data": {
            "text/plain": "3.141592653589793"
          },
          "metadata": {}
        }
      ],
      "execution_count": null
    },
    {
      "cell_type": "code",
      "metadata": {
        "cell_id": "00300-5b8b1b34-7c50-4300-b416-8be0c8cdeff7",
        "deepnote_to_be_reexecuted": true,
        "source_hash": "cca2ca00",
        "is_code_hidden": false,
        "output_cleared": false,
        "execution_millis": 0,
        "deepnote_cell_type": "code"
      },
      "source": "c.area",
      "outputs": [
        {
          "output_type": "execute_result",
          "execution_count": 171,
          "data": {
            "text/plain": "3.141592653589793"
          },
          "metadata": {}
        }
      ],
      "execution_count": null
    },
    {
      "cell_type": "code",
      "metadata": {
        "collapsed": true,
        "cell_id": "00301-a06bffb9-4c6f-4cdd-a497-0aceafc19e76",
        "deepnote_to_be_reexecuted": true,
        "source_hash": "2b0f5354",
        "is_code_hidden": false,
        "execution_millis": 0,
        "deepnote_cell_type": "code"
      },
      "source": "c.radius = 2",
      "outputs": [],
      "execution_count": null
    },
    {
      "cell_type": "code",
      "metadata": {
        "cell_id": "00302-8049804a-d4ee-458d-a3df-457500d62da2",
        "deepnote_to_be_reexecuted": true,
        "source_hash": "cca2ca00",
        "is_code_hidden": false,
        "output_cleared": false,
        "execution_millis": 23,
        "deepnote_cell_type": "code"
      },
      "source": "c.area",
      "outputs": [
        {
          "name": "stdout",
          "text": "Calculating area...\n",
          "output_type": "stream"
        },
        {
          "output_type": "execute_result",
          "execution_count": 173,
          "data": {
            "text/plain": "12.566370614359172"
          },
          "metadata": {}
        }
      ],
      "execution_count": null
    },
    {
      "cell_type": "code",
      "metadata": {
        "collapsed": true,
        "cell_id": "00306-a90e79a1-c37d-40f2-a1a1-cfba7dcd7ff1",
        "deepnote_to_be_reexecuted": true,
        "source_hash": "51229932",
        "is_code_hidden": false,
        "execution_millis": 0,
        "deepnote_cell_type": "code"
      },
      "source": "class Factorials:\n    def __init__(self, length):\n        self.length = length\n    \n    def __iter__(self):\n        return self.FactIter(self.length)\n    \n    class FactIter:\n        def __init__(self, length):\n            self.length = length\n            self.i = 0\n            \n        def __iter__(self):\n            return self\n        \n        def __next__(self):\n            if self.i >= self.length:\n                raise StopIteration\n            else:\n                result = math.factorial(self.i)\n                self.i += 1\n                return result\n            ",
      "outputs": [],
      "execution_count": null
    },
    {
      "cell_type": "code",
      "metadata": {
        "collapsed": true,
        "cell_id": "00307-88d3444a-4f2e-4a39-8aa0-90d125e6d128",
        "deepnote_to_be_reexecuted": true,
        "source_hash": "1d65b6b2",
        "is_code_hidden": false,
        "deepnote_cell_type": "code"
      },
      "source": "facts = Factorials(5)",
      "outputs": [],
      "execution_count": null
    },
    {
      "cell_type": "code",
      "metadata": {
        "cell_id": "00308-6b03b3e0-6e6e-4eb2-8cd5-7bfab24c4233",
        "deepnote_to_be_reexecuted": true,
        "source_hash": "6e37c05c",
        "is_code_hidden": false,
        "output_cleared": false,
        "execution_millis": 0,
        "deepnote_cell_type": "code"
      },
      "source": "list(facts)",
      "outputs": [
        {
          "output_type": "execute_result",
          "execution_count": 176,
          "data": {
            "text/plain": "[1, 1, 2, 6, 24]"
          },
          "metadata": {}
        }
      ],
      "execution_count": null
    },
    {
      "cell_type": "code",
      "metadata": {
        "collapsed": true,
        "cell_id": "00310-0df330d4-aecb-48b2-8fdd-5827878f685e",
        "deepnote_to_be_reexecuted": true,
        "source_hash": "6024797b",
        "is_code_hidden": false,
        "execution_millis": 0,
        "deepnote_cell_type": "code"
      },
      "source": "class Factorials:\n    def __iter__(self):\n        return self.FactIter()\n    \n    class FactIter:\n        def __init__(self):\n            self.i = 0\n            \n        def __iter__(self):\n            return self\n        \n        def __next__(self):\n            result = math.factorial(self.i)\n            self.i += 1\n            return result",
      "outputs": [],
      "execution_count": null
    },
    {
      "cell_type": "code",
      "metadata": {
        "cell_id": "00311-de2ef9d7-58f0-4181-8e02-83c0b6884a96",
        "deepnote_to_be_reexecuted": true,
        "source_hash": "931d61cd",
        "is_code_hidden": false,
        "output_cleared": false,
        "execution_millis": 0,
        "deepnote_cell_type": "code"
      },
      "source": "factorials = Factorials()\nfact_iter = iter(factorials)\n\nfor _ in range(10):\n    print(next(fact_iter))",
      "outputs": [
        {
          "name": "stdout",
          "text": "1\n1\n2\n6\n24\n120\n720\n5040\n40320\n362880\n",
          "output_type": "stream"
        }
      ],
      "execution_count": null
    },
    {
      "cell_type": "markdown",
      "source": "### Python's Built-In Iterables and Iterators",
      "metadata": {
        "cell_id": "00313-33ae9c85-626e-4b90-9250-d2d0997e6aad",
        "deepnote_cell_type": "markdown"
      }
    },
    {
      "cell_type": "code",
      "metadata": {
        "collapsed": true,
        "cell_id": "00316-d611c179-95ad-4f61-864a-40249cb348ac",
        "deepnote_to_be_reexecuted": true,
        "source_hash": "50e374ba",
        "is_code_hidden": false,
        "execution_millis": 0,
        "deepnote_cell_type": "code"
      },
      "source": "r_10 = range(10)",
      "outputs": [],
      "execution_count": null
    },
    {
      "cell_type": "code",
      "metadata": {
        "cell_id": "00318-1842bd42-0fc8-4618-a8a1-ec5955618b40",
        "deepnote_to_be_reexecuted": true,
        "source_hash": "7d5a032c",
        "is_code_hidden": false,
        "output_cleared": false,
        "execution_millis": 14,
        "deepnote_cell_type": "code"
      },
      "source": "'__iter__' in dir(r_10)",
      "outputs": [
        {
          "output_type": "execute_result",
          "execution_count": 180,
          "data": {
            "text/plain": "True"
          },
          "metadata": {}
        }
      ],
      "execution_count": null
    },
    {
      "cell_type": "code",
      "metadata": {
        "cell_id": "00320-00525d89-1e9d-4f9c-ad54-ea758e551aad",
        "deepnote_to_be_reexecuted": true,
        "source_hash": "529c2c99",
        "is_code_hidden": false,
        "output_cleared": false,
        "execution_millis": 0,
        "deepnote_cell_type": "code"
      },
      "source": "'__next__' in dir(r_10)",
      "outputs": [
        {
          "output_type": "execute_result",
          "execution_count": 181,
          "data": {
            "text/plain": "False"
          },
          "metadata": {}
        }
      ],
      "execution_count": null
    },
    {
      "cell_type": "code",
      "metadata": {
        "collapsed": true,
        "cell_id": "00322-e24916eb-b3bf-46f8-bb34-0572daeb3ee1",
        "deepnote_to_be_reexecuted": true,
        "source_hash": "349854ad",
        "is_code_hidden": false,
        "execution_millis": 0,
        "deepnote_cell_type": "code"
      },
      "source": "r_10_iter = iter(r_10)",
      "outputs": [],
      "execution_count": null
    },
    {
      "cell_type": "code",
      "metadata": {
        "cell_id": "00324-45fa0d79-a23c-44e0-8173-c274af7aec5b",
        "deepnote_to_be_reexecuted": true,
        "source_hash": "db5bbbde",
        "is_code_hidden": false,
        "output_cleared": false,
        "execution_millis": 14,
        "deepnote_cell_type": "code"
      },
      "source": "'__iter__' in dir(r_10_iter)",
      "outputs": [
        {
          "output_type": "execute_result",
          "execution_count": 183,
          "data": {
            "text/plain": "True"
          },
          "metadata": {}
        }
      ],
      "execution_count": null
    },
    {
      "cell_type": "code",
      "metadata": {
        "cell_id": "00325-592ed6f4-66f4-4cbc-9491-d953c9c78f6e",
        "deepnote_to_be_reexecuted": true,
        "source_hash": "819dea03",
        "is_code_hidden": false,
        "output_cleared": false,
        "execution_millis": 0,
        "deepnote_cell_type": "code"
      },
      "source": "'__next__' in dir(r_10_iter)",
      "outputs": [
        {
          "output_type": "execute_result",
          "execution_count": 184,
          "data": {
            "text/plain": "True"
          },
          "metadata": {}
        }
      ],
      "execution_count": null
    },
    {
      "cell_type": "code",
      "metadata": {
        "cell_id": "00327-14c01a9e-6642-4535-b7cb-925084d2399e",
        "deepnote_to_be_reexecuted": true,
        "source_hash": "e3b0418c",
        "is_code_hidden": false,
        "output_cleared": false,
        "execution_millis": 14,
        "deepnote_cell_type": "code"
      },
      "source": "[num for num in range(10)]",
      "outputs": [
        {
          "output_type": "execute_result",
          "execution_count": 185,
          "data": {
            "text/plain": "[0, 1, 2, 3, 4, 5, 6, 7, 8, 9]"
          },
          "metadata": {}
        }
      ],
      "execution_count": null
    },
    {
      "cell_type": "code",
      "metadata": {
        "collapsed": true,
        "cell_id": "00329-fa01bc70-06f9-47af-88bc-fb30e6806897",
        "deepnote_to_be_reexecuted": true,
        "source_hash": "224c402",
        "is_code_hidden": false,
        "execution_millis": 1,
        "deepnote_cell_type": "code"
      },
      "source": "z = zip([1, 2, 3], 'abc')",
      "outputs": [],
      "execution_count": null
    },
    {
      "cell_type": "code",
      "metadata": {
        "cell_id": "00330-cb6346fc-26b6-4ad0-8b47-288ee4199582",
        "deepnote_to_be_reexecuted": true,
        "source_hash": "860ac4bd",
        "is_code_hidden": false,
        "output_cleared": false,
        "execution_millis": 15,
        "deepnote_cell_type": "code"
      },
      "source": "z",
      "outputs": [
        {
          "output_type": "execute_result",
          "execution_count": 187,
          "data": {
            "text/plain": "<zip at 0x7f6e188dcdc0>"
          },
          "metadata": {}
        }
      ],
      "execution_count": null
    },
    {
      "cell_type": "code",
      "metadata": {
        "cell_id": "00332-8e85bb54-5a19-400b-8eba-75494b4fd771",
        "deepnote_to_be_reexecuted": true,
        "source_hash": "25a3bfca",
        "is_code_hidden": false,
        "output_cleared": false,
        "execution_millis": 17,
        "deepnote_cell_type": "code"
      },
      "source": "print('__iter__' in dir(z))\nprint('__next__' in dir(z))",
      "outputs": [
        {
          "name": "stdout",
          "text": "True\nTrue\n",
          "output_type": "stream"
        }
      ],
      "execution_count": null
    },
    {
      "cell_type": "code",
      "metadata": {
        "cell_id": "00334-ed61bd18-4c63-40a4-8471-9c127a489e78",
        "deepnote_to_be_reexecuted": true,
        "source_hash": "3a786724",
        "is_code_hidden": false,
        "output_cleared": false,
        "execution_millis": 57,
        "deepnote_cell_type": "code"
      },
      "source": "list(z)",
      "outputs": [
        {
          "output_type": "execute_result",
          "execution_count": 189,
          "data": {
            "text/plain": "[(1, 'a'), (2, 'b'), (3, 'c')]"
          },
          "metadata": {}
        }
      ],
      "execution_count": null
    },
    {
      "cell_type": "code",
      "metadata": {
        "cell_id": "00336-c3a9682d-9fa6-4b07-9904-a656221c9ea0",
        "deepnote_to_be_reexecuted": true,
        "source_hash": "41a0135f",
        "is_code_hidden": false,
        "output_cleared": false,
        "execution_millis": 61,
        "deepnote_cell_type": "code"
      },
      "source": "with open('cars.csv') as f:\n    print(type(f))\n    print('__iter__' in dir(f))\n    print('__next__' in dir(f))",
      "outputs": [
        {
          "name": "stdout",
          "text": "<class '_io.TextIOWrapper'>\nTrue\nTrue\n",
          "output_type": "stream"
        }
      ],
      "execution_count": null
    },
    {
      "cell_type": "code",
      "metadata": {
        "cell_id": "00338-b82a8da8-6de2-4abe-888d-5010ab9ced27",
        "deepnote_to_be_reexecuted": true,
        "source_hash": "4fef4cbd",
        "is_code_hidden": false,
        "output_cleared": false,
        "execution_millis": 13,
        "deepnote_cell_type": "code"
      },
      "source": "with open('cars.csv') as f:\n    print(next(f))\n    print(f.__next__())\n    print(f.readline())",
      "outputs": [
        {
          "name": "stdout",
          "text": "Car;MPG;Cylinders;Displacement;Horsepower;Weight;Acceleration;Model;Origin\n\nSTRING;DOUBLE;INT;DOUBLE;DOUBLE;DOUBLE;DOUBLE;INT;CAT\n\nChevrolet Chevelle Malibu;18.0;8;307.0;130.0;3504.;12.0;70;US\n\n",
          "output_type": "stream"
        }
      ],
      "execution_count": null
    },
    {
      "cell_type": "code",
      "metadata": {
        "cell_id": "00340-9e1ab8f8-0c2e-48c2-949b-936169285752",
        "deepnote_to_be_reexecuted": true,
        "source_hash": "102195eb",
        "is_code_hidden": false,
        "output_cleared": false,
        "execution_millis": 63,
        "deepnote_cell_type": "code"
      },
      "source": "with open('cars.csv') as f:\n    for row in f:\n        print(row, end='')",
      "outputs": [
        {
          "name": "stdout",
          "text": "Car;MPG;Cylinders;Displacement;Horsepower;Weight;Acceleration;Model;Origin\nSTRING;DOUBLE;INT;DOUBLE;DOUBLE;DOUBLE;DOUBLE;INT;CAT\nChevrolet Chevelle Malibu;18.0;8;307.0;130.0;3504.;12.0;70;US\nBuick Skylark 320;15.0;8;350.0;165.0;3693.;11.5;70;US\nPlymouth Satellite;18.0;8;318.0;150.0;3436.;11.0;70;US\nAMC Rebel SST;16.0;8;304.0;150.0;3433.;12.0;70;US\nFord Torino;17.0;8;302.0;140.0;3449.;10.5;70;US\nFord Galaxie 500;15.0;8;429.0;198.0;4341.;10.0;70;US\nChevrolet Impala;14.0;8;454.0;220.0;4354.;9.0;70;US\nPlymouth Fury iii;14.0;8;440.0;215.0;4312.;8.5;70;US\nPontiac Catalina;14.0;8;455.0;225.0;4425.;10.0;70;US\nAMC Ambassador DPL;15.0;8;390.0;190.0;3850.;8.5;70;US\nCitroen DS-21 Pallas;0;4;133.0;115.0;3090.;17.5;70;Europe\nChevrolet Chevelle Concours (sw);0;8;350.0;165.0;4142.;11.5;70;US\nFord Torino (sw);0;8;351.0;153.0;4034.;11.0;70;US\nPlymouth Satellite (sw);0;8;383.0;175.0;4166.;10.5;70;US\nAMC Rebel SST (sw);0;8;360.0;175.0;3850.;11.0;70;US\nDodge Challenger SE;15.0;8;383.0;170.0;3563.;10.0;70;US\nPlymouth 'Cuda 340;14.0;8;340.0;160.0;3609.;8.0;70;US\nFord Mustang Boss 302;0;8;302.0;140.0;3353.;8.0;70;US\nChevrolet Monte Carlo;15.0;8;400.0;150.0;3761.;9.5;70;US\nBuick Estate Wagon (sw);14.0;8;455.0;225.0;3086.;10.0;70;US\nToyota Corolla Mark ii;24.0;4;113.0;95.00;2372.;15.0;70;Japan\nPlymouth Duster;22.0;6;198.0;95.00;2833.;15.5;70;US\nAMC Hornet;18.0;6;199.0;97.00;2774.;15.5;70;US\nFord Maverick;21.0;6;200.0;85.00;2587.;16.0;70;US\nDatsun PL510;27.0;4;97.00;88.00;2130.;14.5;70;Japan\nVolkswagen 1131 Deluxe Sedan;26.0;4;97.00;46.00;1835.;20.5;70;Europe\nPeugeot 504;25.0;4;110.0;87.00;2672.;17.5;70;Europe\nAudi 100 LS;24.0;4;107.0;90.00;2430.;14.5;70;Europe\nSaab 99e;25.0;4;104.0;95.00;2375.;17.5;70;Europe\nBMW 2002;26.0;4;121.0;113.0;2234.;12.5;70;Europe\nAMC Gremlin;21.0;6;199.0;90.00;2648.;15.0;70;US\nFord F250;10.0;8;360.0;215.0;4615.;14.0;70;US\nChevy C20;10.0;8;307.0;200.0;4376.;15.0;70;US\nDodge D200;11.0;8;318.0;210.0;4382.;13.5;70;US\nHi 1200D;9.0;8;304.0;193.0;4732.;18.5;70;US\nDatsun PL510;27.0;4;97.00;88.00;2130.;14.5;71;Japan\nChevrolet Vega 2300;28.0;4;140.0;90.00;2264.;15.5;71;US\nToyota Corolla;25.0;4;113.0;95.00;2228.;14.0;71;Japan\nFord Pinto;25.0;4;98.00;0;2046.;19.0;71;US\nVolkswagen Super Beetle 117;0;4;97.00;48.00;1978.;20.0;71;Europe\nAMC Gremlin;19.0;6;232.0;100.0;2634.;13.0;71;US\nPlymouth Satellite Custom;16.0;6;225.0;105.0;3439.;15.5;71;US\nChevrolet Chevelle Malibu;17.0;6;250.0;100.0;3329.;15.5;71;US\nFord Torino 500;19.0;6;250.0;88.00;3302.;15.5;71;US\nAMC Matador;18.0;6;232.0;100.0;3288.;15.5;71;US\nChevrolet Impala;14.0;8;350.0;165.0;4209.;12.0;71;US\nPontiac Catalina Brougham;14.0;8;400.0;175.0;4464.;11.5;71;US\nFord Galaxie 500;14.0;8;351.0;153.0;4154.;13.5;71;US\nPlymouth Fury iii;14.0;8;318.0;150.0;4096.;13.0;71;US\nDodge Monaco (sw);12.0;8;383.0;180.0;4955.;11.5;71;US\nFord Country Squire (sw);13.0;8;400.0;170.0;4746.;12.0;71;US\nPontiac Safari (sw);13.0;8;400.0;175.0;5140.;12.0;71;US\nAMC Hornet Sportabout (sw);18.0;6;258.0;110.0;2962.;13.5;71;US\nChevrolet Vega (sw);22.0;4;140.0;72.00;2408.;19.0;71;US\nPontiac Firebird;19.0;6;250.0;100.0;3282.;15.0;71;US\nFord Mustang;18.0;6;250.0;88.00;3139.;14.5;71;US\nMercury Capri 2000;23.0;4;122.0;86.00;2220.;14.0;71;US\nOpel 1900;28.0;4;116.0;90.00;2123.;14.0;71;Europe\nPeugeot 304;30.0;4;79.00;70.00;2074.;19.5;71;Europe\nFiat 124B;30.0;4;88.00;76.00;2065.;14.5;71;Europe\nToyota Corolla 1200;31.0;4;71.00;65.00;1773.;19.0;71;Japan\nDatsun 1200;35.0;4;72.00;69.00;1613.;18.0;71;Japan\nVolkswagen Model 111;27.0;4;97.00;60.00;1834.;19.0;71;Europe\nPlymouth Cricket;26.0;4;91.00;70.00;1955.;20.5;71;US\nToyota Corolla Hardtop;24.0;4;113.0;95.00;2278.;15.5;72;Japan\nDodge Colt Hardtop;25.0;4;97.50;80.00;2126.;17.0;72;US\nVolkswagen Type 3;23.0;4;97.00;54.00;2254.;23.5;72;Europe\nChevrolet Vega;20.0;4;140.0;90.00;2408.;19.5;72;US\nFord Pinto Runabout;21.0;4;122.0;86.00;2226.;16.5;72;US\nChevrolet Impala;13.0;8;350.0;165.0;4274.;12.0;72;US\nPontiac Catalina;14.0;8;400.0;175.0;4385.;12.0;72;US\nPlymouth Fury III;15.0;8;318.0;150.0;4135.;13.5;72;US\nFord Galaxie 500;14.0;8;351.0;153.0;4129.;13.0;72;US\nAMC Ambassador SST;17.0;8;304.0;150.0;3672.;11.5;72;US\nMercury Marquis;11.0;8;429.0;208.0;4633.;11.0;72;US\nBuick LeSabre Custom;13.0;8;350.0;155.0;4502.;13.5;72;US\nOldsmobile Delta 88 Royale;12.0;8;350.0;160.0;4456.;13.5;72;US\nChrysler Newport Royal;13.0;8;400.0;190.0;4422.;12.5;72;US\nMazda RX2 Coupe;19.0;3;70.00;97.00;2330.;13.5;72;Japan\nAMC Matador (sw);15.0;8;304.0;150.0;3892.;12.5;72;US\nChevrolet Chevelle Concours (sw);13.0;8;307.0;130.0;4098.;14.0;72;US\nFord Gran Torino (sw);13.0;8;302.0;140.0;4294.;16.0;72;US\nPlymouth Satellite Custom (sw);14.0;8;318.0;150.0;4077.;14.0;72;US\nVolvo 145e (sw);18.0;4;121.0;112.0;2933.;14.5;72;Europe\nVolkswagen 411 (sw);22.0;4;121.0;76.00;2511.;18.0;72;Europe\nPeugeot 504 (sw);21.0;4;120.0;87.00;2979.;19.5;72;Europe\nRenault 12 (sw);26.0;4;96.00;69.00;2189.;18.0;72;Europe\nFord Pinto (sw);22.0;4;122.0;86.00;2395.;16.0;72;US\nDatsun 510 (sw);28.0;4;97.00;92.00;2288.;17.0;72;Japan\nToyota Corolla Mark II (sw);23.0;4;120.0;97.00;2506.;14.5;72;Japan\nDodge Colt (sw);28.0;4;98.00;80.00;2164.;15.0;72;US\nToyota Corolla 1600 (sw);27.0;4;97.00;88.00;2100.;16.5;72;Japan\nBuick Century 350;13.0;8;350.0;175.0;4100.;13.0;73;US\nAMC Matador;14.0;8;304.0;150.0;3672.;11.5;73;US\nChevrolet Malibu;13.0;8;350.0;145.0;3988.;13.0;73;US\nFord Gran Torino;14.0;8;302.0;137.0;4042.;14.5;73;US\nDodge Coronet Custom;15.0;8;318.0;150.0;3777.;12.5;73;US\nMercury Marquis Brougham;12.0;8;429.0;198.0;4952.;11.5;73;US\nChevrolet Caprice Classic;13.0;8;400.0;150.0;4464.;12.0;73;US\nFord LTD;13.0;8;351.0;158.0;4363.;13.0;73;US\nPlymouth Fury Gran Sedan;14.0;8;318.0;150.0;4237.;14.5;73;US\nChrysler New Yorker Brougham;13.0;8;440.0;215.0;4735.;11.0;73;US\nBuick Electra 225 Custom;12.0;8;455.0;225.0;4951.;11.0;73;US\nAMC Ambassador Brougham;13.0;8;360.0;175.0;3821.;11.0;73;US\nPlymouth Valiant;18.0;6;225.0;105.0;3121.;16.5;73;US\nChevrolet Nova Custom;16.0;6;250.0;100.0;3278.;18.0;73;US\nAMC Hornet;18.0;6;232.0;100.0;2945.;16.0;73;US\nFord Maverick;18.0;6;250.0;88.00;3021.;16.5;73;US\nPlymouth Duster;23.0;6;198.0;95.00;2904.;16.0;73;US\nVolkswagen Super Beetle;26.0;4;97.00;46.00;1950.;21.0;73;Europe\nChevrolet Impala;11.0;8;400.0;150.0;4997.;14.0;73;US\nFord Country;12.0;8;400.0;167.0;4906.;12.5;73;US\nPlymouth Custom Suburb;13.0;8;360.0;170.0;4654.;13.0;73;US\nOldsmobile Vista Cruiser;12.0;8;350.0;180.0;4499.;12.5;73;US\nAMC Gremlin;18.0;6;232.0;100.0;2789.;15.0;73;US\nToyota Camry;20.0;4;97.00;88.00;2279.;19.0;73;Japan\nChevrolet Vega;21.0;4;140.0;72.00;2401.;19.5;73;US\nDatsun 610;22.0;4;108.0;94.00;2379.;16.5;73;Japan\nMazda RX3;18.0;3;70.00;90.00;2124.;13.5;73;Japan\nFord Pinto;19.0;4;122.0;85.00;2310.;18.5;73;US\nMercury Capri v6;21.0;6;155.0;107.0;2472.;14.0;73;US\nFiat 124 Sport Coupe;26.0;4;98.00;90.00;2265.;15.5;73;Europe\nChevrolet Monte Carlo S;15.0;8;350.0;145.0;4082.;13.0;73;US\nPontiac Grand Prix;16.0;8;400.0;230.0;4278.;9.50;73;US\nFiat 128;29.0;4;68.00;49.00;1867.;19.5;73;Europe\nOpel Manta;24.0;4;116.0;75.00;2158.;15.5;73;Europe\nAudi 100LS;20.0;4;114.0;91.00;2582.;14.0;73;Europe\nVolvo 144ea;19.0;4;121.0;112.0;2868.;15.5;73;Europe\nDodge Dart Custom;15.0;8;318.0;150.0;3399.;11.0;73;US\nSaab 99le;24.0;4;121.0;110.0;2660.;14.0;73;Europe\nToyota Mark II;20.0;6;156.0;122.0;2807.;13.5;73;Japan\nOldsmobile Omega;11.0;8;350.0;180.0;3664.;11.0;73;US\nPlymouth Duster;20.0;6;198.0;95.00;3102.;16.5;74;US\nFord Maverick;21.0;6;200.0;0;2875.;17.0;74;US\nAMC Hornet;19.0;6;232.0;100.0;2901.;16.0;74;US\nChevrolet Nova;15.0;6;250.0;100.0;3336.;17.0;74;US\nDatsun B210;31.0;4;79.00;67.00;1950.;19.0;74;Japan\nFord Pinto;26.0;4;122.0;80.00;2451.;16.5;74;US\nToyota Corolla 1200;32.0;4;71.00;65.00;1836.;21.0;74;Japan\nChevrolet Vega;25.0;4;140.0;75.00;2542.;17.0;74;US\nChevrolet Chevelle Malibu Classic;16.0;6;250.0;100.0;3781.;17.0;74;US\nAMC Matador;16.0;6;258.0;110.0;3632.;18.0;74;US\nPlymouth Satellite Sebring;18.0;6;225.0;105.0;3613.;16.5;74;US\nFord Gran Torino;16.0;8;302.0;140.0;4141.;14.0;74;US\nBuick Century Luxus (sw);13.0;8;350.0;150.0;4699.;14.5;74;US\nDodge Coronet Custom (sw);14.0;8;318.0;150.0;4457.;13.5;74;US\nFord Gran Torino (sw);14.0;8;302.0;140.0;4638.;16.0;74;US\nAMC Matador (sw);14.0;8;304.0;150.0;4257.;15.5;74;US\nAudi Fox;29.0;4;98.00;83.00;2219.;16.5;74;Europe\nVolkswagen Dasher;26.0;4;79.00;67.00;1963.;15.5;74;Europe\nOpel Manta;26.0;4;97.00;78.00;2300.;14.5;74;Europe\nToyota Corolla;31.0;4;76.00;52.00;1649.;16.5;74;Japan\nDatsun 710;32.0;4;83.00;61.00;2003.;19.0;74;Japan\nDodge Colt;28.0;4;90.00;75.00;2125.;14.5;74;US\nFiat 128;24.0;4;90.00;75.00;2108.;15.5;74;Europe\nFiat 124 TC;26.0;4;116.0;75.00;2246.;14.0;74;Europe\nHonda Civic;24.0;4;120.0;97.00;2489.;15.0;74;Japan\nSubaru;26.0;4;108.0;93.00;2391.;15.5;74;Japan\nFiat x1.9;31.0;4;79.00;67.00;2000.;16.0;74;Europe\nPlymouth Valiant Custom;19.0;6;225.0;95.00;3264.;16.0;75;US\nChevrolet Nova;18.0;6;250.0;105.0;3459.;16.0;75;US\nMercury Monarch;15.0;6;250.0;72.00;3432.;21.0;75;US\nFord Maverick;15.0;6;250.0;72.00;3158.;19.5;75;US\nPontiac Catalina;16.0;8;400.0;170.0;4668.;11.5;75;US\nChevrolet Bel Air;15.0;8;350.0;145.0;4440.;14.0;75;US\nPlymouth Grand Fury;16.0;8;318.0;150.0;4498.;14.5;75;US\nFord LTD;14.0;8;351.0;148.0;4657.;13.5;75;US\nBuick Century;17.0;6;231.0;110.0;3907.;21.0;75;US\nChevrolete Chevelle Malibu;16.0;6;250.0;105.0;3897.;18.5;75;US\nAMC Matador;15.0;6;258.0;110.0;3730.;19.0;75;US\nPlymouth Fury;18.0;6;225.0;95.00;3785.;19.0;75;US\nBuick Skyhawk;21.0;6;231.0;110.0;3039.;15.0;75;US\nChevrolet Monza 2+2;20.0;8;262.0;110.0;3221.;13.5;75;US\nFord Mustang II;13.0;8;302.0;129.0;3169.;12.0;75;US\nToyota Corolla;29.0;4;97.00;75.00;2171.;16.0;75;Japan\nFord Pinto;23.0;4;140.0;83.00;2639.;17.0;75;US\nAMC Gremlin;20.0;6;232.0;100.0;2914.;16.0;75;US\nPontiac Astro;23.0;4;140.0;78.00;2592.;18.5;75;US\nToyota Corolla;24.0;4;134.0;96.00;2702.;13.5;75;Japan\nVolkswagen Dasher;25.0;4;90.00;71.00;2223.;16.5;75;Europe\nDatsun 710;24.0;4;119.0;97.00;2545.;17.0;75;Japan\nFord Pinto;18.0;6;171.0;97.00;2984.;14.5;75;US\nVolkswagen Rabbit;29.0;4;90.00;70.00;1937.;14.0;75;Europe\nAMC Pacer;19.0;6;232.0;90.00;3211.;17.0;75;US\nAudi 100LS;23.0;4;115.0;95.00;2694.;15.0;75;Europe\nPeugeot 504;23.0;4;120.0;88.00;2957.;17.0;75;Europe\nVolvo 244DL;22.0;4;121.0;98.00;2945.;14.5;75;Europe\nSaab 99LE;25.0;4;121.0;115.0;2671.;13.5;75;Europe\nHonda Civic CVCC;33.0;4;91.00;53.00;1795.;17.5;75;Japan\nFiat 131;28.0;4;107.0;86.00;2464.;15.5;76;Europe\nOpel 1900;25.0;4;116.0;81.00;2220.;16.9;76;Europe\nCapri ii;25.0;4;140.0;92.00;2572.;14.9;76;US\nDodge Colt;26.0;4;98.00;79.00;2255.;17.7;76;US\nRenault 12tl;27.0;4;101.0;83.00;2202.;15.3;76;Europe\nChevrolet Chevelle Malibu Classic;17.5;8;305.0;140.0;4215.;13.0;76;US\nDodge Coronet Brougham;16.0;8;318.0;150.0;4190.;13.0;76;US\nAMC Matador;15.5;8;304.0;120.0;3962.;13.9;76;US\nFord Gran Torino;14.5;8;351.0;152.0;4215.;12.8;76;US\nPlymouth Valiant;22.0;6;225.0;100.0;3233.;15.4;76;US\nChevrolet Nova;22.0;6;250.0;105.0;3353.;14.5;76;US\nFord Maverick;24.0;6;200.0;81.00;3012.;17.6;76;US\nAMC Hornet;22.5;6;232.0;90.00;3085.;17.6;76;US\nChevrolet Chevette;29.0;4;85.00;52.00;2035.;22.2;76;US\nChevrolet Woody;24.5;4;98.00;60.00;2164.;22.1;76;US\nVolkswagen Rabbit;29.0;4;90.00;70.00;1937.;14.2;76;Europe\nHonda Civic;33.0;4;91.00;53.00;1795.;17.4;76;Japan\nDodge Aspen SE;20.0;6;225.0;100.0;3651.;17.7;76;US\nFord Grenada ghia;18.0;6;250.0;78.00;3574.;21.0;76;US\nPontiac Ventura SJ;18.5;6;250.0;110.0;3645.;16.2;76;US\nAMC Pacer d/l;17.5;6;258.0;95.00;3193.;17.8;76;US\nVolkswagen Rabbit;29.5;4;97.00;71.00;1825.;12.2;76;Europe\nDatsun B-210;32.0;4;85.00;70.00;1990.;17.0;76;Japan\nToyota Corolla;28.0;4;97.00;75.00;2155.;16.4;76;Japan\nFord Pinto;26.5;4;140.0;72.00;2565.;13.6;76;US\nVolvo 245;20.0;4;130.0;102.0;3150.;15.7;76;Europe\nPlymouth Volare Premier v8;13.0;8;318.0;150.0;3940.;13.2;76;US\nPeugeot 504;19.0;4;120.0;88.00;3270.;21.9;76;Europe\nToyota Mark II;19.0;6;156.0;108.0;2930.;15.5;76;Japan\nMercedes-Benz 280s;16.5;6;168.0;120.0;3820.;16.7;76;Europe\nCadillac Seville;16.5;8;350.0;180.0;4380.;12.1;76;US\nChevrolet C10;13.0;8;350.0;145.0;4055.;12.0;76;US\nFord F108;13.0;8;302.0;130.0;3870.;15.0;76;US\nDodge D100;13.0;8;318.0;150.0;3755.;14.0;76;US\nHonda Accord CVCC;31.5;4;98.00;68.00;2045.;18.5;77;Japan\nBuick Opel Isuzu Deluxe;30.0;4;111.0;80.00;2155.;14.8;77;US\nRenault 5 GTL;36.0;4;79.00;58.00;1825.;18.6;77;Europe\nPlymouth Arrow GS;25.5;4;122.0;96.00;2300.;15.5;77;US\nDatsun F-10 Hatchback;33.5;4;85.00;70.00;1945.;16.8;77;Japan\nChevrolet Caprice Classic;17.5;8;305.0;145.0;3880.;12.5;77;US\nOldsmobile Cutlass Supreme;17.0;8;260.0;110.0;4060.;19.0;77;US\nDodge Monaco Brougham;15.5;8;318.0;145.0;4140.;13.7;77;US\nMercury Cougar Brougham;15.0;8;302.0;130.0;4295.;14.9;77;US\nChevrolet Concours;17.5;6;250.0;110.0;3520.;16.4;77;US\nBuick Skylark;20.5;6;231.0;105.0;3425.;16.9;77;US\nPlymouth Volare Custom;19.0;6;225.0;100.0;3630.;17.7;77;US\nFord Grenada;18.5;6;250.0;98.00;3525.;19.0;77;US\nPontiac Grand Prix LJ;16.0;8;400.0;180.0;4220.;11.1;77;US\nChevrolet Monte Carlo Landau;15.5;8;350.0;170.0;4165.;11.4;77;US\nChrysler Cordoba;15.5;8;400.0;190.0;4325.;12.2;77;US\nFord Thunderbird;16.0;8;351.0;149.0;4335.;14.5;77;US\nVolkswagen Rabbit Custom;29.0;4;97.00;78.00;1940.;14.5;77;Europe\nPontiac Sunbird Coupe;24.5;4;151.0;88.00;2740.;16.0;77;US\nToyota Corolla Liftback;26.0;4;97.00;75.00;2265.;18.2;77;Japan\nFord Mustang II 2+2;25.5;4;140.0;89.00;2755.;15.8;77;US\nChevrolet Chevette;30.5;4;98.00;63.00;2051.;17.0;77;US\nDodge Colt m/m;33.5;4;98.00;83.00;2075.;15.9;77;US\nSubaru DL;30.0;4;97.00;67.00;1985.;16.4;77;Japan\nVolkswagen Dasher;30.5;4;97.00;78.00;2190.;14.1;77;Europe\nDatsun 810;22.0;6;146.0;97.00;2815.;14.5;77;Japan\nBMW 320i;21.5;4;121.0;110.0;2600.;12.8;77;Europe\nMazda RX-4;21.5;3;80.00;110.0;2720.;13.5;77;Japan\nVolkswagen Rabbit Custom Diesel;43.1;4;90.00;48.00;1985.;21.5;78;Europe\nFord Fiesta;36.1;4;98.00;66.00;1800.;14.4;78;US\nMazda GLC Deluxe;32.8;4;78.00;52.00;1985.;19.4;78;Japan\nDatsun B210 GX;39.4;4;85.00;70.00;2070.;18.6;78;Japan\nHonda Civic CVCC;36.1;4;91.00;60.00;1800.;16.4;78;Japan\nOldsmobile Cutlass Salon Brougham;19.9;8;260.0;110.0;3365.;15.5;78;US\nDodge Diplomat;19.4;8;318.0;140.0;3735.;13.2;78;US\nMercury Monarch ghia;20.2;8;302.0;139.0;3570.;12.8;78;US\nPontiac Phoenix LJ;19.2;6;231.0;105.0;3535.;19.2;78;US\nChevrolet Malibu;20.5;6;200.0;95.00;3155.;18.2;78;US\nFord Fairmont (auto);20.2;6;200.0;85.00;2965.;15.8;78;US\nFord Fairmont (man);25.1;4;140.0;88.00;2720.;15.4;78;US\nPlymouth Volare;20.5;6;225.0;100.0;3430.;17.2;78;US\nAMC Concord;19.4;6;232.0;90.00;3210.;17.2;78;US\nBuick Century Special;20.6;6;231.0;105.0;3380.;15.8;78;US\nMercury Zephyr;20.8;6;200.0;85.00;3070.;16.7;78;US\nDodge Aspen;18.6;6;225.0;110.0;3620.;18.7;78;US\nAMC Concord d/l;18.1;6;258.0;120.0;3410.;15.1;78;US\nChevrolet Monte Carlo Landau;19.2;8;305.0;145.0;3425.;13.2;78;US\nBuick Regal Sport Coupe (turbo);17.7;6;231.0;165.0;3445.;13.4;78;US\nFord Futura;18.1;8;302.0;139.0;3205.;11.2;78;US\nDodge Magnum XE;17.5;8;318.0;140.0;4080.;13.7;78;US\nChevrolet Chevette;30.0;4;98.00;68.00;2155.;16.5;78;US\nToyota Corolla;27.5;4;134.0;95.00;2560.;14.2;78;Japan\nDatsun 510;27.2;4;119.0;97.00;2300.;14.7;78;Japan\nDodge Omni;30.9;4;105.0;75.00;2230.;14.5;78;US\nToyota Celica GT Liftback;21.1;4;134.0;95.00;2515.;14.8;78;Japan\nPlymouth Sapporo;23.2;4;156.0;105.0;2745.;16.7;78;US\nOldsmobile Starfire SX;23.8;4;151.0;85.00;2855.;17.6;78;US\nDatsun 200-SX;23.9;4;119.0;97.00;2405.;14.9;78;Japan\nAudi 5000;20.3;5;131.0;103.0;2830.;15.9;78;Europe\nVolvo 264gl;17.0;6;163.0;125.0;3140.;13.6;78;Europe\nSaab 99gle;21.6;4;121.0;115.0;2795.;15.7;78;Europe\nPeugeot 604sl;16.2;6;163.0;133.0;3410.;15.8;78;Europe\nVolkswagen Scirocco;31.5;4;89.00;71.00;1990.;14.9;78;Europe\nHonda Accord LX;29.5;4;98.00;68.00;2135.;16.6;78;Japan\nPontiac Lemans V6;21.5;6;231.0;115.0;3245.;15.4;79;US\nMercury Zephyr 6;19.8;6;200.0;85.00;2990.;18.2;79;US\nFord Fairmont 4;22.3;4;140.0;88.00;2890.;17.3;79;US\nAMC Concord DL 6;20.2;6;232.0;90.00;3265.;18.2;79;US\nDodge Aspen 6;20.6;6;225.0;110.0;3360.;16.6;79;US\nChevrolet Caprice Classic;17.0;8;305.0;130.0;3840.;15.4;79;US\nFord LTD Landau;17.6;8;302.0;129.0;3725.;13.4;79;US\nMercury Grand Marquis;16.5;8;351.0;138.0;3955.;13.2;79;US\nDodge St. Regis;18.2;8;318.0;135.0;3830.;15.2;79;US\nBuick Estate Wagon (sw);16.9;8;350.0;155.0;4360.;14.9;79;US\nFord Country Squire (sw);15.5;8;351.0;142.0;4054.;14.3;79;US\nChevrolet Malibu Classic (sw);19.2;8;267.0;125.0;3605.;15.0;79;US\nChrysler Lebaron Town @ Country (sw);18.5;8;360.0;150.0;3940.;13.0;79;US\nVolkswagen Rabbit Custom;31.9;4;89.00;71.00;1925.;14.0;79;Europe\nMazda GLC Deluxe;34.1;4;86.00;65.00;1975.;15.2;79;Japan\nDodge Colt Hatchback Custom;35.7;4;98.00;80.00;1915.;14.4;79;US\nAMC Spirit DL;27.4;4;121.0;80.00;2670.;15.0;79;US\nMercedes Benz 300d;25.4;5;183.0;77.00;3530.;20.1;79;Europe\nCadillac Eldorado;23.0;8;350.0;125.0;3900.;17.4;79;US\nPeugeot 504;27.2;4;141.0;71.00;3190.;24.8;79;Europe\nOldsmobile Cutlass Salon Brougham;23.9;8;260.0;90.00;3420.;22.2;79;US\nPlymouth Horizon;34.2;4;105.0;70.00;2200.;13.2;79;US\nPlymouth Horizon TC3;34.5;4;105.0;70.00;2150.;14.9;79;US\nDatsun 210;31.8;4;85.00;65.00;2020.;19.2;79;Japan\nFiat Strada Custom;37.3;4;91.00;69.00;2130.;14.7;79;Europe\nBuick Skylark Limited;28.4;4;151.0;90.00;2670.;16.0;79;US\nChevrolet Citation;28.8;6;173.0;115.0;2595.;11.3;79;US\nOldsmobile Omega Brougham;26.8;6;173.0;115.0;2700.;12.9;79;US\nPontiac Phoenix;33.5;4;151.0;90.00;2556.;13.2;79;US\nVolkswagen Rabbit;41.5;4;98.00;76.00;2144.;14.7;80;Europe\nToyota Corolla Tercel;38.1;4;89.00;60.00;1968.;18.8;80;Japan\nChevrolet Chevette;32.1;4;98.00;70.00;2120.;15.5;80;US\nDatsun 310;37.2;4;86.00;65.00;2019.;16.4;80;Japan\nChevrolet Citation;28.0;4;151.0;90.00;2678.;16.5;80;US\nFord Fairmont;26.4;4;140.0;88.00;2870.;18.1;80;US\nAMC Concord;24.3;4;151.0;90.00;3003.;20.1;80;US\nDodge Aspen;19.1;6;225.0;90.00;3381.;18.7;80;US\nAudi 4000;34.3;4;97.00;78.00;2188.;15.8;80;Europe\nToyota Corolla Liftback;29.8;4;134.0;90.00;2711.;15.5;80;Japan\nMazda 626;31.3;4;120.0;75.00;2542.;17.5;80;Japan\nDatsun 510 Hatchback;37.0;4;119.0;92.00;2434.;15.0;80;Japan\nToyota Corolla;32.2;4;108.0;75.00;2265.;15.2;80;Japan\nMazda GLC;46.6;4;86.00;65.00;2110.;17.9;80;Japan\nDodge Colt;27.9;4;156.0;105.0;2800.;14.4;80;US\nDatsun 210;40.8;4;85.00;65.00;2110.;19.2;80;Japan\nVolkswagen Rabbit C (Diesel);44.3;4;90.00;48.00;2085.;21.7;80;Europe\nVolkswagen Dasher (diesel);43.4;4;90.00;48.00;2335.;23.7;80;Europe\nAudi 5000s (diesel);36.4;5;121.0;67.00;2950.;19.9;80;Europe\nMercedes-Benz 240d;30.0;4;146.0;67.00;3250.;21.8;80;Europe\nHonda Civic 1500 gl;44.6;4;91.00;67.00;1850.;13.8;80;Japan\nRenault Lecar Deluxe;40.9;4;85.00;0;1835.;17.3;80;Europe\nSubaru DL;33.8;4;97.00;67.00;2145.;18.0;80;Japan\nVolkswagen Rabbit;29.8;4;89.00;62.00;1845.;15.3;80;Europe\nDatsun 280-ZX;32.7;6;168.0;132.0;2910.;11.4;80;Japan\nMazda RX-7 GS;23.7;3;70.00;100.0;2420.;12.5;80;Japan\nTriumph TR7 Coupe;35.0;4;122.0;88.00;2500.;15.1;80;Europe\nFord Mustang Cobra;23.6;4;140.0;0;2905.;14.3;80;US\nHonda Accord;32.4;4;107.0;72.00;2290.;17.0;80;Japan\nPlymouth Reliant;27.2;4;135.0;84.00;2490.;15.7;81;US\nBuick Skylark;26.6;4;151.0;84.00;2635.;16.4;81;US\nDodge Aries Wagon (sw);25.8;4;156.0;92.00;2620.;14.4;81;US\nChevrolet Citation;23.5;6;173.0;110.0;2725.;12.6;81;US\nPlymouth Reliant;30.0;4;135.0;84.00;2385.;12.9;81;US\nToyota Starlet;39.1;4;79.00;58.00;1755.;16.9;81;Japan\nPlymouth Champ;39.0;4;86.00;64.00;1875.;16.4;81;US\nHonda Civic 1300;35.1;4;81.00;60.00;1760.;16.1;81;Japan\nSubaru;32.3;4;97.00;67.00;2065.;17.8;81;Japan\nDatsun 210 MPG;37.0;4;85.00;65.00;1975.;19.4;81;Japan\nToyota Tercel;37.7;4;89.00;62.00;2050.;17.3;81;Japan\nMazda GLC 4;34.1;4;91.00;68.00;1985.;16.0;81;Japan\nPlymouth Horizon 4;34.7;4;105.0;63.00;2215.;14.9;81;US\nFord Escort 4W;34.4;4;98.00;65.00;2045.;16.2;81;US\nFord Escort 2H;29.9;4;98.00;65.00;2380.;20.7;81;US\nVolkswagen Jetta;33.0;4;105.0;74.00;2190.;14.2;81;Europe\nRenault 18i;34.5;4;100.0;0;2320.;15.8;81;Europe\nHonda Prelude;33.7;4;107.0;75.00;2210.;14.4;81;Japan\nToyota Corolla;32.4;4;108.0;75.00;2350.;16.8;81;Japan\nDatsun 200SX;32.9;4;119.0;100.0;2615.;14.8;81;Japan\nMazda 626;31.6;4;120.0;74.00;2635.;18.3;81;Japan\nPeugeot 505s Turbo Diesel;28.1;4;141.0;80.00;3230.;20.4;81;Europe\nSaab 900s;0;4;121.0;110.0;2800.;15.4;81;Europe\nVolvo Diesel;30.7;6;145.0;76.00;3160.;19.6;81;Europe\nToyota Cressida;25.4;6;168.0;116.0;2900.;12.6;81;Japan\nDatsun 810 Maxima;24.2;6;146.0;120.0;2930.;13.8;81;Japan\nBuick Century;22.4;6;231.0;110.0;3415.;15.8;81;US\nOldsmobile Cutlass LS;26.6;8;350.0;105.0;3725.;19.0;81;US\nFord Grenada gl;20.2;6;200.0;88.00;3060.;17.1;81;US\nChrysler Lebaron Salon;17.6;6;225.0;85.00;3465.;16.6;81;US\nChevrolet Cavalier;28.0;4;112.0;88.00;2605.;19.6;82;US\nChevrolet Cavalier Wagon;27.0;4;112.0;88.00;2640.;18.6;82;US\nChevrolet Cavalier 2-door;34.0;4;112.0;88.00;2395.;18.0;82;US\nPontiac J2000 SE Hatchback;31.0;4;112.0;85.00;2575.;16.2;82;US\nDodge Aries SE;29.0;4;135.0;84.00;2525.;16.0;82;US\nPontiac Phoenix;27.0;4;151.0;90.00;2735.;18.0;82;US\nFord Fairmont Futura;24.0;4;140.0;92.00;2865.;16.4;82;US\nAMC Concord DL;23.0;4;151.0;0;3035.;20.5;82;US\nVolkswagen Rabbit l;36.0;4;105.0;74.00;1980.;15.3;82;Europe\nMazda GLC Custom l;37.0;4;91.00;68.00;2025.;18.2;82;Japan\nMazda GLC Custom;31.0;4;91.00;68.00;1970.;17.6;82;Japan\nPlymouth Horizon Miser;38.0;4;105.0;63.00;2125.;14.7;82;US\nMercury Lynx l;36.0;4;98.00;70.00;2125.;17.3;82;US\nNissan Stanza XE;36.0;4;120.0;88.00;2160.;14.5;82;Japan\nHonda Accord;36.0;4;107.0;75.00;2205.;14.5;82;Japan\nToyota Corolla;34.0;4;108.0;70.00;2245;16.9;82;Japan\nHonda Civic;38.0;4;91.00;67.00;1965.;15.0;82;Japan\nHonda Civic (auto);32.0;4;91.00;67.00;1965.;15.7;82;Japan\nDatsun 310 GX;38.0;4;91.00;67.00;1995.;16.2;82;Japan\nBuick Century Limited;25.0;6;181.0;110.0;2945.;16.4;82;US\nOldsmobile Cutlass Ciera (diesel);38.0;6;262.0;85.00;3015.;17.0;82;US\nChrysler Lebaron Medallion;26.0;4;156.0;92.00;2585.;14.5;82;US\nFord Grenada l;22.0;6;232.0;112.0;2835;14.7;82;US\nToyota Celica GT;32.0;4;144.0;96.00;2665.;13.9;82;Japan\nDodge Charger 2.2;36.0;4;135.0;84.00;2370.;13.0;82;US\nChevrolet Camaro;27.0;4;151.0;90.00;2950.;17.3;82;US\nFord Mustang GL;27.0;4;140.0;86.00;2790.;15.6;82;US\nVolkswagen Pickup;44.0;4;97.00;52.00;2130.;24.6;82;Europe\nDodge Rampage;32.0;4;135.0;84.00;2295.;11.6;82;US\nFord Ranger;28.0;4;120.0;79.00;2625.;18.6;82;US\nChevy S-10;31.0;4;119.0;82.00;2720.;19.4;82;US\n",
          "output_type": "stream"
        }
      ],
      "execution_count": null
    },
    {
      "cell_type": "code",
      "metadata": {
        "collapsed": true,
        "cell_id": "00342-ec3cd110-b54b-457a-a4e5-720571d34afc",
        "deepnote_to_be_reexecuted": true,
        "source_hash": "e8e18151",
        "is_code_hidden": false,
        "execution_millis": 11,
        "deepnote_cell_type": "code"
      },
      "source": "with open('cars.csv') as f:\n    l = f.readlines()",
      "outputs": [],
      "execution_count": null
    },
    {
      "cell_type": "code",
      "metadata": {
        "cell_id": "00343-d9315381-d5ae-4061-b5e9-0dc5ba83be9d",
        "deepnote_to_be_reexecuted": true,
        "source_hash": "66e02963",
        "is_code_hidden": false,
        "output_cleared": false,
        "execution_millis": 17,
        "deepnote_cell_type": "code"
      },
      "source": "l",
      "outputs": [
        {
          "output_type": "execute_result",
          "execution_count": 194,
          "data": {
            "text/plain": "['Car;MPG;Cylinders;Displacement;Horsepower;Weight;Acceleration;Model;Origin\\n',\n 'STRING;DOUBLE;INT;DOUBLE;DOUBLE;DOUBLE;DOUBLE;INT;CAT\\n',\n 'Chevrolet Chevelle Malibu;18.0;8;307.0;130.0;3504.;12.0;70;US\\n',\n 'Buick Skylark 320;15.0;8;350.0;165.0;3693.;11.5;70;US\\n',\n 'Plymouth Satellite;18.0;8;318.0;150.0;3436.;11.0;70;US\\n',\n 'AMC Rebel SST;16.0;8;304.0;150.0;3433.;12.0;70;US\\n',\n 'Ford Torino;17.0;8;302.0;140.0;3449.;10.5;70;US\\n',\n 'Ford Galaxie 500;15.0;8;429.0;198.0;4341.;10.0;70;US\\n',\n 'Chevrolet Impala;14.0;8;454.0;220.0;4354.;9.0;70;US\\n',\n 'Plymouth Fury iii;14.0;8;440.0;215.0;4312.;8.5;70;US\\n',\n 'Pontiac Catalina;14.0;8;455.0;225.0;4425.;10.0;70;US\\n',\n 'AMC Ambassador DPL;15.0;8;390.0;190.0;3850.;8.5;70;US\\n',\n 'Citroen DS-21 Pallas;0;4;133.0;115.0;3090.;17.5;70;Europe\\n',\n 'Chevrolet Chevelle Concours (sw);0;8;350.0;165.0;4142.;11.5;70;US\\n',\n 'Ford Torino (sw);0;8;351.0;153.0;4034.;11.0;70;US\\n',\n 'Plymouth Satellite (sw);0;8;383.0;175.0;4166.;10.5;70;US\\n',\n 'AMC Rebel SST (sw);0;8;360.0;175.0;3850.;11.0;70;US\\n',\n 'Dodge Challenger SE;15.0;8;383.0;170.0;3563.;10.0;70;US\\n',\n \"Plymouth 'Cuda 340;14.0;8;340.0;160.0;3609.;8.0;70;US\\n\",\n 'Ford Mustang Boss 302;0;8;302.0;140.0;3353.;8.0;70;US\\n',\n 'Chevrolet Monte Carlo;15.0;8;400.0;150.0;3761.;9.5;70;US\\n',\n 'Buick Estate Wagon (sw);14.0;8;455.0;225.0;3086.;10.0;70;US\\n',\n 'Toyota Corolla Mark ii;24.0;4;113.0;95.00;2372.;15.0;70;Japan\\n',\n 'Plymouth Duster;22.0;6;198.0;95.00;2833.;15.5;70;US\\n',\n 'AMC Hornet;18.0;6;199.0;97.00;2774.;15.5;70;US\\n',\n 'Ford Maverick;21.0;6;200.0;85.00;2587.;16.0;70;US\\n',\n 'Datsun PL510;27.0;4;97.00;88.00;2130.;14.5;70;Japan\\n',\n 'Volkswagen 1131 Deluxe Sedan;26.0;4;97.00;46.00;1835.;20.5;70;Europe\\n',\n 'Peugeot 504;25.0;4;110.0;87.00;2672.;17.5;70;Europe\\n',\n 'Audi 100 LS;24.0;4;107.0;90.00;2430.;14.5;70;Europe\\n',\n 'Saab 99e;25.0;4;104.0;95.00;2375.;17.5;70;Europe\\n',\n 'BMW 2002;26.0;4;121.0;113.0;2234.;12.5;70;Europe\\n',\n 'AMC Gremlin;21.0;6;199.0;90.00;2648.;15.0;70;US\\n',\n 'Ford F250;10.0;8;360.0;215.0;4615.;14.0;70;US\\n',\n 'Chevy C20;10.0;8;307.0;200.0;4376.;15.0;70;US\\n',\n 'Dodge D200;11.0;8;318.0;210.0;4382.;13.5;70;US\\n',\n 'Hi 1200D;9.0;8;304.0;193.0;4732.;18.5;70;US\\n',\n 'Datsun PL510;27.0;4;97.00;88.00;2130.;14.5;71;Japan\\n',\n 'Chevrolet Vega 2300;28.0;4;140.0;90.00;2264.;15.5;71;US\\n',\n 'Toyota Corolla;25.0;4;113.0;95.00;2228.;14.0;71;Japan\\n',\n 'Ford Pinto;25.0;4;98.00;0;2046.;19.0;71;US\\n',\n 'Volkswagen Super Beetle 117;0;4;97.00;48.00;1978.;20.0;71;Europe\\n',\n 'AMC Gremlin;19.0;6;232.0;100.0;2634.;13.0;71;US\\n',\n 'Plymouth Satellite Custom;16.0;6;225.0;105.0;3439.;15.5;71;US\\n',\n 'Chevrolet Chevelle Malibu;17.0;6;250.0;100.0;3329.;15.5;71;US\\n',\n 'Ford Torino 500;19.0;6;250.0;88.00;3302.;15.5;71;US\\n',\n 'AMC Matador;18.0;6;232.0;100.0;3288.;15.5;71;US\\n',\n 'Chevrolet Impala;14.0;8;350.0;165.0;4209.;12.0;71;US\\n',\n 'Pontiac Catalina Brougham;14.0;8;400.0;175.0;4464.;11.5;71;US\\n',\n 'Ford Galaxie 500;14.0;8;351.0;153.0;4154.;13.5;71;US\\n',\n 'Plymouth Fury iii;14.0;8;318.0;150.0;4096.;13.0;71;US\\n',\n 'Dodge Monaco (sw);12.0;8;383.0;180.0;4955.;11.5;71;US\\n',\n 'Ford Country Squire (sw);13.0;8;400.0;170.0;4746.;12.0;71;US\\n',\n 'Pontiac Safari (sw);13.0;8;400.0;175.0;5140.;12.0;71;US\\n',\n 'AMC Hornet Sportabout (sw);18.0;6;258.0;110.0;2962.;13.5;71;US\\n',\n 'Chevrolet Vega (sw);22.0;4;140.0;72.00;2408.;19.0;71;US\\n',\n 'Pontiac Firebird;19.0;6;250.0;100.0;3282.;15.0;71;US\\n',\n 'Ford Mustang;18.0;6;250.0;88.00;3139.;14.5;71;US\\n',\n 'Mercury Capri 2000;23.0;4;122.0;86.00;2220.;14.0;71;US\\n',\n 'Opel 1900;28.0;4;116.0;90.00;2123.;14.0;71;Europe\\n',\n 'Peugeot 304;30.0;4;79.00;70.00;2074.;19.5;71;Europe\\n',\n 'Fiat 124B;30.0;4;88.00;76.00;2065.;14.5;71;Europe\\n',\n 'Toyota Corolla 1200;31.0;4;71.00;65.00;1773.;19.0;71;Japan\\n',\n 'Datsun 1200;35.0;4;72.00;69.00;1613.;18.0;71;Japan\\n',\n 'Volkswagen Model 111;27.0;4;97.00;60.00;1834.;19.0;71;Europe\\n',\n 'Plymouth Cricket;26.0;4;91.00;70.00;1955.;20.5;71;US\\n',\n 'Toyota Corolla Hardtop;24.0;4;113.0;95.00;2278.;15.5;72;Japan\\n',\n 'Dodge Colt Hardtop;25.0;4;97.50;80.00;2126.;17.0;72;US\\n',\n 'Volkswagen Type 3;23.0;4;97.00;54.00;2254.;23.5;72;Europe\\n',\n 'Chevrolet Vega;20.0;4;140.0;90.00;2408.;19.5;72;US\\n',\n 'Ford Pinto Runabout;21.0;4;122.0;86.00;2226.;16.5;72;US\\n',\n 'Chevrolet Impala;13.0;8;350.0;165.0;4274.;12.0;72;US\\n',\n 'Pontiac Catalina;14.0;8;400.0;175.0;4385.;12.0;72;US\\n',\n 'Plymouth Fury III;15.0;8;318.0;150.0;4135.;13.5;72;US\\n',\n 'Ford Galaxie 500;14.0;8;351.0;153.0;4129.;13.0;72;US\\n',\n 'AMC Ambassador SST;17.0;8;304.0;150.0;3672.;11.5;72;US\\n',\n 'Mercury Marquis;11.0;8;429.0;208.0;4633.;11.0;72;US\\n',\n 'Buick LeSabre Custom;13.0;8;350.0;155.0;4502.;13.5;72;US\\n',\n 'Oldsmobile Delta 88 Royale;12.0;8;350.0;160.0;4456.;13.5;72;US\\n',\n 'Chrysler Newport Royal;13.0;8;400.0;190.0;4422.;12.5;72;US\\n',\n 'Mazda RX2 Coupe;19.0;3;70.00;97.00;2330.;13.5;72;Japan\\n',\n 'AMC Matador (sw);15.0;8;304.0;150.0;3892.;12.5;72;US\\n',\n 'Chevrolet Chevelle Concours (sw);13.0;8;307.0;130.0;4098.;14.0;72;US\\n',\n 'Ford Gran Torino (sw);13.0;8;302.0;140.0;4294.;16.0;72;US\\n',\n 'Plymouth Satellite Custom (sw);14.0;8;318.0;150.0;4077.;14.0;72;US\\n',\n 'Volvo 145e (sw);18.0;4;121.0;112.0;2933.;14.5;72;Europe\\n',\n 'Volkswagen 411 (sw);22.0;4;121.0;76.00;2511.;18.0;72;Europe\\n',\n 'Peugeot 504 (sw);21.0;4;120.0;87.00;2979.;19.5;72;Europe\\n',\n 'Renault 12 (sw);26.0;4;96.00;69.00;2189.;18.0;72;Europe\\n',\n 'Ford Pinto (sw);22.0;4;122.0;86.00;2395.;16.0;72;US\\n',\n 'Datsun 510 (sw);28.0;4;97.00;92.00;2288.;17.0;72;Japan\\n',\n 'Toyota Corolla Mark II (sw);23.0;4;120.0;97.00;2506.;14.5;72;Japan\\n',\n 'Dodge Colt (sw);28.0;4;98.00;80.00;2164.;15.0;72;US\\n',\n 'Toyota Corolla 1600 (sw);27.0;4;97.00;88.00;2100.;16.5;72;Japan\\n',\n 'Buick Century 350;13.0;8;350.0;175.0;4100.;13.0;73;US\\n',\n 'AMC Matador;14.0;8;304.0;150.0;3672.;11.5;73;US\\n',\n 'Chevrolet Malibu;13.0;8;350.0;145.0;3988.;13.0;73;US\\n',\n 'Ford Gran Torino;14.0;8;302.0;137.0;4042.;14.5;73;US\\n',\n 'Dodge Coronet Custom;15.0;8;318.0;150.0;3777.;12.5;73;US\\n',\n 'Mercury Marquis Brougham;12.0;8;429.0;198.0;4952.;11.5;73;US\\n',\n 'Chevrolet Caprice Classic;13.0;8;400.0;150.0;4464.;12.0;73;US\\n',\n 'Ford LTD;13.0;8;351.0;158.0;4363.;13.0;73;US\\n',\n 'Plymouth Fury Gran Sedan;14.0;8;318.0;150.0;4237.;14.5;73;US\\n',\n 'Chrysler New Yorker Brougham;13.0;8;440.0;215.0;4735.;11.0;73;US\\n',\n 'Buick Electra 225 Custom;12.0;8;455.0;225.0;4951.;11.0;73;US\\n',\n 'AMC Ambassador Brougham;13.0;8;360.0;175.0;3821.;11.0;73;US\\n',\n 'Plymouth Valiant;18.0;6;225.0;105.0;3121.;16.5;73;US\\n',\n 'Chevrolet Nova Custom;16.0;6;250.0;100.0;3278.;18.0;73;US\\n',\n 'AMC Hornet;18.0;6;232.0;100.0;2945.;16.0;73;US\\n',\n 'Ford Maverick;18.0;6;250.0;88.00;3021.;16.5;73;US\\n',\n 'Plymouth Duster;23.0;6;198.0;95.00;2904.;16.0;73;US\\n',\n 'Volkswagen Super Beetle;26.0;4;97.00;46.00;1950.;21.0;73;Europe\\n',\n 'Chevrolet Impala;11.0;8;400.0;150.0;4997.;14.0;73;US\\n',\n 'Ford Country;12.0;8;400.0;167.0;4906.;12.5;73;US\\n',\n 'Plymouth Custom Suburb;13.0;8;360.0;170.0;4654.;13.0;73;US\\n',\n 'Oldsmobile Vista Cruiser;12.0;8;350.0;180.0;4499.;12.5;73;US\\n',\n 'AMC Gremlin;18.0;6;232.0;100.0;2789.;15.0;73;US\\n',\n 'Toyota Camry;20.0;4;97.00;88.00;2279.;19.0;73;Japan\\n',\n 'Chevrolet Vega;21.0;4;140.0;72.00;2401.;19.5;73;US\\n',\n 'Datsun 610;22.0;4;108.0;94.00;2379.;16.5;73;Japan\\n',\n 'Mazda RX3;18.0;3;70.00;90.00;2124.;13.5;73;Japan\\n',\n 'Ford Pinto;19.0;4;122.0;85.00;2310.;18.5;73;US\\n',\n 'Mercury Capri v6;21.0;6;155.0;107.0;2472.;14.0;73;US\\n',\n 'Fiat 124 Sport Coupe;26.0;4;98.00;90.00;2265.;15.5;73;Europe\\n',\n 'Chevrolet Monte Carlo S;15.0;8;350.0;145.0;4082.;13.0;73;US\\n',\n 'Pontiac Grand Prix;16.0;8;400.0;230.0;4278.;9.50;73;US\\n',\n 'Fiat 128;29.0;4;68.00;49.00;1867.;19.5;73;Europe\\n',\n 'Opel Manta;24.0;4;116.0;75.00;2158.;15.5;73;Europe\\n',\n 'Audi 100LS;20.0;4;114.0;91.00;2582.;14.0;73;Europe\\n',\n 'Volvo 144ea;19.0;4;121.0;112.0;2868.;15.5;73;Europe\\n',\n 'Dodge Dart Custom;15.0;8;318.0;150.0;3399.;11.0;73;US\\n',\n 'Saab 99le;24.0;4;121.0;110.0;2660.;14.0;73;Europe\\n',\n 'Toyota Mark II;20.0;6;156.0;122.0;2807.;13.5;73;Japan\\n',\n 'Oldsmobile Omega;11.0;8;350.0;180.0;3664.;11.0;73;US\\n',\n 'Plymouth Duster;20.0;6;198.0;95.00;3102.;16.5;74;US\\n',\n 'Ford Maverick;21.0;6;200.0;0;2875.;17.0;74;US\\n',\n 'AMC Hornet;19.0;6;232.0;100.0;2901.;16.0;74;US\\n',\n 'Chevrolet Nova;15.0;6;250.0;100.0;3336.;17.0;74;US\\n',\n 'Datsun B210;31.0;4;79.00;67.00;1950.;19.0;74;Japan\\n',\n 'Ford Pinto;26.0;4;122.0;80.00;2451.;16.5;74;US\\n',\n 'Toyota Corolla 1200;32.0;4;71.00;65.00;1836.;21.0;74;Japan\\n',\n 'Chevrolet Vega;25.0;4;140.0;75.00;2542.;17.0;74;US\\n',\n 'Chevrolet Chevelle Malibu Classic;16.0;6;250.0;100.0;3781.;17.0;74;US\\n',\n 'AMC Matador;16.0;6;258.0;110.0;3632.;18.0;74;US\\n',\n 'Plymouth Satellite Sebring;18.0;6;225.0;105.0;3613.;16.5;74;US\\n',\n 'Ford Gran Torino;16.0;8;302.0;140.0;4141.;14.0;74;US\\n',\n 'Buick Century Luxus (sw);13.0;8;350.0;150.0;4699.;14.5;74;US\\n',\n 'Dodge Coronet Custom (sw);14.0;8;318.0;150.0;4457.;13.5;74;US\\n',\n 'Ford Gran Torino (sw);14.0;8;302.0;140.0;4638.;16.0;74;US\\n',\n 'AMC Matador (sw);14.0;8;304.0;150.0;4257.;15.5;74;US\\n',\n 'Audi Fox;29.0;4;98.00;83.00;2219.;16.5;74;Europe\\n',\n 'Volkswagen Dasher;26.0;4;79.00;67.00;1963.;15.5;74;Europe\\n',\n 'Opel Manta;26.0;4;97.00;78.00;2300.;14.5;74;Europe\\n',\n 'Toyota Corolla;31.0;4;76.00;52.00;1649.;16.5;74;Japan\\n',\n 'Datsun 710;32.0;4;83.00;61.00;2003.;19.0;74;Japan\\n',\n 'Dodge Colt;28.0;4;90.00;75.00;2125.;14.5;74;US\\n',\n 'Fiat 128;24.0;4;90.00;75.00;2108.;15.5;74;Europe\\n',\n 'Fiat 124 TC;26.0;4;116.0;75.00;2246.;14.0;74;Europe\\n',\n 'Honda Civic;24.0;4;120.0;97.00;2489.;15.0;74;Japan\\n',\n 'Subaru;26.0;4;108.0;93.00;2391.;15.5;74;Japan\\n',\n 'Fiat x1.9;31.0;4;79.00;67.00;2000.;16.0;74;Europe\\n',\n 'Plymouth Valiant Custom;19.0;6;225.0;95.00;3264.;16.0;75;US\\n',\n 'Chevrolet Nova;18.0;6;250.0;105.0;3459.;16.0;75;US\\n',\n 'Mercury Monarch;15.0;6;250.0;72.00;3432.;21.0;75;US\\n',\n 'Ford Maverick;15.0;6;250.0;72.00;3158.;19.5;75;US\\n',\n 'Pontiac Catalina;16.0;8;400.0;170.0;4668.;11.5;75;US\\n',\n 'Chevrolet Bel Air;15.0;8;350.0;145.0;4440.;14.0;75;US\\n',\n 'Plymouth Grand Fury;16.0;8;318.0;150.0;4498.;14.5;75;US\\n',\n 'Ford LTD;14.0;8;351.0;148.0;4657.;13.5;75;US\\n',\n 'Buick Century;17.0;6;231.0;110.0;3907.;21.0;75;US\\n',\n 'Chevrolete Chevelle Malibu;16.0;6;250.0;105.0;3897.;18.5;75;US\\n',\n 'AMC Matador;15.0;6;258.0;110.0;3730.;19.0;75;US\\n',\n 'Plymouth Fury;18.0;6;225.0;95.00;3785.;19.0;75;US\\n',\n 'Buick Skyhawk;21.0;6;231.0;110.0;3039.;15.0;75;US\\n',\n 'Chevrolet Monza 2+2;20.0;8;262.0;110.0;3221.;13.5;75;US\\n',\n 'Ford Mustang II;13.0;8;302.0;129.0;3169.;12.0;75;US\\n',\n 'Toyota Corolla;29.0;4;97.00;75.00;2171.;16.0;75;Japan\\n',\n 'Ford Pinto;23.0;4;140.0;83.00;2639.;17.0;75;US\\n',\n 'AMC Gremlin;20.0;6;232.0;100.0;2914.;16.0;75;US\\n',\n 'Pontiac Astro;23.0;4;140.0;78.00;2592.;18.5;75;US\\n',\n 'Toyota Corolla;24.0;4;134.0;96.00;2702.;13.5;75;Japan\\n',\n 'Volkswagen Dasher;25.0;4;90.00;71.00;2223.;16.5;75;Europe\\n',\n 'Datsun 710;24.0;4;119.0;97.00;2545.;17.0;75;Japan\\n',\n 'Ford Pinto;18.0;6;171.0;97.00;2984.;14.5;75;US\\n',\n 'Volkswagen Rabbit;29.0;4;90.00;70.00;1937.;14.0;75;Europe\\n',\n 'AMC Pacer;19.0;6;232.0;90.00;3211.;17.0;75;US\\n',\n 'Audi 100LS;23.0;4;115.0;95.00;2694.;15.0;75;Europe\\n',\n 'Peugeot 504;23.0;4;120.0;88.00;2957.;17.0;75;Europe\\n',\n 'Volvo 244DL;22.0;4;121.0;98.00;2945.;14.5;75;Europe\\n',\n 'Saab 99LE;25.0;4;121.0;115.0;2671.;13.5;75;Europe\\n',\n 'Honda Civic CVCC;33.0;4;91.00;53.00;1795.;17.5;75;Japan\\n',\n 'Fiat 131;28.0;4;107.0;86.00;2464.;15.5;76;Europe\\n',\n 'Opel 1900;25.0;4;116.0;81.00;2220.;16.9;76;Europe\\n',\n 'Capri ii;25.0;4;140.0;92.00;2572.;14.9;76;US\\n',\n 'Dodge Colt;26.0;4;98.00;79.00;2255.;17.7;76;US\\n',\n 'Renault 12tl;27.0;4;101.0;83.00;2202.;15.3;76;Europe\\n',\n 'Chevrolet Chevelle Malibu Classic;17.5;8;305.0;140.0;4215.;13.0;76;US\\n',\n 'Dodge Coronet Brougham;16.0;8;318.0;150.0;4190.;13.0;76;US\\n',\n 'AMC Matador;15.5;8;304.0;120.0;3962.;13.9;76;US\\n',\n 'Ford Gran Torino;14.5;8;351.0;152.0;4215.;12.8;76;US\\n',\n 'Plymouth Valiant;22.0;6;225.0;100.0;3233.;15.4;76;US\\n',\n 'Chevrolet Nova;22.0;6;250.0;105.0;3353.;14.5;76;US\\n',\n 'Ford Maverick;24.0;6;200.0;81.00;3012.;17.6;76;US\\n',\n 'AMC Hornet;22.5;6;232.0;90.00;3085.;17.6;76;US\\n',\n 'Chevrolet Chevette;29.0;4;85.00;52.00;2035.;22.2;76;US\\n',\n 'Chevrolet Woody;24.5;4;98.00;60.00;2164.;22.1;76;US\\n',\n 'Volkswagen Rabbit;29.0;4;90.00;70.00;1937.;14.2;76;Europe\\n',\n 'Honda Civic;33.0;4;91.00;53.00;1795.;17.4;76;Japan\\n',\n 'Dodge Aspen SE;20.0;6;225.0;100.0;3651.;17.7;76;US\\n',\n 'Ford Grenada ghia;18.0;6;250.0;78.00;3574.;21.0;76;US\\n',\n 'Pontiac Ventura SJ;18.5;6;250.0;110.0;3645.;16.2;76;US\\n',\n 'AMC Pacer d/l;17.5;6;258.0;95.00;3193.;17.8;76;US\\n',\n 'Volkswagen Rabbit;29.5;4;97.00;71.00;1825.;12.2;76;Europe\\n',\n 'Datsun B-210;32.0;4;85.00;70.00;1990.;17.0;76;Japan\\n',\n 'Toyota Corolla;28.0;4;97.00;75.00;2155.;16.4;76;Japan\\n',\n 'Ford Pinto;26.5;4;140.0;72.00;2565.;13.6;76;US\\n',\n 'Volvo 245;20.0;4;130.0;102.0;3150.;15.7;76;Europe\\n',\n 'Plymouth Volare Premier v8;13.0;8;318.0;150.0;3940.;13.2;76;US\\n',\n 'Peugeot 504;19.0;4;120.0;88.00;3270.;21.9;76;Europe\\n',\n 'Toyota Mark II;19.0;6;156.0;108.0;2930.;15.5;76;Japan\\n',\n 'Mercedes-Benz 280s;16.5;6;168.0;120.0;3820.;16.7;76;Europe\\n',\n 'Cadillac Seville;16.5;8;350.0;180.0;4380.;12.1;76;US\\n',\n 'Chevrolet C10;13.0;8;350.0;145.0;4055.;12.0;76;US\\n',\n 'Ford F108;13.0;8;302.0;130.0;3870.;15.0;76;US\\n',\n 'Dodge D100;13.0;8;318.0;150.0;3755.;14.0;76;US\\n',\n 'Honda Accord CVCC;31.5;4;98.00;68.00;2045.;18.5;77;Japan\\n',\n 'Buick Opel Isuzu Deluxe;30.0;4;111.0;80.00;2155.;14.8;77;US\\n',\n 'Renault 5 GTL;36.0;4;79.00;58.00;1825.;18.6;77;Europe\\n',\n 'Plymouth Arrow GS;25.5;4;122.0;96.00;2300.;15.5;77;US\\n',\n 'Datsun F-10 Hatchback;33.5;4;85.00;70.00;1945.;16.8;77;Japan\\n',\n 'Chevrolet Caprice Classic;17.5;8;305.0;145.0;3880.;12.5;77;US\\n',\n 'Oldsmobile Cutlass Supreme;17.0;8;260.0;110.0;4060.;19.0;77;US\\n',\n 'Dodge Monaco Brougham;15.5;8;318.0;145.0;4140.;13.7;77;US\\n',\n 'Mercury Cougar Brougham;15.0;8;302.0;130.0;4295.;14.9;77;US\\n',\n 'Chevrolet Concours;17.5;6;250.0;110.0;3520.;16.4;77;US\\n',\n 'Buick Skylark;20.5;6;231.0;105.0;3425.;16.9;77;US\\n',\n 'Plymouth Volare Custom;19.0;6;225.0;100.0;3630.;17.7;77;US\\n',\n 'Ford Grenada;18.5;6;250.0;98.00;3525.;19.0;77;US\\n',\n 'Pontiac Grand Prix LJ;16.0;8;400.0;180.0;4220.;11.1;77;US\\n',\n 'Chevrolet Monte Carlo Landau;15.5;8;350.0;170.0;4165.;11.4;77;US\\n',\n 'Chrysler Cordoba;15.5;8;400.0;190.0;4325.;12.2;77;US\\n',\n 'Ford Thunderbird;16.0;8;351.0;149.0;4335.;14.5;77;US\\n',\n 'Volkswagen Rabbit Custom;29.0;4;97.00;78.00;1940.;14.5;77;Europe\\n',\n 'Pontiac Sunbird Coupe;24.5;4;151.0;88.00;2740.;16.0;77;US\\n',\n 'Toyota Corolla Liftback;26.0;4;97.00;75.00;2265.;18.2;77;Japan\\n',\n 'Ford Mustang II 2+2;25.5;4;140.0;89.00;2755.;15.8;77;US\\n',\n 'Chevrolet Chevette;30.5;4;98.00;63.00;2051.;17.0;77;US\\n',\n 'Dodge Colt m/m;33.5;4;98.00;83.00;2075.;15.9;77;US\\n',\n 'Subaru DL;30.0;4;97.00;67.00;1985.;16.4;77;Japan\\n',\n 'Volkswagen Dasher;30.5;4;97.00;78.00;2190.;14.1;77;Europe\\n',\n 'Datsun 810;22.0;6;146.0;97.00;2815.;14.5;77;Japan\\n',\n 'BMW 320i;21.5;4;121.0;110.0;2600.;12.8;77;Europe\\n',\n 'Mazda RX-4;21.5;3;80.00;110.0;2720.;13.5;77;Japan\\n',\n 'Volkswagen Rabbit Custom Diesel;43.1;4;90.00;48.00;1985.;21.5;78;Europe\\n',\n 'Ford Fiesta;36.1;4;98.00;66.00;1800.;14.4;78;US\\n',\n 'Mazda GLC Deluxe;32.8;4;78.00;52.00;1985.;19.4;78;Japan\\n',\n 'Datsun B210 GX;39.4;4;85.00;70.00;2070.;18.6;78;Japan\\n',\n 'Honda Civic CVCC;36.1;4;91.00;60.00;1800.;16.4;78;Japan\\n',\n 'Oldsmobile Cutlass Salon Brougham;19.9;8;260.0;110.0;3365.;15.5;78;US\\n',\n 'Dodge Diplomat;19.4;8;318.0;140.0;3735.;13.2;78;US\\n',\n 'Mercury Monarch ghia;20.2;8;302.0;139.0;3570.;12.8;78;US\\n',\n 'Pontiac Phoenix LJ;19.2;6;231.0;105.0;3535.;19.2;78;US\\n',\n 'Chevrolet Malibu;20.5;6;200.0;95.00;3155.;18.2;78;US\\n',\n 'Ford Fairmont (auto);20.2;6;200.0;85.00;2965.;15.8;78;US\\n',\n 'Ford Fairmont (man);25.1;4;140.0;88.00;2720.;15.4;78;US\\n',\n 'Plymouth Volare;20.5;6;225.0;100.0;3430.;17.2;78;US\\n',\n 'AMC Concord;19.4;6;232.0;90.00;3210.;17.2;78;US\\n',\n 'Buick Century Special;20.6;6;231.0;105.0;3380.;15.8;78;US\\n',\n 'Mercury Zephyr;20.8;6;200.0;85.00;3070.;16.7;78;US\\n',\n 'Dodge Aspen;18.6;6;225.0;110.0;3620.;18.7;78;US\\n',\n 'AMC Concord d/l;18.1;6;258.0;120.0;3410.;15.1;78;US\\n',\n 'Chevrolet Monte Carlo Landau;19.2;8;305.0;145.0;3425.;13.2;78;US\\n',\n 'Buick Regal Sport Coupe (turbo);17.7;6;231.0;165.0;3445.;13.4;78;US\\n',\n 'Ford Futura;18.1;8;302.0;139.0;3205.;11.2;78;US\\n',\n 'Dodge Magnum XE;17.5;8;318.0;140.0;4080.;13.7;78;US\\n',\n 'Chevrolet Chevette;30.0;4;98.00;68.00;2155.;16.5;78;US\\n',\n 'Toyota Corolla;27.5;4;134.0;95.00;2560.;14.2;78;Japan\\n',\n 'Datsun 510;27.2;4;119.0;97.00;2300.;14.7;78;Japan\\n',\n 'Dodge Omni;30.9;4;105.0;75.00;2230.;14.5;78;US\\n',\n 'Toyota Celica GT Liftback;21.1;4;134.0;95.00;2515.;14.8;78;Japan\\n',\n 'Plymouth Sapporo;23.2;4;156.0;105.0;2745.;16.7;78;US\\n',\n 'Oldsmobile Starfire SX;23.8;4;151.0;85.00;2855.;17.6;78;US\\n',\n 'Datsun 200-SX;23.9;4;119.0;97.00;2405.;14.9;78;Japan\\n',\n 'Audi 5000;20.3;5;131.0;103.0;2830.;15.9;78;Europe\\n',\n 'Volvo 264gl;17.0;6;163.0;125.0;3140.;13.6;78;Europe\\n',\n 'Saab 99gle;21.6;4;121.0;115.0;2795.;15.7;78;Europe\\n',\n 'Peugeot 604sl;16.2;6;163.0;133.0;3410.;15.8;78;Europe\\n',\n 'Volkswagen Scirocco;31.5;4;89.00;71.00;1990.;14.9;78;Europe\\n',\n 'Honda Accord LX;29.5;4;98.00;68.00;2135.;16.6;78;Japan\\n',\n 'Pontiac Lemans V6;21.5;6;231.0;115.0;3245.;15.4;79;US\\n',\n 'Mercury Zephyr 6;19.8;6;200.0;85.00;2990.;18.2;79;US\\n',\n 'Ford Fairmont 4;22.3;4;140.0;88.00;2890.;17.3;79;US\\n',\n 'AMC Concord DL 6;20.2;6;232.0;90.00;3265.;18.2;79;US\\n',\n 'Dodge Aspen 6;20.6;6;225.0;110.0;3360.;16.6;79;US\\n',\n 'Chevrolet Caprice Classic;17.0;8;305.0;130.0;3840.;15.4;79;US\\n',\n 'Ford LTD Landau;17.6;8;302.0;129.0;3725.;13.4;79;US\\n',\n 'Mercury Grand Marquis;16.5;8;351.0;138.0;3955.;13.2;79;US\\n',\n 'Dodge St. Regis;18.2;8;318.0;135.0;3830.;15.2;79;US\\n',\n 'Buick Estate Wagon (sw);16.9;8;350.0;155.0;4360.;14.9;79;US\\n',\n 'Ford Country Squire (sw);15.5;8;351.0;142.0;4054.;14.3;79;US\\n',\n 'Chevrolet Malibu Classic (sw);19.2;8;267.0;125.0;3605.;15.0;79;US\\n',\n 'Chrysler Lebaron Town @ Country (sw);18.5;8;360.0;150.0;3940.;13.0;79;US\\n',\n 'Volkswagen Rabbit Custom;31.9;4;89.00;71.00;1925.;14.0;79;Europe\\n',\n 'Mazda GLC Deluxe;34.1;4;86.00;65.00;1975.;15.2;79;Japan\\n',\n 'Dodge Colt Hatchback Custom;35.7;4;98.00;80.00;1915.;14.4;79;US\\n',\n 'AMC Spirit DL;27.4;4;121.0;80.00;2670.;15.0;79;US\\n',\n 'Mercedes Benz 300d;25.4;5;183.0;77.00;3530.;20.1;79;Europe\\n',\n 'Cadillac Eldorado;23.0;8;350.0;125.0;3900.;17.4;79;US\\n',\n 'Peugeot 504;27.2;4;141.0;71.00;3190.;24.8;79;Europe\\n',\n 'Oldsmobile Cutlass Salon Brougham;23.9;8;260.0;90.00;3420.;22.2;79;US\\n',\n 'Plymouth Horizon;34.2;4;105.0;70.00;2200.;13.2;79;US\\n',\n 'Plymouth Horizon TC3;34.5;4;105.0;70.00;2150.;14.9;79;US\\n',\n 'Datsun 210;31.8;4;85.00;65.00;2020.;19.2;79;Japan\\n',\n 'Fiat Strada Custom;37.3;4;91.00;69.00;2130.;14.7;79;Europe\\n',\n 'Buick Skylark Limited;28.4;4;151.0;90.00;2670.;16.0;79;US\\n',\n 'Chevrolet Citation;28.8;6;173.0;115.0;2595.;11.3;79;US\\n',\n 'Oldsmobile Omega Brougham;26.8;6;173.0;115.0;2700.;12.9;79;US\\n',\n 'Pontiac Phoenix;33.5;4;151.0;90.00;2556.;13.2;79;US\\n',\n 'Volkswagen Rabbit;41.5;4;98.00;76.00;2144.;14.7;80;Europe\\n',\n 'Toyota Corolla Tercel;38.1;4;89.00;60.00;1968.;18.8;80;Japan\\n',\n 'Chevrolet Chevette;32.1;4;98.00;70.00;2120.;15.5;80;US\\n',\n 'Datsun 310;37.2;4;86.00;65.00;2019.;16.4;80;Japan\\n',\n 'Chevrolet Citation;28.0;4;151.0;90.00;2678.;16.5;80;US\\n',\n 'Ford Fairmont;26.4;4;140.0;88.00;2870.;18.1;80;US\\n',\n 'AMC Concord;24.3;4;151.0;90.00;3003.;20.1;80;US\\n',\n 'Dodge Aspen;19.1;6;225.0;90.00;3381.;18.7;80;US\\n',\n 'Audi 4000;34.3;4;97.00;78.00;2188.;15.8;80;Europe\\n',\n 'Toyota Corolla Liftback;29.8;4;134.0;90.00;2711.;15.5;80;Japan\\n',\n 'Mazda 626;31.3;4;120.0;75.00;2542.;17.5;80;Japan\\n',\n 'Datsun 510 Hatchback;37.0;4;119.0;92.00;2434.;15.0;80;Japan\\n',\n 'Toyota Corolla;32.2;4;108.0;75.00;2265.;15.2;80;Japan\\n',\n 'Mazda GLC;46.6;4;86.00;65.00;2110.;17.9;80;Japan\\n',\n 'Dodge Colt;27.9;4;156.0;105.0;2800.;14.4;80;US\\n',\n 'Datsun 210;40.8;4;85.00;65.00;2110.;19.2;80;Japan\\n',\n 'Volkswagen Rabbit C (Diesel);44.3;4;90.00;48.00;2085.;21.7;80;Europe\\n',\n 'Volkswagen Dasher (diesel);43.4;4;90.00;48.00;2335.;23.7;80;Europe\\n',\n 'Audi 5000s (diesel);36.4;5;121.0;67.00;2950.;19.9;80;Europe\\n',\n 'Mercedes-Benz 240d;30.0;4;146.0;67.00;3250.;21.8;80;Europe\\n',\n 'Honda Civic 1500 gl;44.6;4;91.00;67.00;1850.;13.8;80;Japan\\n',\n 'Renault Lecar Deluxe;40.9;4;85.00;0;1835.;17.3;80;Europe\\n',\n 'Subaru DL;33.8;4;97.00;67.00;2145.;18.0;80;Japan\\n',\n 'Volkswagen Rabbit;29.8;4;89.00;62.00;1845.;15.3;80;Europe\\n',\n 'Datsun 280-ZX;32.7;6;168.0;132.0;2910.;11.4;80;Japan\\n',\n 'Mazda RX-7 GS;23.7;3;70.00;100.0;2420.;12.5;80;Japan\\n',\n 'Triumph TR7 Coupe;35.0;4;122.0;88.00;2500.;15.1;80;Europe\\n',\n 'Ford Mustang Cobra;23.6;4;140.0;0;2905.;14.3;80;US\\n',\n 'Honda Accord;32.4;4;107.0;72.00;2290.;17.0;80;Japan\\n',\n 'Plymouth Reliant;27.2;4;135.0;84.00;2490.;15.7;81;US\\n',\n 'Buick Skylark;26.6;4;151.0;84.00;2635.;16.4;81;US\\n',\n 'Dodge Aries Wagon (sw);25.8;4;156.0;92.00;2620.;14.4;81;US\\n',\n 'Chevrolet Citation;23.5;6;173.0;110.0;2725.;12.6;81;US\\n',\n 'Plymouth Reliant;30.0;4;135.0;84.00;2385.;12.9;81;US\\n',\n 'Toyota Starlet;39.1;4;79.00;58.00;1755.;16.9;81;Japan\\n',\n 'Plymouth Champ;39.0;4;86.00;64.00;1875.;16.4;81;US\\n',\n 'Honda Civic 1300;35.1;4;81.00;60.00;1760.;16.1;81;Japan\\n',\n 'Subaru;32.3;4;97.00;67.00;2065.;17.8;81;Japan\\n',\n 'Datsun 210 MPG;37.0;4;85.00;65.00;1975.;19.4;81;Japan\\n',\n 'Toyota Tercel;37.7;4;89.00;62.00;2050.;17.3;81;Japan\\n',\n 'Mazda GLC 4;34.1;4;91.00;68.00;1985.;16.0;81;Japan\\n',\n 'Plymouth Horizon 4;34.7;4;105.0;63.00;2215.;14.9;81;US\\n',\n 'Ford Escort 4W;34.4;4;98.00;65.00;2045.;16.2;81;US\\n',\n 'Ford Escort 2H;29.9;4;98.00;65.00;2380.;20.7;81;US\\n',\n 'Volkswagen Jetta;33.0;4;105.0;74.00;2190.;14.2;81;Europe\\n',\n 'Renault 18i;34.5;4;100.0;0;2320.;15.8;81;Europe\\n',\n 'Honda Prelude;33.7;4;107.0;75.00;2210.;14.4;81;Japan\\n',\n 'Toyota Corolla;32.4;4;108.0;75.00;2350.;16.8;81;Japan\\n',\n 'Datsun 200SX;32.9;4;119.0;100.0;2615.;14.8;81;Japan\\n',\n 'Mazda 626;31.6;4;120.0;74.00;2635.;18.3;81;Japan\\n',\n 'Peugeot 505s Turbo Diesel;28.1;4;141.0;80.00;3230.;20.4;81;Europe\\n',\n 'Saab 900s;0;4;121.0;110.0;2800.;15.4;81;Europe\\n',\n 'Volvo Diesel;30.7;6;145.0;76.00;3160.;19.6;81;Europe\\n',\n 'Toyota Cressida;25.4;6;168.0;116.0;2900.;12.6;81;Japan\\n',\n 'Datsun 810 Maxima;24.2;6;146.0;120.0;2930.;13.8;81;Japan\\n',\n 'Buick Century;22.4;6;231.0;110.0;3415.;15.8;81;US\\n',\n 'Oldsmobile Cutlass LS;26.6;8;350.0;105.0;3725.;19.0;81;US\\n',\n 'Ford Grenada gl;20.2;6;200.0;88.00;3060.;17.1;81;US\\n',\n 'Chrysler Lebaron Salon;17.6;6;225.0;85.00;3465.;16.6;81;US\\n',\n 'Chevrolet Cavalier;28.0;4;112.0;88.00;2605.;19.6;82;US\\n',\n 'Chevrolet Cavalier Wagon;27.0;4;112.0;88.00;2640.;18.6;82;US\\n',\n 'Chevrolet Cavalier 2-door;34.0;4;112.0;88.00;2395.;18.0;82;US\\n',\n 'Pontiac J2000 SE Hatchback;31.0;4;112.0;85.00;2575.;16.2;82;US\\n',\n 'Dodge Aries SE;29.0;4;135.0;84.00;2525.;16.0;82;US\\n',\n 'Pontiac Phoenix;27.0;4;151.0;90.00;2735.;18.0;82;US\\n',\n 'Ford Fairmont Futura;24.0;4;140.0;92.00;2865.;16.4;82;US\\n',\n 'AMC Concord DL;23.0;4;151.0;0;3035.;20.5;82;US\\n',\n 'Volkswagen Rabbit l;36.0;4;105.0;74.00;1980.;15.3;82;Europe\\n',\n 'Mazda GLC Custom l;37.0;4;91.00;68.00;2025.;18.2;82;Japan\\n',\n 'Mazda GLC Custom;31.0;4;91.00;68.00;1970.;17.6;82;Japan\\n',\n 'Plymouth Horizon Miser;38.0;4;105.0;63.00;2125.;14.7;82;US\\n',\n 'Mercury Lynx l;36.0;4;98.00;70.00;2125.;17.3;82;US\\n',\n 'Nissan Stanza XE;36.0;4;120.0;88.00;2160.;14.5;82;Japan\\n',\n 'Honda Accord;36.0;4;107.0;75.00;2205.;14.5;82;Japan\\n',\n 'Toyota Corolla;34.0;4;108.0;70.00;2245;16.9;82;Japan\\n',\n 'Honda Civic;38.0;4;91.00;67.00;1965.;15.0;82;Japan\\n',\n 'Honda Civic (auto);32.0;4;91.00;67.00;1965.;15.7;82;Japan\\n',\n 'Datsun 310 GX;38.0;4;91.00;67.00;1995.;16.2;82;Japan\\n',\n 'Buick Century Limited;25.0;6;181.0;110.0;2945.;16.4;82;US\\n',\n 'Oldsmobile Cutlass Ciera (diesel);38.0;6;262.0;85.00;3015.;17.0;82;US\\n',\n 'Chrysler Lebaron Medallion;26.0;4;156.0;92.00;2585.;14.5;82;US\\n',\n 'Ford Grenada l;22.0;6;232.0;112.0;2835;14.7;82;US\\n',\n 'Toyota Celica GT;32.0;4;144.0;96.00;2665.;13.9;82;Japan\\n',\n 'Dodge Charger 2.2;36.0;4;135.0;84.00;2370.;13.0;82;US\\n',\n 'Chevrolet Camaro;27.0;4;151.0;90.00;2950.;17.3;82;US\\n',\n 'Ford Mustang GL;27.0;4;140.0;86.00;2790.;15.6;82;US\\n',\n 'Volkswagen Pickup;44.0;4;97.00;52.00;2130.;24.6;82;Europe\\n',\n 'Dodge Rampage;32.0;4;135.0;84.00;2295.;11.6;82;US\\n',\n 'Ford Ranger;28.0;4;120.0;79.00;2625.;18.6;82;US\\n',\n 'Chevy S-10;31.0;4;119.0;82.00;2720.;19.4;82;US\\n']"
          },
          "metadata": {}
        }
      ],
      "execution_count": null
    },
    {
      "cell_type": "code",
      "metadata": {
        "cell_id": "00346-ccb0b7fd-f084-45eb-a4bc-b5def3680180",
        "deepnote_to_be_reexecuted": true,
        "source_hash": "1174e267",
        "is_code_hidden": false,
        "output_cleared": false,
        "execution_millis": 14,
        "deepnote_cell_type": "code"
      },
      "source": "origins = set()\nwith open('cars.csv') as f:\n    rows = f.readlines()\nfor row in rows[2:]:\n    origin = row.strip('\\n').split(';')[-1]\n    origins.add(origin)\nprint(origins)",
      "outputs": [
        {
          "name": "stdout",
          "text": "{'Japan', 'Europe', 'US'}\n",
          "output_type": "stream"
        }
      ],
      "execution_count": null
    },
    {
      "cell_type": "code",
      "metadata": {
        "cell_id": "00347-e0b0c763-2d71-44eb-9859-b69d537fd7eb",
        "deepnote_to_be_reexecuted": true,
        "source_hash": "c56075cb",
        "is_code_hidden": false,
        "output_cleared": false,
        "execution_millis": 60,
        "deepnote_cell_type": "code"
      },
      "source": "origins = set()\nwith open('cars.csv') as f:\n    next(f), next(f)\n    for row in f:\n        origin = row.strip('\\n').split(';')[-1]\n        origins.add(origin)\nprint(origins)",
      "outputs": [
        {
          "name": "stdout",
          "text": "{'Japan', 'Europe', 'US'}\n",
          "output_type": "stream"
        }
      ],
      "execution_count": null
    },
    {
      "cell_type": "code",
      "metadata": {
        "collapsed": true,
        "cell_id": "00350-84047171-09a5-4e95-b153-36dcd3c5054c",
        "deepnote_to_be_reexecuted": true,
        "source_hash": "cedce895",
        "is_code_hidden": false,
        "execution_millis": 0,
        "deepnote_cell_type": "code"
      },
      "source": "e = enumerate('Python rocks!')",
      "outputs": [],
      "execution_count": null
    },
    {
      "cell_type": "code",
      "metadata": {
        "cell_id": "00351-d8b484c9-b695-48fe-ab1c-2698530afef2",
        "deepnote_to_be_reexecuted": true,
        "source_hash": "d7aea5e7",
        "is_code_hidden": false,
        "output_cleared": false,
        "execution_millis": 15,
        "deepnote_cell_type": "code"
      },
      "source": "print('__iter__' in dir(e))\nprint('__next__' in dir(e))",
      "outputs": [
        {
          "name": "stdout",
          "text": "True\nTrue\n",
          "output_type": "stream"
        }
      ],
      "execution_count": null
    },
    {
      "cell_type": "code",
      "metadata": {
        "cell_id": "00352-2f0caedc-ffa5-498f-b7a0-55f4ef0ea819",
        "deepnote_to_be_reexecuted": true,
        "source_hash": "fd393cef",
        "is_code_hidden": false,
        "output_cleared": false,
        "execution_millis": 31,
        "deepnote_cell_type": "code"
      },
      "source": "iter(e)",
      "outputs": [
        {
          "output_type": "execute_result",
          "execution_count": 199,
          "data": {
            "text/plain": "<enumerate at 0x7f6e188dc780>"
          },
          "metadata": {}
        }
      ],
      "execution_count": null
    },
    {
      "cell_type": "code",
      "metadata": {
        "cell_id": "00353-816f240d-36eb-4a9b-8234-9e10a7f65f4d",
        "deepnote_to_be_reexecuted": true,
        "source_hash": "54a12ac3",
        "is_code_hidden": false,
        "output_cleared": false,
        "execution_millis": 8,
        "deepnote_cell_type": "code"
      },
      "source": "e",
      "outputs": [
        {
          "output_type": "execute_result",
          "execution_count": 200,
          "data": {
            "text/plain": "<enumerate at 0x7f6e188dc780>"
          },
          "metadata": {}
        }
      ],
      "execution_count": null
    },
    {
      "cell_type": "code",
      "metadata": {
        "cell_id": "00356-9ae07f06-14fd-4b2b-a75b-a9a6c0eff787",
        "deepnote_to_be_reexecuted": true,
        "source_hash": "ed19a7c8",
        "is_code_hidden": false,
        "output_cleared": false,
        "execution_millis": 0,
        "deepnote_cell_type": "code"
      },
      "source": "list(e)",
      "outputs": [
        {
          "output_type": "execute_result",
          "execution_count": 201,
          "data": {
            "text/plain": "[(0, 'P'),\n (1, 'y'),\n (2, 't'),\n (3, 'h'),\n (4, 'o'),\n (5, 'n'),\n (6, ' '),\n (7, 'r'),\n (8, 'o'),\n (9, 'c'),\n (10, 'k'),\n (11, 's'),\n (12, '!')]"
          },
          "metadata": {}
        }
      ],
      "execution_count": null
    },
    {
      "cell_type": "code",
      "metadata": {
        "cell_id": "00358-b4dae8a0-c0c9-4906-b440-09e215300ccb",
        "deepnote_to_be_reexecuted": true,
        "source_hash": "ed19a7c8",
        "is_code_hidden": false,
        "output_cleared": false,
        "execution_millis": 7,
        "deepnote_cell_type": "code"
      },
      "source": "list(e)",
      "outputs": [
        {
          "output_type": "execute_result",
          "execution_count": 202,
          "data": {
            "text/plain": "[]"
          },
          "metadata": {}
        }
      ],
      "execution_count": null
    },
    {
      "cell_type": "code",
      "metadata": {
        "collapsed": true,
        "cell_id": "00360-54aa4003-30e1-45ac-9e14-ec94b45bfef4",
        "deepnote_to_be_reexecuted": true,
        "source_hash": "d552e06b",
        "is_code_hidden": false,
        "execution_millis": 0,
        "deepnote_cell_type": "code"
      },
      "source": "d = {'a': 1, 'b': 2}",
      "outputs": [],
      "execution_count": null
    },
    {
      "cell_type": "code",
      "metadata": {
        "collapsed": true,
        "cell_id": "00361-d558d39d-0792-47c3-b460-711294697203",
        "deepnote_to_be_reexecuted": true,
        "source_hash": "99cfc8db",
        "is_code_hidden": false,
        "execution_millis": 16,
        "deepnote_cell_type": "code"
      },
      "source": "keys = d.keys()",
      "outputs": [],
      "execution_count": null
    },
    {
      "cell_type": "code",
      "metadata": {
        "cell_id": "00362-09e2cd20-1080-469f-88a5-98b1bbaa5f6d",
        "deepnote_to_be_reexecuted": true,
        "source_hash": "e57eb328",
        "is_code_hidden": false,
        "output_cleared": false,
        "execution_millis": 0,
        "deepnote_cell_type": "code"
      },
      "source": "'__iter__' in dir(keys), '__next__' in dir(keys)",
      "outputs": [
        {
          "output_type": "execute_result",
          "execution_count": 205,
          "data": {
            "text/plain": "(True, False)"
          },
          "metadata": {}
        }
      ],
      "execution_count": null
    },
    {
      "cell_type": "code",
      "metadata": {
        "cell_id": "00364-a8c90fda-2d1e-4931-baec-ee69f9468fe4",
        "deepnote_to_be_reexecuted": true,
        "source_hash": "e3b62c83",
        "is_code_hidden": false,
        "output_cleared": false,
        "execution_millis": 14,
        "deepnote_cell_type": "code"
      },
      "source": "iter(keys) is keys",
      "outputs": [
        {
          "output_type": "execute_result",
          "execution_count": 206,
          "data": {
            "text/plain": "False"
          },
          "metadata": {}
        }
      ],
      "execution_count": null
    },
    {
      "cell_type": "code",
      "metadata": {
        "cell_id": "00366-c2594145-4106-4a86-ba54-5c67d3e83859",
        "deepnote_to_be_reexecuted": true,
        "source_hash": "98ca41fe",
        "is_code_hidden": false,
        "output_cleared": false,
        "execution_millis": 0,
        "deepnote_cell_type": "code"
      },
      "source": "values = d.values()\niter(values) is values",
      "outputs": [
        {
          "output_type": "execute_result",
          "execution_count": 207,
          "data": {
            "text/plain": "False"
          },
          "metadata": {}
        }
      ],
      "execution_count": null
    },
    {
      "cell_type": "code",
      "metadata": {
        "cell_id": "00367-4549cb43-07c4-4d70-bb84-df42607402c9",
        "deepnote_to_be_reexecuted": true,
        "source_hash": "e5dc8c81",
        "is_code_hidden": false,
        "output_cleared": false,
        "execution_millis": 19,
        "deepnote_cell_type": "code"
      },
      "source": "items = d.items()\niter(items) is items",
      "outputs": [
        {
          "output_type": "execute_result",
          "execution_count": 208,
          "data": {
            "text/plain": "False"
          },
          "metadata": {}
        }
      ],
      "execution_count": null
    },
    {
      "cell_type": "code",
      "metadata": {
        "collapsed": true,
        "cell_id": "00369-1c3aa341-c916-4afa-a446-a281b73ca538",
        "deepnote_to_be_reexecuted": true,
        "source_hash": "b623e53d",
        "execution_millis": 0,
        "deepnote_cell_type": "code"
      },
      "source": "",
      "outputs": [],
      "execution_count": null
    },
    {
      "cell_type": "markdown",
      "source": "### Sorting Iterables",
      "metadata": {
        "cell_id": "00370-768e8494-59b3-40c8-a014-ec232dcd12cb",
        "deepnote_cell_type": "markdown"
      }
    },
    {
      "cell_type": "code",
      "metadata": {
        "collapsed": true,
        "cell_id": "00373-67a00bc0-fb15-4585-813c-ec0d649070ac",
        "deepnote_to_be_reexecuted": true,
        "source_hash": "89047012",
        "is_code_hidden": false,
        "execution_millis": 0,
        "deepnote_cell_type": "code"
      },
      "source": "import random",
      "outputs": [],
      "execution_count": null
    },
    {
      "cell_type": "code",
      "metadata": {
        "collapsed": true,
        "cell_id": "00374-c7657d32-1807-4d7a-b25a-66ad05cddbed",
        "deepnote_to_be_reexecuted": true,
        "source_hash": "8044a131",
        "is_code_hidden": false,
        "execution_millis": 2,
        "deepnote_cell_type": "code"
      },
      "source": "random.seed(0)",
      "outputs": [],
      "execution_count": null
    },
    {
      "cell_type": "code",
      "metadata": {
        "cell_id": "00375-49860857-c98f-40cf-badc-636239688e44",
        "deepnote_to_be_reexecuted": true,
        "source_hash": "5d189a0a",
        "is_code_hidden": false,
        "output_cleared": false,
        "execution_millis": 0,
        "deepnote_cell_type": "code"
      },
      "source": "for i in range(10):\n    print(random.randint(1, 10))",
      "outputs": [
        {
          "name": "stdout",
          "text": "7\n7\n1\n5\n9\n8\n7\n5\n8\n6\n",
          "output_type": "stream"
        }
      ],
      "execution_count": null
    },
    {
      "cell_type": "code",
      "metadata": {
        "collapsed": true,
        "cell_id": "00376-53d1de5f-84b2-4419-8428-3a96eee0b0f9",
        "deepnote_to_be_reexecuted": true,
        "source_hash": "58f4370c",
        "is_code_hidden": false,
        "execution_millis": 1,
        "deepnote_cell_type": "code"
      },
      "source": "import random\n\nclass RandomInts:\n    def __init__(self, length, *, seed=0, lower=0, upper=10):\n        self.length = length\n        self.seed = seed\n        self.lower = lower\n        self.upper = upper\n        \n    def __len__(self):\n        return self.length\n    \n    def __iter__(self):\n        return self.RandomIterator(self.length, \n                                   seed = self.seed, \n                                   lower = self.lower,\n                                   upper=self.upper)\n    \n    \n    class RandomIterator:\n        def __init__(self, length, *, seed, lower, upper):\n            self.length = length\n            self.lower = lower\n            self.upper = upper\n            self.num_requests = 0\n            random.seed(seed)\n            \n        def __iter__(self):\n            return self\n        \n        def __next__(self):\n            if self.num_requests >= self.length:\n                raise StopIteration\n            else:\n                result = random.randint(self.lower, self.upper)\n                self.num_requests += 1\n                return result",
      "outputs": [],
      "execution_count": null
    },
    {
      "cell_type": "code",
      "metadata": {
        "collapsed": true,
        "cell_id": "00377-64d92465-ad91-4a02-9115-1b97f762da1c",
        "deepnote_to_be_reexecuted": true,
        "source_hash": "c1ec8060",
        "is_code_hidden": false,
        "execution_millis": 0,
        "deepnote_cell_type": "code"
      },
      "source": "randoms = RandomInts(10)",
      "outputs": [],
      "execution_count": null
    },
    {
      "cell_type": "code",
      "metadata": {
        "cell_id": "00378-62b2a47a-568b-4a9c-b8bc-2957b44a3a0b",
        "deepnote_to_be_reexecuted": true,
        "source_hash": "49acaa71",
        "is_code_hidden": false,
        "output_cleared": false,
        "execution_millis": 26,
        "deepnote_cell_type": "code"
      },
      "source": "for num in randoms:\n    print(num)",
      "outputs": [
        {
          "name": "stdout",
          "text": "6\n6\n0\n4\n8\n7\n6\n4\n7\n5\n",
          "output_type": "stream"
        }
      ],
      "execution_count": null
    },
    {
      "cell_type": "code",
      "metadata": {
        "cell_id": "00380-e5e59a86-2308-44d6-993d-d5800dac20c9",
        "deepnote_to_be_reexecuted": true,
        "source_hash": "3526a8aa",
        "is_code_hidden": false,
        "output_cleared": false,
        "execution_millis": 0,
        "deepnote_cell_type": "code"
      },
      "source": "sorted(randoms)",
      "outputs": [
        {
          "output_type": "execute_result",
          "execution_count": 215,
          "data": {
            "text/plain": "[0, 4, 4, 5, 6, 6, 6, 7, 7, 8]"
          },
          "metadata": {}
        }
      ],
      "execution_count": null
    },
    {
      "cell_type": "code",
      "metadata": {
        "cell_id": "00381-a52bdc8f-28cf-4e41-8f00-88beea0c644c",
        "deepnote_to_be_reexecuted": true,
        "source_hash": "a0b46f3d",
        "is_code_hidden": false,
        "output_cleared": false,
        "execution_millis": 23,
        "deepnote_cell_type": "code"
      },
      "source": "sorted(randoms, reverse=True)",
      "outputs": [
        {
          "output_type": "execute_result",
          "execution_count": 216,
          "data": {
            "text/plain": "[8, 7, 7, 6, 6, 6, 5, 4, 4, 0]"
          },
          "metadata": {}
        }
      ],
      "execution_count": null
    },
    {
      "cell_type": "code",
      "metadata": {
        "collapsed": true,
        "cell_id": "00382-322e5f99-c17c-4032-9d41-678d2cb96b57",
        "deepnote_to_be_reexecuted": true,
        "source_hash": "b623e53d",
        "deepnote_cell_type": "code"
      },
      "source": "",
      "execution_count": null,
      "outputs": []
    },
    {
      "cell_type": "markdown",
      "source": "### The `iter()` Function",
      "metadata": {
        "cell_id": "00383-a8b57da8-39e3-447f-8dd4-16755e29a848",
        "deepnote_cell_type": "markdown"
      }
    },
    {
      "cell_type": "code",
      "metadata": {
        "collapsed": true,
        "cell_id": "00386-ad699cc1-dac2-42ca-a6ef-495a82ef3ca2",
        "deepnote_to_be_reexecuted": true,
        "source_hash": "d9297ab0",
        "is_code_hidden": false,
        "execution_millis": 0,
        "deepnote_cell_type": "code"
      },
      "source": "l = [1, 2, 3, 4]",
      "outputs": [],
      "execution_count": null
    },
    {
      "cell_type": "code",
      "metadata": {
        "collapsed": true,
        "cell_id": "00387-d88193d4-237a-45d1-af8f-f16f7734504f",
        "deepnote_to_be_reexecuted": true,
        "source_hash": "41e7ec48",
        "is_code_hidden": false,
        "execution_millis": 0,
        "deepnote_cell_type": "code"
      },
      "source": "l_iter = iter(l)",
      "outputs": [],
      "execution_count": null
    },
    {
      "cell_type": "code",
      "metadata": {
        "cell_id": "00388-13ee6c21-af74-4319-8cef-4b86e8b07ddc",
        "deepnote_to_be_reexecuted": true,
        "source_hash": "b06c3f92",
        "is_code_hidden": false,
        "output_cleared": false,
        "execution_millis": 20,
        "deepnote_cell_type": "code"
      },
      "source": "type(l_iter)",
      "outputs": [
        {
          "output_type": "execute_result",
          "execution_count": 219,
          "data": {
            "text/plain": "list_iterator"
          },
          "metadata": {}
        }
      ],
      "execution_count": null
    },
    {
      "cell_type": "code",
      "metadata": {
        "cell_id": "00390-5af54f7d-5e77-4f87-a001-8b0c48c29ff6",
        "deepnote_to_be_reexecuted": true,
        "source_hash": "4759feff",
        "is_code_hidden": false,
        "output_cleared": false,
        "execution_millis": 15,
        "deepnote_cell_type": "code"
      },
      "source": "next(l_iter)",
      "outputs": [
        {
          "output_type": "execute_result",
          "execution_count": 220,
          "data": {
            "text/plain": "1"
          },
          "metadata": {}
        }
      ],
      "execution_count": null
    },
    {
      "cell_type": "code",
      "metadata": {
        "cell_id": "00391-60880955-4098-49b4-a8ea-d3c044cb02fd",
        "deepnote_to_be_reexecuted": true,
        "source_hash": "4759feff",
        "is_code_hidden": false,
        "output_cleared": false,
        "execution_millis": 0,
        "deepnote_cell_type": "code"
      },
      "source": "next(l_iter)",
      "outputs": [
        {
          "output_type": "execute_result",
          "execution_count": 221,
          "data": {
            "text/plain": "2"
          },
          "metadata": {}
        }
      ],
      "execution_count": null
    },
    {
      "cell_type": "code",
      "metadata": {
        "collapsed": true,
        "cell_id": "00394-080c1b35-1070-4ef9-ab85-d15a414910f5",
        "deepnote_to_be_reexecuted": true,
        "source_hash": "d0df64b2",
        "is_code_hidden": false,
        "execution_millis": 7,
        "deepnote_cell_type": "code"
      },
      "source": "class Squares:\n    def __init__(self, n):\n        self._n = n\n    \n    def __len__(self):\n        return self._n\n    \n    def __getitem__(self, i):\n        if i >= self._n:\n            raise IndexError\n        else:\n            return i ** 2",
      "outputs": [],
      "execution_count": null
    },
    {
      "cell_type": "code",
      "metadata": {
        "collapsed": true,
        "cell_id": "00395-7590d0ef-2aab-4aa8-8518-38793772a0db",
        "deepnote_to_be_reexecuted": true,
        "source_hash": "288a5365",
        "is_code_hidden": false,
        "execution_millis": 8,
        "deepnote_cell_type": "code"
      },
      "source": "sq = Squares(5)",
      "outputs": [],
      "execution_count": null
    },
    {
      "cell_type": "code",
      "metadata": {
        "cell_id": "00396-ff012576-ab96-4af7-bd2c-ca7561a1ce78",
        "deepnote_to_be_reexecuted": true,
        "source_hash": "7fbbf69e",
        "is_code_hidden": false,
        "output_cleared": false,
        "execution_millis": 24,
        "deepnote_cell_type": "code"
      },
      "source": "for i in sq:\n    print(i)",
      "outputs": [
        {
          "name": "stdout",
          "text": "0\n1\n4\n9\n16\n",
          "output_type": "stream"
        }
      ],
      "execution_count": null
    },
    {
      "cell_type": "code",
      "metadata": {
        "collapsed": true,
        "cell_id": "00398-7b0290f7-b389-4f87-a9f4-dfcdb9713e9a",
        "deepnote_to_be_reexecuted": true,
        "source_hash": "10fb980e",
        "is_code_hidden": false,
        "execution_millis": 0,
        "deepnote_cell_type": "code"
      },
      "source": "sq_iter = iter(sq)",
      "outputs": [],
      "execution_count": null
    },
    {
      "cell_type": "code",
      "metadata": {
        "cell_id": "00400-611aad46-cd8d-4f92-b061-671e85615cc6",
        "deepnote_to_be_reexecuted": true,
        "source_hash": "9ccc08ab",
        "is_code_hidden": false,
        "output_cleared": false,
        "execution_millis": 34,
        "deepnote_cell_type": "code"
      },
      "source": "type(sq_iter)",
      "outputs": [
        {
          "output_type": "execute_result",
          "execution_count": 227,
          "data": {
            "text/plain": "iterator"
          },
          "metadata": {}
        }
      ],
      "execution_count": null
    },
    {
      "cell_type": "code",
      "metadata": {
        "cell_id": "00401-e04e8ae6-306e-4a53-8d9f-7d0164726ae3",
        "deepnote_to_be_reexecuted": true,
        "source_hash": "6fdb9e9a",
        "is_code_hidden": false,
        "output_cleared": false,
        "deepnote_cell_type": "code"
      },
      "source": "'__next__' in dir(sq_iter)",
      "outputs": [
        {
          "output_type": "execute_result",
          "execution_count": 228,
          "data": {
            "text/plain": "True"
          },
          "metadata": {}
        }
      ],
      "execution_count": null
    },
    {
      "cell_type": "code",
      "metadata": {
        "cell_id": "00403-36b74747-7104-4f82-bf91-dcd8314b47cf",
        "deepnote_to_be_reexecuted": true,
        "source_hash": "c7233622",
        "is_code_hidden": false,
        "output_cleared": false,
        "execution_millis": 33,
        "deepnote_cell_type": "code"
      },
      "source": "for i in 10:\n    print(i)",
      "outputs": [
        {
          "output_type": "error",
          "ename": "TypeError",
          "evalue": "'int' object is not iterable",
          "traceback": [
            "\u001b[0;31m---------------------------------------------------------------------------\u001b[0m",
            "\u001b[0;31mTypeError\u001b[0m                                 Traceback (most recent call last)",
            "\u001b[0;32m<ipython-input-230-665a8c31cf25>\u001b[0m in \u001b[0;36m<module>\u001b[0;34m\u001b[0m\n\u001b[0;32m----> 1\u001b[0;31m \u001b[0;32mfor\u001b[0m \u001b[0mi\u001b[0m \u001b[0;32min\u001b[0m \u001b[0;36m10\u001b[0m\u001b[0;34m:\u001b[0m\u001b[0;34m\u001b[0m\u001b[0;34m\u001b[0m\u001b[0m\n\u001b[0m\u001b[1;32m      2\u001b[0m     \u001b[0mprint\u001b[0m\u001b[0;34m(\u001b[0m\u001b[0mi\u001b[0m\u001b[0;34m)\u001b[0m\u001b[0;34m\u001b[0m\u001b[0;34m\u001b[0m\u001b[0m\n",
            "\u001b[0;31mTypeError\u001b[0m: 'int' object is not iterable"
          ]
        }
      ],
      "execution_count": null
    },
    {
      "cell_type": "code",
      "metadata": {
        "collapsed": true,
        "cell_id": "00405-3de8f814-54bd-478e-8fbd-67e72ac5107f",
        "deepnote_to_be_reexecuted": true,
        "source_hash": "d0df64b2",
        "is_code_hidden": false,
        "execution_millis": 0,
        "deepnote_cell_type": "code"
      },
      "source": "class Squares:\n    def __init__(self, n):\n        self._n = n\n    \n    def __len__(self):\n        return self._n\n    \n    def __getitem__(self, i):\n        if i >= self._n:\n            raise IndexError\n        else:\n            return i ** 2",
      "outputs": [],
      "execution_count": null
    },
    {
      "cell_type": "code",
      "metadata": {
        "collapsed": true,
        "cell_id": "00406-a66cd908-95da-4d59-8bac-1084f984b94f",
        "deepnote_to_be_reexecuted": true,
        "source_hash": "ff7b5947",
        "is_code_hidden": false,
        "execution_millis": 7,
        "deepnote_cell_type": "code"
      },
      "source": "class SquaresIterator:\n    def __init__(self, squares):\n        self._squares = squares\n        self._i = 0\n        \n    def __iter__(self):\n        return self\n    \n    def __next__(self):\n        if self._i >= len(self._squares):\n            raise StopIteration\n        else:\n            result = self._squares[self._i]\n            self._i += 1\n            return result",
      "outputs": [],
      "execution_count": null
    },
    {
      "cell_type": "code",
      "metadata": {
        "collapsed": true,
        "cell_id": "00407-4c2b0415-b695-4f40-890e-4ffa5131cd15",
        "deepnote_to_be_reexecuted": true,
        "source_hash": "b566e13",
        "is_code_hidden": false,
        "execution_millis": 9,
        "deepnote_cell_type": "code"
      },
      "source": "sq = Squares(5)\nsq_iterator = SquaresIterator(sq)",
      "outputs": [],
      "execution_count": null
    },
    {
      "cell_type": "code",
      "metadata": {
        "cell_id": "00408-e9742554-8e51-4a7a-bb35-78c8d8afacd0",
        "deepnote_to_be_reexecuted": true,
        "source_hash": "a2cb5f14",
        "is_code_hidden": false,
        "output_cleared": false,
        "execution_millis": 1,
        "deepnote_cell_type": "code"
      },
      "source": "type(sq_iterator)",
      "outputs": [
        {
          "output_type": "execute_result",
          "execution_count": 234,
          "data": {
            "text/plain": "__main__.SquaresIterator"
          },
          "metadata": {}
        }
      ],
      "execution_count": null
    },
    {
      "cell_type": "code",
      "metadata": {
        "cell_id": "00409-6889941d-4c52-4af8-ab29-bfce838d42f3",
        "deepnote_to_be_reexecuted": true,
        "source_hash": "333cf83e",
        "is_code_hidden": false,
        "output_cleared": false,
        "execution_millis": 15,
        "deepnote_cell_type": "code"
      },
      "source": "print(next(sq_iterator))\nprint(next(sq_iterator))\nprint(next(sq_iterator))\nprint(next(sq_iterator))\nprint(next(sq_iterator))",
      "outputs": [
        {
          "name": "stdout",
          "text": "0\n1\n4\n9\n16\n",
          "output_type": "stream"
        }
      ],
      "execution_count": null
    },
    {
      "cell_type": "code",
      "metadata": {
        "cell_id": "00411-b1d79747-4e2e-48ec-bb40-9161c3ffee97",
        "deepnote_to_be_reexecuted": true,
        "source_hash": "bcdbcd00",
        "is_code_hidden": false,
        "output_cleared": false,
        "execution_millis": 37,
        "deepnote_cell_type": "code"
      },
      "source": "print(next(sq_iterator))",
      "outputs": [
        {
          "output_type": "error",
          "ename": "StopIteration",
          "evalue": "",
          "traceback": [
            "\u001b[0;31m---------------------------------------------------------------------------\u001b[0m",
            "\u001b[0;31mStopIteration\u001b[0m                             Traceback (most recent call last)",
            "\u001b[0;32m<ipython-input-236-cbfceb8b0845>\u001b[0m in \u001b[0;36m<module>\u001b[0;34m\u001b[0m\n\u001b[0;32m----> 1\u001b[0;31m \u001b[0mprint\u001b[0m\u001b[0;34m(\u001b[0m\u001b[0mnext\u001b[0m\u001b[0;34m(\u001b[0m\u001b[0msq_iterator\u001b[0m\u001b[0;34m)\u001b[0m\u001b[0;34m)\u001b[0m\u001b[0;34m\u001b[0m\u001b[0;34m\u001b[0m\u001b[0m\n\u001b[0m",
            "\u001b[0;32m<ipython-input-232-89c908711525>\u001b[0m in \u001b[0;36m__next__\u001b[0;34m(self)\u001b[0m\n\u001b[1;32m      9\u001b[0m     \u001b[0;32mdef\u001b[0m \u001b[0m__next__\u001b[0m\u001b[0;34m(\u001b[0m\u001b[0mself\u001b[0m\u001b[0;34m)\u001b[0m\u001b[0;34m:\u001b[0m\u001b[0;34m\u001b[0m\u001b[0;34m\u001b[0m\u001b[0m\n\u001b[1;32m     10\u001b[0m         \u001b[0;32mif\u001b[0m \u001b[0mself\u001b[0m\u001b[0;34m.\u001b[0m\u001b[0m_i\u001b[0m \u001b[0;34m>=\u001b[0m \u001b[0mlen\u001b[0m\u001b[0;34m(\u001b[0m\u001b[0mself\u001b[0m\u001b[0;34m.\u001b[0m\u001b[0m_squares\u001b[0m\u001b[0;34m)\u001b[0m\u001b[0;34m:\u001b[0m\u001b[0;34m\u001b[0m\u001b[0;34m\u001b[0m\u001b[0m\n\u001b[0;32m---> 11\u001b[0;31m             \u001b[0;32mraise\u001b[0m \u001b[0mStopIteration\u001b[0m\u001b[0;34m\u001b[0m\u001b[0;34m\u001b[0m\u001b[0m\n\u001b[0m\u001b[1;32m     12\u001b[0m         \u001b[0;32melse\u001b[0m\u001b[0;34m:\u001b[0m\u001b[0;34m\u001b[0m\u001b[0;34m\u001b[0m\u001b[0m\n\u001b[1;32m     13\u001b[0m             \u001b[0mresult\u001b[0m \u001b[0;34m=\u001b[0m \u001b[0mself\u001b[0m\u001b[0;34m.\u001b[0m\u001b[0m_squares\u001b[0m\u001b[0;34m[\u001b[0m\u001b[0mself\u001b[0m\u001b[0;34m.\u001b[0m\u001b[0m_i\u001b[0m\u001b[0;34m]\u001b[0m\u001b[0;34m\u001b[0m\u001b[0;34m\u001b[0m\u001b[0m\n",
            "\u001b[0;31mStopIteration\u001b[0m: "
          ]
        }
      ],
      "execution_count": null
    },
    {
      "cell_type": "code",
      "metadata": {
        "collapsed": true,
        "cell_id": "00413-66b37002-584f-4f94-bc1a-adf5158b8d33",
        "deepnote_to_be_reexecuted": true,
        "source_hash": "c3bffc8d",
        "is_code_hidden": false,
        "execution_millis": 0,
        "deepnote_cell_type": "code"
      },
      "source": "class SquaresIterator:\n    def __init__(self, squares):\n        self._squares = squares\n        self._i = 0\n        \n    def __iter__(self):\n        return self\n    \n    def __next__(self):\n        try:\n            result = self._squares[self._i]\n            self._i += 1\n            return result\n        except IndexError:\n            raise StopIteration()",
      "outputs": [],
      "execution_count": null
    },
    {
      "cell_type": "code",
      "metadata": {
        "collapsed": true,
        "cell_id": "00415-64b06513-e2e4-462f-9f0c-6fe6d9a1272c",
        "deepnote_to_be_reexecuted": true,
        "source_hash": "80f0108f",
        "is_code_hidden": false,
        "execution_millis": 0,
        "deepnote_cell_type": "code"
      },
      "source": "sq_iterator = SquaresIterator(sq)",
      "outputs": [],
      "execution_count": null
    },
    {
      "cell_type": "code",
      "metadata": {
        "cell_id": "00416-a045c68e-5697-47f6-9ba9-2ed86494c4eb",
        "deepnote_to_be_reexecuted": true,
        "source_hash": "77d30816",
        "is_code_hidden": false,
        "output_cleared": false,
        "execution_millis": 24,
        "deepnote_cell_type": "code"
      },
      "source": "for i in sq_iterator:\n    print(i)",
      "outputs": [
        {
          "name": "stdout",
          "text": "0\n1\n4\n9\n16\n",
          "output_type": "stream"
        }
      ],
      "execution_count": null
    },
    {
      "cell_type": "markdown",
      "source": "#### How to test if an object is iterable",
      "metadata": {
        "cell_id": "00417-cd3fa85c-c10a-4e01-9529-52f85c88555d",
        "deepnote_cell_type": "markdown"
      }
    },
    {
      "cell_type": "code",
      "metadata": {
        "collapsed": true,
        "cell_id": "00422-b6731d0b-b222-4cfc-8cab-a654934b744a",
        "deepnote_to_be_reexecuted": true,
        "source_hash": "6b38b181",
        "is_code_hidden": false,
        "execution_millis": 1,
        "deepnote_cell_type": "code"
      },
      "source": "class SimpleIter:\n    def __init__(self):\n        pass\n    \n    def __iter__(self):\n        return 'Nope'",
      "outputs": [],
      "execution_count": null
    },
    {
      "cell_type": "code",
      "metadata": {
        "collapsed": true,
        "cell_id": "00423-a6cdd5b1-4782-426c-b110-fbb747f0e1c1",
        "deepnote_to_be_reexecuted": true,
        "source_hash": "80eb5733",
        "is_code_hidden": false,
        "execution_millis": 11,
        "deepnote_cell_type": "code"
      },
      "source": "s = SimpleIter()",
      "outputs": [],
      "execution_count": null
    },
    {
      "cell_type": "code",
      "metadata": {
        "cell_id": "00424-d24cf226-7f63-4b18-a6bf-9b8189ecc293",
        "deepnote_to_be_reexecuted": true,
        "source_hash": "fb5e9864",
        "is_code_hidden": false,
        "output_cleared": false,
        "execution_millis": 32,
        "deepnote_cell_type": "code"
      },
      "source": "'__iter__' in dir(s)",
      "outputs": [
        {
          "output_type": "execute_result",
          "execution_count": 242,
          "data": {
            "text/plain": "True"
          },
          "metadata": {}
        }
      ],
      "execution_count": null
    },
    {
      "cell_type": "code",
      "metadata": {
        "cell_id": "00426-2d2ebd2b-15cf-4914-bb46-eb3e9e191a88",
        "deepnote_to_be_reexecuted": true,
        "source_hash": "29f7e905",
        "is_code_hidden": false,
        "output_cleared": false,
        "execution_millis": 25,
        "deepnote_cell_type": "code"
      },
      "source": "iter(s)",
      "outputs": [
        {
          "output_type": "error",
          "ename": "TypeError",
          "evalue": "iter() returned non-iterator of type 'str'",
          "traceback": [
            "\u001b[0;31m---------------------------------------------------------------------------\u001b[0m",
            "\u001b[0;31mTypeError\u001b[0m                                 Traceback (most recent call last)",
            "\u001b[0;32m<ipython-input-244-2a48cc1f1cdf>\u001b[0m in \u001b[0;36m<module>\u001b[0;34m\u001b[0m\n\u001b[0;32m----> 1\u001b[0;31m \u001b[0miter\u001b[0m\u001b[0;34m(\u001b[0m\u001b[0ms\u001b[0m\u001b[0;34m)\u001b[0m\u001b[0;34m\u001b[0m\u001b[0;34m\u001b[0m\u001b[0m\n\u001b[0m",
            "\u001b[0;31mTypeError\u001b[0m: iter() returned non-iterator of type 'str'"
          ]
        }
      ],
      "execution_count": null
    },
    {
      "cell_type": "code",
      "metadata": {
        "collapsed": true,
        "cell_id": "00428-c081813a-5bbb-4eaa-9b8e-bfa905a56f50",
        "deepnote_to_be_reexecuted": true,
        "source_hash": "547b8fa8",
        "is_code_hidden": false,
        "execution_millis": 0,
        "deepnote_cell_type": "code"
      },
      "source": "def is_iterable(obj):\n    try:\n        iter(obj)\n        return True\n    except TypeError:\n        return False",
      "outputs": [],
      "execution_count": null
    },
    {
      "cell_type": "code",
      "metadata": {
        "cell_id": "00429-b450bdf4-1a4f-4fca-9381-387f6bcb5b55",
        "deepnote_to_be_reexecuted": true,
        "source_hash": "c163b394",
        "is_code_hidden": false,
        "output_cleared": false,
        "execution_millis": 1,
        "deepnote_cell_type": "code"
      },
      "source": "is_iterable(SimpleIter())",
      "outputs": [
        {
          "output_type": "execute_result",
          "execution_count": 246,
          "data": {
            "text/plain": "False"
          },
          "metadata": {}
        }
      ],
      "execution_count": null
    },
    {
      "cell_type": "code",
      "metadata": {
        "cell_id": "00430-d69f1c59-4840-442c-a07d-ca86d16bc697",
        "deepnote_to_be_reexecuted": true,
        "source_hash": "585855bf",
        "is_code_hidden": false,
        "output_cleared": false,
        "execution_millis": 21,
        "deepnote_cell_type": "code"
      },
      "source": "is_iterable(Squares(5))",
      "outputs": [
        {
          "output_type": "execute_result",
          "execution_count": 248,
          "data": {
            "text/plain": "True"
          },
          "metadata": {}
        }
      ],
      "execution_count": null
    },
    {
      "cell_type": "code",
      "metadata": {
        "cell_id": "00432-90a8ce3b-98fb-410e-9bea-f3f43778e8f1",
        "deepnote_to_be_reexecuted": true,
        "source_hash": "5cd33375",
        "is_code_hidden": false,
        "output_cleared": false,
        "execution_millis": 23,
        "deepnote_cell_type": "code"
      },
      "source": "obj = 100\nif is_iterable(obj):\n    for i in obj:\n        print(i)\nelse:\n    print('Error: obj is not iterable')",
      "outputs": [
        {
          "name": "stdout",
          "text": "Error: obj is not iterable\n",
          "output_type": "stream"
        }
      ],
      "execution_count": null
    },
    {
      "cell_type": "markdown",
      "source": "vs",
      "metadata": {
        "cell_id": "00433-ab2b08ed-8173-450c-8c3d-a2a5a7118024",
        "deepnote_cell_type": "markdown"
      }
    },
    {
      "cell_type": "code",
      "metadata": {
        "cell_id": "00434-989e8456-48b1-47a5-95cd-6b449c6bff1d",
        "deepnote_to_be_reexecuted": true,
        "source_hash": "bd7f6d22",
        "is_code_hidden": false,
        "output_cleared": false,
        "execution_millis": 89,
        "deepnote_cell_type": "code"
      },
      "source": "obj = 100\nfor i in obj:\n    print(i)",
      "outputs": [
        {
          "output_type": "error",
          "ename": "TypeError",
          "evalue": "'int' object is not iterable",
          "traceback": [
            "\u001b[0;31m---------------------------------------------------------------------------\u001b[0m",
            "\u001b[0;31mTypeError\u001b[0m                                 Traceback (most recent call last)",
            "\u001b[0;32m<ipython-input-251-c3a15b4ffb82>\u001b[0m in \u001b[0;36m<module>\u001b[0;34m\u001b[0m\n\u001b[1;32m      1\u001b[0m \u001b[0mobj\u001b[0m \u001b[0;34m=\u001b[0m \u001b[0;36m100\u001b[0m\u001b[0;34m\u001b[0m\u001b[0;34m\u001b[0m\u001b[0m\n\u001b[0;32m----> 2\u001b[0;31m \u001b[0;32mfor\u001b[0m \u001b[0mi\u001b[0m \u001b[0;32min\u001b[0m \u001b[0mobj\u001b[0m\u001b[0;34m:\u001b[0m\u001b[0;34m\u001b[0m\u001b[0;34m\u001b[0m\u001b[0m\n\u001b[0m\u001b[1;32m      3\u001b[0m     \u001b[0mprint\u001b[0m\u001b[0;34m(\u001b[0m\u001b[0mi\u001b[0m\u001b[0;34m)\u001b[0m\u001b[0;34m\u001b[0m\u001b[0;34m\u001b[0m\u001b[0m\n",
            "\u001b[0;31mTypeError\u001b[0m: 'int' object is not iterable"
          ]
        }
      ],
      "execution_count": null
    },
    {
      "cell_type": "code",
      "metadata": {
        "cell_id": "00437-17726a6c-fbeb-4c4d-a3f3-8560231d23f4",
        "deepnote_to_be_reexecuted": true,
        "source_hash": "20e5af3e",
        "is_code_hidden": false,
        "output_cleared": false,
        "execution_millis": 0,
        "deepnote_cell_type": "code"
      },
      "source": "obj = 100\nif is_iterable(obj):\n    for i in obj:\n        print(i)\nelse:\n    print('Error: obj is not iterable')\n    print('Taking some action as a consequence of this error')",
      "outputs": [
        {
          "name": "stdout",
          "text": "Error: obj is not iterable\nTaking some action as a consequence of this error\n",
          "output_type": "stream"
        }
      ],
      "execution_count": null
    },
    {
      "cell_type": "markdown",
      "source": "prefer writing it this way (*ask for forgiveness later*):",
      "metadata": {
        "cell_id": "00438-2e8f8de6-7a45-429c-ba17-dbba37309440",
        "deepnote_cell_type": "markdown"
      }
    },
    {
      "cell_type": "code",
      "metadata": {
        "cell_id": "00439-a1bf53ac-8915-4b8a-92f5-8f2ee0502211",
        "deepnote_to_be_reexecuted": true,
        "source_hash": "792efa9",
        "is_code_hidden": false,
        "output_cleared": false,
        "execution_millis": 0,
        "deepnote_cell_type": "code"
      },
      "source": "obj = 100\ntry:\n    for i in obj:\n        print(i)\nexcept TypeError:\n    print('Error: obj is not iterable')\n    print('Taking some action as a consequence of this error')",
      "outputs": [
        {
          "name": "stdout",
          "text": "Error: obj is not iterable\nTaking some action as a consequence of this error\n",
          "output_type": "stream"
        }
      ],
      "execution_count": null
    },
    {
      "cell_type": "markdown",
      "source": "### Yielding and Generators",
      "metadata": {
        "cell_id": "00441-34bae08c-5bcb-44e7-92b8-ab2312732525",
        "deepnote_cell_type": "markdown"
      }
    },
    {
      "cell_type": "code",
      "metadata": {
        "collapsed": true,
        "cell_id": "00443-a633c4e3-43a6-486f-b6e9-375ad1881537",
        "deepnote_to_be_reexecuted": true,
        "source_hash": "ff143fe",
        "is_code_hidden": false,
        "execution_millis": 0,
        "deepnote_cell_type": "code"
      },
      "source": "import math",
      "outputs": [],
      "execution_count": null
    },
    {
      "cell_type": "code",
      "metadata": {
        "collapsed": true,
        "cell_id": "00444-4cd608c6-1964-442a-aa37-ce56e5108647",
        "deepnote_to_be_reexecuted": true,
        "source_hash": "765238b6",
        "is_code_hidden": false,
        "execution_millis": 0,
        "deepnote_cell_type": "code"
      },
      "source": "class FactIter:\n    def __init__(self, n):\n        self.n = n\n        self.i = 0\n\n    def __iter__(self):\n        return self\n\n    def __next__(self):\n        if self.i >= self.n:\n            raise StopIteration\n        else:\n            result = math.factorial(self.i)\n            self.i += 1\n            return result",
      "outputs": [],
      "execution_count": null
    },
    {
      "cell_type": "code",
      "metadata": {
        "collapsed": true,
        "cell_id": "00445-30bee2ee-0110-4105-a81f-03d77a59aba5",
        "deepnote_to_be_reexecuted": true,
        "source_hash": "8606f19",
        "is_code_hidden": false,
        "execution_millis": 1,
        "deepnote_cell_type": "code"
      },
      "source": "fact_iter = FactIter(5)",
      "outputs": [],
      "execution_count": null
    },
    {
      "cell_type": "code",
      "metadata": {
        "scrolled": true,
        "cell_id": "00446-bd3602f8-2cd0-47b6-9b98-cf7a2eda1ea4",
        "deepnote_to_be_reexecuted": true,
        "source_hash": "a77e25c3",
        "is_code_hidden": false,
        "output_cleared": false,
        "execution_millis": 30,
        "deepnote_cell_type": "code"
      },
      "source": "for num in fact_iter:\n    print(num)",
      "outputs": [
        {
          "name": "stdout",
          "text": "1\n1\n2\n6\n24\n",
          "output_type": "stream"
        }
      ],
      "execution_count": null
    },
    {
      "cell_type": "code",
      "metadata": {
        "collapsed": true,
        "cell_id": "00448-2507f0a5-546c-4312-9110-327fe8307a10",
        "deepnote_to_be_reexecuted": true,
        "source_hash": "693bc68a",
        "is_code_hidden": false,
        "execution_millis": 0,
        "deepnote_cell_type": "code"
      },
      "source": "def fact():\n    i = 0\n    def inner():\n        nonlocal i\n        result = math.factorial(i)\n        i += 1\n        return result\n    return inner           ",
      "outputs": [],
      "execution_count": null
    },
    {
      "cell_type": "code",
      "metadata": {
        "collapsed": true,
        "cell_id": "00449-d019f3bf-dfd7-4590-8b4b-92cb949f7725",
        "deepnote_to_be_reexecuted": true,
        "source_hash": "22778f43",
        "is_code_hidden": false,
        "execution_millis": 4,
        "deepnote_cell_type": "code"
      },
      "source": "fact_iter = iter(fact(), math.factorial(5))",
      "outputs": [],
      "execution_count": null
    },
    {
      "cell_type": "code",
      "metadata": {
        "cell_id": "00450-e96161d0-03d8-4313-87cd-001dd2392745",
        "deepnote_to_be_reexecuted": true,
        "source_hash": "a77e25c3",
        "is_code_hidden": false,
        "output_cleared": false,
        "execution_millis": 49,
        "deepnote_cell_type": "code"
      },
      "source": "for num in fact_iter:\n    print(num)",
      "outputs": [
        {
          "name": "stdout",
          "text": "1\n1\n2\n6\n24\n",
          "output_type": "stream"
        }
      ],
      "execution_count": null
    },
    {
      "cell_type": "code",
      "metadata": {
        "collapsed": true,
        "cell_id": "00454-d4961cf4-d719-438f-baa8-1db91d83ef43",
        "deepnote_to_be_reexecuted": true,
        "source_hash": "137da3bb",
        "is_code_hidden": false,
        "execution_millis": 0,
        "deepnote_cell_type": "code"
      },
      "source": "def my_func():\n    print('line 1')\n    yield 'Flying'\n    print('line 2')\n    yield 'Circus'    ",
      "outputs": [],
      "execution_count": null
    },
    {
      "cell_type": "code",
      "metadata": {
        "cell_id": "00455-ad87086c-e7c9-4159-93af-48829ea5ca98",
        "deepnote_to_be_reexecuted": true,
        "source_hash": "416ffdb4",
        "is_code_hidden": false,
        "output_cleared": false,
        "execution_millis": 14,
        "deepnote_cell_type": "code"
      },
      "source": "my_func()",
      "outputs": [
        {
          "output_type": "execute_result",
          "execution_count": 262,
          "data": {
            "text/plain": "<generator object my_func at 0x7f6e18fce250>"
          },
          "metadata": {}
        }
      ],
      "execution_count": null
    },
    {
      "cell_type": "code",
      "metadata": {
        "collapsed": true,
        "cell_id": "00457-1bde55bb-f065-4fb0-90ac-a15d543b3d82",
        "deepnote_to_be_reexecuted": true,
        "source_hash": "12df53cc",
        "is_code_hidden": false,
        "execution_millis": 0,
        "deepnote_cell_type": "code"
      },
      "source": "gen_my_func = my_func()",
      "outputs": [],
      "execution_count": null
    },
    {
      "cell_type": "code",
      "metadata": {
        "cell_id": "00458-0df1b776-32aa-4dcb-9a47-d92e6cad2903",
        "deepnote_to_be_reexecuted": true,
        "source_hash": "714eb255",
        "is_code_hidden": false,
        "output_cleared": false,
        "execution_millis": 20,
        "deepnote_cell_type": "code"
      },
      "source": "next(gen_my_func)",
      "outputs": [
        {
          "name": "stdout",
          "text": "line 1\n",
          "output_type": "stream"
        },
        {
          "output_type": "execute_result",
          "execution_count": 264,
          "data": {
            "text/plain": "'Flying'"
          },
          "metadata": {}
        }
      ],
      "execution_count": null
    },
    {
      "cell_type": "code",
      "metadata": {
        "cell_id": "00459-8d01a862-e81e-4269-b4e2-6d8e5a2b3e01",
        "deepnote_to_be_reexecuted": true,
        "source_hash": "714eb255",
        "is_code_hidden": false,
        "output_cleared": false,
        "execution_millis": 28,
        "deepnote_cell_type": "code"
      },
      "source": "next(gen_my_func)",
      "outputs": [
        {
          "name": "stdout",
          "text": "line 2\n",
          "output_type": "stream"
        },
        {
          "output_type": "execute_result",
          "execution_count": 265,
          "data": {
            "text/plain": "'Circus'"
          },
          "metadata": {}
        }
      ],
      "execution_count": null
    },
    {
      "cell_type": "code",
      "metadata": {
        "cell_id": "00461-dbab53b0-af7b-4169-b2ab-46c60d07ec3f",
        "deepnote_to_be_reexecuted": true,
        "source_hash": "714eb255",
        "is_code_hidden": false,
        "output_cleared": false,
        "execution_millis": 32,
        "deepnote_cell_type": "code"
      },
      "source": "next(gen_my_func)",
      "outputs": [
        {
          "output_type": "error",
          "ename": "StopIteration",
          "evalue": "",
          "traceback": [
            "\u001b[0;31m---------------------------------------------------------------------------\u001b[0m",
            "\u001b[0;31mStopIteration\u001b[0m                             Traceback (most recent call last)",
            "\u001b[0;32m<ipython-input-266-ab8bbd3d1755>\u001b[0m in \u001b[0;36m<module>\u001b[0;34m\u001b[0m\n\u001b[0;32m----> 1\u001b[0;31m \u001b[0mnext\u001b[0m\u001b[0;34m(\u001b[0m\u001b[0mgen_my_func\u001b[0m\u001b[0;34m)\u001b[0m\u001b[0;34m\u001b[0m\u001b[0;34m\u001b[0m\u001b[0m\n\u001b[0m",
            "\u001b[0;31mStopIteration\u001b[0m: "
          ]
        }
      ],
      "execution_count": null
    },
    {
      "cell_type": "code",
      "metadata": {
        "collapsed": true,
        "cell_id": "00465-cb2cee5d-1599-42db-a5ad-0b9ceebe6af2",
        "deepnote_to_be_reexecuted": true,
        "source_hash": "12df53cc",
        "is_code_hidden": false,
        "execution_millis": 0,
        "deepnote_cell_type": "code"
      },
      "source": "gen_my_func = my_func()",
      "outputs": [],
      "execution_count": null
    },
    {
      "cell_type": "code",
      "metadata": {
        "cell_id": "00466-ee1461e2-9852-4ee6-bf73-a9f64e6525ba",
        "deepnote_to_be_reexecuted": true,
        "source_hash": "354f9b0d",
        "is_code_hidden": false,
        "output_cleared": false,
        "deepnote_cell_type": "code"
      },
      "source": "'__iter__' in dir(gen_my_func)",
      "outputs": [
        {
          "output_type": "execute_result",
          "execution_count": 268,
          "data": {
            "text/plain": "True"
          },
          "metadata": {}
        }
      ],
      "execution_count": null
    },
    {
      "cell_type": "code",
      "metadata": {
        "cell_id": "00467-f1b6ec7c-b620-46e4-8dc6-c9b79329c010",
        "deepnote_to_be_reexecuted": true,
        "source_hash": "7909fb24",
        "is_code_hidden": false,
        "output_cleared": false,
        "execution_millis": 51,
        "deepnote_cell_type": "code"
      },
      "source": "'__next__' in dir(gen_my_func)",
      "outputs": [
        {
          "output_type": "execute_result",
          "execution_count": 269,
          "data": {
            "text/plain": "True"
          },
          "metadata": {}
        }
      ],
      "execution_count": null
    },
    {
      "cell_type": "code",
      "metadata": {
        "cell_id": "00469-0490b947-bf52-45b2-b3fc-96956aec0078",
        "deepnote_to_be_reexecuted": true,
        "source_hash": "dca0c6ba",
        "is_code_hidden": false,
        "output_cleared": false,
        "execution_millis": 25,
        "deepnote_cell_type": "code"
      },
      "source": "gen_my_func",
      "outputs": [
        {
          "output_type": "execute_result",
          "execution_count": 270,
          "data": {
            "text/plain": "<generator object my_func at 0x7f6e1830abd0>"
          },
          "metadata": {}
        }
      ],
      "execution_count": null
    },
    {
      "cell_type": "code",
      "metadata": {
        "cell_id": "00470-f585b40f-62db-4857-9976-a212ac6fd400",
        "deepnote_to_be_reexecuted": true,
        "source_hash": "59aab1f9",
        "is_code_hidden": false,
        "output_cleared": false,
        "execution_millis": 14,
        "deepnote_cell_type": "code"
      },
      "source": "iter(gen_my_func)",
      "outputs": [
        {
          "output_type": "execute_result",
          "execution_count": 271,
          "data": {
            "text/plain": "<generator object my_func at 0x7f6e1830abd0>"
          },
          "metadata": {}
        }
      ],
      "execution_count": null
    },
    {
      "cell_type": "code",
      "metadata": {
        "collapsed": true,
        "cell_id": "00473-142bf092-5fec-4428-b413-e80e86e9c1cb",
        "deepnote_to_be_reexecuted": true,
        "source_hash": "ef48a621",
        "is_code_hidden": false,
        "deepnote_cell_type": "code"
      },
      "source": "def squares(sentinel):\n    i = 0\n    while True:\n        if i < sentinel:\n            result = i**2\n            i += 1\n            yield result\n        else:\n            return 'all done!'",
      "outputs": [],
      "execution_count": null
    },
    {
      "cell_type": "code",
      "metadata": {
        "collapsed": true,
        "cell_id": "00474-52004164-fc0c-4054-8a09-c10e9575e128",
        "deepnote_to_be_reexecuted": true,
        "source_hash": "973e587a",
        "is_code_hidden": false,
        "execution_millis": 1,
        "deepnote_cell_type": "code"
      },
      "source": "sq = squares(3)",
      "outputs": [],
      "execution_count": null
    },
    {
      "cell_type": "code",
      "metadata": {
        "cell_id": "00475-f7665dea-cf58-47ca-b16c-f10666b96c02",
        "deepnote_to_be_reexecuted": true,
        "source_hash": "f27abf31",
        "is_code_hidden": false,
        "output_cleared": false,
        "execution_millis": 24,
        "deepnote_cell_type": "code"
      },
      "source": "next(sq)",
      "outputs": [
        {
          "output_type": "execute_result",
          "execution_count": 274,
          "data": {
            "text/plain": "0"
          },
          "metadata": {}
        }
      ],
      "execution_count": null
    },
    {
      "cell_type": "code",
      "metadata": {
        "cell_id": "00476-6df77945-11e0-4d9c-a43b-620c06d8cbfc",
        "deepnote_to_be_reexecuted": true,
        "source_hash": "f27abf31",
        "is_code_hidden": false,
        "output_cleared": false,
        "execution_millis": 27,
        "deepnote_cell_type": "code"
      },
      "source": "next(sq)",
      "outputs": [
        {
          "output_type": "execute_result",
          "execution_count": 275,
          "data": {
            "text/plain": "1"
          },
          "metadata": {}
        }
      ],
      "execution_count": null
    },
    {
      "cell_type": "code",
      "metadata": {
        "cell_id": "00477-7aca84b4-17df-46f1-a386-21a21c409edb",
        "deepnote_to_be_reexecuted": true,
        "source_hash": "f27abf31",
        "is_code_hidden": false,
        "output_cleared": false,
        "execution_millis": 36,
        "deepnote_cell_type": "code"
      },
      "source": "next(sq)",
      "outputs": [
        {
          "output_type": "execute_result",
          "execution_count": 276,
          "data": {
            "text/plain": "4"
          },
          "metadata": {}
        }
      ],
      "execution_count": null
    },
    {
      "cell_type": "code",
      "metadata": {
        "cell_id": "00478-16eeeeaf-f6b9-4e14-90a2-36a7b8ce2576",
        "deepnote_to_be_reexecuted": true,
        "source_hash": "f27abf31",
        "is_code_hidden": false,
        "output_cleared": false,
        "execution_millis": 63,
        "deepnote_cell_type": "code"
      },
      "source": "next(sq)",
      "outputs": [
        {
          "output_type": "error",
          "ename": "StopIteration",
          "evalue": "all done!",
          "traceback": [
            "\u001b[0;31m---------------------------------------------------------------------------\u001b[0m",
            "\u001b[0;31mStopIteration\u001b[0m                             Traceback (most recent call last)",
            "\u001b[0;32m<ipython-input-277-498d28888231>\u001b[0m in \u001b[0;36m<module>\u001b[0;34m\u001b[0m\n\u001b[0;32m----> 1\u001b[0;31m \u001b[0mnext\u001b[0m\u001b[0;34m(\u001b[0m\u001b[0msq\u001b[0m\u001b[0;34m)\u001b[0m\u001b[0;34m\u001b[0m\u001b[0;34m\u001b[0m\u001b[0m\n\u001b[0m",
            "\u001b[0;31mStopIteration\u001b[0m: all done!"
          ]
        }
      ],
      "execution_count": null
    },
    {
      "cell_type": "code",
      "metadata": {
        "collapsed": true,
        "cell_id": "00481-da7fd0b9-169e-4942-9e2e-d87b6c335bc9",
        "deepnote_to_be_reexecuted": true,
        "source_hash": "d3e37fb8",
        "is_code_hidden": false,
        "execution_millis": 0,
        "deepnote_cell_type": "code"
      },
      "source": "def squares(sentinel):\n    i = 0\n    while True:\n        if i < sentinel:\n            yield i**2\n            i += 1 # note how we can incremenet **after** the yield\n        else:\n            return 'all done!'",
      "outputs": [],
      "execution_count": null
    },
    {
      "cell_type": "code",
      "metadata": {
        "cell_id": "00482-156428f1-6db0-4f11-80d5-68b66961b3fb",
        "deepnote_to_be_reexecuted": true,
        "source_hash": "5c9c1230",
        "is_code_hidden": false,
        "output_cleared": false,
        "execution_millis": 15,
        "deepnote_cell_type": "code"
      },
      "source": "for num in squares(5):\n    print(num)",
      "outputs": [
        {
          "name": "stdout",
          "text": "0\n1\n4\n9\n16\n",
          "output_type": "stream"
        }
      ],
      "execution_count": null
    },
    {
      "cell_type": "code",
      "metadata": {
        "collapsed": true,
        "cell_id": "00484-5b96e3a5-b69c-4d6a-9d9c-c5d79d0b0dbb",
        "deepnote_to_be_reexecuted": true,
        "source_hash": "5fb65150",
        "is_code_hidden": false,
        "execution_millis": 0,
        "deepnote_cell_type": "code"
      },
      "source": "def factorials(n):\n    for i in range(n):\n        yield math.factorial(i)    ",
      "outputs": [],
      "execution_count": null
    },
    {
      "cell_type": "code",
      "metadata": {
        "cell_id": "00485-3afe9cc3-72e6-4dd8-b16e-fa7fcf61841d",
        "deepnote_to_be_reexecuted": true,
        "source_hash": "646c3ea6",
        "is_code_hidden": false,
        "output_cleared": false,
        "execution_millis": 0,
        "deepnote_cell_type": "code"
      },
      "source": "for num in factorials(5):\n    print(num)",
      "outputs": [
        {
          "name": "stdout",
          "text": "1\n1\n2\n6\n24\n",
          "output_type": "stream"
        }
      ],
      "execution_count": null
    },
    {
      "cell_type": "code",
      "metadata": {
        "collapsed": true,
        "cell_id": "00489-ac008508-50d6-404e-9643-f951f9407cc7",
        "deepnote_to_be_reexecuted": true,
        "source_hash": "fef17894",
        "is_code_hidden": false,
        "execution_millis": 0,
        "deepnote_cell_type": "code"
      },
      "source": "facts = factorials(5)",
      "outputs": [],
      "execution_count": null
    },
    {
      "cell_type": "code",
      "metadata": {
        "cell_id": "00490-955a5d2d-256b-4874-b147-eae1ca0a6868",
        "deepnote_to_be_reexecuted": true,
        "source_hash": "6e37c05c",
        "is_code_hidden": false,
        "output_cleared": false,
        "execution_millis": 0,
        "deepnote_cell_type": "code"
      },
      "source": "list(facts)",
      "outputs": [
        {
          "output_type": "execute_result",
          "execution_count": 284,
          "data": {
            "text/plain": "[1, 1, 2, 6, 24]"
          },
          "metadata": {}
        }
      ],
      "execution_count": null
    },
    {
      "cell_type": "code",
      "metadata": {
        "cell_id": "00491-13536168-dc9f-4624-968e-e2475d3bbb97",
        "deepnote_to_be_reexecuted": true,
        "source_hash": "6e37c05c",
        "is_code_hidden": false,
        "output_cleared": false,
        "execution_millis": 45,
        "deepnote_cell_type": "code"
      },
      "source": "list(facts)",
      "outputs": [
        {
          "output_type": "execute_result",
          "execution_count": 285,
          "data": {
            "text/plain": "[]"
          },
          "metadata": {}
        }
      ],
      "execution_count": null
    },
    {
      "cell_type": "code",
      "metadata": {
        "scrolled": true,
        "cell_id": "00493-b4b68954-1d83-438b-9a0b-5f64af657003",
        "deepnote_to_be_reexecuted": true,
        "source_hash": "91e71c11",
        "is_code_hidden": false,
        "output_cleared": false,
        "execution_millis": 38,
        "deepnote_cell_type": "code"
      },
      "source": "next(facts)",
      "outputs": [
        {
          "output_type": "error",
          "ename": "StopIteration",
          "evalue": "",
          "traceback": [
            "\u001b[0;31m---------------------------------------------------------------------------\u001b[0m",
            "\u001b[0;31mStopIteration\u001b[0m                             Traceback (most recent call last)",
            "\u001b[0;32m<ipython-input-286-442cdd889dd8>\u001b[0m in \u001b[0;36m<module>\u001b[0;34m\u001b[0m\n\u001b[0;32m----> 1\u001b[0;31m \u001b[0mnext\u001b[0m\u001b[0;34m(\u001b[0m\u001b[0mfacts\u001b[0m\u001b[0;34m)\u001b[0m\u001b[0;34m\u001b[0m\u001b[0;34m\u001b[0m\u001b[0m\n\u001b[0m",
            "\u001b[0;31mStopIteration\u001b[0m: "
          ]
        }
      ],
      "execution_count": null
    },
    {
      "cell_type": "markdown",
      "source": "### Example: Fibonacci Sequence",
      "metadata": {
        "cell_id": "00494-e4a8db46-c839-4bce-a103-8d124ff4adcc",
        "deepnote_cell_type": "markdown"
      }
    },
    {
      "cell_type": "markdown",
      "source": "Here is the Fibonacci sequence:\n\n```\n1 1 2 3 5 8 13 ...\n```",
      "metadata": {
        "cell_id": "00495-d97c56b7-59ed-4290-8dcd-1bdc3091b3c5",
        "deepnote_cell_type": "markdown"
      }
    },
    {
      "cell_type": "code",
      "metadata": {
        "collapsed": true,
        "cell_id": "00498-3d73332c-8603-4c53-b4e5-14b98698a156",
        "deepnote_to_be_reexecuted": true,
        "source_hash": "70d4a02a",
        "is_code_hidden": false,
        "execution_millis": 1,
        "deepnote_cell_type": "code"
      },
      "source": "def fib_recursive(n):\n    if n <= 1:\n        return 1\n    else:\n        return fib_recursive(n-1) + fib_recursive(n-2)",
      "outputs": [],
      "execution_count": null
    },
    {
      "cell_type": "code",
      "metadata": {
        "cell_id": "00499-74f793d6-5b8f-4f80-8df3-d3d732e5caab",
        "deepnote_to_be_reexecuted": true,
        "source_hash": "e592ee0d",
        "is_code_hidden": false,
        "execution_millis": 643,
        "deepnote_cell_type": "code"
      },
      "source": "[fib_recursive(i) for i in range(7)]",
      "outputs": [
        {
          "output_type": "execute_result",
          "execution_count": 288,
          "data": {
            "text/plain": "[1, 1, 2, 3, 5, 8, 13]"
          },
          "metadata": {}
        }
      ],
      "execution_count": null
    },
    {
      "cell_type": "code",
      "metadata": {
        "collapsed": true,
        "cell_id": "00501-17baaec9-4f4e-4e12-94cc-9c54cfd3813e",
        "deepnote_to_be_reexecuted": true,
        "source_hash": "8811643e",
        "is_code_hidden": false,
        "execution_millis": 9,
        "deepnote_cell_type": "code"
      },
      "source": "from timeit import timeit",
      "outputs": [],
      "execution_count": null
    },
    {
      "cell_type": "code",
      "metadata": {
        "cell_id": "00502-bc8b3265-7567-448d-a10e-b0ed6e9c4a68",
        "deepnote_to_be_reexecuted": true,
        "source_hash": "7b1b0abe",
        "is_code_hidden": false,
        "output_cleared": false,
        "execution_millis": 64,
        "deepnote_cell_type": "code"
      },
      "source": "timeit('fib_recursive(10)', globals=globals(), number=10)",
      "outputs": [
        {
          "output_type": "execute_result",
          "execution_count": 290,
          "data": {
            "text/plain": "0.00032279999868478626"
          },
          "metadata": {}
        }
      ],
      "execution_count": null
    },
    {
      "cell_type": "code",
      "metadata": {
        "cell_id": "00503-1cd1b0fd-c0e1-4d16-afe7-a2139683d432",
        "deepnote_to_be_reexecuted": true,
        "source_hash": "bb5aa50f",
        "is_code_hidden": false,
        "output_cleared": false,
        "execution_millis": 2207,
        "deepnote_cell_type": "code"
      },
      "source": "timeit('fib_recursive(28)', globals=globals(), number=10)",
      "outputs": [
        {
          "output_type": "execute_result",
          "execution_count": 291,
          "data": {
            "text/plain": "2.2239010490011424"
          },
          "metadata": {}
        }
      ],
      "execution_count": null
    },
    {
      "cell_type": "code",
      "metadata": {
        "cell_id": "00504-0039f99b-752f-4cfe-b2da-9c8c4c71781f",
        "deepnote_to_be_reexecuted": true,
        "source_hash": "a6c16da3",
        "is_code_hidden": false,
        "output_cleared": false,
        "execution_millis": 3682,
        "deepnote_cell_type": "code"
      },
      "source": "timeit('fib_recursive(29)', globals=globals(), number=10)",
      "outputs": [
        {
          "output_type": "execute_result",
          "execution_count": 292,
          "data": {
            "text/plain": "3.651350617998105"
          },
          "metadata": {}
        }
      ],
      "execution_count": null
    },
    {
      "cell_type": "code",
      "metadata": {
        "collapsed": true,
        "cell_id": "00506-b28e8781-dcdf-4213-88ed-5f946fd14507",
        "deepnote_to_be_reexecuted": true,
        "source_hash": "4f87dfee",
        "is_code_hidden": false,
        "execution_millis": 1,
        "deepnote_cell_type": "code"
      },
      "source": "from functools import lru_cache",
      "outputs": [],
      "execution_count": null
    },
    {
      "cell_type": "code",
      "metadata": {
        "collapsed": true,
        "cell_id": "00507-fd634261-2300-4a74-ac0b-7dbf995235d3",
        "deepnote_to_be_reexecuted": true,
        "source_hash": "828cd5b0",
        "is_code_hidden": false,
        "execution_millis": 10,
        "deepnote_cell_type": "code"
      },
      "source": "@lru_cache()\ndef fib_recursive(n):\n    if n <= 1:\n        return 1\n    else:\n        return fib_recursive(n-1) + fib_recursive(n-2)",
      "outputs": [],
      "execution_count": null
    },
    {
      "cell_type": "code",
      "metadata": {
        "cell_id": "00508-a3ad833c-ef4b-4981-9f05-1d1ef577d69d",
        "deepnote_to_be_reexecuted": true,
        "source_hash": "7b1b0abe",
        "is_code_hidden": false,
        "output_cleared": false,
        "execution_millis": 27,
        "deepnote_cell_type": "code"
      },
      "source": "timeit('fib_recursive(10)', globals=globals(), number=10)",
      "outputs": [
        {
          "output_type": "execute_result",
          "execution_count": 295,
          "data": {
            "text/plain": "6.67999847792089e-06"
          },
          "metadata": {}
        }
      ],
      "execution_count": null
    },
    {
      "cell_type": "code",
      "metadata": {
        "cell_id": "00509-abb8c7e3-da45-40df-8a40-eba3e989f165",
        "deepnote_to_be_reexecuted": true,
        "source_hash": "a6c16da3",
        "is_code_hidden": false,
        "output_cleared": false,
        "execution_millis": 32,
        "deepnote_cell_type": "code"
      },
      "source": "timeit('fib_recursive(29)', globals=globals(), number=10)",
      "outputs": [
        {
          "output_type": "execute_result",
          "execution_count": 296,
          "data": {
            "text/plain": "2.6079003873746842e-05"
          },
          "metadata": {}
        }
      ],
      "execution_count": null
    },
    {
      "cell_type": "code",
      "metadata": {
        "collapsed": true,
        "cell_id": "00511-e217f977-728a-4f71-beee-51bd561a19a4",
        "deepnote_to_be_reexecuted": true,
        "source_hash": "828cd5b0",
        "is_code_hidden": false,
        "execution_millis": 0,
        "deepnote_cell_type": "code"
      },
      "source": "@lru_cache()\ndef fib_recursive(n):\n    if n <= 1:\n        return 1\n    else:\n        return fib_recursive(n-1) + fib_recursive(n-2)",
      "outputs": [],
      "execution_count": null
    },
    {
      "cell_type": "code",
      "metadata": {
        "cell_id": "00512-20f48a83-73b8-44e4-a941-fa427a62957f",
        "deepnote_to_be_reexecuted": true,
        "source_hash": "9a0897fe",
        "is_code_hidden": false,
        "output_cleared": false,
        "execution_millis": 5054,
        "deepnote_cell_type": "code"
      },
      "source": "fib_recursive(2000)",
      "outputs": [
        {
          "output_type": "error",
          "ename": "RecursionError",
          "evalue": "maximum recursion depth exceeded in comparison",
          "traceback": [
            "\u001b[0;31m---------------------------------------------------------------------------\u001b[0m",
            "\u001b[0;31mRecursionError\u001b[0m                            Traceback (most recent call last)",
            "\u001b[0;32m<ipython-input-298-0f93ec585e3a>\u001b[0m in \u001b[0;36m<module>\u001b[0;34m\u001b[0m\n\u001b[0;32m----> 1\u001b[0;31m \u001b[0mfib_recursive\u001b[0m\u001b[0;34m(\u001b[0m\u001b[0;36m2000\u001b[0m\u001b[0;34m)\u001b[0m\u001b[0;34m\u001b[0m\u001b[0;34m\u001b[0m\u001b[0m\n\u001b[0m",
            "\u001b[0;32m<ipython-input-297-d22f6de2d2e0>\u001b[0m in \u001b[0;36mfib_recursive\u001b[0;34m(n)\u001b[0m\n\u001b[1;32m      4\u001b[0m         \u001b[0;32mreturn\u001b[0m \u001b[0;36m1\u001b[0m\u001b[0;34m\u001b[0m\u001b[0;34m\u001b[0m\u001b[0m\n\u001b[1;32m      5\u001b[0m     \u001b[0;32melse\u001b[0m\u001b[0;34m:\u001b[0m\u001b[0;34m\u001b[0m\u001b[0;34m\u001b[0m\u001b[0m\n\u001b[0;32m----> 6\u001b[0;31m         \u001b[0;32mreturn\u001b[0m \u001b[0mfib_recursive\u001b[0m\u001b[0;34m(\u001b[0m\u001b[0mn\u001b[0m\u001b[0;34m-\u001b[0m\u001b[0;36m1\u001b[0m\u001b[0;34m)\u001b[0m \u001b[0;34m+\u001b[0m \u001b[0mfib_recursive\u001b[0m\u001b[0;34m(\u001b[0m\u001b[0mn\u001b[0m\u001b[0;34m-\u001b[0m\u001b[0;36m2\u001b[0m\u001b[0;34m)\u001b[0m\u001b[0;34m\u001b[0m\u001b[0;34m\u001b[0m\u001b[0m\n\u001b[0m",
            "... last 1 frames repeated, from the frame below ...\n",
            "\u001b[0;32m<ipython-input-297-d22f6de2d2e0>\u001b[0m in \u001b[0;36mfib_recursive\u001b[0;34m(n)\u001b[0m\n\u001b[1;32m      4\u001b[0m         \u001b[0;32mreturn\u001b[0m \u001b[0;36m1\u001b[0m\u001b[0;34m\u001b[0m\u001b[0;34m\u001b[0m\u001b[0m\n\u001b[1;32m      5\u001b[0m     \u001b[0;32melse\u001b[0m\u001b[0;34m:\u001b[0m\u001b[0;34m\u001b[0m\u001b[0;34m\u001b[0m\u001b[0m\n\u001b[0;32m----> 6\u001b[0;31m         \u001b[0;32mreturn\u001b[0m \u001b[0mfib_recursive\u001b[0m\u001b[0;34m(\u001b[0m\u001b[0mn\u001b[0m\u001b[0;34m-\u001b[0m\u001b[0;36m1\u001b[0m\u001b[0;34m)\u001b[0m \u001b[0;34m+\u001b[0m \u001b[0mfib_recursive\u001b[0m\u001b[0;34m(\u001b[0m\u001b[0mn\u001b[0m\u001b[0;34m-\u001b[0m\u001b[0;36m2\u001b[0m\u001b[0;34m)\u001b[0m\u001b[0;34m\u001b[0m\u001b[0;34m\u001b[0m\u001b[0m\n\u001b[0m",
            "\u001b[0;31mRecursionError\u001b[0m: maximum recursion depth exceeded in comparison"
          ]
        }
      ],
      "execution_count": null
    },
    {
      "cell_type": "code",
      "metadata": {
        "collapsed": true,
        "cell_id": "00514-e76b0ff7-1f6d-49ce-8a02-ca3bb492b02d",
        "deepnote_to_be_reexecuted": true,
        "source_hash": "2595cb15",
        "is_code_hidden": false,
        "execution_millis": 0,
        "deepnote_cell_type": "code"
      },
      "source": "def fib(n):\n    fib_0 = 1\n    fib_1 = 1\n    for i in range(n-1):\n        fib_0, fib_1 = fib_1, fib_0 + fib_1\n    return fib_1",
      "outputs": [],
      "execution_count": null
    },
    {
      "cell_type": "code",
      "metadata": {
        "cell_id": "00515-f638aa28-402a-4574-99ed-365e5fdcd1bf",
        "deepnote_to_be_reexecuted": true,
        "source_hash": "b39ecf29",
        "is_code_hidden": false,
        "output_cleared": false,
        "execution_millis": 22,
        "deepnote_cell_type": "code"
      },
      "source": "[fib(i) for i in range(7)]",
      "outputs": [
        {
          "output_type": "execute_result",
          "execution_count": 300,
          "data": {
            "text/plain": "[1, 1, 2, 3, 5, 8, 13]"
          },
          "metadata": {}
        }
      ],
      "execution_count": null
    },
    {
      "cell_type": "code",
      "metadata": {
        "cell_id": "00517-db4dde6e-aac4-4139-96f9-5e609416fa22",
        "deepnote_to_be_reexecuted": true,
        "source_hash": "8ecc3029",
        "is_code_hidden": false,
        "output_cleared": false,
        "execution_millis": 77,
        "deepnote_cell_type": "code"
      },
      "source": "timeit('fib(5000)', globals=globals(), number=10)",
      "outputs": [
        {
          "output_type": "execute_result",
          "execution_count": 301,
          "data": {
            "text/plain": "0.023286691997782327"
          },
          "metadata": {}
        }
      ],
      "execution_count": null
    },
    {
      "cell_type": "code",
      "metadata": {
        "collapsed": true,
        "cell_id": "00520-3d833391-6cd8-40a8-a16d-11d82844fd60",
        "deepnote_to_be_reexecuted": true,
        "source_hash": "4c3041f8",
        "is_code_hidden": false,
        "execution_millis": 1,
        "deepnote_cell_type": "code"
      },
      "source": "class Fib:\n    def __init__(self, n):\n        self.n = n\n        \n    def __iter__(self):\n        return self.FibIter(self.n)\n        \n    class FibIter:\n        def __init__(self, n):\n            self.n = n\n            self.i = 0\n            \n        def __iter__(self):\n            return self\n        \n        def __next__(self):\n            if self.i >= self.n:\n                raise StopIteration\n            else:\n                result = fib(self.i)\n                self.i += 1\n                return result",
      "outputs": [],
      "execution_count": null
    },
    {
      "cell_type": "code",
      "metadata": {
        "collapsed": true,
        "cell_id": "00522-b77d094a-c934-48f9-a92a-13d1c2ae318d",
        "deepnote_to_be_reexecuted": true,
        "source_hash": "67aea088",
        "is_code_hidden": false,
        "execution_millis": 0,
        "deepnote_cell_type": "code"
      },
      "source": "fib_iterable = Fib(7)",
      "outputs": [],
      "execution_count": null
    },
    {
      "cell_type": "code",
      "metadata": {
        "cell_id": "00523-b91179b2-0be4-466b-ae32-d0549a43669d",
        "deepnote_to_be_reexecuted": true,
        "source_hash": "79fae792",
        "is_code_hidden": false,
        "output_cleared": false,
        "execution_millis": 0,
        "deepnote_cell_type": "code"
      },
      "source": "for num in fib_iterable:\n    print(num)",
      "outputs": [
        {
          "name": "stdout",
          "text": "1\n1\n2\n3\n5\n8\n13\n",
          "output_type": "stream"
        }
      ],
      "execution_count": null
    },
    {
      "cell_type": "code",
      "metadata": {
        "collapsed": true,
        "cell_id": "00525-738f98ba-c062-4979-9304-ed6d5419c4c0",
        "deepnote_to_be_reexecuted": true,
        "source_hash": "14277009",
        "is_code_hidden": false,
        "execution_millis": 0,
        "deepnote_cell_type": "code"
      },
      "source": "def fib_closure():\n    i = 0\n    def inner():\n        nonlocal i\n        result = fib(i)\n        i += 1\n        return result\n    return inner",
      "outputs": [],
      "execution_count": null
    },
    {
      "cell_type": "code",
      "metadata": {
        "cell_id": "00526-8e0f91fd-9c0b-4639-b2ba-8b8e6e08daa4",
        "deepnote_to_be_reexecuted": true,
        "source_hash": "8d2b4a1c",
        "is_code_hidden": false,
        "output_cleared": false,
        "execution_millis": 61,
        "deepnote_cell_type": "code"
      },
      "source": "fib_numbers = fib_closure()\nfib_iter = iter(fib_numbers, fib(7))\nfor num in fib_iter:\n    print(num)",
      "outputs": [
        {
          "name": "stdout",
          "text": "1\n1\n2\n3\n5\n8\n13\n",
          "output_type": "stream"
        }
      ],
      "execution_count": null
    },
    {
      "cell_type": "code",
      "metadata": {
        "collapsed": true,
        "cell_id": "00529-d959a8ab-5d02-468d-bc02-74c609ca9544",
        "deepnote_to_be_reexecuted": true,
        "source_hash": "bf08287b",
        "is_code_hidden": false,
        "execution_millis": 0,
        "deepnote_cell_type": "code"
      },
      "source": "def fib(n):\n    fib_0 = 1\n    fib_1 = 1\n    for i in range(n-1):\n        fib_0, fib_1 = fib_1, fib_0 + fib_1\n    return fib_1    ",
      "outputs": [],
      "execution_count": null
    },
    {
      "cell_type": "code",
      "metadata": {
        "cell_id": "00530-f3b006b3-4110-412f-b426-3b26e61e8cb1",
        "deepnote_to_be_reexecuted": true,
        "source_hash": "b39ecf29",
        "is_code_hidden": false,
        "output_cleared": false,
        "execution_millis": 1,
        "deepnote_cell_type": "code"
      },
      "source": "[fib(i) for i in range(7)]",
      "outputs": [
        {
          "output_type": "execute_result",
          "execution_count": 308,
          "data": {
            "text/plain": "[1, 1, 2, 3, 5, 8, 13]"
          },
          "metadata": {}
        }
      ],
      "execution_count": null
    },
    {
      "cell_type": "code",
      "metadata": {
        "collapsed": true,
        "cell_id": "00532-239970b5-e83f-413a-be2a-f55e667c8120",
        "deepnote_to_be_reexecuted": true,
        "source_hash": "7a54fd8b",
        "is_code_hidden": false,
        "execution_millis": 13,
        "deepnote_cell_type": "code"
      },
      "source": "def fib_gen(n):\n    fib_0 = 1\n    fib_1 = 1\n    for i in range(n-1):\n        fib_0, fib_1 = fib_1, fib_0 + fib_1\n        yield fib_1    ",
      "outputs": [],
      "execution_count": null
    },
    {
      "cell_type": "code",
      "metadata": {
        "cell_id": "00533-5c4a8088-886f-48bc-a755-4144f22675ed",
        "deepnote_to_be_reexecuted": true,
        "source_hash": "87377d30",
        "is_code_hidden": false,
        "output_cleared": false,
        "execution_millis": 14,
        "deepnote_cell_type": "code"
      },
      "source": "[num for num in fib_gen(7)]",
      "outputs": [
        {
          "output_type": "execute_result",
          "execution_count": 310,
          "data": {
            "text/plain": "[2, 3, 5, 8, 13, 21]"
          },
          "metadata": {}
        }
      ],
      "execution_count": null
    },
    {
      "cell_type": "code",
      "metadata": {
        "collapsed": true,
        "cell_id": "00535-119db368-3dbb-4841-8ad0-cf388b860f1d",
        "deepnote_to_be_reexecuted": true,
        "source_hash": "33a611e7",
        "is_code_hidden": false,
        "execution_millis": 1,
        "deepnote_cell_type": "code"
      },
      "source": "def fib_gen(n):\n    fib_0 = 1\n    yield fib_0\n    fib_1 = 1\n    yield fib_1\n    for i in range(n-1):\n        fib_0, fib_1 = fib_1, fib_0 + fib_1\n        yield fib_1    ",
      "outputs": [],
      "execution_count": null
    },
    {
      "cell_type": "code",
      "metadata": {
        "cell_id": "00536-83f357c8-7554-4ffc-bd32-f15452e0463e",
        "deepnote_to_be_reexecuted": true,
        "source_hash": "87377d30",
        "is_code_hidden": false,
        "output_cleared": false,
        "execution_millis": 0,
        "deepnote_cell_type": "code"
      },
      "source": "[num for num in fib_gen(7)]",
      "outputs": [
        {
          "output_type": "execute_result",
          "execution_count": 312,
          "data": {
            "text/plain": "[1, 1, 2, 3, 5, 8, 13, 21]"
          },
          "metadata": {}
        }
      ],
      "execution_count": null
    },
    {
      "cell_type": "code",
      "metadata": {
        "collapsed": true,
        "cell_id": "00538-cd3ec19a-74d4-408f-8fca-27c51c616c81",
        "deepnote_to_be_reexecuted": true,
        "source_hash": "46cd969d",
        "is_code_hidden": false,
        "execution_millis": 7,
        "deepnote_cell_type": "code"
      },
      "source": "def fib_gen(n):\n    fib_0 = 1\n    yield fib_0\n    fib_1 = 1\n    yield fib_1\n    for i in range(n-2):\n        fib_0, fib_1 = fib_1, fib_0 + fib_1\n        yield fib_1    ",
      "outputs": [],
      "execution_count": null
    },
    {
      "cell_type": "code",
      "metadata": {
        "cell_id": "00540-b1ed54ee-2de3-4e18-a0c0-5fb37918d47c",
        "deepnote_to_be_reexecuted": true,
        "source_hash": "87377d30",
        "is_code_hidden": false,
        "output_cleared": false,
        "execution_millis": 14,
        "deepnote_cell_type": "code"
      },
      "source": "[num for num in fib_gen(7)]",
      "outputs": [
        {
          "output_type": "execute_result",
          "execution_count": 314,
          "data": {
            "text/plain": "[1, 1, 2, 3, 5, 8, 13]"
          },
          "metadata": {}
        }
      ],
      "execution_count": null
    },
    {
      "cell_type": "code",
      "metadata": {
        "cell_id": "00542-111018bd-f231-4587-aba4-bd9f4f6e7e24",
        "deepnote_to_be_reexecuted": true,
        "source_hash": "59fc13c3",
        "is_code_hidden": false,
        "output_cleared": false,
        "execution_millis": 2663,
        "deepnote_cell_type": "code"
      },
      "source": "timeit('[num for num in Fib(5_000)]', globals=globals(), number=1)",
      "outputs": [
        {
          "output_type": "execute_result",
          "execution_count": 315,
          "data": {
            "text/plain": "2.6556413939979393"
          },
          "metadata": {}
        }
      ],
      "execution_count": null
    },
    {
      "cell_type": "code",
      "metadata": {
        "cell_id": "00543-db233eac-cf6e-4d86-b2f4-cc84844e5628",
        "deepnote_to_be_reexecuted": true,
        "source_hash": "d41459c7",
        "is_code_hidden": false,
        "output_cleared": false,
        "execution_millis": 2709,
        "deepnote_cell_type": "code"
      },
      "source": "fib_numbers = fib_closure()\nsentinel = fib(5_001)\n\ntimeit('[num for num in iter(fib_numbers, sentinel)]', globals=globals(),\n      number=1)",
      "outputs": [
        {
          "output_type": "execute_result",
          "execution_count": 316,
          "data": {
            "text/plain": "2.6684804999968037"
          },
          "metadata": {}
        }
      ],
      "execution_count": null
    },
    {
      "cell_type": "code",
      "metadata": {
        "cell_id": "00544-6209c8a2-b75f-470f-847e-e00ced6d4a23",
        "deepnote_to_be_reexecuted": true,
        "source_hash": "d4045e36",
        "is_code_hidden": false,
        "output_cleared": false,
        "execution_millis": 17,
        "deepnote_cell_type": "code"
      },
      "source": "timeit('[num for num in fib_gen(5_000)]', globals=globals(), number=1)",
      "outputs": [
        {
          "output_type": "execute_result",
          "execution_count": 317,
          "data": {
            "text/plain": "0.0017618540005059913"
          },
          "metadata": {}
        }
      ],
      "execution_count": null
    },
    {
      "cell_type": "markdown",
      "source": "<a style='text-decoration:none;line-height:16px;display:flex;color:#5B5B62;padding:10px;justify-content:end;' href='https://deepnote.com?utm_source=created-in-deepnote-cell&projectId=e37e4a4c-30ea-454e-8d75-ad8a2edc05d3' target=\"_blank\">\n<img style='display:inline;max-height:16px;margin:0px;margin-right:7.5px;' src='data:image/svg+xml;base64,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' > </img>\nCreated in <span style='font-weight:600;margin-left:4px;'>Deepnote</span></a>",
      "metadata": {
        "tags": [],
        "created_in_deepnote_cell": true,
        "deepnote_cell_type": "markdown"
      }
    }
  ],
  "nbformat": 4,
  "nbformat_minor": 2,
  "metadata": {
    "kernelspec": {
      "display_name": "Python 3",
      "language": "python",
      "name": "python3"
    },
    "language_info": {
      "codemirror_mode": {
        "name": "ipython",
        "version": 3
      },
      "file_extension": ".py",
      "mimetype": "text/x-python",
      "name": "python",
      "nbconvert_exporter": "python",
      "pygments_lexer": "ipython3",
      "version": "3.6.2"
    },
    "deepnote_notebook_id": "93ce26a3-e598-4df0-b432-af67f2bfd202",
    "deepnote": {
      "is_reactive": true
    },
    "deepnote_execution_queue": []
  }
}