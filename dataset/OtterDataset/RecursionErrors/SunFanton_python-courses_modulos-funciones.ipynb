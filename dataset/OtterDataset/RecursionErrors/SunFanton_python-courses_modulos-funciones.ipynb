{
 "cells": [
  {
   "cell_type": "markdown",
   "metadata": {},
   "source": [
    "<a href=\"https://colab.research.google.com/github/institutohumai/cursos-python/blob/master/Introduccion/3_Modulos_Funciones/modulos-funciones.ipynb\"> <img src='https://colab.research.google.com/assets/colab-badge.svg' /> </a>\n",
    "<div align=\"center\"> Recordá abrir en una nueva pestaña </div>"
   ]
  },
  {
   "cell_type": "markdown",
   "metadata": {},
   "source": [
    "## Módulos y Algorítmos\n",
    "\n",
    "- [Librerias](#Librerías-o-módulos)\n",
    "- [Entornos virtuales](#Entornos-virtuales)"
   ]
  },
  {
   "cell_type": "markdown",
   "metadata": {},
   "source": [
    "# Funciones y algoritmos"
   ]
  },
  {
   "cell_type": "markdown",
   "metadata": {},
   "source": [
    "Un algoritmo es una serie de pasos o instrucciones definidas con el objetivo de llevar a cabo una tarea. En esta clase vamos a profundizar en los temas vistos previamente mientras aprendemos a programar algunos algoritmos clásicos."
   ]
  },
  {
   "cell_type": "markdown",
   "metadata": {},
   "source": [
    "### Algoritmo 1: Palíndromos"
   ]
  },
  {
   "cell_type": "markdown",
   "metadata": {},
   "source": [
    "Un palíndromo es una palabra o frase que se lee de igual manera en ambos sentidos. Por ejemplo, Ana. Otro ejemplo es un expresidente argentino de la década del 90.\n",
    "\n",
    "Hay distintas formas de resolver este problema, vamos a ver primero dos formas que hacen uso de la versatilidad de Python y luego una manera algo más compleja pero que nos va a permitir pensar el problema desde otra óptica."
   ]
  },
  {
   "cell_type": "markdown",
   "metadata": {},
   "source": [
    "Vamos a definir tres funciones llamadas es_palindromo y para testear su funcionamiento vamos a chequear que:\n",
    "\n",
    "1- es_palindromo(\"ana\") == True\n",
    "\n",
    "2- es_palindromo(\"barrilete cósmico\") != True\n",
    "\n",
    "3- es_palindromo(\"yo hago yoga hoy\") == True\n",
    "\n",
    "4- es_palindromo(\"arriba la birra\") == True\n",
    "\n",
    "5- es_palindromo(\"arriba la barra\") != True"
   ]
  },
  {
   "cell_type": "code",
   "execution_count": 1,
   "metadata": {},
   "outputs": [],
   "source": [
    "texto_1 = \"ana\"\n",
    "texto_2 = \"barrilete cosmico\"\n",
    "texto_3 = \"yo hago yoga hoy\"\n",
    "texto_4 = \"arriba la birra\"\n",
    "texto_5 = \"arriba la barra\""
   ]
  },
  {
   "cell_type": "markdown",
   "metadata": {},
   "source": [
    "1- Una manera de resolver el problema es recordar que un string es un iterable y que, por lo tanto, lo podemos recorrer es sentido inverso. De esta manera podemos tener un código compacto."
   ]
  },
  {
   "cell_type": "code",
   "execution_count": 2,
   "metadata": {},
   "outputs": [
    {
     "data": {
      "text/plain": [
       "'ana'"
      ]
     },
     "execution_count": 2,
     "metadata": {},
     "output_type": "execute_result"
    }
   ],
   "source": [
    "# Recordemos el slicing:\n",
    "texto_1[::-1]"
   ]
  },
  {
   "cell_type": "code",
   "execution_count": 3,
   "metadata": {},
   "outputs": [
    {
     "data": {
      "text/plain": [
       "'ocimsoc etelirrab'"
      ]
     },
     "execution_count": 3,
     "metadata": {},
     "output_type": "execute_result"
    }
   ],
   "source": [
    "texto_2[::-1]"
   ]
  },
  {
   "cell_type": "code",
   "execution_count": 4,
   "metadata": {},
   "outputs": [
    {
     "data": {
      "text/plain": [
       "'yoh agoy ogah oy'"
      ]
     },
     "execution_count": 4,
     "metadata": {},
     "output_type": "execute_result"
    }
   ],
   "source": [
    "# ¿Qué pasa en este ejemplo?\n",
    "texto_3[::-1]"
   ]
  },
  {
   "cell_type": "markdown",
   "metadata": {},
   "source": [
    "En los palíndromos (al menos acá) nos interesa el sonido, con lo cual vamos a omitir los espacios en el análisis."
   ]
  },
  {
   "cell_type": "code",
   "execution_count": 5,
   "metadata": {},
   "outputs": [],
   "source": [
    "# Opción 1: usar slicing\n",
    "def es_palindromo(texto):\n",
    "    texto = texto.replace(\" \", \"\")\n",
    "    # vean cómo podemos hacer slicing por un string, en sentido inverso, recorriendo la lista de atrás para adelante.\n",
    "    return texto == texto[::-1] "
   ]
  },
  {
   "cell_type": "code",
   "execution_count": 8,
   "metadata": {},
   "outputs": [],
   "source": [
    "# assert nos permite controlar que una condición se cumpla, si no da True devuelve un AssertionError con el mensaje de la derecha\n",
    "assert es_palindromo(texto_1) == True, \"falló el test\"\n",
    "assert es_palindromo(texto_2) != True, \"falló el test\"\n",
    "assert es_palindromo(texto_3) == True, \"falló el test\"\n",
    "assert es_palindromo(texto_4) == True, \"falló el test\"\n",
    "assert es_palindromo(texto_5) != True, \"falló el test\""
   ]
  },
  {
   "cell_type": "markdown",
   "metadata": {},
   "source": [
    "Python cuenta con una serie de funciones built-in entre las cuales se encuentra **reversed**. Esta función devuelve un iterable con el input (que puede ser cualquier secuencia) con su orden reverso.\n",
    "\n",
    "Ejercicio: escribir una función es_palindromo usando reversed. ¡Pueden googlear! Tip: la función join los puede ayudar."
   ]
  },
  {
   "cell_type": "code",
   "execution_count": 18,
   "metadata": {},
   "outputs": [],
   "source": [
    "def es_palindromo2(texto):\n",
    "    # aquí sucede la magia\n",
    "    texto = texto.replace(\" \", \"\")\n",
    "    texto_reversa = \"\".join(reversed(texto))\n",
    "    return texto == texto_reversa"
   ]
  },
  {
   "cell_type": "code",
   "execution_count": 19,
   "metadata": {},
   "outputs": [],
   "source": [
    "assert es_palindromo2(texto_1) == True, \"falló el test\"\n",
    "assert es_palindromo2(texto_2) != True, \"falló el test\"\n",
    "assert es_palindromo2(texto_3) == True, \"falló el test\"\n",
    "assert es_palindromo2(texto_4) == True, \"falló el test\"\n",
    "assert es_palindromo2(texto_5) != True, \"falló el test\""
   ]
  },
  {
   "cell_type": "markdown",
   "metadata": {},
   "source": [
    "### Algoritmo 2. Secuencia de Fibonacci\n",
    "\n",
    "La secuencia de Fibonacci es la famosa secuencia que se define como:\n",
    "\n",
    "- $F_0 = 0$\n",
    "- $F_1 = 1$\n",
    "- $F_n = F_{n-1} + F_{n-2}$ para $n>1$\n",
    "\n",
    "Esto nos da como resultado:\n",
    "\n",
    "0, 1, 1, 2, 3, 5, 8, 13, 21, 34, ...\n",
    "\n",
    "Ahora bien, ¿cómo podemos programar un algoritmo que compute esta serie hasta el número de Fibonacci en la posición n?\n",
    "Noten, que para obtener el número de Fibonacci n debemos antes computar el n-1 y el n-2, es decir, para tener un valor de la secuencia de Fibonacci debemos computar los previos. Cuando una función requiere llamarse a sí misma para poder realizar un cómputo decimos que la función es recursiva.\n",
    "\n",
    "Entonces, tratemos de encarar el problema \"traduciendo\" la definición de la secuencia a código Python..."
   ]
  },
  {
   "cell_type": "code",
   "execution_count": 20,
   "metadata": {},
   "outputs": [],
   "source": [
    "# Opción 1: solución recursiva.\n",
    "def F_n(n):\n",
    "    # sigamos la definición de la secuencia de Fibonacci\n",
    "    if n == 0: # Si n es 0 entonces devuelvo 0 \n",
    "        return 0\n",
    "    if n == 1:\n",
    "        return 1 # Si n es 1 entonces devuelvo 1\n",
    "    else:\n",
    "        return F_n(n-1) + F_n(n-2) # En cualquier otro caso devuelvo la suma de los dos números de Fibonacci preivos"
   ]
  },
  {
   "cell_type": "markdown",
   "metadata": {},
   "source": [
    "La recursividad es esta propiedad por la cual una función se llama a sí misma. Toda función recursiva necesita tener un punto de corte, para ponerle un fin a esta llamada. De lo contrario vamos a tener un error."
   ]
  },
  {
   "cell_type": "markdown",
   "metadata": {},
   "source": [
    "Más adelante vamos a ejecutar varias veces la función F_n, generando la lista de valores de Fibonacci... ¿qué creen que va a pasar?"
   ]
  },
  {
   "cell_type": "markdown",
   "metadata": {},
   "source": [
    "Pero antes, vamos a charlar un poco más sobre recursividad. Como dijimos, se necesita un punto de corte, de lo contrario veamos qué pasa..."
   ]
  },
  {
   "cell_type": "code",
   "execution_count": 21,
   "metadata": {},
   "outputs": [],
   "source": [
    "def F_n_2(n): # borro las condiciones\n",
    "    return F_n_2(n-1) + F_n_2(n-2) "
   ]
  },
  {
   "cell_type": "markdown",
   "metadata": {},
   "source": [
    "Ejecuten la siguiente celda y vean que vamos a obtener el error:\n",
    "\n",
    "**RecursionError**: maximum recursion depth exceeded"
   ]
  },
  {
   "cell_type": "code",
   "execution_count": 22,
   "metadata": {},
   "outputs": [
    {
     "data": {
      "text/plain": [
       "5"
      ]
     },
     "execution_count": 22,
     "metadata": {},
     "output_type": "execute_result"
    }
   ],
   "source": [
    "F_n(5)"
   ]
  },
  {
   "cell_type": "code",
   "execution_count": 23,
   "metadata": {},
   "outputs": [
    {
     "ename": "RecursionError",
     "evalue": "maximum recursion depth exceeded",
     "output_type": "error",
     "traceback": [
      "\u001b[0;31m---------------------------------------------------------------------------\u001b[0m",
      "\u001b[0;31mRecursionError\u001b[0m                            Traceback (most recent call last)",
      "Cell \u001b[0;32mIn[23], line 1\u001b[0m\n\u001b[0;32m----> 1\u001b[0m \u001b[43mF_n_2\u001b[49m\u001b[43m(\u001b[49m\u001b[38;5;241;43m5\u001b[39;49m\u001b[43m)\u001b[49m \n",
      "Cell \u001b[0;32mIn[21], line 2\u001b[0m, in \u001b[0;36mF_n_2\u001b[0;34m(n)\u001b[0m\n\u001b[1;32m      1\u001b[0m \u001b[38;5;28;01mdef\u001b[39;00m \u001b[38;5;21mF_n_2\u001b[39m(n): \u001b[38;5;66;03m# borro las condiciones\u001b[39;00m\n\u001b[0;32m----> 2\u001b[0m     \u001b[38;5;28;01mreturn\u001b[39;00m \u001b[43mF_n_2\u001b[49m\u001b[43m(\u001b[49m\u001b[43mn\u001b[49m\u001b[38;5;241;43m-\u001b[39;49m\u001b[38;5;241;43m1\u001b[39;49m\u001b[43m)\u001b[49m \u001b[38;5;241m+\u001b[39m F_n_2(n\u001b[38;5;241m-\u001b[39m\u001b[38;5;241m2\u001b[39m)\n",
      "Cell \u001b[0;32mIn[21], line 2\u001b[0m, in \u001b[0;36mF_n_2\u001b[0;34m(n)\u001b[0m\n\u001b[1;32m      1\u001b[0m \u001b[38;5;28;01mdef\u001b[39;00m \u001b[38;5;21mF_n_2\u001b[39m(n): \u001b[38;5;66;03m# borro las condiciones\u001b[39;00m\n\u001b[0;32m----> 2\u001b[0m     \u001b[38;5;28;01mreturn\u001b[39;00m \u001b[43mF_n_2\u001b[49m\u001b[43m(\u001b[49m\u001b[43mn\u001b[49m\u001b[38;5;241;43m-\u001b[39;49m\u001b[38;5;241;43m1\u001b[39;49m\u001b[43m)\u001b[49m \u001b[38;5;241m+\u001b[39m F_n_2(n\u001b[38;5;241m-\u001b[39m\u001b[38;5;241m2\u001b[39m)\n",
      "    \u001b[0;31m[... skipping similar frames: F_n_2 at line 2 (2975 times)]\u001b[0m\n",
      "Cell \u001b[0;32mIn[21], line 2\u001b[0m, in \u001b[0;36mF_n_2\u001b[0;34m(n)\u001b[0m\n\u001b[1;32m      1\u001b[0m \u001b[38;5;28;01mdef\u001b[39;00m \u001b[38;5;21mF_n_2\u001b[39m(n): \u001b[38;5;66;03m# borro las condiciones\u001b[39;00m\n\u001b[0;32m----> 2\u001b[0m     \u001b[38;5;28;01mreturn\u001b[39;00m \u001b[43mF_n_2\u001b[49m\u001b[43m(\u001b[49m\u001b[43mn\u001b[49m\u001b[38;5;241;43m-\u001b[39;49m\u001b[38;5;241;43m1\u001b[39;49m\u001b[43m)\u001b[49m \u001b[38;5;241m+\u001b[39m F_n_2(n\u001b[38;5;241m-\u001b[39m\u001b[38;5;241m2\u001b[39m)\n",
      "\u001b[0;31mRecursionError\u001b[0m: maximum recursion depth exceeded"
     ]
    }
   ],
   "source": [
    "F_n_2(5) "
   ]
  },
  {
   "cell_type": "markdown",
   "metadata": {},
   "source": [
    "Ahora sí, vamos a generar la serie de Fibonacci"
   ]
  },
  {
   "cell_type": "code",
   "execution_count": 24,
   "metadata": {},
   "outputs": [
    {
     "data": {
      "text/plain": [
       "[0, 1, 1, 2, 3, 5, 8, 13, 21, 34]"
      ]
     },
     "execution_count": 24,
     "metadata": {},
     "output_type": "execute_result"
    }
   ],
   "source": [
    "[F_n(i) for i in range(10)]"
   ]
  },
  {
   "cell_type": "code",
   "execution_count": 25,
   "metadata": {},
   "outputs": [
    {
     "name": "stdout",
     "output_type": "stream",
     "text": [
      "33.2 µs ± 678 ns per loop (mean ± std. dev. of 7 runs, 10,000 loops each)\n"
     ]
    }
   ],
   "source": [
    "%timeit [F_n(i) for i in range(10)] # comando magico de Jupyter -> %timeit nos sirve para ver en este caso cuanto tarda en ejecutar esa funcion la compu"
   ]
  },
  {
   "cell_type": "code",
   "execution_count": 26,
   "metadata": {},
   "outputs": [
    {
     "name": "stdout",
     "output_type": "stream",
     "text": [
      "4.13 ms ± 23.9 µs per loop (mean ± std. dev. of 7 runs, 100 loops each)\n"
     ]
    }
   ],
   "source": [
    "%timeit [F_n(i) for i in range(20)]"
   ]
  },
  {
   "cell_type": "code",
   "execution_count": 27,
   "metadata": {},
   "outputs": [
    {
     "name": "stdout",
     "output_type": "stream",
     "text": [
      "507 ms ± 6.09 ms per loop (mean ± std. dev. of 7 runs, 1 loop each)\n"
     ]
    }
   ],
   "source": [
    "%timeit [F_n(i) for i in range(30)]"
   ]
  },
  {
   "cell_type": "code",
   "execution_count": 28,
   "metadata": {},
   "outputs": [
    {
     "name": "stdout",
     "output_type": "stream",
     "text": [
      "2.18 s ± 23.8 ms per loop (mean ± std. dev. of 7 runs, 1 loop each)\n"
     ]
    }
   ],
   "source": [
    "%timeit [F_n(i) for i in range(33)]"
   ]
  },
  {
   "cell_type": "markdown",
   "metadata": {},
   "source": [
    "¿Qué notan o qué opinan de la solución recursiva? ¿Qué creen que necesitamos hacer para resolver este problema?"
   ]
  },
  {
   "cell_type": "markdown",
   "metadata": {},
   "source": [
    "![Problema con recusividad en Fibonacci](./fibonacci.png)"
   ]
  },
  {
   "cell_type": "markdown",
   "metadata": {},
   "source": [
    "Hay formas de hacer este algoritmo más eficiente:"
   ]
  },
  {
   "cell_type": "code",
   "execution_count": 29,
   "metadata": {},
   "outputs": [],
   "source": [
    "# Opción 2: armamos loop while que va a iterar n veces, donde n es la cantidad de elementos de la secuencia\n",
    "\n",
    "def fibo(n):\n",
    "    \"\"\"\n",
    "    Inicializo a y b. En este caso \"a\" sería F_n-2 (F_0 al inicializarse) \n",
    "    y \"b\" F_n-1 (F_1 al inicializarse)\n",
    "    \"\"\"\n",
    "    \n",
    "    a, b = 0, 1\n",
    "    secuencia = [a, b]\n",
    "    \n",
    "    if n == 0:\n",
    "        return a\n",
    "    elif n == 1:\n",
    "        return b\n",
    "    \n",
    "    n_actual = 2 # número de iteración\n",
    "    while n_actual < n:\n",
    "        n_actual += 1 # sumo 1 a la iteración actual\n",
    "        a, b = b, a + b # Este truquito es importante! \n",
    "        secuencia.append(b) # guardo el nuevo b\n",
    "    return secuencia"
   ]
  },
  {
   "cell_type": "code",
   "execution_count": 30,
   "metadata": {},
   "outputs": [
    {
     "data": {
      "text/plain": [
       "[0, 1, 1, 2, 3, 5, 8, 13, 21, 34]"
      ]
     },
     "execution_count": 30,
     "metadata": {},
     "output_type": "execute_result"
    }
   ],
   "source": [
    "fibo(10)"
   ]
  },
  {
   "cell_type": "code",
   "execution_count": 31,
   "metadata": {},
   "outputs": [
    {
     "name": "stdout",
     "output_type": "stream",
     "text": [
      "964 ns ± 20 ns per loop (mean ± std. dev. of 7 runs, 1,000,000 loops each)\n"
     ]
    }
   ],
   "source": [
    "%timeit fibo(10)"
   ]
  },
  {
   "cell_type": "code",
   "execution_count": 32,
   "metadata": {},
   "outputs": [
    {
     "name": "stdout",
     "output_type": "stream",
     "text": [
      "2.07 µs ± 25.9 ns per loop (mean ± std. dev. of 7 runs, 100,000 loops each)\n"
     ]
    }
   ],
   "source": [
    "%timeit fibo(20)"
   ]
  },
  {
   "cell_type": "code",
   "execution_count": 33,
   "metadata": {},
   "outputs": [
    {
     "name": "stdout",
     "output_type": "stream",
     "text": [
      "3.33 µs ± 127 ns per loop (mean ± std. dev. of 7 runs, 100,000 loops each)\n"
     ]
    }
   ],
   "source": [
    "%timeit fibo(30)"
   ]
  },
  {
   "cell_type": "code",
   "execution_count": 34,
   "metadata": {},
   "outputs": [
    {
     "name": "stdout",
     "output_type": "stream",
     "text": [
      "3.67 µs ± 27 ns per loop (mean ± std. dev. of 7 runs, 100,000 loops each)\n"
     ]
    }
   ],
   "source": [
    "%timeit fibo(33)"
   ]
  },
  {
   "cell_type": "markdown",
   "metadata": {},
   "source": [
    "¿Qué ven al comparar los resultados?"
   ]
  },
  {
   "cell_type": "markdown",
   "metadata": {},
   "source": [
    "### Algoritmo 3. \"Merge sorted array\"\n",
    "\n",
    "Este algoritmo consiste en combinar dos listas ordenadas en una tercera lista, también ordenada. \n",
    "\n",
    "La forma más eficiente de resolver este problema, es ir eliminando los elementos más chicos y guardándolos en una variable de resultado. \n",
    "Mientras recorremos los elementos y los vamos removiendo de la lista se pueden dar 3 situaciones: \n",
    "\n",
    "- Que las dos listas tengan elementos, en cuyo caso hay que elegir el menor.\n",
    "- Que sólo la primera lista tenga elementos, en cuyo caso hay que elegir el menor de la primera lista.\n",
    "- Que sólo la segunda lista tenga elementos, en cuyo caso hay que elegir el menor de la segunda lista.\n",
    "\n",
    "Como las listas vinieron ordenadas, elegir el menor es fácil. Alcanza con consultar la posición con el índice 0.\n",
    "Para leer y a continuación eliminar el primer elemento de cada lista, vamos a usar el método pop con el índice 0.\n"
   ]
  },
  {
   "cell_type": "code",
   "execution_count": 35,
   "metadata": {},
   "outputs": [
    {
     "data": {
      "text/plain": [
       "2"
      ]
     },
     "execution_count": 35,
     "metadata": {},
     "output_type": "execute_result"
    }
   ],
   "source": [
    "# Ejemplo de uso de pop\n",
    "a = [2,9]\n",
    "a.pop(0)"
   ]
  },
  {
   "cell_type": "code",
   "execution_count": 36,
   "metadata": {},
   "outputs": [
    {
     "data": {
      "text/plain": [
       "[9]"
      ]
     },
     "execution_count": 36,
     "metadata": {},
     "output_type": "execute_result"
    }
   ],
   "source": [
    "# El método pop() devolvió el valor de la posición 0 y continuación lo borró de la lista\n",
    "a"
   ]
  },
  {
   "cell_type": "code",
   "execution_count": 37,
   "metadata": {},
   "outputs": [
    {
     "data": {
      "text/plain": [
       "9"
      ]
     },
     "execution_count": 37,
     "metadata": {},
     "output_type": "execute_result"
    }
   ],
   "source": [
    "a.pop(0)"
   ]
  },
  {
   "cell_type": "code",
   "execution_count": 38,
   "metadata": {},
   "outputs": [
    {
     "data": {
      "text/plain": [
       "[]"
      ]
     },
     "execution_count": 38,
     "metadata": {},
     "output_type": "execute_result"
    }
   ],
   "source": [
    "# Después de invocar 2 veces el método pop(), la lista a queda vacía.\n",
    "a"
   ]
  },
  {
   "cell_type": "markdown",
   "metadata": {},
   "source": [
    "Ahora resolvamos el problema de combinar listas ordenadas"
   ]
  },
  {
   "cell_type": "code",
   "execution_count": 39,
   "metadata": {},
   "outputs": [],
   "source": [
    "def merge_sorted(lista_1,lista_2):\n",
    "    resultado = []\n",
    "    while len(lista_1) > 0 or len(lista_2) > 0: # mientras alguna lista tenga valores\n",
    "        # Vamos a recorrer las listas hasta que no queden más elementos en ninguna.\n",
    "        if len(lista_1) > 0: # si la primera lista tiene valores\n",
    "            if len(lista_2) > 0:\n",
    "                # Este es el caso donde quedan elementos en las dos listas. \n",
    "                # Aquí elegimos el menor de los primeros elementos\n",
    "                if lista_1[0] <= lista_2[0]:\n",
    "                    resultado.append(lista_1.pop(0))\n",
    "                else:\n",
    "                    resultado.append(lista_2.pop(0))\n",
    "            else:\n",
    "                # Este es el caso donde lista_1 todavía tiene elementos pero lista_2 no\n",
    "                resultado.append(lista_1.pop(0))\n",
    "        else:\n",
    "            # Si no quedan elementos en la lista_1 pero seguimos dentro del while loop, \n",
    "            # es porque quedan elementos en la lista2\n",
    "            resultado.append(lista_2.pop(0))\n",
    "    return resultado"
   ]
  },
  {
   "cell_type": "code",
   "execution_count": 40,
   "metadata": {},
   "outputs": [],
   "source": [
    "lista1 = [0,3,5,8,9]\n",
    "lista2 = [4,5,6]"
   ]
  },
  {
   "cell_type": "code",
   "execution_count": 41,
   "metadata": {},
   "outputs": [
    {
     "data": {
      "text/plain": [
       "[0, 3, 4, 5, 5, 6, 8, 9]"
      ]
     },
     "execution_count": 41,
     "metadata": {},
     "output_type": "execute_result"
    }
   ],
   "source": [
    "merge_sorted(lista1,lista2)"
   ]
  },
  {
   "cell_type": "markdown",
   "metadata": {},
   "source": [
    "### Algoritmo 4. Ordenando listas\n",
    "En el caso anterior vimos cómo juntar dos listas ordenadas. Ahora, vamos a ver cómo ordenar una lista. Para eso hay muchos algoritmos:\n",
    "\n",
    "- Selection Sort (Fuerza Bruta)\n",
    "- Bubble Sort\n",
    "- Merge Sort\n",
    "- Quicksort\n",
    "- Timsort\n",
    "- Insertion Sort\n",
    "\n",
    "Hay lindas animaciones que nos muestran como funcionan: https://www.youtube.com/watch?v=ZZuD6iUe3Pc\n",
    "\n",
    "Cada una de ellas elige distinos enfoques para ordenar la lista con diferentes técnicas algorítmicas (iterativas o recursivas). Eso logra que cada uno de ellos tenga distintas complejidades algorítmicas y sean mas rápidos unos que otros.\n",
    "\n",
    "Vamos empezar programando la estrategia del `Selection Sort`, la misma consta de una técnica de fuerza bruta que lo que hace es ir recorriendo la lista buscando el mínimo elemento en cada paso e ir guardandolo en una nueva lista ordena. Los pasos serían:\n",
    "\n",
    "1- Empezar a recorrer la lista hasta quedarme con el valor mínimo.\n",
    "\n",
    "2- Guardar ese mínimo en una nueva lista ordenada y sacarlo de la lista original (lista modificada).\n",
    "\n",
    "3- Volver a realizar el primer y segundo paso sobre la lista sin ese valor (la lista modificada)."
   ]
  },
  {
   "cell_type": "code",
   "execution_count": 42,
   "metadata": {},
   "outputs": [],
   "source": [
    "def selection_sort(lista):\n",
    "    \n",
    "    # Inicializamos una lista_ordenada donde iremos poniendo los elementos ordenados\n",
    "    n = len(lista)\n",
    "    lista_ordenada = []\n",
    "\n",
    "    # Vamos a recorrer la lista, puede ser útil saber la longitud\n",
    "    # COMPLETAR\n",
    "    while len(lista_ordenada) < n:\n",
    "        \n",
    "        # Necesitamos un valor para comenzar a comparar\n",
    "        # COMPLETAR\n",
    "        minimo = lista[0]\n",
    "        indice_minimo = 0\n",
    "        \n",
    "        # Empezamos a recorrer la lista\n",
    "        for (i,elemento) in enumerate(lista):\n",
    "            \n",
    "            # Vamos a comparar cada uno con el mínimo, si es menor, tenemos nuevo mínimo!\n",
    "            # COMPLETAR\n",
    "            if elemento < minimo:\n",
    "                minimo = elemento\n",
    "                indice_minimo = i\n",
    "            \n",
    "        # Agregamos el mínimo y lo sacamos de la lista\n",
    "        # COMPLETAR\n",
    "        lista_ordenada.append(minimo)\n",
    "        lista.pop(indice_minimo)\n",
    "    \n",
    "    return lista_ordenada"
   ]
  },
  {
   "cell_type": "code",
   "execution_count": 43,
   "metadata": {},
   "outputs": [],
   "source": [
    "lista_1 = [1,3,5,1,32,9,0,-1]"
   ]
  },
  {
   "cell_type": "code",
   "execution_count": 44,
   "metadata": {},
   "outputs": [
    {
     "data": {
      "text/plain": [
       "[-1, 0, 1, 1, 3, 5, 9, 32]"
      ]
     },
     "execution_count": 44,
     "metadata": {},
     "output_type": "execute_result"
    }
   ],
   "source": [
    "selection_sort(lista_1)"
   ]
  },
  {
   "cell_type": "markdown",
   "metadata": {},
   "source": [
    "¿Porqué usamos un While? ¿Se podría cambiar por un For? ¡Sí! Y también podemos agregarle un parámetro booleano que nos permita elegir si lo queremos en orden ascendiente o descendiente. \n",
    "Observen que paso con la lista original:"
   ]
  },
  {
   "cell_type": "code",
   "execution_count": 45,
   "metadata": {},
   "outputs": [
    {
     "data": {
      "text/plain": [
       "[]"
      ]
     },
     "execution_count": 45,
     "metadata": {},
     "output_type": "execute_result"
    }
   ],
   "source": [
    "lista_1"
   ]
  },
  {
   "cell_type": "markdown",
   "metadata": {},
   "source": [
    "Desapareció! Esto es porque las modificaciones las hicimos sobre la misma lista al usar pop(index). Si no queremos perderla vamos a necesitar crear una copia nueva y para eso podemos hacerlo usando el método `copy()`."
   ]
  },
  {
   "cell_type": "code",
   "execution_count": 47,
   "metadata": {},
   "outputs": [
    {
     "data": {
      "text/plain": [
       "[-1, 0, 1, 1, 3, 5, 9, 32]"
      ]
     },
     "execution_count": 47,
     "metadata": {},
     "output_type": "execute_result"
    }
   ],
   "source": [
    "lista_1 = [1,3,5,1,32,9,0,-1]\n",
    "selection_sort(lista_1.copy())"
   ]
  },
  {
   "cell_type": "code",
   "execution_count": 48,
   "metadata": {},
   "outputs": [
    {
     "data": {
      "text/plain": [
       "[1, 3, 5, 1, 32, 9, 0, -1]"
      ]
     },
     "execution_count": 48,
     "metadata": {},
     "output_type": "execute_result"
    }
   ],
   "source": [
    "lista_1"
   ]
  },
  {
   "cell_type": "markdown",
   "metadata": {},
   "source": [
    "Veamos un ejemplo con otro enfoque, vamos a programar el Bubble Sort... ¡y me van a ayudar ustedes! Tomamos la imagen y nos inspiramos de este blog (donde pueden encontrar otros algoritmos): https://realpython.com/sorting-algorithms-python/#the-insertion-sort-algorithm-in-python\n",
    "La idea del algoritmo es la siguiente... vamos a hacer una recorrida por la lista de izquierda a derecha y comparar un par de valores adyacentes, por ejemplo, el primero contra el segundo, si el primero es mayor al segundo los damos vuelta, y si no no hacemos nada. Luego, tomamos el valor en la segunda posición y el valor en la tercera posición y los comparamos... así sucesivamente hasta el final. Al cabo de la primera \"pasada\" el valor más alto va a estar a la derecha de todo. Luego, empezamos otra vez desde el comienzo. Sin embargo, como ya acomodamos el valor más alto podemos frenar una posición antes. Y así, damos tantas pasadas sobre la lista como sea necesario hasta que no haya ni un cambio de lugar en toda la recorrida.\n",
    "\n",
    "Veamos qué pasa con el 8 en la imagen de abajo... Primero comparamos el 8 con el 2, como el 8 es mayor los cambiamos de lugar. Ahora comparamos el valor en la 2da posición (que es el 8, no el 2, porque los dimos vuelta) y en la 3era posición, como el 8 es mayor al 6 los cambiamos de lugar, y así hasta el final. Como el 8 es el valor más alto termina a la derecha del todo. En la siguiente pasada no va a ser necesario volver a chequear contra este valor.\n",
    "\n",
    "Entonces, pensemos qué vamos a necesitar:\n",
    "\n",
    "1- Por un lado necesitamos saber en qué iteración nos encontramos. Como máximo vamos a hacer tantas pasadas como el largo de la lista. Vamos a hacer un loop desde el comienzo hasta el último elemento.\n",
    "\n",
    "2- Por otra parte, necesitamos saber si en esta \"pasada\" ya modificamos algún lugar o no, para saber cuándo frenar el algoritmo.\n",
    "\n",
    "3- Vamos a iterar desde el primer valor hasta el último que corresponde a esta iteración (recuerden que en cada iteración ya ordenamos el valor más alto). Para ésto vamos a usar el índice que nos da el loop del punto 1.\n",
    "\n",
    "4- Un punto de corte, cuando en una 'pasada' no haya cambio o ya no queden 'pasadas'."
   ]
  },
  {
   "cell_type": "markdown",
   "metadata": {},
   "source": [
    "<img style=\"width:300px\" src=\"https://files.realpython.com/media/python-sorting-algorithms-bubble-sort.216ab9a52018.png\"/>"
   ]
  },
  {
   "cell_type": "code",
   "execution_count": 49,
   "metadata": {},
   "outputs": [],
   "source": [
    "def bubble_sort(lista):\n",
    "    # n igual al largo de la lista\n",
    "    n = len(lista)\n",
    "    \n",
    "    # Vamos a realizar una 'pasada' por cada elemento que tenemos en la lista.\n",
    "    \n",
    "    for i in range(n): \n",
    "        \n",
    "        # Creamos una variable que sirve como 'flag' para indicar si tuvimos que ordenar o no en la pasada actual\n",
    "        # Esto lo podemos usar para terminar el algoritmo antes, ya que si no tuvimos que cambiar nada\n",
    "        # en una pasada, tampoco lo vamos a tener que hacer en la siguiente\n",
    "        \n",
    "        ordenado = True\n",
    "        \n",
    "        # Vamos a comenzar recorriendo la lista de IZQUIERDA a DERECHA pero no hasta el final\n",
    "        # Recordemos que con cada 'pasada' vamos a haber encontrado el valor más alto aún sin ordenar\n",
    "        # Con lo cual, vamos a recorrer la lista desde el comienzo hasta el final menos los valores que ya ordenamos antes\n",
    "        # Tip: recuerden que el índice de una lista tiene como máximo el valor de la longitud - 1 porque arranca en 0\n",
    "        \n",
    "        for j in range(n-i-1): # COMPLETAR: argumento de la función range()\n",
    "\n",
    "            if lista[j] > lista[j+1]: # COMPLETAR: si el valor de la IZQUIERDA es mayor al de la derecha\n",
    "                \n",
    "                # Si es mayor, entonces vamos a intercambiar la posición del valor de la derecha con el de la izquierda\n",
    "                \n",
    "                # COMPLETAR: cambiar el valor de la izquierda por el de la derecha\n",
    "                lista[j], lista[j+1] = lista[j+1], lista[j]\n",
    "\n",
    "                # Como tuvimos que ordenar un par de elementos entonces tenemos que cambiar el flag\n",
    "                # COMPLETAR: cambiar ordenado a False\n",
    "                ordenado = False\n",
    "\n",
    "\n",
    "        # Si no tuvimos que ordenar, salimos del loop\n",
    "        if ordenado:\n",
    "            # COMPLETAR: frenar loop\n",
    "            break\n",
    "\n",
    "    return lista"
   ]
  },
  {
   "cell_type": "markdown",
   "metadata": {},
   "source": [
    "¡Y no se olviden de probarlo!"
   ]
  },
  {
   "cell_type": "code",
   "execution_count": 50,
   "metadata": {},
   "outputs": [],
   "source": [
    "lista_1 = [1,3,5,1,32,9,0,-1]"
   ]
  },
  {
   "cell_type": "code",
   "execution_count": 51,
   "metadata": {},
   "outputs": [
    {
     "data": {
      "text/plain": [
       "[-1, 0, 1, 1, 3, 5, 9, 32]"
      ]
     },
     "execution_count": 51,
     "metadata": {},
     "output_type": "execute_result"
    }
   ],
   "source": [
    "bubble_sort(lista_1)"
   ]
  },
  {
   "cell_type": "markdown",
   "metadata": {},
   "source": [
    "Probemos cual es más rápido! ¿Cuál creen?"
   ]
  },
  {
   "cell_type": "code",
   "execution_count": 52,
   "metadata": {},
   "outputs": [],
   "source": [
    "lista_1 = [1,3,5,1,32,9,0,-1]"
   ]
  },
  {
   "cell_type": "code",
   "execution_count": 53,
   "metadata": {},
   "outputs": [
    {
     "name": "stdout",
     "output_type": "stream",
     "text": [
      "210 ns ± 42.7 ns per loop (mean ± std. dev. of 7 runs, 1,000,000 loops each)\n"
     ]
    }
   ],
   "source": [
    "%timeit selection_sort(lista_1)"
   ]
  },
  {
   "cell_type": "code",
   "execution_count": 54,
   "metadata": {},
   "outputs": [
    {
     "name": "stdout",
     "output_type": "stream",
     "text": [
      "243 ns ± 5.65 ns per loop (mean ± std. dev. of 7 runs, 1,000,000 loops each)\n"
     ]
    }
   ],
   "source": [
    "%timeit bubble_sort(lista_1)"
   ]
  },
  {
   "cell_type": "markdown",
   "metadata": {
    "slideshow": {
     "slide_type": "slide"
    }
   },
   "source": [
    "# Librerías o módulos\n",
    "\n",
    "Los módulos son archivos de Python que contienen funciones y variables. Podemos importar los módulos y acceder a las funciones y variables con el operador \".\" (punto) o agregándolos a nuestro **namespace**. Contamos con las siguientes maneras de importar funciones de un módulo:\n",
    "\n",
    "1. Importar todo el módulo con el mismo nombre que tiene\n",
    "\n",
    "<code>import datetime</code>\n",
    "\n",
    "2. Importar el módulo con un alias más corto (por comodidad)\n",
    "\n",
    "<code>import datetime as dt</code>\n",
    "\n",
    "3. Importar únicamente un sub-módulo\n",
    "\n",
    "<code>from datetime import datetime</code>\n",
    "\n",
    "4. Importar directamente todos los nombres de funciones (en general no recomendado)\n",
    "\n",
    "<code>from datetime import *</code>"
   ]
  },
  {
   "cell_type": "markdown",
   "metadata": {},
   "source": [
    "\n",
    "## 1 Módulos de \"Python nativo\"\n",
    "\n",
    "Cuando instalamos Python, hay algunos módulos que contienen funcionalidad básica y para poder utilizarlos los tenemos que importar explícitamente. \n",
    "\n",
    "Hay módulos para trabajar con fechas (datetime), para interactuar con el sistema operativo donde nuestro programa está corriendo (os), para generar números aleatorios (random), para hacer operaciones matemáticas (math) y muchos otros más.\n",
    "\n"
   ]
  },
  {
   "cell_type": "code",
   "execution_count": 56,
   "metadata": {},
   "outputs": [
    {
     "name": "stdout",
     "output_type": "stream",
     "text": [
      "2024-07-12 17:14:37.068153\n"
     ]
    }
   ],
   "source": [
    "# Ejemplo de uso de datetime\n",
    "import datetime\n",
    "print(datetime.datetime.now()) # modulo.submodulo.funcion()"
   ]
  },
  {
   "cell_type": "code",
   "execution_count": 57,
   "metadata": {},
   "outputs": [
    {
     "name": "stdout",
     "output_type": "stream",
     "text": [
      "2024-07-12 17:14:48.618785\n"
     ]
    }
   ],
   "source": [
    "import datetime as dt\n",
    "print(dt.datetime.now())"
   ]
  },
  {
   "cell_type": "code",
   "execution_count": 58,
   "metadata": {},
   "outputs": [
    {
     "name": "stdout",
     "output_type": "stream",
     "text": [
      "Sumando!\n"
     ]
    },
    {
     "data": {
      "text/plain": [
       "5"
      ]
     },
     "execution_count": 58,
     "metadata": {},
     "output_type": "execute_result"
    }
   ],
   "source": [
    "import misfunciones\n",
    "misfunciones.misuma(3,2)"
   ]
  },
  {
   "cell_type": "code",
   "execution_count": 59,
   "metadata": {},
   "outputs": [
    {
     "name": "stdout",
     "output_type": "stream",
     "text": [
      "2024-07-12 17:15:45.806651\n"
     ]
    }
   ],
   "source": [
    "from datetime import datetime\n",
    "print(datetime.now())"
   ]
  },
  {
   "cell_type": "code",
   "execution_count": 60,
   "metadata": {},
   "outputs": [
    {
     "name": "stdout",
     "output_type": "stream",
     "text": [
      "2024-07-12 17:15:55.420075\n"
     ]
    }
   ],
   "source": [
    "from datetime import *\n",
    "print(datetime.now())"
   ]
  },
  {
   "cell_type": "markdown",
   "metadata": {
    "colab_type": "text",
    "id": "NkAPoHn0dHOY"
   },
   "source": [
    "**`math` Modulo**\n",
    "\n",
    "Nos permite hacer tener acceso a funciones matemáticas, que originalmente, estan programadas en C."
   ]
  },
  {
   "cell_type": "code",
   "execution_count": 62,
   "metadata": {
    "colab": {
     "base_uri": "https://localhost:8080/",
     "height": 54
    },
    "colab_type": "code",
    "id": "cM3NfgipdKSd",
    "outputId": "27b4fe6c-fae2-4619-862f-43dd179f1f4f",
    "scrolled": true
   },
   "outputs": [
    {
     "name": "stdout",
     "output_type": "stream",
     "text": [
      "['__doc__', '__file__', '__loader__', '__name__', '__package__', '__spec__', 'acos', 'acosh', 'asin', 'asinh', 'atan', 'atan2', 'atanh', 'cbrt', 'ceil', 'comb', 'copysign', 'cos', 'cosh', 'degrees', 'dist', 'e', 'erf', 'erfc', 'exp', 'exp2', 'expm1', 'fabs', 'factorial', 'floor', 'fmod', 'frexp', 'fsum', 'gamma', 'gcd', 'hypot', 'inf', 'isclose', 'isfinite', 'isinf', 'isnan', 'isqrt', 'lcm', 'ldexp', 'lgamma', 'log', 'log10', 'log1p', 'log2', 'modf', 'nan', 'nextafter', 'perm', 'pi', 'pow', 'prod', 'radians', 'remainder', 'sin', 'sinh', 'sqrt', 'sumprod', 'tan', 'tanh', 'tau', 'trunc', 'ulp']\n"
     ]
    }
   ],
   "source": [
    "import math\n",
    "\n",
    "print(dir(math)) # dir devuelve todas las funciones y modulos dentro de la libreria"
   ]
  },
  {
   "cell_type": "code",
   "execution_count": 63,
   "metadata": {
    "colab": {
     "base_uri": "https://localhost:8080/",
     "height": 34
    },
    "colab_type": "code",
    "id": "BqoLQzGvdihA",
    "outputId": "1d6232bc-c2b7-4115-b0a1-6f95fdc24fdd"
   },
   "outputs": [
    {
     "name": "stdout",
     "output_type": "stream",
     "text": [
      "3.044522437723423\n"
     ]
    }
   ],
   "source": [
    "log_21 = math.log(21)\n",
    "print(log_21)"
   ]
  },
  {
   "cell_type": "code",
   "execution_count": 64,
   "metadata": {
    "colab": {
     "base_uri": "https://localhost:8080/",
     "height": 34
    },
    "colab_type": "code",
    "id": "LqtD7Q_hgG0n",
    "outputId": "b33b048d-102e-4ca5-f2d2-bc33a537f81f"
   },
   "outputs": [
    {
     "name": "stdout",
     "output_type": "stream",
     "text": [
      "-1.0\n"
     ]
    }
   ],
   "source": [
    "coseno_pi = math.cos(math.pi)\n",
    "print(coseno_pi)"
   ]
  },
  {
   "cell_type": "markdown",
   "metadata": {},
   "source": [
    "## 2. Módulos propios\n",
    "\n",
    "Cuando estemos creando aplicaciones grandes y complejas, será necesario llevar alguna de la funcionalidad que desarrollemos a módulos. \n",
    "\n",
    "Para eso es necesario escribir archivos que tengan nuestro código, y luego importar los módulos localmente.||"
   ]
  },
  {
   "cell_type": "code",
   "execution_count": 65,
   "metadata": {},
   "outputs": [],
   "source": [
    "with open('misfunciones.py', 'w') as out:\n",
    "    out.write(\"\"\"def misuma(a,b):\n",
    "        print('Sumando!')\n",
    "        return a+b\"\"\")"
   ]
  },
  {
   "cell_type": "code",
   "execution_count": 66,
   "metadata": {},
   "outputs": [
    {
     "name": "stdout",
     "output_type": "stream",
     "text": [
      "Sumando!\n"
     ]
    },
    {
     "data": {
      "text/plain": [
       "5"
      ]
     },
     "execution_count": 66,
     "metadata": {},
     "output_type": "execute_result"
    }
   ],
   "source": [
    "from misfunciones import misuma\n",
    "\n",
    "misuma(3,2)"
   ]
  },
  {
   "cell_type": "markdown",
   "metadata": {},
   "source": [
    "## 3. Módulos de terceros\n",
    "\n",
    "Cada lenguaje de programación tiene su propio sistema de gestión de paquetes donde la comunidad contribuye con distintos módulos. En el caso de Python este sistema es <a href = 'https://pypi.org/project/pip/'> PyPI </a>. Los organizadores de este proyecto se encargan de fijar estándares de calidad para las librerías que se distribuyan a través del mismo. \n",
    "\n",
    "Los entornos (como collab) que tienen instalado python, en general, también tienen instalado un software que se llama python-pip. Este nos permite ejecutar el comando pip para descargar librerías desde PyPI.\n",
    "\n",
    "Este comando lo podemos ejecutar desde una terminal, o desde la propia jupyter notebook si utilizamos la sintaxis \"!\" para cada línea o el comando %%bash para cada celda.\n",
    "\n",
    "La sintaxis es: \n",
    "\n",
    "<code> pip install [nombre del paquete]</code>\n",
    "\n",
    "Opcionalmente podemos especificar una versión de ese paquete. Si no lo hacemos, va a descargar la última que encuentre para la versión de python-pip que tenemos instalada.\n",
    "\n",
    "\n",
    "<code> pip install [nombre del paquete][==version]</code>\n",
    "\n",
    "\n",
    "Cuando desarrollamos aplicaciones en Python, es muy importante tener en cuenta el manejo de versiones. Para que nuestro código funcione adecuadamente, el ambiente donde la aplicación corre tiene que tener las mismas versiones de librerías que usamos al momento de desarrollar. \n",
    "\n",
    "Esto generalmente se maneja a través de un archivo, <strong>requirements.txt</strong>,  que contiene todos los paquetes que la aplicación necesita con sus respectivas versiones. "
   ]
  },
  {
   "cell_type": "markdown",
   "metadata": {},
   "source": [
    "#### Ejemplo de uso de pip\n",
    "La librería seaborn por ejemplo, se usa para hacer gráficos."
   ]
  },
  {
   "cell_type": "code",
   "execution_count": 36,
   "metadata": {},
   "outputs": [
    {
     "name": "stdout",
     "output_type": "stream",
     "text": [
      "Requirement already satisfied: seaborn==0.9.0 in /home/ec2-user/anaconda3/envs/python3/lib/python3.6/site-packages (0.9.0)\n",
      "Requirement already satisfied: numpy>=1.9.3 in /home/ec2-user/anaconda3/envs/python3/lib/python3.6/site-packages (from seaborn==0.9.0) (1.14.3)\n",
      "Requirement already satisfied: matplotlib>=1.4.3 in /home/ec2-user/anaconda3/envs/python3/lib/python3.6/site-packages (from seaborn==0.9.0) (3.0.3)\n",
      "Requirement already satisfied: scipy>=0.14.0 in /home/ec2-user/anaconda3/envs/python3/lib/python3.6/site-packages (from seaborn==0.9.0) (1.1.0)\n",
      "Requirement already satisfied: pandas>=0.15.2 in /home/ec2-user/anaconda3/envs/python3/lib/python3.6/site-packages (from seaborn==0.9.0) (0.24.2)\n",
      "Requirement already satisfied: python-dateutil>=2.1 in /home/ec2-user/anaconda3/envs/python3/lib/python3.6/site-packages (from matplotlib>=1.4.3->seaborn==0.9.0) (2.7.3)\n",
      "Requirement already satisfied: kiwisolver>=1.0.1 in /home/ec2-user/anaconda3/envs/python3/lib/python3.6/site-packages (from matplotlib>=1.4.3->seaborn==0.9.0) (1.0.1)\n",
      "Requirement already satisfied: pyparsing!=2.0.4,!=2.1.2,!=2.1.6,>=2.0.1 in /home/ec2-user/anaconda3/envs/python3/lib/python3.6/site-packages (from matplotlib>=1.4.3->seaborn==0.9.0) (2.2.0)\n",
      "Requirement already satisfied: cycler>=0.10 in /home/ec2-user/anaconda3/envs/python3/lib/python3.6/site-packages (from matplotlib>=1.4.3->seaborn==0.9.0) (0.10.0)\n",
      "Requirement already satisfied: pytz>=2011k in /home/ec2-user/anaconda3/envs/python3/lib/python3.6/site-packages (from pandas>=0.15.2->seaborn==0.9.0) (2018.4)\n",
      "Requirement already satisfied: six>=1.5 in /home/ec2-user/anaconda3/envs/python3/lib/python3.6/site-packages (from python-dateutil>=2.1->matplotlib>=1.4.3->seaborn==0.9.0) (1.11.0)\n",
      "Requirement already satisfied: setuptools in /home/ec2-user/anaconda3/envs/python3/lib/python3.6/site-packages (from kiwisolver>=1.0.1->matplotlib>=1.4.3->seaborn==0.9.0) (39.1.0)\n",
      "\u001b[33mYou are using pip version 10.0.1, however version 20.2b1 is available.\n",
      "You should consider upgrading via the 'pip install --upgrade pip' command.\u001b[0m\n"
     ]
    }
   ],
   "source": [
    "!pip install seaborn==0.9.0"
   ]
  },
  {
   "cell_type": "code",
   "execution_count": 67,
   "metadata": {},
   "outputs": [],
   "source": [
    "import seaborn as sns"
   ]
  },
  {
   "cell_type": "code",
   "execution_count": 68,
   "metadata": {},
   "outputs": [
    {
     "data": {
      "text/plain": [
       "'0.13.2'"
      ]
     },
     "execution_count": 68,
     "metadata": {},
     "output_type": "execute_result"
    }
   ],
   "source": [
    "# Con este comando podemos consultar la versión de cualquier módulo.\n",
    "sns.__version__"
   ]
  },
  {
   "cell_type": "code",
   "execution_count": 69,
   "metadata": {},
   "outputs": [
    {
     "data": {
      "image/png": "[encoded data removed]",
      "text/plain": [
       "<Figure size 640x480 with 1 Axes>"
      ]
     },
     "metadata": {},
     "output_type": "display_data"
    }
   ],
   "source": [
    "sns.scatterplot(x=[3,4,5,6],y=[6,8,10,12]);"
   ]
  },
  {
   "cell_type": "code",
   "execution_count": null,
   "metadata": {},
   "outputs": [],
   "source": []
  },
  {
   "cell_type": "code",
   "execution_count": null,
   "metadata": {},
   "outputs": [],
   "source": []
  }
 ],
 "metadata": {
  "kernelspec": {
   "display_name": "Python 3 (ipykernel)",
   "language": "python",
   "name": "python3"
  },
  "language_info": {
   "codemirror_mode": {
    "name": "ipython",
    "version": 3
   },
   "file_extension": ".py",
   "mimetype": "text/x-python",
   "name": "python",
   "nbconvert_exporter": "python",
   "pygments_lexer": "ipython3",
   "version": "3.12.0"
  }
 },
 "nbformat": 4,
 "nbformat_minor": 4
}
