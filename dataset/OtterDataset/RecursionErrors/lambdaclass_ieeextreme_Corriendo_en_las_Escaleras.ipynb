{
  "nbformat": 4,
  "nbformat_minor": 0,
  "metadata": {
    "colab": {
      "name": "Corriendo en las Escaleras.ipynb",
      "provenance": []
    },
    "kernelspec": {
      "name": "python3",
      "display_name": "Python 3"
    }
  },
  "cells": [
    {
      "cell_type": "markdown",
      "metadata": {
        "id": "sIZU10-geLlH",
        "colab_type": "text"
      },
      "source": [
        "# Corriendo en las escaleras\n",
        "\n",
        "- [Link al ejercicio en CS Academy](https://csacademy.com/ieeextreme-practice/task/96c8b1313edd72abf600facb0a14dbab/)\n",
        "- [Este mismo problema en Geeks For Geeks](https://www.geeksforgeeks.org/count-ways-reach-nth-stair/)\n",
        "\n",
        "## Enunciado\n",
        "\n",
        ">Every 12-year-old boy (at least in America) feels the need to run up the stairs skipping some of them. For this problem, we are going to assume that he randomly skips single steps. (with each step of his foot, he may land on the next step or he may skip one step and land on the following step). For example, if there are three steps, he could traverse them three ways:\n",
        ">\n",
        "> The challenge in this problem is: given a number of stairs, calculate the number of ways he could traverse them.\n",
        "\n",
        "### En castellano\n",
        "\n",
        "Estamos al pie de la escalera y queremos contar la cantidad de formas en las que podemos trepar al último escalón.\n",
        "- Podemos ir escalon por escalon.\n",
        "- Podemos saltearnos uno.\n",
        "\n",
        "![nth-stair.png](data:image/png;base64,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)\n",
        "\n",
        "### El Input\n",
        "\n",
        "primer linea: un integer $t$, con $ 1 \\leq t \\leq 5$.\n",
        "Luego, $t$ lineas con un integer $n$ cada una. $n$ en $1 \\leq n \\leq 22000$.\n",
        "\n",
        "### El Output\n",
        "\n",
        "Para cada instancia de input, tenemos que imprimir un integer con la cantidad de formas en las que podemos subir al ultimo escalon."
      ]
    },
    {
      "cell_type": "markdown",
      "metadata": {
        "id": "qCKZhiQrgErU",
        "colab_type": "text"
      },
      "source": [
        "## Analicemos el problema\n",
        "\n",
        "Los ejemplos nos dan una pista de los resultados para valores chicos:\n",
        "\n",
        "| Cantidad de pasos | cantidad de combinaciones |\n",
        "|--|--|\n",
        "| 1 | 1 |\n",
        "| 2 | 2 |\n",
        "| 3 | 3 |\n",
        "| 5 | 8 |\n",
        "\n",
        "De los intervalos de $t$ y $n$ podemos ver:\n",
        "- Vamos a tener que tener cuidado con $n$, porque puede tener un valor grande.\n",
        "- Nos van a dar hasta 5 instancias. ¿En algun lugar del problema vamos a tener que lidiar con repeticion?\n"
      ]
    },
    {
      "cell_type": "markdown",
      "metadata": {
        "id": "EVowY39QjkNg",
        "colab_type": "text"
      },
      "source": [
        "### Probando algunos casos hasta encontrar la formula general\n",
        "- Si tengo que subir al primer escalon, no hay vuelta que darle, una sola manera.\n",
        "- Si tengo que subir al segundo escalon, puedo subirme al primero y despues al segundo, ó al segundo de una.\n",
        "- Si tengo que subirme al tercero, puedo subirme al primer escalon y ver como subo dos mas, ó subirme al segundo y depues subir uno mas.\n",
        "\n",
        "Esa idea recursiva nos re sirve:\n",
        "$$\n",
        "f(3) = f(2) + f(1) \\\\\n",
        "f(4) = f(3) + f(2) \\\\\n",
        "\\vdots \\\\\n",
        "f(n) = f(n - 1) + f(n - 2)\n",
        "$$\n",
        "\n",
        "Nos queda Fibonacci."
      ]
    },
    {
      "cell_type": "code",
      "metadata": {
        "id": "CMRYKBSbkKJ7",
        "colab_type": "code",
        "colab": {}
      },
      "source": [
        "memoria = {}\n",
        "\n",
        "def cantidad_de_combinaciones(n):\n",
        "    global memoria\n",
        "\n",
        "    if n in memoria:\n",
        "        return memoria[n]\n",
        "\n",
        "    if n <= 1:\n",
        "        return 1\n",
        "    else:\n",
        "        ans = cantidad_de_combinaciones(n-1) + cantidad_de_combinaciones(n - 2)\n",
        "        memoria[n] = ans\n",
        "        return ans"
      ],
      "execution_count": 16,
      "outputs": []
    },
    {
      "cell_type": "code",
      "metadata": {
        "id": "_mLGl9Agl2yq",
        "colab_type": "code",
        "colab": {
          "base_uri": "https://localhost:8080/",
          "height": 338
        },
        "outputId": "1a53d9a7-838c-4c17-e6f2-85f3108516ed"
      },
      "source": [
        "cantidad_de_combinaciones(10000)"
      ],
      "execution_count": 20,
      "outputs": [
        {
          "output_type": "error",
          "ename": "RecursionError",
          "evalue": "ignored",
          "traceback": [
            "\u001b[0;31m---------------------------------------------------------------------------\u001b[0m",
            "\u001b[0;31mRecursionError\u001b[0m                            Traceback (most recent call last)",
            "\u001b[0;32m<ipython-input-20-579793c9194b>\u001b[0m in \u001b[0;36m<module>\u001b[0;34m()\u001b[0m\n\u001b[0;32m----> 1\u001b[0;31m \u001b[0mcantidad_de_combinaciones\u001b[0m\u001b[0;34m(\u001b[0m\u001b[0;36m10000\u001b[0m\u001b[0;34m)\u001b[0m\u001b[0;34m\u001b[0m\u001b[0;34m\u001b[0m\u001b[0m\n\u001b[0m",
            "\u001b[0;32m<ipython-input-16-f52ff4badc2e>\u001b[0m in \u001b[0;36mcantidad_de_combinaciones\u001b[0;34m(n)\u001b[0m\n\u001b[1;32m     10\u001b[0m         \u001b[0;32mreturn\u001b[0m \u001b[0;36m1\u001b[0m\u001b[0;34m\u001b[0m\u001b[0;34m\u001b[0m\u001b[0m\n\u001b[1;32m     11\u001b[0m     \u001b[0;32melse\u001b[0m\u001b[0;34m:\u001b[0m\u001b[0;34m\u001b[0m\u001b[0;34m\u001b[0m\u001b[0m\n\u001b[0;32m---> 12\u001b[0;31m         \u001b[0mans\u001b[0m \u001b[0;34m=\u001b[0m \u001b[0mcantidad_de_combinaciones\u001b[0m\u001b[0;34m(\u001b[0m\u001b[0mn\u001b[0m\u001b[0;34m-\u001b[0m\u001b[0;36m1\u001b[0m\u001b[0;34m)\u001b[0m \u001b[0;34m+\u001b[0m \u001b[0mcantidad_de_combinaciones\u001b[0m\u001b[0;34m(\u001b[0m\u001b[0mn\u001b[0m \u001b[0;34m-\u001b[0m \u001b[0;36m2\u001b[0m\u001b[0;34m)\u001b[0m\u001b[0;34m\u001b[0m\u001b[0;34m\u001b[0m\u001b[0m\n\u001b[0m\u001b[1;32m     13\u001b[0m         \u001b[0mmemoria\u001b[0m\u001b[0;34m[\u001b[0m\u001b[0mn\u001b[0m\u001b[0;34m]\u001b[0m \u001b[0;34m=\u001b[0m \u001b[0mans\u001b[0m\u001b[0;34m\u001b[0m\u001b[0;34m\u001b[0m\u001b[0m\n\u001b[1;32m     14\u001b[0m         \u001b[0;32mreturn\u001b[0m \u001b[0mans\u001b[0m\u001b[0;34m\u001b[0m\u001b[0;34m\u001b[0m\u001b[0m\n",
            "... last 1 frames repeated, from the frame below ...\n",
            "\u001b[0;32m<ipython-input-16-f52ff4badc2e>\u001b[0m in \u001b[0;36mcantidad_de_combinaciones\u001b[0;34m(n)\u001b[0m\n\u001b[1;32m     10\u001b[0m         \u001b[0;32mreturn\u001b[0m \u001b[0;36m1\u001b[0m\u001b[0;34m\u001b[0m\u001b[0;34m\u001b[0m\u001b[0m\n\u001b[1;32m     11\u001b[0m     \u001b[0;32melse\u001b[0m\u001b[0;34m:\u001b[0m\u001b[0;34m\u001b[0m\u001b[0;34m\u001b[0m\u001b[0m\n\u001b[0;32m---> 12\u001b[0;31m         \u001b[0mans\u001b[0m \u001b[0;34m=\u001b[0m \u001b[0mcantidad_de_combinaciones\u001b[0m\u001b[0;34m(\u001b[0m\u001b[0mn\u001b[0m\u001b[0;34m-\u001b[0m\u001b[0;36m1\u001b[0m\u001b[0;34m)\u001b[0m \u001b[0;34m+\u001b[0m \u001b[0mcantidad_de_combinaciones\u001b[0m\u001b[0;34m(\u001b[0m\u001b[0mn\u001b[0m \u001b[0;34m-\u001b[0m \u001b[0;36m2\u001b[0m\u001b[0;34m)\u001b[0m\u001b[0;34m\u001b[0m\u001b[0;34m\u001b[0m\u001b[0m\n\u001b[0m\u001b[1;32m     13\u001b[0m         \u001b[0mmemoria\u001b[0m\u001b[0;34m[\u001b[0m\u001b[0mn\u001b[0m\u001b[0;34m]\u001b[0m \u001b[0;34m=\u001b[0m \u001b[0mans\u001b[0m\u001b[0;34m\u001b[0m\u001b[0;34m\u001b[0m\u001b[0m\n\u001b[1;32m     14\u001b[0m         \u001b[0;32mreturn\u001b[0m \u001b[0mans\u001b[0m\u001b[0;34m\u001b[0m\u001b[0;34m\u001b[0m\u001b[0m\n",
            "\u001b[0;31mRecursionError\u001b[0m: maximum recursion depth exceeded in comparison"
          ]
        }
      ]
    },
    {
      "cell_type": "markdown",
      "metadata": {
        "id": "MOKZwwQVl9H3",
        "colab_type": "text"
      },
      "source": [
        "### ¿Cómo que Stack Overflow? Python no es recursivo.\n",
        "\n",
        "Para los que vienen de otro lenguaje, la solucion recursiva de este problema les debe sonar mucho. El problema es que python es un lenguaje que no soporta llamados recursivos.\n",
        "\n",
        "En lugar de calcular nuestra respuesta de arriba a bajo, vamos a calcularla de abajo hacia arriba:"
      ]
    },
    {
      "cell_type": "markdown",
      "metadata": {
        "id": "MfjsdBtyFOKl",
        "colab_type": "text"
      },
      "source": [
        "$$\n",
        "acc_{i - 1} = 1\\\\\n",
        "Acc_i = 2\n",
        "$$"
      ]
    },
    {
      "cell_type": "markdown",
      "metadata": {
        "id": "oOYfcVD_4n2H",
        "colab_type": "text"
      },
      "source": [
        "Invariante:\n",
        "\n",
        "Luego de cada iteración, vale que:\n",
        "\n",
        "$$\n",
        "\\mathtt{acc\\_i} = F(i) \\\\\n",
        "\\mathtt{acc\\_i\\_menos\\_uno} = F(i - 1)\n",
        "$$\n",
        "\n",
        "Entonces, cuando cortamos el ciclo, vale que:\n",
        "$$\n",
        "i = n \\Rightarrow F(i) = F(n)\n",
        "$$\n",
        "\n",
        "Por lo tanto `acc_i` es el resultado que queremos mostrar."
      ]
    },
    {
      "cell_type": "code",
      "metadata": {
        "id": "o45xC9y9l4ct",
        "colab_type": "code",
        "colab": {}
      },
      "source": [
        "def cantidad_de_combinaciones(n):\n",
        "\n",
        "    acc_i_menos_uno = 1\n",
        "    acc_i = 2\n",
        "    i = 2\n",
        "\n",
        "    while i < n:\n",
        "        i = i + 1\n",
        "        acc_i, acc_i_menos_uno = acc_i + acc_i_menos_uno, acc_i\n",
        "    \n",
        "    # Se corta cuando i == n\n",
        "    # acc_i == F(i) == F(n) que es el valor buscado\n",
        "\n",
        "    return acc_i"
      ],
      "execution_count": 21,
      "outputs": []
    },
    {
      "cell_type": "code",
      "metadata": {
        "id": "OGxg1qJ6FnP4",
        "colab_type": "code",
        "colab": {
          "base_uri": "https://localhost:8080/",
          "height": 87
        },
        "outputId": "e2c77e7c-9822-47af-ace2-48c8bd8823d1"
      },
      "source": [
        "%time\n",
        "cantidad_de_combinaciones(10000)"
      ],
      "execution_count": 26,
      "outputs": [
        {
          "output_type": "stream",
          "text": [
            "CPU times: user 3 µs, sys: 0 ns, total: 3 µs\n",
            "Wall time: 5.48 µs\n"
          ],
          "name": "stdout"
        },
        {
          "output_type": "execute_result",
          "data": {
            "text/plain": [
              "6276302800488957086035253108349684055478528702736457439025824448927937256811663264475883711527806250329984690249846819800648580083040107584710332687596562185073640422286799239932615797105974710857095487342820351307477141875012176874307156016229965832589137779724973854362777629878229505500260477136108363709090010421536915488632339240756987974122598603591920306874926755600361865354330444681915154695741851960071089944015319300128574107662757054790648152751366475529121877212785489665101733755898580317984402963873738187000120737824193162011399200547424034440836239726275765901190914513013217132050988064832024783370583789324109052449717186857327239783000020791777804503930439875068662687670678802914269784817022567088069496231111407908953313902398529655056082228598715882365779469902465675715699187225655878240668599547496218159297881601061923195562143932693324644219266564617042934227893371179832389642895285401263875342640468017378925921483580111278055044254198382265567395946431803304304326865077742925818757370691726168228648841319231470626"
            ]
          },
          "metadata": {
            "tags": []
          },
          "execution_count": 26
        }
      ]
    },
    {
      "cell_type": "markdown",
      "metadata": {
        "id": "Nh5UjYSP5fQA",
        "colab_type": "text"
      },
      "source": [
        "### Ahora, ¿Se la banca con $n = 22000$?\n",
        "\n",
        "Nuestro primer intento de resolver este problema, falló al superar la máxima recursión permitida. Ya eliminamos la recursión, ¿Vamos a poder calcular el valor máximo de $n$ para este problema?"
      ]
    },
    {
      "cell_type": "code",
      "metadata": {
        "id": "VFpCjMejm2rw",
        "colab_type": "code",
        "colab": {
          "base_uri": "https://localhost:8080/",
          "height": 54
        },
        "outputId": "55efa02f-6d46-4bed-928d-5d6d2e5cb93a"
      },
      "source": [
        "cantidad_de_combinaciones(22000)"
      ],
      "execution_count": 27,
      "outputs": [
        {
          "output_type": "execute_result",
          "data": {
            "text/plain": [
              "38689056392276156629585369762006831399069933070766491480794745817134470226749423392271067493410863269478151565262263643833134100404694977938122490183979715931700545655182587673602375486411105081808133564126321824205219807438783597547681747942744104143389942175220933912429631759127715253076453081935506659821423221804379567277482751678834670379559700384771076684735019944304401967586711588731228982830313240387674339661068753405494217740405067943446867415877155496755660264989556572181153272097432129473442772700992325509392130338671094285323306635832541857298333436962358904959742052018841413397836783840738450079409440088141304718863351231216437216381451448886320526868373885174928160776939748676538077178400345531721066834699441955651680308568315511759111348126194925198511511678445814371666627785948932684507470771962465836720338095845529816463769118953562146236720226761135032078358744649396997485187508963753782414587717750441236088259871258665619013682119446800713632230776963245972188513251983743163834148877023833318188813423907448974210992716324127424601883341117380656023103976204326434463805461154867721382854221921725277924023122656388629616143754454499891820324558526478904117644553580998714469979183371120274104907695279094544514376761677729710528493949423606912863016725626918094048870933140924993969103489210612174924818773124849741365673421047734748679367357796273929195358758111407171087367642345090735224727200445263895115584991198027336984181179584337477533000188770216506277852670665357072171084662989684206020383040219090479944251481535162631056254456169063106875241889827171955411477075446118576210019552767572130872293188853665088059924775486279016441943955471060809677134372489010441808239052085990378705714724227685252286961461358289257910698765809609954981059288947917565636246911505778472787169314153765957009654438778184935664283552106948888477861750849544239562513665635829166992734066204600436769064146201414861004464433715171321479411397835304829109398782717745216674085121680520951794471088931701260790261767702548852759490045027502724934928750036351864316544330055535456134393615724343922690325471302996691489752280300564058010292092010102061164983980002443576683723352124474706466572780269642224173313655942954845683794249910382440359563292243389092442820327094138144873277196811312426444523018182552703673647818650968582026823281064398637689672441295785515448602478990749153379242095973990479902293474434522118854544061563206093974653170068528951923710135363876393344658078435847921006282530897412513682004273902944681968296406402838053118407295824163192749795897652402526350152520933373199756453392720601973150483338042661929590250386474062179121737125550085028408701325411608074437744791040423691693107726776284320433122071958083843493157219725463346938146990216585724921235663704480788620655941468762691146433554984791944203940042904156689357852437013487877170792729848625090686769830076294775493944541178207370986031671881974406783605366167784086945599514127648598024756269018895307037154303375178349972913718570705804903594011056264237955764110786017560892336629066240999221722758640364852080581641286093260824524861910954908411153432671410367415926888268524753564020986712382828881297057194614012936434717027675886366944811275417255173870594205260404285554350363500631312159403106730056851515744610685765183600376502273713847469874171671893252930000256974000205921467502471804184621925736837025476320585958423023313832537687335067580062586111329576539355025543086075220947194618759531585552468248440874901117858328982591018210872728820503203619190311540034710532292875716187179704139602784769310607632226965041668317586094201072649468143003972691300397007337532852041928815897648307039989226659844668141121094700084696000992509546448255335715498624113058194486042537699522337058177280470604591140626124949711629392116379022996735119255859373176562098735217613710005821903573700175313171503643530369253919897973987905154460123239031335718919431707108592353440170548024035608542816480016217504761516819564010994385017847056960640173268569627666866006376486051658890910116160199704069079394922079038548269963010249757925629024854789070430385207237084556294477173808128633041004677144620181592343123654644903852307244037267157378832617233110600786925654030085266291901255950660415864840059870244359022082245601509156433049460816077226731490071050424670067173645530040108231581422397615811707169951816787244569717928185887969209501926364222319964710761228645914300064912140025473371443614653835856466813469163191969172265640631581440994695220389942440615189501"
            ]
          },
          "metadata": {
            "tags": []
          },
          "execution_count": 27
        }
      ]
    },
    {
      "cell_type": "markdown",
      "metadata": {
        "id": "eiSwLjT253Zb",
        "colab_type": "text"
      },
      "source": [
        "Se puede calcular un número así de grande porque Python tiene /Big Integers/. No son lo mas eficiente para calculos con números pequeños, pero la tranquilidad de saber que no vamos a superar la capacidad máxima, como nos puede pasar con Java o C, nos va a ayudar un monton para escribir nuestras soluciones durante la competencia."
      ]
    }
  ]
}