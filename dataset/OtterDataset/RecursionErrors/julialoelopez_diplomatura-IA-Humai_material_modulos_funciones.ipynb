{
  "cells": [
    {
      "cell_type": "markdown",
      "metadata": {
        "id": "sCoJXF5pXqUo"
      },
      "source": [
        "<a href=\"https://colab.research.google.com/github/institutohumai/cursos-python/blob/master/Introduccion/3_Modulos_Funciones/modulos-funciones.ipynb\"> <img src='https://colab.research.google.com/assets/colab-badge.svg' /> </a>\n",
        "<div align=\"center\"> Recordá abrir en una nueva pestaña </div>"
      ]
    },
    {
      "cell_type": "markdown",
      "metadata": {
        "id": "LuWiTyDZXqUr"
      },
      "source": [
        "## Módulos y Algorítmos\n",
        "\n",
        "- [Librerias](#Librerías-o-módulos)\n",
        "- [Entornos virtuales](#Entornos-virtuales)"
      ]
    },
    {
      "cell_type": "markdown",
      "metadata": {
        "id": "nYga1QtyXqUr"
      },
      "source": [
        "# Funciones y algoritmos"
      ]
    },
    {
      "cell_type": "markdown",
      "metadata": {
        "id": "lfjrFQptXqUs"
      },
      "source": [
        "Un algoritmo es una serie de pasos o instrucciones definidas con el objetivo de llevar a cabo una tarea. En esta clase vamos a profundizar en los temas vistos previamente mientras aprendemos a programar algunos algoritmos clásicos."
      ]
    },
    {
      "cell_type": "markdown",
      "metadata": {
        "id": "L6mdOFL_XqUs"
      },
      "source": [
        "### Algoritmo 1: Palíndromos"
      ]
    },
    {
      "cell_type": "markdown",
      "metadata": {
        "id": "fvRmmQ9qXqUt"
      },
      "source": [
        "Un palíndromo es una palabra o frase que se lee de igual manera en ambos sentidos. Por ejemplo, Ana. Otro ejemplo es un expresidente argentino de la década del 90.\n",
        "\n",
        "Hay distintas formas de resolver este problema, vamos a ver primero dos formas que hacen uso de la versatilidad de Python y luego una manera algo más compleja pero que nos va a permitir pensar el problema desde otra óptica."
      ]
    },
    {
      "cell_type": "markdown",
      "metadata": {
        "id": "PffV2cSMXqUt"
      },
      "source": [
        "Vamos a definir tres funciones llamadas es_palindromo y para testear su funcionamiento vamos a chequear que:\n",
        "\n",
        "1- es_palindromo(\"ana\") == True\n",
        "\n",
        "2- es_palindromo(\"barrilete cósmico\") != True\n",
        "\n",
        "3- es_palindromo(\"yo hago yoga hoy\") == True\n",
        "\n",
        "4- es_palindromo(\"arriba la birra\") == True\n",
        "\n",
        "5- es_palindromo(\"arriba la barra\") != True"
      ]
    },
    {
      "cell_type": "code",
      "execution_count": 10,
      "metadata": {
        "id": "PPIUMMUwXqUu"
      },
      "outputs": [],
      "source": [
        "texto_1 = \"ana\"\n",
        "texto_2 = \"barrilete cosmico\"\n",
        "texto_3 = \"yo hago yoga hoy\"\n",
        "texto_4 = \"arriba la birra\"\n",
        "texto_5 = \"arriba la barra\""
      ]
    },
    {
      "cell_type": "markdown",
      "metadata": {
        "id": "O1nkTYqRXqUv"
      },
      "source": [
        "1- Una manera de resolver el problema es recordar que un string es un iterable y que, por lo tanto, lo podemos recorrer es sentido inverso. De esta manera podemos tener un código compacto."
      ]
    },
    {
      "cell_type": "code",
      "execution_count": 11,
      "metadata": {
        "id": "txbq7svqXqUw",
        "outputId": "b5368d71-1152-46b1-b744-aca24f92d3a3"
      },
      "outputs": [
        {
          "data": {
            "text/plain": [
              "'ana'"
            ]
          },
          "execution_count": 11,
          "metadata": {},
          "output_type": "execute_result"
        }
      ],
      "source": [
        "# Recordemos el slicing:\n",
        "texto_1[::-1]"
      ]
    },
    {
      "cell_type": "code",
      "execution_count": 12,
      "metadata": {
        "id": "TL8bAFHXXqUx",
        "outputId": "31642fed-5c1e-4635-8754-a27c9da21939"
      },
      "outputs": [
        {
          "data": {
            "text/plain": [
              "'yoh agoy ogah oy'"
            ]
          },
          "execution_count": 12,
          "metadata": {},
          "output_type": "execute_result"
        }
      ],
      "source": [
        "# ¿Qué pasa en este ejemplo?\n",
        "texto_3[::-1]"
      ]
    },
    {
      "cell_type": "markdown",
      "metadata": {
        "id": "fOgsMLv_XqUx"
      },
      "source": [
        "En los palíndromos (al menos acá) nos interesa el sonido, con lo cual vamos a omitir los espacios en el análisis."
      ]
    },
    {
      "cell_type": "code",
      "execution_count": 13,
      "metadata": {
        "id": "XJFNcBmtXqUx"
      },
      "outputs": [],
      "source": [
        "# Opción 1: usar slicing\n",
        "def es_palindromo(texto):\n",
        "    texto = texto.replace(\" \", \"\")\n",
        "    # vean cómo podemos hacer slicing por un string, en sentido inverso, recorriendo la lista de atrás para adelante.\n",
        "    return texto == texto[::-1]"
      ]
    },
    {
      "cell_type": "code",
      "execution_count": 14,
      "metadata": {
        "id": "xeKVtUEbXqUy"
      },
      "outputs": [],
      "source": [
        "# assert nos permite controlar que una condición se cumpla, si no da True devuelve un AssertionError con el mensaje de la derecha\n",
        "assert es_palindromo(texto_1) == True, \"falló el test\"\n",
        "assert es_palindromo(texto_2) != True, \"falló el test\"\n",
        "assert es_palindromo(texto_3) == True, \"falló el test\"\n",
        "assert es_palindromo(texto_4) == True, \"falló el test\"\n",
        "assert es_palindromo(texto_5) != True, \"falló el test\""
      ]
    },
    {
      "cell_type": "markdown",
      "metadata": {
        "id": "VvfMDusQXqUy"
      },
      "source": [
        "Python cuenta con una serie de funciones built-in entre las cuales se encuentra **reversed**. Esta función devuelve un iterable con el input (que puede ser cualquier secuencia) con su orden reverso.\n",
        "\n",
        "Ejercicio: escribir una función es_palindromo usando reversed. ¡Pueden googlear! Tip: la función join los puede ayudar."
      ]
    },
    {
      "cell_type": "code",
      "execution_count": 15,
      "metadata": {
        "id": "Ks4yMp0LXqUy"
      },
      "outputs": [],
      "source": [
        "# Mi propuesta\n",
        "def es_palindromo(texto):\n",
        "    lista_letras = []\n",
        "    for i in range(len(texto)):\n",
        "        if texto[i] != \" \":\n",
        "            lista_letras.append(texto[i])   \n",
        "    lista_letras = reversed(lista_letras)\n",
        "    texto = \"\".join(lista_letras)\n",
        "    # aquí sucede la magia\n",
        "    return texto"
      ]
    },
    {
      "cell_type": "code",
      "execution_count": 16,
      "metadata": {},
      "outputs": [],
      "source": [
        "#Propuesta del profesor (Cambio el return a un booleano)\n",
        "def es_palindromo(texto):\n",
        "    texto = texto.replace(\" \", \"\")\n",
        "    return texto == \"\".join(reversed(texto))"
      ]
    },
    {
      "cell_type": "code",
      "execution_count": 17,
      "metadata": {},
      "outputs": [
        {
          "data": {
            "text/plain": [
              "True"
            ]
          },
          "execution_count": 17,
          "metadata": {},
          "output_type": "execute_result"
        }
      ],
      "source": [
        "es_palindromo(texto_1)"
      ]
    },
    {
      "cell_type": "markdown",
      "metadata": {
        "id": "raUb7W5LXqUy"
      },
      "source": [
        "### Algoritmo 2. Secuencia de Fibonacci\n",
        "\n",
        "La secuencia de Fibonacci es la famosa secuencia que se define como:\n",
        "\n",
        "- $F_0 = 0$\n",
        "- $F_1 = 1$\n",
        "- $F_n = F_{n-1} + F_{n-2}$ para $n>1$\n",
        "\n",
        "Esto nos da como resultado:\n",
        "\n",
        "0, 1, 1, 2, 3, 5, 8, 13, 21, 34, ...\n",
        "\n",
        "Ahora bien, ¿cómo podemos programar un algoritmo que compute esta serie hasta el número de Fibonacci en la posición n?\n",
        "Noten, que para obtener el número de Fibonacci n debemos antes computar el n-1 y el n-2, es decir, para tener un valor de la secuencia de Fibonacci debemos computar los previos. Cuando una función requiere llamarse a sí misma para poder realizar un cómputo decimos que la función es recursiva.\n",
        "\n",
        "Entonces, tratemos de encarar el problema \"traduciendo\" la definición de la secuencia a código Python..."
      ]
    },
    {
      "cell_type": "code",
      "execution_count": 3,
      "metadata": {
        "id": "OkkCOI15XqUy"
      },
      "outputs": [],
      "source": [
        "# Opción 1: solución recursiva.\n",
        "def F_n(n):\n",
        "    # sigamos la definición de la secuencia de Fibonacci\n",
        "    if n == 0: # Si n es 0 entonces devuelvo 0\n",
        "        return 0\n",
        "    if n == 1:\n",
        "        return 1 # Si n es 1 entonces devuelvo 1\n",
        "    else:\n",
        "        return F_n(n-1) + F_n(n-2) # En cualquier otro caso devuelvo la suma de los dos números de Fibonacci preivos"
      ]
    },
    {
      "cell_type": "markdown",
      "metadata": {
        "id": "p_7meXftXqUy"
      },
      "source": [
        "La recursividad es esta propiedad por la cual una función se llama a sí misma. Toda función recursiva necesita tener un punto de corte, para ponerle un fin a esta llamada. De lo contrario vamos a tener un error."
      ]
    },
    {
      "cell_type": "markdown",
      "metadata": {
        "id": "ejzfyEOmXqUz"
      },
      "source": [
        "Más adelante vamos a ejecutar varias veces la función F_n, generando la lista de valores de Fibonacci... ¿qué creen que va a pasar?"
      ]
    },
    {
      "cell_type": "markdown",
      "metadata": {
        "id": "vSmzG3mBXqUz"
      },
      "source": [
        "Pero antes, vamos a charlar un poco más sobre recursividad. Como dijimos, se necesita un punto de corte, de lo contrario veamos qué pasa..."
      ]
    },
    {
      "cell_type": "code",
      "execution_count": 19,
      "metadata": {
        "id": "NNbdPMWWXqUz"
      },
      "outputs": [],
      "source": [
        "def F_n_2(n): # borro las condiciones\n",
        "    return F_n_2(n-1) + F_n_2(n-2)"
      ]
    },
    {
      "cell_type": "markdown",
      "metadata": {
        "id": "uIFnwAIaXqUz"
      },
      "source": [
        "Ejecuten la siguiente celda y vean que vamos a obtener el error:\n",
        "\n",
        "**RecursionError**: maximum recursion depth exceeded"
      ]
    },
    {
      "cell_type": "code",
      "execution_count": null,
      "metadata": {
        "id": "3i1aUEwOXqUz",
        "outputId": "ab3167c9-c420-4038-ca8b-e045fdd0ceee"
      },
      "outputs": [],
      "source": [
        "F_n_2(5)"
      ]
    },
    {
      "cell_type": "markdown",
      "metadata": {
        "id": "KGKQcluPXqU0"
      },
      "source": [
        "Ahora sí, vamos a generar la serie de Fibonacci"
      ]
    },
    {
      "cell_type": "code",
      "execution_count": 4,
      "metadata": {
        "id": "hbpdjRrXXqU0",
        "outputId": "87c56398-3162-4008-c608-0e5a0d167b8c"
      },
      "outputs": [
        {
          "data": {
            "text/plain": [
              "[0, 1, 1, 2, 3, 5, 8, 13, 21, 34]"
            ]
          },
          "execution_count": 4,
          "metadata": {},
          "output_type": "execute_result"
        }
      ],
      "source": [
        "[F_n(i) for i in range(10)]"
      ]
    },
    {
      "cell_type": "code",
      "execution_count": 5,
      "metadata": {
        "id": "_UeXxnnYXqU0",
        "outputId": "e78000a3-e519-4279-9d3b-9e920ad59967"
      },
      "outputs": [
        {
          "name": "stdout",
          "output_type": "stream",
          "text": [
            "19 µs ± 86.3 ns per loop (mean ± std. dev. of 7 runs, 100,000 loops each)\n"
          ]
        }
      ],
      "source": [
        "%timeit [F_n(i) for i in range(10)]"
      ]
    },
    {
      "cell_type": "code",
      "execution_count": 6,
      "metadata": {
        "id": "_bP-fSy5XqU0",
        "outputId": "d159b6a6-8c31-4778-e982-ac0b10b28357"
      },
      "outputs": [
        {
          "name": "stdout",
          "output_type": "stream",
          "text": [
            "2.44 ms ± 30.2 µs per loop (mean ± std. dev. of 7 runs, 100 loops each)\n"
          ]
        }
      ],
      "source": [
        "%timeit [F_n(i) for i in range(20)]"
      ]
    },
    {
      "cell_type": "code",
      "execution_count": 7,
      "metadata": {
        "id": "R1l0pwwmXqU1",
        "outputId": "c91b3a83-40b3-40ab-f18b-93361258a3bb"
      },
      "outputs": [
        {
          "name": "stdout",
          "output_type": "stream",
          "text": [
            "296 ms ± 1.43 ms per loop (mean ± std. dev. of 7 runs, 1 loop each)\n"
          ]
        }
      ],
      "source": [
        "%timeit [F_n(i) for i in range(30)]"
      ]
    },
    {
      "cell_type": "code",
      "execution_count": 8,
      "metadata": {
        "id": "Ap8IyLWMXqU1",
        "outputId": "f858e890-5fa7-46ff-fdc4-d52558cbe313"
      },
      "outputs": [
        {
          "name": "stdout",
          "output_type": "stream",
          "text": [
            "1.25 s ± 4.25 ms per loop (mean ± std. dev. of 7 runs, 1 loop each)\n"
          ]
        }
      ],
      "source": [
        "%timeit [F_n(i) for i in range(33)]"
      ]
    },
    {
      "cell_type": "markdown",
      "metadata": {
        "id": "WiOaa4N1XqU1"
      },
      "source": [
        "¿Qué notan o qué opinan de la solución recursiva? ¿Qué creen que necesitamos hacer para resolver este problema?"
      ]
    },
    {
      "cell_type": "code",
      "execution_count": 9,
      "metadata": {
        "id": "EwxxShOdXqU1"
      },
      "outputs": [],
      "source": [
        "# Opción 2: armamos loop while que va a iterar n veces, donde n es la cantidad de elementos de la secuencia\n",
        "\n",
        "def fibo(n):\n",
        "    \"\"\"\n",
        "    Inicializo a y b. En este caso \"a\" sería F_n-2 (F_0 al inicializarse)\n",
        "    y \"b\" F_n-1 (F_1 al inicializarse)\n",
        "    \"\"\"\n",
        "\n",
        "    a, b = 0, 1\n",
        "    secuencia = [a, b]\n",
        "\n",
        "    if n == 0:\n",
        "        return a\n",
        "\n",
        "    elif n == 1:\n",
        "        return b\n",
        "\n",
        "    n_actual = 2 # número de iteración\n",
        "    while n_actual < n:\n",
        "        n_actual += 1 # sumo 1 a la iteración actual\n",
        "        a, b = b, a + b # Este truquito es importante!\n",
        "        secuencia.append(b) # guardo el nuevo b\n",
        "\n",
        "    return secuencia"
      ]
    },
    {
      "cell_type": "code",
      "execution_count": 10,
      "metadata": {
        "id": "hkFODRitXqU2"
      },
      "outputs": [
        {
          "data": {
            "text/plain": [
              "[0, 1]"
            ]
          },
          "execution_count": 10,
          "metadata": {},
          "output_type": "execute_result"
        }
      ],
      "source": [
        "fibo(2)"
      ]
    },
    {
      "cell_type": "code",
      "execution_count": 11,
      "metadata": {
        "id": "lvhQlaZVXqU2",
        "outputId": "618b214a-e140-4af5-8a50-b245e4488913"
      },
      "outputs": [
        {
          "name": "stdout",
          "output_type": "stream",
          "text": [
            "665 ns ± 2.83 ns per loop (mean ± std. dev. of 7 runs, 1,000,000 loops each)\n"
          ]
        }
      ],
      "source": [
        "%timeit fibo(10)"
      ]
    },
    {
      "cell_type": "code",
      "execution_count": 12,
      "metadata": {
        "id": "0uUZwZ7lXqU2",
        "outputId": "a4503407-cfd8-4515-9dfa-af90e9c48e0f"
      },
      "outputs": [
        {
          "name": "stdout",
          "output_type": "stream",
          "text": [
            "1.36 µs ± 30.4 ns per loop (mean ± std. dev. of 7 runs, 1,000,000 loops each)\n"
          ]
        }
      ],
      "source": [
        "%timeit fibo(20)"
      ]
    },
    {
      "cell_type": "code",
      "execution_count": 13,
      "metadata": {
        "id": "mZR_cc78XqU2",
        "outputId": "fff52166-34d1-448c-db7f-e76041a9e831"
      },
      "outputs": [
        {
          "name": "stdout",
          "output_type": "stream",
          "text": [
            "2.15 µs ± 63.3 ns per loop (mean ± std. dev. of 7 runs, 100,000 loops each)\n"
          ]
        }
      ],
      "source": [
        "%timeit fibo(30)"
      ]
    },
    {
      "cell_type": "code",
      "execution_count": 14,
      "metadata": {
        "id": "y6X8dmZvXqU3",
        "outputId": "099baf80-4fdc-4718-f92c-1162e2c49ab8"
      },
      "outputs": [
        {
          "name": "stdout",
          "output_type": "stream",
          "text": [
            "2.39 µs ± 65.6 ns per loop (mean ± std. dev. of 7 runs, 100,000 loops each)\n"
          ]
        }
      ],
      "source": [
        "%timeit fibo(33)"
      ]
    },
    {
      "cell_type": "markdown",
      "metadata": {
        "id": "dR2Rut_bXqU3"
      },
      "source": [
        "¿Qué ven al comparar los resultados?"
      ]
    },
    {
      "cell_type": "markdown",
      "metadata": {
        "id": "GY7migAjXqU3"
      },
      "source": [
        "### Algoritmo 3. \"Merge sorted array\"\n",
        "\n",
        "Este algoritmo consiste en combinar dos listas ordenadas en una tercera lista, también ordenada.\n",
        "\n",
        "La forma más eficiente de resolver este problema, es ir eliminando los elementos más chicos y guardándolos en una variable de resultado.\n",
        "Mientras recorremos los elementos y los vamos removiendo de la lista se pueden dar 3 situaciones:\n",
        "\n",
        "- Que las dos listas tengan elementos, en cuyo caso hay que elegir el menor.\n",
        "- Que sólo la primera lista tenga elementos, en cuyo caso hay que elegir el menor de la primera lista.\n",
        "- Que sólo la segunda lista tenga elementos, en cuyo caso hay que elegir el menor de la segunda lista.\n",
        "\n",
        "Como las listas vinieron ordenadas, elegir el menor es fácil. Alcanza con consultar la posición con el índice 0.\n",
        "Para leer y a continuación eliminar el primer elemento de cada lista, vamos a usar el método pop con el índice 0.\n"
      ]
    },
    {
      "cell_type": "code",
      "execution_count": 15,
      "metadata": {
        "id": "fUQmptOoXqU8",
        "outputId": "f5dd78fc-5797-4a3e-c0e6-096e07c57fb4"
      },
      "outputs": [
        {
          "data": {
            "text/plain": [
              "2"
            ]
          },
          "execution_count": 15,
          "metadata": {},
          "output_type": "execute_result"
        }
      ],
      "source": [
        "# Ejemplo de uso de pop\n",
        "a = [2,9]\n",
        "a.pop(0)"
      ]
    },
    {
      "cell_type": "code",
      "execution_count": 16,
      "metadata": {
        "id": "rTKF82wOXqU8",
        "outputId": "40c8ca85-c2bd-4b7f-bee4-42d0e02c76d8"
      },
      "outputs": [
        {
          "data": {
            "text/plain": [
              "[9]"
            ]
          },
          "execution_count": 16,
          "metadata": {},
          "output_type": "execute_result"
        }
      ],
      "source": [
        "# El método pop() devolvió el valor de la posición 0 y continuación lo borró de la lista\n",
        "a"
      ]
    },
    {
      "cell_type": "code",
      "execution_count": 17,
      "metadata": {
        "id": "6jyc-8EbXqU9",
        "outputId": "e198348d-94bd-4a17-f425-17a3f73f660a"
      },
      "outputs": [
        {
          "data": {
            "text/plain": [
              "9"
            ]
          },
          "execution_count": 17,
          "metadata": {},
          "output_type": "execute_result"
        }
      ],
      "source": [
        "a.pop(0)"
      ]
    },
    {
      "cell_type": "code",
      "execution_count": 18,
      "metadata": {
        "id": "Fl5QG0h8XqU9",
        "outputId": "a5ffb9a3-e5e7-4544-ac35-41b12177a32f"
      },
      "outputs": [
        {
          "data": {
            "text/plain": [
              "[]"
            ]
          },
          "execution_count": 18,
          "metadata": {},
          "output_type": "execute_result"
        }
      ],
      "source": [
        "# Después de invocar 2 veces el método pop(), la lista a queda vacía.\n",
        "a"
      ]
    },
    {
      "cell_type": "markdown",
      "metadata": {
        "id": "caaU9dpMXqU9"
      },
      "source": [
        "Ahora resolvamos el problema de combinar listas ordenadas"
      ]
    },
    {
      "cell_type": "code",
      "execution_count": 19,
      "metadata": {
        "id": "nH57huH-XqU9"
      },
      "outputs": [],
      "source": [
        "def merge_sorted(lista_1,lista_2):\n",
        "    resultado = []\n",
        "    while len(lista_1) > 0 or len(lista_2) > 0: # mientras alguna lista tenga valores\n",
        "        # Vamos a recorrer las listas hasta que no queden más elementos en ninguna.\n",
        "        if len(lista_1) > 0: # si la primera lista tiene valores\n",
        "            if len(lista_2) > 0:\n",
        "                # Este es el caso donde quedan elementos en las dos listas.\n",
        "                # Aquí elegimos el menor de los primeros elementos\n",
        "                if lista_1[0] <= lista_2[0]:\n",
        "                    resultado.append(lista_1.pop(0))\n",
        "                else:\n",
        "                    resultado.append(lista_2.pop(0))\n",
        "            else:\n",
        "                # Este es el caso donde lista_1 todavía tiene elementos pero lista_2 no\n",
        "                resultado.append(lista_1.pop(0))\n",
        "        else:\n",
        "            # Si no quedan elementos en la lista_1 pero seguimos dentro del while loop,\n",
        "            # es porque quedan elementos en la lista2\n",
        "            resultado.append(lista_2.pop(0))\n",
        "    return resultado"
      ]
    },
    {
      "cell_type": "code",
      "execution_count": 20,
      "metadata": {
        "id": "L74uQ6t-XqU-"
      },
      "outputs": [],
      "source": [
        "lista1 = [0,3,5,8,9]\n",
        "lista2 = [4,5,6]"
      ]
    },
    {
      "cell_type": "code",
      "execution_count": 21,
      "metadata": {
        "id": "ZgZXbPnNXqU-",
        "outputId": "7c461831-d140-4c96-852d-c059532b6a2c"
      },
      "outputs": [
        {
          "data": {
            "text/plain": [
              "[0, 3, 4, 5, 5, 6, 8, 9]"
            ]
          },
          "execution_count": 21,
          "metadata": {},
          "output_type": "execute_result"
        }
      ],
      "source": [
        "merge_sorted(lista1,lista2)"
      ]
    },
    {
      "cell_type": "markdown",
      "metadata": {
        "id": "Rd6OqfYfXqU-"
      },
      "source": [
        "### Algoritmo 4. Ordenando listas\n",
        "En el caso anterior vimos cómo juntar dos listas ordenadas. Ahora, vamos a ver cómo ordenar una lista. Para eso hay muchos algoritmos:\n",
        "\n",
        "- Selection Sort (Fuerza Bruta)\n",
        "- Bubble Sort\n",
        "- Merge Sort\n",
        "- Quicksort\n",
        "- Timsort\n",
        "- Insertion Sort\n",
        "\n",
        "Hay lindas animaciones que nos muestran como funcionan: https://www.youtube.com/watch?v=ZZuD6iUe3Pc\n",
        "\n",
        "Cada una de ellas elige distinos enfoques para ordenar la lista con diferentes técnicas algorítmicas (iterativas o recursivas). Eso logra que cada uno de ellos tenga distintas complejidades algorítmicas y sean mas rápidos unos que otros.\n",
        "\n",
        "Vamos empezar programando la estrategia del `Selection Sort`, la misma consta de una técnica de fuerza bruta que lo que hace es ir recorriendo la lista buscando el mínimo elemento en cada paso e ir guardandolo en una nueva lista ordena. Los pasos serían:\n",
        "\n",
        "1- Empezar a recorrer la lista hasta quedarme con el valor mínimo.\n",
        "\n",
        "2- Guardar ese mínimo en una nueva lista ordenada y sacarlo de la lista original (lista modificada).\n",
        "\n",
        "3- Volver a realizar el primer y segundo paso sobre la lista sin ese valor (la lista modificada)."
      ]
    },
    {
      "cell_type": "code",
      "execution_count": 22,
      "metadata": {
        "id": "ODYdhcnJXqU-"
      },
      "outputs": [],
      "source": [
        "def selection_sort(lista):\n",
        "\n",
        "    # Inicializamos una lista_ordenada donde iremos poniendo los elementos ordenados\n",
        "    n = len(lista)\n",
        "    lista_ordenada = []\n",
        "\n",
        "    # Vamos a recorrer la lista, puede ser útil saber la longitud\n",
        "    # COMPLETAR\n",
        "    while len(lista_ordenada) < n:\n",
        "\n",
        "        # Necesitamos un valor para comenzar a comparar\n",
        "        # COMPLETAR\n",
        "        minimo = min(lista)\n",
        "        indice_minimo = lista.index(minimo)\n",
        "\n",
        "        # Empezamos a recorrer la lista\n",
        "        for (i,elemento) in enumerate(lista):\n",
        "\n",
        "            # Vamos a comparar cada uno con el mínimo, si es menor, tenemos nuevo mínimo!\n",
        "            # COMPLETAR\n",
        "            if elemento < minimo:\n",
        "                minimo = elemento\n",
        "                indice_minimo = i\n",
        "\n",
        "        # Agregamos el mínimo y lo sacamos de la lista\n",
        "        # COMPLETAR\n",
        "        lista_ordenada.append(minimo)\n",
        "        lista.pop(indice_minimo)\n",
        "\n",
        "    return lista_ordenada"
      ]
    },
    {
      "cell_type": "code",
      "execution_count": 23,
      "metadata": {
        "id": "mpm72ZX5XqU-"
      },
      "outputs": [],
      "source": [
        "lista_1 = [1,3,5,1,32,9,0,-1]"
      ]
    },
    {
      "cell_type": "code",
      "execution_count": 24,
      "metadata": {
        "id": "MEF9pGCgXqU_"
      },
      "outputs": [
        {
          "data": {
            "text/plain": [
              "[-1, 0, 1, 1, 3, 5, 9, 32]"
            ]
          },
          "execution_count": 24,
          "metadata": {},
          "output_type": "execute_result"
        }
      ],
      "source": [
        "selection_sort(lista_1)"
      ]
    },
    {
      "cell_type": "markdown",
      "metadata": {
        "id": "---QQQviXqU_"
      },
      "source": [
        "¿Porqué usamos un While? ¿Se podría cambiar por un For? ¡Sí! Y también podemos agregarle un parámetro booleano que nos permita elegir si lo queremos en orden ascendiente o descendiente.\n",
        "Observen que paso con la lista original:"
      ]
    },
    {
      "cell_type": "code",
      "execution_count": null,
      "metadata": {
        "id": "uJJi7vRVXqU_"
      },
      "outputs": [],
      "source": [
        "lista_1"
      ]
    },
    {
      "cell_type": "markdown",
      "metadata": {
        "id": "b7fnjFNyXqU_"
      },
      "source": [
        "Desapareció! Esto es porque las modificaciones las hicimos sobre la misma lista. Si no queremos perderla vamos a necesitar crear una copia nueva y para eso podemos hacerlo usando el método `copy()`."
      ]
    },
    {
      "cell_type": "markdown",
      "metadata": {
        "id": "LvcdoXR-XqU_"
      },
      "source": [
        "Veamos un ejemplo con otro enfoque, vamos a programar el Bubble Sort... ¡y me van a ayudar ustedes! Tomamos la imagen y nos inspiramos de este blog (donde pueden encontrar otros algoritmos): https://realpython.com/sorting-algorithms-python/#the-insertion-sort-algorithm-in-python\n",
        "La idea del algoritmo es la siguiente... vamos a hacer una recorrida por la lista de izquierda a derecha y comparar un par de valores adyacentes, por ejemplo, el primero contra el segundo, si el primero es mayor al segundo los damos vuelta, y si no no hacemos nada. Luego, tomamos el valor en la segunda posición y el valor en la tercera posición y los comparamos... así sucesivamente hasta el final. Al cabo de la primera \"pasada\" el valor más alto va a estar a la derecha de todo. Luego, empezamos otra vez desde el comienzo. Sin embargo, como ya acomodamos el valor más alto podemos frenar una posición antes. Y así, damos tantas pasadas sobre la lista como sea necesario hasta que no haya ni un cambio de lugar en toda la recorrida.\n",
        "\n",
        "Veamos qué pasa con el 8 en la imagen de abajo... Primero comparamos el 8 con el 2, como el 8 es mayor los cambiamos de lugar. Ahora comparamos el valor en la 2da posición (que es el 8, no el 2, porque los dimos vuelta) y en la 3era posición, como el 8 es mayor al 6 los cambiamos de lugar, y así hasta el final. Como el 8 es el valor más alto termina a la derecha del todo. En la siguiente pasada no va a ser necesario volver a chequear contra este valor.\n",
        "\n",
        "Entonces, pensemos qué vamos a necesitar:\n",
        "\n",
        "1- Por un lado necesitamos saber en qué iteración nos encontramos. Como máximo vamos a hacer tantas pasadas como el largo de la lista. Vamos a hacer un loop desde el comienzo hasta el último elemento.\n",
        "\n",
        "2- Por otra parte, necesitamos saber si en esta \"pasada\" ya modificamos algún lugar o no, para saber cuándo frenar el algoritmo.\n",
        "\n",
        "3- Vamos a iterar desde el primer valor hasta el último que corresponde a esta iteración (recuerden que en cada iteración ya ordenamos el valor más alto). Para ésto vamos a usar el índice que nos da el loop del punto 1.\n",
        "\n",
        "4- Un punto de corte, cuando en una 'pasada' no haya cambio o ya no queden 'pasadas'."
      ]
    },
    {
      "cell_type": "markdown",
      "metadata": {
        "id": "RlR6sICFXqU_"
      },
      "source": [
        "<img style=\"width:300px\" src=\"https://files.realpython.com/media/python-sorting-algorithms-bubble-sort.216ab9a52018.png\"/>"
      ]
    },
    {
      "cell_type": "code",
      "execution_count": 25,
      "metadata": {
        "id": "YUHbGbhFXqVA"
      },
      "outputs": [],
      "source": [
        "def bubble_sort(lista):\n",
        "    # n igual al largo de la lista\n",
        "    n = len(lista)\n",
        "\n",
        "    # Vamos a realizar una 'pasada' por cada elemento que tenemos en la lista.\n",
        "\n",
        "    for i in range(n):\n",
        "\n",
        "        # Creamos una variable que sirve como 'flag' para indicar si tuvimos que ordenar o no en la pasada actual\n",
        "        # Esto lo podemos usar para terminar el algoritmo antes, ya que si no tuvimos que cambiar nada\n",
        "        # en una pasada, tampoco lo vamos a tener que hacer en la siguiente\n",
        "\n",
        "        ordenado = True\n",
        "\n",
        "        # Vamos a comenzar recorriendo la lista de IZQUIERDA a DERECHA pero no hasta el final\n",
        "        # Recordemos que con cada 'pasada' vamos a haber encontrado el valor más alto aún sin ordenar\n",
        "        # Con lo cual, vamos a recorrer la lista desde el comienzo hasta el final menos los valores que ya ordenamos antes\n",
        "        # Tip: recuerden que el índice de una lista tiene como máximo el valor de la longitud - 1 porque arranca en 0\n",
        "\n",
        "        for j in range(n-i-1): # COMPLETAR: argumento de la función range()\n",
        "\n",
        "            if lista[j] > lista[j+1]: # COMPLETAR: si el valor de la IZQUIERDA es mayor al de la derecha\n",
        "\n",
        "                # Si es mayor, entonces vamos a intercambiar la posición del valor de la derecha con el de la izquierda\n",
        "\n",
        "                # COMPLETAR: cambiar el valor de la izquierda por el de la derecha\n",
        "                lista[j], lista[j+1] = lista[j+1], lista[j]\n",
        "\n",
        "                # Como tuvimos que ordenar un par de elementos entonces tenemos que cambiar el flag\n",
        "                # COMPLETAR: cambiar ordenado a False\n",
        "                ordenado = False\n",
        "\n",
        "\n",
        "        # Si no tuvimos que ordenar, salimos del loop\n",
        "        if ordenado:\n",
        "            # COMPLETAR: frenar loop\n",
        "            break\n",
        "\n",
        "    return lista"
      ]
    },
    {
      "cell_type": "markdown",
      "metadata": {
        "id": "gXB4A4VtXqVA"
      },
      "source": [
        "¡Y no se olviden de probarlo!"
      ]
    },
    {
      "cell_type": "code",
      "execution_count": 26,
      "metadata": {
        "id": "96Wep7fhXqVA"
      },
      "outputs": [],
      "source": [
        "lista_1 = [1,3,5,1,32,9,0,-1]"
      ]
    },
    {
      "cell_type": "code",
      "execution_count": 27,
      "metadata": {
        "id": "u4JOGbH8XqVA",
        "outputId": "13915517-bc96-4969-e78e-d2710545b133"
      },
      "outputs": [
        {
          "data": {
            "text/plain": [
              "[-1, 0, 1, 1, 3, 5, 9, 32]"
            ]
          },
          "execution_count": 27,
          "metadata": {},
          "output_type": "execute_result"
        }
      ],
      "source": [
        "bubble_sort(lista_1)"
      ]
    },
    {
      "cell_type": "markdown",
      "metadata": {
        "id": "-Avy0mi5XqVA"
      },
      "source": [
        "Probemos cual es más rápido! ¿Cuál creen?"
      ]
    },
    {
      "cell_type": "code",
      "execution_count": 28,
      "metadata": {
        "id": "r3nhGq6uXqVB"
      },
      "outputs": [],
      "source": [
        "lista_1 = [1,3,5,1,32,9,0,-1]"
      ]
    },
    {
      "cell_type": "code",
      "execution_count": 29,
      "metadata": {
        "id": "b3jed7t-XqVB"
      },
      "outputs": [
        {
          "name": "stdout",
          "output_type": "stream",
          "text": [
            "91.1 ns ± 0.717 ns per loop (mean ± std. dev. of 7 runs, 10,000,000 loops each)\n"
          ]
        }
      ],
      "source": [
        "%timeit selection_sort(lista_1)"
      ]
    },
    {
      "cell_type": "code",
      "execution_count": 30,
      "metadata": {
        "id": "wByVG-AZXqVB"
      },
      "outputs": [
        {
          "name": "stdout",
          "output_type": "stream",
          "text": [
            "121 ns ± 1.1 ns per loop (mean ± std. dev. of 7 runs, 10,000,000 loops each)\n"
          ]
        }
      ],
      "source": [
        "%timeit bubble_sort(lista_1)"
      ]
    },
    {
      "cell_type": "markdown",
      "metadata": {
        "id": "FMqDYAHEXqVB"
      },
      "source": [
        "# Librerías o módulos\n",
        "\n",
        "Los módulos son archivos de Python que contienen funciones y variables. Podemos importar los módulos y acceder a las funciones y variables con el operador \".\" (punto) o agregándolos a nuestro **namespace**. Contamos con las siguientes maneras de importar funciones de un módulo:\n",
        "\n",
        "1. Importar todo el módulo con el mismo nombre que tiene\n",
        "\n",
        "<code>import datetime</code>\n",
        "\n",
        "2. Importar el módulo con un alias más corto (por comodidad)\n",
        "\n",
        "<code>import datetime as dt</code>\n",
        "\n",
        "3. Importar únicamente un sub-módulo\n",
        "\n",
        "<code>from datetime import datetime</code>\n",
        "\n",
        "4. Importar directamente todos los nombres de funciones (en general no recomendado)\n",
        "\n",
        "<code>from datetime import *</code>"
      ]
    },
    {
      "cell_type": "markdown",
      "metadata": {
        "id": "z-NLrcBdXqVB"
      },
      "source": [
        "\n",
        "## 1 Módulos de \"Python nativo\"\n",
        "\n",
        "Cuando instalamos Python, hay algunos módulos que contienen funcionalidad básica y para poder utilizarlos los tenemos que importar explícitamente.\n",
        "\n",
        "Hay módulos para trabajar con fechas (datetime), para interactuar con el sistema operativo donde nuestro programa está corriendo (os), para generar números aleatorios (random), para hacer operaciones matemáticas (math) y muchos otros más.\n",
        "\n"
      ]
    },
    {
      "cell_type": "code",
      "execution_count": 31,
      "metadata": {
        "id": "hya71e5pXqVC",
        "outputId": "5fb46242-cbd0-4755-cbca-9d696b2989b4"
      },
      "outputs": [
        {
          "name": "stdout",
          "output_type": "stream",
          "text": [
            "2024-02-17 10:23:22.106360\n"
          ]
        }
      ],
      "source": [
        "# Ejemplo de uso de datetime\n",
        "import datetime\n",
        "print(datetime.datetime.now())"
      ]
    },
    {
      "cell_type": "code",
      "execution_count": 32,
      "metadata": {
        "id": "00KmGhXpXqVC",
        "outputId": "f3f37b65-23a6-42fc-bb90-b7c9229cbf13"
      },
      "outputs": [
        {
          "name": "stdout",
          "output_type": "stream",
          "text": [
            "2024-02-17 10:28:57.249796\n"
          ]
        }
      ],
      "source": [
        "import datetime as dt\n",
        "print(dt.datetime.now())"
      ]
    },
    {
      "cell_type": "code",
      "execution_count": 41,
      "metadata": {
        "id": "8eUPry__XqVC",
        "outputId": "593be7c4-88a1-4a41-afb7-27f016ef82af"
      },
      "outputs": [
        {
          "name": "stdout",
          "output_type": "stream",
          "text": [
            "Sumando!\n"
          ]
        },
        {
          "data": {
            "text/plain": [
              "5"
            ]
          },
          "execution_count": 41,
          "metadata": {},
          "output_type": "execute_result"
        }
      ],
      "source": [
        "import misfunciones\n",
        "misfunciones.misuma(3,2)"
      ]
    },
    {
      "cell_type": "code",
      "execution_count": 34,
      "metadata": {
        "id": "SfHqltRfXqVD",
        "outputId": "43ac6df2-8a87-4a5d-faf0-321f2d0a13c5"
      },
      "outputs": [
        {
          "name": "stdout",
          "output_type": "stream",
          "text": [
            "2024-02-17 10:31:41.550059\n"
          ]
        }
      ],
      "source": [
        "from datetime import datetime\n",
        "print(datetime.now())"
      ]
    },
    {
      "cell_type": "code",
      "execution_count": 35,
      "metadata": {
        "id": "pQ5lfHpvXqVD",
        "outputId": "d6fb337b-f932-4d9f-86e6-12d01ad434f3"
      },
      "outputs": [
        {
          "name": "stdout",
          "output_type": "stream",
          "text": [
            "2024-02-17 10:31:44.879310\n"
          ]
        }
      ],
      "source": [
        "from datetime import *\n",
        "print(datetime.now())"
      ]
    },
    {
      "cell_type": "markdown",
      "metadata": {
        "id": "NkAPoHn0dHOY"
      },
      "source": [
        "**`math` Modulo**\n",
        "\n",
        "Nos permite hacer tener acceso a funciones matemáticas, que originalmente, estan programadas en C."
      ]
    },
    {
      "cell_type": "code",
      "execution_count": 36,
      "metadata": {
        "colab": {
          "base_uri": "https://localhost:8080/",
          "height": 54
        },
        "id": "cM3NfgipdKSd",
        "outputId": "27b4fe6c-fae2-4619-862f-43dd179f1f4f",
        "scrolled": true
      },
      "outputs": [
        {
          "name": "stdout",
          "output_type": "stream",
          "text": [
            "['__doc__', '__loader__', '__name__', '__package__', '__spec__', 'acos', 'acosh', 'asin', 'asinh', 'atan', 'atan2', 'atanh', 'ceil', 'comb', 'copysign', 'cos', 'cosh', 'degrees', 'dist', 'e', 'erf', 'erfc', 'exp', 'expm1', 'fabs', 'factorial', 'floor', 'fmod', 'frexp', 'fsum', 'gamma', 'gcd', 'hypot', 'inf', 'isclose', 'isfinite', 'isinf', 'isnan', 'isqrt', 'lcm', 'ldexp', 'lgamma', 'log', 'log10', 'log1p', 'log2', 'modf', 'nan', 'nextafter', 'perm', 'pi', 'pow', 'prod', 'radians', 'remainder', 'sin', 'sinh', 'sqrt', 'tan', 'tanh', 'tau', 'trunc', 'ulp']\n"
          ]
        }
      ],
      "source": [
        "import math\n",
        "\n",
        "print(dir(math))"
      ]
    },
    {
      "cell_type": "code",
      "execution_count": 37,
      "metadata": {
        "colab": {
          "base_uri": "https://localhost:8080/",
          "height": 34
        },
        "id": "BqoLQzGvdihA",
        "outputId": "1d6232bc-c2b7-4115-b0a1-6f95fdc24fdd"
      },
      "outputs": [
        {
          "name": "stdout",
          "output_type": "stream",
          "text": [
            "3.044522437723423\n"
          ]
        }
      ],
      "source": [
        "log_21 = math.log(21)\n",
        "print(log_21)"
      ]
    },
    {
      "cell_type": "code",
      "execution_count": 38,
      "metadata": {
        "colab": {
          "base_uri": "https://localhost:8080/",
          "height": 34
        },
        "id": "LqtD7Q_hgG0n",
        "outputId": "b33b048d-102e-4ca5-f2d2-bc33a537f81f"
      },
      "outputs": [
        {
          "name": "stdout",
          "output_type": "stream",
          "text": [
            "-1.0\n"
          ]
        }
      ],
      "source": [
        "coseno_pi = math.cos(math.pi)\n",
        "print(coseno_pi)"
      ]
    },
    {
      "cell_type": "markdown",
      "metadata": {
        "id": "XHbpTeZFXqVG"
      },
      "source": [
        "## 2. Módulos propios\n",
        "\n",
        "Cuando estemos creando aplicaciones grandes y complejas, será necesario llevar alguna de la funcionalidad que desarrollemos a módulos.\n",
        "\n",
        "Para eso es necesario escribir archivos que tengan nuestro código, y luego importar los módulos localmente.||"
      ]
    },
    {
      "cell_type": "code",
      "execution_count": 39,
      "metadata": {
        "id": "ohXrsItbXqVH"
      },
      "outputs": [],
      "source": [
        "with open('misfunciones.py', 'w') as out:\n",
        "    out.write(\"\"\"def misuma(a,b):\n",
        "        print('Sumando!')\n",
        "        return a+b\"\"\")"
      ]
    },
    {
      "cell_type": "code",
      "execution_count": 40,
      "metadata": {
        "id": "ihcZRv0ZXqVH",
        "outputId": "b08f1b3e-4245-44b2-e82f-e491053ebdc9"
      },
      "outputs": [
        {
          "name": "stdout",
          "output_type": "stream",
          "text": [
            "Sumando!\n"
          ]
        },
        {
          "data": {
            "text/plain": [
              "5"
            ]
          },
          "execution_count": 40,
          "metadata": {},
          "output_type": "execute_result"
        }
      ],
      "source": [
        "from misfunciones import misuma\n",
        "\n",
        "misuma(3,2)"
      ]
    },
    {
      "cell_type": "markdown",
      "metadata": {
        "id": "vWyM9isrXqVI"
      },
      "source": [
        "## 3. Módulos de terceros\n",
        "\n",
        "Cada lenguaje de programación tiene su propio sistema de gestión de paquetes donde la comunidad contribuye con distintos módulos. En el caso de Python este sistema es <a href = 'https://pypi.org/project/pip/'> PyPI </a>. Los organizadores de este proyecto se encargan de fijar estándares de calidad para las librerías que se distribuyan a través del mismo.\n",
        "\n",
        "Los entornos (como collab) que tienen instalado python, en general, también tienen instalado un software que se llama python-pip. Este nos permite ejecutar el comando pip para descargar librerías desde PyPI.\n",
        "\n",
        "Este comando lo podemos ejecutar desde una terminal, o desde la propia jupyter notebook si utilizamos la sintaxis \"!\" para cada línea o el comando %%bash para cada celda.\n",
        "\n",
        "La sintaxis es:\n",
        "\n",
        "<code> pip install [nombre del paquete]</code>\n",
        "\n",
        "Opcionalmente podemos especificar una versión de ese paquete. Si no lo hacemos, va a descargar la última que encuentre para la versión de python-pip que tenemos instalada.\n",
        "\n",
        "\n",
        "<code> pip install [nombre del paquete][==version]</code>\n",
        "\n",
        "\n",
        "Cuando desarrollamos aplicaciones en Python, es muy importante tener en cuenta el manejo de versiones. Para que nuestro código funcione adecuadamente, el ambiente donde la aplicación corre tiene que tener las mismas versiones de librerías que usamos al momento de desarrollar.\n",
        "\n",
        "Esto generalmente se maneja a través de un archivo, <strong>requirements.txt</strong>,  que contiene todos los paquetes que la aplicación necesita con sus respectivas versiones."
      ]
    },
    {
      "cell_type": "markdown",
      "metadata": {
        "id": "_OuOtDgfXqVI"
      },
      "source": [
        "#### Ejemplo de uso de pip\n",
        "La librería seaborn por ejemplo, se usa para hacer gráficos."
      ]
    },
    {
      "cell_type": "code",
      "execution_count": 42,
      "metadata": {
        "id": "nYdaMRzyXqVJ",
        "outputId": "0ee91e06-88fb-4532-baa2-753e3b3bedbc"
      },
      "outputs": [
        {
          "name": "stdout",
          "output_type": "stream",
          "text": [
            "Collecting seaborn==0.9.0\n",
            "  Downloading seaborn-0.9.0-py3-none-any.whl (208 kB)\n",
            "Collecting pandas>=0.15.2\n",
            "  Downloading pandas-2.2.0-cp310-cp310-win_amd64.whl (11.6 MB)\n",
            "Collecting scipy>=0.14.0\n",
            "  Downloading scipy-1.12.0-cp310-cp310-win_amd64.whl (46.2 MB)\n",
            "Collecting matplotlib>=1.4.3\n",
            "  Downloading matplotlib-3.8.3-cp310-cp310-win_amd64.whl (7.6 MB)\n",
            "Collecting numpy>=1.9.3\n",
            "  Downloading numpy-1.26.4-cp310-cp310-win_amd64.whl (15.8 MB)\n",
            "Collecting pyparsing>=2.3.1\n",
            "  Downloading pyparsing-3.1.1-py3-none-any.whl (103 kB)\n",
            "Requirement already satisfied: python-dateutil>=2.7 in c:\\users\\juli\\appdata\\roaming\\python\\python310\\site-packages (from matplotlib>=1.4.3->seaborn==0.9.0) (2.8.2)\n",
            "Collecting cycler>=0.10\n",
            "  Downloading cycler-0.12.1-py3-none-any.whl (8.3 kB)\n",
            "Requirement already satisfied: packaging>=20.0 in c:\\users\\juli\\appdata\\roaming\\python\\python310\\site-packages (from matplotlib>=1.4.3->seaborn==0.9.0) (23.2)\n",
            "Collecting pillow>=8\n",
            "  Downloading pillow-10.2.0-cp310-cp310-win_amd64.whl (2.6 MB)\n",
            "Collecting contourpy>=1.0.1\n",
            "  Downloading contourpy-1.2.0-cp310-cp310-win_amd64.whl (186 kB)\n",
            "Collecting kiwisolver>=1.3.1\n",
            "  Downloading kiwisolver-1.4.5-cp310-cp310-win_amd64.whl (56 kB)\n",
            "Collecting fonttools>=4.22.0\n",
            "  Downloading fonttools-4.49.0-cp310-cp310-win_amd64.whl (2.2 MB)\n",
            "Collecting tzdata>=2022.7\n",
            "  Downloading tzdata-2024.1-py2.py3-none-any.whl (345 kB)\n",
            "Collecting pytz>=2020.1\n",
            "  Downloading pytz-2024.1-py2.py3-none-any.whl (505 kB)\n",
            "Requirement already satisfied: six>=1.5 in c:\\users\\juli\\appdata\\roaming\\python\\python310\\site-packages (from python-dateutil>=2.7->matplotlib>=1.4.3->seaborn==0.9.0) (1.16.0)\n",
            "Installing collected packages: numpy, tzdata, pytz, pyparsing, pillow, kiwisolver, fonttools, cycler, contourpy, scipy, pandas, matplotlib, seaborn\n",
            "Successfully installed contourpy-1.2.0 cycler-0.12.1 fonttools-4.49.0 kiwisolver-1.4.5 matplotlib-3.8.3 numpy-1.26.4 pandas-2.2.0 pillow-10.2.0 pyparsing-3.1.1 pytz-2024.1 scipy-1.12.0 seaborn-0.9.0 tzdata-2024.1\n"
          ]
        },
        {
          "name": "stderr",
          "output_type": "stream",
          "text": [
            "WARNING: You are using pip version 21.2.4; however, version 24.0 is available.\n",
            "You should consider upgrading via the 'C:\\Users\\Juli\\AppData\\Local\\Programs\\Python\\Python310\\python.exe -m pip install --upgrade pip' command.\n"
          ]
        }
      ],
      "source": [
        "!pip install seaborn==0.9.0"
      ]
    },
    {
      "cell_type": "code",
      "execution_count": 43,
      "metadata": {
        "id": "IKwAhkzrXqVK"
      },
      "outputs": [],
      "source": [
        "import seaborn as sns"
      ]
    },
    {
      "cell_type": "code",
      "execution_count": 44,
      "metadata": {
        "id": "5T-GSjMZXqVK",
        "outputId": "9a67fe51-7aeb-464e-d9b7-0636a05f3f7c"
      },
      "outputs": [
        {
          "data": {
            "text/plain": [
              "'0.9.0'"
            ]
          },
          "execution_count": 44,
          "metadata": {},
          "output_type": "execute_result"
        }
      ],
      "source": [
        "# Con este comando podemos consultar la versión de cualquier módulo.\n",
        "sns.__version__"
      ]
    },
    {
      "cell_type": "code",
      "execution_count": 45,
      "metadata": {
        "id": "Lm-e7FfZXqVL",
        "outputId": "e428b78a-6320-4bc7-ebe1-1c94182ef98c"
      },
      "outputs": [
        {
          "data": {
            "image/png": "[encoded data removed]",
            "text/plain": [
              "<Figure size 640x480 with 1 Axes>"
            ]
          },
          "metadata": {},
          "output_type": "display_data"
        }
      ],
      "source": [
        "sns.scatterplot(x=[3,4,5,6],y=[6,8,10,12]);"
      ]
    }
  ],
  "metadata": {
    "colab": {
      "provenance": []
    },
    "kernelspec": {
      "display_name": "Python 3",
      "language": "python",
      "name": "python3"
    },
    "language_info": {
      "codemirror_mode": {
        "name": "ipython",
        "version": 3
      },
      "file_extension": ".py",
      "mimetype": "text/x-python",
      "name": "python",
      "nbconvert_exporter": "python",
      "pygments_lexer": "ipython3",
      "version": "3.10.2"
    }
  },
  "nbformat": 4,
  "nbformat_minor": 0
}
