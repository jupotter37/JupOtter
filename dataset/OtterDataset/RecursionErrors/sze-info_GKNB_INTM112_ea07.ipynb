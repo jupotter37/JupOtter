{
 "cells": [
  {
   "cell_type": "markdown",
   "id": "09cb20e6-a7ec-499c-a1c9-9c13258977cd",
   "metadata": {},
   "source": [
    "# 7. előadás\n",
    "\n",
    "## Tartalom\n",
    "* Függvények létrehozása és használata\n",
    "* Függvény paraméterek\n",
    "* Függvény visszatérési érték\n",
    "* Függvények egymásba ágyazása\n",
    "* Több értékkel történő visszatérés\n",
    "* Alapértelemzett paraméterérték\n",
    "* Függvény rekurzió"
   ]
  },
  {
   "cell_type": "markdown",
   "id": "c5026017-ce63-46c2-af28-071ee5b6bb29",
   "metadata": {},
   "source": [
    "## Függvények létrehozása\n",
    "\n",
    "Függvényekkel már találkoztunk, a Python nyelv számtalan beépített függvényt tartalmaz. Ilyen volt például a ```print```, a ```type```, a ```float``` vagy a ```zip```, de a listát még sorolhatnánk. Megtanultuk, hogy a függvények valamilyen meghatározott célfeladatot látnak el. Van nevük, ami rendszerint utal a betöltött funkciójukra. Lehetnek bemeneti paramétereik, amiket a számításuk, feladatuk során felhasználnak. Valamint rendszerint van valamilyen eredménye a végrehajtott feladatnak, ami sokszor visszatérési érték formájában jelenik meg, más esetben a kimenetre írja a függvény az eredményét. A ```print``` esetén nincs használatban a visszatérési érték, ő a kimenetre írja a kért információkat a kért formázás szerint. De például a ```float``` függvénynek már van visszatérési értéke. Ő a megadott számot vagy szöveget valós számmá alakítja és a visszatérési értéke lesz ez a valós szám, amit aztán szabadon felhasználhatunk: egy változónak adhatjuk értékül, kiírjuk a ```print``` függvénnyel, egy matematikai kifejezés részévé tesszük, és így tovább.\n",
    "\n",
    "Python nyelven lehetőségünk van arra is, hogy saját magunk hozzunk létre függvényeket. Ezt általában azért tesszük, mert a program egy jól elkülönülő, meghatározott feladatot végrehajtó részét szeretnénk kiemelni és önálló egységként kezelni. Mely egységet többször is fel szeretnénk használni a program futása során. Ilyen helyzetekben célszerű függvényeket létrehozni. Nézzük meg, hogy hogyan tehetjük ezt meg.\n",
    "\n",
    "A függvény általános szerkezete a következő:\n",
    "\n",
    "```python\n",
    "def FÜGGVÉNY_NEVE(ELSŐ_PARAMÉTER, MÁSODIK_PARAMÉTER, ...):\n",
    "    UTASÍTÁS_1\n",
    "    UTASÍTÁS_2\n",
    "    .\n",
    "    .\n",
    "    .\n",
    "```\n",
    "\n",
    "A ```def``` kulcsszóval kezdődik. Ezzel jelezzük, hogy új függvényt fogunk meghatározni. Ez utána függvény neve következik. Ez egy tetszőleges, de egyedi név. Fontos, hogy utaljon a függvény által betöltött szerepre. Gondoljunk akár a ```print``` vagy a ```type``` függvényre. Mindkettő esetén világosan utal a név a funkcióra. A név után zárójelpárban van lehetőségünk bemeneti paramétereket megadni. Ez opcionális, azaz csinálhatunk olyan függvényt is, aminek nincs bemenete. Amennyi változónevet felsorolunk itt, annyi bemenete lesz a függvénynek. A függvény fejlécét kettőspont zárja. Sortörés után a függvényhez tartozó utasítások következnek, most is egy-egy behúzással jelezve, hogy a függvényhez tartoznak.\n",
    "\n",
    "Függvényt bárhol elhelyezhetünk a forráskódban, de célszerű annak az elejére, a szükséges importálások elvégzése után helyezni őket.\n",
    "\n",
    "Nézzünk egy nagyon egyszerű példát! Készítsünk egy függvényt, aminek legyen az a neve, hogy ```sayhello```, ne várjon bemenetet és legyen az az egyetlen feladata, hogy a \"hello\" üzenetet írja a képernyőre."
   ]
  },
  {
   "cell_type": "code",
   "execution_count": 1,
   "id": "2200e143-f5e9-49f0-a39a-74482ce6c534",
   "metadata": {},
   "outputs": [],
   "source": [
    "def sayhello():\n",
    "    print(\"hello\")"
   ]
  },
  {
   "cell_type": "markdown",
   "id": "11afeae5-b540-4830-99f3-69e8fb8a0baa",
   "metadata": {},
   "source": [
    "Innentől kezdve létezik a ```sayhello``` nevű függvény, amit fel tudunk használni. Ugyanolyan módon, mint ahogy az eddig megismert beépített függvényekkel is tettük. Ahol szükségünk volt rá, ott a nevével és a paraméterek megadásával tudtuk végrehajtani a függvényt. A ```sayhello``` függvénynek nincs paramétere. Ezt onnan látjuk, hogy a fejlécben a függvény neve után üres a zárójelpár. Ez azt jelenti, hoy a ```sayhello``` függvény nem vár bemenetet. Ugyanúgy, mint ahogy például az ```input``` függvény is működik paraméter nélkül. De persze tudjuk, hogy az ```input```-ot paraméterezni is lehet, ami már egy kicsit más tészta. Erre még később vissza fogunk térni.\n",
    "\n",
    "Hívjuk meg a ```sayhello``` függvényünket:"
   ]
  },
  {
   "cell_type": "code",
   "execution_count": 2,
   "id": "07eb1e5e-97cc-4d74-b229-127a2ca39935",
   "metadata": {},
   "outputs": [
    {
     "name": "stdout",
     "output_type": "stream",
     "text": [
      "hello\n"
     ]
    }
   ],
   "source": [
    "sayhello()"
   ]
  },
  {
   "cell_type": "markdown",
   "id": "f9b53f23-5540-407c-9eaf-443a61158e42",
   "metadata": {},
   "source": [
    "A függvényhívás hatására végrehajtásra került a függvény tartalma. Ezt akárhányszor megtehetjük, ahogy azt a többi függvény esetén is láttuk.\n",
    "\n",
    "Akár csinálhatunk ilyet is:"
   ]
  },
  {
   "cell_type": "code",
   "execution_count": 3,
   "id": "717fdc16-a00a-4d20-8052-aba973a6c977",
   "metadata": {},
   "outputs": [
    {
     "name": "stdout",
     "output_type": "stream",
     "text": [
      "hello\n",
      "hello\n",
      "hello\n",
      "hello\n",
      "hello\n",
      "hello\n",
      "hello\n",
      "hello\n",
      "hello\n",
      "hello\n"
     ]
    }
   ],
   "source": [
    "for i in range(10):\n",
    "    sayhello()"
   ]
  },
  {
   "cell_type": "markdown",
   "id": "86d5fcc5-50f3-4242-85bb-cfd0732d7007",
   "metadata": {},
   "source": [
    "A ```for``` ciklus 10 alkalommal lefutott és minden iterációban annyi történt, hogy meghívtuk a ```sayhello``` függvényt, ami ennek megfelelően a \"hello\" üzenetet írta a képernyőre.\n",
    "\n",
    "Most csináljunk olyan függvényt, aminek paramétere is van! Készítsünk egy függvényt, ami képes két számot összeadni és ennek eredményét kiírja a képernyőre. Ehhez nyilván szükséges, hogy a függvénynek legyen bemenete, rögtön kettő is. Hiszen meg kell neki mondanunk, hogy mi legyen az a két szám, aminek az összegét szeretnénk képezni."
   ]
  },
  {
   "cell_type": "code",
   "execution_count": 4,
   "id": "68e7035d-1e51-415d-a7c9-af86a40623fb",
   "metadata": {},
   "outputs": [
    {
     "name": "stdout",
     "output_type": "stream",
     "text": [
      "13\n",
      "114\n"
     ]
    }
   ],
   "source": [
    "def add(num1, num2):\n",
    "    result = num1 + num2\n",
    "    print(result)\n",
    "\n",
    "add(10, 3)\n",
    "add(123, -9)"
   ]
  },
  {
   "cell_type": "markdown",
   "id": "5f99af54-9e15-4e5b-9b36-5b2df1e2f147",
   "metadata": {},
   "source": [
    "Az ```add``` függvénynek most két bemenete van, amit kötelező megadni. Ezek a ```num1``` és ```num2``` változókban kerülnek eltárolásra. Ez azt jelenti, hogy amikor a függvényt felhasználjuk (meghívjuk), akkor a zárójelpár most nem marad üresen, hanem azon belül meg kell adni, hogy az egyes bemeneteknek (```num1``` és ```num2```) mi legyen az értéke. Azzal, hogy azt mondtuk: ```add(10, 3)```, azt jeleztük, hogy ```num1 = 10``` és ```num2 = 3```. Tehát a zárójelen belüli felsorolásban az első érték (```10```) fog az első paraméterbe (```num1```) kerülni és a második érték (```3```) fog a második paraméterbe (```num2```) kerülni. Természetesen ha több bemenetet váró függvényünk lenne, akkor ez a logikai ugyanígy folytatódna.\n",
    "\n",
    "Ebből kifolyólag ilyet nem csinálhatunk:"
   ]
  },
  {
   "cell_type": "code",
   "execution_count": 5,
   "id": "54bb504e-2f34-49a0-9406-75083d9d80d2",
   "metadata": {},
   "outputs": [
    {
     "ename": "TypeError",
     "evalue": "add() missing 1 required positional argument: 'num2'",
     "output_type": "error",
     "traceback": [
      "\u001b[0;31m---------------------------------------------------------------------------\u001b[0m",
      "\u001b[0;31mTypeError\u001b[0m                                 Traceback (most recent call last)",
      "Cell \u001b[0;32mIn[5], line 1\u001b[0m\n\u001b[0;32m----> 1\u001b[0m \u001b[43madd\u001b[49m\u001b[43m(\u001b[49m\u001b[38;5;241;43m42\u001b[39;49m\u001b[43m)\u001b[49m\n",
      "\u001b[0;31mTypeError\u001b[0m: add() missing 1 required positional argument: 'num2'"
     ]
    }
   ],
   "source": [
    "add(42)"
   ]
  },
  {
   "cell_type": "markdown",
   "id": "b2901d6e-aac1-4344-aacf-d9f0b4577b56",
   "metadata": {},
   "source": [
    "A hibaüzenetből rögtön látszik mi a gond. Nem adtuk meg, hogy mi legyen a ```num2``` értéke.\n",
    "\n",
    "És persze ez sem fog működni:"
   ]
  },
  {
   "cell_type": "code",
   "execution_count": 6,
   "id": "b9b71a26-6870-4477-9aa4-019d2a357d4e",
   "metadata": {},
   "outputs": [
    {
     "ename": "TypeError",
     "evalue": "add() missing 2 required positional arguments: 'num1' and 'num2'",
     "output_type": "error",
     "traceback": [
      "\u001b[0;31m---------------------------------------------------------------------------\u001b[0m",
      "\u001b[0;31mTypeError\u001b[0m                                 Traceback (most recent call last)",
      "Cell \u001b[0;32mIn[6], line 1\u001b[0m\n\u001b[0;32m----> 1\u001b[0m \u001b[43madd\u001b[49m\u001b[43m(\u001b[49m\u001b[43m)\u001b[49m\n",
      "\u001b[0;31mTypeError\u001b[0m: add() missing 2 required positional arguments: 'num1' and 'num2'"
     ]
    }
   ],
   "source": [
    "add()"
   ]
  },
  {
   "cell_type": "markdown",
   "id": "dfb5779c-9afe-4055-a53d-4817b5706edf",
   "metadata": {},
   "source": [
    "A hibaüzenet most is világos, egyik bemenetnek sem adtunk értéket, így az ```add``` függvény nem tudja milyen értékekkel végezze el a műveletét.\n",
    "\n",
    "Akár így is felhasználhatjuk:"
   ]
  },
  {
   "cell_type": "code",
   "execution_count": 14,
   "id": "e44e9317-2011-4b38-b1e0-c3076949a497",
   "metadata": {},
   "outputs": [
    {
     "name": "stdout",
     "output_type": "stream",
     "text": [
      "1\n",
      "3\n",
      "5\n",
      "7\n",
      "9\n",
      "11\n",
      "13\n",
      "15\n",
      "17\n",
      "19\n"
     ]
    }
   ],
   "source": [
    "for i in range(10):\n",
    "    add(i, i+1)"
   ]
  },
  {
   "cell_type": "markdown",
   "id": "aac39ae4-5c80-401a-acea-45c928f27f5d",
   "metadata": {},
   "source": [
    "A fenti példa esetén minden iteráció során azt mondjuk, hogy ```num1 = i``` és ```num2 = i + 1```. Tehát a függvény ezekkel az értékekkel fog dolgozni.\n",
    "\n",
    "Fontos, hogy itt a ```num1``` és a ```num2``` változók a függvény belső változói, azokat a függvényen kívülről nem érjük el. De ennek nem is lenne értelme, hiszen ennek a két változónak az által lesz mindig értéke, hogy a függvényt meghívjuk és a meghívás alkalmával a zárójelen belül valamilyen értéket adunk a két változónak. Az adott hívás során lesznek ezek az értékei a ```num1``` és ```num2``` változóknak.\n",
    "\n",
    "Tehát ilyet például nem csinálunk:"
   ]
  },
  {
   "cell_type": "code",
   "execution_count": 15,
   "id": "4c42cd8b-ad81-42bb-b45a-b6ef5ad7e407",
   "metadata": {},
   "outputs": [
    {
     "ename": "NameError",
     "evalue": "name 'num1' is not defined",
     "output_type": "error",
     "traceback": [
      "\u001b[0;31m---------------------------------------------------------------------------\u001b[0m",
      "\u001b[0;31mNameError\u001b[0m                                 Traceback (most recent call last)",
      "Cell \u001b[0;32mIn[15], line 1\u001b[0m\n\u001b[0;32m----> 1\u001b[0m \u001b[38;5;28mprint\u001b[39m(\u001b[43mnum1\u001b[49m)\n",
      "\u001b[0;31mNameError\u001b[0m: name 'num1' is not defined"
     ]
    }
   ],
   "source": [
    "print(num1)"
   ]
  },
  {
   "cell_type": "markdown",
   "id": "c60d557d-8280-4db4-b688-d6324ac50e18",
   "metadata": {},
   "source": [
    "Nem létezik a ```num1``` változó, az csak az ```add``` függvényen belül elérhető és látjuk, hogy az ```add``` függvényen belül az első sorban rögtön fel is használtuk, mert azt mondtuk, hogy: ```result = num1 + num2```. De a függvényen kívül nem érjük el és vegyük észre, hogy ennek értelme sincsen."
   ]
  },
  {
   "cell_type": "markdown",
   "id": "45918932-00e1-462f-b0a5-9942fcdb5a78",
   "metadata": {},
   "source": [
    "Ugyanez a helyzet a ```result``` változóval is. Látjuk az ```add``` függvényen belül, annak első sorában létrehoztunk egy ```result``` nevű változót, amiben a ```num1``` és ```num2``` változók összegének értékét tároljuk el. A ```result``` változót az ```add``` függvényen belül hoztuk létre, így ez csak a függvényen belül használható. Ezért nem tehetjük meg, hogy a függvényen kívül kiírjuk az értékét, hiszen ez nem is értelmezhető:"
   ]
  },
  {
   "cell_type": "code",
   "execution_count": 29,
   "id": "ade158a5-5b76-4566-8b44-178993bb9dae",
   "metadata": {},
   "outputs": [
    {
     "ename": "NameError",
     "evalue": "name 'result' is not defined",
     "output_type": "error",
     "traceback": [
      "\u001b[0;31m---------------------------------------------------------------------------\u001b[0m",
      "\u001b[0;31mNameError\u001b[0m                                 Traceback (most recent call last)",
      "Cell \u001b[0;32mIn[29], line 1\u001b[0m\n\u001b[0;32m----> 1\u001b[0m \u001b[38;5;28mprint\u001b[39m(\u001b[43mresult\u001b[49m)\n",
      "\u001b[0;31mNameError\u001b[0m: name 'result' is not defined"
     ]
    }
   ],
   "source": [
    "print(result)"
   ]
  },
  {
   "cell_type": "markdown",
   "id": "eb2dbd29-c92c-41aa-99be-6059c8bafb16",
   "metadata": {},
   "source": [
    "Összegezve egy függvény bemeneteit és a függvényen belül létrehozott változókat csak az adott függvényen belül tudjuk használni, mivel ezek értékei mindig a függvény egy konkrét meghívása esetén válnak értelmezhetővé.\n",
    "\n",
    "Viszont az alábbi kód működni fog:"
   ]
  },
  {
   "cell_type": "code",
   "execution_count": 48,
   "id": "00ef73b7-f600-469d-b88b-3a35633d9459",
   "metadata": {},
   "outputs": [
    {
     "name": "stdout",
     "output_type": "stream",
     "text": [
      "2\n",
      "1\n"
     ]
    }
   ],
   "source": [
    "def f(x):\n",
    "    print(x)\n",
    "    print(y)\n",
    "\n",
    "y = 1\n",
    "f(2)"
   ]
  },
  {
   "cell_type": "markdown",
   "id": "c835aed1-5b39-4b1d-b2bd-6618ba5e211c",
   "metadata": {},
   "source": [
    "Mi történik itt? Létrehoztunk egy ```f``` függvényt, aminek ```x``` az egyetlen bemenete. A függvény annyit csinál, hogy kiírja az ```x``` változó értékét, majd kiírja egy ```y``` változó értékét is. Azonban látjuk, hogy ```y``` se bemenetként nem érkezik, se az ```f``` függvényen belül nem hoztuk létre. Viszont a függvényen kívül, rögtön a függvény kifejtése után létrehoztunk egy ```y``` változót, aminek ```1``` az értéke. Végül az ```f``` függvényt meghívtuk, ahol azt mondtuk, hogy ```x = 2```. Mivel a függvényen kívül létezik az ```y``` változó, ezért a függvényen belül ennek értékét fel tudjuk használni. Ez nagyon ritka eset, és általában próbáljuk kerülni. De majd később látni fogunk olyan példákat, ahol ez a tulajdonság hasznos.\n",
    "\n",
    "Ezek alapján felmerülhet a gondolat, hogy mi van, ha az alábbit csináljuk?"
   ]
  },
  {
   "cell_type": "code",
   "execution_count": 49,
   "id": "ccd54620-afb3-4940-8b16-0bd558d729c5",
   "metadata": {},
   "outputs": [
    {
     "name": "stdout",
     "output_type": "stream",
     "text": [
      "Az x értéke a g függvényen belül: 2\n",
      "Az y értéke a g függvényen belül: 3\n",
      "Az y értéke a g függvényen kívül: 1\n"
     ]
    }
   ],
   "source": [
    "def g(x, y):\n",
    "    print(\"Az x értéke a g függvényen belül:\", x)\n",
    "    print(\"Az y értéke a g függvényen belül:\", y)\n",
    "\n",
    "y = 1\n",
    "g(2, 3)\n",
    "print(\"Az y értéke a g függvényen kívül:\", y)"
   ]
  },
  {
   "cell_type": "markdown",
   "id": "170458ed-363f-4314-b014-e83d4ec6424a",
   "metadata": {},
   "source": [
    "Most azt látjuk, hogy a ```g``` függvény két bemenetet vár. Az elsőt ```x```-nek neveztük, a másodikat ```y```-nak. A függvényen kívül szintén létezik egy ```y``` nevű változó, aminek az ```1```-es értéket adtuk most is. A ```g``` függvényt a ```2``` és a ```3``` paraméterekkel hívtuk meg. Tehát a függvényen belül ```x = 2``` és ```y = 3```. Ebben az esetben, amikor a függvényen belül használjuk az ```y``` változót, akkor most a függvényen belüli ```y```-ra gondolunk. Ez látszik a kiíratásból is. A függvényen kívüli kiírás alkalmával természetesen már a függvényen kívüli ```y``` változó értékét fogjuk elérni.\n",
    "\n",
    "Összegezve  a függvényen kívüli változókat elérjük a függvényen belül is, de ha a függvényen belül létezik ugyanolyan nevű változó, akkor az alatt a változónév alatt a belső értéket fogjuk elérni. De mindettől függetlenül általában kerüljük, hogy a függvényen kívüli változókat használjuk a függvényen belül.\n",
    "\n",
    "Amivel még nem foglalkoztunk, hogy a függvénynek lehet visszatérési értéke is. Ezt arra használjuk, hogy a számítási eredményt, műveleti eredményt további felhasználás céljából szolgáltassa a függvény. A korábban készített ```add``` függvényt most valósítsuk meg úgy, hogy az összeadás eredményét (```result```), ne a kimenetre írjuk, hanem legyen ez a visszatérési érték. Ezt a következő módon oldhatjuk meg:"
   ]
  },
  {
   "cell_type": "code",
   "execution_count": 50,
   "id": "422d0110-25f8-499f-aac9-071c8a1242c8",
   "metadata": {},
   "outputs": [],
   "source": [
    "def add(num1, num2):\n",
    "    result = num1 + num2\n",
    "    return result"
   ]
  },
  {
   "cell_type": "markdown",
   "id": "af84da92-f499-4500-8aba-d54b04d17d1f",
   "metadata": {},
   "source": [
    "A függvény első sora ugyanaz, mint korábban volt. A ```num1``` és ```num2``` változók összegét képezzük és ennek eredményét eltároljuk a belső ```result``` változóban. A különbség ez  után következik. A korábbi megoldásban itt következett a ```print``` függvény hívása, aminek segítségével az összesadás eredményét megjelenítettük. E helyett látjuk a ```return result``` utasítást. A ```return``` utasítással tudjuk jelezni, hogy a függvény térjen vissza a megadott eredménnyel. Azaz, amikor a ```return```-t meghívjuk, akkor a függvény futása le fog állni. A visszatérési érték pedig a ```return``` után írt érték lesz. Ez lehetne konstans, matematikai, aritmetikai kifejezés, vagy változó tartalma is. Gyakorlatilag bármi, aminek értéke van. Most a visszatérési értékünk a ```result``` változó tartalma lesz.\n",
    "\n",
    "Ez azt jelenti, hogy ahol meghívjuk az ```add``` függvényt, ott a hívás helyére behelyettesítésre kerül a visszatérési érték. Így a felhasználóra van bízva, hogy mit kezd ezzel.\n",
    "\n",
    "Ha úgy dönt, akkor ki is írhatja:"
   ]
  },
  {
   "cell_type": "code",
   "execution_count": 51,
   "id": "b6571511-473b-4d16-a752-972a5c670a3b",
   "metadata": {},
   "outputs": [
    {
     "name": "stdout",
     "output_type": "stream",
     "text": [
      "13\n"
     ]
    }
   ],
   "source": [
    "print(add(10, 3))"
   ]
  },
  {
   "cell_type": "markdown",
   "id": "82547f2d-f8d9-4cc8-a12d-5d0da02b32df",
   "metadata": {},
   "source": [
    "Vagy elmentheti egy változóba:"
   ]
  },
  {
   "cell_type": "code",
   "execution_count": 52,
   "id": "b47886de-0e86-4276-a308-bddd579ad19d",
   "metadata": {},
   "outputs": [],
   "source": [
    "r = add(10, 3)"
   ]
  },
  {
   "cell_type": "markdown",
   "id": "a6b2cffa-083e-47c6-806c-0d2007ba5596",
   "metadata": {},
   "source": [
    "Amit akár szintén meg tud jeleníteni:"
   ]
  },
  {
   "cell_type": "code",
   "execution_count": 53,
   "id": "874dfa9c-ad9f-490d-a218-a6b067ebef77",
   "metadata": {},
   "outputs": [
    {
     "name": "stdout",
     "output_type": "stream",
     "text": [
      "13\n"
     ]
    }
   ],
   "source": [
    "print(r)"
   ]
  },
  {
   "cell_type": "markdown",
   "id": "04861b9f-969a-4d17-8e1d-a56de41df6f5",
   "metadata": {},
   "source": [
    "Vagy akár egy összertetteb kifejezés része lehet:"
   ]
  },
  {
   "cell_type": "code",
   "execution_count": 54,
   "id": "cb06b7a3-778a-4a4f-8f37-13099e0ae05e",
   "metadata": {},
   "outputs": [
    {
     "name": "stdout",
     "output_type": "stream",
     "text": [
      "0.8125\n"
     ]
    }
   ],
   "source": [
    "r = 2 * add(10, 3) / 32\n",
    "print(r)"
   ]
  },
  {
   "cell_type": "markdown",
   "id": "9ebe62e4-8f87-42c8-b6fc-bc2aff54b183",
   "metadata": {},
   "source": [
    "Akár egy logikai kifejezésben is fel lehet közvetlen használni:"
   ]
  },
  {
   "cell_type": "code",
   "execution_count": 55,
   "id": "cc0d3b36-ae32-4784-837f-2108b257a2d7",
   "metadata": {},
   "outputs": [
    {
     "name": "stdout",
     "output_type": "stream",
     "text": [
      "Az eredmény 10-nél nagyobb\n"
     ]
    }
   ],
   "source": [
    "if add(10, 3) > 10:\n",
    "    print(\"Az eredmény 10-nél nagyobb\")\n",
    "else:\n",
    "    print(\"Az eredmény nem nagyobb 10-nél\")"
   ]
  },
  {
   "cell_type": "markdown",
   "id": "04807200-1d71-41ea-a215-1245640fd003",
   "metadata": {},
   "source": [
    "## Visszatérési érték\n",
    "\n",
    "Lássuk azt, hogy ilyen jellegű számítások esetén sokkal célravezetőbb, ha visszatérési értékként adjuk meg a számítás eredményét, mivel ezzel megadjuk a függvény felhasználójának a lehetőséget arra, hogy a számítási eredménnyel saját kedve, elérendő célja szerint azt kezdjen amit szeretne. Persze lássuk azt is, hogy nem minden függvény esetén van értelme a visszatérési értéknek. Vegyük például a ```print``` függvényt. Ennek a célja, hogy a képernyőn jelenítse meg a kívánt tartalmat, de ehhez nem társul valamilyen eredmény, amit neki szolgáltatnia kell. Tehát vannak olyan függvények, amiknek nincs visszatérési értéke. Ez egy opcionális tulajdonság.\n",
    "\n",
    "A ```return``` utasítás után természetesen állhatnak még további utasítások. Azonban ha egy ```return```-höz érünk a függvényben, akkor ott a függvény futása mindenképpen leáll. Nézzünk egy egyszerű példát:"
   ]
  },
  {
   "cell_type": "code",
   "execution_count": 56,
   "id": "68893c1c-7088-4c1c-b714-d509e671b233",
   "metadata": {},
   "outputs": [
    {
     "name": "stdout",
     "output_type": "stream",
     "text": [
      "Én vagyok az  f nevű függvény\n",
      "0\n"
     ]
    }
   ],
   "source": [
    "def f():\n",
    "    print(\"Én vagyok az  f nevű függvény\")\n",
    "    return 0\n",
    "    print(\"Ezt már nem fogjuk látni. :(\")\n",
    "\n",
    "x = f()\n",
    "\n",
    "print(x)"
   ]
  },
  {
   "cell_type": "markdown",
   "id": "be86ec6e-a3a9-4921-b66b-748822dec6fe",
   "metadata": {},
   "source": [
    "Az ```f``` függvénynek túl sok gyakorlati haszna nincs, inkább csak a szemléltetést szolgálja. Bemenete nincs, üres a paraméterlista. A képernyőre ír egy tájékoztató szöveget, majd visszatér ```0``` értékkel. A visszatérés után van még egy ```print``` függvényhívás, de ez sosem fog végrehajtásra kerülni, hiszen a ```return``` hívásnál végett ér a függvény futása. Ezt látjuk a kimeneten is. Az első print megjelenítése megtörtént, de a második nem. Azt is látjuk, hogy az ```f``` függvény visszatérési értéke eltárolásra került az ```x``` változóba. Ennek megfelelően, amikor az ```x``` értékét kiírjuk a ```print``` függvénnyel,akkor látjuk a kimeneten a ```0``` értéket.\n",
    "\n",
    "Felmerülhet a kérdés, hogy akkor mi értelme van bármilyen utasításokat írni a ```return``` utasítás után? Lehet ennek értelmet adni. Nézzük meg az alábbi kódot:"
   ]
  },
  {
   "cell_type": "code",
   "execution_count": 57,
   "id": "c82e244d-4c55-45c5-97a6-9373dbd6bcd5",
   "metadata": {},
   "outputs": [
    {
     "name": "stdout",
     "output_type": "stream",
     "text": [
      "True\n",
      "False\n"
     ]
    }
   ],
   "source": [
    "def isEven(num):\n",
    "    if num % 2 == 0:\n",
    "        return True\n",
    "    else:\n",
    "        return False\n",
    "\n",
    "print(isEven(12))\n",
    "print(isEven(9))"
   ]
  },
  {
   "cell_type": "markdown",
   "id": "e58c2f61-d8f2-4bf2-b4c2-55ac76757df8",
   "metadata": {},
   "source": [
    "Nagyon gyakran több visszatéréshez is eljuthatunk egy függvény futása során. Mint a fenti kódban is látjuk. Tehát a ```return``` utasításból több is lehet, de ügyelni kell rá, hogy ha egyhez eljutunk, akkor a függvény futásának vége. Az ```isEven``` függvény eldönti a paraméterül kapott ```num``` értékről, hogy páros-e. Ha igen, akkor igaz (```True```) értékkel tér vissza. Ha páratlan a szám, akkor pedig hamis (```False```) lesz a visszatérési érték."
   ]
  },
  {
   "cell_type": "markdown",
   "id": "2197cc22-d3c1-44f5-a64a-226bcca17cc9",
   "metadata": {},
   "source": [
    "Vegyük észre, hogy a fenti kódban az ```else``` ág \"felesleges\". Akár így is írhatnánk:"
   ]
  },
  {
   "cell_type": "code",
   "execution_count": 58,
   "id": "e9380a64-7a87-4f5e-8756-c42b4f4ec5d3",
   "metadata": {},
   "outputs": [
    {
     "name": "stdout",
     "output_type": "stream",
     "text": [
      "True\n",
      "False\n"
     ]
    }
   ],
   "source": [
    "def isEven(num):\n",
    "    if num % 2 == 0:\n",
    "        return True\n",
    "    return False\n",
    "\n",
    "print(isEven(12))\n",
    "print(isEven(9))"
   ]
  },
  {
   "cell_type": "markdown",
   "id": "587147c2-ad74-4c23-bd6d-98480a0d8748",
   "metadata": {},
   "source": [
    "Most a ```return False``` utasítás nem egy ```else``` ágban szerepel. A ```return False``` mindenképpen végrehajtásra kerül az elágazás után. Ez azért lesz így mégis jó, mert tudjuk, hogy ha bejutunk az elágazás igaz ágába, akkor ott már mindenképp visszatér a függvény ```True``` értékkel. Azaz itt leáll a függvény futása, nem fog már eljutni a ```return False``` utasításhoz.\n",
    "\n",
    "És persze, ha meggondoljuk, akkor az ```isEven``` függvényt így is megvalósíthattuk volna:"
   ]
  },
  {
   "cell_type": "code",
   "execution_count": 59,
   "id": "7f55fac5-4833-4503-9ab4-fcc5610cd3de",
   "metadata": {},
   "outputs": [
    {
     "name": "stdout",
     "output_type": "stream",
     "text": [
      "True\n",
      "False\n"
     ]
    }
   ],
   "source": [
    "def isEven(num):\n",
    "    return num % 2 == 0\n",
    "\n",
    "print(isEven(12))\n",
    "print(isEven(9))"
   ]
  },
  {
   "cell_type": "markdown",
   "id": "bb6427a9-5e14-4ada-ae12-fe7c2265aacf",
   "metadata": {},
   "source": [
    "Vegyük észre, hogy a korábban az ```if```-ben elhelyezett logikai vizsgálat önmagában igaz vagy hamis eredményt fog mondani. Ami pont megegyezik azzal, amit mi visszatérési értékként szeretnénk adni. Ennek a tantárgynak a szempontjából mindegy, hogy a fenti három példa közül melyikkel élünk. Mindegyik pont ugyanazt a feladatot látja el, tehát a kimenet helyessége szempontjából nincs különbség. A különbség most a kód egyszerűsége, tömörsége és a futási teljesítménye között van. De ilyen jellegű szempontok figyelembe vétele nem célja ennek a tantárgynak. Tehát a fenti szemléltetés pusztán az érdekesség és a szélesebb látókör megalapozását szolgálja.\n",
    "\n",
    "## Függvény, mint bemeneti paraméter\n",
    "\n",
    "Láttuk, hogy a függvények kaphatnak különféle bemeneteket, amiket valamilyen módon felhasználhatnak a rájuk bízott feladat végrehajtása során. A bemenet lehet bármilyen adat, akár egész vagy valós szám, logikai érték, lista, rendezett n-es, és még sorolhatnánk. Kicsit kilóg a sorból, de egy függvény bemenete akár egy másik függvény is lehet. Ami azt fogja eredményezni, hogy a paraméterül kapott függvényt felhasználhatjuk a függvényen belül. Nézzünk rá egy példát!"
   ]
  },
  {
   "cell_type": "code",
   "execution_count": 60,
   "id": "4ef5b7c7-0bd2-4e45-a6d9-a7b9b513ad84",
   "metadata": {},
   "outputs": [],
   "source": [
    "def operation(x, y, op):\n",
    "    return (x, y, op(x, y))"
   ]
  },
  {
   "cell_type": "markdown",
   "id": "0501d5db-4647-4319-a91a-1765f8078662",
   "metadata": {},
   "source": [
    "Az ```operation``` függvény bemenetként várjon két számot, ezek legyenek ```x``` és ```y```. Ezen kívül várjon még egy függvényt, amit az ```op``` jelképez. Kimenetként egy tuple-t fog generálni, ami tartalmazza az ```x``` és ```y``` értékét, valamint az ```op``` függvény visszatérési értékét. Hogy mi lesz az ```op``` függvény, az attól függ, hogy az ```operation``` függvény hívásakor mit adunk neki paraméterül.\n",
    "\n",
    "Készítsünk két függvényt, amiket fel tudunk használni arra, hogy paraméterül adjuk az ```operation```  függvénynek:"
   ]
  },
  {
   "cell_type": "code",
   "execution_count": 61,
   "id": "678b3d37-6cb1-45cc-8985-757a280e1495",
   "metadata": {},
   "outputs": [],
   "source": [
    "def op0(a, b):\n",
    "    return a + b\n",
    "\n",
    "def op1(v0, v1):\n",
    "    return v0 * v1"
   ]
  },
  {
   "cell_type": "markdown",
   "id": "7a29bbb2-8891-48a0-90fd-3247ed9e469a",
   "metadata": {},
   "source": [
    "Ezekkel most már ki tudjuk próbálni a működését:"
   ]
  },
  {
   "cell_type": "code",
   "execution_count": 62,
   "id": "b8d565b5-0f7e-45d4-893c-c43e63061e8b",
   "metadata": {},
   "outputs": [
    {
     "name": "stdout",
     "output_type": "stream",
     "text": [
      "(2, 3, 5)\n",
      "(2, 3, 6)\n"
     ]
    }
   ],
   "source": [
    "print(operation(2, 3, op0))\n",
    "print(operation(2, 3, op1))"
   ]
  },
  {
   "cell_type": "markdown",
   "id": "20f7ad1d-9463-4c02-9fe1-498047455a06",
   "metadata": {},
   "source": [
    "Az első esetben az ```op0``` függvényt adtuk paraméterül az ```operation``` függvénynek. Ez azt jelenti, hogy amikor az ```operation``` függvényen belül meghívjuk az ```op``` függvényt, akkor az  most az ```op0``` függvényt fogja jelenti. A második esetben látjuk, hogy az ```op1``` függvényt kapta paraméterül az ```operation``` függvény. Így most az ```op``` függvény felhasználása az ```op1``` függvényt fogja takarni.\n",
    "\n",
    "Persze ez például nem fog működni:"
   ]
  },
  {
   "cell_type": "code",
   "execution_count": 63,
   "id": "d5365bc9-52f0-4a9a-a06d-f44fcdbc2103",
   "metadata": {},
   "outputs": [
    {
     "ename": "TypeError",
     "evalue": "op2() missing 1 required positional argument: 'z'",
     "output_type": "error",
     "traceback": [
      "\u001b[0;31m---------------------------------------------------------------------------\u001b[0m",
      "\u001b[0;31mTypeError\u001b[0m                                 Traceback (most recent call last)",
      "Cell \u001b[0;32mIn[63], line 4\u001b[0m\n\u001b[1;32m      1\u001b[0m \u001b[38;5;28;01mdef\u001b[39;00m \u001b[38;5;21mop2\u001b[39m(x, y, z):\n\u001b[1;32m      2\u001b[0m     \u001b[38;5;28;01mreturn\u001b[39;00m x\u001b[38;5;241m*\u001b[39m\u001b[38;5;241m*\u001b[39my\u001b[38;5;241m*\u001b[39mz\n\u001b[0;32m----> 4\u001b[0m \u001b[38;5;28mprint\u001b[39m(\u001b[43moperation\u001b[49m\u001b[43m(\u001b[49m\u001b[38;5;241;43m2\u001b[39;49m\u001b[43m,\u001b[49m\u001b[43m \u001b[49m\u001b[38;5;241;43m3\u001b[39;49m\u001b[43m,\u001b[49m\u001b[43m \u001b[49m\u001b[43mop2\u001b[49m\u001b[43m)\u001b[49m)\n",
      "Cell \u001b[0;32mIn[60], line 2\u001b[0m, in \u001b[0;36moperation\u001b[0;34m(x, y, op)\u001b[0m\n\u001b[1;32m      1\u001b[0m \u001b[38;5;28;01mdef\u001b[39;00m \u001b[38;5;21moperation\u001b[39m(x, y, op):\n\u001b[0;32m----> 2\u001b[0m     \u001b[38;5;28;01mreturn\u001b[39;00m (x, y, \u001b[43mop\u001b[49m\u001b[43m(\u001b[49m\u001b[43mx\u001b[49m\u001b[43m,\u001b[49m\u001b[43m \u001b[49m\u001b[43my\u001b[49m\u001b[43m)\u001b[49m)\n",
      "\u001b[0;31mTypeError\u001b[0m: op2() missing 1 required positional argument: 'z'"
     ]
    }
   ],
   "source": [
    "def op2(x, y, z):\n",
    "    return x**y*z\n",
    "\n",
    "print(operation(2, 3, op2))"
   ]
  },
  {
   "cell_type": "markdown",
   "id": "d9dee59d-ee80-46c9-b2ab-6c0840116d5a",
   "metadata": {},
   "source": [
    "A fenti példában az a gond, hogy az ```op2``` függvény három bemenetet vár, de az ```operation``` függvényen belül csak két paramétert adtunk az ```op``` hívása során. Ezért ügyelni kell rá, hogy csak olyan függvényt adjuk át paraméterül, ami az adott feladatot el tudja látni."
   ]
  },
  {
   "cell_type": "markdown",
   "id": "8bc91432-1649-4c9e-a407-604759991891",
   "metadata": {},
   "source": [
    "## Függvények egymásba ágyazása\n",
    "\n",
    "A függvényeket akár egymással kombinálni is tudjuk. Tehát lehetőségünk van arra is, hogy egy függvényen belül egy másik függvényt használjunk fel. Nézzük erre egy példát:"
   ]
  },
  {
   "cell_type": "code",
   "execution_count": 64,
   "id": "834e389c-4d66-43c4-b133-f0023b7b6e91",
   "metadata": {},
   "outputs": [
    {
     "name": "stdout",
     "output_type": "stream",
     "text": [
      "0 2 4 6 8 \n",
      "0 2 4 \n",
      "0 2 4 6 8 10 12 14 16 18 20 22 24 26 28 30 32 34 36 38 40 42 44 46 48 \n"
     ]
    }
   ],
   "source": [
    "def printEvenNumbers(n):\n",
    "    for i in range(n):\n",
    "        if isEven(i):\n",
    "            print(i, end=\" \")\n",
    "    print()\n",
    "\n",
    "printEvenNumbers(10)\n",
    "printEvenNumbers(6)\n",
    "printEvenNumbers(50)"
   ]
  },
  {
   "cell_type": "markdown",
   "id": "734ffbc3-e226-42ab-b957-204d433465a3",
   "metadata": {},
   "source": [
    "A ```printEvenNumbers``` függvény kiírja 0-tól ```n```-ig a páros számokat. Az ```n``` értékét bemenetként várja. Egy ```for``` ciklus segítségével iterál 0-tól ```n```-ig, majd minden szám esetén megvizsgálja, hogy az páros vagy sem. A vizsgálathoz pedig a korábban létrehozott ```isEven``` függvényt használja fel. A számokat egymás után írja, egy-egy szóközzel elválasztva. A végén pusztán a formázás végett szerepel egy üres ```print``` függvény hívás, aminek a célja, hogy a kiírás végén legyen egy sortörés.\n",
    "\n",
    "A fenti példából jól látható, hogy egy függvényt fel lehet használni egy másik függvényben. Azonban egy dologra érdemes ügyelni. Ez alapján lehetőségünk van az alábbira, amit messziről próbáljunk elkerülni:"
   ]
  },
  {
   "cell_type": "code",
   "execution_count": 65,
   "id": "a2809c72-2baf-4f65-a99b-aa873da6c39c",
   "metadata": {},
   "outputs": [],
   "source": [
    "def A():\n",
    "    print(\"Én vagyok az A függvény.\")\n",
    "    B()\n",
    "\n",
    "def B():\n",
    "    print(\"Én vagyok a B függvény.\")\n",
    "    A()"
   ]
  },
  {
   "cell_type": "markdown",
   "id": "ad0240cc-9855-42b8-81a1-dad3e4158c9c",
   "metadata": {},
   "source": [
    "Van két függvényünk, ```A``` és ```B```. Egyiknek sincs semmi gyakorlati funkciója, pusztán a probléma szemléltetése a cél. Az ```A``` függvény kiír egy tájékoztató szöveget, majd meghívja a ```B``` függvényt. Eddig nincs gond. Viszont, a ```B``` függvény hasonló tájékoztatás után meghívja az ```A``` függvényt. Vegyük észre, hogy ezzel egy végtelen függvényhívási láncolatot indítottunk el. Ha bármelyik függvényt meghívjuk a kettő közül, akkor az mindig meg fogja hívni a másikat, ami megint meghívja a másikat és így tovább. Ez hasonló ahhoz, amikor a ciklusnak nem határozunk meg kilépő feltételt, vagy rosszul határozzuk meg és a ciklus az elméleti végtelenségig futna. Persze nyilván a fenti példában ránézésre is egyszerűen kiszúrható ez a probléma, de összetett gyakorlati feladatokat megoldó függvények esetén nem feltétlen látszik ránézésre. Ráadásul olyan eset is könnyen elképzelhető, amikor a láncolat nem kettő, hanem akár sokkal több függvényből alkot egy végtelen hívási sorozatot. Ezért ha függvényeken belül hívunk más függvényeket, akkor ilyen szempontból mindig legyünk körültekintőek.\n",
    "\n",
    "Bár már tudjuk mi fog történni, de azért nézzük meg:"
   ]
  },
  {
   "cell_type": "code",
   "execution_count": 66,
   "id": "69ab566f-3188-4f76-98c2-9d35e12a15a5",
   "metadata": {},
   "outputs": [
    {
     "name": "stdout",
     "output_type": "stream",
     "text": [
      "Én vagyok az A függvény.\n",
      "Én vagyok a B függvény.\n",
      "Én vagyok az A függvény.\n",
      "Én vagyok a B függvény.\n",
      "Én vagyok az A függvény.\n",
      "Én vagyok a B függvény.\n",
      "Én vagyok az A függvény.\n",
      "Én vagyok a B függvény.\n",
      "Én vagyok az A függvény.\n",
      "Én vagyok a B függvény.\n",
      "Én vagyok az A függvény.\n",
      "Én vagyok a B függvény.\n",
      "Én vagyok az A függvény.\n",
      "Én vagyok a B függvény.\n",
      "Én vagyok az A függvény.\n",
      "Én vagyok a B függvény.\n",
      "Én vagyok az A függvény.\n",
      "Én vagyok a B függvény.\n",
      "Én vagyok az A függvény.\n",
      "Én vagyok a B függvény.\n",
      "Én vagyok az A függvény.\n",
      "Én vagyok a B függvény.\n",
      "Én vagyok az A függvény.\n",
      "Én vagyok a B függvény.\n",
      "Én vagyok az A függvény.\n"
     ]
    },
    {
     "ename": "RecursionError",
     "evalue": "maximum recursion depth exceeded while calling a Python object",
     "output_type": "error",
     "traceback": [
      "\u001b[0;31m---------------------------------------------------------------------------\u001b[0m",
      "\u001b[0;31mRecursionError\u001b[0m                            Traceback (most recent call last)",
      "Cell \u001b[0;32mIn[66], line 1\u001b[0m\n\u001b[0;32m----> 1\u001b[0m \u001b[43mA\u001b[49m\u001b[43m(\u001b[49m\u001b[43m)\u001b[49m\n",
      "Cell \u001b[0;32mIn[65], line 3\u001b[0m, in \u001b[0;36mA\u001b[0;34m()\u001b[0m\n\u001b[1;32m      1\u001b[0m \u001b[38;5;28;01mdef\u001b[39;00m \u001b[38;5;21mA\u001b[39m():\n\u001b[1;32m      2\u001b[0m     \u001b[38;5;28mprint\u001b[39m(\u001b[38;5;124m\"\u001b[39m\u001b[38;5;124mÉn vagyok az A függvény.\u001b[39m\u001b[38;5;124m\"\u001b[39m)\n\u001b[0;32m----> 3\u001b[0m     \u001b[43mB\u001b[49m\u001b[43m(\u001b[49m\u001b[43m)\u001b[49m\n",
      "Cell \u001b[0;32mIn[65], line 7\u001b[0m, in \u001b[0;36mB\u001b[0;34m()\u001b[0m\n\u001b[1;32m      5\u001b[0m \u001b[38;5;28;01mdef\u001b[39;00m \u001b[38;5;21mB\u001b[39m():\n\u001b[1;32m      6\u001b[0m     \u001b[38;5;28mprint\u001b[39m(\u001b[38;5;124m\"\u001b[39m\u001b[38;5;124mÉn vagyok a B függvény.\u001b[39m\u001b[38;5;124m\"\u001b[39m)\n\u001b[0;32m----> 7\u001b[0m     \u001b[43mA\u001b[49m\u001b[43m(\u001b[49m\u001b[43m)\u001b[49m\n",
      "Cell \u001b[0;32mIn[65], line 3\u001b[0m, in \u001b[0;36mA\u001b[0;34m()\u001b[0m\n\u001b[1;32m      1\u001b[0m \u001b[38;5;28;01mdef\u001b[39;00m \u001b[38;5;21mA\u001b[39m():\n\u001b[1;32m      2\u001b[0m     \u001b[38;5;28mprint\u001b[39m(\u001b[38;5;124m\"\u001b[39m\u001b[38;5;124mÉn vagyok az A függvény.\u001b[39m\u001b[38;5;124m\"\u001b[39m)\n\u001b[0;32m----> 3\u001b[0m     \u001b[43mB\u001b[49m\u001b[43m(\u001b[49m\u001b[43m)\u001b[49m\n",
      "Cell \u001b[0;32mIn[65], line 7\u001b[0m, in \u001b[0;36mB\u001b[0;34m()\u001b[0m\n\u001b[1;32m      5\u001b[0m \u001b[38;5;28;01mdef\u001b[39;00m \u001b[38;5;21mB\u001b[39m():\n\u001b[1;32m      6\u001b[0m     \u001b[38;5;28mprint\u001b[39m(\u001b[38;5;124m\"\u001b[39m\u001b[38;5;124mÉn vagyok a B függvény.\u001b[39m\u001b[38;5;124m\"\u001b[39m)\n\u001b[0;32m----> 7\u001b[0m     \u001b[43mA\u001b[49m\u001b[43m(\u001b[49m\u001b[43m)\u001b[49m\n",
      "    \u001b[0;31m[... skipping similar frames: A at line 3 (1482 times), B at line 7 (1481 times)]\u001b[0m\n",
      "Cell \u001b[0;32mIn[65], line 7\u001b[0m, in \u001b[0;36mB\u001b[0;34m()\u001b[0m\n\u001b[1;32m      5\u001b[0m \u001b[38;5;28;01mdef\u001b[39;00m \u001b[38;5;21mB\u001b[39m():\n\u001b[1;32m      6\u001b[0m     \u001b[38;5;28mprint\u001b[39m(\u001b[38;5;124m\"\u001b[39m\u001b[38;5;124mÉn vagyok a B függvény.\u001b[39m\u001b[38;5;124m\"\u001b[39m)\n\u001b[0;32m----> 7\u001b[0m     \u001b[43mA\u001b[49m\u001b[43m(\u001b[49m\u001b[43m)\u001b[49m\n",
      "Cell \u001b[0;32mIn[65], line 3\u001b[0m, in \u001b[0;36mA\u001b[0;34m()\u001b[0m\n\u001b[1;32m      1\u001b[0m \u001b[38;5;28;01mdef\u001b[39;00m \u001b[38;5;21mA\u001b[39m():\n\u001b[1;32m      2\u001b[0m     \u001b[38;5;28mprint\u001b[39m(\u001b[38;5;124m\"\u001b[39m\u001b[38;5;124mÉn vagyok az A függvény.\u001b[39m\u001b[38;5;124m\"\u001b[39m)\n\u001b[0;32m----> 3\u001b[0m     \u001b[43mB\u001b[49m\u001b[43m(\u001b[49m\u001b[43m)\u001b[49m\n",
      "Cell \u001b[0;32mIn[65], line 6\u001b[0m, in \u001b[0;36mB\u001b[0;34m()\u001b[0m\n\u001b[1;32m      5\u001b[0m \u001b[38;5;28;01mdef\u001b[39;00m \u001b[38;5;21mB\u001b[39m():\n\u001b[0;32m----> 6\u001b[0m     \u001b[38;5;28;43mprint\u001b[39;49m\u001b[43m(\u001b[49m\u001b[38;5;124;43m\"\u001b[39;49m\u001b[38;5;124;43mÉn vagyok a B függvény.\u001b[39;49m\u001b[38;5;124;43m\"\u001b[39;49m\u001b[43m)\u001b[49m\n\u001b[1;32m      7\u001b[0m     A()\n",
      "File \u001b[0;32m~/.local/lib/python3.8/site-packages/ipykernel/iostream.py:635\u001b[0m, in \u001b[0;36mOutStream.write\u001b[0;34m(self, string)\u001b[0m\n\u001b[1;32m    633\u001b[0m     \u001b[38;5;28;01mraise\u001b[39;00m \u001b[38;5;167;01mValueError\u001b[39;00m(msg)\n\u001b[1;32m    634\u001b[0m \u001b[38;5;28;01melse\u001b[39;00m:\n\u001b[0;32m--> 635\u001b[0m     is_child \u001b[38;5;241m=\u001b[39m \u001b[38;5;129;01mnot\u001b[39;00m \u001b[38;5;28;43mself\u001b[39;49m\u001b[38;5;241;43m.\u001b[39;49m\u001b[43m_is_master_process\u001b[49m\u001b[43m(\u001b[49m\u001b[43m)\u001b[49m\n\u001b[1;32m    636\u001b[0m     \u001b[38;5;66;03m# only touch the buffer in the IO thread to avoid races\u001b[39;00m\n\u001b[1;32m    637\u001b[0m     \u001b[38;5;28;01mwith\u001b[39;00m \u001b[38;5;28mself\u001b[39m\u001b[38;5;241m.\u001b[39m_buffer_lock:\n",
      "File \u001b[0;32m~/.local/lib/python3.8/site-packages/ipykernel/iostream.py:506\u001b[0m, in \u001b[0;36mOutStream._is_master_process\u001b[0;34m(self)\u001b[0m\n\u001b[1;32m    505\u001b[0m \u001b[38;5;28;01mdef\u001b[39;00m \u001b[38;5;21m_is_master_process\u001b[39m(\u001b[38;5;28mself\u001b[39m):\n\u001b[0;32m--> 506\u001b[0m     \u001b[38;5;28;01mreturn\u001b[39;00m \u001b[43mos\u001b[49m\u001b[38;5;241;43m.\u001b[39;49m\u001b[43mgetpid\u001b[49m\u001b[43m(\u001b[49m\u001b[43m)\u001b[49m \u001b[38;5;241m==\u001b[39m \u001b[38;5;28mself\u001b[39m\u001b[38;5;241m.\u001b[39m_master_pid\n",
      "\u001b[0;31mRecursionError\u001b[0m: maximum recursion depth exceeded while calling a Python object"
     ]
    }
   ],
   "source": [
    "A()"
   ]
  },
  {
   "cell_type": "markdown",
   "id": "05944280-2c99-4cfa-ae2a-787dd459f4de",
   "metadata": {},
   "source": [
    "Ahogy várható volt, a két függvény az elméleti végtelenségig hívja egymást. Ezért a kód futását inkább állítsuk le kézzel.\n",
    "\n",
    "#### Feladat: Minimum, maximum és átlag számítás függvényekkel\n",
    "\n",
    "Készítsünk egy programot, ami egy tuple vagy lista elemei esetén képes meghatározni az elemek minimumát, maximumát és átlagát. A három számításért egy-egy függvény legyen a felelős, ahol a függvény bemenete a lista vagy tuple, visszatérési értéke a számítás eredménye. A három értéket írjuk a kimenetre."
   ]
  },
  {
   "cell_type": "code",
   "execution_count": 67,
   "id": "df21664b-6fab-4c31-a582-2511ccc73888",
   "metadata": {},
   "outputs": [
    {
     "name": "stdout",
     "output_type": "stream",
     "text": [
      "0 9 3.6875\n"
     ]
    }
   ],
   "source": [
    "# A minimum érték meghatározásáért felelős függvény.\n",
    "def minValue(nums):\n",
    "    min = nums[0]\n",
    "    for num in nums[1:]:\n",
    "        if num < min:\n",
    "            min = num\n",
    "    return min\n",
    "    \n",
    "# A maximum érték meghatározásáért felelős függvény.\n",
    "def maxValue(nums):\n",
    "    max = nums[0]\n",
    "    for num in nums[1:]:\n",
    "        if num > max:\n",
    "            max = num\n",
    "    return max\n",
    "\n",
    "# Az átlag érték meghatározásáért felelős függvény.\n",
    "def avgValue(nums):\n",
    "    avg = 0\n",
    "    for num in nums:\n",
    "        avg += num\n",
    "    avg /= len(nums)\n",
    "    return avg\n",
    "\n",
    "# Tetszőleges tuple, amin a számítást végre szeretnénk hajtani.\n",
    "nums = (1, 5, 3, 0, 0, 6, 2, 1, 8, 7, 5, 9, 2, 1, 5, 4)\n",
    "\n",
    "# A három értéket meghatározzuk a három függvénnyel és az eredményüket rögtön meg is jelenítjük a print függvény segítségével.\n",
    "print(minValue(nums), maxValue(nums), avgValue(nums))\n",
    "    "
   ]
  },
  {
   "cell_type": "markdown",
   "id": "511f7f29-d65f-42d9-bc02-b3434cfcb441",
   "metadata": {},
   "source": [
    "## Egyszerre több visszatérési érték\n",
    "\n",
    "Python programozási nyelven lehetőségünk van arra, hogy egyszerre több visszatérési értéke is legyen egy függvénynek. Ezt úgy tudjuk elérni, hogy ha a ```ṙeturn``` kulcsszó után vesszővel elválasztva több értéket sorolunk fel. Ezek akár különféle típusúak is lehetnek.\n",
    "\n",
    "Nézzünk egy egyszerű szemléltető példát:"
   ]
  },
  {
   "cell_type": "code",
   "execution_count": 68,
   "id": "38397837-24a1-48c3-8ee9-91d0cd464f59",
   "metadata": {},
   "outputs": [],
   "source": [
    "def calc(a, b):\n",
    "    r0 = a + b\n",
    "    r1 = a - b\n",
    "    r2 = a * b\n",
    "    r3 = a / b\n",
    "    return r0, r1, r2, r3"
   ]
  },
  {
   "cell_type": "markdown",
   "id": "97b4741b-6e65-4b50-a255-054635ea6a65",
   "metadata": {},
   "source": [
    "A ```calc``` függvény bemenetként két értéket vár, ```a``` és ```b``` változókban. A függvény 4 értéket számít ki: az ```a``` és ```b``` összegét, különbségét, szorzatát, és hányadosát. Ezeket egy-egy változóban tároljuk (```r0```, ```r1```, ```r2``` és ```r3```). A lényegi rész ez után következik. A ```return``` utasítással most 4 értéket adunk vissza, melyeket felsorolással, vesszővel elválasztva adtunk meg.\n",
    "\n",
    "Nézzük meg, hogy hogyan tudjuk ilyen függvény visszatérési értékét felhasználni!"
   ]
  },
  {
   "cell_type": "code",
   "execution_count": 69,
   "id": "37bc8ae3-2818-4aa1-9b84-f0c7775fbdec",
   "metadata": {},
   "outputs": [
    {
     "name": "stdout",
     "output_type": "stream",
     "text": [
      "(5, -1, 6, 0.6666666666666666)\n",
      "<class 'tuple'>\n"
     ]
    }
   ],
   "source": [
    "r = calc(2, 3)\n",
    "\n",
    "print(r)\n",
    "\n",
    "print(type(r))"
   ]
  },
  {
   "cell_type": "markdown",
   "id": "bf1e357a-7a8a-4d5f-b701-d72a8f5d0c53",
   "metadata": {},
   "source": [
    "A fenti kódban meghívtuk a ```calc``` függvényt és a 4 visszatérési értékét beleraktuk az ```r``` változóba. Ha kiírjuk az ```r``` tartalmát, akkor látjuk, hogy mind a 4 érték benne van. A zárójelek arról is árulkodnak, hogy így egy tuple keletkezett belőlük. De ezt ellenőrizni tudjuk a ```type``` függvény hívásával is. Látható, hogy valóban ```tuple``` objektumot kaptunk. Ha több visszatérési értéke van egy függvénynek, akkor azzal tulajdonképpen egy ```tuple```-t generálunk a kimeneten.\n",
    "\n",
    "A korábbiak alapján tudjuk, hogy ezt akár így is felhasználhatjuk:"
   ]
  },
  {
   "cell_type": "code",
   "execution_count": 70,
   "id": "b3008167-fa7b-42fb-bf29-0692b7edefa8",
   "metadata": {},
   "outputs": [
    {
     "name": "stdout",
     "output_type": "stream",
     "text": [
      "5 -1 6 0.6666666666666666\n"
     ]
    }
   ],
   "source": [
    "a, b, c, d = calc(2, 3)\n",
    "\n",
    "print(a, b, c, d)"
   ]
  },
  {
   "cell_type": "markdown",
   "id": "e3674769-cc2e-4c7d-a264-2af1faf0671c",
   "metadata": {},
   "source": [
    "A visszatérési értéket nem muszáj egy ```tuple``` objektumban elhelyeznünk, hanem lehetőségünk van arra is, hogy több változó között osszuk szét az egyes értékeket."
   ]
  },
  {
   "cell_type": "markdown",
   "id": "36d62c62-e269-4a40-9929-e0cf81ff3585",
   "metadata": {},
   "source": [
    "Térjünk vissza kicsit az előbbi feladathoz, ahol a minimum, maximum és átlag értékeket határoztuk meg. Ezt most már akár egy függvénnyel is megvalósíthatjuk, amelynek három visszatérési értéke van:"
   ]
  },
  {
   "cell_type": "code",
   "execution_count": 71,
   "id": "7ad304dc-9f50-4275-a508-5136c91ac72c",
   "metadata": {},
   "outputs": [
    {
     "name": "stdout",
     "output_type": "stream",
     "text": [
      "0 9 3.6875\n"
     ]
    }
   ],
   "source": [
    "# A minimum, maxmimum és átlag értékek számítását végző függvény.\n",
    "def stats(nums):\n",
    "    min = nums[0]\n",
    "    max = nums[0]\n",
    "    avg = 0\n",
    "    for num in nums:\n",
    "        if num < min:\n",
    "            min = num\n",
    "        if num > max:\n",
    "            max = num\n",
    "        avg += num\n",
    "    avg /= len(nums)\n",
    "    return min, max, avg\n",
    "\n",
    "# Tetszőleges tuple, amin a számítást végre szeretnénk hajtani.\n",
    "nums = (1, 5, 3, 0, 0, 6, 2, 1, 8, 7, 5, 9, 2, 1, 5, 4)\n",
    "\n",
    "min_of_nums, max_of_nums, avg_of_nums = stats(nums)\n",
    "\n",
    "print(min_of_nums, max_of_nums, avg_of_nums)"
   ]
  },
  {
   "cell_type": "markdown",
   "id": "4ee42742-4a3e-4edd-bbef-cad88da60e5f",
   "metadata": {},
   "source": [
    "Azonban, ha a három számításra valamiért szükségünk van, mint egy-egy önálló függvényre is, akkor az alábbi megoldással is élhetünk:"
   ]
  },
  {
   "cell_type": "code",
   "execution_count": 72,
   "id": "2a6e131a-6efd-4d63-84ca-1c380b2f5478",
   "metadata": {},
   "outputs": [
    {
     "name": "stdout",
     "output_type": "stream",
     "text": [
      "0 9 3.6875\n"
     ]
    }
   ],
   "source": [
    "# A minimum érték meghatározásáért felelős függvény.\n",
    "def minValue(nums):\n",
    "    min = nums[0]\n",
    "    for num in nums[1:]:\n",
    "        if num < min:\n",
    "            min = num\n",
    "    return min\n",
    "    \n",
    "# A maximum érték meghatározásáért felelős függvény.\n",
    "def maxValue(nums):\n",
    "    max = nums[0]\n",
    "    for num in nums[1:]:\n",
    "        if num > max:\n",
    "            max = num\n",
    "    return max\n",
    "\n",
    "# Az átlag érték meghatározásáért felelős függvény.\n",
    "def avgValue(nums):\n",
    "    avg = 0\n",
    "    for num in nums:\n",
    "        avg += num\n",
    "    avg /= len(nums)\n",
    "    return avg\n",
    "\n",
    "# A minimum, maxmimum és átlag értékek számítását végző függvény, de most a három korábbi függvényt használja fel.\n",
    "def stats(nums):\n",
    "    return minValue(nums), maxValue(nums), avgValue(nums)\n",
    "\n",
    "# Tetszőleges tuple, amin a számítást végre szeretnénk hajtani.\n",
    "nums = (1, 5, 3, 0, 0, 6, 2, 1, 8, 7, 5, 9, 2, 1, 5, 4)\n",
    "\n",
    "min_of_nums, max_of_nums, avg_of_nums = stats(nums)\n",
    "\n",
    "print(min_of_nums, max_of_nums, avg_of_nums)    "
   ]
  },
  {
   "cell_type": "markdown",
   "id": "600464f7-c487-43eb-b290-cfb882404496",
   "metadata": {},
   "source": [
    "A fenti esetben meghagytuk a minimum, maximum és átlag értékeket számító függvényeket. Nem szerveztük őket egy közös függvénybe. Helyette a ```stats``` függvényt úgy valósítottuk meg, hogy a másik három függvényt hívja az egyes értékek számításához. Látható, hogy így a ```stats``` függvény egyetlen sorral megvalósítható. Most a ```return``` hívás után visszatérési értéknek függvényhívásokat adtunk meg. Ilyenkor az történik, hogy meghívásra kerülnek ezek a függvények és a visszatérési értékük kerül a ```return``` híváshoz.\n",
    "\n",
    "Korábbi ismereteink alapján tudjuk, hogy egyszerre több változónak is lehet értéket adni. Erre néztünk hasonló egyszerű példákat korábban:"
   ]
  },
  {
   "cell_type": "code",
   "execution_count": 73,
   "id": "7a0af7d1-e85c-49af-b95f-6771c027d680",
   "metadata": {},
   "outputs": [],
   "source": [
    "x, y, z = 1, 2, 3"
   ]
  },
  {
   "cell_type": "markdown",
   "id": "f82352c1-cef5-4491-b448-9c4a88c93831",
   "metadata": {},
   "source": [
    "A fenti kódban az ```x``` értéke 1, az ```y``` értéke 2 és a ```z``` értéke 3 lesz. Ezt a módszert kihasználva, a ```stats``` függvény nélkül akár az alábbi megoldást is alkalmazhatjuk:"
   ]
  },
  {
   "cell_type": "code",
   "execution_count": 74,
   "id": "0490af7e-541a-430f-88fb-b5f72e03d664",
   "metadata": {},
   "outputs": [
    {
     "name": "stdout",
     "output_type": "stream",
     "text": [
      "0 9 3.6875\n"
     ]
    }
   ],
   "source": [
    "nums = (1, 5, 3, 0, 0, 6, 2, 1, 8, 7, 5, 9, 2, 1, 5, 4)\n",
    "\n",
    "min_of_nums, max_of_nums, avg_of_nums = minValue(nums), maxValue(nums), avgValue(nums)\n",
    "\n",
    "print(min_of_nums, max_of_nums, avg_of_nums)"
   ]
  },
  {
   "cell_type": "markdown",
   "id": "39619c0a-2e55-405c-a73a-651c7098f757",
   "metadata": {},
   "source": [
    "## Alapértelmezett paraméterérték\n",
    "\n",
    "Lehetőségünk van arra is, hogy egy függvény bemeneti változónak alapértelmezett értéket adjunk. Ez azt jelenti, hogy az ilyen bemenetnek nem muszáj értéket adnunk. Ha nem adunk értéket, akkor az alapértelmezett értékkel fog dolgoznia a függvény. De ha ezt meg szeretnénk változtatni, akkor erre is van lehetőségünk. A beépített ```print``` függvény esetén ilyen volt a ```sep``` és az ```end``` bemeneti paraméterek. Ezeket nem volt kötelező megadni, hiszen van mindkettőnek alapértelmezett értéke. De ahogy láttuk, ezeket szabadon módosíthatjuk, ami adott feladat esetén hasznos lehet.\n",
    "\n",
    "Most készítsünk egy függvényt, ami egy adott sugarú kör kerületét és területét képes kiszámítani és ezt a két értéket adja visszatérésként. A függvény első bemenete a kör sugara (```radius```), második bemenete pedig a számítás során alkalmazott $\\pi$ (```pi```) közelítő értéke legyen. Ez utóbbinak legyen alapértelmezett értéke, amit az alábbi módon adhatunk meg:"
   ]
  },
  {
   "cell_type": "code",
   "execution_count": 75,
   "id": "c8c65ec7-68e0-4a5b-a446-09680b3a4c82",
   "metadata": {},
   "outputs": [
    {
     "name": "stdout",
     "output_type": "stream",
     "text": [
      "(6.283185307178, 3.141592653589)\n",
      "(6.28, 3.14)\n",
      "(6.283185307179586, 3.141592653589793)\n"
     ]
    }
   ],
   "source": [
    "def calcCircleParameters(radius, pi=3.141592653589):\n",
    "    p = 2 * radius * pi\n",
    "    a = radius ** 2 * pi\n",
    "    return p, a\n",
    "\n",
    "print(calcCircleParameters(1))\n",
    "print(calcCircleParameters(1, 3.14))\n",
    "\n",
    "import math\n",
    "\n",
    "print(calcCircleParameters(1, math.pi))"
   ]
  },
  {
   "cell_type": "markdown",
   "id": "71a0b70d-7fc3-4f85-8a01-976579a2d29f",
   "metadata": {},
   "source": [
    "A ```calcCircleParameters``` függvény fejlécéből egyértelműen látszik a jelölés módszere. Ha egy bemeneti változónak szeretnénk alapértelmezett értéket adni, akkor egészen egyszerűen a változó név után egyenlőségjelet írva megadjuk a kívánt értéket. Jelen esetben a ```pi``` változó alapértelmezett értéke 10 tizedesjegyik közelíti a $\\pi$ értékét. Ezért amikor meghívjuk a függvényt, akkor nem muszáj a ```pi```-nek értéket adni. Ilyenkor a fejlécben meghatározott értékkel fog számolni. Természetesen ezt bármikor módosíthatjuk, ahogy a második (```pi = 3.14```) és harmadik (```pi = math.pi```) hívás esetén látjuk.\n",
    "\n",
    "Egy nagyon fontos dolgokra ügyelni kell! Egy függvény nem csak egy, hanem több alapértelmezett értékkel rendelkező bemeneti paramétert is tartalmazhat. Azonban ezek a paraméterek csak a paraméterlista végén állhatnak. Úgy is mondhatjuk, hogy a paraméterlistában egy alapértelmezett értékkel rendelkező bemeneti változó után már csak szintén ugyanilyen változók állhatnak. Tehát például ez megengedett:"
   ]
  },
  {
   "cell_type": "code",
   "execution_count": 76,
   "id": "4c834396-1aff-4e17-af8c-1a4628376d88",
   "metadata": {},
   "outputs": [
    {
     "name": "stdout",
     "output_type": "stream",
     "text": [
      "0.023809523809523808\n",
      "0.023809523809523808\n",
      "0.3333333333333333\n"
     ]
    }
   ],
   "source": [
    "def f(x, y=10, z=42):\n",
    "    return x**y/z\n",
    "\n",
    "print(f(1))\n",
    "print(f(1, 2))\n",
    "print(f(1, 2, 3))"
   ]
  },
  {
   "cell_type": "markdown",
   "id": "a6db8774-b69c-47d6-bf7d-f688cbca6bb4",
   "metadata": {},
   "source": [
    "Ilyet azonban nem tehetünk:"
   ]
  },
  {
   "cell_type": "code",
   "execution_count": 77,
   "id": "04b5dd8c-e638-45eb-aac0-dfaa1737aa5b",
   "metadata": {},
   "outputs": [
    {
     "ename": "SyntaxError",
     "evalue": "non-default argument follows default argument (4292736875.py, line 1)",
     "output_type": "error",
     "traceback": [
      "\u001b[0;36m  Cell \u001b[0;32mIn[77], line 1\u001b[0;36m\u001b[0m\n\u001b[0;31m    def f(x, y=10, z):\u001b[0m\n\u001b[0m          ^\u001b[0m\n\u001b[0;31mSyntaxError\u001b[0m\u001b[0;31m:\u001b[0m non-default argument follows default argument\n"
     ]
    }
   ],
   "source": [
    "def f(x, y=10, z):\n",
    "    return x**y/z"
   ]
  },
  {
   "cell_type": "markdown",
   "id": "634d00d8-bdd5-43f8-a1c5-d33247474e1f",
   "metadata": {},
   "source": [
    "A fenti példának az ```y``` tagnak van alapértelmezett értéke, ezért az utána következő ```z```-nek is muszáj, hogy legyen. Hasonló módon ez sem fog működni:"
   ]
  },
  {
   "cell_type": "code",
   "execution_count": 78,
   "id": "df532d22-50eb-4363-b380-3e09e09af53a",
   "metadata": {},
   "outputs": [
    {
     "ename": "SyntaxError",
     "evalue": "non-default argument follows default argument (2813520852.py, line 1)",
     "output_type": "error",
     "traceback": [
      "\u001b[0;36m  Cell \u001b[0;32mIn[78], line 1\u001b[0;36m\u001b[0m\n\u001b[0;31m    def f(x=1, y, z):\u001b[0m\n\u001b[0m          ^\u001b[0m\n\u001b[0;31mSyntaxError\u001b[0m\u001b[0;31m:\u001b[0m non-default argument follows default argument\n"
     ]
    }
   ],
   "source": [
    "def f(x=1, y, z):\n",
    "    return x**y/z"
   ]
  },
  {
   "cell_type": "markdown",
   "id": "e6e481ff-8007-4d1e-b421-5dad25d881b3",
   "metadata": {},
   "source": [
    "Itt az ```x```-nek van alapértelmezett értéke, ezért minden utána következőnek is kell, hogy legyen. Tehát az ```y```-nak is és a ```z```-nek is."
   ]
  },
  {
   "cell_type": "markdown",
   "id": "2631039b-e82b-441e-aca5-915c4eb07ad0",
   "metadata": {},
   "source": [
    "Felmerülhet még egy kérdés! Tekintsünk vissza az első ```f``` függvényre:"
   ]
  },
  {
   "cell_type": "code",
   "execution_count": 79,
   "id": "24494c66-540b-41c0-a3a2-b9343a1fe29f",
   "metadata": {},
   "outputs": [],
   "source": [
    "def f(x, y=10, z=42):\n",
    "    return x**y/z"
   ]
  },
  {
   "cell_type": "markdown",
   "id": "dcbcfb35-3737-4cf9-a397-dc917d3a6eda",
   "metadata": {},
   "source": [
    "Mi van akkor, ha a ```z```-nek az alapértelmezett értékét meg szeretnénk változtatni, de az ```y``` értékét szeretnénk változatlanul hagyni? Mondhatnánk azt, hogy:"
   ]
  },
  {
   "cell_type": "code",
   "execution_count": 80,
   "id": "d3387267-2ddc-480e-8019-fdd417b8b1e8",
   "metadata": {},
   "outputs": [
    {
     "name": "stdout",
     "output_type": "stream",
     "text": [
      "0.03333333333333333\n"
     ]
    }
   ],
   "source": [
    "print(f(1, 10, 30))"
   ]
  },
  {
   "cell_type": "markdown",
   "id": "1d6fe4ad-14ba-4a49-bae0-701e7676dc97",
   "metadata": {},
   "source": [
    "A fenti példában a ```z = 30``` értékkel éltünk, valamint az ```y = 10``` értéket használtuk még. Ez utóbbi megegyezik az ```y``` alapértelmezett értékével, tehát technikailag megoldottuk a feladatot. De azért érezzük, hogy ez így nem a legjobb, hiszen ez már hibázási lehetőséget rejteget. Természetesen van arra is módszer, hogy ha csak egy darab alapértelmezett értékkel rendelkező bemeneti paraméter értékét szeretnénk módosítani.\n",
    "\n",
    "Eddig nem foglalkoztunk vele, de a függvény paraméterezése során van arra is lehetőség, hogy a bemeneti paraméterek értékkkel történő ellátása során jelöljük az egyes paraméterek nevét is. Például:"
   ]
  },
  {
   "cell_type": "code",
   "execution_count": 81,
   "id": "d16e8074-8e90-46ec-baef-aa642d2e0b33",
   "metadata": {},
   "outputs": [
    {
     "name": "stdout",
     "output_type": "stream",
     "text": [
      "0.3333333333333333\n"
     ]
    }
   ],
   "source": [
    "print(f(x=1, y=2, z=3))"
   ]
  },
  {
   "cell_type": "markdown",
   "id": "f53182a6-8268-432b-9872-6b3e76c8be8d",
   "metadata": {},
   "source": [
    "Ezt a módszert kihasználva el tudjuk érni, hogy az ```y``` tagnak ne adjunk értéket, viszont a ```z```-nek igen:"
   ]
  },
  {
   "cell_type": "code",
   "execution_count": 82,
   "id": "d4f204cb-c3e0-4396-bc50-c0214a422845",
   "metadata": {},
   "outputs": [
    {
     "name": "stdout",
     "output_type": "stream",
     "text": [
      "0.03333333333333333\n"
     ]
    }
   ],
   "source": [
    "print(f(1, z=30))"
   ]
  },
  {
   "cell_type": "markdown",
   "id": "2b811e8d-74b2-4199-b497-29921a028724",
   "metadata": {},
   "source": [
    "Ha visszaemlékezünk, akkor a ```print``` függvény esetén pont ugyanezt csináltuk a ```sep``` és az ```end``` tagok esetén.\n",
    "\n",
    "Ezt a módszert kihasználva nem kell foglalkoznunk a paraméterek sorrendjével sem. Így akár ezt is megtehetjük:"
   ]
  },
  {
   "cell_type": "code",
   "execution_count": 83,
   "id": "665581dd-6177-49b2-8c31-d95421f1e47f",
   "metadata": {},
   "outputs": [
    {
     "name": "stdout",
     "output_type": "stream",
     "text": [
      "1.4142135623730951\n"
     ]
    }
   ],
   "source": [
    "print(f(z=1, x=2, y=0.5))"
   ]
  },
  {
   "cell_type": "markdown",
   "id": "f1ed84d3-d57b-4a48-bf1d-5560050a6565",
   "metadata": {},
   "source": [
    "A fenti példában azt látjuk, hogy először a ```z``` változónak, majd az ```x```-nek , végezetük az ```y``` tagnak adtunk értéket. Holott a bemeneti változók sorrendje: ```x```, ```y``` és ```z```. Ezt azért tudjuk megtenni, mert a név alapján jelöljük a változót. Azonban ritka az az  eset, hogy ehhez a jelöléshez folyamadunk. Célszerű azt az  elgondolást követni, hogy először sorrendben felsoroljuk a kötelezően megadandó változók értékeit (az ```f``` függvény esetén ez egyedül az ```x```), majd az opcionális változókat már névvel ellátva paraméterezzük, amelyiket szükséges az adott feladatban. Például:"
   ]
  },
  {
   "cell_type": "code",
   "execution_count": 84,
   "id": "7bd82f40-e4d5-46eb-a846-c8e66d25d83e",
   "metadata": {},
   "outputs": [
    {
     "name": "stdout",
     "output_type": "stream",
     "text": [
      "0.3333333333333333\n",
      "0.023809523809523808\n",
      "1.0\n"
     ]
    }
   ],
   "source": [
    "print(f(1, y=2, z=3))\n",
    "print(f(1, y=2))\n",
    "print(f(1, z=1))"
   ]
  },
  {
   "cell_type": "markdown",
   "id": "6d59328a-f1a9-425d-9e6a-f7115ceea8fd",
   "metadata": {},
   "source": [
    "#### Feladat: Faktoriális\n",
    "\n",
    "Készítsünk függvényt, amely tetszőleges [természetes szám](https://hu.wikipedia.org/wiki/Term%C3%A9szetes_sz%C3%A1mok) esetén képes meghatározni annak [faktoriálisát](https://hu.wikipedia.org/wiki/Faktori%C3%A1lis)."
   ]
  },
  {
   "cell_type": "code",
   "execution_count": 85,
   "id": "3b2d6830-89cf-46c7-9737-7b1d788bf322",
   "metadata": {},
   "outputs": [
    {
     "name": "stdout",
     "output_type": "stream",
     "text": [
      "0! = 1\n",
      "1! = 1\n",
      "2! = 2\n",
      "3! = 6\n",
      "4! = 24\n",
      "5! = 120\n",
      "6! = 720\n",
      "7! = 5040\n",
      "8! = 40320\n",
      "9! = 362880\n"
     ]
    }
   ],
   "source": [
    "# Az n! értéket meghatározó függvény.\n",
    "def fact(n):\n",
    "    # Ha 0 vagy 1 a bemenet, akkor a faktoriális mindenképp 1.\n",
    "    if n <= 1:\n",
    "        return 1\n",
    "    # Az else ággal a 2 vagy nagyobb értékeket kezeljük.\n",
    "    # Bár ide jutunk akkor is, ha negatív az n. Viszont azok már nem természetes számok, ezekkel egyelőre nem foglalkozunk.\n",
    "    else:\n",
    "        # A fact_result változóba kerül a faktoriális értéke.\n",
    "        # Könnyű hibalehetőség, hogy 0 értékkel inicializáljuk, de lássuk  be, hogy utána a szorzások \"nem fognak működni\".\n",
    "        fact_result = 1\n",
    "        # A ciklus segítségével elvégezzük a szorzásokat.\n",
    "        # Az fact_result kezdetben 1, ezt szorozzuk n-nel, utána (n-1)-gyel, és így tovább, végezetül 2-vel szorozzuk.\n",
    "        for i in range(n, 1, -1):\n",
    "            fact_result *= i\n",
    "        return fact_result\n",
    "\n",
    "for i in range(10):\n",
    "    print(f\"{i}! = {fact(i)}\")"
   ]
  },
  {
   "cell_type": "markdown",
   "id": "1fd0fe9f-917c-4182-9d3b-ddc472dbc57e",
   "metadata": {},
   "source": [
    "A ```fact``` függvény bemenetként várja az ```n``` értéket, melynek a faktoriálisat szeretnék meghatáronzi. Ez lesz a visszatérési értékünk. Ha a bemenet 0 vagy 1, akkor a faktoriális mindenképpen 1 lesz. Ezt vizsgáljuk először az elágazás segítségével. Ha más az értéke (azaz 2 vagy nagyobb), akkor a faktoriális számítás szabályai szerint vesszük az egész számok szorzatát 1-től ```n```-ig. Az 1 értékkel való szorzást elkerüljük, és a ```fact_result``` változónak rögtön az ```1``` kezdőértéket adjuk. Ez után a ```for``` ciklussal iterálunk ```n```-től 1-ig visszafelé és minden lépésben az aktuális értékkel (```i```) szorozzuk a ```fact_result``` változó aktuális értékét. A ciklussal azért 1-ig megyünk és nem 0-ig, mert így az utolsó szorzandó érték a 2 lesz. 0-ig is mehetnénk, ebben az esetben ugyanaz lesz a kimenet, de egy felesleges 1-gyel való szorzást még el fogunk végezni.\n",
    "\n",
    "A cikluson belül az iterálást nem csak így hajthatjuk végre. Csinálhatnánk azt is, hogy 2-től iterálunk ```n```-ig. Ebben az esetben a a ciklus fejléce így nézne ki: ```for i in range(2, n+1)```. Nyugodtan kipróbálhatjuk, a végeredmény ugyanaz lesz ebben az esetben is. Most is azért 2-től indulunk és nem 1-től, hogy az 1-gyel való szorzást elkerüljük. Arra érdemes még ügyelni, hogy itt nem ```n```-ig megyünk, hanem ```n+1```-ig. Máskülönben az ```n``` értékkel már nem szoroznánk be a ```fact_result``` értékét. Emlékszünk rá, hogy a ```range``` olyan értékeket generál, melybe az intervallum első eleme már beletartozik, de az utolsó már nem.\n",
    "\n",
    "A fenti kódban annak eldöntésére, hogy az ```n``` értéke 0 vagy 1, a következő logikai vizsgálattal éltünk: ```n == 0 or n == 1```. A feladat sikeressége tekintetében nincs jelentősége, de a gyakorlás végett vegyük észre, hogy ez megint egy olyan vizsgálat amit akár több különféle módon is meg lehet fogalmazni. A fenti vizsgálat helyett akár mondhattuk volna azt is, hogy ```n in (0, 1)```. Ezzel azt vizsgáljuk, hogy az ```n``` értéke benne van e az ```in``` kulcsszó után következő ```tuple``` objektumban, ami a 0 és az 1 értékekből áll. Akár azt is írhatnánk ide, hogy ```n <= 1```. A kimenet szintén nem fog változni. Ez utóbbi vizsgálat azonban mégis más, ezt vegyük észre. Ebben az esetben nem csak a 0 és az 1 értékekre lesz igaz az állítás, hanem a negatív értékekre is. Azt mondtuk, hogy a negatív értékekkel most nem foglalkozunk, elvárjuk, hogy a függévny felhasználója csak természetes számokkal végezze a számítást. Tehát ilyen tekintetben ezzel most nincs baj. Vegyük észre azt is, hogy a három logikai vizsgálat közül az első kettő az ```else``` ágba küldi a negatív értékeket, a harmadik megoldás továbbítja az igaz ágba a 0-nál kisebb számokat. A későbbiek során fogunk látni arra megoldást, hogy például ilyen esetben mit tehetünk akkor, ha a függvény felhasználója rossz bemenettel látja el a függvényt, azaz negatív számot ad meg ```n```-nek.\n",
    "\n",
    "## Rekurzív függvény\n",
    "\n",
    "Láttuk korábban, hogy függvényen belül lehetséges más függvényeket meghívni. Persze ezzel óvatosan bánjunk, nehogy végtelen hívási listát generáljunk. Ha egy függvényen belül meghívhatóak függvények, akkor ebbe önmaga is beletartozik. Tehát van arra is lehetőség, hogy egy függvény önmagát hívja meg. Talán nyilvánvaló, hogy ez jó táptalaja annak, hogy végtelenn hívási listát generáljunk. Azonban kis odafigyeléssel ez elkerülhető, és bizonyos feladatok esetén ez egy nagyon jó módszer a számítás egyszerüsítésére. A faktoriális számítását meg tudjuk oldani olyan módon is, hogy  a függvény mindig önmagát hívja meg a számításhoz:"
   ]
  },
  {
   "cell_type": "code",
   "execution_count": 86,
   "id": "9c08eca9-f490-49a8-a2bb-df6d22f89876",
   "metadata": {},
   "outputs": [
    {
     "name": "stdout",
     "output_type": "stream",
     "text": [
      "0! = 1\n",
      "1! = 1\n",
      "2! = 2\n",
      "3! = 6\n",
      "4! = 24\n",
      "5! = 120\n",
      "6! = 720\n",
      "7! = 5040\n",
      "8! = 40320\n",
      "9! = 362880\n"
     ]
    }
   ],
   "source": [
    "def fact(n):\n",
    "    if n == 0 or n == 1:\n",
    "        return 1\n",
    "    else:\n",
    "        return n * fact(n-1)\n",
    "\n",
    "for i in range(10):\n",
    "    print(f\"{i}! = {fact(i)}\")"
   ]
  },
  {
   "cell_type": "markdown",
   "id": "9ef4651e-3a7f-484d-8e5a-4d0e1ce6b754",
   "metadata": {},
   "source": [
    "A fenti kód ugyanúgy kezdődik, mint az első esetben. Azaz ha ```n``` értéke 0 vagy 1, akkor visszatérünk 1-gyel. A változás az ```else``` ágban keresendő, itt történik a függvény újra hívása. Itt azt mondjuk, hogy térjünk vissza az n és az (n-1)! szorzat eredményével. Könnyen belátható, hogy bármely tetszőleges természetes szám esetén $n! = n \\times (n-1)!$. Tulajdonképpen ezt kell behelyettesítenünk az elágazás ```else``` ágába. Azaz ```return n * fact(n-1)```. Vegyük észre, hogy ezzel nem fogunk végtelen futást generálni, hiszen az ```n-1```-nek köszönhetően előbb-utóbb elérjük az 1 és a 0 értékeket, melyek a ```return 1``` sorhoz fognak vezetni. Ha olyan függvényt készítünk, amely önmaga meghívásával látja el a feladatát, akkor [rekurzív](https://hu.wikipedia.org/wiki/Rekurzi%C3%B3) függvényről beszélünk."
   ]
  },
  {
   "cell_type": "markdown",
   "id": "1ce45b19-f14f-4c0a-8f70-38accf9433e7",
   "metadata": {},
   "source": [
    "#### Feladat: Fibonacci-számok\n",
    "\n",
    "Készítsünk egy rekurzív függvényt, amely képes a [Fibonacci-számok](https://hu.wikipedia.org/wiki/Fibonacci-sz%C3%A1mok) meghatározására. A függvény bemenetként várja az ```n``` értéket, visszatérési értéke legyen az ```n```-edik Fibonacci-szám."
   ]
  },
  {
   "cell_type": "code",
   "execution_count": 87,
   "id": "bfb7f328-b864-4cbe-bd23-015bb64b0092",
   "metadata": {},
   "outputs": [
    {
     "name": "stdout",
     "output_type": "stream",
     "text": [
      "[0, 1, 1, 2, 3, 5, 8, 13, 21, 34, 55, 89, 144, 233, 377, 610, 987, 1597, 2584, 4181, 6765, 10946, 17711, 28657, 46368]\n"
     ]
    }
   ],
   "source": [
    "# Az n-edik Fibonacci-szám kiszámítása. A számítás eredménye lesz a visszatérési érték.\n",
    "# A legkisebb helyes bemenet a 0. Itt most nem foglalkozunk annak kezelésével, hogy ha a felhasználó 0-nál kisebb értéket ad meg.\n",
    "def fibonacci(n):\n",
    "    # A 0 és az 1 esetén a visszatérési érték önmaguk lesz.\n",
    "    if n <= 1:\n",
    "        return n\n",
    "    # A 2 vagy nagyobb értékek esetén az azt megelőző két érték összege lesz az eredmény. Itt történik a rekurzív hívás.\n",
    "    else:\n",
    "        return fibonacci(n-1) + fibonacci(n-2)\n",
    "\n",
    "# Egy list comprehension segítségével iterálunk a [0, 25[ intervallumban és minden i érték esetén vesszük az i-edik Fibonacci--számot.\n",
    "# Tehát a generált fibonacci_numbers lista az első  25 Fibonacci-számot fogja tartalmazni.\n",
    "fibonacci_numbers = [fibonacci(i) for i in range(25)]\n",
    "\n",
    "print(fibonacci_numbers)"
   ]
  },
  {
   "cell_type": "markdown",
   "id": "4f006023-7bb1-4659-a206-6a4ae65a5a77",
   "metadata": {},
   "source": [
    "A fenti kódban azt látjuk, hogy ha a 0. és az 1. elemeket kérjük le, akkor ```n```-nel térünk vissza. Hiszen a Fibonacci sorozat 0. eleme a 0, 1. eleme az 1. Így az ```n``` értékét erre fel tudjuk használni. Vegyük észre, hogy ez a kód megadja a lehetőséget arra is, hogy negatív sorszámot adjunk meg az ```n``` változóval, de a legkisebbb elfogadható érték a 0. Ezzel a problémával itt megint nem foglalkozunk, később látni fogunk erre szép megoldást. Most feltételezzük, hogy csak helyes sorszámot (indexet) ad meg az ```n``` változóban a függvény felhasználója. A sorozat 2. és minden további elemét az előtte lévő két elem összege fogja adni. Azaz ```n >= 2``` esetén az ```n```-edik eleme a sorozatnak az ```(n-1)```-edik elem és az ```(n-2)```-edik elem összege lesz. Azaz itt rekurzívan vesszük ennek a két elemnek az értékét és ezeket összegezzük."
   ]
  }
 ],
 "metadata": {
  "kernelspec": {
   "display_name": "Python 3 (ipykernel)",
   "language": "python",
   "name": "python3"
  },
  "language_info": {
   "codemirror_mode": {
    "name": "ipython",
    "version": 3
   },
   "file_extension": ".py",
   "mimetype": "text/x-python",
   "name": "python",
   "nbconvert_exporter": "python",
   "pygments_lexer": "ipython3",
   "version": "3.8.10"
  }
 },
 "nbformat": 4,
 "nbformat_minor": 5
}
