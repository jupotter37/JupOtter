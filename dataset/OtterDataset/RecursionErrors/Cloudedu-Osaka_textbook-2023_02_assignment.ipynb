{
 "cells": [
  {
   "attachments": {},
   "cell_type": "markdown",
   "metadata": {},
   "source": [
    "# Assingment\n",
    "\n",
    "## ChatGPIとの次のやりとりを参考にして、「末尾再帰」を行う関数を実装せよ\n",
    "\n",
    "* [Tail call - Wikipedia](https://en.wikipedia.org/wiki/Tail_call)\n",
    "  * プログラミング言語で繰り返し実行を行う際に、関数を「末尾再帰」で再帰的に呼び出す実装方法がある。\n",
    "  * 機械的にループに置き換えることができるため、プログラムを高速に実行するための技法として黎明期から活用されてきた。\n",
    "* 以下のやりとりを参考にして、自然数列の和を求める際にガウスが用いたアルゴリズムを「末尾再帰によって実装せよ」。\n",
    "* 他の実装方法との実行時間の比較方法を聞き出せるとなおよい。\n",
    "---"
   ]
  },
  {
   "cell_type": "code",
   "execution_count": null,
   "metadata": {},
   "outputs": [],
   "source": [
    "%env OPENAI_API_KEY sk-..."
   ]
  },
  {
   "cell_type": "code",
   "execution_count": null,
   "metadata": {},
   "outputs": [
    {
     "data": {
      "text/markdown": [
       "ガウスは数学者であり、確率論、統計学、代数学、解析学などの分野で重要な貢献をしています。彼が発見した「正規分布」は、統計学において広く使用されており、自然界や人間の行動の多くの現象をモデル化するために使用されています。また、ガウスの行列消去法は、線形代数の中でも基本的なアルゴリズムの1つとして知られています。"
      ],
      "text/plain": [
       "<IPython.core.display.Markdown object>"
      ]
     },
     "metadata": {},
     "output_type": "display_data"
    }
   ],
   "source": [
    "%%ai_ask\n",
    "ガウスについて"
   ]
  },
  {
   "cell_type": "code",
   "execution_count": null,
   "metadata": {},
   "outputs": [
    {
     "data": {
      "text/markdown": [
       "ガウスの有名な少年時代のエピソードは、「算数和歌」です。ある日、当時10歳のガウスは、学校の先生が児童たちに1から100までの自然数の和を、一瞬で求めるように宿題として出しました。しかし、ガウスはすぐに答えを導き出し、自分が最初に解いた児童だったために驚かれました。彼は自然数を50組に分け、それぞれの組の和を足し合わせることで答えを求めたと言われています。このエピソードから、ガウスは自然数の和の公式を導き出すことになりました。"
      ],
      "text/plain": [
       "<IPython.core.display.Markdown object>"
      ]
     },
     "metadata": {},
     "output_type": "display_data"
    }
   ],
   "source": [
    "%%ai_continue\n",
    "彼の少年時代の有名なエピソードって？"
   ]
  },
  {
   "cell_type": "code",
   "execution_count": null,
   "metadata": {},
   "outputs": [
    {
     "data": {
      "text/markdown": [
       "自然数nまでの和を求める公式は以下のようになります。\n",
       "\n",
       "$$\n",
       "1 + 2 + \\cdots + n = \\frac{n(n+1)}{2}\n",
       "$$\n",
       "\n",
       "これをPythonの関数にすると、以下のようになります。\n",
       "\n",
       "```python\n",
       "def sum_of_natural_numbers(n):\n",
       "    return (n * (n + 1)) // 2\n",
       "```\n",
       "\n",
       "この関数に自然数nを渡すことで、1からnまでの自然数の和を求めることができます。"
      ],
      "text/plain": [
       "<IPython.core.display.Markdown object>"
      ]
     },
     "metadata": {},
     "output_type": "display_data"
    }
   ],
   "source": [
    "%%ai_continue\n",
    "その公式をPythonの関数にすると？"
   ]
  },
  {
   "cell_type": "code",
   "execution_count": null,
   "metadata": {},
   "outputs": [
    {
     "data": {
      "text/markdown": [
       "Jupyter Notebookのインストールや起動方法、セルなど基本的な操作についてはすでに理解しているものとします。\n",
       "\n",
       "以下の手順で、先ほどのPython関数をJupyter Notebook上で実行することができます。\n",
       "\n",
       "1. 新しいセルを作成します。\n",
       "2. 関数を入力します。例えば、以下のようにします。\n",
       "\n",
       "```python\n",
       "def sum_of_natural_numbers(n):\n",
       "    return (n * (n + 1)) // 2\n",
       "```\n",
       "\n",
       "3. 関数を実行するために、任意の自然数を引数として渡します。以下のようにセルを書き換え、実行してみます。\n",
       "\n",
       "```python\n",
       "print(sum_of_natural_numbers(100))\n",
       "```\n",
       "\n",
       "4. `Shift + Enter`キーを押すと、セルが実行され、結果が出力されます。この場合、`5050`と出力されます。\n",
       "\n",
       "詳細については、Jupyter Notebookのドキュメントを参照してください。"
      ],
      "text/plain": [
       "<IPython.core.display.Markdown object>"
      ]
     },
     "metadata": {},
     "output_type": "display_data"
    }
   ],
   "source": [
    "%%ai_continue\n",
    "Jupyterでの具体的な実行の仕方は？"
   ]
  },
  {
   "cell_type": "code",
   "execution_count": null,
   "metadata": {},
   "outputs": [],
   "source": [
    "def sum_of_natural_numbers(n):\n",
    "    return (n * (n + 1)) // 2"
   ]
  },
  {
   "cell_type": "code",
   "execution_count": null,
   "metadata": {},
   "outputs": [
    {
     "name": "stdout",
     "output_type": "stream",
     "text": [
      "5050\n"
     ]
    }
   ],
   "source": [
    "print(sum_of_natural_numbers(100))"
   ]
  },
  {
   "cell_type": "code",
   "execution_count": null,
   "metadata": {},
   "outputs": [
    {
     "data": {
      "text/markdown": [
       "はい、Pythonのループ構文を使って、自然数の和を求める関数をプログラムらしく書くことができます。以下は、`for`ループを用いた例です。\n",
       "\n",
       "```python\n",
       "def sum_of_natural_numbers(n):\n",
       "    result = 0\n",
       "    for i in range(1, n + 1):\n",
       "        result += i\n",
       "    return result\n",
       "```\n",
       "\n",
       "この関数では、`range(1, n+1)`を使って1からnまでの自然数が順番に生成され、`for`ループでそれぞれを取り出しています。そして、取り出した自然数を`result`変数に足し合わせていくことで、nまでの自然数の和を求めています。\n",
       "\n",
       "また、`while`文を用いても同様の処理を実現することができます。以下は、`while`文を使った例です。\n",
       "\n",
       "```python\n",
       "def sum_of_natural_numbers(n):\n",
       "    result, i = 0, 1\n",
       "    while i <= n:\n",
       "        result += i\n",
       "        i += 1\n",
       "    return result\n",
       "```\n",
       "\n",
       "`while`文を使った場合、`i`を初期値1で設定し、ループ内で`<=`演算子を使ってnより小さい間だけ処理を繰り返しています。ループ内では、自然数を`result`変数に加え、`i`に1を足していきます。\n",
       "\n",
       "どちらの例でも、Pythonのループ構文を使って自然数の和を求めることができます。"
      ],
      "text/plain": [
       "<IPython.core.display.Markdown object>"
      ]
     },
     "metadata": {},
     "output_type": "display_data"
    }
   ],
   "source": [
    "%%ai_continue\n",
    "ループを使ってプログラムらしく書ける？"
   ]
  },
  {
   "cell_type": "code",
   "execution_count": null,
   "metadata": {},
   "outputs": [
    {
     "data": {
      "text/markdown": [
       "Pythonのループは、他の言語に比べると比較的遅いとされていますが、最適化することで高速化することができます。以下に例を示します。\n",
       "\n",
       "1. リスト内包表記を使う\n",
       "\n",
       "リスト内包表記を使うと、単純なループ処理を高速化することができます。例えば、以下のようなループ処理:\n",
       "\n",
       "```python\n",
       "squares = []\n",
       "for i in range(10):\n",
       "    squares.append(i**2)\n",
       "```\n",
       "\n",
       "は、以下のようにリスト内包表記を使って高速化することができます。\n",
       "\n",
       "```python\n",
       "squares = [i**2 for i in range(10)]\n",
       "```\n",
       "\n",
       "2. range()の代わりに xrange()を使う\n",
       "\n",
       "`range()`は新しいリストを生成するため、大量のループ処理をする場合には遅くなることがあります。そのため、Python 2系の場合、代わりに`xrange()`を使うことができます。`xrange()`は`range()`と同様に整数のシーケンスを返しますが、リストを作成せず、各ループで値を生成します。\n",
       "\n",
       "3. 処理をCythonなどで書き直す\n",
       "\n",
       "Pythonはインタプリタ言語であるため、繰り返し処理の部分をCythonなどでコンパイルしたコードに書き直すこともできます。これにより、処理速度を劇的に改善することができます。\n",
       "\n",
       "以上のように最適化することで、Pythonのループ処理を高速化することができます。ただし、最適化の方法には注意が必要です。特に、最適化がプログラムの動作に影響を与えることがあるため、正しく動作することを確認する必要があります。"
      ],
      "text/plain": [
       "<IPython.core.display.Markdown object>"
      ]
     },
     "metadata": {},
     "output_type": "display_data"
    }
   ],
   "source": [
    "%%ai_continue\n",
    "Pythonのループは遅いと言いますが、早くできますか？"
   ]
  },
  {
   "cell_type": "code",
   "execution_count": null,
   "metadata": {},
   "outputs": [
    {
     "data": {
      "text/markdown": [
       "先ほどのガウスの例を、リスト内包表記を使って書き直すことができます。以下は、その例です。\n",
       "\n",
       "```python\n",
       "def sum_of_natural_numbers(n):\n",
       "    return sum([i for i in range(1, n+1)])\n",
       "```\n",
       "\n",
       "この関数では、`range(1, n+1)`で1からnまでの自然数のシーケンスを生成し、それを`[i for i in range(1, n+1)]`のようなリスト内包表記を使ってリストに変換します。そして、`sum()`関数を用いて、リストの中身を全て足し合わせています。 \n",
       "\n",
       "※この場合、リストを明示的に作成する必要があるため、処理が遅くなる可能性があります。"
      ],
      "text/plain": [
       "<IPython.core.display.Markdown object>"
      ]
     },
     "metadata": {},
     "output_type": "display_data"
    }
   ],
   "source": [
    "%%ai_continue\n",
    "ガウスの例をリスト内包表記を使って書き直して"
   ]
  },
  {
   "cell_type": "code",
   "execution_count": null,
   "metadata": {},
   "outputs": [
    {
     "data": {
      "text/markdown": [
       "はい、numpyを使うことで、リスト内包表記を使った方法よりも高速に自然数の和を求めることができます。\n",
       "\n",
       "numpyは高速な数値計算ライブラリであり、Cで実装された関数をPythonで使用することができます。以下は、numpyを使った例です。\n",
       "\n",
       "```python\n",
       "import numpy as np\n",
       "\n",
       "def sum_of_natural_numbers(n):\n",
       "    return np.sum(np.arange(1, n + 1))\n",
       "```\n",
       "\n",
       "この関数では、`np.arange(1, n + 1)`で1からnまでの自然数のシーケンスを生成し、`np.sum()`関数を用いて、リストの中身を全て足し合わせています。\n",
       "\n",
       "numpyの速度は、Pythonのリスト内包表記やforループなどに比べて非常に高速であり、大量の数値計算が必要な場合にとても役立ちます。このため、numpyは科学技術計算や機械学習、データ解析などの分野でもよく使われています。"
      ],
      "text/plain": [
       "<IPython.core.display.Markdown object>"
      ]
     },
     "metadata": {},
     "output_type": "display_data"
    }
   ],
   "source": [
    "%%ai_continue\n",
    "numpyを使ったら早くなる？"
   ]
  },
  {
   "cell_type": "code",
   "execution_count": null,
   "metadata": {},
   "outputs": [
    {
     "data": {
      "text/markdown": [
       "はい、numpyを使う場合と使わない場合で速度を比較することができます。以下のように、Pythonの`time`モジュールを使って、二つの関数の実行時間を計測することができます。\n",
       "\n",
       "```python\n",
       "import time\n",
       "import numpy as np\n",
       "\n",
       "# リスト内包表記を使った関数\n",
       "def sum_of_natural_numbers_list(n):\n",
       "    return sum([i for i in range(1, n+1)])\n",
       "\n",
       "# numpyを使った関数\n",
       "def sum_of_natural_numbers_numpy(n):\n",
       "    return np.sum(np.arange(1, n+1))\n",
       "\n",
       "# 計測開始\n",
       "start = time.time()\n",
       "sum_of_natural_numbers_list(10000000)\n",
       "end = time.time()\n",
       "print(\"リスト内包表記: %f秒\" % (end - start))\n",
       "\n",
       "start = time.time()\n",
       "sum_of_natural_numbers_numpy(10000000)\n",
       "end = time.time()\n",
       "print(\"numpy: %f秒\" % (end - start))\n",
       "```\n",
       "\n",
       "このように、`time`モジュールを使って関数の実行時間を計測して、結果を比較することができます。\n",
       "\n",
       "ただし、計測結果は環境によっても異なるため、複数回実行して平均を取るなど、注意深く実験する必要があります。"
      ],
      "text/plain": [
       "<IPython.core.display.Markdown object>"
      ]
     },
     "metadata": {},
     "output_type": "display_data"
    }
   ],
   "source": [
    "%%ai_continue\n",
    "numpyを使う場合と使わない場合で速さを比べることはできる？"
   ]
  },
  {
   "cell_type": "code",
   "execution_count": null,
   "metadata": {},
   "outputs": [
    {
     "name": "stdout",
     "output_type": "stream",
     "text": [
      "リスト内包表記: 0.809060秒\n",
      "numpy: 0.058057秒\n"
     ]
    }
   ],
   "source": [
    "import time\n",
    "import numpy as np\n",
    "\n",
    "# リスト内包表記を使った関数\n",
    "def sum_of_natural_numbers_list(n):\n",
    "    return sum([i for i in range(1, n+1)])\n",
    "\n",
    "# numpyを使った関数\n",
    "def sum_of_natural_numbers_numpy(n):\n",
    "    return np.sum(np.arange(1, n+1))\n",
    "\n",
    "# 計測開始\n",
    "start = time.time()\n",
    "sum_of_natural_numbers_list(10000000)\n",
    "end = time.time()\n",
    "print(\"リスト内包表記: %f秒\" % (end - start))\n",
    "\n",
    "start = time.time()\n",
    "sum_of_natural_numbers_numpy(10000000)\n",
    "end = time.time()\n",
    "print(\"numpy: %f秒\" % (end - start))"
   ]
  },
  {
   "cell_type": "code",
   "execution_count": null,
   "metadata": {},
   "outputs": [],
   "source": []
  },
  {
   "cell_type": "code",
   "execution_count": null,
   "metadata": {},
   "outputs": [],
   "source": []
  },
  {
   "cell_type": "code",
   "execution_count": null,
   "metadata": {},
   "outputs": [],
   "source": []
  },
  {
   "attachments": {},
   "cell_type": "markdown",
   "metadata": {},
   "source": [
    "---\n",
    "## 解説"
   ]
  },
  {
   "cell_type": "code",
   "execution_count": 1,
   "metadata": {
    "tags": []
   },
   "outputs": [
    {
     "data": {
      "text/markdown": [
       "以下は、自然数列の足し算を末尾再帰によって実装したPythonのプログラムです。\n",
       "\n",
       "```python\n",
       "def sum_natural_numbers(n, acc=0):\n",
       "    if n == 0:\n",
       "        return acc\n",
       "    else:\n",
       "        return sum_natural_numbers(n-1, acc+n)\n",
       "```\n",
       "\n",
       "このプログラムでは、`n` が0になるまで再帰的に呼び出しを行い、その際に現在の合計値を `acc` として渡しています。再帰呼び出しの際には、現在の `n` の値を1減らし、`acc` に `n` を加えた値を次の呼び出しに渡しています。最終的に `n` が0になったときには、`acc` の値が自然数列の合計値として返されます。"
      ],
      "text/plain": [
       "<IPython.core.display.Markdown object>"
      ]
     },
     "metadata": {},
     "output_type": "display_data"
    }
   ],
   "source": [
    "%%ai_ask\n",
    "自然数列の足し算を行うPythonのプログラムを末尾再帰によって実装してください"
   ]
  },
  {
   "cell_type": "code",
   "execution_count": 2,
   "metadata": {
    "tags": []
   },
   "outputs": [
    {
     "data": {
      "text/markdown": [
       "以下は、先ほどの自然数列の足し算を末尾再帰によって実装したPythonのプログラムをユニットテストするためのプログラムの例です。\n",
       "\n",
       "```python\n",
       "import unittest\n",
       "\n",
       "class TestSumNaturalNumbers(unittest.TestCase):\n",
       "    \n",
       "    def test_sum_natural_numbers(self):\n",
       "        self.assertEqual(sum_natural_numbers(0), 0)\n",
       "        self.assertEqual(sum_natural_numbers(1), 1)\n",
       "        self.assertEqual(sum_natural_numbers(5), 15)\n",
       "        self.assertEqual(sum_natural_numbers(10), 55)\n",
       "        self.assertEqual(sum_natural_numbers(100), 5050)\n",
       "\n",
       "if __name__ == '__main__':\n",
       "    unittest.main()\n",
       "```\n",
       "\n",
       "このプログラムでは、`unittest` モジュールを使用して `sum_natural_numbers` 関数をテストしています。`TestSumNaturalNumbers` クラスの `test_sum_natural_numbers` メソッドでは、`sum_natural_numbers` 関数に対していくつかの入力値を与え、期待される出力値と一致するかどうかを `assertEqual` メソッドで検証しています。最後に、`unittest.main()` を呼び出すことで、テストを実行します。"
      ],
      "text/plain": [
       "<IPython.core.display.Markdown object>"
      ]
     },
     "metadata": {},
     "output_type": "display_data"
    }
   ],
   "source": [
    "%%ai_continue\n",
    "このプログラムをユニットテストするためのプログラムを提案してください"
   ]
  },
  {
   "cell_type": "code",
   "execution_count": 4,
   "metadata": {
    "tags": []
   },
   "outputs": [
    {
     "data": {
      "text/markdown": [
       "以下は、Jupyter Notebookで実行可能な、先ほどの自然数列の足し算を末尾再帰によって実装したPythonのプログラムをユニットテストするためのプログラムの例です。\n",
       "\n",
       "```python\n",
       "import unittest\n",
       "\n",
       "def sum_natural_numbers(n, acc=0):\n",
       "    if n == 0:\n",
       "        return acc\n",
       "    else:\n",
       "        return sum_natural_numbers(n-1, acc+n)\n",
       "\n",
       "class TestSumNaturalNumbers(unittest.TestCase):\n",
       "    \n",
       "    def test_sum_natural_numbers(self):\n",
       "        self.assertEqual(sum_natural_numbers(0), 0)\n",
       "        self.assertEqual(sum_natural_numbers(1), 1)\n",
       "        self.assertEqual(sum_natural_numbers(5), 15)\n",
       "        self.assertEqual(sum_natural_numbers(10), 55)\n",
       "        self.assertEqual(sum_natural_numbers(100), 5050)\n",
       "\n",
       "if __name__ == '__main__':\n",
       "    unittest.main(argv=['first-arg-is-ignored'], exit=False)\n",
       "```\n",
       "\n",
       "このプログラムでは、先ほどのプログラムに加えて、`unittest.main()` の引数に `argv=['first-arg-is-ignored'], exit=False` を指定しています。これにより、Jupyter Notebook上でテストを実行した際にエラーが発生しないようにしています。また、テスト結果を表示するためには、`unittest.main()` の戻り値を `unittest.TextTestRunner()` に渡して、`run()` メソッドを呼び出すことで表示することができます。\n",
       "\n",
       "```python\n",
       "runner = unittest.TextTestRunner()\n",
       "runner.run(unittest.TestLoader().loadTestsFromTestCase(TestSumNaturalNumbers))\n",
       "```\n",
       "\n",
       "このようにすることで、Jupyter Notebook上でテストを実行することができます。"
      ],
      "text/plain": [
       "<IPython.core.display.Markdown object>"
      ]
     },
     "metadata": {},
     "output_type": "display_data"
    }
   ],
   "source": [
    "%%ai_continue\n",
    "jupyterで実行出来るように配慮してください"
   ]
  },
  {
   "cell_type": "code",
   "execution_count": 5,
   "metadata": {
    "tags": []
   },
   "outputs": [
    {
     "name": "stderr",
     "output_type": "stream",
     "text": [
      ".\n",
      "----------------------------------------------------------------------\n",
      "Ran 1 test in 0.001s\n",
      "\n",
      "OK\n"
     ]
    }
   ],
   "source": [
    "import unittest\n",
    "\n",
    "def sum_natural_numbers(n, acc=0):\n",
    "    if n == 0:\n",
    "        return acc\n",
    "    else:\n",
    "        return sum_natural_numbers(n-1, acc+n)\n",
    "\n",
    "class TestSumNaturalNumbers(unittest.TestCase):\n",
    "    \n",
    "    def test_sum_natural_numbers(self):\n",
    "        self.assertEqual(sum_natural_numbers(0), 0)\n",
    "        self.assertEqual(sum_natural_numbers(1), 1)\n",
    "        self.assertEqual(sum_natural_numbers(5), 15)\n",
    "        self.assertEqual(sum_natural_numbers(10), 55)\n",
    "        self.assertEqual(sum_natural_numbers(100), 5050)\n",
    "\n",
    "if __name__ == '__main__':\n",
    "    unittest.main(argv=['first-arg-is-ignored'], exit=False)"
   ]
  },
  {
   "cell_type": "code",
   "execution_count": 6,
   "metadata": {
    "tags": []
   },
   "outputs": [
    {
     "data": {
      "text/markdown": [
       "Pythonには、末尾再帰の最適化が行われないため、再帰的な処理を行う場合にはスタックオーバーフローが発生する可能性があります。そのため、Pythonでは末尾再帰を使ったプログラムが高速に実行されるわけではありません。\n",
       "\n",
       "ただし、Pythonにはジェネレータという機能があり、これを使うことで末尾再帰に近い形で再帰的な処理を行うことができます。ジェネレータを使った場合、スタックオーバーフローの心配がなく、また、メモリ使用量も少なくなるため、高速に処理を行うことができます。\n",
       "\n",
       "以下は、ジェネレータを使った自然数列の足し算のプログラムの例です。\n",
       "\n",
       "```python\n",
       "def sum_natural_numbers(n):\n",
       "    def _sum_natural_numbers(n, acc):\n",
       "        if n == 0:\n",
       "            yield acc\n",
       "        else:\n",
       "            yield from _sum_natural_numbers(n-1, acc+n)\n",
       "    return next(_sum_natural_numbers(n, 0))\n",
       "```\n",
       "\n",
       "このプログラムでは、ジェネレータを使って再帰的な処理を行っています。`_sum_natural_numbers` 関数はジェネレータとして定義されており、`yield` 文を使って値を返しています。`sum_natural_numbers` 関数では、`_sum_natural_numbers` 関数を呼び出してジェネレータを取得し、`next` 関数を使ってジェネレータから値を取得しています。\n",
       "\n",
       "このプログラムを使って、自然数列の足し算を計算する場合、以下のように呼び出すことができます。\n",
       "\n",
       "```python\n",
       "print(sum_natural_numbers(1000000))\n",
       "```\n",
       "\n",
       "このように、ジェネレータを使った場合でも、Pythonの再帰的な処理は遅いため、大きな数値を扱う場合には注意が必要です。"
      ],
      "text/plain": [
       "<IPython.core.display.Markdown object>"
      ]
     },
     "metadata": {},
     "output_type": "display_data"
    }
   ],
   "source": [
    "%%ai_continue\n",
    "末尾再帰のプログラムは高速に実行出来るといわれますが、pythonでもそうか確認したい"
   ]
  },
  {
   "cell_type": "code",
   "execution_count": 7,
   "metadata": {
    "tags": []
   },
   "outputs": [
    {
     "data": {
      "text/markdown": [
       "以下は、通常のループを使った自然数列の足し算のプログラムの例です。\n",
       "\n",
       "```python\n",
       "def sum_natural_numbers(n):\n",
       "    acc = 0\n",
       "    for i in range(1, n+1):\n",
       "        acc += i\n",
       "    return acc\n",
       "```\n",
       "\n",
       "このプログラムでは、`for` ループを使って自然数列の足し算を計算しています。`range` 関数を使って、1からnまでの自然数の範囲を指定し、ループ内で `acc` 変数に自然数を加算しています。\n",
       "\n",
       "このプログラムを使って、自然数列の足し算を計算する場合、以下のように呼び出すことができます。\n",
       "\n",
       "```python\n",
       "print(sum_natural_numbers(1000000))\n",
       "```\n",
       "\n",
       "通常のループを使った場合でも、ジェネレータを使った場合と比較して高速に処理を行うことができます。ただし、大きな数値を扱う場合には、計算時間がかかる可能性があるため、注意が必要です。"
      ],
      "text/plain": [
       "<IPython.core.display.Markdown object>"
      ]
     },
     "metadata": {},
     "output_type": "display_data"
    }
   ],
   "source": [
    "%%ai_continue\n",
    "通常のループを使った実装と比較するプログラムを教えてください"
   ]
  },
  {
   "cell_type": "code",
   "execution_count": 8,
   "metadata": {
    "tags": []
   },
   "outputs": [
    {
     "data": {
      "text/markdown": [
       "以下は、先ほどの3つの自然数列の足し算のプログラムをベンチマークするためのプログラムの例です。\n",
       "\n",
       "```python\n",
       "import timeit\n",
       "\n",
       "def sum_natural_numbers_recursive(n, acc=0):\n",
       "    if n == 0:\n",
       "        return acc\n",
       "    else:\n",
       "        return sum_natural_numbers_recursive(n-1, acc+n)\n",
       "\n",
       "def sum_natural_numbers_generator(n):\n",
       "    def _sum_natural_numbers(n, acc):\n",
       "        if n == 0:\n",
       "            yield acc\n",
       "        else:\n",
       "            yield from _sum_natural_numbers(n-1, acc+n)\n",
       "    return next(_sum_natural_numbers(n, 0))\n",
       "\n",
       "def sum_natural_numbers_loop(n):\n",
       "    acc = 0\n",
       "    for i in range(1, n+1):\n",
       "        acc += i\n",
       "    return acc\n",
       "\n",
       "n = 1000000\n",
       "\n",
       "t_recursive = timeit.timeit(lambda: sum_natural_numbers_recursive(n), number=100)\n",
       "t_generator = timeit.timeit(lambda: sum_natural_numbers_generator(n), number=100)\n",
       "t_loop = timeit.timeit(lambda: sum_natural_numbers_loop(n), number=100)\n",
       "\n",
       "print(f\"Recursive: {t_recursive:.6f} sec\")\n",
       "print(f\"Generator: {t_generator:.6f} sec\")\n",
       "print(f\"Loop: {t_loop:.6f} sec\")\n",
       "```\n",
       "\n",
       "このプログラムでは、`timeit` モジュールを使って、それぞれの自然数列の足し算のプログラムを100回実行し、実行時間を計測しています。計測結果は、それぞれのプログラムの実行時間を秒単位で表示しています。\n",
       "\n",
       "このようにすることで、それぞれのプログラムの実行時間を比較することができます。ただし、計測結果は環境によって異なるため、複数回実行して平均値を取るなどして、より正確な結果を得ることが望ましいです。"
      ],
      "text/plain": [
       "<IPython.core.display.Markdown object>"
      ]
     },
     "metadata": {},
     "output_type": "display_data"
    }
   ],
   "source": [
    "%%ai_continue\n",
    "これらをベンチマークをするためのプログラムを教えてください"
   ]
  },
  {
   "cell_type": "code",
   "execution_count": 13,
   "metadata": {
    "tags": []
   },
   "outputs": [
    {
     "name": "stdout",
     "output_type": "stream",
     "text": [
      "Recursive: 0.015859 sec\n",
      "Generator: 0.034208 sec\n",
      "Loop: 0.004420 sec\n"
     ]
    }
   ],
   "source": [
    "import timeit\n",
    "\n",
    "def sum_natural_numbers_recursive(n, acc=0):\n",
    "    if n == 0:\n",
    "        return acc\n",
    "    else:\n",
    "        return sum_natural_numbers_recursive(n-1, acc+n)\n",
    "\n",
    "def sum_natural_numbers_generator(n):\n",
    "    def _sum_natural_numbers(n, acc):\n",
    "        if n == 0:\n",
    "            yield acc\n",
    "        else:\n",
    "            yield from _sum_natural_numbers(n-1, acc+n)\n",
    "    return next(_sum_natural_numbers(n, 0))\n",
    "\n",
    "def sum_natural_numbers_loop(n):\n",
    "    acc = 0\n",
    "    for i in range(1, n+1):\n",
    "        acc += i\n",
    "    return acc\n",
    "\n",
    "n = 1000\n",
    "\n",
    "t_recursive = timeit.timeit(lambda: sum_natural_numbers_recursive(n), number=100)\n",
    "t_generator = timeit.timeit(lambda: sum_natural_numbers_generator(n), number=100)\n",
    "t_loop = timeit.timeit(lambda: sum_natural_numbers_loop(n), number=100)\n",
    "\n",
    "print(f\"Recursive: {t_recursive:.6f} sec\")\n",
    "print(f\"Generator: {t_generator:.6f} sec\")\n",
    "print(f\"Loop: {t_loop:.6f} sec\")"
   ]
  },
  {
   "cell_type": "code",
   "execution_count": 11,
   "metadata": {
    "tags": []
   },
   "outputs": [
    {
     "data": {
      "text/markdown": [
       "Pythonで再帰呼び出しできる回数には上限があります。デフォルトでは、Pythonの再帰呼び出しの上限は1000回に設定されています。これは、Pythonのスタックサイズによって決まっています。\n",
       "\n",
       "ただし、この上限は変更することができます。`sys.setrecursionlimit()` 関数を使って、再帰呼び出しの上限を変更することができます。ただし、上限を増やしすぎると、スタックオーバーフローが発生する可能性があるため、注意が必要です。\n",
       "\n",
       "以下は、再帰呼び出しの上限を増やす例です。\n",
       "\n",
       "```python\n",
       "import sys\n",
       "\n",
       "sys.setrecursionlimit(10000)\n",
       "```\n",
       "\n",
       "このようにすることで、再帰呼び出しの上限を10000回に増やすことができます。ただし、上限を増やす場合には、十分なメモリが確保されていることを確認する必要があります。"
      ],
      "text/plain": [
       "<IPython.core.display.Markdown object>"
      ]
     },
     "metadata": {},
     "output_type": "display_data"
    }
   ],
   "source": [
    "%%ai_continue\n",
    "\"RecursionError: maximum recursion depth exceeded in comparison\" というエラーになりますが、Pythonで再帰呼び出しできるのは何回までですか？"
   ]
  },
  {
   "cell_type": "code",
   "execution_count": null,
   "metadata": {},
   "outputs": [],
   "source": []
  }
 ],
 "metadata": {
  "kernelspec": {
   "display_name": "Python 3 (ipykernel)",
   "language": "python",
   "name": "python3"
  },
  "language_info": {
   "codemirror_mode": {
    "name": "ipython",
    "version": 3
   },
   "file_extension": ".py",
   "mimetype": "text/x-python",
   "name": "python",
   "nbconvert_exporter": "python",
   "pygments_lexer": "ipython3",
   "version": "3.10.10"
  }
 },
 "nbformat": 4,
 "nbformat_minor": 4
}
