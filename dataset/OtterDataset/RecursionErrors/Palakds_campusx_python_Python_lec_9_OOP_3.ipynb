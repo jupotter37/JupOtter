{
  "nbformat": 4,
  "nbformat_minor": 0,
  "metadata": {
    "colab": {
      "provenance": [],
      "authorship_tag": "ABX9TyNiJphMcYfm9yMwug22cuUw",
      "include_colab_link": true
    },
    "kernelspec": {
      "name": "python3",
      "display_name": "Python 3"
    },
    "language_info": {
      "name": "python"
    }
  },
  "cells": [
    {
      "cell_type": "markdown",
      "metadata": {
        "id": "view-in-github",
        "colab_type": "text"
      },
      "source": [
        "<a href=\"https://colab.research.google.com/github/Palakds/campusx_python/blob/main/Python_lec_9_OOP_3.ipynb\" target=\"_parent\"><img src=\"https://colab.research.google.com/assets/colab-badge.svg\" alt=\"Open In Colab\"/></a>"
      ]
    },
    {
      "cell_type": "markdown",
      "source": [
        "## Class Relationships\n",
        "* Aggregation\n",
        "* Inheritance\n"
      ],
      "metadata": {
        "id": "F5OynAfqoJ9F"
      }
    },
    {
      "cell_type": "markdown",
      "source": [
        "## Aggregation(Has a Relationship)"
      ],
      "metadata": {
        "id": "aoGh742_oS5S"
      }
    },
    {
      "cell_type": "code",
      "execution_count": null,
      "metadata": {
        "colab": {
          "base_uri": "https://localhost:8080/"
        },
        "id": "k5a91WuvnRfB",
        "outputId": "ad1d074c-73e9-43c3-98a0-bc6188e661ac"
      },
      "outputs": [
        {
          "output_type": "stream",
          "name": "stdout",
          "text": [
            "delhi 110001 delhi\n",
            "mumbai 400001 maharashtra\n"
          ]
        }
      ],
      "source": [
        "#example\n",
        "class Customer:\n",
        "  def __init__(self,name,gender,address):\n",
        "    self.name = name\n",
        "    self.gender = gender\n",
        "    self.address = address\n",
        "\n",
        "  def print_address(self):\n",
        "    print(self.address.get_city(),self.address.pin,self.address.state)\n",
        "\n",
        "\n",
        "  def edit_profile(self,new_name,new_city,new_pin,new_state):\n",
        "    self.name = new_name\n",
        "    self.address.edit_address(new_city,new_pin,new_state)\n",
        "\n",
        "\n",
        "class Address:\n",
        "  def __init__(self,city,pin,state):\n",
        "    self.__city = city\n",
        "    self.pin = pin\n",
        "    self.state = state\n",
        "\n",
        "  def get_city(self):\n",
        "    return self.__city\n",
        "\n",
        "  def edit_address(self,new_city,new_pin,new_state):\n",
        "    self.__city = new_city\n",
        "    self.pin = new_pin\n",
        "    self.state = new_state\n",
        "\n",
        "add1 = Address('delhi',110001,'delhi')\n",
        "cust = Customer('palak','female',add1)\n",
        "cust.print_address()\n",
        "\n",
        "cust.edit_profile('kanika','mumbai',400001,'maharashtra')\n",
        "cust.print_address()"
      ]
    },
    {
      "cell_type": "markdown",
      "source": [
        "## Aggregation class diagram"
      ],
      "metadata": {
        "id": "0ilnDIdEv3-D"
      }
    },
    {
      "cell_type": "markdown",
      "source": [
        "### Inheritance\n",
        "\n",
        "- What is inheritance\n",
        "- Example\n",
        "- What gets inherited?"
      ],
      "metadata": {
        "id": "ftkzTkLv64OS"
      }
    },
    {
      "cell_type": "code",
      "source": [
        "# Example\n",
        "class User:\n",
        "  def __init__(self):\n",
        "    self.name = 'palak'\n",
        "    self.gender = 'female'\n",
        "\n",
        "  def login(self):\n",
        "    print('login')\n",
        "\n",
        "#child\n",
        "class Student(User):\n",
        "\n",
        "  def enroll(self):\n",
        "    print('enroll into the course')\n",
        "\n",
        "u = User()\n",
        "s = Student()\n",
        "\n",
        "print(s.name)\n",
        "s.login()\n",
        "s.enroll()"
      ],
      "metadata": {
        "colab": {
          "base_uri": "https://localhost:8080/"
        },
        "id": "2ajq0szipHMa",
        "outputId": "e872175d-db64-4f13-c30e-db9a039e9bc3"
      },
      "execution_count": null,
      "outputs": [
        {
          "output_type": "stream",
          "name": "stdout",
          "text": [
            "palak\n",
            "login\n",
            "enroll into the course\n"
          ]
        }
      ]
    },
    {
      "cell_type": "markdown",
      "source": [
        "##### What gets inherited?\n",
        "\n",
        "- Constructor\n",
        "- Non Private Attributes\n",
        "- Non Private Methods"
      ],
      "metadata": {
        "id": "CJEPRGHGPY9n"
      }
    },
    {
      "cell_type": "code",
      "source": [
        "# constructor example\n",
        "\n",
        "class Phone:\n",
        "    def __init__(self, price, brand, camera):\n",
        "        print (\"Inside phone constructor\")\n",
        "        self.price = price\n",
        "        self.brand = brand\n",
        "        self.camera = camera\n",
        "\n",
        "    def buy(self):\n",
        "        print (\"Buying a phone\")\n",
        "\n",
        "class SmartPhone(Phone):\n",
        "    pass\n",
        "\n",
        "s=SmartPhone(20000, \"Apple\", 13)\n",
        "s.buy()"
      ],
      "metadata": {
        "colab": {
          "base_uri": "https://localhost:8080/"
        },
        "id": "7ikeVJGmpHOw",
        "outputId": "4db75d85-d627-406d-9b11-c09611701d35"
      },
      "execution_count": null,
      "outputs": [
        {
          "output_type": "stream",
          "name": "stdout",
          "text": [
            "Inside phone constructor\n",
            "Buying a phone\n"
          ]
        }
      ]
    },
    {
      "cell_type": "code",
      "source": [
        "# constructor example 2\n",
        "\n",
        "class Phone:\n",
        "    def __init__(self, price, brand, camera):\n",
        "        print (\"Inside phone constructor\")\n",
        "        self.__price = price\n",
        "        self.brand = brand\n",
        "        self.camera = camera\n",
        "\n",
        "class SmartPhone(Phone):\n",
        "    def __init__(self, os, ram):\n",
        "        self.os = os\n",
        "        self.ram = ram\n",
        "        print (\"Inside SmartPhone constructor\")\n",
        "\n",
        "s=SmartPhone(\"Android\", 2)\n",
        "s.brand"
      ],
      "metadata": {
        "colab": {
          "base_uri": "https://localhost:8080/",
          "height": 193
        },
        "id": "YdUoKlMDpHQ6",
        "outputId": "ec64d71c-6cc8-4912-b899-3be3571f224a"
      },
      "execution_count": null,
      "outputs": [
        {
          "output_type": "stream",
          "name": "stdout",
          "text": [
            "Inside SmartPhone constructor\n"
          ]
        },
        {
          "output_type": "error",
          "ename": "AttributeError",
          "evalue": "'SmartPhone' object has no attribute 'brand'",
          "traceback": [
            "\u001b[0;31m---------------------------------------------------------------------------\u001b[0m",
            "\u001b[0;31mAttributeError\u001b[0m                            Traceback (most recent call last)",
            "\u001b[0;32m<ipython-input-14-fff5c9f9674f>\u001b[0m in \u001b[0;36m<cell line: 17>\u001b[0;34m()\u001b[0m\n\u001b[1;32m     15\u001b[0m \u001b[0;34m\u001b[0m\u001b[0m\n\u001b[1;32m     16\u001b[0m \u001b[0ms\u001b[0m\u001b[0;34m=\u001b[0m\u001b[0mSmartPhone\u001b[0m\u001b[0;34m(\u001b[0m\u001b[0;34m\"Android\"\u001b[0m\u001b[0;34m,\u001b[0m \u001b[0;36m2\u001b[0m\u001b[0;34m)\u001b[0m\u001b[0;34m\u001b[0m\u001b[0;34m\u001b[0m\u001b[0m\n\u001b[0;32m---> 17\u001b[0;31m \u001b[0ms\u001b[0m\u001b[0;34m.\u001b[0m\u001b[0mbrand\u001b[0m\u001b[0;34m\u001b[0m\u001b[0;34m\u001b[0m\u001b[0m\n\u001b[0m",
            "\u001b[0;31mAttributeError\u001b[0m: 'SmartPhone' object has no attribute 'brand'"
          ]
        }
      ]
    },
    {
      "cell_type": "code",
      "source": [
        "# child can't access private members of the class\n",
        "\n",
        "class Phone:\n",
        "    def __init__(self, price, brand, camera):\n",
        "        print (\"Inside phone constructor\")\n",
        "        self.__price = price\n",
        "        self.brand = brand\n",
        "        self.camera = camera\n",
        "\n",
        "    #getter\n",
        "    def show(self):\n",
        "        print (self.__price)\n",
        "\n",
        "class SmartPhone(Phone):\n",
        "    def check(self):\n",
        "        print(self.__price)\n",
        "\n",
        "s=SmartPhone(20000, \"Apple\", 13)\n",
        "print(s.brand)\n",
        "s.show()"
      ],
      "metadata": {
        "colab": {
          "base_uri": "https://localhost:8080/"
        },
        "id": "d8O_zJeVpHTQ",
        "outputId": "1c254ea9-c7ee-4bf8-c18d-bce174ec3585"
      },
      "execution_count": null,
      "outputs": [
        {
          "output_type": "stream",
          "name": "stdout",
          "text": [
            "Inside phone constructor\n",
            "Apple\n",
            "20000\n"
          ]
        }
      ]
    },
    {
      "cell_type": "code",
      "source": [
        "class Parent:\n",
        "\n",
        "    def __init__(self,num):\n",
        "        self.__num=num\n",
        "#getter\n",
        "    def get_num(self):\n",
        "        return self.__num\n",
        "\n",
        "class Child(Parent):\n",
        "\n",
        "    def show(self):\n",
        "        print(\"This is in child class\")\n",
        "\n",
        "son=Child(100)\n",
        "print(son.get_num())\n",
        "son.show()"
      ],
      "metadata": {
        "colab": {
          "base_uri": "https://localhost:8080/"
        },
        "id": "5TwYnU36pHVq",
        "outputId": "c896ede8-3cce-4414-b6e3-23a49b8ca3fe"
      },
      "execution_count": null,
      "outputs": [
        {
          "output_type": "stream",
          "name": "stdout",
          "text": [
            "100\n",
            "This is in child class\n"
          ]
        }
      ]
    },
    {
      "cell_type": "code",
      "source": [
        "#upar wala constructor call hua hee nhi\n",
        "\n",
        "class Parent:\n",
        "\n",
        "    def __init__(self,num):\n",
        "        self.__num=num\n",
        "\n",
        "    def get_num(self):\n",
        "        return self.__num\n",
        "\n",
        "class Child(Parent):\n",
        "\n",
        "    def __init__(self,val,num):\n",
        "        self.__val=val\n",
        "\n",
        "    def get_val(self):\n",
        "        return self.__val\n",
        "\n",
        "son=Child(100,10)\n",
        "print(\"Parent: Num:\",son.get_num())\n",
        "print(\"Child: Val:\",son.get_val())"
      ],
      "metadata": {
        "colab": {
          "base_uri": "https://localhost:8080/",
          "height": 315
        },
        "id": "DYJuXmR_pHYO",
        "outputId": "100573fe-04e9-4181-99d6-2743128b3fc8"
      },
      "execution_count": null,
      "outputs": [
        {
          "output_type": "error",
          "ename": "AttributeError",
          "evalue": "'Child' object has no attribute '_Parent__num'",
          "traceback": [
            "\u001b[0;31m---------------------------------------------------------------------------\u001b[0m",
            "\u001b[0;31mAttributeError\u001b[0m                            Traceback (most recent call last)",
            "\u001b[0;32m<ipython-input-24-5b07ebc9a260>\u001b[0m in \u001b[0;36m<cell line: 20>\u001b[0;34m()\u001b[0m\n\u001b[1;32m     18\u001b[0m \u001b[0;34m\u001b[0m\u001b[0m\n\u001b[1;32m     19\u001b[0m \u001b[0mson\u001b[0m\u001b[0;34m=\u001b[0m\u001b[0mChild\u001b[0m\u001b[0;34m(\u001b[0m\u001b[0;36m100\u001b[0m\u001b[0;34m,\u001b[0m\u001b[0;36m10\u001b[0m\u001b[0;34m)\u001b[0m\u001b[0;34m\u001b[0m\u001b[0;34m\u001b[0m\u001b[0m\n\u001b[0;32m---> 20\u001b[0;31m \u001b[0mprint\u001b[0m\u001b[0;34m(\u001b[0m\u001b[0;34m\"Parent: Num:\"\u001b[0m\u001b[0;34m,\u001b[0m\u001b[0mson\u001b[0m\u001b[0;34m.\u001b[0m\u001b[0mget_num\u001b[0m\u001b[0;34m(\u001b[0m\u001b[0;34m)\u001b[0m\u001b[0;34m)\u001b[0m\u001b[0;34m\u001b[0m\u001b[0;34m\u001b[0m\u001b[0m\n\u001b[0m\u001b[1;32m     21\u001b[0m \u001b[0mprint\u001b[0m\u001b[0;34m(\u001b[0m\u001b[0;34m\"Child: Val:\"\u001b[0m\u001b[0;34m,\u001b[0m\u001b[0mson\u001b[0m\u001b[0;34m.\u001b[0m\u001b[0mget_val\u001b[0m\u001b[0;34m(\u001b[0m\u001b[0;34m)\u001b[0m\u001b[0;34m)\u001b[0m\u001b[0;34m\u001b[0m\u001b[0;34m\u001b[0m\u001b[0m\n",
            "\u001b[0;32m<ipython-input-24-5b07ebc9a260>\u001b[0m in \u001b[0;36mget_num\u001b[0;34m(self)\u001b[0m\n\u001b[1;32m      7\u001b[0m \u001b[0;34m\u001b[0m\u001b[0m\n\u001b[1;32m      8\u001b[0m     \u001b[0;32mdef\u001b[0m \u001b[0mget_num\u001b[0m\u001b[0;34m(\u001b[0m\u001b[0mself\u001b[0m\u001b[0;34m)\u001b[0m\u001b[0;34m:\u001b[0m\u001b[0;34m\u001b[0m\u001b[0;34m\u001b[0m\u001b[0m\n\u001b[0;32m----> 9\u001b[0;31m         \u001b[0;32mreturn\u001b[0m \u001b[0mself\u001b[0m\u001b[0;34m.\u001b[0m\u001b[0m__num\u001b[0m\u001b[0;34m\u001b[0m\u001b[0;34m\u001b[0m\u001b[0m\n\u001b[0m\u001b[1;32m     10\u001b[0m \u001b[0;34m\u001b[0m\u001b[0m\n\u001b[1;32m     11\u001b[0m \u001b[0;32mclass\u001b[0m \u001b[0mChild\u001b[0m\u001b[0;34m(\u001b[0m\u001b[0mParent\u001b[0m\u001b[0;34m)\u001b[0m\u001b[0;34m:\u001b[0m\u001b[0;34m\u001b[0m\u001b[0;34m\u001b[0m\u001b[0m\n",
            "\u001b[0;31mAttributeError\u001b[0m: 'Child' object has no attribute '_Parent__num'"
          ]
        }
      ]
    },
    {
      "cell_type": "code",
      "source": [
        "class A:\n",
        "    def __init__(self):\n",
        "        self.var1=100\n",
        "\n",
        "    def display1(self,var1):\n",
        "        print(\"class A :\", self.var1)\n",
        "class B(A):\n",
        "\n",
        "    def display2(self,var1):\n",
        "        print(\"class B :\", self.var1)\n",
        "\n",
        "obj=B()\n",
        "obj.display1(200)"
      ],
      "metadata": {
        "colab": {
          "base_uri": "https://localhost:8080/"
        },
        "id": "AyV4SAXKpHbF",
        "outputId": "0b8f64af-ce50-47ab-9733-dcf373dc2683"
      },
      "execution_count": null,
      "outputs": [
        {
          "output_type": "stream",
          "name": "stdout",
          "text": [
            "class A : 100\n"
          ]
        }
      ]
    },
    {
      "cell_type": "code",
      "source": [
        "# Method Overriding\n",
        "class Phone:\n",
        "    def __init__(self, price, brand, camera):\n",
        "        print (\"Inside phone constructor\")\n",
        "        self.__price = price\n",
        "        self.brand = brand\n",
        "        self.camera = camera\n",
        "\n",
        "    def buy(self):\n",
        "        print (\"Buying a phone\")\n",
        "\n",
        "class SmartPhone(Phone):\n",
        "    def buy(self):\n",
        "        print (\"Buying a smartphone\")\n",
        "\n",
        "s=SmartPhone(20000, \"Apple\", 13)\n",
        "\n",
        "s.buy()"
      ],
      "metadata": {
        "colab": {
          "base_uri": "https://localhost:8080/"
        },
        "id": "2ZxQ9eAWpHdm",
        "outputId": "d36efb0f-5db3-4546-ca65-65732e327beb"
      },
      "execution_count": null,
      "outputs": [
        {
          "output_type": "stream",
          "name": "stdout",
          "text": [
            "Inside phone constructor\n",
            "Buying a smartphone\n"
          ]
        }
      ]
    },
    {
      "cell_type": "markdown",
      "source": [
        "### Super Keyword"
      ],
      "metadata": {
        "id": "O85epdv770M-"
      }
    },
    {
      "cell_type": "code",
      "source": [
        "class Phone:\n",
        "    def __init__(self, price, brand, camera):\n",
        "        print (\"Inside phone constructor\")\n",
        "        self.__price = price\n",
        "        self.brand = brand\n",
        "        self.camera = camera\n",
        "\n",
        "    def buy(self):\n",
        "        print (\"Buying a phone\")\n",
        "\n",
        "class SmartPhone(Phone):\n",
        "    def buy(self):\n",
        "        print (\"Buying a smartphone\")\n",
        "        # syntax to call parent ka buy method\n",
        "        super().buy()\n",
        "\n",
        "s=SmartPhone(20000, \"Apple\", 13)\n",
        "\n",
        "s.buy()"
      ],
      "metadata": {
        "colab": {
          "base_uri": "https://localhost:8080/"
        },
        "id": "AZkutsIgpHgM",
        "outputId": "9e0a559e-aa5b-425a-a2a6-38f05e62556a"
      },
      "execution_count": null,
      "outputs": [
        {
          "output_type": "stream",
          "name": "stdout",
          "text": [
            "Inside phone constructor\n",
            "Buying a smartphone\n",
            "Buying a phone\n"
          ]
        }
      ]
    },
    {
      "cell_type": "code",
      "source": [
        "# using super outside the class\n",
        "class Phone:\n",
        "    def __init__(self, price, brand, camera):\n",
        "        print (\"Inside phone constructor\")\n",
        "        self.__price = price\n",
        "        self.brand = brand\n",
        "        self.camera = camera\n",
        "\n",
        "    def buy(self):\n",
        "        print (\"Buying a phone\")\n",
        "\n",
        "class SmartPhone(Phone):\n",
        "    def buy(self):\n",
        "        print (\"Buying a smartphone\")\n",
        "        # syntax to call parent ka buy method\n",
        "        super().buy()\n",
        "\n",
        "s=SmartPhone(20000, \"Apple\", 13)\n",
        "\n",
        "s.buy()"
      ],
      "metadata": {
        "colab": {
          "base_uri": "https://localhost:8080/"
        },
        "id": "aiujxS8HpHiR",
        "outputId": "29feda26-5fbf-4e08-a825-bceb632b7410"
      },
      "execution_count": null,
      "outputs": [
        {
          "output_type": "stream",
          "name": "stdout",
          "text": [
            "Inside phone constructor\n",
            "Buying a smartphone\n",
            "Buying a phone\n"
          ]
        }
      ]
    },
    {
      "cell_type": "code",
      "source": [
        "# can super access parent ka data?\n",
        "# using super outside the class\n",
        "class Phone:\n",
        "    def __init__(self, price, brand, camera):\n",
        "        print (\"Inside phone constructor\")\n",
        "        self.__price = price\n",
        "        self.brand = brand\n",
        "        self.camera = camera\n",
        "\n",
        "    def buy(self):\n",
        "        print (\"Buying a phone\")\n",
        "\n",
        "class SmartPhone(Phone):\n",
        "    def buy(self):\n",
        "        print (\"Buying a smartphone\")\n",
        "        # syntax to call parent ka buy method\n",
        "        print(super().brand)\n",
        "\n",
        "s=SmartPhone(20000, \"Apple\", 13)\n",
        "\n",
        "s.buy()"
      ],
      "metadata": {
        "colab": {
          "base_uri": "https://localhost:8080/",
          "height": 332
        },
        "id": "RqyweWqfpHkL",
        "outputId": "0b35e103-73ca-440b-9622-962242a46a20"
      },
      "execution_count": null,
      "outputs": [
        {
          "output_type": "stream",
          "name": "stdout",
          "text": [
            "Inside phone constructor\n",
            "Buying a smartphone\n"
          ]
        },
        {
          "output_type": "error",
          "ename": "AttributeError",
          "evalue": "'super' object has no attribute 'brand'",
          "traceback": [
            "\u001b[0;31m---------------------------------------------------------------------------\u001b[0m",
            "\u001b[0;31mAttributeError\u001b[0m                            Traceback (most recent call last)",
            "\u001b[0;32m<ipython-input-29-87cd65570d46>\u001b[0m in \u001b[0;36m<cell line: 21>\u001b[0;34m()\u001b[0m\n\u001b[1;32m     19\u001b[0m \u001b[0ms\u001b[0m\u001b[0;34m=\u001b[0m\u001b[0mSmartPhone\u001b[0m\u001b[0;34m(\u001b[0m\u001b[0;36m20000\u001b[0m\u001b[0;34m,\u001b[0m \u001b[0;34m\"Apple\"\u001b[0m\u001b[0;34m,\u001b[0m \u001b[0;36m13\u001b[0m\u001b[0;34m)\u001b[0m\u001b[0;34m\u001b[0m\u001b[0;34m\u001b[0m\u001b[0m\n\u001b[1;32m     20\u001b[0m \u001b[0;34m\u001b[0m\u001b[0m\n\u001b[0;32m---> 21\u001b[0;31m \u001b[0ms\u001b[0m\u001b[0;34m.\u001b[0m\u001b[0mbuy\u001b[0m\u001b[0;34m(\u001b[0m\u001b[0;34m)\u001b[0m\u001b[0;34m\u001b[0m\u001b[0;34m\u001b[0m\u001b[0m\n\u001b[0m",
            "\u001b[0;32m<ipython-input-29-87cd65570d46>\u001b[0m in \u001b[0;36mbuy\u001b[0;34m(self)\u001b[0m\n\u001b[1;32m     15\u001b[0m         \u001b[0mprint\u001b[0m \u001b[0;34m(\u001b[0m\u001b[0;34m\"Buying a smartphone\"\u001b[0m\u001b[0;34m)\u001b[0m\u001b[0;34m\u001b[0m\u001b[0;34m\u001b[0m\u001b[0m\n\u001b[1;32m     16\u001b[0m         \u001b[0;31m# syntax to call parent ka buy method\u001b[0m\u001b[0;34m\u001b[0m\u001b[0;34m\u001b[0m\u001b[0m\n\u001b[0;32m---> 17\u001b[0;31m         \u001b[0mprint\u001b[0m\u001b[0;34m(\u001b[0m\u001b[0msuper\u001b[0m\u001b[0;34m(\u001b[0m\u001b[0;34m)\u001b[0m\u001b[0;34m.\u001b[0m\u001b[0mbrand\u001b[0m\u001b[0;34m)\u001b[0m\u001b[0;34m\u001b[0m\u001b[0;34m\u001b[0m\u001b[0m\n\u001b[0m\u001b[1;32m     18\u001b[0m \u001b[0;34m\u001b[0m\u001b[0m\n\u001b[1;32m     19\u001b[0m \u001b[0ms\u001b[0m\u001b[0;34m=\u001b[0m\u001b[0mSmartPhone\u001b[0m\u001b[0;34m(\u001b[0m\u001b[0;36m20000\u001b[0m\u001b[0;34m,\u001b[0m \u001b[0;34m\"Apple\"\u001b[0m\u001b[0;34m,\u001b[0m \u001b[0;36m13\u001b[0m\u001b[0;34m)\u001b[0m\u001b[0;34m\u001b[0m\u001b[0;34m\u001b[0m\u001b[0m\n",
            "\u001b[0;31mAttributeError\u001b[0m: 'super' object has no attribute 'brand'"
          ]
        }
      ]
    },
    {
      "cell_type": "code",
      "source": [
        "# super -> constuctor\n",
        "class Phone:\n",
        "    def __init__(self, price, brand, camera):\n",
        "        print (\"Inside phone constructor\")\n",
        "        self.__price = price\n",
        "        self.brand = brand\n",
        "        self.camera = camera\n",
        "\n",
        "class SmartPhone(Phone):\n",
        "    def __init__(self, price, brand, camera, os, ram):\n",
        "        print('Inside smartphone constructor')\n",
        "        super().__init__(price, brand, camera)\n",
        "#child ke constructor se we are calling parent ka constructor\n",
        "        self.os = os\n",
        "        self.ram = ram\n",
        "        print (\"Inside smartphone constructor\")\n",
        "\n",
        "s=SmartPhone(20000, \"Samsung\", 12, \"Android\", 2)\n",
        "\n",
        "print(s.os)\n",
        "print(s.brand)"
      ],
      "metadata": {
        "colab": {
          "base_uri": "https://localhost:8080/"
        },
        "id": "RFuurkKgpHnZ",
        "outputId": "5cc13196-f25f-4f4e-fc47-1c652e1d2673"
      },
      "execution_count": null,
      "outputs": [
        {
          "output_type": "stream",
          "name": "stdout",
          "text": [
            "Inside smartphone constructor\n",
            "Inside phone constructor\n",
            "Inside smartphone constructor\n",
            "Android\n",
            "Samsung\n"
          ]
        }
      ]
    },
    {
      "cell_type": "markdown",
      "source": [
        "##### Inheritance in summary\n",
        "\n",
        "- A class can inherit from another class.\n",
        "\n",
        "- Inheritance improves code reuse\n",
        "\n",
        "- Constructor, attributes, methods get inherited to the child class\n",
        "\n",
        "- The parent has no access to the child class\n",
        "\n",
        "- Private properties of parent are not accessible directly in child class\n",
        "\n",
        "- Child class can override the attributes or methods. This is called method overriding\n",
        "\n",
        "- super() is an inbuilt function which is used to invoke the parent class methods and constructor"
      ],
      "metadata": {
        "id": "_YE_kj_0Ufe4"
      }
    },
    {
      "cell_type": "code",
      "source": [
        "class Parent:\n",
        "\n",
        "    def __init__(self,num):\n",
        "      self.__num=num\n",
        "\n",
        "    def get_num(self):\n",
        "      return self.__num\n",
        "\n",
        "class Child(Parent):\n",
        "\n",
        "    def __init__(self,num,val):\n",
        "      super().__init__(num)\n",
        "      self.__val=val\n",
        "\n",
        "    def get_val(self):\n",
        "      return self.__val\n",
        "\n",
        "son=Child(100,200)\n",
        "print(son.get_num())\n",
        "print(son.get_val())"
      ],
      "metadata": {
        "id": "2AW5_OeICK1I",
        "colab": {
          "base_uri": "https://localhost:8080/"
        },
        "outputId": "3b334cba-287a-4ff9-b15b-a5316dc465b1"
      },
      "execution_count": null,
      "outputs": [
        {
          "output_type": "stream",
          "name": "stdout",
          "text": [
            "100\n",
            "200\n"
          ]
        }
      ]
    },
    {
      "cell_type": "code",
      "source": [
        "class Parent:\n",
        "    def __init__(self):\n",
        "        self.num=100\n",
        "\n",
        "class Child(Parent):\n",
        "\n",
        "    def __init__(self):\n",
        "        super().__init__()\n",
        "        self.var=200\n",
        "\n",
        "    def show(self):\n",
        "        print(self.num)\n",
        "        print(self.var)\n",
        "\n",
        "son=Child()\n",
        "son.show()"
      ],
      "metadata": {
        "id": "Pb0hk51qCKx4",
        "colab": {
          "base_uri": "https://localhost:8080/"
        },
        "outputId": "94eb883d-1931-48ee-add7-d6397bb669ad"
      },
      "execution_count": null,
      "outputs": [
        {
          "output_type": "stream",
          "name": "stdout",
          "text": [
            "100\n",
            "200\n"
          ]
        }
      ]
    },
    {
      "cell_type": "code",
      "source": [
        "class Parent:\n",
        "    def __init__(self):\n",
        "        self.__num=100\n",
        "\n",
        "    def show(self):\n",
        "        print(\"Parent:\",self.__num)\n",
        "\n",
        "class Child(Parent):\n",
        "    def __init__(self):\n",
        "        super().__init__()\n",
        "        self.__var=10\n",
        "\n",
        "    def show(self):\n",
        "        print(\"Child:\",self.__var)\n",
        "\n",
        "obj=Child()\n",
        "obj.show()"
      ],
      "metadata": {
        "id": "1Hhu0-gGCKv3",
        "colab": {
          "base_uri": "https://localhost:8080/"
        },
        "outputId": "b1d90375-8c0c-43fe-c935-fd0398b7ee89"
      },
      "execution_count": null,
      "outputs": [
        {
          "output_type": "stream",
          "name": "stdout",
          "text": [
            "Child: 10\n"
          ]
        }
      ]
    },
    {
      "cell_type": "code",
      "source": [
        "class Parent:\n",
        "    def __init__(self):\n",
        "        self.__num=100\n",
        "\n",
        "    def show(self):\n",
        "        print(\"Parent:\",self.__num)\n",
        "\n",
        "class Child(Parent):\n",
        "    def __init__(self):\n",
        "        super().__init__()\n",
        "        self.__var=10\n",
        "\n",
        "    def show(self):\n",
        "        print(\"Child:\",self.__var)\n",
        "\n",
        "obj=Child()\n",
        "obj.show()"
      ],
      "metadata": {
        "id": "MbSfW6csCKtf",
        "colab": {
          "base_uri": "https://localhost:8080/"
        },
        "outputId": "8c4f939d-9a4a-45b1-8e74-b47e6ca7da16"
      },
      "execution_count": null,
      "outputs": [
        {
          "output_type": "stream",
          "name": "stdout",
          "text": [
            "Child: 10\n"
          ]
        }
      ]
    },
    {
      "cell_type": "markdown",
      "source": [
        "### Types of Inheritance\n",
        "\n",
        "- Single Inheritance\n",
        "- Multilevel Inheritance\n",
        "- Hierarchical Inheritance\n",
        "- Multiple Inheritance(Diamond Problem)\n",
        "- Hybrid Inheritance"
      ],
      "metadata": {
        "id": "q9WZMWV18G4Q"
      }
    },
    {
      "cell_type": "code",
      "source": [
        "# single inheritance\n",
        "class Phone:\n",
        "    def __init__(self, price, brand, camera):\n",
        "        print (\"Inside phone constructor\")\n",
        "        self.__price = price\n",
        "        self.brand = brand\n",
        "        self.camera = camera\n",
        "\n",
        "    def buy(self):\n",
        "        print (\"Buying a phone\")\n",
        "\n",
        "class SmartPhone(Phone):\n",
        "    pass\n",
        "\n",
        "SmartPhone(1000,\"Apple\",\"13px\").buy()"
      ],
      "metadata": {
        "id": "O_r0QnkKCKrM",
        "colab": {
          "base_uri": "https://localhost:8080/"
        },
        "outputId": "0b77d90b-4cb0-4e33-9142-7944e7084868"
      },
      "execution_count": null,
      "outputs": [
        {
          "output_type": "stream",
          "name": "stdout",
          "text": [
            "Inside phone constructor\n",
            "Buying a phone\n"
          ]
        }
      ]
    },
    {
      "cell_type": "code",
      "source": [
        "# multilevel\n",
        "class Product:\n",
        "    def review(self):\n",
        "        print (\"Product customer review\")\n",
        "\n",
        "class Phone(Product):\n",
        "    def __init__(self, price, brand, camera):\n",
        "        print (\"Inside phone constructor\")\n",
        "        self.__price = price\n",
        "        self.brand = brand\n",
        "        self.camera = camera\n",
        "\n",
        "    def buy(self):\n",
        "        print (\"Buying a phone\")\n",
        "\n",
        "class SmartPhone(Phone):\n",
        "    pass\n",
        "\n",
        "s=SmartPhone(20000, \"Apple\", 12)\n",
        "\n",
        "s.buy()\n",
        "s.review()"
      ],
      "metadata": {
        "id": "ilH7G7jOCKpL",
        "colab": {
          "base_uri": "https://localhost:8080/"
        },
        "outputId": "fde3371a-cfb0-4f96-9f4d-4a0938a356b5"
      },
      "execution_count": null,
      "outputs": [
        {
          "output_type": "stream",
          "name": "stdout",
          "text": [
            "Inside phone constructor\n",
            "Buying a phone\n",
            "Product customer review\n"
          ]
        }
      ]
    },
    {
      "cell_type": "code",
      "source": [
        "# Hierarchical\n",
        "class Phone:\n",
        "    def __init__(self, price, brand, camera):\n",
        "        print (\"Inside phone constructor\")\n",
        "        self.__price = price\n",
        "        self.brand = brand\n",
        "        self.camera = camera\n",
        "\n",
        "    def buy(self):\n",
        "        print (\"Buying a phone\")\n",
        "\n",
        "class SmartPhone(Phone):\n",
        "    pass\n",
        "\n",
        "class FeaturePhone(Phone):\n",
        "    pass\n",
        "\n",
        "SmartPhone(1000,\"Apple\",\"13px\").buy()\n",
        "FeaturePhone(10,\"Lava\",\"1px\").buy()"
      ],
      "metadata": {
        "id": "1zoNTyUSCKnD",
        "colab": {
          "base_uri": "https://localhost:8080/"
        },
        "outputId": "e8173ac3-2c4e-4037-e246-a4c90b73bd95"
      },
      "execution_count": null,
      "outputs": [
        {
          "output_type": "stream",
          "name": "stdout",
          "text": [
            "Inside phone constructor\n",
            "Buying a phone\n",
            "Inside phone constructor\n",
            "Buying a phone\n"
          ]
        }
      ]
    },
    {
      "cell_type": "code",
      "source": [
        "# Multiple\n",
        "class Phone:\n",
        "    def __init__(self, price, brand, camera):\n",
        "        print (\"Inside phone constructor\")\n",
        "        self.__price = price\n",
        "        self.brand = brand\n",
        "        self.camera = camera\n",
        "\n",
        "    def buy(self):\n",
        "        print (\"Buying a phone\")\n",
        "\n",
        "class Product:\n",
        "    def review(self):\n",
        "        print (\"Customer review\")\n",
        "\n",
        "class SmartPhone(Phone, Product):\n",
        "    pass\n",
        "\n",
        "s=SmartPhone(20000, \"Apple\", 12)   #object\n",
        "\n",
        "s.buy()\n",
        "s.review()"
      ],
      "metadata": {
        "colab": {
          "base_uri": "https://localhost:8080/"
        },
        "id": "sNk3FM9s9UX2",
        "outputId": "92d8924d-8648-4c2d-c80a-89ee68ceddc2"
      },
      "execution_count": null,
      "outputs": [
        {
          "output_type": "stream",
          "name": "stdout",
          "text": [
            "Inside phone constructor\n",
            "Buying a phone\n",
            "Customer review\n"
          ]
        }
      ]
    },
    {
      "cell_type": "code",
      "source": [
        "# the diamond problem\n",
        "# https://stackoverflow.com/questions/56361048/what-is-the-diamond-problem-in-python-and-why-its-not-appear-in-python2\n",
        "class Phone:\n",
        "    def __init__(self, price, brand, camera):\n",
        "        print (\"Inside phone constructor\")\n",
        "        self.__price = price\n",
        "        self.brand = brand\n",
        "        self.camera = camera\n",
        "\n",
        "    def buy(self):\n",
        "        print (\"Buying a phone\")\n",
        "\n",
        "class Product:\n",
        "    def buy(self):\n",
        "        print (\"Product buy method\")\n",
        "\n",
        "# Method resolution order\n",
        "class SmartPhone(Phone,Product):\n",
        "    pass\n",
        "\n",
        "s=SmartPhone(20000, \"Apple\", 12)\n",
        "\n",
        "s.buy()"
      ],
      "metadata": {
        "id": "I2ixigsSWagF",
        "colab": {
          "base_uri": "https://localhost:8080/"
        },
        "outputId": "ab8c12a1-de92-4882-a1ee-d9be472a1364"
      },
      "execution_count": null,
      "outputs": [
        {
          "output_type": "stream",
          "name": "stdout",
          "text": [
            "Inside phone constructor\n",
            "Buying a phone\n"
          ]
        }
      ]
    },
    {
      "cell_type": "code",
      "source": [
        "class A:\n",
        "\n",
        "    def m1(self):\n",
        "        return 20\n",
        "\n",
        "class B(A):\n",
        "\n",
        "    def m1(self):\n",
        "        return 30\n",
        "\n",
        "    def m2(self):\n",
        "        return 40\n",
        "\n",
        "class C(B):\n",
        "\n",
        "    def m2(self):\n",
        "        return 20\n",
        "obj1=A()\n",
        "obj2=B()\n",
        "obj3=C()\n",
        "print(obj1.m1() + obj3.m1()+ obj3.m2())"
      ],
      "metadata": {
        "colab": {
          "base_uri": "https://localhost:8080/"
        },
        "id": "TI4X4l-KBEVz",
        "outputId": "001fb39c-defb-4913-d94b-c280ab953951"
      },
      "execution_count": null,
      "outputs": [
        {
          "output_type": "stream",
          "name": "stdout",
          "text": [
            "70\n"
          ]
        }
      ]
    },
    {
      "cell_type": "code",
      "source": [],
      "metadata": {
        "id": "iBIgjh7FBEMA"
      },
      "execution_count": null,
      "outputs": []
    },
    {
      "cell_type": "code",
      "source": [
        "class A:\n",
        "\n",
        "    def m1(self):\n",
        "        return 20\n",
        "\n",
        "class B(A):\n",
        "\n",
        "    def m1(self):\n",
        "        val=super().m1()+30\n",
        "        return val\n",
        "\n",
        "class C(B):\n",
        "\n",
        "    def m1(self):\n",
        "        val=self.m1()+20\n",
        "        return val\n",
        "obj=C()\n",
        "print(obj.m1())  #khud hee ko call kr rhe hai baar baar"
      ],
      "metadata": {
        "id": "ogbluGw-Wu3c",
        "colab": {
          "base_uri": "https://localhost:8080/",
          "height": 356
        },
        "outputId": "8800641c-2da9-4a6c-d209-6854274d6cce"
      },
      "execution_count": null,
      "outputs": [
        {
          "output_type": "error",
          "ename": "RecursionError",
          "evalue": "maximum recursion depth exceeded",
          "traceback": [
            "\u001b[0;31m---------------------------------------------------------------------------\u001b[0m",
            "\u001b[0;31mRecursionError\u001b[0m                            Traceback (most recent call last)",
            "\u001b[0;32m<ipython-input-12-03d26be7f1b7>\u001b[0m in \u001b[0;36m<cell line: 18>\u001b[0;34m()\u001b[0m\n\u001b[1;32m     16\u001b[0m         \u001b[0;32mreturn\u001b[0m \u001b[0mval\u001b[0m\u001b[0;34m\u001b[0m\u001b[0;34m\u001b[0m\u001b[0m\n\u001b[1;32m     17\u001b[0m \u001b[0mobj\u001b[0m\u001b[0;34m=\u001b[0m\u001b[0mC\u001b[0m\u001b[0;34m(\u001b[0m\u001b[0;34m)\u001b[0m\u001b[0;34m\u001b[0m\u001b[0;34m\u001b[0m\u001b[0m\n\u001b[0;32m---> 18\u001b[0;31m \u001b[0mprint\u001b[0m\u001b[0;34m(\u001b[0m\u001b[0mobj\u001b[0m\u001b[0;34m.\u001b[0m\u001b[0mm1\u001b[0m\u001b[0;34m(\u001b[0m\u001b[0;34m)\u001b[0m\u001b[0;34m)\u001b[0m  \u001b[0;31m#khud hee ko call kr rhe hai baar baar\u001b[0m\u001b[0;34m\u001b[0m\u001b[0;34m\u001b[0m\u001b[0m\n\u001b[0m",
            "\u001b[0;32m<ipython-input-12-03d26be7f1b7>\u001b[0m in \u001b[0;36mm1\u001b[0;34m(self)\u001b[0m\n\u001b[1;32m     13\u001b[0m \u001b[0;34m\u001b[0m\u001b[0m\n\u001b[1;32m     14\u001b[0m     \u001b[0;32mdef\u001b[0m \u001b[0mm1\u001b[0m\u001b[0;34m(\u001b[0m\u001b[0mself\u001b[0m\u001b[0;34m)\u001b[0m\u001b[0;34m:\u001b[0m\u001b[0;34m\u001b[0m\u001b[0;34m\u001b[0m\u001b[0m\n\u001b[0;32m---> 15\u001b[0;31m         \u001b[0mval\u001b[0m\u001b[0;34m=\u001b[0m\u001b[0mself\u001b[0m\u001b[0;34m.\u001b[0m\u001b[0mm1\u001b[0m\u001b[0;34m(\u001b[0m\u001b[0;34m)\u001b[0m\u001b[0;34m+\u001b[0m\u001b[0;36m20\u001b[0m\u001b[0;34m\u001b[0m\u001b[0;34m\u001b[0m\u001b[0m\n\u001b[0m\u001b[1;32m     16\u001b[0m         \u001b[0;32mreturn\u001b[0m \u001b[0mval\u001b[0m\u001b[0;34m\u001b[0m\u001b[0;34m\u001b[0m\u001b[0m\n\u001b[1;32m     17\u001b[0m \u001b[0mobj\u001b[0m\u001b[0;34m=\u001b[0m\u001b[0mC\u001b[0m\u001b[0;34m(\u001b[0m\u001b[0;34m)\u001b[0m\u001b[0;34m\u001b[0m\u001b[0;34m\u001b[0m\u001b[0m\n",
            "... last 1 frames repeated, from the frame below ...\n",
            "\u001b[0;32m<ipython-input-12-03d26be7f1b7>\u001b[0m in \u001b[0;36mm1\u001b[0;34m(self)\u001b[0m\n\u001b[1;32m     13\u001b[0m \u001b[0;34m\u001b[0m\u001b[0m\n\u001b[1;32m     14\u001b[0m     \u001b[0;32mdef\u001b[0m \u001b[0mm1\u001b[0m\u001b[0;34m(\u001b[0m\u001b[0mself\u001b[0m\u001b[0;34m)\u001b[0m\u001b[0;34m:\u001b[0m\u001b[0;34m\u001b[0m\u001b[0;34m\u001b[0m\u001b[0m\n\u001b[0;32m---> 15\u001b[0;31m         \u001b[0mval\u001b[0m\u001b[0;34m=\u001b[0m\u001b[0mself\u001b[0m\u001b[0;34m.\u001b[0m\u001b[0mm1\u001b[0m\u001b[0;34m(\u001b[0m\u001b[0;34m)\u001b[0m\u001b[0;34m+\u001b[0m\u001b[0;36m20\u001b[0m\u001b[0;34m\u001b[0m\u001b[0;34m\u001b[0m\u001b[0m\n\u001b[0m\u001b[1;32m     16\u001b[0m         \u001b[0;32mreturn\u001b[0m \u001b[0mval\u001b[0m\u001b[0;34m\u001b[0m\u001b[0;34m\u001b[0m\u001b[0m\n\u001b[1;32m     17\u001b[0m \u001b[0mobj\u001b[0m\u001b[0;34m=\u001b[0m\u001b[0mC\u001b[0m\u001b[0;34m(\u001b[0m\u001b[0;34m)\u001b[0m\u001b[0;34m\u001b[0m\u001b[0;34m\u001b[0m\u001b[0m\n",
            "\u001b[0;31mRecursionError\u001b[0m: maximum recursion depth exceeded"
          ]
        }
      ]
    },
    {
      "cell_type": "markdown",
      "source": [
        "### Polymorphism\n",
        "\n",
        "- Method Overriding\n",
        "- Method Overloading\n",
        "- Operator Overloading"
      ],
      "metadata": {
        "id": "TvZX-Zw9FtKB"
      }
    },
    {
      "cell_type": "code",
      "source": [
        "class Shape:\n",
        "  def area(self,radius):\n",
        "    return 3.14*radius*radius\n",
        "\n",
        "  def area(self,l,b):\n",
        "    return l*b\n",
        "\n",
        "s = Shape()\n",
        "\n",
        "s.area(2)\n",
        "s.area(3,4)"
      ],
      "metadata": {
        "id": "jj8Xb6SH9Wms",
        "colab": {
          "base_uri": "https://localhost:8080/",
          "height": 193
        },
        "outputId": "21edda78-240d-436d-d668-9d18152c848b"
      },
      "execution_count": 4,
      "outputs": [
        {
          "output_type": "error",
          "ename": "TypeError",
          "evalue": "Shape.area() missing 1 required positional argument: 'b'",
          "traceback": [
            "\u001b[0;31m---------------------------------------------------------------------------\u001b[0m",
            "\u001b[0;31mTypeError\u001b[0m                                 Traceback (most recent call last)",
            "\u001b[0;32m<ipython-input-4-ce58be804b57>\u001b[0m in \u001b[0;36m<cell line: 10>\u001b[0;34m()\u001b[0m\n\u001b[1;32m      8\u001b[0m \u001b[0ms\u001b[0m \u001b[0;34m=\u001b[0m \u001b[0mShape\u001b[0m\u001b[0;34m(\u001b[0m\u001b[0;34m)\u001b[0m\u001b[0;34m\u001b[0m\u001b[0;34m\u001b[0m\u001b[0m\n\u001b[1;32m      9\u001b[0m \u001b[0;34m\u001b[0m\u001b[0m\n\u001b[0;32m---> 10\u001b[0;31m \u001b[0ms\u001b[0m\u001b[0;34m.\u001b[0m\u001b[0marea\u001b[0m\u001b[0;34m(\u001b[0m\u001b[0;36m2\u001b[0m\u001b[0;34m)\u001b[0m\u001b[0;34m\u001b[0m\u001b[0;34m\u001b[0m\u001b[0m\n\u001b[0m\u001b[1;32m     11\u001b[0m \u001b[0ms\u001b[0m\u001b[0;34m.\u001b[0m\u001b[0marea\u001b[0m\u001b[0;34m(\u001b[0m\u001b[0;36m3\u001b[0m\u001b[0;34m,\u001b[0m\u001b[0;36m4\u001b[0m\u001b[0;34m)\u001b[0m\u001b[0;34m\u001b[0m\u001b[0;34m\u001b[0m\u001b[0m\n",
            "\u001b[0;31mTypeError\u001b[0m: Shape.area() missing 1 required positional argument: 'b'"
          ]
        }
      ]
    },
    {
      "cell_type": "code",
      "source": [
        "class Shape:\n",
        "  def area(self,a,b=0):\n",
        "    if b == 0:\n",
        "      return 3.14*a*a\n",
        "    else:\n",
        "      return a*b\n",
        "\n",
        "s = Shape()\n",
        "\n",
        "s.area(2)\n",
        "s.area(3,4)"
      ],
      "metadata": {
        "colab": {
          "base_uri": "https://localhost:8080/"
        },
        "id": "9Esjr5pFg-5Y",
        "outputId": "fb3bdf5d-df2d-48d6-be91-ea6f8096e23e"
      },
      "execution_count": 5,
      "outputs": [
        {
          "output_type": "execute_result",
          "data": {
            "text/plain": [
              "12"
            ]
          },
          "metadata": {},
          "execution_count": 5
        }
      ]
    },
    {
      "cell_type": "code",
      "source": [
        "'hello' + 'world'   #concatenation"
      ],
      "metadata": {
        "colab": {
          "base_uri": "https://localhost:8080/",
          "height": 35
        },
        "id": "KCDThocXg-13",
        "outputId": "710bba26-c818-4ee0-891b-0c61e894825b"
      },
      "execution_count": 6,
      "outputs": [
        {
          "output_type": "execute_result",
          "data": {
            "text/plain": [
              "'helloworld'"
            ],
            "application/vnd.google.colaboratory.intrinsic+json": {
              "type": "string"
            }
          },
          "metadata": {},
          "execution_count": 6
        }
      ]
    },
    {
      "cell_type": "code",
      "source": [
        "4 + 5  #addition"
      ],
      "metadata": {
        "colab": {
          "base_uri": "https://localhost:8080/"
        },
        "id": "nlMt9M2Bg-yx",
        "outputId": "c5a1ad43-b1b4-4249-8360-1700b36c82d0"
      },
      "execution_count": 7,
      "outputs": [
        {
          "output_type": "execute_result",
          "data": {
            "text/plain": [
              "9"
            ]
          },
          "metadata": {},
          "execution_count": 7
        }
      ]
    },
    {
      "cell_type": "code",
      "source": [
        "[1,2,3] + [4,5]   #merging"
      ],
      "metadata": {
        "colab": {
          "base_uri": "https://localhost:8080/"
        },
        "id": "XV7eSCXHg-wK",
        "outputId": "c9a6d793-2c74-4994-e2d0-1b63c446ed4f"
      },
      "execution_count": 9,
      "outputs": [
        {
          "output_type": "execute_result",
          "data": {
            "text/plain": [
              "[1, 2, 3, 4, 5]"
            ]
          },
          "metadata": {},
          "execution_count": 9
        }
      ]
    },
    {
      "cell_type": "markdown",
      "source": [
        "## Abstraction"
      ],
      "metadata": {
        "id": "a0aTVVqxi5eB"
      }
    },
    {
      "cell_type": "code",
      "source": [
        "from abc import ABC, abstractmethod\n",
        "class BankApp(ABC):\n",
        "  def database(self):\n",
        "    print('connected to databse')\n",
        "\n",
        "  @abstractmethod\n",
        "  def security(self):\n",
        "    pass\n",
        "\n",
        "  @abstractmethod\n",
        "  def display(self):\n",
        "    pass"
      ],
      "metadata": {
        "id": "N9jatq4gg-tt"
      },
      "execution_count": 24,
      "outputs": []
    },
    {
      "cell_type": "code",
      "source": [
        "class MobileApp(BankApp):\n",
        "  def mobile_login(self):\n",
        "    print('login into mobile')\n",
        "\n",
        "  def security(self):\n",
        "    print('mobile security')\n",
        "\n",
        "  def display(self):\n",
        "    print('display')"
      ],
      "metadata": {
        "id": "cthB1hjrg-q-"
      },
      "execution_count": 25,
      "outputs": []
    },
    {
      "cell_type": "code",
      "source": [
        "mob = MobileApp()"
      ],
      "metadata": {
        "id": "47PHQz7Cg-oR"
      },
      "execution_count": 19,
      "outputs": []
    },
    {
      "cell_type": "code",
      "source": [
        "mob.security()"
      ],
      "metadata": {
        "colab": {
          "base_uri": "https://localhost:8080/"
        },
        "id": "oKvHynTqk-dA",
        "outputId": "33c7957b-aa1f-4344-f4d8-19881f3ec3fa"
      },
      "execution_count": 20,
      "outputs": [
        {
          "output_type": "stream",
          "name": "stdout",
          "text": [
            "mobile security\n"
          ]
        }
      ]
    },
    {
      "cell_type": "code",
      "source": [
        "mob.display()"
      ],
      "metadata": {
        "colab": {
          "base_uri": "https://localhost:8080/",
          "height": 141
        },
        "id": "DiCDSsbNlC9H",
        "outputId": "73b0e09a-9068-4e7d-ffae-17adbf771ce4"
      },
      "execution_count": 26,
      "outputs": [
        {
          "output_type": "error",
          "ename": "AttributeError",
          "evalue": "'MobileApp' object has no attribute 'display'",
          "traceback": [
            "\u001b[0;31m---------------------------------------------------------------------------\u001b[0m",
            "\u001b[0;31mAttributeError\u001b[0m                            Traceback (most recent call last)",
            "\u001b[0;32m<ipython-input-26-0ad73e6231d0>\u001b[0m in \u001b[0;36m<cell line: 1>\u001b[0;34m()\u001b[0m\n\u001b[0;32m----> 1\u001b[0;31m \u001b[0mmob\u001b[0m\u001b[0;34m.\u001b[0m\u001b[0mdisplay\u001b[0m\u001b[0;34m(\u001b[0m\u001b[0;34m)\u001b[0m\u001b[0;34m\u001b[0m\u001b[0;34m\u001b[0m\u001b[0m\n\u001b[0m",
            "\u001b[0;31mAttributeError\u001b[0m: 'MobileApp' object has no attribute 'display'"
          ]
        }
      ]
    },
    {
      "cell_type": "code",
      "source": [
        "obj = BankApp()"
      ],
      "metadata": {
        "colab": {
          "base_uri": "https://localhost:8080/",
          "height": 141
        },
        "id": "uLAHe5fAlC5o",
        "outputId": "422b0cf6-37ac-4dc8-eb17-e8a77c7cc94c"
      },
      "execution_count": 27,
      "outputs": [
        {
          "output_type": "error",
          "ename": "TypeError",
          "evalue": "Can't instantiate abstract class BankApp with abstract methods display, security",
          "traceback": [
            "\u001b[0;31m---------------------------------------------------------------------------\u001b[0m",
            "\u001b[0;31mTypeError\u001b[0m                                 Traceback (most recent call last)",
            "\u001b[0;32m<ipython-input-27-0aa75fd04378>\u001b[0m in \u001b[0;36m<cell line: 1>\u001b[0;34m()\u001b[0m\n\u001b[0;32m----> 1\u001b[0;31m \u001b[0mobj\u001b[0m \u001b[0;34m=\u001b[0m \u001b[0mBankApp\u001b[0m\u001b[0;34m(\u001b[0m\u001b[0;34m)\u001b[0m\u001b[0;34m\u001b[0m\u001b[0;34m\u001b[0m\u001b[0m\n\u001b[0m",
            "\u001b[0;31mTypeError\u001b[0m: Can't instantiate abstract class BankApp with abstract methods display, security"
          ]
        }
      ]
    },
    {
      "cell_type": "code",
      "source": [],
      "metadata": {
        "id": "7j7kYmwTlC3w"
      },
      "execution_count": null,
      "outputs": []
    },
    {
      "cell_type": "code",
      "source": [],
      "metadata": {
        "id": "kinXNSQDlC1h"
      },
      "execution_count": null,
      "outputs": []
    },
    {
      "cell_type": "code",
      "source": [],
      "metadata": {
        "id": "LaIS8tBflCzT"
      },
      "execution_count": null,
      "outputs": []
    }
  ]
}