{
 "cells": [
  {
   "cell_type": "markdown",
   "metadata": {},
   "source": [
    "## Today's Content: \n",
    "\n",
    "1. regular expresion -> match string \n",
    "2. any, all, max, min, sort, key\n",
    "3. python methods and function\n",
    "4. the complexity control of programming \n",
    "5. Object Oriented Programming: \n",
    "7. what's an Object ? \n",
    "8. Inner Implement of Object Oriented \n",
    "9. ClassMethods and StaticMethods \n",
    "10. Operation reload. "
   ]
  },
  {
   "cell_type": "code",
   "execution_count": 12,
   "metadata": {},
   "outputs": [],
   "source": [
    "def match_1(p, text):\n",
    "    if text == '': return None\n",
    "    \n",
    "    return text[0] if (p == text[0] or p == '.') else None"
   ]
  },
  {
   "cell_type": "code",
   "execution_count": 13,
   "metadata": {},
   "outputs": [
    {
     "name": "stdout",
     "output_type": "stream",
     "text": [
      "test done!\n"
     ]
    }
   ],
   "source": [
    "assert match_1('a', 'anew')  == 'a'\n",
    "assert match_1('a', '') is None\n",
    "assert match_1('.', 'a') == 'a'\n",
    "assert match_1('a', 'b') is None\n",
    "print('test done!')"
   ]
  },
  {
   "cell_type": "code",
   "execution_count": 16,
   "metadata": {},
   "outputs": [],
   "source": [
    "def match_plus(p, _pat, text): \n",
    "    # a*bcd => p: a, _pat: bcd,  text: abcdefg \n",
    "    return match_1(p, text) + (\n",
    "       match(_pat, text[1:]) or match_plus(p, _pat, text[1:])\n",
    "    )"
   ]
  },
  {
   "cell_type": "code",
   "execution_count": 17,
   "metadata": {},
   "outputs": [],
   "source": [
    "def match(pat, text):\n",
    "    \"\"\"\n",
    "    return: \n",
    "        None: if pat not be found in the text begining\n",
    "        string: the matched sub-string in the text begining \n",
    "    \"\"\"\n",
    "    \n",
    "    if pat == '': return ''\n",
    "    elif pat == '$': return text if text == '' else None\n",
    "    elif len(pat) > 1 and pat[1] in '*?+':\n",
    "        p, op, _pat = pat[0], pat[1], pat[2:]\n",
    "        if op == '*':  return match(_pat, text) or match_plus(p, _pat, text)\n",
    "        elif op == '?': return match(p + _pat, text) or match(_pat, text)\n",
    "        elif op == '+': return match_plus(p, _pat, text)\n",
    "    else:\n",
    "        head = match_1(pat[0], text)\n",
    "        tail = match(pat[1:], text[1:])\n",
    "        \n",
    "        if head and tail:\n",
    "            return head + tail \n",
    "        else:\n",
    "            return None\n",
    "#        return match_1(pat[0], text) and match(pat[1:], text[1:])\n",
    "    \n",
    "\n",
    "def search(pat, text):\n",
    "    \"\"\"\n",
    "    return if pat exists in this text\n",
    "    >>> search('p?hone', 'phone')\n",
    "    phone\n",
    "    >>> search('p?hone', 'hone')\n",
    "    hone\n",
    "    >>> search('p?hone', 'this is my honey')\n",
    "    honey\n",
    "    >>> search('^ph?one*', 'poneeeee something else')\n",
    "    poneeeee\n",
    "    >>> search('^ph?one*', 'phon')\n",
    "    phon\n",
    "    >>> search('^ph?one*', 'iphone')\n",
    "    None\n",
    "    >>> search('^ph?one*.*!$', 'phone number!')\n",
    "    phone number!\n",
    "    >>> search('^ph?one*.*!$', 'phone number')\n",
    "    None\n",
    "    \"\"\"\n",
    "    if pat.startswith('^'):\n",
    "        # e.g ^phone, ^1.*\n",
    "        return match(pat[1:], text)\n",
    "    else:\n",
    "        r = match(pat, text) or None\n",
    "        \n",
    "        return r if r else search(pat, text[1:])\n",
    "\n",
    "#         for i in range(len(text)):\n",
    "#             r = match(pat, text[i:])\n",
    "#             if r:\n",
    "#                 return r\n",
    "#         return None"
   ]
  },
  {
   "cell_type": "code",
   "execution_count": 18,
   "metadata": {},
   "outputs": [],
   "source": [
    "import doctest"
   ]
  },
  {
   "cell_type": "code",
   "execution_count": 19,
   "metadata": {
    "collapsed": true
   },
   "outputs": [
    {
     "name": "stdout",
     "output_type": "stream",
     "text": [
      "**********************************************************************\n",
      "File \"__main__\", line 29, in __main__.search\n",
      "Failed example:\n",
      "    search('p?hone', 'phone')\n",
      "Exception raised:\n",
      "    Traceback (most recent call last):\n",
      "      File \"/Users/gaominquan/anaconda3/lib/python3.7/doctest.py\", line 1329, in __run\n",
      "        compileflags, 1), test.globs)\n",
      "      File \"<doctest __main__.search[0]>\", line 1, in <module>\n",
      "        search('p?hone', 'phone')\n",
      "      File \"<ipython-input-17-61ebaa9c385a>\", line 52, in search\n",
      "        return r if r else search(pat, text[1:])\n",
      "      File \"<ipython-input-17-61ebaa9c385a>\", line 52, in search\n",
      "        return r if r else search(pat, text[1:])\n",
      "      File \"<ipython-input-17-61ebaa9c385a>\", line 52, in search\n",
      "        return r if r else search(pat, text[1:])\n",
      "      [Previous line repeated 2945 more times]\n",
      "      File \"<ipython-input-17-61ebaa9c385a>\", line 50, in search\n",
      "        r = match(pat, text) or None\n",
      "      File \"<ipython-input-17-61ebaa9c385a>\", line 13, in match\n",
      "        elif op == '?': return match(p + _pat, text) or match(_pat, text)\n",
      "      File \"<ipython-input-17-61ebaa9c385a>\", line 17, in match\n",
      "        tail = match(pat[1:], text[1:])\n",
      "      File \"<ipython-input-17-61ebaa9c385a>\", line 17, in match\n",
      "        tail = match(pat[1:], text[1:])\n",
      "      File \"<ipython-input-17-61ebaa9c385a>\", line 17, in match\n",
      "        tail = match(pat[1:], text[1:])\n",
      "      [Previous line repeated 1 more time]\n",
      "      File \"<ipython-input-17-61ebaa9c385a>\", line 16, in match\n",
      "        head = match_1(pat[0], text)\n",
      "      File \"<ipython-input-12-facffa988b61>\", line 2, in match_1\n",
      "        if text == '': return None\n",
      "    RecursionError: maximum recursion depth exceeded in comparison\n",
      "**********************************************************************\n",
      "File \"__main__\", line 31, in __main__.search\n",
      "Failed example:\n",
      "    search('p?hone', 'hone')\n",
      "Exception raised:\n",
      "    Traceback (most recent call last):\n",
      "      File \"/Users/gaominquan/anaconda3/lib/python3.7/doctest.py\", line 1329, in __run\n",
      "        compileflags, 1), test.globs)\n",
      "      File \"<doctest __main__.search[1]>\", line 1, in <module>\n",
      "        search('p?hone', 'hone')\n",
      "      File \"<ipython-input-17-61ebaa9c385a>\", line 52, in search\n",
      "        return r if r else search(pat, text[1:])\n",
      "      File \"<ipython-input-17-61ebaa9c385a>\", line 52, in search\n",
      "        return r if r else search(pat, text[1:])\n",
      "      File \"<ipython-input-17-61ebaa9c385a>\", line 52, in search\n",
      "        return r if r else search(pat, text[1:])\n",
      "      [Previous line repeated 2945 more times]\n",
      "      File \"<ipython-input-17-61ebaa9c385a>\", line 50, in search\n",
      "        r = match(pat, text) or None\n",
      "      File \"<ipython-input-17-61ebaa9c385a>\", line 13, in match\n",
      "        elif op == '?': return match(p + _pat, text) or match(_pat, text)\n",
      "      File \"<ipython-input-17-61ebaa9c385a>\", line 17, in match\n",
      "        tail = match(pat[1:], text[1:])\n",
      "      File \"<ipython-input-17-61ebaa9c385a>\", line 17, in match\n",
      "        tail = match(pat[1:], text[1:])\n",
      "      File \"<ipython-input-17-61ebaa9c385a>\", line 17, in match\n",
      "        tail = match(pat[1:], text[1:])\n",
      "      [Previous line repeated 1 more time]\n",
      "      File \"<ipython-input-17-61ebaa9c385a>\", line 16, in match\n",
      "        head = match_1(pat[0], text)\n",
      "      File \"<ipython-input-12-facffa988b61>\", line 2, in match_1\n",
      "        if text == '': return None\n",
      "    RecursionError: maximum recursion depth exceeded in comparison\n",
      "**********************************************************************\n",
      "File \"__main__\", line 33, in __main__.search\n",
      "Failed example:\n",
      "    search('p?hone', 'this is my honey')\n",
      "Exception raised:\n",
      "    Traceback (most recent call last):\n",
      "      File \"/Users/gaominquan/anaconda3/lib/python3.7/doctest.py\", line 1329, in __run\n",
      "        compileflags, 1), test.globs)\n",
      "      File \"<doctest __main__.search[2]>\", line 1, in <module>\n",
      "        search('p?hone', 'this is my honey')\n",
      "      File \"<ipython-input-17-61ebaa9c385a>\", line 52, in search\n",
      "        return r if r else search(pat, text[1:])\n",
      "      File \"<ipython-input-17-61ebaa9c385a>\", line 52, in search\n",
      "        return r if r else search(pat, text[1:])\n",
      "      File \"<ipython-input-17-61ebaa9c385a>\", line 52, in search\n",
      "        return r if r else search(pat, text[1:])\n",
      "      [Previous line repeated 2945 more times]\n",
      "      File \"<ipython-input-17-61ebaa9c385a>\", line 50, in search\n",
      "        r = match(pat, text) or None\n",
      "      File \"<ipython-input-17-61ebaa9c385a>\", line 13, in match\n",
      "        elif op == '?': return match(p + _pat, text) or match(_pat, text)\n",
      "      File \"<ipython-input-17-61ebaa9c385a>\", line 17, in match\n",
      "        tail = match(pat[1:], text[1:])\n",
      "      File \"<ipython-input-17-61ebaa9c385a>\", line 17, in match\n",
      "        tail = match(pat[1:], text[1:])\n",
      "      File \"<ipython-input-17-61ebaa9c385a>\", line 17, in match\n",
      "        tail = match(pat[1:], text[1:])\n",
      "      [Previous line repeated 1 more time]\n",
      "      File \"<ipython-input-17-61ebaa9c385a>\", line 16, in match\n",
      "        head = match_1(pat[0], text)\n",
      "      File \"<ipython-input-12-facffa988b61>\", line 2, in match_1\n",
      "        if text == '': return None\n",
      "    RecursionError: maximum recursion depth exceeded in comparison\n",
      "**********************************************************************\n",
      "File \"__main__\", line 35, in __main__.search\n",
      "Failed example:\n",
      "    search('^ph?one*', 'poneeeee something else')\n",
      "Exception raised:\n",
      "    Traceback (most recent call last):\n",
      "      File \"/Users/gaominquan/anaconda3/lib/python3.7/doctest.py\", line 1329, in __run\n",
      "        compileflags, 1), test.globs)\n",
      "      File \"<doctest __main__.search[3]>\", line 1, in <module>\n",
      "        search('^ph?one*', 'poneeeee something else')\n",
      "      File \"<ipython-input-17-61ebaa9c385a>\", line 48, in search\n",
      "        return match(pat[1:], text)\n",
      "      File \"<ipython-input-17-61ebaa9c385a>\", line 17, in match\n",
      "        tail = match(pat[1:], text[1:])\n",
      "      File \"<ipython-input-17-61ebaa9c385a>\", line 13, in match\n",
      "        elif op == '?': return match(p + _pat, text) or match(_pat, text)\n",
      "      File \"<ipython-input-17-61ebaa9c385a>\", line 17, in match\n",
      "        tail = match(pat[1:], text[1:])\n",
      "      File \"<ipython-input-17-61ebaa9c385a>\", line 17, in match\n",
      "        tail = match(pat[1:], text[1:])\n",
      "      File \"<ipython-input-17-61ebaa9c385a>\", line 17, in match\n",
      "        tail = match(pat[1:], text[1:])\n",
      "      File \"<ipython-input-17-61ebaa9c385a>\", line 12, in match\n",
      "        if op == '*':  return match(_pat, text) or match_plus(p, _pat, text)\n",
      "      File \"<ipython-input-16-40ab7e218f3a>\", line 4, in match_plus\n",
      "        match(_pat, text[1:]) or match_plus(p, _pat, text[1:])\n",
      "      File \"<ipython-input-16-40ab7e218f3a>\", line 4, in match_plus\n",
      "        match(_pat, text[1:]) or match_plus(p, _pat, text[1:])\n",
      "      File \"<ipython-input-16-40ab7e218f3a>\", line 4, in match_plus\n",
      "        match(_pat, text[1:]) or match_plus(p, _pat, text[1:])\n",
      "      [Previous line repeated 2944 more times]\n",
      "      File \"<ipython-input-16-40ab7e218f3a>\", line 3, in match_plus\n",
      "        return match_1(p, text) + (\n",
      "      File \"<ipython-input-12-facffa988b61>\", line 2, in match_1\n",
      "        if text == '': return None\n",
      "    RecursionError: maximum recursion depth exceeded in comparison\n",
      "**********************************************************************\n",
      "File \"__main__\", line 37, in __main__.search\n",
      "Failed example:\n",
      "    search('^ph?one*', 'phon')\n",
      "Exception raised:\n",
      "    Traceback (most recent call last):\n",
      "      File \"/Users/gaominquan/anaconda3/lib/python3.7/doctest.py\", line 1329, in __run\n",
      "        compileflags, 1), test.globs)\n",
      "      File \"<doctest __main__.search[4]>\", line 1, in <module>\n",
      "        search('^ph?one*', 'phon')\n",
      "      File \"<ipython-input-17-61ebaa9c385a>\", line 48, in search\n",
      "        return match(pat[1:], text)\n",
      "      File \"<ipython-input-17-61ebaa9c385a>\", line 17, in match\n",
      "        tail = match(pat[1:], text[1:])\n",
      "      File \"<ipython-input-17-61ebaa9c385a>\", line 13, in match\n",
      "        elif op == '?': return match(p + _pat, text) or match(_pat, text)\n",
      "      File \"<ipython-input-17-61ebaa9c385a>\", line 17, in match\n",
      "        tail = match(pat[1:], text[1:])\n",
      "      File \"<ipython-input-17-61ebaa9c385a>\", line 17, in match\n",
      "        tail = match(pat[1:], text[1:])\n",
      "      File \"<ipython-input-17-61ebaa9c385a>\", line 17, in match\n",
      "        tail = match(pat[1:], text[1:])\n",
      "      File \"<ipython-input-17-61ebaa9c385a>\", line 12, in match\n",
      "        if op == '*':  return match(_pat, text) or match_plus(p, _pat, text)\n",
      "      File \"<ipython-input-16-40ab7e218f3a>\", line 4, in match_plus\n",
      "        match(_pat, text[1:]) or match_plus(p, _pat, text[1:])\n",
      "      File \"<ipython-input-16-40ab7e218f3a>\", line 4, in match_plus\n",
      "        match(_pat, text[1:]) or match_plus(p, _pat, text[1:])\n",
      "      File \"<ipython-input-16-40ab7e218f3a>\", line 4, in match_plus\n",
      "        match(_pat, text[1:]) or match_plus(p, _pat, text[1:])\n",
      "      [Previous line repeated 2944 more times]\n",
      "      File \"<ipython-input-16-40ab7e218f3a>\", line 3, in match_plus\n",
      "        return match_1(p, text) + (\n",
      "      File \"<ipython-input-12-facffa988b61>\", line 2, in match_1\n",
      "        if text == '': return None\n",
      "    RecursionError: maximum recursion depth exceeded in comparison\n",
      "**********************************************************************\n",
      "File \"__main__\", line 39, in __main__.search\n",
      "Failed example:\n",
      "    search('^ph?one*', 'iphone')\n",
      "Exception raised:\n",
      "    Traceback (most recent call last):\n",
      "      File \"/Users/gaominquan/anaconda3/lib/python3.7/doctest.py\", line 1329, in __run\n",
      "        compileflags, 1), test.globs)\n",
      "      File \"<doctest __main__.search[5]>\", line 1, in <module>\n",
      "        search('^ph?one*', 'iphone')\n",
      "      File \"<ipython-input-17-61ebaa9c385a>\", line 48, in search\n",
      "        return match(pat[1:], text)\n",
      "      File \"<ipython-input-17-61ebaa9c385a>\", line 17, in match\n",
      "        tail = match(pat[1:], text[1:])\n",
      "      File \"<ipython-input-17-61ebaa9c385a>\", line 13, in match\n",
      "        elif op == '?': return match(p + _pat, text) or match(_pat, text)\n",
      "      File \"<ipython-input-17-61ebaa9c385a>\", line 17, in match\n",
      "        tail = match(pat[1:], text[1:])\n",
      "      File \"<ipython-input-17-61ebaa9c385a>\", line 17, in match\n",
      "        tail = match(pat[1:], text[1:])\n",
      "      File \"<ipython-input-17-61ebaa9c385a>\", line 17, in match\n",
      "        tail = match(pat[1:], text[1:])\n",
      "      File \"<ipython-input-17-61ebaa9c385a>\", line 12, in match\n",
      "        if op == '*':  return match(_pat, text) or match_plus(p, _pat, text)\n",
      "      File \"<ipython-input-16-40ab7e218f3a>\", line 4, in match_plus\n",
      "        match(_pat, text[1:]) or match_plus(p, _pat, text[1:])\n",
      "      File \"<ipython-input-16-40ab7e218f3a>\", line 4, in match_plus\n",
      "        match(_pat, text[1:]) or match_plus(p, _pat, text[1:])\n",
      "      File \"<ipython-input-16-40ab7e218f3a>\", line 4, in match_plus\n",
      "        match(_pat, text[1:]) or match_plus(p, _pat, text[1:])\n",
      "      [Previous line repeated 2944 more times]\n",
      "      File \"<ipython-input-16-40ab7e218f3a>\", line 3, in match_plus\n",
      "        return match_1(p, text) + (\n",
      "      File \"<ipython-input-12-facffa988b61>\", line 2, in match_1\n",
      "        if text == '': return None\n",
      "    RecursionError: maximum recursion depth exceeded in comparison\n",
      "**********************************************************************\n",
      "File \"__main__\", line 41, in __main__.search\n",
      "Failed example:\n",
      "    search('^ph?one*.*!$', 'phone number!')\n",
      "Exception raised:\n",
      "    Traceback (most recent call last):\n",
      "      File \"/Users/gaominquan/anaconda3/lib/python3.7/doctest.py\", line 1329, in __run\n",
      "        compileflags, 1), test.globs)\n",
      "      File \"<doctest __main__.search[6]>\", line 1, in <module>\n",
      "        search('^ph?one*.*!$', 'phone number!')\n",
      "      File \"<ipython-input-17-61ebaa9c385a>\", line 48, in search\n",
      "        return match(pat[1:], text)\n",
      "      File \"<ipython-input-17-61ebaa9c385a>\", line 17, in match\n",
      "        tail = match(pat[1:], text[1:])\n",
      "      File \"<ipython-input-17-61ebaa9c385a>\", line 13, in match\n",
      "        elif op == '?': return match(p + _pat, text) or match(_pat, text)\n",
      "      File \"<ipython-input-17-61ebaa9c385a>\", line 17, in match\n",
      "        tail = match(pat[1:], text[1:])\n",
      "      File \"<ipython-input-17-61ebaa9c385a>\", line 17, in match\n",
      "        tail = match(pat[1:], text[1:])\n",
      "      File \"<ipython-input-17-61ebaa9c385a>\", line 17, in match\n",
      "        tail = match(pat[1:], text[1:])\n",
      "      File \"<ipython-input-17-61ebaa9c385a>\", line 12, in match\n",
      "        if op == '*':  return match(_pat, text) or match_plus(p, _pat, text)\n",
      "      File \"<ipython-input-17-61ebaa9c385a>\", line 12, in match\n",
      "        if op == '*':  return match(_pat, text) or match_plus(p, _pat, text)\n",
      "      File \"<ipython-input-16-40ab7e218f3a>\", line 4, in match_plus\n",
      "        match(_pat, text[1:]) or match_plus(p, _pat, text[1:])\n",
      "      File \"<ipython-input-16-40ab7e218f3a>\", line 4, in match_plus\n",
      "        match(_pat, text[1:]) or match_plus(p, _pat, text[1:])\n",
      "      File \"<ipython-input-16-40ab7e218f3a>\", line 4, in match_plus\n",
      "        match(_pat, text[1:]) or match_plus(p, _pat, text[1:])\n",
      "      [Previous line repeated 2943 more times]\n",
      "      File \"<ipython-input-17-61ebaa9c385a>\", line 16, in match\n",
      "        head = match_1(pat[0], text)\n",
      "      File \"<ipython-input-12-facffa988b61>\", line 2, in match_1\n",
      "        if text == '': return None\n",
      "    RecursionError: maximum recursion depth exceeded in comparison\n",
      "**********************************************************************\n",
      "File \"__main__\", line 43, in __main__.search\n",
      "Failed example:\n",
      "    search('^ph?one*.*!$', 'phone number')\n",
      "Exception raised:\n",
      "    Traceback (most recent call last):\n",
      "      File \"/Users/gaominquan/anaconda3/lib/python3.7/doctest.py\", line 1329, in __run\n",
      "        compileflags, 1), test.globs)\n",
      "      File \"<doctest __main__.search[7]>\", line 1, in <module>\n",
      "        search('^ph?one*.*!$', 'phone number')\n",
      "      File \"<ipython-input-17-61ebaa9c385a>\", line 48, in search\n",
      "        return match(pat[1:], text)\n",
      "      File \"<ipython-input-17-61ebaa9c385a>\", line 17, in match\n",
      "        tail = match(pat[1:], text[1:])\n",
      "      File \"<ipython-input-17-61ebaa9c385a>\", line 13, in match\n",
      "        elif op == '?': return match(p + _pat, text) or match(_pat, text)\n",
      "      File \"<ipython-input-17-61ebaa9c385a>\", line 17, in match\n",
      "        tail = match(pat[1:], text[1:])\n",
      "      File \"<ipython-input-17-61ebaa9c385a>\", line 17, in match\n",
      "        tail = match(pat[1:], text[1:])\n",
      "      File \"<ipython-input-17-61ebaa9c385a>\", line 17, in match\n",
      "        tail = match(pat[1:], text[1:])\n",
      "      File \"<ipython-input-17-61ebaa9c385a>\", line 12, in match\n",
      "        if op == '*':  return match(_pat, text) or match_plus(p, _pat, text)\n",
      "      File \"<ipython-input-17-61ebaa9c385a>\", line 12, in match\n",
      "        if op == '*':  return match(_pat, text) or match_plus(p, _pat, text)\n",
      "      File \"<ipython-input-16-40ab7e218f3a>\", line 4, in match_plus\n",
      "        match(_pat, text[1:]) or match_plus(p, _pat, text[1:])\n",
      "      File \"<ipython-input-16-40ab7e218f3a>\", line 4, in match_plus\n",
      "        match(_pat, text[1:]) or match_plus(p, _pat, text[1:])\n",
      "      File \"<ipython-input-16-40ab7e218f3a>\", line 4, in match_plus\n",
      "        match(_pat, text[1:]) or match_plus(p, _pat, text[1:])\n",
      "      [Previous line repeated 2943 more times]\n",
      "      File \"<ipython-input-17-61ebaa9c385a>\", line 16, in match\n",
      "        head = match_1(pat[0], text)\n",
      "      File \"<ipython-input-12-facffa988b61>\", line 2, in match_1\n",
      "        if text == '': return None\n",
      "    RecursionError: maximum recursion depth exceeded in comparison\n",
      "**********************************************************************\n",
      "1 items had failures:\n",
      "   8 of   8 in __main__.search\n",
      "***Test Failed*** 8 failures.\n"
     ]
    },
    {
     "data": {
      "text/plain": [
       "TestResults(failed=8, attempted=12)"
      ]
     },
     "execution_count": 19,
     "metadata": {},
     "output_type": "execute_result"
    }
   ],
   "source": [
    "doctest.testmod()"
   ]
  },
  {
   "cell_type": "markdown",
   "metadata": {},
   "source": [
    "##   内置的  any, all, max, min, sort, key = lambda"
   ]
  },
  {
   "cell_type": "code",
   "execution_count": 82,
   "metadata": {},
   "outputs": [],
   "source": [
    "from dataclasses import dataclass\n",
    "\n",
    "@dataclass\n",
    "class User:\n",
    "    name: str\n",
    "    credits : float\n",
    "    price: int\n",
    "    uid : str"
   ]
  },
  {
   "cell_type": "code",
   "execution_count": 34,
   "metadata": {},
   "outputs": [],
   "source": [
    "import random"
   ]
  },
  {
   "cell_type": "code",
   "execution_count": 83,
   "metadata": {},
   "outputs": [],
   "source": [
    "users = [User(f'user_{i}', \n",
    "              random.randint(-20, 100), \n",
    "              random.randint(-10, 100),\n",
    "              'uuid'+str(random.randint(1000, 2000))) for \n",
    "        i in range(100)]"
   ]
  },
  {
   "cell_type": "markdown",
   "metadata": {},
   "source": [
    "# Task:1 发现如果有任意的一个user的credit是大于98的，弹出有人已经要满分了"
   ]
  },
  {
   "cell_type": "code",
   "execution_count": 54,
   "metadata": {},
   "outputs": [
    {
     "name": "stdout",
     "output_type": "stream",
     "text": [
      "there is a user nearly success!\n"
     ]
    }
   ],
   "source": [
    "for u in users:\n",
    "    if u.credits >= 98: \n",
    "        print('there is a user nearly success!')\n",
    "        break"
   ]
  },
  {
   "cell_type": "code",
   "execution_count": 49,
   "metadata": {},
   "outputs": [],
   "source": [
    "from functools import reduce"
   ]
  },
  {
   "cell_type": "code",
   "execution_count": 51,
   "metadata": {},
   "outputs": [
    {
     "data": {
      "text/plain": [
       "True"
      ]
     },
     "execution_count": 51,
     "metadata": {},
     "output_type": "execute_result"
    }
   ],
   "source": [
    "reduce(lambda a, b: a or b,[False, True, True, False])"
   ]
  },
  {
   "cell_type": "code",
   "execution_count": 55,
   "metadata": {},
   "outputs": [
    {
     "name": "stdout",
     "output_type": "stream",
     "text": [
      "there is a user nearly success!\n"
     ]
    }
   ],
   "source": [
    "if any([u.credits >= 98 for u in users]):\n",
    "    print('there is a user nearly success!')"
   ]
  },
  {
   "cell_type": "code",
   "execution_count": 57,
   "metadata": {},
   "outputs": [],
   "source": [
    "def gen_users():\n",
    "    return [User(f'user_{i}', random.randint(-100, 100), 'uuid'+str(random.randint(1000, 2000))) for \n",
    "            i in range(100)]\n",
    "\n",
    "\n",
    "# \n",
    "users = gen_users()\n",
    "while any([u.credits <= -20 for u in users]):\n",
    "    print('there are some users too small')\n",
    "    users = gen_users()\n",
    "    \n",
    "# users = gen_users()\n",
    "while all([u.credits <= 80 for u in users]):\n",
    "    print('the credits are too small')\n",
    "    users = gen_users()\n",
    "    \n",
    "users = gen_users()\n",
    "while any([c < 80 for c in filter(map(lambda u: abs(u.credits), users), c % 2 == 0)]):\n",
    "    print('there are some users too small')\n",
    "    users = gen_users()\n",
    "    \n",
    "# users = gen_users()\n",
    "while all([u.credits <= 80 for u in users]):\n",
    "    print('the credits are too small')\n",
    "    users = gen_users()"
   ]
  },
  {
   "cell_type": "code",
   "execution_count": 69,
   "metadata": {},
   "outputs": [
    {
     "data": {
      "text/plain": [
       "-9"
      ]
     },
     "execution_count": 69,
     "metadata": {},
     "output_type": "execute_result"
    }
   ],
   "source": [
    "(lambda u: u - 1 if u > 10 else -u)(9)"
   ]
  },
  {
   "cell_type": "code",
   "execution_count": 70,
   "metadata": {},
   "outputs": [],
   "source": [
    "# error\n",
    "# (lambda u: if u > 10: u - 1  else: -u)(9)"
   ]
  },
  {
   "cell_type": "code",
   "execution_count": 72,
   "metadata": {},
   "outputs": [],
   "source": [
    "from icecream import ic"
   ]
  },
  {
   "cell_type": "code",
   "execution_count": 81,
   "metadata": {},
   "outputs": [
    {
     "name": "stderr",
     "output_type": "stream",
     "text": [
      "ic| max(users, key=lambda u: u.credits): User(name='user_43', credits=100, uid='uuid1815')\n",
      "ic| min(users, key=lambda u: u.credits): User(name='user_17', credits=-100, uid='uuid1026')\n",
      "ic| sorted(users, key=lambda u: u.credits, reverse=True): [User(name='user_43', credits=100, uid='uuid1815'),\n",
      "                                                           User(name='user_72', credits=98, uid='uuid1532'),\n",
      "                                                           User(name='user_70', credits=96, uid='uuid1744'),\n",
      "                                                           User(name='user_31', credits=94, uid='uuid1423'),\n",
      "                                                           User(name='user_77', credits=94, uid='uuid1646'),\n",
      "                                                           User(name='user_69', credits=91, uid='uuid1835'),\n",
      "                                                           User(name='user_95', credits=91, uid='uuid1802'),\n",
      "                                                           User(name='user_59', credits=90, uid='uuid1100'),\n",
      "                                                           User(name='user_40', credits=87, uid='uuid1252'),\n",
      "                                                           User(name='user_52', credits=87, uid='uuid1776'),\n",
      "                                                           User(name='user_91', credits=87, uid='uuid1415'),\n",
      "                                                           User(name='user_86', credits=82, uid='uuid1621'),\n",
      "                                                           User(name='user_32', credits=81, uid='uuid1972'),\n",
      "                                                           User(name='user_65', credits=79, uid='uuid1781'),\n",
      "                                                           User(name='user_5', credits=76, uid='uuid1467'),\n",
      "                                                           User(name='user_54', credits=76, uid='uuid1024'),\n",
      "                                                           User(name='user_28', credits=75, uid='uuid1398'),\n",
      "                                                           User(name='user_18', credits=72, uid='uuid1894'),\n",
      "                                                           User(name='user_96', credits=70, uid='uuid1411'),\n",
      "                                                           User(name='user_21', credits=68, uid='uuid1800'),\n",
      "                                                           User(name='user_57', credits=68, uid='uuid1480'),\n",
      "                                                           User(name='user_73', credits=66, uid='uuid1072'),\n",
      "                                                           User(name='user_1', credits=60, uid='uuid1092'),\n",
      "                                                           User(name='user_75', credits=57, uid='uuid1179'),\n",
      "                                                           User(name='user_4', credits=54, uid='uuid1790'),\n",
      "                                                           User(name='user_25', credits=53, uid='uuid1081'),\n",
      "                                                           User(name='user_10', credits=52, uid='uuid1515'),\n",
      "                                                           User(name='user_0', credits=48, uid='uuid1203'),\n",
      "                                                           User(name='user_51', credits=48, uid='uuid1565'),\n",
      "                                                           User(name='user_92', credits=47, uid='uuid1697'),\n",
      "                                                           User(name='user_6', credits=44, uid='uuid1681'),\n",
      "                                                           User(name='user_14', credits=42, uid='uuid1318'),\n",
      "                                                           User(name='user_9', credits=41, uid='uuid1341'),\n",
      "                                                           User(name='user_60', credits=38, uid='uuid1969'),\n",
      "                                                           User(name='user_38', credits=37, uid='uuid1812'),\n",
      "                                                           User(name='user_71', credits=37, uid='uuid1358'),\n",
      "                                                           User(name='user_93', credits=35, uid='uuid1086'),\n",
      "                                                           User(name='user_53', credits=34, uid='uuid1815'),\n",
      "                                                           User(name='user_58', credits=32, uid='uuid1379'),\n",
      "                                                           User(name='user_36', credits=31, uid='uuid1700'),\n",
      "                                                           User(name='user_30', credits=30, uid='uuid1217'),\n",
      "                                                           User(name='user_7', credits=29, uid='uuid1673'),\n",
      "                                                           User(name='user_33', credits=26, uid='uuid1708'),\n",
      "                                                           User(name='user_2', credits=24, uid='uuid1258'),\n",
      "                                                           User(name='user_82', credits=24, uid='uuid1312'),\n",
      "                                                           User(name='user_99', credits=22, uid='uuid1518'),\n",
      "                                                           User(name='user_15', credits=19, uid='uuid1390'),\n",
      "                                                           User(name='user_44', credits=18, uid='uuid1157'),\n",
      "                                                           User(name='user_55', credits=18, uid='uuid1544'),\n",
      "                                                           User(name='user_34', credits=15, uid='uuid1934'),\n",
      "                                                           User(name='user_42', credits=15, uid='uuid1005'),\n",
      "                                                           User(name='user_50', credits=14, uid='uuid1460'),\n",
      "                                                           User(name='user_13', credits=13, uid='uuid1544'),\n",
      "                                                           User(name='user_11', credits=12, uid='uuid1976'),\n",
      "                                                           User(name='user_19', credits=10, uid='uuid1748'),\n",
      "                                                           User(name='user_8', credits=9, uid='uuid1208'),\n",
      "                                                           User(name='user_37', credits=0, uid='uuid1798'),\n",
      "                                                           User(name='user_46', credits=0, uid='uuid1402'),\n",
      "                                                           User(name='user_81', credits=0, uid='uuid1262'),\n",
      "                                                           User(name='user_41', credits=-1, uid='uuid1461'),\n",
      "                                                           User(name='user_83', credits=-1, uid='uuid1409'),\n",
      "                                                           User(name='user_12', credits=-3, uid='uuid1926'),\n",
      "                                                           User(name='user_84', credits=-3, uid='uuid1209'),\n",
      "                                                           User(name='user_97', credits=-3, uid='uuid1947'),\n",
      "                                                           User(name='user_20', credits=-4, uid='uuid1165'),\n",
      "                                                           User(name='user_64', credits=-8, uid='uuid1539'),\n",
      "                                                           User(name='user_80', credits=-8, uid='uuid1977'),\n",
      "                                                           User(name='user_22', credits=-9, uid='uuid1123'),\n",
      "                                                           User(name='user_63', credits=-9, uid='uuid1492'),\n",
      "                                                           User(name='user_78', credits=-11, uid='uuid1516'),\n",
      "                                                           User(name='user_27', credits=-14, uid='uuid1635'),\n",
      "                                                           User(name='user_39', credits=-17, uid='uuid1022'),\n",
      "                                                           User(name='user_62', credits=-19, uid='uuid1546'),\n"
     ]
    },
    {
     "name": "stderr",
     "output_type": "stream",
     "text": [
      "                                                           User(name='user_56', credits=-25, uid='uuid1676'),\n",
      "                                                           User(name='user_26', credits=-27, uid='uuid1549'),\n",
      "                                                           User(name='user_47', credits=-34, uid='uuid1765'),\n",
      "                                                           User(name='user_23', credits=-35, uid='uuid1570'),\n",
      "                                                           User(name='user_79', credits=-35, uid='uuid1835'),\n",
      "                                                           User(name='user_85', credits=-36, uid='uuid1451'),\n",
      "                                                           User(name='user_48', credits=-46, uid='uuid1543'),\n",
      "                                                           User(name='user_66', credits=-46, uid='uuid1759'),\n",
      "                                                           User(name='user_3', credits=-47, uid='uuid1664'),\n",
      "                                                           User(name='user_98', credits=-51, uid='uuid1991'),\n",
      "                                                           User(name='user_35', credits=-54, uid='uuid1113'),\n",
      "                                                           User(name='user_89', credits=-54, uid='uuid1447'),\n",
      "                                                           User(name='user_61', credits=-58, uid='uuid1088'),\n",
      "                                                           User(name='user_67', credits=-58, uid='uuid1276'),\n",
      "                                                           User(name='user_45', credits=-63, uid='uuid1464'),\n",
      "                                                           User(name='user_88', credits=-69, uid='uuid1147'),\n",
      "                                                           User(name='user_68', credits=-77, uid='uuid1888'),\n",
      "                                                           User(name='user_94', credits=-77, uid='uuid1199'),\n",
      "                                                           User(name='user_87', credits=-81, uid='uuid1167'),\n",
      "                                                           User(name='user_24', credits=-88, uid='uuid1079'),\n",
      "                                                           User(name='user_74', credits=-90, uid='uuid1196'),\n",
      "                                                           User(name='user_49', credits=-93, uid='uuid1882'),\n",
      "                                                           User(name='user_76', credits=-94, uid='uuid1227'),\n",
      "                                                           User(name='user_90', credits=-94, uid='uuid1091'),\n",
      "                                                           User(name='user_29', credits=-97, uid='uuid1216'),\n",
      "                                                           User(name='user_16', credits=-98, uid='uuid1456'),\n",
      "                                                           User(name='user_17', credits=-100, uid='uuid1026')]\n",
      "ic| max([(u, u.credits) for u in users], key=lambda e : e[1]): (User(name='user_43', credits=100, uid='uuid1815'), 100)\n"
     ]
    },
    {
     "data": {
      "text/plain": [
       "(User(name='user_43', credits=100, uid='uuid1815'), 100)"
      ]
     },
     "execution_count": 81,
     "metadata": {},
     "output_type": "execute_result"
    }
   ],
   "source": [
    "def some_func(user):\n",
    "    return user.credits\n",
    "\n",
    "max(users, key=some_func)\n",
    "\n",
    "ic(max(users, key=lambda u: u.credits))\n",
    "ic(min(users, key=lambda u: u.credits))\n",
    "ic(sorted(users, key=lambda u: u.credits, reverse=True))\n",
    "\n",
    "#max([some_func(u) for u in users])\n",
    "ic(max([(u, u.credits) for u in users], key=lambda e : e[1]))"
   ]
  },
  {
   "cell_type": "code",
   "execution_count": 89,
   "metadata": {},
   "outputs": [
    {
     "data": {
      "text/plain": [
       "[(1, -4, 3), (0, 2, 3), (1, 2, 3), (1, 2, 4), (1, 4, 3)]"
      ]
     },
     "execution_count": 89,
     "metadata": {},
     "output_type": "execute_result"
    }
   ],
   "source": [
    "sorted([\n",
    "    (1, 2, 3), \n",
    "    (0, 2, 3),\n",
    "    (1, 2, 4), \n",
    "    (1, 4, 3),\n",
    "    (1, -4, 3)\n",
    "], key=lambda e: (e[1], e[2], e[0]))"
   ]
  },
  {
   "cell_type": "code",
   "execution_count": 93,
   "metadata": {},
   "outputs": [],
   "source": [
    "users = [User(f'user_{i}', \n",
    "              random.randint(-20, 20), \n",
    "              random.randint(-10, 10),\n",
    "              'uuid'+str(random.randint(1000, 2000))) for \n",
    "        i in range(100)]"
   ]
  },
  {
   "cell_type": "code",
   "execution_count": 94,
   "metadata": {},
   "outputs": [
    {
     "data": {
      "text/plain": [
       "[User(name='user_42', credits=20, price=-6, uid='uuid1451'),\n",
       " User(name='user_81', credits=20, price=-8, uid='uuid1372'),\n",
       " User(name='user_41', credits=19, price=10, uid='uuid1699'),\n",
       " User(name='user_0', credits=19, price=5, uid='uuid1884'),\n",
       " User(name='user_13', credits=19, price=0, uid='uuid1064'),\n",
       " User(name='user_77', credits=18, price=6, uid='uuid1029'),\n",
       " User(name='user_78', credits=18, price=5, uid='uuid1009'),\n",
       " User(name='user_9', credits=18, price=-3, uid='uuid1797'),\n",
       " User(name='user_67', credits=18, price=-10, uid='uuid1034'),\n",
       " User(name='user_31', credits=17, price=5, uid='uuid1189'),\n",
       " User(name='user_33', credits=16, price=10, uid='uuid1628'),\n",
       " User(name='user_45', credits=16, price=0, uid='uuid1794'),\n",
       " User(name='user_74', credits=16, price=0, uid='uuid1218'),\n",
       " User(name='user_24', credits=15, price=3, uid='uuid1272'),\n",
       " User(name='user_28', credits=15, price=2, uid='uuid1156'),\n",
       " User(name='user_17', credits=15, price=0, uid='uuid1448'),\n",
       " User(name='user_99', credits=15, price=-4, uid='uuid1627'),\n",
       " User(name='user_71', credits=15, price=-6, uid='uuid1828'),\n",
       " User(name='user_51', credits=14, price=8, uid='uuid1043'),\n",
       " User(name='user_79', credits=14, price=6, uid='uuid1949'),\n",
       " User(name='user_82', credits=14, price=3, uid='uuid1306'),\n",
       " User(name='user_25', credits=13, price=9, uid='uuid1725'),\n",
       " User(name='user_4', credits=13, price=4, uid='uuid1335'),\n",
       " User(name='user_2', credits=13, price=-1, uid='uuid1524'),\n",
       " User(name='user_57', credits=13, price=-8, uid='uuid1216'),\n",
       " User(name='user_54', credits=12, price=10, uid='uuid1752'),\n",
       " User(name='user_86', credits=12, price=2, uid='uuid1313'),\n",
       " User(name='user_52', credits=12, price=-3, uid='uuid1392'),\n",
       " User(name='user_84', credits=10, price=3, uid='uuid1037'),\n",
       " User(name='user_87', credits=10, price=3, uid='uuid1643'),\n",
       " User(name='user_96', credits=10, price=-3, uid='uuid1238'),\n",
       " User(name='user_73', credits=9, price=10, uid='uuid1081'),\n",
       " User(name='user_83', credits=9, price=-2, uid='uuid1953'),\n",
       " User(name='user_3', credits=9, price=-10, uid='uuid1191'),\n",
       " User(name='user_29', credits=7, price=9, uid='uuid1821'),\n",
       " User(name='user_32', credits=6, price=9, uid='uuid1863'),\n",
       " User(name='user_35', credits=6, price=9, uid='uuid1893'),\n",
       " User(name='user_76', credits=6, price=4, uid='uuid1975'),\n",
       " User(name='user_95', credits=6, price=-1, uid='uuid1688'),\n",
       " User(name='user_58', credits=6, price=-5, uid='uuid1064'),\n",
       " User(name='user_23', credits=5, price=8, uid='uuid1467'),\n",
       " User(name='user_15', credits=5, price=3, uid='uuid1373'),\n",
       " User(name='user_63', credits=5, price=0, uid='uuid1977'),\n",
       " User(name='user_11', credits=5, price=-5, uid='uuid1245'),\n",
       " User(name='user_1', credits=4, price=-3, uid='uuid1199'),\n",
       " User(name='user_50', credits=3, price=6, uid='uuid1291'),\n",
       " User(name='user_14', credits=3, price=-2, uid='uuid1540'),\n",
       " User(name='user_90', credits=3, price=-8, uid='uuid1253'),\n",
       " User(name='user_7', credits=1, price=7, uid='uuid1350'),\n",
       " User(name='user_40', credits=1, price=1, uid='uuid1624'),\n",
       " User(name='user_69', credits=1, price=-1, uid='uuid1462'),\n",
       " User(name='user_18', credits=0, price=9, uid='uuid1853'),\n",
       " User(name='user_46', credits=-1, price=9, uid='uuid1565'),\n",
       " User(name='user_22', credits=-1, price=5, uid='uuid1396'),\n",
       " User(name='user_62', credits=-1, price=0, uid='uuid1300'),\n",
       " User(name='user_64', credits=-1, price=0, uid='uuid1572'),\n",
       " User(name='user_88', credits=-2, price=6, uid='uuid1268'),\n",
       " User(name='user_91', credits=-2, price=4, uid='uuid1218'),\n",
       " User(name='user_60', credits=-2, price=-3, uid='uuid1937'),\n",
       " User(name='user_43', credits=-3, price=-2, uid='uuid1396'),\n",
       " User(name='user_85', credits=-4, price=5, uid='uuid1393'),\n",
       " User(name='user_98', credits=-4, price=5, uid='uuid1829'),\n",
       " User(name='user_37', credits=-4, price=-3, uid='uuid1019'),\n",
       " User(name='user_27', credits=-4, price=-6, uid='uuid1620'),\n",
       " User(name='user_21', credits=-5, price=10, uid='uuid1542'),\n",
       " User(name='user_92', credits=-5, price=-5, uid='uuid1779'),\n",
       " User(name='user_80', credits=-6, price=9, uid='uuid1728'),\n",
       " User(name='user_55', credits=-6, price=7, uid='uuid1215'),\n",
       " User(name='user_93', credits=-6, price=-1, uid='uuid1852'),\n",
       " User(name='user_47', credits=-7, price=0, uid='uuid1990'),\n",
       " User(name='user_89', credits=-8, price=-4, uid='uuid1153'),\n",
       " User(name='user_97', credits=-8, price=-8, uid='uuid1786'),\n",
       " User(name='user_70', credits=-9, price=-3, uid='uuid1486'),\n",
       " User(name='user_44', credits=-10, price=1, uid='uuid1627'),\n",
       " User(name='user_48', credits=-10, price=-9, uid='uuid1841'),\n",
       " User(name='user_6', credits=-11, price=-4, uid='uuid1323'),\n",
       " User(name='user_30', credits=-12, price=5, uid='uuid1543'),\n",
       " User(name='user_20', credits=-12, price=2, uid='uuid1837'),\n",
       " User(name='user_75', credits=-12, price=1, uid='uuid1985'),\n",
       " User(name='user_61', credits=-12, price=-1, uid='uuid1584'),\n",
       " User(name='user_53', credits=-12, price=-8, uid='uuid1416'),\n",
       " User(name='user_16', credits=-13, price=7, uid='uuid1258'),\n",
       " User(name='user_10', credits=-13, price=1, uid='uuid1559'),\n",
       " User(name='user_68', credits=-13, price=-1, uid='uuid1374'),\n",
       " User(name='user_26', credits=-13, price=-10, uid='uuid1961'),\n",
       " User(name='user_49', credits=-14, price=-3, uid='uuid1401'),\n",
       " User(name='user_59', credits=-14, price=-6, uid='uuid1291'),\n",
       " User(name='user_19', credits=-14, price=-7, uid='uuid1302'),\n",
       " User(name='user_36', credits=-14, price=-7, uid='uuid1381'),\n",
       " User(name='user_5', credits=-15, price=5, uid='uuid1565'),\n",
       " User(name='user_94', credits=-15, price=-5, uid='uuid1950'),\n",
       " User(name='user_72', credits=-15, price=-10, uid='uuid1864'),\n",
       " User(name='user_8', credits=-16, price=5, uid='uuid1674'),\n",
       " User(name='user_34', credits=-16, price=4, uid='uuid1925'),\n",
       " User(name='user_65', credits=-16, price=3, uid='uuid1062'),\n",
       " User(name='user_12', credits=-16, price=-2, uid='uuid1649'),\n",
       " User(name='user_56', credits=-17, price=5, uid='uuid1561'),\n",
       " User(name='user_66', credits=-17, price=0, uid='uuid1899'),\n",
       " User(name='user_39', credits=-17, price=-8, uid='uuid1556'),\n",
       " User(name='user_38', credits=-18, price=-5, uid='uuid1733')]"
      ]
     },
     "execution_count": 94,
     "metadata": {},
     "output_type": "execute_result"
    }
   ],
   "source": [
    "sorted(\n",
    "    users, \n",
    "    key=lambda u: (u.credits, u.price),\n",
    "    reverse=True\n",
    ")"
   ]
  },
  {
   "cell_type": "code",
   "execution_count": 97,
   "metadata": {},
   "outputs": [],
   "source": [
    "user_info = {\n",
    "    f'uid_{random.randint(0, 10)}': random.randint(-10, 100) for i in range(10)\n",
    "}"
   ]
  },
  {
   "cell_type": "code",
   "execution_count": 108,
   "metadata": {},
   "outputs": [
    {
     "name": "stderr",
     "output_type": "stream",
     "text": [
      "ic| sorted(user_info, key=lambda e: user_info[e]): ['uid_9', 'uid_4', 'uid_6', 'uid_0', 'uid_1', 'uid_3', 'uid_2', 'uid_5']\n",
      "ic| sorted(user_info.items(), key=lambda k_v: k_v[1]): [('uid_9', 3),\n",
      "                                                        ('uid_4', 32),\n",
      "                                                        ('uid_6', 32),\n",
      "                                                        ('uid_0', 46),\n",
      "                                                        ('uid_1', 51),\n",
      "                                                        ('uid_3', 52),\n",
      "                                                        ('uid_2', 92),\n",
      "                                                        ('uid_5', 98)]\n"
     ]
    },
    {
     "data": {
      "text/plain": [
       "[('uid_9', 3),\n",
       " ('uid_4', 32),\n",
       " ('uid_6', 32),\n",
       " ('uid_0', 46),\n",
       " ('uid_1', 51),\n",
       " ('uid_3', 52),\n",
       " ('uid_2', 92),\n",
       " ('uid_5', 98)]"
      ]
     },
     "execution_count": 108,
     "metadata": {},
     "output_type": "execute_result"
    }
   ],
   "source": [
    "ic(sorted(user_info, key=lambda e: user_info[e]))\n",
    "ic(sorted(user_info.items(), key=lambda k_v: k_v[1]))"
   ]
  },
  {
   "cell_type": "code",
   "execution_count": 112,
   "metadata": {},
   "outputs": [
    {
     "data": {
      "text/plain": [
       "[('uid_9', 3),\n",
       " ('uid_4', 32),\n",
       " ('uid_6', 32),\n",
       " ('uid_0', 46),\n",
       " ('uid_1', 51),\n",
       " ('uid_3', 52),\n",
       " ('uid_2', 92),\n",
       " ('uid_5', 98)]"
      ]
     },
     "execution_count": 112,
     "metadata": {},
     "output_type": "execute_result"
    }
   ],
   "source": [
    "sorted(list(user_info.items()), key=lambda k_v: k_v[1])"
   ]
  },
  {
   "cell_type": "code",
   "execution_count": 117,
   "metadata": {},
   "outputs": [],
   "source": [
    "users.sort(key=lambda u: u.credits)"
   ]
  },
  {
   "cell_type": "code",
   "execution_count": null,
   "metadata": {},
   "outputs": [],
   "source": [
    "sorted(elements) # 函数 没有改变输入的值\n",
    "users.sort() # method 方法， 改变了我们输入的值"
   ]
  },
  {
   "cell_type": "code",
   "execution_count": null,
   "metadata": {},
   "outputs": [],
   "source": [
    "users.sort()"
   ]
  },
  {
   "cell_type": "markdown",
   "metadata": {},
   "source": [
    "# 副作用 "
   ]
  },
  {
   "cell_type": "markdown",
   "metadata": {},
   "source": [
    "## 我们期望的工作之外，程序还做了其他的改动"
   ]
  },
  {
   "cell_type": "markdown",
   "metadata": {},
   "source": [
    "```\n",
    "sorted: 只给我们期望的排序的值\n",
    ".sort: 方法，不仅给了我们排序的值，他把我们的原始数据也做了改动\n",
    "```"
   ]
  },
  {
   "cell_type": "markdown",
   "metadata": {},
   "source": [
    "## 函数\n",
    "\n",
    "### 用函数，重要的是一种思想，一种问题解决的思想。 函数本质就是一种变化，我们通过各种各样的变化，将一个复杂能够，最终能够解决。 \n",
    "### 为了使得函数更加好用，我们怎么了一些功能，decorator 其实一种函数的赋值缩写，lambda其实是一种简易的函数形式； 包括列表解析，map，filter，generator都是不同场景下函数的一种更加方便的使用方法\n",
    "### 函数是编程里非常核心的概念，良好的函数具备以下特点： \n",
    "\n",
    "$$ f(x_i) == f(x_j), when,  x_i == x_j  $$\n",
    "### 具备可验证性, validation"
   ]
  },
  {
   "cell_type": "markdown",
   "metadata": {},
   "source": [
    "### 面向对象对象就不具备这样的特点：\n",
    "\n",
    "$$ obj.f(x_i) \\neq obj.f(x_j), when, x_i == x_j $$"
   ]
  },
  {
   "cell_type": "markdown",
   "metadata": {},
   "source": [
    "银行取钱为例：\n",
    "```\n",
    "\n",
    "    account\n",
    "    - deposit\n",
    "    - save(num)\n",
    "        return current_num\n",
    "    - withdraw(num)\n",
    "        return current_now"
   ]
  },
  {
   "cell_type": "code",
   "execution_count": 270,
   "metadata": {},
   "outputs": [],
   "source": [
    "class Func:\n",
    "    def __init__(self):\n",
    "        self.defaut_value = [1, 2, 3]\n",
    "        print('intialized defalut value')\n",
    "        \n",
    "    def __call__(self,  num):\n",
    "        self.defaut_value.append(num)\n",
    "        return self.defaut_value"
   ]
  },
  {
   "cell_type": "code",
   "execution_count": 271,
   "metadata": {},
   "outputs": [],
   "source": [
    "import dis"
   ]
  },
  {
   "cell_type": "code",
   "execution_count": 267,
   "metadata": {},
   "outputs": [],
   "source": [
    "def _init():\n",
    "    print('intialized defalut value')\n",
    "    return [1, 2, 3]\n"
   ]
  },
  {
   "cell_type": "code",
   "execution_count": 268,
   "metadata": {},
   "outputs": [
    {
     "name": "stdout",
     "output_type": "stream",
     "text": [
      "intialized defalut value\n"
     ]
    }
   ],
   "source": [
    "def some_func(n, defalut_value=_init()):\n",
    "    defalut_value.append(n)\n",
    "    return defalut_value"
   ]
  },
  {
   "cell_type": "code",
   "execution_count": 269,
   "metadata": {},
   "outputs": [
    {
     "data": {
      "text/plain": [
       "[1, 2, 3, 2]"
      ]
     },
     "execution_count": 269,
     "metadata": {},
     "output_type": "execute_result"
    }
   ],
   "source": [
    "some_func(2)"
   ]
  },
  {
   "cell_type": "code",
   "execution_count": 262,
   "metadata": {},
   "outputs": [
    {
     "name": "stdout",
     "output_type": "stream",
     "text": [
      "intialized defalut value\n"
     ]
    },
    {
     "data": {
      "text/plain": [
       "[1, 2, 3, 2]"
      ]
     },
     "execution_count": 262,
     "metadata": {},
     "output_type": "execute_result"
    }
   ],
   "source": [
    "func = Func()\n",
    "\n",
    "\n",
    "func(2)"
   ]
  },
  {
   "cell_type": "code",
   "execution_count": 248,
   "metadata": {},
   "outputs": [
    {
     "data": {
      "text/plain": [
       "[1, 2, 3, 2, 3]"
      ]
     },
     "execution_count": 248,
     "metadata": {},
     "output_type": "execute_result"
    }
   ],
   "source": [
    "func(3)"
   ]
  },
  {
   "cell_type": "code",
   "execution_count": 253,
   "metadata": {},
   "outputs": [],
   "source": [
    "func.__setattr__('speak', 10)"
   ]
  },
  {
   "cell_type": "code",
   "execution_count": 254,
   "metadata": {},
   "outputs": [
    {
     "data": {
      "text/plain": [
       "10"
      ]
     },
     "execution_count": 254,
     "metadata": {},
     "output_type": "execute_result"
    }
   ],
   "source": [
    "func.speak"
   ]
  },
  {
   "cell_type": "code",
   "execution_count": 259,
   "metadata": {},
   "outputs": [],
   "source": [
    "func.__setattr__('speak', lambda n: print('I am ', n))"
   ]
  },
  {
   "cell_type": "code",
   "execution_count": 260,
   "metadata": {},
   "outputs": [
    {
     "name": "stdout",
     "output_type": "stream",
     "text": [
      "I am  1231241\n"
     ]
    }
   ],
   "source": [
    "func.speak(1231241)"
   ]
  },
  {
   "cell_type": "code",
   "execution_count": 225,
   "metadata": {},
   "outputs": [],
   "source": [
    "def Account(deposit):\n",
    "    def instance():\n",
    "        instance.deposit = deposit\n",
    "        \n",
    "        def save(obj, num):\n",
    "            obj.deposit += num\n",
    "\n",
    "            return obj.deposit\n",
    "        \n",
    "        instance.save = save\n",
    "        \n",
    "        def withdraw(obj, num):\n",
    "            obj.deposit -= num\n",
    "            if obj.deposit >= 0: \n",
    "                return obj.deposit\n",
    "            else:\n",
    "                raise ValueError('not enough money')\n",
    "\n",
    "        instance.withdraw = withdraw\n",
    "    return instance"
   ]
  },
  {
   "cell_type": "code",
   "execution_count": 273,
   "metadata": {},
   "outputs": [
    {
     "name": "stdout",
     "output_type": "stream",
     "text": [
      "Disassembly of __call__:\n",
      "  7           0 LOAD_FAST                0 (self)\n",
      "              2 LOAD_ATTR                0 (defaut_value)\n",
      "              4 LOAD_METHOD              1 (append)\n",
      "              6 LOAD_FAST                1 (num)\n",
      "              8 CALL_METHOD              1\n",
      "             10 POP_TOP\n",
      "\n",
      "  8          12 LOAD_FAST                0 (self)\n",
      "             14 LOAD_ATTR                0 (defaut_value)\n",
      "             16 RETURN_VALUE\n",
      "\n",
      "Disassembly of __init__:\n",
      "  3           0 LOAD_CONST               1 (1)\n",
      "              2 LOAD_CONST               2 (2)\n",
      "              4 LOAD_CONST               3 (3)\n",
      "              6 BUILD_LIST               3\n",
      "              8 LOAD_FAST                0 (self)\n",
      "             10 STORE_ATTR               0 (defaut_value)\n",
      "\n",
      "  4          12 LOAD_GLOBAL              1 (print)\n",
      "             14 LOAD_CONST               4 ('intialized defalut value')\n",
      "             16 CALL_FUNCTION            1\n",
      "             18 POP_TOP\n",
      "             20 LOAD_CONST               0 (None)\n",
      "             22 RETURN_VALUE\n",
      "\n"
     ]
    }
   ],
   "source": [
    "dis.dis(Func)"
   ]
  },
  {
   "cell_type": "code",
   "execution_count": 272,
   "metadata": {},
   "outputs": [
    {
     "name": "stdout",
     "output_type": "stream",
     "text": [
      "  2           0 LOAD_CLOSURE             0 (deposit)\n",
      "              2 LOAD_CLOSURE             1 (instance)\n",
      "              4 BUILD_TUPLE              2\n",
      "              6 LOAD_CONST               1 (<code object instance at 0x7fd7086af6f0, file \"<ipython-input-225-3ee85952651b>\", line 2>)\n",
      "              8 LOAD_CONST               2 ('Account.<locals>.instance')\n",
      "             10 MAKE_FUNCTION            8\n",
      "             12 STORE_DEREF              1 (instance)\n",
      "\n",
      " 20          14 LOAD_DEREF               1 (instance)\n",
      "             16 RETURN_VALUE\n",
      "\n",
      "Disassembly of <code object instance at 0x7fd7086af6f0, file \"<ipython-input-225-3ee85952651b>\", line 2>:\n",
      "  3           0 LOAD_DEREF               0 (deposit)\n",
      "              2 LOAD_DEREF               1 (instance)\n",
      "              4 STORE_ATTR               0 (deposit)\n",
      "\n",
      "  5           6 LOAD_CONST               1 (<code object save at 0x7fd7086afc90, file \"<ipython-input-225-3ee85952651b>\", line 5>)\n",
      "              8 LOAD_CONST               2 ('Account.<locals>.instance.<locals>.save')\n",
      "             10 MAKE_FUNCTION            0\n",
      "             12 STORE_FAST               0 (save)\n",
      "\n",
      " 10          14 LOAD_FAST                0 (save)\n",
      "             16 LOAD_DEREF               1 (instance)\n",
      "             18 STORE_ATTR               1 (save)\n",
      "\n",
      " 12          20 LOAD_CONST               3 (<code object withdraw at 0x7fd7086afed0, file \"<ipython-input-225-3ee85952651b>\", line 12>)\n",
      "             22 LOAD_CONST               4 ('Account.<locals>.instance.<locals>.withdraw')\n",
      "             24 MAKE_FUNCTION            0\n",
      "             26 STORE_FAST               1 (withdraw)\n",
      "\n",
      " 19          28 LOAD_FAST                1 (withdraw)\n",
      "             30 LOAD_DEREF               1 (instance)\n",
      "             32 STORE_ATTR               2 (withdraw)\n",
      "             34 LOAD_CONST               0 (None)\n",
      "             36 RETURN_VALUE\n",
      "\n",
      "Disassembly of <code object save at 0x7fd7086afc90, file \"<ipython-input-225-3ee85952651b>\", line 5>:\n",
      "  6           0 LOAD_FAST                0 (obj)\n",
      "              2 DUP_TOP\n",
      "              4 LOAD_ATTR                0 (deposit)\n",
      "              6 LOAD_FAST                1 (num)\n",
      "              8 INPLACE_ADD\n",
      "             10 ROT_TWO\n",
      "             12 STORE_ATTR               0 (deposit)\n",
      "\n",
      "  8          14 LOAD_FAST                0 (obj)\n",
      "             16 LOAD_ATTR                0 (deposit)\n",
      "             18 RETURN_VALUE\n",
      "\n",
      "Disassembly of <code object withdraw at 0x7fd7086afed0, file \"<ipython-input-225-3ee85952651b>\", line 12>:\n",
      " 13           0 LOAD_FAST                0 (obj)\n",
      "              2 DUP_TOP\n",
      "              4 LOAD_ATTR                0 (deposit)\n",
      "              6 LOAD_FAST                1 (num)\n",
      "              8 INPLACE_SUBTRACT\n",
      "             10 ROT_TWO\n",
      "             12 STORE_ATTR               0 (deposit)\n",
      "\n",
      " 14          14 LOAD_FAST                0 (obj)\n",
      "             16 LOAD_ATTR                0 (deposit)\n",
      "             18 LOAD_CONST               1 (0)\n",
      "             20 COMPARE_OP               5 (>=)\n",
      "             22 POP_JUMP_IF_FALSE       30\n",
      "\n",
      " 15          24 LOAD_FAST                0 (obj)\n",
      "             26 LOAD_ATTR                0 (deposit)\n",
      "             28 RETURN_VALUE\n",
      "\n",
      " 17     >>   30 LOAD_GLOBAL              1 (ValueError)\n",
      "             32 LOAD_CONST               2 ('not enough money')\n",
      "             34 CALL_FUNCTION            1\n",
      "             36 RAISE_VARARGS            1\n",
      "             38 LOAD_CONST               0 (None)\n",
      "             40 RETURN_VALUE\n"
     ]
    }
   ],
   "source": [
    "dis.dis(Account)"
   ]
  },
  {
   "cell_type": "code",
   "execution_count": 223,
   "metadata": {},
   "outputs": [],
   "source": [
    "another_one = Account(100)\n",
    "another_one()"
   ]
  },
  {
   "cell_type": "code",
   "execution_count": 224,
   "metadata": {},
   "outputs": [],
   "source": [
    "one = Account(1000)\n",
    "one()"
   ]
  },
  {
   "cell_type": "code",
   "execution_count": 207,
   "metadata": {},
   "outputs": [
    {
     "data": {
      "text/plain": [
       "1000"
      ]
     },
     "execution_count": 207,
     "metadata": {},
     "output_type": "execute_result"
    }
   ],
   "source": [
    "another_one.deposit"
   ]
  },
  {
   "cell_type": "code",
   "execution_count": 202,
   "metadata": {},
   "outputs": [
    {
     "data": {
      "text/plain": [
       "0"
      ]
     },
     "execution_count": 202,
     "metadata": {},
     "output_type": "execute_result"
    }
   ],
   "source": [
    "some_one.deposit"
   ]
  },
  {
   "cell_type": "code",
   "execution_count": 203,
   "metadata": {},
   "outputs": [
    {
     "data": {
      "text/plain": [
       "100"
      ]
     },
     "execution_count": 203,
     "metadata": {},
     "output_type": "execute_result"
    }
   ],
   "source": [
    "some_one.save(some_one, 100)"
   ]
  },
  {
   "cell_type": "code",
   "execution_count": 204,
   "metadata": {},
   "outputs": [
    {
     "data": {
      "text/plain": [
       "100"
      ]
     },
     "execution_count": 204,
     "metadata": {},
     "output_type": "execute_result"
    }
   ],
   "source": [
    "some_one.deposit"
   ]
  },
  {
   "cell_type": "code",
   "execution_count": 175,
   "metadata": {},
   "outputs": [
    {
     "data": {
      "text/plain": [
       "0"
      ]
     },
     "execution_count": 175,
     "metadata": {},
     "output_type": "execute_result"
    }
   ],
   "source": [
    "some_one.withdraw(some_one, 200)"
   ]
  },
  {
   "cell_type": "code",
   "execution_count": 176,
   "metadata": {},
   "outputs": [
    {
     "data": {
      "text/plain": [
       "0"
      ]
     },
     "execution_count": 176,
     "metadata": {},
     "output_type": "execute_result"
    }
   ],
   "source": [
    "some_one.deposit"
   ]
  },
  {
   "cell_type": "code",
   "execution_count": 192,
   "metadata": {},
   "outputs": [],
   "source": [
    "#@dataclass\n",
    "class AccountCls:\n",
    "\n",
    "    def __init__(self, deposit):\n",
    "        self.deposit = deposit\n",
    "        \n",
    "    def save(lkajsdlkjasdjaklsdjalkjsda, num): \n",
    "        lkajsdlkjasdjaklsdjalkjsda.deposit += num\n",
    "        return lkajsdlkjasdjaklsdjalkjsda.deposit + num \n",
    "    \n",
    "    def withdraw(self, num):\n",
    "        self.deposit -= num\n",
    "        if num <= self.deposit:\n",
    "            return self.deposit - num\n",
    "        else:\n",
    "            raise ValueError('not enough money')"
   ]
  },
  {
   "cell_type": "code",
   "execution_count": 193,
   "metadata": {},
   "outputs": [
    {
     "data": {
      "text/plain": [
       "['__class__',\n",
       " '__delattr__',\n",
       " '__dict__',\n",
       " '__dir__',\n",
       " '__doc__',\n",
       " '__eq__',\n",
       " '__format__',\n",
       " '__ge__',\n",
       " '__getattribute__',\n",
       " '__gt__',\n",
       " '__hash__',\n",
       " '__init__',\n",
       " '__init_subclass__',\n",
       " '__le__',\n",
       " '__lt__',\n",
       " '__module__',\n",
       " '__ne__',\n",
       " '__new__',\n",
       " '__reduce__',\n",
       " '__reduce_ex__',\n",
       " '__repr__',\n",
       " '__setattr__',\n",
       " '__sizeof__',\n",
       " '__str__',\n",
       " '__subclasshook__',\n",
       " '__weakref__',\n",
       " 'deposit',\n",
       " 'save',\n",
       " 'withdraw']"
      ]
     },
     "execution_count": 193,
     "metadata": {},
     "output_type": "execute_result"
    }
   ],
   "source": [
    "dir(AccountCls(100))"
   ]
  },
  {
   "cell_type": "code",
   "execution_count": 194,
   "metadata": {},
   "outputs": [],
   "source": [
    "account = AccountCls(100)"
   ]
  },
  {
   "cell_type": "code",
   "execution_count": 221,
   "metadata": {},
   "outputs": [],
   "source": [
    "another_account = AccountCls(1000)"
   ]
  },
  {
   "cell_type": "code",
   "execution_count": 198,
   "metadata": {},
   "outputs": [
    {
     "data": {
      "text/plain": [
       "150"
      ]
     },
     "execution_count": 198,
     "metadata": {},
     "output_type": "execute_result"
    }
   ],
   "source": [
    "account.save(10)"
   ]
  },
  {
   "cell_type": "code",
   "execution_count": 199,
   "metadata": {},
   "outputs": [
    {
     "data": {
      "text/plain": [
       "160"
      ]
     },
     "execution_count": 199,
     "metadata": {},
     "output_type": "execute_result"
    }
   ],
   "source": [
    "account.save(10)"
   ]
  }
 ],
 "metadata": {
  "kernelspec": {
   "display_name": "Python 3",
   "language": "python",
   "name": "python3"
  },
  "language_info": {
   "codemirror_mode": {
    "name": "ipython",
    "version": 3
   },
   "file_extension": ".py",
   "mimetype": "text/x-python",
   "name": "python",
   "nbconvert_exporter": "python",
   "pygments_lexer": "ipython3",
   "version": "3.7.3"
  }
 },
 "nbformat": 4,
 "nbformat_minor": 2
}
