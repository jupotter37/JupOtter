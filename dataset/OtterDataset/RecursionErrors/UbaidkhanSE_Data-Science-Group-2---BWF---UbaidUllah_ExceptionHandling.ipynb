{
 "cells": [
  {
   "cell_type": "markdown",
   "id": "9d7738dc-2afd-417c-9e57-27a2703acdd8",
   "metadata": {},
   "source": [
    "# <span style=\"color:teal;\">EXCEPTION HANDLING</span>\n",
    "## <span style=\"color:orange;\">Basic Exercise</span>\n",
    "#### <span style=\"color:purple;\">Example 1:</span> \n",
    "<span style=\"color:green;\">Divide by Zero Handling.</span>"
   ]
  },
  {
   "cell_type": "code",
   "execution_count": 87,
   "id": "b4b481db-c4fa-43c5-8c81-71f6a0aa877d",
   "metadata": {},
   "outputs": [
    {
     "name": "stdout",
     "output_type": "stream",
     "text": [
      "10 divided by 2 is 5.0\n",
      "Error: Division by zero is not allowed.\n"
     ]
    }
   ],
   "source": [
    "def divide_numbers(num1, num2):\n",
    "    try:\n",
    "        result = num1 / num2\n",
    "        print(f\"{num1} divided by {num2} is {result}\")\n",
    "    except ZeroDivisionError:\n",
    "        print(\"Error: Division by zero is not allowed.\")\n",
    "\n",
    "# Test divide_numbers function\n",
    "divide_numbers(10, 2)\n",
    "divide_numbers(10,0)"
   ]
  },
  {
   "cell_type": "markdown",
   "id": "69923bfe-8f3e-43d3-81c1-d810cc0241d6",
   "metadata": {},
   "source": [
    "#### <span style=\"color:purple;\">Example 2:</span> \n",
    "<span style=\"color:green;\">Value Error Handling.</span>\n"
   ]
  },
  {
   "cell_type": "code",
   "execution_count": 88,
   "id": "903635c5-80ec-485b-a4d3-4e31f65824ff",
   "metadata": {},
   "outputs": [
    {
     "name": "stdout",
     "output_type": "stream",
     "text": [
      "Error: Please enter a valid integer.\n"
     ]
    }
   ],
   "source": [
    "def input_integer(num):\n",
    "    try:\n",
    "        num = int(num)\n",
    "        print(f\"You entered: {num}\")\n",
    "    except ValueError:\n",
    "        print(\"Error: Please enter a valid integer.\")\n",
    "\n",
    "# Test input_integer function\n",
    "input_integer(\"abc\")\n"
   ]
  },
  {
   "cell_type": "markdown",
   "id": "25e6caac-1dbc-48b5-8573-5eda63e1e79e",
   "metadata": {},
   "source": [
    "\n",
    "#### <span style=\"color:purple;\">Example 3:</span> \n",
    "<span style=\"color:green;\">File Handling with Error Checking.</span>\n"
   ]
  },
  {
   "cell_type": "code",
   "execution_count": 89,
   "id": "fba368c7-abbc-44d4-a550-2e304504739f",
   "metadata": {},
   "outputs": [
    {
     "name": "stdout",
     "output_type": "stream",
     "text": [
      "Error: File 'Information.txt' not found.\n"
     ]
    }
   ],
   "source": [
    "def read_file(filename):\n",
    "    try:\n",
    "        with open(filename, 'r') as file:\n",
    "            content = file.read()\n",
    "            print(content)\n",
    "    except FileNotFoundError:\n",
    "        print(f\"Error: File '{filename}' not found.\")\n",
    "\n",
    "# Test read_file function\n",
    "read_file(\"Information.txt\")\n"
   ]
  },
  {
   "cell_type": "markdown",
   "id": "ae5fd309-c24f-4b37-b463-8446e5d9904a",
   "metadata": {},
   "source": [
    "\n",
    "\n",
    "#### <span style=\"color:purple;\">Example 4:</span> \n",
    "<span style=\"color:green;\">Index Error Handling.</span>\n"
   ]
  },
  {
   "cell_type": "code",
   "execution_count": 90,
   "id": "e9b6e02d-a8ed-4ef3-be09-e7776fd5583f",
   "metadata": {},
   "outputs": [
    {
     "name": "stdout",
     "output_type": "stream",
     "text": [
      "Error: Index out of range.\n"
     ]
    }
   ],
   "source": [
    "def access_list_element(my_list, index):\n",
    "    try:\n",
    "        print(f\"Element at index {index}: {my_list[index]}\")\n",
    "    except IndexError:\n",
    "        print(\"Error: Index out of range.\")\n",
    "\n",
    "# Test access_list_element function\n",
    "my_list = [1, 2, 3, 4, 5]\n",
    "access_list_element(my_list, 10)\n"
   ]
  },
  {
   "cell_type": "markdown",
   "id": "fc334e42-afb0-463b-b672-4b149e033e4d",
   "metadata": {},
   "source": [
    "\n",
    "\n",
    "#### <span style=\"color:purple;\">Example 5:</span> \n",
    "<span style=\"color:green;\">Key Error Handling.</span>\n"
   ]
  },
  {
   "cell_type": "code",
   "execution_count": 91,
   "id": "ca0ebae4-5d31-4358-b964-c657aeebe384",
   "metadata": {},
   "outputs": [
    {
     "name": "stdout",
     "output_type": "stream",
     "text": [
      "Error: Key 'd' not found in dictionary.\n"
     ]
    }
   ],
   "source": [
    "def access_dictionary(my_dict, key):\n",
    "    try:\n",
    "        print(f\"Value at key '{key}': {my_dict[key]}\")\n",
    "    except KeyError:\n",
    "        print(f\"Error: Key '{key}' not found in dictionary.\")\n",
    "\n",
    "# Test access_dictionary function\n",
    "my_dict = {'a': 1, 'b': 2, 'c': 3}\n",
    "access_dictionary(my_dict, 'd')\n"
   ]
  },
  {
   "cell_type": "markdown",
   "id": "6403b4e3-76a1-4d0f-8cdf-2ef330de0b50",
   "metadata": {},
   "source": [
    "\n",
    "\n",
    "#### <span style=\"color:purple;\">Example 6:</span> \n",
    "<span style=\"color:green;\">Type Error Hnadling.</span>\n"
   ]
  },
  {
   "cell_type": "code",
   "execution_count": 92,
   "id": "ba8d6beb-43cc-421d-b837-b49b17155f25",
   "metadata": {},
   "outputs": [
    {
     "name": "stdout",
     "output_type": "stream",
     "text": [
      "Error: Please enter valid numeric values.\n"
     ]
    }
   ],
   "source": [
    "def add_numbers(num1, num2):\n",
    "    try:\n",
    "        result = num1 + num2\n",
    "        print(f\"Sum of {num1} and {num2}: {result}\")\n",
    "    except TypeError:\n",
    "        print(\"Error: Please enter valid numeric values.\")\n",
    "\n",
    "# Test add_numbers function\n",
    "add_numbers(10, \"20\")\n"
   ]
  },
  {
   "cell_type": "markdown",
   "id": "b9904218-7691-4796-af1d-35d669e68fb2",
   "metadata": {},
   "source": [
    "\n",
    "#### <span style=\"color:purple;\">Example 7:</span> \n",
    "<span style=\"color:green;\">Assertion Error Handling .</span>\n"
   ]
  },
  {
   "cell_type": "code",
   "execution_count": 93,
   "id": "731fc6e9-4906-4f2f-abf4-3f2a10a87e68",
   "metadata": {},
   "outputs": [
    {
     "name": "stdout",
     "output_type": "stream",
     "text": [
      "AssertionError: Number must be non-negative.\n"
     ]
    }
   ],
   "source": [
    "def process_number(num):\n",
    "    try:\n",
    "        assert num >= 0, \"Number must be non-negative.\"\n",
    "        print(f\"Processing number: {num}\")\n",
    "    except AssertionError as e:\n",
    "        print(f\"AssertionError: {e}\")\n",
    "\n",
    "# Test process_number function\n",
    "process_number(-5)\n"
   ]
  },
  {
   "cell_type": "markdown",
   "id": "0f26d6b7-b6c2-4e2b-91ec-c795aded4981",
   "metadata": {},
   "source": [
    "\n",
    "#### <span style=\"color:purple;\">Example 8:</span> \n",
    "<span style=\"color:green;\">Custom Exception .</span>\n"
   ]
  },
  {
   "cell_type": "code",
   "execution_count": 94,
   "id": "a24741cb-9ba1-4767-b1a6-06ae72b83bf6",
   "metadata": {},
   "outputs": [
    {
     "name": "stdout",
     "output_type": "stream",
     "text": [
      "TooManyToppingsException: Exceeded maximum allowed toppings.\n"
     ]
    }
   ],
   "source": [
    "class TooManyToppingsException(Exception):\n",
    "    def __init__(self, message=\"Exceeded maximum allowed toppings.\"):\n",
    "        self.message = message\n",
    "        super().__init__(self.message)\n",
    "\n",
    "def order_pizza(toppings):\n",
    "    try:\n",
    "        if toppings > 5:\n",
    "            raise TooManyToppingsException\n",
    "        print(f\"You ordered a pizza with {toppings} toppings.\")\n",
    "    except TooManyToppingsException as e:\n",
    "        print(f\"TooManyToppingsException: {e}\")\n",
    "\n",
    "# Test order_pizza function\n",
    "order_pizza(6)\n"
   ]
  },
  {
   "cell_type": "markdown",
   "id": "52e75038-7962-4f54-96fc-5610c9ee6534",
   "metadata": {},
   "source": [
    "\n",
    "\n",
    "#### <span style=\"color:purple;\">Example 9:</span> \n",
    "<span style=\"color:green;\">Nested Exception Handling .</span>\n"
   ]
  },
  {
   "cell_type": "code",
   "execution_count": 95,
   "id": "f5d30ba9-44bb-48a0-9c50-e0c7256db800",
   "metadata": {},
   "outputs": [
    {
     "name": "stdout",
     "output_type": "stream",
     "text": [
      "Error: Index out of range.\n"
     ]
    }
   ],
   "source": [
    "def list_operation(index):\n",
    "    my_list = [1, 2, 3]\n",
    "    try:\n",
    "        element = my_list[index]\n",
    "        result = 10 / element  # Simulate another operation that could raise ValueError\n",
    "    except IndexError:\n",
    "        print(\"Error: Index out of range.\")\n",
    "    except ValueError:\n",
    "        print(\"Error: Invalid operation on list element.\")\n",
    "    else:\n",
    "        print(f\"Result: {result}\")\n",
    "\n",
    "# Test list_operation function\n",
    "list_operation(5)\n"
   ]
  },
  {
   "cell_type": "markdown",
   "id": "ee7f55b9-bb7d-4058-9fc4-adc00c595706",
   "metadata": {},
   "source": [
    "#### <span style=\"color:purple;\">Example 10:</span> \n",
    "<span style=\"color:green;\">Finally Block Execution .</span>\n"
   ]
  },
  {
   "cell_type": "code",
   "execution_count": 96,
   "id": "2e5d2687-1a88-4191-af66-36e20ecc0155",
   "metadata": {},
   "outputs": [
    {
     "name": "stdout",
     "output_type": "stream",
     "text": [
      "   This line has leading spaces.\n",
      "This line has trailing spaces.   \n",
      "   This line has both leading and trailing spaces.   \n",
      "\n",
      "File 'sample.txt' closed successfully.\n"
     ]
    }
   ],
   "source": [
    "def open_and_process_file(filename):\n",
    "    try:\n",
    "        file = open(filename, 'r')\n",
    "        content = file.read()\n",
    "        print(content)\n",
    "    except FileNotFoundError:\n",
    "        print(f\"Error: File '{filename}' not found.\")\n",
    "    finally:\n",
    "        if 'file' in locals():\n",
    "            file.close()\n",
    "            print(f\"File '{filename}' closed successfully.\")\n",
    "\n",
    "# Test open_and_process_file function\n",
    "open_and_process_file(\"sample.txt\")\n"
   ]
  },
  {
   "cell_type": "markdown",
   "id": "76b9a531-adde-42d2-bc41-01c37cc443bb",
   "metadata": {},
   "source": [
    "\n",
    "## <span style=\"color:orange;\">Intermediate Exercise</span>\n",
    "#### <span style=\"color:purple;\">Example 1:</span> \n",
    "<span style=\"color:green;\">Raising Exceptions.</span>"
   ]
  },
  {
   "cell_type": "code",
   "execution_count": 97,
   "id": "d4fa1bc1-4107-417a-8cc5-b5c4fcd97a9f",
   "metadata": {},
   "outputs": [
    {
     "name": "stdout",
     "output_type": "stream",
     "text": [
      "Age 20 is valid.\n",
      "ValueError: Age must be 18 or older.\n"
     ]
    }
   ],
   "source": [
    "def validate_age(age):\n",
    "    if age < 18:\n",
    "        raise ValueError(\"Age must be 18 or older.\")\n",
    "    else:\n",
    "        print(f\"Age {age} is valid.\")\n",
    "\n",
    "# Test validate_age function\n",
    "try:\n",
    "    validate_age(20)\n",
    "    validate_age(15)\n",
    "except ValueError as e:\n",
    "    print(f\"ValueError: {e}\")\n"
   ]
  },
  {
   "cell_type": "markdown",
   "id": "1eb11b42-afd0-450f-adf9-1180c624b7e1",
   "metadata": {},
   "source": [
    "#### <span style=\"color:purple;\">Example 2:</span> \n",
    "<span style=\"color:green;\">Handling File Writting.</span>"
   ]
  },
  {
   "cell_type": "code",
   "execution_count": 98,
   "id": "c9826d4c-4802-420b-96cb-8477ebdb69ec",
   "metadata": {},
   "outputs": [
    {
     "name": "stdout",
     "output_type": "stream",
     "text": [
      "Content written to 'test.txt' successfully.\n"
     ]
    }
   ],
   "source": [
    "def write_to_file(filename, content):\n",
    "    try:\n",
    "        with open(filename, 'w') as file:\n",
    "            file.write(content)\n",
    "            print(f\"Content written to '{filename}' successfully.\")\n",
    "    except IOError:\n",
    "        print(f\"Error: IOError occurred while writing to '{filename}'.\")\n",
    "    except OSError:\n",
    "        print(f\"Error: OSError occurred while writing to '{filename}'.\")\n",
    "\n",
    "# Test write_to_file function\n",
    "write_to_file(\"test.txt\", \"Hello, world!\")\n"
   ]
  },
  {
   "cell_type": "markdown",
   "id": "c527f303-00e8-412d-8948-8006ea36eeb7",
   "metadata": {},
   "source": [
    "#### <span style=\"color:purple;\">Example 3:</span> \n",
    "<span style=\"color:green;\">Handling database error.</span>"
   ]
  },
  {
   "cell_type": "code",
   "execution_count": 99,
   "id": "cd6768cc-7968-4302-a809-6b485ba4384b",
   "metadata": {},
   "outputs": [
    {
     "name": "stdout",
     "output_type": "stream",
     "text": [
      "ConnectionError: Unable to establish connection.\n"
     ]
    }
   ],
   "source": [
    "def connect_to_database():\n",
    "    import random\n",
    "    try:\n",
    "        # Simulating a random connection error\n",
    "        if random.randint(0, 1) == 0:\n",
    "            raise ConnectionError(\"Unable to establish connection.\")\n",
    "        print(\"Connected to database successfully.\")\n",
    "    except ConnectionError as e:\n",
    "        print(f\"ConnectionError: {e}\")\n",
    "    except TimeoutError:\n",
    "        print(\"Error: Connection timeout.\")\n",
    "    except DatabaseError:\n",
    "        print(\"Error: Database error occurred.\")\n",
    "\n",
    "# Test connect_to_database function\n",
    "connect_to_database()\n"
   ]
  },
  {
   "cell_type": "markdown",
   "id": "11250dd8-5669-4915-bf08-3bbe0b3d12f6",
   "metadata": {},
   "source": [
    "#### <span style=\"color:purple;\">Example 4:</span> \n",
    "<span style=\"color:green;\">Handling JSON Parsing Errors.</span>"
   ]
  },
  {
   "cell_type": "code",
   "execution_count": 100,
   "id": "6a8e4a77-0e99-49c4-9289-215ef58a1cd9",
   "metadata": {},
   "outputs": [
    {
     "name": "stdout",
     "output_type": "stream",
     "text": [
      "Error: File 'data.json' not found.\n"
     ]
    }
   ],
   "source": [
    "import json\n",
    "\n",
    "def parse_json_data(filename):\n",
    "    try:\n",
    "        with open(filename, 'r') as file:\n",
    "            data = json.load(file)\n",
    "            print(\"Data from JSON file:\", data)\n",
    "    except FileNotFoundError:\n",
    "        print(f\"Error: File '{filename}' not found.\")\n",
    "    except json.JSONDecodeError as e:\n",
    "        print(f\"Error: Invalid JSON format in '{filename}': {e}\")\n",
    "\n",
    "# Test parse_json_data function\n",
    "parse_json_data(\"data.json\")\n"
   ]
  },
  {
   "cell_type": "markdown",
   "id": "d3513c50-df69-4a9e-a4dd-f4b3d0aceb31",
   "metadata": {},
   "source": [
    "#### <span style=\"color:purple;\">Example 5:</span> \n",
    "<span style=\"color:green;\">Handling Timeout Errors.</span>"
   ]
  },
  {
   "cell_type": "code",
   "execution_count": 101,
   "id": "81c78933-0325-4250-bdf6-14e56baaef18",
   "metadata": {},
   "outputs": [
    {
     "name": "stdout",
     "output_type": "stream",
     "text": [
      "Response status code: 200\n"
     ]
    }
   ],
   "source": [
    "import requests\n",
    "from requests.exceptions import Timeout\n",
    "\n",
    "def fetch_url_data(url):\n",
    "    try:\n",
    "        response = requests.get(url, timeout=5)  # Adjust timeout value as needed\n",
    "        print(\"Response status code:\", response.status_code)\n",
    "    except Timeout:\n",
    "        print(f\"Error: Timeout occurred while fetching data from '{url}'.\")\n",
    "\n",
    "# Test fetch_url_data function\n",
    "fetch_url_data(\"https://www.example.com\")\n"
   ]
  },
  {
   "cell_type": "markdown",
   "id": "7568769b-7da8-43cb-a4ff-2deef08fb4a0",
   "metadata": {},
   "source": [
    "#### <span style=\"color:purple;\">Example 6:</span> \n",
    "<span style=\"color:green;\">Handling Resource Cleanup with Context Managers.</span>"
   ]
  },
  {
   "cell_type": "code",
   "execution_count": 102,
   "id": "33452a52-6b50-4f64-a9d2-4050c27a3061",
   "metadata": {},
   "outputs": [
    {
     "name": "stdout",
     "output_type": "stream",
     "text": [
      "Error: File 'first.txt' not found.\n"
     ]
    }
   ],
   "source": [
    "def read_file_content(filename):\n",
    "    try:\n",
    "        with open(filename, 'r') as file:\n",
    "            content = file.read()\n",
    "            print(\"Content read successfully:\", content)\n",
    "    except FileNotFoundError:\n",
    "        print(f\"Error: File '{filename}' not found.\")\n",
    "    except (IOError, OSError) as e:\n",
    "        print(f\"Error: {e}\")\n",
    "    except UnicodeDecodeError:\n",
    "        print(f\"Error: Unable to decode file '{filename}'.\")\n",
    "\n",
    "# Test read_file_content function\n",
    "read_file_content(\"first.txt\")\n"
   ]
  },
  {
   "cell_type": "markdown",
   "id": "da89ab5e-02a3-495a-8e1d-62c038d3eb73",
   "metadata": {},
   "source": [
    "\n",
    "#### <span style=\"color:purple;\">Example 7:</span> \n",
    "<span style=\"color:green;\">Handling Network Errors.</span>"
   ]
  },
  {
   "cell_type": "code",
   "execution_count": 103,
   "id": "ef594c2f-6d27-4310-b725-c60e761a9004",
   "metadata": {},
   "outputs": [
    {
     "name": "stdout",
     "output_type": "stream",
     "text": [
      "Error: Network error occurred: [WinError 10061] No connection could be made because the target machine actively refused it\n"
     ]
    }
   ],
   "source": [
    "import socket\n",
    "\n",
    "def ping_server(server_ip):\n",
    "    try:\n",
    "        socket.create_connection((server_ip, 80), timeout=5)  # Adjust timeout value as needed\n",
    "        print(f\"Successfully connected to server {server_ip}.\")\n",
    "    except socket.error as e:\n",
    "        print(f\"Error: Network error occurred: {e}\")\n",
    "\n",
    "# Test ping_server function\n",
    "ping_server(\"127.0.0.1\")\n"
   ]
  },
  {
   "cell_type": "markdown",
   "id": "a8c89658-fe88-4ba5-a2c4-e4c20c7c7b29",
   "metadata": {},
   "source": [
    "\n",
    "#### <span style=\"color:purple;\">Example 8:</span> \n",
    "<span style=\"color:green;\">Handling Database Transactions.</span>"
   ]
  },
  {
   "cell_type": "code",
   "execution_count": 104,
   "id": "d35cece8-9b85-4d08-b84e-cc7053844ec3",
   "metadata": {},
   "outputs": [
    {
     "name": "stdout",
     "output_type": "stream",
     "text": [
      "IntegrityError: Integrity constraint violation.\n"
     ]
    }
   ],
   "source": [
    "import pymysql\n",
    "from pymysql import err\n",
    "\n",
    "def execute_database_query(query):\n",
    "    try:\n",
    "        # Simulate database query execution\n",
    "        raise pymysql.err.IntegrityError(\"Integrity constraint violation.\")\n",
    "    except err.IntegrityError as e:\n",
    "        print(f\"IntegrityError: {e}\")\n",
    "\n",
    "# Test execute_database_query function\n",
    "execute_database_query(\"SELECT * FROM users\")\n"
   ]
  },
  {
   "cell_type": "markdown",
   "id": "863ad707-bf43-4b1c-8339-f9b234c69105",
   "metadata": {},
   "source": [
    "\n",
    "\n",
    "#### <span style=\"color:purple;\">Example 9:</span> \n",
    "<span style=\"color:green;\">Handling API Errors.</span>"
   ]
  },
  {
   "cell_type": "code",
   "execution_count": 105,
   "id": "d4b8c60c-bfc9-4727-bbb4-c2383d87d03b",
   "metadata": {},
   "outputs": [
    {
     "name": "stdout",
     "output_type": "stream",
     "text": [
      "RequestException: HTTPSConnectionPool(host='api.example.com', port=443): Max retries exceeded with url: /data (Caused by NameResolutionError(\"<urllib3.connection.HTTPSConnection object at 0x000002020D0B6690>: Failed to resolve 'api.example.com' ([Errno 11001] getaddrinfo failed)\"))\n"
     ]
    }
   ],
   "source": [
    "import requests\n",
    "from requests.exceptions import RequestException\n",
    "\n",
    "def fetch_data_from_api(url):\n",
    "    try:\n",
    "        response = requests.get(url)\n",
    "        response.raise_for_status()  # Raise HTTPError for bad responses\n",
    "        data = response.json()\n",
    "        print(\"Data fetched successfully:\", data)\n",
    "    except RequestException as e:\n",
    "        print(f\"RequestException: {e}\")\n",
    "\n",
    "# Test fetch_data_from_api function\n",
    "fetch_data_from_api(\"https://api.example.com/data\")\n"
   ]
  },
  {
   "cell_type": "markdown",
   "id": "f2fa7e55-7775-41be-a293-c8f1d6c61fc1",
   "metadata": {},
   "source": [
    "#### <span style=\"color:purple;\">Example 10:</span> \n",
    "<span style=\"color:green;\">Handling File Processing Errors:\n",
    ".</span>"
   ]
  },
  {
   "cell_type": "code",
   "execution_count": 106,
   "id": "afe049b3-5b79-4908-ac63-dcb36a04b105",
   "metadata": {},
   "outputs": [
    {
     "name": "stdout",
     "output_type": "stream",
     "text": [
      "Error: File 'data.csv' not found.\n"
     ]
    }
   ],
   "source": [
    "import csv\n",
    "\n",
    "def process_csv_file(filename):\n",
    "    try:\n",
    "        with open(filename, 'r') as file:\n",
    "            reader = csv.reader(file)\n",
    "            for row in reader:\n",
    "                print(row)  # Process each row as needed\n",
    "            print(\"CSV file processed successfully.\")\n",
    "    except FileNotFoundError:\n",
    "        print(f\"Error: File '{filename}' not found.\")\n",
    "    except csv.Error as e:\n",
    "        print(f\"Error: CSV parsing error occurred: {e}\")\n",
    "\n",
    "# Test process_csv_file function\n",
    "process_csv_file(\"data.csv\")\n"
   ]
  },
  {
   "cell_type": "markdown",
   "id": "38f3f8ab-64f1-4aca-8865-4d892a76b8e2",
   "metadata": {},
   "source": [
    "\n",
    "## <span style=\"color:orange;\">Advance Exercise</span>\n",
    "#### <span style=\"color:purple;\">Example 1:</span> \n",
    "<span style=\"color:green;\">Handling Database Transactions with Rollback.</span>"
   ]
  },
  {
   "cell_type": "code",
   "execution_count": 107,
   "id": "95a05faf-b584-47c3-a7ac-e4b25c6ee38a",
   "metadata": {},
   "outputs": [
    {
     "name": "stdout",
     "output_type": "stream",
     "text": [
      "Error: Database error occurred: (1045, \"Access denied for user 'username'@'localhost' (using password: YES)\")\n"
     ]
    }
   ],
   "source": [
    "import pymysql\n",
    "from pymysql import err\n",
    "\n",
    "def execute_database_transaction(query1, query2):\n",
    "    connection = None\n",
    "    try:\n",
    "        # Simulate database connection and transaction\n",
    "        connection = pymysql.connect(host='localhost', user='username', password='password', database='database_name')\n",
    "        cursor = connection.cursor()\n",
    "\n",
    "        cursor.execute(query1)\n",
    "        cursor.execute(query2)\n",
    "\n",
    "        connection.commit()\n",
    "        print(\"Transaction committed successfully.\")\n",
    "\n",
    "    except err.IntegrityError as e:\n",
    "        if connection:\n",
    "            connection.rollback()\n",
    "        print(f\"IntegrityError: {e}. Transaction rolled back.\")\n",
    "    except pymysql.Error as e:\n",
    "        print(f\"Error: Database error occurred: {e}\")\n",
    "    finally:\n",
    "        if connection:\n",
    "            connection.close()\n",
    "            print(\"Database connection closed.\")\n",
    "\n",
    "# Test execute_database_transaction function\n",
    "execute_database_transaction(\"UPDATE users SET active=1 WHERE id=1\", \"INSERT INTO transactions (user_id, amount) VALUES (1, 100)\")\n"
   ]
  },
  {
   "cell_type": "markdown",
   "id": "7931928b-35e4-4e23-b697-ca76de8fd544",
   "metadata": {},
   "source": [
    "#### <span style=\"color:purple;\">Example 2:</span> \n",
    "<span style=\"color:green;\">Handling HTTP Errors in API Integration.</span>"
   ]
  },
  {
   "cell_type": "code",
   "execution_count": 108,
   "id": "f9c1df43-c9f4-4e71-a8e7-23b86cd97bf9",
   "metadata": {},
   "outputs": [
    {
     "name": "stdout",
     "output_type": "stream",
     "text": [
      "RequestException occurred: HTTPSConnectionPool(host='api.hello.com', port=443): Max retries exceeded with url: /data (Caused by SSLError(SSLEOFError(8, '[SSL: UNEXPECTED_EOF_WHILE_READING] EOF occurred in violation of protocol (_ssl.c:1006)')))\n"
     ]
    }
   ],
   "source": [
    "import requests\n",
    "from requests.exceptions import HTTPError\n",
    "\n",
    "def fetch_data_from_api(url):\n",
    "    try:\n",
    "        response = requests.get(url)\n",
    "        response.raise_for_status()  # Raise HTTPError for bad responses\n",
    "        data = response.json()\n",
    "        print(\"Data fetched successfully:\", data)\n",
    "    except HTTPError as http_err:\n",
    "        print(f\"HTTPError occurred: {http_err}\")\n",
    "    except requests.exceptions.RequestException as e:\n",
    "        print(f\"RequestException occurred: {e}\")\n",
    "\n",
    "# Test fetch_data_from_api function\n",
    "fetch_data_from_api(\"https://api.hello.com/data\")\n"
   ]
  },
  {
   "cell_type": "markdown",
   "id": "7dd2636d-2100-49ff-b239-979b64e540a1",
   "metadata": {},
   "source": [
    "#### <span style=\"color:purple;\">Example 3:</span> \n",
    "<span style=\"color:green;\">Handling Multi-Level JSON Parsing Errors.</span>\n"
   ]
  },
  {
   "cell_type": "code",
   "execution_count": 109,
   "id": "5fe9fa31-f861-4173-bf8c-a105588b12bd",
   "metadata": {},
   "outputs": [
    {
     "name": "stdout",
     "output_type": "stream",
     "text": [
      "KeyError occurred: 'key1'\n"
     ]
    }
   ],
   "source": [
    "import json\n",
    "\n",
    "def parse_nested_json_data(filename):\n",
    "    try:\n",
    "        with open(filename, 'r') as file:\n",
    "            data = json.load(file)\n",
    "            value = data['key1']['key2']  # Access nested keys\n",
    "            print(\"Value retrieved from JSON:\", value)\n",
    "    except FileNotFoundError:\n",
    "        print(f\"Error: File '{filename}' not found.\")\n",
    "    except KeyError as key_err:\n",
    "        print(f\"KeyError occurred: {key_err}\")\n",
    "    except TypeError as type_err:\n",
    "        print(f\"TypeError occurred: {type_err}\")\n",
    "\n",
    "# Test parse_nested_json_data function\n",
    "parse_nested_json_data(\"complex_data.json\")\n"
   ]
  },
  {
   "cell_type": "markdown",
   "id": "b9f77d47-dba4-455f-8127-70dcaff3c06b",
   "metadata": {},
   "source": [
    "#### <span style=\"color:purple;\">Example 4:</span> \n",
    "<span style=\"color:green;\">Handling Concurrent Requests with Thread Pool Executor.</span>\n"
   ]
  },
  {
   "cell_type": "code",
   "execution_count": 110,
   "id": "94a1b600-54f4-496a-b728-b1f700f2bde1",
   "metadata": {},
   "outputs": [
    {
     "name": "stdout",
     "output_type": "stream",
     "text": [
      "Error fetching URL https://www.invalidurl.com: HTTPSConnectionPool(host='www.invalidurl.com', port=443): Max retries exceeded with url: / (Caused by NameResolutionError(\"<urllib3.connection.HTTPSConnection object at 0x000002020CF99510>: Failed to resolve 'www.invalidurl.com' ([Errno 11001] getaddrinfo failed)\"))\n",
      "Error fetching URL https://www.anotherexample.com: HTTPSConnectionPool(host='www.anotherexample.com', port=443): Max retries exceeded with url: / (Caused by NameResolutionError(\"<urllib3.connection.HTTPSConnection object at 0x000002020D0BEE50>: Failed to resolve 'www.anotherexample.com' ([Errno 11002] getaddrinfo failed)\"))\n",
      "URL https://www.example.com fetched successfully.\n"
     ]
    }
   ],
   "source": [
    "import concurrent.futures\n",
    "import requests\n",
    "\n",
    "def fetch_url(url):\n",
    "    try:\n",
    "        response = requests.get(url)\n",
    "        response.raise_for_status()  # Raise HTTPError for bad responses\n",
    "        print(f\"URL {url} fetched successfully.\")\n",
    "    except requests.exceptions.RequestException as e:\n",
    "        print(f\"Error fetching URL {url}: {e}\")\n",
    "\n",
    "def process_urls_concurrently(urls):\n",
    "    with concurrent.futures.ThreadPoolExecutor(max_workers=5) as executor:\n",
    "        futures = [executor.submit(fetch_url, url) for url in urls]\n",
    "        for future in concurrent.futures.as_completed(futures):\n",
    "            try:\n",
    "                future.result()  # Ensure any exceptions are raised here\n",
    "            except Exception as e:\n",
    "                print(f\"Exception occurred: {e}\")\n",
    "\n",
    "# Test process_urls_concurrently function\n",
    "urls = [\"https://www.example.com\", \"https://www.invalidurl.com\", \"https://www.anotherexample.com\"]\n",
    "process_urls_concurrently(urls)\n"
   ]
  },
  {
   "cell_type": "markdown",
   "id": "6e6f86a7-a37a-43f0-a689-d2c3ad861fbf",
   "metadata": {},
   "source": [
    "#### <span style=\"color:purple;\">Example 4:</span> \n",
    "<span style=\"color:green;\">Handling Memory Errors.</span>\n"
   ]
  },
  {
   "cell_type": "code",
   "execution_count": 111,
   "id": "f737bc99-2303-4e29-8b6c-03b1fbce9e62",
   "metadata": {},
   "outputs": [
    {
     "name": "stdout",
     "output_type": "stream",
     "text": [
      "Memory consumed successfully.\n"
     ]
    }
   ],
   "source": [
    "import ctypes\n",
    "\n",
    "def consume_memory():\n",
    "    try:\n",
    "        size = 2**31  # Allocate a large block of memory\n",
    "        arr = (ctypes.c_char * size)()\n",
    "        print(\"Memory consumed successfully.\")\n",
    "    except MemoryError:\n",
    "        print(\"MemoryError: Memory limit exceeded.\")\n",
    "\n",
    "# Test consume_memory function\n",
    "consume_memory()\n"
   ]
  },
  {
   "cell_type": "markdown",
   "id": "d569cc90-fefc-4815-8752-e908c8133cc6",
   "metadata": {},
   "source": [
    "#### <span style=\"color:purple;\">Example 5:</span> \n",
    "<span style=\"color:green;\">Handling Network Socket Errors with Retry Logic.</span>\n"
   ]
  },
  {
   "cell_type": "code",
   "execution_count": 112,
   "id": "c2e450a1-90db-43ea-b1f6-7c21fa004c27",
   "metadata": {},
   "outputs": [
    {
     "name": "stdout",
     "output_type": "stream",
     "text": [
      "Attempt 1: Socket error occurred: [WinError 10061] No connection could be made because the target machine actively refused it\n",
      "Retrying in 1 seconds...\n",
      "Attempt 2: Socket error occurred: [WinError 10061] No connection could be made because the target machine actively refused it\n",
      "Retrying in 2 seconds...\n",
      "Attempt 3: Socket error occurred: [WinError 10061] No connection could be made because the target machine actively refused it\n",
      "Max retry attempts reached. Aborting operation.\n"
     ]
    }
   ],
   "source": [
    "import socket\n",
    "import time\n",
    "\n",
    "def send_data_over_network(data, server_address, port):\n",
    "    attempt = 0\n",
    "    max_attempts = 3\n",
    "    delay = 1\n",
    "\n",
    "    while attempt < max_attempts:\n",
    "        attempt += 1\n",
    "        try:\n",
    "            # Create socket and connect to server\n",
    "            sock = socket.socket(socket.AF_INET, socket.SOCK_STREAM)\n",
    "            sock.connect((server_address, port))\n",
    "\n",
    "            # Send data\n",
    "            sock.sendall(data.encode())\n",
    "\n",
    "            # Receive response (if applicable)\n",
    "            # response = sock.recv(1024)\n",
    "\n",
    "            print(f\"Data sent successfully to {server_address}:{port}\")\n",
    "            return  # Exit function on success\n",
    "\n",
    "        except socket.error as e:\n",
    "            print(f\"Attempt {attempt}: Socket error occurred: {e}\")\n",
    "            if attempt < max_attempts:\n",
    "                print(f\"Retrying in {delay} seconds...\")\n",
    "                time.sleep(delay)\n",
    "                delay *= 2  # Exponential backoff\n",
    "            else:\n",
    "                print(\"Max retry attempts reached. Aborting operation.\")\n",
    "        finally:\n",
    "            sock.close()\n",
    "\n",
    "# Test send_data_over_network function\n",
    "data_to_send = \"Hello, server!\"\n",
    "server_address = 'localhost'\n",
    "port = 12345\n",
    "send_data_over_network(data_to_send, server_address, port)\n"
   ]
  },
  {
   "cell_type": "markdown",
   "id": "40df0e1e-11cd-4e4a-81e6-d1831632f393",
   "metadata": {},
   "source": [
    "#### <span style=\"color:purple;\">Example 6:</span> \n",
    "<span style=\"color:green;\">Handling Complex Data Validation.</span>\n"
   ]
  },
  {
   "cell_type": "code",
   "execution_count": 113,
   "id": "26a44e22-6283-4242-af03-d386993f3a1d",
   "metadata": {},
   "outputs": [
    {
     "name": "stdout",
     "output_type": "stream",
     "text": [
      "Data format validated successfully.\n"
     ]
    }
   ],
   "source": [
    "def validate_data_format(data):\n",
    "    try:\n",
    "        assert isinstance(data, dict), \"Data must be a dictionary.\"\n",
    "        assert 'key1' in data, \"Missing 'key1' in data.\"\n",
    "        assert data['key1'] > 0, \"'key1' must be greater than 0.\"\n",
    "        print(\"Data format validated successfully.\")\n",
    "    except AssertionError as e:\n",
    "        print(f\"AssertionError: {e}\")\n",
    "    except ValueError as ve:\n",
    "        print(f\"ValueError: {ve}\")\n",
    "\n",
    "# Test validate_data_format function\n",
    "validate_data_format({'key1': 10, 'key2': 'value'})\n"
   ]
  },
  {
   "cell_type": "markdown",
   "id": "3154cb72-d82d-4def-b7f8-d41b9709c00d",
   "metadata": {},
   "source": [
    "#### <span style=\"color:purple;\">Example 7:</span> \n",
    "<span style=\"color:green;\">Handling Stack Overflow Errors.</span>\n"
   ]
  },
  {
   "cell_type": "code",
   "execution_count": 114,
   "id": "140de6e1-09e6-481b-b632-ce894f505585",
   "metadata": {},
   "outputs": [
    {
     "name": "stdout",
     "output_type": "stream",
     "text": [
      "Factorial result: 93326215443944152681699238856266700490715968264381621468592963895217599993229915608941463976156518286253697920827223758251185210916864000000000000000000000000\n"
     ]
    }
   ],
   "source": [
    "import sys\n",
    "\n",
    "def factorial(n):\n",
    "    try:\n",
    "        if n == 0:\n",
    "            return 1\n",
    "        else:\n",
    "            return n * factorial(n - 1)\n",
    "    except RecursionError:\n",
    "        print(f\"RecursionError: Maximum recursion depth exceeded for input value {n}.\")\n",
    "        return sys.maxsize  # Return maximum integer value\n",
    "\n",
    "# Test factorial function\n",
    "result = factorial(100)\n",
    "print(\"Factorial result:\", result)\n"
   ]
  },
  {
   "cell_type": "markdown",
   "id": "92572bdc-d5f6-4981-8d39-57e8c317a45b",
   "metadata": {},
   "source": [
    "#### <span style=\"color:purple;\">Example 8:</span> \n",
    "<span style=\"color:green;\">Handling Resource Cleanup with Exit Hooks.</span>\n"
   ]
  },
  {
   "cell_type": "code",
   "execution_count": 115,
   "id": "4475549d-adfb-4f81-8950-5da0662b5baa",
   "metadata": {},
   "outputs": [
    {
     "name": "stdout",
     "output_type": "stream",
     "text": [
      "Processing resource...\n"
     ]
    }
   ],
   "source": [
    "import atexit\n",
    "\n",
    "def cleanup_resource():\n",
    "    try:\n",
    "        # Simulate cleanup operations\n",
    "        print(\"Resource cleanup completed.\")\n",
    "    except Exception as e:\n",
    "        print(f\"Exception occurred during cleanup: {e}\")\n",
    "\n",
    "def process_resource():\n",
    "    # Register cleanup function\n",
    "    atexit.register(cleanup_resource)\n",
    "    print(\"Processing resource...\")\n",
    "\n",
    "# Test process_resource function\n",
    "process_resource()\n"
   ]
  },
  {
   "cell_type": "markdown",
   "id": "f6504bab-adc5-4ad0-934a-676fa2c62392",
   "metadata": {},
   "source": [
    "#### <span style=\"color:purple;\">Example 9:</span> \n",
    "<span style=\"color:green;\">Handling Generator Errors.</span>\n"
   ]
  },
  {
   "cell_type": "code",
   "execution_count": 116,
   "id": "4a2529a6-0ff1-471a-8f7c-547bc0ce3b22",
   "metadata": {},
   "outputs": [
    {
     "name": "stdout",
     "output_type": "stream",
     "text": [
      "0\n",
      "1\n",
      "2\n",
      "3\n",
      "4\n",
      "Generator finished.\n"
     ]
    }
   ],
   "source": [
    "def generate_numbers(limit):\n",
    "    try:\n",
    "        for i in range(limit):\n",
    "            yield i\n",
    "    except TypeError as te:\n",
    "        print(f\"TypeError occurred: {te}\")\n",
    "    except StopIteration:\n",
    "        print(\"StopIteration: End of generator reached.\")\n",
    "\n",
    "# Test generate_numbers function\n",
    "gen = generate_numbers(5)\n",
    "try:\n",
    "    while True:\n",
    "        print(next(gen))\n",
    "except StopIteration:\n",
    "    print(\"Generator finished.\")\n",
    "except TypeError as te:\n",
    "    print(f\"TypeError during iteration: {te}\")\n"
   ]
  }
 ],
 "metadata": {
  "kernelspec": {
   "display_name": "Python 3 (ipykernel)",
   "language": "python",
   "name": "python3"
  },
  "language_info": {
   "codemirror_mode": {
    "name": "ipython",
    "version": 3
   },
   "file_extension": ".py",
   "mimetype": "text/x-python",
   "name": "python",
   "nbconvert_exporter": "python",
   "pygments_lexer": "ipython3",
   "version": "3.11.7"
  }
 },
 "nbformat": 4,
 "nbformat_minor": 5
}
