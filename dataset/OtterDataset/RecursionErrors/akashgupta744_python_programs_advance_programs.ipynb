{
 "cells": [
  {
   "cell_type": "code",
   "execution_count": null,
   "metadata": {},
   "outputs": [],
   "source": []
  },
  {
   "cell_type": "code",
   "execution_count": 3,
   "metadata": {},
   "outputs": [
    {
     "name": "stdout",
     "output_type": "stream",
     "text": [
      "1 \n",
      "* 2 \n",
      "* 3 * \n",
      "4 * 5 * \n",
      "6 * 7 * 8 \n"
     ]
    }
   ],
   "source": [
    "n=int(input())\n",
    "star=1\n",
    "dummy=1\n",
    "t=True\n",
    "for i in range(1,n+1):\n",
    "    for st in range(1,star+1):\n",
    "        if t:\n",
    "            print(dummy,end=' ')\n",
    "            dummy+=1\n",
    "            t=False\n",
    "        else:\n",
    "            print('*',end=' ')\n",
    "            t=True\n",
    "    print()\n",
    "    star+=1\n"
   ]
  },
  {
   "cell_type": "code",
   "execution_count": 43,
   "metadata": {},
   "outputs": [
    {
     "name": "stdout",
     "output_type": "stream",
     "text": [
      "6\n"
     ]
    }
   ],
   "source": [
    "n=3894\n",
    "while n>9:\n",
    "    dummy=n\n",
    "    sum=0\n",
    "    while dummy>0:\n",
    "        r=dummy%10\n",
    "        dummy=dummy//10\n",
    "        sum+=r\n",
    "    n=sum\n",
    "print(n)"
   ]
  },
  {
   "cell_type": "code",
   "execution_count": 3,
   "metadata": {},
   "outputs": [
    {
     "name": "stdout",
     "output_type": "stream",
     "text": [
      "0 1 1 2 4 7 13 24 "
     ]
    }
   ],
   "source": [
    "n=5\n",
    "a,b,c=0,1,1\n",
    "i=0\n",
    "print(a,b,c,end=' ')\n",
    "while i<n:\n",
    "    t=a+b+c\n",
    "    a=b\n",
    "    b=c\n",
    "    c=t\n",
    "    print(t,end=' ')\n",
    "    i+=1"
   ]
  },
  {
   "cell_type": "code",
   "execution_count": 2,
   "metadata": {},
   "outputs": [
    {
     "name": "stdout",
     "output_type": "stream",
     "text": [
      "\n",
      "   1   2   3   4   5\n",
      "                          6\n",
      "   7   8   9  10  11\n",
      "                         12\n",
      "  13  14  15  16  17\n"
     ]
    }
   ],
   "source": [
    "def print_pattern(n):\n",
    "    num = 1\n",
    "    for i in range(1, n+1):\n",
    "        if i % 2 != 0:\n",
    "            for j in range(1, 6):\n",
    "                print(\"{:4}\".format(num), end=\"\")\n",
    "                num += 1\n",
    "            print()\n",
    "        else:\n",
    "            print(\" \" * 22, \"{:4}\".format(num))\n",
    "            num += 1\n",
    "\n",
    "print()\n",
    "print_pattern(5)\n"
   ]
  },
  {
   "cell_type": "code",
   "execution_count": 16,
   "metadata": {},
   "outputs": [
    {
     "name": "stdout",
     "output_type": "stream",
     "text": [
      "[[1, 1, 1], [2, 2, 2], [3, 3, 3], [4, 4, 4], [5, 5, 5], [6, 6, 6], [7, 7, 7], [8, 8, 8], [9, 9, 9], [10, 10, 10]]\n"
     ]
    }
   ],
   "source": [
    "d=[[i,j,k] for i in range(1,11) for j in range(1,11) for k in range(1,11) if i==j==k]\n",
    "print(d)"
   ]
  },
  {
   "cell_type": "code",
   "execution_count": 24,
   "metadata": {},
   "outputs": [
    {
     "name": "stdout",
     "output_type": "stream",
     "text": [
      "{(6, 6, 6), (5, 5, 5), (9, 9, 9), (2, 2, 2), (10, 10, 10), (7, 7, 7), (3, 3, 3), (4, 4, 4), (8, 8, 8), (1, 1, 1)}\n"
     ]
    }
   ],
   "source": [
    "d={(i,j,k) for i in range(1,11) for j in range(1,11) for k in range(1,11) if i==j==k}\n",
    "print(d)"
   ]
  },
  {
   "cell_type": "code",
   "execution_count": 16,
   "metadata": {},
   "outputs": [
    {
     "name": "stdout",
     "output_type": "stream",
     "text": [
      "[1, 5, 9, 13]\n",
      "[2, 6, 10, 14]\n",
      "[3, 7, 11, 15]\n",
      "[4, 8, 12, 16]\n"
     ]
    }
   ],
   "source": [
    "l = [[1, 2, 3, 4], [5, 6, 7, 8], [9, 10, 11, 12], [13, 14, 15, 16]]\n",
    "\n",
    "# Transpose the original list\n",
    "tl = []\n",
    "for i in range(len(l)):\n",
    "    tr = []\n",
    "    for row in l:\n",
    "        tr.append(row[i])\n",
    "    tl.append(tr)\n",
    "\n",
    "# Print the transposed list\n",
    "for row in tl:\n",
    "    print(row)\n"
   ]
  },
  {
   "cell_type": "code",
   "execution_count": 23,
   "metadata": {},
   "outputs": [
    {
     "name": "stdout",
     "output_type": "stream",
     "text": [
      "[1, 5, 9, 13]\n",
      "[2, 6, 10, 14]\n",
      "[3, 7, 11, 15]\n",
      "[4, 8, 12, 16]\n"
     ]
    }
   ],
   "source": [
    "l = [[1, 2, 3, 4], [5, 6, 7, 8], [9, 10, 11, 12], [13, 14, 15, 16]]\n",
    "row = len(l)\n",
    "# Transpose the original list\n",
    "tl = [[0]*row for i in l]\n",
    "for i in range(row):\n",
    "    for j in range(row):\n",
    "        tl[j][i] = l[i][j] \n",
    "\n",
    "# Print the transposed list\n",
    "for li in tl:\n",
    "    print(li)\n"
   ]
  },
  {
   "cell_type": "code",
   "execution_count": 1,
   "metadata": {},
   "outputs": [
    {
     "name": "stdout",
     "output_type": "stream",
     "text": [
      "RCB  vs  MI\n",
      "DC  vs  SRH\n",
      "RR  vs  LSG\n",
      "GT  vs  KKR\n",
      "DC  vs  KX1P\n"
     ]
    }
   ],
   "source": [
    "l=['RCB','MI','DC','SRH','RR','LSG','GT','KKR','DC','KX1P']\n",
    "for i in range(0,len(l),2):\n",
    "    print(l[i],' vs ',l[i+1])"
   ]
  },
  {
   "cell_type": "code",
   "execution_count": 3,
   "metadata": {},
   "outputs": [
    {
     "name": "stdout",
     "output_type": "stream",
     "text": [
      "4\n"
     ]
    }
   ],
   "source": [
    "s='afcfdg' #'abcabcbb','pwwke'\n",
    "l=[]\n",
    "for i in range(len(s)):\n",
    "    for j in range(i+1,len(s)+1):\n",
    "        word=s[i:j]\n",
    "        if len(set(word))==len(word): \n",
    "           l.append(word)\n",
    "print(len(max(l,key=len)))"
   ]
  },
  {
   "cell_type": "code",
   "execution_count": 75,
   "metadata": {},
   "outputs": [
    {
     "name": "stdout",
     "output_type": "stream",
     "text": [
      "-521\n"
     ]
    }
   ],
   "source": [
    "def reverse(n):\n",
    "    res=0\n",
    "    while n!=0:\n",
    "        rem=n%10\n",
    "        n=n//10\n",
    "        res=res*10+rem\n",
    "    return res\n",
    "n=-125\n",
    "if n<0:\n",
    "    print(-1*reverse(n*-1))\n",
    "else:\n",
    "    print(reverse(n))"
   ]
  },
  {
   "cell_type": "code",
   "execution_count": 84,
   "metadata": {},
   "outputs": [
    {
     "name": "stdout",
     "output_type": "stream",
     "text": [
      "True\n"
     ]
    }
   ],
   "source": [
    "def pailindrom(n):\n",
    "    res=0\n",
    "    while n!=0:\n",
    "        rem=n%10\n",
    "        n//=10\n",
    "        res=res*10+rem\n",
    "    return res\n",
    "n=141\n",
    "\n",
    "if n<0:\n",
    "    print(False)\n",
    "else:\n",
    "    if pailindrom(n) == n:\n",
    "        print(True)\n",
    "    else:\n",
    "        print(False)\n",
    "\n",
    "        "
   ]
  },
  {
   "cell_type": "code",
   "execution_count": 12,
   "metadata": {},
   "outputs": [
    {
     "data": {
      "text/plain": [
       "120"
      ]
     },
     "execution_count": 12,
     "metadata": {},
     "output_type": "execute_result"
    }
   ],
   "source": [
    "# write a program for factrial with out factorial\n",
    "def add(a,b):\n",
    "    d=0\n",
    "    for i in range(b):\n",
    "        d+=a\n",
    "    return d\n",
    "\n",
    "def factorial(n):\n",
    "    d=1\n",
    "    for i in range(n,1,-1):\n",
    "        d=add(d,i)\n",
    "    return d\n",
    "n=5\n",
    "factorial(n)\n",
    "\n",
    "# n=5\n",
    "# res=1\n",
    "# c=1\n",
    "# s=1\n",
    "# for i in range(1,n):\n",
    "#     c=i\n",
    "#     for j in range(c):\n",
    "#         s += res\n",
    "#     res = s\n",
    "# print(res)\n",
    "\n"
   ]
  },
  {
   "cell_type": "code",
   "execution_count": null,
   "metadata": {},
   "outputs": [],
   "source": [
    "# single-ton class\n"
   ]
  },
  {
   "cell_type": "code",
   "execution_count": 24,
   "metadata": {},
   "outputs": [
    {
     "name": "stdout",
     "output_type": "stream",
     "text": [
      "anagram\n"
     ]
    }
   ],
   "source": [
    "# wap to check given strings are anagram or not.\n",
    "s1='dad'\n",
    "s2='add'\n",
    "if len(s1)==len(s2):\n",
    "    for i in s1:\n",
    "        if s1.count(i)!=s2.count(i): \n",
    "            print('not a anagram')\n",
    "            break\n",
    "    else:\n",
    "        print('anagram')\n",
    "\n",
    "else:\n",
    "    print('not a anagram')"
   ]
  },
  {
   "cell_type": "code",
   "execution_count": 1,
   "metadata": {},
   "outputs": [
    {
     "name": "stdout",
     "output_type": "stream",
     "text": [
      "[['eat', 'tea', 'ate'], ['tan', 'nat'], ['bat']]\n"
     ]
    }
   ],
   "source": [
    "l=['eat','tea','tan','ate','bat','nat']\n",
    "d=[]\n",
    "for i in l:\n",
    "    c=[]\n",
    "    for j in l:\n",
    "        if sorted(i)==sorted(j):\n",
    "            c+=[j]\n",
    "    if c not in d:\n",
    "        d.append(c)\n",
    "print(d)"
   ]
  },
  {
   "cell_type": "code",
   "execution_count": 28,
   "metadata": {},
   "outputs": [
    {
     "name": "stdout",
     "output_type": "stream",
     "text": [
      "[[1, 2, 3], [1, 3, 2], [2, 1, 3], [2, 3, 1], [3, 1, 2], [3, 2, 1]]\n"
     ]
    }
   ],
   "source": [
    "from itertools import permutations as p\n",
    "l=[1,2,3]\n",
    "print([list(ele) for ele in (p(l))])"
   ]
  },
  {
   "cell_type": "code",
   "execution_count": 6,
   "metadata": {},
   "outputs": [
    {
     "name": "stdout",
     "output_type": "stream",
     "text": [
      "[5, 6, 2, 7, 4]\n"
     ]
    },
    {
     "data": {
      "text/plain": [
       "34"
      ]
     },
     "execution_count": 6,
     "metadata": {},
     "output_type": "execute_result"
    }
   ],
   "source": [
    "def maxproduct(l):\n",
    "    l.sort()\n",
    "    a=l[1]*l[0]\n",
    "    b=l[len(l)-2]*l[len(l)-1]\n",
    "    c=b-a\n",
    "    return c\n",
    "l=[5, 6, 2, 7, 4]\n",
    "print(l)\n",
    "maxproduct(l)"
   ]
  },
  {
   "cell_type": "code",
   "execution_count": 18,
   "metadata": {},
   "outputs": [
    {
     "name": "stdout",
     "output_type": "stream",
     "text": [
      "6\n"
     ]
    }
   ],
   "source": [
    "def max(l):\n",
    "    for i in l:\n",
    "        if l.count(i) > len(l)*(25/100):\n",
    "            return i\n",
    "l=[1,1,2,2,6,6,6,6,7,10]\n",
    "print(max(l))"
   ]
  },
  {
   "cell_type": "code",
   "execution_count": 37,
   "metadata": {},
   "outputs": [
    {
     "name": "stdout",
     "output_type": "stream",
     "text": [
      "101\n"
     ]
    }
   ],
   "source": [
    "def Lar_odd(s):\n",
    "    for i in range(len(s)-1,-1,-1):\n",
    "        if int(s[i])%2 != 0:\n",
    "            return(s[:i+1])\n",
    "            \n",
    "    else:\n",
    "        return('')\n",
    "s=input()\n",
    "print(Lar_odd(s))\n",
    "    "
   ]
  },
  {
   "cell_type": "code",
   "execution_count": 2,
   "metadata": {},
   "outputs": [
    {
     "name": "stdout",
     "output_type": "stream",
     "text": [
      "[[-1, 0, 1]]\n"
     ]
    }
   ],
   "source": [
    "l=[1,-1,-1,0]\n",
    "d=[]\n",
    "for i in range(len(l)):\n",
    "    for j in range(i+1,len(l)):\n",
    "        for k in range(j+1,len(l)):\n",
    "            if l[i]+l[j]+l[k]==0:\n",
    "                c=[l[i],l[j],l[k]]\n",
    "                if sorted(c) not in d:\n",
    "                    d.append(sorted(c))\n",
    "print(d)\n",
    "            \n"
   ]
  },
  {
   "cell_type": "code",
   "execution_count": 29,
   "metadata": {},
   "outputs": [
    {
     "name": "stdout",
     "output_type": "stream",
     "text": [
      "4\n"
     ]
    }
   ],
   "source": [
    "l=[1,3,5,6,10]\n",
    "target=10\n",
    "f=l+[target]\n",
    "f.sort()\n",
    "print(f.index(target))\n",
    "    "
   ]
  },
  {
   "cell_type": "code",
   "execution_count": 53,
   "metadata": {},
   "outputs": [
    {
     "name": "stdout",
     "output_type": "stream",
     "text": [
      "True\n"
     ]
    }
   ],
   "source": [
    "# valid paranthiss\n",
    "def valid(s):\n",
    "    while len(s)!=0:\n",
    "        if '()' in s or '[]' in s or '{}' in s:\n",
    "            s=s.replace('()','')\n",
    "            s=s.replace('[]','')\n",
    "            s=s.replace('{}','')\n",
    "        else:\n",
    "            return False\n",
    "    return True\n",
    "s='(){}[]'\n",
    "print(valid(s))\n",
    "\n",
    "\n"
   ]
  },
  {
   "cell_type": "code",
   "execution_count": 26,
   "metadata": {},
   "outputs": [
    {
     "name": "stdout",
     "output_type": "stream",
     "text": [
      "0\n"
     ]
    }
   ],
   "source": [
    "def find(haystack,needle):\n",
    "    return haystack.find(needle)\n",
    "haystack='sadbutsad'\n",
    "needle='sad'\n",
    "print(find(haystack,needle))"
   ]
  },
  {
   "cell_type": "code",
   "execution_count": 62,
   "metadata": {},
   "outputs": [
    {
     "name": "stdout",
     "output_type": "stream",
     "text": [
      "3\n"
     ]
    }
   ],
   "source": [
    "def index(nums,target):\n",
    "    return nums.index(target) if target in nums else -1\n",
    "\n",
    "nums=[4,5,6,0,1,2]\n",
    "target=0\n",
    "print(index(nums,target))"
   ]
  },
  {
   "cell_type": "code",
   "execution_count": 38,
   "metadata": {},
   "outputs": [
    {
     "name": "stdout",
     "output_type": "stream",
     "text": [
      "XXIII\n"
     ]
    }
   ],
   "source": [
    "# roman conversion\n",
    "# 1-I, 5-V, 10-X, 50-L, 100-C, 500-D, 1000-M\n",
    "def roman(n):\n",
    "    number=[1,4,5,9,10,40,50,90,100,400,500,900,1000]\n",
    "    romanno=['I', 'IV', 'V', 'IX', 'X', 'XL', 'L', 'XC', 'C', 'CD', 'D', 'CM', 'M']\n",
    "    i = 12\n",
    "    num= ''\n",
    "    while n != 0:\n",
    "        if number[i] <= n:\n",
    "            num += romanno[i]\n",
    "            n = n - number[i]\n",
    "        else:\n",
    "            i -= 1\n",
    "    return num\n",
    "print(roman(int(input())))"
   ]
  },
  {
   "cell_type": "code",
   "execution_count": 25,
   "metadata": {},
   "outputs": [
    {
     "data": {
      "text/plain": [
       "2611"
      ]
     },
     "execution_count": 25,
     "metadata": {},
     "output_type": "execute_result"
    }
   ],
   "source": [
    "def romanToInt(s):\n",
    "    roman={\"I\":1,\"V\":5,\"X\":10,\"L\":50,\"C\":100,\"D\":500,\"M\":1000}\n",
    "    number=0\n",
    "    for i in range(len(s)-1):\n",
    "        if roman[s[i]] < roman[s[(i+1)]]:\n",
    "            number-=roman[s[i]]\n",
    "        else:\n",
    "            number+=roman[s[i]]\n",
    "    return number+roman[s[-1]]\n",
    "\n",
    "romanToInt(input().upper())"
   ]
  },
  {
   "cell_type": "code",
   "execution_count": 4,
   "metadata": {},
   "outputs": [
    {
     "name": "stdout",
     "output_type": "stream",
     "text": [
      "8\n"
     ]
    }
   ],
   "source": [
    "import roman\n",
    "print(roman.fromRoman(input()))"
   ]
  },
  {
   "cell_type": "code",
   "execution_count": 17,
   "metadata": {},
   "outputs": [
    {
     "name": "stdout",
     "output_type": "stream",
     "text": [
      "5\n"
     ]
    }
   ],
   "source": [
    "def last(s):\n",
    "    s.strip(' ')\n",
    "    l=s.split()\n",
    "    return(len(l[-1]))\n",
    "s='Hello World '\n",
    "print(last(s))"
   ]
  },
  {
   "cell_type": "code",
   "execution_count": 20,
   "metadata": {},
   "outputs": [
    {
     "name": "stdout",
     "output_type": "stream",
     "text": [
      "0.25\n"
     ]
    }
   ],
   "source": [
    "def power(x,n):\n",
    "    return x**n\n",
    "x=2.0000\n",
    "n=-2\n",
    "print(power(x,n))"
   ]
  },
  {
   "cell_type": "code",
   "execution_count": 39,
   "metadata": {},
   "outputs": [
    {
     "name": "stdout",
     "output_type": "stream",
     "text": [
      "56088\n"
     ]
    }
   ],
   "source": [
    "def mulstring(n1,n2):\n",
    "    return eval(n1) * eval(n2)\n",
    "n1='123'\n",
    "n2='456'\n",
    "print(str(mulstring(n1,n2)))"
   ]
  },
  {
   "cell_type": "code",
   "execution_count": null,
   "metadata": {},
   "outputs": [],
   "source": [
    "def sumdig(n):\n",
    "    if n==0:\n",
    "        return 0\n",
    "    return (n%10)**2 + sumdig(n//2)\n",
    "\n",
    "def happy(n):\n",
    "    if n<10:\n",
    "        return 'happy'if n==1 else 'not happy'\n",
    "    return happy(sumdig(n))\n",
    "\n",
    "print(happy(13))"
   ]
  },
  {
   "cell_type": "code",
   "execution_count": 16,
   "metadata": {},
   "outputs": [
    {
     "ename": "RecursionError",
     "evalue": "maximum recursion depth exceeded",
     "output_type": "error",
     "traceback": [
      "\u001b[1;31m---------------------------------------------------------------------------\u001b[0m",
      "\u001b[1;31mRecursionError\u001b[0m                            Traceback (most recent call last)",
      "Cell \u001b[1;32mIn[16], line 8\u001b[0m\n\u001b[0;32m      5\u001b[0m         \u001b[38;5;28;01mreturn\u001b[39;00m \u001b[38;5;241m0\u001b[39m \u001b[38;5;28;01mif\u001b[39;00m n\u001b[38;5;241m==\u001b[39m\u001b[38;5;241m0\u001b[39m \u001b[38;5;28;01melse\u001b[39;00m (n\u001b[38;5;241m%\u001b[39m\u001b[38;5;241m10\u001b[39m)\u001b[38;5;241m*\u001b[39m\u001b[38;5;241m*\u001b[39m\u001b[38;5;241m2\u001b[39m \u001b[38;5;241m+\u001b[39m sumdig(n\u001b[38;5;241m/\u001b[39m\u001b[38;5;241m/\u001b[39m\u001b[38;5;241m2\u001b[39m) \n\u001b[0;32m      7\u001b[0m     \u001b[38;5;28;01mreturn\u001b[39;00m happy(sumdig(num))\n\u001b[1;32m----> 8\u001b[0m \u001b[38;5;28mprint\u001b[39m(\u001b[43mhappy\u001b[49m\u001b[43m(\u001b[49m\u001b[38;5;241;43m13\u001b[39;49m\u001b[43m)\u001b[49m)\n",
      "Cell \u001b[1;32mIn[16], line 7\u001b[0m, in \u001b[0;36mhappy\u001b[1;34m(num)\u001b[0m\n\u001b[0;32m      4\u001b[0m \u001b[38;5;28;01mdef\u001b[39;00m \u001b[38;5;21msumdig\u001b[39m(n):\n\u001b[0;32m      5\u001b[0m     \u001b[38;5;28;01mreturn\u001b[39;00m \u001b[38;5;241m0\u001b[39m \u001b[38;5;28;01mif\u001b[39;00m n\u001b[38;5;241m==\u001b[39m\u001b[38;5;241m0\u001b[39m \u001b[38;5;28;01melse\u001b[39;00m (n\u001b[38;5;241m%\u001b[39m\u001b[38;5;241m10\u001b[39m)\u001b[38;5;241m*\u001b[39m\u001b[38;5;241m*\u001b[39m\u001b[38;5;241m2\u001b[39m \u001b[38;5;241m+\u001b[39m sumdig(n\u001b[38;5;241m/\u001b[39m\u001b[38;5;241m/\u001b[39m\u001b[38;5;241m2\u001b[39m) \n\u001b[1;32m----> 7\u001b[0m \u001b[38;5;28;01mreturn\u001b[39;00m \u001b[43mhappy\u001b[49m\u001b[43m(\u001b[49m\u001b[43msumdig\u001b[49m\u001b[43m(\u001b[49m\u001b[43mnum\u001b[49m\u001b[43m)\u001b[49m\u001b[43m)\u001b[49m\n",
      "Cell \u001b[1;32mIn[16], line 7\u001b[0m, in \u001b[0;36mhappy\u001b[1;34m(num)\u001b[0m\n\u001b[0;32m      4\u001b[0m \u001b[38;5;28;01mdef\u001b[39;00m \u001b[38;5;21msumdig\u001b[39m(n):\n\u001b[0;32m      5\u001b[0m     \u001b[38;5;28;01mreturn\u001b[39;00m \u001b[38;5;241m0\u001b[39m \u001b[38;5;28;01mif\u001b[39;00m n\u001b[38;5;241m==\u001b[39m\u001b[38;5;241m0\u001b[39m \u001b[38;5;28;01melse\u001b[39;00m (n\u001b[38;5;241m%\u001b[39m\u001b[38;5;241m10\u001b[39m)\u001b[38;5;241m*\u001b[39m\u001b[38;5;241m*\u001b[39m\u001b[38;5;241m2\u001b[39m \u001b[38;5;241m+\u001b[39m sumdig(n\u001b[38;5;241m/\u001b[39m\u001b[38;5;241m/\u001b[39m\u001b[38;5;241m2\u001b[39m) \n\u001b[1;32m----> 7\u001b[0m \u001b[38;5;28;01mreturn\u001b[39;00m \u001b[43mhappy\u001b[49m\u001b[43m(\u001b[49m\u001b[43msumdig\u001b[49m\u001b[43m(\u001b[49m\u001b[43mnum\u001b[49m\u001b[43m)\u001b[49m\u001b[43m)\u001b[49m\n",
      "    \u001b[1;31m[... skipping similar frames: happy at line 7 (2963 times)]\u001b[0m\n",
      "Cell \u001b[1;32mIn[16], line 7\u001b[0m, in \u001b[0;36mhappy\u001b[1;34m(num)\u001b[0m\n\u001b[0;32m      4\u001b[0m \u001b[38;5;28;01mdef\u001b[39;00m \u001b[38;5;21msumdig\u001b[39m(n):\n\u001b[0;32m      5\u001b[0m     \u001b[38;5;28;01mreturn\u001b[39;00m \u001b[38;5;241m0\u001b[39m \u001b[38;5;28;01mif\u001b[39;00m n\u001b[38;5;241m==\u001b[39m\u001b[38;5;241m0\u001b[39m \u001b[38;5;28;01melse\u001b[39;00m (n\u001b[38;5;241m%\u001b[39m\u001b[38;5;241m10\u001b[39m)\u001b[38;5;241m*\u001b[39m\u001b[38;5;241m*\u001b[39m\u001b[38;5;241m2\u001b[39m \u001b[38;5;241m+\u001b[39m sumdig(n\u001b[38;5;241m/\u001b[39m\u001b[38;5;241m/\u001b[39m\u001b[38;5;241m2\u001b[39m) \n\u001b[1;32m----> 7\u001b[0m \u001b[38;5;28;01mreturn\u001b[39;00m happy(\u001b[43msumdig\u001b[49m\u001b[43m(\u001b[49m\u001b[43mnum\u001b[49m\u001b[43m)\u001b[49m)\n",
      "Cell \u001b[1;32mIn[16], line 5\u001b[0m, in \u001b[0;36mhappy.<locals>.sumdig\u001b[1;34m(n)\u001b[0m\n\u001b[0;32m      4\u001b[0m \u001b[38;5;28;01mdef\u001b[39;00m \u001b[38;5;21msumdig\u001b[39m(n):\n\u001b[1;32m----> 5\u001b[0m     \u001b[38;5;28;01mreturn\u001b[39;00m \u001b[38;5;241m0\u001b[39m \u001b[38;5;28;01mif\u001b[39;00m n\u001b[38;5;241m==\u001b[39m\u001b[38;5;241m0\u001b[39m \u001b[38;5;28;01melse\u001b[39;00m (n\u001b[38;5;241m%\u001b[39m\u001b[38;5;241m10\u001b[39m)\u001b[38;5;241m*\u001b[39m\u001b[38;5;241m*\u001b[39m\u001b[38;5;241m2\u001b[39m \u001b[38;5;241m+\u001b[39m \u001b[43msumdig\u001b[49m\u001b[43m(\u001b[49m\u001b[43mn\u001b[49m\u001b[38;5;241;43m/\u001b[39;49m\u001b[38;5;241;43m/\u001b[39;49m\u001b[38;5;241;43m2\u001b[39;49m\u001b[43m)\u001b[49m\n",
      "Cell \u001b[1;32mIn[16], line 5\u001b[0m, in \u001b[0;36mhappy.<locals>.sumdig\u001b[1;34m(n)\u001b[0m\n\u001b[0;32m      4\u001b[0m \u001b[38;5;28;01mdef\u001b[39;00m \u001b[38;5;21msumdig\u001b[39m(n):\n\u001b[1;32m----> 5\u001b[0m     \u001b[38;5;28;01mreturn\u001b[39;00m \u001b[38;5;241m0\u001b[39m \u001b[38;5;28;01mif\u001b[39;00m n\u001b[38;5;241m==\u001b[39m\u001b[38;5;241m0\u001b[39m \u001b[38;5;28;01melse\u001b[39;00m (n\u001b[38;5;241m%\u001b[39m\u001b[38;5;241m10\u001b[39m)\u001b[38;5;241m*\u001b[39m\u001b[38;5;241m*\u001b[39m\u001b[38;5;241m2\u001b[39m \u001b[38;5;241m+\u001b[39m \u001b[43msumdig\u001b[49m\u001b[43m(\u001b[49m\u001b[43mn\u001b[49m\u001b[38;5;241;43m/\u001b[39;49m\u001b[38;5;241;43m/\u001b[39;49m\u001b[38;5;241;43m2\u001b[39;49m\u001b[43m)\u001b[49m\n",
      "    \u001b[1;31m[... skipping similar frames: happy.<locals>.sumdig at line 5 (5 times)]\u001b[0m\n",
      "Cell \u001b[1;32mIn[16], line 5\u001b[0m, in \u001b[0;36mhappy.<locals>.sumdig\u001b[1;34m(n)\u001b[0m\n\u001b[0;32m      4\u001b[0m \u001b[38;5;28;01mdef\u001b[39;00m \u001b[38;5;21msumdig\u001b[39m(n):\n\u001b[1;32m----> 5\u001b[0m     \u001b[38;5;28;01mreturn\u001b[39;00m \u001b[38;5;241m0\u001b[39m \u001b[38;5;28;01mif\u001b[39;00m n\u001b[38;5;241m==\u001b[39m\u001b[38;5;241m0\u001b[39m \u001b[38;5;28;01melse\u001b[39;00m (n\u001b[38;5;241m%\u001b[39m\u001b[38;5;241m10\u001b[39m)\u001b[38;5;241m*\u001b[39m\u001b[38;5;241m*\u001b[39m\u001b[38;5;241m2\u001b[39m \u001b[38;5;241m+\u001b[39m \u001b[43msumdig\u001b[49m\u001b[43m(\u001b[49m\u001b[43mn\u001b[49m\u001b[38;5;241;43m/\u001b[39;49m\u001b[38;5;241;43m/\u001b[39;49m\u001b[38;5;241;43m2\u001b[39;49m\u001b[43m)\u001b[49m\n",
      "\u001b[1;31mRecursionError\u001b[0m: maximum recursion depth exceeded"
     ]
    }
   ],
   "source": [
    "def happy(num):\n",
    "    if num<10:\n",
    "        return 'happy'if num in [1,7] else 'not happy'\n",
    "    def sumdig(n):\n",
    "        return 0 if n==0 else (n%10)**2 + sumdig(n//2) \n",
    "    \n",
    "    return happy(sumdig(num))\n",
    "print(happy(13))\n"
   ]
  },
  {
   "cell_type": "code",
   "execution_count": 17,
   "metadata": {},
   "outputs": [
    {
     "name": "stdout",
     "output_type": "stream",
     "text": [
      "True\n"
     ]
    }
   ],
   "source": [
    "def happy(n):\n",
    "    while n > 9:\n",
    "        sum =0\n",
    "        while n!= 0:\n",
    "            rem = n%10\n",
    "            sum += rem**2\n",
    "            n//=10\n",
    "        n=sum\n",
    "    return n==7 or n==1\n",
    "n=100\n",
    "print(happy(13))\n"
   ]
  },
  {
   "cell_type": "code",
   "execution_count": null,
   "metadata": {},
   "outputs": [],
   "source": [
    "def binarystr(n):\n",
    "\n",
    "\n",
    "binarystr()"
   ]
  },
  {
   "cell_type": "code",
   "execution_count": 51,
   "metadata": {},
   "outputs": [
    {
     "name": "stdout",
     "output_type": "stream",
     "text": [
      "1\n"
     ]
    }
   ],
   "source": [
    "from math import factorial\n",
    "n=5\n",
    "f=str(factorial(n))[::-1]\n",
    "count=0\n",
    "for i in range(len(f)):\n",
    "    if f[i] == '0':\n",
    "        count+=1\n",
    "    else:\n",
    "        break\n",
    "print(count)"
   ]
  },
  {
   "cell_type": "code",
   "execution_count": 62,
   "metadata": {},
   "outputs": [
    {
     "name": "stdout",
     "output_type": "stream",
     "text": [
      "2\n"
     ]
    }
   ],
   "source": [
    "def max(l):\n",
    "    for i in l:\n",
    "        if l.count(i) > len(l)*(.5):\n",
    "            return i\n",
    "        return 0\n",
    "l=[2,2,1,1,1,2,2]\n",
    "print(max(l))"
   ]
  },
  {
   "cell_type": "code",
   "execution_count": 66,
   "metadata": {},
   "outputs": [
    {
     "name": "stdout",
     "output_type": "stream",
     "text": [
      "blue is sky the\n"
     ]
    }
   ],
   "source": [
    "def reverse(s):\n",
    "    return ' '.join(s.split()[::-1])\n",
    "\n",
    "s='the sky is blue'\n",
    "print(reverse(s))"
   ]
  },
  {
   "cell_type": "code",
   "execution_count": 16,
   "metadata": {},
   "outputs": [
    {
     "name": "stdout",
     "output_type": "stream",
     "text": [
      "[3, 5]\n"
     ]
    }
   ],
   "source": [
    "def intarray(nums):\n",
    "    return [ i for i in nums if nums.count(i) == 1]\n",
    "nums=[1,2,1,3,2,5]\n",
    "print(intarray(nums))"
   ]
  },
  {
   "cell_type": "code",
   "execution_count": 21,
   "metadata": {},
   "outputs": [
    {
     "name": "stdout",
     "output_type": "stream",
     "text": [
      "2\n"
     ]
    }
   ],
   "source": [
    "def happy(n):\n",
    "    while n>9:\n",
    "        dummy=n\n",
    "        summ=0\n",
    "        while dummy>0:\n",
    "            r=dummy%10\n",
    "            dummy=dummy//10\n",
    "            summ+=r\n",
    "        n=summ\n",
    "    return n \n",
    "n=38\n",
    "print(happy(n))"
   ]
  },
  {
   "cell_type": "code",
   "execution_count": 40,
   "metadata": {},
   "outputs": [
    {
     "name": "stdout",
     "output_type": "stream",
     "text": [
      "True\n"
     ]
    }
   ],
   "source": [
    "def power(n,p):\n",
    "    if 2**p == n:\n",
    "        return True\n",
    "    elif 2**p > n:\n",
    "        return False\n",
    "   \n",
    "    return power(n,p+1)  \n",
    "print(power(1,0))\n"
   ]
  },
  {
   "cell_type": "code",
   "execution_count": 20,
   "metadata": {},
   "outputs": [
    {
     "name": "stdout",
     "output_type": "stream",
     "text": [
      "True\n"
     ]
    }
   ],
   "source": [
    "def distinct(nums):\n",
    "    return False if len(nums) == len(set(nums)) else True\n",
    "nums=[2,3,1,1]\n",
    "print(distinct(nums))"
   ]
  },
  {
   "cell_type": "code",
   "execution_count": 2,
   "metadata": {},
   "outputs": [
    {
     "name": "stdout",
     "output_type": "stream",
     "text": [
      "3555\n"
     ]
    }
   ],
   "source": [
    "# adding two no with out using arthmatic operators\n",
    "def add(a,b):\n",
    "    while b != 0:\n",
    "        c = a & b\n",
    "        a = a ^ b\n",
    "        b = c << 1\n",
    "    return a\n",
    "a,b=2,3\n",
    "print(add(a,b))"
   ]
  },
  {
   "cell_type": "code",
   "execution_count": 13,
   "metadata": {},
   "outputs": [
    {
     "name": "stdout",
     "output_type": "stream",
     "text": [
      "1\n"
     ]
    }
   ],
   "source": [
    "def missing(nums):\n",
    "    nums.sort()\n",
    "    return(sum([i for i in range(len(nums)+1)]) - sum(nums))\n",
    "nums=[0,1,4]\n",
    "print(missing(nums))"
   ]
  },
  {
   "cell_type": "code",
   "execution_count": 27,
   "metadata": {},
   "outputs": [
    {
     "name": "stdout",
     "output_type": "stream",
     "text": [
      "[1, 3, 12, 0, 0]\n"
     ]
    }
   ],
   "source": [
    "def compose(nums):\n",
    "    i = 0\n",
    "    v = nums.count(0)\n",
    "    while i < len(nums) - v :\n",
    "        if nums[i] == 0:\n",
    "            nums.append(nums.pop(i))\n",
    "            i -= 1\n",
    "        i+=1\n",
    "    return (nums)\n",
    "nums=[0,1,0,3,12]\n",
    "print(compose(nums))\n"
   ]
  },
  {
   "cell_type": "code",
   "execution_count": 3,
   "metadata": {},
   "outputs": [
    {
     "name": "stdout",
     "output_type": "stream",
     "text": [
      "3\n"
     ]
    }
   ],
   "source": [
    "def consecutive(nums):\n",
    "    # d=[]\n",
    "    # c=0\n",
    "    # for i in range(len(nums)):\n",
    "    #     if nums[i] == 1:\n",
    "    #         c+=1\n",
    "    #     else:\n",
    "    #         d.append(c)\n",
    "    #         c=0\n",
    "    # else:\n",
    "    #     d.append(c)\n",
    "    # return max(d)      \n",
    "    return len(max(''.join(list(map(str,nums))).split(('0'))))                          \n",
    "nums = [1,0,1,1,0,1,1,1]\n",
    "print(consecutive(nums))"
   ]
  },
  {
   "cell_type": "code",
   "execution_count": 85,
   "metadata": {},
   "outputs": [
    {
     "name": "stdout",
     "output_type": "stream",
     "text": [
      "ugly no\n"
     ]
    }
   ],
   "source": [
    "def uglyno(n):\n",
    "    if n == 0 or n == 1:\n",
    "        print('not a ugly no.')\n",
    "    else:\n",
    "        for fac in [2,3,5]:\n",
    "            while n % fac == 0:\n",
    "                n//=fac\n",
    "        if n == 1:\n",
    "            return('ugly no')\n",
    "        else:\n",
    "            return('not a ugly no.')\n",
    "n=8\n",
    "print(uglyno(n))"
   ]
  },
  {
   "cell_type": "code",
   "execution_count": 10,
   "metadata": {},
   "outputs": [
    {
     "name": "stdout",
     "output_type": "stream",
     "text": [
      "True\n"
     ]
    }
   ],
   "source": [
    "def perfectNo(num):\n",
    "    dummy=0\n",
    "    for i in range(1,num//2+1):\n",
    "        if num % i  == 0:\n",
    "            dummy+=i\n",
    "    return dummy == num\n",
    "\n",
    "\n",
    "num=1\n",
    "print(perfectNo(num))"
   ]
  },
  {
   "cell_type": "code",
   "execution_count": 36,
   "metadata": {},
   "outputs": [
    {
     "name": "stdout",
     "output_type": "stream",
     "text": [
      "2\n"
     ]
    }
   ],
   "source": [
    "def fibonacci(n):\n",
    "    a,b = 0,1\n",
    "    i=0\n",
    "    if n==1:\n",
    "        return a\n",
    "    elif n==2:\n",
    "        return b    \n",
    "    while i<n-2:\n",
    "        t=a+b\n",
    "        a=b\n",
    "        b=t\n",
    "        i+=1\n",
    "    return(t)\n",
    "n=4\n",
    "print(fibonacci(n))"
   ]
  },
  {
   "cell_type": "code",
   "execution_count": 40,
   "metadata": {},
   "outputs": [
    {
     "name": "stdout",
     "output_type": "stream",
     "text": [
      "1\n"
     ]
    }
   ],
   "source": [
    "def fibo(n):\n",
    "    if n==0 or n==1:\n",
    "        return n\n",
    "    return fibo(n-1) +fibo(n-2)\n",
    "n=2\n",
    "print(fibo(n))"
   ]
  },
  {
   "cell_type": "code",
   "execution_count": 73,
   "metadata": {},
   "outputs": [
    {
     "name": "stdout",
     "output_type": "stream",
     "text": [
      "badcfeg\n"
     ]
    }
   ],
   "source": [
    "def rev_str(s,k):\n",
    "    res =''\n",
    "    count=0\n",
    "    for i in range(0,len(s),k):\n",
    "        if count % 2 == 0:\n",
    "            res += (s[i:i+k][::-1])\n",
    "        else:\n",
    "            res += s[i:i+k] \n",
    "        \n",
    "    return res\n",
    "s,k = 'abcdefg', 2\n",
    "print(rev_str(s,k))"
   ]
  },
  {
   "cell_type": "code",
   "execution_count": 19,
   "metadata": {},
   "outputs": [
    {
     "ename": "NameError",
     "evalue": "name 'num' is not defined",
     "output_type": "error",
     "traceback": [
      "\u001b[1;31m---------------------------------------------------------------------------\u001b[0m",
      "\u001b[1;31mNameError\u001b[0m                                 Traceback (most recent call last)",
      "Cell \u001b[1;32mIn[19], line 15\u001b[0m\n\u001b[0;32m     12\u001b[0m     \u001b[38;5;28;01mreturn\u001b[39;00m ans\n\u001b[0;32m     14\u001b[0m left, right \u001b[38;5;241m=\u001b[39m \u001b[38;5;241m1\u001b[39m,\u001b[38;5;241m22\u001b[39m\n\u001b[1;32m---> 15\u001b[0m \u001b[38;5;28mprint\u001b[39m(\u001b[43mself_dividing_no\u001b[49m\u001b[43m(\u001b[49m\u001b[43mleft\u001b[49m\u001b[43m,\u001b[49m\u001b[43m \u001b[49m\u001b[43mright\u001b[49m\u001b[43m)\u001b[49m)\n",
      "Cell \u001b[1;32mIn[19], line 6\u001b[0m, in \u001b[0;36mself_dividing_no\u001b[1;34m(left, right, ans)\u001b[0m\n\u001b[0;32m      4\u001b[0m copy \u001b[38;5;241m=\u001b[39m i\n\u001b[0;32m      5\u001b[0m \u001b[38;5;28;01mwhile\u001b[39;00m i \u001b[38;5;241m!=\u001b[39m \u001b[38;5;241m0\u001b[39m:\n\u001b[1;32m----> 6\u001b[0m     rem \u001b[38;5;241m=\u001b[39m \u001b[43mnum\u001b[49m \u001b[38;5;241m%\u001b[39m \u001b[38;5;241m10\u001b[39m\n\u001b[0;32m      7\u001b[0m     \u001b[38;5;28;01mif\u001b[39;00m rem \u001b[38;5;241m==\u001b[39m \u001b[38;5;241m0\u001b[39m \u001b[38;5;129;01mor\u001b[39;00m copy \u001b[38;5;241m%\u001b[39m rem \u001b[38;5;241m!=\u001b[39m \u001b[38;5;241m0\u001b[39m :\n\u001b[0;32m      8\u001b[0m         \u001b[38;5;28;01mbreak\u001b[39;00m\n",
      "\u001b[1;31mNameError\u001b[0m: name 'num' is not defined"
     ]
    }
   ],
   "source": [
    "def self_dividing_no(left, right, ans=[]):\n",
    "    for i in range(left, right+1):\n",
    "        if '0' not in str(i):\n",
    "            copy = i\n",
    "            while i != 0:\n",
    "                rem = num % 10\n",
    "                if rem == 0 or copy % rem != 0 :\n",
    "                    break\n",
    "                i //= 10\n",
    "            else:\n",
    "                ans.append(copy)\n",
    "    return ans\n",
    "            \n",
    "left, right = 1,22\n",
    "print(self_dividing_no(left, right))\n"
   ]
  },
  {
   "cell_type": "code",
   "execution_count": 10,
   "metadata": {},
   "outputs": [
    {
     "name": "stdout",
     "output_type": "stream",
     "text": [
      "[1, 4, 7]\n",
      "[2, 5, 8]\n",
      "[3, 6, 9]\n"
     ]
    }
   ],
   "source": [
    "l = [[1, 2, 3], [4, 5, 6], [7, 8, 9]]\n",
    "row = len(l)\n",
    "\n",
    "tl = [[0]*row for i in l]\n",
    "for i in range(row):\n",
    "    for j in range(row):\n",
    "        tl[j][i] = l[i][j] \n",
    "\n",
    "for li in tl:\n",
    "    print(li)\n"
   ]
  },
  {
   "cell_type": "code",
   "execution_count": 17,
   "metadata": {},
   "outputs": [
    {
     "name": "stdout",
     "output_type": "stream",
     "text": [
      "[[1 4]\n",
      " [2 5]\n",
      " [3 6]]\n"
     ]
    }
   ],
   "source": [
    "import numpy as np\n",
    "def transposed(l):\n",
    "    ans = np.array(l)\n",
    "    return(ans.transpose())\n",
    "l=[[1, 2, 3], [4, 5, 6]]\n",
    "print(transposed(l))"
   ]
  },
  {
   "cell_type": "code",
   "execution_count": 2,
   "metadata": {},
   "outputs": [
    {
     "name": "stdout",
     "output_type": "stream",
     "text": [
      "H\n",
      "W\n",
      "a\n",
      "E\n",
      "Y\n"
     ]
    }
   ],
   "source": [
    "s='HoW arE You'\n",
    "c=0\n",
    "for i in range(0,len(s)-1,2):\n",
    "    print(s[i])"
   ]
  }
 ],
 "metadata": {
  "kernelspec": {
   "display_name": "Python 3",
   "language": "python",
   "name": "python3"
  },
  "language_info": {
   "codemirror_mode": {
    "name": "ipython",
    "version": 3
   },
   "file_extension": ".py",
   "mimetype": "text/x-python",
   "name": "python",
   "nbconvert_exporter": "python",
   "pygments_lexer": "ipython3",
   "version": "3.12.1"
  }
 },
 "nbformat": 4,
 "nbformat_minor": 2
}
