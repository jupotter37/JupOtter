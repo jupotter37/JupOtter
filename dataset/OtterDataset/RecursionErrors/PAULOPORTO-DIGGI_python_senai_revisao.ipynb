{
 "cells": [
  {
   "cell_type": "markdown",
   "metadata": {},
   "source": [
    "# Relembrando variáveis\n",
    "\n",
    "tipos:\n",
    "\n",
    "- int()\n",
    "- str()\n",
    "- float()\n",
    "- bool()\n",
    "- list()\n",
    "- tuple()\n",
    "- dict()\n"
   ]
  },
  {
   "cell_type": "code",
   "execution_count": 55,
   "metadata": {},
   "outputs": [],
   "source": [
    "numero = 1\n",
    "nome = 'Paulo'\n",
    "numero_decimal = 10.9\n",
    "sera = True\n",
    "frutas = ['pera', 'morango', 'uva'] # Lista de strings por conta do colchete\n",
    "carros = ('gol', 'uno', 'fusca') # Não consegue alterar\n",
    "pessoar = {'nome': 'Luciano', 'idade':30, 'altura':1.98} # Dicionário, chave dentro de um dicionário que utiliza para salvar os valores Keys e value\n",
    "\n"
   ]
  },
  {
   "cell_type": "markdown",
   "metadata": {},
   "source": [
    "## Condicionais\n",
    "\n",
    "- if\n",
    "- match case"
   ]
  },
  {
   "cell_type": "code",
   "execution_count": null,
   "metadata": {},
   "outputs": [],
   "source": []
  },
  {
   "cell_type": "code",
   "execution_count": 56,
   "metadata": {},
   "outputs": [
    {
     "name": "stdout",
     "output_type": "stream",
     "text": [
      "O nome está correto\n"
     ]
    }
   ],
   "source": [
    "if nome == 'Paulo':\n",
    "    print('O nome está correto')\n",
    "else:\n",
    "    print('O nome na variável não é Luciano')\n"
   ]
  },
  {
   "cell_type": "code",
   "execution_count": 57,
   "metadata": {},
   "outputs": [
    {
     "name": "stdout",
     "output_type": "stream",
     "text": [
      "opção 1\n"
     ]
    }
   ],
   "source": [
    "match numero:\n",
    "    case 1 :\n",
    "        print('opção 1')\n",
    "    case 1 :\n",
    "        print('opção 2')\n",
    "    case 1 :\n",
    "        print('opção 3')\n",
    "    case 1 :\n",
    "        print('opção 4')\n",
    "    case 1 :\n",
    "        print('opção 5')"
   ]
  },
  {
   "cell_type": "markdown",
   "metadata": {},
   "source": [
    "# Laços de repetição\n",
    "\n",
    "- for\n",
    "- while"
   ]
  },
  {
   "cell_type": "code",
   "execution_count": 58,
   "metadata": {},
   "outputs": [
    {
     "name": "stdout",
     "output_type": "stream",
     "text": [
      "O numero é: 0\n",
      "O numero é: 1\n",
      "O numero é: 2\n",
      "O numero é: 3\n",
      "O numero é: 4\n"
     ]
    }
   ],
   "source": [
    "for numero in range(5):\n",
    "    print(f'O numero é: {numero}')"
   ]
  },
  {
   "cell_type": "code",
   "execution_count": 59,
   "metadata": {},
   "outputs": [
    {
     "name": "stdout",
     "output_type": "stream",
     "text": [
      "O contador é: 0\n",
      "O contador é: 1\n",
      "O contador é: 2\n",
      "O contador é: 3\n",
      "O contador é: 4\n",
      "O contador é: 5\n"
     ]
    }
   ],
   "source": [
    "contador = 0\n",
    "while contador <=5:\n",
    "    print(f'O contador é: {contador}')\n",
    "    contador += 1"
   ]
  },
  {
   "cell_type": "markdown",
   "metadata": {},
   "source": [
    "## Metódos de string 'Ação própria de cada objeto, serve para intervir\n",
    "\n",
    "- upper\n",
    "- lower\n",
    "- capitalize\n",
    "- split\n",
    "- strip\n",
    "- slice\n",
    "- replace\n"
   ]
  },
  {
   "cell_type": "code",
   "execution_count": 60,
   "metadata": {},
   "outputs": [
    {
     "name": "stdout",
     "output_type": "stream",
     "text": [
      "luciano lopes ferreira\n",
      "Luciano lopes ferreira\n",
      "LUCIANO LOPES FERREIRA\n",
      "Luciano lopes Ferreira\n",
      "Luciano nunes Ferreira\n",
      "['Luciano', 'lopes', 'Ferreira']\n",
      "Luciano-Jose\n",
      "lopes\n"
     ]
    }
   ],
   "source": [
    "aluno = 'Luciano lopes Ferreira'\n",
    "alunos = 'Luciano', 'Jose'\n",
    "print(aluno.lower()) # deixa minusculo\n",
    "print(aluno.capitalize()) # deixa primeira letra maiuscula\n",
    "print(aluno.upper()) # deixa maiuscula\n",
    "print(aluno.strip()) # remove espaços\n",
    "print(aluno.replace('lopes', 'nunes')) # substitui uma sequencia de caracters por conta\n",
    "print(aluno.split()) # cria uma lista com as palavras encontradas da string\n",
    "print('-'.join(alunos)) # transforma uma lista em uma string com o caracter desejado de separador\n",
    "print(aluno[8:13]) # corata a string no intervalo de caracteres fornecidos\n"
   ]
  },
  {
   "cell_type": "markdown",
   "metadata": {},
   "source": [
    "# Metodos de lista\n",
    "\n",
    "- append\n",
    "- extend\n",
    "- insert\n",
    "- remove\n",
    "- pop\n",
    "- index\n",
    "- del\n",
    "- sort\n",
    "- reverse"
   ]
  },
  {
   "cell_type": "code",
   "execution_count": 61,
   "metadata": {},
   "outputs": [],
   "source": [
    "produtos = ['notebook', 'smartphone', 'smart tv'] \n",
    "\n",
    "produtos.append('fliperama') # adiciona um elemento ao final da lista\n",
    "produtos.extend(['sofa', 'mesa', 'puff']) #incrementa a lista com outra lista\n",
    "produtos.insert(3,'playstation 5') #aciona um novo elemento em uma posição especifica\n",
    "produtos.pop() # remove o último elemento da lista\n",
    "produtos.pop(1) # remove um elemento especifico da lista\n",
    "produtos.remove('smart tv') # remove a primeira ocorrencia encontrada da lista\n",
    "produtos.index('notebook') # retorna o indice da primeira ocorrencia encontrada\n",
    "produtos.sort() # organiza em ordem crescente a lista\n",
    "produtos.reverse() # inverte a lista de tras pra frente\n",
    "\n"
   ]
  },
  {
   "cell_type": "markdown",
   "metadata": {},
   "source": [
    "## Funções\n",
    "\n",
    "São objetos capazes de armazenar um bloco de codigo e depois podem ser aproveitados em outro momento do codigo, somente chamando pelo seu nome.\n",
    "\n",
    "Tipos:\n",
    "\n",
    "- função sem retorno\n",
    "- função com retorno\n",
    "- função com parâmetros\n",
    "- função sem parâmetros\n",
    "- função lambda\n",
    "- função com multiplos parâmetros\n",
    "    - parâmetros posicionais\n",
    "    - parâmetros nomeados"
   ]
  },
  {
   "cell_type": "code",
   "execution_count": 62,
   "metadata": {},
   "outputs": [],
   "source": [
    "# Primeiro eu crio a função e depois eu uso a função\n",
    "def saudacao():\n",
    "    print('Hello World')\n"
   ]
  },
  {
   "cell_type": "code",
   "execution_count": 63,
   "metadata": {},
   "outputs": [
    {
     "name": "stdout",
     "output_type": "stream",
     "text": [
      "Hello World\n"
     ]
    }
   ],
   "source": [
    "saudacao()"
   ]
  },
  {
   "cell_type": "code",
   "execution_count": 66,
   "metadata": {},
   "outputs": [],
   "source": [
    "## Função com retorno\n",
    "\n",
    "def somar():\n",
    "    soma = 10 + 25\n",
    "    return soma\n",
    "\n"
   ]
  },
  {
   "cell_type": "code",
   "execution_count": 68,
   "metadata": {},
   "outputs": [
    {
     "name": "stdout",
     "output_type": "stream",
     "text": [
      "35\n"
     ]
    }
   ],
   "source": [
    "print(somar())\n"
   ]
  },
  {
   "cell_type": "code",
   "execution_count": 71,
   "metadata": {},
   "outputs": [],
   "source": [
    "# Função com parâmetros # Função sem parâmetros paranteses vazios ()\n",
    "\n",
    "def somar2(numero1, numero2):\n",
    "        soma = numero1 + numero2\n",
    "        return soma"
   ]
  },
  {
   "cell_type": "code",
   "execution_count": 73,
   "metadata": {},
   "outputs": [
    {
     "data": {
      "text/plain": [
       "13"
      ]
     },
     "execution_count": 73,
     "metadata": {},
     "output_type": "execute_result"
    }
   ],
   "source": [
    "somar2(5,8)\n"
   ]
  },
  {
   "cell_type": "code",
   "execution_count": 74,
   "metadata": {},
   "outputs": [],
   "source": [
    "# Função lambda\n",
    "\n",
    "soma_lambda = lambda numero1, numero2 : numero1 + numero2"
   ]
  },
  {
   "cell_type": "code",
   "execution_count": 75,
   "metadata": {},
   "outputs": [
    {
     "data": {
      "text/plain": [
       "178"
      ]
     },
     "execution_count": 75,
     "metadata": {},
     "output_type": "execute_result"
    }
   ],
   "source": [
    "soma_lambda(78,100)\n"
   ]
  },
  {
   "cell_type": "code",
   "execution_count": 79,
   "metadata": {},
   "outputs": [],
   "source": [
    "# Função com multiparâmetros (argumentos) posicionais colocar o *\n",
    "\n",
    "def somar3 (*numero):\n",
    "    resultado = sum(numero)\n",
    "    return resultado\n",
    "\n"
   ]
  },
  {
   "cell_type": "code",
   "execution_count": 82,
   "metadata": {},
   "outputs": [],
   "source": [
    "numeros_tupla = (1,12,25, 26, 10)\n",
    "\n"
   ]
  },
  {
   "cell_type": "code",
   "execution_count": 83,
   "metadata": {},
   "outputs": [],
   "source": [
    "# Função multiplos parametros nomeados\n",
    "\n",
    "def gerar_produto (**parametros):\n",
    "    produto = parametros\n",
    "    return produto\n"
   ]
  },
  {
   "cell_type": "code",
   "execution_count": 84,
   "metadata": {},
   "outputs": [
    {
     "data": {
      "text/plain": [
       "{'nome': 'notebook', 'preco': 3000.0, 'fabricante': 'samsumg'}"
      ]
     },
     "execution_count": 84,
     "metadata": {},
     "output_type": "execute_result"
    }
   ],
   "source": [
    "gerar_produto(nome = 'notebook', preco= 3000.00, fabricante='samsumg')"
   ]
  },
  {
   "cell_type": "code",
   "execution_count": 90,
   "metadata": {},
   "outputs": [],
   "source": [
    "# Função recursiva - Seria uma função que chamaria ela dentro dela - ou seja chamar ela mesma \n",
    "\n",
    "\n",
    "# Função convencional\n",
    "def calcula_fatorial(numero):\n",
    "    if numero == 0 or numero == 1:\n",
    "        return 1\n",
    "    else:\n",
    "        return numero * calcula_fatorial2(numero-1)"
   ]
  },
  {
   "cell_type": "code",
   "execution_count": 92,
   "metadata": {},
   "outputs": [
    {
     "ename": "RecursionError",
     "evalue": "maximum recursion depth exceeded",
     "output_type": "error",
     "traceback": [
      "\u001b[1;31m---------------------------------------------------------------------------\u001b[0m",
      "\u001b[1;31mRecursionError\u001b[0m                            Traceback (most recent call last)",
      "Cell \u001b[1;32mIn[92], line 1\u001b[0m\n\u001b[1;32m----> 1\u001b[0m \u001b[38;5;28mprint\u001b[39m(\u001b[43mcalcula_fatorial\u001b[49m\u001b[43m(\u001b[49m\u001b[38;5;241;43m5\u001b[39;49m\u001b[43m)\u001b[49m)\n",
      "Cell \u001b[1;32mIn[90], line 9\u001b[0m, in \u001b[0;36mcalcula_fatorial\u001b[1;34m(numero)\u001b[0m\n\u001b[0;32m      7\u001b[0m     \u001b[38;5;28;01mreturn\u001b[39;00m \u001b[38;5;241m1\u001b[39m\n\u001b[0;32m      8\u001b[0m \u001b[38;5;28;01melse\u001b[39;00m:\n\u001b[1;32m----> 9\u001b[0m     \u001b[38;5;28;01mreturn\u001b[39;00m numero \u001b[38;5;241m*\u001b[39m \u001b[43mcalcula_fatorial2\u001b[49m\u001b[43m(\u001b[49m\u001b[43mnumero\u001b[49m\u001b[38;5;241;43m-\u001b[39;49m\u001b[38;5;241;43m1\u001b[39;49m\u001b[43m)\u001b[49m\n",
      "Cell \u001b[1;32mIn[89], line 2\u001b[0m, in \u001b[0;36mcalcula_fatorial2\u001b[1;34m(numero)\u001b[0m\n\u001b[0;32m      1\u001b[0m \u001b[38;5;28;01mdef\u001b[39;00m \u001b[38;5;21mcalcula_fatorial2\u001b[39m(numero):\n\u001b[1;32m----> 2\u001b[0m     \u001b[38;5;28;01mreturn\u001b[39;00m numero \u001b[38;5;241m*\u001b[39m \u001b[43mcalcula_fatorial2\u001b[49m\u001b[43m(\u001b[49m\u001b[43mnumero\u001b[49m\u001b[43m)\u001b[49m\n",
      "Cell \u001b[1;32mIn[89], line 2\u001b[0m, in \u001b[0;36mcalcula_fatorial2\u001b[1;34m(numero)\u001b[0m\n\u001b[0;32m      1\u001b[0m \u001b[38;5;28;01mdef\u001b[39;00m \u001b[38;5;21mcalcula_fatorial2\u001b[39m(numero):\n\u001b[1;32m----> 2\u001b[0m     \u001b[38;5;28;01mreturn\u001b[39;00m numero \u001b[38;5;241m*\u001b[39m \u001b[43mcalcula_fatorial2\u001b[49m\u001b[43m(\u001b[49m\u001b[43mnumero\u001b[49m\u001b[43m)\u001b[49m\n",
      "    \u001b[1;31m[... skipping similar frames: calcula_fatorial2 at line 2 (2973 times)]\u001b[0m\n",
      "Cell \u001b[1;32mIn[89], line 2\u001b[0m, in \u001b[0;36mcalcula_fatorial2\u001b[1;34m(numero)\u001b[0m\n\u001b[0;32m      1\u001b[0m \u001b[38;5;28;01mdef\u001b[39;00m \u001b[38;5;21mcalcula_fatorial2\u001b[39m(numero):\n\u001b[1;32m----> 2\u001b[0m     \u001b[38;5;28;01mreturn\u001b[39;00m numero \u001b[38;5;241m*\u001b[39m \u001b[43mcalcula_fatorial2\u001b[49m\u001b[43m(\u001b[49m\u001b[43mnumero\u001b[49m\u001b[43m)\u001b[49m\n",
      "\u001b[1;31mRecursionError\u001b[0m: maximum recursion depth exceeded"
     ]
    }
   ],
   "source": [
    "print(calcula_fatorial(5))"
   ]
  },
  {
   "cell_type": "code",
   "execution_count": null,
   "metadata": {},
   "outputs": [],
   "source": [
    "def calcula_fatorial2(numero):\n",
    "    return numero * calcula_fatorial2(numero)"
   ]
  },
  {
   "cell_type": "code",
   "execution_count": null,
   "metadata": {},
   "outputs": [],
   "source": [
    "p"
   ]
  }
 ],
 "metadata": {
  "interpreter": {
   "hash": "023695796a0456db28915f727eb64cb942055160ea749933aa044f2070f70f3a"
  },
  "kernelspec": {
   "display_name": "Python 3.12.5 64-bit (windows store)",
   "language": "python",
   "name": "python3"
  },
  "language_info": {
   "codemirror_mode": {
    "name": "ipython",
    "version": 3
   },
   "file_extension": ".py",
   "mimetype": "text/x-python",
   "name": "python",
   "nbconvert_exporter": "python",
   "pygments_lexer": "ipython3",
   "version": "3.12.5"
  },
  "orig_nbformat": 4
 },
 "nbformat": 4,
 "nbformat_minor": 2
}
