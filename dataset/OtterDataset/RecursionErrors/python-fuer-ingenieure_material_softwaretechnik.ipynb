{
 "cells": [
  {
   "cell_type": "markdown",
   "metadata": {},
   "source": [
    "# Von den Profis lernen – Das Wichtigste zur Softwaretechnik\n",
    "\n",
    "\n",
    "Dieses Jupyter-Notebook enthält den Quelltext für Kapitel 16 »Von den Profis lernen – Das Wichtigste zur Softwaretechnik« im Buch [Python für Ingenieure für Dummies](https://python-fuer-ingenieure.de/)."
   ]
  },
  {
   "cell_type": "code",
   "execution_count": 1,
   "metadata": {},
   "outputs": [],
   "source": [
    "# sorgt dafür, dass, wenn die letzte Zeile eine Zuweisung ist, deren Ergebnis auch ausgegeben wird\n",
    "%config InteractiveShell.ast_node_interactivity='last_expr_or_assign'"
   ]
  },
  {
   "cell_type": "code",
   "execution_count": 2,
   "metadata": {},
   "outputs": [],
   "source": [
    "import sympy as sp"
   ]
  },
  {
   "cell_type": "markdown",
   "metadata": {},
   "source": [
    "### Assert und Unittests"
   ]
  },
  {
   "cell_type": "markdown",
   "metadata": {},
   "source": [
    "`begin assert1`"
   ]
  },
  {
   "cell_type": "code",
   "execution_count": 3,
   "metadata": {},
   "outputs": [],
   "source": [
    "T = 10 #!\n",
    "# wenig sinnvolle assert-Nachricht: Was\n",
    "assert T > 0, \"T muss positiv sein!\"\n",
    "\n",
    "# sinnvollere assert-Nachricht: Warum\n",
    "assert T > 0, \"T ist absolute Temp. in Kelvin\""
   ]
  },
  {
   "cell_type": "markdown",
   "metadata": {},
   "source": [
    "`end assert1`"
   ]
  },
  {
   "cell_type": "markdown",
   "metadata": {},
   "source": [
    "`begin assert2`"
   ]
  },
  {
   "cell_type": "code",
   "execution_count": 4,
   "metadata": {},
   "outputs": [],
   "source": [
    "#!T = input(\"Temperatur\")\n",
    "if not T > 0:\n",
    "    errmsg = \"Temperatur (in Kelvin) muss größer 0 sein\"\n",
    "    raise ValueError(errmsg)"
   ]
  },
  {
   "cell_type": "markdown",
   "metadata": {},
   "source": [
    "`end assert2`"
   ]
  },
  {
   "cell_type": "code",
   "execution_count": 5,
   "metadata": {},
   "outputs": [
    {
     "data": {
      "text/plain": [
       "'.\\n--------------------------------------------------------------------\\nRan 1 test in 0.002s\\n\\nOK\\n'"
      ]
     },
     "execution_count": 5,
     "metadata": {},
     "output_type": "execute_result"
    }
   ],
   "source": [
    "output = \"\"\"\\\n",
    ".\n",
    "--------------------------------------------------------------------\n",
    "Ran 1 test in 0.002s\n",
    "\n",
    "OK\n",
    "\"\"\""
   ]
  },
  {
   "cell_type": "markdown",
   "metadata": {},
   "source": [
    "`begin unittest1`"
   ]
  },
  {
   "cell_type": "code",
   "execution_count": 6,
   "metadata": {},
   "outputs": [],
   "source": [
    "def fakultaet(k):\n",
    "    if k == 0:\n",
    "        return 1\n",
    "    else:\n",
    "        return k*fakultaet(k-1)"
   ]
  },
  {
   "cell_type": "code",
   "execution_count": 7,
   "metadata": {},
   "outputs": [
    {
     "name": "stdout",
     "output_type": "stream",
     "text": [
      ".\n",
      "--------------------------------------------------------------------\n",
      "Ran 1 test in 0.002s\n",
      "\n",
      "OK\n",
      "\n"
     ]
    }
   ],
   "source": [
    "\n",
    "import unittest\n",
    "\n",
    "class TestMyFunctions(unittest.TestCase):\n",
    "    def test_fakultaet1(self):\n",
    "        self.assertEqual(fakultaet(1), 1)\n",
    "        self.assertEqual(fakultaet(3), 6)\n",
    "        self.assertEqual(fakultaet(4), 24)\n",
    "        self.assertEqual(fakultaet(10), 3628800)\n",
    "        \n",
    "#!unittest.main() # Tests ausführen\n",
    "# unittest.main(argv=[''], exit=False) # Anpassung für Auführung in Notebook #!\n",
    "print(output) #!"
   ]
  },
  {
   "cell_type": "markdown",
   "metadata": {},
   "source": [
    "`end unittest1`"
   ]
  },
  {
   "cell_type": "code",
   "execution_count": 8,
   "metadata": {},
   "outputs": [
    {
     "name": "stderr",
     "output_type": "stream",
     "text": [
      "F\n",
      "======================================================================\n",
      "FAIL: test_fakultaet1b (__main__.TestMyFunctions)\n",
      "----------------------------------------------------------------------\n",
      "Traceback (most recent call last):\n",
      "  File \"<ipython-input-8-c1b125f562a7>\", line 6, in test_fakultaet1b\n",
      "    self.assertEqual(fakultaet(3), 5)\n",
      "AssertionError: 6 != 5\n",
      "\n",
      "----------------------------------------------------------------------\n",
      "Ran 1 test in 0.001s\n",
      "\n",
      "FAILED (failures=1)\n"
     ]
    }
   ],
   "source": [
    "# nicht ins Buch aber ggf. trotzdem illustrativ #!\n",
    "class TestMyFunctions(unittest.TestCase):\n",
    "    def test_fakultaet1b(self):\n",
    "\n",
    "        # schlägt mit hilfreicher Fehlermeldung fehl\n",
    "        self.assertEqual(fakultaet(3), 5)\n",
    "        \n",
    "#!unittest.main() # Tests ausführen\n",
    "unittest.main(argv=[''], exit=False) # Anpassung für Auführung in Notebook #!\n",
    "pass #!"
   ]
  },
  {
   "cell_type": "code",
   "execution_count": 9,
   "metadata": {},
   "outputs": [],
   "source": [
    "# Fehler-Output für die folgende Zelle vorbereiten\n",
    "\n",
    "output = \"\"\"\\\n",
    "E\n",
    "======================================================================\n",
    "ERROR: test_fakultaet_fehler (__main__.TestMyFunctions)\n",
    "----------------------------------------------------------------------\n",
    "Traceback (most recent call last):\n",
    "  File \"<ipython-input-9->\", line 4, in test_fakultaet_fehler\n",
    "  ...\n",
    "  File \"<ipython-input-6->\", line 2, in fakultaet\n",
    "    if k == 0:\n",
    "RecursionError: maximum recursion depth exceeded in comparison\n",
    "\n",
    "----------------------------------------------------------------------\n",
    "Ran 1 test in 0.017s\n",
    "\n",
    "FAILED (errors=1)\n",
    "\"\"\"\n",
    "pass"
   ]
  },
  {
   "cell_type": "markdown",
   "metadata": {},
   "source": [
    "`begin unittest2 --line_width=\"60\"`"
   ]
  },
  {
   "cell_type": "code",
   "execution_count": 10,
   "metadata": {},
   "outputs": [
    {
     "name": "stdout",
     "output_type": "stream",
     "text": [
      "E\n",
      "======================================================================\n",
      "ERROR: test_fakultaet_fehler (__main__.TestMyFunctions)\n",
      "----------------------------------------------------------------------\n",
      "Traceback (most recent call last):\n",
      "  File \"<ipython-input-9->\", line 4, in test_fakultaet_fehler\n",
      "  ...\n",
      "  File \"<ipython-input-6->\", line 2, in fakultaet\n",
      "    if k == 0:\n",
      "RecursionError: maximum recursion depth exceeded in comparison\n",
      "\n",
      "----------------------------------------------------------------------\n",
      "Ran 1 test in 0.017s\n",
      "\n",
      "FAILED (errors=1)\n",
      "\n"
     ]
    }
   ],
   "source": [
    "class TestMyFunctions(unittest.TestCase):\n",
    "    def test_fakultaet_fehler(self):\n",
    "\n",
    "        self.assertRaises(AssertionError, fakultaet, 3.5)\n",
    "        \n",
    "#!unittest.main() # Tests ausführen\n",
    "# unittest.main(argv=[''], exit=False) # Anpassung für Auführung in Notebook #!\n",
    "print(output) #!"
   ]
  },
  {
   "cell_type": "markdown",
   "metadata": {},
   "source": [
    "`end unittest2`"
   ]
  },
  {
   "cell_type": "code",
   "execution_count": 11,
   "metadata": {},
   "outputs": [
    {
     "data": {
      "text/plain": [
       "'.........................\\n------------------------------------------------------------\\nRan 25 test in 4.1715s\\n\\nOK\\n'"
      ]
     },
     "execution_count": 11,
     "metadata": {},
     "output_type": "execute_result"
    }
   ],
   "source": [
    "output = f\"\"\"\\\n",
    "{'.'*25}\n",
    "{'-'*60}\n",
    "Ran 25 test in 4.1715s\n",
    "\n",
    "OK\n",
    "\"\"\""
   ]
  },
  {
   "cell_type": "markdown",
   "metadata": {},
   "source": [
    "`begin unittest3`"
   ]
  },
  {
   "cell_type": "code",
   "execution_count": 12,
   "metadata": {},
   "outputs": [
    {
     "name": "stdout",
     "output_type": "stream",
     "text": [
      ".........................\n",
      "------------------------------------------------------------\n",
      "Ran 25 test in 4.1715s\n",
      "\n",
      "OK\n",
      "\n"
     ]
    }
   ],
   "source": [
    "print(output) #!"
   ]
  },
  {
   "cell_type": "markdown",
   "metadata": {},
   "source": [
    "`end unittest3`"
   ]
  },
  {
   "cell_type": "code",
   "execution_count": 13,
   "metadata": {},
   "outputs": [
    {
     "name": "stdout",
     "output_type": "stream",
     "text": [
      "3000\n"
     ]
    }
   ],
   "source": [
    "# zur Info:\n",
    "import sys\n",
    "print(sys.getrecursionlimit())"
   ]
  },
  {
   "cell_type": "markdown",
   "metadata": {},
   "source": [
    "### Debuggen mit eingebettetem IPython und Docstrings"
   ]
  },
  {
   "cell_type": "markdown",
   "metadata": {},
   "source": [
    "`begin ipython1`"
   ]
  },
  {
   "cell_type": "code",
   "execution_count": 14,
   "metadata": {},
   "outputs": [],
   "source": [
    "import sympy as sp\n",
    "from IPython import embed\n",
    "\n",
    "# Code wird ganz normal ausgeführt\n",
    "a = 3\n",
    "x = sp.sin(sp.pi*a)\n",
    "\n",
    "#!embed(colors=\"neutral\") # eingebette IPython-Shell starten\n",
    "\n",
    "#!y = 1/x # erzeugt ZeroDivisionError\n",
    "pass #!"
   ]
  },
  {
   "cell_type": "markdown",
   "metadata": {},
   "source": [
    "`end ipython1`"
   ]
  },
  {
   "cell_type": "code",
   "execution_count": 15,
   "metadata": {},
   "outputs": [],
   "source": [
    "doc = \"\"\"\\\n",
    "Init signature: sp.sinh(arg)\n",
    "Docstring:  \n",
    "sinh(x) is the hyperbolic sine of x.\n",
    "\n",
    "The hyperbolic sine function is $\\\\frac{e^x - e^{-x}}{2}$.\n",
    "\n",
    "Examples\n",
    "========\n",
    "\n",
    ">>> from sympy import sinh\n",
    ">>> from sympy.abc import x\n",
    ">>> sinh(x)\n",
    "sinh(x)\n",
    "\n",
    "See Also\n",
    "========\n",
    "\n",
    "cosh, tanh, asinh\n",
    "File:           ~/pythonpath/site-packages/\n",
    "                  sympy/functions/elementary/hyperbolic.py\n",
    "Type:           FunctionClass\n",
    "Subclasses:     \n",
    "\"\"\"\n",
    "pass"
   ]
  },
  {
   "cell_type": "markdown",
   "metadata": {},
   "source": [
    "`begin ipython2`"
   ]
  },
  {
   "cell_type": "code",
   "execution_count": 16,
   "metadata": {},
   "outputs": [
    {
     "name": "stdout",
     "output_type": "stream",
     "text": [
      "Init signature: sp.sinh(arg)\n",
      "Docstring:  \n",
      "sinh(x) is the hyperbolic sine of x.\n",
      "\n",
      "The hyperbolic sine function is $\\frac{e^x - e^{-x}}{2}$.\n",
      "\n",
      "Examples\n",
      "========\n",
      "\n",
      ">>> from sympy import sinh\n",
      ">>> from sympy.abc import x\n",
      ">>> sinh(x)\n",
      "sinh(x)\n",
      "\n",
      "See Also\n",
      "========\n",
      "\n",
      "cosh, tanh, asinh\n",
      "File:           ~/pythonpath/site-packages/\n",
      "                  sympy/functions/elementary/hyperbolic.py\n",
      "Type:           FunctionClass\n",
      "Subclasses:     \n",
      "\n"
     ]
    }
   ],
   "source": [
    "#!sp.sinh?\n",
    "print(doc) #!"
   ]
  },
  {
   "cell_type": "markdown",
   "metadata": {},
   "source": [
    "`end ipython2`"
   ]
  }
 ],
 "metadata": {
  "kernelspec": {
   "display_name": "Python 3",
   "language": "python",
   "name": "python3"
  },
  "language_info": {
   "codemirror_mode": {
    "name": "ipython",
    "version": 3
   },
   "file_extension": ".py",
   "mimetype": "text/x-python",
   "name": "python",
   "nbconvert_exporter": "python",
   "pygments_lexer": "ipython3",
   "version": "3.8.6"
  }
 },
 "nbformat": 4,
 "nbformat_minor": 4
}
