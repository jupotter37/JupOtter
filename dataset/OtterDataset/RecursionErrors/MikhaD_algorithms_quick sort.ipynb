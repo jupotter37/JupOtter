{
 "cells": [
  {
   "attachments": {},
   "cell_type": "markdown",
   "metadata": {},
   "source": [
    "Not great to do this recursively. It also throws an error. I don't have energy to fit it."
   ]
  },
  {
   "cell_type": "code",
   "execution_count": 1,
   "metadata": {},
   "outputs": [],
   "source": [
    "def quick_sort(arr: list[int]) -> list[int]:\n",
    "\tif len(arr) <= 1:\n",
    "\t\treturn arr\n",
    "\tpivot = arr[0]\n",
    "\tleft = []\n",
    "\tright = []\n",
    "\tfor i in arr:\n",
    "\t\tif i <= pivot:\n",
    "\t\t\tleft.append(i)\n",
    "\t\telse:\n",
    "\t\t\tright.append(i)\n",
    "\treturn quick_sort(left) + quick_sort(right)"
   ]
  },
  {
   "cell_type": "code",
   "execution_count": 2,
   "metadata": {},
   "outputs": [
    {
     "name": "stdout",
     "output_type": "stream",
     "text": [
      "[95, 2, 59, 5, 4, 92, 9, 48, 11, 74, 97, 62, 88, 89, 5, 95]\n"
     ]
    },
    {
     "ename": "RecursionError",
     "evalue": "maximum recursion depth exceeded",
     "output_type": "error",
     "traceback": [
      "\u001b[1;31m---------------------------------------------------------------------------\u001b[0m",
      "\u001b[1;31mRecursionError\u001b[0m                            Traceback (most recent call last)",
      "\u001b[1;32mc:\\Users\\Mikha\\Insync\\mikhadavids@gmail.com\\Google Drive\\Coding\\.Projects\\algorithms\\python\\divide and conquer\\quick sort.ipynb Cell 2\u001b[0m in \u001b[0;36m4\n\u001b[0;32m      <a href='vscode-notebook-cell:/c%3A/Users/Mikha/Insync/mikhadavids%40gmail.com/Google%20Drive/Coding/.Projects/algorithms/python/divide%20and%20conquer/quick%20sort.ipynb#W1sZmlsZQ%3D%3D?line=1'>2</a>\u001b[0m arr \u001b[39m=\u001b[39m [randint(\u001b[39m0\u001b[39m, \u001b[39m99\u001b[39m) \u001b[39mfor\u001b[39;00m _ \u001b[39min\u001b[39;00m \u001b[39mrange\u001b[39m(\u001b[39m16\u001b[39m)]\n\u001b[0;32m      <a href='vscode-notebook-cell:/c%3A/Users/Mikha/Insync/mikhadavids%40gmail.com/Google%20Drive/Coding/.Projects/algorithms/python/divide%20and%20conquer/quick%20sort.ipynb#W1sZmlsZQ%3D%3D?line=2'>3</a>\u001b[0m \u001b[39mprint\u001b[39m(arr)\n\u001b[1;32m----> <a href='vscode-notebook-cell:/c%3A/Users/Mikha/Insync/mikhadavids%40gmail.com/Google%20Drive/Coding/.Projects/algorithms/python/divide%20and%20conquer/quick%20sort.ipynb#W1sZmlsZQ%3D%3D?line=3'>4</a>\u001b[0m \u001b[39mprint\u001b[39m(quick_sort(arr))\n",
      "\u001b[1;32mc:\\Users\\Mikha\\Insync\\mikhadavids@gmail.com\\Google Drive\\Coding\\.Projects\\algorithms\\python\\divide and conquer\\quick sort.ipynb Cell 2\u001b[0m in \u001b[0;36m1\n\u001b[0;32m     <a href='vscode-notebook-cell:/c%3A/Users/Mikha/Insync/mikhadavids%40gmail.com/Google%20Drive/Coding/.Projects/algorithms/python/divide%20and%20conquer/quick%20sort.ipynb#W1sZmlsZQ%3D%3D?line=9'>10</a>\u001b[0m \t\u001b[39melse\u001b[39;00m:\n\u001b[0;32m     <a href='vscode-notebook-cell:/c%3A/Users/Mikha/Insync/mikhadavids%40gmail.com/Google%20Drive/Coding/.Projects/algorithms/python/divide%20and%20conquer/quick%20sort.ipynb#W1sZmlsZQ%3D%3D?line=10'>11</a>\u001b[0m \t\tright\u001b[39m.\u001b[39mappend(i)\n\u001b[1;32m---> <a href='vscode-notebook-cell:/c%3A/Users/Mikha/Insync/mikhadavids%40gmail.com/Google%20Drive/Coding/.Projects/algorithms/python/divide%20and%20conquer/quick%20sort.ipynb#W1sZmlsZQ%3D%3D?line=11'>12</a>\u001b[0m \u001b[39mreturn\u001b[39;00m quick_sort(left) \u001b[39m+\u001b[39m quick_sort(right)\n",
      "\u001b[1;32mc:\\Users\\Mikha\\Insync\\mikhadavids@gmail.com\\Google Drive\\Coding\\.Projects\\algorithms\\python\\divide and conquer\\quick sort.ipynb Cell 2\u001b[0m in \u001b[0;36m1\n\u001b[0;32m     <a href='vscode-notebook-cell:/c%3A/Users/Mikha/Insync/mikhadavids%40gmail.com/Google%20Drive/Coding/.Projects/algorithms/python/divide%20and%20conquer/quick%20sort.ipynb#W1sZmlsZQ%3D%3D?line=9'>10</a>\u001b[0m \t\u001b[39melse\u001b[39;00m:\n\u001b[0;32m     <a href='vscode-notebook-cell:/c%3A/Users/Mikha/Insync/mikhadavids%40gmail.com/Google%20Drive/Coding/.Projects/algorithms/python/divide%20and%20conquer/quick%20sort.ipynb#W1sZmlsZQ%3D%3D?line=10'>11</a>\u001b[0m \t\tright\u001b[39m.\u001b[39mappend(i)\n\u001b[1;32m---> <a href='vscode-notebook-cell:/c%3A/Users/Mikha/Insync/mikhadavids%40gmail.com/Google%20Drive/Coding/.Projects/algorithms/python/divide%20and%20conquer/quick%20sort.ipynb#W1sZmlsZQ%3D%3D?line=11'>12</a>\u001b[0m \u001b[39mreturn\u001b[39;00m quick_sort(left) \u001b[39m+\u001b[39m quick_sort(right)\n",
      "    \u001b[1;31m[... skipping similar frames: quick_sort at line 12 (2971 times)]\u001b[0m\n",
      "\u001b[1;32mc:\\Users\\Mikha\\Insync\\mikhadavids@gmail.com\\Google Drive\\Coding\\.Projects\\algorithms\\python\\divide and conquer\\quick sort.ipynb Cell 2\u001b[0m in \u001b[0;36m1\n\u001b[0;32m     <a href='vscode-notebook-cell:/c%3A/Users/Mikha/Insync/mikhadavids%40gmail.com/Google%20Drive/Coding/.Projects/algorithms/python/divide%20and%20conquer/quick%20sort.ipynb#W1sZmlsZQ%3D%3D?line=9'>10</a>\u001b[0m \t\u001b[39melse\u001b[39;00m:\n\u001b[0;32m     <a href='vscode-notebook-cell:/c%3A/Users/Mikha/Insync/mikhadavids%40gmail.com/Google%20Drive/Coding/.Projects/algorithms/python/divide%20and%20conquer/quick%20sort.ipynb#W1sZmlsZQ%3D%3D?line=10'>11</a>\u001b[0m \t\tright\u001b[39m.\u001b[39mappend(i)\n\u001b[1;32m---> <a href='vscode-notebook-cell:/c%3A/Users/Mikha/Insync/mikhadavids%40gmail.com/Google%20Drive/Coding/.Projects/algorithms/python/divide%20and%20conquer/quick%20sort.ipynb#W1sZmlsZQ%3D%3D?line=11'>12</a>\u001b[0m \u001b[39mreturn\u001b[39;00m quick_sort(left) \u001b[39m+\u001b[39m quick_sort(right)\n",
      "\u001b[1;31mRecursionError\u001b[0m: maximum recursion depth exceeded"
     ]
    }
   ],
   "source": [
    "from random import randint\n",
    "arr = [randint(0, 99) for _ in range(16)]\n",
    "print(arr)\n",
    "print(quick_sort(arr))"
   ]
  }
 ],
 "metadata": {
  "kernelspec": {
   "display_name": "Python 3.10.4 64-bit",
   "language": "python",
   "name": "python3"
  },
  "language_info": {
   "codemirror_mode": {
    "name": "ipython",
    "version": 3
   },
   "file_extension": ".py",
   "mimetype": "text/x-python",
   "name": "python",
   "nbconvert_exporter": "python",
   "pygments_lexer": "ipython3",
   "version": "3.11.0"
  },
  "orig_nbformat": 4,
  "vscode": {
   "interpreter": {
    "hash": "a468216b390d8086c6e68ce635f893df89c6726f4c4bec2701d169cb44bcbe63"
   }
  }
 },
 "nbformat": 4,
 "nbformat_minor": 2
}
