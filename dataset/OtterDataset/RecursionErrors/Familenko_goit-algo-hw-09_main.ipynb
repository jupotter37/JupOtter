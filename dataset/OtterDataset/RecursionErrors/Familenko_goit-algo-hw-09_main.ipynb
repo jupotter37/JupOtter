{
 "cells": [
  {
   "cell_type": "code",
   "execution_count": 1,
   "metadata": {},
   "outputs": [],
   "source": [
    "def find_coins_greedy(amount):\n",
    "    result = {}\n",
    "    coins = [50, 25, 10, 5, 2, 1]\n",
    "\n",
    "    for coin in coins:\n",
    "        rest = amount // coin\n",
    "        if rest > 0:\n",
    "            result[coin] = rest\n",
    "            amount = amount % coin\n",
    "\n",
    "    return result"
   ]
  },
  {
   "cell_type": "code",
   "execution_count": 2,
   "metadata": {},
   "outputs": [
    {
     "data": {
      "text/plain": [
       "{50: 2, 10: 1, 2: 1, 1: 1}"
      ]
     },
     "execution_count": 2,
     "metadata": {},
     "output_type": "execute_result"
    }
   ],
   "source": [
    "find_coins_greedy(113)"
   ]
  },
  {
   "cell_type": "code",
   "execution_count": 3,
   "metadata": {},
   "outputs": [],
   "source": [
    "def find_min_coins(amount):\n",
    "    memo = {0: {}} \n",
    "    coins = [50, 25, 10, 5, 2, 1]\n",
    "\n",
    "    for cash in range(1, amount + 1):\n",
    "        min_combination = None\n",
    "\n",
    "        for coin in coins:\n",
    "            remain = cash - coin\n",
    "            if cash >= coin and remain in memo:\n",
    "                previous_combination = memo[remain].copy()\n",
    "                previous_combination[coin] = previous_combination.get(coin, 0) + 1\n",
    "\n",
    "                if min_combination is None or \\\n",
    "                    sum(previous_combination.values()) < sum(min_combination.values()):\n",
    "                    min_combination = previous_combination\n",
    "\n",
    "        if min_combination:\n",
    "            memo[cash] = min_combination\n",
    "\n",
    "    return memo.get(amount, {})"
   ]
  },
  {
   "cell_type": "code",
   "execution_count": 4,
   "metadata": {},
   "outputs": [
    {
     "data": {
      "text/plain": [
       "{1: 1, 2: 1, 10: 1, 50: 2}"
      ]
     },
     "execution_count": 4,
     "metadata": {},
     "output_type": "execute_result"
    }
   ],
   "source": [
    "find_min_coins(113)"
   ]
  },
  {
   "cell_type": "code",
   "execution_count": 5,
   "metadata": {},
   "outputs": [],
   "source": [
    "class CoinChanger:\n",
    "    def __init__(self, coins):\n",
    "        self.coins = coins\n",
    "        self.memo = {0: {}}\n",
    "\n",
    "    def find_min_coins(self, amount):\n",
    "        if amount in self.memo:\n",
    "            return self.memo[amount]\n",
    "\n",
    "        min_combination = None\n",
    "\n",
    "        for coin in self.coins:\n",
    "            if amount >= coin:\n",
    "                previous_combination = self.find_min_coins(amount - coin).copy()\n",
    "                previous_combination[coin] = previous_combination.get(coin, 0) + 1\n",
    "\n",
    "                if min_combination is None or sum(previous_combination.values()) < sum(min_combination.values()):\n",
    "                    min_combination = previous_combination\n",
    "\n",
    "        self.memo[amount] = min_combination if min_combination else {}\n",
    "\n",
    "        return self.memo[amount]\n",
    "\n",
    "    def clear_memo(self):\n",
    "        self.memo = {0: {}}"
   ]
  },
  {
   "cell_type": "code",
   "execution_count": 6,
   "metadata": {},
   "outputs": [
    {
     "name": "stdout",
     "output_type": "stream",
     "text": [
      "{2: 1, 10: 1, 25: 1, 50: 1}\n",
      "{2: 1, 10: 1, 25: 1}\n"
     ]
    }
   ],
   "source": [
    "changer = CoinChanger(coins=[50, 25, 10, 5, 2, 1])\n",
    "\n",
    "print(changer.find_min_coins(87))\n",
    "print(changer.find_min_coins(37))  "
   ]
  },
  {
   "cell_type": "markdown",
   "metadata": {},
   "source": [
    "# Порівняння"
   ]
  },
  {
   "cell_type": "code",
   "execution_count": 7,
   "metadata": {},
   "outputs": [],
   "source": [
    "import timeit"
   ]
  },
  {
   "cell_type": "code",
   "execution_count": 8,
   "metadata": {},
   "outputs": [],
   "source": [
    "amounts = [11,111,1111,11111,111111,1111111,11111111,111111111,1111111111,11111111111]"
   ]
  },
  {
   "cell_type": "code",
   "execution_count": 9,
   "metadata": {},
   "outputs": [
    {
     "name": "stdout",
     "output_type": "stream",
     "text": [
      "11\n",
      "класс changer:  9.874929673969746e-06\n",
      "функція find_min_coins:  0.0011769169941544533\n",
      "функція find_coins_greedy:  3.445800393819809e-05\n",
      "--------------------------------------------------\n",
      "111\n",
      "класс changer:  6.037496495991945e-05\n",
      "функція find_min_coins:  0.04637866700068116\n",
      "функція find_coins_greedy:  3.6082929000258446e-05\n",
      "--------------------------------------------------\n",
      "1111\n",
      "класс changer:  0.00343483395408839\n",
      "функція find_min_coins:  0.21045270806644112\n",
      "функція find_coins_greedy:  3.3374992199242115e-05\n",
      "--------------------------------------------------\n",
      "11111\n",
      "класс changer:  0.02141499996650964\n",
      "функція find_min_coins:  2.079928959021345\n",
      "функція find_coins_greedy:  3.337510861456394e-05\n",
      "--------------------------------------------------\n",
      "111111\n",
      "класс changer:  0.2626601249212399\n",
      "функція find_min_coins:  21.31483529205434\n",
      "функція find_coins_greedy:  3.5082921385765076e-05\n",
      "--------------------------------------------------\n",
      "1111111\n"
     ]
    },
    {
     "ename": "RecursionError",
     "evalue": "maximum recursion depth exceeded",
     "output_type": "error",
     "traceback": [
      "\u001b[0;31m---------------------------------------------------------------------------\u001b[0m",
      "\u001b[0;31mRecursionError\u001b[0m                            Traceback (most recent call last)",
      "Cell \u001b[0;32mIn[9], line 3\u001b[0m\n\u001b[1;32m      1\u001b[0m \u001b[38;5;28;01mfor\u001b[39;00m amount \u001b[38;5;129;01min\u001b[39;00m amounts:\n\u001b[1;32m      2\u001b[0m     \u001b[38;5;28mprint\u001b[39m(amount)\n\u001b[0;32m----> 3\u001b[0m     \u001b[38;5;28mprint\u001b[39m(\u001b[38;5;124m'\u001b[39m\u001b[38;5;124mкласс changer: \u001b[39m\u001b[38;5;124m'\u001b[39m, \u001b[43mtimeit\u001b[49m\u001b[38;5;241;43m.\u001b[39;49m\u001b[43mtimeit\u001b[49m\u001b[43m(\u001b[49m\u001b[38;5;28;43;01mlambda\u001b[39;49;00m\u001b[43m:\u001b[49m\u001b[43m \u001b[49m\u001b[43mchanger\u001b[49m\u001b[38;5;241;43m.\u001b[39;49m\u001b[43mfind_min_coins\u001b[49m\u001b[43m(\u001b[49m\u001b[43mamount\u001b[49m\u001b[43m)\u001b[49m\u001b[43m,\u001b[49m\u001b[43m \u001b[49m\u001b[43mnumber\u001b[49m\u001b[38;5;241;43m=\u001b[39;49m\u001b[38;5;241;43m100\u001b[39;49m\u001b[43m)\u001b[49m)\n\u001b[1;32m      4\u001b[0m     \u001b[38;5;28mprint\u001b[39m(\u001b[38;5;124m'\u001b[39m\u001b[38;5;124mфункція find_min_coins: \u001b[39m\u001b[38;5;124m'\u001b[39m, timeit\u001b[38;5;241m.\u001b[39mtimeit(\u001b[38;5;28;01mlambda\u001b[39;00m: find_min_coins(amount), number\u001b[38;5;241m=\u001b[39m\u001b[38;5;241m100\u001b[39m))\n\u001b[1;32m      5\u001b[0m     \u001b[38;5;28mprint\u001b[39m(\u001b[38;5;124m'\u001b[39m\u001b[38;5;124mфункція find_coins_greedy: \u001b[39m\u001b[38;5;124m'\u001b[39m,timeit\u001b[38;5;241m.\u001b[39mtimeit(\u001b[38;5;28;01mlambda\u001b[39;00m: find_coins_greedy(amount), number\u001b[38;5;241m=\u001b[39m\u001b[38;5;241m100\u001b[39m))\n",
      "File \u001b[0;32m/Library/Frameworks/Python.framework/Versions/3.11/lib/python3.11/timeit.py:234\u001b[0m, in \u001b[0;36mtimeit\u001b[0;34m(stmt, setup, timer, number, globals)\u001b[0m\n\u001b[1;32m    231\u001b[0m \u001b[38;5;28;01mdef\u001b[39;00m \u001b[38;5;21mtimeit\u001b[39m(stmt\u001b[38;5;241m=\u001b[39m\u001b[38;5;124m\"\u001b[39m\u001b[38;5;124mpass\u001b[39m\u001b[38;5;124m\"\u001b[39m, setup\u001b[38;5;241m=\u001b[39m\u001b[38;5;124m\"\u001b[39m\u001b[38;5;124mpass\u001b[39m\u001b[38;5;124m\"\u001b[39m, timer\u001b[38;5;241m=\u001b[39mdefault_timer,\n\u001b[1;32m    232\u001b[0m            number\u001b[38;5;241m=\u001b[39mdefault_number, \u001b[38;5;28mglobals\u001b[39m\u001b[38;5;241m=\u001b[39m\u001b[38;5;28;01mNone\u001b[39;00m):\n\u001b[1;32m    233\u001b[0m \u001b[38;5;250m    \u001b[39m\u001b[38;5;124;03m\"\"\"Convenience function to create Timer object and call timeit method.\"\"\"\u001b[39;00m\n\u001b[0;32m--> 234\u001b[0m     \u001b[38;5;28;01mreturn\u001b[39;00m \u001b[43mTimer\u001b[49m\u001b[43m(\u001b[49m\u001b[43mstmt\u001b[49m\u001b[43m,\u001b[49m\u001b[43m \u001b[49m\u001b[43msetup\u001b[49m\u001b[43m,\u001b[49m\u001b[43m \u001b[49m\u001b[43mtimer\u001b[49m\u001b[43m,\u001b[49m\u001b[43m \u001b[49m\u001b[38;5;28;43mglobals\u001b[39;49m\u001b[43m)\u001b[49m\u001b[38;5;241;43m.\u001b[39;49m\u001b[43mtimeit\u001b[49m\u001b[43m(\u001b[49m\u001b[43mnumber\u001b[49m\u001b[43m)\u001b[49m\n",
      "File \u001b[0;32m/Library/Frameworks/Python.framework/Versions/3.11/lib/python3.11/timeit.py:178\u001b[0m, in \u001b[0;36mTimer.timeit\u001b[0;34m(self, number)\u001b[0m\n\u001b[1;32m    176\u001b[0m gc\u001b[38;5;241m.\u001b[39mdisable()\n\u001b[1;32m    177\u001b[0m \u001b[38;5;28;01mtry\u001b[39;00m:\n\u001b[0;32m--> 178\u001b[0m     timing \u001b[38;5;241m=\u001b[39m \u001b[38;5;28;43mself\u001b[39;49m\u001b[38;5;241;43m.\u001b[39;49m\u001b[43minner\u001b[49m\u001b[43m(\u001b[49m\u001b[43mit\u001b[49m\u001b[43m,\u001b[49m\u001b[43m \u001b[49m\u001b[38;5;28;43mself\u001b[39;49m\u001b[38;5;241;43m.\u001b[39;49m\u001b[43mtimer\u001b[49m\u001b[43m)\u001b[49m\n\u001b[1;32m    179\u001b[0m \u001b[38;5;28;01mfinally\u001b[39;00m:\n\u001b[1;32m    180\u001b[0m     \u001b[38;5;28;01mif\u001b[39;00m gcold:\n",
      "File \u001b[0;32m<timeit-src>:6\u001b[0m, in \u001b[0;36minner\u001b[0;34m(_it, _timer, _stmt)\u001b[0m\n",
      "Cell \u001b[0;32mIn[9], line 3\u001b[0m, in \u001b[0;36m<lambda>\u001b[0;34m()\u001b[0m\n\u001b[1;32m      1\u001b[0m \u001b[38;5;28;01mfor\u001b[39;00m amount \u001b[38;5;129;01min\u001b[39;00m amounts:\n\u001b[1;32m      2\u001b[0m     \u001b[38;5;28mprint\u001b[39m(amount)\n\u001b[0;32m----> 3\u001b[0m     \u001b[38;5;28mprint\u001b[39m(\u001b[38;5;124m'\u001b[39m\u001b[38;5;124mкласс changer: \u001b[39m\u001b[38;5;124m'\u001b[39m, timeit\u001b[38;5;241m.\u001b[39mtimeit(\u001b[38;5;28;01mlambda\u001b[39;00m: \u001b[43mchanger\u001b[49m\u001b[38;5;241;43m.\u001b[39;49m\u001b[43mfind_min_coins\u001b[49m\u001b[43m(\u001b[49m\u001b[43mamount\u001b[49m\u001b[43m)\u001b[49m, number\u001b[38;5;241m=\u001b[39m\u001b[38;5;241m100\u001b[39m))\n\u001b[1;32m      4\u001b[0m     \u001b[38;5;28mprint\u001b[39m(\u001b[38;5;124m'\u001b[39m\u001b[38;5;124mфункція find_min_coins: \u001b[39m\u001b[38;5;124m'\u001b[39m, timeit\u001b[38;5;241m.\u001b[39mtimeit(\u001b[38;5;28;01mlambda\u001b[39;00m: find_min_coins(amount), number\u001b[38;5;241m=\u001b[39m\u001b[38;5;241m100\u001b[39m))\n\u001b[1;32m      5\u001b[0m     \u001b[38;5;28mprint\u001b[39m(\u001b[38;5;124m'\u001b[39m\u001b[38;5;124mфункція find_coins_greedy: \u001b[39m\u001b[38;5;124m'\u001b[39m,timeit\u001b[38;5;241m.\u001b[39mtimeit(\u001b[38;5;28;01mlambda\u001b[39;00m: find_coins_greedy(amount), number\u001b[38;5;241m=\u001b[39m\u001b[38;5;241m100\u001b[39m))\n",
      "Cell \u001b[0;32mIn[5], line 14\u001b[0m, in \u001b[0;36mCoinChanger.find_min_coins\u001b[0;34m(self, amount)\u001b[0m\n\u001b[1;32m     12\u001b[0m \u001b[38;5;28;01mfor\u001b[39;00m coin \u001b[38;5;129;01min\u001b[39;00m \u001b[38;5;28mself\u001b[39m\u001b[38;5;241m.\u001b[39mcoins:\n\u001b[1;32m     13\u001b[0m     \u001b[38;5;28;01mif\u001b[39;00m amount \u001b[38;5;241m>\u001b[39m\u001b[38;5;241m=\u001b[39m coin:\n\u001b[0;32m---> 14\u001b[0m         previous_combination \u001b[38;5;241m=\u001b[39m \u001b[38;5;28;43mself\u001b[39;49m\u001b[38;5;241;43m.\u001b[39;49m\u001b[43mfind_min_coins\u001b[49m\u001b[43m(\u001b[49m\u001b[43mamount\u001b[49m\u001b[43m \u001b[49m\u001b[38;5;241;43m-\u001b[39;49m\u001b[43m \u001b[49m\u001b[43mcoin\u001b[49m\u001b[43m)\u001b[49m\u001b[38;5;241m.\u001b[39mcopy()\n\u001b[1;32m     15\u001b[0m         previous_combination[coin] \u001b[38;5;241m=\u001b[39m previous_combination\u001b[38;5;241m.\u001b[39mget(coin, \u001b[38;5;241m0\u001b[39m) \u001b[38;5;241m+\u001b[39m \u001b[38;5;241m1\u001b[39m\n\u001b[1;32m     17\u001b[0m         \u001b[38;5;28;01mif\u001b[39;00m min_combination \u001b[38;5;129;01mis\u001b[39;00m \u001b[38;5;28;01mNone\u001b[39;00m \u001b[38;5;129;01mor\u001b[39;00m \u001b[38;5;28msum\u001b[39m(previous_combination\u001b[38;5;241m.\u001b[39mvalues()) \u001b[38;5;241m<\u001b[39m \u001b[38;5;28msum\u001b[39m(min_combination\u001b[38;5;241m.\u001b[39mvalues()):\n",
      "Cell \u001b[0;32mIn[5], line 14\u001b[0m, in \u001b[0;36mCoinChanger.find_min_coins\u001b[0;34m(self, amount)\u001b[0m\n\u001b[1;32m     12\u001b[0m \u001b[38;5;28;01mfor\u001b[39;00m coin \u001b[38;5;129;01min\u001b[39;00m \u001b[38;5;28mself\u001b[39m\u001b[38;5;241m.\u001b[39mcoins:\n\u001b[1;32m     13\u001b[0m     \u001b[38;5;28;01mif\u001b[39;00m amount \u001b[38;5;241m>\u001b[39m\u001b[38;5;241m=\u001b[39m coin:\n\u001b[0;32m---> 14\u001b[0m         previous_combination \u001b[38;5;241m=\u001b[39m \u001b[38;5;28;43mself\u001b[39;49m\u001b[38;5;241;43m.\u001b[39;49m\u001b[43mfind_min_coins\u001b[49m\u001b[43m(\u001b[49m\u001b[43mamount\u001b[49m\u001b[43m \u001b[49m\u001b[38;5;241;43m-\u001b[39;49m\u001b[43m \u001b[49m\u001b[43mcoin\u001b[49m\u001b[43m)\u001b[49m\u001b[38;5;241m.\u001b[39mcopy()\n\u001b[1;32m     15\u001b[0m         previous_combination[coin] \u001b[38;5;241m=\u001b[39m previous_combination\u001b[38;5;241m.\u001b[39mget(coin, \u001b[38;5;241m0\u001b[39m) \u001b[38;5;241m+\u001b[39m \u001b[38;5;241m1\u001b[39m\n\u001b[1;32m     17\u001b[0m         \u001b[38;5;28;01mif\u001b[39;00m min_combination \u001b[38;5;129;01mis\u001b[39;00m \u001b[38;5;28;01mNone\u001b[39;00m \u001b[38;5;129;01mor\u001b[39;00m \u001b[38;5;28msum\u001b[39m(previous_combination\u001b[38;5;241m.\u001b[39mvalues()) \u001b[38;5;241m<\u001b[39m \u001b[38;5;28msum\u001b[39m(min_combination\u001b[38;5;241m.\u001b[39mvalues()):\n",
      "    \u001b[0;31m[... skipping similar frames: CoinChanger.find_min_coins at line 14 (2966 times)]\u001b[0m\n",
      "Cell \u001b[0;32mIn[5], line 14\u001b[0m, in \u001b[0;36mCoinChanger.find_min_coins\u001b[0;34m(self, amount)\u001b[0m\n\u001b[1;32m     12\u001b[0m \u001b[38;5;28;01mfor\u001b[39;00m coin \u001b[38;5;129;01min\u001b[39;00m \u001b[38;5;28mself\u001b[39m\u001b[38;5;241m.\u001b[39mcoins:\n\u001b[1;32m     13\u001b[0m     \u001b[38;5;28;01mif\u001b[39;00m amount \u001b[38;5;241m>\u001b[39m\u001b[38;5;241m=\u001b[39m coin:\n\u001b[0;32m---> 14\u001b[0m         previous_combination \u001b[38;5;241m=\u001b[39m \u001b[38;5;28;43mself\u001b[39;49m\u001b[38;5;241;43m.\u001b[39;49m\u001b[43mfind_min_coins\u001b[49m\u001b[43m(\u001b[49m\u001b[43mamount\u001b[49m\u001b[43m \u001b[49m\u001b[38;5;241;43m-\u001b[39;49m\u001b[43m \u001b[49m\u001b[43mcoin\u001b[49m\u001b[43m)\u001b[49m\u001b[38;5;241m.\u001b[39mcopy()\n\u001b[1;32m     15\u001b[0m         previous_combination[coin] \u001b[38;5;241m=\u001b[39m previous_combination\u001b[38;5;241m.\u001b[39mget(coin, \u001b[38;5;241m0\u001b[39m) \u001b[38;5;241m+\u001b[39m \u001b[38;5;241m1\u001b[39m\n\u001b[1;32m     17\u001b[0m         \u001b[38;5;28;01mif\u001b[39;00m min_combination \u001b[38;5;129;01mis\u001b[39;00m \u001b[38;5;28;01mNone\u001b[39;00m \u001b[38;5;129;01mor\u001b[39;00m \u001b[38;5;28msum\u001b[39m(previous_combination\u001b[38;5;241m.\u001b[39mvalues()) \u001b[38;5;241m<\u001b[39m \u001b[38;5;28msum\u001b[39m(min_combination\u001b[38;5;241m.\u001b[39mvalues()):\n",
      "\u001b[0;31mRecursionError\u001b[0m: maximum recursion depth exceeded"
     ]
    }
   ],
   "source": [
    "for amount in amounts:\n",
    "    print(amount)\n",
    "    print('класс changer: ', timeit.timeit(lambda: changer.find_min_coins(amount), number=100))\n",
    "    print('функція find_min_coins: ', timeit.timeit(lambda: find_min_coins(amount), number=100))\n",
    "    print('функція find_coins_greedy: ',timeit.timeit(lambda: find_coins_greedy(amount), number=100))\n",
    "    print('-' * 50)"
   ]
  },
  {
   "cell_type": "markdown",
   "metadata": {},
   "source": [
    "В даному випадку видно що для цієї задачі жадібний підхід (`find_coins_greedy`) є найбільш оптимальним. При цьому він має часову складність в O(n), при тому що n в даному випадку це кількість номіналів монет.\n",
    "\n",
    "Алгоритм динамічного (`find_min_coins`) програмування в цій реалізації має два вкладених цикли і відповідно квадратичну складність $O(n^2)$\n",
    "\n",
    "Алгоритм динамічного програмування реалізований через рекурсію в класі `CoinChanger` призвів до помилки RecursionError. Меморизація в екземплярі класу допомогла в оптимізації обчислень але в кінці все ж привела рекурсійної \"стіни\" в 1000 значень"
   ]
  },
  {
   "cell_type": "markdown",
   "metadata": {},
   "source": [
    "Загалом в цій проблемі саме математичні правила допомогли жадібному алгоритму моментально визначати найкраще локальне значення і тому його швидкість була найкращою. Проте якби визначення локального мінімуму потребувалоб більше зусиль (якась функція з генераторами або циклами), то результат мав би бути як і у алгоритмі find_min_coins"
   ]
  }
 ],
 "metadata": {
  "kernelspec": {
   "display_name": "Python 3",
   "language": "python",
   "name": "python3"
  },
  "language_info": {
   "codemirror_mode": {
    "name": "ipython",
    "version": 3
   },
   "file_extension": ".py",
   "mimetype": "text/x-python",
   "name": "python",
   "nbconvert_exporter": "python",
   "pygments_lexer": "ipython3",
   "version": "3.11.3"
  }
 },
 "nbformat": 4,
 "nbformat_minor": 2
}
