{
 "cells": [
  {
   "attachments": {},
   "cell_type": "markdown",
   "metadata": {},
   "source": [
    "### Algoritmo para aproximar a função e^x usando uma série de y termos\n",
    "$$\n",
    "\\sum_{n=0}^{y} \\frac{x^n}{n!}\n",
    "$$\n"
   ]
  },
  {
   "cell_type": "code",
   "execution_count": 9,
   "metadata": {},
   "outputs": [
    {
     "name": "stdout",
     "output_type": "stream",
     "text": [
      "7.3890560703259105\n"
     ]
    }
   ],
   "source": [
    "import math\n",
    "def aprox(x, y):\n",
    "\n",
    "    # Aproximação de e^x usando uma série de y termos\n",
    "    # x: ponto a ser aproximado\n",
    "    # y: número de termos da série\n",
    "    soma = 0\n",
    "    for i in range(y):\n",
    "        # Cálculo do termo i da série\n",
    "        termo = x**i/math.factorial(i)\n",
    "        # Soma dos termos\n",
    "        soma += termo\n",
    "    \n",
    "    return soma\n",
    "\n",
    "    # De forma mais compacta:\n",
    "    # return sum([x**i/math.factorial(i) for i in range(y)])\n",
    "\n",
    "# Teste\n",
    "print(aprox(2, 15))"
   ]
  },
  {
   "attachments": {},
   "cell_type": "markdown",
   "metadata": {},
   "source": [
    "### Versão com apenas operações básicas\n",
    "\n"
   ]
  },
  {
   "cell_type": "code",
   "execution_count": 10,
   "metadata": {},
   "outputs": [
    {
     "ename": "RecursionError",
     "evalue": "maximum recursion depth exceeded",
     "output_type": "error",
     "traceback": [
      "\u001b[1;31m---------------------------------------------------------------------------\u001b[0m",
      "\u001b[1;31mRecursionError\u001b[0m                            Traceback (most recent call last)",
      "Cell \u001b[1;32mIn[10], line 47\u001b[0m\n\u001b[0;32m     44\u001b[0m     \u001b[39mreturn\u001b[39;00m soma\n\u001b[0;32m     46\u001b[0m \u001b[39m# Teste\u001b[39;00m\n\u001b[1;32m---> 47\u001b[0m \u001b[39mprint\u001b[39m(aprox2(\u001b[39m10\u001b[39;49m, \u001b[39m150000\u001b[39;49m))\n",
      "Cell \u001b[1;32mIn[10], line 40\u001b[0m, in \u001b[0;36maprox2\u001b[1;34m(x, y)\u001b[0m\n\u001b[0;32m     37\u001b[0m soma \u001b[39m=\u001b[39m \u001b[39m0\u001b[39m\n\u001b[0;32m     38\u001b[0m \u001b[39mfor\u001b[39;00m i \u001b[39min\u001b[39;00m \u001b[39mrange\u001b[39m(y):\n\u001b[0;32m     39\u001b[0m     \u001b[39m# Cálculo do termo i da série\u001b[39;00m\n\u001b[1;32m---> 40\u001b[0m     termo \u001b[39m=\u001b[39m potency(x, i)\u001b[39m/\u001b[39mfactorial(i)\n\u001b[0;32m     41\u001b[0m     \u001b[39m# Soma dos termos\u001b[39;00m\n\u001b[0;32m     42\u001b[0m     soma \u001b[39m+\u001b[39m\u001b[39m=\u001b[39m termo\n",
      "Cell \u001b[1;32mIn[10], line 27\u001b[0m, in \u001b[0;36mfactorial\u001b[1;34m(x)\u001b[0m\n\u001b[0;32m     25\u001b[0m     \u001b[39mreturn\u001b[39;00m \u001b[39m1\u001b[39m\n\u001b[0;32m     26\u001b[0m \u001b[39melse\u001b[39;00m:\n\u001b[1;32m---> 27\u001b[0m     \u001b[39mreturn\u001b[39;00m x\u001b[39m*\u001b[39mfactorial(x\u001b[39m-\u001b[39;49m\u001b[39m1\u001b[39;49m)\n",
      "Cell \u001b[1;32mIn[10], line 27\u001b[0m, in \u001b[0;36mfactorial\u001b[1;34m(x)\u001b[0m\n\u001b[0;32m     25\u001b[0m     \u001b[39mreturn\u001b[39;00m \u001b[39m1\u001b[39m\n\u001b[0;32m     26\u001b[0m \u001b[39melse\u001b[39;00m:\n\u001b[1;32m---> 27\u001b[0m     \u001b[39mreturn\u001b[39;00m x\u001b[39m*\u001b[39mfactorial(x\u001b[39m-\u001b[39;49m\u001b[39m1\u001b[39;49m)\n",
      "    \u001b[1;31m[... skipping similar frames: factorial at line 27 (2970 times)]\u001b[0m\n",
      "Cell \u001b[1;32mIn[10], line 27\u001b[0m, in \u001b[0;36mfactorial\u001b[1;34m(x)\u001b[0m\n\u001b[0;32m     25\u001b[0m     \u001b[39mreturn\u001b[39;00m \u001b[39m1\u001b[39m\n\u001b[0;32m     26\u001b[0m \u001b[39melse\u001b[39;00m:\n\u001b[1;32m---> 27\u001b[0m     \u001b[39mreturn\u001b[39;00m x\u001b[39m*\u001b[39mfactorial(x\u001b[39m-\u001b[39;49m\u001b[39m1\u001b[39;49m)\n",
      "\u001b[1;31mRecursionError\u001b[0m: maximum recursion depth exceeded"
     ]
    }
   ],
   "source": [
    "# Fazendo as operações de potência e fatorial no próprio código\n",
    "def potency(x, y):\n",
    "\n",
    "    # Potência de x elevado a y\n",
    "    # x: base\n",
    "    # y: expoente\n",
    "    \n",
    "    if y == 0:\n",
    "        return 1\n",
    "    out = x\n",
    "    for _ in range(y-1):\n",
    "        out = out * x\n",
    "\n",
    "    # De forma mais compacta:\n",
    "    # return math.pow(x, y)\n",
    "\n",
    "    return out\n",
    "\n",
    "# Fatorial recursivo\n",
    "def factorial(x):\n",
    "    \n",
    "    # Fatorial de x\n",
    "    # x: número a ser fatorado\n",
    "    if x == 0:\n",
    "        return 1\n",
    "    else:\n",
    "        return x*factorial(x-1)\n",
    "    \n",
    "    # De forma mais compacta:\n",
    "    # return math.factorial(x)\n",
    "\n",
    "def aprox2(x, y):\n",
    "\n",
    "    # Aproximação de e^x usando uma série de y termos\n",
    "    # x: ponto a ser aproximado\n",
    "    # y: número de termos da série\n",
    "    soma = 0\n",
    "    for i in range(y):\n",
    "        # Cálculo do termo i da série\n",
    "        termo = potency(x, i)/factorial(i)\n",
    "        # Soma dos termos\n",
    "        soma += termo\n",
    "    \n",
    "    return soma\n",
    "\n",
    "# Teste\n",
    "print(aprox2(10, 150000))"
   ]
  },
  {
   "attachments": {},
   "cell_type": "markdown",
   "metadata": {},
   "source": [
    "### Versão da Professora com o código embutido em apenas uma função\n",
    "#### Versão muito boa, por não usar recursão pro fatorial não temos problemas com o limite de recursão"
   ]
  },
  {
   "cell_type": "code",
   "execution_count": 4,
   "metadata": {},
   "outputs": [
    {
     "name": "stdout",
     "output_type": "stream",
     "text": [
      "22026.46579480671\n"
     ]
    }
   ],
   "source": [
    "def aprox3(x, y):\n",
    "    soma = 1\n",
    "    num = 1\n",
    "    fat = 1\n",
    "    for i in range(1, y):\n",
    "        num *= x\n",
    "        fat *= i\n",
    "        soma += num/fat\n",
    "    \n",
    "    return soma\n",
    "\n",
    "# Teste\n",
    "print(aprox3(10, 150000))"
   ]
  },
  {
   "attachments": {},
   "cell_type": "markdown",
   "metadata": {},
   "source": [
    "### Dúvida: Relação entre número de casas exatas e número de termos da série?"
   ]
  },
  {
   "cell_type": "code",
   "execution_count": 2,
   "metadata": {},
   "outputs": [
    {
     "name": "stdout",
     "output_type": "stream",
     "text": [
      "13\n",
      "7.3890545668323435\n"
     ]
    }
   ],
   "source": [
    "def aprox4(x):\n",
    "    soma = 1\n",
    "    num = 1\n",
    "    fat = 1\n",
    "    anterior = 0\n",
    "    diferenca = abs(soma - anterior)\n",
    "    i = 1\n",
    "    while diferenca > 0.00001:\n",
    "        num *= x\n",
    "        fat *= i\n",
    "        anterior = soma\n",
    "        soma += num/fat\n",
    "        diferenca = abs(soma - anterior)\n",
    "        i += 1\n",
    "    \n",
    "    print(i)\n",
    "    \n",
    "    return soma\n",
    "print(aprox4(2))  "
   ]
  }
 ],
 "metadata": {
  "kernelspec": {
   "display_name": "Python 3",
   "language": "python",
   "name": "python3"
  },
  "language_info": {
   "codemirror_mode": {
    "name": "ipython",
    "version": 3
   },
   "file_extension": ".py",
   "mimetype": "text/x-python",
   "name": "python",
   "nbconvert_exporter": "python",
   "pygments_lexer": "ipython3",
   "version": "3.11.2"
  },
  "orig_nbformat": 4,
  "vscode": {
   "interpreter": {
    "hash": "7217c1299bccca6ff280a3d454c1392a702d615aa18873556941e3238ecc3b93"
   }
  }
 },
 "nbformat": 4,
 "nbformat_minor": 2
}
