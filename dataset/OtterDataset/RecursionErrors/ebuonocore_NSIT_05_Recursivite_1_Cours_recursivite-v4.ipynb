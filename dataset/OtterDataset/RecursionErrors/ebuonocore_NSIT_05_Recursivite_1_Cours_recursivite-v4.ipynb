{
 "cells": [
  {
   "cell_type": "markdown",
   "metadata": {},
   "source": [
    "<div style=\"width:100%;border-collapse:separate;border:solid 2px;border-radius:14px;\">\n",
    "    <div style=\"display:flex;\">\n",
    "        <div style=\"display:inline;width:5%;\"></div>\n",
    "        <div style=\"display:inline;width:15%;\">NSIT</div>\n",
    "        <div style=\"display:inline;width:15%;\">e05c</div>\n",
    "        <div style=\"display:inline;width:70%;text-align:right;\"><b>Langages et programmation</b></div>\n",
    "        <div style=\"display:inline;width:5%;\"></div>\n",
    "    </div>\n",
    "    <div  style=\"display: flex;background-color:#EEE\">\n",
    "        <p style=\"width:100%;text-align:center;\">La récursivité</p>\n",
    "    </div>\n",
    "    <div  style=\"display: flex;\">\n",
    "        <p style=\"width:100%;text-align:center;\">Cours 1</p>\n",
    "    </div>\n",
    "</div>"
   ]
  },
  {
   "cell_type": "markdown",
   "metadata": {},
   "source": [
    "![](https://github.com/ebuonocore/NSIT_05_Recursivite/blob/main/data/infini.jpeg?raw=true)"
   ]
  },
  {
   "cell_type": "markdown",
   "metadata": {},
   "source": [
    "## 1. Première approche\n",
    "### 1.1. Définition\n",
    "> Une méthode est dite récursive lorsqu'elle fait appel à elle-même dans sa propre définition. "
   ]
  },
  {
   "cell_type": "markdown",
   "metadata": {},
   "source": [
    "### 1.2 Un très mauvais exemple\n",
    "C'est déjà une première chose à comprendre : un programme **peut** être appelé par lui-même, à l'intérieur de sa propre définition.  \n",
    "⚠ Tenez-vous prêts à arrêter l'exécution de la cellule !"
   ]
  },
  {
   "cell_type": "code",
   "execution_count": 2,
   "metadata": {},
   "outputs": [],
   "source": [
    "def prems():\n",
    "    print(\"un très mauvais exemple\")\n",
    "    prems()"
   ]
  },
  {
   "cell_type": "code",
   "execution_count": null,
   "metadata": {},
   "outputs": [],
   "source": [
    "prems()"
   ]
  },
  {
   "cell_type": "markdown",
   "metadata": {},
   "source": [
    "```un très mauvais exemple\n",
    "un très mauvais exemple\n",
    "un très mauvais exemple\n",
    "un très mauvais exemple\n",
    "un très mauvais exemple\n",
    "un très mauvais exemple\n",
    "un très mauvais exemple\n",
    "un très mauvais exemple\n",
    "un très mauvais exemple\n",
    "un très mauvais exemple\n",
    "un très mauvais exemple\n",
    "un très mauvais exemple\n",
    "un très mauvais exemple\n",
    "un très mauvais exemple\n",
    "...```"
   ]
  },
  {
   "cell_type": "markdown",
   "metadata": {},
   "source": [
    "Évidemment, comme prévu, ce programme ne s'arrête pas. Nous sommes obligés de l'arrêter manuellement. Nous sommes (volontairement) tombés dans un piège qui sera systématiquement présent lors d'une programmation récursive : [le piège de la boucle infinie](https://github.com/ebuonocore/NSIT_05_Recursivite/blob/main/data/meme2.gif?raw=true).  \n",
    "\n",
    "\n",
    "*Remarque :*  \n",
    "Les [acronymes récursifs](https://fr.wikipedia.org/wiki/Sigles_auto-r%C3%A9f%C3%A9rentiels) représentent le même concept... et illustrent le même piège.\n",
    "Par exemple, GNU signifie GNU is Not Unix. On ne sait jamais vraiment ce que signifie GNU...  \n",
    "\n",
    "Mais attention : la récursivité ne DOIT PAS être associée à une auto-référence vertigineuse : c'est en algorithmique une méthode (parfois) très efficace, à condition de respecter une règle cruciale : **l'existence d'un CAS DE BASE**.  \n",
    "\n",
    "Ce «cas de base» sera aussi appelé «condition d'arrêt», puisque la très grande majorité des algorithmes récursifs peuvent être perçus comme des escaliers qu'on dévale à toute vitesse, en déséquilibre jusqu'au sol qui assure notre arrêt.\n",
    "\n",
    "\n",
    "![](https://github.com/ebuonocore/NSIT_05_Recursivite/blob/main/data/realpython.png?raw=true)\n",
    "(extrait du site https://realpython.com/)"
   ]
  },
  {
   "cell_type": "markdown",
   "metadata": {},
   "source": [
    "\n",
    "Lorsque nous allons programmer une fonction récursive, nous allons donc commencer par la fin, c'est-à-dire par le moment où elle renvoie effectivement un résultat. C'est le cas de base.\n",
    "\n",
    "\n",
    "Lorsque vous allez programmer un algorithme récursif, vous allez donc commencer par coder le cas de base, la situation finale.\n",
    "\n",
    "Pour arriver progressivement vers la situation finale , chaque appel récursif se fera en décrémentant un paramètre : cela assurera l'arrêt du programme.\n",
    "\n",
    "Observons ceci dans l'exemple suivant :"
   ]
  },
  {
   "cell_type": "markdown",
   "metadata": {},
   "source": [
    "### 1.3 Enfin un bon exemple"
   ]
  },
  {
   "cell_type": "code",
   "execution_count": 26,
   "metadata": {},
   "outputs": [],
   "source": [
    "def mystere(n):\n",
    "    if n == 0 :\n",
    "        return 0\n",
    "    else : \n",
    "        return n + mystere(n-1)"
   ]
  },
  {
   "cell_type": "markdown",
   "metadata": {},
   "source": [
    "Observer :\n",
    "- le cas de base (si ```n``` vaut 0 on renvoie *vraiment* une valeur, en l'occurence 0)\n",
    "- l'appel récursif\n",
    "- la décrémentation du paramètre d'appel"
   ]
  },
  {
   "cell_type": "code",
   "execution_count": 2,
   "metadata": {},
   "outputs": [
    {
     "data": {
      "text/plain": [
       "0"
      ]
     },
     "execution_count": 2,
     "metadata": {},
     "output_type": "execute_result"
    }
   ],
   "source": [
    "mystere(0)"
   ]
  },
  {
   "cell_type": "code",
   "execution_count": 3,
   "metadata": {},
   "outputs": [
    {
     "data": {
      "text/plain": [
       "10"
      ]
     },
     "execution_count": 3,
     "metadata": {},
     "output_type": "execute_result"
    }
   ],
   "source": [
    "mystere(4)"
   ]
  },
  {
   "cell_type": "markdown",
   "metadata": {},
   "source": [
    "Que se passe-t-il lorsqu'on appelle ```mystere(4)``` ?\n",
    "\n",
    "\\begin{align}\n",
    "  \\rm{mystere(4)} &= 4+ \\rm{mystere(3)}\\\\\n",
    "   &= 4+ (3+\\rm{mystere(2)}) \\\\\n",
    "   &= 4+ (3+(2+\\rm{mystere(1)} )) \\\\\n",
    "   &= 4+ (3+(2+(1+\\rm{mystere(0)} ))) \\\\   \n",
    "   &= 4+ (3+(2+(1+0 ))) \\\\  \n",
    "\\end{align}\n",
    "\n",
    "\n",
    "On voit que l'existence du cas de base pour $n=0$ est primordiale pour éviter la récursion infinie.\n",
    "\n",
    "![](https://github.com/ebuonocore/NSIT_05_Recursivite/blob/main/data/diag.png?raw=true)\n",
    "\n",
    "\n",
    "Cette fonction ```mystere(n)``` calcule donc la somme des entiers positifs inférieurs ou égaux à $n$."
   ]
  },
  {
   "cell_type": "markdown",
   "metadata": {},
   "source": [
    "#### 1.3.1 Visualisation"
   ]
  },
  {
   "cell_type": "markdown",
   "metadata": {},
   "source": [
    "Visualisez l'exécution de cette fonction sur [PythonTutor](http://pythontutor.com/visualize.html#code=def%20mystere%28n%29%3A%0A%20%20%20%20if%20n%20%3D%3D%200%20%3A%0A%20%20%20%20%20%20%20%20return%200%0A%20%20%20%20else%20%3A%20%0A%20%20%20%20%20%20%20%20return%20n%20%2B%20mystere%28n-1%29%0A%0Aprint%28mystere%285%29%29&cumulative=false&curInstr=0&heapPrimitives=nevernest&mode=display&origin=opt-frontend.js&py=3&rawInputLstJSON=%5B%5D&textReferences=false)"
   ]
  },
  {
   "cell_type": "markdown",
   "metadata": {},
   "source": [
    "#### 1.3.2 Remarque historique"
   ]
  },
  {
   "cell_type": "code",
   "execution_count": 27,
   "metadata": {},
   "outputs": [
    {
     "data": {
      "text/plain": [
       "5050"
      ]
     },
     "execution_count": 27,
     "metadata": {},
     "output_type": "execute_result"
    }
   ],
   "source": [
    "mystere(100)"
   ]
  },
  {
   "cell_type": "markdown",
   "metadata": {},
   "source": [
    "Une anecdote raconte que [Carl Friedrich Gauss](https://fr.wikipedia.org/wiki/Carl_Friedrich_Gauss) trouva cette valeur de 5050 en quelques secondes, devant son instituteur ébahi.  \n",
    "Il venait pour cela d'inventer la formule : \n",
    "$$1+2+3+\\dots+n=\\frac{n(n+1)}{2}$$\n",
    "\n",
    "Ici, $1+2+3+\\dots+100=\\frac{100\\times 101}{2}=50 \\times 101=5050$"
   ]
  },
  {
   "cell_type": "markdown",
   "metadata": {},
   "source": [
    "#### 1.3.3 Exercice \n",
    "On souhaite créer une fonction **etoile()**.   \n",
    "Elle prend en paramètre un entier n positif et affiche sur chaque ligne un nombre décroissant d'étoiles, partant de n étoile jusqu'à une.  \n",
    "Exemple pour n = 4  \n",
    "\\* \\* \\* \\*  \n",
    "\\* * \\*  \n",
    "\\* \\*  \n",
    "\\*  \n",
    "\n",
    "Remarque: <code> print('* '\\*n)</code> affiche n fois la chaîne '\\* '\n",
    "\n",
    "1. Programmer de manière impérative (manière *classique*) la fonction etoile().\n",
    "2. Programmer de façon récursive la fonction etoile()."
   ]
  },
  {
   "cell_type": "code",
   "execution_count": 16,
   "metadata": {},
   "outputs": [
    {
     "name": "stdout",
     "output_type": "stream",
     "text": [
      "* * * * \n",
      "* * * \n",
      "* * \n",
      "* \n"
     ]
    }
   ],
   "source": []
  },
  {
   "cell_type": "code",
   "execution_count": null,
   "metadata": {},
   "outputs": [],
   "source": []
  },
  {
   "cell_type": "markdown",
   "metadata": {},
   "source": [
    "Dans l'implémentation récursive, pour n=', combien de fois la fonction **etoile()** est-elle appelée ?"
   ]
  },
  {
   "cell_type": "code",
   "execution_count": null,
   "metadata": {},
   "outputs": [],
   "source": [
    "Réponse:"
   ]
  },
  {
   "cell_type": "markdown",
   "metadata": {},
   "source": [
    "### 1.4 Notion de pile\n",
    "Lors d'un appel à une fonction récursive, le processeur utilise une structure de **pile** pour stocker les contextes d'exécution de chaque appel. Dans la notion de pile (qui sera traitée plus tard dans le programme de Terminale), seule l'instruction «en haut de la pile» peut être traitée et enlevée (on dit «dépilée»).\n",
    "\n",
    "La pile d'appels de notre fonction ```mystere(5)``` peut donc être schématisée comme ceci :\n",
    "\n",
    "![](https://github.com/ebuonocore/NSIT_05_Recursivite/blob/main/data/pile_exec.webp?raw=true)"
   ]
  },
  {
   "cell_type": "markdown",
   "metadata": {},
   "source": [
    "### 1.5 Limitation de la taille de la pile\n",
    "Nous venons de voir que notre appel à ```mystere(5)``` générait une pile de hauteur 6 (on parlera plutôt de *profondeur* 6). Cette profondeur est-elle limitée ?"
   ]
  },
  {
   "cell_type": "code",
   "execution_count": 32,
   "metadata": {
    "scrolled": true
   },
   "outputs": [
    {
     "ename": "RecursionError",
     "evalue": "maximum recursion depth exceeded in comparison",
     "output_type": "error",
     "traceback": [
      "\u001b[0;31m---------------------------------------------------------------------------\u001b[0m",
      "\u001b[0;31mRecursionError\u001b[0m                            Traceback (most recent call last)",
      "\u001b[0;32m<ipython-input-32-a97c4dde4ef8>\u001b[0m in \u001b[0;36m<module>\u001b[0;34m\u001b[0m\n\u001b[0;32m----> 1\u001b[0;31m \u001b[0mmystere\u001b[0m\u001b[0;34m(\u001b[0m\u001b[0;36m2962\u001b[0m\u001b[0;34m)\u001b[0m\u001b[0;34m\u001b[0m\u001b[0;34m\u001b[0m\u001b[0m\n\u001b[0m",
      "\u001b[0;32m<ipython-input-1-386660a434f2>\u001b[0m in \u001b[0;36mmystere\u001b[0;34m(n)\u001b[0m\n\u001b[1;32m      3\u001b[0m         \u001b[0;32mreturn\u001b[0m \u001b[0;36m0\u001b[0m\u001b[0;34m\u001b[0m\u001b[0;34m\u001b[0m\u001b[0m\n\u001b[1;32m      4\u001b[0m     \u001b[0;32melse\u001b[0m \u001b[0;34m:\u001b[0m\u001b[0;34m\u001b[0m\u001b[0;34m\u001b[0m\u001b[0m\n\u001b[0;32m----> 5\u001b[0;31m         \u001b[0;32mreturn\u001b[0m \u001b[0mn\u001b[0m \u001b[0;34m+\u001b[0m \u001b[0mmystere\u001b[0m\u001b[0;34m(\u001b[0m\u001b[0mn\u001b[0m\u001b[0;34m-\u001b[0m\u001b[0;36m1\u001b[0m\u001b[0;34m)\u001b[0m\u001b[0;34m\u001b[0m\u001b[0;34m\u001b[0m\u001b[0m\n\u001b[0m",
      "... last 1 frames repeated, from the frame below ...\n",
      "\u001b[0;32m<ipython-input-1-386660a434f2>\u001b[0m in \u001b[0;36mmystere\u001b[0;34m(n)\u001b[0m\n\u001b[1;32m      3\u001b[0m         \u001b[0;32mreturn\u001b[0m \u001b[0;36m0\u001b[0m\u001b[0;34m\u001b[0m\u001b[0;34m\u001b[0m\u001b[0m\n\u001b[1;32m      4\u001b[0m     \u001b[0;32melse\u001b[0m \u001b[0;34m:\u001b[0m\u001b[0;34m\u001b[0m\u001b[0;34m\u001b[0m\u001b[0m\n\u001b[0;32m----> 5\u001b[0;31m         \u001b[0;32mreturn\u001b[0m \u001b[0mn\u001b[0m \u001b[0;34m+\u001b[0m \u001b[0mmystere\u001b[0m\u001b[0;34m(\u001b[0m\u001b[0mn\u001b[0m\u001b[0;34m-\u001b[0m\u001b[0;36m1\u001b[0m\u001b[0;34m)\u001b[0m\u001b[0;34m\u001b[0m\u001b[0;34m\u001b[0m\u001b[0m\n\u001b[0m",
      "\u001b[0;31mRecursionError\u001b[0m: maximum recursion depth exceeded in comparison"
     ]
    }
   ],
   "source": [
    "mystere(2962)"
   ]
  },
  {
   "cell_type": "markdown",
   "metadata": {},
   "source": [
    "Vous venons de provoquer un «débordement de pile», le célèbre **stack overflow**. \n",
    "\n",
    "De manière générale, les programmes récursifs sont souvent susceptibles de générer un trop grand nombre d'appels à eux-mêmes. Il est parfois possible de les optimiser, comme nous le verrons dans le cours concernant la **programmation dynamique**.  \n",
    "\n",
    "Nous reparlerons aussi de récursivité lorsque nous l'inscrirons dans un paradigme plus global de programmation, qui est **« diviser pour régner »** (en anglais *divide and conquer*)."
   ]
  },
  {
   "cell_type": "markdown",
   "metadata": {},
   "source": [
    "## 2. Exemples de récursivité double"
   ]
  },
  {
   "cell_type": "markdown",
   "metadata": {},
   "source": [
    "### 2.1 La suite de Fibonacci\n",
    "Considérons la suite numérique (très appréciée des mathématiciens, botanistes et artistes) ainsi définie :\n",
    "- $F_0 = 0$\n",
    "- $F_1 = 1$\n",
    "- Pour tout n entier supérieur à 2,  $ F_{n} = F_{n-1}+F_{n-2}$\n",
    "\n",
    "On a donc $F_2=0+1=1$  \n",
    "          $F_3=F_2+F_1=1+1=2$  \n",
    "          $F_4=F_3+F_2=2+1=3$  \n",
    "          $F_5=F_4+F_3=3+2=5$ ... "
   ]
  },
  {
   "cell_type": "markdown",
   "metadata": {},
   "source": [
    "![](https://github.com/ebuonocore/NSIT_05_Recursivite/blob/main/data/NSIT_05_fibo1.png?raw=true)"
   ]
  },
  {
   "cell_type": "markdown",
   "metadata": {},
   "source": [
    "#### 2.1.1 Exercice\n",
    "Implémenter de façon récursive la suite de Fibonacci."
   ]
  },
  {
   "cell_type": "code",
   "execution_count": null,
   "metadata": {},
   "outputs": [],
   "source": [
    "def fibo(n):\n",
    "    # Si n est égale à 0, on renvoie la valeur de fibo(0)\n",
    "    \n",
    "    # Si n est égale à 1, on renvoie la valeur de fibo(1)\n",
    "    \n",
    "    # Sinon, on renvoie le calcul de fibo(n) tel que fibo(n) = fibo(n-1) + fibo(n-2)\n",
    "    \n",
    "    \n",
    "# Corps du programme\n",
    "fibo(4)"
   ]
  },
  {
   "cell_type": "markdown",
   "metadata": {},
   "source": [
    "Pour n=4, combien de fois la fonction **fibo()** est-elle appelée?\n",
    "Combien de fois **fibo(2)** est-il calculé?"
   ]
  },
  {
   "cell_type": "markdown",
   "metadata": {},
   "source": [
    "Réponses:"
   ]
  },
  {
   "cell_type": "markdown",
   "metadata": {},
   "source": [
    "Lien vers une [correction de l'implémentation](https://gist.github.com/glassus/6c7c14813fabab8c238c721386147260)  \n",
    "Lien vers [l'arbre des appels de la fonction fibo()](https://github.com/ebuonocore/NSIT_05_Recursivite/blob/main/data/NSIT_05_fibo_arbre_appels.png?raw=true)"
   ]
  },
  {
   "cell_type": "markdown",
   "metadata": {},
   "source": [
    "#### 2.1.2 Observation de la pile d'exécution\n",
    "Appelons ```F(n)``` la fonction calculant de manière récursive le n-ième terme de la suite. Observons en détail la pile d'exécution lors du calcul de ```F(4)```.\n",
    "![](https://github.com/ebuonocore/NSIT_05_Recursivite/blob/main/data/pile_fibo.webp?raw=true)"
   ]
  },
  {
   "cell_type": "markdown",
   "metadata": {},
   "source": [
    "On peut aussi observer l'exécution sur [PythonTutor](http://pythontutor.com/visualize.html#code=def%20fibo%28n%29%3A%0A%20%20%20%20%0A%20%20%20%20if%20n%20%3D%3D%200%20or%20n%20%3D%3D%201%20%3A%0A%20%20%20%20%20%20%20%20return%201%0A%20%20%20%20else%20%3A%0A%20%20%20%20%20%20%20%20return%20fibo%28n-1%29%20%2B%20fibo%28n-2%29%0A%0Aprint%28fibo%284%29%29%0A&cumulative=false&curInstr=38&heapPrimitives=nevernest&mode=display&origin=opt-frontend.js&py=3&rawInputLstJSON=%5B%5D&textReferences=false)\n",
    "\n",
    "On s'aperçoit notamment que :\n",
    "- les appels récursifs ne sont PAS simultanés (rappelons que la simultanéité n'existe théoriquement pas en informatique). On pourrait s'imaginer que la relation $F_4=F_3+F_2$ allait déclencher deux «fils» récursifs calculant respectivement $F_3$ et $F_2$. Il n'en est rien, on va jusqu'au bout du calcul de $F_3$ avant de s'intéresser à $F_2$.\n",
    "- conséquence de la remarque précédente : le calcul de $F_2$ s'effectue 2 fois. Une amélioration future (appelée **mémoïsation**, voir le cours de programmation dynamique) sera de conserver cette valeur de $F_2$ afin d'améliorer les calculs."
   ]
  },
  {
   "cell_type": "markdown",
   "metadata": {},
   "source": [
    "#### 2.1.3 Comparaison des performances"
   ]
  },
  {
   "cell_type": "markdown",
   "metadata": {},
   "source": [
    "**Exercice :** écrire une fonction ```fibo_imperatif(n)``` qui calcule de façon directe (*impérative*) le n-ième terme de la suite de Fibonnaci."
   ]
  },
  {
   "cell_type": "code",
   "execution_count": 7,
   "metadata": {},
   "outputs": [],
   "source": []
  },
  {
   "cell_type": "markdown",
   "metadata": {},
   "source": [
    "Lien vers une [correction](https://gist.github.com/glassus/9ac28d8bcb12ac917bf17ea81afce288)"
   ]
  },
  {
   "cell_type": "markdown",
   "metadata": {},
   "source": [
    "Observons grâce au module ```timeit``` le temps moyen pris pour calculer $F(20)$ avec les deux fonctions ```fibo_imperatif()``` et ```fibo_recursif()```."
   ]
  },
  {
   "cell_type": "code",
   "execution_count": 23,
   "metadata": {},
   "outputs": [
    {
     "name": "stdout",
     "output_type": "stream",
     "text": [
      "1.02 µs ± 14 ns per loop (mean ± std. dev. of 7 runs, 1000000 loops each)\n"
     ]
    }
   ],
   "source": [
    "%timeit fibo_imperatif(20)"
   ]
  },
  {
   "cell_type": "code",
   "execution_count": 24,
   "metadata": {},
   "outputs": [
    {
     "name": "stdout",
     "output_type": "stream",
     "text": [
      "2.35 ms ± 10.8 µs per loop (mean ± std. dev. of 7 runs, 100 loops each)\n"
     ]
    }
   ],
   "source": [
    "%timeit fibo_recursif(20)"
   ]
  },
  {
   "cell_type": "markdown",
   "metadata": {},
   "source": [
    "La programmation récursive apparait donc comme quasiment 1000 fois plus lente que l'impérative."
   ]
  },
  {
   "cell_type": "markdown",
   "metadata": {},
   "source": [
    "### 2.1 Dessins récursifs grâce au module Turtle"
   ]
  },
  {
   "cell_type": "code",
   "execution_count": 2,
   "metadata": {
    "scrolled": true
   },
   "outputs": [
    {
     "ename": "Terminator",
     "evalue": "",
     "output_type": "error",
     "traceback": [
      "\u001b[0;31m---------------------------------------------------------------------------\u001b[0m",
      "\u001b[0;31mTerminator\u001b[0m                                Traceback (most recent call last)",
      "\u001b[0;32m<ipython-input-2-cbc14c24b2aa>\u001b[0m in \u001b[0;36m<module>\u001b[0;34m\u001b[0m\n\u001b[1;32m     28\u001b[0m \u001b[0mtrace\u001b[0m\u001b[0;34m(\u001b[0m\u001b[0;36m6\u001b[0m\u001b[0;34m,\u001b[0m\u001b[0;36m264\u001b[0m\u001b[0;34m)\u001b[0m\u001b[0;34m\u001b[0m\u001b[0;34m\u001b[0m\u001b[0m\n\u001b[1;32m     29\u001b[0m \u001b[0mexitonclick\u001b[0m\u001b[0;34m(\u001b[0m\u001b[0;34m)\u001b[0m\u001b[0;34m\u001b[0m\u001b[0;34m\u001b[0m\u001b[0m\n\u001b[0;32m---> 30\u001b[0;31m \u001b[0mmainloop\u001b[0m\u001b[0;34m(\u001b[0m\u001b[0;34m)\u001b[0m\u001b[0;34m\u001b[0m\u001b[0;34m\u001b[0m\u001b[0m\n\u001b[0m",
      "\u001b[0;32m~/anaconda3/lib/python3.7/turtle.py\u001b[0m in \u001b[0;36mmainloop\u001b[0;34m()\u001b[0m\n",
      "\u001b[0;31mTerminator\u001b[0m: "
     ]
    }
   ],
   "source": [
    "from turtle import *\n",
    "\n",
    "ang = 40\n",
    "\n",
    "def trace(n,l):\n",
    "    \n",
    "    if n == 0 :\n",
    "        return None\n",
    "    else :\n",
    "        forward(l)\n",
    "        left(ang)\n",
    "        pencolor(\"red\")\n",
    "        trace(n-1,0.5*l) # Premier appel récursif (branche1)\n",
    "        right(2*ang)\n",
    "        pencolor(\"blue\")\n",
    "        trace(n-1,0.5*l) # Second appel récursif (branche2)\n",
    "        left(ang)\n",
    "        penup()\n",
    "        forward(-l)\n",
    "        pendown()\n",
    "        \n",
    "penup()        \n",
    "goto(0,-240)\n",
    "pendown()\n",
    "left(90)\n",
    "speed(0)\n",
    "\n",
    "trace(6,264)\n",
    "exitonclick()\n",
    "mainloop()"
   ]
  },
  {
   "cell_type": "markdown",
   "metadata": {},
   "source": [
    "![](https://github.com/ebuonocore/NSIT_05_Recursivite/blob/main/data/arbre.gif?raw=true)"
   ]
  },
  {
   "cell_type": "markdown",
   "metadata": {},
   "source": [
    "---\n",
    "<p style=\"font-family:Comic Sans MS; text-align: center; color:gray; font-size: x-small; \">- Eric Buonocore. Octobre 2020 -<br>\n",
    "TRES largemet inspiré de  G.Lassus, Lycée François Mauriac --  Bordeaux </p>\n",
    "\n",
    "![Licence CC BY NC SA](https://licensebuttons.net/l/by-nc-sa/3.0/88x31.png)"
   ]
  }
 ],
 "metadata": {
  "kernelspec": {
   "display_name": "Python 3",
   "language": "python",
   "name": "python3"
  },
  "language_info": {
   "codemirror_mode": {
    "name": "ipython",
    "version": 3
   },
   "file_extension": ".py",
   "mimetype": "text/x-python",
   "name": "python",
   "nbconvert_exporter": "python",
   "pygments_lexer": "ipython3",
   "version": "3.7.6"
  }
 },
 "nbformat": 4,
 "nbformat_minor": 4
}
