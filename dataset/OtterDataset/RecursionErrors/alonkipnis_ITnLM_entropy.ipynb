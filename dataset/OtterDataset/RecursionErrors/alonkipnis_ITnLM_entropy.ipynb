{
 "cells": [
  {
   "cell_type": "markdown",
   "id": "4d5b5f73",
   "metadata": {},
   "source": [
    "# N-gram Lanuage Models"
   ]
  },
  {
   "cell_type": "markdown",
   "id": "9cf33f89",
   "metadata": {},
   "source": [
    "Our goal is to build a machine that assigns probabilities to words or sequences of words. We call such machine *language model*. \n",
    "\n",
    "The probability model is over the set of all finite sequences over a given vocabulary (aka alphabet) $\\mathcal W$, which is countable. \n"
   ]
  },
  {
   "cell_type": "markdown",
   "id": "2cee4a8d",
   "metadata": {},
   "source": [
    "\n",
    "A simple class of language models are N-gram model, in which we make the assumption:\n",
    "$$\n",
    "\\Pr[w_1,w_2,w_3,\\ldots,w_n] = \\prod_{i=1}^n \\Pr[w_i | w_{i-N+1},\\ldots,w_{i-1}] = \\prod_{i=1}^n \\Pr[w_i | w^{i-1}_{i-N+1}] \n",
    "$$\n",
    "where:\n",
    "$$ \n",
    "w^{m+p}_{m} := \\begin{cases} (w_m,\\ldots,w_{m+p}) & m \\geq 1, \\\\\n",
    "\\emptyset & m=0,\n",
    "\\end{cases}\n",
    "$$\n",
    "for $m,p \\in \\mathbb N$. \n",
    "\n",
    "\n",
    "For example, with $N=2$ we have:\n",
    "$$\n",
    "\\Pr[w_1,w_2,w_3,\\ldots,w_n] =  \\Pr[w_1]\\prod_{i=2}^n \\Pr[w_i | w_{i-1}] \n",
    "$$\n"
   ]
  },
  {
   "cell_type": "code",
   "execution_count": 241,
   "id": "8104a577",
   "metadata": {},
   "outputs": [],
   "source": [
    "import pandas as pd\n",
    "import numpy as np\n",
    "from matplotlib import pyplot as plt\n",
    "from tqdm import tqdm"
   ]
  },
  {
   "cell_type": "markdown",
   "id": "6b92722e",
   "metadata": {},
   "source": [
    "## Building N-gram models"
   ]
  },
  {
   "cell_type": "markdown",
   "id": "df781e93",
   "metadata": {},
   "source": [
    "### Large Movie Review Dataset\n",
    "From https://ai.stanford.edu/~amaas/data/sentiment/: This is a dataset for binary sentiment classification containing substantially more data than previous benchmark datasets. We provide a set of 25,000 highly polar movie reviews for training, and 25,000 for testing. There is additional unlabeled data for use as well. Raw text and already processed bag of words formats are provided. See the README file contained in the release for more details.\n",
    "\n",
    "(direct link https://ai.stanford.edu/~amaas/data/sentiment/aclImdb_v1.tar.gz)\n",
    "\n",
    "Here we use this dataset arranged in a .csv file as an be found at https://www.kaggle.com/datasets/lakshmi25npathi/imdb-dataset-of-50k-movie-reviews?resource=download\n"
   ]
  },
  {
   "cell_type": "markdown",
   "id": "41fef191",
   "metadata": {},
   "source": [
    "Read dataset file. Each row is a review. "
   ]
  },
  {
   "cell_type": "code",
   "execution_count": 242,
   "id": "a4d92d9d",
   "metadata": {},
   "outputs": [
    {
     "name": "stdout",
     "output_type": "stream",
     "text": [
      "                                                   review sentiment\n",
      "count                                               50000     50000\n",
      "unique                                              49582         2\n",
      "top     Loved today's show!!! It was a variety and not...  negative\n",
      "freq                                                    5     25000\n",
      "                                              review sentiment\n",
      "0  One of the other reviewers has mentioned that ...  positive\n",
      "1  A wonderful little production. <br /><br />The...  positive\n",
      "2  I thought this was a wonderful way to spend ti...  positive\n",
      "3  Basically there's a family where a little boy ...  negative\n",
      "4  Petter Mattei's \"Love in the Time of Money\" is...  positive\n"
     ]
    }
   ],
   "source": [
    "df = pd.read_csv(\"../Data/IMDB reviews.csv\")\n",
    "print(df.describe())\n",
    "print(df.head())"
   ]
  },
  {
   "cell_type": "markdown",
   "id": "52ad5f32",
   "metadata": {},
   "source": [
    "####  Add sentence start and end symbols:"
   ]
  },
  {
   "cell_type": "code",
   "execution_count": 243,
   "id": "592d6b29",
   "metadata": {},
   "outputs": [],
   "source": [
    "import re\n",
    "\n",
    "SENT_START_TOKEN = '<s>'\n",
    "SENT_END_TOKEN = '</s>'\n",
    "\n",
    "def break_sentence(text: str, sep=r'\\.|\\n') -> str:\n",
    "    \"\"\"\n",
    "    Add SENT_START_TOKEN and SENT_END_TOKEN at the beginning and\n",
    "    ending of every sentence. \n",
    "    \n",
    "    Args:\n",
    "        :text: is a text input\n",
    "        :sep: explains how to identify sentnce ending (regular expression)\n",
    "    \"\"\"\n",
    "    sentences = re.split(sep, text)\n",
    "    sent_break = f' {SENT_END_TOKEN} {SENT_START_TOKEN} '\n",
    "    return SENT_START_TOKEN + ' ' + sent_break.join(sentences) + ' ' + SENT_END_TOKEN\n",
    "\n",
    "df['review'] = df.review.apply(break_sentence)"
   ]
  },
  {
   "cell_type": "code",
   "execution_count": 244,
   "id": "bb8da5bb",
   "metadata": {},
   "outputs": [
    {
     "name": "stdout",
     "output_type": "stream",
     "text": [
      "                                              review sentiment\n",
      "0  <s> One of the other reviewers has mentioned t...  positive\n",
      "1  <s> A wonderful little production </s> <s>  <b...  positive\n",
      "2  <s> I thought this was a wonderful way to spen...  positive\n",
      "3  <s> Basically there's a family where a little ...  negative\n",
      "4  <s> Petter Mattei's \"Love in the Time of Money...  positive\n"
     ]
    }
   ],
   "source": [
    "print(df.head())"
   ]
  },
  {
   "cell_type": "markdown",
   "id": "0684d5fb",
   "metadata": {},
   "source": [
    "### Unigram Model:\n",
    "$$\n",
    "\\Pr[w_1,w_2,w_3,\\ldots,w_n] = \\prod_{i=1}^n \\Pr[w_i] \n",
    "$$\n",
    "(assign probability to sentences based on frequency of occurances of words regardless of neighboring words or their location in the sentence).\n"
   ]
  },
  {
   "cell_type": "markdown",
   "id": "fb76bb23",
   "metadata": {},
   "source": [
    "We first list all words. We ignore capitalization, numbers, punctuations and white spaces. We use this 'cleaning' process for simplicity, but it is not always a good idea and we may not do the same for more sophisticated models."
   ]
  },
  {
   "cell_type": "code",
   "execution_count": 245,
   "id": "9323df74",
   "metadata": {},
   "outputs": [
    {
     "name": "stderr",
     "output_type": "stream",
     "text": [
      "100%|██████████| 50000/50000 [00:06<00:00, 8141.37it/s] \n"
     ]
    }
   ],
   "source": [
    "TOKEN_PATTERN = r\"(?u)\\b[a-zA-Z]+\\b|\\</?s\\>\"\n",
    "\n",
    "tokens = []\n",
    "for sent in tqdm(df['review']):\n",
    "    tokens += re.findall(TOKEN_PATTERN, sent.lower())"
   ]
  },
  {
   "cell_type": "markdown",
   "id": "a611e0d6",
   "metadata": {},
   "source": [
    "(you can get yourself familiar with regular expressions at https://www.regular-expressions.info/)"
   ]
  },
  {
   "cell_type": "markdown",
   "id": "670c435f",
   "metadata": {},
   "source": [
    "The next line actualy does the counting; it uses ``value_counts`` method of ``pandas``"
   ]
  },
  {
   "cell_type": "code",
   "execution_count": 248,
   "id": "68b68c44",
   "metadata": {},
   "outputs": [],
   "source": [
    "df_counts = pd.DataFrame(pd.DataFrame(tokens).value_counts())\\\n",
    "                .rename(columns = {0 : 'count'})\n",
    "\n",
    "df_counts.loc[:, 'freq'] = df_counts['count'] / df_counts['count'].sum()\n",
    "model_1gram = df_counts"
   ]
  },
  {
   "cell_type": "code",
   "execution_count": 251,
   "id": "2fdbe328",
   "metadata": {},
   "outputs": [
    {
     "data": {
      "text/html": [
       "<div>\n",
       "<style scoped>\n",
       "    .dataframe tbody tr th:only-of-type {\n",
       "        vertical-align: middle;\n",
       "    }\n",
       "\n",
       "    .dataframe tbody tr th {\n",
       "        vertical-align: top;\n",
       "    }\n",
       "\n",
       "    .dataframe thead th {\n",
       "        text-align: right;\n",
       "    }\n",
       "</style>\n",
       "<table border=\"1\" class=\"dataframe\">\n",
       "  <thead>\n",
       "    <tr style=\"text-align: right;\">\n",
       "      <th></th>\n",
       "      <th>count</th>\n",
       "      <th>freq</th>\n",
       "    </tr>\n",
       "    <tr>\n",
       "      <th>0</th>\n",
       "      <th></th>\n",
       "      <th></th>\n",
       "    </tr>\n",
       "  </thead>\n",
       "  <tbody>\n",
       "    <tr>\n",
       "      <th>&lt;/s&gt;</th>\n",
       "      <td>700520</td>\n",
       "      <td>0.052692</td>\n",
       "    </tr>\n",
       "    <tr>\n",
       "      <th>&lt;s&gt;</th>\n",
       "      <td>700520</td>\n",
       "      <td>0.052692</td>\n",
       "    </tr>\n",
       "    <tr>\n",
       "      <th>the</th>\n",
       "      <td>667993</td>\n",
       "      <td>0.050246</td>\n",
       "    </tr>\n",
       "    <tr>\n",
       "      <th>and</th>\n",
       "      <td>324441</td>\n",
       "      <td>0.024404</td>\n",
       "    </tr>\n",
       "    <tr>\n",
       "      <th>a</th>\n",
       "      <td>322970</td>\n",
       "      <td>0.024294</td>\n",
       "    </tr>\n",
       "  </tbody>\n",
       "</table>\n",
       "</div>"
      ],
      "text/plain": [
       "       count      freq\n",
       "0                     \n",
       "</s>  700520  0.052692\n",
       "<s>   700520  0.052692\n",
       "the   667993  0.050246\n",
       "and   324441  0.024404\n",
       "a     322970  0.024294"
      ]
     },
     "execution_count": 251,
     "metadata": {},
     "output_type": "execute_result"
    }
   ],
   "source": [
    "model_1gram.head()"
   ]
  },
  {
   "cell_type": "markdown",
   "id": "565ec865",
   "metadata": {},
   "source": [
    "We see that the two special symbols are also most frequent. These symbols seems meaningless in a unigram model hence we remove them:"
   ]
  },
  {
   "cell_type": "code",
   "execution_count": 252,
   "id": "2984bd6d",
   "metadata": {},
   "outputs": [],
   "source": [
    "model_1gram = model_1gram.drop(['</s>', '<s>'])   # remove symbols\n",
    "model_1gram['freq'] = model_1gram['count'] / model_1gram['count'].sum()  # re-calculate frequencies"
   ]
  },
  {
   "cell_type": "code",
   "execution_count": 254,
   "id": "f6e96284",
   "metadata": {},
   "outputs": [
    {
     "data": {
      "text/html": [
       "<div>\n",
       "<style scoped>\n",
       "    .dataframe tbody tr th:only-of-type {\n",
       "        vertical-align: middle;\n",
       "    }\n",
       "\n",
       "    .dataframe tbody tr th {\n",
       "        vertical-align: top;\n",
       "    }\n",
       "\n",
       "    .dataframe thead th {\n",
       "        text-align: right;\n",
       "    }\n",
       "</style>\n",
       "<table border=\"1\" class=\"dataframe\">\n",
       "  <thead>\n",
       "    <tr style=\"text-align: right;\">\n",
       "      <th></th>\n",
       "      <th>count</th>\n",
       "      <th>freq</th>\n",
       "    </tr>\n",
       "    <tr>\n",
       "      <th>0</th>\n",
       "      <th></th>\n",
       "      <th></th>\n",
       "    </tr>\n",
       "  </thead>\n",
       "  <tbody>\n",
       "    <tr>\n",
       "      <th>the</th>\n",
       "      <td>667993</td>\n",
       "      <td>0.056165</td>\n",
       "    </tr>\n",
       "    <tr>\n",
       "      <th>and</th>\n",
       "      <td>324441</td>\n",
       "      <td>0.027279</td>\n",
       "    </tr>\n",
       "    <tr>\n",
       "      <th>a</th>\n",
       "      <td>322970</td>\n",
       "      <td>0.027155</td>\n",
       "    </tr>\n",
       "    <tr>\n",
       "      <th>of</th>\n",
       "      <td>289410</td>\n",
       "      <td>0.024334</td>\n",
       "    </tr>\n",
       "    <tr>\n",
       "      <th>to</th>\n",
       "      <td>268124</td>\n",
       "      <td>0.022544</td>\n",
       "    </tr>\n",
       "    <tr>\n",
       "      <th>is</th>\n",
       "      <td>211082</td>\n",
       "      <td>0.017748</td>\n",
       "    </tr>\n",
       "    <tr>\n",
       "      <th>br</th>\n",
       "      <td>201951</td>\n",
       "      <td>0.016980</td>\n",
       "    </tr>\n",
       "    <tr>\n",
       "      <th>it</th>\n",
       "      <td>190857</td>\n",
       "      <td>0.016047</td>\n",
       "    </tr>\n",
       "    <tr>\n",
       "      <th>in</th>\n",
       "      <td>186781</td>\n",
       "      <td>0.015705</td>\n",
       "    </tr>\n",
       "    <tr>\n",
       "      <th>i</th>\n",
       "      <td>175633</td>\n",
       "      <td>0.014767</td>\n",
       "    </tr>\n",
       "    <tr>\n",
       "      <th>this</th>\n",
       "      <td>151002</td>\n",
       "      <td>0.012696</td>\n",
       "    </tr>\n",
       "    <tr>\n",
       "      <th>that</th>\n",
       "      <td>143879</td>\n",
       "      <td>0.012097</td>\n",
       "    </tr>\n",
       "    <tr>\n",
       "      <th>s</th>\n",
       "      <td>125008</td>\n",
       "      <td>0.010511</td>\n",
       "    </tr>\n",
       "    <tr>\n",
       "      <th>was</th>\n",
       "      <td>95608</td>\n",
       "      <td>0.008039</td>\n",
       "    </tr>\n",
       "    <tr>\n",
       "      <th>as</th>\n",
       "      <td>91750</td>\n",
       "      <td>0.007714</td>\n",
       "    </tr>\n",
       "  </tbody>\n",
       "</table>\n",
       "</div>"
      ],
      "text/plain": [
       "       count      freq\n",
       "0                     \n",
       "the   667993  0.056165\n",
       "and   324441  0.027279\n",
       "a     322970  0.027155\n",
       "of    289410  0.024334\n",
       "to    268124  0.022544\n",
       "is    211082  0.017748\n",
       "br    201951  0.016980\n",
       "it    190857  0.016047\n",
       "in    186781  0.015705\n",
       "i     175633  0.014767\n",
       "this  151002  0.012696\n",
       "that  143879  0.012097\n",
       "s     125008  0.010511\n",
       "was    95608  0.008039\n",
       "as     91750  0.007714"
      ]
     },
     "execution_count": 254,
     "metadata": {},
     "output_type": "execute_result"
    }
   ],
   "source": [
    "model_1gram.head(15)"
   ]
  },
  {
   "cell_type": "markdown",
   "id": "6cf32c78",
   "metadata": {},
   "source": [
    "Illustrating \"Zipf law\" $f_i \\propto 1/i$ for uniframs. Zipf \"law\" is a phenomena discovered by American linguist George Kingsley Zipf\n",
    "https://en.wikipedia.org/wiki/George_Kingsley_Zipf\n",
    "\n",
    "The Zipf phenomena only occurs in the most frequent words, after which the tail become thiner than $1/i$ (converges to zero faster) "
   ]
  },
  {
   "cell_type": "code",
   "execution_count": 255,
   "id": "4d1d2c5f",
   "metadata": {},
   "outputs": [
    {
     "data": {
      "image/png": "[encoded data removed]",
      "text/plain": [
       "<Figure size 432x288 with 1 Axes>"
      ]
     },
     "metadata": {
      "needs_background": "light"
     },
     "output_type": "display_data"
    },
    {
     "data": {
      "image/png": "[encoded data removed]",
      "text/plain": [
       "<Figure size 432x288 with 1 Axes>"
      ]
     },
     "metadata": {
      "needs_background": "light"
     },
     "output_type": "display_data"
    },
    {
     "data": {
      "image/png": "[encoded data removed]",
      "text/plain": [
       "<Figure size 432x288 with 1 Axes>"
      ]
     },
     "metadata": {
      "needs_background": "light"
     },
     "output_type": "display_data"
    }
   ],
   "source": [
    "n = 5000\n",
    "plt.title(f\"Frequencies of first {n} words\")\n",
    "plt.plot(model_1gram.freq.values[:n])\n",
    "plt.show()\n",
    "\n",
    "plt.title(\"inverse\")\n",
    "plt.plot(1 / model_1gram.freq.values[:n])\n",
    "plt.show()\n",
    "\n",
    "plt.title(\"log-log\")\n",
    "plt.loglog(model_1gram.freq.values[:n])\n",
    "plt.show()"
   ]
  },
  {
   "cell_type": "markdown",
   "id": "372f8750",
   "metadata": {},
   "source": [
    "The entire procedure is summarized as follows"
   ]
  },
  {
   "cell_type": "code",
   "execution_count": 266,
   "id": "8722d40b",
   "metadata": {},
   "outputs": [
    {
     "data": {
      "text/html": [
       "<div>\n",
       "<style scoped>\n",
       "    .dataframe tbody tr th:only-of-type {\n",
       "        vertical-align: middle;\n",
       "    }\n",
       "\n",
       "    .dataframe tbody tr th {\n",
       "        vertical-align: top;\n",
       "    }\n",
       "\n",
       "    .dataframe thead th {\n",
       "        text-align: right;\n",
       "    }\n",
       "</style>\n",
       "<table border=\"1\" class=\"dataframe\">\n",
       "  <thead>\n",
       "    <tr style=\"text-align: right;\">\n",
       "      <th></th>\n",
       "      <th></th>\n",
       "      <th></th>\n",
       "      <th>count</th>\n",
       "      <th>freq</th>\n",
       "    </tr>\n",
       "    <tr>\n",
       "      <th>0</th>\n",
       "      <th>1</th>\n",
       "      <th>2</th>\n",
       "      <th></th>\n",
       "      <th></th>\n",
       "    </tr>\n",
       "  </thead>\n",
       "  <tbody>\n",
       "    <tr>\n",
       "      <th>&lt;s&gt;</th>\n",
       "      <th>it</th>\n",
       "      <th>s</th>\n",
       "      <td>11082</td>\n",
       "      <td>9.480760e-04</td>\n",
       "    </tr>\n",
       "    <tr>\n",
       "      <th>one</th>\n",
       "      <th>of</th>\n",
       "      <th>the</th>\n",
       "      <td>9819</td>\n",
       "      <td>8.400251e-04</td>\n",
       "    </tr>\n",
       "    <tr>\n",
       "      <th rowspan=\"3\" valign=\"top\">&lt;s&gt;</th>\n",
       "      <th>this</th>\n",
       "      <th>is</th>\n",
       "      <td>8664</td>\n",
       "      <td>7.412137e-04</td>\n",
       "    </tr>\n",
       "    <tr>\n",
       "      <th>it</th>\n",
       "      <th>is</th>\n",
       "      <td>5913</td>\n",
       "      <td>5.058630e-04</td>\n",
       "    </tr>\n",
       "    <tr>\n",
       "      <th>if</th>\n",
       "      <th>you</th>\n",
       "      <td>5818</td>\n",
       "      <td>4.977356e-04</td>\n",
       "    </tr>\n",
       "    <tr>\n",
       "      <th>...</th>\n",
       "      <th>...</th>\n",
       "      <th>...</th>\n",
       "      <td>...</td>\n",
       "      <td>...</td>\n",
       "    </tr>\n",
       "    <tr>\n",
       "      <th rowspan=\"4\" valign=\"top\">greg</th>\n",
       "      <th>mclane</th>\n",
       "      <th>give</th>\n",
       "      <td>1</td>\n",
       "      <td>8.555099e-08</td>\n",
       "    </tr>\n",
       "    <tr>\n",
       "      <th>matthews</th>\n",
       "      <th>&lt;/s&gt;</th>\n",
       "      <td>1</td>\n",
       "      <td>8.555099e-08</td>\n",
       "    </tr>\n",
       "    <tr>\n",
       "      <th>lombardo</th>\n",
       "      <th>s</th>\n",
       "      <td>1</td>\n",
       "      <td>8.555099e-08</td>\n",
       "    </tr>\n",
       "    <tr>\n",
       "      <th>leaps</th>\n",
       "      <th>and</th>\n",
       "      <td>1</td>\n",
       "      <td>8.555099e-08</td>\n",
       "    </tr>\n",
       "    <tr>\n",
       "      <th>zzzzzzzzzzzzzzzzzz</th>\n",
       "      <th>if</th>\n",
       "      <th>imdb</th>\n",
       "      <td>1</td>\n",
       "      <td>8.555099e-08</td>\n",
       "    </tr>\n",
       "  </tbody>\n",
       "</table>\n",
       "<p>6025088 rows × 2 columns</p>\n",
       "</div>"
      ],
      "text/plain": [
       "                                  count          freq\n",
       "0                  1        2                        \n",
       "<s>                it       s     11082  9.480760e-04\n",
       "one                of       the    9819  8.400251e-04\n",
       "<s>                this     is     8664  7.412137e-04\n",
       "                   it       is     5913  5.058630e-04\n",
       "                   if       you    5818  4.977356e-04\n",
       "...                                 ...           ...\n",
       "greg               mclane   give      1  8.555099e-08\n",
       "                   matthews </s>      1  8.555099e-08\n",
       "                   lombardo s         1  8.555099e-08\n",
       "                   leaps    and       1  8.555099e-08\n",
       "zzzzzzzzzzzzzzzzzz if       imdb      1  8.555099e-08\n",
       "\n",
       "[6025088 rows x 2 columns]"
      ]
     },
     "execution_count": 266,
     "metadata": {},
     "output_type": "execute_result"
    }
   ],
   "source": [
    "model_3gram"
   ]
  },
  {
   "cell_type": "code",
   "execution_count": 256,
   "id": "303199c7",
   "metadata": {},
   "outputs": [],
   "source": [
    "from nltk import ngrams\n",
    "\n",
    "def ng_tokenize(text: str, ng: int) -> list:\n",
    "    \"\"\"\n",
    "    extract ngram and add sepcial symbols\n",
    "    \n",
    "    Args:\n",
    "      :text:  text\n",
    "      :ng:    ngram level\n",
    "      \n",
    "    Returns:\n",
    "      list of ngrams \n",
    "    \"\"\"\n",
    "    tokens = re.findall(TOKEN_PATTERN, text.lower())\n",
    "    ngz = ngrams(tokens, ng,\n",
    "                 pad_left=True, pad_right=True,\n",
    "                 left_pad_symbol=SENT_START_TOKEN,\n",
    "                 right_pad_symbol=SENT_END_TOKEN)\n",
    "    return list(ngz)\n",
    "\n",
    "\n",
    "def build_ngram_model(text: str, ng: int) -> pd.DataFrame:\n",
    "    \"\"\"\n",
    "    1. Clean text, \n",
    "    2. Add sentence begin and end symbols\n",
    "    3. Extract ngrams\n",
    "    4. Remove unwanted tokens\n",
    "    5. Compute frequency of every token\n",
    "    \n",
    "    Returns:\n",
    "      dataframe. Indexes are ngrams. Columns indiacte number of occurances \n",
    "      and frequency of occurance\n",
    "    \"\"\"\n",
    "    print(\"Cleaning text...\")\n",
    "    text = re.sub(r\"<br ?/>\",\"\", text)  # remove html tags <br /> and <br/>\n",
    "    print(\"Extracting tokens...\")\n",
    "    tokens = ng_tokenize(text, ng)\n",
    "    print(\"Removing unwanted tokens...\")\n",
    "    tokens = [t for t in tokens if not (('<s>' in t[1:]) or ('</s>' in t[:-1]) or (t == (\"<s>\", \"</s>\")))]\n",
    "    print(\"Counting tokens...\")\n",
    "    df_ng = pd.DataFrame(pd.DataFrame(tokens).value_counts()).rename(columns = {0 : 'count'})\n",
    "    print(\"Computing frequencies...\")\n",
    "    df_ng.loc[:, 'freq'] = df_ng['count'] / df_ng['count'].sum()  # compute frequencies\n",
    "    return df_ng"
   ]
  },
  {
   "cell_type": "markdown",
   "id": "35f4d5c1",
   "metadata": {},
   "source": [
    "### Bigram Model:\n",
    "$$\n",
    "\\Pr[w_1,w_2,w_3,\\ldots,w_n] = \\prod_{i=1}^n \\Pr[w_i|w_{i-1}] \n",
    "$$\n",
    "(assign probability to sentences based on frequency of occurances of a word given the previous word in the sentence).\n"
   ]
  },
  {
   "cell_type": "code",
   "execution_count": 257,
   "id": "da6f3c81",
   "metadata": {},
   "outputs": [
    {
     "name": "stdout",
     "output_type": "stream",
     "text": [
      "Cleaning text...\n",
      "Extracting tokens...\n",
      "Removing unwanted tokens...\n",
      "Counting tokens...\n",
      "Computing frequencies...\n"
     ]
    }
   ],
   "source": [
    "model_2gram = build_ngram_model(\" \".join(df.review), 2)"
   ]
  },
  {
   "cell_type": "code",
   "execution_count": 260,
   "id": "61ad602e",
   "metadata": {},
   "outputs": [
    {
     "name": "stdout",
     "output_type": "stream",
     "text": [
      " 15 most frequenct tokens:\n"
     ]
    },
    {
     "data": {
      "text/html": [
       "<div>\n",
       "<style scoped>\n",
       "    .dataframe tbody tr th:only-of-type {\n",
       "        vertical-align: middle;\n",
       "    }\n",
       "\n",
       "    .dataframe tbody tr th {\n",
       "        vertical-align: top;\n",
       "    }\n",
       "\n",
       "    .dataframe thead th {\n",
       "        text-align: right;\n",
       "    }\n",
       "</style>\n",
       "<table border=\"1\" class=\"dataframe\">\n",
       "  <thead>\n",
       "    <tr style=\"text-align: right;\">\n",
       "      <th></th>\n",
       "      <th></th>\n",
       "      <th>count</th>\n",
       "      <th>freq</th>\n",
       "    </tr>\n",
       "    <tr>\n",
       "      <th>0</th>\n",
       "      <th>1</th>\n",
       "      <th></th>\n",
       "      <th></th>\n",
       "    </tr>\n",
       "  </thead>\n",
       "  <tbody>\n",
       "    <tr>\n",
       "      <th>of</th>\n",
       "      <th>the</th>\n",
       "      <td>77220</td>\n",
       "      <td>6.283635e-03</td>\n",
       "    </tr>\n",
       "    <tr>\n",
       "      <th rowspan=\"2\" valign=\"top\">&lt;s&gt;</th>\n",
       "      <th>the</th>\n",
       "      <td>72914</td>\n",
       "      <td>5.933242e-03</td>\n",
       "    </tr>\n",
       "    <tr>\n",
       "      <th>i</th>\n",
       "      <td>60028</td>\n",
       "      <td>4.884668e-03</td>\n",
       "    </tr>\n",
       "    <tr>\n",
       "      <th>in</th>\n",
       "      <th>the</th>\n",
       "      <td>50258</td>\n",
       "      <td>4.089652e-03</td>\n",
       "    </tr>\n",
       "    <tr>\n",
       "      <th>&lt;s&gt;</th>\n",
       "      <th>it</th>\n",
       "      <td>33949</td>\n",
       "      <td>2.762537e-03</td>\n",
       "    </tr>\n",
       "    <tr>\n",
       "      <th>...</th>\n",
       "      <th>...</th>\n",
       "      <td>...</td>\n",
       "      <td>...</td>\n",
       "    </tr>\n",
       "    <tr>\n",
       "      <th rowspan=\"4\" valign=\"top\">help</th>\n",
       "      <th>although</th>\n",
       "      <td>1</td>\n",
       "      <td>8.137316e-08</td>\n",
       "    </tr>\n",
       "    <tr>\n",
       "      <th>alicia</th>\n",
       "      <td>1</td>\n",
       "      <td>8.137316e-08</td>\n",
       "    </tr>\n",
       "    <tr>\n",
       "      <th>aidan</th>\n",
       "      <td>1</td>\n",
       "      <td>8.137316e-08</td>\n",
       "    </tr>\n",
       "    <tr>\n",
       "      <th>aid</th>\n",
       "      <td>1</td>\n",
       "      <td>8.137316e-08</td>\n",
       "    </tr>\n",
       "    <tr>\n",
       "      <th>zzzzzzzzzzzzzzzzzzzzzzzzzzzzzzzzzzzzzzzzzzzz</th>\n",
       "      <th>&lt;/s&gt;</th>\n",
       "      <td>1</td>\n",
       "      <td>8.137316e-08</td>\n",
       "    </tr>\n",
       "  </tbody>\n",
       "</table>\n",
       "<p>2109806 rows × 2 columns</p>\n",
       "</div>"
      ],
      "text/plain": [
       "                                                       count          freq\n",
       "0                                            1                            \n",
       "of                                           the       77220  6.283635e-03\n",
       "<s>                                          the       72914  5.933242e-03\n",
       "                                             i         60028  4.884668e-03\n",
       "in                                           the       50258  4.089652e-03\n",
       "<s>                                          it        33949  2.762537e-03\n",
       "...                                                      ...           ...\n",
       "help                                         although      1  8.137316e-08\n",
       "                                             alicia        1  8.137316e-08\n",
       "                                             aidan         1  8.137316e-08\n",
       "                                             aid           1  8.137316e-08\n",
       "zzzzzzzzzzzzzzzzzzzzzzzzzzzzzzzzzzzzzzzzzzzz </s>          1  8.137316e-08\n",
       "\n",
       "[2109806 rows x 2 columns]"
      ]
     },
     "execution_count": 260,
     "metadata": {},
     "output_type": "execute_result"
    }
   ],
   "source": [
    "k = 15\n",
    "print(f\" {k} most frequenct tokens:\")\n",
    "model_2gram"
   ]
  },
  {
   "cell_type": "markdown",
   "id": "9f30be42",
   "metadata": {},
   "source": [
    "Bigrams also obey the Zipf law:"
   ]
  },
  {
   "cell_type": "code",
   "execution_count": 262,
   "id": "16c69d7e",
   "metadata": {},
   "outputs": [
    {
     "data": {
      "image/png": "[encoded data removed]",
      "text/plain": [
       "<Figure size 432x288 with 1 Axes>"
      ]
     },
     "metadata": {
      "needs_background": "light"
     },
     "output_type": "display_data"
    },
    {
     "data": {
      "image/png": "[encoded data removed]",
      "text/plain": [
       "<Figure size 432x288 with 1 Axes>"
      ]
     },
     "metadata": {
      "needs_background": "light"
     },
     "output_type": "display_data"
    }
   ],
   "source": [
    "plt.title(\"inverse\")\n",
    "plt.plot(1 / model_2gram.freq.values[:1000])\n",
    "plt.show()\n",
    "\n",
    "plt.title(\"log-log\")\n",
    "plt.loglog(model_2gram.freq.values[:1000])\n",
    "plt.show()"
   ]
  },
  {
   "cell_type": "markdown",
   "id": "5b3424bf",
   "metadata": {},
   "source": [
    "### Trigram Model\n",
    "\n",
    "$$\n",
    "\\Pr[w_1,w_2,w_3,\\ldots,w_n] = \\prod_{i=1}^n \\Pr[w_i|w_{i-1},w_{i-2}] \n",
    "$$\n"
   ]
  },
  {
   "cell_type": "code",
   "execution_count": 263,
   "id": "c709c52c",
   "metadata": {},
   "outputs": [
    {
     "name": "stdout",
     "output_type": "stream",
     "text": [
      "Cleaning text...\n",
      "Extracting tokens...\n",
      "Removing unwanted tokens...\n",
      "Counting tokens...\n",
      "Computing frequencies...\n"
     ]
    }
   ],
   "source": [
    "model_3gram = build_ngram_model(\" \".join(df.review), ng=3)"
   ]
  },
  {
   "cell_type": "code",
   "execution_count": 264,
   "id": "ee0ce7a7",
   "metadata": {},
   "outputs": [
    {
     "name": "stdout",
     "output_type": "stream",
     "text": [
      "15 most frequent 3grams:\n",
      "                  count      freq\n",
      "0    1     2                     \n",
      "<s>  it    s      11082  0.000948\n",
      "one  of    the     9819  0.000840\n",
      "<s>  this  is      8664  0.000741\n",
      "     it    is      5913  0.000506\n",
      "     if    you     5818  0.000498\n",
      "     this  movie   5757  0.000493\n",
      "i    don   t       5415  0.000463\n",
      "this movie is      5262  0.000450\n",
      "of   the   film    5169  0.000442\n",
      "this is    a       4810  0.000412\n",
      "it   s     a       4700  0.000402\n",
      "a    lot   of      4694  0.000402\n",
      "this movie </s>    4468  0.000382\n",
      "of   the   movie   4325  0.000370\n",
      "<s>  the   film    4324  0.000370\n"
     ]
    }
   ],
   "source": [
    "k = 15\n",
    "print(f\"{k} most frequent 3grams:\")\n",
    "print(model_3gram.head(k))"
   ]
  },
  {
   "cell_type": "markdown",
   "id": "3cc1083f",
   "metadata": {},
   "source": [
    "# Sentence probability\n"
   ]
  },
  {
   "cell_type": "code",
   "execution_count": 268,
   "id": "16153975",
   "metadata": {},
   "outputs": [],
   "source": [
    "class State(object):\n",
    "    \"\"\"\n",
    "    class to manage sequential state progression\n",
    "    \n",
    "    Args:\n",
    "        past, present, future are lists\n",
    "        \n",
    "    Methods:\n",
    "        State::step   update one step in time, so that the present \n",
    "        is appended to the past and the present gets the next value from the future\n",
    "    \"\"\"\n",
    "    def __init__(self, past: list, present: list, future: list):\n",
    "        self.past = past\n",
    "        self.present = present\n",
    "        self.future = future\n",
    "        \n",
    "    def step(self):\n",
    "        self.past += self.present\n",
    "        if len(self.future) > 0:\n",
    "            self.present = [self.future.pop(0)]\n",
    "        else:\n",
    "            self.present = []\n",
    "            self.future = []\n",
    "            \n",
    "    def print_state(self):\n",
    "        print(\"past:\", self.past)\n",
    "        print(\"present:\", self.present)\n",
    "        print(\"future:\", self.future)\n"
   ]
  },
  {
   "cell_type": "code",
   "execution_count": 280,
   "id": "c1a9f943",
   "metadata": {},
   "outputs": [],
   "source": [
    "\n",
    "def token_probability(token : str, model: pd.DataFrame) -> float:\n",
    "    \"\"\"\n",
    "    probability of a token under the model\n",
    "    \n",
    "    Note: gives the marginal if number of ngrams in token is smaller\n",
    "    than the size of the model\n",
    "    \n",
    "    If token = \"\" then return 1\n",
    "    \n",
    "    \"\"\"\n",
    "    if len(token) == 0:  \n",
    "        return 1     # we define that an empty token has probability 1\n",
    "    token_idx = tuple(token)\n",
    "    \n",
    "    if token == '<s>':\n",
    "        return 1\n",
    "    \n",
    "    if token_idx in model.index:\n",
    "        return model.loc[token_idx].freq.sum()\n",
    "    # else:     \n",
    "    print(f\"Unrecognized Token {token}\")\n",
    "    raise ValueError                \n",
    "    \n",
    "\n",
    "def conditional_probability(token_a: list, token_b: list, model: pd.DataFrame, verbose=False) -> float:\n",
    "    \"\"\"\n",
    "    Probability of token_a given token_b under the model\n",
    "    (token can contain multiple words depending on the model definition)\n",
    "    \"\"\"\n",
    "    \n",
    "    pr_b = token_probability(token_b, model)\n",
    "    pr_ab = token_probability(token_b + token_a, model)\n",
    "    return pr_ab / pr_b\n",
    "    \n",
    "    \n",
    "def sentence_probability(sent: str, model: pd.DataFrame,\n",
    "                         verbose=False, backoff=False) -> float:\n",
    "    \"\"\"\n",
    "    Probability of a sentence under an n-gram languge model\n",
    "    \n",
    "    Args:\n",
    "        :sent:    the sentence \n",
    "        :model:   the model\n",
    "        :verbose: flag whther to print computing process\n",
    "        :bakcoff: try backing off to handle unknown ngrams\n",
    "        \n",
    "    Returns:\n",
    "       probability\n",
    "    \"\"\"\n",
    "    \n",
    "    ng = len(model.index[0])  # identify model order\n",
    "\n",
    "    sent_atoms = sent.split()  \n",
    "    first_token = sent_atoms[:1] \n",
    "\n",
    "    word_stream = State(past=[], present=first_token, future=sent_atoms[1:])\n",
    "\n",
    "    # update state\n",
    "    logprob = 0\n",
    "    while len(word_stream.present) > 0:\n",
    "        if backoff:\n",
    "            pr_token = conditional_probability_backoff(word_stream.present,\n",
    "                                                       word_stream.past[-ng+1:],\n",
    "                                                       model, verbose=verbose)\n",
    "        else:\n",
    "            pr_token = conditional_probability(word_stream.present, word_stream.past[-ng+1:],\n",
    "                                               model)\n",
    "        logprob += np.log(pr_token)\n",
    "        if verbose:\n",
    "            word_stream.print_state()\n",
    "            print(f\"P(present|past) = {pr_token}\")\n",
    "            print(\"------------------------------------\")\n",
    "        word_stream.step()\n",
    "\n",
    "    return np.exp(logprob)\n",
    "\n",
    "\n",
    "def conditional_probability_backoff(token_a:str, token_b:str, model: pd.DataFrame, verbose=False) -> float:\n",
    "    \"\"\"\n",
    "    same as `conditional_probability` but backs off if n-gram token_a || token_b \n",
    "    does not exists in the model \n",
    "    \n",
    "     \"\"\"\n",
    "    \n",
    "    joint_token_idx = tuple(token_b + token_a)\n",
    "    \n",
    "    if joint_token_idx not in model.index:\n",
    "        if verbose:\n",
    "            print(f\"Token_a = {token_a}, Backing-off from {token_b} to {token_b[1:]}...\")\n",
    "        return conditional_probability_backoff(token_a, token_b[1:], model)\n",
    "    else:\n",
    "        return conditional_probability(token_a, token_b, model)\n",
    "    return pr_ab / pr_b\n",
    "    \n"
   ]
  },
  {
   "cell_type": "markdown",
   "id": "056c7548",
   "metadata": {},
   "source": [
    "Make sure that conditional probability behaves as expected:"
   ]
  },
  {
   "cell_type": "code",
   "execution_count": 281,
   "id": "588a69dc",
   "metadata": {},
   "outputs": [],
   "source": [
    "test_tokens = ['<s>', 'on', 'of', 'there', 'movie']\n",
    "for t in test_tokens:\n",
    "    assert conditional_probability([t],[], model_2gram) == token_probability([t], model_2gram)"
   ]
  },
  {
   "cell_type": "markdown",
   "id": "4294cd0b",
   "metadata": {},
   "source": [
    "### Probability of a bigram:"
   ]
  },
  {
   "cell_type": "code",
   "execution_count": 282,
   "id": "b50a171a",
   "metadata": {},
   "outputs": [
    {
     "name": "stdout",
     "output_type": "stream",
     "text": [
      "0.30314453671736497\n",
      "0.0013218255416502392\n",
      "7.921010475950982e-07\n",
      "9.728991203263123e-05\n",
      "1.0761849552581969e-05\n"
     ]
    }
   ],
   "source": [
    "print(conditional_probability(['of'], ['one'], model_2gram)) #* token_probability('one', model_2gram))\n",
    "print(sentence_probability(\"one of\", model_2gram))\n",
    "print(sentence_probability(\"<s> one of </s>\", model_2gram))\n",
    "print(sentence_probability(\"<s> one of\", model_2gram))\n",
    "print(sentence_probability(\"one of </s>\", model_2gram))"
   ]
  },
  {
   "cell_type": "markdown",
   "id": "a81d125f",
   "metadata": {},
   "source": [
    "Explain the differences"
   ]
  },
  {
   "cell_type": "markdown",
   "id": "b63c9772",
   "metadata": {},
   "source": [
    "#### Probability of a longer sentence:"
   ]
  },
  {
   "cell_type": "markdown",
   "id": "ca49c354",
   "metadata": {},
   "source": [
    "##### Bigram model:"
   ]
  },
  {
   "cell_type": "code",
   "execution_count": 283,
   "id": "af64a187",
   "metadata": {},
   "outputs": [
    {
     "name": "stdout",
     "output_type": "stream",
     "text": [
      "past: []\n",
      "present: ['<s>']\n",
      "future: ['what', 'a', 'great', 'movie', 'it', 'was', '</s>']\n",
      "P(present|past) = 0.04883439057405914\n",
      "------------------------------------\n",
      "past: ['<s>']\n",
      "present: ['what']\n",
      "future: ['a', 'great', 'movie', 'it', 'was', '</s>']\n",
      "P(present|past) = 0.009046388359835967\n",
      "------------------------------------\n",
      "past: ['<s>', 'what']\n",
      "present: ['a']\n",
      "future: ['great', 'movie', 'it', 'was', '</s>']\n",
      "P(present|past) = 0.059117428003972204\n",
      "------------------------------------\n",
      "past: ['<s>', 'what', 'a']\n",
      "present: ['great']\n",
      "future: ['movie', 'it', 'was', '</s>']\n",
      "P(present|past) = 0.01866883871027684\n",
      "------------------------------------\n",
      "past: ['<s>', 'what', 'a', 'great']\n",
      "present: ['movie']\n",
      "future: ['it', 'was', '</s>']\n",
      "P(present|past) = 0.04405602117335686\n",
      "------------------------------------\n",
      "past: ['<s>', 'what', 'a', 'great', 'movie']\n",
      "present: ['it']\n",
      "future: ['was', '</s>']\n",
      "P(present|past) = 0.01125831580144425\n",
      "------------------------------------\n",
      "past: ['<s>', 'what', 'a', 'great', 'movie', 'it']\n",
      "present: ['was']\n",
      "future: ['</s>']\n",
      "P(present|past) = 0.08854251287991151\n",
      "------------------------------------\n",
      "past: ['<s>', 'what', 'a', 'great', 'movie', 'it', 'was']\n",
      "present: ['</s>']\n",
      "future: []\n",
      "P(present|past) = 0.01233470036826247\n",
      "------------------------------------\n",
      "2.641149479780036e-13\n"
     ]
    }
   ],
   "source": [
    "# fix start token prob\n",
    "print(sentence_probability(\"<s> what a great movie it was </s>\", model_2gram, verbose=True))"
   ]
  },
  {
   "cell_type": "markdown",
   "id": "b0483301",
   "metadata": {},
   "source": [
    "##### Trigram model"
   ]
  },
  {
   "cell_type": "code",
   "execution_count": 273,
   "id": "e76512a0",
   "metadata": {},
   "outputs": [
    {
     "name": "stdout",
     "output_type": "stream",
     "text": [
      "past: []\n",
      "present: ['<s>']\n",
      "future: ['what', 'a', 'great', 'movie', 'it', 'was', '</s>']\n",
      "P(present|past) = 0.05134162767252725\n",
      "------------------------------------\n",
      "past: ['<s>']\n",
      "present: ['what']\n",
      "future: ['a', 'great', 'movie', 'it', 'was', '</s>']\n",
      "P(present|past) = 0.009046388359835969\n",
      "------------------------------------\n",
      "past: ['<s>', 'what']\n",
      "present: ['a']\n",
      "future: ['great', 'movie', 'it', 'was', '</s>']\n",
      "P(present|past) = 0.1510407073125806\n",
      "------------------------------------\n",
      "past: ['<s>', 'what', 'a']\n",
      "present: ['great']\n",
      "future: ['movie', 'it', 'was', '</s>']\n",
      "P(present|past) = 0.05984251968503937\n",
      "------------------------------------\n",
      "past: ['<s>', 'what', 'a', 'great']\n",
      "present: ['movie']\n",
      "future: ['it', 'was', '</s>']\n",
      "P(present|past) = 0.0975447909754479\n",
      "------------------------------------\n",
      "past: ['<s>', 'what', 'a', 'great', 'movie']\n",
      "present: ['it']\n",
      "future: ['was', '</s>']\n",
      "P(present|past) = 0.02377972465581978\n",
      "------------------------------------\n",
      "past: ['<s>', 'what', 'a', 'great', 'movie', 'it']\n",
      "present: ['was']\n",
      "future: ['</s>']\n",
      "P(present|past) = 0.11818181818181817\n",
      "------------------------------------\n",
      "past: ['<s>', 'what', 'a', 'great', 'movie', 'it', 'was']\n",
      "present: ['</s>']\n",
      "future: []\n",
      "P(present|past) = 0.019947910500769505\n",
      "------------------------------------\n",
      "2.295660835856814e-11\n"
     ]
    }
   ],
   "source": [
    "print(sentence_probability(\"<s> what a great movie it was </s>\", model_3gram, verbose=True))"
   ]
  },
  {
   "cell_type": "markdown",
   "id": "6f306da7",
   "metadata": {},
   "source": [
    "Trigram probability is generally higher for \"natural\" sentences"
   ]
  },
  {
   "cell_type": "code",
   "execution_count": 275,
   "id": "e6cfccce",
   "metadata": {},
   "outputs": [
    {
     "name": "stdout",
     "output_type": "stream",
     "text": [
      "-15.854701961258888\n"
     ]
    }
   ],
   "source": [
    "print(np.log(sentence_probability(\"a great action movie\", model_3gram)))"
   ]
  },
  {
   "cell_type": "code",
   "execution_count": 276,
   "id": "5a2482d6",
   "metadata": {},
   "outputs": [
    {
     "name": "stdout",
     "output_type": "stream",
     "text": [
      "-18.353594853021626\n"
     ]
    }
   ],
   "source": [
    "print(np.log(sentence_probability(\"a great car movie\", model_3gram)))"
   ]
  },
  {
   "cell_type": "code",
   "execution_count": 277,
   "id": "5baf9f99",
   "metadata": {},
   "outputs": [
    {
     "name": "stdout",
     "output_type": "stream",
     "text": [
      "2gram probability of '<s> a wonderful little production </s>': p =  8.746416808025598e-13\n",
      "3gram probability of '<s> a wonderful little production </s>': p =  7.385032510793528e-10\n"
     ]
    }
   ],
   "source": [
    "sent = \"<s> a wonderful little production </s>\"\n",
    "print(f\"2gram probability of '{sent}': p = \", sentence_probability(sent, model_2gram))\n",
    "print(f\"3gram probability of '{sent}': p = \", sentence_probability(sent, model_3gram))"
   ]
  },
  {
   "cell_type": "markdown",
   "id": "513df59f",
   "metadata": {},
   "source": [
    "In general, the 3-gram model suppose to give higher probabilities to more English looking sentences"
   ]
  },
  {
   "cell_type": "markdown",
   "id": "91abf7e6",
   "metadata": {},
   "source": [
    "### What kinds of knowledge we can get from a model?"
   ]
  },
  {
   "cell_type": "code",
   "execution_count": 284,
   "id": "859640b0",
   "metadata": {},
   "outputs": [
    {
     "name": "stdout",
     "output_type": "stream",
     "text": [
      "actor vs. actress\n",
      "=================\n",
      "good\n",
      "\t actor:  0.006785661602006195\n",
      "\t actress:  0.0033190736096769436\n",
      "\t ratio:  2.0444444444444443\n",
      "great\n",
      "\t actor:  0.011454619835193736\n",
      "\t actress:  0.004675355034772954\n",
      "\t ratio:  2.45\n",
      "talented\n",
      "\t actor:  0.04562043795620438\n",
      "\t actress:  0.03375912408759124\n",
      "\t ratio:  1.3513513513513513\n",
      "poor\n",
      "\t actor:  0.001956400223588597\n",
      "\t actress:  0.0005589714924538849\n",
      "\t ratio:  3.5\n"
     ]
    }
   ],
   "source": [
    "model = model_3gram\n",
    "print(\"actor vs. actress\")\n",
    "print(\"=================\")\n",
    "\n",
    "for w in ['good', 'great', 'talented', 'poor']:\n",
    "    print(w)\n",
    "    p1 = conditional_probability(['actor'], [w.lower()], model)\n",
    "    p2 = conditional_probability(['actress'], [w.lower()], model)\n",
    "    print(\"\\t\",\"actor: \", p1)\n",
    "    print(\"\\t\",\"actress: \", p2)\n",
    "    print(\"\\t\",\"ratio: \", p1/p2)\n"
   ]
  },
  {
   "cell_type": "markdown",
   "id": "4c745453",
   "metadata": {},
   "source": [
    "Gramer correction:"
   ]
  },
  {
   "cell_type": "code",
   "execution_count": 286,
   "id": "c0f90552",
   "metadata": {},
   "outputs": [
    {
     "name": "stdout",
     "output_type": "stream",
     "text": [
      "6.432560444406259e-12\n",
      "3.83421553604735e-12\n"
     ]
    }
   ],
   "source": [
    "model = model_2gram\n",
    "print(sentence_probability(\"one of the best action movies ever\", model))\n",
    "print(sentence_probability(\"one of the best action movie ever\", model))"
   ]
  },
  {
   "cell_type": "code",
   "execution_count": 287,
   "id": "5f075539",
   "metadata": {},
   "outputs": [
    {
     "name": "stdout",
     "output_type": "stream",
     "text": [
      "1.1032043046705936e-07\n",
      "5.704782430401612e-09\n"
     ]
    }
   ],
   "source": [
    "model = model_2gram\n",
    "print(sentence_probability(\"talking to her\", model))\n",
    "print(sentence_probability(\"talking at her\", model))"
   ]
  },
  {
   "cell_type": "markdown",
   "id": "ccf8a1c6",
   "metadata": {},
   "source": [
    "Movies are more likely to be watched than read:"
   ]
  },
  {
   "cell_type": "code",
   "execution_count": 288,
   "id": "17ea4dbf",
   "metadata": {},
   "outputs": [
    {
     "name": "stdout",
     "output_type": "stream",
     "text": [
      "5.421248159871611e-15\n",
      "5.748805396404806e-12\n"
     ]
    }
   ],
   "source": [
    "print(sentence_probability(\"<s> only one movie to read </s>\", model_3gram))\n",
    "print(sentence_probability(\"<s> only one movie to watch </s>\", model_3gram))"
   ]
  },
  {
   "cell_type": "markdown",
   "id": "762c1c35",
   "metadata": {},
   "source": [
    "### The method breaks when we ask for unseen ngrams:"
   ]
  },
  {
   "cell_type": "code",
   "execution_count": 289,
   "id": "11eb380a",
   "metadata": {},
   "outputs": [
    {
     "name": "stdout",
     "output_type": "stream",
     "text": [
      "Unrecognized Token ['movie', 'to', 'bake']\n"
     ]
    },
    {
     "ename": "ValueError",
     "evalue": "",
     "output_type": "error",
     "traceback": [
      "\u001b[0;31m---------------------------------------------------------------------------\u001b[0m",
      "\u001b[0;31mValueError\u001b[0m                                Traceback (most recent call last)",
      "\u001b[0;32m<ipython-input-289-5f0909a34681>\u001b[0m in \u001b[0;36m<module>\u001b[0;34m\u001b[0m\n\u001b[0;32m----> 1\u001b[0;31m \u001b[0mprint\u001b[0m\u001b[0;34m(\u001b[0m\u001b[0msentence_probability\u001b[0m\u001b[0;34m(\u001b[0m\u001b[0;34m\"<s> a great movie to bake at home </s>\"\u001b[0m\u001b[0;34m,\u001b[0m \u001b[0mmodel_3gram\u001b[0m\u001b[0;34m)\u001b[0m\u001b[0;34m)\u001b[0m\u001b[0;34m\u001b[0m\u001b[0;34m\u001b[0m\u001b[0m\n\u001b[0m",
      "\u001b[0;32m<ipython-input-280-a08bfd4e25dc>\u001b[0m in \u001b[0;36msentence_probability\u001b[0;34m(sent, model, verbose, backoff)\u001b[0m\n\u001b[1;32m     64\u001b[0m                                                        model, verbose=verbose)\n\u001b[1;32m     65\u001b[0m         \u001b[0;32melse\u001b[0m\u001b[0;34m:\u001b[0m\u001b[0;34m\u001b[0m\u001b[0;34m\u001b[0m\u001b[0m\n\u001b[0;32m---> 66\u001b[0;31m             pr_token = conditional_probability(word_stream.present, word_stream.past[-ng+1:],\n\u001b[0m\u001b[1;32m     67\u001b[0m                                                model)\n\u001b[1;32m     68\u001b[0m         \u001b[0mlogprob\u001b[0m \u001b[0;34m+=\u001b[0m \u001b[0mnp\u001b[0m\u001b[0;34m.\u001b[0m\u001b[0mlog\u001b[0m\u001b[0;34m(\u001b[0m\u001b[0mpr_token\u001b[0m\u001b[0;34m)\u001b[0m\u001b[0;34m\u001b[0m\u001b[0;34m\u001b[0m\u001b[0m\n",
      "\u001b[0;32m<ipython-input-280-a08bfd4e25dc>\u001b[0m in \u001b[0;36mconditional_probability\u001b[0;34m(token_a, token_b, model, verbose)\u001b[0m\n\u001b[1;32m     30\u001b[0m \u001b[0;34m\u001b[0m\u001b[0m\n\u001b[1;32m     31\u001b[0m     \u001b[0mpr_b\u001b[0m \u001b[0;34m=\u001b[0m \u001b[0mtoken_probability\u001b[0m\u001b[0;34m(\u001b[0m\u001b[0mtoken_b\u001b[0m\u001b[0;34m,\u001b[0m \u001b[0mmodel\u001b[0m\u001b[0;34m)\u001b[0m\u001b[0;34m\u001b[0m\u001b[0;34m\u001b[0m\u001b[0m\n\u001b[0;32m---> 32\u001b[0;31m     \u001b[0mpr_ab\u001b[0m \u001b[0;34m=\u001b[0m \u001b[0mtoken_probability\u001b[0m\u001b[0;34m(\u001b[0m\u001b[0mtoken_b\u001b[0m \u001b[0;34m+\u001b[0m \u001b[0mtoken_a\u001b[0m\u001b[0;34m,\u001b[0m \u001b[0mmodel\u001b[0m\u001b[0;34m)\u001b[0m\u001b[0;34m\u001b[0m\u001b[0;34m\u001b[0m\u001b[0m\n\u001b[0m\u001b[1;32m     33\u001b[0m     \u001b[0;32mreturn\u001b[0m \u001b[0mpr_ab\u001b[0m \u001b[0;34m/\u001b[0m \u001b[0mpr_b\u001b[0m\u001b[0;34m\u001b[0m\u001b[0;34m\u001b[0m\u001b[0m\n\u001b[1;32m     34\u001b[0m \u001b[0;34m\u001b[0m\u001b[0m\n",
      "\u001b[0;32m<ipython-input-280-a08bfd4e25dc>\u001b[0m in \u001b[0;36mtoken_probability\u001b[0;34m(token, model)\u001b[0m\n\u001b[1;32m     20\u001b[0m     \u001b[0;31m# else:\u001b[0m\u001b[0;34m\u001b[0m\u001b[0;34m\u001b[0m\u001b[0;34m\u001b[0m\u001b[0m\n\u001b[1;32m     21\u001b[0m     \u001b[0mprint\u001b[0m\u001b[0;34m(\u001b[0m\u001b[0;34mf\"Unrecognized Token {token}\"\u001b[0m\u001b[0;34m)\u001b[0m\u001b[0;34m\u001b[0m\u001b[0;34m\u001b[0m\u001b[0m\n\u001b[0;32m---> 22\u001b[0;31m     \u001b[0;32mraise\u001b[0m \u001b[0mValueError\u001b[0m\u001b[0;34m\u001b[0m\u001b[0;34m\u001b[0m\u001b[0m\n\u001b[0m\u001b[1;32m     23\u001b[0m \u001b[0;34m\u001b[0m\u001b[0m\n\u001b[1;32m     24\u001b[0m \u001b[0;34m\u001b[0m\u001b[0m\n",
      "\u001b[0;31mValueError\u001b[0m: "
     ]
    }
   ],
   "source": [
    "print(sentence_probability(\"<s> a great movie to bake at home </s>\", model_3gram))"
   ]
  },
  {
   "cell_type": "markdown",
   "id": "eea73218",
   "metadata": {},
   "source": [
    "One solution is \"simple backoff\":\n",
    "$$\n",
    "\\Pr[w_i|w_{i-N+1}^{i-1}] \\approx \\Pr[w_i|w_{i-k+2}^{i-1}]\n",
    "$$\n",
    "(removing words from the tail of the conditioned sentence)"
   ]
  },
  {
   "cell_type": "code",
   "execution_count": 290,
   "id": "c28f2a87",
   "metadata": {},
   "outputs": [
    {
     "name": "stdout",
     "output_type": "stream",
     "text": [
      "past: []\n",
      "present: ['<s>']\n",
      "future: ['a', 'great', 'movie', 'to', 'bake', 'at', 'home', '</s>']\n",
      "P(present|past) = 0.05134162767252725\n",
      "------------------------------------\n",
      "past: ['<s>']\n",
      "present: ['a']\n",
      "future: ['great', 'movie', 'to', 'bake', 'at', 'home', '</s>']\n",
      "P(present|past) = 0.016129865412269694\n",
      "------------------------------------\n",
      "past: ['<s>', 'a']\n",
      "present: ['great']\n",
      "future: ['movie', 'to', 'bake', 'at', 'home', '</s>']\n",
      "P(present|past) = 0.024896694214876034\n",
      "------------------------------------\n",
      "past: ['<s>', 'a', 'great']\n",
      "present: ['movie']\n",
      "future: ['to', 'bake', 'at', 'home', '</s>']\n",
      "P(present|past) = 0.0975447909754479\n",
      "------------------------------------\n",
      "past: ['<s>', 'a', 'great', 'movie']\n",
      "present: ['to']\n",
      "future: ['bake', 'at', 'home', '</s>']\n",
      "P(present|past) = 0.06007509386733418\n",
      "------------------------------------\n",
      "Token_a = ['bake'], Backing-off from ['movie', 'to'] to ['to']...\n",
      "past: ['<s>', 'a', 'great', 'movie', 'to']\n",
      "present: ['bake']\n",
      "future: ['at', 'home', '</s>']\n",
      "P(present|past) = 1.1230360906364994e-05\n",
      "------------------------------------\n",
      "Token_a = ['at'], Backing-off from ['to', 'bake'] to ['bake']...\n",
      "past: ['<s>', 'a', 'great', 'movie', 'to', 'bake']\n",
      "present: ['at']\n",
      "future: ['home', '</s>']\n",
      "P(present|past) = 0.003973501095394824\n",
      "------------------------------------\n",
      "Token_a = ['home'], Backing-off from ['bake', 'at'] to ['at']...\n",
      "past: ['<s>', 'a', 'great', 'movie', 'to', 'bake', 'at']\n",
      "present: ['home']\n",
      "future: ['</s>']\n",
      "P(present|past) = 0.009537958058820996\n",
      "------------------------------------\n",
      "past: ['<s>', 'a', 'great', 'movie', 'to', 'bake', 'at', 'home']\n",
      "present: ['</s>']\n",
      "future: []\n",
      "P(present|past) = 0.21218961625282173\n",
      "------------------------------------\n",
      "1.0911568625868842e-17\n"
     ]
    }
   ],
   "source": [
    "print(sentence_probability(\"<s> a great movie to bake at home </s>\", model_3gram, backoff=True, verbose=True))"
   ]
  },
  {
   "cell_type": "markdown",
   "id": "2ec1b796",
   "metadata": {},
   "source": [
    "Note that with \"simple backoff\" we no longer have a probability distribution. \n",
    "\n",
    "Other techniques to handle zeros: See [Jurafsky & Martin] for details. "
   ]
  },
  {
   "cell_type": "markdown",
   "id": "97873c64",
   "metadata": {},
   "source": [
    "## Perplexity\n",
    "\n",
    "### Log perplexity of sequence $w^n=(w_1,\\ldots,w_n)$ under model P:\n",
    "$$\n",
    "LLP(w^n,P) = - \\frac{1}{n} \\log(\\Pr[w^n]) = - \\frac{1}{n} \\sum_{i=1}^n \\log(\\Pr[w_i|w^{i-1}_{i-N+1}]) \n",
    "$$"
   ]
  },
  {
   "cell_type": "code",
   "execution_count": 291,
   "id": "30fc78e0",
   "metadata": {},
   "outputs": [],
   "source": [
    "def perplexity(sentence: str, model: pd.DataFrame) -> float:\n",
    "    \"\"\"\n",
    "    evalaute the perplexity of `sentence` under the model\n",
    "    \"\"\"\n",
    "    N = len(sentence.split())\n",
    "    prob = sentence_probability(sentence, model, backoff=True)\n",
    "    return -np.log(prob) / N\n",
    "        "
   ]
  },
  {
   "cell_type": "code",
   "execution_count": 187,
   "id": "024eab98",
   "metadata": {},
   "outputs": [],
   "source": []
  },
  {
   "cell_type": "markdown",
   "id": "0421bbcf",
   "metadata": {},
   "source": [
    "Perplexity of one sentence:"
   ]
  },
  {
   "cell_type": "code",
   "execution_count": 292,
   "id": "35ca2679",
   "metadata": {},
   "outputs": [
    {
     "name": "stdout",
     "output_type": "stream",
     "text": [
      "Sentence:  <s> not as good as your average movie but still does the trick </s>\n",
      "LPP of bigram model = 4.598590373748019\n",
      "LPP of trigram model = 3.6343560644357678\n",
      "\n",
      "Sentence:  <s> great do me but soon get out </s>\n",
      "LPP of bigram model = 5.564016303930118\n",
      "LPP of trigram model = 5.340172213664282\n",
      "\n"
     ]
    }
   ],
   "source": [
    "sentences = [\"<s> not as good as your average movie but still does the trick </s>\",\n",
    "             \"<s> great do me but soon get out </s>\"]\n",
    "\n",
    "for sent in sentences:\n",
    "    print(\"Sentence: \", sent)\n",
    "    print(f\"LPP of bigram model = {perplexity(sent, model_2gram)}\")\n",
    "    print(f\"LPP of trigram model = {perplexity(sent, model_3gram)}\")\n",
    "    print()"
   ]
  },
  {
   "cell_type": "markdown",
   "id": "849188bb",
   "metadata": {},
   "source": [
    "Perplexity of many sentences"
   ]
  },
  {
   "cell_type": "code",
   "execution_count": 294,
   "id": "e13ed79f",
   "metadata": {},
   "outputs": [
    {
     "name": "stdout",
     "output_type": "stream",
     "text": [
      "Average LPP of bigram model = 3.569940095527757, (std = 1.5208041197595408)\n"
     ]
    }
   ],
   "source": [
    "import re\n",
    "\n",
    "def preprocess_sentence(text: str) -> str:\n",
    "    \"\"\"\n",
    "    clean text and add sybols indicating beginning and ending\n",
    "    \"\"\"\n",
    "    \n",
    "    n = ng\n",
    "    text = re.sub(r\"<br ?/>\", \"\", text)  # remove the word '<br />' if it exists in the text\n",
    "    return \" \".join(re.findall(TOKEN_PATTERN, text)).lower()\n",
    "\n",
    "def to_sentences(text: str) -> list:\n",
    "    \"\"\"\n",
    "    Convert text after preprocessing to a list \n",
    "    of sentences\n",
    "    \"\"\"\n",
    "    text = text.strip('<s> ').strip(' </s>')\n",
    "    texts = text.split(' </s> <s> ')\n",
    "    return [t.strip() for t in texts]\n",
    "\n"
   ]
  },
  {
   "cell_type": "code",
   "execution_count": 295,
   "id": "bb9d24cd",
   "metadata": {},
   "outputs": [
    {
     "ename": "RecursionError",
     "evalue": "maximum recursion depth exceeded in comparison",
     "output_type": "error",
     "traceback": [
      "\u001b[0;31m---------------------------------------------------------------------------\u001b[0m",
      "\u001b[0;31mRecursionError\u001b[0m                            Traceback (most recent call last)",
      "\u001b[0;32m<ipython-input-295-21c82dba440f>\u001b[0m in \u001b[0;36m<module>\u001b[0;34m\u001b[0m\n\u001b[1;32m      7\u001b[0m \u001b[0;32mfor\u001b[0m \u001b[0mdoc\u001b[0m \u001b[0;32min\u001b[0m \u001b[0mtest_set\u001b[0m\u001b[0;34m:\u001b[0m\u001b[0;34m\u001b[0m\u001b[0;34m\u001b[0m\u001b[0m\n\u001b[1;32m      8\u001b[0m     \u001b[0;32mfor\u001b[0m \u001b[0msent\u001b[0m \u001b[0;32min\u001b[0m \u001b[0mto_sentences\u001b[0m\u001b[0;34m(\u001b[0m\u001b[0mdoc\u001b[0m\u001b[0;34m)\u001b[0m\u001b[0;34m:\u001b[0m\u001b[0;34m\u001b[0m\u001b[0;34m\u001b[0m\u001b[0m\n\u001b[0;32m----> 9\u001b[0;31m         \u001b[0mlpp\u001b[0m \u001b[0;34m=\u001b[0m \u001b[0mperplexity\u001b[0m\u001b[0;34m(\u001b[0m\u001b[0mpreprocess_sentence\u001b[0m\u001b[0;34m(\u001b[0m\u001b[0msent\u001b[0m\u001b[0;34m)\u001b[0m\u001b[0;34m,\u001b[0m \u001b[0mmodel\u001b[0m\u001b[0;34m)\u001b[0m\u001b[0;34m\u001b[0m\u001b[0;34m\u001b[0m\u001b[0m\n\u001b[0m\u001b[1;32m     10\u001b[0m         \u001b[0;32mif\u001b[0m \u001b[0mlpp\u001b[0m \u001b[0;34m>\u001b[0m \u001b[0;36m0\u001b[0m\u001b[0;34m:\u001b[0m\u001b[0;34m\u001b[0m\u001b[0;34m\u001b[0m\u001b[0m\n\u001b[1;32m     11\u001b[0m             \u001b[0mls\u001b[0m \u001b[0;34m+=\u001b[0m \u001b[0;34m[\u001b[0m\u001b[0mlpp\u001b[0m\u001b[0;34m]\u001b[0m\u001b[0;34m\u001b[0m\u001b[0;34m\u001b[0m\u001b[0m\n",
      "\u001b[0;32m<ipython-input-291-f3049d0f1d1b>\u001b[0m in \u001b[0;36mperplexity\u001b[0;34m(sentence, model)\u001b[0m\n\u001b[1;32m      4\u001b[0m     \"\"\"\n\u001b[1;32m      5\u001b[0m     \u001b[0mN\u001b[0m \u001b[0;34m=\u001b[0m \u001b[0mlen\u001b[0m\u001b[0;34m(\u001b[0m\u001b[0msentence\u001b[0m\u001b[0;34m.\u001b[0m\u001b[0msplit\u001b[0m\u001b[0;34m(\u001b[0m\u001b[0;34m)\u001b[0m\u001b[0;34m)\u001b[0m\u001b[0;34m\u001b[0m\u001b[0;34m\u001b[0m\u001b[0m\n\u001b[0;32m----> 6\u001b[0;31m     \u001b[0mprob\u001b[0m \u001b[0;34m=\u001b[0m \u001b[0msentence_probability\u001b[0m\u001b[0;34m(\u001b[0m\u001b[0msentence\u001b[0m\u001b[0;34m,\u001b[0m \u001b[0mmodel\u001b[0m\u001b[0;34m,\u001b[0m \u001b[0mbackoff\u001b[0m\u001b[0;34m=\u001b[0m\u001b[0;32mTrue\u001b[0m\u001b[0;34m)\u001b[0m\u001b[0;34m\u001b[0m\u001b[0;34m\u001b[0m\u001b[0m\n\u001b[0m\u001b[1;32m      7\u001b[0m     \u001b[0;32mreturn\u001b[0m \u001b[0;34m-\u001b[0m\u001b[0mnp\u001b[0m\u001b[0;34m.\u001b[0m\u001b[0mlog\u001b[0m\u001b[0;34m(\u001b[0m\u001b[0mprob\u001b[0m\u001b[0;34m)\u001b[0m \u001b[0;34m/\u001b[0m \u001b[0mN\u001b[0m\u001b[0;34m\u001b[0m\u001b[0;34m\u001b[0m\u001b[0m\n\u001b[1;32m      8\u001b[0m \u001b[0;34m\u001b[0m\u001b[0m\n",
      "\u001b[0;32m<ipython-input-280-a08bfd4e25dc>\u001b[0m in \u001b[0;36msentence_probability\u001b[0;34m(sent, model, verbose, backoff)\u001b[0m\n\u001b[1;32m     60\u001b[0m     \u001b[0;32mwhile\u001b[0m \u001b[0mlen\u001b[0m\u001b[0;34m(\u001b[0m\u001b[0mword_stream\u001b[0m\u001b[0;34m.\u001b[0m\u001b[0mpresent\u001b[0m\u001b[0;34m)\u001b[0m \u001b[0;34m>\u001b[0m \u001b[0;36m0\u001b[0m\u001b[0;34m:\u001b[0m\u001b[0;34m\u001b[0m\u001b[0;34m\u001b[0m\u001b[0m\n\u001b[1;32m     61\u001b[0m         \u001b[0;32mif\u001b[0m \u001b[0mbackoff\u001b[0m\u001b[0;34m:\u001b[0m\u001b[0;34m\u001b[0m\u001b[0;34m\u001b[0m\u001b[0m\n\u001b[0;32m---> 62\u001b[0;31m             pr_token = conditional_probability_backoff(word_stream.present,\n\u001b[0m\u001b[1;32m     63\u001b[0m                                                        \u001b[0mword_stream\u001b[0m\u001b[0;34m.\u001b[0m\u001b[0mpast\u001b[0m\u001b[0;34m[\u001b[0m\u001b[0;34m-\u001b[0m\u001b[0mng\u001b[0m\u001b[0;34m+\u001b[0m\u001b[0;36m1\u001b[0m\u001b[0;34m:\u001b[0m\u001b[0;34m]\u001b[0m\u001b[0;34m,\u001b[0m\u001b[0;34m\u001b[0m\u001b[0;34m\u001b[0m\u001b[0m\n\u001b[1;32m     64\u001b[0m                                                        model, verbose=verbose)\n",
      "\u001b[0;32m<ipython-input-280-a08bfd4e25dc>\u001b[0m in \u001b[0;36mconditional_probability_backoff\u001b[0;34m(token_a, token_b, model, verbose)\u001b[0m\n\u001b[1;32m     88\u001b[0m         \u001b[0;32mif\u001b[0m \u001b[0mverbose\u001b[0m\u001b[0;34m:\u001b[0m\u001b[0;34m\u001b[0m\u001b[0;34m\u001b[0m\u001b[0m\n\u001b[1;32m     89\u001b[0m             \u001b[0mprint\u001b[0m\u001b[0;34m(\u001b[0m\u001b[0;34mf\"Token_a = {token_a}, Backing-off from {token_b} to {token_b[1:]}...\"\u001b[0m\u001b[0;34m)\u001b[0m\u001b[0;34m\u001b[0m\u001b[0;34m\u001b[0m\u001b[0m\n\u001b[0;32m---> 90\u001b[0;31m         \u001b[0;32mreturn\u001b[0m \u001b[0mconditional_probability_backoff\u001b[0m\u001b[0;34m(\u001b[0m\u001b[0mtoken_a\u001b[0m\u001b[0;34m,\u001b[0m \u001b[0mtoken_b\u001b[0m\u001b[0;34m[\u001b[0m\u001b[0;36m1\u001b[0m\u001b[0;34m:\u001b[0m\u001b[0;34m]\u001b[0m\u001b[0;34m,\u001b[0m \u001b[0mmodel\u001b[0m\u001b[0;34m)\u001b[0m\u001b[0;34m\u001b[0m\u001b[0;34m\u001b[0m\u001b[0m\n\u001b[0m\u001b[1;32m     91\u001b[0m     \u001b[0;32melse\u001b[0m\u001b[0;34m:\u001b[0m\u001b[0;34m\u001b[0m\u001b[0;34m\u001b[0m\u001b[0m\n\u001b[1;32m     92\u001b[0m         \u001b[0;32mreturn\u001b[0m \u001b[0mconditional_probability\u001b[0m\u001b[0;34m(\u001b[0m\u001b[0mtoken_a\u001b[0m\u001b[0;34m,\u001b[0m \u001b[0mtoken_b\u001b[0m\u001b[0;34m,\u001b[0m \u001b[0mmodel\u001b[0m\u001b[0;34m)\u001b[0m\u001b[0;34m\u001b[0m\u001b[0;34m\u001b[0m\u001b[0m\n",
      "... last 1 frames repeated, from the frame below ...\n",
      "\u001b[0;32m<ipython-input-280-a08bfd4e25dc>\u001b[0m in \u001b[0;36mconditional_probability_backoff\u001b[0;34m(token_a, token_b, model, verbose)\u001b[0m\n\u001b[1;32m     88\u001b[0m         \u001b[0;32mif\u001b[0m \u001b[0mverbose\u001b[0m\u001b[0;34m:\u001b[0m\u001b[0;34m\u001b[0m\u001b[0;34m\u001b[0m\u001b[0m\n\u001b[1;32m     89\u001b[0m             \u001b[0mprint\u001b[0m\u001b[0;34m(\u001b[0m\u001b[0;34mf\"Token_a = {token_a}, Backing-off from {token_b} to {token_b[1:]}...\"\u001b[0m\u001b[0;34m)\u001b[0m\u001b[0;34m\u001b[0m\u001b[0;34m\u001b[0m\u001b[0m\n\u001b[0;32m---> 90\u001b[0;31m         \u001b[0;32mreturn\u001b[0m \u001b[0mconditional_probability_backoff\u001b[0m\u001b[0;34m(\u001b[0m\u001b[0mtoken_a\u001b[0m\u001b[0;34m,\u001b[0m \u001b[0mtoken_b\u001b[0m\u001b[0;34m[\u001b[0m\u001b[0;36m1\u001b[0m\u001b[0;34m:\u001b[0m\u001b[0;34m]\u001b[0m\u001b[0;34m,\u001b[0m \u001b[0mmodel\u001b[0m\u001b[0;34m)\u001b[0m\u001b[0;34m\u001b[0m\u001b[0;34m\u001b[0m\u001b[0m\n\u001b[0m\u001b[1;32m     91\u001b[0m     \u001b[0;32melse\u001b[0m\u001b[0;34m:\u001b[0m\u001b[0;34m\u001b[0m\u001b[0;34m\u001b[0m\u001b[0m\n\u001b[1;32m     92\u001b[0m         \u001b[0;32mreturn\u001b[0m \u001b[0mconditional_probability\u001b[0m\u001b[0;34m(\u001b[0m\u001b[0mtoken_a\u001b[0m\u001b[0;34m,\u001b[0m \u001b[0mtoken_b\u001b[0m\u001b[0;34m,\u001b[0m \u001b[0mmodel\u001b[0m\u001b[0;34m)\u001b[0m\u001b[0;34m\u001b[0m\u001b[0;34m\u001b[0m\u001b[0m\n",
      "\u001b[0;31mRecursionError\u001b[0m: maximum recursion depth exceeded in comparison"
     ]
    }
   ],
   "source": [
    "model = model_2gram\n",
    "\n",
    "N = 10000\n",
    "test_set = df.sample(N).review\n",
    "\n",
    "ls = []\n",
    "for doc in test_set:\n",
    "    for sent in to_sentences(doc):\n",
    "        lpp = perplexity(preprocess_sentence(sent), model)\n",
    "        if lpp > 0:\n",
    "            ls += [lpp]\n",
    "print(f\"Average LPP of bigram model = {np.mean(ls)}, (std = {np.std(ls)})\")\n"
   ]
  },
  {
   "cell_type": "markdown",
   "id": "4029956e",
   "metadata": {},
   "source": [
    "## Sampling from the model"
   ]
  },
  {
   "cell_type": "code",
   "execution_count": 239,
   "id": "19fe99d2",
   "metadata": {},
   "outputs": [],
   "source": [
    "import warnings\n",
    "\n",
    "warnings.simplefilter(action='ignore', category=pd.errors.PerformanceWarning)\n",
    "\n",
    "\n",
    "def sample_from_model(ngram_model, prompt=['<s>']):\n",
    "    \n",
    "    def sample_from_list(df):\n",
    "        return df.sample(n=1, weights = df.freq)\n",
    "    \n",
    "    w = ''\n",
    "    state = prompt\n",
    "    smp = sample_from_list(ngram_model.loc[state])\n",
    "    state = list(smp.index[0][1:])\n",
    "    w = list(state)\n",
    "    while w[-1] != '</s>': \n",
    "        df_pool = ngram_model.loc[tuple(state)]\n",
    "        smp = df_pool.sample(n=1, weights = df_pool.freq)\n",
    "        state = state[1:] + [smp.index[0]]\n",
    "        w.append(state[-1])\n",
    "    return w[:-1]"
   ]
  },
  {
   "cell_type": "code",
   "execution_count": 332,
   "id": "9a18cd07",
   "metadata": {},
   "outputs": [
    {
     "name": "stdout",
     "output_type": "stream",
     "text": [
      "<s> in other films aren t even notice however that man and once we do not miss earth\n"
     ]
    }
   ],
   "source": [
    "prompt = ['<s>']\n",
    "print(\" \".join(prompt + sample_from_model(model_3gram, prompt=prompt)))"
   ]
  },
  {
   "cell_type": "markdown",
   "id": "ec966810",
   "metadata": {},
   "source": [
    "# Approximating Shakespeare \n",
    "\n",
    "Shakespeare corpus: \n",
    "\n",
    "$N=899,680$ tokens, $V \\approx 29,000$ \n",
    "Shakespeare produced $\\approx 300,000$ bigram types out of $V^2 ~ 844 \\times 10^6$ possiblee bigrams.\n",
    "- 99.96% of possible bigrams were never seen (have zro entries in the table)\n",
    "- Quadragrams is worse: what's coming out looks like Shakespeare because it *is* Shakespeare"
   ]
  },
  {
   "cell_type": "code",
   "execution_count": 301,
   "id": "e5d81c4d",
   "metadata": {},
   "outputs": [
    {
     "name": "stdout",
     "output_type": "stream",
     "text": [
      "/Users/kipnisal/Teaching/Information Theory/ITnLM/notebooks\n"
     ]
    }
   ],
   "source": [
    "!pwd"
   ]
  },
  {
   "cell_type": "code",
   "execution_count": 302,
   "id": "8d2104c9",
   "metadata": {},
   "outputs": [
    {
     "name": "stdout",
     "output_type": "stream",
     "text": [
      "Number of tokens =  899680\n"
     ]
    }
   ],
   "source": [
    "with open(\"../data/Shakespeare_corpus.txt\", 'rt') as f:\n",
    "    text = f.read()\n",
    "print(\"Number of tokens = \", len(text.split()))"
   ]
  },
  {
   "cell_type": "code",
   "execution_count": 303,
   "id": "a66db0da",
   "metadata": {},
   "outputs": [
    {
     "name": "stdout",
     "output_type": "stream",
     "text": [
      "Cleaning text...\n",
      "Extracting tokens...\n",
      "Removing unwanted tokens...\n",
      "Counting tokens...\n",
      "Computing frequencies...\n"
     ]
    }
   ],
   "source": [
    "shake_2g = build_ngram_model(break_sentence(text), 2)"
   ]
  },
  {
   "cell_type": "code",
   "execution_count": 307,
   "id": "cdd501ae",
   "metadata": {},
   "outputs": [
    {
     "name": "stdout",
     "output_type": "stream",
     "text": [
      "<s> so far to me that would to steal but riding to see old man to london\n"
     ]
    }
   ],
   "source": [
    "prompt = ['<s>']\n",
    "print(\" \".join(prompt + sample_from_model(shake_2g, prompt=prompt)))"
   ]
  },
  {
   "cell_type": "code",
   "execution_count": 308,
   "id": "3e2da43e",
   "metadata": {},
   "outputs": [
    {
     "name": "stdout",
     "output_type": "stream",
     "text": [
      "Cleaning text...\n",
      "Extracting tokens...\n",
      "Removing unwanted tokens...\n",
      "Counting tokens...\n",
      "Computing frequencies...\n"
     ]
    }
   ],
   "source": [
    "shake_4g = build_ngram_model(break_sentence(text), 4)"
   ]
  },
  {
   "cell_type": "code",
   "execution_count": 325,
   "id": "2e7e9ac4",
   "metadata": {},
   "outputs": [
    {
     "name": "stdout",
     "output_type": "stream",
     "text": [
      "<s> you bawdy but joan la pucelle join d\n"
     ]
    }
   ],
   "source": [
    "prompt = ['<s>']\n",
    "print(\" \".join(prompt + sample_from_model(shake_4g, prompt=prompt)))"
   ]
  },
  {
   "cell_type": "markdown",
   "id": "10e169a7",
   "metadata": {},
   "source": [
    "### Shakeseare Insult Generator\n",
    "\n",
    "Web: https://codepo8.github.io/shakespeare-insult-generator/\n",
    "\n",
    "Code: https://github.com/codepo8/shakespeare-insult-generator/blob/master/index.html"
   ]
  },
  {
   "cell_type": "code",
   "execution_count": 1324,
   "id": "d3d61a30",
   "metadata": {},
   "outputs": [],
   "source": [
    "insults = [\n",
    "        ['artless','bawdy','beslubbering','bootless','churlish','cockered','clouted','craven','currish','dankish','dissembling','droning','errant','fawning','fobbing','froward','frothy','gleeking','goatish','gorbellied','impertinent','infectious','jarring','joggerheaded','lumpish','mammering','mangled','mewling','paunchy','pribbling','puking','puny','rank','reeky','roguish','ruftish','saucy','spleeny','spongy','surly','tottering','unmuzzled','vain','venomed','villainous','warped','wayward','weedy','yeasty'],\n",
    "        ['base-court','bat-forling','beef-witted','beetle-headed','boil-brained','clapper-clawed','clay-brained','common-kissing','crook-pated','dismal-dreaming','dizzy-eyed','doghearted','dread-bolted','earth-vexing','elf-skinned','fat-kidneyed','fen-sucked','flap-mothed','fly-bitten','folly-fallen','fool-born','fill-gorged','guts-griping','half-faced','hasty-witted','hedge-born','hell-hated','idle-headed','ill-breeding','ill-nurtured','knotty-pated','milk-livered','motley-minded','onion-eyed','plume-plucked','pottle-deep','pox-marked','reeling-ripe','rough-hewn','rude-growing','rump-faced','shard-borne','sheep-biting','spur-galled','swag-bellied','tardy-gaited','tickle-brained','toad-spotted','unchin-snoted','weather-bitten'],\n",
    "        ['apple-john','baggage','barnacle','bladder','boar-pig','bugbear','bum-bailey','canket-blossom','clack-dish','clotpole','coxcomb','codpiece','death-token','dewberry','flap-dragon','flax-wench','flirt-gill','foot-licker','futilarrian','giglet','gudgeon','haggard','harpy','hedge-pig','horn-beast','hugger-mugger','joithead','lewduster','lout','maggot-pie','malt-worm','mammet','measle','minnow','miscreant','moldwarp','mumble-news','nut-hook','pigeon-egg','pignut','puttock','pumbion','ratsbane','scut','skainsmate','strumpot','varlot','vassal','wheyface','wagtail']\n",
    "      ]"
   ]
  },
  {
   "cell_type": "code",
   "execution_count": 1352,
   "id": "0928bcf0",
   "metadata": {},
   "outputs": [
    {
     "data": {
      "text/plain": [
       "'Thou pribbling doghearted, vassal!'"
      ]
     },
     "execution_count": 1352,
     "metadata": {},
     "output_type": "execute_result"
    }
   ],
   "source": [
    "ww = []\n",
    "for i in range(3):\n",
    "    smp = insults[i][np.random.randint(len(insults[i]))]\n",
    "    ww.append(smp)\n",
    "\n",
    "f\"Thou {ww[0]} {ww[1]}, {ww[2]}!\""
   ]
  },
  {
   "cell_type": "markdown",
   "id": "8a917c9b",
   "metadata": {},
   "source": [
    "## Frequencies of English letters:"
   ]
  },
  {
   "cell_type": "code",
   "execution_count": 326,
   "id": "ec99f0c9",
   "metadata": {},
   "outputs": [],
   "source": [
    "dff = pd.read_csv(\"../data/English_letter_frequency.csv\")"
   ]
  },
  {
   "cell_type": "code",
   "execution_count": 327,
   "id": "8db598ae",
   "metadata": {},
   "outputs": [
    {
     "data": {
      "text/html": [
       "<div>\n",
       "<style scoped>\n",
       "    .dataframe tbody tr th:only-of-type {\n",
       "        vertical-align: middle;\n",
       "    }\n",
       "\n",
       "    .dataframe tbody tr th {\n",
       "        vertical-align: top;\n",
       "    }\n",
       "\n",
       "    .dataframe thead th {\n",
       "        text-align: right;\n",
       "    }\n",
       "</style>\n",
       "<table border=\"1\" class=\"dataframe\">\n",
       "  <thead>\n",
       "    <tr style=\"text-align: right;\">\n",
       "      <th></th>\n",
       "      <th>letter</th>\n",
       "      <th>frequency</th>\n",
       "    </tr>\n",
       "  </thead>\n",
       "  <tbody>\n",
       "    <tr>\n",
       "      <th>0</th>\n",
       "      <td>A</td>\n",
       "      <td>0.08167</td>\n",
       "    </tr>\n",
       "    <tr>\n",
       "      <th>1</th>\n",
       "      <td>B</td>\n",
       "      <td>0.01492</td>\n",
       "    </tr>\n",
       "    <tr>\n",
       "      <th>2</th>\n",
       "      <td>C</td>\n",
       "      <td>0.02782</td>\n",
       "    </tr>\n",
       "    <tr>\n",
       "      <th>3</th>\n",
       "      <td>D</td>\n",
       "      <td>0.04253</td>\n",
       "    </tr>\n",
       "    <tr>\n",
       "      <th>4</th>\n",
       "      <td>E</td>\n",
       "      <td>0.12702</td>\n",
       "    </tr>\n",
       "    <tr>\n",
       "      <th>5</th>\n",
       "      <td>F</td>\n",
       "      <td>0.02288</td>\n",
       "    </tr>\n",
       "    <tr>\n",
       "      <th>6</th>\n",
       "      <td>G</td>\n",
       "      <td>0.02015</td>\n",
       "    </tr>\n",
       "    <tr>\n",
       "      <th>7</th>\n",
       "      <td>H</td>\n",
       "      <td>0.06094</td>\n",
       "    </tr>\n",
       "    <tr>\n",
       "      <th>8</th>\n",
       "      <td>I</td>\n",
       "      <td>0.06966</td>\n",
       "    </tr>\n",
       "    <tr>\n",
       "      <th>9</th>\n",
       "      <td>J</td>\n",
       "      <td>0.00153</td>\n",
       "    </tr>\n",
       "    <tr>\n",
       "      <th>10</th>\n",
       "      <td>K</td>\n",
       "      <td>0.00772</td>\n",
       "    </tr>\n",
       "    <tr>\n",
       "      <th>11</th>\n",
       "      <td>L</td>\n",
       "      <td>0.04025</td>\n",
       "    </tr>\n",
       "    <tr>\n",
       "      <th>12</th>\n",
       "      <td>M</td>\n",
       "      <td>0.02406</td>\n",
       "    </tr>\n",
       "    <tr>\n",
       "      <th>13</th>\n",
       "      <td>N</td>\n",
       "      <td>0.06749</td>\n",
       "    </tr>\n",
       "    <tr>\n",
       "      <th>14</th>\n",
       "      <td>O</td>\n",
       "      <td>0.07507</td>\n",
       "    </tr>\n",
       "    <tr>\n",
       "      <th>15</th>\n",
       "      <td>P</td>\n",
       "      <td>0.01929</td>\n",
       "    </tr>\n",
       "    <tr>\n",
       "      <th>16</th>\n",
       "      <td>Q</td>\n",
       "      <td>0.00095</td>\n",
       "    </tr>\n",
       "    <tr>\n",
       "      <th>17</th>\n",
       "      <td>R</td>\n",
       "      <td>0.05987</td>\n",
       "    </tr>\n",
       "    <tr>\n",
       "      <th>18</th>\n",
       "      <td>S</td>\n",
       "      <td>0.06327</td>\n",
       "    </tr>\n",
       "    <tr>\n",
       "      <th>19</th>\n",
       "      <td>T</td>\n",
       "      <td>0.09056</td>\n",
       "    </tr>\n",
       "    <tr>\n",
       "      <th>20</th>\n",
       "      <td>U</td>\n",
       "      <td>0.02758</td>\n",
       "    </tr>\n",
       "    <tr>\n",
       "      <th>21</th>\n",
       "      <td>V</td>\n",
       "      <td>0.00978</td>\n",
       "    </tr>\n",
       "    <tr>\n",
       "      <th>22</th>\n",
       "      <td>W</td>\n",
       "      <td>0.02360</td>\n",
       "    </tr>\n",
       "    <tr>\n",
       "      <th>23</th>\n",
       "      <td>X</td>\n",
       "      <td>0.00150</td>\n",
       "    </tr>\n",
       "    <tr>\n",
       "      <th>24</th>\n",
       "      <td>Y</td>\n",
       "      <td>0.01974</td>\n",
       "    </tr>\n",
       "    <tr>\n",
       "      <th>25</th>\n",
       "      <td>Z</td>\n",
       "      <td>0.00074</td>\n",
       "    </tr>\n",
       "  </tbody>\n",
       "</table>\n",
       "</div>"
      ],
      "text/plain": [
       "   letter  frequency\n",
       "0       A    0.08167\n",
       "1       B    0.01492\n",
       "2       C    0.02782\n",
       "3       D    0.04253\n",
       "4       E    0.12702\n",
       "5       F    0.02288\n",
       "6       G    0.02015\n",
       "7       H    0.06094\n",
       "8       I    0.06966\n",
       "9       J    0.00153\n",
       "10      K    0.00772\n",
       "11      L    0.04025\n",
       "12      M    0.02406\n",
       "13      N    0.06749\n",
       "14      O    0.07507\n",
       "15      P    0.01929\n",
       "16      Q    0.00095\n",
       "17      R    0.05987\n",
       "18      S    0.06327\n",
       "19      T    0.09056\n",
       "20      U    0.02758\n",
       "21      V    0.00978\n",
       "22      W    0.02360\n",
       "23      X    0.00150\n",
       "24      Y    0.01974\n",
       "25      Z    0.00074"
      ]
     },
     "execution_count": 327,
     "metadata": {},
     "output_type": "execute_result"
    }
   ],
   "source": [
    "dff"
   ]
  },
  {
   "cell_type": "code",
   "execution_count": 8,
   "id": "97d14230",
   "metadata": {},
   "outputs": [
    {
     "name": "stdout",
     "output_type": "stream",
     "text": [
      "F0 = 4.700439718141092\n",
      "F1 = 4.178175485929133\n"
     ]
    }
   ],
   "source": [
    "print(f\"F0 = {np.log2(26)}\")\n",
    "print(f\"F1 = {-np.sum(dff.frequency * np.log2(dff.frequency))}\")"
   ]
  },
  {
   "cell_type": "code",
   "execution_count": 10,
   "id": "b0d1383e",
   "metadata": {},
   "outputs": [
    {
     "name": "stdout",
     "output_type": "stream",
     "text": [
      "F1 = 5.58845872439874\n"
     ]
    }
   ],
   "source": [
    "print(f\"F1 = {-np.sum(1/26 * np.log2(dff.frequency))}\")"
   ]
  },
  {
   "cell_type": "code",
   "execution_count": null,
   "id": "b29aebb7",
   "metadata": {},
   "outputs": [],
   "source": []
  }
 ],
 "metadata": {
  "kernelspec": {
   "display_name": "Python 3",
   "language": "python",
   "name": "python3"
  },
  "language_info": {
   "codemirror_mode": {
    "name": "ipython",
    "version": 3
   },
   "file_extension": ".py",
   "mimetype": "text/x-python",
   "name": "python",
   "nbconvert_exporter": "python",
   "pygments_lexer": "ipython3",
   "version": "3.8.5"
  }
 },
 "nbformat": 4,
 "nbformat_minor": 5
}
