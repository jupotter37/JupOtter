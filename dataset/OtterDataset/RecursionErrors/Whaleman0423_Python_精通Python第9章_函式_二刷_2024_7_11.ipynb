{
  "nbformat": 4,
  "nbformat_minor": 0,
  "metadata": {
    "colab": {
      "provenance": [],
      "authorship_tag": "ABX9TyP6Y7OmBBpUoZYNBpyisbhc",
      "include_colab_link": true
    },
    "kernelspec": {
      "name": "python3",
      "display_name": "Python 3"
    },
    "language_info": {
      "name": "python"
    }
  },
  "cells": [
    {
      "cell_type": "markdown",
      "metadata": {
        "id": "view-in-github",
        "colab_type": "text"
      },
      "source": [
        "<a href=\"https://colab.research.google.com/github/Whaleman0423/Python/blob/main/%E7%B2%BE%E9%80%9APython/%E7%B2%BE%E9%80%9APython%E7%AC%AC9%E7%AB%A0_%E5%87%BD%E5%BC%8F_%E4%BA%8C%E5%88%B7_2024_7_11.ipynb\" target=\"_parent\"><img src=\"https://colab.research.google.com/assets/colab-badge.svg\" alt=\"Open In Colab\"/></a>"
      ]
    },
    {
      "cell_type": "code",
      "execution_count": null,
      "metadata": {
        "id": "7zjkearE0QU9"
      },
      "outputs": [],
      "source": [
        "def do_nothing():\n",
        "  pass"
      ]
    },
    {
      "cell_type": "code",
      "source": [
        "do_nothing()"
      ],
      "metadata": {
        "id": "St7Y9IRN0uqI"
      },
      "execution_count": null,
      "outputs": []
    },
    {
      "cell_type": "code",
      "source": [
        "def make_a_sound():\n",
        "  print(\"quack\")\n",
        "\n",
        "make_a_sound()"
      ],
      "metadata": {
        "colab": {
          "base_uri": "https://localhost:8080/"
        },
        "id": "nSyWZjMp01Nz",
        "outputId": "982fa95b-4443-4420-9d1e-f7fc3be77363"
      },
      "execution_count": null,
      "outputs": [
        {
          "output_type": "stream",
          "name": "stdout",
          "text": [
            "quack\n"
          ]
        }
      ]
    },
    {
      "cell_type": "code",
      "source": [
        "def agree():\n",
        "  return True"
      ],
      "metadata": {
        "id": "TuKx9iOJ1KFI"
      },
      "execution_count": null,
      "outputs": []
    },
    {
      "cell_type": "code",
      "source": [
        "if agree():\n",
        "  print(\"Splendid!\")\n",
        "else:\n",
        "  print(\"That was unexpected.\")"
      ],
      "metadata": {
        "colab": {
          "base_uri": "https://localhost:8080/"
        },
        "id": "Tfi1Cx4I1PSD",
        "outputId": "29339f52-7154-4c38-8097-536986e5745e"
      },
      "execution_count": null,
      "outputs": [
        {
          "output_type": "stream",
          "name": "stdout",
          "text": [
            "Splendid!\n"
          ]
        }
      ]
    },
    {
      "cell_type": "code",
      "source": [
        "def echo(anything):\n",
        "  return anything + \" \" + anything"
      ],
      "metadata": {
        "id": "f7RzNi4L1grT"
      },
      "execution_count": null,
      "outputs": []
    },
    {
      "cell_type": "code",
      "source": [
        "echo(\"Apple\")"
      ],
      "metadata": {
        "colab": {
          "base_uri": "https://localhost:8080/",
          "height": 35
        },
        "id": "XUGR3Ycu1wHg",
        "outputId": "26170e3f-e540-44d8-d627-328df700eaab"
      },
      "execution_count": null,
      "outputs": [
        {
          "output_type": "execute_result",
          "data": {
            "text/plain": [
              "'Apple Apple'"
            ],
            "application/vnd.google.colaboratory.intrinsic+json": {
              "type": "string"
            }
          },
          "metadata": {},
          "execution_count": 70
        }
      ]
    },
    {
      "cell_type": "code",
      "source": [
        "def commentary(color):\n",
        "  if color == \"red\":\n",
        "    return \"It's a tomato.\"\n",
        "  elif color == \"green\":\n",
        "    return \"It's a green pepper.\"\n",
        "  elif color == \"bee purple\":\n",
        "    return \"I don't know what it is, but only bees can see it.\"\n",
        "  else:\n",
        "    return \"I'v never heard of the color \" + color + \".\""
      ],
      "metadata": {
        "id": "bhmbxfQM2F15"
      },
      "execution_count": null,
      "outputs": []
    },
    {
      "cell_type": "code",
      "source": [
        "comment = commentary(\"blue\")"
      ],
      "metadata": {
        "id": "SXueyTPO2vtC"
      },
      "execution_count": null,
      "outputs": []
    },
    {
      "cell_type": "code",
      "source": [
        "print(comment)"
      ],
      "metadata": {
        "colab": {
          "base_uri": "https://localhost:8080/"
        },
        "id": "BJ73-hy93Azs",
        "outputId": "520913a9-2957-4359-eb90-12b2fb18930d"
      },
      "execution_count": null,
      "outputs": [
        {
          "output_type": "stream",
          "name": "stdout",
          "text": [
            "I'v never heard of the color blue.\n"
          ]
        }
      ]
    },
    {
      "cell_type": "code",
      "source": [
        "print(do_nothing())"
      ],
      "metadata": {
        "colab": {
          "base_uri": "https://localhost:8080/"
        },
        "id": "5tzhZrhj3G6r",
        "outputId": "622db512-2239-4469-c7ab-134a7a2e862d"
      },
      "execution_count": null,
      "outputs": [
        {
          "output_type": "stream",
          "name": "stdout",
          "text": [
            "None\n"
          ]
        }
      ]
    },
    {
      "cell_type": "code",
      "source": [
        "thing = None\n",
        "\n",
        "if thing:\n",
        "  print(\"It's some thing\")\n",
        "else:\n",
        "  print(\"It's no thing\")"
      ],
      "metadata": {
        "colab": {
          "base_uri": "https://localhost:8080/"
        },
        "id": "CFXSi5wS3Jot",
        "outputId": "15434524-308c-4954-f923-e941c136b3bc"
      },
      "execution_count": null,
      "outputs": [
        {
          "output_type": "stream",
          "name": "stdout",
          "text": [
            "It's no thing\n"
          ]
        }
      ]
    },
    {
      "cell_type": "code",
      "source": [
        "thing = None\n",
        "\n",
        "if thing is None:\n",
        "  print(\"It's nothing\")\n",
        "else:\n",
        "  print(\"It's something\")"
      ],
      "metadata": {
        "colab": {
          "base_uri": "https://localhost:8080/"
        },
        "id": "IGvBNQ-23XxQ",
        "outputId": "cb4afb14-f8fc-4969-c76d-077f62f4b92b"
      },
      "execution_count": null,
      "outputs": [
        {
          "output_type": "stream",
          "name": "stdout",
          "text": [
            "It's nothing\n"
          ]
        }
      ]
    },
    {
      "cell_type": "code",
      "source": [
        "# 可以用 None 來區分缺漏值(missing value) 與 空值"
      ],
      "metadata": {
        "id": "WwP1hir_3svH"
      },
      "execution_count": null,
      "outputs": []
    },
    {
      "cell_type": "code",
      "source": [
        "def whatis(thing):\n",
        "  if thing is None:\n",
        "    print(thing, \"is None\")\n",
        "  elif thing:\n",
        "    print(thing, \"is True\")\n",
        "  else:\n",
        "    print(thing, \"is False\")"
      ],
      "metadata": {
        "id": "1sb7qKAR4W43"
      },
      "execution_count": null,
      "outputs": []
    },
    {
      "cell_type": "code",
      "source": [
        "whatis(None)"
      ],
      "metadata": {
        "colab": {
          "base_uri": "https://localhost:8080/"
        },
        "id": "hPjkLqej4pmB",
        "outputId": "a4a2ae59-d646-4d73-c3b6-6036a4eef491"
      },
      "execution_count": null,
      "outputs": [
        {
          "output_type": "stream",
          "name": "stdout",
          "text": [
            "None is None\n"
          ]
        }
      ]
    },
    {
      "cell_type": "code",
      "source": [
        "whatis(True)"
      ],
      "metadata": {
        "colab": {
          "base_uri": "https://localhost:8080/"
        },
        "id": "WF3qFDHG4sew",
        "outputId": "6773bd80-1466-4bdc-e03b-0db0285cf92d"
      },
      "execution_count": null,
      "outputs": [
        {
          "output_type": "stream",
          "name": "stdout",
          "text": [
            "True is True\n"
          ]
        }
      ]
    },
    {
      "cell_type": "code",
      "source": [
        "whatis(False)"
      ],
      "metadata": {
        "colab": {
          "base_uri": "https://localhost:8080/"
        },
        "id": "R4Z91Mok4ubN",
        "outputId": "f82378ba-5f30-4f5c-be8a-6303e803f7d7"
      },
      "execution_count": null,
      "outputs": [
        {
          "output_type": "stream",
          "name": "stdout",
          "text": [
            "False is False\n"
          ]
        }
      ]
    },
    {
      "cell_type": "code",
      "source": [
        "whatis(0)"
      ],
      "metadata": {
        "colab": {
          "base_uri": "https://localhost:8080/"
        },
        "id": "til3-RkN4w0W",
        "outputId": "173383d6-ca23-4809-eac3-1b6abd94f824"
      },
      "execution_count": null,
      "outputs": [
        {
          "output_type": "stream",
          "name": "stdout",
          "text": [
            "0 is False\n"
          ]
        }
      ]
    },
    {
      "cell_type": "code",
      "source": [
        "whatis(0.0)"
      ],
      "metadata": {
        "colab": {
          "base_uri": "https://localhost:8080/"
        },
        "id": "lM_TuMYG42B3",
        "outputId": "161b2c7f-7e84-44f1-9f05-dfb8386d4554"
      },
      "execution_count": null,
      "outputs": [
        {
          "output_type": "stream",
          "name": "stdout",
          "text": [
            "0.0 is False\n"
          ]
        }
      ]
    },
    {
      "cell_type": "code",
      "source": [
        "whatis(\"\")"
      ],
      "metadata": {
        "colab": {
          "base_uri": "https://localhost:8080/"
        },
        "id": "r3cbN2xb45iQ",
        "outputId": "57a96a51-4b9c-468a-b38d-c2b7cc006b91"
      },
      "execution_count": null,
      "outputs": [
        {
          "output_type": "stream",
          "name": "stdout",
          "text": [
            " is False\n"
          ]
        }
      ]
    },
    {
      "cell_type": "code",
      "source": [
        "whatis('')"
      ],
      "metadata": {
        "colab": {
          "base_uri": "https://localhost:8080/"
        },
        "id": "Hn0jWFNT478R",
        "outputId": "5f6387b1-215a-47cf-eeab-af5e96543566"
      },
      "execution_count": null,
      "outputs": [
        {
          "output_type": "stream",
          "name": "stdout",
          "text": [
            " is False\n"
          ]
        }
      ]
    },
    {
      "cell_type": "code",
      "source": [
        "whatis('''''')"
      ],
      "metadata": {
        "colab": {
          "base_uri": "https://localhost:8080/"
        },
        "id": "heyirNnT4-dU",
        "outputId": "4d2503fa-7e65-4ecb-8f98-502842df0348"
      },
      "execution_count": null,
      "outputs": [
        {
          "output_type": "stream",
          "name": "stdout",
          "text": [
            " is False\n"
          ]
        }
      ]
    },
    {
      "cell_type": "code",
      "source": [
        "whatis(())"
      ],
      "metadata": {
        "colab": {
          "base_uri": "https://localhost:8080/"
        },
        "id": "8kXPo-Su5BXx",
        "outputId": "ed02ef48-f62c-4e7e-b62c-9bad616bcd28"
      },
      "execution_count": null,
      "outputs": [
        {
          "output_type": "stream",
          "name": "stdout",
          "text": [
            "() is False\n"
          ]
        }
      ]
    },
    {
      "cell_type": "code",
      "source": [
        "whatis([])"
      ],
      "metadata": {
        "colab": {
          "base_uri": "https://localhost:8080/"
        },
        "id": "j4jqhOUR5Dp_",
        "outputId": "ff64b16c-a7ad-4582-d24e-45ee6a5411cf"
      },
      "execution_count": null,
      "outputs": [
        {
          "output_type": "stream",
          "name": "stdout",
          "text": [
            "[] is False\n"
          ]
        }
      ]
    },
    {
      "cell_type": "code",
      "source": [
        "whatis({})"
      ],
      "metadata": {
        "colab": {
          "base_uri": "https://localhost:8080/"
        },
        "id": "vQS9LBuI5Fop",
        "outputId": "ea37455c-af73-4856-e6a8-ff33d82e500b"
      },
      "execution_count": null,
      "outputs": [
        {
          "output_type": "stream",
          "name": "stdout",
          "text": [
            "{} is False\n"
          ]
        }
      ]
    },
    {
      "cell_type": "code",
      "source": [
        "whatis(set())"
      ],
      "metadata": {
        "colab": {
          "base_uri": "https://localhost:8080/"
        },
        "id": "FIZRO3WQ5MsF",
        "outputId": "cb2aaedc-2a21-49e8-cd25-d49d1e033c97"
      },
      "execution_count": null,
      "outputs": [
        {
          "output_type": "stream",
          "name": "stdout",
          "text": [
            "set() is False\n"
          ]
        }
      ]
    },
    {
      "cell_type": "code",
      "source": [
        "whatis(0.000000001)"
      ],
      "metadata": {
        "colab": {
          "base_uri": "https://localhost:8080/"
        },
        "id": "VXFckXpU5OqR",
        "outputId": "9a336f9d-9fea-45d5-d2de-3c48878e1c75"
      },
      "execution_count": null,
      "outputs": [
        {
          "output_type": "stream",
          "name": "stdout",
          "text": [
            "1e-09 is True\n"
          ]
        }
      ]
    },
    {
      "cell_type": "code",
      "source": [
        "whatis([0])"
      ],
      "metadata": {
        "colab": {
          "base_uri": "https://localhost:8080/"
        },
        "id": "jThS-ZBd5Rq9",
        "outputId": "690c80f8-d8b4-4304-d9cb-5c2dbd982915"
      },
      "execution_count": null,
      "outputs": [
        {
          "output_type": "stream",
          "name": "stdout",
          "text": [
            "[0] is True\n"
          ]
        }
      ]
    },
    {
      "cell_type": "code",
      "source": [
        "whatis([''])"
      ],
      "metadata": {
        "colab": {
          "base_uri": "https://localhost:8080/"
        },
        "id": "YAfa2e7O5UbN",
        "outputId": "d93a47a2-0079-4f6e-ff7b-48cce6d7a062"
      },
      "execution_count": null,
      "outputs": [
        {
          "output_type": "stream",
          "name": "stdout",
          "text": [
            "[''] is True\n"
          ]
        }
      ]
    },
    {
      "cell_type": "code",
      "source": [
        "whatis(' ')"
      ],
      "metadata": {
        "colab": {
          "base_uri": "https://localhost:8080/"
        },
        "id": "bhvOdPpf5ZTY",
        "outputId": "a8380003-81dc-47d8-a914-baf50480ecc8"
      },
      "execution_count": null,
      "outputs": [
        {
          "output_type": "stream",
          "name": "stdout",
          "text": [
            "  is True\n"
          ]
        }
      ]
    },
    {
      "cell_type": "code",
      "source": [
        "# 位置性引數"
      ],
      "metadata": {
        "id": "A0S2mBIs5i2P"
      },
      "execution_count": null,
      "outputs": []
    },
    {
      "cell_type": "code",
      "source": [
        "def menu(wine, entree, dessert):\n",
        "  return {\"wine\": wine, \"entree\": entree, \"dessert\": dessert}"
      ],
      "metadata": {
        "id": "Ru8lCKrE5odZ"
      },
      "execution_count": null,
      "outputs": []
    },
    {
      "cell_type": "code",
      "source": [
        "menu(\"chardonnay\", \"chicken\", \"cake，\")"
      ],
      "metadata": {
        "colab": {
          "base_uri": "https://localhost:8080/"
        },
        "id": "VTTLUK2I56F-",
        "outputId": "5eed4172-d262-4e3d-dca3-db7a96f109cb"
      },
      "execution_count": null,
      "outputs": [
        {
          "output_type": "execute_result",
          "data": {
            "text/plain": [
              "{'wine': 'chardonnay', 'entree': 'chicken', 'dessert': 'cake，'}"
            ]
          },
          "metadata": {},
          "execution_count": 97
        }
      ]
    },
    {
      "cell_type": "code",
      "source": [
        "menu(\"beef\", \"bagel\", \"bordeaux\")"
      ],
      "metadata": {
        "colab": {
          "base_uri": "https://localhost:8080/"
        },
        "id": "dYGhYK626GW3",
        "outputId": "13169971-9c10-4fb7-8746-717e46ce707c"
      },
      "execution_count": null,
      "outputs": [
        {
          "output_type": "execute_result",
          "data": {
            "text/plain": [
              "{'wine': 'beef', 'entree': 'bagel', 'dessert': 'bordeaux'}"
            ]
          },
          "metadata": {},
          "execution_count": 98
        }
      ]
    },
    {
      "cell_type": "code",
      "source": [
        "# 關鍵字引數"
      ],
      "metadata": {
        "id": "GIfRSyjk6SY5"
      },
      "execution_count": null,
      "outputs": []
    },
    {
      "cell_type": "code",
      "source": [
        "menu(entree=\"beef\", dessert=\"bagel\", wine=\"bordeaux\")"
      ],
      "metadata": {
        "colab": {
          "base_uri": "https://localhost:8080/"
        },
        "id": "zTUW-KP66VPS",
        "outputId": "1d2d32bf-102d-4b32-db1f-da188e2af8aa"
      },
      "execution_count": null,
      "outputs": [
        {
          "output_type": "execute_result",
          "data": {
            "text/plain": [
              "{'wine': 'bordeaux', 'entree': 'beef', 'dessert': 'bagel'}"
            ]
          },
          "metadata": {},
          "execution_count": 100
        }
      ]
    },
    {
      "cell_type": "code",
      "source": [
        "menu(\"frontenac\", dessert=\"flan\", entree=\"fish，\")"
      ],
      "metadata": {
        "colab": {
          "base_uri": "https://localhost:8080/"
        },
        "id": "JyUmDnZB7P9X",
        "outputId": "56f14031-a71c-4090-ed76-98a8361ccb3c"
      },
      "execution_count": null,
      "outputs": [
        {
          "output_type": "execute_result",
          "data": {
            "text/plain": [
              "{'wine': 'frontenac', 'entree': 'fish，', 'dessert': 'flan'}"
            ]
          },
          "metadata": {},
          "execution_count": 101
        }
      ]
    },
    {
      "cell_type": "code",
      "source": [
        "# 指定預設參數值"
      ],
      "metadata": {
        "id": "XRWZZi_-7gDs"
      },
      "execution_count": null,
      "outputs": []
    },
    {
      "cell_type": "code",
      "source": [
        "def menu(wine, entree, dessert=\"pudding\"):\n",
        "  return {\"wind\": wine, \"entree\": entree, \"dessert\": dessert}"
      ],
      "metadata": {
        "id": "z8iDIo7bBnkJ"
      },
      "execution_count": null,
      "outputs": []
    },
    {
      "cell_type": "code",
      "source": [
        "menu(\"chardonnay\", \"chicken\")"
      ],
      "metadata": {
        "colab": {
          "base_uri": "https://localhost:8080/"
        },
        "id": "PNMTkHAyB4qQ",
        "outputId": "6ab2f62e-d9ca-4ba4-9a6a-aaa8cfa4a8e4"
      },
      "execution_count": null,
      "outputs": [
        {
          "output_type": "execute_result",
          "data": {
            "text/plain": [
              "{'wind': 'chardonnay', 'entree': 'chicken', 'dessert': 'pudding'}"
            ]
          },
          "metadata": {},
          "execution_count": 104
        }
      ]
    },
    {
      "cell_type": "code",
      "source": [
        "menu(\"dunkelfelder\", \"duck\", \"doughnut\")"
      ],
      "metadata": {
        "colab": {
          "base_uri": "https://localhost:8080/"
        },
        "id": "0FXQk625CBuW",
        "outputId": "f850dd66-2e23-46c3-9d3b-7253b2ac1dd4"
      },
      "execution_count": null,
      "outputs": [
        {
          "output_type": "execute_result",
          "data": {
            "text/plain": [
              "{'wind': 'dunkelfelder', 'entree': 'duck', 'dessert': 'doughnut'}"
            ]
          },
          "metadata": {},
          "execution_count": 105
        }
      ]
    },
    {
      "cell_type": "code",
      "source": [
        "# 預設的參數值是在函式被定義的時候計算的，不是在執行的時候。"
      ],
      "metadata": {
        "id": "koTvcHk5COTW"
      },
      "execution_count": null,
      "outputs": []
    },
    {
      "cell_type": "code",
      "source": [
        "def buggy(arg, result=[]):\n",
        "  result.append(arg)\n",
        "  print(result)"
      ],
      "metadata": {
        "id": "oDhX0j7gCgj3"
      },
      "execution_count": null,
      "outputs": []
    },
    {
      "cell_type": "code",
      "source": [
        "buggy(\"a\")"
      ],
      "metadata": {
        "colab": {
          "base_uri": "https://localhost:8080/"
        },
        "id": "bhk92GGtCpbE",
        "outputId": "13df3361-3ae0-4bb3-cfb3-660f0e30e0b4"
      },
      "execution_count": null,
      "outputs": [
        {
          "output_type": "stream",
          "name": "stdout",
          "text": [
            "['a']\n"
          ]
        }
      ]
    },
    {
      "cell_type": "code",
      "source": [
        "buggy(\"b\") # 預期是 ['b']"
      ],
      "metadata": {
        "colab": {
          "base_uri": "https://localhost:8080/"
        },
        "id": "o6yWcU6HCstT",
        "outputId": "66808d89-d16f-4c6c-f89c-82ecc19e366e"
      },
      "execution_count": null,
      "outputs": [
        {
          "output_type": "stream",
          "name": "stdout",
          "text": [
            "['a', 'b']\n"
          ]
        }
      ]
    },
    {
      "cell_type": "code",
      "source": [
        "# 這樣寫可以正常運作\n",
        "def work(arg):\n",
        "  result = []\n",
        "  result.append(arg)\n",
        "  return result"
      ],
      "metadata": {
        "id": "sDbq9n2eC36C"
      },
      "execution_count": null,
      "outputs": []
    },
    {
      "cell_type": "code",
      "source": [
        "work('a')"
      ],
      "metadata": {
        "colab": {
          "base_uri": "https://localhost:8080/"
        },
        "id": "6e-_ZFGPDWGi",
        "outputId": "85232a25-0f83-4901-aae2-d61b6ea83d41"
      },
      "execution_count": null,
      "outputs": [
        {
          "output_type": "execute_result",
          "data": {
            "text/plain": [
              "['a']"
            ]
          },
          "metadata": {},
          "execution_count": 111
        }
      ]
    },
    {
      "cell_type": "code",
      "source": [
        "work('b')"
      ],
      "metadata": {
        "colab": {
          "base_uri": "https://localhost:8080/"
        },
        "id": "BGluznqbDZJl",
        "outputId": "dc55703c-3dd8-46ba-adf3-db822b185c4b"
      },
      "execution_count": null,
      "outputs": [
        {
          "output_type": "execute_result",
          "data": {
            "text/plain": [
              "['b']"
            ]
          },
          "metadata": {},
          "execution_count": 112
        }
      ]
    },
    {
      "cell_type": "code",
      "source": [
        "# 修正的做法是傳入別的東西來代表第一次呼叫\n",
        "def nonbuggy(arg, result=None):\n",
        "  if result is None:\n",
        "    result = []\n",
        "  result.append(arg)\n",
        "  print(result)"
      ],
      "metadata": {
        "id": "qGEZN73nDbTP"
      },
      "execution_count": null,
      "outputs": []
    },
    {
      "cell_type": "code",
      "source": [
        "nonbuggy('a')"
      ],
      "metadata": {
        "colab": {
          "base_uri": "https://localhost:8080/"
        },
        "id": "Tk2kh2LSD876",
        "outputId": "8f62fd47-9b59-47fa-9869-c95cebbf7a11"
      },
      "execution_count": null,
      "outputs": [
        {
          "output_type": "stream",
          "name": "stdout",
          "text": [
            "['a']\n"
          ]
        }
      ]
    },
    {
      "cell_type": "code",
      "source": [
        "nonbuggy('b')"
      ],
      "metadata": {
        "colab": {
          "base_uri": "https://localhost:8080/"
        },
        "id": "8Tv1l_OmD-vm",
        "outputId": "7c662722-a584-4305-9a95-24f0c19d4703"
      },
      "execution_count": null,
      "outputs": [
        {
          "output_type": "stream",
          "name": "stdout",
          "text": [
            "['b']\n"
          ]
        }
      ]
    },
    {
      "cell_type": "code",
      "source": [
        "# 用 * 來炸開 / 收集位置引數"
      ],
      "metadata": {
        "id": "jN9rFm7nEAsc"
      },
      "execution_count": null,
      "outputs": []
    },
    {
      "cell_type": "code",
      "source": [
        "# 在函式參數裡面的星號可以將數量不一定的位置引數組成一個參數值 tuple。"
      ],
      "metadata": {
        "id": "7iUdu0kKEX0D"
      },
      "execution_count": null,
      "outputs": []
    },
    {
      "cell_type": "code",
      "source": [
        "def print_args(*args):\n",
        "  print('Positonal tuple: ', args)"
      ],
      "metadata": {
        "id": "wue7JO5iEpA2"
      },
      "execution_count": null,
      "outputs": []
    },
    {
      "cell_type": "code",
      "source": [
        "print_args()"
      ],
      "metadata": {
        "colab": {
          "base_uri": "https://localhost:8080/"
        },
        "id": "JmmC2LQME-GI",
        "outputId": "62e10a4e-81e2-4824-856f-6889f6bdd137"
      },
      "execution_count": null,
      "outputs": [
        {
          "output_type": "stream",
          "name": "stdout",
          "text": [
            "Positonal tuple:  ()\n"
          ]
        }
      ]
    },
    {
      "cell_type": "code",
      "source": [
        "print_args(3, 2, 1, 'wait', 'uh...')"
      ],
      "metadata": {
        "colab": {
          "base_uri": "https://localhost:8080/"
        },
        "id": "QllY_j0_FBWY",
        "outputId": "c333901b-d1e9-45d9-819e-bd06dcafaa95"
      },
      "execution_count": null,
      "outputs": [
        {
          "output_type": "stream",
          "name": "stdout",
          "text": [
            "Positonal tuple:  (3, 2, 1, 'wait', 'uh...')\n"
          ]
        }
      ]
    },
    {
      "cell_type": "code",
      "source": [
        "# 很適合用來編寫 print() 等引數的數量不一定的函數"
      ],
      "metadata": {
        "id": "qiB3N6vWFJ41"
      },
      "execution_count": null,
      "outputs": []
    },
    {
      "cell_type": "code",
      "source": [
        "def print_more(required1, required2, *args):\n",
        "  print('Need this one:', required1)\n",
        "  print('Need this one too:', required2)\n",
        "  print('All the rest:', args)\n",
        "\n",
        "print_more('cap', 'gloves', 'scarf', 'monocle', 'mustache wax')"
      ],
      "metadata": {
        "colab": {
          "base_uri": "https://localhost:8080/"
        },
        "id": "d5ytz31XFVev",
        "outputId": "dfc1bb5c-8532-4a02-c452-dccfe89e89d7"
      },
      "execution_count": null,
      "outputs": [
        {
          "output_type": "stream",
          "name": "stdout",
          "text": [
            "Need this one: cap\n",
            "Need this one too: gloves\n",
            "All the rest: ('scarf', 'monocle', 'mustache wax')\n"
          ]
        }
      ]
    },
    {
      "cell_type": "code",
      "source": [
        "print_args(2, 5, 7, 'x')"
      ],
      "metadata": {
        "colab": {
          "base_uri": "https://localhost:8080/"
        },
        "id": "_5ea5lRRGhRV",
        "outputId": "0f51552d-5985-4d44-a50d-d800d6fa23ba"
      },
      "execution_count": null,
      "outputs": [
        {
          "output_type": "stream",
          "name": "stdout",
          "text": [
            "Positonal tuple:  (2, 5, 7, 'x')\n"
          ]
        }
      ]
    },
    {
      "cell_type": "code",
      "source": [
        "args = (2, 5, 7, 'x')\n",
        "print_args(args)"
      ],
      "metadata": {
        "colab": {
          "base_uri": "https://localhost:8080/"
        },
        "id": "l98tWqPTGmJh",
        "outputId": "f1529673-5668-40e6-9cb9-b09dd90cf41d"
      },
      "execution_count": null,
      "outputs": [
        {
          "output_type": "stream",
          "name": "stdout",
          "text": [
            "Positonal tuple:  ((2, 5, 7, 'x'),)\n"
          ]
        }
      ]
    },
    {
      "cell_type": "code",
      "source": [
        "print_args(*args)"
      ],
      "metadata": {
        "colab": {
          "base_uri": "https://localhost:8080/"
        },
        "id": "hc6IyVoXGs9j",
        "outputId": "3f9ac942-0ec8-4e24-a81e-549e57bd7fc5"
      },
      "execution_count": null,
      "outputs": [
        {
          "output_type": "stream",
          "name": "stdout",
          "text": [
            "Positonal tuple:  (2, 5, 7, 'x')\n"
          ]
        }
      ]
    },
    {
      "cell_type": "code",
      "source": [
        "*args"
      ],
      "metadata": {
        "colab": {
          "base_uri": "https://localhost:8080/",
          "height": 106
        },
        "id": "o_Ja0jKzG0Kl",
        "outputId": "edc292c9-db3e-4f0e-ac8a-d1efe60f9d4d"
      },
      "execution_count": null,
      "outputs": [
        {
          "output_type": "error",
          "ename": "SyntaxError",
          "evalue": "can't use starred expression here (<ipython-input-127-040fcb6bb52c>, line 1)",
          "traceback": [
            "\u001b[0;36m  File \u001b[0;32m\"<ipython-input-127-040fcb6bb52c>\"\u001b[0;36m, line \u001b[0;32m1\u001b[0m\n\u001b[0;31m    *args\u001b[0m\n\u001b[0m    ^\u001b[0m\n\u001b[0;31mSyntaxError\u001b[0m\u001b[0;31m:\u001b[0m can't use starred expression here\n"
          ]
        }
      ]
    },
    {
      "cell_type": "code",
      "source": [
        "# 用 ** 炸開/收集關鍵字引數"
      ],
      "metadata": {
        "id": "M0XpwDYkG1rU"
      },
      "execution_count": null,
      "outputs": []
    },
    {
      "cell_type": "code",
      "source": [
        "def print_kwargs(**kwargs):\n",
        "  print('Keyword arguments: ', kwargs)"
      ],
      "metadata": {
        "id": "r00H7HxQ72Af"
      },
      "execution_count": null,
      "outputs": []
    },
    {
      "cell_type": "code",
      "source": [
        "print_kwargs()"
      ],
      "metadata": {
        "colab": {
          "base_uri": "https://localhost:8080/"
        },
        "id": "UcHxYgFG8DO4",
        "outputId": "7c11a356-b7aa-4ca3-9447-b91beae5bc19"
      },
      "execution_count": null,
      "outputs": [
        {
          "output_type": "stream",
          "name": "stdout",
          "text": [
            "Keyword arguments:  {}\n"
          ]
        }
      ]
    },
    {
      "cell_type": "code",
      "source": [
        "print_kwargs(wine='merlot', entree='mutton', dessert='macaroon')"
      ],
      "metadata": {
        "colab": {
          "base_uri": "https://localhost:8080/"
        },
        "id": "BSCljpvg8GNB",
        "outputId": "d024f8aa-f9f9-4566-a7cc-562386579d5c"
      },
      "execution_count": null,
      "outputs": [
        {
          "output_type": "stream",
          "name": "stdout",
          "text": [
            "Keyword arguments:  {'wine': 'merlot', 'entree': 'mutton', 'dessert': 'macaroon'}\n"
          ]
        }
      ]
    },
    {
      "cell_type": "code",
      "source": [
        "def print_data(data, *, start=0, end=100):\n",
        "  for value in (data[start:end]):\n",
        "    print(value)"
      ],
      "metadata": {
        "id": "mmnvOZ7R8TTM"
      },
      "execution_count": null,
      "outputs": []
    },
    {
      "cell_type": "code",
      "source": [
        "data = ['a', 'b', 'c', 'd', 'e', 'f']\n",
        "\n",
        "print_data(data)"
      ],
      "metadata": {
        "colab": {
          "base_uri": "https://localhost:8080/"
        },
        "id": "Qj1T7D3a-Tml",
        "outputId": "4ba043c0-3f33-481c-b4ea-bbbde6cb9775"
      },
      "execution_count": null,
      "outputs": [
        {
          "output_type": "stream",
          "name": "stdout",
          "text": [
            "a\n",
            "b\n",
            "c\n",
            "d\n",
            "e\n",
            "f\n"
          ]
        }
      ]
    },
    {
      "cell_type": "code",
      "source": [
        "print_data(data, start=4)"
      ],
      "metadata": {
        "colab": {
          "base_uri": "https://localhost:8080/"
        },
        "id": "nCRHf8dy-byf",
        "outputId": "ec7b45ad-0317-407b-857b-e6bf94d1a516"
      },
      "execution_count": null,
      "outputs": [
        {
          "output_type": "stream",
          "name": "stdout",
          "text": [
            "e\n",
            "f\n"
          ]
        }
      ]
    },
    {
      "cell_type": "code",
      "source": [
        "print_data(data, end=2)"
      ],
      "metadata": {
        "colab": {
          "base_uri": "https://localhost:8080/"
        },
        "id": "DlMJfwhC-icB",
        "outputId": "0639852b-9184-4801-bf3d-33ab7918f772"
      },
      "execution_count": null,
      "outputs": [
        {
          "output_type": "stream",
          "name": "stdout",
          "text": [
            "a\n",
            "b\n"
          ]
        }
      ]
    },
    {
      "cell_type": "code",
      "source": [
        "# 可變與不可變引數"
      ],
      "metadata": {
        "id": "Mgsr_F4F-lGT"
      },
      "execution_count": null,
      "outputs": []
    },
    {
      "cell_type": "code",
      "source": [
        "# 以下是不好的作法\n",
        "outside = ['one', 'fine', 'day']\n",
        "\n",
        "def mangle(arg):\n",
        "  arg[1] = 'terrible!'\n",
        "\n",
        "outside"
      ],
      "metadata": {
        "colab": {
          "base_uri": "https://localhost:8080/"
        },
        "id": "YVz0jiNE_A_8",
        "outputId": "7859b30e-8537-47d6-be36-0c87f14ca607"
      },
      "execution_count": null,
      "outputs": [
        {
          "output_type": "execute_result",
          "data": {
            "text/plain": [
              "['one', 'fine', 'day']"
            ]
          },
          "metadata": {},
          "execution_count": 136
        }
      ]
    },
    {
      "cell_type": "code",
      "source": [
        "mangle(outside)\n",
        "\n",
        "outside"
      ],
      "metadata": {
        "colab": {
          "base_uri": "https://localhost:8080/"
        },
        "id": "BJGbhv9B_Sh8",
        "outputId": "ced022ab-6776-4745-d6bd-959922985df3"
      },
      "execution_count": null,
      "outputs": [
        {
          "output_type": "execute_result",
          "data": {
            "text/plain": [
              "['one', 'terrible!', 'day']"
            ]
          },
          "metadata": {},
          "execution_count": 137
        }
      ]
    },
    {
      "cell_type": "code",
      "source": [
        "# 以上應優化方向，要嘛說明引數可能會被更改(清單)，要嘛就 return 一個新值"
      ],
      "metadata": {
        "id": "TzME8Z3y_X0X"
      },
      "execution_count": null,
      "outputs": []
    },
    {
      "cell_type": "code",
      "source": [
        "# Dockstring"
      ],
      "metadata": {
        "id": "BJnhTkunGR2I"
      },
      "execution_count": null,
      "outputs": []
    },
    {
      "cell_type": "code",
      "source": [
        "def echo(anything):\n",
        "  'echo returns its input argument'\n",
        "  return anything"
      ],
      "metadata": {
        "id": "Somaz9lhGfqj"
      },
      "execution_count": null,
      "outputs": []
    },
    {
      "cell_type": "code",
      "source": [
        "def print_if_true(thing, check):\n",
        "  '''\n",
        "  Prints the first argument if a second argument is true.\n",
        "  The operation is:\n",
        "    1. Check whether the *second* argument is true.\n",
        "    2. If it is, print the *first* argument.\n",
        "  '''\n",
        "  if check:\n",
        "    print(thing)"
      ],
      "metadata": {
        "id": "ZvmEThaKGvpe"
      },
      "execution_count": null,
      "outputs": []
    },
    {
      "cell_type": "code",
      "source": [
        "help(echo)"
      ],
      "metadata": {
        "id": "kQ2VL4JgHZtw",
        "outputId": "fa7d93ed-06df-459b-9968-38636a5073ec",
        "colab": {
          "base_uri": "https://localhost:8080/"
        }
      },
      "execution_count": null,
      "outputs": [
        {
          "output_type": "stream",
          "name": "stdout",
          "text": [
            "Help on function echo in module __main__:\n",
            "\n",
            "echo(anything)\n",
            "    echo returns its input argument\n",
            "\n"
          ]
        }
      ]
    },
    {
      "cell_type": "code",
      "source": [
        "# 如果只想要查看原始的 docstring"
      ],
      "metadata": {
        "id": "h-wRORwMHudG"
      },
      "execution_count": null,
      "outputs": []
    },
    {
      "cell_type": "code",
      "source": [
        "print(echo.__doc__)"
      ],
      "metadata": {
        "id": "iQ5kmo8yHsuZ",
        "outputId": "b19a1a4d-c919-43f7-892a-e6058f56f24e",
        "colab": {
          "base_uri": "https://localhost:8080/"
        }
      },
      "execution_count": null,
      "outputs": [
        {
          "output_type": "stream",
          "name": "stdout",
          "text": [
            "echo returns its input argument\n"
          ]
        }
      ]
    },
    {
      "cell_type": "code",
      "source": [
        "def answer():\n",
        "  print(42)"
      ],
      "metadata": {
        "id": "k_uKzfJsIUtp"
      },
      "execution_count": null,
      "outputs": []
    },
    {
      "cell_type": "code",
      "source": [
        "answer()"
      ],
      "metadata": {
        "id": "rBaoI2atIjZB",
        "outputId": "48ceb09a-3b9e-4e3f-e3d7-733fb2daf573",
        "colab": {
          "base_uri": "https://localhost:8080/"
        }
      },
      "execution_count": null,
      "outputs": [
        {
          "output_type": "stream",
          "name": "stdout",
          "text": [
            "42\n"
          ]
        }
      ]
    },
    {
      "cell_type": "code",
      "source": [
        "def run_something(func):\n",
        "  func()"
      ],
      "metadata": {
        "id": "-uZOdx7QIk3g"
      },
      "execution_count": null,
      "outputs": []
    },
    {
      "cell_type": "code",
      "source": [
        "run_something(answer)"
      ],
      "metadata": {
        "id": "a9BQj3cKJODd",
        "outputId": "4845efaa-0705-4701-868a-7cb1ad24ee5f",
        "colab": {
          "base_uri": "https://localhost:8080/"
        }
      },
      "execution_count": null,
      "outputs": [
        {
          "output_type": "stream",
          "name": "stdout",
          "text": [
            "42\n"
          ]
        }
      ]
    },
    {
      "cell_type": "code",
      "source": [
        "type(run_something)"
      ],
      "metadata": {
        "id": "edY8yv2eJVw6",
        "outputId": "3e8da9e7-9116-46b9-bd15-4111264c8620",
        "colab": {
          "base_uri": "https://localhost:8080/"
        }
      },
      "execution_count": null,
      "outputs": [
        {
          "output_type": "execute_result",
          "data": {
            "text/plain": [
              "function"
            ]
          },
          "metadata": {},
          "execution_count": 149
        }
      ]
    },
    {
      "cell_type": "code",
      "source": [
        "def add_args(arg1, arg2):\n",
        "  print(arg1 + arg2)"
      ],
      "metadata": {
        "id": "xEHUEG4bJcat"
      },
      "execution_count": null,
      "outputs": []
    },
    {
      "cell_type": "code",
      "source": [
        "type(add_args)"
      ],
      "metadata": {
        "id": "RbcpwYxMJocR",
        "outputId": "07ad09d9-5f15-4c68-a209-972311d8309f",
        "colab": {
          "base_uri": "https://localhost:8080/"
        }
      },
      "execution_count": null,
      "outputs": [
        {
          "output_type": "execute_result",
          "data": {
            "text/plain": [
              "function"
            ]
          },
          "metadata": {},
          "execution_count": 151
        }
      ]
    },
    {
      "cell_type": "code",
      "source": [
        "def run_something_with_args(func, arg1, arg2):\n",
        "  func(arg1, arg2)"
      ],
      "metadata": {
        "id": "jilMRAgfJsJA"
      },
      "execution_count": null,
      "outputs": []
    },
    {
      "cell_type": "code",
      "source": [
        "run_something_with_args(add_args, 5, 9)"
      ],
      "metadata": {
        "id": "IaMCLPJXJ6WL",
        "outputId": "13201b97-afa7-46c0-d40e-721d85c2cf53",
        "colab": {
          "base_uri": "https://localhost:8080/"
        }
      },
      "execution_count": null,
      "outputs": [
        {
          "output_type": "stream",
          "name": "stdout",
          "text": [
            "14\n"
          ]
        }
      ]
    },
    {
      "cell_type": "code",
      "source": [
        "def sum_args(*args):\n",
        "  return sum(args)"
      ],
      "metadata": {
        "id": "Bf0xy0duKF5r"
      },
      "execution_count": null,
      "outputs": []
    },
    {
      "cell_type": "code",
      "source": [
        "sum_args(1, 2, 3, 4, 5)"
      ],
      "metadata": {
        "id": "gPqpwyMrLR72",
        "outputId": "0e965527-3bfa-463b-dd6f-051a71d2ff5a",
        "colab": {
          "base_uri": "https://localhost:8080/"
        }
      },
      "execution_count": null,
      "outputs": [
        {
          "output_type": "execute_result",
          "data": {
            "text/plain": [
              "15"
            ]
          },
          "metadata": {},
          "execution_count": 157
        }
      ]
    },
    {
      "cell_type": "code",
      "source": [
        "def run_with_positional_args(func, *args):\n",
        "  print(args)\n",
        "  print(*args)\n",
        "  return func(*args)"
      ],
      "metadata": {
        "id": "1pWgUqCpKWG5"
      },
      "execution_count": null,
      "outputs": []
    },
    {
      "cell_type": "code",
      "source": [
        "run_with_positional_args(sum_args, 1, 2, 3, 4)"
      ],
      "metadata": {
        "id": "bao6wZkdLAYJ",
        "outputId": "2a41f76c-0267-4c8e-d986-c398b3a3e815",
        "colab": {
          "base_uri": "https://localhost:8080/"
        }
      },
      "execution_count": null,
      "outputs": [
        {
          "output_type": "stream",
          "name": "stdout",
          "text": [
            "(1, 2, 3, 4)\n",
            "1 2 3 4\n"
          ]
        },
        {
          "output_type": "execute_result",
          "data": {
            "text/plain": [
              "10"
            ]
          },
          "metadata": {},
          "execution_count": 165
        }
      ]
    },
    {
      "cell_type": "code",
      "source": [
        "def outer(a, b):\n",
        "  def inner(c, d):\n",
        "    return c + d\n",
        "  return inner(a, b)"
      ],
      "metadata": {
        "id": "Ir7P6-tMMRP9"
      },
      "execution_count": null,
      "outputs": []
    },
    {
      "cell_type": "code",
      "source": [
        "outer(4, 7)"
      ],
      "metadata": {
        "id": "3PTemMqzMga7",
        "outputId": "e1695870-dfd1-49d3-d89e-15d971772653",
        "colab": {
          "base_uri": "https://localhost:8080/"
        }
      },
      "execution_count": null,
      "outputs": [
        {
          "output_type": "execute_result",
          "data": {
            "text/plain": [
              "11"
            ]
          },
          "metadata": {},
          "execution_count": 167
        }
      ]
    },
    {
      "cell_type": "code",
      "source": [
        "def knights(saying):\n",
        "  def inner(quote):\n",
        "    return \"We are the knights who say: '%s'\" % quote\n",
        "\n",
        "  return inner(saying)"
      ],
      "metadata": {
        "id": "arU6PwOMMivV"
      },
      "execution_count": null,
      "outputs": []
    },
    {
      "cell_type": "code",
      "source": [
        "knights('Ni!')"
      ],
      "metadata": {
        "id": "-dND8jJ3Nb7-",
        "outputId": "ee539c07-28d5-4315-a8ad-d4a33b4ff498",
        "colab": {
          "base_uri": "https://localhost:8080/",
          "height": 35
        }
      },
      "execution_count": null,
      "outputs": [
        {
          "output_type": "execute_result",
          "data": {
            "text/plain": [
              "\"We are the knights who say: 'Ni!'\""
            ],
            "application/vnd.google.colaboratory.intrinsic+json": {
              "type": "string"
            }
          },
          "metadata": {},
          "execution_count": 170
        }
      ]
    },
    {
      "cell_type": "code",
      "source": [
        "# Closure"
      ],
      "metadata": {
        "id": "kfSg2nBUNI-D"
      },
      "execution_count": null,
      "outputs": []
    },
    {
      "cell_type": "code",
      "source": [
        "def knights2(saying):\n",
        "  def inner2():\n",
        "    return \"We are the knights who say: '%s'\" % saying\n",
        "\n",
        "  return inner2\n"
      ],
      "metadata": {
        "id": "Gkjmk8ivNj_S"
      },
      "execution_count": null,
      "outputs": []
    },
    {
      "cell_type": "code",
      "source": [
        "a = knights2('Duck')\n",
        "b = knights2('Hasenpfeffer')"
      ],
      "metadata": {
        "id": "HbjLd7gFPs7E"
      },
      "execution_count": null,
      "outputs": []
    },
    {
      "cell_type": "code",
      "source": [
        "type(a)"
      ],
      "metadata": {
        "id": "4dyh277IQEyX",
        "outputId": "7e79b85a-bc31-4b9b-950f-f6c0af0cc2b5",
        "colab": {
          "base_uri": "https://localhost:8080/"
        }
      },
      "execution_count": null,
      "outputs": [
        {
          "output_type": "execute_result",
          "data": {
            "text/plain": [
              "function"
            ]
          },
          "metadata": {},
          "execution_count": 180
        }
      ]
    },
    {
      "cell_type": "code",
      "source": [
        "type(b)"
      ],
      "metadata": {
        "id": "PBaLFGtiQVEX",
        "outputId": "9bee2394-b6ff-4962-902d-e7d1a50cd687",
        "colab": {
          "base_uri": "https://localhost:8080/"
        }
      },
      "execution_count": null,
      "outputs": [
        {
          "output_type": "execute_result",
          "data": {
            "text/plain": [
              "function"
            ]
          },
          "metadata": {},
          "execution_count": 181
        }
      ]
    },
    {
      "cell_type": "code",
      "source": [
        "a"
      ],
      "metadata": {
        "id": "ON8XrFS8Qdf5",
        "outputId": "ce7329e7-50c3-416f-b72d-e5e7d87f1e78",
        "colab": {
          "base_uri": "https://localhost:8080/",
          "height": 104
        }
      },
      "execution_count": null,
      "outputs": [
        {
          "output_type": "execute_result",
          "data": {
            "text/plain": [
              "<function __main__.knights2.<locals>.inner2()>"
            ],
            "text/html": [
              "<div style=\"max-width:800px; border: 1px solid var(--colab-border-color);\"><style>\n",
              "      pre.function-repr-contents {\n",
              "        overflow-x: auto;\n",
              "        padding: 8px 12px;\n",
              "        max-height: 500px;\n",
              "      }\n",
              "\n",
              "      pre.function-repr-contents.function-repr-contents-collapsed {\n",
              "        cursor: pointer;\n",
              "        max-height: 100px;\n",
              "      }\n",
              "    </style>\n",
              "    <pre style=\"white-space: initial; background:\n",
              "         var(--colab-secondary-surface-color); padding: 8px 12px;\n",
              "         border-bottom: 1px solid var(--colab-border-color);\"><b>knights2.&lt;locals&gt;.inner2</b><br/>def inner2()</pre><pre class=\"function-repr-contents function-repr-contents-collapsed\" style=\"\"><a class=\"filepath\" style=\"display:none\" href=\"#\">/content/&lt;ipython-input-178-64fba431784a&gt;</a>&lt;no docstring&gt;</pre></div>"
            ]
          },
          "metadata": {},
          "execution_count": 182
        }
      ]
    },
    {
      "cell_type": "code",
      "source": [
        "b"
      ],
      "metadata": {
        "id": "SyZxo3dbQeFN",
        "outputId": "bd9f7f79-3401-4580-965c-1a093368f982",
        "colab": {
          "base_uri": "https://localhost:8080/",
          "height": 104
        }
      },
      "execution_count": null,
      "outputs": [
        {
          "output_type": "execute_result",
          "data": {
            "text/plain": [
              "<function __main__.knights2.<locals>.inner2()>"
            ],
            "text/html": [
              "<div style=\"max-width:800px; border: 1px solid var(--colab-border-color);\"><style>\n",
              "      pre.function-repr-contents {\n",
              "        overflow-x: auto;\n",
              "        padding: 8px 12px;\n",
              "        max-height: 500px;\n",
              "      }\n",
              "\n",
              "      pre.function-repr-contents.function-repr-contents-collapsed {\n",
              "        cursor: pointer;\n",
              "        max-height: 100px;\n",
              "      }\n",
              "    </style>\n",
              "    <pre style=\"white-space: initial; background:\n",
              "         var(--colab-secondary-surface-color); padding: 8px 12px;\n",
              "         border-bottom: 1px solid var(--colab-border-color);\"><b>knights2.&lt;locals&gt;.inner2</b><br/>def inner2()</pre><pre class=\"function-repr-contents function-repr-contents-collapsed\" style=\"\"><a class=\"filepath\" style=\"display:none\" href=\"#\">/content/&lt;ipython-input-178-64fba431784a&gt;</a>&lt;no docstring&gt;</pre></div>"
            ]
          },
          "metadata": {},
          "execution_count": 183
        }
      ]
    },
    {
      "cell_type": "code",
      "source": [
        "a()"
      ],
      "metadata": {
        "id": "kXSFdKSmQhYe",
        "outputId": "a7e67c07-6c0a-4add-e118-411d8bc2eeeb",
        "colab": {
          "base_uri": "https://localhost:8080/",
          "height": 35
        }
      },
      "execution_count": null,
      "outputs": [
        {
          "output_type": "execute_result",
          "data": {
            "text/plain": [
              "\"We are the knights who say: 'Duck'\""
            ],
            "application/vnd.google.colaboratory.intrinsic+json": {
              "type": "string"
            }
          },
          "metadata": {},
          "execution_count": 184
        }
      ]
    },
    {
      "cell_type": "code",
      "source": [
        "b()"
      ],
      "metadata": {
        "id": "OvtZKUQyQj4x",
        "outputId": "0348343f-e65a-4464-b363-be37aafd157b",
        "colab": {
          "base_uri": "https://localhost:8080/",
          "height": 35
        }
      },
      "execution_count": null,
      "outputs": [
        {
          "output_type": "execute_result",
          "data": {
            "text/plain": [
              "\"We are the knights who say: 'Hasenpfeffer'\""
            ],
            "application/vnd.google.colaboratory.intrinsic+json": {
              "type": "string"
            }
          },
          "metadata": {},
          "execution_count": 185
        }
      ]
    },
    {
      "cell_type": "code",
      "source": [
        "# lambda"
      ],
      "metadata": {
        "id": "SKxTRNv6Qt03"
      },
      "execution_count": null,
      "outputs": []
    },
    {
      "cell_type": "code",
      "source": [
        "# lambda 是一種以 一行陳述式 來表示的 匿名函式，可以用來取代一般的小函式。"
      ],
      "metadata": {
        "id": "tBP5-f35RauZ"
      },
      "execution_count": null,
      "outputs": []
    },
    {
      "cell_type": "code",
      "source": [
        "def edit_story(words, func):\n",
        "  for word in words:\n",
        "    print(func(word))"
      ],
      "metadata": {
        "id": "N1OMosnpRnZP"
      },
      "execution_count": null,
      "outputs": []
    },
    {
      "cell_type": "code",
      "source": [
        "stairs = ['thud', 'meow', 'thud', 'hiss']"
      ],
      "metadata": {
        "id": "1QjwPW1uR63X"
      },
      "execution_count": null,
      "outputs": []
    },
    {
      "cell_type": "code",
      "source": [
        "def enliven(word):\n",
        "  return word.capitalize() + '!'"
      ],
      "metadata": {
        "id": "beXHyMyySB5Z"
      },
      "execution_count": null,
      "outputs": []
    },
    {
      "cell_type": "code",
      "source": [
        "edit_story(stairs, enliven)"
      ],
      "metadata": {
        "id": "gd3BEVALSbd3",
        "outputId": "5293c9c9-a05c-4000-e2a2-96df5efff44f",
        "colab": {
          "base_uri": "https://localhost:8080/"
        }
      },
      "execution_count": null,
      "outputs": [
        {
          "output_type": "stream",
          "name": "stdout",
          "text": [
            "Thud!\n",
            "Meow!\n",
            "Thud!\n",
            "Hiss!\n"
          ]
        }
      ]
    },
    {
      "cell_type": "code",
      "source": [
        "edit_story(stairs, lambda word: word.capitalize() + '!')"
      ],
      "metadata": {
        "id": "tw3_pJi4SP4t",
        "outputId": "7c19cbc1-0d33-46db-f2b0-76767340ce18",
        "colab": {
          "base_uri": "https://localhost:8080/"
        }
      },
      "execution_count": null,
      "outputs": [
        {
          "output_type": "stream",
          "name": "stdout",
          "text": [
            "Thud!\n",
            "Meow!\n",
            "Thud!\n",
            "Hiss!\n"
          ]
        }
      ]
    },
    {
      "cell_type": "code",
      "source": [
        "# 產生器"
      ],
      "metadata": {
        "id": "wscKUnScyQTD"
      },
      "execution_count": null,
      "outputs": []
    },
    {
      "cell_type": "code",
      "source": [
        "sum(range(1, 101))"
      ],
      "metadata": {
        "colab": {
          "base_uri": "https://localhost:8080/"
        },
        "id": "Q6RJ40TAyTRE",
        "outputId": "8f38f64e-dafb-49d8-ca58-7dee85f0b147"
      },
      "execution_count": 1,
      "outputs": [
        {
          "output_type": "execute_result",
          "data": {
            "text/plain": [
              "5050"
            ]
          },
          "metadata": {},
          "execution_count": 1
        }
      ]
    },
    {
      "cell_type": "code",
      "source": [
        "def my_range(first=0, last=10, step=1):\n",
        "  number = first\n",
        "  while number < last:\n",
        "    yield number\n",
        "    number += step"
      ],
      "metadata": {
        "id": "5w9LV9-gy01-"
      },
      "execution_count": 2,
      "outputs": []
    },
    {
      "cell_type": "code",
      "source": [
        "my_range"
      ],
      "metadata": {
        "colab": {
          "base_uri": "https://localhost:8080/",
          "height": 104
        },
        "id": "3NY58mwHzeyf",
        "outputId": "1f35f261-6e6b-4a40-be5c-bec0e8118918"
      },
      "execution_count": 3,
      "outputs": [
        {
          "output_type": "execute_result",
          "data": {
            "text/plain": [
              "<function __main__.my_range(first=0, last=10, step=1)>"
            ],
            "text/html": [
              "<div style=\"max-width:800px; border: 1px solid var(--colab-border-color);\"><style>\n",
              "      pre.function-repr-contents {\n",
              "        overflow-x: auto;\n",
              "        padding: 8px 12px;\n",
              "        max-height: 500px;\n",
              "      }\n",
              "\n",
              "      pre.function-repr-contents.function-repr-contents-collapsed {\n",
              "        cursor: pointer;\n",
              "        max-height: 100px;\n",
              "      }\n",
              "    </style>\n",
              "    <pre style=\"white-space: initial; background:\n",
              "         var(--colab-secondary-surface-color); padding: 8px 12px;\n",
              "         border-bottom: 1px solid var(--colab-border-color);\"><b>my_range</b><br/>def my_range(first=0, last=10, step=1)</pre><pre class=\"function-repr-contents function-repr-contents-collapsed\" style=\"\"><a class=\"filepath\" style=\"display:none\" href=\"#\">/content/&lt;ipython-input-2-e8a3351d1b04&gt;</a>&lt;no docstring&gt;</pre></div>"
            ]
          },
          "metadata": {},
          "execution_count": 3
        }
      ]
    },
    {
      "cell_type": "code",
      "source": [
        "ranger = my_range(1, 5)\n",
        "ranger"
      ],
      "metadata": {
        "colab": {
          "base_uri": "https://localhost:8080/"
        },
        "id": "rvMr31yezjpT",
        "outputId": "2aaa8d4a-5a94-4438-f323-4cd7552dadd3"
      },
      "execution_count": 4,
      "outputs": [
        {
          "output_type": "execute_result",
          "data": {
            "text/plain": [
              "<generator object my_range at 0x7b3331f222d0>"
            ]
          },
          "metadata": {},
          "execution_count": 4
        }
      ]
    },
    {
      "cell_type": "code",
      "source": [
        "for x in ranger:\n",
        "  print(x)"
      ],
      "metadata": {
        "colab": {
          "base_uri": "https://localhost:8080/"
        },
        "id": "tEoqIsum0Yz0",
        "outputId": "d0f11539-ee1a-4401-8a09-8d8785a2a5d8"
      },
      "execution_count": 5,
      "outputs": [
        {
          "output_type": "stream",
          "name": "stdout",
          "text": [
            "1\n",
            "2\n",
            "3\n",
            "4\n"
          ]
        }
      ]
    },
    {
      "cell_type": "code",
      "source": [
        "# 產生器只能執行一次\n",
        "# 串列、集合、字串語字典都會被放在記憶體裡面，但產生器可以動態產生它的值\n",
        "# 並且透過迭代器，一次送出一個值。\n",
        "# 它不會記得他們，所以你無法重新啟動或備份產生器"
      ],
      "metadata": {
        "id": "btpPNp1N0mDE"
      },
      "execution_count": null,
      "outputs": []
    },
    {
      "cell_type": "code",
      "source": [
        "for try_again in ranger:\n",
        "  print(try_again)"
      ],
      "metadata": {
        "id": "52qUSXlB0_VS"
      },
      "execution_count": 6,
      "outputs": []
    },
    {
      "cell_type": "code",
      "source": [
        "# 產生器生成式"
      ],
      "metadata": {
        "id": "kxoYdnch1Iw6"
      },
      "execution_count": null,
      "outputs": []
    },
    {
      "cell_type": "code",
      "source": [
        "genobj = (pair for pair in zip(['a', 'b'], ['1', '2']))\n",
        "\n",
        "genobj"
      ],
      "metadata": {
        "colab": {
          "base_uri": "https://localhost:8080/"
        },
        "id": "qLX55H681Wlr",
        "outputId": "eb9019bf-ac4f-4c00-c6a8-e4135475341e"
      },
      "execution_count": 7,
      "outputs": [
        {
          "output_type": "execute_result",
          "data": {
            "text/plain": [
              "<generator object <genexpr> at 0x7b331c363990>"
            ]
          },
          "metadata": {},
          "execution_count": 7
        }
      ]
    },
    {
      "cell_type": "code",
      "source": [
        "for thing in genobj:\n",
        "  print(thing)"
      ],
      "metadata": {
        "colab": {
          "base_uri": "https://localhost:8080/"
        },
        "id": "RF-N1LP62HXL",
        "outputId": "42aa2351-0117-41fc-f657-a7001d4fc742"
      },
      "execution_count": 8,
      "outputs": [
        {
          "output_type": "stream",
          "name": "stdout",
          "text": [
            "('a', '1')\n",
            "('b', '2')\n"
          ]
        }
      ]
    },
    {
      "cell_type": "code",
      "source": [
        "# 裝飾器"
      ],
      "metadata": {
        "id": "Z1JeWyaS2RTi"
      },
      "execution_count": null,
      "outputs": []
    },
    {
      "cell_type": "code",
      "source": [
        "def document_it(func):\n",
        "  def new_function(*args, **kwargs):\n",
        "    print('Running function:', func.__name__)\n",
        "    print('Positional arguments:', args)\n",
        "    print('Keyword arguments:', kwargs)\n",
        "    result = func(*args, **kwargs)\n",
        "    print('Result:', result)\n",
        "    return result\n",
        "  return new_function\n"
      ],
      "metadata": {
        "id": "CsBb5nMr2TD0"
      },
      "execution_count": 9,
      "outputs": []
    },
    {
      "cell_type": "code",
      "source": [
        "def add_ints(a, b):\n",
        "  return a + b"
      ],
      "metadata": {
        "id": "QnRC7_h74cY0"
      },
      "execution_count": 10,
      "outputs": []
    },
    {
      "cell_type": "code",
      "source": [
        "add_ints(3, 5)"
      ],
      "metadata": {
        "colab": {
          "base_uri": "https://localhost:8080/"
        },
        "id": "hphm9WLi4jyr",
        "outputId": "9d795b00-179b-4489-88e7-76082017afe6"
      },
      "execution_count": 12,
      "outputs": [
        {
          "output_type": "execute_result",
          "data": {
            "text/plain": [
              "8"
            ]
          },
          "metadata": {},
          "execution_count": 12
        }
      ]
    },
    {
      "cell_type": "code",
      "source": [
        "cooler_add_ints = document_it(add_ints)\n",
        "cooler_add_ints(3, 5)"
      ],
      "metadata": {
        "colab": {
          "base_uri": "https://localhost:8080/"
        },
        "id": "4jB5nHrk4mM6",
        "outputId": "cb73505f-5a3e-4f56-81d8-a022caa7978b"
      },
      "execution_count": 13,
      "outputs": [
        {
          "output_type": "stream",
          "name": "stdout",
          "text": [
            "Running function: add_ints\n",
            "Positional arguments: (3, 5)\n",
            "Keyword arguments: {}\n",
            "Result: 8\n"
          ]
        },
        {
          "output_type": "execute_result",
          "data": {
            "text/plain": [
              "8"
            ]
          },
          "metadata": {},
          "execution_count": 13
        }
      ]
    },
    {
      "cell_type": "code",
      "source": [
        "@document_it\n",
        "def add_ints(a, b):\n",
        "  return a + b"
      ],
      "metadata": {
        "id": "use8f5985loA"
      },
      "execution_count": 14,
      "outputs": []
    },
    {
      "cell_type": "code",
      "source": [
        "add_ints(3, 5)"
      ],
      "metadata": {
        "colab": {
          "base_uri": "https://localhost:8080/"
        },
        "id": "Us-Cza_J5wyD",
        "outputId": "c2c1f497-e3ff-4ecd-cc5e-44b99735fe16"
      },
      "execution_count": 15,
      "outputs": [
        {
          "output_type": "stream",
          "name": "stdout",
          "text": [
            "Running function: add_ints\n",
            "Positional arguments: (3, 5)\n",
            "Keyword arguments: {}\n",
            "Result: 8\n"
          ]
        },
        {
          "output_type": "execute_result",
          "data": {
            "text/plain": [
              "8"
            ]
          },
          "metadata": {},
          "execution_count": 15
        }
      ]
    },
    {
      "cell_type": "code",
      "source": [
        "# 同一個函式可以使用多個裝飾器"
      ],
      "metadata": {
        "id": "eDL9H2ik6nTL"
      },
      "execution_count": null,
      "outputs": []
    },
    {
      "cell_type": "code",
      "source": [
        "def square_it(func):\n",
        "  def new_function(*args, **kwargs):\n",
        "    result = func(*args, **kwargs)\n",
        "    return result * result\n",
        "  return new_function"
      ],
      "metadata": {
        "id": "shGgsveu6qar"
      },
      "execution_count": 16,
      "outputs": []
    },
    {
      "cell_type": "code",
      "source": [
        "# 最靠近函式的裝飾器會先執行"
      ],
      "metadata": {
        "id": "QSm19HHb7Tm2"
      },
      "execution_count": null,
      "outputs": []
    },
    {
      "cell_type": "code",
      "source": [
        "@document_it\n",
        "@square_it\n",
        "def add_ints(a, b):\n",
        "  return a + b"
      ],
      "metadata": {
        "id": "i-JwdBBJ7WnU"
      },
      "execution_count": 17,
      "outputs": []
    },
    {
      "cell_type": "code",
      "source": [
        "add_ints(3, 5)"
      ],
      "metadata": {
        "colab": {
          "base_uri": "https://localhost:8080/"
        },
        "id": "i6YheDxg7kFe",
        "outputId": "7650581d-38d8-438f-a9f8-590d6406bfc2"
      },
      "execution_count": 18,
      "outputs": [
        {
          "output_type": "stream",
          "name": "stdout",
          "text": [
            "Running function: new_function\n",
            "Positional arguments: (3, 5)\n",
            "Keyword arguments: {}\n",
            "Result: 64\n"
          ]
        },
        {
          "output_type": "execute_result",
          "data": {
            "text/plain": [
              "64"
            ]
          },
          "metadata": {},
          "execution_count": 18
        }
      ]
    },
    {
      "cell_type": "code",
      "source": [
        "@square_it\n",
        "@document_it\n",
        "def add_ints(a, b):\n",
        "  return a + b"
      ],
      "metadata": {
        "id": "_LzD0UDu8ArV"
      },
      "execution_count": 19,
      "outputs": []
    },
    {
      "cell_type": "code",
      "source": [
        "add_ints(3, 5)"
      ],
      "metadata": {
        "colab": {
          "base_uri": "https://localhost:8080/"
        },
        "id": "10afPiFo95qq",
        "outputId": "7e66e460-90a4-4a65-b0b0-374e88ea5dba"
      },
      "execution_count": 20,
      "outputs": [
        {
          "output_type": "stream",
          "name": "stdout",
          "text": [
            "Running function: add_ints\n",
            "Positional arguments: (3, 5)\n",
            "Keyword arguments: {}\n",
            "Result: 8\n"
          ]
        },
        {
          "output_type": "execute_result",
          "data": {
            "text/plain": [
              "64"
            ]
          },
          "metadata": {},
          "execution_count": 20
        }
      ]
    },
    {
      "cell_type": "code",
      "source": [
        "# 名稱空間與作用域"
      ],
      "metadata": {
        "id": "vtZm1hYQ77HB"
      },
      "execution_count": null,
      "outputs": []
    },
    {
      "cell_type": "code",
      "source": [
        "animal = 'fruitbat'\n",
        "def print_global():\n",
        "  print('inside print_global:', animal)\n"
      ],
      "metadata": {
        "id": "xJRA_78U7-Uc"
      },
      "execution_count": 4,
      "outputs": []
    },
    {
      "cell_type": "code",
      "source": [
        "print('at the top level:', animal)"
      ],
      "metadata": {
        "colab": {
          "base_uri": "https://localhost:8080/"
        },
        "id": "2Xr47BbV9UoB",
        "outputId": "d2953701-e278-4b11-b274-7236cb7eb9c2"
      },
      "execution_count": 5,
      "outputs": [
        {
          "output_type": "stream",
          "name": "stdout",
          "text": [
            "at the top level: fruitbat\n"
          ]
        }
      ]
    },
    {
      "cell_type": "code",
      "source": [
        "print_global()"
      ],
      "metadata": {
        "colab": {
          "base_uri": "https://localhost:8080/"
        },
        "id": "_Djbzttz9LAZ",
        "outputId": "5a6c935d-3ebb-4b5a-c49d-c822e813c879"
      },
      "execution_count": 5,
      "outputs": [
        {
          "output_type": "stream",
          "name": "stdout",
          "text": [
            "inside print_global: fruitbat\n"
          ]
        }
      ]
    },
    {
      "cell_type": "code",
      "source": [
        "def change_and_print_global():\n",
        "  print('inside change_and_print_global:', animal)\n",
        "  animal = 'wombat'\n",
        "  print('after the change:', animal)"
      ],
      "metadata": {
        "id": "P07W_qdf9YEV"
      },
      "execution_count": 6,
      "outputs": []
    },
    {
      "cell_type": "code",
      "source": [
        "change_and_print_global()"
      ],
      "metadata": {
        "colab": {
          "base_uri": "https://localhost:8080/",
          "height": 245
        },
        "id": "ZV1ZyhD_9yHx",
        "outputId": "dc979890-9f8e-49c5-9ed4-5aa8d918b536"
      },
      "execution_count": 7,
      "outputs": [
        {
          "output_type": "error",
          "ename": "UnboundLocalError",
          "evalue": "local variable 'animal' referenced before assignment",
          "traceback": [
            "\u001b[0;31m---------------------------------------------------------------------------\u001b[0m",
            "\u001b[0;31mUnboundLocalError\u001b[0m                         Traceback (most recent call last)",
            "\u001b[0;32m<ipython-input-7-f8c8058a7439>\u001b[0m in \u001b[0;36m<cell line: 1>\u001b[0;34m()\u001b[0m\n\u001b[0;32m----> 1\u001b[0;31m \u001b[0mchange_and_print_global\u001b[0m\u001b[0;34m(\u001b[0m\u001b[0;34m)\u001b[0m\u001b[0;34m\u001b[0m\u001b[0;34m\u001b[0m\u001b[0m\n\u001b[0m",
            "\u001b[0;32m<ipython-input-6-09f73e06b340>\u001b[0m in \u001b[0;36mchange_and_print_global\u001b[0;34m()\u001b[0m\n\u001b[1;32m      1\u001b[0m \u001b[0;32mdef\u001b[0m \u001b[0mchange_and_print_global\u001b[0m\u001b[0;34m(\u001b[0m\u001b[0;34m)\u001b[0m\u001b[0;34m:\u001b[0m\u001b[0;34m\u001b[0m\u001b[0;34m\u001b[0m\u001b[0m\n\u001b[0;32m----> 2\u001b[0;31m   \u001b[0mprint\u001b[0m\u001b[0;34m(\u001b[0m\u001b[0;34m'inside change_and_print_global:'\u001b[0m\u001b[0;34m,\u001b[0m \u001b[0manimal\u001b[0m\u001b[0;34m)\u001b[0m\u001b[0;34m\u001b[0m\u001b[0;34m\u001b[0m\u001b[0m\n\u001b[0m\u001b[1;32m      3\u001b[0m   \u001b[0manimal\u001b[0m \u001b[0;34m=\u001b[0m \u001b[0;34m'wombat'\u001b[0m\u001b[0;34m\u001b[0m\u001b[0;34m\u001b[0m\u001b[0m\n\u001b[1;32m      4\u001b[0m   \u001b[0mprint\u001b[0m\u001b[0;34m(\u001b[0m\u001b[0;34m'after the change:'\u001b[0m\u001b[0;34m,\u001b[0m \u001b[0manimal\u001b[0m\u001b[0;34m)\u001b[0m\u001b[0;34m\u001b[0m\u001b[0;34m\u001b[0m\u001b[0m\n",
            "\u001b[0;31mUnboundLocalError\u001b[0m: local variable 'animal' referenced before assignment"
          ]
        }
      ]
    },
    {
      "cell_type": "code",
      "source": [
        "def change_local():\n",
        "  animal = 'wombat'\n",
        "  print('inside change_local:', animal, id(animal))"
      ],
      "metadata": {
        "id": "utZBF1mT9z_f"
      },
      "execution_count": 6,
      "outputs": []
    },
    {
      "cell_type": "code",
      "source": [
        "change_local()"
      ],
      "metadata": {
        "colab": {
          "base_uri": "https://localhost:8080/"
        },
        "id": "WDqXS3TYeAlb",
        "outputId": "bc25e08d-4234-407c-dddb-101b402a9643"
      },
      "execution_count": 7,
      "outputs": [
        {
          "output_type": "stream",
          "name": "stdout",
          "text": [
            "inside change_local: wombat 140693808556272\n"
          ]
        }
      ]
    },
    {
      "cell_type": "code",
      "source": [
        "animal"
      ],
      "metadata": {
        "colab": {
          "base_uri": "https://localhost:8080/",
          "height": 35
        },
        "id": "Ie2Qge5Heanh",
        "outputId": "f5152847-81b6-4a71-867e-6d6cb34f7bcb"
      },
      "execution_count": 8,
      "outputs": [
        {
          "output_type": "execute_result",
          "data": {
            "text/plain": [
              "'fruitbat'"
            ],
            "application/vnd.google.colaboratory.intrinsic+json": {
              "type": "string"
            }
          },
          "metadata": {},
          "execution_count": 8
        }
      ]
    },
    {
      "cell_type": "code",
      "source": [
        "id(animal)"
      ],
      "metadata": {
        "colab": {
          "base_uri": "https://localhost:8080/"
        },
        "id": "sTYCr53pecsu",
        "outputId": "23d80d07-7011-4b82-807f-ac36949a68c0"
      },
      "execution_count": 10,
      "outputs": [
        {
          "output_type": "execute_result",
          "data": {
            "text/plain": [
              "140693467959024"
            ]
          },
          "metadata": {},
          "execution_count": 10
        }
      ]
    },
    {
      "cell_type": "code",
      "source": [
        "# 若要存取全域變數，而不是函式內的區域變數，你必須明確地使用 global 關鍵字"
      ],
      "metadata": {
        "id": "6aw3IF8ResV7"
      },
      "execution_count": null,
      "outputs": []
    },
    {
      "cell_type": "code",
      "source": [
        "animal = 'fruitbat'\n",
        "def change_and_print_global():\n",
        "  global animal\n",
        "  animal = 'wombat'\n",
        "  print('inside change_and_print_global:',animal)"
      ],
      "metadata": {
        "id": "i-ZvFlZWe54R"
      },
      "execution_count": 12,
      "outputs": []
    },
    {
      "cell_type": "code",
      "source": [
        "animal"
      ],
      "metadata": {
        "colab": {
          "base_uri": "https://localhost:8080/",
          "height": 35
        },
        "id": "a8ZfsAehfCN3",
        "outputId": "9ea227ad-16ee-48d7-9a66-e1375eaf43c5"
      },
      "execution_count": 13,
      "outputs": [
        {
          "output_type": "execute_result",
          "data": {
            "text/plain": [
              "'fruitbat'"
            ],
            "application/vnd.google.colaboratory.intrinsic+json": {
              "type": "string"
            }
          },
          "metadata": {},
          "execution_count": 13
        }
      ]
    },
    {
      "cell_type": "code",
      "source": [
        "change_and_print_global()"
      ],
      "metadata": {
        "colab": {
          "base_uri": "https://localhost:8080/"
        },
        "id": "nJD9KR6ufVuF",
        "outputId": "a31f8f74-60bc-491a-a825-61020292239f"
      },
      "execution_count": 14,
      "outputs": [
        {
          "output_type": "stream",
          "name": "stdout",
          "text": [
            "inside change_and_print_global: wombat\n"
          ]
        }
      ]
    },
    {
      "cell_type": "code",
      "source": [
        "animal"
      ],
      "metadata": {
        "colab": {
          "base_uri": "https://localhost:8080/",
          "height": 35
        },
        "id": "KimpTWvUfegL",
        "outputId": "bb563831-9f38-4aeb-dba5-b2956bc95369"
      },
      "execution_count": 15,
      "outputs": [
        {
          "output_type": "execute_result",
          "data": {
            "text/plain": [
              "'wombat'"
            ],
            "application/vnd.google.colaboratory.intrinsic+json": {
              "type": "string"
            }
          },
          "metadata": {},
          "execution_count": 15
        }
      ]
    },
    {
      "cell_type": "code",
      "source": [
        "animal = 'fruitbat'\n",
        "def change_local():\n",
        "  animal = 'wombat'\n",
        "  print('locals:', locals())\n",
        "\n",
        "animal"
      ],
      "metadata": {
        "colab": {
          "base_uri": "https://localhost:8080/",
          "height": 35
        },
        "id": "CZn8VUlVyKvX",
        "outputId": "71eb611c-d85a-4fd4-da69-bc336b0fa246"
      },
      "execution_count": 16,
      "outputs": [
        {
          "output_type": "execute_result",
          "data": {
            "text/plain": [
              "'fruitbat'"
            ],
            "application/vnd.google.colaboratory.intrinsic+json": {
              "type": "string"
            }
          },
          "metadata": {},
          "execution_count": 16
        }
      ]
    },
    {
      "cell_type": "code",
      "source": [
        "change_local()"
      ],
      "metadata": {
        "colab": {
          "base_uri": "https://localhost:8080/"
        },
        "id": "G2_oHcwGyd1I",
        "outputId": "c9904c7d-202c-4d96-85c8-1edac8175d1d"
      },
      "execution_count": 18,
      "outputs": [
        {
          "output_type": "stream",
          "name": "stdout",
          "text": [
            "locals: {'animal': 'wombat'}\n"
          ]
        }
      ]
    },
    {
      "cell_type": "code",
      "source": [
        "print('globals:', globals())"
      ],
      "metadata": {
        "colab": {
          "base_uri": "https://localhost:8080/"
        },
        "id": "L8gssxfwzZk0",
        "outputId": "ab42c472-0ecd-4587-e432-0bb636a6d86e"
      },
      "execution_count": 19,
      "outputs": [
        {
          "output_type": "stream",
          "name": "stdout",
          "text": [
            "globals: {'__name__': '__main__', '__doc__': 'Automatically created module for IPython interactive environment', '__package__': None, '__loader__': None, '__spec__': None, '__builtin__': <module 'builtins' (built-in)>, '__builtins__': <module 'builtins' (built-in)>, '_ih': ['', 'def change_local():', \"def change_local():\\n  animal = 'wombat'\\n  print('inside change_local:', animal, id(animal))\", 'change_local()', \"animal = 'fruitbat'\\ndef print_global():\\n  print('inside print_global:', animal)\", \"print('at the top level:', animal)\", \"def change_local():\\n  animal = 'wombat'\\n  print('inside change_local:', animal, id(animal))\", 'change_local()', 'animal', 'id(animal)', 'id(animal)', \"animal = 'fruitbat'\\ndef change_and_print_global():\", \"animal = 'fruitbat'\\ndef change_and_print_global():\\n  global animal\\n  animal = 'wombat'\\n  print('inside change_and_print_global:',animal)\", 'animal', 'change_and_print_global()', 'animal', \"animal = 'fruitbat'\\ndef change_local():\\n  animal = 'wombat'\\n  print('locals:', locals())\\n\\nanimal\", 'change_local()', 'change_local()', \"print('globals:', globals())\"], '_oh': {8: 'fruitbat', 9: 140693467959024, 10: 140693467959024, 13: 'fruitbat', 15: 'wombat', 16: 'fruitbat'}, '_dh': ['/content'], 'In': ['', 'def change_local():', \"def change_local():\\n  animal = 'wombat'\\n  print('inside change_local:', animal, id(animal))\", 'change_local()', \"animal = 'fruitbat'\\ndef print_global():\\n  print('inside print_global:', animal)\", \"print('at the top level:', animal)\", \"def change_local():\\n  animal = 'wombat'\\n  print('inside change_local:', animal, id(animal))\", 'change_local()', 'animal', 'id(animal)', 'id(animal)', \"animal = 'fruitbat'\\ndef change_and_print_global():\", \"animal = 'fruitbat'\\ndef change_and_print_global():\\n  global animal\\n  animal = 'wombat'\\n  print('inside change_and_print_global:',animal)\", 'animal', 'change_and_print_global()', 'animal', \"animal = 'fruitbat'\\ndef change_local():\\n  animal = 'wombat'\\n  print('locals:', locals())\\n\\nanimal\", 'change_local()', 'change_local()', \"print('globals:', globals())\"], 'Out': {8: 'fruitbat', 9: 140693467959024, 10: 140693467959024, 13: 'fruitbat', 15: 'wombat', 16: 'fruitbat'}, 'get_ipython': <bound method InteractiveShell.get_ipython of <google.colab._shell.Shell object at 0x7ff5ddcb1ea0>>, 'exit': <IPython.core.autocall.ZMQExitAutocall object at 0x7ff5ddcb2440>, 'quit': <IPython.core.autocall.ZMQExitAutocall object at 0x7ff5ddcb2440>, '_': 'fruitbat', '__': 'wombat', '___': 'fruitbat', '_i': 'change_local()', '_ii': 'change_local()', '_iii': \"animal = 'fruitbat'\\ndef change_local():\\n  animal = 'wombat'\\n  print('locals:', locals())\\n\\nanimal\", '_i1': 'def change_local():', '_i2': \"def change_local():\\n  animal = 'wombat'\\n  print('inside change_local:', animal, id(animal))\", 'change_local': <function change_local at 0x7ff5c02b2560>, '_i3': 'change_local()', '_i4': \"animal = 'fruitbat'\\ndef print_global():\\n  print('inside print_global:', animal)\", 'animal': 'fruitbat', 'print_global': <function print_global at 0x7ff5c02b25f0>, '_i5': \"print('at the top level:', animal)\", '_i6': \"def change_local():\\n  animal = 'wombat'\\n  print('inside change_local:', animal, id(animal))\", '_i7': 'change_local()', '_i8': 'animal', '_8': 'fruitbat', '_i9': 'id(animal)', '_9': 140693467959024, '_i10': 'id(animal)', '_10': 140693467959024, '_i11': \"animal = 'fruitbat'\\ndef change_and_print_global():\", '_i12': \"animal = 'fruitbat'\\ndef change_and_print_global():\\n  global animal\\n  animal = 'wombat'\\n  print('inside change_and_print_global:',animal)\", 'change_and_print_global': <function change_and_print_global at 0x7ff5c02b1870>, '_i13': 'animal', '_13': 'fruitbat', '_i14': 'change_and_print_global()', '_i15': 'animal', '_15': 'wombat', '_i16': \"animal = 'fruitbat'\\ndef change_local():\\n  animal = 'wombat'\\n  print('locals:', locals())\\n\\nanimal\", '_16': 'fruitbat', '_i17': 'change_local()', '_i18': 'change_local()', '_i19': \"print('globals:', globals())\"}\n"
          ]
        }
      ]
    },
    {
      "cell_type": "code",
      "source": [
        "animal"
      ],
      "metadata": {
        "colab": {
          "base_uri": "https://localhost:8080/",
          "height": 35
        },
        "id": "IS5k0q1vzjAl",
        "outputId": "c0da5659-2bfd-4787-a372-11273d6c09f0"
      },
      "execution_count": 20,
      "outputs": [
        {
          "output_type": "execute_result",
          "data": {
            "text/plain": [
              "'fruitbat'"
            ],
            "application/vnd.google.colaboratory.intrinsic+json": {
              "type": "string"
            }
          },
          "metadata": {},
          "execution_count": 20
        }
      ]
    },
    {
      "cell_type": "code",
      "source": [
        "# 函式的名稱被存放在系統變數 function.__name__\n",
        "\n",
        "# 函式的文件字串是 function.__doc__"
      ],
      "metadata": {
        "id": "fvsUuXOw0Ejv"
      },
      "execution_count": null,
      "outputs": []
    },
    {
      "cell_type": "code",
      "source": [
        "def amazing():\n",
        "  '''This is the amazing function.\n",
        "  Want to see it again?'''\n",
        "  print('This function is named:', amazing.__name__)\n",
        "  print('And its docstring is:', amazing.__doc__)\n",
        "\n",
        "amazing()"
      ],
      "metadata": {
        "colab": {
          "base_uri": "https://localhost:8080/"
        },
        "id": "xBhfHCtY06g8",
        "outputId": "3f57636a-da20-4680-caaa-5f730e9e4d32"
      },
      "execution_count": 21,
      "outputs": [
        {
          "output_type": "stream",
          "name": "stdout",
          "text": [
            "This function is named: amazing\n",
            "And its docstring is: This is the amazing function.\n",
            "  Want to see it again?\n"
          ]
        }
      ]
    },
    {
      "cell_type": "code",
      "source": [
        "# 遞迴 recursion"
      ],
      "metadata": {
        "id": "9az91YqL1bVr"
      },
      "execution_count": null,
      "outputs": []
    },
    {
      "cell_type": "code",
      "source": [
        "def dive():\n",
        "  return dive()"
      ],
      "metadata": {
        "id": "-VQSCAlY2cHG"
      },
      "execution_count": 22,
      "outputs": []
    },
    {
      "cell_type": "code",
      "source": [
        "dive()"
      ],
      "metadata": {
        "id": "qnnLkLve3aRI",
        "outputId": "4f6ce54e-ca47-4fd8-dc0f-4bd2663e14be",
        "colab": {
          "base_uri": "https://localhost:8080/",
          "height": 269
        }
      },
      "execution_count": 23,
      "outputs": [
        {
          "output_type": "error",
          "ename": "RecursionError",
          "evalue": "maximum recursion depth exceeded",
          "traceback": [
            "\u001b[0;31m---------------------------------------------------------------------------\u001b[0m",
            "\u001b[0;31mRecursionError\u001b[0m                            Traceback (most recent call last)",
            "\u001b[0;32m<ipython-input-23-2c8f7f491175>\u001b[0m in \u001b[0;36m<cell line: 1>\u001b[0;34m()\u001b[0m\n\u001b[0;32m----> 1\u001b[0;31m \u001b[0mdive\u001b[0m\u001b[0;34m(\u001b[0m\u001b[0;34m)\u001b[0m\u001b[0;34m\u001b[0m\u001b[0;34m\u001b[0m\u001b[0m\n\u001b[0m",
            "\u001b[0;32m<ipython-input-22-97c923ed4c99>\u001b[0m in \u001b[0;36mdive\u001b[0;34m()\u001b[0m\n\u001b[1;32m      1\u001b[0m \u001b[0;32mdef\u001b[0m \u001b[0mdive\u001b[0m\u001b[0;34m(\u001b[0m\u001b[0;34m)\u001b[0m\u001b[0;34m:\u001b[0m\u001b[0;34m\u001b[0m\u001b[0;34m\u001b[0m\u001b[0m\n\u001b[0;32m----> 2\u001b[0;31m   \u001b[0;32mreturn\u001b[0m \u001b[0mdive\u001b[0m\u001b[0;34m(\u001b[0m\u001b[0;34m)\u001b[0m\u001b[0;34m\u001b[0m\u001b[0;34m\u001b[0m\u001b[0m\n\u001b[0m",
            "... last 1 frames repeated, from the frame below ...\n",
            "\u001b[0;32m<ipython-input-22-97c923ed4c99>\u001b[0m in \u001b[0;36mdive\u001b[0;34m()\u001b[0m\n\u001b[1;32m      1\u001b[0m \u001b[0;32mdef\u001b[0m \u001b[0mdive\u001b[0m\u001b[0;34m(\u001b[0m\u001b[0;34m)\u001b[0m\u001b[0;34m:\u001b[0m\u001b[0;34m\u001b[0m\u001b[0;34m\u001b[0m\u001b[0m\n\u001b[0;32m----> 2\u001b[0;31m   \u001b[0;32mreturn\u001b[0m \u001b[0mdive\u001b[0m\u001b[0;34m(\u001b[0m\u001b[0;34m)\u001b[0m\u001b[0;34m\u001b[0m\u001b[0;34m\u001b[0m\u001b[0m\n\u001b[0m",
            "\u001b[0;31mRecursionError\u001b[0m: maximum recursion depth exceeded"
          ]
        }
      ]
    },
    {
      "cell_type": "code",
      "source": [
        "def flatten(lol):\n",
        "  for item in lol:\n",
        "    if isinstance(item, list):\n",
        "      for subitem in flatten(item):\n",
        "        yield subitem\n",
        "    else:\n",
        "      yield item"
      ],
      "metadata": {
        "id": "xXzgfCuJ3gdG"
      },
      "execution_count": 24,
      "outputs": []
    },
    {
      "cell_type": "code",
      "source": [
        "lol = [1, 2, [3, 4, 5], [6, [7, 8, 9], []]]\n",
        "\n",
        "flatten((lol))"
      ],
      "metadata": {
        "id": "OItWzNZV4R7D",
        "outputId": "f0967f6e-8f13-414d-bb85-093f75b5e847",
        "colab": {
          "base_uri": "https://localhost:8080/"
        }
      },
      "execution_count": 25,
      "outputs": [
        {
          "output_type": "execute_result",
          "data": {
            "text/plain": [
              "<generator object flatten at 0x7ff5a3f137d0>"
            ]
          },
          "metadata": {},
          "execution_count": 25
        }
      ]
    },
    {
      "cell_type": "code",
      "source": [
        "list(flatten(lol))"
      ],
      "metadata": {
        "id": "SDaPicNU4eKD",
        "outputId": "65802352-c843-4072-a1c2-7fa02061977a",
        "colab": {
          "base_uri": "https://localhost:8080/"
        }
      },
      "execution_count": 26,
      "outputs": [
        {
          "output_type": "execute_result",
          "data": {
            "text/plain": [
              "[1, 2, 3, 4, 5, 6, 7, 8, 9]"
            ]
          },
          "metadata": {},
          "execution_count": 26
        }
      ]
    },
    {
      "cell_type": "code",
      "source": [
        "# Python 3.3 加入 yield from 運算式，它可讓產生器將一些工作交給另一個產生器"
      ],
      "metadata": {
        "id": "EkxIQJxl4pTj"
      },
      "execution_count": null,
      "outputs": []
    },
    {
      "cell_type": "code",
      "source": [
        "def flatten(lol):\n",
        "  for item in lol:\n",
        "    if isinstance(item, list):\n",
        "      yield from flatten(item)\n",
        "    else:\n",
        "      yield item"
      ],
      "metadata": {
        "id": "eYcO3VbC5JQH"
      },
      "execution_count": 27,
      "outputs": []
    },
    {
      "cell_type": "code",
      "source": [
        "lol = [1, 2, [3, 4, 5], [6, [7, 8, 9], []]]\n",
        "\n",
        "list(flatten(lol))"
      ],
      "metadata": {
        "id": "Rb4ygc7N7Wv7",
        "outputId": "952828b8-6800-4e77-d4f6-099715181c41",
        "colab": {
          "base_uri": "https://localhost:8080/"
        }
      },
      "execution_count": 29,
      "outputs": [
        {
          "output_type": "execute_result",
          "data": {
            "text/plain": [
              "[1, 2, 3, 4, 5, 6, 7, 8, 9]"
            ]
          },
          "metadata": {},
          "execution_count": 29
        }
      ]
    },
    {
      "cell_type": "code",
      "source": [
        "# 非同步函式"
      ],
      "metadata": {
        "id": "7AM9XX4W7yKZ"
      },
      "execution_count": 34,
      "outputs": []
    },
    {
      "cell_type": "code",
      "source": [
        "!pip install nest_asyncio"
      ],
      "metadata": {
        "id": "TdTPGHWcDtmq",
        "outputId": "12c180ec-7b28-40e5-8122-b5a784ea666f",
        "colab": {
          "base_uri": "https://localhost:8080/"
        }
      },
      "execution_count": 36,
      "outputs": [
        {
          "output_type": "stream",
          "name": "stdout",
          "text": [
            "Requirement already satisfied: nest_asyncio in /usr/local/lib/python3.10/dist-packages (1.6.0)\n"
          ]
        }
      ]
    },
    {
      "cell_type": "code",
      "source": [
        "import asyncio\n",
        "import nest_asyncio\n",
        "nest_asyncio.apply()\n",
        "\n",
        "async def wicked():\n",
        "  print(\"Surrender,\")\n",
        "  await asyncio.sleep(2)\n",
        "  print(\"Dorothy!\")\n",
        "\n",
        "asyncio.run(wicked())"
      ],
      "metadata": {
        "id": "Tf7r-Inl72vz",
        "outputId": "d44f03d0-0510-4f2f-8063-d5a8505374b5",
        "colab": {
          "base_uri": "https://localhost:8080/"
        }
      },
      "execution_count": 49,
      "outputs": [
        {
          "output_type": "stream",
          "name": "stdout",
          "text": [
            "Surrender,\n",
            "Dorothy!\n"
          ]
        }
      ]
    },
    {
      "cell_type": "code",
      "source": [
        "from timeit import timeit\n",
        "\n",
        "timeit(\"asyncio.run(wicked())\", globals=globals(), number=1)"
      ],
      "metadata": {
        "id": "CWLlPyHhClf8",
        "outputId": "df00cb64-34f0-4907-8ab1-053f959e20e7",
        "colab": {
          "base_uri": "https://localhost:8080/"
        }
      },
      "execution_count": 42,
      "outputs": [
        {
          "output_type": "stream",
          "name": "stdout",
          "text": [
            "Surrender,\n",
            "Dorothy!\n"
          ]
        },
        {
          "output_type": "execute_result",
          "data": {
            "text/plain": [
              "2.0030361960016307"
            ]
          },
          "metadata": {},
          "execution_count": 42
        }
      ]
    },
    {
      "cell_type": "code",
      "source": [
        "# 另一種方式，建立一個任務 task 並且 await 它"
      ],
      "metadata": {
        "id": "12i7ZUaNESqb"
      },
      "execution_count": null,
      "outputs": []
    },
    {
      "cell_type": "code",
      "source": [
        "import asyncio\n",
        "\n",
        "async def say(phase, seconds):\n",
        "  print(phase)\n",
        "  await asyncio.sleep(seconds)"
      ],
      "metadata": {
        "id": "LJy7CfQBOG2e"
      },
      "execution_count": 43,
      "outputs": []
    },
    {
      "cell_type": "code",
      "source": [
        "async def wicked():\n",
        "  task_1 = asyncio.create_task(say(\"Surrender,\", 2))\n",
        "  task_2 = asyncio.create_task(say(\"Dorothy!\", 0))\n",
        "  await task_1\n",
        "  await task_2"
      ],
      "metadata": {
        "id": "zTEn3sRHOeFB"
      },
      "execution_count": 44,
      "outputs": []
    },
    {
      "cell_type": "code",
      "source": [
        "asyncio.run(wicked())"
      ],
      "metadata": {
        "id": "6XxndJBnP3vL",
        "outputId": "14bceafb-856e-462c-f878-87299b8d7f2a",
        "colab": {
          "base_uri": "https://localhost:8080/"
        }
      },
      "execution_count": 48,
      "outputs": [
        {
          "output_type": "stream",
          "name": "stdout",
          "text": [
            "Surrender,\n",
            "Dorothy!\n"
          ]
        }
      ]
    },
    {
      "cell_type": "code",
      "source": [
        "# 執行 asyncio.run(wicked()) 時，會發現兩行印出來的文字之間沒有延遲。\n",
        "# 這是因為它們是不同的任務\n",
        "\n",
        "# task_1 在印出 Surrender 之後，暫停兩秒，但她不影響 task_2"
      ],
      "metadata": {
        "id": "RJBEDYp2QHwi"
      },
      "execution_count": null,
      "outputs": []
    },
    {
      "cell_type": "code",
      "source": [
        "# await 類似產生器的 yield。\n",
        "# 但是它不是回傳一個值，而且標記一個位置，讓事件迴圈在必要時暫停"
      ],
      "metadata": {
        "id": "F-BAWD8uRbmN"
      },
      "execution_count": null,
      "outputs": []
    },
    {
      "cell_type": "code",
      "source": [],
      "metadata": {
        "id": "Allpi7NgTEfY"
      },
      "execution_count": null,
      "outputs": []
    },
    {
      "cell_type": "code",
      "source": [],
      "metadata": {
        "id": "zcpzcrHtTEPR"
      },
      "execution_count": null,
      "outputs": []
    }
  ]
}