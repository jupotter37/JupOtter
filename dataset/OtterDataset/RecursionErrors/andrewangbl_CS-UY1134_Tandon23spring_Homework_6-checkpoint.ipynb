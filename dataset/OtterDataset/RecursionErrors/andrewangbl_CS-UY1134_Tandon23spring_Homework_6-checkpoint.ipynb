{
 "cells": [
  {
   "cell_type": "markdown",
   "id": "8aa0f1ea",
   "metadata": {},
   "source": [
    "# Question 1"
   ]
  },
  {
   "cell_type": "code",
   "execution_count": 3,
   "id": "2d908f17",
   "metadata": {},
   "outputs": [],
   "source": [
    "from DoublyLinkedList import DoublyLinkedList"
   ]
  },
  {
   "cell_type": "code",
   "execution_count": 18,
   "id": "ec38b5f0",
   "metadata": {},
   "outputs": [],
   "source": [
    "class LinkedQueue:\n",
    "    def __init__(self):\n",
    "        self.data = DoublyLinkedList()\n",
    "    def __len__(self):\n",
    "        return self.data.size\n",
    "    def is_empty(self):\n",
    "        return (len(self)==0)\n",
    "\n",
    "    def enqueue(self, elem):\n",
    "        self.data.add_last(elem)\n",
    "\n",
    "    def dequeue(self):\n",
    "        if self.is_empty():\n",
    "            raise Exception(\"Queue is empty\")\n",
    "        return self.data.delete_first()\n",
    "\n",
    "    def first(self):\n",
    "        if self.is_empty():\n",
    "            raise Exception(\"Queue is empty\")\n",
    "        return self.data.header.next.data"
   ]
  },
  {
   "cell_type": "code",
   "execution_count": 19,
   "id": "b00f8d50",
   "metadata": {},
   "outputs": [],
   "source": [
    "haha = LinkedQueue()"
   ]
  },
  {
   "cell_type": "code",
   "execution_count": 20,
   "id": "75ed9271",
   "metadata": {},
   "outputs": [],
   "source": [
    "haha.enqueue(1)"
   ]
  },
  {
   "cell_type": "code",
   "execution_count": 21,
   "id": "b3170cf9",
   "metadata": {},
   "outputs": [],
   "source": [
    "haha.enqueue(3)"
   ]
  },
  {
   "cell_type": "code",
   "execution_count": 22,
   "id": "28a3a22a",
   "metadata": {},
   "outputs": [],
   "source": [
    "haha.enqueue(2)"
   ]
  },
  {
   "cell_type": "code",
   "execution_count": 23,
   "id": "5f167889",
   "metadata": {},
   "outputs": [
    {
     "data": {
      "text/plain": [
       "1"
      ]
     },
     "execution_count": 23,
     "metadata": {},
     "output_type": "execute_result"
    }
   ],
   "source": [
    "haha.first()"
   ]
  },
  {
   "cell_type": "code",
   "execution_count": 24,
   "id": "619a529f",
   "metadata": {},
   "outputs": [
    {
     "data": {
      "text/plain": [
       "1"
      ]
     },
     "execution_count": 24,
     "metadata": {},
     "output_type": "execute_result"
    }
   ],
   "source": [
    "haha.dequeue()"
   ]
  },
  {
   "cell_type": "markdown",
   "id": "9af98595",
   "metadata": {},
   "source": [
    "# Question 2"
   ]
  },
  {
   "cell_type": "code",
   "execution_count": 341,
   "id": "54295070",
   "metadata": {},
   "outputs": [],
   "source": [
    "from DoublyLinkedList import DoublyLinkedList\n",
    "class Integer:\n",
    "    def __init__(self, num_str):\n",
    "        \n",
    "        self.dll = DoublyLinkedList()\n",
    "        for num in num_str:\n",
    "            self.dll.add_last(int(num))\n",
    "            \n",
    "        while self.dll.header.next.data == 0 and len(self.dll) > 1:\n",
    "            self.dll.delete_first()\n",
    "        \n",
    "        \n",
    "    def __add__(self, other):\n",
    "        cursor1 = self.dll.trailer.prev\n",
    "        cursor2 = other.dll.trailer.prev\n",
    "        carrier = 0\n",
    "        str_result = \"\"\n",
    "        \n",
    "        #'is' track if same object (same address) in memory\n",
    "        while cursor1 is not self.dll.header and cursor2 is not other.dll.header: \n",
    "            result = int(cursor1.data) + int(cursor2.data) + carrier\n",
    "            if result >= 10:\n",
    "                carrier = 1\n",
    "                result %= 10\n",
    "            else:\n",
    "                carrier = 0\n",
    "            cursor1 = cursor1.prev\n",
    "            cursor2 = cursor2.prev\n",
    "            str_result = str(result) + str_result\n",
    "\n",
    "        while cursor1 is not self.dll.header:\n",
    "            result = int(cursor1.data) + carrier\n",
    "            if result >= 10:\n",
    "                carrier = 1\n",
    "                result %= 10\n",
    "            else:\n",
    "                carrier = 0\n",
    "            cursor1 = cursor1.prev\n",
    "            str_result = str(result) + str_result\n",
    "            \n",
    "        while cursor2 is not other.dll.header:\n",
    "            result = int(cursor2.data) + carrier\n",
    "            if result >= 10:\n",
    "                carrier = 1\n",
    "                result %= 10\n",
    "            else:\n",
    "                carrier = 0\n",
    "            cursor2 = cursor2.prev\n",
    "            str_result = str(result) + str_result\n",
    "        if carrier != 0:\n",
    "            str_result = str(carrier) + str_result\n",
    "        \n",
    "        return Integer(str_result)\n",
    "    \n",
    "    def __mul__(self, other):\n",
    "#         cursor1 = self.dll.trailer.prev\n",
    "#         str_result = Integer('')\n",
    "#         int_result = 0\n",
    "#         unit = 1\n",
    "#         while cursor1 is not self.dll.header:\n",
    "#             cursor2 = other.dll.trailer.prev\n",
    "#             carrier = 0\n",
    "#             par_result = ''\n",
    "#             while cursor2 is not other.dll.header:\n",
    "#                 result = int(cursor1.data) * int(cursor2.data) + carrier\n",
    "#                 if result//10 > 0:\n",
    "#                     carrier = result//10\n",
    "#                     result %= 10\n",
    "#                 else:\n",
    "#                     carrier = 0\n",
    "\n",
    "#                 cursor2 = cursor2.prev\n",
    "\n",
    "#                 par_result = str(result) + par_result\n",
    "#             int_result = int(par_result)\n",
    "#             int_result *= unit\n",
    "#             unit *= 10\n",
    "#             if carrier != 0:\n",
    "#                 int_result += carrier * unit\n",
    "#             cursor1 = cursor1.prev\n",
    "#             str_result = str_result + Integer(str(int_result))\n",
    "#         return str_result\n",
    "        new_num = Integer(\"\")\n",
    "        cursor1 = self.dll.trailer.prev\n",
    "        for i in range(len(self.dll)):\n",
    "            cursor2 = other.dll.trailer.prev\n",
    "            carry = 0\n",
    "            tmp_num = Integer(\"\")\n",
    "            for j in range(len(other.dll)):\n",
    "                result = cursor1.data * cursor2.data + carry\n",
    "                tmp_num.dll.add_first(result % 10)\n",
    "                carry = result // 10\n",
    "                cursor2 = cursor2.prev\n",
    "            if carry != 0:\n",
    "                tmp_num.dll.add_first(carry)\n",
    "            for j in range(i):\n",
    "                tmp_num.dll.add_last(0)\n",
    "            new_num = new_num + tmp_num\n",
    "            cursor1 = cursor1.prev\n",
    "        while new_num.dll.header.next.data == 0 and len(new_num.dll) > 1:\n",
    "            new_num.dll.delete_first()\n",
    "        return new_num\n",
    "    \n",
    "\n",
    "#         cursor1 = self.dll.trailer.prev\n",
    "#         str_result = Integer('')\n",
    "#         unit = ''\n",
    "#         while cursor1 is not self.dll.header: \n",
    "#             cursor2 = other.dll.trailer.prev\n",
    "#             carrier = 0\n",
    "#             par_result = ''\n",
    "#             while cursor2 is not other.dll.header:\n",
    "#                 result = int(cursor1.data) * int(cursor2.data) + carrier\n",
    "#                 if result//10 > 0:\n",
    "#                     carrier = result//10\n",
    "#                     result %= 10\n",
    "#                 else:\n",
    "#                     carrier = 0\n",
    "                \n",
    "#                 cursor2 = cursor2.prev\n",
    "                \n",
    "#                 par_result = str(result) + par_result\n",
    "#             int_result = int(par_result)\n",
    "#             int_result *= unit\n",
    "#             par_result = par_result + unit\n",
    "#             unit += '0'\n",
    "#             if carrier != 0:\n",
    "#                     par_result = str(carrier) + par_result\n",
    "#             cursor1 = cursor1.prev\n",
    "#             str_result = str_result + Integer(str(int_result))\n",
    "#         return str_result\n",
    "\n",
    "            \n",
    "    def __repr__(self):\n",
    "        return ''.join([str(elem) for elem in self.dll])"
   ]
  },
  {
   "cell_type": "code",
   "execution_count": 346,
   "id": "f37b1b0f",
   "metadata": {},
   "outputs": [],
   "source": [
    "n1 = Integer('3')"
   ]
  },
  {
   "cell_type": "code",
   "execution_count": 347,
   "id": "706f0c45",
   "metadata": {},
   "outputs": [],
   "source": [
    "n2 = Integer('6')"
   ]
  },
  {
   "cell_type": "code",
   "execution_count": 348,
   "id": "3a9a23c2",
   "metadata": {},
   "outputs": [],
   "source": [
    "n3 = n1 * n2"
   ]
  },
  {
   "cell_type": "code",
   "execution_count": 349,
   "id": "9e4fb404",
   "metadata": {},
   "outputs": [
    {
     "data": {
      "text/plain": [
       "18"
      ]
     },
     "execution_count": 349,
     "metadata": {},
     "output_type": "execute_result"
    }
   ],
   "source": [
    "n3"
   ]
  },
  {
   "cell_type": "code",
   "execution_count": 324,
   "id": "26ab0d99",
   "metadata": {},
   "outputs": [
    {
     "data": {
      "text/plain": [
       "0"
      ]
     },
     "execution_count": 324,
     "metadata": {},
     "output_type": "execute_result"
    }
   ],
   "source": [
    "2//10"
   ]
  },
  {
   "cell_type": "markdown",
   "id": "eef2e008",
   "metadata": {},
   "source": [
    "# Question 3"
   ]
  },
  {
   "cell_type": "code",
   "execution_count": 508,
   "id": "42f2035f",
   "metadata": {},
   "outputs": [],
   "source": [
    "from DoublyLinkedList import DoublyLinkedList\n",
    "class CompactString:\n",
    "    def __init__(self, orig_str):\n",
    "        self.dll = DoublyLinkedList()\n",
    "        count = 1\n",
    "        for i in range(1, len(orig_str)):\n",
    "            if orig_str[i] == orig_str[i - 1]:\n",
    "                count += 1\n",
    "            else:\n",
    "                self.dll.add_last((orig_str[i - 1], count))\n",
    "                count = 1\n",
    "        if len(orig_str) != 0:\n",
    "            self.dll.add_last((orig_str[len(orig_str) - 1], count))\n",
    "        \n",
    "\n",
    "    def __add__(self, other):\n",
    "        if self.dll.trailer.prev.data[0] == other.dll.header.next.data[0]:\n",
    "            new_data = (self.dll.trailer.prev.data[0],self.dll.trailer.prev.data[1]+other.dll.header.next.data[1])\n",
    "            self.dll.delete_last()\n",
    "            self.dll.add_last(new_data)\n",
    "            other.dll.delete_first()\n",
    "\n",
    "        results = ''\n",
    "        for i in self.dll:\n",
    "            for j in range(i[1]):\n",
    "                results += i[0]\n",
    "        for i in other.dll:\n",
    "            for j in range(i[1]):\n",
    "                results += i[0]\n",
    "        new_cs = CompactString(results)\n",
    "        return new_cs\n",
    "        \n",
    "    def __lt__(self, other): # self < other\n",
    "        cursor1 = self.dll.header.next\n",
    "        cursor2 = other.dll.header.next\n",
    "        while cursor1.data == cursor2.data and cursor1.data is not None:\n",
    "            cursor1 = cursor1.next\n",
    "            cursor2 = cursor2.next\n",
    "        if cursor1 is None and cursor2 is None:\n",
    "            return False\n",
    "#         1:aaabb\n",
    "#         2:aaabb\n",
    "\n",
    "        elif cursor1 is None and cursor2 is not None:\n",
    "            return True\n",
    "#         1:aaabb\n",
    "#         2:aaabbaa\n",
    "        elif cursor1.data is not None and cursor2.data is None:\n",
    "            return False\n",
    "#         1:aaabbaa\n",
    "#         2:aaabb\n",
    "        else:\n",
    "            if cursor1.data[0] == cursor2.data[0]:\n",
    "                if cursor1.data[1] < cursor2.data[1]:\n",
    "                    if cursor1.next is None:\n",
    "                        return True\n",
    "                    else:\n",
    "                        return cursor1.next.data[0] < cursor2.data[0]\n",
    "                else:\n",
    "                    if cursor2.next is None:\n",
    "                        return False\n",
    "                    else:\n",
    "                        return cursor1.data[0] < cursor2.next.data[0]\n",
    "            return cursor1.data[0] < cursor2.data[0]\n",
    "\n",
    "\n",
    "\n",
    "    def __le__(self, other): # self <= other\n",
    "        cursor1 = self.dll.header.next\n",
    "        cursor2 = other.dll.header.next\n",
    "        while cursor1.data == cursor2.data and cursor1.data is not None:\n",
    "            cursor1 = cursor1.next\n",
    "            cursor2 = cursor2.next\n",
    "        if cursor1 is None and cursor2 is None:\n",
    "            return True\n",
    "#         1:aaabb\n",
    "#         2:aaabb\n",
    "\n",
    "        elif cursor1 is None and cursor2 is not None:\n",
    "            return True\n",
    "#         1:aaabb\n",
    "#         2:aaabbaa\n",
    "        elif cursor1.data is not None and cursor2.data is None:\n",
    "            return False\n",
    "#         1:aaabbaa\n",
    "#         2:aaabb\n",
    "        else:\n",
    "            if cursor1.data[0] == cursor2.data[0]:\n",
    "                if cursor1.data[1] < cursor2.data[1]:\n",
    "                    if cursor1.next is None:\n",
    "                        return True\n",
    "                    else:\n",
    "                        return cursor1.next.data[0] <= cursor2.data[0]\n",
    "                else:\n",
    "                    if cursor2.next is None:\n",
    "                        return False\n",
    "                    else:\n",
    "                        return cursor1.data[0] <= cursor2.next.data[0]\n",
    "            return cursor1.data[0] <= cursor2.data[0]\n",
    "\n",
    "    def __gt__(self, other): # self > other\n",
    "        cursor1 = self.dll.header.next\n",
    "        cursor2 = other.dll.header.next\n",
    "        while cursor1.data == cursor2.data and cursor1.data is not None:\n",
    "            cursor1 = cursor1.next\n",
    "            cursor2 = cursor2.next\n",
    "        if cursor1 is None and cursor2 is None:\n",
    "            return False\n",
    "#         1:aaabb\n",
    "#         2:aaabb\n",
    "\n",
    "        elif cursor1 is None and cursor2 is not None:\n",
    "            return False\n",
    "#         1:aaabb\n",
    "#         2:aaabbaa\n",
    "        elif cursor1.data is not None and cursor2.data is None:\n",
    "            return True\n",
    "#         1:aaabbaa\n",
    "#         2:aaabb\n",
    "        else:\n",
    "            if cursor1.data[0] == cursor2.data[0]:\n",
    "                if cursor1.data[1] < cursor2.data[1]:\n",
    "                    if cursor1.next is None:\n",
    "                        return False\n",
    "                    else:\n",
    "                        return cursor1.next.data[0] > cursor2.data[0]\n",
    "                else:\n",
    "                    if cursor2.next is None:\n",
    "                        return True\n",
    "                    else:\n",
    "                        return cursor1.data[0] > cursor2.next.data[0]\n",
    "            return cursor1.data[0] > cursor2.data[0]\n",
    "    def __ge__(self, other): # self >= other\n",
    "        cursor1 = self.dll.header.next\n",
    "        cursor2 = other.dll.header.next\n",
    "        while cursor1.data == cursor2.data and cursor1.data is not None:\n",
    "            cursor1 = cursor1.next\n",
    "            cursor2 = cursor2.next\n",
    "        if cursor1 is None and cursor2 is None:\n",
    "            return True\n",
    "#         1:aaabb\n",
    "#         2:aaabb\n",
    "\n",
    "        elif cursor1 is None and cursor2 is not None:\n",
    "            return False\n",
    "#         1:aaabb\n",
    "#         2:aaabbaa\n",
    "        elif cursor1.data is not None and cursor2.data is None:\n",
    "            return True\n",
    "#         1:aaabbaa\n",
    "#         2:aaabb\n",
    "        else:\n",
    "            if cursor1.data[0] == cursor2.data[0]:\n",
    "                if cursor1.data[1] < cursor2.data[1]:\n",
    "                    if cursor1.next is None:\n",
    "                        return False\n",
    "                    else:\n",
    "                        return cursor1.next.data[0] >= cursor2.data[0]\n",
    "                else:\n",
    "                    if cursor2.next is None:\n",
    "                        return True\n",
    "                    else:\n",
    "                        return cursor1.data[0] >= cursor2.next.data[0]\n",
    "            return cursor1.data[0] >= cursor2.data[0]\n",
    "\n",
    "    def __repr__(self):\n",
    "        result_str = ''\n",
    "        for i in self.dll:\n",
    "            for j in range(i[1]):\n",
    "                result_str += i[0]\n",
    "        return result_str"
   ]
  },
  {
   "cell_type": "code",
   "execution_count": 496,
   "id": "b0ab359c",
   "metadata": {},
   "outputs": [],
   "source": [
    "n1 = CompactString('aaaabbbbbcaaa')"
   ]
  },
  {
   "cell_type": "code",
   "execution_count": 497,
   "id": "8f14d456",
   "metadata": {},
   "outputs": [
    {
     "data": {
      "text/plain": [
       "aaaabbbbbcaaa"
      ]
     },
     "execution_count": 497,
     "metadata": {},
     "output_type": "execute_result"
    }
   ],
   "source": []
  },
  {
   "cell_type": "code",
   "execution_count": 492,
   "id": "d31e23a7",
   "metadata": {},
   "outputs": [],
   "source": [
    "n2 = CompactString('')"
   ]
  },
  {
   "cell_type": "code",
   "execution_count": 493,
   "id": "52838e3f",
   "metadata": {},
   "outputs": [],
   "source": [
    "n3 = n1 + n2"
   ]
  },
  {
   "cell_type": "code",
   "execution_count": 494,
   "id": "157187a8",
   "metadata": {},
   "outputs": [
    {
     "name": "stdout",
     "output_type": "stream",
     "text": [
      "aaaabbbbbccaaacc\n"
     ]
    }
   ],
   "source": [
    "print(n3)"
   ]
  },
  {
   "cell_type": "code",
   "execution_count": 495,
   "id": "6ec77396",
   "metadata": {},
   "outputs": [
    {
     "name": "stdout",
     "output_type": "stream",
     "text": [
      "aaaabbbbbcc\n"
     ]
    }
   ],
   "source": [
    "print(n1)"
   ]
  },
  {
   "cell_type": "code",
   "execution_count": 598,
   "id": "39a845be",
   "metadata": {},
   "outputs": [
    {
     "data": {
      "text/plain": [
       "False"
      ]
     },
     "execution_count": 598,
     "metadata": {},
     "output_type": "execute_result"
    }
   ],
   "source": [
    "'aabba' >= 'aabbaa'"
   ]
  },
  {
   "cell_type": "markdown",
   "id": "8b80d85d",
   "metadata": {},
   "source": [
    "# Question 4"
   ]
  },
  {
   "cell_type": "code",
   "execution_count": 509,
   "id": "69a4393a",
   "metadata": {},
   "outputs": [],
   "source": [
    "# a.\n",
    "def copy_linked_list(lnk_lst):\n",
    "    copy_lnk_lst = DoublyLinkedList()\n",
    "    for i in lnk_lst:\n",
    "        copy_lnk_lst.add_last(i)\n",
    "    return copy_lnk_lst"
   ]
  },
  {
   "cell_type": "markdown",
   "id": "4011117f",
   "metadata": {},
   "source": [
    "test code"
   ]
  },
  {
   "cell_type": "code",
   "execution_count": 511,
   "id": "230c3ba3",
   "metadata": {},
   "outputs": [
    {
     "data": {
      "text/plain": [
       "<DoublyLinkedList.DoublyLinkedList.Node at 0x10e9381f0>"
      ]
     },
     "execution_count": 511,
     "metadata": {},
     "output_type": "execute_result"
    }
   ],
   "source": [
    "lnk_lst1 = DoublyLinkedList()\n",
    "elem1 = DoublyLinkedList()\n",
    "elem1.add_last(1)\n",
    "elem1.add_last(2)\n",
    "lnk_lst1.add_last(elem1)\n",
    "elem2 = 3\n",
    "lnk_lst1.add_last(elem2)"
   ]
  },
  {
   "cell_type": "code",
   "execution_count": 512,
   "id": "9539951a",
   "metadata": {},
   "outputs": [],
   "source": [
    "lnk_lst2 = copy_linked_list(lnk_lst1)"
   ]
  },
  {
   "cell_type": "code",
   "execution_count": 513,
   "id": "b6324b85",
   "metadata": {},
   "outputs": [],
   "source": [
    "e1 = lnk_lst1.header.next\n",
    "e1_1 = e1.data.header.next\n",
    "e1_1.data = 10"
   ]
  },
  {
   "cell_type": "code",
   "execution_count": 514,
   "id": "7836b9a0",
   "metadata": {},
   "outputs": [
    {
     "name": "stdout",
     "output_type": "stream",
     "text": [
      "10\n"
     ]
    }
   ],
   "source": [
    "e2 = lnk_lst2.header.next\n",
    "e2_1 = e2.data.header.next\n",
    "print(e2_1.data)"
   ]
  },
  {
   "cell_type": "code",
   "execution_count": 515,
   "id": "96420f07",
   "metadata": {},
   "outputs": [],
   "source": [
    "# b\n",
    "import copy\n",
    "def deep_copy_linked_list(lnk_lst):\n",
    "    deep_lnk_lst = DoublyLinkedList()\n",
    "    for i in lnk_lst:\n",
    "        deep_lnk_lst.add_last(copy.deepcopy(i))\n",
    "    return deep_lnk_lst"
   ]
  },
  {
   "cell_type": "code",
   "execution_count": 516,
   "id": "9302eb8c",
   "metadata": {},
   "outputs": [
    {
     "data": {
      "text/plain": [
       "<DoublyLinkedList.DoublyLinkedList.Node at 0x10a769910>"
      ]
     },
     "execution_count": 516,
     "metadata": {},
     "output_type": "execute_result"
    }
   ],
   "source": [
    "lnk_lst1 = DoublyLinkedList()\n",
    "elem1 = DoublyLinkedList()\n",
    "elem1.add_last(1)\n",
    "elem1.add_last(2)\n",
    "lnk_lst1.add_last(elem1)\n",
    "elem2 = 3\n",
    "lnk_lst1.add_last(elem2)"
   ]
  },
  {
   "cell_type": "code",
   "execution_count": 517,
   "id": "6d8f02dd",
   "metadata": {},
   "outputs": [],
   "source": [
    "lnk_lst2 = deep_copy_linked_list(lnk_lst1)"
   ]
  },
  {
   "cell_type": "code",
   "execution_count": 518,
   "id": "fc95c52b",
   "metadata": {},
   "outputs": [
    {
     "name": "stdout",
     "output_type": "stream",
     "text": [
      "1\n"
     ]
    }
   ],
   "source": [
    "e1 = lnk_lst1.header.next\n",
    "e1_1 = e1.data.header.next\n",
    "e1_1.data = 10\n",
    "e2 = lnk_lst2.header.next\n",
    "e2_1 = e2.data.header.next\n",
    "print(e2_1.data)"
   ]
  },
  {
   "cell_type": "code",
   "execution_count": 597,
   "id": "a33eaf0f",
   "metadata": {},
   "outputs": [
    {
     "data": {
      "text/plain": [
       "True"
      ]
     },
     "execution_count": 597,
     "metadata": {},
     "output_type": "execute_result"
    }
   ],
   "source": [
    "\"aaaa\" > \"aaa\""
   ]
  },
  {
   "cell_type": "markdown",
   "id": "c8e486b4",
   "metadata": {},
   "source": [
    "# Question 6"
   ]
  },
  {
   "cell_type": "code",
   "execution_count": 583,
   "id": "8b150abd",
   "metadata": {},
   "outputs": [],
   "source": [
    "def merge_linked_lists(srt_lnk_lst1, srt_lnk_lst2):\n",
    "    def merge_sublists(srt_lnk_lst1,srt_lnk_lst2):\n",
    "        if (srt_lnk_lst1.is_empty()) and (srt_lnk_lst2.is_empty()):\n",
    "            return merge_lnk_lst\n",
    "        else:            \n",
    "            if (not srt_lnk_lst1.is_empty()) and (not srt_lnk_lst2.is_empty()):\n",
    "                elem_1 = srt_lnk_lst1.delete_first()\n",
    "                elem_2 = srt_lnk_lst2.delete_first()\n",
    "                if elem_1 <= elem_2:\n",
    "                    merge_lnk_lst.add_last(elem_1)\n",
    "                    srt_lnk_lst2.add_first(elem_2)\n",
    "                else:\n",
    "                    merge_lnk_lst.add_last(elem_2)\n",
    "                    srt_lnk_lst1.add_first(elem_1)\n",
    "            elif (srt_lnk_lst1.is_empty()):\n",
    "                elem_2 = srt_lnk_lst2.delete_first()\n",
    "                srt_lnk_lst2.add_first(elem_2)\n",
    "            elif (srt_lnk_lst1.is_empty()):\n",
    "                elem_1 = srt_lnk_lst1.delete_first()\n",
    "                srt_lnk_lst1.add_first(elem_1)\n",
    "\n",
    "            merge_sublists(srt_lnk_lst1,srt_lnk_lst2)\n",
    "            return merge_lnk_lst\n",
    "    merge_lnk_lst = DoublyLinkedList()    \n",
    "    return merge_sublists(srt_lnk_lst1,srt_lnk_lst2)"
   ]
  },
  {
   "cell_type": "code",
   "execution_count": 590,
   "id": "aceec875",
   "metadata": {},
   "outputs": [],
   "source": [
    "n1 = DoublyLinkedList()\n",
    "n2 = DoublyLinkedList()"
   ]
  },
  {
   "cell_type": "code",
   "execution_count": 591,
   "id": "3488f42e",
   "metadata": {},
   "outputs": [
    {
     "data": {
      "text/plain": [
       "<DoublyLinkedList.DoublyLinkedList.Node at 0x10e863460>"
      ]
     },
     "execution_count": 591,
     "metadata": {},
     "output_type": "execute_result"
    }
   ],
   "source": [
    "n1.add_last(1)\n",
    "n1.add_last(3)\n",
    "n1.add_last(5)\n",
    "n1.add_last(6)\n",
    "n1.add_last(8)"
   ]
  },
  {
   "cell_type": "code",
   "execution_count": 592,
   "id": "5c42107d",
   "metadata": {},
   "outputs": [
    {
     "data": {
      "text/plain": [
       "<DoublyLinkedList.DoublyLinkedList.Node at 0x10a769820>"
      ]
     },
     "execution_count": 592,
     "metadata": {},
     "output_type": "execute_result"
    }
   ],
   "source": [
    "n2.add_last(2)\n",
    "n2.add_last(3)\n",
    "n2.add_last(5)\n",
    "n2.add_last(10)\n",
    "n2.add_last(15)\n",
    "n2.add_last(18)"
   ]
  },
  {
   "cell_type": "code",
   "execution_count": 593,
   "id": "41cd6f34",
   "metadata": {},
   "outputs": [
    {
     "data": {
      "text/plain": [
       "[1 <--> 3 <--> 5 <--> 6 <--> 8]"
      ]
     },
     "execution_count": 593,
     "metadata": {},
     "output_type": "execute_result"
    }
   ],
   "source": [
    "n1"
   ]
  },
  {
   "cell_type": "code",
   "execution_count": 594,
   "id": "cfa82a1b",
   "metadata": {},
   "outputs": [
    {
     "data": {
      "text/plain": [
       "[2 <--> 3 <--> 5 <--> 10 <--> 15 <--> 18]"
      ]
     },
     "execution_count": 594,
     "metadata": {},
     "output_type": "execute_result"
    }
   ],
   "source": [
    "n2"
   ]
  },
  {
   "cell_type": "code",
   "execution_count": 589,
   "id": "015bd23f",
   "metadata": {},
   "outputs": [
    {
     "ename": "RecursionError",
     "evalue": "maximum recursion depth exceeded",
     "output_type": "error",
     "traceback": [
      "\u001b[0;31m---------------------------------------------------------------------------\u001b[0m",
      "\u001b[0;31mRecursionError\u001b[0m                            Traceback (most recent call last)",
      "\u001b[0;32m/var/folders/rd/q2lzfdss4b167026m7l6h8pm0000gn/T/ipykernel_15499/1312515484.py\u001b[0m in \u001b[0;36m<module>\u001b[0;34m\u001b[0m\n\u001b[0;32m----> 1\u001b[0;31m \u001b[0mmerge_linked_lists\u001b[0m\u001b[0;34m(\u001b[0m\u001b[0mn1\u001b[0m\u001b[0;34m,\u001b[0m \u001b[0mn2\u001b[0m\u001b[0;34m)\u001b[0m\u001b[0;34m\u001b[0m\u001b[0;34m\u001b[0m\u001b[0m\n\u001b[0m",
      "\u001b[0;32m/var/folders/rd/q2lzfdss4b167026m7l6h8pm0000gn/T/ipykernel_15499/567747186.py\u001b[0m in \u001b[0;36mmerge_linked_lists\u001b[0;34m(srt_lnk_lst1, srt_lnk_lst2)\u001b[0m\n\u001b[1;32m     23\u001b[0m             \u001b[0;32mreturn\u001b[0m \u001b[0mmerge_lnk_lst\u001b[0m\u001b[0;34m\u001b[0m\u001b[0;34m\u001b[0m\u001b[0m\n\u001b[1;32m     24\u001b[0m     \u001b[0mmerge_lnk_lst\u001b[0m \u001b[0;34m=\u001b[0m \u001b[0mDoublyLinkedList\u001b[0m\u001b[0;34m(\u001b[0m\u001b[0;34m)\u001b[0m\u001b[0;34m\u001b[0m\u001b[0;34m\u001b[0m\u001b[0m\n\u001b[0;32m---> 25\u001b[0;31m     \u001b[0;32mreturn\u001b[0m \u001b[0mmerge_sublists\u001b[0m\u001b[0;34m(\u001b[0m\u001b[0msrt_lnk_lst1\u001b[0m\u001b[0;34m,\u001b[0m\u001b[0msrt_lnk_lst2\u001b[0m\u001b[0;34m)\u001b[0m\u001b[0;34m\u001b[0m\u001b[0;34m\u001b[0m\u001b[0m\n\u001b[0m",
      "\u001b[0;32m/var/folders/rd/q2lzfdss4b167026m7l6h8pm0000gn/T/ipykernel_15499/567747186.py\u001b[0m in \u001b[0;36mmerge_sublists\u001b[0;34m(srt_lnk_lst1, srt_lnk_lst2)\u001b[0m\n\u001b[1;32m     20\u001b[0m                 \u001b[0msrt_lnk_lst1\u001b[0m\u001b[0;34m.\u001b[0m\u001b[0madd_first\u001b[0m\u001b[0;34m(\u001b[0m\u001b[0melem_1\u001b[0m\u001b[0;34m)\u001b[0m\u001b[0;34m\u001b[0m\u001b[0;34m\u001b[0m\u001b[0m\n\u001b[1;32m     21\u001b[0m \u001b[0;34m\u001b[0m\u001b[0m\n\u001b[0;32m---> 22\u001b[0;31m             \u001b[0mmerge_sublists\u001b[0m\u001b[0;34m(\u001b[0m\u001b[0msrt_lnk_lst1\u001b[0m\u001b[0;34m,\u001b[0m\u001b[0msrt_lnk_lst2\u001b[0m\u001b[0;34m)\u001b[0m\u001b[0;34m\u001b[0m\u001b[0;34m\u001b[0m\u001b[0m\n\u001b[0m\u001b[1;32m     23\u001b[0m             \u001b[0;32mreturn\u001b[0m \u001b[0mmerge_lnk_lst\u001b[0m\u001b[0;34m\u001b[0m\u001b[0;34m\u001b[0m\u001b[0m\n\u001b[1;32m     24\u001b[0m     \u001b[0mmerge_lnk_lst\u001b[0m \u001b[0;34m=\u001b[0m \u001b[0mDoublyLinkedList\u001b[0m\u001b[0;34m(\u001b[0m\u001b[0;34m)\u001b[0m\u001b[0;34m\u001b[0m\u001b[0;34m\u001b[0m\u001b[0m\n",
      "... last 1 frames repeated, from the frame below ...\n",
      "\u001b[0;32m/var/folders/rd/q2lzfdss4b167026m7l6h8pm0000gn/T/ipykernel_15499/567747186.py\u001b[0m in \u001b[0;36mmerge_sublists\u001b[0;34m(srt_lnk_lst1, srt_lnk_lst2)\u001b[0m\n\u001b[1;32m     20\u001b[0m                 \u001b[0msrt_lnk_lst1\u001b[0m\u001b[0;34m.\u001b[0m\u001b[0madd_first\u001b[0m\u001b[0;34m(\u001b[0m\u001b[0melem_1\u001b[0m\u001b[0;34m)\u001b[0m\u001b[0;34m\u001b[0m\u001b[0;34m\u001b[0m\u001b[0m\n\u001b[1;32m     21\u001b[0m \u001b[0;34m\u001b[0m\u001b[0m\n\u001b[0;32m---> 22\u001b[0;31m             \u001b[0mmerge_sublists\u001b[0m\u001b[0;34m(\u001b[0m\u001b[0msrt_lnk_lst1\u001b[0m\u001b[0;34m,\u001b[0m\u001b[0msrt_lnk_lst2\u001b[0m\u001b[0;34m)\u001b[0m\u001b[0;34m\u001b[0m\u001b[0;34m\u001b[0m\u001b[0m\n\u001b[0m\u001b[1;32m     23\u001b[0m             \u001b[0;32mreturn\u001b[0m \u001b[0mmerge_lnk_lst\u001b[0m\u001b[0;34m\u001b[0m\u001b[0;34m\u001b[0m\u001b[0m\n\u001b[1;32m     24\u001b[0m     \u001b[0mmerge_lnk_lst\u001b[0m \u001b[0;34m=\u001b[0m \u001b[0mDoublyLinkedList\u001b[0m\u001b[0;34m(\u001b[0m\u001b[0;34m)\u001b[0m\u001b[0;34m\u001b[0m\u001b[0;34m\u001b[0m\u001b[0m\n",
      "\u001b[0;31mRecursionError\u001b[0m: maximum recursion depth exceeded"
     ]
    }
   ],
   "source": [
    "merge_linked_lists(n1, n2)"
   ]
  },
  {
   "cell_type": "code",
   "execution_count": 595,
   "id": "778260f1",
   "metadata": {},
   "outputs": [],
   "source": [
    "elem_2 = n1.delete_first()"
   ]
  },
  {
   "cell_type": "code",
   "execution_count": 596,
   "id": "ca70094f",
   "metadata": {},
   "outputs": [
    {
     "data": {
      "text/plain": [
       "1"
      ]
     },
     "execution_count": 596,
     "metadata": {},
     "output_type": "execute_result"
    }
   ],
   "source": [
    "elem_2"
   ]
  },
  {
   "cell_type": "code",
   "execution_count": null,
   "id": "f681fce4",
   "metadata": {},
   "outputs": [],
   "source": []
  }
 ],
 "metadata": {
  "kernelspec": {
   "display_name": "Python 3 (ipykernel)",
   "language": "python",
   "name": "python3"
  },
  "language_info": {
   "codemirror_mode": {
    "name": "ipython",
    "version": 3
   },
   "file_extension": ".py",
   "mimetype": "text/x-python",
   "name": "python",
   "nbconvert_exporter": "python",
   "pygments_lexer": "ipython3",
   "version": "3.8.12"
  },
  "toc": {
   "base_numbering": 1,
   "nav_menu": {},
   "number_sections": true,
   "sideBar": true,
   "skip_h1_title": false,
   "title_cell": "Table of Contents",
   "title_sidebar": "Contents",
   "toc_cell": false,
   "toc_position": {},
   "toc_section_display": true,
   "toc_window_display": false
  }
 },
 "nbformat": 4,
 "nbformat_minor": 5
}
