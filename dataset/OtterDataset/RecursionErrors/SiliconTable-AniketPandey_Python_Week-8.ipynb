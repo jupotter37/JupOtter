{
 "cells": [
  {
   "cell_type": "markdown",
   "metadata": {},
   "source": [
    "# <b> Recursion </b>\n"
   ]
  },
  {
   "cell_type": "markdown",
   "metadata": {},
   "source": [
    "### Python also accepts function recursion, which means a defined function can call itself.\n",
    "\n",
    "### Recursion is a common mathematical and programming concept. It means that a function calls itself. This has the benefit of meaning that you can loop through data to reach a result.\n",
    "\n",
    "### Advantages of using recursion\n",
    "\n",
    "    A complicated function can be split down into smaller sub-problems utilizing recursion.\n",
    "    Sequence creation is simpler through recursion than utilizing any nested iteration.\n",
    "    Recursive functions render the code look simple and effective.\n",
    "\n",
    "### Disadvantages of using recursion\n",
    "\n",
    "    A lot of memory and time is taken through recursive calls which makes it expensive for use.\n",
    "    Recursive functions are challenging to debug.\n",
    "    The reasoning behind recursion can sometimes be tough to think through.\n"
   ]
  },
  {
   "cell_type": "code",
   "execution_count": 13,
   "metadata": {},
   "outputs": [
    {
     "name": "stdout",
     "output_type": "stream",
     "text": [
      "True\n",
      "False\n"
     ]
    }
   ],
   "source": [
    "\"\"\" A program to demonstarate recursion \n",
    "    This program check if 0 is present in the list\n",
    "\"\"\"\n",
    "\n",
    "\n",
    "def check_for_zero(L):\n",
    "    if len(L) == 0:\n",
    "        return 0  # 0 means False\n",
    "    if L[0] == 0:\n",
    "        return 1  # 1 means True\n",
    "    else:\n",
    "        return check_for_zero(L[1:])  # Recursively check the rest of the list\n",
    "\n",
    "\n",
    "result = check_for_zero([1, 2, 3, 4, 5, 0, 6, 7, 8, 9])\n",
    "print(bool(result))  # Convert result to boolean before printing or else it prints NONE\n",
    "\n",
    "result = check_for_zero([1, 2, 3, 4, 5, 6, 7, 8, 9])\n",
    "print(bool(result))  # Convert result to boolean before printing or else it prints NONE\n",
    "\n",
    "\"\"\" Please note this is a bad way of coding, or not an efficient way use some algorithm for this. \"\"\""
   ]
  },
  {
   "cell_type": "code",
   "execution_count": 15,
   "metadata": {},
   "outputs": [
    {
     "data": {
      "text/plain": [
       "[0, 1, 2, 3, 4, 5, 6, 7, 8, 9, 10]"
      ]
     },
     "execution_count": 15,
     "metadata": {},
     "output_type": "execute_result"
    }
   ],
   "source": [
    "\"\"\" Sorting a list using recursion \"\"\"\n",
    "\n",
    "\n",
    "def minimum_finder(L):\n",
    "\n",
    "    minimum = L[0]\n",
    "\n",
    "    for x in L:\n",
    "\n",
    "        if minimum > x:\n",
    "\n",
    "            minimum = x\n",
    "    return minimum\n",
    "\n",
    "\n",
    "def sorting(L):\n",
    "\n",
    "    if L == [] or len(L) == 1:  # What if the list is empty, or it has only one element?\n",
    "\n",
    "        return L  # LOL its already sorted\n",
    "\n",
    "    result = minimum_finder(\n",
    "        L\n",
    "    )  # basically this is calling the minimum_finder function and the return from minimum_finder gets into the variable result\n",
    "\n",
    "    L.remove(result)\n",
    "\n",
    "    return [result] + sorting(L)  # concatinate two list\n",
    "\n",
    "\n",
    "sorting([10, 9, 8, 6, 7, 5, 4, 3, 2, 1, 0])\n",
    "\n",
    "\n",
    "\"\"\" Again, please note this is a bad way of coding, or not an efficient way use some algorithm for this. \"\"\""
   ]
  },
  {
   "cell_type": "code",
   "execution_count": 47,
   "metadata": {},
   "outputs": [
    {
     "name": "stdout",
     "output_type": "stream",
     "text": [
      "9.203001022338867\n"
     ]
    },
    {
     "name": "stdout",
     "output_type": "stream",
     "text": [
      "\u001b[1;31mDocstring:\u001b[0m\n",
      "time() -> floating point number\n",
      "\n",
      "Return the current time in seconds since the Epoch.\n",
      "Fractions of a second may be present if the system clock provides them.\n",
      "\u001b[1;31mType:\u001b[0m      builtin_function_or_method"
     ]
    }
   ],
   "source": [
    "\"\"\" How do you know how much time is taken by a part of code to run, i mean how do you know the runtime of a code? \n",
    "Below is a method, not the best one but works altough you have it already inbuilt in juypter notebook \"\"\"\n",
    "\n",
    "import time\n",
    "a = time.time()\n",
    "ans = 0\n",
    "for i in range(100000000):\n",
    "    ans = i+ans\n",
    "b = time.time()\n",
    "print(b - a)\n",
    "\n",
    "# below code is kind of --help from linux if you remember, bascially it provides the documentation of the time function, but it is not very accurate.\n",
    "time.time?"
   ]
  },
  {
   "cell_type": "markdown",
   "metadata": {},
   "source": [
    "### Binary Search\n"
   ]
  },
  {
   "cell_type": "code",
   "execution_count": 1,
   "metadata": {},
   "outputs": [
    {
     "data": {
      "text/plain": [
       "'10000 found at index value 10000 '"
      ]
     },
     "execution_count": 1,
     "metadata": {},
     "output_type": "execute_result"
    }
   ],
   "source": [
    "import time\n",
    "\n",
    "\n",
    "def Binary_search(L, K):\n",
    "    start = 0\n",
    "    end = len(L) - 1\n",
    "    if L[start] == K:\n",
    "        return f\"{K} found at index value {start} \"\n",
    "    elif L[end] == K:\n",
    "        return f\"{K} found at index value {end} \"\n",
    "    while start <= end:\n",
    "        mid = (start + end) // 2\n",
    "        if L[mid] == K:\n",
    "            return f\"{K} found at index value {mid} \"\n",
    "        elif L[mid] < K:\n",
    "            start = mid + 1\n",
    "        else:\n",
    "            end = mid - 1\n",
    "    return 0\n",
    "\n",
    "\n",
    "a = time.time()\n",
    "L = list(range(1000000000))\n",
    "b = time.time()\n",
    "Binary_search(L, 10000)"
   ]
  },
  {
   "cell_type": "code",
   "execution_count": 4,
   "metadata": {},
   "outputs": [],
   "source": [
    "def Linear_search(L, K):\n",
    "    for i in len(L):\n",
    "        if L[i] == K:\n",
    "            return f\"{K} found at index value {i}\"\n",
    "    return \"Not found\"\n",
    "\n",
    "\n",
    "c = time.time()\n",
    "L = list(range(1000000000))\n",
    "Linear_search(L, 10000)\n",
    "d = time.time()"
   ]
  },
  {
   "cell_type": "code",
   "execution_count": 5,
   "metadata": {},
   "outputs": [
    {
     "name": "stdout",
     "output_type": "stream",
     "text": [
      "Binary search took  13.604886293411255 seconds\n",
      "Linear search took  53.91078209877014 seconds\n"
     ]
    }
   ],
   "source": [
    "print(\"Binary search took \", b - a, \"seconds\")\n",
    "print(\"Linear search took \", d - c, \"seconds\")\n",
    "\n",
    "# Large difference, yes large difference because in runtime process every nano second matters, the faster it takes to compile/interperate the better the algorithm is (keeping in mind the space complexicity)"
   ]
  },
  {
   "cell_type": "code",
   "execution_count": 39,
   "metadata": {},
   "outputs": [
    {
     "name": "stdout",
     "output_type": "stream",
     "text": [
      "100 found at index value 100\n"
     ]
    }
   ],
   "source": [
    "# Recursive binary search\n",
    "\n",
    "\n",
    "def Recursive_binary_search(L, K, Start, End):\n",
    "    if Start <= End:\n",
    "        mid = (Start + End) // 2\n",
    "        if L[mid] == K:\n",
    "            return f\"{K} found at index value {mid}\"\n",
    "        elif L[mid] < K:\n",
    "            return Recursive_binary_search(L, K, mid + 1, End)\n",
    "        else:\n",
    "            return Recursive_binary_search(L, K, Start, mid - 1)\n",
    "    else:\n",
    "        return \"Not found\"\n",
    "\n",
    "O = list(range(10000000))\n",
    "L= [10,20,30,40,50,60,70,80,90,100,110,120,130,140,150]\n",
    "print(Recursive_binary_search(O, 100, 0, len(O) - 1))\n"
   ]
  },
  {
   "cell_type": "markdown",
   "metadata": {},
   "source": [
    "<b> Recursion has some limitations </b>\n",
    "<br>\n",
    "    By default the maximum recursion that python can do is 999 it will not work beyond that and will give error<br>\n",
    "    Yes you can change the default value of '999' but for that you will have to import sys and that is somthing we will look sometime in the future "
   ]
  },
  {
   "cell_type": "code",
   "execution_count": 46,
   "metadata": {},
   "outputs": [
    {
     "name": "stdout",
     "output_type": "stream",
     "text": [
      "5050\n",
      "20100\n",
      "125250\n",
      "499500\n",
      "500500\n"
     ]
    },
    {
     "ename": "RecursionError",
     "evalue": "maximum recursion depth exceeded",
     "output_type": "error",
     "traceback": [
      "\u001b[1;31m---------------------------------------------------------------------------\u001b[0m",
      "\u001b[1;31mRecursionError\u001b[0m                            Traceback (most recent call last)",
      "Cell \u001b[1;32mIn[46], line 12\u001b[0m\n\u001b[0;32m     10\u001b[0m \u001b[38;5;28mprint\u001b[39m(sum_of_numbers(\u001b[38;5;241m999\u001b[39m)) \u001b[38;5;66;03m# it is by default \u001b[39;00m\n\u001b[0;32m     11\u001b[0m \u001b[38;5;28mprint\u001b[39m(sum_of_numbers(\u001b[38;5;241m1000\u001b[39m)) \u001b[38;5;66;03m# This works because it is varies from machine to machine and with python version too\u001b[39;00m\n\u001b[1;32m---> 12\u001b[0m \u001b[38;5;28mprint\u001b[39m(\u001b[43msum_of_numbers\u001b[49m\u001b[43m(\u001b[49m\u001b[38;5;241;43m10000000\u001b[39;49m\u001b[43m)\u001b[49m) \u001b[38;5;66;03m# But this will not work will throw up maximum recursion depth exceeded error\u001b[39;00m\n",
      "Cell \u001b[1;32mIn[46], line 5\u001b[0m, in \u001b[0;36msum_of_numbers\u001b[1;34m(n)\u001b[0m\n\u001b[0;32m      3\u001b[0m     \u001b[38;5;28;01mreturn\u001b[39;00m \u001b[38;5;241m0\u001b[39m\n\u001b[0;32m      4\u001b[0m \u001b[38;5;28;01melse\u001b[39;00m:\n\u001b[1;32m----> 5\u001b[0m     \u001b[38;5;28;01mreturn\u001b[39;00m n\u001b[38;5;241m+\u001b[39m\u001b[43msum_of_numbers\u001b[49m\u001b[43m(\u001b[49m\u001b[43mn\u001b[49m\u001b[38;5;241;43m-\u001b[39;49m\u001b[38;5;241;43m1\u001b[39;49m\u001b[43m)\u001b[49m\n",
      "Cell \u001b[1;32mIn[46], line 5\u001b[0m, in \u001b[0;36msum_of_numbers\u001b[1;34m(n)\u001b[0m\n\u001b[0;32m      3\u001b[0m     \u001b[38;5;28;01mreturn\u001b[39;00m \u001b[38;5;241m0\u001b[39m\n\u001b[0;32m      4\u001b[0m \u001b[38;5;28;01melse\u001b[39;00m:\n\u001b[1;32m----> 5\u001b[0m     \u001b[38;5;28;01mreturn\u001b[39;00m n\u001b[38;5;241m+\u001b[39m\u001b[43msum_of_numbers\u001b[49m\u001b[43m(\u001b[49m\u001b[43mn\u001b[49m\u001b[38;5;241;43m-\u001b[39;49m\u001b[38;5;241;43m1\u001b[39;49m\u001b[43m)\u001b[49m\n",
      "    \u001b[1;31m[... skipping similar frames: sum_of_numbers at line 5 (2974 times)]\u001b[0m\n",
      "Cell \u001b[1;32mIn[46], line 5\u001b[0m, in \u001b[0;36msum_of_numbers\u001b[1;34m(n)\u001b[0m\n\u001b[0;32m      3\u001b[0m     \u001b[38;5;28;01mreturn\u001b[39;00m \u001b[38;5;241m0\u001b[39m\n\u001b[0;32m      4\u001b[0m \u001b[38;5;28;01melse\u001b[39;00m:\n\u001b[1;32m----> 5\u001b[0m     \u001b[38;5;28;01mreturn\u001b[39;00m n\u001b[38;5;241m+\u001b[39m\u001b[43msum_of_numbers\u001b[49m\u001b[43m(\u001b[49m\u001b[43mn\u001b[49m\u001b[38;5;241;43m-\u001b[39;49m\u001b[38;5;241;43m1\u001b[39;49m\u001b[43m)\u001b[49m\n",
      "\u001b[1;31mRecursionError\u001b[0m: maximum recursion depth exceeded"
     ]
    }
   ],
   "source": [
    "def sum_of_numbers(n):\n",
    "    if n == 0:\n",
    "        return 0\n",
    "    else:\n",
    "        return n+sum_of_numbers(n-1)\n",
    "    \n",
    "print(sum_of_numbers(100))\n",
    "print(sum_of_numbers(200))\n",
    "print(sum_of_numbers(500))\n",
    "print(sum_of_numbers(999)) # it is by default \n",
    "print(sum_of_numbers(1000)) # This works because it is varies from machine to machine and with python version too\n",
    "print(sum_of_numbers(10000000)) # But this will not work will throw up maximum recursion depth exceeded error\n"
   ]
  }
 ],
 "metadata": {
  "kernelspec": {
   "display_name": "Python 3",
   "language": "python",
   "name": "python3"
  },
  "language_info": {
   "codemirror_mode": {
    "name": "ipython",
    "version": 3
   },
   "file_extension": ".py",
   "mimetype": "text/x-python",
   "name": "python",
   "nbconvert_exporter": "python",
   "pygments_lexer": "ipython3",
   "version": "3.12.2"
  }
 },
 "nbformat": 4,
 "nbformat_minor": 2
}
