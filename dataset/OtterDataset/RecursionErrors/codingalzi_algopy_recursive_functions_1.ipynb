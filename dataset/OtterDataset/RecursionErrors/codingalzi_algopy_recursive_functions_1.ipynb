{
 "cells": [
  {
   "cell_type": "markdown",
   "metadata": {},
   "source": [
    "(sec:recursive_functions)=\n",
    "# 재귀 함수"
   ]
  },
  {
   "cell_type": "markdown",
   "metadata": {},
   "source": [
    "**슬라이드**\n",
    "\n",
    "본문 내용을 요약한 [슬라이드](https://github.com/codingalzi/algopy/raw/master/slides/slides-recursive_functions_1.pdf)를 다운로드할 수 있다."
   ]
  },
  {
   "cell_type": "markdown",
   "metadata": {},
   "source": [
    "**주요 내용**"
   ]
  },
  {
   "cell_type": "markdown",
   "metadata": {},
   "source": [
    "- 재귀 개념\n",
    "- 재귀 함수"
   ]
  },
  {
   "cell_type": "markdown",
   "metadata": {},
   "source": [
    "## 재귀 함수"
   ]
  },
  {
   "cell_type": "markdown",
   "metadata": {},
   "source": [
    "**재귀**<font size='2'>recursion</font>는 주어진 문제를 해결하기 위해 \n",
    "보다 간단한 문제들로 쪼개어 해결하는 과정을 반복하는 기법이다.\n",
    "많은 문제가 재귀를 이용하여 간단하게 해결될 수 있다.\n",
    "대표적으로 분할 정복 기법으로 풀릴 수 있는 문제가 재귀를 활용하여 쉽게 해결될 수 있다.\n",
    "**재귀 함수**는 재귀를 이용하여 정의된 함수를 의미한다."
   ]
  },
  {
   "cell_type": "markdown",
   "metadata": {},
   "source": [
    "**예제: 리스트 항목들의 합**"
   ]
  },
  {
   "cell_type": "markdown",
   "metadata": {},
   "source": [
    "리스트에 포함된 항목들의 합을 구하는 함수를\n",
    "`for` 반복문을 이용하여 구현하면 다음과 같다.\n",
    "\n",
    "- 항목들의 누적합을 0으로 지정하고 시작\n",
    "- 각 항목을 확인할 때마다 누적합 계산"
   ]
  },
  {
   "cell_type": "code",
   "execution_count": 1,
   "metadata": {},
   "outputs": [],
   "source": [
    "def sum(num_list):\n",
    "    # 누적 합 저장\n",
    "    the_sum = 0\n",
    "    \n",
    "    # 모든 항목을 누적합에 더하기\n",
    "    for item in num_list:\n",
    "        the_sum = the_sum + item\n",
    "    \n",
    "    return the_sum"
   ]
  },
  {
   "cell_type": "code",
   "execution_count": 2,
   "metadata": {},
   "outputs": [
    {
     "name": "stdout",
     "output_type": "stream",
     "text": [
      "25\n"
     ]
    }
   ],
   "source": [
    "print(sum([1, 3, 5, 7, 9]))"
   ]
  },
  {
   "cell_type": "markdown",
   "metadata": {},
   "source": [
    "위 코드의 `for` 반복문에서 항목을 확인할 때마다 업데이트되는\n",
    "`the_sum` 변수는 아래 괄호가 묶인 순서대로 계산되는 값을 차례대로 가리킨다."
   ]
  },
  {
   "cell_type": "markdown",
   "metadata": {},
   "source": [
    "$$((((0+1) + 3) + 5) + 7) + 9$$"
   ]
  },
  {
   "cell_type": "markdown",
   "metadata": {},
   "source": [
    "반면에 재귀 기법을 적용하면 `the_sum`의 값이 다음과 같이 업데이트 된다."
   ]
  },
  {
   "cell_type": "markdown",
   "metadata": {},
   "source": [
    "<figure>\n",
    "<div align=\"center\"><img src=\"https://runestone.academy/runestone/books/published/pythonds3/_images/sumlistIn.png\" width=\"45%\"></div>\n",
    "</figure>"
   ]
  },
  {
   "cell_type": "markdown",
   "metadata": {},
   "source": [
    "즉, 항목들의 합이 다음과 같이 계산된다.\n",
    "\n",
    "$$1 + (3 + (5 + (7 + (9))))$$\n",
    "\n",
    "이유는 예를 들어 `sum([1, 3, 5, 7, 9)`를 계산하기 위해 먼저 \n",
    "`sum([3, 5, 7, 9)`를 계산한 다음 그 값을 1과 더하기 때문이다."
   ]
  },
  {
   "cell_type": "markdown",
   "metadata": {},
   "source": [
    "**리스트의 머리와 꼬리 활용**"
   ]
  },
  {
   "cell_type": "markdown",
   "metadata": {},
   "source": [
    "리스트의 항목들의 합이 아래 과정을 반복 적용하는 방식으로 계산된다.\n",
    "\n",
    "```python\n",
    "sum(num_list) = num_list[0] + sum(num_list[1:])\n",
    "```\n",
    "위 식을 리스트의 머리와 꼬리 개념으로 이해하면 재귀 알고리즘의 작동과정을 보다 쉽게 이해할 수 있다.\n",
    "\n",
    "- **머리**(head): 리스트의 0번 인덱스 값, 즉 `num_list[0]`\n",
    "- **꼬리**(tail): 0번 인덱스를 제외한 나머지, 즉 `num_list[1:]`\n",
    "\n",
    "머리와 꼬리 개념을 이용하여 재귀를 설명하면 다음과 같다.\n",
    "\n",
    "1. 먼저 꼬리에 재귀를 적용한다.\n",
    "1. 꼬리에 대한 재귀가 특정 값을 반환할 때까지 기다린 다음 머리와 합한다."
   ]
  },
  {
   "cell_type": "markdown",
   "metadata": {},
   "source": [
    "앞서 설명한 재귀를 함수로 구현하면 다음과 같다."
   ]
  },
  {
   "cell_type": "code",
   "execution_count": 3,
   "metadata": {},
   "outputs": [],
   "source": [
    "def sum(num_list):\n",
    "    if len(num_list) == 1:  # 항목이 1개 일때\n",
    "        return num_list[0]\n",
    "    else:                   # 항목이 2개 이상일 때: 머리와 꼬리 재귀 결과의 합\n",
    "        return num_list[0] + sum(num_list[1:])"
   ]
  },
  {
   "cell_type": "code",
   "execution_count": 4,
   "metadata": {},
   "outputs": [
    {
     "name": "stdout",
     "output_type": "stream",
     "text": [
      "25\n"
     ]
    }
   ],
   "source": [
    "print(sum([1, 3, 5, 7, 9]))"
   ]
  },
  {
   "cell_type": "markdown",
   "metadata": {},
   "source": [
    "**재귀 호출**"
   ]
  },
  {
   "cell_type": "markdown",
   "metadata": {},
   "source": [
    "함수가 실행될 때 함수 자신을 호출하는 것을\n",
    "**재귀 호출**<font size='2'>recursive call</font>이라 한다.\n",
    "재귀 호출을 이용하여 구현된 알고리즘은 **재귀 알고리즘**<font size='2'>recursive algorithm</font>, \n",
    "재귀 알고리즘을 사용한 함수가 **재귀 함수**<font size='2'>recursive function</font>이다."
   ]
  },
  {
   "cell_type": "markdown",
   "metadata": {},
   "source": [
    "## 재귀 알고리즘의 특징"
   ]
  },
  {
   "cell_type": "markdown",
   "metadata": {},
   "source": [
    "재귀 알고리즘은 아래 세 가지 특징을 가져야 한다. \n",
    "\n",
    "1. 재귀 호출이 반드시 발생해야 한다.\n",
    "1. **종료 조건**<font size='2'>base case</font>이 존재해야 한다. \n",
    "    - `sum()` 함수의 경우 `len(num_list) == 1`이 종료 조건을 다룬다.\n",
    "    - 종료 조건이 없는 재귀 알고리즘은 실행이 종료되지 않을 수 있다.\n",
    "1. 재귀 호출에 사용되는 입력값의 크기가 줄어들어야 한다. \n",
    "    - `sum()` 함수의 경우 `sum(num_list[1:])`에 사용된\n",
    "        리스트 `num_list[1:]`의 크기는 `num_list` 보다 1 작다.\n",
    "    - 재귀 호출이 반복되어 결국에는 종료 조건을 만족하는 상태, \n",
    "        즉 `len(num_list) == 1`이 되는 `num_list`가 인자로 사용되어야 한다."
   ]
  },
  {
   "cell_type": "markdown",
   "metadata": {},
   "source": [
    "**예제 1**: 종료 조건이 없는 경우\n",
    "\n",
    "종료 조건이 없는 재귀 호출은 실행이 종료되지 않을 수 있다. \n",
    "\n",
    "```python\n",
    "def f(x):\n",
    "    return f(x-1) + 1\n",
    "```"
   ]
  },
  {
   "cell_type": "markdown",
   "metadata": {},
   "source": [
    "**예제 2**: 종료 조건에 다달하는지 여부를 알 수 없는 경우\n",
    "\n",
    "아래 `collatz(n)` 함수는 임의의 양의 정수 `n`에 대해 짝수면 2로 나누고,\n",
    "홀수면 세 배 더하기 1을 반복적으로 실행하여 언젠가 1이 나오면 멈춘다."
   ]
  },
  {
   "cell_type": "code",
   "execution_count": 5,
   "metadata": {},
   "outputs": [],
   "source": [
    "def collatz(n):\n",
    "    if n == 1:\n",
    "        print(n)\n",
    "    elif n % 2 == 0:\n",
    "        print(n, end=', ')\n",
    "        collatz(n//2)\n",
    "    else:\n",
    "        print(n, end=', ')\n",
    "        collatz(3*n + 1)"
   ]
  },
  {
   "cell_type": "code",
   "execution_count": 6,
   "metadata": {},
   "outputs": [
    {
     "name": "stdout",
     "output_type": "stream",
     "text": [
      "7, 22, 11, 34, 17, 52, 26, 13, 40, 20, 10, 5, 16, 8, 4, 2, 1\n"
     ]
    }
   ],
   "source": [
    "collatz(7)"
   ]
  },
  {
   "cell_type": "code",
   "execution_count": 7,
   "metadata": {},
   "outputs": [
    {
     "name": "stdout",
     "output_type": "stream",
     "text": [
      "27, 82, 41, 124, 62, 31, 94, 47, 142, 71, 214, 107, 322, 161, 484, 242, 121, 364, 182, 91, 274, 137, 412, 206, 103, 310, 155, 466, 233, 700, 350, 175, 526, 263, 790, 395, 1186, 593, 1780, 890, 445, 1336, 668, 334, 167, 502, 251, 754, 377, 1132, 566, 283, 850, 425, 1276, 638, 319, 958, 479, 1438, 719, 2158, 1079, 3238, 1619, 4858, 2429, 7288, 3644, 1822, 911, 2734, 1367, 4102, 2051, 6154, 3077, 9232, 4616, 2308, 1154, 577, 1732, 866, 433, 1300, 650, 325, 976, 488, 244, 122, 61, 184, 92, 46, 23, 70, 35, 106, 53, 160, 80, 40, 20, 10, 5, 16, 8, 4, 2, 1\n"
     ]
    }
   ],
   "source": [
    "collatz(27)"
   ]
  },
  {
   "cell_type": "code",
   "execution_count": 8,
   "metadata": {},
   "outputs": [
    {
     "name": "stdout",
     "output_type": "stream",
     "text": [
      "1024, 512, 256, 128, 64, 32, 16, 8, 4, 2, 1\n"
     ]
    }
   ],
   "source": [
    "collatz(1024)"
   ]
  },
  {
   "cell_type": "markdown",
   "metadata": {},
   "source": [
    "앞서 보았듯이 입력값이 커질 수록 재귀 호출 횟수가 반드시 많아지는 것은 아니다.\n",
    "실제로 지금까지 재귀 호출 횟수와 관련해서 어떤 규칙도 발견되지 않았다.\n",
    "즉, 입력값이 주어지면 언제 종료되는지 아직 아무도 모른다.\n",
    "이런 이유로 이 문제를 **콜라츠 추측**(Collatz Conjecture)이라 부른다.\n",
    "\n",
    "아래 그림은 `collatz(27)` 이 실행되는 동안 재귀 호출에 사용되는 인자의 변화를 보여준다."
   ]
  },
  {
   "cell_type": "markdown",
   "metadata": {},
   "source": [
    "<p><div align=\"center\"><img src=\"https://raw.githubusercontent.com/codingalzi/algopy/master/jupyter-book/imgs/Collatz5.png\" width=\"70%\"></div></p>\n",
    "\n",
    "<그림 출처: [위키백과: 콜라츠 추측](https://en.wikipedia.org/wiki/Collatz_conjecture)>"
   ]
  },
  {
   "cell_type": "markdown",
   "metadata": {},
   "source": [
    "## 진법 변환"
   ]
  },
  {
   "cell_type": "markdown",
   "metadata": {},
   "source": [
    "정수를 특정 진법으로 변환하는 함수를 재귀를 이용하여 구현한다.\n",
    "반환값은 문자열로 처리한다."
   ]
  },
  {
   "cell_type": "markdown",
   "metadata": {},
   "source": [
    "**이진법 변환**"
   ]
  },
  {
   "cell_type": "markdown",
   "metadata": {},
   "source": [
    "아래 그림은 정수 10을 이진법으로 변환하는 과정을 보여준다."
   ]
  },
  {
   "cell_type": "markdown",
   "metadata": {},
   "source": [
    "<figure>\n",
    "<div align=\"center\"><img src=\"https://raw.githubusercontent.com/codingalzi/algopy/master/jupyter-book/imgs/toStrBase2.png\" width=\"45%\"></div>\n",
    "</figure>"
   ]
  },
  {
   "cell_type": "markdown",
   "metadata": {},
   "source": [
    "결론적으로 아래 세 가지 사항을 재귀 알고리즘 정의에 활용할 수 있다.\n",
    "\n",
    "1. 종료 조건: 사용되는 진법보다 작은 수는 그대로 문자열로 사용한다. 예를 들어\n",
    "    - 8진법인 경우엔 0부터 7까지의 수는 각각 `'0'`, `'1'`, ..., `'7'` 등으로 변환한다. \n",
    "    - 16진법인 경우엔 0부터 15까지의 수를 각각 `'0'`, `'1'`, ..., `'9'`, `'A'`, `'B'`, ..., `'F'`로 변환한다.\n",
    "1. 재귀: 사용되는 진법보다 큰 수는 진법의 수로 나눈 다음에 몫에 대해 재귀를 적용한 결과를 최종 반환값에 더한다."
   ]
  },
  {
   "cell_type": "markdown",
   "metadata": {},
   "source": [
    "아래 `to_str()` 함수는 정수와 진법이 정해졌을 때 해당 진법으로 변환된 문자열을 반환하며,\n",
    "앞서 설명한 재귀 알고리즘을 그대로 구현한다.\n",
    "단, 이진법에서 16진법까지만 지원한다."
   ]
  },
  {
   "cell_type": "code",
   "execution_count": 9,
   "metadata": {},
   "outputs": [],
   "source": [
    "def to_str(n, base):\n",
    "    numeric_string = \"0123456789ABCDEF\"\n",
    "    \n",
    "    if n < base:                          # 종료 조건\n",
    "        return numeric_string[n]\n",
    "    else:                                 # 재귀\n",
    "        return to_str(n // base, base) + numeric_string[n % base]"
   ]
  },
  {
   "cell_type": "code",
   "execution_count": 10,
   "metadata": {},
   "outputs": [
    {
     "name": "stdout",
     "output_type": "stream",
     "text": [
      "1011011001011101\n"
     ]
    }
   ],
   "source": [
    "print(to_str(46685, 2))"
   ]
  },
  {
   "cell_type": "code",
   "execution_count": 11,
   "metadata": {},
   "outputs": [
    {
     "name": "stdout",
     "output_type": "stream",
     "text": [
      "133135\n"
     ]
    }
   ],
   "source": [
    "print(to_str(46685, 8))"
   ]
  },
  {
   "cell_type": "code",
   "execution_count": 12,
   "metadata": {},
   "outputs": [
    {
     "name": "stdout",
     "output_type": "stream",
     "text": [
      "B65D\n"
     ]
    }
   ],
   "source": [
    "print(to_str(46685, 16))"
   ]
  },
  {
   "cell_type": "markdown",
   "metadata": {},
   "source": [
    "## 콜 스택"
   ]
  },
  {
   "cell_type": "markdown",
   "metadata": {},
   "source": [
    "파이썬의 경우 \n",
    "재귀 함수가 실행되면 재귀 호출이 발생할 때마다 \n",
    "함수 호출의 실행을 관리하는 **프레임**<font size='2'>frame</font>이 \n",
    "생성된다.\n",
    "생성되는 프레임은 스택으로 관리되며 \n",
    "이를 **콜 스택**<font size='2'>call stack</font>이라 부른다.\n",
    "\n",
    "아래 진법 변환 함수를 \n",
    "[PythonTutor: 콜 스택](https://pythontutor.com/visualize.html#code=numeric_string%20%3D%20%220123456789ABCDEF%22%0Aremainder_list%20%3D%20%5B%5D%0A%0Adef%20to_str%28n,%20base%29%3A%0A%20%20%20%20if%20n%20%3C%20base%3A%0A%20%20%20%20%20%20%20%20return%20numeric_string%5Bn%5D%0A%20%20%20%20else%3A%0A%20%20%20%20%20%20%20%20quotient%20%3D%20n%20//%20base%0A%20%20%20%20%20%20%20%20remainder%20%3D%20n%20%25%20base%0A%20%20%20%20%20%20%20%20remainder_string%20%3D%20numeric_string%5Bremainder%5D%0A%20%20%20%20%20%20%20%20remainder_list.append%28remainder_string%29%0A%20%20%20%20%20%20%20%20return%20to_str%28quotient,%20base%29%20%2B%20remainder_list.pop%28%29%0A%20%20%20%20%20%20%20%20%0Aprint%28to_str%2846685,%2016%29%29&cumulative=false&curInstr=0&heapPrimitives=nevernest&mode=display&origin=opt-frontend.js&py=3&rawInputLstJSON=%5B%5D&textReferences=false)\n",
    "에서 실행하면서 프레임 스택의 변화를 한 눈에 살펴볼 수 있다.\n",
    "\n",
    "**참고**: 메모리 상에서의 변화를 보다 명료하게 보여주기 위해 이전 보다 변수가 몇 개 더 추가되었다."
   ]
  },
  {
   "cell_type": "code",
   "execution_count": 13,
   "metadata": {},
   "outputs": [],
   "source": [
    "numeric_string = \"0123456789ABCDEF\"                           # 진법 표현에 사용될 기호\n",
    "remainder_list = []                                           # 나머지 기호 저장용 스택\n",
    "\n",
    "def to_str(n, base):\n",
    "    if n < base:                                              # 종료 조건\n",
    "        return numeric_string[n]\n",
    "    else:\n",
    "        quotient = n // base                                  # 몫\n",
    "        remainder = n % base                                  # 나머지\n",
    "        remainder_string = numeric_string[remainder]\n",
    "        remainder_list.append(remainder_string)               # 나머지 기호 저장\n",
    "        return to_str(quotient, base) + remainder_list.pop()  # 몫에 대한 재귀 호출\n",
    "        "
   ]
  },
  {
   "cell_type": "code",
   "execution_count": 14,
   "metadata": {},
   "outputs": [
    {
     "name": "stdout",
     "output_type": "stream",
     "text": [
      "B65D\n"
     ]
    }
   ],
   "source": [
    "print(to_str(46685, 16))"
   ]
  },
  {
   "cell_type": "markdown",
   "metadata": {},
   "source": [
    "아래 그림은 `to_str(46685, 16)`이 호출되어 콜 스택이 가장 높게 쌓였을 때를 보여준다."
   ]
  },
  {
   "cell_type": "markdown",
   "metadata": {},
   "source": [
    "<figure>\n",
    "<div align=\"center\"><img src=\"https://raw.githubusercontent.com/codingalzi/algopy/master/notebooks/_images/call_stack_1.png\" width=\"70%\"></div>\n",
    "</figure>"
   ]
  },
  {
   "cell_type": "markdown",
   "metadata": {
    "slideshow": {
     "slide_type": "slide"
    }
   },
   "source": [
    "**스택 오버플로우**"
   ]
  },
  {
   "cell_type": "markdown",
   "metadata": {},
   "source": [
    "재귀 호출이 너무 많은 경우 스택 오버플로우로 인한 `RecursionError` 오류가 발생한다.\n",
    "예를 들어 아래 `f()` 함수는 재귀를 무한정 호출한다.\n",
    "파이썬은 재귀 호출에 활용되는 스택 메모리 영역을 보호하기 위해 최대 1만번 까지의 재귀 호출을 허용한다."
   ]
  },
  {
   "cell_type": "code",
   "execution_count": 16,
   "metadata": {},
   "outputs": [
    {
     "ename": "RecursionError",
     "evalue": "maximum recursion depth exceeded",
     "output_type": "error",
     "traceback": [
      "\u001b[0;31m---------------------------------------------------------------------------\u001b[0m",
      "\u001b[0;31mRecursionError\u001b[0m                            Traceback (most recent call last)",
      "Cell \u001b[0;32mIn[16], line 4\u001b[0m\n\u001b[1;32m      1\u001b[0m \u001b[38;5;28;01mdef\u001b[39;00m \u001b[38;5;21mf\u001b[39m(x):\n\u001b[1;32m      2\u001b[0m     \u001b[38;5;28;01mreturn\u001b[39;00m f(x\u001b[38;5;241m-\u001b[39m\u001b[38;5;241m1\u001b[39m) \u001b[38;5;241m+\u001b[39m \u001b[38;5;241m1\u001b[39m\n\u001b[0;32m----> 4\u001b[0m f(\u001b[38;5;241m10\u001b[39m)\n",
      "Cell \u001b[0;32mIn[16], line 2\u001b[0m, in \u001b[0;36mf\u001b[0;34m(x)\u001b[0m\n\u001b[1;32m      1\u001b[0m \u001b[38;5;28;01mdef\u001b[39;00m \u001b[38;5;21mf\u001b[39m(x):\n\u001b[0;32m----> 2\u001b[0m     \u001b[38;5;28;01mreturn\u001b[39;00m f(x\u001b[38;5;241m-\u001b[39m\u001b[38;5;241m1\u001b[39m) \u001b[38;5;241m+\u001b[39m \u001b[38;5;241m1\u001b[39m\n",
      "Cell \u001b[0;32mIn[16], line 2\u001b[0m, in \u001b[0;36mf\u001b[0;34m(x)\u001b[0m\n\u001b[1;32m      1\u001b[0m \u001b[38;5;28;01mdef\u001b[39;00m \u001b[38;5;21mf\u001b[39m(x):\n\u001b[0;32m----> 2\u001b[0m     \u001b[38;5;28;01mreturn\u001b[39;00m f(x\u001b[38;5;241m-\u001b[39m\u001b[38;5;241m1\u001b[39m) \u001b[38;5;241m+\u001b[39m \u001b[38;5;241m1\u001b[39m\n",
      "    \u001b[0;31m[... skipping similar frames: f at line 2 (2975 times)]\u001b[0m\n",
      "Cell \u001b[0;32mIn[16], line 2\u001b[0m, in \u001b[0;36mf\u001b[0;34m(x)\u001b[0m\n\u001b[1;32m      1\u001b[0m \u001b[38;5;28;01mdef\u001b[39;00m \u001b[38;5;21mf\u001b[39m(x):\n\u001b[0;32m----> 2\u001b[0m     \u001b[38;5;28;01mreturn\u001b[39;00m f(x\u001b[38;5;241m-\u001b[39m\u001b[38;5;241m1\u001b[39m) \u001b[38;5;241m+\u001b[39m \u001b[38;5;241m1\u001b[39m\n",
      "\u001b[0;31mRecursionError\u001b[0m: maximum recursion depth exceeded"
     ]
    }
   ],
   "source": [
    "def f(x):\n",
    "    return f(x-1) + 1\n",
    "\n",
    "f(10)"
   ]
  },
  {
   "cell_type": "markdown",
   "metadata": {},
   "source": [
    "재귀 호출 허용 횟수를 지정할 수는 있지만 권장되지 않는다."
   ]
  },
  {
   "cell_type": "markdown",
   "metadata": {},
   "source": [
    "## 연습 문제"
   ]
  },
  {
   "cell_type": "markdown",
   "metadata": {},
   "source": [
    "1. [(실습) 재귀 함수](https://colab.research.google.com/github/codingalzi/algopy/blob/master/excs/exc-recursive_functions_1.ipynb)"
   ]
  }
 ],
 "metadata": {
  "kernelspec": {
   "display_name": "Python 3 (ipykernel)",
   "language": "python",
   "name": "python3"
  },
  "language_info": {
   "codemirror_mode": {
    "name": "ipython",
    "version": 3
   },
   "file_extension": ".py",
   "mimetype": "text/x-python",
   "name": "python",
   "nbconvert_exporter": "python",
   "pygments_lexer": "ipython3",
   "version": "3.12.2"
  },
  "vscode": {
   "interpreter": {
    "hash": "6c86b3592b6800d985c04531f2c445f0fa6967131b8dd6395a925f7622e55602"
   }
  }
 },
 "nbformat": 4,
 "nbformat_minor": 4
}
