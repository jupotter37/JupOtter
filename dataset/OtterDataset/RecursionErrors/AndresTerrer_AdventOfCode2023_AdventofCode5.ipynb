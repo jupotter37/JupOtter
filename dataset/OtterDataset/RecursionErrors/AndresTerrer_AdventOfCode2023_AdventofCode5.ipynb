{
 "cells": [
  {
   "cell_type": "markdown",
   "metadata": {},
   "source": [
    "--- Day 20: Pulse Propagation ---\n",
    "With your help, the Elves manage to find the right parts and fix all of the machines. Now, they just need to send the command to boot up the machines and get the sand flowing again.\n",
    "\n",
    "The machines are far apart and wired together with long cables. The cables don't connect to the machines directly, but rather to communication modules attached to the machines that perform various initialization tasks and also act as communication relays.\n",
    "\n",
    "Modules communicate using pulses. Each pulse is either a high pulse or a low pulse. When a module sends a pulse, it sends that type of pulse to each module in its list of destination modules.\n",
    "\n",
    "There are several different types of modules:\n",
    "\n",
    "Flip-flop modules (prefix %) are either on or off; they are initially off. If a flip-flop module receives a high pulse, it is ignored and nothing happens. However, if a flip-flop module receives a low pulse, it flips between on and off. If it was off, it turns on and sends a high pulse. If it was on, it turns off and sends a low pulse.\n",
    "\n",
    "Conjunction modules (prefix &) remember the type of the most recent pulse received from each of their connected input modules; they initially default to remembering a low pulse for each input. When a pulse is received, the conjunction module first updates its memory for that input. Then, if it remembers high pulses for all inputs, it sends a low pulse; otherwise, it sends a high pulse.\n",
    "\n",
    "There is a single broadcast module (named broadcaster). When it receives a pulse, it sends the same pulse to all of its destination modules.\n",
    "\n",
    "Here at Desert Machine Headquarters, there is a module with a single button on it called, aptly, the button module. When you push the button, a single low pulse is sent directly to the broadcaster module.\n",
    "\n",
    "After pushing the button, you must wait until all pulses have been delivered and fully handled before pushing it again. Never push the button if modules are still processing pulses.\n",
    "\n",
    "Pulses are always processed in the order they are sent. So, if a pulse is sent to modules a, b, and c, and then module a processes its pulse and sends more pulses, the pulses sent to modules b and c would have to be handled first.\n",
    "\n",
    "The module configuration (your puzzle input) lists each module. The name of the module is preceded by a symbol identifying its type, if any. The name is then followed by an arrow and a list of its destination modules. For example:\n",
    "\n",
    "broadcaster -> a, b, c\n",
    "%a -> b\n",
    "%b -> c\n",
    "%c -> inv\n",
    "&inv -> a\n",
    "In this module configuration, the broadcaster has three destination modules named a, b, and c. Each of these modules is a flip-flop module (as indicated by the % prefix). a outputs to b which outputs to c which outputs to another module named inv. inv is a conjunction module (as indicated by the & prefix) which, because it has only one input, acts like an inverter (it sends the opposite of the pulse type it receives); it outputs to a.\n",
    "\n",
    "By pushing the button once, the following pulses are sent:\n",
    "\n",
    "button -low-> broadcaster\n",
    "broadcaster -low-> a\n",
    "broadcaster -low-> b\n",
    "broadcaster -low-> c\n",
    "a -high-> b\n",
    "b -high-> c\n",
    "c -high-> inv\n",
    "inv -low-> a\n",
    "a -low-> b\n",
    "b -low-> c\n",
    "c -low-> inv\n",
    "inv -high-> a\n",
    "After this sequence, the flip-flop modules all end up off, so pushing the button again repeats the same sequence.\n",
    "\n",
    "Here's a more interesting example:\n",
    "\n",
    "broadcaster -> a\n",
    "%a -> inv, con\n",
    "&inv -> b\n",
    "%b -> con\n",
    "&con -> output\n",
    "This module configuration includes the broadcaster, two flip-flops (named a and b), a single-input conjunction module (inv), a multi-input conjunction module (con), and an untyped module named output (for testing purposes). The multi-input conjunction module con watches the two flip-flop modules and, if they're both on, sends a low pulse to the output module.\n",
    "\n",
    "Here's what happens if you push the button once:\n",
    "\n",
    "button -low-> broadcaster\n",
    "broadcaster -low-> a\n",
    "a -high-> inv\n",
    "a -high-> con\n",
    "inv -low-> b\n",
    "con -high-> output\n",
    "b -high-> con\n",
    "con -low-> output\n",
    "Both flip-flops turn on and a low pulse is sent to output! However, now that both flip-flops are on and con remembers a high pulse from each of its two inputs, pushing the button a second time does something different:\n",
    "\n",
    "button -low-> broadcaster\n",
    "broadcaster -low-> a\n",
    "a -low-> inv\n",
    "a -low-> con\n",
    "inv -high-> b\n",
    "con -high-> output\n",
    "Flip-flop a turns off! Now, con remembers a low pulse from module a, and so it sends only a high pulse to output.\n",
    "\n",
    "Push the button a third time:\n",
    "\n",
    "button -low-> broadcaster\n",
    "broadcaster -low-> a\n",
    "a -high-> inv\n",
    "a -high-> con\n",
    "inv -low-> b\n",
    "con -low-> output\n",
    "b -low-> con\n",
    "con -high-> output\n",
    "This time, flip-flop a turns on, then flip-flop b turns off. However, before b can turn off, the pulse sent to con is handled first, so it briefly remembers all high pulses for its inputs and sends a low pulse to output. After that, flip-flop b turns off, which causes con to update its state and send a high pulse to output.\n",
    "\n",
    "Finally, with a on and b off, push the button a fourth time:\n",
    "\n",
    "button -low-> broadcaster\n",
    "broadcaster -low-> a\n",
    "a -low-> inv\n",
    "a -low-> con\n",
    "inv -high-> b\n",
    "con -high-> output\n",
    "This completes the cycle: a turns off, causing con to remember only low pulses and restoring all modules to their original states.\n",
    "\n",
    "To get the cables warmed up, the Elves have pushed the button 1000 times. How many pulses got sent as a result (including the pulses sent by the button itself)?\n",
    "\n",
    "In the first example, the same thing happens every time the button is pushed: 8 low pulses and 4 high pulses are sent. So, after pushing the button 1000 times, 8000 low pulses and 4000 high pulses are sent. Multiplying these together gives 32000000.\n",
    "\n",
    "In the second example, after pushing the button 1000 times, 4250 low pulses and 2750 high pulses are sent. Multiplying these together gives 11687500.\n",
    "\n",
    "Consult your module configuration; determine the number of low pulses and high pulses that would be sent after pushing the button 1000 times, waiting for all pulses to be fully handled after each push of the button. What do you get if you multiply the total number of low pulses sent by the total number of high pulses sent?"
   ]
  },
  {
   "cell_type": "code",
   "execution_count": 40,
   "metadata": {},
   "outputs": [
    {
     "data": {
      "text/plain": [
       "['broadcaster -> a, b, c', '%a -> b', '%b -> c', '%c -> inv', '&inv -> a']"
      ]
     },
     "execution_count": 40,
     "metadata": {},
     "output_type": "execute_result"
    }
   ],
   "source": [
    "puzzle_input = open(\"./puzzle_inputs/day20test1.txt\").read().split(\"\\n\")\n",
    "puzzle_input"
   ]
  },
  {
   "cell_type": "code",
   "execution_count": 41,
   "metadata": {},
   "outputs": [
    {
     "data": {
      "text/plain": [
       "[('broadcaster', ['a', 'b', 'c']),\n",
       " ('%a', ['b']),\n",
       " ('%b', ['c']),\n",
       " ('%c', ['inv']),\n",
       " ('&inv', ['a'])]"
      ]
     },
     "execution_count": 41,
     "metadata": {},
     "output_type": "execute_result"
    }
   ],
   "source": [
    "statements = []\n",
    "for line in puzzle_input:\n",
    "    statements.append(\n",
    "        (\n",
    "            line.split(\"->\")[0].strip(),\n",
    "            [s.strip() for s in line.split(\"->\")[1].strip().split(\",\")],\n",
    "        )\n",
    "    )\n",
    "\n",
    "statements"
   ]
  },
  {
   "cell_type": "code",
   "execution_count": 154,
   "metadata": {},
   "outputs": [],
   "source": [
    "# Define classes for all nodes in the network:\n",
    "\n",
    "network = list\n",
    "network_graph = dict\n",
    "\n",
    "\n",
    "class Node:\n",
    "    def __init__(\n",
    "        self, name: str, outputs: list[str], node_type: str, is_on: bool = False\n",
    "    ):\n",
    "        self.name = name\n",
    "        self.outputs = outputs\n",
    "        self.node_type = node_type\n",
    "        self.is_on = is_on\n",
    "\n",
    "    def __str__(self) -> str:\n",
    "        message = f\"{self.__class__.__name__}: '{self.name}' -> {self.outputs}, type '{self.node_type}', is_on ='{self.is_on}'\"\n",
    "        return message\n",
    "\n",
    "    def sendPulse(self, pulse: str):\n",
    "        for node_name in self.outputs:\n",
    "            network_graph[node_name].recievePulse(pulse, self.name)\n",
    "\n",
    "\n",
    "\"\"\" \n",
    "Lets create child classes for Flipflops and Conjunctions.\n",
    "\"\"\"\n",
    "\n",
    "\n",
    "class FlipFlop(Node):\n",
    "    def __init__(\n",
    "        self,\n",
    "        name: str,\n",
    "        outputs: list[str],\n",
    "        node_type: str = \"%\",\n",
    "        is_on: bool = False,\n",
    "    ):\n",
    "        if node_type != \"%\":\n",
    "            raise Exception(f\"Incorrect typing for the FlipFlop node '{self.name}'\")\n",
    "\n",
    "        super().__init__(name, outputs, node_type, is_on)\n",
    "\n",
    "    def __str__(self) -> str:\n",
    "        return super().__str__()\n",
    "\n",
    "    def recievePulse(self, pulse: str, dummy_name: str):\n",
    "        \"\"\"\n",
    "        If a flip-flop module receives a high pulse, it is ignored and nothing happens.\n",
    "        However, if a flip-flop module receives a low pulse, it flips between on and off.\n",
    "\n",
    "        If it was off, it turns on and sends a high pulse.\n",
    "        If it was on, it turns off and sends a low pulse.\n",
    "        \"\"\"\n",
    "\n",
    "        if pulse == \"High\":\n",
    "            return\n",
    "\n",
    "        # Send a pulse to outputs\n",
    "        if self.is_on:\n",
    "            for node_name in self.outputs:\n",
    "                network_graph[node_name].recievePulse(pulse=\"High\", node_name=self.name)\n",
    "\n",
    "        else:\n",
    "            for node_name in self.outputs:\n",
    "                network_graph[node_name].recievePulse(pulse=\"Low\", node_name=self.name)\n",
    "\n",
    "        # Toggle the node\n",
    "        self.is_on = not self.is_on\n",
    "\n",
    "    def sendPulse(self, pulse: str):\n",
    "        return super().sendPulse(pulse)\n",
    "\n",
    "\n",
    "class Conjunction(Node):\n",
    "    def __init__(\n",
    "        self,\n",
    "        name: str,\n",
    "        outputs: list[str],\n",
    "        inputs: list[str],\n",
    "        input_memory: list[str] = None,\n",
    "        node_type: str = \"&\",\n",
    "        is_on: bool = False,\n",
    "    ):\n",
    "        if node_type != \"&\":\n",
    "            raise Exception(f\"Incorrect typing for the Conjunction node '{self.name}'\")\n",
    "\n",
    "        super().__init__(name, outputs, node_type, is_on)\n",
    "        self.inputs = inputs\n",
    "\n",
    "        if input_memory == None:\n",
    "            self.input_memory = {name: \"Low\" for name in inputs}\n",
    "\n",
    "    def __str__(self) -> str:\n",
    "        return f\"{self.__class__.__name__}: {self.inputs} -> '{self.name}' -> {self.outputs}, type '{self.node_type}', is_on ='{self.is_on}'\"\n",
    "\n",
    "    def sendPulse(self, pulse: str):\n",
    "        return super().sendPulse(pulse)\n",
    "\n",
    "    def recievePulse(self, pulse: str, node_name: str):\n",
    "        \"\"\"\n",
    "        Conjunction modules remember the type of the most recent pulse received from each of their connected input\n",
    "        modules; they initially default to remembering a low pulse for each input.\n",
    "\n",
    "        When a pulse is received, the conjunction module first updates its memory for that input.\n",
    "        Then, if it remembers high pulses for all inputs, it sends a low pulse; otherwise, it sends a high pulse.\n",
    "        \"\"\"\n",
    "\n",
    "        self.input_memory[node_name] = pulse\n",
    "\n",
    "        if all([pulse == \"High\" for pulse in self.input_memory.values()]):\n",
    "            self.sendPulse(pulse=\"Low\")\n",
    "        else:\n",
    "            self.sendPulse(pulse=\"High\")\n",
    "\n",
    "\n",
    "# class Broadcaster(Node):\n",
    "#     def __init__(\n",
    "#         self, name: str, outputs: list[str], node_type: str = \"b\", is_on: bool = False\n",
    "#     ):\n",
    "#         super().__init__(name, outputs, node_type, is_on)\n",
    "\n",
    "#     def sendPulse(self, pulse: str):\n",
    "#         return super().sendPulse(pulse)\n",
    "\n",
    "#     def __str__(self):\n",
    "#         return super().__str__()"
   ]
  },
  {
   "cell_type": "code",
   "execution_count": 155,
   "metadata": {},
   "outputs": [
    {
     "name": "stdout",
     "output_type": "stream",
     "text": [
      "FlipFlop: 'F' -> ['A'], type '%', is_on ='False'\n",
      "Conjunction: ['C'] -> 'F' -> ['A'], type '&', is_on ='False'\n",
      "Broadcaster: 'roadcaster' -> ['A', 'B', 'C'], type 'b', is_on ='False'\n"
     ]
    }
   ],
   "source": [
    "print(FlipFlop(name=\"F\", outputs=[\"A\"]))\n",
    "print(Conjunction(name=\"F\", outputs=[\"A\"], inputs=[\"C\"]))\n",
    "print(Broadcaster(name=\"roadcaster\", outputs=[\"A\", \"B\", \"C\"]))"
   ]
  },
  {
   "cell_type": "code",
   "execution_count": 130,
   "metadata": {},
   "outputs": [],
   "source": [
    "# Create the list of nodes according to the rules:\n",
    "network = []\n",
    "for statement in statements:\n",
    "    network.append(\n",
    "        Node(name=statement[0][1:], outputs=statement[1], node_type=statement[0][0])\n",
    "    )\n",
    "\n",
    "\"\"\" \n",
    "The trouble is that Conjunction nodes need to have a list of their inputs as well as outputs\n",
    "\"\"\"\n",
    "\n",
    "# Transform the nodes into their respective types: also create the network_graph\n",
    "network_graph = {}\n",
    "for node in network:\n",
    "    if node.node_type == \"%\":\n",
    "        network_graph[node.name] = FlipFlop(node.name, node.outputs)\n",
    "\n",
    "    if node.node_type == \"&\":\n",
    "        # Find all nodes that point to the Conjuntion\n",
    "        inputs = []\n",
    "        for n in network:\n",
    "            if node.name in n.outputs:\n",
    "                inputs.append(n.name)\n",
    "\n",
    "        network_graph[node.name] = Conjunction(node.name, node.outputs, inputs)\n",
    "\n",
    "    if node.node_type == \"b\":\n",
    "        network_graph[node.name] = Broadcaster(node.name, node.outputs)"
   ]
  },
  {
   "cell_type": "code",
   "execution_count": 131,
   "metadata": {},
   "outputs": [
    {
     "data": {
      "text/plain": [
       "{'roadcaster': <__main__.Broadcaster at 0x1063bb280>,\n",
       " 'a': <__main__.FlipFlop at 0x1063bbca0>,\n",
       " 'b': <__main__.FlipFlop at 0x1063bbbb0>,\n",
       " 'c': <__main__.FlipFlop at 0x1063bbd90>,\n",
       " 'inv': <__main__.Conjunction at 0x1063bbc40>}"
      ]
     },
     "execution_count": 131,
     "metadata": {},
     "output_type": "execute_result"
    }
   ],
   "source": [
    "network_graph"
   ]
  },
  {
   "cell_type": "code",
   "execution_count": 136,
   "metadata": {},
   "outputs": [],
   "source": [
    "network_graph[\"roadcaster\"].sendPulse(\"High\")"
   ]
  },
  {
   "cell_type": "code",
   "execution_count": 137,
   "metadata": {},
   "outputs": [
    {
     "name": "stdout",
     "output_type": "stream",
     "text": [
      "Broadcaster: 'roadcaster' -> ['a', 'b', 'c'], type 'b', is_on ='False'\n",
      "FlipFlop: 'a' -> ['b'], type '%', is_on ='False'\n",
      "FlipFlop: 'b' -> ['c'], type '%', is_on ='False'\n",
      "FlipFlop: 'c' -> ['inv'], type '%', is_on ='False'\n",
      "Conjunction: ['c'] -> 'inv' -> ['a'], type '&', is_on ='False'\n"
     ]
    },
    {
     "data": {
      "text/plain": [
       "[None, None, None, None, None]"
      ]
     },
     "execution_count": 137,
     "metadata": {},
     "output_type": "execute_result"
    }
   ],
   "source": [
    "[print(n) for n in network_graph.values()]"
   ]
  },
  {
   "cell_type": "code",
   "execution_count": 200,
   "metadata": {},
   "outputs": [
    {
     "name": "stdout",
     "output_type": "stream",
     "text": [
      "Broadcaster: 'roadcaster' -> ['a'], type 'b', is_on ='False'\n",
      "FlipFlop: 'a' -> ['inv', 'con'], type '%', is_on ='False'\n",
      "Conjunction: [] -> 'inv' -> ['b'], type '&', is_on ='False'\n",
      "FlipFlop: 'b' -> ['con'], type '%', is_on ='False'\n",
      "Conjunction: [] -> 'con' -> ['output'], type '&', is_on ='False'\n"
     ]
    },
    {
     "data": {
      "text/plain": [
       "[None, None, None, None, None]"
      ]
     },
     "execution_count": 200,
     "metadata": {},
     "output_type": "execute_result"
    }
   ],
   "source": [
    "# Try the same with the second test\n",
    "\n",
    "puzzle_input = open(\"./puzzle_inputs/day20test2.txt\").read().split(\"\\n\")\n",
    "\n",
    "statements = []\n",
    "for line in puzzle_input:\n",
    "    statements.append(\n",
    "        (\n",
    "            line.split(\"->\")[0].strip(),\n",
    "            [s.strip() for s in line.split(\"->\")[1].strip().split(\",\")],\n",
    "        )\n",
    "    )\n",
    "\n",
    "# Create the list of nodes according to the rules:\n",
    "network = []\n",
    "for statement in statements:\n",
    "    network.append(\n",
    "        Node(name=statement[0][1:], outputs=statement[1], node_type=statement[0][0])\n",
    "    )\n",
    "\n",
    "\"\"\" \n",
    "The trouble is that Conjunction nodes need to have a list of their inputs as well as outputs\n",
    "\"\"\"\n",
    "[print(n) for n in network]"
   ]
  },
  {
   "cell_type": "code",
   "execution_count": 201,
   "metadata": {},
   "outputs": [
    {
     "name": "stdout",
     "output_type": "stream",
     "text": [
      "roadcaster : Broadcaster: 'roadcaster' -> ['a'], type 'b', is_on ='False'\n",
      "a : FlipFlop: 'a' -> ['inv', 'con'], type '%', is_on ='False'\n",
      "inv : Conjunction: ['a'] -> 'inv' -> ['b'], type '&', is_on ='False'\n",
      "b : FlipFlop: 'b' -> ['con'], type '%', is_on ='False'\n",
      "con : Conjunction: ['a', 'b'] -> 'con' -> ['output'], type '&', is_on ='False'\n"
     ]
    },
    {
     "data": {
      "text/plain": [
       "[None, None, None, None, None]"
      ]
     },
     "execution_count": 201,
     "metadata": {},
     "output_type": "execute_result"
    }
   ],
   "source": [
    "# Transform the nodes into their respective types: also create the network_graph\n",
    "network_graph = {}\n",
    "for node in network:\n",
    "    if node.node_type == \"&\":\n",
    "        # Find all nodes that point to the Conjuntion\n",
    "        inputs = []\n",
    "        for n in network:\n",
    "            if node.name in n.outputs:\n",
    "                inputs.append(n.name)\n",
    "\n",
    "        network_graph[node.name] = Node(\n",
    "            name=node.name,\n",
    "            node_type=node.node_type,\n",
    "            outputs=node.outputs,\n",
    "            inputs=inputs,\n",
    "        )\n",
    "\n",
    "    else:\n",
    "        network_graph[node.name] = node\n",
    "\n",
    "[print(f\"{name} : {node}\") for name, node in network_graph.items()]"
   ]
  },
  {
   "cell_type": "code",
   "execution_count": 202,
   "metadata": {},
   "outputs": [
    {
     "ename": "KeyError",
     "evalue": "'output'",
     "output_type": "error",
     "traceback": [
      "\u001b[0;31m---------------------------------------------------------------------------\u001b[0m",
      "\u001b[0;31mKeyError\u001b[0m                                  Traceback (most recent call last)",
      "\u001b[1;32m/Users/andresterrer/Desktop/VS_Code/AdventOfCode2023/AdventOfCode2023/AdventofCode5.ipynb Cell 12\u001b[0m line \u001b[0;36m1\n\u001b[0;32m----> <a href='vscode-notebook-cell:/Users/andresterrer/Desktop/VS_Code/AdventOfCode2023/AdventOfCode2023/AdventofCode5.ipynb#X22sZmlsZQ%3D%3D?line=0'>1</a>\u001b[0m network_graph[\u001b[39m\"\u001b[39;49m\u001b[39mroadcaster\u001b[39;49m\u001b[39m\"\u001b[39;49m]\u001b[39m.\u001b[39;49msendPulse(\u001b[39m\"\u001b[39;49m\u001b[39mLow\u001b[39;49m\u001b[39m\"\u001b[39;49m)\n\u001b[1;32m      <a href='vscode-notebook-cell:/Users/andresterrer/Desktop/VS_Code/AdventOfCode2023/AdventOfCode2023/AdventofCode5.ipynb#X22sZmlsZQ%3D%3D?line=1'>2</a>\u001b[0m [\u001b[39mprint\u001b[39m(n) \u001b[39mfor\u001b[39;00m n \u001b[39min\u001b[39;00m network_graph\u001b[39m.\u001b[39mvalues()]\n",
      "\u001b[1;32m/Users/andresterrer/Desktop/VS_Code/AdventOfCode2023/AdventOfCode2023/AdventofCode5.ipynb Cell 12\u001b[0m line \u001b[0;36m3\n\u001b[1;32m     <a href='vscode-notebook-cell:/Users/andresterrer/Desktop/VS_Code/AdventOfCode2023/AdventOfCode2023/AdventofCode5.ipynb#X22sZmlsZQ%3D%3D?line=29'>30</a>\u001b[0m \u001b[39mdef\u001b[39;00m \u001b[39msendPulse\u001b[39m(\u001b[39mself\u001b[39m, pulse: \u001b[39mstr\u001b[39m):\n\u001b[1;32m     <a href='vscode-notebook-cell:/Users/andresterrer/Desktop/VS_Code/AdventOfCode2023/AdventOfCode2023/AdventofCode5.ipynb#X22sZmlsZQ%3D%3D?line=30'>31</a>\u001b[0m     \u001b[39mfor\u001b[39;00m node_name \u001b[39min\u001b[39;00m \u001b[39mself\u001b[39m\u001b[39m.\u001b[39moutputs:\n\u001b[0;32m---> <a href='vscode-notebook-cell:/Users/andresterrer/Desktop/VS_Code/AdventOfCode2023/AdventOfCode2023/AdventofCode5.ipynb#X22sZmlsZQ%3D%3D?line=31'>32</a>\u001b[0m         network_graph[node_name]\u001b[39m.\u001b[39;49mrecievePulse(pulse, \u001b[39mself\u001b[39;49m\u001b[39m.\u001b[39;49mname)\n",
      "\u001b[1;32m/Users/andresterrer/Desktop/VS_Code/AdventOfCode2023/AdventOfCode2023/AdventofCode5.ipynb Cell 12\u001b[0m line \u001b[0;36m5\n\u001b[1;32m     <a href='vscode-notebook-cell:/Users/andresterrer/Desktop/VS_Code/AdventOfCode2023/AdventOfCode2023/AdventofCode5.ipynb#X22sZmlsZQ%3D%3D?line=52'>53</a>\u001b[0m \u001b[39melse\u001b[39;00m:\n\u001b[1;32m     <a href='vscode-notebook-cell:/Users/andresterrer/Desktop/VS_Code/AdventOfCode2023/AdventOfCode2023/AdventofCode5.ipynb#X22sZmlsZQ%3D%3D?line=53'>54</a>\u001b[0m     \u001b[39mfor\u001b[39;00m node_name \u001b[39min\u001b[39;00m \u001b[39mself\u001b[39m\u001b[39m.\u001b[39moutputs:\n\u001b[0;32m---> <a href='vscode-notebook-cell:/Users/andresterrer/Desktop/VS_Code/AdventOfCode2023/AdventOfCode2023/AdventofCode5.ipynb#X22sZmlsZQ%3D%3D?line=54'>55</a>\u001b[0m         network_graph[node_name]\u001b[39m.\u001b[39;49mrecievePulse(\n\u001b[1;32m     <a href='vscode-notebook-cell:/Users/andresterrer/Desktop/VS_Code/AdventOfCode2023/AdventOfCode2023/AdventofCode5.ipynb#X22sZmlsZQ%3D%3D?line=55'>56</a>\u001b[0m             pulse\u001b[39m=\u001b[39;49m\u001b[39m\"\u001b[39;49m\u001b[39mLow\u001b[39;49m\u001b[39m\"\u001b[39;49m, emitter\u001b[39m=\u001b[39;49m\u001b[39mself\u001b[39;49m\u001b[39m.\u001b[39;49mname\n\u001b[1;32m     <a href='vscode-notebook-cell:/Users/andresterrer/Desktop/VS_Code/AdventOfCode2023/AdventOfCode2023/AdventofCode5.ipynb#X22sZmlsZQ%3D%3D?line=56'>57</a>\u001b[0m         )\n\u001b[1;32m     <a href='vscode-notebook-cell:/Users/andresterrer/Desktop/VS_Code/AdventOfCode2023/AdventOfCode2023/AdventofCode5.ipynb#X22sZmlsZQ%3D%3D?line=58'>59</a>\u001b[0m \u001b[39m# Toggle the node\u001b[39;00m\n\u001b[1;32m     <a href='vscode-notebook-cell:/Users/andresterrer/Desktop/VS_Code/AdventOfCode2023/AdventOfCode2023/AdventofCode5.ipynb#X22sZmlsZQ%3D%3D?line=59'>60</a>\u001b[0m \u001b[39mself\u001b[39m\u001b[39m.\u001b[39mis_on \u001b[39m=\u001b[39m \u001b[39mnot\u001b[39;00m \u001b[39mself\u001b[39m\u001b[39m.\u001b[39mis_on\n",
      "\u001b[1;32m/Users/andresterrer/Desktop/VS_Code/AdventOfCode2023/AdventOfCode2023/AdventofCode5.ipynb Cell 12\u001b[0m line \u001b[0;36m7\n\u001b[1;32m     <a href='vscode-notebook-cell:/Users/andresterrer/Desktop/VS_Code/AdventOfCode2023/AdventOfCode2023/AdventofCode5.ipynb#X22sZmlsZQ%3D%3D?line=73'>74</a>\u001b[0m         \u001b[39mself\u001b[39m\u001b[39m.\u001b[39msendPulse(pulse\u001b[39m=\u001b[39m\u001b[39m\"\u001b[39m\u001b[39mLow\u001b[39m\u001b[39m\"\u001b[39m)\n\u001b[1;32m     <a href='vscode-notebook-cell:/Users/andresterrer/Desktop/VS_Code/AdventOfCode2023/AdventOfCode2023/AdventofCode5.ipynb#X22sZmlsZQ%3D%3D?line=74'>75</a>\u001b[0m     \u001b[39melse\u001b[39;00m:\n\u001b[0;32m---> <a href='vscode-notebook-cell:/Users/andresterrer/Desktop/VS_Code/AdventOfCode2023/AdventOfCode2023/AdventofCode5.ipynb#X22sZmlsZQ%3D%3D?line=75'>76</a>\u001b[0m         \u001b[39mself\u001b[39;49m\u001b[39m.\u001b[39;49msendPulse(pulse\u001b[39m=\u001b[39;49m\u001b[39m\"\u001b[39;49m\u001b[39mHigh\u001b[39;49m\u001b[39m\"\u001b[39;49m)\n\u001b[1;32m     <a href='vscode-notebook-cell:/Users/andresterrer/Desktop/VS_Code/AdventOfCode2023/AdventOfCode2023/AdventofCode5.ipynb#X22sZmlsZQ%3D%3D?line=77'>78</a>\u001b[0m \u001b[39mreturn\u001b[39;00m\n",
      "\u001b[1;32m/Users/andresterrer/Desktop/VS_Code/AdventOfCode2023/AdventOfCode2023/AdventofCode5.ipynb Cell 12\u001b[0m line \u001b[0;36m3\n\u001b[1;32m     <a href='vscode-notebook-cell:/Users/andresterrer/Desktop/VS_Code/AdventOfCode2023/AdventOfCode2023/AdventofCode5.ipynb#X22sZmlsZQ%3D%3D?line=29'>30</a>\u001b[0m \u001b[39mdef\u001b[39;00m \u001b[39msendPulse\u001b[39m(\u001b[39mself\u001b[39m, pulse: \u001b[39mstr\u001b[39m):\n\u001b[1;32m     <a href='vscode-notebook-cell:/Users/andresterrer/Desktop/VS_Code/AdventOfCode2023/AdventOfCode2023/AdventofCode5.ipynb#X22sZmlsZQ%3D%3D?line=30'>31</a>\u001b[0m     \u001b[39mfor\u001b[39;00m node_name \u001b[39min\u001b[39;00m \u001b[39mself\u001b[39m\u001b[39m.\u001b[39moutputs:\n\u001b[0;32m---> <a href='vscode-notebook-cell:/Users/andresterrer/Desktop/VS_Code/AdventOfCode2023/AdventOfCode2023/AdventofCode5.ipynb#X22sZmlsZQ%3D%3D?line=31'>32</a>\u001b[0m         network_graph[node_name]\u001b[39m.\u001b[39mrecievePulse(pulse, \u001b[39mself\u001b[39m\u001b[39m.\u001b[39mname)\n",
      "\u001b[0;31mKeyError\u001b[0m: 'output'"
     ]
    }
   ],
   "source": [
    "network_graph[\"roadcaster\"].sendPulse(\"Low\")\n",
    "[print(n) for n in network_graph.values()]"
   ]
  },
  {
   "cell_type": "code",
   "execution_count": null,
   "metadata": {},
   "outputs": [],
   "source": [
    "# TODO: This is a mess DONE !\n",
    "# I need to unify the recieve pulse function to handle the Conjunction and FlipFlop cases\n",
    "\n",
    "\"\"\" \n",
    "For that:\n",
    "    All nodes need to have a input list\n",
    "    The typing will only matter in the recievePulse method, there I can nestle the logic\n",
    "for both cases + broadcaster\n",
    "\n",
    "    re-do the class\n",
    "\n",
    "\"\"\""
   ]
  },
  {
   "cell_type": "code",
   "execution_count": 277,
   "metadata": {},
   "outputs": [],
   "source": [
    "# Re-implementation:\n",
    "pulses_sent = {\"High\": 0, \"Low\": 0}\n",
    "\n",
    "network_graph = {}\n",
    "\n",
    "\n",
    "class Node:\n",
    "    def __init__(\n",
    "        self,\n",
    "        name: str,\n",
    "        outputs: list[str],\n",
    "        node_type: str,\n",
    "        inputs: list[str] = [],\n",
    "        is_on: bool = False,\n",
    "    ):\n",
    "        self.name = name\n",
    "        self.outputs = outputs\n",
    "        self.inputs = inputs\n",
    "        self.node_type = node_type\n",
    "        self.is_on = is_on\n",
    "\n",
    "        self.input_memory = {name: \"Low\" for name in inputs}\n",
    "\n",
    "    def __str__(self) -> str:\n",
    "        key_name = {\n",
    "            \"%\": \"FlipFlop\",\n",
    "            \"&\": \"Conjunction\",\n",
    "            \"b\": \"Broadcaster\",\n",
    "            \"dummy\": \"dummy\",\n",
    "        }\n",
    "\n",
    "        if self.node_type == \"&\":\n",
    "            return f\"{key_name[self.node_type]}: {self.inputs} -> '{self.name}' -> {self.outputs}, type '{self.node_type}', is_on ='{self.is_on}'\"\n",
    "\n",
    "        else:\n",
    "            return f\"{key_name[self.node_type]}: '{self.name}' -> {self.outputs}, type '{self.node_type}', is_on ='{self.is_on}'\"\n",
    "\n",
    "    def sendPulse(self, pulse: str):\n",
    "        for node_name in self.outputs:\n",
    "            pulses_sent[pulse] += 1\n",
    "            network_graph[node_name].recievePulse(pulse, self.name)\n",
    "\n",
    "    def recievePulse(self, pulse: str, emitter: str):\n",
    "\n",
    "        if self.node_type == \"%\":\n",
    "            \"\"\"\n",
    "            If a flip-flop module receives a high pulse, it is ignored and nothing happens.\n",
    "            However, if a flip-flop module receives a low pulse, it flips between on and off.\n",
    "\n",
    "            If it was off, it turns on and sends a high pulse.\n",
    "            If it was on, it turns off and sends a low pulse.\n",
    "            \"\"\"\n",
    "            if pulse == \"High\":\n",
    "                return\n",
    "            # Send a pulse to outputs\n",
    "            if self.is_on:\n",
    "                for node_name in self.outputs:\n",
    "                    network_graph[node_name].recievePulse(\n",
    "                        pulse=\"Low\", emitter=self.name\n",
    "                    )\n",
    "\n",
    "            else:\n",
    "                for node_name in self.outputs:\n",
    "                    network_graph[node_name].recievePulse(\n",
    "                        pulse=\"High\", emitter=self.name\n",
    "                    )\n",
    "\n",
    "            # Toggle the node\n",
    "            self.is_on = not self.is_on\n",
    "\n",
    "        if self.node_type == \"&\":\n",
    "            \"\"\"\n",
    "            Conjunction modules remember the type of the most recent pulse received from each of their connected input\n",
    "            modules; they initially default to remembering a low pulse for each input.\n",
    "\n",
    "            When a pulse is received, the conjunction module first updates its memory for that input.\n",
    "            Then, if it remembers high pulses for all inputs, it sends a low pulse; otherwise, it sends a high pulse.\n",
    "            \"\"\"\n",
    "\n",
    "            self.input_memory[emitter] = pulse\n",
    "\n",
    "            if all([p == \"High\" for p in self.input_memory.values()]):\n",
    "                self.sendPulse(pulse=\"Low\")\n",
    "            else:\n",
    "                self.sendPulse(pulse=\"High\")\n",
    "\n",
    "        return"
   ]
  },
  {
   "cell_type": "code",
   "execution_count": 278,
   "metadata": {},
   "outputs": [
    {
     "name": "stdout",
     "output_type": "stream",
     "text": [
      "roadcaster : Broadcaster: 'roadcaster' -> ['a', 'b', 'c'], type 'b', is_on ='False'\n",
      "a : FlipFlop: 'a' -> ['b'], type '%', is_on ='False'\n",
      "b : FlipFlop: 'b' -> ['c'], type '%', is_on ='False'\n",
      "c : FlipFlop: 'c' -> ['inv'], type '%', is_on ='False'\n",
      "inv : Conjunction: ['c'] -> 'inv' -> ['a'], type '&', is_on ='False'\n",
      "{'High': 0, 'Low': 0}\n"
     ]
    }
   ],
   "source": [
    "# Try the same with the second test\n",
    "\n",
    "puzzle_input = open(\"./puzzle_inputs/day20test1.txt\").read().split(\"\\n\")\n",
    "pulses_sent = {\"High\": 0, \"Low\": 0}\n",
    "\n",
    "statements = []\n",
    "for line in puzzle_input:\n",
    "    statements.append(\n",
    "        (\n",
    "            line.split(\"->\")[0].strip(),\n",
    "            [s.strip() for s in line.split(\"->\")[1].strip().split(\",\")],\n",
    "        )\n",
    "    )\n",
    "\n",
    "# Create the list of nodes according to the rules:\n",
    "network = []\n",
    "for statement in statements:\n",
    "    network.append(\n",
    "        Node(name=statement[0][1:], outputs=statement[1], node_type=statement[0][0])\n",
    "    )\n",
    "\n",
    "\"\"\" \n",
    "The trouble is that Conjunction nodes need to have a list of their inputs as well as outputs\n",
    "\"\"\"\n",
    "# [print(n) for n in network]\n",
    "\n",
    "# Transform the nodes into their respective types: also create the network_graph\n",
    "network_graph = {}\n",
    "for node in network:\n",
    "    if node.node_type == \"&\":\n",
    "        # Find all nodes that point to the Conjuntion\n",
    "        inputs = []\n",
    "        for n in network:\n",
    "            if node.name in n.outputs:\n",
    "                inputs.append(n.name)\n",
    "\n",
    "        network_graph[node.name] = Node(\n",
    "            name=node.name,\n",
    "            node_type=node.node_type,\n",
    "            outputs=node.outputs,\n",
    "            inputs=inputs,\n",
    "        )\n",
    "\n",
    "    else:\n",
    "        network_graph[node.name] = node\n",
    "\n",
    "# Add extra nodes for outputs when generating the graph. Fill them with dummy nodes:\n",
    "dummy_nodes = []\n",
    "for name, node in network_graph.items():\n",
    "    for output in node.outputs:\n",
    "        if output not in network_graph.keys():\n",
    "            dummy_nodes.append(output)\n",
    "\n",
    "for dn in dummy_nodes:\n",
    "    network_graph[output] = Node(name=output, outputs=[], node_type=\"dummy\")\n",
    "\n",
    "\n",
    "[print(f\"{name} : {node}\") for name, node in network_graph.items()]\n",
    "print(pulses_sent)"
   ]
  },
  {
   "cell_type": "code",
   "execution_count": 279,
   "metadata": {},
   "outputs": [
    {
     "ename": "RecursionError",
     "evalue": "maximum recursion depth exceeded in comparison",
     "output_type": "error",
     "traceback": [
      "\u001b[0;31m---------------------------------------------------------------------------\u001b[0m",
      "\u001b[0;31mRecursionError\u001b[0m                            Traceback (most recent call last)",
      "\u001b[1;32m/Users/andresterrer/Desktop/VS_Code/AdventOfCode2023/AdventOfCode2023/AdventofCode5.ipynb Cell 16\u001b[0m line \u001b[0;36m3\n\u001b[1;32m      <a href='vscode-notebook-cell:/Users/andresterrer/Desktop/VS_Code/AdventOfCode2023/AdventOfCode2023/AdventofCode5.ipynb#X30sZmlsZQ%3D%3D?line=0'>1</a>\u001b[0m \u001b[39m# Send a pulse and see its effect\u001b[39;00m\n\u001b[1;32m      <a href='vscode-notebook-cell:/Users/andresterrer/Desktop/VS_Code/AdventOfCode2023/AdventOfCode2023/AdventofCode5.ipynb#X30sZmlsZQ%3D%3D?line=1'>2</a>\u001b[0m \u001b[39mfor\u001b[39;00m __ \u001b[39min\u001b[39;00m \u001b[39mrange\u001b[39m(\u001b[39m1\u001b[39m):\n\u001b[0;32m----> <a href='vscode-notebook-cell:/Users/andresterrer/Desktop/VS_Code/AdventOfCode2023/AdventOfCode2023/AdventofCode5.ipynb#X30sZmlsZQ%3D%3D?line=2'>3</a>\u001b[0m     network_graph[\u001b[39m\"\u001b[39;49m\u001b[39mroadcaster\u001b[39;49m\u001b[39m\"\u001b[39;49m]\u001b[39m.\u001b[39;49msendPulse(\u001b[39m\"\u001b[39;49m\u001b[39mLow\u001b[39;49m\u001b[39m\"\u001b[39;49m)\n\u001b[1;32m      <a href='vscode-notebook-cell:/Users/andresterrer/Desktop/VS_Code/AdventOfCode2023/AdventOfCode2023/AdventofCode5.ipynb#X30sZmlsZQ%3D%3D?line=3'>4</a>\u001b[0m     \u001b[39m# network_graph[\"roadcaster\"].sendPulse(\"High\")\u001b[39;00m\n\u001b[1;32m      <a href='vscode-notebook-cell:/Users/andresterrer/Desktop/VS_Code/AdventOfCode2023/AdventOfCode2023/AdventofCode5.ipynb#X30sZmlsZQ%3D%3D?line=4'>5</a>\u001b[0m [\u001b[39mprint\u001b[39m(n) \u001b[39mfor\u001b[39;00m n \u001b[39min\u001b[39;00m network_graph\u001b[39m.\u001b[39mvalues()]\n",
      "\u001b[1;32m/Users/andresterrer/Desktop/VS_Code/AdventOfCode2023/AdventOfCode2023/AdventofCode5.ipynb Cell 16\u001b[0m line \u001b[0;36m4\n\u001b[1;32m     <a href='vscode-notebook-cell:/Users/andresterrer/Desktop/VS_Code/AdventOfCode2023/AdventOfCode2023/AdventofCode5.ipynb#X30sZmlsZQ%3D%3D?line=38'>39</a>\u001b[0m \u001b[39mfor\u001b[39;00m node_name \u001b[39min\u001b[39;00m \u001b[39mself\u001b[39m\u001b[39m.\u001b[39moutputs:\n\u001b[1;32m     <a href='vscode-notebook-cell:/Users/andresterrer/Desktop/VS_Code/AdventOfCode2023/AdventOfCode2023/AdventofCode5.ipynb#X30sZmlsZQ%3D%3D?line=39'>40</a>\u001b[0m     pulses_sent[pulse] \u001b[39m+\u001b[39m\u001b[39m=\u001b[39m \u001b[39m1\u001b[39m\n\u001b[0;32m---> <a href='vscode-notebook-cell:/Users/andresterrer/Desktop/VS_Code/AdventOfCode2023/AdventOfCode2023/AdventofCode5.ipynb#X30sZmlsZQ%3D%3D?line=40'>41</a>\u001b[0m     network_graph[node_name]\u001b[39m.\u001b[39;49mrecievePulse(pulse, \u001b[39mself\u001b[39;49m\u001b[39m.\u001b[39;49mname)\n",
      "\u001b[1;32m/Users/andresterrer/Desktop/VS_Code/AdventOfCode2023/AdventOfCode2023/AdventofCode5.ipynb Cell 16\u001b[0m line \u001b[0;36m6\n\u001b[1;32m     <a href='vscode-notebook-cell:/Users/andresterrer/Desktop/VS_Code/AdventOfCode2023/AdventOfCode2023/AdventofCode5.ipynb#X30sZmlsZQ%3D%3D?line=61'>62</a>\u001b[0m \u001b[39melse\u001b[39;00m:\n\u001b[1;32m     <a href='vscode-notebook-cell:/Users/andresterrer/Desktop/VS_Code/AdventOfCode2023/AdventOfCode2023/AdventofCode5.ipynb#X30sZmlsZQ%3D%3D?line=62'>63</a>\u001b[0m     \u001b[39mfor\u001b[39;00m node_name \u001b[39min\u001b[39;00m \u001b[39mself\u001b[39m\u001b[39m.\u001b[39moutputs:\n\u001b[0;32m---> <a href='vscode-notebook-cell:/Users/andresterrer/Desktop/VS_Code/AdventOfCode2023/AdventOfCode2023/AdventofCode5.ipynb#X30sZmlsZQ%3D%3D?line=63'>64</a>\u001b[0m         network_graph[node_name]\u001b[39m.\u001b[39;49mrecievePulse(\n\u001b[1;32m     <a href='vscode-notebook-cell:/Users/andresterrer/Desktop/VS_Code/AdventOfCode2023/AdventOfCode2023/AdventofCode5.ipynb#X30sZmlsZQ%3D%3D?line=64'>65</a>\u001b[0m             pulse\u001b[39m=\u001b[39;49m\u001b[39m\"\u001b[39;49m\u001b[39mHigh\u001b[39;49m\u001b[39m\"\u001b[39;49m, emitter\u001b[39m=\u001b[39;49m\u001b[39mself\u001b[39;49m\u001b[39m.\u001b[39;49mname\n\u001b[1;32m     <a href='vscode-notebook-cell:/Users/andresterrer/Desktop/VS_Code/AdventOfCode2023/AdventOfCode2023/AdventofCode5.ipynb#X30sZmlsZQ%3D%3D?line=65'>66</a>\u001b[0m         )\n\u001b[1;32m     <a href='vscode-notebook-cell:/Users/andresterrer/Desktop/VS_Code/AdventOfCode2023/AdventOfCode2023/AdventofCode5.ipynb#X30sZmlsZQ%3D%3D?line=67'>68</a>\u001b[0m \u001b[39m# Toggle the node\u001b[39;00m\n\u001b[1;32m     <a href='vscode-notebook-cell:/Users/andresterrer/Desktop/VS_Code/AdventOfCode2023/AdventOfCode2023/AdventofCode5.ipynb#X30sZmlsZQ%3D%3D?line=68'>69</a>\u001b[0m \u001b[39mself\u001b[39m\u001b[39m.\u001b[39mis_on \u001b[39m=\u001b[39m \u001b[39mnot\u001b[39;00m \u001b[39mself\u001b[39m\u001b[39m.\u001b[39mis_on\n",
      "\u001b[1;32m/Users/andresterrer/Desktop/VS_Code/AdventOfCode2023/AdventOfCode2023/AdventofCode5.ipynb Cell 16\u001b[0m line \u001b[0;36m8\n\u001b[1;32m     <a href='vscode-notebook-cell:/Users/andresterrer/Desktop/VS_Code/AdventOfCode2023/AdventOfCode2023/AdventofCode5.ipynb#X30sZmlsZQ%3D%3D?line=79'>80</a>\u001b[0m \u001b[39mself\u001b[39m\u001b[39m.\u001b[39minput_memory[emitter] \u001b[39m=\u001b[39m pulse\n\u001b[1;32m     <a href='vscode-notebook-cell:/Users/andresterrer/Desktop/VS_Code/AdventOfCode2023/AdventOfCode2023/AdventofCode5.ipynb#X30sZmlsZQ%3D%3D?line=81'>82</a>\u001b[0m \u001b[39mif\u001b[39;00m \u001b[39mall\u001b[39m([p \u001b[39m==\u001b[39m \u001b[39m\"\u001b[39m\u001b[39mHigh\u001b[39m\u001b[39m\"\u001b[39m \u001b[39mfor\u001b[39;00m p \u001b[39min\u001b[39;00m \u001b[39mself\u001b[39m\u001b[39m.\u001b[39minput_memory\u001b[39m.\u001b[39mvalues()]):\n\u001b[0;32m---> <a href='vscode-notebook-cell:/Users/andresterrer/Desktop/VS_Code/AdventOfCode2023/AdventOfCode2023/AdventofCode5.ipynb#X30sZmlsZQ%3D%3D?line=82'>83</a>\u001b[0m     \u001b[39mself\u001b[39;49m\u001b[39m.\u001b[39;49msendPulse(pulse\u001b[39m=\u001b[39;49m\u001b[39m\"\u001b[39;49m\u001b[39mLow\u001b[39;49m\u001b[39m\"\u001b[39;49m)\n\u001b[1;32m     <a href='vscode-notebook-cell:/Users/andresterrer/Desktop/VS_Code/AdventOfCode2023/AdventOfCode2023/AdventofCode5.ipynb#X30sZmlsZQ%3D%3D?line=83'>84</a>\u001b[0m \u001b[39melse\u001b[39;00m:\n\u001b[1;32m     <a href='vscode-notebook-cell:/Users/andresterrer/Desktop/VS_Code/AdventOfCode2023/AdventOfCode2023/AdventofCode5.ipynb#X30sZmlsZQ%3D%3D?line=84'>85</a>\u001b[0m     \u001b[39mself\u001b[39m\u001b[39m.\u001b[39msendPulse(pulse\u001b[39m=\u001b[39m\u001b[39m\"\u001b[39m\u001b[39mHigh\u001b[39m\u001b[39m\"\u001b[39m)\n",
      "\u001b[1;32m/Users/andresterrer/Desktop/VS_Code/AdventOfCode2023/AdventOfCode2023/AdventofCode5.ipynb Cell 16\u001b[0m line \u001b[0;36m4\n\u001b[1;32m     <a href='vscode-notebook-cell:/Users/andresterrer/Desktop/VS_Code/AdventOfCode2023/AdventOfCode2023/AdventofCode5.ipynb#X30sZmlsZQ%3D%3D?line=38'>39</a>\u001b[0m \u001b[39mfor\u001b[39;00m node_name \u001b[39min\u001b[39;00m \u001b[39mself\u001b[39m\u001b[39m.\u001b[39moutputs:\n\u001b[1;32m     <a href='vscode-notebook-cell:/Users/andresterrer/Desktop/VS_Code/AdventOfCode2023/AdventOfCode2023/AdventofCode5.ipynb#X30sZmlsZQ%3D%3D?line=39'>40</a>\u001b[0m     pulses_sent[pulse] \u001b[39m+\u001b[39m\u001b[39m=\u001b[39m \u001b[39m1\u001b[39m\n\u001b[0;32m---> <a href='vscode-notebook-cell:/Users/andresterrer/Desktop/VS_Code/AdventOfCode2023/AdventOfCode2023/AdventofCode5.ipynb#X30sZmlsZQ%3D%3D?line=40'>41</a>\u001b[0m     network_graph[node_name]\u001b[39m.\u001b[39;49mrecievePulse(pulse, \u001b[39mself\u001b[39;49m\u001b[39m.\u001b[39;49mname)\n",
      "\u001b[1;32m/Users/andresterrer/Desktop/VS_Code/AdventOfCode2023/AdventOfCode2023/AdventofCode5.ipynb Cell 16\u001b[0m line \u001b[0;36m5\n\u001b[1;32m     <a href='vscode-notebook-cell:/Users/andresterrer/Desktop/VS_Code/AdventOfCode2023/AdventOfCode2023/AdventofCode5.ipynb#X30sZmlsZQ%3D%3D?line=55'>56</a>\u001b[0m \u001b[39mif\u001b[39;00m \u001b[39mself\u001b[39m\u001b[39m.\u001b[39mis_on:\n\u001b[1;32m     <a href='vscode-notebook-cell:/Users/andresterrer/Desktop/VS_Code/AdventOfCode2023/AdventOfCode2023/AdventofCode5.ipynb#X30sZmlsZQ%3D%3D?line=56'>57</a>\u001b[0m     \u001b[39mfor\u001b[39;00m node_name \u001b[39min\u001b[39;00m \u001b[39mself\u001b[39m\u001b[39m.\u001b[39moutputs:\n\u001b[0;32m---> <a href='vscode-notebook-cell:/Users/andresterrer/Desktop/VS_Code/AdventOfCode2023/AdventOfCode2023/AdventofCode5.ipynb#X30sZmlsZQ%3D%3D?line=57'>58</a>\u001b[0m         network_graph[node_name]\u001b[39m.\u001b[39;49mrecievePulse(\n\u001b[1;32m     <a href='vscode-notebook-cell:/Users/andresterrer/Desktop/VS_Code/AdventOfCode2023/AdventOfCode2023/AdventofCode5.ipynb#X30sZmlsZQ%3D%3D?line=58'>59</a>\u001b[0m             pulse\u001b[39m=\u001b[39;49m\u001b[39m\"\u001b[39;49m\u001b[39mLow\u001b[39;49m\u001b[39m\"\u001b[39;49m, emitter\u001b[39m=\u001b[39;49m\u001b[39mself\u001b[39;49m\u001b[39m.\u001b[39;49mname\n\u001b[1;32m     <a href='vscode-notebook-cell:/Users/andresterrer/Desktop/VS_Code/AdventOfCode2023/AdventOfCode2023/AdventofCode5.ipynb#X30sZmlsZQ%3D%3D?line=59'>60</a>\u001b[0m         )\n\u001b[1;32m     <a href='vscode-notebook-cell:/Users/andresterrer/Desktop/VS_Code/AdventOfCode2023/AdventOfCode2023/AdventofCode5.ipynb#X30sZmlsZQ%3D%3D?line=61'>62</a>\u001b[0m \u001b[39melse\u001b[39;00m:\n\u001b[1;32m     <a href='vscode-notebook-cell:/Users/andresterrer/Desktop/VS_Code/AdventOfCode2023/AdventOfCode2023/AdventofCode5.ipynb#X30sZmlsZQ%3D%3D?line=62'>63</a>\u001b[0m     \u001b[39mfor\u001b[39;00m node_name \u001b[39min\u001b[39;00m \u001b[39mself\u001b[39m\u001b[39m.\u001b[39moutputs:\n",
      "\u001b[1;32m/Users/andresterrer/Desktop/VS_Code/AdventOfCode2023/AdventOfCode2023/AdventofCode5.ipynb Cell 16\u001b[0m line \u001b[0;36m5\n\u001b[1;32m     <a href='vscode-notebook-cell:/Users/andresterrer/Desktop/VS_Code/AdventOfCode2023/AdventOfCode2023/AdventofCode5.ipynb#X30sZmlsZQ%3D%3D?line=55'>56</a>\u001b[0m \u001b[39mif\u001b[39;00m \u001b[39mself\u001b[39m\u001b[39m.\u001b[39mis_on:\n\u001b[1;32m     <a href='vscode-notebook-cell:/Users/andresterrer/Desktop/VS_Code/AdventOfCode2023/AdventOfCode2023/AdventofCode5.ipynb#X30sZmlsZQ%3D%3D?line=56'>57</a>\u001b[0m     \u001b[39mfor\u001b[39;00m node_name \u001b[39min\u001b[39;00m \u001b[39mself\u001b[39m\u001b[39m.\u001b[39moutputs:\n\u001b[0;32m---> <a href='vscode-notebook-cell:/Users/andresterrer/Desktop/VS_Code/AdventOfCode2023/AdventOfCode2023/AdventofCode5.ipynb#X30sZmlsZQ%3D%3D?line=57'>58</a>\u001b[0m         network_graph[node_name]\u001b[39m.\u001b[39;49mrecievePulse(\n\u001b[1;32m     <a href='vscode-notebook-cell:/Users/andresterrer/Desktop/VS_Code/AdventOfCode2023/AdventOfCode2023/AdventofCode5.ipynb#X30sZmlsZQ%3D%3D?line=58'>59</a>\u001b[0m             pulse\u001b[39m=\u001b[39;49m\u001b[39m\"\u001b[39;49m\u001b[39mLow\u001b[39;49m\u001b[39m\"\u001b[39;49m, emitter\u001b[39m=\u001b[39;49m\u001b[39mself\u001b[39;49m\u001b[39m.\u001b[39;49mname\n\u001b[1;32m     <a href='vscode-notebook-cell:/Users/andresterrer/Desktop/VS_Code/AdventOfCode2023/AdventOfCode2023/AdventofCode5.ipynb#X30sZmlsZQ%3D%3D?line=59'>60</a>\u001b[0m         )\n\u001b[1;32m     <a href='vscode-notebook-cell:/Users/andresterrer/Desktop/VS_Code/AdventOfCode2023/AdventOfCode2023/AdventofCode5.ipynb#X30sZmlsZQ%3D%3D?line=61'>62</a>\u001b[0m \u001b[39melse\u001b[39;00m:\n\u001b[1;32m     <a href='vscode-notebook-cell:/Users/andresterrer/Desktop/VS_Code/AdventOfCode2023/AdventOfCode2023/AdventofCode5.ipynb#X30sZmlsZQ%3D%3D?line=62'>63</a>\u001b[0m     \u001b[39mfor\u001b[39;00m node_name \u001b[39min\u001b[39;00m \u001b[39mself\u001b[39m\u001b[39m.\u001b[39moutputs:\n",
      "\u001b[1;32m/Users/andresterrer/Desktop/VS_Code/AdventOfCode2023/AdventOfCode2023/AdventofCode5.ipynb Cell 16\u001b[0m line \u001b[0;36m6\n\u001b[1;32m     <a href='vscode-notebook-cell:/Users/andresterrer/Desktop/VS_Code/AdventOfCode2023/AdventOfCode2023/AdventofCode5.ipynb#X30sZmlsZQ%3D%3D?line=61'>62</a>\u001b[0m \u001b[39melse\u001b[39;00m:\n\u001b[1;32m     <a href='vscode-notebook-cell:/Users/andresterrer/Desktop/VS_Code/AdventOfCode2023/AdventOfCode2023/AdventofCode5.ipynb#X30sZmlsZQ%3D%3D?line=62'>63</a>\u001b[0m     \u001b[39mfor\u001b[39;00m node_name \u001b[39min\u001b[39;00m \u001b[39mself\u001b[39m\u001b[39m.\u001b[39moutputs:\n\u001b[0;32m---> <a href='vscode-notebook-cell:/Users/andresterrer/Desktop/VS_Code/AdventOfCode2023/AdventOfCode2023/AdventofCode5.ipynb#X30sZmlsZQ%3D%3D?line=63'>64</a>\u001b[0m         network_graph[node_name]\u001b[39m.\u001b[39;49mrecievePulse(\n\u001b[1;32m     <a href='vscode-notebook-cell:/Users/andresterrer/Desktop/VS_Code/AdventOfCode2023/AdventOfCode2023/AdventofCode5.ipynb#X30sZmlsZQ%3D%3D?line=64'>65</a>\u001b[0m             pulse\u001b[39m=\u001b[39;49m\u001b[39m\"\u001b[39;49m\u001b[39mHigh\u001b[39;49m\u001b[39m\"\u001b[39;49m, emitter\u001b[39m=\u001b[39;49m\u001b[39mself\u001b[39;49m\u001b[39m.\u001b[39;49mname\n\u001b[1;32m     <a href='vscode-notebook-cell:/Users/andresterrer/Desktop/VS_Code/AdventOfCode2023/AdventOfCode2023/AdventofCode5.ipynb#X30sZmlsZQ%3D%3D?line=65'>66</a>\u001b[0m         )\n\u001b[1;32m     <a href='vscode-notebook-cell:/Users/andresterrer/Desktop/VS_Code/AdventOfCode2023/AdventOfCode2023/AdventofCode5.ipynb#X30sZmlsZQ%3D%3D?line=67'>68</a>\u001b[0m \u001b[39m# Toggle the node\u001b[39;00m\n\u001b[1;32m     <a href='vscode-notebook-cell:/Users/andresterrer/Desktop/VS_Code/AdventOfCode2023/AdventOfCode2023/AdventofCode5.ipynb#X30sZmlsZQ%3D%3D?line=68'>69</a>\u001b[0m \u001b[39mself\u001b[39m\u001b[39m.\u001b[39mis_on \u001b[39m=\u001b[39m \u001b[39mnot\u001b[39;00m \u001b[39mself\u001b[39m\u001b[39m.\u001b[39mis_on\n",
      "\u001b[1;32m/Users/andresterrer/Desktop/VS_Code/AdventOfCode2023/AdventOfCode2023/AdventofCode5.ipynb Cell 16\u001b[0m line \u001b[0;36m8\n\u001b[1;32m     <a href='vscode-notebook-cell:/Users/andresterrer/Desktop/VS_Code/AdventOfCode2023/AdventOfCode2023/AdventofCode5.ipynb#X30sZmlsZQ%3D%3D?line=79'>80</a>\u001b[0m \u001b[39mself\u001b[39m\u001b[39m.\u001b[39minput_memory[emitter] \u001b[39m=\u001b[39m pulse\n\u001b[1;32m     <a href='vscode-notebook-cell:/Users/andresterrer/Desktop/VS_Code/AdventOfCode2023/AdventOfCode2023/AdventofCode5.ipynb#X30sZmlsZQ%3D%3D?line=81'>82</a>\u001b[0m \u001b[39mif\u001b[39;00m \u001b[39mall\u001b[39m([p \u001b[39m==\u001b[39m \u001b[39m\"\u001b[39m\u001b[39mHigh\u001b[39m\u001b[39m\"\u001b[39m \u001b[39mfor\u001b[39;00m p \u001b[39min\u001b[39;00m \u001b[39mself\u001b[39m\u001b[39m.\u001b[39minput_memory\u001b[39m.\u001b[39mvalues()]):\n\u001b[0;32m---> <a href='vscode-notebook-cell:/Users/andresterrer/Desktop/VS_Code/AdventOfCode2023/AdventOfCode2023/AdventofCode5.ipynb#X30sZmlsZQ%3D%3D?line=82'>83</a>\u001b[0m     \u001b[39mself\u001b[39;49m\u001b[39m.\u001b[39;49msendPulse(pulse\u001b[39m=\u001b[39;49m\u001b[39m\"\u001b[39;49m\u001b[39mLow\u001b[39;49m\u001b[39m\"\u001b[39;49m)\n\u001b[1;32m     <a href='vscode-notebook-cell:/Users/andresterrer/Desktop/VS_Code/AdventOfCode2023/AdventOfCode2023/AdventofCode5.ipynb#X30sZmlsZQ%3D%3D?line=83'>84</a>\u001b[0m \u001b[39melse\u001b[39;00m:\n\u001b[1;32m     <a href='vscode-notebook-cell:/Users/andresterrer/Desktop/VS_Code/AdventOfCode2023/AdventOfCode2023/AdventofCode5.ipynb#X30sZmlsZQ%3D%3D?line=84'>85</a>\u001b[0m     \u001b[39mself\u001b[39m\u001b[39m.\u001b[39msendPulse(pulse\u001b[39m=\u001b[39m\u001b[39m\"\u001b[39m\u001b[39mHigh\u001b[39m\u001b[39m\"\u001b[39m)\n",
      "    \u001b[0;31m[... skipping similar frames: Node.recievePulse at line 58 (1184 times), Node.sendPulse at line 41 (592 times), Node.recievePulse at line 64 (591 times), Node.recievePulse at line 83 (591 times)]\u001b[0m\n",
      "\u001b[1;32m/Users/andresterrer/Desktop/VS_Code/AdventOfCode2023/AdventOfCode2023/AdventofCode5.ipynb Cell 16\u001b[0m line \u001b[0;36m6\n\u001b[1;32m     <a href='vscode-notebook-cell:/Users/andresterrer/Desktop/VS_Code/AdventOfCode2023/AdventOfCode2023/AdventofCode5.ipynb#X30sZmlsZQ%3D%3D?line=61'>62</a>\u001b[0m \u001b[39melse\u001b[39;00m:\n\u001b[1;32m     <a href='vscode-notebook-cell:/Users/andresterrer/Desktop/VS_Code/AdventOfCode2023/AdventOfCode2023/AdventofCode5.ipynb#X30sZmlsZQ%3D%3D?line=62'>63</a>\u001b[0m     \u001b[39mfor\u001b[39;00m node_name \u001b[39min\u001b[39;00m \u001b[39mself\u001b[39m\u001b[39m.\u001b[39moutputs:\n\u001b[0;32m---> <a href='vscode-notebook-cell:/Users/andresterrer/Desktop/VS_Code/AdventOfCode2023/AdventOfCode2023/AdventofCode5.ipynb#X30sZmlsZQ%3D%3D?line=63'>64</a>\u001b[0m         network_graph[node_name]\u001b[39m.\u001b[39;49mrecievePulse(\n\u001b[1;32m     <a href='vscode-notebook-cell:/Users/andresterrer/Desktop/VS_Code/AdventOfCode2023/AdventOfCode2023/AdventofCode5.ipynb#X30sZmlsZQ%3D%3D?line=64'>65</a>\u001b[0m             pulse\u001b[39m=\u001b[39;49m\u001b[39m\"\u001b[39;49m\u001b[39mHigh\u001b[39;49m\u001b[39m\"\u001b[39;49m, emitter\u001b[39m=\u001b[39;49m\u001b[39mself\u001b[39;49m\u001b[39m.\u001b[39;49mname\n\u001b[1;32m     <a href='vscode-notebook-cell:/Users/andresterrer/Desktop/VS_Code/AdventOfCode2023/AdventOfCode2023/AdventofCode5.ipynb#X30sZmlsZQ%3D%3D?line=65'>66</a>\u001b[0m         )\n\u001b[1;32m     <a href='vscode-notebook-cell:/Users/andresterrer/Desktop/VS_Code/AdventOfCode2023/AdventOfCode2023/AdventofCode5.ipynb#X30sZmlsZQ%3D%3D?line=67'>68</a>\u001b[0m \u001b[39m# Toggle the node\u001b[39;00m\n\u001b[1;32m     <a href='vscode-notebook-cell:/Users/andresterrer/Desktop/VS_Code/AdventOfCode2023/AdventOfCode2023/AdventofCode5.ipynb#X30sZmlsZQ%3D%3D?line=68'>69</a>\u001b[0m \u001b[39mself\u001b[39m\u001b[39m.\u001b[39mis_on \u001b[39m=\u001b[39m \u001b[39mnot\u001b[39;00m \u001b[39mself\u001b[39m\u001b[39m.\u001b[39mis_on\n",
      "\u001b[1;32m/Users/andresterrer/Desktop/VS_Code/AdventOfCode2023/AdventOfCode2023/AdventofCode5.ipynb Cell 16\u001b[0m line \u001b[0;36m8\n\u001b[1;32m     <a href='vscode-notebook-cell:/Users/andresterrer/Desktop/VS_Code/AdventOfCode2023/AdventOfCode2023/AdventofCode5.ipynb#X30sZmlsZQ%3D%3D?line=79'>80</a>\u001b[0m \u001b[39mself\u001b[39m\u001b[39m.\u001b[39minput_memory[emitter] \u001b[39m=\u001b[39m pulse\n\u001b[1;32m     <a href='vscode-notebook-cell:/Users/andresterrer/Desktop/VS_Code/AdventOfCode2023/AdventOfCode2023/AdventofCode5.ipynb#X30sZmlsZQ%3D%3D?line=81'>82</a>\u001b[0m \u001b[39mif\u001b[39;00m \u001b[39mall\u001b[39m([p \u001b[39m==\u001b[39m \u001b[39m\"\u001b[39m\u001b[39mHigh\u001b[39m\u001b[39m\"\u001b[39m \u001b[39mfor\u001b[39;00m p \u001b[39min\u001b[39;00m \u001b[39mself\u001b[39m\u001b[39m.\u001b[39minput_memory\u001b[39m.\u001b[39mvalues()]):\n\u001b[0;32m---> <a href='vscode-notebook-cell:/Users/andresterrer/Desktop/VS_Code/AdventOfCode2023/AdventOfCode2023/AdventofCode5.ipynb#X30sZmlsZQ%3D%3D?line=82'>83</a>\u001b[0m     \u001b[39mself\u001b[39;49m\u001b[39m.\u001b[39;49msendPulse(pulse\u001b[39m=\u001b[39;49m\u001b[39m\"\u001b[39;49m\u001b[39mLow\u001b[39;49m\u001b[39m\"\u001b[39;49m)\n\u001b[1;32m     <a href='vscode-notebook-cell:/Users/andresterrer/Desktop/VS_Code/AdventOfCode2023/AdventOfCode2023/AdventofCode5.ipynb#X30sZmlsZQ%3D%3D?line=83'>84</a>\u001b[0m \u001b[39melse\u001b[39;00m:\n\u001b[1;32m     <a href='vscode-notebook-cell:/Users/andresterrer/Desktop/VS_Code/AdventOfCode2023/AdventOfCode2023/AdventofCode5.ipynb#X30sZmlsZQ%3D%3D?line=84'>85</a>\u001b[0m     \u001b[39mself\u001b[39m\u001b[39m.\u001b[39msendPulse(pulse\u001b[39m=\u001b[39m\u001b[39m\"\u001b[39m\u001b[39mHigh\u001b[39m\u001b[39m\"\u001b[39m)\n",
      "\u001b[1;32m/Users/andresterrer/Desktop/VS_Code/AdventOfCode2023/AdventOfCode2023/AdventofCode5.ipynb Cell 16\u001b[0m line \u001b[0;36m4\n\u001b[1;32m     <a href='vscode-notebook-cell:/Users/andresterrer/Desktop/VS_Code/AdventOfCode2023/AdventOfCode2023/AdventofCode5.ipynb#X30sZmlsZQ%3D%3D?line=38'>39</a>\u001b[0m \u001b[39mfor\u001b[39;00m node_name \u001b[39min\u001b[39;00m \u001b[39mself\u001b[39m\u001b[39m.\u001b[39moutputs:\n\u001b[1;32m     <a href='vscode-notebook-cell:/Users/andresterrer/Desktop/VS_Code/AdventOfCode2023/AdventOfCode2023/AdventofCode5.ipynb#X30sZmlsZQ%3D%3D?line=39'>40</a>\u001b[0m     pulses_sent[pulse] \u001b[39m+\u001b[39m\u001b[39m=\u001b[39m \u001b[39m1\u001b[39m\n\u001b[0;32m---> <a href='vscode-notebook-cell:/Users/andresterrer/Desktop/VS_Code/AdventOfCode2023/AdventOfCode2023/AdventofCode5.ipynb#X30sZmlsZQ%3D%3D?line=40'>41</a>\u001b[0m     network_graph[node_name]\u001b[39m.\u001b[39;49mrecievePulse(pulse, \u001b[39mself\u001b[39;49m\u001b[39m.\u001b[39;49mname)\n",
      "    \u001b[0;31m[... skipping similar frames: Node.recievePulse at line 58 (1 times)]\u001b[0m\n",
      "\u001b[1;32m/Users/andresterrer/Desktop/VS_Code/AdventOfCode2023/AdventOfCode2023/AdventofCode5.ipynb Cell 16\u001b[0m line \u001b[0;36m5\n\u001b[1;32m     <a href='vscode-notebook-cell:/Users/andresterrer/Desktop/VS_Code/AdventOfCode2023/AdventOfCode2023/AdventofCode5.ipynb#X30sZmlsZQ%3D%3D?line=55'>56</a>\u001b[0m \u001b[39mif\u001b[39;00m \u001b[39mself\u001b[39m\u001b[39m.\u001b[39mis_on:\n\u001b[1;32m     <a href='vscode-notebook-cell:/Users/andresterrer/Desktop/VS_Code/AdventOfCode2023/AdventOfCode2023/AdventofCode5.ipynb#X30sZmlsZQ%3D%3D?line=56'>57</a>\u001b[0m     \u001b[39mfor\u001b[39;00m node_name \u001b[39min\u001b[39;00m \u001b[39mself\u001b[39m\u001b[39m.\u001b[39moutputs:\n\u001b[0;32m---> <a href='vscode-notebook-cell:/Users/andresterrer/Desktop/VS_Code/AdventOfCode2023/AdventOfCode2023/AdventofCode5.ipynb#X30sZmlsZQ%3D%3D?line=57'>58</a>\u001b[0m         network_graph[node_name]\u001b[39m.\u001b[39;49mrecievePulse(\n\u001b[1;32m     <a href='vscode-notebook-cell:/Users/andresterrer/Desktop/VS_Code/AdventOfCode2023/AdventOfCode2023/AdventofCode5.ipynb#X30sZmlsZQ%3D%3D?line=58'>59</a>\u001b[0m             pulse\u001b[39m=\u001b[39;49m\u001b[39m\"\u001b[39;49m\u001b[39mLow\u001b[39;49m\u001b[39m\"\u001b[39;49m, emitter\u001b[39m=\u001b[39;49m\u001b[39mself\u001b[39;49m\u001b[39m.\u001b[39;49mname\n\u001b[1;32m     <a href='vscode-notebook-cell:/Users/andresterrer/Desktop/VS_Code/AdventOfCode2023/AdventOfCode2023/AdventofCode5.ipynb#X30sZmlsZQ%3D%3D?line=59'>60</a>\u001b[0m         )\n\u001b[1;32m     <a href='vscode-notebook-cell:/Users/andresterrer/Desktop/VS_Code/AdventOfCode2023/AdventOfCode2023/AdventofCode5.ipynb#X30sZmlsZQ%3D%3D?line=61'>62</a>\u001b[0m \u001b[39melse\u001b[39;00m:\n\u001b[1;32m     <a href='vscode-notebook-cell:/Users/andresterrer/Desktop/VS_Code/AdventOfCode2023/AdventOfCode2023/AdventofCode5.ipynb#X30sZmlsZQ%3D%3D?line=62'>63</a>\u001b[0m     \u001b[39mfor\u001b[39;00m node_name \u001b[39min\u001b[39;00m \u001b[39mself\u001b[39m\u001b[39m.\u001b[39moutputs:\n",
      "\u001b[1;32m/Users/andresterrer/Desktop/VS_Code/AdventOfCode2023/AdventOfCode2023/AdventofCode5.ipynb Cell 16\u001b[0m line \u001b[0;36m4\n\u001b[1;32m     <a href='vscode-notebook-cell:/Users/andresterrer/Desktop/VS_Code/AdventOfCode2023/AdventOfCode2023/AdventofCode5.ipynb#X30sZmlsZQ%3D%3D?line=42'>43</a>\u001b[0m \u001b[39mdef\u001b[39;00m \u001b[39mrecievePulse\u001b[39m(\u001b[39mself\u001b[39m, pulse: \u001b[39mstr\u001b[39m, emitter: \u001b[39mstr\u001b[39m):\n\u001b[0;32m---> <a href='vscode-notebook-cell:/Users/andresterrer/Desktop/VS_Code/AdventOfCode2023/AdventOfCode2023/AdventofCode5.ipynb#X30sZmlsZQ%3D%3D?line=44'>45</a>\u001b[0m     \u001b[39mif\u001b[39;00m \u001b[39mself\u001b[39;49m\u001b[39m.\u001b[39;49mnode_type \u001b[39m==\u001b[39;49m \u001b[39m\"\u001b[39;49m\u001b[39m%\u001b[39;49m\u001b[39m\"\u001b[39;49m:\n\u001b[1;32m     <a href='vscode-notebook-cell:/Users/andresterrer/Desktop/VS_Code/AdventOfCode2023/AdventOfCode2023/AdventofCode5.ipynb#X30sZmlsZQ%3D%3D?line=45'>46</a>\u001b[0m \u001b[39m        \u001b[39m\u001b[39m\"\"\"\u001b[39;00m\n\u001b[1;32m     <a href='vscode-notebook-cell:/Users/andresterrer/Desktop/VS_Code/AdventOfCode2023/AdventOfCode2023/AdventofCode5.ipynb#X30sZmlsZQ%3D%3D?line=46'>47</a>\u001b[0m \u001b[39m        If a flip-flop module receives a high pulse, it is ignored and nothing happens.\u001b[39;00m\n\u001b[1;32m     <a href='vscode-notebook-cell:/Users/andresterrer/Desktop/VS_Code/AdventOfCode2023/AdventOfCode2023/AdventofCode5.ipynb#X30sZmlsZQ%3D%3D?line=47'>48</a>\u001b[0m \u001b[39m        However, if a flip-flop module receives a low pulse, it flips between on and off.\u001b[39;00m\n\u001b[0;32m   (...)\u001b[0m\n\u001b[1;32m     <a href='vscode-notebook-cell:/Users/andresterrer/Desktop/VS_Code/AdventOfCode2023/AdventOfCode2023/AdventofCode5.ipynb#X30sZmlsZQ%3D%3D?line=50'>51</a>\u001b[0m \u001b[39m        If it was on, it turns off and sends a low pulse.\u001b[39;00m\n\u001b[1;32m     <a href='vscode-notebook-cell:/Users/andresterrer/Desktop/VS_Code/AdventOfCode2023/AdventOfCode2023/AdventofCode5.ipynb#X30sZmlsZQ%3D%3D?line=51'>52</a>\u001b[0m \u001b[39m        \"\"\"\u001b[39;00m\n\u001b[1;32m     <a href='vscode-notebook-cell:/Users/andresterrer/Desktop/VS_Code/AdventOfCode2023/AdventOfCode2023/AdventofCode5.ipynb#X30sZmlsZQ%3D%3D?line=52'>53</a>\u001b[0m         \u001b[39mif\u001b[39;00m pulse \u001b[39m==\u001b[39m \u001b[39m\"\u001b[39m\u001b[39mHigh\u001b[39m\u001b[39m\"\u001b[39m:\n",
      "\u001b[0;31mRecursionError\u001b[0m: maximum recursion depth exceeded in comparison"
     ]
    }
   ],
   "source": [
    "# Send a pulse and see its effect\n",
    "for __ in range(1):\n",
    "    network_graph[\"roadcaster\"].sendPulse(\"Low\")\n",
    "    # network_graph[\"roadcaster\"].sendPulse(\"High\")\n",
    "[print(n) for n in network_graph.values()]\n",
    "print(pulses_sent)\n",
    "\n",
    "\"\"\" \n",
    "There is a problem when construtiong the graph:\n",
    "    Some nodes do not appear the list, because they are not sending to any other node.\n",
    "\n",
    "    Solution 1:\n",
    "        add exeptions to every call of the network_graph\n",
    "\n",
    "        if node_name in self.outputs:\n",
    "        -> if node_name in node_graph.keys() <-\n",
    "            node_graph[node_name].recievePulse( ...\n",
    "\n",
    "    Solution 2:\n",
    "        add extra nodes for outputs when generating the graph. Fill them with dummy nodes:\n",
    "\n",
    "        for name, node in network_graph.items():\n",
    "            for output in node.outputs:\n",
    "                if output not in network_graph.keys():\n",
    "                    network_graph[output] = Node(\n",
    "                        name = output,\n",
    "                        outputs = [],\n",
    "                        node_type = \"%\"\n",
    "                    )\n",
    "\n",
    "I decided to implement soution 2\n",
    "\n",
    "\"\"\""
   ]
  },
  {
   "cell_type": "code",
   "execution_count": 270,
   "metadata": {},
   "outputs": [
    {
     "name": "stdout",
     "output_type": "stream",
     "text": [
      "{'High': 0, 'Low': 1192}\n"
     ]
    }
   ],
   "source": [
    "# Now we add a counter to keep track of the node activations\n",
    "\n",
    "print(pulses_sent)"
   ]
  },
  {
   "cell_type": "code",
   "execution_count": null,
   "metadata": {},
   "outputs": [],
   "source": []
  }
 ],
 "metadata": {
  "kernelspec": {
   "display_name": ".venv",
   "language": "python",
   "name": "python3"
  },
  "language_info": {
   "codemirror_mode": {
    "name": "ipython",
    "version": 3
   },
   "file_extension": ".py",
   "mimetype": "text/x-python",
   "name": "python",
   "nbconvert_exporter": "python",
   "pygments_lexer": "ipython3",
   "version": "3.9.18"
  },
  "orig_nbformat": 4
 },
 "nbformat": 4,
 "nbformat_minor": 2
}
