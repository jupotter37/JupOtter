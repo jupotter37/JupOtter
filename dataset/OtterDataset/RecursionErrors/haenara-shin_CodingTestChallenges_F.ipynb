{
 "cells": [
  {
   "cell_type": "code",
   "execution_count": null,
   "metadata": {},
   "outputs": [],
   "source": [
    "[ 프로그래머스 ] level 4 - 스티커 모으기(2) - 파이썬\n",
    "N개의 스티커가 원형으로 연결되어 있습니다. 다음 그림은 N = 8인 경우의 예시입니다."
   ]
  },
  {
   "cell_type": "code",
   "execution_count": null,
   "metadata": {},
   "outputs": [],
   "source": [
    "def solution(sticker):\n",
    "    # answer = 36\n",
    "    sticker_length = len(sticker)\n",
    "    \n",
    "    # 1, 2, 3 인 경우 : 1개만 선택 가능\n",
    "    if sticker_length <= 3:\n",
    "        return max(sticker)\n",
    "    \n",
    "    dp = [0] * sticker_length\n",
    "    dp[0] = sticker[0]\n",
    "    dp[1] = dp[0]\n",
    "    for i in range(2, sticker_length - 1):\n",
    "        dp[i] = max(dp[i-2]+ sticker[i], dp[i-1])\n",
    "    \n",
    "    answer = dp[sticker_length-2]\n",
    "    dp[0] = 0\n",
    "    dp[1] = sticker[1]\n",
    "    for i in range(2, sticker_length):\n",
    "        dp[i] = max(dp[i-2] + sticker[i], dp[i-1])\n",
    "        \n",
    "    # # [실행] 버튼을 누르면 출력 값을 볼 수 있습니다.\n",
    "    # print('Hello Python')\n",
    "    \n",
    "    return max(dp[sticker_length - 1], answer)"
   ]
  },
  {
   "cell_type": "code",
   "execution_count": null,
   "metadata": {},
   "outputs": [],
   "source": []
  },
  {
   "cell_type": "code",
   "execution_count": null,
   "metadata": {},
   "outputs": [],
   "source": [
    "board = [[3,2,3,2], [2,1,1,2], [1,1,2,1], [4,1,1,1]]\n",
    "visited = [[0] * 4 for _ in range(4)]\n",
    "dx = [-1, 0, 1, 0]\n",
    "dy = [0, 1, 0, -1]\n",
    "\n",
    "ans = False\n",
    "def dfs(x, y, count, color, sx, sy):\n",
    "    global ans\n",
    "    \n",
    "    for i in range(4):\n",
    "        nx, ny = x + dx[i], y + dy[i]\n",
    "        if nx >= 4 or nx <= -1 or ny >= 4 or ny <= -1:\n",
    "            continue\n",
    "        if visited[nx][ny] == 0 and board[nx][ny] == color:\n",
    "            visited[nx][ny] = 1\n",
    "            dfs(nx, ny, count+1, color, sx, sy)\n",
    "            visited[nx][ny] = 0\n",
    "    return False\n",
    "\n",
    "def solve():\n",
    "    global ans\n",
    "    for i in range(4):\n",
    "        for j in range(4):\n",
    "            sx = i\n",
    "            sy = j\n",
    "            visited[sx][sy] = True\n",
    "            dfs(i, j, 1, board[i][j], sx, sy)\n",
    "            visited[nx][ny] = 0\n",
    "    "
   ]
  },
  {
   "cell_type": "code",
   "execution_count": 5,
   "metadata": {},
   "outputs": [
    {
     "data": {
      "text/plain": [
       "[1, 1, 1, 2, 1, 3, 1, 1, 2, 2, 1, 2, 1, 2, 2, 1]"
      ]
     },
     "execution_count": 5,
     "metadata": {},
     "output_type": "execute_result"
    }
   ],
   "source": [
    "board = [[3,2,3,2], [2,1,1,2], [1,1,2,1], [4,1,1,1]] #: 7\n",
    "                                                    # [[4,2,3,2], [2,1,2,4], [1,2,3,1], [4,1,4,3]] : -1\n",
    "visited = [[0] * 4 for _ in range(4)]\n",
    "dx = [-1, 0, 1, 0]\n",
    "dy = [0, 1, 0, -1]\n",
    "\n",
    "def dfs(x, y, count):\n",
    "    visited[x][y] = 1\n",
    "    for d in range(4):\n",
    "        nx = x + dx[d]\n",
    "        ny = y + dy[d]\n",
    "        if 0 <= nx < 4 and 0 <= ny < 4:\n",
    "            if board[nx][ny] == board[x][y]:\n",
    "                if visited[nx][ny] == 0:\n",
    "                    visited[nx][ny] = 1\n",
    "                    count += 1\n",
    "                    dfs(nx, ny, count)\n",
    "                    visited[nx][ny] = 0\n",
    "                    \n",
    "    return count\n",
    "                    \n",
    "\n",
    "ans = []\n",
    "for i in range(4):\n",
    "    for j in range(4):\n",
    "        if visited[i][j] == 0:\n",
    "            ans.append(dfs(i, j, 1))\n",
    "ans"
   ]
  },
  {
   "cell_type": "code",
   "execution_count": 36,
   "metadata": {},
   "outputs": [
    {
     "ename": "RecursionError",
     "evalue": "maximum recursion depth exceeded in comparison",
     "output_type": "error",
     "traceback": [
      "\u001b[0;31m---------------------------------------------------------------------------\u001b[0m",
      "\u001b[0;31mRecursionError\u001b[0m                            Traceback (most recent call last)",
      "\u001b[0;32m<ipython-input-36-482d40e902cc>\u001b[0m in \u001b[0;36m<module>\u001b[0;34m\u001b[0m\n\u001b[1;32m     31\u001b[0m     \u001b[0;32mfor\u001b[0m \u001b[0mj\u001b[0m \u001b[0;32min\u001b[0m \u001b[0mrange\u001b[0m\u001b[0;34m(\u001b[0m\u001b[0mm\u001b[0m\u001b[0;34m)\u001b[0m\u001b[0;34m:\u001b[0m\u001b[0;34m\u001b[0m\u001b[0;34m\u001b[0m\u001b[0m\n\u001b[1;32m     32\u001b[0m         \u001b[0;31m#현재 위치에서 DFS 수행\u001b[0m\u001b[0;34m\u001b[0m\u001b[0;34m\u001b[0m\u001b[0;34m\u001b[0m\u001b[0m\n\u001b[0;32m---> 33\u001b[0;31m         \u001b[0;32mif\u001b[0m \u001b[0mdfs\u001b[0m\u001b[0;34m(\u001b[0m\u001b[0mi\u001b[0m\u001b[0;34m,\u001b[0m \u001b[0mj\u001b[0m\u001b[0;34m)\u001b[0m \u001b[0;34m==\u001b[0m \u001b[0;32mTrue\u001b[0m\u001b[0;34m:\u001b[0m\u001b[0;34m\u001b[0m\u001b[0;34m\u001b[0m\u001b[0m\n\u001b[0m\u001b[1;32m     34\u001b[0m             \u001b[0mresult\u001b[0m \u001b[0;34m+=\u001b[0m \u001b[0;36m1\u001b[0m\u001b[0;34m\u001b[0m\u001b[0;34m\u001b[0m\u001b[0m\n\u001b[1;32m     35\u001b[0m         \u001b[0mans\u001b[0m\u001b[0;34m.\u001b[0m\u001b[0mappend\u001b[0m\u001b[0;34m(\u001b[0m\u001b[0mresult\u001b[0m\u001b[0;34m)\u001b[0m\u001b[0;34m\u001b[0m\u001b[0;34m\u001b[0m\u001b[0m\n",
      "\u001b[0;32m<ipython-input-36-482d40e902cc>\u001b[0m in \u001b[0;36mdfs\u001b[0;34m(x, y)\u001b[0m\n\u001b[1;32m     19\u001b[0m         \u001b[0mdfs\u001b[0m\u001b[0;34m(\u001b[0m\u001b[0mx\u001b[0m\u001b[0;34m-\u001b[0m\u001b[0;36m1\u001b[0m\u001b[0;34m,\u001b[0m \u001b[0my\u001b[0m\u001b[0;34m)\u001b[0m\u001b[0;34m\u001b[0m\u001b[0;34m\u001b[0m\u001b[0m\n\u001b[1;32m     20\u001b[0m         \u001b[0mdfs\u001b[0m\u001b[0;34m(\u001b[0m\u001b[0mx\u001b[0m\u001b[0;34m,\u001b[0m \u001b[0my\u001b[0m\u001b[0;34m-\u001b[0m\u001b[0;36m1\u001b[0m\u001b[0;34m)\u001b[0m\u001b[0;34m\u001b[0m\u001b[0;34m\u001b[0m\u001b[0m\n\u001b[0;32m---> 21\u001b[0;31m         \u001b[0mdfs\u001b[0m\u001b[0;34m(\u001b[0m\u001b[0mx\u001b[0m\u001b[0;34m+\u001b[0m\u001b[0;36m1\u001b[0m\u001b[0;34m,\u001b[0m \u001b[0my\u001b[0m\u001b[0;34m)\u001b[0m\u001b[0;34m\u001b[0m\u001b[0;34m\u001b[0m\u001b[0m\n\u001b[0m\u001b[1;32m     22\u001b[0m         \u001b[0mdfs\u001b[0m\u001b[0;34m(\u001b[0m\u001b[0mx\u001b[0m\u001b[0;34m,\u001b[0m \u001b[0my\u001b[0m\u001b[0;34m+\u001b[0m\u001b[0;36m1\u001b[0m\u001b[0;34m)\u001b[0m\u001b[0;34m\u001b[0m\u001b[0;34m\u001b[0m\u001b[0m\n\u001b[1;32m     23\u001b[0m         \u001b[0;32mreturn\u001b[0m \u001b[0;32mTrue\u001b[0m\u001b[0;34m\u001b[0m\u001b[0;34m\u001b[0m\u001b[0m\n",
      "\u001b[0;32m<ipython-input-36-482d40e902cc>\u001b[0m in \u001b[0;36mdfs\u001b[0;34m(x, y)\u001b[0m\n\u001b[1;32m     17\u001b[0m         \u001b[0mgraph\u001b[0m\u001b[0;34m[\u001b[0m\u001b[0mx\u001b[0m\u001b[0;34m]\u001b[0m\u001b[0;34m[\u001b[0m\u001b[0my\u001b[0m\u001b[0;34m]\u001b[0m \u001b[0;34m=\u001b[0m \u001b[0;36m1\u001b[0m\u001b[0;34m\u001b[0m\u001b[0;34m\u001b[0m\u001b[0m\n\u001b[1;32m     18\u001b[0m         \u001b[0;31m#상, 하, 좌, 우의 위치도 모두 재귀적으로 호출\u001b[0m\u001b[0;34m\u001b[0m\u001b[0;34m\u001b[0m\u001b[0;34m\u001b[0m\u001b[0m\n\u001b[0;32m---> 19\u001b[0;31m         \u001b[0mdfs\u001b[0m\u001b[0;34m(\u001b[0m\u001b[0mx\u001b[0m\u001b[0;34m-\u001b[0m\u001b[0;36m1\u001b[0m\u001b[0;34m,\u001b[0m \u001b[0my\u001b[0m\u001b[0;34m)\u001b[0m\u001b[0;34m\u001b[0m\u001b[0;34m\u001b[0m\u001b[0m\n\u001b[0m\u001b[1;32m     20\u001b[0m         \u001b[0mdfs\u001b[0m\u001b[0;34m(\u001b[0m\u001b[0mx\u001b[0m\u001b[0;34m,\u001b[0m \u001b[0my\u001b[0m\u001b[0;34m-\u001b[0m\u001b[0;36m1\u001b[0m\u001b[0;34m)\u001b[0m\u001b[0;34m\u001b[0m\u001b[0;34m\u001b[0m\u001b[0m\n\u001b[1;32m     21\u001b[0m         \u001b[0mdfs\u001b[0m\u001b[0;34m(\u001b[0m\u001b[0mx\u001b[0m\u001b[0;34m+\u001b[0m\u001b[0;36m1\u001b[0m\u001b[0;34m,\u001b[0m \u001b[0my\u001b[0m\u001b[0;34m)\u001b[0m\u001b[0;34m\u001b[0m\u001b[0;34m\u001b[0m\u001b[0m\n",
      "... last 2 frames repeated, from the frame below ...\n",
      "\u001b[0;32m<ipython-input-36-482d40e902cc>\u001b[0m in \u001b[0;36mdfs\u001b[0;34m(x, y)\u001b[0m\n\u001b[1;32m     19\u001b[0m         \u001b[0mdfs\u001b[0m\u001b[0;34m(\u001b[0m\u001b[0mx\u001b[0m\u001b[0;34m-\u001b[0m\u001b[0;36m1\u001b[0m\u001b[0;34m,\u001b[0m \u001b[0my\u001b[0m\u001b[0;34m)\u001b[0m\u001b[0;34m\u001b[0m\u001b[0;34m\u001b[0m\u001b[0m\n\u001b[1;32m     20\u001b[0m         \u001b[0mdfs\u001b[0m\u001b[0;34m(\u001b[0m\u001b[0mx\u001b[0m\u001b[0;34m,\u001b[0m \u001b[0my\u001b[0m\u001b[0;34m-\u001b[0m\u001b[0;36m1\u001b[0m\u001b[0;34m)\u001b[0m\u001b[0;34m\u001b[0m\u001b[0;34m\u001b[0m\u001b[0m\n\u001b[0;32m---> 21\u001b[0;31m         \u001b[0mdfs\u001b[0m\u001b[0;34m(\u001b[0m\u001b[0mx\u001b[0m\u001b[0;34m+\u001b[0m\u001b[0;36m1\u001b[0m\u001b[0;34m,\u001b[0m \u001b[0my\u001b[0m\u001b[0;34m)\u001b[0m\u001b[0;34m\u001b[0m\u001b[0;34m\u001b[0m\u001b[0m\n\u001b[0m\u001b[1;32m     22\u001b[0m         \u001b[0mdfs\u001b[0m\u001b[0;34m(\u001b[0m\u001b[0mx\u001b[0m\u001b[0;34m,\u001b[0m \u001b[0my\u001b[0m\u001b[0;34m+\u001b[0m\u001b[0;36m1\u001b[0m\u001b[0;34m)\u001b[0m\u001b[0;34m\u001b[0m\u001b[0;34m\u001b[0m\u001b[0m\n\u001b[1;32m     23\u001b[0m         \u001b[0;32mreturn\u001b[0m \u001b[0;32mTrue\u001b[0m\u001b[0;34m\u001b[0m\u001b[0;34m\u001b[0m\u001b[0m\n",
      "\u001b[0;31mRecursionError\u001b[0m: maximum recursion depth exceeded in comparison"
     ]
    }
   ],
   "source": [
    "# N, M을 공백으로 구분하여 입력 받기\n",
    "n, m = 4, 4\n",
    "\n",
    "# 2차원 리스트의 맵 정보 입력 받기\n",
    "graph = [[3,2,3,2], [2,1,1,2], [1,1,2,1], [4,1,1,1]]\n",
    "visited = [[0] * 4 for _ in range(4)]\n",
    "    \n",
    "# DFS로 특정한 노드를 방문한 뒤에 연결된 모든 노드들도 방문\n",
    "def dfs(x, y):\n",
    "    #주어진 범위를 벗어나는 경우에는 즉시 종료\n",
    "    if x <= -1 or x >= n or y <= -1 or y >= m:\n",
    "        return False\n",
    "    #현재 노드를 아직 방문하지 않았다면\n",
    "    \n",
    "    if graph[x][y] == 1:\n",
    "        #해당 노드 방문 처리\n",
    "        graph[x][y] = 1\n",
    "        #상, 하, 좌, 우의 위치도 모두 재귀적으로 호출\n",
    "        dfs(x-1, y)\n",
    "        dfs(x, y-1)\n",
    "        dfs(x+1, y)\n",
    "        dfs(x, y+1)\n",
    "        return True\n",
    "    \n",
    "    return False\n",
    "\n",
    "#모든 노드(위치)에 대하여 음료수 채우기\n",
    "result = 0\n",
    "ans = []\n",
    "for i in range(n):\n",
    "    for j in range(m):\n",
    "        #현재 위치에서 DFS 수행\n",
    "        if dfs(i, j) == True:\n",
    "            result += 1\n",
    "        ans.append(result)\n",
    "print(result)\n",
    "print(ans)"
   ]
  },
  {
   "cell_type": "code",
   "execution_count": null,
   "metadata": {},
   "outputs": [],
   "source": [
    "def solution(board):\n",
    "    visited = [[0] * 4 for _ in range(4)]\n",
    "    dx = [-1,0,1,0]\n",
    "    dy = [0,1,0,-1]\n",
    "\n",
    "    def dfs(x,y):\n",
    "        visited[x][y] = 1\n",
    "        for i in range(4):\n",
    "            nx = x + dx[i]\n",
    "            ny = y + dy[i]\n",
    "            if 0 <= nx < 4 and 0 <= ny < 4:\n",
    "                if board[nx][ny] == board[x][y]:\n",
    "                    if visited[nx][ny] == 0:\n",
    "                        # record.append([nx,ny])\n",
    "                        dfs(nx, ny)\n",
    "                        # record.pop()\n",
    "\n",
    "    count = -1\n",
    "    for i in range(4):\n",
    "        for j in range(4):\n",
    "            if visited[i][j] == 0:\n",
    "                # record = [[i,j]]\n",
    "                count += 1\n",
    "                dfs(i,j)\n",
    "\n",
    "    return count"
   ]
  }
 ],
 "metadata": {
  "kernelspec": {
   "display_name": "Python 3",
   "language": "python",
   "name": "python3"
  },
  "language_info": {
   "codemirror_mode": {
    "name": "ipython",
    "version": 3
   },
   "file_extension": ".py",
   "mimetype": "text/x-python",
   "name": "python",
   "nbconvert_exporter": "python",
   "pygments_lexer": "ipython3",
   "version": "3.7.6"
  }
 },
 "nbformat": 4,
 "nbformat_minor": 4
}
