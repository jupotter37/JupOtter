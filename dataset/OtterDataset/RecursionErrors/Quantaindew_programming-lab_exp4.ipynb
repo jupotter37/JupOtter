{
 "cells": [
  {
   "cell_type": "markdown",
   "id": "8b96d20f-627a-406d-bb60-eef90c834b09",
   "metadata": {},
   "source": [
    "#### Exercise 4.1\n",
    "As an exercise, draw a stack diagram for print_n called with s = 'Hello' and n=2. Then write a\n",
    "function called do_n that takes a function object and a number, n, as arguments, and that calls the\n",
    "given function n times."
   ]
  },
  {
   "cell_type": "code",
   "execution_count": 1,
   "id": "a1ca0fbd-69e1-465d-9239-71b4c5b8dce1",
   "metadata": {},
   "outputs": [
    {
     "name": "stdout",
     "output_type": "stream",
     "text": [
      "Hello\n",
      "Hello\n",
      "Hello\n"
     ]
    }
   ],
   "source": [
    "# Answer for Question 1\n",
    "\n",
    "# Part 1: Stack diagram explanation (see explanation below)\n",
    "\n",
    "# Part 2: do_n function implementation\n",
    "def do_n(func, n):\n",
    "    if n <= 0:\n",
    "        return\n",
    "    func()\n",
    "    do_n(func, n - 1)\n",
    "\n",
    "# Example usage\n",
    "def say_hello():\n",
    "    print(\"Hello\")\n",
    "\n",
    "do_n(say_hello, 3)"
   ]
  },
  {
   "cell_type": "markdown",
   "id": "7a3b5417-c301-41ba-ae12-6e3f0f2b7231",
   "metadata": {},
   "source": [
    "#### Exercise 4.2.\n",
    "\n",
    "What is the output of the following program?"
   ]
  },
  {
   "cell_type": "code",
   "execution_count": 2,
   "id": "9a980a78-a0e7-4b9e-83ed-c550e0658658",
   "metadata": {},
   "outputs": [
    {
     "name": "stdout",
     "output_type": "stream",
     "text": [
      "6\n"
     ]
    }
   ],
   "source": [
    "def recurse(n, s):\n",
    "    if n == 0:\n",
    "        print(s)\n",
    "    else:\n",
    "        recurse(n-1, n+s)\n",
    "\n",
    "recurse(3, 0)"
   ]
  },
  {
   "cell_type": "markdown",
   "id": "878da1cf-8f76-45be-8439-a9e18fbf9776",
   "metadata": {},
   "source": [
    "#### Question 2\n",
    "\n",
    "Draw a stack diagram that shows the state of the program when it prints the result. Draw a stack diagram that shows the state of the\n",
    "program when it prints the result."
   ]
  },
  {
   "cell_type": "markdown",
   "id": "a48167f2-bed5-4156-8e82-147362f8f924",
   "metadata": {},
   "source": [
    "\\#> Answer for Question 2\n",
    "\n",
    "Stack diagram (top to bottom):\n",
    "\n",
    "| Frame    | n | s |\n",
    "|----------|---|---|\n",
    "| recurse  | 0 | 6 |\n",
    "| recurse  | 1 | 5 |\n",
    "| recurse  | 2 | 3 |\n",
    "| recurse  | 3 | 0 |\n",
    "| __main__ |   |   |"
   ]
  },
  {
   "cell_type": "markdown",
   "id": "7cb1d5a4-9ab4-48b2-93c1-e1db34db05d5",
   "metadata": {},
   "source": [
    "#### Question 3\n",
    "\n",
    "What would happen if you called this function like this: recurse(-1, 0)?"
   ]
  },
  {
   "cell_type": "code",
   "execution_count": 4,
   "id": "4643fc32-b29a-41ef-b685-aaa5e6141450",
   "metadata": {},
   "outputs": [
    {
     "ename": "RecursionError",
     "evalue": "maximum recursion depth exceeded",
     "output_type": "error",
     "traceback": [
      "\u001b[0;31m---------------------------------------------------------------------------\u001b[0m",
      "\u001b[0;31mRecursionError\u001b[0m                            Traceback (most recent call last)",
      "Cell \u001b[0;32mIn[4], line 2\u001b[0m\n\u001b[1;32m      1\u001b[0m \u001b[38;5;66;03m# Answer for Question 3\u001b[39;00m\n\u001b[0;32m----> 2\u001b[0m \u001b[43mrecurse\u001b[49m\u001b[43m(\u001b[49m\u001b[38;5;241;43m-\u001b[39;49m\u001b[38;5;241;43m1\u001b[39;49m\u001b[43m,\u001b[49m\u001b[38;5;241;43m0\u001b[39;49m\u001b[43m)\u001b[49m\n\u001b[1;32m      3\u001b[0m \u001b[38;5;66;03m#If you call recurse(-1, 0), it will result in infinite recursion and eventually cause a RuntimeError due to maximum recursion depth being exceeded.\u001b[39;00m\n",
      "Cell \u001b[0;32mIn[2], line 5\u001b[0m, in \u001b[0;36mrecurse\u001b[0;34m(n, s)\u001b[0m\n\u001b[1;32m      3\u001b[0m     \u001b[38;5;28mprint\u001b[39m(s)\n\u001b[1;32m      4\u001b[0m \u001b[38;5;28;01melse\u001b[39;00m:\n\u001b[0;32m----> 5\u001b[0m     \u001b[43mrecurse\u001b[49m\u001b[43m(\u001b[49m\u001b[43mn\u001b[49m\u001b[38;5;241;43m-\u001b[39;49m\u001b[38;5;241;43m1\u001b[39;49m\u001b[43m,\u001b[49m\u001b[43m \u001b[49m\u001b[43mn\u001b[49m\u001b[38;5;241;43m+\u001b[39;49m\u001b[43ms\u001b[49m\u001b[43m)\u001b[49m\n",
      "Cell \u001b[0;32mIn[2], line 5\u001b[0m, in \u001b[0;36mrecurse\u001b[0;34m(n, s)\u001b[0m\n\u001b[1;32m      3\u001b[0m     \u001b[38;5;28mprint\u001b[39m(s)\n\u001b[1;32m      4\u001b[0m \u001b[38;5;28;01melse\u001b[39;00m:\n\u001b[0;32m----> 5\u001b[0m     \u001b[43mrecurse\u001b[49m\u001b[43m(\u001b[49m\u001b[43mn\u001b[49m\u001b[38;5;241;43m-\u001b[39;49m\u001b[38;5;241;43m1\u001b[39;49m\u001b[43m,\u001b[49m\u001b[43m \u001b[49m\u001b[43mn\u001b[49m\u001b[38;5;241;43m+\u001b[39;49m\u001b[43ms\u001b[49m\u001b[43m)\u001b[49m\n",
      "    \u001b[0;31m[... skipping similar frames: recurse at line 5 (2974 times)]\u001b[0m\n",
      "Cell \u001b[0;32mIn[2], line 5\u001b[0m, in \u001b[0;36mrecurse\u001b[0;34m(n, s)\u001b[0m\n\u001b[1;32m      3\u001b[0m     \u001b[38;5;28mprint\u001b[39m(s)\n\u001b[1;32m      4\u001b[0m \u001b[38;5;28;01melse\u001b[39;00m:\n\u001b[0;32m----> 5\u001b[0m     \u001b[43mrecurse\u001b[49m\u001b[43m(\u001b[49m\u001b[43mn\u001b[49m\u001b[38;5;241;43m-\u001b[39;49m\u001b[38;5;241;43m1\u001b[39;49m\u001b[43m,\u001b[49m\u001b[43m \u001b[49m\u001b[43mn\u001b[49m\u001b[38;5;241;43m+\u001b[39;49m\u001b[43ms\u001b[49m\u001b[43m)\u001b[49m\n",
      "\u001b[0;31mRecursionError\u001b[0m: maximum recursion depth exceeded"
     ]
    }
   ],
   "source": [
    "# Answer for Question 3\n",
    "recurse(-1,0)\n",
    "#If you call recurse(-1, 0), it will result in infinite recursion and eventually cause a RuntimeError due to maximum recursion depth being exceeded."
   ]
  },
  {
   "cell_type": "markdown",
   "id": "1b78baa2-5738-4325-bd3d-3966cab89029",
   "metadata": {},
   "source": [
    "#### Question 4\n",
    "\n",
    "Write a docstring that explains everything someone would need to know in order to use this function (and nothing else)."
   ]
  },
  {
   "cell_type": "code",
   "execution_count": 5,
   "id": "2e40d79f-e0f6-4c8a-9960-6f7a72986123",
   "metadata": {},
   "outputs": [],
   "source": [
    "# Answer for Question 4\n",
    "\n",
    "def recurse(n, s):\n",
    "    \"\"\"\n",
    "    Recursively adds the values of n to s, decrementing n each time,\n",
    "    until n reaches 0. Then prints the final sum.\n",
    "\n",
    "    Parameters:\n",
    "    n (int): The starting number and number of recursions. Must be non-negative.\n",
    "    s (int): The initial sum value.\n",
    "\n",
    "    Returns:\n",
    "    None. The function prints the final sum.\n",
    "\n",
    "    Raises:\n",
    "    RuntimeError: If n is negative, causing infinite recursion.\n",
    "\n",
    "    Example:\n",
    "    >>> recurse(3, 0)\n",
    "    6\n",
    "    \"\"\"\n",
    "    if n == 0:\n",
    "        print(s)\n",
    "    else:\n",
    "        recurse(n-1, n+s)"
   ]
  },
  {
   "cell_type": "markdown",
   "id": "0d1eeb59-c910-4744-9fd7-afeea77d38d1",
   "metadata": {},
   "source": [
    "#### Exercise 4.3\n",
    "\n",
    "Use recursion to print the first n terms of the Fibonacci series."
   ]
  },
  {
   "cell_type": "code",
   "execution_count": 7,
   "id": "ae0f8c51-e0c1-4730-93aa-99179386f6d3",
   "metadata": {},
   "outputs": [
    {
     "name": "stdin",
     "output_type": "stream",
     "text": [
      "Enter the number of Fibonacci terms to print:  10\n"
     ]
    },
    {
     "name": "stdout",
     "output_type": "stream",
     "text": [
      "0 1 1 2 3 5 8 13 21 34 \n"
     ]
    }
   ],
   "source": [
    "# Answer for Exercise 4.3\n",
    "\n",
    "def fibonacci(n, a=0, b=1, count=0):\n",
    "    if count < n:\n",
    "        print(a, end=' ')\n",
    "        return fibonacci(n, b, a + b, count + 1)\n",
    "    print()  # Print a newline at the end\n",
    "\n",
    "# Example usage\n",
    "n = int(input(\"Enter the number of Fibonacci terms to print: \"))\n",
    "fibonacci(n)"
   ]
  },
  {
   "cell_type": "markdown",
   "id": "14903901-03b6-4fa3-bb7a-80bea4acc732",
   "metadata": {},
   "source": [
    "#### Exercise 4.4\n",
    "\n",
    "Use recursion to evaluate the factorial of a number."
   ]
  },
  {
   "cell_type": "code",
   "execution_count": 2,
   "id": "65c7d748-af10-45a8-9e7d-103a1effac1d",
   "metadata": {},
   "outputs": [
    {
     "name": "stdin",
     "output_type": "stream",
     "text": [
      "Enter a non-negative integer to calculate its factorial:  5\n"
     ]
    },
    {
     "name": "stdout",
     "output_type": "stream",
     "text": [
      "The factorial of 5 is: 120\n"
     ]
    }
   ],
   "source": [
    "# Answer for Exercise 4.4\n",
    "\n",
    "def factorial(n):\n",
    "    # Base case: factorial of 0 or 1 is 1\n",
    "    if n == 0 or n == 1:\n",
    "        return 1\n",
    "    # Recursive case: n! = n * (n-1)!\n",
    "    else:\n",
    "        return n * factorial(n - 1)\n",
    "\n",
    "# Test the function\n",
    "number = int(input(\"Enter a non-negative integer to calculate its factorial: \"))\n",
    "result = factorial(number)\n",
    "print(f\"The factorial of {number} is: {result}\")"
   ]
  },
  {
   "cell_type": "markdown",
   "id": "ecc3a0af-dce9-48a6-bfd6-cca34bef8141",
   "metadata": {},
   "source": [
    "### Theory:\n",
    "#### Recursion:\n",
    "It is legal for one function to call another; it is also legal for a function to call itself. It turns out to\n",
    "be one of the most magical things a program can do. For first example, "
   ]
  },
  {
   "cell_type": "code",
   "execution_count": 3,
   "id": "45ed8dc0-d5e5-4dc8-bccb-465201971664",
   "metadata": {},
   "outputs": [
    {
     "ename": "NameError",
     "evalue": "name 'n' is not defined",
     "output_type": "error",
     "traceback": [
      "\u001b[0;31m---------------------------------------------------------------------------\u001b[0m",
      "\u001b[0;31mNameError\u001b[0m                                 Traceback (most recent call last)",
      "Cell \u001b[0;32mIn[3], line 6\u001b[0m\n\u001b[1;32m      4\u001b[0m     \u001b[38;5;28;01melse\u001b[39;00m:\n\u001b[1;32m      5\u001b[0m         \u001b[38;5;28mprint\u001b[39m(n)\n\u001b[0;32m----> 6\u001b[0m countdown(\u001b[43mn\u001b[49m\u001b[38;5;241m-\u001b[39m\u001b[38;5;241m1\u001b[39m)\n",
      "\u001b[0;31mNameError\u001b[0m: name 'n' is not defined"
     ]
    }
   ],
   "source": [
    "def countdown(n):\n",
    "    if n <= 0:\n",
    "        print('Blastoff!')\n",
    "    else:\n",
    "        print(n)\n",
    "countdown(n-1)"
   ]
  },
  {
   "cell_type": "code",
   "execution_count": 4,
   "id": "4ce0591f-ad83-4ae8-a9fb-620a260b976b",
   "metadata": {},
   "outputs": [
    {
     "name": "stdout",
     "output_type": "stream",
     "text": [
      "4\n"
     ]
    }
   ],
   "source": [
    "countdown(4)"
   ]
  },
  {
   "cell_type": "code",
   "execution_count": null,
   "id": "844e0420-76c2-4dc9-b827-a683ff6b762b",
   "metadata": {},
   "outputs": [],
   "source": []
  }
 ],
 "metadata": {
  "kernelspec": {
   "display_name": "Python 3 (ipykernel)",
   "language": "python",
   "name": "python3"
  },
  "language_info": {
   "codemirror_mode": {
    "name": "ipython",
    "version": 3
   },
   "file_extension": ".py",
   "mimetype": "text/x-python",
   "name": "python",
   "nbconvert_exporter": "python",
   "pygments_lexer": "ipython3",
   "version": "3.12.4"
  }
 },
 "nbformat": 4,
 "nbformat_minor": 5
}
