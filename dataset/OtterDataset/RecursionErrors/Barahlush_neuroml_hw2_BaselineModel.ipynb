{
 "cells": [
  {
   "cell_type": "markdown",
   "metadata": {
    "colab_type": "text",
    "id": "_6YeoOEpJpy4"
   },
   "source": [
    "# **Biomarker regions segmentation with 3D U-net**"
   ]
  },
  {
   "cell_type": "markdown",
   "metadata": {
    "colab_type": "text",
    "id": "7LqQkmVuLi6o"
   },
   "source": [
    "### 1. Setup"
   ]
  },
  {
   "cell_type": "code",
   "execution_count": 16,
   "metadata": {
    "colab": {},
    "colab_type": "code",
    "id": "MSzOne1OItfJ"
   },
   "outputs": [
    {
     "name": "stderr",
     "output_type": "stream",
     "text": [
      "[autoreload of utils.data failed: Traceback (most recent call last):\n",
      "  File \"/usr/local/lib/python3.7/dist-packages/IPython/extensions/autoreload.py\", line 247, in check\n",
      "    superreload(m, reload, self.old_objects)\n",
      "RecursionError: maximum recursion depth exceeded\n",
      "]\n"
     ]
    },
    {
     "name": "stdout",
     "output_type": "stream",
     "text": [
      "The autoreload extension is already loaded. To reload it, use:\n",
      "  %reload_ext autoreload\n"
     ]
    }
   ],
   "source": [
    "!pip install --quiet --upgrade comet_ml python-dotenv nilearn torchio unet\n",
    "\n",
    "import scipy as sp\n",
    "import scipy.misc\n",
    "import matplotlib.pyplot as plt\n",
    "import numpy as np\n",
    "import os\n",
    "from comet_ml import Experiment\n",
    "from dotenv import load_dotenv\n",
    "import nilearn\n",
    "from nilearn import plotting\n",
    "import pandas as pd\n",
    "from tqdm import tqdm\n",
    "import warnings\n",
    "from google.colab import drive\n",
    "\n",
    "%load_ext autoreload\n",
    "%autoreload 2\n",
    "%matplotlib inline"
   ]
  },
  {
   "cell_type": "code",
   "execution_count": 42,
   "metadata": {
    "colab": {
     "base_uri": "https://localhost:8080/",
     "height": 72
    },
    "colab_type": "code",
    "id": "qZVui824s_Mr",
    "outputId": "71063895-43b9-4e69-b85e-7778192f068a"
   },
   "outputs": [
    {
     "name": "stdout",
     "output_type": "stream",
     "text": [
      "Drive already mounted at /content/drive; to attempt to forcibly remount, call drive.mount(\"/content/drive\", force_remount=True).\n"
     ]
    }
   ],
   "source": [
    "# Load environment variables from a file called `.env` \n",
    "# (its contents should be smth like \"COMET_API_KEY=<your API key>\")\n",
    "load_dotenv()\n",
    "### Variables I used:\n",
    "# COMET_API_KEY - comet API key\n",
    "# DATA_DIR - `anat` directory path in my Google Drive\n",
    "\n",
    "drive.mount('/content/drive')"
   ]
  },
  {
   "cell_type": "markdown",
   "metadata": {
    "colab_type": "text",
    "id": "OUZAi8kCQQA_"
   },
   "source": [
    "#### 4. Writing dataloader"
   ]
  },
  {
   "cell_type": "markdown",
   "metadata": {
    "colab_type": "text",
    "id": "wrYEX6rRRosY"
   },
   "source": [
    "We will use `TorchIO` library: https://torchio.readthedocs.io/"
   ]
  },
  {
   "cell_type": "code",
   "execution_count": 14,
   "metadata": {
    "colab": {
     "base_uri": "https://localhost:8080/",
     "height": 104
    },
    "colab_type": "code",
    "id": "hY1xztsiQPPO",
    "outputId": "e35ad492-d8f3-4183-9702-fcf5424764fc"
   },
   "outputs": [],
   "source": [
    "from utils.data import read_data, prepare_batch, prepare_aseg, MRI, LABEL\n",
    "from utils.vizualization import *\n",
    "from torch.utils.data import DataLoader, Subset\n",
    "from torchio import AFFINE, DATA, PATH, TYPE, STEM"
   ]
  },
  {
   "cell_type": "code",
   "execution_count": 21,
   "metadata": {
    "colab": {},
    "colab_type": "code",
    "id": "yCUWSvOHkASt"
   },
   "outputs": [
    {
     "name": "stderr",
     "output_type": "stream",
     "text": [
      "[autoreload of utils.data failed: Traceback (most recent call last):\n",
      "  File \"/usr/local/lib/python3.7/dist-packages/IPython/extensions/autoreload.py\", line 247, in check\n",
      "    superreload(m, reload, self.old_objects)\n",
      "RecursionError: maximum recursion depth exceeded\n",
      "]\n"
     ]
    },
    {
     "data": {
      "application/vnd.jupyter.widget-view+json": {
       "model_id": "2c3551a9624742fab0fc8e734cb1954d",
       "version_major": 2,
       "version_minor": 0
      },
      "text/plain": [
       "  0%|          | 0/854 [00:00<?, ?it/s]"
      ]
     },
     "metadata": {},
     "output_type": "display_data"
    }
   ],
   "source": [
    "data, subjects = read_data(training=True)\n",
    "testing_data, testing_subjects = read_data(training=False)\n",
    "crop = (49, 22, 49, 47, 19, 28)"
   ]
  },
  {
   "cell_type": "markdown",
   "metadata": {
    "colab_type": "text",
    "id": "kGRajfc3Itfc"
   },
   "source": [
    "## 2. Whole brain segmentation"
   ]
  },
  {
   "cell_type": "markdown",
   "metadata": {
    "colab_type": "text",
    "id": "irNwaqb6_q-c"
   },
   "source": [
    "Let's define the experiment for whole brain segmentation:"
   ]
  },
  {
   "cell_type": "code",
   "execution_count": 22,
   "metadata": {
    "colab": {},
    "colab_type": "code",
    "id": "i-xODpTdPbvK"
   },
   "outputs": [],
   "source": [
    "import torch\n",
    "import torch.nn as nn\n",
    "import torch.nn.functional as F\n",
    "from torch.autograd import Variable\n",
    "from torchvision.models.vgg import vgg11_bn\n",
    "from torch.autograd import Function, Variable\n",
    "from torch.utils.data import DataLoader, Subset\n",
    "import torch.backends.cudnn as cudnn\n",
    "from torch import optim\n",
    "from utils.training import DiceLoss\n",
    "\n",
    "import random\n",
    "import numpy as np\n",
    "import pandas as pd\n",
    "\n",
    "import sys\n",
    "import os\n",
    "from optparse import OptionParser\n",
    "import time\n",
    "\n",
    "import torchio\n",
    "from torchio import transforms\n",
    "\n",
    "from IPython.display import clear_output\n",
    "import matplotlib.pyplot as plt\n",
    "from unet import UNet\n",
    "\n",
    "from sklearn.model_selection import train_test_split, StratifiedKFold, ShuffleSplit\n",
    "\n",
    "import warnings\n",
    "import multiprocessing"
   ]
  },
  {
   "cell_type": "code",
   "execution_count": 67,
   "metadata": {
    "colab": {
     "base_uri": "https://localhost:8080/",
     "height": 52
    },
    "colab_type": "code",
    "id": "x524TiSBt7KK",
    "outputId": "e3f87ce8-24fd-4ebb-869e-15628cdc922f"
   },
   "outputs": [
    {
     "name": "stdout",
     "output_type": "stream",
     "text": [
      "Training set: 405 subjects\n",
      "Validation set: 22 subjects\n",
      "Testing set: 3 subjects\n"
     ]
    }
   ],
   "source": [
    "num_subjects = len(data)\n",
    "\n",
    "training_split_ratio = 0.9\n",
    "\n",
    "train_transform = transforms.Compose([\n",
    "    # several_transforms,\n",
    "    transforms.Crop(crop),\n",
    "    transforms.Pad(4)\n",
    "])\n",
    "\n",
    "validation_transform = None\n",
    "\n",
    "training_subjects, validation_subjects = train_test_split(\n",
    "    subjects, train_size=training_split_ratio, shuffle=True, random_state=42\n",
    ")\n",
    "\n",
    "val_idxs = np.arange(0, len(data), 20).astype(int)\n",
    "train_idxs = np.setdiff1d(np.arange(len(data)), val_idxs).astype(int)\n",
    "\n",
    "training_subjects = np.take(subjects, train_idxs).tolist()\n",
    "validation_subjects = np.take(subjects, val_idxs).tolist()\n",
    "\n",
    "#training_subjects = subjects[:20]\n",
    "#validation_subjects = subjects[20:40]\n",
    "\n",
    "training_set = torchio.SubjectsDataset(\n",
    "    training_subjects, transform=train_transform)\n",
    "\n",
    "validation_set = torchio.SubjectsDataset(\n",
    "    validation_subjects, transform=validation_transform)\n",
    "\n",
    "testing_set = torchio.SubjectsDataset(\n",
    "    testing_subjects, transform=validation_transform)\n",
    "\n",
    "print('Training set:', len(training_set), 'subjects')\n",
    "print('Validation set:', len(validation_set), 'subjects')\n",
    "print('Testing set:', len(testing_set), 'subjects')"
   ]
  },
  {
   "cell_type": "markdown",
   "metadata": {
    "colab_type": "text",
    "id": "olI1JmOGvotO"
   },
   "source": [
    "#### Defining the model and optimizer for training\n",
    "\n",
    "At first check if we have GPU onborad:"
   ]
  },
  {
   "cell_type": "code",
   "execution_count": 57,
   "metadata": {
    "colab": {},
    "colab_type": "code",
    "id": "46QNsxiDxpcy"
   },
   "outputs": [],
   "source": [
    "if torch.cuda.is_available():\n",
    "    device = torch.device(\"cuda:0\")\n",
    "else:\n",
    "    device = torch.device(\"cpu\")"
   ]
  },
  {
   "cell_type": "code",
   "execution_count": 58,
   "metadata": {
    "colab": {},
    "colab_type": "code",
    "id": "_CTdHHAt0aYW"
   },
   "outputs": [],
   "source": [
    "def get_model_and_optimizer(device, num_encoding_blocks=4, out_channels_first_layer=8, patience=3):\n",
    "    #Better to train with num_encoding_blocks >=3, out_channels_first_layer>=4 '''\n",
    "    #repoducibility\n",
    "    torch.manual_seed(0)\n",
    "    np.random.seed(0)\n",
    "    torch.backends.cudnn.deterministic = True\n",
    "    torch.backends.cudnn.benchmark = False\n",
    "      \n",
    "    model = UNet(\n",
    "          in_channels=1,\n",
    "          out_classes=6,\n",
    "          dimensions=3,\n",
    "          num_encoding_blocks=num_encoding_blocks,\n",
    "          out_channels_first_layer=out_channels_first_layer,\n",
    "          normalization='batch',\n",
    "          upsampling_type='linear',\n",
    "          padding=True,\n",
    "          activation='PReLU',\n",
    "      ).to(device)\n",
    "      \n",
    "    optimizer = torch.optim.AdamW(model.parameters())\n",
    "    # scheduler = torch.optim.lr_scheduler.StepLR(optimizer, step_size=3, gamma=0.7)\n",
    "    scheduler = torch.optim.lr_scheduler.ReduceLROnPlateau(optimizer, mode='min', factor=0.1, patience=patience, threshold=0.01)\n",
    "    \n",
    "    return model, optimizer, scheduler\n",
    "\n",
    "# model, optimizer, scheduler = get_model_and_optimizer(device)"
   ]
  },
  {
   "cell_type": "markdown",
   "metadata": {
    "colab_type": "text",
    "id": "EqlxW7dBItfq"
   },
   "source": [
    "## 3. Patch-based segmentation"
   ]
  },
  {
   "cell_type": "markdown",
   "metadata": {
    "colab_type": "text",
    "id": "uQb_H1u4-Mzu"
   },
   "source": [
    "Let's fedine another experiment within the same workspace in `COMET ML`:"
   ]
  },
  {
   "cell_type": "code",
   "execution_count": 66,
   "metadata": {
    "colab": {},
    "colab_type": "code",
    "id": "V-x4kQJm-NRG"
   },
   "outputs": [
    {
     "name": "stderr",
     "output_type": "stream",
     "text": [
      "COMET WARNING: As you are running in a Jupyter environment, you will need to call `experiment.end()` when finished to ensure all metrics and code are logged before exiting.\n",
      "COMET INFO: Experiment is live on comet.ml https://www.comet.ml/barahlush/neuroml-hw2/916a880a7a92434c8be97e8fa6b15d68\n",
      "\n"
     ]
    }
   ],
   "source": [
    "\n",
    "experiment = Experiment(\n",
    "    project_name=\"neuroml-hw2\",\n",
    "    workspace=\"barahlush\",\n",
    ")\n",
    "\n",
    "experiment.set_name(\"Base model, 6 classes, 4 encoding blocks, 8 out, Patch based, 64 batch, crop\")"
   ]
  },
  {
   "cell_type": "code",
   "execution_count": 55,
   "metadata": {},
   "outputs": [
    {
     "name": "stderr",
     "output_type": "stream",
     "text": [
      "COMET INFO: ---------------------------\n",
      "COMET INFO: Comet.ml Experiment Summary\n",
      "COMET INFO: ---------------------------\n",
      "COMET INFO:   Data:\n",
      "COMET INFO:     display_summary_level : 1\n",
      "COMET INFO:     url                   : https://www.comet.ml/barahlush/neuroml-hw2/03fa11c1b2f343b0a58ab0b8ebb1ab83\n",
      "COMET INFO:   Metrics:\n",
      "COMET INFO:     avg_val_dice : 0.08556292002851312\n",
      "COMET INFO:   Others:\n",
      "COMET INFO:     Name : Default experiment, 6 classes, 4 encoding blocks, 8 out, Patch based, 64 batch, crop\n",
      "COMET INFO:   Uploads:\n",
      "COMET INFO:     environment details      : 1\n",
      "COMET INFO:     filename                 : 1\n",
      "COMET INFO:     git metadata             : 1\n",
      "COMET INFO:     git-patch (uncompressed) : 1 (9.42 KB)\n",
      "COMET INFO:     installed packages       : 1\n",
      "COMET INFO:     notebook                 : 1\n",
      "COMET INFO:     os packages              : 1\n",
      "COMET INFO:     source_code              : 1\n",
      "COMET INFO: ---------------------------\n",
      "COMET INFO: Uploading metrics, params, and assets to Comet before program termination (may take several seconds)\n",
      "COMET INFO: The Python SDK has 3600 seconds to finish before aborting...\n"
     ]
    }
   ],
   "source": [
    "#experiment.end()"
   ]
  },
  {
   "cell_type": "code",
   "execution_count": 68,
   "metadata": {
    "colab": {},
    "colab_type": "code",
    "id": "sOzdJAykItfw"
   },
   "outputs": [],
   "source": [
    "patch_size = 64\n",
    "samples_per_volume = 8\n",
    "max_queue_length = 240\n",
    "training_batch_size = 16\n",
    "validation_batch_size = 4\n",
    "num_training_workers = 8\n",
    "num_validation_workers = 1\n",
    "\n",
    "patches_training_set = torchio.Queue(\n",
    "    subjects_dataset=training_set,\n",
    "    max_length=max_queue_length,\n",
    "    samples_per_volume=samples_per_volume,\n",
    "    sampler=torchio.sampler.UniformSampler(patch_size),\n",
    "#     num_workers=num_training_workers,\n",
    "    shuffle_subjects=True,\n",
    "    shuffle_patches=True,\n",
    ")\n",
    "\n",
    "patches_validation_set = torchio.Queue(\n",
    "    subjects_dataset=validation_set,\n",
    "    max_length=max_queue_length,\n",
    "    samples_per_volume=samples_per_volume,\n",
    "    sampler=torchio.sampler.UniformSampler(patch_size),\n",
    "#     num_workers=num_validation_workers,\n",
    "    shuffle_subjects=False,\n",
    "    shuffle_patches=False,\n",
    ")\n",
    "\n",
    "training_loader = torch.utils.data.DataLoader(\n",
    "    patches_training_set, batch_size=training_batch_size)\n",
    "\n",
    "validation_loader = torch.utils.data.DataLoader(\n",
    "    patches_validation_set, batch_size=validation_batch_size, shuffle=False)"
   ]
  },
  {
   "cell_type": "code",
   "execution_count": 69,
   "metadata": {
    "colab": {},
    "colab_type": "code",
    "id": "UEOsawhiItf3"
   },
   "outputs": [],
   "source": [
    "import SimpleITK as sitk\n",
    "from collections import Counter\n",
    "import enum\n",
    "model_dir = 'checkpoints'\n",
    "\n",
    "class Action(enum.Enum):\n",
    "    TRAIN = 'Training'\n",
    "    VALIDATE = 'Validation'\n",
    "\n",
    "def evaluate(model, evaluation_set, patch_size=64, patch_overlap=0):\n",
    "    dice_scores = []\n",
    "    iou_scores = []\n",
    "    dice_loss = DiceLoss(6)\n",
    "    \n",
    "    for i in tqdm(range(len(evaluation_set)), leave=False):\n",
    "        sample = evaluation_set[i]\n",
    "        input_tensor = sample[MRI][DATA][0]\n",
    "        targets = torch.from_numpy(\n",
    "            prepare_aseg(sample[LABEL][DATA])\n",
    "        \n",
    "        )\n",
    "        \n",
    "        grid_sampler = torchio.inference.GridSampler(\n",
    "            sample,\n",
    "            patch_size,\n",
    "            patch_overlap,\n",
    "        )\n",
    "        \n",
    "        patch_loader = torch.utils.data.DataLoader(\n",
    "            grid_sampler, batch_size=validation_batch_size)\n",
    "    \n",
    "        aggregator = torchio.inference.GridAggregator(grid_sampler)\n",
    "        \n",
    "        model.eval()\n",
    "        \n",
    "        with torch.no_grad():\n",
    "            for patches_batch in patch_loader:\n",
    "                inputs = patches_batch[MRI][DATA].to(device)\n",
    "                locations = patches_batch['location']\n",
    "                logits = model(inputs.float())\n",
    "        \n",
    "                aggregator.add_batch(logits, locations)\n",
    "            \n",
    "            prediction = aggregator.get_output_tensor()            \n",
    "            dice_loss_, dice_score_ = dice_loss(prediction.unsqueeze(0), \n",
    "                                                targets, \n",
    "                                                softmax=True)\n",
    "            \n",
    "            dice_scores.append(dice_score_)\n",
    "            \n",
    "    return {\n",
    "        'dice': dice_scores\n",
    "    }\n",
    "\n",
    "\n",
    "def train(num_epochs, training_loader, validation_set, model, optimizer, scheduler=None,\n",
    "          weights_stem='', patch_size=64, patch_overlap=0):\n",
    "    \n",
    "    scores = evaluate(model, validation_set, patch_size=patch_size, patch_overlap=patch_overlap)\n",
    "    \n",
    "    for key in scores:\n",
    "        scores[key] = np.mean(scores[key])\n",
    "        experiment.log_metric(f\"avg_val_{key}\", scores[key], step=0, epoch=0)\n",
    "        \n",
    "    best_dice = scores['dice']\n",
    "    print(f\"Validation mean score: DICE {scores['dice']:0.3f}\", \"by class:\",scores[key] )    \n",
    "    \n",
    "    step_counter = Counter()\n",
    "    torch.save(model.state_dict(), os.path.join(model_dir, f'model_{weights_stem}.pth'))\n",
    "    for epoch_idx in range(1, num_epochs + 1):\n",
    "        print('\\nStarting epoch', epoch_idx)\n",
    "        run_epoch(epoch_idx, Action.TRAIN, training_loader, model, optimizer, step_counter,\n",
    "                  scheduler=scheduler)\n",
    "        \n",
    "        scores = evaluate(model, validation_set, patch_size=patch_size, patch_overlap=patch_overlap)\n",
    "        for key in scores:\n",
    "            scores[key] = np.mean(scores[key])\n",
    "            experiment.log_metric(f\"avg_val_{key}\", scores[key], step=epoch_idx, epoch=epoch_idx)\n",
    "            \n",
    "        print(f\"Validation mean score: DICE {scores['dice']:0.3f}\")    \n",
    "        \n",
    "        avg_dice = scores['dice']\n",
    "        if avg_dice > best_dice:\n",
    "            best_dice = avg_dice\n",
    "            torch.save(model.state_dict(), os.path.join(model_dir, f'model_{weights_stem}.pth'))\n",
    "        \n",
    "        \n",
    "def run_epoch(epoch_idx, action, loader, model, optimizer, step_counter, scheduler=None):\n",
    "    is_training = action == Action.TRAIN\n",
    "    dice_loss = DiceLoss(6)\n",
    "    epoch_losses = []\n",
    "    model.train(is_training)\n",
    "    \n",
    "    for batch_idx, batch in enumerate(tqdm(loader, leave=False)):\n",
    "        inputs, targets = prepare_batch(batch, device)\n",
    "        optimizer.zero_grad()\n",
    "        with torch.set_grad_enabled(is_training):\n",
    "            logits = model(inputs.float())\n",
    "            batch_losses, score_dice = dice_loss(logits, \n",
    "                                                 targets.squeeze(1), \n",
    "                                                 softmax=True)\n",
    "            batch_loss = batch_losses.mean() \n",
    "            if is_training:\n",
    "                batch_loss.backward()\n",
    "                optimizer.step()\n",
    "                \n",
    "            epoch_losses.append(batch_loss.item())\n",
    "            if action == Action.TRAIN:\n",
    "                experiment.log_metric(\"train_dice_loss\", batch_loss.item(),\n",
    "                                      epoch=epoch_idx, step=step_counter[action])\n",
    "            elif action == Action.VALIDATE:\n",
    "                experiment.log_metric(\"val_dice_loss\", batch_loss.item(),\n",
    "                                      epoch=epoch_idx, step=step_counter[action])\n",
    "            step_counter[action] += 1\n",
    "    \n",
    "    epoch_losses = np.array(epoch_losses)\n",
    "    avg_loss = epoch_losses.mean()\n",
    "    \n",
    "    if action == Action.TRAIN:\n",
    "        experiment.log_metric(\"avg_train_dice_loss\", avg_loss, step=epoch_idx, epoch=epoch_idx)\n",
    "        if scheduler:\n",
    "            scheduler.step(avg_loss)\n",
    "    \n",
    "    elif action == Action.VALIDATE:\n",
    "        experiment.log_metric(\"avg_val_dice\", 1 - avg_loss, step=epoch_idx, epoch=epoch_idx)\n",
    "    \n",
    "    print(f'{action.value} mean loss: {avg_loss:0.3f}')\n",
    "    return avg_loss\n"
   ]
  },
  {
   "cell_type": "code",
   "execution_count": 70,
   "metadata": {},
   "outputs": [],
   "source": [
    "torch.cuda.empty_cache()"
   ]
  },
  {
   "cell_type": "code",
   "execution_count": null,
   "metadata": {
    "colab": {},
    "colab_type": "code",
    "id": "qHEFs-YKItf5"
   },
   "outputs": [
    {
     "name": "stderr",
     "output_type": "stream",
     "text": [
      "                                               \r"
     ]
    },
    {
     "name": "stdout",
     "output_type": "stream",
     "text": [
      "Validation mean score: DICE 0.086 by class: 0.08556292002851312\n",
      "\n",
      "Starting epoch 1\n"
     ]
    },
    {
     "name": "stderr",
     "output_type": "stream",
     "text": [
      "                                                 \r"
     ]
    },
    {
     "name": "stdout",
     "output_type": "stream",
     "text": [
      "Training mean loss: 0.491\n"
     ]
    },
    {
     "name": "stderr",
     "output_type": "stream",
     "text": [
      "                                               \r"
     ]
    },
    {
     "name": "stdout",
     "output_type": "stream",
     "text": [
      "Validation mean score: DICE 0.690\n",
      "\n",
      "Starting epoch 2\n"
     ]
    },
    {
     "name": "stderr",
     "output_type": "stream",
     "text": [
      " 21%|██        | 43/203 [01:28<04:41,  1.76s/it]"
     ]
    }
   ],
   "source": [
    "model, optimizer, scheduler = get_model_and_optimizer(device)\n",
    "\n",
    "num_epochs = 10\n",
    "weights_stem = '6_classes_4_blocks_8_chanels'\n",
    "\n",
    "torch.manual_seed(42)\n",
    "np.random.seed(42)\n",
    "\n",
    "train(num_epochs, training_loader, validation_set, model, optimizer, scheduler,\n",
    "      weights_stem=weights_stem, patch_overlap=0)"
   ]
  },
  {
   "cell_type": "code",
   "execution_count": 68,
   "metadata": {},
   "outputs": [
    {
     "name": "stderr",
     "output_type": "stream",
     "text": [
      "  0%|          | 0/10 [00:00<?, ?it/s]"
     ]
    },
    {
     "data": {
      "image/png": "[encoded data removed]",
      "text/plain": [
       "<Figure size 432x288 with 1 Axes>"
      ]
     },
     "metadata": {
      "needs_background": "light"
     },
     "output_type": "display_data"
    },
    {
     "data": {
      "image/png": "[encoded data removed]",
      "text/plain": [
       "<Figure size 432x288 with 1 Axes>"
      ]
     },
     "metadata": {
      "needs_background": "light"
     },
     "output_type": "display_data"
    },
    {
     "data": {
      "image/png": "[encoded data removed]",
      "text/plain": [
       "<Figure size 432x288 with 1 Axes>"
      ]
     },
     "metadata": {
      "needs_background": "light"
     },
     "output_type": "display_data"
    },
    {
     "name": "stdout",
     "output_type": "stream",
     "text": [
      "torch.Size([16, 1, 64, 64, 64]) torch.Size([16, 6, 64, 64, 64])\n",
      "torch.Size([16, 64, 64, 64]) torch.Size([16, 6, 64, 64, 64])\n"
     ]
    },
    {
     "data": {
      "image/png": "[encoded data removed]",
      "text/plain": [
       "<Figure size 432x288 with 1 Axes>"
      ]
     },
     "metadata": {
      "needs_background": "light"
     },
     "output_type": "display_data"
    },
    {
     "name": "stdout",
     "output_type": "stream",
     "text": [
      "[0.31433534622192383, 0.07340216636657715, 0.04025423526763916, 0.04666447639465332, 0.0254785418510437, 0.2795277237892151]\n"
     ]
    }
   ],
   "source": [
    "# checking\n",
    "enum = enumerate(tqdm(training_loader))\n",
    "_, batch = next(enum)\n",
    "inputs, targets = prepare_batch(batch, 'cuda:0')\n",
    "\n",
    "\n",
    "plt.imshow(inputs.cpu()[2, 0, 32])\n",
    "plt.show()\n",
    "plt.imshow(targets.cpu()[2, 0, 32])\n",
    "plt.show()\n",
    "\n",
    "labels = model(inputs.float())\n",
    "plt.imshow(labels.cpu().detach().numpy()[2, 0, 32])\n",
    "plt.show()\n",
    "\n",
    "print(targets.size(), labels.size())\n",
    "dice_loss = DiceLoss(6)\n",
    "\n",
    "dice_loss_, dice = dice_loss(labels, targets.squeeze(1), softmax=True)\n",
    "print(targets.squeeze(1).size(), labels.size())\n",
    "\n",
    "pred = labels.argmax(1,True) #([16, 2, 64, 64, 64])\n",
    "plt.imshow(pred.cpu().numpy()[2,0, 32])\n",
    "plt.show()\n",
    "\n",
    "print(dice)"
   ]
  },
  {
   "cell_type": "code",
   "execution_count": null,
   "metadata": {},
   "outputs": [],
   "source": [
    "model.load_state_dict(torch.load(os.path.join(model_dir, f'model_{weights_stem}.pth'), map_location=device))\n",
    "test_scores = evaluate(model, testing_set, patch_size=64, patch_overlap=0)\n",
    "print(test_scores)\n",
    "print(f\"\\nTesting mean score: DICE {np.mean(test_scores['dice']):0.3f}\")  "
   ]
  },
  {
   "cell_type": "code",
   "execution_count": null,
   "metadata": {},
   "outputs": [],
   "source": [
    "experiment.log_metric(\"avg_test_dice\", np.mean(test_scores['dice']))\n",
    "for i, subject in enumerate(test_subjects):\n",
    "    experiment.log_metric(f\"test_subj_{subject}_dice\", np.mean(test_scores['dice'][i]))"
   ]
  },
  {
   "cell_type": "code",
   "execution_count": null,
   "metadata": {
    "colab": {},
    "colab_type": "code",
    "id": "gXH2vflNItf6"
   },
   "outputs": [],
   "source": [
    "import nibabel as nib\n",
    "sample = random.choice(validation_set)\n",
    "input_tensor = sample[MRI][DATA][0]\n",
    "patch_size = 64, 64, 64  # we can user larger or smaller patches for inference\n",
    "patch_overlap = 20\n",
    "grid_sampler = torchio.inference.GridSampler(\n",
    "    sample,\n",
    "    patch_size,\n",
    "    patch_overlap,\n",
    ")\n",
    "patch_loader = torch.utils.data.DataLoader(\n",
    "    grid_sampler, batch_size=validation_batch_size)\n",
    "aggregator = torchio.inference.GridAggregator(grid_sampler)\n",
    "\n",
    "model.eval()\n",
    "with torch.no_grad():\n",
    "    for patches_batch in patch_loader:\n",
    "        inputs = patches_batch[MRI][DATA].to(device)\n",
    "#         print(inputs.unique())\n",
    "        locations = patches_batch['location']\n",
    "        logits = model(inputs.float())\n",
    "        labels = logits.argmax(dim=1, keepdim=True)\n",
    "        aggregator.add_batch(labels, locations)\n",
    "        \n",
    "plot_central_cuts(aggregator.get_output_tensor())"
   ]
  },
  {
   "cell_type": "markdown",
   "metadata": {},
   "source": [
    "### Check the experiments with with different clasess, and baseline one:\n",
    "\n",
    "**Baseline** - \"6 classes, 4 encoding blocks, 8 out, Patch based, 64 batch, crop\"\n",
    "https://www.comet.ml/kondratevakate/mri-segmentation-2021/view/Q6KVHNSRxQ22hC0oM7NL1rF1B"
   ]
  },
  {
   "cell_type": "markdown",
   "metadata": {},
   "source": [
    "### Extra part:\n",
    "#### If you want to log your images, you may start with that code:"
   ]
  },
  {
   "cell_type": "code",
   "execution_count": null,
   "metadata": {},
   "outputs": [],
   "source": [
    "from einops import rearrange\n",
    "from torchvision.utils import make_grid\n",
    "\n",
    "images_grid = []\n",
    "val_dice = []\n",
    "model.train(False)\n",
    "dice_loss = DiceLoss(6)\n",
    "\n",
    "for batch_idx, batch in enumerate(tqdm(validation_loader)):\n",
    "    inputs, targets = prepare_batch(batch, device)\n",
    "    batch_size, _, patch_d = inputs.shape[:3]\n",
    "\n",
    "    with torch.no_grad():\n",
    "        logits = model(inputs.float())\n",
    "        probabilities = F.softmax(logits, dim=CHANNELS_DIMENSION)\n",
    "        \n",
    "        for sample_idx in range(batch_size):\n",
    "            # appending the predicted and gt picture (central slices)\n",
    "            pred = 1 - torch.argmax(logits[sample_idx], dim=0)\n",
    "            \n",
    "            pred_slice = pred[patch_d // 2]\n",
    "            gt_slice   = targets[sample_idx, 0, patch_d // 2]\n",
    "            images_grid.append(make_grid([rearrange(pred_slice.float(), '(c h) w -> c h w',  c=1), \n",
    "                                          rearrange(gt_slice.float(), '(c h) w -> c h w', c=1)], \n",
    "                                         nrow=1))\n",
    "            \n",
    "            dice_loss_, sample_dice = dice_loss(logits,\n",
    "                                                 targets.squeeze(1), \n",
    "                                                 softmax=True)\n",
    "            \n",
    "            val_dice.append(sample_dice)            \n",
    "        \n",
    "        del inputs, targets, logits, probabilities, sample_dice, pred\n",
    "        \n",
    "images_per_pic = 16\n",
    "\n",
    "for i in range(0, len(images_grid), images_per_pic):\n",
    "    grid_img = make_grid(images_grid[i:i + images_per_pic])\n",
    "    grid_img = rearrange(grid_img.cpu().numpy(), 'c h w -> h w c')\n",
    "    plt.figure(figsize=(20, 20))\n",
    "    plt.imshow(grid_img)\n",
    "    plt.show()\n",
    "    experiment.log_image(grid_img, name='val patches (odd rows -- pred, even rows -- gt)')"
   ]
  },
  {
   "cell_type": "markdown",
   "metadata": {},
   "source": [
    "Yes, you get a full solution it your hands, yet keep in mind - it is just your baseline. You should experiment with the augmentations, losses and build a story of your model development."
   ]
  }
 ],
 "metadata": {
  "accelerator": "GPU",
  "colab": {
   "name": "mri_3DUnet.ipynb",
   "provenance": [],
   "toc_visible": true
  },
  "kernelspec": {
   "display_name": "Python 3",
   "language": "python",
   "name": "python3"
  },
  "language_info": {
   "codemirror_mode": {
    "name": "ipython",
    "version": 3
   },
   "file_extension": ".py",
   "mimetype": "text/x-python",
   "name": "python",
   "nbconvert_exporter": "python",
   "pygments_lexer": "ipython3",
   "version": "3.7.12"
  }
 },
 "nbformat": 4,
 "nbformat_minor": 4
}
