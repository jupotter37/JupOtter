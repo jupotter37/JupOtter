{
 "cells": [
  {
   "cell_type": "markdown",
   "id": "0ae5682b",
   "metadata": {},
   "source": [
    "## Write a function named ack that evaluates the Ackermann function. Use your function to evaluate ack(2,4). What happens for larger values of m and n?\n"
   ]
  },
  {
   "cell_type": "code",
   "execution_count": 2,
   "id": "0360d513",
   "metadata": {},
   "outputs": [
    {
     "name": "stdout",
     "output_type": "stream",
     "text": [
      "ack(2, 4) = 11\n"
     ]
    },
    {
     "ename": "RecursionError",
     "evalue": "maximum recursion depth exceeded",
     "output_type": "error",
     "traceback": [
      "\u001b[0;31m---------------------------------------------------------------------------\u001b[0m",
      "\u001b[0;31mRecursionError\u001b[0m                            Traceback (most recent call last)",
      "Cell \u001b[0;32mIn[2], line 11\u001b[0m\n\u001b[1;32m      9\u001b[0m a \u001b[38;5;241m=\u001b[39m ack(\u001b[38;5;241m2\u001b[39m, \u001b[38;5;241m4\u001b[39m)\n\u001b[1;32m     10\u001b[0m \u001b[38;5;28mprint\u001b[39m(\u001b[38;5;124m\"\u001b[39m\u001b[38;5;124mack(2, 4) =\u001b[39m\u001b[38;5;124m\"\u001b[39m, a)\n\u001b[0;32m---> 11\u001b[0m a \u001b[38;5;241m=\u001b[39m ack(\u001b[38;5;241m90000\u001b[39m,\u001b[38;5;241m1000000\u001b[39m)\n",
      "Cell \u001b[0;32mIn[2], line 7\u001b[0m, in \u001b[0;36mack\u001b[0;34m(m, n)\u001b[0m\n\u001b[1;32m      5\u001b[0m     \u001b[38;5;28;01mreturn\u001b[39;00m ack(m \u001b[38;5;241m-\u001b[39m \u001b[38;5;241m1\u001b[39m, \u001b[38;5;241m1\u001b[39m)\n\u001b[1;32m      6\u001b[0m \u001b[38;5;28;01melse\u001b[39;00m:\n\u001b[0;32m----> 7\u001b[0m     \u001b[38;5;28;01mreturn\u001b[39;00m ack(m \u001b[38;5;241m-\u001b[39m \u001b[38;5;241m1\u001b[39m, ack(m, n \u001b[38;5;241m-\u001b[39m \u001b[38;5;241m1\u001b[39m))\n",
      "Cell \u001b[0;32mIn[2], line 7\u001b[0m, in \u001b[0;36mack\u001b[0;34m(m, n)\u001b[0m\n\u001b[1;32m      5\u001b[0m     \u001b[38;5;28;01mreturn\u001b[39;00m ack(m \u001b[38;5;241m-\u001b[39m \u001b[38;5;241m1\u001b[39m, \u001b[38;5;241m1\u001b[39m)\n\u001b[1;32m      6\u001b[0m \u001b[38;5;28;01melse\u001b[39;00m:\n\u001b[0;32m----> 7\u001b[0m     \u001b[38;5;28;01mreturn\u001b[39;00m ack(m \u001b[38;5;241m-\u001b[39m \u001b[38;5;241m1\u001b[39m, ack(m, n \u001b[38;5;241m-\u001b[39m \u001b[38;5;241m1\u001b[39m))\n",
      "    \u001b[0;31m[... skipping similar frames: ack at line 7 (2970 times)]\u001b[0m\n",
      "Cell \u001b[0;32mIn[2], line 7\u001b[0m, in \u001b[0;36mack\u001b[0;34m(m, n)\u001b[0m\n\u001b[1;32m      5\u001b[0m     \u001b[38;5;28;01mreturn\u001b[39;00m ack(m \u001b[38;5;241m-\u001b[39m \u001b[38;5;241m1\u001b[39m, \u001b[38;5;241m1\u001b[39m)\n\u001b[1;32m      6\u001b[0m \u001b[38;5;28;01melse\u001b[39;00m:\n\u001b[0;32m----> 7\u001b[0m     \u001b[38;5;28;01mreturn\u001b[39;00m ack(m \u001b[38;5;241m-\u001b[39m \u001b[38;5;241m1\u001b[39m, ack(m, n \u001b[38;5;241m-\u001b[39m \u001b[38;5;241m1\u001b[39m))\n",
      "\u001b[0;31mRecursionError\u001b[0m: maximum recursion depth exceeded"
     ]
    }
   ],
   "source": [
    "def ack(m, n):\n",
    "    if m == 0:\n",
    "        return n + 1\n",
    "    elif n == 0:\n",
    "        return ack(m - 1, 1)\n",
    "    else:\n",
    "        return ack(m - 1, ack(m, n - 1))\n",
    "\n",
    "a = ack(2, 4)\n",
    "print(\"ack(2, 4) =\", a)\n",
    "\n",
    "a = ack(90000,1000000)\n",
    "#For larger values of m and n, it is impractical due to the exponential growth\n"
   ]
  },
  {
   "cell_type": "markdown",
   "id": "9e989b5e",
   "metadata": {},
   "source": [
    "## A number, a is a power of b if it is divisible by b and a/b is a power of b. Write a function called is_power that takes parameters a and b and returns True if a is a power of b. Note: you will have to think about a base case. (Note: It should work with float.)"
   ]
  },
  {
   "cell_type": "code",
   "execution_count": 24,
   "id": "c651c40d",
   "metadata": {},
   "outputs": [
    {
     "name": "stdout",
     "output_type": "stream",
     "text": [
      "False\n",
      "False\n",
      "True\n"
     ]
    }
   ],
   "source": [
    "def is_power(a,b):\n",
    "    if a == 0 or a == 1:\n",
    "        return True\n",
    "    elif a < b:\n",
    "        return False\n",
    "    elif a % b != 0:\n",
    "        return False\n",
    "    else:\n",
    "        return is_power(a / b, b)\n",
    "\n",
    "print(is_power(23, 4))\n",
    "print(is_power(2, 4))\n",
    "print(is_power(4, 2))"
   ]
  },
  {
   "cell_type": "code",
   "execution_count": null,
   "id": "82d9261c",
   "metadata": {},
   "outputs": [],
   "source": []
  }
 ],
 "metadata": {
  "kernelspec": {
   "display_name": "Python 3 (ipykernel)",
   "language": "python",
   "name": "python3"
  },
  "language_info": {
   "codemirror_mode": {
    "name": "ipython",
    "version": 3
   },
   "file_extension": ".py",
   "mimetype": "text/x-python",
   "name": "python",
   "nbconvert_exporter": "python",
   "pygments_lexer": "ipython3",
   "version": "3.11.5"
  }
 },
 "nbformat": 4,
 "nbformat_minor": 5
}
