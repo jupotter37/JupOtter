{
  "nbformat": 4,
  "nbformat_minor": 0,
  "metadata": {
    "colab": {
      "provenance": [],
      "include_colab_link": true
    },
    "kernelspec": {
      "name": "python3",
      "display_name": "Python 3"
    },
    "language_info": {
      "name": "python"
    }
  },
  "cells": [
    {
      "cell_type": "markdown",
      "metadata": {
        "id": "view-in-github",
        "colab_type": "text"
      },
      "source": [
        "<a href=\"https://colab.research.google.com/github/gunjan7858903606/gunjan/blob/main/Recursion_problems.ipynb\" target=\"_parent\"><img src=\"https://colab.research.google.com/assets/colab-badge.svg\" alt=\"Open In Colab\"/></a>"
      ]
    },
    {
      "cell_type": "markdown",
      "source": [
        "# Recursion Problems"
      ],
      "metadata": {
        "id": "jVb-SSnty82W"
      }
    },
    {
      "cell_type": "markdown",
      "source": [
        "## Question 1 -: \n",
        "**Find the sum of digits of a positive number using recursion**\n",
        "\n",
        "```\n",
        "num = 23\n",
        "output = 5\n",
        "```"
      ],
      "metadata": {
        "id": "H_pKgZepzBBz"
      }
    },
    {
      "cell_type": "code",
      "source": [],
      "metadata": {
        "id": "wmuWGYrP7dVM"
      },
      "execution_count": null,
      "outputs": []
    },
    {
      "cell_type": "markdown",
      "source": [
        "### step1 to find recursive case\n",
        "### divide number by 10 and take it's remainder\n",
        "\n",
        "```\n",
        "157 --> 157 / 10  --> 15 result and 7 remainder\n",
        "now 15 / 10 --> 1 result and 5 remainder\n",
        "now 1 / 10 --> 0 result and 1 remainder\n",
        "\n",
        "now all we have to do is to sum the remainders\n",
        "\n",
        "\n",
        "so our recursive case is f(n) = n%10 +f(n//10)\n",
        "\n",
        "```\n",
        "\n",
        "### step 2 finding the base codition to end our recursion\n",
        "\n",
        "```\n",
        "when the value of n = 0 return 0\n",
        "\n",
        "```"
      ],
      "metadata": {
        "id": "KpR-ZP3v2XDg"
      }
    },
    {
      "cell_type": "code",
      "source": [
        "157 // 10"
      ],
      "metadata": {
        "colab": {
          "base_uri": "https://localhost:8080/"
        },
        "id": "g4rQJTLJ9IZg",
        "outputId": "fe886f18-be91-44d4-ac11-7afb815d91c1"
      },
      "execution_count": null,
      "outputs": [
        {
          "output_type": "execute_result",
          "data": {
            "text/plain": [
              "15"
            ]
          },
          "metadata": {},
          "execution_count": 6
        }
      ]
    },
    {
      "cell_type": "code",
      "source": [
        "1 % 10"
      ],
      "metadata": {
        "colab": {
          "base_uri": "https://localhost:8080/"
        },
        "id": "E__1PJPU8s3T",
        "outputId": "07b41cd0-7686-411f-ba9c-5f9ac55bd429"
      },
      "execution_count": null,
      "outputs": [
        {
          "output_type": "execute_result",
          "data": {
            "text/plain": [
              "1"
            ]
          },
          "metadata": {},
          "execution_count": 4
        }
      ]
    },
    {
      "cell_type": "markdown",
      "source": [
        "## Solution"
      ],
      "metadata": {
        "id": "bI3mPaN45UUe"
      }
    },
    {
      "cell_type": "code",
      "source": [
        "def sum_number(num):\n",
        "  if num == 0:\n",
        "    return 0\n",
        "  else:\n",
        "    return num % 10 + sum_number(num // 10)"
      ],
      "metadata": {
        "id": "40T6VdfN-Oy2"
      },
      "execution_count": null,
      "outputs": []
    },
    {
      "cell_type": "code",
      "source": [
        "sum_number(157)"
      ],
      "metadata": {
        "colab": {
          "base_uri": "https://localhost:8080/"
        },
        "id": "37Z_pFlv-PqE",
        "outputId": "21523baa-9403-402e-8d61-888258c11be2"
      },
      "execution_count": null,
      "outputs": [
        {
          "output_type": "execute_result",
          "data": {
            "text/plain": [
              "13"
            ]
          },
          "metadata": {},
          "execution_count": 11
        }
      ]
    },
    {
      "cell_type": "code",
      "execution_count": null,
      "metadata": {
        "id": "DERTLpalykJb"
      },
      "outputs": [],
      "source": [
        "def sum_digits(num):\n",
        "  assert num >= 0 and int(num) == num, \"number has to be a positive integer\"\n",
        "  if num == 0:\n",
        "    return 0\n",
        "  else:\n",
        "    return num%10 + sum_digits(num//10)"
      ]
    },
    {
      "cell_type": "code",
      "source": [
        "sum_digits(23)"
      ],
      "metadata": {
        "colab": {
          "base_uri": "https://localhost:8080/"
        },
        "id": "qfGTjzyd5sJM",
        "outputId": "aab221c2-0cf2-4288-9b36-ca88a5bfe1c2"
      },
      "execution_count": null,
      "outputs": [
        {
          "output_type": "execute_result",
          "data": {
            "text/plain": [
              "5"
            ]
          },
          "metadata": {},
          "execution_count": 15
        }
      ]
    },
    {
      "cell_type": "markdown",
      "source": [
        "## Question 2 -: \n",
        "**Calculate the power of a number using Recursion**\n",
        "\n",
        "### step 1 to find recursive case\n",
        "\n",
        "```\n",
        "here 2 is base and 3 is exponent\n",
        "2^3 = 2*2*2\n",
        "\n",
        "2^3 = 2*2^2\n",
        "\n",
        "2^3 = 2*2*2^1\n",
        "\n",
        "```\n",
        "\n",
        "\n",
        "```\n",
        "x^n = x*x^(n-1)\n",
        "\n",
        "```"
      ],
      "metadata": {
        "id": "7rIbDqGM7MPk"
      }
    },
    {
      "cell_type": "code",
      "source": [
        "def power(base, exponent):\n",
        "  if (exponent < 0) or (int(exponent) != exponent):\n",
        "    return (print(\"exponent should be positive integer\"))\n",
        "  if exponent == 1:\n",
        "    return base\n",
        "  else:\n",
        "    return base * power(base, exponent -1)"
      ],
      "metadata": {
        "id": "OQDnbqeaCRoL"
      },
      "execution_count": null,
      "outputs": []
    },
    {
      "cell_type": "code",
      "source": [
        "int(3.2) == 3.2"
      ],
      "metadata": {
        "colab": {
          "base_uri": "https://localhost:8080/"
        },
        "id": "g04UVPs9EuOv",
        "outputId": "da6ec94b-870a-4c08-f744-161ebd09d11a"
      },
      "execution_count": null,
      "outputs": [
        {
          "output_type": "execute_result",
          "data": {
            "text/plain": [
              "False"
            ]
          },
          "metadata": {},
          "execution_count": 25
        }
      ]
    },
    {
      "cell_type": "code",
      "source": [
        "power(10,3)"
      ],
      "metadata": {
        "colab": {
          "base_uri": "https://localhost:8080/"
        },
        "id": "uILGu_1KCf6z",
        "outputId": "8b05171d-16fc-4005-b6d2-0a5a5c58840f"
      },
      "execution_count": null,
      "outputs": [
        {
          "output_type": "execute_result",
          "data": {
            "text/plain": [
              "1000"
            ]
          },
          "metadata": {},
          "execution_count": 28
        }
      ]
    },
    {
      "cell_type": "markdown",
      "source": [
        "## step 2 base condition\n",
        "\n",
        "```\n",
        "if n==0 then return 1\n",
        "```"
      ],
      "metadata": {
        "id": "y0MV7rPs8nvt"
      }
    },
    {
      "cell_type": "markdown",
      "source": [
        "## step 3 edge cases\n",
        "\n",
        "- base = 2, exponent = 3\n",
        "\n",
        "- base = 2.3, exponent = 3\n",
        "\n",
        "- base = -2, exponent = 3\n",
        "\n",
        "- base = 2, exponent = 3.2\n",
        "\n",
        "- base = 2, exponent = -3"
      ],
      "metadata": {
        "id": "PIemTpBB-uhJ"
      }
    },
    {
      "cell_type": "code",
      "source": [
        "power(2,-3)"
      ],
      "metadata": {
        "colab": {
          "base_uri": "https://localhost:8080/",
          "height": 311
        },
        "id": "axoic2nzDPbL",
        "outputId": "5d038009-2aaa-4769-8439-b1c9e2d19513"
      },
      "execution_count": null,
      "outputs": [
        {
          "output_type": "error",
          "ename": "RecursionError",
          "evalue": "ignored",
          "traceback": [
            "\u001b[0;31m---------------------------------------------------------------------------\u001b[0m",
            "\u001b[0;31mRecursionError\u001b[0m                            Traceback (most recent call last)",
            "\u001b[0;32m<ipython-input-20-0f262fc94635>\u001b[0m in \u001b[0;36m<module>\u001b[0;34m\u001b[0m\n\u001b[0;32m----> 1\u001b[0;31m \u001b[0mpower\u001b[0m\u001b[0;34m(\u001b[0m\u001b[0;36m2\u001b[0m\u001b[0;34m,\u001b[0m\u001b[0;34m-\u001b[0m\u001b[0;36m3\u001b[0m\u001b[0;34m)\u001b[0m\u001b[0;34m\u001b[0m\u001b[0;34m\u001b[0m\u001b[0m\n\u001b[0m",
            "\u001b[0;32m<ipython-input-14-23e3604ae7d7>\u001b[0m in \u001b[0;36mpower\u001b[0;34m(base, exponent)\u001b[0m\n\u001b[1;32m      3\u001b[0m     \u001b[0;32mreturn\u001b[0m \u001b[0mbase\u001b[0m\u001b[0;34m\u001b[0m\u001b[0;34m\u001b[0m\u001b[0m\n\u001b[1;32m      4\u001b[0m   \u001b[0;32melse\u001b[0m\u001b[0;34m:\u001b[0m\u001b[0;34m\u001b[0m\u001b[0;34m\u001b[0m\u001b[0m\n\u001b[0;32m----> 5\u001b[0;31m     \u001b[0;32mreturn\u001b[0m \u001b[0mbase\u001b[0m \u001b[0;34m*\u001b[0m \u001b[0mpower\u001b[0m\u001b[0;34m(\u001b[0m\u001b[0mbase\u001b[0m\u001b[0;34m,\u001b[0m \u001b[0mexponent\u001b[0m \u001b[0;34m-\u001b[0m\u001b[0;36m1\u001b[0m\u001b[0;34m)\u001b[0m\u001b[0;34m\u001b[0m\u001b[0;34m\u001b[0m\u001b[0m\n\u001b[0m",
            "... last 1 frames repeated, from the frame below ...\n",
            "\u001b[0;32m<ipython-input-14-23e3604ae7d7>\u001b[0m in \u001b[0;36mpower\u001b[0;34m(base, exponent)\u001b[0m\n\u001b[1;32m      3\u001b[0m     \u001b[0;32mreturn\u001b[0m \u001b[0mbase\u001b[0m\u001b[0;34m\u001b[0m\u001b[0;34m\u001b[0m\u001b[0m\n\u001b[1;32m      4\u001b[0m   \u001b[0;32melse\u001b[0m\u001b[0;34m:\u001b[0m\u001b[0;34m\u001b[0m\u001b[0;34m\u001b[0m\u001b[0m\n\u001b[0;32m----> 5\u001b[0;31m     \u001b[0;32mreturn\u001b[0m \u001b[0mbase\u001b[0m \u001b[0;34m*\u001b[0m \u001b[0mpower\u001b[0m\u001b[0;34m(\u001b[0m\u001b[0mbase\u001b[0m\u001b[0;34m,\u001b[0m \u001b[0mexponent\u001b[0m \u001b[0;34m-\u001b[0m\u001b[0;36m1\u001b[0m\u001b[0;34m)\u001b[0m\u001b[0;34m\u001b[0m\u001b[0;34m\u001b[0m\u001b[0m\n\u001b[0m",
            "\u001b[0;31mRecursionError\u001b[0m: maximum recursion depth exceeded in comparison"
          ]
        }
      ]
    },
    {
      "cell_type": "markdown",
      "source": [
        "## Solution"
      ],
      "metadata": {
        "id": "4dnKGmKq_QaM"
      }
    },
    {
      "cell_type": "code",
      "source": [
        "def power(base, exponent):\n",
        "  assert exponent >=0 and int(exponent) == exponent, \"exponent should be of positive integer value\"\n",
        "  if exponent == 0:\n",
        "    return 1\n",
        "  else:\n",
        "    return base * power(base, exponent-1)"
      ],
      "metadata": {
        "id": "6pwpA8tk5yi5"
      },
      "execution_count": null,
      "outputs": []
    },
    {
      "cell_type": "code",
      "source": [
        "power(2.5,1)"
      ],
      "metadata": {
        "colab": {
          "base_uri": "https://localhost:8080/"
        },
        "id": "gf_jfOIR9yOl",
        "outputId": "e5c6f666-66f7-413e-e290-c97b758bc6cf"
      },
      "execution_count": null,
      "outputs": [
        {
          "output_type": "execute_result",
          "data": {
            "text/plain": [
              "2.5"
            ]
          },
          "metadata": {},
          "execution_count": 22
        }
      ]
    },
    {
      "cell_type": "markdown",
      "source": [
        "## Question 3\n",
        "\n",
        "Find GCD of two numbers using recursion\n",
        "\n",
        "GCD is the largest positive integer that divides the number without remainder\n",
        "\n",
        "Euclidean Algoritm\n",
        "```\n",
        "gcd(48,18)\n",
        "\n",
        "step 1 - 48/18 --> 2 remainder 12\n",
        "step 2 - 18/12 --> 1 remainder 6\n",
        "step 3 - 12/6 --> 2 remainder 0\n",
        "\n",
        "6 will be your GCD\n",
        "\n",
        "```\n",
        "\n"
      ],
      "metadata": {
        "id": "tztm4jJEDsJr"
      }
    },
    {
      "cell_type": "markdown",
      "source": [
        "### Step 1 recursive condition\n",
        "```\n",
        "gcd(x,y) = gcd(y, x%y)\n",
        "\n",
        "```"
      ],
      "metadata": {
        "id": "9M3zM7muGb3S"
      }
    },
    {
      "cell_type": "markdown",
      "source": [
        "## Step 2 base condition\n",
        "\n",
        "```\n",
        "if y ==0 then return x\n",
        "```"
      ],
      "metadata": {
        "id": "V2apc2iEGyVN"
      }
    },
    {
      "cell_type": "markdown",
      "source": [
        "## Step 3 edge cases\n",
        "\n",
        "numbers should be integers\n",
        "\n",
        "convert negative numbers into positive numbers\n",
        "\n",
        "x should be greater than y\n"
      ],
      "metadata": {
        "id": "veKL3tl4HdC2"
      }
    },
    {
      "cell_type": "markdown",
      "source": [
        "## Solution"
      ],
      "metadata": {
        "id": "0Fk3YBdmIA_-"
      }
    },
    {
      "cell_type": "code",
      "source": [
        "def gcd(x,y):\n",
        "\n",
        "  assert int(x) == x and int(y) == y, \"numbers should be integer\"\n",
        "\n",
        "  if x < 0:\n",
        "    x = -1*x\n",
        "  if y < 0:\n",
        "    y = -1*y\n",
        "  if y > x:\n",
        "    x,y = y,x\n",
        "\n",
        "  if y == 0:\n",
        "    return x\n",
        "  else:\n",
        "    return gcd(y, x%y)"
      ],
      "metadata": {
        "id": "_NkYHhCOGxe2"
      },
      "execution_count": null,
      "outputs": []
    },
    {
      "cell_type": "code",
      "source": [
        "gcd(18,48)"
      ],
      "metadata": {
        "colab": {
          "base_uri": "https://localhost:8080/"
        },
        "id": "ka7lOPsKGatl",
        "outputId": "60d0b3b4-09f9-4363-d130-ce0d1cf84085"
      },
      "execution_count": null,
      "outputs": [
        {
          "output_type": "execute_result",
          "data": {
            "text/plain": [
              "6"
            ]
          },
          "metadata": {},
          "execution_count": 27
        }
      ]
    },
    {
      "cell_type": "markdown",
      "source": [
        "## Question 4\n",
        "\n",
        "convert decimal to binary using recursion\n",
        "\n",
        "\n",
        "### Step 1 Recursive case\n",
        "\n",
        "\n",
        "\n",
        "1.   Divide number by 2\n",
        "2.   Get the integer quotient for the next iteration\n",
        "3.   Get the remainder for the binary digit\n",
        "4.   Repeat the process until quotient is 0\n",
        "\n",
        "![image.png](data:image/png;base64,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)\n",
        "\n"
      ],
      "metadata": {
        "id": "cX-iz04--1lI"
      }
    },
    {
      "cell_type": "markdown",
      "source": [
        "```\n",
        "f(n) =10 * f(n//2) +  n % 2\n",
        "\n",
        "```"
      ],
      "metadata": {
        "id": "TbbPCFgDEhpH"
      }
    },
    {
      "cell_type": "markdown",
      "source": [
        "### Step 2 - Base case\n",
        "```\n",
        "if n == 0 return 0\n",
        "```"
      ],
      "metadata": {
        "id": "noLZWtu6Fw5r"
      }
    },
    {
      "cell_type": "markdown",
      "source": [
        "### Step 3 - Edge cases\n",
        "\n",
        "check for negative numbers and float numbers"
      ],
      "metadata": {
        "id": "DGnFtEuqHdis"
      }
    },
    {
      "cell_type": "code",
      "source": [],
      "metadata": {
        "id": "d_lklfBgGr0v"
      },
      "execution_count": null,
      "outputs": []
    },
    {
      "cell_type": "code",
      "source": [
        "def decimalToBinary(n):\n",
        "  assert int(n) == n  and n >= 0, \"number should be positive and integer\"\n",
        "  if n == 0:\n",
        "      return 0\n",
        "  else:\n",
        "      return 10*decimalToBinary(n//2) + n%2"
      ],
      "metadata": {
        "id": "ehojiKKCGM_I"
      },
      "execution_count": null,
      "outputs": []
    },
    {
      "cell_type": "code",
      "source": [
        "decimalToBinary(13)"
      ],
      "metadata": {
        "colab": {
          "base_uri": "https://localhost:8080/"
        },
        "id": "o6EuxpxdFcZf",
        "outputId": "d428b61d-3538-4d52-c94c-ecdfc7ff6d7b"
      },
      "execution_count": null,
      "outputs": [
        {
          "output_type": "execute_result",
          "data": {
            "text/plain": [
              "1101"
            ]
          },
          "metadata": {},
          "execution_count": 6
        }
      ]
    },
    {
      "cell_type": "code",
      "source": [
        "decimalToBinary(14)"
      ],
      "metadata": {
        "colab": {
          "base_uri": "https://localhost:8080/"
        },
        "id": "Kjn1XpUBFfu0",
        "outputId": "a6582bbc-af62-43d2-8f54-bc43c8d17e95"
      },
      "execution_count": null,
      "outputs": [
        {
          "output_type": "execute_result",
          "data": {
            "text/plain": [
              "1110"
            ]
          },
          "metadata": {},
          "execution_count": 7
        }
      ]
    },
    {
      "cell_type": "code",
      "source": [],
      "metadata": {
        "id": "JVUoQw9KH6wW"
      },
      "execution_count": null,
      "outputs": []
    }
  ]
}