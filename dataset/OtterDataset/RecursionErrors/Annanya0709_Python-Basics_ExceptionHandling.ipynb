{
  "nbformat": 4,
  "nbformat_minor": 0,
  "metadata": {
    "colab": {
      "provenance": [],
      "authorship_tag": "ABX9TyO0A1nhALtpXlixcaGA+Qy0",
      "include_colab_link": true
    },
    "kernelspec": {
      "name": "python3",
      "display_name": "Python 3"
    },
    "language_info": {
      "name": "python"
    }
  },
  "cells": [
    {
      "cell_type": "markdown",
      "metadata": {
        "id": "view-in-github",
        "colab_type": "text"
      },
      "source": [
        "<a href=\"https://colab.research.google.com/github/Annanya0709/Python-Basics/blob/main/ExceptionHandling.ipynb\" target=\"_parent\"><img src=\"https://colab.research.google.com/assets/colab-badge.svg\" alt=\"Open In Colab\"/></a>"
      ]
    },
    {
      "cell_type": "markdown",
      "source": [
        "# Arithmetic Errors\n",
        "***Zero Division Error***"
      ],
      "metadata": {
        "id": "Ucma_PZ7tBjZ"
      }
    },
    {
      "cell_type": "code",
      "source": [
        "try:  \n",
        "    number = 100 / 2\n",
        "    print (number)\n",
        "\n",
        "except ZeroDivisionError:  \n",
        "        print (\"Zero Division Exception Raised.\" )\n",
        "        \n",
        "else:  \n",
        "    print (\"Success, no error!\")"
      ],
      "metadata": {
        "colab": {
          "base_uri": "https://localhost:8080/"
        },
        "id": "DvxPVRChsbcN",
        "outputId": "80fc694c-61a0-48a0-8186-d9df029ae9e9"
      },
      "execution_count": 10,
      "outputs": [
        {
          "output_type": "stream",
          "name": "stdout",
          "text": [
            "50.0\n",
            "Success, no error!\n"
          ]
        }
      ]
    },
    {
      "cell_type": "markdown",
      "source": [
        "***Overflow Error***"
      ],
      "metadata": {
        "id": "pRndqORpttTz"
      }
    },
    {
      "cell_type": "code",
      "source": [
        "try:  \n",
        "    import math\n",
        "    print(math.exp(1000))\n",
        "\n",
        "except OverflowError:  \n",
        "        print (\"OverFlow Exception Raised.\")\n",
        "        \n",
        "else:  \n",
        "    print (\"Success, no error!\")"
      ],
      "metadata": {
        "colab": {
          "base_uri": "https://localhost:8080/"
        },
        "id": "vLZDeiuXsbZt",
        "outputId": "2acdc4eb-eb7c-4753-bb86-ce5ae842cc3a"
      },
      "execution_count": 11,
      "outputs": [
        {
          "output_type": "stream",
          "name": "stdout",
          "text": [
            "OverFlow Exception Raised.\n"
          ]
        }
      ]
    },
    {
      "cell_type": "markdown",
      "source": [
        "# Assertion Error"
      ],
      "metadata": {
        "id": "b-EB_Z0_1GAV"
      }
    },
    {
      "cell_type": "code",
      "source": [
        "string1 = \"Hello\"\n",
        "string2 = \"Programmer\"\n",
        "\n",
        "try:  \n",
        "  assert string1 == string2\n",
        "\n",
        "except AssertionError:\n",
        "  print(\"Assertion Error \")\n",
        "\n",
        "else:  \n",
        "  print (\"Success, no error!\")\n",
        "\n",
        "finally:\n",
        "  print (string1, string2)"
      ],
      "metadata": {
        "colab": {
          "base_uri": "https://localhost:8080/"
        },
        "id": "yk_3g_nG1Iow",
        "outputId": "64734fa9-2c16-49b4-a3ae-1ca9a248cdf8"
      },
      "execution_count": 7,
      "outputs": [
        {
          "output_type": "stream",
          "name": "stdout",
          "text": [
            "Assertion Error \n",
            "Hello Programmer\n"
          ]
        }
      ]
    },
    {
      "cell_type": "markdown",
      "source": [
        "# Attribute Error"
      ],
      "metadata": {
        "id": "5I4H4WZk18Ly"
      }
    },
    {
      "cell_type": "code",
      "source": [
        "class Students():\n",
        "    roll_no = 2\n",
        "    print (roll_no)\n",
        "\n",
        "try:\n",
        "    student1 = Students()\n",
        "    print (student1.name)\n",
        "    \n",
        "except AttributeError:\n",
        "    print (\"Attribute Exception Raised.\")"
      ],
      "metadata": {
        "colab": {
          "base_uri": "https://localhost:8080/"
        },
        "id": "PDPAMqqg1__J",
        "outputId": "19887df4-636d-4dd1-fbc0-93bcdc026da2"
      },
      "execution_count": 12,
      "outputs": [
        {
          "output_type": "stream",
          "name": "stdout",
          "text": [
            "2\n",
            "Attribute Exception Raised.\n"
          ]
        }
      ]
    },
    {
      "cell_type": "markdown",
      "source": [
        "# Import Error"
      ],
      "metadata": {
        "id": "YJazlBIt3tW3"
      }
    },
    {
      "cell_type": "code",
      "source": [
        "try:\n",
        "  import name\n",
        "  \n",
        "except ImportError as exception:\n",
        "  print(exception)\n"
      ],
      "metadata": {
        "colab": {
          "base_uri": "https://localhost:8080/"
        },
        "id": "ny_7X6AC3wbn",
        "outputId": "d2400d78-3619-4c2b-d3e0-55f6929f97f6"
      },
      "execution_count": 13,
      "outputs": [
        {
          "output_type": "stream",
          "name": "stdout",
          "text": [
            "No module named 'name'\n"
          ]
        }
      ]
    },
    {
      "cell_type": "markdown",
      "source": [
        "# Lookup Error\n",
        "***Index Error***"
      ],
      "metadata": {
        "id": "ujApJKMo4KFR"
      }
    },
    {
      "cell_type": "code",
      "source": [
        "names = ['John', 'Max', 'Rocky']  \n",
        "\n",
        "try:  \n",
        "    print (names[4])  \n",
        "\n",
        "except LookupError as exception:  \n",
        "    print (\"Lookup Error:\", exception)\n",
        "    \n",
        "else:  \n",
        "    print (\"Success, no error!\")\n"
      ],
      "metadata": {
        "colab": {
          "base_uri": "https://localhost:8080/"
        },
        "id": "LzclmYaW4RLi",
        "outputId": "f8f5600f-fa18-483d-e4b0-0691cd1dc300"
      },
      "execution_count": 14,
      "outputs": [
        {
          "output_type": "stream",
          "name": "stdout",
          "text": [
            "Lookup Error: list index out of range\n"
          ]
        }
      ]
    },
    {
      "cell_type": "markdown",
      "source": [
        "***Key Error***"
      ],
      "metadata": {
        "id": "SK-YRFibUmyk"
      }
    },
    {
      "cell_type": "code",
      "source": [
        "try:  \n",
        "    states = {'Rajasthan':'Jaipur', 'MP':'Bhopal'}  \n",
        "    print (states['Maharashtra'])  \n",
        "\n",
        "except LookupError as exception:  \n",
        "    print (\"Key Error:\", exception)\n",
        "    \n",
        "else:  \n",
        "    print (\"Success, no error!\")"
      ],
      "metadata": {
        "colab": {
          "base_uri": "https://localhost:8080/"
        },
        "id": "GOpR9HNNR3OC",
        "outputId": "13f80b9d-3daa-4378-a62d-35a7cc57fb41"
      },
      "execution_count": 2,
      "outputs": [
        {
          "output_type": "stream",
          "name": "stdout",
          "text": [
            "Key Error: 'Maharashtra'\n"
          ]
        }
      ]
    },
    {
      "cell_type": "markdown",
      "source": [
        "# Name Error"
      ],
      "metadata": {
        "id": "FSjbelEh5A3E"
      }
    },
    {
      "cell_type": "code",
      "source": [
        "answer = \"true\"\n",
        "try:\n",
        "    print (ans)\n",
        "\n",
        "except NameError as exception:  \n",
        "    print (\"NameError:\", exception)\n",
        "    \n",
        "else:  \n",
        "    print (\"Success, no error!\")"
      ],
      "metadata": {
        "colab": {
          "base_uri": "https://localhost:8080/"
        },
        "id": "mJfThAKw5JuX",
        "outputId": "bed7a255-199a-469b-8748-f1c247f4e36e"
      },
      "execution_count": 29,
      "outputs": [
        {
          "output_type": "stream",
          "name": "stdout",
          "text": [
            "NameError: name 'ans' is not defined\n"
          ]
        }
      ]
    },
    {
      "cell_type": "markdown",
      "source": [
        "# Type Errors\n"
      ],
      "metadata": {
        "id": "A8komzXteaYA"
      }
    },
    {
      "cell_type": "code",
      "execution_count": 32,
      "metadata": {
        "colab": {
          "base_uri": "https://localhost:8080/"
        },
        "id": "xaJRvuFFeHMh",
        "outputId": "2f8fc562-09a8-4df7-b770-28bf6114bc9f"
      },
      "outputs": [
        {
          "output_type": "stream",
          "name": "stdout",
          "text": [
            "Type Error:  unsupported operand type(s) for +: 'int' and 'str'\n"
          ]
        }
      ],
      "source": [
        "price = 500\n",
        "product = 'cake'\n",
        "\n",
        "try:\n",
        "  description = price + product\n",
        "\n",
        "except TypeError as exception:\n",
        "  print(\"Type Error: \", exception)\n",
        "  \n",
        "else:\n",
        "  print(description)\n",
        "\n"
      ]
    },
    {
      "cell_type": "markdown",
      "source": [
        "# Value Error"
      ],
      "metadata": {
        "id": "VZ7xxO6U6M6h"
      }
    },
    {
      "cell_type": "code",
      "source": [
        "try:\n",
        "    print (int('Developer'))\n",
        "\n",
        "except ValueError as exception:\n",
        "    print ('ValueError:', exception)\n",
        "    \n",
        "else:\n",
        "    print ('Success, no error!')"
      ],
      "metadata": {
        "colab": {
          "base_uri": "https://localhost:8080/"
        },
        "id": "sbMPJGga6PcZ",
        "outputId": "66859dea-4956-4d90-e28d-e0e0529017b9"
      },
      "execution_count": 33,
      "outputs": [
        {
          "output_type": "stream",
          "name": "stdout",
          "text": [
            "ValueError: invalid literal for int() with base 10: 'Developer'\n"
          ]
        }
      ]
    },
    {
      "cell_type": "markdown",
      "source": [
        "# Syntax Errors"
      ],
      "metadata": {
        "id": "I_Y-oy72eZVs"
      }
    },
    {
      "cell_type": "code",
      "source": [
        "# Handled at compile time\n",
        "\n",
        "age = 20\n",
        "\n",
        "if(age < 18)\n",
        "  print(\"Not eligible to vote\")\n",
        "else:\n",
        "  print(\"Eligible to vote\")"
      ],
      "metadata": {
        "colab": {
          "base_uri": "https://localhost:8080/",
          "height": 131
        },
        "id": "7lXcFXMWhLPx",
        "outputId": "4500b64c-e021-428c-b683-880445929000"
      },
      "execution_count": 35,
      "outputs": [
        {
          "output_type": "error",
          "ename": "SyntaxError",
          "evalue": "ignored",
          "traceback": [
            "\u001b[0;36m  File \u001b[0;32m\"<ipython-input-35-161745a4b09d>\"\u001b[0;36m, line \u001b[0;32m3\u001b[0m\n\u001b[0;31m    if(age < 18)\u001b[0m\n\u001b[0m                ^\u001b[0m\n\u001b[0;31mSyntaxError\u001b[0m\u001b[0;31m:\u001b[0m invalid syntax\n"
          ]
        }
      ]
    },
    {
      "cell_type": "markdown",
      "source": [
        "Keyboard interrupt error\n"
      ],
      "metadata": {
        "id": "bcaycCEvqmUy"
      }
    },
    {
      "cell_type": "markdown",
      "source": [
        "# Recursion Error"
      ],
      "metadata": {
        "id": "Jc_Uh1hcR473"
      }
    },
    {
      "cell_type": "code",
      "source": [
        "def recursion():\n",
        "    return recursion()\n",
        "try:\n",
        "  recursion()\n",
        "  \n",
        "except RecursionError as exception:\n",
        "  print(\"Recursion Error\", exception)\n",
        "\n",
        "\n"
      ],
      "metadata": {
        "colab": {
          "base_uri": "https://localhost:8080/"
        },
        "id": "OMa2jfaesTyc",
        "outputId": "f37a41eb-eda0-4ffb-e9c5-3e7b2d279f44"
      },
      "execution_count": 9,
      "outputs": [
        {
          "output_type": "stream",
          "name": "stdout",
          "text": [
            "Recursion Error maximum recursion depth exceeded\n"
          ]
        }
      ]
    },
    {
      "cell_type": "markdown",
      "source": [
        "# Indentation Error"
      ],
      "metadata": {
        "id": "DJGMwiHLSC8n"
      }
    },
    {
      "cell_type": "code",
      "source": [
        "def factorial(x):\n",
        "  if x == 1:\n",
        "  return 1\n",
        "  else:\n",
        "  return (x * factorial(x-1))\n"
      ],
      "metadata": {
        "colab": {
          "base_uri": "https://localhost:8080/",
          "height": 131
        },
        "id": "IxajSRNWRcFt",
        "outputId": "625717da-9bd2-40f3-860a-2aa25a9a4281"
      },
      "execution_count": 38,
      "outputs": [
        {
          "output_type": "error",
          "ename": "IndentationError",
          "evalue": "ignored",
          "traceback": [
            "\u001b[0;36m  File \u001b[0;32m\"<ipython-input-38-c7540cdca9f7>\"\u001b[0;36m, line \u001b[0;32m3\u001b[0m\n\u001b[0;31m    return 1\u001b[0m\n\u001b[0m         ^\u001b[0m\n\u001b[0;31mIndentationError\u001b[0m\u001b[0;31m:\u001b[0m expected an indented block\n"
          ]
        }
      ]
    }
  ]
}