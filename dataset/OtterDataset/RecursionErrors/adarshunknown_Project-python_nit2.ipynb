{
 "cells": [
  {
   "cell_type": "code",
   "execution_count": 19,
   "id": "c351cb9e-3d68-4bb4-993a-5520974c84f9",
   "metadata": {},
   "outputs": [
    {
     "name": "stdin",
     "output_type": "stream",
     "text": [
      "etner first side 12\n",
      "enter second side 5\n",
      "enter last side 13\n"
     ]
    },
    {
     "name": "stdout",
     "output_type": "stream",
     "text": [
      "triangle is right angled\n"
     ]
    }
   ],
   "source": [
    "a=int(input(\"etner first side\"))\n",
    "b=int(input(\"enter second side\"))\n",
    "c=int(input(\"enter last side\"))\n",
    "\n",
    "if a>b and a>c and (a**2 == b**2 + c**2):\n",
    "        print(\"triangle is right angled\")\n",
    "elif b>c and b>a and (b**2 == a**2 + c**2):\n",
    "        print(\"triangle is right angled\")\n",
    "elif c>a and c>b and (c**2 == b**2 + a**2):\n",
    "        print(\"triangle is right angled\")\n",
    "else:\n",
    "    print(\"triangle is not right angled\")"
   ]
  },
  {
   "cell_type": "code",
   "execution_count": 1,
   "id": "ad5d324e-2d1d-46fe-af32-cd189aea64bb",
   "metadata": {},
   "outputs": [
    {
     "name": "stdin",
     "output_type": "stream",
     "text": [
      "etner first number 5\n",
      "enter second number 6\n",
      "enter third number 7\n"
     ]
    },
    {
     "name": "stdout",
     "output_type": "stream",
     "text": [
      "c greater\n"
     ]
    }
   ],
   "source": [
    "a=int(input(\"etner first number\"))\n",
    "b=int(input(\"enter second number\"))\n",
    "c=int(input(\"enter third number\"))\n",
    "if a>b and a>c:\n",
    "    print(\"a greater\")\n",
    "elif b>a and b>c:\n",
    "    print(\"b greater\")\n",
    "else:\n",
    "    print(\"c greater\")"
   ]
  },
  {
   "cell_type": "code",
   "execution_count": 3,
   "id": "42301969-ed15-44f3-bae2-47c68d4395e0",
   "metadata": {},
   "outputs": [
    {
     "name": "stdin",
     "output_type": "stream",
     "text": [
      "etner first number 25\n"
     ]
    },
    {
     "name": "stdout",
     "output_type": "stream",
     "text": [
      "fail\n"
     ]
    }
   ],
   "source": [
    "a=int(input(\"etner first number\"))\n",
    "if a==90:\n",
    "    print(\"A grade\")\n",
    "elif a==80:\n",
    "    print(\"B grade\")\n",
    "elif a==70:\n",
    "    print(\"C grade\")\n",
    "elif a==60:\n",
    "    print(\"D grade\")\n",
    "else:\n",
    "    print(\"fail\")\n"
   ]
  },
  {
   "cell_type": "code",
   "execution_count": 7,
   "id": "6d88dcdb-1a25-40d4-90e8-68b185e560e6",
   "metadata": {},
   "outputs": [
    {
     "name": "stdin",
     "output_type": "stream",
     "text": [
      "enter marks 44\n"
     ]
    },
    {
     "name": "stdout",
     "output_type": "stream",
     "text": [
      "Grade is Fail\n"
     ]
    }
   ],
   "source": [
    "def grade(marks):\n",
    "    if(marks>=90):\n",
    "        grade = 'A'\n",
    "    elif(marks>=80 and marks<90):\n",
    "        grade = 'B'\n",
    "    elif(marks>=70 and marks<80):\n",
    "        grade = 'C'\n",
    "    elif(marks>=60 and marks<70):\n",
    "        grade = 'D'\n",
    "    elif(marks>=50 and marks<60):\n",
    "        grade = 'E'\n",
    "    else:\n",
    "        grade='Fail'\n",
    "    return grade\n",
    "marks = int(input(\"enter marks\"))\n",
    "grade = grade(marks)\n",
    "print(\"Grade is\",grade)"
   ]
  },
  {
   "cell_type": "code",
   "execution_count": 8,
   "id": "2ef554a5-955b-44e7-975e-888e27ead74a",
   "metadata": {},
   "outputs": [
    {
     "name": "stdin",
     "output_type": "stream",
     "text": [
      "enter a number 5\n"
     ]
    },
    {
     "name": "stdout",
     "output_type": "stream",
     "text": [
      "not eligible\n"
     ]
    }
   ],
   "source": [
    "age=int(input(\"enter a number\"))\n",
    "if age>21:\n",
    "    print(\"eligible for drinking\")\n",
    "else:\n",
    "    print(\"not eligible\")"
   ]
  },
  {
   "cell_type": "code",
   "execution_count": 7,
   "id": "95119785-ba27-4885-9005-ff2f1da91165",
   "metadata": {},
   "outputs": [
    {
     "name": "stdin",
     "output_type": "stream",
     "text": [
      "enter a number 28\n"
     ]
    },
    {
     "name": "stdout",
     "output_type": "stream",
     "text": [
      "person is adult\n",
      "person is eligible for drinking\n"
     ]
    }
   ],
   "source": [
    "age=int(input(\"enter a number\"))\n",
    "if age >=18:\n",
    "    print(\"person is adult\")\n",
    "    if age >=21:\n",
    "        print(\"person is eligible for drinking\")\n",
    "    else:\n",
    "        print(\"not eligible for drinking\")\n",
    "else:\n",
    "    print(\"person is not adult\")"
   ]
  },
  {
   "cell_type": "code",
   "execution_count": 9,
   "id": "1fa23c1f-5cb5-4005-b00f-605b408573df",
   "metadata": {},
   "outputs": [
    {
     "name": "stdin",
     "output_type": "stream",
     "text": [
      "enter a number 20\n"
     ]
    },
    {
     "name": "stdout",
     "output_type": "stream",
     "text": [
      "number is divisible by both\n"
     ]
    }
   ],
   "source": [
    "a=int(input(\"enter a number\"))\n",
    "if a%10==0:\n",
    "    if a%5==0:\n",
    "        print(\"number is divisible by both\")\n",
    "else:\n",
    "    print(\"not divisible\")"
   ]
  },
  {
   "cell_type": "code",
   "execution_count": 1,
   "id": "7b0bf43c-9b83-49a6-a8d7-4b621fc73f20",
   "metadata": {},
   "outputs": [
    {
     "name": "stdout",
     "output_type": "stream",
     "text": [
      "bye\n",
      "bye\n",
      "bye\n",
      "bye\n",
      "bye\n",
      "bye\n",
      "bye\n",
      "bye\n",
      "bye\n"
     ]
    }
   ],
   "source": [
    "i=1\n",
    "while i<10:\n",
    "    print(\"bye\")\n",
    "    i+=1"
   ]
  },
  {
   "cell_type": "code",
   "execution_count": 2,
   "id": "2adf87ba-a7f0-4719-ac90-7c94d18b0fff",
   "metadata": {},
   "outputs": [
    {
     "name": "stdout",
     "output_type": "stream",
     "text": [
      "tick tick 10\n",
      "tick tick 9\n",
      "tick tick 8\n",
      "tick tick 7\n",
      "tick tick 6\n",
      "tick tick 5\n",
      "tick tick 4\n",
      "tick tick 3\n",
      "tick tick 2\n",
      "tick tick 1\n",
      "boom\n"
     ]
    }
   ],
   "source": [
    "i=10\n",
    "while i>=1:\n",
    "    print(\"tick tick\",i)\n",
    "    i-=1\n",
    "print(\"boom\")"
   ]
  },
  {
   "cell_type": "code",
   "execution_count": 3,
   "id": "eab72a36-c1fa-4776-9055-6fa993ccafe1",
   "metadata": {},
   "outputs": [
    {
     "name": "stdout",
     "output_type": "stream",
     "text": [
      "0\n",
      "2\n",
      "4\n",
      "6\n",
      "8\n",
      "10\n"
     ]
    }
   ],
   "source": [
    "i=0\n",
    "while i<=10:\n",
    "    print(i)\n",
    "    i+=2"
   ]
  },
  {
   "cell_type": "code",
   "execution_count": 4,
   "id": "c4856316-44e5-4a04-a3ac-ecc456e37202",
   "metadata": {},
   "outputs": [
    {
     "name": "stdout",
     "output_type": "stream",
     "text": [
      "1\n",
      "3\n",
      "5\n",
      "7\n",
      "9\n"
     ]
    }
   ],
   "source": [
    "i=1\n",
    "while i<=10:\n",
    "    print(i)\n",
    "    i+=2"
   ]
  },
  {
   "cell_type": "code",
   "execution_count": 6,
   "id": "285ffc3d-48ee-4813-b22e-d157c00fa7de",
   "metadata": {},
   "outputs": [
    {
     "name": "stdout",
     "output_type": "stream",
     "text": [
      "10\n",
      "8\n",
      "6\n",
      "4\n",
      "2\n"
     ]
    }
   ],
   "source": [
    "i=10\n",
    "while i>=1:\n",
    "    print(i)\n",
    "    i-=2"
   ]
  },
  {
   "cell_type": "code",
   "execution_count": 8,
   "id": "a66dbdcd-c608-46b8-a790-15d2d06e952a",
   "metadata": {},
   "outputs": [
    {
     "name": "stdout",
     "output_type": "stream",
     "text": [
      "55\n"
     ]
    }
   ],
   "source": [
    "i=1\n",
    "sum=0\n",
    "while i<=10:\n",
    "    sum+=i\n",
    "    i+=1\n",
    "print(sum)"
   ]
  },
  {
   "cell_type": "code",
   "execution_count": 1,
   "id": "4035df5d-aa45-452f-bd4c-79003cb4451b",
   "metadata": {},
   "outputs": [
    {
     "name": "stdout",
     "output_type": "stream",
     "text": [
      "3628800\n"
     ]
    }
   ],
   "source": [
    "i=1\n",
    "sum=1\n",
    "while i<=10:\n",
    "    sum*=i\n",
    "    i+=1\n",
    "print(sum)"
   ]
  },
  {
   "cell_type": "code",
   "execution_count": 2,
   "id": "20528689-8f9a-4e33-b91a-287273ca34ec",
   "metadata": {},
   "outputs": [
    {
     "name": "stdin",
     "output_type": "stream",
     "text": [
      "enter a number 5\n"
     ]
    },
    {
     "name": "stdout",
     "output_type": "stream",
     "text": [
      "120\n"
     ]
    }
   ],
   "source": [
    "a=int(input(\"enter a number\"))\n",
    "fact=1\n",
    "i=1\n",
    "while i<=a:\n",
    "    fact*=i\n",
    "    i+=1\n",
    "print(fact)"
   ]
  },
  {
   "cell_type": "code",
   "execution_count": 5,
   "id": "239acff2-4c1b-47a7-b0f8-5309d56527d9",
   "metadata": {},
   "outputs": [
    {
     "name": "stdin",
     "output_type": "stream",
     "text": [
      "enter a number 10\n"
     ]
    },
    {
     "name": "stdout",
     "output_type": "stream",
     "text": [
      "2\n",
      "4\n",
      "6\n",
      "8\n",
      "10\n"
     ]
    }
   ],
   "source": [
    "n=int(input(\"enter a number\"))\n",
    "i=2\n",
    "while i<=n:\n",
    "    print(i)\n",
    "    i+=2\n"
   ]
  },
  {
   "cell_type": "code",
   "execution_count": 6,
   "id": "875c0b45-99c3-4760-b1fb-957db36a9525",
   "metadata": {},
   "outputs": [
    {
     "name": "stdin",
     "output_type": "stream",
     "text": [
      "enter a number 10\n"
     ]
    },
    {
     "name": "stdout",
     "output_type": "stream",
     "text": [
      "1\n",
      "3\n",
      "5\n",
      "7\n",
      "9\n"
     ]
    }
   ],
   "source": [
    "n=int(input(\"enter a number\"))\n",
    "i=1\n",
    "while i<=n:\n",
    "    print(i)\n",
    "    i+=2\n"
   ]
  },
  {
   "cell_type": "code",
   "execution_count": 8,
   "id": "2cad2d50-f11d-4948-aabb-eec785001f03",
   "metadata": {},
   "outputs": [
    {
     "name": "stdin",
     "output_type": "stream",
     "text": [
      "enter a number 10\n"
     ]
    },
    {
     "name": "stdout",
     "output_type": "stream",
     "text": [
      "2\n",
      "4\n",
      "6\n",
      "8\n",
      "10\n"
     ]
    }
   ],
   "source": [
    "n=int(input(\"enter a number\"))\n",
    "i=1\n",
    "while i<=n:\n",
    "    if i%2==0:\n",
    "        print(i)\n",
    "    i+=1\n"
   ]
  },
  {
   "cell_type": "code",
   "execution_count": 4,
   "id": "120df22e-29ab-4f09-b663-e28c3740defd",
   "metadata": {},
   "outputs": [
    {
     "name": "stdin",
     "output_type": "stream",
     "text": [
      "enter a number 14\n"
     ]
    },
    {
     "name": "stdout",
     "output_type": "stream",
     "text": [
      "not prime\n"
     ]
    }
   ],
   "source": [
    "n=int(input(\"enter a number\"))#doubt\n",
    "i=2\n",
    "while i<n:\n",
    "    if n%i==0:\n",
    "        i\n",
    "        print(\"not prime\")\n",
    "        break\n",
    "    i+=1\n",
    "    \n"
   ]
  },
  {
   "cell_type": "code",
   "execution_count": 7,
   "id": "7f22191e-e512-41f6-a309-bac3e965a20b",
   "metadata": {},
   "outputs": [
    {
     "name": "stdin",
     "output_type": "stream",
     "text": [
      "enter a number 97\n"
     ]
    },
    {
     "name": "stdout",
     "output_type": "stream",
     "text": [
      " prime\n"
     ]
    }
   ],
   "source": [
    "n=int(input(\"enter a number\"))\n",
    "i=2\n",
    "isdivisible=False\n",
    "while i<n:\n",
    "    if n%i==0:\n",
    "        isdivisible=True\n",
    "    i+=1\n",
    "if isdivisible:\n",
    "    print(\"nt prime\")\n",
    "else:\n",
    "    print(\" prime\")"
   ]
  },
  {
   "cell_type": "code",
   "execution_count": 4,
   "id": "0be5b4f2-dda5-4075-8200-f8ebc312adcd",
   "metadata": {},
   "outputs": [
    {
     "name": "stdin",
     "output_type": "stream",
     "text": [
      "3 digit number 543\n"
     ]
    },
    {
     "name": "stdout",
     "output_type": "stream",
     "text": [
      "12\n"
     ]
    }
   ],
   "source": [
    "n=int(input(\"3 digit number\"))\n",
    "\n",
    "digit_sum=0\n",
    "while n>0:\n",
    "    x=n%10\n",
    "    digit_sum+=x\n",
    "    n=n//10\n",
    "print(digit_sum)"
   ]
  },
  {
   "cell_type": "code",
   "execution_count": 5,
   "id": "964c27fb-3331-42f2-a9c2-43da72f4e32e",
   "metadata": {},
   "outputs": [
    {
     "name": "stdin",
     "output_type": "stream",
     "text": [
      "3 digit number 534\n"
     ]
    },
    {
     "name": "stdout",
     "output_type": "stream",
     "text": [
      "435\n"
     ]
    }
   ],
   "source": [
    "n=int(input(\"3 digit number\"))\n",
    "digit_sum=\"\"\n",
    "while n>0:\n",
    "    x=n%10\n",
    "    x1=str(x)\n",
    "    digit_sum+=x1\n",
    "    n=n//10\n",
    "print(digit_sum)"
   ]
  },
  {
   "cell_type": "code",
   "execution_count": 6,
   "id": "8e60f4a2-2a9e-4454-bc27-000015549574",
   "metadata": {},
   "outputs": [
    {
     "name": "stdin",
     "output_type": "stream",
     "text": [
      "3 digit number 121\n"
     ]
    },
    {
     "name": "stdout",
     "output_type": "stream",
     "text": [
      "121\n"
     ]
    }
   ],
   "source": [
    "n=int(input(\"3 digit number\"))\n",
    "digit_sum=\"\"\n",
    "while n>0:\n",
    "    x=n%10\n",
    "    x1=str(x)\n",
    "    digit_sum+=x1\n",
    "    n=n//10\n",
    "print(digit_sum)"
   ]
  },
  {
   "cell_type": "code",
   "execution_count": 1,
   "id": "9f386aee-0503-474e-af73-f0ab60a6a422",
   "metadata": {},
   "outputs": [
    {
     "name": "stdin",
     "output_type": "stream",
     "text": [
      "enter a number 234\n"
     ]
    },
    {
     "name": "stdout",
     "output_type": "stream",
     "text": [
      "432\n"
     ]
    }
   ],
   "source": [
    "n=int(input(\"enter a number\"))\n",
    "reverse_no=0\n",
    "while n>0:\n",
    "    last_digit=n%10\n",
    "    reverse_no=reverse_no*10+last_digit\n",
    "    n=n//10\n",
    "print(reverse_no)"
   ]
  },
  {
   "cell_type": "code",
   "execution_count": 1,
   "id": "cfc5772a-11bf-485d-b57c-2d0212ad6b05",
   "metadata": {},
   "outputs": [
    {
     "name": "stdin",
     "output_type": "stream",
     "text": [
      "enter a number 1221\n"
     ]
    },
    {
     "name": "stdout",
     "output_type": "stream",
     "text": [
      "pallindrome\n"
     ]
    }
   ],
   "source": [
    "n=int(input(\"enter a number\"))\n",
    "reverse_no=0\n",
    "r=n\n",
    "while r>0:\n",
    "    last_digit=r%10\n",
    "    reverse_no=reverse_no*10+last_digit\n",
    "    r=r//10\n",
    "if n==reverse_no:\n",
    "    print(\"pallindrome\")\n",
    "else:\n",
    "    print(\"not pallindrome\")"
   ]
  },
  {
   "cell_type": "code",
   "execution_count": null,
   "id": "f36a1c8b-e3bc-441a-ab5b-b6c55d335f47",
   "metadata": {},
   "outputs": [],
   "source": [
    "n=int(input(\"enter a number\"))\n",
    "reverse_no=0\n",
    "r=n\n",
    "while r>0:\n",
    "    last_digit=r%10\n",
    "    r=r//10\n"
   ]
  },
  {
   "cell_type": "code",
   "execution_count": 2,
   "id": "b57dceac-73f9-4d60-b974-d2b2e16f133b",
   "metadata": {},
   "outputs": [
    {
     "name": "stdout",
     "output_type": "stream",
     "text": [
      "1\n",
      "2\n",
      "3\n",
      "4\n",
      "5\n",
      "6\n",
      "7\n",
      "8\n",
      "9\n",
      "10\n",
      "loop over\n"
     ]
    }
   ],
   "source": [
    "i=1\n",
    "while i<=10:\n",
    "    print(i)\n",
    "    i+=1\n",
    "else:\n",
    "    print(\"loop over\")"
   ]
  },
  {
   "cell_type": "code",
   "execution_count": 3,
   "id": "bcc60bc8-6649-4b28-b1f4-f73b74f24506",
   "metadata": {},
   "outputs": [
    {
     "name": "stdout",
     "output_type": "stream",
     "text": [
      "1\n",
      "3\n",
      "5\n",
      "7\n",
      "9\n"
     ]
    }
   ],
   "source": [
    "for i in range(1,10,2):\n",
    "    print(i)"
   ]
  },
  {
   "cell_type": "code",
   "execution_count": 11,
   "id": "0a962084-10fb-426f-adad-9592f081d540",
   "metadata": {},
   "outputs": [
    {
     "name": "stdin",
     "output_type": "stream",
     "text": [
      "enter a number 5\n"
     ]
    },
    {
     "name": "stdout",
     "output_type": "stream",
     "text": [
      "120\n"
     ]
    }
   ],
   "source": [
    "n=int(input(\"enter a number\"))\n",
    "fact=1\n",
    "for i in range(1,n+1):\n",
    "    fact=fact*i\n",
    "print(fact)\n",
    "    "
   ]
  },
  {
   "cell_type": "code",
   "execution_count": 1,
   "id": "df2cc965-8399-4707-896b-2dd9e39d3e7e",
   "metadata": {},
   "outputs": [
    {
     "name": "stdin",
     "output_type": "stream",
     "text": [
      "enter a number 5\n"
     ]
    },
    {
     "name": "stdout",
     "output_type": "stream",
     "text": [
      "55\n"
     ]
    }
   ],
   "source": [
    "n= int(input(\"enter a number\"))#sum of square of n nmbers\n",
    "fact=0\n",
    "for i in range(n+1):\n",
    "    fact=fact+(i*i)\n",
    "print(fact)\n",
    "    \n",
    "    "
   ]
  },
  {
   "cell_type": "code",
   "execution_count": 2,
   "id": "5a8c6f82-16c0-496e-a3f0-02ea6d4dfb4a",
   "metadata": {},
   "outputs": [
    {
     "name": "stdin",
     "output_type": "stream",
     "text": [
      "enter a number 4\n"
     ]
    },
    {
     "name": "stdout",
     "output_type": "stream",
     "text": [
      "10\n"
     ]
    }
   ],
   "source": [
    "n=int(input(\"enter a number\"))#sum of n numbers\n",
    "fact=0\n",
    "for i in range(n+1):\n",
    "    fact=fact+i\n",
    "print(fact)"
   ]
  },
  {
   "cell_type": "code",
   "execution_count": 3,
   "id": "e1eb0dfc-ce08-42b6-95bb-bb31b5993e31",
   "metadata": {},
   "outputs": [
    {
     "name": "stdin",
     "output_type": "stream",
     "text": [
      "enter a number 6\n"
     ]
    },
    {
     "name": "stdout",
     "output_type": "stream",
     "text": [
      "720\n"
     ]
    }
   ],
   "source": [
    "n=int(input(\"enter a number\"))#product of n numbers \n",
    "fact=1\n",
    "for i in range(1,n+1):\n",
    "    fact*=i\n",
    "print(fact)"
   ]
  },
  {
   "cell_type": "code",
   "execution_count": 4,
   "id": "06983434-d62c-42f7-b53d-f10f360ec05e",
   "metadata": {},
   "outputs": [
    {
     "name": "stdout",
     "output_type": "stream",
     "text": [
      "0\n",
      "1\n",
      "2\n",
      "3\n",
      "4\n",
      "break encountered\n"
     ]
    }
   ],
   "source": [
    "for i in range(10):\n",
    "    if i==5:\n",
    "        break\n",
    "    else:\n",
    "        print(i)\n",
    "print(\"break encountered\")"
   ]
  },
  {
   "cell_type": "code",
   "execution_count": 6,
   "id": "1aced0ea-8325-441f-be7d-b02a9035e024",
   "metadata": {},
   "outputs": [
    {
     "name": "stdout",
     "output_type": "stream",
     "text": [
      "1\n",
      "3\n",
      "5\n",
      "7\n",
      "9\n"
     ]
    }
   ],
   "source": [
    "for i in range(10):\n",
    "    if i%2==0:\n",
    "        continue\n",
    "    print(i)"
   ]
  },
  {
   "cell_type": "code",
   "execution_count": 7,
   "id": "91819ac3-2774-4994-b282-d24d6b46c701",
   "metadata": {},
   "outputs": [
    {
     "name": "stdout",
     "output_type": "stream",
     "text": [
      "0\n",
      "2\n",
      "4\n",
      "6\n",
      "8\n"
     ]
    }
   ],
   "source": [
    "for i in range(10):\n",
    "    if i%2!=0:\n",
    "        continue\n",
    "    print(i)\n",
    "    "
   ]
  },
  {
   "cell_type": "code",
   "execution_count": 9,
   "id": "41bbee0b-4777-449c-bf0d-e4c57e27e04f",
   "metadata": {},
   "outputs": [
    {
     "name": "stdin",
     "output_type": "stream",
     "text": [
      " 5\n",
      " 6\n"
     ]
    },
    {
     "name": "stdout",
     "output_type": "stream",
     "text": [
      "11\n"
     ]
    }
   ],
   "source": [
    "def add(a,b):#formal parameter\n",
    "    c=a+b\n",
    "    return c\n",
    "a=int(input(\"\"))\n",
    "b=int(input(\"\"))\n",
    "print(add(a,b))#actual parameter"
   ]
  },
  {
   "cell_type": "code",
   "execution_count": 10,
   "id": "1454c27d-bdfe-4ed2-b398-ec58b68d1a78",
   "metadata": {},
   "outputs": [
    {
     "name": "stdin",
     "output_type": "stream",
     "text": [
      " 5\n"
     ]
    },
    {
     "name": "stdout",
     "output_type": "stream",
     "text": [
      "num is odd\n"
     ]
    }
   ],
   "source": [
    "def checkEO(num):\n",
    "    if num%2==0:\n",
    "        print(\"num is even\")\n",
    "    else:\n",
    "        print(\"num is odd\")\n",
    "n=int(input(\"\"))\n",
    "checkEO(n)"
   ]
  },
  {
   "cell_type": "code",
   "execution_count": 12,
   "id": "401d0080-0e01-4b96-8a52-fd9e92f9c0ce",
   "metadata": {},
   "outputs": [
    {
     "name": "stdin",
     "output_type": "stream",
     "text": [
      " 2\n"
     ]
    },
    {
     "name": "stdout",
     "output_type": "stream",
     "text": [
      "12.56\n"
     ]
    }
   ],
   "source": [
    "def areaOC(n):\n",
    "    a=3.14*n*n\n",
    "    print(a)\n",
    "n=int(input(\"\"))\n",
    "areaOC(n)"
   ]
  },
  {
   "cell_type": "code",
   "execution_count": 19,
   "id": "14a82813-6650-4c12-adf4-8ea86ca4d3d6",
   "metadata": {},
   "outputs": [
    {
     "name": "stdin",
     "output_type": "stream",
     "text": [
      " 789\n"
     ]
    },
    {
     "name": "stdout",
     "output_type": "stream",
     "text": [
      "987\n"
     ]
    }
   ],
   "source": [
    "\n",
    "def reverse(n):\n",
    "    reverse_number=\"\"\n",
    "    while (n>0):\n",
    "        x=n%10\n",
    "        x1=str(x)\n",
    "        reverse_number+=x1\n",
    "        n//=10\n",
    "    return (reverse_number)\n",
    "\n",
    "n=int(input(\"\"))\n",
    "print(reverse(n))\n",
    "        "
   ]
  },
  {
   "cell_type": "code",
   "execution_count": 10,
   "id": "632669ec-5b57-4e2b-9513-2aacf9f3884d",
   "metadata": {},
   "outputs": [
    {
     "name": "stdin",
     "output_type": "stream",
     "text": [
      " 4\n",
      " 5\n"
     ]
    },
    {
     "data": {
      "text/plain": [
       "(5, 4)"
      ]
     },
     "execution_count": 10,
     "metadata": {},
     "output_type": "execute_result"
    }
   ],
   "source": [
    "def swap(a,b):\n",
    "    a=a+b\n",
    "    b=a-b\n",
    "    a=a-b\n",
    "    return (a,b)\n",
    "a=int(input(\"\"))\n",
    "b=int(input(\"\"))\n",
    "swap(a,b)"
   ]
  },
  {
   "cell_type": "code",
   "execution_count": null,
   "id": "6841719b-be77-4556-843b-812b27186321",
   "metadata": {},
   "outputs": [],
   "source": [
    "def bit(n):\n",
    "    j=bin(n)\n",
    "    "
   ]
  },
  {
   "cell_type": "code",
   "execution_count": 11,
   "id": "09f1eb2b-6652-406d-bed4-7f1daea59dee",
   "metadata": {},
   "outputs": [
    {
     "name": "stdin",
     "output_type": "stream",
     "text": [
      " 3\n",
      " 4\n"
     ]
    },
    {
     "data": {
      "text/plain": [
       "(4, 3)"
      ]
     },
     "execution_count": 11,
     "metadata": {},
     "output_type": "execute_result"
    }
   ],
   "source": [
    "def swap(a,b):\n",
    "    a=a^b\n",
    "    b=a^b\n",
    "    a=a^b\n",
    "    return (a,b)\n",
    "a=int(input(\"\"))\n",
    "b=int(input(\"\"))\n",
    "swap(a,b)"
   ]
  },
  {
   "cell_type": "code",
   "execution_count": 6,
   "id": "59cb8db4-2b6e-45a4-b9a5-f1a3108fab21",
   "metadata": {},
   "outputs": [
    {
     "name": "stdin",
     "output_type": "stream",
     "text": [
      " 7\n"
     ]
    },
    {
     "data": {
      "text/plain": [
       "3"
      ]
     },
     "execution_count": 6,
     "metadata": {},
     "output_type": "execute_result"
    }
   ],
   "source": [
    "def number(a):\n",
    "    count=0\n",
    "    while a>0:\n",
    "        if a&1==1:\n",
    "            count+=1\n",
    "        a=a>>1\n",
    "    return count\n",
    "a=int(input())\n",
    "number(a)\n",
    "            \n",
    "    \n",
    "    "
   ]
  },
  {
   "cell_type": "code",
   "execution_count": 15,
   "id": "007ea812-9c31-421c-9195-1f3a987275c3",
   "metadata": {},
   "outputs": [
    {
     "name": "stdin",
     "output_type": "stream",
     "text": [
      " 3\n"
     ]
    },
    {
     "name": "stdout",
     "output_type": "stream",
     "text": [
      "0\n"
     ]
    }
   ],
   "source": [
    "def number(a):\n",
    "    count=0\n",
    "    while a>0:\n",
    "        if a&1==0:\n",
    "            count+=1\n",
    "        a=a>>1\n",
    "    return count\n",
    "a=int(input())\n",
    "print(number(a))"
   ]
  },
  {
   "cell_type": "code",
   "execution_count": 2,
   "id": "ced00a2c-79ef-44f2-bfeb-49f0b3fe7ef0",
   "metadata": {},
   "outputs": [
    {
     "name": "stdin",
     "output_type": "stream",
     "text": [
      " 5\n"
     ]
    },
    {
     "data": {
      "text/plain": [
       "(2, 1)"
      ]
     },
     "execution_count": 2,
     "metadata": {},
     "output_type": "execute_result"
    }
   ],
   "source": [
    "def number(a):\n",
    "    count1=0\n",
    "    count2=0\n",
    "    while a>0:\n",
    "        if a&1==1:\n",
    "            count1+=1\n",
    "        else:\n",
    "            a&1==0\n",
    "            count2+=1\n",
    "        a=a>>1\n",
    "    return count1,count2\n",
    "a=int(input())\n",
    "number(a)\n"
   ]
  },
  {
   "cell_type": "code",
   "execution_count": 1,
   "id": "355ecb61-1aab-4dfc-bbac-8bf030e104b0",
   "metadata": {},
   "outputs": [
    {
     "name": "stdin",
     "output_type": "stream",
     "text": [
      "enter a number 5\n",
      "enter a number 6\n"
     ]
    },
    {
     "data": {
      "text/plain": [
       "30"
      ]
     },
     "execution_count": 1,
     "metadata": {},
     "output_type": "execute_result"
    }
   ],
   "source": [
    "#recursion\n",
    "def recursive_mul(a,b):\n",
    "    if b==0:\n",
    "        return 0\n",
    "    else:\n",
    "        return a+recursive_mul(a,(b-1))\n",
    "a=int(input(\"enter a number\"))\n",
    "b=int(input(\"enter a number\"))\n",
    "recursive_mul(a,b)"
   ]
  },
  {
   "cell_type": "code",
   "execution_count": 3,
   "id": "72a58705-ceb3-41e1-924d-1d7b59be917e",
   "metadata": {},
   "outputs": [
    {
     "name": "stdin",
     "output_type": "stream",
     "text": [
      " 5\n"
     ]
    },
    {
     "data": {
      "text/plain": [
       "120"
      ]
     },
     "execution_count": 3,
     "metadata": {},
     "output_type": "execute_result"
    }
   ],
   "source": [
    "def fact(n):\n",
    "    if n==0 or n==1:\n",
    "        return 1\n",
    "    else:\n",
    "        return n*fact(n-1)\n",
    "n=int(input())\n",
    "fact(n)"
   ]
  },
  {
   "cell_type": "code",
   "execution_count": 10,
   "id": "849b9203-325b-4c20-b147-0d9d496bfa14",
   "metadata": {},
   "outputs": [
    {
     "name": "stdin",
     "output_type": "stream",
     "text": [
      " 5\n",
      " 4\n"
     ]
    },
    {
     "data": {
      "text/plain": [
       "625"
      ]
     },
     "execution_count": 10,
     "metadata": {},
     "output_type": "execute_result"
    }
   ],
   "source": [
    "def power(a,n):\n",
    "    if n==0: \n",
    "        return 1\n",
    "    else: \n",
    "        return a*power(a,n-1)\n",
    "a=int(input()) \n",
    "n=int(input())\n",
    "power(a,n)\n",
    "\n",
    "       "
   ]
  },
  {
   "cell_type": "code",
   "execution_count": 15,
   "id": "c5587e73-32ce-4709-acaa-0faad28dc3e1",
   "metadata": {},
   "outputs": [
    {
     "name": "stdin",
     "output_type": "stream",
     "text": [
      " 5\n",
      " 3\n"
     ]
    },
    {
     "data": {
      "text/plain": [
       "125"
      ]
     },
     "execution_count": 15,
     "metadata": {},
     "output_type": "execute_result"
    }
   ],
   "source": [
    "def power(a,n):\n",
    "    if n==0:\n",
    "        return 1\n",
    "    elif n%2==0:\n",
    "        result=power(a,(n//2))\n",
    "        return result*result\n",
    "    else:\n",
    "        result=power(a,(n//2))\n",
    "        return result*result*a\n",
    "a=int(input())\n",
    "n=int(input())\n",
    "power(a,n)\n",
    "        "
   ]
  },
  {
   "cell_type": "code",
   "execution_count": null,
   "id": "f1ed9315-b5d7-432a-ace9-f7c62938b6b6",
   "metadata": {},
   "outputs": [],
   "source": [
    "#divison\n",
    "#ncr"
   ]
  },
  {
   "cell_type": "code",
   "execution_count": 2,
   "id": "403ee670-8232-42af-8d8a-97b6aa6a9697",
   "metadata": {},
   "outputs": [
    {
     "data": {
      "text/plain": [
       "[]"
      ]
     },
     "execution_count": 2,
     "metadata": {},
     "output_type": "execute_result"
    }
   ],
   "source": [
    "x=[]\n",
    "x"
   ]
  },
  {
   "cell_type": "code",
   "execution_count": 3,
   "id": "a51c5094-a41d-49b5-b157-5e68e675fefb",
   "metadata": {},
   "outputs": [
    {
     "data": {
      "text/plain": [
       "[1, 2, 3, 4, 5]"
      ]
     },
     "execution_count": 3,
     "metadata": {},
     "output_type": "execute_result"
    }
   ],
   "source": [
    "x=[1,2,3,4,5]\n"
   ]
  },
  {
   "cell_type": "code",
   "execution_count": 1,
   "id": "253872a7-485e-4946-963a-f37fc7d3e246",
   "metadata": {},
   "outputs": [
    {
     "name": "stdout",
     "output_type": "stream",
     "text": [
      "['Adarsh', 20, 'play']\n"
     ]
    },
    {
     "data": {
      "text/plain": [
       "list"
      ]
     },
     "execution_count": 1,
     "metadata": {},
     "output_type": "execute_result"
    }
   ],
   "source": [
    "list2 = ['Adarsh',20,'play']\n",
    "print(list2)\n",
    "type(list2)"
   ]
  },
  {
   "cell_type": "code",
   "execution_count": 8,
   "id": "ae63307d-84b1-423c-bd2a-1a93cf6ddaa6",
   "metadata": {},
   "outputs": [
    {
     "data": {
      "text/plain": [
       "3"
      ]
     },
     "execution_count": 8,
     "metadata": {},
     "output_type": "execute_result"
    }
   ],
   "source": [
    "len(list2)"
   ]
  },
  {
   "cell_type": "code",
   "execution_count": 13,
   "id": "5b64b496-89e8-4d8b-83fb-25d9b0f77715",
   "metadata": {},
   "outputs": [
    {
     "name": "stdout",
     "output_type": "stream",
     "text": [
      "False\n"
     ]
    }
   ],
   "source": [
    "def  my_in(list,key):\n",
    "    for i in list:\n",
    "        if(key == i):\n",
    "            return True\n",
    "    return False\n",
    "        \n",
    "list=[17,21,43,45,88]\n",
    "print(my_in(list,20))\n"
   ]
  },
  {
   "cell_type": "code",
   "execution_count": 1,
   "id": "126cac58-07fe-41c4-9367-5fa625e685d5",
   "metadata": {},
   "outputs": [
    {
     "ename": "RecursionError",
     "evalue": "maximum recursion depth exceeded in comparison",
     "output_type": "error",
     "traceback": [
      "\u001b[1;31m---------------------------------------------------------------------------\u001b[0m",
      "\u001b[1;31mRecursionError\u001b[0m                            Traceback (most recent call last)",
      "Cell \u001b[1;32mIn[1], line 8\u001b[0m\n\u001b[0;32m      6\u001b[0m index\u001b[38;5;241m=\u001b[39m\u001b[38;5;241m0\u001b[39m\n\u001b[0;32m      7\u001b[0m \u001b[38;5;28mlist\u001b[39m\u001b[38;5;241m=\u001b[39m[\u001b[38;5;241m1\u001b[39m,\u001b[38;5;241m2\u001b[39m,\u001b[38;5;241m3\u001b[39m,\u001b[38;5;241m4\u001b[39m,\u001b[38;5;241m5\u001b[39m]\n\u001b[1;32m----> 8\u001b[0m \u001b[38;5;28mprint\u001b[39m(recursive_len(\u001b[38;5;28mlist\u001b[39m,index))\n",
      "Cell \u001b[1;32mIn[1], line 5\u001b[0m, in \u001b[0;36mrecursive_len\u001b[1;34m(list, index)\u001b[0m\n\u001b[0;32m      3\u001b[0m     \u001b[38;5;28;01mreturn\u001b[39;00m \u001b[38;5;241m0\u001b[39m\n\u001b[0;32m      4\u001b[0m \u001b[38;5;28;01melse\u001b[39;00m:\n\u001b[1;32m----> 5\u001b[0m     \u001b[38;5;28;01mreturn\u001b[39;00m \u001b[38;5;241m1\u001b[39m\u001b[38;5;241m+\u001b[39mrecursive_len(\u001b[38;5;28mlist\u001b[39m,index\u001b[38;5;241m+\u001b[39m\u001b[38;5;241m1\u001b[39m)\n",
      "Cell \u001b[1;32mIn[1], line 5\u001b[0m, in \u001b[0;36mrecursive_len\u001b[1;34m(list, index)\u001b[0m\n\u001b[0;32m      3\u001b[0m     \u001b[38;5;28;01mreturn\u001b[39;00m \u001b[38;5;241m0\u001b[39m\n\u001b[0;32m      4\u001b[0m \u001b[38;5;28;01melse\u001b[39;00m:\n\u001b[1;32m----> 5\u001b[0m     \u001b[38;5;28;01mreturn\u001b[39;00m \u001b[38;5;241m1\u001b[39m\u001b[38;5;241m+\u001b[39mrecursive_len(\u001b[38;5;28mlist\u001b[39m,index\u001b[38;5;241m+\u001b[39m\u001b[38;5;241m1\u001b[39m)\n",
      "    \u001b[1;31m[... skipping similar frames: recursive_len at line 5 (2968 times)]\u001b[0m\n",
      "Cell \u001b[1;32mIn[1], line 5\u001b[0m, in \u001b[0;36mrecursive_len\u001b[1;34m(list, index)\u001b[0m\n\u001b[0;32m      3\u001b[0m     \u001b[38;5;28;01mreturn\u001b[39;00m \u001b[38;5;241m0\u001b[39m\n\u001b[0;32m      4\u001b[0m \u001b[38;5;28;01melse\u001b[39;00m:\n\u001b[1;32m----> 5\u001b[0m     \u001b[38;5;28;01mreturn\u001b[39;00m \u001b[38;5;241m1\u001b[39m\u001b[38;5;241m+\u001b[39mrecursive_len(\u001b[38;5;28mlist\u001b[39m,index\u001b[38;5;241m+\u001b[39m\u001b[38;5;241m1\u001b[39m)\n",
      "Cell \u001b[1;32mIn[1], line 2\u001b[0m, in \u001b[0;36mrecursive_len\u001b[1;34m(list, index)\u001b[0m\n\u001b[0;32m      1\u001b[0m \u001b[38;5;28;01mdef\u001b[39;00m \u001b[38;5;21mrecursive_len\u001b[39m(\u001b[38;5;28mlist\u001b[39m,index):\n\u001b[1;32m----> 2\u001b[0m     \u001b[38;5;28;01mif\u001b[39;00m \u001b[38;5;28mlist\u001b[39m\u001b[38;5;241m==\u001b[39m\u001b[38;5;28mlen\u001b[39m(\u001b[38;5;28mlist\u001b[39m)\u001b[38;5;241m-\u001b[39m\u001b[38;5;241m1\u001b[39m:\n\u001b[0;32m      3\u001b[0m         \u001b[38;5;28;01mreturn\u001b[39;00m \u001b[38;5;241m0\u001b[39m\n\u001b[0;32m      4\u001b[0m     \u001b[38;5;28;01melse\u001b[39;00m:\n",
      "\u001b[1;31mRecursionError\u001b[0m: maximum recursion depth exceeded in comparison"
     ]
    }
   ],
   "source": [
    "def recursive_len(list,index):\n",
    "    if list==len(list)-1:\n",
    "        return 0\n",
    "    else:\n",
    "        return 1+recursive_len(list,index+1)\n",
    "index=0\n",
    "list=[1,2,3,4,5]\n",
    "print(recursive_len(list,index))"
   ]
  },
  {
   "cell_type": "code",
   "execution_count": 15,
   "id": "5e178c90-c927-46f0-83a5-764ad04a3ac9",
   "metadata": {},
   "outputs": [
    {
     "name": "stdin",
     "output_type": "stream",
     "text": [
      " 8\n",
      " 4\n"
     ]
    },
    {
     "name": "stdout",
     "output_type": "stream",
     "text": [
      "2\n"
     ]
    }
   ],
   "source": [
    "def divison(a,n):\n",
    "    if n==0:\n",
    "        return value_error\n",
    "    elif a<n:\n",
    "        return 0\n",
    "    else:\n",
    "        return 1+divison(a-n,n)\n",
    "a=int(input())\n",
    "n=int(input())\n",
    "print(divison(a,n))"
   ]
  },
  {
   "cell_type": "code",
   "execution_count": 14,
   "id": "84ddb151-b878-4b56-988a-6128fb566d41",
   "metadata": {},
   "outputs": [
    {
     "name": "stdout",
     "output_type": "stream",
     "text": [
      "6\n"
     ]
    }
   ],
   "source": [
    "def max(list):\n",
    "    max=list[0]\n",
    "    for i in list:\n",
    "        if i>max:\n",
    "            max=i\n",
    "    return max\n",
    "list=[1,2,3,4,5,6]\n",
    "print(max(list))\n",
    "    "
   ]
  },
  {
   "cell_type": "code",
   "execution_count": 1,
   "id": "f9710aa5-2d93-48a5-9b25-4a4512555068",
   "metadata": {},
   "outputs": [
    {
     "name": "stdout",
     "output_type": "stream",
     "text": [
      "2\n"
     ]
    }
   ],
   "source": [
    "def min(list):\n",
    "    min=list[0]\n",
    "    for i in list:\n",
    "        if i<min:\n",
    "            min=i\n",
    "    return min\n",
    "list=[6,2,3,4,5,6]\n",
    "print(min(list))"
   ]
  },
  {
   "cell_type": "code",
   "execution_count": 18,
   "id": "8d9e51f4-64ba-4d78-998f-72b9fcc1e722",
   "metadata": {},
   "outputs": [
    {
     "name": "stdout",
     "output_type": "stream",
     "text": [
      "(6, 1)\n"
     ]
    }
   ],
   "source": [
    "def maxmin(list):\n",
    "    max=list[0]\n",
    "    min=list[0]\n",
    "    for i in list:\n",
    "        if i>max:\n",
    "            max=i\n",
    "        elif i<min:\n",
    "            min=i\n",
    "    return max,min\n",
    "list=[1,2,3,4,5,6]\n",
    "print(maxmin(list))"
   ]
  },
  {
   "cell_type": "code",
   "execution_count": 19,
   "id": "268133dd-6593-4e08-a658-bde2c3d73eff",
   "metadata": {},
   "outputs": [
    {
     "name": "stdout",
     "output_type": "stream",
     "text": [
      "(6, 1)\n"
     ]
    }
   ],
   "source": [
    "def maxmin(list):\n",
    "    max=list[0]\n",
    "    min=list[0]\n",
    "    for i in list:\n",
    "        if i>max:\n",
    "            max=i\n",
    "    for i in list:\n",
    "        if i<min:\n",
    "            min=i\n",
    "    return max,min\n",
    "list=[1,2,3,4,5,6]\n",
    "print(maxmin(list))"
   ]
  },
  {
   "cell_type": "code",
   "execution_count": null,
   "id": "9104e08a-ee9a-4195-b348-0ad2b405166b",
   "metadata": {},
   "outputs": [],
   "source": [
    "def maxmin(list):\n",
    "    "
   ]
  },
  {
   "cell_type": "code",
   "execution_count": 20,
   "id": "ed314b76-7e47-47b9-b282-1e437aab7c92",
   "metadata": {},
   "outputs": [
    {
     "name": "stdout",
     "output_type": "stream",
     "text": [
      "6\n"
     ]
    }
   ],
   "source": [
    "def sum(a):\n",
    "    sum=0\n",
    "    for i in list:\n",
    "        sum+=i\n",
    "        i+1\n",
    "    return sum\n",
    "list=[1,2,3]\n",
    "print(sum(list))\n",
    "    "
   ]
  },
  {
   "cell_type": "code",
   "execution_count": 3,
   "id": "295e2648-380d-41fc-a3a7-86c5df994a82",
   "metadata": {},
   "outputs": [
    {
     "name": "stdout",
     "output_type": "stream",
     "text": [
      "21\n"
     ]
    }
   ],
   "source": [
    "def sum(list,index):\n",
    "        if index<0:\n",
    "            return 0\n",
    "        else:\n",
    "            return list[index]+sum(list,index-1)\n",
    "\n",
    "list = [1,2,3,4,5,6]\n",
    "index = len(list)-1\n",
    "print(sum(list,index))\n",
    "            \n",
    "    "
   ]
  },
  {
   "cell_type": "code",
   "execution_count": null,
   "id": "d8ee6078-82c0-4dff-8ce2-0fc15ff04914",
   "metadata": {},
   "outputs": [],
   "source": [
    "def append(a,b):\n",
    "    t,"
   ]
  },
  {
   "cell_type": "code",
   "execution_count": 2,
   "id": "7bbf15fa-3804-4c33-a6f0-1e835c4d8a5c",
   "metadata": {},
   "outputs": [
    {
     "name": "stdout",
     "output_type": "stream",
     "text": [
      "(-23928, 32823)\n"
     ]
    }
   ],
   "source": [
    "def minMax(list,low,high):\n",
    "    if(low==high):\n",
    "        return list[low],list[low]\n",
    "    elif(high==low+1):\n",
    "        if(low>high):\n",
    "            return list[high],list[low]\n",
    "        else:\n",
    "            return list[low],list[high]\n",
    "    else:\n",
    "        mid=(low+high)//2\n",
    "        left_min,left_max=minMax(list,low,mid)\n",
    "        right_min,right_max=minMax(list,mid+1,high)\n",
    "        return min(left_min,right_min),max(left_max,right_max)\n",
    "\n",
    "def min(a,b):\n",
    "    if(a<b):\n",
    "        return a\n",
    "    else:\n",
    "        return b\n",
    "\n",
    "def max(a,b):\n",
    "    if(a>b):\n",
    "        return a\n",
    "    else:\n",
    "        return b\n",
    "\n",
    "list=[1,2,8,-77,22,-238,283,-23928,32823]\n",
    "low=0\n",
    "high=len(list)-1\n",
    "print(minMax(list,low,high))"
   ]
  },
  {
   "cell_type": "code",
   "execution_count": 8,
   "id": "7f8b6278-e88c-4426-985c-d208ef0c1110",
   "metadata": {},
   "outputs": [
    {
     "name": "stdout",
     "output_type": "stream",
     "text": [
      "[-23928, -238, -77, 1, 2, 8, 22, 283, 32823]\n"
     ]
    }
   ],
   "source": [
    "def bubble_sorting(list):\n",
    "    \n",
    "list=[1,2,8,-77,22,-238,283,-23928,32823]\n",
    "bubble_sorting(list)"
   ]
  },
  {
   "cell_type": "code",
   "execution_count": 13,
   "id": "421d3b1d-b579-4d63-ae85-79d507ed8c1d",
   "metadata": {},
   "outputs": [
    {
     "name": "stdout",
     "output_type": "stream",
     "text": [
      "[1, 2, 367, 67, 89, -2]\n",
      "[-2, 1, 2, 67, 89, 367]\n"
     ]
    }
   ],
   "source": [
    "def bubble_sort(a):\n",
    "    for i in range(len(list)-1):\n",
    "        for j in range(len(list)-1):\n",
    "            if list[j]>list[j+1]:\n",
    "                temp=list[j]\n",
    "                list[j]=list[j+1]\n",
    "                list[j+1]=temp\n",
    "    return list\n",
    "list=[1,2,367,67,89,-2]\n",
    "print(list)\n",
    "print(bubble_sort(list))\n",
    "            \n",
    "            \n",
    "        "
   ]
  },
  {
   "cell_type": "code",
   "execution_count": 14,
   "id": "2aa976a6-155c-4c15-a4bb-32a3861abc3b",
   "metadata": {},
   "outputs": [
    {
     "name": "stdout",
     "output_type": "stream",
     "text": [
      "[-88, -13, 1, 24, 67, 999]\n"
     ]
    }
   ],
   "source": [
    "def recursive_bs(list,n):\n",
    "    if n==1:\n",
    "        return list\n",
    "    else:\n",
    "        for j in range(len(list)-1):\n",
    "            if list[j]>list[j+1]:\n",
    "                temp=list[j]\n",
    "                list[j]=list[j+1]\n",
    "                list[j+1]=temp\n",
    "        return recursive_bs(list,(n-1))\n",
    "list=[1,24,-13,67,-88,999]\n",
    "n=len(list)-1\n",
    "print(recursive_bs(list,n))"
   ]
  },
  {
   "cell_type": "code",
   "execution_count": 14,
   "id": "a1f13a3d-7b21-43ce-b8ff-bfbcc7f841d1",
   "metadata": {},
   "outputs": [
    {
     "name": "stdout",
     "output_type": "stream",
     "text": [
      "[-88, -13, 1, 24, 67, 999]\n"
     ]
    }
   ],
   "source": [
    "def rec_ss(list,n):\n",
    "    if(n==len(list)-1):\n",
    "        print(list)\n",
    "    else:\n",
    "        i=n+1\n",
    "        while(i<(len(list)-1)):\n",
    "            if(list[n]>list[i]):\n",
    "                temp=list[n]\n",
    "                list[n]=list[i]\n",
    "                list[i]=temp\n",
    "            i+=1\n",
    "        return rec_ss(list,n+1)\n",
    "\n",
    "list=[1,24,-13,67,-88,999]\n",
    "rec_ss(list,0)"
   ]
  },
  {
   "cell_type": "code",
   "execution_count": 16,
   "id": "b6449d2f-e298-4e61-a181-aefe15f396b3",
   "metadata": {},
   "outputs": [
    {
     "name": "stdout",
     "output_type": "stream",
     "text": [
      "[-88, -13, 1, 24, 67, 999]\n"
     ]
    }
   ],
   "source": [
    "def ss(list):\n",
    "    for i in range(len(list)-1):\n",
    "        for j in range(len(list)-1):\n",
    "            if(list[i]<list[j]):\n",
    "                temp=list[j]\n",
    "                list[j]=list[i]\n",
    "                list[i]=temp\n",
    "    print(list)\n",
    "\n",
    "list=[1,24,-13,67,-88,999]\n",
    "ss(list)"
   ]
  },
  {
   "cell_type": "code",
   "execution_count": 7,
   "id": "494d3bf1-b6a4-4da3-8830-c5546e98fe00",
   "metadata": {},
   "outputs": [
    {
     "data": {
      "text/plain": [
       "5"
      ]
     },
     "execution_count": 7,
     "metadata": {},
     "output_type": "execute_result"
    }
   ],
   "source": [
    "def firstandlast(n):\n",
    "    if n<10:\n",
    "        return n\n",
    "    else:\n",
    "        last_digit=n%10\n",
    "        while n>=10:\n",
    "            n//=10\n",
    "        return last_digit+n\n",
    "n = 5\n",
    "firstandlast(n)\n",
    "        "
   ]
  },
  {
   "cell_type": "code",
   "execution_count": 10,
   "id": "13e84557-eb33-4f2c-b78b-accf3dcc2108",
   "metadata": {},
   "outputs": [
    {
     "name": "stdout",
     "output_type": "stream",
     "text": [
      "[1, 2, 3, 4, 5, 6, 7, 8, 9, 10, 11, 12, 13]\n",
      "[-78, -14, -13, -11, -9, -3, 1, 2, 4, 5, 6, 7, 8, 100, 123]\n"
     ]
    }
   ],
   "source": [
    "def merging(list1,list2):#sorting of 2 lists and storing it in a new list\n",
    "    j=0\n",
    "    i=0\n",
    "    list3=[]\n",
    "    while i<=len(list1)-1 and j<=len(list2)-1:\n",
    "        if list1[i]<list2[j]:\n",
    "            list3.append(list1[i])\n",
    "            i+=1\n",
    "        elif list2[j]<list1[i]:\n",
    "            list3.append(list2[j])\n",
    "            j+=1\n",
    "    if i>len(list1)-1:\n",
    "        while(j<len(list2)-1):\n",
    "            list3.append(list2[j])\n",
    "            j+=1\n",
    "    if j>len(list2)-1:\n",
    "        while i<len(list1)-1:\n",
    "            list3.append(list1[i])\n",
    "            i+=1\n",
    "    return list3\n",
    "list1=[1,2,3,4,5,6,7]\n",
    "list2=[8,9,10,11,12,13,14]\n",
    "print(merging(list1,list2))\n",
    "        \n",
    "\n",
    "\n",
    "\n",
    "def mergesort(list,low,high):\n",
    "    if low==high:\n",
    "        return [list[low]]\n",
    "    else:\n",
    "        mid=(low+high)//2\n",
    "        left_sorted=mergesort(list,low,mid)\n",
    "        right_sorted=mergesort(list,mid+1,high)\n",
    "        return merging(left_sorted,right_sorted)\n",
    "def merging(list1,list2):\n",
    "    j=0\n",
    "    i=0\n",
    "    list3=[]\n",
    "    while i<=len(list1)-1 and j<=len(list2)-1:\n",
    "        if list1[i]<=list2[j]:\n",
    "            list3.append(list1[i])\n",
    "            i+=1\n",
    "        elif list2[j]<=list1[i]:\n",
    "            list3.append(list2[j])\n",
    "            j+=1\n",
    "    if i>len(list1)-1:\n",
    "        while(j<=len(list2)-1):\n",
    "            list3.append(list2[j])\n",
    "            j+=1\n",
    "    if j>len(list2)-1:\n",
    "        while i<=len(list1)-1:\n",
    "            list3.append(list1[i])\n",
    "            i+=1\n",
    "    return list3\n",
    "list1=[1,2,-3,4,5,6,7,-14,-78,8,-9,100,-11,123,-13]\n",
    "list2=[8,-9,100,-11,123,-13]\n",
    "print(mergesort(list1,0,len(list1)-1))\n",
    "        \n",
    "    \n",
    "    \n",
    "    "
   ]
  },
  {
   "cell_type": "code",
   "execution_count": 6,
   "id": "6169bfee-a623-48d5-83f1-9a9585891b05",
   "metadata": {},
   "outputs": [
    {
     "name": "stdout",
     "output_type": "stream",
     "text": [
      "3\n"
     ]
    }
   ],
   "source": [
    "def my_count(number,list):\n",
    "    count=0\n",
    "    for i in list:\n",
    "        if i==number:\n",
    "            count+=1\n",
    "    return count\n",
    "list=[1,2,2,2,4,5,6,8,9]\n",
    "print(my_count(2,list))"
   ]
  },
  {
   "cell_type": "code",
   "execution_count": null,
   "id": "a2dc9fc5-e6f9-4cf2-918c-1052ca50eb3f",
   "metadata": {},
   "outputs": [],
   "source": [
    "def my_count(number,list):\n",
    "    if list==[]:\n",
    "        return 0\n",
    "    elif"
   ]
  },
  {
   "cell_type": "code",
   "execution_count": 2,
   "id": "89e13ed6-ec29-45e1-8db2-c3c20eb5717c",
   "metadata": {},
   "outputs": [
    {
     "data": {
      "text/plain": [
       "[2, 3, 6]"
      ]
     },
     "execution_count": 2,
     "metadata": {},
     "output_type": "execute_result"
    }
   ],
   "source": [
    "def common(list1,list2):\n",
    "    list3=[]\n",
    "    i=0\n",
    "    while i<len(list1)-1:\n",
    "        j=0\n",
    "        while j<len(list2)-1:\n",
    "            if list1[i]==list2[j]:\n",
    "                list3.append(list1[i])\n",
    "            j+=1\n",
    "        i+=1\n",
    "    return list3\n",
    "list1=[1,2,3,4,5,6,8]\n",
    "list2=[2,3,6,9,10,12]\n",
    "common(list1,list2)\n"
   ]
  },
  {
   "cell_type": "code",
   "execution_count": 6,
   "id": "645b35c9-f485-4802-8f59-127270057454",
   "metadata": {},
   "outputs": [
    {
     "name": "stdin",
     "output_type": "stream",
     "text": [
      " 5\n",
      " -6\n"
     ]
    },
    {
     "data": {
      "text/plain": [
       "False"
      ]
     },
     "execution_count": 6,
     "metadata": {},
     "output_type": "execute_result"
    }
   ],
   "source": [
    "def biwise(a,b):\n",
    "    if a^b<0:\n",
    "        return False\n",
    "    else:\n",
    "        return True\n",
    "a=int(input())\n",
    "b=int(input())\n",
    "biwise(a,b)"
   ]
  },
  {
   "cell_type": "code",
   "execution_count": 8,
   "id": "aad5622e-e366-4c93-a25e-39e4afe3e585",
   "metadata": {},
   "outputs": [
    {
     "data": {
      "text/plain": [
       "(1, 23, 5)"
      ]
     },
     "execution_count": 8,
     "metadata": {},
     "output_type": "execute_result"
    }
   ],
   "source": [
    "t1=(1,23)\n",
    "t2=(5,)\n",
    "t3=t1+t2\n",
    "t3"
   ]
  },
  {
   "cell_type": "code",
   "execution_count": 9,
   "id": "53aeb34b-7053-4c49-b6bb-824d92f18f78",
   "metadata": {},
   "outputs": [
    {
     "data": {
      "text/plain": [
       "'strstrstrstrstr'"
      ]
     },
     "execution_count": 9,
     "metadata": {},
     "output_type": "execute_result"
    }
   ],
   "source": [
    "t=(\"str\")*5\n",
    "t"
   ]
  },
  {
   "cell_type": "code",
   "execution_count": 10,
   "id": "58daf9e5-cdc7-4b64-99ec-31aa03344bb5",
   "metadata": {},
   "outputs": [
    {
     "data": {
      "text/plain": [
       "2"
      ]
     },
     "execution_count": 10,
     "metadata": {},
     "output_type": "execute_result"
    }
   ],
   "source": [
    "t=(1,2,3,3)\n",
    "t.count(3)"
   ]
  },
  {
   "cell_type": "code",
   "execution_count": 11,
   "id": "b268f360-131f-4dca-8127-e62ffe3de067",
   "metadata": {},
   "outputs": [
    {
     "ename": "TypeError",
     "evalue": "tuple.count() takes exactly one argument (0 given)",
     "output_type": "error",
     "traceback": [
      "\u001b[1;31m---------------------------------------------------------------------------\u001b[0m",
      "\u001b[1;31mTypeError\u001b[0m                                 Traceback (most recent call last)",
      "Cell \u001b[1;32mIn[11], line 1\u001b[0m\n\u001b[1;32m----> 1\u001b[0m t\u001b[38;5;241m.\u001b[39mcount()\n",
      "\u001b[1;31mTypeError\u001b[0m: tuple.count() takes exactly one argument (0 given)"
     ]
    }
   ],
   "source": [
    "t.count()"
   ]
  },
  {
   "cell_type": "code",
   "execution_count": null,
   "id": "679f6aee-f566-42af-a0c3-5911da3ae30f",
   "metadata": {},
   "outputs": [],
   "source": [
    "t=(1,2,4,[1,2])"
   ]
  },
  {
   "cell_type": "code",
   "execution_count": 14,
   "id": "e0eecb50-c905-45d7-8db3-7cc6e3dc041f",
   "metadata": {},
   "outputs": [
    {
     "name": "stdout",
     "output_type": "stream",
     "text": [
      "None\n"
     ]
    }
   ],
   "source": [
    "def uncommont1(t1,t2):\n",
    "    i=0\n",
    "    j=0\n",
    "    while i<len(t1)-1:\n",
    "        while j<len(t2)-1:\n",
    "            if t1[i]==t2[j]:\n",
    "                return t1\n",
    "            else:\n",
    "                return\n",
    "            \n",
    "        \n",
    "        \n",
    "t1=(1,2,3,4,5,6,89)\n",
    "t2=(45,3,56,67,89)\n",
    "print(uncommont1(t1,t2))"
   ]
  },
  {
   "cell_type": "code",
   "execution_count": 15,
   "id": "a5c65c86-0bd2-44ec-861d-2523232e7168",
   "metadata": {},
   "outputs": [
    {
     "data": {
      "text/plain": [
       "4"
      ]
     },
     "execution_count": 15,
     "metadata": {},
     "output_type": "execute_result"
    }
   ],
   "source": [
    "t=(1,2,3,5,[4,5,6])\n",
    "t[4][0]"
   ]
  },
  {
   "cell_type": "code",
   "execution_count": 3,
   "id": "930165b3-71d2-4343-92f3-4e485fdf08a4",
   "metadata": {},
   "outputs": [
    {
     "name": "stdout",
     "output_type": "stream",
     "text": [
      "[1]\n",
      "[1, 2]\n",
      "[1, 2, 3]\n",
      "[1, 2, 3, 4]\n",
      "[1, 2, 3, 4, 5]\n",
      "[2]\n",
      "[2, 3]\n",
      "[2, 3, 4]\n",
      "[2, 3, 4, 5]\n",
      "[3]\n",
      "[3, 4]\n",
      "[3, 4, 5]\n",
      "[4]\n",
      "[4, 5]\n",
      "[5]\n",
      "None\n"
     ]
    }
   ],
   "source": [
    "def combinations(list):#do it in while\n",
    "    for i in range(0,len(list)):\n",
    "        for j in range(i+1,len(list)+1):\n",
    "            print(list[i:j])\n",
    "    \n",
    "list=[1,2,3,4,5]\n",
    "print(combinations(list))\n",
    "            "
   ]
  },
  {
   "cell_type": "code",
   "execution_count": 4,
   "id": "7361267f-cc1b-4c6a-9ad4-01a8c0ebfa2c",
   "metadata": {},
   "outputs": [],
   "source": [
    "set={1,2,3,4}"
   ]
  },
  {
   "cell_type": "code",
   "execution_count": 6,
   "id": "b70f612c-bb52-47dd-847c-0aa1b296fe53",
   "metadata": {},
   "outputs": [],
   "source": [
    "set.add(100)#for 1 element"
   ]
  },
  {
   "cell_type": "code",
   "execution_count": 7,
   "id": "7a1497de-426b-4989-88ce-a21b06a4089d",
   "metadata": {},
   "outputs": [
    {
     "data": {
      "text/plain": [
       "{1, 2, 3, 4, 100}"
      ]
     },
     "execution_count": 7,
     "metadata": {},
     "output_type": "execute_result"
    }
   ],
   "source": [
    "set"
   ]
  },
  {
   "cell_type": "code",
   "execution_count": 8,
   "id": "697e84bc-9503-4fb8-9cc2-aa6745f1143c",
   "metadata": {},
   "outputs": [],
   "source": [
    "set.update([7,8])"
   ]
  },
  {
   "cell_type": "code",
   "execution_count": 9,
   "id": "ffe66ec6-8aad-4235-9012-cc7dd1d5dbf7",
   "metadata": {},
   "outputs": [
    {
     "data": {
      "text/plain": [
       "{1, 2, 3, 4, 7, 8, 100}"
      ]
     },
     "execution_count": 9,
     "metadata": {},
     "output_type": "execute_result"
    }
   ],
   "source": [
    "set"
   ]
  },
  {
   "cell_type": "code",
   "execution_count": 22,
   "id": "c0853680-0a3d-4bec-ba35-0ca9fb2713a3",
   "metadata": {},
   "outputs": [],
   "source": [
    "set1={3,4,5,6}"
   ]
  },
  {
   "cell_type": "code",
   "execution_count": 11,
   "id": "04a74210-5edd-40d5-99f1-81c93da571c9",
   "metadata": {},
   "outputs": [],
   "source": [
    "set1.update([1,2],{5,6})"
   ]
  },
  {
   "cell_type": "code",
   "execution_count": 21,
   "id": "7a78dc7c-fda2-4127-bc6e-9f7c29e0203a",
   "metadata": {},
   "outputs": [
    {
     "data": {
      "text/plain": [
       "{1, 2, 3, 4, 6}"
      ]
     },
     "execution_count": 21,
     "metadata": {},
     "output_type": "execute_result"
    }
   ],
   "source": [
    "set1"
   ]
  },
  {
   "cell_type": "code",
   "execution_count": 27,
   "id": "d0fc3a60-c73f-435b-b305-fa1dc1c53f2b",
   "metadata": {},
   "outputs": [
    {
     "data": {
      "text/plain": [
       "{3, 4}"
      ]
     },
     "execution_count": 27,
     "metadata": {},
     "output_type": "execute_result"
    }
   ],
   "source": [
    "set1.remove(6)\n",
    "set1"
   ]
  },
  {
   "cell_type": "code",
   "execution_count": 19,
   "id": "ab42b0d1-40b8-4d16-a80c-744102fe2789",
   "metadata": {},
   "outputs": [
    {
     "name": "stdout",
     "output_type": "stream",
     "text": [
      "[1, 2, 3, 5, 6]\n"
     ]
    }
   ],
   "source": [
    "def discard(list,key):\n",
    "    list1=[]\n",
    "    for i in list:\n",
    "        if i==key:\n",
    "            continue\n",
    "        list1.append(i)\n",
    "    return list1\n",
    "list=[1,2,3,4,5,6]\n",
    "print(discard(list,4))"
   ]
  },
  {
   "cell_type": "code",
   "execution_count": 8,
   "id": "c6fe72af-5506-4ddd-84df-06ddd3996301",
   "metadata": {},
   "outputs": [
    {
     "ename": "TypeError",
     "evalue": "'set' object is not callable",
     "output_type": "error",
     "traceback": [
      "\u001b[1;31m---------------------------------------------------------------------------\u001b[0m",
      "\u001b[1;31mTypeError\u001b[0m                                 Traceback (most recent call last)",
      "Cell \u001b[1;32mIn[8], line 9\u001b[0m\n\u001b[0;32m      7\u001b[0m     \u001b[38;5;28;01mreturn\u001b[39;00m result_set\n\u001b[0;32m      8\u001b[0m input_set \u001b[38;5;241m=\u001b[39m {\u001b[38;5;241m1\u001b[39m, \u001b[38;5;241m2\u001b[39m, \u001b[38;5;241m3\u001b[39m, \u001b[38;5;241m4\u001b[39m, \u001b[38;5;241m5\u001b[39m, \u001b[38;5;241m6\u001b[39m}\n\u001b[1;32m----> 9\u001b[0m \u001b[38;5;28mprint\u001b[39m(discard(input_set, \u001b[38;5;241m5\u001b[39m))\n",
      "Cell \u001b[1;32mIn[8], line 2\u001b[0m, in \u001b[0;36mdiscard\u001b[1;34m(input_set, key)\u001b[0m\n\u001b[0;32m      1\u001b[0m \u001b[38;5;28;01mdef\u001b[39;00m \u001b[38;5;21mdiscard\u001b[39m(input_set, key):\n\u001b[1;32m----> 2\u001b[0m     result_set \u001b[38;5;241m=\u001b[39m \u001b[38;5;28mset\u001b[39m()\n\u001b[0;32m      3\u001b[0m     \u001b[38;5;28;01mfor\u001b[39;00m item \u001b[38;5;129;01min\u001b[39;00m input_set:\n\u001b[0;32m      4\u001b[0m         \u001b[38;5;28;01mif\u001b[39;00m item \u001b[38;5;241m==\u001b[39m key:\n",
      "\u001b[1;31mTypeError\u001b[0m: 'set' object is not callable"
     ]
    }
   ],
   "source": [
    "def discard(input_set, key):\n",
    "    result_set = set()\n",
    "    for item in input_set:\n",
    "        if item == key:\n",
    "            continue\n",
    "        result_set.add(item)\n",
    "    return result_set\n",
    "input_set = {1, 2, 3, 4, 5, 6}\n",
    "print(discard(input_set, 5))"
   ]
  },
  {
   "cell_type": "code",
   "execution_count": null,
   "id": "43c8fdeb-8a3b-4cc2-a243-0dceea6e8f02",
   "metadata": {},
   "outputs": [],
   "source": []
  }
 ],
 "metadata": {
  "kernelspec": {
   "display_name": "Python 3 (ipykernel)",
   "language": "python",
   "name": "python3"
  },
  "language_info": {
   "codemirror_mode": {
    "name": "ipython",
    "version": 3
   },
   "file_extension": ".py",
   "mimetype": "text/x-python",
   "name": "python",
   "nbconvert_exporter": "python",
   "pygments_lexer": "ipython3",
   "version": "3.11.5"
  }
 },
 "nbformat": 4,
 "nbformat_minor": 5
}
