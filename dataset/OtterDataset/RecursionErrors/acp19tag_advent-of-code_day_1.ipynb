{
 "cells": [
  {
   "cell_type": "code",
   "execution_count": 1,
   "metadata": {},
   "outputs": [],
   "source": [
    "from utils import *"
   ]
  },
  {
   "cell_type": "code",
   "execution_count": 2,
   "metadata": {},
   "outputs": [],
   "source": [
    "examples = [\n",
    "    ([+1, +1, +1], 3),\n",
    "    ([+1, +1, -2], 0),\n",
    "    ([-1, -2, -3], -6),\n",
    "]"
   ]
  },
  {
   "cell_type": "code",
   "execution_count": 3,
   "metadata": {},
   "outputs": [
    {
     "data": {
      "text/plain": [
       "([1, 1, 1], 3)"
      ]
     },
     "execution_count": 3,
     "metadata": {},
     "output_type": "execute_result"
    }
   ],
   "source": [
    "examples[0]"
   ]
  },
  {
   "cell_type": "code",
   "execution_count": 50,
   "metadata": {},
   "outputs": [],
   "source": [
    "puzzle_input = parse_puzzle_input(1)"
   ]
  },
  {
   "cell_type": "code",
   "execution_count": 5,
   "metadata": {},
   "outputs": [],
   "source": [
    "def solution(puzzle_input):\n",
    "    return sum(int(x) for x in puzzle_input)"
   ]
  },
  {
   "cell_type": "code",
   "execution_count": 6,
   "metadata": {},
   "outputs": [
    {
     "name": "stdout",
     "output_type": "stream",
     "text": [
      "Yaaaaaaaaaaaay!!\n"
     ]
    }
   ],
   "source": [
    "for example_input, example_answer in examples:\n",
    "    assert solution(example_input) == example_answer\n",
    "print(\"Yaaaaaaaaaaaay!!\")"
   ]
  },
  {
   "cell_type": "code",
   "execution_count": 7,
   "metadata": {},
   "outputs": [
    {
     "data": {
      "text/plain": [
       "587"
      ]
     },
     "execution_count": 7,
     "metadata": {},
     "output_type": "execute_result"
    }
   ],
   "source": [
    "solution(puzzle_input)"
   ]
  },
  {
   "cell_type": "code",
   "execution_count": 8,
   "metadata": {},
   "outputs": [],
   "source": [
    "examples_2 = [\n",
    "    ([+1, -1], 0),\n",
    "    ([+3, +3, +4, -2, -4], 10),\n",
    "    ([-6, +3, +8, +5, -6], 5),\n",
    "    ([+7, +7, -2, -7, -4], 14)\n",
    "]"
   ]
  },
  {
   "cell_type": "code",
   "execution_count": 43,
   "metadata": {},
   "outputs": [],
   "source": [
    "def solution_2(puzzle_input, looking_at_index, current_value, seen):\n",
    "    \n",
    "    new_value = current_value + int(\n",
    "        puzzle_input[looking_at_index % len(puzzle_input)]\n",
    "        )\n",
    "\n",
    "    if new_value in seen:\n",
    "        return new_value\n",
    "\n",
    "    seen.append(new_value)\n",
    "\n",
    "    # print(len(seen))\n",
    "\n",
    "    # looking_at_index += 1\n",
    "    # if looking_at_index >= len(puzzle_input):\n",
    "    #     looking_at_index = 0\n",
    "\n",
    "    return solution_2(puzzle_input, looking_at_index + 1, new_value, seen)"
   ]
  },
  {
   "cell_type": "code",
   "execution_count": 49,
   "metadata": {},
   "outputs": [
    {
     "name": "stdout",
     "output_type": "stream",
     "text": [
      "Yaaaaaaaaaaaay!!\n"
     ]
    }
   ],
   "source": [
    "for example_input, example_answer in examples_2:\n",
    "    assert solution_2(\n",
    "        puzzle_input = example_input, \n",
    "        looking_at_index = 0, \n",
    "        current_value = 0, \n",
    "        seen = [0]) == example_answer\n",
    "print(\"Yaaaaaaaaaaaay!!\")"
   ]
  },
  {
   "cell_type": "code",
   "execution_count": 53,
   "metadata": {},
   "outputs": [
    {
     "name": "stdout",
     "output_type": "stream",
     "text": [
      "Answer: 83130. Got it in 142695 iterations.\n"
     ]
    }
   ],
   "source": [
    "looking_at_index = 0\n",
    "current_value = 0\n",
    "seen = {0}\n",
    "match = False\n",
    "iteration = 1\n",
    "\n",
    "while not match:\n",
    "    \n",
    "    iteration += 1\n",
    "    \n",
    "    new_value = current_value + int(\n",
    "        puzzle_input[looking_at_index]\n",
    "        )\n",
    "    \n",
    "    # print(current_value)\n",
    "    # print(new_value)\n",
    "    # print(seen)\n",
    "    # print()\n",
    "\n",
    "    if new_value in seen:\n",
    "        match = True\n",
    "        final_answer = new_value\n",
    "\n",
    "    seen.add(new_value)\n",
    "    current_value = new_value\n",
    "    \n",
    "    looking_at_index += 1\n",
    "    if looking_at_index >= len(puzzle_input):\n",
    "        looking_at_index = 0\n",
    "\n",
    "print(f\"Answer: {final_answer}. Got it in {iteration} iterations.\")"
   ]
  },
  {
   "cell_type": "code",
   "execution_count": 45,
   "metadata": {},
   "outputs": [
    {
     "ename": "RecursionError",
     "evalue": "maximum recursion depth exceeded while calling a Python object",
     "output_type": "error",
     "traceback": [
      "\u001b[0;31m---------------------------------------------------------------------------\u001b[0m",
      "\u001b[0;31mRecursionError\u001b[0m                            Traceback (most recent call last)",
      "\u001b[0;32m<ipython-input-45-2da10fd4117d>\u001b[0m in \u001b[0;36m<module>\u001b[0;34m\u001b[0m\n\u001b[0;32m----> 1\u001b[0;31m \u001b[0msolution_2\u001b[0m\u001b[0;34m(\u001b[0m\u001b[0mpuzzle_input\u001b[0m\u001b[0;34m,\u001b[0m \u001b[0;36m0\u001b[0m\u001b[0;34m,\u001b[0m \u001b[0;36m0\u001b[0m\u001b[0;34m,\u001b[0m \u001b[0;34m[\u001b[0m\u001b[0;36m0\u001b[0m\u001b[0;34m]\u001b[0m\u001b[0;34m)\u001b[0m\u001b[0;34m\u001b[0m\u001b[0;34m\u001b[0m\u001b[0m\n\u001b[0m",
      "\u001b[0;32m<ipython-input-43-99281b9861b0>\u001b[0m in \u001b[0;36msolution_2\u001b[0;34m(puzzle_input, looking_at_index, current_value, seen)\u001b[0m\n\u001b[1;32m     16\u001b[0m     \u001b[0;31m#     looking_at_index = 0\u001b[0m\u001b[0;34m\u001b[0m\u001b[0;34m\u001b[0m\u001b[0;34m\u001b[0m\u001b[0m\n\u001b[1;32m     17\u001b[0m \u001b[0;34m\u001b[0m\u001b[0m\n\u001b[0;32m---> 18\u001b[0;31m     \u001b[0;32mreturn\u001b[0m \u001b[0msolution_2\u001b[0m\u001b[0;34m(\u001b[0m\u001b[0mpuzzle_input\u001b[0m\u001b[0;34m,\u001b[0m \u001b[0mlooking_at_index\u001b[0m \u001b[0;34m+\u001b[0m \u001b[0;36m1\u001b[0m\u001b[0;34m,\u001b[0m \u001b[0mnew_value\u001b[0m\u001b[0;34m,\u001b[0m \u001b[0mseen\u001b[0m\u001b[0;34m)\u001b[0m\u001b[0;34m\u001b[0m\u001b[0;34m\u001b[0m\u001b[0m\n\u001b[0m",
      "... last 1 frames repeated, from the frame below ...\n",
      "\u001b[0;32m<ipython-input-43-99281b9861b0>\u001b[0m in \u001b[0;36msolution_2\u001b[0;34m(puzzle_input, looking_at_index, current_value, seen)\u001b[0m\n\u001b[1;32m     16\u001b[0m     \u001b[0;31m#     looking_at_index = 0\u001b[0m\u001b[0;34m\u001b[0m\u001b[0;34m\u001b[0m\u001b[0;34m\u001b[0m\u001b[0m\n\u001b[1;32m     17\u001b[0m \u001b[0;34m\u001b[0m\u001b[0m\n\u001b[0;32m---> 18\u001b[0;31m     \u001b[0;32mreturn\u001b[0m \u001b[0msolution_2\u001b[0m\u001b[0;34m(\u001b[0m\u001b[0mpuzzle_input\u001b[0m\u001b[0;34m,\u001b[0m \u001b[0mlooking_at_index\u001b[0m \u001b[0;34m+\u001b[0m \u001b[0;36m1\u001b[0m\u001b[0;34m,\u001b[0m \u001b[0mnew_value\u001b[0m\u001b[0;34m,\u001b[0m \u001b[0mseen\u001b[0m\u001b[0;34m)\u001b[0m\u001b[0;34m\u001b[0m\u001b[0;34m\u001b[0m\u001b[0m\n\u001b[0m",
      "\u001b[0;31mRecursionError\u001b[0m: maximum recursion depth exceeded while calling a Python object"
     ]
    }
   ],
   "source": [
    "solution_2(puzzle_input, 0, 0, [0])"
   ]
  }
 ],
 "metadata": {
  "kernelspec": {
   "display_name": "Python 3.8.0 ('gatenlp')",
   "language": "python",
   "name": "python3"
  },
  "language_info": {
   "codemirror_mode": {
    "name": "ipython",
    "version": 3
   },
   "file_extension": ".py",
   "mimetype": "text/x-python",
   "name": "python",
   "nbconvert_exporter": "python",
   "pygments_lexer": "ipython3",
   "version": "3.8.0"
  },
  "orig_nbformat": 4,
  "vscode": {
   "interpreter": {
    "hash": "01a6e37e56735f6d4457edd4cd1aed8d51793622071af3fe7b9acd77ada366d8"
   }
  }
 },
 "nbformat": 4,
 "nbformat_minor": 2
}
