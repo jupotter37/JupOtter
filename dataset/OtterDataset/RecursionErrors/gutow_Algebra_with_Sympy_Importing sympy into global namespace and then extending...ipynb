{
 "cells": [
  {
   "cell_type": "code",
   "execution_count": null,
   "metadata": {},
   "outputs": [],
   "source": [
    "from sympy import *"
   ]
  },
  {
   "cell_type": "code",
   "execution_count": null,
   "metadata": {},
   "outputs": [],
   "source": [
    "var('a b c')\n",
    "t=a*b/c\n",
    "t"
   ]
  },
  {
   "cell_type": "code",
   "execution_count": null,
   "metadata": {},
   "outputs": [],
   "source": [
    "class Equation(Expr):\n",
    "    \n",
    "    _op_priority = 11.0\n",
    "    \n",
    "    def __init__(self,lhs,rhs,relop='='):\n",
    "        if not(relop == '='):\n",
    "           raise NotImplementedError('\"=\" is the only relational operator presently supported in Equations.')        \n",
    "        self.lhs = lhs\n",
    "        self.rhs = rhs\n",
    "    \n",
    "#    def __init__(self,lhs,rhs,**kwargs):\n",
    "#        pass\n",
    "#####\n",
    "# Overrides of sp.Expr Arithmatic\n",
    "#####\n",
    "    def __pos__(self):\n",
    "        return self\n",
    "\n",
    "    def __neg__(self):\n",
    "        # Mul has its own __neg__ routine, so we just\n",
    "        # create a 2-args Mul with the -1 in the canonical\n",
    "        # slot 0.\n",
    "        c = self.is_commutative\n",
    "        lhs =Mul._from_args((S.NegativeOne, self.lhs), c)\n",
    "        rhs =Mul._from_args((S.NegativeOne, self.rhs), c)        \n",
    "        return equ(lhs,rhs)\n",
    "\n",
    "    def __abs__(self):\n",
    "        from sympy import Abs\n",
    "        lhs=Abs(self.lhs)\n",
    "        rhs=Abs(self.rhs)\n",
    "        return equ(lhs,rhs)\n",
    "\n",
    "    def __add__(self, other):\n",
    "        lhs = Add(self.lhs,other)\n",
    "        rhs = Add(self.rhs,other)\n",
    "        return equ(lhs,rhs)\n",
    "\n",
    "    def __radd__(self, other):\n",
    "        lhs = Add(other,self.lhs)\n",
    "        rhs = Add(other,self.rhs)\n",
    "        return equ(lhs,rhs)\n",
    "\n",
    "    def __sub__(self, other):\n",
    "        lhs = Add(self.lhs,-other)\n",
    "        rhs = Add(self.rhs,-other)\n",
    "        return equ(lhs,rhs)\n",
    "\n",
    "    def __rsub__(self, other):\n",
    "        lhs = Add(other,-self.lhs)\n",
    "        rhs = Add(other,-self.rhs)\n",
    "        return equ(lhs,rhs)\n",
    "\n",
    "    def __mul__(self, other):\n",
    "        lhs = Mul(self.lhs,other)\n",
    "        rhs = Mul(self.rhs,other)\n",
    "        return equ(lhs,rhs)\n",
    "    \n",
    "    def __rmul__(self, other):\n",
    "        lhs = Mul(other,self.lhs)\n",
    "        rhs = Mul(other,self.rhs)\n",
    "        return equ(lhs,rhs)\n",
    "\n",
    "    def _pow(self, other):\n",
    "        lhs = Pow(self.lhs,other)\n",
    "        rhs = Pow(self.rhs,other)\n",
    "        return equ(lhs,rhs)\n",
    "\n",
    "    def __rpow__(self,other):\n",
    "        lhs = Pow(other,self.lhs)\n",
    "        rhs = Pow(other,self.rhs)\n",
    "        return equ(lhs,rhs)\n",
    "\n",
    "    def __div__(self, other):\n",
    "        return self.__mul__(Pow(other, S.NegativeOne))\n",
    "\n",
    "    def __rdiv__(self, other):\n",
    "        raise NotImplemented('Division by equation not supported.')\n",
    "\n",
    "    __truediv__ = __div__\n",
    "    __rtruediv__ = __rdiv__\n",
    "\n",
    "    def __mod__(self, other):\n",
    "        lhs = Mod(self.lhs,other)\n",
    "        rhs = Mod(self.rhs,other)\n",
    "        return equ(lhs,rhs)\n",
    "\n",
    "    def __rmod__(self, other):\n",
    "        raise NotImplemented('Mod by equation not supported.')\n",
    "            \n",
    "    def __repr__(self):\n",
    "        return(str(self.lhs)+' = '+str(self.rhs))\n",
    "    \n",
    "    def _latex(self,obj,**kwargs):\n",
    "        return(latex(self.lhs)+'='+latex(self.rhs))\n",
    "\n",
    "equ = Equation\n",
    "\n",
    "class Function(Function):\n",
    "    def __new__(cls, *arg, **kwargs):\n",
    "        if (type(arg[0]) is Equation):\n",
    "            temptuple=(arg[0].lhs,)+arg[1:]\n",
    "            lhs = super().__new__(cls, *temptuple, **kwargs)\n",
    "            temptuple=(arg[0].rhs,)+arg[1:]\n",
    "            rhs = super().__new__(cls, *temptuple, **kwargs)\n",
    "            return (equ(lhs,rhs))\n",
    "        else:\n",
    "            return(super().__new__(cls, *arg, **kwargs))\n",
    "        \n",
    "for func in functions.__all__:\n",
    "    # listed in `skip` cannot be extended because of `mro` error or `metaclass conflict`.\n",
    "    skip=['sqrt','root','Min','Max','Id','real_root','cbrt','unbranched_argument','polarify','unpolarify',\n",
    "         'piecewise_fold','E1','Eijk','bspline_basis','bspline_basis_set','interpolating_spline','jn_zeros',\n",
    "          'jacobi_normalized','Ynm_c']\n",
    "    if func not in skip:\n",
    "        execstr = 'class '+str(func)+'(Function, '+str(func)+'):\\n    pass\\n'\n",
    "        exec(execstr,globals(),locals())"
   ]
  },
  {
   "cell_type": "code",
   "execution_count": null,
   "metadata": {},
   "outputs": [],
   "source": [
    "t=equ(a,b/c)\n",
    "t"
   ]
  },
  {
   "cell_type": "code",
   "execution_count": null,
   "metadata": {},
   "outputs": [],
   "source": [
    "log(t)"
   ]
  },
  {
   "cell_type": "code",
   "execution_count": null,
   "metadata": {},
   "outputs": [],
   "source": [
    "type(t)"
   ]
  },
  {
   "cell_type": "code",
   "execution_count": null,
   "metadata": {},
   "outputs": [],
   "source": [
    "c*t"
   ]
  },
  {
   "cell_type": "code",
   "execution_count": null,
   "metadata": {},
   "outputs": [],
   "source": [
    "t*c"
   ]
  },
  {
   "cell_type": "code",
   "execution_count": null,
   "metadata": {},
   "outputs": [],
   "source": [
    "t*c-b"
   ]
  },
  {
   "cell_type": "code",
   "execution_count": null,
   "metadata": {},
   "outputs": [],
   "source": [
    "b-t"
   ]
  },
  {
   "cell_type": "code",
   "execution_count": null,
   "metadata": {},
   "outputs": [],
   "source": [
    "equ(a,c/b,'>')"
   ]
  },
  {
   "cell_type": "code",
   "execution_count": null,
   "metadata": {},
   "outputs": [],
   "source": []
  },
  {
   "cell_type": "markdown",
   "metadata": {},
   "source": [
    "Try object creation and then extensions"
   ]
  },
  {
   "cell_type": "code",
   "execution_count": 1,
   "metadata": {},
   "outputs": [],
   "source": [
    "class A ():\n",
    "    def __init__(self, arg1, arg2):\n",
    "        self.arg1 = arg1\n",
    "        self.arg2 = arg2\n",
    "    \n",
    "    def __repr__(self):\n",
    "        return self.arg1+', '+self.arg2\n",
    "        \n",
    "class B ():\n",
    "    def __init__(self, *args, **kwargs):\n",
    "        self.arg=args[0]\n",
    "    \n",
    "    def __repr__(self):\n",
    "        return 'B('+str(self.arg)+')'"
   ]
  },
  {
   "cell_type": "code",
   "execution_count": 2,
   "metadata": {},
   "outputs": [
    {
     "data": {
      "text/plain": [
       "Help, me"
      ]
     },
     "execution_count": 2,
     "metadata": {},
     "output_type": "execute_result"
    }
   ],
   "source": [
    "A1 = A(\"Help\",\"me\")\n",
    "A1"
   ]
  },
  {
   "cell_type": "code",
   "execution_count": 3,
   "metadata": {},
   "outputs": [
    {
     "data": {
      "text/plain": [
       "B(Help, me)"
      ]
     },
     "execution_count": 3,
     "metadata": {},
     "output_type": "execute_result"
    }
   ],
   "source": [
    "B1 = B(A1)\n",
    "B1"
   ]
  },
  {
   "cell_type": "code",
   "execution_count": 4,
   "metadata": {},
   "outputs": [],
   "source": [
    "class C(B):\n",
    "    def __new__(self,value):\n",
    "        self.arg = value\n",
    "        return super().__new__(self)\n",
    "    \n",
    "    def __repr__(self):\n",
    "        return 'C('+str(self.arg)+')'"
   ]
  },
  {
   "cell_type": "code",
   "execution_count": 5,
   "metadata": {},
   "outputs": [
    {
     "data": {
      "text/plain": [
       "12"
      ]
     },
     "execution_count": 5,
     "metadata": {},
     "output_type": "execute_result"
    }
   ],
   "source": [
    "C1 = C(12)\n",
    "C1.arg"
   ]
  },
  {
   "cell_type": "code",
   "execution_count": 6,
   "metadata": {},
   "outputs": [
    {
     "data": {
      "text/plain": [
       "C(Help, me)"
      ]
     },
     "execution_count": 6,
     "metadata": {},
     "output_type": "execute_result"
    }
   ],
   "source": [
    "C(A1)"
   ]
  },
  {
   "cell_type": "code",
   "execution_count": 28,
   "metadata": {},
   "outputs": [],
   "source": [
    "class B(B):\n",
    "    def __new__(self,*args,**kwargs):\n",
    "        return super().__new__(self)\n",
    "    \n",
    "    def __repr__(self):\n",
    "        return str(self)+'!'"
   ]
  },
  {
   "cell_type": "code",
   "execution_count": 29,
   "metadata": {},
   "outputs": [
    {
     "data": {
      "text/plain": [
       "C(Help, me)"
      ]
     },
     "execution_count": 29,
     "metadata": {},
     "output_type": "execute_result"
    }
   ],
   "source": [
    "C(A1)"
   ]
  },
  {
   "cell_type": "code",
   "execution_count": 30,
   "metadata": {},
   "outputs": [
    {
     "ename": "RecursionError",
     "evalue": "maximum recursion depth exceeded",
     "output_type": "error",
     "traceback": [
      "\u001b[0;31m---------------------------------------------------------------------------\u001b[0m",
      "\u001b[0;31mRecursionError\u001b[0m                            Traceback (most recent call last)",
      "File \u001b[0;32m~/.local/share/virtualenvs/Algebra_with_SymPy-ZtpO9pAV/lib/python3.10/site-packages/IPython/core/formatters.py:707\u001b[0m, in \u001b[0;36mPlainTextFormatter.__call__\u001b[0;34m(self, obj)\u001b[0m\n\u001b[1;32m    700\u001b[0m stream \u001b[38;5;241m=\u001b[39m StringIO()\n\u001b[1;32m    701\u001b[0m printer \u001b[38;5;241m=\u001b[39m pretty\u001b[38;5;241m.\u001b[39mRepresentationPrinter(stream, \u001b[38;5;28mself\u001b[39m\u001b[38;5;241m.\u001b[39mverbose,\n\u001b[1;32m    702\u001b[0m     \u001b[38;5;28mself\u001b[39m\u001b[38;5;241m.\u001b[39mmax_width, \u001b[38;5;28mself\u001b[39m\u001b[38;5;241m.\u001b[39mnewline,\n\u001b[1;32m    703\u001b[0m     max_seq_length\u001b[38;5;241m=\u001b[39m\u001b[38;5;28mself\u001b[39m\u001b[38;5;241m.\u001b[39mmax_seq_length,\n\u001b[1;32m    704\u001b[0m     singleton_pprinters\u001b[38;5;241m=\u001b[39m\u001b[38;5;28mself\u001b[39m\u001b[38;5;241m.\u001b[39msingleton_printers,\n\u001b[1;32m    705\u001b[0m     type_pprinters\u001b[38;5;241m=\u001b[39m\u001b[38;5;28mself\u001b[39m\u001b[38;5;241m.\u001b[39mtype_printers,\n\u001b[1;32m    706\u001b[0m     deferred_pprinters\u001b[38;5;241m=\u001b[39m\u001b[38;5;28mself\u001b[39m\u001b[38;5;241m.\u001b[39mdeferred_printers)\n\u001b[0;32m--> 707\u001b[0m \u001b[43mprinter\u001b[49m\u001b[38;5;241;43m.\u001b[39;49m\u001b[43mpretty\u001b[49m\u001b[43m(\u001b[49m\u001b[43mobj\u001b[49m\u001b[43m)\u001b[49m\n\u001b[1;32m    708\u001b[0m printer\u001b[38;5;241m.\u001b[39mflush()\n\u001b[1;32m    709\u001b[0m \u001b[38;5;28;01mreturn\u001b[39;00m stream\u001b[38;5;241m.\u001b[39mgetvalue()\n",
      "File \u001b[0;32m~/.local/share/virtualenvs/Algebra_with_SymPy-ZtpO9pAV/lib/python3.10/site-packages/IPython/lib/pretty.py:410\u001b[0m, in \u001b[0;36mRepresentationPrinter.pretty\u001b[0;34m(self, obj)\u001b[0m\n\u001b[1;32m    407\u001b[0m                         \u001b[38;5;28;01mreturn\u001b[39;00m meth(obj, \u001b[38;5;28mself\u001b[39m, cycle)\n\u001b[1;32m    408\u001b[0m                 \u001b[38;5;28;01mif\u001b[39;00m \u001b[38;5;28mcls\u001b[39m \u001b[38;5;129;01mis\u001b[39;00m \u001b[38;5;129;01mnot\u001b[39;00m \u001b[38;5;28mobject\u001b[39m \\\n\u001b[1;32m    409\u001b[0m                         \u001b[38;5;129;01mand\u001b[39;00m callable(\u001b[38;5;28mcls\u001b[39m\u001b[38;5;241m.\u001b[39m\u001b[38;5;18m__dict__\u001b[39m\u001b[38;5;241m.\u001b[39mget(\u001b[38;5;124m'\u001b[39m\u001b[38;5;124m__repr__\u001b[39m\u001b[38;5;124m'\u001b[39m)):\n\u001b[0;32m--> 410\u001b[0m                     \u001b[38;5;28;01mreturn\u001b[39;00m \u001b[43m_repr_pprint\u001b[49m\u001b[43m(\u001b[49m\u001b[43mobj\u001b[49m\u001b[43m,\u001b[49m\u001b[43m \u001b[49m\u001b[38;5;28;43mself\u001b[39;49m\u001b[43m,\u001b[49m\u001b[43m \u001b[49m\u001b[43mcycle\u001b[49m\u001b[43m)\u001b[49m\n\u001b[1;32m    412\u001b[0m     \u001b[38;5;28;01mreturn\u001b[39;00m _default_pprint(obj, \u001b[38;5;28mself\u001b[39m, cycle)\n\u001b[1;32m    413\u001b[0m \u001b[38;5;28;01mfinally\u001b[39;00m:\n",
      "File \u001b[0;32m~/.local/share/virtualenvs/Algebra_with_SymPy-ZtpO9pAV/lib/python3.10/site-packages/IPython/lib/pretty.py:778\u001b[0m, in \u001b[0;36m_repr_pprint\u001b[0;34m(obj, p, cycle)\u001b[0m\n\u001b[1;32m    776\u001b[0m \u001b[38;5;124;03m\"\"\"A pprint that just redirects to the normal repr function.\"\"\"\u001b[39;00m\n\u001b[1;32m    777\u001b[0m \u001b[38;5;66;03m# Find newlines and replace them with p.break_()\u001b[39;00m\n\u001b[0;32m--> 778\u001b[0m output \u001b[38;5;241m=\u001b[39m \u001b[38;5;28;43mrepr\u001b[39;49m\u001b[43m(\u001b[49m\u001b[43mobj\u001b[49m\u001b[43m)\u001b[49m\n\u001b[1;32m    779\u001b[0m lines \u001b[38;5;241m=\u001b[39m output\u001b[38;5;241m.\u001b[39msplitlines()\n\u001b[1;32m    780\u001b[0m \u001b[38;5;28;01mwith\u001b[39;00m p\u001b[38;5;241m.\u001b[39mgroup():\n",
      "Input \u001b[0;32mIn [28]\u001b[0m, in \u001b[0;36mB.__repr__\u001b[0;34m(self)\u001b[0m\n\u001b[1;32m      5\u001b[0m \u001b[38;5;28;01mdef\u001b[39;00m \u001b[38;5;21m__repr__\u001b[39m(\u001b[38;5;28mself\u001b[39m):\n\u001b[0;32m----> 6\u001b[0m     \u001b[38;5;28;01mreturn\u001b[39;00m \u001b[38;5;28;43mstr\u001b[39;49m\u001b[43m(\u001b[49m\u001b[38;5;28;43mself\u001b[39;49m\u001b[43m)\u001b[49m\u001b[38;5;241m+\u001b[39m\u001b[38;5;124m'\u001b[39m\u001b[38;5;124m!\u001b[39m\u001b[38;5;124m'\u001b[39m\n",
      "Input \u001b[0;32mIn [28]\u001b[0m, in \u001b[0;36mB.__repr__\u001b[0;34m(self)\u001b[0m\n\u001b[1;32m      5\u001b[0m \u001b[38;5;28;01mdef\u001b[39;00m \u001b[38;5;21m__repr__\u001b[39m(\u001b[38;5;28mself\u001b[39m):\n\u001b[0;32m----> 6\u001b[0m     \u001b[38;5;28;01mreturn\u001b[39;00m \u001b[38;5;28;43mstr\u001b[39;49m\u001b[43m(\u001b[49m\u001b[38;5;28;43mself\u001b[39;49m\u001b[43m)\u001b[49m\u001b[38;5;241m+\u001b[39m\u001b[38;5;124m'\u001b[39m\u001b[38;5;124m!\u001b[39m\u001b[38;5;124m'\u001b[39m\n",
      "    \u001b[0;31m[... skipping similar frames: B.__repr__ at line 6 (984 times)]\u001b[0m\n",
      "Input \u001b[0;32mIn [28]\u001b[0m, in \u001b[0;36mB.__repr__\u001b[0;34m(self)\u001b[0m\n\u001b[1;32m      5\u001b[0m \u001b[38;5;28;01mdef\u001b[39;00m \u001b[38;5;21m__repr__\u001b[39m(\u001b[38;5;28mself\u001b[39m):\n\u001b[0;32m----> 6\u001b[0m     \u001b[38;5;28;01mreturn\u001b[39;00m \u001b[38;5;28;43mstr\u001b[39;49m\u001b[43m(\u001b[49m\u001b[38;5;28;43mself\u001b[39;49m\u001b[43m)\u001b[49m\u001b[38;5;241m+\u001b[39m\u001b[38;5;124m'\u001b[39m\u001b[38;5;124m!\u001b[39m\u001b[38;5;124m'\u001b[39m\n",
      "\u001b[0;31mRecursionError\u001b[0m: maximum recursion depth exceeded"
     ]
    }
   ],
   "source": [
    "\n",
    "B2 = B(A1)\n",
    "B2"
   ]
  },
  {
   "cell_type": "code",
   "execution_count": null,
   "metadata": {},
   "outputs": [],
   "source": []
  }
 ],
 "metadata": {
  "kernelspec": {
   "display_name": "Python 3 (ipykernel)",
   "language": "python",
   "name": "python3"
  },
  "language_info": {
   "codemirror_mode": {
    "name": "ipython",
    "version": 3
   },
   "file_extension": ".py",
   "mimetype": "text/x-python",
   "name": "python",
   "nbconvert_exporter": "python",
   "pygments_lexer": "ipython3",
   "version": "3.10.4"
  }
 },
 "nbformat": 4,
 "nbformat_minor": 4
}
