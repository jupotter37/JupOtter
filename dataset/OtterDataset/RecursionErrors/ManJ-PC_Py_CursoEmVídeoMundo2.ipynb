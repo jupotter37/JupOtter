{
  "nbformat": 4,
  "nbformat_minor": 0,
  "metadata": {
    "colab": {
      "name": "CursoEmVídeoMundo2.ipynb",
      "provenance": [],
      "collapsed_sections": [],
      "include_colab_link": true
    },
    "kernelspec": {
      "name": "python3",
      "display_name": "Python 3"
    },
    "language_info": {
      "name": "python"
    }
  },
  "cells": [
    {
      "cell_type": "markdown",
      "metadata": {
        "id": "view-in-github",
        "colab_type": "text"
      },
      "source": [
        "<a href=\"https://colab.research.google.com/github/ManJ-PC/Py/blob/master/CursoEmV%C3%ADdeoMundo2.ipynb\" target=\"_parent\"><img src=\"https://colab.research.google.com/assets/colab-badge.svg\" alt=\"Open In Colab\"/></a>"
      ]
    },
    {
      "cell_type": "code",
      "metadata": {
        "id": "pVfzmcRw45Gr"
      },
      "source": [
        "# if carro.esquerda():\n",
        "#   bloco 1\n",
        "# elif carro.direita():\n",
        "#   bloco 2\n",
        "# elif carro.ré():\n",
        "#   bloco 3\n",
        "# else:\n",
        "#   bloco 4 NO"
      ],
      "execution_count": null,
      "outputs": []
    },
    {
      "cell_type": "code",
      "metadata": {
        "id": "9_toTlIs6vK4"
      },
      "source": [
        "# nome = str(input('Qual é o seu nome? '))\n",
        "# if nome == 'Gustavo':\n",
        "#   print('Que nome bonito!')\n",
        "# elif nome in 'Ana Claúdia Jéssica Juliana':\n",
        "#   print('Belo nome feminino')\n",
        "# else:\n",
        "#   print('Seu nome é bem normal.')\n",
        "# print('Tenha um bom dia, {}!'.format(nome))"
      ],
      "execution_count": null,
      "outputs": []
    },
    {
      "cell_type": "code",
      "metadata": {
        "id": "Hewv9NXhMb4_"
      },
      "source": [
        ""
      ],
      "execution_count": null,
      "outputs": []
    },
    {
      "cell_type": "markdown",
      "metadata": {
        "id": "qJ0AHY-3MaMu"
      },
      "source": [
        "**Desafio  036**\n",
        "\n",
        "Escreva um programa para aprovar o empréstimo bancário para a compra de uma casa. O Programa vai perguntar o valor da casa, o salário do comprador e em quantos anos ele vai pagar.\n",
        "\n",
        "Calcule o valor da prestação mensal, sabendo que ela não pode exceder 30% do salário ou então o empréstimo será negado."
      ]
    },
    {
      "cell_type": "code",
      "metadata": {
        "id": "Ad1DFIn_LN_h"
      },
      "source": [
        "# patrimonyL = float(input('Good Morning to our House Loan\\'s Bank!\\n Which the value of property that wants to adquire: '))\n",
        "# wage = float(input('What is your wage: '))\n",
        "# ageY = float(input('How much time lasts bank loan, in years: '))\n",
        "\n",
        "# monthPay = patrimonyL/(ageY * 12)\n",
        "\n",
        "# print('The mensal value to pay the house is: ', monthPay)\n",
        "\n",
        "# if monthPay > 0.30 * wage:\n",
        "#   print(\"Empréstimo negado\")\n",
        "# else:\n",
        "#   print(\"Aceite!!\")\n"
      ],
      "execution_count": null,
      "outputs": []
    },
    {
      "cell_type": "code",
      "source": [
        "# #SOLUÇÂO\n",
        "\n",
        "# casa = float(input('Valor da casa: R$  '))\n",
        "# salario = float(input('Salário do comprador: R$  '))\n",
        "# anos = int(input('Quantos anos de financiamento?  '))\n",
        "# prestação = casa / (anos * 12)\n",
        "# minimo = salario * 30 / 100 # min = .3*wage\n",
        "# print('Para pagar uma casa de R${:.2f} em {} anos'.format(casa, anos), end='')\n",
        "# \"\"\", end='')\"\"\"\n",
        "# print(' a prestação será de R${:.2f}'.format(prestação))\n",
        "# #print('Para pagar uma casa de R${:.2f}'.format(prestação))\n",
        "\n",
        "# #print('COMPARANDO tem que pagar {} e o mínimo é de {}'.format(prestação,minimo))\n",
        "\n",
        "# if prestação <= minimo: \n",
        "#    print('Empréstimo pode ser CONCEDIDO')\n",
        "# else:\n",
        "#   print('Empréstimo NEGADO')"
      ],
      "metadata": {
        "id": "lVia_6wLaEsP"
      },
      "execution_count": null,
      "outputs": []
    },
    {
      "cell_type": "markdown",
      "metadata": {
        "id": "bciltV4YshS-"
      },
      "source": [
        "**Desafio 37**"
      ]
    },
    {
      "cell_type": "markdown",
      "metadata": {
        "id": "jQ_sZgJHsPU8"
      },
      "source": [
        "Escreva um programa que leia um número inteiro qualquer e peça para o usuário escolher qual será a **base de conversão**\n",
        "\n",
        "\n",
        "*   1 para binário\n",
        "*   2 para octal\n",
        "*   3 para hexadecimal\n",
        "\n"
      ]
    },
    {
      "cell_type": "code",
      "metadata": {
        "id": "AlFBgd6ls7UO"
      },
      "source": [
        "# num = int(input('Insira o valor decimal: '))\n",
        "# b2 = bin(num)\n",
        "# o8 = oct(num)\n",
        "# Ox = hex(num)\n",
        "\n",
        "# base = str(input('Qual será a base de conversão?\\n O <- octal\\n H <- hexadecimal\\n B or other thing <- binary '))\n",
        "# if base.upper() == 'O':\n",
        "#   print(o8)\n",
        "# elif base.upper() == 'H':\n",
        "#   print(Ox)\n",
        "# else:\n",
        "#   print(b2)"
      ],
      "execution_count": null,
      "outputs": []
    },
    {
      "cell_type": "code",
      "source": [
        "# SOLUÇÃO\n",
        "\n",
        "\n",
        "# num = int(input('Digite um numero inteiro: '))\n",
        "# print('''Escolha uma das bases para conversão:\n",
        "# [ 1 ] converter para BINÁRIO\n",
        "# [ 2 ] converter para OCTAL\n",
        "# [ 3 ] converter para HEXADECIMAL''')\n",
        "# opção = int(input('Sua opção: '))\n",
        "# if opção == 1:\n",
        "#   print('{} convertido para BINÁRIO é igual a {}'.format(num, bin(num)))\n",
        "# elif opção == 2:\n",
        "#   print('{} convertido para OCTAL é igual a {}'.format(num, oct(num)))\n",
        "# elif opção == 3:\n",
        "#   print('{} convertido para HEXADECIMAL é igual a {}'.format(num, hex(num)))"
      ],
      "metadata": {
        "id": "D_Sf9nxvEjlO"
      },
      "execution_count": null,
      "outputs": []
    },
    {
      "cell_type": "code",
      "metadata": {
        "id": "HQ_9BUdcQtrn"
      },
      "source": [
        "# def converte2(a,b): #a = bq + r\n",
        "#   novabase = \"\" #resto ou r_string\n",
        "#   r = 0\n",
        "#   while a>0: #r<a: #r > 0: ...n//b!\n",
        "#     q = a // b\n",
        "#     r = a - (q*b)\n",
        "#     #r = a % b\n",
        "#     a = q \n",
        "\n",
        "#     print(r,'\\n')\n",
        "#     #novabase=str(r)\n",
        "#     novabase += str(r)\n",
        "#   novabase = novabase[::-1]\n",
        "#   #novabase[::-1]\n",
        "#   #print('\\n',novabase[::-1])\n",
        "#   return novabase"
      ],
      "execution_count": null,
      "outputs": []
    },
    {
      "cell_type": "code",
      "source": [
        "# def converte(n,b): #n = bq + r\n",
        "#   # 10b10 = 1010b2  10/2 r1 5/2 r1 2/2 r0 0/2 r0\n",
        "#   r_string = \"\"\n",
        "#   while n//b > 0:\n",
        "#     r = n%b\n",
        "#     a = n//b\n",
        "#     print(r,'\\n')\n",
        "#     r_string += str(r)\n",
        "#   r_string[::-1]\n",
        "#   print('')  NO\n",
        "    \n",
        "\n",
        "    \n"
      ],
      "metadata": {
        "id": "m61tfNXS1dGB"
      },
      "execution_count": null,
      "outputs": []
    },
    {
      "cell_type": "code",
      "metadata": {
        "id": "tNa8bDFIrrgf"
      },
      "source": [
        "# converte2(12,2)"
      ],
      "execution_count": null,
      "outputs": []
    },
    {
      "cell_type": "code",
      "source": [
        "# converte2(12, 8)"
      ],
      "metadata": {
        "id": "FdcHStnN86LU"
      },
      "execution_count": null,
      "outputs": []
    },
    {
      "cell_type": "code",
      "source": [
        "# Solution\n",
        "def dec_to_base(num,base): # Maximum base - 36\n",
        "  base_num = \"\"\n",
        "  while num>0:\n",
        "    dig = int(num%base) # porque este int? \n",
        "    if dig<10:\n",
        "      base_num += str(dig)\n",
        "    else:\n",
        "      base_num += chr(ord('A')+dig-10) # Using uppercase Letters\n",
        "    num //= base\n",
        "\n",
        "  base_num = base_num[::-1] #To reverse the string\n",
        "  return base_num"
      ],
      "metadata": {
        "id": "vuDXQHyAEc8e"
      },
      "execution_count": null,
      "outputs": []
    },
    {
      "cell_type": "code",
      "source": [
        "dec_to_base(77,2)"
      ],
      "metadata": {
        "id": "kqCculiegCxz"
      },
      "execution_count": null,
      "outputs": []
    },
    {
      "cell_type": "code",
      "source": [
        "int(\"12\",8)"
      ],
      "metadata": {
        "id": "dQtoNDQAVTp9"
      },
      "execution_count": null,
      "outputs": []
    },
    {
      "cell_type": "code",
      "source": [
        "ord('a')"
      ],
      "metadata": {
        "id": "J5Uf7sB5RULc"
      },
      "execution_count": null,
      "outputs": []
    },
    {
      "cell_type": "code",
      "source": [
        "ord('A')"
      ],
      "metadata": {
        "id": "EIVaJTaDTMPI"
      },
      "execution_count": null,
      "outputs": []
    },
    {
      "cell_type": "code",
      "source": [
        "chr(94)+chr(93)+chr(92)+chr(91)+chr(90)"
      ],
      "metadata": {
        "id": "AvFrhOLNTNg_"
      },
      "execution_count": null,
      "outputs": []
    },
    {
      "cell_type": "code",
      "source": [
        "# Any Base to Decimal\n",
        "\n",
        "print(int(\"12\",3))\n",
        "print(int(\"12\",8))\n",
        "print(int(\"12\",10))\n",
        "print(int(\"12\",16))\n",
        "\n",
        "#chr(16)"
      ],
      "metadata": {
        "id": "_YDKVYGdVbF7"
      },
      "execution_count": null,
      "outputs": []
    },
    {
      "cell_type": "code",
      "source": [
        "username = input(\"Choose a username: \")  # Canita Broa\n",
        "final_username = username.replace(\"r\", \"_\")\n",
        "\n",
        "print(\"Your username is: \" + final_username) "
      ],
      "metadata": {
        "id": "FIvNXYlmkQOP"
      },
      "execution_count": null,
      "outputs": []
    },
    {
      "cell_type": "code",
      "source": [
        "for element in final_username: #string_name:\n",
        "  print(element, end=' ')\n",
        "print(\"\\n\")"
      ],
      "metadata": {
        "colab": {
          "base_uri": "https://localhost:8080/"
        },
        "id": "f2FBkp2hlqUT",
        "outputId": "6f51ae93-f854-4428-dd0a-0dbf8fed264b"
      },
      "execution_count": null,
      "outputs": [
        {
          "output_type": "stream",
          "name": "stdout",
          "text": [
            "G a l o \n",
            "\n"
          ]
        }
      ]
    },
    {
      "cell_type": "code",
      "source": [
        "def base_to_dec(num_str, base):\n",
        " base_num = 0\n",
        " power = 0           # declaration and initialization\n",
        " for column in num_str[::-1]: # d\n",
        "   print(column)\n",
        "   base_num += int(column) * pow(base, power)  # c = a + b \n",
        "   power += 1 # e\n",
        " print(base_num)\n",
        " #falta a potência!!! Incorporar, dessa forma em vez 12*8 = 96\n",
        "# We have:"
      ],
      "metadata": {
        "id": "tTrnrxV9TgbM"
      },
      "execution_count": null,
      "outputs": []
    },
    {
      "cell_type": "code",
      "source": [
        "num_str = \"147\"\n",
        "num_str[::-1]"
      ],
      "metadata": {
        "colab": {
          "base_uri": "https://localhost:8080/",
          "height": 35
        },
        "id": "2tWvCkng6pXK",
        "outputId": "d34a3c4a-fd16-4fe0-e69b-6eb24e1b9bc7"
      },
      "execution_count": null,
      "outputs": [
        {
          "output_type": "execute_result",
          "data": {
            "application/vnd.google.colaboratory.intrinsic+json": {
              "type": "string"
            },
            "text/plain": [
              "'741'"
            ]
          },
          "metadata": {},
          "execution_count": 18
        }
      ]
    },
    {
      "cell_type": "code",
      "source": [
        "base_to_dec(\"147\",8)"
      ],
      "metadata": {
        "colab": {
          "base_uri": "https://localhost:8080/"
        },
        "id": "m6iKJMP78RuQ",
        "outputId": "cca3bdca-f0b8-41da-cb6b-0fb9c3b31295"
      },
      "execution_count": null,
      "outputs": [
        {
          "output_type": "stream",
          "name": "stdout",
          "text": [
            "7\n",
            "4\n",
            "1\n",
            "103\n"
          ]
        }
      ]
    },
    {
      "cell_type": "code",
      "source": [
        "base_to_dec(\"147\",8)"
      ],
      "metadata": {
        "colab": {
          "base_uri": "https://localhost:8080/"
        },
        "id": "SxIaCQ7jkUau",
        "outputId": "871f1838-5cb1-4d3d-e085-9f32d38d2e07"
      },
      "execution_count": null,
      "outputs": [
        {
          "output_type": "stream",
          "name": "stdout",
          "text": [
            "7\n",
            "4\n",
            "1\n",
            "103\n"
          ]
        }
      ]
    },
    {
      "cell_type": "code",
      "source": [
        "print(pow(8,3))\n",
        "7*64 # valores muito próximos, logicamente... pois base = 8 , 7 imediamente antes!"
      ],
      "metadata": {
        "colab": {
          "base_uri": "https://localhost:8080/"
        },
        "id": "Kb0aECnK3jI1",
        "outputId": "c9c3826a-2679-4270-9c75-4a170ff6247a"
      },
      "execution_count": null,
      "outputs": [
        {
          "output_type": "stream",
          "name": "stdout",
          "text": [
            "512\n"
          ]
        },
        {
          "output_type": "execute_result",
          "data": {
            "text/plain": [
              "448"
            ]
          },
          "metadata": {},
          "execution_count": 21
        }
      ]
    },
    {
      "cell_type": "code",
      "source": [
        "base_to_dec(\"147\",8)"
      ],
      "metadata": {
        "colab": {
          "base_uri": "https://localhost:8080/"
        },
        "id": "zxAYslCoXxwI",
        "outputId": "acca8843-5986-49cf-825f-bacaedf0e98f"
      },
      "execution_count": null,
      "outputs": [
        {
          "output_type": "stream",
          "name": "stdout",
          "text": [
            "7\n",
            "4\n",
            "1\n",
            "103\n"
          ]
        }
      ]
    },
    {
      "cell_type": "code",
      "source": [
        "pow(4,4)"
      ],
      "metadata": {
        "colab": {
          "base_uri": "https://localhost:8080/"
        },
        "id": "Ji_Z5aZjMr9b",
        "outputId": "2213f61a-f2c6-4d04-e17b-751686a93719"
      },
      "execution_count": null,
      "outputs": [
        {
          "output_type": "execute_result",
          "data": {
            "text/plain": [
              "256"
            ]
          },
          "metadata": {},
          "execution_count": 23
        }
      ]
    },
    {
      "cell_type": "code",
      "source": [
        "pow(4,4,8)"
      ],
      "metadata": {
        "colab": {
          "base_uri": "https://localhost:8080/"
        },
        "id": "4lIZYwboIX2i",
        "outputId": "2df29cca-663c-452d-c0b5-982049560c3e"
      },
      "execution_count": null,
      "outputs": [
        {
          "output_type": "execute_result",
          "data": {
            "text/plain": [
              "0"
            ]
          },
          "metadata": {},
          "execution_count": 24
        }
      ]
    },
    {
      "cell_type": "code",
      "source": [
        "pow(4,4,12)"
      ],
      "metadata": {
        "colab": {
          "base_uri": "https://localhost:8080/"
        },
        "id": "FMgNcxe1JB_Z",
        "outputId": "1358dba8-fe14-420e-ff09-41cae9949636"
      },
      "execution_count": null,
      "outputs": [
        {
          "output_type": "execute_result",
          "data": {
            "text/plain": [
              "4"
            ]
          },
          "metadata": {},
          "execution_count": 25
        }
      ]
    },
    {
      "cell_type": "code",
      "source": [
        "# a,b,c = 100\n",
        "# print(c)  .> cannot unpack non-iterable int object\n",
        "\n",
        "a,b,c = 1,2,3\n",
        "print(a,b,c)"
      ],
      "metadata": {
        "colab": {
          "base_uri": "https://localhost:8080/"
        },
        "id": "YQCqnQYnJIex",
        "outputId": "dce81582-710e-4ce4-c402-3836fc64c90c"
      },
      "execution_count": null,
      "outputs": [
        {
          "output_type": "stream",
          "name": "stdout",
          "text": [
            "1 2 3\n"
          ]
        }
      ]
    },
    {
      "cell_type": "code",
      "source": [
        "def baseToDec(num_str, base): # suporta até base de valor 36 \n",
        "  num_str = num_str[::-1]\n",
        "  num = 0\n",
        "  for k in range(len(num_str)):\n",
        "    dig = num_str[k]\n",
        "    if dig.isdigit():\n",
        "      dig = int(dig)\n",
        "    else:  # Assuming its either number or alphabet only\n",
        "      dig = ord(dig.upper())-ord('A')+10\n",
        "    num += dig*(base**k)\n",
        "  return num"
      ],
      "metadata": {
        "id": "0jhGYQhjbbVf"
      },
      "execution_count": null,
      "outputs": []
    },
    {
      "cell_type": "code",
      "source": [
        "baseToDec(\"147\",8)"
      ],
      "metadata": {
        "colab": {
          "base_uri": "https://localhost:8080/"
        },
        "id": "rlLc6braV0oP",
        "outputId": "1e1799c3-e69a-4c21-87ef-eed7526e667c"
      },
      "execution_count": null,
      "outputs": [
        {
          "output_type": "execute_result",
          "data": {
            "text/plain": [
              "103"
            ]
          },
          "metadata": {},
          "execution_count": 28
        }
      ]
    },
    {
      "cell_type": "code",
      "source": [
        "tries = 5\n",
        "time = \"0\"\n",
        "names = \"\"\n",
        "while time:\n",
        "  tries -= 1\n",
        "  name = input('Digite seu nome: ')\n",
        "  if name == 'name':\n",
        "    break\n",
        "  names += name\n",
        "print(names)"
      ],
      "metadata": {
        "colab": {
          "base_uri": "https://localhost:8080/"
        },
        "id": "856ZTcLdV737",
        "outputId": "d67088f2-6db7-4ef8-e799-a40b944a1675"
      },
      "execution_count": null,
      "outputs": [
        {
          "output_type": "stream",
          "name": "stdout",
          "text": [
            "Digite seu nome: iu\n",
            "Digite seu nome: j\n",
            "Digite seu nome: name\n",
            "iuj\n"
          ]
        }
      ]
    },
    {
      "cell_type": "markdown",
      "source": [
        "**Desafio 038**\n",
        "\n",
        "Escreva um programa que leia dois números inteiros e compare-os, mostrando na tela uma mensagem:\n",
        "\n",
        "- O primeiro valor é maior\n",
        "- O segundo valor é maior \n",
        "- Não existe valor maior, os dois são iguais"
      ],
      "metadata": {
        "id": "XFQINJzGmX5R"
      }
    },
    {
      "cell_type": "code",
      "source": [
        "n1 = input('Digite o 1º: ')\n",
        "n2 = input('Digite o 2º: ')\n",
        "if n1 > n2:\n",
        "  print('O primeiro valor é maior.')\n",
        "elif n1 == n2:\n",
        "  print('\\nR: Não existe valor maior, os dois são iguais.')\n",
        "else:\n",
        "  print('\\nR: O segundo valor é maior')"
      ],
      "metadata": {
        "colab": {
          "base_uri": "https://localhost:8080/"
        },
        "id": "JxanOfckv5JE",
        "outputId": "db2aa97e-feeb-4767-825f-3b0259f0e755"
      },
      "execution_count": null,
      "outputs": [
        {
          "output_type": "stream",
          "name": "stdout",
          "text": [
            "Digite o 1º: 6\n",
            "Digite o 2º: 9\n",
            "\n",
            "R: O segundo valor é maior\n"
          ]
        }
      ]
    },
    {
      "cell_type": "markdown",
      "source": [
        "**Desafio 039**\n",
        "\n",
        "Faça um programa que leia o ano de nascimento de um jovem e informe, de acordo com sua idade:\n",
        "\n",
        "- Se ele ainda vai se alistar ao serviço militar.\n",
        "- Se é na hora de se alistar.\n",
        "- Se já passou do tempo de alistamento.\n",
        "\n",
        "Seu programa também deverá mostrar o tempo que falta ou que passou de prazo"
      ],
      "metadata": {
        "id": "OFK80PEho8i0"
      }
    },
    {
      "cell_type": "code",
      "source": [
        "from datetime import date\n",
        "\n",
        "year = date.today().year\n",
        "#print(data_atual)\n",
        "bornYear = int(input('Say your born year: '))\n",
        "\n",
        "MILITARYAGE = 18 \n",
        "age = year-bornYear\n",
        "\n",
        "militaryTime = age - MILITARYAGE\n",
        "\n",
        "if militaryTime > 0:\n",
        "  print('Already passed ',militaryTime, ' year(s) since military register' )\n",
        "elif militaryTime == 0:\n",
        "  print('Military register is in this year')\n",
        "else:\n",
        "  print(abs(militaryTime), 'year(s) to you have military service register day.')"
      ],
      "metadata": {
        "id": "wMeG0zd_vBfZ",
        "outputId": "8affc08c-9b60-4036-c26b-44b2690dae46",
        "colab": {
          "base_uri": "https://localhost:8080/"
        }
      },
      "execution_count": null,
      "outputs": [
        {
          "output_type": "stream",
          "name": "stdout",
          "text": [
            "Say your born year: 2023\n",
            "19 year(s) to you have military service register day.\n"
          ]
        }
      ]
    },
    {
      "cell_type": "code",
      "source": [
        "data_atual = date.today()\n",
        "data_em_texto = '{}/{}/{}'.format(data_atual.day, data_atual.month, data_atual.year)"
      ],
      "metadata": {
        "id": "BILrrQCevaac"
      },
      "execution_count": null,
      "outputs": []
    },
    {
      "cell_type": "code",
      "source": [
        "data_em_texto"
      ],
      "metadata": {
        "id": "1mlxPyrYIJ4H",
        "outputId": "70064550-7497-45e3-e31e-fe2edaac2115",
        "colab": {
          "base_uri": "https://localhost:8080/",
          "height": 35
        }
      },
      "execution_count": null,
      "outputs": [
        {
          "output_type": "execute_result",
          "data": {
            "application/vnd.google.colaboratory.intrinsic+json": {
              "type": "string"
            },
            "text/plain": [
              "'2/3/2022'"
            ]
          },
          "metadata": {},
          "execution_count": 4
        }
      ]
    },
    {
      "cell_type": "code",
      "source": [
        "import datetime"
      ],
      "metadata": {
        "id": "oHUNq3hb1EJK"
      },
      "execution_count": null,
      "outputs": []
    },
    {
      "cell_type": "code",
      "source": [
        "data_e_hora_atuais = datetime.datetime.now() # truque\n",
        "data_e_hora_em_texto = data_e_hora_atuais.strftime('%d/%m/%Y')\n",
        "\n",
        "print(data_e_hora_em_texto)"
      ],
      "metadata": {
        "id": "14ogZQ2UIyEH",
        "outputId": "995a5c72-dcfa-43a2-82de-7227dc309b21",
        "colab": {
          "base_uri": "https://localhost:8080/"
        }
      },
      "execution_count": null,
      "outputs": [
        {
          "output_type": "stream",
          "name": "stdout",
          "text": [
            "02/03/2022\n"
          ]
        }
      ]
    },
    {
      "cell_type": "code",
      "source": [
        "data_e_hora_em_texto = data_e_hora_atuais.strftime('%d/%m/%Y %H:%M')\n",
        "\n",
        "print(data_e_hora_em_texto)"
      ],
      "metadata": {
        "id": "ZHWvvscPQxpR",
        "outputId": "51a045a0-4896-42d3-a029-c30609598254",
        "colab": {
          "base_uri": "https://localhost:8080/"
        }
      },
      "execution_count": null,
      "outputs": [
        {
          "output_type": "stream",
          "name": "stdout",
          "text": [
            "02/03/2022 16:05\n"
          ]
        }
      ]
    },
    {
      "cell_type": "code",
      "source": [
        "from datetime import datetime\n",
        "\n",
        "data_e_hora_em_texto = '17/07/2030 12:55' #14:61'\n",
        "data_e_hora = datetime.strptime(data_em_texto, '%d/%m/%Y')# %H:%M')\n",
        "data_e_hora = datetime.strptime(data_e_hora_em_texto, '%d/%m/%Y %H:%M')\n"
      ],
      "metadata": {
        "id": "O79bfk0pc4A4"
      },
      "execution_count": null,
      "outputs": []
    },
    {
      "cell_type": "code",
      "source": [
        "print(data_e_hora)"
      ],
      "metadata": {
        "id": "IOe3mgvu0Mw5",
        "outputId": "5d848166-101a-45f1-c05f-d3fa4138f17e",
        "colab": {
          "base_uri": "https://localhost:8080/"
        }
      },
      "execution_count": null,
      "outputs": [
        {
          "output_type": "stream",
          "name": "stdout",
          "text": [
            "2030-07-17 12:55:00\n"
          ]
        }
      ]
    },
    {
      "cell_type": "markdown",
      "source": [
        "**Desafio 40**\n",
        "\n",
        "Crie um programa que leia duas notas de um aluno e calcule sua média, mostrando uma mensagem no final, de acordo com a média atingida:\n",
        "- Média abaixo de 5.0:  REPROVADO\n",
        "\n",
        "- Média entre 5.0 e 6.9: RECUPERAÇÃO\n",
        "\n",
        "- Média 7.0 ou superior: APROVADO\n"
      ],
      "metadata": {
        "id": "9tbkKTHOWLRI"
      }
    },
    {
      "cell_type": "code",
      "source": [
        "grade1 = float(input('Tell your first grade: '))\n",
        "grade2 = float(input('Tell me your second grade: '))\n",
        "\n",
        "avg = round((grade1+grade2)/2,1) # se 6.0 e 3.9 dá RECUPERAÇÃO\n",
        "\n",
        "if avg < 5.0:\n",
        "  print('REPROVADO')\n",
        "elif avg < 7.0: \n",
        "  print('RECUPERAÇÃO')\n",
        "else:\n",
        "  print('APROVADO')\n",
        "  "
      ],
      "metadata": {
        "id": "KH-vjpkm2W_U",
        "colab": {
          "base_uri": "https://localhost:8080/"
        },
        "outputId": "a3116afe-d2ce-4517-e1c4-6e2b0ffec2c6"
      },
      "execution_count": null,
      "outputs": [
        {
          "output_type": "stream",
          "name": "stdout",
          "text": [
            "Tell your first grade: 7\n",
            "Tell me your second grade: 9\n",
            "APROVADO\n"
          ]
        }
      ]
    },
    {
      "cell_type": "markdown",
      "source": [
        "**Desafio 41**\n",
        "\n",
        "A Confederação Nacional de Natação precisa de um programa que leia o ano de nascimento de um atleta e mostre sua categoria, de acordo com a idade:\n",
        "\n",
        "- Até 9 anos: MIRIM\n",
        "- Até 14 anos: INFANTIL\n",
        "- Até 19 anos: JUNIOR\n",
        "- Até 30 anos: SÊNIOR\n",
        "- Acima: MASTER"
      ],
      "metadata": {
        "id": "IyrGuH7pcwhc"
      }
    },
    {
      "cell_type": "code",
      "source": [
        "year"
      ],
      "metadata": {
        "colab": {
          "base_uri": "https://localhost:8080/"
        },
        "id": "3lFl5OFhAxmg",
        "outputId": "d59ad0be-1119-4eca-ce5d-1e92f2d858a8"
      },
      "execution_count": null,
      "outputs": [
        {
          "output_type": "execute_result",
          "data": {
            "text/plain": [
              "2022"
            ]
          },
          "metadata": {},
          "execution_count": 11
        }
      ]
    },
    {
      "cell_type": "code",
      "source": [
        "bornYear = int(input('Athlete, say your born year: '))\n",
        "age = year - bornYear\n",
        "if age <= 9:\n",
        "  print('MIRIM')\n",
        "elif age <= 14:\n",
        "  print('INFANTIL')\n",
        "elif age <= 19:\n",
        "  print('JUNIOR')\n",
        "elif age <= 30:\n",
        "  print('SÊNIOR')\n",
        "else:\n",
        "  print('MASTER')"
      ],
      "metadata": {
        "colab": {
          "base_uri": "https://localhost:8080/"
        },
        "id": "PCgSqjN2cwC1",
        "outputId": "9b736a64-3677-4a13-bf27-3c1e8d149375"
      },
      "execution_count": null,
      "outputs": [
        {
          "output_type": "stream",
          "name": "stdout",
          "text": [
            "Athlete, say your born year: 2018\n",
            "MIRIM\n"
          ]
        }
      ]
    },
    {
      "cell_type": "markdown",
      "source": [
        "**DESAFIO 42**\n",
        "\n",
        "Refaça o Desafio 35 dos triângulos, acrescentando o recurso de mostrar que tipo de triângulo será formado:\n",
        "\n",
        "* **Equilátero**: todos os lados iguais\n",
        "* **Isósceles**: dois lados iguais\n",
        "* **Escaleno**: todos os lados diferentes"
      ],
      "metadata": {
        "id": "JJkkW_UwKs3U"
      }
    },
    {
      "cell_type": "code",
      "source": [
        "def istriangle(a,b,c):\n",
        "  # great = a\n",
        "  # if great<b:\n",
        "  #   great = b\n",
        "  # if great < c:\n",
        "  #   great = c\n",
        "  # #return great\n",
        "  # great\n",
        "  return a < b + c and b < a + c and c < a + b\n",
        " "
      ],
      "metadata": {
        "id": "M69g8rq3bskc"
      },
      "execution_count": null,
      "outputs": []
    },
    {
      "cell_type": "code",
      "source": [
        "def triangletype(s1,s2,s3):\n",
        "  if istriangle(s1,s2,s3):\n",
        "    if s1 == s2 and s2 == s3:\n",
        "      print('Equilateral')\n",
        "    elif s1 == s2 or s1 == s3 or s2 == s3:\n",
        "      print('Isosceles')\n",
        "    else:\n",
        "      print('Scalene')\n",
        "  else: print('With this measures don\\'t is possible build a triangle')"
      ],
      "metadata": {
        "id": "zgSaZEIRbJdh"
      },
      "execution_count": null,
      "outputs": []
    },
    {
      "cell_type": "code",
      "source": [
        "triangletype(2,3,4)"
      ],
      "metadata": {
        "id": "BMAscIlaQ6-M",
        "outputId": "6f5ba83a-4228-4b39-8342-ac457591f773",
        "colab": {
          "base_uri": "https://localhost:8080/"
        }
      },
      "execution_count": null,
      "outputs": [
        {
          "output_type": "stream",
          "name": "stdout",
          "text": [
            "Scalene\n"
          ]
        }
      ]
    },
    {
      "cell_type": "code",
      "source": [
        "triangletype(4,3,10)"
      ],
      "metadata": {
        "colab": {
          "base_uri": "https://localhost:8080/"
        },
        "id": "-Bsiyk7uujnd",
        "outputId": "b232f142-cb87-4166-c7d6-e5cf4482fe94"
      },
      "execution_count": null,
      "outputs": [
        {
          "output_type": "stream",
          "name": "stdout",
          "text": [
            "With this measures don't is possible build a triangle\n"
          ]
        }
      ]
    },
    {
      "cell_type": "code",
      "source": [
        "def triangletype2(s1,s2,s3):\n",
        "  if istriangle(s1,s2,s3):\n",
        "    if s1 == s2:\n",
        "      if s1 == s3:\n",
        "        print('Equilateral')\n",
        "      else: print('Isosceles')\n",
        "    elif s1 == s3 or s2 == s3:\n",
        "      print('Isosceles')\n",
        "    else: print('Scalene') \n",
        "  else: print('With this measures don\\'t is possible build a triangle')"
      ],
      "metadata": {
        "id": "K4nkBCjdQ_cP"
      },
      "execution_count": null,
      "outputs": []
    },
    {
      "cell_type": "code",
      "source": [
        "triangletype2(1,2,3)"
      ],
      "metadata": {
        "colab": {
          "base_uri": "https://localhost:8080/"
        },
        "id": "IPEpZDuPtIWP",
        "outputId": "25a2c18e-3912-4e06-c406-e02d27fba676"
      },
      "execution_count": null,
      "outputs": [
        {
          "output_type": "stream",
          "name": "stdout",
          "text": [
            "With this measures don't is possible build a triangle\n"
          ]
        }
      ]
    },
    {
      "cell_type": "code",
      "source": [
        "triangletype2(4,2,5)"
      ],
      "metadata": {
        "id": "J6mqhKGuU0ec",
        "outputId": "df72691b-54a2-4654-d1db-a43efc8c1522",
        "colab": {
          "base_uri": "https://localhost:8080/"
        }
      },
      "execution_count": null,
      "outputs": [
        {
          "output_type": "stream",
          "name": "stdout",
          "text": [
            "Scalene\n"
          ]
        }
      ]
    },
    {
      "cell_type": "code",
      "source": [
        "triangletype2(3,3,5)"
      ],
      "metadata": {
        "id": "sP_Gq17MU7dp",
        "outputId": "d1cd85c1-f879-4b51-ac17-6699b66667a8",
        "colab": {
          "base_uri": "https://localhost:8080/"
        }
      },
      "execution_count": null,
      "outputs": [
        {
          "output_type": "stream",
          "name": "stdout",
          "text": [
            "Isosceles\n"
          ]
        }
      ]
    },
    {
      "cell_type": "code",
      "source": [
        "triangletype(0,0,0)"
      ],
      "metadata": {
        "id": "Q12xiFNoU_qC",
        "colab": {
          "base_uri": "https://localhost:8080/"
        },
        "outputId": "5b377c28-f6d8-4c1a-c475-bfcbc80181f1"
      },
      "execution_count": null,
      "outputs": [
        {
          "output_type": "stream",
          "name": "stdout",
          "text": [
            "Equilateral\n"
          ]
        }
      ]
    },
    {
      "cell_type": "code",
      "source": [
        "\n",
        "\n",
        "#def istriangle(a,b,c): # decomponho para ver qual é o maior e a partir daí vejo se é triangulo\n",
        "  #if (a>b>c)"
      ],
      "metadata": {
        "id": "d7mhzn7VYhwO"
      },
      "execution_count": null,
      "outputs": []
    },
    {
      "cell_type": "code",
      "source": [
        "istriangle(2,2,3)"
      ],
      "metadata": {
        "colab": {
          "base_uri": "https://localhost:8080/"
        },
        "id": "5pDi-yJMrq6H",
        "outputId": "6a58817d-6b47-4389-ff71-14a244563e59"
      },
      "execution_count": null,
      "outputs": [
        {
          "output_type": "execute_result",
          "data": {
            "text/plain": [
              "True"
            ]
          },
          "metadata": {},
          "execution_count": 36
        }
      ]
    },
    {
      "cell_type": "code",
      "source": [
        "# def istriangle(a,b,c):\n",
        "#   great(a,b,c)# a > b + c\n",
        "  "
      ],
      "metadata": {
        "id": "o5rQoJPxdfnk"
      },
      "execution_count": null,
      "outputs": []
    },
    {
      "cell_type": "code",
      "source": [
        "#greaterSide(3,4,6)"
      ],
      "metadata": {
        "colab": {
          "base_uri": "https://localhost:8080/"
        },
        "id": "ahptP0E1deg3",
        "outputId": "8cc11cc8-10fb-49b2-e788-e8d9d7038899"
      },
      "execution_count": null,
      "outputs": [
        {
          "output_type": "execute_result",
          "data": {
            "text/plain": [
              "6"
            ]
          },
          "metadata": {},
          "execution_count": 25
        }
      ]
    },
    {
      "cell_type": "markdown",
      "source": [
        "**Desafio 043**\n",
        "\n",
        "Desenvolva uma lógica que leia o peso e a altura de uma pessoa. Calcule seu **IMC** e mostre seu status, de acordo com a tabela abaixo:\n",
        "- Abaixo de **18.5**: Abaixo do Peso\n",
        "- Entre **18.5** e **25**: Peso ideal\n",
        "- **25** até **30**: Sobrepeso\n",
        "- Acima de **40**:\n",
        "Obesidade mórbida"
      ],
      "metadata": {
        "id": "v6mJCFbcuzx8"
      }
    },
    {
      "cell_type": "code",
      "source": [
        "DOWN = 18.5\n",
        "RIGHT = 25\n",
        "OVER = 30\n",
        "OPUP = 40\n",
        "\n",
        "altura = float(input('Digite a sua altura (em metros): '))\n",
        "peso = float(input('Digite o seu peso (em kilogramas): '))\n",
        "\n",
        "\n",
        "\n",
        "IMC = peso/altura**2\n",
        "\n",
        "if IMC < DOWN:\n",
        "  print('Below weight\\'s')\n",
        "elif IMC < RIGHT:\n",
        "  print('Weight optimal ')\n",
        "elif IMC < OVER:\n",
        "  print('Above weight\\'s')\n",
        "elif IMC < OPUP:\n",
        "  print('Morbid obesity')"
      ],
      "metadata": {
        "id": "5C-WGG-Vu32Q",
        "colab": {
          "base_uri": "https://localhost:8080/"
        },
        "outputId": "03300b43-4d83-4a1e-c709-cca813ef0b78"
      },
      "execution_count": null,
      "outputs": [
        {
          "output_type": "stream",
          "name": "stdout",
          "text": [
            "Digite a sua altura (em metros): 1.89\n",
            "Digite o seu peso (em kilogramas): 80\n",
            "Weight optimal \n"
          ]
        }
      ]
    },
    {
      "cell_type": "code",
      "source": [
        "IMC"
      ],
      "metadata": {
        "id": "QQBABdLJhlgP",
        "colab": {
          "base_uri": "https://localhost:8080/"
        },
        "outputId": "5aeaf83e-9cdf-4166-a2f6-ecbd14b2bbe1"
      },
      "execution_count": null,
      "outputs": [
        {
          "output_type": "execute_result",
          "data": {
            "text/plain": [
              "22.395789591556788"
            ]
          },
          "metadata": {},
          "execution_count": 2
        }
      ]
    },
    {
      "cell_type": "markdown",
      "source": [
        "**Desafio 044**\n",
        "Elabore um programa que calcule o valor a ser pago por um produto, considerando o seu **preço normal** e **condição de pagamento**:\n",
        "\n",
        "\n",
        "*   à vista **dinheiro/cheque: 10%** de desconto\n",
        "*   à vista no **cartão: 5%** de desconto\n",
        "*   em até **2* no cartão**: preço normal\n",
        "*   **3* ou mais** no cartão: [**20%** de juros\n",
        "\n"
      ],
      "metadata": {
        "id": "dcPiqpIjFaW1"
      }
    },
    {
      "cell_type": "code",
      "source": [
        "price = float(input('What is the price of your product: '))\n",
        "payC = str(input('What is payment condition that you choose: ')) # paymentCOndition\n",
        "\n",
        "if payC == '1':\n",
        "  price *= 0.95\n",
        "elif payC == '2':\n",
        "  price *= 1\n",
        "elif payC == '3':\n",
        "  price *= 1.20\n",
        "elif payC.lower == 'm' or 'c':\n",
        "  price *= 0.9\n",
        "\n",
        "\n",
        "print('O preço a ser pago mediante a condição de pagamento é', price)"
      ],
      "metadata": {
        "colab": {
          "base_uri": "https://localhost:8080/"
        },
        "id": "c34e-kRBwmyY",
        "outputId": "57bbb73e-22db-4a28-9dc0-ed98dcc7100c"
      },
      "execution_count": null,
      "outputs": [
        {
          "output_type": "stream",
          "name": "stdout",
          "text": [
            "What is the price of your product: 12\n",
            "What is payment condition that you choose: c\n",
            "O preço a ser pago mediante a condição de pagamento é 10.8\n"
          ]
        }
      ]
    },
    {
      "cell_type": "markdown",
      "source": [
        "**Desafio 045**\n",
        "Crie um programa que faça o computador **Jokenpô** com voçê."
      ],
      "metadata": {
        "id": "AImnu02NkZu8"
      }
    },
    {
      "cell_type": "code",
      "source": [
        "import random\n"
      ],
      "metadata": {
        "id": "TDdytRBNp1An"
      },
      "execution_count": null,
      "outputs": []
    },
    {
      "cell_type": "code",
      "source": [
        "presentation = print('Rock, Paper and Scissors Game')"
      ],
      "metadata": {
        "colab": {
          "base_uri": "https://localhost:8080/"
        },
        "id": "CHw4OFeZi1p_",
        "outputId": "a4f4bcad-30fe-4d49-c52f-a12ccd6dacc4"
      },
      "execution_count": null,
      "outputs": [
        {
          "output_type": "stream",
          "name": "stdout",
          "text": [
            "Rock, Paper and Scissors Game\n"
          ]
        }
      ]
    },
    {
      "cell_type": "code",
      "source": [
        "gameV =  {1:'rock', 2:'paper', 3:'scissor'}\n",
        "\n",
        "while True: \n",
        "  num = random.randint(0,2) + 1\n",
        "  human = int(input('Write a number between 1 to 3 which:\\n 1 is Rock \\n 2 is Paper \\n 3 is Scissor\\n'))\n",
        "  if (0 < human < 4):\n",
        "    break\n",
        "\n",
        "print(num)\n",
        "pc = gameV[num]\n",
        "print(pc)\n",
        "print(' Jokenpô GAME :\\n\\n Human move: ', gameV[human],' vs PC move:', pc)#, '\\n \\n RESULT: ')\n",
        "dif = human-num #abs(num-human)\n",
        "\n",
        "print(dif)\n",
        "if dif == 0:\n",
        "  print('Draw', pc)\n",
        "elif dif == 1 or dif == -2:\n",
        "  print('Vitory')\n",
        "else:\n",
        "  print('Defeat') \n",
        "\n",
        "#human = gameV[human]\n",
        "\n",
        "#if \n"
      ],
      "metadata": {
        "colab": {
          "base_uri": "https://localhost:8080/"
        },
        "id": "u1fJlIR3lR7m",
        "outputId": "9327ee3d-6f19-4552-86d3-c4ffc352ac70"
      },
      "execution_count": null,
      "outputs": [
        {
          "name": "stdout",
          "output_type": "stream",
          "text": [
            "Write a number between 1 to 3 which:\n",
            " 1 is Rock \n",
            " 2 is Paper \n",
            " 3 is Scissor\n",
            "4\n",
            "Write a number between 1 to 3 which:\n",
            " 1 is Rock \n",
            " 2 is Paper \n",
            " 3 is Scissor\n",
            "8\n",
            "Write a number between 1 to 3 which:\n",
            " 1 is Rock \n",
            " 2 is Paper \n",
            " 3 is Scissor\n",
            "-1\n"
          ]
        }
      ]
    },
    {
      "cell_type": "code",
      "source": [
        "gameV[2]"
      ],
      "metadata": {
        "id": "qVT_nzivlJwH",
        "outputId": "42d09a33-9b1a-4ea6-fa59-27f3a6b08ef5",
        "colab": {
          "base_uri": "https://localhost:8080/",
          "height": 35
        }
      },
      "execution_count": null,
      "outputs": [
        {
          "output_type": "execute_result",
          "data": {
            "text/plain": [
              "'paper'"
            ],
            "application/vnd.google.colaboratory.intrinsic+json": {
              "type": "string"
            }
          },
          "metadata": {},
          "execution_count": 27
        }
      ]
    },
    {
      "cell_type": "code",
      "source": [
        "type(gameV[num])"
      ],
      "metadata": {
        "colab": {
          "base_uri": "https://localhost:8080/"
        },
        "id": "LB7rUeapZ5rn",
        "outputId": "0637375d-60f9-4205-8ed6-97a476a471a2"
      },
      "execution_count": null,
      "outputs": [
        {
          "output_type": "execute_result",
          "data": {
            "text/plain": [
              "str"
            ]
          },
          "metadata": {},
          "execution_count": 7
        }
      ]
    },
    {
      "cell_type": "code",
      "source": [
        "type(gameV)"
      ],
      "metadata": {
        "colab": {
          "base_uri": "https://localhost:8080/"
        },
        "id": "QcVatJX2Z-av",
        "outputId": "9a0d5c93-6b36-459d-b229-0ff1c589b7c6"
      },
      "execution_count": null,
      "outputs": [
        {
          "output_type": "execute_result",
          "data": {
            "text/plain": [
              "dict"
            ]
          },
          "metadata": {},
          "execution_count": 8
        }
      ]
    },
    {
      "cell_type": "code",
      "source": [
        "#type(gameV[])"
      ],
      "metadata": {
        "colab": {
          "base_uri": "https://localhost:8080/",
          "height": 130
        },
        "id": "0KbrBgqbaBEf",
        "outputId": "8cf59649-354b-450c-caaa-e648939c5c40"
      },
      "execution_count": null,
      "outputs": [
        {
          "output_type": "error",
          "ename": "SyntaxError",
          "evalue": "ignored",
          "traceback": [
            "\u001b[0;36m  File \u001b[0;32m\"<ipython-input-9-56275e43cb3c>\"\u001b[0;36m, line \u001b[0;32m1\u001b[0m\n\u001b[0;31m    type(gameV[])\u001b[0m\n\u001b[0m               ^\u001b[0m\n\u001b[0;31mSyntaxError\u001b[0m\u001b[0;31m:\u001b[0m invalid syntax\n"
          ]
        }
      ]
    },
    {
      "cell_type": "code",
      "source": [
        "gameV[num]"
      ],
      "metadata": {
        "colab": {
          "base_uri": "https://localhost:8080/",
          "height": 35
        },
        "id": "TqNHAOXnp8dr",
        "outputId": "2544c6b0-29f5-4212-fcd0-14440fead826"
      },
      "execution_count": null,
      "outputs": [
        {
          "output_type": "execute_result",
          "data": {
            "application/vnd.google.colaboratory.intrinsic+json": {
              "type": "string"
            },
            "text/plain": [
              "'scissor'"
            ]
          },
          "metadata": {},
          "execution_count": 23
        }
      ]
    },
    {
      "cell_type": "code",
      "source": [
        "# Solução do Gustavo Guanabará\n",
        "from random import randint\n",
        "from time import sleep\n",
        "itens =  ('Pedra', 'Papel', 'Tesoura')\n",
        "computador = randint(0, 2)\n",
        "print('''Suas opções:\n",
        "[ 0 ] PEDRA\n",
        "[ 1 ] PAPEL\n",
        "[ 2 ] TESOURA''')\n",
        "jogador = int(input('Qual é a sua jogada? '))\n",
        "print('JO')\n",
        "sleep(1)\n",
        "print('KEN')\n",
        "sleep(1)\n",
        "print('PÔ!!!')\n",
        "print('-=' * 11)\n",
        "print('O computador escolheu {}'.format(itens[computador]))\n",
        "print('Jogador jogou {}'.format(itens[jogador]))\n",
        "print('-=' * 11)\n",
        "if computador == 0: # computador jogou P  edra\n",
        "  if jogador == 0:\n",
        "    print('EMPATE')\n",
        "  elif jogador == 1:\n",
        "    print('JOGADOR VENCE')\n",
        "  elif jogador == 2:\n",
        "    print('COMPUTADOR VENCE')\n",
        "  else:\n",
        "    print('JOGADA INVÁLIDA!')\n",
        "elif computador == 1: # computador jogou PAPEL\n",
        "  if jogador == 0:\n",
        "    print('COMPUTADOR VENCE')\n",
        "  elif jogador == 1:\n",
        "    print('EMPATE')\n",
        "  elif jogador == 2:\n",
        "    print('JOGADOR VENCE')\n",
        "  else:\n",
        "    print('JOGADA INVÁLIDA!')\n",
        "elif computador == 1: # computador jogou TESOURA\n",
        "  if jogador == 0:\n",
        "    print('JOGADOR VENCE')\n",
        "  elif jogador == 1:\n",
        "    print('COMPUTADOR VENCE')\n",
        "  elif jogador == 2:\n",
        "    print('EMPATE')\n",
        "  else:\n",
        "    print('JOGADA INVÁLIDA!')"
      ],
      "metadata": {
        "id": "Fpr9TrxHqQ0u",
        "colab": {
          "base_uri": "https://localhost:8080/"
        },
        "outputId": "e647bfb3-9390-4fee-f1fa-6633c9d555cf"
      },
      "execution_count": null,
      "outputs": [
        {
          "output_type": "stream",
          "name": "stdout",
          "text": [
            "Suas opções:\n",
            "[ 0 ] PEDRA\n",
            "[ 1 ] PAPEL\n",
            "[ 2 ] TESOURA\n",
            "Qual é a sua jogada? 2\n",
            "-=-=-=-=-=-=-=-=-=-=-=\n",
            "O computador escolheu Papel\n",
            "Jogador jogou Tesoura\n",
            "-=-=-=-=-=-=-=-=-=-=-=\n",
            "JOGADOR VENCE\n"
          ]
        }
      ]
    },
    {
      "cell_type": "code",
      "source": [
        "# Estrutura de repetição\n",
        "\n",
        "# Aula 13\n",
        "\n",
        "# print('Oi')\n",
        "# print('Oi')\n",
        "# print('Oi')\n",
        "# print('Oi')\n",
        "# print('Oi')\n",
        "# print('Oi')\n",
        "\n",
        "\n",
        "for c in range(0, 6):\n",
        "  print('Oi')\n",
        "print('FIM')\n",
        "\n",
        "# aninhar, colocar uma estrutura dentro da outra\n",
        "\n",
        "# sintaxe do portinhol e do ..."
      ],
      "metadata": {
        "id": "wu_jqtJybkVA",
        "outputId": "4945ba1a-7b5d-4ed8-d5e4-8188f6aab6b0",
        "colab": {
          "base_uri": "https://localhost:8080/"
        }
      },
      "execution_count": null,
      "outputs": [
        {
          "output_type": "stream",
          "name": "stdout",
          "text": [
            "Oi\n",
            "Oi\n",
            "Oi\n",
            "Oi\n",
            "Oi\n",
            "Oi\n",
            "FIM\n"
          ]
        }
      ]
    },
    {
      "cell_type": "code",
      "source": [
        "for c in range(6, 0, -1):\n",
        "  print(c)\n",
        "print('FIM')"
      ],
      "metadata": {
        "id": "h9Q6ie2LILbP",
        "outputId": "fcc0f279-6696-4224-ae42-2297165962be",
        "colab": {
          "base_uri": "https://localhost:8080/"
        }
      },
      "execution_count": null,
      "outputs": [
        {
          "output_type": "stream",
          "name": "stdout",
          "text": [
            "6\n",
            "5\n",
            "4\n",
            "3\n",
            "2\n",
            "1\n",
            "FIM\n"
          ]
        }
      ]
    },
    {
      "cell_type": "code",
      "source": [
        "n = int(input('Digite um número: '))\n",
        "#f = int(input)"
      ],
      "metadata": {
        "id": "V4WUgY0rIbME",
        "outputId": "27075ec1-c408-4252-df8d-f6728996c97b",
        "colab": {
          "base_uri": "https://localhost:8080/"
        }
      },
      "execution_count": null,
      "outputs": [
        {
          "name": "stdout",
          "output_type": "stream",
          "text": [
            "Digite um número: 56\n"
          ]
        }
      ]
    },
    {
      "cell_type": "code",
      "source": [
        "s = 0\n",
        "for c in range(0,4):\n",
        "  n = int(input('Digite um valor: '))\n",
        "  s = s + n\n",
        "print('O somatório de todos os valores foi {}'.format(s))"
      ],
      "metadata": {
        "id": "5fqKsRt5w7uF",
        "outputId": "7041c7c5-e403-4a1f-d4a9-a2c164f44814",
        "colab": {
          "base_uri": "https://localhost:8080/"
        }
      },
      "execution_count": null,
      "outputs": [
        {
          "output_type": "stream",
          "name": "stdout",
          "text": [
            "Digite um valor: 43\n",
            "Digite um valor: 3\n",
            "Digite um valor: 7\n",
            "Digite um valor: 2\n",
            "O somatório de todos os valores foi 55\n"
          ]
        }
      ]
    },
    {
      "cell_type": "markdown",
      "source": [
        "# Desafio 046\n",
        "\n",
        "Faça um programa que mostre na tela **contagem regressiva** para o estouro de fogos de artifício, indo de **10 até 0**, com uma pausa de **1 segundo** entre eles.\n"
      ],
      "metadata": {
        "id": "Zs3CwnPQxksz"
      }
    },
    {
      "cell_type": "code",
      "source": [
        "import time\n",
        "\n",
        "for c in range(10,-1, -1):\n",
        "  print(c)\n",
        "  time.sleep(1)"
      ],
      "metadata": {
        "id": "YVMDB5qhyOFa",
        "outputId": "c7593ade-3550-4a88-f60e-02b6e516d72c",
        "colab": {
          "base_uri": "https://localhost:8080/"
        }
      },
      "execution_count": null,
      "outputs": [
        {
          "output_type": "stream",
          "name": "stdout",
          "text": [
            "10\n",
            "9\n",
            "8\n",
            "7\n",
            "6\n",
            "5\n",
            "4\n",
            "3\n",
            "2\n",
            "1\n",
            "0\n"
          ]
        }
      ]
    },
    {
      "cell_type": "code",
      "source": [
        ""
      ],
      "metadata": {
        "id": "zBakKcIN0BDg"
      },
      "execution_count": null,
      "outputs": []
    },
    {
      "cell_type": "code",
      "source": [
        "# Answer by Gustavo Guanabará\n",
        "from time import sleep\n",
        "for cont in range(10, -1, -1): # (0,11,1)\n",
        "  print(cont)\n",
        "  sleep(0.5)\n",
        "print('BUM! BUM! POOOW!')"
      ],
      "metadata": {
        "colab": {
          "base_uri": "https://localhost:8080/"
        },
        "id": "gDlDyVQwmF__",
        "outputId": "2f18e7ca-4aff-4c90-89fb-e68ce33f96ab"
      },
      "execution_count": 1,
      "outputs": [
        {
          "output_type": "stream",
          "name": "stdout",
          "text": [
            "10\n",
            "9\n",
            "8\n",
            "7\n",
            "6\n",
            "5\n",
            "4\n",
            "3\n",
            "2\n",
            "1\n",
            "0\n",
            "BUM! BUM! POOOW!\n"
          ]
        }
      ]
    },
    {
      "cell_type": "markdown",
      "source": [
        "# Desafio 047\n",
        "\n",
        "Crie um programa que mostre na tela **todos os números pares** que estão no intervalo de **1** e **50**"
      ],
      "metadata": {
        "id": "qLeG4Bw5znzz"
      }
    },
    {
      "cell_type": "code",
      "source": [
        "for c in range(0,50):\n",
        "  if c%2==0:\n",
        "    print(c)"
      ],
      "metadata": {
        "id": "SOav3myMzmvv",
        "outputId": "5286c9c9-bd5a-49e5-8508-054a5e3f3531",
        "colab": {
          "base_uri": "https://localhost:8080/"
        }
      },
      "execution_count": null,
      "outputs": [
        {
          "output_type": "stream",
          "name": "stdout",
          "text": [
            "0\n",
            "2\n",
            "4\n",
            "6\n",
            "8\n",
            "10\n",
            "12\n",
            "14\n",
            "16\n",
            "18\n",
            "20\n",
            "22\n",
            "24\n",
            "26\n",
            "28\n",
            "30\n",
            "32\n",
            "34\n",
            "36\n",
            "38\n",
            "40\n",
            "42\n",
            "44\n",
            "46\n",
            "48\n"
          ]
        }
      ]
    },
    {
      "cell_type": "code",
      "source": [
        "#Solved by Gustavo Guanabará\n",
        "for n in range(1, 51, 2):\n",
        "  # print('.', end='')\n",
        "  # if n % 2 == 0: #print(n, end=' ')\n",
        "    #print(n, end=' ')\n",
        "  print(n, end=' ') # tempo do processor métode do tempo! \n",
        "print('Acabou')"
      ],
      "metadata": {
        "colab": {
          "base_uri": "https://localhost:8080/"
        },
        "id": "f6A1fNwas-MV",
        "outputId": "b0f3063c-6453-4fa9-abb8-f29e3953d0a7"
      },
      "execution_count": 5,
      "outputs": [
        {
          "output_type": "stream",
          "name": "stdout",
          "text": [
            "1 3 5 7 9 11 13 15 17 19 21 23 25 27 29 31 33 35 37 39 41 43 45 47 49 Acabou\n"
          ]
        }
      ]
    },
    {
      "cell_type": "markdown",
      "source": [
        "# Desafio 048\n",
        "\n",
        "Faça um programa que calcule a **soma** entre todos os **número ímpares** que são **múltiplos de três** e que se encontram no intervalo de **1** até **500**\n"
      ],
      "metadata": {
        "id": "X0budvQG0RqA"
      }
    },
    {
      "cell_type": "code",
      "source": [
        "sum = 0\n",
        "for c in range(1, 500):\n",
        "  if c %3 == 0 and c %2 ==1:\n",
        "    sum += c\n",
        "    print(c)\n",
        "print(sum)\n",
        "# print('termo médio vezes 2, ou os dois do meio se guardar num vetor, -1 ')\n",
        "\n"
      ],
      "metadata": {
        "id": "h6PRppee0qp_",
        "outputId": "00bfd633-9981-4b4e-e373-51d8dffb552b",
        "colab": {
          "base_uri": "https://localhost:8080/"
        }
      },
      "execution_count": null,
      "outputs": [
        {
          "output_type": "stream",
          "name": "stdout",
          "text": [
            "3\n",
            "9\n",
            "15\n",
            "21\n",
            "27\n",
            "33\n",
            "39\n",
            "45\n",
            "51\n",
            "57\n",
            "63\n",
            "69\n",
            "75\n",
            "81\n",
            "87\n",
            "93\n",
            "99\n",
            "105\n",
            "111\n",
            "117\n",
            "123\n",
            "129\n",
            "135\n",
            "141\n",
            "147\n",
            "153\n",
            "159\n",
            "165\n",
            "171\n",
            "177\n",
            "183\n",
            "189\n",
            "195\n",
            "201\n",
            "207\n",
            "213\n",
            "219\n",
            "225\n",
            "231\n",
            "237\n",
            "243\n",
            "249\n",
            "255\n",
            "261\n",
            "267\n",
            "273\n",
            "279\n",
            "285\n",
            "291\n",
            "297\n",
            "303\n",
            "309\n",
            "315\n",
            "321\n",
            "327\n",
            "333\n",
            "339\n",
            "345\n",
            "351\n",
            "357\n",
            "363\n",
            "369\n",
            "375\n",
            "381\n",
            "387\n",
            "393\n",
            "399\n",
            "405\n",
            "411\n",
            "417\n",
            "423\n",
            "429\n",
            "435\n",
            "441\n",
            "447\n",
            "453\n",
            "459\n",
            "465\n",
            "471\n",
            "477\n",
            "483\n",
            "489\n",
            "495\n",
            "20667\n"
          ]
        }
      ]
    },
    {
      "cell_type": "code",
      "source": [
        "# Solution by Gustavo Guanabará\n",
        "\n",
        "soma = cont = 0\n",
        "for c in range(1, 501, 2): # números ímpares!\n",
        "  if c % 3 == 0:\n",
        "    cont = cont + 1\n",
        "    soma = soma + c\n",
        "   # print(c, end=' ')\n",
        "print('A soma de todos os {} valores solicitados é {}'.format(cont, soma))"
      ],
      "metadata": {
        "colab": {
          "base_uri": "https://localhost:8080/"
        },
        "id": "Nn4NMRowbQCX",
        "outputId": "4a30df95-22a8-47d3-af4c-5c7304b6d4fd"
      },
      "execution_count": 12,
      "outputs": [
        {
          "output_type": "stream",
          "name": "stdout",
          "text": [
            "A soma de todos os 83 valores solicitados é 20667\n"
          ]
        }
      ]
    },
    {
      "cell_type": "markdown",
      "source": [
        "# Desafio 049\n",
        "\n",
        "Refaça o **DESAFIO 009**, mostrando a **tabuada** de um número que o usuário escolher, só que agora utilizando um **laço for**.\n"
      ],
      "metadata": {
        "id": "PiCvNCie1L5V"
      }
    },
    {
      "cell_type": "code",
      "source": [
        "tabuada = int(input('Digite o número da tabuada que deseja: '))\n",
        "print('\\n Tabuada do {}'.format(tabuada))\n",
        "\n",
        "print('\\n')\n",
        "print('-' * 39)\n",
        "\n",
        "for c in range(0, 11):\n",
        "  print('{} * {} = {}'.format(tabuada, c, tabuada*c))\n"
      ],
      "metadata": {
        "id": "1OgehU0S1lRd",
        "outputId": "c497a6f5-d861-4dcd-b767-dd19f9949a66",
        "colab": {
          "base_uri": "https://localhost:8080/"
        }
      },
      "execution_count": null,
      "outputs": [
        {
          "output_type": "stream",
          "name": "stdout",
          "text": [
            "Digite o número da tabuada que deseja: 5\n",
            "\n",
            " Tabuada do 5\n",
            "\n",
            "\n",
            "---------------------------------------\n",
            "5 * 0 = 0\n",
            "5 * 1 = 5\n",
            "5 * 2 = 10\n",
            "5 * 3 = 15\n",
            "5 * 4 = 20\n",
            "5 * 5 = 25\n",
            "5 * 6 = 30\n",
            "5 * 7 = 35\n",
            "5 * 8 = 40\n",
            "5 * 9 = 45\n",
            "5 * 10 = 50\n"
          ]
        }
      ]
    },
    {
      "cell_type": "code",
      "source": [
        "# Answer by Gustavo Guanabará\n",
        "\n",
        "num = int(input('Digite um número para ver sua tabuada: '))\n",
        "for c in range(1,11):\n",
        "  print('{} * {:2} = {}'.format(num, c, num*c))"
      ],
      "metadata": {
        "colab": {
          "base_uri": "https://localhost:8080/"
        },
        "id": "rxhmI2uDhz12",
        "outputId": "3ab1d061-89a0-4464-cc90-62e3e5453d34"
      },
      "execution_count": 14,
      "outputs": [
        {
          "output_type": "stream",
          "name": "stdout",
          "text": [
            "Digite um número para ver sua tabuada: 7\n",
            "7 *  1 = 7\n",
            "7 *  2 = 14\n",
            "7 *  3 = 21\n",
            "7 *  4 = 28\n",
            "7 *  5 = 35\n",
            "7 *  6 = 42\n",
            "7 *  7 = 49\n",
            "7 *  8 = 56\n",
            "7 *  9 = 63\n",
            "7 * 10 = 70\n"
          ]
        }
      ]
    },
    {
      "cell_type": "markdown",
      "source": [
        "# Desafio 050\n",
        "\n",
        "Desenvolva um programa que leia **seis números inteiros** e mostre a soma apenas daqueles que forem **pares**. Se o valor digitado for **ímpar**, desconsidere-o."
      ],
      "metadata": {
        "id": "bzoy1VN53ni_"
      }
    },
    {
      "cell_type": "code",
      "source": [
        "sum = 0\n",
        "num={}\n",
        "for c in range(1, 7):\n",
        "  num[c] = int(input('Digit the number that you pretend: '))\n",
        "  if num[c]%2 == 0:\n",
        "    sum += num[c]\n",
        "print(sum)\n"
      ],
      "metadata": {
        "id": "HDs1bqgq4Awu",
        "outputId": "1effeb3f-6efe-4564-8757-a735fb872575",
        "colab": {
          "base_uri": "https://localhost:8080/"
        }
      },
      "execution_count": null,
      "outputs": [
        {
          "output_type": "stream",
          "name": "stdout",
          "text": [
            "Digit the number that you pretend: 22\n",
            "Digit the number that you pretend: 1\n",
            "Digit the number that you pretend: 3\n",
            "Digit the number that you pretend: 6\n",
            "Digit the number that you pretend: 8\n",
            "Digit the number that you pretend: 10\n",
            "46\n"
          ]
        }
      ]
    },
    {
      "cell_type": "code",
      "source": [
        "# Answered by Gustavo Guanabará\n",
        "\n",
        "soma = cont = 0\n",
        "\n",
        "for c in range(1,7):\n",
        "  num = int(input('Digite o {} valor: '.format(c)))\n",
        "  if num % 2 == 0:\n",
        "    soma = soma + num\n",
        "    cont += 1\n",
        "print('Você informou {} números e a soma foi {}'.format(cont, soma))"
      ],
      "metadata": {
        "colab": {
          "base_uri": "https://localhost:8080/"
        },
        "id": "hwup7qyMi-Nz",
        "outputId": "cdf6cd26-3350-4467-a4c1-25e6e5dd16ef"
      },
      "execution_count": 19,
      "outputs": [
        {
          "output_type": "stream",
          "name": "stdout",
          "text": [
            "Digite o 1 valor: 6\n",
            "Digite o 2 valor: 9\n",
            "Digite o 3 valor: 11\n",
            "Digite o 4 valor: 12\n",
            "Digite o 5 valor: 13\n",
            "Digite o 6 valor: 8\n",
            "Você informou 3 números e a soma foi 26\n"
          ]
        }
      ]
    },
    {
      "cell_type": "markdown",
      "source": [
        "# Desafio 051\n",
        "\n",
        "Desenvolve um programa que leia o **primeiro termo** e a **razão** de uma **PA**. No final, mostre os 10 primeiros termos dessa progressão."
      ],
      "metadata": {
        "id": "11B5-zl19W-K"
      }
    },
    {
      "cell_type": "code",
      "source": [
        "# PA é progressão aritmética, então vem da soma. razão de 4 e primeiro termo seja 2, P1 será 6, P2 -> 10 etc\n",
        "\n",
        "# base cases\n",
        "prog = {}\n",
        "prog[0] = int(input(\"Digit firST term: \"))\n",
        "ratio = int(input(\"Please, digit the ratio of formula: \"))\n",
        "\n",
        "print('0º -> {}'.format(prog[0]))\n",
        "for c in range(1,11):\n",
        "  prog[c] = prog[c-1] + ratio\n",
        "  print('{}º -> {}'.format(c, prog[c]))"
      ],
      "metadata": {
        "colab": {
          "base_uri": "https://localhost:8080/"
        },
        "id": "xV33mIR9933d",
        "outputId": "cdb85d1d-52df-4b91-ecaa-553088907c93"
      },
      "execution_count": 38,
      "outputs": [
        {
          "output_type": "stream",
          "name": "stdout",
          "text": [
            "Digit firST term: 7\n",
            "Please, digit the ratio of formula: 8\n",
            "0º -> 7\n",
            "1º -> 15\n",
            "2º -> 23\n",
            "3º -> 31\n",
            "4º -> 39\n",
            "5º -> 47\n",
            "6º -> 55\n",
            "7º -> 63\n",
            "8º -> 71\n",
            "9º -> 79\n",
            "10º -> 87\n"
          ]
        }
      ]
    },
    {
      "cell_type": "code",
      "source": [
        "# Solução Híbrida, feita à posteriori\n",
        "\n",
        "primeiro = int(input('Primeiro termo: '))\n",
        "razao = int(input('Razão: '))\n",
        "#décimo = primeiro + (10-1)* razao\n",
        "enésimo = int(input('How until term you want?: '))\n",
        "for c in range(primeiro, primeiro + enésimo*razao, razao): # se o step for a razão fica muito acessível ...\n",
        "  print('{} '.format(c), end=' ➙ ')\n",
        "print('ACABOU')"
      ],
      "metadata": {
        "outputId": "945a4674-a19e-41cf-df94-fd290d713d70",
        "colab": {
          "base_uri": "https://localhost:8080/"
        },
        "id": "XHUzxfQHoH7r"
      },
      "execution_count": 39,
      "outputs": [
        {
          "output_type": "stream",
          "name": "stdout",
          "text": [
            "Primeiro termo: 5\n",
            "Razão: 6\n",
            "How until term you want?: 3\n",
            "5  ➙ 11  ➙ 17  ➙ ACABOU\n"
          ]
        }
      ]
    },
    {
      "cell_type": "code",
      "source": [
        "# Solution by Gustavo Guanabara\n",
        "\n",
        "# tiramos o elefante branco da sala\n",
        "\n",
        "primeiro = int(input('Primeiro termo: '))\n",
        "razao = int(input('Razão: '))\n",
        "décimo = primeiro + (10-1)* razao\n",
        "for c in range(primeiro, décimo + razao, razao): # se o step for a razão fica muito acessível ...\n",
        "  print('{} '.format(c), end=' ➙ ')\n",
        "print('ACABOU')"
      ],
      "metadata": {
        "colab": {
          "base_uri": "https://localhost:8080/"
        },
        "id": "n0Gpk_vFmwyT",
        "outputId": "5d247dea-e760-43e3-8a45-95dca467477e"
      },
      "execution_count": 40,
      "outputs": [
        {
          "output_type": "stream",
          "name": "stdout",
          "text": [
            "Primeiro termo: 25\n",
            "Razão: 5\n",
            "25  ➙ 30  ➙ 35  ➙ 40  ➙ 45  ➙ 50  ➙ 55  ➙ 60  ➙ 65  ➙ 70  ➙ ACABOU\n"
          ]
        }
      ]
    },
    {
      "cell_type": "markdown",
      "source": [
        "# Desafio 052\n",
        "\n",
        " Faça um programa que leia um **número inteiro** e diga se ele é ou não um **número primo**.\n",
        " \n"
      ],
      "metadata": {
        "id": "O9uVpmxwC6-4"
      }
    },
    {
      "cell_type": "code",
      "source": [
        "import math\n",
        "from math import sqrt\n",
        "num = int(input('Digit a number: '))\n",
        "primo = True \n",
        "if num == 0 or num == 1:\n",
        "  primo = False\n",
        "for c in range(2, int(math.sqrt(num))):\n",
        "  primo = False\n",
        "  break\n",
        "print('É primo: {}'.format(primo))\n"
      ],
      "metadata": {
        "colab": {
          "base_uri": "https://localhost:8080/"
        },
        "id": "Tujj-_m3Dazo",
        "outputId": "33099384-620a-4015-930a-109a184455b8"
      },
      "execution_count": 26,
      "outputs": [
        {
          "output_type": "stream",
          "name": "stdout",
          "text": [
            "Digit a number: 1\n",
            "É primo: False\n"
          ]
        }
      ]
    },
    {
      "cell_type": "code",
      "source": [
        "# Answered by Gustavo Guanabará\n",
        "\n",
        "num = int(input('Digite um número: '))\n",
        "tot = 0\n",
        "for c in range(1, num +1):\n",
        "  if num % c == 0:\n",
        "    print('\\033[33m', end='')\n",
        "    tot += 1\n",
        "  else:\n",
        "    print('\\033[31m', end='')\n",
        "  print('{} '.format(c), end='')\n",
        "print('\\n\\033[mO número {} foi divisível {} vezes'.format(num, tot))\n",
        "if tot == 2:\n",
        "  print('E por isso ele É PRIMO!')\n",
        "else:\n",
        "  print('É por isso ele NÃO É PRIMO!')\n",
        " # print('{} '.format(c), end='')"
      ],
      "metadata": {
        "colab": {
          "base_uri": "https://localhost:8080/"
        },
        "id": "A2aNz2trwFXd",
        "outputId": "2670c282-4378-494a-ba4b-b49f5d73a256"
      },
      "execution_count": 48,
      "outputs": [
        {
          "output_type": "stream",
          "name": "stdout",
          "text": [
            "Digite um número: 67\n",
            "\u001b[33m1 \u001b[31m2 \u001b[31m3 \u001b[31m4 \u001b[31m5 \u001b[31m6 \u001b[31m7 \u001b[31m8 \u001b[31m9 \u001b[31m10 \u001b[31m11 \u001b[31m12 \u001b[31m13 \u001b[31m14 \u001b[31m15 \u001b[31m16 \u001b[31m17 \u001b[31m18 \u001b[31m19 \u001b[31m20 \u001b[31m21 \u001b[31m22 \u001b[31m23 \u001b[31m24 \u001b[31m25 \u001b[31m26 \u001b[31m27 \u001b[31m28 \u001b[31m29 \u001b[31m30 \u001b[31m31 \u001b[31m32 \u001b[31m33 \u001b[31m34 \u001b[31m35 \u001b[31m36 \u001b[31m37 \u001b[31m38 \u001b[31m39 \u001b[31m40 \u001b[31m41 \u001b[31m42 \u001b[31m43 \u001b[31m44 \u001b[31m45 \u001b[31m46 \u001b[31m47 \u001b[31m48 \u001b[31m49 \u001b[31m50 \u001b[31m51 \u001b[31m52 \u001b[31m53 \u001b[31m54 \u001b[31m55 \u001b[31m56 \u001b[31m57 \u001b[31m58 \u001b[31m59 \u001b[31m60 \u001b[31m61 \u001b[31m62 \u001b[31m63 \u001b[31m64 \u001b[31m65 \u001b[31m66 \u001b[33m67 \n",
            "\u001b[mO número 67 foi divisível 2 vezes\n",
            "E por isso ele É PRIMO!\n"
          ]
        }
      ]
    },
    {
      "cell_type": "markdown",
      "source": [
        "# Desafio 053\n",
        "\n",
        "Crie um programa que leia uma **frase** qualquer e diga se ela é um **palídromo**,\n",
        "desconsiderando os espaços.\n",
        "\n",
        "Ex:\n",
        "\n",
        "APOS A SOPA\n",
        "\n",
        "A SACADA DA CASA\n",
        "\n",
        "A TORRE DA DERROTA\n",
        "\n",
        " O LOBO AMA O BOLO\n",
        "\n",
        "ANOTARAM A DATA DA MARATONA"
      ],
      "metadata": {
        "id": "1ZKPbgaAIyvI"
      }
    },
    {
      "cell_type": "code",
      "source": [
        "import sys\n",
        "\n",
        "phrase = str(input('Digit the phrase: '))\n",
        "print(len(phrase))\n",
        "phrase = phrase.strip()\n",
        "phrase = phrase.replace(\" \", \"\")\n",
        "mid = int(len(phrase)/2)\n",
        "print(phrase)\n",
        "\n",
        "for c in range(0, mid):\n",
        "  if phrase[c] != phrase[len(phrase)-c-1]:\n",
        "    #print('Not palindrome')\n",
        "    sys.exit('Not palindrome')\n",
        "print('It\\'s PALINDROME')"
      ],
      "metadata": {
        "colab": {
          "base_uri": "https://localhost:8080/"
        },
        "id": "8tWH-Mn9Udjo",
        "outputId": "ac78da1b-3e4c-4c1d-d3b4-945fc6d0e4ec"
      },
      "execution_count": 9,
      "outputs": [
        {
          "output_type": "stream",
          "name": "stdout",
          "text": [
            "Digit the phrase: O LOBO AMA O BOLO\n",
            "17\n",
            "OLOBOAMAOBOLO\n",
            "It's PALINDROME\n"
          ]
        }
      ]
    },
    {
      "cell_type": "code",
      "source": [
        "# Answered by Gustavo Guanabara\n",
        "\n",
        "# Tradicional version\n",
        "\n",
        "frase = str(input('Digite uma frase: ')).strip().upper()\n",
        "palavras = frase.split()\n",
        "junto = ''.join(palavras) #'*'.join(palavras)\n",
        "#print(junto)#palavras)\n",
        "inverso = ''\n",
        "inverso = junto[::-1] # fatiamento ou macete do fatiamento do python\n",
        "''' for letra in range(len(junto)-1, -1, -1): # vai para o último index como começa em zero, temos de tirar 1 ..., depois vai até ao início que é 0 mas como é exclusivo .. temos de ir 1a além dessa: daí o -1,  como vai no sentido inverso do habitual then this!\n",
        "   #print(junto[letra])\n",
        "   inverso += junto[letra] '''\n",
        "print('O inverso de {} é {}'.format(junto, inverso))\n",
        "if inverso == junto:\n",
        "  print('Temos um palíndromo!')\n",
        "else:\n",
        "  print('A frase digitada não é um palíndromo!')\n",
        "# print('Você digitou a frase {}'.format(#junto))"
      ],
      "metadata": {
        "colab": {
          "base_uri": "https://localhost:8080/"
        },
        "id": "YF7qEFiQzaJ4",
        "outputId": "39d3ad08-01a8-4b28-b778-df949567e74f"
      },
      "execution_count": 2,
      "outputs": [
        {
          "output_type": "stream",
          "name": "stdout",
          "text": [
            "Digite uma frase: Hello Mocho!\n",
            "O inverso de HELLOMOCHO! é !OHCOMOLLEH\n",
            "A frase digitada não é um palíndromo!\n"
          ]
        }
      ]
    },
    {
      "cell_type": "code",
      "source": [
        "type(int(len(phrase)/2))"
      ],
      "metadata": {
        "colab": {
          "base_uri": "https://localhost:8080/"
        },
        "id": "AhyFROPsareV",
        "outputId": "526f845c-1417-45c9-ac65-674272efb9b6"
      },
      "execution_count": 25,
      "outputs": [
        {
          "output_type": "execute_result",
          "data": {
            "text/plain": [
              "int"
            ]
          },
          "metadata": {},
          "execution_count": 25
        }
      ]
    },
    {
      "cell_type": "markdown",
      "source": [
        "# Desafio 054\n",
        "\n",
        "Crie um programa que leia o **ano de nascimento** de **sete pessoas**. No final, mostre quantas pessoas ainda não atingiram a maioridade e quantas já são maiores."
      ],
      "metadata": {
        "id": "HQckphDjf_9o"
      }
    },
    {
      "cell_type": "code",
      "source": [
        "def clean_date_of_birth(self):\n",
        "    date = self.cleaned_data['date_of_birth']\n",
        "    if date > datetime.date.today():  # 🖘 raise error if greater than\n",
        "        raise forms.ValidationError(\"The date cannot be in the future!\")\n",
        "    return date"
      ],
      "metadata": {
        "id": "_THGrbBIlDWs"
      },
      "execution_count": 25,
      "outputs": []
    },
    {
      "cell_type": "code",
      "source": [
        "from datetime import date\n",
        "adults = 0\n",
        "tries = childs = 0\n",
        "ano = {}\n",
        "actualYear = date.today().year\n",
        "print(actualYear)\n",
        "for c in range(0,7):\n",
        "  ano[c] = int(input('Digit the bornYear: '))\n",
        "  while ano[c] > actualYear:\n",
        "    ano[c] = int(input('Digit the bornYear: '))\n",
        "    tries += 1\n",
        "  # while (date.today() < ano[c]):\n",
        "  #   ano[C] = int(input('Digit the bornYear: '))\n",
        "  print(ano[c])\n",
        "  if actualYear - ano[c] >= 21:\n",
        "    adults += 1\n",
        "  else:#if actualYear - ano[c]< 0:  # garantir que não tem datas futuras... \n",
        "    childs += 1\n",
        "print('Number of Babys: {} \\n Number of Adults: {}'.format(childs, adults))\n"
      ],
      "metadata": {
        "colab": {
          "base_uri": "https://localhost:8080/"
        },
        "id": "XDclOX2ngZ4d",
        "outputId": "434fc11d-81cf-47a3-e36b-b2f70ea20890"
      },
      "execution_count": 3,
      "outputs": [
        {
          "output_type": "stream",
          "name": "stdout",
          "text": [
            "2022\n",
            "Digit the bornYear: 2024\n",
            "Digit the bornYear: 2022\n",
            "2022\n",
            "Digit the bornYear: 2021\n",
            "2021\n",
            "Digit the bornYear: 2023\n",
            "Digit the bornYear: 2021\n",
            "2021\n",
            "Digit the bornYear: 2000\n",
            "2000\n",
            "Digit the bornYear: 2222\n",
            "Digit the bornYear: 221\n",
            "221\n",
            "Digit the bornYear: 2012\n",
            "2012\n",
            "Digit the bornYear: 2013\n",
            "2013\n",
            "Number of Babys: 5 \n",
            " Number of Adults: 2\n"
          ]
        }
      ]
    },
    {
      "cell_type": "code",
      "source": [
        "#install python 3.9\n",
        "!sudo apt-get update -y\n",
        "!sudo apt-get install python3.9\n",
        "\n",
        "#changes alternatives\n",
        "#!python --version\n"
      ],
      "metadata": {
        "colab": {
          "base_uri": "https://localhost:8080/"
        },
        "id": "VC6EVUE62Jd1",
        "outputId": "ef313fa4-6166-40da-a1e7-fa95748311b2"
      },
      "execution_count": 22,
      "outputs": [
        {
          "output_type": "stream",
          "name": "stdout",
          "text": [
            "\r0% [Working]\r            \rGet:1 https://developer.download.nvidia.com/compute/cuda/repos/ubuntu1804/x86_64  InRelease [1,581 B]\n",
            "Get:2 https://cloud.r-project.org/bin/linux/ubuntu bionic-cran40/ InRelease [3,626 B]\n",
            "Get:3 http://ppa.launchpad.net/c2d4u.team/c2d4u4.0+/ubuntu bionic InRelease [15.9 kB]\n",
            "Get:4 http://security.ubuntu.com/ubuntu bionic-security InRelease [88.7 kB]\n",
            "Ign:5 https://developer.download.nvidia.com/compute/machine-learning/repos/ubuntu1804/x86_64  InRelease\n",
            "Hit:6 https://developer.download.nvidia.com/compute/machine-learning/repos/ubuntu1804/x86_64  Release\n",
            "Hit:7 http://archive.ubuntu.com/ubuntu bionic InRelease\n",
            "Get:8 https://developer.download.nvidia.com/compute/cuda/repos/ubuntu1804/x86_64  Packages [817 kB]\n",
            "Get:9 http://archive.ubuntu.com/ubuntu bionic-updates InRelease [88.7 kB]\n",
            "Get:10 https://cloud.r-project.org/bin/linux/ubuntu bionic-cran40/ Packages [85.6 kB]\n",
            "Hit:11 http://ppa.launchpad.net/cran/libgit2/ubuntu bionic InRelease\n",
            "Hit:13 http://ppa.launchpad.net/deadsnakes/ppa/ubuntu bionic InRelease\n",
            "Get:14 http://archive.ubuntu.com/ubuntu bionic-backports InRelease [74.6 kB]\n",
            "Hit:15 http://ppa.launchpad.net/graphics-drivers/ppa/ubuntu bionic InRelease\n",
            "Get:16 http://security.ubuntu.com/ubuntu bionic-security/restricted amd64 Packages [1,063 kB]\n",
            "Get:17 http://ppa.launchpad.net/c2d4u.team/c2d4u4.0+/ubuntu bionic/main Sources [2,075 kB]\n",
            "Get:18 http://archive.ubuntu.com/ubuntu bionic-updates/universe amd64 Packages [2,304 kB]\n",
            "Get:19 http://security.ubuntu.com/ubuntu bionic-security/main amd64 Packages [2,901 kB]\n",
            "Get:20 http://security.ubuntu.com/ubuntu bionic-security/universe amd64 Packages [1,527 kB]\n",
            "Get:21 http://archive.ubuntu.com/ubuntu bionic-updates/main amd64 Packages [3,336 kB]\n",
            "Get:22 http://archive.ubuntu.com/ubuntu bionic-updates/restricted amd64 Packages [1,107 kB]\n",
            "Get:23 http://ppa.launchpad.net/c2d4u.team/c2d4u4.0+/ubuntu bionic/main amd64 Packages [1,063 kB]\n",
            "Fetched 16.6 MB in 3s (5,876 kB/s)\n",
            "Reading package lists... Done\n",
            "Reading package lists... Done\n",
            "Building dependency tree       \n",
            "Reading state information... Done\n",
            "The following package was automatically installed and is no longer required:\n",
            "  libnvidia-common-460\n",
            "Use 'sudo apt autoremove' to remove it.\n",
            "The following additional packages will be installed:\n",
            "  libpython3.9-minimal libpython3.9-stdlib python3.9-minimal\n",
            "Suggested packages:\n",
            "  python3.9-venv binfmt-support\n",
            "The following NEW packages will be installed:\n",
            "  libpython3.9-minimal libpython3.9-stdlib python3.9 python3.9-minimal\n",
            "0 upgraded, 4 newly installed, 0 to remove and 71 not upgraded.\n",
            "Need to get 4,914 kB of archives.\n",
            "After this operation, 19.1 MB of additional disk space will be used.\n",
            "Get:1 http://ppa.launchpad.net/deadsnakes/ppa/ubuntu bionic/main amd64 libpython3.9-minimal amd64 3.9.13-1+bionic1 [805 kB]\n",
            "Get:2 http://ppa.launchpad.net/deadsnakes/ppa/ubuntu bionic/main amd64 python3.9-minimal amd64 3.9.13-1+bionic1 [1,937 kB]\n",
            "Get:3 http://ppa.launchpad.net/deadsnakes/ppa/ubuntu bionic/main amd64 libpython3.9-stdlib amd64 3.9.13-1+bionic1 [1,679 kB]\n",
            "Get:4 http://ppa.launchpad.net/deadsnakes/ppa/ubuntu bionic/main amd64 python3.9 amd64 3.9.13-1+bionic1 [492 kB]\n",
            "Fetched 4,914 kB in 3s (1,679 kB/s)\n",
            "debconf: unable to initialize frontend: Dialog\n",
            "debconf: (No usable dialog-like program is installed, so the dialog based frontend cannot be used. at /usr/share/perl5/Debconf/FrontEnd/Dialog.pm line 76, <> line 4.)\n",
            "debconf: falling back to frontend: Readline\n",
            "debconf: unable to initialize frontend: Readline\n",
            "debconf: (This frontend requires a controlling tty.)\n",
            "debconf: falling back to frontend: Teletype\n",
            "dpkg-preconfigure: unable to re-open stdin: \n",
            "Selecting previously unselected package libpython3.9-minimal:amd64.\n",
            "(Reading database ... 155653 files and directories currently installed.)\n",
            "Preparing to unpack .../libpython3.9-minimal_3.9.13-1+bionic1_amd64.deb ...\n",
            "Unpacking libpython3.9-minimal:amd64 (3.9.13-1+bionic1) ...\n",
            "Selecting previously unselected package python3.9-minimal.\n",
            "Preparing to unpack .../python3.9-minimal_3.9.13-1+bionic1_amd64.deb ...\n",
            "Unpacking python3.9-minimal (3.9.13-1+bionic1) ...\n",
            "Selecting previously unselected package libpython3.9-stdlib:amd64.\n",
            "Preparing to unpack .../libpython3.9-stdlib_3.9.13-1+bionic1_amd64.deb ...\n",
            "Unpacking libpython3.9-stdlib:amd64 (3.9.13-1+bionic1) ...\n",
            "Selecting previously unselected package python3.9.\n",
            "Preparing to unpack .../python3.9_3.9.13-1+bionic1_amd64.deb ...\n",
            "Unpacking python3.9 (3.9.13-1+bionic1) ...\n",
            "Setting up libpython3.9-minimal:amd64 (3.9.13-1+bionic1) ...\n",
            "Setting up libpython3.9-stdlib:amd64 (3.9.13-1+bionic1) ...\n",
            "Setting up python3.9-minimal (3.9.13-1+bionic1) ...\n",
            "Setting up python3.9 (3.9.13-1+bionic1) ...\n",
            "Processing triggers for mime-support (3.60ubuntu1) ...\n",
            "Processing triggers for man-db (2.8.3-2ubuntu0.1) ...\n"
          ]
        }
      ]
    },
    {
      "cell_type": "code",
      "source": [
        "# changes alternatives\n",
        "!sudo update-alternatives --install /usr/bin/python3 python3 /usr/bin/python3.7 1\n",
        "!sudo update-alternatives --install /usr/bin/python3 python3 /usr/bin/python3.9 2"
      ],
      "metadata": {
        "colab": {
          "base_uri": "https://localhost:8080/"
        },
        "id": "xeFCst4g94h4",
        "outputId": "837b8592-9609-4deb-da2e-78f81c2894d2"
      },
      "execution_count": 25,
      "outputs": [
        {
          "output_type": "stream",
          "name": "stdout",
          "text": [
            "update-alternatives: using /usr/bin/python3.9 to provide /usr/bin/python3 (python3) in auto mode\n"
          ]
        }
      ]
    },
    {
      "cell_type": "code",
      "source": [
        "from datetime import date\n",
        "adults = 0\n",
        "childs = 0\n",
        "ano = {}\n",
        "actualYear = date.today().year\n",
        "print(actualYear)\n",
        "for c in range(0,7):\n",
        "  while actualYear < (bornYear := int(input('Digit the bornYear: '))): \n",
        "  # while (date.today() < ano[c]):\n",
        "  #   ano[C] = int(input('Digit the bornYear: '))\n",
        "  print(ano[c])\n",
        "  if actualYear - ano[c] >= 21:\n",
        "    adults += 1\n",
        "  else:#if actualYear - ano[c]< 0:  # garantir que não tem datas futuras... \n",
        "    childs += 1\n",
        "print('Number of Babys: {} \\n Number of Adults: {}'.format(childs, adults))"
      ],
      "metadata": {
        "colab": {
          "base_uri": "https://localhost:8080/",
          "height": 130
        },
        "id": "1w9hcLSYyuzG",
        "outputId": "d50472b9-8998-48de-8945-f14c82c47313"
      },
      "execution_count": 27,
      "outputs": [
        {
          "output_type": "error",
          "ename": "SyntaxError",
          "evalue": "ignored",
          "traceback": [
            "\u001b[0;36m  File \u001b[0;32m\"<ipython-input-27-358c7789298b>\"\u001b[0;36m, line \u001b[0;32m8\u001b[0m\n\u001b[0;31m    while actualYear < (bornYear := int(input('Digit the bornYear: '))):\u001b[0m\n\u001b[0m                                 ^\u001b[0m\n\u001b[0;31mSyntaxError\u001b[0m\u001b[0;31m:\u001b[0m invalid syntax\n"
          ]
        }
      ]
    },
    {
      "cell_type": "code",
      "source": [
        "!python --version"
      ],
      "metadata": {
        "colab": {
          "base_uri": "https://localhost:8080/"
        },
        "id": "7gNjFSY31E7p",
        "outputId": "93dc1219-8da8-461c-874b-efc6e43739f6"
      },
      "execution_count": 26,
      "outputs": [
        {
          "output_type": "stream",
          "name": "stdout",
          "text": [
            "Python 3.9.13\n"
          ]
        }
      ]
    },
    {
      "cell_type": "code",
      "source": [
        "# Answered by Gustavo Guanabará\n",
        "\n",
        "from datetime import date\n",
        "atual = date.today().year\n",
        "totmaior = 0\n",
        "totmenor = 0\n",
        "for pess in range(1,8):\n",
        "  nasc = int(input('Em que ano a {}ª pessoa nasceu? '.format(pess)))\n",
        "  idade = atual - nasc\n",
        "  if idade >= 21:\n",
        "    #print('Essa pessoa é maior')\n",
        "    totmaior += 1\n",
        "  else:\n",
        "    #print('Essa pessoa é menor')\n",
        "    totmenor += 1\n",
        "print('Ao todo tivemos {} pessoas maiores de idade'.format(totmaior))\n",
        "print('Ao todo tivemos {} pessoas menores de idade'.format(totmenor))"
      ],
      "metadata": {
        "colab": {
          "base_uri": "https://localhost:8080/"
        },
        "id": "JCtSl2IGlRJw",
        "outputId": "0d58236f-24b5-4afd-a73f-bbe48eb8209f"
      },
      "execution_count": 9,
      "outputs": [
        {
          "output_type": "stream",
          "name": "stdout",
          "text": [
            "Em que ano a 1ª pessoa nasceu? 3\n",
            "Em que ano a 2ª pessoa nasceu? 5\n",
            "Em que ano a 3ª pessoa nasceu? 6\n",
            "Em que ano a 4ª pessoa nasceu? 7\n",
            "Em que ano a 5ª pessoa nasceu? 6\n",
            "Em que ano a 6ª pessoa nasceu? 5674\n",
            "Em que ano a 7ª pessoa nasceu? 4365\n",
            "Ao todo tivemos 5 pessoas maiores de idade\n",
            "Ao todo tivemos 2 pessoas menores de idade\n"
          ]
        }
      ]
    },
    {
      "cell_type": "markdown",
      "source": [
        "# Desafio 055\n",
        "\n",
        "Faça um programa que leia o **peso** de **cinco pessoas**. No final, mostre qual foi o **maior** e o **menor** peso lidos."
      ],
      "metadata": {
        "id": "RXLddgMs0icK"
      }
    },
    {
      "cell_type": "code",
      "source": [
        "weight = {}\n",
        "min = 1000\n",
        "max = 0 \n",
        "for c in range(0, 5): \n",
        "  weight[c] = int(input('Digit the person weight: '))\n",
        "  if weight[c] < min:\n",
        "    min = weight[c]\n",
        "  if max < weight[c]: # nada a ver , mas se todos iguais não atualiza ...\n",
        "    max = weight[c]\n",
        "print('Os pesos máx. = {} e min. = {}'.format(max, min))"
      ],
      "metadata": {
        "colab": {
          "base_uri": "https://localhost:8080/"
        },
        "id": "ViDzGtMO0wmP",
        "outputId": "83fefa6e-24e1-46bb-89ea-462f33520958"
      },
      "execution_count": 29,
      "outputs": [
        {
          "output_type": "stream",
          "name": "stdout",
          "text": [
            "Digit the person weight: 120\n",
            "Digit the person weight: 56\n",
            "Digit the person weight: 78\n",
            "Digit the person weight: 75\n",
            "Digit the person weight: 90\n",
            "Os pesos máx. = 56 e min. = 120\n"
          ]
        }
      ]
    },
    {
      "cell_type": "code",
      "source": [
        "import numpy as np"
      ],
      "metadata": {
        "id": "75F41gLvSBHb"
      },
      "execution_count": 35,
      "outputs": []
    },
    {
      "cell_type": "code",
      "source": [
        "list1 = [67, 53, 88, 39, 102]\n",
        "# weight = {67, 53, 88, 39, 102}\n",
        "weight = np.array(list1)\n",
        "min = max = weight[0]\n",
        "for c in range(0, len(weight)):\n",
        "  if min > weight[c]:\n",
        "    min = weight[c]\n",
        "  elif weight[c] > max:\n",
        "    max = weight[c]\n",
        "print('The weights maximum is {} and the minimum is {}'.format(max, min)) \n"
      ],
      "metadata": {
        "colab": {
          "base_uri": "https://localhost:8080/"
        },
        "id": "Rrk4Op6F10wv",
        "outputId": "4191ca85-455b-47f0-e616-4a5f59da6889"
      },
      "execution_count": 43,
      "outputs": [
        {
          "output_type": "stream",
          "name": "stdout",
          "text": [
            "The weights maximum is 102 and minimum is 39\n"
          ]
        }
      ]
    },
    {
      "cell_type": "code",
      "source": [
        "weight[0]"
      ],
      "metadata": {
        "colab": {
          "base_uri": "https://localhost:8080/"
        },
        "id": "R5givMjVQyXX",
        "outputId": "d2de2561-5a00-49c9-807a-1c600de5804c"
      },
      "execution_count": 44,
      "outputs": [
        {
          "output_type": "execute_result",
          "data": {
            "text/plain": [
              "67"
            ]
          },
          "metadata": {},
          "execution_count": 44
        }
      ]
    },
    {
      "cell_type": "code",
      "source": [
        "# Solution by Gustavo Guanabara\n",
        "\n",
        "# Análise de dados, área de guarde importância no momentoi (totaliza, outra count .. ou diz o maior e menor [extremos] de uma lista)\n",
        "maior = 0\n",
        "menor = 0\n",
        "for p in range(1,6):\n",
        "  peso = float(input('Peso da {}ª pessoa: '.format(p)))\n",
        "  if p == 1:\n",
        "    maior = peso\n",
        "    menor = peso\n",
        "  else:\n",
        "    if peso > maior:\n",
        "      maior = peso\n",
        "    if peso < menor:\n",
        "      menor = peso\n",
        "print('O maior peso lido foi de {}Kg'.format(maior))\n",
        "print('O menor peso lido foi de {}Kg'.format(menor))"
      ],
      "metadata": {
        "colab": {
          "base_uri": "https://localhost:8080/"
        },
        "id": "SXP2ZSYTqMcG",
        "outputId": "89b833fa-e13d-4f62-b70a-47e8a5e58b1e"
      },
      "execution_count": 12,
      "outputs": [
        {
          "output_type": "stream",
          "name": "stdout",
          "text": [
            "Peso da 1ª pessoa: 45\n",
            "Peso da 2ª pessoa: 75\n",
            "Peso da 3ª pessoa: 98\n",
            "Peso da 4ª pessoa: 34\n",
            "Peso da 5ª pessoa: 86\n",
            "O maior peso lido foi de 98.0Kg\n",
            "O menor peso lido foi de 34.0Kg\n"
          ]
        }
      ]
    },
    {
      "cell_type": "code",
      "source": [
        "p"
      ],
      "metadata": {
        "colab": {
          "base_uri": "https://localhost:8080/"
        },
        "id": "MeWHe2DUsF_V",
        "outputId": "6869373b-2f15-4b58-e76f-0c07e6c7b0e4"
      },
      "execution_count": 11,
      "outputs": [
        {
          "output_type": "execute_result",
          "data": {
            "text/plain": [
              "5"
            ]
          },
          "metadata": {},
          "execution_count": 11
        }
      ]
    },
    {
      "cell_type": "markdown",
      "source": [
        "# Desafio 056\n",
        "\n",
        "Desenvolva um programa que leia o **nome**, **idade** e **sexo** de **4 pessoas**. No final do programa, mostre:\n",
        "\n",
        "\n",
        "\n",
        "*   A **média de idade** do grupo.\n",
        "*   Qual é o nome do homem **mais velho**.\n",
        "*   Quantas mulheres têm **menos de 20 anos**.\n",
        "\n"
      ],
      "metadata": {
        "id": "Ce1Mh8q2S75_"
      }
    },
    {
      "cell_type": "code",
      "source": [
        "# names = {}\n",
        "# ages = {}\n",
        "# #sex = []\n",
        "# sex = {}\n",
        "# maXman = sum = count = max = 0\n",
        "# maXmanI = -1 # saber o nome do homem mais velho..., implica saber o index do man\n",
        "# S = 4\n",
        "# for c in range(0, S):\n",
        "#   names[c] = str(input(' Digit person name: '))\n",
        "#   ages[c] = int(input('Digit person age: '))\n",
        "#   sex[c] = str(input('Please, digit your sex: F or M?: ')).strip().upper()[0]\n",
        "#   sum += ages[c]\n",
        "#   if sex == 'F' and ages[c]<20:  # sex.upper().strip() == 'F' and ages[c]<20:\n",
        "#   #if sex.strip() == 'F' and ages[c]<20:\n",
        "#     count += 1\n",
        "#   if sex == 'M': # .upper()\n",
        "#     print(ages[c])\n",
        "#     if (max<ages[c]):\n",
        "#       max = ages[c]\n",
        "#       maXmanI = c\n",
        "# mean = sum / S\n",
        "# print(c)\n",
        "# print(maXmanI)\n",
        "# print(count)\n",
        "# print('A média de idades é: {}, o homem mais velho é: {} e\\n existem {} mulheres com menos de 20 anos!'.format(mean,names[maXmanI], count))     \n",
        "\n"
      ],
      "metadata": {
        "colab": {
          "base_uri": "https://localhost:8080/",
          "height": 478
        },
        "id": "Rfr4dgQOS67H",
        "outputId": "58f95e6e-11f4-4620-de43-b94c2f7d1981"
      },
      "execution_count": 18,
      "outputs": [
        {
          "output_type": "stream",
          "name": "stdout",
          "text": [
            " Digit person name: p\n",
            "Digit person age: 09\n",
            "Please, digit your sex: F or M?: f\n",
            " Digit person name: c\n",
            "Digit person age: 99\n",
            "Please, digit your sex: F or M?: m\n",
            " Digit person name: cat\n",
            "Digit person age: 17\n",
            "Please, digit your sex: F or M?: f\n",
            " Digit person name: xavi\n",
            "Digit person age: 33\n",
            "Please, digit your sex: F or M?: m\n",
            "3\n",
            "-1\n",
            "0\n"
          ]
        },
        {
          "output_type": "error",
          "ename": "KeyError",
          "evalue": "ignored",
          "traceback": [
            "\u001b[0;31m---------------------------------------------------------------------------\u001b[0m",
            "\u001b[0;31mKeyError\u001b[0m                                  Traceback (most recent call last)",
            "\u001b[0;32m<ipython-input-18-d636838bf6d4>\u001b[0m in \u001b[0;36m<module>\u001b[0;34m()\u001b[0m\n\u001b[1;32m     23\u001b[0m \u001b[0mprint\u001b[0m\u001b[0;34m(\u001b[0m\u001b[0mmaXmanI\u001b[0m\u001b[0;34m)\u001b[0m\u001b[0;34m\u001b[0m\u001b[0;34m\u001b[0m\u001b[0m\n\u001b[1;32m     24\u001b[0m \u001b[0mprint\u001b[0m\u001b[0;34m(\u001b[0m\u001b[0mcount\u001b[0m\u001b[0;34m)\u001b[0m\u001b[0;34m\u001b[0m\u001b[0;34m\u001b[0m\u001b[0m\n\u001b[0;32m---> 25\u001b[0;31m \u001b[0mprint\u001b[0m\u001b[0;34m(\u001b[0m\u001b[0;34m'A média de idades é: {}, o homem mais velho é: {} e\\n existem {} mulheres com menos de 20 anos!'\u001b[0m\u001b[0;34m.\u001b[0m\u001b[0mformat\u001b[0m\u001b[0;34m(\u001b[0m\u001b[0mmean\u001b[0m\u001b[0;34m,\u001b[0m\u001b[0mnames\u001b[0m\u001b[0;34m[\u001b[0m\u001b[0mmaXmanI\u001b[0m\u001b[0;34m]\u001b[0m\u001b[0;34m,\u001b[0m \u001b[0mcount\u001b[0m\u001b[0;34m)\u001b[0m\u001b[0;34m)\u001b[0m\u001b[0;34m\u001b[0m\u001b[0;34m\u001b[0m\u001b[0m\n\u001b[0m\u001b[1;32m     26\u001b[0m \u001b[0;34m\u001b[0m\u001b[0m\n",
            "\u001b[0;31mKeyError\u001b[0m: -1"
          ]
        }
      ]
    },
    {
      "cell_type": "code",
      "source": [
        "type(sex)"
      ],
      "metadata": {
        "colab": {
          "base_uri": "https://localhost:8080/"
        },
        "id": "2V6CbE05jjKH",
        "outputId": "c62c7c59-0b93-4d75-d8f9-5ca038d6f47d"
      },
      "execution_count": 47,
      "outputs": [
        {
          "output_type": "execute_result",
          "data": {
            "text/plain": [
              "dict"
            ]
          },
          "metadata": {},
          "execution_count": 47
        }
      ]
    },
    {
      "cell_type": "code",
      "source": [
        "# Answer by Gustavo Guanabara\n",
        "somaidade = 0\n",
        "meidaidade = 0\n",
        "maioridadehomem = totmulher20 = 0\n",
        "nomevelho = ''\n",
        "for p in range(1, 5):\n",
        "  print('------ {}ª PESSOA ------'.format(p))\n",
        "  nome = str(input('Nome: ')).strip()\n",
        "  idade = int(input('Idade: '))\n",
        "  sexo = str(input('Sexo [M/F]: ')).strip()\n",
        "  somaidade += idade\n",
        "  if p == 1 and sexo in 'Mm':\n",
        "    maioridadehomem = idade\n",
        "    nomevelho = nome \n",
        "  if sexo in 'Mm' and idade > maioridadehomem:\n",
        "    maioridadehomem = idade\n",
        "    nomevelho = nome\n",
        "  if sexo in 'Ff' and idade < 20: #interessante, cadeia de string para definir.., evita a utilização de upper etc\n",
        "    totmulher20 += 1\n",
        "mediaidade = somaidade / 4\n",
        "print('A média de idade do grupo é de {}.'.format(mediaidade))\n",
        "print('O homem mais velho tem {} anos e se chama {}.'.format(maioridadehomem, nomevelho))\n",
        "print('Ao todo são {} mulheres com menos de 20 anos'.format(totmulher20))"
      ],
      "metadata": {
        "colab": {
          "base_uri": "https://localhost:8080/"
        },
        "id": "qGT0SAd2CA-z",
        "outputId": "54a56f06-0a94-409c-b195-c84aa7c0ce81"
      },
      "execution_count": 30,
      "outputs": [
        {
          "output_type": "stream",
          "name": "stdout",
          "text": [
            "------ 1ª PESSOA ------\n",
            "Nome: Ju\n",
            "Idade: 12\n",
            "Sexo [M/F]: F\n",
            "------ 2ª PESSOA ------\n",
            "Nome: Gasd\n",
            "Idade: 30\n",
            "Sexo [M/F]: M\n",
            "------ 3ª PESSOA ------\n",
            "Nome: ffg\n",
            "Idade: 19\n",
            "Sexo [M/F]: F\n",
            "------ 4ª PESSOA ------\n",
            "Nome: hugo\n",
            "Idade: 21\n",
            "Sexo [M/F]: F\n",
            "A média de idade do grupo é de 20.5.\n",
            "O homem mais velho tem 30 abnos e se chama Gasd.\n",
            "Ao todo são 2 mulheres com menos de 20 anos\n"
          ]
        }
      ]
    },
    {
      "cell_type": "code",
      "source": [
        "# For : estrutura de repetição com variável de controlo <- qdo tem limite\n",
        "# While : estrutura de repetição (não existe um padrão, está muito irregular!)\n",
        "# não existem mais rápido entre os dois"
      ],
      "metadata": {
        "id": "RyHR3uUAfI-U"
      },
      "execution_count": null,
      "outputs": []
    },
    {
      "cell_type": "code",
      "source": [
        "# Aula 14\n",
        "\n",
        "for c in range(1,10): # Quando não sei o limite não dá para usar o FOR\n",
        "  print(c)\n",
        "print('Fim')\n",
        "\n"
      ],
      "metadata": {
        "colab": {
          "base_uri": "https://localhost:8080/"
        },
        "id": "mvJr9_OUhgjJ",
        "outputId": "3d785aa6-ccfe-4ee2-970b-a289086db454"
      },
      "execution_count": 1,
      "outputs": [
        {
          "output_type": "stream",
          "name": "stdout",
          "text": [
            "1\n",
            "2\n",
            "3\n",
            "4\n",
            "5\n",
            "6\n",
            "7\n",
            "8\n",
            "9\n",
            "Fim\n"
          ]
        }
      ]
    },
    {
      "cell_type": "code",
      "source": [
        "c = 1\n",
        "while c < 10: \n",
        "  print(c)\n",
        "  c = c + 1\n",
        "print('Fim')"
      ],
      "metadata": {
        "colab": {
          "base_uri": "https://localhost:8080/"
        },
        "id": "3zLGTECxhs3d",
        "outputId": "47a589b5-868f-4811-f049-afb852dca3ad"
      },
      "execution_count": 2,
      "outputs": [
        {
          "output_type": "stream",
          "name": "stdout",
          "text": [
            "1\n",
            "2\n",
            "3\n",
            "4\n",
            "5\n",
            "6\n",
            "7\n",
            "8\n",
            "9\n",
            "Fim\n"
          ]
        }
      ]
    },
    {
      "cell_type": "markdown",
      "source": [
        ""
      ],
      "metadata": {
        "id": "e93LARMriCfU"
      }
    },
    {
      "cell_type": "code",
      "source": [
        "n = 1\n",
        "while n != 0:  # FLAG ou condição de parada\n",
        "  n = int(input('Digite um valor: '))\n",
        "print('Fim')"
      ],
      "metadata": {
        "colab": {
          "base_uri": "https://localhost:8080/"
        },
        "id": "ZcGqy9g6iHqq",
        "outputId": "b5f0fc77-e9e4-4615-eb66-6bdf93c914e9"
      },
      "execution_count": 3,
      "outputs": [
        {
          "output_type": "stream",
          "name": "stdout",
          "text": [
            "Digite um valor: 5\n",
            "Digite um valor: 8\n",
            "Digite um valor: 0\n",
            "Fim\n"
          ]
        }
      ]
    },
    {
      "cell_type": "code",
      "source": [
        "r = 'S'\n",
        "while r == 'S': # faz laços indetermininadamente\n",
        "  n = int(input('Digite um valor: '))\n",
        "  r = str(input('Quer continuar? [S/N] ')).upper()  \n",
        "print('Fim')"
      ],
      "metadata": {
        "colab": {
          "base_uri": "https://localhost:8080/"
        },
        "id": "iURBEDxQibOF",
        "outputId": "0b91f6b1-0616-49d4-b8ad-06a841302f64"
      },
      "execution_count": 4,
      "outputs": [
        {
          "output_type": "stream",
          "name": "stdout",
          "text": [
            "Digite um valor: 45\n",
            "Quer continuar? [S/N] S\n",
            "Digite um valor: 323\n",
            "Quer continuar? [S/N] 7\n",
            "Fim\n"
          ]
        }
      ]
    },
    {
      "cell_type": "code",
      "source": [
        "n = 1\n",
        "par = impar = 0\n",
        "while n != 0:\n",
        "  n = int(input('Digite um valor: '))\n",
        "  if n != 0: # gambiarra\n",
        "    if n % 2 == 0:\n",
        "      par += 1 \n",
        "    else:\n",
        "      impar += 1\n",
        "print('Voçê digitou {} números pares e {} números ímpares!'.format(par, impar))"
      ],
      "metadata": {
        "id": "OqIe9cNCjJQm"
      },
      "execution_count": null,
      "outputs": []
    },
    {
      "cell_type": "markdown",
      "source": [
        "# Desafio 57\n",
        "\n",
        "Faça um programa que leia o **sexo** de uma pessoa, mas só aceite os valores 'M' ou 'F'. \n",
        "Caso esteja errado, peça a digitação novamente até ter um valor correto."
      ],
      "metadata": {
        "id": "3qRQRh0whctz"
      }
    },
    {
      "cell_type": "code",
      "source": [
        "gender = str(input('Say your sex: '))  \n",
        "while gender not in 'Ff' and gender not in 'mM':\n",
        "  gender = str(input('Say your sex: '))  \n",
        "print('Sex {} registered with sucess.'.format(gender))"
      ],
      "metadata": {
        "colab": {
          "base_uri": "https://localhost:8080/"
        },
        "id": "V1391Oq9hcTb",
        "outputId": "fc5a78a9-14bc-42ff-a0b0-d649493b6a75"
      },
      "execution_count": 13,
      "outputs": [
        {
          "output_type": "stream",
          "name": "stdout",
          "text": [
            "Say your sex: h\n",
            "Say your sex: d\n",
            "Say your sex: f\n",
            "Sex f registered with sucess.\n"
          ]
        }
      ]
    },
    {
      "cell_type": "code",
      "source": [
        "# answer by Gustavo Guanabará\n",
        "sexo = str(input('Informe seu sexo: [M/F] ')).strip().upper()[0] # nenhuma validação até então\n",
        "#idae = int(input('Informe sua idade: '))\n",
        "while( sexo not in 'MF'): #'MmFf'):\n",
        "  sexo = str(input('Dados inválidos. Por favor, informe seu sexo: ')).strip().upper()[0]\n",
        "print('Sexo {} registado com sucesso'.format({sexo}))"
      ],
      "metadata": {
        "colab": {
          "base_uri": "https://localhost:8080/"
        },
        "id": "bQqu4RwC6MMp",
        "outputId": "fbac47c3-07d1-4852-93f9-70dd73cbccf3"
      },
      "execution_count": 23,
      "outputs": [
        {
          "output_type": "stream",
          "name": "stdout",
          "text": [
            "Informe seu sexo: [M/F] f\n",
            "Sexo {'F'} registado com sucesso\n"
          ]
        }
      ]
    },
    {
      "cell_type": "markdown",
      "source": [
        "**Desafio 58**\n",
        "\n",
        "Melhore o jogo do **Desafio 028** onde o computador vai \"pensar\" em um **número entre 0 e 10**. Só que agora o jogador vai tentar adivinhar até acertar, mostrando no final quantos palpites foram necessários para vencer."
      ],
      "metadata": {
        "id": "mqH6J29hmbVn"
      }
    },
    {
      "cell_type": "code",
      "source": [
        "import random\n",
        "count = 1\n",
        "num = random.randint(0, 11)\n",
        "unum = int(input('Digite um número entre 0 e 10: '))\n",
        "while num != unum :\n",
        "  unum = int(input('Digite um número entre 0 e 10: '))\n",
        "  count += 1\n",
        "print('The player guess the num in {} tries'.format(count))"
      ],
      "metadata": {
        "colab": {
          "base_uri": "https://localhost:8080/"
        },
        "id": "t8q_ICLKmaq2",
        "outputId": "15949ed3-7a35-4b3a-81b2-019bcca3f179"
      },
      "execution_count": 7,
      "outputs": [
        {
          "output_type": "stream",
          "name": "stdout",
          "text": [
            "Digite um número entre 0 e 10: 6\n",
            "Digite um número entre 0 e 10: 9\n",
            "Digite um número entre 0 e 10: 1\n",
            "Digite um número entre 0 e 10: 0\n",
            "Digite um número entre 0 e 10: 3\n",
            "Digite um número entre 0 e 10: 2\n",
            "The player guess the num in 6 tries\n"
          ]
        }
      ]
    },
    {
      "cell_type": "code",
      "source": [
        "# Answer by Gustavo Guanabará\n",
        "from random import randint\n",
        "computador = randint(0,10)\n",
        "print('Sou seu computador... Acabei de pensar em um número entre 0 e 10.')\n",
        "print('Será que voçê consegue adivinhar qual foi? ')\n",
        "acertou = False\n",
        "palpites = 0\n",
        "while not acertou:\n",
        "  jogador = int(input('Qual é seu palpite? '))\n",
        "  palpites += 1\n",
        "  if jogador == computador:\n",
        "    acertou = True\n",
        "  else:\n",
        "    if jogador < computador: # input('Qual é seu palpite')\n",
        "      print('Mais... Tente mais uma vez.')\n",
        "    elif jogador > computador:\n",
        "      print('Menos... Tente mais uma vez.')\n",
        "print('Acertou com {} tentativas. Parabéns!'.format(palpites))\n"
      ],
      "metadata": {
        "colab": {
          "base_uri": "https://localhost:8080/"
        },
        "id": "wH19y9C9A8yZ",
        "outputId": "f84bbc73-b2bb-46cb-e0a1-909bb24cd5df"
      },
      "execution_count": 24,
      "outputs": [
        {
          "output_type": "stream",
          "name": "stdout",
          "text": [
            "Sou seu computador... Acabei de pensar em um número entre 0 e 10.\n",
            "Será que voçê consegue adivinhar qual foi? \n",
            "Qual é seu palpite? 321\n",
            "Menos... Tente mais uma vez.\n",
            "Qual é seu palpite? 222\n",
            "Menos... Tente mais uma vez.\n",
            "Qual é seu palpite? 10\n",
            "Menos... Tente mais uma vez.\n",
            "Qual é seu palpite? 9\n",
            "Menos... Tente mais uma vez.\n",
            "Qual é seu palpite? 4\n",
            "Mais... Tente mais uma vez.\n",
            "Qual é seu palpite? 5\n",
            "Acertou com 6 tentativas. Parabéns!\n"
          ]
        }
      ]
    },
    {
      "cell_type": "markdown",
      "source": [
        "# Desafio 059\n",
        "\n",
        "Crie um programa que leia **dois valores** e mostre um **menu** na tela:\n",
        "\n",
        "\n",
        "\n",
        "[1]    Somar\n",
        "\n",
        "[2]    Multiplicar\n",
        "\n",
        "[3]    Maior\n",
        "\n",
        "[4]    Novos números\n",
        "\n",
        "[5]    Sair do programa\n",
        "\n",
        "\n",
        "Seu programa deverá realizar a operação solicitada em cada caso.\n"
      ],
      "metadata": {
        "id": "NeRTs-BAsbaa"
      }
    },
    {
      "cell_type": "code",
      "source": [
        "def readNums():\n",
        "  a = int(input('Digit a number: '))\n",
        "  b = int(input('Digit other number: '))\n",
        "  return a, b"
      ],
      "metadata": {
        "id": "GutAfkPf8g8Q"
      },
      "execution_count": 2,
      "outputs": []
    },
    {
      "cell_type": "code",
      "source": [
        "# def ciclo(option):\n",
        "#     if option == 1:\n",
        "#       print('Sum: {} + {} = {}'.format(num1, num2, num1+num2))\n",
        "#     elif option == 2:\n",
        "#       print('Multiplication: {} * {} = {}'.format(num1, num2, num1*num2))\n",
        "#     elif option == 3:\n",
        "#       print('Greater is {}'.format(max(num1, num2)))\n",
        "#     elif option == 4:\n",
        "#       num1, num2 = readNums()\n",
        "#     elif option == 5:\n",
        "#       print('The End!')\n",
        "#       break"
      ],
      "metadata": {
        "colab": {
          "base_uri": "https://localhost:8080/",
          "height": 130
        },
        "id": "xBbIvd2P9dhG",
        "outputId": "fecc7631-0c2b-4faf-8035-7f8ba078a7d7"
      },
      "execution_count": 18,
      "outputs": [
        {
          "output_type": "error",
          "ename": "SyntaxError",
          "evalue": "ignored",
          "traceback": [
            "\u001b[0;36m  File \u001b[0;32m\"<ipython-input-18-fd243572a9b7>\"\u001b[0;36m, line \u001b[0;32m12\u001b[0m\n\u001b[0;31m    break\u001b[0m\n\u001b[0m    ^\u001b[0m\n\u001b[0;31mSyntaxError\u001b[0m\u001b[0;31m:\u001b[0m 'break' outside loop\n"
          ]
        }
      ]
    },
    {
      "cell_type": "code",
      "source": [
        "num1, num2 = readNums()\n",
        "while True:\n",
        "  print('''\\nWelcome! \n",
        "          \\nChoose a option:\\n\n",
        "            [1] Sum\n",
        "            [2] Multiplication\n",
        "            [3] Greater\n",
        "            [4] New numbers\n",
        "            [5] Exit \\n\\n''')\n",
        "  option = int(input('\\nSay a option: '))\n",
        "            \n",
        "  while option > 6 or option < 0:\n",
        "    option = int(input('Invalid option ...\\nSay a option: '))\n",
        "  print(f'\\n[{option}]')\n",
        "  if option == 1:\n",
        "    print('Sum: {} + {} = {}'.format(num1, num2, num1+num2)) \n",
        "  elif option == 2:\n",
        "    print('Multiplication: {} * {} = {}'.format(num1, num2, num1*num2)) \n",
        "  elif option == 3:\n",
        "    # max(num1, num2))\n",
        "    print('Greater is {}'.format(max(num1, num2))) \n",
        "  elif option == 4: \n",
        "    num1, num2 = readNums() \n",
        "  elif option == 5: \n",
        "    print('\\nThe End!') \n",
        "    break\n",
        "  \n"
      ],
      "metadata": {
        "colab": {
          "base_uri": "https://localhost:8080/"
        },
        "id": "Nh-6kIoy8jBq",
        "outputId": "d0425853-79b4-4a76-ee61-487cddb6dc33"
      },
      "execution_count": 3,
      "outputs": [
        {
          "output_type": "stream",
          "name": "stdout",
          "text": [
            "Digit a number: 5\n",
            "Digit other number: 3\n",
            "\n",
            "Welcome! \n",
            "          \n",
            "Choose a option:\n",
            "\n",
            "            [1] Sum\n",
            "            [2] Multiplication\n",
            "            [3] Greater\n",
            "            [4] New numbers\n",
            "            [5] Exit \n",
            "\n",
            "\n",
            "\n",
            "Say a option: 2\n",
            "\n",
            "[2]\n",
            "Multiplication: 5 * 3 = 15\n",
            "\n",
            "Welcome! \n",
            "          \n",
            "Choose a option:\n",
            "\n",
            "            [1] Sum\n",
            "            [2] Multiplication\n",
            "            [3] Greater\n",
            "            [4] New numbers\n",
            "            [5] Exit \n",
            "\n",
            "\n",
            "\n",
            "Say a option: 4\n",
            "\n",
            "[4]\n",
            "Digit a number: 4\n",
            "Digit other number: 7\n",
            "\n",
            "Welcome! \n",
            "          \n",
            "Choose a option:\n",
            "\n",
            "            [1] Sum\n",
            "            [2] Multiplication\n",
            "            [3] Greater\n",
            "            [4] New numbers\n",
            "            [5] Exit \n",
            "\n",
            "\n",
            "\n",
            "Say a option: 1\n",
            "\n",
            "[1]\n",
            "Sum: 4 + 7 = 11\n",
            "\n",
            "Welcome! \n",
            "          \n",
            "Choose a option:\n",
            "\n",
            "            [1] Sum\n",
            "            [2] Multiplication\n",
            "            [3] Greater\n",
            "            [4] New numbers\n",
            "            [5] Exit \n",
            "\n",
            "\n",
            "\n",
            "Say a option: 3\n",
            "\n",
            "[3]\n",
            "Greater is 7\n",
            "\n",
            "Welcome! \n",
            "          \n",
            "Choose a option:\n",
            "\n",
            "            [1] Sum\n",
            "            [2] Multiplication\n",
            "            [3] Greater\n",
            "            [4] New numbers\n",
            "            [5] Exit \n",
            "\n",
            "\n",
            "\n",
            "Say a option: 5\n",
            "\n",
            "[5]\n",
            "\n",
            "The End!\n"
          ]
        }
      ]
    },
    {
      "cell_type": "code",
      "source": [
        "del max"
      ],
      "metadata": {
        "id": "vNrk_PeDTTPP"
      },
      "execution_count": 43,
      "outputs": []
    },
    {
      "cell_type": "code",
      "source": [
        "import math"
      ],
      "metadata": {
        "id": "UUEfkDb0R8ON"
      },
      "execution_count": 39,
      "outputs": []
    },
    {
      "cell_type": "code",
      "source": [
        "nums = [8,5,3,1,6]\n",
        "big = max(nums);\n",
        "print(big)"
      ],
      "metadata": {
        "colab": {
          "base_uri": "https://localhost:8080/"
        },
        "id": "ck3mXIsURdbS",
        "outputId": "baac1d7e-73e2-4e3f-be87-e66f5122011b"
      },
      "execution_count": 44,
      "outputs": [
        {
          "output_type": "stream",
          "name": "stdout",
          "text": [
            "8\n"
          ]
        }
      ]
    },
    {
      "cell_type": "code",
      "source": [
        "# num1, num2 = readNums()\n",
        "# # option = 1\n",
        "# # while (option > 0):\n",
        "# #   option = int(input('Say a option: '))\n",
        "# option = 4\n",
        "# while (option > 5): # necesaário se quiser garantir que quando vai fora do scope de 1 a cinco.., faz repetir a opção\n",
        "#   option = int(input('Say a option: '))\n",
        "#   if option > 0 and option < 6: # ao invés do while\n",
        "#     option = int(input('Say a option: '))\n",
        "#     if option == 1:\n",
        "#       print('Sum: {} + {} = {}'.format(num1, num2, num1+num2))\n",
        "#     elif option == 2:\n",
        "#       print('Multiplication: {} * {} = {}'.format(num1, num2, num1*num2))\n",
        "#     elif option == 3:\n",
        "#       print('Greater is {}'.format(max(num1, num2)))\n",
        "#     elif option == 4:\n",
        "#       num1, num2 = readNums()\n",
        "#     elif option == 5:\n",
        "#       print('The End!')\n",
        "#       break\n",
        "#     # else:\n",
        "#     #   print('The End!')\n",
        "#     #   break"
      ],
      "metadata": {
        "colab": {
          "base_uri": "https://localhost:8080/"
        },
        "id": "i_iAYgr3mRUz",
        "outputId": "82e7def3-c05f-4914-9460-8c67e42eb4e3"
      },
      "execution_count": 17,
      "outputs": [
        {
          "name": "stdout",
          "output_type": "stream",
          "text": [
            "Digit a number: 56\n",
            "Digit other number: 12\n",
            "Say a option: 2\n",
            "Multiplication: 56 * 12 = 672\n",
            "Say a option: 1\n",
            "Sum: 56 + 12 = 68\n",
            "Say a option: 3\n",
            "Greater is 56\n",
            "Say a option: 4\n",
            "Digit a number: 43\n",
            "Digit other number: 78\n",
            "Say a option: 1\n",
            "Sum: 43 + 78 = 121\n",
            "Say a option: 7\n"
          ]
        }
      ]
    },
    {
      "cell_type": "code",
      "source": [
        "# Answer by Gustavo Guanabará\n",
        "\n",
        "n1 = int(input('Primeiro valor: '))\n",
        "n2 = int(input('Segundo valor: '))\n",
        "opção = 0\n",
        "while opção != 5:\n",
        "  print('''  [ 1 ] somar\n",
        "  [ 2 ] multiplicar\n",
        "  [ 3 ] maior\n",
        "  [ 4 ] novos números\n",
        "  [ 5 ] sair do programa''')\n",
        "  opção = int(input('>>>>> Qual é a sua opção? '))\n",
        "  if opção == 1:\n",
        "    soma = n1 + n2\n",
        "    print('A soma entre {} + {} é {}'.format(n1, n2, soma))\n",
        "  elif opção == 2:\n",
        "    produto = n1 * n2\n",
        "    print('O resultado de {} * {} é {}'.format(n1, n2, produto))\n",
        "  elif opção == 3:\n",
        "    if n1 > n2:\n",
        "      maior = n1\n",
        "    else:\n",
        "      maior = n2\n",
        "    print('Entre {} e {} o maior valor é {}'.format(n1, n2, maior))\n",
        "  elif opção == 4:\n",
        "    print('Informe os números novamente: ')\n",
        "    n1 = int(input('Primeiro valor: '))\n",
        "    n2 = int(input('Segundo valor: '))\n",
        "  elif opção == 5:\n",
        "    print('Finalizando...')\n",
        "  else: \n",
        "    print('Opção inválida. Tente novamente')\n",
        "  print('=-=' * 10)\n",
        "print('Fim do programa! Volte sempre!')"
      ],
      "metadata": {
        "colab": {
          "base_uri": "https://localhost:8080/"
        },
        "id": "lrEEzai1W8Ri",
        "outputId": "e2b1ca6e-2c0e-4f94-d52c-e57b8fcf852b"
      },
      "execution_count": 48,
      "outputs": [
        {
          "output_type": "stream",
          "name": "stdout",
          "text": [
            "Primeiro valor: 2\n",
            "Segundo valor: 5\n",
            "   [ 1 ] somar\n",
            "  [ 2 ] multiplicar\n",
            "  [ 3 ] maior\n",
            "  [ 4 ] novos números\n",
            "  [ 5 ] sair do programa\n",
            ">>>>> Qual é a sua opção? 1\n",
            "A soma entre 2 + 5 é 7\n",
            "=-==-==-==-==-==-==-==-==-==-=\n",
            "   [ 1 ] somar\n",
            "  [ 2 ] multiplicar\n",
            "  [ 3 ] maior\n",
            "  [ 4 ] novos números\n",
            "  [ 5 ] sair do programa\n",
            ">>>>> Qual é a sua opção? 2\n",
            "O resultado de 2 * 5 é 10\n",
            "=-==-==-==-==-==-==-==-==-==-=\n",
            "   [ 1 ] somar\n",
            "  [ 2 ] multiplicar\n",
            "  [ 3 ] maior\n",
            "  [ 4 ] novos números\n",
            "  [ 5 ] sair do programa\n",
            ">>>>> Qual é a sua opção? 3\n",
            "Entre 2 e 5 o maior valor é 5\n",
            "=-==-==-==-==-==-==-==-==-==-=\n",
            "   [ 1 ] somar\n",
            "  [ 2 ] multiplicar\n",
            "  [ 3 ] maior\n",
            "  [ 4 ] novos números\n",
            "  [ 5 ] sair do programa\n",
            ">>>>> Qual é a sua opção? 4\n",
            "Informe os números novamente: \n",
            "Primeiro valor: 6\n",
            "Segundo valor: 1\n",
            "=-==-==-==-==-==-==-==-==-==-=\n",
            "   [ 1 ] somar\n",
            "  [ 2 ] multiplicar\n",
            "  [ 3 ] maior\n",
            "  [ 4 ] novos números\n",
            "  [ 5 ] sair do programa\n",
            ">>>>> Qual é a sua opção? 1\n",
            "A soma entre 6 + 1 é 7\n",
            "=-==-==-==-==-==-==-==-==-==-=\n",
            "   [ 1 ] somar\n",
            "  [ 2 ] multiplicar\n",
            "  [ 3 ] maior\n",
            "  [ 4 ] novos números\n",
            "  [ 5 ] sair do programa\n",
            ">>>>> Qual é a sua opção? 5\n",
            "FInalizando...\n",
            "=-==-==-==-==-==-==-==-==-==-=\n",
            "Fim do programa! Volte sempre!\n"
          ]
        }
      ]
    },
    {
      "cell_type": "markdown",
      "source": [
        "# Desafio 60\n",
        "\n",
        "Faça um programa que leia um **número** qualquer e mostre o seu **fatorial**.\n",
        "\n",
        "Ex:\n",
        "5! = 5 * 4 * 3 * 2 * 1 = 120 \n",
        "\n",
        "\n",
        "\n"
      ],
      "metadata": {
        "id": "3ZFQm1m9HrsK"
      }
    },
    {
      "cell_type": "code",
      "source": [
        "def fatorial(n):\n",
        "  if n == 1:\n",
        "    print('{} \\n='.format(n))\n",
        "    return 1\n",
        "  else:\n",
        "    print('{} \\n*'.format(n , end = ' '))\n",
        "    return (n * fatorial(n-1))"
      ],
      "metadata": {
        "id": "m2rmP93lIfSt"
      },
      "execution_count": 59,
      "outputs": []
    },
    {
      "cell_type": "code",
      "source": [
        "fat = int(input('Say fatorial number that you wish: '))\n",
        "print('{} = {}!'.format(fatorial(fat), fat))"
      ],
      "metadata": {
        "colab": {
          "base_uri": "https://localhost:8080/"
        },
        "id": "Od9OgzgnILMl",
        "outputId": "169a9b07-a3d8-4cf3-e11b-8985719114cb"
      },
      "execution_count": 77,
      "outputs": [
        {
          "output_type": "stream",
          "name": "stdout",
          "text": [
            "Say fatorial number that you wish: 10\n",
            "10 \n",
            "*\n",
            "9 \n",
            "*\n",
            "8 \n",
            "*\n",
            "7 \n",
            "*\n",
            "6 \n",
            "*\n",
            "5 \n",
            "*\n",
            "4 \n",
            "*\n",
            "3 \n",
            "*\n",
            "2 \n",
            "*\n",
            "1 \n",
            "=\n",
            "3628800 = 10!\n"
          ]
        }
      ]
    },
    {
      "cell_type": "code",
      "source": [
        "def fatorial2 (fat): \n",
        "  result = 1 # In multiplication, identity element is 1, division to\n",
        "  while fat > 0:\n",
        "    print('{} \\n*'.format(fat , end = ' '))\n",
        "    result *= fat\n",
        "    fat -= 1\n",
        "  return result\n",
        "\n"
      ],
      "metadata": {
        "id": "3snW8g13IDIZ"
      },
      "execution_count": 78,
      "outputs": []
    },
    {
      "cell_type": "code",
      "source": [
        "print('{} = {}!'.format(fatorial2(fat), fat))"
      ],
      "metadata": {
        "colab": {
          "base_uri": "https://localhost:8080/"
        },
        "id": "jPyG11Q0Pd_l",
        "outputId": "ffc530db-5555-415b-8ed0-eb122e7cb8fd"
      },
      "execution_count": 79,
      "outputs": [
        {
          "output_type": "stream",
          "name": "stdout",
          "text": [
            "10 \n",
            "*\n",
            "9 \n",
            "*\n",
            "8 \n",
            "*\n",
            "7 \n",
            "*\n",
            "6 \n",
            "*\n",
            "5 \n",
            "*\n",
            "4 \n",
            "*\n",
            "3 \n",
            "*\n",
            "2 \n",
            "*\n",
            "1 \n",
            "*\n",
            "3628800 = 10!\n"
          ]
        }
      ]
    },
    {
      "cell_type": "code",
      "source": [
        "def fatorial3 (fat): \n",
        "  result = 1 # In multiplication, identity element is 1, division to\n",
        "  for n in range(1,fat+1):\n",
        "    print('{} \\n*'.format(n , end = ' '))\n",
        "    result *= n\n",
        "  return result"
      ],
      "metadata": {
        "id": "6J6LlM-TQVn-"
      },
      "execution_count": 80,
      "outputs": []
    },
    {
      "cell_type": "code",
      "source": [
        "def fatorial4 (fat): \n",
        "  result = 1 # In multiplication, identity element is 1, division to\n",
        "  for n in range(fat,0, -1):\n",
        "    print('{} \\n*'.format(n , end = ' '))\n",
        "    result *= n\n",
        "  return result"
      ],
      "metadata": {
        "id": "-HIrHRM4Yp-a"
      },
      "execution_count": 81,
      "outputs": []
    },
    {
      "cell_type": "code",
      "source": [
        "print('{} = {}!'.format(fatorial3(fat), fat))"
      ],
      "metadata": {
        "colab": {
          "base_uri": "https://localhost:8080/"
        },
        "id": "aSIPq0jZQuG6",
        "outputId": "2641ba64-4352-41fb-bb9e-0b183c3f8759"
      },
      "execution_count": 82,
      "outputs": [
        {
          "output_type": "stream",
          "name": "stdout",
          "text": [
            "1 \n",
            "*\n",
            "2 \n",
            "*\n",
            "3 \n",
            "*\n",
            "4 \n",
            "*\n",
            "5 \n",
            "*\n",
            "6 \n",
            "*\n",
            "7 \n",
            "*\n",
            "8 \n",
            "*\n",
            "9 \n",
            "*\n",
            "10 \n",
            "*\n",
            "3628800 = 10!\n"
          ]
        }
      ]
    },
    {
      "cell_type": "code",
      "source": [
        "print('{} = {}!'.format(fatorial4(fat), fat))"
      ],
      "metadata": {
        "colab": {
          "base_uri": "https://localhost:8080/"
        },
        "id": "N86aE9iiY8Gu",
        "outputId": "011f993f-04d9-41a3-cf35-98c17829635c"
      },
      "execution_count": 83,
      "outputs": [
        {
          "output_type": "stream",
          "name": "stdout",
          "text": [
            "10 \n",
            "*\n",
            "9 \n",
            "*\n",
            "8 \n",
            "*\n",
            "7 \n",
            "*\n",
            "6 \n",
            "*\n",
            "5 \n",
            "*\n",
            "4 \n",
            "*\n",
            "3 \n",
            "*\n",
            "2 \n",
            "*\n",
            "1 \n",
            "*\n",
            "3628800 = 10!\n"
          ]
        }
      ]
    },
    {
      "cell_type": "code",
      "source": [
        "# Answer by Gustavo Guanabará\n",
        "from math import factorial\n",
        "n = int(input('Digite um número para calcular seu Fatorial: '))\n",
        "f = factorial(n)\n",
        "print('O fatorial de {} é {}.'.format(n, f))\n",
        "\n",
        "\n",
        "# em 4 linhas"
      ],
      "metadata": {
        "colab": {
          "base_uri": "https://localhost:8080/"
        },
        "id": "4RAxtutpaUQk",
        "outputId": "0146389a-2879-449c-95d0-645ced521c92"
      },
      "execution_count": 50,
      "outputs": [
        {
          "output_type": "stream",
          "name": "stdout",
          "text": [
            "Digite um número para calcular seu Fatorial: 5\n",
            "O fatorial de 5 é 120.\n"
          ]
        }
      ]
    },
    {
      "cell_type": "code",
      "source": [
        "from math import factorial\n",
        "n = int(input('Digite um número para calcular seu Fatorial: '))\n",
        "c = n\n",
        "f = 1\n",
        "print('Calculando {}! = '.format(n), end='')\n",
        "while c > 0: # serve para qdo sei e não sei limite, for only quando sei\n",
        "# f = factorial(n)\n",
        "  #print('O fatorial de {} é {}.'.format(n, f))\n",
        "  print('{}'.format(c), end='')\n",
        "  print(' x ' if c > 1 else ' = ', end='')\n",
        "  f *= c\n",
        "  c -= 1\n",
        "print(f) #print('{}'.format(f))\n",
        "# print('O fatorial de {} é {}.'.formal)\n",
        "# em 4 linhas, o GUanabará faz estes exercícios no âmbito de sala de aula!!"
      ],
      "metadata": {
        "colab": {
          "base_uri": "https://localhost:8080/"
        },
        "id": "3p79tZbkbKtI",
        "outputId": "198d6580-2ede-4f28-f748-7969094d909b"
      },
      "execution_count": 56,
      "outputs": [
        {
          "output_type": "stream",
          "name": "stdout",
          "text": [
            "Digite um número para calcular seu Fatorial: 8\n",
            "Calculando 8! = 8 x 7 x 6 x 5 x 4 x 3 x 2 x 1 = 40320\n"
          ]
        }
      ]
    },
    {
      "cell_type": "markdown",
      "source": [
        "# Desafio 061\n",
        "\n",
        "Refaça o **Desafio 051**, lendo o **primeiro termo** e a **razão** de uma **PA**, mostrando os **10 primeiros termos** da progressão usando a estrutura **while**"
      ],
      "metadata": {
        "id": "bVgYZPw5Zfz9"
      }
    },
    {
      "cell_type": "code",
      "source": [
        "pav = basis = float(input(\"Digit first term: \\n\"))\n",
        "\n",
        "ratio = float(input(\"Say ratio that you want: \\n\"))\n",
        "\n",
        "count = 0\n",
        "\n",
        "print('The first 10 term of PA is: \\n')\n",
        "while count < 10:\n",
        "  pav += ratio\n",
        "  count += 1\n",
        "  print('{:.3f}'.format(pav))"
      ],
      "metadata": {
        "colab": {
          "base_uri": "https://localhost:8080/"
        },
        "id": "oWttd2sSZ7rA",
        "outputId": "5a2d3368-336c-459a-9a99-45d39f47f5b9"
      },
      "execution_count": 92,
      "outputs": [
        {
          "output_type": "stream",
          "name": "stdout",
          "text": [
            "Digit first term: \n",
            "1.51\n",
            "Say ration that you want: \n",
            "0.1\n",
            "The first 10 term of PA is: \n",
            "\n",
            "1.610\n",
            "1.710\n",
            "1.810\n",
            "1.910\n",
            "2.010\n",
            "2.110\n",
            "2.210\n",
            "2.310\n",
            "2.410\n",
            "2.510\n"
          ]
        }
      ]
    },
    {
      "cell_type": "code",
      "source": [
        "# Solution of Prof. Gustavo Guanabará\n",
        "\n",
        "print(' Gerador de PA')\n",
        "print('-= * 10')\n",
        "primeiro = int(input('Primeiro termo: '))\n",
        "razão = int(input('Razão da PA: '))\n",
        "termo = primeiro\n",
        "cont = 1\n",
        "while cont <= 10:\n",
        "  print('{} ➙ '.format(termo), end='')\n",
        "  termo += razão\n",
        "  cont+=1\n",
        "print('FIM') # termo/fundamento para calcular o décimo termo, que definia o limite exigido no for ...na aula 51, aqui utilizou lógico, contadores para termo e contador de vezes!"
      ],
      "metadata": {
        "colab": {
          "base_uri": "https://localhost:8080/"
        },
        "id": "gI_dbagodZCn",
        "outputId": "b443ddac-4ff3-4c1c-a3d8-57548fcd6ece"
      },
      "execution_count": 59,
      "outputs": [
        {
          "output_type": "stream",
          "name": "stdout",
          "text": [
            " Gerador de PA\n",
            "-= * 10\n",
            "Primeiro termo: 5\n",
            "Razão da PA: 3\n",
            "5 ➙ 8 ➙ 11 ➙ 14 ➙ 17 ➙ 20 ➙ 23 ➙ 26 ➙ 29 ➙ 32 ➙ FIM\n"
          ]
        }
      ]
    },
    {
      "cell_type": "markdown",
      "source": [
        "#Desafio 062\n",
        "Melhore o **Desafio 061**, perguntando para o usuário se ele equer mostrar mais alguns termos. O programa encerra quando ele disser que quer mostrar **0 termos**."
      ],
      "metadata": {
        "id": "IQufqiWFunEZ"
      }
    },
    {
      "cell_type": "code",
      "source": [
        "def aterms(base, countElem,  ratio):\n",
        "  # end = base + countElem * ratio\n",
        "  while(countElem > 0):\n",
        "    print('{:.3f}'.format(base))\n",
        "    base += ratio\n",
        "    countElem -= 1\n",
        "  return base # end"
      ],
      "metadata": {
        "id": "n7lpySj4v_TQ"
      },
      "execution_count": 10,
      "outputs": []
    },
    {
      "cell_type": "code",
      "source": [
        "basis = float(input(\"Digit first term: \\n\"))\n",
        "\n",
        "ratio = float(input(\"Say ratio that you want: \\n\"))\n",
        "\n",
        "countElem = 10\n",
        "\n",
        "\n",
        "print('The first 10 term of PA is: \\n')\n",
        "while countElem > 0:\n",
        "  basis = aterms(basis, countElem, ratio)\n",
        "  countElem = int(input('How much more you want to see:'))\n",
        "# while count < MACRO:\n",
        "#   pav += ratio\n",
        "#   count += 1\n",
        "#   print('{:.3f}'.format(pav))\n",
        "\n"
      ],
      "metadata": {
        "colab": {
          "base_uri": "https://localhost:8080/"
        },
        "id": "I2TKFeboul2U",
        "outputId": "6f341b9b-8803-446e-a779-31691491de0b"
      },
      "execution_count": 11,
      "outputs": [
        {
          "name": "stdout",
          "output_type": "stream",
          "text": [
            "Digit first term: \n",
            "34\n",
            "Say ratio that you want: \n",
            "2\n",
            "The first 10 term of PA is: \n",
            "\n",
            "34.000\n",
            "36.000\n",
            "38.000\n",
            "40.000\n",
            "42.000\n",
            "44.000\n",
            "46.000\n",
            "48.000\n",
            "50.000\n",
            "52.000\n",
            "How much more you want to see:4\n",
            "54.000\n",
            "56.000\n",
            "58.000\n",
            "60.000\n",
            "How much more you want to see:8\n",
            "62.000\n",
            "64.000\n",
            "66.000\n",
            "68.000\n",
            "70.000\n",
            "72.000\n",
            "74.000\n",
            "76.000\n",
            "How much more you want to see:-1\n"
          ]
        }
      ]
    },
    {
      "cell_type": "code",
      "source": [
        "# def qtd+():\n",
        "#   dif = int(input('How much more you want? '))\n",
        "#   return dif"
      ],
      "metadata": {
        "id": "DVPjuBpX18U5"
      },
      "execution_count": null,
      "outputs": []
    },
    {
      "cell_type": "code",
      "source": [
        "frase = \"10234540234 the\"\n",
        "\n",
        "def get_firstWord(frase):\n",
        "  fraseSplitted = frase.split()\n",
        "  return fraseSplitted[0]\n",
        "\n",
        "get_firstWord(frase)"
      ],
      "metadata": {
        "colab": {
          "base_uri": "https://localhost:8080/",
          "height": 35
        },
        "id": "pmeY3PT75bTZ",
        "outputId": "0b945a56-ea50-471c-b110-224c62f94ab2"
      },
      "execution_count": 5,
      "outputs": [
        {
          "output_type": "execute_result",
          "data": {
            "text/plain": [
              "'the'"
            ],
            "application/vnd.google.colaboratory.intrinsic+json": {
              "type": "string"
            }
          },
          "metadata": {},
          "execution_count": 5
        }
      ]
    },
    {
      "cell_type": "code",
      "source": [
        "# def aterms(base, countElem,  ratio):\n",
        "#   end = base + countElem * ratio\n",
        "#   while(countElem > 0):\n",
        "#     print('{:.3f}'.format(base))\n",
        "#     base += ratio\n",
        "#     countElem -= 1\n",
        "#   return  end"
      ],
      "metadata": {
        "id": "Ccr0GkLF6jY3"
      },
      "execution_count": 8,
      "outputs": []
    },
    {
      "cell_type": "code",
      "source": [
        "# basis = float(input(\"Digit first term: \\n\"))\n",
        "\n",
        "# ratio = float(input(\"Say ratio that you want: \\n\"))\n",
        "\n",
        "# countElem = 10\n",
        "\n",
        "\n",
        "# print('The first 10 term of PA is: \\n')\n",
        "# while countElem > 0:\n",
        "#   basis = aterms(basis, countElem, ratio)\n",
        "#   countElem = int(input('How much more you want to see:'))\n",
        "# # while count < MACRO:\n",
        "# #   pav += ratio\n",
        "# #   count += 1\n",
        "# #   print('{:.3f}'.format(pav))"
      ],
      "metadata": {
        "colab": {
          "base_uri": "https://localhost:8080/"
        },
        "id": "9po_6oM857R2",
        "outputId": "5a0f84d3-02b5-4050-e1f7-c6979b5c48f7"
      },
      "execution_count": 9,
      "outputs": [
        {
          "name": "stdout",
          "output_type": "stream",
          "text": [
            "Digit first term: \n",
            "34\n",
            "Say ratio that you want: \n",
            "2\n",
            "The first 10 term of PA is: \n",
            "\n",
            "34.000\n",
            "36.000\n",
            "38.000\n",
            "40.000\n",
            "42.000\n",
            "44.000\n",
            "46.000\n",
            "48.000\n",
            "50.000\n",
            "52.000\n",
            "How much more you want to see:4\n",
            "54.000\n",
            "56.000\n",
            "58.000\n",
            "60.000\n",
            "How much more you want to see:0\n"
          ]
        }
      ]
    },
    {
      "cell_type": "code",
      "source": [
        "# Solution by Prof. Gustavo Guanabará\n",
        "\n",
        "print(' Gerador de PA')\n",
        "print('-= * 10')\n",
        "primeiro = int(input('Primeiro termo: '))\n",
        "razão = int(input('Razão da PA: '))\n",
        "termo = primeiro\n",
        "cont = 1\n",
        "total = 0\n",
        "mais = 10\n",
        "while mais != 0:\n",
        "  total = total + mais\n",
        "  while cont <= total:\n",
        "    print('{} ➙ '.format(termo), end='')\n",
        "    termo += razão\n",
        "    cont += 1\n",
        "  print('PAUSA')\n",
        "  mais = int(input('Quantos termos voçê quer mostrar a mais? '))\n",
        "print('Progressão finalizada com {} termos mostrados.'.format(total))"
      ],
      "metadata": {
        "colab": {
          "base_uri": "https://localhost:8080/"
        },
        "id": "Yg1YQW8pf-hs",
        "outputId": "019d6d82-70e0-489b-f411-26dd4d1117ac"
      },
      "execution_count": 4,
      "outputs": [
        {
          "output_type": "stream",
          "name": "stdout",
          "text": [
            " Gerador de PA\n",
            "-= * 10\n",
            "Primeiro termo: 4\n",
            "Razão da PA: 3\n",
            "4 ➙ 7 ➙ 10 ➙ 13 ➙ 16 ➙ 19 ➙ 22 ➙ 25 ➙ 28 ➙ 31 ➙ PAUSA\n",
            "Quantos termos voçê quer mostrar a mais? 7\n",
            "34 ➙ 37 ➙ 40 ➙ 43 ➙ 46 ➙ 49 ➙ 52 ➙ PAUSA\n",
            "Quantos termos voçê quer mostrar a mais? 3\n",
            "55 ➙ 58 ➙ 61 ➙ PAUSA\n",
            "Quantos termos voçê quer mostrar a mais? 0\n",
            "Progressão finalizada com 20 termos mostrados.\n"
          ]
        }
      ]
    },
    {
      "cell_type": "markdown",
      "source": [
        "# Desafio 063\n",
        "\n",
        "Escreva um programa que leia um **número n** inteiro qualquer e mostre na tela os **n** primeiros elementos de uma **Sequência de Fibonacci**"
      ],
      "metadata": {
        "id": "XQ0y4H3N8t_f"
      }
    },
    {
      "cell_type": "code",
      "source": [
        "def Fibonacci(n): # Forma recursiva ... mal feita ... see depois de pensar mais um pouco se sobrar.., algum tempo!\n",
        "  b0 = 0\n",
        "  b1 = 1\n",
        "  if Fibonacci(0):\n",
        "    return b0 + b1 # return\n",
        "  elif Fibonacci(1):\n",
        "    return Fibonacci(0) + b1\n",
        "  else:\n",
        "   while (n > 1):\n",
        "    print('{}+'.format(Fibonacci(n)))\n",
        "    return Fibonacci(n-1)+Fibonacci(n-2)\n",
        " \n"
      ],
      "metadata": {
        "id": "zZFiEZaq7gZQ"
      },
      "execution_count": 25,
      "outputs": []
    },
    {
      "cell_type": "code",
      "source": [
        "n = int(input('How many Fibonacci terms you want? '))\n",
        "print(Fibonacci(n))"
      ],
      "metadata": {
        "colab": {
          "base_uri": "https://localhost:8080/",
          "height": 380
        },
        "id": "c8xFzIZ69D1r",
        "outputId": "b1f0a43d-bf09-4460-e05e-6b932e4a1507"
      },
      "execution_count": 26,
      "outputs": [
        {
          "name": "stdout",
          "output_type": "stream",
          "text": [
            "How many Fibonacci terms you want? 2\n"
          ]
        },
        {
          "output_type": "error",
          "ename": "RecursionError",
          "evalue": "ignored",
          "traceback": [
            "\u001b[0;31m---------------------------------------------------------------------------\u001b[0m",
            "\u001b[0;31mRecursionError\u001b[0m                            Traceback (most recent call last)",
            "\u001b[0;32m<ipython-input-26-50236a7c414d>\u001b[0m in \u001b[0;36m<module>\u001b[0;34m()\u001b[0m\n\u001b[1;32m      1\u001b[0m \u001b[0mn\u001b[0m \u001b[0;34m=\u001b[0m \u001b[0mint\u001b[0m\u001b[0;34m(\u001b[0m\u001b[0minput\u001b[0m\u001b[0;34m(\u001b[0m\u001b[0;34m'How many Fibonacci terms you want? '\u001b[0m\u001b[0;34m)\u001b[0m\u001b[0;34m)\u001b[0m\u001b[0;34m\u001b[0m\u001b[0;34m\u001b[0m\u001b[0m\n\u001b[0;32m----> 2\u001b[0;31m \u001b[0mprint\u001b[0m\u001b[0;34m(\u001b[0m\u001b[0mFibonacci\u001b[0m\u001b[0;34m(\u001b[0m\u001b[0mn\u001b[0m\u001b[0;34m)\u001b[0m\u001b[0;34m)\u001b[0m\u001b[0;34m\u001b[0m\u001b[0;34m\u001b[0m\u001b[0m\n\u001b[0m",
            "\u001b[0;32m<ipython-input-25-e34005331989>\u001b[0m in \u001b[0;36mFibonacci\u001b[0;34m(n)\u001b[0m\n\u001b[1;32m      2\u001b[0m   \u001b[0mb0\u001b[0m \u001b[0;34m=\u001b[0m \u001b[0;36m0\u001b[0m\u001b[0;34m\u001b[0m\u001b[0;34m\u001b[0m\u001b[0m\n\u001b[1;32m      3\u001b[0m   \u001b[0mb1\u001b[0m \u001b[0;34m=\u001b[0m \u001b[0;36m1\u001b[0m\u001b[0;34m\u001b[0m\u001b[0;34m\u001b[0m\u001b[0m\n\u001b[0;32m----> 4\u001b[0;31m   \u001b[0;32mif\u001b[0m \u001b[0mFibonacci\u001b[0m\u001b[0;34m(\u001b[0m\u001b[0;36m0\u001b[0m\u001b[0;34m)\u001b[0m\u001b[0;34m:\u001b[0m\u001b[0;34m\u001b[0m\u001b[0;34m\u001b[0m\u001b[0m\n\u001b[0m\u001b[1;32m      5\u001b[0m     \u001b[0;32mreturn\u001b[0m \u001b[0mb0\u001b[0m \u001b[0;34m+\u001b[0m \u001b[0mb1\u001b[0m \u001b[0;31m# return\u001b[0m\u001b[0;34m\u001b[0m\u001b[0;34m\u001b[0m\u001b[0m\n\u001b[1;32m      6\u001b[0m   \u001b[0;32melif\u001b[0m \u001b[0mFibonacci\u001b[0m\u001b[0;34m(\u001b[0m\u001b[0;36m1\u001b[0m\u001b[0;34m)\u001b[0m\u001b[0;34m:\u001b[0m\u001b[0;34m\u001b[0m\u001b[0;34m\u001b[0m\u001b[0m\n",
            "... last 1 frames repeated, from the frame below ...\n",
            "\u001b[0;32m<ipython-input-25-e34005331989>\u001b[0m in \u001b[0;36mFibonacci\u001b[0;34m(n)\u001b[0m\n\u001b[1;32m      2\u001b[0m   \u001b[0mb0\u001b[0m \u001b[0;34m=\u001b[0m \u001b[0;36m0\u001b[0m\u001b[0;34m\u001b[0m\u001b[0;34m\u001b[0m\u001b[0m\n\u001b[1;32m      3\u001b[0m   \u001b[0mb1\u001b[0m \u001b[0;34m=\u001b[0m \u001b[0;36m1\u001b[0m\u001b[0;34m\u001b[0m\u001b[0;34m\u001b[0m\u001b[0m\n\u001b[0;32m----> 4\u001b[0;31m   \u001b[0;32mif\u001b[0m \u001b[0mFibonacci\u001b[0m\u001b[0;34m(\u001b[0m\u001b[0;36m0\u001b[0m\u001b[0;34m)\u001b[0m\u001b[0;34m:\u001b[0m\u001b[0;34m\u001b[0m\u001b[0;34m\u001b[0m\u001b[0m\n\u001b[0m\u001b[1;32m      5\u001b[0m     \u001b[0;32mreturn\u001b[0m \u001b[0mb0\u001b[0m \u001b[0;34m+\u001b[0m \u001b[0mb1\u001b[0m \u001b[0;31m# return\u001b[0m\u001b[0;34m\u001b[0m\u001b[0;34m\u001b[0m\u001b[0m\n\u001b[1;32m      6\u001b[0m   \u001b[0;32melif\u001b[0m \u001b[0mFibonacci\u001b[0m\u001b[0;34m(\u001b[0m\u001b[0;36m1\u001b[0m\u001b[0;34m)\u001b[0m\u001b[0;34m:\u001b[0m\u001b[0;34m\u001b[0m\u001b[0;34m\u001b[0m\u001b[0m\n",
            "\u001b[0;31mRecursionError\u001b[0m: maximum recursion depth exceeded"
          ]
        }
      ]
    },
    {
      "cell_type": "code",
      "source": [
        "# Solution of Gustavo Guanabara\n",
        "\n",
        "# 0 - 1 - 1 - 2 - 3 - 5 - 8 - 13 ..."
      ],
      "metadata": {
        "id": "vLVIcxRnSEJm"
      },
      "execution_count": null,
      "outputs": []
    },
    {
      "cell_type": "code",
      "source": [
        "print('-' * 30)\n",
        "print('Sequência de Fibonacci')\n",
        "print('-'*30)\n",
        "n = int(input('Quantos termos voçê quer mostrar? '))\n",
        "t1 = 0\n",
        "t2 = 1\n",
        "print('~' * 30)\n",
        "print('{} ➙ {}'.format(t1, t2), end='')\n",
        "cont = 3\n",
        "while cont <= n:\n",
        "  t3 = t1 + t2\n",
        "  print(' ➙ {}'.format(t3), end='')\n",
        "  t1 = t2\n",
        "  t2 = t3\n",
        "  cont += 1\n",
        "print(' ➙ FIM')\n"
      ],
      "metadata": {
        "colab": {
          "base_uri": "https://localhost:8080/"
        },
        "id": "7RV1wyyESmjj",
        "outputId": "106afc25-d2f7-4047-e3c3-1f03f17a4eb2"
      },
      "execution_count": 6,
      "outputs": [
        {
          "output_type": "stream",
          "name": "stdout",
          "text": [
            "------------------------------\n",
            "Sequência de Fibonacci\n",
            "------------------------------\n",
            "Quantos termos voçê quer mostrar? 12\n",
            "~~~~~~~~~~~~~~~~~~~~~~~~~~~~~~\n",
            "0 ➙ 1 ➙ 1 ➙ 2 ➙ 3 ➙ 5 ➙ 8 ➙ 13 ➙ 21 ➙ 34 ➙ 55 ➙ 89 ➙ FIM\n"
          ]
        }
      ]
    },
    {
      "cell_type": "markdown",
      "source": [
        "# Desafio 064\n",
        "\n",
        "Crie um programa que leia **vários números inteiros pelo teclado. O programa só vai parar quando o usuário digitar o valor **999**, que é a **condição de parada**. No final, mostre **quantos números** foram digitados e qual foi  a **soma** entre eles *(desconsiderando o flag)*."
      ],
      "metadata": {
        "id": "qo19-2nVGTPn"
      }
    },
    {
      "cell_type": "code",
      "source": [
        "counter = s = 0\n",
        "n = float(input('Digit a number: '))\n",
        "while (n != 999):\n",
        "  counter += 1\n",
        "  s += n\n",
        "  n = float(input('Digit a number: '))\n",
        "print('{} numbers was typescripted.\\n Sum =  {}'.format(counter, s))\n"
      ],
      "metadata": {
        "colab": {
          "base_uri": "https://localhost:8080/"
        },
        "id": "3JRFxnG0GzkB",
        "outputId": "1fd6456c-06cc-4b82-92a9-2ae09d512803"
      },
      "execution_count": 28,
      "outputs": [
        {
          "output_type": "stream",
          "name": "stdout",
          "text": [
            "Digit a number: 34\n",
            "Digit a number: 34\n",
            "Digit a number: 32\n",
            "Digit a number: -9\n",
            "Digit a number: 999\n",
            "4 numbers was typescripted.\n",
            " Sum =  91.0\n"
          ]
        }
      ]
    },
    {
      "cell_type": "code",
      "source": [
        "# Solution by Gustavo Guanabara\n",
        "núm = soma = cont = 0\n",
        "núm = int(input('Digite um número [999 para parar]: '))\n",
        "while núm != 999:\n",
        " # núm = int(input('Digite um número [999 para parar]: '))\n",
        "  cont += 1\n",
        "  soma += núm\n",
        "  núm = int(input('Digite um número [999 para parar]: '))\n",
        "print('Voçê digitou {} números e a soma entre eles foi {}.'.format(cont, soma))#(cont-1, soma-999))#'Acabou')"
      ],
      "metadata": {
        "colab": {
          "base_uri": "https://localhost:8080/"
        },
        "id": "DxVrZKFHUVrl",
        "outputId": "f0627ab5-4b32-4b03-9fce-1036b404e3ae"
      },
      "execution_count": 15,
      "outputs": [
        {
          "output_type": "stream",
          "name": "stdout",
          "text": [
            "Digite um número [999 para parar]: 999\n",
            "Voçê digitou 0 números e a soma entre eles foi 0.\n"
          ]
        }
      ]
    },
    {
      "cell_type": "markdown",
      "source": [
        "# Desafio 065\n",
        "\n",
        "Crie um programa que leia **vários números** inteiros pelo teclado. No final da execução, mostre a **média entre todos** os valores e qual foi **maior** e o **menor** valores lidos. O programa deve perguntar ao usuário se ele quer ou não **continuar** a digitar valores."
      ],
      "metadata": {
        "id": "IecsxtUyH-FH"
      }
    },
    {
      "cell_type": "code",
      "source": [
        "continua = 1 #True\n",
        "avg = sum = count = 0\n",
        "max = min = num = int(input('Digit number: '))\n",
        "while(continua):\n",
        "  count += 1\n",
        "  sum += num\n",
        "  continua = int(input('Do you want read values? \\n[1] Yes \\n[0] NO! \\n[*] yeah! \\n Getting your answer ... :  '))# bool(input('Do you want read values? '))\n",
        "  # if continua in 'fF':\n",
        "  #   continua = False\n",
        "  if (continua == 0):\n",
        "    break\n",
        "  num = int(input('\\n-------------------\\nDigit a number, please! '))\n",
        "  if max < num:\n",
        "    max = num\n",
        "  elif num < min:\n",
        "    min = num\n",
        "avg = sum/count\n",
        "print('\\nThe average is {}.\\nThe max value is {}.\\nThe min value is {}'.format(avg, max, min))\n"
      ],
      "metadata": {
        "colab": {
          "base_uri": "https://localhost:8080/"
        },
        "id": "PnFpOQ1uR6pK",
        "outputId": "fc6c1920-8972-4452-947a-b29677164ced"
      },
      "execution_count": 11,
      "outputs": [
        {
          "output_type": "stream",
          "name": "stdout",
          "text": [
            "Digit number: 32\n",
            "Do you want read values? \n",
            "[1] Yes \n",
            "[0] NO! \n",
            "[*] yeah! \n",
            " Getting your answer ... :  0\n",
            "\n",
            "The average is 32.0.\n",
            "The max value is 32.\n",
            "The min value is 32\n"
          ]
        }
      ]
    },
    {
      "cell_type": "code",
      "source": [
        "# Solution by Gustavo Guanabara\n",
        "\n",
        "resp = 'S'\n",
        "soma = quant = média = maior = menor = 0\n",
        "while resp in 'Ss': # se for outra coisa qq, ele então pará\n",
        "  núm = int(input('Digite um número: '))\n",
        "  soma += núm\n",
        "  quant += 1\n",
        "  if quant == 1:\n",
        "    maior = menor = núm\n",
        "  else:\n",
        "    if núm > maior:\n",
        "      maior = núm\n",
        "    elif núm < menor:\n",
        "      menor=núm\n",
        "  resp = str(input('Quer continuar? [S/N] ')).upper().strip()[0]\n",
        "média = soma / quant\n",
        "print('Voçê digitou {} números e a média foi {}'.format(quant, média))\n",
        "print('O maior valor foi {} e o menor foi {}'.format(maior, menor))"
      ],
      "metadata": {
        "colab": {
          "base_uri": "https://localhost:8080/"
        },
        "id": "ZstgDbvcYJou",
        "outputId": "fe912b5f-aea2-45a2-f2fa-37385382884e"
      },
      "execution_count": 7,
      "outputs": [
        {
          "output_type": "stream",
          "name": "stdout",
          "text": [
            "Digite um número: 78\n",
            "Quer continuar? [S/N] s\n",
            "Digite um número: 89\n",
            "Quer continuar? [S/N] s\n",
            "Digite um número: 12\n",
            "Quer continuar? [S/N] n\n",
            "Voçê digitou 3 números e a média foi 59.666666666666664\n",
            "O maior valor foi 78 e o menor foi 78\n"
          ]
        }
      ]
    },
    {
      "cell_type": "markdown",
      "source": [
        "# Aula 15"
      ],
      "metadata": {
        "id": "ujn4go5swd5T"
      }
    },
    {
      "cell_type": "code",
      "source": [
        "''' laços de repetição:\n",
        "\n",
        "for \n",
        "while \n",
        "\n",
        "comando break ... que sai do ciclo (joga para fora de uma estrutura de repetição)"
      ],
      "metadata": {
        "id": "i4sik61ewcpN"
      },
      "execution_count": null,
      "outputs": []
    },
    {
      "cell_type": "code",
      "source": [
        "# Parte prática\n",
        "\n",
        "cont = 1\n",
        "while cont <= 10: #True: # # Carregar stop or o comando break para terminar o ... programa\n",
        "  print(cont, '->', end='')\n",
        "  cont += 1\n",
        "print('Acabou') "
      ],
      "metadata": {
        "colab": {
          "base_uri": "https://localhost:8080/",
          "height": 984
        },
        "id": "TvW99PlJyl8c",
        "outputId": "0d2be451-86ef-496f-8852-b47ae322d2a5"
      },
      "execution_count": 4,
      "outputs": [
        {
          "output_type": "stream",
          "name": "stdout",
          "text": [
            "1 ->2 ->3 ->4 ->5 ->6 ->7 ->8 ->9 ->10 ->11 ->12 ->13 ->14 ->15 ->16 ->17 ->18 ->19 ->20 ->21 ->22 ->23 ->24 ->25 ->26 ->27 ->28 ->29 ->30 ->31 ->32 ->33 ->34 ->35 ->36 ->37 ->38 ->39 ->40 ->41 ->42 ->43 ->44 ->45 ->46 ->47 ->48 ->49 ->50 ->51 ->52 ->53 ->54 ->55 ->56 ->57 ->58 ->59 ->60 ->61 ->62 ->63 ->64 ->65 ->66 ->67 ->68 ->69 ->70 ->71 ->72 ->73 ->74 ->75 ->76 ->77 ->78 ->79 ->80 ->81 ->82 ->83 ->84 ->85 ->86 ->87 ->88 ->89 ->90 ->91 ->92 ->93 ->94 ->95 ->96 ->97 ->98 ->99 ->100 ->101 ->102 ->103 ->104 ->105 ->106 ->107 ->108 ->109 ->110 ->111 ->112 ->113 ->114 ->115 ->116 ->117 ->118 ->119 ->120 ->121 ->122 ->123 ->124 ->125 ->126 ->127 ->128 ->129 ->130 ->131 ->132 ->133 ->134 ->135 ->136 ->137 ->138 ->139 ->140 ->141 ->142 ->143 ->144 ->145 ->146 ->147 ->148 ->149 ->150 ->151 ->152 ->153 ->154 ->155 ->156 ->157 ->158 ->159 ->160 ->161 ->162 ->163 ->164 ->165 ->166 ->167 ->168 ->169 ->170 ->171 ->172 ->173 ->174 ->175 ->176 ->177 ->178 ->179 ->180 ->181 ->182 ->183 ->184 ->185 ->186 ->187 ->188 ->189 ->190 ->191 ->192 ->193 ->194 ->195 ->196 ->197 ->198 ->199 ->200 ->201 ->202 ->203 ->204 ->205 ->206 ->207 ->208 ->209 ->210 ->211 ->212 ->213 ->214 ->215 ->216 ->217 ->218 ->219 ->220 ->221 ->222 ->223 ->224 ->225 ->226 ->227 ->228 ->229 ->230 ->231 ->232 ->233 ->234 ->235 ->236 ->237 ->238 ->239 ->240 ->241 ->242 ->243 ->244 ->245 ->246 ->247 ->248 ->249 ->250 ->251 ->252 ->253 ->254 ->255 ->256 ->257 ->258 ->259 ->260 ->261 ->262 ->263 ->264 ->265 ->266 ->267 ->268 ->269 ->270 ->271 ->272 ->273 ->274 ->275 ->276 ->277 ->278 ->279 ->280 ->281 ->282 ->283 ->284 ->285 ->286 ->287 ->288 ->289 ->290 ->291 ->292 ->293 ->294 ->295 ->296 ->297 ->298 ->299 ->300 ->301 ->302 ->303 ->304 ->305 ->306 ->307 ->308 ->309 ->310 ->311 ->312 ->313 ->314 ->315 ->316 ->317 ->318 ->319 ->320 ->321 ->322 ->323 ->324 ->325 ->326 ->327 ->328 ->329 ->330 ->331 ->332 ->333 ->334 ->335 ->336 ->337 ->338 ->339 ->340 ->341 ->342 ->343 ->344 ->345 ->346 ->347 ->348 ->349 ->350 ->351 ->352 ->353 ->354 ->355 ->356 ->357 ->358 ->359 ->360 ->361 ->362 ->363 ->364 ->365 ->366 ->367 ->368 ->369 ->370 ->371 ->372 ->373 ->374 ->375 ->376 ->377 ->378 ->379 ->380 ->381 ->382 ->383 ->384 ->385 ->386 ->387 ->388 ->389 ->390 ->391 ->392 ->393 ->394 ->395 ->396 ->397 ->398 ->399 ->400 ->401 ->402 ->403 ->404 ->405 ->406 ->407 ->408 ->409 ->410 ->411 ->412 ->413 ->414 ->415 ->416 ->417 ->418 ->419 ->420 ->421 ->422 ->423 ->424 ->425 ->426 ->427 ->428 ->429 ->430 ->431 ->432 ->433 ->434 ->435 ->436 ->437 ->438 ->439 ->440 ->441 ->442 ->443 ->444 ->445 ->446 ->447 ->448 ->449 ->450 ->451 ->452 ->453 ->454 ->455 ->456 ->457 ->458 ->459 ->460 ->461 ->462 ->463 ->464 ->465 ->466 ->467 ->468 ->469 ->470 ->471 ->472 ->473 ->474 ->475 ->476 ->477 ->478 ->479 ->480 ->481 ->482 ->483 ->484 ->485 ->486 ->487 ->488 ->489 ->490 ->491 ->492 ->493 ->494 ->495 ->496 ->497 ->498 ->499 ->500 ->501 ->502 ->503 ->504 ->505 ->506 ->507 ->508 ->509 ->510 ->511 ->512 ->513 ->514 ->515 ->516 ->517 ->518 ->519 ->520 ->521 ->522 ->523 ->524 ->525 ->526 ->527 ->528 ->529 ->530 ->531 ->532 ->533 ->534 ->535 ->536 ->537 ->538 ->539 ->540 ->541 ->542 ->543 ->544 ->545 ->546 ->547 ->548 ->549 ->550 ->551 ->552 ->553 ->554 ->555 ->556 ->557 ->558 ->559 ->560 ->561 ->562 ->563 ->564 ->565 ->566 ->567 ->568 ->569 ->570 ->571 ->572 ->573 ->574 ->575 ->576 ->577 ->578 ->579 ->580 ->581 ->582 ->583 ->584 ->585 ->586 ->587 ->588 ->589 ->590 ->591 ->592 ->593 ->594 ->595 ->596 ->597 ->598 ->599 ->600 ->601 ->602 ->603 ->604 ->605 ->606 ->607 ->608 ->609 ->610 ->611 ->612 ->613 ->614 ->615 ->616 ->617 ->618 ->619 ->620 ->621 ->622 ->623 ->624 ->625 ->626 ->627 ->628 ->629 ->630 ->631 ->632 ->633 ->634 ->635 ->636 ->637 ->638 ->639 ->640 ->641 ->642 ->643 ->644 ->645 ->646 ->647 ->648 ->649 ->650 ->651 ->652 ->653 ->654 ->655 ->656 ->657 ->658 ->659 ->660 ->661 ->662 ->663 ->664 ->665 ->666 ->667 ->668 ->669 ->670 ->671 ->672 ->673 ->674 ->675 ->676 ->677 ->678 ->679 ->680 ->681 ->682 ->683 ->684 ->685 ->686 ->687 ->688 ->689 ->690 ->691 ->692 ->693 ->694 ->695 ->696 ->697 ->698 ->699 ->700 ->701 ->702 ->703 ->704 ->705 ->706 ->707 ->708 ->709 ->710 ->711 ->712 ->713 ->714 ->715 ->716 ->717 ->718 ->719 ->720 ->721 ->722 ->723 ->724 ->725 ->726 ->727 ->728 ->729 ->730 ->731 ->732 ->733 ->734 ->735 ->736 ->737 ->738 ->739 ->740 ->741 ->742 ->743 ->744 ->745 ->746 ->747 ->748 ->749 ->750 ->751 ->752 ->753 ->754 ->755 ->756 ->757 ->758 ->759 ->760 ->761 ->762 ->763 ->764 ->765 ->766 ->767 ->768 ->769 ->770 ->771 ->772 ->773 ->774 ->775 ->776 ->777 ->778 ->779 ->780 ->781 ->782 ->783 ->784 ->785 ->786 ->787 ->788 ->789 ->790 ->791 ->792 ->793 ->794 ->795 ->796 ->797 ->798 ->799 ->800 ->801 ->802 ->803 ->804 ->805 ->806 ->807 ->808 ->809 ->810 ->811 ->812 ->813 ->814 ->815 ->816 ->817 ->818 ->819 ->820 ->821 ->822 ->823 ->824 ->825 ->826 ->827 ->828 ->829 ->830 ->831 ->832 ->833 ->834 ->835 ->836 ->837 ->838 ->839 ->840 ->841 ->842 ->843 ->844 ->845 ->846 ->847 ->848 ->849 ->850 ->851 ->852 ->853 ->854 ->855 ->856 ->857 ->858 ->859 ->860 ->861 ->862 ->863 ->864 ->865 ->866 ->867 ->868 ->869 ->870 ->871 ->872 ->873 ->874 ->875 ->876 ->877 ->878 ->879 ->880 ->881 ->882 ->883 ->884 ->885 ->886 ->887 ->888 ->889 ->890 ->891 ->892 ->893 ->894 ->895 ->896 ->897 ->898 ->899 ->900 ->901 ->902 ->903 ->904 ->905 ->906 ->907 ->908 ->909 ->910 ->911 ->912 ->913 ->914 ->915 ->916 ->917 ->918 ->919 ->920 ->921 ->922 ->923 ->924 ->925 ->926 ->927 ->928 ->929 ->930 ->931 ->932 ->933 ->934 ->935 ->936 ->937 ->938 ->939 ->940 ->941 ->942 ->943 ->944 ->945 ->946 ->947 ->948 ->949 ->950 ->951 ->952 ->953 ->954 ->955 ->956 ->957 ->958 ->959 ->960 ->961 ->962 ->963 ->964 ->965 ->966 ->967 ->968 ->969 ->970 ->971 ->972 ->973 ->974 ->975 ->976 ->977 ->978 ->979 ->980 ->981 ->982 ->983 ->984 ->985 ->986 ->987 ->988 ->989 ->990 ->991 ->992 ->993 ->994 ->995 ->996 ->997 ->998 ->999 ->1000 ->1001 ->1002 ->1003 ->1004 ->1005 ->1006 ->1007 ->1008 ->1009 ->1010 ->1011 ->1012 ->1013 ->1014 ->1015 ->1016 ->1017 ->1018 ->1019 ->1020 ->1021 ->1022 ->1023 ->1024 ->1025 ->1026 ->1027 ->1028 ->1029 ->1030 ->1031 ->1032 ->1033 ->1034 ->1035 ->1036 ->1037 ->1038 ->1039 ->1040 ->1041 ->1042 ->1043 ->1044 ->1045 ->1046 ->1047 ->1048 ->1049 ->1050 ->1051 ->1052 ->1053 ->1054 ->1055 ->1056 ->1057 ->1058 ->1059 ->1060 ->1061 ->1062 ->1063 ->1064 ->1065 ->1066 ->1067 ->1068 ->1069 ->1070 ->1071 ->1072 ->1073 ->1074 ->1075 ->1076 ->1077 ->1078 ->1079 ->1080 ->1081 ->1082 ->1083 ->1084 ->1085 ->1086 ->1087 ->1088 ->1089 ->1090 ->1091 ->1092 ->1093 ->1094 ->1095 ->1096 ->1097 ->1098 ->1099 ->1100 ->1101 ->1102 ->1103 ->1104 ->1105 ->1106 ->1107 ->1108 ->1109 ->1110 ->1111 ->1112 ->1113 ->1114 ->1115 ->1116 ->1117 ->1118 ->1119 ->1120 ->1121 ->1122 ->1123 ->1124 ->1125 ->1126 ->1127 ->1128 ->1129 ->1130 ->1131 ->1132 ->1133 ->1134 ->1135 ->1136 ->1137 ->1138 ->1139 ->1140 ->1141 ->1142 ->1143 ->1144 ->1145 ->1146 ->1147 ->1148 ->1149 ->1150 ->1151 ->1152 ->1153 ->1154 ->1155 ->1156 ->1157 ->1158 ->1159 ->1160 ->1161 ->1162 ->1163 ->1164 ->1165 ->1166 ->1167 ->1168 ->1169 ->1170 ->1171 ->1172 ->1173 ->1174 ->1175 ->1176 ->1177 ->1178 ->1179 ->1180 ->1181 ->1182 ->1183 ->1184 ->1185 ->1186 ->1187 ->1188 ->1189 ->1190 ->1191 ->1192 ->1193 ->1194 ->1195 ->1196 ->1197 ->1198 ->1199 ->1200 ->1201 ->1202 ->1203 ->1204 ->1205 ->1206 ->1207 ->1208 ->1209 ->1210 ->1211 ->1212 ->1213 ->1214 ->1215 ->1216 ->1217 ->1218 ->1219 ->1220 ->1221 ->1222 ->1223 ->1224 ->1225 ->1226 ->1227 ->1228 ->1229 ->1230 ->1231 ->1232 ->1233 ->1234 ->1235 ->1236 ->1237 ->1238 ->1239 ->1240 ->1241 ->1242 ->1243 ->1244 ->1245 ->1246 ->1247 ->1248 ->1249 ->1250 ->1251 ->1252 ->1253 ->1254 ->1255 ->1256 ->1257 ->1258 ->1259 ->1260 ->1261 ->1262 ->1263 ->1264 ->1265 ->1266 ->1267 ->1268 ->1269 ->1270 ->1271 ->1272 ->1273 ->1274 ->1275 ->1276 ->1277 ->1278 ->1279 ->1280 ->1281 ->1282 ->1283 ->1284 ->1285 ->1286 ->1287 ->1288 ->1289 ->1290 ->1291 ->1292 ->1293 ->1294 ->1295 ->1296 ->1297 ->1298 ->1299 ->1300 ->1301 ->1302 ->1303 ->1304 ->1305 ->1306 ->1307 ->1308 ->1309 ->1310 ->1311 ->1312 ->1313 ->1314 ->1315 ->1316 ->1317 ->1318 ->1319 ->1320 ->1321 ->1322 ->1323 ->1324 ->1325 ->1326 ->1327 ->1328 ->1329 ->1330 ->1331 ->1332 ->1333 ->1334 ->1335 ->1336 ->1337 ->1338 ->1339 ->1340 ->1341 ->1342 ->1343 ->1344 ->1345 ->1346 ->1347 ->1348 ->1349 ->1350 ->1351 ->1352 ->1353 ->1354 ->1355 ->1356 ->1357 ->1358 ->1359 ->1360 ->1361 ->1362 ->1363 ->1364 ->1365 ->1366 ->1367 ->1368 ->1369 ->1370 ->1371 ->1372 ->1373 ->1374 ->1375 ->1376 ->1377 ->1378 ->1379 ->1380 ->1381 ->1382 ->1383 ->1384 ->1385 ->1386 ->1387 ->1388 ->1389 ->1390 ->1391 ->1392 ->1393 ->1394 ->1395 ->1396 ->1397 ->1398 ->1399 ->1400 ->1401 ->1402 ->1403 ->1404 ->1405 ->1406 ->1407 ->1408 ->1409 ->1410 ->1411 ->1412 ->1413 ->1414 ->1415 ->1416 ->1417 ->1418 ->1419 ->1420 ->1421 ->1422 ->1423 ->1424 ->1425 ->1426 ->1427 ->1428 ->1429 ->1430 ->1431 ->1432 ->1433 ->1434 ->1435 ->1436 ->1437 ->1438 ->1439 ->1440 ->1441 ->1442 ->1443 ->1444 ->1445 ->1446 ->1447 ->1448 ->1449 ->1450 ->1451 ->1452 ->1453 ->1454 ->1455 ->1456 ->1457 ->1458 ->1459 ->1460 ->1461 ->1462 ->1463 ->1464 ->1465 ->1466 ->1467 ->1468 ->1469 ->1470 ->1471 ->1472 ->1473 ->1474 ->1475 ->1476 ->1477 ->1478 ->1479 ->1480 ->1481 ->1482 ->1483 ->1484 ->1485 ->1486 ->1487 ->1488 ->1489 ->1490 ->1491 ->1492 ->1493 ->1494 ->1495 ->1496 ->1497 ->1498 ->1499 ->1500 ->1501 ->1502 ->1503 ->1504 ->1505 ->1506 ->1507 ->1508 ->1509 ->1510 ->1511 ->1512 ->1513 ->1514 ->1515 ->1516 ->1517 ->1518 ->1519 ->1520 ->1521 ->1522 ->1523 ->1524 ->1525 ->1526 ->1527 ->1528 ->1529 ->1530 ->1531 ->1532 ->1533 ->1534 ->1535 ->1536 ->1537 ->1538 ->1539 ->1540 ->1541 ->1542 ->1543 ->1544 ->1545 ->1546 ->1547 ->1548 ->1549 ->1550 ->1551 ->1552 ->1553 ->1554 ->1555 ->1556 ->1557 ->1558 ->1559 ->1560 ->1561 ->1562 ->1563 ->1564 ->1565 ->1566 ->1567 ->1568 ->1569 ->1570 ->1571 ->1572 ->1573 ->1574 ->1575 ->1576 ->1577 ->1578 ->1579 ->1580 ->1581 ->1582 ->1583 ->1584 ->1585 ->1586 ->1587 ->1588 ->1589 ->1590 ->1591 ->1592 ->1593 ->1594 ->1595 ->1596 ->1597 ->1598 ->1599 ->1600 ->1601 ->1602 ->1603 ->1604 ->1605 ->1606 ->1607 ->1608 ->1609 ->1610 ->1611 ->1612 ->1613 ->1614 ->1615 ->1616 ->1617 ->1618 ->1619 ->1620 ->1621 ->1622 ->1623 ->1624 ->1625 ->1626 ->1627 ->1628 ->1629 ->1630 ->1631 ->1632 ->1633 ->1634 ->1635 ->1636 ->1637 ->1638 ->1639 ->1640 ->1641 ->1642 ->1643 ->1644 ->1645 ->1646 ->1647 ->1648 ->1649 ->1650 ->1651 ->1652 ->1653 ->1654 ->1655 ->1656 ->1657 ->1658 ->1659 ->1660 ->1661 ->1662 ->1663 ->1664 ->1665 ->1666 ->1667 ->1668 ->1669 ->1670 ->1671 ->1672 ->1673 ->1674 ->1675 ->1676 ->1677 ->1678 ->1679 ->1680 ->1681 ->1682 ->1683 ->1684 ->1685 ->1686 ->1687 ->1688 ->1689 ->1690 ->1691 ->1692 ->1693 ->1694 ->1695 ->1696 ->1697 ->1698 ->1699 ->1700 ->1701 ->1702 ->1703 ->1704 ->1705 ->1706 ->1707 ->1708 ->1709 ->1710 ->1711 ->1712 ->1713 ->1714 ->1715 ->1716 ->1717 ->1718 ->1719 ->1720 ->1721 ->1722 ->1723 ->1724 ->1725 ->1726 ->1727 ->1728 ->1729 ->1730 ->1731 ->1732 ->1733 ->1734 ->1735 ->1736 ->1737 ->1738 ->1739 ->1740 ->1741 ->1742 ->1743 ->1744 ->1745 ->1746 ->1747 ->1748 ->1749 ->1750 ->1751 ->1752 ->1753 ->1754 ->1755 ->1756 ->1757 ->1758 ->1759 ->1760 ->1761 ->1762 ->1763 ->1764 ->1765 ->1766 ->1767 ->1768 ->1769 ->1770 ->1771 ->1772 ->1773 ->1774 ->1775 ->1776 ->1777 ->1778 ->1779 ->1780 ->1781 ->1782 ->1783 ->1784 ->1785 ->1786 ->1787 ->1788 ->1789 ->1790 ->1791 ->1792 ->1793 ->1794 ->1795 ->1796 ->1797 ->1798 ->1799 ->1800 ->1801 ->1802 ->1803 ->1804 ->1805 ->1806 ->1807 ->1808 ->1809 ->1810 ->1811 ->1812 ->1813 ->1814 ->1815 ->1816 ->1817 ->1818 ->1819 ->1820 ->1821 ->1822 ->1823 ->1824 ->1825 ->1826 ->1827 ->1828 ->1829 ->1830 ->1831 ->1832 ->1833 ->1834 ->1835 ->1836 ->1837 ->1838 ->1839 ->1840 ->1841 ->1842 ->1843 ->1844 ->1845 ->1846 ->1847 ->1848 ->1849 ->1850 ->1851 ->1852 ->1853 ->1854 ->1855 ->1856 ->1857 ->1858 ->1859 ->1860 ->1861 ->1862 ->1863 ->1864 ->1865 ->1866 ->1867 ->1868 ->1869 ->1870 ->1871 ->1872 ->1873 ->1874 ->1875 ->1876 ->1877 ->1878 ->1879 ->1880 ->1881 ->1882 ->1883 ->1884 ->1885 ->1886 ->1887 ->1888 ->1889 ->1890 ->1891 ->1892 ->1893 ->1894 ->1895 ->1896 ->1897 ->1898 ->1899 ->1900 ->1901 ->1902 ->1903 ->1904 ->1905 ->1906 ->1907 ->1908 ->1909 ->1910 ->1911 ->1912 ->1913 ->1914 ->1915 ->1916 ->1917 ->1918 ->1919 ->1920 ->1921 ->1922 ->1923 ->1924 ->1925 ->1926 ->1927 ->1928 ->1929 ->1930 ->1931 ->1932 ->1933 ->1934 ->1935 ->1936 ->1937 ->1938 ->1939 ->1940 ->1941 ->1942 ->1943 ->1944 ->1945 ->1946 ->1947 ->1948 ->1949 ->1950 ->1951 ->1952 ->1953 ->1954 ->1955 ->1956 ->1957 ->1958 ->1959 ->1960 ->1961 ->1962 ->1963 ->1964 ->1965 ->1966 ->1967 ->1968 ->1969 ->1970 ->1971 ->1972 ->1973 ->1974 ->1975 ->1976 ->1977 ->1978 ->1979 ->1980 ->1981 ->1982 ->1983 ->1984 ->1985 ->1986 ->1987 ->1988 ->1989 ->1990 ->1991 ->1992 ->1993 ->1994 ->1995 ->1996 ->1997 ->1998 ->1999 ->2000 ->2001 ->2002 ->2003 ->2004 ->2005 ->2006 ->2007 ->2008 ->2009 ->2010 ->2011 ->2012 ->2013 ->2014 ->2015 ->2016 ->2017 ->2018 ->2019 ->2020 ->2021 ->2022 ->2023 ->2024 ->2025 ->2026 ->2027 ->2028 ->2029 ->2030 ->2031 ->2032 ->2033 ->2034 ->2035 ->2036 ->2037 ->2038 ->2039 ->2040 ->2041 ->2042 ->2043 ->2044 ->2045 ->2046 ->2047 ->2048 ->2049 ->2050 ->2051 ->2052 ->2053 ->2054 ->2055 ->2056 ->2057 ->2058 ->2059 ->2060 ->2061 ->2062 ->2063 ->2064 ->2065 ->2066 ->2067 ->2068 ->2069 ->2070 ->2071 ->2072 ->2073 ->2074 ->2075 ->2076 ->2077 ->2078 ->2079 ->2080 ->2081 ->2082 ->2083 ->2084 ->2085 ->2086 ->2087 ->2088 ->2089 ->2090 ->2091 ->2092 ->2093 ->2094 ->2095 ->2096 ->2097 ->2098 ->2099 ->2100 ->2101 ->2102 ->2103 ->2104 ->2105 ->2106 ->2107 ->2108 ->2109 ->2110 ->2111 ->2112 ->2113 ->2114 ->2115 ->2116 ->2117 ->2118 ->2119 ->2120 ->2121 ->2122 ->2123 ->2124 ->2125 ->2126 ->2127 ->2128 ->2129 ->2130 ->2131 ->2132 ->2133 ->2134 ->2135 ->2136 ->2137 ->2138 ->2139 ->2140 ->2141 ->2142 ->2143 ->2144 ->2145 ->2146 ->2147 ->2148 ->2149 ->2150 ->2151 ->2152 ->2153 ->2154 ->2155 ->2156 ->2157 ->2158 ->2159 ->2160 ->2161 ->2162 ->2163 ->2164 ->2165 ->2166 ->2167 ->2168 ->2169 ->2170 ->2171 ->2172 ->2173 ->2174 ->2175 ->2176 ->2177 ->2178 ->2179 ->2180 ->2181 ->2182 ->2183 ->2184 ->2185 ->2186 ->2187 ->2188 ->2189 ->2190 ->2191 ->2192 ->2193 ->2194 ->2195 ->2196 ->2197 ->2198 ->2199 ->2200 ->2201 ->2202 ->2203 ->2204 ->2205 ->2206 ->2207 ->2208 ->2209 ->2210 ->2211 ->2212 ->2213 ->2214 ->2215 ->2216 ->2217 ->2218 ->2219 ->2220 ->2221 ->2222 ->2223 ->2224 ->2225 ->2226 ->2227 ->2228 ->2229 ->2230 ->2231 ->2232 ->2233 ->2234 ->2235 ->2236 ->2237 ->2238 ->2239 ->2240 ->2241 ->2242 ->2243 ->2244 ->2245 ->2246 ->2247 ->2248 ->2249 ->2250 ->2251 ->2252 ->2253 ->2254 ->2255 ->2256 ->2257 ->2258 ->2259 ->2260 ->2261 ->2262 ->2263 ->2264 ->2265 ->2266 ->2267 ->2268 ->2269 ->2270 ->2271 ->2272 ->2273 ->2274 ->2275 ->2276 ->2277 ->2278 ->2279 ->2280 ->2281 ->2282 ->2283 ->2284 ->2285 ->2286 ->2287 ->2288 ->2289 ->2290 ->2291 ->2292 ->2293 ->2294 ->2295 ->2296 ->2297 ->2298 ->2299 ->2300 ->2301 ->2302 ->2303 ->2304 ->2305 ->2306 ->2307 ->2308 ->2309 ->2310 ->2311 ->2312 ->2313 ->2314 ->2315 ->2316 ->2317 ->2318 ->2319 ->2320 ->2321 ->2322 ->2323 ->2324 ->2325 ->2326 ->2327 ->2328 ->2329 ->2330 ->2331 ->2332 ->2333 ->2334 ->2335 ->2336 ->2337 ->2338 ->2339 ->2340 ->2341 ->2342 ->2343 ->2344 ->2345 ->2346 ->2347 ->2348 ->2349 ->2350 ->2351 ->2352 ->2353 ->2354 ->2355 ->2356 ->2357 ->2358 ->2359 ->2360 ->2361 ->2362 ->2363 ->2364 ->2365 ->2366 ->2367 ->2368 ->2369 ->2370 ->2371 ->2372 ->2373 ->2374 ->2375 ->2376 ->2377 ->2378 ->2379 ->2380 ->2381 ->2382 ->2383 ->2384 ->2385 ->2386 ->2387 ->2388 ->2389 ->2390 ->2391 ->2392 ->2393 ->2394 ->2395 ->2396 ->2397 ->2398 ->2399 ->2400 ->2401 ->2402 ->2403 ->2404 ->2405 ->2406 ->2407 ->2408 ->2409 ->2410 ->2411 ->2412 ->2413 ->2414 ->2415 ->2416 ->2417 ->2418 ->2419 ->2420 ->2421 ->2422 ->2423 ->2424 ->2425 ->2426 ->2427 ->2428 ->2429 ->2430 ->2431 ->2432 ->2433 ->2434 ->2435 ->2436 ->2437 ->2438 ->2439 ->2440 ->2441 ->2442 ->2443 ->2444 ->2445 ->2446 ->2447 ->2448 ->2449 ->2450 ->2451 ->2452 ->2453 ->2454 ->2455 ->2456 ->2457 ->2458 ->2459 ->2460 ->2461 ->2462 ->2463 ->2464 ->2465 ->2466 ->2467 ->2468 ->2469 ->2470 ->2471 ->2472 ->2473 ->2474 ->2475 ->2476 ->2477 ->2478 ->2479 ->2480 ->2481 ->2482 ->2483 ->2484 ->2485 ->2486 ->2487 ->2488 ->2489 ->2490 ->2491 ->2492 ->2493 ->2494 ->2495 ->2496 ->2497 ->2498 ->2499 ->2500 ->2501 ->2502 ->2503 ->2504 ->2505 ->2506 ->2507 ->2508 ->2509 ->2510 ->2511 ->2512 ->2513 ->2514 ->2515 ->2516 ->2517 ->2518 ->2519 ->2520 ->2521 ->2522 ->2523 ->2524 ->2525 ->2526 ->2527 ->2528 ->2529 ->2530 ->2531 ->2532 ->2533 ->2534 ->2535 ->2536 ->2537 ->2538 ->2539 ->2540 ->2541 ->2542 ->2543 ->2544 ->2545 ->2546 ->2547 ->2548 ->2549 ->2550 ->2551 ->2552 ->2553 ->2554 ->2555 ->2556 ->2557 ->2558 ->2559 ->2560 ->2561 ->2562 ->2563 ->2564 ->2565 ->2566 ->2567 ->2568 ->2569 ->2570 ->2571 ->2572 ->2573 ->2574 ->2575 ->2576 ->2577 ->2578 ->2579 ->2580 ->2581 ->2582 ->2583 ->2584 ->2585 ->2586 ->2587 ->2588 ->2589 ->2590 ->2591 ->2592 ->2593 ->2594 ->2595 ->2596 ->2597 ->2598 ->2599 ->2600 ->2601 ->2602 ->2603 ->2604 ->2605 ->2606 ->2607 ->2608 ->2609 ->2610 ->2611 ->2612 ->2613 ->2614 ->2615 ->2616 ->2617 ->2618 ->2619 ->2620 ->2621 ->2622 ->2623 ->2624 ->2625 ->2626 ->2627 ->2628 ->2629 ->2630 ->2631 ->2632 ->2633 ->2634 ->2635 ->2636 ->2637 ->2638 ->2639 ->2640 ->2641 ->2642 ->2643 ->2644 ->2645 ->2646 ->2647 ->2648 ->2649 ->2650 ->2651 ->2652 ->2653 ->2654 ->2655 ->2656 ->2657 ->2658 ->2659 ->2660 ->2661 ->2662 ->2663 ->2664 ->2665 ->2666 ->2667 ->2668 ->2669 ->2670 ->2671 ->2672 ->2673 ->2674 ->2675 ->2676 ->2677 ->2678 ->2679 ->2680 ->2681 ->2682 ->2683 ->2684 ->2685 ->2686 ->2687 ->2688 ->2689 ->2690 ->2691 ->2692 ->2693 ->2694 ->2695 ->2696 ->2697 ->2698 ->2699 ->2700 ->2701 ->2702 ->2703 ->2704 ->2705 ->2706 ->2707 ->2708 ->2709 ->2710 ->2711 ->2712 ->2713 ->2714 ->2715 ->2716 ->2717 ->2718 ->2719 ->2720 ->2721 ->2722 ->2723 ->2724 ->2725 ->2726 ->2727 ->2728 ->2729 ->2730 ->2731 ->2732 ->2733 ->2734 ->2735 ->2736 ->2737 ->2738 ->2739 ->2740 ->2741 ->2742 ->2743 ->2744 ->2745 ->2746 ->2747 ->2748 ->2749 ->2750 ->2751 ->2752 ->2753 ->2754 ->2755 ->2756 ->2757 ->2758 ->2759 ->2760 ->2761 ->2762 ->2763 ->2764 ->2765 ->2766 ->2767 ->2768 ->2769 ->2770 ->2771 ->2772 ->2773 ->2774 ->2775 ->2776 ->2777 ->2778 ->2779 ->2780 ->2781 ->2782 ->2783 ->2784 ->2785 ->2786 ->2787 ->2788 ->2789 ->2790 ->2791 ->2792 ->2793 ->2794 ->2795 ->2796 ->2797 ->2798 ->2799 ->2800 ->2801 ->2802 ->2803 ->2804 ->2805 ->2806 ->2807 ->2808 ->2809 ->2810 ->2811 ->2812 ->2813 ->2814 ->2815 ->2816 ->2817 ->2818 ->2819 ->2820 ->2821 ->2822 ->2823 ->2824 ->2825 ->2826 ->2827 ->2828 ->2829 ->2830 ->2831 ->2832 ->2833 ->2834 ->2835 ->2836 ->2837 ->2838 ->2839 ->2840 ->2841 ->2842 ->2843 ->2844 ->2845 ->2846 ->2847 ->2848 ->2849 ->2850 ->2851 ->2852 ->2853 ->2854 ->2855 ->2856 ->2857 ->2858 ->2859 ->2860 ->2861 ->2862 ->2863 ->2864 ->2865 ->2866 ->2867 ->2868 ->2869 ->2870 ->2871 ->2872 ->2873 ->2874 ->2875 ->2876 ->2877 ->2878 ->2879 ->2880 ->2881 ->2882 ->2883 ->2884 ->2885 ->2886 ->2887 ->2888 ->2889 ->2890 ->2891 ->2892 ->2893 ->2894 ->2895 ->2896 ->2897 ->2898 ->2899 ->2900 ->2901 ->2902 ->2903 ->2904 ->2905 ->2906 ->2907 ->2908 ->2909 ->2910 ->2911 ->2912 ->2913 ->2914 ->2915 ->2916 ->2917 ->2918 ->2919 ->2920 ->2921 ->2922 ->2923 ->2924 ->2925 ->2926 ->2927 ->2928 ->2929 ->2930 ->2931 ->2932 ->2933 ->2934 ->2935 ->2936 ->2937 ->2938 ->2939 ->2940 ->2941 ->2942 ->2943 ->2944 ->2945 ->2946 ->2947 ->2948 ->2949 ->2950 ->2951 ->2952 ->2953 ->2954 ->2955 ->2956 ->2957 ->2958 ->2959 ->2960 ->2961 ->2962 ->2963 ->2964 ->2965 ->2966 ->2967 ->2968 ->2969 ->2970 ->2971 ->2972 ->2973 ->2974 ->2975 ->2976 ->2977 ->2978 ->2979 ->2980 ->2981 ->2982 ->2983 ->2984 ->2985 ->2986 ->2987 ->2988 ->2989 ->2990 ->2991 ->2992 ->2993 ->2994 ->2995 ->2996 ->2997 ->2998 ->2999 ->3000 ->3001 ->3002 ->3003 ->3004 ->3005 ->3006 ->3007 ->3008 ->3009 ->3010 ->3011 ->3012 ->3013 ->3014 ->3015 ->3016 ->3017 ->3018 ->3019 ->3020 ->3021 ->3022 ->3023 ->3024 ->3025 ->3026 ->3027 ->3028 ->3029 ->3030 ->3031 ->3032 ->3033 ->3034 ->3035 ->3036 ->3037 ->3038 ->3039 ->3040 ->3041 ->3042 ->3043 ->3044 ->3045 ->3046 ->3047 ->3048 ->3049 ->3050 ->3051 ->3052 ->3053 ->3054 ->3055 ->3056 ->3057 ->3058 ->3059 ->3060 ->3061 ->3062 ->3063 ->3064 ->3065 ->3066 ->3067 ->3068 ->3069 ->3070 ->3071 ->3072 ->3073 ->3074 ->3075 ->3076 ->3077 ->3078 ->3079 ->3080 ->3081 ->3082 ->3083 ->3084 ->3085 ->3086 ->3087 ->3088 ->3089 ->3090 ->3091 ->3092 ->3093 ->3094 ->3095 ->3096 ->3097 ->3098 ->3099 ->3100 ->3101 ->3102 ->3103 ->3104 ->3105 ->3106 ->3107 ->3108 ->3109 ->3110 ->3111 ->3112 ->3113 ->3114 ->3115 ->3116 ->3117 ->3118 ->3119 ->3120 ->3121 ->3122 ->3123 ->3124 ->3125 ->3126 ->3127 ->3128 ->3129 ->3130 ->3131 ->3132 ->3133 ->3134 ->3135 ->3136 ->3137 ->3138 ->3139 ->3140 ->3141 ->3142 ->3143 ->3144 ->3145 ->3146 ->3147 ->3148 ->3149 ->3150 ->3151 ->3152 ->3153 ->3154 ->3155 ->3156 ->3157 ->3158 ->3159 ->3160 ->3161 ->3162 ->3163 ->3164 ->3165 ->3166 ->3167 ->3168 ->3169 ->3170 ->3171 ->3172 ->3173 ->3174 ->3175 ->3176 ->3177 ->3178 ->3179 ->3180 ->3181 ->3182 ->3183 ->3184 ->3185 ->3186 ->3187 ->3188 ->3189 ->3190 ->3191 ->3192 ->3193 ->3194 ->3195 ->3196 ->3197 ->3198 ->3199 ->3200 ->3201 ->3202 ->3203 ->3204 ->3205 ->3206 ->3207 ->3208 ->3209 ->3210 ->3211 ->3212 ->3213 ->3214 ->3215 ->3216 ->3217 ->3218 ->3219 ->3220 ->3221 ->3222 ->3223 ->3224 ->3225 ->3226 ->3227 ->3228 ->3229 ->3230 ->3231 ->3232 ->3233 ->3234 ->3235 ->3236 ->3237 ->3238 ->3239 ->3240 ->3241 ->3242 ->3243 ->3244 ->3245 ->3246 ->3247 ->3248 ->3249 ->3250 ->3251 ->3252 ->3253 ->3254 ->3255 ->3256 ->3257 ->3258 ->3259 ->3260 ->3261 ->3262 ->3263 ->3264 ->3265 ->3266 ->3267 ->3268 ->3269 ->3270 ->3271 ->3272 ->3273 ->3274 ->3275 ->3276 ->3277 ->3278 ->3279 ->3280 ->3281 ->3282 ->3283 ->3284 ->3285 ->3286 ->3287 ->3288 ->3289 ->3290 ->3291 ->3292 ->3293 ->3294 ->3295 ->3296 ->3297 ->3298 ->3299 ->3300 ->3301 ->3302 ->3303 ->3304 ->3305 ->3306 ->3307 ->3308 ->3309 ->3310 ->3311 ->3312 ->3313 ->3314 ->3315 ->3316 ->3317 ->3318 ->3319 ->3320 ->3321 ->3322 ->3323 ->3324 ->3325 ->3326 ->3327 ->3328 ->3329 ->3330 ->3331 ->3332 ->3333 ->3334 ->3335 ->3336 ->3337 ->3338 ->3339 ->3340 ->3341 ->3342 ->3343 ->3344 ->3345 ->3346 ->3347 ->3348 ->3349 ->3350 ->3351 ->3352 ->3353 ->3354 ->3355 ->3356 ->3357 ->3358 ->3359 ->3360 ->3361 ->3362 ->3363 ->3364 ->3365 ->3366 ->3367 ->3368 ->3369 ->3370 ->3371 ->3372 ->3373 ->3374 ->3375 ->3376 ->3377 ->3378 ->3379 ->3380 ->3381 ->3382 ->3383 ->3384 ->3385 ->3386 ->3387 ->3388 ->3389 ->3390 ->3391 ->3392 ->3393 ->3394 ->3395 ->3396 ->3397 ->3398 ->3399 ->3400 ->3401 ->3402 ->3403 ->3404 ->3405 ->3406 ->3407 ->3408 ->3409 ->3410 ->3411 ->3412 ->3413 ->3414 ->3415 ->3416 ->3417 ->3418 ->3419 ->3420 ->3421 ->3422 ->3423 ->3424 ->3425 ->3426 ->3427 ->3428 ->3429 ->3430 ->3431 ->3432 ->3433 ->3434 ->3435 ->3436 ->3437 ->3438 ->3439 ->3440 ->3441 ->3442 ->3443 ->3444 ->3445 ->3446 ->3447 ->3448 ->3449 ->3450 ->3451 ->3452 ->3453 ->3454 ->3455 ->3456 ->3457 ->3458 ->3459 ->3460 ->3461 ->3462 ->3463 ->3464 ->3465 ->3466 ->3467 ->3468 ->3469 ->3470 ->3471 ->3472 ->3473 ->3474 ->3475 ->3476 ->3477 ->3478 ->3479 ->3480 ->3481 ->3482 ->3483 ->3484 ->3485 ->3486 ->3487 ->3488 ->3489 ->3490 ->3491 ->3492 ->3493 ->3494 ->3495 ->3496 ->3497 ->3498 ->3499 ->3500 ->3501 ->3502 ->3503 ->3504 ->3505 ->3506 ->3507 ->3508 ->3509 ->3510 ->3511 ->3512 ->3513 ->3514 ->3515 ->3516 ->3517 ->3518 ->3519 ->3520 ->3521 ->3522 ->3523 ->3524 ->3525 ->3526 ->3527 ->3528 ->3529 ->3530 ->3531 ->3532 ->3533 ->3534 ->3535 ->3536 ->3537 ->3538 ->3539 ->3540 ->3541 ->3542 ->3543 ->3544 ->3545 ->3546 ->3547 ->3548 ->3549 ->3550 ->3551 ->3552 ->3553 ->3554 ->3555 ->3556 ->3557 ->3558 ->3559 ->3560 ->3561 ->3562 ->3563 ->3564 ->3565 ->3566 ->3567 ->3568 ->3569 ->3570 ->3571 ->3572 ->3573 ->3574 ->3575 ->3576 ->3577 ->3578 ->3579 ->3580 ->3581 ->3582 ->3583 ->3584 ->3585 ->3586 ->3587 ->3588 ->3589 ->3590 ->3591 ->3592 ->3593 ->3594 ->3595 ->3596 ->3597 ->3598 ->3599 ->3600 ->3601 ->3602 ->3603 ->3604 ->3605 ->3606 ->3607 ->3608 ->3609 ->3610 ->3611 ->3612 ->3613 ->3614 ->3615 ->3616 ->3617 ->3618 ->3619 ->3620 ->3621 ->3622 ->3623 ->3624 ->3625 ->3626 ->3627 ->3628 ->3629 ->3630 ->3631 ->3632 ->3633 ->3634 ->3635 ->3636 ->3637 ->3638 ->3639 ->3640 ->3641 ->3642 ->3643 ->3644 ->3645 ->3646 ->3647 ->3648 ->3649 ->3650 ->3651 ->3652 ->3653 ->3654 ->3655 ->3656 ->3657 ->3658 ->3659 ->3660 ->3661 ->3662 ->3663 ->3664 ->3665 ->3666 ->3667 ->3668 ->3669 ->3670 ->3671 ->3672 ->3673 ->3674 ->3675 ->3676 ->3677 ->3678 ->3679 ->3680 ->3681 ->3682 ->3683 ->3684 ->3685 ->3686 ->3687 ->3688 ->3689 ->3690 ->3691 ->3692 ->3693 ->3694 ->3695 ->3696 ->3697 ->3698 ->3699 ->3700 ->3701 ->3702 ->3703 ->3704 ->3705 ->3706 ->3707 ->3708 ->3709 ->3710 ->3711 ->3712 ->3713 ->3714 ->3715 ->3716 ->3717 ->3718 ->3719 ->3720 ->3721 ->3722 ->3723 ->3724 ->3725 ->3726 ->3727 ->3728 ->3729 ->3730 ->3731 ->3732 ->3733 ->3734 ->3735 ->3736 ->3737 ->3738 ->3739 ->3740 ->3741 ->3742 ->3743 ->3744 ->3745 ->3746 ->3747 ->3748 ->3749 ->3750 ->3751 ->3752 ->3753 ->3754 ->3755 ->3756 ->3757 ->3758 ->3759 ->3760 ->3761 ->3762 ->3763 ->3764 ->3765 ->3766 ->3767 ->3768 ->3769 ->3770 ->3771 ->3772 ->3773 ->3774 ->3775 ->3776 ->3777 ->3778 ->3779 ->3780 ->3781 ->3782 ->3783 ->3784 ->3785 ->3786 ->3787 ->3788 ->3789 ->3790 ->3791 ->3792 ->3793 ->3794 ->3795 ->3796 ->3797 ->3798 ->3799 ->3800 ->3801 ->3802 ->3803 ->3804 ->3805 ->3806 ->3807 ->3808 ->3809 ->3810 ->3811 ->3812 ->3813 ->3814 ->3815 ->3816 ->3817 ->3818 ->3819 ->3820 ->3821 ->3822 ->3823 ->3824 ->3825 ->3826 ->3827 ->3828 ->3829 ->3830 ->3831 ->3832 ->3833 ->3834 ->3835 ->3836 ->3837 ->3838 ->3839 ->3840 ->3841 ->3842 ->3843 ->3844 ->3845 ->3846 ->3847 ->3848 ->3849 ->3850 ->3851 ->3852 ->3853 ->3854 ->3855 ->3856 ->3857 ->3858 ->3859 ->3860 ->3861 ->3862 ->3863 ->3864 ->3865 ->3866 ->3867 ->3868 ->3869 ->3870 ->3871 ->3872 ->3873 ->3874 ->3875 ->3876 ->3877 ->3878 ->3879 ->3880 ->3881 ->3882 ->3883 ->3884 ->3885 ->3886 ->3887 ->3888 ->3889 ->3890 ->3891 ->3892 ->3893 ->3894 ->3895 ->3896 ->3897 ->3898 ->3899 ->3900 ->3901 ->3902 ->3903 ->3904 ->3905 ->3906 ->3907 ->3908 ->3909 ->3910 ->3911 ->3912 ->3913 ->3914 ->3915 ->3916 ->3917 ->3918 ->3919 ->3920 ->3921 ->3922 ->3923 ->3924 ->3925 ->3926 ->3927 ->3928 ->3929 ->3930 ->3931 ->3932 ->3933 ->3934 ->3935 ->3936 ->3937 ->3938 ->3939 ->3940 ->3941 ->3942 ->3943 ->3944 ->3945 ->3946 ->3947 ->3948 ->3949 ->3950 ->3951 ->3952 ->3953 ->3954 ->3955 ->3956 ->3957 ->3958 ->3959 ->3960 ->3961 ->3962 ->3963 ->3964 ->3965 ->3966 ->3967 ->3968 ->3969 ->3970 ->3971 ->3972 ->3973 ->3974 ->3975 ->3976 ->3977 ->3978 ->3979 ->3980 ->3981 ->3982 ->3983 ->3984 ->3985 ->3986 ->3987 ->3988 ->3989 ->3990 ->3991 ->3992 ->3993 ->3994 ->3995 ->3996 ->3997 ->3998 ->3999 ->4000 ->4001 ->4002 ->4003 ->4004 ->4005 ->4006 ->4007 ->4008 ->4009 ->4010 ->4011 ->4012 ->4013 ->4014 ->4015 ->4016 ->4017 ->4018 ->4019 ->4020 ->4021 ->4022 ->4023 ->4024 ->4025 ->4026 ->4027 ->4028 ->4029 ->4030 ->4031 ->4032 ->4033 ->4034 ->4035 ->4036 ->4037 ->4038 ->4039 ->4040 ->4041 ->4042 ->4043 ->4044 ->4045 ->4046 ->4047 ->4048 ->4049 ->4050 ->4051 ->4052 ->4053 ->4054 ->4055 ->4056 ->4057 ->4058 ->4059 ->4060 ->4061 ->4062 ->4063 ->4064 ->4065 ->4066 ->4067 ->4068 ->4069 ->4070 ->4071 ->4072 ->4073 ->4074 ->4075 ->4076 ->4077 ->4078 ->4079 ->4080 ->4081 ->4082 ->4083 ->4084 ->4085 ->4086 ->4087 ->4088 ->4089 ->4090 ->4091 ->4092 ->4093 ->4094 ->4095 ->4096 ->4097 ->4098 ->4099 ->4100 ->4101 ->4102 ->4103 ->4104 ->4105 ->4106 ->4107 ->4108 ->4109 ->4110 ->4111 ->4112 ->4113 ->4114 ->4115 ->4116 ->4117 ->4118 ->4119 ->4120 ->4121 ->4122 ->4123 ->4124 ->4125 ->4126 ->4127 ->4128 ->4129 ->4130 ->4131 ->4132 ->4133 ->4134 ->4135 ->4136 ->4137 ->4138 ->4139 ->4140 ->4141 ->4142 ->4143 ->4144 ->4145 ->4146 ->4147 ->4148 ->4149 ->4150 ->4151 ->4152 ->4153 ->4154 ->4155 ->4156 ->4157 ->4158 ->4159 ->4160 ->4161 ->4162 ->4163 ->4164 ->4165 ->4166 ->4167 ->4168 ->4169 ->4170 ->4171 ->4172 ->4173 ->4174 ->4175 ->4176 ->4177 ->4178 ->4179 ->4180 ->4181 ->4182 ->4183 ->4184 ->4185 ->4186 ->4187 ->4188 ->4189 ->4190 ->4191 ->4192 ->4193 ->4194 ->4195 ->4196 ->4197 ->4198 ->4199 ->4200 ->4201 ->4202 ->4203 ->4204 ->4205 ->4206 ->4207 ->4208 ->4209 ->4210 ->4211 ->4212 ->4213 ->4214 ->4215 ->4216 ->4217 ->4218 ->4219 ->4220 ->4221 ->4222 ->4223 ->4224 ->4225 ->4226 ->4227 ->4228 ->4229 ->4230 ->4231 ->4232 ->4233 ->4234 ->4235 ->4236 ->4237 ->4238 ->4239 ->4240 ->4241 ->4242 ->4243 ->4244 ->4245 ->4246 ->4247 ->4248 ->4249 ->4250 ->4251 ->4252 ->4253 ->4254 ->4255 ->4256 ->4257 ->4258 ->4259 ->4260 ->4261 ->4262 ->4263 ->4264 ->4265 ->4266 ->4267 ->4268 ->4269 ->4270 ->4271 ->4272 ->4273 ->4274 ->4275 ->4276 ->4277 ->4278 ->4279 ->4280 ->4281 ->4282 ->4283 ->4284 ->4285 ->4286 ->4287 ->4288 ->4289 ->4290 ->4291 ->4292 ->4293 ->4294 ->4295 ->4296 ->4297 ->4298 ->4299 ->4300 ->4301 ->4302 ->4303 ->4304 ->4305 ->4306 ->4307 ->4308 ->4309 ->4310 ->4311 ->4312 ->4313 ->4314 ->4315 ->4316 ->4317 ->4318 ->4319 ->4320 ->4321 ->4322 ->4323 ->4324 ->4325 ->4326 ->4327 ->4328 ->4329 ->4330 ->4331 ->4332 ->4333 ->4334 ->4335 ->4336 ->4337 ->4338 ->4339 ->4340 ->4341 ->4342 ->4343 ->4344 ->4345 ->4346 ->4347 ->4348 ->4349 ->4350 ->4351 ->4352 ->4353 ->4354 ->4355 ->4356 ->4357 ->4358 ->4359 ->4360 ->4361 ->4362 ->4363 ->4364 ->4365 ->4366 ->4367 ->4368 ->4369 ->4370 ->4371 ->4372 ->4373 ->4374 ->4375 ->4376 ->4377 ->4378 ->4379 ->4380 ->4381 ->4382 ->4383 ->4384 ->4385 ->4386 ->4387 ->4388 ->4389 ->4390 ->4391 ->4392 ->4393 ->4394 ->4395 ->4396 ->4397 ->4398 ->4399 ->4400 ->4401 ->4402 ->4403 ->4404 ->4405 ->4406 ->4407 ->4408 ->4409 ->4410 ->4411 ->4412 ->4413 ->4414 ->4415 ->4416 ->4417 ->4418 ->4419 ->4420 ->4421 ->4422 ->4423 ->4424 ->4425 ->4426 ->4427 ->4428 ->4429 ->4430 ->4431 ->4432 ->4433 ->4434 ->4435 ->4436 ->4437 ->4438 ->4439 ->4440 ->4441 ->4442 ->4443 ->4444 ->4445 ->4446 ->4447 ->4448 ->4449 ->4450 ->4451 ->4452 ->4453 ->4454 ->4455 ->4456 ->4457 ->4458 ->4459 ->4460 ->4461 ->4462 ->4463 ->4464 ->4465 ->4466 ->4467 ->4468 ->4469 ->4470 ->4471 ->4472 ->4473 ->4474 ->4475 ->4476 ->4477 ->4478 ->4479 ->4480 ->4481 ->4482 ->4483 ->4484 ->4485 ->4486 ->4487 ->4488 ->4489 ->4490 ->4491 ->4492 ->4493 ->4494 ->4495 ->4496 ->4497 ->4498 ->4499 ->4500 ->4501 ->4502 ->4503 ->4504 ->4505 ->4506 ->4507 ->4508 ->4509 ->4510 ->4511 ->4512 ->4513 ->4514 ->4515 ->4516 ->4517 ->4518 ->4519 ->4520 ->4521 ->4522 ->4523 ->4524 ->4525 ->4526 ->4527 ->4528 ->4529 ->4530 ->4531 ->4532 ->4533 ->4534 ->4535 ->4536 ->4537 ->4538 ->4539 ->4540 ->4541 ->4542 ->4543 ->4544 ->4545 ->4546 ->4547 ->4548 ->4549 ->4550 ->4551 ->4552 ->4553 ->4554 ->4555 ->4556 ->4557 ->4558 ->4559 ->4560 ->4561 ->4562 ->4563 ->4564 ->4565 ->4566 ->4567 ->4568 ->4569 ->4570 ->4571 ->4572 ->4573 ->4574 ->4575 ->4576 ->4577 ->4578 ->4579 ->4580 ->4581 ->4582 ->4583 ->4584 ->4585 ->4586 ->4587 ->4588 ->4589 ->4590 ->4591 ->4592 ->4593 ->4594 ->4595 ->4596 ->4597 ->4598 ->4599 ->4600 ->4601 ->4602 ->4603 ->4604 ->4605 ->4606 ->4607 ->4608 ->4609 ->4610 ->4611 ->4612 ->4613 ->4614 ->4615 ->4616 ->4617 ->4618 ->4619 ->4620 ->4621 ->4622 ->4623 ->4624 ->4625 ->4626 ->4627 ->4628 ->4629 ->4630 ->4631 ->4632 ->4633 ->4634 ->4635 ->4636 ->4637 ->4638 ->4639 ->4640 ->4641 ->4642 ->4643 ->4644 ->4645 ->4646 ->4647 ->4648 ->4649 ->4650 ->4651 ->4652 ->4653 ->4654 ->4655 ->4656 ->4657 ->4658 ->4659 ->4660 ->4661 ->4662 ->4663 ->4664 ->4665 ->4666 ->4667 ->4668 ->4669 ->4670 ->4671 ->4672 ->4673 ->4674 ->4675 ->4676 ->4677 ->4678 ->4679 ->4680 ->4681 ->4682 ->4683 ->4684 ->4685 ->4686 ->4687 ->4688 ->4689 ->4690 ->4691 ->4692 ->4693 ->4694 ->4695 ->4696 ->4697 ->4698 ->4699 ->4700 ->4701 ->4702 ->4703 ->4704 ->4705 ->4706 ->4707 ->4708 ->4709 ->4710 ->4711 ->4712 ->4713 ->4714 ->4715 ->4716 ->4717 ->4718 ->4719 ->4720 ->4721 ->4722 ->4723 ->4724 ->4725 ->4726 ->4727 ->4728 ->4729 ->4730 ->4731 ->4732 ->4733 ->4734 ->4735 ->4736 ->4737 ->4738 ->4739 ->4740 ->4741 ->4742 ->4743 ->4744 ->4745 ->4746 ->4747 ->4748 ->4749 ->4750 ->4751 ->4752 ->4753 ->4754 ->4755 ->4756 ->4757 ->4758 ->4759 ->4760 ->4761 ->4762 ->4763 ->4764 ->4765 ->4766 ->4767 ->4768 ->4769 ->4770 ->4771 ->4772 ->4773 ->4774 ->4775 ->4776 ->4777 ->4778 ->4779 ->4780 ->4781 ->4782 ->4783 ->4784 ->4785 ->4786 ->4787 ->4788 ->4789 ->4790 ->4791 ->4792 ->4793 ->4794 ->4795 ->4796 ->4797 ->4798 ->4799 ->4800 ->4801 ->4802 ->4803 ->4804 ->4805 ->4806 ->4807 ->4808 ->4809 ->4810 ->4811 ->4812 ->4813 ->4814 ->4815 ->4816 ->4817 ->4818 ->4819 ->4820 ->4821 ->4822 ->4823 ->4824 ->4825 ->4826 ->4827 ->4828 ->4829 ->4830 ->4831 ->4832 ->4833 ->4834 ->4835 ->4836 ->4837 ->4838 ->4839 ->4840 ->4841 ->4842 ->4843 ->4844 ->4845 ->4846 ->4847 ->4848 ->4849 ->4850 ->4851 ->4852 ->4853 ->4854 ->4855 ->4856 ->4857 ->4858 ->4859 ->4860 ->4861 ->4862 ->4863 ->4864 ->4865 ->4866 ->4867 ->4868 ->4869 ->4870 ->4871 ->4872 ->4873 ->4874 ->4875 ->4876 ->4877 ->4878 ->4879 ->4880 ->4881 ->4882 ->4883 ->4884 ->4885 ->4886 ->4887 ->4888 ->4889 ->4890 ->4891 ->4892 ->4893 ->4894 ->4895 ->4896 ->4897 ->4898 ->4899 ->4900 ->4901 ->4902 ->4903 ->4904 ->4905 ->4906 ->4907 ->4908 ->4909 ->4910 ->4911 ->4912 ->4913 ->4914 ->4915 ->4916 ->4917 ->4918 ->4919 ->4920 ->4921 ->4922 ->4923 ->4924 ->4925 ->4926 ->4927 ->4928 ->4929 ->4930 ->4931 ->4932 ->4933 ->4934 ->4935 ->4936 ->4937 ->4938 ->4939 ->4940 ->4941 ->4942 ->4943 ->4944 ->4945 ->4946 ->4947 ->4948 ->4949 ->4950 ->4951 ->4952 ->4953 ->4954 ->4955 ->4956 ->4957 ->4958 ->4959 ->4960 ->4961 ->4962 ->4963 ->4964 ->4965 ->4966 ->4967 ->4968 ->4969 ->4970 ->4971 ->4972 ->4973 ->4974 ->4975 ->4976 ->4977 ->4978 ->4979 ->4980 ->4981 ->4982 ->4983 ->4984 ->4985 ->4986 ->4987 ->4988 ->4989 ->4990 ->4991 ->4992 ->4993 ->4994 ->4995 ->4996 ->4997 ->4998 ->4999 ->5000 ->5001 ->5002 ->5003 ->5004 ->5005 ->5006 ->5007 ->5008 ->5009 ->5010 ->5011 ->5012 ->5013 ->5014 ->5015 ->5016 ->5017 ->5018 ->5019 ->5020 ->5021 ->5022 ->5023 ->5024 ->5025 ->5026 ->5027 ->5028 ->5029 ->5030 ->5031 ->5032 ->5033 ->5034 ->5035 ->5036 ->5037 ->5038 ->5039 ->5040 ->5041 ->5042 ->5043 ->5044 ->5045 ->5046 ->5047 ->5048 ->5049 ->5050 ->5051 ->5052 ->5053 ->5054 ->5055 ->5056 ->5057 ->5058 ->5059 ->5060 ->5061 ->5062 ->5063 ->5064 ->5065 ->5066 ->5067 ->5068 ->5069 ->5070 ->5071 ->5072 ->5073 ->5074 ->5075 ->5076 ->5077 ->5078 ->5079 ->5080 ->5081 ->5082 ->5083 ->5084 ->5085 ->5086 ->5087 ->5088 ->5089 ->5090 ->5091 ->5092 ->5093 ->5094 ->5095 ->5096 ->5097 ->5098 ->5099 ->5100 ->5101 ->5102 ->5103 ->5104 ->5105 ->5106 ->5107 ->5108 ->5109 ->5110 ->5111 ->5112 ->5113 ->5114 ->5115 ->5116 ->5117 ->5118 ->5119 ->5120 ->5121 ->5122 ->5123 ->5124 ->5125 ->5126 ->5127 ->5128 ->5129 ->5130 ->5131 ->5132 ->5133 ->5134 ->5135 ->5136 ->5137 ->5138 ->5139 ->5140 ->5141 ->5142 ->5143 ->5144 ->5145 ->5146 ->5147 ->5148 ->5149 ->5150 ->5151 ->5152 ->5153 ->5154 ->5155 ->5156 ->5157 ->5158 ->5159 ->5160 ->5161 ->5162 ->5163 ->5164 ->5165 ->5166 ->5167 ->5168 ->5169 ->5170 ->5171 ->5172 ->5173 ->5174 ->5175 ->5176 ->5177 ->5178 ->5179 ->5180 ->5181 ->5182 ->5183 ->5184 ->5185 ->5186 ->5187 ->5188 ->5189 ->5190 ->5191 ->5192 ->5193 ->5194 ->5195 ->5196 ->5197 ->5198 ->5199 ->5200 ->5201 ->5202 ->5203 ->5204 ->5205 ->5206 ->5207 ->5208 ->5209 ->5210 ->5211 ->5212 ->5213 ->5214 ->5215 ->5216 ->5217 ->5218 ->5219 ->5220 ->5221 ->5222 ->5223 ->5224 ->5225 ->5226 ->5227 ->5228 ->5229 ->5230 ->5231 ->5232 ->5233 ->5234 ->5235 ->5236 ->5237 ->5238 ->5239 ->5240 ->5241 ->5242 ->5243 ->5244 ->5245 ->5246 ->5247 ->5248 ->5249 ->5250 ->5251 ->5252 ->5253 ->5254 ->5255 ->5256 ->5257 ->5258 ->5259 ->5260 ->5261 ->5262 ->5263 ->5264 ->5265 ->5266 ->5267 ->5268 ->5269 ->5270 ->5271 ->5272 ->5273 ->5274 ->5275 ->5276 ->5277 ->5278 ->5279 ->5280 ->5281 ->5282 ->5283 ->5284 ->5285 ->5286 ->5287 ->5288 ->5289 ->5290 ->5291 ->5292 ->5293 ->5294 ->5295 ->5296 ->5297 ->5298 ->5299 ->5300 ->5301 ->5302 ->5303 ->5304 ->5305 ->5306 ->5307 ->5308 ->5309 ->5310 ->5311 ->5312 ->5313 ->5314 ->5315 ->5316 ->5317 ->5318 ->5319 ->5320 ->5321 ->5322 ->5323 ->5324 ->5325 ->5326 ->5327 ->5328 ->5329 ->5330 ->5331 ->5332 ->5333 ->5334 ->5335 ->5336 ->5337 ->5338 ->5339 ->5340 ->5341 ->5342 ->5343 ->5344 ->5345 ->5346 ->5347 ->5348 ->5349 ->5350 ->5351 ->5352 ->5353 ->5354 ->5355 ->5356 ->5357 ->5358 ->5359 ->5360 ->5361 ->5362 ->5363 ->5364 ->5365 ->5366 ->5367 ->5368 ->5369 ->5370 ->5371 ->5372 ->5373 ->5374 ->5375 ->5376 ->5377 ->5378 ->5379 ->5380 ->5381 ->5382 ->5383 ->5384 ->5385 ->5386 ->5387 ->5388 ->5389 ->5390 ->5391 ->5392 ->5393 ->5394 ->5395 ->5396 ->5397 ->5398 ->5399 ->5400 ->5401 ->5402 ->5403 ->5404 ->5405 ->5406 ->5407 ->5408 ->5409 ->5410 ->5411 ->5412 ->5413 ->5414 ->5415 ->5416 ->5417 ->5418 ->5419 ->5420 ->5421 ->5422 ->5423 ->5424 ->5425 ->5426 ->5427 ->5428 ->5429 ->5430 ->5431 ->5432 ->5433 ->5434 ->5435 ->5436 ->5437 ->5438 ->5439 ->5440 ->5441 ->5442 ->5443 ->5444 ->5445 ->5446 ->5447 ->5448 ->5449 ->5450 ->5451 ->5452 ->5453 ->5454 ->5455 ->5456 ->5457 ->5458 ->5459 ->5460 ->5461 ->5462 ->5463 ->5464 ->5465 ->5466 ->5467 ->5468 ->5469 ->5470 ->5471 ->5472 ->5473 ->5474 ->5475 ->5476 ->5477 ->5478 ->5479 ->5480 ->5481 ->5482 ->5483 ->5484 ->5485 ->5486 ->5487 ->5488 ->5489 ->5490 ->5491 ->5492 ->5493 ->5494 ->5495 ->5496 ->5497 ->5498 ->5499 ->5500 ->5501 ->5502 ->5503 ->5504 ->5505 ->5506 ->5507 ->5508 ->5509 ->5510 ->5511 ->5512 ->5513 ->5514 ->5515 ->5516 ->5517 ->5518 ->5519 ->5520 ->5521 ->5522 ->5523 ->5524 ->5525 ->5526 ->5527 ->5528 ->5529 ->5530 ->5531 ->5532 ->5533 ->5534 ->5535 ->5536 ->5537 ->5538 ->5539 ->5540 ->5541 ->5542 ->5543 ->5544 ->5545 ->5546 ->5547 ->5548 ->5549 ->5550 ->5551 ->5552 ->5553 ->5554 ->5555 ->5556 ->5557 ->5558 ->5559 ->5560 ->5561 ->5562 ->5563 ->5564 ->5565 ->5566 ->5567 ->5568 ->5569 ->5570 ->5571 ->5572 ->5573 ->5574 ->5575 ->5576 ->5577 ->5578 ->5579 ->5580 ->5581 ->5582 ->5583 ->5584 ->5585 ->5586 ->5587 ->5588 ->5589 ->5590 ->5591 ->5592 ->5593 ->5594 ->5595 ->5596 ->5597 ->5598 ->5599 ->5600 ->5601 ->5602 ->5603 ->5604 ->5605 ->5606 ->5607 ->5608 ->5609 ->5610 ->5611 ->5612 ->5613 ->5614 ->5615 ->5616 ->5617 ->5618 ->5619 ->5620 ->5621 ->5622 ->5623 ->5624 ->5625 ->5626 ->5627 ->5628 ->5629 ->5630 ->5631 ->5632 ->5633 ->5634 ->5635 ->5636 ->5637 ->5638 ->5639 ->5640 ->5641 ->5642 ->5643 ->5644 ->5645 ->5646 ->5647 ->5648 ->5649 ->5650 ->5651 ->5652 ->5653 ->5654 ->5655 ->5656 ->5657 ->5658 ->5659 ->5660 ->5661 ->5662 ->5663 ->5664 ->5665 ->5666 ->5667 ->5668 ->5669 ->5670 ->5671 ->5672 ->5673 ->5674 ->5675 ->5676 ->5677 ->5678 ->5679 ->5680 ->5681 ->5682 ->5683 ->5684 ->5685 ->5686 ->5687 ->5688 ->5689 ->5690 ->5691 ->5692 ->5693 ->5694 ->5695 ->5696 ->5697 ->5698 ->5699 ->5700 ->5701 ->5702 ->5703 ->5704 ->5705 ->5706 ->5707 ->5708 ->5709 ->5710 ->5711 ->5712 ->5713 ->5714 ->5715 ->5716 ->5717 ->5718 ->5719 ->5720 ->5721 ->5722 ->5723 ->5724 ->5725 ->5726 ->5727 ->5728 ->5729 ->5730 ->5731 ->5732 ->5733 ->5734 ->5735 ->5736 ->5737 ->5738 ->5739 ->5740 ->5741 ->5742 ->5743 ->5744 ->5745 ->5746 ->5747 ->5748 ->5749 ->5750 ->5751 ->5752 ->5753 ->5754 ->5755 ->5756 ->5757 ->5758 ->5759 ->5760 ->5761 ->5762 ->5763 ->5764 ->5765 ->5766 ->5767 ->5768 ->5769 ->5770 ->5771 ->5772 ->5773 ->5774 ->5775 ->5776 ->5777 ->5778 ->5779 ->5780 ->5781 ->5782 ->5783 ->5784 ->5785 ->5786 ->5787 ->5788 ->5789 ->5790 ->5791 ->5792 ->5793 ->5794 ->5795 ->5796 ->5797 ->5798 ->5799 ->5800 ->5801 ->5802 ->5803 ->5804 ->5805 ->5806 ->5807 ->5808 ->5809 ->5810 ->5811 ->5812 ->5813 ->5814 ->5815 ->5816 ->5817 ->5818 ->5819 ->5820 ->5821 ->5822 ->5823 ->5824 ->5825 ->5826 ->5827 ->5828 ->5829 ->5830 ->5831 ->5832 ->5833 ->5834 ->5835 ->5836 ->5837 ->5838 ->5839 ->5840 ->5841 ->5842 ->5843 ->5844 ->5845 ->5846 ->5847 ->5848 ->5849 ->5850 ->5851 ->5852 ->5853 ->5854 ->5855 ->5856 ->5857 ->5858 ->5859 ->5860 ->5861 ->5862 ->5863 ->5864 ->5865 ->5866 ->5867 ->5868 ->5869 ->5870 ->5871 ->5872 ->5873 ->5874 ->5875 ->5876 ->5877 ->5878 ->5879 ->5880 ->5881 ->5882 ->5883 ->5884 ->5885 ->5886 ->5887 ->5888 ->5889 ->5890 ->5891 ->5892 ->5893 ->5894 ->5895 ->5896 ->5897 ->5898 ->5899 ->5900 ->5901 ->5902 ->5903 ->5904 ->5905 ->5906 ->5907 ->5908 ->5909 ->5910 ->5911 ->5912 ->5913 ->5914 ->5915 ->5916 ->5917 ->5918 ->5919 ->5920 ->5921 ->5922 ->5923 ->5924 ->5925 ->5926 ->5927 ->5928 ->5929 ->5930 ->5931 ->5932 ->5933 ->5934 ->5935 ->5936 ->5937 ->5938 ->5939 ->5940 ->5941 ->5942 ->5943 ->5944 ->5945 ->5946 ->5947 ->5948 ->5949 ->5950 ->5951 ->5952 ->5953 ->5954 ->5955 ->5956 ->5957 ->5958 ->5959 ->5960 ->5961 ->5962 ->5963 ->5964 ->5965 ->5966 ->5967 ->5968 ->5969 ->5970 ->5971 ->5972 ->5973 ->5974 ->5975 ->5976 ->5977 ->5978 ->5979 ->5980 ->5981 ->5982 ->5983 ->5984 ->5985 ->5986 ->5987 ->5988 ->5989 ->5990 ->5991 ->5992 ->5993 ->5994 ->5995 ->5996 ->5997 ->5998 ->5999 ->6000 ->6001 ->6002 ->6003 ->6004 ->6005 ->6006 ->6007 ->6008 ->6009 ->6010 ->6011 ->6012 ->6013 ->6014 ->6015 ->6016 ->6017 ->6018 ->6019 ->6020 ->6021 ->6022 ->6023 ->6024 ->6025 ->6026 ->6027 ->6028 ->6029 ->6030 ->6031 ->6032 ->6033 ->6034 ->6035 ->6036 ->6037 ->6038 ->6039 ->6040 ->6041 ->6042 ->6043 ->6044 ->6045 ->6046 ->6047 ->6048 ->6049 ->6050 ->6051 ->6052 ->6053 ->6054 ->6055 ->6056 ->6057 ->6058 ->6059 ->6060 ->6061 ->6062 ->6063 ->6064 ->6065 ->6066 ->6067 ->6068 ->6069 ->6070 ->6071 ->6072 ->6073 ->6074 ->6075 ->6076 ->6077 ->6078 ->6079 ->6080 ->6081 ->6082 ->6083 ->6084 ->6085 ->6086 ->6087 ->6088 ->6089 ->6090 ->6091 ->6092 ->6093 ->6094 ->6095 ->6096 ->6097 ->6098 ->6099 ->6100 ->6101 ->6102 ->6103 ->6104 ->6105 ->6106 ->6107 ->6108 ->6109 ->6110 ->6111 ->6112 ->6113 ->6114 ->6115 ->6116 ->6117 ->6118 ->6119 ->6120 ->6121 ->6122 ->6123 ->6124 ->6125 ->6126 ->6127 ->6128 ->6129 ->6130 ->6131 ->6132 ->6133 ->6134 ->6135 ->6136 ->6137 ->6138 ->6139 ->6140 ->6141 ->6142 ->6143 ->6144 ->6145 ->6146 ->6147 ->6148 ->6149 ->6150 ->6151 ->6152 ->6153 ->6154 ->6155 ->6156 ->6157 ->6158 ->6159 ->6160 ->6161 ->6162 ->6163 ->6164 ->6165 ->6166 ->6167 ->6168 ->6169 ->6170 ->6171 ->6172 ->6173 ->6174 ->6175 ->6176 ->6177 ->6178 ->6179 ->6180 ->6181 ->6182 ->6183 ->6184 ->6185 ->6186 ->6187 ->6188 ->6189 ->6190 ->6191 ->6192 ->6193 ->6194 ->6195 ->6196 ->6197 ->6198 ->6199 ->6200 ->6201 ->6202 ->6203 ->6204 ->6205 ->6206 ->6207 ->6208 ->6209 ->6210 ->6211 ->6212 ->6213 ->6214 ->6215 ->6216 ->6217 ->6218 ->6219 ->6220 ->6221 ->6222 ->6223 ->6224 ->6225 ->6226 ->6227 ->6228 ->6229 ->6230 ->6231 ->6232 ->6233 ->6234 ->6235 ->6236 ->6237 ->6238 ->6239 ->6240 ->6241 ->6242 ->6243 ->6244 ->6245 ->6246 ->6247 ->6248 ->6249 ->6250 ->6251 ->6252 ->6253 ->6254 ->6255 ->6256 ->6257 ->6258 ->6259 ->6260 ->6261 ->6262 ->6263 ->6264 ->6265 ->6266 ->6267 ->6268 ->6269 ->6270 ->6271 ->6272 ->6273 ->6274 ->6275 ->6276 ->6277 ->6278 ->6279 ->6280 ->6281 ->6282 ->6283 ->6284 ->6285 ->6286 ->6287 ->6288 ->6289 ->6290 ->6291 ->6292 ->6293 ->6294 ->6295 ->6296 ->6297 ->6298 ->6299 ->6300 ->6301 ->6302 ->6303 ->6304 ->6305 ->6306 ->6307 ->6308 ->6309 ->6310 ->6311 ->6312 ->6313 ->6314 ->6315 ->6316 ->6317 ->6318 ->6319 ->6320 ->6321 ->6322 ->6323 ->6324 ->6325 ->6326 ->6327 ->6328 ->6329 ->6330 ->6331 ->6332 ->6333 ->6334 ->6335 ->6336 ->6337 ->6338 ->6339 ->6340 ->6341 ->6342 ->6343 ->6344 ->6345 ->6346 ->6347 ->6348 ->6349 ->6350 ->6351 ->6352 ->6353 ->6354 ->6355 ->6356 ->6357 ->6358 ->6359 ->6360 ->6361 ->6362 ->6363 ->6364 ->6365 ->6366 ->6367 ->6368 ->6369 ->6370 ->6371 ->6372 ->6373 ->6374 ->6375 ->6376 ->6377 ->6378 ->6379 ->6380 ->6381 ->6382 ->6383 ->6384 ->6385 ->6386 ->6387 ->6388 ->6389 ->6390 ->6391 ->6392 ->6393 ->6394 ->6395 ->6396 ->6397 ->6398 ->6399 ->6400 ->6401 ->6402 ->6403 ->6404 ->6405 ->6406 ->6407 ->6408 ->6409 ->6410 ->6411 ->6412 ->6413 ->6414 ->6415 ->6416 ->6417 ->6418 ->6419 ->6420 ->6421 ->6422 ->6423 ->6424 ->6425 ->6426 ->6427 ->6428 ->6429 ->6430 ->6431 ->6432 ->6433 ->6434 ->6435 ->6436 ->6437 ->6438 ->6439 ->6440 ->6441 ->6442 ->6443 ->6444 ->6445 ->6446 ->6447 ->6448 ->6449 ->6450 ->6451 ->6452 ->6453 ->6454 ->6455 ->6456 ->6457 ->6458 ->6459 ->6460 ->6461 ->6462 ->6463 ->6464 ->6465 ->6466 ->6467 ->6468 ->6469 ->6470 ->6471 ->6472 ->6473 ->6474 ->6475 ->6476 ->6477 ->6478 ->6479 ->6480 ->6481 ->6482 ->6483 ->6484 ->6485 ->6486 ->6487 ->6488 ->6489 ->6490 ->6491 ->6492 ->6493 ->6494 ->6495 ->6496 ->6497 ->6498 ->6499 ->6500 ->6501 ->6502 ->6503 ->6504 ->6505 ->6506 ->6507 ->6508 ->6509 ->6510 ->6511 ->6512 ->6513 ->6514 ->6515 ->6516 ->6517 ->6518 ->6519 ->6520 ->6521 ->6522 ->6523 ->6524 ->6525 ->6526 ->6527 ->6528 ->6529 ->6530 ->6531 ->6532 ->6533 ->6534 ->6535 ->6536 ->6537 ->6538 ->6539 ->6540 ->6541 ->6542 ->6543 ->6544 ->6545 ->6546 ->6547 ->6548 ->6549 ->6550 ->6551 ->6552 ->6553 ->6554 ->6555 ->6556 ->6557 ->6558 ->6559 ->6560 ->6561 ->6562 ->6563 ->6564 ->6565 ->6566 ->6567 ->6568 ->6569 ->6570 ->6571 ->6572 ->6573 ->6574 ->6575 ->6576 ->6577 ->6578 ->6579 ->6580 ->6581 ->6582 ->6583 ->6584 ->6585 ->6586 ->6587 ->6588 ->6589 ->6590 ->6591 ->6592 ->6593 ->6594 ->6595 ->6596 ->6597 ->6598 ->6599 ->6600 ->6601 ->6602 ->6603 ->6604 ->6605 ->6606 ->6607 ->6608 ->6609 ->6610 ->6611 ->6612 ->6613 ->6614 ->6615 ->6616 ->6617 ->6618 ->6619 ->6620 ->6621 ->6622 ->6623 ->6624 ->6625 ->6626 ->6627 ->6628 ->6629 ->6630 ->6631 ->6632 ->6633 ->6634 ->6635 ->6636 ->6637 ->6638 ->6639 ->6640 ->6641 ->6642 ->6643 ->6644 ->6645 ->6646 ->6647 ->6648 ->6649 ->6650 ->6651 ->6652 ->6653 ->6654 ->6655 ->6656 ->6657 ->6658 ->6659 ->6660 ->6661 ->6662 ->6663 ->6664 ->6665 ->6666 ->6667 ->6668 ->6669 ->6670 ->6671 ->6672 ->6673 ->6674 ->6675 ->6676 ->6677 ->6678 ->6679 ->6680 ->6681 ->6682 ->6683 ->6684 ->6685 ->6686 ->6687 ->6688 ->6689 ->6690 ->6691 ->6692 ->6693 ->6694 ->6695 ->6696 ->6697 ->6698 ->6699 ->6700 ->6701 ->6702 ->6703 ->6704 ->6705 ->6706 ->6707 ->6708 ->6709 ->6710 ->6711 ->6712 ->6713 ->6714 ->6715 ->6716 ->6717 ->6718 ->6719 ->6720 ->6721 ->6722 ->6723 ->6724 ->6725 ->6726 ->6727 ->6728 ->6729 ->6730 ->6731 ->6732 ->6733 ->6734 ->6735 ->6736 ->6737 ->6738 ->6739 ->6740 ->6741 ->6742 ->6743 ->6744 ->6745 ->6746 ->6747 ->6748 ->6749 ->6750 ->6751 ->6752 ->6753 ->6754 ->6755 ->6756 ->6757 ->6758 ->6759 ->6760 ->6761 ->6762 ->6763 ->6764 ->6765 ->6766 ->6767 ->6768 ->6769 ->6770 ->6771 ->6772 ->6773 ->6774 ->6775 ->6776 ->6777 ->6778 ->6779 ->6780 ->6781 ->6782 ->6783 ->6784 ->6785 ->6786 ->6787 ->6788 ->6789 ->6790 ->6791 ->6792 ->6793 ->6794 ->6795 ->6796 ->6797 ->6798 ->6799 ->6800 ->6801 ->6802 ->6803 ->6804 ->6805 ->6806 ->6807 ->6808 ->6809 ->6810 ->6811 ->6812 ->6813 ->6814 ->6815 ->6816 ->6817 ->6818 ->6819 ->6820 ->6821 ->6822 ->6823 ->6824 ->6825 ->6826 ->6827 ->6828 ->6829 ->6830 ->6831 ->6832 ->6833 ->6834 ->6835 ->6836 ->6837 ->6838 ->6839 ->6840 ->6841 ->6842 ->6843 ->6844 ->6845 ->6846 ->6847 ->6848 ->6849 ->6850 ->6851 ->6852 ->6853 ->6854 ->6855 ->6856 ->6857 ->6858 ->6859 ->6860 ->6861 ->6862 ->6863 ->6864 ->6865 ->6866 ->6867 ->6868 ->6869 ->6870 ->6871 ->6872 ->6873 ->6874 ->6875 ->6876 ->6877 ->6878 ->6879 ->6880 ->6881 ->6882 ->6883 ->6884 ->6885 ->6886 ->6887 ->6888 ->6889 ->6890 ->6891 ->6892 ->6893 ->6894 ->6895 ->6896 ->6897 ->6898 ->6899 ->6900 ->6901 ->6902 ->6903 ->6904 ->6905 ->6906 ->6907 ->6908 ->6909 ->6910 ->6911 ->6912 ->6913 ->6914 ->6915 ->6916 ->6917 ->6918 ->6919 ->6920 ->6921 ->6922 ->6923 ->6924 ->6925 ->6926 ->6927 ->6928 ->6929 ->6930 ->6931 ->6932 ->6933 ->6934 ->6935 ->6936 ->6937 ->6938 ->6939 ->6940 ->6941 ->6942 ->6943 ->6944 ->6945 ->6946 ->6947 ->6948 ->6949 ->6950 ->6951 ->6952 ->6953 ->6954 ->6955 ->6956 ->6957 ->6958 ->6959 ->6960 ->6961 ->6962 ->6963 ->6964 ->6965 ->6966 ->6967 ->6968 ->6969 ->6970 ->6971 ->6972 ->6973 ->6974 ->6975 ->6976 ->6977 ->6978 ->6979 ->6980 ->6981 ->6982 ->6983 ->6984 ->6985 ->6986 ->6987 ->6988 ->6989 ->6990 ->6991 ->6992 ->6993 ->6994 ->6995 ->6996 ->6997 ->6998 ->6999 ->7000 ->7001 ->7002 ->7003 ->7004 ->7005 ->7006 ->7007 ->7008 ->7009 ->7010 ->7011 ->7012 ->7013 ->7014 ->7015 ->7016 ->7017 ->7018 ->7019 ->7020 ->7021 ->7022 ->7023 ->7024 ->7025 ->7026 ->7027 ->7028 ->7029 ->7030 ->7031 ->7032 ->7033 ->7034 ->7035 ->7036 ->7037 ->7038 ->7039 ->7040 ->7041 ->7042 ->7043 ->7044 ->7045 ->7046 ->7047 ->7048 ->7049 ->7050 ->7051 ->7052 ->7053 ->7054 ->7055 ->7056 ->7057 ->7058 ->7059 ->7060 ->7061 ->7062 ->7063 ->7064 ->7065 ->7066 ->7067 ->7068 ->7069 ->7070 ->7071 ->7072 ->7073 ->7074 ->7075 ->7076 ->7077 ->7078 ->7079 ->7080 ->7081 ->7082 ->7083 ->7084 ->7085 ->7086 ->7087 ->7088 ->7089 ->7090 ->7091 ->7092 ->7093 ->7094 ->7095 ->7096 ->7097 ->7098 ->7099 ->7100 ->7101 ->7102 ->7103 ->7104 ->7105 ->7106 ->7107 ->7108 ->7109 ->7110 ->7111 ->7112 ->7113 ->7114 ->7115 ->7116 ->7117 ->7118 ->7119 ->7120 ->7121 ->7122 ->7123 ->7124 ->7125 ->7126 ->7127 ->7128 ->7129 ->7130 ->7131 ->7132 ->7133 ->7134 ->7135 ->7136 ->7137 ->7138 ->7139 ->7140 ->7141 ->7142 ->7143 ->7144 ->7145 ->7146 ->7147 ->7148 ->7149 ->7150 ->7151 ->7152 ->7153 ->7154 ->7155 ->7156 ->7157 ->7158 ->7159 ->7160 ->7161 ->7162 ->7163 ->7164 ->7165 ->7166 ->7167 ->7168 ->7169 ->7170 ->7171 ->7172 ->7173 ->7174 ->7175 ->7176 ->7177 ->7178 ->7179 ->7180 ->7181 ->7182 ->7183 ->7184 ->7185 ->7186 ->7187 ->7188 ->7189 ->7190 ->7191 ->7192 ->7193 ->7194 ->7195 ->7196 ->7197 ->7198 ->7199 ->7200 ->7201 ->7202 ->7203 ->7204 ->7205 ->7206 ->7207 ->7208 ->7209 ->7210 ->7211 ->7212 ->7213 ->7214 ->7215 ->7216 ->7217 ->7218 ->7219 ->7220 ->7221 ->7222 ->7223 ->7224 ->7225 ->7226 ->7227 ->7228 ->7229 ->7230 ->7231 ->7232 ->7233 ->7234 ->7235 ->7236 ->7237 ->7238 ->7239 ->7240 ->7241 ->7242 ->7243 ->7244 ->7245 ->7246 ->7247 ->7248 ->7249 ->7250 ->7251 ->7252 ->7253 ->7254 ->7255 ->7256 ->7257 ->7258 ->7259 ->7260 ->7261 ->7262 ->7263 ->7264 ->7265 ->7266 ->7267 ->7268 ->7269 ->7270 ->7271 ->7272 ->7273 ->7274 ->7275 ->7276 ->7277 ->7278 ->7279 ->7280 ->7281 ->7282 ->7283 ->7284 ->7285 ->7286 ->7287 ->7288 ->7289 ->7290 ->7291 ->7292 ->7293 ->7294 ->7295 ->7296 ->7297 ->7298 ->7299 ->7300 ->7301 ->7302 ->7303 ->7304 ->7305 ->7306 ->7307 ->7308 ->7309 ->7310 ->7311 ->7312 ->7313 ->7314 ->7315 ->7316 ->7317 ->7318 ->7319 ->7320 ->7321 ->7322 ->7323 ->7324 ->7325 ->7326 ->7327 ->7328 ->7329 ->7330 ->7331 ->7332 ->7333 ->7334 ->7335 ->7336 ->7337 ->7338 ->7339 ->7340 ->7341 ->7342 ->7343 ->7344 ->7345 ->7346 ->7347 ->7348 ->7349 ->7350 ->7351 ->7352 ->7353 ->7354 ->7355 ->7356 ->7357 ->7358 ->7359 ->7360 ->7361 ->7362 ->7363 ->7364 ->7365 ->7366 ->7367 ->7368 ->7369 ->7370 ->7371 ->7372 ->7373 ->7374 ->7375 ->7376 ->7377 ->7378 ->7379 ->7380 ->7381 ->7382 ->7383 ->7384 ->7385 ->7386 ->7387 ->7388 ->7389 ->7390 ->7391 ->7392 ->7393 ->7394 ->7395 ->7396 ->7397 ->7398 ->7399 ->7400 ->7401 ->7402 ->7403 ->7404 ->7405 ->7406 ->7407 ->7408 ->7409 ->7410 ->7411 ->7412 ->7413 ->7414 ->7415 ->7416 ->7417 ->7418 ->7419 ->7420 ->7421 ->7422 ->7423 ->7424 ->7425 ->7426 ->7427 ->7428 ->7429 ->7430 ->7431 ->7432 ->7433 ->7434 ->7435 ->7436 ->7437 ->7438 ->7439 ->7440 ->7441 ->7442 ->7443 ->7444 ->7445 ->7446 ->7447 ->7448 ->7449 ->7450 ->7451 ->7452 ->7453 ->7454 ->7455 ->7456 ->7457 ->7458 ->7459 ->7460 ->7461 ->7462 ->7463 ->7464 ->7465 ->7466 ->7467 ->7468 ->7469 ->7470 ->7471 ->7472 ->7473 ->7474 ->7475 ->7476 ->7477 ->7478 ->7479 ->7480 ->7481 ->7482 ->7483 ->7484 ->7485 ->7486 ->7487 ->7488 ->7489 ->7490 ->7491 ->7492 ->7493 ->7494 ->7495 ->7496 ->7497 ->7498 ->7499 ->7500 ->7501 ->7502 ->7503 ->7504 ->7505 ->7506 ->7507 ->7508 ->7509 ->7510 ->7511 ->7512 ->7513 ->7514 ->7515 ->7516 ->7517 ->7518 ->7519 ->7520 ->7521 ->7522 ->7523 ->7524 ->7525 ->7526 ->7527 ->7528 ->7529 ->7530 ->7531 ->7532 ->7533 ->7534 ->7535 ->7536 ->7537 ->7538 ->7539 ->7540 ->7541 ->7542 ->7543 ->7544 ->7545 ->7546 ->7547 ->7548 ->7549 ->7550 ->7551 ->7552 ->7553 ->7554 ->7555 ->7556 ->7557 ->7558 ->7559 ->7560 ->7561 ->7562 ->7563 ->7564 ->7565 ->7566 ->7567 ->7568 ->7569 ->7570 ->7571 ->7572 ->7573 ->7574 ->7575 ->7576 ->7577 ->7578 ->7579 ->7580 ->7581 ->7582 ->7583 ->7584 ->7585 ->7586 ->7587 ->7588 ->7589 ->7590 ->7591 ->7592 ->7593 ->7594 ->7595 ->7596 ->7597 ->7598 ->7599 ->7600 ->7601 ->7602 ->7603 ->7604 ->7605 ->7606 ->7607 ->7608 ->7609 ->7610 ->7611 ->7612 ->7613 ->7614 ->7615 ->7616 ->7617 ->7618 ->7619 ->7620 ->7621 ->7622 ->7623 ->7624 ->7625 ->7626 ->7627 ->7628 ->7629 ->7630 ->7631 ->7632 ->7633 ->7634 ->7635 ->7636 ->7637 ->7638 ->7639 ->7640 ->7641 ->7642 ->7643 ->7644 ->7645 ->7646 ->7647 ->7648 ->7649 ->7650 ->7651 ->7652 ->7653 ->7654 ->7655 ->7656 ->7657 ->7658 ->7659 ->7660 ->7661 ->7662 ->7663 ->7664 ->7665 ->7666 ->7667 ->7668 ->7669 ->7670 ->7671 ->7672 ->7673 ->7674 ->7675 ->7676 ->7677 ->7678 ->7679 ->7680 ->7681 ->7682 ->7683 ->7684 ->7685 ->7686 ->7687 ->7688 ->7689 ->7690 ->7691 ->7692 ->7693 ->7694 ->7695 ->7696 ->7697 ->7698 ->7699 ->7700 ->7701 ->7702 ->7703 ->7704 ->7705 ->7706 ->7707 ->7708 ->7709 ->7710 ->7711 ->7712 ->7713 ->7714 ->7715 ->7716 ->7717 ->7718 ->7719 ->7720 ->7721 ->7722 ->7723 ->7724 ->7725 ->7726 ->7727 ->7728 ->7729 ->7730 ->7731 ->7732 ->7733 ->7734 ->7735 ->7736 ->7737 ->7738 ->7739 ->7740 ->7741 ->7742 ->7743 ->7744 ->7745 ->7746 ->7747 ->7748 ->7749 ->7750 ->7751 ->7752 ->7753 ->7754 ->7755 ->7756 ->7757 ->7758 ->7759 ->7760 ->7761 ->7762 ->7763 ->7764 ->7765 ->7766 ->7767 ->7768 ->7769 ->7770 ->7771 ->7772 ->7773 ->7774 ->7775 ->7776 ->7777 ->7778 ->7779 ->7780 ->7781 ->7782 ->7783 ->7784 ->7785 ->7786 ->7787 ->7788 ->7789 ->7790 ->7791 ->7792 ->7793 ->7794 ->7795 ->7796 ->7797 ->7798 ->7799 ->7800 ->7801 ->7802 ->7803 ->7804 ->7805 ->7806 ->7807 ->7808 ->7809 ->7810 ->7811 ->7812 ->7813 ->7814 ->7815 ->7816 ->7817 ->7818 ->7819 ->7820 ->7821 ->7822 ->7823 ->7824 ->7825 ->7826 ->7827 ->7828 ->7829 ->7830 ->7831 ->7832 ->7833 ->7834 ->7835 ->7836 ->7837 ->7838 ->7839 ->7840 ->7841 ->7842 ->7843 ->7844 ->7845 ->7846 ->7847 ->7848 ->7849 ->7850 ->7851 ->7852 ->7853 ->7854 ->7855 ->7856 ->7857 ->7858 ->7859 ->7860 ->7861 ->7862 ->7863 ->7864 ->7865 ->7866 ->7867 ->7868 ->7869 ->7870 ->7871 ->7872 ->7873 ->7874 ->7875 ->7876 ->7877 ->7878 ->7879 ->7880 ->7881 ->7882 ->7883 ->7884 ->7885 ->7886 ->7887 ->7888 ->7889 ->7890 ->7891 ->7892 ->7893 ->7894 ->7895 ->7896 ->7897 ->7898 ->7899 ->7900 ->7901 ->7902 ->7903 ->7904 ->7905 ->7906 ->7907 ->7908 ->7909 ->7910 ->7911 ->7912 ->7913 ->7914 ->7915 ->7916 ->7917 ->7918 ->7919 ->7920 ->7921 ->7922 ->7923 ->7924 ->7925 ->7926 ->7927 ->7928 ->7929 ->7930 ->7931 ->7932 ->7933 ->7934 ->7935 ->7936 ->7937 ->7938 ->7939 ->7940 ->7941 ->7942 ->7943 ->7944 ->7945 ->7946 ->7947 ->7948 ->7949 ->7950 ->7951 ->7952 ->7953 ->7954 ->7955 ->7956 ->7957 ->7958 ->7959 ->7960 ->7961 ->7962 ->7963 ->7964 ->7965 ->7966 ->7967 ->7968 ->7969 ->7970 ->7971 ->7972 ->7973 ->7974 ->7975 ->7976 ->7977 ->7978 ->7979 ->7980 ->7981 ->7982 ->7983 ->7984 ->7985 ->7986 ->7987 ->7988 ->7989 ->7990 ->7991 ->7992 ->7993 ->7994 ->7995 ->7996 ->7997 ->7998 ->7999 ->8000 ->8001 ->8002 ->8003 ->8004 ->8005 ->8006 ->8007 ->8008 ->8009 ->8010 ->8011 ->8012 ->8013 ->8014 ->8015 ->8016 ->8017 ->8018 ->8019 ->8020 ->8021 ->8022 ->8023 ->8024 ->8025 ->8026 ->8027 ->8028 ->8029 ->8030 ->8031 ->8032 ->8033 ->8034 ->8035 ->8036 ->8037 ->8038 ->8039 ->8040 ->8041 ->8042 ->8043 ->8044 ->8045 ->8046 ->8047 ->8048 ->8049 ->8050 ->8051 ->8052 ->8053 ->8054 ->8055 ->8056 ->8057 ->8058 ->8059 ->8060 ->8061 ->8062 ->8063 ->8064 ->8065 ->8066 ->8067 ->8068 ->8069 ->8070 ->8071 ->8072 ->8073 ->8074 ->8075 ->8076 ->8077 ->8078 ->8079 ->8080 ->8081 ->8082 ->8083 ->8084 ->8085 ->8086 ->8087 ->8088 ->8089 ->8090 ->8091 ->8092 ->8093 ->8094 ->8095 ->8096 ->8097 ->8098 ->8099 ->8100 ->8101 ->8102 ->8103 ->8104 ->8105 ->8106 ->8107 ->8108 ->8109 ->8110 ->8111 ->8112 ->8113 ->8114 ->8115 ->8116 ->8117 ->8118 ->8119 ->8120 ->8121 ->8122 ->8123 ->8124 ->8125 ->8126 ->8127 ->8128 ->8129 ->8130 ->8131 ->8132 ->8133 ->8134 ->8135 ->8136 ->8137 ->8138 ->8139 ->8140 ->8141 ->8142 ->8143 ->8144 ->8145 ->8146 ->8147 ->8148 ->8149 ->8150 ->8151 ->8152 ->8153 ->8154 ->8155 ->8156 ->8157 ->8158 ->8159 ->8160 ->8161 ->8162 ->8163 ->8164 ->8165 ->8166 ->8167 ->8168 ->8169 ->8170 ->8171 ->8172 ->8173 ->8174 ->8175 ->8176 ->8177 ->8178 ->8179 ->8180 ->8181 ->8182 ->8183 ->8184 ->8185 ->8186 ->8187 ->8188 ->8189 ->8190 ->8191 ->8192 ->8193 ->8194 ->8195 ->8196 ->8197 ->8198 ->8199 ->8200 ->8201 ->8202 ->8203 ->8204 ->8205 ->8206 ->8207 ->8208 ->8209 ->8210 ->8211 ->8212 ->8213 ->8214 ->8215 ->8216 ->8217 ->8218 ->8219 ->8220 ->8221 ->8222 ->8223 ->8224 ->8225 ->8226 ->8227 ->8228 ->8229 ->8230 ->8231 ->8232 ->8233 ->8234 ->8235 ->8236 ->8237 ->8238 ->8239 ->8240 ->8241 ->8242 ->8243 ->8244 ->8245 ->8246 ->8247 ->8248 ->8249 ->8250 ->8251 ->8252 ->8253 ->8254 ->8255 ->8256 ->8257 ->8258 ->8259 ->8260 ->8261 ->8262 ->8263 ->8264 ->8265 ->8266 ->8267 ->8268 ->8269 ->8270 ->8271 ->8272 ->8273 ->8274 ->8275 ->8276 ->8277 ->8278 ->8279 ->8280 ->8281 ->8282 ->8283 ->8284 ->8285 ->8286 ->8287 ->8288 ->8289 ->8290 ->8291 ->8292 ->8293 ->8294 ->8295 ->8296 ->8297 ->8298 ->8299 ->8300 ->8301 ->8302 ->8303 ->8304 ->8305 ->8306 ->8307 ->8308 ->8309 ->8310 ->8311 ->8312 ->8313 ->8314 ->8315 ->8316 ->8317 ->8318 ->8319 ->8320 ->8321 ->8322 ->8323 ->8324 ->8325 ->8326 ->8327 ->8328 ->8329 ->8330 ->8331 ->8332 ->8333 ->8334 ->8335 ->8336 ->8337 ->8338 ->8339 ->8340 ->8341 ->8342 ->8343 ->8344 ->8345 ->8346 ->8347 ->8348 ->8349 ->8350 ->8351 ->8352 ->8353 ->8354 ->8355 ->8356 ->8357 ->8358 ->8359 ->8360 ->8361 ->8362 ->8363 ->8364 ->8365 ->8366 ->8367 ->8368 ->8369 ->8370 ->8371 ->8372 ->8373 ->8374 ->8375 ->8376 ->8377 ->8378 ->8379 ->8380 ->8381 ->8382 ->8383 ->8384 ->8385 ->8386 ->8387 ->8388 ->8389 ->8390 ->8391 ->8392 ->8393 ->8394 ->8395 ->8396 ->8397 ->8398 ->8399 ->8400 ->8401 ->8402 ->8403 ->8404 ->8405 ->8406 ->8407 ->8408 ->8409 ->8410 ->8411 ->8412 ->8413 ->8414 ->8415 ->8416 ->8417 ->8418 ->8419 ->8420 ->8421 ->8422 ->8423 ->8424 ->8425 ->8426 ->8427 ->8428 ->8429 ->8430 ->8431 ->8432 ->8433 ->8434 ->8435 ->8436 ->8437 ->8438 ->8439 ->8440 ->8441 ->8442 ->8443 ->8444 ->8445 ->8446 ->8447 ->8448 ->8449 ->8450 ->8451 ->8452 ->8453 ->8454 ->8455 ->8456 ->8457 ->8458 ->8459 ->8460 ->8461 ->8462 ->8463 ->8464 ->8465 ->8466 ->8467 ->8468 ->8469 ->8470 ->8471 ->8472 ->8473 ->8474 ->8475 ->8476 ->8477 ->8478 ->8479 ->8480 ->8481 ->8482 ->8483 ->8484 ->8485 ->8486 ->8487 ->8488 ->8489 ->8490 ->8491 ->8492 ->8493 ->8494 ->8495 ->8496 ->8497 ->8498 ->8499 ->8500 ->8501 ->8502 ->8503 ->8504 ->8505 ->8506 ->8507 ->8508 ->8509 ->8510 ->8511 ->8512 ->8513 ->8514 ->8515 ->8516 ->8517 ->8518 ->8519 ->8520 ->8521 ->8522 ->8523 ->8524 ->8525 ->8526 ->8527 ->8528 ->8529 ->8530 ->8531 ->8532 ->8533 ->8534 ->8535 ->8536 ->8537 ->8538 ->8539 ->8540 ->8541 ->8542 ->8543 ->8544 ->8545 ->8546 ->8547 ->8548 ->8549 ->8550 ->8551 ->8552 ->8553 ->8554 ->8555 ->8556 ->8557 ->8558 ->8559 ->8560 ->8561 ->8562 ->8563 ->8564 ->8565 ->8566 ->8567 ->8568 ->8569 ->8570 ->8571 ->8572 ->8573 ->8574 ->8575 ->8576 ->8577 ->8578 ->8579 ->8580 ->8581 ->8582 ->8583 ->8584 ->8585 ->8586 ->8587 ->8588 ->8589 ->8590 ->8591 ->8592 ->8593 ->8594 ->8595 ->8596 ->8597 ->8598 ->8599 ->8600 ->8601 ->8602 ->8603 ->8604 ->8605 ->8606 ->8607 ->8608 ->8609 ->8610 ->8611 ->8612 ->8613 ->8614 ->8615 ->8616 ->8617 ->8618 ->8619 ->8620 ->8621 ->8622 ->8623 ->8624 ->8625 ->8626 ->8627 ->8628 ->8629 ->8630 ->8631 ->8632 ->8633 ->8634 ->8635 ->8636 ->8637 ->8638 ->8639 ->8640 ->8641 ->8642 ->8643 ->8644 ->8645 ->8646 ->8647 ->8648 ->8649 ->8650 ->8651 ->8652 ->8653 ->8654 ->8655 ->8656 ->8657 ->8658 ->8659 ->8660 ->8661 ->8662 ->8663 ->8664 ->8665 ->8666 ->8667 ->8668 ->8669 ->8670 ->8671 ->8672 ->8673 ->8674 ->8675 ->8676 ->8677 ->8678 ->8679 ->8680 ->8681 ->8682 ->8683 ->8684 ->8685 ->8686 ->8687 ->8688 ->8689 ->8690 ->8691 ->8692 ->8693 ->8694 ->8695 ->8696 ->8697 ->8698 ->8699 ->8700 ->8701 ->8702 ->8703 ->8704 ->8705 ->8706 ->8707 ->8708 ->8709 ->8710 ->8711 ->8712 ->8713 ->8714 ->8715 ->8716 ->8717 ->8718 ->8719 ->8720 ->8721 ->8722 ->8723 ->8724 ->8725 ->8726 ->8727 ->8728 ->8729 ->8730 ->8731 ->8732 ->8733 ->8734 ->8735 ->8736 ->8737 ->8738 ->8739 ->8740 ->8741 ->8742 ->8743 ->8744 ->8745 ->8746 ->8747 ->8748 ->8749 ->8750 ->8751 ->8752 ->8753 ->8754 ->8755 ->8756 ->8757 ->8758 ->8759 ->8760 ->8761 ->8762 ->8763 ->8764 ->8765 ->8766 ->8767 ->8768 ->8769 ->8770 ->8771 ->8772 ->8773 ->8774 ->8775 ->8776 ->8777 ->8778 ->8779 ->8780 ->8781 ->8782 ->8783 ->8784 ->8785 ->8786 ->8787 ->8788 ->8789 ->8790 ->8791 ->8792 ->8793 ->8794 ->8795 ->8796 ->8797 ->8798 ->8799 ->8800 ->8801 ->8802 ->8803 ->8804 ->8805 ->8806 ->8807 ->8808 ->8809 ->8810 ->8811 ->8812 ->8813 ->8814 ->8815 ->8816 ->8817 ->8818 ->8819 ->8820 ->8821 ->8822 ->8823 ->8824 ->8825 ->8826 ->8827 ->8828 ->8829 ->8830 ->8831 ->8832 ->8833 ->8834 ->8835 ->8836 ->8837 ->8838 ->8839 ->8840 ->8841 ->8842 ->8843 ->8844 ->8845 ->8846 ->8847 ->8848 ->8849 ->8850 ->8851 ->8852 ->8853 ->8854 ->8855 ->8856 ->8857 ->8858 ->8859 ->8860 ->8861 ->8862 ->8863 ->8864 ->8865 ->8866 ->8867 ->8868 ->8869 ->8870 ->8871 ->8872 ->8873 ->8874 ->8875 ->8876 ->8877 ->8878 ->8879 ->8880 ->8881 ->8882 ->8883 ->8884 ->8885 ->8886 ->8887 ->8888 ->8889 ->8890 ->8891 ->8892 ->8893 ->8894 ->8895 ->8896 ->8897 ->8898 ->8899 ->8900 ->8901 ->8902 ->8903 ->8904 ->8905 ->8906 ->8907 ->8908 ->8909 ->8910 ->8911 ->8912 ->8913 ->8914 ->8915 ->8916 ->8917 ->8918 ->8919 ->8920 ->8921 ->8922 ->8923 ->8924 ->8925 ->8926 ->8927 ->8928 ->8929 ->8930 ->8931 ->8932 ->8933 ->8934 ->8935 ->8936 ->8937 ->8938 ->8939 ->8940 ->8941 ->8942 ->8943 ->8944 ->8945 ->8946 ->8947 ->8948 ->8949 ->8950 ->8951 ->8952 ->8953 ->8954 ->8955 ->8956 ->8957 ->8958 ->8959 ->8960 ->8961 ->8962 ->8963 ->8964 ->8965 ->8966 ->8967 ->8968 ->8969 ->8970 ->8971 ->8972 ->8973 "
          ]
        },
        {
          "output_type": "stream",
          "name": "stderr",
          "text": [
            "ERROR:root:Internal Python error in the inspect module.\n",
            "Below is the traceback from this internal error.\n",
            "\n"
          ]
        },
        {
          "output_type": "stream",
          "name": "stdout",
          "text": [
            "Traceback (most recent call last):\n",
            "  File \"/usr/local/lib/python3.7/dist-packages/IPython/core/interactiveshell.py\", line 2882, in run_code\n",
            "    exec(code_obj, self.user_global_ns, self.user_ns)\n",
            "  File \"<ipython-input-4-45727f602465>\", line 5, in <module>\n",
            "    print(cont, '->', end='')\n",
            "  File \"/usr/local/lib/python3.7/dist-packages/ipykernel/iostream.py\", line 400, in write\n",
            "    self.pub_thread.schedule(lambda : self._buffer.write(string))\n",
            "  File \"/usr/local/lib/python3.7/dist-packages/ipykernel/iostream.py\", line 203, in schedule\n",
            "    self._event_pipe.send(b'')\n",
            "  File \"/usr/local/lib/python3.7/dist-packages/zmq/sugar/socket.py\", line 618, in send\n",
            "    return super().send(data, flags=flags, copy=copy, track=track)\n",
            "  File \"zmq/backend/cython/socket.pyx\", line 740, in zmq.backend.cython.socket.Socket.send\n",
            "  File \"zmq/backend/cython/socket.pyx\", line 787, in zmq.backend.cython.socket.Socket.send\n",
            "  File \"zmq/backend/cython/socket.pyx\", line 244, in zmq.backend.cython.socket._send_copy\n",
            "  File \"zmq/backend/cython/checkrc.pxd\", line 13, in zmq.backend.cython.checkrc._check_rc\n",
            "KeyboardInterrupt\n",
            "\n",
            "During handling of the above exception, another exception occurred:\n",
            "\n",
            "Traceback (most recent call last):\n",
            "  File \"/usr/local/lib/python3.7/dist-packages/IPython/core/interactiveshell.py\", line 1823, in showtraceback\n",
            "    stb = value._render_traceback_()\n",
            "AttributeError: 'KeyboardInterrupt' object has no attribute '_render_traceback_'\n",
            "\n",
            "During handling of the above exception, another exception occurred:\n",
            "\n",
            "Traceback (most recent call last):\n",
            "  File \"/usr/local/lib/python3.7/dist-packages/IPython/core/ultratb.py\", line 1132, in get_records\n",
            "    return _fixed_getinnerframes(etb, number_of_lines_of_context, tb_offset)\n",
            "  File \"/usr/local/lib/python3.7/dist-packages/IPython/core/ultratb.py\", line 313, in wrapped\n",
            "    return f(*args, **kwargs)\n",
            "  File \"/usr/local/lib/python3.7/dist-packages/IPython/core/ultratb.py\", line 358, in _fixed_getinnerframes\n",
            "    records = fix_frame_records_filenames(inspect.getinnerframes(etb, context))\n",
            "  File \"/usr/lib/python3.7/inspect.py\", line 1502, in getinnerframes\n",
            "    frameinfo = (tb.tb_frame,) + getframeinfo(tb, context)\n",
            "  File \"/usr/lib/python3.7/inspect.py\", line 1460, in getframeinfo\n",
            "    filename = getsourcefile(frame) or getfile(frame)\n",
            "  File \"/usr/lib/python3.7/inspect.py\", line 696, in getsourcefile\n",
            "    if getattr(getmodule(object, filename), '__loader__', None) is not None:\n",
            "  File \"/usr/lib/python3.7/inspect.py\", line 742, in getmodule\n",
            "    os.path.realpath(f)] = module.__name__\n",
            "  File \"/usr/lib/python3.7/posixpath.py\", line 395, in realpath\n",
            "    path, ok = _joinrealpath(filename[:0], filename, {})\n",
            "  File \"/usr/lib/python3.7/posixpath.py\", line 429, in _joinrealpath\n",
            "    if not islink(newpath):\n",
            "  File \"/usr/lib/python3.7/posixpath.py\", line 171, in islink\n",
            "    st = os.lstat(path)\n",
            "KeyboardInterrupt\n"
          ]
        },
        {
          "output_type": "error",
          "ename": "KeyboardInterrupt",
          "evalue": "ignored",
          "traceback": [
            "\u001b[0;31m---------------------------------------------------------------------------\u001b[0m"
          ]
        }
      ]
    },
    {
      "cell_type": "code",
      "source": [
        "n = cont = s = 0 # inicializa variáveis no Python não se declaram (somente)...\n",
        "while True: #n != 999 #cont < 5:3: # com limites (Qto nums são:!)\n",
        "#while n != 999: Por flag ponto de parada! (fator condicional) \n",
        "  n = int(input('Digite um número: '))\n",
        "  #cont += 1\n",
        "  if n == 999:\n",
        "    break\n",
        "  s += n\n",
        "#Gambiarra\n",
        "#s -= 999\n",
        "print('A soma vale {}'.format(s))\n",
        "\n",
        "# Actualização do python, versão 3.6.3\n",
        "# Python enhancement proposal 4.9.8\n",
        "# f-strings, simplificam esta forma de ...\n",
        "\n",
        "print(f'A soma vale {s}') # Interpolação dentro de strings, já está aceitando esta PEP f-string (actualizado)"
      ],
      "metadata": {
        "colab": {
          "base_uri": "https://localhost:8080/"
        },
        "id": "mTasor8yzeRi",
        "outputId": "a992330d-b811-4cfb-e19d-67f6a214de41"
      },
      "execution_count": 8,
      "outputs": [
        {
          "output_type": "stream",
          "name": "stdout",
          "text": [
            "Digite um número: 90\n",
            "Digite um número: 20\n",
            "Digite um número: 999\n",
            "A soma vale 110\n",
            "A soma vale 110\n"
          ]
        }
      ]
    },
    {
      "cell_type": "code",
      "source": [
        "nome = 'José'\n",
        "idade = 33\n",
        "print(f'O {nome} tem {idade} anos.')  # PYTHON 3.6+\n",
        "print('O {} tem {} anos.'.format(nome, idade))  # PYTHON 3\n",
        "print('O %s tem %d anos.' % (nome, idade)) # PYTHON 2"
      ],
      "metadata": {
        "colab": {
          "base_uri": "https://localhost:8080/"
        },
        "id": "wnbIUh6pC-yj",
        "outputId": "40b072eb-a51a-4ad5-f872-7be30351da65"
      },
      "execution_count": 10,
      "outputs": [
        {
          "output_type": "stream",
          "name": "stdout",
          "text": [
            "O José tem 33 anos.\n",
            "O José tem 33 anos.\n",
            "O José tem 33 anos.\n"
          ]
        }
      ]
    },
    {
      "cell_type": "code",
      "source": [
        "nome = 'José'\n",
        "idade = 33\n",
        "salário = 987.35\n",
        "print(f'O {nome:-^20} tem {idade} anos e ganha R${salário}')#:.2f}') # < alinhado à esquerda!"
      ],
      "metadata": {
        "colab": {
          "base_uri": "https://localhost:8080/"
        },
        "id": "hdXGi56kF2Bh",
        "outputId": "c4e3ca9c-b0ef-41b8-f8e2-74d286df1462"
      },
      "execution_count": 16,
      "outputs": [
        {
          "output_type": "stream",
          "name": "stdout",
          "text": [
            "O --------José-------- tem 33 anos e ganha R$987.35\n"
          ]
        }
      ]
    },
    {
      "cell_type": "markdown",
      "source": [
        "# Desafio 66\n",
        "\n",
        "Crie um programa que leia **vários números** inteiros pelo teclado. O programa só vai parar quando o usuário digitar o valor **999**, que é a **condição de parada**. No final, mostre **quantos números** foram digitados e qual foi a **soma** entre eles (desconsiderando o flag)."
      ],
      "metadata": {
        "id": "1Zh2vB06Ibtf"
      }
    },
    {
      "cell_type": "code",
      "source": [
        "count = acc = 0\n",
        "n = float(input(' Digit the value: '))\n",
        "while True: # n != 999\n",
        "  count +=1\n",
        "  acc += n\n",
        "  n = float(input('Digit the value: '))\n",
        "  if n == 999:\n",
        "    break\n",
        "print(f'There was {count} numbers read and the sum of them is {acc}')"
      ],
      "metadata": {
        "colab": {
          "base_uri": "https://localhost:8080/"
        },
        "id": "bDT4T49JIZ2D",
        "outputId": "1ab6c7b3-1697-467e-882d-48ee2d1cd7b2"
      },
      "execution_count": 18,
      "outputs": [
        {
          "output_type": "stream",
          "name": "stdout",
          "text": [
            " Digit the value: 32\n",
            "Digit the value: 21\n",
            "Digit the value: 999\n",
            "There was 2 numbers read and the sum of them is 53.0\n"
          ]
        }
      ]
    },
    {
      "cell_type": "code",
      "source": [
        "count = acc = 0\n",
        "n = float(input(' Digit the value: '))\n",
        "while n != 999:\n",
        "  count +=1\n",
        "  acc += n\n",
        "  n = float(input('Digit the value: '))\n",
        "print(f'There was {count} numbers read and the sum of them is {acc}')"
      ],
      "metadata": {
        "colab": {
          "base_uri": "https://localhost:8080/"
        },
        "id": "-Ap43z-lK5K0",
        "outputId": "51660131-ba95-4a7c-8933-44d6bc1fbad4"
      },
      "execution_count": 21,
      "outputs": [
        {
          "output_type": "stream",
          "name": "stdout",
          "text": [
            " Digit the value: 1.2\n",
            "Digit the value: 3.4\n",
            "Digit the value: 999\n",
            "There was 2 numbers read and the sum of them is 4.6\n"
          ]
        }
      ]
    },
    {
      "cell_type": "code",
      "source": [
        "# Solução Gambiarra do Gustavo Guanabara\n",
        "num = soma = 0\n",
        "while num != 999:\n",
        "  num = int(input('Digite um valor (999 para parar): '))\n",
        "  soma += num\n",
        "soma -= 999\n",
        "print(f'A soma dos valores foi {soma}!')"
      ],
      "metadata": {
        "colab": {
          "base_uri": "https://localhost:8080/"
        },
        "id": "iLs8QnP7ET89",
        "outputId": "59c2ab31-9bba-4525-d866-e8edd3d850b6"
      },
      "execution_count": 2,
      "outputs": [
        {
          "output_type": "stream",
          "name": "stdout",
          "text": [
            "Digite um valor (999 para parar): 321\n",
            "Digite um valor (999 para parar): 98\n",
            "Digite um valor (999 para parar): 999\n",
            "A soma dos valores foi 419!\n"
          ]
        }
      ]
    },
    {
      "cell_type": "code",
      "source": [
        "# Solução Gustavo Guanabara\n",
        "soma = cont = 0\n",
        "while True:\n",
        "  num = int(input('Digite um valor (999 para parar): '))\n",
        "  if num == 999:\n",
        "    break\n",
        "  cont += 1\n",
        "  soma += num\n",
        "print(f'A soma dos valores foi {soma}!')"
      ],
      "metadata": {
        "colab": {
          "base_uri": "https://localhost:8080/"
        },
        "id": "Xw0YZUK_K3nQ",
        "outputId": "657c0b4d-df26-4a99-b888-3c5a9d66dbe7"
      },
      "execution_count": 3,
      "outputs": [
        {
          "output_type": "stream",
          "name": "stdout",
          "text": [
            "Digite um valor (999 para parar): 523\n",
            "Digite um valor (999 para parar): 87\n",
            "Digite um valor (999 para parar): 21\n",
            "Digite um valor (999 para parar): 999\n",
            "A soma dos valores foi 631!\n"
          ]
        }
      ]
    },
    {
      "cell_type": "markdown",
      "source": [
        "# Desafio 067\n",
        "\n",
        "Faça um programa que mostre a **tabuada** de **vários números**, um de cada vez, para cada valor digitado pelo usuário. O programa será **interrompido** quando o número solicitado for **negativo**."
      ],
      "metadata": {
        "id": "DUquIZsJLRMy"
      }
    },
    {
      "cell_type": "code",
      "source": [
        "n = ''\n",
        "print(f\"{n:-^20} TABUADA'(S) {n:-^20}\\n\")\n",
        "\n",
        "tab = int(input(' What your number choice? ')) \n",
        "i=0\n",
        "while tab >= 0:\n",
        "  while i < 11:\n",
        "#while tab >= 0 and i<11: # Bonito se quiser somente uma tab\n",
        "    print(f'{tab} * {i} = {tab*i}')\n",
        "    i += 1\n",
        "  tab = int(input(' What is next multiplication table? '))\n",
        "  i = 0\n",
        "print('\\nWhen a number is negative, we finish the program ... ')\n"
      ],
      "metadata": {
        "colab": {
          "base_uri": "https://localhost:8080/"
        },
        "id": "I6qFoi95Lonc",
        "outputId": "6ac4429e-088a-4b27-a6ab-6abfe347b92f"
      },
      "execution_count": 44,
      "outputs": [
        {
          "output_type": "stream",
          "name": "stdout",
          "text": [
            "-------------------- TABUADA'(S) --------------------\n",
            "\n",
            " What your number choice? -1\n",
            "\n",
            "When a number is negative, we finish the program ... \n"
          ]
        }
      ]
    },
    {
      "cell_type": "code",
      "source": [
        "n = ''\n",
        "print(f\"{n:-^20} TABUADA'(S) {n:-^20}\\n\")\n",
        "\n",
        "tab = int(input(' What your number choice? ')) \n",
        "i=0\n",
        "while True:\n",
        "  while i < 11:\n",
        "#while tab >= 0 and i<11: # Bonito se quiser somente uma tab\n",
        "    print(f'{tab} * {i} = {tab*i}')\n",
        "    i += 1\n",
        "  tab = int(input(' What is next multiplication table? '))\n",
        "  i = 0\n",
        "  if tab < 0:\n",
        "    break\n",
        "print('\\nWhen a number is negative, we finish the program ... ')"
      ],
      "metadata": {
        "colab": {
          "base_uri": "https://localhost:8080/"
        },
        "id": "VxVSHOQ9QkTA",
        "outputId": "37b328ab-12f9-4f1a-edb3-a7ea38436743"
      },
      "execution_count": 45,
      "outputs": [
        {
          "output_type": "stream",
          "name": "stdout",
          "text": [
            "-------------------- TABUADA'(S) --------------------\n",
            "\n",
            " What your number choice? 78\n",
            "78 * 0 = 0\n",
            "78 * 1 = 78\n",
            "78 * 2 = 156\n",
            "78 * 3 = 234\n",
            "78 * 4 = 312\n",
            "78 * 5 = 390\n",
            "78 * 6 = 468\n",
            "78 * 7 = 546\n",
            "78 * 8 = 624\n",
            "78 * 9 = 702\n",
            "78 * 10 = 780\n",
            " What is next multiplication table? 23\n",
            "23 * 0 = 0\n",
            "23 * 1 = 23\n",
            "23 * 2 = 46\n",
            "23 * 3 = 69\n",
            "23 * 4 = 92\n",
            "23 * 5 = 115\n",
            "23 * 6 = 138\n",
            "23 * 7 = 161\n",
            "23 * 8 = 184\n",
            "23 * 9 = 207\n",
            "23 * 10 = 230\n",
            " What is next multiplication table? -0\n",
            "0 * 0 = 0\n",
            "0 * 1 = 0\n",
            "0 * 2 = 0\n",
            "0 * 3 = 0\n",
            "0 * 4 = 0\n",
            "0 * 5 = 0\n",
            "0 * 6 = 0\n",
            "0 * 7 = 0\n",
            "0 * 8 = 0\n",
            "0 * 9 = 0\n",
            "0 * 10 = 0\n",
            " What is next multiplication table? -1\n",
            "\n",
            "When a number is negative, we finish the program ... \n"
          ]
        }
      ]
    },
    {
      "cell_type": "code",
      "source": [
        "# Solution by Gustavo Guanabara\n",
        "\n",
        "while True:\n",
        "  n = int(input('Quer ver a tabuada de qual valor? ')) # ele fez no início e assim poupo linha de código fora do ciclo\n",
        "  print('-' * 30)\n",
        "  if n < 0:\n",
        "    break\n",
        "  for c in range(1,11):\n",
        "    print(f'{n} * {c} = {n*c}')\n",
        "  print('-' * 30)\n",
        "print('PROGRAMA TABUADA ENCERRADO. Volte Sempre!')\n"
      ],
      "metadata": {
        "colab": {
          "base_uri": "https://localhost:8080/"
        },
        "id": "B-KawjjVMYHx",
        "outputId": "d0835725-ada8-47f2-f7cf-70f902559fb7"
      },
      "execution_count": 6,
      "outputs": [
        {
          "output_type": "stream",
          "name": "stdout",
          "text": [
            "Quer ver a tabuada de qual valor? 23\n",
            "------------------------------\n",
            "23 * 1 = 23\n",
            "23 * 2 = 46\n",
            "23 * 3 = 69\n",
            "23 * 4 = 92\n",
            "23 * 5 = 115\n",
            "23 * 6 = 138\n",
            "23 * 7 = 161\n",
            "23 * 8 = 184\n",
            "23 * 9 = 207\n",
            "23 * 10 = 230\n",
            "------------------------------\n",
            "Quer ver a tabuada de qual valor? -2\n",
            "------------------------------\n",
            "PROGRAMA TABUADA ENCERRADO. Volte Sempre!\n"
          ]
        }
      ]
    },
    {
      "cell_type": "markdown",
      "source": [
        "# Desafio 068\n",
        "\n",
        "Faça um programa que jogue **par ou ímpar** com o computador. O jogo só será interrompido quando o jogador **PERDER**, mostrando o total de vitórias consecutivas que ele conquistou no final do jogo."
      ],
      "metadata": {
        "id": "wmc4fCBVRXaQ"
      }
    },
    {
      "cell_type": "code",
      "source": [
        "from random import randint\n",
        "import time\n",
        "ganas = 0 \n",
        "while True:\n",
        "  pc = randint(0,999) # Fica enviesado ... 0 a 998 Not, ele inclui o 999 então o números de pares e ímpares é igual!\n",
        "  you = int(input('Say a number of interval [0 to 999]: '))\n",
        "  you2 = int(input('Achas que na soma vai dar Ímpar?\\n[Par] <- No \\n[Ímpar] <- Yes\\n '))\n",
        "  print(f'\\nSabendo a resposta ... {pc + you} =')\n",
        "  res = (pc + you) % 2\n",
        "  if res:\n",
        "    print('Ímpar') # 1\n",
        "  else: \n",
        "    print('Par') # 0\n",
        "  time.sleep(2.5)\n",
        "  if res == you2%2:\n",
        "    print('You WIN!\\n ')\n",
        "    ganas += 1\n",
        "    print(f'Round {ganas+1})\n",
        "  else:\n",
        "    print('You lose ... \\n Program finnishing ... \\n')\n",
        "    print(f'You win {ganas:8^} times')\n",
        "    break\n"
      ],
      "metadata": {
        "colab": {
          "base_uri": "https://localhost:8080/"
        },
        "id": "-8a2HCUjR2fL",
        "outputId": "51e8af64-efae-42d6-c1e0-8543270e54fb"
      },
      "execution_count": 69,
      "outputs": [
        {
          "output_type": "stream",
          "name": "stdout",
          "text": [
            "Say a number of interval [0 to 999]: 76\n",
            "Achas que na soma vai dar Ímpar?\n",
            "[Par] <- No \n",
            "[Ímpar] <- Yes 8\n",
            "\n",
            "Sabendo a resposta ... 852 =\n",
            "Par\n",
            "You WIN!\n",
            "Say a number of interval [0 to 999]: 69\n",
            "Achas que na soma vai dar Ímpar?\n",
            "[Par] <- No \n",
            "[Ímpar] <- Yes 0\n",
            "\n",
            "Sabendo a resposta ... 886 =\n",
            "Par\n",
            "You WIN!\n",
            "Say a number of interval [0 to 999]: 999\n",
            "Achas que na soma vai dar Ímpar?\n",
            "[Par] <- No \n",
            "[Ímpar] <- Yes 3\n",
            "\n",
            "Sabendo a resposta ... 1163 =\n",
            "Ímpar\n",
            "You WIN!\n",
            "Say a number of interval [0 to 999]: 76\n",
            "Achas que na soma vai dar Ímpar?\n",
            "[Par] <- No \n",
            "[Ímpar] <- Yes 0\n",
            "\n",
            "Sabendo a resposta ... 210 =\n",
            "Par\n",
            "You WIN!\n",
            "Say a number of interval [0 to 999]: 99\n",
            "Achas que na soma vai dar Ímpar?\n",
            "[Par] <- No \n",
            "[Ímpar] <- Yes 0\n",
            "\n",
            "Sabendo a resposta ... 860 =\n",
            "Par\n",
            "You WIN!\n",
            "Say a number of interval [0 to 999]: 77\n",
            "Achas que na soma vai dar Ímpar?\n",
            "[Par] <- No \n",
            "[Ímpar] <- Yes 1\n",
            "\n",
            "Sabendo a resposta ... 93 =\n",
            "Ímpar\n",
            "You WIN!\n",
            "Say a number of interval [0 to 999]: 12\n",
            "Achas que na soma vai dar Ímpar?\n",
            "[Par] <- No \n",
            "[Ímpar] <- Yes 0\n",
            "\n",
            "Sabendo a resposta ... 802 =\n",
            "Par\n",
            "You WIN!\n",
            "Say a number of interval [0 to 999]: 33\n",
            "Achas que na soma vai dar Ímpar?\n",
            "[Par] <- No \n",
            "[Ímpar] <- Yes 0\n",
            "\n",
            "Sabendo a resposta ... 350 =\n",
            "Par\n",
            "You WIN!\n",
            "Say a number of interval [0 to 999]: 721\n",
            "Achas que na soma vai dar Ímpar?\n",
            "[Par] <- No \n",
            "[Ímpar] <- Yes 6\n",
            "\n",
            "Sabendo a resposta ... 1085 =\n",
            "Ímpar\n",
            "You lose ... \n",
            " Program finnishing ... \n",
            "\n",
            "You win 8 times\n"
          ]
        }
      ]
    },
    {
      "cell_type": "code",
      "source": [
        "from random import randint\n",
        "import time\n",
        "ganas = 0 \n",
        "print(f'Round {ganas+1:_<20}\\n ')\n",
        "\n",
        "while True: # Fiz tudo num único while e o que ele fez foi..: foi arranjar mais um while para P or Í que garante que é letra se der número manda repetir. O meu tem de ser número.., se for letra F****** \n",
        "  pc = randint(0,999)\n",
        "  you = int(input('Say a number of interval [0 to 999]: '))\n",
        "  you2 = int(input('Achas que na soma vai dar Ímpar?\\n[Par] <- No \\n[Ímpar] <- Yes\\n '))\n",
        "  print(f'\\n... Sabendo a resposta ... {pc + you} =')\n",
        "  res = (pc + you) % 2\n",
        "  if res:\n",
        "    print('Ímpar') # 1\n",
        "  else: \n",
        "    print('Par') # 0\n",
        "  time.sleep(2.5)\n",
        "  if res == you2%2:\n",
        "    print('      You WIN!\\n\\n ')\n",
        "    ganas += 1\n",
        "    print(f'Round {ganas+1:-<20}')\n",
        "  else:\n",
        "    print('You lose ... \\n Program finnishing ... \\n')\n",
        "    print(f'You win {ganas:8^} times')\n",
        "    break\n"
      ],
      "metadata": {
        "colab": {
          "base_uri": "https://localhost:8080/"
        },
        "id": "yWYpwG_zXAeQ",
        "outputId": "4008670c-3488-46c4-972b-465e74566969"
      },
      "execution_count": 86,
      "outputs": [
        {
          "output_type": "stream",
          "name": "stdout",
          "text": [
            "Round 1___________________\n",
            " \n",
            "Say a number of interval [0 to 999]: 34\n",
            "Achas que na soma vai dar Ímpar?\n",
            "[Par] <- No \n",
            "[Ímpar] <- Yes\n",
            " 2\n",
            "\n",
            "... Sabendo a resposta ... 366 =\n",
            "Par\n",
            "      You WIN!\n",
            "\n",
            " \n",
            "Round 2-------------------\n",
            "Say a number of interval [0 to 999]: 889\n",
            "Achas que na soma vai dar Ímpar?\n",
            "[Par] <- No \n",
            "[Ímpar] <- Yes\n",
            " 1\n",
            "\n",
            "... Sabendo a resposta ... 1181 =\n",
            "Ímpar\n",
            "      You WIN!\n",
            "\n",
            " \n",
            "Round 3-------------------\n",
            "Say a number of interval [0 to 999]: 56\n",
            "Achas que na soma vai dar Ímpar?\n",
            "[Par] <- No \n",
            "[Ímpar] <- Yes\n",
            " 1\n",
            "\n",
            "... Sabendo a resposta ... 105 =\n",
            "Ímpar\n",
            "      You WIN!\n",
            "\n",
            " \n",
            "Round 4-------------------\n",
            "Say a number of interval [0 to 999]: 76\n",
            "Achas que na soma vai dar Ímpar?\n",
            "[Par] <- No \n",
            "[Ímpar] <- Yes\n",
            " 3\n",
            "\n",
            "... Sabendo a resposta ... 1061 =\n",
            "Ímpar\n",
            "      You WIN!\n",
            "\n",
            " \n",
            "Round 5-------------------\n",
            "Say a number of interval [0 to 999]: 87\n",
            "Achas que na soma vai dar Ímpar?\n",
            "[Par] <- No \n",
            "[Ímpar] <- Yes\n",
            " 2\n",
            "\n",
            "... Sabendo a resposta ... 935 =\n",
            "Ímpar\n",
            "You lose ... \n",
            " Program finnishing ... \n",
            "\n",
            "You win 4 times\n"
          ]
        }
      ]
    },
    {
      "cell_type": "code",
      "source": [
        "# Solution by Gustavo Guanabara\n",
        "\n",
        "from random import randint\n",
        "v = 0\n",
        "while True:\n",
        "  jogador = int(input('Diga um valor: '))\n",
        "  computador = randint(0, 11)\n",
        "  total = jogador + computador\n",
        "  tipo = ' '\n",
        "  while tipo not in 'PI': #'PpIi':\n",
        "    tipo = str(input('Par ou Ímpar? [P/I] ')).strip().upper()[0]\n",
        "  print(f'Voçê jogou {jogador} e o computador {computador}. Total de {total}')\n",
        "  print('DEU PAR' if total % 2 == 0 else 'DEU ÍMPAR')\n",
        "  if tipo == 'P':\n",
        "    if total % 2 == 0:\n",
        "      print('Voçê VENCEU!')\n",
        "      v += 1\n",
        "    else:\n",
        "      print('Voçê PERDEU')\n",
        "      break\n",
        "  elif tipo == 'I':\n",
        "    if total % 2 == 1:\n",
        "      print('Voçê VENCEU!')\n",
        "      v += 1\n",
        "    else:\n",
        "      print('Voçê PERDEU')\n",
        "      break\n",
        "  print('Vamos jogar novamente...')\n",
        "print(f'GAME OVER! Voçê venceu {v} vez(es). ')\n",
        "    \n",
        "\n"
      ],
      "metadata": {
        "colab": {
          "base_uri": "https://localhost:8080/"
        },
        "id": "VwT4M6xkQWg2",
        "outputId": "609f5dbc-a5c3-4197-80cb-cfff15adcb39"
      },
      "execution_count": 15,
      "outputs": [
        {
          "output_type": "stream",
          "name": "stdout",
          "text": [
            "Diga um valor: 54\n",
            "Par ou Ímpar? [P/I] 4\n",
            "Par ou Ímpar? [P/I] 3\n",
            "Par ou Ímpar? [P/I] 2\n",
            "Par ou Ímpar? [P/I] 08\n",
            "Par ou Ímpar? [P/I] p\n",
            "Voçê jogou 54 e o computador 4. Total de 58\n",
            "DEU PAR\n",
            "Voçê VENCEU!\n",
            "Vamos jogar novamente...\n",
            "Diga um valor: 43\n",
            "Par ou Ímpar? [P/I] f\n",
            "Par ou Ímpar? [P/I] I\n",
            "Voçê jogou 43 e o computador 9. Total de 52\n",
            "DEU PAR\n",
            "Voçê PERDEU\n",
            "GAME OVER! Voçê venceu 1 vez(es). \n"
          ]
        }
      ]
    },
    {
      "cell_type": "code",
      "source": [
        "from random import randint\n",
        "randint(0,1)"
      ],
      "metadata": {
        "colab": {
          "base_uri": "https://localhost:8080/"
        },
        "id": "nj2wI6u7UrXS",
        "outputId": "823bd0bb-9209-4fcb-d9c3-c038ddc20833"
      },
      "execution_count": 12,
      "outputs": [
        {
          "output_type": "execute_result",
          "data": {
            "text/plain": [
              "0"
            ]
          },
          "metadata": {},
          "execution_count": 12
        }
      ]
    },
    {
      "cell_type": "markdown",
      "source": [
        "# Desafio 069 \n",
        "\n",
        "Crie um programa que leia a **idade** e o **sexo** de **várias pessoas**. A cada pessoa cadastrada, o programa deverá perguntar se o **usuário** quer ou não continuar.\n",
        "No final, mostre:\n",
        "\n",
        "**A)** quantas pessoas tem mais de **18 anos**.\n",
        "**B)** Quantos **homens** façam cadastrados.\n",
        "**C)** Quantas **mulheres** tem menos de **20 anos.**"
      ],
      "metadata": {
        "id": "cRC3uWRslfWN"
      }
    },
    {
      "cell_type": "code",
      "source": [
        "m18 = men = girls = 0\n",
        "continuing = 77\n",
        "while continuing:\n",
        "  idade = int(input('Please, say your age: '))\n",
        "  while idade < 0:\n",
        "    idade = int(input('Please, say your age: '))\n",
        "  sexo = str(input('Please, say your gender: ')).strip().upper()\n",
        "  while sexo not in 'FM':\n",
        "    sexo = str(input('Please, say your gender: ')).strip().upper()\n",
        "  if idade >= 18:\n",
        "    m18 += 1\n",
        "  if sexo == 'M':\n",
        "    men += 1\n",
        "  elif idade <= 20: # +Bem aproveitado face ao do Gustavo , tlv menos legível... \n",
        "    girls += 1\n",
        "  continuing = int(input('Do you wish continue? \\n[NO] <- 0\\n[YES] <- Number ≠ 0\\t:')) # quer continuar com not in -... okay e depois as escolhas if S\n",
        "print(f'There are:\\n - {m18} adults\\n - {men} mens\\n - {girls} girls\\n')\n",
        "  #if sexo\n",
        "  # muito importante cadastrar em base de dados e tudo mais.  CLásssico, estatística com dados e fazer alg. contas!"
      ],
      "metadata": {
        "colab": {
          "base_uri": "https://localhost:8080/"
        },
        "id": "8PjkvtGZmRRh",
        "outputId": "ce8485f5-59d3-45ce-8337-2a10adfec70c"
      },
      "execution_count": 97,
      "outputs": [
        {
          "output_type": "stream",
          "name": "stdout",
          "text": [
            "Please, say your age: 81\n",
            "Please, say your gender: M\n",
            "Do you wish continue? \n",
            "[NO] <- 0\n",
            "[YES] <- Number ≠ 0\t:5\n",
            "Please, say your age: 98\n",
            "Please, say your gender: f\n",
            "Do you wish continue? \n",
            "[NO] <- 0\n",
            "[YES] <- Number ≠ 0\t:3\n",
            "Please, say your age: 12\n",
            "Please, say your gender: f\n",
            "Do you wish continue? \n",
            "[NO] <- 0\n",
            "[YES] <- Number ≠ 0\t:0\n",
            "There are:\n",
            " - 2 adults\n",
            " - 1 mens\n",
            " - 1 girls\n",
            "\n"
          ]
        }
      ]
    },
    {
      "cell_type": "code",
      "source": [
        "# Solution by Gustavo Guanabara , estatistica sobre dados\n",
        "tot18 = totH = totM20 = 0\n",
        "while True:\n",
        "  idade = int(input('Idade: '))\n",
        "  sexo = ' '\n",
        "  while sexo not in 'MF':\n",
        "    sexo = str(input('Sexo: [M/F]')).strip().upper()[0]\n",
        "  if idade >= 18: # fica a aceita idades negativas?\n",
        "  \n",
        "    tot18 += 1\n",
        "  if sexo == 'M':\n",
        "    totH += 1\n",
        "  if sexo == 'F' and idade < 20:\n",
        "    totM20 += 1\n",
        "  resp = ' '\n",
        "  while resp not in 'SN':\n",
        "    resp = str(input('Quer continuar? [S/N] ')).strip().upper()[0]\n",
        "  if resp == 'N': \n",
        "    break # não usei break, ao invês coloquei o 0\n",
        "print(f'Total de pessoas com mais de 18 anos: {tot18}')\n",
        "print(f'Ao todo temos {totH} homens cadastrados')\n",
        "print(f'E temos {totM20} mulheres com menos de 20 anos')"
      ],
      "metadata": {
        "colab": {
          "base_uri": "https://localhost:8080/"
        },
        "id": "qqkEJUstqRlk",
        "outputId": "5cfef94f-6877-4e97-aeb3-3532f9a0485c"
      },
      "execution_count": 20,
      "outputs": [
        {
          "output_type": "stream",
          "name": "stdout",
          "text": [
            "Idade: -19\n",
            "Sexo: [M/F]f\n",
            "Quer continuar? [S/N] s\n",
            "Idade: -7\n",
            "Sexo: [M/F]M\n",
            "Quer continuar? [S/N] n\n",
            "Total de pessoas com mais de 18 anos: 0\n",
            "Ao todo temos 1 homens cadastrados\n",
            "E temos 1 mulheres com menos de 20 anos\n"
          ]
        }
      ]
    },
    {
      "cell_type": "markdown",
      "source": [
        "# Desafio 70\n",
        "\n",
        "Crie um programa que leia o **nome** e o **preço** de **vários produtos**. O programa deverá perguntar se o **usuário** vai continuar. No final, mostre:\n",
        "\n",
        "**A)** Qual é o **total gasto** na compra.\n",
        "\n",
        "**B)** Quantos produtos custam **mais** de **R$1000**.\n",
        "\n",
        "**C)** Qual é o **nome** do produto mais **barato**. \n",
        "\n"
      ],
      "metadata": {
        "id": "TohjnrwMGdbl"
      }
    },
    {
      "cell_type": "code",
      "source": [
        "tot = exp = 0\n",
        "price = float(input(' Product price: R$'))#Say the product price: '))\n",
        "name = str(input(' Please, product name: \\n'))#, say product name: \\n'))\n",
        "cheap = price\n",
        "cheapest = name #1 ele colocou tudo junto, em troca de acrescentar um contador! para o primeiro product!!\n",
        "continuing = 'Y'\n",
        "while continuing in 'YN':\n",
        "  tot += price\n",
        "  if price > 1000:\n",
        "    exp += 1\n",
        "  if price < cheap:\n",
        "    cheap = price\n",
        "    cheapest = name\n",
        "  continuing = str(input('\\n Continuing Yes or No ')).strip().upper()[0]\n",
        "  while continuing not in 'YN':\n",
        "    continuing = str(input(' Continuing Yes or No ')).strip().upper()[0]\n",
        "  if continuing == 'N':\n",
        "      break\n",
        "  price = float(input('\\n\\n Product price: R$'))\n",
        "  name = str(input(' Please, product name: \\n'))\n",
        "print(f' ___________________ END ______________________\\nThe total cost is {tot}\\n There are {exp} products with cost > R$1000 ! \\n The product more cheaper is {cheapest}!')"
      ],
      "metadata": {
        "colab": {
          "base_uri": "https://localhost:8080/"
        },
        "id": "9TwiK5-2Jurf",
        "outputId": "b0e43c4d-f948-483a-c082-1d3a8c7bb703"
      },
      "execution_count": 33,
      "outputs": [
        {
          "output_type": "stream",
          "name": "stdout",
          "text": [
            " Product price: R$89\n",
            " Please, product name: \n",
            "cARACOL\n",
            "\n",
            " Continuing Yes or No nocan\n",
            " ___________________ END ______________________The total cost is 89.0\n",
            " There are 0 products with cost > R$1000 ! \n",
            " The product more cheaper is cARACOL!\n"
          ]
        }
      ]
    },
    {
      "cell_type": "code",
      "source": [
        "'Yes'.strip().upper()[0]"
      ],
      "metadata": {
        "colab": {
          "base_uri": "https://localhost:8080/",
          "height": 35
        },
        "id": "svI9ZWrsMKxu",
        "outputId": "ef1ddac9-be8b-4254-903b-7be5f569c270"
      },
      "execution_count": 98,
      "outputs": [
        {
          "output_type": "execute_result",
          "data": {
            "text/plain": [
              "'Y'"
            ],
            "application/vnd.google.colaboratory.intrinsic+json": {
              "type": "string"
            }
          },
          "metadata": {},
          "execution_count": 98
        }
      ]
    },
    {
      "cell_type": "code",
      "source": [
        "' yes Motherfucker ! '.strip().upper()[0]"
      ],
      "metadata": {
        "colab": {
          "base_uri": "https://localhost:8080/",
          "height": 35
        },
        "id": "e_r4nEBOMSSP",
        "outputId": "409147d1-d211-440b-aa12-7fa6148275ba"
      },
      "execution_count": 101,
      "outputs": [
        {
          "output_type": "execute_result",
          "data": {
            "text/plain": [
              "'Y'"
            ],
            "application/vnd.google.colaboratory.intrinsic+json": {
              "type": "string"
            }
          },
          "metadata": {},
          "execution_count": 101
        }
      ]
    },
    {
      "cell_type": "code",
      "source": [
        "# Solution by Gustavo Guanabara  Mto bom 2 dicas interessantes, esperteza!\n",
        "total = totmil = cont = menor = 0 # qual é o produto mais barato e depois o nome dele\n",
        "while True: \n",
        "  produto = str(input('Nome do Produto: '))\n",
        "  preço = float(input('Preço: R$ '))\n",
        "  cont += 1\n",
        "  total += preço\n",
        "  if preço > 1000:\n",
        "    totmil += 1\n",
        "  if cont == 1 or preço < menor: # NÃO COLOCAR gambiarra de menor_preço = 999, o primeiro coloca sempre o min = 1º produto! .. é um do, do while (na prática)\n",
        "    menor = preço\n",
        "    barato = produto\n",
        "  # else:\n",
        "  #   if preço < menor:\n",
        "  #     menor = preço\n",
        "  #     barato = produto\n",
        "  resp = ' ' #2 como ele obriga a mudar e a entrar no ciclo que depois impõe a (formato) começar em Y ou N..\n",
        "  while resp not in 'SN':\n",
        "    resp = str(input('Quer continuar? [S/N] ')).strip().upper()[0]\n",
        "  if resp == 'N':\n",
        "    break\n",
        "print('{:-^40}'.format(' FIM DO PROGRAMA '))\n",
        "#print(' FIM DO PROGRAMA ')\n",
        "print(f'O total da compra foi R${total:.2f}')\n",
        "print(f'Temos {totmil} produtos custando mais de R$1000.00')\n",
        "print(f'O produto mais barato foi {barato} que custa R${menor:.2f}')\n"
      ],
      "metadata": {
        "colab": {
          "base_uri": "https://localhost:8080/"
        },
        "id": "IoOG9c140hrz",
        "outputId": "44ade407-1323-4db2-d200-df66eba5c059"
      },
      "execution_count": 35,
      "outputs": [
        {
          "output_type": "stream",
          "name": "stdout",
          "text": [
            "Nome do Produto: Caju\n",
            "Preço: R$33\n",
            "Quer continuar? [S/N] n\n",
            "----------- FIM DO PROGRAMA ------------\n",
            "O total da compra foi R$33.00\n",
            "Temos 0 produtos custando mais de R$1000.00\n",
            "O produto mais barato foi Caju que custa R$33.00\n"
          ]
        }
      ]
    },
    {
      "cell_type": "markdown",
      "source": [
        "# Desafio 071\n",
        "\n",
        "Crie um programa que simule o funcionamento de um **caixa electrônico**. No início, pergunte ao usuário qual será o **valor a ser sacado** (número inteiro) e o programa vai informar quantas **cédulas** de cada valor serão entregues.\n",
        "\n",
        "**OBS:** Considere que o caixa possui cédulas de R$50, R$20 , R$10 e R$1."
      ],
      "metadata": {
        "id": "RCOcujwHVW26"
      }
    },
    {
      "cell_type": "code",
      "source": [
        "ast = '*'\n",
        "print(f'{ast*20} SIBS ATM ********************* \\n\\n')\n",
        "value = int(input(' Please, how much money do you need: '))\n",
        "b50 = b20 = b10 = c1 = 0  # ninguém saca centavos da caixa electronico\n",
        "money = value\n",
        "while money > 0: \n",
        "  # dividir \\ sera mais fácil... divisão inteira\n",
        "  while money > 50:\n",
        "    money -= 50\n",
        "    b50 += 1\n",
        "  while money > 20: # se pusesse encadeado, mais demorado... para que complicar ...\n",
        "    money -= 20 \n",
        "    b20 += 1\n",
        "  while money > 10: # and b10A > 0 ... pensando que haverá sempre notas\n",
        "    money -= 10\n",
        "    b10 += 1\n",
        "  while money > 0:\n",
        "    money -= 1\n",
        "    c1 += 1\n",
        "  print(f'{value} = \\n{b50} R$50\\n{b20} R$20\\n{b10} R$10\\n{c1} R$1')\n",
        "print(f'{ast*10} Volte Sempre! {ast*10}')"
      ],
      "metadata": {
        "colab": {
          "base_uri": "https://localhost:8080/"
        },
        "id": "Pad5TbCnV-qm",
        "outputId": "6c18e391-c614-438b-ce83-9bb8ea5cf1dc"
      },
      "execution_count": 123,
      "outputs": [
        {
          "output_type": "stream",
          "name": "stdout",
          "text": [
            "******************** SIBS ATM ********************* \n",
            "\n",
            "\n",
            " Please, how much money do you need: 342\n",
            "342 = \n",
            "6 R$50\n",
            "2 R$20\n",
            "0 R$10\n",
            "2 R$1\n",
            "********** Volte Sempre! **********\n"
          ]
        }
      ]
    },
    {
      "cell_type": "code",
      "source": [
        "money = value # solução minha inteligente!\n",
        "\n",
        "while money > 0:\n",
        "\n",
        "  b50 = money // 50 #/ 50\n",
        "  money = money % 50\n",
        "\n",
        "  b20 = money // 20\n",
        "  money = money % 20\n",
        "\n",
        "  b10 = money // 10\n",
        "  money = money % 10\n",
        "\n",
        "  c1 = money // 1\n",
        "  money -= c1\n",
        "  if money == 0:\n",
        "    print(f'{value} = \\n{b50} R$50\\n{b20} R$20\\n{b10} R$10\\n{c1} R$1')\n",
        "  else:\n",
        "    print(f'Nota de crédito {money}, sem numerário para si! ')\n",
        "  break\n",
        "print(f'{ast*10} Volte Sempre! {ast*10}') # negativos, digo : esta máquina não aceita depósitos"
      ],
      "metadata": {
        "colab": {
          "base_uri": "https://localhost:8080/"
        },
        "id": "u8uO5a11pY9T",
        "outputId": "69159508-83ba-4678-cc2f-f98c9f9d711c"
      },
      "execution_count": 127,
      "outputs": [
        {
          "output_type": "stream",
          "name": "stdout",
          "text": [
            "342 = \n",
            "6 R$50\n",
            "2 R$20\n",
            "0 R$10\n",
            "2 R$1\n",
            "********** Volte Sempre! **********\n"
          ]
        }
      ]
    },
    {
      "cell_type": "code",
      "source": [
        "print('*' * 30)\n",
        "print('{:^30}'.format('Caixa ATM'))\n",
        "print('*' * 30)\n",
        "montante = int(input(' Qtd dinheiro: '))\n",
        "nota = 50\n",
        "while montante > 0:\n",
        "  qtd = montante // nota\n",
        "  print(f'Total de {qtd} cédulas de R${nota}')\n",
        "  montante = montante % nota\n",
        "  if nota == 50: # 50 -> 20 -> 10 -> 1\n",
        "    nota = 20\n",
        "  elif nota == 20:\n",
        "    nota = 10\n",
        "  elif nota == 10:\n",
        "    nota = 1\n",
        "  else:\n",
        "    break\n",
        "print('{:^30}'.format('Operação chegou ao Fim, Volte Sempre!'))\n"
      ],
      "metadata": {
        "colab": {
          "base_uri": "https://localhost:8080/"
        },
        "id": "Wrcorcu4ozUZ",
        "outputId": "4e7cb5ae-b9f4-42e0-9a3f-c8e0c51f84e8"
      },
      "execution_count": 39,
      "outputs": [
        {
          "output_type": "stream",
          "name": "stdout",
          "text": [
            "******************************\n",
            "          Caixa ATM           \n",
            "******************************\n",
            " Qtd dinheiro: 238\n",
            "Total de 4 cédulas de R$50\n",
            "Total de 1 cédulas de R$20\n",
            "Total de 1 cédulas de R$10\n",
            "Total de 8 cédulas de R$1\n",
            "Operação chegou ao Fim, Volte Sempre!\n"
          ]
        }
      ]
    },
    {
      "cell_type": "code",
      "source": [
        "# Solution by Gustavo Guanabara  [ consistente e flexível] dá para acrescentar mais notas etc\n",
        "\n",
        "print('=' * 30)\n",
        "print('{:^30}'.format('BANCO CEV'))\n",
        "print('=' * 30)\n",
        "valor = int(input('Que valor voçê quer sacar? R$'))\n",
        "total = valor\n",
        "céd = 50\n",
        "totcéd = 0\n",
        "while True:\n",
        "  if total >= céd:\n",
        "      total -= céd\n",
        "      totcéd += 1\n",
        "  else:\n",
        "    if totcéd > 0:\n",
        "      print(f'Total de {totcéd} cédulas de R${céd}')\n",
        "    if céd == 50: # está sempre a fazer intercâmbio do valor da variável. ... e depois com a imprime? é um ciclo de impressão com valores diferentes\n",
        "        céd = 20\n",
        "    elif céd == 20:\n",
        "        céd = 10\n",
        "    elif céd == 10:\n",
        "      céd = 1\n",
        "    totcéd = 0\n",
        "    if total == 0:\n",
        "      break\n",
        "print('=' * 30)\n",
        "print('Volte sempre ao BANCO CEV! Tenha um bom dia!')"
      ],
      "metadata": {
        "colab": {
          "base_uri": "https://localhost:8080/"
        },
        "id": "xUKQenZFVWSE",
        "outputId": "6c7b413f-f915-4081-c56e-776059f4a54e"
      },
      "execution_count": 36,
      "outputs": [
        {
          "output_type": "stream",
          "name": "stdout",
          "text": [
            "==============================\n",
            "          BANCO CEV           \n",
            "==============================\n",
            "Que valor voçê quer sacar? R$125\n",
            "Total de 2 cédulas de R$50\n",
            "Total de 1 cédulas de R$20\n",
            "Total de 5 cédulas de R$1\n"
          ]
        }
      ]
    },
    {
      "cell_type": "code",
      "source": [
        "n = \"Ola\"\n",
        "m = \"key\""
      ],
      "metadata": {
        "id": "-koJRAlVxvh1"
      },
      "execution_count": 40,
      "outputs": []
    },
    {
      "cell_type": "code",
      "source": [
        "n[0] in 'aeiou'.upper()"
      ],
      "metadata": {
        "colab": {
          "base_uri": "https://localhost:8080/"
        },
        "id": "lULMN3c2x3sA",
        "outputId": "01c9c47b-9b54-4f1d-a4fa-8f52d253426a"
      },
      "execution_count": 43,
      "outputs": [
        {
          "output_type": "execute_result",
          "data": {
            "text/plain": [
              "True"
            ]
          },
          "metadata": {},
          "execution_count": 43
        }
      ]
    },
    {
      "cell_type": "code",
      "source": [
        "'''variável composta: tuplas, lista, dicionário\n",
        "\n",
        "strings, fatiamento... dentro do pyython tmb funciona ..., \n",
        "\n",
        "colchetes, durante o fatiamento ... divisão\n",
        "\n",
        "\n",
        "lanche -1 começa no fim!\n",
        "estruturas de repetição, ...\n",
        "\n",
        "iteração da estrutura\n",
        "\n",
        "\n",
        "for com o range e para coleções (variáveis compostas como a tupla).\n",
        "\n",
        "termo : as tuplas são imutáveis... não é possível trocar (tirar o pudim da tuplas. fica assim durante o programa diferente!)'''\n"
      ],
      "metadata": {
        "colab": {
          "base_uri": "https://localhost:8080/",
          "height": 53
        },
        "id": "j3LMpqL8eU6u",
        "outputId": "ab30fd1b-a878-48ab-b4ed-64f1678cb9d2"
      },
      "execution_count": 1,
      "outputs": [
        {
          "output_type": "execute_result",
          "data": {
            "text/plain": [
              "'variável composta: tuplas, lista, dicionário\\n\\nstrings, fatiamento... dentro do pyython tmb funciona ..., \\n\\ncolchetes, durante o fatiamento ... divisão\\n\\n\\nlanche -1 começa no fim!\\nestruturas de repetição, ...\\n\\niteração da estrutura\\n\\n\\nfor com o range e para coleções (variáveis compostas como a tupla).\\n\\ntermo : as tuplas são imutáveis... não é possível trocar (tirar o pudim da tuplas. fica assim durante o programa diferente!)'"
            ],
            "application/vnd.google.colaboratory.intrinsic+json": {
              "type": "string"
            }
          },
          "metadata": {},
          "execution_count": 1
        }
      ]
    },
    {
      "cell_type": "code",
      "source": [
        "'''\n",
        "3 tipos de variáveis compostas:\n",
        "tuple      <- ()  # entender cada uma delas (o que pode ser feito com elas) e as diferenças entre as v.c\n",
        "list       <- [] # colchete\n",
        "dictionary <- {}\n",
        "'''\n",
        "\n",
        "lanche = 2 # variável, é um espaço na memória, simples\n",
        "lanche = 3 # substitui o que estava na memória\n",
        "\n",
        "lanche = (1,3,2,4) # 3 possibilidades de armazenar 4 valores numa variável (composta, em forma de tuple, list or dictionary)\n",
        "\n",
        "# fatiamento, como aconteceu com as strings\n",
        "\n",
        "# analogia as strings, que tmb já são variáveis compostas (manipulação), funcionar antes da aula...\n",
        "lanche[0] # elementos diferentes, como posso acessar a esses elementos da tupla ...? através dos índices\n",
        "# manipulação das strings, através do fatiamento!"
      ],
      "metadata": {
        "colab": {
          "base_uri": "https://localhost:8080/"
        },
        "id": "ty-WqYW_fR2D",
        "outputId": "fa2cda19-6251-4bf2-d4eb-d609c3362972"
      },
      "execution_count": 4,
      "outputs": [
        {
          "output_type": "execute_result",
          "data": {
            "text/plain": [
              "1"
            ]
          },
          "metadata": {},
          "execution_count": 4
        }
      ]
    },
    {
      "cell_type": "code",
      "source": [
        "lanche\n",
        "lanche[0:2] # exclui o index 2 que é o 3º elemento\n",
        "lanche[1:] # 1: écomece no 1 e vai até ao final, fatiamento simples\n",
        "lanche[-1] # último elemento (começa no final quando tem menos)\n",
        "len(lanche) # size, repetições while, while TRUE infinito + break para interromper, for\n",
        "\n",
        "for c in lanche: # implica a iteração, em relação ao C\n",
        "  print(c) # for utilizando com o método range bem como em tupla etc. este 4 são os índexes 0,1,2,3"
      ],
      "metadata": {
        "colab": {
          "base_uri": "https://localhost:8080/"
        },
        "id": "-C6p8ITmiOee",
        "outputId": "e33240a5-47d5-4007-9603-50eb3112e654"
      },
      "execution_count": 8,
      "outputs": [
        {
          "output_type": "stream",
          "name": "stdout",
          "text": [
            "1\n",
            "3\n",
            "2\n",
            "4\n"
          ]
        }
      ]
    },
    {
      "cell_type": "code",
      "source": [
        "# tuplas são imutáveis, não conseguimos mudar a tupla ... só correndo de novo o programa\n",
        "\n",
        "#lanche = 'Hambúrguer'\n",
        "#lanche = 'Suco'\n",
        "\n",
        "# lanche = ('Hambúrguer') # a partir do python 3.5 nem precisamosde colocar parentisis ... ora teste na linha abaixo\n",
        "lanche = 'Hambúrguer', 'Suco', 'Pizza', 'Pudim'\n",
        "lanche = ('Hambúrguer', 'Suco', 'Pizza', 'Pudim')\n",
        "print(lanche[1])\n",
        "print(lanche[-2])\n",
        "print(lanche[1:3]) # desconsidera o último elemento, mostra um pedaço da tupla\n",
        "print(lanche[2:])\n",
        "print(lanche[:2]) # mostra os elementos c/ indexes 0 e 1\n",
        "print(lanche[-4:-2]) # pensar na vírgulas com interregnios , contar as vírgulas como se fizessem barreiras e as últimas são os próprios colchetes. Isto mais útil quando são : pedaços, mas ele por norma segue para a direita -2: conta 2 vírgulas a contar do final e depois vai até ao final (mesmo caminho.); se for :-2 é do início e depois começa a contar do fim até 2 virgulas e highlited o que está no meio!\n",
        "print(lanche[-2:])"
      ],
      "metadata": {
        "colab": {
          "base_uri": "https://localhost:8080/"
        },
        "id": "TzCzRcrrmyQT",
        "outputId": "d0836b18-1c66-4d1f-ffab-21462395cfd8"
      },
      "execution_count": 22,
      "outputs": [
        {
          "output_type": "stream",
          "name": "stdout",
          "text": [
            "Suco\n",
            "Pizza\n",
            "('Suco', 'Pizza')\n",
            "('Pizza', 'Pudim')\n",
            "('Hambúrguer', 'Suco')\n",
            "('Hambúrguer', 'Suco')\n",
            "('Pizza', 'Pudim')\n"
          ]
        }
      ]
    },
    {
      "cell_type": "code",
      "source": [
        "lanche[-3:]"
      ],
      "metadata": {
        "colab": {
          "base_uri": "https://localhost:8080/"
        },
        "id": "TE3IINI169SO",
        "outputId": "b902b006-3058-4859-9fde-d936574fb4dc"
      },
      "execution_count": 32,
      "outputs": [
        {
          "output_type": "execute_result",
          "data": {
            "text/plain": [
              "('Suco', 'Pizza', 'Pudim')"
            ]
          },
          "metadata": {},
          "execution_count": 32
        }
      ]
    },
    {
      "cell_type": "code",
      "source": [
        "lanche[:-2]\n",
        "lanche[:-3] # mostra a vírfula, que interessante!"
      ],
      "metadata": {
        "colab": {
          "base_uri": "https://localhost:8080/"
        },
        "id": "8gVQKBVprWtV",
        "outputId": "18a0bf18-935a-4dd6-c7b5-b342a0a987a7"
      },
      "execution_count": 29,
      "outputs": [
        {
          "output_type": "execute_result",
          "data": {
            "text/plain": [
              "('Hambúrguer',)"
            ]
          },
          "metadata": {},
          "execution_count": 29
        }
      ]
    },
    {
      "cell_type": "code",
      "source": [
        "print(lanche[0:5]) # funciona igual .."
      ],
      "metadata": {
        "colab": {
          "base_uri": "https://localhost:8080/"
        },
        "id": "_e_Rycgongyq",
        "outputId": "232edfbf-4996-4576-dde4-e1b61f88a1b3"
      },
      "execution_count": 24,
      "outputs": [
        {
          "output_type": "stream",
          "name": "stdout",
          "text": [
            "('Hambúrguer', 'Suco', 'Pizza', 'Pudim')\n"
          ]
        }
      ]
    },
    {
      "cell_type": "code",
      "source": [
        "# Tuplas são imutáveis\n",
        "\n",
        "# lanche[1] = 'Refrigerante' # TypeError: 'tuple' object does not support item assignment\n",
        "print(lanche[1])\n",
        "\n",
        "for comida in lanche:\n",
        "  print(f'Eu vou comer {comida}')#lanche[1]}')\n",
        "print('Comi pra Caramba!')"
      ],
      "metadata": {
        "colab": {
          "base_uri": "https://localhost:8080/"
        },
        "id": "Lppqh7b47WHh",
        "outputId": "1770abee-c218-4ea2-c9bc-c390ca89e2ee"
      },
      "execution_count": 41,
      "outputs": [
        {
          "output_type": "stream",
          "name": "stdout",
          "text": [
            "Suco\n",
            "Eu vou comer Hambúrguer\n",
            "Eu vou comer Suco\n",
            "Eu vou comer Pizza\n",
            "Eu vou comer Pudim\n",
            "Comi pra Caramba!\n"
          ]
        }
      ]
    },
    {
      "cell_type": "code",
      "source": [
        "lanche = ('Hambúrguer', 'Suco', 'Batata Frita', 'Pizza', 'Pudim')\n",
        "\n",
        "for cont in range(0, len(lanche)):\n",
        "  print(f' Vou comer {lanche[cont]} na posição {cont}')  "
      ],
      "metadata": {
        "colab": {
          "base_uri": "https://localhost:8080/"
        },
        "id": "NQm2B1a38nf1",
        "outputId": "01af72bf-6c11-4d15-cbca-12160e25d4af"
      },
      "execution_count": 43,
      "outputs": [
        {
          "output_type": "stream",
          "name": "stdout",
          "text": [
            " Vou comer Hambúrguer na posição 0\n",
            " Vou comer Suco na posição 1\n",
            " Vou comer Batata Frita na posição 2\n",
            " Vou comer Pizza na posição 3\n",
            " Vou comer Pudim na posição 4\n"
          ]
        }
      ]
    },
    {
      "cell_type": "code",
      "source": [
        "del index, element"
      ],
      "metadata": {
        "colab": {
          "base_uri": "https://localhost:8080/",
          "height": 130
        },
        "id": "096RmGlzEyQv",
        "outputId": "86aca58c-be65-471a-e20d-3e8063d934cc"
      },
      "execution_count": 6,
      "outputs": [
        {
          "output_type": "error",
          "ename": "SyntaxError",
          "evalue": "ignored",
          "traceback": [
            "\u001b[0;36m  File \u001b[0;32m\"<ipython-input-6-362a9a8d5f0e>\"\u001b[0;36m, line \u001b[0;32m1\u001b[0m\n\u001b[0;31m    del index, element(lanche):\u001b[0m\n\u001b[0m                              ^\u001b[0m\n\u001b[0;31mSyntaxError\u001b[0m\u001b[0;31m:\u001b[0m invalid syntax\n"
          ]
        }
      ]
    },
    {
      "cell_type": "code",
      "source": [
        "lanche = ('Hambúrguer', 'Suco', 'Batata Frita', 'Pizza', 'Pudim')\n",
        "\n",
        "for index, element in enumerate(lanche):\n",
        "  print(f' Vou comer {element} na posição {index}')  # enumerate retorna ... "
      ],
      "metadata": {
        "colab": {
          "base_uri": "https://localhost:8080/"
        },
        "id": "Yr2KfZz79TTU",
        "outputId": "39a443c0-2f1b-44c8-d4ef-e42220b7a3d9"
      },
      "execution_count": 9,
      "outputs": [
        {
          "output_type": "stream",
          "name": "stdout",
          "text": [
            " Vou comer Hambúrguer na posição 0\n",
            " Vou comer Suco na posição 1\n",
            " Vou comer Batata Frita na posição 2\n",
            " Vou comer Pizza na posição 3\n",
            " Vou comer Pudim na posição 4\n"
          ]
        }
      ]
    },
    {
      "cell_type": "code",
      "source": [
        "for pos, comida in enumerate(lanche):\n",
        "  print(f'Eu vou comer {comida} na posição {pos}')"
      ],
      "metadata": {
        "colab": {
          "base_uri": "https://localhost:8080/"
        },
        "id": "sAW5DkPc6HQ0",
        "outputId": "6d02249b-6744-46b3-d587-76dacd822388"
      },
      "execution_count": 10,
      "outputs": [
        {
          "output_type": "stream",
          "name": "stdout",
          "text": [
            "Eu vou comer Hambúrguer na posição 0\n",
            "Eu vou comer Suco na posição 1\n",
            "Eu vou comer Batata Frita na posição 2\n",
            "Eu vou comer Pizza na posição 3\n",
            "Eu vou comer Pudim na posição 4\n"
          ]
        }
      ]
    },
    {
      "cell_type": "code",
      "source": [
        "name_list = ['Jane', 'John', 'Mike']\n",
        "list(enumerate(name_list))"
      ],
      "metadata": {
        "colab": {
          "base_uri": "https://localhost:8080/"
        },
        "id": "KmwNEhCD8AkM",
        "outputId": "74412ab2-a726-4a69-b010-24c5a139f0af"
      },
      "execution_count": 47,
      "outputs": [
        {
          "output_type": "execute_result",
          "data": {
            "text/plain": [
              "[(0, 'Jane'), (1, 'John'), (2, 'Mike')]"
            ]
          },
          "metadata": {},
          "execution_count": 47
        }
      ]
    },
    {
      "cell_type": "code",
      "source": [
        "name_list = ('Jane', 'John', 'Mike')\n",
        "list(enumerate(name_list))"
      ],
      "metadata": {
        "colab": {
          "base_uri": "https://localhost:8080/"
        },
        "id": "fVce2GUCF-Nl",
        "outputId": "89fe076e-6daa-4742-8f51-27a4daaf9567"
      },
      "execution_count": 56,
      "outputs": [
        {
          "output_type": "execute_result",
          "data": {
            "text/plain": [
              "[(0, 'Jane'), (1, 'John'), (2, 'Mike')]"
            ]
          },
          "metadata": {},
          "execution_count": 56
        }
      ]
    },
    {
      "cell_type": "code",
      "source": [
        "name = \"Eric\"\n",
        "profession = \"comedian\"\n",
        "affiliation = \"Monty Python\"\n",
        "message = (\n",
        "  f\"Hi {name}. \"\n",
        "  f\"You are a {profession}. \"\n",
        "  f\"You were in {affiliation}.\"\n",
        ")\n",
        "message"
      ],
      "metadata": {
        "colab": {
          "base_uri": "https://localhost:8080/",
          "height": 35
        },
        "id": "F6SJEhsv2IdV",
        "outputId": "e48bb6d4-35eb-4a1d-ebd7-41341f84117f"
      },
      "execution_count": 5,
      "outputs": [
        {
          "output_type": "execute_result",
          "data": {
            "text/plain": [
              "'Hi Eric. You are a comedian. You were in Monty Python.'"
            ],
            "application/vnd.google.colaboratory.intrinsic+json": {
              "type": "string"
            }
          },
          "metadata": {},
          "execution_count": 5
        }
      ]
    },
    {
      "cell_type": "code",
      "source": [
        "print(lanche)\n",
        "print(sorted(lanche)) # #não mudou#, apenas colocou em ordem! não altera simplestemente coloca em ordem\n",
        "print(lanche) # estado natural"
      ],
      "metadata": {
        "colab": {
          "base_uri": "https://localhost:8080/"
        },
        "id": "E5g7rKtO7D1B",
        "outputId": "2ff233d6-aa8c-4b8e-dd38-d830b18316a8"
      },
      "execution_count": 12,
      "outputs": [
        {
          "output_type": "stream",
          "name": "stdout",
          "text": [
            "('Hambúrguer', 'Suco', 'Batata Frita', 'Pizza', 'Pudim')\n",
            "['Batata Frita', 'Hambúrguer', 'Pizza', 'Pudim', 'Suco']\n"
          ]
        }
      ]
    },
    {
      "cell_type": "code",
      "source": [
        "a = (2,5,4)\n",
        "b = (5,8,1,2)\n",
        "print(a)\n",
        "print(b)\n",
        "c = b + a\n",
        "print(c) # junta as tuplas, a ordem tem total influência! Mais uma funcionalidade aí!\n",
        "print(len(c))\n",
        "\n",
        "print(c.count(5)) # o cinco aparece duas vezes\n",
        "print(c.count(9))\n",
        "\n",
        "print(c.index(8))# em que posição está o 8\n",
        "print(c.index(5))# vai buscar o local da 1ª ocurrência\n",
        "\n",
        "print(c.index(5,1))# se for buscar após a 1ª posição, segundo argumento da função, deslocamento segundo argumento"
      ],
      "metadata": {
        "colab": {
          "base_uri": "https://localhost:8080/"
        },
        "id": "3KGc9huY76Sn",
        "outputId": "949e5c31-849d-4ae9-88f0-fb49f0e7f7c1"
      },
      "execution_count": 23,
      "outputs": [
        {
          "output_type": "stream",
          "name": "stdout",
          "text": [
            "(2, 5, 4)\n",
            "(5, 8, 1, 2)\n",
            "(5, 8, 1, 2, 2, 5, 4)\n",
            "7\n",
            "2\n",
            "0\n",
            "1\n",
            "0\n",
            "5\n"
          ]
        }
      ]
    },
    {
      "cell_type": "code",
      "source": [
        "pessoa = (1,2,3)\n",
        "\n",
        "pessoa = ('Gustavo', 39, 'M', 99.88) # aceita vários tipos de dados, em outras linguagens não (na generalidade)/ dados de tipos diferentes na tupla\n",
        "print(pessoa)\n",
        "\n",
        "#del(pessoa[0]) #TypeError: 'tuple' object doesn't support item deletion"
      ],
      "metadata": {
        "colab": {
          "base_uri": "https://localhost:8080/",
          "height": 217
        },
        "id": "uCfJ0nQ4Hy5e",
        "outputId": "2ed87af3-934a-4175-a6d3-1cd135778991"
      },
      "execution_count": 27,
      "outputs": [
        {
          "output_type": "stream",
          "name": "stdout",
          "text": [
            "('Gustavo', 39, 'M', 99.88)\n"
          ]
        },
        {
          "output_type": "error",
          "ename": "TypeError",
          "evalue": "ignored",
          "traceback": [
            "\u001b[0;31m---------------------------------------------------------------------------\u001b[0m",
            "\u001b[0;31mTypeError\u001b[0m                                 Traceback (most recent call last)",
            "\u001b[0;32m<ipython-input-27-885f686a01b1>\u001b[0m in \u001b[0;36m<module>\u001b[0;34m()\u001b[0m\n\u001b[1;32m      4\u001b[0m \u001b[0mprint\u001b[0m\u001b[0;34m(\u001b[0m\u001b[0mpessoa\u001b[0m\u001b[0;34m)\u001b[0m\u001b[0;34m\u001b[0m\u001b[0;34m\u001b[0m\u001b[0m\n\u001b[1;32m      5\u001b[0m \u001b[0;34m\u001b[0m\u001b[0m\n\u001b[0;32m----> 6\u001b[0;31m \u001b[0;32mdel\u001b[0m\u001b[0;34m(\u001b[0m\u001b[0mpessoa\u001b[0m\u001b[0;34m[\u001b[0m\u001b[0;36m0\u001b[0m\u001b[0;34m]\u001b[0m\u001b[0;34m)\u001b[0m\u001b[0;34m\u001b[0m\u001b[0;34m\u001b[0m\u001b[0m\n\u001b[0m",
            "\u001b[0;31mTypeError\u001b[0m: 'tuple' object doesn't support item deletion"
          ]
        }
      ]
    },
    {
      "cell_type": "code",
      "source": [
        "del (pessoa)# apagar uma variável\n",
        "#pessoa # NameError: name 'pessoa' is not defined\n",
        "\n"
      ],
      "metadata": {
        "colab": {
          "base_uri": "https://localhost:8080/",
          "height": 183
        },
        "id": "in6qm8h0INjy",
        "outputId": "99944753-b72f-471a-a065-4be6cbb7400e"
      },
      "execution_count": 26,
      "outputs": [
        {
          "output_type": "error",
          "ename": "NameError",
          "evalue": "ignored",
          "traceback": [
            "\u001b[0;31m---------------------------------------------------------------------------\u001b[0m",
            "\u001b[0;31mNameError\u001b[0m                                 Traceback (most recent call last)",
            "\u001b[0;32m<ipython-input-26-619a8166fe60>\u001b[0m in \u001b[0;36m<module>\u001b[0;34m()\u001b[0m\n\u001b[0;32m----> 1\u001b[0;31m \u001b[0;32mdel\u001b[0m \u001b[0;34m(\u001b[0m\u001b[0mpessoa\u001b[0m\u001b[0;34m)\u001b[0m\u001b[0;31m# apagar uma variável\u001b[0m\u001b[0;34m\u001b[0m\u001b[0;34m\u001b[0m\u001b[0m\n\u001b[0m\u001b[1;32m      2\u001b[0m \u001b[0mpessoa\u001b[0m\u001b[0;34m\u001b[0m\u001b[0;34m\u001b[0m\u001b[0m\n",
            "\u001b[0;31mNameError\u001b[0m: name 'pessoa' is not defined"
          ]
        }
      ]
    },
    {
      "cell_type": "markdown",
      "source": [
        "# Desafio 072\n",
        "\n",
        "Crie um programa que tenha uma **tupla** totalmente prenchida com uma contagem por extenso, de **zero** até **vinte**.\n",
        "\n",
        "Seu programa deverá ler um número pelo teclado (entre 0 e 20) e mostrá-lo por **extenso**."
      ],
      "metadata": {
        "id": "PnCDu8cYIgR7"
      }
    },
    {
      "cell_type": "code",
      "source": [
        "tupla = ('zero', 'um', 'dois', 'três', 'quatro', 'cinco', 'seis', 'sete', 'oito', 'nove', 'dez', 'onze', 'doze', 'treze', 'catorze', 'quinze', 'dezesseis', 'dezassete', 'dezoito', 'dezanove', 'vinte')\n",
        "\n",
        "for seq in range(0,21):\n",
        "  print(tupla[seq])"
      ],
      "metadata": {
        "colab": {
          "base_uri": "https://localhost:8080/"
        },
        "id": "eX0RlDJ6JKw8",
        "outputId": "dfb16f09-4e34-402d-936f-7207348d2a2b"
      },
      "execution_count": 32,
      "outputs": [
        {
          "output_type": "stream",
          "name": "stdout",
          "text": [
            "zero\n",
            "um\n",
            "dois\n",
            "três\n",
            "quatro\n",
            "cinco\n",
            "seis\n",
            "sete\n",
            "oito\n",
            "nove\n",
            "dez\n",
            "onze\n",
            "doze\n",
            "treze\n",
            "catorze\n",
            "quinze\n",
            "dezesseis\n",
            "dezassete\n",
            "dezoito\n",
            "dezanove\n",
            "vinte\n"
          ]
        }
      ]
    },
    {
      "cell_type": "code",
      "source": [
        "userNum = int(input('Please, say a number in interval between [0,20]: '))\n",
        "while userNum < 0 or userNum > 20:\n",
        "  userNum = int(input('Please try again!\\n\\n Say a number in interval between [0,20]: '))\n",
        "for seq in tupla:\n",
        "  print(f'You choose {tupla[userNum]}')\n",
        "  break"
      ],
      "metadata": {
        "colab": {
          "base_uri": "https://localhost:8080/"
        },
        "id": "3c5A68DqO5E_",
        "outputId": "0dc1f58b-3670-4a7b-a3f3-e7db52a276ee"
      },
      "execution_count": 39,
      "outputs": [
        {
          "output_type": "stream",
          "name": "stdout",
          "text": [
            "Please, say a number in interval between [0,20]: 6\n",
            "You choose seis\n"
          ]
        }
      ]
    },
    {
      "cell_type": "markdown",
      "source": [
        "# Desafio 073\n",
        "\n",
        "Crie uma **tupla** preenchida com os **20 primeiros** colocados da Tabela do **Campeonato Brasileiro de Futebol**, na ordem de colocação. Depois mostre:\n",
        "\n",
        "A) Apenas os **5** **primeiros** colocados.\n",
        "\n",
        "B) Os **últimos 4** colocados da tabela.\n",
        "\n",
        "C) Uma lista com os times em **ordem alfabética**.\n",
        "\n",
        "D) Em que **posição** na tabela está o time da **Chapecoense**.\n"
      ],
      "metadata": {
        "id": "Vl5fCiHEQVGQ"
      }
    },
    {
      "cell_type": "code",
      "source": [
        "tupla = ('Palmeiras', 'Corinthians', 'Fluminense', 'Athletico-PR', 'Flamengo', 'Internacional', 'Atlético-MG', 'Bragantino', 'Santos', 'São Paulo', 'Goías', 'Botafogo', 'América-MG', 'Ceará SC', 'Coritiba', 'Avaí', 'Cuiabá', 'Fortaleza', 'Atlético-GO', 'Juventude'  )\n",
        "\n",
        "\n",
        "#A\n",
        "best = 5\n",
        "\n",
        "for clubs in enumerate()\n",
        "\n",
        "# Como não há Chapecoense, emito a mensagem que não está no Brasileirão e por exemplo a equipa tal tal está no lugar tal"
      ],
      "metadata": {
        "id": "vDmnVSV8UM7h"
      },
      "execution_count": null,
      "outputs": []
    },
    {
      "cell_type": "code",
      "source": [
        ""
      ],
      "metadata": {
        "id": "2KI__CiKS6TN"
      },
      "execution_count": null,
      "outputs": []
    }
  ]
}