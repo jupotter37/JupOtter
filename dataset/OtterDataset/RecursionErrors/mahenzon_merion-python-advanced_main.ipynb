{
 "cells": [
  {
   "cell_type": "markdown",
   "id": "7740c90e-89ba-40e0-af91-dca4ba302eee",
   "metadata": {},
   "source": [
    "## Рекурсия, стек, переполнение стека, хвостовая рекурсия\n",
    "\n",
    "в этом видео:\n",
    "- стек\n",
    "- рекурсия\n",
    "- проблемы рекурсии\n",
    "- хвостовая рекурсия"
   ]
  },
  {
   "cell_type": "code",
   "execution_count": 1,
   "id": "6034e2a7-56df-420f-a1b9-51b498c4d02a",
   "metadata": {},
   "outputs": [
    {
     "data": {
      "text/plain": [
       "15"
      ]
     },
     "execution_count": 1,
     "metadata": {},
     "output_type": "execute_result"
    }
   ],
   "source": [
    "4 + 5 + 6"
   ]
  },
  {
   "cell_type": "code",
   "execution_count": 2,
   "id": "40fee707-db46-4833-9caa-8778146064f0",
   "metadata": {},
   "outputs": [
    {
     "name": "stdout",
     "output_type": "stream",
     "text": [
      "['apple', 'banana', 'orange']\n"
     ]
    }
   ],
   "source": [
    "stack = []\n",
    "\n",
    "stack.append(\"apple\")\n",
    "stack.append(\"banana\")\n",
    "stack.append(\"orange\")\n",
    "\n",
    "print(stack)"
   ]
  },
  {
   "cell_type": "code",
   "execution_count": 3,
   "id": "702bccdb-7395-4daf-8e0b-4feadc8aba96",
   "metadata": {},
   "outputs": [
    {
     "data": {
      "text/plain": [
       "'orange'"
      ]
     },
     "execution_count": 3,
     "metadata": {},
     "output_type": "execute_result"
    }
   ],
   "source": [
    "stack.pop()"
   ]
  },
  {
   "cell_type": "code",
   "execution_count": 4,
   "id": "bac4ad72-1eee-4966-a337-81da89129913",
   "metadata": {},
   "outputs": [
    {
     "data": {
      "text/plain": [
       "['apple', 'banana']"
      ]
     },
     "execution_count": 4,
     "metadata": {},
     "output_type": "execute_result"
    }
   ],
   "source": [
    "stack"
   ]
  },
  {
   "cell_type": "code",
   "execution_count": 5,
   "id": "0c8de51e-20c9-4160-be2d-34a5f1ac8da3",
   "metadata": {},
   "outputs": [
    {
     "data": {
      "text/plain": [
       "'banana'"
      ]
     },
     "execution_count": 5,
     "metadata": {},
     "output_type": "execute_result"
    }
   ],
   "source": [
    "stack.pop()"
   ]
  },
  {
   "cell_type": "code",
   "execution_count": 6,
   "id": "7278bef8-4460-4c57-ac4b-a56491564db7",
   "metadata": {},
   "outputs": [
    {
     "data": {
      "text/plain": [
       "['apple']"
      ]
     },
     "execution_count": 6,
     "metadata": {},
     "output_type": "execute_result"
    }
   ],
   "source": [
    "stack"
   ]
  },
  {
   "cell_type": "code",
   "execution_count": 7,
   "id": "3ad6f482-f44e-4501-855c-60fa5943dd01",
   "metadata": {},
   "outputs": [
    {
     "data": {
      "text/plain": [
       "['apple', 'peach']"
      ]
     },
     "execution_count": 7,
     "metadata": {},
     "output_type": "execute_result"
    }
   ],
   "source": [
    "stack.append(\"peach\")\n",
    "stack"
   ]
  },
  {
   "cell_type": "code",
   "execution_count": 8,
   "id": "47fc815f-290e-44f8-88ab-3b2a3aa82500",
   "metadata": {},
   "outputs": [
    {
     "data": {
      "text/plain": [
       "'peach'"
      ]
     },
     "execution_count": 8,
     "metadata": {},
     "output_type": "execute_result"
    }
   ],
   "source": [
    "stack.pop()"
   ]
  },
  {
   "cell_type": "code",
   "execution_count": 9,
   "id": "8f8142d1-9eb9-4072-94be-13ae532717cf",
   "metadata": {},
   "outputs": [
    {
     "data": {
      "text/plain": [
       "'apple'"
      ]
     },
     "execution_count": 9,
     "metadata": {},
     "output_type": "execute_result"
    }
   ],
   "source": [
    "stack.pop()"
   ]
  },
  {
   "cell_type": "code",
   "execution_count": 10,
   "id": "9f1d5f69-d35c-4481-bd93-a19f62d621dd",
   "metadata": {},
   "outputs": [
    {
     "data": {
      "text/plain": [
       "[]"
      ]
     },
     "execution_count": 10,
     "metadata": {},
     "output_type": "execute_result"
    }
   ],
   "source": [
    "stack"
   ]
  },
  {
   "cell_type": "code",
   "execution_count": 11,
   "id": "6194674a-ac4e-4f1f-81d3-b8575918e4bb",
   "metadata": {},
   "outputs": [
    {
     "ename": "ZeroDivisionError",
     "evalue": "division by zero",
     "output_type": "error",
     "traceback": [
      "\u001b[0;31m---------------------------------------------------------------------------\u001b[0m",
      "\u001b[0;31mZeroDivisionError\u001b[0m                         Traceback (most recent call last)",
      "Cell \u001b[0;32mIn[11], line 11\u001b[0m\n\u001b[1;32m      7\u001b[0m \u001b[38;5;28;01mdef\u001b[39;00m \u001b[38;5;21mrun\u001b[39m():\n\u001b[1;32m      8\u001b[0m     bar()\n\u001b[0;32m---> 11\u001b[0m \u001b[43mrun\u001b[49m\u001b[43m(\u001b[49m\u001b[43m)\u001b[49m\n",
      "Cell \u001b[0;32mIn[11], line 8\u001b[0m, in \u001b[0;36mrun\u001b[0;34m()\u001b[0m\n\u001b[1;32m      7\u001b[0m \u001b[38;5;28;01mdef\u001b[39;00m \u001b[38;5;21mrun\u001b[39m():\n\u001b[0;32m----> 8\u001b[0m     \u001b[43mbar\u001b[49m\u001b[43m(\u001b[49m\u001b[43m)\u001b[49m\n",
      "Cell \u001b[0;32mIn[11], line 5\u001b[0m, in \u001b[0;36mbar\u001b[0;34m()\u001b[0m\n\u001b[1;32m      4\u001b[0m \u001b[38;5;28;01mdef\u001b[39;00m \u001b[38;5;21mbar\u001b[39m():\n\u001b[0;32m----> 5\u001b[0m     \u001b[43mfoo\u001b[49m\u001b[43m(\u001b[49m\u001b[43m)\u001b[49m\n",
      "Cell \u001b[0;32mIn[11], line 2\u001b[0m, in \u001b[0;36mfoo\u001b[0;34m()\u001b[0m\n\u001b[1;32m      1\u001b[0m \u001b[38;5;28;01mdef\u001b[39;00m \u001b[38;5;21mfoo\u001b[39m():\n\u001b[0;32m----> 2\u001b[0m     \u001b[38;5;241;43m1\u001b[39;49m\u001b[43m \u001b[49m\u001b[38;5;241;43m/\u001b[39;49m\u001b[43m \u001b[49m\u001b[38;5;241;43m0\u001b[39;49m\n",
      "\u001b[0;31mZeroDivisionError\u001b[0m: division by zero"
     ]
    }
   ],
   "source": [
    "def foo():\n",
    "    1 / 0\n",
    "\n",
    "def bar():\n",
    "    foo()\n",
    "\n",
    "def run():\n",
    "    bar()\n",
    "\n",
    "\n",
    "run()"
   ]
  },
  {
   "cell_type": "code",
   "execution_count": 12,
   "id": "34a8070d-8f94-459a-beef-68a9e62cdf93",
   "metadata": {},
   "outputs": [],
   "source": [
    "def fac(n):\n",
    "    if n <= 2:\n",
    "        return n\n",
    "    return n * fac(n - 1)"
   ]
  },
  {
   "cell_type": "code",
   "execution_count": 13,
   "id": "c08e1909-f78e-4d71-b24e-c9d52fba464f",
   "metadata": {},
   "outputs": [
    {
     "data": {
      "text/plain": [
       "6"
      ]
     },
     "execution_count": 13,
     "metadata": {},
     "output_type": "execute_result"
    }
   ],
   "source": [
    "fac(3)"
   ]
  },
  {
   "cell_type": "code",
   "execution_count": 14,
   "id": "e1594d81-a7a4-41ab-b64f-bbc43759fcef",
   "metadata": {},
   "outputs": [
    {
     "data": {
      "text/plain": [
       "24"
      ]
     },
     "execution_count": 14,
     "metadata": {},
     "output_type": "execute_result"
    }
   ],
   "source": [
    "fac(4)"
   ]
  },
  {
   "cell_type": "code",
   "execution_count": 15,
   "id": "9ca5b4d4-85b9-4c1a-912f-c54bad852daa",
   "metadata": {},
   "outputs": [
    {
     "data": {
      "text/plain": [
       "3628800"
      ]
     },
     "execution_count": 15,
     "metadata": {},
     "output_type": "execute_result"
    }
   ],
   "source": [
    "fac(10)"
   ]
  },
  {
   "cell_type": "code",
   "execution_count": 16,
   "id": "d4bfd0df-d416-4ce1-9db2-f15335efc2b4",
   "metadata": {},
   "outputs": [
    {
     "data": {
      "text/plain": [
       "93326215443944152681699238856266700490715968264381621468592963895217599993229915608941463976156518286253697920827223758251185210916864000000000000000000000000"
      ]
     },
     "execution_count": 16,
     "metadata": {},
     "output_type": "execute_result"
    }
   ],
   "source": [
    "fac(100)"
   ]
  },
  {
   "cell_type": "code",
   "execution_count": 17,
   "id": "841cf350-a7a4-4f3d-8c88-274ce365786e",
   "metadata": {},
   "outputs": [
    {
     "data": {
      "text/plain": [
       "402387260077093773543702433923003985719374864210714632543799910429938512398629020592044208486969404800479988610197196058631666872994808558901323829669944590997424504087073759918823627727188732519779505950995276120874975462497043601418278094646496291056393887437886487337119181045825783647849977012476632889835955735432513185323958463075557409114262417474349347553428646576611667797396668820291207379143853719588249808126867838374559731746136085379534524221586593201928090878297308431392844403281231558611036976801357304216168747609675871348312025478589320767169132448426236131412508780208000261683151027341827977704784635868170164365024153691398281264810213092761244896359928705114964975419909342221566832572080821333186116811553615836546984046708975602900950537616475847728421889679646244945160765353408198901385442487984959953319101723355556602139450399736280750137837615307127761926849034352625200015888535147331611702103968175921510907788019393178114194545257223865541461062892187960223838971476088506276862967146674697562911234082439208160153780889893964518263243671616762179168909779911903754031274622289988005195444414282012187361745992642956581746628302955570299024324153181617210465832036786906117260158783520751516284225540265170483304226143974286933061690897968482590125458327168226458066526769958652682272807075781391858178889652208164348344825993266043367660176999612831860788386150279465955131156552036093988180612138558600301435694527224206344631797460594682573103790084024432438465657245014402821885252470935190620929023136493273497565513958720559654228749774011413346962715422845862377387538230483865688976461927383814900140767310446640259899490222221765904339901886018566526485061799702356193897017860040811889729918311021171229845901641921068884387121855646124960798722908519296819372388642614839657382291123125024186649353143970137428531926649875337218940694281434118520158014123344828015051399694290153483077644569099073152433278288269864602789864321139083506217095002597389863554277196742822248757586765752344220207573630569498825087968928162753848863396909959826280956121450994871701244516461260379029309120889086942028510640182154399457156805941872748998094254742173582401063677404595741785160829230135358081840096996372524230560855903700624271243416909004153690105933983835777939410970027753472000000000000000000000000000000000000000000000000000000000000000000000000000000000000000000000000000000000000000000000000000000000000000000000000000000000000000000000000000000000000000000000000000000000000000000000000000000000000000000000000000000000"
      ]
     },
     "execution_count": 17,
     "metadata": {},
     "output_type": "execute_result"
    }
   ],
   "source": [
    "fac(1000)"
   ]
  },
  {
   "cell_type": "code",
   "execution_count": 18,
   "id": "6f713330-d1b4-41d0-a186-5aff73c6b409",
   "metadata": {},
   "outputs": [
    {
     "ename": "RecursionError",
     "evalue": "maximum recursion depth exceeded",
     "output_type": "error",
     "traceback": [
      "\u001b[0;31m---------------------------------------------------------------------------\u001b[0m",
      "\u001b[0;31mRecursionError\u001b[0m                            Traceback (most recent call last)",
      "Cell \u001b[0;32mIn[18], line 1\u001b[0m\n\u001b[0;32m----> 1\u001b[0m \u001b[43mfac\u001b[49m\u001b[43m(\u001b[49m\u001b[38;5;241;43m3000\u001b[39;49m\u001b[43m)\u001b[49m\n",
      "Cell \u001b[0;32mIn[12], line 4\u001b[0m, in \u001b[0;36mfac\u001b[0;34m(n)\u001b[0m\n\u001b[1;32m      2\u001b[0m \u001b[38;5;28;01mif\u001b[39;00m n \u001b[38;5;241m<\u001b[39m\u001b[38;5;241m=\u001b[39m \u001b[38;5;241m2\u001b[39m:\n\u001b[1;32m      3\u001b[0m     \u001b[38;5;28;01mreturn\u001b[39;00m n\n\u001b[0;32m----> 4\u001b[0m \u001b[38;5;28;01mreturn\u001b[39;00m n \u001b[38;5;241m*\u001b[39m \u001b[43mfac\u001b[49m\u001b[43m(\u001b[49m\u001b[43mn\u001b[49m\u001b[43m \u001b[49m\u001b[38;5;241;43m-\u001b[39;49m\u001b[43m \u001b[49m\u001b[38;5;241;43m1\u001b[39;49m\u001b[43m)\u001b[49m\n",
      "Cell \u001b[0;32mIn[12], line 4\u001b[0m, in \u001b[0;36mfac\u001b[0;34m(n)\u001b[0m\n\u001b[1;32m      2\u001b[0m \u001b[38;5;28;01mif\u001b[39;00m n \u001b[38;5;241m<\u001b[39m\u001b[38;5;241m=\u001b[39m \u001b[38;5;241m2\u001b[39m:\n\u001b[1;32m      3\u001b[0m     \u001b[38;5;28;01mreturn\u001b[39;00m n\n\u001b[0;32m----> 4\u001b[0m \u001b[38;5;28;01mreturn\u001b[39;00m n \u001b[38;5;241m*\u001b[39m \u001b[43mfac\u001b[49m\u001b[43m(\u001b[49m\u001b[43mn\u001b[49m\u001b[43m \u001b[49m\u001b[38;5;241;43m-\u001b[39;49m\u001b[43m \u001b[49m\u001b[38;5;241;43m1\u001b[39;49m\u001b[43m)\u001b[49m\n",
      "    \u001b[0;31m[... skipping similar frames: fac at line 4 (2971 times)]\u001b[0m\n",
      "Cell \u001b[0;32mIn[12], line 4\u001b[0m, in \u001b[0;36mfac\u001b[0;34m(n)\u001b[0m\n\u001b[1;32m      2\u001b[0m \u001b[38;5;28;01mif\u001b[39;00m n \u001b[38;5;241m<\u001b[39m\u001b[38;5;241m=\u001b[39m \u001b[38;5;241m2\u001b[39m:\n\u001b[1;32m      3\u001b[0m     \u001b[38;5;28;01mreturn\u001b[39;00m n\n\u001b[0;32m----> 4\u001b[0m \u001b[38;5;28;01mreturn\u001b[39;00m n \u001b[38;5;241m*\u001b[39m \u001b[43mfac\u001b[49m\u001b[43m(\u001b[49m\u001b[43mn\u001b[49m\u001b[43m \u001b[49m\u001b[38;5;241;43m-\u001b[39;49m\u001b[43m \u001b[49m\u001b[38;5;241;43m1\u001b[39;49m\u001b[43m)\u001b[49m\n",
      "\u001b[0;31mRecursionError\u001b[0m: maximum recursion depth exceeded"
     ]
    }
   ],
   "source": [
    "fac(3000)"
   ]
  },
  {
   "cell_type": "code",
   "execution_count": 19,
   "id": "eb0e0e3a-8ca7-4fc4-b7b8-8dabd09f8ed0",
   "metadata": {},
   "outputs": [],
   "source": [
    "from sys import getrecursionlimit"
   ]
  },
  {
   "cell_type": "code",
   "execution_count": 20,
   "id": "3af5f6f3-503f-48bd-82e8-097522997a98",
   "metadata": {},
   "outputs": [
    {
     "data": {
      "text/plain": [
       "3000"
      ]
     },
     "execution_count": 20,
     "metadata": {},
     "output_type": "execute_result"
    }
   ],
   "source": [
    "getrecursionlimit()"
   ]
  },
  {
   "cell_type": "code",
   "execution_count": 21,
   "id": "9b405558-42ee-467c-b47e-0be3bf82adb1",
   "metadata": {},
   "outputs": [],
   "source": [
    "from sys import setrecursionlimit"
   ]
  },
  {
   "cell_type": "code",
   "execution_count": 22,
   "id": "68640c63-190d-4772-8ad5-56285ac250aa",
   "metadata": {},
   "outputs": [],
   "source": [
    "setrecursionlimit(1000)"
   ]
  },
  {
   "cell_type": "code",
   "execution_count": 23,
   "id": "f00ceee9-3826-4bb2-835d-940da328ef95",
   "metadata": {},
   "outputs": [
    {
     "ename": "RecursionError",
     "evalue": "maximum recursion depth exceeded",
     "output_type": "error",
     "traceback": [
      "\u001b[0;31m---------------------------------------------------------------------------\u001b[0m",
      "\u001b[0;31mRecursionError\u001b[0m                            Traceback (most recent call last)",
      "Cell \u001b[0;32mIn[23], line 1\u001b[0m\n\u001b[0;32m----> 1\u001b[0m \u001b[43mfac\u001b[49m\u001b[43m(\u001b[49m\u001b[38;5;241;43m1000\u001b[39;49m\u001b[43m)\u001b[49m\n",
      "Cell \u001b[0;32mIn[12], line 4\u001b[0m, in \u001b[0;36mfac\u001b[0;34m(n)\u001b[0m\n\u001b[1;32m      2\u001b[0m \u001b[38;5;28;01mif\u001b[39;00m n \u001b[38;5;241m<\u001b[39m\u001b[38;5;241m=\u001b[39m \u001b[38;5;241m2\u001b[39m:\n\u001b[1;32m      3\u001b[0m     \u001b[38;5;28;01mreturn\u001b[39;00m n\n\u001b[0;32m----> 4\u001b[0m \u001b[38;5;28;01mreturn\u001b[39;00m n \u001b[38;5;241m*\u001b[39m \u001b[43mfac\u001b[49m\u001b[43m(\u001b[49m\u001b[43mn\u001b[49m\u001b[43m \u001b[49m\u001b[38;5;241;43m-\u001b[39;49m\u001b[43m \u001b[49m\u001b[38;5;241;43m1\u001b[39;49m\u001b[43m)\u001b[49m\n",
      "Cell \u001b[0;32mIn[12], line 4\u001b[0m, in \u001b[0;36mfac\u001b[0;34m(n)\u001b[0m\n\u001b[1;32m      2\u001b[0m \u001b[38;5;28;01mif\u001b[39;00m n \u001b[38;5;241m<\u001b[39m\u001b[38;5;241m=\u001b[39m \u001b[38;5;241m2\u001b[39m:\n\u001b[1;32m      3\u001b[0m     \u001b[38;5;28;01mreturn\u001b[39;00m n\n\u001b[0;32m----> 4\u001b[0m \u001b[38;5;28;01mreturn\u001b[39;00m n \u001b[38;5;241m*\u001b[39m \u001b[43mfac\u001b[49m\u001b[43m(\u001b[49m\u001b[43mn\u001b[49m\u001b[43m \u001b[49m\u001b[38;5;241;43m-\u001b[39;49m\u001b[43m \u001b[49m\u001b[38;5;241;43m1\u001b[39;49m\u001b[43m)\u001b[49m\n",
      "    \u001b[0;31m[... skipping similar frames: fac at line 4 (971 times)]\u001b[0m\n",
      "Cell \u001b[0;32mIn[12], line 4\u001b[0m, in \u001b[0;36mfac\u001b[0;34m(n)\u001b[0m\n\u001b[1;32m      2\u001b[0m \u001b[38;5;28;01mif\u001b[39;00m n \u001b[38;5;241m<\u001b[39m\u001b[38;5;241m=\u001b[39m \u001b[38;5;241m2\u001b[39m:\n\u001b[1;32m      3\u001b[0m     \u001b[38;5;28;01mreturn\u001b[39;00m n\n\u001b[0;32m----> 4\u001b[0m \u001b[38;5;28;01mreturn\u001b[39;00m n \u001b[38;5;241m*\u001b[39m \u001b[43mfac\u001b[49m\u001b[43m(\u001b[49m\u001b[43mn\u001b[49m\u001b[43m \u001b[49m\u001b[38;5;241;43m-\u001b[39;49m\u001b[43m \u001b[49m\u001b[38;5;241;43m1\u001b[39;49m\u001b[43m)\u001b[49m\n",
      "\u001b[0;31mRecursionError\u001b[0m: maximum recursion depth exceeded"
     ]
    }
   ],
   "source": [
    "fac(1000)"
   ]
  },
  {
   "cell_type": "code",
   "execution_count": 24,
   "id": "cf6d0d67-9edf-4e44-a495-600be16d7d27",
   "metadata": {},
   "outputs": [
    {
     "data": {
      "text/plain": [
       "624378448084887421644276201155371533813133314513778956917043307954013553132286811826025304811291633557445216594235399137244339393795243224427063983876922784092579744124380439498494658632716356848811265585390382928484805264930169381830115393037386478109012171760802289990019606320780552848845073761304625052828713075853765547432965477281763340038377550466750173593503750707432867491253901093982460559410003397289052947322239374968688088639356136290084960149561545520325604931221916812135894937033928240023961230356221467070810660270132044553051260073829383061969098258045215797992182852056048353341694779275000418658626804442001691484238771002483669634781878605295515735007721908919459799309190107679272344843823964534440336597903698357729156443483749076912720659622827374789323582049812176096366069477761877901516839444314656639379126077282532681401267830145558406021129449285682947075296240068938491649103962476780899355295542139743684510969451431409301748250731123114068905685054525881900559263029833993605002278952996771600751079971965873927323920441389702408716311217303425953072887205469228774170118516446231773205195835624917249880923644456063746553627860471658875302287828747482742927434568234616519058217489830426652923200955809214626066240335462642317684331568902556746920968263297620660683769257581848467674955363836082944502913976998258096660338555290108289441078225963016837980899314505405819657992123732066572274141215664206345082645012633405986571080348166661550465164164960425654533382860979588238095967780755801727588418015480579360240143193377950778867559543479943151746405775611383940806461013428431014933324442979136735380301307617660552072764805498670449839937529975812250680529849855453692705622147264686591187657957621181015112926208668099202424573984709670582022555885894416485771186743797224720662386711540374919439786160945814158455404886511156204197532219352675018387872658281176235654557364451762863778772605084586657991222729020724728065248216087546705857154630586338312076278588904760594220165099331125795362936468777164964334863763875770043074903465797978697941512245974456185398872757827165928773724186608349312394648057865605990913256692226881136034892813403651911707785133327961290546321145712680766537728000000000000000000000000000000000000000000000000000000000000000000000000000000000000000000000000000000000000000000000000000000000000000000000000000000000000000000000000000000000000000000000000000000000000000000000000000000000000000000000000"
      ]
     },
     "execution_count": 24,
     "metadata": {},
     "output_type": "execute_result"
    }
   ],
   "source": [
    "fac(970)"
   ]
  },
  {
   "cell_type": "code",
   "execution_count": 25,
   "id": "565798ca-eba3-4e9c-b8ce-708542994f2a",
   "metadata": {},
   "outputs": [],
   "source": [
    "setrecursionlimit(10_000)"
   ]
  },
  {
   "cell_type": "code",
   "execution_count": 26,
   "id": "fbe6a405-87ca-44a6-8fd2-a1482cf43dda",
   "metadata": {},
   "outputs": [],
   "source": [
    "result = fac(7000)"
   ]
  },
  {
   "cell_type": "code",
   "execution_count": 27,
   "id": "38127d2e-58f6-44ec-98a0-d90cac8c3fbb",
   "metadata": {},
   "outputs": [
    {
     "ename": "ValueError",
     "evalue": "Exceeds the limit (4300 digits) for integer string conversion; use sys.set_int_max_str_digits() to increase the limit",
     "output_type": "error",
     "traceback": [
      "\u001b[0;31m---------------------------------------------------------------------------\u001b[0m",
      "\u001b[0;31mValueError\u001b[0m                                Traceback (most recent call last)",
      "Cell \u001b[0;32mIn[27], line 1\u001b[0m\n\u001b[0;32m----> 1\u001b[0m \u001b[38;5;28;43mstr\u001b[39;49m\u001b[43m(\u001b[49m\u001b[43mresult\u001b[49m\u001b[43m)\u001b[49m\n",
      "\u001b[0;31mValueError\u001b[0m: Exceeds the limit (4300 digits) for integer string conversion; use sys.set_int_max_str_digits() to increase the limit"
     ]
    }
   ],
   "source": [
    "str(result)"
   ]
  },
  {
   "cell_type": "code",
   "execution_count": 28,
   "id": "19e5bbc0-a7a8-403f-8a50-69d43fe274ef",
   "metadata": {},
   "outputs": [
    {
     "ename": "OverflowError",
     "evalue": "int too large to convert to float",
     "output_type": "error",
     "traceback": [
      "\u001b[0;31m---------------------------------------------------------------------------\u001b[0m",
      "\u001b[0;31mOverflowError\u001b[0m                             Traceback (most recent call last)",
      "Cell \u001b[0;32mIn[28], line 1\u001b[0m\n\u001b[0;32m----> 1\u001b[0m \u001b[38;5;28;43mfloat\u001b[39;49m\u001b[43m(\u001b[49m\u001b[43mresult\u001b[49m\u001b[43m)\u001b[49m\n",
      "\u001b[0;31mOverflowError\u001b[0m: int too large to convert to float"
     ]
    }
   ],
   "source": [
    "float(result)"
   ]
  },
  {
   "cell_type": "code",
   "execution_count": 29,
   "id": "64edd4cc-881c-4ecd-b730-c10f87da243d",
   "metadata": {},
   "outputs": [],
   "source": [
    "setrecursionlimit(100)"
   ]
  },
  {
   "cell_type": "code",
   "execution_count": 30,
   "id": "aa9f417e-f4ce-47d2-9d95-0fcfb1c023fb",
   "metadata": {},
   "outputs": [
    {
     "data": {
      "text/plain": [
       "100"
      ]
     },
     "execution_count": 30,
     "metadata": {},
     "output_type": "execute_result"
    }
   ],
   "source": [
    "getrecursionlimit()"
   ]
  },
  {
   "cell_type": "code",
   "execution_count": 31,
   "id": "a9137f10-f71d-47e4-9d86-c7ac0a8a325c",
   "metadata": {},
   "outputs": [
    {
     "data": {
      "text/plain": [
       "3628800"
      ]
     },
     "execution_count": 31,
     "metadata": {},
     "output_type": "execute_result"
    }
   ],
   "source": [
    "fac(10)"
   ]
  },
  {
   "cell_type": "code",
   "execution_count": 32,
   "id": "4c6135b0-eda9-4446-883a-9502e0f1a3c7",
   "metadata": {},
   "outputs": [
    {
     "name": "stdout",
     "output_type": "stream",
     "text": [
      "Unexpected exception formatting exception. Falling back to standard exception\n"
     ]
    },
    {
     "name": "stderr",
     "output_type": "stream",
     "text": [
      "Traceback (most recent call last):\n",
      "  File \"/Users/suren/MyFiles/MerionAcademy/lessons-advanced/06.stack-and-recursion/venv/lib/python3.11/site-packages/IPython/core/interactiveshell.py\", line 3508, in run_code\n",
      "    exec(code_obj, self.user_global_ns, self.user_ns)\n",
      "  File \"/var/folders/r0/f247yh3j4djfkghshd5yf41m0000gn/T/ipykernel_83311/2436890101.py\", line 1, in <module>\n",
      "    fac(80)\n",
      "  File \"/var/folders/r0/f247yh3j4djfkghshd5yf41m0000gn/T/ipykernel_83311/3206116245.py\", line 4, in fac\n",
      "    return n * fac(n - 1)\n",
      "               ^^^^^^^^^^\n",
      "  File \"/var/folders/r0/f247yh3j4djfkghshd5yf41m0000gn/T/ipykernel_83311/3206116245.py\", line 4, in fac\n",
      "    return n * fac(n - 1)\n",
      "               ^^^^^^^^^^\n",
      "  File \"/var/folders/r0/f247yh3j4djfkghshd5yf41m0000gn/T/ipykernel_83311/3206116245.py\", line 4, in fac\n",
      "    return n * fac(n - 1)\n",
      "               ^^^^^^^^^^\n",
      "  [Previous line repeated 71 more times]\n",
      "RecursionError: maximum recursion depth exceeded\n",
      "\n",
      "During handling of the above exception, another exception occurred:\n",
      "\n",
      "Traceback (most recent call last):\n",
      "  File \"/Users/suren/MyFiles/MerionAcademy/lessons-advanced/06.stack-and-recursion/venv/lib/python3.11/site-packages/pygments/lexer.py\", line 559, in _process_state\n",
      "    rex = cls._process_regex(tdef[0], rflags, state)\n",
      "          ^^^^^^^^^^^^^^^^^^^^^^^^^^^^^^^^^^^^^^^^^^\n",
      "  File \"/Users/suren/MyFiles/MerionAcademy/lessons-advanced/06.stack-and-recursion/venv/lib/python3.11/site-packages/pygments/lexer.py\", line 487, in _process_regex\n",
      "    regex = regex.get()\n",
      "            ^^^^^^^^^^^\n",
      "  File \"/Users/suren/MyFiles/MerionAcademy/lessons-advanced/06.stack-and-recursion/venv/lib/python3.11/site-packages/pygments/lexer.py\", line 475, in get\n",
      "    return regex_opt(self.words, prefix=self.prefix, suffix=self.suffix)\n",
      "           ^^^^^^^^^^^^^^^^^^^^^^^^^^^^^^^^^^^^^^^^^^^^^^^^^^^^^^^^^^^^^\n",
      "  File \"/Users/suren/MyFiles/MerionAcademy/lessons-advanced/06.stack-and-recursion/venv/lib/python3.11/site-packages/pygments/regexopt.py\", line 91, in regex_opt\n",
      "    return prefix + regex_opt_inner(strings, '(') + suffix\n",
      "                    ^^^^^^^^^^^^^^^^^^^^^^^^^^^^^\n",
      "  File \"/Users/suren/MyFiles/MerionAcademy/lessons-advanced/06.stack-and-recursion/venv/lib/python3.11/site-packages/pygments/regexopt.py\", line 77, in regex_opt_inner\n",
      "    '|'.join(regex_opt_inner(list(group[1]), '')\n",
      "  File \"/Users/suren/MyFiles/MerionAcademy/lessons-advanced/06.stack-and-recursion/venv/lib/python3.11/site-packages/pygments/regexopt.py\", line 77, in <genexpr>\n",
      "    '|'.join(regex_opt_inner(list(group[1]), '')\n",
      "             ^^^^^^^^^^^^^^^^^^^^^^^^^^^^^^^^^^^\n",
      "  File \"/Users/suren/MyFiles/MerionAcademy/lessons-advanced/06.stack-and-recursion/venv/lib/python3.11/site-packages/pygments/regexopt.py\", line 77, in regex_opt_inner\n",
      "    '|'.join(regex_opt_inner(list(group[1]), '')\n",
      "  File \"/Users/suren/MyFiles/MerionAcademy/lessons-advanced/06.stack-and-recursion/venv/lib/python3.11/site-packages/pygments/regexopt.py\", line 77, in <genexpr>\n",
      "    '|'.join(regex_opt_inner(list(group[1]), '')\n",
      "             ^^^^^^^^^^^^^^^^^^^^^^^^^^^^^^^^^^^\n",
      "  File \"/Users/suren/MyFiles/MerionAcademy/lessons-advanced/06.stack-and-recursion/venv/lib/python3.11/site-packages/pygments/regexopt.py\", line 77, in regex_opt_inner\n",
      "    '|'.join(regex_opt_inner(list(group[1]), '')\n",
      "  File \"/Users/suren/MyFiles/MerionAcademy/lessons-advanced/06.stack-and-recursion/venv/lib/python3.11/site-packages/pygments/regexopt.py\", line 77, in <genexpr>\n",
      "    '|'.join(regex_opt_inner(list(group[1]), '')\n",
      "             ^^^^^^^^^^^^^^^^^^^^^^^^^^^^^^^^^^^\n",
      "  File \"/Users/suren/MyFiles/MerionAcademy/lessons-advanced/06.stack-and-recursion/venv/lib/python3.11/site-packages/pygments/regexopt.py\", line 77, in regex_opt_inner\n",
      "    '|'.join(regex_opt_inner(list(group[1]), '')\n",
      "  File \"/Users/suren/MyFiles/MerionAcademy/lessons-advanced/06.stack-and-recursion/venv/lib/python3.11/site-packages/pygments/regexopt.py\", line 77, in <genexpr>\n",
      "    '|'.join(regex_opt_inner(list(group[1]), '')\n",
      "             ^^^^^^^^^^^^^^^^^^^^^^^^^^^^^^^^^^^\n",
      "  File \"/Users/suren/MyFiles/MerionAcademy/lessons-advanced/06.stack-and-recursion/venv/lib/python3.11/site-packages/pygments/regexopt.py\", line 77, in regex_opt_inner\n",
      "    '|'.join(regex_opt_inner(list(group[1]), '')\n",
      "  File \"/Users/suren/MyFiles/MerionAcademy/lessons-advanced/06.stack-and-recursion/venv/lib/python3.11/site-packages/pygments/regexopt.py\", line 77, in <genexpr>\n",
      "    '|'.join(regex_opt_inner(list(group[1]), '')\n",
      "             ^^^^^^^^^^^^^^^^^^^^^^^^^^^^^^^^^^^\n",
      "  File \"/Users/suren/MyFiles/MerionAcademy/lessons-advanced/06.stack-and-recursion/venv/lib/python3.11/site-packages/pygments/regexopt.py\", line 77, in regex_opt_inner\n",
      "    '|'.join(regex_opt_inner(list(group[1]), '')\n",
      "  File \"/Users/suren/MyFiles/MerionAcademy/lessons-advanced/06.stack-and-recursion/venv/lib/python3.11/site-packages/pygments/regexopt.py\", line 77, in <genexpr>\n",
      "    '|'.join(regex_opt_inner(list(group[1]), '')\n",
      "             ^^^^^^^^^^^^^^^^^^^^^^^^^^^^^^^^^^^\n",
      "  File \"/Users/suren/MyFiles/MerionAcademy/lessons-advanced/06.stack-and-recursion/venv/lib/python3.11/site-packages/pygments/regexopt.py\", line 77, in regex_opt_inner\n",
      "    '|'.join(regex_opt_inner(list(group[1]), '')\n",
      "  File \"/Users/suren/MyFiles/MerionAcademy/lessons-advanced/06.stack-and-recursion/venv/lib/python3.11/site-packages/pygments/regexopt.py\", line 77, in <genexpr>\n",
      "    '|'.join(regex_opt_inner(list(group[1]), '')\n",
      "             ^^^^^^^^^^^^^^^^^^^^^^^^^^^^^^^^^^^\n",
      "  File \"/Users/suren/MyFiles/MerionAcademy/lessons-advanced/06.stack-and-recursion/venv/lib/python3.11/site-packages/pygments/regexopt.py\", line 77, in regex_opt_inner\n",
      "    '|'.join(regex_opt_inner(list(group[1]), '')\n",
      "  File \"/Users/suren/MyFiles/MerionAcademy/lessons-advanced/06.stack-and-recursion/venv/lib/python3.11/site-packages/pygments/regexopt.py\", line 77, in <genexpr>\n",
      "    '|'.join(regex_opt_inner(list(group[1]), '')\n",
      "             ^^^^^^^^^^^^^^^^^^^^^^^^^^^^^^^^^^^\n",
      "  File \"/Users/suren/MyFiles/MerionAcademy/lessons-advanced/06.stack-and-recursion/venv/lib/python3.11/site-packages/pygments/regexopt.py\", line 77, in regex_opt_inner\n",
      "    '|'.join(regex_opt_inner(list(group[1]), '')\n",
      "  File \"/Users/suren/MyFiles/MerionAcademy/lessons-advanced/06.stack-and-recursion/venv/lib/python3.11/site-packages/pygments/regexopt.py\", line 77, in <genexpr>\n",
      "    '|'.join(regex_opt_inner(list(group[1]), '')\n",
      "             ^^^^^^^^^^^^^^^^^^^^^^^^^^^^^^^^^^^\n",
      "  File \"/Users/suren/MyFiles/MerionAcademy/lessons-advanced/06.stack-and-recursion/venv/lib/python3.11/site-packages/pygments/regexopt.py\", line 77, in regex_opt_inner\n",
      "    '|'.join(regex_opt_inner(list(group[1]), '')\n",
      "  File \"/Users/suren/MyFiles/MerionAcademy/lessons-advanced/06.stack-and-recursion/venv/lib/python3.11/site-packages/pygments/regexopt.py\", line 77, in <genexpr>\n",
      "    '|'.join(regex_opt_inner(list(group[1]), '')\n",
      "             ^^^^^^^^^^^^^^^^^^^^^^^^^^^^^^^^^^^\n",
      "  File \"/Users/suren/MyFiles/MerionAcademy/lessons-advanced/06.stack-and-recursion/venv/lib/python3.11/site-packages/pygments/regexopt.py\", line 77, in regex_opt_inner\n",
      "    '|'.join(regex_opt_inner(list(group[1]), '')\n",
      "  File \"/Users/suren/MyFiles/MerionAcademy/lessons-advanced/06.stack-and-recursion/venv/lib/python3.11/site-packages/pygments/regexopt.py\", line 77, in <genexpr>\n",
      "    '|'.join(regex_opt_inner(list(group[1]), '')\n",
      "             ^^^^^^^^^^^^^^^^^^^^^^^^^^^^^^^^^^^\n",
      "  File \"/Users/suren/MyFiles/MerionAcademy/lessons-advanced/06.stack-and-recursion/venv/lib/python3.11/site-packages/pygments/regexopt.py\", line 77, in regex_opt_inner\n",
      "    '|'.join(regex_opt_inner(list(group[1]), '')\n",
      "  File \"/Users/suren/MyFiles/MerionAcademy/lessons-advanced/06.stack-and-recursion/venv/lib/python3.11/site-packages/pygments/regexopt.py\", line 77, in <genexpr>\n",
      "    '|'.join(regex_opt_inner(list(group[1]), '')\n",
      "             ^^^^^^^^^^^^^^^^^^^^^^^^^^^^^^^^^^^\n",
      "  File \"/Users/suren/MyFiles/MerionAcademy/lessons-advanced/06.stack-and-recursion/venv/lib/python3.11/site-packages/pygments/regexopt.py\", line 77, in regex_opt_inner\n",
      "    '|'.join(regex_opt_inner(list(group[1]), '')\n",
      "  File \"/Users/suren/MyFiles/MerionAcademy/lessons-advanced/06.stack-and-recursion/venv/lib/python3.11/site-packages/pygments/regexopt.py\", line 77, in <genexpr>\n",
      "    '|'.join(regex_opt_inner(list(group[1]), '')\n",
      "             ^^^^^^^^^^^^^^^^^^^^^^^^^^^^^^^^^^^\n",
      "  File \"/Users/suren/MyFiles/MerionAcademy/lessons-advanced/06.stack-and-recursion/venv/lib/python3.11/site-packages/pygments/regexopt.py\", line 77, in regex_opt_inner\n",
      "    '|'.join(regex_opt_inner(list(group[1]), '')\n",
      "  File \"/Users/suren/MyFiles/MerionAcademy/lessons-advanced/06.stack-and-recursion/venv/lib/python3.11/site-packages/pygments/regexopt.py\", line 77, in <genexpr>\n",
      "    '|'.join(regex_opt_inner(list(group[1]), '')\n",
      "             ^^^^^^^^^^^^^^^^^^^^^^^^^^^^^^^^^^^\n",
      "  File \"/Users/suren/MyFiles/MerionAcademy/lessons-advanced/06.stack-and-recursion/venv/lib/python3.11/site-packages/pygments/regexopt.py\", line 63, in regex_opt_inner\n",
      "    + regex_opt_inner([s[plen:] for s in strings], '(?:') \\\n",
      "      ^^^^^^^^^^^^^^^^^^^^^^^^^^^^^^^^^^^^^^^^^^^^^^^^^^^\n",
      "  File \"/Users/suren/MyFiles/MerionAcademy/lessons-advanced/06.stack-and-recursion/venv/lib/python3.11/site-packages/pygments/regexopt.py\", line 77, in regex_opt_inner\n",
      "    '|'.join(regex_opt_inner(list(group[1]), '')\n",
      "  File \"/Users/suren/MyFiles/MerionAcademy/lessons-advanced/06.stack-and-recursion/venv/lib/python3.11/site-packages/pygments/regexopt.py\", line 77, in <genexpr>\n",
      "    '|'.join(regex_opt_inner(list(group[1]), '')\n",
      "             ^^^^^^^^^^^^^^^^^^^^^^^^^^^^^^^^^^^\n",
      "  File \"/Users/suren/MyFiles/MerionAcademy/lessons-advanced/06.stack-and-recursion/venv/lib/python3.11/site-packages/pygments/regexopt.py\", line 77, in regex_opt_inner\n",
      "    '|'.join(regex_opt_inner(list(group[1]), '')\n",
      "  File \"/Users/suren/MyFiles/MerionAcademy/lessons-advanced/06.stack-and-recursion/venv/lib/python3.11/site-packages/pygments/regexopt.py\", line 77, in <genexpr>\n",
      "    '|'.join(regex_opt_inner(list(group[1]), '')\n",
      "             ^^^^^^^^^^^^^^^^^^^^^^^^^^^^^^^^^^^\n",
      "  File \"/Users/suren/MyFiles/MerionAcademy/lessons-advanced/06.stack-and-recursion/venv/lib/python3.11/site-packages/pygments/regexopt.py\", line 77, in regex_opt_inner\n",
      "    '|'.join(regex_opt_inner(list(group[1]), '')\n",
      "  File \"/Users/suren/MyFiles/MerionAcademy/lessons-advanced/06.stack-and-recursion/venv/lib/python3.11/site-packages/pygments/regexopt.py\", line 77, in <genexpr>\n",
      "    '|'.join(regex_opt_inner(list(group[1]), '')\n",
      "             ^^^^^^^^^^^^^^^^^^^^^^^^^^^^^^^^^^^\n",
      "  File \"/Users/suren/MyFiles/MerionAcademy/lessons-advanced/06.stack-and-recursion/venv/lib/python3.11/site-packages/pygments/regexopt.py\", line 36, in regex_opt_inner\n",
      "    return open_paren + escape(first) + close_paren\n",
      "                        ^^^^^^^^^^^^^\n",
      "  File \"/Users/suren/.pyenv/versions/3.11.4/lib/python3.11/re/__init__.py\", line 258, in escape\n",
      "    return pattern.translate(_special_chars_map)\n",
      "           ^^^^^^^^^^^^^^^^^^^^^^^^^^^^^^^^^^^^^\n",
      "RecursionError: maximum recursion depth exceeded while calling a Python object\n",
      "\n",
      "The above exception was the direct cause of the following exception:\n",
      "\n",
      "Traceback (most recent call last):\n",
      "  File \"/Users/suren/MyFiles/MerionAcademy/lessons-advanced/06.stack-and-recursion/venv/lib/python3.11/site-packages/IPython/core/interactiveshell.py\", line 2105, in showtraceback\n",
      "    stb = self.InteractiveTB.structured_traceback(\n",
      "          ^^^^^^^^^^^^^^^^^^^^^^^^^^^^^^^^^^^^^^^^\n",
      "  File \"/Users/suren/MyFiles/MerionAcademy/lessons-advanced/06.stack-and-recursion/venv/lib/python3.11/site-packages/IPython/core/ultratb.py\", line 1428, in structured_traceback\n",
      "    return FormattedTB.structured_traceback(\n",
      "           ^^^^^^^^^^^^^^^^^^^^^^^^^^^^^^^^^\n",
      "  File \"/Users/suren/MyFiles/MerionAcademy/lessons-advanced/06.stack-and-recursion/venv/lib/python3.11/site-packages/IPython/core/ultratb.py\", line 1319, in structured_traceback\n",
      "    return VerboseTB.structured_traceback(\n",
      "           ^^^^^^^^^^^^^^^^^^^^^^^^^^^^^^^\n",
      "  File \"/Users/suren/MyFiles/MerionAcademy/lessons-advanced/06.stack-and-recursion/venv/lib/python3.11/site-packages/IPython/core/ultratb.py\", line 1172, in structured_traceback\n",
      "    formatted_exception = self.format_exception_as_a_whole(etype, evalue, etb, number_of_lines_of_context,\n",
      "                          ^^^^^^^^^^^^^^^^^^^^^^^^^^^^^^^^^^^^^^^^^^^^^^^^^^^^^^^^^^^^^^^^^^^^^^^^^^^^^^^^\n",
      "  File \"/Users/suren/MyFiles/MerionAcademy/lessons-advanced/06.stack-and-recursion/venv/lib/python3.11/site-packages/IPython/core/ultratb.py\", line 1087, in format_exception_as_a_whole\n",
      "    frames.append(self.format_record(record))\n",
      "                  ^^^^^^^^^^^^^^^^^^^^^^^^^^\n",
      "  File \"/Users/suren/MyFiles/MerionAcademy/lessons-advanced/06.stack-and-recursion/venv/lib/python3.11/site-packages/IPython/core/ultratb.py\", line 968, in format_record\n",
      "    _format_traceback_lines(\n",
      "  File \"/Users/suren/MyFiles/MerionAcademy/lessons-advanced/06.stack-and-recursion/venv/lib/python3.11/site-packages/IPython/core/ultratb.py\", line 215, in _format_traceback_lines\n",
      "    line = stack_line.render(pygmented=has_colors).rstrip('\\n') + '\\n'\n",
      "           ^^^^^^^^^^^^^^^^^^^^^^^^^^^^^^^^^^^^^^^\n",
      "  File \"/Users/suren/MyFiles/MerionAcademy/lessons-advanced/06.stack-and-recursion/venv/lib/python3.11/site-packages/stack_data/core.py\", line 391, in render\n",
      "    start_line, lines = self.frame_info._pygmented_scope_lines\n",
      "                        ^^^^^^^^^^^^^^^^^^^^^^^^^^^^^^^^^^^^^^\n",
      "  File \"/Users/suren/MyFiles/MerionAcademy/lessons-advanced/06.stack-and-recursion/venv/lib/python3.11/site-packages/stack_data/utils.py\", line 144, in cached_property_wrapper\n",
      "    value = obj.__dict__[self.func.__name__] = self.func(obj)\n",
      "                                               ^^^^^^^^^^^^^^\n",
      "  File \"/Users/suren/MyFiles/MerionAcademy/lessons-advanced/06.stack-and-recursion/venv/lib/python3.11/site-packages/stack_data/core.py\", line 824, in _pygmented_scope_lines\n",
      "    lines = _pygmented_with_ranges(formatter, code, ranges)\n",
      "            ^^^^^^^^^^^^^^^^^^^^^^^^^^^^^^^^^^^^^^^^^^^^^^^\n",
      "  File \"/Users/suren/MyFiles/MerionAcademy/lessons-advanced/06.stack-and-recursion/venv/lib/python3.11/site-packages/stack_data/utils.py\", line 163, in _pygmented_with_ranges\n",
      "    lexer = MyLexer(stripnl=False)\n",
      "            ^^^^^^^^^^^^^^^^^^^^^^\n",
      "  File \"/Users/suren/MyFiles/MerionAcademy/lessons-advanced/06.stack-and-recursion/venv/lib/python3.11/site-packages/pygments/lexer.py\", line 641, in __call__\n",
      "    cls._tokens = cls.process_tokendef('', cls.get_tokendefs())\n",
      "                  ^^^^^^^^^^^^^^^^^^^^^^^^^^^^^^^^^^^^^^^^^^^^^\n",
      "  File \"/Users/suren/MyFiles/MerionAcademy/lessons-advanced/06.stack-and-recursion/venv/lib/python3.11/site-packages/pygments/lexer.py\", line 580, in process_tokendef\n",
      "    cls._process_state(tokendefs, processed, state)\n",
      "  File \"/Users/suren/MyFiles/MerionAcademy/lessons-advanced/06.stack-and-recursion/venv/lib/python3.11/site-packages/pygments/lexer.py\", line 543, in _process_state\n",
      "    tokens.extend(cls._process_state(unprocessed, processed,\n",
      "                  ^^^^^^^^^^^^^^^^^^^^^^^^^^^^^^^^^^^^^^^^^^\n",
      "  File \"/Users/suren/MyFiles/MerionAcademy/lessons-advanced/06.stack-and-recursion/venv/lib/python3.11/site-packages/pygments/lexer.py\", line 543, in _process_state\n",
      "    tokens.extend(cls._process_state(unprocessed, processed,\n",
      "                  ^^^^^^^^^^^^^^^^^^^^^^^^^^^^^^^^^^^^^^^^^^\n",
      "  File \"/Users/suren/MyFiles/MerionAcademy/lessons-advanced/06.stack-and-recursion/venv/lib/python3.11/site-packages/pygments/lexer.py\", line 561, in _process_state\n",
      "    raise ValueError(\"uncompilable regex %r in state %r of %r: %s\" %\n",
      "ValueError: uncompilable regex <pygments.lexer.words object at 0x10271a8d0> in state 'builtins' of <class 'stack_data.utils._pygmented_with_ranges.<locals>.MyLexer'>: maximum recursion depth exceeded while calling a Python object\n"
     ]
    }
   ],
   "source": [
    "fac(80)"
   ]
  },
  {
   "cell_type": "code",
   "execution_count": 35,
   "id": "2a7d6492-4b64-4c52-881b-259becde4570",
   "metadata": {},
   "outputs": [],
   "source": [
    "def fac(n):\n",
    "    result = 1\n",
    "    for i in range(1, n + 1):\n",
    "        result *= i\n",
    "    return result"
   ]
  },
  {
   "cell_type": "code",
   "execution_count": 36,
   "id": "6fdd940a-191c-4cfb-a5d9-416a055ace7f",
   "metadata": {},
   "outputs": [
    {
     "data": {
      "text/plain": [
       "3628800"
      ]
     },
     "execution_count": 36,
     "metadata": {},
     "output_type": "execute_result"
    }
   ],
   "source": [
    "fac(10)"
   ]
  },
  {
   "cell_type": "code",
   "execution_count": 37,
   "id": "94667242-9225-44bc-a09d-d0cc68d76065",
   "metadata": {},
   "outputs": [
    {
     "data": {
      "text/plain": [
       "93326215443944152681699238856266700490715968264381621468592963895217599993229915608941463976156518286253697920827223758251185210916864000000000000000000000000"
      ]
     },
     "execution_count": 37,
     "metadata": {},
     "output_type": "execute_result"
    }
   ],
   "source": [
    "fac(100)"
   ]
  },
  {
   "cell_type": "code",
   "execution_count": 38,
   "id": "6e1fc521-d177-4916-afa0-a7db03a694dc",
   "metadata": {},
   "outputs": [],
   "source": [
    "def fac(n, accumulator=1):\n",
    "    if n <= 2:\n",
    "        return n * accumulator\n",
    "    return fac(n - 1, accumulator=accumulator * n)"
   ]
  },
  {
   "cell_type": "code",
   "execution_count": 39,
   "id": "d6eede23-0b5c-42f4-966f-f99520c35812",
   "metadata": {},
   "outputs": [
    {
     "data": {
      "text/plain": [
       "6"
      ]
     },
     "execution_count": 39,
     "metadata": {},
     "output_type": "execute_result"
    }
   ],
   "source": [
    "fac(3)"
   ]
  },
  {
   "cell_type": "code",
   "execution_count": 40,
   "id": "63215fbf-f128-4867-afbd-13dcb084246a",
   "metadata": {},
   "outputs": [
    {
     "data": {
      "text/plain": [
       "3628800"
      ]
     },
     "execution_count": 40,
     "metadata": {},
     "output_type": "execute_result"
    }
   ],
   "source": [
    "fac(10)"
   ]
  },
  {
   "cell_type": "code",
   "execution_count": 41,
   "id": "50aa785f-1ba6-457f-bfa7-e5c2f6ba7028",
   "metadata": {},
   "outputs": [
    {
     "name": "stdout",
     "output_type": "stream",
     "text": [
      "Unexpected exception formatting exception. Falling back to standard exception\n"
     ]
    },
    {
     "name": "stderr",
     "output_type": "stream",
     "text": [
      "Traceback (most recent call last):\n",
      "  File \"/Users/suren/MyFiles/MerionAcademy/lessons-advanced/06.stack-and-recursion/venv/lib/python3.11/site-packages/IPython/core/interactiveshell.py\", line 3508, in run_code\n",
      "    exec(code_obj, self.user_global_ns, self.user_ns)\n",
      "  File \"/var/folders/r0/f247yh3j4djfkghshd5yf41m0000gn/T/ipykernel_83311/2436890101.py\", line 1, in <module>\n",
      "    fac(80)\n",
      "  File \"/var/folders/r0/f247yh3j4djfkghshd5yf41m0000gn/T/ipykernel_83311/2999664966.py\", line 4, in fac\n",
      "    return fac(n - 1, accumulator=accumulator * n)\n",
      "           ^^^^^^^^^^^^^^^^^^^^^^^^^^^^^^^^^^^^^^^\n",
      "  File \"/var/folders/r0/f247yh3j4djfkghshd5yf41m0000gn/T/ipykernel_83311/2999664966.py\", line 4, in fac\n",
      "    return fac(n - 1, accumulator=accumulator * n)\n",
      "           ^^^^^^^^^^^^^^^^^^^^^^^^^^^^^^^^^^^^^^^\n",
      "  File \"/var/folders/r0/f247yh3j4djfkghshd5yf41m0000gn/T/ipykernel_83311/2999664966.py\", line 4, in fac\n",
      "    return fac(n - 1, accumulator=accumulator * n)\n",
      "           ^^^^^^^^^^^^^^^^^^^^^^^^^^^^^^^^^^^^^^^\n",
      "  [Previous line repeated 71 more times]\n",
      "RecursionError: maximum recursion depth exceeded\n",
      "\n",
      "During handling of the above exception, another exception occurred:\n",
      "\n",
      "Traceback (most recent call last):\n",
      "  File \"/Users/suren/MyFiles/MerionAcademy/lessons-advanced/06.stack-and-recursion/venv/lib/python3.11/site-packages/pygments/lexer.py\", line 559, in _process_state\n",
      "    rex = cls._process_regex(tdef[0], rflags, state)\n",
      "          ^^^^^^^^^^^^^^^^^^^^^^^^^^^^^^^^^^^^^^^^^^\n",
      "  File \"/Users/suren/MyFiles/MerionAcademy/lessons-advanced/06.stack-and-recursion/venv/lib/python3.11/site-packages/pygments/lexer.py\", line 487, in _process_regex\n",
      "    regex = regex.get()\n",
      "            ^^^^^^^^^^^\n",
      "  File \"/Users/suren/MyFiles/MerionAcademy/lessons-advanced/06.stack-and-recursion/venv/lib/python3.11/site-packages/pygments/lexer.py\", line 475, in get\n",
      "    return regex_opt(self.words, prefix=self.prefix, suffix=self.suffix)\n",
      "           ^^^^^^^^^^^^^^^^^^^^^^^^^^^^^^^^^^^^^^^^^^^^^^^^^^^^^^^^^^^^^\n",
      "  File \"/Users/suren/MyFiles/MerionAcademy/lessons-advanced/06.stack-and-recursion/venv/lib/python3.11/site-packages/pygments/regexopt.py\", line 91, in regex_opt\n",
      "    return prefix + regex_opt_inner(strings, '(') + suffix\n",
      "                    ^^^^^^^^^^^^^^^^^^^^^^^^^^^^^\n",
      "  File \"/Users/suren/MyFiles/MerionAcademy/lessons-advanced/06.stack-and-recursion/venv/lib/python3.11/site-packages/pygments/regexopt.py\", line 77, in regex_opt_inner\n",
      "    '|'.join(regex_opt_inner(list(group[1]), '')\n",
      "  File \"/Users/suren/MyFiles/MerionAcademy/lessons-advanced/06.stack-and-recursion/venv/lib/python3.11/site-packages/pygments/regexopt.py\", line 77, in <genexpr>\n",
      "    '|'.join(regex_opt_inner(list(group[1]), '')\n",
      "             ^^^^^^^^^^^^^^^^^^^^^^^^^^^^^^^^^^^\n",
      "  File \"/Users/suren/MyFiles/MerionAcademy/lessons-advanced/06.stack-and-recursion/venv/lib/python3.11/site-packages/pygments/regexopt.py\", line 77, in regex_opt_inner\n",
      "    '|'.join(regex_opt_inner(list(group[1]), '')\n",
      "  File \"/Users/suren/MyFiles/MerionAcademy/lessons-advanced/06.stack-and-recursion/venv/lib/python3.11/site-packages/pygments/regexopt.py\", line 77, in <genexpr>\n",
      "    '|'.join(regex_opt_inner(list(group[1]), '')\n",
      "             ^^^^^^^^^^^^^^^^^^^^^^^^^^^^^^^^^^^\n",
      "  File \"/Users/suren/MyFiles/MerionAcademy/lessons-advanced/06.stack-and-recursion/venv/lib/python3.11/site-packages/pygments/regexopt.py\", line 77, in regex_opt_inner\n",
      "    '|'.join(regex_opt_inner(list(group[1]), '')\n",
      "  File \"/Users/suren/MyFiles/MerionAcademy/lessons-advanced/06.stack-and-recursion/venv/lib/python3.11/site-packages/pygments/regexopt.py\", line 77, in <genexpr>\n",
      "    '|'.join(regex_opt_inner(list(group[1]), '')\n",
      "             ^^^^^^^^^^^^^^^^^^^^^^^^^^^^^^^^^^^\n",
      "  File \"/Users/suren/MyFiles/MerionAcademy/lessons-advanced/06.stack-and-recursion/venv/lib/python3.11/site-packages/pygments/regexopt.py\", line 77, in regex_opt_inner\n",
      "    '|'.join(regex_opt_inner(list(group[1]), '')\n",
      "  File \"/Users/suren/MyFiles/MerionAcademy/lessons-advanced/06.stack-and-recursion/venv/lib/python3.11/site-packages/pygments/regexopt.py\", line 77, in <genexpr>\n",
      "    '|'.join(regex_opt_inner(list(group[1]), '')\n",
      "             ^^^^^^^^^^^^^^^^^^^^^^^^^^^^^^^^^^^\n",
      "  File \"/Users/suren/MyFiles/MerionAcademy/lessons-advanced/06.stack-and-recursion/venv/lib/python3.11/site-packages/pygments/regexopt.py\", line 77, in regex_opt_inner\n",
      "    '|'.join(regex_opt_inner(list(group[1]), '')\n",
      "  File \"/Users/suren/MyFiles/MerionAcademy/lessons-advanced/06.stack-and-recursion/venv/lib/python3.11/site-packages/pygments/regexopt.py\", line 77, in <genexpr>\n",
      "    '|'.join(regex_opt_inner(list(group[1]), '')\n",
      "             ^^^^^^^^^^^^^^^^^^^^^^^^^^^^^^^^^^^\n",
      "  File \"/Users/suren/MyFiles/MerionAcademy/lessons-advanced/06.stack-and-recursion/venv/lib/python3.11/site-packages/pygments/regexopt.py\", line 77, in regex_opt_inner\n",
      "    '|'.join(regex_opt_inner(list(group[1]), '')\n",
      "  File \"/Users/suren/MyFiles/MerionAcademy/lessons-advanced/06.stack-and-recursion/venv/lib/python3.11/site-packages/pygments/regexopt.py\", line 77, in <genexpr>\n",
      "    '|'.join(regex_opt_inner(list(group[1]), '')\n",
      "             ^^^^^^^^^^^^^^^^^^^^^^^^^^^^^^^^^^^\n",
      "  File \"/Users/suren/MyFiles/MerionAcademy/lessons-advanced/06.stack-and-recursion/venv/lib/python3.11/site-packages/pygments/regexopt.py\", line 77, in regex_opt_inner\n",
      "    '|'.join(regex_opt_inner(list(group[1]), '')\n",
      "  File \"/Users/suren/MyFiles/MerionAcademy/lessons-advanced/06.stack-and-recursion/venv/lib/python3.11/site-packages/pygments/regexopt.py\", line 77, in <genexpr>\n",
      "    '|'.join(regex_opt_inner(list(group[1]), '')\n",
      "             ^^^^^^^^^^^^^^^^^^^^^^^^^^^^^^^^^^^\n",
      "  File \"/Users/suren/MyFiles/MerionAcademy/lessons-advanced/06.stack-and-recursion/venv/lib/python3.11/site-packages/pygments/regexopt.py\", line 77, in regex_opt_inner\n",
      "    '|'.join(regex_opt_inner(list(group[1]), '')\n",
      "  File \"/Users/suren/MyFiles/MerionAcademy/lessons-advanced/06.stack-and-recursion/venv/lib/python3.11/site-packages/pygments/regexopt.py\", line 77, in <genexpr>\n",
      "    '|'.join(regex_opt_inner(list(group[1]), '')\n",
      "             ^^^^^^^^^^^^^^^^^^^^^^^^^^^^^^^^^^^\n",
      "  File \"/Users/suren/MyFiles/MerionAcademy/lessons-advanced/06.stack-and-recursion/venv/lib/python3.11/site-packages/pygments/regexopt.py\", line 77, in regex_opt_inner\n",
      "    '|'.join(regex_opt_inner(list(group[1]), '')\n",
      "  File \"/Users/suren/MyFiles/MerionAcademy/lessons-advanced/06.stack-and-recursion/venv/lib/python3.11/site-packages/pygments/regexopt.py\", line 77, in <genexpr>\n",
      "    '|'.join(regex_opt_inner(list(group[1]), '')\n",
      "             ^^^^^^^^^^^^^^^^^^^^^^^^^^^^^^^^^^^\n",
      "  File \"/Users/suren/MyFiles/MerionAcademy/lessons-advanced/06.stack-and-recursion/venv/lib/python3.11/site-packages/pygments/regexopt.py\", line 77, in regex_opt_inner\n",
      "    '|'.join(regex_opt_inner(list(group[1]), '')\n",
      "  File \"/Users/suren/MyFiles/MerionAcademy/lessons-advanced/06.stack-and-recursion/venv/lib/python3.11/site-packages/pygments/regexopt.py\", line 77, in <genexpr>\n",
      "    '|'.join(regex_opt_inner(list(group[1]), '')\n",
      "             ^^^^^^^^^^^^^^^^^^^^^^^^^^^^^^^^^^^\n",
      "  File \"/Users/suren/MyFiles/MerionAcademy/lessons-advanced/06.stack-and-recursion/venv/lib/python3.11/site-packages/pygments/regexopt.py\", line 77, in regex_opt_inner\n",
      "    '|'.join(regex_opt_inner(list(group[1]), '')\n",
      "  File \"/Users/suren/MyFiles/MerionAcademy/lessons-advanced/06.stack-and-recursion/venv/lib/python3.11/site-packages/pygments/regexopt.py\", line 77, in <genexpr>\n",
      "    '|'.join(regex_opt_inner(list(group[1]), '')\n",
      "             ^^^^^^^^^^^^^^^^^^^^^^^^^^^^^^^^^^^\n",
      "  File \"/Users/suren/MyFiles/MerionAcademy/lessons-advanced/06.stack-and-recursion/venv/lib/python3.11/site-packages/pygments/regexopt.py\", line 77, in regex_opt_inner\n",
      "    '|'.join(regex_opt_inner(list(group[1]), '')\n",
      "  File \"/Users/suren/MyFiles/MerionAcademy/lessons-advanced/06.stack-and-recursion/venv/lib/python3.11/site-packages/pygments/regexopt.py\", line 77, in <genexpr>\n",
      "    '|'.join(regex_opt_inner(list(group[1]), '')\n",
      "             ^^^^^^^^^^^^^^^^^^^^^^^^^^^^^^^^^^^\n",
      "  File \"/Users/suren/MyFiles/MerionAcademy/lessons-advanced/06.stack-and-recursion/venv/lib/python3.11/site-packages/pygments/regexopt.py\", line 77, in regex_opt_inner\n",
      "    '|'.join(regex_opt_inner(list(group[1]), '')\n",
      "  File \"/Users/suren/MyFiles/MerionAcademy/lessons-advanced/06.stack-and-recursion/venv/lib/python3.11/site-packages/pygments/regexopt.py\", line 77, in <genexpr>\n",
      "    '|'.join(regex_opt_inner(list(group[1]), '')\n",
      "             ^^^^^^^^^^^^^^^^^^^^^^^^^^^^^^^^^^^\n",
      "  File \"/Users/suren/MyFiles/MerionAcademy/lessons-advanced/06.stack-and-recursion/venv/lib/python3.11/site-packages/pygments/regexopt.py\", line 77, in regex_opt_inner\n",
      "    '|'.join(regex_opt_inner(list(group[1]), '')\n",
      "  File \"/Users/suren/MyFiles/MerionAcademy/lessons-advanced/06.stack-and-recursion/venv/lib/python3.11/site-packages/pygments/regexopt.py\", line 77, in <genexpr>\n",
      "    '|'.join(regex_opt_inner(list(group[1]), '')\n",
      "             ^^^^^^^^^^^^^^^^^^^^^^^^^^^^^^^^^^^\n",
      "  File \"/Users/suren/MyFiles/MerionAcademy/lessons-advanced/06.stack-and-recursion/venv/lib/python3.11/site-packages/pygments/regexopt.py\", line 63, in regex_opt_inner\n",
      "    + regex_opt_inner([s[plen:] for s in strings], '(?:') \\\n",
      "      ^^^^^^^^^^^^^^^^^^^^^^^^^^^^^^^^^^^^^^^^^^^^^^^^^^^\n",
      "  File \"/Users/suren/MyFiles/MerionAcademy/lessons-advanced/06.stack-and-recursion/venv/lib/python3.11/site-packages/pygments/regexopt.py\", line 77, in regex_opt_inner\n",
      "    '|'.join(regex_opt_inner(list(group[1]), '')\n",
      "  File \"/Users/suren/MyFiles/MerionAcademy/lessons-advanced/06.stack-and-recursion/venv/lib/python3.11/site-packages/pygments/regexopt.py\", line 77, in <genexpr>\n",
      "    '|'.join(regex_opt_inner(list(group[1]), '')\n",
      "             ^^^^^^^^^^^^^^^^^^^^^^^^^^^^^^^^^^^\n",
      "  File \"/Users/suren/MyFiles/MerionAcademy/lessons-advanced/06.stack-and-recursion/venv/lib/python3.11/site-packages/pygments/regexopt.py\", line 77, in regex_opt_inner\n",
      "    '|'.join(regex_opt_inner(list(group[1]), '')\n",
      "  File \"/Users/suren/MyFiles/MerionAcademy/lessons-advanced/06.stack-and-recursion/venv/lib/python3.11/site-packages/pygments/regexopt.py\", line 77, in <genexpr>\n",
      "    '|'.join(regex_opt_inner(list(group[1]), '')\n",
      "             ^^^^^^^^^^^^^^^^^^^^^^^^^^^^^^^^^^^\n",
      "  File \"/Users/suren/MyFiles/MerionAcademy/lessons-advanced/06.stack-and-recursion/venv/lib/python3.11/site-packages/pygments/regexopt.py\", line 77, in regex_opt_inner\n",
      "    '|'.join(regex_opt_inner(list(group[1]), '')\n",
      "  File \"/Users/suren/MyFiles/MerionAcademy/lessons-advanced/06.stack-and-recursion/venv/lib/python3.11/site-packages/pygments/regexopt.py\", line 77, in <genexpr>\n",
      "    '|'.join(regex_opt_inner(list(group[1]), '')\n",
      "             ^^^^^^^^^^^^^^^^^^^^^^^^^^^^^^^^^^^\n",
      "  File \"/Users/suren/MyFiles/MerionAcademy/lessons-advanced/06.stack-and-recursion/venv/lib/python3.11/site-packages/pygments/regexopt.py\", line 36, in regex_opt_inner\n",
      "    return open_paren + escape(first) + close_paren\n",
      "                        ^^^^^^^^^^^^^\n",
      "  File \"/Users/suren/.pyenv/versions/3.11.4/lib/python3.11/re/__init__.py\", line 258, in escape\n",
      "    return pattern.translate(_special_chars_map)\n",
      "           ^^^^^^^^^^^^^^^^^^^^^^^^^^^^^^^^^^^^^\n",
      "RecursionError: maximum recursion depth exceeded while calling a Python object\n",
      "\n",
      "The above exception was the direct cause of the following exception:\n",
      "\n",
      "Traceback (most recent call last):\n",
      "  File \"/Users/suren/MyFiles/MerionAcademy/lessons-advanced/06.stack-and-recursion/venv/lib/python3.11/site-packages/IPython/core/interactiveshell.py\", line 2105, in showtraceback\n",
      "    stb = self.InteractiveTB.structured_traceback(\n",
      "          ^^^^^^^^^^^^^^^^^^^^^^^^^^^^^^^^^^^^^^^^\n",
      "  File \"/Users/suren/MyFiles/MerionAcademy/lessons-advanced/06.stack-and-recursion/venv/lib/python3.11/site-packages/IPython/core/ultratb.py\", line 1428, in structured_traceback\n",
      "    return FormattedTB.structured_traceback(\n",
      "           ^^^^^^^^^^^^^^^^^^^^^^^^^^^^^^^^^\n",
      "  File \"/Users/suren/MyFiles/MerionAcademy/lessons-advanced/06.stack-and-recursion/venv/lib/python3.11/site-packages/IPython/core/ultratb.py\", line 1319, in structured_traceback\n",
      "    return VerboseTB.structured_traceback(\n",
      "           ^^^^^^^^^^^^^^^^^^^^^^^^^^^^^^^\n",
      "  File \"/Users/suren/MyFiles/MerionAcademy/lessons-advanced/06.stack-and-recursion/venv/lib/python3.11/site-packages/IPython/core/ultratb.py\", line 1172, in structured_traceback\n",
      "    formatted_exception = self.format_exception_as_a_whole(etype, evalue, etb, number_of_lines_of_context,\n",
      "                          ^^^^^^^^^^^^^^^^^^^^^^^^^^^^^^^^^^^^^^^^^^^^^^^^^^^^^^^^^^^^^^^^^^^^^^^^^^^^^^^^\n",
      "  File \"/Users/suren/MyFiles/MerionAcademy/lessons-advanced/06.stack-and-recursion/venv/lib/python3.11/site-packages/IPython/core/ultratb.py\", line 1087, in format_exception_as_a_whole\n",
      "    frames.append(self.format_record(record))\n",
      "                  ^^^^^^^^^^^^^^^^^^^^^^^^^^\n",
      "  File \"/Users/suren/MyFiles/MerionAcademy/lessons-advanced/06.stack-and-recursion/venv/lib/python3.11/site-packages/IPython/core/ultratb.py\", line 968, in format_record\n",
      "    _format_traceback_lines(\n",
      "  File \"/Users/suren/MyFiles/MerionAcademy/lessons-advanced/06.stack-and-recursion/venv/lib/python3.11/site-packages/IPython/core/ultratb.py\", line 215, in _format_traceback_lines\n",
      "    line = stack_line.render(pygmented=has_colors).rstrip('\\n') + '\\n'\n",
      "           ^^^^^^^^^^^^^^^^^^^^^^^^^^^^^^^^^^^^^^^\n",
      "  File \"/Users/suren/MyFiles/MerionAcademy/lessons-advanced/06.stack-and-recursion/venv/lib/python3.11/site-packages/stack_data/core.py\", line 391, in render\n",
      "    start_line, lines = self.frame_info._pygmented_scope_lines\n",
      "                        ^^^^^^^^^^^^^^^^^^^^^^^^^^^^^^^^^^^^^^\n",
      "  File \"/Users/suren/MyFiles/MerionAcademy/lessons-advanced/06.stack-and-recursion/venv/lib/python3.11/site-packages/stack_data/utils.py\", line 144, in cached_property_wrapper\n",
      "    value = obj.__dict__[self.func.__name__] = self.func(obj)\n",
      "                                               ^^^^^^^^^^^^^^\n",
      "  File \"/Users/suren/MyFiles/MerionAcademy/lessons-advanced/06.stack-and-recursion/venv/lib/python3.11/site-packages/stack_data/core.py\", line 824, in _pygmented_scope_lines\n",
      "    lines = _pygmented_with_ranges(formatter, code, ranges)\n",
      "            ^^^^^^^^^^^^^^^^^^^^^^^^^^^^^^^^^^^^^^^^^^^^^^^\n",
      "  File \"/Users/suren/MyFiles/MerionAcademy/lessons-advanced/06.stack-and-recursion/venv/lib/python3.11/site-packages/stack_data/utils.py\", line 163, in _pygmented_with_ranges\n",
      "    lexer = MyLexer(stripnl=False)\n",
      "            ^^^^^^^^^^^^^^^^^^^^^^\n",
      "  File \"/Users/suren/MyFiles/MerionAcademy/lessons-advanced/06.stack-and-recursion/venv/lib/python3.11/site-packages/pygments/lexer.py\", line 641, in __call__\n",
      "    cls._tokens = cls.process_tokendef('', cls.get_tokendefs())\n",
      "                  ^^^^^^^^^^^^^^^^^^^^^^^^^^^^^^^^^^^^^^^^^^^^^\n",
      "  File \"/Users/suren/MyFiles/MerionAcademy/lessons-advanced/06.stack-and-recursion/venv/lib/python3.11/site-packages/pygments/lexer.py\", line 580, in process_tokendef\n",
      "    cls._process_state(tokendefs, processed, state)\n",
      "  File \"/Users/suren/MyFiles/MerionAcademy/lessons-advanced/06.stack-and-recursion/venv/lib/python3.11/site-packages/pygments/lexer.py\", line 543, in _process_state\n",
      "    tokens.extend(cls._process_state(unprocessed, processed,\n",
      "                  ^^^^^^^^^^^^^^^^^^^^^^^^^^^^^^^^^^^^^^^^^^\n",
      "  File \"/Users/suren/MyFiles/MerionAcademy/lessons-advanced/06.stack-and-recursion/venv/lib/python3.11/site-packages/pygments/lexer.py\", line 543, in _process_state\n",
      "    tokens.extend(cls._process_state(unprocessed, processed,\n",
      "                  ^^^^^^^^^^^^^^^^^^^^^^^^^^^^^^^^^^^^^^^^^^\n",
      "  File \"/Users/suren/MyFiles/MerionAcademy/lessons-advanced/06.stack-and-recursion/venv/lib/python3.11/site-packages/pygments/lexer.py\", line 561, in _process_state\n",
      "    raise ValueError(\"uncompilable regex %r in state %r of %r: %s\" %\n",
      "ValueError: uncompilable regex <pygments.lexer.words object at 0x10271a8d0> in state 'builtins' of <class 'stack_data.utils._pygmented_with_ranges.<locals>.MyLexer'>: maximum recursion depth exceeded while calling a Python object\n"
     ]
    }
   ],
   "source": [
    "fac(80)"
   ]
  },
  {
   "cell_type": "code",
   "execution_count": 42,
   "id": "28086e1e-d0fb-4db4-b568-cb2ef32ef085",
   "metadata": {},
   "outputs": [],
   "source": [
    "from typing import Any\n",
    "from dataclasses import dataclass, field\n",
    "\n",
    "\n",
    "@dataclass\n",
    "class TailCall:\n",
    "    args: tuple[Any, ...] = field(default_factory=tuple)\n",
    "    kwargs: dict[str, Any] = field(default_factory=dict)"
   ]
  },
  {
   "cell_type": "code",
   "execution_count": 43,
   "id": "e9f12925-8a0b-4a53-ba76-d5d535cd7902",
   "metadata": {},
   "outputs": [],
   "source": [
    "from functools import wraps\n",
    "\n",
    "def tail_recursion(func):\n",
    "    @wraps(func)\n",
    "    def wrapper(*args, **kwargs):\n",
    "        result = TailCall(args, kwargs)\n",
    "        while isinstance(result, TailCall):\n",
    "            result = func(*result.args, **result.kwargs)\n",
    "        return result\n",
    "\n",
    "    return wrapper"
   ]
  },
  {
   "cell_type": "code",
   "execution_count": 44,
   "id": "75503326-b15d-433e-8224-0f6cf0d0350e",
   "metadata": {},
   "outputs": [],
   "source": [
    "def tail(*args, **kwargs):\n",
    "    return TailCall(args, kwargs)\n",
    "\n",
    "\n",
    "@tail_recursion\n",
    "def fac(n, accumulator=1):\n",
    "    if n <= 2:\n",
    "        return n * accumulator\n",
    "    return tail(n - 1, accumulator=accumulator * n)"
   ]
  },
  {
   "cell_type": "code",
   "execution_count": 45,
   "id": "5479406d-a293-4f28-a61f-9287a56b5a3f",
   "metadata": {},
   "outputs": [
    {
     "data": {
      "text/plain": [
       "<function __main__.fac(n, accumulator=1)>"
      ]
     },
     "execution_count": 45,
     "metadata": {},
     "output_type": "execute_result"
    }
   ],
   "source": [
    "fac"
   ]
  },
  {
   "cell_type": "code",
   "execution_count": 46,
   "id": "6500bd9d-2056-438c-bd3d-da6ff5841026",
   "metadata": {},
   "outputs": [
    {
     "data": {
      "text/plain": [
       "6"
      ]
     },
     "execution_count": 46,
     "metadata": {},
     "output_type": "execute_result"
    }
   ],
   "source": [
    "fac(3)"
   ]
  },
  {
   "cell_type": "code",
   "execution_count": 47,
   "id": "3219958b-2dff-4a76-b51a-0b28f29ac5fa",
   "metadata": {},
   "outputs": [
    {
     "data": {
      "text/plain": [
       "1"
      ]
     },
     "execution_count": 47,
     "metadata": {},
     "output_type": "execute_result"
    }
   ],
   "source": [
    "fac(1)"
   ]
  },
  {
   "cell_type": "code",
   "execution_count": 48,
   "id": "6d4ebe4f-f5ec-467c-b05e-86a2253e635b",
   "metadata": {},
   "outputs": [
    {
     "data": {
      "text/plain": [
       "3628800"
      ]
     },
     "execution_count": 48,
     "metadata": {},
     "output_type": "execute_result"
    }
   ],
   "source": [
    "fac(10)"
   ]
  },
  {
   "cell_type": "code",
   "execution_count": 49,
   "id": "df9e6501-b7c8-47a0-b68d-850127c30907",
   "metadata": {},
   "outputs": [
    {
     "data": {
      "text/plain": [
       "93326215443944152681699238856266700490715968264381621468592963895217599993229915608941463976156518286253697920827223758251185210916864000000000000000000000000"
      ]
     },
     "execution_count": 49,
     "metadata": {},
     "output_type": "execute_result"
    }
   ],
   "source": [
    "fac(100)"
   ]
  },
  {
   "cell_type": "code",
   "execution_count": 50,
   "id": "6de71554-8e2d-4b8b-9854-26b88047488e",
   "metadata": {},
   "outputs": [
    {
     "name": "stdout",
     "output_type": "stream",
     "text": [
      "6\n"
     ]
    }
   ],
   "source": [
    "from functools import reduce\n",
    "\n",
    "print(reduce(lambda a, b: a * b, range(1, 4)))"
   ]
  },
  {
   "cell_type": "code",
   "execution_count": 51,
   "id": "bb4bfcaf-3245-4108-90d7-590dabf9cf26",
   "metadata": {},
   "outputs": [
    {
     "name": "stdout",
     "output_type": "stream",
     "text": [
      "3628800\n"
     ]
    }
   ],
   "source": [
    "print(reduce(lambda a, b: a * b, range(1, 11)))"
   ]
  },
  {
   "cell_type": "code",
   "execution_count": 52,
   "id": "865f8d21-8051-4f1f-a69a-6c349968545a",
   "metadata": {},
   "outputs": [
    {
     "name": "stdout",
     "output_type": "stream",
     "text": [
      "3628800\n"
     ]
    }
   ],
   "source": [
    "from operator import mul\n",
    "\n",
    "print(reduce(mul, range(1, 11)))"
   ]
  },
  {
   "cell_type": "code",
   "execution_count": null,
   "id": "75c8feb2-26ca-4f6f-96e7-614d9ccf45fd",
   "metadata": {},
   "outputs": [],
   "source": []
  }
 ],
 "metadata": {
  "kernelspec": {
   "display_name": "Python 3 (ipykernel)",
   "language": "python",
   "name": "python3"
  },
  "language_info": {
   "codemirror_mode": {
    "name": "ipython",
    "version": 3
   },
   "file_extension": ".py",
   "mimetype": "text/x-python",
   "name": "python",
   "nbconvert_exporter": "python",
   "pygments_lexer": "ipython3",
   "version": "3.11.4"
  }
 },
 "nbformat": 4,
 "nbformat_minor": 5
}
