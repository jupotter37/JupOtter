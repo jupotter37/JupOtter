{
 "cells": [
  {
   "cell_type": "markdown",
   "id": "4b250e61-941f-4c87-9743-43dc867ecc94",
   "metadata": {},
   "source": [
    "# Dynamic Programming"
   ]
  },
  {
   "cell_type": "markdown",
   "id": "fb996dfc-50da-4c7f-ae5d-81cb57fa8291",
   "metadata": {},
   "source": [
    "### Long Text description"
   ]
  },
  {
   "cell_type": "markdown",
   "id": "f3995587-b5f6-44ad-acf8-66e2815f19c7",
   "metadata": {
    "jupyter": {
     "source_hidden": true
    }
   },
   "source": [
    "Dynamic programming is a computer programming technique where an algorithmic problem is first broken down into sub-problems, the results are saved, and then the sub-problems are optimized to find the overall solution — which usually has to do with finding the maximum and minimum range of the algorithmic query.\n",
    "\n",
    "Recursion vs. dynamic programming\n",
    "In computer science, recursion is a crucial concept in which the solution to a problem depends on solutions to its smaller subproblems. \n",
    "\n",
    "Meanwhile, dynamic programming is an optimization technique for recursive solutions. It is the preferred technique for solving recursive functions that make repeated calls to the same inputs. A function is known as recursive if it calls itself during execution. This process can repeat itself several times before the solution is computed and can repeat forever if it lacks a base case to enable it to fulfill its computation and stop the execution. \n",
    "\n",
    "However, not all problems that use recursion can be solved by dynamic programming. Unless solutions to the subproblems overlap, a recursion solution can only be arrived at using a divide-and-conquer method.\n",
    "\n",
    "For example, problems like merge, sort, and quick sort are not considered dynamic programming problems. This is because they involve putting together the best answers to subproblems that don’t overlap.\n",
    "\n",
    "### Drawbacks of recursion\n",
    "\n",
    "Recursion uses memory space less efficiently. Repeated function calls create entries for all the variables and constants in the function stack. As the values are kept there until the function returns, there is always a limited amount of stack space in the system, thus making less efficient use of memory space. Additionally, a stack overflow error occurs if the recursive function requires more memory than is available in the stack. \n",
    "\n",
    "Recursion is also relatively slow in comparison to iteration, which uses loops. When a function is called, there is an overhead of allocating space for the function and all its data in the function stack in recursion. This causes a slight delay in recursive functions. \n",
    "\n",
    "Where should dynamic programming be used?\n",
    "Dynamic programming is used when one can break a problem into more minor issues that they can break down even further, into even more minor problems. Additionally, these subproblems have overlapped. That is, they require previously calculated values to be recomputed. With dynamic programming, the computed values are stored, thus reducing the need for repeated calculations and saving time and providing faster solutions. \n",
    "\n",
    "How Does Dynamic Programming Work?\n",
    "Dynamic programming works by breaking down complex problems into simpler subproblems. Then, finding optimal solutions to these subproblems. Memorization is a method that saves the outcomes of these processes so that the corresponding answers do not need to be computed when they are later needed. Saving solutions save time on the computation of subproblems that have already been encountered. \n",
    "\n",
    "Dynamic programming can be achieved using two approaches:\n",
    "\n",
    "1. Top-down approach\n",
    "In computer science, problems are resolved by recursively formulating solutions, employing the answers to the problems’ subproblems. If the answers to the subproblems overlap, they may be memoized or kept in a table for later use. The top-down approach follows the strategy of memorization. The memoization process is equivalent to adding the recursion and caching steps. The difference between recursion and caching is that recursion requires calling the function directly, whereas caching requires preserving the intermediate results.\n",
    "\n",
    "The top-down strategy has many benefits, including the following:\n",
    "\n",
    "The top-down approach is easy to understand and implement. In this approach, problems are broken down into smaller parts, which help users identify what needs to be done. With each step, more significant, more complex problems become smaller, less complicated, and, therefore, easier to solve. Some parts may even be reusable for the same problem.\n",
    "It allows for subproblems to be solved upon request. The top-down approach will enable problems to be broken down into smaller parts and their solutions stored for reuse. Users can then query solutions for each part. \n",
    "It is also easier to debug. Segmenting problems into small parts allows users to follow the solution quickly and determine where an error might have occurred. \n",
    "Disadvantages of the top-down approach include:\n",
    "\n",
    "The top-down approach uses the recursion technique, which occupies more memory in the call stack. This leads to reduced overall performance. Additionally, when the recursion is too deep, a stack overflow occurs. \n",
    "2. Bottom-up approach\n",
    "In the bottom-up method, once a solution to a problem is written in terms of its subproblems in a way that loops back on itself, users can rewrite the problem by solving the smaller subproblems first and then using their solutions to solve the larger subproblems. \n",
    "\n",
    "Unlike the top-down approach, the bottom-up approach removes the recursion. Thus, there is neither stack overflow nor overhead from the recursive functions. It also allows for saving memory space. Removing recursion decreases the time complexity of recursion due to recalculating the same values. \n",
    "\n",
    "The advantages of the bottom-up approach include the following:\n",
    "\n",
    "It makes decisions about small reusable subproblems and then decides how they will be put together to create a large problem. \n",
    "It removes recursion, thus promoting the efficient use of memory space. Additionally, this also leads to a reduction in timing complexity. \n",
    "\n",
    "Signs of dynamic programming suitability\n",
    "\n",
    "- Dynamic programming solves complex problems by breaking them up into smaller ones using recursion and storing the answers so they don’t have to be worked out again. It isn’t practical when there aren’t any problems that overlap because it doesn’t make sense to store solutions to the issues that won’t be needed again.\n",
    "\n",
    "Two main signs are that one can solve a problem with dynamic programming: subproblems that overlap and the best possible substructure.\n",
    "\n",
    "### Overlapping subproblems\n",
    "\n",
    "When the answers to the same subproblem are needed more than once to solve the main problem, we say that the subproblems overlap. In overlapping issues, solutions are put into a table so developers can use them repeatedly instead of recalculating them. The recursive program for the Fibonacci numbers has several subproblems that overlap, but a binary search doesn’t have any subproblems that overlap.\n",
    "\n",
    "A binary search is solved using the divide and conquer technique. Every time, the subproblems have a unique array to find the value. Thus, binary search lacks the overlapping property. \n",
    "\n",
    "For example, when finding the nth Fibonacci number, the problem F(n) is broken down into finding F(n-1) and F. (n-2). You can break down F(n-1) even further into a subproblem that has to do with F. (n-2).In this scenario, F(n-2) is reused, and thus, the Fibonacci sequence can be said to exhibit overlapping properties. \n",
    "\n",
    "### Optimal substructure\n",
    "\n",
    "The optimal substructure property of a problem says that you can find the best answer to the problem by taking the best solutions to its subproblems and putting them together. Most of the time, recursion explains how these optimal substructures work.\n",
    "\n",
    "This property is not exclusive to dynamic programming alone, as several problems consist of optimal substructures. However, most of them lack overlapping issues. So, they can’t be called problems with dynamic programming.\n",
    "\n",
    "You can use it to find the shortest route between two points. For example, if a node p is on the shortest path from a source node t to a destination node w, then the shortest path from t to w is the sum of the shortest paths from t to p and from p to w.\n",
    "\n",
    "Examples of problems with optimal substructures include the longest increasing subsequence, longest palindromic substring, and longest common subsequence problem. Examples of problems without optimal substructures include the most extended path problem and the addition-chain exponentiation. \n",
    "\n",
    "### Understanding the Longest Common Subsequence concept in dynamic programming\n",
    "\n",
    "In dynamic programming, the phrase “largest common subsequence” (LCS) refers to the subsequence that is shared by all of the supplied sequences and is the one that is the longest. It is different from the challenge of finding the longest common substring in that the components of the LCS do not need to occupy consecutive locations within the original sequences to be considered part of that problem.\n",
    "\n",
    "The LCS is characterized by an optimal substructure and overlapping subproblem properties. This indicates that the issue may be split into many less complex sub-issues and worked on individually until a solution is found. The solutions to higher-level subproblems are often reused in lower-level subproblems, thus, overlapping subproblems. \n",
    "\n",
    "Therefore, when solving an LCS problem, it is more efficient to use a dynamic algorithm than a recursive algorithm. Dynamic programming stores the results of each function call so that it can be used in future calls, thus minimizing the need for redundant calls. \n",
    "\n",
    "For instance, consider the sequences (MNOP) and (MONMP). They have five length-2 common subsequences (MN), (MO), (MP), (NP), and (OP); two length-3 common subsequences (MNP) and (MOP); MNP and no longer frequent subsequences (MOP). Consequently, (MNP) and (MOP) are the largest shared subsequences. LCS can be applied in bioinformatics to the process of genome sequencing.\n",
    "\n",
    "## Dynamic Programming Algorithms\n",
    "\n",
    "When dynamic programming algorithms are executed, they solve a problem by segmenting it into smaller parts until a solution arrives. They perform these tasks by finding the shortest path. Some of the primary dynamic programming algorithms in use are:\n",
    "\n",
    "### 1. Greedy algorithms\n",
    "An example of dynamic programming algorithms, greedy algorithms are also optimization tools. The method solves a challenge by searching for optimum solutions to the subproblems and combining the findings of these subproblems to get the most optimal answer. \n",
    "\n",
    "Conversely, when greedy algorithms solve a problem, they look for a locally optimum solution to find a global optimum. They make a guess that looks optimum at the time but does not guarantee a globally optimum solution. This could end up becoming costly down the road. \n",
    "\n",
    "### 2. Floyd-Warshall algorithm\n",
    "The Floyd-Warshall method uses a technique of dynamic programming to locate the shortest pathways. It determines the shortest route across all pairings of vertices in a graph with weights. Both directed and undirected weighted graphs can use it.\n",
    "\n",
    "This program compares each pair of vertices’ potential routes through the graph. It gradually optimizes an estimate of the shortest route between two vertices to determine the shortest distance between two vertices in a chart. With simple modifications to it, one can reconstruct the paths. \n",
    "\n",
    "This method for dynamic programming contains two subtypes: \n",
    "\n",
    "Behavior with negative cycles: Users can use the Floyd-Warshall algorithm to find negative cycles. You can do this by inspecting the diagonal path matrix for a negative number that would indicate the graph contains one negative cycle. In a negative cycle, the sum of the edges is a negative value; thus, there cannot be a shortest path between any pair of vertices. Exponentially huge numbers are generated if a negative cycle occurs during algorithm execution.\n",
    "\n",
    "Time complexity: The Floyd-Warshall algorithm has three loops, each with constant complexity. As a result, the Floyd-Warshall complexity has a time complexity of O(n3). Wherein n represents the number of network nodes. \n",
    "\n",
    "### 3. Bellman Ford algorithm\n",
    "The Bellman-Ford Algorithm determines the shortest route from a particular source vertex to every other weighted digraph vertices. The Bellman-Ford algorithm can handle graphs where some of the edge weights are negative numbers and produce a correct answer, unlike Dijkstra’s algorithm, which does not confirm whether it makes the correct answer. However, it is much slower than Dijkstra’s algorithm. \n",
    "\n",
    "The Bellman-Ford algorithm works by relaxation; that is, it gives approximate distances that better ones continuously replace until a solution is reached. The approximate distances are usually overestimated compared to the distance between the vertices. The replacement values reflect the minimum old value and the length of a newly found path. \n",
    "\n",
    "This algorithm terminates upon finding a negative cycle and thus can be applied to cycle-canceling techniques in network flow analysis. \n",
    "\n",
    "## Examples of Dynamic Programming \n",
    "\n",
    "Here are a few examples of how one may use dynamic programming:\n",
    "\n",
    "### 1. Identifying the number of ways to cover a distance\n",
    "Some recursive functions are invoked three times in the recursion technique, indicating the overlapping subproblem characteristic required to calculate issues that use the dynamic programming methodology.\n",
    "\n",
    "Using the top-down technique, just store the value in a HashMap while retaining the recursive structure, then return the value store without calculating each time the function is invoked. Utilize an extra space of dimension n when employing the bottom-up method and compute the values of states beginning with 1, 2,…, n, i.e., compute the values of I i+1 and i+2 and then apply them to determine the value of i+3. \n",
    "\n",
    "### 2. Identifying the optimal strategy of a game\n",
    "To identify the optimal strategy of a game or gamified experience, let’s consider the “coins in a line” game. The memoization technique is used to compute the maximum value of coins taken by player A for coins numbered h to k, assuming player B plays optimally (Mh,k). To find out each player’s strategy, assign values to the coin they pick and the value of the opponent’s coin. After computation, the optimal design for the game is determined by observing the Mh,k value for both players if player A chooses coin h or k. \n",
    "\n",
    "### 3. Counting the number of possible outcomes of a particular die roll \n",
    "With an integer M, the aim is to determine the number of approaches to obtain the sum M by tossing dice repeatedly. The partial recursion tree, where M=8, provides overlapping subproblems when using the recursion method. By using dynamic programming, one can optimize the recursive method. One can use an array to store values after computation for reuse. In this way, the algorithm takes significantly less time to run with time complex: O(t * n * m), with t being the number of faces, n being the number of dice, and m being the given sum.\n",
    "\n",
    "\n",
    "## Takeaway\n",
    "\n",
    "Dynamic programming is among the more advanced skills one must learn as a programmer or DevOps engineer, mainly if you specialize in Python. It is a relatively simple way to solve complex algorithmic problems and a skill you can apply to virtually any language or use case. For example, the viral game, Wordle, follows dynamic programming principles, and users can train an algorithm to resolve it by finding the most optimal combination of alphabets. In other words, the skill has versatile applications and must be part of every DevOps learning kit. "
   ]
  },
  {
   "cell_type": "markdown",
   "id": "e7502407-4957-47cb-984b-e4b468bb7814",
   "metadata": {},
   "source": [
    "## Fibonaci Sequence"
   ]
  },
  {
   "cell_type": "code",
   "execution_count": 9,
   "id": "496f5c55-640c-41ea-bdb1-f2a922de53e5",
   "metadata": {},
   "outputs": [],
   "source": [
    "def fib_slow_recursion(n):\n",
    "    #if n == 0:\n",
    "    #    return 0\n",
    "    if n == 1:\n",
    "        return 1\n",
    "    if n == 2:\n",
    "        return 1\n",
    "    fib = fib_slow_recursion(n-1) + fib_slow_recursion(n-2)\n",
    "    return fib"
   ]
  },
  {
   "cell_type": "code",
   "execution_count": 23,
   "id": "251dd140-777f-41fe-9e0d-7c871d2b2107",
   "metadata": {},
   "outputs": [
    {
     "data": {
      "text/plain": [
       "102334155"
      ]
     },
     "execution_count": 23,
     "metadata": {},
     "output_type": "execute_result"
    }
   ],
   "source": [
    "fib_slow_recursion(40)"
   ]
  },
  {
   "cell_type": "code",
   "execution_count": 36,
   "id": "e33b59ce-48df-4a78-8e5f-edf0e2b8d622",
   "metadata": {},
   "outputs": [],
   "source": [
    "def fib_fast_recursion(n, memo = {}):\n",
    "    if n in memo:\n",
    "        return memo[n]\n",
    "    elif n==1:\n",
    "        memo[1] = 1\n",
    "        return 1\n",
    "    elif n==2:\n",
    "        memo[2] = 1\n",
    "        return 1\n",
    "    else:\n",
    "        memo[n]= fib_fast_recursion(n-2, memo) + fib_fast_recursion(n-1, memo)\n",
    "        print(memo)\n",
    "    return memo[n]\n",
    "    "
   ]
  },
  {
   "cell_type": "code",
   "execution_count": 37,
   "id": "19cbcf8a-2fa6-4ff1-ae7e-9d7c2f890a8b",
   "metadata": {},
   "outputs": [
    {
     "name": "stdout",
     "output_type": "stream",
     "text": [
      "{2: 1, 1: 1, 3: 2}\n",
      "{2: 1, 1: 1, 3: 2, 4: 3}\n",
      "{2: 1, 1: 1, 3: 2, 4: 3, 5: 5}\n",
      "{2: 1, 1: 1, 3: 2, 4: 3, 5: 5, 6: 8}\n",
      "{2: 1, 1: 1, 3: 2, 4: 3, 5: 5, 6: 8, 7: 13}\n",
      "{2: 1, 1: 1, 3: 2, 4: 3, 5: 5, 6: 8, 7: 13, 8: 21}\n",
      "{2: 1, 1: 1, 3: 2, 4: 3, 5: 5, 6: 8, 7: 13, 8: 21, 9: 34}\n",
      "{2: 1, 1: 1, 3: 2, 4: 3, 5: 5, 6: 8, 7: 13, 8: 21, 9: 34, 10: 55}\n"
     ]
    },
    {
     "data": {
      "text/plain": [
       "55"
      ]
     },
     "execution_count": 37,
     "metadata": {},
     "output_type": "execute_result"
    }
   ],
   "source": [
    "fib_fast_recursion(10)"
   ]
  },
  {
   "cell_type": "markdown",
   "id": "0ef1b81f-3ae4-4fb3-ac8a-5d7821947e6d",
   "metadata": {},
   "source": [
    "***"
   ]
  },
  {
   "cell_type": "markdown",
   "id": "f8b08ec6-96ee-4254-aa65-69085de49d7e",
   "metadata": {},
   "source": [
    "## Number of Paths to Traversing an array (with easy contraints )\n",
    "\n",
    "You need to find all the possible number of ways to traverse a n*m array from (0,0) to (n-1, m-1).\n",
    "Constraints: You can only move right and down. (The hard problem is when the the only contraints is that you cannot move back over a point in the grid you have already been but can move right, left, up and down!!)"
   ]
  },
  {
   "cell_type": "markdown",
   "id": "f691c833-d21e-4cb5-9d02-771be90552b6",
   "metadata": {},
   "source": [
    "### Overview of solution:\n",
    "\n",
    "1. We start with (n-1, m-1) and understand the the only way to access this point in the graph is by either approaching from (n-2, m-1) or (n-1, m-2)\n",
    "\n",
    "2. However this logic holds for node in the graph, which means that the number of ways to get to a point is the sum of the node above and to the immediate left in the graph. This can be illustrated by the following logic: \n",
    "\n",
    "numberOfWaysToGetTo(i,j) = numberOfWaysToGetTo(i-1,j) + numberOfWaysToGetTo(i,j-1)"
   ]
  },
  {
   "cell_type": "code",
   "execution_count": 50,
   "id": "076d0e5b-c0b3-45d0-a7fa-0f5f9c7766bc",
   "metadata": {},
   "outputs": [],
   "source": [
    "def waysToTraversSlow(n,m):\n",
    "    i=n\n",
    "    j=m\n",
    "    return waysToTraverse2dGraph(i,j,n,m) \n",
    "\n",
    "def waysToTraverse2dGraph(i,j,n,m):\n",
    "    if i<1 or j<1 or (i==1 and j==1):\n",
    "        return 0\n",
    "    if i==1 and j==2:\n",
    "        return 1\n",
    "    if i==2 and j==1:\n",
    "        return 1\n",
    "\n",
    "    \n",
    "    waysToTraverse = waysToTraverse2dGraph(i-1,j,n,m) + waysToTraverse2dGraph(i,j-1,n,m)\n",
    "    return waysToTraverse"
   ]
  },
  {
   "cell_type": "code",
   "execution_count": 56,
   "id": "94897e40-7089-4536-922c-c88326afe7f1",
   "metadata": {},
   "outputs": [
    {
     "data": {
      "text/plain": [
       "705432"
      ]
     },
     "execution_count": 56,
     "metadata": {},
     "output_type": "execute_result"
    }
   ],
   "source": [
    "waysToTraversSlow(12,12)"
   ]
  },
  {
   "cell_type": "code",
   "execution_count": 62,
   "id": "0863387a-a39d-4677-92fe-50f4459cb61d",
   "metadata": {},
   "outputs": [],
   "source": [
    "def waysToTraversFast(n,m):\n",
    "    i=n\n",
    "    j=m\n",
    "    memo = {}\n",
    "    return waysToTraverse2dGraph_fast(i,j,n,m, memo) \n",
    "\n",
    "def waysToTraverse2dGraph_fast(i,j,n,m, memo):\n",
    "    if str(i)+\"__\"+str(j) in memo:\n",
    "        return memo[str(i)+\"__\"+str(j)]\n",
    "    if i<1 or j<1 or (i==1 and j==1):\n",
    "        return 0\n",
    "    if i==1 and j==2:\n",
    "        return 1\n",
    "    if i==2 and j==1:\n",
    "        return 1\n",
    "    memo[str(i)+\"__\"+str(j)] = waysToTraverse2dGraph_fast(i-1,j,n,m, memo) + waysToTraverse2dGraph_fast(i,j-1,n,m, memo)\n",
    "    return memo[str(i)+\"__\"+str(j)]"
   ]
  },
  {
   "cell_type": "code",
   "execution_count": 66,
   "id": "f4980f0a-9f99-4e96-8159-6c8bfe4f950a",
   "metadata": {},
   "outputs": [
    {
     "data": {
      "text/plain": [
       "35345263800"
      ]
     },
     "execution_count": 66,
     "metadata": {},
     "output_type": "execute_result"
    }
   ],
   "source": [
    "waysToTraversFast(20,20)"
   ]
  },
  {
   "cell_type": "markdown",
   "id": "9c7558b0-4311-483f-bd20-3be39bf356cd",
   "metadata": {},
   "source": [
    "***"
   ]
  },
  {
   "cell_type": "markdown",
   "id": "a3b7b0cd-f400-4a11-8b57-e587e58996c8",
   "metadata": {},
   "source": [
    "## Can Sum\n",
    "\n",
    "Input an integer and an array and evaluate whether the numbers in the array can sum up to the integer"
   ]
  },
  {
   "cell_type": "code",
   "execution_count": 46,
   "id": "7b0e66a7-b214-481c-9910-a933499afe8d",
   "metadata": {},
   "outputs": [],
   "source": [
    "def canSum(I, A):\n",
    "    N = len(A)\n",
    "\n",
    "    sumArray = [0]*(N-1)\n",
    "    \n",
    "    for i in range(N):\n",
    "        if A[i] == I:\n",
    "            print(\"I is a number in the array\")\n",
    "            return True\n",
    "        if  A[i] < I :\n",
    "            if I in sumArray:\n",
    "                print(\"I is in the array: \"+str(sumArray))\n",
    "                \n",
    "                return True\n",
    "            else:\n",
    "                for j in range(i):\n",
    "                    sumArray[j] = sumArray[j] + A[i]\n",
    "\n",
    "    print(\"sumArray is now: \"+str(sumArray))\n",
    "    if (I in sumArray) == False:\n",
    "        return False\n",
    "                \n",
    "            \n",
    "            "
   ]
  },
  {
   "cell_type": "code",
   "execution_count": 47,
   "id": "39ace94b-d7b9-448e-b0ab-ea6a22e4479f",
   "metadata": {},
   "outputs": [
    {
     "name": "stdout",
     "output_type": "stream",
     "text": [
      "I is in the array: [9, 7, 4, 0, 0, 0, 0]\n"
     ]
    },
    {
     "data": {
      "text/plain": [
       "True"
      ]
     },
     "execution_count": 47,
     "metadata": {},
     "output_type": "execute_result"
    }
   ],
   "source": [
    "canSum(9, [1,2,3,4,5,6,7,8])"
   ]
  },
  {
   "cell_type": "code",
   "execution_count": 36,
   "id": "26eeb452-7fe0-4cf9-ae49-837b51754966",
   "metadata": {},
   "outputs": [],
   "source": [
    "# and this is even wrong\n",
    "def canSum_slow(I, A):\n",
    "    N = len(A)\n",
    "\n",
    "    sumArray = [0]*(N-1)\n",
    "    # what needs to happen is that all numbers need to be summed up in all combinations\n",
    "\n",
    "    # given the array [0,1,1,1,1,3,7,8] and I = 17 then obviously we can make that by summing A[1,2,6,7]\n",
    "\n",
    "    # [add the first to all...]\n",
    "\n",
    "    # [add the second to all, except the first]\n",
    "\n",
    "    # [add the third to all except the second and first etc.. ]\n",
    "\n",
    "    # [then repeat so that you add the first]"
   ]
  },
  {
   "cell_type": "code",
   "execution_count": 37,
   "id": "0c3f7387-0354-477d-a34f-34606d05fd2c",
   "metadata": {},
   "outputs": [
    {
     "data": {
      "text/plain": [
       "True"
      ]
     },
     "execution_count": 37,
     "metadata": {},
     "output_type": "execute_result"
    }
   ],
   "source": [
    "canSum(9, [1,2,3,4,5,6,7,8])"
   ]
  },
  {
   "cell_type": "code",
   "execution_count": 24,
   "id": "f13c9c8f-953e-4dde-bbbd-6605b468da53",
   "metadata": {},
   "outputs": [],
   "source": [
    "from random import choices, random"
   ]
  },
  {
   "cell_type": "code",
   "execution_count": 39,
   "id": "9d2ccae8-a2df-4e96-b4e9-1d873bebfc2d",
   "metadata": {},
   "outputs": [],
   "source": [
    "small_I = random()\n",
    "I = int(small_I * 1000000)"
   ]
  },
  {
   "cell_type": "code",
   "execution_count": 40,
   "id": "0aaeb243-8c97-4f21-907e-2b283a8b7db0",
   "metadata": {},
   "outputs": [],
   "source": [
    "A = choices(range(0,100000),k=10000)"
   ]
  },
  {
   "cell_type": "code",
   "execution_count": 41,
   "id": "ef54fbb9-4505-4e06-a10d-1dc28bfaef16",
   "metadata": {
    "scrolled": true
   },
   "outputs": [
    {
     "data": {
      "text/plain": [
       "True"
      ]
     },
     "execution_count": 41,
     "metadata": {},
     "output_type": "execute_result"
    }
   ],
   "source": [
    "canSum(I,A)"
   ]
  },
  {
   "cell_type": "code",
   "execution_count": null,
   "id": "007ad149-cb96-446f-9f40-0ce00c0f234d",
   "metadata": {},
   "outputs": [],
   "source": [
    "class Person:\n",
    "  def __init__(self, name, age):\n",
    "    self.name = name\n",
    "    self.age = age\n",
    "\n",
    "p1 = Person(\"John\", 36)\n",
    "\n",
    "print(p1.name)\n",
    "print(p1.age)"
   ]
  },
  {
   "cell_type": "code",
   "execution_count": null,
   "id": "72f48e78-d686-461c-aca9-475ff6f9741f",
   "metadata": {},
   "outputs": [],
   "source": []
  },
  {
   "cell_type": "code",
   "execution_count": 74,
   "id": "b0aecfd0-617d-444a-8105-0f3d331703eb",
   "metadata": {},
   "outputs": [],
   "source": [
    "# how many possible combinations do we have?\n",
    "class internal_factorial:\n",
    "    def __init__(self):\n",
    "        self.memo = {}\n",
    "\n",
    "    def factor(self, n):\n",
    "        if n==0:\n",
    "            return 1\n",
    "        if n==1:\n",
    "            return 1\n",
    "        if n in self.memo:\n",
    "            return self.memo[n]\n",
    "        else:\n",
    "            self.memo[n] = self.factor(n-1) * n\n",
    "            return self.memo[n]\n",
    "            \n",
    "\n",
    "        "
   ]
  },
  {
   "cell_type": "code",
   "execution_count": 75,
   "id": "59ef1081-8635-4cdf-b2a4-46b63ea230cc",
   "metadata": {},
   "outputs": [],
   "source": [
    "myFactor = internal_factorial()"
   ]
  },
  {
   "cell_type": "code",
   "execution_count": 76,
   "id": "ed4e9a68-cc26-4dc9-b0df-abec1c932f70",
   "metadata": {},
   "outputs": [
    {
     "data": {
      "text/plain": [
       "1"
      ]
     },
     "execution_count": 76,
     "metadata": {},
     "output_type": "execute_result"
    }
   ],
   "source": [
    "myFactor.factor(1)"
   ]
  },
  {
   "cell_type": "code",
   "execution_count": 95,
   "id": "1d8e1bc5-1513-4b8e-b2eb-d81181a4a778",
   "metadata": {},
   "outputs": [
    {
     "data": {
      "text/plain": [
       "402387260077093773543702433923003985719374864210714632543799910429938512398629020592044208486969404800479988610197196058631666872994808558901323829669944590997424504087073759918823627727188732519779505950995276120874975462497043601418278094646496291056393887437886487337119181045825783647849977012476632889835955735432513185323958463075557409114262417474349347553428646576611667797396668820291207379143853719588249808126867838374559731746136085379534524221586593201928090878297308431392844403281231558611036976801357304216168747609675871348312025478589320767169132448426236131412508780208000261683151027341827977704784635868170164365024153691398281264810213092761244896359928705114964975419909342221566832572080821333186116811553615836546984046708975602900950537616475847728421889679646244945160765353408198901385442487984959953319101723355556602139450399736280750137837615307127761926849034352625200015888535147331611702103968175921510907788019393178114194545257223865541461062892187960223838971476088506276862967146674697562911234082439208160153780889893964518263243671616762179168909779911903754031274622289988005195444414282012187361745992642956581746628302955570299024324153181617210465832036786906117260158783520751516284225540265170483304226143974286933061690897968482590125458327168226458066526769958652682272807075781391858178889652208164348344825993266043367660176999612831860788386150279465955131156552036093988180612138558600301435694527224206344631797460594682573103790084024432438465657245014402821885252470935190620929023136493273497565513958720559654228749774011413346962715422845862377387538230483865688976461927383814900140767310446640259899490222221765904339901886018566526485061799702356193897017860040811889729918311021171229845901641921068884387121855646124960798722908519296819372388642614839657382291123125024186649353143970137428531926649875337218940694281434118520158014123344828015051399694290153483077644569099073152433278288269864602789864321139083506217095002597389863554277196742822248757586765752344220207573630569498825087968928162753848863396909959826280956121450994871701244516461260379029309120889086942028510640182154399457156805941872748998094254742173582401063677404595741785160829230135358081840096996372524230560855903700624271243416909004153690105933983835777939410970027753472000000000000000000000000000000000000000000000000000000000000000000000000000000000000000000000000000000000000000000000000000000000000000000000000000000000000000000000000000000000000000000000000000000000000000000000000000000000000000000000000000000000"
      ]
     },
     "execution_count": 95,
     "metadata": {},
     "output_type": "execute_result"
    }
   ],
   "source": [
    "myFactor.factor(1000)"
   ]
  },
  {
   "cell_type": "code",
   "execution_count": null,
   "id": "fa87646e-5c7c-4f10-b39f-07f2bc22aaf3",
   "metadata": {},
   "outputs": [],
   "source": []
  },
  {
   "cell_type": "code",
   "execution_count": 86,
   "id": "55c8afa7-b038-41dd-b610-b834e8861932",
   "metadata": {},
   "outputs": [],
   "source": [
    "    \n",
    "\n",
    "def sumOfCombinations(n):\n",
    "    # this calculates the sum of combinations\n",
    "    sumOfCombo = 0\n",
    "    factorial_N = myFactor.factor(n)\n",
    "    \n",
    "    for i in range(1,n+1):\n",
    "        factorAdd = factorial_N/(myFactor.factor(i) * myFactor.factor(n-i))\n",
    "        #print(\"this is the factorial added: \"+str(factorAdd))\n",
    "        sumOfCombo += factorAdd\n",
    "    return sumOfCombo"
   ]
  },
  {
   "cell_type": "code",
   "execution_count": 96,
   "id": "1c2cdf5e-0466-425d-9230-a14fafeda58f",
   "metadata": {},
   "outputs": [
    {
     "data": {
      "text/plain": [
       "3.0"
      ]
     },
     "execution_count": 96,
     "metadata": {},
     "output_type": "execute_result"
    }
   ],
   "source": [
    "sumOfCombinations(2)"
   ]
  },
  {
   "cell_type": "code",
   "execution_count": 114,
   "id": "bc6ad762-5db4-489d-8668-bbd7ec9aa146",
   "metadata": {},
   "outputs": [],
   "source": [
    "## lets implement canSum according to the logic from Alvin\n",
    "\n",
    "def canSum_slow(I, A):\n",
    "    if I==0:\n",
    "        return True\n",
    "    if I<0:\n",
    "        return False\n",
    "    N = len(A)\n",
    "\n",
    "    for i in range(N):\n",
    "        remainder = I - A[i]\n",
    "        if canSum_slow(remainder, A) == True:\n",
    "            return True\n",
    "    return False"
   ]
  },
  {
   "cell_type": "code",
   "execution_count": 115,
   "id": "75af788f-e232-4b62-bf90-8bc6e84b7cdb",
   "metadata": {},
   "outputs": [],
   "source": [
    "A = choices(range(0,10),k=200)"
   ]
  },
  {
   "cell_type": "code",
   "execution_count": 116,
   "id": "79e0bfe7-5fb4-4cf4-a305-c9335c28d2c8",
   "metadata": {},
   "outputs": [
    {
     "ename": "RecursionError",
     "evalue": "maximum recursion depth exceeded in comparison",
     "output_type": "error",
     "traceback": [
      "\u001b[0;31m---------------------------------------------------------------------------\u001b[0m",
      "\u001b[0;31mRecursionError\u001b[0m                            Traceback (most recent call last)",
      "Cell \u001b[0;32mIn[116], line 1\u001b[0m\n\u001b[0;32m----> 1\u001b[0m \u001b[43mcanSum_slow\u001b[49m\u001b[43m(\u001b[49m\u001b[38;5;241;43m5000\u001b[39;49m\u001b[43m,\u001b[49m\u001b[43mA\u001b[49m\u001b[43m)\u001b[49m\n",
      "Cell \u001b[0;32mIn[114], line 12\u001b[0m, in \u001b[0;36mcanSum_slow\u001b[0;34m(I, A)\u001b[0m\n\u001b[1;32m     10\u001b[0m \u001b[38;5;28;01mfor\u001b[39;00m i \u001b[38;5;129;01min\u001b[39;00m \u001b[38;5;28mrange\u001b[39m(N):\n\u001b[1;32m     11\u001b[0m     remainder \u001b[38;5;241m=\u001b[39m I \u001b[38;5;241m-\u001b[39m A[i]\n\u001b[0;32m---> 12\u001b[0m     \u001b[38;5;28;01mif\u001b[39;00m \u001b[43mcanSum_slow\u001b[49m\u001b[43m(\u001b[49m\u001b[43mremainder\u001b[49m\u001b[43m,\u001b[49m\u001b[43m \u001b[49m\u001b[43mA\u001b[49m\u001b[43m)\u001b[49m \u001b[38;5;241m==\u001b[39m \u001b[38;5;28;01mTrue\u001b[39;00m:\n\u001b[1;32m     13\u001b[0m         \u001b[38;5;28;01mreturn\u001b[39;00m \u001b[38;5;28;01mTrue\u001b[39;00m\n\u001b[1;32m     14\u001b[0m \u001b[38;5;28;01mreturn\u001b[39;00m \u001b[38;5;28;01mFalse\u001b[39;00m\n",
      "Cell \u001b[0;32mIn[114], line 12\u001b[0m, in \u001b[0;36mcanSum_slow\u001b[0;34m(I, A)\u001b[0m\n\u001b[1;32m     10\u001b[0m \u001b[38;5;28;01mfor\u001b[39;00m i \u001b[38;5;129;01min\u001b[39;00m \u001b[38;5;28mrange\u001b[39m(N):\n\u001b[1;32m     11\u001b[0m     remainder \u001b[38;5;241m=\u001b[39m I \u001b[38;5;241m-\u001b[39m A[i]\n\u001b[0;32m---> 12\u001b[0m     \u001b[38;5;28;01mif\u001b[39;00m \u001b[43mcanSum_slow\u001b[49m\u001b[43m(\u001b[49m\u001b[43mremainder\u001b[49m\u001b[43m,\u001b[49m\u001b[43m \u001b[49m\u001b[43mA\u001b[49m\u001b[43m)\u001b[49m \u001b[38;5;241m==\u001b[39m \u001b[38;5;28;01mTrue\u001b[39;00m:\n\u001b[1;32m     13\u001b[0m         \u001b[38;5;28;01mreturn\u001b[39;00m \u001b[38;5;28;01mTrue\u001b[39;00m\n\u001b[1;32m     14\u001b[0m \u001b[38;5;28;01mreturn\u001b[39;00m \u001b[38;5;28;01mFalse\u001b[39;00m\n",
      "    \u001b[0;31m[... skipping similar frames: canSum_slow at line 12 (2969 times)]\u001b[0m\n",
      "Cell \u001b[0;32mIn[114], line 12\u001b[0m, in \u001b[0;36mcanSum_slow\u001b[0;34m(I, A)\u001b[0m\n\u001b[1;32m     10\u001b[0m \u001b[38;5;28;01mfor\u001b[39;00m i \u001b[38;5;129;01min\u001b[39;00m \u001b[38;5;28mrange\u001b[39m(N):\n\u001b[1;32m     11\u001b[0m     remainder \u001b[38;5;241m=\u001b[39m I \u001b[38;5;241m-\u001b[39m A[i]\n\u001b[0;32m---> 12\u001b[0m     \u001b[38;5;28;01mif\u001b[39;00m \u001b[43mcanSum_slow\u001b[49m\u001b[43m(\u001b[49m\u001b[43mremainder\u001b[49m\u001b[43m,\u001b[49m\u001b[43m \u001b[49m\u001b[43mA\u001b[49m\u001b[43m)\u001b[49m \u001b[38;5;241m==\u001b[39m \u001b[38;5;28;01mTrue\u001b[39;00m:\n\u001b[1;32m     13\u001b[0m         \u001b[38;5;28;01mreturn\u001b[39;00m \u001b[38;5;28;01mTrue\u001b[39;00m\n\u001b[1;32m     14\u001b[0m \u001b[38;5;28;01mreturn\u001b[39;00m \u001b[38;5;28;01mFalse\u001b[39;00m\n",
      "Cell \u001b[0;32mIn[114], line 4\u001b[0m, in \u001b[0;36mcanSum_slow\u001b[0;34m(I, A)\u001b[0m\n\u001b[1;32m      3\u001b[0m \u001b[38;5;28;01mdef\u001b[39;00m \u001b[38;5;21mcanSum_slow\u001b[39m(I, A):\n\u001b[0;32m----> 4\u001b[0m     \u001b[38;5;28;01mif\u001b[39;00m \u001b[43mI\u001b[49m\u001b[38;5;241;43m==\u001b[39;49m\u001b[38;5;241;43m0\u001b[39;49m:\n\u001b[1;32m      5\u001b[0m         \u001b[38;5;28;01mreturn\u001b[39;00m \u001b[38;5;28;01mTrue\u001b[39;00m\n\u001b[1;32m      6\u001b[0m     \u001b[38;5;28;01mif\u001b[39;00m I\u001b[38;5;241m<\u001b[39m\u001b[38;5;241m0\u001b[39m:\n",
      "\u001b[0;31mRecursionError\u001b[0m: maximum recursion depth exceeded in comparison"
     ]
    }
   ],
   "source": [
    "canSum_slow(5000,A)"
   ]
  },
  {
   "cell_type": "code",
   "execution_count": 125,
   "id": "025967e7-13d9-43be-a41a-d687f1cfdefd",
   "metadata": {},
   "outputs": [],
   "source": [
    "## lets implement canSum according to the logic from Alvin\n",
    "\n",
    "\n",
    "\n",
    "def canSum_fast(I, A, memo={}):\n",
    "    if I==0:\n",
    "        return True\n",
    "    if I<0:\n",
    "        return False\n",
    "    N= len(A)\n",
    "    if I in memo:\n",
    "        return memo[I]\n",
    "\n",
    "    for i in range(N):\n",
    "        remainder = I - A[i]\n",
    "        \n",
    "        if canSum_fast(remainder, A, memo) == True:\n",
    "            memo[I] = True\n",
    "            return True\n",
    "\n",
    "    memo[I] = False\n",
    "    return False"
   ]
  },
  {
   "cell_type": "code",
   "execution_count": 129,
   "id": "e54193c4-c173-48de-a7c6-4db36918afb1",
   "metadata": {},
   "outputs": [
    {
     "data": {
      "text/plain": [
       "True"
      ]
     },
     "execution_count": 129,
     "metadata": {},
     "output_type": "execute_result"
    }
   ],
   "source": [
    "canSum_fast(400,[1,3,4,5,6,67,7,7,66,6])"
   ]
  },
  {
   "cell_type": "markdown",
   "id": "25c40241-1967-484c-a64f-05db9cd53f04",
   "metadata": {},
   "source": [
    "## How Sum (same exercise as above but now return the whole array used to make the sum)"
   ]
  },
  {
   "cell_type": "code",
   "execution_count": null,
   "id": "cc5f09ab-0df1-4171-8751-5fa2fbb87a8c",
   "metadata": {},
   "outputs": [],
   "source": [
    "## lets implement canSum according to the logic from Alvin\n",
    "\n",
    "def howSum_fast(I, A, V=[],memo={}):\n",
    "    \n",
    "    if I == 0:\n",
    "        return V\n",
    "    if I < 0:\n",
    "        V.pop()\n",
    "\n",
    "    # we loop through all of A and subtract from I and we save A[i] in our Vector \n",
    "    N = len(A)\n",
    "\n",
    "    for i in range(N):\n",
    "        remainder = I - A[i]\n",
    "        V.append(A[i])\n",
    "        \n",
    "\n",
    "    \n",
    "    N=len(A)\n",
    "    \n",
    "    for i in range()\n",
    "  \n",
    "    memo[I] = False\n",
    "    return None"
   ]
  },
  {
   "cell_type": "code",
   "execution_count": null,
   "id": "6490632a-f962-4310-a1af-716643d6f8f2",
   "metadata": {},
   "outputs": [],
   "source": []
  },
  {
   "cell_type": "code",
   "execution_count": null,
   "id": "73f23c93-6878-4533-8985-9c7c9b8ad332",
   "metadata": {},
   "outputs": [],
   "source": [
    "\n",
    "\n",
    "\n"
   ]
  },
  {
   "cell_type": "code",
   "execution_count": 6,
   "id": "7d643adb-b89b-46e0-a556-a76b701b3659",
   "metadata": {},
   "outputs": [],
   "source": [
    "def howSum_slow(targetSum, numbers):\n",
    "    remResult = []\n",
    "    return howSum_slow_iterator(targetSum, numbers, remResult)\n",
    "\n",
    "def howSum_slow_iterator(targetSum, numbers, remResult):\n",
    "    # if we have reached 0 we want to return path\n",
    "    if targetSum==0:\n",
    "        return []\n",
    "    # if we are below zero we want to return None because then we have over-subtracted\n",
    "    if targetSum<0:\n",
    "        return None\n",
    "\n",
    "    for num in numbers:\n",
    "        remainder = targetSum - num\n",
    "        #memo[I] = remainder\n",
    "        remainderResult = howSum_slow_iterator(remainder, numbers, remResult)\n",
    "        #print(remainderResult)\n",
    "        if remainderResult != None:\n",
    "            remResult.append(num)\n",
    "            return remResult\n",
    "\n",
    "\n",
    "    \n",
    "        \n"
   ]
  },
  {
   "cell_type": "code",
   "execution_count": 15,
   "id": "c2b6469a-aca2-4926-9fa7-066a9e28cf77",
   "metadata": {
    "scrolled": true
   },
   "outputs": [],
   "source": [
    "x = howSum_slow(10001,[33,27,25])"
   ]
  },
  {
   "cell_type": "code",
   "execution_count": 13,
   "id": "c50b9c81-b00d-4ded-9dc5-666633a79b50",
   "metadata": {},
   "outputs": [
    {
     "data": {
      "text/plain": [
       "10001"
      ]
     },
     "execution_count": 13,
     "metadata": {},
     "output_type": "execute_result"
    }
   ],
   "source": [
    "sum(x)"
   ]
  },
  {
   "cell_type": "code",
   "execution_count": null,
   "id": "ccd926b3-ef8a-40c2-b4be-46864dce9a9c",
   "metadata": {},
   "outputs": [],
   "source": []
  },
  {
   "cell_type": "code",
   "execution_count": null,
   "id": "f9175e3f-9c33-46ba-b35a-72e214863208",
   "metadata": {},
   "outputs": [],
   "source": []
  },
  {
   "cell_type": "code",
   "execution_count": 119,
   "id": "96bb7675-bd84-4b1e-a4a8-e09f2646ba4f",
   "metadata": {},
   "outputs": [],
   "source": [
    "def howSum_slow(targetSum, numbers):\n",
    "    remResult = []\n",
    "    # memo = {}\n",
    "    return howSum_slow_iterator(targetSum, numbers, remResult)\n",
    "\n",
    "def howSum_slow_iterator(targetSum, numbers, remResult):\n",
    "    \n",
    "    # if targetSum in memo:\n",
    "    #     return memo[targetSum]\n",
    "    \n",
    "    # if we have reached 0 we want to return path\n",
    "    if targetSum==0:\n",
    "        return []\n",
    "    # if we are below zero we want to return None because then we have over-subtracted\n",
    "    if targetSum<0:\n",
    "        return None\n",
    "\n",
    "    for num in numbers:\n",
    "        remainder = targetSum - num\n",
    "        #memo[I] = remainder\n",
    "        \n",
    "        remainderResult = howSum_slow_iterator(remainder, numbers, remResult)\n",
    "        \n",
    "        #print(remainderResult)\n",
    "        if remainderResult != None:\n",
    "            return remResult.append(num)\n"
   ]
  },
  {
   "cell_type": "code",
   "execution_count": 120,
   "id": "6d9bc600-ef08-4dfb-803c-eb9c9ebf484d",
   "metadata": {},
   "outputs": [],
   "source": [
    "howSum_slow(75,[33,27,25])"
   ]
  },
  {
   "cell_type": "code",
   "execution_count": 106,
   "id": "4218e520-0afc-4cb2-865b-1703435ea5d4",
   "metadata": {},
   "outputs": [
    {
     "name": "stdout",
     "output_type": "stream",
     "text": [
      "5\n"
     ]
    }
   ],
   "source": [
    "A = [1,2,3,4,5]\n",
    "print(A[-1])"
   ]
  },
  {
   "cell_type": "code",
   "execution_count": 78,
   "id": "d189ffcd-54e2-4795-9d41-347dd08b77ef",
   "metadata": {},
   "outputs": [],
   "source": [
    "A.append(6)"
   ]
  },
  {
   "cell_type": "code",
   "execution_count": 79,
   "id": "974d9892-6a38-4919-83e1-b47f860688b7",
   "metadata": {},
   "outputs": [
    {
     "data": {
      "text/plain": [
       "[1, 2, 3, 4, 5, 6]"
      ]
     },
     "execution_count": 79,
     "metadata": {},
     "output_type": "execute_result"
    }
   ],
   "source": [
    "A"
   ]
  },
  {
   "cell_type": "code",
   "execution_count": null,
   "id": "b287a40f-0e95-4c24-afd6-77925b41d757",
   "metadata": {},
   "outputs": [],
   "source": []
  },
  {
   "cell_type": "code",
   "execution_count": null,
   "id": "31257b6a-26c6-4923-b912-3c30680254f0",
   "metadata": {},
   "outputs": [],
   "source": []
  },
  {
   "cell_type": "code",
   "execution_count": 92,
   "id": "e78696bd-51e2-4038-8e68-26c33f81effd",
   "metadata": {},
   "outputs": [],
   "source": [
    "#def howSum_primary(targetSum, numbers):\n",
    "#    path_ = []\n",
    "#    memo_ = {}\n",
    "#    return howSum_2(targetSum, numbers, memo = memo_, path=path_)\n",
    "\n",
    "\n",
    "def howSum_2(targetSum, numbers, memo ={}, path=[]):\n",
    "    if targetSum in memo:\n",
    "        return memo[targetSum]\n",
    "\n",
    "    if targetSum == 0:\n",
    "        return []\n",
    "\n",
    "    if targetSum < 0:\n",
    "        return None\n",
    "\n",
    "    for num in numbers:\n",
    "\n",
    "        remainder = targetSum - num\n",
    "    \n",
    "        if howSum_2(remainder, numbers, memo, path) != None:\n",
    "            #print(num)\n",
    "            path.append(num)\n",
    "            return path\n",
    "    path = None\n",
    "            \n",
    "\n",
    "\n",
    "\n",
    "\n",
    "    \n",
    "    "
   ]
  },
  {
   "cell_type": "code",
   "execution_count": 93,
   "id": "742f0359-cb27-46c2-968a-7849475e891b",
   "metadata": {},
   "outputs": [],
   "source": [
    "def howSum_3(targetSum, numbers, memo ={}):\n",
    "    if targetSum in memo:\n",
    "        return memo[targetSum]\n",
    "\n",
    "    if targetSum == 0:\n",
    "        return []\n",
    "\n",
    "    if targetSum < 0:\n",
    "        return None\n",
    "\n",
    "    for num in numbers:\n",
    "\n",
    "        remainder = targetSum - num\n",
    "        \n",
    "        remainderResult = howSum_3(remainder, numbers, memo)\n",
    "        \n",
    "        if remainderResult != None:\n",
    "            #print(\"---this is the remainderResult: \"+str(remainderResult))\n",
    "            remainderResult.append(num)\n",
    "            memo[targetSum] = remainderResult\n",
    "            #print(\"---this is the targetSumValue: \"+str(targetSum))\n",
    "            #print(\"---this is the memo: \"+str(memo[targetSum]))\n",
    "            #print(\"---this is the targetSumValue\"+str(targerSum))\n",
    "            return memo[targetSum]\n",
    "    \n",
    "    memo[targetSum] = None\n",
    "    return memo[targetSum]\n"
   ]
  },
  {
   "cell_type": "code",
   "execution_count": 94,
   "id": "b01b4a56-9bab-4f40-bf16-2e4962d7f439",
   "metadata": {},
   "outputs": [],
   "source": [
    "import time"
   ]
  },
  {
   "cell_type": "code",
   "execution_count": 96,
   "id": "a2108a27-5d90-47df-bd81-fb587a6267a3",
   "metadata": {},
   "outputs": [
    {
     "name": "stdout",
     "output_type": "stream",
     "text": [
      "sum of x is: 2000\n",
      "Time for the first algorithm:  0.0002963542938232422\n",
      "sum of x is: 2000\n",
      "Time for the second algorithm:  0.0001800060272216797\n"
     ]
    }
   ],
   "source": [
    "# Measure the running time of the first algorithm\n",
    "start_time = time.time()\n",
    "x = howSum_3(2000, [3,3,3,4,1,5])\n",
    "print(\"sum of x is: \"+str(sum(x)))\n",
    "end_time = time.time()\n",
    "print(\"Time for the first algorithm: \", end_time - start_time)\n",
    "\n",
    "# Measure the running time of the second algorithm\n",
    "start_time = time.time()\n",
    "x = howSum_2(2000, [3,3,3,4,1,5])\n",
    "print(\"sum of x is: \"+str(sum(x)))\n",
    "end_time = time.time()\n",
    "print(\"Time for the second algorithm: \", end_time - start_time)"
   ]
  },
  {
   "cell_type": "code",
   "execution_count": null,
   "id": "32753675-56b0-47e4-9481-221de5e2a17f",
   "metadata": {},
   "outputs": [],
   "source": []
  },
  {
   "cell_type": "code",
   "execution_count": 68,
   "id": "40fe73bd-a91e-47f3-aa60-63c273beff67",
   "metadata": {},
   "outputs": [],
   "source": [
    "x = howSum_3(1000, [3,1,5])"
   ]
  },
  {
   "cell_type": "code",
   "execution_count": 64,
   "id": "3c8683be-ebf1-4c0e-93dd-2323ae0bb03f",
   "metadata": {},
   "outputs": [
    {
     "name": "stdout",
     "output_type": "stream",
     "text": [
      "[1, 3, 3, 3, 3, 3, 3, 3, 3, 3, 3, 3, 3, 3, 3, 3, 3, 3, 3, 3, 3, 3, 3, 3, 3, 3, 3, 3, 3, 3, 3, 3, 3, 3]\n"
     ]
    }
   ],
   "source": [
    "print(x)"
   ]
  },
  {
   "cell_type": "code",
   "execution_count": 65,
   "id": "4d4be52c-acfd-41e0-81c5-92286644cbf9",
   "metadata": {},
   "outputs": [
    {
     "data": {
      "text/plain": [
       "100"
      ]
     },
     "execution_count": 65,
     "metadata": {},
     "output_type": "execute_result"
    }
   ],
   "source": [
    "sum(x)"
   ]
  },
  {
   "cell_type": "code",
   "execution_count": 58,
   "id": "43302dfe-ee9a-4add-8d44-3a03004519e2",
   "metadata": {},
   "outputs": [],
   "source": [
    "l2 = []"
   ]
  },
  {
   "cell_type": "code",
   "execution_count": 59,
   "id": "bb9cbda2-a4fe-4935-860f-47f60860efb2",
   "metadata": {},
   "outputs": [],
   "source": [
    "l2.append(2)"
   ]
  },
  {
   "cell_type": "code",
   "execution_count": 60,
   "id": "0e4cf0f7-98c8-4ccc-bb8f-90ce2a69db2f",
   "metadata": {},
   "outputs": [
    {
     "data": {
      "text/plain": [
       "[2]"
      ]
     },
     "execution_count": 60,
     "metadata": {},
     "output_type": "execute_result"
    }
   ],
   "source": [
    "l2"
   ]
  },
  {
   "cell_type": "code",
   "execution_count": null,
   "id": "706cf04b-1e2e-4d11-9acb-bf12eeee0382",
   "metadata": {},
   "outputs": [],
   "source": []
  }
 ],
 "metadata": {
  "kernelspec": {
   "display_name": "Python 3 (ipykernel)",
   "language": "python",
   "name": "python3"
  },
  "language_info": {
   "codemirror_mode": {
    "name": "ipython",
    "version": 3
   },
   "file_extension": ".py",
   "mimetype": "text/x-python",
   "name": "python",
   "nbconvert_exporter": "python",
   "pygments_lexer": "ipython3",
   "version": "3.10.11"
  }
 },
 "nbformat": 4,
 "nbformat_minor": 5
}
