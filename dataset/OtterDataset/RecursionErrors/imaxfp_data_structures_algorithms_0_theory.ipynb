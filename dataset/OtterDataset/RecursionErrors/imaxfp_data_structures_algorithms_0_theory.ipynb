{
 "cells": [
  {
   "cell_type": "markdown",
   "metadata": {},
   "source": [
    "### Stack\n",
    "\n",
    "- linear data structure with only one access point\n",
    "- LIFO\n"
   ]
  },
  {
   "cell_type": "markdown",
   "metadata": {},
   "source": [
    "### Execution Frame OR Stack Frame OR Activation Record\n",
    "\n",
    "<img src=\"./img/0_execution_frame.png\" alt=\"nearby_objects\" width=\"300\"/>\n"
   ]
  },
  {
   "cell_type": "code",
   "execution_count": 5,
   "metadata": {},
   "outputs": [
    {
     "name": "stdout",
     "output_type": "stream",
     "text": [
      "Executing: RED2\n",
      "Executing: green\n",
      "Executing: blue\n"
     ]
    }
   ],
   "source": [
    "def func_green():\n",
    "    color = \"green\" \n",
    "    print(f\"Executing: {color}\")\n",
    "    # func_green frame is popped after it finishes\n",
    "\n",
    "def func_red():\n",
    "    color = \"RED\"  \n",
    "    color2 = \"RED2\"  \n",
    "    color3 = \"RED3\"  \n",
    "    print(f\"Executing: {color}\")\n",
    "    func_green()  # func_green's frame pushed, popped when done\n",
    "    # func_red's frame is popped after execution\n",
    "\n",
    "def func_blue():\n",
    "    func_red()  # func_red's frame pushed, func_green follows\n",
    "    color = \"blue\" \n",
    "    print(f\"Executing: {color}\")\n",
    "    # func_blue's frame is popped when done    \n",
    "\n",
    "func_blue()\n"
   ]
  },
  {
   "cell_type": "markdown",
   "metadata": {},
   "source": [
    "Creation 'Execution frame' from bottom to top:\n",
    "<br>\n",
    "<img src=\"./img/1_execution_frame.png\" alt=\"nearby_objects\" width=\"500\"/>\n",
    "<br>\n",
    "<img src=\"./img/2_execution_frame.png\" alt=\"nearby_objects\" width=\"500\"/>\n",
    "<br>\n",
    "Execution frame Unwind POP:\n",
    "<br>\n",
    "<img src=\"./img/3_execution_frame.png\" alt=\"nearby_objects\" width=\"500\"/>"
   ]
  },
  {
   "cell_type": "markdown",
   "metadata": {},
   "source": [
    "### Recursion\n",
    "\n",
    "***\"A method of solving a problem where the solution is defined in terms of a smaller version of itself.\"***\n",
    "\n",
    "This aligns with the concept of recursion in computer science, where a function solves a problem by breaking it down into smaller, similar subproblems."
   ]
  },
  {
   "cell_type": "markdown",
   "metadata": {},
   "source": [
    "<img src=\"./img/4_recursion_factorial.png\" alt=\"nearby_objects\" width=\"700\"/>"
   ]
  },
  {
   "cell_type": "markdown",
   "metadata": {},
   "source": [
    "### Base case (or ground case)\n",
    "\n",
    "In recursion, the base case (or ground case) is the condition under which the recursive function stops calling itself. It serves as the simplest instance of the problem that can be solved directly without further recursion. The base case is essential because it prevents infinite recursion, which would lead to a stack overflow error.\n",
    "\n",
    "<img src=\"./img/5_base_case_ground_case.png\" alt=\"nearby_objects\" width=\"400\"/>"
   ]
  },
  {
   "cell_type": "markdown",
   "metadata": {},
   "source": [
    "### Recursive case\n",
    "\n",
    "The recursive case in recursion refers to the part of a recursive function where the function calls itself with a modified argument to break down the problem into smaller, more manageable subproblems.\n",
    "\n",
    "<img src=\"./img/6_recursive_case.png\" alt=\"nearby_objects\" width=\"400\"/>"
   ]
  },
  {
   "cell_type": "markdown",
   "metadata": {},
   "source": [
    "### Potential Problems:\n",
    "1. Condition does not stop the recursion == Stack Overflow\n",
    "2. "
   ]
  },
  {
   "cell_type": "code",
   "execution_count": 11,
   "metadata": {},
   "outputs": [
    {
     "ename": "RecursionError",
     "evalue": "maximum recursion depth exceeded",
     "output_type": "error",
     "traceback": [
      "\u001b[0;31m---------------------------------------------------------------------------\u001b[0m",
      "\u001b[0;31mRecursionError\u001b[0m                            Traceback (most recent call last)",
      "Cell \u001b[0;32mIn[11], line 9\u001b[0m\n\u001b[1;32m      6\u001b[0m         \u001b[38;5;28;01mpass\u001b[39;00m\n\u001b[1;32m      7\u001b[0m     \u001b[38;5;28;01mreturn\u001b[39;00m n \u001b[38;5;241m*\u001b[39m factorial(n \u001b[38;5;241m-\u001b[39m \u001b[38;5;241m1\u001b[39m)\n\u001b[0;32m----> 9\u001b[0m \u001b[43mfactorial\u001b[49m\u001b[43m(\u001b[49m\u001b[38;5;241;43m5\u001b[39;49m\u001b[43m)\u001b[49m\n",
      "Cell \u001b[0;32mIn[11], line 7\u001b[0m, in \u001b[0;36mfactorial\u001b[0;34m(n)\u001b[0m\n\u001b[1;32m      4\u001b[0m \u001b[38;5;28;01mif\u001b[39;00m n \u001b[38;5;241m==\u001b[39m \u001b[38;5;241m0\u001b[39m:\n\u001b[1;32m      5\u001b[0m     \u001b[38;5;66;03m#RecursionError: maximum recursion depth exceeded\u001b[39;00m\n\u001b[1;32m      6\u001b[0m     \u001b[38;5;28;01mpass\u001b[39;00m\n\u001b[0;32m----> 7\u001b[0m \u001b[38;5;28;01mreturn\u001b[39;00m n \u001b[38;5;241m*\u001b[39m \u001b[43mfactorial\u001b[49m\u001b[43m(\u001b[49m\u001b[43mn\u001b[49m\u001b[43m \u001b[49m\u001b[38;5;241;43m-\u001b[39;49m\u001b[43m \u001b[49m\u001b[38;5;241;43m1\u001b[39;49m\u001b[43m)\u001b[49m\n",
      "Cell \u001b[0;32mIn[11], line 7\u001b[0m, in \u001b[0;36mfactorial\u001b[0;34m(n)\u001b[0m\n\u001b[1;32m      4\u001b[0m \u001b[38;5;28;01mif\u001b[39;00m n \u001b[38;5;241m==\u001b[39m \u001b[38;5;241m0\u001b[39m:\n\u001b[1;32m      5\u001b[0m     \u001b[38;5;66;03m#RecursionError: maximum recursion depth exceeded\u001b[39;00m\n\u001b[1;32m      6\u001b[0m     \u001b[38;5;28;01mpass\u001b[39;00m\n\u001b[0;32m----> 7\u001b[0m \u001b[38;5;28;01mreturn\u001b[39;00m n \u001b[38;5;241m*\u001b[39m \u001b[43mfactorial\u001b[49m\u001b[43m(\u001b[49m\u001b[43mn\u001b[49m\u001b[43m \u001b[49m\u001b[38;5;241;43m-\u001b[39;49m\u001b[43m \u001b[49m\u001b[38;5;241;43m1\u001b[39;49m\u001b[43m)\u001b[49m\n",
      "    \u001b[0;31m[... skipping similar frames: factorial at line 7 (2974 times)]\u001b[0m\n",
      "Cell \u001b[0;32mIn[11], line 7\u001b[0m, in \u001b[0;36mfactorial\u001b[0;34m(n)\u001b[0m\n\u001b[1;32m      4\u001b[0m \u001b[38;5;28;01mif\u001b[39;00m n \u001b[38;5;241m==\u001b[39m \u001b[38;5;241m0\u001b[39m:\n\u001b[1;32m      5\u001b[0m     \u001b[38;5;66;03m#RecursionError: maximum recursion depth exceeded\u001b[39;00m\n\u001b[1;32m      6\u001b[0m     \u001b[38;5;28;01mpass\u001b[39;00m\n\u001b[0;32m----> 7\u001b[0m \u001b[38;5;28;01mreturn\u001b[39;00m n \u001b[38;5;241m*\u001b[39m \u001b[43mfactorial\u001b[49m\u001b[43m(\u001b[49m\u001b[43mn\u001b[49m\u001b[43m \u001b[49m\u001b[38;5;241;43m-\u001b[39;49m\u001b[43m \u001b[49m\u001b[38;5;241;43m1\u001b[39;49m\u001b[43m)\u001b[49m\n",
      "\u001b[0;31mRecursionError\u001b[0m: maximum recursion depth exceeded"
     ]
    }
   ],
   "source": [
    "# Potential Problems:\n",
    "\n",
    "def factorial(n):\n",
    "    if n == 0:\n",
    "        #RecursionError: maximum recursion depth exceeded\n",
    "        pass\n",
    "    return n * factorial(n - 1)\n",
    "\n",
    "factorial(5)"
   ]
  },
  {
   "cell_type": "code",
   "execution_count": 46,
   "metadata": {},
   "outputs": [
    {
     "name": "stdout",
     "output_type": "stream",
     "text": [
      "\u001b[33mCurrent stack frame, step = 1\u001b[0m\n",
      "\u001b[36mFunction: isPower, Line: 10, Value of x: 0\u001b[0m\n",
      "\u001b[36mFunction: isPowerOfThree, Line: 27, Value of x: 0\u001b[0m\n",
      "\u001b[35mChecking: 3^0 = 1 against n = 27\u001b[0m\n",
      "\u001b[33mCurrent stack frame, step = 2\u001b[0m\n",
      "\u001b[36mFunction: isPower, Line: 10, Value of x: 1\u001b[0m\n",
      "\u001b[36mFunction: isPower, Line: 25, Value of x: 1\u001b[0m\n",
      "\u001b[36mFunction: isPowerOfThree, Line: 27, Value of x: 1\u001b[0m\n",
      "\u001b[35mChecking: 3^1 = 3 against n = 27\u001b[0m\n",
      "\u001b[33mCurrent stack frame, step = 3\u001b[0m\n",
      "\u001b[36mFunction: isPower, Line: 10, Value of x: 2\u001b[0m\n",
      "\u001b[36mFunction: isPower, Line: 25, Value of x: 2\u001b[0m\n",
      "\u001b[36mFunction: isPower, Line: 25, Value of x: 2\u001b[0m\n",
      "\u001b[36mFunction: isPowerOfThree, Line: 27, Value of x: 2\u001b[0m\n",
      "\u001b[35mChecking: 3^2 = 9 against n = 27\u001b[0m\n",
      "\u001b[33mCurrent stack frame, step = 4\u001b[0m\n",
      "\u001b[36mFunction: isPower, Line: 10, Value of x: 3\u001b[0m\n",
      "\u001b[36mFunction: isPower, Line: 25, Value of x: 3\u001b[0m\n",
      "\u001b[36mFunction: isPower, Line: 25, Value of x: 3\u001b[0m\n",
      "\u001b[36mFunction: isPower, Line: 25, Value of x: 3\u001b[0m\n",
      "\u001b[36mFunction: isPowerOfThree, Line: 27, Value of x: 3\u001b[0m\n",
      "\u001b[35mChecking: 3^3 = 27 against n = 27\u001b[0m\n",
      "\u001b[32mMatch found: 3^3 = 27\u001b[0m\n",
      "\u001b[34mResult: True\u001b[0m\n"
     ]
    }
   ],
   "source": [
    "import inspect\n",
    "from colorama import Fore, Style\n",
    "\n",
    "class Solution:\n",
    "    def isPowerOfThree(self, n, step=1) -> bool:\n",
    "        def isPower(n, x, step):\n",
    "            # Print the relevant part of the stack frame in yellow\n",
    "            print(f\"{Fore.YELLOW}Current stack frame, step = {step}{Style.RESET_ALL}\")\n",
    "            # Filter stack frames to only include relevant functions and print in cyan\n",
    "            relevant_frames = [frame for frame in inspect.stack() if frame.function in ['isPower', 'isPowerOfThree']]\n",
    "            for frame in relevant_frames:\n",
    "                print(f\"{Fore.CYAN}Function: {frame.function}, Line: {frame.lineno}, Value of x: {x}{Style.RESET_ALL}\")\n",
    "                \n",
    "            res = 3 ** x \n",
    "            print(f\"{Fore.MAGENTA}Checking: 3^{x} = {res} against n = {n}{Style.RESET_ALL}\")\n",
    "            \n",
    "            # Base case\n",
    "            if res == n:\n",
    "                print(f\"{Fore.GREEN}Match found: 3^{x} = {n}{Style.RESET_ALL}\")\n",
    "                return True\n",
    "            elif res > n:\n",
    "                print(f\"{Fore.RED}Exceeded: 3^{x} = {res} > {n}{Style.RESET_ALL}\")\n",
    "                return False    \n",
    "            \n",
    "            return isPower(n, x + 1, step + 1)  # Increment step for next call\n",
    "        #call Recurion function   \n",
    "        return isPower(n, x=0, step=step)  # Pass step parameter from isPowerOfThree\n",
    "\n",
    "# Example usage\n",
    "result = Solution().isPowerOfThree(27)\n",
    "print(f\"{Fore.BLUE}Result: {result}{Style.RESET_ALL}\")\n"
   ]
  },
  {
   "cell_type": "markdown",
   "metadata": {},
   "source": [
    "<img src=\"./img/7_unwind_stack.png\" alt=\"nearby_objects\" width=\"800\"/>"
   ]
  },
  {
   "cell_type": "code",
   "execution_count": 47,
   "metadata": {},
   "outputs": [
    {
     "data": {
      "text/plain": [
       "24"
      ]
     },
     "execution_count": 47,
     "metadata": {},
     "output_type": "execute_result"
    }
   ],
   "source": [
    "def factorian(n: int):\n",
    "    #factorial n!n! is the product of all positive integers up to n\n",
    "    if n == 0:\n",
    "        return 1\n",
    "    return n * factorian(n-1)\n",
    "\n",
    "factorian(4)"
   ]
  },
  {
   "cell_type": "code",
   "execution_count": 48,
   "metadata": {},
   "outputs": [
    {
     "data": {
      "text/plain": [
       "24"
      ]
     },
     "execution_count": 48,
     "metadata": {},
     "output_type": "execute_result"
    }
   ],
   "source": [
    "#Factorian 4 execution stack example:\n",
    "def factorian4():       \n",
    "    #LIFO\n",
    "    # 4 => Execution Frame OR Activation Record\n",
    "    rec1 = 1\n",
    "    # 3 => Execution Frame OR Activation Record\n",
    "    rec2 = 2 * rec1\n",
    "    # 2 => Execution Frame OR Activation Record\n",
    "    rec3 = 3 * rec2\n",
    "    # 1 => Execution Frame OR Activation Record\n",
    "    rec4 = 4 * rec3\n",
    "    \n",
    "    return rec4\n",
    "    \n",
    "factorian4()    "
   ]
  },
  {
   "cell_type": "code",
   "execution_count": 7,
   "metadata": {},
   "outputs": [
    {
     "name": "stdout",
     "output_type": "stream",
     "text": [
      "\u001b[33mEntering factorial(7) - Creating new execution frame\u001b[0m\n",
      "\u001b[36mCurrent call stack:\u001b[0m\n",
      "+---------------+-------------+-------------------+----------------+\n",
      "| Function Name | Line Number | Current Value (n) | Current Result |\n",
      "+---------------+-------------+-------------------+----------------+\n",
      "|   factorial   |      34     |         7         |      N/A       |\n",
      "+---------------+-------------+-------------------+----------------+\n",
      "\u001b[33mEntering factorial(6) - Creating new execution frame\u001b[0m\n",
      "\u001b[36mCurrent call stack:\u001b[0m\n",
      "+---------------+-------------+-------------------+----------------+\n",
      "| Function Name | Line Number | Current Value (n) | Current Result |\n",
      "+---------------+-------------+-------------------+----------------+\n",
      "|   factorial   |      34     |         6         |      N/A       |\n",
      "|   factorial   |      45     |         7         |      N/A       |\n",
      "+---------------+-------------+-------------------+----------------+\n",
      "\u001b[33mEntering factorial(5) - Creating new execution frame\u001b[0m\n",
      "\u001b[36mCurrent call stack:\u001b[0m\n",
      "+---------------+-------------+-------------------+----------------+\n",
      "| Function Name | Line Number | Current Value (n) | Current Result |\n",
      "+---------------+-------------+-------------------+----------------+\n",
      "|   factorial   |      34     |         5         |      N/A       |\n",
      "|   factorial   |      45     |         6         |      N/A       |\n",
      "|   factorial   |      45     |         7         |      N/A       |\n",
      "+---------------+-------------+-------------------+----------------+\n",
      "\u001b[33mEntering factorial(4) - Creating new execution frame\u001b[0m\n",
      "\u001b[36mCurrent call stack:\u001b[0m\n",
      "+---------------+-------------+-------------------+----------------+\n",
      "| Function Name | Line Number | Current Value (n) | Current Result |\n",
      "+---------------+-------------+-------------------+----------------+\n",
      "|   factorial   |      34     |         4         |      N/A       |\n",
      "|   factorial   |      45     |         5         |      N/A       |\n",
      "|   factorial   |      45     |         6         |      N/A       |\n",
      "|   factorial   |      45     |         7         |      N/A       |\n",
      "+---------------+-------------+-------------------+----------------+\n",
      "\u001b[33mEntering factorial(3) - Creating new execution frame\u001b[0m\n",
      "\u001b[36mCurrent call stack:\u001b[0m\n",
      "+---------------+-------------+-------------------+----------------+\n",
      "| Function Name | Line Number | Current Value (n) | Current Result |\n",
      "+---------------+-------------+-------------------+----------------+\n",
      "|   factorial   |      34     |         3         |      N/A       |\n",
      "|   factorial   |      45     |         4         |      N/A       |\n",
      "|   factorial   |      45     |         5         |      N/A       |\n",
      "|   factorial   |      45     |         6         |      N/A       |\n",
      "|   factorial   |      45     |         7         |      N/A       |\n",
      "+---------------+-------------+-------------------+----------------+\n",
      "\u001b[33mEntering factorial(2) - Creating new execution frame\u001b[0m\n",
      "\u001b[36mCurrent call stack:\u001b[0m\n",
      "+---------------+-------------+-------------------+----------------+\n",
      "| Function Name | Line Number | Current Value (n) | Current Result |\n",
      "+---------------+-------------+-------------------+----------------+\n",
      "|   factorial   |      34     |         2         |      N/A       |\n",
      "|   factorial   |      45     |         3         |      N/A       |\n",
      "|   factorial   |      45     |         4         |      N/A       |\n",
      "|   factorial   |      45     |         5         |      N/A       |\n",
      "|   factorial   |      45     |         6         |      N/A       |\n",
      "|   factorial   |      45     |         7         |      N/A       |\n",
      "+---------------+-------------+-------------------+----------------+\n",
      "\u001b[33mEntering factorial(1) - Creating new execution frame\u001b[0m\n",
      "\u001b[36mCurrent call stack:\u001b[0m\n",
      "+---------------+-------------+-------------------+----------------+\n",
      "| Function Name | Line Number | Current Value (n) | Current Result |\n",
      "+---------------+-------------+-------------------+----------------+\n",
      "|   factorial   |      34     |         1         |      N/A       |\n",
      "|   factorial   |      45     |         2         |      N/A       |\n",
      "|   factorial   |      45     |         3         |      N/A       |\n",
      "|   factorial   |      45     |         4         |      N/A       |\n",
      "|   factorial   |      45     |         5         |      N/A       |\n",
      "|   factorial   |      45     |         6         |      N/A       |\n",
      "|   factorial   |      45     |         7         |      N/A       |\n",
      "+---------------+-------------+-------------------+----------------+\n",
      "\u001b[33mEntering factorial(0) - Creating new execution frame\u001b[0m\n",
      "\u001b[36mCurrent call stack:\u001b[0m\n",
      "+---------------+-------------+-------------------+----------------+\n",
      "| Function Name | Line Number | Current Value (n) | Current Result |\n",
      "+---------------+-------------+-------------------+----------------+\n",
      "|   factorial   |      34     |         0         |      N/A       |\n",
      "|   factorial   |      45     |         1         |      N/A       |\n",
      "|   factorial   |      45     |         2         |      N/A       |\n",
      "|   factorial   |      45     |         3         |      N/A       |\n",
      "|   factorial   |      45     |         4         |      N/A       |\n",
      "|   factorial   |      45     |         5         |      N/A       |\n",
      "|   factorial   |      45     |         6         |      N/A       |\n",
      "|   factorial   |      45     |         7         |      N/A       |\n",
      "+---------------+-------------+-------------------+----------------+\n",
      "\u001b[32m\u001b[1mBase case reached: factorial(0) = 1\u001b[0m\n",
      "\u001b[33mExiting factorial(0) - Unwinding frame\u001b[0m\n",
      "\u001b[35mAfter factorial(0) call: factorial(1) = 1 * 1\u001b[0m\n",
      "\u001b[36mCurrent call stack:\u001b[0m\n",
      "+---------------+-------------+-------------------+----------------+\n",
      "| Function Name | Line Number | Current Value (n) | Current Result |\n",
      "+---------------+-------------+-------------------+----------------+\n",
      "|   factorial   |      54     |         1         |       1        |\n",
      "|   factorial   |      45     |         2         |      N/A       |\n",
      "|   factorial   |      45     |         3         |      N/A       |\n",
      "|   factorial   |      45     |         4         |      N/A       |\n",
      "|   factorial   |      45     |         5         |      N/A       |\n",
      "|   factorial   |      45     |         6         |      N/A       |\n",
      "|   factorial   |      45     |         7         |      N/A       |\n",
      "+---------------+-------------+-------------------+----------------+\n",
      "\u001b[33mExiting factorial(1) - Unwinding frame\u001b[0m\n",
      "\u001b[35mAfter factorial(1) call: factorial(2) = 2 * 1\u001b[0m\n",
      "\u001b[36mCurrent call stack:\u001b[0m\n",
      "+---------------+-------------+-------------------+----------------+\n",
      "| Function Name | Line Number | Current Value (n) | Current Result |\n",
      "+---------------+-------------+-------------------+----------------+\n",
      "|   factorial   |      54     |         2         |       2        |\n",
      "|   factorial   |      45     |         3         |      N/A       |\n",
      "|   factorial   |      45     |         4         |      N/A       |\n",
      "|   factorial   |      45     |         5         |      N/A       |\n",
      "|   factorial   |      45     |         6         |      N/A       |\n",
      "|   factorial   |      45     |         7         |      N/A       |\n",
      "+---------------+-------------+-------------------+----------------+\n",
      "\u001b[33mExiting factorial(2) - Unwinding frame\u001b[0m\n",
      "\u001b[35mAfter factorial(2) call: factorial(3) = 3 * 2\u001b[0m\n",
      "\u001b[36mCurrent call stack:\u001b[0m\n",
      "+---------------+-------------+-------------------+----------------+\n",
      "| Function Name | Line Number | Current Value (n) | Current Result |\n",
      "+---------------+-------------+-------------------+----------------+\n",
      "|   factorial   |      54     |         3         |       6        |\n",
      "|   factorial   |      45     |         4         |      N/A       |\n",
      "|   factorial   |      45     |         5         |      N/A       |\n",
      "|   factorial   |      45     |         6         |      N/A       |\n",
      "|   factorial   |      45     |         7         |      N/A       |\n",
      "+---------------+-------------+-------------------+----------------+\n",
      "\u001b[33mExiting factorial(3) - Unwinding frame\u001b[0m\n",
      "\u001b[35mAfter factorial(3) call: factorial(4) = 4 * 6\u001b[0m\n",
      "\u001b[36mCurrent call stack:\u001b[0m\n",
      "+---------------+-------------+-------------------+----------------+\n",
      "| Function Name | Line Number | Current Value (n) | Current Result |\n",
      "+---------------+-------------+-------------------+----------------+\n",
      "|   factorial   |      54     |         4         |       24       |\n",
      "|   factorial   |      45     |         5         |      N/A       |\n",
      "|   factorial   |      45     |         6         |      N/A       |\n",
      "|   factorial   |      45     |         7         |      N/A       |\n",
      "+---------------+-------------+-------------------+----------------+\n",
      "\u001b[33mExiting factorial(4) - Unwinding frame\u001b[0m\n",
      "\u001b[35mAfter factorial(4) call: factorial(5) = 5 * 24\u001b[0m\n",
      "\u001b[36mCurrent call stack:\u001b[0m\n",
      "+---------------+-------------+-------------------+----------------+\n",
      "| Function Name | Line Number | Current Value (n) | Current Result |\n",
      "+---------------+-------------+-------------------+----------------+\n",
      "|   factorial   |      54     |         5         |      120       |\n",
      "|   factorial   |      45     |         6         |      N/A       |\n",
      "|   factorial   |      45     |         7         |      N/A       |\n",
      "+---------------+-------------+-------------------+----------------+\n",
      "\u001b[33mExiting factorial(5) - Unwinding frame\u001b[0m\n",
      "\u001b[35mAfter factorial(5) call: factorial(6) = 6 * 120\u001b[0m\n",
      "\u001b[36mCurrent call stack:\u001b[0m\n",
      "+---------------+-------------+-------------------+----------------+\n",
      "| Function Name | Line Number | Current Value (n) | Current Result |\n",
      "+---------------+-------------+-------------------+----------------+\n",
      "|   factorial   |      54     |         6         |      720       |\n",
      "|   factorial   |      45     |         7         |      N/A       |\n",
      "+---------------+-------------+-------------------+----------------+\n",
      "\u001b[33mExiting factorial(6) - Unwinding frame\u001b[0m\n",
      "\u001b[35mAfter factorial(6) call: factorial(7) = 7 * 720\u001b[0m\n",
      "\u001b[36mCurrent call stack:\u001b[0m\n",
      "+---------------+-------------+-------------------+----------------+\n",
      "| Function Name | Line Number | Current Value (n) | Current Result |\n",
      "+---------------+-------------+-------------------+----------------+\n",
      "|   factorial   |      54     |         7         |      5040      |\n",
      "+---------------+-------------+-------------------+----------------+\n",
      "\u001b[33mExiting factorial(7) - Unwinding frame\u001b[0m\n",
      "\u001b[34mFactorial of 4 is: 5040\u001b[0m\n"
     ]
    }
   ],
   "source": [
    "import inspect\n",
    "from colorama import Fore, Style\n",
    "from prettytable import PrettyTable\n",
    "\n",
    "def factorial(n):\n",
    "    # Log the creation of the stack frame\n",
    "    print(f\"{Fore.YELLOW}Entering factorial({n}) - Creating new execution frame{Style.RESET_ALL}\")\n",
    "\n",
    "    # Create a PrettyTable to display the stack frames\n",
    "    def print_current_stack(current_value, current_results):\n",
    "        relevant_frames = [frame for frame in inspect.stack() if frame.function == 'factorial']\n",
    "        table = PrettyTable()\n",
    "        table.field_names = [\"Function Name\", \"Line Number\", \"Current Value (n)\", \"Current Result\"]\n",
    "        \n",
    "        # Add all frames to the table, but in the order they were created\n",
    "        #all stack funcitons\n",
    "        #for frame in inspect.stack():\n",
    "        \n",
    "        for frame in relevant_frames:\n",
    "            # Extract the current value of n from the relevant stack frame\n",
    "            local_vars = frame.frame.f_locals  # Get local variables of the frame\n",
    "            n_value = local_vars.get('n', 'N/A')  # Get the current value of n, default to 'N/A'\n",
    "            result_value = current_results.get(n_value, 'N/A')  # Get result corresponding to current n_value\n",
    "\n",
    "            table.add_row([frame.function, frame.lineno, n_value, result_value])\n",
    "        \n",
    "        print(f\"{Fore.CYAN}Current call stack:{Style.RESET_ALL}\")\n",
    "        print(table)\n",
    "\n",
    "    # Store results in a dictionary to be accessed in the print_current_stack\n",
    "    current_results = {}\n",
    "\n",
    "    # Print the stack when entering the function\n",
    "    print_current_stack(n, current_results)\n",
    "\n",
    "    if n == 0:\n",
    "        # Print the base case in bold\n",
    "        print(f\"{Fore.GREEN}{Style.BRIGHT}Base case reached: factorial(0) = 1{Style.RESET_ALL}\")\n",
    "        current_results[n] = 1  # Store the result\n",
    "        print(f\"{Fore.YELLOW}Exiting factorial({n}) - Unwinding frame{Style.RESET_ALL}\")\n",
    "        return 1\n",
    "    \n",
    "    else:\n",
    "        # Recursive call\n",
    "        result = factorial(n - 1)  # Log this call\n",
    "        \n",
    "        # Log the result of the recursive call\n",
    "        print(f\"{Fore.MAGENTA}After factorial({n - 1}) call: factorial({n}) = {n} * {result}{Style.RESET_ALL}\")\n",
    "        \n",
    "        # Store the result for the current n\n",
    "        current_results[n] = n * result\n",
    "        \n",
    "        # Print the current stack state before unwinding with the result\n",
    "        print_current_stack(n, current_results)  # Print the stack during unwinding\n",
    "        \n",
    "        # Indicate unwinding of the current frame\n",
    "        print(f\"{Fore.YELLOW}Exiting factorial({n}) - Unwinding frame{Style.RESET_ALL}\")\n",
    "        return current_results[n]\n",
    "\n",
    "# Call the function\n",
    "print(f\"{Fore.BLUE}Factorial of 4 is: {factorial(7)}{Style.RESET_ALL}\")\n"
   ]
  },
  {
   "cell_type": "markdown",
   "metadata": {},
   "source": [
    "### Overlap in recursive calls\n",
    "\n",
    "-  ***\"Redundancy and Inefficiency:\"*** If the same function is called multiple times with the same arguments, it may end up performing the same computation repeatedly.\n",
    "\n",
    "- ***Stack Overflow:*** If recursion goes too deep due to overlapping calls, it can lead to a stack overflow.\n",
    "\n",
    "- ***Incorrect Results*** (changing global or shared variables) are involved."
   ]
  },
  {
   "cell_type": "code",
   "execution_count": 50,
   "metadata": {},
   "outputs": [
    {
     "data": {
      "text/plain": [
       "8"
      ]
     },
     "execution_count": 50,
     "metadata": {},
     "output_type": "execute_result"
    }
   ],
   "source": [
    "def fib(n):\n",
    "    if n <= 2:\n",
    "        return 1    \n",
    "    return fib(n-1) + fib(n-2)\n",
    "\n",
    "#1-2-3-4-5-6-7\n",
    "#1,1,2,3,5,8,13\n",
    "fib(6)"
   ]
  },
  {
   "cell_type": "markdown",
   "metadata": {},
   "source": [
    "<img src=\"./img/8_repitable_calcs.png\" alt=\"nearby_objects\" width=\"500\"/>"
   ]
  },
  {
   "cell_type": "code",
   "execution_count": 10,
   "metadata": {},
   "outputs": [
    {
     "name": "stdout",
     "output_type": "stream",
     "text": [
      "\u001b[33mEntering fib(3) - Creating new execution frame\u001b[0m\n",
      "\u001b[36mCurrent call stack:\u001b[0m\n",
      "+---------------+-------------+-------------------+----------------+-----------+\n",
      "| Function Name | Line Number | Current Value (n) | Current Result | Direction |\n",
      "+---------------+-------------+-------------------+----------------+-----------+\n",
      "|      fib      |      27     |         3         |      N/A       |    root   |\n",
      "+---------------+-------------+-------------------+----------------+-----------+\n",
      "\u001b[33mEntering fib(2) - Creating new execution frame\u001b[0m\n",
      "\u001b[36mCurrent call stack:\u001b[0m\n",
      "+---------------+-------------+-------------------+----------------+-----------+\n",
      "| Function Name | Line Number | Current Value (n) | Current Result | Direction |\n",
      "+---------------+-------------+-------------------+----------------+-----------+\n",
      "|      fib      |      27     |         2         |      N/A       |    left   |\n",
      "|      fib      |      40     |         3         |      N/A       |    left   |\n",
      "+---------------+-------------+-------------------+----------------+-----------+\n",
      "\u001b[33mEntering fib(1) - Creating new execution frame\u001b[0m\n",
      "\u001b[36mCurrent call stack:\u001b[0m\n",
      "+---------------+-------------+-------------------+----------------+-----------+\n",
      "| Function Name | Line Number | Current Value (n) | Current Result | Direction |\n",
      "+---------------+-------------+-------------------+----------------+-----------+\n",
      "|      fib      |      27     |         1         |      N/A       |    left   |\n",
      "|      fib      |      40     |         2         |      N/A       |    left   |\n",
      "|      fib      |      40     |         3         |      N/A       |    left   |\n",
      "+---------------+-------------+-------------------+----------------+-----------+\n",
      "\u001b[32m\u001b[1mBase case reached: fib(1) = 1\u001b[0m\n",
      "\u001b[36mCurrent call stack:\u001b[0m\n",
      "+---------------+-------------+-------------------+----------------+-----------+\n",
      "| Function Name | Line Number | Current Value (n) | Current Result | Direction |\n",
      "+---------------+-------------+-------------------+----------------+-----------+\n",
      "|      fib      |      36     |         1         |      N/A       |    left   |\n",
      "|      fib      |      40     |         2         |      N/A       |    left   |\n",
      "|      fib      |      40     |         3         |      N/A       |    left   |\n",
      "+---------------+-------------+-------------------+----------------+-----------+\n",
      "\u001b[33mEntering fib(0) - Creating new execution frame\u001b[0m\n",
      "\u001b[36mCurrent call stack:\u001b[0m\n",
      "+---------------+-------------+-------------------+----------------+-----------+\n",
      "| Function Name | Line Number | Current Value (n) | Current Result | Direction |\n",
      "+---------------+-------------+-------------------+----------------+-----------+\n",
      "|      fib      |      27     |         0         |      N/A       |   right   |\n",
      "|      fib      |      41     |         2         |      N/A       |   right   |\n",
      "|      fib      |      40     |         3         |      N/A       |   right   |\n",
      "+---------------+-------------+-------------------+----------------+-----------+\n",
      "\u001b[32m\u001b[1mBase case reached: fib(0) = 0\u001b[0m\n",
      "\u001b[36mCurrent call stack:\u001b[0m\n",
      "+---------------+-------------+-------------------+----------------+-----------+\n",
      "| Function Name | Line Number | Current Value (n) | Current Result | Direction |\n",
      "+---------------+-------------+-------------------+----------------+-----------+\n",
      "|      fib      |      32     |         0         |      N/A       |   right   |\n",
      "|      fib      |      41     |         2         |      N/A       |   right   |\n",
      "|      fib      |      40     |         3         |      N/A       |   right   |\n",
      "+---------------+-------------+-------------------+----------------+-----------+\n",
      "\u001b[35mComputed fib(2): fib(1) + fib(0) = 1\u001b[0m\n",
      "\u001b[36mCurrent call stack:\u001b[0m\n",
      "+---------------+-------------+-------------------+----------------+-----------+\n",
      "| Function Name | Line Number | Current Value (n) | Current Result | Direction |\n",
      "+---------------+-------------+-------------------+----------------+-----------+\n",
      "|      fib      |      49     |         2         |       1        |    left   |\n",
      "|      fib      |      40     |         3         |      N/A       |    left   |\n",
      "+---------------+-------------+-------------------+----------------+-----------+\n",
      "\u001b[33mEntering fib(1) - Creating new execution frame\u001b[0m\n",
      "\u001b[36mCurrent call stack:\u001b[0m\n",
      "+---------------+-------------+-------------------+----------------+-----------+\n",
      "| Function Name | Line Number | Current Value (n) | Current Result | Direction |\n",
      "+---------------+-------------+-------------------+----------------+-----------+\n",
      "|      fib      |      27     |         1         |      N/A       |   right   |\n",
      "|      fib      |      41     |         3         |      N/A       |   right   |\n",
      "+---------------+-------------+-------------------+----------------+-----------+\n",
      "\u001b[32m\u001b[1mBase case reached: fib(1) = 1\u001b[0m\n",
      "\u001b[36mCurrent call stack:\u001b[0m\n",
      "+---------------+-------------+-------------------+----------------+-----------+\n",
      "| Function Name | Line Number | Current Value (n) | Current Result | Direction |\n",
      "+---------------+-------------+-------------------+----------------+-----------+\n",
      "|      fib      |      36     |         1         |      N/A       |   right   |\n",
      "|      fib      |      41     |         3         |      N/A       |   right   |\n",
      "+---------------+-------------+-------------------+----------------+-----------+\n",
      "\u001b[35mComputed fib(3): fib(2) + fib(1) = 2\u001b[0m\n",
      "\u001b[36mCurrent call stack:\u001b[0m\n",
      "+---------------+-------------+-------------------+----------------+-----------+\n",
      "| Function Name | Line Number | Current Value (n) | Current Result | Direction |\n",
      "+---------------+-------------+-------------------+----------------+-----------+\n",
      "|      fib      |      49     |         3         |       2        |    root   |\n",
      "+---------------+-------------+-------------------+----------------+-----------+\n",
      "\u001b[34mResult: 2\u001b[0m\n"
     ]
    }
   ],
   "source": [
    "import inspect\n",
    "from colorama import Fore, Style\n",
    "from prettytable import PrettyTable\n",
    "\n",
    "def fib(n, direction=\"root\"):\n",
    "    # Log the creation of the stack frame\n",
    "    print(f\"{Fore.YELLOW}Entering fib({n}) - Creating new execution frame{Style.RESET_ALL}\")\n",
    "\n",
    "    # Create a PrettyTable to display the stack frames\n",
    "    def print_current_stack(current_value, current_result=None, direction=None):\n",
    "        relevant_frames = [frame for frame in inspect.stack() if frame.function == 'fib']\n",
    "        table = PrettyTable()\n",
    "        table.field_names = [\"Function Name\", \"Line Number\", \"Current Value (n)\", \"Current Result\", \"Direction\"]\n",
    "\n",
    "        # Add all frames to the table\n",
    "        for frame in relevant_frames:\n",
    "            local_vars = frame.frame.f_locals\n",
    "            current_result = local_vars.get('result', 'N/A')\n",
    "            current_value = local_vars.get('n', 'N/A')\n",
    "            # Add direction for the current frame\n",
    "            current_direction = direction if frame.frame.f_code.co_name == 'fib' else 'N/A'\n",
    "            table.add_row([frame.function, frame.lineno, current_value, current_result, current_direction])\n",
    "\n",
    "        print(f\"{Fore.CYAN}Current call stack:{Style.RESET_ALL}\")\n",
    "        print(table)\n",
    "\n",
    "    print_current_stack(n, direction=direction)  # Print the stack when entering the function\n",
    "\n",
    "    # Base case\n",
    "    if n == 0:\n",
    "        print(f\"{Fore.GREEN}{Style.BRIGHT}Base case reached: fib(0) = 0{Style.RESET_ALL}\")\n",
    "        print_current_stack(n, 0, direction=direction)  # Print stack with result\n",
    "        return 0\n",
    "    elif n == 1:\n",
    "        print(f\"{Fore.GREEN}{Style.BRIGHT}Base case reached: fib(1) = 1{Style.RESET_ALL}\")\n",
    "        print_current_stack(n, 1, direction=direction)  # Print stack with result\n",
    "        return 1\n",
    "    \n",
    "    # Recursive calls with direction tracking\n",
    "    left_result = fib(n - 1, direction=\"left\")  # Fib(n-1)\n",
    "    right_result = fib(n - 2, direction=\"right\")  # Fib(n-2)\n",
    "\n",
    "    result = left_result + right_result\n",
    "\n",
    "    # Log the computed result\n",
    "    print(f\"{Fore.MAGENTA}Computed fib({n}): fib({n-1}) + fib({n-2}) = {result}{Style.RESET_ALL}\")\n",
    "    \n",
    "    # Update the current stack with the computed result\n",
    "    print_current_stack(n, result, direction=direction)  # Print the current stack with result\n",
    "    return result\n",
    "\n",
    "# Example usage\n",
    "result = fib(3)\n",
    "print(f\"{Fore.BLUE}Result: {result}{Style.RESET_ALL}\")\n"
   ]
  },
  {
   "cell_type": "code",
   "execution_count": 52,
   "metadata": {},
   "outputs": [
    {
     "data": {
      "text/plain": [
       "13"
      ]
     },
     "execution_count": 52,
     "metadata": {},
     "output_type": "execute_result"
    }
   ],
   "source": [
    "def fib(n, memo={}):\n",
    "    if n in memo:\n",
    "        return memo[n]\n",
    "    if n <= 2:\n",
    "        return 1\n",
    "    memo[n] = fib(n-1, memo) + fib(n-2, memo)\n",
    "    return memo[n]\n",
    "\n",
    "#1-2-3-4-5-6-7\n",
    "#1,1,2,3,5,8,13\n",
    "fib(7)"
   ]
  },
  {
   "cell_type": "markdown",
   "metadata": {},
   "source": [
    "### Recursion disadvantages\n",
    "- Memory Usage: Each recursive call consumes memory for the call stack. For deep recursion, this can lead to significant memory overhead and even result in stack overflow errors if the recursion depth exceeds system limits.\n",
    "\n",
    "- Performance Overhead: Recursive calls involve additional overhead due to function calls and returns, which can slow down execution compared to iterative solutions. Each call incurs the cost of saving state and context, which can accumulate.\n",
    "\n",
    "- Limited by Stack Size: Most programming languages have a maximum limit on the size of the call stack. Deep recursions can exceed this limit, causing a stack overflow.\n",
    "\n",
    "- Debugging Complexity: Recursive functions can be harder to debug because the flow of execution jumps around between multiple calls, making it more difficult to track variable states at different levels of recursion.\n",
    "Less Control Over Execution: Recursion can lead to more complex control flows. Once a recursive function is called, it will execute all the way to its base case before returning, which can limit the ability to manipulate or interrupt the execution flow easily.\n",
    "\n",
    "- Increased Time Complexity in Some Cases: If the recursive solution is not optimized (e.g., lacks memoization), it can lead to exponential time complexity, especially in problems that involve overlapping subproblems (e.g., naive Fibonacci computation).\n",
    "\n",
    "- Potential for Inefficiency: In cases where a problem can be solved more efficiently iteratively (e.g., using a loop), recursion may lead to unnecessary function calls and complexity."
   ]
  },
  {
   "cell_type": "code",
   "execution_count": 12,
   "metadata": {},
   "outputs": [
    {
     "data": {
      "text/plain": [
       "24"
      ]
     },
     "execution_count": 12,
     "metadata": {},
     "output_type": "execute_result"
    }
   ],
   "source": [
    "# BFS\n",
    "class TreeNode:\n",
    "    def __init__(self, val=0, left=None, right=None):\n",
    "        self.val = val\n",
    "        self.left = left\n",
    "        self.right = right\n",
    "class Solution:\n",
    "    def sumOfLeftLeaves(self, root: TreeNode) -> int:\n",
    "        # Helper function to check if a node is a leaf\n",
    "        def isLeaf(node):            \n",
    "            return node.left is None and node.right is None\n",
    "\n",
    "        if root is None:\n",
    "            return 0\n",
    "\n",
    "        left_sum = 0\n",
    "\n",
    "        # Check if left child is a leaf\n",
    "        if root.left and isLeaf(root.left):\n",
    "            left_sum += root.left.val\n",
    "\n",
    "        # Recursively find sum of left leaves in left and right subtree\n",
    "        return left_sum + self.sumOfLeftLeaves(root.left) + self.sumOfLeftLeaves(root.right)\n",
    "    \n",
    "    \n",
    "node = TreeNode(3)    \n",
    "node.left = TreeNode(9) \n",
    "node.right = TreeNode(20) \n",
    "\n",
    "node.right.left = TreeNode(15)   \n",
    "node.right.right = TreeNode(7) \n",
    "\n",
    "Solution().sumOfLeftLeaves(node)       "
   ]
  }
 ],
 "metadata": {
  "kernelspec": {
   "display_name": "Python 3",
   "language": "python",
   "name": "python3"
  },
  "language_info": {
   "codemirror_mode": {
    "name": "ipython",
    "version": 3
   },
   "file_extension": ".py",
   "mimetype": "text/x-python",
   "name": "python",
   "nbconvert_exporter": "python",
   "pygments_lexer": "ipython3",
   "version": "3.12.5"
  }
 },
 "nbformat": 4,
 "nbformat_minor": 2
}
