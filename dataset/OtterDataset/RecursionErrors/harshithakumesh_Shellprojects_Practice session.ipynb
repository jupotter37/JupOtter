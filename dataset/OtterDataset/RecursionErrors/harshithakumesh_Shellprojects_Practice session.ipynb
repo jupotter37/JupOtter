{
 "cells": [
  {
   "cell_type": "code",
   "execution_count": 1,
   "id": "6df87ce6",
   "metadata": {},
   "outputs": [],
   "source": [
    "var1=(1)"
   ]
  },
  {
   "cell_type": "code",
   "execution_count": 2,
   "id": "25e466bd",
   "metadata": {},
   "outputs": [
    {
     "data": {
      "text/plain": [
       "int"
      ]
     },
     "execution_count": 2,
     "metadata": {},
     "output_type": "execute_result"
    }
   ],
   "source": [
    "type(var1)"
   ]
  },
  {
   "cell_type": "code",
   "execution_count": 3,
   "id": "4d360e08",
   "metadata": {},
   "outputs": [],
   "source": [
    "var2=(2,)"
   ]
  },
  {
   "cell_type": "code",
   "execution_count": 4,
   "id": "0e1cd60f",
   "metadata": {},
   "outputs": [
    {
     "data": {
      "text/plain": [
       "tuple"
      ]
     },
     "execution_count": 4,
     "metadata": {},
     "output_type": "execute_result"
    }
   ],
   "source": [
    "type(var2)"
   ]
  },
  {
   "cell_type": "code",
   "execution_count": 5,
   "id": "69281e37",
   "metadata": {},
   "outputs": [],
   "source": [
    "var3=[1]"
   ]
  },
  {
   "cell_type": "code",
   "execution_count": 6,
   "id": "9b128d66",
   "metadata": {},
   "outputs": [
    {
     "data": {
      "text/plain": [
       "list"
      ]
     },
     "execution_count": 6,
     "metadata": {},
     "output_type": "execute_result"
    }
   ],
   "source": [
    "type(var3)"
   ]
  },
  {
   "cell_type": "code",
   "execution_count": 7,
   "id": "af3bc8e2",
   "metadata": {},
   "outputs": [],
   "source": [
    "m1=100"
   ]
  },
  {
   "cell_type": "code",
   "execution_count": 8,
   "id": "c52f5cdd",
   "metadata": {},
   "outputs": [],
   "source": [
    "m2=100"
   ]
  },
  {
   "cell_type": "code",
   "execution_count": 9,
   "id": "e45c13ca",
   "metadata": {},
   "outputs": [
    {
     "data": {
      "text/plain": [
       "8888168"
      ]
     },
     "execution_count": 9,
     "metadata": {},
     "output_type": "execute_result"
    }
   ],
   "source": [
    "id(m1) #to see the address"
   ]
  },
  {
   "cell_type": "code",
   "execution_count": 10,
   "id": "da0a89ba",
   "metadata": {},
   "outputs": [
    {
     "data": {
      "text/plain": [
       "8888168"
      ]
     },
     "execution_count": 10,
     "metadata": {},
     "output_type": "execute_result"
    }
   ],
   "source": [
    "id(m2)"
   ]
  },
  {
   "cell_type": "code",
   "execution_count": 11,
   "id": "9b41be7a",
   "metadata": {},
   "outputs": [],
   "source": [
    "m3=300"
   ]
  },
  {
   "cell_type": "code",
   "execution_count": 12,
   "id": "3f3f5599",
   "metadata": {},
   "outputs": [],
   "source": [
    "m4=300"
   ]
  },
  {
   "cell_type": "code",
   "execution_count": 13,
   "id": "2f725efb",
   "metadata": {},
   "outputs": [
    {
     "data": {
      "text/plain": [
       "int"
      ]
     },
     "execution_count": 13,
     "metadata": {},
     "output_type": "execute_result"
    }
   ],
   "source": [
    "type(m3)"
   ]
  },
  {
   "cell_type": "code",
   "execution_count": 14,
   "id": "a74ab656",
   "metadata": {},
   "outputs": [
    {
     "data": {
      "text/plain": [
       "140656580148816"
      ]
     },
     "execution_count": 14,
     "metadata": {},
     "output_type": "execute_result"
    }
   ],
   "source": [
    "id(m3)#above 255 python assigns different address "
   ]
  },
  {
   "cell_type": "code",
   "execution_count": 15,
   "id": "48df6acc",
   "metadata": {},
   "outputs": [
    {
     "data": {
      "text/plain": [
       "140656580148656"
      ]
     },
     "execution_count": 15,
     "metadata": {},
     "output_type": "execute_result"
    }
   ],
   "source": [
    "id(m4)"
   ]
  },
  {
   "cell_type": "code",
   "execution_count": 16,
   "id": "7c4331fb",
   "metadata": {},
   "outputs": [
    {
     "name": "stdout",
     "output_type": "stream",
     "text": [
      "Enter the number:3\n"
     ]
    }
   ],
   "source": [
    "a=int(input(\"Enter the number:\"))"
   ]
  },
  {
   "cell_type": "code",
   "execution_count": 17,
   "id": "e43be376",
   "metadata": {},
   "outputs": [
    {
     "name": "stdout",
     "output_type": "stream",
     "text": [
      "Enter the number:5\n"
     ]
    }
   ],
   "source": [
    "a=int(input(\"Enter the number:\"))"
   ]
  },
  {
   "cell_type": "code",
   "execution_count": 20,
   "id": "cf6dd1c9",
   "metadata": {},
   "outputs": [
    {
     "data": {
      "text/plain": [
       "5"
      ]
     },
     "execution_count": 20,
     "metadata": {},
     "output_type": "execute_result"
    }
   ],
   "source": [
    "a"
   ]
  },
  {
   "cell_type": "code",
   "execution_count": 21,
   "id": "8142a3ca",
   "metadata": {},
   "outputs": [
    {
     "name": "stdout",
     "output_type": "stream",
     "text": [
      "Enter two numbers:3 4\n"
     ]
    },
    {
     "ename": "ValueError",
     "evalue": "invalid literal for int() with base 10: '3 4'",
     "output_type": "error",
     "traceback": [
      "\u001b[0;31m---------------------------------------------------------------------------\u001b[0m",
      "\u001b[0;31mValueError\u001b[0m                                Traceback (most recent call last)",
      "Cell \u001b[0;32mIn[21], line 1\u001b[0m\n\u001b[0;32m----> 1\u001b[0m a,b\u001b[38;5;241m=\u001b[39m\u001b[38;5;28mint\u001b[39m(\u001b[38;5;28minput\u001b[39m(\u001b[38;5;124m\"\u001b[39m\u001b[38;5;124mEnter two numbers:\u001b[39m\u001b[38;5;124m\"\u001b[39m))\n",
      "\u001b[0;31mValueError\u001b[0m: invalid literal for int() with base 10: '3 4'"
     ]
    }
   ],
   "source": [
    "a,b=int(input(\"Enter two numbers:\"))"
   ]
  },
  {
   "cell_type": "code",
   "execution_count": 22,
   "id": "d66d1f58",
   "metadata": {},
   "outputs": [
    {
     "name": "stdout",
     "output_type": "stream",
     "text": [
      "Enter two numbers:3 4\n"
     ]
    },
    {
     "ename": "ValueError",
     "evalue": "invalid literal for int() with base 10: '3 4'",
     "output_type": "error",
     "traceback": [
      "\u001b[0;31m---------------------------------------------------------------------------\u001b[0m",
      "\u001b[0;31mValueError\u001b[0m                                Traceback (most recent call last)",
      "Cell \u001b[0;32mIn[22], line 1\u001b[0m\n\u001b[0;32m----> 1\u001b[0m a,b\u001b[38;5;241m=\u001b[39m\u001b[38;5;28mint\u001b[39m(\u001b[38;5;28minput\u001b[39m(\u001b[38;5;124m\"\u001b[39m\u001b[38;5;124mEnter two numbers:\u001b[39m\u001b[38;5;124m\"\u001b[39m))\n",
      "\u001b[0;31mValueError\u001b[0m: invalid literal for int() with base 10: '3 4'"
     ]
    }
   ],
   "source": [
    "a,b=int(input(\"Enter two numbers:\"))"
   ]
  },
  {
   "cell_type": "code",
   "execution_count": 23,
   "id": "7114c75d",
   "metadata": {},
   "outputs": [
    {
     "ename": "NameError",
     "evalue": "name 'employee_code' is not defined",
     "output_type": "error",
     "traceback": [
      "\u001b[0;31m---------------------------------------------------------------------------\u001b[0m",
      "\u001b[0;31mNameError\u001b[0m                                 Traceback (most recent call last)",
      "Cell \u001b[0;32mIn[23], line 1\u001b[0m\n\u001b[0;32m----> 1\u001b[0m employee_code\n",
      "\u001b[0;31mNameError\u001b[0m: name 'employee_code' is not defined"
     ]
    }
   ],
   "source": [
    "employee_code"
   ]
  },
  {
   "cell_type": "code",
   "execution_count": 24,
   "id": "0b659ab6",
   "metadata": {},
   "outputs": [],
   "source": [
    "scenario={'sunny':1,'rainy':2,'windy':3}"
   ]
  },
  {
   "cell_type": "code",
   "execution_count": 25,
   "id": "c46209c7",
   "metadata": {},
   "outputs": [
    {
     "name": "stdout",
     "output_type": "stream",
     "text": [
      "Enter the scenario:\n"
     ]
    }
   ],
   "source": [
    "a=input(\"Enter the scenario:\")"
   ]
  },
  {
   "cell_type": "code",
   "execution_count": 26,
   "id": "8a491d63",
   "metadata": {},
   "outputs": [
    {
     "data": {
      "text/plain": [
       "''"
      ]
     },
     "execution_count": 26,
     "metadata": {},
     "output_type": "execute_result"
    }
   ],
   "source": [
    "a"
   ]
  },
  {
   "cell_type": "code",
   "execution_count": 27,
   "id": "c8cd5db5",
   "metadata": {},
   "outputs": [],
   "source": [
    "dates = ['2023-09-01', '2023-09-02', '2023-09-03', '2023-09-04', '2023-09-05']\n",
    "temperature = [78, 82, 79, 85, 88]\n",
    "humidity = [60, 65, 62, 58, 57]\n",
    "precipitation = [0.0, 0.2, 0.0, 0.0, 0.0]\n",
    "\n",
    "\n"
   ]
  },
  {
   "cell_type": "code",
   "execution_count": 28,
   "id": "e3506ef4",
   "metadata": {},
   "outputs": [],
   "source": [
    "weather_data = list(zip(dates, temperature, humidity, precipitation))"
   ]
  },
  {
   "cell_type": "code",
   "execution_count": 29,
   "id": "96e1bc41",
   "metadata": {},
   "outputs": [
    {
     "data": {
      "text/plain": [
       "[('2023-09-01', 78, 60, 0.0),\n",
       " ('2023-09-02', 82, 65, 0.2),\n",
       " ('2023-09-03', 79, 62, 0.0),\n",
       " ('2023-09-04', 85, 58, 0.0),\n",
       " ('2023-09-05', 88, 57, 0.0)]"
      ]
     },
     "execution_count": 29,
     "metadata": {},
     "output_type": "execute_result"
    }
   ],
   "source": [
    "weather_data"
   ]
  },
  {
   "cell_type": "code",
   "execution_count": 30,
   "id": "b896e925",
   "metadata": {},
   "outputs": [
    {
     "name": "stdout",
     "output_type": "stream",
     "text": [
      "[82, 85, 88]\n"
     ]
    }
   ],
   "source": [
    "\n",
    "\n",
    "filtered_temperatures = list(filter(lambda x: x > 80, temperature))\n",
    "\n",
    "print(filtered_temperatures)"
   ]
  },
  {
   "cell_type": "code",
   "execution_count": 31,
   "id": "d778032c",
   "metadata": {},
   "outputs": [
    {
     "data": {
      "text/plain": [
       "[82, 85, 88]"
      ]
     },
     "execution_count": 31,
     "metadata": {},
     "output_type": "execute_result"
    }
   ],
   "source": [
    "filtered_temperatures"
   ]
  },
  {
   "cell_type": "code",
   "execution_count": 32,
   "id": "5cc07ee8",
   "metadata": {},
   "outputs": [],
   "source": [
    "hot_days=[]\n",
    "for i in temperature:\n",
    "    if i>80:\n",
    "        hot_days.append(i)\n",
    "        "
   ]
  },
  {
   "cell_type": "code",
   "execution_count": 33,
   "id": "09d8167f",
   "metadata": {},
   "outputs": [
    {
     "data": {
      "text/plain": [
       "[82, 85, 88]"
      ]
     },
     "execution_count": 33,
     "metadata": {},
     "output_type": "execute_result"
    }
   ],
   "source": [
    "hot_days"
   ]
  },
  {
   "cell_type": "code",
   "execution_count": 34,
   "id": "a40ef244",
   "metadata": {},
   "outputs": [],
   "source": [
    "weather_forecast=[]\n",
    "for i in temperature:\n",
    "    if i>85:\n",
    "        forecast=\"Hot and sunny\"\n",
    "    elif 80<=i<=85:\n",
    "        forecast=\"warm and pleasant\"\n",
    "    else:\n",
    "        forecast=\"Cool and comfortable\"\n",
    "for i in forecast:\n",
    "    weather_forecast.append(i)"
   ]
  },
  {
   "cell_type": "code",
   "execution_count": 35,
   "id": "50b9bc38",
   "metadata": {},
   "outputs": [],
   "source": [
    "hot_days=[]\n",
    "for idx,temp in enumerate(temperature):\n",
    "    if temp>80:\n",
    "        hot_days.append(dates[idx])"
   ]
  },
  {
   "cell_type": "code",
   "execution_count": 36,
   "id": "2851e547",
   "metadata": {},
   "outputs": [
    {
     "data": {
      "text/plain": [
       "['2023-09-02', '2023-09-04', '2023-09-05']"
      ]
     },
     "execution_count": 36,
     "metadata": {},
     "output_type": "execute_result"
    }
   ],
   "source": [
    "hot_days"
   ]
  },
  {
   "cell_type": "code",
   "execution_count": 37,
   "id": "5aed8594",
   "metadata": {},
   "outputs": [
    {
     "data": {
      "text/plain": [
       "5"
      ]
     },
     "execution_count": 37,
     "metadata": {},
     "output_type": "execute_result"
    }
   ],
   "source": [
    "len(temperature)"
   ]
  },
  {
   "cell_type": "code",
   "execution_count": 38,
   "id": "7d5607f7",
   "metadata": {},
   "outputs": [],
   "source": [
    "avg_temp=sum(temperature)/len(temperature)"
   ]
  },
  {
   "cell_type": "code",
   "execution_count": 39,
   "id": "a96767d1",
   "metadata": {},
   "outputs": [
    {
     "data": {
      "text/plain": [
       "82.4"
      ]
     },
     "execution_count": 39,
     "metadata": {},
     "output_type": "execute_result"
    }
   ],
   "source": [
    "avg_temp"
   ]
  },
  {
   "cell_type": "code",
   "execution_count": 40,
   "id": "746ecaac",
   "metadata": {},
   "outputs": [
    {
     "name": "stdout",
     "output_type": "stream",
     "text": [
      "82.4\n"
     ]
    }
   ],
   "source": [
    "temperature = [78, 82, 79, 85, 88]\n",
    "total_temperature=0\n",
    "count=0\n",
    "for i in temperature:\n",
    "    total_temperature+=i\n",
    "    count+=1\n",
    "average_temp=total_temperature/count\n",
    "print(average_temp)\n",
    "    "
   ]
  },
  {
   "cell_type": "code",
   "execution_count": 41,
   "id": "c8e1d3e9",
   "metadata": {},
   "outputs": [
    {
     "name": "stdout",
     "output_type": "stream",
     "text": [
      "Enter the name:\n",
      "Enter the temperature:\n"
     ]
    },
    {
     "ename": "ValueError",
     "evalue": "invalid literal for int() with base 10: ''",
     "output_type": "error",
     "traceback": [
      "\u001b[0;31m---------------------------------------------------------------------------\u001b[0m",
      "\u001b[0;31mValueError\u001b[0m                                Traceback (most recent call last)",
      "Cell \u001b[0;32mIn[41], line 2\u001b[0m\n\u001b[1;32m      1\u001b[0m user_name \u001b[38;5;241m=\u001b[39m \u001b[38;5;28minput\u001b[39m(\u001b[38;5;124m\"\u001b[39m\u001b[38;5;124mEnter the name:\u001b[39m\u001b[38;5;124m\"\u001b[39m)\n\u001b[0;32m----> 2\u001b[0m current_temp\u001b[38;5;241m=\u001b[39m\u001b[38;5;28mint\u001b[39m(\u001b[38;5;28minput\u001b[39m(\u001b[38;5;124m\"\u001b[39m\u001b[38;5;124mEnter the temperature:\u001b[39m\u001b[38;5;124m\"\u001b[39m))\n\u001b[1;32m      3\u001b[0m forecast\u001b[38;5;241m=\u001b[39m[]\n\u001b[1;32m      4\u001b[0m \u001b[38;5;28;01mfor\u001b[39;00m i \u001b[38;5;129;01min\u001b[39;00m current_temp:\n",
      "\u001b[0;31mValueError\u001b[0m: invalid literal for int() with base 10: ''"
     ]
    }
   ],
   "source": [
    "user_name = input(\"Enter the name:\")\n",
    "current_temp=int(input(\"Enter the temperature:\"))\n",
    "forecast=[]\n",
    "for i in current_temp:\n",
    "    if i>85:\n",
    "        forecast.append('sunny')\n",
    "    elif 80<=i and i<=85:\n",
    "        forecast.append('warm')\n",
    "    else:\n",
    "        forecast.append('cool')\n",
    "    "
   ]
  },
  {
   "cell_type": "code",
   "execution_count": 42,
   "id": "fd53d762",
   "metadata": {},
   "outputs": [
    {
     "data": {
      "text/plain": [
       "'Hot and sunny'"
      ]
     },
     "execution_count": 42,
     "metadata": {},
     "output_type": "execute_result"
    }
   ],
   "source": [
    "forecast"
   ]
  },
  {
   "cell_type": "code",
   "execution_count": 43,
   "id": "7a85114d",
   "metadata": {},
   "outputs": [
    {
     "ename": "SyntaxError",
     "evalue": "invalid syntax (2351984690.py, line 1)",
     "output_type": "error",
     "traceback": [
      "\u001b[0;36m  Cell \u001b[0;32mIn[43], line 1\u001b[0;36m\u001b[0m\n\u001b[0;31m    user_msg= f\"Hello {user_name},the current temperature is {current_temp}C,and the forecast is {forecast}\".\u001b[0m\n\u001b[0m                                                                                                             ^\u001b[0m\n\u001b[0;31mSyntaxError\u001b[0m\u001b[0;31m:\u001b[0m invalid syntax\n"
     ]
    }
   ],
   "source": [
    "user_msg= f\"Hello {user_name},the current temperature is {current_temp}C,and the forecast is {forecast}\"."
   ]
  },
  {
   "cell_type": "code",
   "execution_count": 44,
   "id": "e89e7bd8",
   "metadata": {},
   "outputs": [
    {
     "ename": "NameError",
     "evalue": "name 'user_msg' is not defined",
     "output_type": "error",
     "traceback": [
      "\u001b[0;31m---------------------------------------------------------------------------\u001b[0m",
      "\u001b[0;31mNameError\u001b[0m                                 Traceback (most recent call last)",
      "Cell \u001b[0;32mIn[44], line 1\u001b[0m\n\u001b[0;32m----> 1\u001b[0m user_msg\n",
      "\u001b[0;31mNameError\u001b[0m: name 'user_msg' is not defined"
     ]
    }
   ],
   "source": [
    "user_msg"
   ]
  },
  {
   "cell_type": "code",
   "execution_count": 45,
   "id": "bff14d97",
   "metadata": {},
   "outputs": [
    {
     "ename": "SyntaxError",
     "evalue": "leading zeros in decimal integer literals are not permitted; use an 0o prefix for octal integers (3605590552.py, line 1)",
     "output_type": "error",
     "traceback": [
      "\u001b[0;36m  Cell \u001b[0;32mIn[45], line 1\u001b[0;36m\u001b[0m\n\u001b[0;31m    production=[[120940305,33-053-05925-0000,2015,8,G,357.83334,4,0,L,R,G],[120941158,33-053-05640-0000,2015,11,G,485,11,0,L,R,G]]\u001b[0m\n\u001b[0m                              ^\u001b[0m\n\u001b[0;31mSyntaxError\u001b[0m\u001b[0;31m:\u001b[0m leading zeros in decimal integer literals are not permitted; use an 0o prefix for octal integers\n"
     ]
    }
   ],
   "source": [
    "production=[[120940305,33-053-05925-0000,2015,8,G,357.83334,4,0,L,R,G],[120941158,33-053-05640-0000,2015,11,G,485,11,0,L,R,G]]"
   ]
  },
  {
   "cell_type": "code",
   "execution_count": 46,
   "id": "3ea1c7f7",
   "metadata": {},
   "outputs": [],
   "source": [
    "newrecord={'Id':120940305,'API Number':'33-53-5925','Year':2015,'Month':8,'OilAndGasGroup':'G','Production':357.8334,'CumulativeCalendarMonths':0,'CumulativeCalendarYears':1,'Production Phase':'L','Production Forecast Group':'R','OilAndGasCategory':'G'}"
   ]
  },
  {
   "cell_type": "code",
   "execution_count": 47,
   "id": "4bc13f8c",
   "metadata": {},
   "outputs": [
    {
     "data": {
      "text/plain": [
       "{'Id': 120940305,\n",
       " 'API Number': '33-53-5925',\n",
       " 'Year': 2015,\n",
       " 'Month': 8,\n",
       " 'OilAndGasGroup': 'G',\n",
       " 'Production': 357.8334,\n",
       " 'CumulativeCalendarMonths': 0,\n",
       " 'CumulativeCalendarYears': 1,\n",
       " 'Production Phase': 'L',\n",
       " 'Production Forecast Group': 'R',\n",
       " 'OilAndGasCategory': 'G'}"
      ]
     },
     "execution_count": 47,
     "metadata": {},
     "output_type": "execute_result"
    }
   ],
   "source": [
    "newrecord"
   ]
  },
  {
   "cell_type": "code",
   "execution_count": 48,
   "id": "2f0e9a19",
   "metadata": {},
   "outputs": [],
   "source": [
    "newrecord2={'Id':120944833,'API Number':'33-053-05091-0000','Year':2015,'Month':8,'OilAndGasGroup':'O','Production':5190,'CumulativeCalendarMonths':10,'CumulativeCalendarYears':0,'Production Phase':'L','Production Forecast Group':'R','OilAndGasCategory':'O'}"
   ]
  },
  {
   "cell_type": "code",
   "execution_count": 49,
   "id": "2c3d39a8",
   "metadata": {},
   "outputs": [
    {
     "data": {
      "text/plain": [
       "{'Id': 120944833,\n",
       " 'API Number': '33-053-05091-0000',\n",
       " 'Year': 2015,\n",
       " 'Month': 8,\n",
       " 'OilAndGasGroup': 'O',\n",
       " 'Production': 5190,\n",
       " 'CumulativeCalendarMonths': 10,\n",
       " 'CumulativeCalendarYears': 0,\n",
       " 'Production Phase': 'L',\n",
       " 'Production Forecast Group': 'R',\n",
       " 'OilAndGasCategory': 'O'}"
      ]
     },
     "execution_count": 49,
     "metadata": {},
     "output_type": "execute_result"
    }
   ],
   "source": [
    "newrecord2"
   ]
  },
  {
   "cell_type": "code",
   "execution_count": 50,
   "id": "6380ac19",
   "metadata": {},
   "outputs": [],
   "source": [
    "import keyword"
   ]
  },
  {
   "cell_type": "code",
   "execution_count": 51,
   "id": "c3b66396",
   "metadata": {},
   "outputs": [
    {
     "data": {
      "text/plain": [
       "['False',\n",
       " 'None',\n",
       " 'True',\n",
       " 'and',\n",
       " 'as',\n",
       " 'assert',\n",
       " 'async',\n",
       " 'await',\n",
       " 'break',\n",
       " 'class',\n",
       " 'continue',\n",
       " 'def',\n",
       " 'del',\n",
       " 'elif',\n",
       " 'else',\n",
       " 'except',\n",
       " 'finally',\n",
       " 'for',\n",
       " 'from',\n",
       " 'global',\n",
       " 'if',\n",
       " 'import',\n",
       " 'in',\n",
       " 'is',\n",
       " 'lambda',\n",
       " 'nonlocal',\n",
       " 'not',\n",
       " 'or',\n",
       " 'pass',\n",
       " 'raise',\n",
       " 'return',\n",
       " 'try',\n",
       " 'while',\n",
       " 'with',\n",
       " 'yield']"
      ]
     },
     "execution_count": 51,
     "metadata": {},
     "output_type": "execute_result"
    }
   ],
   "source": [
    "keyword.kwlist"
   ]
  },
  {
   "cell_type": "code",
   "execution_count": 52,
   "id": "85de9774",
   "metadata": {},
   "outputs": [],
   "source": [
    "def calculate_boyle_temperature(P1,V1,P2):\n",
    "    V2=(P1*V1)/P2\n",
    "    return V2\n",
    "    \n",
    "    "
   ]
  },
  {
   "cell_type": "code",
   "execution_count": 53,
   "id": "030b128b",
   "metadata": {},
   "outputs": [
    {
     "name": "stdout",
     "output_type": "stream",
     "text": [
      "89.47368421052632\n"
     ]
    }
   ],
   "source": [
    "final=calculate_boyle_temperature(34,100,38)\n",
    "print(final)"
   ]
  },
  {
   "cell_type": "code",
   "execution_count": 54,
   "id": "f977ec16",
   "metadata": {},
   "outputs": [],
   "source": [
    "def final_temp(P1,V1,P2,V2):\n",
    "    T=P1*V1/P2*V2\n",
    "    return T"
   ]
  },
  {
   "cell_type": "code",
   "execution_count": 55,
   "id": "beeb4f55",
   "metadata": {},
   "outputs": [
    {
     "name": "stdout",
     "output_type": "stream",
     "text": [
      "8007.894736842105\n"
     ]
    }
   ],
   "source": [
    "final_value=final_temp(34,100,38,89.5)\n",
    "print(final_value)"
   ]
  },
  {
   "cell_type": "code",
   "execution_count": 56,
   "id": "c01d0962",
   "metadata": {},
   "outputs": [],
   "source": [
    "def check_return_type(arg):\n",
    "    if arg is None:\n",
    "        return \"None\"\n",
    "    else:\n",
    "        return type(arg)\n",
    "    "
   ]
  },
  {
   "cell_type": "code",
   "execution_count": 57,
   "id": "14dc3cbc",
   "metadata": {},
   "outputs": [],
   "source": [
    "result1 = check_return_type(None)\n",
    "result2 = check_return_type(42)\n",
    "result3 = check_return_type(\"Hello\")"
   ]
  },
  {
   "cell_type": "code",
   "execution_count": 58,
   "id": "15327b85",
   "metadata": {},
   "outputs": [
    {
     "name": "stdout",
     "output_type": "stream",
     "text": [
      "Result 1: None\n",
      "Result 2: <class 'int'>\n",
      "Result 3: <class 'str'>\n"
     ]
    }
   ],
   "source": [
    "print(f\"Result 1: {result1}\")\n",
    "print(f\"Result 2: {result2}\")\n",
    "print(f\"Result 3: {result3}\")"
   ]
  },
  {
   "cell_type": "code",
   "execution_count": 59,
   "id": "75ca526f",
   "metadata": {},
   "outputs": [
    {
     "name": "stdout",
     "output_type": "stream",
     "text": [
      "Resultant volume: 111.11111111111111\n"
     ]
    }
   ],
   "source": [
    "def divide(P1,V1,P2):\n",
    "    if P2 == 0:\n",
    "        raise ZeroDivisionError(\"Division by zero is not allowed\")\n",
    "    return (P1*V1/P2)\n",
    "\n",
    "try:\n",
    "    result = divide(10, 100,9)\n",
    "except ZeroDivisionError as e:\n",
    "    print(f\"Error: {e}\")\n",
    "else:\n",
    "    print(f\"Resultant volume: {result}\")\n",
    "\n",
    "    "
   ]
  },
  {
   "cell_type": "code",
   "execution_count": 60,
   "id": "06f1eb28",
   "metadata": {},
   "outputs": [
    {
     "name": "stdout",
     "output_type": "stream",
     "text": [
      "Error: Division by zero is not allowed\n"
     ]
    }
   ],
   "source": [
    "def divide(P1,V1,P2):\n",
    "    if P2 == 0:\n",
    "        raise ZeroDivisionError(\"Division by zero is not allowed\")\n",
    "    return (P1*V1/P2)\n",
    "\n",
    "try:\n",
    "    result = divide(10, 100,0)\n",
    "except ZeroDivisionError as e:\n",
    "    print(f\"Error: {e}\")\n",
    "else:\n",
    "    print(f\"Resultant volume: {result}\")\n"
   ]
  },
  {
   "cell_type": "code",
   "execution_count": 61,
   "id": "5a277f57",
   "metadata": {},
   "outputs": [],
   "source": [
    "mylist = ['apple', 'banana', 'cherry']\n",
    "x = frozenset(mylist)"
   ]
  },
  {
   "cell_type": "code",
   "execution_count": 62,
   "id": "712dd909",
   "metadata": {},
   "outputs": [
    {
     "data": {
      "text/plain": [
       "frozenset({'apple', 'banana', 'cherry'})"
      ]
     },
     "execution_count": 62,
     "metadata": {},
     "output_type": "execute_result"
    }
   ],
   "source": [
    "x"
   ]
  },
  {
   "cell_type": "code",
   "execution_count": 12,
   "id": "c7006921",
   "metadata": {},
   "outputs": [
    {
     "name": "stdout",
     "output_type": "stream",
     "text": [
      "Result: 12\n",
      "Result: 110\n"
     ]
    }
   ],
   "source": [
    "add = lambda a,b: a+b if b != 0 else None\n",
    "\n",
    "try:\n",
    "    result = add(10, 2)\n",
    "    print(f\"Result: {result}\")\n",
    "    \n",
    "    result = add(10, 100)  # This will trigger a ZeroDivisionError\n",
    "    print(f\"Result: {result}\")  # This line won't be executed\n",
    "except ZeroDivisionError as e:\n",
    "    print(f\"Error: {e}\")"
   ]
  },
  {
   "cell_type": "code",
   "execution_count": 13,
   "id": "c1baf716",
   "metadata": {},
   "outputs": [
    {
     "name": "stdout",
     "output_type": "stream",
     "text": [
      "Result: 20\n",
      "Result: 1000\n"
     ]
    }
   ],
   "source": [
    "multiply = lambda a,b: a*b if b != 0 else None\n",
    "\n",
    "try:\n",
    "    result = multiply(10, 2)\n",
    "    print(f\"Result: {result}\")\n",
    "    \n",
    "    result = multiply(10, 100)  # This will trigger a ZeroDivisionError\n",
    "    print(f\"Result: {result}\")  # This line won't be executed\n",
    "except ZeroDivisionError as e:\n",
    "    print(f\"Error: {e}\")"
   ]
  },
  {
   "cell_type": "code",
   "execution_count": 14,
   "id": "5119f0af",
   "metadata": {},
   "outputs": [
    {
     "ename": "NameError",
     "evalue": "name 'b' is not defined",
     "output_type": "error",
     "traceback": [
      "\u001b[0;31m---------------------------------------------------------------------------\u001b[0m",
      "\u001b[0;31mNameError\u001b[0m                                 Traceback (most recent call last)",
      "Cell \u001b[0;32mIn[14], line 4\u001b[0m\n\u001b[1;32m      1\u001b[0m convert \u001b[38;5;241m=\u001b[39m \u001b[38;5;28;01mlambda\u001b[39;00m a: a\u001b[38;5;241m.\u001b[39mupper() \u001b[38;5;28;01mif\u001b[39;00m b \u001b[38;5;241m!=\u001b[39m \u001b[38;5;241m0\u001b[39m \u001b[38;5;28;01melse\u001b[39;00m \u001b[38;5;28;01mNone\u001b[39;00m\n\u001b[1;32m      3\u001b[0m \u001b[38;5;28;01mtry\u001b[39;00m:\n\u001b[0;32m----> 4\u001b[0m     result \u001b[38;5;241m=\u001b[39m convert(\u001b[38;5;124m'\u001b[39m\u001b[38;5;124mharshitha\u001b[39m\u001b[38;5;124m'\u001b[39m)\n\u001b[1;32m      5\u001b[0m     \u001b[38;5;28mprint\u001b[39m(\u001b[38;5;124mf\u001b[39m\u001b[38;5;124m\"\u001b[39m\u001b[38;5;124mResult: \u001b[39m\u001b[38;5;132;01m{\u001b[39;00mresult\u001b[38;5;132;01m}\u001b[39;00m\u001b[38;5;124m\"\u001b[39m)\n\u001b[1;32m      7\u001b[0m     result \u001b[38;5;241m=\u001b[39m convert(\u001b[38;5;124m'\u001b[39m\u001b[38;5;124mpallavi\u001b[39m\u001b[38;5;124m'\u001b[39m) \u001b[38;5;66;03m# This will trigger a ZeroDivisionError\u001b[39;00m\n",
      "Cell \u001b[0;32mIn[14], line 1\u001b[0m, in \u001b[0;36m<lambda>\u001b[0;34m(a)\u001b[0m\n\u001b[0;32m----> 1\u001b[0m convert \u001b[38;5;241m=\u001b[39m \u001b[38;5;28;01mlambda\u001b[39;00m a: a\u001b[38;5;241m.\u001b[39mupper() \u001b[38;5;28;01mif\u001b[39;00m b \u001b[38;5;241m!=\u001b[39m \u001b[38;5;241m0\u001b[39m \u001b[38;5;28;01melse\u001b[39;00m \u001b[38;5;28;01mNone\u001b[39;00m\n\u001b[1;32m      3\u001b[0m \u001b[38;5;28;01mtry\u001b[39;00m:\n\u001b[1;32m      4\u001b[0m     result \u001b[38;5;241m=\u001b[39m convert(\u001b[38;5;124m'\u001b[39m\u001b[38;5;124mharshitha\u001b[39m\u001b[38;5;124m'\u001b[39m)\n",
      "\u001b[0;31mNameError\u001b[0m: name 'b' is not defined"
     ]
    }
   ],
   "source": [
    "convert = lambda a: a.upper() if b != 0 else None\n",
    "\n",
    "try:\n",
    "    result = convert('harshitha')\n",
    "    print(f\"Result: {result}\")\n",
    "    \n",
    "    result = convert('pallavi') # This will trigger a ZeroDivisionError\n",
    "    print(f\"Result: {result}\")  # This line won't be executed\n",
    "except ZeroDivisionError as e:\n",
    "    print(f\"Error: {e}\")"
   ]
  },
  {
   "cell_type": "code",
   "execution_count": 64,
   "id": "6acf334a",
   "metadata": {},
   "outputs": [],
   "source": [
    "import datetime"
   ]
  },
  {
   "cell_type": "code",
   "execution_count": 65,
   "id": "984f95d3",
   "metadata": {},
   "outputs": [
    {
     "name": "stdout",
     "output_type": "stream",
     "text": [
      "2023-09-19 06:15:18.690147\n"
     ]
    }
   ],
   "source": [
    "x = datetime.datetime.now()\n",
    "print(x)"
   ]
  },
  {
   "cell_type": "code",
   "execution_count": 66,
   "id": "c67d0eb5",
   "metadata": {},
   "outputs": [],
   "source": [
    "import time\n",
    "    "
   ]
  },
  {
   "cell_type": "code",
   "execution_count": 67,
   "id": "3e5ae318",
   "metadata": {},
   "outputs": [
    {
     "name": "stdout",
     "output_type": "stream",
     "text": [
      "Current Unix Timestamp: 1695104118\n"
     ]
    }
   ],
   "source": [
    "\n",
    "\n",
    "def unix_timestamp():\n",
    "    return int(time.time())\n",
    "\n",
    "# Example usage:\n",
    "current_timestamp = unix_timestamp()\n",
    "print(f\"Current Unix Timestamp: {current_timestamp}\")\n"
   ]
  },
  {
   "cell_type": "code",
   "execution_count": 68,
   "id": "5b778be8",
   "metadata": {},
   "outputs": [],
   "source": [
    "from datetime import datetime\n"
   ]
  },
  {
   "cell_type": "code",
   "execution_count": 69,
   "id": "a3c029a8",
   "metadata": {},
   "outputs": [
    {
     "name": "stdout",
     "output_type": "stream",
     "text": [
      "Custom Timestamp: 19-09-23 06:15\n"
     ]
    }
   ],
   "source": [
    "\n",
    "\n",
    "def custom_timestamp(input_datetime, format_string=\"%d-%m-%y %H:%M\"):\n",
    "    return input_datetime.strftime(format_string)\n",
    "\n",
    "current_datetime = datetime.now()\n",
    "custom_format = \"%d-%m-%y %H:%M\"\n",
    "custom_ts = custom_timestamp(current_datetime, format_string=custom_format)\n",
    "print(f\"Custom Timestamp: {custom_ts}\")\n"
   ]
  },
  {
   "cell_type": "code",
   "execution_count": 70,
   "id": "27015393",
   "metadata": {},
   "outputs": [
    {
     "name": "stdout",
     "output_type": "stream",
     "text": [
      "Custom Timestamp: 23-09-19\n"
     ]
    }
   ],
   "source": [
    "def custom_timestamp(input_datetime, format_string=\"%y-%m-%d\"):\n",
    "    return input_datetime.strftime(format_string)\n",
    "\n",
    "current_datetime = datetime.now()\n",
    "custom_format = \"%y-%m-%d\"\n",
    "custom_ts = custom_timestamp(current_datetime, format_string=custom_format)\n",
    "print(f\"Custom Timestamp: {custom_ts}\")"
   ]
  },
  {
   "cell_type": "code",
   "execution_count": 71,
   "id": "5b229a0a",
   "metadata": {},
   "outputs": [
    {
     "name": "stdout",
     "output_type": "stream",
     "text": [
      "Custom Timestamp: 19-Sep-23\n"
     ]
    }
   ],
   "source": [
    "def custom_timestamp(input_datetime, format_string=\"%d-%b-%y\"):\n",
    "    return input_datetime.strftime(format_string)\n",
    "\n",
    "current_datetime = datetime.now()\n",
    "custom_format = \"%d-%b-%y\"\n",
    "custom_ts = custom_timestamp(current_datetime, format_string=custom_format)\n",
    "print(f\"Custom Timestamp: {custom_ts}\")"
   ]
  },
  {
   "cell_type": "code",
   "execution_count": 72,
   "id": "6f8e7d23",
   "metadata": {},
   "outputs": [
    {
     "name": "stdout",
     "output_type": "stream",
     "text": [
      "Oil Well Age: 23.72 years\n"
     ]
    }
   ],
   "source": [
    "from datetime import datetime\n",
    "\n",
    "def calculate_oil_well_age(start_date, current_date):\n",
    "   \n",
    "    if not isinstance(start_date, datetime):\n",
    "        start_date = datetime.strptime(start_date, \"%Y-%m-%d\")\n",
    "    if not isinstance(current_date, datetime):\n",
    "        current_date = datetime.strptime(current_date, \"%Y-%m-%d\")\n",
    "\n",
    "   \n",
    "    delta = current_date - start_date\n",
    "\n",
    "   \n",
    "    age_in_years = delta.days / 365.25\n",
    "\n",
    "    return age_in_years\n",
    "\n",
    "\n",
    "start_date = \"2000-01-01\" \n",
    "current_date = datetime.now()  # Use the current date\n",
    "oil_well_age = calculate_oil_well_age(start_date, current_date)\n",
    "print(f\"Oil Well Age: {oil_well_age:.2f} years\")\n"
   ]
  },
  {
   "cell_type": "code",
   "execution_count": 73,
   "id": "351470cc",
   "metadata": {},
   "outputs": [
    {
     "ename": "SyntaxError",
     "evalue": "non-default argument follows default argument (3846019837.py, line 1)",
     "output_type": "error",
     "traceback": [
      "\u001b[0;36m  Cell \u001b[0;32mIn[73], line 1\u001b[0;36m\u001b[0m\n\u001b[0;31m    def value(a=5,b,c):\u001b[0m\n\u001b[0m                  ^\u001b[0m\n\u001b[0;31mSyntaxError\u001b[0m\u001b[0;31m:\u001b[0m non-default argument follows default argument\n"
     ]
    }
   ],
   "source": [
    "def value(a=5,b,c):\n",
    "    return a*b*c"
   ]
  },
  {
   "cell_type": "code",
   "execution_count": 74,
   "id": "6a808e29",
   "metadata": {},
   "outputs": [],
   "source": [
    "def value(b,c,a=5):\n",
    "    return a*b*c"
   ]
  },
  {
   "cell_type": "code",
   "execution_count": 75,
   "id": "687fe98f",
   "metadata": {},
   "outputs": [
    {
     "name": "stdout",
     "output_type": "stream",
     "text": [
      "500\n"
     ]
    }
   ],
   "source": [
    "res=value(10,10)\n",
    "print(res)"
   ]
  },
  {
   "cell_type": "code",
   "execution_count": 76,
   "id": "c78f5112",
   "metadata": {},
   "outputs": [],
   "source": [
    "def value(a=5,b=3,c=1):\n",
    "    return a*b*c"
   ]
  },
  {
   "cell_type": "code",
   "execution_count": 77,
   "id": "290bd8c6",
   "metadata": {},
   "outputs": [],
   "source": [
    "def fun(a,b,c=4):\n",
    "    return a*b*c"
   ]
  },
  {
   "cell_type": "code",
   "execution_count": 78,
   "id": "9d470054",
   "metadata": {},
   "outputs": [
    {
     "name": "stdout",
     "output_type": "stream",
     "text": [
      "120\n"
     ]
    }
   ],
   "source": [
    "res=fun(5,6)\n",
    "print(res)"
   ]
  },
  {
   "cell_type": "code",
   "execution_count": 79,
   "id": "c5777f12",
   "metadata": {},
   "outputs": [
    {
     "name": "stdout",
     "output_type": "stream",
     "text": [
      "Result 1: 6\n",
      "Result 2: 150\n",
      "Result 3: 360\n"
     ]
    }
   ],
   "source": [
    "def calculate_sum(*nums):\n",
    "    total = 0\n",
    "    for num in nums:\n",
    "        total += num\n",
    "    return total\n",
    "\n",
    "result1 = calculate_sum(1, 2, 3)\n",
    "result2 = calculate_sum(10, 20, 30, 40, 50)\n",
    "result3=calculate_sum(120,120,120)\n",
    "\n",
    "print(f\"Result 1: {result1}\")\n",
    "print(f\"Result 2: {result2}\")\n",
    "print(f\"Result 3: {result3}\")\n"
   ]
  },
  {
   "cell_type": "code",
   "execution_count": 80,
   "id": "e25796ee",
   "metadata": {},
   "outputs": [],
   "source": [
    "def factorial(n):\n",
    "    if n==0 or n==1:\n",
    "        return 1\n",
    "    else:\n",
    "        return n*factorial(n-1)"
   ]
  },
  {
   "cell_type": "code",
   "execution_count": 81,
   "id": "eeb9448e",
   "metadata": {},
   "outputs": [],
   "source": [
    "res=factorial(4)"
   ]
  },
  {
   "cell_type": "code",
   "execution_count": 82,
   "id": "e6789779",
   "metadata": {},
   "outputs": [
    {
     "name": "stdout",
     "output_type": "stream",
     "text": [
      "24\n"
     ]
    }
   ],
   "source": [
    "print(res)"
   ]
  },
  {
   "cell_type": "code",
   "execution_count": 83,
   "id": "fe01ab39",
   "metadata": {},
   "outputs": [],
   "source": [
    "oil_well = {\n",
    "    \"name\": \"Well A\",\n",
    "    \"initial_reserves\": 1000,  # Initial oil reserves in barrels\n",
    "    \"decline_rate\": 0.1,       # Annual decline rate\n",
    "}"
   ]
  },
  {
   "cell_type": "code",
   "execution_count": 95,
   "id": "507c37ce",
   "metadata": {},
   "outputs": [],
   "source": [
    "def calculate_remaining_reserves(year,well):\n",
    "        current_reserves=calculate_remaining_reserves(year - 1, well) - well[\"decline_rate\"]\n",
    "        return current_reserves"
   ]
  },
  {
   "cell_type": "code",
   "execution_count": 96,
   "id": "e8e24095",
   "metadata": {},
   "outputs": [
    {
     "ename": "RecursionError",
     "evalue": "maximum recursion depth exceeded",
     "output_type": "error",
     "traceback": [
      "\u001b[0;31m---------------------------------------------------------------------------\u001b[0m",
      "\u001b[0;31mRecursionError\u001b[0m                            Traceback (most recent call last)",
      "Cell \u001b[0;32mIn[96], line 1\u001b[0m\n\u001b[0;32m----> 1\u001b[0m res\u001b[38;5;241m=\u001b[39mcalculate_remaining_reserves(\u001b[38;5;241m1992\u001b[39m,\u001b[38;5;241m1002\u001b[39m)\n\u001b[1;32m      2\u001b[0m \u001b[38;5;28mprint\u001b[39m(res)\n",
      "Cell \u001b[0;32mIn[95], line 2\u001b[0m, in \u001b[0;36mcalculate_remaining_reserves\u001b[0;34m(year, well)\u001b[0m\n\u001b[1;32m      1\u001b[0m \u001b[38;5;28;01mdef\u001b[39;00m \u001b[38;5;21mcalculate_remaining_reserves\u001b[39m(year,well):\n\u001b[0;32m----> 2\u001b[0m         current_reserves\u001b[38;5;241m=\u001b[39mcalculate_remaining_reserves(year \u001b[38;5;241m-\u001b[39m \u001b[38;5;241m1\u001b[39m, well) \u001b[38;5;241m-\u001b[39m well[\u001b[38;5;124m\"\u001b[39m\u001b[38;5;124mdecline_rate\u001b[39m\u001b[38;5;124m\"\u001b[39m]\n\u001b[1;32m      3\u001b[0m         \u001b[38;5;28;01mreturn\u001b[39;00m current_reserves\n",
      "Cell \u001b[0;32mIn[95], line 2\u001b[0m, in \u001b[0;36mcalculate_remaining_reserves\u001b[0;34m(year, well)\u001b[0m\n\u001b[1;32m      1\u001b[0m \u001b[38;5;28;01mdef\u001b[39;00m \u001b[38;5;21mcalculate_remaining_reserves\u001b[39m(year,well):\n\u001b[0;32m----> 2\u001b[0m         current_reserves\u001b[38;5;241m=\u001b[39mcalculate_remaining_reserves(year \u001b[38;5;241m-\u001b[39m \u001b[38;5;241m1\u001b[39m, well) \u001b[38;5;241m-\u001b[39m well[\u001b[38;5;124m\"\u001b[39m\u001b[38;5;124mdecline_rate\u001b[39m\u001b[38;5;124m\"\u001b[39m]\n\u001b[1;32m      3\u001b[0m         \u001b[38;5;28;01mreturn\u001b[39;00m current_reserves\n",
      "    \u001b[0;31m[... skipping similar frames: calculate_remaining_reserves at line 2 (2971 times)]\u001b[0m\n",
      "Cell \u001b[0;32mIn[95], line 2\u001b[0m, in \u001b[0;36mcalculate_remaining_reserves\u001b[0;34m(year, well)\u001b[0m\n\u001b[1;32m      1\u001b[0m \u001b[38;5;28;01mdef\u001b[39;00m \u001b[38;5;21mcalculate_remaining_reserves\u001b[39m(year,well):\n\u001b[0;32m----> 2\u001b[0m         current_reserves\u001b[38;5;241m=\u001b[39mcalculate_remaining_reserves(year \u001b[38;5;241m-\u001b[39m \u001b[38;5;241m1\u001b[39m, well) \u001b[38;5;241m-\u001b[39m well[\u001b[38;5;124m\"\u001b[39m\u001b[38;5;124mdecline_rate\u001b[39m\u001b[38;5;124m\"\u001b[39m]\n\u001b[1;32m      3\u001b[0m         \u001b[38;5;28;01mreturn\u001b[39;00m current_reserves\n",
      "\u001b[0;31mRecursionError\u001b[0m: maximum recursion depth exceeded"
     ]
    }
   ],
   "source": [
    "res=calculate_remaining_reserves(1992,1002)\n",
    "print(res)"
   ]
  },
  {
   "cell_type": "code",
   "execution_count": 97,
   "id": "d3168d99",
   "metadata": {},
   "outputs": [
    {
     "name": "stdout",
     "output_type": "stream",
     "text": [
      "Year 0: Remaining Reserves = 1000.00 barrels\n",
      "Year 1: Remaining Reserves = 900.00 barrels\n",
      "Year 2: Remaining Reserves = 810.00 barrels\n",
      "Year 3: Remaining Reserves = 729.00 barrels\n",
      "Year 4: Remaining Reserves = 656.10 barrels\n",
      "Year 5: Remaining Reserves = 590.49 barrels\n",
      "Year 6: Remaining Reserves = 531.44 barrels\n",
      "Year 7: Remaining Reserves = 478.30 barrels\n",
      "Year 8: Remaining Reserves = 430.47 barrels\n",
      "Year 9: Remaining Reserves = 387.42 barrels\n",
      "Year 10: Remaining Reserves = 348.68 barrels\n"
     ]
    }
   ],
   "source": [
    "def calculate_remaining_reserves(year, well):\n",
    "    if year == 0:\n",
    "        return well[\"initial_reserves\"]\n",
    "    else:\n",
    "        previous_reserves = calculate_remaining_reserves(year - 1, well)\n",
    "        current_reserves = previous_reserves - (well[\"decline_rate\"] * previous_reserves)\n",
    "        return current_reserves\n",
    "\n",
    "\n",
    "well = {\n",
    "    \"name\": \"Well A\",\n",
    "    \"initial_reserves\": 1000,  \n",
    "    \"decline_rate\": 0.1,       \n",
    "}\n",
    "\n",
    "\n",
    "for year in range(11):  \n",
    "    remaining_reserves = calculate_remaining_reserves(year, well)\n",
    "    print(f\"Year {year}: Remaining Reserves = {remaining_reserves:.2f} barrels\")\n"
   ]
  },
  {
   "cell_type": "code",
   "execution_count": 98,
   "id": "8d2b9e48",
   "metadata": {},
   "outputs": [],
   "source": [
    "def wish(name):     #decor function\n",
    "    print(\"Hello\",name,\"Good Morning\")"
   ]
  },
  {
   "cell_type": "code",
   "execution_count": 100,
   "id": "616daf06",
   "metadata": {},
   "outputs": [
    {
     "name": "stdout",
     "output_type": "stream",
     "text": [
      "Hello HArshitga Good Morning\n"
     ]
    }
   ],
   "source": [
    "wish('HArshitga')"
   ]
  },
  {
   "cell_type": "code",
   "execution_count": 101,
   "id": "3ac866d4",
   "metadata": {},
   "outputs": [
    {
     "name": "stdout",
     "output_type": "stream",
     "text": [
      "Hello Harshitha Good Morning\n"
     ]
    }
   ],
   "source": [
    "wish('Harshitha')"
   ]
  },
  {
   "cell_type": "code",
   "execution_count": 102,
   "id": "2c4f8b2d",
   "metadata": {},
   "outputs": [
    {
     "name": "stdout",
     "output_type": "stream",
     "text": [
      "Hello Indushree Good Morning\n"
     ]
    }
   ],
   "source": [
    "wish('Indushree')"
   ]
  },
  {
   "cell_type": "code",
   "execution_count": 107,
   "id": "65cd8ee4",
   "metadata": {},
   "outputs": [],
   "source": [
    "def decor(func):\n",
    "    def inner(name):\n",
    "        if name==\"Sunny\":\n",
    "            print(\"Hello sunny happy morning\")\n",
    "        else:\n",
    "            func(name)\n",
    "            return inner"
   ]
  },
  {
   "cell_type": "code",
   "execution_count": 114,
   "id": "e4f5733a",
   "metadata": {},
   "outputs": [],
   "source": [
    "  @decor\n",
    "def wish(name):\n",
    "    print(\"Hello\",name,\"Good Morning\")\n",
    "\n",
    "\n"
   ]
  },
  {
   "cell_type": "code",
   "execution_count": 117,
   "id": "ea6cbac8",
   "metadata": {},
   "outputs": [
    {
     "ename": "TypeError",
     "evalue": "'NoneType' object is not callable",
     "output_type": "error",
     "traceback": [
      "\u001b[0;31m---------------------------------------------------------------------------\u001b[0m",
      "\u001b[0;31mTypeError\u001b[0m                                 Traceback (most recent call last)",
      "Cell \u001b[0;32mIn[117], line 1\u001b[0m\n\u001b[0;32m----> 1\u001b[0m wish(\u001b[38;5;124m'\u001b[39m\u001b[38;5;124mArjun\u001b[39m\u001b[38;5;124m'\u001b[39m)\n",
      "\u001b[0;31mTypeError\u001b[0m: 'NoneType' object is not callable"
     ]
    }
   ],
   "source": [
    "wish('Arjun')"
   ]
  },
  {
   "cell_type": "code",
   "execution_count": 5,
   "id": "8cbc32c5",
   "metadata": {},
   "outputs": [
    {
     "name": "stdout",
     "output_type": "stream",
     "text": [
      "Start Countdown\n",
      "5\n",
      "4\n",
      "3\n",
      "2\n",
      "1\n"
     ]
    }
   ],
   "source": [
    "def countdown(num):\n",
    "    print(\"Start Countdown\")\n",
    "    while(num>0):\n",
    "        yield num\n",
    "        num=num-1\n",
    "values=countdown(5)\n",
    "for x in values:\n",
    "    print(x,end=\"\\n\")"
   ]
  },
  {
   "cell_type": "code",
   "execution_count": 6,
   "id": "a37957cf",
   "metadata": {},
   "outputs": [],
   "source": [
    "routes_data = [\n",
    "    {\"route_id\": 1, \"route_name\": \"Route A\", \"capacity\": 100, \"cost_per_km\": 2.5},\n",
    "    {\"route_id\": 2, \"route_name\": \"Route B\", \"capacity\": 150, \"cost_per_km\": 3.0},\n",
    "    {\"route_id\": 3, \"route_name\": \"Route C\", \"capacity\": 200, \"cost_per_km\": 2.0},\n",
    "]"
   ]
  },
  {
   "cell_type": "code",
   "execution_count": 7,
   "id": "b5c43fc1",
   "metadata": {},
   "outputs": [],
   "source": [
    "shipments_data = [\n",
    "    {\"shipment_id\": 101, \"product_type\": \"Crude Oil\", \"quantity\": 50, \"distance_km\": 200},\n",
    "    {\"shipment_id\": 102, \"product_type\": \"Natural Gas\", \"quantity\": 1000, \"distance_km\": 300},\n",
    "    {\"shipment_id\": 103, \"product_type\": \"Crude Oil\", \"quantity\": 80, \"distance_km\": 150},\n",
    "    {\"shipment_id\": 104, \"product_type\": \"Liquefied Natural Gas (LNG)\", \"quantity\": 500, \"distance_km\": 250},\n",
    "]"
   ]
  },
  {
   "cell_type": "code",
   "execution_count": 8,
   "id": "51630dfd",
   "metadata": {},
   "outputs": [],
   "source": [
    "centers_data = [\n",
    "    {\"center_id\": 1, \"center_name\": \"Center X\", \"location\": \"City A\"},\n",
    "    {\"center_id\": 2, \"center_name\": \"Center Y\", \"location\": \"City B\"},\n",
    "    {\"center_id\": 3, \"center_name\": \"Center Z\", \"location\": \"City C\"},\n",
    "]"
   ]
  },
  {
   "cell_type": "code",
   "execution_count": 9,
   "id": "7d995671",
   "metadata": {},
   "outputs": [],
   "source": [
    "routes = [\n",
    "    {\"route_id\": 1, \"route_name\": \"Route A\", \"capacity\": 100, \"cost_per_km\": 2.5},\n",
    "    {\"route_id\": 2, \"route_name\": \"Route B\", \"capacity\": 150, \"cost_per_km\": 3.0},\n",
    "    {\"route_id\": 3, \"route_name\": \"Route C\", \"capacity\": 200, \"cost_per_km\": 2.0},\n",
    "]\n",
    "\n",
    "# Sample data for product shipments\n",
    "shipments = [\n",
    "    {\"shipment_id\": 101, \"product_type\": \"Crude Oil\", \"quantity\": 50, \"distance_km\": 200},\n",
    "    {\"shipment_id\": 102, \"product_type\": \"Natural Gas\", \"quantity\": 1000, \"distance_km\": 300},\n",
    "    {\"shipment_id\": 103, \"product_type\": \"Crude Oil\", \"quantity\": 80, \"distance_km\": 150},\n",
    "    {\"shipment_id\": 104, \"product_type\": \"Liquefied Natural Gas (LNG)\", \"quantity\": 500, \"distance_km\": 250},\n",
    "]\n",
    "\n",
    "# Sample data for distribution centers\n",
    "distribution_centers = [\n",
    "    {\"center_id\": 1, \"center_name\": \"Center X\", \"location\": \"City A\"},\n",
    "    {\"center_id\": 2, \"center_name\": \"Center Y\", \"location\": \"City B\"},\n",
    "    {\"center_id\": 3, \"center_name\": \"Center Z\", \"location\": \"City C\"},\n",
    "]\n",
    "\n",
    "# Sample data for available routes and their capacities\n",
    "available_routes = [\n",
    "    {\"route_id\": 1, \"capacity_available\": 80},\n",
    "    {\"route_id\": 2, \"capacity_available\": 120},\n",
    "    {\"route_id\": 3, \"capacity_available\": 180},\n",
    "]\n",
    "\n",
    "# Sample data for logging shipment activities\n",
    "shipment_logs = []\n",
    "\n",
    "# Sample data for product scheduling (for recursive function)\n",
    "product_quantities = {\n",
    "    \"Crude Oil\": 200,\n",
    "    \"Natural Gas\": 800,\n",
    "    \"Liquefied Natural Gas (LNG)\": 300,\n",
    "}\n",
    "\n"
   ]
  },
  {
   "cell_type": "code",
   "execution_count": 10,
   "id": "9c22cdb2",
   "metadata": {},
   "outputs": [],
   "source": [
    "class Route:\n",
    "    def __init__(self, route_id, route_name, capacity, cost_per_km):\n",
    "        self.route_id = route_id\n",
    "        self.route_name = route_name\n",
    "        self.capacity = capacity\n",
    "        self.cost_per_km = cost_per_km\n",
    "        self.capacity_available = capacity\n",
    "\n",
    "class Shipment:\n",
    "    def __init__(self, shipment_id, product_type, quantity, distance_km):\n",
    "        self.shipment_id = shipment_id\n",
    "        self.product_type = product_type\n",
    "        self.quantity = quantity\n",
    "        self.distance_km = distance_km\n",
    "        self.cost = 0  # Placeholder for calculated cost\n",
    "\n",
    "class DistributionCenter:\n",
    "    def __init__(self, center_id, center_name, location):\n",
    "        self.center_id = center_id\n",
    "        self.center_name = center_name\n",
    "        self.location = location\n",
    "\n",
    "class LogisticsManager:\n",
    "    def __init__(self, routes, shipments, distribution_centers):\n",
    "        self.routes = [Route(**r) for r in routes]\n",
    "        self.shipments = [Shipment(**s) for s in shipments]\n",
    "        self.distribution_centers = [DistributionCenter(**dc) for dc in distribution_centers]\n",
    "\n",
    "    def calculate_transport_cost(self, route, shipment):\n",
    "        cost = route.cost_per_km * shipment.distance_km\n",
    "        return cost\n",
    "\n",
    "    def check_route_availability(self, route, shipment):\n",
    "        if route.capacity_available >= shipment.quantity:\n",
    "            return True\n",
    "        else:\n",
    "            return False\n",
    "\n",
    "    def optimize_shipments(self):\n",
    "        for shipment in self.shipments:\n",
    "            for route in self.routes:\n",
    "                if self.check_route_availability(route, shipment):\n",
    "                    cost = self.calculate_transport_cost(route, shipment)\n",
    "                    if not shipment.cost or cost < shipment.cost:\n",
    "                        shipment.cost = cost\n",
    "                        shipment.selected_route = route\n",
    "\n",
    "    def display_shipment_schedule(self):\n",
    "        for shipment in self.shipments:\n",
    "            print(f\"Shipment ID {shipment.shipment_id}:\")\n",
    "            print(f\"  Product Type: {shipment.product_type}\")\n",
    "            print(f\"  Quantity: {shipment.quantity}\")\n",
    "            print(f\"  Distance (km): {shipment.distance_km}\")\n",
    "            print(f\"  Selected Route: {shipment.selected_route.route_name}\")\n",
    "            print(f\"  Transportation Cost: {shipment.cost:.2f}\")\n",
    "            print(\"=\" * 40)\n"
   ]
  },
  {
   "cell_type": "code",
   "execution_count": 11,
   "id": "40b53b37",
   "metadata": {},
   "outputs": [
    {
     "name": "stdout",
     "output_type": "stream",
     "text": [
      "Shipment ID 101:\n",
      "  Product Type: Crude Oil\n",
      "  Quantity: 50\n",
      "  Distance (km): 200\n",
      "  Selected Route: Route C\n",
      "  Transportation Cost: 400.00\n",
      "========================================\n",
      "Shipment ID 102:\n",
      "  Product Type: Natural Gas\n",
      "  Quantity: 1000\n",
      "  Distance (km): 300\n"
     ]
    },
    {
     "ename": "AttributeError",
     "evalue": "'Shipment' object has no attribute 'selected_route'",
     "output_type": "error",
     "traceback": [
      "\u001b[0;31m---------------------------------------------------------------------------\u001b[0m",
      "\u001b[0;31mAttributeError\u001b[0m                            Traceback (most recent call last)",
      "Cell \u001b[0;32mIn[11], line 3\u001b[0m\n\u001b[1;32m      1\u001b[0m logistics \u001b[38;5;241m=\u001b[39m LogisticsManager(routes_data, shipments_data, centers_data)\n\u001b[1;32m      2\u001b[0m logistics\u001b[38;5;241m.\u001b[39moptimize_shipments()\n\u001b[0;32m----> 3\u001b[0m logistics\u001b[38;5;241m.\u001b[39mdisplay_shipment_schedule()\n",
      "Cell \u001b[0;32mIn[10], line 54\u001b[0m, in \u001b[0;36mLogisticsManager.display_shipment_schedule\u001b[0;34m(self)\u001b[0m\n\u001b[1;32m     52\u001b[0m \u001b[38;5;28mprint\u001b[39m(\u001b[38;5;124mf\u001b[39m\u001b[38;5;124m\"\u001b[39m\u001b[38;5;124m  Quantity: \u001b[39m\u001b[38;5;132;01m{\u001b[39;00mshipment\u001b[38;5;241m.\u001b[39mquantity\u001b[38;5;132;01m}\u001b[39;00m\u001b[38;5;124m\"\u001b[39m)\n\u001b[1;32m     53\u001b[0m \u001b[38;5;28mprint\u001b[39m(\u001b[38;5;124mf\u001b[39m\u001b[38;5;124m\"\u001b[39m\u001b[38;5;124m  Distance (km): \u001b[39m\u001b[38;5;132;01m{\u001b[39;00mshipment\u001b[38;5;241m.\u001b[39mdistance_km\u001b[38;5;132;01m}\u001b[39;00m\u001b[38;5;124m\"\u001b[39m)\n\u001b[0;32m---> 54\u001b[0m \u001b[38;5;28mprint\u001b[39m(\u001b[38;5;124mf\u001b[39m\u001b[38;5;124m\"\u001b[39m\u001b[38;5;124m  Selected Route: \u001b[39m\u001b[38;5;132;01m{\u001b[39;00mshipment\u001b[38;5;241m.\u001b[39mselected_route\u001b[38;5;241m.\u001b[39mroute_name\u001b[38;5;132;01m}\u001b[39;00m\u001b[38;5;124m\"\u001b[39m)\n\u001b[1;32m     55\u001b[0m \u001b[38;5;28mprint\u001b[39m(\u001b[38;5;124mf\u001b[39m\u001b[38;5;124m\"\u001b[39m\u001b[38;5;124m  Transportation Cost: \u001b[39m\u001b[38;5;132;01m{\u001b[39;00mshipment\u001b[38;5;241m.\u001b[39mcost\u001b[38;5;132;01m:\u001b[39;00m\u001b[38;5;124m.2f\u001b[39m\u001b[38;5;132;01m}\u001b[39;00m\u001b[38;5;124m\"\u001b[39m)\n\u001b[1;32m     56\u001b[0m \u001b[38;5;28mprint\u001b[39m(\u001b[38;5;124m\"\u001b[39m\u001b[38;5;124m=\u001b[39m\u001b[38;5;124m\"\u001b[39m \u001b[38;5;241m*\u001b[39m \u001b[38;5;241m40\u001b[39m)\n",
      "\u001b[0;31mAttributeError\u001b[0m: 'Shipment' object has no attribute 'selected_route'"
     ]
    }
   ],
   "source": [
    "logistics = LogisticsManager(routes_data, shipments_data, centers_data)\n",
    "logistics.optimize_shipments()\n",
    "logistics.display_shipment_schedule()\n"
   ]
  },
  {
   "cell_type": "code",
   "execution_count": 15,
   "id": "1bae18c9",
   "metadata": {},
   "outputs": [
    {
     "name": "stdout",
     "output_type": "stream",
     "text": [
      "Word count: 10\n"
     ]
    }
   ],
   "source": [
    "def word_count(text):\n",
    "    # Split the text into words using whitespace as the delimiter\n",
    "    words = text.split()\n",
    "    # Count the number of words\n",
    "    return len(words)\n",
    "\n",
    "# Example usage:\n",
    "text = \"This is a sample sentence for word counting in Python.\"\n",
    "count = word_count(text)\n",
    "print(\"Word count:\", count)\n"
   ]
  },
  {
   "cell_type": "code",
   "execution_count": 16,
   "id": "6fb4ba99",
   "metadata": {},
   "outputs": [
    {
     "name": "stdout",
     "output_type": "stream",
     "text": [
      "6\n"
     ]
    }
   ],
   "source": [
    "def word_count(text):\n",
    "    words=text.split()\n",
    "    return len(words)\n",
    "text=\"Harshitha is a associate data engineer\"\n",
    "res=word_count(text)\n",
    "print(res)"
   ]
  },
  {
   "cell_type": "code",
   "execution_count": 2,
   "id": "1de29bdb",
   "metadata": {},
   "outputs": [],
   "source": [
    "import pandas as pd"
   ]
  },
  {
   "cell_type": "code",
   "execution_count": 5,
   "id": "68c74eeb",
   "metadata": {},
   "outputs": [],
   "source": [
    "data = {\n",
    "    'apples': [3, 2, 0, 1], \n",
    "    'oranges': [0, 3, 7, 2]\n",
    "}\n",
    "\n",
    "purchases1 = pd.DataFrame(data)"
   ]
  },
  {
   "cell_type": "code",
   "execution_count": 6,
   "id": "12124745",
   "metadata": {},
   "outputs": [],
   "source": [
    "purchases2 = pd.DataFrame(data, index=['June', 'Robert', 'Lily', 'David'])"
   ]
  },
  {
   "cell_type": "code",
   "execution_count": 7,
   "id": "49c5f460",
   "metadata": {},
   "outputs": [
    {
     "data": {
      "text/html": [
       "<div>\n",
       "<style scoped>\n",
       "    .dataframe tbody tr th:only-of-type {\n",
       "        vertical-align: middle;\n",
       "    }\n",
       "\n",
       "    .dataframe tbody tr th {\n",
       "        vertical-align: top;\n",
       "    }\n",
       "\n",
       "    .dataframe thead th {\n",
       "        text-align: right;\n",
       "    }\n",
       "</style>\n",
       "<table border=\"1\" class=\"dataframe\">\n",
       "  <thead>\n",
       "    <tr style=\"text-align: right;\">\n",
       "      <th></th>\n",
       "      <th>apples</th>\n",
       "      <th>oranges</th>\n",
       "    </tr>\n",
       "  </thead>\n",
       "  <tbody>\n",
       "    <tr>\n",
       "      <th>0</th>\n",
       "      <td>3</td>\n",
       "      <td>0</td>\n",
       "    </tr>\n",
       "    <tr>\n",
       "      <th>1</th>\n",
       "      <td>2</td>\n",
       "      <td>3</td>\n",
       "    </tr>\n",
       "    <tr>\n",
       "      <th>2</th>\n",
       "      <td>0</td>\n",
       "      <td>7</td>\n",
       "    </tr>\n",
       "    <tr>\n",
       "      <th>3</th>\n",
       "      <td>1</td>\n",
       "      <td>2</td>\n",
       "    </tr>\n",
       "  </tbody>\n",
       "</table>\n",
       "</div>"
      ],
      "text/plain": [
       "   apples  oranges\n",
       "0       3        0\n",
       "1       2        3\n",
       "2       0        7\n",
       "3       1        2"
      ]
     },
     "execution_count": 7,
     "metadata": {},
     "output_type": "execute_result"
    }
   ],
   "source": [
    "purchases1"
   ]
  },
  {
   "cell_type": "code",
   "execution_count": 8,
   "id": "5d7f92ae",
   "metadata": {},
   "outputs": [
    {
     "data": {
      "text/html": [
       "<div>\n",
       "<style scoped>\n",
       "    .dataframe tbody tr th:only-of-type {\n",
       "        vertical-align: middle;\n",
       "    }\n",
       "\n",
       "    .dataframe tbody tr th {\n",
       "        vertical-align: top;\n",
       "    }\n",
       "\n",
       "    .dataframe thead th {\n",
       "        text-align: right;\n",
       "    }\n",
       "</style>\n",
       "<table border=\"1\" class=\"dataframe\">\n",
       "  <thead>\n",
       "    <tr style=\"text-align: right;\">\n",
       "      <th></th>\n",
       "      <th>apples</th>\n",
       "      <th>oranges</th>\n",
       "    </tr>\n",
       "  </thead>\n",
       "  <tbody>\n",
       "    <tr>\n",
       "      <th>June</th>\n",
       "      <td>3</td>\n",
       "      <td>0</td>\n",
       "    </tr>\n",
       "    <tr>\n",
       "      <th>Robert</th>\n",
       "      <td>2</td>\n",
       "      <td>3</td>\n",
       "    </tr>\n",
       "    <tr>\n",
       "      <th>Lily</th>\n",
       "      <td>0</td>\n",
       "      <td>7</td>\n",
       "    </tr>\n",
       "    <tr>\n",
       "      <th>David</th>\n",
       "      <td>1</td>\n",
       "      <td>2</td>\n",
       "    </tr>\n",
       "  </tbody>\n",
       "</table>\n",
       "</div>"
      ],
      "text/plain": [
       "        apples  oranges\n",
       "June         3        0\n",
       "Robert       2        3\n",
       "Lily         0        7\n",
       "David        1        2"
      ]
     },
     "execution_count": 8,
     "metadata": {},
     "output_type": "execute_result"
    }
   ],
   "source": [
    "purchases2"
   ]
  },
  {
   "cell_type": "code",
   "execution_count": 9,
   "id": "bfe9dea5",
   "metadata": {},
   "outputs": [
    {
     "data": {
      "text/plain": [
       "apples     3\n",
       "oranges    0\n",
       "Name: June, dtype: int64"
      ]
     },
     "execution_count": 9,
     "metadata": {},
     "output_type": "execute_result"
    }
   ],
   "source": [
    "purchases.loc['June']"
   ]
  },
  {
   "cell_type": "code",
   "execution_count": 12,
   "id": "533ae5f7",
   "metadata": {},
   "outputs": [],
   "source": [
    "movie_data=pd.read_csv(\"/home/labuser/Downloads/Moviedata.csv\")"
   ]
  },
  {
   "cell_type": "code",
   "execution_count": 13,
   "id": "419d5d6a",
   "metadata": {},
   "outputs": [
    {
     "data": {
      "text/html": [
       "<div>\n",
       "<style scoped>\n",
       "    .dataframe tbody tr th:only-of-type {\n",
       "        vertical-align: middle;\n",
       "    }\n",
       "\n",
       "    .dataframe tbody tr th {\n",
       "        vertical-align: top;\n",
       "    }\n",
       "\n",
       "    .dataframe thead th {\n",
       "        text-align: right;\n",
       "    }\n",
       "</style>\n",
       "<table border=\"1\" class=\"dataframe\">\n",
       "  <thead>\n",
       "    <tr style=\"text-align: right;\">\n",
       "      <th></th>\n",
       "      <th>Rank</th>\n",
       "      <th>Title</th>\n",
       "      <th>Genre</th>\n",
       "      <th>Description</th>\n",
       "      <th>Director</th>\n",
       "      <th>Actors</th>\n",
       "      <th>Year</th>\n",
       "      <th>Runtime (Minutes)</th>\n",
       "      <th>Rating</th>\n",
       "      <th>Votes</th>\n",
       "      <th>Revenue (Millions)</th>\n",
       "      <th>Metascore</th>\n",
       "    </tr>\n",
       "  </thead>\n",
       "  <tbody>\n",
       "    <tr>\n",
       "      <th>0</th>\n",
       "      <td>1</td>\n",
       "      <td>Guardians of the Galaxy</td>\n",
       "      <td>Action,Adventure,Sci-Fi</td>\n",
       "      <td>A group of intergalactic criminals are forced ...</td>\n",
       "      <td>James Gunn</td>\n",
       "      <td>Chris Pratt, Vin Diesel, Bradley Cooper, Zoe S...</td>\n",
       "      <td>2014</td>\n",
       "      <td>121</td>\n",
       "      <td>8.1</td>\n",
       "      <td>757074</td>\n",
       "      <td>333.13</td>\n",
       "      <td>76.0</td>\n",
       "    </tr>\n",
       "    <tr>\n",
       "      <th>1</th>\n",
       "      <td>2</td>\n",
       "      <td>Prometheus</td>\n",
       "      <td>Adventure,Mystery,Sci-Fi</td>\n",
       "      <td>Following clues to the origin of mankind, a te...</td>\n",
       "      <td>Ridley Scott</td>\n",
       "      <td>Noomi Rapace, Logan Marshall-Green, Michael Fa...</td>\n",
       "      <td>2012</td>\n",
       "      <td>124</td>\n",
       "      <td>7.0</td>\n",
       "      <td>485820</td>\n",
       "      <td>126.46</td>\n",
       "      <td>65.0</td>\n",
       "    </tr>\n",
       "    <tr>\n",
       "      <th>2</th>\n",
       "      <td>3</td>\n",
       "      <td>Split</td>\n",
       "      <td>Horror,Thriller</td>\n",
       "      <td>Three girls are kidnapped by a man with a diag...</td>\n",
       "      <td>M. Night Shyamalan</td>\n",
       "      <td>James McAvoy, Anya Taylor-Joy, Haley Lu Richar...</td>\n",
       "      <td>2016</td>\n",
       "      <td>117</td>\n",
       "      <td>7.3</td>\n",
       "      <td>157606</td>\n",
       "      <td>138.12</td>\n",
       "      <td>62.0</td>\n",
       "    </tr>\n",
       "    <tr>\n",
       "      <th>3</th>\n",
       "      <td>4</td>\n",
       "      <td>Sing</td>\n",
       "      <td>Animation,Comedy,Family</td>\n",
       "      <td>In a city of humanoid animals, a hustling thea...</td>\n",
       "      <td>Christophe Lourdelet</td>\n",
       "      <td>Matthew McConaughey,Reese Witherspoon, Seth Ma...</td>\n",
       "      <td>2016</td>\n",
       "      <td>108</td>\n",
       "      <td>7.2</td>\n",
       "      <td>60545</td>\n",
       "      <td>270.32</td>\n",
       "      <td>59.0</td>\n",
       "    </tr>\n",
       "    <tr>\n",
       "      <th>4</th>\n",
       "      <td>5</td>\n",
       "      <td>Suicide Squad</td>\n",
       "      <td>Action,Adventure,Fantasy</td>\n",
       "      <td>A secret government agency recruits some of th...</td>\n",
       "      <td>David Ayer</td>\n",
       "      <td>Will Smith, Jared Leto, Margot Robbie, Viola D...</td>\n",
       "      <td>2016</td>\n",
       "      <td>123</td>\n",
       "      <td>6.2</td>\n",
       "      <td>393727</td>\n",
       "      <td>325.02</td>\n",
       "      <td>40.0</td>\n",
       "    </tr>\n",
       "    <tr>\n",
       "      <th>...</th>\n",
       "      <td>...</td>\n",
       "      <td>...</td>\n",
       "      <td>...</td>\n",
       "      <td>...</td>\n",
       "      <td>...</td>\n",
       "      <td>...</td>\n",
       "      <td>...</td>\n",
       "      <td>...</td>\n",
       "      <td>...</td>\n",
       "      <td>...</td>\n",
       "      <td>...</td>\n",
       "      <td>...</td>\n",
       "    </tr>\n",
       "    <tr>\n",
       "      <th>995</th>\n",
       "      <td>996</td>\n",
       "      <td>Secret in Their Eyes</td>\n",
       "      <td>Crime,Drama,Mystery</td>\n",
       "      <td>A tight-knit team of rising investigators, alo...</td>\n",
       "      <td>Billy Ray</td>\n",
       "      <td>Chiwetel Ejiofor, Nicole Kidman, Julia Roberts...</td>\n",
       "      <td>2015</td>\n",
       "      <td>111</td>\n",
       "      <td>6.2</td>\n",
       "      <td>27585</td>\n",
       "      <td>NaN</td>\n",
       "      <td>45.0</td>\n",
       "    </tr>\n",
       "    <tr>\n",
       "      <th>996</th>\n",
       "      <td>997</td>\n",
       "      <td>Hostel: Part II</td>\n",
       "      <td>Horror</td>\n",
       "      <td>Three American college students studying abroa...</td>\n",
       "      <td>Eli Roth</td>\n",
       "      <td>Lauren German, Heather Matarazzo, Bijou Philli...</td>\n",
       "      <td>2007</td>\n",
       "      <td>94</td>\n",
       "      <td>5.5</td>\n",
       "      <td>73152</td>\n",
       "      <td>17.54</td>\n",
       "      <td>46.0</td>\n",
       "    </tr>\n",
       "    <tr>\n",
       "      <th>997</th>\n",
       "      <td>998</td>\n",
       "      <td>Step Up 2: The Streets</td>\n",
       "      <td>Drama,Music,Romance</td>\n",
       "      <td>Romantic sparks occur between two dance studen...</td>\n",
       "      <td>Jon M. Chu</td>\n",
       "      <td>Robert Hoffman, Briana Evigan, Cassie Ventura,...</td>\n",
       "      <td>2008</td>\n",
       "      <td>98</td>\n",
       "      <td>6.2</td>\n",
       "      <td>70699</td>\n",
       "      <td>58.01</td>\n",
       "      <td>50.0</td>\n",
       "    </tr>\n",
       "    <tr>\n",
       "      <th>998</th>\n",
       "      <td>999</td>\n",
       "      <td>Search Party</td>\n",
       "      <td>Adventure,Comedy</td>\n",
       "      <td>A pair of friends embark on a mission to reuni...</td>\n",
       "      <td>Scot Armstrong</td>\n",
       "      <td>Adam Pally, T.J. Miller, Thomas Middleditch,Sh...</td>\n",
       "      <td>2014</td>\n",
       "      <td>93</td>\n",
       "      <td>5.6</td>\n",
       "      <td>4881</td>\n",
       "      <td>NaN</td>\n",
       "      <td>22.0</td>\n",
       "    </tr>\n",
       "    <tr>\n",
       "      <th>999</th>\n",
       "      <td>1000</td>\n",
       "      <td>Nine Lives</td>\n",
       "      <td>Comedy,Family,Fantasy</td>\n",
       "      <td>A stuffy businessman finds himself trapped ins...</td>\n",
       "      <td>Barry Sonnenfeld</td>\n",
       "      <td>Kevin Spacey, Jennifer Garner, Robbie Amell,Ch...</td>\n",
       "      <td>2016</td>\n",
       "      <td>87</td>\n",
       "      <td>5.3</td>\n",
       "      <td>12435</td>\n",
       "      <td>19.64</td>\n",
       "      <td>11.0</td>\n",
       "    </tr>\n",
       "  </tbody>\n",
       "</table>\n",
       "<p>1000 rows × 12 columns</p>\n",
       "</div>"
      ],
      "text/plain": [
       "     Rank                    Title                     Genre  \\\n",
       "0       1  Guardians of the Galaxy   Action,Adventure,Sci-Fi   \n",
       "1       2               Prometheus  Adventure,Mystery,Sci-Fi   \n",
       "2       3                    Split           Horror,Thriller   \n",
       "3       4                     Sing   Animation,Comedy,Family   \n",
       "4       5            Suicide Squad  Action,Adventure,Fantasy   \n",
       "..    ...                      ...                       ...   \n",
       "995   996     Secret in Their Eyes       Crime,Drama,Mystery   \n",
       "996   997          Hostel: Part II                    Horror   \n",
       "997   998   Step Up 2: The Streets       Drama,Music,Romance   \n",
       "998   999             Search Party          Adventure,Comedy   \n",
       "999  1000               Nine Lives     Comedy,Family,Fantasy   \n",
       "\n",
       "                                           Description              Director  \\\n",
       "0    A group of intergalactic criminals are forced ...            James Gunn   \n",
       "1    Following clues to the origin of mankind, a te...          Ridley Scott   \n",
       "2    Three girls are kidnapped by a man with a diag...    M. Night Shyamalan   \n",
       "3    In a city of humanoid animals, a hustling thea...  Christophe Lourdelet   \n",
       "4    A secret government agency recruits some of th...            David Ayer   \n",
       "..                                                 ...                   ...   \n",
       "995  A tight-knit team of rising investigators, alo...             Billy Ray   \n",
       "996  Three American college students studying abroa...              Eli Roth   \n",
       "997  Romantic sparks occur between two dance studen...            Jon M. Chu   \n",
       "998  A pair of friends embark on a mission to reuni...        Scot Armstrong   \n",
       "999  A stuffy businessman finds himself trapped ins...      Barry Sonnenfeld   \n",
       "\n",
       "                                                Actors  Year  \\\n",
       "0    Chris Pratt, Vin Diesel, Bradley Cooper, Zoe S...  2014   \n",
       "1    Noomi Rapace, Logan Marshall-Green, Michael Fa...  2012   \n",
       "2    James McAvoy, Anya Taylor-Joy, Haley Lu Richar...  2016   \n",
       "3    Matthew McConaughey,Reese Witherspoon, Seth Ma...  2016   \n",
       "4    Will Smith, Jared Leto, Margot Robbie, Viola D...  2016   \n",
       "..                                                 ...   ...   \n",
       "995  Chiwetel Ejiofor, Nicole Kidman, Julia Roberts...  2015   \n",
       "996  Lauren German, Heather Matarazzo, Bijou Philli...  2007   \n",
       "997  Robert Hoffman, Briana Evigan, Cassie Ventura,...  2008   \n",
       "998  Adam Pally, T.J. Miller, Thomas Middleditch,Sh...  2014   \n",
       "999  Kevin Spacey, Jennifer Garner, Robbie Amell,Ch...  2016   \n",
       "\n",
       "     Runtime (Minutes)  Rating   Votes  Revenue (Millions)  Metascore  \n",
       "0                  121     8.1  757074              333.13       76.0  \n",
       "1                  124     7.0  485820              126.46       65.0  \n",
       "2                  117     7.3  157606              138.12       62.0  \n",
       "3                  108     7.2   60545              270.32       59.0  \n",
       "4                  123     6.2  393727              325.02       40.0  \n",
       "..                 ...     ...     ...                 ...        ...  \n",
       "995                111     6.2   27585                 NaN       45.0  \n",
       "996                 94     5.5   73152               17.54       46.0  \n",
       "997                 98     6.2   70699               58.01       50.0  \n",
       "998                 93     5.6    4881                 NaN       22.0  \n",
       "999                 87     5.3   12435               19.64       11.0  \n",
       "\n",
       "[1000 rows x 12 columns]"
      ]
     },
     "execution_count": 13,
     "metadata": {},
     "output_type": "execute_result"
    }
   ],
   "source": [
    "movie_data"
   ]
  },
  {
   "cell_type": "code",
   "execution_count": null,
   "id": "c17685e7",
   "metadata": {},
   "outputs": [],
   "source": []
  },
  {
   "cell_type": "code",
   "execution_count": null,
   "id": "99127052",
   "metadata": {},
   "outputs": [],
   "source": []
  },
  {
   "cell_type": "code",
   "execution_count": null,
   "id": "7455b71f",
   "metadata": {},
   "outputs": [],
   "source": []
  },
  {
   "cell_type": "code",
   "execution_count": null,
   "id": "19bd87b4",
   "metadata": {},
   "outputs": [],
   "source": []
  },
  {
   "cell_type": "code",
   "execution_count": null,
   "id": "c5eea5cd",
   "metadata": {},
   "outputs": [],
   "source": []
  },
  {
   "cell_type": "code",
   "execution_count": null,
   "id": "92bf48de",
   "metadata": {},
   "outputs": [],
   "source": []
  }
 ],
 "metadata": {
  "kernelspec": {
   "display_name": "Python 3 (ipykernel)",
   "language": "python",
   "name": "python3"
  },
  "language_info": {
   "codemirror_mode": {
    "name": "ipython",
    "version": 3
   },
   "file_extension": ".py",
   "mimetype": "text/x-python",
   "name": "python",
   "nbconvert_exporter": "python",
   "pygments_lexer": "ipython3",
   "version": "3.11.4"
  }
 },
 "nbformat": 4,
 "nbformat_minor": 5
}
