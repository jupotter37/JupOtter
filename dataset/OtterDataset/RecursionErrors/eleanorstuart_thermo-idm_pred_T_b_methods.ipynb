{
 "cells": [
  {
   "cell_type": "code",
   "execution_count": 72,
   "id": "a516bf6b",
   "metadata": {},
   "outputs": [
    {
     "name": "stdout",
     "output_type": "stream",
     "text": [
      "The autoreload extension is already loaded. To reload it, use:\n",
      "  %reload_ext autoreload\n"
     ]
    }
   ],
   "source": [
    "%load_ext autoreload\n",
    "%autoreload 2\n",
    "from astropy import units as u\n",
    "from astropy import constants as const\n",
    "import numpy as np\n",
    "from matplotlib import pyplot as plt\n",
    "from scipy.optimize import fsolve, root\n",
    "\n",
    "from sympy.polys.polytools import nroots\n",
    "from sympy import Symbol, nsolve\n",
    "\n",
    "\n",
    "from cluster import Cluster, fun, c\n",
    "#from load_galweight_data import load_clusters\n",
    "from load_mcxc_data import load_clusters\n"
   ]
  },
  {
   "cell_type": "code",
   "execution_count": 73,
   "id": "04727701",
   "metadata": {},
   "outputs": [],
   "source": [
    "clusters = load_clusters(nrows=5)"
   ]
  },
  {
   "cell_type": "code",
   "execution_count": 74,
   "id": "7ac72345",
   "metadata": {},
   "outputs": [],
   "source": [
    "test_cluster = clusters[1]"
   ]
  },
  {
   "cell_type": "code",
   "execution_count": 75,
   "id": "9f8aa8e0",
   "metadata": {},
   "outputs": [
    {
     "ename": "TypeError",
     "evalue": "'int' object is not iterable",
     "output_type": "error",
     "traceback": [
      "\u001b[0;31m---------------------------------------------------------------------------\u001b[0m",
      "\u001b[0;31mTypeError\u001b[0m                                 Traceback (most recent call last)",
      "Cell \u001b[0;32mIn[75], line 3\u001b[0m\n\u001b[1;32m      1\u001b[0m log_m_chi \u001b[38;5;241m=\u001b[39m \u001b[38;5;241m-\u001b[39m\u001b[38;5;241m4\u001b[39m\n\u001b[1;32m      2\u001b[0m log_sigma_0 \u001b[38;5;241m=\u001b[39m \u001b[38;5;241m-\u001b[39m\u001b[38;5;241m20\u001b[39m\n\u001b[0;32m----> 3\u001b[0m predicted_temperatures \u001b[38;5;241m=\u001b[39m [test_cluster\u001b[38;5;241m.\u001b[39mpred_T_b([s_0, log_m_chi]) \u001b[38;5;28;01mfor\u001b[39;00m s_0 \u001b[38;5;129;01min\u001b[39;00m log_sigma_0]\n",
      "\u001b[0;31mTypeError\u001b[0m: 'int' object is not iterable"
     ]
    }
   ],
   "source": [
    "log_m_chi = -4\n",
    "log_sigma_0 = -20\n",
    "predicted_temperatures = [test_cluster.pred_T_b([s_0, log_m_chi]) for s_0 in log_sigma_0]\n",
    "#plt.plot(log_sigma_0, self.virial_temperature(self.m_chi, f_chi=f_chi, m_psi=m_psi),\n",
    "#                   label=f'T_b = pred_T_b, fx={f_chi}')\n",
    "#plt.xlabel(r'$m_{\\chi} (GeV)$')\n",
    "#plt.ylabel(r'$T_{\\chi} (GeV)$')"
   ]
  },
  {
   "cell_type": "code",
   "execution_count": 76,
   "id": "5a0a67cf",
   "metadata": {},
   "outputs": [
    {
     "ename": "NameError",
     "evalue": "name 'predicted_temperatures' is not defined",
     "output_type": "error",
     "traceback": [
      "\u001b[0;31m---------------------------------------------------------------------------\u001b[0m",
      "\u001b[0;31mNameError\u001b[0m                                 Traceback (most recent call last)",
      "Cell \u001b[0;32mIn[76], line 1\u001b[0m\n\u001b[0;32m----> 1\u001b[0m predicted_temperatures\n",
      "\u001b[0;31mNameError\u001b[0m: name 'predicted_temperatures' is not defined"
     ]
    }
   ],
   "source": [
    "predicted_temperatures"
   ]
  },
  {
   "cell_type": "code",
   "execution_count": 77,
   "id": "10d999f1",
   "metadata": {},
   "outputs": [
    {
     "ename": "NameError",
     "evalue": "name 'func' is not defined",
     "output_type": "error",
     "traceback": [
      "\u001b[0;31m---------------------------------------------------------------------------\u001b[0m",
      "\u001b[0;31mNameError\u001b[0m                                 Traceback (most recent call last)",
      "Cell \u001b[0;32mIn[77], line 2\u001b[0m\n\u001b[1;32m      1\u001b[0m Tbs \u001b[38;5;241m=\u001b[39m np\u001b[38;5;241m.\u001b[39mlogspace(\u001b[38;5;241m-\u001b[39m\u001b[38;5;241m4\u001b[39m, \u001b[38;5;241m-\u001b[39m\u001b[38;5;241m8\u001b[39m)\n\u001b[0;32m----> 2\u001b[0m plt\u001b[38;5;241m.\u001b[39mloglog(Tbs, func(Tbs,[log_sigma_0, log_m_chi], test_cluster ))\n",
      "\u001b[0;31mNameError\u001b[0m: name 'func' is not defined"
     ]
    }
   ],
   "source": [
    "Tbs = np.logspace(-4, -8)\n",
    "plt.loglog(Tbs, func(Tbs,[log_sigma_0, log_m_chi], test_cluster ))"
   ]
  },
  {
   "cell_type": "code",
   "execution_count": 78,
   "id": "b36ee174",
   "metadata": {},
   "outputs": [
    {
     "ename": "UnitTypeError",
     "evalue": "Can only raise something to a dimensionless quantity",
     "output_type": "error",
     "traceback": [
      "\u001b[0;31m---------------------------------------------------------------------------\u001b[0m",
      "\u001b[0;31mUnitConversionError\u001b[0m                       Traceback (most recent call last)",
      "File \u001b[0;32m~/opt/anaconda3/envs/idm/lib/python3.11/site-packages/astropy/units/quantity_helper/helpers.py:219\u001b[0m, in \u001b[0;36mhelper_power\u001b[0;34m(f, unit1, unit2)\u001b[0m\n\u001b[1;32m    218\u001b[0m \u001b[38;5;28;01mtry\u001b[39;00m:\n\u001b[0;32m--> 219\u001b[0m     \u001b[38;5;28;01mreturn\u001b[39;00m [\u001b[38;5;28;01mNone\u001b[39;00m, get_converter(unit2, dimensionless_unscaled)], \u001b[38;5;28;01mFalse\u001b[39;00m\n\u001b[1;32m    220\u001b[0m \u001b[38;5;28;01mexcept\u001b[39;00m UnitsError:\n",
      "File \u001b[0;32m~/opt/anaconda3/envs/idm/lib/python3.11/site-packages/astropy/units/quantity_helper/helpers.py:32\u001b[0m, in \u001b[0;36mget_converter\u001b[0;34m(from_unit, to_unit)\u001b[0m\n\u001b[1;32m     30\u001b[0m \u001b[38;5;250m\u001b[39m\u001b[38;5;124;03m\"\"\"Like Unit._get_converter, except returns None if no scaling is needed,\u001b[39;00m\n\u001b[1;32m     31\u001b[0m \u001b[38;5;124;03mi.e., if the inferred scale is unity.\"\"\"\u001b[39;00m\n\u001b[0;32m---> 32\u001b[0m converter \u001b[38;5;241m=\u001b[39m from_unit\u001b[38;5;241m.\u001b[39m_get_converter(to_unit)\n\u001b[1;32m     33\u001b[0m \u001b[38;5;28;01mreturn\u001b[39;00m \u001b[38;5;28;01mNone\u001b[39;00m \u001b[38;5;28;01mif\u001b[39;00m converter \u001b[38;5;129;01mis\u001b[39;00m unit_scale_converter \u001b[38;5;28;01melse\u001b[39;00m converter\n",
      "File \u001b[0;32m~/opt/anaconda3/envs/idm/lib/python3.11/site-packages/astropy/units/core.py:1061\u001b[0m, in \u001b[0;36mUnitBase._get_converter\u001b[0;34m(self, other, equivalencies)\u001b[0m\n\u001b[1;32m   1059\u001b[0m                 \u001b[38;5;28;01mpass\u001b[39;00m\n\u001b[0;32m-> 1061\u001b[0m \u001b[38;5;28;01mraise\u001b[39;00m exc\n",
      "File \u001b[0;32m~/opt/anaconda3/envs/idm/lib/python3.11/site-packages/astropy/units/core.py:1046\u001b[0m, in \u001b[0;36mUnitBase._get_converter\u001b[0;34m(self, other, equivalencies)\u001b[0m\n\u001b[1;32m   1045\u001b[0m \u001b[38;5;28;01mtry\u001b[39;00m:\n\u001b[0;32m-> 1046\u001b[0m     \u001b[38;5;28;01mreturn\u001b[39;00m \u001b[38;5;28mself\u001b[39m\u001b[38;5;241m.\u001b[39m_apply_equivalencies(\n\u001b[1;32m   1047\u001b[0m         \u001b[38;5;28mself\u001b[39m, other, \u001b[38;5;28mself\u001b[39m\u001b[38;5;241m.\u001b[39m_normalize_equivalencies(equivalencies))\n\u001b[1;32m   1048\u001b[0m \u001b[38;5;28;01mexcept\u001b[39;00m UnitsError \u001b[38;5;28;01mas\u001b[39;00m exc:\n\u001b[1;32m   1049\u001b[0m     \u001b[38;5;66;03m# Last hope: maybe other knows how to do it?\u001b[39;00m\n\u001b[1;32m   1050\u001b[0m     \u001b[38;5;66;03m# We assume the equivalencies have the unit itself as first item.\u001b[39;00m\n\u001b[1;32m   1051\u001b[0m     \u001b[38;5;66;03m# TODO: maybe better for other to have a `_back_converter` method?\u001b[39;00m\n",
      "File \u001b[0;32m~/opt/anaconda3/envs/idm/lib/python3.11/site-packages/astropy/units/core.py:1022\u001b[0m, in \u001b[0;36mUnitBase._apply_equivalencies\u001b[0;34m(self, unit, other, equivalencies)\u001b[0m\n\u001b[1;32m   1020\u001b[0m other_str \u001b[38;5;241m=\u001b[39m get_err_str(other)\n\u001b[0;32m-> 1022\u001b[0m \u001b[38;5;28;01mraise\u001b[39;00m UnitConversionError(\n\u001b[1;32m   1023\u001b[0m     \u001b[38;5;124mf\u001b[39m\u001b[38;5;124m\"\u001b[39m\u001b[38;5;132;01m{\u001b[39;00munit_str\u001b[38;5;132;01m}\u001b[39;00m\u001b[38;5;124m and \u001b[39m\u001b[38;5;132;01m{\u001b[39;00mother_str\u001b[38;5;132;01m}\u001b[39;00m\u001b[38;5;124m are not convertible\u001b[39m\u001b[38;5;124m\"\u001b[39m)\n",
      "\u001b[0;31mUnitConversionError\u001b[0m: 'cm2' (area) and '' (dimensionless) are not convertible",
      "\nDuring handling of the above exception, another exception occurred:\n",
      "\u001b[0;31mUnitTypeError\u001b[0m                             Traceback (most recent call last)",
      "Cell \u001b[0;32mIn[78], line 2\u001b[0m\n\u001b[1;32m      1\u001b[0m sigma0s \u001b[38;5;241m=\u001b[39m np\u001b[38;5;241m.\u001b[39mlinspace(\u001b[38;5;241m-\u001b[39m\u001b[38;5;241m30\u001b[39m,\u001b[38;5;241m-\u001b[39m\u001b[38;5;241m10\u001b[39m)\n\u001b[0;32m----> 2\u001b[0m T_bs \u001b[38;5;241m=\u001b[39m [test_cluster\u001b[38;5;241m.\u001b[39mpred_T_b_small_m(np\u001b[38;5;241m.\u001b[39mpower(\u001b[38;5;241m10\u001b[39m,s0)\u001b[38;5;241m*\u001b[39mu\u001b[38;5;241m.\u001b[39mcm\u001b[38;5;241m*\u001b[39m\u001b[38;5;241m*\u001b[39m\u001b[38;5;241m2\u001b[39m, \u001b[38;5;241m1e-6\u001b[39m\u001b[38;5;241m*\u001b[39mu\u001b[38;5;241m.\u001b[39mGeV)\u001b[38;5;241m.\u001b[39mvalue \u001b[38;5;28;01mfor\u001b[39;00m s0 \u001b[38;5;129;01min\u001b[39;00m sigma0s]\n\u001b[1;32m      3\u001b[0m plt\u001b[38;5;241m.\u001b[39mloglog(np\u001b[38;5;241m.\u001b[39mpower(\u001b[38;5;241m10\u001b[39m,sigma0s), T_bs)\n\u001b[1;32m      5\u001b[0m plt\u001b[38;5;241m.\u001b[39mxlabel(\u001b[38;5;124m'\u001b[39m\u001b[38;5;124msigma0 (cm^2)\u001b[39m\u001b[38;5;124m'\u001b[39m)\n",
      "Cell \u001b[0;32mIn[78], line 2\u001b[0m, in \u001b[0;36m<listcomp>\u001b[0;34m(.0)\u001b[0m\n\u001b[1;32m      1\u001b[0m sigma0s \u001b[38;5;241m=\u001b[39m np\u001b[38;5;241m.\u001b[39mlinspace(\u001b[38;5;241m-\u001b[39m\u001b[38;5;241m30\u001b[39m,\u001b[38;5;241m-\u001b[39m\u001b[38;5;241m10\u001b[39m)\n\u001b[0;32m----> 2\u001b[0m T_bs \u001b[38;5;241m=\u001b[39m [test_cluster\u001b[38;5;241m.\u001b[39mpred_T_b_small_m(np\u001b[38;5;241m.\u001b[39mpower(\u001b[38;5;241m10\u001b[39m,s0)\u001b[38;5;241m*\u001b[39mu\u001b[38;5;241m.\u001b[39mcm\u001b[38;5;241m*\u001b[39m\u001b[38;5;241m*\u001b[39m\u001b[38;5;241m2\u001b[39m, \u001b[38;5;241m1e-6\u001b[39m\u001b[38;5;241m*\u001b[39mu\u001b[38;5;241m.\u001b[39mGeV)\u001b[38;5;241m.\u001b[39mvalue \u001b[38;5;28;01mfor\u001b[39;00m s0 \u001b[38;5;129;01min\u001b[39;00m sigma0s]\n\u001b[1;32m      3\u001b[0m plt\u001b[38;5;241m.\u001b[39mloglog(np\u001b[38;5;241m.\u001b[39mpower(\u001b[38;5;241m10\u001b[39m,sigma0s), T_bs)\n\u001b[1;32m      5\u001b[0m plt\u001b[38;5;241m.\u001b[39mxlabel(\u001b[38;5;124m'\u001b[39m\u001b[38;5;124msigma0 (cm^2)\u001b[39m\u001b[38;5;124m'\u001b[39m)\n",
      "File \u001b[0;32m~/Desktop/krisp/thermo-idm/cluster.py:183\u001b[0m, in \u001b[0;36mCluster.pred_T_b_small_m\u001b[0;34m(self, p0, m_chi, n)\u001b[0m\n\u001b[1;32m    181\u001b[0m \u001b[38;5;28;01mdef\u001b[39;00m \u001b[38;5;21mpred_T_b_small_m\u001b[39m(\u001b[38;5;28mself\u001b[39m, p0, m_chi, n\u001b[38;5;241m=\u001b[39m\u001b[38;5;241m0\u001b[39m):\n\u001b[1;32m    182\u001b[0m     \u001b[38;5;66;03m# approximates T_b for small m_chi -> T_chi~0\u001b[39;00m\n\u001b[0;32m--> 183\u001b[0m     sigma0\u001b[38;5;241m=\u001b[39m\u001b[38;5;241m10\u001b[39m\u001b[38;5;241m*\u001b[39m\u001b[38;5;241m*\u001b[39mp0\u001b[38;5;241m*\u001b[39mu\u001b[38;5;241m.\u001b[39mcm\u001b[38;5;241m*\u001b[39m\u001b[38;5;241m*\u001b[39m\u001b[38;5;241m2\u001b[39m\n\u001b[1;32m    184\u001b[0m     V\u001b[38;5;241m=\u001b[39m\u001b[38;5;28mself\u001b[39m\u001b[38;5;241m.\u001b[39mvolume\u001b[38;5;241m.\u001b[39mto(u\u001b[38;5;241m.\u001b[39mcm\u001b[38;5;241m*\u001b[39m\u001b[38;5;241m*\u001b[39m\u001b[38;5;241m3\u001b[39m)\n\u001b[1;32m    185\u001b[0m     x \u001b[38;5;241m=\u001b[39m (\u001b[38;5;241m3\u001b[39m\u001b[38;5;241m*\u001b[39mconst\u001b[38;5;241m.\u001b[39mc\u001b[38;5;241m*\u001b[39mc(n)\u001b[38;5;241m*\u001b[39mV\u001b[38;5;241m*\u001b[39m\u001b[38;5;28mself\u001b[39m\u001b[38;5;241m.\u001b[39mrho_dm\u001b[38;5;241m*\u001b[39m\u001b[38;5;28mself\u001b[39m\u001b[38;5;241m.\u001b[39mrho_b\u001b[38;5;241m*\u001b[39msigma0\u001b[38;5;241m/\u001b[39m(\u001b[38;5;28mself\u001b[39m\u001b[38;5;241m.\u001b[39mm_b\u001b[38;5;241m+\u001b[39mm_chi)\u001b[38;5;241m*\u001b[39m\u001b[38;5;241m*\u001b[39m\u001b[38;5;241m2\u001b[39m)\u001b[38;5;241m.\u001b[39mto(\u001b[38;5;241m1\u001b[39m\u001b[38;5;241m/\u001b[39mu\u001b[38;5;241m.\u001b[39ms)\n",
      "File \u001b[0;32m~/opt/anaconda3/envs/idm/lib/python3.11/site-packages/astropy/units/quantity.py:591\u001b[0m, in \u001b[0;36mQuantity.__array_ufunc__\u001b[0;34m(self, function, method, *inputs, **kwargs)\u001b[0m\n\u001b[1;32m    569\u001b[0m \u001b[38;5;250m\u001b[39m\u001b[38;5;124;03m\"\"\"Wrap numpy ufuncs, taking care of units.\u001b[39;00m\n\u001b[1;32m    570\u001b[0m \n\u001b[1;32m    571\u001b[0m \u001b[38;5;124;03mParameters\u001b[39;00m\n\u001b[0;32m   (...)\u001b[0m\n\u001b[1;32m    585\u001b[0m \u001b[38;5;124;03m    Results of the ufunc, with the unit set properly.\u001b[39;00m\n\u001b[1;32m    586\u001b[0m \u001b[38;5;124;03m\"\"\"\u001b[39;00m\n\u001b[1;32m    587\u001b[0m \u001b[38;5;66;03m# Determine required conversion functions -- to bring the unit of the\u001b[39;00m\n\u001b[1;32m    588\u001b[0m \u001b[38;5;66;03m# input to that expected (e.g., radian for np.sin), or to get\u001b[39;00m\n\u001b[1;32m    589\u001b[0m \u001b[38;5;66;03m# consistent units between two inputs (e.g., in np.add) --\u001b[39;00m\n\u001b[1;32m    590\u001b[0m \u001b[38;5;66;03m# and the unit of the result (or tuple of units for nout > 1).\u001b[39;00m\n\u001b[0;32m--> 591\u001b[0m converters, unit \u001b[38;5;241m=\u001b[39m converters_and_unit(function, method, \u001b[38;5;241m*\u001b[39minputs)\n\u001b[1;32m    593\u001b[0m out \u001b[38;5;241m=\u001b[39m kwargs\u001b[38;5;241m.\u001b[39mget(\u001b[38;5;124m'\u001b[39m\u001b[38;5;124mout\u001b[39m\u001b[38;5;124m'\u001b[39m, \u001b[38;5;28;01mNone\u001b[39;00m)\n\u001b[1;32m    594\u001b[0m \u001b[38;5;66;03m# Avoid loop back by turning any Quantity output into array views.\u001b[39;00m\n",
      "File \u001b[0;32m~/opt/anaconda3/envs/idm/lib/python3.11/site-packages/astropy/units/quantity_helper/converters.py:174\u001b[0m, in \u001b[0;36mconverters_and_unit\u001b[0;34m(function, method, *args)\u001b[0m\n\u001b[1;32m    171\u001b[0m units \u001b[38;5;241m=\u001b[39m [\u001b[38;5;28mgetattr\u001b[39m(arg, \u001b[38;5;124m'\u001b[39m\u001b[38;5;124munit\u001b[39m\u001b[38;5;124m'\u001b[39m, \u001b[38;5;28;01mNone\u001b[39;00m) \u001b[38;5;28;01mfor\u001b[39;00m arg \u001b[38;5;129;01min\u001b[39;00m args]\n\u001b[1;32m    173\u001b[0m \u001b[38;5;66;03m# Determine possible conversion functions, and the result unit.\u001b[39;00m\n\u001b[0;32m--> 174\u001b[0m converters, result_unit \u001b[38;5;241m=\u001b[39m ufunc_helper(function, \u001b[38;5;241m*\u001b[39munits)\n\u001b[1;32m    176\u001b[0m \u001b[38;5;28;01mif\u001b[39;00m \u001b[38;5;28many\u001b[39m(converter \u001b[38;5;129;01mis\u001b[39;00m \u001b[38;5;28;01mFalse\u001b[39;00m \u001b[38;5;28;01mfor\u001b[39;00m converter \u001b[38;5;129;01min\u001b[39;00m converters):\n\u001b[1;32m    177\u001b[0m     \u001b[38;5;66;03m# for multi-argument ufuncs with a quantity and a non-quantity,\u001b[39;00m\n\u001b[1;32m    178\u001b[0m     \u001b[38;5;66;03m# the quantity normally needs to be dimensionless, *except*\u001b[39;00m\n\u001b[0;32m   (...)\u001b[0m\n\u001b[1;32m    181\u001b[0m     \u001b[38;5;66;03m# can just have the unit of the quantity\u001b[39;00m\n\u001b[1;32m    182\u001b[0m     \u001b[38;5;66;03m# (this allows, e.g., `q > 0.` independent of unit)\u001b[39;00m\n\u001b[1;32m    183\u001b[0m     \u001b[38;5;28;01mtry\u001b[39;00m:\n\u001b[1;32m    184\u001b[0m         \u001b[38;5;66;03m# Don't fold this loop in the test above: this rare case\u001b[39;00m\n\u001b[1;32m    185\u001b[0m         \u001b[38;5;66;03m# should not make the common case slower.\u001b[39;00m\n",
      "File \u001b[0;32m~/opt/anaconda3/envs/idm/lib/python3.11/site-packages/astropy/units/quantity_helper/helpers.py:221\u001b[0m, in \u001b[0;36mhelper_power\u001b[0;34m(f, unit1, unit2)\u001b[0m\n\u001b[1;32m    219\u001b[0m     \u001b[38;5;28;01mreturn\u001b[39;00m [\u001b[38;5;28;01mNone\u001b[39;00m, get_converter(unit2, dimensionless_unscaled)], \u001b[38;5;28;01mFalse\u001b[39;00m\n\u001b[1;32m    220\u001b[0m \u001b[38;5;28;01mexcept\u001b[39;00m UnitsError:\n\u001b[0;32m--> 221\u001b[0m     \u001b[38;5;28;01mraise\u001b[39;00m UnitTypeError(\u001b[38;5;124m\"\u001b[39m\u001b[38;5;124mCan only raise something to a \u001b[39m\u001b[38;5;124m\"\u001b[39m\n\u001b[1;32m    222\u001b[0m                         \u001b[38;5;124m\"\u001b[39m\u001b[38;5;124mdimensionless quantity\u001b[39m\u001b[38;5;124m\"\u001b[39m)\n",
      "\u001b[0;31mUnitTypeError\u001b[0m: Can only raise something to a dimensionless quantity"
     ]
    }
   ],
   "source": [
    "sigma0s = np.linspace(-30,-10)\n",
    "T_bs = [test_cluster.pred_T_b_small_m(np.power(10,s0)*u.cm**2, 1e-6*u.GeV).value for s0 in sigma0s]\n",
    "plt.loglog(np.power(10,sigma0s), T_bs)\n",
    "\n",
    "plt.xlabel('sigma0 (cm^2)')\n",
    "plt.ylabel('Temperature (GeV)')"
   ]
  },
  {
   "cell_type": "code",
   "execution_count": 79,
   "id": "bb45a741",
   "metadata": {},
   "outputs": [
    {
     "ename": "NameError",
     "evalue": "name 'func' is not defined",
     "output_type": "error",
     "traceback": [
      "\u001b[0;31m---------------------------------------------------------------------------\u001b[0m",
      "\u001b[0;31mNameError\u001b[0m                                 Traceback (most recent call last)",
      "Cell \u001b[0;32mIn[79], line 3\u001b[0m\n\u001b[1;32m      1\u001b[0m x0 \u001b[38;5;241m=\u001b[39m \u001b[38;5;241m1e-6\u001b[39m \u001b[38;5;241m*\u001b[39m u\u001b[38;5;241m.\u001b[39mGeV\n\u001b[1;32m      2\u001b[0m p0\u001b[38;5;241m=\u001b[39m[\u001b[38;5;241m-\u001b[39m\u001b[38;5;241m20\u001b[39m, \u001b[38;5;241m-\u001b[39m\u001b[38;5;241m6\u001b[39m]\n\u001b[0;32m----> 3\u001b[0m root(func, x0, (p0,test_cluster))\n",
      "\u001b[0;31mNameError\u001b[0m: name 'func' is not defined"
     ]
    }
   ],
   "source": [
    "x0 = 1e-6 * u.GeV\n",
    "p0=[-20, -6]\n",
    "root(func, x0, (p0,test_cluster))"
   ]
  },
  {
   "cell_type": "code",
   "execution_count": 80,
   "id": "f047a3a7",
   "metadata": {},
   "outputs": [],
   "source": [
    "from sympy import Symbol, nsolve\n"
   ]
  },
  {
   "cell_type": "code",
   "execution_count": 81,
   "id": "e905306c",
   "metadata": {},
   "outputs": [
    {
     "ename": "NameError",
     "evalue": "name 'f' is not defined",
     "output_type": "error",
     "traceback": [
      "\u001b[0;31m---------------------------------------------------------------------------\u001b[0m",
      "\u001b[0;31mNameError\u001b[0m                                 Traceback (most recent call last)",
      "Cell \u001b[0;32mIn[81], line 4\u001b[0m\n\u001b[1;32m      1\u001b[0m x0\u001b[38;5;241m=\u001b[39m\u001b[38;5;241m1e-6\u001b[39m\n\u001b[1;32m      3\u001b[0m T_b \u001b[38;5;241m=\u001b[39m Symbol(\u001b[38;5;124m'\u001b[39m\u001b[38;5;124mT_b\u001b[39m\u001b[38;5;124m'\u001b[39m)\n\u001b[0;32m----> 4\u001b[0m nsolve(f(T_b, p0, test_cluster), [p0, test_cluster], x0)\n",
      "\u001b[0;31mNameError\u001b[0m: name 'f' is not defined"
     ]
    }
   ],
   "source": [
    "x0=1e-6\n",
    "\n",
    "T_b = Symbol('T_b')\n",
    "nsolve(f(T_b, p0, test_cluster), [p0, test_cluster], x0)"
   ]
  },
  {
   "cell_type": "code",
   "execution_count": 82,
   "id": "02971316",
   "metadata": {},
   "outputs": [
    {
     "ename": "SyntaxError",
     "evalue": "invalid syntax (2287622722.py, line 5)",
     "output_type": "error",
     "traceback": [
      "\u001b[0;36m  Cell \u001b[0;32mIn[82], line 5\u001b[0;36m\u001b[0m\n\u001b[0;31m    m_chi=\u001b[0m\n\u001b[0m          ^\u001b[0m\n\u001b[0;31mSyntaxError\u001b[0m\u001b[0;31m:\u001b[0m invalid syntax\n"
     ]
    }
   ],
   "source": [
    "def f(T_b, p0, cluster):\n",
    "    \n",
    "    #function used to solve for T_b\n",
    "    sigma0 = p0[0]*u.cm**2\n",
    "    m_chi=\n",
    "    #T_b = T_b*u.GeV\n",
    "    n=0\n",
    "    \n",
    "    leading_factors = (cluster.norm * 4*np.pi *const.c ** -3).to(u.s**3/u.cm**3)\n",
    "    \n",
    "    \n",
    "    V=cluster.volume.to(u.cm**3)\n",
    "    x = (3*const.c*c(n)*V*cluster.rho_dm*cluster.rho_b*sigma0/(cluster.m_b+m_chi)**2).to(1/u.s)\n",
    "    gm2 = ((const.G * cluster.bh_mass()) ** 2).to(u.cm**6/u.s**4)\n",
    "    frac = ((cluster.mu * cluster.m_b) ** (5 / 2) / cluster.adiabatic_idx ** (3 / 2)).to(u.GeV**(5/2))\n",
    "    nb = (2 * cluster.n_e).to(u.cm ** (-3)) # baryon number density\n",
    "    D = (cluster.epsilon*leading_factors*gm2*frac*(1/nb**(2/3))**(-3/2)) # removed k_B from original function because we are working in GeV here\n",
    "    T_chi = cluster.virial_temperature(m_chi)\n",
    "    \n",
    "    numerator = D*T_b**(-3/2)\n",
    "    denominator = (T_b - T_chi)*(T_chi/m_chi + T_b/cluster.m_b)**(1/2)\n",
    "    \n",
    "    return ((numerator/denominator - x)*const.hbar).to(u.GeV, equivalencies=u.temperature_energy())"
   ]
  },
  {
   "cell_type": "code",
   "execution_count": 83,
   "id": "f790ae54",
   "metadata": {},
   "outputs": [],
   "source": [
    "def poly_T_b(T_b, p0, cluster, f_chi=1, n=0):\n",
    "    sigma0=np.float_power(10, p0[0])*u.cm**2\n",
    "    m_chi = 1e-4*u.GeV\n",
    "    \n",
    "    norm=cluster.norm\n",
    "    bh_mass=cluster.bh_mass()\n",
    "    mu=cluster.mu\n",
    "    m_b=cluster.m_b\n",
    "    nb=(2 * cluster.n_e).to(u.m ** (-3))\n",
    "    gamma=cluster.adiabatic_idx\n",
    "    rho_chi=cluster.rho_dm * f_chi\n",
    "    rho_b = cluster.rho_b\n",
    "    V=cluster.volume\n",
    "    efficiency=cluster.epsilon\n",
    "    T_chi = cluster.virial_temperature(m_chi)\n",
    "\n",
    "    \n",
    "    accretion_factors=(norm*4*np.pi*(const.G*bh_mass)**2)\n",
    "    plasma_entropy_factors=(((mu*m_b)**(5/2)*nb)/gamma**(3/2)) #no k_b because T_b in GeV\n",
    "    cooling_factors=3*rho_chi*rho_b*V*c(n)*const.c \n",
    "    \n",
    "    B=(efficiency*accretion_factors*plasma_entropy_factors)/(cooling_factors)\n",
    "    C=(B**2 * (m_chi + m_b)**4)/(sigma0**2)\n",
    "    #print(C)\n",
    "    inside=(T_b**2*T_chi/m_chi)+(T_b**3/m_b)-(T_chi**3/m_chi)-(T_chi**2*T_b/m_b)-(2*T_b*T_chi**2/m_chi)-(2*T_b**2*T_chi/m_b)\n",
    "    #print(T_b**3*inside)\n",
    "    #print(C*1/const.c**6)\n",
    "    return T_b**3*(inside) - C*(1/const.c**6)"
   ]
  },
  {
   "cell_type": "code",
   "execution_count": 84,
   "id": "28323d54",
   "metadata": {},
   "outputs": [
    {
     "ename": "RecursionError",
     "evalue": "maximum recursion depth exceeded in comparison",
     "output_type": "error",
     "traceback": [
      "\u001b[0;31m---------------------------------------------------------------------------\u001b[0m",
      "\u001b[0;31mRecursionError\u001b[0m                            Traceback (most recent call last)",
      "Cell \u001b[0;32mIn[84], line 3\u001b[0m\n\u001b[1;32m      1\u001b[0m p0\u001b[38;5;241m=\u001b[39m[\u001b[38;5;241m-\u001b[39m\u001b[38;5;241m20\u001b[39m]\n\u001b[1;32m      2\u001b[0m T_b\u001b[38;5;241m=\u001b[39mSymbol(\u001b[38;5;124m'\u001b[39m\u001b[38;5;124mT_b\u001b[39m\u001b[38;5;124m'\u001b[39m)\n\u001b[0;32m----> 3\u001b[0m nroots(poly_T_b(T_b, p0, test_cluster))\n",
      "Cell \u001b[0;32mIn[83], line 25\u001b[0m, in \u001b[0;36mpoly_T_b\u001b[0;34m(T_b, p0, cluster, f_chi, n)\u001b[0m\n\u001b[1;32m     23\u001b[0m C\u001b[38;5;241m=\u001b[39m(B\u001b[38;5;241m*\u001b[39m\u001b[38;5;241m*\u001b[39m\u001b[38;5;241m2\u001b[39m \u001b[38;5;241m*\u001b[39m (m_chi \u001b[38;5;241m+\u001b[39m m_b)\u001b[38;5;241m*\u001b[39m\u001b[38;5;241m*\u001b[39m\u001b[38;5;241m4\u001b[39m)\u001b[38;5;241m/\u001b[39m(sigma0\u001b[38;5;241m*\u001b[39m\u001b[38;5;241m*\u001b[39m\u001b[38;5;241m2\u001b[39m)\n\u001b[1;32m     24\u001b[0m \u001b[38;5;66;03m#print(C)\u001b[39;00m\n\u001b[0;32m---> 25\u001b[0m inside\u001b[38;5;241m=\u001b[39m(T_b\u001b[38;5;241m*\u001b[39m\u001b[38;5;241m*\u001b[39m\u001b[38;5;241m2\u001b[39m\u001b[38;5;241m*\u001b[39mT_chi\u001b[38;5;241m/\u001b[39mm_chi)\u001b[38;5;241m+\u001b[39m(T_b\u001b[38;5;241m*\u001b[39m\u001b[38;5;241m*\u001b[39m\u001b[38;5;241m3\u001b[39m\u001b[38;5;241m/\u001b[39mm_b)\u001b[38;5;241m-\u001b[39m(T_chi\u001b[38;5;241m*\u001b[39m\u001b[38;5;241m*\u001b[39m\u001b[38;5;241m3\u001b[39m\u001b[38;5;241m/\u001b[39mm_chi)\u001b[38;5;241m-\u001b[39m(T_chi\u001b[38;5;241m*\u001b[39m\u001b[38;5;241m*\u001b[39m\u001b[38;5;241m2\u001b[39m\u001b[38;5;241m*\u001b[39mT_b\u001b[38;5;241m/\u001b[39mm_b)\u001b[38;5;241m-\u001b[39m(\u001b[38;5;241m2\u001b[39m\u001b[38;5;241m*\u001b[39mT_b\u001b[38;5;241m*\u001b[39mT_chi\u001b[38;5;241m*\u001b[39m\u001b[38;5;241m*\u001b[39m\u001b[38;5;241m2\u001b[39m\u001b[38;5;241m/\u001b[39mm_chi)\u001b[38;5;241m-\u001b[39m(\u001b[38;5;241m2\u001b[39m\u001b[38;5;241m*\u001b[39mT_b\u001b[38;5;241m*\u001b[39m\u001b[38;5;241m*\u001b[39m\u001b[38;5;241m2\u001b[39m\u001b[38;5;241m*\u001b[39mT_chi\u001b[38;5;241m/\u001b[39mm_b)\n\u001b[1;32m     26\u001b[0m \u001b[38;5;66;03m#print(T_b**3*inside)\u001b[39;00m\n\u001b[1;32m     27\u001b[0m \u001b[38;5;66;03m#print(C*1/const.c**6)\u001b[39;00m\n\u001b[1;32m     28\u001b[0m \u001b[38;5;28;01mreturn\u001b[39;00m T_b\u001b[38;5;241m*\u001b[39m\u001b[38;5;241m*\u001b[39m\u001b[38;5;241m3\u001b[39m\u001b[38;5;241m*\u001b[39m(inside) \u001b[38;5;241m-\u001b[39m C\u001b[38;5;241m*\u001b[39m(\u001b[38;5;241m1\u001b[39m\u001b[38;5;241m/\u001b[39mconst\u001b[38;5;241m.\u001b[39mc\u001b[38;5;241m*\u001b[39m\u001b[38;5;241m*\u001b[39m\u001b[38;5;241m6\u001b[39m)\n",
      "File \u001b[0;32m~/opt/anaconda3/envs/idm/lib/python3.11/site-packages/sympy/core/decorators.py:231\u001b[0m, in \u001b[0;36m_SympifyWrapper.make_wrapped.<locals>._func\u001b[0;34m(self, other)\u001b[0m\n\u001b[1;32m    229\u001b[0m \u001b[38;5;28;01mif\u001b[39;00m \u001b[38;5;129;01mnot\u001b[39;00m \u001b[38;5;28mhasattr\u001b[39m(other, \u001b[38;5;124m'\u001b[39m\u001b[38;5;124m_op_priority\u001b[39m\u001b[38;5;124m'\u001b[39m):\n\u001b[1;32m    230\u001b[0m     \u001b[38;5;28;01mtry\u001b[39;00m:\n\u001b[0;32m--> 231\u001b[0m         other \u001b[38;5;241m=\u001b[39m sympify(other, strict\u001b[38;5;241m=\u001b[39m\u001b[38;5;28;01mTrue\u001b[39;00m)\n\u001b[1;32m    232\u001b[0m     \u001b[38;5;28;01mexcept\u001b[39;00m SympifyError:\n\u001b[1;32m    233\u001b[0m         \u001b[38;5;28;01mreturn\u001b[39;00m retval\n",
      "File \u001b[0;32m~/opt/anaconda3/envs/idm/lib/python3.11/site-packages/sympy/core/sympify.py:432\u001b[0m, in \u001b[0;36msympify\u001b[0;34m(a, locals, convert_xor, strict, rational, evaluate)\u001b[0m\n\u001b[1;32m    430\u001b[0m \u001b[38;5;28;01mif\u001b[39;00m a\u001b[38;5;241m.\u001b[39mndim \u001b[38;5;241m==\u001b[39m \u001b[38;5;241m0\u001b[39m:\n\u001b[1;32m    431\u001b[0m     \u001b[38;5;28;01mtry\u001b[39;00m:\n\u001b[0;32m--> 432\u001b[0m         \u001b[38;5;28;01mreturn\u001b[39;00m sympify(a\u001b[38;5;241m.\u001b[39mitem(),\n\u001b[1;32m    433\u001b[0m                        \u001b[38;5;28mlocals\u001b[39m\u001b[38;5;241m=\u001b[39m\u001b[38;5;28mlocals\u001b[39m,\n\u001b[1;32m    434\u001b[0m                        convert_xor\u001b[38;5;241m=\u001b[39mconvert_xor,\n\u001b[1;32m    435\u001b[0m                        strict\u001b[38;5;241m=\u001b[39mstrict,\n\u001b[1;32m    436\u001b[0m                        rational\u001b[38;5;241m=\u001b[39mrational,\n\u001b[1;32m    437\u001b[0m                        evaluate\u001b[38;5;241m=\u001b[39mevaluate)\n\u001b[1;32m    438\u001b[0m     \u001b[38;5;28;01mexcept\u001b[39;00m SympifyError:\n\u001b[1;32m    439\u001b[0m         \u001b[38;5;28;01mpass\u001b[39;00m\n",
      "File \u001b[0;32m~/opt/anaconda3/envs/idm/lib/python3.11/site-packages/sympy/core/sympify.py:432\u001b[0m, in \u001b[0;36msympify\u001b[0;34m(a, locals, convert_xor, strict, rational, evaluate)\u001b[0m\n\u001b[1;32m    430\u001b[0m \u001b[38;5;28;01mif\u001b[39;00m a\u001b[38;5;241m.\u001b[39mndim \u001b[38;5;241m==\u001b[39m \u001b[38;5;241m0\u001b[39m:\n\u001b[1;32m    431\u001b[0m     \u001b[38;5;28;01mtry\u001b[39;00m:\n\u001b[0;32m--> 432\u001b[0m         \u001b[38;5;28;01mreturn\u001b[39;00m sympify(a\u001b[38;5;241m.\u001b[39mitem(),\n\u001b[1;32m    433\u001b[0m                        \u001b[38;5;28mlocals\u001b[39m\u001b[38;5;241m=\u001b[39m\u001b[38;5;28mlocals\u001b[39m,\n\u001b[1;32m    434\u001b[0m                        convert_xor\u001b[38;5;241m=\u001b[39mconvert_xor,\n\u001b[1;32m    435\u001b[0m                        strict\u001b[38;5;241m=\u001b[39mstrict,\n\u001b[1;32m    436\u001b[0m                        rational\u001b[38;5;241m=\u001b[39mrational,\n\u001b[1;32m    437\u001b[0m                        evaluate\u001b[38;5;241m=\u001b[39mevaluate)\n\u001b[1;32m    438\u001b[0m     \u001b[38;5;28;01mexcept\u001b[39;00m SympifyError:\n\u001b[1;32m    439\u001b[0m         \u001b[38;5;28;01mpass\u001b[39;00m\n",
      "    \u001b[0;31m[... skipping similar frames: sympify at line 432 (2964 times)]\u001b[0m\n",
      "File \u001b[0;32m~/opt/anaconda3/envs/idm/lib/python3.11/site-packages/sympy/core/sympify.py:432\u001b[0m, in \u001b[0;36msympify\u001b[0;34m(a, locals, convert_xor, strict, rational, evaluate)\u001b[0m\n\u001b[1;32m    430\u001b[0m \u001b[38;5;28;01mif\u001b[39;00m a\u001b[38;5;241m.\u001b[39mndim \u001b[38;5;241m==\u001b[39m \u001b[38;5;241m0\u001b[39m:\n\u001b[1;32m    431\u001b[0m     \u001b[38;5;28;01mtry\u001b[39;00m:\n\u001b[0;32m--> 432\u001b[0m         \u001b[38;5;28;01mreturn\u001b[39;00m sympify(a\u001b[38;5;241m.\u001b[39mitem(),\n\u001b[1;32m    433\u001b[0m                        \u001b[38;5;28mlocals\u001b[39m\u001b[38;5;241m=\u001b[39m\u001b[38;5;28mlocals\u001b[39m,\n\u001b[1;32m    434\u001b[0m                        convert_xor\u001b[38;5;241m=\u001b[39mconvert_xor,\n\u001b[1;32m    435\u001b[0m                        strict\u001b[38;5;241m=\u001b[39mstrict,\n\u001b[1;32m    436\u001b[0m                        rational\u001b[38;5;241m=\u001b[39mrational,\n\u001b[1;32m    437\u001b[0m                        evaluate\u001b[38;5;241m=\u001b[39mevaluate)\n\u001b[1;32m    438\u001b[0m     \u001b[38;5;28;01mexcept\u001b[39;00m SympifyError:\n\u001b[1;32m    439\u001b[0m         \u001b[38;5;28;01mpass\u001b[39;00m\n",
      "File \u001b[0;32m~/opt/anaconda3/envs/idm/lib/python3.11/site-packages/sympy/core/sympify.py:398\u001b[0m, in \u001b[0;36msympify\u001b[0;34m(a, locals, convert_xor, strict, rational, evaluate)\u001b[0m\n\u001b[1;32m    396\u001b[0m \u001b[38;5;28;01mif\u001b[39;00m _is_numpy_instance(a):\n\u001b[1;32m    397\u001b[0m     \u001b[38;5;28;01mimport\u001b[39;00m \u001b[38;5;21;01mnumpy\u001b[39;00m \u001b[38;5;28;01mas\u001b[39;00m \u001b[38;5;21;01mnp\u001b[39;00m\n\u001b[0;32m--> 398\u001b[0m     \u001b[38;5;28;01mif\u001b[39;00m np\u001b[38;5;241m.\u001b[39misscalar(a):\n\u001b[1;32m    399\u001b[0m         \u001b[38;5;28;01mreturn\u001b[39;00m _convert_numpy_types(a, \u001b[38;5;28mlocals\u001b[39m\u001b[38;5;241m=\u001b[39m\u001b[38;5;28mlocals\u001b[39m,\n\u001b[1;32m    400\u001b[0m             convert_xor\u001b[38;5;241m=\u001b[39mconvert_xor, strict\u001b[38;5;241m=\u001b[39mstrict, rational\u001b[38;5;241m=\u001b[39mrational,\n\u001b[1;32m    401\u001b[0m             evaluate\u001b[38;5;241m=\u001b[39mevaluate)\n\u001b[1;32m    403\u001b[0m _sympy_ \u001b[38;5;241m=\u001b[39m \u001b[38;5;28mgetattr\u001b[39m(a, \u001b[38;5;124m\"\u001b[39m\u001b[38;5;124m_sympy_\u001b[39m\u001b[38;5;124m\"\u001b[39m, \u001b[38;5;28;01mNone\u001b[39;00m)\n",
      "File \u001b[0;32m~/opt/anaconda3/envs/idm/lib/python3.11/site-packages/numpy/core/numeric.py:1933\u001b[0m, in \u001b[0;36misscalar\u001b[0;34m(element)\u001b[0m\n\u001b[1;32m   1855\u001b[0m \u001b[38;5;129m@set_module\u001b[39m(\u001b[38;5;124m'\u001b[39m\u001b[38;5;124mnumpy\u001b[39m\u001b[38;5;124m'\u001b[39m)\n\u001b[1;32m   1856\u001b[0m \u001b[38;5;28;01mdef\u001b[39;00m \u001b[38;5;21misscalar\u001b[39m(element):\n\u001b[1;32m   1857\u001b[0m \u001b[38;5;250m    \u001b[39m\u001b[38;5;124;03m\"\"\"\u001b[39;00m\n\u001b[1;32m   1858\u001b[0m \u001b[38;5;124;03m    Returns True if the type of `element` is a scalar type.\u001b[39;00m\n\u001b[1;32m   1859\u001b[0m \n\u001b[0;32m   (...)\u001b[0m\n\u001b[1;32m   1929\u001b[0m \n\u001b[1;32m   1930\u001b[0m \u001b[38;5;124;03m    \"\"\"\u001b[39;00m\n\u001b[1;32m   1931\u001b[0m     \u001b[38;5;28;01mreturn\u001b[39;00m (\u001b[38;5;28misinstance\u001b[39m(element, generic)\n\u001b[1;32m   1932\u001b[0m             \u001b[38;5;129;01mor\u001b[39;00m \u001b[38;5;28mtype\u001b[39m(element) \u001b[38;5;129;01min\u001b[39;00m ScalarType\n\u001b[0;32m-> 1933\u001b[0m             \u001b[38;5;129;01mor\u001b[39;00m \u001b[38;5;28misinstance\u001b[39m(element, numbers\u001b[38;5;241m.\u001b[39mNumber))\n",
      "File \u001b[0;32m<frozen abc>:119\u001b[0m, in \u001b[0;36m__instancecheck__\u001b[0;34m(cls, instance)\u001b[0m\n",
      "\u001b[0;31mRecursionError\u001b[0m: maximum recursion depth exceeded in comparison"
     ]
    }
   ],
   "source": [
    "p0=[-20]\n",
    "T_b=Symbol('T_b')\n",
    "nroots(poly_T_b(T_b, p0, test_cluster))"
   ]
  },
  {
   "cell_type": "code",
   "execution_count": 85,
   "id": "0e3c5d01",
   "metadata": {},
   "outputs": [],
   "source": [
    "T_bs = np.logspace(-8, -4) * u.GeV"
   ]
  },
  {
   "cell_type": "code",
   "execution_count": 86,
   "id": "a6d3dda1",
   "metadata": {},
   "outputs": [
    {
     "data": {
      "text/plain": [
       "[<matplotlib.lines.Line2D at 0x1313fa090>]"
      ]
     },
     "execution_count": 86,
     "metadata": {},
     "output_type": "execute_result"
    },
    {
     "data": {
      "image/png": "[encoded data removed]",
      "text/plain": [
       "<Figure size 640x480 with 1 Axes>"
      ]
     },
     "metadata": {},
     "output_type": "display_data"
    }
   ],
   "source": [
    "plt.loglog(T_bs, poly_T_b(T_bs, p0, test_cluster))"
   ]
  },
  {
   "cell_type": "code",
   "execution_count": 87,
   "id": "e11ae50c",
   "metadata": {},
   "outputs": [
    {
     "ename": "RecursionError",
     "evalue": "maximum recursion depth exceeded in comparison",
     "output_type": "error",
     "traceback": [
      "\u001b[0;31m---------------------------------------------------------------------------\u001b[0m",
      "\u001b[0;31mRecursionError\u001b[0m                            Traceback (most recent call last)",
      "Cell \u001b[0;32mIn[87], line 3\u001b[0m\n\u001b[1;32m      1\u001b[0m T_b \u001b[38;5;241m=\u001b[39m Symbol(\u001b[38;5;124m'\u001b[39m\u001b[38;5;124mT_b\u001b[39m\u001b[38;5;124m'\u001b[39m)\n\u001b[1;32m      2\u001b[0m x0\u001b[38;5;241m=\u001b[39m\u001b[38;5;241m1e-5\u001b[39m\n\u001b[0;32m----> 3\u001b[0m nsolve(poly_T_b(T_b, p0, test_cluster), [p0, test_cluster], x0)\n",
      "Cell \u001b[0;32mIn[83], line 25\u001b[0m, in \u001b[0;36mpoly_T_b\u001b[0;34m(T_b, p0, cluster, f_chi, n)\u001b[0m\n\u001b[1;32m     23\u001b[0m C\u001b[38;5;241m=\u001b[39m(B\u001b[38;5;241m*\u001b[39m\u001b[38;5;241m*\u001b[39m\u001b[38;5;241m2\u001b[39m \u001b[38;5;241m*\u001b[39m (m_chi \u001b[38;5;241m+\u001b[39m m_b)\u001b[38;5;241m*\u001b[39m\u001b[38;5;241m*\u001b[39m\u001b[38;5;241m4\u001b[39m)\u001b[38;5;241m/\u001b[39m(sigma0\u001b[38;5;241m*\u001b[39m\u001b[38;5;241m*\u001b[39m\u001b[38;5;241m2\u001b[39m)\n\u001b[1;32m     24\u001b[0m \u001b[38;5;66;03m#print(C)\u001b[39;00m\n\u001b[0;32m---> 25\u001b[0m inside\u001b[38;5;241m=\u001b[39m(T_b\u001b[38;5;241m*\u001b[39m\u001b[38;5;241m*\u001b[39m\u001b[38;5;241m2\u001b[39m\u001b[38;5;241m*\u001b[39mT_chi\u001b[38;5;241m/\u001b[39mm_chi)\u001b[38;5;241m+\u001b[39m(T_b\u001b[38;5;241m*\u001b[39m\u001b[38;5;241m*\u001b[39m\u001b[38;5;241m3\u001b[39m\u001b[38;5;241m/\u001b[39mm_b)\u001b[38;5;241m-\u001b[39m(T_chi\u001b[38;5;241m*\u001b[39m\u001b[38;5;241m*\u001b[39m\u001b[38;5;241m3\u001b[39m\u001b[38;5;241m/\u001b[39mm_chi)\u001b[38;5;241m-\u001b[39m(T_chi\u001b[38;5;241m*\u001b[39m\u001b[38;5;241m*\u001b[39m\u001b[38;5;241m2\u001b[39m\u001b[38;5;241m*\u001b[39mT_b\u001b[38;5;241m/\u001b[39mm_b)\u001b[38;5;241m-\u001b[39m(\u001b[38;5;241m2\u001b[39m\u001b[38;5;241m*\u001b[39mT_b\u001b[38;5;241m*\u001b[39mT_chi\u001b[38;5;241m*\u001b[39m\u001b[38;5;241m*\u001b[39m\u001b[38;5;241m2\u001b[39m\u001b[38;5;241m/\u001b[39mm_chi)\u001b[38;5;241m-\u001b[39m(\u001b[38;5;241m2\u001b[39m\u001b[38;5;241m*\u001b[39mT_b\u001b[38;5;241m*\u001b[39m\u001b[38;5;241m*\u001b[39m\u001b[38;5;241m2\u001b[39m\u001b[38;5;241m*\u001b[39mT_chi\u001b[38;5;241m/\u001b[39mm_b)\n\u001b[1;32m     26\u001b[0m \u001b[38;5;66;03m#print(T_b**3*inside)\u001b[39;00m\n\u001b[1;32m     27\u001b[0m \u001b[38;5;66;03m#print(C*1/const.c**6)\u001b[39;00m\n\u001b[1;32m     28\u001b[0m \u001b[38;5;28;01mreturn\u001b[39;00m T_b\u001b[38;5;241m*\u001b[39m\u001b[38;5;241m*\u001b[39m\u001b[38;5;241m3\u001b[39m\u001b[38;5;241m*\u001b[39m(inside) \u001b[38;5;241m-\u001b[39m C\u001b[38;5;241m*\u001b[39m(\u001b[38;5;241m1\u001b[39m\u001b[38;5;241m/\u001b[39mconst\u001b[38;5;241m.\u001b[39mc\u001b[38;5;241m*\u001b[39m\u001b[38;5;241m*\u001b[39m\u001b[38;5;241m6\u001b[39m)\n",
      "File \u001b[0;32m~/opt/anaconda3/envs/idm/lib/python3.11/site-packages/sympy/core/decorators.py:231\u001b[0m, in \u001b[0;36m_SympifyWrapper.make_wrapped.<locals>._func\u001b[0;34m(self, other)\u001b[0m\n\u001b[1;32m    229\u001b[0m \u001b[38;5;28;01mif\u001b[39;00m \u001b[38;5;129;01mnot\u001b[39;00m \u001b[38;5;28mhasattr\u001b[39m(other, \u001b[38;5;124m'\u001b[39m\u001b[38;5;124m_op_priority\u001b[39m\u001b[38;5;124m'\u001b[39m):\n\u001b[1;32m    230\u001b[0m     \u001b[38;5;28;01mtry\u001b[39;00m:\n\u001b[0;32m--> 231\u001b[0m         other \u001b[38;5;241m=\u001b[39m sympify(other, strict\u001b[38;5;241m=\u001b[39m\u001b[38;5;28;01mTrue\u001b[39;00m)\n\u001b[1;32m    232\u001b[0m     \u001b[38;5;28;01mexcept\u001b[39;00m SympifyError:\n\u001b[1;32m    233\u001b[0m         \u001b[38;5;28;01mreturn\u001b[39;00m retval\n",
      "File \u001b[0;32m~/opt/anaconda3/envs/idm/lib/python3.11/site-packages/sympy/core/sympify.py:432\u001b[0m, in \u001b[0;36msympify\u001b[0;34m(a, locals, convert_xor, strict, rational, evaluate)\u001b[0m\n\u001b[1;32m    430\u001b[0m \u001b[38;5;28;01mif\u001b[39;00m a\u001b[38;5;241m.\u001b[39mndim \u001b[38;5;241m==\u001b[39m \u001b[38;5;241m0\u001b[39m:\n\u001b[1;32m    431\u001b[0m     \u001b[38;5;28;01mtry\u001b[39;00m:\n\u001b[0;32m--> 432\u001b[0m         \u001b[38;5;28;01mreturn\u001b[39;00m sympify(a\u001b[38;5;241m.\u001b[39mitem(),\n\u001b[1;32m    433\u001b[0m                        \u001b[38;5;28mlocals\u001b[39m\u001b[38;5;241m=\u001b[39m\u001b[38;5;28mlocals\u001b[39m,\n\u001b[1;32m    434\u001b[0m                        convert_xor\u001b[38;5;241m=\u001b[39mconvert_xor,\n\u001b[1;32m    435\u001b[0m                        strict\u001b[38;5;241m=\u001b[39mstrict,\n\u001b[1;32m    436\u001b[0m                        rational\u001b[38;5;241m=\u001b[39mrational,\n\u001b[1;32m    437\u001b[0m                        evaluate\u001b[38;5;241m=\u001b[39mevaluate)\n\u001b[1;32m    438\u001b[0m     \u001b[38;5;28;01mexcept\u001b[39;00m SympifyError:\n\u001b[1;32m    439\u001b[0m         \u001b[38;5;28;01mpass\u001b[39;00m\n",
      "File \u001b[0;32m~/opt/anaconda3/envs/idm/lib/python3.11/site-packages/sympy/core/sympify.py:432\u001b[0m, in \u001b[0;36msympify\u001b[0;34m(a, locals, convert_xor, strict, rational, evaluate)\u001b[0m\n\u001b[1;32m    430\u001b[0m \u001b[38;5;28;01mif\u001b[39;00m a\u001b[38;5;241m.\u001b[39mndim \u001b[38;5;241m==\u001b[39m \u001b[38;5;241m0\u001b[39m:\n\u001b[1;32m    431\u001b[0m     \u001b[38;5;28;01mtry\u001b[39;00m:\n\u001b[0;32m--> 432\u001b[0m         \u001b[38;5;28;01mreturn\u001b[39;00m sympify(a\u001b[38;5;241m.\u001b[39mitem(),\n\u001b[1;32m    433\u001b[0m                        \u001b[38;5;28mlocals\u001b[39m\u001b[38;5;241m=\u001b[39m\u001b[38;5;28mlocals\u001b[39m,\n\u001b[1;32m    434\u001b[0m                        convert_xor\u001b[38;5;241m=\u001b[39mconvert_xor,\n\u001b[1;32m    435\u001b[0m                        strict\u001b[38;5;241m=\u001b[39mstrict,\n\u001b[1;32m    436\u001b[0m                        rational\u001b[38;5;241m=\u001b[39mrational,\n\u001b[1;32m    437\u001b[0m                        evaluate\u001b[38;5;241m=\u001b[39mevaluate)\n\u001b[1;32m    438\u001b[0m     \u001b[38;5;28;01mexcept\u001b[39;00m SympifyError:\n\u001b[1;32m    439\u001b[0m         \u001b[38;5;28;01mpass\u001b[39;00m\n",
      "    \u001b[0;31m[... skipping similar frames: sympify at line 432 (2964 times)]\u001b[0m\n",
      "File \u001b[0;32m~/opt/anaconda3/envs/idm/lib/python3.11/site-packages/sympy/core/sympify.py:432\u001b[0m, in \u001b[0;36msympify\u001b[0;34m(a, locals, convert_xor, strict, rational, evaluate)\u001b[0m\n\u001b[1;32m    430\u001b[0m \u001b[38;5;28;01mif\u001b[39;00m a\u001b[38;5;241m.\u001b[39mndim \u001b[38;5;241m==\u001b[39m \u001b[38;5;241m0\u001b[39m:\n\u001b[1;32m    431\u001b[0m     \u001b[38;5;28;01mtry\u001b[39;00m:\n\u001b[0;32m--> 432\u001b[0m         \u001b[38;5;28;01mreturn\u001b[39;00m sympify(a\u001b[38;5;241m.\u001b[39mitem(),\n\u001b[1;32m    433\u001b[0m                        \u001b[38;5;28mlocals\u001b[39m\u001b[38;5;241m=\u001b[39m\u001b[38;5;28mlocals\u001b[39m,\n\u001b[1;32m    434\u001b[0m                        convert_xor\u001b[38;5;241m=\u001b[39mconvert_xor,\n\u001b[1;32m    435\u001b[0m                        strict\u001b[38;5;241m=\u001b[39mstrict,\n\u001b[1;32m    436\u001b[0m                        rational\u001b[38;5;241m=\u001b[39mrational,\n\u001b[1;32m    437\u001b[0m                        evaluate\u001b[38;5;241m=\u001b[39mevaluate)\n\u001b[1;32m    438\u001b[0m     \u001b[38;5;28;01mexcept\u001b[39;00m SympifyError:\n\u001b[1;32m    439\u001b[0m         \u001b[38;5;28;01mpass\u001b[39;00m\n",
      "File \u001b[0;32m~/opt/anaconda3/envs/idm/lib/python3.11/site-packages/sympy/core/sympify.py:398\u001b[0m, in \u001b[0;36msympify\u001b[0;34m(a, locals, convert_xor, strict, rational, evaluate)\u001b[0m\n\u001b[1;32m    396\u001b[0m \u001b[38;5;28;01mif\u001b[39;00m _is_numpy_instance(a):\n\u001b[1;32m    397\u001b[0m     \u001b[38;5;28;01mimport\u001b[39;00m \u001b[38;5;21;01mnumpy\u001b[39;00m \u001b[38;5;28;01mas\u001b[39;00m \u001b[38;5;21;01mnp\u001b[39;00m\n\u001b[0;32m--> 398\u001b[0m     \u001b[38;5;28;01mif\u001b[39;00m np\u001b[38;5;241m.\u001b[39misscalar(a):\n\u001b[1;32m    399\u001b[0m         \u001b[38;5;28;01mreturn\u001b[39;00m _convert_numpy_types(a, \u001b[38;5;28mlocals\u001b[39m\u001b[38;5;241m=\u001b[39m\u001b[38;5;28mlocals\u001b[39m,\n\u001b[1;32m    400\u001b[0m             convert_xor\u001b[38;5;241m=\u001b[39mconvert_xor, strict\u001b[38;5;241m=\u001b[39mstrict, rational\u001b[38;5;241m=\u001b[39mrational,\n\u001b[1;32m    401\u001b[0m             evaluate\u001b[38;5;241m=\u001b[39mevaluate)\n\u001b[1;32m    403\u001b[0m _sympy_ \u001b[38;5;241m=\u001b[39m \u001b[38;5;28mgetattr\u001b[39m(a, \u001b[38;5;124m\"\u001b[39m\u001b[38;5;124m_sympy_\u001b[39m\u001b[38;5;124m\"\u001b[39m, \u001b[38;5;28;01mNone\u001b[39;00m)\n",
      "File \u001b[0;32m~/opt/anaconda3/envs/idm/lib/python3.11/site-packages/numpy/core/numeric.py:1933\u001b[0m, in \u001b[0;36misscalar\u001b[0;34m(element)\u001b[0m\n\u001b[1;32m   1855\u001b[0m \u001b[38;5;129m@set_module\u001b[39m(\u001b[38;5;124m'\u001b[39m\u001b[38;5;124mnumpy\u001b[39m\u001b[38;5;124m'\u001b[39m)\n\u001b[1;32m   1856\u001b[0m \u001b[38;5;28;01mdef\u001b[39;00m \u001b[38;5;21misscalar\u001b[39m(element):\n\u001b[1;32m   1857\u001b[0m \u001b[38;5;250m    \u001b[39m\u001b[38;5;124;03m\"\"\"\u001b[39;00m\n\u001b[1;32m   1858\u001b[0m \u001b[38;5;124;03m    Returns True if the type of `element` is a scalar type.\u001b[39;00m\n\u001b[1;32m   1859\u001b[0m \n\u001b[0;32m   (...)\u001b[0m\n\u001b[1;32m   1929\u001b[0m \n\u001b[1;32m   1930\u001b[0m \u001b[38;5;124;03m    \"\"\"\u001b[39;00m\n\u001b[1;32m   1931\u001b[0m     \u001b[38;5;28;01mreturn\u001b[39;00m (\u001b[38;5;28misinstance\u001b[39m(element, generic)\n\u001b[1;32m   1932\u001b[0m             \u001b[38;5;129;01mor\u001b[39;00m \u001b[38;5;28mtype\u001b[39m(element) \u001b[38;5;129;01min\u001b[39;00m ScalarType\n\u001b[0;32m-> 1933\u001b[0m             \u001b[38;5;129;01mor\u001b[39;00m \u001b[38;5;28misinstance\u001b[39m(element, numbers\u001b[38;5;241m.\u001b[39mNumber))\n",
      "File \u001b[0;32m<frozen abc>:119\u001b[0m, in \u001b[0;36m__instancecheck__\u001b[0;34m(cls, instance)\u001b[0m\n",
      "\u001b[0;31mRecursionError\u001b[0m: maximum recursion depth exceeded in comparison"
     ]
    }
   ],
   "source": [
    "T_b = Symbol('T_b')\n",
    "x0=1e-5\n",
    "nsolve(poly_T_b(T_b, p0, test_cluster), [p0, test_cluster], x0)"
   ]
  },
  {
   "cell_type": "code",
   "execution_count": 88,
   "id": "16f9e9bc",
   "metadata": {},
   "outputs": [],
   "source": [
    "# try np.poly1D\n",
    "cluster=test_cluster\n",
    "\n",
    "sigma0=np.float_power(10, p0[0])*u.cm**2\n",
    "m_chi = 1e-4*u.GeV\n",
    "f_chi=1\n",
    "n=0\n",
    "    \n",
    "norm=cluster.norm\n",
    "bh_mass=cluster.bh_mass()\n",
    "mu=cluster.mu\n",
    "m_b=cluster.m_b\n",
    "nb=(2 * cluster.n_e).to(u.m ** (-3))\n",
    "gamma=cluster.adiabatic_idx\n",
    "rho_chi=cluster.rho_dm * f_chi\n",
    "rho_b = cluster.rho_b\n",
    "V=cluster.volume\n",
    "efficiency=cluster.epsilon\n",
    "T_chi = cluster.virial_temperature(m_chi)\n",
    "accretion_factors=(norm*4*np.pi*(const.G*bh_mass)**2)\n",
    "plasma_entropy_factors=(((mu*m_b)**(5/2)*nb)/gamma**(3/2)) #no k_b because T_b in GeV\n",
    "cooling_factors=3*rho_chi*rho_b*V*c(n)*const.c \n",
    "B=(efficiency*accretion_factors*plasma_entropy_factors)/(cooling_factors)\n",
    "C=(B**2 * (m_chi + m_b)**4)/(sigma0**2) *(1/const.c**6)\n",
    "\n"
   ]
  },
  {
   "cell_type": "code",
   "execution_count": 89,
   "id": "ee1d4661",
   "metadata": {},
   "outputs": [],
   "source": [
    "sigma0=1e-20*u.cm**2\n",
    "m_chi=1e-4*u.GeV\n",
    "\n",
    "other_c = ((B * (m_chi + m_b)**2)/(sigma0) *(1/const.c**3)).to(u.GeV**(5/2))\n",
    "def fun(T_b):\n",
    "    T_b=T_b*u.GeV\n",
    "    #print(other_c)\n",
    "    #print(T_b, T_chi, m_b, m_chi)\n",
    "    #print((T_b-T_chi)*(T_chi/m_chi + T_b/m_b)**(1/2) * T_b**(3/2))\n",
    "    return (T_b-T_chi)*(T_chi/m_chi + T_b/m_b)**(1/2) * T_b**(3/2) - other_c"
   ]
  },
  {
   "cell_type": "code",
   "execution_count": 90,
   "id": "5067b72b",
   "metadata": {},
   "outputs": [
    {
     "data": {
      "text/plain": [
       "array([4.2852027e-06])"
      ]
     },
     "execution_count": 90,
     "metadata": {},
     "output_type": "execute_result"
    }
   ],
   "source": [
    "\n",
    "x0=1e-5\n",
    "solution = root(fun,x0).x\n",
    "solution\n"
   ]
  },
  {
   "cell_type": "code",
   "execution_count": 91,
   "id": "53ceadc9",
   "metadata": {},
   "outputs": [
    {
     "ename": "UnitConversionError",
     "evalue": "Can only apply 'subtract' function to quantities with compatible dimensions",
     "output_type": "error",
     "traceback": [
      "\u001b[0;31m---------------------------------------------------------------------------\u001b[0m",
      "\u001b[0;31mUnitConversionError\u001b[0m                       Traceback (most recent call last)",
      "File \u001b[0;32m~/opt/anaconda3/envs/idm/lib/python3.11/site-packages/astropy/units/quantity_helper/helpers.py:68\u001b[0m, in \u001b[0;36mget_converters_and_unit\u001b[0;34m(f, unit1, unit2)\u001b[0m\n\u001b[1;32m     67\u001b[0m \u001b[38;5;28;01mtry\u001b[39;00m:\n\u001b[0;32m---> 68\u001b[0m     converters[changeable] \u001b[38;5;241m=\u001b[39m get_converter(unit2, unit1)\n\u001b[1;32m     69\u001b[0m \u001b[38;5;28;01mexcept\u001b[39;00m UnitsError:\n",
      "File \u001b[0;32m~/opt/anaconda3/envs/idm/lib/python3.11/site-packages/astropy/units/quantity_helper/helpers.py:32\u001b[0m, in \u001b[0;36mget_converter\u001b[0;34m(from_unit, to_unit)\u001b[0m\n\u001b[1;32m     30\u001b[0m \u001b[38;5;250m\u001b[39m\u001b[38;5;124;03m\"\"\"Like Unit._get_converter, except returns None if no scaling is needed,\u001b[39;00m\n\u001b[1;32m     31\u001b[0m \u001b[38;5;124;03mi.e., if the inferred scale is unity.\"\"\"\u001b[39;00m\n\u001b[0;32m---> 32\u001b[0m converter \u001b[38;5;241m=\u001b[39m from_unit\u001b[38;5;241m.\u001b[39m_get_converter(to_unit)\n\u001b[1;32m     33\u001b[0m \u001b[38;5;28;01mreturn\u001b[39;00m \u001b[38;5;28;01mNone\u001b[39;00m \u001b[38;5;28;01mif\u001b[39;00m converter \u001b[38;5;129;01mis\u001b[39;00m unit_scale_converter \u001b[38;5;28;01melse\u001b[39;00m converter\n",
      "File \u001b[0;32m~/opt/anaconda3/envs/idm/lib/python3.11/site-packages/astropy/units/core.py:1061\u001b[0m, in \u001b[0;36mUnitBase._get_converter\u001b[0;34m(self, other, equivalencies)\u001b[0m\n\u001b[1;32m   1059\u001b[0m                 \u001b[38;5;28;01mpass\u001b[39;00m\n\u001b[0;32m-> 1061\u001b[0m \u001b[38;5;28;01mraise\u001b[39;00m exc\n",
      "File \u001b[0;32m~/opt/anaconda3/envs/idm/lib/python3.11/site-packages/astropy/units/core.py:1046\u001b[0m, in \u001b[0;36mUnitBase._get_converter\u001b[0;34m(self, other, equivalencies)\u001b[0m\n\u001b[1;32m   1045\u001b[0m \u001b[38;5;28;01mtry\u001b[39;00m:\n\u001b[0;32m-> 1046\u001b[0m     \u001b[38;5;28;01mreturn\u001b[39;00m \u001b[38;5;28mself\u001b[39m\u001b[38;5;241m.\u001b[39m_apply_equivalencies(\n\u001b[1;32m   1047\u001b[0m         \u001b[38;5;28mself\u001b[39m, other, \u001b[38;5;28mself\u001b[39m\u001b[38;5;241m.\u001b[39m_normalize_equivalencies(equivalencies))\n\u001b[1;32m   1048\u001b[0m \u001b[38;5;28;01mexcept\u001b[39;00m UnitsError \u001b[38;5;28;01mas\u001b[39;00m exc:\n\u001b[1;32m   1049\u001b[0m     \u001b[38;5;66;03m# Last hope: maybe other knows how to do it?\u001b[39;00m\n\u001b[1;32m   1050\u001b[0m     \u001b[38;5;66;03m# We assume the equivalencies have the unit itself as first item.\u001b[39;00m\n\u001b[1;32m   1051\u001b[0m     \u001b[38;5;66;03m# TODO: maybe better for other to have a `_back_converter` method?\u001b[39;00m\n",
      "File \u001b[0;32m~/opt/anaconda3/envs/idm/lib/python3.11/site-packages/astropy/units/core.py:1022\u001b[0m, in \u001b[0;36mUnitBase._apply_equivalencies\u001b[0;34m(self, unit, other, equivalencies)\u001b[0m\n\u001b[1;32m   1020\u001b[0m other_str \u001b[38;5;241m=\u001b[39m get_err_str(other)\n\u001b[0;32m-> 1022\u001b[0m \u001b[38;5;28;01mraise\u001b[39;00m UnitConversionError(\n\u001b[1;32m   1023\u001b[0m     \u001b[38;5;124mf\u001b[39m\u001b[38;5;124m\"\u001b[39m\u001b[38;5;132;01m{\u001b[39;00munit_str\u001b[38;5;132;01m}\u001b[39;00m\u001b[38;5;124m and \u001b[39m\u001b[38;5;132;01m{\u001b[39;00mother_str\u001b[38;5;132;01m}\u001b[39;00m\u001b[38;5;124m are not convertible\u001b[39m\u001b[38;5;124m\"\u001b[39m)\n",
      "\u001b[0;31mUnitConversionError\u001b[0m: 'GeV' (energy/torque/work) and 'GeV2' are not convertible",
      "\nDuring handling of the above exception, another exception occurred:\n",
      "\u001b[0;31mUnitConversionError\u001b[0m                       Traceback (most recent call last)",
      "Cell \u001b[0;32mIn[91], line 1\u001b[0m\n\u001b[0;32m----> 1\u001b[0m plt\u001b[38;5;241m.\u001b[39mloglog(T_bs, fun(T_bs))\n",
      "Cell \u001b[0;32mIn[89], line 10\u001b[0m, in \u001b[0;36mfun\u001b[0;34m(T_b)\u001b[0m\n\u001b[1;32m      6\u001b[0m T_b\u001b[38;5;241m=\u001b[39mT_b\u001b[38;5;241m*\u001b[39mu\u001b[38;5;241m.\u001b[39mGeV\n\u001b[1;32m      7\u001b[0m \u001b[38;5;66;03m#print(other_c)\u001b[39;00m\n\u001b[1;32m      8\u001b[0m \u001b[38;5;66;03m#print(T_b, T_chi, m_b, m_chi)\u001b[39;00m\n\u001b[1;32m      9\u001b[0m \u001b[38;5;66;03m#print((T_b-T_chi)*(T_chi/m_chi + T_b/m_b)**(1/2) * T_b**(3/2))\u001b[39;00m\n\u001b[0;32m---> 10\u001b[0m \u001b[38;5;28;01mreturn\u001b[39;00m (T_b\u001b[38;5;241m-\u001b[39mT_chi)\u001b[38;5;241m*\u001b[39m(T_chi\u001b[38;5;241m/\u001b[39mm_chi \u001b[38;5;241m+\u001b[39m T_b\u001b[38;5;241m/\u001b[39mm_b)\u001b[38;5;241m*\u001b[39m\u001b[38;5;241m*\u001b[39m(\u001b[38;5;241m1\u001b[39m\u001b[38;5;241m/\u001b[39m\u001b[38;5;241m2\u001b[39m) \u001b[38;5;241m*\u001b[39m T_b\u001b[38;5;241m*\u001b[39m\u001b[38;5;241m*\u001b[39m(\u001b[38;5;241m3\u001b[39m\u001b[38;5;241m/\u001b[39m\u001b[38;5;241m2\u001b[39m) \u001b[38;5;241m-\u001b[39m other_c\n",
      "File \u001b[0;32m~/opt/anaconda3/envs/idm/lib/python3.11/site-packages/astropy/units/quantity.py:591\u001b[0m, in \u001b[0;36mQuantity.__array_ufunc__\u001b[0;34m(self, function, method, *inputs, **kwargs)\u001b[0m\n\u001b[1;32m    569\u001b[0m \u001b[38;5;250m\u001b[39m\u001b[38;5;124;03m\"\"\"Wrap numpy ufuncs, taking care of units.\u001b[39;00m\n\u001b[1;32m    570\u001b[0m \n\u001b[1;32m    571\u001b[0m \u001b[38;5;124;03mParameters\u001b[39;00m\n\u001b[0;32m   (...)\u001b[0m\n\u001b[1;32m    585\u001b[0m \u001b[38;5;124;03m    Results of the ufunc, with the unit set properly.\u001b[39;00m\n\u001b[1;32m    586\u001b[0m \u001b[38;5;124;03m\"\"\"\u001b[39;00m\n\u001b[1;32m    587\u001b[0m \u001b[38;5;66;03m# Determine required conversion functions -- to bring the unit of the\u001b[39;00m\n\u001b[1;32m    588\u001b[0m \u001b[38;5;66;03m# input to that expected (e.g., radian for np.sin), or to get\u001b[39;00m\n\u001b[1;32m    589\u001b[0m \u001b[38;5;66;03m# consistent units between two inputs (e.g., in np.add) --\u001b[39;00m\n\u001b[1;32m    590\u001b[0m \u001b[38;5;66;03m# and the unit of the result (or tuple of units for nout > 1).\u001b[39;00m\n\u001b[0;32m--> 591\u001b[0m converters, unit \u001b[38;5;241m=\u001b[39m converters_and_unit(function, method, \u001b[38;5;241m*\u001b[39minputs)\n\u001b[1;32m    593\u001b[0m out \u001b[38;5;241m=\u001b[39m kwargs\u001b[38;5;241m.\u001b[39mget(\u001b[38;5;124m'\u001b[39m\u001b[38;5;124mout\u001b[39m\u001b[38;5;124m'\u001b[39m, \u001b[38;5;28;01mNone\u001b[39;00m)\n\u001b[1;32m    594\u001b[0m \u001b[38;5;66;03m# Avoid loop back by turning any Quantity output into array views.\u001b[39;00m\n",
      "File \u001b[0;32m~/opt/anaconda3/envs/idm/lib/python3.11/site-packages/astropy/units/quantity_helper/converters.py:174\u001b[0m, in \u001b[0;36mconverters_and_unit\u001b[0;34m(function, method, *args)\u001b[0m\n\u001b[1;32m    171\u001b[0m units \u001b[38;5;241m=\u001b[39m [\u001b[38;5;28mgetattr\u001b[39m(arg, \u001b[38;5;124m'\u001b[39m\u001b[38;5;124munit\u001b[39m\u001b[38;5;124m'\u001b[39m, \u001b[38;5;28;01mNone\u001b[39;00m) \u001b[38;5;28;01mfor\u001b[39;00m arg \u001b[38;5;129;01min\u001b[39;00m args]\n\u001b[1;32m    173\u001b[0m \u001b[38;5;66;03m# Determine possible conversion functions, and the result unit.\u001b[39;00m\n\u001b[0;32m--> 174\u001b[0m converters, result_unit \u001b[38;5;241m=\u001b[39m ufunc_helper(function, \u001b[38;5;241m*\u001b[39munits)\n\u001b[1;32m    176\u001b[0m \u001b[38;5;28;01mif\u001b[39;00m \u001b[38;5;28many\u001b[39m(converter \u001b[38;5;129;01mis\u001b[39;00m \u001b[38;5;28;01mFalse\u001b[39;00m \u001b[38;5;28;01mfor\u001b[39;00m converter \u001b[38;5;129;01min\u001b[39;00m converters):\n\u001b[1;32m    177\u001b[0m     \u001b[38;5;66;03m# for multi-argument ufuncs with a quantity and a non-quantity,\u001b[39;00m\n\u001b[1;32m    178\u001b[0m     \u001b[38;5;66;03m# the quantity normally needs to be dimensionless, *except*\u001b[39;00m\n\u001b[0;32m   (...)\u001b[0m\n\u001b[1;32m    181\u001b[0m     \u001b[38;5;66;03m# can just have the unit of the quantity\u001b[39;00m\n\u001b[1;32m    182\u001b[0m     \u001b[38;5;66;03m# (this allows, e.g., `q > 0.` independent of unit)\u001b[39;00m\n\u001b[1;32m    183\u001b[0m     \u001b[38;5;28;01mtry\u001b[39;00m:\n\u001b[1;32m    184\u001b[0m         \u001b[38;5;66;03m# Don't fold this loop in the test above: this rare case\u001b[39;00m\n\u001b[1;32m    185\u001b[0m         \u001b[38;5;66;03m# should not make the common case slower.\u001b[39;00m\n",
      "File \u001b[0;32m~/opt/anaconda3/envs/idm/lib/python3.11/site-packages/astropy/units/quantity_helper/helpers.py:70\u001b[0m, in \u001b[0;36mget_converters_and_unit\u001b[0;34m(f, unit1, unit2)\u001b[0m\n\u001b[1;32m     68\u001b[0m     converters[changeable] \u001b[38;5;241m=\u001b[39m get_converter(unit2, unit1)\n\u001b[1;32m     69\u001b[0m \u001b[38;5;28;01mexcept\u001b[39;00m UnitsError:\n\u001b[0;32m---> 70\u001b[0m     \u001b[38;5;28;01mraise\u001b[39;00m UnitConversionError(\n\u001b[1;32m     71\u001b[0m         \u001b[38;5;124m\"\u001b[39m\u001b[38;5;124mCan only apply \u001b[39m\u001b[38;5;124m'\u001b[39m\u001b[38;5;132;01m{}\u001b[39;00m\u001b[38;5;124m'\u001b[39m\u001b[38;5;124m function to quantities \u001b[39m\u001b[38;5;124m\"\u001b[39m\n\u001b[1;32m     72\u001b[0m         \u001b[38;5;124m\"\u001b[39m\u001b[38;5;124mwith compatible dimensions\u001b[39m\u001b[38;5;124m\"\u001b[39m\n\u001b[1;32m     73\u001b[0m         \u001b[38;5;241m.\u001b[39mformat(f\u001b[38;5;241m.\u001b[39m\u001b[38;5;18m__name__\u001b[39m))\n\u001b[1;32m     75\u001b[0m \u001b[38;5;28;01mreturn\u001b[39;00m converters, unit1\n",
      "\u001b[0;31mUnitConversionError\u001b[0m: Can only apply 'subtract' function to quantities with compatible dimensions"
     ]
    }
   ],
   "source": [
    "plt.loglog(T_bs, fun(T_bs))"
   ]
  },
  {
   "cell_type": "code",
   "execution_count": 92,
   "id": "eb323407",
   "metadata": {},
   "outputs": [],
   "source": [
    "c6 = (1/m_b).to(1/u.GeV).value\n",
    "c5 = (T_chi/m_chi - 2*T_chi/m_b).to(u.GeV/u.GeV).value\n",
    "c4 = (-T_chi**2/m_b - 2*T_chi**2/m_chi).to(u.GeV).value\n",
    "c3 = (-T_chi**3/m_chi).value\n",
    "c2 = 0\n",
    "c1 = 0\n",
    "c0 = (-C).to(u.GeV**5).value"
   ]
  },
  {
   "cell_type": "code",
   "execution_count": 93,
   "id": "c34bed6e",
   "metadata": {},
   "outputs": [
    {
     "data": {
      "text/plain": [
       "(1.0657889247888948,\n",
       " 9.82405206311776e-07,\n",
       " -1.9311660386019664e-16,\n",
       " -9.487454704266106e-27,\n",
       " -8.01879798964887e-33)"
      ]
     },
     "execution_count": 93,
     "metadata": {},
     "output_type": "execute_result"
    }
   ],
   "source": [
    "c6, c5, c4, c3, c0"
   ]
  },
  {
   "cell_type": "code",
   "execution_count": 94,
   "id": "94b25efc",
   "metadata": {},
   "outputs": [
    {
     "data": {
      "text/plain": [
       "array([-4.59494287e-06+0.00000000e+00j, -2.37287948e-06+3.82096134e-06j,\n",
       "       -2.37287948e-06-3.82096134e-06j,  2.06686787e-06+3.82308518e-06j,\n",
       "        2.06686787e-06-3.82308518e-06j,  4.28520270e-06+0.00000000e+00j])"
      ]
     },
     "execution_count": 94,
     "metadata": {},
     "output_type": "execute_result"
    }
   ],
   "source": [
    "np.poly1d([c6, c5, c4, c3, c2, c1, c0]).roots"
   ]
  },
  {
   "cell_type": "code",
   "execution_count": 95,
   "id": "b95d6215",
   "metadata": {},
   "outputs": [
    {
     "data": {
      "text/plain": [
       "array([-0.74951283+0.27856512j, -0.74951283-0.27856512j,\n",
       "       -0.06859525+0.90061214j, -0.06859525-0.90061214j,\n",
       "        0.40144142+0.39796191j,  0.40144142-0.39796191j])"
      ]
     },
     "execution_count": 95,
     "metadata": {},
     "output_type": "execute_result"
    }
   ],
   "source": [
    "coefficients=[6, 5, 4, 3, 0, 0, 1]\n",
    "np.roots(coefficients)"
   ]
  },
  {
   "cell_type": "code",
   "execution_count": 96,
   "id": "b3889cc4",
   "metadata": {},
   "outputs": [
    {
     "data": {
      "text/plain": [
       "<cluster.Cluster at 0x132651350>"
      ]
     },
     "execution_count": 96,
     "metadata": {},
     "output_type": "execute_result"
    }
   ],
   "source": [
    "test_cluster"
   ]
  },
  {
   "cell_type": "code",
   "execution_count": 97,
   "id": "b2979d3b",
   "metadata": {},
   "outputs": [
    {
     "data": {
      "text/latex": [
       "$4.2852027 \\times 10^{-6} \\; \\mathrm{GeV}$"
      ],
      "text/plain": [
       "<Quantity 4.2852027e-06 GeV>"
      ]
     },
     "execution_count": 97,
     "metadata": {},
     "output_type": "execute_result"
    }
   ],
   "source": [
    "p0=[-20, -4]\n",
    "test_cluster.pred_T_b(p0)"
   ]
  },
  {
   "cell_type": "code",
   "execution_count": 98,
   "id": "84019c76",
   "metadata": {},
   "outputs": [],
   "source": [
    "m_chi = -1\n",
    "sigma_0s = np.linspace(-40, -10)\n",
    "p0s = [(s0, m_chi) for s0 in sigma_0s]\n"
   ]
  },
  {
   "cell_type": "code",
   "execution_count": 99,
   "id": "b86757ff",
   "metadata": {},
   "outputs": [
    {
     "data": {
      "text/plain": [
       "[0.12801,\n",
       " 0.12801,\n",
       " 0.12801,\n",
       " 0.12801,\n",
       " 0.12801,\n",
       " 0.12801,\n",
       " 1.3108125000720772,\n",
       " 0.8193301142667839,\n",
       " 0.5121264969834578,\n",
       " 0.3201072808373592,\n",
       " 0.20008467272028005,\n",
       " 0.12506391829613353,\n",
       " 0.07817180619619145,\n",
       " 0.04886164803984911,\n",
       " 0.030541181490915476,\n",
       " 0.019089878745759334,\n",
       " 0.011932182504943253,\n",
       " 0.007458227305082236,\n",
       " 0.004661758379465478,\n",
       " 0.002913810961872375,\n",
       " 0.0018212473604069758,\n",
       " 0.0011383348212056859,\n",
       " 0.0007114768134223329,\n",
       " 0.00044466703257732885,\n",
       " 0.0002778962470050366,\n",
       " 0.00017365538673871944,\n",
       " 0.00010849923169856918,\n",
       " 6.777325515369287e-05,\n",
       " 4.23176158518805e-05,\n",
       " 2.6406979949000646e-05,\n",
       " 1.6462807975604753e-05,\n",
       " 1.0248477424058999e-05,\n",
       " 6.366202001606335e-06,\n",
       " 3.942575587546776e-06,\n",
       " 2.43197727679272e-06,\n",
       " 1.4935759349179437e-06,\n",
       " 9.142736469007123e-07,\n",
       " 5.604150327125318e-07,\n",
       " 3.477451268277632e-07,\n",
       " 2.2310426354817342e-07,\n",
       " 1.5342638493969825e-07,\n",
       " 1.1845149854929046e-07,\n",
       " 1.042722303732689e-07,\n",
       " 9.983174351463889e-08,\n",
       " 9.865206035324765e-08,\n",
       " 9.835729403408251e-08,\n",
       " 9.82848942781079e-08,\n",
       " 9.826718877560505e-08,\n",
       " 9.826286349711371e-08,\n",
       " 9.82618071515817e-08]"
      ]
     },
     "execution_count": 99,
     "metadata": {},
     "output_type": "execute_result"
    }
   ],
   "source": [
    "pred_Tbs = [test_cluster.pred_T_b(p).value for p in p0s]\n",
    "pred_Tbs"
   ]
  },
  {
   "cell_type": "code",
   "execution_count": 100,
   "id": "1c16c7eb",
   "metadata": {},
   "outputs": [
    {
     "data": {
      "text/plain": [
       "Text(0, 0.5, 'predicted T_b (GeV)')"
      ]
     },
     "execution_count": 100,
     "metadata": {},
     "output_type": "execute_result"
    },
    {
     "data": {
      "image/png": "[encoded data removed]",
      "text/plain": [
       "<Figure size 640x480 with 1 Axes>"
      ]
     },
     "metadata": {},
     "output_type": "display_data"
    }
   ],
   "source": [
    "plt.plot(sigma_0s, pred_Tbs)\n",
    "plt.yscale('log')\n",
    "plt.xlabel('log(sigma0(cm^2)/cm^2)')\n",
    "plt.ylabel('predicted T_b (GeV)')"
   ]
  },
  {
   "cell_type": "code",
   "execution_count": 101,
   "id": "9af7ef44",
   "metadata": {},
   "outputs": [
    {
     "data": {
      "text/plain": [
       "array([-10.        ,  -9.79591837,  -9.59183673,  -9.3877551 ,\n",
       "        -9.18367347,  -8.97959184,  -8.7755102 ,  -8.57142857,\n",
       "        -8.36734694,  -8.16326531,  -7.95918367,  -7.75510204,\n",
       "        -7.55102041,  -7.34693878,  -7.14285714,  -6.93877551,\n",
       "        -6.73469388,  -6.53061224,  -6.32653061,  -6.12244898,\n",
       "        -5.91836735,  -5.71428571,  -5.51020408,  -5.30612245,\n",
       "        -5.10204082,  -4.89795918,  -4.69387755,  -4.48979592,\n",
       "        -4.28571429,  -4.08163265,  -3.87755102,  -3.67346939,\n",
       "        -3.46938776,  -3.26530612,  -3.06122449,  -2.85714286,\n",
       "        -2.65306122,  -2.44897959,  -2.24489796,  -2.04081633,\n",
       "        -1.83673469,  -1.63265306,  -1.42857143,  -1.2244898 ,\n",
       "        -1.02040816,  -0.81632653,  -0.6122449 ,  -0.40816327,\n",
       "        -0.20408163,   0.        ])"
      ]
     },
     "execution_count": 101,
     "metadata": {},
     "output_type": "execute_result"
    }
   ],
   "source": [
    "m_chis = np.linspace(-10, 0)\n",
    "sigma_0 = -20\n",
    "p0ms = [(sigma_0, m) for m in m_chis]\n",
    "m_chis"
   ]
  },
  {
   "cell_type": "code",
   "execution_count": 102,
   "id": "e7764453",
   "metadata": {},
   "outputs": [
    {
     "data": {
      "text/plain": [
       "Text(0, 0.5, 'predicted T_b (GeV)')"
      ]
     },
     "execution_count": 102,
     "metadata": {},
     "output_type": "execute_result"
    },
    {
     "data": {
      "image/png": "[encoded data removed]",
      "text/plain": [
       "<Figure size 640x480 with 1 Axes>"
      ]
     },
     "metadata": {},
     "output_type": "display_data"
    }
   ],
   "source": [
    "pred_Tbs = [test_cluster.pred_T_b(p).value for p in p0ms]\n",
    "pred_Tbs\n",
    "plt.plot(m_chis, pred_Tbs)\n",
    "plt.yscale('log')\n",
    "plt.xlabel('log(m_chi(GeV)/GeV)')\n",
    "plt.ylabel('predicted T_b (GeV)')\n"
   ]
  },
  {
   "cell_type": "code",
   "execution_count": null,
   "id": "096b1034",
   "metadata": {},
   "outputs": [],
   "source": []
  }
 ],
 "metadata": {
  "kernelspec": {
   "display_name": "Python 3 (ipykernel)",
   "language": "python",
   "name": "python3"
  },
  "language_info": {
   "codemirror_mode": {
    "name": "ipython",
    "version": 3
   },
   "file_extension": ".py",
   "mimetype": "text/x-python",
   "name": "python",
   "nbconvert_exporter": "python",
   "pygments_lexer": "ipython3",
   "version": "3.11.5"
  }
 },
 "nbformat": 4,
 "nbformat_minor": 5
}
