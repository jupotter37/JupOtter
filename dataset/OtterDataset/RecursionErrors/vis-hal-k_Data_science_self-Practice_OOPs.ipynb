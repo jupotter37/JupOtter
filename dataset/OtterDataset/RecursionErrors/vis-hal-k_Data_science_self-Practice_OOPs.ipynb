{
  "cells": [
    {
      "cell_type": "markdown",
      "metadata": {
        "id": "view-in-github",
        "colab_type": "text"
      },
      "source": [
        "<a href=\"https://colab.research.google.com/github/vis-hal-k/Data_science_self-Practice/blob/main/OOPs.ipynb\" target=\"_parent\"><img src=\"https://colab.research.google.com/assets/colab-badge.svg\" alt=\"Open In Colab\"/></a>"
      ]
    },
    {
      "cell_type": "code",
      "execution_count": null,
      "metadata": {
        "id": "ybWiTjXQUTfE"
      },
      "outputs": [],
      "source": []
    },
    {
      "cell_type": "code",
      "execution_count": null,
      "metadata": {
        "colab": {
          "base_uri": "https://localhost:8080/"
        },
        "id": "ZTUghgtPX6ZB",
        "outputId": "fef7324a-3d6b-4ede-957c-9ce2e0bcf350"
      },
      "outputs": [
        {
          "name": "stdout",
          "output_type": "stream",
          "text": [
            "calling constructor\n",
            "135680803150224\n"
          ]
        }
      ],
      "source": [
        "class Atm:\n",
        "  def __init__(self):\n",
        "    print(\"calling constructor\")\n",
        "    print(id(self))\n",
        "  def pin(self):\n",
        "    pass\n",
        "\n",
        "obj = Atm() # automatically call __init__ function when we just create an object."
      ]
    },
    {
      "cell_type": "code",
      "execution_count": null,
      "metadata": {
        "colab": {
          "base_uri": "https://localhost:8080/"
        },
        "id": "YodUXgjIYQLx",
        "outputId": "af93b3c1-71a8-4ca2-bde1-c3a777601a07"
      },
      "outputs": [
        {
          "data": {
            "text/plain": [
              "135680803150224"
            ]
          },
          "execution_count": 2,
          "metadata": {},
          "output_type": "execute_result"
        }
      ],
      "source": [
        "id(obj)"
      ]
    },
    {
      "cell_type": "markdown",
      "metadata": {
        "id": "VL9B_EppYwnX"
      },
      "source": [
        "The id of object is same as the id of self.\n",
        "\n",
        "Here Important to understand one thing, when we make any object like \"obj = Atm () and then if we call any function like obj.pin() in this by default you passed one argument that is itself this object \"obj\".   "
      ]
    },
    {
      "cell_type": "code",
      "execution_count": null,
      "metadata": {
        "colab": {
          "base_uri": "https://localhost:8080/"
        },
        "id": "ZutQEwQsaRkj",
        "outputId": "e35f2be3-5393-4604-ead4-455eae6ab204"
      },
      "outputs": [
        {
          "name": "stdout",
          "output_type": "stream",
          "text": [
            "Enter pin: 21\n",
            "Enter pin: 23\n",
            "44\n"
          ]
        }
      ],
      "source": [
        "# prompt: magic methods in python\n",
        "\n",
        "class Atm:\n",
        "  def __init__(self):\n",
        "    self.pin = int(input(\"Enter pin: \"))\n",
        "  def __add__(self,other):\n",
        "    return self.pin + other.pin # This will work if pin is an attribute\n",
        "    pass\n",
        "\n",
        "\n",
        "obj = Atm()\n",
        "obj1 = Atm()\n",
        "print(obj+obj1)\n"
      ]
    },
    {
      "cell_type": "code",
      "execution_count": null,
      "metadata": {
        "colab": {
          "base_uri": "https://localhost:8080/"
        },
        "id": "xKLnWLqlevsg",
        "outputId": "0f8985e2-83d9-4daa-afdf-6ac75e3c089e"
      },
      "outputs": [
        {
          "name": "stdout",
          "output_type": "stream",
          "text": [
            "The fraction is 1/2 The fraction is 3/4\n",
            "The sum is 10/8\n",
            "The difference is -2/8\n",
            "The product is 3/8\n",
            "The quotient is 4/6\n"
          ]
        }
      ],
      "source": [
        "class Fraction:\n",
        "  def __init__(self,n,d):\n",
        "    self.num =n\n",
        "    self.den =d\n",
        "  def __str__(self):\n",
        "    return f\"The fraction is {self.num}/{self.den}\"\n",
        "  def __add__(self,other):\n",
        "    temp_num = self.num*other.den + other.num*self.den\n",
        "    temp_den = self.den*other.den\n",
        "    return f\"The sum is {temp_num}/{temp_den}\"\n",
        "  def __sub__(self,other):\n",
        "    temp_num = self.num*other.den - other.num*self.den\n",
        "    temp_den = self.den*other.den\n",
        "    return f\"The difference is {temp_num}/{temp_den}\"\n",
        "  def __mul__(self,other):\n",
        "    temp_num = self.num*other.num\n",
        "    temp_den = self.den*other.den\n",
        "    return f\"The product is {temp_num}/{temp_den}\"\n",
        "  def __truediv__(self,other):\n",
        "    temp_num = self.num*other.den\n",
        "    temp_den = self.den*other.num\n",
        "    return f\"The quotient is {temp_num}/{temp_den}\"\n",
        "  def fiond(self):\n",
        "    pass\n",
        "\n",
        "f1 = Fraction(1,2)\n",
        "f2 = Fraction(3,4)\n",
        "print(f1,f2)\n",
        "print(f1+f2)\n",
        "print(f1-f2)\n",
        "print(f1*f2)\n",
        "print(f1/f2)"
      ]
    },
    {
      "cell_type": "code",
      "execution_count": null,
      "metadata": {
        "colab": {
          "background_save": true,
          "base_uri": "https://localhost:8080/"
        },
        "id": "d8rvp02fu_M7",
        "outputId": "c5696ec1-ecf6-4c97-9918-d8e9418fa1e2"
      },
      "outputs": [
        {
          "data": {
            "text/plain": [
              "10"
            ]
          },
          "execution_count": 3,
          "metadata": {},
          "output_type": "execute_result"
        }
      ],
      "source": [
        "# Encapsulation\n",
        "\n",
        "class xyz:\n",
        "  def __init__(self,a,b):\n",
        "    self.a = a\n",
        "    self.b = b\n",
        "  def pin(self):\n",
        "    pass\n",
        "obj = xyz(10,\"age\")\n",
        "obj.a\n"
      ]
    },
    {
      "cell_type": "code",
      "execution_count": null,
      "metadata": {
        "id": "bbiLE5auQ8J2",
        "colab": {
          "base_uri": "https://localhost:8080/"
        },
        "outputId": "d36e117e-cd5a-4a16-a84e-cb716858dc62"
      },
      "outputs": [
        {
          "output_type": "stream",
          "name": "stdout",
          "text": [
            "135248278710320\n",
            "vishal\n",
            "135248278710320\n",
            "Nitish\n",
            "Nitish\n"
          ]
        }
      ],
      "source": [
        "# hands on pass by reference.\n",
        "class Customer:\n",
        "  def __init__(self,name):\n",
        "    self.name = name\n",
        "\n",
        "  def greet(customer):\n",
        "    print(id(customer))\n",
        "    customer.name = \"Nitish\" # Here I change the name.\n",
        "    print(customer.name)\n",
        "    # print(customer.name)\n",
        "    # print(id(customer))\n",
        "\n",
        "\n",
        "cust = Customer(\"vishal\")\n",
        "print(id(cust))\n",
        "print(cust.name)\n",
        "cust.greet()\n",
        "print(cust.name)\n"
      ]
    },
    {
      "cell_type": "code",
      "source": [
        "def change(L):\n",
        "  L.append(5)\n",
        "  print(id(L))\n",
        "L1= [1,2,3,4]\n",
        "print(id(L1))\n",
        "print(L1)\n",
        "change(L1)\n",
        "# print(id(L1))\n",
        "print(L1)"
      ],
      "metadata": {
        "colab": {
          "base_uri": "https://localhost:8080/"
        },
        "id": "Afo2e5O8GO-g",
        "outputId": "39503cf3-d6cb-4829-ba7a-6f87a6f1d70c"
      },
      "execution_count": null,
      "outputs": [
        {
          "output_type": "stream",
          "name": "stdout",
          "text": [
            "135248267612352\n",
            "[1, 2, 3, 4]\n",
            "135248267612352\n",
            "[1, 2, 3, 4, 5]\n"
          ]
        }
      ]
    },
    {
      "cell_type": "markdown",
      "source": [
        "Here we can see the If we send L1 in function and then done some changes in L1 (append) then the L1 got permanent changes.\n",
        "\n",
        "So to prevent from this I will didnt send the list I just send the some part of list by cloning L1[:]."
      ],
      "metadata": {
        "id": "uT8gCR2tGMZw"
      }
    },
    {
      "cell_type": "code",
      "source": [
        "def change(L):\n",
        "  L.append(5)\n",
        "  print(id(L))\n",
        "L1= [1,2,3,4]\n",
        "print(id(L1))\n",
        "print(L1)\n",
        "# Function call\n",
        "change(L1[:])\n",
        "print(id(L1))\n",
        "print(L1)"
      ],
      "metadata": {
        "colab": {
          "base_uri": "https://localhost:8080/"
        },
        "id": "0UcNpHJ8Nmn4",
        "outputId": "eb99d72c-eaa6-4382-baa7-4dae7d055a7e"
      },
      "execution_count": null,
      "outputs": [
        {
          "output_type": "stream",
          "name": "stdout",
          "text": [
            "135247766413504\n",
            "[1, 2, 3, 4]\n",
            "135247757383680\n",
            "135247766413504\n",
            "[1, 2, 3, 4]\n"
          ]
        }
      ]
    },
    {
      "cell_type": "markdown",
      "source": [
        "List is mutable"
      ],
      "metadata": {
        "id": "rQeII208NLrl"
      }
    },
    {
      "cell_type": "code",
      "source": [
        "def change(L):\n",
        "  L=L+(5,6)\n",
        "  print(id(L))\n",
        "  print(L)\n",
        "L1= (1,2,3,4)\n",
        "print(id(L1))\n",
        "print(L1)\n",
        "change(L1)\n",
        "print(id(L1))\n",
        "print(L1)"
      ],
      "metadata": {
        "colab": {
          "base_uri": "https://localhost:8080/"
        },
        "id": "dnodSo6KN974",
        "outputId": "25865923-fe06-4465-a695-08cf0db12a58"
      },
      "execution_count": null,
      "outputs": [
        {
          "output_type": "stream",
          "name": "stdout",
          "text": [
            "135247757360032\n",
            "(1, 2, 3, 4)\n",
            "135247757517216\n",
            "(1, 2, 3, 4, 5, 6)\n",
            "135247757360032\n",
            "(1, 2, 3, 4)\n"
          ]
        }
      ]
    },
    {
      "cell_type": "markdown",
      "source": [
        "SO tuple is imutable\n"
      ],
      "metadata": {
        "id": "75Z1WBZSPSkH"
      }
    },
    {
      "cell_type": "markdown",
      "source": [
        " ## Collection of Object"
      ],
      "metadata": {
        "id": "Z-V4046bPn96"
      }
    },
    {
      "cell_type": "code",
      "source": [
        "class Customer:\n",
        "  def __init__(self,name,age):\n",
        "    self.name = name\n",
        "    self.age = age\n",
        "  def intro(self):\n",
        "    # print(f\"I am {self.name} and I am {self.age}.\")\n",
        "    return f\"I am {self.name} and I am {self.age}.\"\n",
        "\n",
        "c1 = Customer(\"Vishal\",24)\n",
        "c2 = Customer(\"Nidhi\" , 38)\n",
        "c3 = Customer(\"Deepak\", 32)\n",
        "list = [c1,c2,c3]\n",
        "for i in list:\n",
        "  # print(i.name,i.age)\n",
        "  print(i.intro())\n"
      ],
      "metadata": {
        "colab": {
          "base_uri": "https://localhost:8080/"
        },
        "id": "otN1VUc2MEzr",
        "outputId": "b3bc0cea-a59c-491a-8703-00fec489019a"
      },
      "execution_count": null,
      "outputs": [
        {
          "output_type": "stream",
          "name": "stdout",
          "text": [
            "I am Vishal and I am 24.\n",
            "I am Nidhi and I am 38.\n",
            "I am Deepak and I am 32.\n"
          ]
        }
      ]
    },
    {
      "cell_type": "markdown",
      "source": [
        "## Super Function()"
      ],
      "metadata": {
        "id": "mnz7A66UJ7Eb"
      }
    },
    {
      "cell_type": "code",
      "source": [],
      "metadata": {
        "id": "hv_UWh96J-Uj"
      },
      "execution_count": null,
      "outputs": []
    },
    {
      "cell_type": "markdown",
      "source": [
        "\n",
        "## Inheritance"
      ],
      "metadata": {
        "id": "_C-diciEPCha"
      }
    },
    {
      "cell_type": "code",
      "source": [
        "class GrandFather:\n",
        "  def __init__(self,grandfathername):\n",
        "    self.grandfathername = grandfathername\n",
        "class Father(GrandFather):\n",
        "  def __init__(self,fathername,grandfathername):\n",
        "    self.fathername = fathername\n",
        "    # invoking constructor of GrandFather class by using super() function\n",
        "    GrandFather.__init__(self,grandfathername)\n",
        "class Son(Father):\n",
        "  def __init__(self,sonname,fathername,grandfathername):\n",
        "    self.sonname = sonname\n",
        "    # invoking constructor of Father class by using super() function\n",
        "    Father.__init__(self,fathername,grandfathername)\n",
        "  def print_name(self):\n",
        "    print(f\"My name is {self.sonname}.\")\n",
        "    print(f\"My father name is {self.fathername}.\")\n",
        "    print(f\"My grandfather name is {self.grandfathername}.\")\n",
        "\n",
        "s1 = Son('Prince','Rampal','Lal mani')\n",
        "s1.print_name()\n",
        "\n",
        "# This is the Example Multilevel Function."
      ],
      "metadata": {
        "colab": {
          "base_uri": "https://localhost:8080/"
        },
        "id": "jd-Dtug6q9Kw",
        "outputId": "9aca5e9e-d146-4843-c415-b0e7a68d3150"
      },
      "execution_count": null,
      "outputs": [
        {
          "output_type": "stream",
          "name": "stdout",
          "text": [
            "My name is Prince.\n",
            "My father name is Rampal.\n",
            "My grandfather name is Lal mani.\n"
          ]
        }
      ]
    },
    {
      "cell_type": "code",
      "source": [
        "# More Examples\n",
        "\n",
        "class A:\n",
        "  def m1(self):\n",
        "    return 20\n",
        "class B(A):\n",
        "  def m1(self):\n",
        "    return 30\n",
        "  def m2(self):\n",
        "    return 40\n",
        "class C(B):\n",
        "  def m2(self):\n",
        "    return 20\n",
        "obj1 = A()\n",
        "obj3 = C()\n",
        "print(obj1.m1()+obj3.m1() + obj3.m2())\n",
        "\n",
        "# This is the example of Multilevel Inheritance and Polymorphism."
      ],
      "metadata": {
        "colab": {
          "base_uri": "https://localhost:8080/"
        },
        "id": "85EgklKB94wJ",
        "outputId": "e396cc46-2c05-4bf9-c22f-6ba3508bc551"
      },
      "execution_count": null,
      "outputs": [
        {
          "output_type": "stream",
          "name": "stdout",
          "text": [
            "70\n"
          ]
        }
      ]
    },
    {
      "cell_type": "code",
      "source": [
        "# Ex\n",
        "class A:\n",
        "  def m1(self):\n",
        "    return 20\n",
        "class B(A):\n",
        "  def m1(self):\n",
        "    val = super().m1()+30\n",
        "    return val\n",
        "class C(B):\n",
        "\n",
        "  def m1(self):\n",
        "    val = self.m1()+20\n",
        "    return val\n",
        "\n",
        "obj = C()\n",
        "print(obj.m1())\n",
        "\n",
        "#  For reason here we get Error\n",
        "# Error -> Maximum recursion depth exceeded"
      ],
      "metadata": {
        "colab": {
          "base_uri": "https://localhost:8080/",
          "height": 405
        },
        "id": "B1Cq8oxVIYtt",
        "outputId": "f2d4ea44-cd25-4015-f98d-627255c85e27"
      },
      "execution_count": null,
      "outputs": [
        {
          "output_type": "error",
          "ename": "RecursionError",
          "evalue": "maximum recursion depth exceeded",
          "traceback": [
            "\u001b[0;31m---------------------------------------------------------------------------\u001b[0m",
            "\u001b[0;31mRecursionError\u001b[0m                            Traceback (most recent call last)",
            "\u001b[0;32m<ipython-input-16-d78b3166a0f8>\u001b[0m in \u001b[0;36m<cell line: 16>\u001b[0;34m()\u001b[0m\n\u001b[1;32m     14\u001b[0m \u001b[0;34m\u001b[0m\u001b[0m\n\u001b[1;32m     15\u001b[0m \u001b[0mobj\u001b[0m \u001b[0;34m=\u001b[0m \u001b[0mC\u001b[0m\u001b[0;34m(\u001b[0m\u001b[0;34m)\u001b[0m\u001b[0;34m\u001b[0m\u001b[0;34m\u001b[0m\u001b[0m\n\u001b[0;32m---> 16\u001b[0;31m \u001b[0mprint\u001b[0m\u001b[0;34m(\u001b[0m\u001b[0mobj\u001b[0m\u001b[0;34m.\u001b[0m\u001b[0mm1\u001b[0m\u001b[0;34m(\u001b[0m\u001b[0;34m)\u001b[0m\u001b[0;34m)\u001b[0m\u001b[0;34m\u001b[0m\u001b[0;34m\u001b[0m\u001b[0m\n\u001b[0m\u001b[1;32m     17\u001b[0m \u001b[0;34m\u001b[0m\u001b[0m\n\u001b[1;32m     18\u001b[0m \u001b[0;31m#  For reason here we get Error\u001b[0m\u001b[0;34m\u001b[0m\u001b[0;34m\u001b[0m\u001b[0m\n",
            "\u001b[0;32m<ipython-input-16-d78b3166a0f8>\u001b[0m in \u001b[0;36mm1\u001b[0;34m(self)\u001b[0m\n\u001b[1;32m     10\u001b[0m \u001b[0;34m\u001b[0m\u001b[0m\n\u001b[1;32m     11\u001b[0m   \u001b[0;32mdef\u001b[0m \u001b[0mm1\u001b[0m\u001b[0;34m(\u001b[0m\u001b[0mself\u001b[0m\u001b[0;34m)\u001b[0m\u001b[0;34m:\u001b[0m\u001b[0;34m\u001b[0m\u001b[0;34m\u001b[0m\u001b[0m\n\u001b[0;32m---> 12\u001b[0;31m     \u001b[0mval\u001b[0m \u001b[0;34m=\u001b[0m \u001b[0mself\u001b[0m\u001b[0;34m.\u001b[0m\u001b[0mm1\u001b[0m\u001b[0;34m(\u001b[0m\u001b[0;34m)\u001b[0m\u001b[0;34m+\u001b[0m\u001b[0;36m20\u001b[0m\u001b[0;34m\u001b[0m\u001b[0;34m\u001b[0m\u001b[0m\n\u001b[0m\u001b[1;32m     13\u001b[0m     \u001b[0;32mreturn\u001b[0m \u001b[0mval\u001b[0m\u001b[0;34m\u001b[0m\u001b[0;34m\u001b[0m\u001b[0m\n\u001b[1;32m     14\u001b[0m \u001b[0;34m\u001b[0m\u001b[0m\n",
            "... last 1 frames repeated, from the frame below ...\n",
            "\u001b[0;32m<ipython-input-16-d78b3166a0f8>\u001b[0m in \u001b[0;36mm1\u001b[0;34m(self)\u001b[0m\n\u001b[1;32m     10\u001b[0m \u001b[0;34m\u001b[0m\u001b[0m\n\u001b[1;32m     11\u001b[0m   \u001b[0;32mdef\u001b[0m \u001b[0mm1\u001b[0m\u001b[0;34m(\u001b[0m\u001b[0mself\u001b[0m\u001b[0;34m)\u001b[0m\u001b[0;34m:\u001b[0m\u001b[0;34m\u001b[0m\u001b[0;34m\u001b[0m\u001b[0m\n\u001b[0;32m---> 12\u001b[0;31m     \u001b[0mval\u001b[0m \u001b[0;34m=\u001b[0m \u001b[0mself\u001b[0m\u001b[0;34m.\u001b[0m\u001b[0mm1\u001b[0m\u001b[0;34m(\u001b[0m\u001b[0;34m)\u001b[0m\u001b[0;34m+\u001b[0m\u001b[0;36m20\u001b[0m\u001b[0;34m\u001b[0m\u001b[0;34m\u001b[0m\u001b[0m\n\u001b[0m\u001b[1;32m     13\u001b[0m     \u001b[0;32mreturn\u001b[0m \u001b[0mval\u001b[0m\u001b[0;34m\u001b[0m\u001b[0;34m\u001b[0m\u001b[0m\n\u001b[1;32m     14\u001b[0m \u001b[0;34m\u001b[0m\u001b[0m\n",
            "\u001b[0;31mRecursionError\u001b[0m: maximum recursion depth exceeded"
          ]
        }
      ]
    },
    {
      "cell_type": "code",
      "source": [
        "class Phone:\n",
        "  def __init__(self,price,brand,camera):\n",
        "    self.price = price\n",
        "    self.brand = brand\n",
        "    self.camera = camera\n",
        "  def buy(self):\n",
        "    print(\"Buying a phone\")\n",
        "class SmartPhone(Phone):\n",
        "  def buy(self):\n",
        "    print(\"I am calling in Smartphone class\")\n",
        "\n",
        "s=SmartPhone(20000,\"Apple\",13)\n",
        "s.buy()"
      ],
      "metadata": {
        "id": "vywOj9_tJ20j",
        "colab": {
          "base_uri": "https://localhost:8080/"
        },
        "outputId": "38f271ff-e6a6-4a75-e809-411752ae9339"
      },
      "execution_count": 2,
      "outputs": [
        {
          "output_type": "stream",
          "name": "stdout",
          "text": [
            "I am calling in Smartphone class\n"
          ]
        }
      ]
    },
    {
      "cell_type": "code",
      "source": [
        "class Parent:\n",
        "  def __init__(self,num):\n",
        "    self.__num = num\n",
        "  def get_num(self):\n",
        "    return self.__num\n",
        "class Child(Parent):\n",
        "  def show(self):\n",
        "    print(\"this is in child class\")\n",
        "son = Child(100)\n",
        "print(son.get_num())\n",
        "son.show()"
      ],
      "metadata": {
        "id": "S2Hl6P_4IMxg",
        "colab": {
          "base_uri": "https://localhost:8080/"
        },
        "outputId": "6e4683b8-25e7-4e95-8925-7d0e3d5b2284"
      },
      "execution_count": 1,
      "outputs": [
        {
          "output_type": "stream",
          "name": "stdout",
          "text": [
            "100\n",
            "this is in child class\n"
          ]
        }
      ]
    },
    {
      "cell_type": "code",
      "source": [
        "class Parent:\n",
        "  def __init__(self,num):\n",
        "    self.__num = num\n",
        "  def get_num(self):\n",
        "    return self.__num\n",
        "\n",
        "class Child(Parent):\n",
        "  def __init__(self,val,num):\n",
        "    self.__val=val\n",
        "  def get_val(self):\n",
        "    return self.__val\n",
        "\n",
        "son = Child(100,10)\n",
        "print(\"Child: Val: \", son.get_val()) # 100\n",
        "print(\"Parent : Num: \", son.get_num()) # 10\n",
        "# 'Child' object has no attribute '_Parent__num'\n"
      ],
      "metadata": {
        "colab": {
          "base_uri": "https://localhost:8080/",
          "height": 345
        },
        "id": "RZBcI9Yjd80S",
        "outputId": "888a3d0b-0317-4a4a-c0f9-9ff6ece66d4e"
      },
      "execution_count": 12,
      "outputs": [
        {
          "output_type": "stream",
          "name": "stdout",
          "text": [
            "Child: Val:  100\n"
          ]
        },
        {
          "output_type": "error",
          "ename": "AttributeError",
          "evalue": "'Child' object has no attribute '_Parent__num'",
          "traceback": [
            "\u001b[0;31m---------------------------------------------------------------------------\u001b[0m",
            "\u001b[0;31mAttributeError\u001b[0m                            Traceback (most recent call last)",
            "\u001b[0;32m<ipython-input-12-940f1b4661b9>\u001b[0m in \u001b[0;36m<cell line: 15>\u001b[0;34m()\u001b[0m\n\u001b[1;32m     13\u001b[0m \u001b[0mson\u001b[0m \u001b[0;34m=\u001b[0m \u001b[0mChild\u001b[0m\u001b[0;34m(\u001b[0m\u001b[0;36m100\u001b[0m\u001b[0;34m,\u001b[0m\u001b[0;36m10\u001b[0m\u001b[0;34m)\u001b[0m\u001b[0;34m\u001b[0m\u001b[0;34m\u001b[0m\u001b[0m\n\u001b[1;32m     14\u001b[0m \u001b[0mprint\u001b[0m\u001b[0;34m(\u001b[0m\u001b[0;34m\"Child: Val: \"\u001b[0m\u001b[0;34m,\u001b[0m \u001b[0mson\u001b[0m\u001b[0;34m.\u001b[0m\u001b[0mget_val\u001b[0m\u001b[0;34m(\u001b[0m\u001b[0;34m)\u001b[0m\u001b[0;34m)\u001b[0m \u001b[0;31m# 100\u001b[0m\u001b[0;34m\u001b[0m\u001b[0;34m\u001b[0m\u001b[0m\n\u001b[0;32m---> 15\u001b[0;31m \u001b[0mprint\u001b[0m\u001b[0;34m(\u001b[0m\u001b[0;34m\"Parent : Num: \"\u001b[0m\u001b[0;34m,\u001b[0m \u001b[0mson\u001b[0m\u001b[0;34m.\u001b[0m\u001b[0mget_num\u001b[0m\u001b[0;34m(\u001b[0m\u001b[0;34m)\u001b[0m\u001b[0;34m)\u001b[0m \u001b[0;31m# 10\u001b[0m\u001b[0;34m\u001b[0m\u001b[0;34m\u001b[0m\u001b[0m\n\u001b[0m\u001b[1;32m     16\u001b[0m \u001b[0;31m# 'Child' object has no attribute '_Parent__num'\u001b[0m\u001b[0;34m\u001b[0m\u001b[0;34m\u001b[0m\u001b[0m\n",
            "\u001b[0;32m<ipython-input-12-940f1b4661b9>\u001b[0m in \u001b[0;36mget_num\u001b[0;34m(self)\u001b[0m\n\u001b[1;32m      3\u001b[0m     \u001b[0mself\u001b[0m\u001b[0;34m.\u001b[0m\u001b[0m__num\u001b[0m \u001b[0;34m=\u001b[0m \u001b[0mnum\u001b[0m\u001b[0;34m\u001b[0m\u001b[0;34m\u001b[0m\u001b[0m\n\u001b[1;32m      4\u001b[0m   \u001b[0;32mdef\u001b[0m \u001b[0mget_num\u001b[0m\u001b[0;34m(\u001b[0m\u001b[0mself\u001b[0m\u001b[0;34m)\u001b[0m\u001b[0;34m:\u001b[0m\u001b[0;34m\u001b[0m\u001b[0;34m\u001b[0m\u001b[0m\n\u001b[0;32m----> 5\u001b[0;31m     \u001b[0;32mreturn\u001b[0m \u001b[0mself\u001b[0m\u001b[0;34m.\u001b[0m\u001b[0m__num\u001b[0m\u001b[0;34m\u001b[0m\u001b[0;34m\u001b[0m\u001b[0m\n\u001b[0m\u001b[1;32m      6\u001b[0m \u001b[0;34m\u001b[0m\u001b[0m\n\u001b[1;32m      7\u001b[0m \u001b[0;32mclass\u001b[0m \u001b[0mChild\u001b[0m\u001b[0;34m(\u001b[0m\u001b[0mParent\u001b[0m\u001b[0;34m)\u001b[0m\u001b[0;34m:\u001b[0m\u001b[0;34m\u001b[0m\u001b[0;34m\u001b[0m\u001b[0m\n",
            "\u001b[0;31mAttributeError\u001b[0m: 'Child' object has no attribute '_Parent__num'"
          ]
        }
      ]
    },
    {
      "cell_type": "markdown",
      "source": [
        "To correct above Error , We have to add or call constructor of parent class in Child class by using ***super function***."
      ],
      "metadata": {
        "id": "QjKzRsHGd82k"
      }
    },
    {
      "cell_type": "markdown",
      "source": [
        "## Super Function"
      ],
      "metadata": {
        "id": "vDhS9gqgaYzV"
      }
    },
    {
      "cell_type": "code",
      "source": [
        "class Phone:\n",
        "  def __init__(self,price,brand,camera):\n",
        "    print(\"Inside phone constructor\")\n",
        "    self.__price = price\n",
        "    self.brand = brand\n",
        "    self.camera= camera\n",
        "  def buy(self):\n",
        "    print(\"Buying a phone\")\n",
        "class SmartPhone(Phone):\n",
        "  # Due to method overriding this buy function called.\n",
        "  def buy(self):\n",
        "    print(\"buying a smartphone\")\n",
        "    # Here super is called\n",
        "    # se here we invoke buy() function in the  Phone class.\n",
        "    super().buy()\n",
        "\n",
        "s=SmartPhone(20000,\"Apple\",13)\n",
        "s.buy()"
      ],
      "metadata": {
        "colab": {
          "base_uri": "https://localhost:8080/"
        },
        "id": "UDTRgP_rbTyO",
        "outputId": "b460f13f-d47a-493e-d866-194c12caa33a"
      },
      "execution_count": 17,
      "outputs": [
        {
          "output_type": "stream",
          "name": "stdout",
          "text": [
            "Inside phone constructor\n",
            "buying a smartphone\n",
            "Buying a phone\n"
          ]
        }
      ]
    },
    {
      "cell_type": "markdown",
      "source": [
        "#### Here we used super function to called a constructor from child class.\n"
      ],
      "metadata": {
        "id": "ttSxZ6_HcrEP"
      }
    },
    {
      "cell_type": "code",
      "source": [
        "class Phone:\n",
        "  def __init__(self):\n",
        "    print(\"This constructor is in Parent Class\")\n",
        "\n",
        "class SmartPhone(Phone):\n",
        "  def __init__(self):\n",
        "    super().__init__()\n",
        "    print(f\"This constructor is in Child Class\")\n",
        "\n",
        "s = SmartPhone()"
      ],
      "metadata": {
        "colab": {
          "base_uri": "https://localhost:8080/"
        },
        "id": "Z1waDjtt-oEk",
        "outputId": "a111407e-6c9f-40d3-8406-e591b25785fd"
      },
      "execution_count": 22,
      "outputs": [
        {
          "output_type": "stream",
          "name": "stdout",
          "text": [
            "This constructor is in Parent Class\n",
            "This constructor is in Child Class\n"
          ]
        }
      ]
    },
    {
      "cell_type": "code",
      "source": [
        "# More Examples\n",
        "class Parent:\n",
        "  def __init__(self,num):\n",
        "    self.__num = num\n",
        "  def get_num(self):\n",
        "    return self.__num\n",
        "class Child(Parent):\n",
        "  def __init__(self,num,val):\n",
        "    # Called super function\n",
        "    super().__init__(num)\n",
        "    self.__val = val\n",
        "  def get_val(self):\n",
        "    return self.__val\n",
        "son = Child(100,10)\n",
        "print(\"Child: Val: \", son.get_val()) # 100\n",
        "print(\"Parent : Num: \", son.get_num()) # 10\n"
      ],
      "metadata": {
        "colab": {
          "base_uri": "https://localhost:8080/"
        },
        "id": "0MJv_lbNExvW",
        "outputId": "87b7e412-12b6-4ad9-a22e-7f78ce98e553"
      },
      "execution_count": 25,
      "outputs": [
        {
          "output_type": "stream",
          "name": "stdout",
          "text": [
            "Child: Val:  10\n",
            "Parent : Num:  100\n"
          ]
        }
      ]
    },
    {
      "cell_type": "code",
      "source": [
        "# More Examples\n",
        "class Parent:\n",
        "  def __init__(self):\n",
        "    self.num = 100\n",
        "class Child(Parent):\n",
        "  def __init__(self):\n",
        "    super().__init__()\n",
        "    self.val = 200\n",
        "  def show(self):\n",
        "    print(self.num)\n",
        "    print(self.val)\n",
        "son = Child()\n",
        "son.show()"
      ],
      "metadata": {
        "colab": {
          "base_uri": "https://localhost:8080/"
        },
        "id": "8e1qJvv3Fo4b",
        "outputId": "e8a9a26d-39e0-4d05-bab5-7d1c2ae61619"
      },
      "execution_count": 27,
      "outputs": [
        {
          "output_type": "stream",
          "name": "stdout",
          "text": [
            "100\n",
            "200\n"
          ]
        }
      ]
    },
    {
      "cell_type": "code",
      "source": [
        "class Parent:\n",
        "  def __init__(self):\n",
        "    self.__num = 100\n",
        "  def show(self):\n",
        "    print(\"Parent\" , self.__num)\n",
        "\n",
        "class Child(Parent):\n",
        "  def __init__(self):\n",
        "    super().__init__()\n",
        "    self.__var = 10\n",
        "\n",
        "  def show(self):\n",
        "    print(\"Child\", self.__var)\n",
        "\n",
        "dad = Parent()\n",
        "dad.show()\n",
        "son = Child()\n",
        "son.show()"
      ],
      "metadata": {
        "colab": {
          "base_uri": "https://localhost:8080/"
        },
        "id": "c0J-MaHAGEvx",
        "outputId": "38dabbdf-8267-46a7-bce9-edc2b498925f"
      },
      "execution_count": 30,
      "outputs": [
        {
          "output_type": "stream",
          "name": "stdout",
          "text": [
            "Parent 100\n",
            "Child 10\n"
          ]
        }
      ]
    },
    {
      "cell_type": "markdown",
      "source": [
        "## Over Loading"
      ],
      "metadata": {
        "id": "ZkJLedr7HQTF"
      }
    },
    {
      "cell_type": "code",
      "source": [
        "class Geometry:\n",
        "  def area(self,l,b):\n",
        "    return l*b\n",
        "  def area(self,r):\n",
        "    return 3.14*r*r\n",
        "g=Geometry()\n",
        "print(g.area(4)) # Here,this would run but\n",
        "print(g.area(4,5)) # Here we get an error"
      ],
      "metadata": {
        "colab": {
          "base_uri": "https://localhost:8080/",
          "height": 200
        },
        "id": "_Udm_KvrMOG8",
        "outputId": "0af4bc73-a3ba-4062-fd2b-902ca3637ac4"
      },
      "execution_count": 44,
      "outputs": [
        {
          "output_type": "stream",
          "name": "stdout",
          "text": [
            "50.24\n"
          ]
        },
        {
          "output_type": "error",
          "ename": "TypeError",
          "evalue": "Geometry.area() takes 2 positional arguments but 3 were given",
          "traceback": [
            "\u001b[0;31m---------------------------------------------------------------------------\u001b[0m",
            "\u001b[0;31mTypeError\u001b[0m                                 Traceback (most recent call last)",
            "\u001b[0;32m<ipython-input-44-5f2cc6e2944f>\u001b[0m in \u001b[0;36m<cell line: 8>\u001b[0;34m()\u001b[0m\n\u001b[1;32m      6\u001b[0m \u001b[0mg\u001b[0m\u001b[0;34m=\u001b[0m\u001b[0mGeometry\u001b[0m\u001b[0;34m(\u001b[0m\u001b[0;34m)\u001b[0m\u001b[0;34m\u001b[0m\u001b[0;34m\u001b[0m\u001b[0m\n\u001b[1;32m      7\u001b[0m \u001b[0mprint\u001b[0m\u001b[0;34m(\u001b[0m\u001b[0mg\u001b[0m\u001b[0;34m.\u001b[0m\u001b[0marea\u001b[0m\u001b[0;34m(\u001b[0m\u001b[0;36m4\u001b[0m\u001b[0;34m)\u001b[0m\u001b[0;34m)\u001b[0m \u001b[0;31m# Here,this would run but\u001b[0m\u001b[0;34m\u001b[0m\u001b[0;34m\u001b[0m\u001b[0m\n\u001b[0;32m----> 8\u001b[0;31m \u001b[0mprint\u001b[0m\u001b[0;34m(\u001b[0m\u001b[0mg\u001b[0m\u001b[0;34m.\u001b[0m\u001b[0marea\u001b[0m\u001b[0;34m(\u001b[0m\u001b[0;36m4\u001b[0m\u001b[0;34m,\u001b[0m\u001b[0;36m5\u001b[0m\u001b[0;34m)\u001b[0m\u001b[0;34m)\u001b[0m \u001b[0;31m# Here we get an error\u001b[0m\u001b[0;34m\u001b[0m\u001b[0;34m\u001b[0m\u001b[0m\n\u001b[0m",
            "\u001b[0;31mTypeError\u001b[0m: Geometry.area() takes 2 positional arguments but 3 were given"
          ]
        }
      ]
    },
    {
      "cell_type": "markdown",
      "source": [
        "Moral of the conclusion is Python did not support overloading method but we can do this thing by some *JUGAR*"
      ],
      "metadata": {
        "id": "W8y0o6T_Mxeq"
      }
    },
    {
      "cell_type": "code",
      "source": [
        "class Geometry:\n",
        "  def area(self,r,b=0):\n",
        "    if b==0:\n",
        "      return 3.14*r*r\n",
        "    else:\n",
        "      return r*b\n",
        "g=Geometry()\n",
        "print(g.area(4)) # Here,this would run but\n",
        "print(g.area(4,5)) # Here we get\n"
      ],
      "metadata": {
        "colab": {
          "base_uri": "https://localhost:8080/"
        },
        "id": "2-1r_rfZNA5z",
        "outputId": "356f1322-57a3-4de7-abf8-8b5c0eff3955"
      },
      "execution_count": 43,
      "outputs": [
        {
          "output_type": "stream",
          "name": "stdout",
          "text": [
            "50.24\n",
            "20\n"
          ]
        }
      ]
    },
    {
      "cell_type": "markdown",
      "source": [
        "## Abstraction"
      ],
      "metadata": {
        "id": "1UQm49PRYu7z"
      }
    },
    {
      "cell_type": "code",
      "source": [
        "from abc import ABC, abstractmethod\n",
        "class BankApp(ABC):\n",
        "  def database(self):\n",
        "    print(\"Connected to database\")\n",
        "  @abstractmethod\n",
        "  def security(self):\n",
        "    pass\n",
        "  @abstractmethod\n",
        "  def display(self):\n",
        "    pass"
      ],
      "metadata": {
        "id": "5t-2fTUcSCwf"
      },
      "execution_count": 26,
      "outputs": []
    },
    {
      "cell_type": "code",
      "source": [
        "class MobileApp(BankApp):\n",
        "  def mobile_login(self):\n",
        "    print('login into mobile')\n",
        "\n",
        "  def security(self):\n",
        "    print(\"Mobile security\")\n",
        "\n",
        "  def display(self):\n",
        "    print(\"Display\")\n",
        "    super().display()"
      ],
      "metadata": {
        "id": "1WWXzG9ITX7l"
      },
      "execution_count": 27,
      "outputs": []
    },
    {
      "cell_type": "code",
      "source": [
        "mob = MobileApp()\n",
        "mob.security()"
      ],
      "metadata": {
        "colab": {
          "base_uri": "https://localhost:8080/"
        },
        "id": "olNNVyP6TpZ1",
        "outputId": "8a3cbbb3-353c-40a2-d431-5842edf18d6b"
      },
      "execution_count": 28,
      "outputs": [
        {
          "output_type": "stream",
          "name": "stdout",
          "text": [
            "Mobile security\n"
          ]
        }
      ]
    },
    {
      "cell_type": "code",
      "source": [
        "mob.display()"
      ],
      "metadata": {
        "colab": {
          "base_uri": "https://localhost:8080/"
        },
        "id": "Qv7Jzf4bUJWK",
        "outputId": "c3972c52-d8f1-4069-953c-da416a33294c"
      },
      "execution_count": 29,
      "outputs": [
        {
          "output_type": "stream",
          "name": "stdout",
          "text": [
            "Display\n"
          ]
        }
      ]
    }
  ],
  "metadata": {
    "colab": {
      "provenance": [],
      "authorship_tag": "ABX9TyObXPvgLnG8PWQaP1WJkS16",
      "include_colab_link": true
    },
    "kernelspec": {
      "display_name": "Python 3",
      "name": "python3"
    },
    "language_info": {
      "name": "python"
    }
  },
  "nbformat": 4,
  "nbformat_minor": 0
}