{
 "cells": [
  {
   "cell_type": "markdown",
   "metadata": {},
   "source": [
    "# Recursion\n",
    "\n",
    "**Objectives:**\n",
    "\n",
    "* What is Recursion\n",
    "* Recursion with Returned Value\n",
    "* Visualizing Recursion\n",
    "* Recursion with Returned Value"
   ]
  },
  {
   "cell_type": "markdown",
   "metadata": {},
   "source": [
    "## 1. What is Recursion\n",
    "\n",
    "The process in which a function calls itself directly or indirectly is known as `recursion`. The corresponding function is called as `recursive function`.\n",
    "* A `recursive function` **repeats the same action (statement)** in each iteration.\n",
    "\n",
    "<img src=\"./images/recursive_snake.jpg\" width=160 />\n",
    "<p style=\"text-align: center\">https://www.slideshare.net/HaseebQureshi5/recursion-for-the-rest-of-us-cs-fundamentals-series</p>\n",
    "\n",
    "#### Base Case\n",
    "* In each iteration, it breaks down a problem into smaller subproblems which is small enough to be solved trivially. Such small problem is called **base case**.\n",
    "* The solution of the bigger problem is implemented by calling the funtion itself.\n",
    "* The solution to the base case is implemented directly without calling to itself. \n",
    "\n",
    "#### Termination Condition\n",
    "* Recursion function must have a **termination condition**, which stops the function from calling itself infinitely.\n",
    "\n",
    "#### Why Use Recursion?\n",
    "* Recursion allows us to write elegant solutions to problems that may otherwise be very difficult to program.\n",
    "\n",
    "\n",
    "#### Types of Recursive Function\n",
    "* Recursive Function without Return Value\n",
    "* Recursive Function with Return Value\n"
   ]
  },
  {
   "cell_type": "markdown",
   "metadata": {},
   "source": [
    "### Recursion instead of Loop\n",
    "\n",
    "**Exercise:**\n",
    "\n",
    "Implement a **count-down()** function using `while-loop`.\n",
    "* It takes in a parameter `n`, which is the starting number to count down.\n",
    "\n",
    "<u>Sample Output:</u> Calling to `count_down(3)` gives following printout.\n",
    "\n",
    "```\n",
    "3 2 1 Done!\n",
    "```"
   ]
  },
  {
   "cell_type": "code",
   "execution_count": 8,
   "metadata": {},
   "outputs": [
    {
     "name": "stdout",
     "output_type": "stream",
     "text": "3 2 1 Done!\n3 2 1 Done!\n"
    }
   ],
   "source": [
    "def my_count_down(n):\n",
    "    print(*[n-i for i in range(n)], 'Done!')\n",
    "\n",
    "my_count_down(3)\n",
    "\n",
    "def my_count_down(n):\n",
    "    while n>0:\n",
    "        print(n,end='a')\n",
    "        n=n-1\n",
    "    print('Done!')\n",
    "\n",
    "count_down(3)"
   ]
  },
  {
   "cell_type": "markdown",
   "metadata": {},
   "source": [
    "**Question:**\n",
    "\n",
    "How to convert above function `count_down()` into a recursive function?\n",
    "\n",
    "<u>Analysis Steps:</u>\n",
    "* What is the common actions in each loop? (Hint: check the loop statements)\n",
    "* What is its termination condition?\n",
    "* What is its base case, i.e. what does it do when it is at termination condition?\n",
    "\n",
    "<u>Analysis Result:</u>\n",
    "\n",
    "* In each iteration, it prints out current `n` value.\n",
    "* The termination condiction is `n > 0`. \n",
    "* If termination condition is True, it prints `Done`. \n",
    "\n",
    "<u>Thus, </u>\n",
    "* In the recrusive function, it check termination condiction `n > 0`.\n",
    "* If termination condition is true, it prints `Done`, else it prints `current n value` and recurses (call its own function). "
   ]
  },
  {
   "cell_type": "markdown",
   "metadata": {},
   "source": [
    "**Exercise:**\n",
    "\n",
    "Convert above function `count_down()` into recursive function `recursive_down()`."
   ]
  },
  {
   "cell_type": "code",
   "execution_count": 10,
   "metadata": {},
   "outputs": [
    {
     "name": "stdout",
     "output_type": "stream",
     "text": "3 2 1 Done!\n"
    }
   ],
   "source": [
    "def recursive_down(n):\n",
    "    if n==0:\n",
    "        print('Done!')\n",
    "    else:\n",
    "        print(n, end=' ')\n",
    "        recursive_down(n-1)\n",
    "\n",
    "recursive_down(3)"
   ]
  },
  {
   "cell_type": "code",
   "execution_count": 12,
   "metadata": {},
   "outputs": [
    {
     "name": "stdout",
     "output_type": "stream",
     "text": "[1, 1, 2, 6, 24, 120]\n"
    }
   ],
   "source": [
    "def factorial(n):\n",
    "    if n==0 or n==1:\n",
    "        return 1\n",
    "    else:\n",
    "        return n*factorial(n-1)\n",
    "\n",
    "print([factorial(i) for i in range(6) ])"
   ]
  },
  {
   "cell_type": "markdown",
   "metadata": {},
   "source": [
    "## 2. Visualizing Recursive Execution (Important)\n",
    "\n",
    "**<u>Question:</u>** \n",
    "* How do you visualize above recursive function execution?\n",
    "\n",
    "Draw out <u>function calls</u> diagram and follow <u>execution order</u>.\n",
    "\n",
    "Funciton Calls | Execution Order (Count-down) | Execution Order (Count-up)\n",
    "- | - | - \n",
    "<img src=\"./images/count-down.png\" alt=\"Count Down\" style=\"width: 150px;\"/> | <img src=\"./images/count-down-2.png\" alt=\"Count Down\" style=\"width: 150px;\"/> | <img src=\"./images/count-up.png\" alt=\"Count Down\" style=\"width: 150px;\"/>\n"
   ]
  },
  {
   "cell_type": "markdown",
   "metadata": {},
   "source": [
    "**<u>Question:</u>** \n",
    "\n",
    "Give minimal modification to `recursive_down()` function for it to **count-up** instead of **count-down**?\n",
    "\n",
    "<u>Sample Output:</u>\n",
    "```\n",
    "Done!\n",
    "1 2 3 \n",
    "```"
   ]
  },
  {
   "cell_type": "code",
   "execution_count": null,
   "metadata": {},
   "outputs": [],
   "source": [
    "def recursive_down(n):\n",
    "    if n==0:\n",
    "        print('Done!')\n",
    "    else:\n",
    "        recursive_down(n-1) # swapped with *(1)*\n",
    "        print(n, end=' ')   # *(1)*\n",
    "        \n",
    "\n",
    "recursive_down(3)"
   ]
  },
  {
   "cell_type": "markdown",
   "metadata": {},
   "source": [
    "### Calling Stack of Functions\n",
    "\n",
    "Call stack of functions determines the precedence of printouts in following code sample.\n",
    "<img src=\"./images/function_call_stack.png\" width=400 />"
   ]
  },
  {
   "cell_type": "code",
   "execution_count": null,
   "metadata": {},
   "outputs": [],
   "source": []
  },
  {
   "cell_type": "markdown",
   "metadata": {},
   "source": [
    "## 2. Recursion with Return Value\n",
    "\n",
    "In above count-down example, the recursion function does not return any value. It is common for recursion function to return value back to calling function.\n",
    "\n",
    "### Factorial\n",
    "\n",
    "The factorial value of a explicit number `n` is typically represented as `n!`, and $F_n = n* F_{n-1}$.\n",
    "\n",
    "```\n",
    "n! = n * (n-1) * (n-2) * . . . * 1\n",
    "n! = n * (n-1)!\n",
    "```\n",
    "\n",
    "**Exercise:**\n",
    "\n",
    "Implement function `facorial_loop(n)` to calculate **factorial** value of an integer `n` using `while-loop`."
   ]
  },
  {
   "cell_type": "code",
   "execution_count": null,
   "metadata": {},
   "outputs": [],
   "source": []
  },
  {
   "cell_type": "markdown",
   "metadata": {},
   "source": [
    "**Question:** \n",
    "\n",
    "How to convert above function into recursive function `facorial_recurse()`?\n",
    "\n",
    "<u>Analysis Steps:</u>\n",
    "* What is the common actions in each iteration? (Hint: check the loop statements)\n",
    "* What is its termination condition?\n",
    "* If termination condition is True, what does it do?\n",
    "\n",
    "<u>Analysis Result:</u>\n",
    "* It sets `result = result * n`, and it recurse with `n-1` (common action)\n",
    "* The termination condiction is `n == 1`.\n",
    "* If condition is True, it returns `1`.\n"
   ]
  },
  {
   "cell_type": "markdown",
   "metadata": {},
   "source": [
    "<u>Recursive Call:</u>\n",
    "\n",
    "```\n",
    "facorial_recurse(n) = n * facorial_recurse(n-1)\n",
    "```"
   ]
  },
  {
   "cell_type": "markdown",
   "metadata": {},
   "source": [
    "**Exercise:**\n",
    "\n",
    "Implement function `facorial_recurse(n)` to calculate factorial value of an integer n using `recursion`."
   ]
  },
  {
   "cell_type": "code",
   "execution_count": null,
   "metadata": {},
   "outputs": [],
   "source": [
    "def factorial(n):\n",
    "    if n==0 or n==1:\n",
    "        return 1\n",
    "    else:\n",
    "        return n*factorial(n-1)\n",
    "\n",
    "print([factorial(i) for i in range(6) ])"
   ]
  },
  {
   "cell_type": "code",
   "execution_count": 14,
   "metadata": {},
   "outputs": [
    {
     "ename": "RecursionError",
     "evalue": "maximum recursion depth exceeded",
     "output_type": "error",
     "traceback": [
      "\u001b[1;31m---------------------------------------------------------------------------\u001b[0m",
      "\u001b[1;31mRecursionError\u001b[0m                            Traceback (most recent call last)",
      "\u001b[1;32m<ipython-input-14-fa04a6966d3e>\u001b[0m in \u001b[0;36m<module>\u001b[1;34m\u001b[0m\n\u001b[0;32m      7\u001b[0m     \u001b[0mprint\u001b[0m\u001b[1;33m(\u001b[0m\u001b[1;36m2\u001b[0m\u001b[1;33m)\u001b[0m\u001b[1;33m\u001b[0m\u001b[1;33m\u001b[0m\u001b[0m\n\u001b[0;32m      8\u001b[0m \u001b[1;33m\u001b[0m\u001b[0m\n\u001b[1;32m----> 9\u001b[1;33m \u001b[0mf1\u001b[0m\u001b[1;33m(\u001b[0m\u001b[1;33m)\u001b[0m\u001b[1;33m\u001b[0m\u001b[1;33m\u001b[0m\u001b[0m\n\u001b[0m",
      "\u001b[1;32m<ipython-input-14-fa04a6966d3e>\u001b[0m in \u001b[0;36mf1\u001b[1;34m()\u001b[0m\n\u001b[0;32m      1\u001b[0m \u001b[1;32mdef\u001b[0m \u001b[0mf1\u001b[0m\u001b[1;33m(\u001b[0m\u001b[1;33m)\u001b[0m\u001b[1;33m:\u001b[0m\u001b[1;33m\u001b[0m\u001b[1;33m\u001b[0m\u001b[0m\n\u001b[1;32m----> 2\u001b[1;33m     \u001b[0mf2\u001b[0m\u001b[1;33m(\u001b[0m\u001b[1;33m)\u001b[0m\u001b[1;33m\u001b[0m\u001b[1;33m\u001b[0m\u001b[0m\n\u001b[0m\u001b[0;32m      3\u001b[0m     \u001b[0mprint\u001b[0m\u001b[1;33m(\u001b[0m\u001b[1;36m1\u001b[0m\u001b[1;33m)\u001b[0m\u001b[1;33m\u001b[0m\u001b[1;33m\u001b[0m\u001b[0m\n\u001b[0;32m      4\u001b[0m \u001b[1;33m\u001b[0m\u001b[0m\n\u001b[0;32m      5\u001b[0m \u001b[1;32mdef\u001b[0m \u001b[0mf2\u001b[0m\u001b[1;33m(\u001b[0m\u001b[1;33m)\u001b[0m\u001b[1;33m:\u001b[0m\u001b[1;33m\u001b[0m\u001b[1;33m\u001b[0m\u001b[0m\n",
      "\u001b[1;32m<ipython-input-14-fa04a6966d3e>\u001b[0m in \u001b[0;36mf2\u001b[1;34m()\u001b[0m\n\u001b[0;32m      4\u001b[0m \u001b[1;33m\u001b[0m\u001b[0m\n\u001b[0;32m      5\u001b[0m \u001b[1;32mdef\u001b[0m \u001b[0mf2\u001b[0m\u001b[1;33m(\u001b[0m\u001b[1;33m)\u001b[0m\u001b[1;33m:\u001b[0m\u001b[1;33m\u001b[0m\u001b[1;33m\u001b[0m\u001b[0m\n\u001b[1;32m----> 6\u001b[1;33m     \u001b[0mf1\u001b[0m\u001b[1;33m(\u001b[0m\u001b[1;33m)\u001b[0m\u001b[1;33m\u001b[0m\u001b[1;33m\u001b[0m\u001b[0m\n\u001b[0m\u001b[0;32m      7\u001b[0m     \u001b[0mprint\u001b[0m\u001b[1;33m(\u001b[0m\u001b[1;36m2\u001b[0m\u001b[1;33m)\u001b[0m\u001b[1;33m\u001b[0m\u001b[1;33m\u001b[0m\u001b[0m\n\u001b[0;32m      8\u001b[0m \u001b[1;33m\u001b[0m\u001b[0m\n",
      "... last 2 frames repeated, from the frame below ...\n",
      "\u001b[1;32m<ipython-input-14-fa04a6966d3e>\u001b[0m in \u001b[0;36mf1\u001b[1;34m()\u001b[0m\n\u001b[0;32m      1\u001b[0m \u001b[1;32mdef\u001b[0m \u001b[0mf1\u001b[0m\u001b[1;33m(\u001b[0m\u001b[1;33m)\u001b[0m\u001b[1;33m:\u001b[0m\u001b[1;33m\u001b[0m\u001b[1;33m\u001b[0m\u001b[0m\n\u001b[1;32m----> 2\u001b[1;33m     \u001b[0mf2\u001b[0m\u001b[1;33m(\u001b[0m\u001b[1;33m)\u001b[0m\u001b[1;33m\u001b[0m\u001b[1;33m\u001b[0m\u001b[0m\n\u001b[0m\u001b[0;32m      3\u001b[0m     \u001b[0mprint\u001b[0m\u001b[1;33m(\u001b[0m\u001b[1;36m1\u001b[0m\u001b[1;33m)\u001b[0m\u001b[1;33m\u001b[0m\u001b[1;33m\u001b[0m\u001b[0m\n\u001b[0;32m      4\u001b[0m \u001b[1;33m\u001b[0m\u001b[0m\n\u001b[0;32m      5\u001b[0m \u001b[1;32mdef\u001b[0m \u001b[0mf2\u001b[0m\u001b[1;33m(\u001b[0m\u001b[1;33m)\u001b[0m\u001b[1;33m:\u001b[0m\u001b[1;33m\u001b[0m\u001b[1;33m\u001b[0m\u001b[0m\n",
      "\u001b[1;31mRecursionError\u001b[0m: maximum recursion depth exceeded"
     ]
    }
   ],
   "source": [
    "def f1():                #Error is RecursionError, kind of a variant of Timeout error,\n",
    "    f2()                 #it doesn't quite detect whether the deep call refers to the first function \n",
    "    print(1)\n",
    "\n",
    "def f2():\n",
    "    f1()\n",
    "    print(2)\n",
    "\n",
    "f1()"
   ]
  },
  {
   "cell_type": "markdown",
   "metadata": {},
   "source": [
    "### Fibonacci"
   ]
  },
  {
   "cell_type": "markdown",
   "metadata": {},
   "source": [
    "\n",
    "The Fibonacci Sequence is the series of numbers, where next number is found by adding up the two numbers before it.\n",
    "\n",
    "<center> $F_n = F_{n-1} + F_{n-2}$ </center>\n",
    "\n",
    "where $F_0 = 0$ and $F_1 = 1$.\n",
    "\n",
    "**Try Code:**\n",
    "\n",
    "Sample solution using `while-loop`:\n",
    "\n",
    "```python\n",
    "def fib_loop(n):\n",
    "    if n <= 1: \n",
    "        return n\n",
    "    else:\n",
    "        f0, f1 = 0, 1\n",
    "        i = 2\n",
    "        while i <= n:\n",
    "            f2 = f0 + f1\n",
    "            f0, f1 = f1, f2\n",
    "            i = i + 1\n",
    "        return f2\n",
    "\n",
    "fib_loop(5)\n",
    "```"
   ]
  },
  {
   "cell_type": "code",
   "execution_count": null,
   "metadata": {},
   "outputs": [],
   "source": []
  },
  {
   "cell_type": "markdown",
   "metadata": {},
   "source": [
    "We can also ask following questions:\n",
    "* What is the common actions in each iteration? (Hint: check the loop statements)\n",
    "* What is its termination condition?\n",
    "* If termination condition is True, what does it do?\n",
    "\n",
    "**Fibonacci**\n",
    "\n",
    "```\n",
    "fibonacci(n) = fibonacci(n − 1) + fibonacci(n − 2);\n",
    "...\n",
    "fibonacci(1) = 1\n",
    "fibonacci(0) = 0\n",
    "```\n",
    "\n",
    "<img src=\"./images/fib_calculation_tree.png\" alt=\"Divide and Conquer\" style=\"width: 350px;\"/>"
   ]
  },
  {
   "cell_type": "markdown",
   "metadata": {},
   "source": [
    "**Exercise:**\n",
    "\n",
    "Implement a recursive function `fib_recure()` to generate Fibonacci number.\n",
    "* It takes in a parameter `n` and returns `nth` Fibonacci number."
   ]
  },
  {
   "cell_type": "code",
   "execution_count": 17,
   "metadata": {},
   "outputs": [
    {
     "name": "stdout",
     "output_type": "stream",
     "text": "[0, 1, 1, 2, 3, 5, 8, 13, 21]\n"
    }
   ],
   "source": [
    "def fib_recurse(n):\n",
    "    if n==1:\n",
    "        return 0\n",
    "    elif n==2:\n",
    "        return 1\n",
    "    else:\n",
    "        return fib_recurse(n-1)+fib_recurse(n-2)\n",
    "\n",
    "print([fib_recurse(i) for i in range(1,10) ])"
   ]
  },
  {
   "cell_type": "markdown",
   "metadata": {},
   "source": [
    "### Great Common Divisor\n",
    "\n",
    "The **greatest common divisor (gcd)** of two or more integers, which are not all zero, is the largest positive integer that divides each of the integers.\n",
    "\n",
    "The [Euclidean Algorithm](https://en.wikipedia.org/wiki/Euclidean_algorithm) provides an efficient method for computing the greatest common divisor (GCD) of two numbers, e.g. `a` and `b`.\n",
    "* If `a % b == 0`, then `b` is the GCD\n",
    "* else result is the same as GCD of `b` and `a % b`\n",
    "\n",
    "For example, when `a = 1220` and `b = 516`, GCD is found to be 4. \n",
    "<img src=\"./images/euclid_method_gcd_example.png\" width=200/>"
   ]
  },
  {
   "cell_type": "markdown",
   "metadata": {},
   "source": [
    "**Exercise:**\n",
    "    \n",
    "Implement a function `gcd_loop()` using `while-loop` to calculate great common divisor (gcd) using Euclidean Algorithm.\n",
    "* It takes in 2 parameters `a` and `b`.\n",
    "* It returns gcd of `a` and `b`."
   ]
  },
  {
   "cell_type": "code",
   "execution_count": 44,
   "metadata": {},
   "outputs": [
    {
     "name": "stdout",
     "output_type": "stream",
     "text": "4\n4\n"
    }
   ],
   "source": [
    "def gcd_loop(a,b):\n",
    "    #if a<b:\n",
    "    #    b,a=a,b\n",
    "    while a%b!=0:\n",
    "        a,b = b,a%b\n",
    "    return b\n",
    "\n",
    "print(gcdloop(1220,516))"
   ]
  },
  {
   "cell_type": "markdown",
   "metadata": {},
   "source": [
    "**Exercise:**\n",
    "\n",
    "Implement a recursive function `gcd_recurse(a, b)` which returns great common divisor (gcd) of its 2 input parameters `a` and `b`."
   ]
  },
  {
   "cell_type": "code",
   "execution_count": null,
   "metadata": {},
   "outputs": [],
   "source": [
    "def gcd_recurse(a,b):\n",
    "    if b<=a:\n",
    "        if a%b==0:\n",
    "            return b\n",
    "        else:\n",
    "            return gcd_loop(b,a%b)\n",
    "    else:\n",
    "        return gcd_loop(b,a)\n",
    "\n",
    "gcd_recurse(1220,516)\n"
   ]
  },
  {
   "cell_type": "markdown",
   "metadata": {},
   "source": [
    "### Quotient & Remainder\n",
    "\n",
    "<img src=\"./images/what-is-quotient-remainder.png\" width=250/>\n",
    "\n",
    "To find the quotient and remainder of two numbers, we can also do it recursively. \n",
    "\n",
    "<img src=\"./images/quotient-remainder-example.png\" width=300/>\n"
   ]
  },
  {
   "cell_type": "markdown",
   "metadata": {},
   "source": [
    "**Exercise:**\n",
    "\n",
    "Implement a function `div_loop(dividend, divisor)` using `while-loop`, which returns quotient and remainder of its 2 input parameters `dividend` and `divisor`."
   ]
  },
  {
   "cell_type": "code",
   "execution_count": 60,
   "metadata": {},
   "outputs": [
    {
     "name": "stdout",
     "output_type": "stream",
     "text": "quotient is 6, remainder is 1\n"
    }
   ],
   "source": [
    "def div_loop(dividend,divisor):\n",
    "    q=0\n",
    "    while (dividend-q*divisor>=divisor):\n",
    "        q=q+1\n",
    "    return (q,dividend-q*divisor)\n",
    "\n",
    "print('quotient is {}, remainder is {}'.format(*div_loop(25,4)))"
   ]
  },
  {
   "cell_type": "markdown",
   "metadata": {},
   "source": [
    "**Exercise:**\n",
    "\n",
    "Implement a **recursive** function `div_recurse(dividend, divisor,q=0)` which returns quotient and remainder of its 2 input parameters `dividend` and `divisor`."
   ]
  },
  {
   "cell_type": "code",
   "execution_count": 62,
   "metadata": {},
   "outputs": [
    {
     "name": "stdout",
     "output_type": "stream",
     "text": "quotient is 6, remainder is 1\nquotient is 6, remainder is 1\n"
    }
   ],
   "source": [
    "def div_recurse_down(dividend,divisor,q=0):\n",
    "    if (dividend-divisor<0):\n",
    "        return (q,dividend) #dividend here is the remainder, q is the quotient\n",
    "    else:\n",
    "        q=q+1\n",
    "        return div_recurse(dividend-divisor,divisor,q)\n",
    "\n",
    "print('quotient is {}, remainder is {}'.format(*div_recurse(25,4)))\n",
    "\n",
    "def div_recurse_up(dividend,divisor):\n",
    "    if (dividend-divisor<0):\n",
    "        return (0,dividend) #dividend here is the remainder, q is the quotient\n",
    "    else:\n",
    "        q,r=div_recurse(dividend-divisor,divisor)\n",
    "    return q+1,r\n",
    "\n",
    "print('quotient is {}, remainder is {}'.format(*div_recurse(25,4)))"
   ]
  },
  {
   "cell_type": "code",
   "execution_count": 49,
   "metadata": {},
   "outputs": [
    {
     "data": {
      "text/plain": "(2, 5, 4, 3)"
     },
     "execution_count": 49,
     "metadata": {},
     "output_type": "execute_result"
    }
   ],
   "source": [
    "(2,5)+(4,3)"
   ]
  },
  {
   "cell_type": "markdown",
   "metadata": {},
   "source": [
    "### Maintain State in Recursion\n",
    "\n",
    "In recursive function, each recursive call has its own execution context, how to maintain state, i.e. share variables across recrusive calls?\n",
    "* Use variables of global scope\n",
    "* Pass the variables through recursive calls\n",
    "* Put it in returned value and update returned value\n",
    "\n",
    "**Question:**\n",
    "\n",
    "In the **Quotient and Remainder** example, how do we maintain the state of variable `q`?"
   ]
  },
  {
   "cell_type": "markdown",
   "metadata": {},
   "source": [
    "## 3. Tower of Hanoi"
   ]
  },
  {
   "cell_type": "markdown",
   "metadata": {},
   "source": [
    "The Towers of Hanoi is a mathematical puzzle. It consists of three rods, and a number of disks of different sizes which can slide onto any rod.\n",
    "\n",
    "The puzzle starts with the disks on one tower in ascending order of size, the smallest at the top, making a conical shape. The objective of the puzzle is to move entire stack on another tower with satisfying below rules:\n",
    "\n",
    "**Rules:**\n",
    "* Only one disk can be moved at a time.\n",
    "* Each move consists of taking the upper disk from one of the towers and move it onto another tower, on top of the other disks if there is any.\n",
    "* No disk can be placed on top of a smaller disk. \n",
    "\n",
    "<img src=\"./images/tower-of-hanoi-0.jpg\" width=380 />\n",
    "<i><center>Reference: https://codenuclear.com/towers-of-hanoi/</center></i>"
   ]
  },
  {
   "cell_type": "markdown",
   "metadata": {},
   "source": [
    "### Algorithm\n",
    "\n",
    "\n",
    "#### Approach\n",
    "\n",
    "* Recursively Move N-1 disk from source to Auxiliary peg.\n",
    "* Move the last disk from source to destination.\n",
    "* Recursively Move N-1 disk from Auxiliary to destination peg.\n",
    "\n",
    "<img src=\"./images/tower-of-hanoi-1.png\" width=380 />\n",
    "<i><center>Reference: https://algorithms.tutorialhorizon.com/towers-of-hanoi/</center></i>\n"
   ]
  },
  {
   "cell_type": "markdown",
   "metadata": {},
   "source": [
    "#### Naming\n",
    "\n",
    "* For `a tower of n disks`, smallest disk is `disk 1` and largest disk is `disk n`\n",
    "* For `a tower of n-1 disks`, smallest disk is still `disk 1` and largest disk is `disk n-1`"
   ]
  },
  {
   "cell_type": "markdown",
   "metadata": {},
   "source": [
    "#### Recursive\n",
    "\n",
    "At Step 1, the task is to:\n",
    "* Move `tower of n-1 disks` from `source` to `auxiliary`\n",
    "* Move `disk n` from `source` to `destination`\n",
    "* Move `tower of n-1 disks` from `auxiliary` to `destination`"
   ]
  },
  {
   "cell_type": "markdown",
   "metadata": {},
   "source": [
    "At Step 3, the task become following recursion:\n",
    "* Move `tower of n-2 disks` from `auxiliary` to `source`\n",
    "* Move `disk n-1` from `auxiliary` to `destination` \n",
    "* Move `tower of n-2 disks` from `source` to `destination`\n",
    "   \n",
    "**NOTE:** The `auxiliary pole` become `source pole`, and `source pole` become `auxiliary pole` in this recursion. "
   ]
  },
  {
   "cell_type": "markdown",
   "metadata": {},
   "source": [
    "### Implementation\n",
    "\n",
    "We will implement 2 functions, `move_disk()` and `move_tower()`.\n"
   ]
  },
  {
   "cell_type": "markdown",
   "metadata": {},
   "source": [
    "**`move_disk(x, src, dest)`**\n",
    "* It represents moving a `disk x` from `src` pole to `dest` pole.\n",
    "* It prints a message `Move disk {x} from {src} to {dest}`. "
   ]
  },
  {
   "cell_type": "code",
   "execution_count": 67,
   "metadata": {},
   "outputs": [],
   "source": [
    "def move_disk(x,src,dest):\n",
    "    print('Move disk {} from {} to {}'.format(x,src,dest))"
   ]
  },
  {
   "cell_type": "markdown",
   "metadata": {},
   "source": [
    "#### `move_tower(n, src, aux, dest)`\n",
    "* It represents moving a `tower of n disk` from `src` pole to `dest` pole. The `aux` pole can be used to facilitate moving.\n",
    "* This is a recursive function.\n",
    "\n",
    "**base case:**\n",
    "* When n = 0, do nothing\n",
    "* When n = 1, move the disk from `src` to `dest`\n",
    "\n",
    "**recursion in each loop:**\n",
    "* Move `tower of n-1 disks` from `src` to `aux`\n",
    "* Move `disk n` from `src` to `dest`\n",
    "* Move `tower of n-1 disk` from `aux` to `src`"
   ]
  },
  {
   "cell_type": "code",
   "execution_count": 74,
   "metadata": {},
   "outputs": [
    {
     "name": "stdout",
     "output_type": "stream",
     "text": "Move disk 1 from S to D\nMove disk 2 from S to A\nMove disk 1 from D to S\nMove disk 3 from S to D\nMove disk 1 from A to D\nMove disk 2 from A to S\nMove disk 1 from D to A\n"
    }
   ],
   "source": [
    "def move_tower(n,src,aux,dest):\n",
    "    if n==0:\n",
    "        pass\n",
    "    elif n==1:                         #Not really required, as move_tower(0,src,dest,aux) evaluates to 'pass'\n",
    "        move_disk(n,src,dest)\n",
    "    else:\n",
    "        move_tower(n-1,src,dest,aux)   #Refer to the diagram for better illustration\n",
    "        move_disk(n,src,dest)\n",
    "        move_tower(n-1,aux,dest,src)\n",
    "\n",
    "move_tower(3,'S','A','D')"
   ]
  },
  {
   "cell_type": "markdown",
   "metadata": {},
   "source": [
    "### Tests"
   ]
  },
  {
   "cell_type": "code",
   "execution_count": null,
   "metadata": {},
   "outputs": [],
   "source": []
  },
  {
   "cell_type": "code",
   "execution_count": null,
   "metadata": {},
   "outputs": [],
   "source": []
  },
  {
   "cell_type": "code",
   "execution_count": 64,
   "metadata": {},
   "outputs": [],
   "source": [
    "\n",
    "\n",
    "def TowerOfHanoi(n , from_rod, to_rod, aux_rod): \n",
    "    if n == 1: \n",
    "        print(\"Move disk 1 from rod\",from_rod,\"to rod\",to_rod) \n",
    "        return\n",
    "    TowerOfHanoi(n-1, from_rod, aux_rod, to_rod) \n",
    "    print(\"Move disk\",n,\"from rod\",from_rod,\"to rod\",to_rod) \n",
    "    TowerOfHanoi(n-1, aux_rod, to_rod, from_rod) "
   ]
  },
  {
   "cell_type": "markdown",
   "metadata": {},
   "source": [
    "## 4. Summary\n",
    "\n",
    "#### Advantages\n",
    "\n",
    "* Recursive functions make the code look clean and elegant.\n",
    "* A complex task can be broken down into simpler sub-problems using recursion.\n",
    "* Sequence generation is easier with recursion than using some nested iteration.\n",
    "\n",
    "#### Disadvantages\n",
    "\n",
    "\n",
    "* Sometimes the logic behind recursion is hard to follow through.\n",
    "* Recursive functions are hard to debug.\n",
    "* Recursive calls are expensive (inefficient) as they take up a lot of memory and time.\n",
    "\n",
    "**More Memory Usage**\n",
    "\n",
    "Everytime a function calls itself and stores some memory. Thus, a recursive function could hold much more memory than a traditional function. \n",
    "* Python stops the function calls after a depth of 1000 calls, and throws a `RecursionError: maximum recursion depth exeeded..` error.\n",
    "* You can increase recursion depth using `sys.setrecursionlimit(limit)` function.\n",
    "\n",
    "```\n",
    "import sys\n",
    "\n",
    "sys.setrecursionlimit(1050)\n",
    "fib(1050)\n",
    "```"
   ]
  },
  {
   "cell_type": "markdown",
   "metadata": {},
   "source": [
    "## Reference\n",
    "\n",
    "* https://www.python-course.eu/recursive_functions.php\n",
    "* https://realpython.com/python-thinking-recursively/#dear-pythonic-santa-claus\n",
    "* https://www.python-course.eu/python3_recursive_functions.php\n",
    "* https://study.com/academy/lesson/recursion-recursive-algorithms-in-python-definition-examples.html\n",
    "\n",
    "* [IterativePython: Problem Solving with Algorithms and Data Structures - Recursion](http://interactivepython.org/courselib/static/pythonds/Recursion/toctree.html)\n",
    "* [Datacamp: Understanding Recursive Functions in Python](https://www.datacamp.com/community/tutorials/understanding-recursive-functions-python)"
   ]
  }
 ],
 "metadata": {
  "kernelspec": {
   "display_name": "Python 3",
   "language": "python",
   "name": "python3"
  },
  "language_info": {
   "codemirror_mode": {
    "name": "ipython",
    "version": 3
   },
   "file_extension": ".py",
   "mimetype": "text/x-python",
   "name": "python",
   "nbconvert_exporter": "python",
   "pygments_lexer": "ipython3",
   "version": "3.7.4-final"
  }
 },
 "nbformat": 4,
 "nbformat_minor": 2
}