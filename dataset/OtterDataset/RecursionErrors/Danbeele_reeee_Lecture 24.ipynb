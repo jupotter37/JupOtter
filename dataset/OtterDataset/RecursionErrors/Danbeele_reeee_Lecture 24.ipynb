{
 "cells": [
  {
   "cell_type": "markdown",
   "metadata": {},
   "source": [
    "# Lecture 24\n",
    "\n",
    "### Recursion; A Silly Recursion; Recursive Sum; Progression to the Base Case; Fibonacci; Flatten; The Hat; The Koch Fractal"
   ]
  },
  {
   "cell_type": "markdown",
   "metadata": {},
   "source": [
    "# 1. Recursion\n",
    "\n",
    "### * Recall that $n!$, read as n factorial, is an important mathematical operation.  How can we implement it as a function?  Well, a loop's not too hard.\n"
   ]
  },
  {
   "cell_type": "code",
   "execution_count": 1,
   "metadata": {
    "jupyter": {
     "outputs_hidden": true
    }
   },
   "outputs": [
    {
     "name": "stdout",
     "output_type": "stream",
     "text": [
      "120  (should be 120)\n",
      "1405006117752879898543142606244511569936384000000000  (should be...big)\n",
      "1  (0! = 1 by definition)\n"
     ]
    }
   ],
   "source": [
    "# EXAMPLE 1a: Factorial function\n",
    "\n",
    "def factorial(n):\n",
    "    \"\"\"Return n factorial.\"\"\"\n",
    "    product = 1\n",
    "    # Multiply product by each number between 1 and n. \n",
    "    for factor in range (1, n+1):\n",
    "        product *= factor\n",
    "    return product\n",
    "\n",
    "print(factorial(5), ' (should be 120)')\n",
    "print(factorial(42), ' (should be...big)')\n",
    "print(factorial(0), ' (0! = 1 by definition)')"
   ]
  },
  {
   "cell_type": "markdown",
   "metadata": {},
   "source": [
    "\n",
    "<br><br><br><br><br>\n",
    "<br><br><br><br><br>\n",
    "\n",
    "### * $n!$ can ALSO be defined by:\n",
    "\n",
    "* $0! = 1$\n",
    "* $n! = n \\cdot (n-1)!$ if $n \\geq 1$\n",
    "\n",
    "### * For example, $5! = 5\\cdot 4 \\cdot 3 \\cdot 2 \\cdot 1 = 5 \\cdot (4 \\cdot 3 \\cdot 2 \\cdot 1) = 5\\cdot 4!$.  \n",
    "\n",
    "### * Can you use a function to compute the value of *that same* function?  Let's give it a try!"
   ]
  },
  {
   "cell_type": "code",
   "execution_count": 15,
   "metadata": {
    "jupyter": {
     "outputs_hidden": true
    }
   },
   "outputs": [
    {
     "ename": "RecursionError",
     "evalue": "maximum recursion depth exceeded",
     "output_type": "error",
     "traceback": [
      "\u001b[1;31m---------------------------------------------------------------------------\u001b[0m",
      "\u001b[1;31mRecursionError\u001b[0m                            Traceback (most recent call last)",
      "Cell \u001b[1;32mIn[15], line 10\u001b[0m\n\u001b[0;32m      7\u001b[0m     \u001b[38;5;28;01melse\u001b[39;00m:\n\u001b[0;32m      8\u001b[0m         \u001b[38;5;28;01mreturn\u001b[39;00m n \u001b[38;5;241m*\u001b[39m rfact(n\u001b[38;5;241m-\u001b[39m\u001b[38;5;241m1\u001b[39m)\n\u001b[1;32m---> 10\u001b[0m \u001b[38;5;28mprint\u001b[39m(rfact(\u001b[38;5;241m10000\u001b[39m))\n",
      "Cell \u001b[1;32mIn[15], line 8\u001b[0m, in \u001b[0;36mrfact\u001b[1;34m(n)\u001b[0m\n\u001b[0;32m      6\u001b[0m     \u001b[38;5;28;01mreturn\u001b[39;00m \u001b[38;5;241m1\u001b[39m\n\u001b[0;32m      7\u001b[0m \u001b[38;5;28;01melse\u001b[39;00m:\n\u001b[1;32m----> 8\u001b[0m     \u001b[38;5;28;01mreturn\u001b[39;00m n \u001b[38;5;241m*\u001b[39m rfact(n\u001b[38;5;241m-\u001b[39m\u001b[38;5;241m1\u001b[39m)\n",
      "Cell \u001b[1;32mIn[15], line 8\u001b[0m, in \u001b[0;36mrfact\u001b[1;34m(n)\u001b[0m\n\u001b[0;32m      6\u001b[0m     \u001b[38;5;28;01mreturn\u001b[39;00m \u001b[38;5;241m1\u001b[39m\n\u001b[0;32m      7\u001b[0m \u001b[38;5;28;01melse\u001b[39;00m:\n\u001b[1;32m----> 8\u001b[0m     \u001b[38;5;28;01mreturn\u001b[39;00m n \u001b[38;5;241m*\u001b[39m rfact(n\u001b[38;5;241m-\u001b[39m\u001b[38;5;241m1\u001b[39m)\n",
      "    \u001b[1;31m[... skipping similar frames: rfact at line 8 (2971 times)]\u001b[0m\n",
      "Cell \u001b[1;32mIn[15], line 8\u001b[0m, in \u001b[0;36mrfact\u001b[1;34m(n)\u001b[0m\n\u001b[0;32m      6\u001b[0m     \u001b[38;5;28;01mreturn\u001b[39;00m \u001b[38;5;241m1\u001b[39m\n\u001b[0;32m      7\u001b[0m \u001b[38;5;28;01melse\u001b[39;00m:\n\u001b[1;32m----> 8\u001b[0m     \u001b[38;5;28;01mreturn\u001b[39;00m n \u001b[38;5;241m*\u001b[39m rfact(n\u001b[38;5;241m-\u001b[39m\u001b[38;5;241m1\u001b[39m)\n",
      "\u001b[1;31mRecursionError\u001b[0m: maximum recursion depth exceeded"
     ]
    }
   ],
   "source": [
    "# EXAMPLE 1b: Recursive factorial\n",
    "\n",
    "def rfact(n):\n",
    "    \"\"\"Return n factorial, computed recursively.\"\"\"\n",
    "    if n <= 1:\n",
    "        return 1\n",
    "    else:\n",
    "        return n * rfact(n-1)\n",
    "    \n",
    "print(rfact(10000))"
   ]
  },
  {
   "cell_type": "markdown",
   "metadata": {},
   "source": [
    "\n",
    "### * This is an example of a **recursive function**: this simply means a function that makes a call to itself.  \n",
    "\n",
    "### * Recursive functions will have some simple base cases (like $1! = 1$) that can be computed without recurvise calls.  \n",
    "\n",
    "### * Furthermore, an effective recursive function will frequently find the answer to a \"big\" problem using calls to the same function applied to a \"smaller\" problem.  (For example, to compute $10!$, first we solve the smaller problem $9!$, and multiply the answer by 10.)\n",
    "\n",
    "\n",
    "<br><br><br><br><br>\n",
    "<br><br><br><br><br>\n",
    "\n",
    "# 2.  A Silly Recursion\n",
    "\n",
    "### * In the below, what will `my_recursion(2)` produce? What about `my_recursion(3)`?  What about `my_recursion(20)`?  Trace it until you understand, then test!"
   ]
  },
  {
   "cell_type": "code",
   "execution_count": null,
   "metadata": {
    "collapsed": true,
    "jupyter": {
     "outputs_hidden": true
    }
   },
   "outputs": [],
   "source": [
    "# EXAMPLE 2a: How will this function execute?\n",
    "\n",
    "def my_recursion(x):\n",
    "    if x < 1:\n",
    "        return 2\n",
    "    else:\n",
    "        return 2 + my_recursion(x-1)\n",
    "    \n",
    "# DESCRIBE what this function does.  After you've got an idea, run the function with inputs 2, 3, 20\n"
   ]
  },
  {
   "cell_type": "markdown",
   "metadata": {},
   "source": [
    "\n",
    "<br><br><br><br><br>\n",
    "<br><br><br><br><br>\n",
    "\n",
    "\n",
    "# 3. Recursive Sum\n",
    "\n",
    "\n",
    "### * Let's write a recursive function which sums a list (not useful, but we're starting easy).\n",
    "\n",
    "### * Strategy: the sum of a list is equal to the first element plus the sum of all the rest.  We'll use slicing.  (Of course, I haven't given all the details.)"
   ]
  },
  {
   "cell_type": "code",
   "execution_count": null,
   "metadata": {
    "collapsed": true,
    "jupyter": {
     "outputs_hidden": true
    }
   },
   "outputs": [],
   "source": [
    "# EXAMPLE 3a: Recursive sum\n",
    "\n",
    "def rec_sum(x):\n",
    "    \n",
    "    \n",
    "    \n",
    "    \n",
    "    \n",
    "    \n",
    "abc = [10, 20, 40, 50]\n",
    "print(rec_sum(abc))"
   ]
  },
  {
   "cell_type": "markdown",
   "metadata": {},
   "source": [
    "<br><br><br><br><br>\n",
    "<br><br><br><br><br>\n",
    "\n",
    "\n",
    "\n",
    "# 4. Progression Toward the Base Case\n",
    "\n",
    "### * Having a base case isn't enough -- need progression towards it!"
   ]
  },
  {
   "cell_type": "code",
   "execution_count": null,
   "metadata": {},
   "outputs": [],
   "source": [
    "# EXAMPLE 4a: No progression to the base case\n",
    "\n",
    "def bad(x):\n",
    "    if x == 1:\n",
    "        return x\n",
    "    else:\n",
    "        return bad(x)\n",
    "    \n",
    "# What would happen if you attempted to evaluate bad(2)?\n",
    "'''print(bad(2))'''"
   ]
  },
  {
   "cell_type": "markdown",
   "metadata": {},
   "source": [
    "<br><br><br><br><br>\n",
    "<br><br><br><br><br>\n",
    "\n",
    "\n",
    "\n",
    "# 5. The Fibonacci Sequence\n",
    "\n",
    "### * Famous sequence: $1, 1, 2, 3, 5, 8, 13, 21, 34, 55, \\ldots $\n",
    "\n",
    "### * Each term is the sum of the previous two terms.  This pattern appears various places in mathematics and, apparently, nature.\n",
    "\n",
    "![!!!!!!NOT FOUND](fib_flower.png)\n",
    "\n",
    "### Count the number of spirals in each direction: 13 in one direction, 21 in the other.\n",
    "\n",
    "\n",
    "### * Let $F_n$ denote the $n$th term of the Fibonacci sequence.  So $F_1 = F_2 = 1$, $F_3 = 2$, $F_4 = 3$, ....\n",
    "\n",
    "### * In general, what is the basic formula for $F_n$??\n"
   ]
  },
  {
   "cell_type": "code",
   "execution_count": 19,
   "metadata": {
    "jupyter": {
     "outputs_hidden": true
    }
   },
   "outputs": [
    {
     "name": "stdout",
     "output_type": "stream",
     "text": [
      "102334155\n"
     ]
    }
   ],
   "source": [
    "# EXAMPLE 5a: Fibonacci Sequence, via Recursion\n",
    "\n",
    "def fib(n):\n",
    "    \"\"\"Return the nth Fibonacci number.\"\"\"\n",
    "    \n",
    "    if n==1 or n==2:\n",
    "        return 1\n",
    "    else:\n",
    "        return fib(n-1) + fib(n-2)\n",
    "    \n",
    "    \n",
    "    \n",
    "x = fib(40)\n",
    "print(x)"
   ]
  },
  {
   "cell_type": "markdown",
   "metadata": {},
   "source": [
    "<br><br><br><br><br>\n",
    "<br><br><br><br><br>\n",
    "\n",
    "\n",
    "\n",
    "### * Now, what happens when you execute this function with $n = 100$?  Don't execute it yet!!!  Instead, let's throw in `print(n)` statements at the top of the function, and run `fib(7)`.\n",
    "\n",
    "### * Wow, how many times is the function being called? Certainly way more than 7, or even 7 * 2.\n",
    "\n",
    "### * Here is a tree representing the calls `fib(7)` makes (stolen from the internet):\n",
    "\n",
    "![!!!!!!!NOT FOUND](fib.png)\n",
    "\n",
    "### * In fact, you can see that the number of calls to `fib(n)` behaves a lot like the value of `fib(n)` itself -- which is exponential!  If you're bold, try `fib(100)`, and watch the execution.  It won't finish.  The number of calls will be *obscene*.\n",
    "\n",
    "\n",
    "<br><br><br><br><br>\n",
    "<br><br><br><br><br>\n",
    "\n",
    "\n",
    "### * The problem is that we see, for instance, `fib(4)` over and over again in the computation of `fib(7)`, and each time, we recompute it. Ridiculous!\n",
    "\n",
    "### * Two alternatives: \n",
    "\n",
    "### --- use a loop instead, no recursion.  Slightly tricky, good exercise.  Try it!\n",
    "### --- have the function keep a list of known answers.  Each time a computation is done, we see if it has been done already.  If it has been, we just read the answer; otherwise, we do the new computation, and place it in the list.\n",
    "\n",
    "\n"
   ]
  },
  {
   "cell_type": "code",
   "execution_count": 21,
   "metadata": {},
   "outputs": [
    {
     "name": "stdout",
     "output_type": "stream",
     "text": [
      "Fib 1: 1\n",
      "Fib 2: 1\n",
      "Fib 3: 2\n",
      "Fib 4: 3\n",
      "Fib 5: 5\n",
      "Fib 6: 8\n",
      "Fib 7: 13\n",
      "Fib 8: 21\n",
      "Fib 9: 34\n",
      "Fib 10: 55\n",
      "Fib 11: 89\n",
      "Fib 12: 144\n",
      "Fib 13: 233\n",
      "Fib 14: 377\n",
      "Fib 15: 610\n",
      "Fib 16: 987\n",
      "Fib 17: 1597\n",
      "Fib 18: 2584\n",
      "Fib 19: 4181\n",
      "Fib 20: 6765\n",
      "Fib 21: 10946\n",
      "Fib 22: 17711\n",
      "Fib 23: 28657\n",
      "Fib 24: 46368\n",
      "Fib 25: 75025\n",
      "Fib 26: 121393\n",
      "Fib 27: 196418\n",
      "Fib 28: 317811\n",
      "Fib 29: 514229\n",
      "Fib 30: 832040\n",
      "Fib 31: 1346269\n",
      "Fib 32: 2178309\n",
      "Fib 33: 3524578\n",
      "Fib 34: 5702887\n",
      "Fib 35: 9227465\n",
      "Fib 36: 14930352\n",
      "Fib 37: 24157817\n",
      "Fib 38: 39088169\n",
      "Fib 39: 63245986\n",
      "Fib 40: 102334155\n",
      "Fib 41: 165580141\n",
      "Fib 42: 267914296\n",
      "Fib 43: 433494437\n",
      "Fib 44: 701408733\n",
      "Fib 45: 1134903170\n",
      "Fib 46: 1836311903\n",
      "Fib 47: 2971215073\n",
      "Fib 48: 4807526976\n",
      "Fib 49: 7778742049\n",
      "Fib 50: 12586269025\n",
      "Fib 51: 20365011074\n",
      "Fib 52: 32951280099\n",
      "Fib 53: 53316291173\n",
      "Fib 54: 86267571272\n",
      "Fib 55: 139583862445\n",
      "Fib 56: 225851433717\n",
      "Fib 57: 365435296162\n",
      "Fib 58: 591286729879\n",
      "Fib 59: 956722026041\n",
      "Fib 60: 1548008755920\n",
      "Fib 61: 2504730781961\n",
      "Fib 62: 4052739537881\n",
      "Fib 63: 6557470319842\n",
      "Fib 64: 10610209857723\n",
      "Fib 65: 17167680177565\n",
      "Fib 66: 27777890035288\n",
      "Fib 67: 44945570212853\n",
      "Fib 68: 72723460248141\n",
      "Fib 69: 117669030460994\n",
      "Fib 70: 190392490709135\n",
      "Fib 71: 308061521170129\n",
      "Fib 72: 498454011879264\n",
      "Fib 73: 806515533049393\n",
      "Fib 74: 1304969544928657\n",
      "Fib 75: 2111485077978050\n",
      "Fib 76: 3416454622906707\n",
      "Fib 77: 5527939700884757\n",
      "Fib 78: 8944394323791464\n",
      "Fib 79: 14472334024676221\n",
      "Fib 80: 23416728348467685\n",
      "Fib 81: 37889062373143906\n",
      "Fib 82: 61305790721611591\n",
      "Fib 83: 99194853094755497\n",
      "Fib 84: 160500643816367088\n",
      "Fib 85: 259695496911122585\n",
      "Fib 86: 420196140727489673\n",
      "Fib 87: 679891637638612258\n",
      "Fib 88: 1100087778366101931\n",
      "Fib 89: 1779979416004714189\n",
      "Fib 90: 2880067194370816120\n",
      "Fib 91: 4660046610375530309\n",
      "Fib 92: 7540113804746346429\n",
      "Fib 93: 12200160415121876738\n",
      "Fib 94: 19740274219868223167\n",
      "Fib 95: 31940434634990099905\n",
      "Fib 96: 51680708854858323072\n",
      "Fib 97: 83621143489848422977\n",
      "Fib 98: 135301852344706746049\n",
      "Fib 99: 218922995834555169026\n",
      "Fib 100: 354224848179261915075\n"
     ]
    }
   ],
   "source": [
    "# EXAMPLE 5b: Fibonacci Sequence, via Memoization\n",
    "\n",
    "# This is a global dictionary\n",
    "cache = {}\n",
    "\n",
    "\n",
    "def fib_memo(n):\n",
    "    if n <= 2:\n",
    "        return 1\n",
    "    try:\n",
    "        # If possible, don't waste your time recomputing.\n",
    "        return cache[n]\n",
    "    except KeyError:\n",
    "        # We're seeing this problem for the first time. \n",
    "        # Better solve it, and write down the answer we get.\n",
    "        answer = fib_memo(n-1) + fib_memo(n-2)\n",
    "        cache[n] = answer # Before returning -- write down your answer\n",
    "        return answer\n",
    "    \n",
    "\n",
    "# Test\n",
    "for i in range(1,101):\n",
    "    print(f'Fib {i}: {fib_memo(i)}')"
   ]
  },
  {
   "cell_type": "markdown",
   "metadata": {},
   "source": [
    "<br><br><br><br><br>\n",
    "<br><br><br><br><br>\n",
    "\n",
    "\n",
    "# 6. Flatten\n",
    "\n",
    "### * A natural recursive problem: suppose that you have a list of numbers that is nested in some weird way, like\n",
    "\n",
    "`x = [1, [2, 3], [[4, 5], 6, [7, 8]], 9, [10, 11]]`\n",
    "\n",
    "### that you would like to turn into a basic, unnested, 1D list (that's called flattening):\n",
    "\n",
    "`f = [1, 2, 3, 4, 5, 6, 7, 8, 9, 10, 11]`\n",
    "\n",
    "\n",
    "### * Consider each element of `x` -- those would be `1` and `[2,3]` and `[[4, 5], 6, [7, 8]]` and `9` and `[10,11]`.  \n",
    "\n",
    "### * To flatten `x`, we start with an empty list, go through `x` one element at a time, and add each element of the list, as follows.\n",
    "\n",
    "\n",
    "### --- If an element is a number (like `1` and `9`): these should just be *appended* to the list in progress.  \n",
    "\n",
    "### --- Other elements are nested lists (like `[[4, 5], 6, [7, 8]]`) -- we will apply `flatten` to these to produce 1D lists, and `+=` them onto the list in progress.  \n",
    "\n",
    "### --- What about plain 1D lists (like `[2, 3]` and `[10, 11]`)?  We'll apply `flatten` to these too (even though, if `flatten` is working correctly, it will return the same list!) and `+=` the result.\n",
    "\n",
    "### * How do you check if an element is a list (nested/unnested) or not?  Easy!  Use \n",
    "\n",
    "`type(x) == list`\n",
    "\n",
    "<br><br><br><br><br><br><br><br><br><br>"
   ]
  },
  {
   "cell_type": "code",
   "execution_count": null,
   "metadata": {},
   "outputs": [],
   "source": [
    "# EXAMPLE 6a: Flatten a nested list.\n",
    "\n",
    "def flatten(in_list):\n",
    "    out_list = []\n",
    "    \n",
    "    \n",
    "    \n",
    "    for elt in in_list:\n",
    "    \n",
    "        \n",
    "    \n",
    "    return out_list\n",
    "\n",
    "# Test!\n",
    "x = flatten([1, [2, 3], [[4, 5], 6, [7, 8]], 9, [10, 11]])\n",
    "print(x)\n",
    "\n"
   ]
  },
  {
   "cell_type": "markdown",
   "metadata": {},
   "source": [
    "\n",
    "<br><br><br><br><br><br><br><br><br><br>\n",
    "\n",
    "# 7.  The Hat\n",
    "\n",
    "### * Let's look at using a function with a turtle."
   ]
  },
  {
   "cell_type": "code",
   "execution_count": 2,
   "metadata": {
    "jupyter": {
     "outputs_hidden": true
    }
   },
   "outputs": [
    {
     "ename": "Terminator",
     "evalue": "",
     "output_type": "error",
     "traceback": [
      "\u001b[1;31m---------------------------------------------------------------------------\u001b[0m",
      "\u001b[1;31mTerminator\u001b[0m                                Traceback (most recent call last)",
      "Cell \u001b[1;32mIn[2], line 27\u001b[0m\n\u001b[0;32m     24\u001b[0m draw_hat(\u001b[38;5;241m100\u001b[39m, t)\n\u001b[0;32m     26\u001b[0m scr\u001b[38;5;241m.\u001b[39mmainloop()\n\u001b[1;32m---> 27\u001b[0m turtle\u001b[38;5;241m.\u001b[39mbye()\n",
      "File \u001b[1;32m<string>:5\u001b[0m, in \u001b[0;36mbye\u001b[1;34m()\u001b[0m\n",
      "\u001b[1;31mTerminator\u001b[0m: "
     ]
    }
   ],
   "source": [
    "# EXAMPLE 7a: The hat\n",
    "\n",
    "import turtle\n",
    "\n",
    "def draw_hat(sidelength, turtle):\n",
    "    \"\"\"\n",
    "    Have the turtle continue in the direction it is currently facing, tracing out a \"hat\" shape, where each side\n",
    "    is a line segment of size = sidelength.\n",
    "    Notice the lack of a return value: this function produces an action.\n",
    "    \"\"\"\n",
    "    turtle.forward(sidelength)\n",
    "    turtle.left(60)\n",
    "    turtle.forward(sidelength)\n",
    "    turtle.right(120)\n",
    "    turtle.forward(sidelength)\n",
    "    turtle.left(60)\n",
    "    turtle.forward(sidelength)\n",
    "    \n",
    "t = turtle.Turtle()\n",
    "scr = turtle.Screen()\n",
    "\n",
    "draw_hat(30, t) # Notice: we just call the function; we don't print or assign the return value, which is None!\n",
    "t.left(90)\n",
    "draw_hat(100, t)\n",
    "\n",
    "scr.mainloop()\n",
    "turtle.bye()    "
   ]
  },
  {
   "cell_type": "markdown",
   "metadata": {},
   "source": [
    "\n",
    "<br><br><br><br><br><br><br><br><br><br>\n",
    "\n",
    "# 8. The Koch Fractal\n",
    "\n",
    "### * Now, let's try to produce this shape, the \"Koch fractal\":\n",
    "\n",
    "![NOT FOUND!!!!!!!!!!](koch_3.png)\n",
    "\n",
    "\n",
    "### * We're taking a hat, replacing each side of the hat with a smaller hat, with each side of those hats replaced by even smaller hats.  There's some recursion here!\n",
    "\n",
    "### * Two helpful definitions:\n",
    "\n",
    "### --- *Order*: An order 0 Koch fractal is a straight line.  An order 1 Koch fractal will be the hat from before.  An order 2 Koch fractal will be a hat, with each of it's sides replaced by an order 1 Koch fractal.  And so on...\n",
    "\n",
    "### --- *Straight line distance*:  the straight line distance from start point to end point.  Then each side of a plain hat will just be the straight line distance divided by 3."
   ]
  },
  {
   "cell_type": "code",
   "execution_count": null,
   "metadata": {
    "collapsed": true,
    "jupyter": {
     "outputs_hidden": true
    }
   },
   "outputs": [],
   "source": [
    "# EXAMPLE 8a: The Koch fractal\n",
    "\n",
    "import turtle\n",
    "\n",
    "def koch(str_dist, turtle, order):\n",
    "    \"\"\"\n",
    "    Have the turtle continue in the direction it is currently facing, tracing out a \"Koch fractal\" with the \n",
    "    given order, and with str_dist equal to the straight line distrance from first point to last.\n",
    "    \"\"\"\n",
    "    \n",
    "    \n",
    "    \n",
    "    \n",
    "    \n",
    "    \n",
    "    \n",
    "    \n",
    "def main():    \n",
    "    t = turtle.Turtle()\n",
    "    scr = turtle.Screen()\n",
    "\n",
    "    dis = int(input('Straight line distance: '))\n",
    "    order = int(input('Order: '))\n",
    "\n",
    "    koch(dis, t, order)\n",
    "    \n",
    "    scr.mainloop()\n",
    "    turtle.bye()\n",
    "    \n",
    "    \n",
    "main()"
   ]
  }
 ],
 "metadata": {
  "kernelspec": {
   "display_name": "Python 3 (ipykernel)",
   "language": "python",
   "name": "python3"
  },
  "language_info": {
   "codemirror_mode": {
    "name": "ipython",
    "version": 3
   },
   "file_extension": ".py",
   "mimetype": "text/x-python",
   "name": "python",
   "nbconvert_exporter": "python",
   "pygments_lexer": "ipython3",
   "version": "3.11.5"
  },
  "name": "_merged_merged"
 },
 "nbformat": 4,
 "nbformat_minor": 4
}
