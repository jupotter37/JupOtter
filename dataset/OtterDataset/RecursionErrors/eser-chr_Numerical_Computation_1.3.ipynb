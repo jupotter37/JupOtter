{
 "cells": [
  {
   "cell_type": "code",
   "execution_count": 86,
   "metadata": {},
   "outputs": [],
   "source": [
    "import numpy as np\n",
    "from numba import njit\n",
    "import matplotlib.pyplot as plt"
   ]
  },
  {
   "cell_type": "code",
   "execution_count": 105,
   "metadata": {},
   "outputs": [],
   "source": [
    "def lagranze_gen(knots):\n",
    "    '''It returns a matrix with all the monomer terms of the lagranze polynomials'''\n",
    "    def lagranze_basis(x, x_i, x_j):\n",
    "            return (x-x_j)/(x_i-x_j)\n",
    "    \n",
    "    BASES=[]\n",
    "    for i in range(len(knots)):  \n",
    "        basis = []\n",
    "        for j in range(len(knots)):\n",
    "            if i!=j:\n",
    "                basis.append(lambda x, x_i=knots[i], x_j=knots[j]: lagranze_basis(x, x_i, x_j))\n",
    "            else:\n",
    "                basis.append(lambda x: 1)\n",
    "        BASES.append(basis)\n",
    "                  \n",
    "        \n",
    "    return BASES\n",
    "\n",
    "def lagranze_pol_gen(knots):    \n",
    "    BASES = lagranze_gen(knots)\n",
    "    \n",
    "    POL = []\n",
    "    \n",
    "\n",
    "    for i in range(len(knots)):\n",
    "         POL.append(lambda x , a = i: BASES[a][0](x)*BASES[a][1](x)*BASES[a][2](x))\n",
    "\n",
    "    # for i in range(len(knots)):\n",
    "    #      POL.append(lambda x , a = i: BASES[a][0](x))\n",
    "\n",
    "    # for i in range(len(knots)):\n",
    "    #      for j in range(1,len(knots)):\n",
    "    #         POL[i]= lambda x, a=i, b=j : POL[a](x)* BASES[a][b](x)\n",
    "    \n",
    "    return POL"
   ]
  },
  {
   "cell_type": "code",
   "execution_count": 52,
   "metadata": {},
   "outputs": [],
   "source": [
    "def pol_gen(knots, values):\n",
    "    basis = lagranze_gen(knots)\n",
    "    \n",
    "    def p(x):\n",
    "        res = 0\n",
    "        for i in range(len(knots)):\n",
    "            res+=values[i]*basis[i](x)\n",
    "        return res\n",
    "\n",
    "    basis = lagranze_gen(knots)\n",
    "    "
   ]
  },
  {
   "cell_type": "code",
   "execution_count": 106,
   "metadata": {},
   "outputs": [
    {
     "ename": "RecursionError",
     "evalue": "maximum recursion depth exceeded",
     "output_type": "error",
     "traceback": [
      "\u001b[0;31m---------------------------------------------------------------------------\u001b[0m",
      "\u001b[0;31mRecursionError\u001b[0m                            Traceback (most recent call last)",
      "\u001b[1;32m/Users/chriseser/Desktop/NUMERICAL/1.3.ipynb Cell 4\u001b[0m line \u001b[0;36m6\n\u001b[1;32m      <a href='vscode-notebook-cell:/Users/chriseser/Desktop/NUMERICAL/1.3.ipynb#X33sZmlsZQ%3D%3D?line=2'>3</a>\u001b[0m A \u001b[39m=\u001b[39m lagranze_pol_gen(knots)\n\u001b[1;32m      <a href='vscode-notebook-cell:/Users/chriseser/Desktop/NUMERICAL/1.3.ipynb#X33sZmlsZQ%3D%3D?line=4'>5</a>\u001b[0m x \u001b[39m=\u001b[39m np\u001b[39m.\u001b[39mlinspace(\u001b[39m0\u001b[39m,\u001b[39m4\u001b[39m)\n\u001b[0;32m----> <a href='vscode-notebook-cell:/Users/chriseser/Desktop/NUMERICAL/1.3.ipynb#X33sZmlsZQ%3D%3D?line=5'>6</a>\u001b[0m plt\u001b[39m.\u001b[39mplot(x,A[\u001b[39m0\u001b[39;49m](x))\n\u001b[1;32m      <a href='vscode-notebook-cell:/Users/chriseser/Desktop/NUMERICAL/1.3.ipynb#X33sZmlsZQ%3D%3D?line=6'>7</a>\u001b[0m plt\u001b[39m.\u001b[39mplot(x,A[\u001b[39m1\u001b[39m](x))\n\u001b[1;32m      <a href='vscode-notebook-cell:/Users/chriseser/Desktop/NUMERICAL/1.3.ipynb#X33sZmlsZQ%3D%3D?line=7'>8</a>\u001b[0m plt\u001b[39m.\u001b[39mplot(x,A[\u001b[39m2\u001b[39m](x))\n",
      "\u001b[1;32m/Users/chriseser/Desktop/NUMERICAL/1.3.ipynb Cell 4\u001b[0m line \u001b[0;36m3\n\u001b[1;32m     <a href='vscode-notebook-cell:/Users/chriseser/Desktop/NUMERICAL/1.3.ipynb#X33sZmlsZQ%3D%3D?line=28'>29</a>\u001b[0m \u001b[39mfor\u001b[39;00m i \u001b[39min\u001b[39;00m \u001b[39mrange\u001b[39m(\u001b[39mlen\u001b[39m(knots)):\n\u001b[1;32m     <a href='vscode-notebook-cell:/Users/chriseser/Desktop/NUMERICAL/1.3.ipynb#X33sZmlsZQ%3D%3D?line=29'>30</a>\u001b[0m      \u001b[39mfor\u001b[39;00m j \u001b[39min\u001b[39;00m \u001b[39mrange\u001b[39m(\u001b[39m1\u001b[39m,\u001b[39mlen\u001b[39m(knots)):\n\u001b[0;32m---> <a href='vscode-notebook-cell:/Users/chriseser/Desktop/NUMERICAL/1.3.ipynb#X33sZmlsZQ%3D%3D?line=30'>31</a>\u001b[0m         POL[i]\u001b[39m=\u001b[39m \u001b[39mlambda\u001b[39;00m x, a\u001b[39m=\u001b[39mi, b\u001b[39m=\u001b[39mj : POL[a](x)\u001b[39m*\u001b[39m BASES[a][b](x)\n\u001b[1;32m     <a href='vscode-notebook-cell:/Users/chriseser/Desktop/NUMERICAL/1.3.ipynb#X33sZmlsZQ%3D%3D?line=32'>33</a>\u001b[0m \u001b[39mreturn\u001b[39;00m POL\n",
      "\u001b[1;32m/Users/chriseser/Desktop/NUMERICAL/1.3.ipynb Cell 4\u001b[0m line \u001b[0;36m3\n\u001b[1;32m     <a href='vscode-notebook-cell:/Users/chriseser/Desktop/NUMERICAL/1.3.ipynb#X33sZmlsZQ%3D%3D?line=28'>29</a>\u001b[0m \u001b[39mfor\u001b[39;00m i \u001b[39min\u001b[39;00m \u001b[39mrange\u001b[39m(\u001b[39mlen\u001b[39m(knots)):\n\u001b[1;32m     <a href='vscode-notebook-cell:/Users/chriseser/Desktop/NUMERICAL/1.3.ipynb#X33sZmlsZQ%3D%3D?line=29'>30</a>\u001b[0m      \u001b[39mfor\u001b[39;00m j \u001b[39min\u001b[39;00m \u001b[39mrange\u001b[39m(\u001b[39m1\u001b[39m,\u001b[39mlen\u001b[39m(knots)):\n\u001b[0;32m---> <a href='vscode-notebook-cell:/Users/chriseser/Desktop/NUMERICAL/1.3.ipynb#X33sZmlsZQ%3D%3D?line=30'>31</a>\u001b[0m         POL[i]\u001b[39m=\u001b[39m \u001b[39mlambda\u001b[39;00m x, a\u001b[39m=\u001b[39mi, b\u001b[39m=\u001b[39mj : POL[a](x)\u001b[39m*\u001b[39m BASES[a][b](x)\n\u001b[1;32m     <a href='vscode-notebook-cell:/Users/chriseser/Desktop/NUMERICAL/1.3.ipynb#X33sZmlsZQ%3D%3D?line=32'>33</a>\u001b[0m \u001b[39mreturn\u001b[39;00m POL\n",
      "    \u001b[0;31m[... skipping similar frames: lagranze_pol_gen.<locals>.<lambda> at line 31 (2971 times)]\u001b[0m\n",
      "\u001b[1;32m/Users/chriseser/Desktop/NUMERICAL/1.3.ipynb Cell 4\u001b[0m line \u001b[0;36m3\n\u001b[1;32m     <a href='vscode-notebook-cell:/Users/chriseser/Desktop/NUMERICAL/1.3.ipynb#X33sZmlsZQ%3D%3D?line=28'>29</a>\u001b[0m \u001b[39mfor\u001b[39;00m i \u001b[39min\u001b[39;00m \u001b[39mrange\u001b[39m(\u001b[39mlen\u001b[39m(knots)):\n\u001b[1;32m     <a href='vscode-notebook-cell:/Users/chriseser/Desktop/NUMERICAL/1.3.ipynb#X33sZmlsZQ%3D%3D?line=29'>30</a>\u001b[0m      \u001b[39mfor\u001b[39;00m j \u001b[39min\u001b[39;00m \u001b[39mrange\u001b[39m(\u001b[39m1\u001b[39m,\u001b[39mlen\u001b[39m(knots)):\n\u001b[0;32m---> <a href='vscode-notebook-cell:/Users/chriseser/Desktop/NUMERICAL/1.3.ipynb#X33sZmlsZQ%3D%3D?line=30'>31</a>\u001b[0m         POL[i]\u001b[39m=\u001b[39m \u001b[39mlambda\u001b[39;00m x, a\u001b[39m=\u001b[39mi, b\u001b[39m=\u001b[39mj : POL[a](x)\u001b[39m*\u001b[39m BASES[a][b](x)\n\u001b[1;32m     <a href='vscode-notebook-cell:/Users/chriseser/Desktop/NUMERICAL/1.3.ipynb#X33sZmlsZQ%3D%3D?line=32'>33</a>\u001b[0m \u001b[39mreturn\u001b[39;00m POL\n",
      "\u001b[0;31mRecursionError\u001b[0m: maximum recursion depth exceeded"
     ]
    }
   ],
   "source": [
    "# Plot the basis space\n",
    "knots=[0,1,4]\n",
    "A = lagranze_pol_gen(knots)\n",
    "\n",
    "x = np.linspace(0,4)\n",
    "plt.plot(x,A[0](x))\n",
    "plt.plot(x,A[1](x))\n",
    "plt.plot(x,A[2](x))\n"
   ]
  },
  {
   "cell_type": "code",
   "execution_count": 101,
   "metadata": {},
   "outputs": [],
   "source": [
    "def lagr_interpolation(knots, values):\n",
    "    POL = lagranze_pol_gen(knots)\n",
    "    return lambda x: values[0]*POL[0](x)+values[1]*POL[1](x)+values[2]*POL[2](x)"
   ]
  },
  {
   "cell_type": "code",
   "execution_count": 103,
   "metadata": {},
   "outputs": [],
   "source": [
    "knots=[0,1,4]\n",
    "values=[0,2,8]\n",
    "p = lagr_interpolation(knots, values)"
   ]
  },
  {
   "cell_type": "code",
   "execution_count": 104,
   "metadata": {},
   "outputs": [
    {
     "data": {
      "text/plain": [
       "[<matplotlib.lines.Line2D at 0x1422fb8d0>]"
      ]
     },
     "execution_count": 104,
     "metadata": {},
     "output_type": "execute_result"
    },
    {
     "data": {
      "image/png": "[encoded data removed]",
      "text/plain": [
       "<Figure size 640x480 with 1 Axes>"
      ]
     },
     "metadata": {},
     "output_type": "display_data"
    }
   ],
   "source": [
    "plt.plot(x, p(x))"
   ]
  },
  {
   "cell_type": "code",
   "execution_count": null,
   "metadata": {},
   "outputs": [],
   "source": []
  },
  {
   "cell_type": "code",
   "execution_count": null,
   "metadata": {},
   "outputs": [],
   "source": []
  },
  {
   "cell_type": "code",
   "execution_count": 44,
   "metadata": {},
   "outputs": [],
   "source": [
    "def lagranze_gen_n(knots):    \n",
    "    bases = []    \n",
    "    for i in range(len(knots)): \n",
    "\n",
    "        def lagranze_basis(x):\n",
    "            basis = 1\n",
    "            for j in range(len(knots)):\n",
    "                if i!=j:\n",
    "                    basis *= (x-knots[j])(knots[i]-knots[j])\n",
    "            return basis\n",
    "        \n",
    "    bases.append(lambda x: lagranze_basis(x))\n",
    "\n",
    "    return bases"
   ]
  },
  {
   "cell_type": "code",
   "execution_count": 50,
   "metadata": {},
   "outputs": [
    {
     "ename": "TypeError",
     "evalue": "'numpy.int64' object is not callable",
     "output_type": "error",
     "traceback": [
      "\u001b[0;31m---------------------------------------------------------------------------\u001b[0m",
      "\u001b[0;31mTypeError\u001b[0m                                 Traceback (most recent call last)",
      "\u001b[1;32m/Users/chriseser/Desktop/NUMERICAL/1.3.ipynb Cell 7\u001b[0m line \u001b[0;36m1\n\u001b[0;32m----> <a href='vscode-notebook-cell:/Users/chriseser/Desktop/NUMERICAL/1.3.ipynb#X23sZmlsZQ%3D%3D?line=0'>1</a>\u001b[0m lagranze_gen_n(knots)[\u001b[39m0\u001b[39;49m](\u001b[39m1\u001b[39;49m)\n",
      "\u001b[1;32m/Users/chriseser/Desktop/NUMERICAL/1.3.ipynb Cell 7\u001b[0m line \u001b[0;36m1\n\u001b[1;32m      <a href='vscode-notebook-cell:/Users/chriseser/Desktop/NUMERICAL/1.3.ipynb#X23sZmlsZQ%3D%3D?line=8'>9</a>\u001b[0m                 basis \u001b[39m*\u001b[39m\u001b[39m=\u001b[39m (x\u001b[39m-\u001b[39mknots[j])(knots[i]\u001b[39m-\u001b[39mknots[j])\n\u001b[1;32m     <a href='vscode-notebook-cell:/Users/chriseser/Desktop/NUMERICAL/1.3.ipynb#X23sZmlsZQ%3D%3D?line=9'>10</a>\u001b[0m         \u001b[39mreturn\u001b[39;00m basis\n\u001b[0;32m---> <a href='vscode-notebook-cell:/Users/chriseser/Desktop/NUMERICAL/1.3.ipynb#X23sZmlsZQ%3D%3D?line=11'>12</a>\u001b[0m bases\u001b[39m.\u001b[39mappend(\u001b[39mlambda\u001b[39;00m x: lagranze_basis(x))\n\u001b[1;32m     <a href='vscode-notebook-cell:/Users/chriseser/Desktop/NUMERICAL/1.3.ipynb#X23sZmlsZQ%3D%3D?line=13'>14</a>\u001b[0m \u001b[39mreturn\u001b[39;00m bases\n",
      "\u001b[1;32m/Users/chriseser/Desktop/NUMERICAL/1.3.ipynb Cell 7\u001b[0m line \u001b[0;36m9\n\u001b[1;32m      <a href='vscode-notebook-cell:/Users/chriseser/Desktop/NUMERICAL/1.3.ipynb#X23sZmlsZQ%3D%3D?line=6'>7</a>\u001b[0m \u001b[39mfor\u001b[39;00m j \u001b[39min\u001b[39;00m \u001b[39mrange\u001b[39m(\u001b[39mlen\u001b[39m(knots)):\n\u001b[1;32m      <a href='vscode-notebook-cell:/Users/chriseser/Desktop/NUMERICAL/1.3.ipynb#X23sZmlsZQ%3D%3D?line=7'>8</a>\u001b[0m     \u001b[39mif\u001b[39;00m i\u001b[39m!=\u001b[39mj:\n\u001b[0;32m----> <a href='vscode-notebook-cell:/Users/chriseser/Desktop/NUMERICAL/1.3.ipynb#X23sZmlsZQ%3D%3D?line=8'>9</a>\u001b[0m         basis \u001b[39m*\u001b[39m\u001b[39m=\u001b[39m (x\u001b[39m-\u001b[39;49mknots[j])(knots[i]\u001b[39m-\u001b[39;49mknots[j])\n\u001b[1;32m     <a href='vscode-notebook-cell:/Users/chriseser/Desktop/NUMERICAL/1.3.ipynb#X23sZmlsZQ%3D%3D?line=9'>10</a>\u001b[0m \u001b[39mreturn\u001b[39;00m basis\n",
      "\u001b[0;31mTypeError\u001b[0m: 'numpy.int64' object is not callable"
     ]
    }
   ],
   "source": [
    "lagranze_gen_n(knots)[0](1)"
   ]
  },
  {
   "cell_type": "code",
   "execution_count": 32,
   "metadata": {},
   "outputs": [],
   "source": [
    "def newton_basis(x, order):\n",
    "    return np.array([x**n for n in range(order)])\n",
    "\n",
    "def find_coeff (knots, values):\n",
    "    matrix = np.zeros((len(knots), len(knots)))\n",
    "    for i in range(len(matrix)):\n",
    "        a = newton_basis(knots[i], len(knots))\n",
    "        for j in range(len(matrix[0])):\n",
    "            matrix[i,j]=a[j]\n",
    "\n",
    "    return np.linalg.solve(matrix, values)\n",
    "\n",
    "def interpolation (knots, values):\n",
    "    return np.poly1d(find_coeff(knots, values))"
   ]
  },
  {
   "cell_type": "code",
   "execution_count": 33,
   "metadata": {},
   "outputs": [],
   "source": [
    "knots=np.array([0,1,4])\n",
    "values=np.array([0,2,8])"
   ]
  },
  {
   "cell_type": "code",
   "execution_count": 34,
   "metadata": {},
   "outputs": [
    {
     "data": {
      "text/plain": [
       "4.0"
      ]
     },
     "execution_count": 34,
     "metadata": {},
     "output_type": "execute_result"
    }
   ],
   "source": [
    "interpolation(knots, values)(2)"
   ]
  },
  {
   "cell_type": "code",
   "execution_count": null,
   "metadata": {},
   "outputs": [],
   "source": []
  }
 ],
 "metadata": {
  "kernelspec": {
   "display_name": "Python 3",
   "language": "python",
   "name": "python3"
  },
  "language_info": {
   "codemirror_mode": {
    "name": "ipython",
    "version": 3
   },
   "file_extension": ".py",
   "mimetype": "text/x-python",
   "name": "python",
   "nbconvert_exporter": "python",
   "pygments_lexer": "ipython3",
   "version": "3.11.6"
  }
 },
 "nbformat": 4,
 "nbformat_minor": 2
}
