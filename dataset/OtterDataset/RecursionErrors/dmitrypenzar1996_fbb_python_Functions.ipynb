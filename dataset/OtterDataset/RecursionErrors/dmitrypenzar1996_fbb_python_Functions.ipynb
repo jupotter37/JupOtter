{
 "cells": [
  {
   "cell_type": "markdown",
   "metadata": {},
   "source": [
    "**Функции**"
   ]
  },
  {
   "cell_type": "markdown",
   "metadata": {},
   "source": [
    "Функция - фрагмент программного кода, к которому можно обратиться из другого места программы"
   ]
  },
  {
   "cell_type": "markdown",
   "metadata": {},
   "source": [
    "В Python функции задаются ключевым словом def. Например, вот пример функции, вычисляющей факториал, и функции, вычисляющей n-ое числи фибоначчи"
   ]
  },
  {
   "cell_type": "code",
   "execution_count": 19,
   "metadata": {},
   "outputs": [
    {
     "name": "stdout",
     "output_type": "stream",
     "text": [
      "Hello\n"
     ]
    }
   ],
   "source": [
    "def say_hello():\n",
    "    print (\"Hello\")\n",
    "    \n",
    "say_hello()"
   ]
  },
  {
   "cell_type": "code",
   "execution_count": 20,
   "metadata": {
    "scrolled": true
   },
   "outputs": [
    {
     "name": "stdout",
     "output_type": "stream",
     "text": [
      "7\n"
     ]
    }
   ],
   "source": [
    "def add(a, b):\n",
    "    return a + b\n",
    "\n",
    "print (add(3,4))"
   ]
  },
  {
   "cell_type": "code",
   "execution_count": 21,
   "metadata": {
    "collapsed": true
   },
   "outputs": [],
   "source": [
    "def factorial(n):\n",
    "    acc = 1\n",
    "    for i in range(1,n + 1):\n",
    "        acc *= i\n",
    "    return acc\n",
    "\n",
    "def fibonacci(n):\n",
    "\n",
    "    f0, f1 = 0, 1\n",
    "    for i in range(n):\n",
    "        f0, f1 = f1, f0 + f1\n",
    "    return f0"
   ]
  },
  {
   "cell_type": "code",
   "execution_count": 22,
   "metadata": {},
   "outputs": [
    {
     "name": "stdout",
     "output_type": "stream",
     "text": [
      "120\n",
      "5\n"
     ]
    }
   ],
   "source": [
    "print (factorial(5))\n",
    "print (fibonacci(5))"
   ]
  },
  {
   "cell_type": "markdown",
   "metadata": {},
   "source": [
    "**Анонимные функции**\n"
   ]
  },
  {
   "cell_type": "markdown",
   "metadata": {},
   "source": [
    "![man](man.jpg)"
   ]
  },
  {
   "cell_type": "markdown",
   "metadata": {},
   "source": [
    "\n",
    "Часто в коде возникает необходимость написать какую-то простую функцию, которая будет использована единожды и затем никак не будут использоваться. Создание отдельной функции для этого добавляет коду громоздкость и часто ухудшает понимание написанного. \n",
    "Для этих целей в Python введены **lambda-функции**. "
   ]
  },
  {
   "cell_type": "code",
   "execution_count": 9,
   "metadata": {
    "collapsed": true
   },
   "outputs": [],
   "source": [
    "def add5(x):\n",
    "    return x + 5\n",
    "\n",
    "add5 = lambda x : x + 5"
   ]
  },
  {
   "cell_type": "markdown",
   "metadata": {},
   "source": [
    "Обычно используется в функциях, принимающих функцию как аргумент.\n",
    "Например - отсортировать ключи словаря по соответствующим им значениям"
   ]
  },
  {
   "cell_type": "code",
   "execution_count": 12,
   "metadata": {},
   "outputs": [
    {
     "name": "stdout",
     "output_type": "stream",
     "text": [
      "['a', 'd', 'e', 'c']\n"
     ]
    }
   ],
   "source": [
    "dt = {\"a\" : 10, \"c\" : 53, \"d\" : 31, \"e\" : 42}\n",
    "keys = list(dt)\n",
    "keys.sort(key = lambda x : dt[x])\n",
    "print (keys)"
   ]
  },
  {
   "cell_type": "markdown",
   "metadata": {},
   "source": [
    "Или в map (будет подробно разобран через лекцию)"
   ]
  },
  {
   "cell_type": "code",
   "execution_count": 14,
   "metadata": {},
   "outputs": [
    {
     "name": "stdout",
     "output_type": "stream",
     "text": [
      "[1, 3, 4, 77, 82]\n"
     ]
    }
   ],
   "source": [
    "numbers_str = \"1 3 4 77 82\"\n",
    "numbers_lst = list(map(int, numbers_str.split()))\n",
    "print (numbers_lst)"
   ]
  },
  {
   "cell_type": "markdown",
   "metadata": {},
   "source": [
    "**ВАЖНО**\n",
    "\n",
    "Lambda-функции не дают преимущества в скорости выполнения. Они просто удобный способ записи."
   ]
  },
  {
   "cell_type": "markdown",
   "metadata": {},
   "source": [
    "**Рекурсия**"
   ]
  },
  {
   "cell_type": "markdown",
   "metadata": {},
   "source": [
    "![recursion](recursion.png)"
   ]
  },
  {
   "cell_type": "markdown",
   "metadata": {},
   "source": [
    "Python поддерживает механизм рекурсии - вызов функцией самой себя. Перепишем, например, предыдущие функции в рекурсивной форме"
   ]
  },
  {
   "cell_type": "code",
   "execution_count": null,
   "metadata": {
    "collapsed": true
   },
   "outputs": [],
   "source": [
    "def factorial_rec(n):\n",
    "    if n <= 1:\n",
    "        return 1\n",
    "    return n * factorial_rec(n - 1)\n",
    "\n",
    "def fibonacci_rec(n):\n",
    "    if n < 0:\n",
    "        return 0\n",
    "    \n",
    "    if n == 0:\n",
    "        return 0\n",
    "    if n == 1:\n",
    "        return 1\n",
    "    \n",
    "    return fibonacci_rec(n - 1) + fibonacci_rec(n - 2)"
   ]
  },
  {
   "cell_type": "code",
   "execution_count": null,
   "metadata": {
    "collapsed": true
   },
   "outputs": [],
   "source": [
    "print (factorial_rec(5))\n",
    "print (fibonacci_rec(5))"
   ]
  },
  {
   "cell_type": "markdown",
   "metadata": {},
   "source": [
    "С одной стороны, рекурсия облегчает работу серым клеточкам. БОльшая часть алгоритмов легче формулируется в виде рекурсии, чем в других видах. \n",
    "\n",
    "Есть и минусы. И они значительные. Во-первых, реализация рекурсии в любом языке требует дополнительных затрат по сравнению с императивным подходом."
   ]
  },
  {
   "cell_type": "code",
   "execution_count": 38,
   "metadata": {},
   "outputs": [
    {
     "name": "stdout",
     "output_type": "stream",
     "text": [
      "403 µs ± 15.1 µs per loop (mean ± std. dev. of 7 runs, 1000 loops each)\n"
     ]
    }
   ],
   "source": [
    "%%timeit\n",
    "factorial_rec(1000)"
   ]
  },
  {
   "cell_type": "code",
   "execution_count": 39,
   "metadata": {
    "scrolled": true
   },
   "outputs": [
    {
     "name": "stdout",
     "output_type": "stream",
     "text": [
      "274 µs ± 12.8 µs per loop (mean ± std. dev. of 7 runs, 1000 loops each)\n"
     ]
    }
   ],
   "source": [
    "%%timeit\n",
    "factorial(1000)"
   ]
  },
  {
   "cell_type": "code",
   "execution_count": 42,
   "metadata": {},
   "outputs": [
    {
     "name": "stdout",
     "output_type": "stream",
     "text": [
      "3.7 ms ± 133 µs per loop (mean ± std. dev. of 7 runs, 100 loops each)\n"
     ]
    }
   ],
   "source": [
    "%%timeit\n",
    "fibonacci_rec(20)"
   ]
  },
  {
   "cell_type": "code",
   "execution_count": 43,
   "metadata": {},
   "outputs": [
    {
     "name": "stdout",
     "output_type": "stream",
     "text": [
      "1.19 µs ± 39.7 ns per loop (mean ± std. dev. of 7 runs, 1000000 loops each)\n"
     ]
    }
   ],
   "source": [
    "%%timeit\n",
    "fibonacci(20)"
   ]
  },
  {
   "cell_type": "markdown",
   "metadata": {},
   "source": [
    " Во-вторых - неправильно написанная рекурсия приводит к зацикливанию программы. "
   ]
  },
  {
   "cell_type": "code",
   "execution_count": null,
   "metadata": {
    "collapsed": true
   },
   "outputs": [],
   "source": [
    "def factorial_rec_wrong(n):\n",
    "    # There is no recursion break condition here\n",
    "    return n * factorial_rec_wrong(n - 1)"
   ]
  },
  {
   "cell_type": "markdown",
   "metadata": {},
   "source": [
    "В-третьих - в python по умолчанию размер \"[стэка вызовов](https://www.youtube.com/watch?v=ygK0YON10sQ)\" , в котором, в первом приближении, хранится информация о исполняющихся в данный момент функциях, ограничена. Потому пакет, использующий рекурсию и нормально работающий на одних данных, может падать на других. \n",
    "![image_1](recursion_stack_1.png)\n",
    "![image_2](recursion_stack_2.png)"
   ]
  },
  {
   "cell_type": "code",
   "execution_count": null,
   "metadata": {
    "collapsed": true
   },
   "outputs": [],
   "source": [
    "factorial_rec(10000) # outputs recursion error"
   ]
  },
  {
   "cell_type": "markdown",
   "metadata": {},
   "source": [
    "Часть этих проблем можно решать, таки напрягая серые клеточки, возможно, в меньшей степени. \n",
    "У fibonacci есть две проблемы - то, что стэк, используемый нами - глобальный, и то, что мы повторяем многие вычисления множество раз. \n",
    "\n",
    "![fibonacci](fibonacci_recursion.png)"
   ]
  },
  {
   "cell_type": "markdown",
   "metadata": {},
   "source": [
    "Исправим сначала первую проблему. Это делается легко."
   ]
  },
  {
   "cell_type": "code",
   "execution_count": 89,
   "metadata": {
    "collapsed": true
   },
   "outputs": [],
   "source": [
    "def fibonacci_rec_no_limit(n):\n",
    "    stack = []\n",
    "    stack.append(n)\n",
    "    acc = 0\n",
    "    while stack:\n",
    "        fib_ind = stack.pop()\n",
    "        if fib_ind == 0:\n",
    "            pass\n",
    "        elif fib_ind == 1:\n",
    "            acc += 1\n",
    "        else:\n",
    "            stack.append(fib_ind - 1)\n",
    "            stack.append(fib_ind - 2)\n",
    "    return acc"
   ]
  },
  {
   "cell_type": "code",
   "execution_count": 82,
   "metadata": {},
   "outputs": [
    {
     "ename": "RecursionError",
     "evalue": "maximum recursion depth exceeded in comparison",
     "output_type": "error",
     "traceback": [
      "\u001b[0;31m---------------------------------------------------------------------------\u001b[0m",
      "\u001b[0;31mRecursionError\u001b[0m                            Traceback (most recent call last)",
      "\u001b[0;32m<ipython-input-82-9f83fa9da4db>\u001b[0m in \u001b[0;36m<module>\u001b[0;34m()\u001b[0m\n\u001b[0;32m----> 1\u001b[0;31m \u001b[0mfibonacci_rec\u001b[0m\u001b[0;34m(\u001b[0m\u001b[0;36m10000\u001b[0m\u001b[0;34m)\u001b[0m \u001b[0;31m# outputs recursion error\u001b[0m\u001b[0;34m\u001b[0m\u001b[0m\n\u001b[0m",
      "\u001b[0;32m<ipython-input-30-e42d1b45821c>\u001b[0m in \u001b[0;36mfibonacci_rec\u001b[0;34m(n)\u001b[0m\n\u001b[1;32m     13\u001b[0m         \u001b[0;32mreturn\u001b[0m \u001b[0;36m1\u001b[0m\u001b[0;34m\u001b[0m\u001b[0m\n\u001b[1;32m     14\u001b[0m \u001b[0;34m\u001b[0m\u001b[0m\n\u001b[0;32m---> 15\u001b[0;31m     \u001b[0;32mreturn\u001b[0m \u001b[0mfibonacci_rec\u001b[0m\u001b[0;34m(\u001b[0m\u001b[0mn\u001b[0m \u001b[0;34m-\u001b[0m \u001b[0;36m1\u001b[0m\u001b[0;34m)\u001b[0m \u001b[0;34m+\u001b[0m \u001b[0mfibonacci_rec\u001b[0m\u001b[0;34m(\u001b[0m\u001b[0mn\u001b[0m \u001b[0;34m-\u001b[0m \u001b[0;36m2\u001b[0m\u001b[0;34m)\u001b[0m\u001b[0;34m\u001b[0m\u001b[0m\n\u001b[0m",
      "... last 1 frames repeated, from the frame below ...\n",
      "\u001b[0;32m<ipython-input-30-e42d1b45821c>\u001b[0m in \u001b[0;36mfibonacci_rec\u001b[0;34m(n)\u001b[0m\n\u001b[1;32m     13\u001b[0m         \u001b[0;32mreturn\u001b[0m \u001b[0;36m1\u001b[0m\u001b[0;34m\u001b[0m\u001b[0m\n\u001b[1;32m     14\u001b[0m \u001b[0;34m\u001b[0m\u001b[0m\n\u001b[0;32m---> 15\u001b[0;31m     \u001b[0;32mreturn\u001b[0m \u001b[0mfibonacci_rec\u001b[0m\u001b[0;34m(\u001b[0m\u001b[0mn\u001b[0m \u001b[0;34m-\u001b[0m \u001b[0;36m1\u001b[0m\u001b[0;34m)\u001b[0m \u001b[0;34m+\u001b[0m \u001b[0mfibonacci_rec\u001b[0m\u001b[0;34m(\u001b[0m\u001b[0mn\u001b[0m \u001b[0;34m-\u001b[0m \u001b[0;36m2\u001b[0m\u001b[0;34m)\u001b[0m\u001b[0;34m\u001b[0m\u001b[0m\n\u001b[0m",
      "\u001b[0;31mRecursionError\u001b[0m: maximum recursion depth exceeded in comparison"
     ]
    }
   ],
   "source": [
    "fibonacci_rec(10000) # outputs recursion error"
   ]
  },
  {
   "cell_type": "code",
   "execution_count": 83,
   "metadata": {},
   "outputs": [
    {
     "ename": "KeyboardInterrupt",
     "evalue": "",
     "output_type": "error",
     "traceback": [
      "\u001b[0;31m---------------------------------------------------------------------------\u001b[0m",
      "\u001b[0;31mKeyboardInterrupt\u001b[0m                         Traceback (most recent call last)",
      "\u001b[0;32m<ipython-input-83-0435a6b31103>\u001b[0m in \u001b[0;36m<module>\u001b[0;34m()\u001b[0m\n\u001b[0;32m----> 1\u001b[0;31m \u001b[0mfibonacci_rec_no_limit\u001b[0m\u001b[0;34m(\u001b[0m\u001b[0;36m10000\u001b[0m\u001b[0;34m)\u001b[0m \u001b[0;31m# do not outputs but there is a SMALL problem with asymptotic\u001b[0m\u001b[0;34m\u001b[0m\u001b[0m\n\u001b[0m",
      "\u001b[0;32m<ipython-input-81-2c64341994de>\u001b[0m in \u001b[0;36mfibonacci_rec_no_limit\u001b[0;34m(n)\u001b[0m\n\u001b[1;32m      7\u001b[0m     \u001b[0macc\u001b[0m \u001b[0;34m=\u001b[0m \u001b[0;36m0\u001b[0m\u001b[0;34m\u001b[0m\u001b[0m\n\u001b[1;32m      8\u001b[0m     \u001b[0;32mwhile\u001b[0m \u001b[0mstack\u001b[0m\u001b[0;34m:\u001b[0m\u001b[0;34m\u001b[0m\u001b[0m\n\u001b[0;32m----> 9\u001b[0;31m         \u001b[0mfib_ind\u001b[0m \u001b[0;34m=\u001b[0m \u001b[0mstack\u001b[0m\u001b[0;34m.\u001b[0m\u001b[0mpop\u001b[0m\u001b[0;34m(\u001b[0m\u001b[0;34m)\u001b[0m\u001b[0;34m\u001b[0m\u001b[0m\n\u001b[0m\u001b[1;32m     10\u001b[0m         \u001b[0;32mif\u001b[0m \u001b[0mfib_ind\u001b[0m \u001b[0;34m==\u001b[0m \u001b[0;36m0\u001b[0m\u001b[0;34m:\u001b[0m\u001b[0;34m\u001b[0m\u001b[0m\n\u001b[1;32m     11\u001b[0m             \u001b[0;32mpass\u001b[0m\u001b[0;34m\u001b[0m\u001b[0m\n",
      "\u001b[0;31mKeyboardInterrupt\u001b[0m: "
     ]
    }
   ],
   "source": [
    "fibonacci_rec_no_limit(10000) # do not outputs but there is a SMALL problem with asymptotic"
   ]
  },
  {
   "cell_type": "markdown",
   "metadata": {},
   "source": [
    "И у нас проблемы с производительностью по сравнению с исходной версией (куда уж больше)"
   ]
  },
  {
   "cell_type": "code",
   "execution_count": 90,
   "metadata": {},
   "outputs": [
    {
     "name": "stdout",
     "output_type": "stream",
     "text": [
      "1.2 µs ± 50.7 ns per loop (mean ± std. dev. of 7 runs, 1000000 loops each)\n"
     ]
    }
   ],
   "source": [
    "%%timeit\n",
    "fibonacci(20)"
   ]
  },
  {
   "cell_type": "code",
   "execution_count": 91,
   "metadata": {},
   "outputs": [
    {
     "name": "stdout",
     "output_type": "stream",
     "text": [
      "3.61 ms ± 169 µs per loop (mean ± std. dev. of 7 runs, 100 loops each)\n"
     ]
    }
   ],
   "source": [
    "%%timeit\n",
    "fibonacci_rec(20)"
   ]
  },
  {
   "cell_type": "code",
   "execution_count": 92,
   "metadata": {},
   "outputs": [
    {
     "name": "stdout",
     "output_type": "stream",
     "text": [
      "5.13 ms ± 188 µs per loop (mean ± std. dev. of 7 runs, 100 loops each)\n"
     ]
    }
   ],
   "source": [
    "%%timeit\n",
    "fibonacci_rec_no_limit(20)"
   ]
  },
  {
   "cell_type": "markdown",
   "metadata": {},
   "source": [
    "Вообще говоря, для чисел фибоначчи можно не так уж сильно заботиться об исчерпании стэка (маловероятно). Главная проблема \n",
    "\n",
    "![fibonacci](fibonacci_recursion.png)"
   ]
  },
  {
   "cell_type": "markdown",
   "metadata": {},
   "source": [
    "Для ее решения сначала разберем аргументы по-умолчанию в функциях. \n",
    "\n",
    "Достаточно часто встречается ситуация, когда большинство предпочтительных аргументов для функции известно (например, вы знаете, что ваш алгоритм лучше всего запускать с lambda = 0.73, а n_samples = 143). В таком случае, конечно, можно написать в комментариях к своей функции, но лучше воспользоваться аргументами по-умолчанию. "
   ]
  },
  {
   "cell_type": "code",
   "execution_count": 99,
   "metadata": {
    "collapsed": true
   },
   "outputs": [],
   "source": [
    "import random\n",
    "\n",
    "def make_random_sequence(length=200, alphabet=\"ATGC\"):\n",
    "    seq_lst = [] # it's better to use here list comprehensions\n",
    "    for i in range(length):\n",
    "        seq_lst.append(random.choice(alphabet))\n",
    "    seq = \"\".join(seq_lst) # it is better than appending symbols directly to seq, why? \n",
    "    return seq"
   ]
  },
  {
   "cell_type": "markdown",
   "metadata": {},
   "source": [
    "Также часто вы просто хотите задать поведение функции по-умолчанию/наиболее частое поведение. "
   ]
  },
  {
   "cell_type": "code",
   "execution_count": 103,
   "metadata": {
    "collapsed": true
   },
   "outputs": [],
   "source": [
    "def login(username=\"anonymous\", password=None):\n",
    "    \"\"\"Some action\"\"\"\n",
    "    pass\n",
    "\n",
    "# the can call function in different ways\n",
    "login(\"root\", \"ujdyzysqgfhjkm\") \n",
    "login(\"guest\")\n",
    "login()\n",
    "# Also you can specify the name of argument\n",
    "login(password=\"nobody@mail.com\") "
   ]
  },
  {
   "cell_type": "markdown",
   "metadata": {},
   "source": [
    "Можно комбинировать обязательный аргументы с аргументами, заданными по умолчанию. При этом обязательные должны идти первыми."
   ]
  },
  {
   "cell_type": "code",
   "execution_count": 105,
   "metadata": {
    "collapsed": true
   },
   "outputs": [],
   "source": [
    "def write_random_fasta(out_file_path, name=\"random\", length=200, alphabet=\"ATGC\"):\n",
    "    out_file = open(out_file_path, \"w\") # it is better to use with-construction here\n",
    "    seq = make_random_sequence(length=length, alphabet=alphabet)\n",
    "    out_file.write(\">{}\\n\".format(name))\n",
    "    out_file.write(\"{}\\n\".format(seq))\n",
    "    out_file.close()"
   ]
  },
  {
   "cell_type": "code",
   "execution_count": 106,
   "metadata": {
    "collapsed": true
   },
   "outputs": [],
   "source": [
    "write_random_fasta(\"random.fasta\")"
   ]
  },
  {
   "cell_type": "markdown",
   "metadata": {},
   "source": [
    "С аргументами по-умолчанию есть одна опасность - они \"закрепляются\" за функцией в момент создания. Если ваш аргумент по-умолчанию - неизменяем (число, строка), то все хорошо. Если же это изменяемый объект, то возникают интересные ситуации"
   ]
  },
  {
   "cell_type": "markdown",
   "metadata": {},
   "source": [
    "Рассмотрим, например, такую функцию. Если ей переданы оба аргумента, то она добавляет el к lst и возвращает измененный lst. Если только первый - то вовзращает [el]. По крайней мере, ожидается, что она будет работать так."
   ]
  },
  {
   "cell_type": "code",
   "execution_count": 114,
   "metadata": {
    "collapsed": true
   },
   "outputs": [],
   "source": [
    "def add_to_list(el, lst = []):\n",
    "    lst.append(el)\n",
    "    return lst"
   ]
  },
  {
   "cell_type": "markdown",
   "metadata": {},
   "source": [
    "Однако тут возникает проблема. Если запустить последующую учейку с кодом несколько раз, то результаты будут становиться все страньше и страньше."
   ]
  },
  {
   "cell_type": "code",
   "execution_count": 115,
   "metadata": {},
   "outputs": [
    {
     "name": "stdout",
     "output_type": "stream",
     "text": [
      "[1, 2, 3, 5]\n",
      "[5]\n",
      "[5]\n",
      "[5, 5]\n"
     ]
    }
   ],
   "source": [
    "print (add_to_list(5, [1,2,3])) # OK\n",
    "print (add_to_list(5, [])) # OK\n",
    "print (add_to_list(5)) # OK\n",
    "print (add_to_list(5)) # WHAT???"
   ]
  },
  {
   "cell_type": "markdown",
   "metadata": {},
   "source": [
    "![suprise](surprise_dexter.gif)"
   ]
  },
  {
   "cell_type": "markdown",
   "metadata": {},
   "source": [
    "Дело в том, что значение по-умолчанию создавалось один раз. И вначала оно равно пустому списку. Но в третьем случае мы добавляем в этот список элемент. И после возвращения из функции изменения не пропадают. Потому на следующем вызове элемент добавляется не к пустому списку, а к списку, содержащему один элемент. И так далее. \n",
    "Как это лечить? - не использовать в значениях по-умолчанию изменяемые объекты (списки, словари и т.д), а использовать None"
   ]
  },
  {
   "cell_type": "code",
   "execution_count": 117,
   "metadata": {
    "collapsed": true
   },
   "outputs": [],
   "source": [
    "def add_to_list_wsmf(el, lst = None):\n",
    "    if lst is None:\n",
    "        lst = []\n",
    "    lst.append(el)\n",
    "    return lst"
   ]
  },
  {
   "cell_type": "code",
   "execution_count": 119,
   "metadata": {},
   "outputs": [
    {
     "name": "stdout",
     "output_type": "stream",
     "text": [
      "[1, 2, 3, 5]\n",
      "[5]\n",
      "[5]\n",
      "[5]\n"
     ]
    }
   ],
   "source": [
    "print (add_to_list_wsmf(5, [1,2,3])) # OK\n",
    "print (add_to_list_wsmf(5, [])) # OK\n",
    "print (add_to_list_wsmf(5)) # OK\n",
    "print (add_to_list_wsmf(5)) # Still OK"
   ]
  },
  {
   "cell_type": "markdown",
   "metadata": {},
   "source": [
    "Иногда же такое поведение желательно - если у вас функция, которая для одинакового набора аргументов дает одинаковые значения, при этом вычисление ее долгое, то почему бы не хранить эти значения каким-либо образом"
   ]
  },
  {
   "cell_type": "markdown",
   "metadata": {},
   "source": [
    "Вернемся теперь к задаче с числами Фибоначчи. Проблема здесь в том, что для вычисления Fn-числа фибоначчи, значение многих предыдущих чисел Фибоначчи будет вычислено множество раз. Воспользуемся разобранной выше особенностью поведения аргументов по-умолчанию, чтобы хранить уже вычисленные значения. Хранение уже вычисленных значений для рекурсивных функций называется мемоизацией (проверить термин) и используется довольно часто.  \n",
    "\n",
    "![fibonacci](fibonacci_recursion.png)"
   ]
  },
  {
   "cell_type": "markdown",
   "metadata": {},
   "source": [
    "Глобальные, локальные и нелокальные переменные"
   ]
  },
  {
   "cell_type": "markdown",
   "metadata": {},
   "source": [
    "Напоминание - в Python выражение a = 5 означает как и объявление переменной a, так и присвоение ей значения 5, если она уже была объявлена."
   ]
  },
  {
   "cell_type": "code",
   "execution_count": 158,
   "metadata": {},
   "outputs": [
    {
     "name": "stdout",
     "output_type": "stream",
     "text": [
      "Inner\n",
      "Outer\n"
     ]
    }
   ],
   "source": [
    "# variable is created here\n",
    "result = \"Outer\"\n",
    "\n",
    "def func():\n",
    "    # new variable is created here\n",
    "    result = \"Inner\"\n",
    "    print (result)\n",
    "\n",
    "func()\n",
    "print (result) "
   ]
  },
  {
   "cell_type": "markdown",
   "metadata": {},
   "source": [
    "Каким образом код, приведенный выше, понимает, что result вне функции и result в функции - разные и понимает, что и когда использовать. \n",
    "\n",
    "В Python есть специальный принцип, по которому происходит разрешение имен переменных - LEGB Rule\n",
    "\n",
    "Для начала усложним код еще больше. В Python можно делать вложенные функции. Сделаем. "
   ]
  },
  {
   "cell_type": "code",
   "execution_count": 159,
   "metadata": {},
   "outputs": [
    {
     "name": "stdout",
     "output_type": "stream",
     "text": [
      "Inner\n",
      "Enclosing\n",
      "Global\n"
     ]
    }
   ],
   "source": [
    "### code1 variable is created here\n",
    "result = \"Global\"\n",
    "\n",
    "def enclosing_func():\n",
    "    ### code2 variable is created here\n",
    "    result = \"Enclosing\"\n",
    "    def func():\n",
    "        ### code3 variable is created here\n",
    "        result = \"Inner\"\n",
    "        print (result)\n",
    "    ### code 4\n",
    "    func()\n",
    "    print (result)\n",
    "\n",
    "## code 5\n",
    "enclosing_func()\n",
    "print (result) "
   ]
  },
  {
   "cell_type": "markdown",
   "metadata": {},
   "source": [
    "Важно понимать, что имя функции - тоже переменная\n",
    "Теперь само правило.\n",
    "Разрешение имени переменной в функции производится в следующем порядке (если переменная найдена, то процесс прекращается):\n",
    "\n",
    "1) **L. Local** - поиск среди всех переменных, объявленных в функции. - _code3_\n",
    "\n",
    "2) **E. Enclosing** - переменные в локальной области видимости функции (если такая есть), внутри которой объявлена данная - _code2_ и _code4_\n",
    "\n",
    "3) **G. Global** - переменные, которые заданы на верхнем уровне файла/модуля. - _code1_ и _code5_\n",
    "\n",
    "4) **B. Built-in** - стандартные переменные Python (range, list и т.д) \n"
   ]
  },
  {
   "cell_type": "markdown",
   "metadata": {},
   "source": [
    "Иногда мы хотим уметь модифицировать функцией значение глобальной переменной. Это редко оправданно, но нужно знать, как это сделать)\n",
    "\n",
    "Для того, чтобы явно указать Python, что мы хотим не создать новую переменную в функции, а использовать глобальную используется ключевое слово **global**."
   ]
  },
  {
   "cell_type": "code",
   "execution_count": 161,
   "metadata": {},
   "outputs": [
    {
     "name": "stdout",
     "output_type": "stream",
     "text": [
      "Inner\n",
      "Enclosing\n",
      "Enclosing\n"
     ]
    }
   ],
   "source": [
    "### code1 variable is created here\n",
    "result = \"Global\"\n",
    "\n",
    "def enclosing_func():\n",
    "    ### code2 variable is created here\n",
    "    global result\n",
    "    result = \"Enclosing\"\n",
    "    def func():\n",
    "        ### code3 variable is created here\n",
    "        result = \"Inner\"\n",
    "        print (result)\n",
    "    ### code 4\n",
    "    func()\n",
    "    print (result)\n",
    "\n",
    "## code 5\n",
    "enclosing_func()\n",
    "print (result) "
   ]
  },
  {
   "cell_type": "markdown",
   "metadata": {},
   "source": [
    "Важно понимать, что код функции просматривается целиком. Потому такой код будет выдавать ошибку "
   ]
  },
  {
   "cell_type": "code",
   "execution_count": 184,
   "metadata": {},
   "outputs": [
    {
     "ename": "UnboundLocalError",
     "evalue": "local variable 'n_samples' referenced before assignment",
     "output_type": "error",
     "traceback": [
      "\u001b[0;31m---------------------------------------------------------------------------\u001b[0m",
      "\u001b[0;31mUnboundLocalError\u001b[0m                         Traceback (most recent call last)",
      "\u001b[0;32m<ipython-input-184-7f9a4fe7ef20>\u001b[0m in \u001b[0;36m<module>\u001b[0;34m()\u001b[0m\n\u001b[1;32m      8\u001b[0m         \u001b[0;32mreturn\u001b[0m \u001b[0mn_samples\u001b[0m\u001b[0;34m\u001b[0m\u001b[0m\n\u001b[1;32m      9\u001b[0m \u001b[0;34m\u001b[0m\u001b[0m\n\u001b[0;32m---> 10\u001b[0;31m \u001b[0mget_n_samples\u001b[0m\u001b[0;34m(\u001b[0m\u001b[0;34m)\u001b[0m \u001b[0;31m# outputs unbound local error\u001b[0m\u001b[0;34m\u001b[0m\u001b[0m\n\u001b[0m",
      "\u001b[0;32m<ipython-input-184-7f9a4fe7ef20>\u001b[0m in \u001b[0;36mget_n_samples\u001b[0;34m()\u001b[0m\n\u001b[1;32m      2\u001b[0m \u001b[0;34m\u001b[0m\u001b[0m\n\u001b[1;32m      3\u001b[0m \u001b[0;32mdef\u001b[0m \u001b[0mget_n_samples\u001b[0m\u001b[0;34m(\u001b[0m\u001b[0;34m)\u001b[0m\u001b[0;34m:\u001b[0m\u001b[0;34m\u001b[0m\u001b[0m\n\u001b[0;32m----> 4\u001b[0;31m     \u001b[0;32mif\u001b[0m \u001b[0mn_samples\u001b[0m \u001b[0;32mis\u001b[0m \u001b[0;32mnot\u001b[0m \u001b[0;32mNone\u001b[0m\u001b[0;34m:\u001b[0m\u001b[0;34m\u001b[0m\u001b[0m\n\u001b[0m\u001b[1;32m      5\u001b[0m         \u001b[0;32mreturn\u001b[0m \u001b[0mn_samples\u001b[0m\u001b[0;34m\u001b[0m\u001b[0m\n\u001b[1;32m      6\u001b[0m     \u001b[0;32melse\u001b[0m\u001b[0;34m:\u001b[0m\u001b[0;34m\u001b[0m\u001b[0m\n",
      "\u001b[0;31mUnboundLocalError\u001b[0m: local variable 'n_samples' referenced before assignment"
     ]
    }
   ],
   "source": [
    "n_samples = 100\n",
    "\n",
    "def get_n_samples():\n",
    "    if n_samples is not None:\n",
    "        return n_samples\n",
    "    else:\n",
    "        n_samples = 50\n",
    "        return n_samples\n",
    "    \n",
    "get_n_samples() # outputs unbound local error"
   ]
  },
  {
   "cell_type": "markdown",
   "metadata": {},
   "source": [
    "В то время как его близкий аналог - нет"
   ]
  },
  {
   "cell_type": "code",
   "execution_count": 185,
   "metadata": {},
   "outputs": [
    {
     "data": {
      "text/plain": [
       "100"
      ]
     },
     "execution_count": 185,
     "metadata": {},
     "output_type": "execute_result"
    }
   ],
   "source": [
    "n_samples = 100\n",
    "\n",
    "def get_n_samples():\n",
    "    if n_samples is not None:\n",
    "        return n_samples\n",
    "    else:\n",
    "        return 50\n",
    "    \n",
    "get_n_samples()"
   ]
  },
  {
   "cell_type": "markdown",
   "metadata": {},
   "source": [
    "Иногда мы хотим иметь возможность также сказать во вложенной функции, что мы хотим использовать в ней переменную из окружающей ее функции. Для этого используется ключевое слово **nonlocal** (это название приходит из языков функционального программирования)"
   ]
  },
  {
   "cell_type": "code",
   "execution_count": 178,
   "metadata": {},
   "outputs": [
    {
     "name": "stdout",
     "output_type": "stream",
     "text": [
      "Inner\n",
      "Inner\n",
      "Global\n"
     ]
    }
   ],
   "source": [
    "### code1 variable is created here\n",
    "result = \"Global\"\n",
    "\n",
    "def enclosing_func():\n",
    "    ### code2 variable is created here\n",
    "    result = \"Enclosing\"\n",
    "    def func():\n",
    "        nonlocal result\n",
    "        ### code3 variable is created here\n",
    "        result = \"Inner\"\n",
    "        print (result)\n",
    "    ### code 4\n",
    "    func()\n",
    "    print (result)\n",
    "\n",
    "## code 5\n",
    "enclosing_func()\n",
    "print (result) "
   ]
  },
  {
   "cell_type": "markdown",
   "metadata": {},
   "source": [
    "Теперь приведем несколько примеров того, когда это нужно. Простейший пример в случае с глобальными переменными - когда вам нужно именно во время подключения модуля определять какие-то переменные"
   ]
  },
  {
   "cell_type": "code",
   "execution_count": 179,
   "metadata": {},
   "outputs": [
    {
     "name": "stdout",
     "output_type": "stream",
     "text": [
      "4\n",
      "/usr/lib/crazymonkey.dll\n"
     ]
    }
   ],
   "source": [
    "# some module file\n",
    "\n",
    "NUMBER_OF_AVALIABLE_PROCS = 0\n",
    "VERY_IMPORTANT_LIBRARY_PATH = \"\"\n",
    "\n",
    "def find_number_of_procs():\n",
    "    return 4\n",
    "\n",
    "def get_very_important_library_path():\n",
    "    return \"/usr/lib/crazymonkey.dll\"\n",
    "\n",
    "def init():\n",
    "    global NUMBER_OF_AVALIABLE_PROCS\n",
    "    global VERY_IMPORTANT_LIBRARY_PATH\n",
    "    NUMBER_OF_AVALIABLE_PROCS = find_number_of_procs()\n",
    "    VERY_IMPORTANT_LIBRARY_PATH = get_very_important_library_path()\n",
    "\n",
    "init()\n",
    "print (NUMBER_OF_AVALIABLE_PROCS)\n",
    "print (VERY_IMPORTANT_LIBRARY_PATH)"
   ]
  },
  {
   "cell_type": "markdown",
   "metadata": {},
   "source": [
    "В случае с nonlocal нам необходимо для начала понять, что функция в Python - это тоже объект.\n",
    "\n",
    "Мы можем присваивать ее переменной"
   ]
  },
  {
   "cell_type": "code",
   "execution_count": 180,
   "metadata": {},
   "outputs": [
    {
     "name": "stdout",
     "output_type": "stream",
     "text": [
      "7\n",
      "7\n"
     ]
    }
   ],
   "source": [
    "def add_two(a, b):\n",
    "    return a + b\n",
    "\n",
    "adder = add_two # we can assign function to variable \n",
    "print (add_two(3,4))\n",
    "print (adder(3, 4))"
   ]
  },
  {
   "cell_type": "markdown",
   "metadata": {},
   "source": [
    "Мы можем вовзвращать функцию из функции"
   ]
  },
  {
   "cell_type": "code",
   "execution_count": 182,
   "metadata": {},
   "outputs": [
    {
     "name": "stdout",
     "output_type": "stream",
     "text": [
      "Add5 12\n",
      "Add10 17\n"
     ]
    }
   ],
   "source": [
    "# creates function, which given argument a return function, which adds a to his argument b\n",
    "def adder_creator(a):\n",
    "    def adder(b):\n",
    "        return a + b\n",
    "    return adder\n",
    "\n",
    "add5 = adder_creator(5)\n",
    "add10 = adder_creator(10)\n",
    "number = 7\n",
    "print (\"Add5\", add5(number))\n",
    "print (\"Add10\", add10(number))"
   ]
  },
  {
   "cell_type": "markdown",
   "metadata": {},
   "source": [
    "Мы можем посылать функцию как аргумент"
   ]
  },
  {
   "cell_type": "code",
   "execution_count": 204,
   "metadata": {},
   "outputs": [
    {
     "name": "stdout",
     "output_type": "stream",
     "text": [
      "15\n"
     ]
    }
   ],
   "source": [
    "def compose(func1, func2, x):\n",
    "    return func1(func2(x))\n",
    "\n",
    "add5 = adder_creator(5)\n",
    "add10 = adder_creator(10)\n",
    "\n",
    "print (compose(add5, add10, 0))"
   ]
  },
  {
   "cell_type": "markdown",
   "metadata": {},
   "source": [
    "Что происходит в коде выше?. В тот момент, когда создается функция adder, она получает информацию, что переменная a хранится в окружающей ее функции. И она всегда (во время жизни программы), может к ней обратиться, так как Python понимает, что на переменную a существует ссылка из функции adder и потому не удаляет ее. Это явление называется **захватом переменной**"
   ]
  },
  {
   "cell_type": "markdown",
   "metadata": {},
   "source": [
    "![you_variable_is_mine](your-variable-is-mine.jpg)"
   ]
  },
  {
   "cell_type": "markdown",
   "metadata": {},
   "source": [
    "Теперь можно привести пример того, когда нам нужно использование nonlocal. Допустим, мы хотим в каком-то сложном коде для каждого объекта заводить id. Есть несколько подходов к решению данной проблемы и один из них - использование **nonlocal**"
   ]
  },
  {
   "cell_type": "code",
   "execution_count": 198,
   "metadata": {},
   "outputs": [
    {
     "name": "stdout",
     "output_type": "stream",
     "text": [
      "1\n",
      "2\n",
      "3\n",
      "10\n",
      "11\n",
      "12\n",
      "True\n",
      "False\n",
      "False\n"
     ]
    }
   ],
   "source": [
    "def get_counter(start_id = 0):\n",
    "    count = start_id - 1\n",
    "    def counter():\n",
    "        nonlocal count\n",
    "        count += 1\n",
    "        return count\n",
    "    return counter\n",
    "\n",
    "counter1 = get_counter(1)\n",
    "print (counter1())\n",
    "print (counter1())\n",
    "print (counter1())\n",
    "counter10 = get_counter(10) \n",
    "print (counter10())\n",
    "print (counter10())\n",
    "print (counter10())\n",
    "\n",
    "print (counter1 == counter1)\n",
    "print (counter1 == counter10) # the returned functions are DIFFERENT\n",
    "print (get_counter(1) == get_counter(1))  # they are still DIFFERENT"
   ]
  },
  {
   "cell_type": "markdown",
   "metadata": {},
   "source": [
    "То есть мы используем **nonlocal** тогда, когда, по какой-то причине, хотим дать нашей функции возможность изменять внешнюю по отношению к ней переменную, не делая при этом эту переменную глобальной. "
   ]
  },
  {
   "cell_type": "markdown",
   "metadata": {},
   "source": [
    "Здесь мы подходим к важной теме, которую начнем сегодня, а именно - реализация функционального программирования в Python.\n",
    "\n",
    "Что же такое функциональное программирование? Очень грубо, это трактовка любого алгоритма как результата применения группы функций друг к другу и к каким-либо объектам. Часто такой подход позволяет сделать что-либо очень изящно, часто приводит к нечитаемумому коду. Кому что нравится) "
   ]
  },
  {
   "cell_type": "markdown",
   "metadata": {},
   "source": [
    "То, что мы использовали в нескольких предыдущих примерах в общем виде называется **замыканием** "
   ]
  },
  {
   "cell_type": "markdown",
   "metadata": {},
   "source": [
    "**Замыкание** - это функция вместе с привязанной к ней совокупностью данных \n",
    "@Дэвид Мертц\n",
    "\n",
    "Действительно, в случае get_counter мы \"привязываем\" к создаваемой в ней функции counter переменную типа int - count. В дальнейшем counter спокойно обращается к этой переменной и может даже менять ее значение. \n",
    "\n",
    "По-аналогии можно сделать конструктор функций, умножающих на заданное число"
   ]
  },
  {
   "cell_type": "code",
   "execution_count": 203,
   "metadata": {},
   "outputs": [
    {
     "name": "stdout",
     "output_type": "stream",
     "text": [
      "9 15\n"
     ]
    }
   ],
   "source": [
    "def multiplier( n ):    # multiplier возвращает функцию умножения на n\n",
    "    def mul( k ):\n",
    "        return n * k\n",
    "    return mul\n",
    " \n",
    "mul3 = multiplier( 3 )  # mul3 - функция, умножающая на 3\n",
    "print( mul3( 3 ), mul3( 5 ) )"
   ]
  },
  {
   "cell_type": "markdown",
   "metadata": {},
   "source": [
    "А что если мы хотим написать функцию для отладки, которая принимает определенную функцию, а возвращает функцию, которая ведет себя так же, как и исходная, но печатает при старте функции \"Function started\", а при завершении ее работы - \"Function ended\"\n",
    "Если мы знаем, что целевая функция принимает только, допустим, один аргумент, то все просто"
   ]
  },
  {
   "cell_type": "code",
   "execution_count": 209,
   "metadata": {},
   "outputs": [
    {
     "name": "stdout",
     "output_type": "stream",
     "text": [
      "Real 55\n",
      "Function started\n",
      "Function ended\n",
      "Decorated 55\n"
     ]
    }
   ],
   "source": [
    "def fibonacci(n):\n",
    "\n",
    "    f0, f1 = 0, 1\n",
    "    for i in range(n):\n",
    "        f0, f1 = f1, f0 + f1\n",
    "    return f0\n",
    "\n",
    "def simple_wrapper(func):\n",
    "    def decorated_func(n):\n",
    "        print (\"Function started\")\n",
    "        result = func(n)\n",
    "        print (\"Function ended\")\n",
    "        return result\n",
    "    return decorated_func\n",
    "\n",
    "print (\"Real\", fibonacci(10))\n",
    "decorated_fibonacci = simple_wrapper(fibonacci)\n",
    "\n",
    "print (\"Decorated\", decorated_fibonacci(10))"
   ]
  },
  {
   "cell_type": "markdown",
   "metadata": {},
   "source": [
    "Однако, в таком случае нам придется писать для каждого набора аргументов соответсвующую функцию, выполняющую требуемую функциональность. Это не очень впечатляет\n",
    "\n",
    "В Python существует специальный механизм для случаев, когда наша функция может принять неизвестное заранее количество аргументов. Разберем его\n",
    "\n",
    "Если наша функция принимает произвольное количество позиционных аргументов, то мы можем отразить это за счет **\\*args**. \n",
    "\n",
    "Например, напишем функцию, находяющую произведение любого количества переданных ей чисел"
   ]
  },
  {
   "cell_type": "code",
   "execution_count": 212,
   "metadata": {},
   "outputs": [
    {
     "name": "stdout",
     "output_type": "stream",
     "text": [
      "9\n",
      "63\n"
     ]
    }
   ],
   "source": [
    "def multi_product(*args):\n",
    "    product = 1\n",
    "    for comp in args:\n",
    "        product *= comp\n",
    "    return product\n",
    "\n",
    "print (multi_product(1, 3, 3))\n",
    "print (multi_product(1, 3, 3, 7))"
   ]
  },
  {
   "cell_type": "markdown",
   "metadata": {},
   "source": [
    "Если наша функция принимает произвольное количество именованных аргументов (вида key=value), \n",
    "то мы можем использовать **\\*\\*kwargs**. \n",
    "\n",
    "Например, допустим мы передаем функции набор key и value, а она должна напечатать строку с key и факториалом от value"
   ]
  },
  {
   "cell_type": "code",
   "execution_count": 395,
   "metadata": {},
   "outputs": [
    {
     "name": "stdout",
     "output_type": "stream",
     "text": [
      "one 1\n",
      "two 2\n",
      "three 6\n"
     ]
    }
   ],
   "source": [
    "def multi_print_factorial(**kwargs):\n",
    "    for key, value in kwargs.items():\n",
    "        print (key, factorial(value))\n",
    "        \n",
    "multi_print_factorial(one=1, two=2, three=3)"
   ]
  },
  {
   "cell_type": "markdown",
   "metadata": {},
   "source": [
    "Очевидно, все типы аргументов можно комбинировать"
   ]
  },
  {
   "cell_type": "code",
   "execution_count": 224,
   "metadata": {},
   "outputs": [
    {
     "name": "stdout",
     "output_type": "stream",
     "text": [
      "5 5 100\n",
      "('cat', 'dog')\n",
      "{'key': 'value'}\n"
     ]
    }
   ],
   "source": [
    "def some_complex_func(a, b, t=5, *args, **kwargs):\n",
    "    print (a, b, t)\n",
    "    print (args)\n",
    "    print (kwargs)\n",
    "\n",
    "some_complex_func(5, 5, 100, \"cat\", \"dog\", key=\"value\")"
   ]
  },
  {
   "cell_type": "markdown",
   "metadata": {},
   "source": [
    "Вернемся теперь к нашей задаче:\n",
    "     написать функцию для отладки, которая принимает определенную функцию, а возвращает функцию, которая ведет себя так же, как и исходная, но печатает при старте функции \"Function started\", а при завершении ее работы - \"Function ended\"."
   ]
  },
  {
   "cell_type": "code",
   "execution_count": 268,
   "metadata": {
    "collapsed": true
   },
   "outputs": [],
   "source": [
    "def print_wrapper(func):\n",
    "    def decorated_func(*args, **kwargs):\n",
    "        print (\"Function started\")\n",
    "        result = func(*args, **kwargs)\n",
    "        print (\"Function ended\")\n",
    "        return result\n",
    "    return decorated_func"
   ]
  },
  {
   "cell_type": "code",
   "execution_count": 269,
   "metadata": {},
   "outputs": [
    {
     "name": "stdout",
     "output_type": "stream",
     "text": [
      "Greatest common divisor of 21 and 63 is 21\n",
      "Function started\n",
      "Function ended\n",
      "Greatest common divisor of 21 and 63 is 21\n"
     ]
    }
   ],
   "source": [
    "def find_gcd(a, b):\n",
    "    if a < b:\n",
    "        a, b = b, a\n",
    "    if b == 0:\n",
    "        return a\n",
    "    return find_gcd(b, a % b)\n",
    "\n",
    "print (\"Greatest common divisor of 21 and 63 is\", find_gcd(21, 63))\n",
    "\n",
    "decorated_gcd = print_wrapper(find_gcd)\n",
    "print (\"Greatest common divisor of 21 and 63 is\", decorated_gcd(21, 63))"
   ]
  },
  {
   "cell_type": "markdown",
   "metadata": {},
   "source": [
    "Функция, подобная той, что мы написали, называется **декоратором**. Для декораторов существует упрощенный синтаксис (однако он приведет к тому, что исходную функцию восстановить сложно)"
   ]
  },
  {
   "cell_type": "code",
   "execution_count": 270,
   "metadata": {},
   "outputs": [
    {
     "name": "stdout",
     "output_type": "stream",
     "text": [
      "Function started\n",
      "Function started\n",
      "Function ended\n",
      "Function ended\n",
      "Greatest common divisor of 21 and 63 is 21\n"
     ]
    }
   ],
   "source": [
    "@print_wrapper\n",
    "def find_gcd(a, b):\n",
    "    if a < b:\n",
    "        a, b = b, a\n",
    "    if b == 0:\n",
    "        return a\n",
    "    return find_gcd(b, a % b)\n",
    "\n",
    "print (\"Greatest common divisor of 21 and 63 is\", find_gcd(21, 63))"
   ]
  },
  {
   "cell_type": "markdown",
   "metadata": {},
   "source": [
    "Почему в этом примере функция написала о своем старте и выходе два раза?"
   ]
  },
  {
   "cell_type": "markdown",
   "metadata": {},
   "source": [
    "В стандартной библиотеке Python есть множество декораторов, с которыми вы познакомитесь позже.\n",
    "\n",
    "Декоратору непросто передать дополнительные аргументы, т.к он принимает первым аргументом функцию. На самом деле, для этого надо сделать не декоратор, а функцию, возвращающую декоратор\n",
    "\n",
    "Напишем, например, декоратор, который будет писать в лог текущее время и дату и свое имя"
   ]
  },
  {
   "cell_type": "code",
   "execution_count": 284,
   "metadata": {
    "collapsed": true
   },
   "outputs": [],
   "source": [
    "def log_wrapper(name):\n",
    "    import datetime\n",
    "    def real_decorator(func):\n",
    "        def decorated_func(*args, **kwargs):\n",
    "            now = datetime.datetime.now()\n",
    "            print (\"{}, Date: {}, Function started\".format(name, now))\n",
    "            result = func(*args, **kwargs)\n",
    "            now = datetime.datetime.now()\n",
    "            print (\"{}, Date: {}, Function ended\".format(name, now))\n",
    "            return result\n",
    "        return decorated_func\n",
    "    return real_decorator"
   ]
  },
  {
   "cell_type": "code",
   "execution_count": 287,
   "metadata": {},
   "outputs": [
    {
     "name": "stdout",
     "output_type": "stream",
     "text": [
      "Simple logger, Date: 2018-02-16 17:48:22.443671, Function started\n",
      "Simple logger, Date: 2018-02-16 17:48:32.752694, Function ended\n"
     ]
    }
   ],
   "source": [
    "@log_wrapper(\"Simple logger\")\n",
    "def fibonacci(n):\n",
    "    f0, f1 = 0, 1\n",
    "    for i in range(n):\n",
    "        f0, f1 = f1, f0 + f1\n",
    "    return f0\n",
    "\n",
    "res = fibonacci(1000000)"
   ]
  },
  {
   "cell_type": "markdown",
   "metadata": {},
   "source": [
    "Для особо настойчивых привожу код, взятый из ответа со StackOveflow (https://stackoverflow.com/questions/5929107/decorators-with-parameters, пользователь Dacav). Если вы его поняли, то можете считать, что вы поняли декораторы. Он позволяет делать декораторы с аргументами без лишних мучений\n",
    "\n",
    "Создадим декоратор для декораторов"
   ]
  },
  {
   "cell_type": "markdown",
   "metadata": {},
   "source": [
    "![decorator](yo_dawg.jpg)"
   ]
  },
  {
   "cell_type": "code",
   "execution_count": 290,
   "metadata": {
    "collapsed": true
   },
   "outputs": [],
   "source": [
    "def parametrized(dec):\n",
    "    def layer(*args, **kwargs):\n",
    "        def repl(f):\n",
    "            return dec(f, *args, **kwargs)\n",
    "        return repl\n",
    "    return layer"
   ]
  },
  {
   "cell_type": "markdown",
   "metadata": {},
   "source": [
    "Сделаем, к примеру, декоратор, умножающую результат выполнения функции на заданное число"
   ]
  },
  {
   "cell_type": "code",
   "execution_count": 292,
   "metadata": {},
   "outputs": [
    {
     "name": "stdout",
     "output_type": "stream",
     "text": [
      "26\n",
      "26\n",
      "39\n"
     ]
    }
   ],
   "source": [
    "@parametrized\n",
    "def multiply(f, n):\n",
    "    def aux(*xs, **kws):\n",
    "        return n * f(*xs, **kws)\n",
    "    return aux\n",
    "\n",
    "@multiply(2)\n",
    "def function(a):\n",
    "    return 10 + a\n",
    "\n",
    "print (function(3))  # Prints 26\n",
    "\n",
    "@multiply(3)\n",
    "def function_again(a):\n",
    "    return 10 + a\n",
    "\n",
    "print (function(3))          # Keeps printing 26\n",
    "print (function_again(3))   # Prints 39, namely 3 * (10 + 3)"
   ]
  },
  {
   "cell_type": "markdown",
   "metadata": {},
   "source": [
    "Ну и интересный пример того, как проверять типы передаваемых функции аргументов из того же ответа. Здесь используются zip и enumerate, которые будут разобраны в следующем занятии."
   ]
  },
  {
   "cell_type": "code",
   "execution_count": 295,
   "metadata": {},
   "outputs": [
    {
     "name": "stdout",
     "output_type": "stream",
     "text": [
      "hellohellohello\n"
     ]
    },
    {
     "ename": "TypeError",
     "evalue": "Value 0 has not type <class 'str'>. <class 'int'> instead",
     "output_type": "error",
     "traceback": [
      "\u001b[0;31m---------------------------------------------------------------------------\u001b[0m",
      "\u001b[0;31mTypeError\u001b[0m                                 Traceback (most recent call last)",
      "\u001b[0;32m<ipython-input-295-437359a544bc>\u001b[0m in \u001b[0;36m<module>\u001b[0;34m()\u001b[0m\n\u001b[1;32m     15\u001b[0m \u001b[0;34m\u001b[0m\u001b[0m\n\u001b[1;32m     16\u001b[0m \u001b[0mprint\u001b[0m\u001b[0;34m(\u001b[0m\u001b[0mstring_multiply\u001b[0m\u001b[0;34m(\u001b[0m\u001b[0;34m'hello'\u001b[0m\u001b[0;34m,\u001b[0m \u001b[0;36m3\u001b[0m\u001b[0;34m)\u001b[0m\u001b[0;34m)\u001b[0m    \u001b[0;31m# prints hellohellohello\u001b[0m\u001b[0;34m\u001b[0m\u001b[0m\n\u001b[0;32m---> 17\u001b[0;31m \u001b[0mprint\u001b[0m\u001b[0;34m(\u001b[0m\u001b[0mstring_multiply\u001b[0m\u001b[0;34m(\u001b[0m\u001b[0;36m3\u001b[0m\u001b[0;34m,\u001b[0m \u001b[0;36m3\u001b[0m\u001b[0;34m)\u001b[0m\u001b[0;34m)\u001b[0m          \u001b[0;31m# Fails miserably with TypeError\u001b[0m\u001b[0;34m\u001b[0m\u001b[0m\n\u001b[0m",
      "\u001b[0;32m<ipython-input-295-437359a544bc>\u001b[0m in \u001b[0;36mrep\u001b[0;34m(*args)\u001b[0m\n\u001b[1;32m      5\u001b[0m             \u001b[0;32mif\u001b[0m \u001b[0mtype\u001b[0m\u001b[0;34m(\u001b[0m\u001b[0ma\u001b[0m\u001b[0;34m)\u001b[0m \u001b[0;32mis\u001b[0m \u001b[0;32mnot\u001b[0m \u001b[0mt\u001b[0m\u001b[0;34m:\u001b[0m\u001b[0;34m\u001b[0m\u001b[0m\n\u001b[1;32m      6\u001b[0m                 raise TypeError('Value %d has not type %s. %s instead' %\n\u001b[0;32m----> 7\u001b[0;31m                     \u001b[0;34m(\u001b[0m\u001b[0mn\u001b[0m\u001b[0;34m,\u001b[0m \u001b[0mt\u001b[0m\u001b[0;34m,\u001b[0m \u001b[0mtype\u001b[0m\u001b[0;34m(\u001b[0m\u001b[0ma\u001b[0m\u001b[0;34m)\u001b[0m\u001b[0;34m)\u001b[0m\u001b[0;34m\u001b[0m\u001b[0m\n\u001b[0m\u001b[1;32m      8\u001b[0m                 )\n\u001b[1;32m      9\u001b[0m         \u001b[0;32mreturn\u001b[0m \u001b[0mf\u001b[0m\u001b[0;34m(\u001b[0m\u001b[0;34m*\u001b[0m\u001b[0margs\u001b[0m\u001b[0;34m)\u001b[0m\u001b[0;34m\u001b[0m\u001b[0m\n",
      "\u001b[0;31mTypeError\u001b[0m: Value 0 has not type <class 'str'>. <class 'int'> instead"
     ]
    }
   ],
   "source": [
    "@parametrized\n",
    "def types(f, *types):\n",
    "    def rep(*args):\n",
    "        for n, (a, t) in enumerate(zip(args, types)):\n",
    "            if type(a) is not t:\n",
    "                raise TypeError('Value %d has not type %s. %s instead' %\n",
    "                    (n, t, type(a))\n",
    "                )\n",
    "        return f(*args)\n",
    "    return rep\n",
    "\n",
    "@types(str, int)  # arg1 is str, arg2 is int\n",
    "def string_multiply(text, times):\n",
    "    return text * times\n",
    "\n",
    "print(string_multiply('hello', 3))    # prints hellohellohello\n",
    "print(string_multiply(3, 3))          # Fails miserably with TypeError"
   ]
  },
  {
   "cell_type": "markdown",
   "metadata": {},
   "source": [
    "Для упрощения работы с функциями существуют модуль [functools](https://docs.python.org/3/library/functools.html)"
   ]
  },
  {
   "cell_type": "code",
   "execution_count": 306,
   "metadata": {
    "collapsed": true
   },
   "outputs": [],
   "source": [
    "import functools"
   ]
  },
  {
   "cell_type": "markdown",
   "metadata": {},
   "source": [
    "Например, можно сделать так, чтобы функция хранила результаты последних нескольких своих вызов с помощью **functools.lru_cache**. \n",
    "Можем сделать то же, что мы делали подручными средствами. Логично, что будет не хуже, а даже лучше:)\n"
   ]
  },
  {
   "cell_type": "code",
   "execution_count": 334,
   "metadata": {
    "collapsed": true
   },
   "outputs": [],
   "source": [
    "def fibonacci(n):\n",
    "\n",
    "    f0, f1 = 0, 1\n",
    "    for i in range(n):\n",
    "        f0, f1 = f1, f0 + f1\n",
    "    return f0\n",
    "\n",
    "def fibonacci_rec_hash(n, calc_memory = {0: 0, 1 : 1}):\n",
    "    if n < 0:\n",
    "        return 0\n",
    "    result = calc_memory.get(n, None) # safe way to get value, \n",
    "    # if value doesn't exist, returns default value, here it's None\n",
    "    if result is not None:\n",
    "        return result\n",
    "\n",
    "    result = fibonacci_rec_hash(n - 1) + fibonacci_rec_hash(n - 2)\n",
    "    calc_memory[n] = result\n",
    "    return result\n",
    "\n",
    "@functools.lru_cache(maxsize=1000, typed=False)\n",
    "def fibonacci_rec(n):\n",
    "    if n < 0:\n",
    "        return 0\n",
    "    \n",
    "    if n == 0:\n",
    "        return 0\n",
    "    if n == 1:\n",
    "        return 1\n",
    "    \n",
    "    return fibonacci_rec(n - 1) + fibonacci_rec(n - 2)"
   ]
  },
  {
   "cell_type": "code",
   "execution_count": 331,
   "metadata": {},
   "outputs": [
    {
     "name": "stdout",
     "output_type": "stream",
     "text": [
      "244 ns ± 12.2 ns per loop (mean ± std. dev. of 7 runs, 1000000 loops each)\n"
     ]
    }
   ],
   "source": [
    "%%timeit\n",
    "fibonacci_rec_hash(100)"
   ]
  },
  {
   "cell_type": "code",
   "execution_count": 333,
   "metadata": {},
   "outputs": [
    {
     "name": "stdout",
     "output_type": "stream",
     "text": [
      "94.6 ns ± 2.6 ns per loop (mean ± std. dev. of 7 runs, 10000000 loops each)\n"
     ]
    }
   ],
   "source": [
    "%%timeit\n",
    "fibonacci_rec(100)"
   ]
  },
  {
   "cell_type": "code",
   "execution_count": 332,
   "metadata": {},
   "outputs": [
    {
     "name": "stdout",
     "output_type": "stream",
     "text": [
      "5.43 µs ± 166 ns per loop (mean ± std. dev. of 7 runs, 100000 loops each)\n"
     ]
    }
   ],
   "source": [
    "%%timeit\n",
    "fibonacci(100)"
   ]
  },
  {
   "cell_type": "markdown",
   "metadata": {},
   "source": [
    "В этом модуле есть и несколько других полезных функций, но их мы разберем позже"
   ]
  }
 ],
 "metadata": {
  "kernelspec": {
   "display_name": "Python 3",
   "language": "python",
   "name": "python3"
  },
  "language_info": {
   "codemirror_mode": {
    "name": "ipython",
    "version": 3
   },
   "file_extension": ".py",
   "mimetype": "text/x-python",
   "name": "python",
   "nbconvert_exporter": "python",
   "pygments_lexer": "ipython3",
   "version": "3.6.8"
  }
 },
 "nbformat": 4,
 "nbformat_minor": 2
}
