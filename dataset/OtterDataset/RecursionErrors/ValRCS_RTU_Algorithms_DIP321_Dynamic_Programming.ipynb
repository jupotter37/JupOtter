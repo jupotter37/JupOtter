{
  "cells": [
    {
      "cell_type": "markdown",
      "metadata": {
        "id": "WP_4lhEPE6VX"
      },
      "source": [
        "# Dynamic Programming\n",
        "\n",
        "adopted from: https://www.amazon.com/Python-Algorithms-Mastering-Basic-Language/dp/148420056X\n",
        "\n",
        "Python Algorithms: Mastering Basic Algorithms in the Python Language"
      ]
    },
    {
      "cell_type": "markdown",
      "metadata": {
        "id": "1Q35vmYLE6Vb"
      },
      "source": [
        "![Bellman](https://upload.wikimedia.org/wikipedia/en/7/7a/Richard_Ernest_Bellman.jpg)\n",
        "\n",
        "https://en.wikipedia.org/wiki/Richard_E._Bellman"
      ]
    },
    {
      "cell_type": "markdown",
      "metadata": {
        "id": "DgFO0AYbE6Vb"
      },
      "source": [
        "## Dynamic Programming - not the programming in computer terms!\n",
        "The term dynamic programming (or simply DP) can be a bit confusing to newcomers. Both of the words are\n",
        "used in a different way than most might expect. Programming here refers to making a set of choices (as in “linear\n",
        "programming”) and thus has more in common with the way the term is used in, say, television, than in writing\n",
        "computer programs. Dynamic simply means that things change over time—in this case, that each choice depends\n",
        "on the previous one. In other words, this “dynamicism” has little to do with the program you’ll write and is just a\n",
        "description of the problem class. In Bellman’s own words, “I thought dynamic programming was a good name. It was\n",
        "something not even a Congressman could object to. So I used it as an umbrella for my activities"
      ]
    },
    {
      "cell_type": "markdown",
      "metadata": {
        "id": "nHyDglmXE6Vc"
      },
      "source": [
        "* The core technique of DP -> caching\n",
        "* Decompose your problem recursively/inductively (usual)\n",
        "* allow overlap between the subproblems. \n",
        "* Plain recursive solution xponential number of times -> caching trims away waste\n",
        "* result is usually both an impressively efficient algorithm and a greater insight into the problem.\n",
        "\n",
        "\n",
        "Commonly, DP algorithms turn the recursive formulation upside down, making it iterative and filling out some\n",
        "data structure (such as a multidimensional array) step by step. \n",
        "\n",
        "* Another option well suited to high-level languages such as Python—is to implement the recursive formulation directly but to cache the return\n",
        "values. \n",
        "* If a call is made more than once with the same arguments, the result is simply returned directly from the\n",
        "cache. This is known as **memoization**"
      ]
    },
    {
      "cell_type": "markdown",
      "metadata": {
        "id": "N_LytZk-E6Vd"
      },
      "source": [
        "## Little puzzle: Longest Increasing Subsequence\n",
        "\n",
        "Say you have a sequence of numbers, and you want to find its\n",
        "longest increasing (or, rather nondecreasing) subsequence—or one of them, if there are more. A subsequence consists\n",
        "of a subset of the elements in their original order. So, for example, in the sequence [3, 1, 0, 2, 4], one solution\n",
        "would be [1, 2, 4]."
      ]
    },
    {
      "cell_type": "markdown",
      "metadata": {
        "id": "xunM5tBSGoq9"
      },
      "source": [
        "# Brute force - when in doubt use brute force"
      ]
    },
    {
      "cell_type": "code",
      "execution_count": 1,
      "metadata": {
        "id": "D-PPHZ-zGDgM"
      },
      "outputs": [],
      "source": [
        "from itertools import combinations # from standard library"
      ]
    },
    {
      "cell_type": "code",
      "execution_count": 2,
      "metadata": {
        "colab": {
          "base_uri": "https://localhost:8080/"
        },
        "id": "S5rsatOEGJCv",
        "outputId": "ed06337a-d684-4961-c5b6-6b738db32b5c"
      },
      "outputs": [
        {
          "data": {
            "text/plain": [
              "[3, 1, 0, 2, 4]"
            ]
          },
          "execution_count": 2,
          "metadata": {},
          "output_type": "execute_result"
        }
      ],
      "source": [
        "my_list = [3, 1, 0, 2, 4]\n",
        "my_list"
      ]
    },
    {
      "cell_type": "code",
      "execution_count": 3,
      "metadata": {
        "colab": {
          "base_uri": "https://localhost:8080/"
        },
        "id": "bb6hD7cCGNan",
        "outputId": "c1efd19e-72e3-4ff5-b151-43c84e83e08b"
      },
      "outputs": [
        {
          "data": {
            "text/plain": [
              "[(3, 1, 0, 2), (3, 1, 0, 4), (3, 1, 2, 4), (3, 0, 2, 4), (1, 0, 2, 4)]"
            ]
          },
          "execution_count": 3,
          "metadata": {},
          "output_type": "execute_result"
        }
      ],
      "source": [
        "list(combinations(my_list, 4))"
      ]
    },
    {
      "cell_type": "code",
      "execution_count": 4,
      "metadata": {},
      "outputs": [
        {
          "data": {
            "text/plain": [
              "[(3, 1, 0),\n",
              " (3, 1, 2),\n",
              " (3, 1, 4),\n",
              " (3, 0, 2),\n",
              " (3, 0, 4),\n",
              " (3, 2, 4),\n",
              " (1, 0, 2),\n",
              " (1, 0, 4),\n",
              " (1, 2, 4),\n",
              " (0, 2, 4)]"
            ]
          },
          "execution_count": 4,
          "metadata": {},
          "output_type": "execute_result"
        }
      ],
      "source": [
        "list(combinations(my_list, 3)) # 5 choose 3 - formula is n! / (k! * (n - k)!)\n",
        "# n is the number of items in the list - 5\n",
        "# k is the number of items in each combination - 3\n",
        "# so here we have 5! / (3! * (5 - 3)!) = 5! / (3! * 2!) = 120 / (6 * 2) = 120 / 12 = 10"
      ]
    },
    {
      "cell_type": "code",
      "execution_count": 5,
      "metadata": {},
      "outputs": [
        {
          "data": {
            "text/plain": [
              "[(3, 1),\n",
              " (3, 0),\n",
              " (3, 2),\n",
              " (3, 4),\n",
              " (1, 0),\n",
              " (1, 2),\n",
              " (1, 4),\n",
              " (0, 2),\n",
              " (0, 4),\n",
              " (2, 4)]"
            ]
          },
          "execution_count": 5,
          "metadata": {},
          "output_type": "execute_result"
        }
      ],
      "source": [
        "list(combinations(my_list, 2))"
      ]
    },
    {
      "cell_type": "code",
      "execution_count": 5,
      "metadata": {},
      "outputs": [
        {
          "data": {
            "text/plain": [
              "[(3,), (1,), (0,), (2,), (4,)]"
            ]
          },
          "execution_count": 5,
          "metadata": {},
          "output_type": "execute_result"
        }
      ],
      "source": [
        "list(combinations(my_list, 1))\n",
        "# gives us a list of single item tuples"
      ]
    },
    {
      "cell_type": "code",
      "execution_count": 6,
      "metadata": {
        "id": "1gzLkFkHE6Vd"
      },
      "outputs": [],
      "source": [
        "\n",
        "def naive_list(seq):\n",
        "    for length in range(len(seq), 0, -1): # n, n-1, ... , 1 # worse case for decreasing range would be 1 item as a solution\n",
        "        for sub in combinations(seq, length): # Subsequences of given length\n",
        "            # TODO find a faster way to check if the subsequence is sorted\n",
        "            if list(sub) == sorted(sub): # An increasing subsequence? sorted one would be same with the original one\n",
        "                # possible we could cache the sorted version of the subsequence\n",
        "                return sub # Return it!"
      ]
    },
    {
      "cell_type": "code",
      "execution_count": 7,
      "metadata": {
        "colab": {
          "base_uri": "https://localhost:8080/"
        },
        "id": "Z9-20xdBE6Ve",
        "outputId": "43d6d726-354c-4e66-8103-30caf7f0cded"
      },
      "outputs": [
        {
          "data": {
            "text/plain": [
              "(1, 2, 4)"
            ]
          },
          "execution_count": 7,
          "metadata": {},
          "output_type": "execute_result"
        }
      ],
      "source": [
        "naive_list([3,1,0,2,4])"
      ]
    },
    {
      "cell_type": "code",
      "execution_count": 8,
      "metadata": {
        "colab": {
          "base_uri": "https://localhost:8080/"
        },
        "id": "QopIZ4_xGdET",
        "outputId": "421809ff-e574-4f08-9c18-3acc6b32a2d2"
      },
      "outputs": [
        {
          "data": {
            "text/plain": [
              "[(3, 1, 0),\n",
              " (3, 1, 2),\n",
              " (3, 1, 4),\n",
              " (3, 0, 2),\n",
              " (3, 0, 4),\n",
              " (3, 2, 4),\n",
              " (1, 0, 2),\n",
              " (1, 0, 4),\n",
              " (1, 2, 4),\n",
              " (0, 2, 4)]"
            ]
          },
          "execution_count": 8,
          "metadata": {},
          "output_type": "execute_result"
        }
      ],
      "source": [
        "# i started with 5 then 4 then checked 3 number combination \n",
        "list(combinations(my_list, 3))"
      ]
    },
    {
      "cell_type": "code",
      "execution_count": 12,
      "metadata": {
        "colab": {
          "base_uri": "https://localhost:8080/"
        },
        "id": "hvkZV9ATE6Vg",
        "outputId": "44862231-c11f-4d45-80c5-1d8a1f00eda2"
      },
      "outputs": [
        {
          "data": {
            "text/plain": [
              "(0, 2, 3, 4, 6)"
            ]
          },
          "execution_count": 12,
          "metadata": {},
          "output_type": "execute_result"
        }
      ],
      "source": [
        "naive_list([5,0,2,1,6,3,7,4,6])"
      ]
    },
    {
      "cell_type": "code",
      "execution_count": null,
      "metadata": {
        "id": "rFwKUQT6GkHO"
      },
      "outputs": [],
      "source": [
        "# This works (on smaller sequences at least)\n",
        "\n"
      ]
    },
    {
      "cell_type": "code",
      "execution_count": 8,
      "metadata": {
        "id": "TwI6rosjHr7v"
      },
      "outputs": [
        {
          "data": {
            "text/plain": [
              "[61, 24, 94, 75, 39, 26, 93, 53, 97, 92]"
            ]
          },
          "execution_count": 8,
          "metadata": {},
          "output_type": "execute_result"
        }
      ],
      "source": [
        "import random\n",
        "random.seed(2024) # Set the seed so we all get the same pseudo-\"random\" results\n",
        "r10 = [random.randint(1,100) for _ in range(10)]\n",
        "r20 = [random.randint(1,100) for _ in range(20)]\n",
        "r25 = [random.randint(1,100) for _ in range(25)]\n",
        "r100 = [random.randint(1,1000) for _ in range(100)]\n",
        "r1k = [random.randint(1,10_000) for _ in range(1000)]\n",
        "r10"
      ]
    },
    {
      "cell_type": "code",
      "execution_count": 9,
      "metadata": {
        "colab": {
          "base_uri": "https://localhost:8080/"
        },
        "id": "a02-vEMsIjDE",
        "outputId": "a6f13f36-5b2d-4d44-ad00-ec081c463ee2"
      },
      "outputs": [
        {
          "data": {
            "text/plain": [
              "(61, 75, 93, 97)"
            ]
          },
          "execution_count": 9,
          "metadata": {},
          "output_type": "execute_result"
        }
      ],
      "source": [
        "naive_list(r10)"
      ]
    },
    {
      "cell_type": "code",
      "execution_count": 10,
      "metadata": {
        "colab": {
          "base_uri": "https://localhost:8080/"
        },
        "id": "X-mcEBf8IA7E",
        "outputId": "f962acfe-b3bb-43af-a673-318e91f0e23d"
      },
      "outputs": [
        {
          "name": "stdout",
          "output_type": "stream",
          "text": [
            "296 µs ± 11.7 µs per loop (mean ± std. dev. of 7 runs, 1,000 loops each)\n"
          ]
        }
      ],
      "source": [
        "%%timeit\n",
        "naive_list(r10)"
      ]
    },
    {
      "cell_type": "code",
      "execution_count": 11,
      "metadata": {
        "colab": {
          "base_uri": "https://localhost:8080/"
        },
        "id": "Cm1fa0MXIqQ5",
        "outputId": "01f9b9b6-55ed-48b6-b469-f1885149332f"
      },
      "outputs": [
        {
          "data": {
            "text/plain": [
              "(34, 46, 54, 68, 79, 91, 94)"
            ]
          },
          "execution_count": 11,
          "metadata": {},
          "output_type": "execute_result"
        }
      ],
      "source": [
        "naive_list(r20)"
      ]
    },
    {
      "cell_type": "code",
      "execution_count": 12,
      "metadata": {
        "colab": {
          "base_uri": "https://localhost:8080/"
        },
        "id": "EtqW37roIoNV",
        "outputId": "19d37e0c-5220-4951-c1a8-a455226c1008"
      },
      "outputs": [
        {
          "name": "stdout",
          "output_type": "stream",
          "text": [
            "473 ms ± 11.5 ms per loop (mean ± std. dev. of 7 runs, 1 loop each)\n"
          ]
        }
      ],
      "source": [
        "%%timeit\n",
        "naive_list(r20)"
      ]
    },
    {
      "cell_type": "code",
      "execution_count": 13,
      "metadata": {
        "colab": {
          "base_uri": "https://localhost:8080/"
        },
        "id": "6RzVfqsSJEJz",
        "outputId": "06703687-31db-4cd6-e47b-404a4169f4aa"
      },
      "outputs": [
        {
          "data": {
            "text/plain": [
              "(27, 28, 53, 54, 60, 93, 96, 98)"
            ]
          },
          "execution_count": 13,
          "metadata": {},
          "output_type": "execute_result"
        }
      ],
      "source": [
        "naive_list(r25)"
      ]
    },
    {
      "cell_type": "code",
      "execution_count": null,
      "metadata": {
        "id": "uaSPoi8YE6Vg"
      },
      "outputs": [],
      "source": [
        "# how about complexity? \n",
        "# Two nested loops -> n^2 ?\n",
        "# Hint combinations is not O(1).... so it is at least O(n^2) but more likely O(n^3) or worse\n",
        "\n",
        "# TODO find exact complexity of this naive_list\n",
        "# HINT anything involving factorials, is going to be candidate for factorial complexity"
      ]
    },
    {
      "cell_type": "markdown",
      "metadata": {},
      "source": [
        "## Fibonacci numbers"
      ]
    },
    {
      "cell_type": "code",
      "execution_count": 15,
      "metadata": {
        "id": "zkJRpCMhE6Vh"
      },
      "outputs": [],
      "source": [
        "## Fibonacci\n",
        "def fib(i): # finding i-th member in our Fibonacci chain 1,1,2,3,5,8,13,21,34,55,89\n",
        "    if i < 2: # base case - first two numbers are 1\n",
        "        return 1\n",
        "    else:\n",
        "        return fib(i-1) + fib(i-2) # we have two recursive calls, but our problem space is not going down by half"
      ]
    },
    {
      "cell_type": "code",
      "execution_count": 16,
      "metadata": {
        "colab": {
          "base_uri": "https://localhost:8080/"
        },
        "id": "Ol8nzEjlHCKL",
        "outputId": "18018154-ffd6-4fec-cba6-2e9e5658d611"
      },
      "outputs": [
        {
          "data": {
            "text/plain": [
              "(1, 1, 2, 3, 5, 8)"
            ]
          },
          "execution_count": 16,
          "metadata": {},
          "output_type": "execute_result"
        }
      ],
      "source": [
        "fib(0),fib(1),fib(2),fib(3),fib(4),fib(5)"
      ]
    },
    {
      "cell_type": "code",
      "execution_count": 17,
      "metadata": {
        "colab": {
          "base_uri": "https://localhost:8080/"
        },
        "id": "DrqbFRJPE6Vi",
        "outputId": "274b4308-beb8-487e-b11a-69f4f3661910"
      },
      "outputs": [
        {
          "name": "stdout",
          "output_type": "stream",
          "text": [
            "1 1 1.0\n",
            "2 1 2.0\n",
            "3 2 1.5\n",
            "5 3 1.66666667\n",
            "8 5 1.6\n",
            "13 8 1.625\n",
            "21 13 1.61538462\n",
            "34 21 1.61904762\n",
            "55 34 1.61764706\n",
            "89 55 1.61818182\n",
            "144 89 1.61797753\n",
            "233 144 1.61805556\n",
            "377 233 1.61802575\n",
            "610 377 1.61803714\n",
            "987 610 1.61803279\n",
            "1597 987 1.61803445\n",
            "2584 1597 1.61803381\n",
            "4181 2584 1.61803406\n",
            "6765 4181 1.61803396\n"
          ]
        }
      ],
      "source": [
        "# sidenote: Fibonaccy ratios approach golden mean\n",
        "for n in range(1,20):\n",
        "    print(fib(n), fib(n-1), round(fib(n)/fib(n-1),8))"
      ]
    },
    {
      "cell_type": "markdown",
      "metadata": {
        "id": "VXDrc0YVE6Vj"
      },
      "source": [
        "![Fib Spiral](https://upload.wikimedia.org/wikipedia/commons/thumb/9/93/Fibonacci_spiral_34.svg/500px-Fibonacci_spiral_34.svg.png)"
      ]
    },
    {
      "cell_type": "markdown",
      "metadata": {
        "id": "kqfqC7YnE6Vj"
      },
      "source": [
        "https://en.wikipedia.org/wiki/Golden_ratio"
      ]
    },
    {
      "cell_type": "code",
      "execution_count": 18,
      "metadata": {
        "colab": {
          "base_uri": "https://localhost:8080/"
        },
        "id": "AndoTITxE6Vj",
        "outputId": "0f1d039c-5913-4095-d189-5f6754b4f8c4"
      },
      "outputs": [
        {
          "data": {
            "text/plain": [
              "1346269"
            ]
          },
          "execution_count": 18,
          "metadata": {},
          "output_type": "execute_result"
        }
      ],
      "source": [
        "# so far so good?\n",
        "fib(30)"
      ]
    },
    {
      "cell_type": "code",
      "execution_count": 19,
      "metadata": {
        "colab": {
          "base_uri": "https://localhost:8080/"
        },
        "id": "MHq9gpm0Hkik",
        "outputId": "43c48472-6d33-4ee0-d2e2-d0ed62e7ce6f"
      },
      "outputs": [
        {
          "data": {
            "text/plain": [
              "14930352"
            ]
          },
          "execution_count": 19,
          "metadata": {},
          "output_type": "execute_result"
        }
      ],
      "source": [
        "fib(35)"
      ]
    },
    {
      "cell_type": "code",
      "execution_count": 24,
      "metadata": {
        "colab": {
          "base_uri": "https://localhost:8080/"
        },
        "id": "B0Uv-ha6HrBT",
        "outputId": "440ea9cb-fbe5-4cb6-bdf2-e3a53cf6a6cb"
      },
      "outputs": [
        {
          "data": {
            "text/plain": [
              "24157817"
            ]
          },
          "execution_count": 24,
          "metadata": {},
          "output_type": "execute_result"
        }
      ],
      "source": [
        "fib(36)"
      ]
    },
    {
      "cell_type": "markdown",
      "metadata": {
        "id": "gaNsl4ooE6Vj"
      },
      "source": [
        "#https://stackoverflow.com/questions/35959100/explanation-on-fibonacci-recursion\n",
        "![FibTree](https://i.stack.imgur.com/QVSdv.png)"
      ]
    },
    {
      "cell_type": "code",
      "execution_count": 22,
      "metadata": {
        "id": "gh9G9pDBE6Vk"
      },
      "outputs": [],
      "source": [
        "from functools import wraps\n",
        "# memo is a function that takes a function as argument and returns a wrapped version of this function with caching\n",
        "def memo(func):\n",
        "    cache = {} # Stored subproblem solutions, this dictionary - Hashmap type - so O(1) lookup\n",
        "    @wraps(func) # Make wrap look like func\n",
        "    def wrap(*args): # The memoized wrapper\n",
        "        if args not in cache: # Not already computed? O(1) lookup\n",
        "            cache[args] = func(*args) # Compute & cache the solution O(1) to store - of func itself will have some cost\n",
        "        return cache[args] # Return the cached solution - return again is O(1)\n",
        "    return wrap # Return the wrapper\n",
        "# PS Python actually has memoization library as well - we are learning here"
      ]
    },
    {
      "cell_type": "code",
      "execution_count": 23,
      "metadata": {
        "id": "j9WGS7jsE6Vk"
      },
      "outputs": [],
      "source": [
        "fib_memo = memo(fib) #functions are first class citizens in Python\n"
      ]
    },
    {
      "cell_type": "code",
      "execution_count": 28,
      "metadata": {
        "colab": {
          "base_uri": "https://localhost:8080/"
        },
        "id": "ft1J8tgME6Vk",
        "outputId": "8eb1e937-dc57-4945-864b-1a2e2288abd2"
      },
      "outputs": [
        {
          "data": {
            "text/plain": [
              "1346269"
            ]
          },
          "execution_count": 28,
          "metadata": {},
          "output_type": "execute_result"
        }
      ],
      "source": [
        "fib_memo(30)"
      ]
    },
    {
      "cell_type": "code",
      "execution_count": 31,
      "metadata": {
        "colab": {
          "base_uri": "https://localhost:8080/"
        },
        "id": "JU7lUnoeKqYi",
        "outputId": "cdd1b945-930c-456e-e929-d3c9f3bfec65"
      },
      "outputs": [
        {
          "data": {
            "text/plain": [
              "9227465"
            ]
          },
          "execution_count": 31,
          "metadata": {},
          "output_type": "execute_result"
        }
      ],
      "source": [
        "fib_memo(34)"
      ]
    },
    {
      "cell_type": "code",
      "execution_count": 35,
      "metadata": {},
      "outputs": [
        {
          "data": {
            "text/plain": [
              "14930352"
            ]
          },
          "execution_count": 35,
          "metadata": {},
          "output_type": "execute_result"
        }
      ],
      "source": [
        "fib_memo(35)"
      ]
    },
    {
      "cell_type": "code",
      "execution_count": null,
      "metadata": {
        "colab": {
          "base_uri": "https://localhost:8080/"
        },
        "id": "o9fuyP39E6Vl",
        "outputId": "619ac08c-3600-4202-da63-4b9bcac97576"
      },
      "outputs": [
        {
          "name": "stdout",
          "output_type": "stream",
          "text": [
            "1 loop, best of 5: 4.08 s per loop\n"
          ]
        }
      ],
      "source": [
        "%%timeit\n",
        "fib(35)"
      ]
    },
    {
      "cell_type": "code",
      "execution_count": 32,
      "metadata": {
        "id": "WLYRbw4-E6Vl"
      },
      "outputs": [],
      "source": [
        "@memo # this is a decorator - meaning we wrap our fib_m function in memo function\n",
        "def fib_m(i):\n",
        "    if i < 2: \n",
        "        return 1\n",
        "    else:\n",
        "        return fib_m(i-1) + fib_m(i-2)"
      ]
    },
    {
      "cell_type": "code",
      "execution_count": 33,
      "metadata": {
        "colab": {
          "base_uri": "https://localhost:8080/"
        },
        "id": "Nz46YPZGE6Vl",
        "outputId": "867564e7-26a3-4451-a403-533f643edf77"
      },
      "outputs": [
        {
          "name": "stdout",
          "output_type": "stream",
          "text": [
            "304 ns ± 8.07 ns per loop (mean ± std. dev. of 7 runs, 1,000,000 loops each)\n"
          ]
        }
      ],
      "source": [
        "%%timeit\n",
        "fib_m(35)"
      ]
    },
    {
      "cell_type": "code",
      "execution_count": 34,
      "metadata": {
        "colab": {
          "base_uri": "https://localhost:8080/"
        },
        "id": "g43ffT2WK5mE",
        "outputId": "be354197-a1e0-4ee6-f73b-8b07cc3d6ec9"
      },
      "outputs": [
        {
          "name": "stdout",
          "output_type": "stream",
          "text": [
            "366 ns ± 79.1 ns per loop (mean ± std. dev. of 7 runs, 1,000,000 loops each)\n"
          ]
        }
      ],
      "source": [
        "%%timeit\n",
        "fib_m(38)"
      ]
    },
    {
      "cell_type": "code",
      "execution_count": 35,
      "metadata": {
        "colab": {
          "base_uri": "https://localhost:8080/"
        },
        "id": "varRk-TpLG-0",
        "outputId": "f9c4239c-5882-403f-b851-0eeba3d88e0f"
      },
      "outputs": [
        {
          "name": "stdout",
          "output_type": "stream",
          "text": [
            "313 ns ± 33.8 ns per loop (mean ± std. dev. of 7 runs, 1,000,000 loops each)\n"
          ]
        }
      ],
      "source": [
        "%%timeit\n",
        "fib_m(45)"
      ]
    },
    {
      "cell_type": "code",
      "execution_count": null,
      "metadata": {
        "id": "nO5JzuRPE6Vl"
      },
      "outputs": [],
      "source": []
    },
    {
      "cell_type": "code",
      "execution_count": null,
      "metadata": {
        "colab": {
          "base_uri": "https://localhost:8080/"
        },
        "id": "NCImh-7GE6Vm",
        "outputId": "7280effb-d544-47ad-d844-52325aea7671"
      },
      "outputs": [
        {
          "data": {
            "text/plain": [
              "24157817"
            ]
          },
          "execution_count": 23,
          "metadata": {},
          "output_type": "execute_result"
        }
      ],
      "source": [
        "fib_m(36) # well the book implemention does not quite work, it is not caching properly"
      ]
    },
    {
      "cell_type": "code",
      "execution_count": null,
      "metadata": {
        "colab": {
          "base_uri": "https://localhost:8080/"
        },
        "id": "--c7uK81E6Vm",
        "outputId": "6bcce2d6-a615-4b1f-fcdf-444b2bfdf34e"
      },
      "outputs": [
        {
          "data": {
            "text/plain": [
              "165580141"
            ]
          },
          "execution_count": 24,
          "metadata": {},
          "output_type": "execute_result"
        }
      ],
      "source": [
        "fib_m(40)"
      ]
    },
    {
      "cell_type": "code",
      "execution_count": null,
      "metadata": {
        "colab": {
          "base_uri": "https://localhost:8080/"
        },
        "id": "jR0QrUAiE6Vm",
        "outputId": "6733edce-5591-4e33-8b3b-001c77868b01"
      },
      "outputs": [
        {
          "data": {
            "text/plain": [
              "2504730781961"
            ]
          },
          "execution_count": 25,
          "metadata": {},
          "output_type": "execute_result"
        }
      ],
      "source": [
        "fib_m(60)"
      ]
    },
    {
      "cell_type": "code",
      "execution_count": 47,
      "metadata": {
        "colab": {
          "base_uri": "https://localhost:8080/"
        },
        "id": "wm6eXes3E6Vm",
        "outputId": "46761a23-aab7-4c6b-a695-24abaa413b2f"
      },
      "outputs": [
        {
          "data": {
            "text/plain": [
              "453973694165307953197296969697410619233826"
            ]
          },
          "execution_count": 47,
          "metadata": {},
          "output_type": "execute_result"
        }
      ],
      "source": [
        "fib_m(200)"
      ]
    },
    {
      "cell_type": "code",
      "execution_count": 20,
      "metadata": {
        "colab": {
          "base_uri": "https://localhost:8080/"
        },
        "id": "jd8vClkwLa3r",
        "outputId": "09d78763-a31f-4a93-88f7-f85609da0e12"
      },
      "outputs": [
        {
          "data": {
            "text/plain": [
              "3000"
            ]
          },
          "execution_count": 20,
          "metadata": {},
          "output_type": "execute_result"
        }
      ],
      "source": [
        "import sys\n",
        "sys.getrecursionlimit()"
      ]
    },
    {
      "cell_type": "code",
      "execution_count": 52,
      "metadata": {
        "colab": {
          "base_uri": "https://localhost:8080/"
        },
        "id": "fQw7FaH0E6Vn",
        "outputId": "d08dc5dc-9ced-4db3-8690-87c4a2b17b74"
      },
      "outputs": [
        {
          "data": {
            "text/plain": [
              "178684461669052552311410692812805706249615844217278044703496837914086683543763273909969771627106004287604844670397177991379601"
            ]
          },
          "execution_count": 52,
          "metadata": {},
          "output_type": "execute_result"
        }
      ],
      "source": [
        "fib_m(600) # on Google Colab stack size is limited to 1k by defaulb"
      ]
    },
    {
      "cell_type": "code",
      "execution_count": 3,
      "metadata": {
        "id": "9k29aWklKCJb"
      },
      "outputs": [],
      "source": [
        "import sys\n",
        "sys.setrecursionlimit(100_000)"
      ]
    },
    {
      "cell_type": "code",
      "execution_count": 4,
      "metadata": {},
      "outputs": [
        {
          "data": {
            "text/plain": [
              "100000"
            ]
          },
          "execution_count": 4,
          "metadata": {},
          "output_type": "execute_result"
        }
      ],
      "source": [
        "# check recursion limit\n",
        "sys.getrecursionlimit()"
      ]
    },
    {
      "cell_type": "code",
      "execution_count": null,
      "metadata": {
        "colab": {
          "base_uri": "https://localhost:8080/"
        },
        "id": "7Phhhrn6E6Vn",
        "outputId": "edf18c47-4351-4f7d-d0bc-151794a68cd2"
      },
      "outputs": [
        {
          "data": {
            "text/plain": [
              "6835702259575806647045396549170580107055408029365524565407553367798082454408054014954534318953113802726603726769523447478238192192714526677939943338306101405105414819705664090901813637296453767095528104868264704914433529355579148731044685634135487735897954629842516947101494253575869699893400976539545740214819819151952085089538422954565146720383752121972115725761141759114990448978941370030912401573418221496592822626"
            ]
          },
          "execution_count": 29,
          "metadata": {},
          "output_type": "execute_result"
        }
      ],
      "source": [
        "fib_m(2000) \n",
        "# sadly memoization will not solved stack overflow problem"
      ]
    },
    {
      "cell_type": "code",
      "execution_count": null,
      "metadata": {
        "colab": {
          "base_uri": "https://localhost:8080/"
        },
        "id": "1sudl6SYE6Vn",
        "outputId": "a1f80e88-157d-4e51-e34e-30592dacee9f"
      },
      "outputs": [
        {
          "data": {
            "text/plain": [
              "6276302800488957086035253108349684055478528702736457439025824448927937256811663264475883711527806250329984690249846819800648580083040107584710332687596562185073640422286799239932615797105974710857095487342820351307477141875012176874307156016229965832589137779724973854362777629878229505500260477136108363709090010421536915488632339240756987974122598603591920306874926755600361865354330444681915154695741851960071089944015319300128574107662757054790648152751366475529121877212785489665101733755898580317984402963873738187000120737824193162011399200547424034440836239726275765901190914513013217132050988064832024783370583789324109052449717186857327239783000020791777804503930439875068662687670678802914269784817022567088069496231111407908953313902398529655056082228598715882365779469902465675715699187225655878240668599547496218159297881601061923195562143932693324644219266564617042934227893371179832389642895285401263875342640468017378925921483580111278055044254198382265567395946431803304304326865077742925818757370691726168228648841319231470626"
            ]
          },
          "execution_count": 30,
          "metadata": {},
          "output_type": "execute_result"
        }
      ],
      "source": [
        "fib_m(5000) \n",
        "# sadly memoization will not help us with stack overflow , a good way to force kernel restart :)"
      ]
    },
    {
      "cell_type": "code",
      "execution_count": 21,
      "metadata": {
        "id": "Gg81YxScE6Vn"
      },
      "outputs": [],
      "source": [
        "import functools\n",
        "# https://stackoverflow.com/questions/1988804/what-is-memoization-and-how-can-i-use-it-in-python\n",
        "@functools.lru_cache(maxsize=None) #by default only 128 latest so by setting it to None I cache everything - this is a decorator\n",
        "def fib(num):\n",
        "    if num < 2:\n",
        "        return num\n",
        "    else:\n",
        "        return fib(num-1) + fib(num-2)\n",
        "# in 3.9 Python there is a newer @functools.cache - similar idea"
      ]
    },
    {
      "cell_type": "code",
      "execution_count": 22,
      "metadata": {
        "colab": {
          "base_uri": "https://localhost:8080/"
        },
        "id": "Zmfn99TsE6Vn",
        "outputId": "b9dcf4fe-4223-4f54-ac75-7276a1556576"
      },
      "outputs": [
        {
          "data": {
            "text/plain": [
              "9227465"
            ]
          },
          "execution_count": 22,
          "metadata": {},
          "output_type": "execute_result"
        }
      ],
      "source": [
        "fib(35)"
      ]
    },
    {
      "cell_type": "code",
      "execution_count": 23,
      "metadata": {
        "colab": {
          "base_uri": "https://localhost:8080/"
        },
        "id": "CJM44ffOE6Vn",
        "outputId": "4fc5c0fb-1242-45f4-a389-cfbd5d0987ed"
      },
      "outputs": [
        {
          "name": "stdout",
          "output_type": "stream",
          "text": [
            "81.6 ns ± 6.08 ns per loop (mean ± std. dev. of 7 runs, 10,000,000 loops each)\n"
          ]
        }
      ],
      "source": [
        "%%timeit\n",
        "fib(35)"
      ]
    },
    {
      "cell_type": "code",
      "execution_count": 24,
      "metadata": {
        "colab": {
          "base_uri": "https://localhost:8080/"
        },
        "id": "HrrY4tyTL-EA",
        "outputId": "7794d189-7ba7-4f43-c0ea-f5f61aff7044"
      },
      "outputs": [
        {
          "name": "stdout",
          "output_type": "stream",
          "text": [
            "82.7 ns ± 2.6 ns per loop (mean ± std. dev. of 7 runs, 10,000,000 loops each)\n"
          ]
        }
      ],
      "source": [
        "%%timeit\n",
        "fib(45)"
      ]
    },
    {
      "cell_type": "code",
      "execution_count": 42,
      "metadata": {
        "colab": {
          "base_uri": "https://localhost:8080/"
        },
        "id": "YNQQZQrdKl7c",
        "outputId": "ec6af4b7-02f3-4a2f-ad5d-1f968a74bf34"
      },
      "outputs": [
        {
          "name": "stdout",
          "output_type": "stream",
          "text": [
            "67.4 ns ± 4.46 ns per loop (mean ± std. dev. of 7 runs, 10,000,000 loops each)\n"
          ]
        }
      ],
      "source": [
        "%%timeit\n",
        "fib(100)"
      ]
    },
    {
      "cell_type": "code",
      "execution_count": 25,
      "metadata": {},
      "outputs": [
        {
          "data": {
            "text/plain": [
              "54877108839480000051413673948383714443800519309123592724494953427039811201064341234954387521525390615504949092187441218246679104731442473022013980160407007017175697317900483275246652938800"
            ]
          },
          "execution_count": 25,
          "metadata": {},
          "output_type": "execute_result"
        }
      ],
      "source": [
        "fib(900)"
      ]
    },
    {
      "cell_type": "code",
      "execution_count": 26,
      "metadata": {},
      "outputs": [
        {
          "data": {
            "text/plain": [
              "43466557686937456435688527675040625802564660517371780402481729089536555417949051890403879840079255169295922593080322634775209689623239873322471161642996440906533187938298969649928516003704476137795166849228875"
            ]
          },
          "execution_count": 26,
          "metadata": {},
          "output_type": "execute_result"
        }
      ],
      "source": [
        "fib(1_000)"
      ]
    },
    {
      "cell_type": "code",
      "execution_count": 27,
      "metadata": {},
      "outputs": [
        {
          "name": "stdout",
          "output_type": "stream",
          "text": [
            "94.2 ns ± 2.44 ns per loop (mean ± std. dev. of 7 runs, 10,000,000 loops each)\n"
          ]
        }
      ],
      "source": [
        "%%timeit\n",
        "fib(1_000)"
      ]
    },
    {
      "cell_type": "code",
      "execution_count": null,
      "metadata": {
        "colab": {
          "base_uri": "https://localhost:8080/"
        },
        "id": "3BBdXcLtKtJl",
        "outputId": "706b011e-b515-4c86-8ecd-d892700eea29"
      },
      "outputs": [
        {
          "name": "stdout",
          "output_type": "stream",
          "text": [
            "The slowest run took 44.83 times longer than the fastest. This could mean that an intermediate result is being cached.\n",
            "1000000 loops, best of 5: 247 ns per loop\n"
          ]
        }
      ],
      "source": [
        "%%timeit\n",
        "fib_m(100)  # so my memoization solution is about 2.5x slower than library solution but both are extremely fast"
      ]
    },
    {
      "cell_type": "code",
      "execution_count": null,
      "metadata": {
        "id": "hXzXT0LJE6Vo"
      },
      "outputs": [],
      "source": [
        "# so official caching version is 3 times faster than our self-made version, factor of 3 is not a dealbreak but nice to know"
      ]
    },
    {
      "cell_type": "code",
      "execution_count": null,
      "metadata": {
        "id": "3F-YesuFE6Vo",
        "outputId": "c6c7f4d8-fae2-465b-fbd2-3cb2fc4a2020"
      },
      "outputs": [
        {
          "data": {
            "text/plain": [
              "102334155"
            ]
          },
          "execution_count": 4,
          "metadata": {},
          "output_type": "execute_result"
        }
      ],
      "source": [
        "fib(40)"
      ]
    },
    {
      "cell_type": "code",
      "execution_count": null,
      "metadata": {
        "id": "AfiykkfqE6Vo",
        "outputId": "3817bde4-67de-4f6c-9810-4788eff86724"
      },
      "outputs": [
        {
          "data": {
            "text/plain": [
              "354224848179261915075"
            ]
          },
          "execution_count": 5,
          "metadata": {},
          "output_type": "execute_result"
        }
      ],
      "source": [
        "fib(100)"
      ]
    },
    {
      "cell_type": "code",
      "execution_count": 42,
      "metadata": {
        "id": "tboJ30OtE6Vo",
        "outputId": "697811b5-6cdd-4265-d363-f07fa205a616"
      },
      "outputs": [
        {
          "data": {
            "text/plain": [
              "280571172992510140037611932413038677189525"
            ]
          },
          "execution_count": 42,
          "metadata": {},
          "output_type": "execute_result"
        }
      ],
      "source": [
        "fib(200)"
      ]
    },
    {
      "cell_type": "code",
      "execution_count": 41,
      "metadata": {
        "id": "LYc5pkzmE6Vo",
        "outputId": "04aa6695-6641-4b73-fb7d-16dc131992fc"
      },
      "outputs": [
        {
          "data": {
            "text/plain": [
              "27269884455406270157991615313642198705000779992917725821180502894974726476373026809482509284562310031170172380127627214493597616743856443016039972205847405917634660750474914561879656763268658528092195715626073248224067794253809132219056382939163918400"
            ]
          },
          "execution_count": 41,
          "metadata": {},
          "output_type": "execute_result"
        }
      ],
      "source": [
        "fib(1200)"
      ]
    },
    {
      "cell_type": "code",
      "execution_count": null,
      "metadata": {
        "id": "qQfhLNVJE6Vp",
        "outputId": "f1ef2e18-ac77-45c2-8c66-3d807c186b8b"
      },
      "outputs": [
        {
          "data": {
            "text/plain": [
              "410615886307971260333568378719267105220125108637369252408885430926905584274113403731330491660850044560830036835706942274588569362145476502674373045446852160486606292497360503469773453733196887405847255290082049086907512622059054542195889758031109222670849274793859539133318371244795543147611073276240066737934085191731810993201706776838934766764778739502174470268627820918553842225858306408301661862900358266857238210235802504351951472997919676524004784236376453347268364152648346245840573214241419937917242918602639810097866942392015404620153818671425739835074851396421139982713640679581178458198658692285968043243656709796000"
            ]
          },
          "execution_count": 9,
          "metadata": {},
          "output_type": "execute_result"
        }
      ],
      "source": [
        "fib(3000)"
      ]
    },
    {
      "cell_type": "code",
      "execution_count": null,
      "metadata": {
        "id": "40lNbsHjE6Vp"
      },
      "outputs": [],
      "source": [
        "# so the problem with TOP-DOWN memoization is that we are still left with recursive calls going over our stack limit"
      ]
    },
    {
      "cell_type": "markdown",
      "metadata": {
        "id": "OuoqwIHxE6Vp"
      },
      "source": [
        "## So how to solve the stack overflow problem?"
      ]
    },
    {
      "cell_type": "code",
      "execution_count": null,
      "metadata": {
        "id": "0BUK19eXE6Vp"
      },
      "outputs": [],
      "source": [
        "# we could try the build up solution - meaning BOTTOM-UP method\n",
        "# this will usually be an iterative(looping) solution so no worries about stack\n"
      ]
    },
    {
      "cell_type": "markdown",
      "metadata": {
        "id": "9PvgaddjMxK8"
      },
      "source": [
        "# Iterative version of Fibonacci with full table"
      ]
    },
    {
      "cell_type": "code",
      "execution_count": 28,
      "metadata": {
        "id": "BsDQLkWTE6Vp"
      },
      "outputs": [],
      "source": [
        "# silly iterative version\n",
        "# useful if you want to return ALL fibs\n",
        "def fib_it(n): # so n will be 0 based\n",
        "    fibs = [1,1] #so we are going to build our answers\n",
        "    # lets pretend we do not know of any formulas and optimizations\n",
        "#     n += 1 # fix this\n",
        "    if n < 2:\n",
        "        return fibs[n] # off by one errors\n",
        "    ndx = 2\n",
        "    while ndx <= n:\n",
        "        fibs.append(fibs[ndx-1]+fibs[ndx-2]) # so I am building a 1-d table(array/list) of answers\n",
        "        # so appending to list incurs some cost as well\n",
        "        # in fib we could have of course just stored 2 previous values instead of all\n",
        "        ndx+=1\n",
        "    return fibs[n] # again off by one indexing 0 based in python and 1 based in our function\n"
      ]
    },
    {
      "cell_type": "code",
      "execution_count": 29,
      "metadata": {
        "colab": {
          "base_uri": "https://localhost:8080/"
        },
        "id": "Fum7eojEE6Vp",
        "outputId": "53781485-bd0f-4c3b-83cb-e311f9d8bbb8"
      },
      "outputs": [
        {
          "data": {
            "text/plain": [
              "2"
            ]
          },
          "execution_count": 29,
          "metadata": {},
          "output_type": "execute_result"
        }
      ],
      "source": [
        "fib_it(2)"
      ]
    },
    {
      "cell_type": "code",
      "execution_count": 30,
      "metadata": {
        "colab": {
          "base_uri": "https://localhost:8080/"
        },
        "id": "3rgA_z7oQBWU",
        "outputId": "a0062cad-7a8f-4e10-dedf-8f2e78a7e508"
      },
      "outputs": [
        {
          "data": {
            "text/plain": [
              "5"
            ]
          },
          "execution_count": 30,
          "metadata": {},
          "output_type": "execute_result"
        }
      ],
      "source": [
        "fib_it(4)"
      ]
    },
    {
      "cell_type": "code",
      "execution_count": 31,
      "metadata": {
        "colab": {
          "base_uri": "https://localhost:8080/"
        },
        "id": "88xImqKVQFWC",
        "outputId": "fe76af74-f241-4300-b1e9-14350c78163e"
      },
      "outputs": [
        {
          "data": {
            "text/plain": [
              "573147844013817084101"
            ]
          },
          "execution_count": 31,
          "metadata": {},
          "output_type": "execute_result"
        }
      ],
      "source": [
        "fib_it(100)"
      ]
    },
    {
      "cell_type": "code",
      "execution_count": 36,
      "metadata": {},
      "outputs": [
        {
          "data": {
            "text/plain": [
              "(0, 1, 1, 2)"
            ]
          },
          "execution_count": 36,
          "metadata": {},
          "output_type": "execute_result"
        }
      ],
      "source": [
        "fib(0),fib(1),fib(2),fib(3)"
      ]
    },
    {
      "cell_type": "code",
      "execution_count": 33,
      "metadata": {},
      "outputs": [
        {
          "data": {
            "text/plain": [
              "1"
            ]
          },
          "execution_count": 33,
          "metadata": {},
          "output_type": "execute_result"
        }
      ],
      "source": [
        "fib_it(0)"
      ]
    },
    {
      "cell_type": "code",
      "execution_count": 32,
      "metadata": {},
      "outputs": [
        {
          "data": {
            "text/plain": [
              "43466557686937456435688527675040625802564660517371780402481729089536555417949051890403879840079255169295922593080322634775209689623239873322471161642996440906533187938298969649928516003704476137795166849228875"
            ]
          },
          "execution_count": 32,
          "metadata": {},
          "output_type": "execute_result"
        }
      ],
      "source": [
        "fib_it(999)"
      ]
    },
    {
      "cell_type": "code",
      "execution_count": 37,
      "metadata": {},
      "outputs": [
        {
          "name": "stdout",
          "output_type": "stream",
          "text": [
            "98.9 ns ± 2.46 ns per loop (mean ± std. dev. of 7 runs, 10,000,000 loops each)\n"
          ]
        }
      ],
      "source": [
        "%%timeit\n",
        "fib(999)"
      ]
    },
    {
      "cell_type": "code",
      "execution_count": 38,
      "metadata": {},
      "outputs": [
        {
          "name": "stdout",
          "output_type": "stream",
          "text": [
            "186 µs ± 21.6 µs per loop (mean ± std. dev. of 7 runs, 1,000 loops each)\n"
          ]
        }
      ],
      "source": [
        "%%timeit\n",
        "fib_it(999)"
      ]
    },
    {
      "cell_type": "code",
      "execution_count": 48,
      "metadata": {
        "colab": {
          "base_uri": "https://localhost:8080/"
        },
        "id": "xiTazbxwQIlq",
        "outputId": "008642dc-530b-4988-f3d0-c208867c3fb3"
      },
      "outputs": [
        {
          "name": "stdout",
          "output_type": "stream",
          "text": [
            "8.08 µs ± 488 ns per loop (mean ± std. dev. of 7 runs, 100,000 loops each)\n"
          ]
        }
      ],
      "source": [
        "%%timeit\n",
        "fib_it(35)\n",
        "# turns out this solution will be slower than memoized recursive solution\n",
        "# why because we spend time setting up a list and appending items"
      ]
    },
    {
      "cell_type": "code",
      "execution_count": 50,
      "metadata": {
        "colab": {
          "base_uri": "https://localhost:8080/"
        },
        "id": "VBTw3NOQMgPE",
        "outputId": "7e4d06a2-a2c7-4c18-d156-336717a94a7f"
      },
      "outputs": [
        {
          "name": "stdout",
          "output_type": "stream",
          "text": [
            "21.5 µs ± 3.44 µs per loop (mean ± std. dev. of 7 runs, 10,000 loops each)\n"
          ]
        }
      ],
      "source": [
        "%%timeit\n",
        "fib_it(100)"
      ]
    },
    {
      "cell_type": "code",
      "execution_count": 39,
      "metadata": {},
      "outputs": [
        {
          "name": "stdout",
          "output_type": "stream",
          "text": [
            "5.86 ms ± 294 µs per loop (mean ± std. dev. of 7 runs, 100 loops each)\n"
          ]
        }
      ],
      "source": [
        "%%timeit\n",
        "fib_it(10_000)"
      ]
    },
    {
      "cell_type": "code",
      "execution_count": 41,
      "metadata": {},
      "outputs": [
        {
          "data": {
            "text/plain": [
              "2090"
            ]
          },
          "execution_count": 41,
          "metadata": {},
          "output_type": "execute_result"
        }
      ],
      "source": [
        "len(str(fib_it(10_000)))"
      ]
    },
    {
      "cell_type": "code",
      "execution_count": 64,
      "metadata": {
        "colab": {
          "base_uri": "https://localhost:8080/"
        },
        "id": "yLV1O-c4E6Vp",
        "outputId": "76707384-6258-42c6-c4ea-0b8daaa6824f"
      },
      "outputs": [
        {
          "name": "stdout",
          "output_type": "stream",
          "text": [
            "1\n",
            "1\n",
            "2\n",
            "3\n",
            "5\n",
            "8\n",
            "13\n",
            "21\n",
            "34\n",
            "55\n",
            "89\n"
          ]
        }
      ],
      "source": [
        "for n in range(0,10+1):\n",
        "    print(fib_it(n))"
      ]
    },
    {
      "cell_type": "code",
      "execution_count": null,
      "metadata": {
        "id": "DQMtfDnoE6Vq",
        "outputId": "7d5fb1a1-f002-4ccd-c495-90fd29721630"
      },
      "outputs": [
        {
          "data": {
            "text/plain": [
              "(8, 13)"
            ]
          },
          "execution_count": 22,
          "metadata": {},
          "output_type": "execute_result"
        }
      ],
      "source": [
        "fib_it(5),fib_it(6)"
      ]
    },
    {
      "cell_type": "code",
      "execution_count": null,
      "metadata": {
        "id": "OJAMTwK8E6Vq",
        "outputId": "b42d272f-1cf8-408a-e6b3-b7895c956363"
      },
      "outputs": [
        {
          "data": {
            "text/plain": [
              "(14930352, 24157817)"
            ]
          },
          "execution_count": 23,
          "metadata": {},
          "output_type": "execute_result"
        }
      ],
      "source": [
        "fib_it(35),fib_it(36)"
      ]
    },
    {
      "cell_type": "code",
      "execution_count": null,
      "metadata": {
        "id": "Y-kzVM2qE6Vq",
        "outputId": "4b719e83-713c-4957-bed9-50d3def95179"
      },
      "outputs": [
        {
          "name": "stdout",
          "output_type": "stream",
          "text": [
            "15.1 µs ± 160 ns per loop (mean ± std. dev. of 7 runs, 100000 loops each)\n"
          ]
        }
      ],
      "source": [
        "%%timeit\n",
        "fib_it(35)"
      ]
    },
    {
      "cell_type": "code",
      "execution_count": null,
      "metadata": {
        "id": "y4wSQvsZE6Vq"
      },
      "outputs": [],
      "source": [
        "# so one way we could improve is that we do not need to store all this knowledge about previous solutions, \n",
        "# (unless we were building a table of ALL solutions)"
      ]
    },
    {
      "cell_type": "code",
      "execution_count": 42,
      "metadata": {
        "id": "okMgP0wXE6Vq"
      },
      "outputs": [],
      "source": [
        "# so we only need to store 2 values, but this would be improving constant and solving our space complexity\n",
        "# instead of needing O(n) to store our fib(n), we just need O(1) - since we are onl storing two values\n",
        "def fib_v2(n):\n",
        "    prev, cur = 1, 1 # so we save memory by not storing all previous values\n",
        "    if n <= 1:\n",
        "        return prev\n",
        "    ndx = 2\n",
        "    while ndx <= n:\n",
        "        prev, cur = cur, prev+cur # python makes it easy to assign 2 values at once with tuple unpacking, right side eval first\n",
        "        # if your language does not support it you can simply use a third temp variable \n",
        "        ndx += 1\n",
        "    return cur"
      ]
    },
    {
      "cell_type": "code",
      "execution_count": 43,
      "metadata": {
        "colab": {
          "base_uri": "https://localhost:8080/"
        },
        "id": "evs_wBulE6Vq",
        "outputId": "457e5f7f-2ca8-4d6f-f8ae-d26b8ef43fe1"
      },
      "outputs": [
        {
          "data": {
            "text/plain": [
              "(8, 13)"
            ]
          },
          "execution_count": 43,
          "metadata": {},
          "output_type": "execute_result"
        }
      ],
      "source": [
        "fib_v2(5),fib_v2(6)"
      ]
    },
    {
      "cell_type": "code",
      "execution_count": 44,
      "metadata": {
        "colab": {
          "base_uri": "https://localhost:8080/"
        },
        "id": "_9IRI-X6E6Vr",
        "outputId": "61480315-7448-4fd4-aebb-6105234fdd46"
      },
      "outputs": [
        {
          "data": {
            "text/plain": [
              "43466557686937456435688527675040625802564660517371780402481729089536555417949051890403879840079255169295922593080322634775209689623239873322471161642996440906533187938298969649928516003704476137795166849228875"
            ]
          },
          "execution_count": 44,
          "metadata": {},
          "output_type": "execute_result"
        }
      ],
      "source": [
        "fib_v2(999)"
      ]
    },
    {
      "cell_type": "code",
      "execution_count": 45,
      "metadata": {
        "colab": {
          "base_uri": "https://localhost:8080/"
        },
        "id": "iGStUFCtE6Vr",
        "outputId": "7e5e3fc3-b562-45bd-f02a-173b9b7cdef1"
      },
      "outputs": [
        {
          "name": "stdout",
          "output_type": "stream",
          "text": [
            "83.2 µs ± 2.53 µs per loop (mean ± std. dev. of 7 runs, 10,000 loops each)\n"
          ]
        }
      ],
      "source": [
        "%%timeit\n",
        "fib_v2(999)"
      ]
    },
    {
      "cell_type": "code",
      "execution_count": 56,
      "metadata": {
        "colab": {
          "base_uri": "https://localhost:8080/"
        },
        "id": "NohzfwxmRbV4",
        "outputId": "1b15d7ba-b3eb-471f-fde3-b2bfcf584967"
      },
      "outputs": [
        {
          "name": "stdout",
          "output_type": "stream",
          "text": [
            "8.47 µs ± 683 ns per loop (mean ± std. dev. of 7 runs, 100,000 loops each)\n"
          ]
        }
      ],
      "source": [
        "%%timeit\n",
        "fib_v2(100)"
      ]
    },
    {
      "cell_type": "code",
      "execution_count": 57,
      "metadata": {},
      "outputs": [
        {
          "name": "stdout",
          "output_type": "stream",
          "text": [
            "3.35 ms ± 614 µs per loop (mean ± std. dev. of 7 runs, 100 loops each)\n"
          ]
        }
      ],
      "source": [
        "%%timeit\n",
        "fib_v2(10_000)"
      ]
    },
    {
      "cell_type": "code",
      "execution_count": 59,
      "metadata": {},
      "outputs": [
        {
          "data": {
            "text/plain": [
              "2090"
            ]
          },
          "execution_count": 59,
          "metadata": {},
          "output_type": "execute_result"
        }
      ],
      "source": [
        "len(str(fib_v2(10_000)))"
      ]
    },
    {
      "cell_type": "markdown",
      "metadata": {
        "id": "CMdl2byYE6Vr"
      },
      "source": [
        "# Pascal's triangle\n",
        "![Triangle](https://upload.wikimedia.org/wikipedia/commons/0/0d/PascalTriangleAnimated2.gif)"
      ]
    },
    {
      "cell_type": "markdown",
      "metadata": {
        "id": "2AR6ExgbE6Vr"
      },
      "source": [
        "The combinatorial\n",
        "meaning of C(n,k) is the number of k-sized subsets you can get from a set of size n."
      ]
    },
    {
      "cell_type": "markdown",
      "metadata": {
        "id": "90UKr7_hE6Vr"
      },
      "source": [
        "In mathematics, a combination is a selection of items from a collection, such that the order of selection does not matter (unlike permutations). https://en.wikipedia.org/wiki/Combination"
      ]
    },
    {
      "cell_type": "code",
      "execution_count": 47,
      "metadata": {
        "id": "KqlWiaj2E6Vr"
      },
      "outputs": [],
      "source": [
        "# this is horrible again we have 2 recursive calls for each call\n",
        "def C(n,k):\n",
        "    # first base case\n",
        "    if k == 0: return 1 # means we have chosen all k items\n",
        "    if n == 0: return 0 # means we have no items to choose from\n",
        "    return C(n-1,k-1) + C(n-1,k)"
      ]
    },
    {
      "cell_type": "code",
      "execution_count": 48,
      "metadata": {
        "colab": {
          "base_uri": "https://localhost:8080/"
        },
        "id": "6fTEMT6yQcA3",
        "outputId": "9d33356f-3166-4741-ff9e-89a34d870ced"
      },
      "outputs": [
        {
          "data": {
            "text/plain": [
              "(1, 2, 1)"
            ]
          },
          "execution_count": 48,
          "metadata": {},
          "output_type": "execute_result"
        }
      ],
      "source": [
        "C(2,0),C(2,1),C(2,2)"
      ]
    },
    {
      "cell_type": "code",
      "execution_count": 49,
      "metadata": {
        "colab": {
          "base_uri": "https://localhost:8080/"
        },
        "id": "4K2Y7E6nE6Vr",
        "outputId": "7d880dd7-f041-4efb-eb72-5b302ee449ea"
      },
      "outputs": [
        {
          "data": {
            "text/plain": [
              "(1, 3, 3, 1)"
            ]
          },
          "execution_count": 49,
          "metadata": {},
          "output_type": "execute_result"
        }
      ],
      "source": [
        "C(3,0),C(3,1),C(3,2),C(3,3)"
      ]
    },
    {
      "cell_type": "code",
      "execution_count": 50,
      "metadata": {
        "colab": {
          "base_uri": "https://localhost:8080/"
        },
        "id": "kHYtq81HE6Vs",
        "outputId": "9a64a7eb-9246-48af-9c37-1bc9eeded19f"
      },
      "outputs": [
        {
          "data": {
            "text/plain": [
              "(1, 4, 6, 4, 1)"
            ]
          },
          "execution_count": 50,
          "metadata": {},
          "output_type": "execute_result"
        }
      ],
      "source": [
        "C(4,0),C(4,1),C(4,2),C(4,3),C(4,4)"
      ]
    },
    {
      "cell_type": "code",
      "execution_count": 51,
      "metadata": {
        "colab": {
          "base_uri": "https://localhost:8080/"
        },
        "id": "7SQQ4kfGE6Vs",
        "outputId": "d03bc662-84cd-4dfc-b3ac-5ab7c1363c63"
      },
      "outputs": [
        {
          "name": "stdout",
          "output_type": "stream",
          "text": [
            "1 5 10 10 5 1 \n"
          ]
        }
      ],
      "source": [
        "for k in range(6):\n",
        "    print(C(5,k), end=\" \")\n",
        "print()"
      ]
    },
    {
      "cell_type": "code",
      "execution_count": 52,
      "metadata": {
        "colab": {
          "base_uri": "https://localhost:8080/"
        },
        "id": "NF2yHuv-E6Vs",
        "outputId": "f5956a27-4038-4c0f-baad-e3af70724f85"
      },
      "outputs": [
        {
          "data": {
            "text/plain": [
              "125970"
            ]
          },
          "execution_count": 52,
          "metadata": {},
          "output_type": "execute_result"
        }
      ],
      "source": [
        "C(20,12) # so choosing 12 items from 20"
      ]
    },
    {
      "cell_type": "code",
      "execution_count": 53,
      "metadata": {
        "colab": {
          "base_uri": "https://localhost:8080/"
        },
        "id": "2rVq_bG5Q3cL",
        "outputId": "35f76c87-099f-4295-89aa-7b01a8d87ec1"
      },
      "outputs": [
        {
          "name": "stdout",
          "output_type": "stream",
          "text": [
            "187 ms ± 6.56 ms per loop (mean ± std. dev. of 7 runs, 10 loops each)\n"
          ]
        }
      ],
      "source": [
        "%%timeit\n",
        "C(20,12)"
      ]
    },
    {
      "cell_type": "code",
      "execution_count": 54,
      "metadata": {
        "id": "2TZ1CrVjE6Vs"
      },
      "outputs": [],
      "source": [
        "import functools"
      ]
    },
    {
      "cell_type": "code",
      "execution_count": 55,
      "metadata": {
        "id": "m0dYahENE6Vs"
      },
      "outputs": [],
      "source": [
        "@functools.lru_cache(maxsize=None)\n",
        "def C_mem(n,k):\n",
        "    if k == 0: return 1\n",
        "    if n == 0: return 0\n",
        "    return C_mem(n-1,k-1) + C_mem(n-1,k)"
      ]
    },
    {
      "cell_type": "code",
      "execution_count": 56,
      "metadata": {
        "colab": {
          "base_uri": "https://localhost:8080/"
        },
        "id": "Ep7vHpLUE6Vs",
        "outputId": "db5a8d11-3734-4905-d203-de3bdca8edbf"
      },
      "outputs": [
        {
          "data": {
            "text/plain": [
              "125970"
            ]
          },
          "execution_count": 56,
          "metadata": {},
          "output_type": "execute_result"
        }
      ],
      "source": [
        "C_mem(20,12)"
      ]
    },
    {
      "cell_type": "code",
      "execution_count": 57,
      "metadata": {
        "colab": {
          "base_uri": "https://localhost:8080/"
        },
        "id": "mX7jfFTFE6Vt",
        "outputId": "f1e9fb51-5b5c-467b-f77e-8d8f497fdeee"
      },
      "outputs": [
        {
          "name": "stdout",
          "output_type": "stream",
          "text": [
            "121 ns ± 6.94 ns per loop (mean ± std. dev. of 7 runs, 10,000,000 loops each)\n"
          ]
        }
      ],
      "source": [
        "%%timeit\n",
        "C_mem(20,12)"
      ]
    },
    {
      "cell_type": "code",
      "execution_count": 58,
      "metadata": {
        "colab": {
          "base_uri": "https://localhost:8080/"
        },
        "id": "HJ6EIoemS40Q",
        "outputId": "f34423d8-e252-4219-de16-f42db5ec08bf"
      },
      "outputs": [
        {
          "name": "stdout",
          "output_type": "stream",
          "text": [
            "116 ns ± 3.49 ns per loop (mean ± std. dev. of 7 runs, 10,000,000 loops each)\n"
          ]
        }
      ],
      "source": [
        "%%timeit\n",
        "C_mem(25,15)"
      ]
    },
    {
      "cell_type": "code",
      "execution_count": 84,
      "metadata": {
        "colab": {
          "base_uri": "https://localhost:8080/"
        },
        "id": "yiJTACtvTAaN",
        "outputId": "66d05ba6-1adb-47fe-aaad-71c3bcef74c6"
      },
      "outputs": [
        {
          "name": "stdout",
          "output_type": "stream",
          "text": [
            "1.56 s ± 8.06 ms per loop (mean ± std. dev. of 7 runs, 1 loop each)\n"
          ]
        }
      ],
      "source": [
        "%%timeit\n",
        "C(22,14)"
      ]
    },
    {
      "cell_type": "code",
      "execution_count": 38,
      "metadata": {
        "colab": {
          "base_uri": "https://localhost:8080/"
        },
        "id": "pvhuiNFKRjcG",
        "outputId": "bd99aaed-8f7a-4b50-856d-e297d204b112"
      },
      "outputs": [
        {
          "name": "stdout",
          "output_type": "stream",
          "text": [
            "Python 3.11.4\n"
          ]
        }
      ],
      "source": [
        "!python --version  # so have to wait for Google to upgrade Python to 3.9, but of course you can try at home on your own computer "
      ]
    },
    {
      "cell_type": "code",
      "execution_count": 59,
      "metadata": {},
      "outputs": [
        {
          "data": {
            "text/plain": [
              "47129212243960"
            ]
          },
          "execution_count": 59,
          "metadata": {},
          "output_type": "execute_result"
        }
      ],
      "source": [
        "C_mem(50,30)"
      ]
    },
    {
      "cell_type": "code",
      "execution_count": 60,
      "metadata": {},
      "outputs": [
        {
          "name": "stdout",
          "output_type": "stream",
          "text": [
            "131 ns ± 5.35 ns per loop (mean ± std. dev. of 7 runs, 10,000,000 loops each)\n"
          ]
        }
      ],
      "source": [
        "%%timeit\n",
        "C_mem(50,30)"
      ]
    },
    {
      "cell_type": "markdown",
      "metadata": {},
      "source": [
        "### lru_cache wrapper\n",
        "\n",
        "Newer versions of Python have a decorator that does the same thing as our memoize function. It’s called lru_cache\n",
        "There is even a maxsize parameter that allows you to limit the size of the cache. This is useful if you know that\n",
        "you’ll only need the last n results. The name stands for “least recently used,” and it means that if the cache is full"
      ]
    },
    {
      "cell_type": "code",
      "execution_count": 61,
      "metadata": {
        "colab": {
          "base_uri": "https://localhost:8080/"
        },
        "id": "9EodFSFvE6Vs",
        "outputId": "4ba4cf23-02fc-440c-b1c3-55ff7225be23"
      },
      "outputs": [
        {
          "data": {
            "text/plain": [
              "4426165368"
            ]
          },
          "execution_count": 61,
          "metadata": {},
          "output_type": "execute_result"
        }
      ],
      "source": [
        "C_mem(64,8) # so BRUTE FORCE for 8-queens problem would require checking this many"
      ]
    },
    {
      "cell_type": "code",
      "execution_count": 62,
      "metadata": {
        "colab": {
          "base_uri": "https://localhost:8080/"
        },
        "id": "OBn3uGHhE6Vt",
        "outputId": "37620e08-1978-420a-ce42-ba6eb7abb842"
      },
      "outputs": [
        {
          "data": {
            "text/plain": [
              "4294967296"
            ]
          },
          "execution_count": 62,
          "metadata": {},
          "output_type": "execute_result"
        }
      ],
      "source": [
        "2**32 # no relation to above number"
      ]
    },
    {
      "cell_type": "code",
      "execution_count": null,
      "metadata": {
        "id": "TuK0WFtVE6Vt",
        "outputId": "11e92bd7-d81c-41ee-dd37-e694eec41bd5"
      },
      "outputs": [
        {
          "name": "stdout",
          "output_type": "stream",
          "text": [
            "203 ns ± 30 ns per loop (mean ± std. dev. of 7 runs, 1000000 loops each)\n"
          ]
        }
      ],
      "source": [
        "%%timeit\n",
        "C_mem(20,12)"
      ]
    },
    {
      "cell_type": "markdown",
      "metadata": {
        "id": "txUq8Ik5E6Vt"
      },
      "source": [
        "So 3 Million times faster\n",
        "And it will only get worse with larger n and k values\n"
      ]
    },
    {
      "cell_type": "code",
      "execution_count": null,
      "metadata": {
        "colab": {
          "base_uri": "https://localhost:8080/"
        },
        "id": "fay8GdXTE6Vt",
        "outputId": "297df8e9-ef0c-4a1e-e40d-1b43c606e845"
      },
      "outputs": [
        {
          "data": {
            "text/plain": [
              "646646"
            ]
          },
          "execution_count": 61,
          "metadata": {},
          "output_type": "execute_result"
        }
      ],
      "source": [
        "C(22,10)  # keeps getting slower"
      ]
    },
    {
      "cell_type": "code",
      "execution_count": null,
      "metadata": {
        "colab": {
          "base_uri": "https://localhost:8080/"
        },
        "id": "rJWU5PHVE6Vt",
        "outputId": "e1260f11-bba9-4f96-9d8b-c91db7e49d24"
      },
      "outputs": [
        {
          "data": {
            "text/plain": [
              "5852925"
            ]
          },
          "execution_count": 62,
          "metadata": {},
          "output_type": "execute_result"
        }
      ],
      "source": [
        "C_mem(30,22)"
      ]
    },
    {
      "cell_type": "code",
      "execution_count": 73,
      "metadata": {
        "colab": {
          "base_uri": "https://localhost:8080/"
        },
        "id": "as9IJvoRE6Vt",
        "outputId": "9df72185-c621-4af9-d89f-8e68b11301ab"
      },
      "outputs": [
        {
          "data": {
            "text/plain": [
              "46437038934385738875060685074580974915827322393712987687159475139635977046776280972687848152763132582010929859049061968000"
            ]
          },
          "execution_count": 73,
          "metadata": {},
          "output_type": "execute_result"
        }
      ],
      "source": [
        "C_mem(500,127)"
      ]
    },
    {
      "cell_type": "code",
      "execution_count": 74,
      "metadata": {
        "colab": {
          "base_uri": "https://localhost:8080/"
        },
        "id": "ymxWm6qAE6Vt",
        "outputId": "fd90aef9-3a25-4930-c9f3-8e107a97146a"
      },
      "outputs": [
        {
          "ename": "RecursionError",
          "evalue": "maximum recursion depth exceeded",
          "output_type": "error",
          "traceback": [
            "\u001b[1;31m---------------------------------------------------------------------------\u001b[0m",
            "\u001b[1;31mRecursionError\u001b[0m                            Traceback (most recent call last)",
            "Input \u001b[1;32mIn [74]\u001b[0m, in \u001b[0;36m<cell line: 1>\u001b[1;34m()\u001b[0m\n\u001b[1;32m----> 1\u001b[0m \u001b[43mC_mem\u001b[49m\u001b[43m(\u001b[49m\u001b[38;5;241;43m2000\u001b[39;49m\u001b[43m,\u001b[49m\u001b[38;5;241;43m1555\u001b[39;49m\u001b[43m)\u001b[49m\n",
            "Input \u001b[1;32mIn [67]\u001b[0m, in \u001b[0;36mC_mem\u001b[1;34m(n, k)\u001b[0m\n\u001b[0;32m      3\u001b[0m \u001b[38;5;28;01mif\u001b[39;00m k \u001b[38;5;241m==\u001b[39m \u001b[38;5;241m0\u001b[39m: \u001b[38;5;28;01mreturn\u001b[39;00m \u001b[38;5;241m1\u001b[39m\n\u001b[0;32m      4\u001b[0m \u001b[38;5;28;01mif\u001b[39;00m n \u001b[38;5;241m==\u001b[39m \u001b[38;5;241m0\u001b[39m: \u001b[38;5;28;01mreturn\u001b[39;00m \u001b[38;5;241m0\u001b[39m\n\u001b[1;32m----> 5\u001b[0m \u001b[38;5;28;01mreturn\u001b[39;00m \u001b[43mC_mem\u001b[49m\u001b[43m(\u001b[49m\u001b[43mn\u001b[49m\u001b[38;5;241;43m-\u001b[39;49m\u001b[38;5;241;43m1\u001b[39;49m\u001b[43m,\u001b[49m\u001b[43mk\u001b[49m\u001b[38;5;241;43m-\u001b[39;49m\u001b[38;5;241;43m1\u001b[39;49m\u001b[43m)\u001b[49m \u001b[38;5;241m+\u001b[39m C_mem(n\u001b[38;5;241m-\u001b[39m\u001b[38;5;241m1\u001b[39m,k)\n",
            "Input \u001b[1;32mIn [67]\u001b[0m, in \u001b[0;36mC_mem\u001b[1;34m(n, k)\u001b[0m\n\u001b[0;32m      3\u001b[0m \u001b[38;5;28;01mif\u001b[39;00m k \u001b[38;5;241m==\u001b[39m \u001b[38;5;241m0\u001b[39m: \u001b[38;5;28;01mreturn\u001b[39;00m \u001b[38;5;241m1\u001b[39m\n\u001b[0;32m      4\u001b[0m \u001b[38;5;28;01mif\u001b[39;00m n \u001b[38;5;241m==\u001b[39m \u001b[38;5;241m0\u001b[39m: \u001b[38;5;28;01mreturn\u001b[39;00m \u001b[38;5;241m0\u001b[39m\n\u001b[1;32m----> 5\u001b[0m \u001b[38;5;28;01mreturn\u001b[39;00m \u001b[43mC_mem\u001b[49m\u001b[43m(\u001b[49m\u001b[43mn\u001b[49m\u001b[38;5;241;43m-\u001b[39;49m\u001b[38;5;241;43m1\u001b[39;49m\u001b[43m,\u001b[49m\u001b[43mk\u001b[49m\u001b[38;5;241;43m-\u001b[39;49m\u001b[38;5;241;43m1\u001b[39;49m\u001b[43m)\u001b[49m \u001b[38;5;241m+\u001b[39m C_mem(n\u001b[38;5;241m-\u001b[39m\u001b[38;5;241m1\u001b[39m,k)\n",
            "    \u001b[1;31m[... skipping similar frames: C_mem at line 5 (1483 times)]\u001b[0m\n",
            "Input \u001b[1;32mIn [67]\u001b[0m, in \u001b[0;36mC_mem\u001b[1;34m(n, k)\u001b[0m\n\u001b[0;32m      3\u001b[0m \u001b[38;5;28;01mif\u001b[39;00m k \u001b[38;5;241m==\u001b[39m \u001b[38;5;241m0\u001b[39m: \u001b[38;5;28;01mreturn\u001b[39;00m \u001b[38;5;241m1\u001b[39m\n\u001b[0;32m      4\u001b[0m \u001b[38;5;28;01mif\u001b[39;00m n \u001b[38;5;241m==\u001b[39m \u001b[38;5;241m0\u001b[39m: \u001b[38;5;28;01mreturn\u001b[39;00m \u001b[38;5;241m0\u001b[39m\n\u001b[1;32m----> 5\u001b[0m \u001b[38;5;28;01mreturn\u001b[39;00m \u001b[43mC_mem\u001b[49m\u001b[43m(\u001b[49m\u001b[43mn\u001b[49m\u001b[38;5;241;43m-\u001b[39;49m\u001b[38;5;241;43m1\u001b[39;49m\u001b[43m,\u001b[49m\u001b[43mk\u001b[49m\u001b[38;5;241;43m-\u001b[39;49m\u001b[38;5;241;43m1\u001b[39;49m\u001b[43m)\u001b[49m \u001b[38;5;241m+\u001b[39m C_mem(n\u001b[38;5;241m-\u001b[39m\u001b[38;5;241m1\u001b[39m,k)\n",
            "\u001b[1;31mRecursionError\u001b[0m: maximum recursion depth exceeded"
          ]
        }
      ],
      "source": [
        "C_mem(2000,1555) # so we calculated how many different ways we can pick 1555 items out of set of 2000 items"
      ]
    },
    {
      "cell_type": "code",
      "execution_count": null,
      "metadata": {
        "colab": {
          "base_uri": "https://localhost:8080/"
        },
        "id": "Qjf0JzfnSH0D",
        "outputId": "da660e2e-469a-452a-c8ae-f992846166da"
      },
      "outputs": [
        {
          "data": {
            "text/plain": [
              "13983816"
            ]
          },
          "execution_count": 65,
          "metadata": {},
          "output_type": "execute_result"
        }
      ],
      "source": [
        "C_mem(49,6)"
      ]
    },
    {
      "cell_type": "code",
      "execution_count": null,
      "metadata": {
        "colab": {
          "base_uri": "https://localhost:8080/"
        },
        "id": "eXf1nB3TSLCp",
        "outputId": "8a34f1da-41fe-4230-b0b1-a9d4da3979cd"
      },
      "outputs": [
        {
          "data": {
            "text/plain": [
              "202927725"
            ]
          },
          "execution_count": 66,
          "metadata": {},
          "output_type": "execute_result"
        }
      ],
      "source": [
        "C_mem(55,7)  # so our odds in lotteries are not so great..."
      ]
    },
    {
      "cell_type": "markdown",
      "metadata": {
        "id": "jsDs1fpWE6Vu"
      },
      "source": [
        "You may at times want to rewrite your code to make it iterative. This\n",
        "can make it faster, and you avoid exhausting the stack if the recursion depth gets excessive. There’s another reason, too:\n",
        "The iterative versions are often based on a specially constructed cache, rather than the generic “dict keyed by parameter\n",
        "tuples” used in my @memo. \n",
        "\n",
        "This means that you can sometimes use more efficient structures, such as the multidimensional\n",
        "arrays of NumPy (this is a C type array dense and efficient), or even just nested lists. \n",
        "\n",
        "This custom cache design\n",
        "makes it possible to do use DP in more low-level languages(ahem C, C++), where general, abstract solutions such as our @memo decorator\n",
        "are often not feasible.\n",
        "\n",
        "Note that even though these two techniques often go hand in hand, you are certainly free to use an\n",
        "iterative solution with a more generic cache or a recursive one with a tailored structure for your subproblem solutions.\n",
        "\n",
        "Let’s reverse our algorithm, filling out Pascal’s triangle directly. "
      ]
    },
    {
      "cell_type": "code",
      "execution_count": 63,
      "metadata": {
        "id": "Y8UK4bDVE6Vu"
      },
      "outputs": [],
      "source": [
        "from collections import defaultdict  # we could use a regular dict , just less work with defaultdict\n",
        "# in your language check what collections are available, C#, Java have very nice collections libraries\n",
        "# careful with C++ collections, check complexity on some of them, it might not be O(1) - map for one (which turns out to be ordered)\n",
        "# you'd need to look up documentation for that particular structure - so in C++ you might need to use unordered map"
      ]
    },
    {
      "cell_type": "code",
      "execution_count": 66,
      "metadata": {
        "id": "lx96Rw9rE6Vu"
      },
      "outputs": [],
      "source": [
        "def pascal_up(n,k):\n",
        "    # so tabulated solution, we are going to build a table of solutions\n",
        "    Cit = defaultdict(int)\n",
        "    # Cit = {} # turns out going to plain dictionary did not help at all, slow down by 10%\n",
        "    # careful from off by one errors\n",
        "    for row in range(n+1):\n",
        "        Cit[row,0] = 1 # we could have used previous row to calculate this one, technically just need first one\n",
        "        for col in range(1,k+1): # looking like O(n*k) space and time complexity here right?\n",
        "            # I am using get to avoid looking at edge cases (where we have no value to look up)\n",
        "            Cit[row,col] = Cit.get((row-1,col-1),0) + Cit.get((row-1,col),0)\n",
        "    return Cit[n,k]"
      ]
    },
    {
      "cell_type": "markdown",
      "metadata": {},
      "source": [
        "### Pascal triangle with iterative DP - tabulation"
      ]
    },
    {
      "cell_type": "code",
      "execution_count": null,
      "metadata": {},
      "outputs": [
        {
          "data": {
            "text/plain": [
              "125970"
            ]
          },
          "metadata": {},
          "output_type": "display_data"
        }
      ],
      "source": [
        "pascal_up(20,12)"
      ]
    },
    {
      "cell_type": "code",
      "execution_count": null,
      "metadata": {},
      "outputs": [
        {
          "name": "stdout",
          "output_type": "stream",
          "text": [
            "137 µs ± 4.18 µs per loop (mean ± std. dev. of 7 runs, 10,000 loops each)\n"
          ]
        }
      ],
      "source": [
        "%%timeit\n",
        "pascal_up(20,12)"
      ]
    },
    {
      "cell_type": "code",
      "execution_count": 67,
      "metadata": {},
      "outputs": [
        {
          "data": {
            "text/plain": [
              "47129212243960"
            ]
          },
          "execution_count": 67,
          "metadata": {},
          "output_type": "execute_result"
        }
      ],
      "source": [
        "pascal_up(50,30)"
      ]
    },
    {
      "cell_type": "code",
      "execution_count": 68,
      "metadata": {},
      "outputs": [
        {
          "name": "stdout",
          "output_type": "stream",
          "text": [
            "821 µs ± 29.3 µs per loop (mean ± std. dev. of 7 runs, 1,000 loops each)\n"
          ]
        }
      ],
      "source": [
        "%%timeit\n",
        "pascal_up(50,30)"
      ]
    },
    {
      "cell_type": "code",
      "execution_count": null,
      "metadata": {},
      "outputs": [
        {
          "name": "stdout",
          "output_type": "stream",
          "text": [
            "131 ns ± 6.31 ns per loop (mean ± std. dev. of 7 runs, 10,000,000 loops each)\n"
          ]
        }
      ],
      "source": [
        "%%timeit\n",
        "C_mem(20,12)"
      ]
    },
    {
      "cell_type": "code",
      "execution_count": 69,
      "metadata": {},
      "outputs": [
        {
          "data": {
            "text/plain": [
              "1647278652451762678788128833110870712983038446517480945400"
            ]
          },
          "execution_count": 69,
          "metadata": {},
          "output_type": "execute_result"
        }
      ],
      "source": [
        "pascal_up(200,120)"
      ]
    },
    {
      "cell_type": "code",
      "execution_count": null,
      "metadata": {},
      "outputs": [
        {
          "data": {
            "text/plain": [
              "1647278652451762678788128833110870712983038446517480945400"
            ]
          },
          "metadata": {},
          "output_type": "display_data"
        }
      ],
      "source": [
        "C_mem(200,120)"
      ]
    },
    {
      "cell_type": "code",
      "execution_count": 71,
      "metadata": {},
      "outputs": [
        {
          "data": {
            "text/plain": [
              "1978313580909322814404279742888220639083711979061915952790417145826485941327234894939258385780824686228079384862407027961433025056766438463773323839416940536781231172166724228912771210164695158929585213737757529910987728315522103983421673060914798337366517226742260910135847960153174204828837881201328813992496688218062280491920325152745752467152549279836765394857076973819686255193997158217396454096616616197813730448592629973705108771904401411312180534910702836373199696360608671550707240571399665331895768867458771375296689485866658969198724600312085207901774291234960477899482724866200"
            ]
          },
          "execution_count": 71,
          "metadata": {},
          "output_type": "execute_result"
        }
      ],
      "source": [
        "pascal_up(2024,1223)"
      ]
    },
    {
      "cell_type": "code",
      "execution_count": null,
      "metadata": {},
      "outputs": [],
      "source": [
        "# C_mem(2000,1255) # so we see the need for iterative version - other way would be to allow tail call optimization in functional languages"
      ]
    },
    {
      "cell_type": "code",
      "execution_count": null,
      "metadata": {},
      "outputs": [],
      "source": [
        "# so we could futher save memory for our pascal_up by only saving the needed information meaning we only need the previous row"
      ]
    },
    {
      "cell_type": "code",
      "execution_count": null,
      "metadata": {},
      "outputs": [],
      "source": []
    },
    {
      "cell_type": "markdown",
      "metadata": {},
      "source": [
        "### Pascal triangle with iterative DP - tabulation"
      ]
    },
    {
      "cell_type": "code",
      "execution_count": null,
      "metadata": {},
      "outputs": [
        {
          "data": {
            "text/plain": [
              "125970"
            ]
          },
          "metadata": {},
          "output_type": "display_data"
        }
      ],
      "source": [
        "pascal_up(20,12)"
      ]
    },
    {
      "cell_type": "code",
      "execution_count": null,
      "metadata": {},
      "outputs": [
        {
          "name": "stdout",
          "output_type": "stream",
          "text": [
            "137 µs ± 4.18 µs per loop (mean ± std. dev. of 7 runs, 10,000 loops each)\n"
          ]
        }
      ],
      "source": [
        "%%timeit\n",
        "pascal_up(20,12)"
      ]
    },
    {
      "cell_type": "code",
      "execution_count": null,
      "metadata": {},
      "outputs": [
        {
          "data": {
            "text/plain": [
              "47129212243960"
            ]
          },
          "metadata": {},
          "output_type": "display_data"
        }
      ],
      "source": [
        "pascal_up(50,30)"
      ]
    },
    {
      "cell_type": "code",
      "execution_count": null,
      "metadata": {},
      "outputs": [
        {
          "name": "stdout",
          "output_type": "stream",
          "text": [
            "822 µs ± 29.4 µs per loop (mean ± std. dev. of 7 runs, 1,000 loops each)\n"
          ]
        }
      ],
      "source": [
        "%%timeit\n",
        "pascal_up(50,30)"
      ]
    },
    {
      "cell_type": "code",
      "execution_count": null,
      "metadata": {},
      "outputs": [
        {
          "name": "stdout",
          "output_type": "stream",
          "text": [
            "131 ns ± 6.31 ns per loop (mean ± std. dev. of 7 runs, 10,000,000 loops each)\n"
          ]
        }
      ],
      "source": [
        "%%timeit\n",
        "C_mem(20,12)"
      ]
    },
    {
      "cell_type": "code",
      "execution_count": null,
      "metadata": {},
      "outputs": [
        {
          "data": {
            "text/plain": [
              "1647278652451762678788128833110870712983038446517480945400"
            ]
          },
          "metadata": {},
          "output_type": "display_data"
        }
      ],
      "source": [
        "pascal_up(200,120)"
      ]
    },
    {
      "cell_type": "code",
      "execution_count": null,
      "metadata": {},
      "outputs": [
        {
          "data": {
            "text/plain": [
              "1647278652451762678788128833110870712983038446517480945400"
            ]
          },
          "metadata": {},
          "output_type": "display_data"
        }
      ],
      "source": [
        "C_mem(200,120)"
      ]
    },
    {
      "cell_type": "code",
      "execution_count": null,
      "metadata": {},
      "outputs": [
        {
          "data": {
            "text/plain": [
              "59109593628908414948382028796066195825322294401884421608567282370732677108447726193711784730302760990299603214712874545403948907216441186822204871444990120418511945136706510520055755556735802821658571978418751352273298267569828345746978809441973750241286775122448947529540564006233186974990594534845090378195822798749749716850238790136589693799060708520531078121496569151588079913232831392320592160010660575061801016625866394043795717433667107028907325906172066327055484845091441072359350112683890957329354388664535777738465246096416216139097702868890896959249389851651200"
            ]
          },
          "metadata": {},
          "output_type": "display_data"
        }
      ],
      "source": [
        "pascal_up(2000,1255)"
      ]
    },
    {
      "cell_type": "code",
      "execution_count": null,
      "metadata": {},
      "outputs": [],
      "source": [
        "# C_mem(2000,1255) # so we see the need for iterative version - other way would be to allow tail call optimization in functional languages"
      ]
    },
    {
      "cell_type": "code",
      "execution_count": null,
      "metadata": {},
      "outputs": [],
      "source": [
        "# so we could futher save memory for our pascal_up by only saving the needed information meaning we only need the previous row"
      ]
    },
    {
      "cell_type": "markdown",
      "metadata": {
        "id": "sJZ7T2S4E6Vv"
      },
      "source": [
        "# Difference between TOP-DOWN (with memoization) and BOTTOM-UP (with filling up DP table)"
      ]
    },
    {
      "cell_type": "markdown",
      "metadata": {
        "id": "owaZ3qQjE6Vv"
      },
      "source": [
        "Basically the same thing is going on. The main difference is that we need to figure out which cells in the cache\n",
        "need to be filled out, and we need to find a safe order to do it in so that when we’re about to calculate C[row,col], the\n",
        "cells C[row-1,col-1] and C[row-1,col] are already calculated. With the memoized function, we needn’t worry about\n",
        "either issue: It will calculate whatever it needs recursively."
      ]
    },
    {
      "cell_type": "code",
      "execution_count": null,
      "metadata": {
        "id": "3CYUYrbVE6Vv"
      },
      "outputs": [],
      "source": [
        "## Back to LIS"
      ]
    },
    {
      "cell_type": "code",
      "execution_count": 73,
      "metadata": {
        "id": "0yytK5wtE6Vw"
      },
      "outputs": [],
      "source": [
        "# so recursive memoized solution - TOP/DOWN\n",
        "def rec_lis(seq): # Longest increasing subseq.\n",
        "    @functools.lru_cache(maxsize=None)\n",
        "    def L(cur): # Longest ending at seq[cur]\n",
        "        res = 1 # Length is at least 1 - because well because one number is always going to be a solution to non empty list\n",
        "        # so for example reversely sorted list would have a solution 1 - because the numbers are going down\n",
        "        for pre in range(cur): # Potential predecessors\n",
        "            if seq[pre] <= seq[cur]: # A valid (smaller) predec.\n",
        "                res = max(res, 1 + L(pre)) # Can we improve the solution?\n",
        "        return res\n",
        "    return max(L(i) for i in range(len(seq))) # The longest of them all"
      ]
    },
    {
      "cell_type": "code",
      "execution_count": 74,
      "metadata": {
        "colab": {
          "base_uri": "https://localhost:8080/"
        },
        "id": "BQPJ4iwqE6Vw",
        "outputId": "3f322ae5-b804-4cb4-b68f-77abe85bf96a"
      },
      "outputs": [
        {
          "data": {
            "text/plain": [
              "3"
            ]
          },
          "execution_count": 74,
          "metadata": {},
          "output_type": "execute_result"
        }
      ],
      "source": [
        "rec_lis([3,1,0,2,4])"
      ]
    },
    {
      "cell_type": "code",
      "execution_count": 76,
      "metadata": {},
      "outputs": [
        {
          "data": {
            "text/plain": [
              "(1, 2, 4, 7, 9)"
            ]
          },
          "execution_count": 76,
          "metadata": {},
          "output_type": "execute_result"
        }
      ],
      "source": [
        "naive_list([3,1,0,2,4,7,-6,9])"
      ]
    },
    {
      "cell_type": "code",
      "execution_count": 75,
      "metadata": {
        "colab": {
          "base_uri": "https://localhost:8080/"
        },
        "id": "CtUpotvQVP1O",
        "outputId": "bbca5730-c9ed-41dd-a85f-1e66148ee72d"
      },
      "outputs": [
        {
          "data": {
            "text/plain": [
              "5"
            ]
          },
          "execution_count": 75,
          "metadata": {},
          "output_type": "execute_result"
        }
      ],
      "source": [
        "rec_lis([3,1,0,2,4,7,-6,9])  # so 5 should be answer here"
      ]
    },
    {
      "cell_type": "code",
      "execution_count": 54,
      "metadata": {
        "id": "6cAdtPoFE6Vw"
      },
      "outputs": [],
      "source": [
        "# so recursive memoized solution - TOP/DOWN\n",
        "# TODO add sequence passing\n",
        "def rec_lis_full(seq): # Longest increasing subseq.\n",
        "    @functools.lru_cache(maxsize=None)\n",
        "    def L(cur): # Longest ending at seq[cur]\n",
        "        res = 1 # Length is at least 1\n",
        "        for pre in range(cur): # Potential predecessors\n",
        "            if seq[pre] <= seq[cur]: # A valid (smaller) predec.\n",
        "                res = max(res, 1 + L(pre)) # Can we improve the solution?\n",
        "        return res\n",
        "    return max(L(i) for i in range(len(seq))) # The longest of them all"
      ]
    },
    {
      "cell_type": "code",
      "execution_count": 77,
      "metadata": {
        "id": "22aVVrNlE6Vw"
      },
      "outputs": [],
      "source": [
        "# tabulated solution\n",
        "# tabulation is the classical dynamic programming approach - BOTTOM - UP\n",
        "def basic_lis(seq, debug=True):\n",
        "    L = [1] * len(seq)\n",
        "    for cur, val in enumerate(seq):\n",
        "        for pre in range(cur): # so two nested loops smells quadratic right?\n",
        "            if seq[pre] < val:\n",
        "                L[cur] = max(L[cur], 1 + L[pre])\n",
        "                if debug:\n",
        "                    print(L)\n",
        "    return max(L) # linear lookup"
      ]
    },
    {
      "cell_type": "code",
      "execution_count": null,
      "metadata": {
        "id": "31FLwbqBE6Vw"
      },
      "outputs": [],
      "source": [
        "# TODO add iterative sequence passing "
      ]
    },
    {
      "cell_type": "code",
      "execution_count": 78,
      "metadata": {
        "colab": {
          "base_uri": "https://localhost:8080/"
        },
        "id": "j_bkXMVbE6Vw",
        "outputId": "be04b5b8-39b9-4d81-f956-bbcc7f44d751"
      },
      "outputs": [
        {
          "name": "stdout",
          "output_type": "stream",
          "text": [
            "[1, 1, 2, 1, 1]\n",
            "[1, 1, 2, 1, 2]\n",
            "[1, 1, 2, 1, 2]\n",
            "[1, 1, 2, 1, 3]\n",
            "[1, 1, 2, 1, 3]\n"
          ]
        },
        {
          "data": {
            "text/plain": [
              "3"
            ]
          },
          "execution_count": 78,
          "metadata": {},
          "output_type": "execute_result"
        }
      ],
      "source": [
        "basic_lis([3,1,2,0,4])"
      ]
    },
    {
      "cell_type": "code",
      "execution_count": 104,
      "metadata": {
        "colab": {
          "base_uri": "https://localhost:8080/"
        },
        "id": "ZethbYVLXGuk",
        "outputId": "1a5555b6-2fc7-47a4-fe1c-e088ff62e0f5"
      },
      "outputs": [
        {
          "name": "stdout",
          "output_type": "stream",
          "text": [
            "[1, 1, 1, 2, 1]\n",
            "[1, 1, 1, 2, 1]\n",
            "[1, 1, 1, 2, 2]\n",
            "[1, 1, 1, 2, 2]\n",
            "[1, 1, 1, 2, 2]\n",
            "[1, 1, 1, 2, 3]\n"
          ]
        },
        {
          "data": {
            "text/plain": [
              "3"
            ]
          },
          "execution_count": 104,
          "metadata": {},
          "output_type": "execute_result"
        }
      ],
      "source": [
        "basic_lis([3,1,0,2,4])"
      ]
    },
    {
      "cell_type": "code",
      "execution_count": null,
      "metadata": {
        "colab": {
          "base_uri": "https://localhost:8080/"
        },
        "id": "x2RFNwZiV2RU",
        "outputId": "093974d8-900a-4341-9fa6-8d8fda8d8bf2"
      },
      "outputs": [
        {
          "data": {
            "text/plain": [
              "5"
            ]
          },
          "execution_count": 82,
          "metadata": {},
          "output_type": "execute_result"
        }
      ],
      "source": [
        "basic_lis([3,1,0,2,4,7,-6,9]) "
      ]
    },
    {
      "cell_type": "code",
      "execution_count": 89,
      "metadata": {
        "colab": {
          "base_uri": "https://localhost:8080/"
        },
        "id": "hWAX7ICPE6Vw",
        "outputId": "db0c79b2-a308-4804-8a0a-f78bc4f7c6d5"
      },
      "outputs": [
        {
          "name": "stdout",
          "output_type": "stream",
          "text": [
            "100 V\n",
            "101 a\n",
            "102 l\n",
            "103 d\n",
            "104 i\n",
            "105 s\n"
          ]
        }
      ],
      "source": [
        "for i,n in enumerate(\"Valdis\",start=100):  # just a Pythonic way of adding index to sequences\n",
        "    print(i,n)"
      ]
    },
    {
      "cell_type": "code",
      "execution_count": 90,
      "metadata": {
        "id": "1WAsZp0GE6Vx",
        "outputId": "3017c987-579f-46e9-b14d-230f40d39d75"
      },
      "outputs": [
        {
          "name": "stdout",
          "output_type": "stream",
          "text": [
            "[1, 1, 1, 2, 1, 1, 1, 1]\n",
            "[1, 1, 1, 2, 1, 1, 1, 1]\n",
            "[1, 1, 1, 2, 2, 1, 1, 1]\n",
            "[1, 1, 1, 2, 2, 1, 1, 1]\n",
            "[1, 1, 1, 2, 2, 1, 1, 1]\n",
            "[1, 1, 1, 2, 3, 1, 1, 1]\n",
            "[1, 1, 1, 2, 3, 2, 1, 1]\n",
            "[1, 1, 1, 2, 3, 2, 1, 1]\n",
            "[1, 1, 1, 2, 3, 2, 1, 1]\n",
            "[1, 1, 1, 2, 3, 3, 1, 1]\n",
            "[1, 1, 1, 2, 3, 4, 1, 1]\n",
            "[1, 1, 1, 2, 3, 4, 2, 1]\n",
            "[1, 1, 1, 2, 3, 4, 2, 1]\n",
            "[1, 1, 1, 2, 3, 4, 2, 1]\n",
            "[1, 1, 1, 2, 3, 4, 3, 1]\n",
            "[1, 1, 1, 2, 3, 4, 4, 1]\n",
            "[1, 1, 1, 2, 3, 4, 5, 1]\n",
            "[1, 1, 1, 2, 3, 4, 5, 2]\n",
            "[1, 1, 1, 2, 3, 4, 5, 2]\n",
            "[1, 1, 1, 2, 3, 4, 5, 2]\n",
            "[1, 1, 1, 2, 3, 4, 5, 3]\n",
            "[1, 1, 1, 2, 3, 4, 5, 4]\n"
          ]
        },
        {
          "data": {
            "text/plain": [
              "5"
            ]
          },
          "execution_count": 90,
          "metadata": {},
          "output_type": "execute_result"
        }
      ],
      "source": [
        "basic_lis([3,1,0,2,4,7,9,6])"
      ]
    },
    {
      "cell_type": "code",
      "execution_count": null,
      "metadata": {
        "id": "tDDag4_8WH_z"
      },
      "outputs": [],
      "source": [
        "# so basic_lis is tabulating and using two nested loops - thus O(n^2) (again not all nested loops will be n^2 but most are)\n",
        "# can we do better for this increasing subsequence length"
      ]
    },
    {
      "cell_type": "markdown",
      "metadata": {
        "id": "IlMrFt8IE6Vx"
      },
      "source": [
        "A crucial insight is that if more than one predecessor terminate subsequences of length m, it doesn’t matter which\n",
        "one of them we use—they’ll all give us an optimal answer. Say, we want to keep only one of them around; which one\n",
        "should we keep? The only safe choice would be to keep the smallest of them, because that wouldn’t wrongly preclude\n",
        "any later elements from building on it. So let’s say, inductively, that at a certain point we have a sequence end of\n",
        "endpoints, where end[idx] is the smallest among the endpoints we’ve seen for increasing subsequences of length idx+1\n",
        "(we’re indexing from 0). Because we’re iterating over the sequence, these will all have occurred earlier than our current\n",
        "value, val. All we need now is an inductive step for extending end, finding out how to add val to it. If we can do that, at\n",
        "the end of the algorithm len(end) will give us the final answer—the length of the longest increasing subsequence."
      ]
    },
    {
      "cell_type": "markdown",
      "metadata": {
        "id": "n37dP2YUE6Vx"
      },
      "source": [
        "This devilishly clever little algorithm was first was first described by Michael L. Fredman in 1975\n",
        "\n",
        "## Optimal Longest Increasing Subsequence\n",
        "https://www.sciencedirect.com/science/article/pii/0012365X7590103X"
      ]
    },
    {
      "cell_type": "code",
      "execution_count": 91,
      "metadata": {
        "id": "gxt6q5PjE6Vx"
      },
      "outputs": [],
      "source": [
        "# https://docs.python.org/3/library/bisect.html - basically we use binary search to find insertion points \n",
        "from bisect import bisect  # provides support for maintaining a list in sorted order without having to sort the list after each insertion. \n",
        "def lis(seq): # Longest increasing subseq.\n",
        "    end = [] # End-values for all lengths\n",
        "    for val in seq: # Try every value, in order\n",
        "        idx = bisect(end, val) # no way to make this constant but this is logn\n",
        "        if idx == len(end): # Can we build on an end val?\n",
        "            end.append(val) # Longest seq. extended\n",
        "        else: \n",
        "            end[idx] = val # Prev. endpoint reduced\n",
        "    return len(end) # The longest we found"
      ]
    },
    {
      "cell_type": "code",
      "execution_count": 92,
      "metadata": {
        "colab": {
          "base_uri": "https://localhost:8080/"
        },
        "id": "cF9YeUTpE6Vx",
        "outputId": "596f4850-1aaf-4c20-bdcc-e7bd9cf269f3"
      },
      "outputs": [
        {
          "data": {
            "text/plain": [
              "5"
            ]
          },
          "execution_count": 92,
          "metadata": {},
          "output_type": "execute_result"
        }
      ],
      "source": [
        "lis([3,1,0,2,4,7,9,6])"
      ]
    },
    {
      "cell_type": "markdown",
      "metadata": {
        "id": "OzEnGDgpZNSv"
      },
      "source": [
        "## So Top-Down\n",
        "* Create a recursive solution\n",
        "* memoize it - (cache it!)\n",
        "\n",
        "## Bottom-Up\n",
        "* figure out a way of storing previous results\n",
        "* tabulate(calculate) up\n",
        "* you might not need to store the full table maybe just previous row - can save space"
      ]
    },
    {
      "cell_type": "markdown",
      "metadata": {},
      "source": []
    },
    {
      "cell_type": "code",
      "execution_count": null,
      "metadata": {},
      "outputs": [],
      "source": [
        "## TODO tabulated solution to LIS problem that returns the actual sequence"
      ]
    },
    {
      "cell_type": "markdown",
      "metadata": {},
      "source": [
        "## Coin change solution using dynamic bottom-up programming\n",
        "\n",
        "Idea is to use a table of previous results to calculate the next one\n",
        "Next solution has to be a sum of two previous solutions - so we can use the previous results to calculate the next one"
      ]
    },
    {
      "cell_type": "markdown",
      "metadata": {},
      "source": [
        "Let's remember how our greedy solution failed on some cases\n",
        "\n",
        "* For example Greedy would fail on [1, 3, 4] and 6 - where correct solution is 3,3 but greedy would give 4,1,1\n",
        "* Another fail would be on [1,10,25] and 31 - greedy would give 25,1,1,1,1,1,1 and correct solution is 10,10,10,1\n",
        "\n",
        "Instead we will use a dynamic programming solution - we will use a table to store the results of the previous solutions and use them to calculate the next one"
      ]
    },
    {
      "cell_type": "code",
      "execution_count": 79,
      "metadata": {},
      "outputs": [
        {
          "name": "stdout",
          "output_type": "stream",
          "text": [
            "(0, 0)\n",
            "(1, 1)\n",
            "(2, 2)\n",
            "(3, 3)\n",
            "(4, 4)\n",
            "(5, 1)\n",
            "(6, 2)\n",
            "(7, 3)\n",
            "(8, 4)\n",
            "(9, 5)\n",
            "(10, 1)\n",
            "(11, 2)\n",
            "(12, 3)\n",
            "(13, 4)\n",
            "(14, 5)\n",
            "(15, 2)\n",
            "(16, 3)\n",
            "(17, 4)\n",
            "(18, 5)\n",
            "(19, 6)\n",
            "(20, 2)\n",
            "(21, 3)\n",
            "(22, 4)\n",
            "(23, 5)\n",
            "(24, 6)\n",
            "(25, 1)\n",
            "(26, 2)\n",
            "(27, 3)\n",
            "(28, 4)\n",
            "(29, 5)\n",
            "(30, 2)\n",
            "(31, 3)\n"
          ]
        }
      ],
      "source": [
        "# we will use a list to store our results\n",
        "# we will have a sorted list of coins for each amount\n",
        "# if we have a coin matching the amount we will add it to the list\n",
        "def find_minimum_coins(amount, coins=(1,5,10,25)):\n",
        "    table = [0] * (amount + 1) # so we are going to store our results here\n",
        "    for i in range(1, amount + 1): # so we are going to go through all amounts\n",
        "        table[i] = min(table[i - c] + 1 for c in coins if c <= i) # so we are going to find the minimum number of coins for each amount\n",
        "    return table[amount], table\n",
        "\n",
        "# let's test it on 31\n",
        "coin_cnt, full_solution = find_minimum_coins(31)\n",
        "# print full solution with amounts\n",
        "print(*list(enumerate(full_solution)), sep=\"\\n\")"
      ]
    },
    {
      "cell_type": "code",
      "execution_count": 80,
      "metadata": {},
      "outputs": [
        {
          "name": "stdout",
          "output_type": "stream",
          "text": [
            "(0, 0)\n",
            "(1, 1)\n",
            "(2, 2)\n",
            "(3, 3)\n",
            "(4, 4)\n",
            "(5, 5)\n",
            "(6, 6)\n",
            "(7, 1)\n",
            "(8, 2)\n",
            "(9, 3)\n",
            "(10, 1)\n",
            "(11, 2)\n",
            "(12, 3)\n",
            "(13, 4)\n",
            "(14, 2)\n",
            "(15, 3)\n"
          ]
        }
      ],
      "source": [
        "# lets try it for amount 15, and coins being (1,7,10)\n",
        "coin_cnt, full_solution = find_minimum_coins(15, (1,7,10))\n",
        "# print full solution with amounts\n",
        "print(*list(enumerate(full_solution)), sep=\"\\n\")"
      ]
    },
    {
      "cell_type": "code",
      "execution_count": 61,
      "metadata": {},
      "outputs": [
        {
          "name": "stdout",
          "output_type": "stream",
          "text": [
            "(0, 0)\n",
            "(1, 1)\n",
            "(2, 2)\n",
            "(3, 3)\n",
            "(4, 4)\n",
            "(5, 5)\n",
            "(6, 6)\n",
            "(7, 7)\n",
            "(8, 8)\n",
            "(9, 9)\n",
            "(10, 1)\n",
            "(11, 2)\n",
            "(12, 3)\n",
            "(13, 4)\n",
            "(14, 5)\n",
            "(15, 6)\n",
            "(16, 7)\n",
            "(17, 8)\n",
            "(18, 9)\n",
            "(19, 10)\n",
            "(20, 2)\n",
            "(21, 3)\n",
            "(22, 4)\n",
            "(23, 5)\n",
            "(24, 6)\n",
            "(25, 1)\n",
            "(26, 2)\n",
            "(27, 3)\n",
            "(28, 4)\n",
            "(29, 5)\n",
            "(30, 3)\n",
            "(31, 4)\n"
          ]
        }
      ],
      "source": [
        "# now let's test 31 but use only coins (1,10,25)\n",
        "coin_cnt, full_solution = find_minimum_coins(31, (1,10,25))\n",
        "# print full solution with amounts\n",
        "print(*list(enumerate(full_solution)), sep=\"\\n\")"
      ]
    },
    {
      "cell_type": "code",
      "execution_count": 81,
      "metadata": {},
      "outputs": [
        {
          "data": {
            "text/plain": [
              "(9223372036854775807, 9223372036854775807)"
            ]
          },
          "execution_count": 81,
          "metadata": {},
          "output_type": "execute_result"
        }
      ],
      "source": [
        "# lets get max int from sys\n",
        "import sys\n",
        "sys.maxsize, 2**63-1 # which is 2^63 - 1 because we also have 0 in our range\n"
      ]
    },
    {
      "cell_type": "code",
      "execution_count": 83,
      "metadata": {},
      "outputs": [
        {
          "name": "stdout",
          "output_type": "stream",
          "text": [
            "3\n",
            "[[], [1], [1, 1], [1, 1, 1], [1, 1, 1, 1], [5], [1, 5], [1, 1, 5], [1, 1, 1, 5], [1, 1, 1, 1, 5], [10], [1, 10], [1, 1, 10], [1, 1, 1, 10], [1, 1, 1, 1, 10], [5, 10], [1, 5, 10], [1, 1, 5, 10], [1, 1, 1, 5, 10], [1, 1, 1, 1, 5, 10], [10, 10], [1, 10, 10], [1, 1, 10, 10], [1, 1, 1, 10, 10], [1, 1, 1, 1, 10, 10], [25], [1, 25], [1, 1, 25], [1, 1, 1, 25], [1, 1, 1, 1, 25], [5, 25], [1, 5, 25]]\n"
          ]
        }
      ],
      "source": [
        "# let's modify the function to store the actual coins used\n",
        "def find_minimum_coins(amount, coins=(1,5,10,25)):\n",
        "    table = [sys.maxsize] * (amount + 1) # so we are going to store our results here\n",
        "    coins_used = [[]] * (amount + 1) # so we are going to store our results here\n",
        "    for i in range(1, amount + 1): # so we are going to go through all amounts\n",
        "        # table[i], coins_used[i] = min((table[i - c] + 1, c) for c in coins if c <= i) # so we are going to find the minimum number of coins for each amount\n",
        "        if i in coins: # exact match so only 1 coin needed\n",
        "            table[i] = 1\n",
        "            coins_used[i] = [i]\n",
        "        else: # now we need to find a minimum by combining previous solutions\n",
        "            for n in range(i//2+1): # you could just go throuh i but this is a bit faster\n",
        "                # we check previous solutions for minimum\n",
        "                if table[n] + table[i-n] < table[i]:\n",
        "                    table[i] = table[n] + table[i-n]\n",
        "                    coins_used[i] = coins_used[n] + coins_used[i-n]\n",
        "    return table[amount], coins_used\n",
        "\n",
        "# test it on 31\n",
        "coin_cnt, coins_used = find_minimum_coins(31)\n",
        "# print coin_cnt\n",
        "print(coin_cnt)\n",
        "# print coins used\n",
        "print(coins_used)"
      ]
    },
    {
      "cell_type": "code",
      "execution_count": 84,
      "metadata": {},
      "outputs": [
        {
          "name": "stdout",
          "output_type": "stream",
          "text": [
            "4\n",
            "[]\n",
            "[1]\n",
            "[1, 1]\n",
            "[1, 1, 1]\n",
            "[1, 1, 1, 1]\n",
            "[1, 1, 1, 1, 1]\n",
            "[1, 1, 1, 1, 1, 1]\n",
            "[1, 1, 1, 1, 1, 1, 1]\n",
            "[1, 1, 1, 1, 1, 1, 1, 1]\n",
            "[1, 1, 1, 1, 1, 1, 1, 1, 1]\n",
            "[10]\n",
            "[1, 10]\n",
            "[1, 1, 10]\n",
            "[1, 1, 1, 10]\n",
            "[1, 1, 1, 1, 10]\n",
            "[1, 1, 1, 1, 1, 10]\n",
            "[1, 1, 1, 1, 1, 1, 10]\n",
            "[1, 1, 1, 1, 1, 1, 1, 10]\n",
            "[1, 1, 1, 1, 1, 1, 1, 1, 10]\n",
            "[1, 1, 1, 1, 1, 1, 1, 1, 1, 10]\n",
            "[10, 10]\n",
            "[1, 10, 10]\n",
            "[1, 1, 10, 10]\n",
            "[1, 1, 1, 10, 10]\n",
            "[1, 1, 1, 1, 10, 10]\n",
            "[25]\n",
            "[1, 25]\n",
            "[1, 1, 25]\n",
            "[1, 1, 1, 25]\n",
            "[1, 1, 1, 1, 25]\n",
            "[10, 10, 10]\n",
            "[1, 10, 10, 10]\n"
          ]
        }
      ],
      "source": [
        "# now let's check with 1,10,25 on 31\n",
        "coin_cnt, coins_used = find_minimum_coins(31, (1,10,25))\n",
        "# print coin_cnt\n",
        "print(coin_cnt)\n",
        "# print coins used\n",
        "print(*coins_used, sep=\"\\n\")"
      ]
    },
    {
      "cell_type": "markdown",
      "metadata": {},
      "source": [
        "## Algorithms that use Dynamic Programming\n",
        "\n",
        "### Graph algorithms\n",
        "\n",
        "* Shortest path algorithms\n",
        "* Longest path algorithms\n",
        "* Minimum spanning tree algorithms\n",
        "* Maximum flow algorithms\n",
        "\n",
        "### String algorithms\n",
        "\n",
        "* Longest common subsequence\n",
        "* Longest increasing subsequence\n",
        "* Edit distance\n",
        "\n",
        "### Combinatorial algorithms\n",
        "\n",
        "* Binomial coefficients - Pascal's triangle\n",
        "* Fibonacci numbers\n",
        "* Factorials\n",
        "\n",
        "### Geometric algorithms\n",
        "\n",
        "* Convex hull\n",
        "* Closest pair of points\n",
        "* Largest empty rectangle"
      ]
    }
  ],
  "metadata": {
    "colab": {
      "name": "Dynamic Programming.ipynb",
      "provenance": []
    },
    "kernelspec": {
      "display_name": "Python 3",
      "language": "python",
      "name": "python3"
    },
    "language_info": {
      "codemirror_mode": {
        "name": "ipython",
        "version": 3
      },
      "file_extension": ".py",
      "mimetype": "text/x-python",
      "name": "python",
      "nbconvert_exporter": "python",
      "pygments_lexer": "ipython3",
      "version": "3.11.4"
    }
  },
  "nbformat": 4,
  "nbformat_minor": 0
}
