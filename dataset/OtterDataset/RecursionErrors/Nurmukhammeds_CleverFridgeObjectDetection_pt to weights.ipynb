{
 "cells": [
  {
   "cell_type": "code",
   "execution_count": 13,
   "id": "fccd96df",
   "metadata": {},
   "outputs": [
    {
     "name": "stderr",
     "output_type": "stream",
     "text": [
      "usage: ipykernel_launcher.py [-h] [--weights WEIGHTS] [--cfg CFG]\n",
      "                             [--output OUTPUT]\n",
      "ipykernel_launcher.py: error: unrecognized arguments: -f /home/user/.local/share/jupyter/runtime/kernel-ca9c6939-b15a-4ab5-853d-def9e036b384.json\n"
     ]
    },
    {
     "ename": "SystemExit",
     "evalue": "2",
     "output_type": "error",
     "traceback": [
      "An exception has occurred, use %tb to see the full traceback.\n",
      "\u001b[0;31mSystemExit\u001b[0m\u001b[0;31m:\u001b[0m 2\n"
     ]
    }
   ],
   "source": [
    "import argparse\n",
    "import os\n",
    "import platform\n",
    "import shutil\n",
    "import time\n",
    "from pathlib import Path\n",
    "\n",
    "import cv2\n",
    "import torch\n",
    "import torch.backends.cudnn as cudnn\n",
    "from numpy import random\n",
    "\n",
    "from models.experimental import attempt_load\n",
    "from utils.datasets import LoadStreams, LoadImages\n",
    "from utils.general import (\n",
    "check_img_size, non_max_suppression, apply_classifier, scale_coords, xyxy2xywh, plot_one_box, strip_optimizer)\n",
    "from utils.torch_utils import select_device, load_classifier, time_synchronized\n",
    "\n",
    "from models.common import *\n",
    "from models.experimental import *\n",
    "from utils.datasets import *\n",
    "from utils.general import *\n",
    "\n",
    "def convert_weights():\n",
    "    convert(cfg=opt.cfg, weights=opt.weights, saveto=opt.output)\n",
    "    print(opt.cfg)\n",
    "    print(opt.weights)\n",
    "    print(opt.output)\n",
    "\n",
    "\n",
    "parser = argparse.ArgumentParser()\n",
    "parser.add_argument('--weights', type=str, default='best_yolov4-csp-results.pt')\n",
    "parser.add_argument('--cfg', type=str, default='models/yolov4-csp.yaml', help='config file')\n",
    "parser.add_argument('--output', type=str, default='yolov4.weights', help='output file path')\n",
    "opt = parser.parse_args()\n",
    "print(opt)\n",
    "with torch.no_grad():\n",
    "#else:\n",
    "    convert_weights()"
   ]
  },
  {
   "cell_type": "code",
   "execution_count": 7,
   "id": "3e3c4f10",
   "metadata": {},
   "outputs": [],
   "source": [
    "from models import *\n",
    "def convert(cfg='../models/yolov4-csp.cfg', weights='../runs/exp0_yolov4-csp-results/weights/best_yolov4-csp-results.pt', saveto='yolov4-csp-desk-800-100.weights'):\n",
    "    # Converts between PyTorch and Darknet format per extension (i.e. *.weights convert to *.pt and vice versa)\n",
    "    convert('models/yolov4-csp.yaml', 'weights/yolov4-csp.weights')"
   ]
  },
  {
   "cell_type": "code",
   "execution_count": 10,
   "id": "dde4a995",
   "metadata": {},
   "outputs": [
    {
     "ename": "RecursionError",
     "evalue": "maximum recursion depth exceeded",
     "output_type": "error",
     "traceback": [
      "\u001b[0;31m---------------------------------------------------------------------------\u001b[0m",
      "\u001b[0;31mRecursionError\u001b[0m                            Traceback (most recent call last)",
      "\u001b[0;32m/tmp/ipykernel_619662/2553630982.py\u001b[0m in \u001b[0;36m<module>\u001b[0;34m\u001b[0m\n\u001b[0;32m----> 1\u001b[0;31m \u001b[0mconvert\u001b[0m\u001b[0;34m(\u001b[0m\u001b[0mcfg\u001b[0m\u001b[0;34m=\u001b[0m\u001b[0;34m'../models/yolov4-csp.cfg'\u001b[0m\u001b[0;34m,\u001b[0m \u001b[0mweights\u001b[0m\u001b[0;34m=\u001b[0m\u001b[0;34m'../runs/exp0_yolov4-csp-results/weights/best_yolov4-csp-results.pt'\u001b[0m\u001b[0;34m,\u001b[0m \u001b[0msaveto\u001b[0m\u001b[0;34m=\u001b[0m\u001b[0;34m'yolov4-csp-desk-800-100.weights'\u001b[0m\u001b[0;34m)\u001b[0m\u001b[0;34m\u001b[0m\u001b[0;34m\u001b[0m\u001b[0m\n\u001b[0m",
      "\u001b[0;32m/tmp/ipykernel_619662/2450910342.py\u001b[0m in \u001b[0;36mconvert\u001b[0;34m(cfg, weights, saveto)\u001b[0m\n\u001b[1;32m      2\u001b[0m \u001b[0;32mdef\u001b[0m \u001b[0mconvert\u001b[0m\u001b[0;34m(\u001b[0m\u001b[0mcfg\u001b[0m\u001b[0;34m=\u001b[0m\u001b[0;34m'../models/yolov4-csp.cfg'\u001b[0m\u001b[0;34m,\u001b[0m \u001b[0mweights\u001b[0m\u001b[0;34m=\u001b[0m\u001b[0;34m'../runs/exp0_yolov4-csp-results/weights/best_yolov4-csp-results.pt'\u001b[0m\u001b[0;34m,\u001b[0m \u001b[0msaveto\u001b[0m\u001b[0;34m=\u001b[0m\u001b[0;34m'yolov4-csp-desk-800-100.weights'\u001b[0m\u001b[0;34m)\u001b[0m\u001b[0;34m:\u001b[0m\u001b[0;34m\u001b[0m\u001b[0;34m\u001b[0m\u001b[0m\n\u001b[1;32m      3\u001b[0m     \u001b[0;31m# Converts between PyTorch and Darknet format per extension (i.e. *.weights convert to *.pt and vice versa)\u001b[0m\u001b[0;34m\u001b[0m\u001b[0;34m\u001b[0m\u001b[0;34m\u001b[0m\u001b[0m\n\u001b[0;32m----> 4\u001b[0;31m     \u001b[0mconvert\u001b[0m\u001b[0;34m(\u001b[0m\u001b[0;34m'models/yolov4-csp.yaml'\u001b[0m\u001b[0;34m,\u001b[0m \u001b[0;34m'weights/yolov4-csp.weights'\u001b[0m\u001b[0;34m)\u001b[0m\u001b[0;34m\u001b[0m\u001b[0;34m\u001b[0m\u001b[0m\n\u001b[0m",
      "... last 1 frames repeated, from the frame below ...\n",
      "\u001b[0;32m/tmp/ipykernel_619662/2450910342.py\u001b[0m in \u001b[0;36mconvert\u001b[0;34m(cfg, weights, saveto)\u001b[0m\n\u001b[1;32m      2\u001b[0m \u001b[0;32mdef\u001b[0m \u001b[0mconvert\u001b[0m\u001b[0;34m(\u001b[0m\u001b[0mcfg\u001b[0m\u001b[0;34m=\u001b[0m\u001b[0;34m'../models/yolov4-csp.cfg'\u001b[0m\u001b[0;34m,\u001b[0m \u001b[0mweights\u001b[0m\u001b[0;34m=\u001b[0m\u001b[0;34m'../runs/exp0_yolov4-csp-results/weights/best_yolov4-csp-results.pt'\u001b[0m\u001b[0;34m,\u001b[0m \u001b[0msaveto\u001b[0m\u001b[0;34m=\u001b[0m\u001b[0;34m'yolov4-csp-desk-800-100.weights'\u001b[0m\u001b[0;34m)\u001b[0m\u001b[0;34m:\u001b[0m\u001b[0;34m\u001b[0m\u001b[0;34m\u001b[0m\u001b[0m\n\u001b[1;32m      3\u001b[0m     \u001b[0;31m# Converts between PyTorch and Darknet format per extension (i.e. *.weights convert to *.pt and vice versa)\u001b[0m\u001b[0;34m\u001b[0m\u001b[0;34m\u001b[0m\u001b[0;34m\u001b[0m\u001b[0m\n\u001b[0;32m----> 4\u001b[0;31m     \u001b[0mconvert\u001b[0m\u001b[0;34m(\u001b[0m\u001b[0;34m'models/yolov4-csp.yaml'\u001b[0m\u001b[0;34m,\u001b[0m \u001b[0;34m'weights/yolov4-csp.weights'\u001b[0m\u001b[0;34m)\u001b[0m\u001b[0;34m\u001b[0m\u001b[0;34m\u001b[0m\u001b[0m\n\u001b[0m",
      "\u001b[0;31mRecursionError\u001b[0m: maximum recursion depth exceeded"
     ]
    }
   ],
   "source": [
    "convert(cfg='../models/yolov4-csp.cfg', weights='../runs/exp0_yolov4-csp-results/weights/best_yolov4-csp-results.pt', saveto='yolov4-csp-desk-800-100.weights')"
   ]
  },
  {
   "cell_type": "code",
   "execution_count": 12,
   "id": "ce08ae6d",
   "metadata": {},
   "outputs": [
    {
     "ename": "RecursionError",
     "evalue": "maximum recursion depth exceeded",
     "output_type": "error",
     "traceback": [
      "\u001b[0;31m---------------------------------------------------------------------------\u001b[0m",
      "\u001b[0;31mRecursionError\u001b[0m                            Traceback (most recent call last)",
      "\u001b[0;32m/tmp/ipykernel_619662/977495071.py\u001b[0m in \u001b[0;36m<module>\u001b[0;34m\u001b[0m\n\u001b[1;32m      1\u001b[0m \u001b[0;32mfrom\u001b[0m \u001b[0mmodels\u001b[0m \u001b[0;32mimport\u001b[0m \u001b[0;34m*\u001b[0m\u001b[0;34m\u001b[0m\u001b[0;34m\u001b[0m\u001b[0m\n\u001b[0;32m----> 2\u001b[0;31m \u001b[0mconvert\u001b[0m\u001b[0;34m(\u001b[0m\u001b[0mcfg\u001b[0m\u001b[0;34m=\u001b[0m\u001b[0;34m'../models/yolov4-csp.cfg'\u001b[0m\u001b[0;34m,\u001b[0m \u001b[0mweights\u001b[0m\u001b[0;34m=\u001b[0m\u001b[0;34m'../runs/exp26_yolov4-csp-/weights/best_yolov4-csp-.pt'\u001b[0m\u001b[0;34m,\u001b[0m \u001b[0msaveto\u001b[0m\u001b[0;34m=\u001b[0m\u001b[0;34m'yolov4-csp-desk-800-100.weights'\u001b[0m\u001b[0;34m)\u001b[0m\u001b[0;34m\u001b[0m\u001b[0;34m\u001b[0m\u001b[0m\n\u001b[0m\u001b[1;32m      3\u001b[0m     \u001b[0;31m# Converts between PyTorch and Darknet format per extension (i.e. *.weights convert to *.pt and vice versa)\u001b[0m\u001b[0;34m\u001b[0m\u001b[0;34m\u001b[0m\u001b[0;34m\u001b[0m\u001b[0m\n\u001b[1;32m      4\u001b[0m     \u001b[0;31m# from models import *; convert('cfg/yolov3-spp.cfg', 'weights/yolov3-spp.weights')\u001b[0m\u001b[0;34m\u001b[0m\u001b[0;34m\u001b[0m\u001b[0;34m\u001b[0m\u001b[0m\n",
      "\u001b[0;32m/tmp/ipykernel_619662/2450910342.py\u001b[0m in \u001b[0;36mconvert\u001b[0;34m(cfg, weights, saveto)\u001b[0m\n\u001b[1;32m      2\u001b[0m \u001b[0;32mdef\u001b[0m \u001b[0mconvert\u001b[0m\u001b[0;34m(\u001b[0m\u001b[0mcfg\u001b[0m\u001b[0;34m=\u001b[0m\u001b[0;34m'../models/yolov4-csp.cfg'\u001b[0m\u001b[0;34m,\u001b[0m \u001b[0mweights\u001b[0m\u001b[0;34m=\u001b[0m\u001b[0;34m'../runs/exp0_yolov4-csp-results/weights/best_yolov4-csp-results.pt'\u001b[0m\u001b[0;34m,\u001b[0m \u001b[0msaveto\u001b[0m\u001b[0;34m=\u001b[0m\u001b[0;34m'yolov4-csp-desk-800-100.weights'\u001b[0m\u001b[0;34m)\u001b[0m\u001b[0;34m:\u001b[0m\u001b[0;34m\u001b[0m\u001b[0;34m\u001b[0m\u001b[0m\n\u001b[1;32m      3\u001b[0m     \u001b[0;31m# Converts between PyTorch and Darknet format per extension (i.e. *.weights convert to *.pt and vice versa)\u001b[0m\u001b[0;34m\u001b[0m\u001b[0;34m\u001b[0m\u001b[0;34m\u001b[0m\u001b[0m\n\u001b[0;32m----> 4\u001b[0;31m     \u001b[0mconvert\u001b[0m\u001b[0;34m(\u001b[0m\u001b[0;34m'models/yolov4-csp.yaml'\u001b[0m\u001b[0;34m,\u001b[0m \u001b[0;34m'weights/yolov4-csp.weights'\u001b[0m\u001b[0;34m)\u001b[0m\u001b[0;34m\u001b[0m\u001b[0;34m\u001b[0m\u001b[0m\n\u001b[0m",
      "... last 1 frames repeated, from the frame below ...\n",
      "\u001b[0;32m/tmp/ipykernel_619662/2450910342.py\u001b[0m in \u001b[0;36mconvert\u001b[0;34m(cfg, weights, saveto)\u001b[0m\n\u001b[1;32m      2\u001b[0m \u001b[0;32mdef\u001b[0m \u001b[0mconvert\u001b[0m\u001b[0;34m(\u001b[0m\u001b[0mcfg\u001b[0m\u001b[0;34m=\u001b[0m\u001b[0;34m'../models/yolov4-csp.cfg'\u001b[0m\u001b[0;34m,\u001b[0m \u001b[0mweights\u001b[0m\u001b[0;34m=\u001b[0m\u001b[0;34m'../runs/exp0_yolov4-csp-results/weights/best_yolov4-csp-results.pt'\u001b[0m\u001b[0;34m,\u001b[0m \u001b[0msaveto\u001b[0m\u001b[0;34m=\u001b[0m\u001b[0;34m'yolov4-csp-desk-800-100.weights'\u001b[0m\u001b[0;34m)\u001b[0m\u001b[0;34m:\u001b[0m\u001b[0;34m\u001b[0m\u001b[0;34m\u001b[0m\u001b[0m\n\u001b[1;32m      3\u001b[0m     \u001b[0;31m# Converts between PyTorch and Darknet format per extension (i.e. *.weights convert to *.pt and vice versa)\u001b[0m\u001b[0;34m\u001b[0m\u001b[0;34m\u001b[0m\u001b[0;34m\u001b[0m\u001b[0m\n\u001b[0;32m----> 4\u001b[0;31m     \u001b[0mconvert\u001b[0m\u001b[0;34m(\u001b[0m\u001b[0;34m'models/yolov4-csp.yaml'\u001b[0m\u001b[0;34m,\u001b[0m \u001b[0;34m'weights/yolov4-csp.weights'\u001b[0m\u001b[0;34m)\u001b[0m\u001b[0;34m\u001b[0m\u001b[0;34m\u001b[0m\u001b[0m\n\u001b[0m",
      "\u001b[0;31mRecursionError\u001b[0m: maximum recursion depth exceeded"
     ]
    }
   ],
   "source": [
    "from models import *\n",
    "convert(cfg='../models/yolov4-csp.cfg', weights='../runs/exp26_yolov4-csp-/weights/best_yolov4-csp-.pt', saveto='yolov4-csp-desk-800-100.weights')\n",
    "    # Converts between PyTorch and Darknet format per extension (i.e. *.weights convert to *.pt and vice versa)\n",
    "    # from models import *; convert('cfg/yolov3-spp.cfg', 'weights/yolov3-spp.weights')"
   ]
  },
  {
   "cell_type": "code",
   "execution_count": null,
   "id": "3b518daa",
   "metadata": {},
   "outputs": [],
   "source": []
  }
 ],
 "metadata": {
  "kernelspec": {
   "display_name": "Python 3 (ipykernel)",
   "language": "python",
   "name": "python3"
  },
  "language_info": {
   "codemirror_mode": {
    "name": "ipython",
    "version": 3
   },
   "file_extension": ".py",
   "mimetype": "text/x-python",
   "name": "python",
   "nbconvert_exporter": "python",
   "pygments_lexer": "ipython3",
   "version": "3.7.12"
  }
 },
 "nbformat": 4,
 "nbformat_minor": 5
}
