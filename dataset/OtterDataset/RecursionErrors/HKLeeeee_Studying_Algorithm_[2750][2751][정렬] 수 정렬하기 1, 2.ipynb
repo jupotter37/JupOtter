{
 "cells": [
  {
   "cell_type": "markdown",
   "id": "8ce3a0a1",
   "metadata": {},
   "source": [
    "3/17\n",
    "# 수 정렬하기\n",
    "o(n^2)"
   ]
  },
  {
   "cell_type": "code",
   "execution_count": 2,
   "id": "5b93a845",
   "metadata": {},
   "outputs": [
    {
     "name": "stdout",
     "output_type": "stream",
     "text": [
      "1\n",
      "2\n",
      "3\n",
      "4\n",
      "5\n"
     ]
    }
   ],
   "source": [
    "N = int(input())\n",
    "lst = []\n",
    "\n",
    "for i in range(N) :\n",
    "    lst.append(int(input()))\n",
    "    \n",
    "lst.sort()\n",
    "\n",
    "for n in lst :\n",
    "    print(n)"
   ]
  },
  {
   "cell_type": "markdown",
   "id": "5613963a",
   "metadata": {},
   "source": [
    "- 선택정렬 : 항상 O(n^2)\n",
    "- 삽입정렬 : 최악의 경우 O(n^2), 최선의 경우 O(N)\n",
    "- 합병정렬 : O(NlogN)\n",
    "    - 합병정렬은 공간 복잡도가 O(N)\n",
    "    - 다른 정렬은 O(1)"
   ]
  },
  {
   "cell_type": "markdown",
   "id": "f11896a4",
   "metadata": {},
   "source": [
    "https://docs.python.org/ko/3/howto/sorting.html"
   ]
  },
  {
   "cell_type": "markdown",
   "id": "5ceb8842",
   "metadata": {},
   "source": [
    "3/18\n",
    "# 수 정렬하기 2\n",
    "o(nlogn)"
   ]
  },
  {
   "cell_type": "code",
   "execution_count": 45,
   "id": "40742cd7",
   "metadata": {},
   "outputs": [],
   "source": [
    "def mergesort(v : list, start, end) :\n",
    "    # start, end => index\n",
    "\n",
    "    if start == end :\n",
    "        return\n",
    "    # else\n",
    "    h = (start+end) // 2\n",
    "\n",
    "    # 분할\n",
    "    mergesort(v, start, h)\n",
    "    mergesort(v, h, end)\n",
    "\n",
    "    # 합병\n",
    "    i = start\n",
    "    j= h+1\n",
    "    temp = []\n",
    "\n",
    "    while i <= h and j <= end :\n",
    "        if v[i]<= v[j]:\n",
    "            temp.append(v[i])\n",
    "            i += 1\n",
    "        else : # v[i]>v[j]\n",
    "            temp.append(v[j])\n",
    "            j += 1\n",
    "\n",
    "    # i가 먼저 다 채워졌을떄\n",
    "    while j <= end :\n",
    "        temp.append(v[j])\n",
    "        j+=1\n",
    "    # j가 먼저 다 채워졌을때\n",
    "    while i <= h :\n",
    "        temp.append(v[i])\n",
    "        i+=1\n",
    "\n",
    "    #copy\n",
    "    for k in len(temp):\n",
    "        v[k] = temp[k]\n"
   ]
  },
  {
   "cell_type": "code",
   "execution_count": 46,
   "id": "ff6ee86e",
   "metadata": {
    "pycharm": {
     "name": "#%%\n"
    }
   },
   "outputs": [],
   "source": [
    "n = int(input())\n",
    "lst = []\n",
    "for i in range(n):\n",
    "    lst.append(int(input()))\n"
   ]
  },
  {
   "cell_type": "code",
   "execution_count": 41,
   "id": "3bb71434",
   "metadata": {
    "pycharm": {
     "name": "#%%\n"
    }
   },
   "outputs": [
    {
     "name": "stdout",
     "output_type": "stream",
     "text": [
      "[3, 2, 4, 5, 1]\n"
     ]
    }
   ],
   "source": [
    "print(lst)"
   ]
  },
  {
   "cell_type": "code",
   "execution_count": 47,
   "id": "951cac9c",
   "metadata": {
    "collapsed": true,
    "pycharm": {
     "name": "#%%\n"
    }
   },
   "outputs": [
    {
     "ename": "RecursionError",
     "evalue": "maximum recursion depth exceeded in comparison",
     "output_type": "error",
     "traceback": [
      "\u001B[1;31m---------------------------------------------------------------------------\u001B[0m",
      "\u001B[1;31mRecursionError\u001B[0m                            Traceback (most recent call last)",
      "Input \u001B[1;32mIn [47]\u001B[0m, in \u001B[0;36m<cell line: 1>\u001B[1;34m()\u001B[0m\n\u001B[1;32m----> 1\u001B[0m \u001B[43mmergesort\u001B[49m\u001B[43m(\u001B[49m\u001B[43mlst\u001B[49m\u001B[43m,\u001B[49m\u001B[43m \u001B[49m\u001B[38;5;241;43m0\u001B[39;49m\u001B[43m,\u001B[49m\u001B[43m \u001B[49m\u001B[43mn\u001B[49m\u001B[38;5;241;43m-\u001B[39;49m\u001B[38;5;241;43m1\u001B[39;49m\u001B[43m)\u001B[49m\n",
      "Input \u001B[1;32mIn [45]\u001B[0m, in \u001B[0;36mmergesort\u001B[1;34m(v, start, end)\u001B[0m\n\u001B[0;32m      7\u001B[0m h \u001B[38;5;241m=\u001B[39m (start\u001B[38;5;241m+\u001B[39mend) \u001B[38;5;241m/\u001B[39m\u001B[38;5;241m/\u001B[39m \u001B[38;5;241m2\u001B[39m\n\u001B[0;32m      9\u001B[0m \u001B[38;5;66;03m# 분할\u001B[39;00m\n\u001B[1;32m---> 10\u001B[0m \u001B[43mmergesort\u001B[49m\u001B[43m(\u001B[49m\u001B[43mv\u001B[49m\u001B[43m,\u001B[49m\u001B[43m \u001B[49m\u001B[43mstart\u001B[49m\u001B[43m,\u001B[49m\u001B[43m \u001B[49m\u001B[43mh\u001B[49m\u001B[43m)\u001B[49m\n\u001B[0;32m     11\u001B[0m mergesort(v, h, end)\n\u001B[0;32m     13\u001B[0m \u001B[38;5;66;03m# 합병\u001B[39;00m\n",
      "Input \u001B[1;32mIn [45]\u001B[0m, in \u001B[0;36mmergesort\u001B[1;34m(v, start, end)\u001B[0m\n\u001B[0;32m      7\u001B[0m h \u001B[38;5;241m=\u001B[39m (start\u001B[38;5;241m+\u001B[39mend) \u001B[38;5;241m/\u001B[39m\u001B[38;5;241m/\u001B[39m \u001B[38;5;241m2\u001B[39m\n\u001B[0;32m      9\u001B[0m \u001B[38;5;66;03m# 분할\u001B[39;00m\n\u001B[1;32m---> 10\u001B[0m \u001B[43mmergesort\u001B[49m\u001B[43m(\u001B[49m\u001B[43mv\u001B[49m\u001B[43m,\u001B[49m\u001B[43m \u001B[49m\u001B[43mstart\u001B[49m\u001B[43m,\u001B[49m\u001B[43m \u001B[49m\u001B[43mh\u001B[49m\u001B[43m)\u001B[49m\n\u001B[0;32m     11\u001B[0m mergesort(v, h, end)\n\u001B[0;32m     13\u001B[0m \u001B[38;5;66;03m# 합병\u001B[39;00m\n",
      "Input \u001B[1;32mIn [45]\u001B[0m, in \u001B[0;36mmergesort\u001B[1;34m(v, start, end)\u001B[0m\n\u001B[0;32m      9\u001B[0m \u001B[38;5;66;03m# 분할\u001B[39;00m\n\u001B[0;32m     10\u001B[0m mergesort(v, start, h)\n\u001B[1;32m---> 11\u001B[0m \u001B[43mmergesort\u001B[49m\u001B[43m(\u001B[49m\u001B[43mv\u001B[49m\u001B[43m,\u001B[49m\u001B[43m \u001B[49m\u001B[43mh\u001B[49m\u001B[43m,\u001B[49m\u001B[43m \u001B[49m\u001B[43mend\u001B[49m\u001B[43m)\u001B[49m\n\u001B[0;32m     13\u001B[0m \u001B[38;5;66;03m# 합병\u001B[39;00m\n\u001B[0;32m     14\u001B[0m i \u001B[38;5;241m=\u001B[39m start\n",
      "Input \u001B[1;32mIn [45]\u001B[0m, in \u001B[0;36mmergesort\u001B[1;34m(v, start, end)\u001B[0m\n\u001B[0;32m      9\u001B[0m \u001B[38;5;66;03m# 분할\u001B[39;00m\n\u001B[0;32m     10\u001B[0m mergesort(v, start, h)\n\u001B[1;32m---> 11\u001B[0m \u001B[43mmergesort\u001B[49m\u001B[43m(\u001B[49m\u001B[43mv\u001B[49m\u001B[43m,\u001B[49m\u001B[43m \u001B[49m\u001B[43mh\u001B[49m\u001B[43m,\u001B[49m\u001B[43m \u001B[49m\u001B[43mend\u001B[49m\u001B[43m)\u001B[49m\n\u001B[0;32m     13\u001B[0m \u001B[38;5;66;03m# 합병\u001B[39;00m\n\u001B[0;32m     14\u001B[0m i \u001B[38;5;241m=\u001B[39m start\n",
      "    \u001B[1;31m[... skipping similar frames: mergesort at line 11 (2966 times)]\u001B[0m\n",
      "Input \u001B[1;32mIn [45]\u001B[0m, in \u001B[0;36mmergesort\u001B[1;34m(v, start, end)\u001B[0m\n\u001B[0;32m      9\u001B[0m \u001B[38;5;66;03m# 분할\u001B[39;00m\n\u001B[0;32m     10\u001B[0m mergesort(v, start, h)\n\u001B[1;32m---> 11\u001B[0m \u001B[43mmergesort\u001B[49m\u001B[43m(\u001B[49m\u001B[43mv\u001B[49m\u001B[43m,\u001B[49m\u001B[43m \u001B[49m\u001B[43mh\u001B[49m\u001B[43m,\u001B[49m\u001B[43m \u001B[49m\u001B[43mend\u001B[49m\u001B[43m)\u001B[49m\n\u001B[0;32m     13\u001B[0m \u001B[38;5;66;03m# 합병\u001B[39;00m\n\u001B[0;32m     14\u001B[0m i \u001B[38;5;241m=\u001B[39m start\n",
      "Input \u001B[1;32mIn [45]\u001B[0m, in \u001B[0;36mmergesort\u001B[1;34m(v, start, end)\u001B[0m\n\u001B[0;32m      7\u001B[0m h \u001B[38;5;241m=\u001B[39m (start\u001B[38;5;241m+\u001B[39mend) \u001B[38;5;241m/\u001B[39m\u001B[38;5;241m/\u001B[39m \u001B[38;5;241m2\u001B[39m\n\u001B[0;32m      9\u001B[0m \u001B[38;5;66;03m# 분할\u001B[39;00m\n\u001B[1;32m---> 10\u001B[0m \u001B[43mmergesort\u001B[49m\u001B[43m(\u001B[49m\u001B[43mv\u001B[49m\u001B[43m,\u001B[49m\u001B[43m \u001B[49m\u001B[43mstart\u001B[49m\u001B[43m,\u001B[49m\u001B[43m \u001B[49m\u001B[43mh\u001B[49m\u001B[43m)\u001B[49m\n\u001B[0;32m     11\u001B[0m mergesort(v, h, end)\n\u001B[0;32m     13\u001B[0m \u001B[38;5;66;03m# 합병\u001B[39;00m\n",
      "Input \u001B[1;32mIn [45]\u001B[0m, in \u001B[0;36mmergesort\u001B[1;34m(v, start, end)\u001B[0m\n\u001B[0;32m      1\u001B[0m \u001B[38;5;28;01mdef\u001B[39;00m \u001B[38;5;21mmergesort\u001B[39m(v : \u001B[38;5;28mlist\u001B[39m, start, end) :\n\u001B[0;32m      2\u001B[0m     \u001B[38;5;66;03m# start, end => index\u001B[39;00m\n\u001B[1;32m----> 4\u001B[0m     \u001B[38;5;28;01mif\u001B[39;00m \u001B[43mstart\u001B[49m\u001B[43m \u001B[49m\u001B[38;5;241;43m==\u001B[39;49m\u001B[43m \u001B[49m\u001B[43mend\u001B[49m :\n\u001B[0;32m      5\u001B[0m         \u001B[38;5;28;01mreturn\u001B[39;00m\n\u001B[0;32m      6\u001B[0m     \u001B[38;5;66;03m# else\u001B[39;00m\n",
      "\u001B[1;31mRecursionError\u001B[0m: maximum recursion depth exceeded in comparison"
     ]
    }
   ],
   "source": [
    "mergesort(lst, 0, n-1)"
   ]
  },
  {
   "cell_type": "markdown",
   "id": "2f35b8b0",
   "metadata": {},
   "source": [
    "왜 안될까??\n",
    "\n",
    "maximum recursion depth exceeded in comparison\n",
    "or\n",
    "index error가 나오는데\n",
    "이유를 모르겠음...\n"
   ]
  },
  {
   "cell_type": "markdown",
   "id": "ec3ffa40",
   "metadata": {},
   "source": [
    "#### Another way"
   ]
  },
  {
   "cell_type": "code",
   "execution_count": 48,
   "id": "ca3e6bd9",
   "metadata": {
    "pycharm": {
     "name": "#%%\n"
    }
   },
   "outputs": [
    {
     "name": "stdout",
     "output_type": "stream",
     "text": [
      "[1, 2, 3, 4, 5]\n"
     ]
    }
   ],
   "source": [
    "def merge_sort(v : list):\n",
    "    n = len(v)\n",
    "\n",
    "    if n<=1 : return\n",
    "\n",
    "    mid = n // 2\n",
    "    left = v[:mid]\n",
    "    right = v[mid:]\n",
    "\n",
    "    merge_sort(left)\n",
    "    merge_sort(right)\n",
    "\n",
    "    i = 0\n",
    "    j = 0\n",
    "    temp = []\n",
    "\n",
    "    while i < len(left) and j < len(right) :\n",
    "        if left[i] <= right[j] :\n",
    "            temp.append(left[i])\n",
    "            i += 1\n",
    "        else :\n",
    "            temp.append(right[j])\n",
    "            j += 1\n",
    "\n",
    "    while i < len(left):\n",
    "        temp.append(left[i])\n",
    "        i += 1\n",
    "    while j < len(right) :\n",
    "        temp.append(right[j])\n",
    "        j += 1\n",
    "\n",
    "    for k in range(len(temp)):\n",
    "        v[k] = temp[k]\n",
    "\n",
    "if __name__ == '__main__':\n",
    "    n = int(input())\n",
    "    numbers = [int(input()) for i in range(n)]\n",
    "\n",
    "    merge_sort(numbers)\n",
    "\n",
    "    print(numbers)"
   ]
  },
  {
   "cell_type": "markdown",
   "id": "3d376785",
   "metadata": {
    "pycharm": {
     "name": "#%% md\n"
    }
   },
   "source": [
    "## 분할 정복은 성공\n",
    "백준 시간초과...  \n",
    "마지막에 배열 복사하는 것 제거해보기"
   ]
  },
  {
   "cell_type": "code",
   "execution_count": 1,
   "id": "eb8641aa",
   "metadata": {},
   "outputs": [
    {
     "name": "stdout",
     "output_type": "stream",
     "text": [
      "5\n",
      "2\n",
      "3\n",
      "1\n",
      "4\n",
      "5\n",
      "[1, 2, 3, 4, 5]\n"
     ]
    }
   ],
   "source": [
    "def merge_sort(v : list):\n",
    "    n = len(v)\n",
    "\n",
    "    if n<=1 : return\n",
    "\n",
    "    mid = n // 2\n",
    "    left = v[:mid]\n",
    "    right = v[mid:]\n",
    "\n",
    "    merge_sort(left)\n",
    "    merge_sort(right)\n",
    "\n",
    "    i = 0\n",
    "    j = 0\n",
    "    k = 0\n",
    "\n",
    "    while i < len(left) and j < len(right) :\n",
    "        if left[i] <= right[j] :\n",
    "            v[k] = left[i]\n",
    "            i += 1\n",
    "            k += 1\n",
    "        else :\n",
    "            v[k] = right[j]\n",
    "            j += 1\n",
    "            k += 1\n",
    "\n",
    "    while i < len(left):\n",
    "        v[k] = left[i]\n",
    "        i += 1\n",
    "        k += 1\n",
    "    while j < len(right) :\n",
    "        v[k] = right[j]\n",
    "        j += 1\n",
    "        k += 1\n",
    "\n",
    "\n",
    "n = int(input())\n",
    "numbers = [int(input()) for i in range(n)]\n",
    "\n",
    "merge_sort(numbers)\n",
    "\n",
    "print(numbers)"
   ]
  },
  {
   "cell_type": "markdown",
   "id": "340738b1",
   "metadata": {},
   "source": [
    "계속 시간초과가 난다.."
   ]
  },
  {
   "cell_type": "markdown",
   "id": "49eb3194",
   "metadata": {},
   "source": [
    "```python \n",
    "import sys\n",
    "n = int(input())\n",
    "l = []\n",
    "for i in range(n):\n",
    "    l.append(int(sys.stdin.readline()))\n",
    "for i in sorted(l):\n",
    "    sys.stdout.write(str(i)+'\\n')\n",
    "```\n",
    "\n",
    "출처 https://chancoding.tistory.com/19\n",
    "\n",
    "찾아보니 sorted method랑 input 시간을 줄이기 위해서 stdin을 사용했다."
   ]
  },
  {
   "cell_type": "code",
   "execution_count": 3,
   "id": "08f6388b",
   "metadata": {},
   "outputs": [
    {
     "ename": "ValueError",
     "evalue": "invalid literal for int() with base 10: ''",
     "output_type": "error",
     "traceback": [
      "\u001B[1;31m---------------------------------------------------------------------------\u001B[0m",
      "\u001B[1;31mValueError\u001B[0m                                Traceback (most recent call last)",
      "\u001B[1;32mC:\\Users\\ADMINI~1\\AppData\\Local\\Temp/ipykernel_5340/1559119968.py\u001B[0m in \u001B[0;36m<module>\u001B[1;34m\u001B[0m\n\u001B[0;32m      1\u001B[0m \u001B[1;32mimport\u001B[0m \u001B[0msys\u001B[0m\u001B[1;33m\u001B[0m\u001B[1;33m\u001B[0m\u001B[0m\n\u001B[0;32m      2\u001B[0m \u001B[1;33m\u001B[0m\u001B[0m\n\u001B[1;32m----> 3\u001B[1;33m \u001B[0mn\u001B[0m \u001B[1;33m=\u001B[0m \u001B[0mint\u001B[0m\u001B[1;33m(\u001B[0m\u001B[0msys\u001B[0m\u001B[1;33m.\u001B[0m\u001B[0mstdin\u001B[0m\u001B[1;33m.\u001B[0m\u001B[0mreadline\u001B[0m\u001B[1;33m(\u001B[0m\u001B[1;33m)\u001B[0m\u001B[1;33m)\u001B[0m\u001B[1;33m\u001B[0m\u001B[1;33m\u001B[0m\u001B[0m\n\u001B[0m\u001B[0;32m      4\u001B[0m \u001B[1;33m\u001B[0m\u001B[0m\n\u001B[0;32m      5\u001B[0m \u001B[0mnum\u001B[0m \u001B[1;33m=\u001B[0m \u001B[1;33m[\u001B[0m\u001B[1;33m]\u001B[0m\u001B[1;33m\u001B[0m\u001B[1;33m\u001B[0m\u001B[0m\n",
      "\u001B[1;31mValueError\u001B[0m: invalid literal for int() with base 10: ''"
     ]
    }
   ],
   "source": [
    "import sys\n",
    "\n",
    "n = int(sys.stdin.readline())\n",
    "\n",
    "num = []\n",
    "for _ in range(n) :\n",
    "    num.append(int(sys.stdin.readline()))\n",
    "for i in sorted(num) :\n",
    "    sys.stdout.write(str(i)+'\\n') ## 개행은 \\n 이 가장 빠르다"
   ]
  },
  {
   "cell_type": "markdown",
   "id": "092b06ea",
   "metadata": {},
   "source": [
    "그런데 주피터 노트북에서는 stdin을 사용할 수 없다."
   ]
  },
  {
   "cell_type": "code",
   "execution_count": null,
   "id": "89a79b4e",
   "metadata": {},
   "outputs": [],
   "source": []
  }
 ],
 "metadata": {
  "kernelspec": {
   "display_name": "Python 3 (ipykernel)",
   "language": "python",
   "name": "python3"
  },
  "language_info": {
   "codemirror_mode": {
    "name": "ipython",
    "version": 3
   },
   "file_extension": ".py",
   "mimetype": "text/x-python",
   "name": "python",
   "nbconvert_exporter": "python",
   "pygments_lexer": "ipython3",
   "version": "3.9.7"
  }
 },
 "nbformat": 4,
 "nbformat_minor": 5
}