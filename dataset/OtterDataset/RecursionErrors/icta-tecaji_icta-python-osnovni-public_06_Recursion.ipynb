{
 "cells": [
  {
   "cell_type": "markdown",
   "id": "504ce2cf",
   "metadata": {},
   "source": [
    "# Recursion in Python"
   ]
  },
  {
   "cell_type": "markdown",
   "id": "b35c121b",
   "metadata": {},
   "source": [
    "    PREDNIK = TVOJ_STARŠ + PREDNIK(TVOJ_STARŠ)"
   ]
  },
  {
   "cell_type": "code",
   "execution_count": 2,
   "id": "0c0e4813",
   "metadata": {},
   "outputs": [],
   "source": [
    "def function():\n",
    "    x = 10\n",
    "    function()"
   ]
  },
  {
   "cell_type": "code",
   "execution_count": 3,
   "id": "6f3f19e6",
   "metadata": {},
   "outputs": [
    {
     "ename": "RecursionError",
     "evalue": "maximum recursion depth exceeded",
     "output_type": "error",
     "traceback": [
      "\u001b[0;31m---------------------------------------------------------------------------\u001b[0m",
      "\u001b[0;31mRecursionError\u001b[0m                            Traceback (most recent call last)",
      "Input \u001b[0;32mIn [3]\u001b[0m, in \u001b[0;36m<cell line: 1>\u001b[0;34m()\u001b[0m\n\u001b[0;32m----> 1\u001b[0m \u001b[43mfunction\u001b[49m\u001b[43m(\u001b[49m\u001b[43m)\u001b[49m\n",
      "Input \u001b[0;32mIn [2]\u001b[0m, in \u001b[0;36mfunction\u001b[0;34m()\u001b[0m\n\u001b[1;32m      1\u001b[0m \u001b[38;5;28;01mdef\u001b[39;00m \u001b[38;5;21mfunction\u001b[39m():\n\u001b[1;32m      2\u001b[0m     x \u001b[38;5;241m=\u001b[39m \u001b[38;5;241m10\u001b[39m\n\u001b[0;32m----> 3\u001b[0m     \u001b[43mfunction\u001b[49m\u001b[43m(\u001b[49m\u001b[43m)\u001b[49m\n",
      "Input \u001b[0;32mIn [2]\u001b[0m, in \u001b[0;36mfunction\u001b[0;34m()\u001b[0m\n\u001b[1;32m      1\u001b[0m \u001b[38;5;28;01mdef\u001b[39;00m \u001b[38;5;21mfunction\u001b[39m():\n\u001b[1;32m      2\u001b[0m     x \u001b[38;5;241m=\u001b[39m \u001b[38;5;241m10\u001b[39m\n\u001b[0;32m----> 3\u001b[0m     \u001b[43mfunction\u001b[49m\u001b[43m(\u001b[49m\u001b[43m)\u001b[49m\n",
      "    \u001b[0;31m[... skipping similar frames: function at line 3 (2970 times)]\u001b[0m\n",
      "Input \u001b[0;32mIn [2]\u001b[0m, in \u001b[0;36mfunction\u001b[0;34m()\u001b[0m\n\u001b[1;32m      1\u001b[0m \u001b[38;5;28;01mdef\u001b[39;00m \u001b[38;5;21mfunction\u001b[39m():\n\u001b[1;32m      2\u001b[0m     x \u001b[38;5;241m=\u001b[39m \u001b[38;5;241m10\u001b[39m\n\u001b[0;32m----> 3\u001b[0m     \u001b[43mfunction\u001b[49m\u001b[43m(\u001b[49m\u001b[43m)\u001b[49m\n",
      "\u001b[0;31mRecursionError\u001b[0m: maximum recursion depth exceeded"
     ]
    }
   ],
   "source": [
    "function()"
   ]
  },
  {
   "cell_type": "code",
   "execution_count": 4,
   "id": "f990a1e8",
   "metadata": {},
   "outputs": [
    {
     "data": {
      "text/plain": [
       "3000"
      ]
     },
     "execution_count": 4,
     "metadata": {},
     "output_type": "execute_result"
    }
   ],
   "source": [
    "from sys import getrecursionlimit\n",
    "\n",
    "getrecursionlimit()"
   ]
  },
  {
   "cell_type": "code",
   "execution_count": 5,
   "id": "ec312f34",
   "metadata": {},
   "outputs": [
    {
     "data": {
      "text/plain": [
       "2000"
      ]
     },
     "execution_count": 5,
     "metadata": {},
     "output_type": "execute_result"
    }
   ],
   "source": [
    "from sys import setrecursionlimit\n",
    "\n",
    "setrecursionlimit(2000)\n",
    "getrecursionlimit()"
   ]
  },
  {
   "cell_type": "markdown",
   "id": "6d886053",
   "metadata": {},
   "source": [
    "## Odšetvanje"
   ]
  },
  {
   "cell_type": "code",
   "execution_count": 9,
   "id": "e42bad08",
   "metadata": {},
   "outputs": [],
   "source": [
    "def countdown(n):\n",
    "    print(n)\n",
    "    if n == 0:\n",
    "        return # Končni klic\n",
    "    else:\n",
    "        print(f\"Klic countdown({n-1})\")\n",
    "        countdown(n-1) #Rekruzivni klic"
   ]
  },
  {
   "cell_type": "code",
   "execution_count": 10,
   "id": "113986f7",
   "metadata": {},
   "outputs": [
    {
     "name": "stdout",
     "output_type": "stream",
     "text": [
      "7\n",
      "Klic countdown(6)\n",
      "6\n",
      "Klic countdown(5)\n",
      "5\n",
      "Klic countdown(4)\n",
      "4\n",
      "Klic countdown(3)\n",
      "3\n",
      "Klic countdown(2)\n",
      "2\n",
      "Klic countdown(1)\n",
      "1\n",
      "Klic countdown(0)\n",
      "0\n"
     ]
    }
   ],
   "source": [
    "countdown(7)"
   ]
  },
  {
   "cell_type": "code",
   "execution_count": 11,
   "id": "05b3000b",
   "metadata": {},
   "outputs": [],
   "source": [
    "def countdown(n):\n",
    "    print(n)\n",
    "    if n > 0:\n",
    "        countdown(n-1) #Rekruzivni klic"
   ]
  },
  {
   "cell_type": "code",
   "execution_count": 12,
   "id": "34b51ada",
   "metadata": {},
   "outputs": [
    {
     "name": "stdout",
     "output_type": "stream",
     "text": [
      "7\n",
      "6\n",
      "5\n",
      "4\n",
      "3\n",
      "2\n",
      "1\n",
      "0\n"
     ]
    }
   ],
   "source": [
    "countdown(7)"
   ]
  },
  {
   "cell_type": "code",
   "execution_count": 13,
   "id": "2ff1b2bb",
   "metadata": {},
   "outputs": [],
   "source": [
    "def non_r_countdown(n):\n",
    "    while n >= 0:\n",
    "        print(n)\n",
    "        n -= 1"
   ]
  },
  {
   "cell_type": "code",
   "execution_count": 14,
   "id": "83ebbed3",
   "metadata": {},
   "outputs": [
    {
     "name": "stdout",
     "output_type": "stream",
     "text": [
      "7\n",
      "6\n",
      "5\n",
      "4\n",
      "3\n",
      "2\n",
      "1\n",
      "0\n"
     ]
    }
   ],
   "source": [
    "non_r_countdown(7)"
   ]
  },
  {
   "cell_type": "markdown",
   "id": "e2f492e3",
   "metadata": {},
   "source": [
    "## Factorial"
   ]
  },
  {
   "cell_type": "markdown",
   "id": "86eb37a3",
   "metadata": {},
   "source": [
    "    3! = 1 * 2 * 3 \n",
    "    4! = 1 * 2 * 3 * 4"
   ]
  },
  {
   "cell_type": "markdown",
   "id": "68ecb211",
   "metadata": {},
   "source": [
    "    4! = 4 * 3!\n",
    "    3! = 3 * 2!\n",
    "    2! = 2 * 1!\n",
    "    1! = 1"
   ]
  },
  {
   "cell_type": "markdown",
   "id": "628f9769",
   "metadata": {},
   "source": [
    "    factorial(4!) = 4 * factorial(3!)"
   ]
  },
  {
   "cell_type": "code",
   "execution_count": 15,
   "id": "67ae8dbe",
   "metadata": {},
   "outputs": [],
   "source": [
    "def factorial(n):\n",
    "    if n < 1:\n",
    "        return 1\n",
    "    else:\n",
    "        return n * factorial(n-1)"
   ]
  },
  {
   "cell_type": "code",
   "execution_count": 18,
   "id": "a14b82ed",
   "metadata": {},
   "outputs": [
    {
     "data": {
      "text/plain": [
       "24"
      ]
     },
     "execution_count": 18,
     "metadata": {},
     "output_type": "execute_result"
    }
   ],
   "source": [
    "factorial(4)"
   ]
  },
  {
   "cell_type": "code",
   "execution_count": 19,
   "id": "8193313f",
   "metadata": {},
   "outputs": [],
   "source": [
    "def factorial(n):\n",
    "    return 1 if n < 1 else n * factorial(n-1)"
   ]
  },
  {
   "cell_type": "code",
   "execution_count": 21,
   "id": "fcb9d047",
   "metadata": {},
   "outputs": [
    {
     "data": {
      "text/plain": [
       "815915283247897734345611269596115894272000000000"
      ]
     },
     "execution_count": 21,
     "metadata": {},
     "output_type": "execute_result"
    }
   ],
   "source": [
    "factorial(40)"
   ]
  },
  {
   "cell_type": "code",
   "execution_count": 22,
   "id": "a3ace6a3",
   "metadata": {},
   "outputs": [],
   "source": [
    "def factorial(n):\n",
    "    print(f\"Fakulteta() klicana z = {n}\")\n",
    "    return_value =  1 if n < 1 else n * factorial(n-1)\n",
    "    print(f\"-> Fakulteta({n}) vrne {return_value}\")\n",
    "    return return_value"
   ]
  },
  {
   "cell_type": "code",
   "execution_count": 23,
   "id": "242c5135",
   "metadata": {},
   "outputs": [
    {
     "name": "stdout",
     "output_type": "stream",
     "text": [
      "Fakulteta() klicana z = 6\n",
      "Fakulteta() klicana z = 5\n",
      "Fakulteta() klicana z = 4\n",
      "Fakulteta() klicana z = 3\n",
      "Fakulteta() klicana z = 2\n",
      "Fakulteta() klicana z = 1\n",
      "Fakulteta() klicana z = 0\n",
      "-> Fakulteta(0) vrne 1\n",
      "-> Fakulteta(1) vrne 1\n",
      "-> Fakulteta(2) vrne 2\n",
      "-> Fakulteta(3) vrne 6\n",
      "-> Fakulteta(4) vrne 24\n",
      "-> Fakulteta(5) vrne 120\n",
      "-> Fakulteta(6) vrne 720\n"
     ]
    },
    {
     "data": {
      "text/plain": [
       "720"
      ]
     },
     "execution_count": 23,
     "metadata": {},
     "output_type": "execute_result"
    }
   ],
   "source": [
    "factorial(6)"
   ]
  },
  {
   "cell_type": "code",
   "execution_count": 24,
   "id": "aebd47ac",
   "metadata": {},
   "outputs": [],
   "source": [
    "def non_r_factorial(n):\n",
    "    return_value = 1\n",
    "    for i in range(2, n + 1):\n",
    "        return_value *= i\n",
    "    return return_value"
   ]
  },
  {
   "cell_type": "code",
   "execution_count": 25,
   "id": "0852b0dd",
   "metadata": {},
   "outputs": [
    {
     "data": {
      "text/plain": [
       "720"
      ]
     },
     "execution_count": 25,
     "metadata": {},
     "output_type": "execute_result"
    }
   ],
   "source": [
    "non_r_factorial(6)"
   ]
  },
  {
   "cell_type": "markdown",
   "id": "977cea11",
   "metadata": {},
   "source": [
    "## Primerjava hitrosti"
   ]
  },
  {
   "cell_type": "code",
   "execution_count": 26,
   "id": "a3c94cf4",
   "metadata": {},
   "outputs": [],
   "source": [
    "def factorial(n):\n",
    "    return 1 if n < 1 else n * factorial(n-1)"
   ]
  },
  {
   "cell_type": "code",
   "execution_count": 27,
   "id": "8f8aaee2",
   "metadata": {},
   "outputs": [],
   "source": [
    "def non_r_factorial(n):\n",
    "    return_value = 1\n",
    "    for i in range(2, n + 1):\n",
    "        return_value *= i\n",
    "    return return_value"
   ]
  },
  {
   "cell_type": "code",
   "execution_count": 28,
   "id": "b0286cf6",
   "metadata": {},
   "outputs": [
    {
     "name": "stdout",
     "output_type": "stream",
     "text": [
      "5.99 µs ± 50 ns per loop (mean ± std. dev. of 7 runs, 100,000 loops each)\n"
     ]
    }
   ],
   "source": [
    "%%timeit \n",
    "factorial(20)"
   ]
  },
  {
   "cell_type": "code",
   "execution_count": 29,
   "id": "6039c61c",
   "metadata": {},
   "outputs": [
    {
     "name": "stdout",
     "output_type": "stream",
     "text": [
      "2.3 µs ± 7.12 ns per loop (mean ± std. dev. of 7 runs, 100,000 loops each)\n"
     ]
    }
   ],
   "source": [
    "%%timeit \n",
    "non_r_factorial(20)"
   ]
  },
  {
   "cell_type": "code",
   "execution_count": 31,
   "id": "848b2d06",
   "metadata": {},
   "outputs": [],
   "source": [
    "from math import factorial"
   ]
  },
  {
   "cell_type": "code",
   "execution_count": 32,
   "id": "ff42103c",
   "metadata": {},
   "outputs": [
    {
     "name": "stdout",
     "output_type": "stream",
     "text": [
      "133 ns ± 5.93 ns per loop (mean ± std. dev. of 7 runs, 10,000,000 loops each)\n"
     ]
    }
   ],
   "source": [
    "%%timeit \n",
    "factorial(20)"
   ]
  },
  {
   "cell_type": "markdown",
   "id": "ad01a373",
   "metadata": {},
   "source": [
    "## Sprehod skozi gnezdene sezname"
   ]
  },
  {
   "cell_type": "code",
   "execution_count": 33,
   "id": "88f69e70",
   "metadata": {},
   "outputs": [],
   "source": [
    "names = [\"Janez\", [\"Franc\", [\"Metka\", \"Tine\"], \"Jaka\", \"Blaž\"], \"Aleks\", [\"Simon\", \"Urban\"], \"Anja\"]"
   ]
  },
  {
   "cell_type": "code",
   "execution_count": 34,
   "id": "a5e7dd70",
   "metadata": {},
   "outputs": [
    {
     "data": {
      "text/plain": [
       "['Janez',\n",
       " ['Franc', ['Metka', 'Tine'], 'Jaka', 'Blaž'],\n",
       " 'Aleks',\n",
       " ['Simon', 'Urban'],\n",
       " 'Anja']"
      ]
     },
     "execution_count": 34,
     "metadata": {},
     "output_type": "execute_result"
    }
   ],
   "source": [
    "names"
   ]
  },
  {
   "cell_type": "code",
   "execution_count": 35,
   "id": "c840c1d5",
   "metadata": {},
   "outputs": [
    {
     "data": {
      "text/plain": [
       "'Janez'"
      ]
     },
     "execution_count": 35,
     "metadata": {},
     "output_type": "execute_result"
    }
   ],
   "source": [
    "names[0]"
   ]
  },
  {
   "cell_type": "code",
   "execution_count": 36,
   "id": "4d861a5a",
   "metadata": {},
   "outputs": [
    {
     "data": {
      "text/plain": [
       "['Franc', ['Metka', 'Tine'], 'Jaka', 'Blaž']"
      ]
     },
     "execution_count": 36,
     "metadata": {},
     "output_type": "execute_result"
    }
   ],
   "source": [
    "names[1]"
   ]
  },
  {
   "cell_type": "code",
   "execution_count": 37,
   "id": "687ccc32",
   "metadata": {},
   "outputs": [
    {
     "data": {
      "text/plain": [
       "['Metka', 'Tine']"
      ]
     },
     "execution_count": 37,
     "metadata": {},
     "output_type": "execute_result"
    }
   ],
   "source": [
    "names[1][1]"
   ]
  },
  {
   "cell_type": "code",
   "execution_count": 38,
   "id": "db96e4fc",
   "metadata": {},
   "outputs": [
    {
     "data": {
      "text/plain": [
       "5"
      ]
     },
     "execution_count": 38,
     "metadata": {},
     "output_type": "execute_result"
    }
   ],
   "source": [
    "len(names)"
   ]
  },
  {
   "cell_type": "code",
   "execution_count": 40,
   "id": "4861af64",
   "metadata": {},
   "outputs": [
    {
     "name": "stdout",
     "output_type": "stream",
     "text": [
      "0 Janez\n",
      "1 ['Franc', ['Metka', 'Tine'], 'Jaka', 'Blaž']\n",
      "2 Aleks\n",
      "3 ['Simon', 'Urban']\n",
      "4 Anja\n"
     ]
    }
   ],
   "source": [
    "for index, item in enumerate(names):\n",
    "    print(index, item)"
   ]
  },
  {
   "cell_type": "code",
   "execution_count": 61,
   "id": "149a2ca3",
   "metadata": {},
   "outputs": [],
   "source": [
    "def count_leaf_items(item_list):\n",
    "    count = 0\n",
    "    print(\"----------------------\")\n",
    "    print(f\"Trenuten list: {item_list}\")\n",
    "    for item in item_list:\n",
    "        if isinstance(item, list):\n",
    "            print(f\"Najden podlist: {item}\")\n",
    "            count += count_leaf_items(item)\n",
    "            print(f\"Trenutno skupno štetje: {count}\")\n",
    "        else:\n",
    "            print(f\"najden končni element: {item}\")\n",
    "            count += 1\n",
    "            print(f\"Trenutno skupno štetje: {count}\")\n",
    "    print(f\"Vračanje štetja: {count}\")\n",
    "    return count"
   ]
  },
  {
   "cell_type": "code",
   "execution_count": 55,
   "id": "2115099e",
   "metadata": {},
   "outputs": [
    {
     "name": "stdout",
     "output_type": "stream",
     "text": [
      "Trenuten list: [1, 2, 3, 4]\n",
      "najden končni element: 1\n",
      "najden končni element: 2\n",
      "najden končni element: 3\n",
      "najden končni element: 4\n",
      "Vračanje štetja: 4\n"
     ]
    },
    {
     "data": {
      "text/plain": [
       "4"
      ]
     },
     "execution_count": 55,
     "metadata": {},
     "output_type": "execute_result"
    }
   ],
   "source": [
    "count_leaf_items([1, 2, 3 ,4])"
   ]
  },
  {
   "cell_type": "code",
   "execution_count": 56,
   "id": "b6bd60c1",
   "metadata": {},
   "outputs": [
    {
     "name": "stdout",
     "output_type": "stream",
     "text": [
      "Trenuten list: [1, [2, 3], 4]\n",
      "najden končni element: 1\n",
      "Najden podlist: [2, 3]\n",
      "Trenuten list: [2, 3]\n",
      "najden končni element: 2\n",
      "najden končni element: 3\n",
      "Vračanje štetja: 2\n",
      "najden končni element: 4\n",
      "Vračanje štetja: 4\n"
     ]
    },
    {
     "data": {
      "text/plain": [
       "4"
      ]
     },
     "execution_count": 56,
     "metadata": {},
     "output_type": "execute_result"
    }
   ],
   "source": [
    "count_leaf_items([1, [2, 3] ,4])"
   ]
  },
  {
   "cell_type": "code",
   "execution_count": 57,
   "id": "e8bd081d",
   "metadata": {},
   "outputs": [
    {
     "name": "stdout",
     "output_type": "stream",
     "text": [
      "Trenuten list: []\n",
      "Vračanje štetja: 0\n"
     ]
    },
    {
     "data": {
      "text/plain": [
       "0"
      ]
     },
     "execution_count": 57,
     "metadata": {},
     "output_type": "execute_result"
    }
   ],
   "source": [
    "count_leaf_items([])"
   ]
  },
  {
   "cell_type": "code",
   "execution_count": 62,
   "id": "f203cd00",
   "metadata": {},
   "outputs": [
    {
     "name": "stdout",
     "output_type": "stream",
     "text": [
      "----------------------\n",
      "Trenuten list: ['Janez', ['Franc', ['Metka', 'Tine'], 'Jaka', 'Blaž'], 'Aleks', ['Simon', 'Urban'], 'Anja']\n",
      "najden končni element: Janez\n",
      "Trenutno skupno štetje: 1\n",
      "Najden podlist: ['Franc', ['Metka', 'Tine'], 'Jaka', 'Blaž']\n",
      "----------------------\n",
      "Trenuten list: ['Franc', ['Metka', 'Tine'], 'Jaka', 'Blaž']\n",
      "najden končni element: Franc\n",
      "Trenutno skupno štetje: 1\n",
      "Najden podlist: ['Metka', 'Tine']\n",
      "----------------------\n",
      "Trenuten list: ['Metka', 'Tine']\n",
      "najden končni element: Metka\n",
      "Trenutno skupno štetje: 1\n",
      "najden končni element: Tine\n",
      "Trenutno skupno štetje: 2\n",
      "Vračanje štetja: 2\n",
      "Trenutno skupno štetje: 3\n",
      "najden končni element: Jaka\n",
      "Trenutno skupno štetje: 4\n",
      "najden končni element: Blaž\n",
      "Trenutno skupno štetje: 5\n",
      "Vračanje štetja: 5\n",
      "Trenutno skupno štetje: 6\n",
      "najden končni element: Aleks\n",
      "Trenutno skupno štetje: 7\n",
      "Najden podlist: ['Simon', 'Urban']\n",
      "----------------------\n",
      "Trenuten list: ['Simon', 'Urban']\n",
      "najden končni element: Simon\n",
      "Trenutno skupno štetje: 1\n",
      "najden končni element: Urban\n",
      "Trenutno skupno štetje: 2\n",
      "Vračanje štetja: 2\n",
      "Trenutno skupno štetje: 9\n",
      "najden končni element: Anja\n",
      "Trenutno skupno štetje: 10\n",
      "Vračanje štetja: 10\n"
     ]
    },
    {
     "data": {
      "text/plain": [
       "10"
      ]
     },
     "execution_count": 62,
     "metadata": {},
     "output_type": "execute_result"
    }
   ],
   "source": [
    "count_leaf_items(names)"
   ]
  },
  {
   "cell_type": "code",
   "execution_count": null,
   "id": "fd4d4a06",
   "metadata": {},
   "outputs": [],
   "source": []
  },
  {
   "cell_type": "code",
   "execution_count": null,
   "id": "d279a140",
   "metadata": {},
   "outputs": [],
   "source": []
  },
  {
   "cell_type": "code",
   "execution_count": null,
   "id": "d6950d43",
   "metadata": {},
   "outputs": [],
   "source": []
  },
  {
   "cell_type": "code",
   "execution_count": null,
   "id": "5f5cae29",
   "metadata": {},
   "outputs": [],
   "source": []
  }
 ],
 "metadata": {
  "kernelspec": {
   "display_name": "Python 3 (ipykernel)",
   "language": "python",
   "name": "python3"
  },
  "language_info": {
   "codemirror_mode": {
    "name": "ipython",
    "version": 3
   },
   "file_extension": ".py",
   "mimetype": "text/x-python",
   "name": "python",
   "nbconvert_exporter": "python",
   "pygments_lexer": "ipython3",
   "version": "3.9.0"
  }
 },
 "nbformat": 4,
 "nbformat_minor": 5
}
