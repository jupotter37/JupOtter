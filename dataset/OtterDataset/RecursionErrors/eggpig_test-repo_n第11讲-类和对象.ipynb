{
 "cells": [
  {
   "cell_type": "markdown",
   "metadata": {
    "tags": []
   },
   "source": [
    "# 第11讲 类和对象"
   ]
  },
  {
   "cell_type": "markdown",
   "metadata": {},
   "source": [
    "- 本讲预计2周完成"
   ]
  },
  {
   "cell_type": "markdown",
   "metadata": {
    "toc-hr-collapsed": true
   },
   "source": [
    "## <font size=5><span id=\"11.1\"> 11.1 前言</span></font>"
   ]
  },
  {
   "cell_type": "markdown",
   "metadata": {},
   "source": [
    "### <font size=4.5><span id=\"11.1.1\"> 11.1.1 面向对象vs面向过程</span></font>"
   ]
  },
  {
   "cell_type": "markdown",
   "metadata": {},
   "source": [
    "- 面向对象程序设计（Object-oriented programming，OOP）是一种程序设计范型，也是一种程序开发方法。   \n",
    "\n",
    "<img src = \"images\\chapter11\\compare.jpg\" width=500>\n",
    "\n",
    "\n",
    "<font size=5>$$面向过程与面向对象编程的差别$$</font>"
   ]
  },
  {
   "cell_type": "markdown",
   "metadata": {},
   "source": [
    "|<img src = \"images\\chapter11\\lizi.jpg\" width=200>|  <img src = \"images\\chapter11\\wzq.jpg\" width=300>   |\n",
    "| :----------------------------------------------------------: | :----------------------------------------------------------: |\n",
    "\n",
    "$$五子棋$$\n",
    "<img src = \"images\\chapter11\\wzq2.jpg\" width=800>\n"
   ]
  },
  {
   "cell_type": "markdown",
   "metadata": {},
   "source": [
    "### <font size=4.5><span id=\"11.1.2\"> 11.1.2 什么是对象？</span></font>"
   ]
  },
  {
   "cell_type": "markdown",
   "metadata": {},
   "source": [
    "\n",
    "- 对象指的是类的实例，类是创建对象的模板，一个类可以创建多个对象，每个对象都是类类型的一个变量；  \n",
    "- 创建对象的过程也叫作类的实例化。  \n",
    "- 面向对象程序设计将对象作为程序的基本单元，将程序和数据封装其中，以提高软件的重用性、灵活性和扩展性。  "
   ]
  },
  {
   "cell_type": "markdown",
   "metadata": {},
   "source": [
    "#### Python里面`万物皆对象`"
   ]
  },
  {
   "cell_type": "markdown",
   "metadata": {},
   "source": [
    "面向对象编程中的主要概念如下：\n",
    "\n",
    "* 类（class）：\n",
    "   * 定义了一件事物的抽象特点。\n",
    "   * 通常来说，类定义了事物的属性和它可以做到的行为。\n",
    "   * 比如拿人来说，人类是一个类，黄种人、白种人和黑人；男人和女人，都具有人类的特征或行为，比如身高、体重、肤色、吃饭、睡觉、生老病死等等。\n",
    "   * 一个类中可以有成员函数和成员变量。在面向对象的术语中，成员函数被称为方法；成员变量被称为属性。\n",
    "   "
   ]
  },
  {
   "cell_type": "markdown",
   "metadata": {},
   "source": [
    "* 对象（object）：\n",
    "   * 是类的实例。  \n",
    "   * 当一个类被实例化时，他的属性就有了具体的值（比如，人类是一个类，具体到某一个人的时候，他就有具体的身高、体重、肤色等）。\n",
    "   * 每个类可以有若干个可以被实例化的对象。在操作系统中，系统给对象分配内存空间，而不会给类分配内存空间。 "
   ]
  },
  {
   "cell_type": "markdown",
   "metadata": {},
   "source": [
    "* 继承（inheritance）：  \n",
    "   * 是指通过一个已有的类（父类）定义另外一个类（子类），子类共享父类开放的属性和方法。  \n",
    "   * 子类的对象除了是一个子类的一个实例，还是其父类的一个实例。  \n",
    "   * 举个例子：人类做为父类，实例化一个子类黄种人，黄种人（子类）实例化一个对象中国人。  \n",
    "   * 中国人除了是黄种人（子类）的一个实例，也是人类（父类）的一个实例。 \n",
    "    <img src = \"images\\chapter11\\class03.jpg\" width=500>"
   ]
  },
  {
   "cell_type": "markdown",
   "metadata": {},
   "source": [
    "* 封装性（Encapsulation）：\n",
    "   * 封装性是指类在定义时可以将不能活不需要其他类知道的成员定义成私有成员，而只公开其他类需要使用的成员，以达到信息隐蔽和简化的作用。  \n",
    "   * 比如：通过眼睛观察我们可以大概知道其他人的肤色、性别等等，但是比如血型、DNA等等是无法直接得知的。\n",
    "     <img src = \"images\\chapter11\\class04.jpg\" width=500> "
   ]
  },
  {
   "cell_type": "markdown",
   "metadata": {},
   "source": [
    "* 多态性（Polymorphism）：\n",
    "   * 是指同一方法作用于不同的对象，可以有不同的解释，产生不同的执行结果。  \n",
    "   * 在具体实现方法上，多态性是允许开发者将父对象的变量设置为对子对象的引用，赋值之后，父对象变量就可以根据当前的赋值给他的子对象的特性以不同的方式运作。  \n",
    "   * 比如：黄种人和白种人还有黑种人都属于人类，但是其肤色属性是不一样的（赋值不同）。\n",
    " <img src = \"images\\chapter11\\class05.jpg\" width=500> "
   ]
  },
  {
   "cell_type": "markdown",
   "metadata": {},
   "source": [
    "### 11.1.3 实例 —— 处理学生信息\n",
    "\n",
    "\n",
    "- 两种方法\n",
    "    - 传统方式\n",
    "    - 面向对象"
   ]
  },
  {
   "cell_type": "markdown",
   "metadata": {},
   "source": [
    "#### (1) 传统函数处理方式\n",
    "\n",
    "\n",
    "- 处理具有相似结构的数据"
   ]
  },
  {
   "cell_type": "code",
   "execution_count": null,
   "metadata": {},
   "outputs": [],
   "source": [
    "ym_dict  = { 'name': '姚明',   'skill': '篮球' }\n",
    "kj_dict  = { 'name': '柯洁',   'skill': '围棋' }\n",
    "fzd_dict = { 'name': '马龙',   'skill': '乒乓球' }"
   ]
  },
  {
   "cell_type": "code",
   "execution_count": null,
   "metadata": {},
   "outputs": [],
   "source": [
    "def printInfoPublicWay(student):\n",
    "    print('name: %s,  skill: %s' % (student['name'], student['skill']))"
   ]
  },
  {
   "cell_type": "code",
   "execution_count": null,
   "metadata": {},
   "outputs": [],
   "source": [
    "# 传统方式输出信息\n",
    "printInfoPublicWay(ym_dict)\n",
    "printInfoPublicWay(kj_dict)\n",
    "printInfoPublicWay(fzd_dict)"
   ]
  },
  {
   "cell_type": "markdown",
   "metadata": {},
   "source": [
    "#### (2) 面向对象处理方式\n",
    "\n",
    "\n",
    "- 定义类 `Student`，含有\n",
    "    - 属性 `name`, `skill`\n",
    "    - 方法 `printInfoPrivateWay`\n",
    "\n",
    "\n",
    "- 生成对象，并使用之"
   ]
  },
  {
   "cell_type": "code",
   "execution_count": null,
   "metadata": {},
   "outputs": [],
   "source": [
    "class Student:\n",
    "    \"\"\"一个学生类\"\"\"\n",
    "    def __init__(self, name, skill):\n",
    "        \"\"\"初始化函数\"\"\"\n",
    "        self.name  = name\n",
    "        self.skill = skill\n",
    "\n",
    "    def printInfoPrivateWay(self):\n",
    "        \"\"\"输出信息函数\"\"\"\n",
    "        print('name: %s,  skill: %s\\n' % (self.name, self.skill))"
   ]
  },
  {
   "cell_type": "code",
   "execution_count": null,
   "metadata": {},
   "outputs": [],
   "source": [
    "# 创建若干个实例/对象\n",
    "ym_obj  = Student('姚明',   '篮球')\n",
    "kj_obj  = Student('柯洁',   '围棋')\n",
    "fzd_obj = Student('樊振东', '乒乓球')"
   ]
  },
  {
   "cell_type": "code",
   "execution_count": null,
   "metadata": {},
   "outputs": [],
   "source": [
    "# 面向对象方式输出信息\n",
    "ym_obj.printInfoPrivateWay()\n",
    "kj_obj.printInfoPrivateWay()\n",
    "fzd_obj.printInfoPrivateWay()"
   ]
  },
  {
   "cell_type": "code",
   "execution_count": null,
   "metadata": {},
   "outputs": [],
   "source": [
    "ym_obj.name"
   ]
  },
  {
   "cell_type": "markdown",
   "metadata": {},
   "source": [
    "#### (3) 两种方式有很大不同\n",
    "\n",
    "- 前者 传统函数\n",
    "    - 公共函数 printInfoPublicWay\n",
    "    - 全局变量 ym_dict、kj_dict、fzd_dict\n",
    "        - 键：name、skill\n",
    "        - 值：values\n",
    "    \n",
    "    \n",
    "- 后者 OOP\n",
    "    - 成员函数(方法) printInfoPrivateWay\n",
    "    - 对象 ym_obj、kj_obj、fzd_obj\n",
    "        - 属性：name、skill"
   ]
  },
  {
   "cell_type": "markdown",
   "metadata": {
    "tags": [],
    "toc-hr-collapsed": true
   },
   "source": [
    "## 11.2 类、实例及其语法介绍\n",
    "\n",
    "\n",
    "- 面向对象 2 个最重要的概念\n",
    "    - 类 Class —— 抽象模板\n",
    "    - 对象 Object/实例 Instance —— 类创建出的具体对象/实例"
   ]
  },
  {
   "cell_type": "markdown",
   "metadata": {},
   "source": [
    "### 11.2.1 类的定义"
   ]
  },
  {
   "cell_type": "markdown",
   "metadata": {},
   "source": [
    "- 类定义语法\n",
    "```python\n",
    "    class ClassName(ParentClassName):\n",
    "        \"\"\"关于类的描述\"\"\"\n",
    "        def __init__(self, parameters):\n",
    "            \"\"\"类的初始化函数\"\"\"\n",
    "            # 初始化代码\n",
    "        \n",
    "        def print(self):\n",
    "            \"\"\"输出信息函数\"\"\"\n",
    "            # 输出代码\n",
    "```"
   ]
  },
  {
   "cell_type": "markdown",
   "metadata": {},
   "source": [
    "### 11.2.2 对象/实例的创建\n",
    "\n",
    "\n",
    "- 对象/实例的创建由类的初始化函数完成\n",
    "\n",
    "\n",
    "- 语法\n",
    "```python\n",
    ">>> an_obj = ClassName(parameters)  # 创建对象\n",
    "```"
   ]
  },
  {
   "cell_type": "markdown",
   "metadata": {},
   "source": [
    "### 11.2.3 对象成员属性的访问\n",
    "\n",
    "\n",
    "- 通过对象来引用\n",
    "\n",
    "\n",
    "- 语法 —— 使用小数点作引用符\n",
    "```python\n",
    ">>> an_obj.property = new_value\n",
    ">>> print(an_obj.property)\n",
    "```"
   ]
  },
  {
   "cell_type": "code",
   "execution_count": null,
   "metadata": {},
   "outputs": [],
   "source": [
    "ym_obj.skill = \"公务人员\"\n",
    "ym_obj.printInfoPrivateWay()"
   ]
  },
  {
   "cell_type": "markdown",
   "metadata": {},
   "source": [
    "### 11.2.4 对象成员函数的访问 —— 行为操作\n",
    "\n",
    "\n",
    "- 通过调用对象的成员函数(方法)实现\n",
    "\n",
    "\n",
    "- 语法 —— 使用小数点作引用符\n",
    "```python\n",
    ">>> an_obj.doSomething()                  # 行为操作\n",
    "```"
   ]
  },
  {
   "cell_type": "markdown",
   "metadata": {
    "tags": [],
    "toc-hr-collapsed": true
   },
   "source": [
    "## 11.3 简单示例 —— 创建和使用类\n",
    "\n",
    "\n",
    "- 拟创建的简单类介绍\n",
    "    - `Dog` 类 —— 它表示的不是特定的小狗，而是任何小狗（宠物）\n",
    "    - `Dog` 类的属性（成员、特征）\n",
    "        - 名字\n",
    "        - 年龄\n",
    "    - `Dog` 类的行为（方法、函数）\n",
    "        - 蹲下\n",
    "        - 打滚"
   ]
  },
  {
   "cell_type": "markdown",
   "metadata": {},
   "source": [
    "### 11.3.1 创建 `Dog` 类"
   ]
  },
  {
   "cell_type": "code",
   "execution_count": null,
   "metadata": {},
   "outputs": [],
   "source": [
    "class Dog():\n",
    "    \"\"\"一次模拟小狗的简单尝试\"\"\"\n",
    "    def __init__(slef, name, age):\n",
    "        \"\"\"初始化属性 name 和 age\"\"\"\n",
    "        slef.name = name\n",
    "        slef.age  = age\n",
    "        \n",
    "    def sit(self):\n",
    "        \"\"\"模拟小狗蹲下\"\"\"\n",
    "        print(self.name + \" 在坐着。\")\n",
    "        \n",
    "    def rollOver(self):\n",
    "        \"\"\"模拟小狗打滚\"\"\"\n",
    "        print(self.name + \" 在打滚。\")\n",
    "\n",
    "    def print(self):\n",
    "        print(\"本汪名叫：\" + self.name)\n",
    "        print(\"本汪岁数：\" + str(self.age) + \"\\n\")"
   ]
  },
  {
   "cell_type": "markdown",
   "metadata": {},
   "source": [
    "#### (1) 代码说明\n",
    "\n",
    "\n",
    "- 第1行：定义了一个名为 `Dog` 的类，定义中的括号是空的，表明无继承 —— 从无到有创建\n",
    "- 第2行：编写了一个文档字符串，对 `Dog` 类的功能作了描述\n",
    "- 第3行：定义了一个函数 `__init__(self, name, age)`\n",
    "- 第4行：描述函数功能的文档字符串\n",
    "- 第5、6行：两个左侧变量都有前缀 `self`\n",
    "    - `self`是对对象本身的引用，以`self` 为前缀的变量是对象的成员属性，可供类中的所有方法使用\n",
    "    - 可以通过类的任何实例来访问这些成员属性变量\n",
    "    - `self.name = name` 将右边的形参 `name` 赋给左边的对象成员属性 `self.name`\n",
    "    - `self.age = age` 将右边的形参 `age` 赋给左边的对象成员属性 `self.age`\n",
    "- 第8-10行、第12-14行、第16-18行：\n",
    "    - 定义函数 `sit` 和 `rollOver`，它们不需要额外的信息，因此都只有一个形参 `self`\n",
    "    - 定义函数 `print` 输出信息"
   ]
  },
  {
   "cell_type": "markdown",
   "metadata": {},
   "source": [
    "#### (2) 命名约定 —— 提倡（但不强制）大、小驼峰命名法、下划线命名法\n",
    "\n",
    "\n",
    "- 类名的首字母用大写开头\n",
    "- 属性用小写字母开头，名词词性，如 `name`、`age`\n",
    "- 方法用小写字母开头，动词词性，如 `sit`、`rollOver`、`print`"
   ]
  },
  {
   "cell_type": "markdown",
   "metadata": {},
   "source": [
    "#### (3) 成员函数/方法 —— 类中的函数\n",
    "\n",
    "\n",
    "- 前面学到的有关函数的一切都 `适用于类的成员函数/方法`"
   ]
  },
  {
   "cell_type": "markdown",
   "metadata": {},
   "source": [
    "#### (4) `__init__(self, name, age)` 函数\n",
    "\n",
    "\n",
    "- 这是一种特殊的成员函数\n",
    "    - 可称为 `构造函数(或方法)`、`初始化函数(或方法)`\n",
    "    - 每当创建新的实例时，python都会自动运行它\n",
    "    - 开头和末尾各有两个下划线，这是一种约定，避免函数名称冲突\n",
    "\n",
    "- 三个形参\n",
    "    - self —— 必须放在第一个，因为\n",
    "        - `python` 调用`__init__(self, name, age)` 函数来创建实例时，将自动传入实参 `self`\n",
    "        - 每个与类相关联的成员函数/方法都自动传递实参 `self`\n",
    "        - 本质上是一个指向实例本身的引用，让实例能够访问类中的成员属性和函数\n",
    "    - name —— 名称属性\n",
    "    - age —— 年龄属性\n",
    "\n",
    "\n",
    "- 创建 `Dog` 实例时，`Python` 将调用 `Dog` 类的函数 `__init__(self, name, age)`，并传入\n",
    "    - 对对象自身的引用、姓名、年龄参数\n",
    "    \n",
    "    \n",
    "- 关于返回\n",
    "    - 在函数 `__init__(self, name, age)` 中，并未显式地包含 `return` 语句，但 `Python` 自动返回一个对象实例"
   ]
  },
  {
   "cell_type": "markdown",
   "metadata": {},
   "source": [
    "### 11.3.2 根据类创建并使用对象实例"
   ]
  },
  {
   "cell_type": "code",
   "execution_count": null,
   "metadata": {},
   "outputs": [],
   "source": [
    "my_dog = Dog(\"巴克\", 6)\n",
    "\n",
    "my_dog.print()\n",
    "\n",
    "my_dog.age += 1\n",
    "\n",
    "my_dog.print()"
   ]
  },
  {
   "cell_type": "markdown",
   "metadata": {},
   "source": [
    "#### (1) 代码说明\n",
    "\n",
    "- 第1行：创建一个名为 \"巴克\"，年龄为 6 的 `Dog` 对象，步骤如下\n",
    "    - 调用函数 `__init__`，并使用实参 \"巴克\" 和 6\n",
    "    - 虽然没有显式的 `return` 语句，但 `Python` 自动返回创建的对象实例\n",
    "\n",
    "\n",
    "- 第2、6行：通过 `my_dog.print` 调用对象的成员函数 `print`\n",
    "\n",
    "\n",
    "- 第4行：通过 `my_dog.age` 修改成员属性 `age`"
   ]
  },
  {
   "cell_type": "markdown",
   "metadata": {},
   "source": [
    "#### (2) 访问属性 —— 采用句点引用符 `.`\n",
    "\n",
    "\n",
    "```python\n",
    ">>> my_dog.name\n",
    ">>> my_dog.age\n",
    "```"
   ]
  },
  {
   "cell_type": "markdown",
   "metadata": {},
   "source": [
    "#### (3) 调用方法 —— 采用句点引用符 `.`\n",
    "\n",
    "- 让小狗蹲下，执行\n",
    "```python\n",
    ">>> my_dog.sit()\n",
    "```\n",
    "- 让小狗打滚，执行\n",
    "```python\n",
    ">>> my_dog.rollOver()\n",
    "```"
   ]
  },
  {
   "cell_type": "code",
   "execution_count": null,
   "metadata": {},
   "outputs": [],
   "source": [
    "#my_dog = Dog(\"巴克\", 6)\n",
    "my_dog.sit()"
   ]
  },
  {
   "cell_type": "code",
   "execution_count": null,
   "metadata": {},
   "outputs": [],
   "source": [
    "my_dog.rollOver()"
   ]
  },
  {
   "cell_type": "markdown",
   "metadata": {},
   "source": [
    "#### (4) 创建多个实例\n",
    "\n",
    "\n",
    "- 以下代码，创建了两条小狗，它们分别名为 `Willie` 和 `Lucy`\n",
    "- 每条小狗都是一个独立的实例，有自己的属性\n",
    "- 能够执行相同的操作"
   ]
  },
  {
   "cell_type": "code",
   "execution_count": null,
   "metadata": {},
   "outputs": [],
   "source": [
    "my_dog = Dog(\"巴克\", 6)\n",
    "my_dog.sit()\n",
    "my_dog.print()\n",
    "\n",
    "your_dog = Dog(\"露丝\", 5)\n",
    "your_dog.rollOver()\n",
    "your_dog.print()"
   ]
  },
  {
   "cell_type": "markdown",
   "metadata": {},
   "source": [
    "#### 例 11-1 餐馆类\n",
    "\n",
    "\n",
    "- 创建一个名为 `Restaurant` 的类，其成员函数/方法\n",
    "    - `__init__(...)` ——设置两个属性 `restaurantName` 和 `cuisineType`（烹饪类型）\n",
    "    - `describeRestaurant(...)` —— 打印前述两项信息\n",
    "    - `openRestaurant(...)` —— 打印一条信息，指出餐馆正在营业\n",
    "\n",
    "\n",
    "- 根据这个类创建一个名为 `restaurant` 的实例，分别打印其两个属性，再调用前述两个成员函数"
   ]
  },
  {
   "cell_type": "code",
   "execution_count": null,
   "metadata": {},
   "outputs": [],
   "source": [
    "class Restaurant():\n",
    "    \"\"\"一个餐馆类\"\"\"\n",
    "    def __init__(self, restaurantName, cuisineType):\n",
    "        \"\"\"初始化成员函数\"\"\"\n",
    "        self.restaurantName = restaurantName\n",
    "        self.cuisineType    = cuisineType\n",
    "    \n",
    "    def describeRestaurant(self):\n",
    "        \"\"\"餐馆描述成员函数\"\"\"\n",
    "        print(\"餐馆名称是：\" + self.restaurantName)\n",
    "        print(\"烹饪类型是：\" + self.cuisineType + \"\\n\")\n",
    "        \n",
    "    def openRestaurant(self):\n",
    "        \"\"\"餐馆开业\"\"\"\n",
    "        print(self.restaurantName + \"正在营业。\")"
   ]
  },
  {
   "cell_type": "code",
   "execution_count": null,
   "metadata": {},
   "outputs": [],
   "source": [
    "restaurant = Restaurant(\"肯德基\", \"快餐\")\n",
    "\n",
    "restaurant.openRestaurant()\n",
    "restaurant.describeRestaurant()"
   ]
  },
  {
   "cell_type": "markdown",
   "metadata": {},
   "source": [
    "#### 例 11-2 三家餐馆\n",
    "- 对每个实例调用成员函数 `describeRestaurant()`"
   ]
  },
  {
   "cell_type": "code",
   "execution_count": null,
   "metadata": {},
   "outputs": [],
   "source": [
    "restaurant_one   = Restaurant(\"肯德基\",   \"快餐\")\n",
    "restaurant_two   = Restaurant(\"麦当劳\",   \"快餐\")\n",
    "restaurant_three = Restaurant(\"大娘水饺\", \"中餐\")\n",
    "\n",
    "restaurant_one.describeRestaurant()\n",
    "restaurant_two.describeRestaurant()\n",
    "restaurant_three.describeRestaurant()"
   ]
  },
  {
   "cell_type": "markdown",
   "metadata": {},
   "source": [
    "#### 例 11-3 用户类\n",
    "\n",
    "\n",
    "- 创建一个名为 `User` 的类，其中包含\n",
    "    - 成员属性 `firstName` 和 `lastName`\n",
    "    - 可作为用户简介的其他属性\n",
    "    - 成员函数/方法 `describe(...)` 用来打印用户信息摘要\n",
    "    - 成员函数/方法 `greetUser(...)` 用来向用户发出个性化的问候\n",
    "\n",
    "\n",
    "- 创建多个表示不同用户的对象实例，并对每个实例都调用上述的两个成员函数"
   ]
  },
  {
   "cell_type": "code",
   "execution_count": null,
   "metadata": {},
   "outputs": [],
   "source": [
    "class User():\n",
    "    \"\"\"一个用户类\"\"\"\n",
    "    def __init__(self, firstName, lastName):\n",
    "        \"\"\"初始化成员函数\"\"\"\n",
    "        self.firstName = firstName\n",
    "        self.lastName  = lastName\n",
    "    \n",
    "    def describeUser(self):\n",
    "        \"\"\"描述用户成员函数\"\"\"\n",
    "        print(\"姓：\"  + self.lastName)\n",
    "        print(\"名：\" + self.firstName)\n",
    "        \n",
    "    def greetUser(self):\n",
    "        \"\"\"向该用户打招呼成员函数\"\"\"\n",
    "        fullName = self.lastName + self.firstName\n",
    "        print(\"嗨,我是\" + fullName + \"\\n\")"
   ]
  },
  {
   "cell_type": "code",
   "execution_count": null,
   "metadata": {},
   "outputs": [],
   "source": [
    "Jack_user = User(\"云\", \"马\")\n",
    "Jack_user.describeUser()\n",
    "Jack_user.greetUser()\n",
    "\n",
    "Bob_user = User(\"正飞\", \"任\")\n",
    "Bob_user.describeUser()\n",
    "Bob_user.greetUser()"
   ]
  },
  {
   "cell_type": "code",
   "execution_count": null,
   "metadata": {},
   "outputs": [],
   "source": [
    "### 编辑一个学生类\n",
    "class Student():\n",
    "    \"\"\"学生类，包含以下信息：\n",
    "    一个初始化成员函数__init__()\n",
    "    一个描述学生信息函数describe()\n",
    "    学生的信息包括：姓名，学号，性别，年龄，专业\n",
    "    \"\"\"\n",
    "    def __init__(self,name,number,sex,age,major):\n",
    "        self.name = name\n",
    "        self.number = number\n",
    "        self.sex = sex\n",
    "        self.age = age\n",
    "        self.major = major\n",
    "\n",
    "    def describe(self):\n",
    "        print(self.name,self.number)"
   ]
  },
  {
   "cell_type": "code",
   "execution_count": null,
   "metadata": {},
   "outputs": [],
   "source": [
    "stua = Student(\"张三\",\"123456789\",\"男\",\"19\",\"土木工程\")\n",
    "stua.describe()"
   ]
  },
  {
   "cell_type": "markdown",
   "metadata": {
    "tags": [],
    "toc-hr-collapsed": true
   },
   "source": [
    "## 11.4 使用类和实例"
   ]
  },
  {
   "cell_type": "markdown",
   "metadata": {},
   "source": [
    "- 类可用来\n",
    "    - 模拟现实世界中的很多情景\n",
    "    - 使用创建的实例对象\n",
    "    - 修改对象的属性\n",
    "        - 可直接访问\n",
    "        - 也可编写方法以特定方式进行访问"
   ]
  },
  {
   "cell_type": "markdown",
   "metadata": {},
   "source": [
    "### 11.4.1 `Car` 类\n",
    "\n",
    "\n",
    "#### (1) 编写一个表示汽车的类\n",
    "\n",
    "\n",
    "- 存储有关汽车的信息\n",
    "- 有一个汇总这些信息的方法"
   ]
  },
  {
   "cell_type": "code",
   "execution_count": null,
   "metadata": {},
   "outputs": [],
   "source": [
    "class Car():\n",
    "    \"\"\"一次模拟汽车的简单尝试\"\"\"\n",
    "    def __init__(self, make, model, year=2020):\n",
    "        \"\"\"初始化描述汽车的成员属性\"\"\"\n",
    "        self.make  = make  # 制造商\n",
    "        self.model = model # 型号\n",
    "        self.year  = year  # 出厂年\n",
    "        \n",
    "    def getDescriptiveName(self):\n",
    "        \"\"\"返回整洁的描述性信息\"\"\"\n",
    "        longName = str(self.year) + \" \" + self.make + \" \" + self.model\n",
    "        return longName.title()"
   ]
  },
  {
   "cell_type": "code",
   "execution_count": null,
   "metadata": {},
   "outputs": [],
   "source": [
    "my_new_car = Car(\"audi\", \"a4\", 2021)\n",
    "my_new_car.getDescriptiveName()"
   ]
  },
  {
   "cell_type": "code",
   "execution_count": null,
   "metadata": {},
   "outputs": [],
   "source": [
    "my_new_car = Car(\"audi\", \"a4\")\n",
    "my_new_car.getDescriptiveName()"
   ]
  },
  {
   "cell_type": "markdown",
   "metadata": {},
   "source": [
    "#### (2) 让这个类更有趣\n",
    "\n",
    "- 添加一个随时间变化的成员属性，用来存储汽车的总里程"
   ]
  },
  {
   "cell_type": "markdown",
   "metadata": {},
   "source": [
    "### 11.4.2 给属性指定默认值"
   ]
  },
  {
   "cell_type": "markdown",
   "metadata": {},
   "source": [
    "- 类中的每个属性都必须有初始值，哪怕是 `0` 或 `空字符串`\n",
    "\n",
    "\n",
    "- 设置`默认值`时，可以在构造函数/方法 `__init__()` 内指定这种初始值\n",
    "    - 无需包含提供初始值的形参"
   ]
  },
  {
   "cell_type": "code",
   "execution_count": null,
   "metadata": {},
   "outputs": [],
   "source": [
    "class Car():\n",
    "    \"\"\"第二次模拟汽车的简单尝试\"\"\"\n",
    "    def __init__(self, make, model, year):\n",
    "        \"\"\"初始化描述汽车的属性\"\"\"\n",
    "        self.make  = make\n",
    "        self.model = model\n",
    "        self.year  = year\n",
    "        self.odometerReading = 0 # 初始值，总里程\n",
    "        \n",
    "    def getDescriptiveName(self):\n",
    "        \"\"\"获得描述性名称\"\"\"\n",
    "        longName = str(self.year) + \" \" + self.make +  \" \" + self.model\n",
    "        print(longName.title())\n",
    "        \n",
    "    def readOdometer(self):\n",
    "        \"\"\"打印一条指出汽车里程的消息\"\"\"\n",
    "        print(\"This car has \" + str(self.odometerReading) + \" miles on it.\")"
   ]
  },
  {
   "cell_type": "code",
   "execution_count": null,
   "metadata": {},
   "outputs": [],
   "source": [
    "my_new_car = Car(\"audi\", \"a4\", 2020)\n",
    "my_new_car.getDescriptiveName()\n",
    "my_new_car.readOdometer()"
   ]
  },
  {
   "cell_type": "markdown",
   "metadata": {},
   "source": [
    "### 11.4.3 修改成员属性的值"
   ]
  },
  {
   "cell_type": "markdown",
   "metadata": {},
   "source": [
    "- 三种不同的方式\n",
    "    - 直接通过实例进行更改\n",
    "    - 通过成员函数/方法进行设置\n",
    "    - 通过成员函数/方法进行递增(增加特定的值)"
   ]
  },
  {
   "cell_type": "markdown",
   "metadata": {},
   "source": [
    "#### (1) 直接修改属性的值\n",
    "\n",
    "\n",
    "- 下例将里程表读数设置为 23"
   ]
  },
  {
   "cell_type": "code",
   "execution_count": null,
   "metadata": {},
   "outputs": [],
   "source": [
    "my_new_car.odometerReading = 23\n",
    "my_new_car.readOdometer()"
   ]
  },
  {
   "cell_type": "markdown",
   "metadata": {},
   "source": [
    "#### (2) 通过成员函数/方法修改属性的值\n",
    "\n",
    "\n",
    "- 无需直接访问属性，更合理安全\n",
    "\n",
    "\n",
    "- 下例中，添加 `updateOdometer()` 成员函数\n",
    "    - 函数原型\n",
    "    ```python\n",
    "    >>> def updateOdometer(self, mileage):\n",
    "    ```\n",
    "        - 接受里程形参值，并将其存储到 `self.odometerReading` 中"
   ]
  },
  {
   "cell_type": "code",
   "execution_count": null,
   "metadata": {},
   "outputs": [],
   "source": [
    "class Car():\n",
    "    def __init__(self, make, model, year):\n",
    "        self.make = make\n",
    "        self.model = model\n",
    "        self.year = year\n",
    "        self.odometerReading = 0 # 默认初值为零\n",
    "        \n",
    "    def getDescriptiveName(self):\n",
    "        longName = str(self.year) + \" \" + self.make + \" \" + self.model\n",
    "        print(longName.title())\n",
    "        \n",
    "    def readOdometer(self):\n",
    "        print(\"This car has \" + str(self.odometerReading) + \" on it.\")\n",
    "        \n",
    "    def updateOdometer(self, mileage):\n",
    "        \"\"\"将里程表读数设置为指定的值\"\"\"\n",
    "        self.odometerReading = mileage"
   ]
  },
  {
   "cell_type": "code",
   "execution_count": null,
   "metadata": {},
   "outputs": [],
   "source": [
    "my_new_car = Car(\"audi\", \"a4\", 2020)\n",
    "my_new_car.getDescriptiveName()\n",
    "my_new_car.readOdometer()\n",
    "\n",
    "print(\"\\nafter update odometer as odometerReading = 230 ...\\n\")\n",
    "my_new_car.updateOdometer(230)\n",
    "my_new_car.readOdometer()"
   ]
  },
  {
   "cell_type": "markdown",
   "metadata": {},
   "source": [
    "#### (3) 改进成员函数/方法 `updateOdometer`\n",
    "\n",
    "\n",
    "- 禁止任何人将里程表往回调"
   ]
  },
  {
   "cell_type": "code",
   "execution_count": null,
   "metadata": {},
   "outputs": [],
   "source": [
    "class Car():\n",
    "    def __init__(self, make, model, year):\n",
    "        self.make = make\n",
    "        self.model = model\n",
    "        self.year = year\n",
    "        self.odometerReading = 23\n",
    "\n",
    "    def readOdometer(self):\n",
    "        print(\"This car has \" + str(self.odometerReading) + \" on it.\")\n",
    "        \n",
    "        \n",
    "    def updateOdometer(self, mileage):\n",
    "        if mileage >= self.odometerReading:\n",
    "            self.odometerReading = mileage\n",
    "        else:\n",
    "            print(\"You can't roll back an odometer from {0} to {1}\".format(self.odometerReading, mileage))"
   ]
  },
  {
   "cell_type": "code",
   "execution_count": null,
   "metadata": {},
   "outputs": [],
   "source": [
    "my_new_car = Car(\"audi\", \"a4\", 2020)\n",
    "my_new_car.odometerReading = 21\n",
    "my_new_car.readOdometer()"
   ]
  },
  {
   "cell_type": "markdown",
   "metadata": {
    "tags": [],
    "toc-hr-collapsed": true
   },
   "source": [
    "## 11.5 继承与派生\n",
    "\n",
    "\n",
    "- 继承 —— 从某个已有的类进行扩展，是一种创建新类的方式\n",
    "    - 新定义的类称为派生类（DerivedClass）或子类（SubClass）\n",
    "    - 被继承的类称为基类(BaseClass)、父类(ParentClass)或超类(SuperClass)\n",
    "\n",
    "\n",
    "- 派生 —— 以下两个说法等价\n",
    "    - 派生类 继承自 基类：继承了基类的所有成员属性和成员函数/方法，同时还可拥有自己的属性和函数\n",
    "    - 基类 后代是 派生类：将自己的所有属性和函数传递给派生类\n",
    "\n",
    "\n",
    "- 复用性 —— 高效率编程的重要手段\n",
    "    - 派生类将继承基类的全部成员属性和成员函数方法"
   ]
  },
  {
   "cell_type": "markdown",
   "metadata": {},
   "source": [
    "### 11.5.1 语法 —— 类的继承与派生\n",
    "\n",
    "\n",
    "```python\n",
    "    class BaseClassName(...):\n",
    "        \"\"\"关于基类的描述\"\"\"\n",
    "        pass\n",
    "\n",
    "    class DerivedClassName(BaseClassName):\n",
    "        \"\"\"关于派生类的描述\"\"\"\n",
    "        def __init__(self, parameters):\n",
    "            \"\"\"派生类的初始化函数\"\"\"\n",
    "            # do_something_initialize\n",
    "            pass\n",
    "        \n",
    "        def print(self):\n",
    "            \"\"\"输出信息函数\"\"\"\n",
    "            # do_something_print\n",
    "            pass\n",
    "```            "
   ]
  },
  {
   "cell_type": "markdown",
   "metadata": {},
   "source": [
    "### 11.5.2 派生类的创建\n",
    "\n",
    "\n",
    "- 创建派生类的实例时，自动调用 `__init__(self, ...)`构造函数\n",
    "- 隐式返回派生类的实例对象"
   ]
  },
  {
   "cell_type": "markdown",
   "metadata": {},
   "source": [
    "#### (1) 示例 —— 模拟电动汽车\n",
    "\n",
    "\n",
    "- 分析 —— 电动汽车是一种特殊的汽车\n",
    "\n",
    "\n",
    "- 步骤\n",
    "    - 首先创建基类 `Car`\n",
    "    - 再创建派生类 `ElectricCar`\n",
    "    - 为电动汽车特有的属性和行为编写代码"
   ]
  },
  {
   "cell_type": "code",
   "execution_count": null,
   "metadata": {},
   "outputs": [],
   "source": [
    "# 基类 Car 的定义\n",
    "class Car():\n",
    "    \"\"\"基类 Car 的介绍\"\"\"\n",
    "    def __init__(self, make, model, year):\n",
    "        self.make  = make\n",
    "        self.model = model\n",
    "        self.year  = year\n",
    "        self.odometerReading = 0\n",
    "        \n",
    "    def getDescriptiveName(self):\n",
    "        longName = str(self.year) + \" \" + self.make + \" \" + self.model\n",
    "        return longName\n",
    "    \n",
    "    def readOdometer(self):\n",
    "        print(\"The car has\" + str(self.odometerReading) + \" miles on it.\")\n",
    "        \n",
    "    def updateOdometer(self, mileage):\n",
    "        if mileage > self.odometerReading:\n",
    "            self.odometerReading = mileage\n",
    "        else:\n",
    "            print(\"You can't roll back an odometer!\")\n",
    "\n",
    "    def fillGasTank(self):\n",
    "        print(\"Fill gas in tank of this car.\")"
   ]
  },
  {
   "cell_type": "markdown",
   "metadata": {},
   "source": [
    "#### (2) 代码说明 —— 关于基类\n",
    "\n",
    "\n",
    "- 当没有继承与派生时，基类可以就是一个普通类"
   ]
  },
  {
   "cell_type": "code",
   "execution_count": null,
   "metadata": {},
   "outputs": [],
   "source": [
    "# 创建新类 ElectricCar，由已有类 Car 继承得到\n",
    "# 画图说明构造函数顺序\n",
    "class ElectricCar(Car):\n",
    "    \"\"\"电动汽车的独特之处\"\"\"\n",
    "    def __init__(self, make, model, year):\n",
    "        \"\"\"初始化基类属性\"\"\"\n",
    "        super().__init__(make, model, year)  # 调用父类的构造函数"
   ]
  },
  {
   "cell_type": "markdown",
   "metadata": {},
   "source": [
    "#### (3) 代码说明 —— 关于派生类\n",
    "\n",
    "\n",
    "- 创建派生类时，基类定义必须包含在当前文件中，且位于派生类前面\n",
    "\n",
    "\n",
    "- 语句\n",
    "```python\n",
    "class ElectricCar(Car):\n",
    "    #......\n",
    "```\n",
    "    - 定义了派生类 `ElectricCar`\n",
    "    - 括号内指定基类的名称\n",
    "\n",
    "\n",
    "- 派生类定义中的方法 `__init__(...)` \n",
    "    - 接受创建 `ElectricCar` 实例所需的全部信息，包括 `make, model, year` 基类需要\n",
    "\n",
    "\n",
    "- `super(...)` 是一个特殊的函数\n",
    "    - 将基类和派生类关联起来\n",
    "    - 代码\n",
    "    ```python\n",
    "    >>> super().__init__(make, model, year)\n",
    "    ```\n",
    "    使 `ElectricCar` 实例可访问基类的属性和方法\n",
    "\n",
    "\n",
    "- 基类也称为超类(superclass)，名称 `super` 因此而得名"
   ]
  },
  {
   "cell_type": "code",
   "execution_count": null,
   "metadata": {},
   "outputs": [],
   "source": [
    "my_tesla = ElectricCar(\"tesla\", \"model s\", 2020)\n",
    "print(my_tesla.getDescriptiveName())"
   ]
  },
  {
   "cell_type": "code",
   "execution_count": null,
   "metadata": {},
   "outputs": [],
   "source": [
    "my_tesla.updateOdometer(100)\n",
    "print(my_tesla.odometerReading)"
   ]
  },
  {
   "cell_type": "markdown",
   "metadata": {},
   "source": [
    "#### (4) 代码说明 —— 创建派生类的对象\n",
    "\n",
    "\n",
    "- 第1行代码创建一个 `ElectricCar` 对象 `my_tesla`\n",
    "    - 首先，调用派生类的 `__init__` 构造函数\n",
    "    - 派生类的 `__init__` 函数中，将通过 `super()` 函数调用基类的 `__init__` 函数\n",
    "\n",
    "\n",
    "- 第2行代码\n",
    "    - `my_tesla` 调用从基类继承的函数方法 `getDescriptiveName()`"
   ]
  },
  {
   "cell_type": "markdown",
   "metadata": {},
   "source": [
    "### 11.5.3 给派生类定义属性和函数方法\n",
    "\n",
    "\n",
    "- 添加一个电动汽车特有的属性(电瓶)\n",
    "- 以及一个描述该属性的函数方法"
   ]
  },
  {
   "cell_type": "code",
   "execution_count": null,
   "metadata": {},
   "outputs": [],
   "source": [
    "# 基类 Car 的定义\n",
    "class Car():\n",
    "    \n",
    "    def __init__(self, make, model, year):\n",
    "        self.make = make\n",
    "        self.model = model\n",
    "        self.year = year\n",
    "        self.odometerReading = 0\n",
    "        \n",
    "    def getDescriptiveName(self):\n",
    "        longName = str(self.year) + \" \" + self.make + \" \" + self.model\n",
    "        return longName\n",
    "    \n",
    "    def readOdometer(self):\n",
    "        print(\"The car has \" + str(self.odometerReading) + \" on it.\")\n",
    "        \n",
    "    def updateOdometer(self, mileage):\n",
    "        if mileage >= self.odometerReading:\n",
    "            self.odometerReading = mileage\n",
    "        else:\n",
    "            print(\"You can't roll back an odometer!\")\n",
    " \n",
    "    def fillGasTank(self):\n",
    "        print(\"Fill gas in tank of this car.\")"
   ]
  },
  {
   "cell_type": "code",
   "execution_count": null,
   "metadata": {},
   "outputs": [],
   "source": [
    "# 派生类 ElectricCar，继承于类 Car\n",
    "class ElectricCar(Car):\n",
    "    def __init__(self, make, model, year):\n",
    "        \"\"\"\n",
    "        电动汽车的独特之处\n",
    "        初始化基类的属性，再初始化电动汽车的特有属性\n",
    "        \"\"\"\n",
    "        super().__init__(make, model, year)\n",
    "        self.batterySize = 70  # 新属性\n",
    "        \n",
    "    def describeBattery(self):\n",
    "        print(\"This car has a \" + str(self.batterySize) + \"-kwh battery.\")"
   ]
  },
  {
   "cell_type": "markdown",
   "metadata": {},
   "source": [
    "#### (1) 代码说明 —— 派生类中的新属性和新方法\n",
    "\n",
    "\n",
    "- 第3-9行代码，定义了派生类 `ElectricCar` 的 `__init__(self, make, model, year)` 函数\n",
    "    - 第3行：函数定义语句\n",
    "    - 第4-7行：描述派生类的多行文档字符串\n",
    "    - 第8行：调用基类的 `__init__` 函数，创建基类继承得到的属性\n",
    "    - 第9行：定义新属性 `batterySize`，并初始化为常量 70\n",
    "\n",
    "\n",
    "- 第11行代码，定义了派生类 `ElectricCar` 的新方法 `describeBattery(self)`"
   ]
  },
  {
   "cell_type": "code",
   "execution_count": null,
   "metadata": {},
   "outputs": [],
   "source": [
    "my_tesla = ElectricCar(\"tesla\", \"model s\", 2020)\n",
    "print(my_tesla.getDescriptiveName())  # 基类方法\n",
    "my_tesla.describeBattery()            # 新方法"
   ]
  },
  {
   "cell_type": "markdown",
   "metadata": {},
   "source": [
    "#### (2) 代码说明 —— 创建并使用派生类的对象\n",
    "\n",
    "\n",
    "- 第1行代码，创建一个 `ElectricCar` 对象 `my_tesla`\n",
    "\n",
    "- 第2行代码，`my_tesla` 调用从基类继承的方法 `getDescriptiveName()`\n",
    "\n",
    "- 第3行代码，`my_tesla` 调用自己的新方法 `describeBattery()`"
   ]
  },
  {
   "cell_type": "markdown",
   "metadata": {},
   "source": [
    "### 11.5.4 重写基类的成员函数/方法\n",
    "\n",
    "\n",
    "- 若基类中的函数，不符合派生类模拟的对象实例的行为，都可对其重写\n",
    "\n",
    "\n",
    "- 可在派生类中定义一个这样的成员函数，即它与要重写的基类成员函数同名\n",
    "    - 用派生类对象调用时，`Python` 将不会调用基类的成员函数，而只调用派生类中新定义的同名函数"
   ]
  },
  {
   "cell_type": "code",
   "execution_count": null,
   "metadata": {},
   "outputs": [],
   "source": [
    "my_tesla = ElectricCar(\"tesla\", \"model s\", 2020)\n",
    "my_tesla.fillGasTank()"
   ]
  },
  {
   "cell_type": "markdown",
   "metadata": {},
   "source": [
    "#### (1) 代码说明 —— 派生类中未重新定义方法 `fillGasTank()`\n",
    "\n",
    "\n",
    "- 第2行代码，将调用基类中的方法 `fillGasTank(...)` \n",
    "\n",
    "\n",
    "- 原因\n",
    "    - 在基类 `Car` 中，有名为 `fillGasTank(...)` 的方法\n",
    "    - 在派生类 `ElectricCar` 中，没有名为 `fillGasTank(...)` 的方法\n",
    "\n",
    "\n",
    "- 问题\n",
    "    - 基类中 `fillGasTank(...)` 的行为，对派生类完全不合适\n",
    "\n",
    "\n",
    "- 应该重写该方法"
   ]
  },
  {
   "cell_type": "code",
   "execution_count": null,
   "metadata": {},
   "outputs": [],
   "source": [
    "# 重新定义派生类 ElectricCar，重写函数方法 fillGasTank\n",
    "class ElectricCar(Car):\n",
    "    def __init__(self, make, model, year):\n",
    "        \"\"\"\n",
    "        电动汽车的独特之处\n",
    "        初始化基类的属性，再初始化电动汽车的特有属性\n",
    "        \"\"\"\n",
    "        super().__init__(make, model, year)\n",
    "        self.batterySize = 70  # 新属性\n",
    "        \n",
    "    def describeBattery(self):\n",
    "        print(\"This car has a \" + str(self.batterySize) + \"-kwh battery.\")\n",
    "\n",
    "    def fillGasTank(self):  # 改写父类的成员函数\n",
    "        print(\"This electric car doesn't need a gas tank!\")"
   ]
  },
  {
   "cell_type": "code",
   "execution_count": null,
   "metadata": {},
   "outputs": [],
   "source": [
    "my_tesla = ElectricCar(\"tesla\", \"model s\", 2020)\n",
    "my_tesla.fillGasTank()"
   ]
  },
  {
   "cell_type": "markdown",
   "metadata": {},
   "source": [
    "#### (2) 代码说明 —— 派生类中，重新定义了成员函数 `fillGasTank()`\n",
    "\n",
    "\n",
    "- 若对电动汽车调用函数 `fillGasTank()`，`Python` 将\n",
    "    - 忽略基类 `Car` 中的成员函数 `fillGasTank()`\n",
    "    - 转而运行派生类 `ElectricCar` 中重新定义的函数 `fillGasTank()`"
   ]
  },
  {
   "cell_type": "markdown",
   "metadata": {},
   "source": [
    "#### (3) 弃旧换新 —— 继承与派生的意义\n",
    "\n",
    "\n",
    "- 使用继承时，可让派生类\n",
    "    - 保留从基类那里继承而来的精华\n",
    "    - 剔除不需要的糟粕"
   ]
  },
  {
   "cell_type": "markdown",
   "metadata": {},
   "source": [
    "### 11.5.5 类 —— 多层次实现\n",
    "\n",
    "\n",
    "- 类的对象实例 —— 可作为其它类的属性\n",
    "\n",
    "\n",
    "- 实际应用中，用类来模拟现实中的实物时，可能细节会越来越多\n",
    "    - 成员属性繁杂\n",
    "    - 成员函数众多"
   ]
  },
  {
   "cell_type": "markdown",
   "metadata": {},
   "source": [
    "#### (1) 描述电动车 —— 越来越多的细节\n",
    "\n",
    "\n",
    "- 电动车 `ElectricCar`\n",
    "    - 车 `Car`\n",
    "    - 电池 `Battery`\n",
    "    - 发动机 `Engine`\n",
    "    - 轮胎 `Tyre`\n",
    "    - 变速系统\n",
    "    - 电路系统\n",
    "    - 清洁系统\n",
    "    - 等等\n",
    "\n",
    "\n",
    "- 需要将大类拆分成多个协同工作的小类"
   ]
  },
  {
   "cell_type": "markdown",
   "metadata": {},
   "source": [
    "#### (2) 含电池的电动车示例\n",
    "\n",
    "\n",
    "- `ElectricCar` 类添加了许多细节\n",
    "    - 如与汽车电瓶有关的成员属性和函数\n",
    "    - 可将这些属性和函数提取出来，放到另一个名为 `Battery` 的新类中\n",
    "    - 将一个 `Battery` 对象实例用作 `ElectricCar` 类的一个成员属性"
   ]
  },
  {
   "cell_type": "code",
   "execution_count": null,
   "metadata": {},
   "outputs": [],
   "source": [
    "# 基类定义 Car\n",
    "class Car():\n",
    "    def __init__(self, make, model, year):\n",
    "        self.make  = make\n",
    "        self.model = model\n",
    "        self.year  = year\n",
    "        self.odometerReading = 0\n",
    "        \n",
    "    def getDescriptiveName(self):\n",
    "        longName = str(self.year) + \" \" + self.make + \" \" + self.model\n",
    "        return longName"
   ]
  },
  {
   "cell_type": "code",
   "execution_count": null,
   "metadata": {},
   "outputs": [],
   "source": [
    "# 拟创建成员属性的类\n",
    "class Battery():\n",
    "    def __init__(self, batterySize=70):\n",
    "        \"\"\"初始化电瓶属性\"\"\"\n",
    "        self.batterySize = batterySize\n",
    "    \n",
    "    def describeBattery(self):\n",
    "        print(\"This car has a \" + str(self.batterySize) + \"-kwh battery.\")"
   ]
  },
  {
   "cell_type": "code",
   "execution_count": null,
   "metadata": {},
   "outputs": [],
   "source": [
    "# 派生类定义\n",
    "class ElectricCar(Car):\n",
    "    def __init__(self, make, model, year):\n",
    "        super().__init__(make, model, year)\n",
    "        self.battery = Battery(76)"
   ]
  },
  {
   "cell_type": "code",
   "execution_count": null,
   "metadata": {},
   "outputs": [],
   "source": [
    "my_tesla = ElectricCar(\"tesla\", \"model s\", 2020)\n",
    "print(my_tesla.getDescriptiveName())"
   ]
  },
  {
   "cell_type": "markdown",
   "metadata": {},
   "source": [
    "#### (3) 代码说明 —— 关于新类 `Battery`\n",
    "\n",
    "\n",
    "- 定义了一个名为 `Battery` 的新类\n",
    "\n",
    "\n",
    "- 代码\n",
    "    ```python\n",
    "    >>> class Battery():\n",
    "            def __init__(self, batterySize=70):\n",
    "\n",
    "    ```\n",
    "    中，除了 `self` 外，还有另一个形参 `batterySize`，表示电瓶容量，形参的缺省值为70\n",
    "\n",
    "\n",
    "- 在类 `Battery` 中，定义了\n",
    "    - 属性  `self.batterySize`\n",
    "    - 函数  `describeBattery()`"
   ]
  },
  {
   "cell_type": "code",
   "execution_count": null,
   "metadata": {},
   "outputs": [],
   "source": [
    "my_tesla.battery.describeBattery()"
   ]
  },
  {
   "cell_type": "markdown",
   "metadata": {},
   "source": [
    "#### (4) 代码说明 —— 多层引用\n",
    "\n",
    "\n",
    "- 在实例 `my_tesla` 中查找属性 `battery`\n",
    "- 找到后，对存储在该属性中的 `Battery` 实例调用成员方法 `describeBattery()`"
   ]
  },
  {
   "cell_type": "markdown",
   "metadata": {},
   "source": [
    "#### (5) 再给 `Battery` 类添加一个成员方法\n",
    "\n",
    "\n",
    "- 根据电瓶容量报告汽车的续航里程\n",
    "```python\n",
    "def getRange(self):\n",
    "    #......\n",
    "```"
   ]
  },
  {
   "cell_type": "code",
   "execution_count": null,
   "metadata": {},
   "outputs": [],
   "source": [
    "class Car():\n",
    "    \n",
    "    def __init__(self, make, model, year):\n",
    "        self.make = make\n",
    "        self.model = model\n",
    "        self.year = year\n",
    "        self.odometerReading = 0\n",
    "        \n",
    "    def getDescriptiveName(self):\n",
    "        longName = str(self.year) + \" \" + self.make + \" \" + self.model\n",
    "        return longName\n",
    "\n",
    "class Battery():\n",
    "    \n",
    "    def __init__(self, batterySize=70):\n",
    "        self.batterySize = batterySize\n",
    "        \n",
    "    def describeBattery(self):\n",
    "        print(\"This car has a \" + str(self.batterySize) + \"-kwh battery\")\n",
    "        \n",
    "    def getRange(self):\n",
    "        \"\"\"打印一条消息，指出电瓶的续航里程\"\"\"\n",
    "        if self.batterySize == 70:\n",
    "            range = 240\n",
    "        elif self.batterySize == 85:\n",
    "            range = 270\n",
    "        \n",
    "        message = \"This car can go approximately \" + str(range) + \" miles on a full charge\"\n",
    "        print(message)\n",
    "        \n",
    "class ElectricCar(Car):\n",
    "    \n",
    "    def __init__(self, make, model, year):\n",
    "        super().__init__(make, model, year)\n",
    "        self.battery = Battery()"
   ]
  },
  {
   "cell_type": "code",
   "execution_count": null,
   "metadata": {},
   "outputs": [],
   "source": [
    "my_tesla = ElectricCar(\"tesla\", \"model s\", 2020)\n",
    "print(my_tesla.getDescriptiveName())\n",
    "\n",
    "my_tesla.battery.describeBattery()\n",
    "my_tesla.battery.getRange()"
   ]
  },
  {
   "cell_type": "markdown",
   "metadata": {
    "toc-hr-collapsed": true
   },
   "source": [
    "## 11.6 导入类\n",
    "\n",
    "\n",
    "- 类的功能越来越多，代码可能变得很长\n",
    "\n",
    "\n",
    "- 为了尽可能简洁，`Python` 允许\n",
    "    - 将类存储在模块中\n",
    "    - 然后在主程序中导入所需的模块"
   ]
  },
  {
   "cell_type": "markdown",
   "metadata": {},
   "source": [
    "### 11.6.1 导入单个类"
   ]
  },
  {
   "cell_type": "markdown",
   "metadata": {},
   "source": [
    "#### (1) 创建 `Car` 模块\n",
    "\n",
    "\n",
    "- 只包含 `Car` 类\n",
    "- 命名为 `car.py`"
   ]
  },
  {
   "cell_type": "code",
   "execution_count": null,
   "metadata": {},
   "outputs": [],
   "source": [
    "# 文件 car.py\n",
    "\n",
    "\"\"\" 一个可用于表示汽车的类 \"\"\"\n",
    "\n",
    "class Car():\n",
    "\n",
    "    def __init__(self, make, model, year):\n",
    "        self.make = make\n",
    "        self.model = model\n",
    "        self.year = year\n",
    "        self.odometerReading = 0\n",
    "\n",
    "    def getDescriptiveName(self):\n",
    "        longName = str(self.year) + \" \" + self.make + \" \" + self.model\n",
    "        return longName\n",
    "\n",
    "    def readOdometer(self):\n",
    "        \"\"\" 打印一条消息，指出汽车的里程 \"\"\"\n",
    "        print(\"This car has \" + str(self.odometerReading) + \" miles on it.\")\n",
    "\n",
    "    def updateOdometer(self, mileage):\n",
    "        \"\"\"\n",
    "        将里程表读数设置为指定的值\n",
    "        拒绝将里程表往回调\n",
    "        \"\"\"\n",
    "        if mileage >= self.odometerReading:\n",
    "            self.odometerReading = mileage\n",
    "        else:\n",
    "            print(\"You can't roll back an odometer!\")"
   ]
  },
  {
   "cell_type": "markdown",
   "metadata": {},
   "source": [
    "#### (2) 应用\n",
    "\n",
    "- 导入 `Car` 类\n",
    "- 创建其实例"
   ]
  },
  {
   "cell_type": "code",
   "execution_count": null,
   "metadata": {},
   "outputs": [],
   "source": [
    "# 文件 car.py\n",
    "from files.car import Car"
   ]
  },
  {
   "cell_type": "code",
   "execution_count": null,
   "metadata": {},
   "outputs": [],
   "source": [
    "my_new_car = Car(\"audi\", \"a4\", 2020)"
   ]
  },
  {
   "cell_type": "code",
   "execution_count": null,
   "metadata": {},
   "outputs": [],
   "source": [
    "print(my_new_car.getDescriptiveName())\n",
    "\n",
    "my_new_car.odometerReading = 23\n",
    "my_new_car.readOdometer()"
   ]
  },
  {
   "cell_type": "markdown",
   "metadata": {},
   "source": [
    "#### (3) 导入类的高效性\n",
    "\n",
    "\n",
    "- 导入类是一种提高效率的编程方式\n",
    "    - 将类移到一个模块中\n",
    "    - 导入该模块，仍然可以使用其所有功能\n",
    "    - 主程序文件变得简洁而易读\n",
    "    - 使用与维护也变得更方便"
   ]
  },
  {
   "cell_type": "markdown",
   "metadata": {},
   "source": [
    "### 11.6.2 在一个模块中存储多个类\n",
    "\n",
    "\n",
    "- 有时，若干类之间存在某种相关性，如\n",
    "    - `Battery`\n",
    "    - `ElectricCar`\n",
    "    - `Car`\n",
    "\n",
    "\n",
    "- 可将它们都置入模块 `car.py` 中"
   ]
  },
  {
   "cell_type": "markdown",
   "metadata": {},
   "source": [
    "#### (1) 含多类的文件 `car.py`"
   ]
  },
  {
   "cell_type": "code",
   "execution_count": null,
   "metadata": {},
   "outputs": [],
   "source": [
    "# 文件 electric_car.py\n",
    "\n",
    "\"\"\" 一个可用于表示汽车的类 \"\"\"\n",
    "\"\"\" 一组用于表示燃油汽车和电动汽车的类 \"\"\"\n",
    "\n",
    "class Car():\n",
    "\n",
    "    def __init__(self, make, model, year):\n",
    "        self.make = make\n",
    "        self.model = model\n",
    "        self.year = year\n",
    "        self.odometerReading = 0\n",
    "\n",
    "    def getDescriptiveName(self):\n",
    "        longName = str(self.year) + \" \" + self.make + \" \" + self.model\n",
    "        return longName\n",
    "\n",
    "    def readOdometer(self):\n",
    "        \"\"\" 打印一条消息，指出汽车的里程 \"\"\"\n",
    "        print(\"This car has \" + str(self.odometerReading) + \" miles on it.\")\n",
    "\n",
    "    def updateOdometer(self, mileage):\n",
    "        \"\"\"\n",
    "        将里程表读数设置为指定的值\n",
    "        拒绝将里程表往回调\n",
    "        \"\"\"\n",
    "        if mileage >= self.odometerReading:\n",
    "            self.odometerReading = mileage\n",
    "        else:\n",
    "            print(\"You can't roll back an odometer!\")\n",
    "\n",
    "class Battery():\n",
    "    \"\"\" 一次模拟电动汽车电瓶的简单尝试 \"\"\"\n",
    "    def __init__(self, batterySize=70):\n",
    "        \"\"\" 初始化电瓶属性 \"\"\"\n",
    "        self.batterySize = batterySize\n",
    "\n",
    "    def describeBattery(self):\n",
    "        \"\"\" 打印一条描述电瓶容量信息 \"\"\"\n",
    "        print(\"This car has a \" + str(self.batterySize) + \"-kwh battery.\")\n",
    "\n",
    "    def getRange(self):\n",
    "        \"\"\" 打印一条描述电瓶续航里程的消息 \"\"\"\n",
    "        if self.batterySize == 70:\n",
    "            range = 240\n",
    "        elif self.batterySize == 85:\n",
    "            range = 270\n",
    "\n",
    "        message = \"This car can go approximately \" + str(range) + \" miles on a full charge.\"\n",
    "        print(message)\n",
    "\n",
    "class ElectricCar(Car):\n",
    "    \"\"\" 模拟电动汽车的独特之处 \"\"\"\n",
    "    def __init__(self, make, model, year):\n",
    "        \"\"\"\n",
    "        初始化基类属性，再初始化电动汽车特有的属性\n",
    "        \"\"\"\n",
    "        super().__init__(make, model, year)\n",
    "        self.battery = Battery()"
   ]
  },
  {
   "cell_type": "markdown",
   "metadata": {},
   "source": [
    "#### (2) 应用\n",
    "- 导入 `ElectricCar` 类\n",
    "- 创建一辆电动汽车"
   ]
  },
  {
   "cell_type": "code",
   "execution_count": null,
   "metadata": {},
   "outputs": [],
   "source": [
    "del ElectricCar, Battery"
   ]
  },
  {
   "cell_type": "code",
   "execution_count": null,
   "metadata": {},
   "outputs": [],
   "source": [
    "from files.electric_car import ElectricCar, Car, Battery\n",
    "\n",
    "my_tesla = ElectricCar(\"tesla\", \"model s\", 2020)\n",
    "print(my_tesla.getDescriptiveName())\n",
    "my_tesla.battery.describeBattery()\n",
    "my_tesla.battery.getRange()"
   ]
  },
  {
   "cell_type": "markdown",
   "metadata": {},
   "source": [
    "### 11.6.3 从一个模块中导入多个类\n",
    "\n",
    "\n",
    "- 创建普通汽车和电动汽车，同时导入\n",
    "    - `Car`\n",
    "    - `ElectricCar`"
   ]
  },
  {
   "cell_type": "code",
   "execution_count": null,
   "metadata": {},
   "outputs": [],
   "source": [
    "del Car, ElectricCar"
   ]
  },
  {
   "cell_type": "code",
   "execution_count": null,
   "metadata": {},
   "outputs": [],
   "source": [
    "from files.electric_car import Car, ElectricCar\n",
    "\n",
    "my_beetle = Car(\"volkswagen\", \"my_beetle\", 2020)\n",
    "print(my_beetle.getDescriptiveName())\n",
    "\n",
    "my_tesla = ElectricCar(\"tesla\", \"model s\", 2020)\n",
    "print(my_tesla.getDescriptiveName())"
   ]
  },
  {
   "cell_type": "markdown",
   "metadata": {},
   "source": [
    "### 11.6.4 导入整个模块\n",
    "\n",
    "\n",
    "- 导入整个模块\n",
    "    - 使用句点引用需要的类"
   ]
  },
  {
   "cell_type": "code",
   "execution_count": null,
   "metadata": {},
   "outputs": [],
   "source": [
    "import files.electric_car\n",
    "\n",
    "my_beetle = files.electric_car.Car(\"volkswagen\", \"beetle\", 2020)\n",
    "print(my_beetle.getDescriptiveName())\n",
    "\n",
    "my_tesla = files.electric_car.ElectricCar(\"tesla\", \"model s\", 2020)\n",
    "print(my_tesla.getDescriptiveName())"
   ]
  },
  {
   "cell_type": "code",
   "execution_count": null,
   "metadata": {},
   "outputs": [],
   "source": [
    "import files.electric_car as ec\n",
    "\n",
    "my_beetle = ec.Car(\"volkswagen\", \"beetle\", 2020)\n",
    "print(my_beetle.getDescriptiveName())\n",
    "\n",
    "my_tesla = ec.ElectricCar(\"tesla\", \"model s\", 2020)\n",
    "print(my_tesla.getDescriptiveName())"
   ]
  },
  {
   "cell_type": "markdown",
   "metadata": {},
   "source": [
    "### 11.6.5 在一个模块中导入另外一个模块\n",
    "\n",
    "\n",
    "- 有时需要将类分散到多个模块中，以免模块太大\n",
    "    - 导致一个模块中的类依赖于另一个模块中的类\n",
    "    - 可在前一个模块中导入必要的类"
   ]
  },
  {
   "cell_type": "markdown",
   "metadata": {},
   "source": [
    "#### (1) 三个文件\n",
    "\n",
    "\n",
    "- `car.py`\n",
    "- `electric_car.py` —— 依赖于 `car.py`\n",
    "- `my_cars.py` —— 应用文件，依赖前者"
   ]
  },
  {
   "cell_type": "markdown",
   "metadata": {},
   "source": [
    "#### (2) 文件 `car.py`"
   ]
  },
  {
   "cell_type": "code",
   "execution_count": null,
   "metadata": {},
   "outputs": [],
   "source": [
    "# 文件 car.py\n",
    "\n",
    "\"\"\" 一个可用于表示汽车的类 \"\"\"\n",
    "\"\"\" 一组用于表示燃油汽车和电动汽车的类 \"\"\"\n",
    "\n",
    "class Car():\n",
    "\n",
    "    def __init__(self, make, model, year):\n",
    "        self.make = make\n",
    "        self.model = model\n",
    "        self.year = year\n",
    "        self.odometerReading = 0\n",
    "\n",
    "    def getDescriptiveName(self):\n",
    "        longName = str(self.year) + \" \" + self.make + \" \" + self.model\n",
    "        return longName\n",
    "\n",
    "    def readOdometer(self):\n",
    "        \"\"\" 打印一条消息，指出汽车的里程 \"\"\"\n",
    "        print(\"This car has \" + str(self.odometerReading) + \" miles on it.\")\n",
    "\n",
    "    def updateOdometer(self, mileage):\n",
    "        \"\"\"\n",
    "        将里程表读数设置为指定的值\n",
    "        拒绝将里程表往回调\n",
    "        \"\"\"\n",
    "        if mileage >= self.odometerReading:\n",
    "            self.odometerReading = mileage\n",
    "        else:\n",
    "            print(\"You can't roll back an odometer!\")"
   ]
  },
  {
   "cell_type": "markdown",
   "metadata": {},
   "source": [
    "#### (3) 文件 `electric_car.py`\n",
    "\n",
    "\n",
    "- `ElectricCar` 类依赖其基类 `Car`\n",
    "- 在第一行将Car类导入该模块中"
   ]
  },
  {
   "cell_type": "code",
   "execution_count": null,
   "metadata": {},
   "outputs": [],
   "source": [
    "# 文件 electric_car.py\n",
    "\n",
    "from files.car import Car\n",
    "\n",
    "class Battery():\n",
    "    \"\"\" 一次模拟电动汽车电瓶的简单尝试 \"\"\"\n",
    "    def __init__(self, batterySize=70):\n",
    "        \"\"\" 初始化电瓶属性 \"\"\"\n",
    "        self.batterySize = batterySize\n",
    "\n",
    "    def describeBattery(self):\n",
    "        \"\"\" 打印一条描述电瓶容量信息 \"\"\"\n",
    "        print(\"This car has a \" + str(self.batterySize) + \"-kwh battery.\")\n",
    "\n",
    "    def getRange(self):\n",
    "        \"\"\" 打印一条描述电瓶续航里程的消息 \"\"\"\n",
    "        if self.batterySize == 70:\n",
    "            range = 240\n",
    "        elif self.batterySize == 85:\n",
    "            range = 270\n",
    "\n",
    "        message = \"This car can go approximately \" + str(range) + \" miles on a full charge.\"\n",
    "        print(message)\n",
    "\n",
    "class ElectricCar(Car):\n",
    "    \"\"\" 模拟电动汽车的独特之处 \"\"\"\n",
    "    def __init__(self, make, model, year):\n",
    "        \"\"\"\n",
    "        初始化基类属性，再初始化电动汽车特有的属性\n",
    "        \"\"\"\n",
    "        super().__init__(make, model, year)\n",
    "        self.battery = Battery()"
   ]
  },
  {
   "cell_type": "markdown",
   "metadata": {},
   "source": [
    "#### (4) 应用文件 `my_cars.py`\n",
    "\n",
    "\n",
    "- 分别从每个模块中导入所需的类\n",
    "- 创建所需类型的汽车"
   ]
  },
  {
   "cell_type": "code",
   "execution_count": null,
   "metadata": {},
   "outputs": [],
   "source": [
    "# 文件 my_cars.py\n",
    "\n",
    "from files.car import Car\n",
    "from files.electric_car import ElectricCar\n",
    "\n",
    "my_beetle = Car(\"volkswagen\", \"beetle\", 2020)\n",
    "print(my_beetle.getDescriptiveName())\n",
    "\n",
    "my_tesla = ElectricCar(\"tesla\", \"model s\", 2020)\n",
    "print(my_tesla.getDescriptiveName())"
   ]
  },
  {
   "cell_type": "markdown",
   "metadata": {},
   "source": [
    "例：圆与椭圆"
   ]
  },
  {
   "cell_type": "code",
   "execution_count": null,
   "metadata": {},
   "outputs": [],
   "source": [
    "## 定义一个圆类 Circle\n",
    "## x、y、r1\n",
    "## 相应功能如，print，__init__,area\n",
    "class Circle():\n",
    "    \"\"\"这是一个圆类\"\"\"\n",
    "    def __init__(self,x,y,r1):\n",
    "        self.x = x\n",
    "        self.y = y\n",
    "        self.r1 = r1\n",
    "        \n",
    "    def print(self):\n",
    "        print(\"圆心在({0},{1})，半径为{2}。\".format(self.x, self.y, self.r1))\n",
    "        \n",
    "    def area(self):\n",
    "        import math\n",
    "        print(\"圆的面积为{0}\".format(math.pi* self.r1**2))\n",
    "        \n",
    "    def dist(self, c2):\n",
    "        import math\n",
    "        dx = self.x - c2.x\n",
    "        dy = self.y - c2.y\n",
    "        return math.sqrt(dx**2 + dy**2)\n",
    " \n",
    "## 派生一个椭圆类Ellipse\n",
    "## 增加r2,\n",
    "class Ellipse(Circle):\n",
    "    \"\"\"这是一个椭圆类\"\"\"\n",
    "    def __init__(self,x,y,r1,r2):\n",
    "        super().__init__(x,y,r1)\n",
    "        self.r2 = r2\n",
    "        \n",
    "    def print(self):\n",
    "        print(\"圆心在({0},{1})，长轴半径为{2}，短轴半径为{3}。\".format(self.x, self.y, self.r1, self.r2))\n",
    "        \n",
    "    def area(self):\n",
    "        import math\n",
    "        print(\"圆的面积为{0}\".format(math.pi* self.r1* self.r2))\n",
    "        pass\n"
   ]
  },
  {
   "cell_type": "code",
   "execution_count": null,
   "metadata": {},
   "outputs": [],
   "source": [
    "c1 = Circle(1,2,3)\n",
    "c2 = Circle(2,3,4)\n",
    "e1 = Ellipse(1,2,3,4)\n",
    "e2 = Ellipse(2,3,3,4)\n",
    "c1.print()\n",
    "e1.print()\n",
    "c1.area()\n",
    "e1.area()\n",
    "print(c1.dist(c2))\n",
    "print(e1.dist(e2))\n",
    "print(c1.dist(e2))\n",
    "\n",
    "c1.x, c1.y, e1.x, e1.y"
   ]
  },
  {
   "cell_type": "code",
   "execution_count": null,
   "metadata": {},
   "outputs": [],
   "source": [
    "e2.dist(e1)"
   ]
  },
  {
   "cell_type": "markdown",
   "metadata": {
    "toc-hr-collapsed": true
   },
   "source": [
    "## 11.7 多态"
   ]
  },
  {
   "cell_type": "markdown",
   "metadata": {},
   "source": [
    "### 11.7.1 具有多样性的大千世界"
   ]
  },
  {
   "cell_type": "markdown",
   "metadata": {},
   "source": [
    "#### (1) 动物的世界\n",
    "\n",
    "\n",
    "- 基类 `Animal`，带有一个函数方法 `move`\n",
    "\n",
    "\n",
    "- 派生类 `Dog`、`Bird` 和 `Fish` 什么都不做，就继承了基类的方法\n",
    "    - 代码复用\n",
    "    - 高效率"
   ]
  },
  {
   "cell_type": "code",
   "execution_count": 14,
   "metadata": {},
   "outputs": [],
   "source": [
    "# 基类 Animal\n",
    "class Animal:\n",
    "    def move(self):\n",
    "        print('Animal is moving...')"
   ]
  },
  {
   "cell_type": "code",
   "execution_count": 15,
   "metadata": {},
   "outputs": [],
   "source": [
    "# 三个派生类\n",
    "\n",
    "# 派生类 Dog\n",
    "class Dog(Animal):\n",
    "    pass\n",
    "\n",
    "# 派生类 Bird\n",
    "class Bird(Animal):\n",
    "    pass\n",
    "\n",
    "# 派生类 Fish\n",
    "class Fish(Animal):\n",
    "    pass"
   ]
  },
  {
   "cell_type": "code",
   "execution_count": 16,
   "metadata": {},
   "outputs": [
    {
     "name": "stdout",
     "output_type": "stream",
     "text": [
      "Animal is moving...\n"
     ]
    }
   ],
   "source": [
    "# Dog 的实例对象 d\n",
    "d = Dog()\n",
    "d.move()"
   ]
  },
  {
   "cell_type": "code",
   "execution_count": 17,
   "metadata": {},
   "outputs": [
    {
     "name": "stdout",
     "output_type": "stream",
     "text": [
      "Animal is moving...\n"
     ]
    }
   ],
   "source": [
    "# Bird 的实例对象 b\n",
    "b = Bird()\n",
    "b.move()"
   ]
  },
  {
   "cell_type": "code",
   "execution_count": 18,
   "metadata": {},
   "outputs": [
    {
     "name": "stdout",
     "output_type": "stream",
     "text": [
      "Animal is moving...\n"
     ]
    }
   ],
   "source": [
    "# Fish 的实例对象 f\n",
    "f = Fish()\n",
    "f.move()"
   ]
  },
  {
   "cell_type": "markdown",
   "metadata": {},
   "source": [
    "#### (2) 美中不足\n",
    "\n",
    "\n",
    "- 上述三个派生类 `Dog`、`Bird` 和 `Fish` 的 `move` 行为没有个性，显然不合理\n",
    "\n",
    "\n",
    "- 合理的行为应是\n",
    "    - Dog —— \"Dog is running...\"\n",
    "    - Bird —— \"Bird is flying...\"\n",
    "    - Fish —— \"Fishg is swimming...\""
   ]
  },
  {
   "cell_type": "markdown",
   "metadata": {},
   "source": [
    "#### (3) 改进派生类"
   ]
  },
  {
   "cell_type": "code",
   "execution_count": 19,
   "metadata": {},
   "outputs": [],
   "source": [
    "# 派生类 Dog\n",
    "class Dog(Animal):\n",
    "    def move(self):\n",
    "        print(\"Dog is running...\")\n",
    "\n",
    "\n",
    "# 派生类 Birdg\n",
    "class Bird(Animal):\n",
    "    def move(self):\n",
    "        print(\"Bird is flying...\")\n",
    "\n",
    "\n",
    "# 派生类 Fish\n",
    "class Fish(Animal):\n",
    "    def move(self):\n",
    "        print(\"Fish is swimming...\")"
   ]
  },
  {
   "cell_type": "markdown",
   "metadata": {},
   "source": [
    "#### (4) 多态的实现\n",
    "\n",
    "\n",
    "- 当派生类方法与基类方法相同时 —— 同名、同参\n",
    "    - 派生类的方法将覆盖基类的方法\n",
    "    - 调用时，将会调用派生类的方法\n",
    "    - 这种机制，称为多态！"
   ]
  },
  {
   "cell_type": "code",
   "execution_count": 20,
   "metadata": {},
   "outputs": [
    {
     "name": "stdout",
     "output_type": "stream",
     "text": [
      "Dog is running...\n"
     ]
    }
   ],
   "source": [
    "dog = Dog()\n",
    "dog.move()"
   ]
  },
  {
   "cell_type": "code",
   "execution_count": 21,
   "metadata": {},
   "outputs": [
    {
     "name": "stdout",
     "output_type": "stream",
     "text": [
      "Bird is flying...\n"
     ]
    }
   ],
   "source": [
    "bird = Bird()\n",
    "bird.move()"
   ]
  },
  {
   "cell_type": "code",
   "execution_count": 22,
   "metadata": {},
   "outputs": [
    {
     "name": "stdout",
     "output_type": "stream",
     "text": [
      "Fish is swimming...\n"
     ]
    }
   ],
   "source": [
    "fish = Fish()\n",
    "fish.move()"
   ]
  },
  {
   "cell_type": "markdown",
   "metadata": {},
   "source": [
    "#### (5) 多态用在函数中"
   ]
  },
  {
   "cell_type": "markdown",
   "metadata": {},
   "source": [
    "- 定义一个函数 `WhatIsItDoing`\n",
    "\n",
    "\n",
    "- 运行 Move 函数\n",
    "\n",
    "\n",
    "- 函数参数\n",
    "    - `animal` 是基类 `Animal` 的一个实现，即对象"
   ]
  },
  {
   "cell_type": "code",
   "execution_count": 23,
   "metadata": {},
   "outputs": [],
   "source": [
    "def WhatIsItDoing(animal):\n",
    "    animal.move()"
   ]
  },
  {
   "cell_type": "code",
   "execution_count": 24,
   "metadata": {},
   "outputs": [
    {
     "name": "stdout",
     "output_type": "stream",
     "text": [
      "Dog is running...\n"
     ]
    }
   ],
   "source": [
    "WhatIsItDoing(dog)"
   ]
  },
  {
   "cell_type": "code",
   "execution_count": 25,
   "metadata": {},
   "outputs": [
    {
     "name": "stdout",
     "output_type": "stream",
     "text": [
      "Bird is flying...\n",
      "Fish is swimming...\n"
     ]
    }
   ],
   "source": [
    "WhatIsItDoing(bird)\n",
    "WhatIsItDoing(fish)"
   ]
  },
  {
   "cell_type": "markdown",
   "metadata": {},
   "source": [
    "#### (6) 进一步思考 —— 多态可扩展\n",
    "\n",
    "\n",
    "- 上例实现的多态\n",
    "    - 不足为奇吗？\n",
    "\n",
    "\n",
    "- 再派生一个新类\n",
    "    - `Snake`"
   ]
  },
  {
   "cell_type": "code",
   "execution_count": null,
   "metadata": {},
   "outputs": [],
   "source": [
    "# 派生类 Snake及其方法 move\n",
    "class Snake(Animal):\n",
    "    def move(self):\n",
    "        print(\"Snake is crawling...\")"
   ]
  },
  {
   "cell_type": "code",
   "execution_count": null,
   "metadata": {},
   "outputs": [],
   "source": [
    "snake = Snake()\n",
    "WhatIsItDoing(snake)"
   ]
  },
  {
   "cell_type": "markdown",
   "metadata": {},
   "source": [
    "#### (7) 代码说明 —— 热插拔式的多态\n",
    "\n",
    "- 新增一个类 `Snake`\n",
    "- 没有修改原函数 `WhatIsItDoing`\n",
    "- 任何以 `Animal` 对象作为参数的函数，都可用于新增的派生类\n",
    "    - 这是一种热插拔式的多态"
   ]
  },
  {
   "cell_type": "markdown",
   "metadata": {},
   "source": [
    "#### (8) *开闭原则 —— 面向对象程序设计最重要的原则之一\n",
    "\n",
    "\n",
    "- 对扩展开放\n",
    "- 对修改封闭\n",
    "\n",
    "\n",
    "- 如上例\n",
    "    - 对新增类开放\n",
    "    - 对修改内部函数 `WhatIsItDoing` 等"
   ]
  },
  {
   "cell_type": "markdown",
   "metadata": {
    "toc-hr-collapsed": true
   },
   "source": [
    "## 11.8 类与实例的一些概念"
   ]
  },
  {
   "cell_type": "markdown",
   "metadata": {},
   "source": [
    "- 对象属性 —— 亦称对象成员、对象变量\n",
    "\n",
    "\n",
    "- 类属性 —— 亦称类成员、类变量\n",
    "    - 定义在（全部）成员函数外面的属性\n",
    "    - 不属于类的任何实例\n",
    "    - 可用来实现静态属性\n",
    "\n",
    "\n",
    "- 静态属性 —— 亦称静态成员、静态变量\n",
    "    - 类属性\n",
    "    - 表现共性\n",
    "\n",
    "\n",
    "- 对象属性的访问（类外部）\n",
    "```python\n",
    ">>> objName.classVariable\n",
    "```\n",
    "\n",
    "\n",
    "- 对象属性的访问（类内部）\n",
    "```python\n",
    ">>> self.classVariable\n",
    "```\n",
    "\n",
    "\n",
    "- 类属性的访问(类内部或外部)\n",
    "```python\n",
    ">>> ClassName.classVariable\n",
    "```"
   ]
  },
  {
   "cell_type": "markdown",
   "metadata": {},
   "source": [
    "#### 例  含有 类属性  (静态属性)  的类\n",
    "\n",
    "\n",
    "- 对象属性 `data`\n",
    "- 类属性 `count` —— 计数器"
   ]
  },
  {
   "cell_type": "code",
   "execution_count": 40,
   "metadata": {},
   "outputs": [],
   "source": [
    "class Smart:\n",
    "    \"\"\"\n",
    "    类 Smart 含一个类属性 count\n",
    "    它由所有对象共有\n",
    "    可用来做 静态属性 计数器\n",
    "    \"\"\"\n",
    "    count = 0             # 类属性，在所有成员方法外面定义\n",
    "    \n",
    "    def __init__(self,d):\n",
    "        self.data = d     # 类内部，通过 self 引用\n",
    "        Smart.count += 1  # 通过类名引用\n",
    "\n",
    "    def Print(self):\n",
    "        print(\"data = {0},  count = {1}\".format(self.data, Smart.count)) # self 引用 data，类名引用 count"
   ]
  },
  {
   "cell_type": "code",
   "execution_count": 41,
   "metadata": {},
   "outputs": [
    {
     "name": "stdout",
     "output_type": "stream",
     "text": [
      "data = 111,  count = 1\n"
     ]
    }
   ],
   "source": [
    "s1 = Smart(111)\n",
    "s1.Print()"
   ]
  },
  {
   "cell_type": "code",
   "execution_count": 42,
   "metadata": {},
   "outputs": [
    {
     "name": "stdout",
     "output_type": "stream",
     "text": [
      "data = 222,  count = 2\n"
     ]
    }
   ],
   "source": [
    "s2 = Smart(222)\n",
    "s2.Print()"
   ]
  },
  {
   "cell_type": "code",
   "execution_count": 43,
   "metadata": {},
   "outputs": [
    {
     "name": "stdout",
     "output_type": "stream",
     "text": [
      "data = 333,  count = 3\n"
     ]
    }
   ],
   "source": [
    "s3 = Smart(333)\n",
    "s3.Print()"
   ]
  },
  {
   "cell_type": "code",
   "execution_count": 44,
   "metadata": {},
   "outputs": [
    {
     "data": {
      "text/plain": [
       "(140704308515048, 140704308518600, 2740132503920)"
      ]
     },
     "execution_count": 44,
     "metadata": {},
     "output_type": "execute_result"
    }
   ],
   "source": [
    "id(s1.data), id(s2.data), id(s3.data)"
   ]
  },
  {
   "cell_type": "code",
   "execution_count": 51,
   "metadata": {},
   "outputs": [
    {
     "data": {
      "text/plain": [
       "(140704308517896, 140704308514696, 140704308514696)"
      ]
     },
     "execution_count": 51,
     "metadata": {},
     "output_type": "execute_result"
    }
   ],
   "source": [
    "id(s1.count), id(s2.count), id(s3.count)"
   ]
  },
  {
   "cell_type": "code",
   "execution_count": 49,
   "metadata": {},
   "outputs": [],
   "source": [
    "s1.count = 200"
   ]
  },
  {
   "cell_type": "code",
   "execution_count": 50,
   "metadata": {},
   "outputs": [
    {
     "data": {
      "text/plain": [
       "(200, 100, 100)"
      ]
     },
     "execution_count": 50,
     "metadata": {},
     "output_type": "execute_result"
    }
   ],
   "source": [
    "s1.count, s2.count, s3.count"
   ]
  },
  {
   "cell_type": "markdown",
   "metadata": {},
   "source": [
    "### 12.8.2 类方法与对象方法\n",
    "\n",
    "\n",
    "- 类方法，亦称类函数\n",
    "- 对象方法，亦称对象函数、成员函数"
   ]
  },
  {
   "cell_type": "markdown",
   "metadata": {},
   "source": [
    "#### 例  带类方法和对象方法的类 `Greeting`"
   ]
  },
  {
   "cell_type": "code",
   "execution_count": 32,
   "metadata": {},
   "outputs": [],
   "source": [
    "class Greeting:\n",
    "    def __init__(self, name):\n",
    "        self.name = name\n",
    "\n",
    "    def ObjSay(self):  # 对象方法\n",
    "        print(\"Hi, guy! I am {0}\".format(self.name))\n",
    "\n",
    "    def AllSay():      # 类方法\n",
    "        print(\"Hello, friend!\")"
   ]
  },
  {
   "cell_type": "code",
   "execution_count": 33,
   "metadata": {},
   "outputs": [],
   "source": [
    "sh = Greeting(\"Shanghai\")"
   ]
  },
  {
   "cell_type": "code",
   "execution_count": 34,
   "metadata": {},
   "outputs": [
    {
     "ename": "TypeError",
     "evalue": "Greeting.AllSay() takes 0 positional arguments but 1 was given",
     "output_type": "error",
     "traceback": [
      "\u001b[1;31m---------------------------------------------------------------------------\u001b[0m",
      "\u001b[1;31mTypeError\u001b[0m                                 Traceback (most recent call last)",
      "Cell \u001b[1;32mIn[34], line 2\u001b[0m\n\u001b[0;32m      1\u001b[0m \u001b[38;5;66;03m#sh.ObjSay()    ### 等价于 Greeting.ObjSay(sh)\u001b[39;00m\n\u001b[1;32m----> 2\u001b[0m sh\u001b[38;5;241m.\u001b[39mAllSay()\n",
      "\u001b[1;31mTypeError\u001b[0m: Greeting.AllSay() takes 0 positional arguments but 1 was given"
     ]
    }
   ],
   "source": [
    "#sh.ObjSay()    ### 等价于 Greeting.ObjSay(sh)\n",
    "sh.AllSay() # 不能通过对象调用类方法，报错"
   ]
  },
  {
   "cell_type": "code",
   "execution_count": null,
   "metadata": {},
   "outputs": [],
   "source": [
    "# 通过对象调用对象方法，隐含第一个参数是对象\n",
    "sh.ObjSay()"
   ]
  },
  {
   "cell_type": "code",
   "execution_count": 35,
   "metadata": {},
   "outputs": [
    {
     "name": "stdout",
     "output_type": "stream",
     "text": [
      "Hello, friend!\n"
     ]
    }
   ],
   "source": [
    "Greeting.AllSay() # 必须通过类名调用类方法，正确"
   ]
  },
  {
   "cell_type": "markdown",
   "metadata": {},
   "source": [
    "- 几点说明\n",
    "    - 类方法 —— 只能通过类名调用，无须传入对象参数\n",
    "    - 对象方法\n",
    "        - 可通过类名调用，必须显式传入对象参数\n",
    "        - 可通过对象调用，隐式传入对象参数"
   ]
  },
  {
   "cell_type": "markdown",
   "metadata": {},
   "source": [
    "### 12.8.3 关于 `self`\n",
    "\n",
    "\n",
    "- 说明\n",
    "    - `self` 代表对象自身\n",
    "    - 类似于 `C++` 语言中的 `this` 指针\n",
    "\n",
    "\n",
    "- 两个问题\n",
    "    - `self` 是关键字吗？\n",
    "    - 为什么函数的第一个参数要用 `self`？"
   ]
  },
  {
   "cell_type": "markdown",
   "metadata": {},
   "source": [
    "#### (1) 问题 `self` 是关键字吗？\n",
    "\n",
    "- 回答\n",
    "    - 不是关键字，可视为标记符，代表对象自身\n",
    "    - 可采用其它非 `self` 标记符 (<font color=\"red\">不要这么做</font>)\n",
    "    - 必须是方法的第一个参数"
   ]
  },
  {
   "cell_type": "markdown",
   "metadata": {},
   "source": [
    "#### (2) 问题 为什么函数的第一个参数要用 `self` (或其它标记符) 指向对象自身？\n",
    "\n",
    "- 回答\n",
    "    - 由对象调用函数时，必须能访问调用对象"
   ]
  },
  {
   "cell_type": "markdown",
   "metadata": {},
   "source": [
    "#### 例  第一个参数也可采用其它标记符\n",
    "\n",
    "\n",
    "- 通过不同标记符访问对象成员\n",
    "```python\n",
    ">>> obj_name.Method(parameters)\n",
    "```"
   ]
  },
  {
   "cell_type": "code",
   "execution_count": 52,
   "metadata": {},
   "outputs": [],
   "source": [
    "class CartoonRole:\n",
    "    def __init__(this, name): # 采用 this\n",
    "        this.name = name\n",
    "\n",
    "    def Print(me):            # 采用 me，\n",
    "        print(\"Hello, I am {0}\".format(me.name))"
   ]
  },
  {
   "cell_type": "code",
   "execution_count": 53,
   "metadata": {},
   "outputs": [],
   "source": [
    "jerry = CartoonRole(\"Jerry\")"
   ]
  },
  {
   "cell_type": "code",
   "execution_count": 54,
   "metadata": {},
   "outputs": [
    {
     "name": "stdout",
     "output_type": "stream",
     "text": [
      "Hello, I am Jerry\n"
     ]
    }
   ],
   "source": [
    "jerry.Print()"
   ]
  },
  {
   "cell_type": "markdown",
   "metadata": {},
   "source": [
    "- 也可用类函数方法访问\n",
    "\n",
    "```python\n",
    ">>> ClassName.Method(obj_name, parameters)\n",
    "```"
   ]
  },
  {
   "cell_type": "code",
   "execution_count": null,
   "metadata": {},
   "outputs": [],
   "source": [
    "CartoonRole.Print(jerry)"
   ]
  },
  {
   "cell_type": "markdown",
   "metadata": {},
   "source": [
    "### 12.8.4 测试类与对象关系"
   ]
  },
  {
   "cell_type": "markdown",
   "metadata": {},
   "source": [
    "#### (1) 获得类名称 —— 利用 `__class__.__name__`\n",
    "\n",
    "- 语法\n",
    "\n",
    "```python\n",
    ">>> obj.__class__.__name__\n",
    "```"
   ]
  },
  {
   "cell_type": "code",
   "execution_count": 56,
   "metadata": {},
   "outputs": [
    {
     "data": {
      "text/plain": [
       "['__abstractmethods__',\n",
       " '__annotations__',\n",
       " '__base__',\n",
       " '__bases__',\n",
       " '__basicsize__',\n",
       " '__call__',\n",
       " '__class__',\n",
       " '__delattr__',\n",
       " '__dict__',\n",
       " '__dictoffset__',\n",
       " '__dir__',\n",
       " '__doc__',\n",
       " '__eq__',\n",
       " '__flags__',\n",
       " '__format__',\n",
       " '__ge__',\n",
       " '__getattribute__',\n",
       " '__getstate__',\n",
       " '__gt__',\n",
       " '__hash__',\n",
       " '__init__',\n",
       " '__init_subclass__',\n",
       " '__instancecheck__',\n",
       " '__itemsize__',\n",
       " '__le__',\n",
       " '__lt__',\n",
       " '__module__',\n",
       " '__mro__',\n",
       " '__name__',\n",
       " '__ne__',\n",
       " '__new__',\n",
       " '__or__',\n",
       " '__prepare__',\n",
       " '__qualname__',\n",
       " '__reduce__',\n",
       " '__reduce_ex__',\n",
       " '__repr__',\n",
       " '__ror__',\n",
       " '__setattr__',\n",
       " '__sizeof__',\n",
       " '__str__',\n",
       " '__subclasscheck__',\n",
       " '__subclasses__',\n",
       " '__subclasshook__',\n",
       " '__text_signature__',\n",
       " '__weakrefoffset__',\n",
       " 'mro']"
      ]
     },
     "execution_count": 56,
     "metadata": {},
     "output_type": "execute_result"
    }
   ],
   "source": [
    "dir(CartoonRole.__class__)"
   ]
  },
  {
   "cell_type": "markdown",
   "metadata": {},
   "source": [
    "#### 例  从实例查询类名"
   ]
  },
  {
   "cell_type": "code",
   "execution_count": 55,
   "metadata": {},
   "outputs": [
    {
     "data": {
      "text/plain": [
       "'CartoonRole'"
      ]
     },
     "execution_count": 55,
     "metadata": {},
     "output_type": "execute_result"
    }
   ],
   "source": [
    "jerry.__class__.__name__"
   ]
  },
  {
   "cell_type": "code",
   "execution_count": null,
   "metadata": {},
   "outputs": [],
   "source": [
    "jerry.__class__"
   ]
  },
  {
   "cell_type": "markdown",
   "metadata": {},
   "source": [
    "#### (2) `isinstance` 函数\n",
    "\n",
    "\n",
    "- 语法\n",
    "\n",
    "```python\n",
    ">>> isinstance(instance_obj, Classes)\n",
    "```\n",
    "\n",
    "\n",
    "- 功能 —— 判断 `instance_obj` 是否是 `Classes` 类的实例\n",
    "\n",
    "\n",
    "- 返回\n",
    "    - True 是\n",
    "    - False 不是"
   ]
  },
  {
   "cell_type": "code",
   "execution_count": 57,
   "metadata": {},
   "outputs": [],
   "source": [
    "class Animal:\n",
    "    def __init__(self, name):\n",
    "        self.name = name"
   ]
  },
  {
   "cell_type": "code",
   "execution_count": 58,
   "metadata": {},
   "outputs": [],
   "source": [
    "class Dog(Animal):\n",
    "    \"\"\"\n",
    "    Dogs are friends of mankind.\n",
    "    Dogs are honest!\n",
    "    \"\"\"\n",
    "    def __init__(self, name, ar):\n",
    "        Animal.__init__(self, name)\n",
    "        self.actRange = ar\n",
    "\n",
    "    def Print(self):\n",
    "        print(\"Dog {0}, act in {1}\".format(self.name, self.actRange))"
   ]
  },
  {
   "cell_type": "markdown",
   "metadata": {},
   "source": [
    "#### 例  判断是否是类-实例关系"
   ]
  },
  {
   "cell_type": "code",
   "execution_count": 59,
   "metadata": {},
   "outputs": [
    {
     "name": "stdout",
     "output_type": "stream",
     "text": [
      "Dog Pluto, act in Ground\n"
     ]
    }
   ],
   "source": [
    "d = Dog(\"Pluto\", \"Ground\")\n",
    "d.Print()"
   ]
  },
  {
   "cell_type": "code",
   "execution_count": 60,
   "metadata": {},
   "outputs": [
    {
     "data": {
      "text/plain": [
       "True"
      ]
     },
     "execution_count": 60,
     "metadata": {},
     "output_type": "execute_result"
    }
   ],
   "source": [
    "isinstance(d, Dog)"
   ]
  },
  {
   "cell_type": "code",
   "execution_count": 61,
   "metadata": {},
   "outputs": [
    {
     "data": {
      "text/plain": [
       "True"
      ]
     },
     "execution_count": 61,
     "metadata": {},
     "output_type": "execute_result"
    }
   ],
   "source": [
    "isinstance(d, Animal)"
   ]
  },
  {
   "cell_type": "code",
   "execution_count": 62,
   "metadata": {},
   "outputs": [
    {
     "data": {
      "text/plain": [
       "True"
      ]
     },
     "execution_count": 62,
     "metadata": {},
     "output_type": "execute_result"
    }
   ],
   "source": [
    "pet = Animal(\"baby\")\n",
    "isinstance(pet, Animal)"
   ]
  },
  {
   "cell_type": "code",
   "execution_count": 63,
   "metadata": {},
   "outputs": [
    {
     "data": {
      "text/plain": [
       "False"
      ]
     },
     "execution_count": 63,
     "metadata": {},
     "output_type": "execute_result"
    }
   ],
   "source": [
    "isinstance(pet, Dog)"
   ]
  },
  {
   "cell_type": "code",
   "execution_count": 64,
   "metadata": {},
   "outputs": [
    {
     "data": {
      "text/plain": [
       "True"
      ]
     },
     "execution_count": 64,
     "metadata": {},
     "output_type": "execute_result"
    }
   ],
   "source": [
    "isinstance([1,2,3], (list, set)) # 判断是否是某一个类的实例"
   ]
  },
  {
   "cell_type": "markdown",
   "metadata": {},
   "source": [
    "#### (3) `issubclass` 函数\n",
    "\n",
    "\n",
    "- 语法\n",
    "\n",
    "```python\n",
    ">>> issubclass(son, parent)\n",
    "```\n",
    "\n",
    "\n",
    "- 功能 —— 判断父子关系\n",
    "\n",
    "\n",
    "- 返回\n",
    "    - True 是父子\n",
    "    - False 不是父子"
   ]
  },
  {
   "cell_type": "markdown",
   "metadata": {},
   "source": [
    "#### 例  判断`两个类`是否是`继承派生关系`"
   ]
  },
  {
   "cell_type": "code",
   "execution_count": 65,
   "metadata": {},
   "outputs": [
    {
     "data": {
      "text/plain": [
       "True"
      ]
     },
     "execution_count": 65,
     "metadata": {},
     "output_type": "execute_result"
    }
   ],
   "source": [
    "issubclass(Dog, Animal)"
   ]
  },
  {
   "cell_type": "code",
   "execution_count": null,
   "metadata": {},
   "outputs": [],
   "source": [
    "class SchoolPerson : pass\n",
    "class Student(SchoolPerson) : pass"
   ]
  },
  {
   "cell_type": "code",
   "execution_count": null,
   "metadata": {},
   "outputs": [],
   "source": [
    "issubclass(Student, Animal)"
   ]
  },
  {
   "cell_type": "code",
   "execution_count": null,
   "metadata": {},
   "outputs": [],
   "source": [
    "issubclass(Student, SchoolPerson)"
   ]
  },
  {
   "cell_type": "markdown",
   "metadata": {},
   "source": [
    "#### (4) 父类名称属性\n",
    "\n",
    "\n",
    "- 语法\n",
    "\n",
    "```python\n",
    ">>> DerivedClassName.__bases__\n",
    "```\n",
    "\n",
    "\n",
    "- 功能 —— 返回父类名称（可多继承）"
   ]
  },
  {
   "cell_type": "markdown",
   "metadata": {},
   "source": [
    "#### 例  获取父类名称（元组）"
   ]
  },
  {
   "cell_type": "code",
   "execution_count": 66,
   "metadata": {},
   "outputs": [],
   "source": [
    "class Person:pass\n",
    "class Father(Person):pass\n",
    "class Mother(Person):pass\n",
    "\n",
    "class Son(Father, Mother):pass"
   ]
  },
  {
   "cell_type": "code",
   "execution_count": 67,
   "metadata": {},
   "outputs": [
    {
     "name": "stdout",
     "output_type": "stream",
     "text": [
      "Son is derived from:\n",
      "\t Father\n",
      "\t Mother\n"
     ]
    }
   ],
   "source": [
    "print(\"{0} is derived from:\".format(Son.__name__))\n",
    "for base in Son.__bases__:\n",
    "    print(\"\\t\",base.__name__)"
   ]
  },
  {
   "cell_type": "code",
   "execution_count": null,
   "metadata": {},
   "outputs": [],
   "source": [
    "Son.__bases__"
   ]
  },
  {
   "cell_type": "code",
   "execution_count": null,
   "metadata": {},
   "outputs": [],
   "source": [
    "for oneParent in Son.__bases__:\n",
    "    print(oneParent.__name__)"
   ]
  },
  {
   "cell_type": "markdown",
   "metadata": {},
   "source": [
    "#### (5) 更多的功能\n",
    "\n",
    "\n",
    "- 查询\n",
    "```python\n",
    ">>> dir(obj)\n",
    "```\n",
    "\n",
    "\n",
    "- 求助\n",
    "```python\n",
    ">>> obj?\n",
    "```"
   ]
  },
  {
   "cell_type": "markdown",
   "metadata": {},
   "source": [
    "#### 例  查询对象的属性和方法"
   ]
  },
  {
   "cell_type": "code",
   "execution_count": 68,
   "metadata": {},
   "outputs": [
    {
     "name": "stdout",
     "output_type": "stream",
     "text": [
      "Dog Pluto, act in Ground\n"
     ]
    }
   ],
   "source": [
    "class Animal:\n",
    "    def __init__(self, name):\n",
    "        self.name = name\n",
    "\n",
    "class Dog(Animal):\n",
    "    \"\"\"\n",
    "    Dogs are friends of mankind.\n",
    "    Dogs are honest!\n",
    "    \"\"\"\n",
    "    def __init__(self, name, ar):\n",
    "        Animal.__init__(self, name)\n",
    "        self.actRange = ar\n",
    "\n",
    "    def Print(self):\n",
    "        print(\"Dog {0}, act in {1}\".format(self.name, self.actRange))\n",
    "\n",
    "d = Dog(\"Pluto\", \"Ground\")\n",
    "d.Print()"
   ]
  },
  {
   "cell_type": "code",
   "execution_count": 69,
   "metadata": {},
   "outputs": [
    {
     "data": {
      "text/plain": [
       "['Print',\n",
       " '__class__',\n",
       " '__delattr__',\n",
       " '__dict__',\n",
       " '__dir__',\n",
       " '__doc__',\n",
       " '__eq__',\n",
       " '__format__',\n",
       " '__ge__',\n",
       " '__getattribute__',\n",
       " '__getstate__',\n",
       " '__gt__',\n",
       " '__hash__',\n",
       " '__init__',\n",
       " '__init_subclass__',\n",
       " '__le__',\n",
       " '__lt__',\n",
       " '__module__',\n",
       " '__ne__',\n",
       " '__new__',\n",
       " '__reduce__',\n",
       " '__reduce_ex__',\n",
       " '__repr__',\n",
       " '__setattr__',\n",
       " '__sizeof__',\n",
       " '__str__',\n",
       " '__subclasshook__',\n",
       " '__weakref__',\n",
       " 'actRange',\n",
       " 'name']"
      ]
     },
     "execution_count": 69,
     "metadata": {},
     "output_type": "execute_result"
    }
   ],
   "source": [
    "dir(d)"
   ]
  },
  {
   "cell_type": "code",
   "execution_count": null,
   "metadata": {},
   "outputs": [],
   "source": [
    "# 查询对象的属性或方法\n",
    "d.__doc__?"
   ]
  },
  {
   "cell_type": "code",
   "execution_count": null,
   "metadata": {},
   "outputs": [],
   "source": [
    "d.__delattr__?"
   ]
  },
  {
   "cell_type": "markdown",
   "metadata": {},
   "source": [
    "### 12.8.5 类和实例的属性方法绑定\n",
    "\n",
    "\n",
    "- 后期定制类的一种高级技巧"
   ]
  },
  {
   "cell_type": "markdown",
   "metadata": {},
   "source": [
    "#### 例  绑定属性与方法"
   ]
  },
  {
   "cell_type": "markdown",
   "metadata": {},
   "source": [
    "#### (1) 给实例绑定属性和方法"
   ]
  },
  {
   "cell_type": "code",
   "execution_count": 70,
   "metadata": {},
   "outputs": [],
   "source": [
    "# 创建一个空类 Player\n",
    "class Player:\n",
    "    pass"
   ]
  },
  {
   "cell_type": "code",
   "execution_count": 71,
   "metadata": {},
   "outputs": [],
   "source": [
    "p1 = Player()\n",
    "p2 = Player()"
   ]
  },
  {
   "cell_type": "code",
   "execution_count": null,
   "metadata": {},
   "outputs": [],
   "source": [
    "#p1.blood"
   ]
  },
  {
   "cell_type": "code",
   "execution_count": 73,
   "metadata": {},
   "outputs": [
    {
     "data": {
      "text/plain": [
       "20"
      ]
     },
     "execution_count": 73,
     "metadata": {},
     "output_type": "execute_result"
    }
   ],
   "source": [
    "p1.blood = 20\n",
    "p1.blood"
   ]
  },
  {
   "cell_type": "code",
   "execution_count": 74,
   "metadata": {
    "scrolled": true
   },
   "outputs": [
    {
     "data": {
      "text/plain": [
       "['__class__',\n",
       " '__delattr__',\n",
       " '__dict__',\n",
       " '__dir__',\n",
       " '__doc__',\n",
       " '__eq__',\n",
       " '__format__',\n",
       " '__ge__',\n",
       " '__getattribute__',\n",
       " '__getstate__',\n",
       " '__gt__',\n",
       " '__hash__',\n",
       " '__init__',\n",
       " '__init_subclass__',\n",
       " '__le__',\n",
       " '__lt__',\n",
       " '__module__',\n",
       " '__ne__',\n",
       " '__new__',\n",
       " '__reduce__',\n",
       " '__reduce_ex__',\n",
       " '__repr__',\n",
       " '__setattr__',\n",
       " '__sizeof__',\n",
       " '__str__',\n",
       " '__subclasshook__',\n",
       " '__weakref__',\n",
       " 'blood']"
      ]
     },
     "execution_count": 74,
     "metadata": {},
     "output_type": "execute_result"
    }
   ],
   "source": [
    "dir(p1)"
   ]
  },
  {
   "cell_type": "code",
   "execution_count": 75,
   "metadata": {
    "scrolled": true
   },
   "outputs": [
    {
     "ename": "AttributeError",
     "evalue": "'Player' object has no attribute 'blood'",
     "output_type": "error",
     "traceback": [
      "\u001b[1;31m---------------------------------------------------------------------------\u001b[0m",
      "\u001b[1;31mAttributeError\u001b[0m                            Traceback (most recent call last)",
      "Cell \u001b[1;32mIn[75], line 1\u001b[0m\n\u001b[1;32m----> 1\u001b[0m p2\u001b[38;5;241m.\u001b[39mblood\n",
      "\u001b[1;31mAttributeError\u001b[0m: 'Player' object has no attribute 'blood'"
     ]
    }
   ],
   "source": [
    "p2.blood"
   ]
  },
  {
   "cell_type": "code",
   "execution_count": 76,
   "metadata": {},
   "outputs": [],
   "source": [
    "def AddBlood(self, blood):\n",
    "    self.blood += blood"
   ]
  },
  {
   "cell_type": "code",
   "execution_count": 77,
   "metadata": {},
   "outputs": [
    {
     "data": {
      "text/plain": [
       "220"
      ]
     },
     "execution_count": 77,
     "metadata": {},
     "output_type": "execute_result"
    }
   ],
   "source": [
    "AddBlood(p1, 200)\n",
    "p1.blood"
   ]
  },
  {
   "cell_type": "code",
   "execution_count": 78,
   "metadata": {
    "scrolled": true
   },
   "outputs": [
    {
     "ename": "AttributeError",
     "evalue": "'Player' object has no attribute 'AddBlood'",
     "output_type": "error",
     "traceback": [
      "\u001b[1;31m---------------------------------------------------------------------------\u001b[0m",
      "\u001b[1;31mAttributeError\u001b[0m                            Traceback (most recent call last)",
      "Cell \u001b[1;32mIn[78], line 1\u001b[0m\n\u001b[1;32m----> 1\u001b[0m p1\u001b[38;5;241m.\u001b[39mAddBlood(\u001b[38;5;241m100\u001b[39m)\n",
      "\u001b[1;31mAttributeError\u001b[0m: 'Player' object has no attribute 'AddBlood'"
     ]
    }
   ],
   "source": [
    "p1.AddBlood(100)  # 报错 p1 对象没有加血的方法 AddFlood"
   ]
  },
  {
   "cell_type": "code",
   "execution_count": null,
   "metadata": {},
   "outputs": [],
   "source": [
    "p1.AddBlood = AddBlood"
   ]
  },
  {
   "cell_type": "code",
   "execution_count": null,
   "metadata": {},
   "outputs": [],
   "source": [
    "p1.AddBlood(p1,50) # 还是需要self位置填入一个对象\n",
    "p1.blood"
   ]
  },
  {
   "cell_type": "code",
   "execution_count": null,
   "metadata": {},
   "outputs": [],
   "source": [
    "dir(p2)"
   ]
  },
  {
   "cell_type": "code",
   "execution_count": null,
   "metadata": {
    "scrolled": true
   },
   "outputs": [],
   "source": [
    "p2 = Player()\n",
    "p2.AddBlood(200)"
   ]
  },
  {
   "cell_type": "code",
   "execution_count": null,
   "metadata": {},
   "outputs": [],
   "source": [
    "dir(p2)"
   ]
  },
  {
   "cell_type": "code",
   "execution_count": 80,
   "metadata": {},
   "outputs": [],
   "source": [
    "from types import MethodType"
   ]
  },
  {
   "cell_type": "code",
   "execution_count": 81,
   "metadata": {},
   "outputs": [],
   "source": [
    "p1.AddBlood = MethodType(AddBlood, p1) # 绑定方法 AddFlood 到 p1"
   ]
  },
  {
   "cell_type": "code",
   "execution_count": 82,
   "metadata": {},
   "outputs": [
    {
     "data": {
      "text/plain": [
       "320"
      ]
     },
     "execution_count": 82,
     "metadata": {},
     "output_type": "execute_result"
    }
   ],
   "source": [
    "p1.AddBlood(100) # self位置不需要传入对象\n",
    "p1.blood"
   ]
  },
  {
   "cell_type": "markdown",
   "metadata": {},
   "source": [
    "#### (2) 别的实例将没有得到绑定"
   ]
  },
  {
   "cell_type": "code",
   "execution_count": 83,
   "metadata": {},
   "outputs": [],
   "source": [
    "p3 = Player()"
   ]
  },
  {
   "cell_type": "code",
   "execution_count": 84,
   "metadata": {
    "scrolled": true
   },
   "outputs": [
    {
     "data": {
      "text/plain": [
       "['__class__',\n",
       " '__delattr__',\n",
       " '__dict__',\n",
       " '__dir__',\n",
       " '__doc__',\n",
       " '__eq__',\n",
       " '__format__',\n",
       " '__ge__',\n",
       " '__getattribute__',\n",
       " '__getstate__',\n",
       " '__gt__',\n",
       " '__hash__',\n",
       " '__init__',\n",
       " '__init_subclass__',\n",
       " '__le__',\n",
       " '__lt__',\n",
       " '__module__',\n",
       " '__ne__',\n",
       " '__new__',\n",
       " '__reduce__',\n",
       " '__reduce_ex__',\n",
       " '__repr__',\n",
       " '__setattr__',\n",
       " '__sizeof__',\n",
       " '__str__',\n",
       " '__subclasshook__',\n",
       " '__weakref__']"
      ]
     },
     "execution_count": 84,
     "metadata": {},
     "output_type": "execute_result"
    }
   ],
   "source": [
    "dir(p3)"
   ]
  },
  {
   "cell_type": "code",
   "execution_count": null,
   "metadata": {},
   "outputs": [],
   "source": [
    "# print(p3.blood) #报错"
   ]
  },
  {
   "cell_type": "code",
   "execution_count": null,
   "metadata": {},
   "outputs": [],
   "source": [
    "p3.blood = 5\n",
    "#p2.AddFlood(60) 报错"
   ]
  },
  {
   "cell_type": "code",
   "execution_count": null,
   "metadata": {},
   "outputs": [],
   "source": [
    "p3.AddBlood(60)"
   ]
  },
  {
   "cell_type": "markdown",
   "metadata": {},
   "source": [
    "#### (3) 给所有实例都绑定方法\n",
    "\n",
    "- 语法\n",
    "```python\n",
    ">>> ClassName.Method = Method\n",
    "```"
   ]
  },
  {
   "cell_type": "code",
   "execution_count": 85,
   "metadata": {},
   "outputs": [],
   "source": [
    "Player.AddBlood = AddBlood"
   ]
  },
  {
   "cell_type": "code",
   "execution_count": 86,
   "metadata": {},
   "outputs": [
    {
     "data": {
      "text/plain": [
       "99"
      ]
     },
     "execution_count": 86,
     "metadata": {},
     "output_type": "execute_result"
    }
   ],
   "source": [
    "p3 = Player()\n",
    "p3.blood = 0\n",
    "p3.AddBlood(99)\n",
    "p3.blood"
   ]
  },
  {
   "cell_type": "code",
   "execution_count": 87,
   "metadata": {},
   "outputs": [],
   "source": [
    "# 绑定前和绑定后的区别\n",
    "class Player:\n",
    "    pass\n",
    "\n",
    "p1 = Player()"
   ]
  },
  {
   "cell_type": "code",
   "execution_count": 2,
   "metadata": {},
   "outputs": [],
   "source": [
    "def AddBlood(self, blood):\n",
    "    self.blood += blood\n",
    "\n",
    "Player.AddBlood = AddBlood"
   ]
  },
  {
   "cell_type": "code",
   "execution_count": 3,
   "metadata": {},
   "outputs": [],
   "source": [
    "Player.blood = 10\n",
    "p2 = Player()"
   ]
  },
  {
   "cell_type": "markdown",
   "metadata": {
    "toc-hr-collapsed": true
   },
   "source": [
    "## 11.9 拓展知识"
   ]
  },
  {
   "cell_type": "markdown",
   "metadata": {},
   "source": [
    "### 11.9.1 共有和私有"
   ]
  },
  {
   "cell_type": "markdown",
   "metadata": {},
   "source": [
    "- python类中申明的属性和方法都是透明的\n",
    "- 可以直接访问对象的成员属性和方法"
   ]
  },
  {
   "cell_type": "markdown",
   "metadata": {},
   "source": [
    "#### 有时候我们不希望别人访问一些属性，比如：\n",
    "- 定义一个 游戏 玩家，不希望别的玩家看到他的 装备、技能\n",
    "- 这样就需要把这些属性或者非法隐藏起来"
   ]
  },
  {
   "cell_type": "code",
   "execution_count": 88,
   "metadata": {},
   "outputs": [],
   "source": [
    "# 看例子感受一下\n",
    "class Person:\n",
    "    def __init__(self,name,place, age):\n",
    "        self.name = name\n",
    "        self.__place = place  #注意两个下划线\n",
    "        self._age = age       #注意一个下划线\n",
    "\n",
    "    def setName(self,name,place, age):\n",
    "        self.name = name\n",
    "        self.__place = place\n",
    "        self._age = age\n",
    "        \n",
    "    def introduce(self):\n",
    "        print(\"我叫%s,我来自%s,我%s岁了\" %(self.name, self.__place, self._age))"
   ]
  },
  {
   "cell_type": "code",
   "execution_count": 89,
   "metadata": {},
   "outputs": [
    {
     "name": "stdout",
     "output_type": "stream",
     "text": [
      "我叫雷锋,我来自中国,我21岁了\n"
     ]
    }
   ],
   "source": [
    "c = Person(\"雷锋\",\"中国\",21)\n",
    "c.introduce()"
   ]
  },
  {
   "cell_type": "code",
   "execution_count": 90,
   "metadata": {},
   "outputs": [
    {
     "name": "stdout",
     "output_type": "stream",
     "text": [
      "雷锋\n"
     ]
    }
   ],
   "source": [
    "print(c.name)"
   ]
  },
  {
   "cell_type": "code",
   "execution_count": 91,
   "metadata": {},
   "outputs": [
    {
     "ename": "AttributeError",
     "evalue": "'Person' object has no attribute '__place'",
     "output_type": "error",
     "traceback": [
      "\u001b[1;31m---------------------------------------------------------------------------\u001b[0m",
      "\u001b[1;31mAttributeError\u001b[0m                            Traceback (most recent call last)",
      "Cell \u001b[1;32mIn[91], line 1\u001b[0m\n\u001b[1;32m----> 1\u001b[0m \u001b[38;5;28mprint\u001b[39m(c\u001b[38;5;241m.\u001b[39m__place)\n",
      "\u001b[1;31mAttributeError\u001b[0m: 'Person' object has no attribute '__place'"
     ]
    }
   ],
   "source": [
    "print(c.__place) #无法访问,此时用两个下划线放在变量名或者函数名之前，函数或者变量就变成私有的了，无法公开访问"
   ]
  },
  {
   "cell_type": "code",
   "execution_count": 92,
   "metadata": {},
   "outputs": [
    {
     "data": {
      "text/plain": [
       "21"
      ]
     },
     "execution_count": 92,
     "metadata": {},
     "output_type": "execute_result"
    }
   ],
   "source": [
    "c._age"
   ]
  },
  {
   "cell_type": "markdown",
   "metadata": {},
   "source": [
    "总结：\n",
    "- 私有属性、方法——Python并没有真正的私有化支持，但可用下划线得到伪私有\n",
    "- 尽量避免定义以下划线开头的变量\n",
    "    - `_xxx`      \"单下划线 \" 开始的成员变量叫做保护变量（仅有提示意义）<br>意思是只有类对象（即类实例）和子类对象自己能访问到这些变量，需通过类提供的接口进行访问；\n",
    "    - `__xxx`    类中的私有变量/方法名 （Python的函数也是对象，所以成员方法称为成员变量也行得通。）<br>\" 双下划线 \" 开始的是私有成员<br>意思是只有类对象自己能访问<br>连子类对象也不能访问到这个数据。\n",
    "    - `__xxx__` 系统定义名字，前后均有一个“双下划线” <br>代表python里特殊方法专用的标识，如 `__init__()` 代表类的构造函数。"
   ]
  },
  {
   "cell_type": "markdown",
   "metadata": {},
   "source": [
    "#### 访问私有变量的方法"
   ]
  },
  {
   "cell_type": "code",
   "execution_count": 12,
   "metadata": {},
   "outputs": [],
   "source": [
    "# 看例子感受一下\n",
    "class Person:\n",
    "    def __init__(self,name, age, place):\n",
    "        self.name = name\n",
    "        self._age = age\n",
    "        self.__place = place\n",
    "    def getplace(self):\n",
    "        return self.__place\n",
    "    def setName(self,name, age, place):\n",
    "        self.name = name\n",
    "        self._age = age\n",
    "        self.__place = place\n",
    "    def introduce(self):\n",
    "        print(\"我叫%s,我来自%s，我%d岁了\" %(self.name, self.__place, self._age))"
   ]
  },
  {
   "cell_type": "code",
   "execution_count": 13,
   "metadata": {},
   "outputs": [
    {
     "name": "stdout",
     "output_type": "stream",
     "text": [
      "我叫雷锋,我来自中国，我23岁了\n"
     ]
    }
   ],
   "source": [
    "c = Person(\"雷锋\", 23 ,\"中国\")\n",
    "c.introduce()"
   ]
  },
  {
   "cell_type": "code",
   "execution_count": 14,
   "metadata": {},
   "outputs": [
    {
     "data": {
      "text/plain": [
       "'雷锋'"
      ]
     },
     "execution_count": 14,
     "metadata": {},
     "output_type": "execute_result"
    }
   ],
   "source": [
    "c.name"
   ]
  },
  {
   "cell_type": "code",
   "execution_count": 15,
   "metadata": {},
   "outputs": [
    {
     "data": {
      "text/plain": [
       "23"
      ]
     },
     "execution_count": 15,
     "metadata": {},
     "output_type": "execute_result"
    }
   ],
   "source": [
    "c._age"
   ]
  },
  {
   "cell_type": "code",
   "execution_count": 17,
   "metadata": {},
   "outputs": [
    {
     "data": {
      "text/plain": [
       "'中国'"
      ]
     },
     "execution_count": 17,
     "metadata": {},
     "output_type": "execute_result"
    }
   ],
   "source": [
    "c.__place"
   ]
  },
  {
   "cell_type": "code",
   "execution_count": null,
   "metadata": {},
   "outputs": [],
   "source": [
    "#c.__getplace()  # getplace 是一个私有方法"
   ]
  },
  {
   "cell_type": "code",
   "execution_count": null,
   "metadata": {},
   "outputs": [],
   "source": [
    "c.getplace()  # getplace 是一个共有方法"
   ]
  },
  {
   "cell_type": "markdown",
   "metadata": {},
   "source": [
    "#### 虽然是私有变量，但是如果用`_类名__变量名`的方式，也可以访问以双下横线开头的私有变量"
   ]
  },
  {
   "cell_type": "markdown",
   "metadata": {},
   "source": [
    "### 11.9.2 BIF内置函数"
   ]
  },
  {
   "cell_type": "markdown",
   "metadata": {},
   "source": [
    "* `issubclass(class, classinfo)`判断一类是不是另一个类的子类\n",
    "* `isinstance(object, classinfo)`判断一个对象是不是一个类的实例化\n",
    "* `hasattr(object,name)`测试一个对象是否有指定的属性\n",
    "* `getattr(object, name[, default])`返回对象指定的属性\n",
    "* `setattr(object, name, value)`设置对象中指定属性的值 \n",
    "* `delattr(object, name)`删除对象中指定的属性\n",
    "* `property(fget = None, fset = None, fdel = None, doc = Name)`通过属性来设置属性"
   ]
  },
  {
   "cell_type": "markdown",
   "metadata": {},
   "source": [
    "#### (1) 内置函数`hasattr`"
   ]
  },
  {
   "cell_type": "code",
   "execution_count": null,
   "metadata": {},
   "outputs": [],
   "source": [
    "class C:\n",
    "    def __init__(self, x=2):\n",
    "        self.x = x"
   ]
  },
  {
   "cell_type": "code",
   "execution_count": null,
   "metadata": {},
   "outputs": [],
   "source": [
    "c1 = C()"
   ]
  },
  {
   "cell_type": "code",
   "execution_count": null,
   "metadata": {},
   "outputs": [],
   "source": [
    "hasattr(c1,'x')  #注意，属性名称要用引号括起来 \n"
   ]
  },
  {
   "cell_type": "code",
   "execution_count": null,
   "metadata": {},
   "outputs": [],
   "source": [
    "#hasattr(c1,x)  #不加引号，会出错"
   ]
  },
  {
   "cell_type": "markdown",
   "metadata": {},
   "source": [
    "#### (2) 内置函数`getattr`"
   ]
  },
  {
   "cell_type": "code",
   "execution_count": null,
   "metadata": {},
   "outputs": [],
   "source": [
    "getattr(c1,'x')  #返回制定对象属性的值  c1.x"
   ]
  },
  {
   "cell_type": "code",
   "execution_count": null,
   "metadata": {},
   "outputs": [],
   "source": [
    "#getattr(c1,'z') #没有就报错"
   ]
  },
  {
   "cell_type": "markdown",
   "metadata": {},
   "source": [
    "#### (3)内置函数`setattr  和  delattr`"
   ]
  },
  {
   "cell_type": "code",
   "execution_count": null,
   "metadata": {},
   "outputs": [],
   "source": [
    "setattr(c1,'z',5) #如果制定对象属性值不存在，则增加一个属性；否则替换"
   ]
  },
  {
   "cell_type": "code",
   "execution_count": null,
   "metadata": {},
   "outputs": [],
   "source": [
    "c1.z"
   ]
  },
  {
   "cell_type": "code",
   "execution_count": null,
   "metadata": {},
   "outputs": [],
   "source": [
    "delattr(c1,'z') #删除，如果不存在，则报错"
   ]
  },
  {
   "cell_type": "code",
   "execution_count": null,
   "metadata": {},
   "outputs": [],
   "source": [
    "dir(c1)"
   ]
  },
  {
   "cell_type": "markdown",
   "metadata": {},
   "source": [
    "#### (4)内置函数 `property`函数"
   ]
  },
  {
   "cell_type": "markdown",
   "metadata": {},
   "source": [
    "* `property(fget = None, fset = None, fdel = None, doc = Name)`通过属性来设置属性\n",
    "* 在Python中，property()是一个内置函数，用于创建和返回一个property对象。"
   ]
  },
  {
   "cell_type": "markdown",
   "metadata": {},
   "source": [
    "- 在获取、设置和删除对象属性的时候，需要额外做一些工作。比如在游戏编程中，设置敌人死亡之后需要播放死亡动画。\n",
    "- 需要限制对象属性的设置和获取。比如用户年龄为只读，或者在设置用户年龄的时候有范围限制。\n",
    "- 这时就可以使用 property 工具，它把方法包装成属性，让方法可以以属性的形式被访问和调用。"
   ]
  },
  {
   "cell_type": "markdown",
   "metadata": {},
   "source": [
    "- 这里，fget是一个获取属性值的函数\n",
    "- fset是一个设置属性值的函数 \n",
    "- fdel是一个删除属性的函数\n",
    "- doc是一个字符串（类似于注释）。  \n",
    "- 从函数实现上看，这些函数参数都是可选的。\n",
    "- 所以，可以按照如下的方式简单的创建一个property对象。"
   ]
  },
  {
   "cell_type": "code",
   "execution_count": 93,
   "metadata": {},
   "outputs": [],
   "source": [
    "#创建一个摄氏度的类\n",
    "class Celsius:\n",
    "    def __init__(self, temperature = 0):\n",
    "        self.temperature = temperature\n",
    "    def to_fahrenheit(self):\n",
    "        #self.ftemp = (self.temperature * 1.8) + 32\n",
    "        return (self.temperature * 1.8) + 32"
   ]
  },
  {
   "cell_type": "code",
   "execution_count": 94,
   "metadata": {},
   "outputs": [],
   "source": [
    "#可以用这个类产生一个对象，然后按照我们期望的方式改变该对象的温度属性：\n",
    "man = Celsius()"
   ]
  },
  {
   "cell_type": "code",
   "execution_count": 98,
   "metadata": {},
   "outputs": [],
   "source": [
    "man.temperature = -300"
   ]
  },
  {
   "cell_type": "code",
   "execution_count": 99,
   "metadata": {},
   "outputs": [
    {
     "data": {
      "text/plain": [
       "-300"
      ]
     },
     "execution_count": 99,
     "metadata": {},
     "output_type": "execute_result"
    }
   ],
   "source": [
    "man.temperature"
   ]
  },
  {
   "cell_type": "code",
   "execution_count": 100,
   "metadata": {},
   "outputs": [
    {
     "data": {
      "text/plain": [
       "-508.0"
      ]
     },
     "execution_count": 100,
     "metadata": {},
     "output_type": "execute_result"
    }
   ],
   "source": [
    "man.to_fahrenheit()"
   ]
  },
  {
   "cell_type": "code",
   "execution_count": null,
   "metadata": {},
   "outputs": [],
   "source": [
    "#man.ftemp"
   ]
  },
  {
   "cell_type": "code",
   "execution_count": null,
   "metadata": {},
   "outputs": [],
   "source": [
    "man.__dict__"
   ]
  },
  {
   "cell_type": "markdown",
   "metadata": {},
   "source": [
    "#### 有人说：建议温度不能低于-273摄氏度，也被称为绝对零。"
   ]
  },
  {
   "cell_type": "code",
   "execution_count": 109,
   "metadata": {},
   "outputs": [],
   "source": [
    "# 升级这个类\n",
    "class Celsius:\n",
    "    def __init__(self, temperature = 0):\n",
    "        if temperature < -273:\n",
    "            raise ValueError(\"Temperature below -273 is not possible\")\n",
    "        self.__temperature = temperature\n",
    "    def to_fahrenheit(self):\n",
    "        return (self.get_temperature() * 1.8) + 32\n",
    " \n",
    "    # new update\n",
    "    def get_temperature(self):\n",
    "        return self.__temperature\n",
    " \n",
    "    def set_temperature(self, value):\n",
    "        if value < -273:\n",
    "            raise ValueError(\"Temperature below -273 is not possible\")\n",
    "        self.__temperature = value"
   ]
  },
  {
   "cell_type": "markdown",
   "metadata": {},
   "source": [
    "- 定义了两个新方法get_temperature()和set_temperature()，  \n",
    "- 此外属性temperature也被替换为了`__`temperature。  \n",
    "- 最前边的下划线（__）用于指示Python中的私有变量。"
   ]
  },
  {
   "cell_type": "code",
   "execution_count": 110,
   "metadata": {},
   "outputs": [
    {
     "data": {
      "text/plain": [
       "(-27, -16.6)"
      ]
     },
     "execution_count": 110,
     "metadata": {},
     "output_type": "execute_result"
    }
   ],
   "source": [
    "c = Celsius(-27)\n",
    "c.get_temperature(), c.to_fahrenheit()"
   ]
  },
  {
   "cell_type": "code",
   "execution_count": 111,
   "metadata": {},
   "outputs": [
    {
     "data": {
      "text/plain": [
       "73.4"
      ]
     },
     "execution_count": 111,
     "metadata": {},
     "output_type": "execute_result"
    }
   ],
   "source": [
    "c.set_temperature(23)\n",
    "c.to_fahrenheit()"
   ]
  },
  {
   "cell_type": "code",
   "execution_count": 112,
   "metadata": {},
   "outputs": [
    {
     "ename": "ValueError",
     "evalue": "Temperature below -273 is not possible",
     "output_type": "error",
     "traceback": [
      "\u001b[1;31m---------------------------------------------------------------------------\u001b[0m",
      "\u001b[1;31mValueError\u001b[0m                                Traceback (most recent call last)",
      "Cell \u001b[1;32mIn[112], line 1\u001b[0m\n\u001b[1;32m----> 1\u001b[0m c \u001b[38;5;241m=\u001b[39m Celsius(\u001b[38;5;241m-\u001b[39m\u001b[38;5;241m370\u001b[39m)\n",
      "Cell \u001b[1;32mIn[109], line 5\u001b[0m, in \u001b[0;36mCelsius.__init__\u001b[1;34m(self, temperature)\u001b[0m\n\u001b[0;32m      3\u001b[0m \u001b[38;5;28;01mdef\u001b[39;00m \u001b[38;5;21m__init__\u001b[39m(\u001b[38;5;28mself\u001b[39m, temperature \u001b[38;5;241m=\u001b[39m \u001b[38;5;241m0\u001b[39m):\n\u001b[0;32m      4\u001b[0m     \u001b[38;5;28;01mif\u001b[39;00m temperature \u001b[38;5;241m<\u001b[39m \u001b[38;5;241m-\u001b[39m\u001b[38;5;241m273\u001b[39m:\n\u001b[1;32m----> 5\u001b[0m         \u001b[38;5;28;01mraise\u001b[39;00m \u001b[38;5;167;01mValueError\u001b[39;00m(\u001b[38;5;124m\"\u001b[39m\u001b[38;5;124mTemperature below -273 is not possible\u001b[39m\u001b[38;5;124m\"\u001b[39m)\n\u001b[0;32m      6\u001b[0m     \u001b[38;5;28mself\u001b[39m\u001b[38;5;241m.\u001b[39m__temperature \u001b[38;5;241m=\u001b[39m temperature\n",
      "\u001b[1;31mValueError\u001b[0m: Temperature below -273 is not possible"
     ]
    }
   ],
   "source": [
    "c = Celsius(-370)"
   ]
  },
  {
   "cell_type": "code",
   "execution_count": 113,
   "metadata": {},
   "outputs": [
    {
     "ename": "AttributeError",
     "evalue": "'Celsius' object has no attribute '__temperature'",
     "output_type": "error",
     "traceback": [
      "\u001b[1;31m---------------------------------------------------------------------------\u001b[0m",
      "\u001b[1;31mAttributeError\u001b[0m                            Traceback (most recent call last)",
      "Cell \u001b[1;32mIn[113], line 1\u001b[0m\n\u001b[1;32m----> 1\u001b[0m c\u001b[38;5;241m.\u001b[39m__temperature\n",
      "\u001b[1;31mAttributeError\u001b[0m: 'Celsius' object has no attribute '__temperature'"
     ]
    }
   ],
   "source": [
    "c.__temperature"
   ]
  },
  {
   "cell_type": "markdown",
   "metadata": {},
   "source": [
    "- 上述更新的最大问题是，所有在他们的程序中使用了我们先前类的都必须更改他们的代码：  \n",
    "- obj.temperature改为obj.get_temperature()， \n",
    "- 所有的赋值语句也必须更改，比如obj.temperature = val改为obj.set_temperature(val)。\n",
    "- 这样的重构会给那些拥有成千上万行代码带来很大的麻烦。\n",
    "- 新版本的类，要适应旧版本，很麻烦"
   ]
  },
  {
   "cell_type": "markdown",
   "metadata": {},
   "source": [
    "- 现在看property"
   ]
  },
  {
   "cell_type": "code",
   "execution_count": 114,
   "metadata": {},
   "outputs": [],
   "source": [
    "class Celsius:\n",
    "    def __init__(self, temperature = 0):\n",
    "        self.__temperature = temperature\n",
    " \n",
    "    def to_fahrenheit(self):\n",
    "        return (self.__temperature * 1.8) + 32\n",
    " \n",
    "    def get_temperature(self):\n",
    "        print(\"Getting value\")\n",
    "        return self.__temperature\n",
    " \n",
    "    def set_temperature(self, value):\n",
    "        if value < -273:\n",
    "            raise ValueError(\"Temperature below -273 is not possible\")\n",
    "        print(\"Setting value\")\n",
    "        self.__temperature = value\n",
    " \n",
    "    temperature = property(get_temperature,set_temperature)\n"
   ]
  },
  {
   "cell_type": "code",
   "execution_count": null,
   "metadata": {},
   "outputs": [],
   "source": [
    "for each in Celsius.__dict__.keys():\n",
    "    print(each)\n",
    "    # temperature 是个property对象"
   ]
  },
  {
   "cell_type": "code",
   "execution_count": null,
   "metadata": {},
   "outputs": [],
   "source": [
    "type(Celsius.temperature)"
   ]
  },
  {
   "cell_type": "code",
   "execution_count": 115,
   "metadata": {},
   "outputs": [],
   "source": [
    "c = Celsius(20)"
   ]
  },
  {
   "cell_type": "code",
   "execution_count": null,
   "metadata": {},
   "outputs": [],
   "source": [
    "c.__dict__.keys()"
   ]
  },
  {
   "cell_type": "code",
   "execution_count": null,
   "metadata": {},
   "outputs": [],
   "source": [
    "c.set_temperature(25)\n",
    "c.__dict__.keys()"
   ]
  },
  {
   "cell_type": "code",
   "execution_count": null,
   "metadata": {},
   "outputs": [],
   "source": [
    "c.__temperature"
   ]
  },
  {
   "cell_type": "code",
   "execution_count": 118,
   "metadata": {},
   "outputs": [
    {
     "name": "stdout",
     "output_type": "stream",
     "text": [
      "Getting value\n"
     ]
    },
    {
     "data": {
      "text/plain": [
       "-200"
      ]
     },
     "execution_count": 118,
     "metadata": {},
     "output_type": "execute_result"
    }
   ],
   "source": [
    "c.temperature"
   ]
  },
  {
   "cell_type": "code",
   "execution_count": 117,
   "metadata": {},
   "outputs": [
    {
     "ename": "ValueError",
     "evalue": "Temperature below -273 is not possible",
     "output_type": "error",
     "traceback": [
      "\u001b[1;31m---------------------------------------------------------------------------\u001b[0m",
      "\u001b[1;31mValueError\u001b[0m                                Traceback (most recent call last)",
      "Cell \u001b[1;32mIn[117], line 1\u001b[0m\n\u001b[1;32m----> 1\u001b[0m c\u001b[38;5;241m.\u001b[39mtemperature\u001b[38;5;241m=\u001b[39m\u001b[38;5;241m-\u001b[39m\u001b[38;5;241m300\u001b[39m\n",
      "Cell \u001b[1;32mIn[114], line 14\u001b[0m, in \u001b[0;36mCelsius.set_temperature\u001b[1;34m(self, value)\u001b[0m\n\u001b[0;32m     12\u001b[0m \u001b[38;5;28;01mdef\u001b[39;00m \u001b[38;5;21mset_temperature\u001b[39m(\u001b[38;5;28mself\u001b[39m, value):\n\u001b[0;32m     13\u001b[0m     \u001b[38;5;28;01mif\u001b[39;00m value \u001b[38;5;241m<\u001b[39m \u001b[38;5;241m-\u001b[39m\u001b[38;5;241m273\u001b[39m:\n\u001b[1;32m---> 14\u001b[0m         \u001b[38;5;28;01mraise\u001b[39;00m \u001b[38;5;167;01mValueError\u001b[39;00m(\u001b[38;5;124m\"\u001b[39m\u001b[38;5;124mTemperature below -273 is not possible\u001b[39m\u001b[38;5;124m\"\u001b[39m)\n\u001b[0;32m     15\u001b[0m     \u001b[38;5;28mprint\u001b[39m(\u001b[38;5;124m\"\u001b[39m\u001b[38;5;124mSetting value\u001b[39m\u001b[38;5;124m\"\u001b[39m)\n\u001b[0;32m     16\u001b[0m     \u001b[38;5;28mself\u001b[39m\u001b[38;5;241m.\u001b[39m__temperature \u001b[38;5;241m=\u001b[39m value\n",
      "\u001b[1;31mValueError\u001b[0m: Temperature below -273 is not possible"
     ]
    }
   ],
   "source": [
    "c.temperature=-300"
   ]
  },
  {
   "cell_type": "code",
   "execution_count": null,
   "metadata": {},
   "outputs": [],
   "source": [
    "c.temperature"
   ]
  },
  {
   "cell_type": "code",
   "execution_count": null,
   "metadata": {},
   "outputs": [],
   "source": [
    "c.to_fahrenheit()"
   ]
  },
  {
   "cell_type": "markdown",
   "metadata": {},
   "source": [
    "- get_temperature()和set_temperature()的内部增加了一个print()函数，用来清楚地观察它们是否正在执行。  \n",
    "- 代码的最后一行，创建了一个property对象temperature。  \n",
    "- 简单地说，property将一些代码（get_temperature和set_temperature）附加到成员属性（temperature）的访问入口。  \n",
    "- 任何获取temperature值的代码都会自动调用get_temperature()，而不是去字典表（__dict__）中进行查找。  \n",
    "- 同样的，任何赋给temperature值的代码也会自动调用set_temperature()。这是Python中一个很酷的功能。"
   ]
  },
  {
   "cell_type": "markdown",
   "metadata": {},
   "source": [
    "- 通过使用property，我们在不需要客户代码做任何修改的情况下，修改了我们的类，并实现了值约束。因此我们的实现是向后兼容的"
   ]
  },
  {
   "cell_type": "markdown",
   "metadata": {},
   "source": [
    "- 需要注意的是，实际温度值存储在私有变量__temperature中。属性temperature是一个property对象，是用来为这个私有变量提供接口的。"
   ]
  },
  {
   "cell_type": "code",
   "execution_count": null,
   "metadata": {},
   "outputs": [],
   "source": [
    "class Student:\n",
    "    def __init__(self):\n",
    "        self.__age = None\n",
    "\n",
    "    def get_age(self):\n",
    "        print('获取属性时执行的代码')\n",
    "        return self.__age\n",
    "\n",
    "    def set_age(self, age):\n",
    "        print('设置属性时执行的代码')\n",
    "        self.__age = age\n",
    "\n",
    "    def del_age(self):\n",
    "        print('删除属性时执行的代码')\n",
    "        del self.__age\n",
    "\n",
    "    age = property(get_age, set_age, del_age, '学生年龄')"
   ]
  },
  {
   "cell_type": "code",
   "execution_count": null,
   "metadata": {},
   "outputs": [],
   "source": [
    "student = Student()\n",
    "# 注意要用 类名.属性.__doc__ 的形式查看属性的文档字符串\n",
    "print('查看属性的文档字符串：' + Student.age.__doc__)\n",
    "\"\"\"\n",
    "查看属性的文档字符串：学生年龄\n",
    "\"\"\"\n",
    "\n",
    "# 设置属性\n",
    "student.age = 18\n",
    "\"\"\"\n",
    "设置属性时执行的代码\n",
    "\"\"\"\n",
    "\n",
    "# 获取属性\n",
    "print('学生年龄为：' + str(student.age))\n",
    "\"\"\"\n",
    "获取属性时执行的代码\n",
    "学生年龄为：18\n",
    "\"\"\"\n",
    "\n",
    "# 删除属性\n",
    "del student.age\n",
    "\"\"\"\n",
    "删除属性时执行的代码\n",
    "\"\"\""
   ]
  },
  {
   "cell_type": "markdown",
   "metadata": {},
   "source": [
    "### `@property` 装饰器\n",
    "- @property 语法糖提供了比 property() 函数更简洁直观的写法。\n",
    "- 被 @property 装饰的方法是获取属性值的方法，被装饰方法的名字会被用做 属性名。\n",
    "- 被 @属性名.setter 装饰的方法是设置属性值的方法。\n",
    "- 被 @属性名.deleter 装饰的方法是删除属性值的方法。"
   ]
  },
  {
   "cell_type": "code",
   "execution_count": null,
   "metadata": {},
   "outputs": [],
   "source": [
    "class Student:\n",
    "    def __init__(self):\n",
    "        self._age = None\n",
    "\n",
    "    @property\n",
    "    def age(self):\n",
    "        print('获取属性时执行的代码')\n",
    "        return self._age\n",
    "\n",
    "    @age.setter\n",
    "    def age(self, age):\n",
    "        print('设置属性时执行的代码')\n",
    "        self._age = age\n",
    "\n",
    "    @age.deleter\n",
    "    def age(self):\n",
    "        print('删除属性时执行的代码')\n",
    "        del self._age"
   ]
  },
  {
   "cell_type": "code",
   "execution_count": null,
   "metadata": {},
   "outputs": [],
   "source": [
    "student = Student()\n",
    "\n",
    "# 设置属性\n",
    "student.age = 18\n",
    "\"\"\"\n",
    "设置属性时执行的代码\n",
    "\"\"\"\n",
    "\n",
    "# 获取属性\n",
    "print('学生年龄为：' + str(student.age))\n",
    "\"\"\"\n",
    "获取属性时执行的代码\n",
    "学生年龄为：18\n",
    "\"\"\"\n",
    "\n",
    "# 删除属性\n",
    "del student.age\n",
    "\"\"\"\n",
    "删除属性时执行的代码\n",
    "\"\"\""
   ]
  },
  {
   "cell_type": "markdown",
   "metadata": {},
   "source": [
    "#### 注意事项:\n",
    "- 可以省略设置属性值的方法，此时该属性变成只读属性。如果此时仍然设置属性，会抛出异常 AttributeError: can't set attribute。\n",
    "- 如果报错 RecursionError: maximum recursion depth exceeded while calling a Python object，很可能是对象属性名和 @property 装饰的方法名重名了，一般会在对象属性名前加一个下划线 _ 避免重名，并且表明这是一个受保护的属性。\n"
   ]
  },
  {
   "cell_type": "markdown",
   "metadata": {},
   "source": [
    "#### (5)内置函数 `__del__()`析构函数(重要)\n",
    "- 为销毁一个对象时一种魔法方法\n",
    "- `__init__()`相反动作"
   ]
  },
  {
   "cell_type": "code",
   "execution_count": null,
   "metadata": {},
   "outputs": [],
   "source": [
    "class Star:\n",
    "    StarNum = 0\n",
    "    def __init__(self,name,place):\n",
    "        self.name = name\n",
    "        self.place = place\n",
    "        Star.StarNum += 1\n",
    "        print(\"共有{0}个明星\".format(Star.StarNum))\n",
    "    \n",
    "    def __del__(self):\n",
    "        Star.StarNum -= 1\n",
    "        print(\"消除一个记录，现共有{0}个明星\".format(Star.StarNum))\n",
    "        \n",
    "    def setName(self,name,place):\n",
    "        self.name = name\n",
    "        self.place = place\n",
    "    def print(self):\n",
    "        print(\"我叫%s,我来自%s\" %(self.name, self.place))"
   ]
  },
  {
   "cell_type": "code",
   "execution_count": null,
   "metadata": {},
   "outputs": [],
   "source": [
    "c = Star(\"雷锋\",\"中国\")"
   ]
  },
  {
   "cell_type": "code",
   "execution_count": null,
   "metadata": {},
   "outputs": [],
   "source": [
    "d = Star(\"雷震子\",\"封神演义\")"
   ]
  },
  {
   "cell_type": "code",
   "execution_count": null,
   "metadata": {},
   "outputs": [],
   "source": [
    "d.print()"
   ]
  },
  {
   "cell_type": "code",
   "execution_count": null,
   "metadata": {},
   "outputs": [],
   "source": [
    "e = c"
   ]
  },
  {
   "cell_type": "code",
   "execution_count": null,
   "metadata": {},
   "outputs": [],
   "source": [
    "e.print()"
   ]
  },
  {
   "cell_type": "code",
   "execution_count": null,
   "metadata": {},
   "outputs": [],
   "source": [
    "f = Star(\"雷震子1\",\"封神演义\")"
   ]
  },
  {
   "cell_type": "code",
   "execution_count": null,
   "metadata": {},
   "outputs": [],
   "source": [
    "c = 1"
   ]
  },
  {
   "cell_type": "code",
   "execution_count": null,
   "metadata": {},
   "outputs": [],
   "source": [
    "f = 1"
   ]
  },
  {
   "cell_type": "code",
   "execution_count": null,
   "metadata": {},
   "outputs": [],
   "source": [
    "del d"
   ]
  },
  {
   "cell_type": "code",
   "execution_count": null,
   "metadata": {},
   "outputs": [],
   "source": [
    "d = Star(\"雷震子\",\"封神演义\")"
   ]
  },
  {
   "cell_type": "code",
   "execution_count": null,
   "metadata": {},
   "outputs": [],
   "source": [
    "d = Star(\"雷震子\",\"封神演义\")"
   ]
  },
  {
   "cell_type": "code",
   "execution_count": null,
   "metadata": {},
   "outputs": [],
   "source": [
    "del d"
   ]
  },
  {
   "cell_type": "code",
   "execution_count": null,
   "metadata": {},
   "outputs": [],
   "source": [
    "del f"
   ]
  },
  {
   "cell_type": "code",
   "execution_count": null,
   "metadata": {},
   "outputs": [],
   "source": [
    "del e"
   ]
  },
  {
   "cell_type": "markdown",
   "metadata": {},
   "source": [
    "### 11.9.3 运算符重载"
   ]
  },
  {
   "cell_type": "markdown",
   "metadata": {},
   "source": [
    "#### 11.9.3.1 算术运算符"
   ]
  },
  {
   "cell_type": "code",
   "execution_count": null,
   "metadata": {},
   "outputs": [],
   "source": [
    "class New_int(int):   #继承了int类\n",
    "    def __add__(self,other):\n",
    "        return int.__sub__(self,other)\n",
    "    def __sub__(self,other):\n",
    "        return int.__add__(self,other)"
   ]
  },
  {
   "cell_type": "code",
   "execution_count": null,
   "metadata": {},
   "outputs": [],
   "source": [
    "a = New_int(3)\n",
    "b = New_int(5)"
   ]
  },
  {
   "cell_type": "code",
   "execution_count": null,
   "metadata": {},
   "outputs": [],
   "source": [
    "a + b"
   ]
  },
  {
   "cell_type": "code",
   "execution_count": null,
   "metadata": {},
   "outputs": [],
   "source": [
    "a - b"
   ]
  },
  {
   "cell_type": "code",
   "execution_count": null,
   "metadata": {},
   "outputs": [],
   "source": [
    "dir(int)"
   ]
  },
  {
   "cell_type": "markdown",
   "metadata": {},
   "source": [
    "- 仔细看，这里的加法被重新定义了"
   ]
  },
  {
   "cell_type": "code",
   "execution_count": null,
   "metadata": {},
   "outputs": [],
   "source": [
    "class Student:\n",
    "    def __init__(self,x):\n",
    "        self.score = x\n",
    "    def display(self):\n",
    "        print(\"score=\",self.score)"
   ]
  },
  {
   "cell_type": "code",
   "execution_count": null,
   "metadata": {},
   "outputs": [],
   "source": [
    "stu = Student(95)"
   ]
  },
  {
   "cell_type": "code",
   "execution_count": null,
   "metadata": {},
   "outputs": [],
   "source": [
    "stu.display()"
   ]
  },
  {
   "cell_type": "code",
   "execution_count": null,
   "metadata": {},
   "outputs": [],
   "source": [
    "#stu+3"
   ]
  },
  {
   "cell_type": "code",
   "execution_count": null,
   "metadata": {},
   "outputs": [],
   "source": [
    "class Student:\n",
    "    def __init__(self,x):\n",
    "        self.score=x\n",
    "    def __add__(self,addition:Student):\n",
    "        scorenew = self.score + addition.score\n",
    "        return Student(scorenew)\n",
    "        \n",
    "    def display(self):\n",
    "        print(\"score=\",self.score)"
   ]
  },
  {
   "cell_type": "code",
   "execution_count": null,
   "metadata": {},
   "outputs": [],
   "source": [
    "stu = Student(85)\n",
    "stu2 = Student(23)"
   ]
  },
  {
   "cell_type": "code",
   "execution_count": null,
   "metadata": {},
   "outputs": [],
   "source": [
    "stu3 = stu + stu2"
   ]
  },
  {
   "cell_type": "code",
   "execution_count": null,
   "metadata": {},
   "outputs": [],
   "source": [
    "stu3.display()"
   ]
  },
  {
   "cell_type": "code",
   "execution_count": null,
   "metadata": {},
   "outputs": [],
   "source": [
    "class Student:\n",
    "    def __init__(self,x):\n",
    "        self.score=x\n",
    "    def __add__(self,addition:int):\n",
    "        scorenew = self.score + addition\n",
    "        return Student(scorenew)\n",
    "        ### self.score += addtion\n",
    "        \n",
    "    def display(self):\n",
    "        print(\"score=\",self.score)"
   ]
  },
  {
   "cell_type": "code",
   "execution_count": null,
   "metadata": {},
   "outputs": [],
   "source": [
    "stu = Student(85)"
   ]
  },
  {
   "cell_type": "code",
   "execution_count": null,
   "metadata": {},
   "outputs": [],
   "source": [
    "stu = stu + 3\n",
    "stu.display()"
   ]
  },
  {
   "cell_type": "markdown",
   "metadata": {},
   "source": [
    "#### 例：定义一个点类，用+号表示求两点距离"
   ]
  },
  {
   "cell_type": "code",
   "execution_count": null,
   "metadata": {},
   "outputs": [],
   "source": [
    "class Point(object):\n",
    "    def __init__(self,x,y):\n",
    "        self.x = x\n",
    "        self.y = y \n",
    "    def __add__(self,another):\n",
    "        dx = self.x - another.x\n",
    "        dy = self.y - another.y\n",
    "        return (dx*dx + dy*dy)**0.5\n",
    "   "
   ]
  },
  {
   "cell_type": "code",
   "execution_count": null,
   "metadata": {},
   "outputs": [],
   "source": [
    "a = Point(3,4)\n",
    "b = Point(4,3)\n",
    "a + b"
   ]
  },
  {
   "cell_type": "markdown",
   "metadata": {},
   "source": [
    "### 一元操作符：\n",
    "### `__neg__(), __pos()__()  __abs__()等等`"
   ]
  },
  {
   "cell_type": "code",
   "execution_count": null,
   "metadata": {},
   "outputs": [],
   "source": [
    "class Coordinate(object):\n",
    "    def __init__(self, x, y):\n",
    "        self.x = x\n",
    "        self.y = y\n",
    "\n",
    "    def __pos__(self): # 在对象前加“+”的操作\n",
    "        return self\n",
    "\n",
    "    def __neg__(self): # 在对象前加“-”的操作\n",
    "        new_coordinate = Coordinate(-self.x, -self.y)\n",
    "        return new_coordinate\n",
    "    \"\"\" 方法2：\n",
    "        self.x = -self.x\n",
    "        self.y = -self.y\n",
    "        return self\n",
    "    \"\"\"\n",
    "\n",
    "    def __abs__(self): # 在对象上使用abs方法的操作\n",
    "        new_coordinate = Coordinate(abs(self.x), abs(self.y))\n",
    "        return new_coordinate\n",
    "    \n",
    "    def __invert__(self):\n",
    "        new_coordinate = Coordinate(255-self.x, 255-self.y)\n",
    "        return new_coordinate\n",
    "\n",
    "    def __str__(self):\n",
    "        return \"Coordinate({},{})\".format(self.x,self.y)\n"
   ]
  },
  {
   "cell_type": "code",
   "execution_count": null,
   "metadata": {},
   "outputs": [],
   "source": [
    "c1 = Coordinate(-24, 35)\n",
    "print(c1)    #  Coordinate(24,35)"
   ]
  },
  {
   "cell_type": "code",
   "execution_count": null,
   "metadata": {},
   "outputs": [],
   "source": [
    "print(-c1)"
   ]
  },
  {
   "cell_type": "code",
   "execution_count": null,
   "metadata": {},
   "outputs": [],
   "source": [
    "print(abs(-c1))"
   ]
  },
  {
   "cell_type": "code",
   "execution_count": null,
   "metadata": {},
   "outputs": [],
   "source": [
    "print(+c1)"
   ]
  },
  {
   "cell_type": "code",
   "execution_count": null,
   "metadata": {},
   "outputs": [],
   "source": [
    "### Complex\n",
    "class Complex():\n",
    "    def __init__(self, x, y):\n",
    "        self.x = x\n",
    "        self.y = y\n",
    "    \n",
    "    def get(self):\n",
    "        return \"{0} + {1}*j\".format(self.x, self.y)\n",
    "    \n",
    "    def __add__(self, other):\n",
    "        return Complex(self.x + other.x, self.y + other.y)\n",
    "        "
   ]
  },
  {
   "cell_type": "code",
   "execution_count": null,
   "metadata": {},
   "outputs": [],
   "source": [
    "c1 = Complex(1,2)\n",
    "c2 = Complex(2,3)\n",
    "c3 = c1 + c2\n",
    "c3.get()"
   ]
  },
  {
   "cell_type": "markdown",
   "metadata": {},
   "source": [
    "## 11.10 类编码风格\n",
    "\n",
    "\n",
    "- 命名法之一（多种风格可选）\n",
    "    - 类名 —— 大驼峰命名法，如 `Car`、`Animal`、`HighRiseBuilding`、`LongSpanBridge` 等\n",
    "    - 方法名 —— 小驼峰命名法，首单词为动词或副词，如 `printInfo`、`doSomething`、`getValue` 等\n",
    "    - 属性名 —— 小驼峰命名法，首单词为名词或形容词，如 `firstName`、`lastName`、`fontSize`、`mathScore` 等\n",
    "    - 实例名和模块名都采用小写格式，并在单词之间加上下划线\n",
    "\n",
    "\n",
    "- 文档字符串\n",
    "    - 每个类定义语句后，紧跟文档字符串，简要地描述类的功能\n",
    "    - 每个方法定义语句后，紧跟文档字符串，简要地描述方法的功能\n",
    "    - 每个模块文件开头，包含一个文档字符串，对其中的类可用于做什么进行描述\n",
    "\n",
    "\n",
    "- 空行 —— 使用空行来组织代码，但不要滥用\n",
    "    - 代码块，使用单空行分隔\n",
    "    - 类中的方法，也使用单空行来分隔\n",
    "    - 模块中的类，使用双空行来分隔\n",
    "\n",
    "\n",
    "- 导入模块\n",
    "    - 先导入标准库模块，然后单空行\n",
    "    - 再导入自定义模块，然后双空行\n",
    "\n",
    "\n",
    "- 其它 —— 规范统一、灵活变通"
   ]
  },
  {
   "cell_type": "markdown",
   "metadata": {},
   "source": [
    "## 11.9 总结"
   ]
  },
  {
   "cell_type": "markdown",
   "metadata": {},
   "source": [
    "[返回目录](#mulu)"
   ]
  },
  {
   "cell_type": "markdown",
   "metadata": {},
   "source": [
    "<font size = 6>$$总结一下$$</font>\n",
    "<img src = \"images\\chapter11\\conclusion.jpg\" >"
   ]
  }
 ],
 "metadata": {
  "celltoolbar": "Raw Cell Format",
  "kernelspec": {
   "display_name": "Python 3 (ipykernel)",
   "language": "python",
   "name": "python3"
  },
  "language_info": {
   "codemirror_mode": {
    "name": "ipython",
    "version": 3
   },
   "file_extension": ".py",
   "mimetype": "text/x-python",
   "name": "python",
   "nbconvert_exporter": "python",
   "pygments_lexer": "ipython3",
   "version": "3.11.7"
  }
 },
 "nbformat": 4,
 "nbformat_minor": 4
}
