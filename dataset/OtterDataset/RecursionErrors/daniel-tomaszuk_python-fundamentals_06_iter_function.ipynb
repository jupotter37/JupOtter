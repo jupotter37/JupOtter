{
 "cells": [
  {
   "cell_type": "code",
   "execution_count": 1,
   "id": "95ed48d2-d934-4234-9870-536fcfbc501b",
   "metadata": {},
   "outputs": [
    {
     "data": {
      "text/plain": [
       "(list_iterator, False)"
      ]
     },
     "execution_count": 1,
     "metadata": {},
     "output_type": "execute_result"
    }
   ],
   "source": [
    "l = [1,2,3,4,5]\n",
    "l_iter = iter(l)\n",
    "type(l_iter), l_iter is l"
   ]
  },
  {
   "cell_type": "code",
   "execution_count": 2,
   "id": "22fefd32-5b24-484d-9015-0bacc133ddf2",
   "metadata": {},
   "outputs": [
    {
     "data": {
      "text/plain": [
       "([1, 2, 3, 4, 5], [], [])"
      ]
     },
     "execution_count": 2,
     "metadata": {},
     "output_type": "execute_result"
    }
   ],
   "source": [
    "list(l_iter), list(l_iter), list(l_iter)"
   ]
  },
  {
   "cell_type": "code",
   "execution_count": 3,
   "id": "1f426ced-85ab-453f-b14e-645397c20598",
   "metadata": {},
   "outputs": [],
   "source": [
    "class Squares:\n",
    "    def __init__(self, n):\n",
    "        self.n = n\n",
    "\n",
    "    def __len__(self):\n",
    "        return self.n\n",
    "\n",
    "    def __getitem__(self, i):\n",
    "        if self.n <= i:\n",
    "            raise IndexError\n",
    "        return i ** 2"
   ]
  },
  {
   "cell_type": "code",
   "execution_count": 4,
   "id": "ea05c2cd-6440-465e-94b0-1601c50cdba2",
   "metadata": {},
   "outputs": [
    {
     "data": {
      "text/plain": [
       "([0, 1, 4, 9], [0, 1, 4, 9], [0, 1, 4, 9])"
      ]
     },
     "execution_count": 4,
     "metadata": {},
     "output_type": "execute_result"
    }
   ],
   "source": [
    "s1 = Squares(4)\n",
    "list(s1), list(s1), list(s1)"
   ]
  },
  {
   "cell_type": "code",
   "execution_count": 5,
   "id": "b3f93b78-5f21-4c43-95d4-782687e5748f",
   "metadata": {},
   "outputs": [
    {
     "data": {
      "text/plain": [
       "(False, False)"
      ]
     },
     "execution_count": 5,
     "metadata": {},
     "output_type": "execute_result"
    }
   ],
   "source": [
    "\"__iter__\" in dir(s1), \"__next__\" in dir(s1)"
   ]
  },
  {
   "cell_type": "code",
   "execution_count": 6,
   "id": "55536cbf-a2f8-476d-9006-b2f816acc48a",
   "metadata": {},
   "outputs": [
    {
     "data": {
      "text/plain": [
       "(True, True)"
      ]
     },
     "execution_count": 6,
     "metadata": {},
     "output_type": "execute_result"
    }
   ],
   "source": [
    "# thanks to __getitem__ it's possible to create an inerator\n",
    "sq_iter = iter(s1)\n",
    "\"__iter__\" in dir(sq_iter), \"__next__\" in  dir(sq_iter)"
   ]
  },
  {
   "cell_type": "code",
   "execution_count": 7,
   "id": "0bd0eece-0728-4f12-ab0e-5edd2d83576f",
   "metadata": {},
   "outputs": [
    {
     "data": {
      "text/plain": [
       "([0, 1, 4, 9], [])"
      ]
     },
     "execution_count": 7,
     "metadata": {},
     "output_type": "execute_result"
    }
   ],
   "source": [
    "list(sq_iter), list(sq_iter)"
   ]
  },
  {
   "cell_type": "code",
   "execution_count": 8,
   "id": "194e1c2b-4cdf-4622-aad5-27160664dd6b",
   "metadata": {},
   "outputs": [],
   "source": [
    "class Squares:\n",
    "    def __init__(self, n):\n",
    "        self.n = n\n",
    "\n",
    "    def __len__(self):\n",
    "        return self.n\n",
    "\n",
    "    def __getitem__(self, i):\n",
    "        if self.n <= i:\n",
    "            raise IndexError\n",
    "        return i ** 2\n",
    "\n",
    "    def __iter__(self):\n",
    "        return iter(self)"
   ]
  },
  {
   "cell_type": "code",
   "execution_count": 9,
   "id": "f4b945ad-6c35-4679-a64e-83759d249719",
   "metadata": {},
   "outputs": [],
   "source": [
    "sq = Squares(5)"
   ]
  },
  {
   "cell_type": "code",
   "execution_count": 10,
   "id": "8cc87a60-7e08-4009-a94e-ad8b73ba9560",
   "metadata": {},
   "outputs": [
    {
     "name": "stdout",
     "output_type": "stream",
     "text": [
      "maximum recursion depth exceeded\n"
     ]
    }
   ],
   "source": [
    "try:\n",
    "    list(sq)\n",
    "except RecursionError as e:\n",
    "    print(e)"
   ]
  },
  {
   "cell_type": "code",
   "execution_count": 11,
   "id": "a3811532-a573-40df-9348-d2cd9745c4c4",
   "metadata": {},
   "outputs": [],
   "source": [
    "class Squares:\n",
    "    def __init__(self, n):\n",
    "        self.n = n\n",
    "\n",
    "    def __len__(self):\n",
    "        return self.n\n",
    "\n",
    "    def __getitem__(self, i):\n",
    "        if self.n <= i:\n",
    "            raise IndexError\n",
    "        return i ** 2\n",
    "\n",
    "\n",
    "class SquaresIterator:\n",
    "    def __init__(self, squares):\n",
    "        self.squares = squares\n",
    "        self.i = 0\n",
    "\n",
    "    def __iter__(self):\n",
    "        return self\n",
    "\n",
    "    def __next__(self):\n",
    "        if self.i >= len(self.squares):\n",
    "            raise StopIteration\n",
    "\n",
    "        result = self.squares[self.i]\n",
    "        self.i +=  1\n",
    "        return  result\n"
   ]
  },
  {
   "cell_type": "code",
   "execution_count": 12,
   "id": "c5d7299f-6f49-4cc5-9343-a8dc12ba1f5a",
   "metadata": {},
   "outputs": [],
   "source": [
    "sqi = SquaresIterator(Squares(10))"
   ]
  },
  {
   "cell_type": "code",
   "execution_count": 13,
   "id": "e3f531a7-8f2a-4c83-b57a-28eadce3b9aa",
   "metadata": {},
   "outputs": [
    {
     "data": {
      "text/plain": [
       "[0, 1, 4, 9, 16, 25, 36, 49, 64, 81]"
      ]
     },
     "execution_count": 13,
     "metadata": {},
     "output_type": "execute_result"
    }
   ],
   "source": [
    "list(sqi)"
   ]
  },
  {
   "cell_type": "code",
   "execution_count": 14,
   "id": "5c180e37-bcc1-4f7c-ba22-ce160ff422d3",
   "metadata": {},
   "outputs": [
    {
     "data": {
      "text/plain": [
       "[]"
      ]
     },
     "execution_count": 14,
     "metadata": {},
     "output_type": "execute_result"
    }
   ],
   "source": [
    "list(sqi)"
   ]
  },
  {
   "cell_type": "code",
   "execution_count": null,
   "id": "2a95bc87-bb5c-4e92-a181-7e97b0cf3c15",
   "metadata": {},
   "outputs": [],
   "source": []
  }
 ],
 "metadata": {
  "kernelspec": {
   "display_name": "Python 3 (ipykernel)",
   "language": "python",
   "name": "python3"
  },
  "language_info": {
   "codemirror_mode": {
    "name": "ipython",
    "version": 3
   },
   "file_extension": ".py",
   "mimetype": "text/x-python",
   "name": "python",
   "nbconvert_exporter": "python",
   "pygments_lexer": "ipython3",
   "version": "3.12.3"
  }
 },
 "nbformat": 4,
 "nbformat_minor": 5
}
