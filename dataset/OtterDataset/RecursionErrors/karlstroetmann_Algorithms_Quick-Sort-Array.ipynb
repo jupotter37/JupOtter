{
 "cells": [
  {
   "cell_type": "code",
   "execution_count": 1,
   "metadata": {},
   "outputs": [
    {
     "data": {
      "text/html": [
       "<link href='http://fonts.googleapis.com/css?family=Alegreya+Sans:100,300,400,500,700,800,900,100italic,300italic,400italic,500italic,700italic,800italic,900italic' rel='stylesheet' type='text/css'>\n",
       "<link href='http://fonts.googleapis.com/css?family=Arvo:400,700,400italic' rel='stylesheet' type='text/css'>\n",
       "<link href='http://fonts.googleapis.com/css?family=PT+Mono' rel='stylesheet' type='text/css'>\n",
       "<link href='http://fonts.googleapis.com/css?family=Shadows+Into+Light' rel='stylesheet' type='text/css'>\n",
       "<link href='http://fonts.googleapis.com/css?family=Philosopher:400,700,400italic,700italic' rel='stylesheet' type='text/css'>\n",
       "\n",
       "<style>\n",
       "\n",
       "@font-face {\n",
       "    font-family: \"Computer Modern\";\n",
       "    src: url('http://mirrors.ctan.org/fonts/cm-unicode/fonts/otf/cmunss.otf');\n",
       "}\n",
       "\n",
       ".container { width: 100% }\n",
       "\n",
       "/* Formatting for header cells */\n",
       ".text_cell_render h1 {\n",
       "    font-family: 'Philosopher', sans-serif;\n",
       "    font-weight: 400;\n",
       "    font-size: 2.2em;\n",
       "    line-height: 100%;\n",
       "    color: rgb(0, 80, 120);\n",
       "    margin-bottom: 0.1em;\n",
       "    margin-top: 0.1em;\n",
       "    display: block;\n",
       "}\t\n",
       ".text_cell_render h2 {\n",
       "    font-family: 'Philosopher', serif;\n",
       "    font-weight: 400;\n",
       "    font-size: 1.9em;\n",
       "    line-height: 100%;\n",
       "    color: rgb(200,100,0);\n",
       "    margin-bottom: 0.1em;\n",
       "    margin-top: 0.1em;\n",
       "    display: block;\n",
       "}\t\n",
       "\n",
       ".text_cell_render h3 {\n",
       "    font-family: 'Philosopher', serif;\n",
       "    margin-top:12px;\n",
       "    margin-bottom: 3px;\n",
       "    font-style: italic;\n",
       "    color: rgb(94,127,192);\n",
       "}\n",
       "\n",
       ".text_cell_render h4 {\n",
       "    font-family: 'Philosopher', serif;\n",
       "}\n",
       "\n",
       ".text_cell_render h5 {\n",
       "    font-family: 'Alegreya Sans', sans-serif;\n",
       "    font-weight: 300;\n",
       "    font-size: 16pt;\n",
       "    color: grey;\n",
       "    font-style: italic;\n",
       "    margin-bottom: .1em;\n",
       "    margin-top: 0.1em;\n",
       "    display: block;\n",
       "}\n",
       "\n",
       ".text_cell_render h6 {\n",
       "    font-family: 'PT Mono', sans-serif;\n",
       "    font-weight: 300;\n",
       "    font-size: 10pt;\n",
       "    color: grey;\n",
       "    margin-bottom: 1px;\n",
       "    margin-top: 1px;\n",
       "}\n",
       "\n",
       ".text_cell_render em {\n",
       "    font-family: 'Philosopher', sans-serif;\n",
       "    color:        blue;\n",
       "    background-color: rgb(255,220,180);\n",
       "    font-size:    110%;\n",
       "    margin-left:   2px;\n",
       "    margin-right:  2px;\n",
       "    font-weight:   100;\n",
       "}\n",
       "\n",
       ".text_cell_render b {\n",
       "    color:            rgb(255,195,195);\n",
       "    background-color: rgb(0,0,0);\n",
       "    font-size:    110%;\n",
       "    margin-left:   2px;\n",
       "    margin-right:  2px;\n",
       "    font-weight:   650;\n",
       "}\n",
       "\n",
       ".text_cell_render tt {\n",
       "    font-size:    120%;\n",
       "    margin-left:   2px;\n",
       "    margin-right:  2px;\n",
       "    font-weight:   150;\n",
       "}\n",
       "\n",
       ".Codemirror {\n",
       "    font-family: \"PT Mono\";\n",
       "    font-size: 100%;\n",
       "}\n",
       "\n",
       "</style>\n",
       "\n"
      ],
      "text/plain": [
       "<IPython.core.display.HTML object>"
      ]
     },
     "execution_count": 1,
     "metadata": {},
     "output_type": "execute_result"
    }
   ],
   "source": [
    "from IPython.core.display import HTML\n",
    "with open('../style.css') as file:\n",
    "    css = file.read()\n",
    "HTML(css)"
   ]
  },
  {
   "cell_type": "markdown",
   "metadata": {},
   "source": [
    "The function `logging` is used as a *decorator*.  It takes a function \n",
    "`f` as its argument and returns a new function `logged_f` that returns \n",
    "the same result as the function `f`, but additionally it prints its arguments \n",
    "before the function is called and when the function returns, both the function \n",
    "call and the result is printed.\n",
    "\n",
    "The *decorator* `logging` is useful for debugging."
   ]
  },
  {
   "cell_type": "code",
   "execution_count": 2,
   "metadata": {},
   "outputs": [],
   "source": [
    "def logging(f):\n",
    "    def logged_f(*a):\n",
    "        print(f'{f.__name__}{a}')\n",
    "        r = f(*a)\n",
    "        print(f'{f.__name__}{a} = {r}')\n",
    "        return r\n",
    "    return logged_f"
   ]
  },
  {
   "cell_type": "markdown",
   "metadata": {},
   "source": [
    "# An Array-Based Implementation of Quick-Sort"
   ]
  },
  {
   "cell_type": "markdown",
   "metadata": {},
   "source": [
    "The function $\\texttt{sort}(L)$ sorts the list $L$ in place."
   ]
  },
  {
   "cell_type": "code",
   "execution_count": 3,
   "metadata": {},
   "outputs": [],
   "source": [
    "def sort(L):\n",
    "    quickSort(0, len(L) - 1, L)"
   ]
  },
  {
   "cell_type": "markdown",
   "metadata": {},
   "source": [
    "The function `quickSort(start, end, L)` sorts the sublist `L[start:end+1]` in place."
   ]
  },
  {
   "cell_type": "code",
   "execution_count": 4,
   "metadata": {},
   "outputs": [],
   "source": [
    "def quickSort(start, end, L):\n",
    "    if end <= start:\n",
    "        return  # at most one element, nothing to do\n",
    "    m = partition(start, end, L)  # m is the split index\n",
    "    quickSort(start, m - 1, L)\n",
    "    quickSort(m + 1, end  , L)"
   ]
  },
  {
   "cell_type": "markdown",
   "metadata": {},
   "source": [
    "The function $\\texttt{partition}(\\texttt{start}, \\texttt{end}, L)$ returns an index $m$ into the list $L$ and \n",
    "regroups the elements of $L$ such that after the function returns the following holds:\n",
    " \n",
    "  - $\\forall i \\in \\{\\texttt{start}, \\cdots, m-1\\} : L[i] \\leq L[m]$,\n",
    "  - $\\forall i \\in \\{ m+1, \\cdots, \\texttt{end} \\}  : L[m] <    L[i]$,\n",
    "  - $L[m] = \\texttt{pivot}$.\n",
    "  \n",
    "Here, `pivot` is the element that is at the index `end` at the time of the invocation \n",
    "of the function, i.e. we have\n",
    "\n",
    "  - $L[\\texttt{end}] = \\texttt{pivot}$\n",
    "  \n",
    "at invocation time.\n",
    "  \n",
    "The for-loop of `partition` maintains the following invariants:\n",
    "\n",
    " - $\\forall i \\in \\{\\texttt{start}, \\cdots, \\texttt{left} \\} : L[i] \\leq \\texttt{pivot}$,\n",
    " - $\\forall i \\in \\{\\texttt{left}+1, \\cdots, \\texttt{idx}-1\\} : \\texttt{pivot} < L[i]$,\n",
    " - $L[\\texttt{end}] = \\texttt{pivot}$.\n",
    "\n",
    "These invariants are depicted below:\n",
    "\n",
    "![Invariants for partitioning](lomuto.png)\n",
    "\n",
    "This algorithm has been suggested by *Nico Lomuto*.  It is not the most efficient implementation of `partition`, but\n",
    "it is easier to understand than the algorithm given by *Tony Hoare* that uses two separate loops."
   ]
  },
  {
   "cell_type": "code",
   "execution_count": 5,
   "metadata": {},
   "outputs": [],
   "source": [
    "#@logging\n",
    "def partition(start, end, L):\n",
    "    pivot = L[end]\n",
    "    left  = start - 1\n",
    "    for idx in range(start, end):\n",
    "        if L[idx] <= pivot:\n",
    "            left += 1\n",
    "            swap(left, idx, L)\n",
    "    swap(left + 1, end, L)\n",
    "    return left + 1"
   ]
  },
  {
   "cell_type": "markdown",
   "metadata": {},
   "source": [
    "The function $\\texttt{swap}(x, y, L)$ swaps the elements at index $x$ and $y$ in $L$."
   ]
  },
  {
   "cell_type": "code",
   "execution_count": 6,
   "metadata": {},
   "outputs": [],
   "source": [
    "def swap(x, y, L):\n",
    "    L[x], L[y] = L[y], L[x]"
   ]
  },
  {
   "cell_type": "markdown",
   "metadata": {},
   "source": [
    "## Testing"
   ]
  },
  {
   "cell_type": "code",
   "execution_count": 7,
   "metadata": {},
   "outputs": [],
   "source": [
    "import random as rnd"
   ]
  },
  {
   "cell_type": "code",
   "execution_count": 8,
   "metadata": {},
   "outputs": [],
   "source": [
    "def demo():\n",
    "    L = [ rnd.randrange(1, 20) for n in range(1, 16) ]\n",
    "    print(\"L = \", L)\n",
    "    sort(L)\n",
    "    print(\"L = \", L)"
   ]
  },
  {
   "cell_type": "code",
   "execution_count": 9,
   "metadata": {},
   "outputs": [
    {
     "name": "stdout",
     "output_type": "stream",
     "text": [
      "L =  [3, 14, 12, 11, 6, 16, 6, 8, 16, 18, 17, 11, 19, 10, 14]\n",
      "L =  [3, 6, 6, 8, 10, 11, 11, 12, 14, 14, 16, 16, 17, 18, 19]\n"
     ]
    }
   ],
   "source": [
    "demo()"
   ]
  },
  {
   "cell_type": "code",
   "execution_count": 10,
   "metadata": {},
   "outputs": [],
   "source": [
    "def isOrdered(L):\n",
    "    for i in range(len(L) - 1):\n",
    "        assert L[i] <= L[i+1]"
   ]
  },
  {
   "cell_type": "code",
   "execution_count": 11,
   "metadata": {},
   "outputs": [],
   "source": [
    "from collections import Counter"
   ]
  },
  {
   "cell_type": "code",
   "execution_count": 12,
   "metadata": {},
   "outputs": [],
   "source": [
    "def sameElements(L, S):\n",
    "    assert Counter(L) == Counter(S)"
   ]
  },
  {
   "cell_type": "markdown",
   "metadata": {},
   "source": [
    "The function $\\texttt{testSort}(n, k)$ generates $n$ random lists of length $k$, sorts them, and checks whether the output is sorted and contains the same elements as the input."
   ]
  },
  {
   "cell_type": "code",
   "execution_count": 13,
   "metadata": {},
   "outputs": [],
   "source": [
    "def testSort(n, k):\n",
    "    for i in range(n):\n",
    "        L = [ rnd.randrange(2*k) for x in range(k) ]\n",
    "        oldL = L[:]\n",
    "        sort(L)\n",
    "        isOrdered(L)\n",
    "        sameElements(oldL, L)\n",
    "        assert len(L) == len(oldL)\n",
    "        print('.', end='')\n",
    "    print()\n",
    "    print(\"All tests successful!\")"
   ]
  },
  {
   "cell_type": "code",
   "execution_count": 14,
   "metadata": {},
   "outputs": [
    {
     "name": "stdout",
     "output_type": "stream",
     "text": [
      "....................................................................................................\n",
      "All tests successful!\n",
      "CPU times: user 7.69 s, sys: 63.2 ms, total: 7.75 s\n",
      "Wall time: 7.77 s\n"
     ]
    }
   ],
   "source": [
    "%%time\n",
    "testSort(100, 20000)"
   ]
  },
  {
   "cell_type": "markdown",
   "metadata": {},
   "source": [
    "Next, we sort a million random integers."
   ]
  },
  {
   "cell_type": "code",
   "execution_count": 16,
   "metadata": {},
   "outputs": [
    {
     "name": "stdout",
     "output_type": "stream",
     "text": [
      "CPU times: user 1min 49s, sys: 199 ms, total: 1min 49s\n",
      "Wall time: 1min 49s\n"
     ]
    }
   ],
   "source": [
    "%%time\n",
    "k = 1_000_000\n",
    "L = [ rnd.randrange(1000) for x in range(k) ]\n",
    "sort(L)"
   ]
  },
  {
   "cell_type": "markdown",
   "metadata": {},
   "source": [
    "Next, we sort a hundred thousand integers.  This time, many of the integers have the same value."
   ]
  },
  {
   "cell_type": "code",
   "execution_count": 17,
   "metadata": {},
   "outputs": [],
   "source": [
    "L = [ rnd.randrange(100) for x in range(1000_000) ]"
   ]
  },
  {
   "cell_type": "code",
   "execution_count": 18,
   "metadata": {},
   "outputs": [
    {
     "ename": "RecursionError",
     "evalue": "maximum recursion depth exceeded in comparison",
     "output_type": "error",
     "traceback": [
      "\u001b[0;31m---------------------------------------------------------------------------\u001b[0m",
      "\u001b[0;31mRecursionError\u001b[0m                            Traceback (most recent call last)",
      "File \u001b[0;32m<timed eval>:1\u001b[0m, in \u001b[0;36m<module>\u001b[0;34m\u001b[0m\n",
      "Input \u001b[0;32mIn [3]\u001b[0m, in \u001b[0;36msort\u001b[0;34m(L)\u001b[0m\n\u001b[1;32m      1\u001b[0m \u001b[38;5;28;01mdef\u001b[39;00m \u001b[38;5;21msort\u001b[39m(L):\n\u001b[0;32m----> 2\u001b[0m     \u001b[43mquickSort\u001b[49m\u001b[43m(\u001b[49m\u001b[38;5;241;43m0\u001b[39;49m\u001b[43m,\u001b[49m\u001b[43m \u001b[49m\u001b[38;5;28;43mlen\u001b[39;49m\u001b[43m(\u001b[49m\u001b[43mL\u001b[49m\u001b[43m)\u001b[49m\u001b[43m \u001b[49m\u001b[38;5;241;43m-\u001b[39;49m\u001b[43m \u001b[49m\u001b[38;5;241;43m1\u001b[39;49m\u001b[43m,\u001b[49m\u001b[43m \u001b[49m\u001b[43mL\u001b[49m\u001b[43m)\u001b[49m\n",
      "Input \u001b[0;32mIn [4]\u001b[0m, in \u001b[0;36mquickSort\u001b[0;34m(start, end, L)\u001b[0m\n\u001b[1;32m      3\u001b[0m     \u001b[38;5;28;01mreturn\u001b[39;00m  \u001b[38;5;66;03m# at most one element, nothing to do\u001b[39;00m\n\u001b[1;32m      4\u001b[0m m \u001b[38;5;241m=\u001b[39m partition(start, end, L)  \u001b[38;5;66;03m# m is the split index\u001b[39;00m\n\u001b[0;32m----> 5\u001b[0m \u001b[43mquickSort\u001b[49m\u001b[43m(\u001b[49m\u001b[43mstart\u001b[49m\u001b[43m,\u001b[49m\u001b[43m \u001b[49m\u001b[43mm\u001b[49m\u001b[43m \u001b[49m\u001b[38;5;241;43m-\u001b[39;49m\u001b[43m \u001b[49m\u001b[38;5;241;43m1\u001b[39;49m\u001b[43m,\u001b[49m\u001b[43m \u001b[49m\u001b[43mL\u001b[49m\u001b[43m)\u001b[49m\n\u001b[1;32m      6\u001b[0m quickSort(m \u001b[38;5;241m+\u001b[39m \u001b[38;5;241m1\u001b[39m, end  , L)\n",
      "Input \u001b[0;32mIn [4]\u001b[0m, in \u001b[0;36mquickSort\u001b[0;34m(start, end, L)\u001b[0m\n\u001b[1;32m      3\u001b[0m     \u001b[38;5;28;01mreturn\u001b[39;00m  \u001b[38;5;66;03m# at most one element, nothing to do\u001b[39;00m\n\u001b[1;32m      4\u001b[0m m \u001b[38;5;241m=\u001b[39m partition(start, end, L)  \u001b[38;5;66;03m# m is the split index\u001b[39;00m\n\u001b[0;32m----> 5\u001b[0m \u001b[43mquickSort\u001b[49m\u001b[43m(\u001b[49m\u001b[43mstart\u001b[49m\u001b[43m,\u001b[49m\u001b[43m \u001b[49m\u001b[43mm\u001b[49m\u001b[43m \u001b[49m\u001b[38;5;241;43m-\u001b[39;49m\u001b[43m \u001b[49m\u001b[38;5;241;43m1\u001b[39;49m\u001b[43m,\u001b[49m\u001b[43m \u001b[49m\u001b[43mL\u001b[49m\u001b[43m)\u001b[49m\n\u001b[1;32m      6\u001b[0m quickSort(m \u001b[38;5;241m+\u001b[39m \u001b[38;5;241m1\u001b[39m, end  , L)\n",
      "    \u001b[0;31m[... skipping similar frames: quickSort at line 5 (2963 times)]\u001b[0m\n",
      "Input \u001b[0;32mIn [4]\u001b[0m, in \u001b[0;36mquickSort\u001b[0;34m(start, end, L)\u001b[0m\n\u001b[1;32m      3\u001b[0m     \u001b[38;5;28;01mreturn\u001b[39;00m  \u001b[38;5;66;03m# at most one element, nothing to do\u001b[39;00m\n\u001b[1;32m      4\u001b[0m m \u001b[38;5;241m=\u001b[39m partition(start, end, L)  \u001b[38;5;66;03m# m is the split index\u001b[39;00m\n\u001b[0;32m----> 5\u001b[0m \u001b[43mquickSort\u001b[49m\u001b[43m(\u001b[49m\u001b[43mstart\u001b[49m\u001b[43m,\u001b[49m\u001b[43m \u001b[49m\u001b[43mm\u001b[49m\u001b[43m \u001b[49m\u001b[38;5;241;43m-\u001b[39;49m\u001b[43m \u001b[49m\u001b[38;5;241;43m1\u001b[39;49m\u001b[43m,\u001b[49m\u001b[43m \u001b[49m\u001b[43mL\u001b[49m\u001b[43m)\u001b[49m\n\u001b[1;32m      6\u001b[0m quickSort(m \u001b[38;5;241m+\u001b[39m \u001b[38;5;241m1\u001b[39m, end  , L)\n",
      "Input \u001b[0;32mIn [4]\u001b[0m, in \u001b[0;36mquickSort\u001b[0;34m(start, end, L)\u001b[0m\n\u001b[1;32m      2\u001b[0m \u001b[38;5;28;01mif\u001b[39;00m end \u001b[38;5;241m<\u001b[39m\u001b[38;5;241m=\u001b[39m start:\n\u001b[1;32m      3\u001b[0m     \u001b[38;5;28;01mreturn\u001b[39;00m  \u001b[38;5;66;03m# at most one element, nothing to do\u001b[39;00m\n\u001b[0;32m----> 4\u001b[0m m \u001b[38;5;241m=\u001b[39m \u001b[43mpartition\u001b[49m\u001b[43m(\u001b[49m\u001b[43mstart\u001b[49m\u001b[43m,\u001b[49m\u001b[43m \u001b[49m\u001b[43mend\u001b[49m\u001b[43m,\u001b[49m\u001b[43m \u001b[49m\u001b[43mL\u001b[49m\u001b[43m)\u001b[49m  \u001b[38;5;66;03m# m is the split index\u001b[39;00m\n\u001b[1;32m      5\u001b[0m quickSort(start, m \u001b[38;5;241m-\u001b[39m \u001b[38;5;241m1\u001b[39m, L)\n\u001b[1;32m      6\u001b[0m quickSort(m \u001b[38;5;241m+\u001b[39m \u001b[38;5;241m1\u001b[39m, end  , L)\n",
      "Input \u001b[0;32mIn [5]\u001b[0m, in \u001b[0;36mpartition\u001b[0;34m(start, end, L)\u001b[0m\n\u001b[1;32m      3\u001b[0m pivot \u001b[38;5;241m=\u001b[39m L[end]\n\u001b[1;32m      4\u001b[0m left  \u001b[38;5;241m=\u001b[39m start \u001b[38;5;241m-\u001b[39m \u001b[38;5;241m1\u001b[39m\n\u001b[0;32m----> 5\u001b[0m \u001b[38;5;28;01mfor\u001b[39;00m idx \u001b[38;5;129;01min\u001b[39;00m \u001b[38;5;28;43mrange\u001b[39;49m\u001b[43m(\u001b[49m\u001b[43mstart\u001b[49m\u001b[43m,\u001b[49m\u001b[43m \u001b[49m\u001b[43mend\u001b[49m\u001b[43m)\u001b[49m:\n\u001b[1;32m      6\u001b[0m     \u001b[38;5;28;01mif\u001b[39;00m L[idx] \u001b[38;5;241m<\u001b[39m\u001b[38;5;241m=\u001b[39m pivot:\n\u001b[1;32m      7\u001b[0m         left \u001b[38;5;241m+\u001b[39m\u001b[38;5;241m=\u001b[39m \u001b[38;5;241m1\u001b[39m\n",
      "\u001b[0;31mRecursionError\u001b[0m: maximum recursion depth exceeded in comparison"
     ]
    }
   ],
   "source": [
    "%%time\n",
    "sort(L)"
   ]
  },
  {
   "cell_type": "markdown",
   "metadata": {},
   "source": [
    "Finally, we test the worst case and sort 5000 integers that are sorted ascendingly.  Since quicksort is recursive, we have to increment the <em style=\"color:blue\">recursion limit</em> of *Python*, because otherwise we would get an error telling us that we exceed the maximum recursion depth."
   ]
  },
  {
   "cell_type": "code",
   "execution_count": null,
   "metadata": {},
   "outputs": [],
   "source": [
    "import sys"
   ]
  },
  {
   "cell_type": "code",
   "execution_count": null,
   "metadata": {},
   "outputs": [],
   "source": [
    "sys.setrecursionlimit(20000)\n",
    "sys.version"
   ]
  },
  {
   "cell_type": "code",
   "execution_count": null,
   "metadata": {},
   "outputs": [],
   "source": [
    "L = list(range(5000))"
   ]
  },
  {
   "cell_type": "code",
   "execution_count": null,
   "metadata": {},
   "outputs": [],
   "source": [
    "%%time\n",
    "sort(L)"
   ]
  },
  {
   "cell_type": "markdown",
   "metadata": {},
   "source": [
    "If we *shuffle* the list that is to be sorted before calling `sort`, the worst case behaviour disappears."
   ]
  },
  {
   "cell_type": "code",
   "execution_count": null,
   "metadata": {},
   "outputs": [],
   "source": [
    "rnd.shuffle(L)"
   ]
  },
  {
   "cell_type": "code",
   "execution_count": null,
   "metadata": {},
   "outputs": [],
   "source": [
    "%%time\n",
    "sort(L)"
   ]
  },
  {
   "cell_type": "code",
   "execution_count": null,
   "metadata": {},
   "outputs": [],
   "source": []
  }
 ],
 "metadata": {
  "kernelspec": {
   "display_name": "Python 3 (ipykernel)",
   "language": "python",
   "name": "python3"
  },
  "language_info": {
   "codemirror_mode": {
    "name": "ipython",
    "version": 3
   },
   "file_extension": ".py",
   "mimetype": "text/x-python",
   "name": "python",
   "nbconvert_exporter": "python",
   "pygments_lexer": "ipython3",
   "version": "3.10.4"
  },
  "varInspector": {
   "cols": {
    "lenName": 16,
    "lenType": 16,
    "lenVar": 40
   },
   "kernels_config": {
    "python": {
     "delete_cmd_postfix": "",
     "delete_cmd_prefix": "del ",
     "library": "var_list.py",
     "varRefreshCmd": "print(var_dic_list())"
    },
    "r": {
     "delete_cmd_postfix": ") ",
     "delete_cmd_prefix": "rm(",
     "library": "var_list.r",
     "varRefreshCmd": "cat(var_dic_list()) "
    }
   },
   "types_to_exclude": [
    "module",
    "function",
    "builtin_function_or_method",
    "instance",
    "_Feature"
   ],
   "window_display": false
  }
 },
 "nbformat": 4,
 "nbformat_minor": 2
}
