{
  "nbformat": 4,
  "nbformat_minor": 0,
  "metadata": {
    "colab": {
      "provenance": []
    },
    "kernelspec": {
      "name": "python3",
      "display_name": "Python 3"
    },
    "language_info": {
      "name": "python"
    }
  },
  "cells": [
    {
      "cell_type": "markdown",
      "source": [
        "# Functions"
      ],
      "metadata": {
        "id": "pRGtrhbu6_k9"
      }
    },
    {
      "cell_type": "markdown",
      "source": [
        "1. Write a program to find out the factorial of a given number."
      ],
      "metadata": {
        "id": "qBGPaQ8lWubb"
      }
    },
    {
      "cell_type": "code",
      "source": [
        "def factorial_function(num):\n",
        "  if num < 0:\n",
        "    return('Factorial of negative number does not exist')\n",
        "\n",
        "  if num == 1:\n",
        "    return 1\n",
        "  else:\n",
        "    return (num * factorial_function(num -1))"
      ],
      "metadata": {
        "id": "f0ogYbEW7DWc"
      },
      "execution_count": null,
      "outputs": []
    },
    {
      "cell_type": "code",
      "source": [
        "num = 7\n",
        "factorial = factorial_function(7)\n",
        "\n",
        "print('The factorial of', num, 'is', factorial)"
      ],
      "metadata": {
        "colab": {
          "base_uri": "https://localhost:8080/"
        },
        "id": "gZA03rfiWt6p",
        "outputId": "b0c5ce0c-07f9-4449-8897-bf9c4f79d1e7"
      },
      "execution_count": null,
      "outputs": [
        {
          "output_type": "stream",
          "name": "stdout",
          "text": [
            "The factorial of 7 is 5040\n"
          ]
        }
      ]
    },
    {
      "cell_type": "markdown",
      "source": [
        "2. Write a Python function that takes a list and returns a new list with distinct elements from the first list."
      ],
      "metadata": {
        "id": "juYGvWmzEEoF"
      }
    },
    {
      "cell_type": "code",
      "source": [
        "def unique_list(input_list):\n",
        "  ans = []\n",
        "  for element in input_list:\n",
        "    if element not in ans:\n",
        "      ans.append(element)\n",
        "\n",
        "  return ans"
      ],
      "metadata": {
        "id": "daUcdw-5Eqw2"
      },
      "execution_count": null,
      "outputs": []
    },
    {
      "cell_type": "code",
      "source": [
        "input_list = [1, 2, 1, 4, 2, 1, 3, 5, 2, 3, 4, 1, 2]\n",
        "print('Unique List : ', unique_list(input_list))"
      ],
      "metadata": {
        "colab": {
          "base_uri": "https://localhost:8080/"
        },
        "id": "A89CebEyE35M",
        "outputId": "d90085d4-9558-49fc-9f33-7fa6ea8b1816"
      },
      "execution_count": null,
      "outputs": [
        {
          "output_type": "stream",
          "name": "stdout",
          "text": [
            "Unique List :  [1, 2, 4, 3, 5]\n"
          ]
        }
      ]
    },
    {
      "cell_type": "code",
      "source": [
        "def unique_list_2(input_list):\n",
        "  return list(set(input_list))"
      ],
      "metadata": {
        "id": "tn_ERyAeFA5t"
      },
      "execution_count": null,
      "outputs": []
    },
    {
      "cell_type": "code",
      "source": [
        "input_list = [1, 2, 1, 4, 2, 1, 3, 5, 2, 3, 4, 1, 2]\n",
        "print('Unique List using Set : ', unique_list(input_list))"
      ],
      "metadata": {
        "colab": {
          "base_uri": "https://localhost:8080/"
        },
        "id": "lSDXt9ljFIDG",
        "outputId": "406fecf0-8e83-4452-bb90-7eddb7bda7f3"
      },
      "execution_count": null,
      "outputs": [
        {
          "output_type": "stream",
          "name": "stdout",
          "text": [
            "Unique List using Set :  [1, 2, 4, 3, 5]\n"
          ]
        }
      ]
    },
    {
      "cell_type": "markdown",
      "source": [
        "3. Create a function that calculates the result of raising a number to a given power without using the built-in ** operator."
      ],
      "metadata": {
        "id": "2ppr0enxGStN"
      }
    },
    {
      "cell_type": "code",
      "source": [
        "m = 2\n",
        "n = 4"
      ],
      "metadata": {
        "id": "MeqF8ZJBGT5q"
      },
      "execution_count": null,
      "outputs": []
    },
    {
      "cell_type": "code",
      "source": [
        "def power_1(m, n):\n",
        "  return m**n\n",
        "\n",
        "power_1(m, n)"
      ],
      "metadata": {
        "colab": {
          "base_uri": "https://localhost:8080/"
        },
        "id": "POi9NDQWGZHz",
        "outputId": "02d79074-906e-4af7-b251-da46b31c5150"
      },
      "execution_count": null,
      "outputs": [
        {
          "output_type": "execute_result",
          "data": {
            "text/plain": [
              "16"
            ]
          },
          "metadata": {},
          "execution_count": 26
        }
      ]
    },
    {
      "cell_type": "code",
      "source": [
        "def power_2(m, n):\n",
        "  return pow(m, n)\n",
        "\n",
        "power_2(m, n)"
      ],
      "metadata": {
        "colab": {
          "base_uri": "https://localhost:8080/"
        },
        "id": "fpnk9ALZGhue",
        "outputId": "c463e486-a816-43af-cc8d-63939fbc473e"
      },
      "execution_count": null,
      "outputs": [
        {
          "output_type": "execute_result",
          "data": {
            "text/plain": [
              "16"
            ]
          },
          "metadata": {},
          "execution_count": 27
        }
      ]
    },
    {
      "cell_type": "code",
      "source": [
        "def power_3(m, n):\n",
        "  ans = 1\n",
        "  for i in range(n):\n",
        "    ans *= m\n",
        "  return ans\n",
        "\n",
        "power_3(m, n)"
      ],
      "metadata": {
        "colab": {
          "base_uri": "https://localhost:8080/"
        },
        "id": "0ImCK1WfGpaA",
        "outputId": "4a219cb5-25f4-4cb6-b71f-3cb50bc45be5"
      },
      "execution_count": null,
      "outputs": [
        {
          "output_type": "execute_result",
          "data": {
            "text/plain": [
              "16"
            ]
          },
          "metadata": {},
          "execution_count": 28
        }
      ]
    },
    {
      "cell_type": "code",
      "source": [
        "def power_4(m, n):\n",
        "  return m*power_4(m, n-1)\n",
        "\n",
        "power_4(m, n)"
      ],
      "metadata": {
        "colab": {
          "base_uri": "https://localhost:8080/",
          "height": 373
        },
        "id": "XGRHt30cHCmx",
        "outputId": "74b9ad01-a415-4b75-c5b2-8b8abc93d840"
      },
      "execution_count": null,
      "outputs": [
        {
          "output_type": "error",
          "ename": "RecursionError",
          "evalue": "ignored",
          "traceback": [
            "\u001b[0;31m---------------------------------------------------------------------------\u001b[0m",
            "\u001b[0;31mRecursionError\u001b[0m                            Traceback (most recent call last)",
            "\u001b[0;32m<ipython-input-29-777db43bd5c7>\u001b[0m in \u001b[0;36m<cell line: 4>\u001b[0;34m()\u001b[0m\n\u001b[1;32m      2\u001b[0m   \u001b[0;32mreturn\u001b[0m \u001b[0mm\u001b[0m\u001b[0;34m*\u001b[0m\u001b[0mpower_4\u001b[0m\u001b[0;34m(\u001b[0m\u001b[0mm\u001b[0m\u001b[0;34m,\u001b[0m \u001b[0mn\u001b[0m\u001b[0;34m-\u001b[0m\u001b[0;36m1\u001b[0m\u001b[0;34m)\u001b[0m\u001b[0;34m\u001b[0m\u001b[0;34m\u001b[0m\u001b[0m\n\u001b[1;32m      3\u001b[0m \u001b[0;34m\u001b[0m\u001b[0m\n\u001b[0;32m----> 4\u001b[0;31m \u001b[0mpower_4\u001b[0m\u001b[0;34m(\u001b[0m\u001b[0mm\u001b[0m\u001b[0;34m,\u001b[0m \u001b[0mn\u001b[0m\u001b[0;34m)\u001b[0m\u001b[0;34m\u001b[0m\u001b[0;34m\u001b[0m\u001b[0m\n\u001b[0m",
            "\u001b[0;32m<ipython-input-29-777db43bd5c7>\u001b[0m in \u001b[0;36mpower_4\u001b[0;34m(m, n)\u001b[0m\n\u001b[1;32m      1\u001b[0m \u001b[0;32mdef\u001b[0m \u001b[0mpower_4\u001b[0m\u001b[0;34m(\u001b[0m\u001b[0mm\u001b[0m\u001b[0;34m,\u001b[0m \u001b[0mn\u001b[0m\u001b[0;34m)\u001b[0m\u001b[0;34m:\u001b[0m\u001b[0;34m\u001b[0m\u001b[0;34m\u001b[0m\u001b[0m\n\u001b[0;32m----> 2\u001b[0;31m   \u001b[0;32mreturn\u001b[0m \u001b[0mm\u001b[0m\u001b[0;34m*\u001b[0m\u001b[0mpower_4\u001b[0m\u001b[0;34m(\u001b[0m\u001b[0mm\u001b[0m\u001b[0;34m,\u001b[0m \u001b[0mn\u001b[0m\u001b[0;34m-\u001b[0m\u001b[0;36m1\u001b[0m\u001b[0;34m)\u001b[0m\u001b[0;34m\u001b[0m\u001b[0;34m\u001b[0m\u001b[0m\n\u001b[0m\u001b[1;32m      3\u001b[0m \u001b[0;34m\u001b[0m\u001b[0m\n\u001b[1;32m      4\u001b[0m \u001b[0mpower_4\u001b[0m\u001b[0;34m(\u001b[0m\u001b[0mm\u001b[0m\u001b[0;34m,\u001b[0m \u001b[0mn\u001b[0m\u001b[0;34m)\u001b[0m\u001b[0;34m\u001b[0m\u001b[0;34m\u001b[0m\u001b[0m\n",
            "... last 1 frames repeated, from the frame below ...\n",
            "\u001b[0;32m<ipython-input-29-777db43bd5c7>\u001b[0m in \u001b[0;36mpower_4\u001b[0;34m(m, n)\u001b[0m\n\u001b[1;32m      1\u001b[0m \u001b[0;32mdef\u001b[0m \u001b[0mpower_4\u001b[0m\u001b[0;34m(\u001b[0m\u001b[0mm\u001b[0m\u001b[0;34m,\u001b[0m \u001b[0mn\u001b[0m\u001b[0;34m)\u001b[0m\u001b[0;34m:\u001b[0m\u001b[0;34m\u001b[0m\u001b[0;34m\u001b[0m\u001b[0m\n\u001b[0;32m----> 2\u001b[0;31m   \u001b[0;32mreturn\u001b[0m \u001b[0mm\u001b[0m\u001b[0;34m*\u001b[0m\u001b[0mpower_4\u001b[0m\u001b[0;34m(\u001b[0m\u001b[0mm\u001b[0m\u001b[0;34m,\u001b[0m \u001b[0mn\u001b[0m\u001b[0;34m-\u001b[0m\u001b[0;36m1\u001b[0m\u001b[0;34m)\u001b[0m\u001b[0;34m\u001b[0m\u001b[0;34m\u001b[0m\u001b[0m\n\u001b[0m\u001b[1;32m      3\u001b[0m \u001b[0;34m\u001b[0m\u001b[0m\n\u001b[1;32m      4\u001b[0m \u001b[0mpower_4\u001b[0m\u001b[0;34m(\u001b[0m\u001b[0mm\u001b[0m\u001b[0;34m,\u001b[0m \u001b[0mn\u001b[0m\u001b[0;34m)\u001b[0m\u001b[0;34m\u001b[0m\u001b[0;34m\u001b[0m\u001b[0m\n",
            "\u001b[0;31mRecursionError\u001b[0m: maximum recursion depth exceeded"
          ]
        }
      ]
    },
    {
      "cell_type": "code",
      "source": [
        "def power_4(m, n):\n",
        "  if n==0:\n",
        "    return 1\n",
        "  if m==0:\n",
        "    return 0\n",
        "  return m*power_4(m, n-1)\n",
        "\n",
        "power_4(m, n)"
      ],
      "metadata": {
        "colab": {
          "base_uri": "https://localhost:8080/"
        },
        "id": "Bii9Huz3HSin",
        "outputId": "2211918f-0038-46aa-910d-ef70091f58be"
      },
      "execution_count": null,
      "outputs": [
        {
          "output_type": "execute_result",
          "data": {
            "text/plain": [
              "16"
            ]
          },
          "metadata": {},
          "execution_count": 30
        }
      ]
    },
    {
      "cell_type": "markdown",
      "source": [
        "# Object Oriented Programming"
      ],
      "metadata": {
        "id": "3bpNTCmbw2cg"
      }
    },
    {
      "cell_type": "code",
      "source": [
        "class Student:\n",
        "  def __init__(self, name):\n",
        "    self.name = name\n",
        "    print(f\"Instance of student '{name}' created !\")\n",
        "\n",
        "  def student_info(self, roll, marks):\n",
        "    self.roll = roll\n",
        "    self.marks = marks\n",
        "\n",
        "    print(f\"Roll number of {self.name} is {roll} and he/she has scored {marks} marks\")\n",
        "\n",
        "  def grade(self):\n",
        "    if self.marks > 80:\n",
        "      print(f\"Grade of {self.name} is 'A'\")\n",
        "    elif self.marks > 60:\n",
        "      print(f\"Grade of {self.name} is 'B'\")\n",
        "    elif self.marks > 40:\n",
        "      print(f\"Grade of {self.name} is 'C'\")\n",
        "    else:\n",
        "      print(f\"Grade of {self.name} is 'D'\")"
      ],
      "metadata": {
        "id": "_toZ8rF8w42e"
      },
      "execution_count": null,
      "outputs": []
    },
    {
      "cell_type": "code",
      "source": [
        "student1 = Student(\"John\")"
      ],
      "metadata": {
        "colab": {
          "base_uri": "https://localhost:8080/"
        },
        "id": "0--0nKMlw5WG",
        "outputId": "3f980a0b-9212-4d2e-f2dc-e43f13672577"
      },
      "execution_count": null,
      "outputs": [
        {
          "output_type": "stream",
          "name": "stdout",
          "text": [
            "Instance of student 'John' created !\n"
          ]
        }
      ]
    },
    {
      "cell_type": "code",
      "source": [
        "student1.student_info(10, 85)"
      ],
      "metadata": {
        "colab": {
          "base_uri": "https://localhost:8080/"
        },
        "id": "Or4NXdeNxLtf",
        "outputId": "d78987a8-11e0-4376-c7e8-df401ef7dbb0"
      },
      "execution_count": null,
      "outputs": [
        {
          "output_type": "stream",
          "name": "stdout",
          "text": [
            "Roll number of John is 10 and he/she has scored 85 marks\n"
          ]
        }
      ]
    },
    {
      "cell_type": "code",
      "source": [
        "student1.grade()"
      ],
      "metadata": {
        "colab": {
          "base_uri": "https://localhost:8080/"
        },
        "id": "yb20fMaExTUE",
        "outputId": "92949d80-3a9f-43ce-f673-f1527142c2b6"
      },
      "execution_count": null,
      "outputs": [
        {
          "output_type": "stream",
          "name": "stdout",
          "text": [
            "Grade of John is 'A'\n"
          ]
        }
      ]
    },
    {
      "cell_type": "code",
      "source": [
        "class Student_division(Student):\n",
        "  def student_info(self, roll, marks, division):\n",
        "    self.roll = roll\n",
        "    self.marks = marks\n",
        "    self.division = division\n",
        "\n",
        "    print(f\"Roll no of '{self.name}' is {roll}. He/She has scored {marks} marks and is in the {division} class-division\")"
      ],
      "metadata": {
        "id": "7IIKl0YZxdCB"
      },
      "execution_count": null,
      "outputs": []
    },
    {
      "cell_type": "code",
      "source": [
        "student2 = Student_division(\"Emily\")"
      ],
      "metadata": {
        "colab": {
          "base_uri": "https://localhost:8080/"
        },
        "id": "B1EfbzQ_xgbZ",
        "outputId": "5a4036b7-b763-4a81-9601-576e40c7de67"
      },
      "execution_count": null,
      "outputs": [
        {
          "output_type": "stream",
          "name": "stdout",
          "text": [
            "Instance of student 'Emily' created !\n"
          ]
        }
      ]
    },
    {
      "cell_type": "code",
      "source": [
        "student2.student_info(11, 65, 'c1')"
      ],
      "metadata": {
        "colab": {
          "base_uri": "https://localhost:8080/"
        },
        "id": "JHAmPQzRxlqT",
        "outputId": "99799078-e218-4b3b-c1e8-709d19da2031"
      },
      "execution_count": null,
      "outputs": [
        {
          "output_type": "stream",
          "name": "stdout",
          "text": [
            "Roll no of 'Emily' is 11. He/She has scored 65 marks and is in the c1 class-division\n"
          ]
        }
      ]
    },
    {
      "cell_type": "code",
      "source": [
        "student2.grade()"
      ],
      "metadata": {
        "colab": {
          "base_uri": "https://localhost:8080/"
        },
        "id": "10LisJHHxp5T",
        "outputId": "15b7f18c-1d95-4d44-c1c5-d3a994a62854"
      },
      "execution_count": null,
      "outputs": [
        {
          "output_type": "stream",
          "name": "stdout",
          "text": [
            "Grade of Emily is 'B'\n"
          ]
        }
      ]
    },
    {
      "cell_type": "markdown",
      "source": [],
      "metadata": {
        "id": "rBl0zvH0Y0jI"
      }
    },
    {
      "cell_type": "code",
      "source": [],
      "metadata": {
        "id": "Ocgr4xxixseD"
      },
      "execution_count": null,
      "outputs": []
    }
  ]
}