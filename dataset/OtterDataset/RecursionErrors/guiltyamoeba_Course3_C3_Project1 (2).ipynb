{
 "cells": [
  {
   "cell_type": "code",
   "execution_count": null,
   "id": "c277aa6a-2ae1-4029-a097-d5dd705a80cd",
   "metadata": {},
   "outputs": [
    {
     "name": "stdout",
     "output_type": "stream",
     "text": [
      "What has an eye but cannot see?\n"
     ]
    }
   ],
   "source": [
    "#task1\n",
    "import random\n",
    "\n",
    "riddles = {\n",
    "    \"What has an eye but cannot see?\": \"A needle\",\n",
    "    \"I have cities, but no houses; I have mountains, but no trees; I have water, but no fish; I have roads, but no cars. What am I?\": \"A map\",\n",
    "    \"What can run but never walks, has a mouth but never talks, has a bed but never sleeps?\": \"A river\",\n",
    "    \"I have keys but no locks, space but no room. You can enter, but can't go inside. What am I?\": \"A keyboard\"\n",
    "}\n",
    "\n",
    "def riddle_game():\n",
    "   \n",
    "    score = 0\n",
    "    total_questions = 0\n",
    "\n",
    "    while True:\n",
    "        riddle, answer = random.choice(list(riddles.items()))\n",
    "        print(riddle)\n",
    "\n",
    "        user_answer = input(\"Your answer: \").lower()\n",
    "\n",
    "        total_questions += 1\n",
    "        if user_answer == answer.lower():\n",
    "            print(\"Correct!\")\n",
    "            score += 1\n",
    "        else:\n",
    "            print(\"Incorrect. The answer is:\", answer)\n",
    "\n",
    "        play_again = input(\"Do you want to play again? (yes/no): \").lower()\n",
    "        if play_again != \"yes\":\n",
    "            break\n",
    "\n",
    "    percentage = (score / total_questions) * 100\n",
    "    print(f\"Your final score is: {percentage:.2f}%\")\n",
    "\n",
    "if __name__ == \"__main__\":\n",
    "    riddle_game()\n"
   ]
  },
  {
   "cell_type": "code",
   "execution_count": 15,
   "id": "a8082704-7b75-40c0-9cae-14093e64c601",
   "metadata": {},
   "outputs": [
    {
     "name": "stdout",
     "output_type": "stream",
     "text": [
      "What is 1 / 4?\n"
     ]
    },
    {
     "name": "stdin",
     "output_type": "stream",
     "text": [
      "Your answer:  2\n"
     ]
    },
    {
     "name": "stdout",
     "output_type": "stream",
     "text": [
      "Incorrect. The answer is: 0.25\n"
     ]
    },
    {
     "name": "stdin",
     "output_type": "stream",
     "text": [
      "Do you want to play again? (yes/no):  yes\n"
     ]
    },
    {
     "name": "stdout",
     "output_type": "stream",
     "text": [
      "What is 8 * 5?\n"
     ]
    },
    {
     "name": "stdin",
     "output_type": "stream",
     "text": [
      "Your answer:  5\n"
     ]
    },
    {
     "name": "stdout",
     "output_type": "stream",
     "text": [
      "Incorrect. The answer is: 40\n"
     ]
    },
    {
     "name": "stdin",
     "output_type": "stream",
     "text": [
      "Do you want to play again? (yes/no):  no\n"
     ]
    },
    {
     "name": "stdout",
     "output_type": "stream",
     "text": [
      "Your final score is: 0.00%\n"
     ]
    }
   ],
   "source": [
    "#task2\n",
    "import random\n",
    "\n",
    "def arithmetic_puzzle():\n",
    "    \n",
    "    score = 0\n",
    "    total_questions = 0\n",
    "\n",
    "    while True:\n",
    "        num1 = random.randint(1, 10)\n",
    "        num2 = random.randint(1, 10)\n",
    "        operator = random.choice(['+', '-', '*', '/'])\n",
    "\n",
    "        # Handle division by zero\n",
    "        while num2 == 0 and operator == '/':\n",
    "            num2 = random.randint(1, 10)\n",
    "\n",
    "        print(f\"What is {num1} {operator} {num2}?\")\n",
    "\n",
    "        try:\n",
    "            user_answer = float(input(\"Your answer: \"))\n",
    "\n",
    "            if operator == '+':\n",
    "                correct_answer = num1 + num2\n",
    "            elif operator == '-':\n",
    "                correct_answer = num1 - num2\n",
    "            elif operator == '*':\n",
    "                correct_answer = num1 * num2\n",
    "            else:\n",
    "                correct_answer = num1 / num2\n",
    "\n",
    "            total_questions += 1\n",
    "            if abs(user_answer - correct_answer) < 0.001:\n",
    "                print(\"Correct!\")\n",
    "                score += 1\n",
    "            else:\n",
    "                print(f\"Incorrect. The answer is: {correct_answer}\")\n",
    "\n",
    "        except ValueError:\n",
    "            print(\"Invalid input. Please enter a number.\")\n",
    "\n",
    "        play_again = input(\"Do you want to play again? (yes/no): \").lower()\n",
    "        if play_again != \"yes\":\n",
    "            break\n",
    "\n",
    "    if total_questions > 0:\n",
    "        percentage = (score / total_questions) * 100\n",
    "        print(f\"Your final score is: {percentage:.2f}%\")\n",
    "    else:\n",
    "        print(\"You didn't answer any questions.\")\n",
    "\n",
    "if __name__ == \"__main__\":\n",
    "    arithmetic_puzzle()\n",
    "\n"
   ]
  },
  {
   "cell_type": "code",
   "execution_count": 25,
   "id": "1383bcfc-a969-4b1b-9f34-aaa778cbc5f3",
   "metadata": {},
   "outputs": [
    {
     "name": "stdout",
     "output_type": "stream",
     "text": [
      "Welcome to the Quiz Game!\n",
      "Choose your category from the following list:\n",
      "1. Science-based\n",
      "2. Mathematics-based\n",
      "3. Geography-based\n",
      "4. Others\n"
     ]
    },
    {
     "name": "stdin",
     "output_type": "stream",
     "text": [
      "Enter your choice (1-4):  4\n"
     ]
    },
    {
     "name": "stdout",
     "output_type": "stream",
     "text": [
      "Which country won the most recent FIFA World Cup (as of 2022)?\n"
     ]
    },
    {
     "name": "stdin",
     "output_type": "stream",
     "text": [
      "Your answer:  5\n"
     ]
    },
    {
     "name": "stdout",
     "output_type": "stream",
     "text": [
      "Incorrect. The correct answer is: Argentina\n",
      "Who invented the light bulb?\n"
     ]
    },
    {
     "name": "stdin",
     "output_type": "stream",
     "text": [
      "Your answer:  Thomas Edison\n"
     ]
    },
    {
     "name": "stdout",
     "output_type": "stream",
     "text": [
      "Correct!\n",
      "In what year did India declare itself a Democratic and Republic state with the adoption of the Constitution?\n"
     ]
    },
    {
     "name": "stdin",
     "output_type": "stream",
     "text": [
      "Your answer:  1950\n"
     ]
    },
    {
     "name": "stdout",
     "output_type": "stream",
     "text": [
      "Correct!\n",
      "You answered 2 out of 3 questions correctly.\n",
      "Your final score is: 66.67%\n"
     ]
    },
    {
     "name": "stdin",
     "output_type": "stream",
     "text": [
      "Do you want to play again? (yes/no):  no\n"
     ]
    },
    {
     "name": "stdout",
     "output_type": "stream",
     "text": [
      "Thank you for playing!\n"
     ]
    }
   ],
   "source": [
    "#task3\n",
    "import random\n",
    "\n",
    "science_questions = [\n",
    "    {\"question\": \"Which gas do plants absorb during photosynthesis?\", \"answer\": \"Carbon dioxide\"},\n",
    "    {\"question\": \"What is the full name of the WWW?\", \"answer\": \"World Wide Web\"},\n",
    "    {\"question\": \"How many bones are there in the adult human body?\" , \"answer\": \"206\"}, \n",
    "    \n",
    "]\n",
    "\n",
    "math_questions = [\n",
    "    {\"question\": \"What is the only even prime number?\", \"answer\": \"2\"},\n",
    "    {\"question\": \"What is the sum of the first 5 natural numbers?\", \"answer\": \"15\"},\n",
    "    {\"question\": \"What is the name of mathematical symbol (π)\", \"answer\": \"Pi\"},\n",
    "    \n",
    "]\n",
    "\n",
    "geography_questions = [\n",
    "    {\"question\": \"What is the tallest mountain on Earth?\", \"answer\": \"Mount Everest\"},\n",
    "    {\"question\": \"What is the capital of France?\", \"answer\": \"Paris\"},\n",
    "    {\"question\": \"Which planet is known as the Red Planet?\", \"answer\":\"Mars\"},\n",
    "    \n",
    "]\n",
    "\n",
    "other_questions = [\n",
    "    {\"question\": \"Which country won the most recent FIFA World Cup (as of 2022)?\", \"answer\": \"Argentina\"},\n",
    "    {\"question\": \"Who invented the light bulb?\", \"answer\": \"Thomas Edison\"},\n",
    "    {\"question\": \"In what year did India declare itself a Democratic and Republic state with the adoption of the Constitution?\", \"answer\": \"1950\"},\n",
    "]\n",
    "\n",
    "def ask_category():\n",
    "    \"\"\"Presents category options for the user to choose from\"\"\"\n",
    "    print(\"Choose your category from the following list:\")\n",
    "    print(\"1. Science-based\")\n",
    "    print(\"2. Mathematics-based\")\n",
    "    print(\"3. Geography-based\")\n",
    "    print(\"4. Others\")\n",
    "    while True:\n",
    "        try:\n",
    "            choice = int(input(\"Enter your choice (1-4): \"))\n",
    "            if 1 <= choice <= 4:\n",
    "                return choice\n",
    "            else:\n",
    "                print(\"Invalid choice. Please enter a number between 1 and 4.\")\n",
    "        except ValueError:\n",
    "            print(\"Invalid input. Please enter a number.\")\n",
    "\n",
    "def ask_question(question):\n",
    "    \"\"\"Displays a given question and prompts the user for an answer\"\"\"\n",
    "    print(question)\n",
    "    return input(\"Your answer: \").lower()\n",
    "\n",
    "def check_answer(user_answer, correct_answer):\n",
    "    \"\"\"Compares the user's answer with the correct answer and provides feedback\"\"\"\n",
    "    if user_answer == correct_answer.lower():\n",
    "        print(\"Correct!\")\n",
    "        return True\n",
    "    else:\n",
    "        print(f\"Incorrect. The correct answer is: {correct_answer}\")\n",
    "        return False\n",
    "\n",
    "def display_score(questions, score):\n",
    "    \"\"\"Prints a summary of the player's performance, including correct answers, total questions, and percentage of correct responses\"\"\"\n",
    "    print(f\"You answered {score} out of {len(questions)} questions correctly.\")\n",
    "    percentage = (score / len(questions)) * 100\n",
    "    print(f\"Your final score is: {percentage:.2f}%\")\n",
    "\n",
    "def exec_questions(questions):\n",
    "    \"\"\"Iterates through a given set of questions, handles user interactions, and keeps track of the score\"\"\"\n",
    "    score = 0\n",
    "    for question in questions:\n",
    "        user_answer = ask_question(question[\"question\"])\n",
    "        if check_answer(user_answer, question[\"answer\"]):\n",
    "            score += 1\n",
    "    return score\n",
    "\n",
    "def play_game():\n",
    "    \"\"\"Manages the main game loop, including category selection, question execution, and the option to play again\"\"\"\n",
    "    score = 0\n",
    "    total_questions = 0\n",
    "    while True:\n",
    "        category_choice = ask_category()\n",
    "        question_list = [science_questions, math_questions, geography_questions, other_questions][category_choice - 1]\n",
    "        score += exec_questions(question_list)\n",
    "        total_questions += len(question_list)\n",
    "        display_score(question_list, score)\n",
    "        play_again = input(\"Do you want to play again? (yes/no): \").lower()\n",
    "        if play_again != \"yes\":\n",
    "            break\n",
    "\n",
    "if __name__ == \"__main__\":\n",
    "    print(\"Welcome to the Quiz Game!\")\n",
    "    play_game()\n",
    "    print(\"Thank you for playing!\")\n",
    "\n"
   ]
  },
  {
   "cell_type": "code",
   "execution_count": 27,
   "id": "f09ddac5-c8be-42de-b855-fe1865fdbf8e",
   "metadata": {},
   "outputs": [
    {
     "name": "stdin",
     "output_type": "stream",
     "text": [
      "Rock, Paper, or Scissors?  Rock\n"
     ]
    },
    {
     "name": "stdout",
     "output_type": "stream",
     "text": [
      "Computer chose: rock\n",
      "It's a tie!\n"
     ]
    },
    {
     "name": "stdin",
     "output_type": "stream",
     "text": [
      "Play again? (yes/no):  no\n"
     ]
    }
   ],
   "source": [
    "#task4\n",
    "import random\n",
    "\n",
    "def play_rock_paper_scissors():\n",
    "  \n",
    "\n",
    "  options = [\"rock\", \"paper\", \"scissors\"]\n",
    "\n",
    "  while True:\n",
    "    computer_choice = random.choice(options)\n",
    "    user_choice = input(\"Rock, Paper, or Scissors? \").lower()\n",
    "\n",
    "    if user_choice not in options:\n",
    "      print(\"Invalid input. Please choose Rock, Paper, or Scissors.\")\n",
    "      continue\n",
    "\n",
    "    print(f\"Computer chose: {computer_choice}\")\n",
    "\n",
    "    if user_choice == computer_choice:\n",
    "      print(\"It's a tie!\")\n",
    "    elif user_choice == \"rock\":\n",
    "      if computer_choice == \"scissors\":\n",
    "        print(\"You win! Rock smashes scissors.\")\n",
    "      else:\n",
    "        print(\"You lose! Paper covers rock.\")\n",
    "    elif user_choice == \"paper\":\n",
    "      if computer_choice == \"rock\":\n",
    "        print(\"You win! Paper covers rock.\")\n",
    "      else:\n",
    "        print(\"You lose! Scissors cuts paper.\")\n",
    "    elif user_choice == \"scissors\":\n",
    "      if computer_choice == \"paper\":\n",
    "        print(\"You win! Scissors cuts paper.\")\n",
    "      else:\n",
    "        print(\"You lose! Rock smashes scissors.\")\n",
    "\n",
    "    play_again = input(\"Play again? (yes/no): \").lower()\n",
    "    if play_again != \"yes\":\n",
    "      break\n",
    "\n",
    "if __name__ == \"__main__\":\n",
    "  play_rock_paper_scissors()\n"
   ]
  },
  {
   "cell_type": "code",
   "execution_count": 29,
   "id": "b64cae49-dbaa-467e-9009-6dc8aa764113",
   "metadata": {},
   "outputs": [
    {
     "name": "stdin",
     "output_type": "stream",
     "text": [
      "Hello user1! Enter your name:  sudheera\n",
      "Hello user2! Enter your name:  sesha\n",
      "Hello sudheera! Enter a choice (rock, paper, scissors):  rock\n",
      "Hello sesha! Enter a choice (rock, paper, scissors):  paper\n"
     ]
    },
    {
     "name": "stdout",
     "output_type": "stream",
     "text": [
      "sesha wins! Paper covers rock.\n"
     ]
    },
    {
     "name": "stdin",
     "output_type": "stream",
     "text": [
      "Play again? (yes/no):  no\n"
     ]
    }
   ],
   "source": [
    "#task5\n",
    "def rock_paper_scissors():\n",
    "  \n",
    "\n",
    "  player1_name = input(\"Hello user1! Enter your name: \")\n",
    "  player2_name = input(\"Hello user2! Enter your name: \")\n",
    "\n",
    "  options = [\"rock\", \"paper\", \"scissors\"]\n",
    "\n",
    "  while True:\n",
    "    player1_choice = input(f\"Hello {player1_name}! Enter a choice (rock, paper, scissors): \").lower()\n",
    "    player2_choice = input(f\"Hello {player2_name}! Enter a choice (rock, paper, scissors): \").lower()\n",
    "\n",
    "    if player1_choice not in options or player2_choice not in options:\n",
    "      print(\"Invalid input. Please choose Rock, Paper, or Scissors.\")\n",
    "      continue\n",
    "\n",
    "    if player1_choice == player2_choice:\n",
    "      print(\"It's a tie!\")\n",
    "    elif player1_choice == \"rock\":\n",
    "      if player2_choice == \"scissors\":\n",
    "        print(f\"{player1_name} wins! Rock smashes scissors.\")\n",
    "      else:\n",
    "        print(f\"{player2_name} wins! Paper covers rock.\")\n",
    "    elif player1_choice == \"paper\":\n",
    "      if player2_choice == \"rock\":\n",
    "        print(f\"{player1_name} wins! Paper covers rock.\")\n",
    "      else:\n",
    "        print(f\"{player2_name} wins! Scissors cuts paper.\")\n",
    "    elif player1_choice == \"scissors\":\n",
    "      if player2_choice == \"paper\":\n",
    "        print(f\"{player1_name} wins! Scissors cuts paper.\")\n",
    "      else:\n",
    "        print(f\"{player2_name} wins! Rock smashes scissors.\")\n",
    "\n",
    "    play_again = input(\"Play again? (yes/no): \").lower()\n",
    "    if play_again != \"yes\":\n",
    "      break\n",
    "\n",
    "if __name__ == \"__main__\":\n",
    "  rock_paper_scissors()\n"
   ]
  },
  {
   "cell_type": "code",
   "execution_count": null,
   "id": "67103a49-269f-483a-944b-b6f0f011d2e7",
   "metadata": {},
   "outputs": [
    {
     "name": "stdout",
     "output_type": "stream",
     "text": [
      "Welcome to the Word Guessing Game!\n",
      "Guess the secret word.\n",
      "Hint: The word has 7 letters.\n"
     ]
    }
   ],
   "source": [
    "#Project part2 Task1\n",
    "import random\n",
    "\n",
    "def word_guessing_game():\n",
    "    \"\"\"\n",
    "    A word guessing game for employees.\n",
    "    \"\"\"\n",
    "\n",
    "    words = [\"python\", \"coding\", \"employee\", \"company\", \"success\", \"challenge\", \"teamwork\"]\n",
    "    secret_word = random.choice(words)\n",
    "    word_length = len(secret_word)\n",
    "    guesses = []\n",
    "    max_attempts = 6\n",
    "\n",
    "    print(\"Welcome to the Word Guessing Game!\")\n",
    "    print(\"Guess the secret word.\")\n",
    "\n",
    "    # Optional clue: number of letters\n",
    "    print(\"Hint: The word has\", word_length, \"letters.\")\n",
    "\n",
    "    while len(guesses) < max_attempts:\n",
    "        guess = input(\"Enter your guess: \").lower()\n",
    "\n",
    "        if guess in guesses:\n",
    "            print(\"You already guessed that.\")\n",
    "            continue\n",
    "\n",
    "        guesses.append(guess)\n",
    "\n",
    "        if guess == secret_word:\n",
    "            print(\"Congratulations, you guessed the word!\")\n",
    "            break\n",
    "\n",
    "        if guess not in secret_word:\n",
    "            print(\"Incorrect guess.\")\n",
    "\n",
    "    else:\n",
    "        print(\"Sorry, you ran out of attempts. The word was:\", secret_word)\n",
    "\n",
    "if __name__ == \"__main__\":\n",
    "    word_guessing_game()\n",
    "\n"
   ]
  },
  {
   "cell_type": "code",
   "execution_count": 6,
   "id": "ac05ba87-0718-4f3d-b816-561fc62ce451",
   "metadata": {},
   "outputs": [
    {
     "name": "stdout",
     "output_type": "stream",
     "text": [
      "1. Play Riddle Puzzle.\n",
      "2. Play Arithmetic Puzzle\n",
      "3. Play General Knowledge quiz game\n",
      "4. Play Rock-Paper-Scissor game with the computer.\n",
      "5. Play Rock-Paper-Scissor game with a user.\n",
      "6. Play Word-Guessing game with the computer.\n",
      "Enter any option by typing a number between 1 and 6.\n"
     ]
    },
    {
     "name": "stdin",
     "output_type": "stream",
     "text": [
      "Enter your choice:  1\n"
     ]
    },
    {
     "ename": "RecursionError",
     "evalue": "maximum recursion depth exceeded",
     "output_type": "error",
     "traceback": [
      "\u001b[1;31m---------------------------------------------------------------------------\u001b[0m",
      "\u001b[1;31mRecursionError\u001b[0m                            Traceback (most recent call last)",
      "Cell \u001b[1;32mIn[6], line 66\u001b[0m\n\u001b[0;32m     63\u001b[0m             \u001b[38;5;28mprint\u001b[39m(\u001b[38;5;124m\"\u001b[39m\u001b[38;5;124mInvalid input. Please enter a number.\u001b[39m\u001b[38;5;124m\"\u001b[39m)\n\u001b[0;32m     65\u001b[0m \u001b[38;5;28;01mif\u001b[39;00m \u001b[38;5;18m__name__\u001b[39m \u001b[38;5;241m==\u001b[39m \u001b[38;5;124m\"\u001b[39m\u001b[38;5;124m__main__\u001b[39m\u001b[38;5;124m\"\u001b[39m:\n\u001b[1;32m---> 66\u001b[0m     main()\n",
      "Cell \u001b[1;32mIn[6], line 46\u001b[0m, in \u001b[0;36mmain\u001b[1;34m()\u001b[0m\n\u001b[0;32m     44\u001b[0m \u001b[38;5;28;01mif\u001b[39;00m \u001b[38;5;241m1\u001b[39m \u001b[38;5;241m<\u001b[39m\u001b[38;5;241m=\u001b[39m choice \u001b[38;5;241m<\u001b[39m\u001b[38;5;241m=\u001b[39m \u001b[38;5;241m6\u001b[39m:\n\u001b[0;32m     45\u001b[0m     \u001b[38;5;28;01mif\u001b[39;00m choice \u001b[38;5;241m==\u001b[39m \u001b[38;5;241m1\u001b[39m:\n\u001b[1;32m---> 46\u001b[0m         riddle_puzzle()\n\u001b[0;32m     47\u001b[0m     \u001b[38;5;28;01melif\u001b[39;00m choice \u001b[38;5;241m==\u001b[39m \u001b[38;5;241m2\u001b[39m:\n\u001b[0;32m     48\u001b[0m         arithmetic_puzzle()\n",
      "Cell \u001b[1;32mIn[1], line 16\u001b[0m, in \u001b[0;36mriddle_puzzle\u001b[1;34m()\u001b[0m\n\u001b[0;32m     15\u001b[0m \u001b[38;5;28;01mdef\u001b[39;00m \u001b[38;5;21mriddle_puzzle\u001b[39m():\n\u001b[1;32m---> 16\u001b[0m     riddle_game()\n\u001b[0;32m     17\u001b[0m     \u001b[38;5;28mprint\u001b[39m(\u001b[38;5;124m\"\u001b[39m\u001b[38;5;124mRiddle puzzle game started\u001b[39m\u001b[38;5;124m\"\u001b[39m)\n",
      "Cell \u001b[1;32mIn[6], line 16\u001b[0m, in \u001b[0;36mriddle_game\u001b[1;34m()\u001b[0m\n\u001b[0;32m     15\u001b[0m \u001b[38;5;28;01mdef\u001b[39;00m \u001b[38;5;21mriddle_game\u001b[39m():\n\u001b[1;32m---> 16\u001b[0m     riddle_game()\n\u001b[0;32m     17\u001b[0m     \u001b[38;5;28mprint\u001b[39m(\u001b[38;5;124m\"\u001b[39m\u001b[38;5;124mRiddle puzzle game started\u001b[39m\u001b[38;5;124m\"\u001b[39m)\n",
      "Cell \u001b[1;32mIn[6], line 16\u001b[0m, in \u001b[0;36mriddle_game\u001b[1;34m()\u001b[0m\n\u001b[0;32m     15\u001b[0m \u001b[38;5;28;01mdef\u001b[39;00m \u001b[38;5;21mriddle_game\u001b[39m():\n\u001b[1;32m---> 16\u001b[0m     riddle_game()\n\u001b[0;32m     17\u001b[0m     \u001b[38;5;28mprint\u001b[39m(\u001b[38;5;124m\"\u001b[39m\u001b[38;5;124mRiddle puzzle game started\u001b[39m\u001b[38;5;124m\"\u001b[39m)\n",
      "    \u001b[1;31m[... skipping similar frames: riddle_game at line 16 (2972 times)]\u001b[0m\n",
      "Cell \u001b[1;32mIn[6], line 16\u001b[0m, in \u001b[0;36mriddle_game\u001b[1;34m()\u001b[0m\n\u001b[0;32m     15\u001b[0m \u001b[38;5;28;01mdef\u001b[39;00m \u001b[38;5;21mriddle_game\u001b[39m():\n\u001b[1;32m---> 16\u001b[0m     riddle_game()\n\u001b[0;32m     17\u001b[0m     \u001b[38;5;28mprint\u001b[39m(\u001b[38;5;124m\"\u001b[39m\u001b[38;5;124mRiddle puzzle game started\u001b[39m\u001b[38;5;124m\"\u001b[39m)\n",
      "\u001b[1;31mRecursionError\u001b[0m: maximum recursion depth exceeded"
     ]
    }
   ],
   "source": [
    "#task2\n",
    "import random\n",
    "\n",
    "class GameMenu:\n",
    "    @staticmethod\n",
    "    def menu():\n",
    "        print(\"1. Play Riddle Puzzle.\")\n",
    "        print(\"2. Play Arithmetic Puzzle\")\n",
    "        print(\"3. Play General Knowledge quiz game\")\n",
    "        print(\"4. Play Rock-Paper-Scissor game with the computer.\")\n",
    "        print(\"5. Play Rock-Paper-Scissor game with a user.\")\n",
    "        print(\"6. Play Word-Guessing game with the computer.\")\n",
    "        print(\"Enter any option by typing a number between 1 and 6.\")\n",
    "\n",
    "def riddle_game():\n",
    "    riddle_game()\n",
    "    print(\"Riddle puzzle game started\")\n",
    "\n",
    "def arithmetic_puzzle():\n",
    "    arithmetic_puzzle()\n",
    "    print(\"Arithmetic puzzle game started\")\n",
    "\n",
    "def general_knowledge_quiz():\n",
    "    play_game()\n",
    "    print(\"General knowledge quiz game started\")\n",
    "\n",
    "def rock_paper_scissors_computer():\n",
    "    play_rock_paper_scissors()\n",
    "    print(\"Rock-paper-scissors with computer game started\")\n",
    "\n",
    "def rock_paper_scissors_user():\n",
    "    rock_paper_scissors()\n",
    "    print(\"Rock-paper-scissors with user game started\")\n",
    "\n",
    "def word_guessing_game():\n",
    "     word_guessing_game()\n",
    "     print(\"Word guessing game started\")\n",
    "\n",
    "def main():\n",
    "    while True:\n",
    "        GameMenu.menu()\n",
    "        try:\n",
    "            choice = int(input(\"Enter your choice: \"))\n",
    "            if 1 <= choice <= 6:\n",
    "                if choice == 1:\n",
    "                    riddle_puzzle()\n",
    "                elif choice == 2:\n",
    "                    arithmetic_puzzle()\n",
    "                elif choice == 3:\n",
    "                    general_knowledge_quiz()\n",
    "                elif choice == 4:\n",
    "                    rock_paper_scissors_computer()\n",
    "                elif choice == 5:\n",
    "                    rock_paper_scissors_user()\n",
    "                else:\n",
    "                    word_guessing_game()\n",
    "            else:\n",
    "                print(\"You have entered the wrong option\")\n",
    "            play_again = input(\"Do you want to play again? (Y/N): \").upper()\n",
    "            if play_again != \"Y\":\n",
    "                break\n",
    "        except ValueError:\n",
    "            print(\"Invalid input. Please enter a number.\")\n",
    "\n",
    "if __name__ == \"__main__\":\n",
    "    main()\n"
   ]
  },
  {
   "cell_type": "code",
   "execution_count": 4,
   "id": "2f2df87d-35cb-43da-a752-92aef82a69d2",
   "metadata": {},
   "outputs": [
    {
     "ename": "NameError",
     "evalue": "name 'ArithmeticPuzzleGame' is not defined",
     "output_type": "error",
     "traceback": [
      "\u001b[1;31m---------------------------------------------------------------------------\u001b[0m",
      "\u001b[1;31mNameError\u001b[0m                                 Traceback (most recent call last)",
      "Cell \u001b[1;32mIn[4], line 29\u001b[0m\n\u001b[0;32m     26\u001b[0m             \u001b[38;5;28mprint\u001b[39m(\u001b[38;5;124m\"\u001b[39m\u001b[38;5;124mYou have entered wrong option. Please select a number between 1 and 5.\u001b[39m\u001b[38;5;124m\"\u001b[39m)\n\u001b[0;32m     28\u001b[0m \u001b[38;5;28;01mif\u001b[39;00m \u001b[38;5;18m__name__\u001b[39m \u001b[38;5;241m==\u001b[39m \u001b[38;5;124m\"\u001b[39m\u001b[38;5;124m__main__\u001b[39m\u001b[38;5;124m\"\u001b[39m:\n\u001b[1;32m---> 29\u001b[0m     main()\n",
      "Cell \u001b[1;32mIn[4], line 3\u001b[0m, in \u001b[0;36mmain\u001b[1;34m()\u001b[0m\n\u001b[0;32m      1\u001b[0m \u001b[38;5;28;01mdef\u001b[39;00m \u001b[38;5;21mmain\u001b[39m():\n\u001b[0;32m      2\u001b[0m     games \u001b[38;5;241m=\u001b[39m {\n\u001b[1;32m----> 3\u001b[0m         \u001b[38;5;124m\"\u001b[39m\u001b[38;5;124m1\u001b[39m\u001b[38;5;124m\"\u001b[39m: ArithmeticPuzzleGame(),\n\u001b[0;32m      4\u001b[0m         \u001b[38;5;124m\"\u001b[39m\u001b[38;5;124m2\u001b[39m\u001b[38;5;124m\"\u001b[39m: RiddlePuzzleGame(),\n\u001b[0;32m      5\u001b[0m         \u001b[38;5;124m\"\u001b[39m\u001b[38;5;124m3\u001b[39m\u001b[38;5;124m\"\u001b[39m: GeneralKnowledgeQuizGame(),\n\u001b[0;32m      6\u001b[0m         \u001b[38;5;124m\"\u001b[39m\u001b[38;5;124m4\u001b[39m\u001b[38;5;124m\"\u001b[39m: RockPaperScissorsGame(),\n\u001b[0;32m      7\u001b[0m         \u001b[38;5;124m\"\u001b[39m\u001b[38;5;124m5\u001b[39m\u001b[38;5;124m\"\u001b[39m: WordGuessingGame()\n\u001b[0;32m      8\u001b[0m     }\n\u001b[0;32m      9\u001b[0m     \u001b[38;5;28;01mwhile\u001b[39;00m \u001b[38;5;28;01mTrue\u001b[39;00m:\n\u001b[0;32m     10\u001b[0m         \u001b[38;5;28mprint\u001b[39m(\u001b[38;5;124m\"\u001b[39m\u001b[38;5;130;01m\\n\u001b[39;00m\u001b[38;5;124mSelect what you want to play from Menu:\u001b[39m\u001b[38;5;130;01m\\n\u001b[39;00m\u001b[38;5;124m\"\u001b[39m)\n",
      "\u001b[1;31mNameError\u001b[0m: name 'ArithmeticPuzzleGame' is not defined"
     ]
    }
   ],
   "source": [
    "def main():\n",
    "    games = {\n",
    "        \"1\": arithmetic_puzzle(),\n",
    "        \"2\": RiddlePuzzleGame(),\n",
    "        \"3\": GeneralKnowledgeQuizGame(),\n",
    "        \"4\": RockPaperScissorsGame(),\n",
    "        \"5\": WordGuessingGame()\n",
    "    }\n",
    "    while True:\n",
    "        print(\"\\nSelect what you want to play from Menu:\\n\")\n",
    "        print(\"1. Arithmetic Puzzle Game\")\n",
    "        print(\"2. Riddle Puzzle Game\")\n",
    "        print(\"3. General Knowledge Quiz Game\")\n",
    "        print(\"4. Rock Paper Scissors Game\")\n",
    "        print(\"5. Word Guessing Game\")\n",
    "        print(\"6. Exit \\n\")\n",
    "        choice = input(\"Choose an option (1-6): \").strip()\n",
    "        if choice == \"6\":\n",
    "            play_again = input(\"Do you want to play again? (yes/no): \").strip().lower()\n",
    "            if play_again != \"yes\":\n",
    "                print(\"Thank you for playing. See you next time. Exiting the program.\")\n",
    "                break\n",
    "        elif choice in games:\n",
    "            games[choice].play_game()\n",
    "        else:\n",
    "            print(\"You have entered wrong option. Please select a number between 1 and 5.\")\n",
    "\n",
    "if __name__ == \"__main__\":\n",
    "    main()"
   ]
  },
  {
   "cell_type": "code",
   "execution_count": null,
   "id": "dfae05a7-0003-49cf-957c-e6b4b90e97e5",
   "metadata": {},
   "outputs": [],
   "source": []
  }
 ],
 "metadata": {
  "kernelspec": {
   "display_name": "Python 3 (ipykernel)",
   "language": "python",
   "name": "python3"
  },
  "language_info": {
   "codemirror_mode": {
    "name": "ipython",
    "version": 3
   },
   "file_extension": ".py",
   "mimetype": "text/x-python",
   "name": "python",
   "nbconvert_exporter": "python",
   "pygments_lexer": "ipython3",
   "version": "3.12.4"
  }
 },
 "nbformat": 4,
 "nbformat_minor": 5
}
