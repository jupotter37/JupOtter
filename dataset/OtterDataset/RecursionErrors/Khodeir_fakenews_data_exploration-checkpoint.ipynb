{
 "cells": [
  {
   "cell_type": "code",
   "execution_count": 1,
   "metadata": {},
   "outputs": [],
   "source": [
    "%matplotlib inline\n",
    "import pandas as pd"
   ]
  },
  {
   "cell_type": "code",
   "execution_count": 2,
   "metadata": {},
   "outputs": [],
   "source": [
    "df = pd.read_json('./data/train/train.json')"
   ]
  },
  {
   "cell_type": "code",
   "execution_count": 3,
   "metadata": {},
   "outputs": [
    {
     "data": {
      "text/plain": [
       "claim               15555\n",
       "claimant            15555\n",
       "date                15555\n",
       "id                  15555\n",
       "label               15555\n",
       "related_articles    15555\n",
       "dtype: int64"
      ]
     },
     "execution_count": 3,
     "metadata": {},
     "output_type": "execute_result"
    }
   ],
   "source": [
    "df.count()"
   ]
  },
  {
   "cell_type": "code",
   "execution_count": 11,
   "metadata": {},
   "outputs": [],
   "source": [
    "class Claim:\n",
    "    related_articles_text = None\n",
    "    @classmethod\n",
    "    def from_json_object(cls, json_object):\n",
    "        claim = cls()\n",
    "        for key in json_object:\n",
    "            setattr(claim, key, json_object[key])\n",
    "        return claim\n",
    "    @property\n",
    "    def related_articles_text(self):\n",
    "        if self._related_articles_text:\n",
    "            return self._related_articles_text\n",
    "        \n",
    "        self._related_articles_text = []\n",
    "        for i in self.related_articles:\n",
    "            with open('data/train/train_articles/{}.txt'.format(i), 'rb') as related_article:\n",
    "                self._related_articles_text.append(related_article.read().decode('utf8'))\n"
   ]
  },
  {
   "cell_type": "code",
   "execution_count": 8,
   "metadata": {},
   "outputs": [],
   "source": [
    "import json\n",
    "with open('data/train/train.json', 'r') as train_json:\n",
    "    train = json.load(train_json)"
   ]
  },
  {
   "cell_type": "code",
   "execution_count": 12,
   "metadata": {},
   "outputs": [],
   "source": [
    "x = Claim.from_json_object(train[0])"
   ]
  },
  {
   "cell_type": "code",
   "execution_count": 13,
   "metadata": {},
   "outputs": [
    {
     "data": {
      "text/plain": [
       "\"A line from George Orwell's novel 1984 predicts the power of smartphones.\""
      ]
     },
     "execution_count": 13,
     "metadata": {},
     "output_type": "execute_result"
    }
   ],
   "source": [
    "x.claim"
   ]
  },
  {
   "cell_type": "code",
   "execution_count": 14,
   "metadata": {},
   "outputs": [
    {
     "ename": "RecursionError",
     "evalue": "maximum recursion depth exceeded",
     "output_type": "error",
     "traceback": [
      "\u001b[0;31m---------------------------------------------------------------------------\u001b[0m",
      "\u001b[0;31mRecursionError\u001b[0m                            Traceback (most recent call last)",
      "\u001b[0;32m<ipython-input-14-209aa3e35e8f>\u001b[0m in \u001b[0;36m<module>\u001b[0;34m\u001b[0m\n\u001b[0;32m----> 1\u001b[0;31m \u001b[0mx\u001b[0m\u001b[0;34m.\u001b[0m\u001b[0mrelated_articles_text\u001b[0m\u001b[0;34m[\u001b[0m\u001b[0;36m0\u001b[0m\u001b[0;34m]\u001b[0m\u001b[0;34m\u001b[0m\u001b[0m\n\u001b[0m",
      "\u001b[0;32m<ipython-input-11-e49b5cab656a>\u001b[0m in \u001b[0;36mrelated_articles_text\u001b[0;34m(self)\u001b[0m\n\u001b[1;32m      9\u001b[0m     \u001b[0;34m@\u001b[0m\u001b[0mproperty\u001b[0m\u001b[0;34m\u001b[0m\u001b[0m\n\u001b[1;32m     10\u001b[0m     \u001b[0;32mdef\u001b[0m \u001b[0mrelated_articles_text\u001b[0m\u001b[0;34m(\u001b[0m\u001b[0mself\u001b[0m\u001b[0;34m)\u001b[0m\u001b[0;34m:\u001b[0m\u001b[0;34m\u001b[0m\u001b[0m\n\u001b[0;32m---> 11\u001b[0;31m         \u001b[0;32mif\u001b[0m \u001b[0mself\u001b[0m\u001b[0;34m.\u001b[0m\u001b[0mrelated_articles_text\u001b[0m\u001b[0;34m:\u001b[0m\u001b[0;34m\u001b[0m\u001b[0m\n\u001b[0m\u001b[1;32m     12\u001b[0m             \u001b[0;32mreturn\u001b[0m \u001b[0mself\u001b[0m\u001b[0;34m.\u001b[0m\u001b[0mrelated_articles_text\u001b[0m\u001b[0;34m\u001b[0m\u001b[0m\n\u001b[1;32m     13\u001b[0m \u001b[0;34m\u001b[0m\u001b[0m\n",
      "... last 1 frames repeated, from the frame below ...\n",
      "\u001b[0;32m<ipython-input-11-e49b5cab656a>\u001b[0m in \u001b[0;36mrelated_articles_text\u001b[0;34m(self)\u001b[0m\n\u001b[1;32m      9\u001b[0m     \u001b[0;34m@\u001b[0m\u001b[0mproperty\u001b[0m\u001b[0;34m\u001b[0m\u001b[0m\n\u001b[1;32m     10\u001b[0m     \u001b[0;32mdef\u001b[0m \u001b[0mrelated_articles_text\u001b[0m\u001b[0;34m(\u001b[0m\u001b[0mself\u001b[0m\u001b[0;34m)\u001b[0m\u001b[0;34m:\u001b[0m\u001b[0;34m\u001b[0m\u001b[0m\n\u001b[0;32m---> 11\u001b[0;31m         \u001b[0;32mif\u001b[0m \u001b[0mself\u001b[0m\u001b[0;34m.\u001b[0m\u001b[0mrelated_articles_text\u001b[0m\u001b[0;34m:\u001b[0m\u001b[0;34m\u001b[0m\u001b[0m\n\u001b[0m\u001b[1;32m     12\u001b[0m             \u001b[0;32mreturn\u001b[0m \u001b[0mself\u001b[0m\u001b[0;34m.\u001b[0m\u001b[0mrelated_articles_text\u001b[0m\u001b[0;34m\u001b[0m\u001b[0m\n\u001b[1;32m     13\u001b[0m \u001b[0;34m\u001b[0m\u001b[0m\n",
      "\u001b[0;31mRecursionError\u001b[0m: maximum recursion depth exceeded"
     ]
    }
   ],
   "source": [
    "x.related_articles_text[0]"
   ]
  },
  {
   "cell_type": "code",
   "execution_count": 5,
   "metadata": {},
   "outputs": [
    {
     "data": {
      "text/plain": [
       "0    7408\n",
       "1    6451\n",
       "2    1696\n",
       "Name: label, dtype: int64"
      ]
     },
     "execution_count": 5,
     "metadata": {},
     "output_type": "execute_result"
    }
   ],
   "source": [
    "df['label'].value_counts()"
   ]
  },
  {
   "cell_type": "code",
   "execution_count": 15,
   "metadata": {},
   "outputs": [
    {
     "data": {
      "text/plain": [
       "<matplotlib.axes._subplots.AxesSubplot at 0x1268d0518>"
      ]
     },
     "execution_count": 15,
     "metadata": {},
     "output_type": "execute_result"
    },
    {
     "data": {
      "image/png": "[encoded data removed]",
      "text/plain": [
       "<Figure size 1080x720 with 1 Axes>"
      ]
     },
     "metadata": {
      "needs_background": "light"
     },
     "output_type": "display_data"
    }
   ],
   "source": [
    "df['date'].hist(figsize=(15, 10), bins=100)"
   ]
  },
  {
   "cell_type": "code",
   "execution_count": 137,
   "metadata": {},
   "outputs": [
    {
     "data": {
      "text/plain": [
       "claim               Koch Industries paid the legal fees of George ...\n",
       "claimant                                                             \n",
       "date                                              2013-07-18 00:00:00\n",
       "id                                                                  9\n",
       "label                                                               0\n",
       "related_articles                     [120591, 120592, 127866, 129483]\n",
       "Name: 7, dtype: object"
      ]
     },
     "execution_count": 137,
     "metadata": {},
     "output_type": "execute_result"
    }
   ],
   "source": [
    "df.iloc[7]"
   ]
  },
  {
   "cell_type": "code",
   "execution_count": 138,
   "metadata": {},
   "outputs": [],
   "source": [
    "did = 129483\n",
    "with open('/Users/bw/Downloads/train/train_articles/{}.txt'.format(did)) as f:\n",
    "    doc =  f.read()"
   ]
  },
  {
   "cell_type": "code",
   "execution_count": 139,
   "metadata": {},
   "outputs": [
    {
     "name": "stdout",
     "output_type": "stream",
     "text": [
      "George Zimmerman website, TheRealGeorgeZimmerman, launched to fund legal fees in Trayvon Martin case\n",
      "The neighborhood watch volunteer who shot Florida Teen Trayvon Martin is asking for donations.\n",
      "\n",
      "George Zimmerman, who said he shot Martin in self-defense on Feb. 26, has launched a website called \"The Real George Zimmerman,\" warning supporters about groups falsely claiming to raise money for him. Zimmerman's site also solicits donations for his lawyers and living expenses.\n",
      "\n",
      "Benjamin Crump, the attorney for Trayvon Martin's family, says it's not fair.\n",
      "\n",
      "\n",
      "\n",
      "\"If the situation would have been reversed, Trayvon Martin would have been arrested day one, hour one,\" Crump said. \"This situation with the website now and everything is a luxury that Trayvon Martin doesn't have and we believe he never would have had.\"\n",
      "\n",
      "Meanwhile, the special prosecutor overseeing the investigation said she will not send a case against Zimmerman to a grand jury.\n",
      "\n",
      "Crump said that's fine.\n",
      "\n",
      "\"We look at her not impaneling a grand jury as a positive thing, because that means she either feels she's gonna have enough evidence gathered from her investigation to affect to waive probable cause to arrest the killer of this unarmed teen,\" Crump said.\n",
      "\n",
      "Zimmerman's lawyers and a friend confirmed the authenticity of his website.\n",
      "\n",
      "In it, Zimmerman also says he cannot discuss the details of the shooting, adding the facts will come to light.\n",
      "\n",
      "The friend says the solicitation for funds does not mean that Zimmerman expects to be charged.\n",
      "\n",
      "As for members of the Martin family, they also has a website raising funds to support their legal efforts.\n"
     ]
    }
   ],
   "source": [
    "print(doc)"
   ]
  },
  {
   "cell_type": "code",
   "execution_count": null,
   "metadata": {},
   "outputs": [],
   "source": []
  },
  {
   "cell_type": "code",
   "execution_count": 20,
   "metadata": {},
   "outputs": [],
   "source": [
    "dev = df.sample(1555)"
   ]
  },
  {
   "cell_type": "code",
   "execution_count": 21,
   "metadata": {},
   "outputs": [],
   "source": [
    "dev.to_json('~/dev/fakenews/data/train/dev_split.json')"
   ]
  },
  {
   "cell_type": "code",
   "execution_count": 22,
   "metadata": {},
   "outputs": [],
   "source": [
    "dev = pd.read_json('~/dev/fakenews/data/train/dev_split.json')"
   ]
  },
  {
   "cell_type": "code",
   "execution_count": 23,
   "metadata": {},
   "outputs": [
    {
     "data": {
      "text/plain": [
       "claim                       object\n",
       "claimant                    object\n",
       "date                datetime64[ns]\n",
       "id                           int64\n",
       "label                        int64\n",
       "related_articles            object\n",
       "dtype: object"
      ]
     },
     "execution_count": 23,
     "metadata": {},
     "output_type": "execute_result"
    }
   ],
   "source": [
    "df.dtypes"
   ]
  },
  {
   "cell_type": "code",
   "execution_count": 24,
   "metadata": {},
   "outputs": [
    {
     "data": {
      "text/plain": [
       "claim                       object\n",
       "claimant                    object\n",
       "date                datetime64[ns]\n",
       "id                           int64\n",
       "label                        int64\n",
       "related_articles            object\n",
       "dtype: object"
      ]
     },
     "execution_count": 24,
     "metadata": {},
     "output_type": "execute_result"
    }
   ],
   "source": [
    "dev.dtypes"
   ]
  },
  {
   "cell_type": "code",
   "execution_count": 27,
   "metadata": {},
   "outputs": [
    {
     "name": "stdout",
     "output_type": "stream",
     "text": [
      "Maine legislature candidate Leslie Gibson insulted Parkland shooting survivor and activist Emma Gonzalez via Twitter.\n",
      "\n",
      "1 2\n",
      "Keith Richards once pulled a knife on Donald Trump.\n",
      "\n",
      "\t\t\t\t\n",
      "\t\t\t\t\t\n",
      "\n",
      "\t\t\t\t\t\tSee Example(s)\n",
      "\n",
      "\t\t\t\t\t\t\n",
      "\t\t\t\t\t\t\t\n",
      "\t\t\t\t\t\t\t\t\n",
      "\t\t\t\t\t\t\t\t\tDid Keith Richards have a knife and threaten to chase Donald Trump out of a Stones concert?\t\t\t\t\t\t\t\t\t\t\t\t\t\t\t\t\t\t\tCollected via e-mail, March 2016\n",
      "\n",
      "11042 1\n",
      "Images show the aftermath of a plane crash in Havana, Cuba, in May 2018.\n",
      "\n",
      "11061 0\n",
      "Says former North Carolina elections board chairman \"tried to drag a cancer-stricken woman out of her hospital bed to testify at her son’s hearing on the first day of early voting over a bogus complaint that the board hadn’t even fully investigated.\"\n",
      "Phil Berger\n",
      "11062 1\n",
      "John McCain solicited campaign contributions from Russia.\n",
      "\n",
      "11065 1\n"
     ]
    }
   ],
   "source": [
    "for idx, row in dev.head(5).iterrows():\n",
    "    claim = row[0]\n",
    "    claimant = row[1]\n",
    "    claim_id = row[3]\n",
    "    label = row[4]\n",
    "    print(claim)\n",
    "    print(claimant)\n",
    "    print(claim_id, label)"
   ]
  },
  {
   "cell_type": "code",
   "execution_count": 35,
   "metadata": {},
   "outputs": [
    {
     "data": {
      "text/plain": [
       "0    721\n",
       "1    663\n",
       "2    171\n",
       "Name: label, dtype: int64"
      ]
     },
     "execution_count": 35,
     "metadata": {},
     "output_type": "execute_result"
    }
   ],
   "source": [
    "dev['label'].value_counts()"
   ]
  },
  {
   "cell_type": "code",
   "execution_count": 36,
   "metadata": {},
   "outputs": [
    {
     "name": "stderr",
     "output_type": "stream",
     "text": [
      "/Users/bw/miniconda3/envs/fn/lib/python3.7/site-packages/pandas/plotting/_converter.py:129: FutureWarning: Using an implicitly registered datetime converter for a matplotlib plotting method. The converter was registered by pandas on import. Future versions of pandas will require you to explicitly register matplotlib converters.\n",
      "\n",
      "To register the converters:\n",
      "\t>>> from pandas.plotting import register_matplotlib_converters\n",
      "\t>>> register_matplotlib_converters()\n",
      "  warnings.warn(msg, FutureWarning)\n"
     ]
    },
    {
     "data": {
      "text/plain": [
       "<matplotlib.axes._subplots.AxesSubplot at 0x121464f60>"
      ]
     },
     "execution_count": 36,
     "metadata": {},
     "output_type": "execute_result"
    },
    {
     "data": {
      "image/png": "[encoded data removed]",
      "text/plain": [
       "<Figure size 1080x720 with 1 Axes>"
      ]
     },
     "metadata": {
      "needs_background": "light"
     },
     "output_type": "display_data"
    }
   ],
   "source": [
    "dev['date'].hist(figsize=(15, 10), bins=100)"
   ]
  },
  {
   "cell_type": "code",
   "execution_count": 37,
   "metadata": {},
   "outputs": [
    {
     "data": {
      "text/html": [
       "<div>\n",
       "<style scoped>\n",
       "    .dataframe tbody tr th:only-of-type {\n",
       "        vertical-align: middle;\n",
       "    }\n",
       "\n",
       "    .dataframe tbody tr th {\n",
       "        vertical-align: top;\n",
       "    }\n",
       "\n",
       "    .dataframe thead th {\n",
       "        text-align: right;\n",
       "    }\n",
       "</style>\n",
       "<table border=\"1\" class=\"dataframe\">\n",
       "  <thead>\n",
       "    <tr style=\"text-align: right;\">\n",
       "      <th></th>\n",
       "      <th>claim</th>\n",
       "      <th>claimant</th>\n",
       "      <th>date</th>\n",
       "      <th>id</th>\n",
       "      <th>label</th>\n",
       "      <th>related_articles</th>\n",
       "    </tr>\n",
       "  </thead>\n",
       "  <tbody>\n",
       "    <tr>\n",
       "      <th>758</th>\n",
       "      <td>A girl’s \"life expectancy is seven years after...</td>\n",
       "      <td>Mary Elizabeth Coleman</td>\n",
       "      <td>2019-01-23</td>\n",
       "      <td>828</td>\n",
       "      <td>0</td>\n",
       "      <td>[12311, 50423, 8629]</td>\n",
       "    </tr>\n",
       "  </tbody>\n",
       "</table>\n",
       "</div>"
      ],
      "text/plain": [
       "                                                 claim  \\\n",
       "758  A girl’s \"life expectancy is seven years after...   \n",
       "\n",
       "                   claimant       date   id  label      related_articles  \n",
       "758  Mary Elizabeth Coleman 2019-01-23  828      0  [12311, 50423, 8629]  "
      ]
     },
     "execution_count": 37,
     "metadata": {},
     "output_type": "execute_result"
    }
   ],
   "source": [
    "dev.sample()"
   ]
  },
  {
   "cell_type": "code",
   "execution_count": 38,
   "metadata": {},
   "outputs": [],
   "source": [
    "train = df[~df['id'].isin(dev['id'])]"
   ]
  },
  {
   "cell_type": "code",
   "execution_count": 40,
   "metadata": {},
   "outputs": [
    {
     "data": {
      "text/plain": [
       "(14000, 1555)"
      ]
     },
     "execution_count": 40,
     "metadata": {},
     "output_type": "execute_result"
    }
   ],
   "source": [
    "train['id'].count(), dev['id'].count()"
   ]
  },
  {
   "cell_type": "code",
   "execution_count": 41,
   "metadata": {},
   "outputs": [],
   "source": [
    "train.to_json('~/dev/fakenews/data/train/train_split.json')"
   ]
  },
  {
   "cell_type": "code",
   "execution_count": 42,
   "metadata": {},
   "outputs": [],
   "source": [
    "import os"
   ]
  },
  {
   "cell_type": "code",
   "execution_count": 45,
   "metadata": {},
   "outputs": [],
   "source": [
    "claim_id = 3837\n",
    "path = os.path.join('/Users/bw/dev/fakenews/data/train', f'condensed_train_articles_global/{claim_id}_top5_txt.txt')\n",
    "with open(path) as f:\n",
    "    txt = f.read()"
   ]
  },
  {
   "cell_type": "code",
   "execution_count": 47,
   "metadata": {},
   "outputs": [
    {
     "name": "stdout",
     "output_type": "stream",
     "text": [
      "Obama's Selma speech. Text as delivered.\n",
      "You know, several weeks ago, after I had announced that I was running for the Presidency of the United States, I stood in front of the Old State Capitol in Springfield, Illinois; where Abraham Lincoln delivered his speech declaring, drawing in scripture, that a house divided against itself could not stand.\n",
      "It's because they marched that we elected councilmen, congressmen. It is because they marched that we have Artur Davis and Keith Ellison. It is because they marched that I got the kind of education I got, a law degree, a seat in the Illinois senate and ultimately in the United States senate.\n",
      "Edmund Winston Pettus Bridge became a symbol of the momentous changes taking place in Alabama, America, and the world. It was here that voting rights marchers were violently confronted by law enforcement personnel on March 7, 1965. The day became known as Bloody Sunday.\n",
      "In 1996 the Selma-to-Montgomery National Historic Trail was created by Congress under the National Trails System Act of 1968. Like other \"historic\" trails covered in the legislation, the Alabama trail is an original route of national significance in American history. An inter-agency panel of experts recommended, and the Secretary of Transportation designated the trail an \"All-American Road\"--a road that has national significance, cannot be replicated, and is a destination unto itself. This designation is the highest tribute a road can receive under the Federal Highway Administration's National Scenic Byways Program, created by the Intermodal Surface Transportation Efficiency Act of 1991.\n"
     ]
    }
   ],
   "source": [
    "print(txt)"
   ]
  },
  {
   "cell_type": "code",
   "execution_count": null,
   "metadata": {},
   "outputs": [],
   "source": []
  }
 ],
 "metadata": {
  "kernelspec": {
   "display_name": "Python 3",
   "language": "python",
   "name": "python3"
  },
  "language_info": {
   "codemirror_mode": {
    "name": "ipython",
    "version": 3
   },
   "file_extension": ".py",
   "mimetype": "text/x-python",
   "name": "python",
   "nbconvert_exporter": "python",
   "pygments_lexer": "ipython3",
   "version": "3.5.6"
  }
 },
 "nbformat": 4,
 "nbformat_minor": 2
}
