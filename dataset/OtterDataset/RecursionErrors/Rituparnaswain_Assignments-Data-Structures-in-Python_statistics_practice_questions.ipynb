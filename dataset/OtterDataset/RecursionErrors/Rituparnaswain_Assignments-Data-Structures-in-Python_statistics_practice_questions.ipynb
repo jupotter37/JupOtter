{
  "nbformat": 4,
  "nbformat_minor": 0,
  "metadata": {
    "colab": {
      "provenance": [],
      "authorship_tag": "ABX9TyMYKDT6TVtSeSwpo3+H68RO",
      "include_colab_link": true
    },
    "kernelspec": {
      "name": "python3",
      "display_name": "Python 3"
    },
    "language_info": {
      "name": "python"
    }
  },
  "cells": [
    {
      "cell_type": "markdown",
      "metadata": {
        "id": "view-in-github",
        "colab_type": "text"
      },
      "source": [
        "<a href=\"https://colab.research.google.com/github/Rituparnaswain/Assignments-Data-Structures-in-Python/blob/main/statistics_practice_questions.ipynb\" target=\"_parent\"><img src=\"https://colab.research.google.com/assets/colab-badge.svg\" alt=\"Open In Colab\"/></a>"
      ]
    },
    {
      "cell_type": "code",
      "execution_count": null,
      "metadata": {
        "id": "oUgwmmvMnT8e",
        "colab": {
          "base_uri": "https://localhost:8080/"
        },
        "outputId": "73394072-11d0-4f94-cdc9-75067ac53dbd"
      },
      "outputs": [
        {
          "output_type": "stream",
          "name": "stdout",
          "text": [
            "Generated list: [113, 126, 93, 122, 113, 93, 121, 115, 93, 109, 112, 119, 129, 109, 116, 127, 110, 116, 98, 116, 119, 93, 128, 101, 99, 107, 94, 123, 92, 113, 126, 113, 124, 115, 130, 124, 119, 118, 100, 91, 120, 128, 110, 103, 126, 111, 106, 107, 121, 119, 98, 103, 102, 118, 115, 127, 106, 129, 123, 130, 125, 110, 93, 121, 128, 115, 110, 118, 108, 109, 125, 93, 113, 125, 112, 118, 97, 99, 90, 95, 115, 93, 93, 128, 105, 130, 119, 105, 98, 100, 120, 98, 119, 94, 91, 130, 112, 125, 101, 117]\n"
          ]
        }
      ],
      "source": [
        "# Generate a list of 100 integers containing values between 90 to 130 and store\n",
        "# it in the variable `int_list`.\n",
        "# After generating the list, find the following:\n",
        "#(i) Write a Python function to calculate the mean of a given list of numbers.\n",
        "#Create a function to find the median of a list of numbers.\n",
        "#(ii) Develop a program to compute the mode of a list of integers.\n",
        "#(iii) Implement a function to calculate the weighted mean of a list of values and their corresponding weights.\n",
        "#(iv) Write a Python function to find the geometric mean of a list of positive numbers.\n",
        "#(v) Create a program to calculate the harmonic mean of a list of values.\n",
        "#(vi) Build a function to determine the midrange of a list of numbers (average of the minimum and maximum).\n",
        "#(vii) Implement a Python program to find the trimmed mean of a list, excluding a certain percentage of\n",
        "#outliers\n",
        "\n",
        "\n",
        "import random\n",
        "\n",
        "# Generate a list of 100 random integers between 90 and 130 (inclusive)\n",
        "int_list = [random.randint(90, 130) for _ in range(100)]\n",
        "print(\"Generated list:\", int_list)\n"
      ]
    },
    {
      "cell_type": "code",
      "source": [
        "def calculate_mean(numbers):\n",
        "    return sum(numbers) / len(numbers)\n",
        "\n",
        "mean_result = calculate_mean(int_list)\n",
        "print(f\"Mean: {mean_result:.2f}\")\n",
        "\n",
        "\n"
      ],
      "metadata": {
        "colab": {
          "base_uri": "https://localhost:8080/"
        },
        "id": "A_eT1oxnoZqR",
        "outputId": "a83f7264-b671-4ed4-e0c1-12fb9a91ba78"
      },
      "execution_count": null,
      "outputs": [
        {
          "output_type": "stream",
          "name": "stdout",
          "text": [
            "Mean: 111.78\n"
          ]
        }
      ]
    },
    {
      "cell_type": "code",
      "source": [
        "def calculate_median(numbers):\n",
        "    sorted_numbers = sorted(numbers)\n",
        "    n = len(sorted_numbers)\n",
        "    if n % 2 == 0:\n",
        "        mid1 = sorted_numbers[n // 2 - 1]\n",
        "        mid2 = sorted_numbers[n // 2]\n",
        "        return (mid1 + mid2) / 2\n",
        "    else:\n",
        "        return sorted_numbers[n // 2]\n",
        "\n",
        "median_result = calculate_median(int_list)\n",
        "print(f\"Median: {median_result:.2f}\")\n",
        "\n"
      ],
      "metadata": {
        "colab": {
          "base_uri": "https://localhost:8080/"
        },
        "id": "cy4L-TmtoqIQ",
        "outputId": "29850d34-1821-4b08-d624-ca49415f333a"
      },
      "execution_count": null,
      "outputs": [
        {
          "output_type": "stream",
          "name": "stdout",
          "text": [
            "Median: 113.00\n"
          ]
        }
      ]
    },
    {
      "cell_type": "code",
      "source": [
        "from collections import Counter\n",
        "\n",
        "def compute_mode(numbers):\n",
        "    count_dict = Counter(numbers)\n",
        "    max_count = max(count_dict.values())\n",
        "    mode_values = [num for num, count in count_dict.items() if count == max_count]\n",
        "    return mode_values\n",
        "\n",
        "mode_result = compute_mode(int_list)\n",
        "print(f\"Mode: {mode_result}\")\n",
        "\n",
        "\n",
        "\n"
      ],
      "metadata": {
        "colab": {
          "base_uri": "https://localhost:8080/"
        },
        "id": "usZvg6Paoji9",
        "outputId": "b0f331e2-b17e-4d2c-a3a4-02bb6e1d4114"
      },
      "execution_count": null,
      "outputs": [
        {
          "output_type": "stream",
          "name": "stdout",
          "text": [
            "Mode: [93]\n"
          ]
        }
      ]
    },
    {
      "cell_type": "code",
      "source": [
        "def calculate_weighted_mean(values, weights):\n",
        "    weighted_sum = sum(v * w for v, w in zip(values, weights))\n",
        "    total_weight = sum(weights)\n",
        "    return weighted_sum / total_weight\n",
        "\n",
        "int_list = [90, 92, 94, 96, 98, 100, 102, 104, 106, 108, 110, 112, 114, 116, 118, 120, 122, 124, 126, 128, 130]\n",
        "weights = [1] * len(int_list)\n",
        "weighted_mean = calculate_weighted_mean(int_list, weights)\n",
        "print(\"Weighted Mean of int_list:\", weighted_mean)\n",
        "\n"
      ],
      "metadata": {
        "colab": {
          "base_uri": "https://localhost:8080/"
        },
        "id": "hqEco2OXooMK",
        "outputId": "307ba156-9054-49eb-be8a-0b58a2ddbb16"
      },
      "execution_count": null,
      "outputs": [
        {
          "output_type": "stream",
          "name": "stdout",
          "text": [
            "Weighted Mean of int_list: 110.0\n"
          ]
        }
      ]
    },
    {
      "cell_type": "code",
      "source": [
        "def calculate_weighted_mean(values, weights):\n",
        "    total_weighted_sum = sum(val * weight for val, weight in zip(values, weights))\n",
        "    total_weights = sum(weights)\n",
        "    return total_weighted_sum / total_weights\n",
        "\n",
        "# Example weights (you can adjust these as needed)\n",
        "weights = [1, 2, 3, ...]  # Corresponding weights for each value\n",
        "weighted_mean_result = calculate_weighted_mean(int_list, weights)\n",
        "print(f\"Weighted Mean: {weighted_mean_result:.2f}\")\n",
        "\n",
        "\n"
      ],
      "metadata": {
        "colab": {
          "base_uri": "https://localhost:8080/",
          "height": 376
        },
        "id": "OOdqltZMp9rO",
        "outputId": "344449e5-0e76-4a68-d860-b62dbe53cc08"
      },
      "execution_count": null,
      "outputs": [
        {
          "output_type": "error",
          "ename": "TypeError",
          "evalue": "unsupported operand type(s) for *: 'int' and 'ellipsis'",
          "traceback": [
            "\u001b[0;31m---------------------------------------------------------------------------\u001b[0m",
            "\u001b[0;31mTypeError\u001b[0m                                 Traceback (most recent call last)",
            "\u001b[0;32m<ipython-input-13-d9f498b68d1e>\u001b[0m in \u001b[0;36m<cell line: 8>\u001b[0;34m()\u001b[0m\n\u001b[1;32m      6\u001b[0m \u001b[0;31m# Example weights (you can adjust these as needed)\u001b[0m\u001b[0;34m\u001b[0m\u001b[0;34m\u001b[0m\u001b[0m\n\u001b[1;32m      7\u001b[0m \u001b[0mweights\u001b[0m \u001b[0;34m=\u001b[0m \u001b[0;34m[\u001b[0m\u001b[0;36m1\u001b[0m\u001b[0;34m,\u001b[0m \u001b[0;36m2\u001b[0m\u001b[0;34m,\u001b[0m \u001b[0;36m3\u001b[0m\u001b[0;34m,\u001b[0m \u001b[0;34m...\u001b[0m\u001b[0;34m]\u001b[0m  \u001b[0;31m# Corresponding weights for each value\u001b[0m\u001b[0;34m\u001b[0m\u001b[0;34m\u001b[0m\u001b[0m\n\u001b[0;32m----> 8\u001b[0;31m \u001b[0mweighted_mean_result\u001b[0m \u001b[0;34m=\u001b[0m \u001b[0mcalculate_weighted_mean\u001b[0m\u001b[0;34m(\u001b[0m\u001b[0mint_list\u001b[0m\u001b[0;34m,\u001b[0m \u001b[0mweights\u001b[0m\u001b[0;34m)\u001b[0m\u001b[0;34m\u001b[0m\u001b[0;34m\u001b[0m\u001b[0m\n\u001b[0m\u001b[1;32m      9\u001b[0m \u001b[0mprint\u001b[0m\u001b[0;34m(\u001b[0m\u001b[0;34mf\"Weighted Mean: {weighted_mean_result:.2f}\"\u001b[0m\u001b[0;34m)\u001b[0m\u001b[0;34m\u001b[0m\u001b[0;34m\u001b[0m\u001b[0m\n\u001b[1;32m     10\u001b[0m \u001b[0;34m\u001b[0m\u001b[0m\n",
            "\u001b[0;32m<ipython-input-13-d9f498b68d1e>\u001b[0m in \u001b[0;36mcalculate_weighted_mean\u001b[0;34m(values, weights)\u001b[0m\n\u001b[1;32m      1\u001b[0m \u001b[0;32mdef\u001b[0m \u001b[0mcalculate_weighted_mean\u001b[0m\u001b[0;34m(\u001b[0m\u001b[0mvalues\u001b[0m\u001b[0;34m,\u001b[0m \u001b[0mweights\u001b[0m\u001b[0;34m)\u001b[0m\u001b[0;34m:\u001b[0m\u001b[0;34m\u001b[0m\u001b[0;34m\u001b[0m\u001b[0m\n\u001b[0;32m----> 2\u001b[0;31m     \u001b[0mtotal_weighted_sum\u001b[0m \u001b[0;34m=\u001b[0m \u001b[0msum\u001b[0m\u001b[0;34m(\u001b[0m\u001b[0mval\u001b[0m \u001b[0;34m*\u001b[0m \u001b[0mweight\u001b[0m \u001b[0;32mfor\u001b[0m \u001b[0mval\u001b[0m\u001b[0;34m,\u001b[0m \u001b[0mweight\u001b[0m \u001b[0;32min\u001b[0m \u001b[0mzip\u001b[0m\u001b[0;34m(\u001b[0m\u001b[0mvalues\u001b[0m\u001b[0;34m,\u001b[0m \u001b[0mweights\u001b[0m\u001b[0;34m)\u001b[0m\u001b[0;34m)\u001b[0m\u001b[0;34m\u001b[0m\u001b[0;34m\u001b[0m\u001b[0m\n\u001b[0m\u001b[1;32m      3\u001b[0m     \u001b[0mtotal_weights\u001b[0m \u001b[0;34m=\u001b[0m \u001b[0msum\u001b[0m\u001b[0;34m(\u001b[0m\u001b[0mweights\u001b[0m\u001b[0;34m)\u001b[0m\u001b[0;34m\u001b[0m\u001b[0;34m\u001b[0m\u001b[0m\n\u001b[1;32m      4\u001b[0m     \u001b[0;32mreturn\u001b[0m \u001b[0mtotal_weighted_sum\u001b[0m \u001b[0;34m/\u001b[0m \u001b[0mtotal_weights\u001b[0m\u001b[0;34m\u001b[0m\u001b[0;34m\u001b[0m\u001b[0m\n\u001b[1;32m      5\u001b[0m \u001b[0;34m\u001b[0m\u001b[0m\n",
            "\u001b[0;32m<ipython-input-13-d9f498b68d1e>\u001b[0m in \u001b[0;36m<genexpr>\u001b[0;34m(.0)\u001b[0m\n\u001b[1;32m      1\u001b[0m \u001b[0;32mdef\u001b[0m \u001b[0mcalculate_weighted_mean\u001b[0m\u001b[0;34m(\u001b[0m\u001b[0mvalues\u001b[0m\u001b[0;34m,\u001b[0m \u001b[0mweights\u001b[0m\u001b[0;34m)\u001b[0m\u001b[0;34m:\u001b[0m\u001b[0;34m\u001b[0m\u001b[0;34m\u001b[0m\u001b[0m\n\u001b[0;32m----> 2\u001b[0;31m     \u001b[0mtotal_weighted_sum\u001b[0m \u001b[0;34m=\u001b[0m \u001b[0msum\u001b[0m\u001b[0;34m(\u001b[0m\u001b[0mval\u001b[0m \u001b[0;34m*\u001b[0m \u001b[0mweight\u001b[0m \u001b[0;32mfor\u001b[0m \u001b[0mval\u001b[0m\u001b[0;34m,\u001b[0m \u001b[0mweight\u001b[0m \u001b[0;32min\u001b[0m \u001b[0mzip\u001b[0m\u001b[0;34m(\u001b[0m\u001b[0mvalues\u001b[0m\u001b[0;34m,\u001b[0m \u001b[0mweights\u001b[0m\u001b[0;34m)\u001b[0m\u001b[0;34m)\u001b[0m\u001b[0;34m\u001b[0m\u001b[0;34m\u001b[0m\u001b[0m\n\u001b[0m\u001b[1;32m      3\u001b[0m     \u001b[0mtotal_weights\u001b[0m \u001b[0;34m=\u001b[0m \u001b[0msum\u001b[0m\u001b[0;34m(\u001b[0m\u001b[0mweights\u001b[0m\u001b[0;34m)\u001b[0m\u001b[0;34m\u001b[0m\u001b[0;34m\u001b[0m\u001b[0m\n\u001b[1;32m      4\u001b[0m     \u001b[0;32mreturn\u001b[0m \u001b[0mtotal_weighted_sum\u001b[0m \u001b[0;34m/\u001b[0m \u001b[0mtotal_weights\u001b[0m\u001b[0;34m\u001b[0m\u001b[0;34m\u001b[0m\u001b[0m\n\u001b[1;32m      5\u001b[0m \u001b[0;34m\u001b[0m\u001b[0m\n",
            "\u001b[0;31mTypeError\u001b[0m: unsupported operand type(s) for *: 'int' and 'ellipsis'"
          ]
        }
      ]
    },
    {
      "cell_type": "code",
      "source": [
        "import math\n",
        "\n",
        "def calculate_geometric_mean(numbers):\n",
        "    product = math.prod(numbers)\n",
        "    geometric_mean = product ** (1 / len(numbers))\n",
        "    return geometric_mean\n",
        "\n",
        "geometric_mean_result = calculate_geometric_mean(int_list)\n",
        "print(f\"Geometric Mean: {geometric_mean_result:.2f}\")\n",
        "\n",
        "\n"
      ],
      "metadata": {
        "colab": {
          "base_uri": "https://localhost:8080/"
        },
        "id": "s9SfLafkqspt",
        "outputId": "83090a27-a0d3-4c71-d358-99e3aee9c94e"
      },
      "execution_count": null,
      "outputs": [
        {
          "output_type": "stream",
          "name": "stdout",
          "text": [
            "Geometric Mean: 111.13\n"
          ]
        }
      ]
    },
    {
      "cell_type": "code",
      "source": [
        "def calculate_midrange(numbers):\n",
        "    min_value = min(numbers)\n",
        "    max_value = max(numbers)\n",
        "    midrange_value = (min_value + max_value) / 2\n",
        "    return midrange_value\n",
        "\n",
        "midrange_result = calculate_midrange(int_list)\n",
        "print(f\"Midrange: {midrange_result:.2f}\")\n",
        "\n"
      ],
      "metadata": {
        "colab": {
          "base_uri": "https://localhost:8080/"
        },
        "id": "1BwQktBYrhCj",
        "outputId": "4559ff61-be4a-448c-8f0c-c77b7671a5ae"
      },
      "execution_count": null,
      "outputs": [
        {
          "output_type": "stream",
          "name": "stdout",
          "text": [
            "Midrange: 110.00\n"
          ]
        }
      ]
    },
    {
      "cell_type": "code",
      "source": [
        "def trimmed_mean(numbers, trim_percent=10):\n",
        "    sorted_numbers = sorted(numbers)\n",
        "    trim_count = int(len(sorted_numbers) * trim_percent / 100)\n",
        "    trimmed_values = sorted_numbers[trim_count:-trim_count]\n",
        "    return sum(trimmed_values) / len(trimmed_values)\n",
        "\n",
        "trimmed_mean_result = trimmed_mean(int_list)\n",
        "print(f\"Trimmed Mean: {trimmed_mean_result:.2f}\")\n",
        "\n"
      ],
      "metadata": {
        "colab": {
          "base_uri": "https://localhost:8080/"
        },
        "id": "6fGfgJA9NNsh",
        "outputId": "bc34f703-7588-456b-ce2c-84ad622a2576"
      },
      "execution_count": null,
      "outputs": [
        {
          "output_type": "stream",
          "name": "stdout",
          "text": [
            "Trimmed Mean: 112.08\n"
          ]
        }
      ]
    },
    {
      "cell_type": "code",
      "source": [
        "#Generate a list of 500 integers containing values between 200 to 300 and store it in the variable `int_list2`.\n",
        "#After generating the list, find the following:\n",
        "#(i) Compare the given list of visualization for the given data:\n",
        "#1. Frequency & Gaussian distribution\n",
        "#2. Frequency smoothened KDE plot\n",
        "#3. Gaussian distribution & smoothened KDE plot\n",
        "#(ii) Write a Python function to calculate the range of a given list of numbers.\n",
        "#(iii) Create a program to find the variance and standard deviation of a list of numbers.\n",
        "#(iv) Implement a function to compute the interquartile range (IQR) of a list of values.\n",
        "#(v) Build a program to calculate the coefficient of variation for a dataset.\n",
        "#(vi) Write a Python function to find the mean absolute deviation (MAD) of a list of numbers.\n",
        "#(vii) Create a program to calculate the quartile deviation of a list of values.\n",
        "#(viii) Implement a function to find the range-based coefficient of dispersion for a dataset."
      ],
      "metadata": {
        "id": "fDMIhWD2NQXe"
      },
      "execution_count": null,
      "outputs": []
    },
    {
      "cell_type": "code",
      "source": [
        "import random\n",
        "\n",
        "int_list2 = [random.randint(200, 300) for _ in range(500)]\n",
        "\n"
      ],
      "metadata": {
        "id": "JxYJjRNbPr_9"
      },
      "execution_count": null,
      "outputs": []
    },
    {
      "cell_type": "code",
      "source": [
        "import numpy as np\n",
        "import matplotlib.pyplot as plt\n",
        "from scipy.stats import norm\n",
        "\n",
        "\n",
        "# Create a histogram to visualize the frequency distribution\n",
        "plt.figure(figsize=(10, 6))\n",
        "plt.hist(int_list2, bins=20, edgecolor='black', alpha=0.7)\n",
        "plt.xlabel('Integer Values')\n",
        "plt.ylabel('Frequency')\n",
        "plt.title('Frequency Distribution of Integers (200-300)')\n",
        "plt.grid(True)\n",
        "plt.show()\n",
        "\n",
        "# Fit a normal distribution to the data\n",
        "mu, sigma = norm.fit(int_list2)\n",
        "\n",
        "# Generate x values for the Gaussian distribution plot\n",
        "x = np.linspace(min(int_list2), max(int_list2), 1000)\n",
        "\n",
        "# Plot the Gaussian distribution\n",
        "plt.figure(figsize=(10, 6))\n",
        "plt.plot(x, norm.pdf(x, mu, sigma), label='Gaussian Distribution')\n",
        "plt.hist(int_list2, bins=20, edgecolor='black', alpha=0.7, label='Data')\n",
        "plt.xlabel('Integer Values')\n",
        "plt.ylabel('Probability Density')\n",
        "plt.title('Gaussian Distribution & Data (200-300)')\n",
        "plt.grid(True)\n",
        "plt.legend()\n",
        "plt.show()\n",
        "\n",
        "# Kernel Density Estimation (KDE) plot\n",
        "from sklearn.neighbors import KernelDensity\n",
        "\n",
        "# Create a kernel density estimator\n",
        "kde = KernelDensity(bandwidth=5.0, kernel='gaussian')\n",
        "\n",
        "# Fit the KDE to the data\n",
        "kde.fit(int_list2.reshape(-1, 1))\n",
        "\n",
        "# Generate x values for the KDE plot\n",
        "x_grid = np.linspace(min(int_list2), max(int_list2), 1000)[:, np.newaxis]\n",
        "\n",
        "# Calculate the density values\n",
        "density = kde.score_samples(x_grid)\n",
        "\n",
        "# Plot the KDE\n",
        "plt.figure(figsize=(10, 6))\n",
        "plt.plot(x_grid.squeeze(), density, label='KDE (Gaussian Kernel)')\n",
        "plt.hist(int_list2, bins=20, edgecolor='black', alpha=0.7, label='Data')\n",
        "plt.xlabel('Integer Values')\n",
        "plt.ylabel('Probability Density')\n",
        "plt.title('KDE (Gaussian Kernel) & Data (200-300)')\n",
        "plt.grid(True)\n",
        "plt.legend()\n",
        "plt.show()\n",
        "\n",
        "# Combine Gaussian distribution and smoothened KDE plot\n",
        "plt.figure(figsize=(10, 6))\n",
        "plt.plot(x, norm.pdf(x, mu, sigma), label='Gaussian Distribution')\n",
        "plt.plot(x_grid.squeeze(), density, label='Smoothed KDE (Gaussian Kernel)')\n",
        "plt.xlabel('Integer Values')\n",
        "plt.ylabel('Probability Density')\n",
        "plt.title('Gaussian Distribution & Smoothed KDE (200-300)')\n",
        "plt.grid(True)\n",
        "plt.legend()\n",
        "plt.show()"
      ],
      "metadata": {
        "colab": {
          "base_uri": "https://localhost:8080/",
          "height": 1000
        },
        "id": "edpZuCELQiRP",
        "outputId": "5e60cfd0-105b-4231-8d08-c5eb0f1b8ff7"
      },
      "execution_count": null,
      "outputs": [
        {
          "output_type": "display_data",
          "data": {
            "text/plain": [
              "<Figure size 1000x600 with 1 Axes>"
            ],
            "image/png": "[encoded data removed]"
          },
          "metadata": {}
        },
        {
          "output_type": "display_data",
          "data": {
            "text/plain": [
              "<Figure size 1000x600 with 1 Axes>"
            ],
            "image/png": "[encoded data removed]"
          },
          "metadata": {}
        },
        {
          "output_type": "error",
          "ename": "AttributeError",
          "evalue": "'list' object has no attribute 'reshape'",
          "traceback": [
            "\u001b[0;31m---------------------------------------------------------------------------\u001b[0m",
            "\u001b[0;31mAttributeError\u001b[0m                            Traceback (most recent call last)",
            "\u001b[0;32m<ipython-input-36-c7916d4d8240>\u001b[0m in \u001b[0;36m<cell line: 39>\u001b[0;34m()\u001b[0m\n\u001b[1;32m     37\u001b[0m \u001b[0;34m\u001b[0m\u001b[0m\n\u001b[1;32m     38\u001b[0m \u001b[0;31m# Fit the KDE to the data\u001b[0m\u001b[0;34m\u001b[0m\u001b[0;34m\u001b[0m\u001b[0m\n\u001b[0;32m---> 39\u001b[0;31m \u001b[0mkde\u001b[0m\u001b[0;34m.\u001b[0m\u001b[0mfit\u001b[0m\u001b[0;34m(\u001b[0m\u001b[0mint_list2\u001b[0m\u001b[0;34m.\u001b[0m\u001b[0mreshape\u001b[0m\u001b[0;34m(\u001b[0m\u001b[0;34m-\u001b[0m\u001b[0;36m1\u001b[0m\u001b[0;34m,\u001b[0m \u001b[0;36m1\u001b[0m\u001b[0;34m)\u001b[0m\u001b[0;34m)\u001b[0m\u001b[0;34m\u001b[0m\u001b[0;34m\u001b[0m\u001b[0m\n\u001b[0m\u001b[1;32m     40\u001b[0m \u001b[0;34m\u001b[0m\u001b[0m\n\u001b[1;32m     41\u001b[0m \u001b[0;31m# Generate x values for the KDE plot\u001b[0m\u001b[0;34m\u001b[0m\u001b[0;34m\u001b[0m\u001b[0m\n",
            "\u001b[0;31mAttributeError\u001b[0m: 'list' object has no attribute 'reshape'"
          ]
        }
      ]
    },
    {
      "cell_type": "code",
      "source": [],
      "metadata": {
        "colab": {
          "base_uri": "https://localhost:8080/"
        },
        "id": "V5TnZ5OIPtSj",
        "outputId": "4c8a7947-57c9-4c45-cda4-e909c3417e37"
      },
      "execution_count": null,
      "outputs": [
        {
          "output_type": "stream",
          "name": "stdout",
          "text": [
            "Range: 40\n"
          ]
        }
      ]
    },
    {
      "cell_type": "code",
      "source": [
        "import numpy as np\n",
        "\n",
        "my_data = [10, 20, 30, 40, 50]\n",
        "variance = np.var(my_data)\n",
        "std_deviation = np.std(my_data)\n",
        "\n",
        "print(f\"Variance: {variance}\")\n",
        "print(f\"Standard Deviation: {std_deviation}\")\n"
      ],
      "metadata": {
        "colab": {
          "base_uri": "https://localhost:8080/"
        },
        "id": "ERnXaufSPzks",
        "outputId": "29f93a49-7172-4475-a02c-64c85a9cb0bc"
      },
      "execution_count": null,
      "outputs": [
        {
          "output_type": "stream",
          "name": "stdout",
          "text": [
            "Variance: 200.0\n",
            "Standard Deviation: 14.142135623730951\n"
          ]
        }
      ]
    },
    {
      "cell_type": "code",
      "source": [
        "q1, q3 = np.percentile(my_data, [25, 75])\n",
        "iqr = q3 - q1\n",
        "print(f\"IQR: {iqr}\")\n"
      ],
      "metadata": {
        "colab": {
          "base_uri": "https://localhost:8080/"
        },
        "id": "tdnKOwNmP1sU",
        "outputId": "62bf7cda-f949-402e-9bc3-b9cb9f7d8f15"
      },
      "execution_count": null,
      "outputs": [
        {
          "output_type": "stream",
          "name": "stdout",
          "text": [
            "IQR: 20.0\n"
          ]
        }
      ]
    },
    {
      "cell_type": "code",
      "source": [
        "def calculate_cv(numbers):\n",
        "    mean_val = np.mean(numbers)\n",
        "    std_val = np.std(numbers, ddof=1)\n",
        "    return (std_val / mean_val) * 100\n",
        "\n",
        "cv_result = calculate_cv(my_data)\n",
        "print(f\"Coefficient of Variation: {cv_result:.2f}%\")\n"
      ],
      "metadata": {
        "colab": {
          "base_uri": "https://localhost:8080/"
        },
        "id": "Q0AGdt9rQCGN",
        "outputId": "3674a967-c95c-48e6-abb0-89ffdcd0840b"
      },
      "execution_count": null,
      "outputs": [
        {
          "output_type": "stream",
          "name": "stdout",
          "text": [
            "Coefficient of Variation: 52.70%\n"
          ]
        }
      ]
    },
    {
      "cell_type": "code",
      "source": [
        "def calculate_mad(numbers):\n",
        "    mean_val = np.mean(numbers)\n",
        "    absolute_deviations = [abs(x - mean_val) for x in numbers]\n",
        "    return np.mean(absolute_deviations)\n",
        "\n",
        "mad_result = calculate_mad(my_data)\n",
        "print(f\"Mean Absolute Deviation: {mad_result:.2f}\")\n"
      ],
      "metadata": {
        "colab": {
          "base_uri": "https://localhost:8080/"
        },
        "id": "yvFw78QjQIP9",
        "outputId": "7e333406-a420-4b00-c113-0a9adbcd9deb"
      },
      "execution_count": null,
      "outputs": [
        {
          "output_type": "stream",
          "name": "stdout",
          "text": [
            "Mean Absolute Deviation: 12.00\n"
          ]
        }
      ]
    },
    {
      "cell_type": "code",
      "source": [
        "q1, q3 = np.percentile(my_data, [25, 75])\n",
        "iqr = q3 - q1\n",
        "print(f\"IQR: {iqr/2}\")"
      ],
      "metadata": {
        "colab": {
          "base_uri": "https://localhost:8080/"
        },
        "id": "-dPvwc30QLgy",
        "outputId": "9e34a9cc-ba29-4911-f8a8-532a9edc139c"
      },
      "execution_count": null,
      "outputs": [
        {
          "output_type": "stream",
          "name": "stdout",
          "text": [
            "IQR: 10.0\n"
          ]
        }
      ]
    },
    {
      "cell_type": "code",
      "source": [
        "def calculate_range_based_cd(numbers):\n",
        "    range_val = max(numbers) - min(numbers)\n",
        "    mean_val = np.mean(numbers)\n",
        "    return (range_val / mean_val) * 100\n",
        "\n",
        "range_cd_result = calculate_range_based_cd(my_data)\n",
        "print(f\"Range-Based Coefficient of Dispersion: {range_cd_result:.2f}%\")\n"
      ],
      "metadata": {
        "colab": {
          "base_uri": "https://localhost:8080/"
        },
        "id": "doeDREJ-QS7J",
        "outputId": "48d3bea7-ee5a-4b7b-82d9-af4fef8ebadf"
      },
      "execution_count": null,
      "outputs": [
        {
          "output_type": "stream",
          "name": "stdout",
          "text": [
            "Range-Based Coefficient of Dispersion: 133.33%\n"
          ]
        }
      ]
    },
    {
      "cell_type": "code",
      "source": [
        "# 3)Write a Python class representing a discrete random variable with methods to\n",
        "# calculate its expected value and variance."
      ],
      "metadata": {
        "id": "TuBip6NmVYA6"
      },
      "execution_count": null,
      "outputs": []
    },
    {
      "cell_type": "code",
      "source": [
        "class DiscreteRandomVariable:\n",
        "  \"\"\"\n",
        "  This class represents a discrete random variable.\n",
        "  \"\"\"\n",
        "  def __init__(self, values, probabilities):\n",
        "    \"\"\"\n",
        "    Initializes a DiscreteRandomVariable object.\n",
        "\n",
        "    Args:\n",
        "      values: A list of possible values the random variable can take.\n",
        "      probabilities: A list of probabilities corresponding to each value in `values`.\n",
        "        The length of `probabilities` must be the same as the length of `values`.\n",
        "    \"\"\"\n",
        "    if len(values) != len(probabilities):\n",
        "      raise ValueError(\"Length of values and probabilities must be equal.\")\n",
        "    self.values = values\n",
        "    self.probabilities = probabilities\n",
        "\n",
        "  def expected_value(self):\n",
        "    \"\"\"\n",
        "    Calculates the expected value (mean) of the random variable.\n",
        "\n",
        "    Returns:\n",
        "      The expected value of the random variable.\n",
        "    \"\"\"\n",
        "    expected_value = 0\n",
        "    for i in range(len(self.values)):\n",
        "      expected_value += self.values[i] * self.probabilities[i]\n",
        "    return expected_value\n",
        "\n",
        "  def variance(self):\n",
        "    \"\"\"\n",
        "    Calculates the variance of the random variable.\n",
        "\n",
        "    Returns:\n",
        "      The variance of the random variable.\n",
        "    \"\"\"\n",
        "    expected_value = self.expected_value()\n",
        "    variance = 0\n",
        "    for i in range(len(self.values)):\n",
        "      variance += (self.values[i] - expected_value) ** 2 * self.probabilities[i]\n",
        "    return variance\n",
        "\n",
        "values = [1, 2, 3, 4]\n",
        "probabilities = [0.25, 0.25, 0.3, 0.2]\n",
        "random_variable = DiscreteRandomVariable(values, probabilities)\n",
        "\n",
        "mean = random_variable.expected_value()\n",
        "var = random_variable.variance()\n",
        "\n",
        "print(\"Expected value:\", mean)\n",
        "print(\"Variance:\", var)\n"
      ],
      "metadata": {
        "colab": {
          "base_uri": "https://localhost:8080/"
        },
        "id": "vm6doRR8QgBZ",
        "outputId": "e70e64d1-44c8-47f4-b4db-28301f4ae940"
      },
      "execution_count": null,
      "outputs": [
        {
          "output_type": "stream",
          "name": "stdout",
          "text": [
            "Expected value: 2.45\n",
            "Variance: 1.1475\n"
          ]
        }
      ]
    },
    {
      "cell_type": "code",
      "source": [
        "# Implement a program to simulate the rolling of a fair six-sided die and calculate the expected value and\n",
        "# variance of the outcomes"
      ],
      "metadata": {
        "id": "YcJj4kLbVTRq"
      },
      "execution_count": null,
      "outputs": []
    },
    {
      "cell_type": "code",
      "source": [
        "import random\n",
        "\n",
        "def roll_die():\n",
        "  \"\"\"\n",
        "  Simulates the rolling of a fair six-sided die.\n",
        "\n",
        "  Returns:\n",
        "    An integer representing the rolled value (1 to 6).\n",
        "  \"\"\"\n",
        "  return random.randint(1, 6)\n",
        "\n",
        "def calculate_expected_value_variance(num_rolls):\n",
        "  \"\"\"\n",
        "  Calculates the expected value and variance of rolling a die `num_rolls` times.\n",
        "\n",
        "  Args:\n",
        "    num_rolls: The number of times to roll the die.\n",
        "\n",
        "  Returns:\n",
        "    A tuple containing the expected value and variance.\n",
        "  \"\"\"\n",
        "  # Expected value of a fair six-sided die is 3.5\n",
        "  expected_value = 3.5\n",
        "  variance = 0\n",
        "\n",
        "  for _ in range(num_rolls):\n",
        "    roll = roll_die()\n",
        "    # Update variance based on squared deviations from the expected value\n",
        "    variance += (roll - expected_value) ** 2\n",
        "\n",
        "  # Calculate average variance if multiple rolls were simulated\n",
        "  variance /= num_rolls if num_rolls > 1 else 1\n",
        "\n",
        "  return expected_value, variance\n",
        "\n",
        "\n",
        "num_rolls = 1000\n",
        "expected_value, variance = calculate_expected_value_variance(num_rolls)\n",
        "\n",
        "print(\"Expected value of\", num_rolls, \"die rolls:\", expected_value)\n",
        "print(\"Variance of\", num_rolls, \"die rolls:\", variance)\n"
      ],
      "metadata": {
        "colab": {
          "base_uri": "https://localhost:8080/"
        },
        "id": "Xsvf8CVHV0M4",
        "outputId": "187b0e10-0197-4137-9a79-67b8c43dfca2"
      },
      "execution_count": null,
      "outputs": [
        {
          "output_type": "stream",
          "name": "stdout",
          "text": [
            "Expected value of 1000 die rolls: 3.5\n",
            "Variance of 1000 die rolls: 2.986\n"
          ]
        }
      ]
    },
    {
      "cell_type": "code",
      "source": [
        "# Create a Python function to generate random samples from a given probability distribution (e.g.,\n",
        "#binomial, Poisson) and calculate their mean and variance."
      ],
      "metadata": {
        "id": "5d5qJ0CfV2fa"
      },
      "execution_count": null,
      "outputs": []
    },
    {
      "cell_type": "code",
      "source": [
        "import numpy as np\n",
        "from scipy.stats import rv_discrete, norm\n",
        "\n",
        "\n",
        "def generate_samples_and_stats(distribution, n_samples, *args, **kwargs):\n",
        "  \"\"\"\n",
        "  Generates random samples from a given probability distribution and calculates their mean and variance.\n",
        "\n",
        "  Args:\n",
        "    distribution: The name of the scipy.stats distribution (e.g., \"binom\", \"poisson\").\n",
        "    n_samples: The number of samples to generate.\n",
        "    *args: Additional arguments specific to the chosen distribution (e.g., size for binomial).\n",
        "    **kwargs: Additional keyword arguments specific to the chosen distribution.\n",
        "\n",
        "  Returns:\n",
        "    A tuple containing:\n",
        "      - samples: A NumPy array of the generated random samples.\n",
        "      - mean: The mean of the generated samples.\n",
        "      - variance: The variance of the generated samples.\n",
        "  \"\"\"\n",
        "\n",
        "  # Create a random variate object from the specified distribution\n",
        "  rv = rv_discrete(name=distribution, *args, **kwargs)\n",
        "\n",
        "  # Generate random samples\n",
        "  samples = rv.rvs(size=n_samples)\n",
        "\n",
        "  # Calculate mean and variance\n",
        "  mean = np.mean(samples)\n",
        "  variance = np.var(samples)\n",
        "\n",
        "  return samples, mean, variance\n",
        "\n",
        "# Example usage (Binomial distribution)\n",
        "n_trials, p = 10, 0.3  # 10 trials with success probability of 0.3\n",
        "samples, mean, variance = generate_samples_and_stats(\"binom\", 1000, n_trials, p)\n",
        "\n",
        "print(\"Binomial distribution (n=\", n_trials, \", p=\", p, \")\")\n",
        "print(\"  - Samples:\", samples[:10])  # Print only the first 10 samples\n",
        "print(\"  - Mean:\", mean)\n",
        "print(\"  - Variance:\", variance)\n",
        "\n",
        "# Example usage (Poisson distribution)\n",
        "lambda_param = 5  # Average number of occurrences\n",
        "samples, mean, variance = generate_samples_and_stats(\"poisson\", 1000, lambda_param)\n",
        "\n",
        "print(\"\\nPoisson distribution (lambda=\", lambda_param, \")\")\n",
        "print(\"  - Samples:\", samples[:10])  # Print only the first 10 samples\n",
        "print(\"  - Mean:\", mean)\n",
        "print(\"  - Variance:\", variance)\n"
      ],
      "metadata": {
        "colab": {
          "base_uri": "https://localhost:8080/",
          "height": 411
        },
        "id": "q43Un672V9IK",
        "outputId": "9fe6dd6e-945a-4e86-b44d-0cf9365aa89a"
      },
      "execution_count": null,
      "outputs": [
        {
          "output_type": "error",
          "ename": "RecursionError",
          "evalue": "maximum recursion depth exceeded",
          "traceback": [
            "\u001b[0;31m---------------------------------------------------------------------------\u001b[0m",
            "\u001b[0;31mRecursionError\u001b[0m                            Traceback (most recent call last)",
            "\u001b[0;32m<ipython-input-42-9768f11604b8>\u001b[0m in \u001b[0;36m<cell line: 36>\u001b[0;34m()\u001b[0m\n\u001b[1;32m     34\u001b[0m \u001b[0;31m# Example usage (Binomial distribution)\u001b[0m\u001b[0;34m\u001b[0m\u001b[0;34m\u001b[0m\u001b[0m\n\u001b[1;32m     35\u001b[0m \u001b[0mn_trials\u001b[0m\u001b[0;34m,\u001b[0m \u001b[0mp\u001b[0m \u001b[0;34m=\u001b[0m \u001b[0;36m10\u001b[0m\u001b[0;34m,\u001b[0m \u001b[0;36m0.3\u001b[0m  \u001b[0;31m# 10 trials with success probability of 0.3\u001b[0m\u001b[0;34m\u001b[0m\u001b[0;34m\u001b[0m\u001b[0m\n\u001b[0;32m---> 36\u001b[0;31m \u001b[0msamples\u001b[0m\u001b[0;34m,\u001b[0m \u001b[0mmean\u001b[0m\u001b[0;34m,\u001b[0m \u001b[0mvariance\u001b[0m \u001b[0;34m=\u001b[0m \u001b[0mgenerate_samples_and_stats\u001b[0m\u001b[0;34m(\u001b[0m\u001b[0;34m\"binom\"\u001b[0m\u001b[0;34m,\u001b[0m \u001b[0;36m1000\u001b[0m\u001b[0;34m,\u001b[0m \u001b[0mn_trials\u001b[0m\u001b[0;34m,\u001b[0m \u001b[0mp\u001b[0m\u001b[0;34m)\u001b[0m\u001b[0;34m\u001b[0m\u001b[0;34m\u001b[0m\u001b[0m\n\u001b[0m\u001b[1;32m     37\u001b[0m \u001b[0;34m\u001b[0m\u001b[0m\n\u001b[1;32m     38\u001b[0m \u001b[0mprint\u001b[0m\u001b[0;34m(\u001b[0m\u001b[0;34m\"Binomial distribution (n=\"\u001b[0m\u001b[0;34m,\u001b[0m \u001b[0mn_trials\u001b[0m\u001b[0;34m,\u001b[0m \u001b[0;34m\", p=\"\u001b[0m\u001b[0;34m,\u001b[0m \u001b[0mp\u001b[0m\u001b[0;34m,\u001b[0m \u001b[0;34m\")\"\u001b[0m\u001b[0;34m)\u001b[0m\u001b[0;34m\u001b[0m\u001b[0;34m\u001b[0m\u001b[0m\n",
            "\u001b[0;32m<ipython-input-42-9768f11604b8>\u001b[0m in \u001b[0;36mgenerate_samples_and_stats\u001b[0;34m(distribution, n_samples, *args, **kwargs)\u001b[0m\n\u001b[1;32m     24\u001b[0m \u001b[0;34m\u001b[0m\u001b[0m\n\u001b[1;32m     25\u001b[0m   \u001b[0;31m# Generate random samples\u001b[0m\u001b[0;34m\u001b[0m\u001b[0;34m\u001b[0m\u001b[0m\n\u001b[0;32m---> 26\u001b[0;31m   \u001b[0msamples\u001b[0m \u001b[0;34m=\u001b[0m\u001b[0mrv\u001b[0m\u001b[0;34m.\u001b[0m\u001b[0mrvs\u001b[0m\u001b[0;34m(\u001b[0m\u001b[0msize\u001b[0m\u001b[0;34m=\u001b[0m\u001b[0mn_samples\u001b[0m\u001b[0;34m)\u001b[0m\u001b[0;34m\u001b[0m\u001b[0;34m\u001b[0m\u001b[0m\n\u001b[0m\u001b[1;32m     27\u001b[0m \u001b[0;34m\u001b[0m\u001b[0m\n\u001b[1;32m     28\u001b[0m   \u001b[0;31m# Calculate mean and variance\u001b[0m\u001b[0;34m\u001b[0m\u001b[0;34m\u001b[0m\u001b[0m\n",
            "\u001b[0;32m/usr/local/lib/python3.10/dist-packages/scipy/stats/_distn_infrastructure.py\u001b[0m in \u001b[0;36mrvs\u001b[0;34m(self, *args, **kwargs)\u001b[0m\n\u001b[1;32m   3341\u001b[0m         \"\"\"\n\u001b[1;32m   3342\u001b[0m         \u001b[0mkwargs\u001b[0m\u001b[0;34m[\u001b[0m\u001b[0;34m'discrete'\u001b[0m\u001b[0;34m]\u001b[0m \u001b[0;34m=\u001b[0m \u001b[0;32mTrue\u001b[0m\u001b[0;34m\u001b[0m\u001b[0;34m\u001b[0m\u001b[0m\n\u001b[0;32m-> 3343\u001b[0;31m         \u001b[0;32mreturn\u001b[0m \u001b[0msuper\u001b[0m\u001b[0;34m(\u001b[0m\u001b[0;34m)\u001b[0m\u001b[0;34m.\u001b[0m\u001b[0mrvs\u001b[0m\u001b[0;34m(\u001b[0m\u001b[0;34m*\u001b[0m\u001b[0margs\u001b[0m\u001b[0;34m,\u001b[0m \u001b[0;34m**\u001b[0m\u001b[0mkwargs\u001b[0m\u001b[0;34m)\u001b[0m\u001b[0;34m\u001b[0m\u001b[0;34m\u001b[0m\u001b[0m\n\u001b[0m\u001b[1;32m   3344\u001b[0m \u001b[0;34m\u001b[0m\u001b[0m\n\u001b[1;32m   3345\u001b[0m     \u001b[0;32mdef\u001b[0m \u001b[0mpmf\u001b[0m\u001b[0;34m(\u001b[0m\u001b[0mself\u001b[0m\u001b[0;34m,\u001b[0m \u001b[0mk\u001b[0m\u001b[0;34m,\u001b[0m \u001b[0;34m*\u001b[0m\u001b[0margs\u001b[0m\u001b[0;34m,\u001b[0m \u001b[0;34m**\u001b[0m\u001b[0mkwds\u001b[0m\u001b[0;34m)\u001b[0m\u001b[0;34m:\u001b[0m\u001b[0;34m\u001b[0m\u001b[0;34m\u001b[0m\u001b[0m\n",
            "\u001b[0;32m/usr/local/lib/python3.10/dist-packages/scipy/stats/_distn_infrastructure.py\u001b[0m in \u001b[0;36mrvs\u001b[0;34m(self, *args, **kwds)\u001b[0m\n\u001b[1;32m   1065\u001b[0m             \u001b[0mrandom_state\u001b[0m \u001b[0;34m=\u001b[0m \u001b[0mself\u001b[0m\u001b[0;34m.\u001b[0m\u001b[0m_random_state\u001b[0m\u001b[0;34m\u001b[0m\u001b[0;34m\u001b[0m\u001b[0m\n\u001b[1;32m   1066\u001b[0m \u001b[0;34m\u001b[0m\u001b[0m\n\u001b[0;32m-> 1067\u001b[0;31m         \u001b[0mvals\u001b[0m \u001b[0;34m=\u001b[0m \u001b[0mself\u001b[0m\u001b[0;34m.\u001b[0m\u001b[0m_rvs\u001b[0m\u001b[0;34m(\u001b[0m\u001b[0;34m*\u001b[0m\u001b[0margs\u001b[0m\u001b[0;34m,\u001b[0m \u001b[0msize\u001b[0m\u001b[0;34m=\u001b[0m\u001b[0msize\u001b[0m\u001b[0;34m,\u001b[0m \u001b[0mrandom_state\u001b[0m\u001b[0;34m=\u001b[0m\u001b[0mrandom_state\u001b[0m\u001b[0;34m)\u001b[0m\u001b[0;34m\u001b[0m\u001b[0;34m\u001b[0m\u001b[0m\n\u001b[0m\u001b[1;32m   1068\u001b[0m \u001b[0;34m\u001b[0m\u001b[0m\n\u001b[1;32m   1069\u001b[0m         \u001b[0mvals\u001b[0m \u001b[0;34m=\u001b[0m \u001b[0mvals\u001b[0m \u001b[0;34m*\u001b[0m \u001b[0mscale\u001b[0m \u001b[0;34m+\u001b[0m \u001b[0mloc\u001b[0m\u001b[0;34m\u001b[0m\u001b[0;34m\u001b[0m\u001b[0m\n",
            "\u001b[0;32m/usr/local/lib/python3.10/dist-packages/scipy/stats/_distn_infrastructure.py\u001b[0m in \u001b[0;36m_rvs\u001b[0;34m(self, size, random_state, *args)\u001b[0m\n\u001b[1;32m    991\u001b[0m         \u001b[0;31m# Use basic inverse cdf algorithm for RV generation as default.\u001b[0m\u001b[0;34m\u001b[0m\u001b[0;34m\u001b[0m\u001b[0m\n\u001b[1;32m    992\u001b[0m         \u001b[0mU\u001b[0m \u001b[0;34m=\u001b[0m \u001b[0mrandom_state\u001b[0m\u001b[0;34m.\u001b[0m\u001b[0muniform\u001b[0m\u001b[0;34m(\u001b[0m\u001b[0msize\u001b[0m\u001b[0;34m=\u001b[0m\u001b[0msize\u001b[0m\u001b[0;34m)\u001b[0m\u001b[0;34m\u001b[0m\u001b[0;34m\u001b[0m\u001b[0m\n\u001b[0;32m--> 993\u001b[0;31m         \u001b[0mY\u001b[0m \u001b[0;34m=\u001b[0m \u001b[0mself\u001b[0m\u001b[0;34m.\u001b[0m\u001b[0m_ppf\u001b[0m\u001b[0;34m(\u001b[0m\u001b[0mU\u001b[0m\u001b[0;34m,\u001b[0m \u001b[0;34m*\u001b[0m\u001b[0margs\u001b[0m\u001b[0;34m)\u001b[0m\u001b[0;34m\u001b[0m\u001b[0;34m\u001b[0m\u001b[0m\n\u001b[0m\u001b[1;32m    994\u001b[0m         \u001b[0;32mreturn\u001b[0m \u001b[0mY\u001b[0m\u001b[0;34m\u001b[0m\u001b[0;34m\u001b[0m\u001b[0m\n\u001b[1;32m    995\u001b[0m \u001b[0;34m\u001b[0m\u001b[0m\n",
            "\u001b[0;32m/usr/local/lib/python3.10/dist-packages/scipy/stats/_distn_infrastructure.py\u001b[0m in \u001b[0;36m_ppf\u001b[0;34m(self, q, *args)\u001b[0m\n\u001b[1;32m   1006\u001b[0m \u001b[0;34m\u001b[0m\u001b[0m\n\u001b[1;32m   1007\u001b[0m     \u001b[0;32mdef\u001b[0m \u001b[0m_ppf\u001b[0m\u001b[0;34m(\u001b[0m\u001b[0mself\u001b[0m\u001b[0;34m,\u001b[0m \u001b[0mq\u001b[0m\u001b[0;34m,\u001b[0m \u001b[0;34m*\u001b[0m\u001b[0margs\u001b[0m\u001b[0;34m)\u001b[0m\u001b[0;34m:\u001b[0m\u001b[0;34m\u001b[0m\u001b[0;34m\u001b[0m\u001b[0m\n\u001b[0;32m-> 1008\u001b[0;31m         \u001b[0;32mreturn\u001b[0m \u001b[0mself\u001b[0m\u001b[0;34m.\u001b[0m\u001b[0m_ppfvec\u001b[0m\u001b[0;34m(\u001b[0m\u001b[0mq\u001b[0m\u001b[0;34m,\u001b[0m \u001b[0;34m*\u001b[0m\u001b[0margs\u001b[0m\u001b[0;34m)\u001b[0m\u001b[0;34m\u001b[0m\u001b[0;34m\u001b[0m\u001b[0m\n\u001b[0m\u001b[1;32m   1009\u001b[0m \u001b[0;34m\u001b[0m\u001b[0m\n\u001b[1;32m   1010\u001b[0m     \u001b[0;32mdef\u001b[0m \u001b[0m_isf\u001b[0m\u001b[0;34m(\u001b[0m\u001b[0mself\u001b[0m\u001b[0;34m,\u001b[0m \u001b[0mq\u001b[0m\u001b[0;34m,\u001b[0m \u001b[0;34m*\u001b[0m\u001b[0margs\u001b[0m\u001b[0;34m)\u001b[0m\u001b[0;34m:\u001b[0m\u001b[0;34m\u001b[0m\u001b[0;34m\u001b[0m\u001b[0m\n",
            "\u001b[0;32m/usr/local/lib/python3.10/dist-packages/numpy/lib/function_base.py\u001b[0m in \u001b[0;36m__call__\u001b[0;34m(self, *args, **kwargs)\u001b[0m\n\u001b[1;32m   2370\u001b[0m             \u001b[0;32mreturn\u001b[0m \u001b[0mself\u001b[0m\u001b[0;34m\u001b[0m\u001b[0;34m\u001b[0m\u001b[0m\n\u001b[1;32m   2371\u001b[0m \u001b[0;34m\u001b[0m\u001b[0m\n\u001b[0;32m-> 2372\u001b[0;31m         \u001b[0;32mreturn\u001b[0m \u001b[0mself\u001b[0m\u001b[0;34m.\u001b[0m\u001b[0m_call_as_normal\u001b[0m\u001b[0;34m(\u001b[0m\u001b[0;34m*\u001b[0m\u001b[0margs\u001b[0m\u001b[0;34m,\u001b[0m \u001b[0;34m**\u001b[0m\u001b[0mkwargs\u001b[0m\u001b[0;34m)\u001b[0m\u001b[0;34m\u001b[0m\u001b[0;34m\u001b[0m\u001b[0m\n\u001b[0m\u001b[1;32m   2373\u001b[0m \u001b[0;34m\u001b[0m\u001b[0m\n\u001b[1;32m   2374\u001b[0m     \u001b[0;32mdef\u001b[0m \u001b[0m_get_ufunc_and_otypes\u001b[0m\u001b[0;34m(\u001b[0m\u001b[0mself\u001b[0m\u001b[0;34m,\u001b[0m \u001b[0mfunc\u001b[0m\u001b[0;34m,\u001b[0m \u001b[0margs\u001b[0m\u001b[0;34m)\u001b[0m\u001b[0;34m:\u001b[0m\u001b[0;34m\u001b[0m\u001b[0;34m\u001b[0m\u001b[0m\n",
            "\u001b[0;32m/usr/local/lib/python3.10/dist-packages/numpy/lib/function_base.py\u001b[0m in \u001b[0;36m_call_as_normal\u001b[0;34m(self, *args, **kwargs)\u001b[0m\n\u001b[1;32m   2363\u001b[0m             \u001b[0mvargs\u001b[0m\u001b[0;34m.\u001b[0m\u001b[0mextend\u001b[0m\u001b[0;34m(\u001b[0m\u001b[0;34m[\u001b[0m\u001b[0mkwargs\u001b[0m\u001b[0;34m[\u001b[0m\u001b[0m_n\u001b[0m\u001b[0;34m]\u001b[0m \u001b[0;32mfor\u001b[0m \u001b[0m_n\u001b[0m \u001b[0;32min\u001b[0m \u001b[0mnames\u001b[0m\u001b[0;34m]\u001b[0m\u001b[0;34m)\u001b[0m\u001b[0;34m\u001b[0m\u001b[0;34m\u001b[0m\u001b[0m\n\u001b[1;32m   2364\u001b[0m \u001b[0;34m\u001b[0m\u001b[0m\n\u001b[0;32m-> 2365\u001b[0;31m         \u001b[0;32mreturn\u001b[0m \u001b[0mself\u001b[0m\u001b[0;34m.\u001b[0m\u001b[0m_vectorize_call\u001b[0m\u001b[0;34m(\u001b[0m\u001b[0mfunc\u001b[0m\u001b[0;34m=\u001b[0m\u001b[0mfunc\u001b[0m\u001b[0;34m,\u001b[0m \u001b[0margs\u001b[0m\u001b[0;34m=\u001b[0m\u001b[0mvargs\u001b[0m\u001b[0;34m)\u001b[0m\u001b[0;34m\u001b[0m\u001b[0;34m\u001b[0m\u001b[0m\n\u001b[0m\u001b[1;32m   2366\u001b[0m \u001b[0;34m\u001b[0m\u001b[0m\n\u001b[1;32m   2367\u001b[0m     \u001b[0;32mdef\u001b[0m \u001b[0m__call__\u001b[0m\u001b[0;34m(\u001b[0m\u001b[0mself\u001b[0m\u001b[0;34m,\u001b[0m \u001b[0;34m*\u001b[0m\u001b[0margs\u001b[0m\u001b[0;34m,\u001b[0m \u001b[0;34m**\u001b[0m\u001b[0mkwargs\u001b[0m\u001b[0;34m)\u001b[0m\u001b[0;34m:\u001b[0m\u001b[0;34m\u001b[0m\u001b[0;34m\u001b[0m\u001b[0m\n",
            "\u001b[0;32m/usr/local/lib/python3.10/dist-packages/numpy/lib/function_base.py\u001b[0m in \u001b[0;36m_vectorize_call\u001b[0;34m(self, func, args)\u001b[0m\n\u001b[1;32m   2453\u001b[0m             \u001b[0minputs\u001b[0m \u001b[0;34m=\u001b[0m \u001b[0;34m[\u001b[0m\u001b[0masanyarray\u001b[0m\u001b[0;34m(\u001b[0m\u001b[0ma\u001b[0m\u001b[0;34m,\u001b[0m \u001b[0mdtype\u001b[0m\u001b[0;34m=\u001b[0m\u001b[0mobject\u001b[0m\u001b[0;34m)\u001b[0m \u001b[0;32mfor\u001b[0m \u001b[0ma\u001b[0m \u001b[0;32min\u001b[0m \u001b[0margs\u001b[0m\u001b[0;34m]\u001b[0m\u001b[0;34m\u001b[0m\u001b[0;34m\u001b[0m\u001b[0m\n\u001b[1;32m   2454\u001b[0m \u001b[0;34m\u001b[0m\u001b[0m\n\u001b[0;32m-> 2455\u001b[0;31m             \u001b[0moutputs\u001b[0m \u001b[0;34m=\u001b[0m \u001b[0mufunc\u001b[0m\u001b[0;34m(\u001b[0m\u001b[0;34m*\u001b[0m\u001b[0minputs\u001b[0m\u001b[0;34m)\u001b[0m\u001b[0;34m\u001b[0m\u001b[0;34m\u001b[0m\u001b[0m\n\u001b[0m\u001b[1;32m   2456\u001b[0m \u001b[0;34m\u001b[0m\u001b[0m\n\u001b[1;32m   2457\u001b[0m             \u001b[0;32mif\u001b[0m \u001b[0mufunc\u001b[0m\u001b[0;34m.\u001b[0m\u001b[0mnout\u001b[0m \u001b[0;34m==\u001b[0m \u001b[0;36m1\u001b[0m\u001b[0;34m:\u001b[0m\u001b[0;34m\u001b[0m\u001b[0;34m\u001b[0m\u001b[0m\n",
            "\u001b[0;32m/usr/local/lib/python3.10/dist-packages/scipy/stats/_distn_infrastructure.py\u001b[0m in \u001b[0;36m_drv2_ppfsingle\u001b[0;34m(self, q, *args)\u001b[0m\n\u001b[1;32m   2990\u001b[0m                 \u001b[0;32mbreak\u001b[0m\u001b[0;34m\u001b[0m\u001b[0;34m\u001b[0m\u001b[0m\n\u001b[1;32m   2991\u001b[0m     \u001b[0;32melse\u001b[0m\u001b[0;34m:\u001b[0m\u001b[0;34m\u001b[0m\u001b[0;34m\u001b[0m\u001b[0m\n\u001b[0;32m-> 2992\u001b[0;31m         \u001b[0mqa\u001b[0m \u001b[0;34m=\u001b[0m \u001b[0mself\u001b[0m\u001b[0;34m.\u001b[0m\u001b[0m_cdf\u001b[0m\u001b[0;34m(\u001b[0m\u001b[0ma\u001b[0m\u001b[0;34m,\u001b[0m \u001b[0;34m*\u001b[0m\u001b[0margs\u001b[0m\u001b[0;34m)\u001b[0m\u001b[0;34m\u001b[0m\u001b[0;34m\u001b[0m\u001b[0m\n\u001b[0m\u001b[1;32m   2993\u001b[0m \u001b[0;34m\u001b[0m\u001b[0m\n\u001b[1;32m   2994\u001b[0m     \u001b[0;32mwhile\u001b[0m \u001b[0;36m1\u001b[0m\u001b[0;34m:\u001b[0m\u001b[0;34m\u001b[0m\u001b[0;34m\u001b[0m\u001b[0m\n",
            "\u001b[0;32m/usr/local/lib/python3.10/dist-packages/scipy/stats/_distn_infrastructure.py\u001b[0m in \u001b[0;36m_cdf\u001b[0;34m(self, x, *args)\u001b[0m\n\u001b[1;32m   3307\u001b[0m     \u001b[0;32mdef\u001b[0m \u001b[0m_cdf\u001b[0m\u001b[0;34m(\u001b[0m\u001b[0mself\u001b[0m\u001b[0;34m,\u001b[0m \u001b[0mx\u001b[0m\u001b[0;34m,\u001b[0m \u001b[0;34m*\u001b[0m\u001b[0margs\u001b[0m\u001b[0;34m)\u001b[0m\u001b[0;34m:\u001b[0m\u001b[0;34m\u001b[0m\u001b[0;34m\u001b[0m\u001b[0m\n\u001b[1;32m   3308\u001b[0m         \u001b[0mk\u001b[0m \u001b[0;34m=\u001b[0m \u001b[0mfloor\u001b[0m\u001b[0;34m(\u001b[0m\u001b[0mx\u001b[0m\u001b[0;34m)\u001b[0m\u001b[0;34m\u001b[0m\u001b[0;34m\u001b[0m\u001b[0m\n\u001b[0;32m-> 3309\u001b[0;31m         \u001b[0;32mreturn\u001b[0m \u001b[0mself\u001b[0m\u001b[0;34m.\u001b[0m\u001b[0m_cdfvec\u001b[0m\u001b[0;34m(\u001b[0m\u001b[0mk\u001b[0m\u001b[0;34m,\u001b[0m \u001b[0;34m*\u001b[0m\u001b[0margs\u001b[0m\u001b[0;34m)\u001b[0m\u001b[0;34m\u001b[0m\u001b[0;34m\u001b[0m\u001b[0m\n\u001b[0m\u001b[1;32m   3310\u001b[0m \u001b[0;34m\u001b[0m\u001b[0m\n\u001b[1;32m   3311\u001b[0m     \u001b[0;31m# generic _logcdf, _sf, _logsf, _ppf, _isf, _rvs defined in rv_generic\u001b[0m\u001b[0;34m\u001b[0m\u001b[0;34m\u001b[0m\u001b[0m\n",
            "\u001b[0;32m/usr/local/lib/python3.10/dist-packages/numpy/lib/function_base.py\u001b[0m in \u001b[0;36m__call__\u001b[0;34m(self, *args, **kwargs)\u001b[0m\n\u001b[1;32m   2370\u001b[0m             \u001b[0;32mreturn\u001b[0m \u001b[0mself\u001b[0m\u001b[0;34m\u001b[0m\u001b[0;34m\u001b[0m\u001b[0m\n\u001b[1;32m   2371\u001b[0m \u001b[0;34m\u001b[0m\u001b[0m\n\u001b[0;32m-> 2372\u001b[0;31m         \u001b[0;32mreturn\u001b[0m \u001b[0mself\u001b[0m\u001b[0;34m.\u001b[0m\u001b[0m_call_as_normal\u001b[0m\u001b[0;34m(\u001b[0m\u001b[0;34m*\u001b[0m\u001b[0margs\u001b[0m\u001b[0;34m,\u001b[0m \u001b[0;34m**\u001b[0m\u001b[0mkwargs\u001b[0m\u001b[0;34m)\u001b[0m\u001b[0;34m\u001b[0m\u001b[0;34m\u001b[0m\u001b[0m\n\u001b[0m\u001b[1;32m   2373\u001b[0m \u001b[0;34m\u001b[0m\u001b[0m\n\u001b[1;32m   2374\u001b[0m     \u001b[0;32mdef\u001b[0m \u001b[0m_get_ufunc_and_otypes\u001b[0m\u001b[0;34m(\u001b[0m\u001b[0mself\u001b[0m\u001b[0;34m,\u001b[0m \u001b[0mfunc\u001b[0m\u001b[0;34m,\u001b[0m \u001b[0margs\u001b[0m\u001b[0;34m)\u001b[0m\u001b[0;34m:\u001b[0m\u001b[0;34m\u001b[0m\u001b[0;34m\u001b[0m\u001b[0m\n",
            "\u001b[0;32m/usr/local/lib/python3.10/dist-packages/numpy/lib/function_base.py\u001b[0m in \u001b[0;36m_call_as_normal\u001b[0;34m(self, *args, **kwargs)\u001b[0m\n\u001b[1;32m   2363\u001b[0m             \u001b[0mvargs\u001b[0m\u001b[0;34m.\u001b[0m\u001b[0mextend\u001b[0m\u001b[0;34m(\u001b[0m\u001b[0;34m[\u001b[0m\u001b[0mkwargs\u001b[0m\u001b[0;34m[\u001b[0m\u001b[0m_n\u001b[0m\u001b[0;34m]\u001b[0m \u001b[0;32mfor\u001b[0m \u001b[0m_n\u001b[0m \u001b[0;32min\u001b[0m \u001b[0mnames\u001b[0m\u001b[0;34m]\u001b[0m\u001b[0;34m)\u001b[0m\u001b[0;34m\u001b[0m\u001b[0;34m\u001b[0m\u001b[0m\n\u001b[1;32m   2364\u001b[0m \u001b[0;34m\u001b[0m\u001b[0m\n\u001b[0;32m-> 2365\u001b[0;31m         \u001b[0;32mreturn\u001b[0m \u001b[0mself\u001b[0m\u001b[0;34m.\u001b[0m\u001b[0m_vectorize_call\u001b[0m\u001b[0;34m(\u001b[0m\u001b[0mfunc\u001b[0m\u001b[0;34m=\u001b[0m\u001b[0mfunc\u001b[0m\u001b[0;34m,\u001b[0m \u001b[0margs\u001b[0m\u001b[0;34m=\u001b[0m\u001b[0mvargs\u001b[0m\u001b[0;34m)\u001b[0m\u001b[0;34m\u001b[0m\u001b[0;34m\u001b[0m\u001b[0m\n\u001b[0m\u001b[1;32m   2366\u001b[0m \u001b[0;34m\u001b[0m\u001b[0m\n\u001b[1;32m   2367\u001b[0m     \u001b[0;32mdef\u001b[0m \u001b[0m__call__\u001b[0m\u001b[0;34m(\u001b[0m\u001b[0mself\u001b[0m\u001b[0;34m,\u001b[0m \u001b[0;34m*\u001b[0m\u001b[0margs\u001b[0m\u001b[0;34m,\u001b[0m \u001b[0;34m**\u001b[0m\u001b[0mkwargs\u001b[0m\u001b[0;34m)\u001b[0m\u001b[0;34m:\u001b[0m\u001b[0;34m\u001b[0m\u001b[0;34m\u001b[0m\u001b[0m\n",
            "\u001b[0;32m/usr/local/lib/python3.10/dist-packages/numpy/lib/function_base.py\u001b[0m in \u001b[0;36m_vectorize_call\u001b[0;34m(self, func, args)\u001b[0m\n\u001b[1;32m   2453\u001b[0m             \u001b[0minputs\u001b[0m \u001b[0;34m=\u001b[0m \u001b[0;34m[\u001b[0m\u001b[0masanyarray\u001b[0m\u001b[0;34m(\u001b[0m\u001b[0ma\u001b[0m\u001b[0;34m,\u001b[0m \u001b[0mdtype\u001b[0m\u001b[0;34m=\u001b[0m\u001b[0mobject\u001b[0m\u001b[0;34m)\u001b[0m \u001b[0;32mfor\u001b[0m \u001b[0ma\u001b[0m \u001b[0;32min\u001b[0m \u001b[0margs\u001b[0m\u001b[0;34m]\u001b[0m\u001b[0;34m\u001b[0m\u001b[0;34m\u001b[0m\u001b[0m\n\u001b[1;32m   2454\u001b[0m \u001b[0;34m\u001b[0m\u001b[0m\n\u001b[0;32m-> 2455\u001b[0;31m             \u001b[0moutputs\u001b[0m \u001b[0;34m=\u001b[0m \u001b[0mufunc\u001b[0m\u001b[0;34m(\u001b[0m\u001b[0;34m*\u001b[0m\u001b[0minputs\u001b[0m\u001b[0;34m)\u001b[0m\u001b[0;34m\u001b[0m\u001b[0;34m\u001b[0m\u001b[0m\n\u001b[0m\u001b[1;32m   2456\u001b[0m \u001b[0;34m\u001b[0m\u001b[0m\n\u001b[1;32m   2457\u001b[0m             \u001b[0;32mif\u001b[0m \u001b[0mufunc\u001b[0m\u001b[0;34m.\u001b[0m\u001b[0mnout\u001b[0m \u001b[0;34m==\u001b[0m \u001b[0;36m1\u001b[0m\u001b[0;34m:\u001b[0m\u001b[0;34m\u001b[0m\u001b[0;34m\u001b[0m\u001b[0m\n",
            "\u001b[0;32m/usr/local/lib/python3.10/dist-packages/scipy/stats/_distn_infrastructure.py\u001b[0m in \u001b[0;36m_cdf_single\u001b[0;34m(self, k, *args)\u001b[0m\n\u001b[1;32m   3303\u001b[0m         \u001b[0m_a\u001b[0m\u001b[0;34m,\u001b[0m \u001b[0m_b\u001b[0m \u001b[0;34m=\u001b[0m \u001b[0mself\u001b[0m\u001b[0;34m.\u001b[0m\u001b[0m_get_support\u001b[0m\u001b[0;34m(\u001b[0m\u001b[0;34m*\u001b[0m\u001b[0margs\u001b[0m\u001b[0;34m)\u001b[0m\u001b[0;34m\u001b[0m\u001b[0;34m\u001b[0m\u001b[0m\n\u001b[1;32m   3304\u001b[0m         \u001b[0mm\u001b[0m \u001b[0;34m=\u001b[0m \u001b[0marange\u001b[0m\u001b[0;34m(\u001b[0m\u001b[0mint\u001b[0m\u001b[0;34m(\u001b[0m\u001b[0m_a\u001b[0m\u001b[0;34m)\u001b[0m\u001b[0;34m,\u001b[0m \u001b[0mk\u001b[0m\u001b[0;34m+\u001b[0m\u001b[0;36m1\u001b[0m\u001b[0;34m)\u001b[0m\u001b[0;34m\u001b[0m\u001b[0;34m\u001b[0m\u001b[0m\n\u001b[0;32m-> 3305\u001b[0;31m         \u001b[0;32mreturn\u001b[0m \u001b[0mnp\u001b[0m\u001b[0;34m.\u001b[0m\u001b[0msum\u001b[0m\u001b[0;34m(\u001b[0m\u001b[0mself\u001b[0m\u001b[0;34m.\u001b[0m\u001b[0m_pmf\u001b[0m\u001b[0;34m(\u001b[0m\u001b[0mm\u001b[0m\u001b[0;34m,\u001b[0m \u001b[0;34m*\u001b[0m\u001b[0margs\u001b[0m\u001b[0;34m)\u001b[0m\u001b[0;34m,\u001b[0m \u001b[0maxis\u001b[0m\u001b[0;34m=\u001b[0m\u001b[0;36m0\u001b[0m\u001b[0;34m)\u001b[0m\u001b[0;34m\u001b[0m\u001b[0;34m\u001b[0m\u001b[0m\n\u001b[0m\u001b[1;32m   3306\u001b[0m \u001b[0;34m\u001b[0m\u001b[0m\n\u001b[1;32m   3307\u001b[0m     \u001b[0;32mdef\u001b[0m \u001b[0m_cdf\u001b[0m\u001b[0;34m(\u001b[0m\u001b[0mself\u001b[0m\u001b[0;34m,\u001b[0m \u001b[0mx\u001b[0m\u001b[0;34m,\u001b[0m \u001b[0;34m*\u001b[0m\u001b[0margs\u001b[0m\u001b[0;34m)\u001b[0m\u001b[0;34m:\u001b[0m\u001b[0;34m\u001b[0m\u001b[0;34m\u001b[0m\u001b[0m\n",
            "\u001b[0;32m/usr/local/lib/python3.10/dist-packages/scipy/stats/_distn_infrastructure.py\u001b[0m in \u001b[0;36m_pmf\u001b[0;34m(self, k, *args)\u001b[0m\n\u001b[1;32m   3280\u001b[0m \u001b[0;34m\u001b[0m\u001b[0m\n\u001b[1;32m   3281\u001b[0m     \u001b[0;32mdef\u001b[0m \u001b[0m_pmf\u001b[0m\u001b[0;34m(\u001b[0m\u001b[0mself\u001b[0m\u001b[0;34m,\u001b[0m \u001b[0mk\u001b[0m\u001b[0;34m,\u001b[0m \u001b[0;34m*\u001b[0m\u001b[0margs\u001b[0m\u001b[0;34m)\u001b[0m\u001b[0;34m:\u001b[0m\u001b[0;34m\u001b[0m\u001b[0;34m\u001b[0m\u001b[0m\n\u001b[0;32m-> 3282\u001b[0;31m         \u001b[0;32mreturn\u001b[0m \u001b[0mself\u001b[0m\u001b[0;34m.\u001b[0m\u001b[0m_cdf\u001b[0m\u001b[0;34m(\u001b[0m\u001b[0mk\u001b[0m\u001b[0;34m,\u001b[0m \u001b[0;34m*\u001b[0m\u001b[0margs\u001b[0m\u001b[0;34m)\u001b[0m \u001b[0;34m-\u001b[0m \u001b[0mself\u001b[0m\u001b[0;34m.\u001b[0m\u001b[0m_cdf\u001b[0m\u001b[0;34m(\u001b[0m\u001b[0mk\u001b[0m\u001b[0;34m-\u001b[0m\u001b[0;36m1\u001b[0m\u001b[0;34m,\u001b[0m \u001b[0;34m*\u001b[0m\u001b[0margs\u001b[0m\u001b[0;34m)\u001b[0m\u001b[0;34m\u001b[0m\u001b[0;34m\u001b[0m\u001b[0m\n\u001b[0m\u001b[1;32m   3283\u001b[0m \u001b[0;34m\u001b[0m\u001b[0m\n\u001b[1;32m   3284\u001b[0m     \u001b[0;32mdef\u001b[0m \u001b[0m_logpmf\u001b[0m\u001b[0;34m(\u001b[0m\u001b[0mself\u001b[0m\u001b[0;34m,\u001b[0m \u001b[0mk\u001b[0m\u001b[0;34m,\u001b[0m \u001b[0;34m*\u001b[0m\u001b[0margs\u001b[0m\u001b[0;34m)\u001b[0m\u001b[0;34m:\u001b[0m\u001b[0;34m\u001b[0m\u001b[0;34m\u001b[0m\u001b[0m\n",
            "... last 6 frames repeated, from the frame below ...\n",
            "\u001b[0;32m/usr/local/lib/python3.10/dist-packages/scipy/stats/_distn_infrastructure.py\u001b[0m in \u001b[0;36m_cdf\u001b[0;34m(self, x, *args)\u001b[0m\n\u001b[1;32m   3307\u001b[0m     \u001b[0;32mdef\u001b[0m \u001b[0m_cdf\u001b[0m\u001b[0;34m(\u001b[0m\u001b[0mself\u001b[0m\u001b[0;34m,\u001b[0m \u001b[0mx\u001b[0m\u001b[0;34m,\u001b[0m \u001b[0;34m*\u001b[0m\u001b[0margs\u001b[0m\u001b[0;34m)\u001b[0m\u001b[0;34m:\u001b[0m\u001b[0;34m\u001b[0m\u001b[0;34m\u001b[0m\u001b[0m\n\u001b[1;32m   3308\u001b[0m         \u001b[0mk\u001b[0m \u001b[0;34m=\u001b[0m \u001b[0mfloor\u001b[0m\u001b[0;34m(\u001b[0m\u001b[0mx\u001b[0m\u001b[0;34m)\u001b[0m\u001b[0;34m\u001b[0m\u001b[0;34m\u001b[0m\u001b[0m\n\u001b[0;32m-> 3309\u001b[0;31m         \u001b[0;32mreturn\u001b[0m \u001b[0mself\u001b[0m\u001b[0;34m.\u001b[0m\u001b[0m_cdfvec\u001b[0m\u001b[0;34m(\u001b[0m\u001b[0mk\u001b[0m\u001b[0;34m,\u001b[0m \u001b[0;34m*\u001b[0m\u001b[0margs\u001b[0m\u001b[0;34m)\u001b[0m\u001b[0;34m\u001b[0m\u001b[0;34m\u001b[0m\u001b[0m\n\u001b[0m\u001b[1;32m   3310\u001b[0m \u001b[0;34m\u001b[0m\u001b[0m\n\u001b[1;32m   3311\u001b[0m     \u001b[0;31m# generic _logcdf, _sf, _logsf, _ppf, _isf, _rvs defined in rv_generic\u001b[0m\u001b[0;34m\u001b[0m\u001b[0;34m\u001b[0m\u001b[0m\n",
            "\u001b[0;31mRecursionError\u001b[0m: maximum recursion depth exceeded"
          ]
        }
      ]
    },
    {
      "cell_type": "code",
      "source": [
        "#Create a Python function to generate random samples from a given probability distribution (e.g.,\n",
        "#binomial, Poisson) and calculate their mean and variance."
      ],
      "metadata": {
        "id": "aWzlgvOwWAy3"
      },
      "execution_count": null,
      "outputs": []
    },
    {
      "cell_type": "code",
      "source": [
        "import numpy as np\n",
        "\n",
        "def generate_normal_samples(mu, sigma, size):\n",
        "    return np.random.normal(mu, sigma, size)\n",
        "\n",
        "random_samples = generate_normal_samples(mu=10, sigma=2, size=1000)\n",
        "\n",
        "from scipy.stats import binom\n",
        "\n",
        "def generate_binomial_samples(n, p, size):\n",
        "    return binom.rvs(n, p, size=size)\n",
        "\n",
        "random_samples_binomial = generate_binomial_samples(n=10, p=0.3, size=1000)\n",
        "\n",
        "def generate_poisson_samples(lmbda, size):\n",
        "    return np.random.poisson(lmbda, size)\n",
        "\n",
        "\n",
        "random_samples_poisson = generate_poisson_samples(lmbda=5, size=1000)\n",
        "\n",
        "def calculate_mean_and_variance(samples):\n",
        "    mean_val = np.mean(samples)\n",
        "    variance_val = np.var(samples, ddof=1)  # Use ddof=1 for sample data\n",
        "    return mean_val, variance_val\n",
        "\n",
        "\n",
        "mean, variance = calculate_mean_and_variance(random_samples)\n"
      ],
      "metadata": {
        "id": "bATz0Oe5W0Xh"
      },
      "execution_count": null,
      "outputs": []
    },
    {
      "cell_type": "code",
      "source": [
        "random_samples"
      ],
      "metadata": {
        "colab": {
          "base_uri": "https://localhost:8080/"
        },
        "id": "FtK1lROqW-44",
        "outputId": "dcdae6e3-e85b-42d6-9a25-2006f5926d9d"
      },
      "execution_count": null,
      "outputs": [
        {
          "output_type": "execute_result",
          "data": {
            "text/plain": [
              "array([ 7.86326898,  6.63457362,  8.45454734, 10.68244539,  9.56401151,\n",
              "       11.90746635,  9.62656567,  6.85012215,  9.58232055, 10.38267449,\n",
              "       11.01577159,  6.21473005, 11.56580448,  9.62835065, 11.50266385,\n",
              "       10.71493748,  9.81615164, 11.20822739,  9.79999199,  7.76707705,\n",
              "       10.94142804, 11.60885962, 12.26025596,  8.64926392, 12.22467841,\n",
              "        8.22627914,  9.44429878, 11.04730363, 12.21783295,  8.01226692,\n",
              "        7.66770655, 10.30445488, 13.34737975, 12.86163143,  7.91110279,\n",
              "       13.38139125,  6.43013109,  4.82545905,  9.8796639 , 12.07954041,\n",
              "       10.98039091, 12.16472999, 10.38165542,  7.36967003,  8.83059206,\n",
              "        8.59315578,  9.60432779, 13.0692501 ,  7.47643527, 10.64769703,\n",
              "        8.32316473,  9.5475315 ,  8.28439976,  8.43766645,  9.45459899,\n",
              "        9.12775612, 11.44770642, 10.10034092,  8.32001788,  3.87964532,\n",
              "       11.73323371,  8.76203552, 12.18957219, 11.43090805,  8.74137823,\n",
              "       11.87572898, 12.19343758, 10.69535283,  9.68470658,  9.67672848,\n",
              "        8.44386818,  5.66852308,  9.36533948,  9.77156017, 10.91231176,\n",
              "       11.98370597,  8.56219413, 10.13066943,  8.49636607,  9.39083366,\n",
              "       10.87782894, 10.46690286, 11.67852151,  9.24859607,  7.33326888,\n",
              "        8.81157196, 11.1645904 , 10.20656541,  8.35142344,  7.99548843,\n",
              "        8.13995482,  9.88895479,  8.0091317 , 13.51779931,  7.06912329,\n",
              "        9.86933164,  8.75320959, 12.46586023, 10.46446212, 10.08510591,\n",
              "        9.27936391, 12.84250384, 10.44446273, 11.21935479,  9.78966039,\n",
              "       10.43126849,  9.49208917,  9.57287085,  9.45931627, 10.01861242,\n",
              "       14.04317133, 10.41086079,  6.63693967, 13.67898686, 13.40005876,\n",
              "       11.57061307,  8.84876277, 11.07142793, 10.65036692,  7.25573339,\n",
              "        6.52875323,  9.33216485,  9.32326559, 11.2838462 , 14.00562546,\n",
              "        9.70630483,  8.35580294,  8.34396944, 10.42969327, 11.29379589,\n",
              "       11.99736776,  7.54780204,  9.75107846,  7.45773217, 10.5684829 ,\n",
              "        7.05326866, 10.03856569,  8.12751349, 11.83369135,  8.66347191,\n",
              "       13.10798449,  9.38154145, 10.24867026,  9.3719908 , 12.42251612,\n",
              "       12.53936518, 11.75694102, 13.56608271, 10.61368717,  6.17854916,\n",
              "       14.51533214,  7.39802605,  8.72288077,  9.54610864,  7.98462141,\n",
              "       10.94601088,  9.25274907,  8.98226924,  8.19354606, 10.39379244,\n",
              "        9.97284593, 10.28774548, 11.17206644, 12.70461581,  9.54573488,\n",
              "        5.62695598, 10.2375057 , 11.66911891, 10.54871586,  8.08451332,\n",
              "       11.10571275,  7.23515206, 14.94547012, 11.88529394,  7.27628956,\n",
              "       10.39103778,  9.54871296, 12.07808767,  9.70278172, 10.15117238,\n",
              "        6.89522274,  9.84760486,  8.75969494,  9.66902603, 10.06575548,\n",
              "       10.26188046, 10.96481148,  8.07620783, 10.49676242, 11.69567911,\n",
              "        9.55939936,  6.99384891,  9.95461386,  6.18761663, 10.59748697,\n",
              "        8.286149  , 10.08992045, 10.45693893, 10.95352226, 10.82666927,\n",
              "        9.74183219,  9.96618009, 10.93916881, 12.99644533, 10.88937958,\n",
              "       10.43187162,  5.97667562,  9.34038797, 11.67400573, 10.91416677,\n",
              "       10.74584109,  7.23169233,  9.2177768 , 11.15516472, 10.05195647,\n",
              "       11.18817813,  8.40626064, 10.15717467,  8.6526519 ,  9.25142766,\n",
              "       10.78152143, 10.19739388,  9.98517672, 10.28160716,  8.22004956,\n",
              "        8.07018894,  7.5713301 , 13.13123726,  8.11843047,  8.45196771,\n",
              "        9.17614351,  9.79214166, 11.13427268,  7.45900994,  8.6410547 ,\n",
              "       11.56391043,  8.05535306,  8.44029678,  9.6510192 , 14.41594433,\n",
              "       11.68673814, 10.87355893, 11.19815529, 10.95315028, 10.5757832 ,\n",
              "        9.23848948,  8.70523371, 11.64398612,  9.29777709,  9.53692275,\n",
              "       11.19581731,  9.75454419, 12.67635788,  8.96135406, 10.87554632,\n",
              "        4.4655496 , 11.72618805, 12.62088694, 13.18868298,  7.64373249,\n",
              "       12.61131145,  6.96888175, 10.67454068,  8.35913819, 11.75971205,\n",
              "       11.0163456 , 15.26641667, 14.19931563, 10.27718523, 10.77036169,\n",
              "       12.39883792,  9.70229537, 11.59767994, 10.76849795,  7.75138702,\n",
              "        9.77006634,  8.34285275, 13.11212475, 13.8139769 , 10.16142339,\n",
              "        7.2662057 ,  7.74454467,  8.52434178, 11.34390036,  9.20802689,\n",
              "        7.43141293,  9.31054405,  9.55601225, 12.09584207,  9.02844298,\n",
              "        6.21697965,  7.13808653,  8.62502103, 12.32382217, 12.13984817,\n",
              "       11.64898542, 11.15842313,  8.88564748, 10.33259153,  8.42661884,\n",
              "        9.48939644,  8.11436753,  5.62005369, 10.90070545,  9.53522972,\n",
              "        6.94961947, 11.46139867,  8.2900393 ,  8.22320045,  5.87852943,\n",
              "       10.1214949 ,  8.92276467,  8.08496801,  8.86535316, 13.28525698,\n",
              "       12.14064786, 10.79639537, 10.77952863, 11.27644435,  7.8402342 ,\n",
              "        8.97018263,  8.43501988, 10.22117847,  9.69925684, 11.69235969,\n",
              "        8.85085575, 11.41073235,  9.79348944,  8.78995138, 11.14665478,\n",
              "        7.92416412, 12.38951689, 12.58556092, 12.96517168, 14.86325646,\n",
              "       13.78743792,  6.456326  ,  8.57492906, 10.69560833, 10.00103642,\n",
              "       11.21649904,  9.9201387 , 13.8560847 , 10.47333024, 11.29777432,\n",
              "       12.32358475, 10.17841535,  7.88781994, 13.13293038, 11.13232397,\n",
              "       11.86697719,  9.17155906,  7.47069581,  9.47166128, 12.58081084,\n",
              "        6.62342102, 10.63677035, 13.92472773,  9.26829638,  8.84305885,\n",
              "       12.37729845, 12.10739006,  8.39507004, 10.53247133,  8.81738581,\n",
              "       10.53857978, 11.35215613,  8.33876068, 11.72678876,  8.2093373 ,\n",
              "        8.70472341,  9.13319762, 11.77639834,  9.06194757,  9.77942424,\n",
              "       11.99973701, 13.23048651,  6.04668733, 11.13734315,  6.45524121,\n",
              "        9.99859166,  7.67915537,  9.38352067, 11.23830505, 10.43439351,\n",
              "        8.65440576, 10.4333021 ,  7.63817324,  8.92601065, 13.12287452,\n",
              "       11.92722206,  9.12061481, 10.45979819, 12.71516659, 12.30626141,\n",
              "       15.97652056,  7.86092581, 13.09322478,  8.92015312,  5.80030644,\n",
              "        9.52556283,  6.49279639,  6.78274896, 10.27558979,  8.91438336,\n",
              "       10.26520011,  4.78194773,  9.21503476, 10.5960916 ,  9.00906306,\n",
              "       13.1542525 , 11.60499513, 13.63654917, 13.29384611,  8.20114921,\n",
              "       10.89018423,  7.43145564, 11.7802149 ,  8.71632279, 11.82474325,\n",
              "       11.42200777, 11.75999142, 10.32880219, 13.04766136,  8.80727688,\n",
              "       12.80838343, 11.31738119,  8.01032176,  7.95809857, 11.74128829,\n",
              "        7.86151602,  9.60838057, 11.4726666 ,  8.80585794,  9.57758265,\n",
              "       10.4230175 ,  6.6655798 , 10.77463128,  9.44961947,  9.55975168,\n",
              "        9.45789693, 10.52785415, 10.63337186, 11.97798962,  8.14066245,\n",
              "        6.87419656, 12.34029575,  8.56002474,  9.16326063,  7.95478224,\n",
              "        5.50524816, 11.80624125,  9.00896867, 10.99163434,  8.5130327 ,\n",
              "       13.34696756,  9.87618038, 13.09659339, 12.06654939,  7.99463011,\n",
              "        6.42351436, 10.06675322,  6.75502212, 12.53060073,  9.03003064,\n",
              "       10.94952115,  8.11223205, 12.42761527,  7.7629813 , 13.06531105,\n",
              "       11.89468298, 11.59055472, 10.21627334, 12.04459854,  8.61074761,\n",
              "       11.75004576,  7.88139897,  8.57716087,  8.91368281, 10.44606722,\n",
              "       10.22386299, 11.07969015, 10.37948321,  9.26219691,  9.87958023,\n",
              "       12.78711774,  9.73485044,  8.27765979, 11.1529564 , 10.24792115,\n",
              "       10.33547887, 11.59851091, 13.06316295,  8.14784131, 13.37181287,\n",
              "       10.80985927, 10.48336579,  9.88077193, 10.5687215 , 11.19682078,\n",
              "        9.68157928,  8.96818936, 11.46344669,  6.16077915,  6.79074506,\n",
              "       10.65889722,  9.22132747, 10.85447081,  6.95453473, 10.89675069,\n",
              "        8.82883462,  8.16050152, 11.40134015,  8.45445007,  7.18731107,\n",
              "       10.15835855, 11.78342007, 14.51711059,  8.07846885, 12.02834444,\n",
              "       10.30103955,  7.93629264, 12.70911433, 10.29789599, 10.6183989 ,\n",
              "        9.77709201, 10.37186659, 12.86360111, 13.1585486 ,  9.55343483,\n",
              "       10.69132213, 13.31749811,  8.99839852, 10.93427453, 10.97018645,\n",
              "        9.6201227 , 10.06971287, 10.70987277, 10.00781949, 10.58863011,\n",
              "       10.8951056 ,  9.21543682,  9.90770659, 12.38542415, 14.97640551,\n",
              "       13.25038955,  8.12957784, 10.12372965, 10.06891494, 10.66472769,\n",
              "        8.5056548 ,  9.00104494,  9.08219852, 12.87866376,  8.53634825,\n",
              "       10.04312364, 10.69097877,  7.96522753,  6.00357964,  6.28547426,\n",
              "       13.13671304,  7.90941397,  7.66678892,  9.36450599,  8.23198523,\n",
              "        8.66132596,  7.6484552 , 10.50208697, 11.10338575,  5.48610917,\n",
              "       10.31279008, 11.27948085, 10.52976712, 10.69918869,  9.1712849 ,\n",
              "        9.18223073,  7.93543474, 10.46877798, 10.41251097, 12.29967625,\n",
              "        8.31649831, 11.96109256, 12.83167295,  8.72687034, 10.18178037,\n",
              "       10.96253319, 12.64756049,  9.97455711, 11.75142167, 12.7711496 ,\n",
              "        7.27488077,  9.88242014, 11.65105658,  8.47648002,  9.62075465,\n",
              "       10.58068745, 11.55824035,  8.82969172, 10.28860839,  9.06839957,\n",
              "       13.80379531,  8.22933529,  9.73044548, 12.77620555, 12.01771049,\n",
              "       12.63668162, 10.22150184,  9.09184939,  6.95261049,  9.60479787,\n",
              "        9.74143717,  7.32060837, 12.42597273, 10.52602273, 10.25181756,\n",
              "       10.98962124, 12.63754559,  8.68471459,  8.48637092,  8.26455508,\n",
              "        9.42108276,  9.10296572, 13.55652713, 10.71398471,  8.83629147,\n",
              "       10.45041723, 11.12793379,  8.36147085, 13.64807576, 10.73628126,\n",
              "       13.17720773, 13.98673812,  9.50983291, 14.57998579, 12.41663185,\n",
              "       12.97736916,  8.33082691, 11.27295132,  7.47639298, 11.23337328,\n",
              "       11.73523682, 11.50241783,  9.05859161,  5.11389133, 10.27013645,\n",
              "       11.14856906,  8.18064524, 10.58256467,  7.9628968 ,  6.56089267,\n",
              "        8.58310919,  9.40408389, 10.31778362, 12.31647606, 12.73527973,\n",
              "        7.81470522, 11.57011923, 10.4983937 , 10.35946184,  9.79908369,\n",
              "        9.84515302,  7.24302056,  9.02196276,  9.87986074, 14.04176154,\n",
              "        9.45280976,  7.66795322, 11.13842795,  7.90909748, 12.13510908,\n",
              "       12.65855694,  8.70909905,  8.46850835,  6.72752907,  6.39478077,\n",
              "        9.53580295,  9.6445168 ,  5.40379742, 10.86541277, 13.07524513,\n",
              "        7.57495183,  8.83313864,  7.52237419, 10.10956716,  4.6895626 ,\n",
              "       13.8290154 ,  7.88439492, 11.26169733,  8.95071365,  6.9899585 ,\n",
              "        9.86882933, 11.79330213,  7.80514904, 11.77581437,  9.77703847,\n",
              "        6.80163521, 11.69399561, 11.8220887 , 10.8771295 ,  8.86497099,\n",
              "        9.03409058,  9.09798716,  8.50285573, 13.8064051 ,  9.49570325,\n",
              "        7.67765866, 15.27182894, 12.03602942, 13.62087027, 12.17274969,\n",
              "       11.45404317, 11.44016266, 12.95817235,  7.1830568 , 11.47937236,\n",
              "       10.10033451,  9.35901028,  8.67225182,  7.62762877, 11.82588575,\n",
              "       11.88630347,  6.25591514,  6.73389341,  5.25624905, 11.37606749,\n",
              "        7.72231639,  6.74747733,  8.29909141,  9.63499844, 10.30499085,\n",
              "        8.68059863,  8.1245997 ,  9.02190147,  8.9039561 ,  8.56644643,\n",
              "        7.5359138 ,  8.61215857, 11.11232788, 11.43583186,  9.3828772 ,\n",
              "       12.84168383,  7.85232474,  6.50561097,  8.87005188, 10.54325234,\n",
              "        9.836965  , 12.15389277,  9.15856248,  4.94394887, 10.2658876 ,\n",
              "       10.43001906,  8.40979953, 11.45233777,  7.76423516, 10.45554237,\n",
              "        9.24457923,  8.43500369, 15.62175998,  9.71687832, 11.41162195,\n",
              "       10.58406496,  9.88978409,  4.47034771,  9.04248201, 10.98392929,\n",
              "       10.0054854 ,  9.32605776, 11.35273317,  7.77850518, 11.21955625,\n",
              "       10.99574104, 14.92557206, 12.2811325 , 12.35414026,  8.62192974,\n",
              "       12.76172119, 10.93544114,  8.10347449,  7.05950225,  7.91807087,\n",
              "        9.90182561, 12.18637663, 10.40551758, 10.97246819,  9.95615993,\n",
              "        7.78397435, 10.19341842,  9.62557784, 12.10886595,  9.44862941,\n",
              "       11.79458265, 12.33567884, 11.77306808,  8.17441687, 10.50795888,\n",
              "        8.96848291, 11.16986319, 10.0887687 , 12.43223595,  8.96570517,\n",
              "        8.53089557, 10.49871106, 10.34552741, 11.60251301, 13.38609985,\n",
              "       11.14111283,  5.91701255,  8.6460689 ,  6.09916353,  6.82833426,\n",
              "       11.15669555, 10.11178668,  6.97862756, 14.04734332,  7.94936752,\n",
              "       11.89065607,  6.88577942, 12.41258102, 13.14250576,  9.86693775,\n",
              "        6.19039813,  9.91257772, 12.74867978, 12.0934297 , 12.06636218,\n",
              "       11.88799779, 12.85862744,  6.83101192,  9.92520482, 10.70298394,\n",
              "        8.40232906, 14.51248551, 11.07243784,  9.10368586,  9.82174424,\n",
              "        7.05722158,  7.5424026 ,  7.14302178,  9.83766023,  9.71276134,\n",
              "        7.25367282,  6.56729678, 11.378622  ,  9.71946984, 14.25996633,\n",
              "       11.96501149, 10.70991338,  6.88079788,  6.61717581,  9.13786004,\n",
              "        7.34356577,  9.50331378,  9.33441711, 12.18935366,  6.5306486 ,\n",
              "       10.01896956,  9.77690858, 10.19753475,  9.41901463,  9.08223363,\n",
              "       11.42122839,  8.57269284, 12.90421309,  9.04541176,  8.78029327,\n",
              "        9.80106016,  7.95867539, 12.69588127, 13.82868575, 11.54728249,\n",
              "        9.73123598,  9.78285939,  9.36003703, 10.57681325,  9.78574889,\n",
              "       11.72471603, 11.92510622, 10.20754057,  8.43257177, 11.04309723,\n",
              "       12.84625825, 12.53193781,  9.15524779, 12.4583209 , 11.1142645 ,\n",
              "       14.34528719, 14.58165313,  8.70498788,  8.99161727, 12.28431413,\n",
              "       11.31143957,  9.33994674, 11.68440553, 10.10459627, 10.01282223,\n",
              "        7.00606242,  7.54681435,  5.83250047, 10.99543947,  6.0055939 ,\n",
              "       10.72459071, 11.03041144,  9.39252242,  9.48494244, 10.56081116,\n",
              "       11.89953607, 10.71519389, 10.76092849,  9.05845716,  9.18138143,\n",
              "       11.29750202,  9.01699335, 11.37048747, 11.64050405, 11.27516839,\n",
              "        8.99821922, 11.65076524, 10.937876  , 10.17813844, 10.61170676,\n",
              "        8.28527933, 11.85544654,  9.98992675,  8.78363692, 11.35440798,\n",
              "        9.59167209, 10.40393266, 11.45903073,  8.97936311, 10.89208209,\n",
              "       11.66625013, 10.01399867, 12.20950531, 10.47531992, 12.37959375,\n",
              "        6.93793698, 11.93393241,  9.48010421,  9.07618005,  7.30449416,\n",
              "       10.9531459 ,  8.43342322,  9.44883752, 11.57016087,  6.90516993,\n",
              "       11.31583502, 11.78912804, 10.16752907, 10.88560416, 10.32697102,\n",
              "        8.73459419, 10.39521287, 10.17977478,  7.77739373, 14.31608943,\n",
              "        7.43232924,  9.04805682, 12.05835044,  8.77353811, 10.2242924 ,\n",
              "       10.2037734 , 10.96035632, 12.62819842, 12.7465272 ,  8.13813898,\n",
              "       10.4541165 ,  9.83391131, 11.99463152,  5.9666884 ,  9.05592103,\n",
              "        9.21777606,  8.92541169,  7.30242153,  8.51360473,  8.38910876,\n",
              "        8.43100548, 13.31964501,  9.36507377, 10.0583051 ,  9.44113401,\n",
              "       11.91763088, 10.23271327,  8.38625978,  8.31243963,  7.04742011,\n",
              "        9.75285162, 10.55145241,  7.02698971,  7.63200391, 10.07744729,\n",
              "        8.95062045, 11.35114733, 11.33399508, 10.01315514,  9.0756047 ,\n",
              "        7.43976677, 11.8003513 ,  7.81066826, 10.16038114,  9.78524065])"
            ]
          },
          "metadata": {},
          "execution_count": 57
        }
      ]
    },
    {
      "cell_type": "code",
      "source": [
        "random_samples_binomial"
      ],
      "metadata": {
        "colab": {
          "base_uri": "https://localhost:8080/"
        },
        "id": "aOexGEgpYYor",
        "outputId": "46564782-6ae7-4c52-d77e-5d1eaf107077"
      },
      "execution_count": null,
      "outputs": [
        {
          "output_type": "execute_result",
          "data": {
            "text/plain": [
              "array([4, 3, 1, 1, 1, 3, 3, 5, 1, 3, 2, 1, 5, 6, 2, 1, 4, 4, 4, 3, 2, 2,\n",
              "       3, 0, 5, 4, 2, 5, 5, 3, 3, 3, 2, 4, 0, 4, 1, 0, 1, 1, 4, 6, 2, 2,\n",
              "       0, 3, 0, 0, 2, 3, 2, 5, 3, 2, 3, 5, 4, 2, 4, 1, 3, 4, 4, 5, 6, 6,\n",
              "       3, 2, 3, 2, 2, 4, 4, 2, 3, 2, 4, 4, 4, 4, 3, 3, 2, 4, 4, 5, 3, 2,\n",
              "       3, 3, 2, 1, 3, 3, 3, 1, 2, 1, 4, 2, 5, 5, 3, 3, 5, 3, 3, 3, 2, 3,\n",
              "       2, 3, 3, 4, 0, 3, 4, 2, 2, 1, 3, 2, 1, 5, 2, 5, 5, 3, 4, 2, 3, 6,\n",
              "       5, 1, 1, 1, 2, 4, 1, 1, 2, 3, 3, 4, 2, 2, 4, 1, 3, 2, 4, 3, 1, 4,\n",
              "       5, 2, 4, 3, 2, 3, 3, 1, 3, 4, 2, 4, 3, 4, 3, 1, 2, 3, 4, 2, 0, 2,\n",
              "       1, 4, 1, 1, 1, 6, 6, 5, 1, 7, 4, 1, 0, 3, 1, 4, 4, 2, 2, 2, 3, 6,\n",
              "       2, 2, 2, 3, 4, 2, 3, 4, 3, 2, 5, 6, 2, 2, 3, 2, 3, 4, 2, 3, 4, 6,\n",
              "       2, 6, 1, 3, 4, 2, 3, 3, 3, 5, 2, 4, 5, 4, 0, 3, 3, 5, 1, 3, 2, 0,\n",
              "       3, 2, 3, 4, 5, 4, 1, 4, 3, 2, 2, 6, 2, 3, 3, 3, 5, 3, 1, 5, 3, 5,\n",
              "       3, 6, 3, 4, 2, 4, 1, 2, 4, 4, 4, 2, 2, 3, 3, 2, 5, 2, 4, 2, 6, 3,\n",
              "       4, 1, 4, 1, 3, 3, 3, 2, 1, 3, 4, 5, 1, 0, 4, 2, 1, 5, 4, 4, 1, 5,\n",
              "       2, 2, 4, 3, 3, 3, 2, 2, 2, 2, 6, 5, 2, 2, 3, 1, 7, 1, 1, 4, 6, 4,\n",
              "       2, 2, 4, 7, 2, 3, 4, 0, 4, 5, 2, 2, 4, 4, 3, 4, 4, 5, 3, 5, 2, 4,\n",
              "       1, 1, 3, 2, 2, 2, 3, 4, 4, 3, 2, 3, 3, 5, 2, 1, 0, 4, 2, 4, 7, 4,\n",
              "       4, 4, 6, 2, 5, 4, 1, 2, 0, 3, 3, 2, 4, 3, 4, 4, 3, 3, 1, 4, 2, 5,\n",
              "       4, 3, 1, 5, 2, 5, 3, 6, 2, 2, 2, 2, 4, 2, 4, 1, 5, 5, 4, 2, 7, 2,\n",
              "       4, 2, 4, 4, 1, 5, 2, 3, 2, 3, 2, 5, 3, 3, 2, 3, 2, 3, 6, 3, 2, 3,\n",
              "       2, 2, 2, 3, 5, 1, 2, 4, 1, 2, 2, 2, 3, 0, 3, 3, 2, 1, 3, 3, 2, 3,\n",
              "       0, 3, 5, 2, 2, 4, 1, 1, 6, 4, 1, 4, 3, 3, 1, 1, 5, 6, 1, 2, 6, 4,\n",
              "       3, 2, 4, 2, 2, 3, 2, 1, 2, 5, 2, 1, 4, 2, 1, 5, 2, 5, 4, 4, 2, 5,\n",
              "       3, 2, 2, 5, 4, 2, 0, 3, 4, 7, 4, 2, 7, 3, 4, 3, 2, 3, 3, 3, 3, 3,\n",
              "       2, 4, 3, 4, 2, 2, 4, 3, 4, 3, 2, 3, 4, 3, 2, 2, 3, 0, 4, 3, 4, 3,\n",
              "       2, 3, 3, 4, 2, 1, 2, 4, 1, 5, 4, 2, 3, 3, 2, 0, 5, 3, 0, 2, 3, 5,\n",
              "       3, 2, 2, 3, 5, 2, 3, 3, 3, 2, 2, 2, 5, 1, 2, 3, 3, 1, 5, 5, 5, 0,\n",
              "       4, 4, 3, 4, 5, 1, 3, 4, 5, 2, 3, 5, 2, 5, 0, 4, 2, 1, 1, 2, 1, 1,\n",
              "       3, 4, 5, 5, 4, 2, 4, 5, 2, 2, 4, 4, 2, 4, 4, 5, 1, 5, 4, 3, 1, 2,\n",
              "       3, 3, 6, 0, 2, 2, 4, 4, 0, 3, 3, 4, 4, 3, 2, 3, 4, 3, 4, 4, 2, 5,\n",
              "       3, 3, 3, 5, 4, 6, 1, 3, 4, 3, 2, 3, 3, 1, 4, 4, 4, 3, 4, 0, 2, 1,\n",
              "       1, 4, 3, 4, 3, 3, 3, 1, 1, 2, 1, 2, 2, 1, 2, 2, 1, 2, 3, 4, 3, 6,\n",
              "       2, 3, 3, 5, 2, 4, 2, 4, 3, 1, 4, 3, 5, 1, 1, 2, 1, 5, 3, 2, 2, 0,\n",
              "       3, 2, 3, 4, 2, 4, 5, 3, 1, 3, 4, 5, 2, 4, 2, 4, 5, 3, 5, 2, 1, 2,\n",
              "       4, 4, 3, 0, 4, 4, 6, 1, 2, 4, 5, 4, 6, 4, 2, 6, 2, 4, 3, 2, 3, 3,\n",
              "       2, 1, 3, 3, 5, 1, 4, 3, 5, 4, 1, 2, 6, 6, 4, 4, 1, 2, 3, 2, 4, 1,\n",
              "       2, 2, 2, 1, 3, 2, 2, 3, 4, 4, 4, 2, 4, 1, 2, 1, 5, 5, 2, 3, 5, 3,\n",
              "       6, 7, 6, 2, 1, 5, 7, 2, 2, 5, 4, 4, 5, 5, 5, 3, 2, 4, 4, 3, 2, 1,\n",
              "       5, 1, 2, 5, 1, 2, 4, 4, 3, 2, 4, 2, 4, 1, 0, 4, 2, 1, 3, 1, 3, 1,\n",
              "       2, 3, 4, 2, 4, 3, 4, 1, 5, 6, 4, 5, 4, 1, 6, 3, 4, 5, 2, 1, 3, 5,\n",
              "       5, 2, 2, 4, 5, 3, 4, 5, 3, 1, 2, 2, 5, 3, 4, 3, 3, 2, 1, 2, 3, 7,\n",
              "       2, 1, 5, 5, 2, 2, 3, 2, 3, 3, 3, 4, 2, 1, 4, 3, 2, 3, 3, 4, 2, 2,\n",
              "       4, 1, 3, 1, 1, 2, 2, 1, 3, 4, 3, 6, 5, 5, 6, 4, 5, 5, 1, 4, 3, 2,\n",
              "       5, 3, 3, 3, 4, 2, 2, 5, 3, 4, 3, 3, 2, 4, 4, 5, 6, 3, 5, 2, 4, 3,\n",
              "       1, 4, 3, 3, 3, 5, 3, 3, 0, 1, 3, 3, 3, 3, 2, 5, 5, 5, 4, 3, 3, 2,\n",
              "       3, 4, 1, 1, 1, 0, 2, 4, 2, 5])"
            ]
          },
          "metadata": {},
          "execution_count": 54
        }
      ]
    },
    {
      "cell_type": "code",
      "source": [
        "random_samples_poisson"
      ],
      "metadata": {
        "colab": {
          "base_uri": "https://localhost:8080/"
        },
        "id": "WdfSsUvpYiRT",
        "outputId": "b7f258b8-ff32-4158-8dc8-9bd47708f53e"
      },
      "execution_count": null,
      "outputs": [
        {
          "output_type": "execute_result",
          "data": {
            "text/plain": [
              "array([ 9,  8,  8,  4,  5,  3,  2,  1,  3,  5,  7,  5,  5,  9,  1,  4,  4,\n",
              "        9,  5,  5,  2,  6,  8,  4,  2,  4,  5,  3,  6,  8,  4,  0,  3,  6,\n",
              "        3,  3,  6,  2,  4,  1,  4,  8,  5, 10,  5,  6,  5,  5,  5,  5,  6,\n",
              "        4,  7,  2,  3,  7,  7,  7,  8,  8,  4,  2,  9,  6,  7,  1,  2, 12,\n",
              "        2,  7,  4,  4,  3,  6,  6,  3,  7,  6,  4,  6,  1,  4,  4,  8,  7,\n",
              "        5, 11,  6,  7,  5,  2,  7,  7,  3,  4,  3,  5,  5,  7,  4,  4,  6,\n",
              "        4,  8,  2,  4,  7,  5,  5,  7,  1,  2,  3,  4,  2,  5,  9,  6,  7,\n",
              "        1, 10,  3,  2,  3, 10,  4,  4,  2,  4,  3,  7,  5,  5,  8,  5,  6,\n",
              "        6,  2,  2,  6,  9,  3,  6,  9,  7,  5,  2,  9,  4,  9,  6,  4,  2,\n",
              "        4,  6, 12,  3,  5,  7,  8,  4,  5,  4,  5,  3,  6,  8,  4,  6,  3,\n",
              "        4,  3,  4,  3,  4,  4,  4,  7,  6,  5,  3,  5,  4,  4,  6,  8,  5,\n",
              "        3,  4,  6,  6,  7,  8,  5,  4,  7,  1,  1,  4,  2,  5,  7,  8,  4,\n",
              "        3, 11,  6,  3,  6,  4,  6,  5,  6,  2,  3,  7,  2,  8,  5,  6, 10,\n",
              "        6,  7,  6,  5,  6, 11,  2,  1,  9,  4,  7,  4,  6,  6,  6,  4,  5,\n",
              "        4,  5,  0,  5,  4,  6,  5,  3,  2,  8,  5,  2,  7,  4,  7,  3,  1,\n",
              "        4,  5,  6,  4,  7,  2,  3,  7,  3,  6,  3,  8,  6,  5,  3,  6,  5,\n",
              "        4,  4,  2,  4,  5,  4,  6,  5,  6,  3,  8,  3,  4,  3,  9,  6,  2,\n",
              "        5,  2,  2,  5,  7,  5,  6,  5,  5,  5,  9,  4,  4,  4,  6,  3,  4,\n",
              "        3,  5,  6,  2,  7,  2,  3,  5,  7,  5,  2,  6,  6,  5,  4,  9,  7,\n",
              "        4,  5,  7,  6,  4,  4,  3,  2,  3,  5,  7,  7,  7,  4,  6,  2,  5,\n",
              "       10,  5,  5,  8,  5,  3,  2,  4,  3,  8,  3,  7,  6,  5,  4,  5,  4,\n",
              "        4,  9,  2,  4,  3, 11,  4,  2,  6,  3, 10,  4,  4,  4,  5,  4,  4,\n",
              "       11,  8,  5,  4,  3,  4,  6,  5,  8,  5,  1,  4,  5,  7,  8,  5,  4,\n",
              "        4,  4,  4,  5,  7,  7,  8,  7,  3,  3,  7,  5,  4,  7,  4,  5,  4,\n",
              "        2,  2,  3,  7,  3,  8,  6,  2,  8,  8,  8, 10,  4,  7,  6,  3,  7,\n",
              "        9,  2,  7,  7,  6,  7,  3,  6,  8, 10, 10,  6,  3,  3,  2,  6,  3,\n",
              "        4,  8,  3,  4,  5,  3,  3,  7,  2,  7,  7,  1,  3,  3,  8,  0,  3,\n",
              "        8,  7,  3,  5,  5,  1,  4,  4,  2,  7,  9,  5,  2,  6,  4,  4,  8,\n",
              "        6,  2,  8,  3,  5,  8,  7,  2,  5,  4,  8,  6,  2,  6, 12,  7,  3,\n",
              "        2,  5,  4,  1,  5,  5,  7,  4,  6,  6,  4,  9, 10,  6,  4,  4,  6,\n",
              "        7,  3,  7,  3, 12,  3,  3,  4,  2,  3,  4,  5,  9,  2,  8,  7,  2,\n",
              "        4,  5,  5,  5,  6,  8,  5,  7,  4,  4,  6,  4,  8,  5,  2,  4,  7,\n",
              "        3,  4,  3,  6,  2,  2,  8,  7, 12,  4,  2,  7,  2,  4,  7,  5,  6,\n",
              "        4,  5,  6,  4,  7,  4,  5,  5,  8,  5,  2,  2,  6,  5,  4,  2,  3,\n",
              "        8,  3,  6,  2,  4,  6, 11,  2,  3,  6,  5,  8,  9,  8,  3,  4,  1,\n",
              "        3,  5,  9,  6,  4,  2,  7,  6,  1,  4,  2,  2,  5,  5,  1,  6,  4,\n",
              "        8,  5,  7,  3,  8,  5,  3,  4,  5,  6,  6,  2,  4,  6,  3,  4,  2,\n",
              "        4,  6, 10,  8,  7, 10,  2,  8,  3,  5,  2,  1,  2,  7,  4,  6,  9,\n",
              "        2,  9,  3,  9,  5,  4,  5,  6,  8,  2,  4,  3,  3,  9,  3,  6,  9,\n",
              "        3,  8,  7,  6,  4,  3,  7,  4,  6,  3,  8,  6,  2,  4,  6,  2,  4,\n",
              "        2,  5,  4,  3,  3,  7,  4,  5,  3,  7,  6,  3,  4,  8,  6,  5,  6,\n",
              "       11,  1,  4, 11,  7,  4,  5,  3,  2,  4,  4,  9,  6,  6,  8,  6,  5,\n",
              "        5,  6,  3,  3,  3,  5,  5,  9,  6,  3,  7,  4,  5,  3,  6,  6,  5,\n",
              "        2,  6, 12,  4,  4,  6,  5,  6,  2,  4,  4,  4,  4,  5,  4,  3,  2,\n",
              "        3,  4,  3,  7,  0,  1,  3,  5,  1,  4,  6,  5,  2,  4,  3,  4,  4,\n",
              "        5,  3,  4,  1,  4,  5,  6,  6,  3,  2,  5,  5,  6,  6,  6,  7,  4,\n",
              "        2,  3,  7,  7,  2,  8,  5,  5,  5,  3,  6,  7,  4,  6,  2,  9,  4,\n",
              "        2,  6,  8, 10,  6,  3,  3,  4,  2,  3,  3,  5,  4,  4,  7,  6,  5,\n",
              "        5,  7,  7,  8,  4,  6,  1,  7,  5,  1,  3,  3,  7,  4,  4,  3,  5,\n",
              "        6,  5,  5,  6,  2,  5,  6,  3,  4,  6,  1,  6,  2,  3,  1,  9,  3,\n",
              "        5,  5,  2,  2,  2,  3,  6,  7,  7,  6,  5,  7,  2,  6,  4,  6,  3,\n",
              "        2,  7,  6,  9,  6,  3,  2,  5,  3,  2,  4,  3,  7,  6,  9,  4, 10,\n",
              "        6,  4,  6,  2,  5,  3,  4,  8,  4,  8,  6,  3,  7,  4,  3,  4,  1,\n",
              "        8,  7,  3,  2,  6,  3,  5,  3,  6,  4,  5,  7,  6,  6,  4,  6,  6,\n",
              "        3,  2,  6,  2,  5,  5,  3,  4,  9,  6,  4,  5,  4,  5,  6,  5,  6,\n",
              "        4,  2,  2,  8,  7,  6,  4,  6,  2,  6,  3,  4,  3,  6,  6,  3,  7,\n",
              "        5,  0,  3,  3,  5,  6,  4,  4,  5,  7,  8,  5,  4,  5,  6,  4,  6,\n",
              "        5,  6,  4,  5,  5,  3,  7,  2,  5,  5,  1,  5,  5,  8,  6,  0,  4,\n",
              "        4,  7,  3,  2,  6,  4,  5,  3,  4,  4,  4,  7,  4,  6])"
            ]
          },
          "metadata": {},
          "execution_count": 55
        }
      ]
    },
    {
      "cell_type": "code",
      "source": [
        "mean, variance"
      ],
      "metadata": {
        "colab": {
          "base_uri": "https://localhost:8080/"
        },
        "id": "ky7dMe5xYkk1",
        "outputId": "089f8b95-74d2-4c37-ca9d-0d346a2edfd1"
      },
      "execution_count": null,
      "outputs": [
        {
          "output_type": "execute_result",
          "data": {
            "text/plain": [
              "(9.996954759263005, 3.9631794614596867)"
            ]
          },
          "metadata": {},
          "execution_count": 56
        }
      ]
    },
    {
      "cell_type": "code",
      "source": [
        "#Write a Python script to generate random numbers from a Gaussian (normal) distribution and compute\n",
        "#the mean, variance, and standard deviation of the samples"
      ],
      "metadata": {
        "id": "zB2VrIUNYnji"
      },
      "execution_count": null,
      "outputs": []
    },
    {
      "cell_type": "code",
      "source": [
        "import numpy as np\n",
        "\n",
        "# Parameters for the normal distribution\n",
        "mu = 10  # Mean\n",
        "sigma = 2  # Standard deviation\n",
        "sample_size = 1000  # Number of samples\n",
        "\n",
        "# Generate random samples from the normal distribution\n",
        "random_samples = np.random.normal(mu, sigma, sample_size)\n",
        "\n",
        "# Calculate mean and variance\n",
        "mean_val = np.mean(random_samples)\n",
        "variance_val = np.var(random_samples, ddof=1)  # Use ddof=1 for sample data\n",
        "std_deviation_val = np.std(random_samples, ddof=1)\n",
        "\n",
        "# Display results\n",
        "print(f\"Generated {sample_size} random samples from N({mu}, {sigma}):\")\n",
        "print(f\"Mean: {mean_val:.2f}\")\n",
        "print(f\"Variance: {variance_val:.2f}\")\n",
        "print(f\"Standard Deviation: {std_deviation_val:.2f}\")\n"
      ],
      "metadata": {
        "colab": {
          "base_uri": "https://localhost:8080/"
        },
        "id": "DxMqH92MY4XV",
        "outputId": "5926b3e5-7d9c-4108-89e9-9a45a350cf58"
      },
      "execution_count": null,
      "outputs": [
        {
          "output_type": "stream",
          "name": "stdout",
          "text": [
            "Generated 1000 random samples from N(10, 2):\n",
            "Mean: 9.90\n",
            "Variance: 3.85\n",
            "Standard Deviation: 1.96\n"
          ]
        }
      ]
    },
    {
      "cell_type": "code",
      "source": [
        "# Use seaborn library to load `tips` dataset. Find the following from the dataset for the columns `total_bill`and `tip`:\n",
        "#(i) Write a Python function that calculates their skewness.\n",
        "#(ii) Create a program that determines whether the columns exhibit positive skewness, negative skewness, or is\n",
        "#approximately symmetric.\n",
        "#(iii) Write a function that calculates the covariance between two columns.\n",
        "#(iv) Implement a Python program that calculates the Pearson correlation coefficient between two columns.\n",
        "#(v) Write a script to visualize the correlation between two specific columns in a Pandas DataFrame using\n",
        "#scatter plots."
      ],
      "metadata": {
        "id": "RfUI7DUJY5yF"
      },
      "execution_count": null,
      "outputs": []
    },
    {
      "cell_type": "code",
      "source": [
        "import pandas as pd\n",
        "import seaborn as sns\n",
        "from scipy.stats import skew\n",
        "\n",
        "tips = sns.load_dataset(\"tips\")\n",
        "\n",
        "def calculate_skewness(column):\n",
        "    return skew(column)\n",
        "\n",
        "skew_total_bill = calculate_skewness(tips[\"total_bill\"])\n",
        "skew_tip = calculate_skewness(tips[\"tip\"])\n",
        "\n",
        "print(f\"Skewness (total_bill): {skew_total_bill:.2f}\")\n",
        "print(f\"Skewness (tip): {skew_tip:.2f}\")\n"
      ],
      "metadata": {
        "colab": {
          "base_uri": "https://localhost:8080/"
        },
        "id": "nkFHKcknZU_t",
        "outputId": "f78d42cf-61c8-4d12-fe9a-3fd71ef380d8"
      },
      "execution_count": null,
      "outputs": [
        {
          "output_type": "stream",
          "name": "stdout",
          "text": [
            "Skewness (total_bill): 1.13\n",
            "Skewness (tip): 1.46\n"
          ]
        }
      ]
    },
    {
      "cell_type": "code",
      "source": [
        "\n"
      ],
      "metadata": {
        "id": "PhYI7Xs5ZV3p"
      },
      "execution_count": null,
      "outputs": []
    },
    {
      "cell_type": "code",
      "source": [
        "covariance_matrix = tips[[\"total_bill\", \"tip\"]].cov()\n",
        "covariance_total_bill_tip = covariance_matrix.loc[\"total_bill\", \"tip\"]\n",
        "\n",
        "print(f\"Covariance (total_bill, tip): {covariance_total_bill_tip:.2f}\")\n"
      ],
      "metadata": {
        "colab": {
          "base_uri": "https://localhost:8080/"
        },
        "id": "-7gofr5UZgKg",
        "outputId": "13421ff9-5d29-4210-a7cd-384c7fd5b79d"
      },
      "execution_count": null,
      "outputs": [
        {
          "output_type": "stream",
          "name": "stdout",
          "text": [
            "Covariance (total_bill, tip): 8.32\n"
          ]
        }
      ]
    },
    {
      "cell_type": "code",
      "source": [
        "correlation_total_bill_tip = tips[\"total_bill\"].corr(tips[\"tip\"])\n",
        "\n",
        "print(f\"Pearson Correlation (total_bill, tip): {correlation_total_bill_tip:.2f}\")\n"
      ],
      "metadata": {
        "colab": {
          "base_uri": "https://localhost:8080/"
        },
        "id": "HxDw6od6ZiWq",
        "outputId": "91303c14-f8ff-4c70-9aba-4666d7c71248"
      },
      "execution_count": null,
      "outputs": [
        {
          "output_type": "stream",
          "name": "stdout",
          "text": [
            "Pearson Correlation (total_bill, tip): 0.68\n"
          ]
        }
      ]
    },
    {
      "cell_type": "code",
      "source": [
        "import matplotlib.pyplot as plt\n",
        "\n",
        "sns.scatterplot(data=tips, x=\"total_bill\", y=\"tip\")\n",
        "plt.xlabel(\"Total Bill\")\n",
        "plt.ylabel(\"Tip\")\n",
        "plt.title(\"Scatter Plot: Total Bill vs. Tip\")\n",
        "plt.show()\n"
      ],
      "metadata": {
        "colab": {
          "base_uri": "https://localhost:8080/",
          "height": 492
        },
        "id": "PVyfToVEZkRV",
        "outputId": "06dbade7-db5d-4d6e-8f16-07d44aac2a99"
      },
      "execution_count": null,
      "outputs": [
        {
          "output_type": "display_data",
          "data": {
            "text/plain": [
              "<Figure size 640x480 with 1 Axes>"
            ],
            "image/png": "[encoded data removed]"
          },
          "metadata": {}
        }
      ]
    },
    {
      "cell_type": "code",
      "source": [
        "# Write a Python function to calculate the probability density function (PDF) of a continuous random\n",
        "#variable for a given normal distribution."
      ],
      "metadata": {
        "id": "ZOC2nogIZmqD"
      },
      "execution_count": null,
      "outputs": []
    },
    {
      "cell_type": "code",
      "source": [
        "import math\n",
        "\n",
        "def normal_pdf(x, mean, std):\n",
        "    \"\"\"\n",
        "    Calculates the probability density function (PDF) of a normal distribution.\n",
        "\n",
        "    Args:\n",
        "        x (float): The value for which to compute the PDF.\n",
        "        mean (float): Mean (average) of the distribution.\n",
        "        std (float): Standard deviation of the distribution.\n",
        "\n",
        "    Returns:\n",
        "        float: PDF value at the given x.\n",
        "    \"\"\"\n",
        "    variance = std**2\n",
        "    denom = math.sqrt(2 * math.pi * variance)\n",
        "    exponent = -(x - mean)**2 / (2 * variance)\n",
        "    pdf_value = (1.0 / denom) * math.exp(exponent)\n",
        "    return pdf_value\n",
        "\n",
        "# Example usage:\n",
        "mean_value = 10\n",
        "std_deviation = 2\n",
        "x_value = 8\n",
        "pdf_result = normal_pdf(x_value, mean_value, std_deviation)\n",
        "print(f\"PDF at x={x_value}: {pdf_result:.6f}\")\n"
      ],
      "metadata": {
        "colab": {
          "base_uri": "https://localhost:8080/"
        },
        "id": "XDkmnDl8Zunt",
        "outputId": "2fe35206-da7d-4a39-de1d-bc060f9c3bd6"
      },
      "execution_count": null,
      "outputs": [
        {
          "output_type": "stream",
          "name": "stdout",
          "text": [
            "PDF at x=8: 0.120985\n"
          ]
        }
      ]
    },
    {
      "cell_type": "code",
      "source": [
        "# Create a program to calculate the cumulative distribution function (CDF) of exponential distribution."
      ],
      "metadata": {
        "id": "4H6YEI7ydplV"
      },
      "execution_count": null,
      "outputs": []
    },
    {
      "cell_type": "code",
      "source": [
        "from scipy.stats import expon\n",
        "\n",
        "# Calculate the CDF at a specific value (e.g., x = 2)\n",
        "x_value = 2\n",
        "cdf_result = expon.cdf(x_value)\n",
        "\n",
        "print(f\"CDF at x={x_value}: {cdf_result:.6f}\")\n",
        "\n",
        "# Generate 1000 random values from an exponential distribution with rate parameter 0.1\n",
        "random_values = expon.rvs(scale=1/0.1, size=1000)\n"
      ],
      "metadata": {
        "colab": {
          "base_uri": "https://localhost:8080/"
        },
        "id": "Py_JsRsYdwCa",
        "outputId": "d42c33ec-9f1c-4f09-e855-dc1b31fe6e9c"
      },
      "execution_count": null,
      "outputs": [
        {
          "output_type": "stream",
          "name": "stdout",
          "text": [
            "CDF at x=2: 0.864665\n"
          ]
        }
      ]
    },
    {
      "cell_type": "code",
      "source": [
        "# Write a Python function to calculate the probability mass function (PMF) of Poisson distribution."
      ],
      "metadata": {
        "id": "qDCC0b--d5El"
      },
      "execution_count": null,
      "outputs": []
    },
    {
      "cell_type": "code",
      "source": [
        "import math\n",
        "\n",
        "def poisson_pmf(k, lmbda):\n",
        "    \"\"\"\n",
        "    Calculates the Poisson PMF for a given value k and parameter lambda.\n",
        "\n",
        "    Args:\n",
        "        k (int): The specific value for which to compute the PMF.\n",
        "        lmbda (float): Average rate of events (lambda).\n",
        "\n",
        "    Returns:\n",
        "        float: Probability mass function value at k.\n",
        "    \"\"\"\n",
        "    pmf_value = (math.exp(-lmbda) * lmbda**k) / math.factorial(k)\n",
        "    return pmf_value\n",
        "\n",
        "# Example usage:\n",
        "average_rate = 3  # Adjust this value as needed\n",
        "specific_value = 2\n",
        "pmf_result = poisson_pmf(specific_value, average_rate)\n",
        "print(f\"PMF at k={specific_value}: {pmf_result:.6f}\")\n"
      ],
      "metadata": {
        "colab": {
          "base_uri": "https://localhost:8080/"
        },
        "id": "Pmdqpat4d_um",
        "outputId": "ec75112b-f410-48b1-ff54-9dc7073857e2"
      },
      "execution_count": null,
      "outputs": [
        {
          "output_type": "stream",
          "name": "stdout",
          "text": [
            "PMF at k=2: 0.224042\n"
          ]
        }
      ]
    },
    {
      "cell_type": "code",
      "source": [
        "#  A company wants to test if a new website layout leads to a higher conversion rate (percentage of visitors\n",
        "#who make a purchase). They collect data from the old and new layouts to compare.\n",
        "\n",
        "\n",
        "#To generate the data use the following command:\n",
        "\n",
        "#```python\n",
        "\n",
        "#import numpy as np\n",
        "\n",
        "# 50 purchases out of 1000 visitors\n",
        "\n",
        "#old_layout = np.array([1] * 50 + [0] * 950)\n",
        "\n",
        "# 70 purchases out of 1000 visitors\n",
        "#new_layout = np.array([1] * 70 + [0] * 930)\n",
        "\n",
        "#```\n",
        "\n",
        "#Apply z-test to find which layout is successful"
      ],
      "metadata": {
        "id": "9giUb7MKeHhM"
      },
      "execution_count": null,
      "outputs": []
    },
    {
      "cell_type": "code",
      "source": [
        "import numpy as np\n",
        "from scipy.stats import norm\n",
        "\n",
        "# Data (number of purchases out of total visitors)\n",
        "old_layout = np.array([1] * 50 + [0] * 950)\n",
        "new_layout = np.array([1] * 70 + [0] * 930)\n",
        "\n",
        "# Calculate proportions\n",
        "p_old = np.mean(old_layout)\n",
        "p_new = np.mean(new_layout)\n",
        "\n",
        "# Sample sizes\n",
        "n_old = len(old_layout)\n",
        "n_new = len(new_layout)\n",
        "\n",
        "# Calculate standard error\n",
        "se = np.sqrt((p_old * (1 - p_old) / n_old) + (p_new * (1 - p_new) / n_new))\n",
        "\n",
        "# Calculate Z-score\n",
        "z_score = (p_new - p_old) / se\n",
        "\n",
        "# Two-tailed test (alpha = 0.05)\n",
        "alpha = 0.05\n",
        "z_critical = norm.ppf(1 - alpha / 2)\n",
        "\n",
        "# Compare Z-score to critical value\n",
        "if abs(z_score) > z_critical:\n",
        "    print(\"Reject the null hypothesis: Significant difference in conversion rates.\")\n",
        "else:\n",
        "    print(\"Fail to reject the null hypothesis: No significant difference in conversion rates.\")\n"
      ],
      "metadata": {
        "colab": {
          "base_uri": "https://localhost:8080/"
        },
        "id": "S8JvzlQ3ev4h",
        "outputId": "ce2abc14-551e-4418-9934-32d7ce5794e4"
      },
      "execution_count": null,
      "outputs": [
        {
          "output_type": "stream",
          "name": "stdout",
          "text": [
            "Fail to reject the null hypothesis: No significant difference in conversion rates.\n"
          ]
        }
      ]
    },
    {
      "cell_type": "code",
      "source": [
        " #A tutoring service claims that its program improves students' exam scores. A sample of students who\n",
        "#participated in the program was taken, and their scores before and after the program were recorded.\n",
        "\n",
        "\n",
        "#Use the below code to generate samples of respective arrays of marks:\n",
        "\n",
        "#```python\n",
        "\n",
        "#before_program = np.array([75, 80, 85, 70, 90, 78, 92, 88, 82, 87])\n",
        "\n",
        "#after_program = np.array([80, 85, 90, 80, 92, 80, 95, 90, 85, 88])\n",
        "\n",
        "#```\n",
        "\n",
        "#Use z-test to find if the claims made by tutor are true or false"
      ],
      "metadata": {
        "id": "6x7lEuCrew1o"
      },
      "execution_count": null,
      "outputs": []
    },
    {
      "cell_type": "code",
      "source": [
        "import numpy as np\n",
        "from scipy.stats import norm\n",
        "\n",
        "# Given data\n",
        "before_program = np.array([75, 80, 85, 70, 90, 78, 92, 88, 82, 87])\n",
        "after_program = np.array([80, 85, 90, 80, 92, 80, 95, 90, 85, 88])\n",
        "\n",
        "# Calculate the sample mean difference\n",
        "mean_diff = np.mean(after_program - before_program)\n",
        "\n",
        "# Calculate the standard deviation of the score differences\n",
        "std_diff = np.std(after_program - before_program, ddof=1)  # Use ddof=1 for sample data\n",
        "\n",
        "# Calculate the standard error of the mean difference\n",
        "n = len(before_program)\n",
        "se_diff = std_diff / np.sqrt(n)\n",
        "\n",
        "# Calculate the Z-score\n",
        "z_score = mean_diff / se_diff\n",
        "\n",
        "# One-tailed test (alpha = 0.05)\n",
        "alpha = 0.05\n",
        "z_critical = norm.ppf(1 - alpha)\n",
        "\n",
        "# Compare Z-score to critical value\n",
        "if z_score > z_critical:\n",
        "    print(\"Reject the null hypothesis: The tutoring program improves exam scores.\")\n",
        "else:\n",
        "    print(\"Fail to reject the null hypothesis: No significant improvement in exam scores.\")\n"
      ],
      "metadata": {
        "colab": {
          "base_uri": "https://localhost:8080/"
        },
        "id": "OGfalIxdfHKJ",
        "outputId": "e59d8369-e304-49ae-b8f4-ddcec3464e45"
      },
      "execution_count": null,
      "outputs": [
        {
          "output_type": "stream",
          "name": "stdout",
          "text": [
            "Reject the null hypothesis: The tutoring program improves exam scores.\n"
          ]
        }
      ]
    },
    {
      "cell_type": "code",
      "source": [
        "#A pharmaceutical company wants to determine if a new drug is effective in reducing blood pressure. They\n",
        "#conduct a study and record blood pressure measurements before and after administering the drug.\n",
        "\n",
        "\n",
        "#Use the below code to generate samples of respective arrays of blood pressure:\n",
        "\n",
        "\n",
        "#```python\n",
        "\n",
        "#before_drug = np.array([145, 150, 140, 135, 155, 160, 152, 148, 130, 138])\n",
        "\n",
        "#after_drug = np.array([130, 140, 132, 128, 145, 148, 138, 136, 125, 130])\n",
        "\n",
        "#```\n",
        "\n",
        "\n",
        "#Implement z-test to find if the drug really works or not."
      ],
      "metadata": {
        "id": "a3npZINPfH-B"
      },
      "execution_count": null,
      "outputs": []
    },
    {
      "cell_type": "code",
      "source": [
        "import numpy as np\n",
        "from scipy.stats import norm\n",
        "\n",
        "# Given data\n",
        "before_drug = np.array([145, 150, 140, 135, 155, 160, 152, 148, 130, 138])\n",
        "after_drug = np.array([130, 140, 132, 128, 145, 148, 138, 136, 125, 130])\n",
        "\n",
        "# Calculate the sample mean difference\n",
        "mean_diff = np.mean(after_drug - before_drug)\n",
        "\n",
        "# Calculate the standard deviation of the blood pressure differences\n",
        "std_diff = np.std(after_drug - before_drug, ddof=1)  # Use ddof=1 for sample data\n",
        "\n",
        "# Calculate the standard error of the mean difference\n",
        "n = len(before_drug)\n",
        "se_diff = std_diff / np.sqrt(n)\n",
        "\n",
        "# Calculate the Z-score\n",
        "z_score = mean_diff / se_diff\n",
        "\n",
        "# One-tailed test (alpha = 0.05)\n",
        "alpha = 0.05\n",
        "z_critical = norm.ppf(alpha)\n",
        "\n",
        "# Compare Z-score to critical value\n",
        "if z_score < -z_critical:\n",
        "    print(\"Reject the null hypothesis: The drug effectively reduces blood pressure.\")\n",
        "else:\n",
        "    print(\"Fail to reject the null hypothesis: No significant reduction in blood pressure.\")\n"
      ],
      "metadata": {
        "colab": {
          "base_uri": "https://localhost:8080/"
        },
        "id": "6ffxZTePfYH1",
        "outputId": "86cd317d-4e9f-4c9b-d7c4-9906ca1b8ff3"
      },
      "execution_count": null,
      "outputs": [
        {
          "output_type": "stream",
          "name": "stdout",
          "text": [
            "Reject the null hypothesis: The drug effectively reduces blood pressure.\n"
          ]
        }
      ]
    },
    {
      "cell_type": "code",
      "source": [
        "# A customer service department claims that their average response time is less than 5 minutes. A sample\n",
        "# of recent customer interactions was taken, and the response times were recorded.\n",
        "\n",
        "\n",
        "#Implement the below code to generate the array of response time:\n",
        "\n",
        "#```python\n",
        "\n",
        "#response_times = np.array([4.3, 3.8, 5.1, 4.9, 4.7, 4.2, 5.2, 4.5, 4.6, 4.4])\n",
        "\n",
        "#```\n",
        "\n",
        "#Implement z-test to find the claims made by customer service department are tru or false"
      ],
      "metadata": {
        "id": "2C-zrQeMfbpF"
      },
      "execution_count": null,
      "outputs": []
    },
    {
      "cell_type": "code",
      "source": [
        "import numpy as np\n",
        "from scipy.stats import norm\n",
        "\n",
        "# Given data\n",
        "response_times = np.array([4.3, 3.8, 5.1, 4.9, 4.7, 4.2, 5.2, 4.5, 4.6, 4.4])\n",
        "\n",
        "# Calculate sample mean and standard deviation\n",
        "sample_mean = np.mean(response_times)\n",
        "sample_std = np.std(response_times, ddof=1)  # Use ddof=1 for sample data\n",
        "\n",
        "# Calculate standard error of the mean\n",
        "n = len(response_times)\n",
        "se = sample_std / np.sqrt(n)\n",
        "\n",
        "# Calculate Z-score\n",
        "z_score = (sample_mean - 5) / se\n",
        "\n",
        "# One-tailed test (alpha = 0.05)\n",
        "alpha = 0.05\n",
        "z_critical = norm.ppf(alpha)\n",
        "\n",
        "# Compare Z-score to critical value\n",
        "if z_score < -z_critical:\n",
        "    print(\"Reject the null hypothesis: Average response time is less than 5 minutes.\")\n",
        "else:\n",
        "    print(\"Fail to reject the null hypothesis: No significant evidence of response time less than 5 minutes.\")\n"
      ],
      "metadata": {
        "colab": {
          "base_uri": "https://localhost:8080/"
        },
        "id": "k4IFaplJfw3g",
        "outputId": "03b9431a-fc16-4401-f4dd-27d78053fdb3"
      },
      "execution_count": null,
      "outputs": [
        {
          "output_type": "stream",
          "name": "stdout",
          "text": [
            "Reject the null hypothesis: Average response time is less than 5 minutes.\n"
          ]
        }
      ]
    },
    {
      "cell_type": "code",
      "source": [
        "#A company is testing two different website layouts to see which one leads to higher click-through rates.\n",
        "#Write a Python function to perform an A/B test analysis, including calculating the t-statistic, degrees of\n",
        "#freedom, and p-value.\n",
        "\n",
        "\n",
        "#Use the following data:\n",
        "\n",
        "#```python\n",
        "\n",
        "#layout_a_clicks = [28, 32, 33, 29, 31, 34, 30, 35, 36, 37]\n",
        "\n",
        "#layout_b_clicks = [40, 41, 38, 42, 39, 44, 43, 41, 45, 4"
      ],
      "metadata": {
        "id": "qEQPcHecf01b"
      },
      "execution_count": null,
      "outputs": []
    },
    {
      "cell_type": "code",
      "source": [
        "import numpy as np\n",
        "from scipy.stats import ttest_ind\n",
        "\n",
        "def ab_test(layout_a_clicks, layout_b_clicks):\n",
        "    \"\"\"\n",
        "    Perform an A/B test analysis.\n",
        "\n",
        "    Args:\n",
        "        layout_a_clicks (list): Click-through rates for Layout A.\n",
        "        layout_b_clicks (list): Click-through rates for Layout B.\n",
        "\n",
        "    Returns:\n",
        "        float: t-statistic\n",
        "        float: p-value\n",
        "    \"\"\"\n",
        "    # Calculate means and standard deviations\n",
        "    mean_a = np.mean(layout_a_clicks)\n",
        "    mean_b = np.mean(layout_b_clicks)\n",
        "    std_a = np.std(layout_a_clicks, ddof=1)  # Use ddof=1 for sample data\n",
        "    std_b = np.std(layout_b_clicks, ddof=1)\n",
        "\n",
        "    # Calculate t-statistic\n",
        "    n_a = len(layout_a_clicks)\n",
        "    n_b = len(layout_b_clicks)\n",
        "    pooled_std = np.sqrt(((n_a - 1) * std_a**2 + (n_b - 1) * std_b**2) / (n_a + n_b - 2))\n",
        "    t_statistic = (mean_a - mean_b) / (pooled_std * np.sqrt(1/n_a + 1/n_b))\n",
        "\n",
        "    # Calculate degrees of freedom\n",
        "    degrees_of_freedom = n_a + n_b - 2\n",
        "\n",
        "    # Calculate p-value (two-tailed test)\n",
        "    p_value = 2 * (1 - ttest_ind(layout_a_clicks, layout_b_clicks)[1])\n",
        "\n",
        "    return t_statistic, degrees_of_freedom, p_value\n",
        "\n",
        "# Example usage\n",
        "layout_a_clicks = [28, 32, 33, 29, 31, 34, 30, 35, 36, 37]\n",
        "layout_b_clicks = [40, 41, 38, 42, 39, 44, 43, 41, 45, 46]\n",
        "\n",
        "t_stat, df, p_val = ab_test(layout_a_clicks, layout_b_clicks)\n",
        "print(f\"t-statistic: {t_stat:.4f}\")\n",
        "print(f\"Degrees of Freedom: {df}\")\n",
        "print(f\"P-value: {p_val:.4f}\")\n"
      ],
      "metadata": {
        "colab": {
          "base_uri": "https://localhost:8080/"
        },
        "id": "WkX8kDoZgRdd",
        "outputId": "ee3c8824-dd40-4b5a-f19e-db294139785f"
      },
      "execution_count": null,
      "outputs": [
        {
          "output_type": "stream",
          "name": "stdout",
          "text": [
            "t-statistic: -7.4469\n",
            "Degrees of Freedom: 18\n",
            "P-value: 2.0000\n"
          ]
        }
      ]
    },
    {
      "cell_type": "code",
      "source": [
        "#A pharmaceutical company wants to determine if a new drug is more effective than an existing drug in\n",
        "#reducing cholesterol levels. Create a program to analyze the clinical trial data and calculate the t-\n",
        "#statistic and p-value for the treatment effect.\n",
        "#Use the following data of cholestrol level:\n",
        "\n",
        "#```python\n",
        "\n",
        "#existing_drug_levels = [180, 182, 175, 185, 178, 176, 172, 184, 179, 183]\n",
        "\n",
        "#new_drug_levels = [170, 172, 165, 168, 175, 173, 170, 178, 172, 17"
      ],
      "metadata": {
        "id": "6uk1u1HkgSTY"
      },
      "execution_count": null,
      "outputs": []
    },
    {
      "cell_type": "code",
      "source": [
        "import numpy as np\n",
        "from scipy.stats import ttest_ind\n",
        "\n",
        "# Given data\n",
        "existing_drug_levels = np.array([180, 182, 175, 185, 178, 176, 172, 184, 179, 183])\n",
        "new_drug_levels = np.array([170, 172, 165, 168, 175, 173, 170, 178, 172, 177])\n",
        "\n",
        "# Perform independent t-test\n",
        "t_statistic, p_value = ttest_ind(existing_drug_levels, new_drug_levels)\n",
        "\n",
        "# Display results\n",
        "print(f\"t-statistic: {t_statistic:.4f}\")\n",
        "print(f\"p-value: {p_value:.4f}\")\n",
        "\n",
        "# Interpretation\n",
        "alpha = 0.05\n",
        "if p_value < alpha:\n",
        "    print(\"Reject the null hypothesis: The new drug is more effective than the existing drug.\")\n",
        "else:\n",
        "    print(\"Fail to reject the null hypothesis: No significant difference in effectiveness.\")\n"
      ],
      "metadata": {
        "colab": {
          "base_uri": "https://localhost:8080/"
        },
        "id": "hO3ezwfHgtXX",
        "outputId": "541dc5ac-b1c4-4c05-9f9d-a9fc6cf24a39"
      },
      "execution_count": null,
      "outputs": [
        {
          "output_type": "stream",
          "name": "stdout",
          "text": [
            "t-statistic: 4.0237\n",
            "p-value: 0.0008\n",
            "Reject the null hypothesis: The new drug is more effective than the existing drug.\n"
          ]
        }
      ]
    },
    {
      "cell_type": "code",
      "source": [
        "#A school district introduces an educational intervention program to improve math scores. Write a Python\n",
        "#function to analyze pre- and post-intervention test scores, calculating the t-statistic and p-value to\n",
        "#determine if the intervention had a significant impact.\n",
        "#Use the following data of test score:\n",
        "#```python\n",
        "\n",
        "#pre_intervention_scores = [80, 85, 90, 75, 88, 82, 92, 78, 85, 87]\n",
        "\n",
        "#post_intervention_scores = [90, 92, 88, 92, 95, 91, 96, 93, 89, 93]"
      ],
      "metadata": {
        "id": "3U-6P3F2gyjU"
      },
      "execution_count": null,
      "outputs": []
    },
    {
      "cell_type": "code",
      "source": [
        "import numpy as np\n",
        "from scipy.stats import ttest_ind\n",
        "\n",
        "# Given data\n",
        "pre_intervention_scores = [80, 85, 90, 75, 88, 82, 92, 78, 85, 87]\n",
        "post_intervention_scores = [90, 92, 88, 92, 95, 91, 96, 93, 89, 93]\n",
        "\n",
        "# Perform independent t-test\n",
        "t_statistic, p_value = ttest_ind(pre_intervention_scores, post_intervention_scores)\n",
        "\n",
        "# Display results\n",
        "print(f\"t-statistic: {t_statistic:.4f}\")\n",
        "print(f\"p-value: {p_value:.4f}\")\n",
        "\n",
        "# Interpretation\n",
        "alpha = 0.05\n",
        "if p_value < alpha:\n",
        "    print(\"Reject the null hypothesis: educational intervention program to improve math scores is effective.\")\n",
        "else:\n",
        "    print(\"Fail to reject the null hypothesis: No significant difference in effectiveness.\")\n"
      ],
      "metadata": {
        "colab": {
          "base_uri": "https://localhost:8080/"
        },
        "id": "FCaBpQthg8s9",
        "outputId": "8366593f-d064-426c-875d-33e7991aa9ef"
      },
      "execution_count": null,
      "outputs": [
        {
          "output_type": "stream",
          "name": "stdout",
          "text": [
            "t-statistic: -4.0804\n",
            "p-value: 0.0007\n",
            "Reject the null hypothesis: educational intervention program to improve math scores is effective.\n"
          ]
        }
      ]
    },
    {
      "cell_type": "code",
      "source": [
        "#An HR department wants to investigate if there's a gender-based salary gap within the company. Develop\n",
        "#a program to analyze salary data, calculate the t-statistic, and determine if there's a statistically\n",
        "#significant difference between the average salaries of male and female employees.\n",
        "#Use the below code to generate synthetic data:\n",
        "#```python\n",
        "\n",
        "# Generate synthetic salary data for male and female employees\n",
        "\n",
        "#np.random.seed(0) # For reproducibility\n",
        "\n",
        "#male_salaries = np.random.normal(loc=50000, scale=10000, size=20)\n",
        "\n",
        "#female_salaries = np.random.normal(loc=55000, scale=9000, size=20"
      ],
      "metadata": {
        "id": "rY7GZoeahXfO"
      },
      "execution_count": null,
      "outputs": []
    },
    {
      "cell_type": "code",
      "source": [
        "import numpy as np\n",
        "from scipy.stats import ttest_ind\n",
        "\n",
        "# Given data\n",
        "male_salaries = np.random.normal(loc=50000, scale=10000, size=20)\n",
        "female_salaries = np.random.normal(loc=55000, scale=9000, size=20)\n",
        "# Perform independent t-test\n",
        "t_statistic, p_value = ttest_ind(male_salaries, female_salaries)\n",
        "\n",
        "# Display results\n",
        "print(f\"t-statistic: {t_statistic:.4f}\")\n",
        "print(f\"p-value: {p_value:.4f}\")\n",
        "\n",
        "# Interpretation\n",
        "alpha = 0.05\n",
        "if p_value < alpha:\n",
        "    print(\"Reject the null hypothesis: determine if there's a statistically significant difference between the average salaries of male and female employees.\")\n",
        "else:\n",
        "    print(\"Fail to reject the null hypothesis: No significant difference.\")"
      ],
      "metadata": {
        "colab": {
          "base_uri": "https://localhost:8080/"
        },
        "id": "gzULAPr8iKEE",
        "outputId": "0693a13c-7054-4159-9721-82bfc606979d"
      },
      "execution_count": null,
      "outputs": [
        {
          "output_type": "stream",
          "name": "stdout",
          "text": [
            "t-statistic: -1.2184\n",
            "p-value: 0.2306\n",
            "Fail to reject the null hypothesis: No significant difference.\n"
          ]
        }
      ]
    },
    {
      "cell_type": "code",
      "source": [
        "#A manufacturer produces two different versions of a product and wants to compare their quality scores.\n",
        "#Create a Python function to analyze quality assessment data, calculate the t-statistic, and decide\n",
        "#whether there's a significant difference in quality between the two versions.\n",
        "#Use the following data:\n",
        "#```python\n",
        "\n",
        "#version1_scores = [85, 88, 82, 89, 87, 84, 90, 88, 85, 86, 91, 83, 87, 84, 89, 86, 84, 88, 85, 86, 89, 90, 87, 88, 85]\n",
        "\n",
        "#version2_scores = [80, 78, 83, 81, 79, 82, 76, 80, 78, 81, 77, 82, 80, 79, 82, 79, 80, 81, 79, 82, 79, 78, 80, 81, 82]"
      ],
      "metadata": {
        "id": "eSte34wUiqa8"
      },
      "execution_count": null,
      "outputs": []
    },
    {
      "cell_type": "code",
      "source": [
        "import numpy as np\n",
        "from scipy.stats import ttest_ind\n",
        "\n",
        "# Given data\n",
        "version1_scores = [85, 88, 82, 89, 87, 84, 90, 88, 85, 86, 91, 83, 87, 84, 89, 86, 84, 88, 85, 86, 89, 90, 87, 88, 85]\n",
        "version2_scores = [80, 78, 83, 81, 79, 82, 76, 80, 78, 81, 77, 82, 80, 79, 82, 79, 80, 81, 79, 82, 79, 78, 80, 81, 82]\n",
        "\n",
        "# Perform independent t-test\n",
        "t_statistic, p_value = ttest_ind(version1_scores, version2_scores)\n",
        "\n",
        "# Display results\n",
        "print(f\"t-statistic: {t_statistic:.4f}\")\n",
        "print(f\"p-value: {p_value:.4f}\")\n",
        "\n",
        "# Interpretation\n",
        "alpha = 0.05\n",
        "if p_value < alpha:\n",
        "    print(\"Reject the null hypothesis: there's a significant difference in quality between the two versions.\")\n",
        "else:\n",
        "    print(\"Fail to reject the null hypothesis: No significant difference.\")"
      ],
      "metadata": {
        "colab": {
          "base_uri": "https://localhost:8080/"
        },
        "id": "FbRQM25Gp6LW",
        "outputId": "63e1cd57-cf9d-40a1-a593-ff5ef00bb29a"
      },
      "execution_count": null,
      "outputs": [
        {
          "output_type": "stream",
          "name": "stdout",
          "text": [
            "t-statistic: 11.3258\n",
            "p-value: 0.0000\n",
            "Reject the null hypothesis: there's a significant difference in quality between the two versions.\n"
          ]
        }
      ]
    },
    {
      "cell_type": "code",
      "source": [
        "#A restaurant chain collects customer satisfaction scores for two different branches. Write a program to\n",
        "#analyze the scores, calculate the t-statistic, and determine if there's a statistically significant difference in\n",
        "#customer satisfaction between the branches.\n",
        "\n",
        "#Use the below data of scores:\n",
        "\n",
        "#```python\n",
        "\n",
        "#branch_a_scores = [4, 5, 3, 4, 5, 4, 5, 3, 4, 4, 5, 4, 4, 3, 4, 5, 5, 4, 3, 4, 5, 4, 3, 5, 4, 4, 5, 3, 4, 5, 4]\n",
        "\n",
        "#branch_b_scores = [3, 4, 2, 3, 4, 3, 4, 2, 3, 3, 4, 3, 3, 2, 3, 4, 4, 3, 2, 3, 4, 3, 2, 4, 3, 3, 4, 2, 3, 4, 3]"
      ],
      "metadata": {
        "id": "_0JGIwR1qVLc"
      },
      "execution_count": null,
      "outputs": []
    },
    {
      "cell_type": "code",
      "source": [
        "import numpy as np\n",
        "from scipy.stats import ttest_ind\n",
        "\n",
        "branch_a_scores = [4, 5, 3, 4, 5, 4, 5, 3, 4, 4, 5, 4, 4, 3, 4, 5, 5, 4, 3, 4, 5, 4, 3, 5, 4, 4, 5, 3, 4, 5, 4]\n",
        "branch_b_scores = [3, 4, 2, 3, 4, 3, 4, 2, 3, 3, 4, 3, 3, 2, 3, 4, 4, 3, 2, 3, 4, 3, 2, 4, 3, 3, 4, 2, 3, 4, 3]\n",
        "t_statistic,p_value = ttest_ind(branch_a_scores,branch_b_scores)\n",
        "\n",
        "print(f\"t-statistic:{t_statistic:.4f}\")\n",
        "print(f\"p_value:{p_value:.4f}\")\n",
        "\n",
        "aplha=0.05\n",
        "if p_value < aplha:\n",
        "  print(\"reject the hypothesis:there's a statistically significant difference in customer satisfaction between the branches.\")\n",
        "else:\n",
        "  print(\"fail to reject the hypothesis:No significant difference \")"
      ],
      "metadata": {
        "colab": {
          "base_uri": "https://localhost:8080/"
        },
        "id": "Nz4Z3xBoqn-5",
        "outputId": "c78beb09-4a36-44fd-a46b-8cac4900e98b"
      },
      "execution_count": null,
      "outputs": [
        {
          "output_type": "stream",
          "name": "stdout",
          "text": [
            "t-statistic:5.4801\n",
            "p_value:0.0000\n",
            "reject the hypothesis:there's a statistically significant difference in customer satisfaction between the branches.\n"
          ]
        }
      ]
    },
    {
      "cell_type": "code",
      "source": [
        "#A political analyst wants to determine if there is a significant association between age groups and voter\n",
        "#preferences (Candidate A or Candidate B). They collect data from a sample of 500 voters and classify\n",
        "#them into different age groups and candidate preferences. Perform a Chi-Square test to determine if\n",
        "#there is a significant association between age groups and voter preferences.\n",
        "#Use the below code to generate data:\n",
        "#```python\n",
        "#np.random.seed(0)\n",
        "#age_groups = np.random.choice(['18-30', '31-50', '51+', '51+'], size=30)\n",
        "#voter_preferences = np.random.choice(['Candidate A', 'Candidate B'], size=30)"
      ],
      "metadata": {
        "id": "fAwk67u3qzlL"
      },
      "execution_count": null,
      "outputs": []
    },
    {
      "cell_type": "code",
      "source": [
        "import numpy as np\n",
        "from scipy.stats import chi2_contingency\n",
        "\n",
        "# Given sample data (contingency table)\n",
        "contingency_table = np.array([[np.sum(voter_preferences == 'Candidate A'), np.sum(voter_preferences == 'Candidate B')],\n",
        "                              [np.sum(age_groups == '18-30'), np.sum(age_groups == '31-50')],\n",
        "                              [np.sum(age_groups == '51+'), np.sum(age_groups == '51+')]])\n",
        "\n",
        "# Perform Chi-Square test\n",
        "chi2_statistic, p_value, dof, expected = chi2_contingency(contingency_table)\n",
        "\n",
        "# Display results\n",
        "print(f\"Chi-Square statistic: {chi2_statistic:.4f}\")\n",
        "print(f\"P-value: {p_value:.4f}\")\n",
        "print(f\"Degrees of freedom: {dof}\")\n",
        "\n",
        "# Interpretation\n",
        "alpha = 0.05\n",
        "if p_value < alpha:\n",
        "    print(\"Reject the null hypothesis: There is a significant association between age groups and voter preferences.\")\n",
        "else:\n",
        "    print(\"Fail to reject the null hypothesis: No significant association between age groups and voter preferences.\")\n"
      ],
      "metadata": {
        "colab": {
          "base_uri": "https://localhost:8080/"
        },
        "id": "QGwwooEgtaC8",
        "outputId": "458a150d-3143-44f4-c8a2-6ed5f390e0d2"
      },
      "execution_count": null,
      "outputs": [
        {
          "output_type": "stream",
          "name": "stdout",
          "text": [
            "Chi-Square statistic: 0.5400\n",
            "P-value: 0.7634\n",
            "Degrees of freedom: 2\n",
            "Fail to reject the null hypothesis: No significant association between age groups and voter preferences.\n"
          ]
        }
      ]
    },
    {
      "cell_type": "code",
      "source": [
        "#A company produces three different versions of a product: Standard, Premium, and Deluxe. The\n",
        "#company wants to determine if there is a significant difference in customer satisfaction scores among the\n",
        "#three product versions. They conducted a survey and collected customer satisfaction scores for each\n",
        "#version from a random sample of customers. Perform an ANOVA test to determine if there is a significant\n",
        "#difference in customer satisfaction scores.\n",
        "\n",
        "#Use the following data:\n",
        "\n",
        "#```python\n",
        "\n",
        "# Sample data: Customer satisfaction scores for each product version\n",
        "\n",
        "#standard_scores = [80, 85, 90, 78, 88, 82, 92, 78, 85, 87]\n",
        "\n",
        "#premium_scores = [90, 92, 88, 92, 95, 91, 96, 93, 89, 93]\n",
        "\n",
        "#deluxe_scores = [95, 98, 92, 97, 96, 94, 98, 97, 92, 99]"
      ],
      "metadata": {
        "id": "W1Ld1ojIvDOx"
      },
      "execution_count": null,
      "outputs": []
    },
    {
      "cell_type": "code",
      "source": [
        "import pandas as pd\n",
        "import scipy.stats as stats\n",
        "\n",
        "# Create a DataFrame with the sample data\n",
        "data = pd.DataFrame({\n",
        "    'Standard': [80, 85, 90, 78, 88, 82, 92, 78, 85, 87],\n",
        "    'Premium': [90, 92, 88, 92, 95, 91, 96, 93, 89, 93],\n",
        "    'Deluxe': [95, 98, 92, 97, 96, 94, 98, 97, 92, 99]\n",
        "})\n",
        "\n",
        "# Perform one-way ANOVA\n",
        "f_statistic, p_value = stats.f_oneway(data['Standard'], data['Premium'], data['Deluxe'])\n",
        "\n",
        "# Display results\n",
        "print(f\"F-statistic: {f_statistic:.4f}\")\n",
        "print(f\"P-value: {p_value:.4f}\")\n",
        "\n",
        "# Interpretation\n",
        "alpha = 0.05\n",
        "if p_value < alpha:\n",
        "    print(\"Reject the null hypothesis: There is a significant difference in customer satisfaction scores.\")\n",
        "else:\n",
        "    print(\"Fail to reject the null hypothesis: No significant difference in customer satisfaction scores.\")\n",
        "\n"
      ],
      "metadata": {
        "colab": {
          "base_uri": "https://localhost:8080/"
        },
        "id": "Hd3AN0sF4pq4",
        "outputId": "ff695d02-6f93-4c16-c6ae-38b72f4664e3"
      },
      "execution_count": null,
      "outputs": [
        {
          "output_type": "stream",
          "name": "stdout",
          "text": [
            "F-statistic: 27.0356\n",
            "P-value: 0.0000\n",
            "Reject the null hypothesis: There is a significant difference in customer satisfaction scores.\n"
          ]
        }
      ]
    },
    {
      "cell_type": "code",
      "source": [
        "#A company implemented an employee training program to improve job performance (Effective, Neutral,\n",
        "#Ineffective). After the training, they collected data from a sample of employees and classified them based\n",
        "#on their job performance before and after the training. Perform a Chi-Square test to determine if there is a\n",
        "#significant difference between job performance levels before and after the training.\n",
        "\n",
        "#Sample data:\n",
        "\n",
        "#```python\n",
        "\n",
        "# Sample data: Job performance levels before (rows) and after (columns) training\n",
        "\n",
        "#data = np.array([[50, 30, 20], [30, 40, 30], [20, 30, 40]])"
      ],
      "metadata": {
        "id": "lmKmdHT35RTR"
      },
      "execution_count": null,
      "outputs": []
    },
    {
      "cell_type": "code",
      "source": [
        "import numpy as np\n",
        "from scipy.stats import chi2_contingency\n",
        "\n",
        "# Given sample data (contingency table)\n",
        "data = np.array([[50, 30, 20], [30, 40, 30], [20, 30, 40]])\n",
        "\n",
        "# Perform Chi-Square test\n",
        "chi2_statistic, p_value, dof, expected = chi2_contingency(data)\n",
        "\n",
        "# Display results\n",
        "print(f\"Chi-Square statistic: {chi2_statistic:.4f}\")\n",
        "print(f\"P-value: {p_value:.4f}\")\n",
        "print(f\"Degrees of freedom: {dof}\")\n",
        "\n",
        "# Interpretation\n",
        "alpha = 0.05\n",
        "if p_value < alpha:\n",
        "    print(\"Reject the null hypothesis: There is a significant difference between job performance levels.\")\n",
        "else:\n",
        "    print(\"Fail to reject the null hypothesis: No significant difference between job performance levels.\")\n"
      ],
      "metadata": {
        "colab": {
          "base_uri": "https://localhost:8080/"
        },
        "id": "jnYzenXy4ser",
        "outputId": "7945fbc9-5a35-4ec5-bafd-d5e7bb62072c"
      },
      "execution_count": null,
      "outputs": [
        {
          "output_type": "stream",
          "name": "stdout",
          "text": [
            "Chi-Square statistic: 22.1617\n",
            "P-value: 0.0002\n",
            "Degrees of freedom: 4\n",
            "Reject the null hypothesis: There is a significant difference between job performance levels.\n"
          ]
        }
      ]
    },
    {
      "cell_type": "code",
      "source": [
        "#A company conducted a customer satisfaction survey to determine if there is a significant relationship\n",
        "#between product satisfaction levels (Satisfied, Neutral, Dissatisfied) and the region where customers are\n",
        "#located (East, West, North, South). The survey data is summarized in a contingency table. Conduct a Chi-\n",
        "#Square test to determine if there is a significant relationship between product satisfaction levels and\n",
        "#customer regions.\n",
        "\n",
        "#Sample data:\n",
        "\n",
        "#```python\n",
        "\n",
        "#Sample data: Product satisfaction levels (rows) vs. Customer regions (columns)\n",
        "\n",
        "#data = np.array([[50, 30, 40, 20], [30, 40, 30, 50], [20, 30, 40, 30]])"
      ],
      "metadata": {
        "id": "EcV1Ku5d6Yzp"
      },
      "execution_count": null,
      "outputs": []
    },
    {
      "cell_type": "code",
      "source": [
        "import numpy as np\n",
        "from scipy.stats import chi2_contingency\n",
        "\n",
        "# Given sample data (contingency table)\n",
        "data = np.array([[50, 30, 40, 20], [30, 40, 30, 50], [20, 30, 40, 30]])\n",
        "\n",
        "# Perform Chi-Square test\n",
        "chi2_statistic, p_value, dof, expected = chi2_contingency(data)\n",
        "\n",
        "# Display results\n",
        "print(f\"Chi-Square statistic: {chi2_statistic:.4f}\")\n",
        "print(f\"P-value: {p_value:.4f}\")\n",
        "print(f\"Degrees of freedom: {dof}\")\n",
        "\n",
        "# Interpretation\n",
        "alpha = 0.05\n",
        "if p_value < alpha:\n",
        "    print(\"Reject the null hypothesis: There is a significant relationship between product satisfaction levels and customer regions.\")\n",
        "else:\n",
        "    print(\"Fail to reject the null hypothesis: No significant relationship between product satisfaction levels and customer regions.\")\n"
      ],
      "metadata": {
        "colab": {
          "base_uri": "https://localhost:8080/"
        },
        "id": "418HZnkf5Nf-",
        "outputId": "c9f13517-4615-4345-cefa-97febfbe3cdc"
      },
      "execution_count": null,
      "outputs": [
        {
          "output_type": "stream",
          "name": "stdout",
          "text": [
            "Chi-Square statistic: 27.7771\n",
            "P-value: 0.0001\n",
            "Degrees of freedom: 6\n",
            "Reject the null hypothesis: There is a significant relationship between product satisfaction levels and customer regions.\n"
          ]
        }
      ]
    },
    {
      "cell_type": "code",
      "source": [],
      "metadata": {
        "id": "D2seflbp6ILU"
      },
      "execution_count": null,
      "outputs": []
    }
  ]
}