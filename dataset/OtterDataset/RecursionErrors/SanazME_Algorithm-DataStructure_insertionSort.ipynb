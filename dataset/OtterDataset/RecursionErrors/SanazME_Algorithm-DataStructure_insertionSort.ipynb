{
 "cells": [
  {
   "cell_type": "code",
   "execution_count": 17,
   "metadata": {},
   "outputs": [],
   "source": [
    "def insertionSort(l_list):\n",
    "    num = len(l_list)\n",
    "    for i in range(1,num):\n",
    "        for j in range(0, i):\n",
    "            if l_list[i] < l_list[j]:\n",
    "                smaller = l_list[i]\n",
    "                l_list[i] = l_list[j]\n",
    "                l_list[j] = smaller\n",
    "    return l_list"
   ]
  },
  {
   "cell_type": "code",
   "execution_count": 18,
   "metadata": {},
   "outputs": [
    {
     "data": {
      "text/plain": [
       "[5, 6, 11, 12, 13]"
      ]
     },
     "execution_count": 18,
     "metadata": {},
     "output_type": "execute_result"
    }
   ],
   "source": [
    "insertionSort([12, 11, 13, 5, 6])"
   ]
  },
  {
   "cell_type": "code",
   "execution_count": 21,
   "metadata": {},
   "outputs": [],
   "source": [
    "def insertionSort2(l_list):\n",
    "    num = len(l_list)\n",
    "    \n",
    "    for i in range(1, num):\n",
    "        key = l_list[i]\n",
    "        j=i-1\n",
    "        \n",
    "        while j>=0 and key < l_list[j]:\n",
    "            l_list[j+1] = l_list[j]\n",
    "            j -= 1\n",
    "        l_list[j+1] = key\n",
    "    return l_list"
   ]
  },
  {
   "cell_type": "code",
   "execution_count": 22,
   "metadata": {},
   "outputs": [
    {
     "data": {
      "text/plain": [
       "[5, 6, 11, 12, 13]"
      ]
     },
     "execution_count": 22,
     "metadata": {},
     "output_type": "execute_result"
    }
   ],
   "source": [
    "insertionSort2([12, 11, 13, 5, 6])"
   ]
  },
  {
   "cell_type": "markdown",
   "metadata": {},
   "source": [
    "__Time Complexity__: O(n*2)\n",
    "\n",
    "__Auxiliary Space__: O(1)\n",
    "\n",
    "__Boundary Cases__: Insertion sort takes maximum time to sort if elements are sorted in reverse order. And it takes minimum time (Order of n) when elements are already sorted."
   ]
  },
  {
   "cell_type": "markdown",
   "metadata": {},
   "source": [
    "__Algorithmic Paradigm__: Incremental Approach\n",
    "\n",
    "__Sorting In Place__: Yes"
   ]
  },
  {
   "cell_type": "markdown",
   "metadata": {},
   "source": [
    "__What is Binary Insertion Sort?__\n",
    "We can use binary search to reduce the number of comparisons in normal insertion sort. Binary Insertion Sort find use binary search to find the proper location to insert the selected item at each iteration. In normal insertion, sort it takes O(i) (at ith iteration) in worst case. we can reduce it to O(logi) by using binary search. The algorithm as a whole still has a running worst case running time of O(n2) because of the series of swaps required for each insertion."
   ]
  },
  {
   "cell_type": "code",
   "execution_count": 43,
   "metadata": {},
   "outputs": [],
   "source": [
    "def binary_search(l_list, value, low, high):\n",
    "    # we need to distinugish whether we should insert \n",
    "    # before or after the left boundary.\n",
    "    if low == end:\n",
    "        if l_list[low] > value:\n",
    "            return low\n",
    "        else:\n",
    "            return low+1\n",
    "    # this occurs if we are moving beyond left's boundary \n",
    "    # meaning the left boundary is the least position to \n",
    "    # find a number greater than val \n",
    "    if low > high:\n",
    "        return value\n",
    "    \n",
    "    mid = (low+high)//2\n",
    "    \n",
    "    if value > l_list[mid]:\n",
    "        return binary_search(l_list, value, mid+1, high)\n",
    "    elif value < l_list[mid]:\n",
    "        return binary_search(l_list, value, low, mid-1)\n",
    "    else:\n",
    "        return mid"
   ]
  },
  {
   "cell_type": "code",
   "execution_count": 47,
   "metadata": {},
   "outputs": [],
   "source": [
    "def insetionBinarySort(l_list):\n",
    "    \n",
    "    for i in range(1,len(l_list)):\n",
    "        \n",
    "        key = l_list[i]\n",
    "        \n",
    "        # Location when the key should be inserted\n",
    "        loc = binary_search(l_list, key, 0, i-1)\n",
    "        \n",
    "        # Move all the elements after location to create space\n",
    "        l_list = l_list[:j] + [key] + l_list[j:i] + l_list[i+1:]\n",
    "        \n",
    "    return l_list\n",
    "            "
   ]
  },
  {
   "cell_type": "code",
   "execution_count": 48,
   "metadata": {},
   "outputs": [
    {
     "ename": "RecursionError",
     "evalue": "maximum recursion depth exceeded in comparison",
     "output_type": "error",
     "traceback": [
      "\u001b[0;31m---------------------------------------------------------------------------\u001b[0m",
      "\u001b[0;31mRecursionError\u001b[0m                            Traceback (most recent call last)",
      "\u001b[0;32m<ipython-input-48-78f45ed87be1>\u001b[0m in \u001b[0;36m<module>\u001b[0;34m\u001b[0m\n\u001b[0;32m----> 1\u001b[0;31m \u001b[0minsetionBinarySort\u001b[0m\u001b[0;34m(\u001b[0m\u001b[0;34m[\u001b[0m\u001b[0;36m12\u001b[0m\u001b[0;34m,\u001b[0m \u001b[0;36m11\u001b[0m\u001b[0;34m,\u001b[0m \u001b[0;36m13\u001b[0m\u001b[0;34m,\u001b[0m \u001b[0;36m5\u001b[0m\u001b[0;34m,\u001b[0m \u001b[0;36m6\u001b[0m\u001b[0;34m]\u001b[0m\u001b[0;34m)\u001b[0m\u001b[0;34m\u001b[0m\u001b[0m\n\u001b[0m",
      "\u001b[0;32m<ipython-input-47-a33da9ff85b2>\u001b[0m in \u001b[0;36minsetionBinarySort\u001b[0;34m(l_list)\u001b[0m\n\u001b[1;32m      6\u001b[0m \u001b[0;34m\u001b[0m\u001b[0m\n\u001b[1;32m      7\u001b[0m         \u001b[0;31m# Location when the key should be inserted\u001b[0m\u001b[0;34m\u001b[0m\u001b[0;34m\u001b[0m\u001b[0m\n\u001b[0;32m----> 8\u001b[0;31m         \u001b[0mloc\u001b[0m \u001b[0;34m=\u001b[0m \u001b[0mbinary_search\u001b[0m\u001b[0;34m(\u001b[0m\u001b[0ml_list\u001b[0m\u001b[0;34m,\u001b[0m \u001b[0mkey\u001b[0m\u001b[0;34m,\u001b[0m \u001b[0;36m0\u001b[0m\u001b[0;34m,\u001b[0m \u001b[0mi\u001b[0m\u001b[0;34m-\u001b[0m\u001b[0;36m1\u001b[0m\u001b[0;34m)\u001b[0m\u001b[0;34m\u001b[0m\u001b[0m\n\u001b[0m\u001b[1;32m      9\u001b[0m \u001b[0;34m\u001b[0m\u001b[0m\n\u001b[1;32m     10\u001b[0m         \u001b[0;31m# Move all the elements after location to create space\u001b[0m\u001b[0;34m\u001b[0m\u001b[0;34m\u001b[0m\u001b[0m\n",
      "\u001b[0;32m<ipython-input-43-8e8d51d44792>\u001b[0m in \u001b[0;36mbinary_search\u001b[0;34m(l_list, start, low, high)\u001b[0m\n\u001b[1;32m     11\u001b[0m         \u001b[0;32mreturn\u001b[0m \u001b[0mbinary_search\u001b[0m\u001b[0;34m(\u001b[0m\u001b[0ml_list\u001b[0m\u001b[0;34m,\u001b[0m \u001b[0mstart\u001b[0m\u001b[0;34m,\u001b[0m \u001b[0mmid\u001b[0m\u001b[0;34m,\u001b[0m \u001b[0mhigh\u001b[0m\u001b[0;34m)\u001b[0m\u001b[0;34m\u001b[0m\u001b[0m\n\u001b[1;32m     12\u001b[0m     \u001b[0;32melse\u001b[0m\u001b[0;34m:\u001b[0m\u001b[0;34m\u001b[0m\u001b[0m\n\u001b[0;32m---> 13\u001b[0;31m         \u001b[0;32mreturn\u001b[0m \u001b[0mbinary_search\u001b[0m\u001b[0;34m(\u001b[0m\u001b[0ml_list\u001b[0m\u001b[0;34m,\u001b[0m \u001b[0mstart\u001b[0m\u001b[0;34m,\u001b[0m \u001b[0mlow\u001b[0m\u001b[0;34m,\u001b[0m \u001b[0mmid\u001b[0m\u001b[0;34m)\u001b[0m\u001b[0;34m\u001b[0m\u001b[0m\n\u001b[0m\u001b[1;32m     14\u001b[0m \u001b[0;34m\u001b[0m\u001b[0m\n",
      "... last 1 frames repeated, from the frame below ...\n",
      "\u001b[0;32m<ipython-input-43-8e8d51d44792>\u001b[0m in \u001b[0;36mbinary_search\u001b[0;34m(l_list, start, low, high)\u001b[0m\n\u001b[1;32m     11\u001b[0m         \u001b[0;32mreturn\u001b[0m \u001b[0mbinary_search\u001b[0m\u001b[0;34m(\u001b[0m\u001b[0ml_list\u001b[0m\u001b[0;34m,\u001b[0m \u001b[0mstart\u001b[0m\u001b[0;34m,\u001b[0m \u001b[0mmid\u001b[0m\u001b[0;34m,\u001b[0m \u001b[0mhigh\u001b[0m\u001b[0;34m)\u001b[0m\u001b[0;34m\u001b[0m\u001b[0m\n\u001b[1;32m     12\u001b[0m     \u001b[0;32melse\u001b[0m\u001b[0;34m:\u001b[0m\u001b[0;34m\u001b[0m\u001b[0m\n\u001b[0;32m---> 13\u001b[0;31m         \u001b[0;32mreturn\u001b[0m \u001b[0mbinary_search\u001b[0m\u001b[0;34m(\u001b[0m\u001b[0ml_list\u001b[0m\u001b[0;34m,\u001b[0m \u001b[0mstart\u001b[0m\u001b[0;34m,\u001b[0m \u001b[0mlow\u001b[0m\u001b[0;34m,\u001b[0m \u001b[0mmid\u001b[0m\u001b[0;34m)\u001b[0m\u001b[0;34m\u001b[0m\u001b[0m\n\u001b[0m\u001b[1;32m     14\u001b[0m \u001b[0;34m\u001b[0m\u001b[0m\n",
      "\u001b[0;31mRecursionError\u001b[0m: maximum recursion depth exceeded in comparison"
     ]
    }
   ],
   "source": [
    "insetionBinarySort([12, 11, 13, 5, 6])"
   ]
  },
  {
   "cell_type": "code",
   "execution_count": 46,
   "metadata": {},
   "outputs": [
    {
     "name": "stdout",
     "output_type": "stream",
     "text": [
      "Object `xrange` not found.\n"
     ]
    }
   ],
   "source": [
    "range?"
   ]
  },
  {
   "cell_type": "code",
   "execution_count": 49,
   "metadata": {},
   "outputs": [],
   "source": [
    "ll=[2,3,4,5, 6, 8]"
   ]
  },
  {
   "cell_type": "code",
   "execution_count": 50,
   "metadata": {},
   "outputs": [
    {
     "ename": "TypeError",
     "evalue": "can only concatenate list (not \"int\") to list",
     "output_type": "error",
     "traceback": [
      "\u001b[0;31m---------------------------------------------------------------------------\u001b[0m",
      "\u001b[0;31mTypeError\u001b[0m                                 Traceback (most recent call last)",
      "\u001b[0;32m<ipython-input-50-defa43374c30>\u001b[0m in \u001b[0;36m<module>\u001b[0;34m\u001b[0m\n\u001b[0;32m----> 1\u001b[0;31m \u001b[0mll\u001b[0m\u001b[0;34m[\u001b[0m\u001b[0;34m:\u001b[0m\u001b[0;36m2\u001b[0m\u001b[0;34m]\u001b[0m\u001b[0;34m+\u001b[0m\u001b[0mll\u001b[0m\u001b[0;34m[\u001b[0m\u001b[0;36m3\u001b[0m\u001b[0;34m]\u001b[0m\u001b[0;34m+\u001b[0m\u001b[0mll\u001b[0m\u001b[0;34m[\u001b[0m\u001b[0;36m2\u001b[0m\u001b[0;34m:\u001b[0m\u001b[0;36m5\u001b[0m\u001b[0;34m]\u001b[0m\u001b[0;34m\u001b[0m\u001b[0m\n\u001b[0m",
      "\u001b[0;31mTypeError\u001b[0m: can only concatenate list (not \"int\") to list"
     ]
    }
   ],
   "source": [
    "ll[:2]+ll[3]+ll[2:5]"
   ]
  },
  {
   "cell_type": "code",
   "execution_count": 57,
   "metadata": {},
   "outputs": [
    {
     "name": "stdout",
     "output_type": "stream",
     "text": [
      "Sorted array:\n",
      "[23, 37, 0, 17, 12, 72, 31, 46, 100, 88, 54]\n",
      "[0, 23, 37, 17, 12, 72, 31, 46, 100, 88, 54]\n",
      "[0, 17, 23, 37, 12, 72, 31, 46, 100, 88, 54]\n",
      "[0, 12, 17, 23, 37, 72, 31, 46, 100, 88, 54]\n",
      "[0, 12, 17, 23, 37, 72, 31, 46, 100, 88, 54]\n",
      "[0, 12, 17, 23, 31, 37, 72, 46, 100, 88, 54]\n",
      "[0, 12, 17, 23, 31, 37, 46, 72, 100, 88, 54]\n",
      "[0, 12, 17, 23, 31, 37, 46, 72, 100, 88, 54]\n",
      "[0, 12, 17, 23, 31, 37, 46, 72, 88, 100, 54]\n",
      "[0, 12, 17, 23, 31, 37, 46, 54, 72, 88, 100]\n",
      "[0, 12, 17, 23, 31, 37, 46, 54, 72, 88, 100]\n"
     ]
    }
   ],
   "source": [
    "def binary_search(arr, val, start, end): \n",
    "    # we need to distinugish whether we should insert \n",
    "    # before or after the left boundary. \n",
    "    # imagine [0] is the last step of the binary search \n",
    "    # and we need to decide where to insert -1 \n",
    "    if start == end: \n",
    "        if arr[start] > val: \n",
    "            return start \n",
    "        else: \n",
    "            return start+1\n",
    "  \n",
    "    # this occurs if we are moving beyond left's boundary \n",
    "    # meaning the left boundary is the least position to \n",
    "    # find a number greater than val \n",
    "    if start > end: \n",
    "        return start \n",
    "  \n",
    "    mid = (start+end)//2\n",
    "    if arr[mid] < val: \n",
    "        return binary_search(arr, val, mid+1, end) \n",
    "    elif arr[mid] > val: \n",
    "        return binary_search(arr, val, start, mid-1) \n",
    "    else: \n",
    "        return mid \n",
    "  \n",
    "def insertion_sort(arr): \n",
    "    for i in range(1, len(arr)): \n",
    "        val = arr[i] \n",
    "        j = binary_search(arr, val, 0, i-1) \n",
    "        arr = arr[:j] + [val] + arr[j:i] + arr[i+1:] \n",
    "        print(arr)\n",
    "    return arr \n",
    "  \n",
    "print(\"Sorted array:\") \n",
    "print (insertion_sort([37, 23, 0, 17, 12, 72, 31, \n",
    "                        46, 100, 88, 54]))"
   ]
  },
  {
   "cell_type": "code",
   "execution_count": null,
   "metadata": {},
   "outputs": [],
   "source": []
  }
 ],
 "metadata": {
  "kernelspec": {
   "display_name": "Python 3",
   "language": "python",
   "name": "python3"
  },
  "language_info": {
   "codemirror_mode": {
    "name": "ipython",
    "version": 3
   },
   "file_extension": ".py",
   "mimetype": "text/x-python",
   "name": "python",
   "nbconvert_exporter": "python",
   "pygments_lexer": "ipython3",
   "version": "3.5.4"
  }
 },
 "nbformat": 4,
 "nbformat_minor": 2
}
