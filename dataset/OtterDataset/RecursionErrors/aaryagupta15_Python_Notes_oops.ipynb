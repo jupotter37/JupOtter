{
 "cells": [
  {
   "cell_type": "markdown",
   "metadata": {},
   "source": [
    "\n",
    "# + -> public class\n",
    "# - -> private class"
   ]
  },
  {
   "cell_type": "code",
   "execution_count": 5,
   "metadata": {},
   "outputs": [
    {
     "name": "stdout",
     "output_type": "stream",
     "text": [
      "<class '__main__.Computer'>\n",
      "i5,16gb,1TB\n",
      "i5,16gb,1TB\n",
      "i5,16gb,1TB\n",
      "i5,16gb,1TB\n"
     ]
    },
    {
     "data": {
      "text/plain": [
       "3"
      ]
     },
     "execution_count": 5,
     "metadata": {},
     "output_type": "execute_result"
    }
   ],
   "source": [
    "class Computer: #class\n",
    "    def config(self): #method\n",
    "        print(\"i5,16gb,1TB\")\n",
    "\n",
    "\n",
    "com1 = Computer() #parameter or object obassigned to a class\n",
    "com2 = Computer()\n",
    "print(type(com1))\n",
    "\n",
    "Computer.config(com1) #to use method we need to use class name also\n",
    "Computer.config(com2)  \n",
    "\n",
    "com1.config() #config takes com1 as a parameter itself\n",
    "com2.config()\n",
    "\n",
    "a = 5\n",
    "a.bit_length() # a is a parameter"
   ]
  },
  {
   "cell_type": "code",
   "execution_count": 7,
   "metadata": {},
   "outputs": [
    {
     "name": "stdout",
     "output_type": "stream",
     "text": [
      "in init\n",
      "in init\n",
      "Config is i5 16\n",
      "Config is Mac 8\n"
     ]
    }
   ],
   "source": [
    "class Computer: #class\n",
    "\n",
    "    def __init__(self,cpu,ram): # init is a constructor that initialize the variables\n",
    "        print(\"in init\")\n",
    "        self.cpu = cpu\n",
    "        self.ram = ram\n",
    "\n",
    "    def config(self): #method\n",
    "        print(\"Config is\", self.cpu,self.ram)\n",
    "\n",
    "com1 = Computer(\"i5\",16) \n",
    "com2 = Computer(\"Mac\",8)\n",
    "\n",
    "com1.config() #config takes com1 as a parameter itself\n",
    "com2.config()\n",
    "\n"
   ]
  },
  {
   "cell_type": "code",
   "execution_count": 1,
   "metadata": {},
   "outputs": [
    {
     "name": "stdout",
     "output_type": "stream",
     "text": [
      "2175452560992\n",
      "2175452554080\n"
     ]
    }
   ],
   "source": [
    "class Computer:\n",
    "    pass\n",
    "\n",
    "c1 = Computer()\n",
    "c2 = Computer()\n",
    "print(id(c1))\n",
    "print(id(c2))\n",
    "\n",
    "\n"
   ]
  },
  {
   "cell_type": "code",
   "execution_count": 5,
   "metadata": {},
   "outputs": [
    {
     "name": "stdout",
     "output_type": "stream",
     "text": [
      "Chiya\n",
      "23\n",
      "Aarya\n"
     ]
    }
   ],
   "source": [
    "class Computer:\n",
    "    def __init__(self):\n",
    "        self.name = \"Aarya\"\n",
    "        self.age = 20\n",
    "    \n",
    "    def update(self):\n",
    "        self.name = \"Chiya\"\n",
    "\n",
    "\n",
    "c1 = Computer()\n",
    "c2 = Computer()\n",
    "c1.update() # self will automatically call update method for c1\n",
    "c1.age = \"23\"\n",
    "print(c1.name)\n",
    "print(c1.age)\n",
    "print(c2.name)"
   ]
  },
  {
   "cell_type": "code",
   "execution_count": 6,
   "metadata": {},
   "outputs": [
    {
     "name": "stdout",
     "output_type": "stream",
     "text": [
      "There ages are same\n"
     ]
    }
   ],
   "source": [
    "class Computer:\n",
    "    def __init__(self):\n",
    "        self.name = \"Aarya\"\n",
    "        self.age = 20\n",
    "    \n",
    "    def update(self):\n",
    "        self.name = \"Chiya\"\n",
    "\n",
    "    def compare(self,c2): #compare(who is calling, whom to be compared) self = c1 \n",
    "        if self.age==c2.age: return True\n",
    "        else: return False \n",
    "\n",
    "c1 = Computer()\n",
    "c2 = Computer()\n",
    "\n",
    "if c1.compare(c2):\n",
    "    print(\"There ages are same\")"
   ]
  },
  {
   "cell_type": "code",
   "execution_count": 11,
   "metadata": {},
   "outputs": [
    {
     "name": "stdout",
     "output_type": "stream",
     "text": [
      "Mercedes 4.9 5\n",
      "Mercedes Benz 4.9 4\n"
     ]
    }
   ],
   "source": [
    "class Car:\n",
    "\n",
    "    wheels = 4 # Class Variables\n",
    "\n",
    "    def __init__(self): \n",
    "        self.name = \"Mercedes\" # Instanse Variables\n",
    "        self.rate = 4.9 # Instanse Variables\n",
    "\n",
    "car1 = Car()\n",
    "car2 = Car()\n",
    "\n",
    "car1.wheels = \"5\"\n",
    "car2.name = \"Mercedes Benz\"\n",
    "\n",
    "print(car1.name,car1.rate,car1.wheels)\n",
    "print(car2.name,car2.rate,car2.wheels)"
   ]
  },
  {
   "cell_type": "code",
   "execution_count": 18,
   "metadata": {},
   "outputs": [
    {
     "name": "stdout",
     "output_type": "stream",
     "text": [
      "Length: 5 &  Width:3\n",
      "15\n",
      "16\n"
     ]
    }
   ],
   "source": [
    "class Rectangle:\n",
    "    def __init__(self,length,width):\n",
    "        self.length = length\n",
    "        self.width = width\n",
    "    \n",
    "    def __str__(self):\n",
    "        return f\"Length: {self.length} &  Width:{self.width}\"\n",
    "    \n",
    "    def get_area(self):\n",
    "        return self.length * self.width\n",
    "    \n",
    "    def get_perimeter(self):\n",
    "        return ((self.length + self.width)*2)\n",
    "    \n",
    "# Printing the rectangle object implicitly calls the __str__ method\n",
    "rectangle = Rectangle(5,3)\n",
    "print(rectangle)\n",
    "# You need to explicitly call the methods to get the area and perimeter\n",
    "print(rectangle.get_area())\n",
    "print(rectangle.get_perimeter())\n",
    "\n",
    "        "
   ]
  },
  {
   "cell_type": "code",
   "execution_count": null,
   "metadata": {},
   "outputs": [],
   "source": [
    "class Book:\n",
    "    def __init__(self,title,author,is_checked_out):\n",
    "        self.title = title\n",
    "        self.author = author\n",
    "        self.is_checked_out = False\n",
    "\n",
    "    def __str__(self):\n",
    "        print(f\"This is the name and author of the book: {self.title}, {self.author}\")\n",
    "\n",
    "\n",
    "class Library:\n",
    "    def __init__(self):\n",
    "        self.books = []"
   ]
  },
  {
   "cell_type": "code",
   "execution_count": 1,
   "metadata": {},
   "outputs": [
    {
     "name": "stdout",
     "output_type": "stream",
     "text": [
      "Circle: Color - Red, Filled - True, Area - 78.5\n",
      "Rectangle: Color - Blue, Filled - False, Area - 24.0\n"
     ]
    }
   ],
   "source": [
    "class Shape:\n",
    "    def __init__(self,color,filled):\n",
    "        self.color = color\n",
    "        self.filled = filled\n",
    "\n",
    "    def get_color(self):\n",
    "        return self.color\n",
    "\n",
    "    def is_filled(self):\n",
    "        return self.filled\n",
    "    \n",
    "class Circle(Shape):\n",
    "    def __init__(self,color,filled,radius):\n",
    "        super().__init__(color, filled)\n",
    "        self.radius = radius\n",
    "\n",
    "    def get_area(self):\n",
    "        return 3.14*self.radius**2\n",
    "\n",
    "class Rectangle(Shape):\n",
    "    def __init__(self,color,filled,length,width):\n",
    "        super().__init__(color, filled)\n",
    "        self.length = length\n",
    "        self.width = width\n",
    "\n",
    "    def get_area(self):\n",
    "        return self.length * self.width\n",
    "    \n",
    "\n",
    "circle = Circle(\"Red\", True, 5.0)\n",
    "rectangle = Rectangle(\"Blue\", False, 4.0, 6.0)\n",
    "\n",
    "print(f\"Circle: Color - {circle.get_color()}, Filled - {circle.is_filled()}, Area - {circle.get_area()}\")\n",
    "print(f\"Rectangle: Color - {rectangle.get_color()}, Filled - {rectangle.is_filled()}, Area - {rectangle.get_area()}\")\n"
   ]
  },
  {
   "cell_type": "code",
   "execution_count": 6,
   "metadata": {},
   "outputs": [],
   "source": [
    "class Atm:\n",
    "    def __init__(self):\n",
    "        self.pin = ''\n",
    "        self.balance = 0\n",
    "        self.menu()\n",
    "    \n",
    "    def menu(self):\n",
    "        print()\n",
    "        user_input = input(\"\"\"\n",
    "              What operation would like to perform: \n",
    "              1. Create your pin & balance\n",
    "              2. Change your pin\n",
    "              3. Check Balance\n",
    "              4. Withdraw Money\"\"\")\n",
    "        \n",
    "        if user_input == '1':\n",
    "            self.create_pin()\n",
    "        elif user_input == '2':\n",
    "            self.change_pin()      \n",
    "        elif user_input == '3':\n",
    "            self.check_balance() \n",
    "        elif user_input == '4':\n",
    "            self.withdraw()\n",
    "        else: \n",
    "            exit()              \n",
    "    \n",
    "    def create_pin(self):\n",
    "        user_pin = input(\"Enter your pin: \")\n",
    "        self.pin = user_pin\n",
    "        user_balance = int(input(\"Enter your balance: \"))\n",
    "        self.balance = user_balance\n",
    "        print(\"Pin created succesfully\")\n",
    "        self.menu()\n",
    "\n",
    "    def change_pin(self):\n",
    "        old_pin = input(\"Enter your old pin\")\n",
    "\n",
    "        if old_pin == self.pin:\n",
    "            new_pin = input(\"Enter your new pin\")\n",
    "            self.pin = new_pin\n",
    "            print(\"Pin changed succesfully\")\n",
    "            self.menu()\n",
    "        else:\n",
    "            print(\"Your pin is wrong\")\n",
    "            self.menu()\n",
    "\n",
    "    def check_balance(self):\n",
    "        check_pin =  input(\"Enter your pin\")\n",
    "        if check_pin == self.pin:\n",
    "            print(f'Your balance is: {self.balance}')\n",
    "            self.menu()\n",
    "        else:\n",
    "            print(\"Your pin is wrong\")\n",
    "            self.menu()\n",
    "\n",
    "    def withdraw(self):\n",
    "        withdraw_pin = input(\"Enter your pin\")\n",
    "        if withdraw_pin == self.pin:\n",
    "            money_deducted = int(input(f'Enter the amount to be withdrawn'))\n",
    "            self.balance = self.balance - money_deducted\n",
    "            self.menu()\n",
    "        else:\n",
    "            print(\"Your pin is wrong\")\n",
    "            self.menu() \n"
   ]
  },
  {
   "cell_type": "code",
   "execution_count": 7,
   "metadata": {},
   "outputs": [
    {
     "name": "stdout",
     "output_type": "stream",
     "text": [
      "\n",
      "Pin created succesfully\n",
      "\n",
      "\n",
      "Your balance is: 5\n",
      "\n",
      "Your balance is: 5\n",
      "\n"
     ]
    },
    {
     "ename": "",
     "evalue": "",
     "output_type": "error",
     "traceback": [
      "\u001b[1;31mThe Kernel crashed while executing code in the current cell or a previous cell. \n",
      "\u001b[1;31mPlease review the code in the cell(s) to identify a possible cause of the failure. \n",
      "\u001b[1;31mClick <a href='https://aka.ms/vscodeJupyterKernelCrash'>here</a> for more info. \n",
      "\u001b[1;31mView Jupyter <a href='command:jupyter.viewOutput'>log</a> for further details."
     ]
    }
   ],
   "source": [
    "first_user = Atm()"
   ]
  },
  {
   "cell_type": "markdown",
   "metadata": {},
   "source": [
    "# Constructor is used to create configuration level code! If I want to connect my application to database, back end as soon as it start. Internet se connect karna ka code. Jo tasks hum khud karna chahte hai, user ki permission ya interference ke bina\n",
    "\n",
    "### Parameterised, default types ke hote hai"
   ]
  },
  {
   "cell_type": "markdown",
   "metadata": {},
   "source": [
    "# <font color = 'Pink'> Self kya hai?\n",
    "\n",
    "Jab kisi function ko doosre function ko call karna hota, OOPs ye permission nahi deta hai. Mtlb check_balance, withdraw function ko call nahi kar sakta. Iska reason ye hai ki CLASS KA OBJECT HI METHOD KO CALL KAR SAKTA HAI YA ACCESS KAR SAKTA HAI. \n",
    "\n",
    "### Par __init__ bhi ek method(constructor) hai to usne menue function ko call kaise kiya?\n",
    "\n",
    "Iske liye apan ne self ka use kiya. To basically self apna object hi hai jo naam badal ke ek function mein doosre function ko access kar raha hai. Isiliye SELF AUR OBJECT KA ADDRESS SAME HAI. Object hi self hai jo indirectly kaam kar raha hai. </font>"
   ]
  },
  {
   "cell_type": "markdown",
   "metadata": {},
   "source": [
    "# <font color = 'Orange'> Fraction data type </font>"
   ]
  },
  {
   "cell_type": "code",
   "execution_count": 14,
   "metadata": {},
   "outputs": [],
   "source": [
    "class Fraction:\n",
    "    def __init__(self,x,y):\n",
    "        self.num = x\n",
    "        self.den = y\n",
    "\n",
    "    def __str__(self):\n",
    "        return '{}/{}'.format(self.num,self.den)\n",
    "    \n",
    "    def __add__(self,other):\n",
    "        new_num = self.num*other.den + other.num*self.den\n",
    "        new_den = self.den*other.den\n",
    "\n",
    "        return '{}/{}'.format(new_num,new_den)\n",
    "      \n",
    "    def __sub__(self,other):\n",
    "        new_num = self.num*other.den - other.num*self.den\n",
    "        new_den = self.den*other.den\n",
    "\n",
    "        return '{}/{}'.format(new_num,new_den)\n",
    "    \n",
    "    def __mul__(self,other):\n",
    "        new_num = self.num*other.den * other.num*self.den\n",
    "        new_den = self.den*other.den\n",
    "\n",
    "        return '{}/{}'.format(new_num,new_den)\n",
    "    \n",
    "    def __truediv__(self,other):\n",
    "        new_num = self.num*other.den / other.num*self.den\n",
    "        new_den = self.den*other.den\n",
    "\n",
    "        return '{}/{}'.format(new_num,new_den)\n",
    "    "
   ]
  },
  {
   "cell_type": "code",
   "execution_count": 15,
   "metadata": {},
   "outputs": [],
   "source": [
    "fr1 = Fraction(3,4)\n",
    "fr2 = Fraction(1,2)"
   ]
  },
  {
   "cell_type": "code",
   "execution_count": 16,
   "metadata": {},
   "outputs": [
    {
     "name": "stdout",
     "output_type": "stream",
     "text": [
      "3/4\n",
      "1/2\n",
      "\n",
      "10/8\n",
      "2/8\n",
      "24/8\n",
      "24.0/8\n"
     ]
    }
   ],
   "source": [
    "print(fr1)\n",
    "print(fr2)\n",
    "print()\n",
    "print(fr1 + fr2)\n",
    "print(fr1 - fr2)\n",
    "print(fr1 * fr2)\n",
    "print(fr1 / fr2)"
   ]
  },
  {
   "cell_type": "markdown",
   "metadata": {},
   "source": [
    "# <font color = 'orange'> __str__ kya hai?\n",
    "\n",
    "\n",
    "### Ab dekho isme kya hua! Humne ek aur dunder method ka use kiya jiska naam hai __str__. Ab str kya karta hai wo automatically return karta hai print statement. Matlab jab bhi hum object ko print karne ki koshish karenge ki object dikhta kaisa hai to hum print statement denge and __str__ automatically call ho jayega and print kar dega. </font>"
   ]
  },
  {
   "cell_type": "markdown",
   "metadata": {},
   "source": [
    "# <font color = 'orange'> __add__ kya hai?\n",
    "\n",
    "\n",
    "### Humne ek aur dunder method ka use kiya jiska naam hai __add__. Ab add kya karta hai wo automatically return karta hai addition. Matlab jab bhi hum objects ko add karne ki koshish karenge to hum obj1 + ob2 denge and __add__ automatically call ho jayega and execute kar dega wo statement jo hume karwana hai. </font>"
   ]
  },
  {
   "cell_type": "markdown",
   "metadata": {},
   "source": [
    "### Write OOP classes to handle the following scenarios:\n",
    "\n",
    "- A user can create and view 2D coordinates\n",
    "- A user can find out the distance between 2 coordinates\n",
    "- A user can find find the distance of a coordinate from origin\n",
    "- A user can check if a point lies on a given line\n",
    "- A user can find the distance between a given 2D point and a given line"
   ]
  },
  {
   "cell_type": "code",
   "execution_count": 25,
   "metadata": {},
   "outputs": [],
   "source": [
    "class Coordinates:\n",
    "    def __init__(self):\n",
    "        self.x1 = 0\n",
    "        self.y1 = 0\n",
    "        self.x2 = 0\n",
    "        self.y2 = 0\n",
    "        self.options()\n",
    "        \n",
    "    def options(self):\n",
    "        ans = input(\"\"\"\n",
    "                    What operation would you like to perform\n",
    "                    1 create and view 2D coordinates\n",
    "                    2 find out the distance between 2 coordinates\n",
    "                    3 find the distance of a coordinate from origin\n",
    "                    \"\"\")\n",
    "        \n",
    "        if ans == '1':\n",
    "            self.create_view()\n",
    "        elif ans == '2':\n",
    "            self.distance_coordinates()\n",
    "        elif ans == '3':\n",
    "            self.distance_origin()\n",
    "        else:\n",
    "            exit()\n",
    "\n",
    "    def create_view(self):\n",
    "        user_x1 = int(input(\"Enter your 1st x coordinates: \"))\n",
    "        user_y1 = int(input(\"Enter your 1st y coordinates: \"))\n",
    "        user_x2 = int(input(\"Enter your 2nd x coordinates: \"))\n",
    "        user_y2 = int(input(\"Enter your 2nd y coordinates: \"))\n",
    "\n",
    "        self.x1 = user_x1\n",
    "        self.y1 = user_y1\n",
    "        self.x2 = user_x2\n",
    "        self.y2 = user_y2\n",
    "\n",
    "        print(f'The first coordinates are: {self.x1},{self.y1}')\n",
    "        print(f'The second coordinates are: {self.x2},{self.y2}')\n",
    "        self.options()\n",
    "\n",
    "    def distance_coordinates(self):\n",
    "        \n",
    "        distance = pow((pow((self.x2-self.x1),2) + pow((self.y2-self.y1),2)),0.5)\n",
    "        print(f'The distance between the two coordinates is {distance}')\n",
    "    \n",
    "    def distance_origin(self):\n",
    "        distance_origin = (self.x1**2 + self.y1**2)**0.5\n",
    "        print (f'The distance between the two coordinates from origin is {distance_origin}')\n",
    "        \n",
    "        "
   ]
  },
  {
   "cell_type": "code",
   "execution_count": 26,
   "metadata": {},
   "outputs": [
    {
     "name": "stdout",
     "output_type": "stream",
     "text": [
      "The first coordinates are: 2,2\n",
      "The second coordinates are: 2,2\n",
      "The distance between the two coordinates is 0.0\n"
     ]
    }
   ],
   "source": [
    "First_object = Coordinates()"
   ]
  },
  {
   "cell_type": "code",
   "execution_count": 33,
   "metadata": {},
   "outputs": [],
   "source": [
    "class Point:\n",
    "\n",
    "  def __init__(self,x,y):\n",
    "    self.x_cod = x\n",
    "    self.y_cod = y\n",
    "\n",
    "  def __str__(self):\n",
    "    return '<{},{}>'.format(self.x_cod,self.y_cod)\n",
    "\n",
    "  def euclidean_distance(self,other):\n",
    "    return ((self.x_cod - other.x_cod)**2 + (self.y_cod - other.y_cod)**2)**0.5\n",
    "\n",
    "  def distance_from_origin(self):\n",
    "    return (self.x_cod**2 + self.y_cod**2)**0.5\n",
    "    # return self.euclidean_distance(Point(0,0))\n",
    "\n",
    "class Line:\n",
    "\n",
    "  def __init__(self,A,B,C):\n",
    "    self.A = A\n",
    "    self.B = B\n",
    "    self.C = C\n",
    "\n",
    "  def __str__(self):\n",
    "    return '{}x + {}y + {} = 0'.format(self.A,self.B,self.C)\n",
    "\n",
    "  def point_on_line(line,point):\n",
    "    if line.A*point.x_cod + line.B*point.y_cod + line.C == 0:\n",
    "      return \"lies on the line\"\n",
    "    else:\n",
    "      return \"does not lie on the line\"\n",
    "\n",
    "  def shortest_distance(line,point):\n",
    "    return abs(line.A*point.x_cod + line.B*point.y_cod + line.C)/(line.A**2 + line.B**2)**0.5"
   ]
  },
  {
   "cell_type": "code",
   "execution_count": 34,
   "metadata": {},
   "outputs": [],
   "source": [
    "p1 = Point(1,10)\n",
    "p2 = Point(2,3)"
   ]
  },
  {
   "cell_type": "code",
   "execution_count": 35,
   "metadata": {},
   "outputs": [
    {
     "name": "stdout",
     "output_type": "stream",
     "text": [
      "<1,10>\n",
      "<1,10>\n"
     ]
    },
    {
     "data": {
      "text/plain": [
       "7.0710678118654755"
      ]
     },
     "execution_count": 35,
     "metadata": {},
     "output_type": "execute_result"
    }
   ],
   "source": [
    "print(p1)\n",
    "print(p1)\n",
    "p1.euclidean_distance(p2)"
   ]
  },
  {
   "cell_type": "code",
   "execution_count": 36,
   "metadata": {},
   "outputs": [
    {
     "data": {
      "text/plain": [
       "3.605551275463989"
      ]
     },
     "execution_count": 36,
     "metadata": {},
     "output_type": "execute_result"
    }
   ],
   "source": [
    "p2.distance_from_origin()"
   ]
  },
  {
   "cell_type": "code",
   "execution_count": 38,
   "metadata": {},
   "outputs": [
    {
     "name": "stdout",
     "output_type": "stream",
     "text": [
      "1x + 1y + -2 = 0\n",
      "<1,10>\n"
     ]
    },
    {
     "data": {
      "text/plain": [
       "6.363961030678928"
      ]
     },
     "execution_count": 38,
     "metadata": {},
     "output_type": "execute_result"
    }
   ],
   "source": [
    "l1 = Line(1,1,-2)\n",
    "p1 = Point(1,10)\n",
    "print(l1)\n",
    "print(p1) \n",
    "\n",
    "l1.shortest_distance(p1)"
   ]
  },
  {
   "cell_type": "markdown",
   "metadata": {},
   "source": [
    "# <font color='skyblue'> Reference Variables </font>\n",
    "- Reference variables hold the objects\n",
    "- We can create objects without reference variable as well\n",
    "- An object can have multiple reference variables\n",
    "- Assigning a new reference variable to an existing object does not create a new object\n",
    "- Objects in Python are mutable"
   ]
  },
  {
   "cell_type": "code",
   "execution_count": 39,
   "metadata": {},
   "outputs": [],
   "source": [
    "class Person:\n",
    "  def __init__(self):\n",
    "    self.name = 'nitish'\n",
    "    self.gender = 'male'\n",
    "\n",
    "p = Person()\n",
    "q = p"
   ]
  },
  {
   "cell_type": "code",
   "execution_count": 40,
   "metadata": {},
   "outputs": [
    {
     "name": "stdout",
     "output_type": "stream",
     "text": [
      "1895710347760\n",
      "1895710347760\n",
      "nitish\n",
      "nitish\n",
      "ankit\n",
      "ankit\n"
     ]
    }
   ],
   "source": [
    "# Multiple ref\n",
    "print(id(p))\n",
    "print(id(q))\n",
    "\n",
    "print(p.name)\n",
    "print(q.name)\n",
    "q.name = 'ankit'\n",
    "print(q.name)\n",
    "print(p.name)"
   ]
  },
  {
   "cell_type": "code",
   "execution_count": 41,
   "metadata": {},
   "outputs": [
    {
     "name": "stdout",
     "output_type": "stream",
     "text": [
      "Hi my name is nitish and I am a male\n"
     ]
    }
   ],
   "source": [
    "class Person:\n",
    "    def __init__(self,name,gender):\n",
    "        self.name = name\n",
    "        self.gender = gender\n",
    "\n",
    "def greet(person):\n",
    "    print(f'Hi my name is {person.name} and I am a {person.gender}')\n",
    "\n",
    "p = Person('nitish','male')\n",
    "greet(p)"
   ]
  },
  {
   "cell_type": "code",
   "execution_count": 46,
   "metadata": {},
   "outputs": [
    {
     "name": "stdout",
     "output_type": "stream",
     "text": [
      "Hi my name is nitish and I am a male\n",
      "ankit\n",
      "male\n"
     ]
    }
   ],
   "source": [
    "class Person:\n",
    "    def __init__(self,name,gender):\n",
    "        self.name = name\n",
    "        self.gender = gender\n",
    "\n",
    "def greet(person):\n",
    "    print(f'Hi my name is {person.name} and I am a {person.gender}')\n",
    "    p1 = Person('ankit','male')\n",
    "    return p1\n",
    "\n",
    "p = Person('nitish','male')\n",
    "x = greet(p)\n",
    "print(x.name)\n",
    "print(x.gender)"
   ]
  },
  {
   "cell_type": "markdown",
   "metadata": {},
   "source": [
    "### Ab yaha par kya samajh rahe hai?\n",
    "Basically yaha pe humne pass by reference kiya hai. \n",
    "\n",
    "First case mein meine ek Person class banai jisme meine name and gender karke 2 arguements pass kiya.\n",
    "outside person class mein ek function greet create kiya jiska argument person tha\n",
    "\n",
    "Now Workflow:\n",
    "1. Object p is initialized with the class Person with parameters 'nitish' and 'male.\n",
    "2. I called greet function with object p as an argument for person. \n",
    "3. Now this means that greet function can access all attributes of person object which in return is initiated with Person class.\n",
    "4. Now, cursor moves to greet function and a print statement is printing person.name and person.gender\n",
    "person.name -> p.name -> Person class with self.name -> nitish\n",
    "5. An output is printed with nitish and male.\n",
    "6. Now we created another object p1 of Class Person in greet function with parameters 'ankit' & 'male and p1 is returned.\n",
    "7. Now we called x.name to be printed.\n",
    "x.name -> greet(x) -> greet(p) -> Person(p) -> Person(p1) -> p1.name = 'ankit'\n"
   ]
  },
  {
   "cell_type": "markdown",
   "metadata": {},
   "source": [
    "# <font color = 'lightgreen'> Encapsulation </font>\n",
    "\n",
    "Maan lo kisi ne ATM wale function mein balance wale attribute ko access karke uski value koi string daal di. Ab withdraw func mein problem higi kyunki int minus string can't happen. This will create an error.  \n",
    "Now to avoid this situation, hum apne attributes ya function ko private bana denge so that bahar se koi unhe access karke unhe change na kar sake.   \n",
    "To make a function/variable private, use <font color = 'lightgreen'> __function/__variable.</font>\n",
    "Now, no one can see that function but if someone directly changes __function, then also there will be no error.  \n",
    "Because when somebody will try to access the variable and change it, it will create no error because after making any attribute private, it has its own another memory address which is <font color = 'lightgreen'> _classname__variablename. </font> So, changes in __function will not produce any error.  \n",
    "But anyone still can directly access _classname__variablename and change it. So Python is not truely private.  "
   ]
  },
  {
   "cell_type": "markdown",
   "metadata": {},
   "source": [
    "### But if hum kisi ko access nahi dena chah rahe but atleast wo varaiable ki value ko dekh/change kar paaye.\n",
    "\n",
    "For this we have <font color = 'lightgreen'>getter and setter methods.</font> getter print kar dega and setter value change kardega.  \n",
    "But then, iska advantage kya hua? Wo ye ki getter and setter methods hai to apan isme apna logic laga sakte hai. For example:\n",
    "\n",
    "def get.balance(self):\n",
    "return self.__balance\n",
    "\n",
    "def set.balance(self,new_value):\n",
    "if type(new_value) == int:\n",
    "self.__balance = new_value"
   ]
  },
  {
   "cell_type": "markdown",
   "metadata": {},
   "source": [
    "# <font color = 'grey'> Collection of Objects </font>"
   ]
  },
  {
   "cell_type": "code",
   "execution_count": 3,
   "metadata": {},
   "outputs": [
    {
     "name": "stdout",
     "output_type": "stream",
     "text": [
      "[<__main__.Person object at 0x00000206477D5940>, <__main__.Person object at 0x00000206477D4AA0>, <__main__.Person object at 0x00000206477D40B0>]\n"
     ]
    }
   ],
   "source": [
    "# List of Objects\n",
    "\n",
    "class Person():\n",
    "    def __init__(self,name,gender):\n",
    "        self.name = name\n",
    "        self.gender = gender\n",
    "\n",
    "\n",
    "p1 = Person('aarya','female')\n",
    "p2 = Person('aarya','female')\n",
    "p3 = Person('aarya','female')\n",
    "\n",
    "L = [p1,p2,p3]\n",
    "print(L)"
   ]
  },
  {
   "cell_type": "code",
   "execution_count": 6,
   "metadata": {},
   "outputs": [
    {
     "name": "stdout",
     "output_type": "stream",
     "text": [
      "aarya female\n",
      "aarya female\n",
      "aarya female\n"
     ]
    }
   ],
   "source": [
    "for i in L:\n",
    "    print(i.name,i.gender)"
   ]
  },
  {
   "cell_type": "markdown",
   "metadata": {},
   "source": [
    "# <font color = 'darkyellow'> Static Variables </font>"
   ]
  },
  {
   "cell_type": "markdown",
   "metadata": {},
   "source": [
    "Instance variables ka value har object ke liye alag hota hai and Static Variables ka value har object e liye same hota hai. For example, ek bank ya atm mein user ka anem, user ka balance instance variables hai kyunki wo har user ke liye alag ban rahe hai. But iFSC code and all static hai kyunki wo har user ke liye IFSC code bank ka same hota hai.  \n",
    "\n",
    "Static variables class ke andar par method ke bahar define hote hai while instance class ke method ke andar.\n",
    "Static variable ko call ke liye <font color='skyblue'>classname.staticvariable lagta hai</font>\n",
    "Instance variable ko call ke liye <font color='skyblue'>objectname.instancevariable lagta hai jaise self.pin </font>\n",
    "\n",
    "Static variable ko private karne ke liye bhi apan ko __static use karna hota hai\n",
    "\n",
    "@staticmethod ko as a decorator use karte hai"
   ]
  },
  {
   "cell_type": "markdown",
   "metadata": {},
   "source": [
    "# <font color = 'brown'> Aggregation - 2 classes ke Has a Relationship</font>"
   ]
  },
  {
   "cell_type": "code",
   "execution_count": 7,
   "metadata": {},
   "outputs": [
    {
     "name": "stdout",
     "output_type": "stream",
     "text": [
      "bhopal mp 462038\n"
     ]
    }
   ],
   "source": [
    "class Customer:\n",
    "    def __init__(self,name,gender,address):\n",
    "        self.name = name\n",
    "        self.gender = gender\n",
    "        self.address = address\n",
    "\n",
    "    def print_address(self):\n",
    "        print(self.address.city,self.address.state,self.address.pin)\n",
    "\n",
    "class Address:\n",
    "    def __init__(self,city,state,pin):\n",
    "        self.city = city\n",
    "        self.state = state\n",
    "        self.pin = pin\n",
    "\n",
    "ad1 = Address('bhopal','mp','462038')\n",
    "customer1 = Customer('aarya','female',ad1)\n",
    "Customer.print_address(customer1)"
   ]
  },
  {
   "cell_type": "code",
   "execution_count": 15,
   "metadata": {},
   "outputs": [
    {
     "ename": "AttributeError",
     "evalue": "'Address' object has no attribute '_Customer__city'",
     "output_type": "error",
     "traceback": [
      "\u001b[1;31m---------------------------------------------------------------------------\u001b[0m",
      "\u001b[1;31mAttributeError\u001b[0m                            Traceback (most recent call last)",
      "Cell \u001b[1;32mIn[15], line 18\u001b[0m\n\u001b[0;32m     16\u001b[0m ad1 \u001b[38;5;241m=\u001b[39m Address(\u001b[38;5;124m'\u001b[39m\u001b[38;5;124mbhopal\u001b[39m\u001b[38;5;124m'\u001b[39m,\u001b[38;5;124m'\u001b[39m\u001b[38;5;124mmp\u001b[39m\u001b[38;5;124m'\u001b[39m,\u001b[38;5;124m'\u001b[39m\u001b[38;5;124m462038\u001b[39m\u001b[38;5;124m'\u001b[39m)\n\u001b[0;32m     17\u001b[0m customer1 \u001b[38;5;241m=\u001b[39m Customer(\u001b[38;5;124m'\u001b[39m\u001b[38;5;124maarya\u001b[39m\u001b[38;5;124m'\u001b[39m,\u001b[38;5;124m'\u001b[39m\u001b[38;5;124mfemale\u001b[39m\u001b[38;5;124m'\u001b[39m,ad1)\n\u001b[1;32m---> 18\u001b[0m \u001b[43mcustomer1\u001b[49m\u001b[38;5;241;43m.\u001b[39;49m\u001b[43mprint_address\u001b[49m\u001b[43m(\u001b[49m\u001b[43m)\u001b[49m\n",
      "Cell \u001b[1;32mIn[15], line 8\u001b[0m, in \u001b[0;36mCustomer.print_address\u001b[1;34m(self)\u001b[0m\n\u001b[0;32m      7\u001b[0m \u001b[38;5;28;01mdef\u001b[39;00m \u001b[38;5;21mprint_address\u001b[39m(\u001b[38;5;28mself\u001b[39m):\n\u001b[1;32m----> 8\u001b[0m     \u001b[38;5;28mprint\u001b[39m(\u001b[38;5;28;43mself\u001b[39;49m\u001b[38;5;241;43m.\u001b[39;49m\u001b[43maddress\u001b[49m\u001b[38;5;241;43m.\u001b[39;49m\u001b[43m__city\u001b[49m,\u001b[38;5;28mself\u001b[39m\u001b[38;5;241m.\u001b[39maddress\u001b[38;5;241m.\u001b[39mstate,\u001b[38;5;28mself\u001b[39m\u001b[38;5;241m.\u001b[39maddress\u001b[38;5;241m.\u001b[39mpin)\n",
      "\u001b[1;31mAttributeError\u001b[0m: 'Address' object has no attribute '_Customer__city'"
     ]
    }
   ],
   "source": [
    "class Customer:\n",
    "    def __init__(self,name,gender,address):\n",
    "        self.name = name\n",
    "        self.gender = gender\n",
    "        self.address = address\n",
    "\n",
    "    def print_address(self):\n",
    "        print(self.address.__city,self.address.state,self.address.pin)\n",
    "\n",
    "class Address:\n",
    "    def __init__(self,city,state,pin):\n",
    "        self.__city = city\n",
    "        self.state = state\n",
    "        self.pin = pin\n",
    "\n",
    "ad1 = Address('bhopal','mp','462038')\n",
    "customer1 = Customer('aarya','female',ad1)\n",
    "customer1.print_address()"
   ]
  },
  {
   "cell_type": "markdown",
   "metadata": {},
   "source": [
    "### Aggregation can't access private variables. Through address we can."
   ]
  },
  {
   "cell_type": "code",
   "execution_count": 24,
   "metadata": {},
   "outputs": [
    {
     "name": "stdout",
     "output_type": "stream",
     "text": [
      "bhopal mp 462038\n"
     ]
    }
   ],
   "source": [
    "class Customer:\n",
    "    def __init__(self,name,gender,address):\n",
    "        self.name = name\n",
    "        self.gender = gender\n",
    "        self.address = address\n",
    "\n",
    "    def print_address(self):\n",
    "        print(self.address.get_city(),self.address.state,self.address.pin)\n",
    "\n",
    "class Address:\n",
    "    def __init__(self,city,state,pin):\n",
    "        self.__city = city\n",
    "        self.state = state\n",
    "        self.pin = pin\n",
    "\n",
    "    def get_city(self):\n",
    "        return self.__city\n",
    "\n",
    "ad1 = Address('bhopal','mp','462038')\n",
    "customer1 = Customer('aarya','female',ad1)\n",
    "customer1.print_address()"
   ]
  },
  {
   "cell_type": "code",
   "execution_count": 41,
   "metadata": {},
   "outputs": [
    {
     "name": "stdout",
     "output_type": "stream",
     "text": [
      "bhopal mp 462038\n",
      "mumbai mh 345068\n"
     ]
    }
   ],
   "source": [
    "class Customer:\n",
    "    def __init__(self,name,gender,address):\n",
    "        self.name = name\n",
    "        self.gender = gender\n",
    "        self.address = address\n",
    "\n",
    "    def print_address(self):\n",
    "        print(self.address.get_city(),self.address.state,self.address.pin)\n",
    "    \n",
    "    def edit_profile(self,new_name,new_gender, new_city, new_state,new_pin):\n",
    "        self.name = new_name\n",
    "        self.gender = new_gender\n",
    "        self.address.edit_address(new_city, new_state,new_pin)        \n",
    "\n",
    "class Address:\n",
    "    def __init__(self,city,state,pin):\n",
    "        self.__city = city\n",
    "        self.state = state\n",
    "        self.pin = pin\n",
    "\n",
    "    def get_city(self):\n",
    "        return self.__city\n",
    "    \n",
    "    def edit_address(self,new_city, new_state,new_pin):\n",
    "        self.__city = new_city\n",
    "        self.state = new_state\n",
    "        self.pin = new_pin\n",
    "\n",
    "ad1 = Address('bhopal','mp','462038')\n",
    "customer1 = Customer('aarya','female',ad1)\n",
    "customer1.print_address()\n",
    "customer1.edit_profile('ankit','male','mumbai','mh','345068')\n",
    "customer1.print_address()\n"
   ]
  },
  {
   "cell_type": "markdown",
   "metadata": {},
   "source": [
    "# <font color = 'violet'> Inheritance - Code Reusability </font>"
   ]
  },
  {
   "cell_type": "code",
   "execution_count": 48,
   "metadata": {},
   "outputs": [
    {
     "name": "stdout",
     "output_type": "stream",
     "text": [
      "<bound method Parent.login of <__main__.Child object at 0x000001F7DC0E31D0>>\n",
      "name\n",
      "<bound method Child.enroll of <__main__.Child object at 0x000001F7DC0E31D0>>\n"
     ]
    },
    {
     "ename": "AttributeError",
     "evalue": "'Child' object has no attribute 'name'",
     "output_type": "error",
     "traceback": [
      "\u001b[1;31m---------------------------------------------------------------------------\u001b[0m",
      "\u001b[1;31mAttributeError\u001b[0m                            Traceback (most recent call last)",
      "Cell \u001b[1;32mIn[48], line 19\u001b[0m\n\u001b[0;32m     17\u001b[0m \u001b[38;5;28mprint\u001b[39m(s\u001b[38;5;241m.\u001b[39mchild_name)\n\u001b[0;32m     18\u001b[0m \u001b[38;5;28mprint\u001b[39m(s\u001b[38;5;241m.\u001b[39menroll)\n\u001b[1;32m---> 19\u001b[0m \u001b[38;5;28mprint\u001b[39m(\u001b[43ms\u001b[49m\u001b[38;5;241;43m.\u001b[39;49m\u001b[43mname\u001b[49m) \u001b[38;5;66;03m# This did not work because of method overriding of constructors\u001b[39;00m\n",
      "\u001b[1;31mAttributeError\u001b[0m: 'Child' object has no attribute 'name'"
     ]
    }
   ],
   "source": [
    "class Parent:\n",
    "    def __init__(self):\n",
    "        self.name = 'name'\n",
    "    \n",
    "    def login():\n",
    "        print('Login Function')\n",
    "\n",
    "class Child(Parent):\n",
    "    def __init__(self):\n",
    "        self.child_name = 'name'\n",
    "    \n",
    "    def enroll():\n",
    "        print('Enroll function')\n",
    "\n",
    "s = Child()\n",
    "print(s.login)\n",
    "print(s.child_name)\n",
    "print(s.enroll)\n",
    "print(s.name) # This did not work because of method overriding of constructors"
   ]
  },
  {
   "cell_type": "code",
   "execution_count": 50,
   "metadata": {},
   "outputs": [
    {
     "name": "stdout",
     "output_type": "stream",
     "text": [
      "<bound method Parent.login of <__main__.Child object at 0x000001F7DBE978F0>>\n",
      "<bound method Child.enroll of <__main__.Child object at 0x000001F7DBE978F0>>\n",
      "name\n"
     ]
    }
   ],
   "source": [
    "class Parent:\n",
    "    def __init__(self):\n",
    "        self.name = 'name'\n",
    "    \n",
    "    def login():\n",
    "        print('Login Function')\n",
    "\n",
    "class Child(Parent):\n",
    "    \n",
    "    def enroll():\n",
    "        print('Enroll function')\n",
    "\n",
    "s = Child()\n",
    "print(s.login)\n",
    "print(s.enroll)\n",
    "print(s.name) # This did not work because of method overriding of constructors"
   ]
  },
  {
   "cell_type": "markdown",
   "metadata": {},
   "source": [
    "### <font color='violet'>What gets Inherited? </font>\n",
    "\n",
    "Agar child ke paas khud ka koi constructor nahi hai to Parent ka access karta hai.  \n",
    "Agar child ke paas khud ka constructor hai to wo parent ka constructor access nahi karega.  \n",
    "To usse parent class ka constructor call hi nahi hoga and parent contructor ke varibales initialize hi nahi honge.   This was the error in the above program.   \n",
    "Child class can't access parent class' private attributes.\n",
    "Child & Parents ke agar same methods/attributes hai to humesha child ke methods  execute honge - <font color='violet'> METHOD OVERIDING </font>\n",
    "\n",
    "Let's look at the below example:"
   ]
  },
  {
   "cell_type": "code",
   "execution_count": 53,
   "metadata": {},
   "outputs": [
    {
     "name": "stdout",
     "output_type": "stream",
     "text": [
      "This is a Phone Constructor\n"
     ]
    }
   ],
   "source": [
    "class Phone:\n",
    "    def __init__(self):\n",
    "        self.name = 'Mobile'\n",
    "        self.os = 'pata nahi'\n",
    "        print('This is a Phone Constructor')\n",
    "\n",
    "\n",
    "class SmartPhone(Phone):\n",
    "    pass\n",
    "\n",
    "s = SmartPhone()"
   ]
  },
  {
   "cell_type": "code",
   "execution_count": 61,
   "metadata": {},
   "outputs": [
    {
     "name": "stdout",
     "output_type": "stream",
     "text": [
      "This is a Samrtphone contructor\n"
     ]
    },
    {
     "data": {
      "text/plain": [
       "'OnePlus'"
      ]
     },
     "execution_count": 61,
     "metadata": {},
     "output_type": "execute_result"
    }
   ],
   "source": [
    "class Phone:\n",
    "    def __init__(self,name):\n",
    "        self.name = name\n",
    "        self.os = 'pata nahi'\n",
    "        print('This is a Phone Constructor')\n",
    "\n",
    "\n",
    "class SmartPhone(Phone):\n",
    "    def __init__(self,name):\n",
    "        self.isname = name\n",
    "        print('This is a Samrtphone contructor')\n",
    "\n",
    "s = SmartPhone('OnePlus')\n",
    "s.name # Error\n",
    "s.isname"
   ]
  },
  {
   "cell_type": "code",
   "execution_count": 65,
   "metadata": {},
   "outputs": [
    {
     "name": "stdout",
     "output_type": "stream",
     "text": [
      "This is a Samrtphone contructor\n"
     ]
    },
    {
     "data": {
      "text/plain": [
       "'happy'"
      ]
     },
     "execution_count": 65,
     "metadata": {},
     "output_type": "execute_result"
    }
   ],
   "source": [
    "class Phone:\n",
    "    def __init__(self,name):\n",
    "        self.name = name\n",
    "        self.os = 'pata nahi'\n",
    "        print('This is a Phone Constructor')\n",
    "\n",
    "\n",
    "class SmartPhone(Phone):\n",
    "    def __init__(self):\n",
    "        self.name = 'happy'\n",
    "        print('This is a Samrtphone contructor')\n",
    "\n",
    "s = SmartPhone()\n",
    "s.name"
   ]
  },
  {
   "cell_type": "code",
   "execution_count": 62,
   "metadata": {},
   "outputs": [
    {
     "name": "stdout",
     "output_type": "stream",
     "text": [
      "class A : 100\n"
     ]
    }
   ],
   "source": [
    "class A:\n",
    "    def __init__(self):\n",
    "        self.var1=100\n",
    "\n",
    "    def display1(self,var1):\n",
    "        print(\"class A :\", self.var1)\n",
    "class B(A):\n",
    "  \n",
    "    def display2(self,var1):\n",
    "        print(\"class B :\", self.var1)\n",
    "\n",
    "obj=B()\n",
    "obj.display1(200)"
   ]
  },
  {
   "cell_type": "markdown",
   "metadata": {},
   "source": [
    "## <font color='violet'> Super Keyword - Constructors ko call karna </font>\n",
    "\n",
    "Class ke bahar use nahi kar sakte  \n",
    "Child Class ke sirf ander hi hota hai  \n",
    "Super cannot access variables, only methods ko call karta hai wo "
   ]
  },
  {
   "cell_type": "code",
   "execution_count": 2,
   "metadata": {},
   "outputs": [
    {
     "name": "stdout",
     "output_type": "stream",
     "text": [
      "Inside phone constructor\n",
      "Buying a smartphone\n",
      "Buying a phone\n"
     ]
    }
   ],
   "source": [
    "class Phone:\n",
    "    def __init__(self, price, brand, camera):\n",
    "        print (\"Inside phone constructor\")\n",
    "        self.__price = price\n",
    "        self.brand = brand\n",
    "        self.camera = camera\n",
    "\n",
    "    def buy(self):\n",
    "        print (\"Buying a phone\")\n",
    "\n",
    "class SmartPhone(Phone):\n",
    "    def buy(self):\n",
    "        print (\"Buying a smartphone\")\n",
    "        # syntax to call parent ka buy method\n",
    "        super().buy()\n",
    "\n",
    "s=SmartPhone(20000, \"Apple\", 13)\n",
    "\n",
    "s.buy()"
   ]
  },
  {
   "cell_type": "code",
   "execution_count": 13,
   "metadata": {},
   "outputs": [
    {
     "name": "stdout",
     "output_type": "stream",
     "text": [
      "Hi\n",
      "Inside phone constructor\n"
     ]
    }
   ],
   "source": [
    "class Phone:\n",
    "    def __init__(self, price, brand, camera):\n",
    "        print (\"Inside phone constructor\")\n",
    "        self.__price = price\n",
    "        self.brand = brand\n",
    "        self.camera = camera\n",
    "\n",
    "    def buy(self):\n",
    "        print (\"Buying a phone\")\n",
    "\n",
    "class SmartPhone(Phone):\n",
    "    def __init__(self, price, brand, camera,os):\n",
    "        print('Hi')\n",
    "        super().__init__(price, brand, camera)\n",
    "    \n",
    "    def buy(self):\n",
    "        print (\"Buying a smartphone\")\n",
    "        super().buy()\n",
    "\n",
    "s=SmartPhone(20000, \"Apple\", 13,1)\n"
   ]
  },
  {
   "cell_type": "markdown",
   "metadata": {},
   "source": [
    "### <font color= 'violet'> Inheritance in summary </font>\n",
    "\n",
    "- A class can inherit from another class.\n",
    "\n",
    "- Inheritance improves code reuse\n",
    "\n",
    "- Constructor, attributes, methods get inherited to the child class\n",
    "\n",
    "- The parent has no access to the child class\n",
    "\n",
    "- Private properties of parent are not accessible directly in child class\n",
    "\n",
    "- Child class can override the attributes or methods. This is called method overriding\n",
    "\n",
    "- super() is an inbuilt function which is used to invoke the parent class methods and constructor"
   ]
  },
  {
   "cell_type": "markdown",
   "metadata": {},
   "source": [
    "### <font color= 'violet'> Types of Inheritance </font>\n",
    "\n",
    "- Single Inheritance\n",
    "- Multilevel Inheritance\n",
    "- Hierarchical Inheritance\n",
    "- Multiple Inheritance(Diamond Problem)\n",
    "- Hybrid Inheritance"
   ]
  },
  {
   "cell_type": "code",
   "execution_count": 14,
   "metadata": {},
   "outputs": [
    {
     "name": "stdout",
     "output_type": "stream",
     "text": [
      "Inside phone constructor\n",
      "Buying a phone\n"
     ]
    }
   ],
   "source": [
    "# single inheritance\n",
    "class Phone:\n",
    "    def __init__(self, price, brand, camera):\n",
    "        print (\"Inside phone constructor\")\n",
    "        self.__price = price\n",
    "        self.brand = brand\n",
    "        self.camera = camera\n",
    "\n",
    "    def buy(self):\n",
    "        print (\"Buying a phone\")\n",
    "\n",
    "class SmartPhone(Phone):\n",
    "    pass\n",
    "\n",
    "SmartPhone(1000,\"Apple\",\"13px\").buy()"
   ]
  },
  {
   "cell_type": "code",
   "execution_count": 15,
   "metadata": {},
   "outputs": [
    {
     "name": "stdout",
     "output_type": "stream",
     "text": [
      "Inside phone constructor\n",
      "Buying a phone\n",
      "Product customer review\n"
     ]
    }
   ],
   "source": [
    "# multilevel\n",
    "class Product:\n",
    "    def review(self):\n",
    "        print (\"Product customer review\")\n",
    "\n",
    "class Phone(Product):\n",
    "    def __init__(self, price, brand, camera):\n",
    "        print (\"Inside phone constructor\")\n",
    "        self.__price = price\n",
    "        self.brand = brand\n",
    "        self.camera = camera\n",
    "\n",
    "    def buy(self):\n",
    "        print (\"Buying a phone\")\n",
    "\n",
    "class SmartPhone(Phone):\n",
    "    pass\n",
    "\n",
    "s=SmartPhone(20000, \"Apple\", 12)\n",
    "\n",
    "s.buy()\n",
    "s.review()"
   ]
  },
  {
   "cell_type": "code",
   "execution_count": 16,
   "metadata": {},
   "outputs": [
    {
     "name": "stdout",
     "output_type": "stream",
     "text": [
      "Inside phone constructor\n",
      "Buying a phone\n",
      "Inside phone constructor\n",
      "Buying a phone\n"
     ]
    }
   ],
   "source": [
    "# Hierarchical\n",
    "class Phone:\n",
    "    def __init__(self, price, brand, camera):\n",
    "        print (\"Inside phone constructor\")\n",
    "        self.__price = price\n",
    "        self.brand = brand\n",
    "        self.camera = camera\n",
    "\n",
    "    def buy(self):\n",
    "        print (\"Buying a phone\")\n",
    "\n",
    "class SmartPhone(Phone):\n",
    "    pass\n",
    "\n",
    "class FeaturePhone(Phone):\n",
    "    pass\n",
    "\n",
    "SmartPhone(1000,\"Apple\",\"13px\").buy()\n",
    "FeaturePhone(10,\"Lava\",\"1px\").buy()"
   ]
  },
  {
   "cell_type": "code",
   "execution_count": 17,
   "metadata": {},
   "outputs": [
    {
     "name": "stdout",
     "output_type": "stream",
     "text": [
      "Inside phone constructor\n",
      "Buying a phone\n",
      "Customer review\n"
     ]
    }
   ],
   "source": [
    "# Multiple\n",
    "class Phone:\n",
    "    def __init__(self, price, brand, camera):\n",
    "        print (\"Inside phone constructor\")\n",
    "        self.__price = price\n",
    "        self.brand = brand\n",
    "        self.camera = camera\n",
    "\n",
    "    def buy(self):\n",
    "        print (\"Buying a phone\")\n",
    "\n",
    "class Product:\n",
    "    def review(self):\n",
    "        print (\"Customer review\")\n",
    "\n",
    "class SmartPhone(Phone, Product):\n",
    "    pass\n",
    "\n",
    "s=SmartPhone(20000, \"Apple\", 12)\n",
    "\n",
    "s.buy()\n",
    "s.review()\n"
   ]
  },
  {
   "cell_type": "code",
   "execution_count": 18,
   "metadata": {},
   "outputs": [
    {
     "name": "stdout",
     "output_type": "stream",
     "text": [
      "Inside phone constructor\n",
      "Buying a phone\n"
     ]
    }
   ],
   "source": [
    "# the diamond problem\n",
    "# https://stackoverflow.com/questions/56361048/what-is-the-diamond-problem-in-python-and-why-its-not-appear-in-python2\n",
    "class Phone:\n",
    "    def __init__(self, price, brand, camera):\n",
    "        print (\"Inside phone constructor\")\n",
    "        self.__price = price\n",
    "        self.brand = brand\n",
    "        self.camera = camera\n",
    "\n",
    "    def buy(self):\n",
    "        print (\"Buying a phone\")\n",
    "\n",
    "class Product:\n",
    "    def buy(self):\n",
    "        print (\"Product buy method\")\n",
    "\n",
    "# Method resolution order\n",
    "class SmartPhone(Phone,Product):\n",
    "    pass\n",
    "\n",
    "s=SmartPhone(20000, \"Apple\", 12)\n",
    "\n",
    "s.buy()"
   ]
  },
  {
   "cell_type": "code",
   "execution_count": 19,
   "metadata": {},
   "outputs": [
    {
     "ename": "RecursionError",
     "evalue": "maximum recursion depth exceeded",
     "output_type": "error",
     "traceback": [
      "\u001b[1;31m---------------------------------------------------------------------------\u001b[0m",
      "\u001b[1;31mRecursionError\u001b[0m                            Traceback (most recent call last)",
      "Cell \u001b[1;32mIn[19], line 18\u001b[0m\n\u001b[0;32m     16\u001b[0m         \u001b[38;5;28;01mreturn\u001b[39;00m val\n\u001b[0;32m     17\u001b[0m obj\u001b[38;5;241m=\u001b[39mC()\n\u001b[1;32m---> 18\u001b[0m \u001b[38;5;28mprint\u001b[39m(\u001b[43mobj\u001b[49m\u001b[38;5;241;43m.\u001b[39;49m\u001b[43mm1\u001b[49m\u001b[43m(\u001b[49m\u001b[43m)\u001b[49m)\n",
      "Cell \u001b[1;32mIn[19], line 15\u001b[0m, in \u001b[0;36mC.m1\u001b[1;34m(self)\u001b[0m\n\u001b[0;32m     14\u001b[0m \u001b[38;5;28;01mdef\u001b[39;00m \u001b[38;5;21mm1\u001b[39m(\u001b[38;5;28mself\u001b[39m):\n\u001b[1;32m---> 15\u001b[0m     val\u001b[38;5;241m=\u001b[39m\u001b[38;5;28;43mself\u001b[39;49m\u001b[38;5;241;43m.\u001b[39;49m\u001b[43mm1\u001b[49m\u001b[43m(\u001b[49m\u001b[43m)\u001b[49m\u001b[38;5;241m+\u001b[39m\u001b[38;5;241m20\u001b[39m\n\u001b[0;32m     16\u001b[0m     \u001b[38;5;28;01mreturn\u001b[39;00m val\n",
      "Cell \u001b[1;32mIn[19], line 15\u001b[0m, in \u001b[0;36mC.m1\u001b[1;34m(self)\u001b[0m\n\u001b[0;32m     14\u001b[0m \u001b[38;5;28;01mdef\u001b[39;00m \u001b[38;5;21mm1\u001b[39m(\u001b[38;5;28mself\u001b[39m):\n\u001b[1;32m---> 15\u001b[0m     val\u001b[38;5;241m=\u001b[39m\u001b[38;5;28;43mself\u001b[39;49m\u001b[38;5;241;43m.\u001b[39;49m\u001b[43mm1\u001b[49m\u001b[43m(\u001b[49m\u001b[43m)\u001b[49m\u001b[38;5;241m+\u001b[39m\u001b[38;5;241m20\u001b[39m\n\u001b[0;32m     16\u001b[0m     \u001b[38;5;28;01mreturn\u001b[39;00m val\n",
      "    \u001b[1;31m[... skipping similar frames: C.m1 at line 15 (2974 times)]\u001b[0m\n",
      "Cell \u001b[1;32mIn[19], line 15\u001b[0m, in \u001b[0;36mC.m1\u001b[1;34m(self)\u001b[0m\n\u001b[0;32m     14\u001b[0m \u001b[38;5;28;01mdef\u001b[39;00m \u001b[38;5;21mm1\u001b[39m(\u001b[38;5;28mself\u001b[39m):\n\u001b[1;32m---> 15\u001b[0m     val\u001b[38;5;241m=\u001b[39m\u001b[38;5;28;43mself\u001b[39;49m\u001b[38;5;241;43m.\u001b[39;49m\u001b[43mm1\u001b[49m\u001b[43m(\u001b[49m\u001b[43m)\u001b[49m\u001b[38;5;241m+\u001b[39m\u001b[38;5;241m20\u001b[39m\n\u001b[0;32m     16\u001b[0m     \u001b[38;5;28;01mreturn\u001b[39;00m val\n",
      "\u001b[1;31mRecursionError\u001b[0m: maximum recursion depth exceeded"
     ]
    }
   ],
   "source": [
    "class A:\n",
    "\n",
    "    def m1(self):\n",
    "        return 20\n",
    "\n",
    "class B(A):\n",
    "\n",
    "    def m1(self):\n",
    "        val=super().m1()+30\n",
    "        return val\n",
    "\n",
    "class C(B):\n",
    "  \n",
    "    def m1(self):\n",
    "        val=self.m1()+20\n",
    "        return val\n",
    "obj=C()\n",
    "print(obj.m1())"
   ]
  },
  {
   "cell_type": "markdown",
   "metadata": {},
   "source": [
    "# <font color = 'skyblue'>Polymorphism</font>\n",
    "\n",
    "- Method Overriding\n",
    "- Method Overloading - Python does not support \n",
    "- Operator Overloading"
   ]
  },
  {
   "cell_type": "code",
   "execution_count": 27,
   "metadata": {},
   "outputs": [
    {
     "ename": "TypeError",
     "evalue": "Shape.area() missing 1 required positional argument: 'b'",
     "output_type": "error",
     "traceback": [
      "\u001b[1;31m---------------------------------------------------------------------------\u001b[0m",
      "\u001b[1;31mTypeError\u001b[0m                                 Traceback (most recent call last)",
      "Cell \u001b[1;32mIn[27], line 11\u001b[0m\n\u001b[0;32m      7\u001b[0m     \u001b[38;5;28;01mreturn\u001b[39;00m l\u001b[38;5;241m*\u001b[39mb\n\u001b[0;32m      9\u001b[0m s \u001b[38;5;241m=\u001b[39m Shape()\n\u001b[1;32m---> 11\u001b[0m \u001b[38;5;28mprint\u001b[39m(\u001b[43ms\u001b[49m\u001b[38;5;241;43m.\u001b[39;49m\u001b[43marea\u001b[49m\u001b[43m(\u001b[49m\u001b[38;5;241;43m2\u001b[39;49m\u001b[43m)\u001b[49m)\n\u001b[0;32m     12\u001b[0m \u001b[38;5;28mprint\u001b[39m(s\u001b[38;5;241m.\u001b[39marea(\u001b[38;5;241m3\u001b[39m,\u001b[38;5;241m4\u001b[39m))\n",
      "\u001b[1;31mTypeError\u001b[0m: Shape.area() missing 1 required positional argument: 'b'"
     ]
    }
   ],
   "source": [
    "class Shape:\n",
    "\n",
    "  def area(self,a,b):\n",
    "    return 3.14*a,b\n",
    "  \n",
    "  def area(self,l,b):\n",
    "    return l*b\n",
    "\n",
    "s = Shape()\n",
    "\n",
    "print(s.area(2))\n",
    "print(s.area(3,4))"
   ]
  },
  {
   "cell_type": "code",
   "execution_count": 29,
   "metadata": {},
   "outputs": [
    {
     "name": "stdout",
     "output_type": "stream",
     "text": [
      "12.56\n",
      "12\n"
     ]
    }
   ],
   "source": [
    "class Shape:\n",
    "\n",
    "  def area(self,a,b=0):\n",
    "    if b == 0:\n",
    "      return 3.14*a*a\n",
    "    else:\n",
    "      return a*b\n",
    "\n",
    "s = Shape()\n",
    "\n",
    "print(s.area(2))\n",
    "print(s.area(3,4))"
   ]
  },
  {
   "cell_type": "code",
   "execution_count": 21,
   "metadata": {},
   "outputs": [
    {
     "data": {
      "text/plain": [
       "'helloworld'"
      ]
     },
     "execution_count": 21,
     "metadata": {},
     "output_type": "execute_result"
    }
   ],
   "source": [
    "'hello' + 'world'"
   ]
  },
  {
   "cell_type": "code",
   "execution_count": 22,
   "metadata": {},
   "outputs": [
    {
     "data": {
      "text/plain": [
       "9"
      ]
     },
     "execution_count": 22,
     "metadata": {},
     "output_type": "execute_result"
    }
   ],
   "source": [
    "4 + 5"
   ]
  },
  {
   "cell_type": "code",
   "execution_count": 23,
   "metadata": {},
   "outputs": [
    {
     "data": {
      "text/plain": [
       "[1, 2, 3, 4, 5]"
      ]
     },
     "execution_count": 23,
     "metadata": {},
     "output_type": "execute_result"
    }
   ],
   "source": [
    "[1,2,3] + [4,5]"
   ]
  },
  {
   "cell_type": "markdown",
   "metadata": {},
   "source": [
    "# <font color = 'maroon'>Abstraction</font>"
   ]
  },
  {
   "cell_type": "code",
   "execution_count": 1,
   "metadata": {},
   "outputs": [],
   "source": [
    "from abc import ABC,abstractmethod\n",
    "\n",
    "class BankApp(ABC):\n",
    "    def database(self):\n",
    "        print(\"This is a database\")\n",
    "    \n",
    "    @abstractmethod\n",
    "    def security(self):\n",
    "        pass"
   ]
  },
  {
   "cell_type": "code",
   "execution_count": 3,
   "metadata": {},
   "outputs": [
    {
     "ename": "TypeError",
     "evalue": "Can't instantiate abstract class Mobile without an implementation for abstract method 'security'",
     "output_type": "error",
     "traceback": [
      "\u001b[1;31m---------------------------------------------------------------------------\u001b[0m",
      "\u001b[1;31mTypeError\u001b[0m                                 Traceback (most recent call last)",
      "Cell \u001b[1;32mIn[3], line 5\u001b[0m\n\u001b[0;32m      2\u001b[0m     \u001b[38;5;28;01mdef\u001b[39;00m \u001b[38;5;21mdisplay\u001b[39m(\u001b[38;5;28mself\u001b[39m):\n\u001b[0;32m      3\u001b[0m         \u001b[38;5;28mprint\u001b[39m(\u001b[38;5;124m\"\u001b[39m\u001b[38;5;124mThis is a mobile application\u001b[39m\u001b[38;5;124m\"\u001b[39m)\n\u001b[1;32m----> 5\u001b[0m obj \u001b[38;5;241m=\u001b[39m \u001b[43mMobile\u001b[49m\u001b[43m(\u001b[49m\u001b[43m)\u001b[49m\n",
      "\u001b[1;31mTypeError\u001b[0m: Can't instantiate abstract class Mobile without an implementation for abstract method 'security'"
     ]
    }
   ],
   "source": [
    "class Mobile(BankApp):\n",
    "    def display(self):\n",
    "        print(\"This is a mobile application\")\n",
    "\n",
    "obj = Mobile()\n",
    "    "
   ]
  },
  {
   "cell_type": "code",
   "execution_count": 4,
   "metadata": {},
   "outputs": [],
   "source": [
    "class Mobile(BankApp):\n",
    "    def display(self):\n",
    "        print(\"This is a mobile application\")\n",
    "    \n",
    "    def security(self):\n",
    "        print(\"Because it's a abstract method\")\n",
    "\n",
    "obj = Mobile()"
   ]
  },
  {
   "cell_type": "markdown",
   "metadata": {},
   "source": [
    "### Simple sa funda hai, koi class ek constraint lagati hai baki classes mein ki agar use inherit karna hai to kuch functions follow karne parenge. Isi ko abstraction kehte hai. Jaise BankApp class ek abstract class hai kyunki usne ek abstract method banaya security and baki classes BankApp ko tabhi inherit kar payengi jab wo bhi security method use karenge. Ab har class apne hisaab se security method bana sakti hai par security method hona compulsory hai. There can be more than 1 abstract method."
   ]
  },
  {
   "cell_type": "markdown",
   "metadata": {},
   "source": []
  }
 ],
 "metadata": {
  "kernelspec": {
   "display_name": "Python 3",
   "language": "python",
   "name": "python3"
  },
  "language_info": {
   "codemirror_mode": {
    "name": "ipython",
    "version": 3
   },
   "file_extension": ".py",
   "mimetype": "text/x-python",
   "name": "python",
   "nbconvert_exporter": "python",
   "pygments_lexer": "ipython3",
   "version": "3.12.4"
  }
 },
 "nbformat": 4,
 "nbformat_minor": 2
}
