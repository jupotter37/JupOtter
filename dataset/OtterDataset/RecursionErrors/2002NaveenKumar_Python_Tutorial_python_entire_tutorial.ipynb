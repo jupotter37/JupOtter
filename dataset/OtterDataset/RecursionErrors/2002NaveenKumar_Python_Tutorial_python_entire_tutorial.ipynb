{
 "cells": [
  {
   "attachments": {},
   "cell_type": "markdown",
   "id": "6345d3bf",
   "metadata": {},
   "source": [
    "# Strings and its functions"
   ]
  },
  {
   "cell_type": "code",
   "execution_count": 1,
   "id": "7d28fb87",
   "metadata": {},
   "outputs": [
    {
     "name": "stdout",
     "output_type": "stream",
     "text": [
      "Naveen is a Data Scientist\n"
     ]
    }
   ],
   "source": [
    "print(\"Naveen is a Data Scientist\")"
   ]
  },
  {
   "cell_type": "code",
   "execution_count": 2,
   "id": "e5d6ba63",
   "metadata": {},
   "outputs": [
    {
     "name": "stdout",
     "output_type": "stream",
     "text": [
      "Naveen is a Data Scientist\n"
     ]
    }
   ],
   "source": [
    "info = \"Naveen is a Data Scientist\"\n",
    "print(info)"
   ]
  },
  {
   "cell_type": "code",
   "execution_count": 3,
   "id": "368b32d9",
   "metadata": {},
   "outputs": [
    {
     "name": "stdout",
     "output_type": "stream",
     "text": [
      "Naveen's Data Science Company\n"
     ]
    }
   ],
   "source": [
    "print(\"Naveen's Data Science Company\")"
   ]
  },
  {
   "cell_type": "code",
   "execution_count": 4,
   "id": "993b4ded",
   "metadata": {},
   "outputs": [
    {
     "name": "stdout",
     "output_type": "stream",
     "text": [
      "Naveen's Data Science Company\n"
     ]
    }
   ],
   "source": [
    "print('Naveen\\'s Data Science Company')"
   ]
  },
  {
   "cell_type": "code",
   "execution_count": 5,
   "id": "c8e53cca",
   "metadata": {},
   "outputs": [
    {
     "name": "stdout",
     "output_type": "stream",
     "text": [
      "Naveen's Data\n",
      "Science Company\n"
     ]
    }
   ],
   "source": [
    "info = '''Naveen\\'s Data\n",
    "Science Company'''\n",
    "print(info)"
   ]
  },
  {
   "cell_type": "code",
   "execution_count": 6,
   "id": "17c046f3",
   "metadata": {},
   "outputs": [
    {
     "name": "stdout",
     "output_type": "stream",
     "text": [
      "29\n"
     ]
    }
   ],
   "source": [
    "#Length of String\n",
    "\n",
    "info = \"Naveen's Data Science Company\"\n",
    "print(len(info))"
   ]
  },
  {
   "cell_type": "code",
   "execution_count": 7,
   "id": "c437cb22",
   "metadata": {
    "scrolled": true
   },
   "outputs": [
    {
     "name": "stdout",
     "output_type": "stream",
     "text": [
      "N\n",
      "n\n",
      "c\n",
      "y\n",
      "o\n"
     ]
    }
   ],
   "source": [
    "#to access particular character from the string\n",
    "info = \"Naveen's Data Science Company\"\n",
    "print(info[0])\n",
    "print(info[5])\n",
    "print(info[15])\n",
    "print(info[-1])\n",
    "print(info[-6])"
   ]
  },
  {
   "cell_type": "code",
   "execution_count": 24,
   "id": "cbf6bc06",
   "metadata": {},
   "outputs": [
    {
     "name": "stdout",
     "output_type": "stream",
     "text": [
      "Naveen's Data Science Company\n",
      "Naveen's Data S\n",
      "ee\n",
      "Naveen's Data Science Compan\n",
      "\n",
      "ompan\n"
     ]
    }
   ],
   "source": [
    "#To print set of characters\n",
    "info = \"Naveen's Data Science Company\"\n",
    "print(info[:])\n",
    "print(info[:15])\n",
    "print(info[3:5])\n",
    "print(info[:-1])\n",
    "print(info[-1:-15])\n",
    "print(info[-6:-1])"
   ]
  },
  {
   "cell_type": "code",
   "execution_count": 25,
   "id": "3f50c7da",
   "metadata": {},
   "outputs": [
    {
     "name": "stdout",
     "output_type": "stream",
     "text": [
      "naveen's data science company\n"
     ]
    }
   ],
   "source": [
    "#convert string to lower case\n",
    "info = \"Naveen's Data Science Company\"\n",
    "print(info.lower())"
   ]
  },
  {
   "cell_type": "code",
   "execution_count": 26,
   "id": "c807cae1",
   "metadata": {},
   "outputs": [
    {
     "name": "stdout",
     "output_type": "stream",
     "text": [
      "NAVEEN'S DATA SCIENCE COMPANY\n"
     ]
    }
   ],
   "source": [
    "#convert string to upper case\n",
    "info = \"Naveen's Data Science Company\"\n",
    "print(info.upper())"
   ]
  },
  {
   "cell_type": "code",
   "execution_count": 29,
   "id": "c2a65525",
   "metadata": {},
   "outputs": [
    {
     "name": "stdout",
     "output_type": "stream",
     "text": [
      "9\n",
      "9\n",
      "-1\n"
     ]
    }
   ],
   "source": [
    "#to find the position of particular string value\n",
    "info = \"Naveen's Data Science Company\"\n",
    "print(info.find(\"D\"))\n",
    "print(info.find(\"Data\"))\n",
    "print(info.find(\"X\"))"
   ]
  },
  {
   "cell_type": "code",
   "execution_count": 30,
   "id": "2e6333cf",
   "metadata": {},
   "outputs": [
    {
     "name": "stdout",
     "output_type": "stream",
     "text": [
      "Naveen's Machine Learning Company\n"
     ]
    }
   ],
   "source": [
    "#To replace a new word in the String\n",
    "info = \"Naveen's Data Science Company\"\n",
    "print(info.replace(\"Data Science\", \"Machine Learning\"))"
   ]
  },
  {
   "cell_type": "code",
   "execution_count": 32,
   "id": "7fc2cabf",
   "metadata": {},
   "outputs": [
    {
     "name": "stdout",
     "output_type": "stream",
     "text": [
      "Naveen'sData Science Company\n",
      "Naveen's Data Science Company\n"
     ]
    }
   ],
   "source": [
    "#To concatanate two strings\n",
    "info = \"Naveen's\"\n",
    "info_in = \"Data Science Company\"\n",
    "print(info+info_in)\n",
    "print(info+\" \"+info_in)"
   ]
  },
  {
   "cell_type": "code",
   "execution_count": 33,
   "id": "3e85ad58",
   "metadata": {},
   "outputs": [
    {
     "name": "stdout",
     "output_type": "stream",
     "text": [
      "Naveen this is Data Science domain\n"
     ]
    }
   ],
   "source": [
    "#To format the string\n",
    "info = \"Naveen\"\n",
    "info_in = \"Data Science\"\n",
    "print(\"{} this is {} domain\".format(info, info_in))"
   ]
  },
  {
   "cell_type": "code",
   "execution_count": 34,
   "id": "39d7d5ad",
   "metadata": {},
   "outputs": [
    {
     "name": "stdout",
     "output_type": "stream",
     "text": [
      "Naveen this is Data Science domain\n"
     ]
    }
   ],
   "source": [
    "#To format the string using fstring\n",
    "info = \"Naveen\"\n",
    "info_in = \"Data Science\"\n",
    "print(f\"{info} this is {info_in} domain\")"
   ]
  },
  {
   "cell_type": "code",
   "execution_count": 2,
   "id": "90c0d98f",
   "metadata": {},
   "outputs": [
    {
     "name": "stdout",
     "output_type": "stream",
     "text": [
      "['__add__', '__class__', '__contains__', '__delattr__', '__dir__', '__doc__', '__eq__', '__format__', '__ge__', '__getattribute__', '__getitem__', '__getnewargs__', '__gt__', '__hash__', '__init__', '__init_subclass__', '__iter__', '__le__', '__len__', '__lt__', '__mod__', '__mul__', '__ne__', '__new__', '__reduce__', '__reduce_ex__', '__repr__', '__rmod__', '__rmul__', '__setattr__', '__sizeof__', '__str__', '__subclasshook__', 'capitalize', 'casefold', 'center', 'count', 'encode', 'endswith', 'expandtabs', 'find', 'format', 'format_map', 'index', 'isalnum', 'isalpha', 'isascii', 'isdecimal', 'isdigit', 'isidentifier', 'islower', 'isnumeric', 'isprintable', 'isspace', 'istitle', 'isupper', 'join', 'ljust', 'lower', 'lstrip', 'maketrans', 'partition', 'replace', 'rfind', 'rindex', 'rjust', 'rpartition', 'rsplit', 'rstrip', 'split', 'splitlines', 'startswith', 'strip', 'swapcase', 'title', 'translate', 'upper', 'zfill']\n"
     ]
    }
   ],
   "source": [
    "#To see methods and attributes associated with String\n",
    "info = \"Naveen's Data Science Company\"\n",
    "print(dir(info))"
   ]
  },
  {
   "cell_type": "code",
   "execution_count": 1,
   "id": "439eba41",
   "metadata": {
    "scrolled": false
   },
   "outputs": [
    {
     "name": "stdout",
     "output_type": "stream",
     "text": [
      "Help on class str in module builtins:\n",
      "\n",
      "class str(object)\n",
      " |  str(object='') -> str\n",
      " |  str(bytes_or_buffer[, encoding[, errors]]) -> str\n",
      " |  \n",
      " |  Create a new string object from the given object. If encoding or\n",
      " |  errors is specified, then the object must expose a data buffer\n",
      " |  that will be decoded using the given encoding and error handler.\n",
      " |  Otherwise, returns the result of object.__str__() (if defined)\n",
      " |  or repr(object).\n",
      " |  encoding defaults to sys.getdefaultencoding().\n",
      " |  errors defaults to 'strict'.\n",
      " |  \n",
      " |  Methods defined here:\n",
      " |  \n",
      " |  __add__(self, value, /)\n",
      " |      Return self+value.\n",
      " |  \n",
      " |  __contains__(self, key, /)\n",
      " |      Return key in self.\n",
      " |  \n",
      " |  __eq__(self, value, /)\n",
      " |      Return self==value.\n",
      " |  \n",
      " |  __format__(self, format_spec, /)\n",
      " |      Return a formatted version of the string as described by format_spec.\n",
      " |  \n",
      " |  __ge__(self, value, /)\n",
      " |      Return self>=value.\n",
      " |  \n",
      " |  __getattribute__(self, name, /)\n",
      " |      Return getattr(self, name).\n",
      " |  \n",
      " |  __getitem__(self, key, /)\n",
      " |      Return self[key].\n",
      " |  \n",
      " |  __getnewargs__(...)\n",
      " |  \n",
      " |  __gt__(self, value, /)\n",
      " |      Return self>value.\n",
      " |  \n",
      " |  __hash__(self, /)\n",
      " |      Return hash(self).\n",
      " |  \n",
      " |  __iter__(self, /)\n",
      " |      Implement iter(self).\n",
      " |  \n",
      " |  __le__(self, value, /)\n",
      " |      Return self<=value.\n",
      " |  \n",
      " |  __len__(self, /)\n",
      " |      Return len(self).\n",
      " |  \n",
      " |  __lt__(self, value, /)\n",
      " |      Return self<value.\n",
      " |  \n",
      " |  __mod__(self, value, /)\n",
      " |      Return self%value.\n",
      " |  \n",
      " |  __mul__(self, value, /)\n",
      " |      Return self*value.\n",
      " |  \n",
      " |  __ne__(self, value, /)\n",
      " |      Return self!=value.\n",
      " |  \n",
      " |  __repr__(self, /)\n",
      " |      Return repr(self).\n",
      " |  \n",
      " |  __rmod__(self, value, /)\n",
      " |      Return value%self.\n",
      " |  \n",
      " |  __rmul__(self, value, /)\n",
      " |      Return value*self.\n",
      " |  \n",
      " |  __sizeof__(self, /)\n",
      " |      Return the size of the string in memory, in bytes.\n",
      " |  \n",
      " |  __str__(self, /)\n",
      " |      Return str(self).\n",
      " |  \n",
      " |  capitalize(self, /)\n",
      " |      Return a capitalized version of the string.\n",
      " |      \n",
      " |      More specifically, make the first character have upper case and the rest lower\n",
      " |      case.\n",
      " |  \n",
      " |  casefold(self, /)\n",
      " |      Return a version of the string suitable for caseless comparisons.\n",
      " |  \n",
      " |  center(self, width, fillchar=' ', /)\n",
      " |      Return a centered string of length width.\n",
      " |      \n",
      " |      Padding is done using the specified fill character (default is a space).\n",
      " |  \n",
      " |  count(...)\n",
      " |      S.count(sub[, start[, end]]) -> int\n",
      " |      \n",
      " |      Return the number of non-overlapping occurrences of substring sub in\n",
      " |      string S[start:end].  Optional arguments start and end are\n",
      " |      interpreted as in slice notation.\n",
      " |  \n",
      " |  encode(self, /, encoding='utf-8', errors='strict')\n",
      " |      Encode the string using the codec registered for encoding.\n",
      " |      \n",
      " |      encoding\n",
      " |        The encoding in which to encode the string.\n",
      " |      errors\n",
      " |        The error handling scheme to use for encoding errors.\n",
      " |        The default is 'strict' meaning that encoding errors raise a\n",
      " |        UnicodeEncodeError.  Other possible values are 'ignore', 'replace' and\n",
      " |        'xmlcharrefreplace' as well as any other name registered with\n",
      " |        codecs.register_error that can handle UnicodeEncodeErrors.\n",
      " |  \n",
      " |  endswith(...)\n",
      " |      S.endswith(suffix[, start[, end]]) -> bool\n",
      " |      \n",
      " |      Return True if S ends with the specified suffix, False otherwise.\n",
      " |      With optional start, test S beginning at that position.\n",
      " |      With optional end, stop comparing S at that position.\n",
      " |      suffix can also be a tuple of strings to try.\n",
      " |  \n",
      " |  expandtabs(self, /, tabsize=8)\n",
      " |      Return a copy where all tab characters are expanded using spaces.\n",
      " |      \n",
      " |      If tabsize is not given, a tab size of 8 characters is assumed.\n",
      " |  \n",
      " |  find(...)\n",
      " |      S.find(sub[, start[, end]]) -> int\n",
      " |      \n",
      " |      Return the lowest index in S where substring sub is found,\n",
      " |      such that sub is contained within S[start:end].  Optional\n",
      " |      arguments start and end are interpreted as in slice notation.\n",
      " |      \n",
      " |      Return -1 on failure.\n",
      " |  \n",
      " |  format(...)\n",
      " |      S.format(*args, **kwargs) -> str\n",
      " |      \n",
      " |      Return a formatted version of S, using substitutions from args and kwargs.\n",
      " |      The substitutions are identified by braces ('{' and '}').\n",
      " |  \n",
      " |  format_map(...)\n",
      " |      S.format_map(mapping) -> str\n",
      " |      \n",
      " |      Return a formatted version of S, using substitutions from mapping.\n",
      " |      The substitutions are identified by braces ('{' and '}').\n",
      " |  \n",
      " |  index(...)\n",
      " |      S.index(sub[, start[, end]]) -> int\n",
      " |      \n",
      " |      Return the lowest index in S where substring sub is found, \n",
      " |      such that sub is contained within S[start:end].  Optional\n",
      " |      arguments start and end are interpreted as in slice notation.\n",
      " |      \n",
      " |      Raises ValueError when the substring is not found.\n",
      " |  \n",
      " |  isalnum(self, /)\n",
      " |      Return True if the string is an alpha-numeric string, False otherwise.\n",
      " |      \n",
      " |      A string is alpha-numeric if all characters in the string are alpha-numeric and\n",
      " |      there is at least one character in the string.\n",
      " |  \n",
      " |  isalpha(self, /)\n",
      " |      Return True if the string is an alphabetic string, False otherwise.\n",
      " |      \n",
      " |      A string is alphabetic if all characters in the string are alphabetic and there\n",
      " |      is at least one character in the string.\n",
      " |  \n",
      " |  isascii(self, /)\n",
      " |      Return True if all characters in the string are ASCII, False otherwise.\n",
      " |      \n",
      " |      ASCII characters have code points in the range U+0000-U+007F.\n",
      " |      Empty string is ASCII too.\n",
      " |  \n",
      " |  isdecimal(self, /)\n",
      " |      Return True if the string is a decimal string, False otherwise.\n",
      " |      \n",
      " |      A string is a decimal string if all characters in the string are decimal and\n",
      " |      there is at least one character in the string.\n",
      " |  \n",
      " |  isdigit(self, /)\n",
      " |      Return True if the string is a digit string, False otherwise.\n",
      " |      \n",
      " |      A string is a digit string if all characters in the string are digits and there\n",
      " |      is at least one character in the string.\n",
      " |  \n",
      " |  isidentifier(self, /)\n",
      " |      Return True if the string is a valid Python identifier, False otherwise.\n",
      " |      \n",
      " |      Use keyword.iskeyword() to test for reserved identifiers such as \"def\" and\n",
      " |      \"class\".\n",
      " |  \n",
      " |  islower(self, /)\n",
      " |      Return True if the string is a lowercase string, False otherwise.\n",
      " |      \n",
      " |      A string is lowercase if all cased characters in the string are lowercase and\n",
      " |      there is at least one cased character in the string.\n",
      " |  \n",
      " |  isnumeric(self, /)\n",
      " |      Return True if the string is a numeric string, False otherwise.\n",
      " |      \n",
      " |      A string is numeric if all characters in the string are numeric and there is at\n",
      " |      least one character in the string.\n",
      " |  \n",
      " |  isprintable(self, /)\n",
      " |      Return True if the string is printable, False otherwise.\n",
      " |      \n",
      " |      A string is printable if all of its characters are considered printable in\n",
      " |      repr() or if it is empty.\n",
      " |  \n",
      " |  isspace(self, /)\n",
      " |      Return True if the string is a whitespace string, False otherwise.\n",
      " |      \n",
      " |      A string is whitespace if all characters in the string are whitespace and there\n",
      " |      is at least one character in the string.\n",
      " |  \n",
      " |  istitle(self, /)\n",
      " |      Return True if the string is a title-cased string, False otherwise.\n",
      " |      \n",
      " |      In a title-cased string, upper- and title-case characters may only\n",
      " |      follow uncased characters and lowercase characters only cased ones.\n",
      " |  \n",
      " |  isupper(self, /)\n",
      " |      Return True if the string is an uppercase string, False otherwise.\n",
      " |      \n",
      " |      A string is uppercase if all cased characters in the string are uppercase and\n",
      " |      there is at least one cased character in the string.\n",
      " |  \n",
      " |  join(self, iterable, /)\n",
      " |      Concatenate any number of strings.\n",
      " |      \n",
      " |      The string whose method is called is inserted in between each given string.\n",
      " |      The result is returned as a new string.\n",
      " |      \n",
      " |      Example: '.'.join(['ab', 'pq', 'rs']) -> 'ab.pq.rs'\n",
      " |  \n",
      " |  ljust(self, width, fillchar=' ', /)\n",
      " |      Return a left-justified string of length width.\n",
      " |      \n",
      " |      Padding is done using the specified fill character (default is a space).\n",
      " |  \n",
      " |  lower(self, /)\n",
      " |      Return a copy of the string converted to lowercase.\n",
      " |  \n",
      " |  lstrip(self, chars=None, /)\n",
      " |      Return a copy of the string with leading whitespace removed.\n",
      " |      \n",
      " |      If chars is given and not None, remove characters in chars instead.\n",
      " |  \n",
      " |  partition(self, sep, /)\n",
      " |      Partition the string into three parts using the given separator.\n",
      " |      \n",
      " |      This will search for the separator in the string.  If the separator is found,\n",
      " |      returns a 3-tuple containing the part before the separator, the separator\n",
      " |      itself, and the part after it.\n",
      " |      \n",
      " |      If the separator is not found, returns a 3-tuple containing the original string\n",
      " |      and two empty strings.\n",
      " |  \n",
      " |  replace(self, old, new, count=-1, /)\n",
      " |      Return a copy with all occurrences of substring old replaced by new.\n",
      " |      \n",
      " |        count\n",
      " |          Maximum number of occurrences to replace.\n",
      " |          -1 (the default value) means replace all occurrences.\n",
      " |      \n",
      " |      If the optional argument count is given, only the first count occurrences are\n",
      " |      replaced.\n",
      " |  \n",
      " |  rfind(...)\n",
      " |      S.rfind(sub[, start[, end]]) -> int\n",
      " |      \n",
      " |      Return the highest index in S where substring sub is found,\n",
      " |      such that sub is contained within S[start:end].  Optional\n",
      " |      arguments start and end are interpreted as in slice notation.\n",
      " |      \n",
      " |      Return -1 on failure.\n",
      " |  \n",
      " |  rindex(...)\n",
      " |      S.rindex(sub[, start[, end]]) -> int\n",
      " |      \n",
      " |      Return the highest index in S where substring sub is found,\n",
      " |      such that sub is contained within S[start:end].  Optional\n",
      " |      arguments start and end are interpreted as in slice notation.\n",
      " |      \n",
      " |      Raises ValueError when the substring is not found.\n",
      " |  \n",
      " |  rjust(self, width, fillchar=' ', /)\n",
      " |      Return a right-justified string of length width.\n",
      " |      \n",
      " |      Padding is done using the specified fill character (default is a space).\n",
      " |  \n",
      " |  rpartition(self, sep, /)\n",
      " |      Partition the string into three parts using the given separator.\n",
      " |      \n",
      " |      This will search for the separator in the string, starting at the end. If\n",
      " |      the separator is found, returns a 3-tuple containing the part before the\n",
      " |      separator, the separator itself, and the part after it.\n",
      " |      \n",
      " |      If the separator is not found, returns a 3-tuple containing two empty strings\n",
      " |      and the original string.\n",
      " |  \n",
      " |  rsplit(self, /, sep=None, maxsplit=-1)\n",
      " |      Return a list of the words in the string, using sep as the delimiter string.\n",
      " |      \n",
      " |        sep\n",
      " |          The delimiter according which to split the string.\n",
      " |          None (the default value) means split according to any whitespace,\n",
      " |          and discard empty strings from the result.\n",
      " |        maxsplit\n",
      " |          Maximum number of splits to do.\n",
      " |          -1 (the default value) means no limit.\n",
      " |      \n",
      " |      Splits are done starting at the end of the string and working to the front.\n",
      " |  \n",
      " |  rstrip(self, chars=None, /)\n",
      " |      Return a copy of the string with trailing whitespace removed.\n",
      " |      \n",
      " |      If chars is given and not None, remove characters in chars instead.\n",
      " |  \n",
      " |  split(self, /, sep=None, maxsplit=-1)\n",
      " |      Return a list of the words in the string, using sep as the delimiter string.\n",
      " |      \n",
      " |      sep\n",
      " |        The delimiter according which to split the string.\n",
      " |        None (the default value) means split according to any whitespace,\n",
      " |        and discard empty strings from the result.\n",
      " |      maxsplit\n",
      " |        Maximum number of splits to do.\n",
      " |        -1 (the default value) means no limit.\n",
      " |  \n",
      " |  splitlines(self, /, keepends=False)\n",
      " |      Return a list of the lines in the string, breaking at line boundaries.\n",
      " |      \n",
      " |      Line breaks are not included in the resulting list unless keepends is given and\n",
      " |      true.\n",
      " |  \n",
      " |  startswith(...)\n",
      " |      S.startswith(prefix[, start[, end]]) -> bool\n",
      " |      \n",
      " |      Return True if S starts with the specified prefix, False otherwise.\n",
      " |      With optional start, test S beginning at that position.\n",
      " |      With optional end, stop comparing S at that position.\n",
      " |      prefix can also be a tuple of strings to try.\n",
      " |  \n",
      " |  strip(self, chars=None, /)\n",
      " |      Return a copy of the string with leading and trailing whitespace removed.\n",
      " |      \n",
      " |      If chars is given and not None, remove characters in chars instead.\n",
      " |  \n",
      " |  swapcase(self, /)\n",
      " |      Convert uppercase characters to lowercase and lowercase characters to uppercase.\n",
      " |  \n",
      " |  title(self, /)\n",
      " |      Return a version of the string where each word is titlecased.\n",
      " |      \n",
      " |      More specifically, words start with uppercased characters and all remaining\n",
      " |      cased characters have lower case.\n",
      " |  \n",
      " |  translate(self, table, /)\n",
      " |      Replace each character in the string using the given translation table.\n",
      " |      \n",
      " |        table\n",
      " |          Translation table, which must be a mapping of Unicode ordinals to\n",
      " |          Unicode ordinals, strings, or None.\n",
      " |      \n",
      " |      The table must implement lookup/indexing via __getitem__, for instance a\n",
      " |      dictionary or list.  If this operation raises LookupError, the character is\n",
      " |      left untouched.  Characters mapped to None are deleted.\n",
      " |  \n",
      " |  upper(self, /)\n",
      " |      Return a copy of the string converted to uppercase.\n",
      " |  \n",
      " |  zfill(self, width, /)\n",
      " |      Pad a numeric string with zeros on the left, to fill a field of the given width.\n",
      " |      \n",
      " |      The string is never truncated.\n",
      " |  \n",
      " |  ----------------------------------------------------------------------\n",
      " |  Static methods defined here:\n",
      " |  \n",
      " |  __new__(*args, **kwargs) from builtins.type\n",
      " |      Create and return a new object.  See help(type) for accurate signature.\n",
      " |  \n",
      " |  maketrans(x, y=None, z=None, /)\n",
      " |      Return a translation table usable for str.translate().\n",
      " |      \n",
      " |      If there is only one argument, it must be a dictionary mapping Unicode\n",
      " |      ordinals (integers) or characters to Unicode ordinals, strings or None.\n",
      " |      Character keys will be then converted to ordinals.\n",
      " |      If there are two arguments, they must be strings of equal length, and\n",
      " |      in the resulting dictionary, each character in x will be mapped to the\n",
      " |      character at the same position in y. If there is a third argument, it\n",
      " |      must be a string, whose characters will be mapped to None in the result.\n",
      "\n",
      "None\n"
     ]
    }
   ],
   "source": [
    "#To get information about the attribute\n",
    "info = \"Naveen's Data Science Company\"\n",
    "print(help(str))"
   ]
  },
  {
   "attachments": {},
   "cell_type": "markdown",
   "id": "db523658",
   "metadata": {},
   "source": [
    "# Int and Float (Numeric data) "
   ]
  },
  {
   "attachments": {},
   "cell_type": "markdown",
   "id": "f55c0c11",
   "metadata": {},
   "source": [
    "Arithmatic Operators:\n",
    "\n",
    "    + -------> Addition\n",
    "    - -------> Subtraction\n",
    "    * -------> Multiplication\n",
    "    ** -------> Exponent\n",
    "    / -------> Division\n",
    "    // -------> Floor Division\n",
    "    % -------> Modulus\n",
    "    \n",
    "Arithmatic Assignment Operators:\n",
    "\n",
    "    += -------> Addition\n",
    "    -= -------> Subtraction\n",
    "    *= -------> Multiplication\n",
    "    **= -------> Exponent\n",
    "    /= -------> Division\n",
    "    //= -------> Floor Division\n",
    "    %= -------> Modulus\n",
    "\n",
    "Relational Operators:\n",
    "\n",
    "    > -------> Greater than\n",
    "    < -------> Less than\n",
    "    >= -------> Greater than equal to\n",
    "    <= -------> Less than equal to\n",
    "    == -------> Equal to\n",
    "    != -------> Not equal to"
   ]
  },
  {
   "cell_type": "code",
   "execution_count": 40,
   "id": "8e1a2691",
   "metadata": {},
   "outputs": [
    {
     "name": "stdout",
     "output_type": "stream",
     "text": [
      "40\n",
      "=========================================\n",
      "20\n",
      "=========================================\n",
      "300\n",
      "=========================================\n",
      "590490000000000\n",
      "=========================================\n",
      "3.0\n",
      "=========================================\n",
      "3\n",
      "=========================================\n",
      "0\n",
      "=========================================\n"
     ]
    }
   ],
   "source": [
    "num1 = 30\n",
    "num2 = 10\n",
    "print(num1+num2)\n",
    "print(\"=========================================\")\n",
    "num1 = 30\n",
    "num2 = 10\n",
    "print(num1-num2)\n",
    "print(\"=========================================\")\n",
    "num1 = 30\n",
    "num2 = 10\n",
    "print(num1*num2)\n",
    "print(\"=========================================\")\n",
    "num1 = 30\n",
    "num2 = 10\n",
    "print(num1**num2)\n",
    "print(\"=========================================\")\n",
    "num1 = 30\n",
    "num2 = 10\n",
    "print(num1/num2)\n",
    "print(\"=========================================\")\n",
    "num1 = 30\n",
    "num2 = 10\n",
    "print(num1//num2)\n",
    "print(\"=========================================\")\n",
    "num1 = 30\n",
    "num2 = 10\n",
    "print(num1%num2)\n",
    "print(\"=========================================\")"
   ]
  },
  {
   "cell_type": "code",
   "execution_count": 45,
   "id": "a209206a",
   "metadata": {},
   "outputs": [
    {
     "name": "stdout",
     "output_type": "stream",
     "text": [
      "11\n",
      "----------------------------\n",
      "11\n",
      "----------------------------\n",
      "9\n",
      "----------------------------\n",
      "9\n",
      "----------------------------\n"
     ]
    }
   ],
   "source": [
    "#To increment and decrement values:\n",
    "num = 10\n",
    "num = num+1\n",
    "print(num)\n",
    "print(\"----------------------------\")\n",
    "num = 10\n",
    "num+=1\n",
    "print(num)\n",
    "print(\"----------------------------\")\n",
    "num = 10\n",
    "num = num-1\n",
    "print(num)\n",
    "print(\"----------------------------\")\n",
    "num = 10\n",
    "num-=1\n",
    "print(num)\n",
    "print(\"----------------------------\")"
   ]
  },
  {
   "cell_type": "code",
   "execution_count": 49,
   "id": "53639c76",
   "metadata": {},
   "outputs": [
    {
     "name": "stdout",
     "output_type": "stream",
     "text": [
      "20\n",
      "23\n",
      "23.234\n",
      "0b101\n"
     ]
    }
   ],
   "source": [
    "#Built in functions in python\n",
    "\n",
    "print(abs(-20))\n",
    "print(round(23.23434543564))\n",
    "print(round(23.234353453454323422, 3))\n",
    "print(bin(5))"
   ]
  },
  {
   "cell_type": "code",
   "execution_count": 50,
   "id": "977f9413",
   "metadata": {},
   "outputs": [
    {
     "name": "stdout",
     "output_type": "stream",
     "text": [
      "10050\n"
     ]
    }
   ],
   "source": [
    "#To concate the strings\n",
    "num1 = '100'\n",
    "num2 = '50'\n",
    "print(num1+num2)"
   ]
  },
  {
   "cell_type": "code",
   "execution_count": 53,
   "id": "e8a90919",
   "metadata": {},
   "outputs": [
    {
     "name": "stdout",
     "output_type": "stream",
     "text": [
      "150\n",
      "123.68435434534534\n",
      "150.45\n"
     ]
    }
   ],
   "source": [
    "#typecasting the string to integer\n",
    "num1 = '100'\n",
    "num2 = '50'\n",
    "num3 = '100.45'\n",
    "num4 = '23.23435434534534'\n",
    "print(int(num1) + int(num2))\n",
    "print(float(num3) + float(num4))\n",
    "print(float(num3) + int(num2))"
   ]
  },
  {
   "attachments": {},
   "cell_type": "markdown",
   "id": "e4d361ae",
   "metadata": {},
   "source": [
    "# List in Python\n",
    "    -> collection data type\n",
    "    -> ordered collection\n",
    "    -> mutable\n",
    "    -> A list can contain strings, integer, float, list within list, and tuple within list"
   ]
  },
  {
   "cell_type": "code",
   "execution_count": 55,
   "id": "3d048a46",
   "metadata": {},
   "outputs": [
    {
     "name": "stdout",
     "output_type": "stream",
     "text": [
      "['Hr', 'Finance', 'IT', 'Admin']\n"
     ]
    }
   ],
   "source": [
    "dept = [\"Hr\", \"Finance\", \"IT\", \"Admin\"]\n",
    "print(dept)"
   ]
  },
  {
   "cell_type": "code",
   "execution_count": 62,
   "id": "5581334e",
   "metadata": {},
   "outputs": [
    {
     "name": "stdout",
     "output_type": "stream",
     "text": [
      "Hr\n",
      "Admin\n",
      "Finance\n",
      "['Finance', 'IT', 'Admin']\n"
     ]
    }
   ],
   "source": [
    "#To access particular value from the list\n",
    "dept = [\"Hr\", \"Finance\", \"IT\", \"Admin\"]\n",
    "print(dept[0])\n",
    "print(dept[-1])\n",
    "print(dept[-3])\n",
    "print(dept[1:4])"
   ]
  },
  {
   "attachments": {},
   "cell_type": "markdown",
   "id": "d46c834d",
   "metadata": {},
   "source": [
    "# Built in methods in python"
   ]
  },
  {
   "cell_type": "code",
   "execution_count": 1,
   "id": "82cb44b3",
   "metadata": {},
   "outputs": [
    {
     "name": "stdout",
     "output_type": "stream",
     "text": [
      "['Hr', 'Finance', 'IT', 'Admin', 'CEO']\n",
      "['Hr', 'Finance', 'IT', 'Admin', 'CEO']\n",
      "[]\n"
     ]
    }
   ],
   "source": [
    "dept = [\"Hr\", \"Finance\", \"IT\", \"Admin\"]\n",
    "dept.append(\"CEO\")\n",
    "print(dept)\n",
    "dept_cpy = dept.copy()\n",
    "print(dept_cpy)\n",
    "dept.clear()\n",
    "print(dept)"
   ]
  },
  {
   "cell_type": "code",
   "execution_count": 2,
   "id": "735b9ff5",
   "metadata": {},
   "outputs": [
    {
     "name": "stdout",
     "output_type": "stream",
     "text": [
      "['Hr', 'Finance', 'IT', 'Admin', ['CEO', 'Training']]\n",
      "['Hr', 'Finance', 'IT', 'Admin', ['CEO', 'Training'], 'CEO', 'Training']\n"
     ]
    }
   ],
   "source": [
    "#To store the values on new list to the old list as same list\n",
    "dept = [\"Hr\", \"Finance\", \"IT\", \"Admin\"]\n",
    "dept_1 = [\"CEO\", \"Training\"]\n",
    "dept.append(dept_1)\n",
    "print(dept)\n",
    "dept.extend(dept_1)\n",
    "print(dept)"
   ]
  },
  {
   "cell_type": "code",
   "execution_count": 3,
   "id": "395016d7",
   "metadata": {},
   "outputs": [
    {
     "name": "stdout",
     "output_type": "stream",
     "text": [
      "0\n",
      "2\n"
     ]
    }
   ],
   "source": [
    "#To find the position of value in the list\n",
    "dept = [\"Hr\", \"Finance\", \"IT\", \"Admin\"]\n",
    "print(dept.index('Hr'))\n",
    "print(dept.index('IT'))"
   ]
  },
  {
   "cell_type": "code",
   "execution_count": 4,
   "id": "5224071b",
   "metadata": {},
   "outputs": [
    {
     "name": "stdout",
     "output_type": "stream",
     "text": [
      "Admin\n",
      "Finance\n",
      "['Hr', 'IT']\n"
     ]
    }
   ],
   "source": [
    "#To take out particular value from the List\n",
    "dept = [\"Hr\", \"Finance\", \"IT\", \"Admin\"]\n",
    "print(dept.pop(3))\n",
    "print(dept.pop(1))\n",
    "print(dept)"
   ]
  },
  {
   "cell_type": "code",
   "execution_count": 13,
   "id": "6374b740",
   "metadata": {},
   "outputs": [
    {
     "name": "stdout",
     "output_type": "stream",
     "text": [
      "None\n",
      "['Hr', 'Finance', 'Admin']\n"
     ]
    }
   ],
   "source": [
    "#To remove a value from the List\n",
    "dept = [\"Hr\", \"Finance\", \"IT\", \"Admin\"]\n",
    "print(dept.remove(\"IT\"))\n",
    "print(dept)\n"
   ]
  },
  {
   "cell_type": "code",
   "execution_count": 9,
   "id": "aca7417d",
   "metadata": {},
   "outputs": [
    {
     "name": "stdout",
     "output_type": "stream",
     "text": [
      "['Hr', 'IT', 'Finance', 'Admin']\n"
     ]
    }
   ],
   "source": [
    "#To add a values to anywhere in the List\n",
    "dept = ['Hr', 'Finance', 'Admin']\n",
    "dept.insert(1, \"IT\")\n",
    "print(dept)"
   ]
  },
  {
   "cell_type": "code",
   "execution_count": 7,
   "id": "08d476a4",
   "metadata": {},
   "outputs": [
    {
     "name": "stdout",
     "output_type": "stream",
     "text": [
      "['Admin', 'Finance', 'Hr', 'IT']\n"
     ]
    }
   ],
   "source": [
    " #To sort the list in ascending order\n",
    "dept = ['Hr', 'IT', 'Finance', 'Admin']\n",
    "dept.sort()\n",
    "print(dept)"
   ]
  },
  {
   "cell_type": "code",
   "execution_count": 8,
   "id": "b07394f6",
   "metadata": {},
   "outputs": [
    {
     "name": "stdout",
     "output_type": "stream",
     "text": [
      "['IT', 'Hr', 'Finance', 'Admin']\n"
     ]
    }
   ],
   "source": [
    "#To sort the list in descending order\n",
    "dept = ['Hr', 'IT', 'Finance', 'Admin']\n",
    "dept.sort(reverse = True)\n",
    "print(dept)"
   ]
  },
  {
   "cell_type": "code",
   "execution_count": 9,
   "id": "56688b18",
   "metadata": {},
   "outputs": [
    {
     "name": "stdout",
     "output_type": "stream",
     "text": [
      "['Admin', 'Finance', 'IT', 'Hr']\n"
     ]
    }
   ],
   "source": [
    "#To reverse the list\n",
    "dept = ['Hr', 'IT', 'Finance', 'Admin']\n",
    "dept.reverse()\n",
    "print(dept)"
   ]
  },
  {
   "cell_type": "code",
   "execution_count": 10,
   "id": "394ddaf7",
   "metadata": {},
   "outputs": [
    {
     "name": "stdout",
     "output_type": "stream",
     "text": [
      "5\n",
      "1\n",
      "2\n",
      "2\n"
     ]
    }
   ],
   "source": [
    "#To count the repitition of elements in the list\n",
    "num_lst = [1,1,1,1,1,3,4,4,5,6,7,7,5,567,6,7,89,9]\n",
    "print(num_lst.count(1))\n",
    "print(num_lst.count(3))\n",
    "print(num_lst.count(4))\n",
    "print(num_lst.count(5))"
   ]
  },
  {
   "cell_type": "code",
   "execution_count": 11,
   "id": "7541cf68",
   "metadata": {},
   "outputs": [
    {
     "name": "stdout",
     "output_type": "stream",
     "text": [
      "1\n",
      "567\n",
      "724\n"
     ]
    }
   ],
   "source": [
    "#To find the min, max, sum of the list\n",
    "num_lst = [1,1,1,1,1,3,4,4,5,6,7,7,5,567,6,7,89,9]\n",
    "print(min(num_lst))\n",
    "print(max(num_lst))\n",
    "print(sum(num_lst))"
   ]
  },
  {
   "attachments": {},
   "cell_type": "markdown",
   "id": "4e97ac5a",
   "metadata": {},
   "source": [
    "# Tuple in python\n",
    "    -> Tuple consist of string, integer, float\n",
    "    -> It is one of the collection datatype in python\n",
    "    -> list and tuple are used to store the data alone but list is mutable and tuple is immutable\n",
    "    -> Tuple are ordered sequence"
   ]
  },
  {
   "cell_type": "code",
   "execution_count": 14,
   "id": "8dab8417",
   "metadata": {},
   "outputs": [
    {
     "name": "stdout",
     "output_type": "stream",
     "text": [
      "(1, 23, 34, 45, 56, 67, 78, 89)\n"
     ]
    }
   ],
   "source": [
    "tup = (1,23,34,45,56,67,78,89)\n",
    "print(tup)"
   ]
  },
  {
   "cell_type": "code",
   "execution_count": 13,
   "id": "1cc7a837",
   "metadata": {},
   "outputs": [
    {
     "name": "stdout",
     "output_type": "stream",
     "text": [
      "56\n",
      "89\n",
      "78\n",
      "34\n"
     ]
    }
   ],
   "source": [
    "#To access particular value in tuple\n",
    "tup = (1,23,34,45,56,67,78,89)\n",
    "print(tup[4])\n",
    "print(tup[7])\n",
    "print(tup[6])\n",
    "print(tup[2])"
   ]
  },
  {
   "cell_type": "code",
   "execution_count": 3,
   "id": "578caa49",
   "metadata": {},
   "outputs": [
    {
     "name": "stdout",
     "output_type": "stream",
     "text": [
      "(1, 23, 34, 45, 56, 67, 78, 89)\n",
      "(1, 23, 34)\n",
      "(1, 23, 34, 45, 56, 67, 78)\n",
      "(34, 45, 56, 67, 78)\n",
      "()\n"
     ]
    }
   ],
   "source": [
    "#To print a range of values\n",
    "tup = (1,23,34,45,56,67,78,89)\n",
    "print(tup[:])\n",
    "print(tup[0:3])\n",
    "print(tup[:-1])\n",
    "print(tup[-6:-1])\n",
    "print(tup[-1:-6])"
   ]
  },
  {
   "attachments": {},
   "cell_type": "markdown",
   "id": "e8dbdfaa",
   "metadata": {},
   "source": [
    "# Built in methods in python"
   ]
  },
  {
   "cell_type": "code",
   "execution_count": 15,
   "id": "9481f74b",
   "metadata": {},
   "outputs": [
    {
     "name": "stdout",
     "output_type": "stream",
     "text": [
      "2\n",
      "1\n"
     ]
    }
   ],
   "source": [
    "#To count the number of occurance of particular value\n",
    "tup = (1,23,34,45,56,23,78,89)\n",
    "print(tup.count(23))\n",
    "print(tup.count(34))"
   ]
  },
  {
   "cell_type": "code",
   "execution_count": 16,
   "id": "dc3dd283",
   "metadata": {},
   "outputs": [
    {
     "name": "stdout",
     "output_type": "stream",
     "text": [
      "1\n"
     ]
    }
   ],
   "source": [
    "#To find the postion of values in tuple\n",
    "tup = (1,23,34,45,23,67,78,89)\n",
    "print(tup.index(23))"
   ]
  },
  {
   "cell_type": "code",
   "execution_count": 17,
   "id": "0ec39ac9",
   "metadata": {},
   "outputs": [
    {
     "name": "stdout",
     "output_type": "stream",
     "text": [
      "18\n",
      "1\n",
      "567\n",
      "724\n"
     ]
    }
   ],
   "source": [
    "#To find the length, min, max, sum of the list\n",
    "num_lst = (1,1,1,1,1,3,4,4,5,6,7,7,5,567,6,7,89,9)\n",
    "print(len(num_lst))\n",
    "print(min(num_lst))\n",
    "print(max(num_lst))\n",
    "print(sum(num_lst))"
   ]
  },
  {
   "cell_type": "code",
   "execution_count": 3,
   "id": "a0f66b87",
   "metadata": {},
   "outputs": [
    {
     "name": "stdout",
     "output_type": "stream",
     "text": [
      "[1, 1, 1, 1, 1, 3, 4, 4, 5, 5, 6, 6, 7, 7, 7, 9, 89, 567]\n",
      "<reversed object at 0x000001652FEC50C8>\n",
      "<reversed object at 0x000001652FCD6E48>\n"
     ]
    }
   ],
   "source": [
    "#To do sort the value\n",
    "num_lst = (1,1,1,1,1,3,4,4,5,6,7,7,5,567,6,7,89,9)\n",
    "print(sorted(num_lst))\n",
    "print(reversed(num_lst))\n",
    "reverse = reversed(num_lst)\n",
    "print(reverse)"
   ]
  },
  {
   "attachments": {},
   "cell_type": "markdown",
   "id": "f5f03344",
   "metadata": {},
   "source": [
    "# Set in python \n",
    "    -> It is unordered collection of data and doesnot allow duplication \n",
    "    -> Common use of set is membership testing and removing duplication\n",
    "    -> Cannot do indexing and slicing "
   ]
  },
  {
   "cell_type": "code",
   "execution_count": 19,
   "id": "3b65d06a",
   "metadata": {},
   "outputs": [
    {
     "name": "stdout",
     "output_type": "stream",
     "text": [
      "{67, 56756, 454, 2343, 123}\n"
     ]
    }
   ],
   "source": [
    "my_set = {123, 2343, 454, 56756, 67}\n",
    "print(my_set)"
   ]
  },
  {
   "cell_type": "code",
   "execution_count": 20,
   "id": "12490453",
   "metadata": {},
   "outputs": [
    {
     "name": "stdout",
     "output_type": "stream",
     "text": [
      "{32, 67, 56756, 454, 2343, 123}\n"
     ]
    }
   ],
   "source": [
    "#To add a value into set\n",
    "my_set = {123, 2343, 454, 56756, 67}\n",
    "my_set.add(32)\n",
    "print(my_set)"
   ]
  },
  {
   "cell_type": "code",
   "execution_count": 26,
   "id": "de4109f1",
   "metadata": {},
   "outputs": [
    {
     "name": "stdout",
     "output_type": "stream",
     "text": [
      "{67, 56756, 454, 2343}\n"
     ]
    }
   ],
   "source": [
    "#To remove a value from the set\n",
    "my_set = {123, 2343, 454, 56756, 67}\n",
    "my_set.remove(123)\n",
    "print(my_set)"
   ]
  },
  {
   "cell_type": "code",
   "execution_count": 28,
   "id": "33d971f6",
   "metadata": {},
   "outputs": [
    {
     "name": "stdout",
     "output_type": "stream",
     "text": [
      "{67, 56756, 2343, 123}\n"
     ]
    }
   ],
   "source": [
    "my_set = {123, 2343, 454, 56756, 67}\n",
    "my_set.discard(454)\n",
    "print(my_set)"
   ]
  },
  {
   "cell_type": "code",
   "execution_count": 8,
   "id": "c5c3433b",
   "metadata": {},
   "outputs": [
    {
     "name": "stdout",
     "output_type": "stream",
     "text": [
      "{67, 454, 2343, 875, 56756, 123}\n",
      "67\n",
      "454\n",
      "2343\n",
      "{875, 56756, 123}\n"
     ]
    }
   ],
   "source": [
    "#To pop out a particular value\n",
    "my_set = {123, 2343, 875, 454, 56756, 67}\n",
    "print(my_set)\n",
    "print(my_set.pop())\n",
    "print(my_set.pop())\n",
    "print(my_set.pop())\n",
    "print(my_set)"
   ]
  },
  {
   "cell_type": "code",
   "execution_count": 5,
   "id": "0bc7de44",
   "metadata": {},
   "outputs": [
    {
     "data": {
      "text/plain": [
       "True"
      ]
     },
     "execution_count": 5,
     "metadata": {},
     "output_type": "execute_result"
    }
   ],
   "source": [
    "#To check the set2 is the subset of set1\n",
    "my_set = {123, 2343, 454, 56756, 67}\n",
    "set1 = {123, 454}\n",
    "set1.issubset(my_set)"
   ]
  },
  {
   "cell_type": "code",
   "execution_count": 38,
   "id": "f7448221",
   "metadata": {},
   "outputs": [
    {
     "name": "stdout",
     "output_type": "stream",
     "text": [
      "{67, 56756, 454, 2343, 123}\n",
      "set()\n"
     ]
    }
   ],
   "source": [
    "#To clear the entire set\n",
    "my_set = {123, 2343, 454, 56756, 67}\n",
    "print(my_set)\n",
    "my_set.clear()\n",
    "print(my_set)"
   ]
  },
  {
   "cell_type": "code",
   "execution_count": 39,
   "id": "7b60bda2",
   "metadata": {},
   "outputs": [
    {
     "name": "stdout",
     "output_type": "stream",
     "text": [
      "{123, 454}\n"
     ]
    }
   ],
   "source": [
    "#To find the common values in the sets given\n",
    "my_set = {123, 2343, 454, 56756, 67}\n",
    "set1 = {123, 454, 23, 100, 456789}\n",
    "print(my_set.intersection(set1))"
   ]
  },
  {
   "cell_type": "code",
   "execution_count": 41,
   "id": "42d01e00",
   "metadata": {},
   "outputs": [
    {
     "name": "stdout",
     "output_type": "stream",
     "text": [
      "{67, 56756, 2343}\n",
      "{100, 456789, 23}\n"
     ]
    }
   ],
   "source": [
    "#To find the difference between two sets\n",
    "my_set = {123, 2343, 454, 56756, 67}\n",
    "set1 = {123, 454, 23, 100, 456789}\n",
    "print(my_set.difference(set1))\n",
    "print(set1.difference(my_set))"
   ]
  },
  {
   "cell_type": "code",
   "execution_count": 43,
   "id": "0f2bb954",
   "metadata": {},
   "outputs": [
    {
     "name": "stdout",
     "output_type": "stream",
     "text": [
      "{67, 100, 454, 2343, 56756, 456789, 23, 123}\n",
      "{67, 100, 454, 2343, 56756, 456789, 23, 123}\n"
     ]
    }
   ],
   "source": [
    "#To find all the values of the set\n",
    "my_set = {123, 2343, 454, 56756, 67}\n",
    "set1 = {123, 454, 23, 100, 456789}\n",
    "print(my_set.union(set1))\n",
    "print(set1.union(my_set))"
   ]
  },
  {
   "cell_type": "code",
   "execution_count": 44,
   "id": "f8d70533",
   "metadata": {},
   "outputs": [
    {
     "name": "stdout",
     "output_type": "stream",
     "text": [
      "{67, 100, 456789, 23, 56756, 2343}\n"
     ]
    }
   ],
   "source": [
    "#To skip the values that are similar in both the sets\n",
    "my_set = {123, 2343, 454, 56756, 67}\n",
    "set1 = {123, 454, 23, 100, 456789}\n",
    "print(my_set.symmetric_difference(set1))"
   ]
  },
  {
   "attachments": {},
   "cell_type": "markdown",
   "id": "2dbef1bc",
   "metadata": {},
   "source": [
    "# Dictionary in python\n",
    "    -> It is a collection datatype\n",
    "    -> It allows you to work with key value packs"
   ]
  },
  {
   "cell_type": "code",
   "execution_count": 1,
   "id": "0d2f59e2",
   "metadata": {},
   "outputs": [
    {
     "name": "stdout",
     "output_type": "stream",
     "text": [
      "{'Name': 'Naveen', 'Age': 21, 'Salary': 800000}\n"
     ]
    }
   ],
   "source": [
    "employee = {\"Name\" : \"Naveen\", \"Age\" : 21, \"Salary\" : 800000}\n",
    "print(employee)"
   ]
  },
  {
   "cell_type": "code",
   "execution_count": 9,
   "id": "30191f11",
   "metadata": {},
   "outputs": [
    {
     "name": "stdout",
     "output_type": "stream",
     "text": [
      "Naveen\n",
      "21\n",
      "800000\n"
     ]
    },
    {
     "ename": "KeyError",
     "evalue": "'location'",
     "output_type": "error",
     "traceback": [
      "\u001b[1;31m---------------------------------------------------------------------------\u001b[0m",
      "\u001b[1;31mKeyError\u001b[0m                                  Traceback (most recent call last)",
      "\u001b[1;32m~\\AppData\\Local\\Temp\\ipykernel_8936\\3910043860.py\u001b[0m in \u001b[0;36m<module>\u001b[1;34m\u001b[0m\n\u001b[0;32m      4\u001b[0m \u001b[0mprint\u001b[0m\u001b[1;33m(\u001b[0m\u001b[0memployee\u001b[0m\u001b[1;33m[\u001b[0m\u001b[1;34m\"Age\"\u001b[0m\u001b[1;33m]\u001b[0m\u001b[1;33m)\u001b[0m\u001b[1;33m\u001b[0m\u001b[1;33m\u001b[0m\u001b[0m\n\u001b[0;32m      5\u001b[0m \u001b[0mprint\u001b[0m\u001b[1;33m(\u001b[0m\u001b[0memployee\u001b[0m\u001b[1;33m[\u001b[0m\u001b[1;34m\"Salary\"\u001b[0m\u001b[1;33m]\u001b[0m\u001b[1;33m)\u001b[0m\u001b[1;33m\u001b[0m\u001b[1;33m\u001b[0m\u001b[0m\n\u001b[1;32m----> 6\u001b[1;33m \u001b[0mprint\u001b[0m\u001b[1;33m(\u001b[0m\u001b[0memployee\u001b[0m\u001b[1;33m[\u001b[0m\u001b[1;34m\"location\"\u001b[0m\u001b[1;33m]\u001b[0m\u001b[1;33m)\u001b[0m\u001b[1;33m\u001b[0m\u001b[1;33m\u001b[0m\u001b[0m\n\u001b[0m",
      "\u001b[1;31mKeyError\u001b[0m: 'location'"
     ]
    }
   ],
   "source": [
    "#To fetch the particular value \n",
    "employee = {\"Name\" : \"Naveen\", \"Age\" : 21, \"Salary\" : 800000}\n",
    "print(employee[\"Name\"])\n",
    "print(employee[\"Age\"])\n",
    "print(employee[\"Salary\"])\n",
    "# print(employee[\"location\"])"
   ]
  },
  {
   "cell_type": "code",
   "execution_count": 16,
   "id": "0c138351",
   "metadata": {},
   "outputs": [
    {
     "name": "stdout",
     "output_type": "stream",
     "text": [
      "{'Name': 'Naveen', 'Age': 21, 'Salary': 800000}\n",
      "Naveen\n",
      "None\n",
      "Not Found\n"
     ]
    }
   ],
   "source": [
    "employee = {\"Name\" : \"Naveen\", \"Age\" : 21, \"Salary\" : 800000}\n",
    "print(employee)\n",
    "print(employee.get(\"Name\"))\n",
    "print(employee.get(\"location\"))\n",
    "print(employee.get(\"location\", \"Not Found\"))"
   ]
  },
  {
   "cell_type": "code",
   "execution_count": 4,
   "id": "0bfb3b4d",
   "metadata": {},
   "outputs": [
    {
     "name": "stdout",
     "output_type": "stream",
     "text": [
      "{'Name': 'Naveen', 'Age': 21, 'Salary': 800000, 'Location': 'Not defined'}\n"
     ]
    }
   ],
   "source": [
    "#To add new information into the dictionary\n",
    "employee = {\"Name\" : \"Naveen\", \"Age\" : 21, \"Salary\" : 800000}\n",
    "employee[\"Location\"] = \"Not defined\"\n",
    "print(employee)"
   ]
  },
  {
   "cell_type": "code",
   "execution_count": 17,
   "id": "d4dee57f",
   "metadata": {},
   "outputs": [
    {
     "name": "stdout",
     "output_type": "stream",
     "text": [
      "Naveen\n",
      "21\n",
      "{'Salary': 800000}\n"
     ]
    }
   ],
   "source": [
    "#To pop the values from the dictionary\n",
    "employee = {\"Name\" : \"Naveen\", \"Age\" : 21, \"Salary\" : 800000}\n",
    "print(employee.pop(\"Name\"))\n",
    "print(employee.pop(\"Age\"))\n",
    "print(employee)"
   ]
  },
  {
   "cell_type": "code",
   "execution_count": 6,
   "id": "9de8f8ca",
   "metadata": {},
   "outputs": [
    {
     "name": "stdout",
     "output_type": "stream",
     "text": [
      "dict_keys(['Name', 'Age', 'Salary'])\n"
     ]
    }
   ],
   "source": [
    "#To know all the keys in the dictionary\n",
    "employee = {\"Name\" : \"Naveen\", \"Age\" : 21, \"Salary\" : 800000}\n",
    "print(employee.keys())"
   ]
  },
  {
   "cell_type": "code",
   "execution_count": 7,
   "id": "1bf6d4d4",
   "metadata": {},
   "outputs": [
    {
     "name": "stdout",
     "output_type": "stream",
     "text": [
      "dict_values(['Naveen', 21, 800000])\n"
     ]
    }
   ],
   "source": [
    "#To know all the values in the dictionary\n",
    "employee = {\"Name\" : \"Naveen\", \"Age\" : 21, \"Salary\" : 800000}\n",
    "print(employee.values())"
   ]
  },
  {
   "cell_type": "code",
   "execution_count": 8,
   "id": "7dbb696a",
   "metadata": {},
   "outputs": [
    {
     "name": "stdout",
     "output_type": "stream",
     "text": [
      "dict_items([('Name', 'Naveen'), ('Age', 21), ('Salary', 800000)])\n"
     ]
    }
   ],
   "source": [
    "#To know all the keys and values of the dictionary\n",
    "employee = {\"Name\" : \"Naveen\", \"Age\" : 21, \"Salary\" : 800000}\n",
    "print(employee.items())"
   ]
  },
  {
   "cell_type": "code",
   "execution_count": 9,
   "id": "72f2e7de",
   "metadata": {},
   "outputs": [
    {
     "name": "stdout",
     "output_type": "stream",
     "text": [
      "{'Name': 'Naveen', 'Age': '22', 'Salary': 800000}\n"
     ]
    }
   ],
   "source": [
    "#To update the value of the dictionary\n",
    "employee = {\"Name\" : \"Naveen\", \"Age\" : 21, \"Salary\" : 800000}\n",
    "employee[\"Age\"] = \"22\"\n",
    "print(employee)"
   ]
  },
  {
   "cell_type": "code",
   "execution_count": 10,
   "id": "c252260f",
   "metadata": {},
   "outputs": [
    {
     "name": "stdout",
     "output_type": "stream",
     "text": [
      "{}\n"
     ]
    }
   ],
   "source": [
    "#To clear the dictionary\n",
    "employee = {\"Name\" : \"Naveen\", \"Age\" : 21, \"Salary\" : 800000}\n",
    "employee.clear()\n",
    "print(employee)"
   ]
  },
  {
   "attachments": {},
   "cell_type": "markdown",
   "id": "e4ff3d51",
   "metadata": {},
   "source": [
    "# Control Statement\n",
    "    -> if statements\n",
    "    -> if else statements\n",
    "    -> elif statements"
   ]
  },
  {
   "cell_type": "code",
   "execution_count": 19,
   "id": "f8c5c207",
   "metadata": {},
   "outputs": [
    {
     "name": "stdout",
     "output_type": "stream",
     "text": [
      "Welcome,  Naveen\n"
     ]
    }
   ],
   "source": [
    "name = \"Naveen\"\n",
    "if name == \"Naveen\":\n",
    "    print(\"Welcome, \",name)\n",
    "else:\n",
    "    print(\"Welcome, what is your name\")"
   ]
  },
  {
   "cell_type": "code",
   "execution_count": 23,
   "id": "a984e37e",
   "metadata": {},
   "outputs": [
    {
     "name": "stdout",
     "output_type": "stream",
     "text": [
      "Enter the name: Edi\n",
      "Welcome, what is your name...\n"
     ]
    }
   ],
   "source": [
    "name = input(\"Enter the name: \")\n",
    "if name == \"Naveen\":\n",
    "    print(\"Welcome, \",name)\n",
    "elif name == \"Kumar\":\n",
    "    print(\"Welcome\", name)\n",
    "else:\n",
    "    print(\"Welcome, what is your name...\")"
   ]
  },
  {
   "cell_type": "code",
   "execution_count": 1,
   "id": "13c5c80b",
   "metadata": {},
   "outputs": [
    {
     "name": "stdout",
     "output_type": "stream",
     "text": [
      "Enter the name: Naveen\n",
      "Enter the age: 21\n",
      "Qualified...\n"
     ]
    }
   ],
   "source": [
    "name = input(\"Enter the name: \")\n",
    "age = int(input(\"Enter the age: \"))\n",
    "if name == \"Naveen\" and age == 21:\n",
    "    print(\"Qualified...\")\n",
    "elif name == \"Kumar\" and age == 22:\n",
    "    print(\"Qualified...\")\n",
    "else:\n",
    "    print(\"Sorry, you are not qualified...\")"
   ]
  },
  {
   "cell_type": "code",
   "execution_count": 5,
   "id": "3c9af8ae",
   "metadata": {},
   "outputs": [
    {
     "name": "stdout",
     "output_type": "stream",
     "text": [
      "Enter the age: 21\n",
      "eligible\n"
     ]
    }
   ],
   "source": [
    "age = int(input(\"Enter the age: \"))\n",
    "if not age < 18:\n",
    "    print(\"eligible\")"
   ]
  },
  {
   "attachments": {},
   "cell_type": "markdown",
   "id": "b2d6bc0a",
   "metadata": {},
   "source": [
    "# Loop\n",
    "    -> It is used to repeat some progress again and again \n",
    "    -> There are two loops in python\n",
    "    -> for loop\n",
    "    -> while loop"
   ]
  },
  {
   "attachments": {},
   "cell_type": "markdown",
   "id": "d8c2c9d2",
   "metadata": {},
   "source": [
    "# For loop"
   ]
  },
  {
   "cell_type": "code",
   "execution_count": 6,
   "id": "a10255f9",
   "metadata": {},
   "outputs": [
    {
     "name": "stdout",
     "output_type": "stream",
     "text": [
      "0\n",
      "1\n",
      "2\n",
      "3\n",
      "4\n",
      "5\n",
      "6\n",
      "7\n",
      "8\n",
      "9\n"
     ]
    }
   ],
   "source": [
    "for i in range(10):\n",
    "    print(i)"
   ]
  },
  {
   "cell_type": "code",
   "execution_count": 7,
   "id": "f8fde357",
   "metadata": {},
   "outputs": [
    {
     "name": "stdout",
     "output_type": "stream",
     "text": [
      "1\n",
      "2\n",
      "3\n",
      "4\n",
      "5\n",
      "6\n",
      "7\n",
      "8\n",
      "9\n"
     ]
    }
   ],
   "source": [
    "for i in range(1, 10):\n",
    "    print(i)"
   ]
  },
  {
   "cell_type": "code",
   "execution_count": 8,
   "id": "910f8052",
   "metadata": {},
   "outputs": [
    {
     "name": "stdout",
     "output_type": "stream",
     "text": [
      "1\n",
      "2\n",
      "3\n",
      "4\n",
      "5\n",
      "6\n",
      "7\n",
      "8\n",
      "9\n"
     ]
    }
   ],
   "source": [
    "for i in range(1, 10, 1):\n",
    "    print(i)"
   ]
  },
  {
   "cell_type": "code",
   "execution_count": 9,
   "id": "ec0ad84a",
   "metadata": {},
   "outputs": [
    {
     "name": "stdout",
     "output_type": "stream",
     "text": [
      "1\n",
      "3\n",
      "5\n",
      "7\n",
      "9\n"
     ]
    }
   ],
   "source": [
    "for i in range(1, 10, 2):\n",
    "    print(i)"
   ]
  },
  {
   "cell_type": "code",
   "execution_count": 11,
   "id": "a9508680",
   "metadata": {},
   "outputs": [
    {
     "name": "stdout",
     "output_type": "stream",
     "text": [
      "10\n",
      "9\n",
      "8\n",
      "7\n",
      "6\n",
      "5\n",
      "4\n",
      "3\n",
      "2\n",
      "1\n",
      "0\n",
      "-1\n",
      "-2\n",
      "-3\n",
      "-4\n",
      "-5\n",
      "-6\n",
      "-7\n",
      "-8\n",
      "-9\n",
      "-10\n"
     ]
    }
   ],
   "source": [
    "for i in range(10, -11, -1):\n",
    "    print(i)"
   ]
  },
  {
   "cell_type": "code",
   "execution_count": 12,
   "id": "8af09229",
   "metadata": {},
   "outputs": [
    {
     "name": "stdout",
     "output_type": "stream",
     "text": [
      "10\n",
      "9\n",
      "8\n",
      "7\n",
      "6\n",
      "5\n",
      "4\n",
      "3\n",
      "2\n",
      "1\n",
      "-1\n",
      "-2\n",
      "-3\n",
      "-4\n",
      "-5\n",
      "-6\n",
      "-7\n",
      "-8\n",
      "-9\n",
      "-10\n"
     ]
    }
   ],
   "source": [
    "for i in range(10, -11, -1):\n",
    "    if i == 0:\n",
    "        continue\n",
    "    print(i)"
   ]
  },
  {
   "cell_type": "code",
   "execution_count": 3,
   "id": "e7bc6cd5",
   "metadata": {},
   "outputs": [
    {
     "name": "stdout",
     "output_type": "stream",
     "text": [
      "10\n",
      "9\n",
      "8\n",
      "7\n",
      "6\n",
      "5\n",
      "4\n",
      "3\n",
      "2\n",
      "1\n"
     ]
    }
   ],
   "source": [
    "for i in range(10, -11, -1):\n",
    "    if i == 0:\n",
    "        break\n",
    "    print(i)"
   ]
  },
  {
   "attachments": {},
   "cell_type": "markdown",
   "id": "6196ab63",
   "metadata": {},
   "source": [
    "# While loop"
   ]
  },
  {
   "cell_type": "code",
   "execution_count": 2,
   "id": "d1918687",
   "metadata": {},
   "outputs": [
    {
     "name": "stdout",
     "output_type": "stream",
     "text": [
      "0\n",
      "1\n",
      "2\n",
      "3\n",
      "4\n",
      "5\n",
      "6\n",
      "7\n",
      "8\n",
      "9\n",
      "10\n"
     ]
    }
   ],
   "source": [
    "i = 0\n",
    "while i <= 10:\n",
    "    print(i)\n",
    "    i+=1"
   ]
  },
  {
   "cell_type": "code",
   "execution_count": 4,
   "id": "c3229976",
   "metadata": {},
   "outputs": [
    {
     "name": "stdout",
     "output_type": "stream",
     "text": [
      "0\n",
      "1\n",
      "2\n",
      "3\n",
      "4\n",
      "6\n",
      "7\n",
      "8\n",
      "9\n",
      "10\n"
     ]
    }
   ],
   "source": [
    "i = 0\n",
    "while i <= 10:\n",
    "    if i == 5:\n",
    "        i+=1\n",
    "        continue\n",
    "    print(i)\n",
    "    i+=1"
   ]
  },
  {
   "cell_type": "code",
   "execution_count": 5,
   "id": "b150d7e3",
   "metadata": {},
   "outputs": [
    {
     "name": "stdout",
     "output_type": "stream",
     "text": [
      "0\n",
      "1\n",
      "2\n",
      "3\n",
      "4\n"
     ]
    }
   ],
   "source": [
    "i = 0\n",
    "while i <= 10:\n",
    "    if i == 5:\n",
    "        i+=1\n",
    "        break\n",
    "    print(i)\n",
    "    i+=1"
   ]
  },
  {
   "attachments": {},
   "cell_type": "markdown",
   "id": "10105728",
   "metadata": {},
   "source": [
    "# Functions\n",
    "    -> It is a set of specific instructions used to carry out some specific tasks\n",
    "    -> It is a set of instructions bounded or packed together to do some specific task"
   ]
  },
  {
   "cell_type": "code",
   "execution_count": 6,
   "id": "3b0c0c84",
   "metadata": {},
   "outputs": [
    {
     "name": "stdout",
     "output_type": "stream",
     "text": [
      "Inside the function\n"
     ]
    }
   ],
   "source": [
    "def func():\n",
    "    print(\"Inside the function\")\n",
    "    \n",
    "func()"
   ]
  },
  {
   "cell_type": "code",
   "execution_count": 8,
   "id": "f1267893",
   "metadata": {},
   "outputs": [
    {
     "name": "stdout",
     "output_type": "stream",
     "text": [
      "Enter the num1 :21\n",
      "Enter the num2 :12\n",
      "33\n"
     ]
    }
   ],
   "source": [
    "num1 = int(input(\"Enter the num1 :\"))\n",
    "num2 = int(input(\"Enter the num2 :\"))\n",
    "def sum(n1, n2):\n",
    "    sum = 0\n",
    "    sum = n1+n2\n",
    "    print(sum)\n",
    "    \n",
    "sum(num1, num2)"
   ]
  },
  {
   "cell_type": "code",
   "execution_count": 10,
   "id": "25d470c1",
   "metadata": {},
   "outputs": [
    {
     "name": "stdout",
     "output_type": "stream",
     "text": [
      "Enter the num1 :12\n",
      "Enter the num2 :21\n",
      "33\n"
     ]
    }
   ],
   "source": [
    "num1 = int(input(\"Enter the num1 :\"))\n",
    "num2 = int(input(\"Enter the num2 :\"))\n",
    "def sum(n1, n2):\n",
    "    sum = 0\n",
    "    sum = n1+n2\n",
    "    return sum\n",
    "    \n",
    "print(sum(num1, num2))"
   ]
  },
  {
   "cell_type": "code",
   "execution_count": 4,
   "id": "5376d188",
   "metadata": {},
   "outputs": [
    {
     "name": "stdout",
     "output_type": "stream",
     "text": [
      "<class 'tuple'>\n",
      "45\n"
     ]
    }
   ],
   "source": [
    "#To pass n number of arguments to function\n",
    "def sumofno(*v):\n",
    "    print(type(v))\n",
    "    sum = 0\n",
    "    for i in v:\n",
    "        sum = sum + i\n",
    "    return sum\n",
    "\n",
    "print(sumofno(1,2,3,4,5,6,7,8,9,0))"
   ]
  },
  {
   "cell_type": "code",
   "execution_count": 5,
   "id": "96ea8cf0",
   "metadata": {},
   "outputs": [
    {
     "name": "stdout",
     "output_type": "stream",
     "text": [
      "<class 'tuple'>\n",
      "45\n"
     ]
    }
   ],
   "source": [
    "#To pass n number of arguments to function\n",
    "def sumofno(*v):\n",
    "    print(type(v))\n",
    "    return sum(v)\n",
    "\n",
    "print(sumofno(1,2,3,4,5,6,7,8,9,0))"
   ]
  },
  {
   "cell_type": "code",
   "execution_count": 10,
   "id": "4ca8ab88",
   "metadata": {},
   "outputs": [
    {
     "name": "stdout",
     "output_type": "stream",
     "text": [
      "<class 'dict'>\n",
      "FirstName is Naveen\n",
      "LastName is kumar\n",
      "Age is 21\n"
     ]
    }
   ],
   "source": [
    "def p_all(**kw):\n",
    "    print(type(kw))\n",
    "    for k, v in kw.items():\n",
    "        print(f\"{k} is {v}\")\n",
    "    \n",
    "p_all(FirstName = \"Naveen\", LastName = \"kumar\", Age= 21)"
   ]
  },
  {
   "cell_type": "code",
   "execution_count": 9,
   "id": "f43945ab",
   "metadata": {},
   "outputs": [
    {
     "name": "stdout",
     "output_type": "stream",
     "text": [
      "<class 'dict'>\n",
      "FirstName is Naveen\n",
      "LastName is kumar\n",
      "Age is 21\n"
     ]
    }
   ],
   "source": [
    "def p_all(**kw):\n",
    "    print(type(kw))\n",
    "    for k, v in kw.items():\n",
    "        print(f\"{k} is {v}\")\n",
    "    \n",
    "dict_ = {'FirstName' : 'Naveen', 'LastName' : 'kumar', 'Age' : 21}\n",
    "p_all(**dict_)"
   ]
  },
  {
   "cell_type": "code",
   "execution_count": 21,
   "id": "734baec0",
   "metadata": {},
   "outputs": [
    {
     "name": "stdout",
     "output_type": "stream",
     "text": [
      "<class 'tuple'>\n",
      "<class 'dict'>\n",
      "1\n",
      "2\n",
      "3\n",
      "4\n",
      "5\n",
      "6\n",
      "Total sum is:  21\n",
      "FirstName is Naveen\n",
      "LastName is kumar\n",
      "Age is 21\n"
     ]
    }
   ],
   "source": [
    "def b_type(*v, **kw):\n",
    "    print(type(v))\n",
    "    print(type(kw))\n",
    "    sum = 0\n",
    "    for i in v:\n",
    "        print(i)\n",
    "    for i in v:\n",
    "        sum = sum + i\n",
    "    print(\"Total sum is: \", sum)\n",
    "    for k,w in kw.items():\n",
    "        print(f\"{k} is {w}\")\n",
    "    \n",
    "b_type(1,2,3,4,5,6,FirstName = \"Naveen\", LastName = \"kumar\", Age= 21) \n",
    "    "
   ]
  },
  {
   "cell_type": "code",
   "execution_count": 15,
   "id": "07fad97a",
   "metadata": {},
   "outputs": [
    {
     "name": "stdout",
     "output_type": "stream",
     "text": [
      "<class 'tuple'>\n",
      "<class 'dict'>\n",
      "1\n",
      "2\n",
      "3\n",
      "4\n",
      "5\n",
      "6\n",
      "Total sum is:  21\n",
      "FirstName is Naveen\n",
      "LastName is kumar\n",
      "Age is 21\n"
     ]
    }
   ],
   "source": [
    "def b_type(*v, **kw):\n",
    "    print(type(v))\n",
    "    print(type(kw))\n",
    "    sum = 0\n",
    "    for i in v:\n",
    "        print(i)\n",
    "    for i in v:\n",
    "        sum = sum + i\n",
    "    print(\"Total sum is: \", sum)\n",
    "    for k,w in kw.items():\n",
    "        print(f\"{k} is {w}\")\n",
    "    \n",
    "list_ = [1,2,3,4,5,6]\n",
    "dict_ = {'FirstName' : 'Naveen', 'LastName' : 'kumar', 'Age' : 21}\n",
    "b_type(*list_,**dict_) "
   ]
  },
  {
   "attachments": {},
   "cell_type": "markdown",
   "id": "8a907a2e",
   "metadata": {},
   "source": [
    "# Split Function"
   ]
  },
  {
   "cell_type": "code",
   "execution_count": 25,
   "id": "8160a955",
   "metadata": {},
   "outputs": [
    {
     "name": "stdout",
     "output_type": "stream",
     "text": [
      "Green Red Blue Yellow\n",
      "['Green', 'Red', 'Blue', 'Yellow']\n"
     ]
    }
   ],
   "source": [
    "str_clr = \"Green Red Blue Yellow\"\n",
    "print(str_clr)\n",
    "print(str_clr.split())"
   ]
  },
  {
   "cell_type": "code",
   "execution_count": 38,
   "id": "8c6cca6f",
   "metadata": {},
   "outputs": [
    {
     "name": "stdout",
     "output_type": "stream",
     "text": [
      "Green#Red#Blue#Yellow\n",
      "['Green', 'Red', 'Blue', 'Yellow']\n"
     ]
    }
   ],
   "source": [
    "str_clr = \"Green#Red#Blue#Yellow\"\n",
    "print(str_clr)\n",
    "str_ = str_clr.split(\"#\")\n",
    "print(str_)"
   ]
  },
  {
   "cell_type": "code",
   "execution_count": 22,
   "id": "4a48b24e",
   "metadata": {},
   "outputs": [
    {
     "name": "stdout",
     "output_type": "stream",
     "text": [
      "Green#Red#Blue#Yellow\n",
      "['Green', 'Red', 'Blue#Yellow']\n"
     ]
    }
   ],
   "source": [
    "str_clr = \"Green#Red#Blue#Yellow\"\n",
    "print(str_clr) \n",
    "print(str_clr.split(\"#\", 2))"
   ]
  },
  {
   "cell_type": "code",
   "execution_count": 11,
   "id": "6769caf1",
   "metadata": {},
   "outputs": [
    {
     "data": {
      "text/plain": [
       "['This', 'video', 'is', 'presented', 'by', 'PM']"
      ]
     },
     "execution_count": 11,
     "metadata": {},
     "output_type": "execute_result"
    }
   ],
   "source": [
    "sentence = input(\"Enter the string: \").split()\n",
    "sentence\n"
   ]
  },
  {
   "attachments": {},
   "cell_type": "markdown",
   "id": "26920757",
   "metadata": {},
   "source": [
    "# Join Function\n",
    "    -> Used to convert the given list into string\n",
    "    \n",
    "    \n",
    "    "
   ]
  },
  {
   "cell_type": "code",
   "execution_count": 48,
   "id": "e2dd59c0",
   "metadata": {},
   "outputs": [
    {
     "name": "stdout",
     "output_type": "stream",
     "text": [
      "Hr Finance IT Admin\n"
     ]
    }
   ],
   "source": [
    "lst_dept = [\"Hr\", \"Finance\", \"IT\", \"Admin\"]\n",
    "str_dept = \" \".join(lst_dept)\n",
    "print(str_dept)"
   ]
  },
  {
   "cell_type": "code",
   "execution_count": 50,
   "id": "ef825ccf",
   "metadata": {},
   "outputs": [
    {
     "name": "stdout",
     "output_type": "stream",
     "text": [
      "Hr,   Finance,   IT,   Admin\n"
     ]
    }
   ],
   "source": [
    "lst_dept = [\"Hr\", \"Finance\", \"IT\", \"Admin\"]\n",
    "str_dept = \",   \".join(lst_dept)\n",
    "print(str_dept)"
   ]
  },
  {
   "attachments": {},
   "cell_type": "markdown",
   "id": "b6a94c02",
   "metadata": {},
   "source": [
    "# Zip Function\n",
    "    -> It is used to pack two or more object as a single object\n",
    "    -> It is not converted to list, tuple, set\n",
    "    -> Using Zip we can convert it to list, dict and generally transformed to tuple"
   ]
  },
  {
   "cell_type": "code",
   "execution_count": 2,
   "id": "14464373",
   "metadata": {},
   "outputs": [
    {
     "name": "stdout",
     "output_type": "stream",
     "text": [
      "[10, 10, 10, 10, 10, 10, 10, 10, 10]\n"
     ]
    }
   ],
   "source": [
    "lst1 = [1,2,3,4,5,6,7,8,9]\n",
    "lst2 = [9,8,7,6,5,4,3,2,1]\n",
    "lst3 = []\n",
    "\n",
    "val = zip(lst1, lst2)\n",
    "for val1, val2 in val:\n",
    "    lst3.append(val1 + val2)\n",
    "    \n",
    "print(lst3)"
   ]
  },
  {
   "cell_type": "code",
   "execution_count": 21,
   "id": "9cbf9e1c",
   "metadata": {},
   "outputs": [
    {
     "name": "stdout",
     "output_type": "stream",
     "text": [
      "{'Name': 'Naveenkumar', 'Age': 21, 'Salary': 1000000}\n"
     ]
    }
   ],
   "source": [
    "key = (\"Name\", \"Age\", \"Salary\")\n",
    "value = (\"Naveenkumar\", 21, 1000000)\n",
    "dict_val = dict(zip(key, value))\n",
    "print(dict_val)"
   ]
  },
  {
   "cell_type": "code",
   "execution_count": 22,
   "id": "58121849",
   "metadata": {},
   "outputs": [
    {
     "name": "stdout",
     "output_type": "stream",
     "text": [
      "{'Name': 'Naveenkumar', 'Age': 21, 'Salary': 1000000}\n"
     ]
    }
   ],
   "source": [
    "key = (\"Name\", \"Age\", \"Salary\")\n",
    "value = (\"Naveenkumar\", 21, 1000000)\n",
    "dict_val = {}\n",
    "\n",
    "for i, v in zip(key, value):\n",
    "    dict_val[i] = v\n",
    "\n",
    "print(dict_val)"
   ]
  },
  {
   "attachments": {},
   "cell_type": "markdown",
   "id": "e8dc4179",
   "metadata": {},
   "source": [
    "# Enumerate Function\n",
    "    -> Zip and Enum is used to pack the data into an object.\n",
    "    -> Then we can typecast to list, tuple, set, dictionary with the help of keyword"
   ]
  },
  {
   "cell_type": "code",
   "execution_count": 26,
   "id": "bb2f2f26",
   "metadata": {},
   "outputs": [
    {
     "name": "stdout",
     "output_type": "stream",
     "text": [
      "[(0, 'Hr'), (1, 'Finance'), (2, 'IT'), (3, 'Admin')]\n"
     ]
    }
   ],
   "source": [
    "dept = [\"Hr\", \"Finance\", \"IT\", \"Admin\"]\n",
    "print(list(enumerate(dept)))  "
   ]
  },
  {
   "cell_type": "code",
   "execution_count": 27,
   "id": "c40f5d57",
   "metadata": {},
   "outputs": [
    {
     "name": "stdout",
     "output_type": "stream",
     "text": [
      "[(5, 'Hr'), (6, 'Finance'), (7, 'IT'), (8, 'Admin')]\n"
     ]
    }
   ],
   "source": [
    "dept = [\"Hr\", \"Finance\", \"IT\", \"Admin\"]\n",
    "print(list(enumerate(dept, start = 5)))"
   ]
  },
  {
   "cell_type": "code",
   "execution_count": 28,
   "id": "6ebeb510",
   "metadata": {},
   "outputs": [
    {
     "name": "stdout",
     "output_type": "stream",
     "text": [
      "0 is Hr\n",
      "1 is Finance\n",
      "2 is IT\n",
      "3 is Admin\n"
     ]
    }
   ],
   "source": [
    "dept = [\"Hr\", \"Finance\", \"IT\", \"Admin\"]\n",
    "for i, v in list(enumerate(dept)):\n",
    "    print(f\"{i} is {v}\")"
   ]
  },
  {
   "attachments": {},
   "cell_type": "markdown",
   "id": "0de05fb3",
   "metadata": {},
   "source": [
    "# List Comprehension"
   ]
  },
  {
   "cell_type": "code",
   "execution_count": 29,
   "id": "0cd9efc4",
   "metadata": {},
   "outputs": [
    {
     "name": "stdout",
     "output_type": "stream",
     "text": [
      "[1, 4, 9, 16, 25, 36, 49, 64, 81]\n"
     ]
    }
   ],
   "source": [
    "mylst = [ 1,2,3,4,5,6,7,8,9]\n",
    "sqlst = [i**2 for i in mylst]\n",
    "print(sqlst)"
   ]
  },
  {
   "cell_type": "code",
   "execution_count": 30,
   "id": "65f01408",
   "metadata": {},
   "outputs": [
    {
     "name": "stdout",
     "output_type": "stream",
     "text": [
      "[1, 4, 9, 16, 25, 36, 49, 64, 81]\n",
      "[1, 16, 81, 256, 625, 1296, 2401, 4096, 6561]\n"
     ]
    }
   ],
   "source": [
    "mylst = [ 1,2,3,4,5,6,7,8,9]\n",
    "sqlst = [i**2 for i in mylst]\n",
    "sqsqlst = [i**2 for i in sqlst]\n",
    "print(sqlst)\n",
    "print(sqsqlst)"
   ]
  },
  {
   "cell_type": "code",
   "execution_count": 55,
   "id": "00cc5303",
   "metadata": {},
   "outputs": [
    {
     "name": "stdout",
     "output_type": "stream",
     "text": [
      "[1, 16, 81, 256, 625, 1296, 2401, 4096, 6561]\n"
     ]
    }
   ],
   "source": [
    "#nested list comprehension\n",
    "mylst = [ 1,2,3,4,5,6,7,8,9]\n",
    "sqsqlst = [i**2 for i in [i**2 for i in mylst]]\n",
    "print(sqsqlst)"
   ]
  },
  {
   "cell_type": "code",
   "execution_count": 56,
   "id": "500e5cd5",
   "metadata": {},
   "outputs": [
    {
     "name": "stdout",
     "output_type": "stream",
     "text": [
      "[32.55555555555556, 33.111111111111114, 33.666666666666664, 34.22222222222222, 34.77777777777778, 35.333333333333336, 35.888888888888886, 36.44444444444444, 37.0]\n"
     ]
    }
   ],
   "source": [
    "#giving formulas inside the list comrehension\n",
    "celcius = [1,2,3,4,5,6,7,8,9]\n",
    "farenheit = [5/9*i+32 for i in celcius]\n",
    "print(farenheit)"
   ]
  },
  {
   "cell_type": "code",
   "execution_count": 57,
   "id": "957f4fad",
   "metadata": {},
   "outputs": [
    {
     "name": "stdout",
     "output_type": "stream",
     "text": [
      "[1, 4, 27, 16, 125, 36, 343, 64, 729]\n"
     ]
    }
   ],
   "source": [
    "#to print square of even number and cube for odd number\n",
    "mylst = [ 1,2,3,4,5,6,7,8,9]\n",
    "sq_cube_lst = [i**2 if i%2==0 else i**3 for i in mylst]\n",
    "print(sq_cube_lst)"
   ]
  },
  {
   "attachments": {},
   "cell_type": "markdown",
   "id": "01f4026d",
   "metadata": {},
   "source": [
    "# Set Comprehension\n",
    "    -> Both the list and set are same the only change is that the brackets used\n",
    "    -> for set we tend to use the {} braces"
   ]
  },
  {
   "attachments": {},
   "cell_type": "markdown",
   "id": "465e166c",
   "metadata": {},
   "source": [
    "# Dictionary Comprehension\n",
    "    "
   ]
  },
  {
   "cell_type": "code",
   "execution_count": 61,
   "id": "274fd47c",
   "metadata": {},
   "outputs": [
    {
     "name": "stdout",
     "output_type": "stream",
     "text": [
      "{'Maths': 190, 'Computer Science': 200, 'Physics': 180, 'Chemistry': 185}\n"
     ]
    }
   ],
   "source": [
    "key = ('Maths', 'Computer Science', 'Physics', 'Chemistry')\n",
    "value = [190, 200, 180, 185]\n",
    "dict_count = dict(zip(key, value))\n",
    "print(dict_count)"
   ]
  },
  {
   "cell_type": "code",
   "execution_count": 64,
   "id": "1d2da94b",
   "metadata": {},
   "outputs": [
    {
     "name": "stdout",
     "output_type": "stream",
     "text": [
      "{'Maths': 190, 'Computer Science': 200, 'Physics': 180, 'Chemistry': 185}\n",
      "{'Maths': 95, 'Computer Science': 100, 'Physics': 90, 'Chemistry': 92}\n"
     ]
    }
   ],
   "source": [
    "key = ('Maths', 'Computer Science', 'Physics', 'Chemistry')\n",
    "value = [190, 200, 180, 185]\n",
    "dict_count = dict(zip(key, value))\n",
    "dict_comp = { i : v//2 for i, v in zip(key, value)}\n",
    "print(dict_count)\n",
    "print(dict_comp)"
   ]
  },
  {
   "attachments": {},
   "cell_type": "markdown",
   "id": "9806641a",
   "metadata": {},
   "source": [
    "# Lambda Function\n",
    "    -> LAMBDA is an important thing in python.\n",
    "    -> It is used to create anonymous function called a function without the name.\n",
    "    -> It takes only one statement and cannot be reused, whereas function takes many statements and can be reused.\n",
    "    -> It can be used as a substitute of single line statements."
   ]
  },
  {
   "cell_type": "code",
   "execution_count": 65,
   "id": "c3f440e8",
   "metadata": {},
   "outputs": [
    {
     "name": "stdout",
     "output_type": "stream",
     "text": [
      "100\n"
     ]
    }
   ],
   "source": [
    "def sq(num):\n",
    "    return num**2\n",
    "\n",
    "print(sq(10))"
   ]
  },
  {
   "cell_type": "code",
   "execution_count": 23,
   "id": "6bca354f",
   "metadata": {},
   "outputs": [
    {
     "name": "stdout",
     "output_type": "stream",
     "text": [
      "100\n"
     ]
    }
   ],
   "source": [
    "sq = lambda num: num**2\n",
    "print(sq(10))"
   ]
  },
  {
   "attachments": {},
   "cell_type": "markdown",
   "id": "8bc9ff0c",
   "metadata": {},
   "source": [
    "# Map Function\n",
    "    -> It is used to map an function to an iterable object."
   ]
  },
  {
   "attachments": {},
   "cell_type": "markdown",
   "id": "8bd35ddd",
   "metadata": {},
   "source": [
    "## Problem related to Numbers"
   ]
  },
  {
   "cell_type": "code",
   "execution_count": 4,
   "id": "a7a2926d",
   "metadata": {},
   "outputs": [
    {
     "name": "stdout",
     "output_type": "stream",
     "text": [
      "Positive\n"
     ]
    }
   ],
   "source": [
    "# Positive or Negative number\n",
    "\n",
    "num = int(input(\"Enter the Integer : \"))\n",
    "if num>0:\n",
    "    print(\"Positive\")\n",
    "else:\n",
    "    print(\"Negative\")"
   ]
  },
  {
   "cell_type": "code",
   "execution_count": 6,
   "id": "0ff07170",
   "metadata": {},
   "outputs": [
    {
     "name": "stdout",
     "output_type": "stream",
     "text": [
      "Even\n"
     ]
    }
   ],
   "source": [
    "# Even or Odd\n",
    "\n",
    "num = int(input(\"Enter the Integer : \"))\n",
    "if num%2 == 0:\n",
    "    print(\"Even\")\n",
    "else:\n",
    "    print(\"Odd\")"
   ]
  },
  {
   "cell_type": "code",
   "execution_count": 12,
   "id": "f935ee54",
   "metadata": {},
   "outputs": [
    {
     "name": "stdout",
     "output_type": "stream",
     "text": [
      "55\n"
     ]
    }
   ],
   "source": [
    "#Sum of First N numbers\n",
    "\n",
    "num = int(input(\"Enter the Integer: \"))\n",
    "sum = 0 \n",
    "for i in range(1,num+1):\n",
    "    sum += i\n",
    "\n",
    "print(sum)"
   ]
  },
  {
   "cell_type": "code",
   "execution_count": 13,
   "id": "2143e42f",
   "metadata": {},
   "outputs": [
    {
     "name": "stdout",
     "output_type": "stream",
     "text": [
      "144\n"
     ]
    }
   ],
   "source": [
    "#sum of number in a given range\n",
    "\n",
    "st = int(input(\"Enter the Start Integer: \"))\n",
    "end = int(input(\"Enter the End Integer: \"))\n",
    "sum = 0 \n",
    "for i in range(st,end+1):\n",
    "    sum += i\n",
    "\n",
    "print(sum)"
   ]
  },
  {
   "cell_type": "code",
   "execution_count": 18,
   "id": "15780b47",
   "metadata": {},
   "outputs": [
    {
     "name": "stdout",
     "output_type": "stream",
     "text": [
      "23 is Greater\n"
     ]
    }
   ],
   "source": [
    "#greatest of Two Numbers:\n",
    "\n",
    "num1 = int(input(\"Enter the numbers: \")) \n",
    "num2 = int(input(\"Enter the numbers: \")) \n",
    "if num1 > num2: \n",
    "    print(f\"{num1} is Greater\") \n",
    "else: \n",
    "    print(f\"{num2} is Greater\") \n",
    "    "
   ]
  },
  {
   "cell_type": "code",
   "execution_count": 2,
   "id": "48d19b6b",
   "metadata": {},
   "outputs": [
    {
     "name": "stdout",
     "output_type": "stream",
     "text": [
      "3 is Greater\n"
     ]
    }
   ],
   "source": [
    "#greatest of three numbers:\n",
    "\n",
    "num1 = int(input(\"Enter the numbers: \"))\n",
    "num2 = int(input(\"Enter the numbers: \"))\n",
    "num3 = int(input(\"Enter the number: \"))\n",
    "if num1 > num2 and num1>num3:\n",
    "    print(f\"{num1} is Greater\")\n",
    "elif num2 > num1 and num2 > num3:\n",
    "    print(f\"{num2} is Greater\")\n",
    "else:\n",
    "    print(f\"{num3} is greater\")"
   ]
  },
  {
   "cell_type": "code",
   "execution_count": 10,
   "id": "c23dc637",
   "metadata": {},
   "outputs": [
    {
     "name": "stdout",
     "output_type": "stream",
     "text": [
      "2000 is a Leap Year\n"
     ]
    }
   ],
   "source": [
    "#Leap year or not\n",
    "\n",
    "year = int(input(\"Enter the Year: \"))\n",
    "\n",
    "if (year%400 == 0) or (year%4==0 and year%100!=0):\n",
    "    print(f\"{year} is a Leap Year\")\n",
    "else:\n",
    "    print(f\"{year} is not a Leap Year\")"
   ]
  },
  {
   "cell_type": "code",
   "execution_count": 13,
   "id": "60363195",
   "metadata": {},
   "outputs": [
    {
     "name": "stdout",
     "output_type": "stream",
     "text": [
      "It is prime\n"
     ]
    }
   ],
   "source": [
    "#prime number\n",
    "\n",
    "num = int(input(\"Enter the number: \"))\n",
    "fact = 1\n",
    "for i in range(2, num):\n",
    "    if (num%i == 0):\n",
    "        fact += 1\n",
    "        \n",
    "if fact == 1: \n",
    "    print(\"It is prime\") \n",
    "else:\n",
    "    print(\"Not Prime\") "
   ]
  },
  {
   "cell_type": "code",
   "execution_count": 14,
   "id": "260c8856",
   "metadata": {},
   "outputs": [
    {
     "name": "stdout",
     "output_type": "stream",
     "text": [
      "[2, 3, 5, 7]\n"
     ]
    },
    {
     "data": {
      "text/plain": [
       "'srt = int(input())\\nend = int(input())\\nprimes = []\\nfor i in range(srt, end+1):\\n    fact = 1\\n    if i == 2:\\n        primes.append(i)\\n        continue\\n\\n    for j in range(2, i):\\n        if i%j == 0:\\n            break\\n        else:\\n            fact = 2\\n\\n    if fact == 2:\\n        primes.append(i)\\nprint(primes)'"
      ]
     },
     "execution_count": 14,
     "metadata": {},
     "output_type": "execute_result"
    }
   ],
   "source": [
    "#prime number within range\n",
    "\n",
    "num1 = int(input(\"Enter the Start number: \"))\n",
    "num2 = int(input(\"Enter the End number: \"))\n",
    "primes = [] \n",
    "\n",
    "for i in range(num1, num2+1): \n",
    "    fact = 0\n",
    "    for j in range(2, i): \n",
    "        if (i%j == 0): \n",
    "            fact = 1\n",
    "\n",
    "    if fact == 0:\n",
    "        primes.append(i)\n",
    "        \n",
    "print(primes)\n",
    "\n",
    "'''srt = int(input())\n",
    "end = int(input())\n",
    "primes = []\n",
    "for i in range(srt, end+1):\n",
    "    fact = 1\n",
    "    if i == 2:\n",
    "        primes.append(i)\n",
    "        continue\n",
    "\n",
    "    for j in range(2, i):\n",
    "        if i%j == 0:\n",
    "            break\n",
    "        else:\n",
    "            fact = 2\n",
    "\n",
    "    if fact == 2:\n",
    "        primes.append(i)\n",
    "print(primes)'''\n",
    "    "
   ]
  },
  {
   "cell_type": "code",
   "execution_count": 16,
   "id": "fd64b918",
   "metadata": {},
   "outputs": [],
   "source": [
    "for i in range(2,2):\n",
    "    print(i)\n",
    "    print(\"Output\")"
   ]
  },
  {
   "cell_type": "code",
   "execution_count": 14,
   "id": "fb5fe2e5",
   "metadata": {},
   "outputs": [
    {
     "name": "stdout",
     "output_type": "stream",
     "text": [
      "6\n"
     ]
    }
   ],
   "source": [
    "#Sum of digits of the Number\n",
    "\n",
    "num = int(input(\"Enter the Number: \")) #123\n",
    "sum = 0\n",
    "while num != 0:\n",
    "    digit = int(num%10)\n",
    "    sum += digit\n",
    "    num = num//10\n",
    "\n",
    "print(sum)"
   ]
  },
  {
   "cell_type": "code",
   "execution_count": 17,
   "id": "6f7d4ccc",
   "metadata": {},
   "outputs": [
    {
     "name": "stdout",
     "output_type": "stream",
     "text": [
      "1\n"
     ]
    }
   ],
   "source": [
    "print(1%10)"
   ]
  },
  {
   "cell_type": "code",
   "execution_count": 15,
   "id": "3ae1a5a6",
   "metadata": {},
   "outputs": [
    {
     "name": "stdout",
     "output_type": "stream",
     "text": [
      "654321\n"
     ]
    }
   ],
   "source": [
    "#Reverse of the Number\n",
    "\n",
    "num = int(input()) #123456\n",
    "reverse = 0\n",
    "while num!=0:\n",
    "    digit = num%10\n",
    "    reverse = (reverse*10) + digit\n",
    "    num = num //10\n",
    "\n",
    "print(reverse)"
   ]
  },
  {
   "cell_type": "code",
   "execution_count": 16,
   "id": "77853d18",
   "metadata": {},
   "outputs": [
    {
     "name": "stdout",
     "output_type": "stream",
     "text": [
      "It is palindrome\n"
     ]
    }
   ],
   "source": [
    "''' Palindrome or not\n",
    "The Numbers that when reversed is the same as the original number itself are known as Palindromic Numbers.'''\n",
    "\n",
    "num = int(input(\"Enter the number: \")) #12121\n",
    "temp = num\n",
    "sum = 0\n",
    "while num != 0:\n",
    "    sum = (sum*10) + (num%10)\n",
    "    num = num//10\n",
    "    \n",
    "if sum == temp:\n",
    "    print(\"It is palindrome\")\n",
    "else:\n",
    "    print(\"Not a Palindrome\")"
   ]
  },
  {
   "cell_type": "code",
   "execution_count": 17,
   "id": "0e6c50e0",
   "metadata": {},
   "outputs": [
    {
     "name": "stdout",
     "output_type": "stream",
     "text": [
      "It is Armstrong\n"
     ]
    }
   ],
   "source": [
    "'''Armstrong Number or Not\n",
    "The Numbers that can be represented as the sum of the digits raised to the power of the number of digits in the number are called Armstrong numbers.\n",
    "'''\n",
    "\n",
    "num = int(input()) # 371\n",
    "temp = len(str(num))\n",
    "stat = num\n",
    "sum = 0\n",
    "while num != 0:\n",
    "    reverse = num % 10\n",
    "    sum += reverse**temp\n",
    "    num = num//10\n",
    "\n",
    "if stat == sum:\n",
    "    print(\"It is Armstrong\")\n",
    "else:\n",
    "    print(\"It is not Armstrong\")"
   ]
  },
  {
   "cell_type": "code",
   "execution_count": 18,
   "id": "e64a4170",
   "metadata": {},
   "outputs": [
    {
     "name": "stdout",
     "output_type": "stream",
     "text": [
      "[153, 370, 371, 407]\n"
     ]
    }
   ],
   "source": [
    "#Armstrong number in the given range\n",
    "\n",
    "low = int(input(\"Enter the Lower value\"))\n",
    "high = int(input(\"Enter the Higher value\"))\n",
    "Armstrong = []\n",
    "for i in range(low, high+1): \n",
    "    temp = len(str(i))\n",
    "    stat = i\n",
    "    sum = 0\n",
    "    while i != 0:\n",
    "        rev = i%10 \n",
    "        sum += rev**temp\n",
    "        i = i//10\n",
    "\n",
    "    if stat == sum:\n",
    "        Armstrong.append(stat)\n",
    "\n",
    "print(Armstrong)"
   ]
  },
  {
   "cell_type": "code",
   "execution_count": 27,
   "id": "28b24aeb",
   "metadata": {},
   "outputs": [
    {
     "name": "stdout",
     "output_type": "stream",
     "text": [
      "0 1  1 2 3 5 8 13 21 34 55 89 144 233 377 610 987 1597 2584 4181 6765 10946 17711 28657 46368 75025 121393 196418 317811 514229 832040 1346269 2178309 3524578 5702887 9227465 14930352 24157817 39088169 63245986 102334155 165580141 267914296 433494437 701408733 1134903170 1836311903 2971215073 4807526976 7778742049 12586269025 20365011074 32951280099 53316291173 86267571272 "
     ]
    }
   ],
   "source": [
    "'''Fibonacci Series upto n'th term\n",
    "It’s a unique sequence where the next number is the sum of previous two numbers.\n",
    "Where the first two terms are always 0 and 1'''\n",
    "\n",
    "limit = int(input(\"Enter the limit :\")) # 55\n",
    "\n",
    "n1 = 0\n",
    "n2 = 1\n",
    "print(n1, n2, end = \"  \")\n",
    "for i in range(2, limit):\n",
    "    n3 = n1 + n2\n",
    "    n1 = n2\n",
    "    n2 = n3\n",
    "    print(n3, end = \" \")"
   ]
  },
  {
   "cell_type": "code",
   "execution_count": 25,
   "id": "7b316a27",
   "metadata": {},
   "outputs": [
    {
     "name": "stdout",
     "output_type": "stream",
     "text": [
      "0 1 2\n",
      "0 1 "
     ]
    }
   ],
   "source": [
    "n1 = 0 ; n2 = 1 ; n3 = 2\n",
    "print(n1,n2,n3)\n",
    "print( n1, end = ' ')\n",
    "print(n2, end = ' ')"
   ]
  },
  {
   "cell_type": "code",
   "execution_count": 46,
   "id": "a2592681",
   "metadata": {},
   "outputs": [
    {
     "name": "stdout",
     "output_type": "stream",
     "text": [
      "5\n",
      "4\n",
      "3\n",
      "2\n",
      "1\n",
      "120\n"
     ]
    }
   ],
   "source": [
    "#Factorial of a Number\n",
    "\n",
    "num = int(input(\"Enter the number to get the Factorial :\"))\n",
    "fact = 1\n",
    "for i in range(num, 0, -1):\n",
    "    print(i)\n",
    "    fact *= i\n",
    "\n",
    "# for j in range (5, 0 ,-1):\n",
    "#     print(j)\n",
    "\n",
    "print(fact) "
   ]
  },
  {
   "cell_type": "code",
   "execution_count": 27,
   "id": "491b674e",
   "metadata": {},
   "outputs": [
    {
     "name": "stdout",
     "output_type": "stream",
     "text": [
      "8\n",
      "8\n"
     ]
    }
   ],
   "source": [
    "# Program to find Power of a Number\n",
    "\n",
    "base = int(input(\"Enter the base Value:\"))\n",
    "power = int(input(\"Enter the Power value: \"))\n",
    "\n",
    "print(base ** power) \n",
    "print(pow(base,power))"
   ]
  },
  {
   "cell_type": "code",
   "execution_count": 29,
   "id": "f1b33fb2",
   "metadata": {},
   "outputs": [
    {
     "name": "stdout",
     "output_type": "stream",
     "text": [
      "1 is factor of 20\n",
      "2 is factor of 20\n",
      "4 is factor of 20\n",
      "5 is factor of 20\n",
      "10 is factor of 20\n"
     ]
    }
   ],
   "source": [
    "# Factor of a Number\n",
    "\n",
    "num = int(input(\"Enter the Number to get the Factor of it: \")) # 10\n",
    "\n",
    "for i in range(1, (num//2)+1): \n",
    "    iter = num%i\n",
    "    if iter == 0: \n",
    "        print(f\"{i} is factor of {num}\") \n"
   ]
  },
  {
   "cell_type": "code",
   "execution_count": 50,
   "id": "761568e0",
   "metadata": {},
   "outputs": [
    {
     "name": "stdout",
     "output_type": "stream",
     "text": [
      "It is Strong Number\n"
     ]
    }
   ],
   "source": [
    "''' Strong Number or Not\n",
    "A Number that is equal to the sum of the factorial of it's individual digits is known as Strong Number.'''\n",
    "\n",
    "num = int(input(\"Enter the Number: \")) # 145\n",
    "temp = num # 145=145\n",
    "sum = 0\n",
    "\n",
    "while num>0: # 145>0 ; 14>0 ; 1>0\n",
    "    rev = num%10 # 145%10 = 5 ; 14%10 = 4 ;\n",
    "    fact = 1\n",
    "    for i in range (rev, 1, -1): # 5, 4, 3, 2 ; 4, 3, 2\n",
    "        fact *= i #120 ; 24 ;\n",
    "    sum += fact # 0+=120 = 120 ; 120+=24 = 144 ;\n",
    "    num = num//10 # 145//10 = 14 ; 14//10 = 1\n",
    "if sum == temp:\n",
    "    print(\"It is Strong Number\")\n",
    "else:\n",
    "    print(\"Not a Strong Number\")"
   ]
  },
  {
   "cell_type": "code",
   "execution_count": 71,
   "id": "c8a065b2",
   "metadata": {},
   "outputs": [
    {
     "name": "stdout",
     "output_type": "stream",
     "text": [
      "28 is a Strong Number\n"
     ]
    }
   ],
   "source": [
    "''' Perfect Number or Not\n",
    "A Number that can be represented as the sum of all the factors of the number is known as a Perfect Number.'''\n",
    "\n",
    "num = int(input(\"Enter the Number : \")) # 6\n",
    "sum = 0\n",
    "for i  in range(1, num): # 1,2,3,4,5\n",
    "    if num%i == 0: # 6%1 == 0  ; 6%2 == 0 ; 6%3 == 0 ; 6%3 == 0 => Condition Fails ;\n",
    "        sum += i # 0 += 1 = 1; 1 += 2 = 3 ; 3 += 3 = 6 ;\n",
    "\n",
    "if num == sum:\n",
    "    print(sum , \"is a Strong Number\")"
   ]
  },
  {
   "cell_type": "code",
   "execution_count": 38,
   "id": "d28194b4",
   "metadata": {},
   "outputs": [
    {
     "name": "stdout",
     "output_type": "stream",
     "text": [
      "running first loop\n",
      "It is Automorphic Number\n"
     ]
    }
   ],
   "source": [
    "''' Automorphic Number or Not\n",
    "A number whose square ends with the same number is known as an Automorphic number.'''\n",
    "\n",
    "num = int(input(\"Enter the number : \")) # 6\n",
    "\n",
    "if num<10:\n",
    "    sq = num**2\n",
    "    rem = sq%10\n",
    "    print(\"running first loop\")\n",
    "    if num == rem:\n",
    "        print(\"It is Automorphic Number\")\n",
    "    else:\n",
    "        print(\"It is not Automorphic Number\")\n",
    "elif num<=100:\n",
    "    sq = num**2\n",
    "    rem = sq%100\n",
    "    print(\"running second loop\")\n",
    "    if num == rem:\n",
    "        print(\"It is Automorphic Number\")\n",
    "    else:\n",
    "        print(\"It is not Automorphic Number\")\n"
   ]
  },
  {
   "cell_type": "code",
   "execution_count": 40,
   "id": "66b4203a",
   "metadata": {},
   "outputs": [
    {
     "name": "stdout",
     "output_type": "stream",
     "text": [
      "running second loop\n",
      "It is Automorphic Number\n"
     ]
    }
   ],
   "source": [
    "# Automorphic Number or Not\n",
    "\n",
    "num = int(input(\"Enter the number : \")) # 76\n",
    "\n",
    "if num<10:\n",
    "    sq = num**2\n",
    "    rem = sq%10\n",
    "    print(\"running first loop\")\n",
    "    if num == rem:\n",
    "        print(\"It is Automorphic Number\")\n",
    "    else:\n",
    "        print(\"It is not Automorphic Number\")\n",
    "elif num<=100:\n",
    "    sq = num**2\n",
    "    rem = sq%100\n",
    "    print(\"running second loop\")\n",
    "    if num == rem:\n",
    "        print(\"It is Automorphic Number\")\n",
    "    else:\n",
    "        print(\"It is not Automorphic Number\")\n",
    "\n"
   ]
  },
  {
   "cell_type": "code",
   "execution_count": 41,
   "id": "84752e7a",
   "metadata": {},
   "outputs": [
    {
     "name": "stdout",
     "output_type": "stream",
     "text": [
      "True\n"
     ]
    }
   ],
   "source": [
    "# Automorphic number or not\n",
    "num = int(input(\"Enter the number : \")) # 6\n",
    "\n",
    "sq = num**2\n",
    "if num == (sq%10**(len(str(num)))):\n",
    "    print(\"True\")\n",
    "else:\n",
    "    print(\"False\")"
   ]
  },
  {
   "cell_type": "code",
   "execution_count": 3,
   "id": "ca59213a",
   "metadata": {},
   "outputs": [
    {
     "name": "stdout",
     "output_type": "stream",
     "text": [
      "408 is a Harshad Number\n"
     ]
    }
   ],
   "source": [
    "''' Harshad Number\n",
    "A Number that is divisible by the sum of it's digits is known as a Harshad number.'''\n",
    "\n",
    "num = int(input(\"Enter the input : \"))\n",
    "temp = num\n",
    "sum = 0\n",
    "while num>0:\n",
    "    rem = num%10\n",
    "    sum += rem\n",
    "    num = num//10\n",
    "\n",
    "if temp%sum == 0:\n",
    "    print(f\"{temp} is a Harshad Number\")\n",
    "else:\n",
    "    print(\"Not a Harshad Number\")"
   ]
  },
  {
   "cell_type": "code",
   "execution_count": 45,
   "id": "8b7cff28",
   "metadata": {},
   "outputs": [
    {
     "name": "stdout",
     "output_type": "stream",
     "text": [
      "12 is a Abundant Number\n"
     ]
    }
   ],
   "source": [
    "''' Abundant Number\n",
    "A Number that is smaller than the sum of all \n",
    "it's factors except the number itself is known \n",
    "as an Abundant number.'''\n",
    "\n",
    "num = int(input(\"Enter the Number:\"))\n",
    "temp = num\n",
    "sum = 0\n",
    "for i in range (2, num):\n",
    "    if (temp%i == 0):\n",
    "        sum += i\n",
    "\n",
    "if temp < sum:\n",
    "    print(f\"{temp} is a Abundant Number\")\n",
    "else:\n",
    "    print(f\"{temp} is not a Abundant Number\")"
   ]
  },
  {
   "cell_type": "code",
   "execution_count": 11,
   "id": "1eb49480",
   "metadata": {},
   "outputs": [
    {
     "name": "stdout",
     "output_type": "stream",
     "text": [
      "15 is the HCF of 15 and 30\n"
     ]
    }
   ],
   "source": [
    "'''HCF or not\n",
    "A number that can completely divide the given numbers by leaving remainder 0'''\n",
    "\n",
    "num1 = int(input(\"Enter the num1 : \")) #15\n",
    "num2 = int(input(\"Enter the num2 : \")) #30\n",
    "\n",
    "for i in range(min(num1, num2),1,-1):\n",
    "    if num1%i == 0 and num2%i == 0:\n",
    "        hcf = i\n",
    "        break\n",
    "        \n",
    "print(f\"{hcf} is the HCF of {num1} and {num2}\")\n",
    "        "
   ]
  },
  {
   "cell_type": "code",
   "execution_count": 56,
   "id": "305c13b4",
   "metadata": {},
   "outputs": [
    {
     "name": "stdout",
     "output_type": "stream",
     "text": [
      "108 is the LCM of 10 and 12\n"
     ]
    }
   ],
   "source": [
    "'''LCM or not\n",
    "\n",
    "For a input num1 and num2. This method uses two following observations \n",
    "\n",
    "LCM of two numbers will at least be equal or greater than max(num1, num2)\n",
    "Largest possibility of LCM will be num1 * num2'''\n",
    "\n",
    "num1 = int(input(\"Enter the num1 : \")) #10\n",
    "num2 = int(input(\"Enter the num2 : \")) #12\n",
    "\n",
    "for i in range(max(num1,num2),(num1*num2)+1, max(num1,num2)):\n",
    "    if min(num1, num2)%i == 0:\n",
    "        lcm = i\n",
    "\n",
    "print(f\"{lcm} is the LCM of {num1} and {num2}\")"
   ]
  },
  {
   "cell_type": "code",
   "execution_count": 51,
   "id": "aea8ae74",
   "metadata": {},
   "outputs": [
    {
     "name": "stdout",
     "output_type": "stream",
     "text": [
      "The L.C.M. of 12 and 12 is 12\n"
     ]
    }
   ],
   "source": [
    "# defining a function to calculate LCM  \n",
    "def calculate_lcm(x, y):  \n",
    "    # selecting the greater number  \n",
    "    if x > y:  \n",
    "        greater = x  \n",
    "    else:  \n",
    "        greater = y  \n",
    "    while(True):  \n",
    "        if((greater % x == 0) and (greater % y == 0)):  \n",
    "            lcm = greater  \n",
    "            break  \n",
    "        greater += 1  \n",
    "    return lcm    \n",
    "  \n",
    "# taking input from users  \n",
    "num1 = int(input(\"Enter first number: \"))  \n",
    "num2 = int(input(\"Enter second number: \"))  \n",
    "# printing the result for the users  \n",
    "print(\"The L.C.M. of\", num1,\"and\", num2,\"is\", calculate_lcm(num1, num2))  "
   ]
  },
  {
   "cell_type": "code",
   "execution_count": 53,
   "id": "af6c75a5",
   "metadata": {},
   "outputs": [
    {
     "name": "stdout",
     "output_type": "stream",
     "text": [
      "LCM of 12 and 12 is 12\n"
     ]
    }
   ],
   "source": [
    "\n",
    "# Python program to find LCM of two numbers\n",
    " \n",
    "# Function to return LCM of two numbers\n",
    "def LCM(a, b):\n",
    "    greater = max(a, b)\n",
    "    smallest = min(a, b)\n",
    "    for i in range(greater, a*b+1, greater):\n",
    "        if i % smallest == 0:\n",
    "            return i\n",
    " \n",
    "# Driver program to test above function\n",
    "if __name__ == '__main__':\n",
    "    a = 12\n",
    "    b = 10\n",
    "    print(\"LCM of\", a, \"and\", b, \"is\", LCM(a, b))"
   ]
  },
  {
   "attachments": {},
   "cell_type": "markdown",
   "id": "f1bdcdf0",
   "metadata": {},
   "source": [
    "## Types of Numbers\n",
    "\n",
    "Binary Number --------> base 2\n"
   ]
  },
  {
   "attachments": {},
   "cell_type": "markdown",
   "id": "fe099b7e",
   "metadata": {},
   "source": [
    "Decimal Number ---------> base 10\n"
   ]
  },
  {
   "attachments": {},
   "cell_type": "markdown",
   "id": "d8ba61d9",
   "metadata": {},
   "source": [
    "Octal Number ---------> base 8\n"
   ]
  },
  {
   "attachments": {},
   "cell_type": "markdown",
   "id": "67d369e9",
   "metadata": {},
   "source": [
    "Hexadecimal Number -----------> base 16"
   ]
  },
  {
   "cell_type": "code",
   "execution_count": 18,
   "id": "160d1e94",
   "metadata": {},
   "outputs": [
    {
     "name": "stdout",
     "output_type": "stream",
     "text": [
      "10\n"
     ]
    }
   ],
   "source": [
    "'''Binary to Decimal'''\n",
    "\n",
    "num = int(input()) #1010\n",
    "decimal = 0\n",
    "base = 0\n",
    "while num>0:\n",
    "    rem = num%10\n",
    "    decimal += rem * (2**base)\n",
    "    num = num//10\n",
    "    base += 1\n",
    "print(decimal)"
   ]
  },
  {
   "cell_type": "code",
   "execution_count": 41,
   "id": "86fea6da",
   "metadata": {},
   "outputs": [
    {
     "name": "stdout",
     "output_type": "stream",
     "text": [
      "64\n"
     ]
    }
   ],
   "source": [
    "'''Octal to Decimal'''\n",
    "\n",
    "num = 100\n",
    "octal = 0\n",
    "base = 0\n",
    "while (num > 0):\n",
    "    rem = num%10\n",
    "    octal += rem*(8**base)\n",
    "    num = num//10\n",
    "    base += 1\n",
    "print(octal)\n"
   ]
  },
  {
   "cell_type": "code",
   "execution_count": 10,
   "id": "3f4a967a",
   "metadata": {},
   "outputs": [
    {
     "name": "stdout",
     "output_type": "stream",
     "text": [
      "700707\n"
     ]
    }
   ],
   "source": [
    "'''Hexadecimal to Decimal'''\n",
    "\n",
    "num = input()\n",
    "base = 0\n",
    "hex = 0\n",
    "length = len(num)\n",
    "for i in range(length-1,-1,-1):\n",
    "    if '0' <= num[i] <= '9':\n",
    "        digit = num[i]\n",
    "        hex += int(digit) * (16**base)\n",
    "        base += 1\n",
    "    elif 'A' <= num[i] <= 'F':\n",
    "        digit = num[i]\n",
    "        hex += (ord(digit)-55) * (16**base)\n",
    "        base += 1\n",
    "print(hex)"
   ]
  },
  {
   "cell_type": "code",
   "execution_count": 1,
   "id": "1c66c385",
   "metadata": {},
   "outputs": [
    {
     "name": "stdout",
     "output_type": "stream",
     "text": [
      "5\n",
      "4\n",
      "3\n",
      "2\n",
      "1\n",
      "0\n"
     ]
    }
   ],
   "source": [
    "for i in range(5, -1, -1):\n",
    "    print(i)"
   ]
  },
  {
   "cell_type": "code",
   "execution_count": 4,
   "id": "bb80d78f",
   "metadata": {},
   "outputs": [
    {
     "name": "stdout",
     "output_type": "stream",
     "text": [
      "1010\n"
     ]
    }
   ],
   "source": [
    "'''Decimal to Binary'''\n",
    "\n",
    "num = 10\n",
    "binary = 0\n",
    "i = 1\n",
    "while num > 0:\n",
    "    rem = num%2\n",
    "    num  = num//2\n",
    "    binary += (rem*i)\n",
    "    i *= 10\n",
    "\n",
    "print(binary)"
   ]
  },
  {
   "cell_type": "code",
   "execution_count": 5,
   "id": "ca5cd0c5",
   "metadata": {},
   "outputs": [
    {
     "name": "stdout",
     "output_type": "stream",
     "text": [
      "12\n"
     ]
    }
   ],
   "source": [
    "'''Decimal to Octal'''\n",
    "\n",
    "num = 10\n",
    "octal = 0\n",
    "i = 1\n",
    "while num > 0:\n",
    "    rem = num%8\n",
    "    num = num//8\n",
    "    octal += (rem*i)\n",
    "    i *= 10\n",
    "\n",
    "print(octal)"
   ]
  },
  {
   "cell_type": "code",
   "execution_count": 16,
   "id": "d2973ed0",
   "metadata": {},
   "outputs": [
    {
     "name": "stdout",
     "output_type": "stream",
     "text": [
      "['B', '7']\n",
      "['7', 'B']\n",
      "7B\n"
     ]
    }
   ],
   "source": [
    "'''Decimal to Hexadecimal'''\n",
    "\n",
    "num = 123\n",
    "hexa = []\n",
    "\n",
    "while num != 0:\n",
    "    rem = num%16\n",
    "    if rem <= 9:\n",
    "        hexa.append(chr(rem + 48))\n",
    "    else:\n",
    "        hexa.append(chr(rem+55))\n",
    "    num = num //16\n",
    "print(hexa)\n",
    "hexa.reverse()\n",
    "print(hexa)\n",
    "hexa1 = \"\".join(hexa)\n",
    "print(hexa1)"
   ]
  },
  {
   "cell_type": "code",
   "execution_count": 24,
   "id": "0a0fa8fc",
   "metadata": {},
   "outputs": [
    {
     "name": "stdout",
     "output_type": "stream",
     "text": [
      "10\n",
      "12\n"
     ]
    }
   ],
   "source": [
    "'''Binary to Octal'''\n",
    "\n",
    "num = 1010\n",
    "power = 0\n",
    "decimal = 0\n",
    "octal = 0\n",
    "i = 1\n",
    "while num > 0:\n",
    "    rem = num%10\n",
    "    decimal += rem * (2**power)\n",
    "    power += 1\n",
    "    num //= 10\n",
    "print(decimal)\n",
    "\n",
    "while decimal > 0:\n",
    "    rem = decimal % 8\n",
    "    octal += (rem*i)\n",
    "    i *= 10\n",
    "    decimal //= 10\n",
    "print(octal)\n"
   ]
  },
  {
   "cell_type": "code",
   "execution_count": 51,
   "id": "aff85665",
   "metadata": {},
   "outputs": [
    {
     "name": "stdout",
     "output_type": "stream",
     "text": [
      "0\n",
      "i :  10\n",
      "0\n",
      "i :  100\n",
      "0\n",
      "i :  1000\n",
      "0\n",
      "i :  10000\n",
      "0\n",
      "i :  100000\n",
      "0\n",
      "i :  1000000\n",
      "1\n",
      "i :  10000000\n",
      "1000000\n"
     ]
    }
   ],
   "source": [
    "'''Octal to Binary'''\n",
    "\n",
    "def convert(num):\n",
    "    decimal = 0\n",
    "    power = 0\n",
    "    while num > 0:\n",
    "        rem = num %10\n",
    "        decimal += rem*(8**power)\n",
    "        power += 1\n",
    "        num //= 10\n",
    "    con(decimal)\n",
    "\n",
    "def con(n):\n",
    "    binary = 0\n",
    "    i = 1\n",
    "    while n > 0:\n",
    "        rem = n%2\n",
    "        print(rem)\n",
    "        binary += rem*i\n",
    "        n //= 2\n",
    "        i *= 10\n",
    "        print(\"i : \", i)\n",
    "    print(binary)\n",
    "\n",
    "\n",
    "\n",
    "\n",
    "convert(100)\n",
    "\n"
   ]
  },
  {
   "cell_type": "code",
   "execution_count": 71,
   "id": "b11d6058",
   "metadata": {},
   "outputs": [
    {
     "name": "stdout",
     "output_type": "stream",
     "text": [
      "It is in Y-axis\n"
     ]
    }
   ],
   "source": [
    "'''Quadrants in which the given co-ordinate lie\n",
    "\n",
    "According mathematics quadrants rules:\n",
    "\n",
    "X  is positive integer as well as Y is also positive a integer it signifies first quadrant.\n",
    "X  is negative integer but Y is positive integer it signifies second quadrant.\n",
    "X  is negative integer as well as Y is also negative integer it signifies third quadrant.\n",
    "X  is positive integer but Y is negative integer it signifies fourth quadrant.\n",
    "\n",
    "'''\n",
    "x = int(input( ))\n",
    "y = int(input( ))\n",
    "\n",
    "if x>0 and y>0:\n",
    "    print(\"It is first quadrant\")\n",
    "elif x<0 and y>0:\n",
    "    print(\"It is in Second Quadrant\")\n",
    "elif x<0 and y<0:\n",
    "    print(\"It is in third quadrant\")\n",
    "elif x>0 and y<0:\n",
    "    print(\"It is in fourth quadrant\")\n",
    "elif x==0 and y==0:\n",
    "    print(\"It is in the origin\")\n",
    "elif x!=0 and y==0:\n",
    "    print(\"It is in X-axis\")\n",
    "elif x==0 and y!=0:\n",
    "    print(\"It is in Y-axis\")"
   ]
  },
  {
   "cell_type": "code",
   "execution_count": 4,
   "id": "790a6299",
   "metadata": {},
   "outputs": [
    {
     "name": "stdout",
     "output_type": "stream",
     "text": [
      "3628800\n",
      "24\n",
      "151200\n"
     ]
    }
   ],
   "source": [
    "'''Permutations In Which N People Can Occupy R Seats In A Classroom\n",
    "\n",
    "Algorithm\n",
    "Input number of students in n\n",
    "Input number of seats in r\n",
    "Use permutation formula { factorial(n) / factorial(n-r) }\n",
    "Print Output\n",
    "'''\n",
    "N_of_Students = int(input()) # 10\n",
    "T_no_of_chairs = int(input()) # 6\n",
    "\n",
    "def factorial (num):\n",
    "    fact = 1\n",
    "    for i in range(num,0,-1):\n",
    "        fact *= i\n",
    "    return fact\n",
    "\n",
    "print(factorial(N_of_Students))\n",
    "print(factorial(N_of_Students-T_no_of_chairs))\n",
    "p = factorial(N_of_Students)//factorial(N_of_Students-T_no_of_chairs)\n",
    "print(p)"
   ]
  },
  {
   "cell_type": "code",
   "execution_count": 5,
   "id": "878a7e69",
   "metadata": {},
   "outputs": [
    {
     "name": "stdout",
     "output_type": "stream",
     "text": [
      "45\n"
     ]
    }
   ],
   "source": [
    "'''Finding maximum number of Handshakes\n",
    "\n",
    "Approach :\n",
    "==========\n",
    "For the number of handshakes to be maximum, every person should hand-shake with every other person in the room\n",
    "\n",
    "i.e. all persons present should shake hands.\n",
    "\n",
    "For the first person, there will be N-1 people to shake hands with\n",
    "For second person, there will be N -1 people available but as he has already shaken hands with the first person, there will be N-1-1 = N-2 shake-hands\n",
    "For third person, there will be N-1-1-1 = N-3, and So On…\n",
    "Therefore the total number of handshake   =   ( N – 1 + N – 2 +….+ 1 + 0 )   =   ( (N-1) * N ) / 2.\n",
    "\n",
    "Algorithm :\n",
    "===========\n",
    "For N = 8\n",
    "handshakes  =  ( (N-1) * N ) / 2  =  ( 8 x 7 )/2  =  28\n",
    "Print Result\n",
    "'''\n",
    "\n",
    "People_count = int(input())\n",
    "\n",
    "Handshakes = (People_count * (People_count - 1))//2\n",
    "\n",
    "print(Handshakes)\n",
    "\n"
   ]
  },
  {
   "cell_type": "code",
   "execution_count": 24,
   "id": "3cf55b55",
   "metadata": {},
   "outputs": [
    {
     "name": "stdout",
     "output_type": "stream",
     "text": [
      "2420\n",
      "400\n"
     ]
    }
   ],
   "source": [
    "'''Addition of two fractions\n",
    "\n",
    "Concept :\n",
    "=========\n",
    " For understanding this in a better way lets suppose an example :\n",
    "\n",
    " Suppose, First fraction consist of 1 as numerator and 3 as denominator, and Second fraction consist of 3 as numerator and 9 as denominator.\n",
    "\n",
    " (1 / 3) + (3 / 9) = (6 / 9) = (2 / 3)\n",
    "\n",
    "Find LCM of 3 and 9 and the result will be 9.\n",
    "Multiply 3 in first fraction : (3 / 9) + (3 / 9)\n",
    "Add both fractions and then the result will be : (6 / 9)\n",
    "Now simplify it by finding the HCF of 6 and 9 and the result will be 3.\n",
    "So divide 6 and 9 by 3 and then the result will be : (2 / 3)\n",
    "This will be your simplified answer for the given problem.\n",
    "\n",
    "Algorithm :\n",
    "===========\n",
    "Initialize variables of numerator and denominator\n",
    "Take user input of two fraction\n",
    "Find numerator using this condition (n1*d2) +(d1*n2 ) where n1,n2 are numerator and d1 and d2 are denominator\n",
    "Find denominator using this condition (d1*d2) for lcm\n",
    "Calculate GCD of a this new numerator and denominator\n",
    "Display a two value of this condition x / gcd, y/gcd\n",
    "'''\n",
    "num1, den1 = map(int, (list(input().split(' '))))\n",
    "num2, den2 = map(int, (list(input().split(\" \"))))\n",
    "\n",
    "Numerator = (num1*den2)+(num2*den1)\n",
    "Denominator = (den1 * den2)\n",
    "print(Numerator)\n",
    "print(Denominator)\n",
    "\n",
    "def gcd(n):\n",
    "    for i in range (1, n+1):\n",
    "        if n%i == 0:\n",
    "            GCD = i\n",
    "            break\n",
    "        print(GCD)"
   ]
  },
  {
   "cell_type": "code",
   "execution_count": 35,
   "id": "559694a2",
   "metadata": {},
   "outputs": [
    {
     "name": "stdout",
     "output_type": "stream",
     "text": [
      "12311111\n"
     ]
    }
   ],
   "source": [
    "'''Replace all the 0's in a given integer with 1'''\n",
    "\n",
    "num = int(input())\n",
    "fact = 0\n",
    "# if the given input consist only a single 0 then below condtion gets executed\n",
    "if num == 0:\n",
    "    fact = 1\n",
    "# used to convert the 0's to 1's by step by step iteration\n",
    "while num> 0:\n",
    "    rem = num%10\n",
    "    if rem == 0:\n",
    "        rem = 1\n",
    "    num //= 10\n",
    "    fact = fact*10 + rem\n",
    "# used to reverse the given number\n",
    "fact2 = 0\n",
    "while fact > 0:\n",
    "    r = fact%10\n",
    "    fact2 = fact2*10 + r\n",
    "    fact //=10\n",
    "print(fact2)"
   ]
  },
  {
   "cell_type": "code",
   "execution_count": 42,
   "id": "542a2d7a",
   "metadata": {},
   "outputs": [
    {
     "name": "stdout",
     "output_type": "stream",
     "text": [
      "3 + 7 gives 10\n"
     ]
    }
   ],
   "source": [
    "'''Can a number be expressed as a sum of two prime numbers\n",
    "\n",
    "Theory :\n",
    "========\n",
    "There are many theories which express numbers as a sum of two primes like Goldbach’s Conjecture which states that any even number greater than 2 can be expressed as a sum of two primes.\n",
    "Prime number is a number which only have two divisors i.e. a number which can not be divided by any other number other than 1 or itself is a prime number.\n",
    "Here we will check for all the numbers if they can be expressed as sum of two primes or not.\n",
    "\n",
    "Algorithm :\n",
    "===========\n",
    "Take number as input in n\n",
    "Initialize a variable flag as 0\n",
    "Iterate using for loop from value of i between (2, n/2)\n",
    "For each iteration Call a function sum_of_two_primes for value of i is it returns 1\n",
    "Call same function for value n-i and if it is also 1 then print i and n-i as answer increment the flag to 1\n",
    "If flag is 0 print not possible\n",
    "Create function sum_of_two_prime where check if passed number is prime return true else false\n",
    "'''\n",
    "num = 10\n",
    "\n",
    "arr = []\n",
    "for i in range(2, num):\n",
    "    n = 0\n",
    "    if i == 2:\n",
    "        arr.append(i)\n",
    "        continue\n",
    "    if i<2:\n",
    "        continue\n",
    "    for j in range(2, i):\n",
    "        if i%j == 0:\n",
    "            n = 1  \n",
    "            break\n",
    "    if n == 0:\n",
    "        arr.append(i)\n",
    "\n",
    "for x in range(len(arr)):\n",
    "    for y in range (x+1, len(arr)):\n",
    "        if arr[x] + arr[y] == num:\n",
    "            fact = 1\n",
    "            print(f\"{arr[x]} + {arr[y]} gives {num}\")\n"
   ]
  },
  {
   "cell_type": "code",
   "execution_count": 19,
   "id": "fd98ac25",
   "metadata": {},
   "outputs": [
    {
     "name": "stdout",
     "output_type": "stream",
     "text": [
      "6\n",
      "[0, 0, 0, 0, 0, 0, 0]\n",
      "[1, 1, 0, 0, 0, 0, 0]\n",
      "[1, 1, 1, 0, 0, 0, 0]\n",
      "-----------------------\n",
      "[1, 1, 1, 1, 0, 0, 0]\n",
      "-----------------------\n",
      "[1, 1, 1, 1, 1, 0, 0]\n",
      "-----------------------\n",
      "[1, 1, 1, 1, 1, 2, 0]\n",
      "-----------------------\n",
      "[1, 1, 1, 1, 1, 2, 0]\n",
      "-----------------------\n",
      "[1, 1, 1, 1, 1, 2, 3]\n",
      "-----------------------\n",
      "[1, 1, 1, 1, 1, 2, 3]\n",
      "-----------------------\n",
      "[1, 1, 1, 1, 1, 2, 3]\n",
      "------------------------\n",
      "3\n"
     ]
    }
   ],
   "source": [
    "'''To count the possible decoding of a given digit sequence\n",
    "\n",
    "Explation:\n",
    "==========\n",
    "1 = A, 2 = B, 3 = C, . . . . , 26 = Z.\n",
    "The decoding programs are the most possible questions asked and are largely practiced in C  programming. The program counts the number of possible decoding’s of the entered digit by the user of the given sequence.\n",
    "For example :- if the digit sequence is “12” then there are two possible decoding’s for this – One of them is ‘AB’ when we decode 1 as ‘A’ and 2 as ‘B’. Now we can also decode this digit sequence “12” as ‘L’ when we decode digits 1 and 2 taken together as an integer 12.\n",
    "\n",
    "Now let’s take another example for reference,\n",
    "\n",
    "Sequence = 131\n",
    "\n",
    "Possible decoding (1, 3, 1,)    = ACA\n",
    "Possible decoding (13, 1)   = MA\n",
    "So, the total possible decoding’s of sequence 131 is 2.\n",
    "\n",
    "Algorithm:\n",
    "==========\n",
    "Initialize a array cnt of size 1 + length of input and store 1 at 0 & 1 position\n",
    "Iterate from 2 to a using variable k\n",
    "If the last digit not equal to 0, then last digit must added to the number of words if (dig[k-1] > ‘0’)\n",
    "In case second last digit is smaller than 2 and last digit is smaller than 7, then last two digits form a valid character\n",
    "Print cnt[a]\n",
    "              # 1 2 3 4 5 6 -------> Length\n",
    "'''           # 0 1 2 3 4 5 -------> Indexes\n",
    "seq = input() # 4 5 6 1 2 3 -------> Values\n",
    "length = len(seq) \n",
    "print(length)\n",
    "dp = [0]* (length+1)\n",
    "print(dp)\n",
    "dp[0] = 1\n",
    "dp[1] = 1\n",
    "print(dp)\n",
    "for i in range(2, length+1):\n",
    "    # dp[i] = 0\n",
    "    dp[i] = dp[i-1]\n",
    "    if seq[i-2] == '1' or (seq[i-2] == '2' and seq[i-1] < '7'):\n",
    "        dp[i] += dp[i - 2]\n",
    "        print(dp)\n",
    "        print(\"-----------------------\")\n",
    "    print(dp)\n",
    "    print(\"-----------------------\")\n",
    "print(dp)\n",
    "print(\"------------------------\")\n",
    "print(dp[length])\n"
   ]
  },
  {
   "cell_type": "code",
   "execution_count": 22,
   "id": "2c272404",
   "metadata": {},
   "outputs": [
    {
     "name": "stdout",
     "output_type": "stream",
     "text": [
      "Area of the Circle :  28.274333882308138\n"
     ]
    }
   ],
   "source": [
    "'''Calculate the area of the Circle when radius is given\n",
    "\n",
    "Area of circle using radius=   Pi*r*r    ( r is the radius of circle)\n",
    "Area of circle using diameter=  1/4*Pi*d*d   ( d is the diameter of circle)\n",
    "\n",
    "Algorithm :\n",
    "===========\n",
    "import pi from math\n",
    "Set r = 3\n",
    "Set are = pi*r*r\n",
    "Print(area)\n",
    "'''\n",
    "\n",
    "from math import pi\n",
    "\n",
    "radius = int(input()) # 3\n",
    "area = pi * (radius**2)\n",
    "print(\"Area of the Circle : \", area)"
   ]
  },
  {
   "cell_type": "code",
   "execution_count": 26,
   "id": "b9f4f744",
   "metadata": {},
   "outputs": [
    {
     "name": "stdout",
     "output_type": "stream",
     "text": [
      "Area of the Circle :  28.274333882308138\n"
     ]
    }
   ],
   "source": [
    "'''Calculate the area of the circle when diameter is given'''\n",
    "\n",
    "from math import pi\n",
    "\n",
    "dia = int(input())\n",
    "area = (pi * (dia**2))/4\n",
    "print(\"Area of the Circle : \" ,area)"
   ]
  },
  {
   "cell_type": "code",
   "execution_count": 7,
   "id": "be513f0b",
   "metadata": {},
   "outputs": [
    {
     "name": "stdout",
     "output_type": "stream",
     "text": [
      "[2, 3, 5, 7, 11, 13, 17, 19, 23, 29, 31, 37, 41, 43, 47, 53, 59, 61, 67, 71, 73, 79, 83, 89, 97]\n"
     ]
    }
   ],
   "source": [
    "'''Find the prime numbers between 1 to 100'''\n",
    "\n",
    "start = 1\n",
    "end = 100\n",
    "primes = []\n",
    "\n",
    "for i in range(start, end+1):\n",
    "    fact = 0\n",
    "    if i == 2:\n",
    "        primes.append(i)\n",
    "        continue\n",
    "    if i == 1:\n",
    "        continue\n",
    "    for j in range(2, i):\n",
    "        if i%j == 0:\n",
    "            fact = 1\n",
    "    if fact == 0:\n",
    "        primes.append(i)\n",
    "\n",
    "print(primes)\n",
    "\n"
   ]
  },
  {
   "cell_type": "code",
   "execution_count": 17,
   "id": "ec7e9522",
   "metadata": {},
   "outputs": [
    {
     "name": "stdout",
     "output_type": "stream",
     "text": [
      "The number of digits in the integer is :  6\n"
     ]
    }
   ],
   "source": [
    "'''Count the number of digits in the Integer'''\n",
    "\n",
    "def count(n):\n",
    "    digits = 0\n",
    "    while n!=0:\n",
    "        n//=10\n",
    "        digits +=1\n",
    "    return digits \n",
    "\n",
    "\n",
    "num = 987654\n",
    "print(\"The number of digits in the integer is : \",count(num))"
   ]
  },
  {
   "cell_type": "code",
   "execution_count": 18,
   "id": "5d61199a",
   "metadata": {},
   "outputs": [
    {
     "name": "stdout",
     "output_type": "stream",
     "text": [
      "The number of digits in the integer is :  6\n"
     ]
    }
   ],
   "source": [
    "'''Count the number of digits in the Integer'''\n",
    "\n",
    "def count(n):\n",
    "    str_num = str(num)\n",
    "    len_num = len(str_num)\n",
    "    return len_num\n",
    "num = 987654\n",
    "print(\"The number of digits in the integer is : \",count(num))"
   ]
  },
  {
   "attachments": {},
   "cell_type": "markdown",
   "id": "d301a5d9",
   "metadata": {},
   "source": [
    "# Hint....\n",
    "\n",
    "1. ACSII values of A-Z , a-z , 0-9\n",
    "2. ASCII values can be fetched by using ord keyword\n",
    "\n",
    "   | A ---> 65 | a ---> 97 | 0 ---> 48 |\n",
    "   |    -      |    -      |    -      |\n",
    "   | Z ---> 90 | z ---> 122| 9 ---> 57 |"
   ]
  },
  {
   "cell_type": "code",
   "execution_count": 40,
   "id": "30016030",
   "metadata": {},
   "outputs": [
    {
     "name": "stdout",
     "output_type": "stream",
     "text": [
      "one thousand, two hundred and thirty-four\n"
     ]
    }
   ],
   "source": [
    "'''Converting the number to words'''\n",
    "\n",
    "from num2words import num2words\n",
    "\n",
    "print(num2words(1234))\n"
   ]
  },
  {
   "cell_type": "code",
   "execution_count": 9,
   "id": "ac94c2c1",
   "metadata": {},
   "outputs": [
    {
     "name": "stdout",
     "output_type": "stream",
     "text": [
      "Number of days in the given month :  31\n"
     ]
    }
   ],
   "source": [
    "'''print the number of days in the month of the given year'''\n",
    "\n",
    "month = int(input())\n",
    "year = int(input())\n",
    "days = [31, 28, 31, 30, 31, 30, 31, 31, 30, 31, 30, 31]\n",
    "\n",
    "if month==2 and ((year%400 == 0) or ((year%100 != 0) and (year%4 == 0))):\n",
    "    print(\"Number of days in the given month : \", days[month-1]+1)\n",
    "else:\n",
    "    print(\"Number of days in the given month : \", days[month-1])"
   ]
  },
  {
   "cell_type": "code",
   "execution_count": 12,
   "id": "2c520543",
   "metadata": {},
   "outputs": [
    {
     "name": "stdout",
     "output_type": "stream",
     "text": [
      "4\n"
     ]
    }
   ],
   "source": [
    "'''To count the number of occurance of digit can occur in the Number '''\n",
    "\n",
    "num = int (input()) # 12345665432134511\n",
    "find = int(input()) # 1\n",
    "fact =0\n",
    "while num != 0:\n",
    "    rem = num%10\n",
    "    if find == rem:\n",
    "        fact += 1\n",
    "    num //=10\n",
    "\n",
    "print(fact)\n"
   ]
  },
  {
   "cell_type": "code",
   "execution_count": 20,
   "id": "41648925",
   "metadata": {},
   "outputs": [
    {
     "name": "stdout",
     "output_type": "stream",
     "text": [
      "[6, 8, 10]\n"
     ]
    }
   ],
   "source": [
    "'''Program to count the given range of numbers has exactly x number of divisors'''\n",
    "\n",
    "num_count = int(input()) # 10\n",
    "exact_div = int(input()) # 4\n",
    "arr = []\n",
    "\n",
    "for i in range(1, num_count+1):\n",
    "    fact = 0\n",
    "    for j in range(1, i+1):\n",
    "        if i%j == 0:\n",
    "            fact += 1\n",
    "    if exact_div == fact:\n",
    "        arr.append(i)\n",
    "\n",
    "print(arr)"
   ]
  },
  {
   "cell_type": "code",
   "execution_count": 40,
   "id": "f30f91a0",
   "metadata": {},
   "outputs": [
    {
     "name": "stdout",
     "output_type": "stream",
     "text": [
      "16\n",
      "4.0\n",
      "real and different\n",
      "0.0\n",
      "4.0\n"
     ]
    }
   ],
   "source": [
    "'''Program to find the roots of the quadratic equation\n",
    "\n",
    "Quadratic equation = AX^2 + BX + C\n",
    "\n",
    "Formula to find the Roots for the Quadratic Equation\n",
    "\n",
    "                X = -B (+or-) sqrt(B*B - 4AC) // 2A\n",
    "\n",
    "'''\n",
    "import math\n",
    "\n",
    "def find_roots(a,b,c):\n",
    "    d = b*b-4*a*c\n",
    "    print(d)\n",
    "    sqrt_const = math.sqrt(abs(d))\n",
    "    print(sqrt_const)\n",
    "    \n",
    "    if d == 0:\n",
    "        print(\"real and same\")\n",
    "        print(-b//(2*a))\n",
    "    elif d > 0:\n",
    "        print(\"real and different\")\n",
    "        print(-b+sqrt_const//(2*a))\n",
    "        print(-b-sqrt_const//(2*a))\n",
    "    else:\n",
    "        print(\"real and complex\")\n",
    "        print(-b//(2*a),\"+ i\", round(sqrt_const, 2))\n",
    "        print(-b//(2*a),\"- i\", round(sqrt_const, 2))\n",
    "\n",
    "find_roots(-1, -2, 3)"
   ]
  },
  {
   "cell_type": "markdown",
   "id": "00414efe",
   "metadata": {},
   "source": [
    "## Codes related to array"
   ]
  },
  {
   "cell_type": "code",
   "execution_count": 1,
   "id": "866b1fa4",
   "metadata": {},
   "outputs": [
    {
     "name": "stdout",
     "output_type": "stream",
     "text": [
      "8456\n"
     ]
    }
   ],
   "source": [
    "# largest element in the array\n",
    "\n",
    "arr = [12,23,2,21,45,44,56,6,7,8456,67]\n",
    "val = arr[0]\n",
    "\n",
    "for i in range(len(arr)):\n",
    "    if val < arr[i]:\n",
    "        val = arr[i]\n",
    "\n",
    "print(val)"
   ]
  },
  {
   "cell_type": "code",
   "execution_count": null,
   "id": "43c9d1fe",
   "metadata": {},
   "outputs": [],
   "source": []
  },
  {
   "cell_type": "code",
   "execution_count": 2,
   "id": "5e1a3c65",
   "metadata": {},
   "outputs": [
    {
     "name": "stdout",
     "output_type": "stream",
     "text": [
      "2\n"
     ]
    }
   ],
   "source": [
    "# smallest element in the array\n",
    "\n",
    "arr = [12,23,2,21,45,44,56,6,7,8456,67]\n",
    "val = arr[0]\n",
    "\n",
    "for i in range(len(arr)):\n",
    "    if val > arr[i]:\n",
    "        val = arr[i]\n",
    "\n",
    "print(val)"
   ]
  },
  {
   "cell_type": "code",
   "execution_count": 3,
   "id": "4fddb54f",
   "metadata": {},
   "outputs": [
    {
     "name": "stdout",
     "output_type": "stream",
     "text": [
      "2\n",
      "8456\n"
     ]
    }
   ],
   "source": [
    "# find the smallest and largest element in the array\n",
    "\n",
    "arr = [12,23,2,21,45,44,56,6,7,8456,67]\n",
    "max = arr[0]\n",
    "min = arr[0]\n",
    "\n",
    "for i in range(len(arr)):\n",
    "    if min > arr[i]:\n",
    "        min = arr[i]\n",
    "    if max < arr[i]:\n",
    "        max = arr[i]\n",
    "\n",
    "print(min)\n",
    "print(max)"
   ]
  },
  {
   "cell_type": "code",
   "execution_count": 8,
   "id": "aa3faf62",
   "metadata": {},
   "outputs": [
    {
     "name": "stdout",
     "output_type": "stream",
     "text": [
      "4\n"
     ]
    }
   ],
   "source": [
    "# second smallest element in the array\n",
    "import math\n",
    "arr = [12,23,2,21,45,4]\n",
    "second = math.inf\n",
    "\n",
    "for i in range (0,len(arr)):\n",
    "    if arr[i] < first:\n",
    "        second = first\n",
    "        first = arr[i]\n",
    "    elif arr[i] < second and arr[i] != first:\n",
    "        second = arr[i]\n",
    "\n",
    "print(second)"
   ]
  },
  {
   "cell_type": "code",
   "execution_count": 9,
   "id": "7d4d5366",
   "metadata": {},
   "outputs": [
    {
     "name": "stdout",
     "output_type": "stream",
     "text": [
      "107\n"
     ]
    }
   ],
   "source": [
    "#sum of elements in the array\n",
    "\n",
    "arr = [12,23,2,21,45,4]\n",
    "sum = 0\n",
    "for i in range(len(arr)):\n",
    "    sum += arr[i]\n",
    "print(sum)"
   ]
  },
  {
   "cell_type": "code",
   "execution_count": 10,
   "id": "df556fb7",
   "metadata": {},
   "outputs": [
    {
     "name": "stdout",
     "output_type": "stream",
     "text": [
      "[4, 45, 21, 2, 23, 12]\n"
     ]
    }
   ],
   "source": [
    "# reverse a array\n",
    "arr = [12,23,2,21,45,4]\n",
    "\n",
    "print(arr[::-1])"
   ]
  },
  {
   "cell_type": "code",
   "execution_count": 15,
   "id": "cec7cae2",
   "metadata": {},
   "outputs": [
    {
     "name": "stdout",
     "output_type": "stream",
     "text": [
      "[4, 45, 21, 2, 23, 12]\n"
     ]
    }
   ],
   "source": [
    "# reverse the array\n",
    "\n",
    "arr = [12,23,2,21,45,4]\n",
    "\n",
    "def reversed_array(A, start, end):\n",
    "    while start < end:\n",
    "        A[start],A[end] = A[end], A[start]\n",
    "        start+=1\n",
    "        end-=1\n",
    "    return A\n",
    "print(reversed_array(arr, 0, 5))"
   ]
  },
  {
   "cell_type": "code",
   "execution_count": 35,
   "id": "30ed0e1c",
   "metadata": {},
   "outputs": [
    {
     "name": "stdout",
     "output_type": "stream",
     "text": [
      "[2, 12, 23, 45, 21, 4]\n"
     ]
    }
   ],
   "source": [
    "# sort the first half in ascending order and next half in descending order\n",
    "arr = [12,23,2,21,45,4]\n",
    "output1 = []\n",
    "output2 = []\n",
    "length_array = len(arr)\n",
    "first_half = length_array//2\n",
    "for i in arr[0:first_half]:\n",
    "    output1.append(i)\n",
    "    output1.sort()\n",
    "for i in arr[first_half:]:\n",
    "    output2.append(i)\n",
    "    output2.sort(reverse= True)\n",
    "output1.extend(output2)\n",
    "print(output1)"
   ]
  },
  {
   "cell_type": "code",
   "execution_count": 50,
   "id": "ccde39bb",
   "metadata": {},
   "outputs": [
    {
     "name": "stdout",
     "output_type": "stream",
     "text": [
      "[2, 4, 12, 21, 23, 45]\n",
      "[2, 4, 12, 45, 23, 21]\n"
     ]
    }
   ],
   "source": [
    "arr = [12,23,2,21,45,4]\n",
    "\n",
    "def updates(A, n):\n",
    "    A.sort()\n",
    "    B = []\n",
    "    for i in range(n//2):\n",
    "        B.append(A[i])\n",
    "    for j in range(n-1,n//2-1,-1):\n",
    "        B.append(A[j]) \n",
    "    print(A)\n",
    "    return B\n",
    "\n",
    "print(updates(arr, len(arr)))"
   ]
  },
  {
   "cell_type": "code",
   "execution_count": 55,
   "id": "e710482c",
   "metadata": {},
   "outputs": [
    {
     "name": "stdout",
     "output_type": "stream",
     "text": [
      "Ascending Order :  [2, 4, 12, 21, 23, 45]\n",
      "Descending Order :  [45, 23, 21, 12, 4, 2]\n"
     ]
    }
   ],
   "source": [
    "# Sort the elements of the array\n",
    "\n",
    "arr = [12,23,2,21,45,4]\n",
    "arr.sort()\n",
    "print(\"Ascending Order : \", arr)\n",
    "arr.sort(reverse = True)\n",
    "print(\"Descending Order : \", arr)"
   ]
  },
  {
   "cell_type": "code",
   "execution_count": 20,
   "id": "0f339aa9",
   "metadata": {},
   "outputs": [
    {
     "name": "stdout",
     "output_type": "stream",
     "text": [
      "[False, False, False, False, False, False, False, False, False, False, False]\n",
      "12 = 3\n",
      "23 = 2\n",
      "2 = 1\n",
      "21 = 1\n",
      "45 = 1\n",
      "4 = 2\n",
      "12 = 2\n",
      "23 = 1\n",
      "4 = 1\n",
      "10 = 1\n",
      "12 = 1\n"
     ]
    }
   ],
   "source": [
    "# Program to count the frequency of the array item in the array\n",
    "\n",
    "def frequency(A, n):\n",
    "    visited = [False for i in range(n)]\n",
    "    print(visited)\n",
    "    for i in range(n):\n",
    "        if visited[i]==True:\n",
    "            continue\n",
    "        count = 1\n",
    "        for j in range(i+1,n):\n",
    "            if A[i] == A[j]:\n",
    "                # visited[j] = True\n",
    "                # print(A[i],visited)\n",
    "                count += 1\n",
    "        print(A[i],\"=\",count)\n",
    "\n",
    "arr = [12,23,2,21,45,4,12,23,4,10,12]\n",
    "n = len(arr)\n",
    "frequency(arr, n)"
   ]
  },
  {
   "cell_type": "code",
   "execution_count": 32,
   "id": "a1741bef",
   "metadata": {},
   "outputs": [
    {
     "name": "stdout",
     "output_type": "stream",
     "text": [
      "50\n",
      "50\n",
      "50\n",
      "40\n",
      "40\n",
      "30\n",
      "30\n",
      "10\n"
     ]
    }
   ],
   "source": [
    "# Sorting the array elements based on frequency\n",
    "from collections import Counter\n",
    "ini_list = [50, 40, 30, 40, 30, 50, 10, 50]\n",
    "for items, c in Counter(ini_list).most_common():\n",
    "    # print(items)\n",
    "    # print(c)\n",
    "    for item in [items]*c:\n",
    "        print(item)\n",
    "\n"
   ]
  },
  {
   "cell_type": "code",
   "execution_count": 33,
   "id": "1a10aa10",
   "metadata": {},
   "outputs": [
    {
     "name": "stdout",
     "output_type": "stream",
     "text": [
      "[50, 50, 50, 40, 40, 30, 30, 10]\n"
     ]
    }
   ],
   "source": [
    "from collections import Counter\n",
    "ini_list = [50, 40, 30, 40, 30, 50, 10, 50]\n",
    "result = [item for items, c in Counter(ini_list).most_common() for item in [items]*c]\n",
    "print(result)"
   ]
  },
  {
   "cell_type": "code",
   "execution_count": 1,
   "id": "c306dfc6",
   "metadata": {},
   "outputs": [
    {
     "name": "stdout",
     "output_type": "stream",
     "text": [
      "[232, 5545455, 161]\n",
      "[232, 5545455, 161]\n"
     ]
    }
   ],
   "source": [
    "# The longest palindrome in the array\n",
    "\n",
    "arr = [232, 5545455, 909090, 161]\n",
    "palin = []\n",
    "pal = []\n",
    "for num in arr:\n",
    "    temp = num\n",
    "    sum = 0\n",
    "    while num!=0:\n",
    "        rem = num%10\n",
    "        sum = (sum*10)+rem\n",
    "        num //= 10\n",
    "    if temp == sum:\n",
    "        palin.append(temp)\n",
    "print(palin)\n",
    "\n",
    "\n"
   ]
  },
  {
   "cell_type": "code",
   "execution_count": 25,
   "id": "4758de87",
   "metadata": {},
   "outputs": [
    {
     "name": "stdout",
     "output_type": "stream",
     "text": [
      "a : a\n",
      "[0]\n",
      "a : e\n",
      "[4]\n",
      "a : i\n",
      "[8]\n",
      "a : o\n",
      "[14]\n",
      "a : u\n",
      "[20]\n",
      "Minimun value :  20\n",
      "b : a\n",
      "[1]\n",
      "b : e\n",
      "[3]\n",
      "b : i\n",
      "[7]\n",
      "b : o\n",
      "[13]\n",
      "b : u\n",
      "[19]\n",
      "Minimun value :  19\n",
      "c : a\n",
      "[2]\n",
      "c : e\n",
      "[2]\n",
      "c : i\n",
      "[6]\n",
      "c : o\n",
      "[12]\n",
      "c : u\n",
      "[18]\n",
      "Minimun value :  18\n",
      "d : a\n",
      "[3]\n",
      "d : e\n",
      "[1]\n",
      "d : i\n",
      "[5]\n",
      "d : o\n",
      "[11]\n",
      "d : u\n",
      "[17]\n",
      "Minimun value :  17\n",
      "e : a\n",
      "[4]\n",
      "e : e\n",
      "[0]\n",
      "e : i\n",
      "[4]\n",
      "e : o\n",
      "[10]\n",
      "e : u\n",
      "[16]\n",
      "Minimun value :  16\n",
      "0\n"
     ]
    }
   ],
   "source": [
    "val = input()\n",
    "Vowels = \"aeiou\"\n",
    "cost = 0\n",
    "for i in val:\n",
    "    for j in Vowels:\n",
    "        print(f\"{i} : {j}\")\n",
    "        val = []\n",
    "        val.append(abs(ord(j)-ord(i)))\n",
    "        print(val)\n",
    "    print(\"Minimun value : \",min(val))\n",
    "    # cost +=min(val)\n",
    "    val.clear()\n",
    "print(cost)\n",
    "\n"
   ]
  },
  {
   "cell_type": "code",
   "execution_count": 3,
   "id": "31dfe1fc",
   "metadata": {},
   "outputs": [
    {
     "name": "stdout",
     "output_type": "stream",
     "text": [
      "97\n"
     ]
    }
   ],
   "source": [
    "print(ord(\"a\"))"
   ]
  },
  {
   "cell_type": "code",
   "execution_count": 35,
   "id": "9cb0408b",
   "metadata": {},
   "outputs": [
    {
     "name": "stdout",
     "output_type": "stream",
     "text": [
      "cost :  [0]\n",
      "cost :  [0, 0]\n",
      "cost :  [0, 0, 0]\n",
      "cost :  [0, 0, 0, 0]\n",
      "cost :  [0, 0, 0, 0, 0]\n",
      "cost :  [0, 0, 0, 0, 0, 0]\n",
      "cost :  [0, 0, 0, 0, 0, 0, 0]\n",
      "cost :  [0, 0, 0, 0, 0, 0, 0, 0]\n",
      "cost :  [0, 0, 0, 0, 0, 0, 0, 0, 0]\n",
      "cost :  [0, 0, 0, 0, 0, 0, 0, 0, 0, 0]\n",
      "cost :  [0, 0, 0, 0, 0, 0, 0, 0, 0, 0, 0]\n",
      "cost :  [0, 0, 0, 0, 0, 0, 0, 0, 0, 0, 0, 0]\n",
      "cost :  [0, 0, 0, 0, 0, 0, 0, 0, 0, 0, 0, 0, 0]\n",
      "cost :  [0, 0, 0, 0, 0, 0, 0, 0, 0, 0, 0, 0, 0, 0]\n",
      "cost :  [0, 0, 0, 0, 0, 0, 0, 0, 0, 0, 0, 0, 0, 0, 0]\n",
      "cost :  [0, 0, 0, 0, 0, 0, 0, 0, 0, 0, 0, 0, 0, 0, 0, 0]\n",
      "cost :  [0, 0, 0, 0, 0, 0, 0, 0, 0, 0, 0, 0, 0, 0, 0, 0, 0]\n",
      "cost :  [0, 0, 0, 0, 0, 0, 0, 0, 0, 0, 0, 0, 0, 0, 0, 0, 0, 0]\n",
      "cost :  [0, 0, 0, 0, 0, 0, 0, 0, 0, 0, 0, 0, 0, 0, 0, 0, 0, 0, 0]\n",
      "cost :  [0, 0, 0, 0, 0, 0, 0, 0, 0, 0, 0, 0, 0, 0, 0, 0, 0, 0, 0, 0]\n",
      "cost :  [0, 0, 0, 0, 0, 0, 0, 0, 0, 0, 0, 0, 0, 0, 0, 0, 0, 0, 0, 0, 0]\n",
      "cost :  [0, 0, 0, 0, 0, 0, 0, 0, 0, 0, 0, 0, 0, 0, 0, 0, 0, 0, 0, 0, 0, 0]\n",
      "cost :  [0, 0, 0, 0, 0, 0, 0, 0, 0, 0, 0, 0, 0, 0, 0, 0, 0, 0, 0, 0, 0, 0, 0]\n",
      "cost :  [0, 0, 0, 0, 0, 0, 0, 0, 0, 0, 0, 0, 0, 0, 0, 0, 0, 0, 0, 0, 0, 0, 0, 0]\n",
      "cost :  [0, 0, 0, 0, 0, 0, 0, 0, 0, 0, 0, 0, 0, 0, 0, 0, 0, 0, 0, 0, 0, 0, 0, 0, 0]\n",
      "val1 : [97, 101, 105, 111, 117]\n",
      "val2 : [97, 98, 99, 100, 101, 97, 98, 99, 100, 101, 97, 98, 99, 100, 101, 97, 98, 99, 100, 101, 97, 98, 99, 100, 101]\n"
     ]
    }
   ],
   "source": [
    "val = \"aeiou\"\n",
    "st = \"abcde\"\n",
    "val1 = []\n",
    "val2 = []\n",
    "cost_list = []\n",
    "for i in val:\n",
    "    val1.append(ord(i))\n",
    "    for j in st:\n",
    "        val2.append(ord(j))\n",
    "        cost_list.append(abs(ord(j)-ord(j)))\n",
    "     \n",
    "print(\"val1 :\",val1)\n",
    "print(\"val2 :\", val2)\n",
    "# print(cost_list)"
   ]
  },
  {
   "cell_type": "code",
   "execution_count": null,
   "id": "58666dac",
   "metadata": {},
   "outputs": [],
   "source": []
  },
  {
   "cell_type": "code",
   "execution_count": null,
   "id": "77098968",
   "metadata": {},
   "outputs": [],
   "source": []
  },
  {
   "cell_type": "code",
   "execution_count": null,
   "id": "f4860d6e",
   "metadata": {},
   "outputs": [],
   "source": []
  },
  {
   "attachments": {},
   "cell_type": "markdown",
   "id": "ca593ebf",
   "metadata": {},
   "source": [
    "# Codes for Recursion"
   ]
  },
  {
   "cell_type": "code",
   "execution_count": 1,
   "id": "bd4e54e5",
   "metadata": {},
   "outputs": [
    {
     "name": "stdout",
     "output_type": "stream",
     "text": [
      "4\n"
     ]
    }
   ],
   "source": [
    "'''Power of a Number using Recursion'''\n",
    "def power(a, b):\n",
    "    if b != 0:\n",
    "        return(a * power(a, b-1))\n",
    "    else:\n",
    "        return 1\n",
    "\n",
    "print(power(2,2))"
   ]
  },
  {
   "cell_type": "code",
   "execution_count": 5,
   "id": "4668cbe1",
   "metadata": {},
   "outputs": [
    {
     "name": "stdout",
     "output_type": "stream",
     "text": [
      "8\n"
     ]
    }
   ],
   "source": [
    "def power(a, b):\n",
    "    if b != 0:\n",
    "        return (a * power(a,b-1))\n",
    "    else:\n",
    "        return 1\n",
    "print(power(2,3))"
   ]
  },
  {
   "cell_type": "code",
   "execution_count": 4,
   "id": "020af870",
   "metadata": {},
   "outputs": [
    {
     "name": "stdout",
     "output_type": "stream",
     "text": [
      "It is not a prime Number\n"
     ]
    }
   ],
   "source": [
    "'''Prime number or not'''\n",
    "\n",
    "num = int(input())\n",
    "fact = 0\n",
    "\n",
    "for i in range(2, num):\n",
    "    if num%i == 0:\n",
    "        fact = 1\n",
    "        break\n",
    "if fact == 0:\n",
    "    print(\"It is prime Number\")\n",
    "else:\n",
    "    print(\"It is not a prime Number\")"
   ]
  },
  {
   "cell_type": "code",
   "execution_count": 19,
   "id": "f36f1b7d",
   "metadata": {},
   "outputs": [
    {
     "name": "stdout",
     "output_type": "stream",
     "text": [
      "15 3\n",
      "False\n"
     ]
    }
   ],
   "source": [
    "# prime number or not using recursion\n",
    "def primes(num, i=2):\n",
    "    if num == i:\n",
    "        return True\n",
    "    if num%i == 0:\n",
    "        return False\n",
    "    print(num,i+1)\n",
    "    return primes(num,i+1)\n",
    "\n",
    "print(primes(int(input())))"
   ]
  },
  {
   "cell_type": "code",
   "execution_count": 27,
   "id": "7a7d04c0",
   "metadata": {},
   "outputs": [
    {
     "name": "stdout",
     "output_type": "stream",
     "text": [
      "78\n"
     ]
    }
   ],
   "source": [
    "# Return the maximum of the array\n",
    "def maximum(A, l):\n",
    "    if l==1:\n",
    "        return A[0]\n",
    "    return max(A[l-1],maximum(A, l-1))\n",
    "\n",
    "A = [1,3,5,3,78,-5,4,56,-6]\n",
    "l = len(A)\n",
    "val = maximum(A,l)\n",
    "print(val)"
   ]
  },
  {
   "cell_type": "code",
   "execution_count": 34,
   "id": "87f4da3d",
   "metadata": {},
   "outputs": [
    {
     "name": "stdout",
     "output_type": "stream",
     "text": [
      "-6\n"
     ]
    }
   ],
   "source": [
    "# Smallest element in the array\n",
    "\n",
    "def minimum ( A , l ):\n",
    "    if l == 1:\n",
    "        return A[0]\n",
    "    return min(A[l-1], minimum(A, l-1))\n",
    "\n",
    "A = [1,3,5,3,78,-5,4,56,-6]\n",
    "l = len(A)\n",
    "val = minimum(A,l)\n",
    "print(val)"
   ]
  },
  {
   "cell_type": "code",
   "execution_count": 39,
   "id": "be3c9e71",
   "metadata": {},
   "outputs": [
    {
     "ename": "RecursionError",
     "evalue": "maximum recursion depth exceeded",
     "output_type": "error",
     "traceback": [
      "\u001b[1;31m---------------------------------------------------------------------------\u001b[0m",
      "\u001b[1;31mRecursionError\u001b[0m                            Traceback (most recent call last)",
      "\u001b[1;32m~\\AppData\\Local\\Temp\\ipykernel_36008\\3468553946.py\u001b[0m in \u001b[0;36m<module>\u001b[1;34m\u001b[0m\n\u001b[0;32m      5\u001b[0m     \u001b[1;32mreturn\u001b[0m \u001b[1;33m(\u001b[0m\u001b[0mreverse\u001b[0m \u001b[1;33m(\u001b[0m\u001b[0mn\u001b[0m\u001b[1;33m//\u001b[0m\u001b[1;36m10\u001b[0m\u001b[1;33m)\u001b[0m\u001b[1;33m)\u001b[0m\u001b[1;33m\u001b[0m\u001b[1;33m\u001b[0m\u001b[0m\n\u001b[0;32m      6\u001b[0m \u001b[1;33m\u001b[0m\u001b[0m\n\u001b[1;32m----> 7\u001b[1;33m \u001b[0mprint\u001b[0m\u001b[1;33m(\u001b[0m\u001b[0mreverse\u001b[0m\u001b[1;33m(\u001b[0m\u001b[1;36m12345\u001b[0m\u001b[1;33m)\u001b[0m\u001b[1;33m)\u001b[0m\u001b[1;33m\u001b[0m\u001b[1;33m\u001b[0m\u001b[0m\n\u001b[0m",
      "\u001b[1;32m~\\AppData\\Local\\Temp\\ipykernel_36008\\3468553946.py\u001b[0m in \u001b[0;36mreverse\u001b[1;34m(n)\u001b[0m\n\u001b[0;32m      3\u001b[0m     \u001b[1;31m# if n != 0:\u001b[0m\u001b[1;33m\u001b[0m\u001b[1;33m\u001b[0m\u001b[1;33m\u001b[0m\u001b[0m\n\u001b[0;32m      4\u001b[0m     \u001b[1;31m#     rem = n%10\u001b[0m\u001b[1;33m\u001b[0m\u001b[1;33m\u001b[0m\u001b[1;33m\u001b[0m\u001b[0m\n\u001b[1;32m----> 5\u001b[1;33m     \u001b[1;32mreturn\u001b[0m \u001b[1;33m(\u001b[0m\u001b[0mreverse\u001b[0m \u001b[1;33m(\u001b[0m\u001b[0mn\u001b[0m\u001b[1;33m//\u001b[0m\u001b[1;36m10\u001b[0m\u001b[1;33m)\u001b[0m\u001b[1;33m)\u001b[0m\u001b[1;33m\u001b[0m\u001b[1;33m\u001b[0m\u001b[0m\n\u001b[0m\u001b[0;32m      6\u001b[0m \u001b[1;33m\u001b[0m\u001b[0m\n\u001b[0;32m      7\u001b[0m \u001b[0mprint\u001b[0m\u001b[1;33m(\u001b[0m\u001b[0mreverse\u001b[0m\u001b[1;33m(\u001b[0m\u001b[1;36m12345\u001b[0m\u001b[1;33m)\u001b[0m\u001b[1;33m)\u001b[0m\u001b[1;33m\u001b[0m\u001b[1;33m\u001b[0m\u001b[0m\n",
      "... last 1 frames repeated, from the frame below ...\n",
      "\u001b[1;32m~\\AppData\\Local\\Temp\\ipykernel_36008\\3468553946.py\u001b[0m in \u001b[0;36mreverse\u001b[1;34m(n)\u001b[0m\n\u001b[0;32m      3\u001b[0m     \u001b[1;31m# if n != 0:\u001b[0m\u001b[1;33m\u001b[0m\u001b[1;33m\u001b[0m\u001b[1;33m\u001b[0m\u001b[0m\n\u001b[0;32m      4\u001b[0m     \u001b[1;31m#     rem = n%10\u001b[0m\u001b[1;33m\u001b[0m\u001b[1;33m\u001b[0m\u001b[1;33m\u001b[0m\u001b[0m\n\u001b[1;32m----> 5\u001b[1;33m     \u001b[1;32mreturn\u001b[0m \u001b[1;33m(\u001b[0m\u001b[0mreverse\u001b[0m \u001b[1;33m(\u001b[0m\u001b[0mn\u001b[0m\u001b[1;33m//\u001b[0m\u001b[1;36m10\u001b[0m\u001b[1;33m)\u001b[0m\u001b[1;33m)\u001b[0m\u001b[1;33m\u001b[0m\u001b[1;33m\u001b[0m\u001b[0m\n\u001b[0m\u001b[0;32m      6\u001b[0m \u001b[1;33m\u001b[0m\u001b[0m\n\u001b[0;32m      7\u001b[0m \u001b[0mprint\u001b[0m\u001b[1;33m(\u001b[0m\u001b[0mreverse\u001b[0m\u001b[1;33m(\u001b[0m\u001b[1;36m12345\u001b[0m\u001b[1;33m)\u001b[0m\u001b[1;33m)\u001b[0m\u001b[1;33m\u001b[0m\u001b[1;33m\u001b[0m\u001b[0m\n",
      "\u001b[1;31mRecursionError\u001b[0m: maximum recursion depth exceeded"
     ]
    }
   ],
   "source": [
    "# Reverse of a number\n",
    "def reverse(n):\n",
    "    # if n != 0:\n",
    "    #     rem = n%10 \n",
    "    return (reverse (n//10))\n",
    "print(reverse(12345))"
   ]
  },
  {
   "cell_type": "markdown",
   "id": "6980f840",
   "metadata": {},
   "source": [
    "## OOPS\n",
    "\n",
    "    Pillars of OOP\n",
    "\n",
    "    1. Abstraction\n",
    "        - Providing only the necessary information\n",
    "    2. Encapsulation\n",
    "        - Wraping up of data and function into single unit\n",
    "    3. Inheritance\n",
    "        - Acquring the property of an existing thing\n",
    "    4. Polymorphism\n",
    "        - Single thing acting in many form\n",
    "\n",
    "\n",
    "# Class\n",
    "    - Class is the blueprint which allows us to logically group our datas into single unit.\n",
    "    - The datas and function within the class is called as Attributes and methods.\n",
    "# Object\n",
    "    - Instance of the class.\n",
    "\n"
   ]
  },
  {
   "cell_type": "code",
   "execution_count": 6,
   "id": "2e2b6fa3",
   "metadata": {},
   "outputs": [
    {
     "name": "stdout",
     "output_type": "stream",
     "text": [
      "Class variable :  10\n",
      "Instance Variable :  20\n"
     ]
    }
   ],
   "source": [
    "# class creating\n",
    "\n",
    "class Sample: # class creation\n",
    "    # Members of the class\n",
    "    val = 10  # Class variable or attribute \n",
    "    def set_val (self): # When calling this function, in the place of self ==> obj\n",
    "        self.val = 20 # instance variable or attribute\n",
    "\n",
    "    def get_val(self):\n",
    "        print(\"Class variable : \", Sample.val)\n",
    "        print(\"Instance Variable : \",self.val)\n",
    "\n",
    "obj = Sample() # Object creation / Instantiation\n",
    "obj.set_val()\n",
    "obj.get_val() "
   ]
  },
  {
   "cell_type": "code",
   "execution_count": 7,
   "id": "76522acf",
   "metadata": {},
   "outputs": [
    {
     "name": "stdout",
     "output_type": "stream",
     "text": [
      "Class variable :  10\n",
      "Instance Variable :  20\n"
     ]
    }
   ],
   "source": [
    "# printing the values(Class Variable and Instance Variable) outside the class\n",
    "\n",
    "print(\"Class variable : \", Sample.val)\n",
    "print(\"Instance Variable : \",obj.val) # for doing this we need to use the object name"
   ]
  },
  {
   "cell_type": "markdown",
   "id": "d80581dd",
   "metadata": {},
   "source": [
    "# making the variable as private\n",
    "\n",
    "    __var = 10 # A value that is preceeded with the __ tends to be private \n",
    "    _var = 20 # A value that is preceeded with the _ tends to be protected"
   ]
  },
  {
   "cell_type": "code",
   "execution_count": 16,
   "id": "e08c75d5",
   "metadata": {},
   "outputs": [
    {
     "name": "stdout",
     "output_type": "stream",
     "text": [
      "Class variable :  10\n",
      "Instance Variable :  20\n"
     ]
    }
   ],
   "source": [
    "# class creating\n",
    "# Here we declare the class variable and instance variable as Private\n",
    "''' NOTE!!!\n",
    "        -> A Private variable is accessible only inside the class\n",
    "        -> No outside function or methods can access it '''\n",
    "\n",
    "\n",
    "class Sample: # class creation\n",
    "    # Members of the class\n",
    "    __val = 10  # Class variable or attribute \n",
    "    def set_val (self): # When calling this function, in the place of self ==> obj\n",
    "        self.__val = 20 # instance variable or attribute\n",
    "\n",
    "    def get_val(self):\n",
    "        print(\"Class variable : \", Sample.__val)\n",
    "        print(\"Instance Variable : \",self.__val)\n",
    "\n",
    "obj = Sample() # Object creation / Instantiation\n",
    "obj.set_val()\n",
    "obj.get_val()\n"
   ]
  },
  {
   "cell_type": "code",
   "execution_count": 18,
   "id": "7ec9f3a4",
   "metadata": {},
   "outputs": [
    {
     "ename": "AttributeError",
     "evalue": "type object 'Sample' has no attribute '__val'",
     "output_type": "error",
     "traceback": [
      "\u001b[1;31m---------------------------------------------------------------------------\u001b[0m",
      "\u001b[1;31mAttributeError\u001b[0m                            Traceback (most recent call last)",
      "\u001b[1;32m~\\AppData\\Local\\Temp\\ipykernel_25736\\3767477827.py\u001b[0m in \u001b[0;36m<module>\u001b[1;34m\u001b[0m\n\u001b[0;32m      1\u001b[0m \u001b[1;31m# Trying to print the private variable of the class outside the class as did in public variable\u001b[0m\u001b[1;33m\u001b[0m\u001b[1;33m\u001b[0m\u001b[1;33m\u001b[0m\u001b[0m\n\u001b[1;32m----> 2\u001b[1;33m \u001b[0mprint\u001b[0m\u001b[1;33m(\u001b[0m\u001b[1;34m\"Class variable : \"\u001b[0m\u001b[1;33m,\u001b[0m \u001b[0mSample\u001b[0m\u001b[1;33m.\u001b[0m\u001b[0m__val\u001b[0m\u001b[1;33m)\u001b[0m\u001b[1;33m\u001b[0m\u001b[1;33m\u001b[0m\u001b[0m\n\u001b[0m\u001b[0;32m      3\u001b[0m \u001b[0mprint\u001b[0m\u001b[1;33m(\u001b[0m\u001b[1;34m\"Instance Variable : \"\u001b[0m\u001b[1;33m,\u001b[0m\u001b[0mobj\u001b[0m\u001b[1;33m.\u001b[0m\u001b[0m__val\u001b[0m\u001b[1;33m)\u001b[0m\u001b[1;33m\u001b[0m\u001b[1;33m\u001b[0m\u001b[0m\n",
      "\u001b[1;31mAttributeError\u001b[0m: type object 'Sample' has no attribute '__val'"
     ]
    }
   ],
   "source": [
    "# Trying to print the private variable of the class outside the class as did in public variable\n",
    "print(\"Class variable : \", Sample.__val)\n",
    "print(\"Instance Variable : \",obj.__val)"
   ]
  },
  {
   "cell_type": "code",
   "execution_count": 3,
   "id": "29c1e0e9",
   "metadata": {},
   "outputs": [
    {
     "name": "stdout",
     "output_type": "stream",
     "text": [
      "Area of the Circle :  1661.0600000000002\n",
      "Circumference of the Circle :  144.44\n",
      "Area of the Circle :  1661.0600000000002\n",
      "Circumference of the Circle :  144.44\n",
      "Area of the Circle :  12.56\n",
      "Circumference of the Circle :  12.56\n"
     ]
    }
   ],
   "source": [
    "# Examples\n",
    "\n",
    "class Circle:\n",
    "    pi = 3.14 # class variable \n",
    "    def set_val(self):\n",
    "        self.radius = int(input(\"Enter the Radius : \"))  \n",
    "    def area(self):\n",
    "        print(\"Area of the Circle : \",Circle.pi * self.radius ** 2)\n",
    "    def circumference (self):\n",
    "        print(\"Circumference of the Circle : \",2*Circle.pi*self.radius)\n",
    "\n",
    "c1 = Circle()\n",
    "c1.set_val()\n",
    "c1.area()\n",
    "c1.circumference()\n",
    "\n",
    "c2 = Circle()\n",
    "c2.set_val()\n",
    "c1.area()\n",
    "c1.circumference()\n",
    "\n",
    "c2.area()\n",
    "c2.circumference()"
   ]
  },
  {
   "cell_type": "markdown",
   "id": "cea131fc",
   "metadata": {},
   "source": [
    "# Dunder Methods / Special Methods\n",
    "    - These methods contain double underscore before and after the function name\n",
    "\n",
    "\n",
    "    1) __init__\n",
    "    2) __del__\n",
    "    3) __str__ \n",
    "                -It is informal representation (__str__ methods is given more priority when created and called with the help of print statement   \"print(Object_name)\")  eventhough the __repr__ methods is present within the same class\n",
    "    4) __repr__ \n",
    "                -It is the official representation (In order to call the __repr__ method then we need to do that explicitly with the help of following statement \"print(repr(Object_name))\" )\n",
    "    5) __doc__"
   ]
  },
  {
   "cell_type": "code",
   "execution_count": 7,
   "id": "2ab3b56c",
   "metadata": {},
   "outputs": [
    {
     "name": "stdout",
     "output_type": "stream",
     "text": [
      "Area of the Circle :  452.16\n",
      "Circumference of the Circle :  75.36\n",
      "Value : 12, Area : 452.16, Circumference : 75.36\n"
     ]
    },
    {
     "ename": "TypeError",
     "evalue": "__str__ returned non-string (type NoneType)",
     "output_type": "error",
     "traceback": [
      "\u001b[1;31m---------------------------------------------------------------------------\u001b[0m",
      "\u001b[1;31mTypeError\u001b[0m                                 Traceback (most recent call last)",
      "\u001b[1;32m~\\AppData\\Local\\Temp\\ipykernel_23840\\596486699.py\u001b[0m in \u001b[0;36m<module>\u001b[1;34m\u001b[0m\n\u001b[0;32m     18\u001b[0m \u001b[0mc1\u001b[0m\u001b[1;33m.\u001b[0m\u001b[0marea\u001b[0m\u001b[1;33m(\u001b[0m\u001b[1;33m)\u001b[0m\u001b[1;33m\u001b[0m\u001b[1;33m\u001b[0m\u001b[0m\n\u001b[0;32m     19\u001b[0m \u001b[0mc1\u001b[0m\u001b[1;33m.\u001b[0m\u001b[0mcircumference\u001b[0m\u001b[1;33m(\u001b[0m\u001b[1;33m)\u001b[0m\u001b[1;33m\u001b[0m\u001b[1;33m\u001b[0m\u001b[0m\n\u001b[1;32m---> 20\u001b[1;33m \u001b[0mprint\u001b[0m\u001b[1;33m(\u001b[0m\u001b[0mc1\u001b[0m\u001b[1;33m)\u001b[0m\u001b[1;33m\u001b[0m\u001b[1;33m\u001b[0m\u001b[0m\n\u001b[0m",
      "\u001b[1;31mTypeError\u001b[0m: __str__ returned non-string (type NoneType)"
     ]
    }
   ],
   "source": [
    "# Examples\n",
    "\n",
    "class Circle:\n",
    "    pi = 3.14 # class variable \n",
    "    def set_val(self):\n",
    "        self.radius = int(input(\"Enter the Radius : \"))  \n",
    "    def area(self):\n",
    "        self.ar = Circle.pi * self.radius ** 2\n",
    "        print(\"Area of the Circle : \",self.ar)\n",
    "    def circumference (self):\n",
    "        self.circum = 2*Circle.pi*self.radius\n",
    "        print(\"Circumference of the Circle : \",self.circum)\n",
    "    def __str__(self):\n",
    "        print(f\"Value : {self.radius}, Area : {self.ar}, Circumference : {self.circum}\")\n",
    "\n",
    "c1 = Circle()\n",
    "c1.set_val()\n",
    "c1.area()\n",
    "c1.circumference()\n",
    "print(c1)"
   ]
  },
  {
   "cell_type": "code",
   "execution_count": 9,
   "id": "4b8220bb",
   "metadata": {},
   "outputs": [
    {
     "name": "stdout",
     "output_type": "stream",
     "text": [
      "Sum of 0 and 0 is 0\n"
     ]
    }
   ],
   "source": [
    "class Addition:\n",
    "    def __init__(self): \n",
    "        self.var1 = 0\n",
    "        self.var2 = 0\n",
    "    def set_val(self):\n",
    "        self.var1 = int(input())\n",
    "        self.var2 = int(input())\n",
    "    def add(self):\n",
    "        self.result = self.var1 + self.var2\n",
    "    def disp(self):\n",
    "        print(f\"Sum of {self.var1} and {self.var2} is {self.result}\")\n",
    "\n",
    "Add = Addition()\n",
    "# Add.set_val()\n",
    "Add.add()\n",
    "Add.disp()"
   ]
  },
  {
   "cell_type": "code",
   "execution_count": 10,
   "id": "41f39764",
   "metadata": {},
   "outputs": [
    {
     "name": "stdout",
     "output_type": "stream",
     "text": [
      "Sum of 23 and 32 is 55\n"
     ]
    }
   ],
   "source": [
    "''' Dunder Methods / Special Methods\n",
    "    ----->These methods contain double underscore before and after the function name\n",
    "'''\n",
    "class Addition:\n",
    "    def __init__(self):\n",
    "        self.var1 = 0\n",
    "        self.var2 = 0\n",
    "    def set_val(self):\n",
    "        self.var1 = int(input())\n",
    "        self.var2 = int(input())\n",
    "    def add(self):\n",
    "        self.result = self.var1 + self.var2\n",
    "    def disp(self):\n",
    "        print(f\"Sum of {self.var1} and {self.var2} is {self.result}\")\n",
    "\n",
    "Add = Addition() # __init__ called automatically \n",
    "Add.set_val() \n",
    "Add.add()\n",
    "Add.disp()\n"
   ]
  },
  {
   "cell_type": "code",
   "execution_count": 3,
   "id": "a79e9b23",
   "metadata": {},
   "outputs": [
    {
     "name": "stdout",
     "output_type": "stream",
     "text": [
      "Sum of 2 and 3 is 5\n",
      "Object is Deleted....\n"
     ]
    }
   ],
   "source": [
    "''' Dunder Methods / Special Methods\n",
    "    ----->These methods contain double underscore before and after the function name\n",
    "'''\n",
    "class Addition:\n",
    "    def __init__(self):\n",
    "        self.var1 = 0\n",
    "        self.var2 = 0\n",
    "    def set_val(self):\n",
    "        self.var1 = int(input())\n",
    "        self.var2 = int(input())\n",
    "    def add(self):\n",
    "        self.result = self.var1 + self.var2\n",
    "    def disp(self):\n",
    "        print(f\"Sum of {self.var1} and {self.var2} is {self.result}\")\n",
    "    def __del__(self): # It shows that the object is deleted \n",
    "        print(\"Object is Deleted....\")  # This function act as the destructor\n",
    "    \n",
    "\n",
    "\n",
    "Add = Addition() # __init__ called automatically \n",
    "Add.set_val()\n",
    "Add.add()\n",
    "Add.disp()\n",
    "\n",
    "del Add # delete object "
   ]
  },
  {
   "cell_type": "code",
   "execution_count": 14,
   "id": "a3b7f12b",
   "metadata": {},
   "outputs": [
    {
     "name": "stdout",
     "output_type": "stream",
     "text": [
      "Sum of 2 and 3 is 5\n",
      "Object is Deleted....\n"
     ]
    }
   ],
   "source": [
    "class Addition:\n",
    "    def __init__(self):\n",
    "        self.var1 = 0\n",
    "        self.var2 = 0\n",
    "\n",
    "    def set_val(self):\n",
    "        self.var1 = int(input())\n",
    "        self.var2 = int(input())\n",
    "    \n",
    "    def add(self):\n",
    "        self.result = self.var1 + self.var2\n",
    "    \n",
    "    def disp(self):\n",
    "        print(f\"Sum of {self.var1} and {self.var2} is {self.result}\")\n",
    "    \n",
    "    def __del__(self): # It shows that the object is deleted \n",
    "        print(\"Object is Deleted....\")  # This function act as the destructor\n",
    "    \n",
    "    def __str__(self): # It is used to show the values in the object, just by using print(Object_name)\n",
    "        return f\"Sum of {self.var1} and {self.var2} is {self.result}\"\n",
    "\n",
    "\n",
    "Add = Addition() # __init__ called automatically \n",
    "Add.set_val()\n",
    "Add.add()\n",
    "# Add.disp()\n",
    "print(Add) # __str__ called automatically       \n",
    "del Add # __del__ called automatically                                                                                                                                                                                                                                                                                                                                                                                                                                                                                                                                                                                                                                                                                          "
   ]
  },
  {
   "cell_type": "code",
   "execution_count": 8,
   "id": "8cb7d2b3",
   "metadata": {},
   "outputs": [
    {
     "name": "stdout",
     "output_type": "stream",
     "text": [
      "This class adds two numbers by getting the values in the runtime\n",
      "Sum of 0 and 0 is 0\n"
     ]
    }
   ],
   "source": [
    "# Dunder Attribute\n",
    "\n",
    "class Addition:\n",
    "    '''This class adds two numbers by getting the values in the runtime'''\n",
    "    def __init__(self):   #__init__ method is automatically called\n",
    "        self.var1 = 0\n",
    "        self.var2 = 0\n",
    "    def set_val(self):\n",
    "        self.var1 = int(input())\n",
    "        self.var2 = int(input())\n",
    "    def add(self):\n",
    "        self.result = self.var1 + self.var2\n",
    "    def disp(self):\n",
    "        print(f\"Sum of {self.var1} and {self.var2} is {self.result}\")\n",
    "\n",
    "print(Addition.__doc__) # The comment given inside the class will be printed\n",
    "Add = Addition()\n",
    "# Add.set_val()\n",
    "Add.add()\n",
    "Add.disp()\n"
   ]
  },
  {
   "cell_type": "markdown",
   "id": "af1da8b4",
   "metadata": {},
   "source": [
    "# Operator Overloading\n",
    "\n"
   ]
  },
  {
   "cell_type": "code",
   "execution_count": 12,
   "id": "6aca53bf",
   "metadata": {},
   "outputs": [
    {
     "ename": "TypeError",
     "evalue": "unsupported operand type(s) for +: 'Sample' and 'Sample'",
     "output_type": "error",
     "traceback": [
      "\u001b[1;31m---------------------------------------------------------------------------\u001b[0m",
      "\u001b[1;31mTypeError\u001b[0m                                 Traceback (most recent call last)",
      "\u001b[1;32m~\\AppData\\Local\\Temp\\ipykernel_23628\\1575279368.py\u001b[0m in \u001b[0;36m<module>\u001b[1;34m\u001b[0m\n\u001b[0;32m      4\u001b[0m \u001b[0mobj1\u001b[0m \u001b[1;33m=\u001b[0m \u001b[0mSample\u001b[0m\u001b[1;33m(\u001b[0m\u001b[1;33m)\u001b[0m\u001b[1;33m\u001b[0m\u001b[1;33m\u001b[0m\u001b[0m\n\u001b[0;32m      5\u001b[0m \u001b[0mobj2\u001b[0m \u001b[1;33m=\u001b[0m \u001b[0mSample\u001b[0m\u001b[1;33m(\u001b[0m\u001b[1;33m)\u001b[0m\u001b[1;33m\u001b[0m\u001b[1;33m\u001b[0m\u001b[0m\n\u001b[1;32m----> 6\u001b[1;33m \u001b[0mprint\u001b[0m\u001b[1;33m(\u001b[0m\u001b[0mobj1\u001b[0m \u001b[1;33m+\u001b[0m \u001b[0mobj2\u001b[0m\u001b[1;33m)\u001b[0m \u001b[1;31m#This is not possible directly\u001b[0m\u001b[1;33m\u001b[0m\u001b[1;33m\u001b[0m\u001b[0m\n\u001b[0m",
      "\u001b[1;31mTypeError\u001b[0m: unsupported operand type(s) for +: 'Sample' and 'Sample'"
     ]
    }
   ],
   "source": [
    "class Sample:\n",
    "    pass\n",
    "\n",
    "obj1 = Sample()\n",
    "obj2 = Sample()\n",
    "print(obj1 + obj2) #This is not possible directly"
   ]
  },
  {
   "cell_type": "markdown",
   "id": "c7b273e9",
   "metadata": {},
   "source": [
    "# The Operators that can be Overloaded are:\n",
    "Arithmatic Operator Overloading:\n",
    "\n",
    "        Operator        Dunder Method\n",
    "            +    ===>   __add__()\n",
    "            -    ===>   __sub__()\n",
    "            *    ===>   __mul__()\n",
    "            /    ===>   __truediv__()\n",
    "            //   ===>   __floordiv__()\n",
    "            %    ===>   __mod__()\n",
    "            **   ===>   __pow__()\n",
    "\n",
    "Arithmatic Assignment Operators:\n",
    "\n",
    "        Operator        Dunder Methods\n",
    "            +=   ===>   __iadd__()\n",
    "            -=   ===>   __isub__()\n",
    "            *=   ===>   __imul__()\n",
    "            /=   ===>   __idiv__()\n",
    "            //=  ===>   __ifloordiv__()\n",
    "            %=   ===>   __imod__()\n",
    "            **=  ===>   __ipow__()\n",
    "\n",
    "Conditional Opertaor Overloading:\n",
    "\n",
    "        Operator        Dunder Methods\n",
    "            >    ===>   __gt__()\n",
    "            <    ===>   __lt__()\n",
    "            >=   ===>   __ge__()\n",
    "            <=   ===>   __le__()\n",
    "            ==   ===>   __eq__()\n",
    "            !=   ===>   __ne__()\n",
    "\n",
    "Bitwise Operator Overloading:\n",
    "\n",
    "        Operator        Dunder Methods\n",
    "            &    ===>   __add__()\n",
    "            |    ===>   __or__()\n",
    "            ^    ===>   __xor__()\n",
    "            <<   ===>   __lshift__()\n",
    "            >>  ===>   __rshift__()\n",
    "         \n",
    "            "
   ]
  },
  {
   "cell_type": "code",
   "execution_count": 9,
   "id": "32d1c5d7",
   "metadata": {},
   "outputs": [
    {
     "name": "stdout",
     "output_type": "stream",
     "text": [
      "4+6j \n",
      "4+6j \n"
     ]
    }
   ],
   "source": [
    "# Program without operator overloading\n",
    "\n",
    "class Complex:\n",
    "    def __init__(self):\n",
    "        self.real = 0\n",
    "        self.img = 0\n",
    "\n",
    "    def set_val(self):\n",
    "        self.real = int(input()) # c1 real = 1 , c2 real = 3\n",
    "        self.img = int(input()) # c1 img = 2 , c2 img = 4\n",
    "\n",
    "    def compadd(self, other): # self ==> c1 and other ==> c2\n",
    "        temp = Complex()\n",
    "        temp.real = self.real + other.real # 1 + 3\n",
    "        temp.img = self.img + other.img # 2 + 4\n",
    "        print(f\"{temp.real}+{temp.img}j \")\n",
    "        return temp\n",
    "\n",
    "    def disp(self):\n",
    "        print(f\"{self.real}+{self.img}j \")\n",
    "\n",
    "\n",
    "c1 = Complex()\n",
    "c2 = Complex()\n",
    "c1.set_val() # Calling the method with the object\n",
    "c2.set_val()\n",
    "c3 = c1.compadd(c2)\n",
    "c3.disp()"
   ]
  },
  {
   "cell_type": "code",
   "execution_count": 17,
   "id": "21c6d27a",
   "metadata": {},
   "outputs": [
    {
     "name": "stdout",
     "output_type": "stream",
     "text": [
      "4+6j \n"
     ]
    }
   ],
   "source": [
    "# Program with operator overloading\n",
    "\n",
    "class Complex:\n",
    "    def __init__(self):\n",
    "        self.real = 0\n",
    "        self.img = 0\n",
    "    \n",
    "    def set_val(self):\n",
    "        self.real = int(input()) # c1 real = 1 , c2 real = 3\n",
    "        self.img = int(input()) # c1 img = 2 , c2 img = 4\n",
    "\n",
    "    # def compadd(self, other): \n",
    "    def __add__(self, other):# self ==> c1 and other ==> c2\n",
    "        temp = Complex()\n",
    "        temp.real = self.real + other.real\n",
    "        temp.img = self.img + other.img\n",
    "        return temp\n",
    "\n",
    "    def disp(self):\n",
    "        print(f\"{self.real}+{self.img}j \")\n",
    "\n",
    "\n",
    "c1 = Complex()\n",
    "c2 = Complex()\n",
    "c1.set_val() # Calling the method with the object\n",
    "c2.set_val()\n",
    "c3 = c1 +c2  # ==> c1.__add__(c2)\n",
    "# c3 = c1.compadd(c2)\n",
    "c3.disp()"
   ]
  },
  {
   "cell_type": "code",
   "execution_count": 1,
   "id": "34b143e0",
   "metadata": {},
   "outputs": [
    {
     "name": "stdout",
     "output_type": "stream",
     "text": [
      "(6+5j)\n"
     ]
    }
   ],
   "source": [
    "# Program with operator overloading\n",
    "\n",
    "class Complex:\n",
    "    def __init__(self):\n",
    "        self.comp = 0\n",
    "    \n",
    "    def set_val(self):\n",
    "        self.comp = complex(input()) # c1 = 3+2j , c2 = 1+4j\n",
    "\n",
    "    # def compadd(self, other): \n",
    "    def __add__(self, other):# self ==> c1 and other ==> c2\n",
    "        temp = Complex()\n",
    "        temp.comp = self.comp + other.comp  # (3+2j)+(1+4j)\n",
    "        return temp\n",
    "    \n",
    "    def disp(self):\n",
    "        print(self.comp)\n",
    "\n",
    "\n",
    "c1 = Complex()\n",
    "c2 = Complex()\n",
    "c1.set_val() # Calling the method with the object\n",
    "c2.set_val()\n",
    "c3 = c1 + c2  # ==> c1.__add__(c2)\n",
    "c3.disp()"
   ]
  },
  {
   "cell_type": "code",
   "execution_count": 11,
   "id": "dd9ec492",
   "metadata": {},
   "outputs": [
    {
     "ename": "TypeError",
     "evalue": "'<' not supported between instances of 'String' and 'String'",
     "output_type": "error",
     "traceback": [
      "\u001b[1;31m---------------------------------------------------------------------------\u001b[0m",
      "\u001b[1;31mTypeError\u001b[0m                                 Traceback (most recent call last)",
      "\u001b[1;32m~\\AppData\\Local\\Temp\\ipykernel_23840\\3324302202.py\u001b[0m in \u001b[0;36m<module>\u001b[1;34m\u001b[0m\n\u001b[0;32m      8\u001b[0m \u001b[0ms2\u001b[0m \u001b[1;33m=\u001b[0m \u001b[0mString\u001b[0m\u001b[1;33m(\u001b[0m\u001b[1;33m)\u001b[0m\u001b[1;33m\u001b[0m\u001b[1;33m\u001b[0m\u001b[0m\n\u001b[0;32m      9\u001b[0m \u001b[1;33m\u001b[0m\u001b[0m\n\u001b[1;32m---> 10\u001b[1;33m \u001b[1;32mif\u001b[0m \u001b[0ms1\u001b[0m \u001b[1;33m<\u001b[0m \u001b[0ms2\u001b[0m\u001b[1;33m:\u001b[0m\u001b[1;33m\u001b[0m\u001b[1;33m\u001b[0m\u001b[0m\n\u001b[0m\u001b[0;32m     11\u001b[0m     \u001b[0mprint\u001b[0m\u001b[1;33m(\u001b[0m\u001b[1;34mf\"{s1.str1} is smaller than {s2.str1}\"\u001b[0m\u001b[1;33m)\u001b[0m\u001b[1;33m\u001b[0m\u001b[1;33m\u001b[0m\u001b[0m\n\u001b[0;32m     12\u001b[0m \u001b[1;32melif\u001b[0m \u001b[0ms1\u001b[0m \u001b[1;33m>\u001b[0m \u001b[0ms2\u001b[0m\u001b[1;33m:\u001b[0m\u001b[1;33m\u001b[0m\u001b[1;33m\u001b[0m\u001b[0m\n",
      "\u001b[1;31mTypeError\u001b[0m: '<' not supported between instances of 'String' and 'String'"
     ]
    }
   ],
   "source": [
    "# Compare two strings without Operator Overloading\n",
    "\n",
    "class String:\n",
    "    def __init__(self):\n",
    "        self.str1 = input()\n",
    "\n",
    "s1 = String()\n",
    "s2 = String()\n",
    "\n",
    "if s1 < s2:\n",
    "    print(f\"{s1.str1} is smaller than {s2.str1}\")\n",
    "elif s1 > s2:\n",
    "    print(f\"{s2.str1} is greater than {s1.str1}\")\n",
    "else:\n",
    "    print(f\"{s1.str1} is equal to {s2.str1}\")"
   ]
  },
  {
   "cell_type": "code",
   "execution_count": 43,
   "id": "5d8d6cdb",
   "metadata": {},
   "outputs": [
    {
     "name": "stdout",
     "output_type": "stream",
     "text": [
      "kum  is smaller than nav\n"
     ]
    }
   ],
   "source": [
    "class String:\n",
    "    def __init__(self):\n",
    "        self.str1 = input()\n",
    "        \n",
    "    def __lt__(self, others):\n",
    "        if self.str1 < others.str1:\n",
    "            return True\n",
    "        \n",
    "    def __gt__(self, others):\n",
    "        if self.str1 > others.str1:\n",
    "            return True\n",
    "        \n",
    "        \n",
    "\n",
    "s1 = String()\n",
    "s2 = String()\n",
    "\n",
    "if s1 < s2: # s1.__lt__(s2)\n",
    "    print(f\"{s1.str1} is smaller than {s2.str1}\")\n",
    "elif s1 > s2: # s1.__gt__(s2)\n",
    "    print(f\"{s1.str1} is greater than {s2.str1}\")\n",
    "else:\n",
    "    print(f\"{s1.str1} is equal to {s2.str1}\")"
   ]
  },
  {
   "cell_type": "markdown",
   "id": "54a3aa8f",
   "metadata": {},
   "source": [
    "# Inheritance\n",
    "\n",
    "    - It is the process of acquiring the porperty of one class into another class\n",
    "    - You can use the Inheritance only when you have a is-a relationship\n",
    "\n",
    "\n",
    "    Example:\n",
    "    --------\n",
    "\n",
    "    Person (name, age, phno)\n",
    "    Employee (id, name, age, phno, dept, sal)\n",
    "\n",
    "\n",
    "    Person (name, age, phno) <== Employee (id, dept, sal)\n",
    "\n",
    "    Here the \"Person\" is called \"Base Class\"\n",
    "    \"Employee\" is called as \"Derived Class\"\n",
    "\n",
    "    Syntax:\n",
    "    -------\n",
    "    1) Single Inheritance  ==> Acquiring the property of one class is called Single Inheritance\n",
    "    -------------------------------------------------------------------------------------------\n",
    "\n",
    "    class Base:\n",
    "        pass\n",
    "    class Derived(Base):\n",
    "        pass\n",
    "\n",
    "    obj = Derived()\n",
    "\n",
    "    2) Mulitple Inheritance ==> Acquiring the properties of multiple base classes into derived class is called Multiple Inheritance\n",
    "    -------------------------------------------------------------------------------------------------------------------------------\n",
    "\n",
    "    class Base1:\n",
    "        pass\n",
    "    class Bsse2:\n",
    "        pass\n",
    "    class Derived(Base1, Base2):\n",
    "        pass\n",
    "\n",
    "    obj = Derived()"
   ]
  },
  {
   "cell_type": "code",
   "execution_count": 44,
   "id": "edfb073c",
   "metadata": {},
   "outputs": [
    {
     "name": "stdout",
     "output_type": "stream",
     "text": [
      "Name : Naveenkumar\n",
      "Address : Pondicherry, India\n",
      "Age : 21\n",
      "Phone Number : 6381480376\n"
     ]
    }
   ],
   "source": [
    "#Examples\n",
    "\n",
    "class Person:\n",
    "    def __init__(self) -> None:\n",
    "        self.__name = None\n",
    "        self.__address = None\n",
    "        self.__age = 0\n",
    "        self.__phno = 0\n",
    "\n",
    "    def get_value (self):\n",
    "        self.__name = input()\n",
    "        self.__address = input()\n",
    "        self.__age = int(input())\n",
    "        self.__phno = int(input())\n",
    "\n",
    "    def print_value(self):\n",
    "        print(f\"Name : {self.__name}\")\n",
    "        print(f\"Address : {self.__address}\")\n",
    "        print(f\"Age : {self.__age}\")\n",
    "        print(f\"Phone Number : {self.__phno}\")\n",
    "\n",
    "p = Person()\n",
    "p.get_value()\n",
    "p.print_value()"
   ]
  },
  {
   "cell_type": "code",
   "execution_count": 45,
   "id": "81185975",
   "metadata": {},
   "outputs": [
    {
     "name": "stdout",
     "output_type": "stream",
     "text": [
      "Name : None\n",
      "Address : None\n",
      "Age : 0\n",
      "Phone Number : 0\n"
     ]
    }
   ],
   "source": [
    "class Person:\n",
    "    def __init__(self):\n",
    "        self.__name = None\n",
    "        self.__address = None\n",
    "        self.__age = 0\n",
    "        self.__phno = 0\n",
    "\n",
    "    def get_value (self):\n",
    "        self.__name = input()\n",
    "        self.__address = input()\n",
    "        self.__age = int(input())\n",
    "        self.__phno = int(input())\n",
    "\n",
    "    def print_value(self):\n",
    "        print(f\"Name : {self.__name}\")\n",
    "        print(f\"Address : {self.__address}\")\n",
    "        print(f\"Age : {self.__age}\")\n",
    "        print(f\"Phone Number : {self.__phno}\")\n",
    "\n",
    "p = Person()\n",
    "# p.get_value()\n",
    "p.print_value()"
   ]
  },
  {
   "cell_type": "code",
   "execution_count": 48,
   "id": "8a2260ed",
   "metadata": {},
   "outputs": [
    {
     "name": "stdout",
     "output_type": "stream",
     "text": [
      "Employee ID :  123\n",
      "Salary :  80000\n",
      "Email :  naveenkumar.pu19@gmail.com\n",
      "Name : Naveenkumar\n",
      "Address : Pondicherry, India\n",
      "Age : 21\n",
      "Phone Number : 6381480376\n"
     ]
    }
   ],
   "source": [
    "class Person: # Base Class / Generalization\n",
    "    def __init__(self):\n",
    "        self.__name = None\n",
    "        self.__address = None\n",
    "        self.__age = 0\n",
    "        self.__phno = 0\n",
    "\n",
    "    def get_value (self):\n",
    "        self.__name = input(\"Enter the name : \")\n",
    "        self.__address = input(\"Enter the address : \")\n",
    "        self.__age = int(input(\"Enter the age : \"))\n",
    "        self.__phno = int(input(\"Enter the phone number : \"))\n",
    "\n",
    "    def print_value(self):\n",
    "        print(f\"Name : {self.__name}\")\n",
    "        print(f\"Address : {self.__address}\")\n",
    "        print(f\"Age : {self.__age}\")\n",
    "        print(f\"Phone Number : {self.__phno}\")\n",
    "\n",
    "class Employee(Person): # Person class (name, address, age, phno)\n",
    "                        # Derived Class / Specilization\n",
    "    def __init__(self):\n",
    "        self.__id = 0\n",
    "        self.__sal = 0\n",
    "        self.__email = None\n",
    "\n",
    "    def get_emp(self):\n",
    "        self.__id = int(input(\"Enter the Employee ID : \"))\n",
    "        self.__sal = int(input(\"Enter the Salary : \"))\n",
    "        self.__email = input(\"Enter the Email ID : \")\n",
    "\n",
    "    def print_emp(self):\n",
    "        print(\"Employee ID : \",self.__id)\n",
    "        print(\"Salary : \", self.__sal)\n",
    "        print(\"Email : \", self.__email)\n",
    "\n",
    "Emp = Employee() \n",
    "Emp.get_emp()\n",
    "Emp.get_value()\n",
    "Emp.print_emp()\n",
    "Emp.print_value()"
   ]
  },
  {
   "cell_type": "code",
   "execution_count": 63,
   "id": "32a7ed39",
   "metadata": {},
   "outputs": [
    {
     "name": "stdout",
     "output_type": "stream",
     "text": [
      "Name : Naveenkumar\n",
      "Address : Pondicherry, India\n",
      "Age : 21\n",
      "Phone Number : 6381480376\n",
      "Employee ID :  123\n",
      "Salary :  90000\n",
      "Email :  Naveenkumar@gmail.com\n"
     ]
    }
   ],
   "source": [
    "# Example for Single Inheritance\n",
    "# Example on how to use the private variable outside the base class (That is, inside the derived class)\n",
    "\n",
    "class Person: # Base Class / Generalization\n",
    "    def __init__(self):\n",
    "        self.__name = None\n",
    "        self.__address = None\n",
    "        self.__age = 0\n",
    "        self.__phno = 0\n",
    "\n",
    "    def get_value (self):\n",
    "        self.__name = input()\n",
    "        self.__address = input()\n",
    "        self.__age = int(input())\n",
    "        self.__phno = int(input())\n",
    "\n",
    "    def print_value(self):\n",
    "        print(f\"Name : {self.__name}\")\n",
    "        print(f\"Address : {self.__address}\")\n",
    "        print(f\"Age : {self.__age}\")\n",
    "        print(f\"Phone Number : {self.__phno}\")\n",
    "\n",
    "    def name(self):\n",
    "        return self.__name \n",
    "\n",
    "class Employee(Person): # Person class (name, address, age, phno)\n",
    "                        # Derived Class / Specilization\n",
    "    def __init__(self):\n",
    "        super().__init__()\n",
    "        self.__id = 0\n",
    "        self.__sal = 0\n",
    "        self.__email = None\n",
    "\n",
    "    def get_emp(self):\n",
    "        self.__id = int(input())\n",
    "        self.__sal = int(input())\n",
    "        self.__email = self.name()+\"@gmail.com\"\n",
    "\n",
    "    def print_emp(self):\n",
    "        print(\"Employee ID : \",self.__id)\n",
    "        print(\"Salary : \", self.__sal)\n",
    "        print(\"Email : \", self.__email)\n",
    "  \n",
    "Emp = Employee() \n",
    "Emp.get_value()\n",
    "Emp.get_emp()\n",
    "Emp.print_value()\n",
    "Emp.print_emp()\n"
   ]
  },
  {
   "cell_type": "code",
   "execution_count": null,
   "id": "701a816f",
   "metadata": {},
   "outputs": [],
   "source": [
    "class Person: # Base Class / Generalization\n",
    "    def __init__(self):\n",
    "        self.__name = None\n",
    "        self.__address = None\n",
    "        self.__age = 0\n",
    "        self.__phno = 0\n",
    "\n",
    "    def get_value (self):\n",
    "        self.__name = input(\"Enter the name : \")\n",
    "        self.__address = input(\"Enter the address : \")\n",
    "        self.__age = int(input(\"Enter the age : \"))\n",
    "        self.__phno = int(input(\"Enter the phone number : \"))\n",
    "\n",
    "    def print_value(self):\n",
    "        print(f\"Name : {self.__name}\")\n",
    "        print(f\"Address : {self.__address}\")\n",
    "        print(f\"Age : {self.__age}\")\n",
    "        print(f\"Phone Number : {self.__phno}\")\n",
    "\n",
    "    def first(self):\n",
    "        return self.__name\n",
    "\n",
    "class Employee(Person): # Person class (name, address, age, phno)\n",
    "                        # Derived Class / Specilization\n",
    "    def __init__(self):\n",
    "        self.__id = 0\n",
    "        self.__sal = 0\n",
    "        self.__email = None\n",
    "\n",
    "    def get_emp(self):\n",
    "        self.__id = int(input(\"Enter the Employee ID : \"))\n",
    "        self.__sal = int(input(\"Enter the Salary : \"))\n",
    "        self.__email = self.first()+'@gmail.com'\n",
    "\n",
    "    def print_emp(self):\n",
    "        print(\"Employee ID : \",self.__id)\n",
    "        print(\"Salary : \", self.__sal)\n",
    "        print(\"Email : \", self.__email)\n",
    "\n",
    "# Emp = Employee()\n",
    "# Emp.get_value()\n",
    "# Emp.get_emp()\n",
    "# Emp.print_emp()\n",
    "# Emp.print_value()\n",
    "\n",
    "Emp = []\n",
    "n = int(input(\"Enter the number of Employee:\"))\n",
    "\n",
    "for i in range(n):\n",
    "    Emp.append(Employee())\n",
    "    Emp[i].get_value()\n",
    "    Emp[i].get_emp()\n",
    "\n",
    "print(Emp)"
   ]
  },
  {
   "cell_type": "code",
   "execution_count": 66,
   "id": "d246e868",
   "metadata": {},
   "outputs": [
    {
     "name": "stdout",
     "output_type": "stream",
     "text": [
      "Im in Base1 __init__ method\n",
      "Im in Base2 __init__ method\n",
      "Im in Derived __init__ method\n"
     ]
    }
   ],
   "source": [
    "# Multiple Inheritance\n",
    "\n",
    "class Base1:\n",
    "    def __init__(self) -> None:\n",
    "        print(\"Im in Base1 __init__ method\")\n",
    "\n",
    "class Base2:\n",
    "    def __init__(self) -> None:\n",
    "        print(\"Im in Base2 __init__ method\")\n",
    "\n",
    "class Derived(Base1, Base2):\n",
    "    def __init__(self) -> None:\n",
    "        Base1.__init__(self)\n",
    "        Base2.__init__(self)\n",
    "        print(\"Im in Derived __init__ method\")\n",
    "\n",
    "obj = Derived()\n"
   ]
  },
  {
   "cell_type": "markdown",
   "id": "1a0928d4",
   "metadata": {},
   "source": [
    "## Polymorphism \n",
    "- Method Overriding\n",
    "    - Methods which is getting over rided by other methods when it is called is called Method Overriding\n",
    "- Abstract Class \n",
    "- Abstract Methods"
   ]
  },
  {
   "cell_type": "code",
   "execution_count": 16,
   "id": "7d861d64",
   "metadata": {},
   "outputs": [
    {
     "name": "stdout",
     "output_type": "stream",
     "text": [
      "Base __init__ method called\n",
      "Derived __init__ method called\n",
      "Derived fun is called\n",
      "Derived object is deleted\n",
      "Base object is deleted\n"
     ]
    }
   ],
   "source": [
    "class Base:\n",
    "    def __init__(self):\n",
    "        print(\"Base __init__ method called\")\n",
    "    def fun(self):\n",
    "        print(\"Base fun is called\")\n",
    "    def __del__(self):\n",
    "        print(\"Base object is deleted\")\n",
    "    \n",
    "class Derived(Base):\n",
    "    def __init__(self):\n",
    "        super().__init__()\n",
    "        print(\"Derived __init__ method called\")\n",
    "    def fun(self):\n",
    "        print(\"Derived fun is called\")\n",
    "    def __del__(self):\n",
    "        print(\"Derived object is deleted\")\n",
    "        super().__del__()\n",
    "    \n",
    "obj = Derived() # __init__ method called automatically\n",
    "obj.fun() # It directly calls the derived class method\n",
    "del obj # __del__ is called automatically\n"
   ]
  },
  {
   "cell_type": "code",
   "execution_count": 18,
   "id": "3b3b5188",
   "metadata": {},
   "outputs": [
    {
     "name": "stdout",
     "output_type": "stream",
     "text": [
      "Base __init__ method called\n",
      "Derived __init__ method called\n",
      "Derived fun is called\n",
      "Derived object is deleted\n",
      "Base object is deleted\n",
      " \n",
      "Base __init__ method called\n",
      "Base fun is called\n",
      "Base object is deleted\n"
     ]
    }
   ],
   "source": [
    "class Base:\n",
    "    def __init__(self):\n",
    "        print(\"Base __init__ method called\")\n",
    "    def fun(self):\n",
    "        print(\"Base fun is called\")\n",
    "    def __del__(self):\n",
    "        print(\"Base object is deleted\")\n",
    "    \n",
    "class Derived(Base):\n",
    "    def __init__(self):\n",
    "        super().__init__()\n",
    "        print(\"Derived __init__ method called\")\n",
    "    def fun(self):\n",
    "        print(\"Derived fun is called\")\n",
    "    def __del__(self):\n",
    "        print(\"Derived object is deleted\")\n",
    "        super().__del__()\n",
    "    \n",
    "obj = Derived() # __init__ method called automatically\n",
    "obj.fun() # It directly calls the derived class method\n",
    "del obj # __del__ is called automatically\n",
    "print(\" \")\n",
    "obj = Base()\n",
    "obj.fun()\n",
    "del obj"
   ]
  },
  {
   "cell_type": "code",
   "execution_count": null,
   "id": "98f10496",
   "metadata": {},
   "outputs": [],
   "source": [
    "# Abstract Class\n"
   ]
  },
  {
   "cell_type": "code",
   "execution_count": 11,
   "id": "1e51f353",
   "metadata": {},
   "outputs": [
    {
     "name": "stdout",
     "output_type": "stream",
     "text": [
      "2\n"
     ]
    }
   ],
   "source": [
    "for i in range(2,3):\n",
    "    print(i)"
   ]
  },
  {
   "cell_type": "code",
   "execution_count": null,
   "id": "43e2b0c2",
   "metadata": {},
   "outputs": [],
   "source": []
  },
  {
   "cell_type": "code",
   "execution_count": 1,
   "id": "3d064565",
   "metadata": {},
   "outputs": [
    {
     "name": "stdout",
     "output_type": "stream",
     "text": [
      "4\n"
     ]
    }
   ],
   "source": [
    "dict = {}\n",
    "dict[1]= 1\n",
    "dict['1']= 2\n",
    "dict[1]+=1\n",
    "\n",
    "sum = 0\n",
    "\n",
    "for k in dict:\n",
    "    sum += dict[k]\n",
    "\n",
    "print(sum)"
   ]
  },
  {
   "cell_type": "code",
   "execution_count": 3,
   "id": "5dec22b6",
   "metadata": {},
   "outputs": [
    {
     "name": "stdout",
     "output_type": "stream",
     "text": [
      "3\n"
     ]
    }
   ],
   "source": [
    "counter = {}\n",
    "def add(country):\n",
    "    if country in counter:\n",
    "        counter[country] += 1\n",
    "    else:\n",
    "        counter[country] = 1\n",
    "\n",
    "add(\"China\")\n",
    "add(\"Japan\")\n",
    "add(\"china\")\n",
    "print (len(counter))"
   ]
  },
  {
   "cell_type": "code",
   "execution_count": 7,
   "id": "a0f10fb8",
   "metadata": {},
   "outputs": [
    {
     "name": "stdout",
     "output_type": "stream",
     "text": [
      "111\n"
     ]
    }
   ],
   "source": [
    "class acc:\n",
    "    def __init__(self,id):\n",
    "        self.id = id\n",
    "        id = 555\n",
    "\n",
    "a = acc(111)\n",
    "print(a.id)"
   ]
  },
  {
   "cell_type": "markdown",
   "id": "7b1b61f1",
   "metadata": {},
   "source": [
    "# Pattern Printing"
   ]
  },
  {
   "cell_type": "code",
   "execution_count": 3,
   "id": "9f7f6220",
   "metadata": {},
   "outputs": [
    {
     "name": "stdout",
     "output_type": "stream",
     "text": [
      "* * * * \n",
      "\n",
      "* * * * \n",
      "\n",
      "* * * * \n",
      "\n",
      "* * * * \n",
      "\n"
     ]
    }
   ],
   "source": [
    "for i in range(0, 4):\n",
    "    for j in range(0, 4):\n",
    "        print(\"*\", end = \" \")\n",
    "    print(\"\\n\")\n"
   ]
  },
  {
   "cell_type": "code",
   "execution_count": 33,
   "id": "0b56e64a",
   "metadata": {},
   "outputs": [
    {
     "name": "stdout",
     "output_type": "stream",
     "text": [
      "* * * * \n",
      "\n",
      "*     * \n",
      "\n",
      "*     * \n",
      "\n",
      "* * * * \n",
      "\n"
     ]
    }
   ],
   "source": [
    "n  = int(input())\n",
    "for i in range (n):\n",
    "    for j in range(n):\n",
    "        if i==0 or i==n-1 or j==0 or j==n-1:\n",
    "            print(\"*\",end=\" \")\n",
    "        else:\n",
    "            print(\" \",end=\" \")\n",
    "    print(\"\\n\")"
   ]
  },
  {
   "cell_type": "code",
   "execution_count": 72,
   "id": "c194e6e2",
   "metadata": {},
   "outputs": [
    {
     "name": "stdout",
     "output_type": "stream",
     "text": [
      "* * * * * \n",
      "\n",
      "*       * \n",
      "\n",
      "*       * \n",
      "\n",
      "*       * \n",
      "\n",
      "* * * * * \n",
      "\n"
     ]
    }
   ],
   "source": [
    "n = int(input())\n",
    "\n",
    "for i in range(0, n):\n",
    "    for j in range(0, n):\n",
    "        if (i == 0) or (i == n-1) or (j == 0) or (j == n-1):\n",
    "            print(\"*\", end = \" \")\n",
    "        else:\n",
    "            print(\" \", end = \" \")\n",
    "    print(\"\\n\")"
   ]
  },
  {
   "cell_type": "code",
   "execution_count": 49,
   "id": "0dec6310",
   "metadata": {},
   "outputs": [
    {
     "name": "stdout",
     "output_type": "stream",
     "text": [
      "*       \n",
      "\n",
      "*     \n",
      "\n",
      "*   \n",
      "\n",
      "* \n",
      "\n"
     ]
    }
   ],
   "source": [
    "n =  int(input()) # 4\n",
    "\n",
    "for i in range(0, n): # 0, 1\n",
    "    for j in range(i, n): # 0, 1, 2, 3 |# 1, 2, 3 \n",
    "        if i >= j:\n",
    "            print(\"*\", end = \" \")\n",
    "        else:\n",
    "            print(\" \" , end = \" \")\n",
    "    print(\"\\n\")"
   ]
  },
  {
   "cell_type": "code",
   "execution_count": 60,
   "id": "d1b578bd",
   "metadata": {},
   "outputs": [
    {
     "name": "stdout",
     "output_type": "stream",
     "text": [
      "* * * * \n",
      "\n",
      "  * * * * \n",
      "\n",
      "    * * * * \n",
      "\n",
      "      * * * * \n",
      "\n"
     ]
    }
   ],
   "source": [
    "n = int(input())\n",
    "\n",
    "for i in range(0, n):\n",
    "    for j in range(0, i):\n",
    "        print(\" \", end = \" \")\n",
    "    for j in range(0, n):\n",
    "        print(\"*\", end = \" \")\n",
    "    print(\"\\n\")"
   ]
  },
  {
   "cell_type": "code",
   "execution_count": 61,
   "id": "b3ec81e8",
   "metadata": {},
   "outputs": [
    {
     "name": "stdout",
     "output_type": "stream",
     "text": [
      "* * * * * \n",
      "\n",
      "* * * * * \n",
      "\n",
      "* * * * * \n",
      "\n",
      "* * * * * \n",
      "\n"
     ]
    }
   ],
   "source": [
    "row = int(input(\"Enter row:\"))\n",
    "col = int(input(\"Enter column:\"))\n",
    "for i in range (0,row):\n",
    "    for j in range(0, col):\n",
    "        print(\"*\", end = \" \")\n",
    "    print(\"\\n\")"
   ]
  },
  {
   "cell_type": "code",
   "execution_count": 74,
   "id": "c4a45cbb",
   "metadata": {},
   "outputs": [
    {
     "name": "stdout",
     "output_type": "stream",
     "text": [
      "(1, 1)* (1, 2)* (1, 3)* (1, 4)* (1, 5)* \n",
      "\n",
      "(2, 1)* (2, 2)  (2, 3)  (2, 4)  (2, 5)* \n",
      "\n",
      "(3, 1)* (3, 2)  (3, 3)  (3, 4)  (3, 5)* \n",
      "\n",
      "(4, 1)* (4, 2)* (4, 3)* (4, 4)* (4, 5)* \n",
      "\n"
     ]
    }
   ],
   "source": [
    "row = int(input(\"Enter row:\"))\n",
    "col = int(input(\"Enter column:\"))\n",
    "\n",
    "for i in range(1, row+1):\n",
    "    for j in range(1, col+1):\n",
    "        if (i==1)or(i==row)or(j==1)or(j==col):\n",
    "            print(f\"{i,j}*\", end = \" \")\n",
    "        else:\n",
    "            print(f\"{i,j} \", end = \" \")\n",
    "    print(\"\\n\")"
   ]
  },
  {
   "cell_type": "code",
   "execution_count": 75,
   "id": "5a38e103",
   "metadata": {},
   "outputs": [
    {
     "name": "stdout",
     "output_type": "stream",
     "text": [
      "* * * * * \n",
      "\n",
      "*       * \n",
      "\n",
      "*       * \n",
      "\n",
      "* * * * * \n",
      "\n"
     ]
    }
   ],
   "source": [
    "row = int(input(\"Enter row:\"))\n",
    "col = int(input(\"Enter column:\"))\n",
    "\n",
    "for i in range(1, row+1):\n",
    "    for j in range(1, col+1):\n",
    "        if (i==1)or(i==row)or(j==1)or(j==col):\n",
    "            print(\"*\", end = \" \")\n",
    "        else:\n",
    "            print(\" \", end = \" \")\n",
    "    print(\"\\n\")"
   ]
  },
  {
   "cell_type": "code",
   "execution_count": 76,
   "id": "a6ae28ec",
   "metadata": {},
   "outputs": [
    {
     "name": "stdout",
     "output_type": "stream",
     "text": [
      "  * * * * * \n",
      "\n",
      "    * * * * * \n",
      "\n",
      "      * * * * * \n",
      "\n",
      "        * * * * * \n",
      "\n"
     ]
    }
   ],
   "source": [
    "row = int(input(\"Enter row:\"))\n",
    "col = int(input(\"Enter column:\"))\n",
    "\n",
    "for i in range(1 , row+1):\n",
    "    for j in range(1, i+1):\n",
    "        print(\" \", end = \" \")\n",
    "    for j in range(1, col+1):\n",
    "        print(\"*\", end = \" \")\n",
    "    print(\"\\n\")"
   ]
  },
  {
   "cell_type": "code",
   "execution_count": 83,
   "id": "d650cf3c",
   "metadata": {},
   "outputs": [
    {
     "name": "stdout",
     "output_type": "stream",
     "text": [
      "| | | | * * * * * \n",
      "\n",
      "| | | * * * * * \n",
      "\n",
      "| | * * * * * \n",
      "\n",
      "| * * * * * \n",
      "\n"
     ]
    }
   ],
   "source": [
    "row = int(input(\"Enter row:\"))\n",
    "col = int(input(\"Enter column:\"))\n",
    "\n",
    "for i in range(1, row+1):\n",
    "    for j in range(i, col):\n",
    "        print(\"|\", end = \" \")\n",
    "    for j in range (1, col+1):\n",
    "        print(\"*\", end = \" \")\n",
    "    print(\"\\n\")"
   ]
  },
  {
   "cell_type": "code",
   "execution_count": 84,
   "id": "90845edc",
   "metadata": {},
   "outputs": [
    {
     "name": "stdout",
     "output_type": "stream",
     "text": [
      "        * * * * * \n",
      "\n",
      "      * * * * * \n",
      "\n",
      "    * * * * * \n",
      "\n",
      "  * * * * * \n",
      "\n"
     ]
    }
   ],
   "source": [
    "row = int(input(\"Enter row:\"))\n",
    "col = int(input(\"Enter column:\"))\n",
    "\n",
    "for i in range(1, row+1):\n",
    "    for j in range(i, col):\n",
    "        print(\" \", end = \" \")\n",
    "    for j in range (1, col+1):\n",
    "        print(\"*\", end = \" \")\n",
    "    print(\"\\n\")"
   ]
  },
  {
   "cell_type": "code",
   "execution_count": 85,
   "id": "949e919e",
   "metadata": {},
   "outputs": [
    {
     "name": "stdout",
     "output_type": "stream",
     "text": [
      "*  \n",
      "* *  \n",
      "* * *  \n"
     ]
    }
   ],
   "source": [
    "num = int(input())\n",
    "\n",
    "for i in range(1, num+1):\n",
    "    for j in range(1, i+1):\n",
    "        print(\"*\", end = \" \")\n",
    "    print(\" \")"
   ]
  },
  {
   "cell_type": "code",
   "execution_count": 101,
   "id": "46dfdcfb",
   "metadata": {},
   "outputs": [
    {
     "name": "stdout",
     "output_type": "stream",
     "text": [
      "| | | * \n",
      "\n",
      "| | * * * \n",
      "\n",
      "| * * * * * \n",
      "\n",
      "* * * * * * * \n",
      "\n"
     ]
    }
   ],
   "source": [
    "n = int(input())\n",
    "\n",
    "for i in range(0, n):\n",
    "    for j in range(0, n-i-1):\n",
    "        print(\"|\", end = \" \")\n",
    "    for j in range(0, i*2+1):\n",
    "        print(\"*\", end = \" \")\n",
    "    print(\"\\n\")"
   ]
  },
  {
   "cell_type": "code",
   "execution_count": 96,
   "id": "d7c9453f",
   "metadata": {},
   "outputs": [
    {
     "name": "stdout",
     "output_type": "stream",
     "text": [
      "      * \n",
      "\n",
      "    * * * \n",
      "\n",
      "  * * * * * \n",
      "\n",
      "* * * * * * * \n",
      "\n"
     ]
    }
   ],
   "source": [
    "n = int(input())\n",
    "\n",
    "for i in range(0, n):\n",
    "    for j in range(0, n-i-1):\n",
    "        print(\" \", end = \" \")\n",
    "    for j in range(0, i*2+1):\n",
    "        print(\"*\", end = \" \")\n",
    "    print(\"\\n\")"
   ]
  },
  {
   "cell_type": "markdown",
   "id": "df9f8c5a",
   "metadata": {},
   "source": [
    "## Pandas"
   ]
  },
  {
   "cell_type": "code",
   "execution_count": 1,
   "id": "3636243b",
   "metadata": {},
   "outputs": [],
   "source": [
    "import pandas as pd\n",
    "import numpy as np"
   ]
  },
  {
   "cell_type": "code",
   "execution_count": 3,
   "id": "18519077",
   "metadata": {},
   "outputs": [
    {
     "data": {
      "text/html": [
       "<div>\n",
       "<style scoped>\n",
       "    .dataframe tbody tr th:only-of-type {\n",
       "        vertical-align: middle;\n",
       "    }\n",
       "\n",
       "    .dataframe tbody tr th {\n",
       "        vertical-align: top;\n",
       "    }\n",
       "\n",
       "    .dataframe thead th {\n",
       "        text-align: right;\n",
       "    }\n",
       "</style>\n",
       "<table border=\"1\" class=\"dataframe\">\n",
       "  <thead>\n",
       "    <tr style=\"text-align: right;\">\n",
       "      <th></th>\n",
       "      <th>N</th>\n",
       "      <th>P</th>\n",
       "      <th>K</th>\n",
       "      <th>temperature</th>\n",
       "      <th>humidity</th>\n",
       "      <th>ph</th>\n",
       "      <th>rainfall</th>\n",
       "      <th>label</th>\n",
       "    </tr>\n",
       "  </thead>\n",
       "  <tbody>\n",
       "    <tr>\n",
       "      <th>0</th>\n",
       "      <td>90</td>\n",
       "      <td>42</td>\n",
       "      <td>43</td>\n",
       "      <td>20.879744</td>\n",
       "      <td>82.002744</td>\n",
       "      <td>6.502985</td>\n",
       "      <td>202.935536</td>\n",
       "      <td>rice</td>\n",
       "    </tr>\n",
       "    <tr>\n",
       "      <th>1</th>\n",
       "      <td>85</td>\n",
       "      <td>58</td>\n",
       "      <td>41</td>\n",
       "      <td>21.770462</td>\n",
       "      <td>80.319644</td>\n",
       "      <td>7.038096</td>\n",
       "      <td>226.655537</td>\n",
       "      <td>rice</td>\n",
       "    </tr>\n",
       "    <tr>\n",
       "      <th>2</th>\n",
       "      <td>60</td>\n",
       "      <td>55</td>\n",
       "      <td>44</td>\n",
       "      <td>23.004459</td>\n",
       "      <td>82.320763</td>\n",
       "      <td>7.840207</td>\n",
       "      <td>263.964248</td>\n",
       "      <td>rice</td>\n",
       "    </tr>\n",
       "    <tr>\n",
       "      <th>3</th>\n",
       "      <td>74</td>\n",
       "      <td>35</td>\n",
       "      <td>40</td>\n",
       "      <td>26.491096</td>\n",
       "      <td>80.158363</td>\n",
       "      <td>6.980401</td>\n",
       "      <td>242.864034</td>\n",
       "      <td>rice</td>\n",
       "    </tr>\n",
       "    <tr>\n",
       "      <th>4</th>\n",
       "      <td>78</td>\n",
       "      <td>42</td>\n",
       "      <td>42</td>\n",
       "      <td>20.130175</td>\n",
       "      <td>81.604873</td>\n",
       "      <td>7.628473</td>\n",
       "      <td>262.717340</td>\n",
       "      <td>rice</td>\n",
       "    </tr>\n",
       "    <tr>\n",
       "      <th>...</th>\n",
       "      <td>...</td>\n",
       "      <td>...</td>\n",
       "      <td>...</td>\n",
       "      <td>...</td>\n",
       "      <td>...</td>\n",
       "      <td>...</td>\n",
       "      <td>...</td>\n",
       "      <td>...</td>\n",
       "    </tr>\n",
       "    <tr>\n",
       "      <th>2195</th>\n",
       "      <td>107</td>\n",
       "      <td>34</td>\n",
       "      <td>32</td>\n",
       "      <td>26.774637</td>\n",
       "      <td>66.413269</td>\n",
       "      <td>6.780064</td>\n",
       "      <td>177.774507</td>\n",
       "      <td>coffee</td>\n",
       "    </tr>\n",
       "    <tr>\n",
       "      <th>2196</th>\n",
       "      <td>99</td>\n",
       "      <td>15</td>\n",
       "      <td>27</td>\n",
       "      <td>27.417112</td>\n",
       "      <td>56.636362</td>\n",
       "      <td>6.086922</td>\n",
       "      <td>127.924610</td>\n",
       "      <td>coffee</td>\n",
       "    </tr>\n",
       "    <tr>\n",
       "      <th>2197</th>\n",
       "      <td>118</td>\n",
       "      <td>33</td>\n",
       "      <td>30</td>\n",
       "      <td>24.131797</td>\n",
       "      <td>67.225123</td>\n",
       "      <td>6.362608</td>\n",
       "      <td>173.322839</td>\n",
       "      <td>coffee</td>\n",
       "    </tr>\n",
       "    <tr>\n",
       "      <th>2198</th>\n",
       "      <td>117</td>\n",
       "      <td>32</td>\n",
       "      <td>34</td>\n",
       "      <td>26.272418</td>\n",
       "      <td>52.127394</td>\n",
       "      <td>6.758793</td>\n",
       "      <td>127.175293</td>\n",
       "      <td>coffee</td>\n",
       "    </tr>\n",
       "    <tr>\n",
       "      <th>2199</th>\n",
       "      <td>104</td>\n",
       "      <td>18</td>\n",
       "      <td>30</td>\n",
       "      <td>23.603016</td>\n",
       "      <td>60.396475</td>\n",
       "      <td>6.779833</td>\n",
       "      <td>140.937041</td>\n",
       "      <td>coffee</td>\n",
       "    </tr>\n",
       "  </tbody>\n",
       "</table>\n",
       "<p>2200 rows × 8 columns</p>\n",
       "</div>"
      ],
      "text/plain": [
       "        N   P   K  temperature   humidity        ph    rainfall   label\n",
       "0      90  42  43    20.879744  82.002744  6.502985  202.935536    rice\n",
       "1      85  58  41    21.770462  80.319644  7.038096  226.655537    rice\n",
       "2      60  55  44    23.004459  82.320763  7.840207  263.964248    rice\n",
       "3      74  35  40    26.491096  80.158363  6.980401  242.864034    rice\n",
       "4      78  42  42    20.130175  81.604873  7.628473  262.717340    rice\n",
       "...   ...  ..  ..          ...        ...       ...         ...     ...\n",
       "2195  107  34  32    26.774637  66.413269  6.780064  177.774507  coffee\n",
       "2196   99  15  27    27.417112  56.636362  6.086922  127.924610  coffee\n",
       "2197  118  33  30    24.131797  67.225123  6.362608  173.322839  coffee\n",
       "2198  117  32  34    26.272418  52.127394  6.758793  127.175293  coffee\n",
       "2199  104  18  30    23.603016  60.396475  6.779833  140.937041  coffee\n",
       "\n",
       "[2200 rows x 8 columns]"
      ]
     },
     "execution_count": 3,
     "metadata": {},
     "output_type": "execute_result"
    }
   ],
   "source": [
    "data = pd.read_csv(\"Crop_recommendation.csv\")\n",
    "data"
   ]
  },
  {
   "cell_type": "code",
   "execution_count": 4,
   "id": "ed0b7e0f",
   "metadata": {},
   "outputs": [
    {
     "data": {
      "text/html": [
       "<div>\n",
       "<style scoped>\n",
       "    .dataframe tbody tr th:only-of-type {\n",
       "        vertical-align: middle;\n",
       "    }\n",
       "\n",
       "    .dataframe tbody tr th {\n",
       "        vertical-align: top;\n",
       "    }\n",
       "\n",
       "    .dataframe thead th {\n",
       "        text-align: right;\n",
       "    }\n",
       "</style>\n",
       "<table border=\"1\" class=\"dataframe\">\n",
       "  <thead>\n",
       "    <tr style=\"text-align: right;\">\n",
       "      <th></th>\n",
       "      <th>N</th>\n",
       "      <th>P</th>\n",
       "      <th>K</th>\n",
       "      <th>temperature</th>\n",
       "      <th>humidity</th>\n",
       "      <th>ph</th>\n",
       "      <th>rainfall</th>\n",
       "      <th>label</th>\n",
       "    </tr>\n",
       "  </thead>\n",
       "  <tbody>\n",
       "    <tr>\n",
       "      <th>0</th>\n",
       "      <td>90</td>\n",
       "      <td>42</td>\n",
       "      <td>43</td>\n",
       "      <td>20.879744</td>\n",
       "      <td>82.002744</td>\n",
       "      <td>6.502985</td>\n",
       "      <td>202.935536</td>\n",
       "      <td>rice</td>\n",
       "    </tr>\n",
       "    <tr>\n",
       "      <th>1</th>\n",
       "      <td>85</td>\n",
       "      <td>58</td>\n",
       "      <td>41</td>\n",
       "      <td>21.770462</td>\n",
       "      <td>80.319644</td>\n",
       "      <td>7.038096</td>\n",
       "      <td>226.655537</td>\n",
       "      <td>rice</td>\n",
       "    </tr>\n",
       "    <tr>\n",
       "      <th>2</th>\n",
       "      <td>60</td>\n",
       "      <td>55</td>\n",
       "      <td>44</td>\n",
       "      <td>23.004459</td>\n",
       "      <td>82.320763</td>\n",
       "      <td>7.840207</td>\n",
       "      <td>263.964248</td>\n",
       "      <td>rice</td>\n",
       "    </tr>\n",
       "    <tr>\n",
       "      <th>3</th>\n",
       "      <td>74</td>\n",
       "      <td>35</td>\n",
       "      <td>40</td>\n",
       "      <td>26.491096</td>\n",
       "      <td>80.158363</td>\n",
       "      <td>6.980401</td>\n",
       "      <td>242.864034</td>\n",
       "      <td>rice</td>\n",
       "    </tr>\n",
       "    <tr>\n",
       "      <th>4</th>\n",
       "      <td>78</td>\n",
       "      <td>42</td>\n",
       "      <td>42</td>\n",
       "      <td>20.130175</td>\n",
       "      <td>81.604873</td>\n",
       "      <td>7.628473</td>\n",
       "      <td>262.717340</td>\n",
       "      <td>rice</td>\n",
       "    </tr>\n",
       "  </tbody>\n",
       "</table>\n",
       "</div>"
      ],
      "text/plain": [
       "    N   P   K  temperature   humidity        ph    rainfall label\n",
       "0  90  42  43    20.879744  82.002744  6.502985  202.935536  rice\n",
       "1  85  58  41    21.770462  80.319644  7.038096  226.655537  rice\n",
       "2  60  55  44    23.004459  82.320763  7.840207  263.964248  rice\n",
       "3  74  35  40    26.491096  80.158363  6.980401  242.864034  rice\n",
       "4  78  42  42    20.130175  81.604873  7.628473  262.717340  rice"
      ]
     },
     "execution_count": 4,
     "metadata": {},
     "output_type": "execute_result"
    }
   ],
   "source": [
    "data.head()"
   ]
  },
  {
   "cell_type": "code",
   "execution_count": 7,
   "id": "cf5d3797",
   "metadata": {},
   "outputs": [
    {
     "data": {
      "text/html": [
       "<div>\n",
       "<style scoped>\n",
       "    .dataframe tbody tr th:only-of-type {\n",
       "        vertical-align: middle;\n",
       "    }\n",
       "\n",
       "    .dataframe tbody tr th {\n",
       "        vertical-align: top;\n",
       "    }\n",
       "\n",
       "    .dataframe thead th {\n",
       "        text-align: right;\n",
       "    }\n",
       "</style>\n",
       "<table border=\"1\" class=\"dataframe\">\n",
       "  <thead>\n",
       "    <tr style=\"text-align: right;\">\n",
       "      <th></th>\n",
       "      <th>N</th>\n",
       "      <th>P</th>\n",
       "      <th>K</th>\n",
       "      <th>temperature</th>\n",
       "      <th>humidity</th>\n",
       "      <th>ph</th>\n",
       "      <th>rainfall</th>\n",
       "      <th>label</th>\n",
       "    </tr>\n",
       "  </thead>\n",
       "  <tbody>\n",
       "    <tr>\n",
       "      <th>0</th>\n",
       "      <td>90</td>\n",
       "      <td>42</td>\n",
       "      <td>43</td>\n",
       "      <td>20.879744</td>\n",
       "      <td>82.002744</td>\n",
       "      <td>6.502985</td>\n",
       "      <td>202.935536</td>\n",
       "      <td>rice</td>\n",
       "    </tr>\n",
       "    <tr>\n",
       "      <th>1</th>\n",
       "      <td>85</td>\n",
       "      <td>58</td>\n",
       "      <td>41</td>\n",
       "      <td>21.770462</td>\n",
       "      <td>80.319644</td>\n",
       "      <td>7.038096</td>\n",
       "      <td>226.655537</td>\n",
       "      <td>rice</td>\n",
       "    </tr>\n",
       "    <tr>\n",
       "      <th>2</th>\n",
       "      <td>60</td>\n",
       "      <td>55</td>\n",
       "      <td>44</td>\n",
       "      <td>23.004459</td>\n",
       "      <td>82.320763</td>\n",
       "      <td>7.840207</td>\n",
       "      <td>263.964248</td>\n",
       "      <td>rice</td>\n",
       "    </tr>\n",
       "    <tr>\n",
       "      <th>3</th>\n",
       "      <td>74</td>\n",
       "      <td>35</td>\n",
       "      <td>40</td>\n",
       "      <td>26.491096</td>\n",
       "      <td>80.158363</td>\n",
       "      <td>6.980401</td>\n",
       "      <td>242.864034</td>\n",
       "      <td>rice</td>\n",
       "    </tr>\n",
       "    <tr>\n",
       "      <th>4</th>\n",
       "      <td>78</td>\n",
       "      <td>42</td>\n",
       "      <td>42</td>\n",
       "      <td>20.130175</td>\n",
       "      <td>81.604873</td>\n",
       "      <td>7.628473</td>\n",
       "      <td>262.717340</td>\n",
       "      <td>rice</td>\n",
       "    </tr>\n",
       "    <tr>\n",
       "      <th>...</th>\n",
       "      <td>...</td>\n",
       "      <td>...</td>\n",
       "      <td>...</td>\n",
       "      <td>...</td>\n",
       "      <td>...</td>\n",
       "      <td>...</td>\n",
       "      <td>...</td>\n",
       "      <td>...</td>\n",
       "    </tr>\n",
       "    <tr>\n",
       "      <th>2194</th>\n",
       "      <td>97</td>\n",
       "      <td>35</td>\n",
       "      <td>26</td>\n",
       "      <td>24.914610</td>\n",
       "      <td>53.741447</td>\n",
       "      <td>6.334610</td>\n",
       "      <td>166.254931</td>\n",
       "      <td>coffee</td>\n",
       "    </tr>\n",
       "    <tr>\n",
       "      <th>2195</th>\n",
       "      <td>107</td>\n",
       "      <td>34</td>\n",
       "      <td>32</td>\n",
       "      <td>26.774637</td>\n",
       "      <td>66.413269</td>\n",
       "      <td>6.780064</td>\n",
       "      <td>177.774507</td>\n",
       "      <td>coffee</td>\n",
       "    </tr>\n",
       "    <tr>\n",
       "      <th>2196</th>\n",
       "      <td>99</td>\n",
       "      <td>15</td>\n",
       "      <td>27</td>\n",
       "      <td>27.417112</td>\n",
       "      <td>56.636362</td>\n",
       "      <td>6.086922</td>\n",
       "      <td>127.924610</td>\n",
       "      <td>coffee</td>\n",
       "    </tr>\n",
       "    <tr>\n",
       "      <th>2197</th>\n",
       "      <td>118</td>\n",
       "      <td>33</td>\n",
       "      <td>30</td>\n",
       "      <td>24.131797</td>\n",
       "      <td>67.225123</td>\n",
       "      <td>6.362608</td>\n",
       "      <td>173.322839</td>\n",
       "      <td>coffee</td>\n",
       "    </tr>\n",
       "    <tr>\n",
       "      <th>2198</th>\n",
       "      <td>117</td>\n",
       "      <td>32</td>\n",
       "      <td>34</td>\n",
       "      <td>26.272418</td>\n",
       "      <td>52.127394</td>\n",
       "      <td>6.758793</td>\n",
       "      <td>127.175293</td>\n",
       "      <td>coffee</td>\n",
       "    </tr>\n",
       "  </tbody>\n",
       "</table>\n",
       "<p>2199 rows × 8 columns</p>\n",
       "</div>"
      ],
      "text/plain": [
       "        N   P   K  temperature   humidity        ph    rainfall   label\n",
       "0      90  42  43    20.879744  82.002744  6.502985  202.935536    rice\n",
       "1      85  58  41    21.770462  80.319644  7.038096  226.655537    rice\n",
       "2      60  55  44    23.004459  82.320763  7.840207  263.964248    rice\n",
       "3      74  35  40    26.491096  80.158363  6.980401  242.864034    rice\n",
       "4      78  42  42    20.130175  81.604873  7.628473  262.717340    rice\n",
       "...   ...  ..  ..          ...        ...       ...         ...     ...\n",
       "2194   97  35  26    24.914610  53.741447  6.334610  166.254931  coffee\n",
       "2195  107  34  32    26.774637  66.413269  6.780064  177.774507  coffee\n",
       "2196   99  15  27    27.417112  56.636362  6.086922  127.924610  coffee\n",
       "2197  118  33  30    24.131797  67.225123  6.362608  173.322839  coffee\n",
       "2198  117  32  34    26.272418  52.127394  6.758793  127.175293  coffee\n",
       "\n",
       "[2199 rows x 8 columns]"
      ]
     },
     "execution_count": 7,
     "metadata": {},
     "output_type": "execute_result"
    }
   ],
   "source": [
    "data.head(-1)"
   ]
  },
  {
   "cell_type": "code",
   "execution_count": 9,
   "id": "70a026d2",
   "metadata": {},
   "outputs": [
    {
     "data": {
      "text/html": [
       "<div>\n",
       "<style scoped>\n",
       "    .dataframe tbody tr th:only-of-type {\n",
       "        vertical-align: middle;\n",
       "    }\n",
       "\n",
       "    .dataframe tbody tr th {\n",
       "        vertical-align: top;\n",
       "    }\n",
       "\n",
       "    .dataframe thead th {\n",
       "        text-align: right;\n",
       "    }\n",
       "</style>\n",
       "<table border=\"1\" class=\"dataframe\">\n",
       "  <thead>\n",
       "    <tr style=\"text-align: right;\">\n",
       "      <th></th>\n",
       "      <th>num</th>\n",
       "      <th>age</th>\n",
       "    </tr>\n",
       "  </thead>\n",
       "  <tbody>\n",
       "    <tr>\n",
       "      <th>0</th>\n",
       "      <td>1</td>\n",
       "      <td>18</td>\n",
       "    </tr>\n",
       "    <tr>\n",
       "      <th>1</th>\n",
       "      <td>2</td>\n",
       "      <td>21</td>\n",
       "    </tr>\n",
       "    <tr>\n",
       "      <th>2</th>\n",
       "      <td>3</td>\n",
       "      <td>25</td>\n",
       "    </tr>\n",
       "  </tbody>\n",
       "</table>\n",
       "</div>"
      ],
      "text/plain": [
       "   num  age\n",
       "0    1   18\n",
       "1    2   21\n",
       "2    3   25"
      ]
     },
     "execution_count": 9,
     "metadata": {},
     "output_type": "execute_result"
    }
   ],
   "source": [
    "val = {\"num\":[1,2,3],\"age\":[18,21,25]}\n",
    "table = pd.DataFrame(val)\n",
    "table"
   ]
  },
  {
   "cell_type": "code",
   "execution_count": 10,
   "id": "718af8a8",
   "metadata": {},
   "outputs": [
    {
     "data": {
      "text/html": [
       "<div>\n",
       "<style scoped>\n",
       "    .dataframe tbody tr th:only-of-type {\n",
       "        vertical-align: middle;\n",
       "    }\n",
       "\n",
       "    .dataframe tbody tr th {\n",
       "        vertical-align: top;\n",
       "    }\n",
       "\n",
       "    .dataframe thead th {\n",
       "        text-align: right;\n",
       "    }\n",
       "</style>\n",
       "<table border=\"1\" class=\"dataframe\">\n",
       "  <thead>\n",
       "    <tr style=\"text-align: right;\">\n",
       "      <th></th>\n",
       "      <th>K</th>\n",
       "    </tr>\n",
       "  </thead>\n",
       "  <tbody>\n",
       "    <tr>\n",
       "      <th>0</th>\n",
       "      <td>43</td>\n",
       "    </tr>\n",
       "    <tr>\n",
       "      <th>1</th>\n",
       "      <td>41</td>\n",
       "    </tr>\n",
       "    <tr>\n",
       "      <th>2</th>\n",
       "      <td>44</td>\n",
       "    </tr>\n",
       "    <tr>\n",
       "      <th>3</th>\n",
       "      <td>40</td>\n",
       "    </tr>\n",
       "    <tr>\n",
       "      <th>4</th>\n",
       "      <td>42</td>\n",
       "    </tr>\n",
       "    <tr>\n",
       "      <th>...</th>\n",
       "      <td>...</td>\n",
       "    </tr>\n",
       "    <tr>\n",
       "      <th>2195</th>\n",
       "      <td>32</td>\n",
       "    </tr>\n",
       "    <tr>\n",
       "      <th>2196</th>\n",
       "      <td>27</td>\n",
       "    </tr>\n",
       "    <tr>\n",
       "      <th>2197</th>\n",
       "      <td>30</td>\n",
       "    </tr>\n",
       "    <tr>\n",
       "      <th>2198</th>\n",
       "      <td>34</td>\n",
       "    </tr>\n",
       "    <tr>\n",
       "      <th>2199</th>\n",
       "      <td>30</td>\n",
       "    </tr>\n",
       "  </tbody>\n",
       "</table>\n",
       "<p>2200 rows × 1 columns</p>\n",
       "</div>"
      ],
      "text/plain": [
       "       K\n",
       "0     43\n",
       "1     41\n",
       "2     44\n",
       "3     40\n",
       "4     42\n",
       "...   ..\n",
       "2195  32\n",
       "2196  27\n",
       "2197  30\n",
       "2198  34\n",
       "2199  30\n",
       "\n",
       "[2200 rows x 1 columns]"
      ]
     },
     "execution_count": 10,
     "metadata": {},
     "output_type": "execute_result"
    }
   ],
   "source": [
    "col= data[[\"K\"]]\n",
    "col"
   ]
  },
  {
   "cell_type": "code",
   "execution_count": 14,
   "id": "ddbd3b9d",
   "metadata": {},
   "outputs": [
    {
     "data": {
      "text/plain": [
       "(2200, 8)"
      ]
     },
     "execution_count": 14,
     "metadata": {},
     "output_type": "execute_result"
    }
   ],
   "source": [
    "data.shape"
   ]
  },
  {
   "cell_type": "code",
   "execution_count": 15,
   "id": "a213f584",
   "metadata": {},
   "outputs": [
    {
     "data": {
      "text/html": [
       "<div>\n",
       "<style scoped>\n",
       "    .dataframe tbody tr th:only-of-type {\n",
       "        vertical-align: middle;\n",
       "    }\n",
       "\n",
       "    .dataframe tbody tr th {\n",
       "        vertical-align: top;\n",
       "    }\n",
       "\n",
       "    .dataframe thead th {\n",
       "        text-align: right;\n",
       "    }\n",
       "</style>\n",
       "<table border=\"1\" class=\"dataframe\">\n",
       "  <thead>\n",
       "    <tr style=\"text-align: right;\">\n",
       "      <th></th>\n",
       "      <th>N</th>\n",
       "      <th>P</th>\n",
       "      <th>K</th>\n",
       "      <th>temperature</th>\n",
       "      <th>humidity</th>\n",
       "      <th>ph</th>\n",
       "      <th>rainfall</th>\n",
       "      <th>label</th>\n",
       "    </tr>\n",
       "  </thead>\n",
       "  <tbody>\n",
       "    <tr>\n",
       "      <th>0</th>\n",
       "      <td>False</td>\n",
       "      <td>False</td>\n",
       "      <td>False</td>\n",
       "      <td>False</td>\n",
       "      <td>False</td>\n",
       "      <td>False</td>\n",
       "      <td>False</td>\n",
       "      <td>False</td>\n",
       "    </tr>\n",
       "    <tr>\n",
       "      <th>1</th>\n",
       "      <td>False</td>\n",
       "      <td>False</td>\n",
       "      <td>False</td>\n",
       "      <td>False</td>\n",
       "      <td>False</td>\n",
       "      <td>False</td>\n",
       "      <td>False</td>\n",
       "      <td>False</td>\n",
       "    </tr>\n",
       "    <tr>\n",
       "      <th>2</th>\n",
       "      <td>False</td>\n",
       "      <td>False</td>\n",
       "      <td>False</td>\n",
       "      <td>False</td>\n",
       "      <td>False</td>\n",
       "      <td>False</td>\n",
       "      <td>False</td>\n",
       "      <td>False</td>\n",
       "    </tr>\n",
       "    <tr>\n",
       "      <th>3</th>\n",
       "      <td>False</td>\n",
       "      <td>False</td>\n",
       "      <td>False</td>\n",
       "      <td>False</td>\n",
       "      <td>False</td>\n",
       "      <td>False</td>\n",
       "      <td>False</td>\n",
       "      <td>False</td>\n",
       "    </tr>\n",
       "    <tr>\n",
       "      <th>4</th>\n",
       "      <td>False</td>\n",
       "      <td>False</td>\n",
       "      <td>False</td>\n",
       "      <td>False</td>\n",
       "      <td>False</td>\n",
       "      <td>False</td>\n",
       "      <td>False</td>\n",
       "      <td>False</td>\n",
       "    </tr>\n",
       "    <tr>\n",
       "      <th>...</th>\n",
       "      <td>...</td>\n",
       "      <td>...</td>\n",
       "      <td>...</td>\n",
       "      <td>...</td>\n",
       "      <td>...</td>\n",
       "      <td>...</td>\n",
       "      <td>...</td>\n",
       "      <td>...</td>\n",
       "    </tr>\n",
       "    <tr>\n",
       "      <th>2195</th>\n",
       "      <td>False</td>\n",
       "      <td>False</td>\n",
       "      <td>False</td>\n",
       "      <td>False</td>\n",
       "      <td>False</td>\n",
       "      <td>False</td>\n",
       "      <td>False</td>\n",
       "      <td>False</td>\n",
       "    </tr>\n",
       "    <tr>\n",
       "      <th>2196</th>\n",
       "      <td>False</td>\n",
       "      <td>False</td>\n",
       "      <td>False</td>\n",
       "      <td>False</td>\n",
       "      <td>False</td>\n",
       "      <td>False</td>\n",
       "      <td>False</td>\n",
       "      <td>False</td>\n",
       "    </tr>\n",
       "    <tr>\n",
       "      <th>2197</th>\n",
       "      <td>False</td>\n",
       "      <td>False</td>\n",
       "      <td>False</td>\n",
       "      <td>False</td>\n",
       "      <td>False</td>\n",
       "      <td>False</td>\n",
       "      <td>False</td>\n",
       "      <td>False</td>\n",
       "    </tr>\n",
       "    <tr>\n",
       "      <th>2198</th>\n",
       "      <td>False</td>\n",
       "      <td>False</td>\n",
       "      <td>False</td>\n",
       "      <td>False</td>\n",
       "      <td>False</td>\n",
       "      <td>False</td>\n",
       "      <td>False</td>\n",
       "      <td>False</td>\n",
       "    </tr>\n",
       "    <tr>\n",
       "      <th>2199</th>\n",
       "      <td>False</td>\n",
       "      <td>False</td>\n",
       "      <td>False</td>\n",
       "      <td>False</td>\n",
       "      <td>False</td>\n",
       "      <td>False</td>\n",
       "      <td>False</td>\n",
       "      <td>False</td>\n",
       "    </tr>\n",
       "  </tbody>\n",
       "</table>\n",
       "<p>2200 rows × 8 columns</p>\n",
       "</div>"
      ],
      "text/plain": [
       "          N      P      K  temperature  humidity     ph  rainfall  label\n",
       "0     False  False  False        False     False  False     False  False\n",
       "1     False  False  False        False     False  False     False  False\n",
       "2     False  False  False        False     False  False     False  False\n",
       "3     False  False  False        False     False  False     False  False\n",
       "4     False  False  False        False     False  False     False  False\n",
       "...     ...    ...    ...          ...       ...    ...       ...    ...\n",
       "2195  False  False  False        False     False  False     False  False\n",
       "2196  False  False  False        False     False  False     False  False\n",
       "2197  False  False  False        False     False  False     False  False\n",
       "2198  False  False  False        False     False  False     False  False\n",
       "2199  False  False  False        False     False  False     False  False\n",
       "\n",
       "[2200 rows x 8 columns]"
      ]
     },
     "execution_count": 15,
     "metadata": {},
     "output_type": "execute_result"
    }
   ],
   "source": [
    "data.isnull()"
   ]
  },
  {
   "cell_type": "code",
   "execution_count": 16,
   "id": "3a47fce6",
   "metadata": {},
   "outputs": [
    {
     "data": {
      "text/plain": [
       "N              0\n",
       "P              0\n",
       "K              0\n",
       "temperature    0\n",
       "humidity       0\n",
       "ph             0\n",
       "rainfall       0\n",
       "label          0\n",
       "dtype: int64"
      ]
     },
     "execution_count": 16,
     "metadata": {},
     "output_type": "execute_result"
    }
   ],
   "source": [
    "data.isnull().sum()"
   ]
  },
  {
   "cell_type": "code",
   "execution_count": 17,
   "id": "78034e4d",
   "metadata": {},
   "outputs": [
    {
     "name": "stdout",
     "output_type": "stream",
     "text": [
      "<class 'pandas.core.frame.DataFrame'>\n",
      "RangeIndex: 2200 entries, 0 to 2199\n",
      "Data columns (total 8 columns):\n",
      " #   Column       Non-Null Count  Dtype  \n",
      "---  ------       --------------  -----  \n",
      " 0   N            2200 non-null   int64  \n",
      " 1   P            2200 non-null   int64  \n",
      " 2   K            2200 non-null   int64  \n",
      " 3   temperature  2200 non-null   float64\n",
      " 4   humidity     2200 non-null   float64\n",
      " 5   ph           2200 non-null   float64\n",
      " 6   rainfall     2200 non-null   float64\n",
      " 7   label        2200 non-null   object \n",
      "dtypes: float64(4), int64(3), object(1)\n",
      "memory usage: 137.6+ KB\n"
     ]
    }
   ],
   "source": [
    "data.info()"
   ]
  },
  {
   "cell_type": "code",
   "execution_count": 18,
   "id": "a7c0216d",
   "metadata": {},
   "outputs": [
    {
     "data": {
      "text/html": [
       "<div>\n",
       "<style scoped>\n",
       "    .dataframe tbody tr th:only-of-type {\n",
       "        vertical-align: middle;\n",
       "    }\n",
       "\n",
       "    .dataframe tbody tr th {\n",
       "        vertical-align: top;\n",
       "    }\n",
       "\n",
       "    .dataframe thead th {\n",
       "        text-align: right;\n",
       "    }\n",
       "</style>\n",
       "<table border=\"1\" class=\"dataframe\">\n",
       "  <thead>\n",
       "    <tr style=\"text-align: right;\">\n",
       "      <th></th>\n",
       "      <th>N</th>\n",
       "      <th>P</th>\n",
       "      <th>K</th>\n",
       "      <th>temperature</th>\n",
       "      <th>humidity</th>\n",
       "      <th>ph</th>\n",
       "      <th>rainfall</th>\n",
       "      <th>label</th>\n",
       "    </tr>\n",
       "  </thead>\n",
       "  <tbody>\n",
       "    <tr>\n",
       "      <th>938</th>\n",
       "      <td>5</td>\n",
       "      <td>24</td>\n",
       "      <td>40</td>\n",
       "      <td>24.692258</td>\n",
       "      <td>93.870301</td>\n",
       "      <td>6.297908</td>\n",
       "      <td>104.673545</td>\n",
       "      <td>pomegranate</td>\n",
       "    </tr>\n",
       "  </tbody>\n",
       "</table>\n",
       "</div>"
      ],
      "text/plain": [
       "     N   P   K  temperature   humidity        ph    rainfall        label\n",
       "938  5  24  40    24.692258  93.870301  6.297908  104.673545  pomegranate"
      ]
     },
     "execution_count": 18,
     "metadata": {},
     "output_type": "execute_result"
    }
   ],
   "source": [
    "data.sample()"
   ]
  },
  {
   "cell_type": "code",
   "execution_count": 22,
   "id": "e485de60",
   "metadata": {},
   "outputs": [
    {
     "data": {
      "text/html": [
       "<div>\n",
       "<style scoped>\n",
       "    .dataframe tbody tr th:only-of-type {\n",
       "        vertical-align: middle;\n",
       "    }\n",
       "\n",
       "    .dataframe tbody tr th {\n",
       "        vertical-align: top;\n",
       "    }\n",
       "\n",
       "    .dataframe thead th {\n",
       "        text-align: right;\n",
       "    }\n",
       "</style>\n",
       "<table border=\"1\" class=\"dataframe\">\n",
       "  <thead>\n",
       "    <tr style=\"text-align: right;\">\n",
       "      <th></th>\n",
       "      <th>N</th>\n",
       "      <th>P</th>\n",
       "      <th>K</th>\n",
       "      <th>temperature</th>\n",
       "      <th>humidity</th>\n",
       "      <th>ph</th>\n",
       "      <th>rainfall</th>\n",
       "      <th>label</th>\n",
       "    </tr>\n",
       "  </thead>\n",
       "  <tbody>\n",
       "  </tbody>\n",
       "</table>\n",
       "</div>"
      ],
      "text/plain": [
       "Empty DataFrame\n",
       "Columns: [N, P, K, temperature, humidity, ph, rainfall, label]\n",
       "Index: []"
      ]
     },
     "execution_count": 22,
     "metadata": {},
     "output_type": "execute_result"
    }
   ],
   "source": [
    "data.sample(frac=0)"
   ]
  },
  {
   "cell_type": "code",
   "execution_count": 23,
   "id": "83b91da0",
   "metadata": {},
   "outputs": [
    {
     "data": {
      "text/html": [
       "<div>\n",
       "<style scoped>\n",
       "    .dataframe tbody tr th:only-of-type {\n",
       "        vertical-align: middle;\n",
       "    }\n",
       "\n",
       "    .dataframe tbody tr th {\n",
       "        vertical-align: top;\n",
       "    }\n",
       "\n",
       "    .dataframe thead th {\n",
       "        text-align: right;\n",
       "    }\n",
       "</style>\n",
       "<table border=\"1\" class=\"dataframe\">\n",
       "  <thead>\n",
       "    <tr style=\"text-align: right;\">\n",
       "      <th></th>\n",
       "      <th>N</th>\n",
       "      <th>P</th>\n",
       "      <th>K</th>\n",
       "      <th>temperature</th>\n",
       "      <th>humidity</th>\n",
       "      <th>ph</th>\n",
       "      <th>rainfall</th>\n",
       "      <th>label</th>\n",
       "    </tr>\n",
       "  </thead>\n",
       "  <tbody>\n",
       "    <tr>\n",
       "      <th>472</th>\n",
       "      <td>5</td>\n",
       "      <td>68</td>\n",
       "      <td>20</td>\n",
       "      <td>18.729877</td>\n",
       "      <td>61.331862</td>\n",
       "      <td>5.001039</td>\n",
       "      <td>139.871004</td>\n",
       "      <td>pigeonpeas</td>\n",
       "    </tr>\n",
       "    <tr>\n",
       "      <th>1590</th>\n",
       "      <td>35</td>\n",
       "      <td>131</td>\n",
       "      <td>203</td>\n",
       "      <td>22.427761</td>\n",
       "      <td>93.917224</td>\n",
       "      <td>5.893491</td>\n",
       "      <td>102.723074</td>\n",
       "      <td>apple</td>\n",
       "    </tr>\n",
       "    <tr>\n",
       "      <th>756</th>\n",
       "      <td>43</td>\n",
       "      <td>68</td>\n",
       "      <td>20</td>\n",
       "      <td>29.578127</td>\n",
       "      <td>66.175877</td>\n",
       "      <td>7.497469</td>\n",
       "      <td>69.438955</td>\n",
       "      <td>blackgram</td>\n",
       "    </tr>\n",
       "    <tr>\n",
       "      <th>2012</th>\n",
       "      <td>89</td>\n",
       "      <td>41</td>\n",
       "      <td>38</td>\n",
       "      <td>23.128444</td>\n",
       "      <td>74.683227</td>\n",
       "      <td>6.344752</td>\n",
       "      <td>199.836291</td>\n",
       "      <td>jute</td>\n",
       "    </tr>\n",
       "    <tr>\n",
       "      <th>1055</th>\n",
       "      <td>107</td>\n",
       "      <td>71</td>\n",
       "      <td>55</td>\n",
       "      <td>29.420179</td>\n",
       "      <td>83.967545</td>\n",
       "      <td>6.088064</td>\n",
       "      <td>117.229079</td>\n",
       "      <td>banana</td>\n",
       "    </tr>\n",
       "    <tr>\n",
       "      <th>...</th>\n",
       "      <td>...</td>\n",
       "      <td>...</td>\n",
       "      <td>...</td>\n",
       "      <td>...</td>\n",
       "      <td>...</td>\n",
       "      <td>...</td>\n",
       "      <td>...</td>\n",
       "      <td>...</td>\n",
       "    </tr>\n",
       "    <tr>\n",
       "      <th>1627</th>\n",
       "      <td>11</td>\n",
       "      <td>14</td>\n",
       "      <td>5</td>\n",
       "      <td>11.503229</td>\n",
       "      <td>94.893318</td>\n",
       "      <td>6.946355</td>\n",
       "      <td>115.568378</td>\n",
       "      <td>orange</td>\n",
       "    </tr>\n",
       "    <tr>\n",
       "      <th>826</th>\n",
       "      <td>32</td>\n",
       "      <td>56</td>\n",
       "      <td>18</td>\n",
       "      <td>20.046771</td>\n",
       "      <td>65.843953</td>\n",
       "      <td>7.135252</td>\n",
       "      <td>46.053331</td>\n",
       "      <td>lentil</td>\n",
       "    </tr>\n",
       "    <tr>\n",
       "      <th>1324</th>\n",
       "      <td>83</td>\n",
       "      <td>29</td>\n",
       "      <td>52</td>\n",
       "      <td>25.764027</td>\n",
       "      <td>87.593113</td>\n",
       "      <td>6.704689</td>\n",
       "      <td>46.051227</td>\n",
       "      <td>watermelon</td>\n",
       "    </tr>\n",
       "    <tr>\n",
       "      <th>953</th>\n",
       "      <td>13</td>\n",
       "      <td>7</td>\n",
       "      <td>43</td>\n",
       "      <td>18.202304</td>\n",
       "      <td>91.122822</td>\n",
       "      <td>7.013482</td>\n",
       "      <td>109.662397</td>\n",
       "      <td>pomegranate</td>\n",
       "    </tr>\n",
       "    <tr>\n",
       "      <th>375</th>\n",
       "      <td>5</td>\n",
       "      <td>74</td>\n",
       "      <td>21</td>\n",
       "      <td>16.244692</td>\n",
       "      <td>21.357939</td>\n",
       "      <td>5.591704</td>\n",
       "      <td>66.970533</td>\n",
       "      <td>kidneybeans</td>\n",
       "    </tr>\n",
       "  </tbody>\n",
       "</table>\n",
       "<p>2200 rows × 8 columns</p>\n",
       "</div>"
      ],
      "text/plain": [
       "        N    P    K  temperature   humidity        ph    rainfall        label\n",
       "472     5   68   20    18.729877  61.331862  5.001039  139.871004   pigeonpeas\n",
       "1590   35  131  203    22.427761  93.917224  5.893491  102.723074        apple\n",
       "756    43   68   20    29.578127  66.175877  7.497469   69.438955    blackgram\n",
       "2012   89   41   38    23.128444  74.683227  6.344752  199.836291         jute\n",
       "1055  107   71   55    29.420179  83.967545  6.088064  117.229079       banana\n",
       "...   ...  ...  ...          ...        ...       ...         ...          ...\n",
       "1627   11   14    5    11.503229  94.893318  6.946355  115.568378       orange\n",
       "826    32   56   18    20.046771  65.843953  7.135252   46.053331       lentil\n",
       "1324   83   29   52    25.764027  87.593113  6.704689   46.051227   watermelon\n",
       "953    13    7   43    18.202304  91.122822  7.013482  109.662397  pomegranate\n",
       "375     5   74   21    16.244692  21.357939  5.591704   66.970533  kidneybeans\n",
       "\n",
       "[2200 rows x 8 columns]"
      ]
     },
     "execution_count": 23,
     "metadata": {},
     "output_type": "execute_result"
    }
   ],
   "source": [
    "data.sample(frac=1)"
   ]
  },
  {
   "cell_type": "code",
   "execution_count": 24,
   "id": "f103a3da",
   "metadata": {},
   "outputs": [
    {
     "data": {
      "text/plain": [
       "array(['rice', 'maize', 'chickpea', 'kidneybeans', 'pigeonpeas',\n",
       "       'mothbeans', 'mungbean', 'blackgram', 'lentil', 'pomegranate',\n",
       "       'banana', 'mango', 'grapes', 'watermelon', 'muskmelon', 'apple',\n",
       "       'orange', 'papaya', 'coconut', 'cotton', 'jute', 'coffee'],\n",
       "      dtype=object)"
      ]
     },
     "execution_count": 24,
     "metadata": {},
     "output_type": "execute_result"
    }
   ],
   "source": [
    "data[\"label\"].unique()"
   ]
  },
  {
   "cell_type": "code",
   "execution_count": 26,
   "id": "7edde502",
   "metadata": {},
   "outputs": [
    {
     "data": {
      "text/plain": [
       "22"
      ]
     },
     "execution_count": 26,
     "metadata": {},
     "output_type": "execute_result"
    }
   ],
   "source": [
    "data[\"label\"].nunique()"
   ]
  },
  {
   "cell_type": "code",
   "execution_count": 27,
   "id": "bf67d6c2",
   "metadata": {},
   "outputs": [
    {
     "data": {
      "text/plain": [
       "rice           100\n",
       "maize          100\n",
       "jute           100\n",
       "cotton         100\n",
       "coconut        100\n",
       "papaya         100\n",
       "orange         100\n",
       "apple          100\n",
       "muskmelon      100\n",
       "watermelon     100\n",
       "grapes         100\n",
       "mango          100\n",
       "banana         100\n",
       "pomegranate    100\n",
       "lentil         100\n",
       "blackgram      100\n",
       "mungbean       100\n",
       "mothbeans      100\n",
       "pigeonpeas     100\n",
       "kidneybeans    100\n",
       "chickpea       100\n",
       "coffee         100\n",
       "Name: label, dtype: int64"
      ]
     },
     "execution_count": 27,
     "metadata": {},
     "output_type": "execute_result"
    }
   ],
   "source": [
    "data[\"label\"].value_counts()"
   ]
  },
  {
   "cell_type": "code",
   "execution_count": 28,
   "id": "a615b61f",
   "metadata": {},
   "outputs": [
    {
     "data": {
      "text/html": [
       "<div>\n",
       "<style scoped>\n",
       "    .dataframe tbody tr th:only-of-type {\n",
       "        vertical-align: middle;\n",
       "    }\n",
       "\n",
       "    .dataframe tbody tr th {\n",
       "        vertical-align: top;\n",
       "    }\n",
       "\n",
       "    .dataframe thead th {\n",
       "        text-align: right;\n",
       "    }\n",
       "</style>\n",
       "<table border=\"1\" class=\"dataframe\">\n",
       "  <thead>\n",
       "    <tr style=\"text-align: right;\">\n",
       "      <th></th>\n",
       "      <th>N</th>\n",
       "      <th>P</th>\n",
       "      <th>K</th>\n",
       "      <th>temperature</th>\n",
       "      <th>humidity</th>\n",
       "      <th>ph</th>\n",
       "      <th>rainfall</th>\n",
       "    </tr>\n",
       "  </thead>\n",
       "  <tbody>\n",
       "    <tr>\n",
       "      <th>count</th>\n",
       "      <td>2200.000000</td>\n",
       "      <td>2200.000000</td>\n",
       "      <td>2200.000000</td>\n",
       "      <td>2200.000000</td>\n",
       "      <td>2200.000000</td>\n",
       "      <td>2200.000000</td>\n",
       "      <td>2200.000000</td>\n",
       "    </tr>\n",
       "    <tr>\n",
       "      <th>mean</th>\n",
       "      <td>50.551818</td>\n",
       "      <td>53.362727</td>\n",
       "      <td>48.149091</td>\n",
       "      <td>25.616244</td>\n",
       "      <td>71.481779</td>\n",
       "      <td>6.469480</td>\n",
       "      <td>103.463655</td>\n",
       "    </tr>\n",
       "    <tr>\n",
       "      <th>std</th>\n",
       "      <td>36.917334</td>\n",
       "      <td>32.985883</td>\n",
       "      <td>50.647931</td>\n",
       "      <td>5.063749</td>\n",
       "      <td>22.263812</td>\n",
       "      <td>0.773938</td>\n",
       "      <td>54.958389</td>\n",
       "    </tr>\n",
       "    <tr>\n",
       "      <th>min</th>\n",
       "      <td>0.000000</td>\n",
       "      <td>5.000000</td>\n",
       "      <td>5.000000</td>\n",
       "      <td>8.825675</td>\n",
       "      <td>14.258040</td>\n",
       "      <td>3.504752</td>\n",
       "      <td>20.211267</td>\n",
       "    </tr>\n",
       "    <tr>\n",
       "      <th>25%</th>\n",
       "      <td>21.000000</td>\n",
       "      <td>28.000000</td>\n",
       "      <td>20.000000</td>\n",
       "      <td>22.769375</td>\n",
       "      <td>60.261953</td>\n",
       "      <td>5.971693</td>\n",
       "      <td>64.551686</td>\n",
       "    </tr>\n",
       "    <tr>\n",
       "      <th>50%</th>\n",
       "      <td>37.000000</td>\n",
       "      <td>51.000000</td>\n",
       "      <td>32.000000</td>\n",
       "      <td>25.598693</td>\n",
       "      <td>80.473146</td>\n",
       "      <td>6.425045</td>\n",
       "      <td>94.867624</td>\n",
       "    </tr>\n",
       "    <tr>\n",
       "      <th>75%</th>\n",
       "      <td>84.250000</td>\n",
       "      <td>68.000000</td>\n",
       "      <td>49.000000</td>\n",
       "      <td>28.561654</td>\n",
       "      <td>89.948771</td>\n",
       "      <td>6.923643</td>\n",
       "      <td>124.267508</td>\n",
       "    </tr>\n",
       "    <tr>\n",
       "      <th>max</th>\n",
       "      <td>140.000000</td>\n",
       "      <td>145.000000</td>\n",
       "      <td>205.000000</td>\n",
       "      <td>43.675493</td>\n",
       "      <td>99.981876</td>\n",
       "      <td>9.935091</td>\n",
       "      <td>298.560117</td>\n",
       "    </tr>\n",
       "  </tbody>\n",
       "</table>\n",
       "</div>"
      ],
      "text/plain": [
       "                 N            P            K  temperature     humidity  \\\n",
       "count  2200.000000  2200.000000  2200.000000  2200.000000  2200.000000   \n",
       "mean     50.551818    53.362727    48.149091    25.616244    71.481779   \n",
       "std      36.917334    32.985883    50.647931     5.063749    22.263812   \n",
       "min       0.000000     5.000000     5.000000     8.825675    14.258040   \n",
       "25%      21.000000    28.000000    20.000000    22.769375    60.261953   \n",
       "50%      37.000000    51.000000    32.000000    25.598693    80.473146   \n",
       "75%      84.250000    68.000000    49.000000    28.561654    89.948771   \n",
       "max     140.000000   145.000000   205.000000    43.675493    99.981876   \n",
       "\n",
       "                ph     rainfall  \n",
       "count  2200.000000  2200.000000  \n",
       "mean      6.469480   103.463655  \n",
       "std       0.773938    54.958389  \n",
       "min       3.504752    20.211267  \n",
       "25%       5.971693    64.551686  \n",
       "50%       6.425045    94.867624  \n",
       "75%       6.923643   124.267508  \n",
       "max       9.935091   298.560117  "
      ]
     },
     "execution_count": 28,
     "metadata": {},
     "output_type": "execute_result"
    }
   ],
   "source": [
    "data.describe()"
   ]
  },
  {
   "cell_type": "code",
   "execution_count": 29,
   "id": "afd72e7b",
   "metadata": {},
   "outputs": [
    {
     "data": {
      "text/html": [
       "<div>\n",
       "<style scoped>\n",
       "    .dataframe tbody tr th:only-of-type {\n",
       "        vertical-align: middle;\n",
       "    }\n",
       "\n",
       "    .dataframe tbody tr th {\n",
       "        vertical-align: top;\n",
       "    }\n",
       "\n",
       "    .dataframe thead th {\n",
       "        text-align: right;\n",
       "    }\n",
       "</style>\n",
       "<table border=\"1\" class=\"dataframe\">\n",
       "  <thead>\n",
       "    <tr style=\"text-align: right;\">\n",
       "      <th></th>\n",
       "      <th>count</th>\n",
       "      <th>mean</th>\n",
       "      <th>std</th>\n",
       "      <th>min</th>\n",
       "      <th>25%</th>\n",
       "      <th>50%</th>\n",
       "      <th>75%</th>\n",
       "      <th>max</th>\n",
       "    </tr>\n",
       "  </thead>\n",
       "  <tbody>\n",
       "    <tr>\n",
       "      <th>N</th>\n",
       "      <td>2200.0</td>\n",
       "      <td>50.551818</td>\n",
       "      <td>36.917334</td>\n",
       "      <td>0.000000</td>\n",
       "      <td>21.000000</td>\n",
       "      <td>37.000000</td>\n",
       "      <td>84.250000</td>\n",
       "      <td>140.000000</td>\n",
       "    </tr>\n",
       "    <tr>\n",
       "      <th>P</th>\n",
       "      <td>2200.0</td>\n",
       "      <td>53.362727</td>\n",
       "      <td>32.985883</td>\n",
       "      <td>5.000000</td>\n",
       "      <td>28.000000</td>\n",
       "      <td>51.000000</td>\n",
       "      <td>68.000000</td>\n",
       "      <td>145.000000</td>\n",
       "    </tr>\n",
       "    <tr>\n",
       "      <th>K</th>\n",
       "      <td>2200.0</td>\n",
       "      <td>48.149091</td>\n",
       "      <td>50.647931</td>\n",
       "      <td>5.000000</td>\n",
       "      <td>20.000000</td>\n",
       "      <td>32.000000</td>\n",
       "      <td>49.000000</td>\n",
       "      <td>205.000000</td>\n",
       "    </tr>\n",
       "    <tr>\n",
       "      <th>temperature</th>\n",
       "      <td>2200.0</td>\n",
       "      <td>25.616244</td>\n",
       "      <td>5.063749</td>\n",
       "      <td>8.825675</td>\n",
       "      <td>22.769375</td>\n",
       "      <td>25.598693</td>\n",
       "      <td>28.561654</td>\n",
       "      <td>43.675493</td>\n",
       "    </tr>\n",
       "    <tr>\n",
       "      <th>humidity</th>\n",
       "      <td>2200.0</td>\n",
       "      <td>71.481779</td>\n",
       "      <td>22.263812</td>\n",
       "      <td>14.258040</td>\n",
       "      <td>60.261953</td>\n",
       "      <td>80.473146</td>\n",
       "      <td>89.948771</td>\n",
       "      <td>99.981876</td>\n",
       "    </tr>\n",
       "    <tr>\n",
       "      <th>ph</th>\n",
       "      <td>2200.0</td>\n",
       "      <td>6.469480</td>\n",
       "      <td>0.773938</td>\n",
       "      <td>3.504752</td>\n",
       "      <td>5.971693</td>\n",
       "      <td>6.425045</td>\n",
       "      <td>6.923643</td>\n",
       "      <td>9.935091</td>\n",
       "    </tr>\n",
       "    <tr>\n",
       "      <th>rainfall</th>\n",
       "      <td>2200.0</td>\n",
       "      <td>103.463655</td>\n",
       "      <td>54.958389</td>\n",
       "      <td>20.211267</td>\n",
       "      <td>64.551686</td>\n",
       "      <td>94.867624</td>\n",
       "      <td>124.267508</td>\n",
       "      <td>298.560117</td>\n",
       "    </tr>\n",
       "  </tbody>\n",
       "</table>\n",
       "</div>"
      ],
      "text/plain": [
       "              count        mean        std        min        25%        50%  \\\n",
       "N            2200.0   50.551818  36.917334   0.000000  21.000000  37.000000   \n",
       "P            2200.0   53.362727  32.985883   5.000000  28.000000  51.000000   \n",
       "K            2200.0   48.149091  50.647931   5.000000  20.000000  32.000000   \n",
       "temperature  2200.0   25.616244   5.063749   8.825675  22.769375  25.598693   \n",
       "humidity     2200.0   71.481779  22.263812  14.258040  60.261953  80.473146   \n",
       "ph           2200.0    6.469480   0.773938   3.504752   5.971693   6.425045   \n",
       "rainfall     2200.0  103.463655  54.958389  20.211267  64.551686  94.867624   \n",
       "\n",
       "                    75%         max  \n",
       "N             84.250000  140.000000  \n",
       "P             68.000000  145.000000  \n",
       "K             49.000000  205.000000  \n",
       "temperature   28.561654   43.675493  \n",
       "humidity      89.948771   99.981876  \n",
       "ph             6.923643    9.935091  \n",
       "rainfall     124.267508  298.560117  "
      ]
     },
     "execution_count": 29,
     "metadata": {},
     "output_type": "execute_result"
    }
   ],
   "source": [
    "data.describe().T"
   ]
  },
  {
   "cell_type": "code",
   "execution_count": 39,
   "id": "891998ae",
   "metadata": {},
   "outputs": [
    {
     "name": "stdout",
     "output_type": "stream",
     "text": [
      "summer Crop\n",
      "['pigeonpeas' 'mothbeans' 'blackgram' 'mango' 'grapes' 'orange' 'papaya']\n"
     ]
    }
   ],
   "source": [
    "print(\"summer Crop\")\n",
    "print(data[(data[\"temperature\"]>30)&(data[\"humidity\"]>50)][\"label\"].unique())"
   ]
  },
  {
   "cell_type": "code",
   "execution_count": 51,
   "id": "8b7fa039",
   "metadata": {},
   "outputs": [
    {
     "name": "stdout",
     "output_type": "stream",
     "text": [
      "     N   P   K  temperature   humidity        ph    rainfall label\n",
      "0   90  42  43    20.879744  82.002744  6.502985  202.935536  rice\n",
      "1   85  58  41    21.770462  80.319644  7.038096  226.655537  rice\n",
      "2   60  55  44    23.004459  82.320763  7.840207  263.964248  rice\n",
      "3   74  35  40    26.491096  80.158363  6.980401  242.864034  rice\n",
      "4   78  42  42    20.130175  81.604873  7.628473  262.717340  rice\n",
      "..  ..  ..  ..          ...        ...       ...         ...   ...\n",
      "95  88  46  42    22.683191  83.463583  6.604993  194.265172  rice\n",
      "96  93  47  37    21.533463  82.140041  6.500343  295.924880  rice\n",
      "97  60  55  45    21.408658  83.329319  5.935745  287.576693  rice\n",
      "98  78  35  44    26.543481  84.673536  7.072656  183.622266  rice\n",
      "99  65  37  40    23.359054  83.595123  5.333323  188.413665  rice\n",
      "\n",
      "[100 rows x 8 columns]\n"
     ]
    }
   ],
   "source": [
    "print(data[(data[\"label\"]==\"rice\")])\n",
    "\n"
   ]
  },
  {
   "cell_type": "code",
   "execution_count": 55,
   "id": "98ee1831",
   "metadata": {},
   "outputs": [
    {
     "data": {
      "text/html": [
       "<div>\n",
       "<style scoped>\n",
       "    .dataframe tbody tr th:only-of-type {\n",
       "        vertical-align: middle;\n",
       "    }\n",
       "\n",
       "    .dataframe tbody tr th {\n",
       "        vertical-align: top;\n",
       "    }\n",
       "\n",
       "    .dataframe thead th {\n",
       "        text-align: right;\n",
       "    }\n",
       "</style>\n",
       "<table border=\"1\" class=\"dataframe\">\n",
       "  <thead>\n",
       "    <tr style=\"text-align: right;\">\n",
       "      <th></th>\n",
       "      <th>K</th>\n",
       "      <th>N</th>\n",
       "      <th>P</th>\n",
       "      <th>humidity</th>\n",
       "      <th>ph</th>\n",
       "      <th>rainfall</th>\n",
       "      <th>temperature</th>\n",
       "    </tr>\n",
       "    <tr>\n",
       "      <th>label</th>\n",
       "      <th></th>\n",
       "      <th></th>\n",
       "      <th></th>\n",
       "      <th></th>\n",
       "      <th></th>\n",
       "      <th></th>\n",
       "      <th></th>\n",
       "    </tr>\n",
       "  </thead>\n",
       "  <tbody>\n",
       "    <tr>\n",
       "      <th>apple</th>\n",
       "      <td>195</td>\n",
       "      <td>0</td>\n",
       "      <td>120</td>\n",
       "      <td>90.025751</td>\n",
       "      <td>5.514253</td>\n",
       "      <td>100.117344</td>\n",
       "      <td>21.036527</td>\n",
       "    </tr>\n",
       "    <tr>\n",
       "      <th>banana</th>\n",
       "      <td>45</td>\n",
       "      <td>80</td>\n",
       "      <td>70</td>\n",
       "      <td>75.031933</td>\n",
       "      <td>5.505394</td>\n",
       "      <td>90.109781</td>\n",
       "      <td>25.010185</td>\n",
       "    </tr>\n",
       "    <tr>\n",
       "      <th>blackgram</th>\n",
       "      <td>15</td>\n",
       "      <td>20</td>\n",
       "      <td>55</td>\n",
       "      <td>60.065349</td>\n",
       "      <td>6.500145</td>\n",
       "      <td>60.417903</td>\n",
       "      <td>25.097374</td>\n",
       "    </tr>\n",
       "    <tr>\n",
       "      <th>chickpea</th>\n",
       "      <td>75</td>\n",
       "      <td>20</td>\n",
       "      <td>55</td>\n",
       "      <td>14.258040</td>\n",
       "      <td>5.988993</td>\n",
       "      <td>65.113656</td>\n",
       "      <td>17.024985</td>\n",
       "    </tr>\n",
       "    <tr>\n",
       "      <th>coconut</th>\n",
       "      <td>25</td>\n",
       "      <td>0</td>\n",
       "      <td>5</td>\n",
       "      <td>90.017345</td>\n",
       "      <td>5.501580</td>\n",
       "      <td>131.090008</td>\n",
       "      <td>25.008724</td>\n",
       "    </tr>\n",
       "    <tr>\n",
       "      <th>coffee</th>\n",
       "      <td>25</td>\n",
       "      <td>80</td>\n",
       "      <td>15</td>\n",
       "      <td>50.045570</td>\n",
       "      <td>6.020947</td>\n",
       "      <td>115.156401</td>\n",
       "      <td>23.059519</td>\n",
       "    </tr>\n",
       "    <tr>\n",
       "      <th>cotton</th>\n",
       "      <td>15</td>\n",
       "      <td>100</td>\n",
       "      <td>35</td>\n",
       "      <td>75.005393</td>\n",
       "      <td>5.801048</td>\n",
       "      <td>60.653817</td>\n",
       "      <td>22.000851</td>\n",
       "    </tr>\n",
       "    <tr>\n",
       "      <th>grapes</th>\n",
       "      <td>195</td>\n",
       "      <td>0</td>\n",
       "      <td>120</td>\n",
       "      <td>80.016394</td>\n",
       "      <td>5.510925</td>\n",
       "      <td>65.010953</td>\n",
       "      <td>8.825675</td>\n",
       "    </tr>\n",
       "    <tr>\n",
       "      <th>jute</th>\n",
       "      <td>35</td>\n",
       "      <td>60</td>\n",
       "      <td>35</td>\n",
       "      <td>70.882596</td>\n",
       "      <td>6.002525</td>\n",
       "      <td>150.235524</td>\n",
       "      <td>23.094338</td>\n",
       "    </tr>\n",
       "    <tr>\n",
       "      <th>kidneybeans</th>\n",
       "      <td>15</td>\n",
       "      <td>0</td>\n",
       "      <td>55</td>\n",
       "      <td>18.092240</td>\n",
       "      <td>5.502999</td>\n",
       "      <td>60.275525</td>\n",
       "      <td>15.330426</td>\n",
       "    </tr>\n",
       "    <tr>\n",
       "      <th>lentil</th>\n",
       "      <td>15</td>\n",
       "      <td>0</td>\n",
       "      <td>55</td>\n",
       "      <td>60.091166</td>\n",
       "      <td>5.916454</td>\n",
       "      <td>35.034848</td>\n",
       "      <td>18.064861</td>\n",
       "    </tr>\n",
       "    <tr>\n",
       "      <th>maize</th>\n",
       "      <td>15</td>\n",
       "      <td>60</td>\n",
       "      <td>35</td>\n",
       "      <td>55.282204</td>\n",
       "      <td>5.513698</td>\n",
       "      <td>60.651715</td>\n",
       "      <td>18.041855</td>\n",
       "    </tr>\n",
       "    <tr>\n",
       "      <th>mango</th>\n",
       "      <td>25</td>\n",
       "      <td>0</td>\n",
       "      <td>15</td>\n",
       "      <td>45.022364</td>\n",
       "      <td>4.507524</td>\n",
       "      <td>89.291476</td>\n",
       "      <td>27.003155</td>\n",
       "    </tr>\n",
       "    <tr>\n",
       "      <th>mothbeans</th>\n",
       "      <td>15</td>\n",
       "      <td>0</td>\n",
       "      <td>35</td>\n",
       "      <td>40.009334</td>\n",
       "      <td>3.504752</td>\n",
       "      <td>30.920140</td>\n",
       "      <td>24.018254</td>\n",
       "    </tr>\n",
       "    <tr>\n",
       "      <th>mungbean</th>\n",
       "      <td>15</td>\n",
       "      <td>0</td>\n",
       "      <td>35</td>\n",
       "      <td>80.034996</td>\n",
       "      <td>6.218924</td>\n",
       "      <td>36.120429</td>\n",
       "      <td>27.014704</td>\n",
       "    </tr>\n",
       "    <tr>\n",
       "      <th>muskmelon</th>\n",
       "      <td>45</td>\n",
       "      <td>80</td>\n",
       "      <td>5</td>\n",
       "      <td>90.015064</td>\n",
       "      <td>6.002927</td>\n",
       "      <td>20.211267</td>\n",
       "      <td>27.024151</td>\n",
       "    </tr>\n",
       "    <tr>\n",
       "      <th>orange</th>\n",
       "      <td>5</td>\n",
       "      <td>0</td>\n",
       "      <td>5</td>\n",
       "      <td>90.006217</td>\n",
       "      <td>6.010392</td>\n",
       "      <td>100.173796</td>\n",
       "      <td>10.010813</td>\n",
       "    </tr>\n",
       "    <tr>\n",
       "      <th>papaya</th>\n",
       "      <td>45</td>\n",
       "      <td>31</td>\n",
       "      <td>46</td>\n",
       "      <td>90.038631</td>\n",
       "      <td>6.501521</td>\n",
       "      <td>40.351531</td>\n",
       "      <td>23.012402</td>\n",
       "    </tr>\n",
       "    <tr>\n",
       "      <th>pigeonpeas</th>\n",
       "      <td>15</td>\n",
       "      <td>0</td>\n",
       "      <td>55</td>\n",
       "      <td>30.400468</td>\n",
       "      <td>4.548202</td>\n",
       "      <td>90.054227</td>\n",
       "      <td>18.319104</td>\n",
       "    </tr>\n",
       "    <tr>\n",
       "      <th>pomegranate</th>\n",
       "      <td>35</td>\n",
       "      <td>0</td>\n",
       "      <td>5</td>\n",
       "      <td>85.129122</td>\n",
       "      <td>5.561852</td>\n",
       "      <td>102.518476</td>\n",
       "      <td>18.071330</td>\n",
       "    </tr>\n",
       "    <tr>\n",
       "      <th>rice</th>\n",
       "      <td>35</td>\n",
       "      <td>60</td>\n",
       "      <td>35</td>\n",
       "      <td>80.122675</td>\n",
       "      <td>5.005307</td>\n",
       "      <td>182.561632</td>\n",
       "      <td>20.045414</td>\n",
       "    </tr>\n",
       "    <tr>\n",
       "      <th>watermelon</th>\n",
       "      <td>45</td>\n",
       "      <td>80</td>\n",
       "      <td>5</td>\n",
       "      <td>80.026213</td>\n",
       "      <td>6.000976</td>\n",
       "      <td>40.126504</td>\n",
       "      <td>24.043558</td>\n",
       "    </tr>\n",
       "  </tbody>\n",
       "</table>\n",
       "</div>"
      ],
      "text/plain": [
       "               K    N    P   humidity        ph    rainfall  temperature\n",
       "label                                                                   \n",
       "apple        195    0  120  90.025751  5.514253  100.117344    21.036527\n",
       "banana        45   80   70  75.031933  5.505394   90.109781    25.010185\n",
       "blackgram     15   20   55  60.065349  6.500145   60.417903    25.097374\n",
       "chickpea      75   20   55  14.258040  5.988993   65.113656    17.024985\n",
       "coconut       25    0    5  90.017345  5.501580  131.090008    25.008724\n",
       "coffee        25   80   15  50.045570  6.020947  115.156401    23.059519\n",
       "cotton        15  100   35  75.005393  5.801048   60.653817    22.000851\n",
       "grapes       195    0  120  80.016394  5.510925   65.010953     8.825675\n",
       "jute          35   60   35  70.882596  6.002525  150.235524    23.094338\n",
       "kidneybeans   15    0   55  18.092240  5.502999   60.275525    15.330426\n",
       "lentil        15    0   55  60.091166  5.916454   35.034848    18.064861\n",
       "maize         15   60   35  55.282204  5.513698   60.651715    18.041855\n",
       "mango         25    0   15  45.022364  4.507524   89.291476    27.003155\n",
       "mothbeans     15    0   35  40.009334  3.504752   30.920140    24.018254\n",
       "mungbean      15    0   35  80.034996  6.218924   36.120429    27.014704\n",
       "muskmelon     45   80    5  90.015064  6.002927   20.211267    27.024151\n",
       "orange         5    0    5  90.006217  6.010392  100.173796    10.010813\n",
       "papaya        45   31   46  90.038631  6.501521   40.351531    23.012402\n",
       "pigeonpeas    15    0   55  30.400468  4.548202   90.054227    18.319104\n",
       "pomegranate   35    0    5  85.129122  5.561852  102.518476    18.071330\n",
       "rice          35   60   35  80.122675  5.005307  182.561632    20.045414\n",
       "watermelon    45   80    5  80.026213  6.000976   40.126504    24.043558"
      ]
     },
     "execution_count": 55,
     "metadata": {},
     "output_type": "execute_result"
    }
   ],
   "source": [
    "pd.pivot_table(data, index=[\"label\"], aggfunc=\"min\")"
   ]
  },
  {
   "cell_type": "code",
   "execution_count": null,
   "id": "5e2ffbac",
   "metadata": {},
   "outputs": [],
   "source": []
  }
 ],
 "metadata": {
  "kernelspec": {
   "display_name": "Python 3 (ipykernel)",
   "language": "python",
   "name": "python3"
  },
  "language_info": {
   "codemirror_mode": {
    "name": "ipython",
    "version": 3
   },
   "file_extension": ".py",
   "mimetype": "text/x-python",
   "name": "python",
   "nbconvert_exporter": "python",
   "pygments_lexer": "ipython3",
   "version": "3.7.8"
  }
 },
 "nbformat": 4,
 "nbformat_minor": 5
}
