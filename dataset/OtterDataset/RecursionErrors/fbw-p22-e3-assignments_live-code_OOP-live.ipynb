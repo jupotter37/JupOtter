{
 "cells": [
  {
   "cell_type": "markdown",
   "metadata": {},
   "source": [
    "# OOP in Practice\n",
    "\n",
    "## Abstract class\n",
    "Sometimes, it can be desirable to define a class that only serves as a base class and are not meant to be instantiated.\n",
    "- we call these classes abstract classes"
   ]
  },
  {
   "cell_type": "code",
   "execution_count": 79,
   "metadata": {},
   "outputs": [
    {
     "name": "stdout",
     "output_type": "stream",
     "text": [
      "None\n"
     ]
    }
   ],
   "source": [
    "class Animal:\n",
    "    def reproduce(self):\n",
    "        pass\n",
    "\n",
    "class Whale(Animal):\n",
    "    def reproduce(self):\n",
    "        return Whale()\n",
    "\n",
    "willy = Animal()\n",
    "print(willy.reproduce())"
   ]
  },
  {
   "cell_type": "code",
   "execution_count": 80,
   "metadata": {},
   "outputs": [
    {
     "ename": "TypeError",
     "evalue": "Can't instantiate abstract class Animal with abstract method reproduce",
     "output_type": "error",
     "traceback": [
      "\u001b[0;31m---------------------------------------------------------------------------\u001b[0m",
      "\u001b[0;31mTypeError\u001b[0m                                 Traceback (most recent call last)",
      "Cell \u001b[0;32mIn [80], line 12\u001b[0m\n\u001b[1;32m      9\u001b[0m     \u001b[39mdef\u001b[39;00m \u001b[39mreproduce\u001b[39m(\u001b[39mself\u001b[39m):\n\u001b[1;32m     10\u001b[0m         \u001b[39mreturn\u001b[39;00m Whale()\n\u001b[0;32m---> 12\u001b[0m willy \u001b[39m=\u001b[39m Animal()\n\u001b[1;32m     13\u001b[0m \u001b[39mprint\u001b[39m(willy\u001b[39m.\u001b[39mreproduce())\n",
      "\u001b[0;31mTypeError\u001b[0m: Can't instantiate abstract class Animal with abstract method reproduce"
     ]
    }
   ],
   "source": [
    "from abc import ABC, abstractmethod\n",
    "\n",
    "class Animal(ABC):\n",
    "    @abstractmethod\n",
    "    def reproduce(self):\n",
    "        pass\n",
    "\n",
    "class Whale(Animal):\n",
    "    def reproduce(self):\n",
    "        return Whale()\n",
    "\n",
    "willy = Animal()\n",
    "print(willy.reproduce())"
   ]
  },
  {
   "cell_type": "code",
   "execution_count": null,
   "metadata": {},
   "outputs": [
    {
     "ename": "TypeError",
     "evalue": "Can't instantiate abstract class Whale with abstract method reproduce",
     "output_type": "error",
     "traceback": [
      "\u001b[0;31m---------------------------------------------------------------------------\u001b[0m",
      "\u001b[0;31mTypeError\u001b[0m                                 Traceback (most recent call last)",
      "Cell \u001b[0;32mIn [4], line 11\u001b[0m\n\u001b[1;32m      8\u001b[0m \u001b[39mclass\u001b[39;00m \u001b[39mWhale\u001b[39;00m(Animal):\n\u001b[1;32m      9\u001b[0m     \u001b[39mpass\u001b[39;00m\n\u001b[0;32m---> 11\u001b[0m willy \u001b[39m=\u001b[39m Whale()\n\u001b[1;32m     12\u001b[0m \u001b[39mprint\u001b[39m(willy\u001b[39m.\u001b[39mreproduce())\n",
      "\u001b[0;31mTypeError\u001b[0m: Can't instantiate abstract class Whale with abstract method reproduce"
     ]
    }
   ],
   "source": [
    "from abc import ABC, abstractmethod\n",
    "\n",
    "class Animal(ABC):\n",
    "    @abstractmethod\n",
    "    def reproduce(self):\n",
    "        pass\n",
    "\n",
    "class Whale(Animal):\n",
    "    pass\n",
    "\n",
    "willy = Whale()\n",
    "print(willy.reproduce())"
   ]
  },
  {
   "cell_type": "markdown",
   "metadata": {},
   "source": [
    "Abstract methods must be overwritten by methods from a subclass:t be overwritten by methods from a subclass:"
   ]
  },
  {
   "cell_type": "code",
   "execution_count": null,
   "metadata": {},
   "outputs": [
    {
     "ename": "TypeError",
     "evalue": "Can't instantiate abstract class Dog with abstract method reproduce",
     "output_type": "error",
     "traceback": [
      "\u001b[0;31m---------------------------------------------------------------------------\u001b[0m",
      "\u001b[0;31mTypeError\u001b[0m                                 Traceback (most recent call last)",
      "Cell \u001b[0;32mIn [16], line 25\u001b[0m\n\u001b[1;32m     22\u001b[0m     \u001b[39mdef\u001b[39;00m \u001b[39mwalking\u001b[39m(\u001b[39mself\u001b[39m):\n\u001b[1;32m     23\u001b[0m          \u001b[39mreturn\u001b[39;00m \u001b[39msuper\u001b[39m()\u001b[39m.\u001b[39mwalking()\n\u001b[0;32m---> 25\u001b[0m willy \u001b[39m=\u001b[39m Dog()\n\u001b[1;32m     26\u001b[0m \u001b[39mprint\u001b[39m(willy\u001b[39m.\u001b[39mbark())\n\u001b[1;32m     27\u001b[0m willy\u001b[39m.\u001b[39mwalking()\n",
      "\u001b[0;31mTypeError\u001b[0m: Can't instantiate abstract class Dog with abstract method reproduce"
     ]
    }
   ],
   "source": [
    "class Animal(ABC):\n",
    "    @abstractmethod\n",
    "    def reproduce(self):\n",
    "        pass\n",
    "        \n",
    "    #@abstractmethod\n",
    "    def walking(self):\n",
    "        return 'walks'\n",
    "\n",
    "class Whale(Animal):\n",
    "    def reproduce(self):\n",
    "        return Whale()\n",
    "\n",
    "class Dog(Animal):\n",
    "    def bark(self):\n",
    "        print('barking')\n",
    "        return 'Bla'\n",
    "\n",
    "    # def reproduce(self):\n",
    "    #     return Dog()\n",
    "\n",
    "    def walking(self):\n",
    "         return super().walking()\n",
    "\n",
    "willy = Dog()\n",
    "print(willy.bark())\n",
    "willy.walking()"
   ]
  },
  {
   "cell_type": "markdown",
   "metadata": {},
   "source": [
    "Singleton Pattern\n",
    "\n",
    "- A singleton pattern is a class where only one instance is ever created\n",
    "- can be used instead of global variables\n",
    "- This means that they act as global scope manager\n",
    "\n",
    "Example:\n",
    "- unique school\n",
    "- has teachers and students\n",
    "\n",
    "```\n",
    "school1 = School(1)\n",
    "school2 = School(2000)\n",
    "print(id(school1) == id(school2))  //TRUE"
   ]
  },
  {
   "cell_type": "code",
   "execution_count": null,
   "metadata": {},
   "outputs": [],
   "source": []
  },
  {
   "cell_type": "code",
   "execution_count": null,
   "metadata": {},
   "outputs": [
    {
     "name": "stdout",
     "output_type": "stream",
     "text": [
      "1 I AM NEW!!\n"
     ]
    },
    {
     "ename": "AttributeError",
     "evalue": "'NoneType' object has no attribute 'population'",
     "output_type": "error",
     "traceback": [
      "\u001b[0;31m---------------------------------------------------------------------------\u001b[0m",
      "\u001b[0;31mAttributeError\u001b[0m                            Traceback (most recent call last)",
      "Cell \u001b[0;32mIn [30], line 14\u001b[0m\n\u001b[1;32m      8\u001b[0m         \u001b[39mprint\u001b[39m(population, \u001b[39m'\u001b[39m\u001b[39mI AM NEW!!\u001b[39m\u001b[39m'\u001b[39m)\n\u001b[1;32m     12\u001b[0m school1 \u001b[39m=\u001b[39m School(\u001b[39m1\u001b[39m)\n\u001b[0;32m---> 14\u001b[0m school1\u001b[39m.\u001b[39;49mpopulation\n",
      "\u001b[0;31mAttributeError\u001b[0m: 'NoneType' object has no attribute 'population'"
     ]
    }
   ],
   "source": [
    "class School:\n",
    "\n",
    "    def __init__(self, population):\n",
    "        self.population = population\n",
    "        print(self.population, 'in __init__')\n",
    "\n",
    "    def __new__(cls, population):\n",
    "        print(population, 'I AM NEW!!')\n",
    "\n",
    "\n",
    "\n",
    "school1 = School(1)\n",
    "\n",
    "school1.population"
   ]
  },
  {
   "cell_type": "code",
   "execution_count": null,
   "metadata": {},
   "outputs": [
    {
     "name": "stdout",
     "output_type": "stream",
     "text": [
      "True\n",
      "True\n"
     ]
    }
   ],
   "source": [
    "instance = None\n",
    "\n",
    "print(not None) # because None is falsy\n",
    "print(None == None)"
   ]
  },
  {
   "cell_type": "code",
   "execution_count": null,
   "metadata": {},
   "outputs": [
    {
     "name": "stdout",
     "output_type": "stream",
     "text": [
      "INSTANCE School(1)\n",
      "INSTANCE School(1)\n"
     ]
    }
   ],
   "source": [
    "class School:\n",
    "    class __School:\n",
    "        def __init__(self, population) -> None:\n",
    "            self.population = population\n",
    "\n",
    "        def __str__(self):\n",
    "            return f\"School({self.population})\"\n",
    "\n",
    "        def add_popu(self, population):\n",
    "            self.population += population\n",
    "\n",
    "    __instance = None\n",
    "\n",
    "    def __new__(cls, population):\n",
    "        # if not cls.__instance:\n",
    "    \n",
    "        if cls.__instance == None:\n",
    "            cls.__instance = cls.__School(population)\n",
    "        print('INSTANCE',cls.__instance)\n",
    "        return cls.__instance\n",
    "\n",
    "school1 = School(1)\n",
    "# print(id(school1))\n",
    "school2 = School(2000)\n",
    "# print(id(school2))\n",
    "\n",
    "# print(school1)\n",
    "# print(school2)\n",
    "\n",
    "# school1.add_popu(100)\n",
    "# school2.population"
   ]
  },
  {
   "cell_type": "markdown",
   "metadata": {},
   "source": [
    "## @Singleton Decorator\n",
    "\n",
    "## Recap Decorator\n",
    "- a decorator takes a *func* as an argument; *func* is a free variable, which are used in closures"
   ]
  },
  {
   "cell_type": "code",
   "execution_count": null,
   "metadata": {},
   "outputs": [],
   "source": [
    "def singleton(class_):\n",
    "    instances = {}\n",
    "    def inner(*args, **kwargs):\n",
    "        if class_ not in instances:\n",
    "            instances[class_] = class_(*args, **kwargs)\n",
    "            print(instances)\n",
    "        return instances[class_]\n",
    "    return inner\n",
    "\n",
    "@singleton\n",
    "class FirstClass:\n",
    "    def __init__(self, m):\n",
    "        self.m = m\n",
    "\n",
    "    def get_m(self):\n",
    "        return self.m\n",
    "\n",
    "# FirstClass = singleton(FirstClass)\n",
    "\n",
    "# print(FirstClass)\n",
    "\n",
    "a = FirstClass(1)   # class_(*args, **kwargs)\n",
    "b = FirstClass(23)\n",
    "\n",
    "# print(a)\n",
    "# print(id(a), id(b))\n",
    "\n",
    "@singleton\n",
    "class SecondClass:\n",
    "    def __init__(self):\n",
    "        self.val = 0\n",
    "\n",
    "d = SecondClass()"
   ]
  },
  {
   "cell_type": "markdown",
   "metadata": {},
   "source": [
    "## Class Decorators\n",
    "\n",
    "- an instance of an class can behave like a function by call the __ call__ method\n",
    "- () invocation operator\n",
    "__ call__:"
   ]
  },
  {
   "cell_type": "code",
   "execution_count": null,
   "metadata": {},
   "outputs": [],
   "source": [
    "def power_of_2(func):\n",
    "    def inner(*args, **kwargs):\n",
    "        result = func(*args, **kwargs)\n",
    "        return result ** 2\n",
    "    return inner"
   ]
  },
  {
   "cell_type": "code",
   "execution_count": null,
   "metadata": {},
   "outputs": [],
   "source": [
    "class PowerOf2:\n",
    "    def __init__(self, func):\n",
    "        self._func = func\n",
    "\n",
    "    def __call__(self, *args, **kwargs):\n",
    "        return self._func(*args, **kwargs) ** 2\n",
    "\n",
    "@PowerOf2\n",
    "@PowerOf2\n",
    "def add(a,b):\n",
    "    return a + b\n",
    "\n",
    "add(1,1)"
   ]
  },
  {
   "cell_type": "markdown",
   "metadata": {},
   "source": [
    "## Version 3 of the Singleton Pattern"
   ]
  },
  {
   "cell_type": "code",
   "execution_count": null,
   "metadata": {},
   "outputs": [],
   "source": [
    "#Version 2\n",
    "def singleton(class_):\n",
    "    instances = {}\n",
    "    def inner(*args, **kwargs):\n",
    "        if class_ not in instances:\n",
    "            instances[class_] = class_(*args, **kwargs)\n",
    "            print(instances)\n",
    "        return instances[class_]\n",
    "    return inner"
   ]
  },
  {
   "cell_type": "code",
   "execution_count": null,
   "metadata": {},
   "outputs": [],
   "source": [
    "class Singleton:\n",
    "    _instances = {}\n",
    "\n",
    "    def __init__(self, class_):\n",
    "        self._class = class_      # Singelton(CLASSNAME)\n",
    "\n",
    "    def __call__(self, *args, **kwargs): # INSTANCE ()\n",
    "        if self._class not in self._instances:\n",
    "            self._instances[self._class] = self._class(*args, **kwargs)\n",
    "        return self._instances[self._class]\n",
    "\n",
    "\n",
    "# @Singleton\n",
    "class FirstClass:\n",
    "    def __init__(self, m) -> None:\n",
    "        self.m = m\n",
    "\n",
    "FirstClass = Singleton(FirstClass) # here the __init__ of the Singleton class is triggered\n",
    "\n",
    "a = FirstClass(1) # here the __call__ is triggered \n",
    "#and only if no instance of FirstClass has been created a new FirstClass instance is created and returned\n",
    "# the creation of the FirstClass Instance has triggered __init_ of FirstClass\n",
    "b = FirstClass(23)\n",
    "\n",
    "@Singleton\n",
    "class SecondClass:\n",
    "    def __init__(self) -> None:\n",
    "        self.m = 1\n",
    "\n",
    "c = SecondClass()\n",
    "# print(id(a), id(b))\n",
    "print(Singleton._instances)"
   ]
  },
  {
   "cell_type": "markdown",
   "metadata": {},
   "source": [
    "## Factory Pattern\n",
    "\n",
    "\n",
    "- a factory is a function that returns instances of different classes\n",
    "- Factory Method allows to create an instance of a class"
   ]
  },
  {
   "cell_type": "code",
   "execution_count": null,
   "metadata": {},
   "outputs": [],
   "source": [
    "class FrenchLocalizer:\n",
    "\n",
    "    def __init__(self):\n",
    "        self.translation = {\"car\": \"voiture\", \"bike\": \"bicyclette\",\n",
    "                             \"cycle\":\"cyclette\"}\n",
    "    def localize(self, msg):\n",
    "        return self.translation.get(msg, msg)\n",
    "\n",
    "class SpanishLocalizer:\n",
    "\n",
    "    def __init__(self):\n",
    "        self.translation = {\"car\": \"coche\", \"bike\": \"bicicleta\",\n",
    "                             \"cycle\":\"ciclo\"}\n",
    "    def localize(self, msg):\n",
    "        return self.translation.get(msg, msg)\n",
    "\n",
    "class EnglishLocalizer:\n",
    "\n",
    "    def localize(self, msg):\n",
    "        return msg\n",
    "\n",
    "f = FrenchLocalizer()\n",
    "e = EnglishLocalizer()\n",
    "s = SpanishLocalizer()\n",
    "\n",
    "words = ['car', 'bicycle', 'cycle']\n",
    "\n",
    "for word in words:\n",
    "    print('*********')\n",
    "    print(word)\n",
    "    print('*********')\n",
    "    print(f.localize(word))\n",
    "    print(e.localize(word))\n",
    "    print(s.localize(word))"
   ]
  },
  {
   "cell_type": "code",
   "execution_count": null,
   "metadata": {},
   "outputs": [],
   "source": [
    "def factory(language=\"English\"):\n",
    "    localizer = {\n",
    "        \"French\": FrenchLocalizer,\n",
    "        \"English\": EnglishLocalizer,\n",
    "        \"Spanish\": SpanishLocalizer\n",
    "        \n",
    "    }\n",
    "    return localizer[language]()\n",
    "\n",
    "f = factory('French')\n",
    "e = factory()\n",
    "s = factory('Spanish')\n",
    "\n",
    "for word in words:\n",
    "    print('*********')\n",
    "    print(word)\n",
    "    print('*********')\n",
    "    print(f.localize(word))\n",
    "    print(e.localize(word))\n",
    "    print(s.localize(word))"
   ]
  },
  {
   "cell_type": "markdown",
   "metadata": {},
   "source": [
    "## Version 2 of Singleton pattern"
   ]
  },
  {
   "cell_type": "code",
   "execution_count": null,
   "metadata": {},
   "outputs": [
    {
     "name": "stdout",
     "output_type": "stream",
     "text": [
      "{<class '__main__.FirstClass'>: <__main__.FirstClass object at 0x7f2c383c6980>}\n",
      "{<class '__main__.SecondClass'>: <__main__.SecondClass object at 0x7f2c383c6260>}\n"
     ]
    }
   ],
   "source": [
    "def singleton(class_):\n",
    "    instances = {}\n",
    "    def inner(*args, **kwargs):\n",
    "        if class_ not in instances:\n",
    "            instances[class_] = class_(*args, **kwargs)\n",
    "            print(instances)\n",
    "        return instances[class_]\n",
    "    return inner\n",
    "\n",
    "@singleton\n",
    "class FirstClass:\n",
    "    def __init__(self, m):\n",
    "        self.m = m\n",
    "\n",
    "    def get_m(self):\n",
    "        return self.m\n",
    "\n",
    "# FirstClass = singleton(FirstClass)\n",
    "\n",
    "# print(FirstClass)\n",
    "\n",
    "a = FirstClass(1)   # class_(*args, **kwargs)\n",
    "b = FirstClass(23)\n",
    "\n",
    "# print(a)\n",
    "# print(id(a), id(b))\n",
    "\n",
    "@singleton\n",
    "class SecondClass:\n",
    "    def __init__(self):\n",
    "        self.val = 0\n",
    "\n",
    "d = SecondClass()"
   ]
  },
  {
   "cell_type": "code",
   "execution_count": null,
   "metadata": {},
   "outputs": [
    {
     "name": "stdout",
     "output_type": "stream",
     "text": [
      "<__main__.FirstClass object at 0x7f2c383b8910>\n"
     ]
    },
    {
     "data": {
      "text/plain": [
       "<__main__.FirstClass at 0x7f2c383b8910>"
      ]
     },
     "execution_count": 49,
     "metadata": {},
     "output_type": "execute_result"
    }
   ],
   "source": [
    "def Inner(class_):\n",
    "    print(class_(1))\n",
    "    return class_(1) #returns an INSTANCE if class_\n",
    "\n",
    "class FirstClass:\n",
    "    def __init__(self, m):\n",
    "        self.m = m\n",
    "\n",
    "    def get_m(self):\n",
    "        return self.m\n",
    "\n",
    "Inner(FirstClass)"
   ]
  },
  {
   "cell_type": "markdown",
   "metadata": {},
   "source": [
    "## Class Decorators\n",
    "\n",
    "- an instance of an class can behave like a function by call the __ call__ method\n",
    "- () invocation operator\n",
    "__ call__:"
   ]
  },
  {
   "cell_type": "code",
   "execution_count": null,
   "metadata": {},
   "outputs": [
    {
     "data": {
      "text/plain": [
       "'Hello World'"
      ]
     },
     "execution_count": 63,
     "metadata": {},
     "output_type": "execute_result"
    }
   ],
   "source": [
    "class Mimic:\n",
    "    def __call__(self):\n",
    "        return 'Hello World'\n",
    "\n",
    "    def greetings(self):\n",
    "        return 'Good morning'\n",
    "\n",
    "mimic_instance = Mimic() \n",
    "mimic_instance.greetings()\n",
    "mimic_instance()"
   ]
  },
  {
   "cell_type": "code",
   "execution_count": null,
   "metadata": {},
   "outputs": [],
   "source": [
    "def power_of_2(func):\n",
    "    def inner(*args, **kwargs):\n",
    "        result = func(*args, **kwargs)\n",
    "        return result ** 2\n",
    "    return inner"
   ]
  },
  {
   "cell_type": "code",
   "execution_count": null,
   "metadata": {},
   "outputs": [
    {
     "data": {
      "text/plain": [
       "16"
      ]
     },
     "execution_count": 66,
     "metadata": {},
     "output_type": "execute_result"
    }
   ],
   "source": [
    "class PowerOf2:\n",
    "    def __init__(self, func):\n",
    "        self._func = func\n",
    "\n",
    "    def __call__(self, *args, **kwargs):\n",
    "        return self._func(*args, **kwargs) ** 2\n",
    "\n",
    "@PowerOf2\n",
    "@PowerOf2\n",
    "def add(a,b):\n",
    "    return a + b\n",
    "\n",
    "add(1,1)"
   ]
  },
  {
   "cell_type": "markdown",
   "metadata": {},
   "source": [
    "## Version 3 of the Singleton Pattern"
   ]
  },
  {
   "cell_type": "code",
   "execution_count": null,
   "metadata": {},
   "outputs": [],
   "source": [
    "#Version 2\n",
    "def singleton(class_):\n",
    "    instances = {}\n",
    "    def inner(*args, **kwargs):\n",
    "        if class_ not in instances:\n",
    "            instances[class_] = class_(*args, **kwargs)\n",
    "            print(instances)\n",
    "        return instances[class_]\n",
    "    return inner"
   ]
  },
  {
   "cell_type": "code",
   "execution_count": null,
   "metadata": {},
   "outputs": [
    {
     "name": "stdout",
     "output_type": "stream",
     "text": [
      "{<class '__main__.FirstClass'>: <__main__.FirstClass object at 0x7f2c39aea110>, <class '__main__.SecondClass'>: <__main__.SecondClass object at 0x7f2c383c8790>}\n"
     ]
    }
   ],
   "source": [
    "class Singleton:\n",
    "    _instances = {}\n",
    "\n",
    "    def __init__(self, class_):\n",
    "        self._class = class_      # Singelton(CLASSNAME)\n",
    "\n",
    "    def __call__(self, *args, **kwargs): # INSTANCE ()\n",
    "        if self._class not in self._instances:\n",
    "            self._instances[self._class] = self._class(*args, **kwargs)\n",
    "        return self._instances[self._class]\n",
    "\n",
    "\n",
    "# @Singleton\n",
    "class FirstClass:\n",
    "    def __init__(self, m) -> None:\n",
    "        self.m = m\n",
    "\n",
    "FirstClass = Singleton(FirstClass) # here the __init__ of the Singleton class is triggered\n",
    "\n",
    "a = FirstClass(1) # here the __call__ is triggered \n",
    "#and only if no instance of FirstClass has been created a new FirstClass instance is created and returned\n",
    "# the creation of the FirstClass Instance has triggered __init_ of FirstClass\n",
    "b = FirstClass(23)\n",
    "\n",
    "@Singleton\n",
    "class SecondClass:\n",
    "    def __init__(self) -> None:\n",
    "        self.m = 1\n",
    "\n",
    "c = SecondClass()\n",
    "# print(id(a), id(b))\n",
    "print(Singleton._instances)"
   ]
  },
  {
   "cell_type": "markdown",
   "metadata": {},
   "source": [
    "## Factory Pattern\n",
    "\n",
    "\n",
    "- a factory is a function that returns instances of different classes\n",
    "- Factory Method allows to create an instance of a class"
   ]
  },
  {
   "cell_type": "code",
   "execution_count": null,
   "metadata": {},
   "outputs": [
    {
     "name": "stdout",
     "output_type": "stream",
     "text": [
      "*********\n",
      "car\n",
      "*********\n",
      "voiture\n",
      "car\n",
      "coche\n",
      "*********\n",
      "bicycle\n",
      "*********\n",
      "bicycle\n",
      "bicycle\n",
      "bicycle\n",
      "*********\n",
      "cycle\n",
      "*********\n",
      "cyclette\n",
      "cycle\n",
      "ciclo\n"
     ]
    }
   ],
   "source": [
    "class FrenchLocalizer:\n",
    "\n",
    "    def __init__(self):\n",
    "        self.translation = {\"car\": \"voiture\", \"bike\": \"bicyclette\",\n",
    "                             \"cycle\":\"cyclette\"}\n",
    "    def localize(self, msg):\n",
    "        return self.translation.get(msg, msg)\n",
    "\n",
    "class SpanishLocalizer:\n",
    "\n",
    "    def __init__(self):\n",
    "        self.translation = {\"car\": \"coche\", \"bike\": \"bicicleta\",\n",
    "                             \"cycle\":\"ciclo\"}\n",
    "    def localize(self, msg):\n",
    "        return self.translation.get(msg, msg)\n",
    "\n",
    "class EnglishLocalizer:\n",
    "\n",
    "    def localize(self, msg):\n",
    "        return msg\n",
    "\n",
    "f = FrenchLocalizer()\n",
    "e = EnglishLocalizer()\n",
    "s = SpanishLocalizer()\n",
    "\n",
    "words = ['car', 'bicycle', 'cycle']\n",
    "\n",
    "for word in words:\n",
    "    print('*********')\n",
    "    print(word)\n",
    "    print('*********')\n",
    "    print(f.localize(word))\n",
    "    print(e.localize(word))\n",
    "    print(s.localize(word))"
   ]
  },
  {
   "cell_type": "code",
   "execution_count": null,
   "metadata": {},
   "outputs": [
    {
     "name": "stdout",
     "output_type": "stream",
     "text": [
      "*********\n",
      "car\n",
      "*********\n",
      "voiture\n",
      "car\n",
      "coche\n",
      "*********\n",
      "bicycle\n",
      "*********\n",
      "bicycle\n",
      "bicycle\n",
      "bicycle\n",
      "*********\n",
      "cycle\n",
      "*********\n",
      "cyclette\n",
      "cycle\n",
      "ciclo\n"
     ]
    }
   ],
   "source": [
    "def factory(language=\"English\"):\n",
    "    localizer = {\n",
    "        \"French\": FrenchLocalizer,\n",
    "        \"English\": EnglishLocalizer,\n",
    "        \"Spanish\": SpanishLocalizer\n",
    "        \n",
    "    }\n",
    "    return localizer[language]()\n",
    "\n",
    "f = factory('French')\n",
    "e = factory()\n",
    "s = factory('Spanish')\n",
    "\n",
    "for word in words:\n",
    "    print('*********')\n",
    "    print(word)\n",
    "    print('*********')\n",
    "    print(f.localize(word))\n",
    "    print(e.localize(word))\n",
    "    print(s.localize(word))"
   ]
  },
  {
   "attachments": {},
   "cell_type": "markdown",
   "metadata": {},
   "source": [
    "### Recap of the decorator factory\n",
    "```\n",
    "div(fname, lname)  #  <div>fname lname</div>\n",
    "p(fname, lname)   # <p>fname lname</p>\n",
    "```"
   ]
  },
  {
   "cell_type": "code",
   "execution_count": null,
   "metadata": {},
   "outputs": [],
   "source": [
    "def factory_deco(tags=\"div\"):\n",
    "    def wrapper(func):\n",
    "        def inner(*args, **kwargs):\n",
    "            return f\"<{tags}>{func(*args, **kwargs)}</{tags}>\"\n",
    "        return inner\n",
    "    return wrapper"
   ]
  },
  {
   "cell_type": "code",
   "execution_count": null,
   "metadata": {},
   "outputs": [
    {
     "name": "stdout",
     "output_type": "stream",
     "text": [
      "<div>Bob Deo</div>\n",
      "<p>Bob Deo</p>\n"
     ]
    }
   ],
   "source": [
    "\n",
    "@factory_deco()\n",
    "def div(fname, lname):\n",
    "    return fname +' '+lname\n",
    "@factory_deco(tags='p')\n",
    "def p(fname, lname):\n",
    "    return fname +' '+lname\n",
    "\n",
    "print(div('Bob', 'Deo'))\n",
    "print(p('Bob', 'Deo'))"
   ]
  },
  {
   "cell_type": "code",
   "execution_count": null,
   "metadata": {},
   "outputs": [],
   "source": [
    "class P:\n",
    "    def __init__(self, fname, lname) -> None:\n",
    "        # self.fname = fname\n",
    "        # self.lname = lname\n",
    "        self.fullname = fname +' '+lname\n",
    "    def __repr__(self):\n",
    "        name = type(self).__name__.lower()\n",
    "        return f\"<{name}>{self.fullname}</{name}>\"\n",
    "\n",
    "class Div:\n",
    "    def __init__(self, fname, lname) -> None:\n",
    "        # self.fname = fname\n",
    "        # self.lname = lname\n",
    "        self.fullname = fname +' '+lname\n",
    "    def __repr__(self):\n",
    "        name = type(self).__name__.lower()\n",
    "        return f\"<{name}>{self.fullname}</{name}>\"\n"
   ]
  },
  {
   "cell_type": "code",
   "execution_count": null,
   "metadata": {},
   "outputs": [
    {
     "data": {
      "text/plain": [
       "<div>Bob Doe</div>"
      ]
     },
     "execution_count": 23,
     "metadata": {},
     "output_type": "execute_result"
    }
   ],
   "source": [
    "\n",
    "type(div).__name__.lower()\n",
    "str(type(div)).split('.')[1][:3].lower()\n",
    "div = Div('Bob', 'Doe')\n",
    "div"
   ]
  },
  {
   "cell_type": "code",
   "execution_count": null,
   "metadata": {},
   "outputs": [
    {
     "data": {
      "text/plain": [
       "<p>Bob Doe</p>"
      ]
     },
     "execution_count": 8,
     "metadata": {},
     "output_type": "execute_result"
    }
   ],
   "source": [
    "p = P('Bob', 'Doe') # <p>Bob Deo</p>\n",
    "p"
   ]
  },
  {
   "cell_type": "code",
   "execution_count": null,
   "metadata": {},
   "outputs": [],
   "source": [
    "def factory(tags='div'):\n",
    "    tag_dict = {\n",
    "        'div': Div,\n",
    "        'p': P\n",
    "    }\n",
    "    return tag_dict[tags]"
   ]
  },
  {
   "cell_type": "code",
   "execution_count": null,
   "metadata": {},
   "outputs": [
    {
     "data": {
      "text/plain": [
       "<p>Bob Doe</p>"
      ]
     },
     "execution_count": 30,
     "metadata": {},
     "output_type": "execute_result"
    }
   ],
   "source": [
    "div = factory()('Bob', 'Doe')\n",
    "p = factory(tags='p')('Bob', 'Doe')\n",
    "\n",
    "div\n",
    "p"
   ]
  },
  {
   "cell_type": "code",
   "execution_count": null,
   "metadata": {},
   "outputs": [
    {
     "data": {
      "text/plain": [
       "<div>Bob Doe</div>"
      ]
     },
     "execution_count": 31,
     "metadata": {},
     "output_type": "execute_result"
    }
   ],
   "source": [
    "class Factory:\n",
    "    @staticmethod\n",
    "    def create_object(tags='div'):\n",
    "        tag_dict = {\n",
    "            'div': Div,\n",
    "            'p': P\n",
    "            }\n",
    "        return tag_dict[tags]\n",
    "\n",
    "div = Factory.create_object()\n",
    "p = Factory.create_object('p')\n",
    "\n",
    "div('Bob', 'Doe')\n",
    "# p('Bob', 'Doe')"
   ]
  },
  {
   "attachments": {},
   "cell_type": "markdown",
   "metadata": {},
   "source": [
    "# Python objects\n",
    "## Special methods\n",
    "\n",
    "Special methods (magic or dunder(double-underscore) methods) effect an object’s high level behavior and its interactions with operators.\n",
    "\n",
    "- __ init__ is an example of a special method; recall that it controls the process of creating instances of a class.\n",
    "- __ add__ controls the behavior of an object when it is operated on by the + symbol."
   ]
  },
  {
   "cell_type": "code",
   "execution_count": null,
   "metadata": {},
   "outputs": [
    {
     "name": "stdout",
     "output_type": "stream",
     "text": [
      "bla\n",
      "[True, False, True, False]\n"
     ]
    },
    {
     "data": {
      "text/plain": [
       "4"
      ]
     },
     "execution_count": 39,
     "metadata": {},
     "output_type": "execute_result"
    }
   ],
   "source": [
    "class SillyClass:\n",
    "    def __init__(self, num) -> None:\n",
    "        self.num = num\n",
    "\n",
    "    def __getitem__(self, key):\n",
    "        print(key)\n",
    "        return [True, False, True, False]\n",
    "\n",
    "    def __pow__(self, other):\n",
    "        return self.num ** other\n",
    "\n",
    "silly = SillyClass(2)\n",
    "print(silly['bla'])\n",
    "silly ** 2"
   ]
  },
  {
   "attachments": {},
   "cell_type": "markdown",
   "metadata": {},
   "source": [
    "- Special methods are more used in lib and Frameworks\n",
    "- with the help of the special methods objects start to behave in a \"pythonic\" way"
   ]
  },
  {
   "attachments": {
    "image.png": {
     "image/png": "[encoded data removed]"
    }
   },
   "cell_type": "markdown",
   "metadata": {},
   "source": [
    "## Custom Vector Class\n",
    "\n",
    "- Implementation of a 2 dimensional Vector class:\n",
    "![image.png](attachment:image.png)"
   ]
  },
  {
   "cell_type": "code",
   "execution_count": null,
   "metadata": {},
   "outputs": [],
   "source": [
    "import math\n",
    "\n",
    "class Vector2d:\n",
    "    def __init__(self, x, y):\n",
    "        self.x = float(x)     # if the wrong data type is passed to the constructor the error is \n",
    "        self.y = float(y)     # catched by float which will raise an ValueError\n",
    "\n",
    "    def __repr__(self):\n",
    "        name = type(self).__name__\n",
    "        return f'{name}({self.x}, {self.y})'\n",
    "        #return f'Vector({self.x}, {self.y})'\n",
    "\n",
    "    def __str__(self):\n",
    "        return str((abs(self), self.angle()))\n",
    "        #return str((self.x, self.y))\n",
    "        \n",
    "    def __eq__(self, other):\n",
    "        return (self.x, self.y) == (other.x, other.y)\n",
    "        #return self.x == other.x and self.y == other.y \n",
    "\n",
    "    def __abs__(self):\n",
    "        return math.hypot(self.x, self.y)\n",
    "        #return abs(complex(self.x,self.y))\n",
    "        #return math.sqrt(self.x ** 2 + self.y ** 2)\n",
    "    def __bool__(self):\n",
    "        return bool(abs(self))\n",
    "\n",
    "    def angle(self):\n",
    "        #rad = math.atan(self.y/self.x)\n",
    "        rad = math.atan2(self.y, self.x)\n",
    "        return math.degrees(rad)\n"
   ]
  },
  {
   "cell_type": "code",
   "execution_count": null,
   "metadata": {},
   "outputs": [
    {
     "name": "stdout",
     "output_type": "stream",
     "text": [
      "(2.23606797749979, 63.43494882292201)\n"
     ]
    },
    {
     "data": {
      "text/plain": [
       "45.0"
      ]
     },
     "execution_count": 114,
     "metadata": {},
     "output_type": "execute_result"
    }
   ],
   "source": [
    "v1 = Vector2d(1,2) \n",
    "v2 = Vector2d(1,2) \n",
    "v3 = Vector2d(1,1)\n",
    "v4 = Vector2d(3,4)\n",
    "v1 # Vector(1, 2)\n",
    "print(v1) # Vector(1, 2)\n",
    "v1 # Vector(1, 2)\n",
    "\n",
    "v3.angle()"
   ]
  },
  {
   "cell_type": "code",
   "execution_count": null,
   "metadata": {},
   "outputs": [
    {
     "name": "stdout",
     "output_type": "stream",
     "text": [
      "1.4142135623730951\n",
      "1.4142135623730951\n"
     ]
    }
   ],
   "source": [
    "v1 == v2\n",
    "v1 == v3\n",
    "abs(v4)\n",
    "print(abs(1+1J))\n",
    "print(abs(v3))"
   ]
  },
  {
   "cell_type": "code",
   "execution_count": null,
   "metadata": {},
   "outputs": [
    {
     "data": {
      "text/plain": [
       "False"
      ]
     },
     "execution_count": 100,
     "metadata": {},
     "output_type": "execute_result"
    }
   ],
   "source": [
    "bool(v1)\n",
    "v5 = Vector2d(0,0)\n",
    "bool(v5)\n",
    "bool(0)"
   ]
  },
  {
   "attachments": {},
   "cell_type": "markdown",
   "metadata": {},
   "source": [
    "## A Hashable Vector2d"
   ]
  },
  {
   "cell_type": "code",
   "execution_count": null,
   "metadata": {},
   "outputs": [
    {
     "ename": "TypeError",
     "evalue": "unhashable type: 'Vector2d'",
     "output_type": "error",
     "traceback": [
      "\u001b[0;31m---------------------------------------------------------------------------\u001b[0m",
      "\u001b[0;31mTypeError\u001b[0m                                 Traceback (most recent call last)",
      "Cell \u001b[0;32mIn [115], line 1\u001b[0m\n\u001b[0;32m----> 1\u001b[0m \u001b[39mhash\u001b[39;49m(v1)\n",
      "\u001b[0;31mTypeError\u001b[0m: unhashable type: 'Vector2d'"
     ]
    }
   ],
   "source": [
    "hash(v1)"
   ]
  },
  {
   "attachments": {},
   "cell_type": "markdown",
   "metadata": {},
   "source": [
    "be definition to hash a type it needs to be immutable"
   ]
  },
  {
   "cell_type": "code",
   "execution_count": null,
   "metadata": {},
   "outputs": [
    {
     "data": {
      "text/plain": [
       "Vector2d(2, 1.0)"
      ]
     },
     "execution_count": 118,
     "metadata": {},
     "output_type": "execute_result"
    }
   ],
   "source": [
    "v1 = Vector2d(1,1)\n",
    "v1.x = 2\n",
    "v1"
   ]
  },
  {
   "cell_type": "code",
   "execution_count": null,
   "metadata": {},
   "outputs": [],
   "source": [
    "import math\n",
    "\n",
    "class Vector2d:\n",
    "    def __init__(self, x, y):\n",
    "        self.__x = float(x)     # if the wrong data type is passed to the constructor the error is \n",
    "        self.__y = float(y)     # catched by float which will raise an ValueError\n",
    "\n",
    "    @property\n",
    "    def x(self):\n",
    "        return self.__x\n",
    "\n",
    "    @property\n",
    "    def y(self):\n",
    "        return self.__y\n",
    "\n",
    "    def __repr__(self):\n",
    "        name = type(self).__name__\n",
    "        return f'{name}({self.x}, {self.y})'\n",
    "\n",
    "    def __str__(self):\n",
    "        return str((abs(self), self.angle()))\n",
    "        #return str((self.x, self.y))\n",
    "        \n",
    "    def __eq__(self, other):\n",
    "        return (self.x, self.y) == (other.x, other.y)\n",
    "\n",
    "    def __abs__(self):\n",
    "        return math.hypot(self.x, self.y)\n",
    "\n",
    "    def __bool__(self):\n",
    "        return bool(abs(self))\n",
    "\n",
    "    def angle(self):\n",
    "        rad = math.atan2(self.y, self.x)\n",
    "        return math.degrees(rad)\n",
    "\n",
    "    def __hash__(self):\n",
    "        return hash((self.x, self.y))"
   ]
  },
  {
   "cell_type": "code",
   "execution_count": null,
   "metadata": {},
   "outputs": [
    {
     "name": "stdout",
     "output_type": "stream",
     "text": [
      "(1.4142135623730951, 45.0)\n"
     ]
    }
   ],
   "source": [
    "v1 = Vector2d(1,1)\n",
    "\n",
    "#v1._Vector2d__x = 2 # By convention you should not set a\n",
    "# an private/public attribute outside a class \n",
    "print(v1)"
   ]
  },
  {
   "cell_type": "code",
   "execution_count": null,
   "metadata": {},
   "outputs": [
    {
     "name": "stdout",
     "output_type": "stream",
     "text": [
      "8389048192121911274\n",
      "8389048192121911274\n"
     ]
    },
    {
     "data": {
      "text/plain": [
       "3958399589457684068"
      ]
     },
     "execution_count": 146,
     "metadata": {},
     "output_type": "execute_result"
    }
   ],
   "source": [
    "v2 = Vector2d(1.2,1)\n",
    "v3 = Vector2d(1, 1)\n",
    "\n",
    "print(hash(v1))\n",
    "print(hash(v3))\n",
    "hash(v2)"
   ]
  },
  {
   "attachments": {},
   "cell_type": "markdown",
   "metadata": {},
   "source": [
    "You should only implement these special methods if your application needs them. End users don't care if the objects that make up an application are \"Pythonic\" or not."
   ]
  },
  {
   "attachments": {},
   "cell_type": "markdown",
   "metadata": {},
   "source": [
    "## Vector2d to N-dim Vector\n",
    "\n",
    "\n"
   ]
  },
  {
   "cell_type": "code",
   "execution_count": null,
   "metadata": {},
   "outputs": [],
   "source": [
    "v1 = Vector)\n",
    "\n",
    "print(v1)\n",
    "v1 == v1\n",
    "abs(v1)\n",
    "bool(v1)"
   ]
  },
  {
   "cell_type": "code",
   "execution_count": null,
   "metadata": {},
   "outputs": [],
   "source": [
    "import reprlib\n",
    "\n",
    "class Vector:\n",
    "    def __init__(self, components):\n",
    "        self._components = [*components]\n",
    "\n",
    "    def __iter__(self):\n",
    "        return iter(self._components)\n",
    "\n",
    "    def __repr__(self):\n",
    "        components = reprlib.repr([self._components])\n",
    "        return f\"Vector({components})\"\n",
    "        return 'BLA'\n",
    "        \n",
    "    def __str__(self):\n",
    "        return str(tuple(self._components))\n",
    "\n",
    "    def __eq__(self, other):\n",
    "        return tuple(self._components) == tuple(other._components)\n",
    "\n",
    "    def __abs__(self):\n",
    "        return math.hypot(*self._components)\n",
    "\n",
    "    def __bool__(self):\n",
    "        return bool(abs(self))\n",
    "\n",
    "    def __len__(self):\n",
    "        return len(self._components)\n",
    "\n",
    "    def __getitem__(self, index):\n",
    "        return self._components[index]\n",
    "        \n",
    "\n",
    "\n"
   ]
  },
  {
   "cell_type": "code",
   "execution_count": null,
   "metadata": {},
   "outputs": [
    {
     "name": "stdout",
     "output_type": "stream",
     "text": [
      "0\n"
     ]
    }
   ],
   "source": [
    "v1 = Vector([1,0,0])\n",
    "\n",
    "# for element in v1:\n",
    "#     print(element)\n",
    "\n",
    "bool(v1)\n",
    "len(v1)\n",
    "\n",
    "print(v1[2])"
   ]
  },
  {
   "cell_type": "code",
   "execution_count": null,
   "metadata": {},
   "outputs": [
    {
     "ename": "StopIteration",
     "evalue": "",
     "output_type": "error",
     "traceback": [
      "\u001b[0;31m---------------------------------------------------------------------------\u001b[0m",
      "\u001b[0;31mStopIteration\u001b[0m                             Traceback (most recent call last)",
      "Cell \u001b[0;32mIn [163], line 5\u001b[0m\n\u001b[1;32m      3\u001b[0m \u001b[39mnext\u001b[39m(iterator)\n\u001b[1;32m      4\u001b[0m \u001b[39mnext\u001b[39m(iterator)\n\u001b[0;32m----> 5\u001b[0m \u001b[39mnext\u001b[39;49m(iterator)\n",
      "\u001b[0;31mStopIteration\u001b[0m: "
     ]
    }
   ],
   "source": [
    "iterator = iter([1,2,3])\n",
    "next(iterator)\n",
    "next(iterator)\n",
    "next(iterator)\n",
    "next(iterator)\n"
   ]
  },
  {
   "cell_type": "code",
   "execution_count": null,
   "metadata": {},
   "outputs": [
    {
     "data": {
      "text/plain": [
       "'[1, 2, 3, 4, 5, 6, ...]'"
      ]
     },
     "execution_count": 166,
     "metadata": {},
     "output_type": "execute_result"
    }
   ],
   "source": [
    "import reprlib\n",
    "\n",
    "reprlib.repr([1,2,3,4,5,6,7,8])"
   ]
  },
  {
   "attachments": {},
   "cell_type": "markdown",
   "metadata": {},
   "source": [
    "# Operator Overloading\n",
    "\n",
    "Following equation can be written in Python:\n",
    "\n",
    "x = y * ((rate +1) ** n)\n",
    "\n",
    "instead:\n",
    "\n",
    "x = y.multiply(rate.add(1) ** n)\n",
    "\n",
    "a + b : you have two operands( a and b) and one operator (+)\n",
    "\n",
    "- Operators that appear between operands are *infix* operators\n",
    "- in python, the infix operator can handle any arbitrary type\n",
    "\n",
    "infix operators make formulars more readable.\n",
    "\n",
    "- operator overloading is necessary to support infix operator notation withe user-defined types\n",
    "- having operator overloading in a easy-to-use language was probably a key reason for python's huge success in data science and scientific applications\n",
    "\n",
    "Other operators:\n",
    "\n",
    "- function invocation operator()\n",
    "- attribute access operator .\n",
    "- item access/slicing operator []"
   ]
  },
  {
   "cell_type": "code",
   "execution_count": null,
   "metadata": {},
   "outputs": [],
   "source": [
    "#Unary Operators\n",
    "class Vector:\n",
    "    def __init__(self, components):   \n",
    "        self._components = components\n",
    "\n",
    "    def __iter__(self):\n",
    "        return iter(self._components)\n",
    "\n",
    "    def __repr__(self):\n",
    "        return str(tuple(self))\n",
    "\n",
    "\n",
    "    def __neg__(self):\n",
    "        return Vector(-x for x in self)\n",
    "\n",
    "    def __pos__(self):\n",
    "        return Vector(self)\n"
   ]
  },
  {
   "attachments": {},
   "cell_type": "markdown",
   "metadata": {},
   "source": [
    "# Overloading + for Vector Addition\n",
    "\n",
    "```\n",
    "v1 = Vector([3,4,5])\n",
    "v2 = Vector([6,7,8])\n",
    "\n",
    "v1 + v2 # Vector([3+6, 4+7,5+8]) = Vector([9, 11, 13])"
   ]
  },
  {
   "cell_type": "code",
   "execution_count": 94,
   "metadata": {},
   "outputs": [],
   "source": [
    "import itertools\n",
    "\n",
    "class Vector:\n",
    "    def __init__(self, components):   \n",
    "        self._components = components\n",
    "\n",
    "    def __iter__(self):\n",
    "        return iter(self._components)\n",
    "\n",
    "    def __repr__(self):\n",
    "        # print('component', self._components)\n",
    "        # print('comp', [str(num) for num in self._components])\n",
    "        return f\"Vector({' '.join([str(num) for num in self._components])})\"\n",
    "\n",
    "    def __add__(self,other):\n",
    "        pairs = itertools.zip_longest(self, other, fillvalue=0)\n",
    "        # pairs = zip(self, other, strict=True)\n",
    "        #print(list(pairs))\n",
    "        return Vector([i + j for i,j in pairs])"
   ]
  },
  {
   "cell_type": "code",
   "execution_count": 95,
   "metadata": {},
   "outputs": [
    {
     "data": {
      "text/plain": [
       "Vector(9 11 13 9)"
      ]
     },
     "execution_count": 95,
     "metadata": {},
     "output_type": "execute_result"
    }
   ],
   "source": [
    "v1 = Vector([3,4,5])\n",
    "v2 = Vector([6,7,8, 9])\n",
    "(v1 + v2)"
   ]
  },
  {
   "cell_type": "code",
   "execution_count": 98,
   "metadata": {},
   "outputs": [
    {
     "ename": "TypeError",
     "evalue": "can only concatenate tuple (not \"Vector\") to tuple",
     "output_type": "error",
     "traceback": [
      "\u001b[0;31m---------------------------------------------------------------------------\u001b[0m",
      "\u001b[0;31mTypeError\u001b[0m                                 Traceback (most recent call last)",
      "Cell \u001b[0;32mIn [98], line 3\u001b[0m\n\u001b[1;32m      1\u001b[0m v1 \u001b[39m+\u001b[39m [\u001b[39m1\u001b[39m,\u001b[39m2\u001b[39m,\u001b[39m33\u001b[39m]\n\u001b[0;32m----> 3\u001b[0m (\u001b[39m1\u001b[39;49m,\u001b[39m2\u001b[39;49m,\u001b[39m3\u001b[39;49m) \u001b[39m+\u001b[39;49m v1\n",
      "\u001b[0;31mTypeError\u001b[0m: can only concatenate tuple (not \"Vector\") to tuple"
     ]
    }
   ],
   "source": [
    "v1 + [1,2,33]\n",
    "\n",
    "(1,2,3) + v1"
   ]
  },
  {
   "attachments": {},
   "cell_type": "markdown",
   "metadata": {},
   "source": [
    "We can fix mixed-typed additions by making use by Python dispatching mechanism for the infix operator special methods:\n",
    "1. If a has __ add__ call a.__ add__(b)\n",
    "2. 2. if a doesn't have __ add__, **or** calling it raises an Error, check if b has __ radd__, then call b.__ radd__(a)  (is as a fallback)\n",
    "3. otherwise raise TypeError: *unsupported operand* type message\n"
   ]
  },
  {
   "cell_type": "code",
   "execution_count": 101,
   "metadata": {},
   "outputs": [],
   "source": [
    "import itertools\n",
    "\n",
    "class Vector:\n",
    "    def __init__(self, components):   \n",
    "        self._components = components\n",
    "\n",
    "    def __iter__(self):\n",
    "        return iter(self._components)\n",
    "\n",
    "    def __repr__(self):\n",
    "        # print('component', self._components)\n",
    "        # print('comp', [str(num) for num in self._components])\n",
    "        return f\"Vector({' '.join([str(num) for num in self._components])})\"\n",
    "\n",
    "    def __add__(self,other):\n",
    "        pairs = itertools.zip_longest(self, other, fillvalue=0)\n",
    "        # pairs = zip(self, other, strict=True)\n",
    "        #print(list(pairs))\n",
    "        return Vector([i + j for i,j in pairs])\n",
    "\n",
    "    def __radd__(self, other):\n",
    "        print('TRIGGERED')\n",
    "        return self + other\n"
   ]
  },
  {
   "cell_type": "code",
   "execution_count": 102,
   "metadata": {},
   "outputs": [
    {
     "name": "stdout",
     "output_type": "stream",
     "text": [
      "TRIGGERED\n"
     ]
    },
    {
     "data": {
      "text/plain": [
       "Vector(4 6 8)"
      ]
     },
     "execution_count": 102,
     "metadata": {},
     "output_type": "execute_result"
    }
   ],
   "source": [
    "v1 = Vector([3,4,5])\n",
    "\n",
    "(1,2,3) + v1"
   ]
  },
  {
   "attachments": {},
   "cell_type": "markdown",
   "metadata": {},
   "source": [
    "## Overloading * for Scalar Multiplication\n",
    "\n",
    " $x \\cdot \\begin{pmatrix} a \\\\ b \\\\ c \\end{pmatrix} = \\begin{pmatrix} x \\cdot a \\\\ x \\cdot b \\\\ x \\cdot c  \\end{pmatrix}$"
   ]
  },
  {
   "cell_type": "code",
   "execution_count": 115,
   "metadata": {},
   "outputs": [],
   "source": [
    "class Vector:\n",
    "    def __init__(self, components):   \n",
    "        self._components = components\n",
    "\n",
    "    def __iter__(self):\n",
    "        return iter(self._components)\n",
    "\n",
    "    def __repr__(self):\n",
    "        # print('component', self._components)\n",
    "        # print('comp', [str(num) for num in self._components])\n",
    "        return f\"Vector({' '.join([str(num) for num in self._components])})\"\n",
    "\n",
    "    def __mul__(self, scalar):\n",
    "        print(self)\n",
    "        print(scalar)\n",
    "        return Vector([scalar * i for i in self])\n",
    "\n",
    "    def __rmul__(self, scalar):\n",
    "        return  self * scalar\n"
   ]
  },
  {
   "cell_type": "code",
   "execution_count": 116,
   "metadata": {},
   "outputs": [
    {
     "name": "stdout",
     "output_type": "stream",
     "text": [
      "Vector(1 2 3)\n",
      "2\n"
     ]
    },
    {
     "ename": "RecursionError",
     "evalue": "maximum recursion depth exceeded",
     "output_type": "error",
     "traceback": [
      "\u001b[0;31m---------------------------------------------------------------------------\u001b[0m",
      "\u001b[0;31mRecursionError\u001b[0m                            Traceback (most recent call last)",
      "Cell \u001b[0;32mIn [116], line 5\u001b[0m\n\u001b[1;32m      1\u001b[0m v1 \u001b[39m=\u001b[39m Vector([\u001b[39m1\u001b[39m,\u001b[39m2\u001b[39m,\u001b[39m3\u001b[39m])\n\u001b[1;32m      3\u001b[0m v1 \u001b[39m*\u001b[39m \u001b[39m2\u001b[39m\n\u001b[0;32m----> 5\u001b[0m \u001b[39m2\u001b[39;49m \u001b[39m*\u001b[39;49m v1\n",
      "Cell \u001b[0;32mIn [115], line 19\u001b[0m, in \u001b[0;36mVector.__rmul__\u001b[0;34m(self, scalar)\u001b[0m\n\u001b[1;32m     18\u001b[0m \u001b[39mdef\u001b[39;00m \u001b[39m__rmul__\u001b[39m(\u001b[39mself\u001b[39m, scalar):\n\u001b[0;32m---> 19\u001b[0m     \u001b[39mreturn\u001b[39;00m  scalar \u001b[39m*\u001b[39;49m \u001b[39mself\u001b[39;49m\n",
      "Cell \u001b[0;32mIn [115], line 19\u001b[0m, in \u001b[0;36mVector.__rmul__\u001b[0;34m(self, scalar)\u001b[0m\n\u001b[1;32m     18\u001b[0m \u001b[39mdef\u001b[39;00m \u001b[39m__rmul__\u001b[39m(\u001b[39mself\u001b[39m, scalar):\n\u001b[0;32m---> 19\u001b[0m     \u001b[39mreturn\u001b[39;00m  scalar \u001b[39m*\u001b[39;49m \u001b[39mself\u001b[39;49m\n",
      "    \u001b[0;31m[... skipping similar frames: Vector.__rmul__ at line 19 (2970 times)]\u001b[0m\n",
      "Cell \u001b[0;32mIn [115], line 19\u001b[0m, in \u001b[0;36mVector.__rmul__\u001b[0;34m(self, scalar)\u001b[0m\n\u001b[1;32m     18\u001b[0m \u001b[39mdef\u001b[39;00m \u001b[39m__rmul__\u001b[39m(\u001b[39mself\u001b[39m, scalar):\n\u001b[0;32m---> 19\u001b[0m     \u001b[39mreturn\u001b[39;00m  scalar \u001b[39m*\u001b[39;49m \u001b[39mself\u001b[39;49m\n",
      "\u001b[0;31mRecursionError\u001b[0m: maximum recursion depth exceeded"
     ]
    }
   ],
   "source": [
    "v1 = Vector([1,2,3])\n",
    "\n",
    "v1 * 2\n",
    "\n",
    "2 * v1"
   ]
  }
 ],
 "metadata": {
  "kernelspec": {
   "display_name": "Python 3 (ipykernel)",
   "language": "python",
   "name": "python3"
  },
  "language_info": {
   "codemirror_mode": {
    "name": "ipython",
    "version": 3
   },
   "file_extension": ".py",
   "mimetype": "text/x-python",
   "name": "python",
   "nbconvert_exporter": "python",
   "pygments_lexer": "ipython3",
   "version": "3.10.9"
  },
  "vscode": {
   "interpreter": {
    "hash": "97cc609b13305c559618ec78a438abc56230b9381f827f22d070313b9a1f3777"
   }
  }
 },
 "nbformat": 4,
 "nbformat_minor": 2
}
