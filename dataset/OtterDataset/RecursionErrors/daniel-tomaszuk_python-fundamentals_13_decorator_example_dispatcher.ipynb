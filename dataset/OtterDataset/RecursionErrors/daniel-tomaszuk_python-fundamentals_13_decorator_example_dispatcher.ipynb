{
 "cells": [
  {
   "cell_type": "code",
   "execution_count": 1,
   "id": "002c0431-768a-49c2-b995-dc7756c04430",
   "metadata": {},
   "outputs": [],
   "source": [
    "# single (first argument) dispatch generic functions"
   ]
  },
  {
   "cell_type": "code",
   "execution_count": 2,
   "id": "a3c17bf0-fd27-4f42-8247-ab3ec0d2067c",
   "metadata": {},
   "outputs": [],
   "source": [
    "from html import escape\n",
    "\n",
    "\n",
    "def html_escape(arg) -> str:\n",
    "    return escape(str(arg))\n",
    "\n",
    "def html_int(a: int):\n",
    "    return f\"{a}(<i>{hex(a)}</i>\"\n",
    "\n",
    "def html_real(a: float):\n",
    "    return \"{0:.2f}\".fromat(round(a, 2))\n",
    "\n",
    "def html_str(s: str):\n",
    "    return html_escape(s).replace(\"\\n\", \"<br/>\\n\")\n",
    "\n",
    "def html_list(l: list):\n",
    "    items = (f\"<li>{html_escape(item)}</li>\" for item in l)\n",
    "    return \"<ul>\\n\" + \"\\n\".join(items) + \"\\n</ul>\"\n",
    "\n",
    "def html_dict(d: dict):\n",
    "    items = (f\"<li>{k}={v}</li>\" for k, v in d.items())\n",
    "    return \"<ul>\\n\" + \"\\n\".join(items) + \"\\n</ul>\"\n"
   ]
  },
  {
   "cell_type": "code",
   "execution_count": 3,
   "id": "087194ae-f4fc-4bc8-b849-86d9042d4f9d",
   "metadata": {},
   "outputs": [
    {
     "name": "stdout",
     "output_type": "stream",
     "text": [
      "this is <br/>\n",
      "a multi line string <br/>\n",
      "with special chars: 10 &lt; 100<br/>\n",
      "\n"
     ]
    }
   ],
   "source": [
    "print(html_str(\"\"\"this is \n",
    "a multi line string \n",
    "with special chars: 10 < 100\n",
    "\"\"\"))"
   ]
  },
  {
   "cell_type": "code",
   "execution_count": 4,
   "id": "6689b2d8-6718-4b3b-9a70-ab4798ebcd83",
   "metadata": {},
   "outputs": [
    {
     "name": "stdout",
     "output_type": "stream",
     "text": [
      "255(<i>0xff</i>\n"
     ]
    }
   ],
   "source": [
    "print(html_int(255))"
   ]
  },
  {
   "cell_type": "code",
   "execution_count": 5,
   "id": "598a1b3f-6fd7-49a5-8467-e95dd7ede0b5",
   "metadata": {},
   "outputs": [
    {
     "name": "stdout",
     "output_type": "stream",
     "text": [
      "(3+10j)\n"
     ]
    }
   ],
   "source": [
    "print(html_escape(3+10j))"
   ]
  },
  {
   "cell_type": "code",
   "execution_count": 6,
   "id": "ee8a6e3a-0e2c-4247-bb71-5cf0e4eff49a",
   "metadata": {},
   "outputs": [],
   "source": [
    "from decimal import Decimal\n",
    "\n",
    "def htmlize(arg):\n",
    "    if isinstance(arg, int):\n",
    "        return html_int(arg)\n",
    "\n",
    "    if isinstance(arg, float) or isinstance(arg, Decimal):\n",
    "        return html_real(arg)\n",
    "\n",
    "    if isinstance(arg, str):\n",
    "        return html_str(arg)\n",
    "\n",
    "    if isinstance(arg, list) or isinstance(arg, tuple):\n",
    "        return html_list(arg)\n",
    "\n",
    "    if isinstance(arg, dict):\n",
    "        return html_dict(arg)\n",
    "\n",
    "    return html_escape(arg)\n",
    "\n",
    "        "
   ]
  },
  {
   "cell_type": "code",
   "execution_count": 7,
   "id": "38ef459a-0817-4925-a2b3-8747f87635d0",
   "metadata": {},
   "outputs": [
    {
     "data": {
      "text/plain": [
       "'Python<br/>\\nrocks!'"
      ]
     },
     "execution_count": 7,
     "metadata": {},
     "output_type": "execute_result"
    }
   ],
   "source": [
    "htmlize(\"\"\"Python\n",
    "rocks!\"\"\")\n"
   ]
  },
  {
   "cell_type": "code",
   "execution_count": 8,
   "id": "0e11f5c3-2442-404e-b977-e01f4493c669",
   "metadata": {},
   "outputs": [
    {
     "name": "stdout",
     "output_type": "stream",
     "text": [
      "<ul>\n",
      "<li>1</li>\n",
      "<li>2</li>\n",
      "<li>3</li>\n",
      "</ul>\n"
     ]
    }
   ],
   "source": [
    "print(htmlize([1,2,3]))"
   ]
  },
  {
   "cell_type": "code",
   "execution_count": 9,
   "id": "0827550b-f1ed-4934-a592-046761730b49",
   "metadata": {},
   "outputs": [
    {
     "name": "stdout",
     "output_type": "stream",
     "text": [
      "<ul>\n",
      "<li>Hello Bob!</li>\n",
      "<li>(10, 20, 30)</li>\n",
      "<li>100</li>\n",
      "</ul>\n"
     ]
    }
   ],
   "source": [
    "print(htmlize([\"Hello Bob!\", (10, 20, 30), 100]))"
   ]
  },
  {
   "cell_type": "code",
   "execution_count": 10,
   "id": "0cd5385c-de1a-43d3-93df-9a96273ba7dc",
   "metadata": {},
   "outputs": [],
   "source": [
    "def htmlize(arg):\n",
    "    if isinstance(arg, int):\n",
    "        return html_int(arg)\n",
    "\n",
    "    if isinstance(arg, float) or isinstance(arg, Decimal):\n",
    "        return html_real(arg)\n",
    "\n",
    "    if isinstance(arg, str):\n",
    "        return html_str(arg)\n",
    "\n",
    "    if isinstance(arg, list) or isinstance(arg, tuple):\n",
    "        return html_list(arg)\n",
    "\n",
    "    if isinstance(arg, dict):\n",
    "        return html_dict(arg)\n",
    "\n",
    "    return html_escape(arg)\n",
    "\n",
    "\n",
    "def html_escape(arg) -> str:\n",
    "    return escape(str(arg))\n",
    "\n",
    "def html_int(a: int):\n",
    "    return f\"{a}(<i>{hex(a)}</i>\"\n",
    "\n",
    "def html_real(a: float):\n",
    "    return \"{0:.2f}\".fromat(round(a, 2))\n",
    "\n",
    "def html_str(s: str):\n",
    "    return html_escape(s).replace(\"\\n\", \"<br/>\\n\")\n",
    "\n",
    "def html_list(l: list):\n",
    "    items = (f\"<li>{htmlize(item)}</li>\" for item in l)\n",
    "    return \"<ul>\\n\" + \"\\n\".join(items) + \"\\n</ul>\"\n",
    "\n",
    "def html_dict(d: dict):\n",
    "    items = (f\"<li>{html_escape(k)}={htmlize(v)}</li>\" for k, v in d.items())\n",
    "    return \"<ul>\\n\" + \"\\n\".join(items) + \"\\n</ul>\"\n",
    "\n"
   ]
  },
  {
   "cell_type": "code",
   "execution_count": 11,
   "id": "ddcaac7c-9840-45cc-b36e-9dc5ba639807",
   "metadata": {},
   "outputs": [
    {
     "name": "stdout",
     "output_type": "stream",
     "text": [
      "<ul>\n",
      "<li>Hello Bob!</li>\n",
      "<li><ul>\n",
      "<li>10(<i>0xa</i></li>\n",
      "<li>20(<i>0x14</i></li>\n",
      "<li>30(<i>0x1e</i></li>\n",
      "</ul></li>\n",
      "<li>100(<i>0x64</i></li>\n",
      "<li><ul>\n",
      "<li>a=20(<i>0x14</i></li>\n",
      "<li>b=<ul>\n",
      "<li>1(<i>0x1</i></li>\n",
      "<li>2(<i>0x2</i></li>\n",
      "<li>3(<i>0x3</i></li>\n",
      "</ul></li>\n",
      "</ul></li>\n",
      "</ul>\n"
     ]
    }
   ],
   "source": [
    "print(htmlize([\"Hello Bob!\", (10, 20, 30), 100, {\"a\": 20, \"b\": (1, 2, 3)}]))"
   ]
  },
  {
   "cell_type": "code",
   "execution_count": 12,
   "id": "20301000-8882-4270-9507-0d118410b2c2",
   "metadata": {},
   "outputs": [],
   "source": [
    "def htmlize(arg):\n",
    "    registry = {\n",
    "        object: html_escape,\n",
    "        int: html_int,\n",
    "        float: html_real,\n",
    "        Decimal: html_real,\n",
    "        str: html_str,\n",
    "        list: html_list,\n",
    "        set: html_list,\n",
    "        tuple: html_list,\n",
    "        dict: html_dict,\n",
    "    }\n",
    "\n",
    "    return registry.get(type(arg), registry[object])(arg)\n"
   ]
  },
  {
   "cell_type": "code",
   "execution_count": 13,
   "id": "d1b5a57e-1996-4274-b0da-048409ac0c07",
   "metadata": {},
   "outputs": [
    {
     "data": {
      "text/plain": [
       "'100(<i>0x64</i>'"
      ]
     },
     "execution_count": 13,
     "metadata": {},
     "output_type": "execute_result"
    }
   ],
   "source": [
    "htmlize(100)"
   ]
  },
  {
   "cell_type": "code",
   "execution_count": 14,
   "id": "3b042f2b-3864-4ff7-adb9-a7d84b653cd9",
   "metadata": {},
   "outputs": [
    {
     "name": "stdout",
     "output_type": "stream",
     "text": [
      "<ul>\n",
      "<li>a=100(<i>0x64</i></li>\n",
      "<li>b&lt;2=abcd</li>\n",
      "<li>(1, 2)=200 + 300</li>\n",
      "</ul>\n"
     ]
    }
   ],
   "source": [
    "print(htmlize({\"a\": 100, \"b<2\": \"abcd\", (1, 2): \"200 + 300\"}))"
   ]
  },
  {
   "cell_type": "code",
   "execution_count": 15,
   "id": "9e18d22c-a05c-4d02-bfc8-f8d74487d95b",
   "metadata": {},
   "outputs": [],
   "source": [
    "from functools import wraps\n",
    "\n",
    "\n",
    "def single_dispatch(fn):\n",
    "    registry = {\n",
    "        object: fn,\n",
    "    }\n",
    "\n",
    "    @wraps(fn)\n",
    "    def inner(arg):  # single dispatch (single argument)\n",
    "        return registry[object](arg)\n",
    "        \n",
    "    return inner\n"
   ]
  },
  {
   "cell_type": "code",
   "execution_count": 16,
   "id": "28759620-aa15-43d6-b439-e9c6c5519ffb",
   "metadata": {},
   "outputs": [],
   "source": [
    "@single_dispatch\n",
    "def htmlize(a):\n",
    "    return escape(str(a))\n",
    "\n"
   ]
  },
  {
   "cell_type": "code",
   "execution_count": 17,
   "id": "f713d561-5767-46c8-bee7-2b44bcc241d2",
   "metadata": {},
   "outputs": [
    {
     "data": {
      "text/plain": [
       "'1 &lt; 100'"
      ]
     },
     "execution_count": 17,
     "metadata": {},
     "output_type": "execute_result"
    }
   ],
   "source": [
    "htmlize(\"1 < 100\")"
   ]
  },
  {
   "cell_type": "code",
   "execution_count": 18,
   "id": "34a92e2c-9676-46b1-a6af-9045928d4375",
   "metadata": {},
   "outputs": [],
   "source": [
    "from functools import wraps\n",
    "\n",
    "\n",
    "def single_dispatch(fn):\n",
    "    registry = {\n",
    "        object: fn,\n",
    "        int: lambda a: f\"{a}(<i>{hex(a)}</i>\",\n",
    "        str: lambda s: escape(s).replace(\"\\n\", \"<br/>\\n\"),\n",
    "    }\n",
    "\n",
    "    @wraps(fn)\n",
    "    def inner(arg):  # single dispatch (single argument)\n",
    "        return registry.get(type(arg), registry[object])(arg)\n",
    "        \n",
    "    return inner\n"
   ]
  },
  {
   "cell_type": "code",
   "execution_count": 19,
   "id": "d1285726-50b7-492b-8ab6-a6fff44a7e63",
   "metadata": {},
   "outputs": [],
   "source": [
    "@single_dispatch\n",
    "def htmlize(arg):\n",
    "    return escape(str(arg))"
   ]
  },
  {
   "cell_type": "code",
   "execution_count": 20,
   "id": "5531e6ae-596c-4a87-be9e-c773abade129",
   "metadata": {},
   "outputs": [
    {
     "data": {
      "text/plain": [
       "'1 &lt; 100'"
      ]
     },
     "execution_count": 20,
     "metadata": {},
     "output_type": "execute_result"
    }
   ],
   "source": [
    "htmlize(\"1 < 100\")"
   ]
  },
  {
   "cell_type": "code",
   "execution_count": 21,
   "id": "15405f47-2230-4b37-b535-91390d2f3bc5",
   "metadata": {},
   "outputs": [
    {
     "data": {
      "text/plain": [
       "'200(<i>0xc8</i>'"
      ]
     },
     "execution_count": 21,
     "metadata": {},
     "output_type": "execute_result"
    }
   ],
   "source": [
    "htmlize(200)"
   ]
  },
  {
   "cell_type": "code",
   "execution_count": 22,
   "id": "e8ce812f-b95b-4e58-b184-030fd4c176b6",
   "metadata": {},
   "outputs": [
    {
     "data": {
      "text/plain": [
       "'(1, 2, 3, 4)'"
      ]
     },
     "execution_count": 22,
     "metadata": {},
     "output_type": "execute_result"
    }
   ],
   "source": [
    "htmlize((1, 2, 3, 4))"
   ]
  },
  {
   "cell_type": "code",
   "execution_count": 23,
   "id": "133ed719-73ce-4adc-8e91-3690b05a15c8",
   "metadata": {},
   "outputs": [],
   "source": [
    "def single_dispatch(fn):\n",
    "    registry = {\n",
    "        object: fn,\n",
    "    }\n",
    "\n",
    "    def decorated(arg):  # single dispatch (single argument)\n",
    "        return registry.get(type(arg), registry[object])(arg)\n",
    "\n",
    "    def register(type_):  # parametrized decorator -> decorator factory\n",
    "        def inner(fn):\n",
    "            registry[type_] = fn\n",
    "            print(registry)\n",
    "            return fn\n",
    "        return inner\n",
    "\n",
    "    decorated.register = register\n",
    "    decorated.registry = registry  # not the best idea to allow users to accss it\n",
    "    return decorated"
   ]
  },
  {
   "cell_type": "code",
   "execution_count": 24,
   "id": "6d63acc4-6a3c-4409-bd9f-5e155ed673af",
   "metadata": {},
   "outputs": [],
   "source": [
    "@single_dispatch\n",
    "def htmlize(a):\n",
    "    return escape(str(a))"
   ]
  },
  {
   "cell_type": "code",
   "execution_count": 25,
   "id": "b446288f-537f-4e92-8807-e015d930371b",
   "metadata": {},
   "outputs": [
    {
     "data": {
      "text/plain": [
       "'1 &lt; 100'"
      ]
     },
     "execution_count": 25,
     "metadata": {},
     "output_type": "execute_result"
    }
   ],
   "source": [
    "htmlize(\"1 < 100\")"
   ]
  },
  {
   "cell_type": "code",
   "execution_count": 26,
   "id": "ee904dea-fa78-4875-af25-935298b9fef2",
   "metadata": {},
   "outputs": [
    {
     "data": {
      "text/plain": [
       "{'register': <function __main__.single_dispatch.<locals>.register(type_)>,\n",
       " 'registry': {object: <function __main__.htmlize(a)>}}"
      ]
     },
     "execution_count": 26,
     "metadata": {},
     "output_type": "execute_result"
    }
   ],
   "source": [
    "htmlize.__dict__  # register function from decorator is available!"
   ]
  },
  {
   "cell_type": "code",
   "execution_count": 27,
   "id": "bb5465e3-a48f-4875-b1c6-f430ea78d9db",
   "metadata": {},
   "outputs": [
    {
     "name": "stdout",
     "output_type": "stream",
     "text": [
      "{<class 'object'>: <function htmlize at 0x10510f420>, <class 'int'>: <function html_int at 0x10510fd80>}\n"
     ]
    }
   ],
   "source": [
    "@htmlize.register(int)  # adds the function to the htmlize registry!\n",
    "def html_int(a):\n",
    "    return f\"{a}(<i>{hex(a)}</i>\""
   ]
  },
  {
   "cell_type": "code",
   "execution_count": 28,
   "id": "19038fec-7d63-474b-83ac-6e72f9474e13",
   "metadata": {},
   "outputs": [
    {
     "data": {
      "text/plain": [
       "'100(<i>0x64</i>'"
      ]
     },
     "execution_count": 28,
     "metadata": {},
     "output_type": "execute_result"
    }
   ],
   "source": [
    "htmlize(100)"
   ]
  },
  {
   "cell_type": "code",
   "execution_count": 29,
   "id": "56014d4e-bd7b-47bd-95de-32e814498ae9",
   "metadata": {},
   "outputs": [
    {
     "name": "stdout",
     "output_type": "stream",
     "text": [
      "{<class 'object'>: <function htmlize at 0x10510f420>, <class 'int'>: <function html_int at 0x10510fd80>, <class 'list'>: <function html_list at 0x105148360>}\n",
      "{<class 'object'>: <function htmlize at 0x10510f420>, <class 'int'>: <function html_int at 0x10510fd80>, <class 'list'>: <function html_list at 0x105148360>, <class 'tuple'>: <function html_list at 0x105148360>}\n"
     ]
    }
   ],
   "source": [
    "@htmlize.register(tuple)\n",
    "@htmlize.register(list)\n",
    "def html_list(arg):\n",
    "    # same as html_list = htmlize.register(list)(html_list)\n",
    "    items = (f\"<li>{htmlize(item)}</li>\" for item in arg)\n",
    "    return \"<ul>\\n\" + \"\\n\".join(items) + \"\\n</ul>\""
   ]
  },
  {
   "cell_type": "code",
   "execution_count": 30,
   "id": "250e4259-65c9-4a12-b16f-22872a6b46a8",
   "metadata": {},
   "outputs": [
    {
     "data": {
      "text/plain": [
       "'<ul>\\n<li>1(<i>0x1</i></li>\\n<li>2(<i>0x2</i></li>\\n<li>3(<i>0x3</i></li>\\n<li>4(<i>0x4</i></li>\\n</ul>'"
      ]
     },
     "execution_count": 30,
     "metadata": {},
     "output_type": "execute_result"
    }
   ],
   "source": [
    "htmlize([1, 2, 3, 4])"
   ]
  },
  {
   "cell_type": "code",
   "execution_count": 31,
   "id": "e7553556-c320-4bf6-b0f1-2afd762fc1fe",
   "metadata": {},
   "outputs": [
    {
     "data": {
      "text/plain": [
       "'<ul>\\n<li>1(<i>0x1</i></li>\\n<li>2(<i>0x2</i></li>\\n<li>3(<i>0x3</i></li>\\n<li>4(<i>0x4</i></li>\\n</ul>'"
      ]
     },
     "execution_count": 31,
     "metadata": {},
     "output_type": "execute_result"
    }
   ],
   "source": [
    "htmlize((1, 2, 3, 4))"
   ]
  },
  {
   "cell_type": "code",
   "execution_count": 32,
   "id": "f285022b-5e72-4991-b736-04c490d0f85f",
   "metadata": {},
   "outputs": [
    {
     "data": {
      "text/plain": [
       "{object: <function __main__.htmlize(a)>,\n",
       " int: <function __main__.html_int(a)>,\n",
       " list: <function __main__.html_list(arg)>,\n",
       " tuple: <function __main__.html_list(arg)>}"
      ]
     },
     "execution_count": 32,
     "metadata": {},
     "output_type": "execute_result"
    }
   ],
   "source": [
    "htmlize.registry"
   ]
  },
  {
   "cell_type": "code",
   "execution_count": 33,
   "id": "dc184f07-c5c1-4346-8ade-b25851a37108",
   "metadata": {},
   "outputs": [],
   "source": [
    "def single_dispatch(fn):\n",
    "    registry = {\n",
    "        object: fn,\n",
    "    }\n",
    "\n",
    "    def decorated(arg):  # single dispatch (single argument)\n",
    "        return registry.get(type(arg), registry[object])(arg)\n",
    "\n",
    "    def register(type_):  # parametrized decorator -> decorator factory\n",
    "        def inner(fn):\n",
    "            registry[type_] = fn\n",
    "            print(registry)\n",
    "            return fn\n",
    "        return inner\n",
    "\n",
    "    def dispatch(type_ = object):\n",
    "        return registry.get(type_, registry[object])\n",
    "\n",
    "    \n",
    "    decorated.register = register\n",
    "    decorated.dispatch = dispatch\n",
    "    return decorated"
   ]
  },
  {
   "cell_type": "code",
   "execution_count": 34,
   "id": "e01dfc5b-e14a-4fa2-ae89-5239e028dd83",
   "metadata": {},
   "outputs": [],
   "source": [
    "@single_dispatch\n",
    "def htmlize(a):\n",
    "    return escape(str(a))"
   ]
  },
  {
   "cell_type": "code",
   "execution_count": 35,
   "id": "199e9a2c-9ec1-45b0-b747-d2337eadf741",
   "metadata": {},
   "outputs": [
    {
     "data": {
      "text/plain": [
       "<function __main__.htmlize(a)>"
      ]
     },
     "execution_count": 35,
     "metadata": {},
     "output_type": "execute_result"
    }
   ],
   "source": [
    "htmlize.dispatch()"
   ]
  },
  {
   "cell_type": "code",
   "execution_count": 36,
   "id": "8449e691-5b19-4321-bb3b-5d72580d787a",
   "metadata": {},
   "outputs": [
    {
     "name": "stdout",
     "output_type": "stream",
     "text": [
      "{<class 'object'>: <function htmlize at 0x105148cc0>, <class 'list'>: <function html_list at 0x105149620>}\n",
      "{<class 'object'>: <function htmlize at 0x105148cc0>, <class 'list'>: <function html_list at 0x105149620>, <class 'tuple'>: <function html_list at 0x105149620>}\n"
     ]
    }
   ],
   "source": [
    "@htmlize.register(tuple)\n",
    "@htmlize.register(list)\n",
    "def html_list(arg):\n",
    "    # same as html_list = htmlize.register(list)(html_list)\n",
    "    items = (f\"<li>{htmlize(item)}</li>\" for item in arg)\n",
    "    return \"<ul>\\n\" + \"\\n\".join(items) + \"\\n</ul>\""
   ]
  },
  {
   "cell_type": "code",
   "execution_count": 37,
   "id": "fea3ffb2-06f5-4b0d-8fa2-f450a1e1fd57",
   "metadata": {},
   "outputs": [
    {
     "data": {
      "text/plain": [
       "<function __main__.html_list(arg)>"
      ]
     },
     "execution_count": 37,
     "metadata": {},
     "output_type": "execute_result"
    }
   ],
   "source": [
    "htmlize.dispatch(list)"
   ]
  },
  {
   "cell_type": "code",
   "execution_count": 38,
   "id": "6caf2d60-4930-44ed-a0c7-7c965d474f2e",
   "metadata": {},
   "outputs": [
    {
     "data": {
      "text/plain": [
       "<function __main__.html_list(arg)>"
      ]
     },
     "execution_count": 38,
     "metadata": {},
     "output_type": "execute_result"
    }
   ],
   "source": [
    "htmlize.dispatch(tuple)"
   ]
  },
  {
   "cell_type": "code",
   "execution_count": 39,
   "id": "5f7feeb7-4d3d-492a-b533-dd468f00da54",
   "metadata": {},
   "outputs": [
    {
     "name": "stdout",
     "output_type": "stream",
     "text": [
      "{<class 'object'>: <function htmlize at 0x105149da0>, <class 'numbers.Integral'>: <function html_integral_number at 0x105148d60>}\n"
     ]
    }
   ],
   "source": [
    "from numbers import Integral\n",
    "\n",
    "@single_dispatch\n",
    "def htmlize(a):\n",
    "    return escape(str(a))\n",
    "\n",
    "\n",
    "@htmlize.register(Integral)\n",
    "def html_integral_number(a):\n",
    "    return f\"{a}(<i>{hex(a)}</i>\""
   ]
  },
  {
   "cell_type": "code",
   "execution_count": 40,
   "id": "ca93c6f6-b8a4-4c61-a27d-adc683f11e3a",
   "metadata": {},
   "outputs": [
    {
     "data": {
      "text/plain": [
       "'10'"
      ]
     },
     "execution_count": 40,
     "metadata": {},
     "output_type": "execute_result"
    }
   ],
   "source": [
    "htmlize(10)  # doesn't work because type(10) is int, not Integral. Decorator needs to be fixed"
   ]
  },
  {
   "cell_type": "code",
   "execution_count": 41,
   "id": "027a25e0-52c5-4e1f-9e2d-366baebb0f26",
   "metadata": {},
   "outputs": [
    {
     "name": "stdout",
     "output_type": "stream",
     "text": [
      "Help on function singledispatch in module functools:\n",
      "\n",
      "singledispatch(func)\n",
      "    Single-dispatch generic function decorator.\n",
      "\n",
      "    Transforms a function into a generic function, which can have different\n",
      "    behaviours depending upon the type of its first argument. The decorated\n",
      "    function acts as the default implementation, and additional\n",
      "    implementations can be registered using the register() attribute of the\n",
      "    generic function.\n",
      "\n"
     ]
    }
   ],
   "source": [
    "from functools import singledispatch\n",
    "\n",
    "help(singledispatch)"
   ]
  },
  {
   "cell_type": "code",
   "execution_count": 42,
   "id": "6499c9d4-f04d-49eb-83f3-9058b47d10bf",
   "metadata": {},
   "outputs": [],
   "source": [
    "@singledispatch\n",
    "def htmlize(a):\n",
    "    return escape(str(a))"
   ]
  },
  {
   "cell_type": "code",
   "execution_count": 43,
   "id": "f7230d04-b3cc-425e-ae2b-c3b4b8a48423",
   "metadata": {},
   "outputs": [
    {
     "data": {
      "text/plain": [
       "mappingproxy({object: <function __main__.htmlize(a)>})"
      ]
     },
     "execution_count": 43,
     "metadata": {},
     "output_type": "execute_result"
    }
   ],
   "source": [
    "htmlize.registry"
   ]
  },
  {
   "cell_type": "code",
   "execution_count": 44,
   "id": "9cee4103-aa53-4bee-9be9-73d90445a47a",
   "metadata": {},
   "outputs": [
    {
     "data": {
      "text/plain": [
       "<function __main__.htmlize(a)>"
      ]
     },
     "execution_count": 44,
     "metadata": {},
     "output_type": "execute_result"
    }
   ],
   "source": [
    "htmlize.dispatch(str)"
   ]
  },
  {
   "cell_type": "code",
   "execution_count": 45,
   "id": "d5063f29-29ad-4dd1-937a-bea6f661dacc",
   "metadata": {},
   "outputs": [],
   "source": [
    "@htmlize.register(Integral)\n",
    "def html_integral_number(a):\n",
    "    return f\"{a}(<i>{hex(a)}</i>\"\n",
    "    "
   ]
  },
  {
   "cell_type": "code",
   "execution_count": 46,
   "id": "c584ab5f-c44a-4194-9051-2ed75a99d254",
   "metadata": {},
   "outputs": [
    {
     "data": {
      "text/plain": [
       "'100(<i>0x64</i>'"
      ]
     },
     "execution_count": 46,
     "metadata": {},
     "output_type": "execute_result"
    }
   ],
   "source": [
    "htmlize(100)"
   ]
  },
  {
   "cell_type": "code",
   "execution_count": 47,
   "id": "d268b922-e10e-436b-93d5-e74c52ee3d69",
   "metadata": {},
   "outputs": [
    {
     "data": {
      "text/plain": [
       "'True(<i>0x1</i>'"
      ]
     },
     "execution_count": 47,
     "metadata": {},
     "output_type": "execute_result"
    }
   ],
   "source": [
    "htmlize(True)"
   ]
  },
  {
   "cell_type": "code",
   "execution_count": 48,
   "id": "dbd48885-8278-42cb-ab49-98929391f295",
   "metadata": {},
   "outputs": [
    {
     "data": {
      "text/plain": [
       "mappingproxy({object: <function __main__.htmlize(a)>,\n",
       "              numbers.Integral: <function __main__.html_integral_number(a)>})"
      ]
     },
     "execution_count": 48,
     "metadata": {},
     "output_type": "execute_result"
    }
   ],
   "source": [
    "htmlize.registry"
   ]
  },
  {
   "cell_type": "code",
   "execution_count": 49,
   "id": "1edaa1e2-d09c-43f3-80b5-070d47aa5afd",
   "metadata": {},
   "outputs": [
    {
     "data": {
      "text/plain": [
       "<function __main__.html_integral_number(a)>"
      ]
     },
     "execution_count": 49,
     "metadata": {},
     "output_type": "execute_result"
    }
   ],
   "source": [
    "htmlize.dispatch(int)"
   ]
  },
  {
   "cell_type": "code",
   "execution_count": 50,
   "id": "056a473c-c14f-4b76-be3e-6f9e795dc27b",
   "metadata": {},
   "outputs": [
    {
     "data": {
      "text/plain": [
       "'1 &lt; 100'"
      ]
     },
     "execution_count": 50,
     "metadata": {},
     "output_type": "execute_result"
    }
   ],
   "source": [
    "htmlize(\"1 < 100\")"
   ]
  },
  {
   "cell_type": "code",
   "execution_count": 51,
   "id": "bf6677bb-32b3-44aa-b402-b8acf030fd81",
   "metadata": {},
   "outputs": [],
   "source": [
    "from collections.abc import Sequence\n",
    "\n",
    "@htmlize.register(Sequence)\n",
    "def html_sequence(arg):\n",
    "    return \" Sequence! <br/>\".join(htmlize(item) for item in arg)"
   ]
  },
  {
   "cell_type": "code",
   "execution_count": 52,
   "id": "2655defb-e12d-455c-873b-ce9d96bb4ff7",
   "metadata": {},
   "outputs": [
    {
     "data": {
      "text/plain": [
       "'1(<i>0x1</i> Sequence! <br/>2(<i>0x2</i> Sequence! <br/>3(<i>0x3</i> Sequence! <br/>4(<i>0x4</i>'"
      ]
     },
     "execution_count": 52,
     "metadata": {},
     "output_type": "execute_result"
    }
   ],
   "source": [
    "htmlize([1, 2, 3, 4])"
   ]
  },
  {
   "cell_type": "code",
   "execution_count": 53,
   "id": "31d42766-87be-4f94-bec8-759c2463d223",
   "metadata": {},
   "outputs": [
    {
     "name": "stdout",
     "output_type": "stream",
     "text": [
      "maximum recursion depth exceeded\n"
     ]
    }
   ],
   "source": [
    "try:\n",
    "    htmlize(\"abcd\")  # recursion error!! htmlize is called in loop - string is a Sequence!\n",
    "except RecursionError as e:\n",
    "    print(e)"
   ]
  },
  {
   "cell_type": "code",
   "execution_count": 54,
   "id": "ca981e62-a164-49db-b235-645b2b2f9b76",
   "metadata": {},
   "outputs": [],
   "source": [
    "# to fix, we need to register more specific type, str in this case\n",
    "@htmlize.register  # no explicit type, but function signature has a type and that will be used\n",
    "def html_str(s: str):\n",
    "    return f\"<br/>{escape(s)}<br/>\""
   ]
  },
  {
   "cell_type": "code",
   "execution_count": 55,
   "id": "1bc8b61b-0dcc-47e8-8542-a5f79090de8a",
   "metadata": {},
   "outputs": [
    {
     "data": {
      "text/plain": [
       "'<br/>abc<br/>'"
      ]
     },
     "execution_count": 55,
     "metadata": {},
     "output_type": "execute_result"
    }
   ],
   "source": [
    "htmlize(\"abc\")"
   ]
  },
  {
   "cell_type": "code",
   "execution_count": null,
   "id": "39d848fa-e353-4655-b124-d2d0ffbb435d",
   "metadata": {},
   "outputs": [],
   "source": []
  }
 ],
 "metadata": {
  "kernelspec": {
   "display_name": "Python 3 (ipykernel)",
   "language": "python",
   "name": "python3"
  },
  "language_info": {
   "codemirror_mode": {
    "name": "ipython",
    "version": 3
   },
   "file_extension": ".py",
   "mimetype": "text/x-python",
   "name": "python",
   "nbconvert_exporter": "python",
   "pygments_lexer": "ipython3",
   "version": "3.12.3"
  }
 },
 "nbformat": 4,
 "nbformat_minor": 5
}
