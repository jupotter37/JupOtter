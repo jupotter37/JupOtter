{
 "cells": [
  {
   "cell_type": "markdown",
   "metadata": {},
   "source": [
    "**Outline for Wednesday, March 17**\n",
    "\n",
    "Recursion\n",
    "\n",
    "You will be able to:\n",
    " - Identify recursive functions\n",
    " - Trace to identify the Base Case and the Recursive Case in a recursive function\n",
    " - Identify a common error when writing recursive functions (infinite recursion)\n",
    " - Explain how data structures can be defined _recursively_\n",
    "   - lists, dictionaries, JSON\n",
    " \n",
    "Definitions\n",
    " - Base case\n",
    " - Recursive case\n",
    " - Infinite recursion\n",
    " \n",
    "Note: We aren't asking you to write your own recursive functions yet. We DO want you to recognize it when you see it, and be able to trace recursive functions."
   ]
  },
  {
   "cell_type": "markdown",
   "metadata": {},
   "source": [
    "**Functions Calling Themselves**"
   ]
  },
  {
   "cell_type": "code",
   "execution_count": 1,
   "metadata": {},
   "outputs": [
    {
     "data": {
      "text/plain": [
       "20"
      ]
     },
     "execution_count": 1,
     "metadata": {},
     "output_type": "execute_result"
    }
   ],
   "source": [
    "#Scenario 1: Functions calling each-other (obviously ok)\n",
    "def f(x):\n",
    "    return 2*x\n",
    "\n",
    "def g(x):\n",
    "    return f(x)\n",
    "\n",
    "g(10)"
   ]
  },
  {
   "cell_type": "code",
   "execution_count": 2,
   "metadata": {},
   "outputs": [
    {
     "ename": "RecursionError",
     "evalue": "maximum recursion depth exceeded",
     "output_type": "error",
     "traceback": [
      "\u001b[1;31m---------------------------------------------------------------------------\u001b[0m",
      "\u001b[1;31mRecursionError\u001b[0m                            Traceback (most recent call last)",
      "\u001b[1;32m<ipython-input-2-0aa6edb61c40>\u001b[0m in \u001b[0;36m<module>\u001b[1;34m\u001b[0m\n\u001b[0;32m      4\u001b[0m     \u001b[1;32mreturn\u001b[0m \u001b[1;36m2\u001b[0m\u001b[1;33m*\u001b[0m\u001b[0mans\u001b[0m\u001b[1;33m\u001b[0m\u001b[1;33m\u001b[0m\u001b[0m\n\u001b[0;32m      5\u001b[0m \u001b[1;33m\u001b[0m\u001b[0m\n\u001b[1;32m----> 6\u001b[1;33m \u001b[0mf\u001b[0m\u001b[1;33m(\u001b[0m\u001b[1;36m10\u001b[0m\u001b[1;33m)\u001b[0m\u001b[1;33m\u001b[0m\u001b[1;33m\u001b[0m\u001b[0m\n\u001b[0m",
      "\u001b[1;32m<ipython-input-2-0aa6edb61c40>\u001b[0m in \u001b[0;36mf\u001b[1;34m(x)\u001b[0m\n\u001b[0;32m      1\u001b[0m \u001b[1;31m#Scenario 2: Functions calling themselves\u001b[0m\u001b[1;33m\u001b[0m\u001b[1;33m\u001b[0m\u001b[1;33m\u001b[0m\u001b[0m\n\u001b[0;32m      2\u001b[0m \u001b[1;32mdef\u001b[0m \u001b[0mf\u001b[0m\u001b[1;33m(\u001b[0m\u001b[0mx\u001b[0m\u001b[1;33m)\u001b[0m\u001b[1;33m:\u001b[0m\u001b[1;33m\u001b[0m\u001b[1;33m\u001b[0m\u001b[0m\n\u001b[1;32m----> 3\u001b[1;33m     \u001b[0mans\u001b[0m \u001b[1;33m=\u001b[0m \u001b[0mf\u001b[0m\u001b[1;33m(\u001b[0m\u001b[0mx\u001b[0m\u001b[1;33m)\u001b[0m\u001b[1;33m\u001b[0m\u001b[1;33m\u001b[0m\u001b[0m\n\u001b[0m\u001b[0;32m      4\u001b[0m     \u001b[1;32mreturn\u001b[0m \u001b[1;36m2\u001b[0m\u001b[1;33m*\u001b[0m\u001b[0mans\u001b[0m\u001b[1;33m\u001b[0m\u001b[1;33m\u001b[0m\u001b[0m\n\u001b[0;32m      5\u001b[0m \u001b[1;33m\u001b[0m\u001b[0m\n",
      "... last 1 frames repeated, from the frame below ...\n",
      "\u001b[1;32m<ipython-input-2-0aa6edb61c40>\u001b[0m in \u001b[0;36mf\u001b[1;34m(x)\u001b[0m\n\u001b[0;32m      1\u001b[0m \u001b[1;31m#Scenario 2: Functions calling themselves\u001b[0m\u001b[1;33m\u001b[0m\u001b[1;33m\u001b[0m\u001b[1;33m\u001b[0m\u001b[0m\n\u001b[0;32m      2\u001b[0m \u001b[1;32mdef\u001b[0m \u001b[0mf\u001b[0m\u001b[1;33m(\u001b[0m\u001b[0mx\u001b[0m\u001b[1;33m)\u001b[0m\u001b[1;33m:\u001b[0m\u001b[1;33m\u001b[0m\u001b[1;33m\u001b[0m\u001b[0m\n\u001b[1;32m----> 3\u001b[1;33m     \u001b[0mans\u001b[0m \u001b[1;33m=\u001b[0m \u001b[0mf\u001b[0m\u001b[1;33m(\u001b[0m\u001b[0mx\u001b[0m\u001b[1;33m)\u001b[0m\u001b[1;33m\u001b[0m\u001b[1;33m\u001b[0m\u001b[0m\n\u001b[0m\u001b[0;32m      4\u001b[0m     \u001b[1;32mreturn\u001b[0m \u001b[1;36m2\u001b[0m\u001b[1;33m*\u001b[0m\u001b[0mans\u001b[0m\u001b[1;33m\u001b[0m\u001b[1;33m\u001b[0m\u001b[0m\n\u001b[0;32m      5\u001b[0m \u001b[1;33m\u001b[0m\u001b[0m\n",
      "\u001b[1;31mRecursionError\u001b[0m: maximum recursion depth exceeded"
     ]
    }
   ],
   "source": [
    "#Scenario 2: Functions calling themselves\n",
    "def f(x):\n",
    "    ans = f(x)\n",
    "    return 2*ans\n",
    "\n",
    "f(10)"
   ]
  },
  {
   "cell_type": "markdown",
   "metadata": {},
   "source": [
    "**Recursive Functions**\n",
    "\n",
    "Definition: A recursive function is a function that (directly or indirectly) calls itself.\n",
    "\n",
    "Danger: When a function calls itself, that generates a new frame. If we never make progress toward a stopping state, then we get infinite recursion (until we run out of frames in computer memory)."
   ]
  },
  {
   "cell_type": "markdown",
   "metadata": {},
   "source": [
    "**Three Rules to Writing a Recursive Function**\n",
    "\n",
    "1. Must have a recursive case (function calling itself directly or indirectly)\n",
    "2. Must have a base case (input for which the function does not call itself again)\n",
    "3. Every call to the function must \"make progress\" toward a base case\n",
    "\n",
    "Violating these rules usually results in infinite recursion"
   ]
  },
  {
   "cell_type": "markdown",
   "metadata": {},
   "source": [
    "**Recursive Datastructures**\n",
    "\n",
    "Example: Directories\n",
    "\n",
    "Each directory contains stuff\n",
    " - Files\n",
    " - Other directories\n",
    " \n",
    "What makes this \"recursive\" is that the data structure element (directory) is defined as something that references other elements of the same type (other directories)."
   ]
  },
  {
   "cell_type": "markdown",
   "metadata": {},
   "source": [
    "**Examples:**\n",
    " - Recursive list len()\n",
    " - Calculating the factorial\n",
    " - Pretty-printing\n",
    " - \"Deep\" find"
   ]
  },
  {
   "cell_type": "code",
   "execution_count": 4,
   "metadata": {},
   "outputs": [
    {
     "data": {
      "text/plain": [
       "6"
      ]
     },
     "execution_count": 4,
     "metadata": {},
     "output_type": "execute_result"
    }
   ],
   "source": [
    "my_list = [3,4,2,1,6,7]\n",
    "len(my_list)\n",
    "\n",
    "def recursive_len(ls):\n",
    "    ls = ls[:] #Make a copy of ls so we don't destroy the original\n",
    "    #Base case\n",
    "    if ls == []:\n",
    "        return 0\n",
    "    #Recursive case\n",
    "    #(implicit else:)\n",
    "    ls.pop()\n",
    "    return 1 + recursive_len(ls)\n",
    "\n",
    "recursive_len(my_list)"
   ]
  },
  {
   "cell_type": "code",
   "execution_count": 6,
   "metadata": {},
   "outputs": [
    {
     "data": {
      "text/plain": [
       "6"
      ]
     },
     "execution_count": 6,
     "metadata": {},
     "output_type": "execute_result"
    }
   ],
   "source": [
    "my_list = [3,4,2,1,6,7]\n",
    "len(my_list)\n",
    "\n",
    "def recursive_len(ls):\n",
    "    my_ls = ls[:] #Make a copy of ls so we don't destroy the original\n",
    "    return recursive_len_helper(my_ls)\n",
    "    \n",
    "def recursive_len_helper(ls):\n",
    "    #Base case\n",
    "    if ls == []:\n",
    "        return 0\n",
    "    #Recursive case\n",
    "    #(implicit else:)\n",
    "    ls.pop()\n",
    "    return 1 + recursive_len_helper(ls)\n",
    "\n",
    "recursive_len(my_list)"
   ]
  },
  {
   "cell_type": "code",
   "execution_count": 8,
   "metadata": {},
   "outputs": [
    {
     "name": "stdout",
     "output_type": "stream",
     "text": [
      "1\n",
      "6\n",
      "24\n",
      "3628800\n"
     ]
    }
   ],
   "source": [
    "#Calculate the factorial\n",
    "# 0! = 1\n",
    "# 1! = 1\n",
    "# 2! = 1 * 2 = 2\n",
    "# 3! = 1 * 2 * 3 = 6\n",
    "# 4! = 1 * 2 * 3 * 4 = 24\n",
    "\n",
    "def fact(n):\n",
    "    #Base case\n",
    "    if n <= 1: #Note: This will give the \"wrong\" answer is n is negative!\n",
    "        return 1\n",
    "    #Recursive case\n",
    "    return n * fact(n-1)\n",
    "\n",
    "print(fact(1))\n",
    "print(fact(3))\n",
    "print(fact(4))\n",
    "print(fact(10))"
   ]
  },
  {
   "cell_type": "code",
   "execution_count": null,
   "metadata": {},
   "outputs": [],
   "source": []
  }
 ],
 "metadata": {
  "kernelspec": {
   "display_name": "Python 3",
   "language": "python",
   "name": "python3"
  },
  "language_info": {
   "codemirror_mode": {
    "name": "ipython",
    "version": 3
   },
   "file_extension": ".py",
   "mimetype": "text/x-python",
   "name": "python",
   "nbconvert_exporter": "python",
   "pygments_lexer": "ipython3",
   "version": "3.7.4"
  }
 },
 "nbformat": 4,
 "nbformat_minor": 4
}
