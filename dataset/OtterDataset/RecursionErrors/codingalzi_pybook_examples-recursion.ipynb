{
 "cells": [
  {
   "cell_type": "markdown",
   "id": "84765e7f",
   "metadata": {},
   "source": [
    "# (실습) 재귀 함수"
   ]
  },
  {
   "cell_type": "code",
   "execution_count": null,
   "id": "ef511e2c",
   "metadata": {},
   "outputs": [],
   "source": []
  },
  {
   "cell_type": "markdown",
   "id": "babd82b3",
   "metadata": {
    "colab_type": "text",
    "id": "fzghOA9UQmB8"
   },
   "source": [
    "## 문제 10\n",
    "\n",
    "(Think Python) 프로그래밍 기본 요소: 집합과 사전 - 연습문제 6번 A"
   ]
  },
  {
   "cell_type": "code",
   "execution_count": 24,
   "id": "3da54e77",
   "metadata": {
    "colab": {},
    "colab_type": "code",
    "id": "cSidmM6R7GxD"
   },
   "outputs": [],
   "source": [
    "def factorial(n):\n",
    "    if n == 1:\n",
    "        return 1\n",
    "    else:\n",
    "        res = n * factorial(n-1)\n",
    "        return res"
   ]
  },
  {
   "cell_type": "markdown",
   "id": "cceb31c8",
   "metadata": {
    "colab_type": "text",
    "id": "9kJa1bh8QmB9"
   },
   "source": [
    "#### 주의사항\n",
    "\n",
    "* 계산이 가능할 때까지 코드셀을 추가하여 1000씩 늘리며 확인할 것.\n",
    "* 구글 코랩에서는 아마 100에서부터 시작해서 100씩 늘려야 할 수도 있음."
   ]
  },
  {
   "cell_type": "code",
   "execution_count": 25,
   "id": "3d391a91",
   "metadata": {
    "colab": {
     "base_uri": "https://localhost:8080/",
     "height": 34
    },
    "colab_type": "code",
    "id": "mqSZoFzJH9mR",
    "outputId": "28926105-e3d8-488a-c270-9dcff3e99447"
   },
   "outputs": [
    {
     "name": "stdout",
     "output_type": "stream",
     "text": [
      "0.0005807876586914062\n"
     ]
    }
   ],
   "source": [
    "import time\n",
    "\n",
    "start_time2 = time.time()\n",
    "f1000 = factorial(900)\n",
    "elapsed_time2 = time.time() - start_time2\n",
    "print(elapsed_time2)"
   ]
  },
  {
   "cell_type": "markdown",
   "id": "9884809d",
   "metadata": {
    "colab_type": "text",
    "id": "wJQdoXZXQmB-"
   },
   "source": [
    "#### 1000!"
   ]
  },
  {
   "cell_type": "code",
   "execution_count": 26,
   "id": "415bec01",
   "metadata": {
    "colab": {
     "base_uri": "https://localhost:8080/",
     "height": 404
    },
    "colab_type": "code",
    "id": "oRY_TtvjQmB-",
    "outputId": "91b143fc-14a1-41a3-ff90-d43f97d5030c"
   },
   "outputs": [
    {
     "name": "stdout",
     "output_type": "stream",
     "text": [
      "0.0008385181427001953\n"
     ]
    }
   ],
   "source": [
    "import time\n",
    "\n",
    "start_time2 = time.time()\n",
    "f1000 = factorial(1000)\n",
    "elapsed_time2 = time.time() - start_time2\n",
    "print(elapsed_time2)"
   ]
  },
  {
   "cell_type": "markdown",
   "id": "11d560b9",
   "metadata": {
    "colab_type": "text",
    "id": "gVC0DnAdQmB_"
   },
   "source": [
    "#### 2000!"
   ]
  },
  {
   "cell_type": "code",
   "execution_count": 27,
   "id": "c84575ac",
   "metadata": {
    "colab": {},
    "colab_type": "code",
    "id": "eGhMYAIqQmB_"
   },
   "outputs": [
    {
     "name": "stdout",
     "output_type": "stream",
     "text": [
      "0.0022497177124023438\n"
     ]
    }
   ],
   "source": [
    "import time\n",
    "\n",
    "start_time2 = time.time()\n",
    "f2000 = factorial(2000)\n",
    "elapsed_time2 = time.time() - start_time2\n",
    "print(elapsed_time2)"
   ]
  },
  {
   "cell_type": "markdown",
   "id": "f4dfc89b",
   "metadata": {
    "colab_type": "text",
    "id": "WtQR6-BlQmCA"
   },
   "source": [
    "#### 3000! 가능?"
   ]
  },
  {
   "cell_type": "code",
   "execution_count": 28,
   "id": "ee79e60c",
   "metadata": {
    "colab": {},
    "colab_type": "code",
    "id": "ol2nNhCgQmCA"
   },
   "outputs": [
    {
     "ename": "RecursionError",
     "evalue": "maximum recursion depth exceeded in comparison",
     "output_type": "error",
     "traceback": [
      "\u001b[0;31m---------------------------------------------------------------------------\u001b[0m",
      "\u001b[0;31mRecursionError\u001b[0m                            Traceback (most recent call last)",
      "\u001b[0;32m<ipython-input-28-db73a6c088ae>\u001b[0m in \u001b[0;36m<module>\u001b[0;34m\u001b[0m\n\u001b[1;32m      2\u001b[0m \u001b[0;34m\u001b[0m\u001b[0m\n\u001b[1;32m      3\u001b[0m \u001b[0mstart_time2\u001b[0m \u001b[0;34m=\u001b[0m \u001b[0mtime\u001b[0m\u001b[0;34m.\u001b[0m\u001b[0mtime\u001b[0m\u001b[0;34m(\u001b[0m\u001b[0;34m)\u001b[0m\u001b[0;34m\u001b[0m\u001b[0;34m\u001b[0m\u001b[0m\n\u001b[0;32m----> 4\u001b[0;31m \u001b[0mf3000\u001b[0m \u001b[0;34m=\u001b[0m \u001b[0mfactorial\u001b[0m\u001b[0;34m(\u001b[0m\u001b[0;36m3000\u001b[0m\u001b[0;34m)\u001b[0m\u001b[0;34m\u001b[0m\u001b[0;34m\u001b[0m\u001b[0m\n\u001b[0m\u001b[1;32m      5\u001b[0m \u001b[0melapsed_time2\u001b[0m \u001b[0;34m=\u001b[0m \u001b[0mtime\u001b[0m\u001b[0;34m.\u001b[0m\u001b[0mtime\u001b[0m\u001b[0;34m(\u001b[0m\u001b[0;34m)\u001b[0m \u001b[0;34m-\u001b[0m \u001b[0mstart_time2\u001b[0m\u001b[0;34m\u001b[0m\u001b[0;34m\u001b[0m\u001b[0m\n\u001b[1;32m      6\u001b[0m \u001b[0mprint\u001b[0m\u001b[0;34m(\u001b[0m\u001b[0melapsed_time2\u001b[0m\u001b[0;34m)\u001b[0m\u001b[0;34m\u001b[0m\u001b[0;34m\u001b[0m\u001b[0m\n",
      "\u001b[0;32m<ipython-input-24-aa4a2dd022b2>\u001b[0m in \u001b[0;36mfactorial\u001b[0;34m(n)\u001b[0m\n\u001b[1;32m      3\u001b[0m         \u001b[0;32mreturn\u001b[0m \u001b[0;36m1\u001b[0m\u001b[0;34m\u001b[0m\u001b[0;34m\u001b[0m\u001b[0m\n\u001b[1;32m      4\u001b[0m     \u001b[0;32melse\u001b[0m\u001b[0;34m:\u001b[0m\u001b[0;34m\u001b[0m\u001b[0;34m\u001b[0m\u001b[0m\n\u001b[0;32m----> 5\u001b[0;31m         \u001b[0mres\u001b[0m \u001b[0;34m=\u001b[0m \u001b[0mn\u001b[0m \u001b[0;34m*\u001b[0m \u001b[0mfactorial\u001b[0m\u001b[0;34m(\u001b[0m\u001b[0mn\u001b[0m\u001b[0;34m-\u001b[0m\u001b[0;36m1\u001b[0m\u001b[0;34m)\u001b[0m\u001b[0;34m\u001b[0m\u001b[0;34m\u001b[0m\u001b[0m\n\u001b[0m\u001b[1;32m      6\u001b[0m         \u001b[0;32mreturn\u001b[0m \u001b[0mres\u001b[0m\u001b[0;34m\u001b[0m\u001b[0;34m\u001b[0m\u001b[0m\n",
      "... last 1 frames repeated, from the frame below ...\n",
      "\u001b[0;32m<ipython-input-24-aa4a2dd022b2>\u001b[0m in \u001b[0;36mfactorial\u001b[0;34m(n)\u001b[0m\n\u001b[1;32m      3\u001b[0m         \u001b[0;32mreturn\u001b[0m \u001b[0;36m1\u001b[0m\u001b[0;34m\u001b[0m\u001b[0;34m\u001b[0m\u001b[0m\n\u001b[1;32m      4\u001b[0m     \u001b[0;32melse\u001b[0m\u001b[0;34m:\u001b[0m\u001b[0;34m\u001b[0m\u001b[0;34m\u001b[0m\u001b[0m\n\u001b[0;32m----> 5\u001b[0;31m         \u001b[0mres\u001b[0m \u001b[0;34m=\u001b[0m \u001b[0mn\u001b[0m \u001b[0;34m*\u001b[0m \u001b[0mfactorial\u001b[0m\u001b[0;34m(\u001b[0m\u001b[0mn\u001b[0m\u001b[0;34m-\u001b[0m\u001b[0;36m1\u001b[0m\u001b[0;34m)\u001b[0m\u001b[0;34m\u001b[0m\u001b[0;34m\u001b[0m\u001b[0m\n\u001b[0m\u001b[1;32m      6\u001b[0m         \u001b[0;32mreturn\u001b[0m \u001b[0mres\u001b[0m\u001b[0;34m\u001b[0m\u001b[0;34m\u001b[0m\u001b[0m\n",
      "\u001b[0;31mRecursionError\u001b[0m: maximum recursion depth exceeded in comparison"
     ]
    }
   ],
   "source": [
    "import time\n",
    "\n",
    "start_time2 = time.time()\n",
    "f3000 = factorial(3000)\n",
    "elapsed_time2 = time.time() - start_time2\n",
    "print(elapsed_time2)"
   ]
  },
  {
   "cell_type": "markdown",
   "id": "df8d91b4",
   "metadata": {
    "colab_type": "text",
    "id": "ZJGJdGTxQmCB"
   },
   "source": [
    "#### 4000! 가능?"
   ]
  },
  {
   "cell_type": "markdown",
   "id": "6dcdf273",
   "metadata": {
    "colab_type": "text",
    "id": "-rZi7M4qQmCB"
   },
   "source": [
    "..."
   ]
  },
  {
   "cell_type": "code",
   "execution_count": null,
   "id": "19e2fae4",
   "metadata": {},
   "outputs": [],
   "source": []
  },
  {
   "cell_type": "code",
   "execution_count": null,
   "id": "120deccc",
   "metadata": {},
   "outputs": [],
   "source": []
  },
  {
   "cell_type": "markdown",
   "id": "61dcc6ec",
   "metadata": {},
   "source": [
    "**문제 1**"
   ]
  },
  {
   "cell_type": "markdown",
   "id": "db3d2c91",
   "metadata": {},
   "source": [
    "양의 정수들의 최대공약수(gcd)를 반환하는 함수 `gcd()` 를 재귀를 이용하여 구현하라.\n",
    "\n",
    "힌트: 유클리드 호제법을 활용한다."
   ]
  },
  {
   "cell_type": "code",
   "execution_count": 1,
   "id": "d062401e",
   "metadata": {
    "id": "m7hR5DCuhEpo",
    "outputId": "6fb5492e-f4cd-4f9d-bbbc-40f146e2e6e8"
   },
   "outputs": [],
   "source": [
    "def gcd(x, y):\n",
    "    assert isinstance(x, int) and x > 0\n",
    "    assert isinstance(y, int) and y > 0\n",
    "    \n",
    "    pass\n",
    "\n",
    "    return None"
   ]
  },
  {
   "cell_type": "code",
   "execution_count": 2,
   "id": "8997e882",
   "metadata": {},
   "outputs": [],
   "source": [
    "# 아래 코드의 주석을 해제하고 실행하라.\n",
    "\n",
    "# assert gcd(14, 18) == 2\n",
    "# assert gcd(90, 72) == 18\n",
    "# assert gcd(24, 30) == 6"
   ]
  },
  {
   "cell_type": "markdown",
   "id": "02d70691",
   "metadata": {},
   "source": [
    "**문제 2**"
   ]
  },
  {
   "cell_type": "markdown",
   "id": "f6d15f1d",
   "metadata": {},
   "source": [
    "리스트 또는 튜플에 포함된 수들의 합을 반환하는 `coll_sum()` 함수를  재귀를 이용하여 구현하라.\n",
    "또한 range 자료형도 지원해야 한다. "
   ]
  },
  {
   "cell_type": "code",
   "execution_count": 3,
   "id": "57f357a4",
   "metadata": {
    "id": "m7hR5DCuhEpo",
    "outputId": "6fb5492e-f4cd-4f9d-bbbc-40f146e2e6e8"
   },
   "outputs": [],
   "source": [
    "def coll_sum(ls):\n",
    "    pass\n",
    "\n",
    "    return None"
   ]
  },
  {
   "cell_type": "code",
   "execution_count": 4,
   "id": "3bf1b1b5",
   "metadata": {},
   "outputs": [],
   "source": [
    "# 아래 코드의 주석을 해제하고 실행하라.\n",
    "\n",
    "# assert coll_sum([1, 2, 3, 4, 5]) == 15\n",
    "# assert coll_sum(range(0, 11, 2)) == 30\n",
    "# assert coll_sum((1.2, 3.3, 5.6, 7.2, 9.8)) == 27.1"
   ]
  },
  {
   "cell_type": "markdown",
   "id": "550b1526",
   "metadata": {},
   "source": [
    "**문제 3**"
   ]
  },
  {
   "cell_type": "markdown",
   "id": "b4d0996c",
   "metadata": {},
   "source": [
    "임의로 중첩된 리스트를 풀어헤쳐 중첩이 없는 리스트를 생성하는\n",
    "`flatten()` 함수를 재귀를 이용하여 구현하라."
   ]
  },
  {
   "cell_type": "code",
   "execution_count": 5,
   "id": "9665e91c",
   "metadata": {
    "id": "m7hR5DCuhEpo",
    "outputId": "6fb5492e-f4cd-4f9d-bbbc-40f146e2e6e8"
   },
   "outputs": [],
   "source": [
    "def flatten(ls):\n",
    "    pass\n",
    "\n",
    "    return None"
   ]
  },
  {
   "cell_type": "code",
   "execution_count": 6,
   "id": "e21945be",
   "metadata": {},
   "outputs": [],
   "source": [
    "# 아래 코드의 주석을 해제하고 실행하라.\n",
    "\n",
    "# assert flatten([1, [2, 3, 4], [5, 6, [7, 8]]]) == [1, 2, 3, 4, 5, 6, 7, 8]\n",
    "# assert flatten([[4.8, 1.2], 3.3, [5.6, 7.2, 9.8]]) == [4.8, 1.2, 3.3, 5.6, 7.2, 9.8]"
   ]
  },
  {
   "cell_type": "markdown",
   "id": "17ba7a20",
   "metadata": {},
   "source": [
    "**문제 4**"
   ]
  },
  {
   "cell_type": "markdown",
   "id": "7b59d737",
   "metadata": {},
   "source": [
    "문자열을 받아 순서를 거꾸로 하는 문자열을 반환하는 `reverse()` 회귀 함수를 구현하라."
   ]
  },
  {
   "cell_type": "code",
   "execution_count": 7,
   "id": "558711cb",
   "metadata": {
    "id": "m7hR5DCuhEpo",
    "outputId": "6fb5492e-f4cd-4f9d-bbbc-40f146e2e6e8"
   },
   "outputs": [],
   "source": [
    "def reverse(s):\n",
    "    assert isinstance(s, str) and len(s) > 1\n",
    "    \n",
    "    pass\n",
    "\n",
    "    return None"
   ]
  },
  {
   "cell_type": "code",
   "execution_count": 8,
   "id": "c3cbf2ac",
   "metadata": {},
   "outputs": [],
   "source": [
    "# 아래 코드의 주석을 해제하고 실행하라.\n",
    "\n",
    "# assert reverse('hello') == 'olleh'\n",
    "# assert reverse('core python') == 'nohtyp eroc'\n",
    "# assert reverse('radar') == 'radar'"
   ]
  },
  {
   "cell_type": "markdown",
   "id": "1fa276c8",
   "metadata": {},
   "source": [
    "**문제 5**"
   ]
  },
  {
   "cell_type": "markdown",
   "id": "7e491391",
   "metadata": {},
   "source": [
    "회문(palindrome) 판별기 `is_pal()` 을 재귀 함수로 구현하라.\n",
    "회문은 읽는 순서를 뒤집어도 동일한 문장을 가리킨다.\n",
    "\n",
    "* 기러기\n",
    "* 탄도유도탄\n",
    "* radar\n",
    "* rotator\n",
    "* level\n",
    "\n",
    "단, 공백, 쉼표, 생략 기호, 마침표, 느낌표, 하이픈 등은 무시되며, 영어 알파벳의 대소문자도 구분하지 않는다. 즉 아래 문장들도 회문으로 인정받아야 한다.\n",
    "\n",
    "* 다시 합창합시다.\n",
    "* 야, 이 달은 밝은 달이야.\n",
    "* Madam, I'm Adam.\n",
    "* A man, a plan, a canal - Panama!"
   ]
  },
  {
   "cell_type": "code",
   "execution_count": 9,
   "id": "a7c0b919",
   "metadata": {
    "id": "m7hR5DCuhEpo",
    "outputId": "6fb5492e-f4cd-4f9d-bbbc-40f146e2e6e8"
   },
   "outputs": [],
   "source": [
    "def is_pal(s):\n",
    "    assert isinstance(s, str) and len(s) > 1\n",
    "    \n",
    "    pass\n",
    "\n",
    "    return None"
   ]
  },
  {
   "cell_type": "code",
   "execution_count": 10,
   "id": "f503b64d",
   "metadata": {},
   "outputs": [],
   "source": [
    "# 아래 코드의 주석을 해제하고 실행하라.\n",
    "\n",
    "# assert is_pal('기러기') == True\n",
    "# assert is_pal('다시 합창합시다.') == True\n",
    "# assert is_pal('radar') == True\n",
    "# assert is_pal('A man, a plan, a canal - Panama!') == True\n",
    "# assert is_pal('다시 합창') == False\n",
    "# assert is_pal('lovel') == False"
   ]
  },
  {
   "cell_type": "markdown",
   "id": "c3451dae",
   "metadata": {},
   "source": [
    "**문제 6**"
   ]
  },
  {
   "cell_type": "markdown",
   "id": "29c3db22",
   "metadata": {},
   "source": [
    "양의 정수를 이진법으로 변환하는 `to_bin()` 회귀 함수를 구현하라.\n",
    "단, 반환값은 이진법으로 작성된 문자열이어야 한다."
   ]
  },
  {
   "cell_type": "code",
   "execution_count": 11,
   "id": "2fa254ed",
   "metadata": {
    "id": "m7hR5DCuhEpo",
    "outputId": "6fb5492e-f4cd-4f9d-bbbc-40f146e2e6e8"
   },
   "outputs": [],
   "source": [
    "def to_bin(n):\n",
    "    assert isinstance(n, int) and n > 0\n",
    "    \n",
    "    pass\n",
    "\n",
    "    return None  # 이진법으로 표현된 문자열"
   ]
  },
  {
   "cell_type": "code",
   "execution_count": 12,
   "id": "11f345c0",
   "metadata": {},
   "outputs": [],
   "source": [
    "# 아래 코드의 주석을 해제하고 실행하라.\n",
    "\n",
    "# assert to_bin(10) == '1010'\n",
    "# assert to_bin(46685) == '1011011001011101'\n",
    "\n",
    "# assert eval('0b' + to_bin(10)) == 10\n",
    "# assert eval('0b' + to_bin(46685)) == 46685"
   ]
  },
  {
   "cell_type": "markdown",
   "id": "99a9599c",
   "metadata": {},
   "source": [
    "**문제 7**"
   ]
  },
  {
   "cell_type": "markdown",
   "id": "238cfd39",
   "metadata": {},
   "source": [
    "`to_bin()` 함수를 일반화하여 양의 수를 다양한 진법으로 변환하는 `to_base()` 회귀 함수를 구현하라.\n",
    "단, 반환값은 지정된 진법으로 표현된 문자열이어야 한다.\n",
    "또한 진법은 2진법, 8진법, 16진법으로 제한한다. \n",
    "\n",
    "* `n`: 정수를 받는 매개변수\n",
    "* `base`: 진법을 정하는 매개변수\n",
    "\n",
    "참고: 8진법인 경우엔 0부터 7까지의 수는 각각 '0', '1', ..., '7' 등으로 변환하며, 16진법인 경우엔 0부터 15까지의 수를 각각 '0', '1', ..., '9', 'A', 'B', ..., 'F'로 변환한다."
   ]
  },
  {
   "cell_type": "code",
   "execution_count": 13,
   "id": "af32f39f",
   "metadata": {
    "id": "m7hR5DCuhEpo",
    "outputId": "6fb5492e-f4cd-4f9d-bbbc-40f146e2e6e8"
   },
   "outputs": [],
   "source": [
    "def to_base(n, base):\n",
    "    assert isinstance(n, int) and n > 0\n",
    "    assert base in [2, 8, 16]\n",
    "    \n",
    "    pass\n",
    "\n",
    "    return None  # base 진법으로 표현된 문자열"
   ]
  },
  {
   "cell_type": "code",
   "execution_count": 14,
   "id": "c0bad734",
   "metadata": {},
   "outputs": [],
   "source": [
    "# 아래 코드의 주석을 해제하고 실행하라.\n",
    "\n",
    "# assert to_base(46685, 2) == to_bin(46685)\n",
    "# assert to_base(46685, 8) == '133135'\n",
    "# assert to_base(46685, 16) == 'B65D'"
   ]
  },
  {
   "cell_type": "markdown",
   "id": "28d07593",
   "metadata": {},
   "source": [
    "**문제 8**"
   ]
  },
  {
   "cell_type": "markdown",
   "id": "c5c2973f",
   "metadata": {},
   "source": [
    "[프랙탈 트리](https://codingalzi.github.io/pybook/recursion.html)에 사용된 알고리즘을 이용하여 손으로 직접 프랙탈 트리를 종이에 그려보아라. 예를 들어, tree(75, 거북이손)을 실행한다고 가정한다.\n",
    "\n",
    "제출 내용: 손으로 작성하는 과정을 구글 문서에서 작성한 후에 링크를 제출하라."
   ]
  },
  {
   "cell_type": "markdown",
   "id": "231b7989",
   "metadata": {},
   "source": [
    "링크: "
   ]
  },
  {
   "cell_type": "markdown",
   "id": "bdb9860d",
   "metadata": {},
   "source": [
    "**문제 9**"
   ]
  },
  {
   "cell_type": "markdown",
   "id": "58759aaf",
   "metadata": {},
   "source": [
    "[프랙탈 트리](https://codingalzi.github.io/pybook/recursion.html) 알고리즘을 아래 사항들에 맞추어 수정하라.\n",
    "\n",
    "* `branch_len` 이 줄어들면 나뭇가지의 두께 또한 점점 얇아지도록 하라.\n",
    "* 나뭇가지의 색상 또한 branch_len와 함께 달라져서 결국엔 나뭇잎 색깔이 되도록 하라.\n",
    "* 좌우 가지치기의 각도를 15도에서 45도 사이에서 임의로 변할 수 있도록 하라. 단, 생성된 트리의 모양이 적절하게 보기 좋아야 한다.\n",
    "* 나뭇가지의 길이가 일정하게 줄어드는 대신 가지치기 할 때마다 임의의 크기만큼 줄어들도록 하라. 단, 적절한 범위 내에서 줄어들어야 하며, 최종적으로 자연스럽게 보여야 한다.\n",
    "\n",
    "제출 내용: [trinket](https://trinket.io/) 사이트에서 코드를 작성하고 실행한 후에 공유 링크를 제출한다."
   ]
  },
  {
   "cell_type": "markdown",
   "id": "871e3bfd",
   "metadata": {},
   "source": [
    "링크: "
   ]
  },
  {
   "cell_type": "markdown",
   "id": "e6bd9911",
   "metadata": {},
   "source": [
    "**문제 10**"
   ]
  },
  {
   "cell_type": "markdown",
   "id": "a3b49a07",
   "metadata": {},
   "source": [
    "[하노이의 탑](https://codingalzi.github.io/pybook/recursion.html)을 \n",
    "해결하는 알고리즘을 세 개의 스택(stack)을 이용하여 시각화하라. \n",
    "단, turtle 모듈을 활용한다.  \n",
    "\n",
    "* 참고: [trinket: 미로 탐색](https://trinket.io/turtle/1579371d4a)\n",
    "* 힌트: 3 개의 거북이를 원, 사각형 모양 등으로 활용할 수 있다.\n",
    "\n",
    "제출 내용: [trinket](https://trinket.io/) 사이트에서 코드를 작성하고 실행한 후에 공유 링크를 제출한다."
   ]
  },
  {
   "cell_type": "markdown",
   "id": "8bb76396",
   "metadata": {},
   "source": [
    "링크: "
   ]
  }
 ],
 "metadata": {
  "kernelspec": {
   "display_name": "Python 3 (ipykernel)",
   "language": "python",
   "name": "python3"
  },
  "language_info": {
   "codemirror_mode": {
    "name": "ipython",
    "version": 3
   },
   "file_extension": ".py",
   "mimetype": "text/x-python",
   "name": "python",
   "nbconvert_exporter": "python",
   "pygments_lexer": "ipython3",
   "version": "3.11.5"
  }
 },
 "nbformat": 4,
 "nbformat_minor": 5
}
