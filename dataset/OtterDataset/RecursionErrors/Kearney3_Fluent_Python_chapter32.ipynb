{
 "cells": [
  {
   "metadata": {},
   "cell_type": "markdown",
   "source": "# 类的高级主题",
   "id": "75da55cb9939251a"
  },
  {
   "metadata": {},
   "cell_type": "markdown",
   "source": "## 通过子类拓展",
   "id": "52bfef4328687646"
  },
  {
   "cell_type": "code",
   "id": "initial_id",
   "metadata": {
    "collapsed": true,
    "ExecuteTime": {
     "end_time": "2024-07-01T08:46:09.272390Z",
     "start_time": "2024-07-01T08:46:09.268751Z"
    }
   },
   "source": [
    "class MyList(list):\n",
    "    def __getitem__(self, item):\n",
    "        print(f'Indexing {self} at {item}')\n",
    "        return list.__getitem__(self, item)"
   ],
   "outputs": [],
   "execution_count": 1
  },
  {
   "metadata": {
    "ExecuteTime": {
     "end_time": "2024-07-01T08:46:15.929436Z",
     "start_time": "2024-07-01T08:46:15.927041Z"
    }
   },
   "cell_type": "code",
   "source": "l = MyList([1, 2, 3])",
   "id": "cde7f93107e06440",
   "outputs": [],
   "execution_count": 2
  },
  {
   "metadata": {
    "ExecuteTime": {
     "end_time": "2024-07-01T08:46:18.205782Z",
     "start_time": "2024-07-01T08:46:18.200546Z"
    }
   },
   "cell_type": "code",
   "source": "l[2]",
   "id": "e5da0390286f9f23",
   "outputs": [
    {
     "name": "stdout",
     "output_type": "stream",
     "text": [
      "Indexing [1, 2, 3] at 2\n"
     ]
    },
    {
     "data": {
      "text/plain": [
       "3"
      ]
     },
     "execution_count": 3,
     "metadata": {},
     "output_type": "execute_result"
    }
   ],
   "execution_count": 3
  },
  {
   "metadata": {
    "ExecuteTime": {
     "end_time": "2024-07-01T08:46:49.402136Z",
     "start_time": "2024-07-01T08:46:49.398473Z"
    }
   },
   "cell_type": "code",
   "source": [
    "l.append(4)\n",
    "print(l)"
   ],
   "id": "48cb6bfd13962f9d",
   "outputs": [
    {
     "name": "stdout",
     "output_type": "stream",
     "text": [
      "[1, 2, 3, 4]\n"
     ]
    }
   ],
   "execution_count": 4
  },
  {
   "metadata": {
    "ExecuteTime": {
     "end_time": "2024-07-01T09:02:17.747059Z",
     "start_time": "2024-07-01T09:02:17.742559Z"
    }
   },
   "cell_type": "code",
   "source": [
    "class MySet(list):\n",
    "    def __init__(self, value=[]):\n",
    "        list.__init__([])\n",
    "        # self.append(value)\n",
    "        self.concat(value)\n",
    "\n",
    "    def concat(self, value):\n",
    "        for x in value:\n",
    "            if x not in self:\n",
    "                self.append(x)\n",
    "\n",
    "    def union(self, other):\n",
    "        rec = MySet(self)\n",
    "        rec.concat(other)\n",
    "        return rec\n",
    "\n",
    "    def intersection(self, other):\n",
    "        rec = []\n",
    "        for x in self:\n",
    "            if x in other:\n",
    "                rec.append(x)\n",
    "        return MySet(rec)\n",
    "\n",
    "    def __and__(self, other):\n",
    "        return self.union(other)\n",
    "\n",
    "    def __or__(self, other):\n",
    "        return self.intersection(other)\n",
    "\n",
    "    def __repr__(self):\n",
    "        return f'MySet({list.__repr__(self)})'"
   ],
   "id": "25d363005f9c7b00",
   "outputs": [],
   "execution_count": 71
  },
  {
   "metadata": {
    "ExecuteTime": {
     "end_time": "2024-07-01T09:02:18.091795Z",
     "start_time": "2024-07-01T09:02:18.089893Z"
    }
   },
   "cell_type": "code",
   "source": "s = MySet([1, 2, 2, 3, 3, 4, 4])",
   "id": "6a349c03e7c3e6d6",
   "outputs": [],
   "execution_count": 72
  },
  {
   "metadata": {
    "ExecuteTime": {
     "end_time": "2024-07-01T09:02:18.335113Z",
     "start_time": "2024-07-01T09:02:18.331671Z"
    }
   },
   "cell_type": "code",
   "source": "print(s)",
   "id": "8f9afeda199c76a6",
   "outputs": [
    {
     "name": "stdout",
     "output_type": "stream",
     "text": [
      "MySet([1, 2, 3, 4])\n"
     ]
    }
   ],
   "execution_count": 73
  },
  {
   "metadata": {
    "ExecuteTime": {
     "end_time": "2024-07-01T09:02:18.682332Z",
     "start_time": "2024-07-01T09:02:18.680419Z"
    }
   },
   "cell_type": "code",
   "source": [
    "z = MySet([4, 5, 6])\n",
    "print(z)"
   ],
   "id": "afbff12e21cc6c1",
   "outputs": [
    {
     "name": "stdout",
     "output_type": "stream",
     "text": [
      "MySet([4, 5, 6])\n"
     ]
    }
   ],
   "execution_count": 74
  },
  {
   "metadata": {
    "ExecuteTime": {
     "end_time": "2024-07-01T09:02:19.464924Z",
     "start_time": "2024-07-01T09:02:19.461359Z"
    }
   },
   "cell_type": "code",
   "source": "id(s), id(z)",
   "id": "dd9b094079cc366",
   "outputs": [
    {
     "data": {
      "text/plain": [
       "(4451734848, 4425683568)"
      ]
     },
     "execution_count": 75,
     "metadata": {},
     "output_type": "execute_result"
    }
   ],
   "execution_count": 75
  },
  {
   "metadata": {
    "ExecuteTime": {
     "end_time": "2024-07-01T09:01:47.699025Z",
     "start_time": "2024-07-01T09:01:47.696729Z"
    }
   },
   "cell_type": "code",
   "source": "s.intersection(z)",
   "id": "92a6c8a1df3f3333",
   "outputs": [
    {
     "data": {
      "text/plain": [
       "MySet([4])"
      ]
     },
     "execution_count": 68,
     "metadata": {},
     "output_type": "execute_result"
    }
   ],
   "execution_count": 68
  },
  {
   "metadata": {
    "ExecuteTime": {
     "end_time": "2024-07-01T09:02:22.411143Z",
     "start_time": "2024-07-01T09:02:22.407691Z"
    }
   },
   "cell_type": "code",
   "source": "s & z",
   "id": "d83e6c49c578bd18",
   "outputs": [
    {
     "data": {
      "text/plain": [
       "MySet([1, 2, 3, 4, 5, 6])"
      ]
     },
     "execution_count": 76,
     "metadata": {},
     "output_type": "execute_result"
    }
   ],
   "execution_count": 76
  },
  {
   "metadata": {
    "ExecuteTime": {
     "end_time": "2024-07-01T09:02:22.908560Z",
     "start_time": "2024-07-01T09:02:22.905747Z"
    }
   },
   "cell_type": "code",
   "source": "s | z",
   "id": "3e08037ea371b59d",
   "outputs": [
    {
     "data": {
      "text/plain": [
       "MySet([4])"
      ]
     },
     "execution_count": 77,
     "metadata": {},
     "output_type": "execute_result"
    }
   ],
   "execution_count": 77
  },
  {
   "metadata": {},
   "cell_type": "markdown",
   "source": "内置属性的获取将跳过实例",
   "id": "2d8ddf8f79f0b5cf"
  },
  {
   "metadata": {
    "ExecuteTime": {
     "end_time": "2024-07-01T09:10:32.913702Z",
     "start_time": "2024-07-01T09:10:32.911396Z"
    }
   },
   "cell_type": "code",
   "source": [
    "class C:\n",
    "    data = 'spam'\n",
    "\n",
    "    def __getattr__(self, item):\n",
    "        print(f'getattr({self}, {item})')\n",
    "        return getattr(self.data, item)"
   ],
   "id": "422067a099466286",
   "outputs": [],
   "execution_count": 97
  },
  {
   "metadata": {
    "ExecuteTime": {
     "end_time": "2024-07-01T09:10:34.246589Z",
     "start_time": "2024-07-01T09:10:34.244646Z"
    }
   },
   "cell_type": "code",
   "source": "x = C()",
   "id": "dab66953ee6d416b",
   "outputs": [],
   "execution_count": 98
  },
  {
   "metadata": {
    "ExecuteTime": {
     "end_time": "2024-07-01T09:10:35.836060Z",
     "start_time": "2024-07-01T09:10:35.833950Z"
    }
   },
   "cell_type": "code",
   "source": "print(x)",
   "id": "734b8e556ab12538",
   "outputs": [
    {
     "name": "stdout",
     "output_type": "stream",
     "text": [
      "<__main__.C object at 0x1096dacd0>\n"
     ]
    }
   ],
   "execution_count": 99
  },
  {
   "metadata": {
    "ExecuteTime": {
     "end_time": "2024-07-01T09:10:36.247389Z",
     "start_time": "2024-07-01T09:10:36.236758Z"
    }
   },
   "cell_type": "code",
   "source": "x.__getattr__('data')",
   "id": "482e866a9e9d14d6",
   "outputs": [
    {
     "name": "stdout",
     "output_type": "stream",
     "text": [
      "getattr(<__main__.C object at 0x1096dacd0>, data)\n"
     ]
    },
    {
     "ename": "AttributeError",
     "evalue": "'str' object has no attribute 'data'",
     "output_type": "error",
     "traceback": [
      "\u001B[0;31m---------------------------------------------------------------------------\u001B[0m",
      "\u001B[0;31mAttributeError\u001B[0m                            Traceback (most recent call last)",
      "Cell \u001B[0;32mIn[100], line 1\u001B[0m\n\u001B[0;32m----> 1\u001B[0m x\u001B[38;5;241m.\u001B[39m\u001B[38;5;21m__getattr__\u001B[39m(\u001B[38;5;124m'\u001B[39m\u001B[38;5;124mdata\u001B[39m\u001B[38;5;124m'\u001B[39m)\n",
      "Cell \u001B[0;32mIn[97], line 5\u001B[0m, in \u001B[0;36mC.__getattr__\u001B[0;34m(self, item)\u001B[0m\n\u001B[1;32m      3\u001B[0m \u001B[38;5;28;01mdef\u001B[39;00m \u001B[38;5;21m__getattr__\u001B[39m(\u001B[38;5;28mself\u001B[39m, item):\n\u001B[1;32m      4\u001B[0m     \u001B[38;5;28mprint\u001B[39m(\u001B[38;5;124mf\u001B[39m\u001B[38;5;124m'\u001B[39m\u001B[38;5;124mgetattr(\u001B[39m\u001B[38;5;132;01m{\u001B[39;00m\u001B[38;5;28mself\u001B[39m\u001B[38;5;132;01m}\u001B[39;00m\u001B[38;5;124m, \u001B[39m\u001B[38;5;132;01m{\u001B[39;00mitem\u001B[38;5;132;01m}\u001B[39;00m\u001B[38;5;124m)\u001B[39m\u001B[38;5;124m'\u001B[39m)\n\u001B[0;32m----> 5\u001B[0m     \u001B[38;5;28;01mreturn\u001B[39;00m \u001B[38;5;28mgetattr\u001B[39m(\u001B[38;5;28mself\u001B[39m\u001B[38;5;241m.\u001B[39mdata, item)\n",
      "\u001B[0;31mAttributeError\u001B[0m: 'str' object has no attribute 'data'"
     ]
    }
   ],
   "execution_count": 100
  },
  {
   "metadata": {
    "ExecuteTime": {
     "end_time": "2024-07-01T09:08:57.725258Z",
     "start_time": "2024-07-01T09:08:57.713581Z"
    }
   },
   "cell_type": "code",
   "source": "x[0]",
   "id": "efad5ea933d66aaa",
   "outputs": [
    {
     "ename": "TypeError",
     "evalue": "'C' object is not subscriptable",
     "output_type": "error",
     "traceback": [
      "\u001B[0;31m---------------------------------------------------------------------------\u001B[0m",
      "\u001B[0;31mTypeError\u001B[0m                                 Traceback (most recent call last)",
      "Cell \u001B[0;32mIn[87], line 1\u001B[0m\n\u001B[0;32m----> 1\u001B[0m x[\u001B[38;5;241m0\u001B[39m]\n",
      "\u001B[0;31mTypeError\u001B[0m: 'C' object is not subscriptable"
     ]
    }
   ],
   "execution_count": 87
  },
  {
   "metadata": {
    "ExecuteTime": {
     "end_time": "2024-07-01T09:09:37.120742Z",
     "start_time": "2024-07-01T09:09:37.113640Z"
    }
   },
   "cell_type": "code",
   "source": "x.__add__",
   "id": "df8c3f2586cb8001",
   "outputs": [
    {
     "name": "stdout",
     "output_type": "stream",
     "text": [
      "getattr(<__main__.C object at 0x109603150>, __add__)\n"
     ]
    },
    {
     "data": {
      "text/plain": [
       "<method-wrapper '__add__' of str object at 0x109463e70>"
      ]
     },
     "execution_count": 91,
     "metadata": {},
     "output_type": "execute_result"
    }
   ],
   "execution_count": 91
  },
  {
   "metadata": {
    "ExecuteTime": {
     "end_time": "2024-07-01T09:16:22.448416Z",
     "start_time": "2024-07-01T09:16:22.446485Z"
    }
   },
   "cell_type": "code",
   "source": [
    "class C2:\n",
    "    def __getattr__(self, item):\n",
    "        print(f'{item})')\n",
    "\n",
    "\n",
    "c2 = C2()\n",
    "c2.normal = lambda: 99"
   ],
   "id": "48468c8eef69569b",
   "outputs": [],
   "execution_count": 129
  },
  {
   "metadata": {
    "ExecuteTime": {
     "end_time": "2024-07-01T09:16:49.330525Z",
     "start_time": "2024-07-01T09:16:49.327782Z"
    }
   },
   "cell_type": "code",
   "source": "c2.normal()",
   "id": "ef6aac4507846e63",
   "outputs": [
    {
     "data": {
      "text/plain": [
       "99"
      ]
     },
     "execution_count": 132,
     "metadata": {},
     "output_type": "execute_result"
    }
   ],
   "execution_count": 132
  },
  {
   "metadata": {
    "ExecuteTime": {
     "end_time": "2024-07-01T09:16:40.208637Z",
     "start_time": "2024-07-01T09:16:40.206532Z"
    }
   },
   "cell_type": "code",
   "source": "c2.normal",
   "id": "499b3cf890d6a77b",
   "outputs": [
    {
     "data": {
      "text/plain": [
       "<function __main__.<lambda>()>"
      ]
     },
     "execution_count": 131,
     "metadata": {},
     "output_type": "execute_result"
    }
   ],
   "execution_count": 131
  },
  {
   "metadata": {
    "ExecuteTime": {
     "end_time": "2024-07-01T09:16:17.058441Z",
     "start_time": "2024-07-01T09:16:17.056235Z"
    }
   },
   "cell_type": "code",
   "source": "c2.__add__ = lambda y: 99 + y",
   "id": "4653c3d5e109f048",
   "outputs": [],
   "execution_count": 126
  },
  {
   "metadata": {
    "ExecuteTime": {
     "end_time": "2024-07-01T09:16:17.481586Z",
     "start_time": "2024-07-01T09:16:17.479101Z"
    }
   },
   "cell_type": "code",
   "source": "c2.__add__(10)",
   "id": "de572bc3427a70ef",
   "outputs": [
    {
     "data": {
      "text/plain": [
       "109"
      ]
     },
     "execution_count": 127,
     "metadata": {},
     "output_type": "execute_result"
    }
   ],
   "execution_count": 127
  },
  {
   "metadata": {
    "ExecuteTime": {
     "end_time": "2024-07-01T09:16:17.847747Z",
     "start_time": "2024-07-01T09:16:17.840886Z"
    }
   },
   "cell_type": "code",
   "source": "c2 + 10",
   "id": "7e57268a69a4a409",
   "outputs": [
    {
     "ename": "TypeError",
     "evalue": "unsupported operand type(s) for +: 'C2' and 'int'",
     "output_type": "error",
     "traceback": [
      "\u001B[0;31m---------------------------------------------------------------------------\u001B[0m",
      "\u001B[0;31mTypeError\u001B[0m                                 Traceback (most recent call last)",
      "Cell \u001B[0;32mIn[128], line 1\u001B[0m\n\u001B[0;32m----> 1\u001B[0m c2 \u001B[38;5;241m+\u001B[39m \u001B[38;5;241m10\u001B[39m\n",
      "\u001B[0;31mTypeError\u001B[0m: unsupported operand type(s) for +: 'C2' and 'int'"
     ]
    }
   ],
   "execution_count": 128
  },
  {
   "metadata": {},
   "cell_type": "markdown",
   "source": "显式访问能够正确运⾏",
   "id": "48d768a0d0023cc1"
  },
  {
   "metadata": {
    "ExecuteTime": {
     "end_time": "2024-07-01T09:18:02.757917Z",
     "start_time": "2024-07-01T09:18:02.755790Z"
    }
   },
   "cell_type": "code",
   "source": [
    "class C:\n",
    "    data = 'spam'\n",
    "\n",
    "    def __getattr__(self, item):\n",
    "        print(f'getattr({self}, {item})')\n",
    "        return getattr(self.data, item)"
   ],
   "id": "bc203426794f77b3",
   "outputs": [],
   "execution_count": 134
  },
  {
   "metadata": {
    "ExecuteTime": {
     "end_time": "2024-07-01T09:18:29.609950Z",
     "start_time": "2024-07-01T09:18:29.607406Z"
    }
   },
   "cell_type": "code",
   "source": [
    "x = C()\n",
    "x.__getitem__(1)"
   ],
   "id": "cac9546d5f80b481",
   "outputs": [
    {
     "name": "stdout",
     "output_type": "stream",
     "text": [
      "getattr(<__main__.C object at 0x1096cb810>, __getitem__)\n"
     ]
    },
    {
     "data": {
      "text/plain": [
       "'p'"
      ]
     },
     "execution_count": 137,
     "metadata": {},
     "output_type": "execute_result"
    }
   ],
   "execution_count": 137
  },
  {
   "metadata": {
    "ExecuteTime": {
     "end_time": "2024-07-01T09:18:40.902373Z",
     "start_time": "2024-07-01T09:18:40.894557Z"
    }
   },
   "cell_type": "code",
   "source": "x[1]",
   "id": "611635ac502289ad",
   "outputs": [
    {
     "ename": "TypeError",
     "evalue": "'C' object is not subscriptable",
     "output_type": "error",
     "traceback": [
      "\u001B[0;31m---------------------------------------------------------------------------\u001B[0m",
      "\u001B[0;31mTypeError\u001B[0m                                 Traceback (most recent call last)",
      "Cell \u001B[0;32mIn[138], line 1\u001B[0m\n\u001B[0;32m----> 1\u001B[0m x[\u001B[38;5;241m1\u001B[39m]\n",
      "\u001B[0;31mTypeError\u001B[0m: 'C' object is not subscriptable"
     ]
    }
   ],
   "execution_count": 138
  },
  {
   "metadata": {
    "ExecuteTime": {
     "end_time": "2024-07-01T09:19:08.269952Z",
     "start_time": "2024-07-01T09:19:08.255589Z"
    }
   },
   "cell_type": "code",
   "source": "x + 'egg'",
   "id": "ab7015490ed28d25",
   "outputs": [
    {
     "ename": "TypeError",
     "evalue": "unsupported operand type(s) for +: 'C' and 'str'",
     "output_type": "error",
     "traceback": [
      "\u001B[0;31m---------------------------------------------------------------------------\u001B[0m",
      "\u001B[0;31mTypeError\u001B[0m                                 Traceback (most recent call last)",
      "Cell \u001B[0;32mIn[139], line 1\u001B[0m\n\u001B[0;32m----> 1\u001B[0m x \u001B[38;5;241m+\u001B[39m \u001B[38;5;124m'\u001B[39m\u001B[38;5;124megg\u001B[39m\u001B[38;5;124m'\u001B[39m\n",
      "\u001B[0;31mTypeError\u001B[0m: unsupported operand type(s) for +: 'C' and 'str'"
     ]
    }
   ],
   "execution_count": 139
  },
  {
   "metadata": {
    "ExecuteTime": {
     "end_time": "2024-07-01T09:19:18.470381Z",
     "start_time": "2024-07-01T09:19:18.468021Z"
    }
   },
   "cell_type": "code",
   "source": "x.__add__('egg')",
   "id": "679095d188ec0d27",
   "outputs": [
    {
     "name": "stdout",
     "output_type": "stream",
     "text": [
      "getattr(<__main__.C object at 0x1096cb810>, __add__)\n"
     ]
    },
    {
     "data": {
      "text/plain": [
       "'spamegg'"
      ]
     },
     "execution_count": 140,
     "metadata": {},
     "output_type": "execute_result"
    }
   ],
   "execution_count": 140
  },
  {
   "metadata": {},
   "cell_type": "markdown",
   "source": "重新定义",
   "id": "770543b01c190e3e"
  },
  {
   "metadata": {
    "ExecuteTime": {
     "end_time": "2024-07-01T09:23:37.987833Z",
     "start_time": "2024-07-01T09:23:37.984027Z"
    }
   },
   "cell_type": "code",
   "source": [
    "class C:\n",
    "    data = 'spam'\n",
    "\n",
    "    def __getattr__(self, item):\n",
    "        print(f'getattr({self}, {item})')\n",
    "        return getattr(self.data, item)\n",
    "\n",
    "    def __getitem__(self, item):\n",
    "        return self.data[item]\n",
    "\n",
    "    def __add__(self, other):\n",
    "        return self.data + other"
   ],
   "id": "82eede2d8adec20f",
   "outputs": [],
   "execution_count": 169
  },
  {
   "metadata": {
    "ExecuteTime": {
     "end_time": "2024-07-01T09:23:38.215856Z",
     "start_time": "2024-07-01T09:23:38.213401Z"
    }
   },
   "cell_type": "code",
   "source": [
    "x = C()\n",
    "x.__getitem__(1)"
   ],
   "id": "7e70eeaa3c483079",
   "outputs": [
    {
     "data": {
      "text/plain": [
       "'p'"
      ]
     },
     "execution_count": 170,
     "metadata": {},
     "output_type": "execute_result"
    }
   ],
   "execution_count": 170
  },
  {
   "metadata": {
    "ExecuteTime": {
     "end_time": "2024-07-01T09:23:38.452256Z",
     "start_time": "2024-07-01T09:23:38.449883Z"
    }
   },
   "cell_type": "code",
   "source": "x[1]",
   "id": "cedf22def9870179",
   "outputs": [
    {
     "data": {
      "text/plain": [
       "'p'"
      ]
     },
     "execution_count": 171,
     "metadata": {},
     "output_type": "execute_result"
    }
   ],
   "execution_count": 171
  },
  {
   "metadata": {
    "ExecuteTime": {
     "end_time": "2024-07-01T09:23:38.694195Z",
     "start_time": "2024-07-01T09:23:38.691904Z"
    }
   },
   "cell_type": "code",
   "source": "x + 'egg'",
   "id": "160dff329fac7c3b",
   "outputs": [
    {
     "data": {
      "text/plain": [
       "'spamegg'"
      ]
     },
     "execution_count": 172,
     "metadata": {},
     "output_type": "execute_result"
    }
   ],
   "execution_count": 172
  },
  {
   "metadata": {
    "ExecuteTime": {
     "end_time": "2024-07-01T09:23:38.942484Z",
     "start_time": "2024-07-01T09:23:38.940203Z"
    }
   },
   "cell_type": "code",
   "source": "x.__add__('egg')",
   "id": "2ff3b7f8119497d3",
   "outputs": [
    {
     "data": {
      "text/plain": [
       "'spamegg'"
      ]
     },
     "execution_count": 173,
     "metadata": {},
     "output_type": "execute_result"
    }
   ],
   "execution_count": 173
  },
  {
   "metadata": {
    "ExecuteTime": {
     "end_time": "2024-07-01T09:23:39.294007Z",
     "start_time": "2024-07-01T09:23:39.292043Z"
    }
   },
   "cell_type": "code",
   "source": "type(x).__getitem__(x, 1)",
   "id": "ffb046d623904b18",
   "outputs": [
    {
     "data": {
      "text/plain": [
       "'p'"
      ]
     },
     "execution_count": 174,
     "metadata": {},
     "output_type": "execute_result"
    }
   ],
   "execution_count": 174
  },
  {
   "metadata": {
    "ExecuteTime": {
     "end_time": "2024-07-01T09:23:39.760347Z",
     "start_time": "2024-07-01T09:23:39.757589Z"
    }
   },
   "cell_type": "code",
   "source": "x.upper",
   "id": "bcd8f6dee895735d",
   "outputs": [
    {
     "name": "stdout",
     "output_type": "stream",
     "text": [
      "getattr(<__main__.C object at 0x1096bd1d0>, upper)\n"
     ]
    },
    {
     "data": {
      "text/plain": [
       "<function str.upper()>"
      ]
     },
     "execution_count": 175,
     "metadata": {},
     "output_type": "execute_result"
    }
   ],
   "execution_count": 175
  },
  {
   "metadata": {},
   "cell_type": "markdown",
   "source": "所有的类⾃动都是新式的",
   "id": "9d2aa1ddd49c5e89"
  },
  {
   "metadata": {
    "ExecuteTime": {
     "end_time": "2024-07-01T09:28:21.141886Z",
     "start_time": "2024-07-01T09:28:21.136772Z"
    }
   },
   "cell_type": "code",
   "source": "class C: ...",
   "id": "77024f4c99de522c",
   "outputs": [],
   "execution_count": 176
  },
  {
   "metadata": {
    "ExecuteTime": {
     "end_time": "2024-07-01T09:28:30.973336Z",
     "start_time": "2024-07-01T09:28:30.971537Z"
    }
   },
   "cell_type": "code",
   "source": "a = C()",
   "id": "2c4c46a8c591eb4",
   "outputs": [],
   "execution_count": 177
  },
  {
   "metadata": {
    "ExecuteTime": {
     "end_time": "2024-07-01T09:28:38.577734Z",
     "start_time": "2024-07-01T09:28:38.575268Z"
    }
   },
   "cell_type": "code",
   "source": "type(a), a.__class__",
   "id": "b30e74daf6077797",
   "outputs": [
    {
     "data": {
      "text/plain": [
       "(__main__.C, __main__.C)"
      ]
     },
     "execution_count": 178,
     "metadata": {},
     "output_type": "execute_result"
    }
   ],
   "execution_count": 178
  },
  {
   "metadata": {
    "ExecuteTime": {
     "end_time": "2024-07-01T09:28:54.143303Z",
     "start_time": "2024-07-01T09:28:54.140411Z"
    }
   },
   "cell_type": "code",
   "source": "type(C), C.__class__",
   "id": "d19c38435cbbd532",
   "outputs": [
    {
     "data": {
      "text/plain": [
       "(type, type)"
      ]
     },
     "execution_count": 179,
     "metadata": {},
     "output_type": "execute_result"
    }
   ],
   "execution_count": 179
  },
  {
   "metadata": {
    "ExecuteTime": {
     "end_time": "2024-07-01T09:29:47.184479Z",
     "start_time": "2024-07-01T09:29:47.181761Z"
    }
   },
   "cell_type": "code",
   "source": "type([1, 2, 3]), [1, 2, 3].__class__",
   "id": "8e2eed8519dfaae",
   "outputs": [
    {
     "data": {
      "text/plain": [
       "(list, list)"
      ]
     },
     "execution_count": 183,
     "metadata": {},
     "output_type": "execute_result"
    }
   ],
   "execution_count": 183
  },
  {
   "metadata": {
    "ExecuteTime": {
     "end_time": "2024-07-01T09:30:02.813189Z",
     "start_time": "2024-07-01T09:30:02.810563Z"
    }
   },
   "cell_type": "code",
   "source": "type(type)",
   "id": "ab87747dd8977a7a",
   "outputs": [
    {
     "data": {
      "text/plain": [
       "type"
      ]
     },
     "execution_count": 184,
     "metadata": {},
     "output_type": "execute_result"
    }
   ],
   "execution_count": 184
  },
  {
   "metadata": {
    "ExecuteTime": {
     "end_time": "2024-07-01T09:30:24.281104Z",
     "start_time": "2024-07-01T09:30:24.276286Z"
    }
   },
   "cell_type": "code",
   "source": "type(list)",
   "id": "e507018f8b499ca8",
   "outputs": [
    {
     "data": {
      "text/plain": [
       "type"
      ]
     },
     "execution_count": 185,
     "metadata": {},
     "output_type": "execute_result"
    }
   ],
   "execution_count": 185
  },
  {
   "metadata": {},
   "cell_type": "markdown",
   "source": "类型测试的隐含意义",
   "id": "8029b1209f570393"
  },
  {
   "metadata": {
    "ExecuteTime": {
     "end_time": "2024-07-01T09:31:08.155487Z",
     "start_time": "2024-07-01T09:31:08.151539Z"
    }
   },
   "cell_type": "code",
   "source": [
    "class C: pass\n",
    "\n",
    "\n",
    "class D: pass"
   ],
   "id": "b5dc33fb0c0bb542",
   "outputs": [],
   "execution_count": 186
  },
  {
   "metadata": {
    "ExecuteTime": {
     "end_time": "2024-07-01T09:31:11.851548Z",
     "start_time": "2024-07-01T09:31:11.849647Z"
    }
   },
   "cell_type": "code",
   "source": "c, d = C(), D()",
   "id": "724fdd01b0f454c6",
   "outputs": [],
   "execution_count": 187
  },
  {
   "metadata": {
    "ExecuteTime": {
     "end_time": "2024-07-01T09:31:26.993197Z",
     "start_time": "2024-07-01T09:31:26.990505Z"
    }
   },
   "cell_type": "code",
   "source": "type(c), type(d)",
   "id": "4051264ea95a7130",
   "outputs": [
    {
     "data": {
      "text/plain": [
       "(__main__.C, __main__.D)"
      ]
     },
     "execution_count": 189,
     "metadata": {},
     "output_type": "execute_result"
    }
   ],
   "execution_count": 189
  },
  {
   "metadata": {
    "ExecuteTime": {
     "end_time": "2024-07-01T09:31:36.594793Z",
     "start_time": "2024-07-01T09:31:36.592516Z"
    }
   },
   "cell_type": "code",
   "source": "type(c) == type(d)",
   "id": "62b37cf5df3d0e5e",
   "outputs": [
    {
     "data": {
      "text/plain": [
       "False"
      ]
     },
     "execution_count": 190,
     "metadata": {},
     "output_type": "execute_result"
    }
   ],
   "execution_count": 190
  },
  {
   "metadata": {
    "ExecuteTime": {
     "end_time": "2024-07-01T09:31:43.700623Z",
     "start_time": "2024-07-01T09:31:43.697935Z"
    }
   },
   "cell_type": "code",
   "source": "type(C) == type(D)",
   "id": "b1ce4a5e784fc211",
   "outputs": [
    {
     "data": {
      "text/plain": [
       "True"
      ]
     },
     "execution_count": 191,
     "metadata": {},
     "output_type": "execute_result"
    }
   ],
   "execution_count": 191
  },
  {
   "metadata": {
    "ExecuteTime": {
     "end_time": "2024-07-01T09:31:57.801357Z",
     "start_time": "2024-07-01T09:31:57.798503Z"
    }
   },
   "cell_type": "code",
   "source": "type(C), type(D), type(type)",
   "id": "2319f3e7b4436134",
   "outputs": [
    {
     "data": {
      "text/plain": [
       "(type, type, type)"
      ]
     },
     "execution_count": 192,
     "metadata": {},
     "output_type": "execute_result"
    }
   ],
   "execution_count": 192
  },
  {
   "metadata": {
    "ExecuteTime": {
     "end_time": "2024-07-01T09:32:17.586151Z",
     "start_time": "2024-07-01T09:32:17.581769Z"
    }
   },
   "cell_type": "code",
   "source": [
    "c1, c2 = C(), C()\n",
    "type(c1) == type(c2)"
   ],
   "id": "16f8c4c5efb1e27b",
   "outputs": [
    {
     "data": {
      "text/plain": [
       "True"
      ]
     },
     "execution_count": 193,
     "metadata": {},
     "output_type": "execute_result"
    }
   ],
   "execution_count": 193
  },
  {
   "metadata": {
    "ExecuteTime": {
     "end_time": "2024-07-01T09:32:29.549566Z",
     "start_time": "2024-07-01T09:32:29.546701Z"
    }
   },
   "cell_type": "code",
   "source": "c.__class__, d.__class__",
   "id": "a16d5a803460f5bd",
   "outputs": [
    {
     "data": {
      "text/plain": [
       "(__main__.C, __main__.D)"
      ]
     },
     "execution_count": 194,
     "metadata": {},
     "output_type": "execute_result"
    }
   ],
   "execution_count": 194
  },
  {
   "metadata": {
    "ExecuteTime": {
     "end_time": "2024-07-01T09:33:29.072062Z",
     "start_time": "2024-07-01T09:33:29.068452Z"
    }
   },
   "cell_type": "code",
   "source": "isinstance(c, object), isinstance(d, object)",
   "id": "90a5b861cb165abf",
   "outputs": [
    {
     "data": {
      "text/plain": [
       "(True, True)"
      ]
     },
     "execution_count": 197,
     "metadata": {},
     "output_type": "execute_result"
    }
   ],
   "execution_count": 197
  },
  {
   "metadata": {
    "ExecuteTime": {
     "end_time": "2024-07-01T09:33:38.250567Z",
     "start_time": "2024-07-01T09:33:38.247316Z"
    }
   },
   "cell_type": "code",
   "source": "C.__base__",
   "id": "d36e9cbce254fd9f",
   "outputs": [
    {
     "data": {
      "text/plain": [
       "object"
      ]
     },
     "execution_count": 198,
     "metadata": {},
     "output_type": "execute_result"
    }
   ],
   "execution_count": 198
  },
  {
   "metadata": {},
   "cell_type": "markdown",
   "source": "type ⾃身派⽣⾃ object，并且object 派⽣⾃ type",
   "id": "28bc896dcd6653c5"
  },
  {
   "metadata": {
    "ExecuteTime": {
     "end_time": "2024-07-01T09:34:09.665796Z",
     "start_time": "2024-07-01T09:34:09.662358Z"
    }
   },
   "cell_type": "code",
   "source": "isinstance(type, object)",
   "id": "518d028d863d261d",
   "outputs": [
    {
     "data": {
      "text/plain": [
       "True"
      ]
     },
     "execution_count": 200,
     "metadata": {},
     "output_type": "execute_result"
    }
   ],
   "execution_count": 200
  },
  {
   "metadata": {
    "ExecuteTime": {
     "end_time": "2024-07-01T09:34:19.196555Z",
     "start_time": "2024-07-01T09:34:19.193804Z"
    }
   },
   "cell_type": "code",
   "source": "isinstance(object, type)",
   "id": "a0c6dc9d0e780d64",
   "outputs": [
    {
     "data": {
      "text/plain": [
       "True"
      ]
     },
     "execution_count": 201,
     "metadata": {},
     "output_type": "execute_result"
    }
   ],
   "execution_count": 201
  },
  {
   "metadata": {
    "ExecuteTime": {
     "end_time": "2024-07-01T09:34:25.043974Z",
     "start_time": "2024-07-01T09:34:25.039407Z"
    }
   },
   "cell_type": "code",
   "source": "type is object",
   "id": "cf74fe8496eb93ef",
   "outputs": [
    {
     "data": {
      "text/plain": [
       "False"
      ]
     },
     "execution_count": 202,
     "metadata": {},
     "output_type": "execute_result"
    }
   ],
   "execution_count": 202
  },
  {
   "metadata": {},
   "cell_type": "markdown",
   "source": "# 钻⽯继承树的影响",
   "id": "40d1d33602aa5e5"
  },
  {
   "metadata": {
    "ExecuteTime": {
     "end_time": "2024-07-01T09:37:53.743532Z",
     "start_time": "2024-07-01T09:37:53.735690Z"
    }
   },
   "cell_type": "code",
   "source": [
    "class A: attr = 1\n",
    "\n",
    "\n",
    "class B(A): pass\n",
    "\n",
    "\n",
    "class C(A): attr = 2\n",
    "\n",
    "\n",
    "class D(B, C): pass"
   ],
   "id": "2aceca12d1ca5f87",
   "outputs": [],
   "execution_count": 206
  },
  {
   "metadata": {},
   "cell_type": "markdown",
   "source": [
    "搜索顺序: x -> D -> B -> C -> A\n",
    "对属性 attr ⽽⾔，这种搜索⽅式将在类C中找到 attr"
   ],
   "id": "bc074e02790e6262"
  },
  {
   "metadata": {
    "ExecuteTime": {
     "end_time": "2024-07-01T09:40:20.631568Z",
     "start_time": "2024-07-01T09:40:20.627431Z"
    }
   },
   "cell_type": "code",
   "source": [
    "x = D()\n",
    "x.attr"
   ],
   "id": "c7fa931e4edb57a1",
   "outputs": [],
   "execution_count": null
  },
  {
   "metadata": {
    "ExecuteTime": {
     "end_time": "2024-07-01T09:43:19.009600Z",
     "start_time": "2024-07-01T09:43:19.004872Z"
    }
   },
   "cell_type": "code",
   "source": "D.__mro__",
   "id": "75cf9aa9bdce27c5",
   "outputs": [
    {
     "data": {
      "text/plain": [
       "(__main__.D, __main__.B, __main__.C, __main__.A, object)"
      ]
     },
     "execution_count": 214,
     "metadata": {},
     "output_type": "execute_result"
    }
   ],
   "execution_count": 214
  },
  {
   "metadata": {},
   "cell_type": "markdown",
   "source": "显式冲突解决",
   "id": "90feb15d04038328"
  },
  {
   "metadata": {
    "ExecuteTime": {
     "end_time": "2024-07-01T09:41:27.407141Z",
     "start_time": "2024-07-01T09:41:27.405100Z"
    }
   },
   "cell_type": "code",
   "source": [
    "class A: attr = 1\n",
    "\n",
    "\n",
    "class B(A): pass\n",
    "\n",
    "\n",
    "class C(A): attr = 2\n",
    "\n",
    "\n",
    "class D(B, C): attr = B.attr  #指定继承"
   ],
   "id": "1812f1707ea39e29",
   "outputs": [],
   "execution_count": 212
  },
  {
   "metadata": {
    "ExecuteTime": {
     "end_time": "2024-07-01T09:41:27.786045Z",
     "start_time": "2024-07-01T09:41:27.784153Z"
    }
   },
   "cell_type": "code",
   "source": [
    "x = D()\n",
    "x.attr"
   ],
   "id": "85d32be63429636b",
   "outputs": [
    {
     "data": {
      "text/plain": [
       "1"
      ]
     },
     "execution_count": 213,
     "metadata": {},
     "output_type": "execute_result"
    }
   ],
   "execution_count": 213
  },
  {
   "metadata": {
    "ExecuteTime": {
     "end_time": "2024-07-01T09:51:36.601212Z",
     "start_time": "2024-07-01T09:51:36.591271Z"
    }
   },
   "cell_type": "code",
   "source": [
    "\"\"\"\n",
    "File mapattrs.py (3.X + 2.X)\n",
    "\n",
    "Main tool: mapattrs() maps all attributes on or inherited by an \n",
    "instance to the instance or class from which they are inherited.  \n",
    "\n",
    "Assumes dir() gives all attributes of an instance.  To simulate \n",
    "inheritance, uses either the class's MRO tuple, which gives the \n",
    "search order for new-style classes (and all in 3.X), or a recursive\n",
    "traversal to infer the DFLR order of classic classes in 2.X.  \n",
    "\n",
    "Also here: inheritance() gives version-neutral class ordering; \n",
    "assorted dictionary tools using 3.X/2.7 comprehensions.\n",
    "\"\"\"\n",
    "\n",
    "import pprint\n",
    "\n",
    "\n",
    "def trace(X, label='', end='\\n'):\n",
    "    print(label + pprint.pformat(X) + end)  # print nicely\n",
    "\n",
    "\n",
    "def filterdictvals(D, V):\n",
    "    \"\"\"\n",
    "    dict D with entries for value V removed.\n",
    "    filterdictvals(dict(a=1, b=2, c=1), 1) => {'b': 2}\n",
    "    \"\"\"\n",
    "    return {K: V2 for (K, V2) in D.items() if V2 != V}\n",
    "\n",
    "\n",
    "def invertdict(D):\n",
    "    \"\"\"\n",
    "    dict D with values changed to keys (grouped by values).\n",
    "    Values must all be hashable to work as dict/set keys.\n",
    "    invertdict(dict(a=1, b=2, c=1)) => {1: ['a', 'c'], 2: ['b']}\n",
    "    \"\"\"\n",
    "\n",
    "    def keysof(V):\n",
    "        return sorted(K for K in D.keys() if D[K] == V)\n",
    "\n",
    "    return {V: keysof(V) for V in set(D.values())}\n",
    "\n",
    "\n",
    "def dflr(cls):\n",
    "    \"\"\"\n",
    "    Classic depth-first left-to-right order of class tree at cls.\n",
    "    Cycles not possible: Python disallows on __bases__ changes. \n",
    "    \"\"\"\n",
    "    here = [cls]\n",
    "    for sup in cls.__bases__:\n",
    "        here += dflr(sup)\n",
    "    return here\n",
    "\n",
    "\n",
    "def inheritance(instance):\n",
    "    \"\"\"\n",
    "    Inheritance order sequence: new-style (MRO) or classic (DFLR)\n",
    "    \"\"\"\n",
    "    if hasattr(instance.__class__, '__mro__'):\n",
    "        return (instance,) + instance.__class__.__mro__\n",
    "    else:\n",
    "        return [instance] + dflr(instance.__class__)\n",
    "\n",
    "\n",
    "def mapattrs(instance, withobject=False, bysource=False):\n",
    "    \"\"\"\n",
    "    dict with keys giving all inherited attributes of instance,\n",
    "    with values giving the object that each is inherited from.\n",
    "    withobject: False=remove object built-in class attributes.\n",
    "    bysource:   True=group result by objects instead of attributes.\n",
    "    Supports classes with slots that preclude __dict__ in instances.\n",
    "    \"\"\"\n",
    "    attr2obj = {}\n",
    "    inherits = inheritance(instance)\n",
    "    for attr in dir(instance):\n",
    "        for obj in inherits:\n",
    "            if attr in getattr(obj, '__dict__', {}):\n",
    "                attr2obj[attr] = obj\n",
    "                break\n",
    "\n",
    "    if not withobject:\n",
    "        attr2obj = filterdictvals(attr2obj, object)\n",
    "    return attr2obj if not bysource else invertdict(attr2obj)"
   ],
   "id": "11d1f49d647e1eb4",
   "outputs": [],
   "execution_count": null
  },
  {
   "metadata": {
    "ExecuteTime": {
     "end_time": "2024-07-01T09:53:51.827756Z",
     "start_time": "2024-07-01T09:53:51.824974Z"
    }
   },
   "cell_type": "code",
   "source": [
    "print('New-style classes in 2.X and 3.X')\n",
    "\n",
    "\n",
    "class A:         attr1 = 1\n",
    "\n",
    "\n",
    "class B(A):      attr2 = 2\n",
    "\n",
    "\n",
    "class C(A):      attr1 = 3\n",
    "\n",
    "\n",
    "class D(B, C):   pass\n",
    "\n",
    "\n",
    "I = D()\n",
    "print('Py=>%s' % I.attr1)  # Python's search == ours?\n",
    "trace(inheritance(I), 'INH\\n')  # [Inheritance order]\n",
    "trace(mapattrs(I), 'ATTRS\\n')  # Attrs  => Source\n",
    "trace(mapattrs(I, bysource=True), 'OBJS\\n')  # Source => [Attrs]"
   ],
   "id": "179715fc3927a4e7",
   "outputs": [
    {
     "name": "stdout",
     "output_type": "stream",
     "text": [
      "New-style classes in 2.X and 3.X\n",
      "Py=>3\n",
      "INH\n",
      "(<__main__.D object at 0x1095aee10>,\n",
      " <class '__main__.D'>,\n",
      " <class '__main__.B'>,\n",
      " <class '__main__.C'>,\n",
      " <class '__main__.A'>,\n",
      " <class 'object'>)\n",
      "\n",
      "ATTRS\n",
      "{'__dict__': <class '__main__.A'>,\n",
      " '__doc__': <class '__main__.D'>,\n",
      " '__module__': <class '__main__.D'>,\n",
      " '__weakref__': <class '__main__.A'>,\n",
      " 'attr1': <class '__main__.C'>,\n",
      " 'attr2': <class '__main__.B'>}\n",
      "\n",
      "OBJS\n",
      "{<class '__main__.A'>: ['__dict__', '__weakref__'],\n",
      " <class '__main__.B'>: ['attr2'],\n",
      " <class '__main__.C'>: ['attr1'],\n",
      " <class '__main__.D'>: ['__doc__', '__module__']}\n",
      "\n"
     ]
    }
   ],
   "execution_count": 218
  },
  {
   "metadata": {
    "ExecuteTime": {
     "end_time": "2024-07-01T10:01:24.529941Z",
     "start_time": "2024-07-01T10:01:24.526428Z"
    }
   },
   "cell_type": "code",
   "source": [
    "def keysof(V):\n",
    "    return sorted(K for K in D.keys() if D[K] == V)\n",
    "\n",
    "\n",
    "D = {'a': 1, 'b': 2, 'c': 1}\n",
    "keysof(1)"
   ],
   "id": "1807ad7e3a74f723",
   "outputs": [
    {
     "data": {
      "text/plain": [
       "['a', 'c']"
      ]
     },
     "execution_count": 227,
     "metadata": {},
     "output_type": "execute_result"
    }
   ],
   "execution_count": 227
  },
  {
   "metadata": {
    "ExecuteTime": {
     "end_time": "2024-07-01T10:01:24.771699Z",
     "start_time": "2024-07-01T10:01:24.769494Z"
    }
   },
   "cell_type": "code",
   "source": "{v: keysof(v) for v in set(D.values())}",
   "id": "6cbd9c6a9d8ff906",
   "outputs": [
    {
     "data": {
      "text/plain": [
       "{1: ['a', 'c'], 2: ['b']}"
      ]
     },
     "execution_count": 228,
     "metadata": {},
     "output_type": "execute_result"
    }
   ],
   "execution_count": 228
  },
  {
   "metadata": {
    "ExecuteTime": {
     "end_time": "2024-07-01T10:06:33.740267Z",
     "start_time": "2024-07-01T10:06:33.735853Z"
    }
   },
   "cell_type": "code",
   "source": "trace(mapattrs(I, withobject=True), 'OBJS\\n')  # Source => [Attrs]",
   "id": "7da55a3d096b1f91",
   "outputs": [
    {
     "name": "stdout",
     "output_type": "stream",
     "text": [
      "OBJS\n",
      "{'__class__': <class 'object'>,\n",
      " '__delattr__': <class 'object'>,\n",
      " '__dict__': <class '__main__.A'>,\n",
      " '__dir__': <class 'object'>,\n",
      " '__doc__': <class '__main__.D'>,\n",
      " '__eq__': <class 'object'>,\n",
      " '__format__': <class 'object'>,\n",
      " '__ge__': <class 'object'>,\n",
      " '__getattribute__': <class 'object'>,\n",
      " '__getstate__': <class 'object'>,\n",
      " '__gt__': <class 'object'>,\n",
      " '__hash__': <class 'object'>,\n",
      " '__init__': <class 'object'>,\n",
      " '__init_subclass__': <class 'object'>,\n",
      " '__le__': <class 'object'>,\n",
      " '__lt__': <class 'object'>,\n",
      " '__module__': <class '__main__.D'>,\n",
      " '__ne__': <class 'object'>,\n",
      " '__new__': <class 'object'>,\n",
      " '__reduce__': <class 'object'>,\n",
      " '__reduce_ex__': <class 'object'>,\n",
      " '__repr__': <class 'object'>,\n",
      " '__setattr__': <class 'object'>,\n",
      " '__sizeof__': <class 'object'>,\n",
      " '__str__': <class 'object'>,\n",
      " '__subclasshook__': <class 'object'>,\n",
      " '__weakref__': <class '__main__.A'>,\n",
      " 'attr1': <class '__main__.C'>,\n",
      " 'attr2': <class '__main__.B'>}\n",
      "\n"
     ]
    }
   ],
   "execution_count": 229
  },
  {
   "metadata": {
    "ExecuteTime": {
     "end_time": "2024-07-01T10:06:55.344541Z",
     "start_time": "2024-07-01T10:06:55.340554Z"
    }
   },
   "cell_type": "code",
   "source": "trace(mapattrs(I, withobject=False), 'OBJS\\n')  # Source => [Attrs]",
   "id": "d0ff4bc29c2db044",
   "outputs": [
    {
     "name": "stdout",
     "output_type": "stream",
     "text": [
      "OBJS\n",
      "{'__dict__': <class '__main__.A'>,\n",
      " '__doc__': <class '__main__.D'>,\n",
      " '__module__': <class '__main__.D'>,\n",
      " '__weakref__': <class '__main__.A'>,\n",
      " 'attr1': <class '__main__.C'>,\n",
      " 'attr2': <class '__main__.B'>}\n",
      "\n"
     ]
    }
   ],
   "execution_count": 230
  },
  {
   "metadata": {
    "ExecuteTime": {
     "end_time": "2024-07-01T10:07:23.444619Z",
     "start_time": "2024-07-01T10:07:23.441073Z"
    }
   },
   "cell_type": "code",
   "source": "trace(mapattrs(I, withobject=True, bysource=True), 'OBJS\\n')  # Source => [Attrs]",
   "id": "1d4d058b07f092f3",
   "outputs": [
    {
     "name": "stdout",
     "output_type": "stream",
     "text": [
      "OBJS\n",
      "{<class 'object'>: ['__class__',\n",
      "                    '__delattr__',\n",
      "                    '__dir__',\n",
      "                    '__eq__',\n",
      "                    '__format__',\n",
      "                    '__ge__',\n",
      "                    '__getattribute__',\n",
      "                    '__getstate__',\n",
      "                    '__gt__',\n",
      "                    '__hash__',\n",
      "                    '__init__',\n",
      "                    '__init_subclass__',\n",
      "                    '__le__',\n",
      "                    '__lt__',\n",
      "                    '__ne__',\n",
      "                    '__new__',\n",
      "                    '__reduce__',\n",
      "                    '__reduce_ex__',\n",
      "                    '__repr__',\n",
      "                    '__setattr__',\n",
      "                    '__sizeof__',\n",
      "                    '__str__',\n",
      "                    '__subclasshook__'],\n",
      " <class '__main__.A'>: ['__dict__', '__weakref__'],\n",
      " <class '__main__.B'>: ['attr2'],\n",
      " <class '__main__.C'>: ['attr1'],\n",
      " <class '__main__.D'>: ['__doc__', '__module__']}\n",
      "\n"
     ]
    }
   ],
   "execution_count": 231
  },
  {
   "metadata": {},
   "cell_type": "markdown",
   "source": "# slot",
   "id": "c77e331d0f3b5614"
  },
  {
   "metadata": {
    "ExecuteTime": {
     "end_time": "2024-07-01T10:09:47.655748Z",
     "start_time": "2024-07-01T10:09:47.653112Z"
    }
   },
   "cell_type": "code",
   "source": [
    "class A(object): __slots__ = ['a', 'b']; x = 1; y = 2\n",
    "\n",
    "\n",
    "class B(A):      __slots__ = ['b', 'c']\n",
    "\n",
    "\n",
    "class C(A):      x = 2\n",
    "\n",
    "\n",
    "class D(B, C):\n",
    "    z = 3\n",
    "\n",
    "    def __init__(self): self.name = 'Bob';\n",
    "\n",
    "\n",
    "I = D()\n",
    "trace(mapattrs(I, bysource=True))  # Also: trace(mapattrs(I))\n"
   ],
   "id": "d73cb169efea0acf",
   "outputs": [
    {
     "name": "stdout",
     "output_type": "stream",
     "text": [
      "{<__main__.D object at 0x109613c50>: ['name'],\n",
      " <class '__main__.C'>: ['x'],\n",
      " <class '__main__.D'>: ['__dict__',\n",
      "                        '__doc__',\n",
      "                        '__init__',\n",
      "                        '__module__',\n",
      "                        '__weakref__',\n",
      "                        'z'],\n",
      " <class '__main__.A'>: ['a', 'y'],\n",
      " <class '__main__.B'>: ['__slots__', 'b', 'c']}\n",
      "\n"
     ]
    }
   ],
   "execution_count": 235
  },
  {
   "metadata": {
    "ExecuteTime": {
     "end_time": "2024-07-01T10:09:32.171843Z",
     "start_time": "2024-07-01T10:09:32.167402Z"
    }
   },
   "cell_type": "code",
   "source": "D.__mro__",
   "id": "1ea45537574a1c51",
   "outputs": [
    {
     "data": {
      "text/plain": [
       "(__main__.D, __main__.B, __main__.C, __main__.A, object)"
      ]
     },
     "execution_count": 233,
     "metadata": {},
     "output_type": "execute_result"
    }
   ],
   "execution_count": 233
  },
  {
   "metadata": {},
   "cell_type": "markdown",
   "source": "# Slot",
   "id": "57829afcbbf31673"
  },
  {
   "metadata": {
    "ExecuteTime": {
     "end_time": "2024-07-01T10:14:58.131606Z",
     "start_time": "2024-07-01T10:14:58.127780Z"
    }
   },
   "cell_type": "code",
   "source": [
    "class A:\n",
    "    __slots__ = ['age', 'name']"
   ],
   "id": "ce44dd6eef185a8e",
   "outputs": [],
   "execution_count": 236
  },
  {
   "metadata": {
    "ExecuteTime": {
     "end_time": "2024-07-01T10:15:17.200303Z",
     "start_time": "2024-07-01T10:15:17.190322Z"
    }
   },
   "cell_type": "code",
   "source": [
    "x = A()\n",
    "x.gender = 'male'"
   ],
   "id": "fb3b021c284c861",
   "outputs": [
    {
     "ename": "AttributeError",
     "evalue": "'A' object has no attribute 'gender'",
     "output_type": "error",
     "traceback": [
      "\u001B[0;31m---------------------------------------------------------------------------\u001B[0m",
      "\u001B[0;31mAttributeError\u001B[0m                            Traceback (most recent call last)",
      "Cell \u001B[0;32mIn[237], line 2\u001B[0m\n\u001B[1;32m      1\u001B[0m x \u001B[38;5;241m=\u001B[39m A()\n\u001B[0;32m----> 2\u001B[0m x\u001B[38;5;241m.\u001B[39mgender \u001B[38;5;241m=\u001B[39m \u001B[38;5;124m'\u001B[39m\u001B[38;5;124mmale\u001B[39m\u001B[38;5;124m'\u001B[39m\n",
      "\u001B[0;31mAttributeError\u001B[0m: 'A' object has no attribute 'gender'"
     ]
    }
   ],
   "execution_count": 237
  },
  {
   "metadata": {
    "ExecuteTime": {
     "end_time": "2024-07-01T10:15:20.871565Z",
     "start_time": "2024-07-01T10:15:20.869626Z"
    }
   },
   "cell_type": "code",
   "source": "x.age = 10",
   "id": "ed78e79797b83a6e",
   "outputs": [],
   "execution_count": 238
  },
  {
   "metadata": {
    "ExecuteTime": {
     "end_time": "2024-07-01T10:22:27.203295Z",
     "start_time": "2024-07-01T10:22:27.185223Z"
    }
   },
   "cell_type": "code",
   "source": "x.__dict__",
   "id": "3f805e4c0a65267b",
   "outputs": [
    {
     "ename": "AttributeError",
     "evalue": "'A' object has no attribute '__dict__'",
     "output_type": "error",
     "traceback": [
      "\u001B[0;31m---------------------------------------------------------------------------\u001B[0m",
      "\u001B[0;31mAttributeError\u001B[0m                            Traceback (most recent call last)",
      "Cell \u001B[0;32mIn[247], line 1\u001B[0m\n\u001B[0;32m----> 1\u001B[0m x\u001B[38;5;241m.\u001B[39m\u001B[38;5;18m__dict__\u001B[39m\n",
      "\u001B[0;31mAttributeError\u001B[0m: 'A' object has no attribute '__dict__'"
     ]
    }
   ],
   "execution_count": 247
  },
  {
   "metadata": {
    "ExecuteTime": {
     "end_time": "2024-07-01T10:22:51.102633Z",
     "start_time": "2024-07-01T10:22:51.099160Z"
    }
   },
   "cell_type": "code",
   "source": "x.age = 20",
   "id": "a5c69618c34da8c0",
   "outputs": [],
   "execution_count": 249
  },
  {
   "metadata": {
    "ExecuteTime": {
     "end_time": "2024-07-01T10:22:56.777453Z",
     "start_time": "2024-07-01T10:22:56.774781Z"
    }
   },
   "cell_type": "code",
   "source": "getattr(x, 'age')",
   "id": "96ac0b6e2930b326",
   "outputs": [
    {
     "data": {
      "text/plain": [
       "20"
      ]
     },
     "execution_count": 250,
     "metadata": {},
     "output_type": "execute_result"
    }
   ],
   "execution_count": 250
  },
  {
   "metadata": {
    "ExecuteTime": {
     "end_time": "2024-07-01T10:23:06.998143Z",
     "start_time": "2024-07-01T10:23:06.994100Z"
    }
   },
   "cell_type": "code",
   "source": "setattr(x, 'age', 30)",
   "id": "9678cb5b8ad821a1",
   "outputs": [],
   "execution_count": 251
  },
  {
   "metadata": {
    "ExecuteTime": {
     "end_time": "2024-07-01T10:23:13.445231Z",
     "start_time": "2024-07-01T10:23:13.441442Z"
    }
   },
   "cell_type": "code",
   "source": "x.age",
   "id": "fbd337a538cb5e8",
   "outputs": [
    {
     "data": {
      "text/plain": [
       "30"
      ]
     },
     "execution_count": 252,
     "metadata": {},
     "output_type": "execute_result"
    }
   ],
   "execution_count": 252
  },
  {
   "metadata": {
    "ExecuteTime": {
     "end_time": "2024-07-01T10:19:17.718Z",
     "start_time": "2024-07-01T10:19:17.714670Z"
    }
   },
   "cell_type": "code",
   "source": [
    "class B:\n",
    "    job = 'boss'\n",
    "    __slots__ = ['age', 'name']"
   ],
   "id": "ed2f72a59d800c6f",
   "outputs": [],
   "execution_count": 240
  },
  {
   "metadata": {
    "ExecuteTime": {
     "end_time": "2024-07-01T10:19:34.956261Z",
     "start_time": "2024-07-01T10:19:34.949660Z"
    }
   },
   "cell_type": "code",
   "source": [
    "b = B()\n",
    "b.job = 1"
   ],
   "id": "1095b994b83a5d6c",
   "outputs": [
    {
     "ename": "AttributeError",
     "evalue": "'B' object attribute 'job' is read-only",
     "output_type": "error",
     "traceback": [
      "\u001B[0;31m---------------------------------------------------------------------------\u001B[0m",
      "\u001B[0;31mAttributeError\u001B[0m                            Traceback (most recent call last)",
      "Cell \u001B[0;32mIn[244], line 2\u001B[0m\n\u001B[1;32m      1\u001B[0m b \u001B[38;5;241m=\u001B[39m B()\n\u001B[0;32m----> 2\u001B[0m b\u001B[38;5;241m.\u001B[39mjob \u001B[38;5;241m=\u001B[39m \u001B[38;5;241m1\u001B[39m\n",
      "\u001B[0;31mAttributeError\u001B[0m: 'B' object attribute 'job' is read-only"
     ]
    }
   ],
   "execution_count": 244
  },
  {
   "metadata": {
    "ExecuteTime": {
     "end_time": "2024-07-01T10:19:47.872795Z",
     "start_time": "2024-07-01T10:19:47.870917Z"
    }
   },
   "cell_type": "code",
   "source": [
    "class C:\n",
    "    job = 'boss'"
   ],
   "id": "b171828563658504",
   "outputs": [],
   "execution_count": 245
  },
  {
   "metadata": {
    "ExecuteTime": {
     "end_time": "2024-07-01T10:19:55.050724Z",
     "start_time": "2024-07-01T10:19:55.048854Z"
    }
   },
   "cell_type": "code",
   "source": [
    "c = C()\n",
    "c.job = 'mgr'"
   ],
   "id": "3f946969c3611364",
   "outputs": [],
   "execution_count": 246
  },
  {
   "metadata": {},
   "cell_type": "markdown",
   "source": "如果没有⼀个属性命名空间字典，你将不能给不在slot 列表中的实例赋值新的名称：",
   "id": "84e57b43e20fe938"
  },
  {
   "metadata": {
    "ExecuteTime": {
     "end_time": "2024-07-01T10:24:36.926231Z",
     "start_time": "2024-07-01T10:24:36.922951Z"
    }
   },
   "cell_type": "code",
   "source": [
    "class D:\n",
    "    __slots__ = ['age', 'name']\n",
    "\n",
    "    def __init__(self):\n",
    "        self.job = 'boss'"
   ],
   "id": "c84d6e9c1b2c2500",
   "outputs": [],
   "execution_count": 253
  },
  {
   "metadata": {
    "ExecuteTime": {
     "end_time": "2024-07-01T10:24:39.955867Z",
     "start_time": "2024-07-01T10:24:39.942694Z"
    }
   },
   "cell_type": "code",
   "source": "d = D()",
   "id": "cf05a40fd7a74238",
   "outputs": [
    {
     "ename": "AttributeError",
     "evalue": "'D' object has no attribute 'job'",
     "output_type": "error",
     "traceback": [
      "\u001B[0;31m---------------------------------------------------------------------------\u001B[0m",
      "\u001B[0;31mAttributeError\u001B[0m                            Traceback (most recent call last)",
      "Cell \u001B[0;32mIn[254], line 1\u001B[0m\n\u001B[0;32m----> 1\u001B[0m d \u001B[38;5;241m=\u001B[39m D()\n",
      "Cell \u001B[0;32mIn[253], line 4\u001B[0m, in \u001B[0;36mD.__init__\u001B[0;34m(self)\u001B[0m\n\u001B[1;32m      3\u001B[0m \u001B[38;5;28;01mdef\u001B[39;00m \u001B[38;5;21m__init__\u001B[39m(\u001B[38;5;28mself\u001B[39m):\n\u001B[0;32m----> 4\u001B[0m     \u001B[38;5;28mself\u001B[39m\u001B[38;5;241m.\u001B[39mjob \u001B[38;5;241m=\u001B[39m \u001B[38;5;124m'\u001B[39m\u001B[38;5;124mboss\u001B[39m\u001B[38;5;124m'\u001B[39m\n",
      "\u001B[0;31mAttributeError\u001B[0m: 'D' object has no attribute 'job'"
     ]
    }
   ],
   "execution_count": 254
  },
  {
   "metadata": {},
   "cell_type": "markdown",
   "source": "添加__dict__",
   "id": "da1d9b6fec2806d3"
  },
  {
   "metadata": {
    "ExecuteTime": {
     "end_time": "2024-07-01T10:29:15.270005Z",
     "start_time": "2024-07-01T10:29:15.266407Z"
    }
   },
   "cell_type": "code",
   "source": [
    "class E:\n",
    "    __slots__ = ['age', 'name', '__dict__']\n",
    "    salary = 100\n",
    "\n",
    "    def __init__(self):\n",
    "        self.job = 'boss'"
   ],
   "id": "e1e41936a5877cb1",
   "outputs": [],
   "execution_count": 270
  },
  {
   "metadata": {
    "ExecuteTime": {
     "end_time": "2024-07-01T10:29:15.561862Z",
     "start_time": "2024-07-01T10:29:15.559888Z"
    }
   },
   "cell_type": "code",
   "source": "e = E()",
   "id": "b8c8ff0d93946a0d",
   "outputs": [],
   "execution_count": 271
  },
  {
   "metadata": {
    "ExecuteTime": {
     "end_time": "2024-07-01T10:29:15.964571Z",
     "start_time": "2024-07-01T10:29:15.962254Z"
    }
   },
   "cell_type": "code",
   "source": "e.salary",
   "id": "526f05a8a1329384",
   "outputs": [
    {
     "data": {
      "text/plain": [
       "100"
      ]
     },
     "execution_count": 272,
     "metadata": {},
     "output_type": "execute_result"
    }
   ],
   "execution_count": 272
  },
  {
   "metadata": {
    "ExecuteTime": {
     "end_time": "2024-07-01T10:29:17.113514Z",
     "start_time": "2024-07-01T10:29:17.112001Z"
    }
   },
   "cell_type": "code",
   "source": "e.pay = 10",
   "id": "7fda170c76d17900",
   "outputs": [],
   "execution_count": 273
  },
  {
   "metadata": {
    "ExecuteTime": {
     "end_time": "2024-07-01T10:29:17.585771Z",
     "start_time": "2024-07-01T10:29:17.584127Z"
    }
   },
   "cell_type": "code",
   "source": "e.salary = 200",
   "id": "86394d4e7b6e54fa",
   "outputs": [],
   "execution_count": 274
  },
  {
   "metadata": {
    "ExecuteTime": {
     "end_time": "2024-07-01T10:33:00.585754Z",
     "start_time": "2024-07-01T10:33:00.582550Z"
    }
   },
   "cell_type": "code",
   "source": "e.age = 12",
   "id": "d8089707edfac1e4",
   "outputs": [],
   "execution_count": 283
  },
  {
   "metadata": {
    "ExecuteTime": {
     "end_time": "2024-07-01T10:33:01.290227Z",
     "start_time": "2024-07-01T10:33:01.288055Z"
    }
   },
   "cell_type": "code",
   "source": [
    "for attr in list(getattr(e, '__dict__', [])) + getattr(e, '__slots__', []):\n",
    "    print(f'{attr}=>{getattr(e, attr, [])}')"
   ],
   "id": "4b1bfc01e6683320",
   "outputs": [
    {
     "name": "stdout",
     "output_type": "stream",
     "text": [
      "job=>boss\n",
      "pay=>10\n",
      "salary=>200\n",
      "age=>12\n",
      "name=>[]\n",
      "__dict__=>{'job': 'boss', 'pay': 10, 'salary': 200}\n"
     ]
    }
   ],
   "execution_count": 284
  },
  {
   "metadata": {
    "ExecuteTime": {
     "end_time": "2024-07-01T10:33:04.464545Z",
     "start_time": "2024-07-01T10:33:04.461530Z"
    }
   },
   "cell_type": "code",
   "source": "getattr(e, '__dict__', [])",
   "id": "58b698f3eaf3620",
   "outputs": [
    {
     "data": {
      "text/plain": [
       "{'job': 'boss', 'pay': 10, 'salary': 200}"
      ]
     },
     "execution_count": 285,
     "metadata": {},
     "output_type": "execute_result"
    }
   ],
   "execution_count": 285
  },
  {
   "metadata": {
    "ExecuteTime": {
     "end_time": "2024-07-01T10:33:04.816481Z",
     "start_time": "2024-07-01T10:33:04.814308Z"
    }
   },
   "cell_type": "code",
   "source": "list(getattr(e, '__dict__', []))",
   "id": "7215f9f131824005",
   "outputs": [
    {
     "data": {
      "text/plain": [
       "['job', 'pay', 'salary']"
      ]
     },
     "execution_count": 286,
     "metadata": {},
     "output_type": "execute_result"
    }
   ],
   "execution_count": 286
  },
  {
   "metadata": {},
   "cell_type": "markdown",
   "source": "⼀个名称如果不出现在最底层的_slots_ 列表就不会阻⽌它出现在更⾼层的_slots_中。",
   "id": "a67d0af89e8392e"
  },
  {
   "metadata": {
    "ExecuteTime": {
     "end_time": "2024-07-01T10:37:20.272892Z",
     "start_time": "2024-07-01T10:37:20.270225Z"
    }
   },
   "cell_type": "code",
   "source": [
    "class A:\n",
    "    __slots__ = ['a', 'b']\n",
    "\n",
    "\n",
    "class B(A):\n",
    "    __slots__ = ['a', 'c']"
   ],
   "id": "7e18c0617edde99",
   "outputs": [],
   "execution_count": 301
  },
  {
   "metadata": {
    "ExecuteTime": {
     "end_time": "2024-07-01T10:37:20.576092Z",
     "start_time": "2024-07-01T10:37:20.574274Z"
    }
   },
   "cell_type": "code",
   "source": [
    "x = B()\n",
    "x.a = 10\n",
    "x.c = 20"
   ],
   "id": "ba0ab6a56fe298b5",
   "outputs": [],
   "execution_count": 302
  },
  {
   "metadata": {
    "ExecuteTime": {
     "end_time": "2024-07-01T10:37:21.167870Z",
     "start_time": "2024-07-01T10:37:21.165262Z"
    }
   },
   "cell_type": "code",
   "source": "x.__slots__",
   "id": "3a105c6f5a76b529",
   "outputs": [
    {
     "data": {
      "text/plain": [
       "['a', 'c']"
      ]
     },
     "execution_count": 303,
     "metadata": {},
     "output_type": "execute_result"
    }
   ],
   "execution_count": 303
  },
  {
   "metadata": {
    "ExecuteTime": {
     "end_time": "2024-07-01T10:37:23.748829Z",
     "start_time": "2024-07-01T10:37:23.746964Z"
    }
   },
   "cell_type": "code",
   "source": "x.b = 1",
   "id": "658cc473d93fff5e",
   "outputs": [],
   "execution_count": 304
  },
  {
   "metadata": {},
   "cell_type": "markdown",
   "source": "如果父类中没有slot，子类中的slot就没有意义：如果一个子类继承自一个没有slots的父类，为父类创建的_dict_实例属性将总是可访问的，这让子类中的slots变得基本上没有意义。子类仍旧管理它的slot，但却不能通过任何方法计算",
   "id": "76860079d3a99c3d"
  },
  {
   "metadata": {
    "ExecuteTime": {
     "end_time": "2024-07-01T10:42:14.639398Z",
     "start_time": "2024-07-01T10:42:14.635518Z"
    }
   },
   "cell_type": "code",
   "source": [
    "class A:\n",
    "    pass\n",
    "\n",
    "\n",
    "class B(A):\n",
    "    __slots__ = ['a', 'c']"
   ],
   "id": "17bf9709d331fd22",
   "outputs": [],
   "execution_count": 305
  },
  {
   "metadata": {
    "ExecuteTime": {
     "end_time": "2024-07-01T10:42:36.042474Z",
     "start_time": "2024-07-01T10:42:36.038993Z"
    }
   },
   "cell_type": "code",
   "source": [
    "x = B()\n",
    "x.a = 10\n",
    "x.name = 'bob'"
   ],
   "id": "c3eae199bc525852",
   "outputs": [],
   "execution_count": 307
  },
  {
   "metadata": {
    "ExecuteTime": {
     "end_time": "2024-07-01T10:42:39.091214Z",
     "start_time": "2024-07-01T10:42:39.088692Z"
    }
   },
   "cell_type": "code",
   "source": "x.__dict__",
   "id": "feb8f6f9269b31ad",
   "outputs": [
    {
     "data": {
      "text/plain": [
       "{'name': 'bob'}"
      ]
     },
     "execution_count": 308,
     "metadata": {},
     "output_type": "execute_result"
    }
   ],
   "execution_count": 308
  },
  {
   "metadata": {
    "ExecuteTime": {
     "end_time": "2024-07-01T10:48:22.696148Z",
     "start_time": "2024-07-01T10:48:22.692561Z"
    }
   },
   "cell_type": "code",
   "source": [
    "class A:\n",
    "    __slots__ = ['a', 'c']\n",
    "\n",
    "\n",
    "class B(A):\n",
    "    __slots__ = ['a', 'c']"
   ],
   "id": "24f0298719b3ed8",
   "outputs": [],
   "execution_count": 309
  },
  {
   "metadata": {
    "ExecuteTime": {
     "end_time": "2024-07-01T10:48:27.479616Z",
     "start_time": "2024-07-01T10:48:27.477187Z"
    }
   },
   "cell_type": "code",
   "source": "c = B()",
   "id": "9e78186c86cb682f",
   "outputs": [],
   "execution_count": 310
  },
  {
   "metadata": {
    "ExecuteTime": {
     "end_time": "2024-07-01T10:48:49.755427Z",
     "start_time": "2024-07-01T10:48:49.753672Z"
    }
   },
   "cell_type": "code",
   "source": [
    "c.a = 10\n",
    "c.c = 1"
   ],
   "id": "2c627b2d57269f5d",
   "outputs": [],
   "execution_count": 312
  },
  {
   "metadata": {
    "ExecuteTime": {
     "end_time": "2024-07-01T10:48:59.990963Z",
     "start_time": "2024-07-01T10:48:59.979536Z"
    }
   },
   "cell_type": "code",
   "source": "c.__dict__",
   "id": "21c8a3d68b705c3b",
   "outputs": [
    {
     "ename": "AttributeError",
     "evalue": "'B' object has no attribute '__dict__'",
     "output_type": "error",
     "traceback": [
      "\u001B[0;31m---------------------------------------------------------------------------\u001B[0m",
      "\u001B[0;31mAttributeError\u001B[0m                            Traceback (most recent call last)",
      "Cell \u001B[0;32mIn[313], line 1\u001B[0m\n\u001B[0;32m----> 1\u001B[0m c\u001B[38;5;241m.\u001B[39m\u001B[38;5;18m__dict__\u001B[39m\n",
      "\u001B[0;31mAttributeError\u001B[0m: 'B' object has no attribute '__dict__'"
     ]
    }
   ],
   "execution_count": 313
  },
  {
   "metadata": {
    "ExecuteTime": {
     "end_time": "2024-07-01T10:49:42.713435Z",
     "start_time": "2024-07-01T10:49:42.710764Z"
    }
   },
   "cell_type": "code",
   "source": "B.__dict__",
   "id": "8c7215ebac0c8a15",
   "outputs": [
    {
     "data": {
      "text/plain": [
       "mappingproxy({'__module__': '__main__',\n",
       "              '__slots__': ['a', 'c'],\n",
       "              'a': <member 'a' of 'B' objects>,\n",
       "              'c': <member 'c' of 'B' objects>,\n",
       "              '__doc__': None})"
      ]
     },
     "execution_count": 316,
     "metadata": {},
     "output_type": "execute_result"
    }
   ],
   "execution_count": 316
  },
  {
   "metadata": {},
   "cell_type": "markdown",
   "source": [
    "# Property\n",
    "不同 之处在于，slot 管理实例的存储，⽽ property 则能任意地拦截访问并计算值。"
   ],
   "id": "38e03ed7b54b368d"
  },
  {
   "metadata": {
    "ExecuteTime": {
     "end_time": "2024-07-01T10:59:35.219090Z",
     "start_time": "2024-07-01T10:59:35.216980Z"
    }
   },
   "cell_type": "code",
   "source": [
    "class properties:\n",
    "    def getage(self):\n",
    "        return 40\n",
    "\n",
    "    def setage(self, value):\n",
    "        print('set age: %s' % value)\n",
    "        self._age = value\n",
    "\n",
    "    age = property(getage, setage, None, None)"
   ],
   "id": "513a03e060aa9205",
   "outputs": [],
   "execution_count": 324
  },
  {
   "metadata": {
    "ExecuteTime": {
     "end_time": "2024-07-01T10:59:35.462632Z",
     "start_time": "2024-07-01T10:59:35.460570Z"
    }
   },
   "cell_type": "code",
   "source": [
    "x = properties()\n",
    "x.age"
   ],
   "id": "c40601275e760e2b",
   "outputs": [
    {
     "data": {
      "text/plain": [
       "40"
      ]
     },
     "execution_count": 325,
     "metadata": {},
     "output_type": "execute_result"
    }
   ],
   "execution_count": 325
  },
  {
   "metadata": {
    "ExecuteTime": {
     "end_time": "2024-07-01T10:59:35.877785Z",
     "start_time": "2024-07-01T10:59:35.875883Z"
    }
   },
   "cell_type": "code",
   "source": "x.age = 30",
   "id": "48f7baad3e76f28c",
   "outputs": [
    {
     "name": "stdout",
     "output_type": "stream",
     "text": [
      "set age: 30\n"
     ]
    }
   ],
   "execution_count": 326
  },
  {
   "metadata": {
    "ExecuteTime": {
     "end_time": "2024-07-01T12:29:52.043197Z",
     "start_time": "2024-07-01T12:29:52.041381Z"
    }
   },
   "cell_type": "code",
   "source": [
    "class C:\n",
    "    __slots__ = ['age']\n",
    "    data = 'spam'\n",
    "\n",
    "    def __getattr__(self, item):\n",
    "        print(f'getattr: {item}')\n",
    "        if hasattr(self, '__dict__') and item in self.__dict__:\n",
    "            return self.__dict__[item]\n",
    "        elif hasattr(self, '__slots__') and item in self.__slots__:\n",
    "            return self.__slots__[item]\n",
    "        else:\n",
    "            return 'not found'"
   ],
   "id": "c35cd952de110746",
   "outputs": [],
   "execution_count": 355
  },
  {
   "metadata": {
    "ExecuteTime": {
     "end_time": "2024-07-01T12:30:02.872810Z",
     "start_time": "2024-07-01T12:30:01.953801Z"
    }
   },
   "cell_type": "code",
   "source": [
    "a = C()\n",
    "a.hello  # 无限递归"
   ],
   "id": "dc54a6fe342c513",
   "outputs": [
    {
     "name": "stdout",
     "output_type": "stream",
     "text": [
      "getattr: hello\n",
      "getattr: __dict__\n",
      "getattr: __dict__\n",
      "getattr: __dict__\n",
      "getattr: __dict__\n",
      "getattr: __dict__\n",
      "getattr: __dict__\n",
      "getattr: __dict__\n",
      "getattr: __dict__\n",
      "getattr: __dict__\n",
      "getattr: __dict__\n",
      "getattr: __dict__\n",
      "getattr: __dict__\n",
      "getattr: __dict__\n",
      "getattr: __dict__\n",
      "getattr: __dict__\n",
      "getattr: __dict__\n",
      "getattr: __dict__\n",
      "getattr: __dict__\n",
      "getattr: __dict__\n",
      "getattr: __dict__\n",
      "getattr: __dict__\n",
      "getattr: __dict__\n",
      "getattr: __dict__\n",
      "getattr: __dict__\n",
      "getattr: __dict__\n",
      "getattr: __dict__\n",
      "getattr: __dict__\n",
      "getattr: __dict__\n",
      "getattr: __dict__\n",
      "getattr: __dict__\n",
      "getattr: __dict__\n",
      "getattr: __dict__\n",
      "getattr: __dict__\n",
      "getattr: __dict__\n",
      "getattr: __dict__\n",
      "getattr: __dict__\n",
      "getattr: __dict__\n",
      "getattr: __dict__\n",
      "getattr: __dict__\n",
      "getattr: __dict__\n",
      "getattr: __dict__\n",
      "getattr: __dict__\n",
      "getattr: __dict__\n",
      "getattr: __dict__\n",
      "getattr: __dict__\n",
      "getattr: __dict__\n",
      "getattr: __dict__\n",
      "getattr: __dict__\n",
      "getattr: __dict__\n",
      "getattr: __dict__\n",
      "getattr: __dict__\n",
      "getattr: __dict__\n",
      "getattr: __dict__\n",
      "getattr: __dict__\n",
      "getattr: __dict__\n",
      "getattr: __dict__\n",
      "getattr: __dict__\n",
      "getattr: __dict__\n",
      "getattr: __dict__\n",
      "getattr: __dict__\n",
      "getattr: __dict__\n",
      "getattr: __dict__\n",
      "getattr: __dict__\n",
      "getattr: __dict__\n",
      "getattr: __dict__\n",
      "getattr: __dict__\n",
      "getattr: __dict__\n",
      "getattr: __dict__\n",
      "getattr: __dict__\n",
      "getattr: __dict__\n",
      "getattr: __dict__\n",
      "getattr: __dict__\n",
      "getattr: __dict__\n",
      "getattr: __dict__\n",
      "getattr: __dict__\n",
      "getattr: __dict__\n",
      "getattr: __dict__\n",
      "getattr: __dict__\n",
      "getattr: __dict__\n",
      "getattr: __dict__\n",
      "getattr: __dict__\n",
      "getattr: __dict__\n",
      "getattr: __dict__\n",
      "getattr: __dict__\n",
      "getattr: __dict__\n",
      "getattr: __dict__\n",
      "getattr: __dict__\n",
      "getattr: __dict__\n",
      "getattr: __dict__\n",
      "getattr: __dict__\n",
      "getattr: __dict__\n",
      "getattr: __dict__\n",
      "getattr: __dict__\n",
      "getattr: __dict__\n",
      "getattr: __dict__\n",
      "getattr: __dict__\n",
      "getattr: __dict__\n",
      "getattr: __dict__\n",
      "getattr: __dict__\n",
      "getattr: __dict__\n",
      "getattr: __dict__\n",
      "getattr: __dict__\n",
      "getattr: __dict__\n",
      "getattr: __dict__\n",
      "getattr: __dict__\n",
      "getattr: __dict__\n",
      "getattr: __dict__\n",
      "getattr: __dict__\n",
      "getattr: __dict__\n",
      "getattr: __dict__\n",
      "getattr: __dict__\n",
      "getattr: __dict__\n",
      "getattr: __dict__\n",
      "getattr: __dict__\n",
      "getattr: __dict__\n",
      "getattr: __dict__\n",
      "getattr: __dict__\n",
      "getattr: __dict__\n",
      "getattr: __dict__\n",
      "getattr: __dict__\n",
      "getattr: __dict__\n",
      "getattr: __dict__\n",
      "getattr: __dict__\n",
      "getattr: __dict__\n",
      "getattr: __dict__\n",
      "getattr: __dict__\n",
      "getattr: __dict__\n",
      "getattr: __dict__\n",
      "getattr: __dict__\n",
      "getattr: __dict__\n",
      "getattr: __dict__\n",
      "getattr: __dict__\n",
      "getattr: __dict__\n",
      "getattr: __dict__\n",
      "getattr: __dict__\n",
      "getattr: __dict__\n",
      "getattr: __dict__\n",
      "getattr: __dict__\n",
      "getattr: __dict__\n",
      "getattr: __dict__\n",
      "getattr: __dict__\n",
      "getattr: __dict__\n",
      "getattr: __dict__\n",
      "getattr: __dict__\n",
      "getattr: __dict__\n",
      "getattr: __dict__\n",
      "getattr: __dict__\n",
      "getattr: __dict__\n",
      "getattr: __dict__\n",
      "getattr: __dict__\n",
      "getattr: __dict__\n",
      "getattr: __dict__\n",
      "getattr: __dict__\n",
      "getattr: __dict__\n",
      "getattr: __dict__\n",
      "getattr: __dict__\n",
      "getattr: __dict__\n",
      "getattr: __dict__\n",
      "getattr: __dict__\n",
      "getattr: __dict__\n",
      "getattr: __dict__\n",
      "getattr: __dict__\n",
      "getattr: __dict__\n",
      "getattr: __dict__\n",
      "getattr: __dict__\n",
      "getattr: __dict__\n",
      "getattr: __dict__\n",
      "getattr: __dict__\n",
      "getattr: __dict__\n",
      "getattr: __dict__\n",
      "getattr: __dict__\n",
      "getattr: __dict__\n",
      "getattr: __dict__\n",
      "getattr: __dict__\n",
      "getattr: __dict__\n",
      "getattr: __dict__\n",
      "getattr: __dict__\n",
      "getattr: __dict__\n",
      "getattr: __dict__\n",
      "getattr: __dict__\n",
      "getattr: __dict__\n",
      "getattr: __dict__\n",
      "getattr: __dict__\n",
      "getattr: __dict__\n",
      "getattr: __dict__\n",
      "getattr: __dict__\n",
      "getattr: __dict__\n",
      "getattr: __dict__\n",
      "getattr: __dict__\n",
      "getattr: __dict__\n",
      "getattr: __dict__\n",
      "getattr: __dict__\n",
      "getattr: __dict__\n",
      "getattr: __dict__\n",
      "getattr: __dict__\n",
      "getattr: __dict__\n",
      "getattr: __dict__\n",
      "getattr: __dict__\n",
      "getattr: __dict__\n",
      "getattr: __dict__\n",
      "getattr: __dict__\n",
      "getattr: __dict__\n",
      "getattr: __dict__\n",
      "getattr: __dict__\n",
      "getattr: __dict__\n",
      "getattr: __dict__\n",
      "getattr: __dict__\n",
      "getattr: __dict__\n",
      "getattr: __dict__\n",
      "getattr: __dict__\n",
      "getattr: __dict__\n",
      "getattr: __dict__\n",
      "getattr: __dict__\n",
      "getattr: __dict__\n",
      "getattr: __dict__\n",
      "getattr: __dict__\n",
      "getattr: __dict__\n",
      "getattr: __dict__\n",
      "getattr: __dict__\n",
      "getattr: __dict__\n",
      "getattr: __dict__\n",
      "getattr: __dict__\n",
      "getattr: __dict__\n",
      "getattr: __dict__\n",
      "getattr: __dict__\n",
      "getattr: __dict__\n",
      "getattr: __dict__\n",
      "getattr: __dict__\n",
      "getattr: __dict__\n",
      "getattr: __dict__\n",
      "getattr: __dict__\n",
      "getattr: __dict__\n",
      "getattr: __dict__\n",
      "getattr: __dict__\n",
      "getattr: __dict__\n",
      "getattr: __dict__\n",
      "getattr: __dict__\n",
      "getattr: __dict__\n",
      "getattr: __dict__\n",
      "getattr: __dict__\n",
      "getattr: __dict__\n",
      "getattr: __dict__\n",
      "getattr: __dict__\n",
      "getattr: __dict__\n",
      "getattr: __dict__\n",
      "getattr: __dict__\n",
      "getattr: __dict__\n",
      "getattr: __dict__\n",
      "getattr: __dict__\n",
      "getattr: __dict__\n",
      "getattr: __dict__\n",
      "getattr: __dict__\n",
      "getattr: __dict__\n",
      "getattr: __dict__\n",
      "getattr: __dict__\n",
      "getattr: __dict__\n",
      "getattr: __dict__\n",
      "getattr: __dict__\n",
      "getattr: __dict__\n",
      "getattr: __dict__\n",
      "getattr: __dict__\n",
      "getattr: __dict__\n",
      "getattr: __dict__\n",
      "getattr: __dict__\n",
      "getattr: __dict__\n",
      "getattr: __dict__\n",
      "getattr: __dict__\n",
      "getattr: __dict__\n",
      "getattr: __dict__\n",
      "getattr: __dict__\n",
      "getattr: __dict__\n",
      "getattr: __dict__\n",
      "getattr: __dict__\n",
      "getattr: __dict__\n",
      "getattr: __dict__\n",
      "getattr: __dict__\n",
      "getattr: __dict__\n",
      "getattr: __dict__\n",
      "getattr: __dict__\n",
      "getattr: __dict__\n",
      "getattr: __dict__\n",
      "getattr: __dict__\n",
      "getattr: __dict__\n",
      "getattr: __dict__\n",
      "getattr: __dict__\n",
      "getattr: __dict__\n",
      "getattr: __dict__\n",
      "getattr: __dict__\n",
      "getattr: __dict__\n",
      "getattr: __dict__\n",
      "getattr: __dict__\n",
      "getattr: __dict__\n",
      "getattr: __dict__\n",
      "getattr: __dict__\n",
      "getattr: __dict__\n",
      "getattr: __dict__\n",
      "getattr: __dict__\n",
      "getattr: __dict__\n",
      "getattr: __dict__\n",
      "getattr: __dict__\n",
      "getattr: __dict__\n",
      "getattr: __dict__\n",
      "getattr: __dict__\n",
      "getattr: __dict__\n",
      "getattr: __dict__\n",
      "getattr: __dict__\n",
      "getattr: __dict__\n",
      "getattr: __dict__\n",
      "getattr: __dict__\n",
      "getattr: __dict__\n",
      "getattr: __dict__\n",
      "getattr: __dict__\n",
      "getattr: __dict__\n",
      "getattr: __dict__\n",
      "getattr: __dict__\n",
      "getattr: __dict__\n",
      "getattr: __dict__\n",
      "getattr: __dict__\n",
      "getattr: __dict__\n",
      "getattr: __dict__\n",
      "getattr: __dict__\n",
      "getattr: __dict__\n",
      "getattr: __dict__\n",
      "getattr: __dict__\n",
      "getattr: __dict__\n",
      "getattr: __dict__\n",
      "getattr: __dict__\n",
      "getattr: __dict__\n",
      "getattr: __dict__\n",
      "getattr: __dict__\n",
      "getattr: __dict__\n",
      "getattr: __dict__\n",
      "getattr: __dict__\n",
      "getattr: __dict__\n",
      "getattr: __dict__\n",
      "getattr: __dict__\n",
      "getattr: __dict__\n",
      "getattr: __dict__\n",
      "getattr: __dict__\n",
      "getattr: __dict__\n",
      "getattr: __dict__\n",
      "getattr: __dict__\n",
      "getattr: __dict__\n",
      "getattr: __dict__\n",
      "getattr: __dict__\n",
      "getattr: __dict__\n",
      "getattr: __dict__\n",
      "getattr: __dict__\n",
      "getattr: __dict__\n",
      "getattr: __dict__\n",
      "getattr: __dict__\n",
      "getattr: __dict__\n",
      "getattr: __dict__\n",
      "getattr: __dict__\n",
      "getattr: __dict__\n",
      "getattr: __dict__\n",
      "getattr: __dict__\n",
      "getattr: __dict__\n",
      "getattr: __dict__\n",
      "getattr: __dict__\n",
      "getattr: __dict__\n",
      "getattr: __dict__\n",
      "getattr: __dict__\n",
      "getattr: __dict__\n",
      "getattr: __dict__\n",
      "getattr: __dict__\n",
      "getattr: __dict__\n",
      "getattr: __dict__\n",
      "getattr: __dict__\n",
      "getattr: __dict__\n",
      "getattr: __dict__\n",
      "getattr: __dict__\n",
      "getattr: __dict__\n",
      "getattr: __dict__\n",
      "getattr: __dict__\n",
      "getattr: __dict__\n",
      "getattr: __dict__\n",
      "getattr: __dict__\n",
      "getattr: __dict__\n",
      "getattr: __dict__\n",
      "getattr: __dict__\n",
      "getattr: __dict__\n",
      "getattr: __dict__\n",
      "getattr: __dict__\n",
      "getattr: __dict__\n",
      "getattr: __dict__\n",
      "getattr: __dict__\n",
      "getattr: __dict__\n",
      "getattr: __dict__\n",
      "getattr: __dict__\n",
      "getattr: __dict__\n",
      "getattr: __dict__\n",
      "getattr: __dict__\n",
      "getattr: __dict__\n",
      "getattr: __dict__\n",
      "getattr: __dict__\n",
      "getattr: __dict__\n",
      "getattr: __dict__\n",
      "getattr: __dict__\n",
      "getattr: __dict__\n",
      "getattr: __dict__\n",
      "getattr: __dict__\n",
      "getattr: __dict__\n",
      "getattr: __dict__\n",
      "getattr: __dict__\n",
      "getattr: __dict__\n",
      "getattr: __dict__\n",
      "getattr: __dict__\n",
      "getattr: __dict__\n",
      "getattr: __dict__\n",
      "getattr: __dict__\n",
      "getattr: __dict__\n",
      "getattr: __dict__\n",
      "getattr: __dict__\n",
      "getattr: __dict__\n",
      "getattr: __dict__\n",
      "getattr: __dict__\n",
      "getattr: __dict__\n",
      "getattr: __dict__\n",
      "getattr: __dict__\n",
      "getattr: __dict__\n",
      "getattr: __dict__\n",
      "getattr: __dict__\n",
      "getattr: __dict__\n",
      "getattr: __dict__\n",
      "getattr: __dict__\n",
      "getattr: __dict__\n",
      "getattr: __dict__\n",
      "getattr: __dict__\n",
      "getattr: __dict__\n",
      "getattr: __dict__\n",
      "getattr: __dict__\n",
      "getattr: __dict__\n",
      "getattr: __dict__\n",
      "getattr: __dict__\n",
      "getattr: __dict__\n",
      "getattr: __dict__\n",
      "getattr: __dict__\n",
      "getattr: __dict__\n",
      "getattr: __dict__\n",
      "getattr: __dict__\n",
      "getattr: __dict__\n",
      "getattr: __dict__\n",
      "getattr: __dict__\n",
      "getattr: __dict__\n",
      "getattr: __dict__\n",
      "getattr: __dict__\n",
      "getattr: __dict__\n",
      "getattr: __dict__\n",
      "getattr: __dict__\n",
      "getattr: __dict__\n",
      "getattr: __dict__\n",
      "getattr: __dict__\n",
      "getattr: __dict__\n",
      "getattr: __dict__\n",
      "getattr: __dict__\n",
      "getattr: __dict__\n",
      "getattr: __dict__\n",
      "getattr: __dict__\n",
      "getattr: __dict__\n",
      "getattr: __dict__\n",
      "getattr: __dict__\n",
      "getattr: __dict__\n",
      "getattr: __dict__\n",
      "getattr: __dict__\n",
      "getattr: __dict__\n",
      "getattr: __dict__\n",
      "getattr: __dict__\n",
      "getattr: __dict__\n",
      "getattr: __dict__\n",
      "getattr: __dict__\n",
      "getattr: __dict__\n",
      "getattr: __dict__\n",
      "getattr: __dict__\n",
      "getattr: __dict__\n",
      "getattr: __dict__\n",
      "getattr: __dict__\n",
      "getattr: __dict__\n",
      "getattr: __dict__\n",
      "getattr: __dict__\n",
      "getattr: __dict__\n",
      "getattr: __dict__\n",
      "getattr: __dict__\n",
      "getattr: __dict__\n",
      "getattr: __dict__\n",
      "getattr: __dict__\n",
      "getattr: __dict__\n",
      "getattr: __dict__\n",
      "getattr: __dict__\n",
      "getattr: __dict__\n",
      "getattr: __dict__\n",
      "getattr: __dict__\n",
      "getattr: __dict__\n",
      "getattr: __dict__\n",
      "getattr: __dict__\n",
      "getattr: __dict__\n",
      "getattr: __dict__\n",
      "getattr: __dict__\n",
      "getattr: __dict__\n",
      "getattr: __dict__\n",
      "getattr: __dict__\n",
      "getattr: __dict__\n",
      "getattr: __dict__\n",
      "getattr: __dict__\n",
      "getattr: __dict__\n",
      "getattr: __dict__\n",
      "getattr: __dict__\n",
      "getattr: __dict__\n",
      "getattr: __dict__\n",
      "getattr: __dict__\n",
      "getattr: __dict__\n",
      "getattr: __dict__\n",
      "getattr: __dict__\n",
      "getattr: __dict__\n",
      "getattr: __dict__\n",
      "getattr: __dict__\n",
      "getattr: __dict__\n",
      "getattr: __dict__\n",
      "getattr: __dict__\n",
      "getattr: __dict__\n",
      "getattr: __dict__\n",
      "getattr: __dict__\n",
      "getattr: __dict__\n",
      "getattr: __dict__\n",
      "getattr: __dict__\n",
      "getattr: __dict__\n",
      "getattr: __dict__\n",
      "getattr: __dict__\n",
      "getattr: __dict__\n",
      "getattr: __dict__\n",
      "getattr: __dict__\n",
      "getattr: __dict__\n",
      "getattr: __dict__\n",
      "getattr: __dict__\n",
      "getattr: __dict__\n",
      "getattr: __dict__\n",
      "getattr: __dict__\n",
      "getattr: __dict__\n",
      "getattr: __dict__\n",
      "getattr: __dict__\n",
      "getattr: __dict__\n",
      "getattr: __dict__\n",
      "getattr: __dict__\n",
      "getattr: __dict__\n",
      "getattr: __dict__\n",
      "getattr: __dict__\n",
      "getattr: __dict__\n",
      "getattr: __dict__\n",
      "getattr: __dict__\n",
      "getattr: __dict__\n",
      "getattr: __dict__\n",
      "getattr: __dict__\n",
      "getattr: __dict__\n",
      "getattr: __dict__\n",
      "getattr: __dict__\n",
      "getattr: __dict__\n",
      "getattr: __dict__\n",
      "getattr: __dict__\n",
      "getattr: __dict__\n",
      "getattr: __dict__\n",
      "getattr: __dict__\n",
      "getattr: __dict__\n",
      "getattr: __dict__\n",
      "getattr: __dict__\n",
      "getattr: __dict__\n",
      "getattr: __dict__\n",
      "getattr: __dict__\n",
      "getattr: __dict__\n",
      "getattr: __dict__\n",
      "getattr: __dict__\n",
      "getattr: __dict__\n",
      "getattr: __dict__\n",
      "getattr: __dict__\n",
      "getattr: __dict__\n",
      "getattr: __dict__\n",
      "getattr: __dict__\n",
      "getattr: __dict__\n",
      "getattr: __dict__\n",
      "getattr: __dict__\n",
      "getattr: __dict__\n",
      "getattr: __dict__\n",
      "getattr: __dict__\n",
      "getattr: __dict__\n",
      "getattr: __dict__\n",
      "getattr: __dict__\n",
      "getattr: __dict__\n",
      "getattr: __dict__\n",
      "getattr: __dict__\n",
      "getattr: __dict__\n",
      "getattr: __dict__\n",
      "getattr: __dict__\n",
      "getattr: __dict__\n",
      "getattr: __dict__\n",
      "getattr: __dict__\n",
      "getattr: __dict__\n",
      "getattr: __dict__\n",
      "getattr: __dict__\n",
      "getattr: __dict__\n",
      "getattr: __dict__\n",
      "getattr: __dict__\n",
      "getattr: __dict__\n",
      "getattr: __dict__\n",
      "getattr: __dict__\n",
      "getattr: __dict__\n",
      "getattr: __dict__\n",
      "getattr: __dict__\n",
      "getattr: __dict__\n",
      "getattr: __dict__\n",
      "getattr: __dict__\n",
      "getattr: __dict__\n",
      "getattr: __dict__\n",
      "getattr: __dict__\n",
      "getattr: __dict__\n",
      "getattr: __dict__\n",
      "getattr: __dict__\n",
      "getattr: __dict__\n",
      "getattr: __dict__\n",
      "getattr: __dict__\n",
      "getattr: __dict__\n",
      "getattr: __dict__\n",
      "getattr: __dict__\n",
      "getattr: __dict__\n",
      "getattr: __dict__\n",
      "getattr: __dict__\n",
      "getattr: __dict__\n",
      "getattr: __dict__\n",
      "getattr: __dict__\n",
      "getattr: __dict__\n",
      "getattr: __dict__\n",
      "getattr: __dict__\n",
      "getattr: __dict__\n",
      "getattr: __dict__\n",
      "getattr: __dict__\n",
      "getattr: __dict__\n",
      "getattr: __dict__\n",
      "getattr: __dict__\n",
      "getattr: __dict__\n",
      "getattr: __dict__\n",
      "getattr: __dict__\n",
      "getattr: __dict__\n",
      "getattr: __dict__\n",
      "getattr: __dict__\n",
      "getattr: __dict__\n",
      "getattr: __dict__\n",
      "getattr: __dict__\n",
      "getattr: __dict__\n",
      "getattr: __dict__\n",
      "getattr: __dict__\n",
      "getattr: __dict__\n",
      "getattr: __dict__\n",
      "getattr: __dict__\n",
      "getattr: __dict__\n",
      "getattr: __dict__\n",
      "getattr: __dict__\n",
      "getattr: __dict__\n",
      "getattr: __dict__\n",
      "getattr: __dict__\n",
      "getattr: __dict__\n",
      "getattr: __dict__\n",
      "getattr: __dict__\n",
      "getattr: __dict__\n",
      "getattr: __dict__\n",
      "getattr: __dict__\n",
      "getattr: __dict__\n",
      "getattr: __dict__\n",
      "getattr: __dict__\n",
      "getattr: __dict__\n",
      "getattr: __dict__\n",
      "getattr: __dict__\n",
      "getattr: __dict__\n",
      "getattr: __dict__\n",
      "getattr: __dict__\n",
      "getattr: __dict__\n",
      "getattr: __dict__\n",
      "getattr: __dict__\n",
      "getattr: __dict__\n",
      "getattr: __dict__\n",
      "getattr: __dict__\n",
      "getattr: __dict__\n",
      "getattr: __dict__\n",
      "getattr: __dict__\n",
      "getattr: __dict__\n",
      "getattr: __dict__\n",
      "getattr: __dict__\n",
      "getattr: __dict__\n",
      "getattr: __dict__\n",
      "getattr: __dict__\n",
      "getattr: __dict__\n",
      "getattr: __dict__\n",
      "getattr: __dict__\n",
      "getattr: __dict__\n",
      "getattr: __dict__\n",
      "getattr: __dict__\n",
      "getattr: __dict__\n",
      "getattr: __dict__\n",
      "getattr: __dict__\n",
      "getattr: __dict__\n",
      "getattr: __dict__\n",
      "getattr: __dict__\n",
      "getattr: __dict__\n",
      "getattr: __dict__\n",
      "getattr: __dict__\n",
      "getattr: __dict__\n",
      "getattr: __dict__\n",
      "getattr: __dict__\n",
      "getattr: __dict__\n",
      "getattr: __dict__\n",
      "getattr: __dict__\n",
      "getattr: __dict__\n",
      "getattr: __dict__\n",
      "getattr: __dict__\n",
      "getattr: __dict__\n",
      "getattr: __dict__\n",
      "getattr: __dict__\n",
      "getattr: __dict__\n",
      "getattr: __dict__\n",
      "getattr: __dict__\n",
      "getattr: __dict__\n",
      "getattr: __dict__\n",
      "getattr: __dict__\n",
      "getattr: __dict__\n",
      "getattr: __dict__\n",
      "getattr: __dict__\n",
      "getattr: __dict__\n",
      "getattr: __dict__\n",
      "getattr: __dict__\n",
      "getattr: __dict__\n",
      "getattr: __dict__\n",
      "getattr: __dict__\n",
      "getattr: __dict__\n",
      "getattr: __dict__\n",
      "getattr: __dict__\n",
      "getattr: __dict__\n",
      "getattr: __dict__\n",
      "getattr: __dict__\n",
      "getattr: __dict__\n",
      "getattr: __dict__\n",
      "getattr: __dict__\n",
      "getattr: __dict__\n",
      "getattr: __dict__\n",
      "getattr: __dict__\n",
      "getattr: __dict__\n",
      "getattr: __dict__\n",
      "getattr: __dict__\n",
      "getattr: __dict__\n",
      "getattr: __dict__\n",
      "getattr: __dict__\n",
      "getattr: __dict__\n",
      "getattr: __dict__\n",
      "getattr: __dict__\n",
      "getattr: __dict__\n",
      "getattr: __dict__\n",
      "getattr: __dict__\n",
      "getattr: __dict__\n",
      "getattr: __dict__\n",
      "getattr: __dict__\n",
      "getattr: __dict__\n",
      "getattr: __dict__\n",
      "getattr: __dict__\n",
      "getattr: __dict__\n",
      "getattr: __dict__\n",
      "getattr: __dict__\n",
      "getattr: __dict__\n",
      "getattr: __dict__\n",
      "getattr: __dict__\n",
      "getattr: __dict__\n",
      "getattr: __dict__\n",
      "getattr: __dict__\n",
      "getattr: __dict__\n",
      "getattr: __dict__\n",
      "getattr: __dict__\n",
      "getattr: __dict__\n",
      "getattr: __dict__\n",
      "getattr: __dict__\n",
      "getattr: __dict__\n",
      "getattr: __dict__\n",
      "getattr: __dict__\n",
      "getattr: __dict__\n",
      "getattr: __dict__\n",
      "getattr: __dict__\n",
      "getattr: __dict__\n",
      "getattr: __dict__\n",
      "getattr: __dict__\n",
      "getattr: __dict__\n",
      "getattr: __dict__\n",
      "getattr: __dict__\n",
      "getattr: __dict__\n",
      "getattr: __dict__\n",
      "getattr: __dict__\n",
      "getattr: __dict__\n",
      "getattr: __dict__\n",
      "getattr: __dict__\n",
      "getattr: __dict__\n",
      "getattr: __dict__\n",
      "getattr: __dict__\n",
      "getattr: __dict__\n",
      "getattr: __dict__\n",
      "getattr: __dict__\n",
      "getattr: __dict__\n",
      "getattr: __dict__\n",
      "getattr: __dict__\n",
      "getattr: __dict__\n",
      "getattr: __dict__\n",
      "getattr: __dict__\n",
      "getattr: __dict__\n",
      "getattr: __dict__\n",
      "getattr: __dict__\n",
      "getattr: __dict__\n",
      "getattr: __dict__\n",
      "getattr: __dict__\n",
      "getattr: __dict__\n",
      "getattr: __dict__\n",
      "getattr: __dict__\n",
      "getattr: __dict__\n",
      "getattr: __dict__\n",
      "getattr: __dict__\n",
      "getattr: __dict__\n",
      "getattr: __dict__\n",
      "getattr: __dict__\n",
      "getattr: __dict__\n",
      "getattr: __dict__\n",
      "getattr: __dict__\n",
      "getattr: __dict__\n",
      "getattr: __dict__\n",
      "getattr: __dict__\n",
      "getattr: __dict__\n",
      "getattr: __dict__\n",
      "getattr: __dict__\n",
      "getattr: __dict__\n",
      "getattr: __dict__\n",
      "getattr: __dict__\n",
      "getattr: __dict__\n",
      "getattr: __dict__\n",
      "getattr: __dict__\n",
      "getattr: __dict__\n",
      "getattr: __dict__\n",
      "getattr: __dict__\n",
      "getattr: __dict__\n",
      "getattr: __dict__\n",
      "getattr: __dict__\n",
      "getattr: __dict__\n",
      "getattr: __dict__\n",
      "getattr: __dict__\n",
      "getattr: __dict__\n",
      "getattr: __dict__\n",
      "getattr: __dict__\n",
      "getattr: __dict__\n",
      "getattr: __dict__\n",
      "getattr: __dict__\n",
      "getattr: __dict__\n",
      "getattr: __dict__\n",
      "getattr: __dict__\n",
      "getattr: __dict__\n",
      "getattr: __dict__\n",
      "getattr: __dict__\n",
      "getattr: __dict__\n",
      "getattr: __dict__\n",
      "getattr: __dict__\n",
      "getattr: __dict__\n",
      "getattr: __dict__\n",
      "getattr: __dict__\n",
      "getattr: __dict__\n",
      "getattr: __dict__\n",
      "getattr: __dict__\n",
      "getattr: __dict__\n",
      "getattr: __dict__\n",
      "getattr: __dict__\n",
      "getattr: __dict__\n",
      "getattr: __dict__\n",
      "getattr: __dict__\n",
      "getattr: __dict__\n",
      "getattr: __dict__\n",
      "getattr: __dict__\n",
      "getattr: __dict__\n",
      "getattr: __dict__\n",
      "getattr: __dict__\n",
      "getattr: __dict__\n",
      "getattr: __dict__\n",
      "getattr: __dict__\n",
      "getattr: __dict__\n",
      "getattr: __dict__\n",
      "getattr: __dict__\n",
      "getattr: __dict__\n",
      "getattr: __dict__\n",
      "getattr: __dict__\n",
      "getattr: __dict__\n",
      "getattr: __dict__\n",
      "getattr: __dict__\n",
      "getattr: __dict__\n",
      "getattr: __dict__\n",
      "getattr: __dict__\n",
      "getattr: __dict__\n",
      "getattr: __dict__\n",
      "getattr: __dict__\n",
      "getattr: __dict__\n",
      "getattr: __dict__\n",
      "getattr: __dict__\n",
      "getattr: __dict__\n",
      "getattr: __dict__\n",
      "getattr: __dict__\n",
      "getattr: __dict__\n",
      "getattr: __dict__\n",
      "getattr: __dict__\n",
      "getattr: __dict__\n",
      "getattr: __dict__\n",
      "getattr: __dict__\n",
      "getattr: __dict__\n",
      "getattr: __dict__\n",
      "getattr: __dict__\n",
      "getattr: __dict__\n",
      "getattr: __dict__\n",
      "getattr: __dict__\n",
      "getattr: __dict__\n",
      "getattr: __dict__\n",
      "getattr: __dict__\n",
      "getattr: __dict__\n",
      "getattr: __dict__\n",
      "getattr: __dict__\n",
      "getattr: __dict__\n",
      "getattr: __dict__\n",
      "getattr: __dict__\n",
      "getattr: __dict__\n",
      "getattr: __dict__\n",
      "getattr: __dict__\n",
      "getattr: __dict__\n",
      "getattr: __dict__\n",
      "getattr: __dict__\n",
      "getattr: __dict__\n",
      "getattr: __dict__\n",
      "getattr: __dict__\n",
      "getattr: __dict__\n",
      "getattr: __dict__\n",
      "getattr: __dict__\n",
      "getattr: __dict__\n",
      "getattr: __dict__\n",
      "getattr: __dict__\n",
      "getattr: __dict__\n",
      "getattr: __dict__\n",
      "getattr: __dict__\n",
      "getattr: __dict__\n",
      "getattr: __dict__\n",
      "getattr: __dict__\n",
      "getattr: __dict__\n",
      "getattr: __dict__\n",
      "getattr: __dict__\n",
      "getattr: __dict__\n",
      "getattr: __dict__\n",
      "getattr: __dict__\n",
      "getattr: __dict__\n",
      "getattr: __dict__\n",
      "getattr: __dict__\n",
      "getattr: __dict__\n",
      "getattr: __dict__\n",
      "getattr: __dict__\n",
      "getattr: __dict__\n",
      "getattr: __dict__\n",
      "getattr: __dict__\n",
      "getattr: __dict__\n",
      "getattr: __dict__\n",
      "getattr: __dict__\n",
      "getattr: __dict__\n",
      "getattr: __dict__\n",
      "getattr: __dict__\n",
      "getattr: __dict__\n",
      "getattr: __dict__\n",
      "getattr: __dict__\n",
      "getattr: __dict__\n",
      "getattr: __dict__\n",
      "getattr: __dict__\n",
      "getattr: __dict__\n",
      "getattr: __dict__\n",
      "getattr: __dict__\n",
      "getattr: __dict__\n",
      "getattr: __dict__\n",
      "getattr: __dict__\n",
      "getattr: __dict__\n",
      "getattr: __dict__\n",
      "getattr: __dict__\n",
      "getattr: __dict__\n",
      "getattr: __dict__\n",
      "getattr: __dict__\n",
      "getattr: __dict__\n",
      "getattr: __dict__\n",
      "getattr: __dict__\n",
      "getattr: __dict__\n",
      "getattr: __dict__\n",
      "getattr: __dict__\n",
      "getattr: __dict__\n",
      "getattr: __dict__\n",
      "getattr: __dict__\n",
      "getattr: __dict__\n",
      "getattr: __dict__\n",
      "getattr: __dict__\n",
      "getattr: __dict__\n",
      "getattr: __dict__\n",
      "getattr: __dict__\n",
      "getattr: __dict__\n",
      "getattr: __dict__\n",
      "getattr: __dict__\n",
      "getattr: __dict__\n",
      "getattr: __dict__\n",
      "getattr: __dict__\n",
      "getattr: __dict__\n",
      "getattr: __dict__\n",
      "getattr: __dict__\n",
      "getattr: __dict__\n",
      "getattr: __dict__\n",
      "getattr: __dict__\n",
      "getattr: __dict__\n",
      "getattr: __dict__\n",
      "getattr: __dict__\n",
      "getattr: __dict__\n",
      "getattr: __dict__\n",
      "getattr: __dict__\n",
      "getattr: __dict__\n",
      "getattr: __dict__\n",
      "getattr: __dict__\n",
      "getattr: __dict__\n",
      "getattr: __dict__\n",
      "getattr: __dict__\n",
      "getattr: __dict__\n",
      "getattr: __dict__\n",
      "getattr: __dict__\n",
      "getattr: __dict__\n",
      "getattr: __dict__\n",
      "getattr: __dict__\n",
      "getattr: __dict__\n",
      "getattr: __dict__\n",
      "getattr: __dict__\n",
      "getattr: __dict__\n",
      "getattr: __dict__\n",
      "getattr: __dict__\n",
      "getattr: __dict__\n",
      "getattr: __dict__\n",
      "getattr: __dict__\n",
      "getattr: __dict__\n",
      "getattr: __dict__\n",
      "getattr: __dict__\n",
      "getattr: __dict__\n",
      "getattr: __dict__\n",
      "getattr: __dict__\n",
      "getattr: __dict__\n",
      "getattr: __dict__\n",
      "getattr: __dict__\n",
      "getattr: __dict__\n",
      "getattr: __dict__\n",
      "getattr: __dict__\n",
      "getattr: __dict__\n",
      "getattr: __dict__\n",
      "getattr: __dict__\n",
      "getattr: __dict__\n",
      "getattr: __dict__\n",
      "getattr: __dict__\n",
      "getattr: __dict__\n",
      "getattr: __dict__\n",
      "getattr: __dict__\n",
      "getattr: __dict__\n",
      "getattr: __dict__\n",
      "getattr: __dict__\n",
      "getattr: __dict__\n",
      "getattr: __dict__\n",
      "getattr: __dict__\n",
      "getattr: __dict__\n",
      "getattr: __dict__\n",
      "getattr: __dict__\n",
      "getattr: __dict__\n",
      "getattr: __dict__\n",
      "getattr: __dict__\n",
      "getattr: __dict__\n",
      "getattr: __dict__\n",
      "getattr: __dict__\n",
      "getattr: __dict__\n",
      "getattr: __dict__\n",
      "getattr: __dict__\n",
      "getattr: __dict__\n",
      "getattr: __dict__\n",
      "getattr: __dict__\n",
      "getattr: __dict__\n",
      "getattr: __dict__\n",
      "getattr: __dict__\n",
      "getattr: __dict__\n",
      "getattr: __dict__\n",
      "getattr: __dict__\n",
      "getattr: __dict__\n",
      "getattr: __dict__\n",
      "getattr: __dict__\n",
      "getattr: __dict__\n",
      "getattr: __dict__\n",
      "getattr: __dict__\n",
      "getattr: __dict__\n",
      "getattr: __dict__\n",
      "getattr: __dict__\n",
      "getattr: __dict__\n",
      "getattr: __dict__\n",
      "getattr: __dict__\n",
      "getattr: __dict__\n",
      "getattr: __dict__\n",
      "getattr: __dict__\n",
      "getattr: __dict__\n",
      "getattr: __dict__\n",
      "getattr: __dict__\n",
      "getattr: __dict__\n",
      "getattr: __dict__\n",
      "getattr: __dict__\n",
      "getattr: __dict__\n",
      "getattr: __dict__\n",
      "getattr: __dict__\n",
      "getattr: __dict__\n",
      "getattr: __dict__\n",
      "getattr: __dict__\n",
      "getattr: __dict__\n",
      "getattr: __dict__\n",
      "getattr: __dict__\n",
      "getattr: __dict__\n",
      "getattr: __dict__\n",
      "getattr: __dict__\n",
      "getattr: __dict__\n",
      "getattr: __dict__\n",
      "getattr: __dict__\n",
      "getattr: __dict__\n",
      "getattr: __dict__\n",
      "getattr: __dict__\n",
      "getattr: __dict__\n",
      "getattr: __dict__\n",
      "getattr: __dict__\n",
      "getattr: __dict__\n",
      "getattr: __dict__\n",
      "getattr: __dict__\n",
      "getattr: __dict__\n",
      "getattr: __dict__\n",
      "getattr: __dict__\n",
      "getattr: __dict__\n",
      "getattr: __dict__\n",
      "getattr: __dict__\n",
      "getattr: __dict__\n",
      "getattr: __dict__\n",
      "getattr: __dict__\n",
      "getattr: __dict__\n",
      "getattr: __dict__\n",
      "getattr: __dict__\n",
      "getattr: __dict__\n",
      "getattr: __dict__\n",
      "getattr: __dict__\n",
      "getattr: __dict__\n",
      "getattr: __dict__\n",
      "getattr: __dict__\n",
      "getattr: __dict__\n",
      "getattr: __dict__\n",
      "getattr: __dict__\n",
      "getattr: __dict__\n",
      "getattr: __dict__\n",
      "getattr: __dict__\n",
      "getattr: __dict__\n",
      "getattr: __dict__\n",
      "getattr: __dict__\n",
      "getattr: __dict__\n",
      "getattr: __dict__\n",
      "getattr: __dict__\n",
      "getattr: __dict__\n",
      "getattr: __dict__\n",
      "getattr: __dict__\n",
      "getattr: __dict__\n",
      "getattr: __dict__\n",
      "getattr: __dict__\n",
      "getattr: __dict__\n",
      "getattr: __dict__\n",
      "getattr: __dict__\n",
      "getattr: __dict__\n",
      "getattr: __dict__\n",
      "getattr: __dict__\n",
      "getattr: __dict__\n",
      "getattr: __dict__\n",
      "getattr: __dict__\n",
      "getattr: __dict__\n",
      "getattr: __dict__\n",
      "getattr: __dict__\n",
      "getattr: __dict__\n",
      "getattr: __dict__\n",
      "getattr: __dict__\n",
      "getattr: __dict__\n",
      "getattr: __dict__\n",
      "getattr: __dict__\n",
      "getattr: __dict__\n",
      "getattr: __dict__\n",
      "getattr: __dict__\n",
      "getattr: __dict__\n",
      "getattr: __dict__\n",
      "getattr: __dict__\n",
      "getattr: __dict__\n",
      "getattr: __dict__\n",
      "getattr: __dict__\n",
      "getattr: __dict__\n",
      "getattr: __dict__\n",
      "getattr: __dict__\n",
      "getattr: __dict__\n",
      "getattr: __dict__\n",
      "getattr: __dict__\n",
      "getattr: __dict__\n",
      "getattr: __dict__\n",
      "getattr: __dict__\n",
      "getattr: __dict__\n",
      "getattr: __dict__\n",
      "getattr: __dict__\n",
      "getattr: __dict__\n",
      "getattr: __dict__\n",
      "getattr: __dict__\n",
      "getattr: __dict__\n",
      "getattr: __dict__\n",
      "getattr: __dict__\n",
      "getattr: __dict__\n",
      "getattr: __dict__\n",
      "getattr: __dict__\n",
      "getattr: __dict__\n",
      "getattr: __dict__\n",
      "getattr: __dict__\n",
      "getattr: __dict__\n",
      "getattr: __dict__\n",
      "getattr: __dict__\n",
      "getattr: __dict__\n",
      "getattr: __dict__\n",
      "getattr: __dict__\n",
      "getattr: __dict__\n",
      "getattr: __dict__\n",
      "getattr: __dict__\n",
      "getattr: __dict__\n",
      "getattr: __dict__\n",
      "getattr: __dict__\n",
      "getattr: __dict__\n",
      "getattr: __dict__\n",
      "getattr: __dict__\n",
      "getattr: __dict__\n",
      "getattr: __dict__\n",
      "getattr: __dict__\n",
      "getattr: __dict__\n",
      "getattr: __dict__\n",
      "getattr: __dict__\n",
      "getattr: __dict__\n",
      "getattr: __dict__\n",
      "getattr: __dict__\n",
      "getattr: __dict__\n",
      "getattr: __dict__\n",
      "getattr: __dict__\n",
      "getattr: __dict__\n",
      "getattr: __dict__\n",
      "getattr: __dict__\n",
      "getattr: __dict__\n",
      "getattr: __dict__\n",
      "getattr: __dict__\n",
      "getattr: __dict__\n",
      "getattr: __dict__\n",
      "getattr: __dict__\n",
      "getattr: __dict__\n",
      "getattr: __dict__\n",
      "getattr: __dict__\n",
      "getattr: __dict__\n",
      "getattr: __dict__\n",
      "getattr: __dict__\n",
      "getattr: __dict__\n",
      "getattr: __dict__\n",
      "getattr: __dict__\n",
      "getattr: __dict__\n",
      "getattr: __dict__\n",
      "getattr: __dict__\n",
      "getattr: __dict__\n",
      "getattr: __dict__\n",
      "getattr: __dict__\n",
      "getattr: __dict__\n",
      "getattr: __dict__\n",
      "getattr: __dict__\n",
      "getattr: __dict__\n",
      "getattr: __dict__\n",
      "getattr: __dict__\n",
      "getattr: __dict__\n",
      "getattr: __dict__\n",
      "getattr: __dict__\n",
      "getattr: __dict__\n",
      "getattr: __dict__\n",
      "getattr: __dict__\n",
      "getattr: __dict__\n",
      "getattr: __dict__\n",
      "getattr: __dict__\n",
      "getattr: __dict__\n",
      "getattr: __dict__\n",
      "getattr: __dict__\n",
      "getattr: __dict__\n",
      "getattr: __dict__\n",
      "getattr: __dict__\n",
      "getattr: __dict__\n",
      "getattr: __dict__\n",
      "getattr: __dict__\n",
      "getattr: __dict__\n",
      "getattr: __dict__\n",
      "getattr: __dict__\n",
      "getattr: __dict__\n",
      "getattr: __dict__\n",
      "getattr: __dict__\n",
      "getattr: __dict__\n",
      "getattr: __dict__\n",
      "getattr: __dict__\n",
      "getattr: __dict__\n",
      "getattr: __dict__\n",
      "getattr: __dict__\n",
      "getattr: __dict__\n",
      "getattr: __dict__\n",
      "getattr: __dict__\n",
      "getattr: __dict__\n",
      "getattr: __dict__\n",
      "getattr: __dict__\n",
      "getattr: __dict__\n",
      "getattr: __dict__\n",
      "getattr: __dict__\n",
      "getattr: __dict__\n",
      "getattr: __dict__\n",
      "getattr: __dict__\n",
      "getattr: __dict__\n",
      "getattr: __dict__\n",
      "getattr: __dict__\n",
      "getattr: __dict__\n",
      "getattr: __dict__\n",
      "getattr: __dict__\n",
      "getattr: __dict__\n",
      "getattr: __dict__\n",
      "getattr: __dict__\n",
      "getattr: __dict__\n",
      "getattr: __dict__\n",
      "getattr: __dict__\n",
      "getattr: __dict__\n",
      "getattr: __dict__\n",
      "getattr: __dict__\n",
      "getattr: __dict__\n",
      "getattr: __dict__\n",
      "getattr: __dict__\n",
      "getattr: __dict__\n",
      "getattr: __dict__\n",
      "getattr: __dict__\n",
      "getattr: __dict__\n",
      "getattr: __dict__\n",
      "getattr: __dict__\n",
      "getattr: __dict__\n",
      "getattr: __dict__\n",
      "getattr: __dict__\n",
      "getattr: __dict__\n",
      "getattr: __dict__\n",
      "getattr: __dict__\n",
      "getattr: __dict__\n",
      "getattr: __dict__\n",
      "getattr: __dict__\n",
      "getattr: __dict__\n",
      "getattr: __dict__\n",
      "getattr: __dict__\n",
      "getattr: __dict__\n",
      "getattr: __dict__\n",
      "getattr: __dict__\n",
      "getattr: __dict__\n",
      "getattr: __dict__\n",
      "getattr: __dict__\n",
      "getattr: __dict__\n",
      "getattr: __dict__\n",
      "getattr: __dict__\n",
      "getattr: __dict__\n",
      "getattr: __dict__\n",
      "getattr: __dict__\n",
      "getattr: __dict__\n",
      "getattr: __dict__\n",
      "getattr: __dict__\n",
      "getattr: __dict__\n",
      "getattr: __dict__\n",
      "getattr: __dict__\n",
      "getattr: __dict__\n",
      "getattr: __dict__\n",
      "getattr: __dict__\n",
      "getattr: __dict__\n",
      "getattr: __dict__\n",
      "getattr: __dict__\n",
      "getattr: __dict__\n",
      "getattr: __dict__\n",
      "getattr: __dict__\n",
      "getattr: __dict__\n",
      "getattr: __dict__\n",
      "getattr: __dict__\n",
      "getattr: __dict__\n",
      "getattr: __dict__\n",
      "getattr: __dict__\n",
      "getattr: __dict__\n",
      "getattr: __dict__\n",
      "getattr: __dict__\n",
      "getattr: __dict__\n",
      "getattr: __dict__\n",
      "getattr: __dict__\n",
      "getattr: __dict__\n",
      "getattr: __dict__\n",
      "getattr: __dict__\n",
      "getattr: __dict__\n",
      "getattr: __dict__\n",
      "getattr: __dict__\n",
      "getattr: __dict__\n",
      "getattr: __dict__\n",
      "getattr: __dict__\n",
      "getattr: __dict__\n",
      "getattr: __dict__\n",
      "getattr: __dict__\n",
      "getattr: __dict__\n",
      "getattr: __dict__\n",
      "getattr: __dict__\n",
      "getattr: __dict__\n",
      "getattr: __dict__\n",
      "getattr: __dict__\n",
      "getattr: __dict__\n",
      "getattr: __dict__\n",
      "getattr: __dict__\n",
      "getattr: __dict__\n",
      "getattr: __dict__\n",
      "getattr: __dict__\n",
      "getattr: __dict__\n",
      "getattr: __dict__\n",
      "getattr: __dict__\n",
      "getattr: __dict__\n",
      "getattr: __dict__\n",
      "getattr: __dict__\n",
      "getattr: __dict__\n",
      "getattr: __dict__\n",
      "getattr: __dict__\n",
      "getattr: __dict__\n",
      "getattr: __dict__\n",
      "getattr: __dict__\n",
      "getattr: __dict__\n",
      "getattr: __dict__\n",
      "getattr: __dict__\n",
      "getattr: __dict__\n",
      "getattr: __dict__\n",
      "getattr: __dict__\n",
      "getattr: __dict__\n",
      "getattr: __dict__\n",
      "getattr: __dict__\n",
      "getattr: __dict__\n",
      "getattr: __dict__\n",
      "getattr: __dict__\n",
      "getattr: __dict__\n",
      "getattr: __dict__\n",
      "getattr: __dict__\n",
      "getattr: __dict__\n",
      "getattr: __dict__\n",
      "getattr: __dict__\n",
      "getattr: __dict__\n",
      "getattr: __dict__\n",
      "getattr: __dict__\n",
      "getattr: __dict__\n",
      "getattr: __dict__\n",
      "getattr: __dict__\n",
      "getattr: __dict__\n",
      "getattr: __dict__\n",
      "getattr: __dict__\n",
      "getattr: __dict__\n",
      "getattr: __dict__\n",
      "getattr: __dict__\n",
      "getattr: __dict__\n",
      "getattr: __dict__\n",
      "getattr: __dict__\n",
      "getattr: __dict__\n",
      "getattr: __dict__\n",
      "getattr: __dict__\n",
      "getattr: __dict__\n",
      "getattr: __dict__\n",
      "getattr: __dict__\n",
      "getattr: __dict__\n",
      "getattr: __dict__\n",
      "getattr: __dict__\n",
      "getattr: __dict__\n",
      "getattr: __dict__\n",
      "getattr: __dict__\n",
      "getattr: __dict__\n",
      "getattr: __dict__\n",
      "getattr: __dict__\n",
      "getattr: __dict__\n",
      "getattr: __dict__\n",
      "getattr: __dict__\n",
      "getattr: __dict__\n",
      "getattr: __dict__\n",
      "getattr: __dict__\n",
      "getattr: __dict__\n",
      "getattr: __dict__\n",
      "getattr: __dict__\n",
      "getattr: __dict__\n",
      "getattr: __dict__\n",
      "getattr: __dict__\n",
      "getattr: __dict__\n",
      "getattr: __dict__\n",
      "getattr: __dict__\n",
      "getattr: __dict__\n",
      "getattr: __dict__\n",
      "getattr: __dict__\n",
      "getattr: __dict__\n",
      "getattr: __dict__\n",
      "getattr: __dict__\n",
      "getattr: __dict__\n",
      "getattr: __dict__\n",
      "getattr: __dict__\n",
      "getattr: __dict__\n",
      "getattr: __dict__\n",
      "getattr: __dict__\n",
      "getattr: __dict__\n",
      "getattr: __dict__\n",
      "getattr: __dict__\n",
      "getattr: __dict__\n",
      "getattr: __dict__\n",
      "getattr: __dict__\n",
      "getattr: __dict__\n",
      "getattr: __dict__\n",
      "getattr: __dict__\n",
      "getattr: __dict__\n",
      "getattr: __dict__\n",
      "getattr: __dict__\n",
      "getattr: __dict__\n",
      "getattr: __dict__\n",
      "getattr: __dict__\n",
      "getattr: __dict__\n",
      "getattr: __dict__\n",
      "getattr: __dict__\n",
      "getattr: __dict__\n",
      "getattr: __dict__\n",
      "getattr: __dict__\n",
      "getattr: __dict__\n",
      "getattr: __dict__\n",
      "getattr: __dict__\n",
      "getattr: __dict__\n",
      "getattr: __dict__\n",
      "getattr: __dict__\n",
      "getattr: __dict__\n",
      "getattr: __dict__\n",
      "getattr: __dict__\n",
      "getattr: __dict__\n",
      "getattr: __dict__\n",
      "getattr: __dict__\n",
      "getattr: __dict__\n",
      "getattr: __dict__\n",
      "getattr: __dict__\n",
      "getattr: __dict__\n",
      "getattr: __dict__\n",
      "getattr: __dict__\n",
      "getattr: __dict__\n",
      "getattr: __dict__\n",
      "getattr: __dict__\n",
      "getattr: __dict__\n",
      "getattr: __dict__\n",
      "getattr: __dict__\n",
      "getattr: __dict__\n",
      "getattr: __dict__\n",
      "getattr: __dict__\n",
      "getattr: __dict__\n",
      "getattr: __dict__\n",
      "getattr: __dict__\n",
      "getattr: __dict__\n",
      "getattr: __dict__\n",
      "getattr: __dict__\n",
      "getattr: __dict__\n",
      "getattr: __dict__\n",
      "getattr: __dict__\n",
      "getattr: __dict__\n",
      "getattr: __dict__\n",
      "getattr: __dict__\n",
      "getattr: __dict__\n",
      "getattr: __dict__\n",
      "getattr: __dict__\n",
      "getattr: __dict__\n",
      "getattr: __dict__\n",
      "getattr: __dict__\n",
      "getattr: __dict__\n",
      "getattr: __dict__\n",
      "getattr: __dict__\n",
      "getattr: __dict__\n",
      "getattr: __dict__\n",
      "getattr: __dict__\n",
      "getattr: __dict__\n",
      "getattr: __dict__\n",
      "getattr: __dict__\n",
      "getattr: __dict__\n",
      "getattr: __dict__\n",
      "getattr: __dict__\n",
      "getattr: __dict__\n",
      "getattr: __dict__\n",
      "getattr: __dict__\n",
      "getattr: __dict__\n",
      "getattr: __dict__\n",
      "getattr: __dict__\n",
      "getattr: __dict__\n",
      "getattr: __dict__\n",
      "getattr: __dict__\n",
      "getattr: __dict__\n",
      "getattr: __dict__\n",
      "getattr: __dict__\n",
      "getattr: __dict__\n",
      "getattr: __dict__\n",
      "getattr: __dict__\n",
      "getattr: __dict__\n",
      "getattr: __dict__\n",
      "getattr: __dict__\n",
      "getattr: __dict__\n",
      "getattr: __dict__\n",
      "getattr: __dict__\n",
      "getattr: __dict__\n",
      "getattr: __dict__\n",
      "getattr: __dict__\n",
      "getattr: __dict__\n",
      "getattr: __dict__\n",
      "getattr: __dict__\n",
      "getattr: __dict__\n",
      "getattr: __dict__\n",
      "getattr: __dict__\n",
      "getattr: __dict__\n",
      "getattr: __dict__\n",
      "getattr: __dict__\n",
      "getattr: __dict__\n",
      "getattr: __dict__\n",
      "getattr: __dict__\n",
      "getattr: __dict__\n",
      "getattr: __dict__\n",
      "getattr: __dict__\n",
      "getattr: __dict__\n",
      "getattr: __dict__\n",
      "getattr: __dict__\n",
      "getattr: __dict__\n",
      "getattr: __dict__\n",
      "getattr: __dict__\n",
      "getattr: __dict__\n",
      "getattr: __dict__\n",
      "getattr: __dict__\n",
      "getattr: __dict__\n",
      "getattr: __dict__\n",
      "getattr: __dict__\n",
      "getattr: __dict__\n",
      "getattr: __dict__\n",
      "getattr: __dict__\n",
      "getattr: __dict__\n",
      "getattr: __dict__\n",
      "getattr: __dict__\n",
      "getattr: __dict__\n",
      "getattr: __dict__\n",
      "getattr: __dict__\n",
      "getattr: __dict__\n",
      "getattr: __dict__\n",
      "getattr: __dict__\n",
      "getattr: __dict__\n",
      "getattr: __dict__\n",
      "getattr: __dict__\n",
      "getattr: __dict__\n",
      "getattr: __dict__\n",
      "getattr: __dict__\n",
      "getattr: __dict__\n",
      "getattr: __dict__\n",
      "getattr: __dict__\n",
      "getattr: __dict__\n",
      "getattr: __dict__\n",
      "getattr: __dict__\n",
      "getattr: __dict__\n",
      "getattr: __dict__\n",
      "getattr: __dict__\n",
      "getattr: __dict__\n",
      "getattr: __dict__\n",
      "getattr: __dict__\n",
      "getattr: __dict__\n",
      "getattr: __dict__\n",
      "getattr: __dict__\n",
      "getattr: __dict__\n",
      "getattr: __dict__\n",
      "getattr: __dict__\n",
      "getattr: __dict__\n",
      "getattr: __dict__\n",
      "getattr: __dict__\n",
      "getattr: __dict__\n",
      "getattr: __dict__\n",
      "getattr: __dict__\n",
      "getattr: __dict__\n",
      "getattr: __dict__\n",
      "getattr: __dict__\n",
      "getattr: __dict__\n",
      "getattr: __dict__\n",
      "getattr: __dict__\n",
      "getattr: __dict__\n",
      "getattr: __dict__\n",
      "getattr: __dict__\n",
      "getattr: __dict__\n",
      "getattr: __dict__\n",
      "getattr: __dict__\n",
      "getattr: __dict__\n",
      "getattr: __dict__\n",
      "getattr: __dict__\n",
      "getattr: __dict__\n",
      "getattr: __dict__\n",
      "getattr: __dict__\n",
      "getattr: __dict__\n",
      "getattr: __dict__\n",
      "getattr: __dict__\n",
      "getattr: __dict__\n",
      "getattr: __dict__\n",
      "getattr: __dict__\n",
      "getattr: __dict__\n",
      "getattr: __dict__\n",
      "getattr: __dict__\n",
      "getattr: __dict__\n",
      "getattr: __dict__\n",
      "getattr: __dict__\n",
      "getattr: __dict__\n",
      "getattr: __dict__\n",
      "getattr: __dict__\n",
      "getattr: __dict__\n",
      "getattr: __dict__\n",
      "getattr: __dict__\n",
      "getattr: __dict__\n",
      "getattr: __dict__\n",
      "getattr: __dict__\n",
      "getattr: __dict__\n",
      "getattr: __dict__\n",
      "getattr: __dict__\n",
      "getattr: __dict__\n",
      "getattr: __dict__\n",
      "getattr: __dict__\n",
      "getattr: __dict__\n",
      "getattr: __dict__\n",
      "getattr: __dict__\n",
      "getattr: __dict__\n",
      "getattr: __dict__\n",
      "getattr: __dict__\n",
      "getattr: __dict__\n",
      "getattr: __dict__\n",
      "getattr: __dict__\n",
      "getattr: __dict__\n",
      "getattr: __dict__\n",
      "getattr: __dict__\n",
      "getattr: __dict__\n",
      "getattr: __dict__\n",
      "getattr: __dict__\n",
      "getattr: __dict__\n",
      "getattr: __dict__\n",
      "getattr: __dict__\n",
      "getattr: __dict__\n",
      "getattr: __dict__\n",
      "getattr: __dict__\n",
      "getattr: __dict__\n",
      "getattr: __dict__\n",
      "getattr: __dict__\n",
      "getattr: __dict__\n",
      "getattr: __dict__\n",
      "getattr: __dict__\n",
      "getattr: __dict__\n",
      "getattr: __dict__\n",
      "getattr: __dict__\n",
      "getattr: __dict__\n",
      "getattr: __dict__\n",
      "getattr: __dict__\n",
      "getattr: __dict__\n",
      "getattr: __dict__\n",
      "getattr: __dict__\n",
      "getattr: __dict__\n",
      "getattr: __dict__\n",
      "getattr: __dict__\n",
      "getattr: __dict__\n",
      "getattr: __dict__\n",
      "getattr: __dict__\n",
      "getattr: __dict__\n",
      "getattr: __dict__\n",
      "getattr: __dict__\n",
      "getattr: __dict__\n",
      "getattr: __dict__\n",
      "getattr: __dict__\n",
      "getattr: __dict__\n",
      "getattr: __dict__\n",
      "getattr: __dict__\n",
      "getattr: __dict__\n",
      "getattr: __dict__\n",
      "getattr: __dict__\n",
      "getattr: __dict__\n",
      "getattr: __dict__\n",
      "getattr: __dict__\n",
      "getattr: __dict__\n",
      "getattr: __dict__\n",
      "getattr: __dict__\n",
      "getattr: __dict__\n",
      "getattr: __dict__\n",
      "getattr: __dict__\n",
      "getattr: __dict__\n",
      "getattr: __dict__\n",
      "getattr: __dict__\n",
      "getattr: __dict__\n",
      "getattr: __dict__\n",
      "getattr: __dict__\n",
      "getattr: __dict__\n",
      "getattr: __dict__\n",
      "getattr: __dict__\n",
      "getattr: __dict__\n",
      "getattr: __dict__\n",
      "getattr: __dict__\n",
      "getattr: __dict__\n",
      "getattr: __dict__\n",
      "getattr: __dict__\n",
      "getattr: __dict__\n",
      "getattr: __dict__\n",
      "getattr: __dict__\n",
      "getattr: __dict__\n",
      "getattr: __dict__\n",
      "getattr: __dict__\n",
      "getattr: __dict__\n",
      "getattr: __dict__\n",
      "getattr: __dict__\n",
      "getattr: __dict__\n",
      "getattr: __dict__\n",
      "getattr: __dict__\n",
      "getattr: __dict__\n",
      "getattr: __dict__\n",
      "getattr: __dict__\n",
      "getattr: __dict__\n",
      "getattr: __dict__\n",
      "getattr: __dict__\n",
      "getattr: __dict__\n",
      "getattr: __dict__\n",
      "getattr: __dict__\n",
      "getattr: __dict__\n",
      "getattr: __dict__\n",
      "getattr: __dict__\n",
      "getattr: __dict__\n",
      "getattr: __dict__\n",
      "getattr: __dict__\n",
      "getattr: __dict__\n",
      "getattr: __dict__\n",
      "getattr: __dict__\n",
      "getattr: __dict__\n",
      "getattr: __dict__\n",
      "getattr: __dict__\n",
      "getattr: __dict__\n",
      "getattr: __dict__\n",
      "getattr: __dict__\n",
      "getattr: __dict__\n",
      "getattr: __dict__\n",
      "getattr: __dict__\n",
      "getattr: __dict__\n",
      "getattr: __dict__\n",
      "getattr: __dict__\n",
      "getattr: __dict__\n",
      "getattr: __dict__\n",
      "getattr: __dict__\n",
      "getattr: __dict__\n",
      "getattr: __dict__\n",
      "getattr: __dict__\n",
      "getattr: __dict__\n",
      "getattr: __dict__\n",
      "getattr: __dict__\n",
      "getattr: __dict__\n",
      "getattr: __dict__\n",
      "getattr: __dict__\n",
      "getattr: __dict__\n",
      "getattr: __dict__\n",
      "getattr: __dict__\n",
      "getattr: __dict__\n",
      "getattr: __dict__\n",
      "getattr: __dict__\n",
      "getattr: __dict__\n",
      "getattr: __dict__\n",
      "getattr: __dict__\n",
      "getattr: __dict__\n",
      "getattr: __dict__\n",
      "getattr: __dict__\n",
      "getattr: __dict__\n",
      "getattr: __dict__\n",
      "getattr: __dict__\n",
      "getattr: __dict__\n",
      "getattr: __dict__\n",
      "getattr: __dict__\n",
      "getattr: __dict__\n",
      "getattr: __dict__\n",
      "getattr: __dict__\n",
      "getattr: __dict__\n",
      "getattr: __dict__\n",
      "getattr: __dict__\n",
      "getattr: __dict__\n",
      "getattr: __dict__\n",
      "getattr: __dict__\n",
      "getattr: __dict__\n",
      "getattr: __dict__\n",
      "getattr: __dict__\n",
      "getattr: __dict__\n",
      "getattr: __dict__\n",
      "getattr: __dict__\n",
      "getattr: __dict__\n",
      "getattr: __dict__\n",
      "getattr: __dict__\n",
      "getattr: __dict__\n",
      "getattr: __dict__\n",
      "getattr: __dict__\n",
      "getattr: __dict__\n",
      "getattr: __dict__\n",
      "getattr: __dict__\n",
      "getattr: __dict__\n",
      "getattr: __dict__\n",
      "getattr: __dict__\n",
      "getattr: __dict__\n",
      "getattr: __dict__\n",
      "getattr: __dict__\n",
      "getattr: __dict__\n",
      "getattr: __dict__\n",
      "getattr: __dict__\n",
      "getattr: __dict__\n",
      "getattr: __dict__\n",
      "getattr: __dict__\n",
      "getattr: __dict__\n",
      "getattr: __dict__\n",
      "getattr: __dict__\n",
      "getattr: __dict__\n",
      "getattr: __dict__\n",
      "getattr: __dict__\n",
      "getattr: __dict__\n",
      "getattr: __dict__\n",
      "getattr: __dict__\n",
      "getattr: __dict__\n",
      "getattr: __dict__\n",
      "getattr: __dict__\n",
      "getattr: __dict__\n",
      "getattr: __dict__\n",
      "getattr: __dict__\n",
      "getattr: __dict__\n",
      "getattr: __dict__\n",
      "getattr: __dict__\n",
      "getattr: __dict__\n",
      "getattr: __dict__\n",
      "getattr: __dict__\n",
      "getattr: __dict__\n",
      "getattr: __dict__\n",
      "getattr: __dict__\n",
      "getattr: __dict__\n",
      "getattr: __dict__\n",
      "getattr: __dict__\n",
      "getattr: __dict__\n",
      "getattr: __dict__\n",
      "getattr: __dict__\n",
      "getattr: __dict__\n",
      "getattr: __dict__\n",
      "getattr: __dict__\n",
      "getattr: __dict__\n",
      "getattr: __dict__\n",
      "getattr: __dict__\n",
      "getattr: __dict__\n",
      "getattr: __dict__\n",
      "getattr: __dict__\n",
      "getattr: __dict__\n",
      "getattr: __dict__\n",
      "getattr: __dict__\n",
      "getattr: __dict__\n",
      "getattr: __dict__\n",
      "getattr: __dict__\n",
      "getattr: __dict__\n",
      "getattr: __dict__\n",
      "getattr: __dict__\n",
      "getattr: __dict__\n",
      "getattr: __dict__\n",
      "getattr: __dict__\n",
      "getattr: __dict__\n",
      "getattr: __dict__\n",
      "getattr: __dict__\n",
      "getattr: __dict__\n",
      "getattr: __dict__\n",
      "getattr: __dict__\n",
      "getattr: __dict__\n",
      "getattr: __dict__\n",
      "getattr: __dict__\n",
      "getattr: __dict__\n",
      "getattr: __dict__\n",
      "getattr: __dict__\n",
      "getattr: __dict__\n",
      "getattr: __dict__\n",
      "getattr: __dict__\n",
      "getattr: __dict__\n",
      "getattr: __dict__\n",
      "getattr: __dict__\n",
      "getattr: __dict__\n",
      "getattr: __dict__\n",
      "getattr: __dict__\n",
      "getattr: __dict__\n",
      "getattr: __dict__\n",
      "getattr: __dict__\n",
      "getattr: __dict__\n",
      "getattr: __dict__\n",
      "getattr: __dict__\n",
      "getattr: __dict__\n",
      "getattr: __dict__\n",
      "getattr: __dict__\n",
      "getattr: __dict__\n",
      "getattr: __dict__\n",
      "getattr: __dict__\n",
      "getattr: __dict__\n",
      "getattr: __dict__\n",
      "getattr: __dict__\n",
      "getattr: __dict__\n",
      "getattr: __dict__\n",
      "getattr: __dict__\n",
      "getattr: __dict__\n",
      "getattr: __dict__\n",
      "getattr: __dict__\n",
      "getattr: __dict__\n",
      "getattr: __dict__\n",
      "getattr: __dict__\n",
      "getattr: __dict__\n",
      "getattr: __dict__\n",
      "getattr: __dict__\n",
      "getattr: __dict__\n",
      "getattr: __dict__\n",
      "getattr: __dict__\n",
      "getattr: __dict__\n",
      "getattr: __dict__\n",
      "getattr: __dict__\n",
      "getattr: __dict__\n",
      "getattr: __dict__\n",
      "getattr: __dict__\n",
      "getattr: __dict__\n",
      "getattr: __dict__\n",
      "getattr: __dict__\n",
      "getattr: __dict__\n",
      "getattr: __dict__\n",
      "getattr: __dict__\n",
      "getattr: __dict__\n",
      "getattr: __dict__\n",
      "getattr: __dict__\n",
      "getattr: __dict__\n",
      "getattr: __dict__\n",
      "getattr: __dict__\n",
      "getattr: __dict__\n",
      "getattr: __dict__\n",
      "getattr: __dict__\n",
      "getattr: __dict__\n",
      "getattr: __dict__\n",
      "getattr: __dict__\n",
      "getattr: __dict__\n",
      "getattr: __dict__\n",
      "getattr: __dict__\n",
      "getattr: __dict__\n",
      "getattr: __dict__\n",
      "getattr: __dict__\n",
      "getattr: __dict__\n",
      "getattr: __dict__\n",
      "getattr: __dict__\n",
      "getattr: __dict__\n",
      "getattr: __dict__\n",
      "getattr: __dict__\n",
      "getattr: __dict__\n",
      "getattr: __dict__\n",
      "getattr: __dict__\n",
      "getattr: __dict__\n",
      "getattr: __dict__\n",
      "getattr: __dict__\n",
      "getattr: __dict__\n",
      "getattr: __dict__\n",
      "getattr: __dict__\n",
      "getattr: __dict__\n",
      "getattr: __dict__\n",
      "getattr: __dict__\n",
      "getattr: __dict__\n",
      "getattr: __dict__\n",
      "getattr: __dict__\n",
      "getattr: __dict__\n",
      "getattr: __dict__\n",
      "getattr: __dict__\n",
      "getattr: __dict__\n",
      "getattr: __dict__\n",
      "getattr: __dict__\n",
      "getattr: __dict__\n",
      "getattr: __dict__\n",
      "getattr: __dict__\n",
      "getattr: __dict__\n",
      "getattr: __dict__\n",
      "getattr: __dict__\n",
      "getattr: __dict__\n",
      "getattr: __dict__\n",
      "getattr: __dict__\n",
      "getattr: __dict__\n",
      "getattr: __dict__\n",
      "getattr: __dict__\n",
      "getattr: __dict__\n",
      "getattr: __dict__\n",
      "getattr: __dict__\n",
      "getattr: __dict__\n",
      "getattr: __dict__\n",
      "getattr: __dict__\n",
      "getattr: __dict__\n",
      "getattr: __dict__\n",
      "getattr: __dict__\n",
      "getattr: __dict__\n",
      "getattr: __dict__\n",
      "getattr: __dict__\n",
      "getattr: __dict__\n",
      "getattr: __dict__\n",
      "getattr: __dict__\n",
      "getattr: __dict__\n",
      "getattr: __dict__\n",
      "getattr: __dict__\n",
      "getattr: __dict__\n",
      "getattr: __dict__\n",
      "getattr: __dict__\n",
      "getattr: __dict__\n",
      "getattr: __dict__\n",
      "getattr: __dict__\n",
      "getattr: __dict__\n",
      "getattr: __dict__\n",
      "getattr: __dict__\n",
      "getattr: __dict__\n",
      "getattr: __dict__\n",
      "getattr: __dict__\n",
      "getattr: __dict__\n",
      "getattr: __dict__\n",
      "getattr: __dict__\n",
      "getattr: __dict__\n",
      "getattr: __dict__\n",
      "getattr: __dict__\n",
      "getattr: __dict__\n",
      "getattr: __dict__\n",
      "getattr: __dict__\n",
      "getattr: __dict__\n",
      "getattr: __dict__\n",
      "getattr: __dict__\n",
      "getattr: __dict__\n",
      "getattr: __dict__\n",
      "getattr: __dict__\n",
      "getattr: __dict__\n",
      "getattr: __dict__\n",
      "getattr: __dict__\n",
      "getattr: __dict__\n",
      "getattr: __dict__\n",
      "getattr: __dict__\n",
      "getattr: __dict__\n",
      "getattr: __dict__\n",
      "getattr: __dict__\n",
      "getattr: __dict__\n",
      "getattr: __dict__\n",
      "getattr: __dict__\n",
      "getattr: __dict__\n",
      "getattr: __dict__\n",
      "getattr: __dict__\n",
      "getattr: __dict__\n",
      "getattr: __dict__\n",
      "getattr: __dict__\n",
      "getattr: __dict__\n",
      "getattr: __dict__\n",
      "getattr: __dict__\n",
      "getattr: __dict__\n",
      "getattr: __dict__\n",
      "getattr: __dict__\n",
      "getattr: __dict__\n",
      "getattr: __dict__\n",
      "getattr: __dict__\n",
      "getattr: __dict__\n",
      "getattr: __dict__\n",
      "getattr: __dict__\n",
      "getattr: __dict__\n",
      "getattr: __dict__\n",
      "getattr: __dict__\n",
      "getattr: __dict__\n",
      "getattr: __dict__\n",
      "getattr: __dict__\n",
      "getattr: __dict__\n",
      "getattr: __dict__\n",
      "getattr: __dict__\n",
      "getattr: __dict__\n",
      "getattr: __dict__\n",
      "getattr: __dict__\n",
      "getattr: __dict__\n",
      "getattr: __dict__\n",
      "getattr: __dict__\n",
      "getattr: __dict__\n",
      "getattr: __dict__\n",
      "getattr: __dict__\n",
      "getattr: __dict__\n",
      "getattr: __dict__\n",
      "getattr: __dict__\n",
      "getattr: __dict__\n",
      "getattr: __dict__\n",
      "getattr: __dict__\n",
      "getattr: __dict__\n",
      "getattr: __dict__\n",
      "getattr: __dict__\n",
      "getattr: __dict__\n",
      "getattr: __dict__\n",
      "getattr: __dict__\n",
      "getattr: __dict__\n",
      "getattr: __dict__\n",
      "getattr: __dict__\n",
      "getattr: __dict__\n",
      "getattr: __dict__\n",
      "getattr: __dict__\n",
      "getattr: __dict__\n",
      "getattr: __dict__\n",
      "getattr: __dict__\n",
      "getattr: __dict__\n",
      "getattr: __dict__\n",
      "getattr: __dict__\n",
      "getattr: __dict__\n",
      "getattr: __dict__\n",
      "getattr: __dict__\n",
      "getattr: __dict__\n",
      "getattr: __dict__\n",
      "getattr: __dict__\n",
      "getattr: __dict__\n",
      "getattr: __dict__\n",
      "getattr: __dict__\n",
      "getattr: __dict__\n",
      "getattr: __dict__\n",
      "getattr: __dict__\n",
      "getattr: __dict__\n",
      "getattr: __dict__\n",
      "getattr: __dict__\n",
      "getattr: __dict__\n",
      "getattr: __dict__\n",
      "getattr: __dict__\n",
      "getattr: __dict__\n",
      "getattr: __dict__\n",
      "getattr: __dict__\n",
      "getattr: __dict__\n",
      "getattr: __dict__\n",
      "getattr: __dict__\n",
      "getattr: __dict__\n",
      "getattr: __dict__\n",
      "getattr: __dict__\n",
      "getattr: __dict__\n",
      "getattr: __dict__\n",
      "getattr: __dict__\n",
      "getattr: __dict__\n",
      "getattr: __dict__\n",
      "getattr: __dict__\n",
      "getattr: __dict__\n",
      "getattr: __dict__\n",
      "getattr: __dict__\n",
      "getattr: __dict__\n",
      "getattr: __dict__\n",
      "getattr: __dict__\n",
      "getattr: __dict__\n",
      "getattr: __dict__\n",
      "getattr: __dict__\n",
      "getattr: __dict__\n",
      "getattr: __dict__\n",
      "getattr: __dict__\n",
      "getattr: __dict__\n",
      "getattr: __dict__\n",
      "getattr: __dict__\n",
      "getattr: __dict__\n",
      "getattr: __dict__\n",
      "getattr: __dict__\n",
      "getattr: __dict__\n",
      "getattr: __dict__\n",
      "getattr: __dict__\n",
      "getattr: __dict__\n",
      "getattr: __dict__\n",
      "getattr: __dict__\n",
      "getattr: __dict__\n",
      "getattr: __dict__\n",
      "getattr: __dict__\n",
      "getattr: __dict__\n",
      "getattr: __dict__\n",
      "getattr: __dict__\n",
      "getattr: __dict__\n",
      "getattr: __dict__\n",
      "getattr: __dict__\n",
      "getattr: __dict__\n",
      "getattr: __dict__\n",
      "getattr: __dict__\n",
      "getattr: __dict__\n",
      "getattr: __dict__\n",
      "getattr: __dict__\n",
      "getattr: __dict__\n",
      "getattr: __dict__\n",
      "getattr: __dict__\n",
      "getattr: __dict__\n",
      "getattr: __dict__\n",
      "getattr: __dict__\n",
      "getattr: __dict__\n",
      "getattr: __dict__\n",
      "getattr: __dict__\n",
      "getattr: __dict__\n",
      "getattr: __dict__\n",
      "getattr: __dict__\n",
      "getattr: __dict__\n",
      "getattr: __dict__\n",
      "getattr: __dict__\n",
      "getattr: __dict__\n",
      "getattr: __dict__\n",
      "getattr: __dict__\n",
      "getattr: __dict__\n",
      "getattr: __dict__\n",
      "getattr: __dict__\n",
      "getattr: __dict__\n",
      "getattr: __dict__\n",
      "getattr: __dict__\n",
      "getattr: __dict__\n",
      "getattr: __dict__\n",
      "getattr: __dict__\n",
      "getattr: __dict__\n",
      "getattr: __dict__\n",
      "getattr: __dict__\n",
      "getattr: __dict__\n",
      "getattr: __dict__\n",
      "getattr: __dict__\n",
      "getattr: __dict__\n",
      "getattr: __dict__\n",
      "getattr: __dict__\n",
      "getattr: __dict__\n",
      "getattr: __dict__\n",
      "getattr: __dict__\n",
      "getattr: __dict__\n",
      "getattr: __dict__\n",
      "getattr: __dict__\n",
      "getattr: __dict__\n",
      "getattr: __dict__\n",
      "getattr: __dict__\n",
      "getattr: __dict__\n",
      "getattr: __dict__\n",
      "getattr: __dict__\n",
      "getattr: __dict__\n",
      "getattr: __dict__\n",
      "getattr: __dict__\n",
      "getattr: __dict__\n",
      "getattr: __dict__\n",
      "getattr: __dict__\n",
      "getattr: __dict__\n",
      "getattr: __dict__\n",
      "getattr: __dict__\n",
      "getattr: __dict__\n",
      "getattr: __dict__\n",
      "getattr: __dict__\n",
      "getattr: __dict__\n",
      "getattr: __dict__\n",
      "getattr: __dict__\n",
      "getattr: __dict__\n",
      "getattr: __dict__\n",
      "getattr: __dict__\n",
      "getattr: __dict__\n",
      "getattr: __dict__\n",
      "getattr: __dict__\n",
      "getattr: __dict__\n",
      "getattr: __dict__\n",
      "getattr: __dict__\n",
      "getattr: __dict__\n",
      "getattr: __dict__\n",
      "getattr: __dict__\n",
      "getattr: __dict__\n",
      "getattr: __dict__\n",
      "getattr: __dict__\n",
      "getattr: __dict__\n",
      "getattr: __dict__\n",
      "getattr: __dict__\n",
      "getattr: __dict__\n",
      "getattr: __dict__\n",
      "getattr: __dict__\n",
      "getattr: __dict__\n",
      "getattr: __dict__\n",
      "getattr: __dict__\n",
      "getattr: __dict__\n",
      "getattr: __dict__\n",
      "getattr: __dict__\n",
      "getattr: __dict__\n",
      "getattr: __dict__\n",
      "getattr: __dict__\n",
      "getattr: __dict__\n",
      "getattr: __dict__\n",
      "getattr: __dict__\n",
      "getattr: __dict__\n",
      "getattr: __dict__\n",
      "getattr: __dict__\n",
      "getattr: __dict__\n",
      "getattr: __dict__\n",
      "getattr: __dict__\n",
      "getattr: __dict__\n",
      "getattr: __dict__\n",
      "getattr: __dict__\n",
      "getattr: __dict__\n",
      "getattr: __dict__\n",
      "getattr: __dict__\n",
      "getattr: __dict__\n",
      "getattr: __dict__\n",
      "getattr: __dict__\n",
      "getattr: __dict__\n",
      "getattr: __dict__\n",
      "getattr: __dict__\n",
      "getattr: __dict__\n",
      "getattr: __dict__\n",
      "getattr: __dict__\n",
      "getattr: __dict__\n",
      "getattr: __dict__\n",
      "getattr: __dict__\n",
      "getattr: __dict__\n",
      "getattr: __dict__\n",
      "getattr: __dict__\n",
      "getattr: __dict__\n",
      "getattr: __dict__\n",
      "getattr: __dict__\n",
      "getattr: __dict__\n",
      "getattr: __dict__\n",
      "getattr: __dict__\n",
      "getattr: __dict__\n",
      "getattr: __dict__\n",
      "getattr: __dict__\n",
      "getattr: __dict__\n",
      "getattr: __dict__\n",
      "getattr: __dict__\n",
      "getattr: __dict__\n",
      "getattr: __dict__\n",
      "getattr: __dict__\n",
      "getattr: __dict__\n",
      "getattr: __dict__\n",
      "getattr: __dict__\n",
      "getattr: __dict__\n",
      "getattr: __dict__\n",
      "getattr: __dict__\n",
      "getattr: __dict__\n",
      "getattr: __dict__\n",
      "getattr: __dict__\n",
      "getattr: __dict__\n",
      "getattr: __dict__\n",
      "getattr: __dict__\n",
      "getattr: __dict__\n",
      "getattr: __dict__\n",
      "getattr: __dict__\n",
      "getattr: __dict__\n",
      "getattr: __dict__\n",
      "getattr: __dict__\n",
      "getattr: __dict__\n",
      "getattr: __dict__\n",
      "getattr: __dict__\n",
      "getattr: __dict__\n",
      "getattr: __dict__\n",
      "getattr: __dict__\n",
      "getattr: __dict__\n",
      "getattr: __dict__\n",
      "getattr: __dict__\n",
      "getattr: __dict__\n",
      "getattr: __dict__\n",
      "getattr: __dict__\n",
      "getattr: __dict__\n",
      "getattr: __dict__\n",
      "getattr: __dict__\n",
      "getattr: __dict__\n",
      "getattr: __dict__\n",
      "getattr: __dict__\n",
      "getattr: __dict__\n",
      "getattr: __dict__\n",
      "getattr: __dict__\n",
      "getattr: __dict__\n",
      "getattr: __dict__\n",
      "getattr: __dict__\n",
      "getattr: __dict__\n",
      "getattr: __dict__\n",
      "getattr: __dict__\n",
      "getattr: __dict__\n",
      "getattr: __dict__\n",
      "getattr: __dict__\n",
      "getattr: __dict__\n",
      "getattr: __dict__\n",
      "getattr: __dict__\n",
      "getattr: __dict__\n",
      "getattr: __dict__\n",
      "getattr: __dict__\n",
      "getattr: __dict__\n",
      "getattr: __dict__\n",
      "getattr: __dict__\n",
      "getattr: __dict__\n",
      "getattr: __dict__\n",
      "getattr: __dict__\n",
      "getattr: __dict__\n",
      "getattr: __dict__\n",
      "getattr: __dict__\n",
      "getattr: __dict__\n",
      "getattr: __dict__\n",
      "getattr: __dict__\n",
      "getattr: __dict__\n",
      "getattr: __dict__\n",
      "getattr: __dict__\n",
      "getattr: __dict__\n",
      "getattr: __dict__\n",
      "getattr: __dict__\n",
      "getattr: __dict__\n",
      "getattr: __dict__\n",
      "getattr: __dict__\n",
      "getattr: __dict__\n",
      "getattr: __dict__\n",
      "getattr: __dict__\n",
      "getattr: __dict__\n",
      "getattr: __dict__\n",
      "getattr: __dict__\n",
      "getattr: __dict__\n",
      "getattr: __dict__\n",
      "getattr: __dict__\n",
      "getattr: __dict__\n",
      "getattr: __dict__\n",
      "getattr: __dict__\n",
      "getattr: __dict__\n",
      "getattr: __dict__\n",
      "getattr: __dict__\n",
      "getattr: __dict__\n",
      "getattr: __dict__\n",
      "getattr: __dict__\n",
      "getattr: __dict__\n",
      "getattr: __dict__\n",
      "getattr: __dict__\n",
      "getattr: __dict__\n",
      "getattr: __dict__\n",
      "getattr: __dict__\n",
      "getattr: __dict__\n",
      "getattr: __dict__\n",
      "getattr: __dict__\n",
      "getattr: __dict__\n",
      "getattr: __dict__\n",
      "getattr: __dict__\n",
      "getattr: __dict__\n",
      "getattr: __dict__\n",
      "getattr: __dict__\n",
      "getattr: __dict__\n",
      "getattr: __dict__\n",
      "getattr: __dict__\n",
      "getattr: __dict__\n",
      "getattr: __dict__\n",
      "getattr: __dict__\n",
      "getattr: __dict__\n",
      "getattr: __dict__\n",
      "getattr: __dict__\n",
      "getattr: __dict__\n",
      "getattr: __dict__\n",
      "getattr: __dict__\n",
      "getattr: __dict__\n",
      "getattr: __dict__\n",
      "getattr: __dict__\n",
      "getattr: __dict__\n",
      "getattr: __dict__\n",
      "getattr: __dict__\n",
      "getattr: __dict__\n",
      "getattr: __dict__\n",
      "getattr: __dict__\n",
      "getattr: __dict__\n",
      "getattr: __dict__\n",
      "getattr: __dict__\n",
      "getattr: __dict__\n",
      "getattr: __dict__\n",
      "getattr: __dict__\n",
      "getattr: __dict__\n",
      "getattr: __dict__\n",
      "getattr: __dict__\n",
      "getattr: __dict__\n",
      "getattr: __dict__\n",
      "getattr: __dict__\n",
      "getattr: __dict__\n",
      "getattr: __dict__\n",
      "getattr: __dict__\n",
      "getattr: __dict__\n",
      "getattr: __dict__\n",
      "getattr: __dict__\n",
      "getattr: __dict__\n",
      "getattr: __dict__\n",
      "getattr: __dict__\n",
      "getattr: __dict__\n",
      "getattr: __dict__\n",
      "getattr: __dict__\n",
      "getattr: __dict__\n",
      "getattr: __dict__\n",
      "getattr: __dict__\n",
      "getattr: __dict__\n",
      "getattr: __dict__\n",
      "getattr: __dict__\n",
      "getattr: __dict__\n",
      "getattr: __dict__\n",
      "getattr: __dict__\n",
      "getattr: __dict__\n",
      "getattr: __dict__\n",
      "getattr: __dict__\n",
      "getattr: __dict__\n",
      "getattr: __dict__\n",
      "getattr: __dict__\n",
      "getattr: __dict__\n",
      "getattr: __dict__\n",
      "getattr: __dict__\n",
      "getattr: __dict__\n",
      "getattr: __dict__\n",
      "getattr: __dict__\n",
      "getattr: __dict__\n",
      "getattr: __dict__\n",
      "getattr: __dict__\n",
      "getattr: __dict__\n",
      "getattr: __dict__\n",
      "getattr: __dict__\n",
      "getattr: __dict__\n",
      "getattr: __dict__\n",
      "getattr: __dict__\n",
      "getattr: __dict__\n",
      "getattr: __dict__\n",
      "getattr: __dict__\n",
      "getattr: __dict__\n",
      "getattr: __dict__\n",
      "getattr: __dict__\n",
      "getattr: __dict__\n",
      "getattr: __dict__\n",
      "getattr: __dict__\n",
      "getattr: __dict__\n",
      "getattr: __dict__\n",
      "getattr: __dict__\n",
      "getattr: __dict__\n",
      "getattr: __dict__\n",
      "getattr: __dict__\n",
      "getattr: __dict__\n",
      "getattr: __dict__\n",
      "getattr: __dict__\n",
      "getattr: __dict__\n",
      "getattr: __dict__\n",
      "getattr: __dict__\n",
      "getattr: __dict__\n",
      "getattr: __dict__\n",
      "getattr: __dict__\n",
      "getattr: __dict__\n",
      "getattr: __dict__\n",
      "getattr: __dict__\n",
      "getattr: __dict__\n",
      "getattr: __dict__\n",
      "getattr: __dict__\n",
      "getattr: __dict__\n",
      "getattr: __dict__\n",
      "getattr: __dict__\n",
      "getattr: __dict__\n",
      "getattr: __dict__\n",
      "getattr: __dict__\n",
      "getattr: __dict__\n",
      "getattr: __dict__\n",
      "getattr: __dict__\n",
      "getattr: __dict__\n",
      "getattr: __dict__\n",
      "getattr: __dict__\n",
      "getattr: __dict__\n",
      "getattr: __dict__\n",
      "getattr: __dict__\n",
      "getattr: __dict__\n",
      "getattr: __dict__\n",
      "getattr: __dict__\n",
      "getattr: __dict__\n",
      "getattr: __dict__\n",
      "getattr: __dict__\n",
      "getattr: __dict__\n",
      "getattr: __dict__\n",
      "getattr: __dict__\n",
      "getattr: __dict__\n",
      "getattr: __dict__\n",
      "getattr: __dict__\n",
      "getattr: __dict__\n",
      "getattr: __dict__\n",
      "getattr: __dict__\n",
      "getattr: __dict__\n",
      "getattr: __dict__\n",
      "getattr: __dict__\n",
      "getattr: __dict__\n",
      "getattr: __dict__\n",
      "getattr: __dict__\n",
      "getattr: __dict__\n",
      "getattr: __dict__\n",
      "getattr: __dict__\n",
      "getattr: __dict__\n",
      "getattr: __dict__\n",
      "getattr: __dict__\n",
      "getattr: __dict__\n",
      "getattr: __dict__\n",
      "getattr: __dict__\n",
      "getattr: __dict__\n",
      "getattr: __dict__\n",
      "getattr: __dict__\n",
      "getattr: __dict__\n",
      "getattr: __dict__\n",
      "getattr: __dict__\n",
      "getattr: __dict__\n",
      "getattr: __dict__\n",
      "getattr: __dict__\n",
      "getattr: __dict__\n",
      "getattr: __dict__\n",
      "getattr: __dict__\n",
      "getattr: __dict__\n",
      "getattr: __dict__\n",
      "getattr: __dict__\n",
      "getattr: __dict__\n",
      "getattr: __dict__\n",
      "getattr: __dict__\n",
      "getattr: __dict__\n",
      "getattr: __dict__\n",
      "getattr: __dict__\n",
      "getattr: __dict__\n",
      "getattr: __dict__\n",
      "getattr: __dict__\n",
      "getattr: __dict__\n",
      "getattr: __dict__\n",
      "getattr: __dict__\n",
      "getattr: __dict__\n",
      "getattr: __dict__\n",
      "getattr: __dict__\n",
      "getattr: __dict__\n",
      "getattr: __dict__\n",
      "getattr: __dict__\n",
      "getattr: __dict__\n",
      "getattr: __dict__\n",
      "getattr: __dict__\n",
      "getattr: __dict__\n",
      "getattr: __dict__\n",
      "getattr: __dict__\n",
      "getattr: __dict__\n",
      "getattr: __dict__\n",
      "getattr: __dict__\n",
      "getattr: __dict__\n",
      "getattr: __dict__\n",
      "getattr: __dict__\n",
      "getattr: __dict__\n",
      "getattr: __dict__\n",
      "getattr: __dict__\n",
      "getattr: __dict__\n",
      "getattr: __dict__\n",
      "getattr: __dict__\n",
      "getattr: __dict__\n",
      "getattr: __dict__\n",
      "getattr: __dict__\n",
      "getattr: __dict__\n",
      "getattr: __dict__\n",
      "getattr: __dict__\n",
      "getattr: __dict__\n",
      "getattr: __dict__\n",
      "getattr: __dict__\n",
      "getattr: __dict__\n",
      "getattr: __dict__\n",
      "getattr: __dict__\n",
      "getattr: __dict__\n",
      "getattr: __dict__\n",
      "getattr: __dict__\n",
      "getattr: __dict__\n",
      "getattr: __dict__\n",
      "getattr: __dict__\n",
      "getattr: __dict__\n",
      "getattr: __dict__\n",
      "getattr: __dict__\n",
      "getattr: __dict__\n",
      "getattr: __dict__\n",
      "getattr: __dict__\n",
      "getattr: __dict__\n",
      "getattr: __dict__\n",
      "getattr: __dict__\n",
      "getattr: __dict__\n",
      "getattr: __dict__\n",
      "getattr: __dict__\n",
      "getattr: __dict__\n",
      "getattr: __dict__\n",
      "getattr: __dict__\n",
      "getattr: __dict__\n",
      "getattr: __dict__\n",
      "getattr: __dict__\n",
      "getattr: __dict__\n",
      "getattr: __dict__\n",
      "getattr: __dict__\n",
      "getattr: __dict__\n",
      "getattr: __dict__\n",
      "getattr: __dict__\n",
      "getattr: __dict__\n",
      "getattr: __dict__\n",
      "getattr: __dict__\n",
      "getattr: __dict__\n",
      "getattr: __dict__\n",
      "getattr: __dict__\n",
      "getattr: __dict__\n",
      "getattr: __dict__\n",
      "getattr: __dict__\n",
      "getattr: __dict__\n",
      "getattr: __dict__\n",
      "getattr: __dict__\n",
      "getattr: __dict__\n",
      "getattr: __dict__\n",
      "getattr: __dict__\n",
      "getattr: __dict__\n",
      "getattr: __dict__\n",
      "getattr: __dict__\n",
      "getattr: __dict__\n",
      "getattr: __dict__\n",
      "getattr: __dict__\n",
      "getattr: __dict__\n",
      "getattr: __dict__\n",
      "getattr: __dict__\n",
      "getattr: __dict__\n",
      "getattr: __dict__\n",
      "getattr: __dict__\n",
      "getattr: __dict__\n",
      "getattr: __dict__\n",
      "getattr: __dict__\n",
      "getattr: __dict__\n",
      "getattr: __dict__\n",
      "getattr: __dict__\n",
      "getattr: __dict__\n",
      "getattr: __dict__\n",
      "getattr: __dict__\n",
      "getattr: __dict__\n",
      "getattr: __dict__\n",
      "getattr: __dict__\n",
      "getattr: __dict__\n",
      "getattr: __dict__\n",
      "getattr: __dict__\n",
      "getattr: __dict__\n",
      "getattr: __dict__\n",
      "getattr: __dict__\n",
      "getattr: __dict__\n",
      "getattr: __dict__\n",
      "getattr: __dict__\n",
      "getattr: __dict__\n",
      "getattr: __dict__\n",
      "getattr: __dict__\n",
      "getattr: __dict__\n",
      "getattr: __dict__\n",
      "getattr: __dict__\n",
      "getattr: __dict__\n",
      "getattr: __dict__\n",
      "getattr: __dict__\n",
      "getattr: __dict__\n",
      "getattr: __dict__\n",
      "getattr: __dict__\n",
      "getattr: __dict__\n",
      "getattr: __dict__\n",
      "getattr: __dict__\n",
      "getattr: __dict__\n",
      "getattr: __dict__\n",
      "getattr: __dict__\n",
      "getattr: __dict__\n",
      "getattr: __dict__\n",
      "getattr: __dict__\n",
      "getattr: __dict__\n",
      "getattr: __dict__\n",
      "getattr: __dict__\n",
      "getattr: __dict__\n",
      "getattr: __dict__\n",
      "getattr: __dict__\n",
      "getattr: __dict__\n",
      "getattr: __dict__\n",
      "getattr: __dict__\n",
      "getattr: __dict__\n",
      "getattr: __dict__\n",
      "getattr: __dict__\n",
      "getattr: __dict__\n",
      "getattr: __dict__\n",
      "getattr: __dict__\n",
      "getattr: __dict__\n",
      "getattr: __dict__\n",
      "getattr: __dict__\n",
      "getattr: __dict__\n",
      "getattr: __dict__\n",
      "getattr: __dict__\n",
      "getattr: __dict__\n",
      "getattr: __dict__\n",
      "getattr: __dict__\n",
      "getattr: __dict__\n",
      "getattr: __dict__\n",
      "getattr: __dict__\n",
      "getattr: __dict__\n",
      "getattr: __dict__\n",
      "getattr: __dict__\n",
      "getattr: __dict__\n",
      "getattr: __dict__\n",
      "getattr: __dict__\n",
      "getattr: __dict__\n",
      "getattr: __dict__\n",
      "getattr: __dict__\n",
      "getattr: __dict__\n",
      "getattr: __dict__\n",
      "getattr: __dict__\n",
      "getattr: __dict__\n",
      "getattr: __dict__\n",
      "getattr: __dict__\n",
      "getattr: __dict__\n",
      "getattr: __dict__\n",
      "getattr: __dict__\n",
      "getattr: __dict__\n",
      "getattr: __dict__\n",
      "getattr: __dict__\n",
      "getattr: __dict__\n",
      "getattr: __dict__\n",
      "getattr: __dict__\n",
      "getattr: __dict__\n",
      "getattr: __dict__\n",
      "getattr: __dict__\n",
      "getattr: __dict__\n",
      "getattr: __dict__\n",
      "getattr: __dict__\n",
      "getattr: __dict__\n",
      "getattr: __dict__\n",
      "getattr: __dict__\n",
      "getattr: __dict__\n",
      "getattr: __dict__\n",
      "getattr: __dict__\n",
      "getattr: __dict__\n",
      "getattr: __dict__\n",
      "getattr: __dict__\n",
      "getattr: __dict__\n",
      "getattr: __dict__\n",
      "getattr: __dict__\n",
      "getattr: __dict__\n",
      "getattr: __dict__\n",
      "getattr: __dict__\n",
      "getattr: __dict__\n",
      "getattr: __dict__\n",
      "getattr: __dict__\n",
      "getattr: __dict__\n",
      "getattr: __dict__\n",
      "getattr: __dict__\n",
      "getattr: __dict__\n",
      "getattr: __dict__\n",
      "getattr: __dict__\n",
      "getattr: __dict__\n",
      "getattr: __dict__\n",
      "getattr: __dict__\n",
      "getattr: __dict__\n",
      "getattr: __dict__\n",
      "getattr: __dict__\n",
      "getattr: __dict__\n",
      "getattr: __dict__\n",
      "getattr: __dict__\n",
      "getattr: __dict__\n",
      "getattr: __dict__\n",
      "getattr: __dict__\n",
      "getattr: __dict__\n",
      "getattr: __dict__\n",
      "getattr: __dict__\n",
      "getattr: __dict__\n",
      "getattr: __dict__\n",
      "getattr: __dict__\n",
      "getattr: __dict__\n",
      "getattr: __dict__\n",
      "getattr: __dict__\n",
      "getattr: __dict__\n",
      "getattr: __dict__\n",
      "getattr: __dict__\n",
      "getattr: __dict__\n",
      "getattr: __dict__\n",
      "getattr: __dict__\n",
      "getattr: __dict__\n",
      "getattr: __dict__\n",
      "getattr: __dict__\n",
      "getattr: __dict__\n",
      "getattr: __dict__\n",
      "getattr: __dict__\n",
      "getattr: __dict__\n",
      "getattr: __dict__\n",
      "getattr: __dict__\n",
      "getattr: __dict__\n",
      "getattr: __dict__\n",
      "getattr: __dict__\n",
      "getattr: __dict__\n",
      "getattr: __dict__\n",
      "getattr: __dict__\n",
      "getattr: __dict__\n",
      "getattr: __dict__\n",
      "getattr: __dict__\n",
      "getattr: __dict__\n",
      "getattr: __dict__\n",
      "getattr: __dict__\n",
      "getattr: __dict__\n",
      "getattr: __dict__\n",
      "getattr: __dict__\n",
      "getattr: __dict__\n",
      "getattr: __dict__\n",
      "getattr: __dict__\n",
      "getattr: __dict__\n",
      "getattr: __dict__\n",
      "getattr: __dict__\n",
      "getattr: __dict__\n",
      "getattr: __dict__\n",
      "getattr: __dict__\n",
      "getattr: __dict__\n",
      "getattr: __dict__\n",
      "getattr: __dict__\n",
      "getattr: __dict__\n",
      "getattr: __dict__\n",
      "getattr: __dict__\n",
      "getattr: __dict__\n",
      "getattr: __dict__\n",
      "getattr: __dict__\n"
     ]
    },
    {
     "ename": "RecursionError",
     "evalue": "maximum recursion depth exceeded while calling a Python object",
     "output_type": "error",
     "traceback": [
      "\u001B[0;31m---------------------------------------------------------------------------\u001B[0m",
      "\u001B[0;31mRecursionError\u001B[0m                            Traceback (most recent call last)",
      "Cell \u001B[0;32mIn[357], line 2\u001B[0m\n\u001B[1;32m      1\u001B[0m a \u001B[38;5;241m=\u001B[39m C()\n\u001B[0;32m----> 2\u001B[0m a\u001B[38;5;241m.\u001B[39mhello\n",
      "Cell \u001B[0;32mIn[355], line 6\u001B[0m, in \u001B[0;36mC.__getattr__\u001B[0;34m(self, item)\u001B[0m\n\u001B[1;32m      4\u001B[0m \u001B[38;5;28;01mdef\u001B[39;00m \u001B[38;5;21m__getattr__\u001B[39m(\u001B[38;5;28mself\u001B[39m, item):\n\u001B[1;32m      5\u001B[0m     \u001B[38;5;28mprint\u001B[39m(\u001B[38;5;124mf\u001B[39m\u001B[38;5;124m'\u001B[39m\u001B[38;5;124mgetattr: \u001B[39m\u001B[38;5;132;01m{\u001B[39;00mitem\u001B[38;5;132;01m}\u001B[39;00m\u001B[38;5;124m'\u001B[39m )\n\u001B[0;32m----> 6\u001B[0m     \u001B[38;5;28;01mif\u001B[39;00m \u001B[38;5;28mhasattr\u001B[39m(\u001B[38;5;28mself\u001B[39m, \u001B[38;5;124m'\u001B[39m\u001B[38;5;124m__dict__\u001B[39m\u001B[38;5;124m'\u001B[39m) \u001B[38;5;129;01mand\u001B[39;00m item \u001B[38;5;129;01min\u001B[39;00m \u001B[38;5;28mself\u001B[39m\u001B[38;5;241m.\u001B[39m\u001B[38;5;18m__dict__\u001B[39m:\n\u001B[1;32m      7\u001B[0m         \u001B[38;5;28;01mreturn\u001B[39;00m \u001B[38;5;28mself\u001B[39m\u001B[38;5;241m.\u001B[39m\u001B[38;5;18m__dict__\u001B[39m[item]\n",
      "Cell \u001B[0;32mIn[355], line 6\u001B[0m, in \u001B[0;36mC.__getattr__\u001B[0;34m(self, item)\u001B[0m\n\u001B[1;32m      4\u001B[0m \u001B[38;5;28;01mdef\u001B[39;00m \u001B[38;5;21m__getattr__\u001B[39m(\u001B[38;5;28mself\u001B[39m, item):\n\u001B[1;32m      5\u001B[0m     \u001B[38;5;28mprint\u001B[39m(\u001B[38;5;124mf\u001B[39m\u001B[38;5;124m'\u001B[39m\u001B[38;5;124mgetattr: \u001B[39m\u001B[38;5;132;01m{\u001B[39;00mitem\u001B[38;5;132;01m}\u001B[39;00m\u001B[38;5;124m'\u001B[39m )\n\u001B[0;32m----> 6\u001B[0m     \u001B[38;5;28;01mif\u001B[39;00m \u001B[38;5;28mhasattr\u001B[39m(\u001B[38;5;28mself\u001B[39m, \u001B[38;5;124m'\u001B[39m\u001B[38;5;124m__dict__\u001B[39m\u001B[38;5;124m'\u001B[39m) \u001B[38;5;129;01mand\u001B[39;00m item \u001B[38;5;129;01min\u001B[39;00m \u001B[38;5;28mself\u001B[39m\u001B[38;5;241m.\u001B[39m\u001B[38;5;18m__dict__\u001B[39m:\n\u001B[1;32m      7\u001B[0m         \u001B[38;5;28;01mreturn\u001B[39;00m \u001B[38;5;28mself\u001B[39m\u001B[38;5;241m.\u001B[39m\u001B[38;5;18m__dict__\u001B[39m[item]\n",
      "    \u001B[0;31m[... skipping similar frames: C.__getattr__ at line 6 (2968 times)]\u001B[0m\n",
      "Cell \u001B[0;32mIn[355], line 6\u001B[0m, in \u001B[0;36mC.__getattr__\u001B[0;34m(self, item)\u001B[0m\n\u001B[1;32m      4\u001B[0m \u001B[38;5;28;01mdef\u001B[39;00m \u001B[38;5;21m__getattr__\u001B[39m(\u001B[38;5;28mself\u001B[39m, item):\n\u001B[1;32m      5\u001B[0m     \u001B[38;5;28mprint\u001B[39m(\u001B[38;5;124mf\u001B[39m\u001B[38;5;124m'\u001B[39m\u001B[38;5;124mgetattr: \u001B[39m\u001B[38;5;132;01m{\u001B[39;00mitem\u001B[38;5;132;01m}\u001B[39;00m\u001B[38;5;124m'\u001B[39m )\n\u001B[0;32m----> 6\u001B[0m     \u001B[38;5;28;01mif\u001B[39;00m \u001B[38;5;28mhasattr\u001B[39m(\u001B[38;5;28mself\u001B[39m, \u001B[38;5;124m'\u001B[39m\u001B[38;5;124m__dict__\u001B[39m\u001B[38;5;124m'\u001B[39m) \u001B[38;5;129;01mand\u001B[39;00m item \u001B[38;5;129;01min\u001B[39;00m \u001B[38;5;28mself\u001B[39m\u001B[38;5;241m.\u001B[39m\u001B[38;5;18m__dict__\u001B[39m:\n\u001B[1;32m      7\u001B[0m         \u001B[38;5;28;01mreturn\u001B[39;00m \u001B[38;5;28mself\u001B[39m\u001B[38;5;241m.\u001B[39m\u001B[38;5;18m__dict__\u001B[39m[item]\n",
      "Cell \u001B[0;32mIn[355], line 5\u001B[0m, in \u001B[0;36mC.__getattr__\u001B[0;34m(self, item)\u001B[0m\n\u001B[1;32m      4\u001B[0m \u001B[38;5;28;01mdef\u001B[39;00m \u001B[38;5;21m__getattr__\u001B[39m(\u001B[38;5;28mself\u001B[39m, item):\n\u001B[0;32m----> 5\u001B[0m     \u001B[38;5;28mprint\u001B[39m(\u001B[38;5;124mf\u001B[39m\u001B[38;5;124m'\u001B[39m\u001B[38;5;124mgetattr: \u001B[39m\u001B[38;5;132;01m{\u001B[39;00mitem\u001B[38;5;132;01m}\u001B[39;00m\u001B[38;5;124m'\u001B[39m )\n\u001B[1;32m      6\u001B[0m     \u001B[38;5;28;01mif\u001B[39;00m \u001B[38;5;28mhasattr\u001B[39m(\u001B[38;5;28mself\u001B[39m, \u001B[38;5;124m'\u001B[39m\u001B[38;5;124m__dict__\u001B[39m\u001B[38;5;124m'\u001B[39m) \u001B[38;5;129;01mand\u001B[39;00m item \u001B[38;5;129;01min\u001B[39;00m \u001B[38;5;28mself\u001B[39m\u001B[38;5;241m.\u001B[39m\u001B[38;5;18m__dict__\u001B[39m:\n\u001B[1;32m      7\u001B[0m         \u001B[38;5;28;01mreturn\u001B[39;00m \u001B[38;5;28mself\u001B[39m\u001B[38;5;241m.\u001B[39m\u001B[38;5;18m__dict__\u001B[39m[item]\n",
      "File \u001B[0;32m~/anaconda3/lib/python3.11/site-packages/ipykernel/iostream.py:635\u001B[0m, in \u001B[0;36mOutStream.write\u001B[0;34m(self, string)\u001B[0m\n\u001B[1;32m    633\u001B[0m     \u001B[38;5;28;01mraise\u001B[39;00m \u001B[38;5;167;01mValueError\u001B[39;00m(msg)\n\u001B[1;32m    634\u001B[0m \u001B[38;5;28;01melse\u001B[39;00m:\n\u001B[0;32m--> 635\u001B[0m     is_child \u001B[38;5;241m=\u001B[39m \u001B[38;5;129;01mnot\u001B[39;00m \u001B[38;5;28mself\u001B[39m\u001B[38;5;241m.\u001B[39m_is_master_process()\n\u001B[1;32m    636\u001B[0m     \u001B[38;5;66;03m# only touch the buffer in the IO thread to avoid races\u001B[39;00m\n\u001B[1;32m    637\u001B[0m     \u001B[38;5;28;01mwith\u001B[39;00m \u001B[38;5;28mself\u001B[39m\u001B[38;5;241m.\u001B[39m_buffer_lock:\n",
      "File \u001B[0;32m~/anaconda3/lib/python3.11/site-packages/ipykernel/iostream.py:506\u001B[0m, in \u001B[0;36mOutStream._is_master_process\u001B[0;34m(self)\u001B[0m\n\u001B[1;32m    505\u001B[0m \u001B[38;5;28;01mdef\u001B[39;00m \u001B[38;5;21m_is_master_process\u001B[39m(\u001B[38;5;28mself\u001B[39m):\n\u001B[0;32m--> 506\u001B[0m     \u001B[38;5;28;01mreturn\u001B[39;00m os\u001B[38;5;241m.\u001B[39mgetpid() \u001B[38;5;241m==\u001B[39m \u001B[38;5;28mself\u001B[39m\u001B[38;5;241m.\u001B[39m_master_pid\n",
      "\u001B[0;31mRecursionError\u001B[0m: maximum recursion depth exceeded while calling a Python object"
     ]
    }
   ],
   "execution_count": 357
  },
  {
   "metadata": {
    "ExecuteTime": {
     "end_time": "2024-07-01T12:30:05.054987Z",
     "start_time": "2024-07-01T12:30:05.052256Z"
    }
   },
   "cell_type": "code",
   "source": "a.data",
   "id": "8d0ab628a207fc09",
   "outputs": [
    {
     "data": {
      "text/plain": [
       "'spam'"
      ]
     },
     "execution_count": 358,
     "metadata": {},
     "output_type": "execute_result"
    }
   ],
   "execution_count": 358
  },
  {
   "metadata": {},
   "cell_type": "markdown",
   "source": "__get__",
   "id": "19404c5b7db9ea4a"
  },
  {
   "metadata": {
    "ExecuteTime": {
     "end_time": "2024-07-01T12:32:23.893843Z",
     "start_time": "2024-07-01T12:32:23.891683Z"
    }
   },
   "cell_type": "code",
   "source": [
    "class MyClass:\n",
    "    def __get__(self, instance, owner):\n",
    "        print(f'{instance=}, {owner=}')\n",
    "        print('get')\n",
    "        return 42\n",
    "\n",
    "    def __set__(self, instance, value):\n",
    "        print('set')\n",
    "\n",
    "\n",
    "class Person:\n",
    "    age = MyClass()"
   ],
   "id": "d9507750be06d28e",
   "outputs": [],
   "execution_count": 365
  },
  {
   "metadata": {
    "ExecuteTime": {
     "end_time": "2024-07-01T12:32:24.196625Z",
     "start_time": "2024-07-01T12:32:24.193855Z"
    }
   },
   "cell_type": "code",
   "source": [
    "a = Person()\n",
    "a.age"
   ],
   "id": "336c8161014b6149",
   "outputs": [
    {
     "name": "stdout",
     "output_type": "stream",
     "text": [
      "instance=<__main__.Person object at 0x1095fb1d0>, owner=<class '__main__.Person'>\n",
      "get\n"
     ]
    },
    {
     "data": {
      "text/plain": [
       "42"
      ]
     },
     "execution_count": 366,
     "metadata": {},
     "output_type": "execute_result"
    }
   ],
   "execution_count": 366
  },
  {
   "metadata": {
    "ExecuteTime": {
     "end_time": "2024-07-01T12:32:24.655634Z",
     "start_time": "2024-07-01T12:32:24.653926Z"
    }
   },
   "cell_type": "code",
   "source": "a.age = 50",
   "id": "8e96a755f7c6c0a7",
   "outputs": [
    {
     "name": "stdout",
     "output_type": "stream",
     "text": [
      "set\n"
     ]
    }
   ],
   "execution_count": 367
  },
  {
   "metadata": {
    "ExecuteTime": {
     "end_time": "2024-07-01T12:32:26.008107Z",
     "start_time": "2024-07-01T12:32:26.006552Z"
    }
   },
   "cell_type": "code",
   "source": "a.name = 'bob'",
   "id": "61f20e31cb451d31",
   "outputs": [],
   "execution_count": 368
  },
  {
   "metadata": {},
   "cell_type": "markdown",
   "source": "# 静态方法",
   "id": "971b7b75fc213b38"
  },
  {
   "metadata": {
    "ExecuteTime": {
     "end_time": "2024-07-01T12:45:56.101140Z",
     "start_time": "2024-07-01T12:45:56.096471Z"
    }
   },
   "cell_type": "code",
   "source": [
    "class Spam:\n",
    "    counter = 0\n",
    "\n",
    "    def __init__(self):\n",
    "        Spam.counter += 1\n",
    "\n",
    "    @staticmethod\n",
    "    def print_counter():\n",
    "        print(Spam.counter)\n",
    "\n",
    "\n",
    "class Other(Spam): ..."
   ],
   "id": "93e7a0695b6079f0",
   "outputs": [],
   "execution_count": 396
  },
  {
   "metadata": {
    "ExecuteTime": {
     "end_time": "2024-07-01T12:45:56.361270Z",
     "start_time": "2024-07-01T12:45:56.359378Z"
    }
   },
   "cell_type": "code",
   "source": "c1, c2 = Spam(), Spam()",
   "id": "8f199e195857ae7b",
   "outputs": [],
   "execution_count": 397
  },
  {
   "metadata": {
    "ExecuteTime": {
     "end_time": "2024-07-01T12:45:56.631852Z",
     "start_time": "2024-07-01T12:45:56.629745Z"
    }
   },
   "cell_type": "code",
   "source": "c2.print_counter()",
   "id": "1b0092fe28552845",
   "outputs": [
    {
     "name": "stdout",
     "output_type": "stream",
     "text": [
      "2\n"
     ]
    }
   ],
   "execution_count": 398
  },
  {
   "metadata": {
    "ExecuteTime": {
     "end_time": "2024-07-01T12:45:56.942606Z",
     "start_time": "2024-07-01T12:45:56.940806Z"
    }
   },
   "cell_type": "code",
   "source": "Spam.print_counter()",
   "id": "cc387a89e63fac40",
   "outputs": [
    {
     "name": "stdout",
     "output_type": "stream",
     "text": [
      "2\n"
     ]
    }
   ],
   "execution_count": 399
  },
  {
   "metadata": {
    "ExecuteTime": {
     "end_time": "2024-07-01T12:45:57.671052Z",
     "start_time": "2024-07-01T12:45:57.669146Z"
    }
   },
   "cell_type": "code",
   "source": [
    "c3 = Spam()\n",
    "Spam.print_counter()"
   ],
   "id": "417652ffd29257b1",
   "outputs": [
    {
     "name": "stdout",
     "output_type": "stream",
     "text": [
      "3\n"
     ]
    }
   ],
   "execution_count": 400
  },
  {
   "metadata": {
    "ExecuteTime": {
     "end_time": "2024-07-01T12:46:06.635675Z",
     "start_time": "2024-07-01T12:46:06.633748Z"
    }
   },
   "cell_type": "code",
   "source": [
    "c4 = Other()\n",
    "Other.print_counter()"
   ],
   "id": "def224bdfb25939a",
   "outputs": [
    {
     "name": "stdout",
     "output_type": "stream",
     "text": [
      "4\n"
     ]
    }
   ],
   "execution_count": 401
  },
  {
   "metadata": {
    "ExecuteTime": {
     "end_time": "2024-07-01T12:43:13.008667Z",
     "start_time": "2024-07-01T12:43:13.003392Z"
    }
   },
   "cell_type": "code",
   "source": [
    "class Method:\n",
    "    def normal(self):\n",
    "        print(f'{self=}, normal')\n",
    "\n",
    "    @classmethod\n",
    "    def class_method(cls):\n",
    "        print(f'{cls=}, class method')\n",
    "\n",
    "    @staticmethod\n",
    "    def static_method():\n",
    "        print('static method')"
   ],
   "id": "3e0aabc44290a725",
   "outputs": [],
   "execution_count": 393
  },
  {
   "metadata": {
    "ExecuteTime": {
     "end_time": "2024-07-01T12:43:13.292187Z",
     "start_time": "2024-07-01T12:43:13.290212Z"
    }
   },
   "cell_type": "code",
   "source": [
    "q = Method()\n",
    "q.normal()\n",
    "q.class_method()\n",
    "q.static_method()"
   ],
   "id": "bcef264a350c8aee",
   "outputs": [
    {
     "name": "stdout",
     "output_type": "stream",
     "text": [
      "self=<__main__.Method object at 0x109dd51d0>, normal\n",
      "cls=<class '__main__.Method'>, class method\n",
      "static method\n"
     ]
    }
   ],
   "execution_count": 394
  },
  {
   "metadata": {
    "ExecuteTime": {
     "end_time": "2024-07-01T12:43:24.980834Z",
     "start_time": "2024-07-01T12:43:24.978894Z"
    }
   },
   "cell_type": "code",
   "source": "Method.class_method()",
   "id": "c762c6ab1c027d8a",
   "outputs": [
    {
     "name": "stdout",
     "output_type": "stream",
     "text": [
      "cls=<class '__main__.Method'>, class method\n"
     ]
    }
   ],
   "execution_count": 395
  },
  {
   "metadata": {
    "ExecuteTime": {
     "end_time": "2024-07-01T13:03:29.713056Z",
     "start_time": "2024-07-01T13:03:29.708825Z"
    }
   },
   "cell_type": "code",
   "source": [
    "class Spam:\n",
    "    counter = 0\n",
    "\n",
    "    def __init__(self):\n",
    "        Spam.counter += 1\n",
    "\n",
    "    @classmethod\n",
    "    def print_counter(cls):\n",
    "        print(Spam.counter, cls)\n",
    "\n",
    "\n",
    "class Sub(Spam):\n",
    "    @classmethod\n",
    "    def print_counter(cls):\n",
    "        print('Extra stuff...', cls)\n",
    "        Spam.print_counter()\n",
    "\n",
    "\n",
    "class Other(Spam): ..."
   ],
   "id": "57d48090b34712cf",
   "outputs": [],
   "execution_count": 407
  },
  {
   "metadata": {
    "ExecuteTime": {
     "end_time": "2024-07-01T13:03:30.142953Z",
     "start_time": "2024-07-01T13:03:30.141076Z"
    }
   },
   "cell_type": "code",
   "source": [
    "x = Sub()\n",
    "y = Other()"
   ],
   "id": "a4f101ea5eea9b76",
   "outputs": [],
   "execution_count": 408
  },
  {
   "metadata": {
    "ExecuteTime": {
     "end_time": "2024-07-01T13:03:30.567147Z",
     "start_time": "2024-07-01T13:03:30.565056Z"
    }
   },
   "cell_type": "code",
   "source": "x.print_counter()",
   "id": "a43ca408d33c55eb",
   "outputs": [
    {
     "name": "stdout",
     "output_type": "stream",
     "text": [
      "Extra stuff... <class '__main__.Sub'>\n",
      "2 <class '__main__.Spam'>\n"
     ]
    }
   ],
   "execution_count": 409
  },
  {
   "metadata": {
    "ExecuteTime": {
     "end_time": "2024-07-01T13:03:35.442086Z",
     "start_time": "2024-07-01T13:03:35.440524Z"
    }
   },
   "cell_type": "code",
   "source": "y.print_counter()",
   "id": "2abc08c1bc0d29a9",
   "outputs": [
    {
     "name": "stdout",
     "output_type": "stream",
     "text": [
      "2 <class '__main__.Other'>\n"
     ]
    }
   ],
   "execution_count": 410
  },
  {
   "metadata": {
    "ExecuteTime": {
     "end_time": "2024-07-01T13:02:05.647119Z",
     "start_time": "2024-07-01T13:02:05.636012Z"
    }
   },
   "cell_type": "code",
   "source": [
    "z = Other()\n",
    "z.print_counter()"
   ],
   "id": "472a39d2689c34b8",
   "outputs": [
    {
     "name": "stdout",
     "output_type": "stream",
     "text": [
      "3\n"
     ]
    }
   ],
   "execution_count": 406
  },
  {
   "metadata": {},
   "cell_type": "markdown",
   "source": "使⽤类⽅法统计每个类的实例个数",
   "id": "23cdb4292ded3b59"
  },
  {
   "metadata": {
    "ExecuteTime": {
     "end_time": "2024-07-01T13:12:52.329478Z",
     "start_time": "2024-07-01T13:12:52.322411Z"
    }
   },
   "cell_type": "code",
   "source": [
    "class Spam:\n",
    "    counter = 0\n",
    "\n",
    "    def __init__(self):\n",
    "        self.count()\n",
    "\n",
    "    @classmethod\n",
    "    def count(cls):\n",
    "        cls.counter = cls.counter + 1\n",
    "        \n",
    "    @classmethod\n",
    "    def print_counter(cls):\n",
    "        print(cls.counter, cls)\n",
    "\n",
    "\n",
    "class Sub(Spam):\n",
    "    counter = 0\n",
    "\n",
    "    def __init__(self):\n",
    "        Spam.__init__(self)\n",
    "\n",
    "\n",
    "class Other(Spam): counter = 0"
   ],
   "id": "1a876759c76e2f8c",
   "outputs": [],
   "execution_count": 439
  },
  {
   "metadata": {
    "ExecuteTime": {
     "end_time": "2024-07-01T13:12:52.637588Z",
     "start_time": "2024-07-01T13:12:52.635593Z"
    }
   },
   "cell_type": "code",
   "source": [
    "x = Spam()\n",
    "a1, a2, a3 = Sub(), Sub(), Sub()\n",
    "b1, b2 = Other(), Other()"
   ],
   "id": "132fb87ed0c6fc8f",
   "outputs": [],
   "execution_count": 440
  },
  {
   "metadata": {
    "ExecuteTime": {
     "end_time": "2024-07-01T13:12:22.399685Z",
     "start_time": "2024-07-01T13:12:22.396872Z"
    }
   },
   "cell_type": "code",
   "source": "x.print_counter(), a1.print_counter(), b1.print_counter()",
   "id": "5649b4b47af58614",
   "outputs": [
    {
     "name": "stdout",
     "output_type": "stream",
     "text": [
      "1 <class '__main__.Spam'>\n",
      "3 <class '__main__.Sub'>\n",
      "2 <class '__main__.Other'>\n"
     ]
    },
    {
     "data": {
      "text/plain": [
       "(None, None, None)"
      ]
     },
     "execution_count": 437,
     "metadata": {},
     "output_type": "execute_result"
    }
   ],
   "execution_count": 437
  },
  {
   "metadata": {},
   "cell_type": "code",
   "outputs": [],
   "execution_count": null,
   "source": "",
   "id": "14511d36b12f2d97"
  }
 ],
 "metadata": {
  "kernelspec": {
   "display_name": "Python 3",
   "language": "python",
   "name": "python3"
  },
  "language_info": {
   "codemirror_mode": {
    "name": "ipython",
    "version": 2
   },
   "file_extension": ".py",
   "mimetype": "text/x-python",
   "name": "python",
   "nbconvert_exporter": "python",
   "pygments_lexer": "ipython2",
   "version": "2.7.6"
  }
 },
 "nbformat": 4,
 "nbformat_minor": 5
}
