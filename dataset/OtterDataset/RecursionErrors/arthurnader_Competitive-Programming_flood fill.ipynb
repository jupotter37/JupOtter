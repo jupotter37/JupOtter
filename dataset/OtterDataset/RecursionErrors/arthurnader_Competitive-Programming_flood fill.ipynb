{
 "cells": [
  {
   "cell_type": "markdown",
   "id": "e51a75ec",
   "metadata": {},
   "source": [
    "## Flood Fill\n",
    "\n",
    "An image is represented by an m x n integer grid image where image[i][j] represents the pixel value of the image.\n",
    "\n",
    "You are also given three integers sr, sc, and color. You should perform a flood fill on the image starting from the pixel image[sr][sc].\n",
    "\n",
    "To perform a flood fill, consider the starting pixel, plus any pixels connected 4-directionally to the starting pixel of the same color as the starting pixel, plus any pixels connected 4-directionally to those pixels (also with the same color), and so on. Replace the color of all of the aforementioned pixels with color.\n",
    "\n",
    "Return the modified image after performing the flood fill.\n",
    "\n",
    " \n",
    "\n",
    "### Example 1:\n",
    "\n",
    "Input: image = [[1,1,1],[1,1,0],[1,0,1]], sr = 1, sc = 1, color = 2\\\n",
    "Output: [[2,2,2],[2,2,0],[2,0,1]]\\\n",
    "Explanation: From the center of the image with position (sr, sc) = (1, 1) (i.e., the red pixel), all pixels connected by a path of the same color as the starting pixel (i.e., the blue pixels) are colored with the new color.\n",
    "Note the bottom corner is not colored 2, because it is not 4-directionally connected to the starting pixel.\n",
    "\n",
    "### Example 2:\n",
    "\n",
    "Input: image = [[0,0,0],[0,0,0]], sr = 0, sc = 0, color = 0\\\n",
    "Output: [[0,0,0],[0,0,0]]\\\n",
    "Explanation: The starting pixel is already colored 0, so no changes are made to the image.\n",
    "\n",
    " \n",
    "\n",
    "Constraints:\n",
    "\n",
    "- m == image.length\n",
    "- n == image[i].length\n",
    "- 1 <= m, n <= 50\n",
    "- 0 <= image[i][j], color < 216\n",
    "- 0 <= sr < m\n",
    "- 0 <= sc < n\n",
    "\n"
   ]
  },
  {
   "cell_type": "markdown",
   "id": "330f9806",
   "metadata": {},
   "source": [
    "## BFS"
   ]
  },
  {
   "cell_type": "code",
   "execution_count": 193,
   "id": "dd05afe8",
   "metadata": {},
   "outputs": [],
   "source": [
    "from queue import Queue"
   ]
  },
  {
   "cell_type": "code",
   "execution_count": 194,
   "id": "9a300dd1",
   "metadata": {},
   "outputs": [],
   "source": [
    "image = [[1,1,1],[1,1,0],[1,0,1]]\n",
    "sr = 1\n",
    "sc = 1\n",
    "color = 2"
   ]
  },
  {
   "cell_type": "code",
   "execution_count": 195,
   "id": "b14ff47e",
   "metadata": {},
   "outputs": [],
   "source": [
    "def fill_bfs(image, sr, sc, color):\n",
    "    \n",
    "    img = image.copy()\n",
    "    \n",
    "    start_color = img[sr][sc]\n",
    "    \n",
    "    if start_color == color:\n",
    "        return img\n",
    "    \n",
    "    n = len(img)\n",
    "    m = len(img[0])\n",
    "    \n",
    "    q = Queue()\n",
    "    q.put((sr,sc))\n",
    "    img[sr][sc] = color\n",
    "    \n",
    "    while not q.empty():\n",
    "        \n",
    "        i, j = q.get()\n",
    "        \n",
    "        ngbrs = [[i-1,j], [i, j-1], [i+1, j], [i, j+1]]\n",
    "    \n",
    "        for (row, column) in ngbrs:\n",
    "            if 0 <= row < n and 0 <= column < m  and img[row][column] != color and img[row][column] == start_color:\n",
    "                img[row][column] = color\n",
    "                q.put((row, column))\n",
    "                \n",
    "    return img"
   ]
  },
  {
   "cell_type": "code",
   "execution_count": 196,
   "id": "66fa5c96",
   "metadata": {},
   "outputs": [
    {
     "data": {
      "text/plain": [
       "[[2, 2, 2], [2, 2, 0], [2, 0, 1]]"
      ]
     },
     "execution_count": 196,
     "metadata": {},
     "output_type": "execute_result"
    }
   ],
   "source": [
    "fill_bfs(image, sr, sc, color)"
   ]
  },
  {
   "cell_type": "markdown",
   "id": "8f7bf6f1",
   "metadata": {},
   "source": [
    "## DFS"
   ]
  },
  {
   "cell_type": "code",
   "execution_count": 197,
   "id": "8b1deea1",
   "metadata": {},
   "outputs": [],
   "source": [
    "image = [[1,1,1],[1,1,0],[1,0,1]]\n",
    "sr = 1\n",
    "sc = 1\n",
    "color = 2"
   ]
  },
  {
   "cell_type": "code",
   "execution_count": 198,
   "id": "af95a93b",
   "metadata": {},
   "outputs": [],
   "source": [
    "def _dfs(img, i, j, n, m, start_color, color):\n",
    "    \n",
    "    img[i][j] = color\n",
    "    \n",
    "    ngbrs = [[i-1,j], [i, j-1], [i+1, j], [i, j+1]]\n",
    "    \n",
    "    for (row, column) in ngbrs:\n",
    "        if 0 <= row < n and 0 <= column < m  and img[row][column] != color and img[row][column] == start_color:\n",
    "            _dfs(img, row, column, n, m, start_color, color)"
   ]
  },
  {
   "cell_type": "code",
   "execution_count": 199,
   "id": "072b6b04",
   "metadata": {},
   "outputs": [],
   "source": [
    "def fill_dfs(image, sr, sc, color):\n",
    "    \n",
    "    img = image.copy()\n",
    "    start_color = img[sr][sc]\n",
    "    \n",
    "    if start_color == color:\n",
    "        return image\n",
    "    \n",
    "    n = len(img)\n",
    "    m = len(img[0])\n",
    "    \n",
    "    _dfs(img, sr, sc, n, m, start_color, color)\n",
    "    \n",
    "    return img\n",
    "    \n",
    "    "
   ]
  },
  {
   "cell_type": "code",
   "execution_count": 200,
   "id": "b6dad985",
   "metadata": {},
   "outputs": [
    {
     "data": {
      "text/plain": [
       "[[2, 2, 2], [2, 2, 0], [2, 0, 1]]"
      ]
     },
     "execution_count": 200,
     "metadata": {},
     "output_type": "execute_result"
    }
   ],
   "source": [
    "fill_dfs(image, sr, sc, color)"
   ]
  },
  {
   "cell_type": "markdown",
   "id": "809c2dd7",
   "metadata": {},
   "source": [
    "## Matplotlib"
   ]
  },
  {
   "cell_type": "code",
   "execution_count": 201,
   "id": "99c2df86",
   "metadata": {},
   "outputs": [
    {
     "data": {
      "image/png": "[encoded data removed]",
      "text/plain": [
       "<Figure size 800x800 with 1 Axes>"
      ]
     },
     "metadata": {},
     "output_type": "display_data"
    }
   ],
   "source": [
    "import numpy as np\n",
    "import matplotlib.pyplot as plt\n",
    "from matplotlib.colors import ListedColormap\n",
    "\n",
    "data = np.zeros((200, 200))\n",
    "\n",
    "data[50:150, 50:150] = 1  # head\n",
    "data[30:50, 60:80] = 2    # left ear\n",
    "data[30:50, 120:140] = 2  # right ear\n",
    "data[80:90, 70:80] = 2  # left eye\n",
    "data[80:90, 120:130] = 2  # right eye\n",
    "data[100:110, 95:105] = 2\n",
    "data[150:180, 70:130] = 1\n",
    "\n",
    "\n",
    "cmap = ListedColormap(['green', 'brown', 'black'])\n",
    "\n",
    "plt.figure(figsize=(8, 8))\n",
    "plt.imshow(data, cmap=cmap, interpolation='nearest')\n",
    "plt.title('A forest bear')\n",
    "plt.axis('off')\n",
    "\n",
    "plt.show()"
   ]
  },
  {
   "cell_type": "markdown",
   "id": "bb68ef5d",
   "metadata": {},
   "source": [
    "## Let's change to a polar bear"
   ]
  },
  {
   "cell_type": "code",
   "execution_count": 202,
   "id": "4d41021a",
   "metadata": {},
   "outputs": [],
   "source": [
    "new_data = fill_bfs(data, 0, 0, 4)\n",
    "new_data = fill_bfs(new_data, 50, 50, 3)"
   ]
  },
  {
   "cell_type": "code",
   "execution_count": 203,
   "id": "467438df",
   "metadata": {},
   "outputs": [
    {
     "data": {
      "image/png": "[encoded data removed]",
      "text/plain": [
       "<Figure size 800x800 with 1 Axes>"
      ]
     },
     "metadata": {},
     "output_type": "display_data"
    }
   ],
   "source": [
    "cmap = ListedColormap(['black', 'green', 'white', 'brown', 'blue'])\n",
    "\n",
    "plt.figure(figsize=(8, 8))\n",
    "plt.imshow(new_data, cmap=cmap, interpolation='nearest')\n",
    "plt.title('A polar bear')\n",
    "plt.axis('off')\n",
    "\n",
    "plt.show()"
   ]
  },
  {
   "cell_type": "markdown",
   "id": "e3eef328",
   "metadata": {},
   "source": [
    "I find the indexing of colormaps confusing. I think there should be a direct mapping of integers to colors. However, if you look at the new data, you can see that 0s have become 4s and 1s have become 3s, as expected."
   ]
  },
  {
   "cell_type": "code",
   "execution_count": 205,
   "id": "2348c933",
   "metadata": {},
   "outputs": [
    {
     "data": {
      "text/plain": [
       "array([0., 0., 0., 0., 0., 0., 0., 0., 0., 0., 0., 0., 0., 0., 0., 0., 0.,\n",
       "       0., 0., 0., 0., 0., 0., 0., 0., 0., 0., 0., 0., 0., 0., 0., 0., 0.,\n",
       "       0., 0., 0., 0., 0., 0., 0., 0., 0., 0., 0., 0., 0., 0., 0., 0., 1.,\n",
       "       1., 1., 1., 1., 1., 1., 1., 1., 1., 1., 1., 1., 1., 1., 1., 1., 1.,\n",
       "       1., 1., 1., 1., 1., 1., 1., 1., 1., 1., 1., 1., 1., 1., 1., 1., 1.,\n",
       "       1., 1., 1., 1., 1., 1., 1., 1., 1., 1., 1., 1., 1., 1., 1., 1., 1.,\n",
       "       1., 1., 1., 1., 1., 1., 1., 1., 1., 1., 1., 1., 1., 1., 1., 1., 1.,\n",
       "       1., 1., 1., 1., 1., 1., 1., 1., 1., 1., 1., 1., 1., 1., 1., 1., 1.,\n",
       "       1., 1., 1., 1., 1., 1., 1., 1., 1., 1., 1., 1., 1., 1., 0., 0., 0.,\n",
       "       0., 0., 0., 0., 0., 0., 0., 0., 0., 0., 0., 0., 0., 0., 0., 0., 0.,\n",
       "       0., 0., 0., 0., 0., 0., 0., 0., 0., 0., 0., 0., 0., 0., 0., 0., 0.,\n",
       "       0., 0., 0., 0., 0., 0., 0., 0., 0., 0., 0., 0., 0.])"
      ]
     },
     "execution_count": 205,
     "metadata": {},
     "output_type": "execute_result"
    }
   ],
   "source": [
    "data[50]"
   ]
  },
  {
   "cell_type": "code",
   "execution_count": 204,
   "id": "f8861f24",
   "metadata": {},
   "outputs": [
    {
     "data": {
      "text/plain": [
       "array([4., 4., 4., 4., 4., 4., 4., 4., 4., 4., 4., 4., 4., 4., 4., 4., 4.,\n",
       "       4., 4., 4., 4., 4., 4., 4., 4., 4., 4., 4., 4., 4., 4., 4., 4., 4.,\n",
       "       4., 4., 4., 4., 4., 4., 4., 4., 4., 4., 4., 4., 4., 4., 4., 4., 3.,\n",
       "       3., 3., 3., 3., 3., 3., 3., 3., 3., 3., 3., 3., 3., 3., 3., 3., 3.,\n",
       "       3., 3., 3., 3., 3., 3., 3., 3., 3., 3., 3., 3., 3., 3., 3., 3., 3.,\n",
       "       3., 3., 3., 3., 3., 3., 3., 3., 3., 3., 3., 3., 3., 3., 3., 3., 3.,\n",
       "       3., 3., 3., 3., 3., 3., 3., 3., 3., 3., 3., 3., 3., 3., 3., 3., 3.,\n",
       "       3., 3., 3., 3., 3., 3., 3., 3., 3., 3., 3., 3., 3., 3., 3., 3., 3.,\n",
       "       3., 3., 3., 3., 3., 3., 3., 3., 3., 3., 3., 3., 3., 3., 4., 4., 4.,\n",
       "       4., 4., 4., 4., 4., 4., 4., 4., 4., 4., 4., 4., 4., 4., 4., 4., 4.,\n",
       "       4., 4., 4., 4., 4., 4., 4., 4., 4., 4., 4., 4., 4., 4., 4., 4., 4.,\n",
       "       4., 4., 4., 4., 4., 4., 4., 4., 4., 4., 4., 4., 4.])"
      ]
     },
     "execution_count": 204,
     "metadata": {},
     "output_type": "execute_result"
    }
   ],
   "source": [
    "new_data[50]"
   ]
  },
  {
   "cell_type": "markdown",
   "id": "17e8b2ef",
   "metadata": {},
   "source": [
    "## DPS maximum recursion depth exceeded"
   ]
  },
  {
   "cell_type": "code",
   "execution_count": 214,
   "id": "055f0eb1",
   "metadata": {},
   "outputs": [
    {
     "name": "stdout",
     "output_type": "stream",
     "text": [
      "Opss!\n"
     ]
    }
   ],
   "source": [
    "try:\n",
    "    new_data = fill_dfs(data, 0, 0, 4)\n",
    "    new_data = fill_dfs(new_data, 50, 50, 3)\n",
    "except RecursionError:\n",
    "    print(\"Opss!\")"
   ]
  },
  {
   "cell_type": "markdown",
   "id": "d825c271",
   "metadata": {},
   "source": [
    "WARNING: this also increases the risk of a stack overflow.\\\n",
    "To solve this issue:"
   ]
  },
  {
   "cell_type": "code",
   "execution_count": 217,
   "id": "e15e75bc",
   "metadata": {},
   "outputs": [],
   "source": [
    "import sys "
   ]
  },
  {
   "cell_type": "code",
   "execution_count": 208,
   "id": "6576e9b4",
   "metadata": {},
   "outputs": [
    {
     "name": "stdout",
     "output_type": "stream",
     "text": [
      "Current recursion limit: 3000\n"
     ]
    }
   ],
   "source": [
    "# Check current recursion limit\n",
    "print(\"Current recursion limit:\", sys.getrecursionlimit())"
   ]
  },
  {
   "cell_type": "code",
   "execution_count": 215,
   "id": "ece7e58e",
   "metadata": {},
   "outputs": [
    {
     "name": "stdout",
     "output_type": "stream",
     "text": [
      "New recursion limit set to: 40000\n"
     ]
    }
   ],
   "source": [
    "# Set a new recursion limit\n",
    "sys.setrecursionlimit(200*200) #image is 200x200\n",
    "print(\"New recursion limit set to:\", sys.getrecursionlimit())"
   ]
  },
  {
   "cell_type": "code",
   "execution_count": 216,
   "id": "49b1c068",
   "metadata": {},
   "outputs": [],
   "source": [
    "new_data = fill_dfs(data, 0, 0, 4)\n",
    "new_data = fill_dfs(new_data, 50, 50, 3)"
   ]
  },
  {
   "cell_type": "code",
   "execution_count": null,
   "id": "19dca598",
   "metadata": {},
   "outputs": [],
   "source": []
  }
 ],
 "metadata": {
  "kernelspec": {
   "display_name": "Python 3 (ipykernel)",
   "language": "python",
   "name": "python3"
  },
  "language_info": {
   "codemirror_mode": {
    "name": "ipython",
    "version": 3
   },
   "file_extension": ".py",
   "mimetype": "text/x-python",
   "name": "python",
   "nbconvert_exporter": "python",
   "pygments_lexer": "ipython3",
   "version": "3.12.3"
  }
 },
 "nbformat": 4,
 "nbformat_minor": 5
}
