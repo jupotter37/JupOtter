{
 "cells": [
  {
   "cell_type": "markdown",
   "metadata": {},
   "source": [
    "# Cargar datos"
   ]
  },
  {
   "cell_type": "code",
   "execution_count": 1,
   "metadata": {},
   "outputs": [],
   "source": [
    "from modules import get_img_per_filter"
   ]
  },
  {
   "cell_type": "code",
   "execution_count": 2,
   "metadata": {},
   "outputs": [],
   "source": [
    "# Cargar data desde 1996 hasta 2010\n",
    "data = get_img_per_filter.filter_dict_1996\n",
    "a_1996 = get_img_per_filter.get_per_year(data)"
   ]
  },
  {
   "cell_type": "code",
   "execution_count": 3,
   "metadata": {},
   "outputs": [],
   "source": [
    "# Cargar data desde 2011 hasta 2019\n",
    "data2 = get_img_per_filter.filter_dict_2011\n",
    "a_2011 = get_img_per_filter.get_per_year(data2)"
   ]
  },
  {
   "cell_type": "code",
   "execution_count": 4,
   "metadata": {},
   "outputs": [],
   "source": [
    "def check_dates(data):\n",
    "    for i in data:\n",
    "        print(i[0])"
   ]
  },
  {
   "cell_type": "code",
   "execution_count": 5,
   "metadata": {},
   "outputs": [],
   "source": [
    "# Filtra aquellos valores None para la data de 1996 hasta 2010\n",
    "a_1996_mdiigr = a_1996['mdiigr']\n",
    "a_1996_mdiigr = [i for i in a_1996_mdiigr if i is not None]\n",
    "a_1996_mdiigr.sort(key=lambda x: x[0])\n",
    "\n",
    "a_1996_mdimag = a_1996['mdimag']\n",
    "a_1996_mdimag = [i for i in a_1996_mdimag if i is not None]\n",
    "a_1996_mdimag.sort(key=lambda x: x[0])"
   ]
  },
  {
   "cell_type": "code",
   "execution_count": 6,
   "metadata": {},
   "outputs": [],
   "source": [
    "# Filtra aquellos valores None para la data de 2010 hasta 2019\n",
    "a_2011_hmiigr = a_2011['hmiigr']\n",
    "a_2011_hmiigr = [i for i in a_2011_hmiigr if i is not None]\n",
    "a_2011_hmiigr.sort(key=lambda x: x[0])\n",
    "\n",
    "a_2011_hmimag = a_2011['hmimag']\n",
    "a_2011_hmimag = [i for i in a_2011_hmimag if i is not None]\n",
    "a_2011_hmimag.sort(key=lambda x: x[0])"
   ]
  },
  {
   "cell_type": "code",
   "execution_count": 68,
   "metadata": {},
   "outputs": [],
   "source": [
    "a_1996_2006_mdiigr = [ tpl for tpl in a_1996_mdiigr if int(tpl[0]) < 20070000]\n",
    "a_2011_2012_hmiigr = [ tpl for tpl in a_2011_hmiigr if int(tpl[0]) < 20130000 ]"
   ]
  },
  {
   "cell_type": "code",
   "execution_count": 40,
   "metadata": {},
   "outputs": [],
   "source": [
    "dato_test = a_2011_hmiigr[0]\n",
    "dato_test1 = a_2011_hmiigr[1]"
   ]
  },
  {
   "cell_type": "markdown",
   "metadata": {},
   "source": [
    "# Implementación PRE\n",
    "**importante:**\n",
    "\n",
    "Este espacio se dividirá en dos sección, la primera línea con todas las funciones y la segunda con todo el código para el funcionamiento del análisi"
   ]
  },
  {
   "cell_type": "markdown",
   "metadata": {
    "id": "20qkKF1rx0nA"
   },
   "source": [
    "## Paquetería\n"
   ]
  },
  {
   "cell_type": "code",
   "execution_count": 12,
   "metadata": {
    "id": "Y6BSTfC_h-zT"
   },
   "outputs": [],
   "source": [
    "# Paquetería\n",
    "import math\n",
    "import cv2\n",
    "import numpy as np\n",
    "import matplotlib.pyplot as plt\n",
    "from scipy.stats import entropy\n",
    "from skimage.feature import graycomatrix\n",
    "from scipy.stats import entropy\n",
    "import pandas as pd"
   ]
  },
  {
   "cell_type": "code",
   "execution_count": 13,
   "metadata": {
    "id": "jBxwUXQ4hfj4"
   },
   "outputs": [],
   "source": [
    "# Procesamiento de imagen process hmiigr512\n",
    "def process_hmiigr512(img, u_down, u_up):\n",
    "    \"\"\"\n",
    "    Lee una imagen, la convierte a escala de grises y filtra los valores dentro de un umbral.\n",
    "\n",
    "    Parámetros:\n",
    "    - image_path: str, ruta de la imagen.\n",
    "    - u_down: int, límite inferior del umbral.\n",
    "    - u_up: int, límite superior del umbral.\n",
    "\n",
    "    Retorna:\n",
    "    - img: Imagen original.\n",
    "    - gray_img: Imagen en escala de grises.\n",
    "    - imbn: Imagen binaria filtrada dentro del umbral.\n",
    "    \"\"\"\n",
    "    # Leer la imagen\n",
    "#     img = cv2.imread(img_path)\n",
    "\n",
    "#     if img is None:\n",
    "#         raise FileNotFoundError(f\"No found: {img}\")\n",
    "\n",
    "    # Limpieza de la etiqueta\n",
    "    x, y, w, h = 7, 495, 223, 10\n",
    "    vpixel = 0\n",
    "\n",
    "    # Crear una copia de la imagen original\n",
    "    img_modify = img.copy()\n",
    "\n",
    "    # Cambiar los valores de los píxeles en el área definida\n",
    "    img_modify[y:y+h, x:x+w] = vpixel\n",
    "\n",
    "    # Convertir a escala de grises\n",
    "    gray_img = cv2.cvtColor(img_modify, cv2.COLOR_BGR2GRAY)\n",
    "\n",
    "    # Filtrar los valores dentro del umbral\n",
    "    imbn = cv2.inRange(gray_img, u_down, u_up)\n",
    "\n",
    "    return img_modify, gray_img, imbn\n",
    "\n",
    "\n",
    "# Procesamiento de imagen process_mdiigr512\n",
    "def process_mdiigr512(img, u_down, u_up):\n",
    "    \"\"\"\n",
    "    Lee una imagen, la convierte a escala de grises y filtra los valores dentro de un umbral.\n",
    "\n",
    "    Parámetros:\n",
    "    - image_path: str, ruta de la imagen.\n",
    "    - u_down: int, límite inferior del umbral.\n",
    "    - u_up: int, límite superior del umbral.\n",
    "\n",
    "    Retorna:\n",
    "    - img: Imagen original.\n",
    "    - gray_img: Imagen en escala de grises.\n",
    "    - imbn: Imagen binaria filtrada dentro del umbral.\n",
    "    \"\"\"\n",
    "    # Leer la imagen\n",
    "#     img = cv2.imread(img_path)\n",
    "\n",
    "#     if img is None:\n",
    "#         raise FileNotFoundError(f\"No found: {img}\")\n",
    "\n",
    "    # Limpieza de la etiqueta\n",
    "    x, y, w, h = 1, 495, 183, 15\n",
    "    vpixel = 0\n",
    "\n",
    "    # Crear una copia de la imagen original\n",
    "    img_modify = img.copy()\n",
    "\n",
    "    # Cambiar los valores de los píxeles en el área definida\n",
    "    img_modify[y:y+h, x:x+w] = vpixel\n",
    "\n",
    "    # Convertir a escala de grises\n",
    "    gray_img = cv2.cvtColor(img_modify, cv2.COLOR_BGR2GRAY)\n",
    "\n",
    "    clean_gray = gray_img.copy()\n",
    "\n",
    "    # Limpiar el contorno\n",
    "    centro = (256, 256)  # Coordenadas (x, y)\n",
    "    radio = 248  # Radio de la circunferencia\n",
    "    valor_pixel = 255\n",
    "    grosor = 3\n",
    "\n",
    "    cv2.circle(clean_gray, centro, radio, valor_pixel, grosor)\n",
    "\n",
    "    # Filtrar los valores dentro del umbral\n",
    "    imbn = cv2.inRange(clean_gray, u_down, u_up)\n",
    "\n",
    "    return img_modify, clean_gray, imbn\n",
    "\n",
    "# Contador de pixel's\n",
    "def count_value(arr, value):\n",
    "    return np.sum(arr == value)\n",
    "\n",
    "\n",
    "# Función de optimización de entropía\n",
    "def calculate_glcm_entropy(image, distances, angles):\n",
    "    best_entropy = -np.inf\n",
    "    best_params = (None, None)\n",
    "\n",
    "    for d in distances:\n",
    "        for a in angles:\n",
    "            glcm = graycomatrix(image, distances=[d], angles=[a], symmetric=True, normed=True)\n",
    "            glcm_entropy = -np.sum(glcm * np.log2(glcm + (glcm == 0)))\n",
    "\n",
    "            if glcm_entropy > best_entropy:\n",
    "                best_entropy = glcm_entropy\n",
    "                best_params = (d, a)\n",
    "\n",
    "    return best_params, best_entropy"
   ]
  },
  {
   "cell_type": "code",
   "execution_count": 14,
   "metadata": {
    "id": "CAnNLuki8M2Z"
   },
   "outputs": [],
   "source": [
    "def plot_image_processing(img, format, u_down, u_up):\n",
    "\n",
    "    # Escoger el formato\n",
    "    if format == \"mdiigr\":\n",
    "        image, gray_image, filter_image = process_mdiigr512(img, u_down, u_up)\n",
    "    elif format == \"hmiigr\":\n",
    "        image, gray_image, filter_image = process_hmiigr512(img, u_down, u_up)\n",
    "    else:\n",
    "        raise ValueError(\"Unsupported format\")\n",
    "\n",
    "    # Histograma\n",
    "    hist = cv2.calcHist([gray_image], [0], None, [256], [0, 256])\n",
    "\n",
    "    # Graficar\n",
    "    plt.figure(figsize=(12.8, 9.6))\n",
    "\n",
    "    plt.subplot(221)\n",
    "    plt.imshow(gray_image, cmap=\"gray\")\n",
    "    plt.title(\"Escala de grises\")\n",
    "\n",
    "    plt.subplot(222)\n",
    "    plt.plot(hist)\n",
    "    plt.plot([u_down, u_down], [0, max(hist.flatten())], \"r\", label=f'Línea en {u_down}')\n",
    "    plt.plot([u_up, u_up], [0, max(hist.flatten())], \"r\", label=f'Línea en {u_up}')\n",
    "    plt.ylim([0, 100])\n",
    "    plt.grid(\"on\")\n",
    "    plt.title(\"Ocurrencia de bines\")\n",
    "\n",
    "    plt.subplot(223)\n",
    "    plt.imshow(filter_image, cmap=\"gray\")\n",
    "    plt.title(\"Sunspot\")\n",
    "\n",
    "    plt.show()"
   ]
  },
  {
   "cell_type": "code",
   "execution_count": 15,
   "metadata": {
    "id": "GCwZF2mecgIq"
   },
   "outputs": [],
   "source": [
    "# Función para procesar la imagen con limpieza de la etiqueta y umbralización\n",
    "def process_image1024(img, u_down, u_up):\n",
    "    # Leer la imagen\n",
    "#     img = cv2.imread(image_path)\n",
    "\n",
    "#     if img is None:\n",
    "#         raise FileNotFoundError(f\"No se encontró la imagen: {image_path}\")\n",
    "\n",
    "    # Limpieza de la etiqueta\n",
    "    x, y, w, h = 15, 996, 331, 12\n",
    "    vpixel = 0\n",
    "\n",
    "    # Crear una copia de la imagen original\n",
    "    img_modify = img.copy()\n",
    "\n",
    "    # Cambiar los valores de los píxeles en el área definida\n",
    "    img_modify[y:y+h, x:x+w] = vpixel\n",
    "\n",
    "    # Convertir a escala de grises\n",
    "    gray_img = cv2.cvtColor(img_modify, cv2.COLOR_BGR2GRAY)\n",
    "\n",
    "    # Filtrar los valores dentro del umbral\n",
    "    imbn = cv2.inRange(gray_img, u_down, u_up)\n",
    "\n",
    "    return img_modify, gray_img, imbn\n",
    "\n",
    "# Función para calcular la dimensión fractal usando el método de conteo de cajas\n",
    "def box_count(img, k):\n",
    "    S = np.add.reduceat(\n",
    "        np.add.reduceat(img, np.arange(0, img.shape[0], k), axis=0),\n",
    "        np.arange(0, img.shape[1], k), axis=1)\n",
    "    return len(np.where((S > 0) & (S < k*k))[0])\n",
    "\n",
    "def fractal_dimension(img):\n",
    "    # Tamaños de las cajas en función del tamaño de la imagen\n",
    "    min_size = 2\n",
    "    max_size = min(img.shape) // 2\n",
    "    sizes = np.logspace(np.log2(min_size), np.log2(max_size), num=10, base=2, dtype=int)\n",
    "    sizes = sizes[sizes > 1]\n",
    "\n",
    "    counts = []\n",
    "    for size in sizes:\n",
    "        count = box_count(img, size)\n",
    "        if count > 0:  # Asegurarse de que count no sea cero\n",
    "            counts.append(count)\n",
    "        else:\n",
    "            counts.append(1)  # Evitar división por cero\n",
    "\n",
    "    # Verificar los valores calculados\n",
    "#     print(f\"Tamaños de caja (S): {sizes}\")\n",
    "#     print(f\"Conteos (N): {counts}\")\n",
    "\n",
    "    if len(counts) < 2:\n",
    "        return np.nan  # No se puede calcular la dimensión fractal con menos de dos tamaños de cajas válidos\n",
    "\n",
    "    log_sizes = np.log(sizes)\n",
    "    log_counts = np.log(counts)\n",
    "\n",
    "    # Verificar los valores de logaritmos\n",
    "    #print(f\"Logaritmo de tamaños de caja (log S): {log_sizes}\")\n",
    "    #print(f\"Logaritmo de conteos (log N): {log_counts}\")\n",
    "\n",
    "    # Calcular la dimensión fractal usando la relación directa\n",
    "    coeffs = np.polyfit(log_sizes, log_counts, 1)\n",
    "    return coeffs[0]\n",
    "\n",
    "# Procesar una sola imagen y calcular la dimensión fractal utilizando la imagen binaria\n",
    "def process_single_image(imbn):\n",
    "    fractal_dim = fractal_dimension(imbn)\n",
    "    img_resized = cv2.resize(imbn, (64, 64)).flatten()\n",
    "    return fractal_dim, img_resized"
   ]
  },
  {
   "cell_type": "code",
   "execution_count": 16,
   "metadata": {
    "id": "D35tqVoN-OiK"
   },
   "outputs": [],
   "source": [
    "def extract_values(img, format, u_down, u_up):\n",
    "\n",
    "    if format == \"mdiigr\":\n",
    "        image, gray_image, filter_image = process_mdiigr512(img, u_down, u_up)\n",
    "    elif format == \"hmiigr\":\n",
    "        image, gray_image, filter_image = process_hmiigr512(img, u_down, u_up)\n",
    "    else:\n",
    "        raise ValueError(\"Unsupported format\")\n",
    "\n",
    "    # Contar los pixeles blancos asociados a los sunspot\n",
    "    count = count_value(filter_image, 255)\n",
    "\n",
    "    # Define distances and angles\n",
    "    distances = [1, 2, 3, 4, 5]\n",
    "    angles = [0, np.pi/4, np.pi/2, 3*np.pi/4]\n",
    "\n",
    "    # Encontrar los mejores parámetros para la imagen en escala de grises\n",
    "    best_params_g, best_entropy_g = calculate_glcm_entropy(gray_image, distances, angles)\n",
    "    grad_g = math.degrees(best_params_g[1])\n",
    "\n",
    "    # Encontrar los mejores parámetros para la imagen filtrada\n",
    "    best_params_f, best_entropy_f = calculate_glcm_entropy(filter_image, distances, angles)\n",
    "    grad_f = math.degrees(best_params_f[1])\n",
    "\n",
    "    # D-FRACTAL de datos filtrados\n",
    "    d_fractal_f, img_resized = process_single_image(filter_image)\n",
    "\n",
    "    # Crear DataFrame\n",
    "    data = {\n",
    "        \"n_pixel\": [count],\n",
    "        \"B_entropy_g\": [best_entropy_g],\n",
    "        \"B_entropy_f\": [best_entropy_f],\n",
    "        \"D_fractal\": [d_fractal_f]\n",
    "    }\n",
    "\n",
    "    df = pd.DataFrame(data)\n",
    "\n",
    "    return df"
   ]
  },
  {
   "cell_type": "markdown",
   "metadata": {
    "id": "E7Sm646fi1Rc"
   },
   "source": [
    "## Pasos"
   ]
  },
  {
   "cell_type": "markdown",
   "metadata": {
    "id": "GhlqPJCMtg5j"
   },
   "source": [
    "Pasos:\n",
    "1. Leer la img\n",
    "1. Limpiar la img (quitar la etiqueta )\n",
    "2. Establer filtros\n",
    "3. histograma\n",
    "4. graficar + filtrado\n",
    "5. contar pixel's = 255 de filtrado\n",
    "6. Obtener la entropía a partir de una optimziación\n",
    "7. Obtener la fractalidad de la imagen"
   ]
  },
  {
   "cell_type": "markdown",
   "metadata": {},
   "source": [
    "\n",
    "---\n",
    "\n",
    "\n",
    "## Prueba directamente del img"
   ]
  },
  {
   "cell_type": "code",
   "execution_count": 151,
   "metadata": {},
   "outputs": [],
   "source": [
    "def get_ind_dataFrame(tpl_img, format, u_down, u_up):\n",
    "    img = tpl_img[1]\n",
    "    date = tpl_img[0]\n",
    "    \n",
    "    image, gray_image, filter_image = process_hmiigr512(img ,u_down, u_up)\n",
    "    dff = extract_values(img,formato, u_down, u_up)\n",
    "    dff['date'] = date\n",
    "    columns = ['date'] + [col for col in dff.columns if col != 'date']\n",
    "    dff = dff[columns]\n",
    "    return dff\n",
    "    \n",
    "def get_dataFrame(list_tpl_img, format, u_down, u_up):   \n",
    "    columns = ['date','n_pixel', 'B_entropy_g', 'B_entropy_f', 'D_fractal']\n",
    "    df = pd.DataFrame(columns=columns)\n",
    "    \n",
    "    for tpl_img in list_tpl_img:\n",
    "        temp = get_ind_dataFrame(tpl_img, format, u_down, u_up)\n",
    "        df = df.append(temp, ignore_index=True)\n",
    "    \n",
    "    return df\n",
    "    "
   ]
  },
  {
   "cell_type": "code",
   "execution_count": 150,
   "metadata": {},
   "outputs": [
    {
     "data": {
      "text/html": [
       "<div>\n",
       "<style scoped>\n",
       "    .dataframe tbody tr th:only-of-type {\n",
       "        vertical-align: middle;\n",
       "    }\n",
       "\n",
       "    .dataframe tbody tr th {\n",
       "        vertical-align: top;\n",
       "    }\n",
       "\n",
       "    .dataframe thead th {\n",
       "        text-align: right;\n",
       "    }\n",
       "</style>\n",
       "<table border=\"1\" class=\"dataframe\">\n",
       "  <thead>\n",
       "    <tr style=\"text-align: right;\">\n",
       "      <th></th>\n",
       "      <th>date</th>\n",
       "      <th>n_pixel</th>\n",
       "      <th>B_entropy_g</th>\n",
       "      <th>B_entropy_f</th>\n",
       "      <th>D_fractal</th>\n",
       "    </tr>\n",
       "  </thead>\n",
       "  <tbody>\n",
       "    <tr>\n",
       "      <th>0</th>\n",
       "      <td>20110101</td>\n",
       "      <td>87</td>\n",
       "      <td>6.848817</td>\n",
       "      <td>0.008735</td>\n",
       "      <td>0.229717</td>\n",
       "    </tr>\n",
       "    <tr>\n",
       "      <th>1</th>\n",
       "      <td>20110102</td>\n",
       "      <td>117</td>\n",
       "      <td>6.856686</td>\n",
       "      <td>0.011328</td>\n",
       "      <td>0.312836</td>\n",
       "    </tr>\n",
       "  </tbody>\n",
       "</table>\n",
       "</div>"
      ],
      "text/plain": [
       "       date  n_pixel  B_entropy_g  B_entropy_f  D_fractal\n",
       "0  20110101       87     6.848817     0.008735   0.229717\n",
       "1  20110102      117     6.856686     0.011328   0.312836"
      ]
     },
     "execution_count": 150,
     "metadata": {},
     "output_type": "execute_result"
    }
   ],
   "source": [
    "formato=\"hmiigr\"\n",
    "u_down=80\n",
    "u_up=180\n",
    "\n",
    "# Imagen\n",
    "tpl_img1 = dato_test\n",
    "# procesamiento\n",
    "a = get_ind_dataFrame(tpl_img1, formato,u_down,u_up )\n",
    "\n",
    "# Imagen\n",
    "tpl_img2 = dato_test1\n",
    "# procesamiento\n",
    "b = get_ind_dataFrame(tpl_img2, formato,u_down,u_up )\n",
    "\n",
    "a.append(b, ignore_index=True)\n"
   ]
  },
  {
   "cell_type": "code",
   "execution_count": 152,
   "metadata": {},
   "outputs": [
    {
     "ename": "RecursionError",
     "evalue": "maximum recursion depth exceeded while calling a Python object",
     "output_type": "error",
     "traceback": [
      "\u001b[0;31m---------------------------------------------------------------------------\u001b[0m",
      "\u001b[0;31mRecursionError\u001b[0m                            Traceback (most recent call last)",
      "\u001b[0;32m/tmp/ipykernel_1498858/3502588305.py\u001b[0m in \u001b[0;36m<module>\u001b[0;34m\u001b[0m\n\u001b[0;32m----> 1\u001b[0;31m \u001b[0mresults_2011_2012_hmiigr\u001b[0m \u001b[0;34m=\u001b[0m \u001b[0mget_dataFrame\u001b[0m\u001b[0;34m(\u001b[0m\u001b[0ma_2011_2012_hmiigr\u001b[0m\u001b[0;34m,\u001b[0m \u001b[0mformato\u001b[0m\u001b[0;34m,\u001b[0m \u001b[0mu_down\u001b[0m\u001b[0;34m,\u001b[0m \u001b[0mu_up\u001b[0m\u001b[0;34m)\u001b[0m\u001b[0;34m\u001b[0m\u001b[0;34m\u001b[0m\u001b[0m\n\u001b[0m",
      "\u001b[0;32m/tmp/ipykernel_1498858/2283044036.py\u001b[0m in \u001b[0;36mget_dataFrame\u001b[0;34m(list_tpl_img, format, u_down, u_up)\u001b[0m\n\u001b[1;32m     15\u001b[0m \u001b[0;34m\u001b[0m\u001b[0m\n\u001b[1;32m     16\u001b[0m     \u001b[0;32mfor\u001b[0m \u001b[0mtpl_img\u001b[0m \u001b[0;32min\u001b[0m \u001b[0mlist_tpl_img\u001b[0m\u001b[0;34m:\u001b[0m\u001b[0;34m\u001b[0m\u001b[0;34m\u001b[0m\u001b[0m\n\u001b[0;32m---> 17\u001b[0;31m         \u001b[0mtemp\u001b[0m \u001b[0;34m=\u001b[0m \u001b[0mget_dataFrame\u001b[0m\u001b[0;34m(\u001b[0m\u001b[0mtpl_img\u001b[0m\u001b[0;34m,\u001b[0m \u001b[0mformat\u001b[0m\u001b[0;34m,\u001b[0m \u001b[0mu_down\u001b[0m\u001b[0;34m,\u001b[0m \u001b[0mu_up\u001b[0m\u001b[0;34m)\u001b[0m\u001b[0;34m\u001b[0m\u001b[0;34m\u001b[0m\u001b[0m\n\u001b[0m\u001b[1;32m     18\u001b[0m         \u001b[0mdf\u001b[0m \u001b[0;34m=\u001b[0m \u001b[0mdf\u001b[0m\u001b[0;34m.\u001b[0m\u001b[0mappend\u001b[0m\u001b[0;34m(\u001b[0m\u001b[0mtemp\u001b[0m\u001b[0;34m,\u001b[0m \u001b[0mignore_index\u001b[0m\u001b[0;34m=\u001b[0m\u001b[0;32mTrue\u001b[0m\u001b[0;34m)\u001b[0m\u001b[0;34m\u001b[0m\u001b[0;34m\u001b[0m\u001b[0m\n\u001b[1;32m     19\u001b[0m \u001b[0;34m\u001b[0m\u001b[0m\n",
      "... last 1 frames repeated, from the frame below ...\n",
      "\u001b[0;32m/tmp/ipykernel_1498858/2283044036.py\u001b[0m in \u001b[0;36mget_dataFrame\u001b[0;34m(list_tpl_img, format, u_down, u_up)\u001b[0m\n\u001b[1;32m     15\u001b[0m \u001b[0;34m\u001b[0m\u001b[0m\n\u001b[1;32m     16\u001b[0m     \u001b[0;32mfor\u001b[0m \u001b[0mtpl_img\u001b[0m \u001b[0;32min\u001b[0m \u001b[0mlist_tpl_img\u001b[0m\u001b[0;34m:\u001b[0m\u001b[0;34m\u001b[0m\u001b[0;34m\u001b[0m\u001b[0m\n\u001b[0;32m---> 17\u001b[0;31m         \u001b[0mtemp\u001b[0m \u001b[0;34m=\u001b[0m \u001b[0mget_dataFrame\u001b[0m\u001b[0;34m(\u001b[0m\u001b[0mtpl_img\u001b[0m\u001b[0;34m,\u001b[0m \u001b[0mformat\u001b[0m\u001b[0;34m,\u001b[0m \u001b[0mu_down\u001b[0m\u001b[0;34m,\u001b[0m \u001b[0mu_up\u001b[0m\u001b[0;34m)\u001b[0m\u001b[0;34m\u001b[0m\u001b[0;34m\u001b[0m\u001b[0m\n\u001b[0m\u001b[1;32m     18\u001b[0m         \u001b[0mdf\u001b[0m \u001b[0;34m=\u001b[0m \u001b[0mdf\u001b[0m\u001b[0;34m.\u001b[0m\u001b[0mappend\u001b[0m\u001b[0;34m(\u001b[0m\u001b[0mtemp\u001b[0m\u001b[0;34m,\u001b[0m \u001b[0mignore_index\u001b[0m\u001b[0;34m=\u001b[0m\u001b[0;32mTrue\u001b[0m\u001b[0;34m)\u001b[0m\u001b[0;34m\u001b[0m\u001b[0;34m\u001b[0m\u001b[0m\n\u001b[1;32m     19\u001b[0m \u001b[0;34m\u001b[0m\u001b[0m\n",
      "\u001b[0;31mRecursionError\u001b[0m: maximum recursion depth exceeded while calling a Python object"
     ]
    }
   ],
   "source": [
    "results_2011_2012_hmiigr = get_dataFrame(a_2011_2012_hmiigr, formato, u_down, u_up)"
   ]
  },
  {
   "cell_type": "code",
   "execution_count": null,
   "metadata": {},
   "outputs": [],
   "source": []
  },
  {
   "cell_type": "markdown",
   "metadata": {
    "id": "rHeFyr_RAxNu"
   },
   "source": [
    "# Prueba final de función (desde path)"
   ]
  },
  {
   "cell_type": "code",
   "execution_count": 28,
   "metadata": {
    "colab": {
     "base_uri": "https://localhost:8080/",
     "height": 891
    },
    "id": "-Sk9Dq_IAw1U",
    "outputId": "4279ae84-6eb1-4973-c9bb-b7e6f8c4615f"
   },
   "outputs": [
    {
     "ename": "AttributeError",
     "evalue": "'str' object has no attribute 'copy'",
     "output_type": "error",
     "traceback": [
      "\u001b[0;31m---------------------------------------------------------------------------\u001b[0m",
      "\u001b[0;31mAttributeError\u001b[0m                            Traceback (most recent call last)",
      "\u001b[0;32m/tmp/ipykernel_1498858/2901342189.py\u001b[0m in \u001b[0;36m<module>\u001b[0;34m\u001b[0m\n\u001b[1;32m      7\u001b[0m \u001b[0;34m\u001b[0m\u001b[0m\n\u001b[1;32m      8\u001b[0m \u001b[0;31m# procesamiento\u001b[0m\u001b[0;34m\u001b[0m\u001b[0;34m\u001b[0m\u001b[0;34m\u001b[0m\u001b[0m\n\u001b[0;32m----> 9\u001b[0;31m \u001b[0mimage\u001b[0m\u001b[0;34m,\u001b[0m \u001b[0mgray_image\u001b[0m\u001b[0;34m,\u001b[0m \u001b[0mfilter_image\u001b[0m \u001b[0;34m=\u001b[0m \u001b[0mprocess_hmiigr512\u001b[0m\u001b[0;34m(\u001b[0m\u001b[0mimagepath\u001b[0m \u001b[0;34m,\u001b[0m\u001b[0mu_down\u001b[0m\u001b[0;34m,\u001b[0m \u001b[0mu_up\u001b[0m\u001b[0;34m)\u001b[0m\u001b[0;34m\u001b[0m\u001b[0;34m\u001b[0m\u001b[0m\n\u001b[0m\u001b[1;32m     10\u001b[0m \u001b[0;34m\u001b[0m\u001b[0m\n\u001b[1;32m     11\u001b[0m \u001b[0;31m# Histograma\u001b[0m\u001b[0;34m\u001b[0m\u001b[0;34m\u001b[0m\u001b[0;34m\u001b[0m\u001b[0m\n",
      "\u001b[0;32m/tmp/ipykernel_1498858/814094622.py\u001b[0m in \u001b[0;36mprocess_hmiigr512\u001b[0;34m(img, u_down, u_up)\u001b[0m\n\u001b[1;32m     25\u001b[0m \u001b[0;34m\u001b[0m\u001b[0m\n\u001b[1;32m     26\u001b[0m     \u001b[0;31m# Crear una copia de la imagen original\u001b[0m\u001b[0;34m\u001b[0m\u001b[0;34m\u001b[0m\u001b[0;34m\u001b[0m\u001b[0m\n\u001b[0;32m---> 27\u001b[0;31m     \u001b[0mimg_modify\u001b[0m \u001b[0;34m=\u001b[0m \u001b[0mimg\u001b[0m\u001b[0;34m.\u001b[0m\u001b[0mcopy\u001b[0m\u001b[0;34m(\u001b[0m\u001b[0;34m)\u001b[0m\u001b[0;34m\u001b[0m\u001b[0;34m\u001b[0m\u001b[0m\n\u001b[0m\u001b[1;32m     28\u001b[0m \u001b[0;34m\u001b[0m\u001b[0m\n\u001b[1;32m     29\u001b[0m     \u001b[0;31m# Cambiar los valores de los píxeles en el área definida\u001b[0m\u001b[0;34m\u001b[0m\u001b[0;34m\u001b[0m\u001b[0;34m\u001b[0m\u001b[0m\n",
      "\u001b[0;31mAttributeError\u001b[0m: 'str' object has no attribute 'copy'"
     ]
    }
   ],
   "source": [
    "# Imagen\n",
    "imagepath = \"./images_202401/20240101_1200_hmiigr_512.jpg\"\n",
    "formato=\"hmiigr\"\n",
    "# filtros\n",
    "u_down=80\n",
    "u_up=180\n",
    "\n",
    "# procesamiento\n",
    "image, gray_image, filter_image = process_hmiigr512(imagepath ,u_down, u_up)\n",
    "\n",
    "# Histograma\n",
    "#hist = cv2.calcHist([gray_image],[0],None,[256],[0,256])\n",
    "\n",
    "# Graficar\n",
    "#plot_image_processing(imagepath,formato, u_down, u_up)\n",
    "\n",
    "df = extract_values(imagepath,formato, u_down, u_up)\n",
    "print(df)"
   ]
  },
  {
   "cell_type": "code",
   "execution_count": null,
   "metadata": {
    "colab": {
     "base_uri": "https://localhost:8080/",
     "height": 891
    },
    "id": "XmJkC7yiC0zC",
    "outputId": "6adbc802-a288-4c07-f475-1be096b3b97a"
   },
   "outputs": [],
   "source": [
    "# Imagen\n",
    "imagepath = \"./images_202401/20040107_1241_mdiigr_512.jpg\"\n",
    "format=\"mdiigr\"\n",
    "# filtros\n",
    "u_down=50\n",
    "u_up=150\n",
    "\n",
    "# procesamiento\n",
    "image, gray_image, filter_image = process_mdiigr512(imagepath, u_down, u_up)\n",
    "\n",
    "# Histograma\n",
    "hist = cv2.calcHist([gray_image],[0],None,[256],[0,256])\n",
    "\n",
    "# Graficar\n",
    "plot_image_processing(imagepath,format, u_down, u_up)\n",
    "\n",
    "df = extract_values(imagepath,format, u_down, u_up)\n",
    "print(df)"
   ]
  }
 ],
 "metadata": {
  "colab": {
   "collapsed_sections": [
    "DnWFxptvGEug",
    "QtCEcXOXePS4",
    "mID0iB7GnGal"
   ],
   "provenance": []
  },
  "kernelspec": {
   "display_name": "Python 3 (ipykernel)",
   "language": "python",
   "name": "python3"
  },
  "language_info": {
   "codemirror_mode": {
    "name": "ipython",
    "version": 3
   },
   "file_extension": ".py",
   "mimetype": "text/x-python",
   "name": "python",
   "nbconvert_exporter": "python",
   "pygments_lexer": "ipython3",
   "version": "3.8.12"
  }
 },
 "nbformat": 4,
 "nbformat_minor": 1
}
