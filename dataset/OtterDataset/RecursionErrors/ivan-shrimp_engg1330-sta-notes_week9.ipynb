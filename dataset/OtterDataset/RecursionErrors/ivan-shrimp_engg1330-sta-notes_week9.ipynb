{
    "metadata": {
        "kernelspec": {
            "name": "python3",
            "display_name": "Python 3 (ipykernel)",
            "language": "python"
        }
    },
    "nbformat": 4,
    "nbformat_minor": 2,
    "cells": [
        {
            "attachments": {},
            "cell_type": "markdown",
            "metadata": {},
            "source": [
                "# Week 9 - Functions\n",
                "\n",
                "The following has been discussed in class and is now available for your reference.\n",
                "\n",
                "We went through brief examples of function definition and usage."
            ]
        },
        {
            "cell_type": "code",
            "execution_count": 1,
            "metadata": {},
            "outputs": [
                {
                    "data": {
                        "text/plain": "144"
                    },
                    "execution_count": 1,
                    "metadata": {},
                    "output_type": "execute_result"
                }
            ],
            "source": [
                "def fun(a, b):\n",
                "    return a * b * b\n",
                "\n",
                "fun(1 + 3, 2 + 4)"
            ]
        },
        {
            "cell_type": "code",
            "execution_count": 2,
            "metadata": {},
            "outputs": [
                {
                    "data": {
                        "text/plain": "9"
                    },
                    "execution_count": 2,
                    "metadata": {},
                    "output_type": "execute_result"
                }
            ],
            "source": [
                "def fun(a, b=3):\n",
                "    return a + b\n",
                "\n",
                "fun(fun(1), fun(2))"
            ]
        },
        {
            "cell_type": "code",
            "execution_count": 3,
            "metadata": {},
            "outputs": [
                {
                    "data": {
                        "text/plain": "'ABB'"
                    },
                    "execution_count": 3,
                    "metadata": {},
                    "output_type": "execute_result"
                }
            ],
            "source": [
                "def fun(a, b, c):\n",
                "    return min(a) + min(b, c)\n",
                "\n",
                "fun('Aa', 'BB', 'aa')"
            ]
        },
        {
            "cell_type": "code",
            "execution_count": 4,
            "metadata": {},
            "outputs": [
                {
                    "data": {
                        "text/plain": "8"
                    },
                    "execution_count": 4,
                    "metadata": {},
                    "output_type": "execute_result"
                }
            ],
            "source": [
                "def fun(a, b=3):\n",
                "    if a \u003c 1:\n",
                "        return 1\n",
                "    else:\n",
                "        return 2 * fun(a-b, b)\n",
                "\n",
                "fun(8)\n",
                "\n",
                "# fun(8, 3)\n",
                "#   2 * fun(5, 3)\n",
                "#   2 * (2 * fun(2, 3))\n",
                "#   2 * (2 * (2 * fun(-1, 3)))\n",
                "#   2 * (2 * (2 * 1))"
            ]
        },
        {
            "cell_type": "code",
            "execution_count": 5,
            "metadata": {},
            "outputs": [
                {
                    "data": {
                        "text/plain": "54"
                    },
                    "execution_count": 5,
                    "metadata": {},
                    "output_type": "execute_result"
                }
            ],
            "source": [
                "def fun(a):\n",
                "    if a \u003e 3:\n",
                "        return fun(a-1) * fun(a-3)\n",
                "    else:\n",
                "        return a\n",
                "\n",
                "fun(7)"
            ]
        },
        {
            "cell_type": "code",
            "execution_count": 6,
            "metadata": {},
            "outputs": [
                {
                    "ename": "RecursionError",
                    "evalue": "maximum recursion depth exceeded",
                    "output_type": "error",
                    "traceback": [
                        "\u001b[0;31m---------------------------------------------------------------------------\u001b[0m",
                        "\u001b[0;31mRecursionError\u001b[0m                            Traceback (most recent call last)",
                        "Cell \u001b[0;32mIn[1], line 4\u001b[0m\n\u001b[1;32m      1\u001b[0m \u001b[38;5;28;01mdef\u001b[39;00m \u001b[38;5;21mfun\u001b[39m(a):\n\u001b[1;32m      2\u001b[0m     \u001b[38;5;28;01mreturn\u001b[39;00m fun(a\u001b[38;5;241m-\u001b[39m\u001b[38;5;241m1\u001b[39m) \u001b[38;5;241m+\u001b[39m \u001b[38;5;241m1\u001b[39m\n\u001b[0;32m----\u003e 4\u001b[0m \u001b[43mfun\u001b[49m\u001b[43m(\u001b[49m\u001b[38;5;241;43m10\u001b[39;49m\u001b[43m)\u001b[49m\n",
                        "Cell \u001b[0;32mIn[1], line 2\u001b[0m, in \u001b[0;36mfun\u001b[0;34m(a)\u001b[0m\n\u001b[1;32m      1\u001b[0m \u001b[38;5;28;01mdef\u001b[39;00m \u001b[38;5;21mfun\u001b[39m(a):\n\u001b[0;32m----\u003e 2\u001b[0m     \u001b[38;5;28;01mreturn\u001b[39;00m \u001b[43mfun\u001b[49m\u001b[43m(\u001b[49m\u001b[43ma\u001b[49m\u001b[38;5;241;43m-\u001b[39;49m\u001b[38;5;241;43m1\u001b[39;49m\u001b[43m)\u001b[49m \u001b[38;5;241m+\u001b[39m \u001b[38;5;241m1\u001b[39m\n",
                        "Cell \u001b[0;32mIn[1], line 2\u001b[0m, in \u001b[0;36mfun\u001b[0;34m(a)\u001b[0m\n\u001b[1;32m      1\u001b[0m \u001b[38;5;28;01mdef\u001b[39;00m \u001b[38;5;21mfun\u001b[39m(a):\n\u001b[0;32m----\u003e 2\u001b[0m     \u001b[38;5;28;01mreturn\u001b[39;00m \u001b[43mfun\u001b[49m\u001b[43m(\u001b[49m\u001b[43ma\u001b[49m\u001b[38;5;241;43m-\u001b[39;49m\u001b[38;5;241;43m1\u001b[39;49m\u001b[43m)\u001b[49m \u001b[38;5;241m+\u001b[39m \u001b[38;5;241m1\u001b[39m\n",
                        "    \u001b[0;31m[... skipping similar frames: fun at line 2 (2974 times)]\u001b[0m\n",
                        "Cell \u001b[0;32mIn[1], line 2\u001b[0m, in \u001b[0;36mfun\u001b[0;34m(a)\u001b[0m\n\u001b[1;32m      1\u001b[0m \u001b[38;5;28;01mdef\u001b[39;00m \u001b[38;5;21mfun\u001b[39m(a):\n\u001b[0;32m----\u003e 2\u001b[0m     \u001b[38;5;28;01mreturn\u001b[39;00m \u001b[43mfun\u001b[49m\u001b[43m(\u001b[49m\u001b[43ma\u001b[49m\u001b[38;5;241;43m-\u001b[39;49m\u001b[38;5;241;43m1\u001b[39;49m\u001b[43m)\u001b[49m \u001b[38;5;241m+\u001b[39m \u001b[38;5;241m1\u001b[39m\n",
                        "\u001b[0;31mRecursionError\u001b[0m: maximum recursion depth exceeded"
                    ]
                }
            ],
            "source": [
                "def fun(a):\n",
                "    return fun(a-1) + 1\n",
                "\n",
                "fun(10)"
            ]
        },
        {
            "cell_type": "code",
            "execution_count": 7,
            "metadata": {},
            "outputs": [
                {
                    "name": "stdout",
                    "output_type": "stream",
                    "text": "[13, 9, 5, 1]\n"
                }
            ],
            "source": [
                "def fun(a, b):\n",
                "    if len(b) \u003c 2:\n",
                "        return\n",
                "    fun(a, b[2:])\n",
                "    a.append(b[0])\n",
                "\n",
                "x = []\n",
                "fun(x, [1, 3, 5, 7, 9, 11, 13, 15])\n",
                "print(x)"
            ]
        },
        {
            "cell_type": "code",
            "execution_count": 8,
            "metadata": {},
            "outputs": [
                {
                    "data": {
                        "text/plain": "[3, 4]"
                    },
                    "execution_count": 8,
                    "metadata": {},
                    "output_type": "execute_result"
                }
            ],
            "source": [
                "a = []\n",
                "def fun(x):\n",
                "    a.append(x)\n",
                "\n",
                "fun(3)\n",
                "fun(4)\n",
                "a"
            ]
        },
        {
            "cell_type": "code",
            "execution_count": 9,
            "metadata": {},
            "outputs": [
                {
                    "data": {
                        "text/plain": "[]"
                    },
                    "execution_count": 9,
                    "metadata": {},
                    "output_type": "execute_result"
                }
            ],
            "source": [
                "a = []\n",
                "\n",
                "def fun(x):\n",
                "    a = []\n",
                "    a.append(x)\n",
                "\n",
                "fun(3)\n",
                "fun(4)\n",
                "a"
            ]
        },
        {
            "cell_type": "code",
            "execution_count": 10,
            "metadata": {},
            "outputs": [
                {
                    "data": {
                        "text/plain": "[]"
                    },
                    "execution_count": 10,
                    "metadata": {},
                    "output_type": "execute_result"
                }
            ],
            "source": [
                "a = []\n",
                "\n",
                "def fun(x, a=[]):\n",
                "    a.append(x)\n",
                "\n",
                "fun(3)\n",
                "fun(4)\n",
                "a"
            ]
        },
        {
            "cell_type": "code",
            "execution_count": 11,
            "metadata": {},
            "outputs": [
                {
                    "name": "stdout",
                    "output_type": "stream",
                    "text": "[3]\n[3, 4]\n"
                },
                {
                    "data": {
                        "text/plain": "[]"
                    },
                    "execution_count": 11,
                    "metadata": {},
                    "output_type": "execute_result"
                }
            ],
            "source": [
                "a = []\n",
                "\n",
                "def fun(x, a=[]):\n",
                "    a.append(x)\n",
                "    print(a)\n",
                "\n",
                "fun(3)\n",
                "fun(4)\n",
                "a"
            ]
        },
        {
            "cell_type": "code",
            "execution_count": 12,
            "metadata": {},
            "outputs": [
                {
                    "name": "stdout",
                    "output_type": "stream",
                    "text": "(1, 3, 7)\n"
                }
            ],
            "source": [
                "def fun(*a):\n",
                "    print(a)\n",
                "\n",
                "fun(1, 3, 7)"
            ]
        },
        {
            "cell_type": "code",
            "execution_count": 13,
            "metadata": {},
            "outputs": [
                {
                    "name": "stdout",
                    "output_type": "stream",
                    "text": "(3, 7, 3, 7)\n"
                }
            ],
            "source": [
                "def fun(x, *a):\n",
                "    print(x *a)\n",
                "\n",
                "fun(2, 3, 7)"
            ]
        },
        {
            "cell_type": "code",
            "execution_count": 14,
            "metadata": {},
            "outputs": [
                {
                    "name": "stdout",
                    "output_type": "stream",
                    "text": "2 3 7\n"
                }
            ],
            "source": [
                "def fun(x, *a):\n",
                "    print(x, *a)\n",
                "\n",
                "fun(2, 3, 7)"
            ]
        }
    ]
}
