{
  "nbformat": 4,
  "nbformat_minor": 0,
  "metadata": {
    "colab": {
      "provenance": [],
      "toc_visible": true
    },
    "kernelspec": {
      "name": "python3",
      "display_name": "Python 3"
    },
    "language_info": {
      "name": "python"
    }
  },
  "cells": [
    {
      "cell_type": "markdown",
      "source": [
        "# Рекурсия\n",
        "*Рекурсивная функция - это функция, которая вызывает сама себя.* В принципе, этого определения уже достаточно для понимания всего концепта. Но мы разберем, как это работает, почему это работает и зачем вообще нужно.\n",
        "\n",
        "\n"
      ],
      "metadata": {
        "id": "YYDa05C46npw"
      }
    },
    {
      "cell_type": "markdown",
      "source": [
        "## Немного о функциях\n",
        "\n",
        "Для понимания рекурсивных функций нужно понимать, а что вообще такое функция. Этот материал уже был изложен в занятии [01_Основы_Python_2](https://github.com/ShadarRim/dc2024/blob/main/01_%D0%9E%D1%81%D0%BD%D0%BE%D0%B2%D1%8B_Python_2.ipynb), поэтому здесь проведем лишь небольшой recap. Если что-то остается непонятным - загляните туда.\n",
        "\n",
        "Итак, функция - это просто часть обособленного кода, который мы можем многократно вызывать. Их стоит использовать либо для выделения повторяющихся конструкций, либо для отдельных логически выделенных частей функционала в больших программах. Функция может не возвращать значение вообще, может возвращать одно или несколько (на самом деле, в случае нескольких значений она, фактически, тоже возвращает одно, просто упаковывая все множество значений в один кортеж)."
      ],
      "metadata": {
        "id": "8fT6CJ7qFtZq"
      }
    },
    {
      "cell_type": "code",
      "execution_count": 2,
      "metadata": {
        "colab": {
          "base_uri": "https://localhost:8080/"
        },
        "id": "ositF_886boS",
        "outputId": "c03e8fd5-a442-4d98-ef66-85fbf03624e2"
      },
      "outputs": [
        {
          "output_type": "stream",
          "name": "stdout",
          "text": [
            "I return no value\n",
            "Values returned by calling this function: None\n",
            "I return one value\n",
            "Values returned by calling this function: 5\n",
            "I return multiple values\n",
            "Values returned by calling this function: (1, 'abc', 2.5)\n"
          ]
        }
      ],
      "source": [
        "def no_value_returned():\n",
        "  print('I return no value')\n",
        "\n",
        "def one_value_returned():\n",
        "  print('I return one value')\n",
        "  return 5\n",
        "\n",
        "def multiple_value_returned():\n",
        "  print('I return multiple values')\n",
        "  return 1, 'abc', 2.5\n",
        "\n",
        "# как можно увидеть здесь, с функциями можно обращаться не только как с функциями,\n",
        "# но и как с объектами. Так no_value_returned без скобочек - это объект функции,\n",
        "# с которым мы можем что-то делать - передавать как аргумент, записывать в списки или кортежи и тд.\n",
        "# А вот no_value_returned() со скобочками - это уже конкретно вызов функции,\n",
        "# который вернет (ну или в данном случае, не вернет) какое-то значение\n",
        "our_functions = [no_value_returned, one_value_returned, multiple_value_returned]\n",
        "\n",
        "for func in our_functions:\n",
        "  returned = func() # здесь осуществляется вызов функций, которые мы перебираем\n",
        "  print('Values returned by calling this function:', returned)"
      ]
    },
    {
      "cell_type": "markdown",
      "source": [
        "Помимо возвращаемых значений у функций есть еще аргументы. Аргументом функции может быть буквально что угодно и их количество может быть неограничено. Аргументы могут быть с дефолтным значением и без него. Если у аргумента нет дефолтного значения, то его значение необходимо указать при вызове функции - иначе она не будет работать. Если же дефолтное значение есть, то оно будет использоваться, если не указано другое."
      ],
      "metadata": {
        "id": "oiQVRkf8_0-S"
      }
    },
    {
      "cell_type": "code",
      "source": [
        "def some_func_with_args(no_default_argument,\n",
        "                        default_argument = 1 # тут мы задаем дефолтное значение аргумента\n",
        "                        ):\n",
        "  print('My arguments are:', no_default_argument, default_argument)\n",
        "\n",
        "some_func_with_args(0)\n",
        "some_func_with_args(4, 5)\n",
        "some_func_with_args()"
      ],
      "metadata": {
        "colab": {
          "base_uri": "https://localhost:8080/",
          "height": 211
        },
        "id": "38HpTbtr_cWw",
        "outputId": "12a38014-c486-4411-8565-8f0f9ea02728"
      },
      "execution_count": 3,
      "outputs": [
        {
          "output_type": "stream",
          "name": "stdout",
          "text": [
            "My arguments are: 0 1\n",
            "My arguments are: 4 5\n"
          ]
        },
        {
          "output_type": "error",
          "ename": "TypeError",
          "evalue": "some_func_with_args() missing 1 required positional argument: 'no_default_argument'",
          "traceback": [
            "\u001b[0;31m---------------------------------------------------------------------------\u001b[0m",
            "\u001b[0;31mTypeError\u001b[0m                                 Traceback (most recent call last)",
            "\u001b[0;32m<ipython-input-3-61bbd378f49e>\u001b[0m in \u001b[0;36m<cell line: 8>\u001b[0;34m()\u001b[0m\n\u001b[1;32m      6\u001b[0m \u001b[0msome_func_with_args\u001b[0m\u001b[0;34m(\u001b[0m\u001b[0;36m0\u001b[0m\u001b[0;34m)\u001b[0m\u001b[0;34m\u001b[0m\u001b[0;34m\u001b[0m\u001b[0m\n\u001b[1;32m      7\u001b[0m \u001b[0msome_func_with_args\u001b[0m\u001b[0;34m(\u001b[0m\u001b[0;36m4\u001b[0m\u001b[0;34m,\u001b[0m \u001b[0;36m5\u001b[0m\u001b[0;34m)\u001b[0m\u001b[0;34m\u001b[0m\u001b[0;34m\u001b[0m\u001b[0m\n\u001b[0;32m----> 8\u001b[0;31m \u001b[0msome_func_with_args\u001b[0m\u001b[0;34m(\u001b[0m\u001b[0;34m)\u001b[0m\u001b[0;34m\u001b[0m\u001b[0;34m\u001b[0m\u001b[0m\n\u001b[0m",
            "\u001b[0;31mTypeError\u001b[0m: some_func_with_args() missing 1 required positional argument: 'no_default_argument'"
          ]
        }
      ]
    },
    {
      "cell_type": "markdown",
      "source": [
        "Как видите, последний из вызовов приводит к ошибке - функция не знает, что должно лежать в `no_default_argument`, если он не указан. Кстати, аргументы не обязательно указывать по порядку, можно указать их напрямую через их имена"
      ],
      "metadata": {
        "id": "M4dzJQJtA22P"
      }
    },
    {
      "cell_type": "code",
      "source": [
        "some_func_with_args(default_argument=5, no_default_argument=4) # поменяли порядок, все еще работает так же\n",
        "some_func_with_args(5, 4) # а так поменяли порядок без указания, каким аргументам что присваиваем"
      ],
      "metadata": {
        "colab": {
          "base_uri": "https://localhost:8080/"
        },
        "id": "fBiE3DuhA04z",
        "outputId": "ed0eb427-cf52-4ed8-87ac-57364dfd8bae"
      },
      "execution_count": 4,
      "outputs": [
        {
          "output_type": "stream",
          "name": "stdout",
          "text": [
            "My arguments are: 4 5\n",
            "My arguments are: 5 4\n"
          ]
        }
      ]
    },
    {
      "cell_type": "markdown",
      "source": [
        "Кстати, если функция не возвращает никакое значение, это не значит, что она не может использовать ключевое слово `return`. Его все еще можно использовать для раннего выхода из функции"
      ],
      "metadata": {
        "id": "lGEZR6TijgRO"
      }
    },
    {
      "cell_type": "code",
      "source": [
        "def early_quit(parameter):\n",
        "  if parameter < 5:\n",
        "    return\n",
        "  # какие-то вычисления\n",
        "  parameter += 50\n",
        "  print(parameter)\n",
        "\n",
        "early_quit(4)\n",
        "early_quit(50)"
      ],
      "metadata": {
        "colab": {
          "base_uri": "https://localhost:8080/"
        },
        "id": "s02HTUL3juXG",
        "outputId": "857fd76b-b5c8-405c-b044-0dfe2f6abd47"
      },
      "execution_count": 5,
      "outputs": [
        {
          "output_type": "stream",
          "name": "stdout",
          "text": [
            "100\n"
          ]
        }
      ]
    },
    {
      "cell_type": "markdown",
      "source": [
        "Функцию можно вызывать многократно. Но что происходит при этом с ее параметрами? Допустим, мы будем каким-то образом их менять внутри функции. Функция ниже вычитает единицу из своего параметра и больше ничего не делает"
      ],
      "metadata": {
        "id": "f8bXjcrcCtI0"
      }
    },
    {
      "cell_type": "code",
      "source": [
        "def i_decrement_my_parameter(parameter):\n",
        "  parameter -= 1\n",
        "\n",
        "initial_value = 5\n",
        "\n",
        "i_decrement_my_parameter(initial_value)\n",
        "i_decrement_my_parameter(initial_value)\n",
        "i_decrement_my_parameter(initial_value)\n",
        "i_decrement_my_parameter(initial_value)\n",
        "i_decrement_my_parameter(initial_value)\n",
        "\n",
        "print('Value after passing the function 5 times:', initial_value)"
      ],
      "metadata": {
        "colab": {
          "base_uri": "https://localhost:8080/"
        },
        "id": "Mqp8cZNcBZ2k",
        "outputId": "41684dcf-e71c-4956-b83a-4818040df930"
      },
      "execution_count": 6,
      "outputs": [
        {
          "output_type": "stream",
          "name": "stdout",
          "text": [
            "Value after passing the function 5 times: 5\n"
          ]
        }
      ]
    },
    {
      "cell_type": "markdown",
      "source": [
        "Как видите, значение параметра вне функции не поменялось. Почему так? Дело в том, что при вызове функции она использует не те же самые переменные, которые мы ей передаем, а создает их копии. Эти копии называются локальными переменными и существуют только внутри функции (при завершении ее работы они удаляются из памяти). Это правило, однако, может завести вас с забавную ловушку, когда дело касается ссылочных типов данных. Посмотрим на пример ниже."
      ],
      "metadata": {
        "id": "yP_Lf1_jDrEj"
      }
    },
    {
      "cell_type": "code",
      "source": [
        "def i_am_evil(parameter):\n",
        "  parameter[0] -= 1\n",
        "\n",
        "initial_value = [5]\n",
        "\n",
        "i_am_evil(initial_value)\n",
        "i_am_evil(initial_value)\n",
        "i_am_evil(initial_value)\n",
        "i_am_evil(initial_value)\n",
        "i_am_evil(initial_value)\n",
        "\n",
        "print('Value after passing the function 5 times:', initial_value)"
      ],
      "metadata": {
        "colab": {
          "base_uri": "https://localhost:8080/"
        },
        "id": "-d5XxIMcDpOn",
        "outputId": "724209a0-5459-4d8b-dc78-3a86d80382b2"
      },
      "execution_count": 7,
      "outputs": [
        {
          "output_type": "stream",
          "name": "stdout",
          "text": [
            "Value after passing the function 5 times: [0]\n"
          ]
        }
      ]
    },
    {
      "cell_type": "markdown",
      "source": [
        "Что изменилось? Ну, мы только что нарушили правило, которое сами вроде как постулировали. Но на самом деле это не так. Дело в том, что списки в Python - это ссылочный тип данных. Эта концепция будет вам понятна, если вы знакомы с концепцией указателей, например, из Си. Так вот, когда мы передаем в функцию список, мы на самом деле передаем в нее ссылку на этот список - то есть адрес в памяти, по которому его можно найти. Функция, конечно, создает копию этого адреса, но сам список при этом не копирует. Поэтому, когда уже внутри функции мы обращаемся к первому элементу списка, мы обращаемся к элементу исходного списка, и изменяем его"
      ],
      "metadata": {
        "id": "LraXBko1Exaq"
      }
    },
    {
      "cell_type": "markdown",
      "source": [
        "## Рекурсивные функции\n",
        "Итак, если обычные функции более-менее понятны, пришло время наконец разобраться с рекурсией. Прежде, чем мы начнем писать рекурсивные функции, неплохо бы понять, а зачем оно нам вообще надо. Из математики нам знакомы рекурсивные формулы - например, в которых следующий член какого-нибудь ряда задается через предыдущие. Простейший пример такого ряда - это числа Фибоначчи. Вот их мы и посчитаем при помощи рекурсии. Напомним формулу:\n",
        "$F_n = F_{n-1} + F_{n-2}$"
      ],
      "metadata": {
        "id": "hRXZT5n_F1dg"
      }
    },
    {
      "cell_type": "code",
      "source": [
        "def fib_1(n):\n",
        "  return fib_1(n-1) + fib_1(n-2)\n",
        "\n",
        "n = 5\n",
        "print(n, 'Fibonacci number is:', fib_1(n))"
      ],
      "metadata": {
        "colab": {
          "base_uri": "https://localhost:8080/",
          "height": 356
        },
        "id": "3_y6YseDGnGQ",
        "outputId": "ad69f987-e258-4df0-f6a0-c9b172955ce8"
      },
      "execution_count": 1,
      "outputs": [
        {
          "output_type": "error",
          "ename": "RecursionError",
          "evalue": "maximum recursion depth exceeded",
          "traceback": [
            "\u001b[0;31m---------------------------------------------------------------------------\u001b[0m",
            "\u001b[0;31mRecursionError\u001b[0m                            Traceback (most recent call last)",
            "\u001b[0;32m<ipython-input-1-49581c3bae64>\u001b[0m in \u001b[0;36m<cell line: 5>\u001b[0;34m()\u001b[0m\n\u001b[1;32m      3\u001b[0m \u001b[0;34m\u001b[0m\u001b[0m\n\u001b[1;32m      4\u001b[0m \u001b[0mn\u001b[0m \u001b[0;34m=\u001b[0m \u001b[0;36m5\u001b[0m\u001b[0;34m\u001b[0m\u001b[0;34m\u001b[0m\u001b[0m\n\u001b[0;32m----> 5\u001b[0;31m \u001b[0mprint\u001b[0m\u001b[0;34m(\u001b[0m\u001b[0mn\u001b[0m\u001b[0;34m,\u001b[0m \u001b[0;34m'Fibonacci number is:'\u001b[0m\u001b[0;34m,\u001b[0m \u001b[0mfib_1\u001b[0m\u001b[0;34m(\u001b[0m\u001b[0mn\u001b[0m\u001b[0;34m)\u001b[0m\u001b[0;34m)\u001b[0m\u001b[0;34m\u001b[0m\u001b[0;34m\u001b[0m\u001b[0m\n\u001b[0m",
            "\u001b[0;32m<ipython-input-1-49581c3bae64>\u001b[0m in \u001b[0;36mfib_1\u001b[0;34m(n)\u001b[0m\n\u001b[1;32m      1\u001b[0m \u001b[0;32mdef\u001b[0m \u001b[0mfib_1\u001b[0m\u001b[0;34m(\u001b[0m\u001b[0mn\u001b[0m\u001b[0;34m)\u001b[0m\u001b[0;34m:\u001b[0m\u001b[0;34m\u001b[0m\u001b[0;34m\u001b[0m\u001b[0m\n\u001b[0;32m----> 2\u001b[0;31m   \u001b[0;32mreturn\u001b[0m \u001b[0mfib_1\u001b[0m\u001b[0;34m(\u001b[0m\u001b[0mn\u001b[0m\u001b[0;34m-\u001b[0m\u001b[0;36m1\u001b[0m\u001b[0;34m)\u001b[0m \u001b[0;34m+\u001b[0m \u001b[0mfib_1\u001b[0m\u001b[0;34m(\u001b[0m\u001b[0mn\u001b[0m\u001b[0;34m-\u001b[0m\u001b[0;36m2\u001b[0m\u001b[0;34m)\u001b[0m\u001b[0;34m\u001b[0m\u001b[0;34m\u001b[0m\u001b[0m\n\u001b[0m\u001b[1;32m      3\u001b[0m \u001b[0;34m\u001b[0m\u001b[0m\n\u001b[1;32m      4\u001b[0m \u001b[0mn\u001b[0m \u001b[0;34m=\u001b[0m \u001b[0;36m5\u001b[0m\u001b[0;34m\u001b[0m\u001b[0;34m\u001b[0m\u001b[0m\n\u001b[1;32m      5\u001b[0m \u001b[0mprint\u001b[0m\u001b[0;34m(\u001b[0m\u001b[0mn\u001b[0m\u001b[0;34m,\u001b[0m \u001b[0;34m'Fibonacci number is:'\u001b[0m\u001b[0;34m,\u001b[0m \u001b[0mfib_1\u001b[0m\u001b[0;34m(\u001b[0m\u001b[0mn\u001b[0m\u001b[0;34m)\u001b[0m\u001b[0;34m)\u001b[0m\u001b[0;34m\u001b[0m\u001b[0;34m\u001b[0m\u001b[0m\n",
            "... last 1 frames repeated, from the frame below ...\n",
            "\u001b[0;32m<ipython-input-1-49581c3bae64>\u001b[0m in \u001b[0;36mfib_1\u001b[0;34m(n)\u001b[0m\n\u001b[1;32m      1\u001b[0m \u001b[0;32mdef\u001b[0m \u001b[0mfib_1\u001b[0m\u001b[0;34m(\u001b[0m\u001b[0mn\u001b[0m\u001b[0;34m)\u001b[0m\u001b[0;34m:\u001b[0m\u001b[0;34m\u001b[0m\u001b[0;34m\u001b[0m\u001b[0m\n\u001b[0;32m----> 2\u001b[0;31m   \u001b[0;32mreturn\u001b[0m \u001b[0mfib_1\u001b[0m\u001b[0;34m(\u001b[0m\u001b[0mn\u001b[0m\u001b[0;34m-\u001b[0m\u001b[0;36m1\u001b[0m\u001b[0;34m)\u001b[0m \u001b[0;34m+\u001b[0m \u001b[0mfib_1\u001b[0m\u001b[0;34m(\u001b[0m\u001b[0mn\u001b[0m\u001b[0;34m-\u001b[0m\u001b[0;36m2\u001b[0m\u001b[0;34m)\u001b[0m\u001b[0;34m\u001b[0m\u001b[0;34m\u001b[0m\u001b[0m\n\u001b[0m\u001b[1;32m      3\u001b[0m \u001b[0;34m\u001b[0m\u001b[0m\n\u001b[1;32m      4\u001b[0m \u001b[0mn\u001b[0m \u001b[0;34m=\u001b[0m \u001b[0;36m5\u001b[0m\u001b[0;34m\u001b[0m\u001b[0;34m\u001b[0m\u001b[0m\n\u001b[1;32m      5\u001b[0m \u001b[0mprint\u001b[0m\u001b[0;34m(\u001b[0m\u001b[0mn\u001b[0m\u001b[0;34m,\u001b[0m \u001b[0;34m'Fibonacci number is:'\u001b[0m\u001b[0;34m,\u001b[0m \u001b[0mfib_1\u001b[0m\u001b[0;34m(\u001b[0m\u001b[0mn\u001b[0m\u001b[0;34m)\u001b[0m\u001b[0;34m)\u001b[0m\u001b[0;34m\u001b[0m\u001b[0;34m\u001b[0m\u001b[0m\n",
            "\u001b[0;31mRecursionError\u001b[0m: maximum recursion depth exceeded"
          ]
        }
      ]
    },
    {
      "cell_type": "markdown",
      "source": [
        "### Базовый случай\n",
        "И это... Не работает. Почему? Тут мы встречаем такое понятие, как базовый случай рекурсии. Дело в том, что в наша функция на самом деле будет выполняться бесконечно. Хотя мы бы хотели, чтобы она дошла до нуля, ведь нулевое и первое числа Фибоначчи мы знаем - это 0 и 1. Однако сейчас в ней нет никакого условия, говорящего, что пора остановиться - поэтому она продолжает вызывать саму себя бесконечно, а вернее, пока не упрется в заранее опредленный предел рекурсии. Базовый случай или условие остановки - неотъемлемая часть любой рекурсивной функции. Добавим его"
      ],
      "metadata": {
        "id": "q5WK7O5_Jgm_"
      }
    },
    {
      "cell_type": "code",
      "source": [
        "def fib_2(n):\n",
        "  if n < 2: # базовый случай\n",
        "    return n\n",
        "  else:\n",
        "    return fib_2(n-1) + fib_2(n-2)\n",
        "\n",
        "n = 5\n",
        "print(n, 'Fibonacci number is:', fib_2(n))"
      ],
      "metadata": {
        "colab": {
          "base_uri": "https://localhost:8080/"
        },
        "id": "jYx7ZyHYIIxb",
        "outputId": "6606e8c2-c60a-4570-de5f-ced9721d93e9"
      },
      "execution_count": 8,
      "outputs": [
        {
          "output_type": "stream",
          "name": "stdout",
          "text": [
            "5 Fibonacci number is: 5\n"
          ]
        }
      ]
    },
    {
      "cell_type": "markdown",
      "source": [
        "### Визуализация\n",
        "Ура, работает! Но как именно? Как правило, когда речь идет о рекурсии, возникает два вопроса:\n",
        "1. Что происходит с локальными переменными функции? Перезаписываются ли они каждым вызовом функции?\n",
        "2. Как происходят вычисления в принципе?\n",
        "\n",
        "С локальными переменными все довольно просто. Каждый раз, когда мы вызываем функцию, мы создаем копию исходного объекта этой функции. То есть, если функция вызывает саму себя, она вызывает не себя же повторно, а создает свою копию и вызывает ее. Поэтому локальные переменные у каждой такой вызванной функции будут \"свои\" и не перемешаются.\n",
        "\n",
        "Что же касается вычислений, то проще всего продемонстрировать это на примере. Код ниже добавляет визуализацию вычислений в нашу рекурсивную функцию для числе Фибоначчи. Вам не нужно разбираться, как именно это сделано, достаточно понимания того, что эта функция работает так же, как `fib_2`, поэтому вы можете считать представленный ниже граф вычислений графом `fib_2`. Числа слева сверху от каждой ячейки соответствуют порядковому номеру, в соответствии с которым вызывается каждая ячейка. Вы можете поиграться со значением `n`, чтобы лучше понять процесс"
      ],
      "metadata": {
        "id": "_iVCYoCdSi4n"
      }
    },
    {
      "cell_type": "code",
      "source": [
        "# _____DON'T NEED TO UNDERSTAND THIS CODE (IT'S JUST FOR VUSUALIZING PURPOSE)_____\n",
        "\n",
        "from graphviz import Digraph\n",
        "from IPython.display import display\n",
        "\n",
        "counter = 0\n",
        "\n",
        "def draw_graph(n, fib_cache, dot, parent=None):\n",
        "    global counter\n",
        "    current_counter = counter\n",
        "    current_node = f\"fib({n})-{current_counter}\"\n",
        "\n",
        "    fib_value = fib_cache[n]\n",
        "    dot.node(current_node, f\"fib({n}) = {fib_value}\\n\", xlabel=f\"{current_counter}\")\n",
        "\n",
        "    if parent is not None:\n",
        "        dot.edge(parent, current_node)\n",
        "    counter += 1\n",
        "\n",
        "    if n < 2:\n",
        "        return 1\n",
        "    else:\n",
        "        left = draw_graph(n - 1, fib_cache, dot, current_node)\n",
        "        right = draw_graph(n - 2, fib_cache, dot, current_node)\n",
        "        return left + right\n",
        "\n",
        "def fill_fib_cache(n, cache):\n",
        "  if n < 2:\n",
        "    res = n\n",
        "  else:\n",
        "    res = fill_fib_cache(n-1, cache) + fill_fib_cache(n-2, cache)\n",
        "  cache[n] = res\n",
        "  return res\n",
        "\n",
        "def fib_visual(n):\n",
        "  dot = Digraph()\n",
        "  fib_cache = dict()\n",
        "\n",
        "  fill_fib_cache(n, fib_cache)\n",
        "  draw_graph(n, fib_cache, dot)\n",
        "  display(dot)\n",
        "\n",
        "  return fib_cache[n]\n",
        "# __________________________________END OF BLOCK__________________________________\n",
        "\n",
        "\n",
        "n = 5\n",
        "print(n, 'Fibonacci number is:', fib_visual(n))"
      ],
      "metadata": {
        "colab": {
          "base_uri": "https://localhost:8080/",
          "height": 501
        },
        "id": "06GBaFylKgRG",
        "outputId": "0cb517a9-de58-431e-b51a-f189a13aadf3"
      },
      "execution_count": 9,
      "outputs": [
        {
          "output_type": "display_data",
          "data": {
            "image/svg+xml": "<?xml version=\"1.0\" encoding=\"UTF-8\" standalone=\"no\"?>\n<!DOCTYPE svg PUBLIC \"-//W3C//DTD SVG 1.1//EN\"\n \"http://www.w3.org/Graphics/SVG/1.1/DTD/svg11.dtd\">\n<!-- Generated by graphviz version 2.43.0 (0)\n -->\n<!-- Title: %3 Pages: 1 -->\n<svg width=\"705pt\" height=\"347pt\"\n viewBox=\"0.00 0.00 704.99 347.00\" xmlns=\"http://www.w3.org/2000/svg\" xmlns:xlink=\"http://www.w3.org/1999/xlink\">\n<g id=\"graph0\" class=\"graph\" transform=\"scale(1 1) rotate(0) translate(4 343)\">\n<title>%3</title>\n<polygon fill=\"white\" stroke=\"transparent\" points=\"-4,4 -4,-343 700.99,-343 700.99,4 -4,4\"/>\n<!-- fib(5)&#45;0 -->\n<g id=\"node1\" class=\"node\">\n<title>fib(5)&#45;0</title>\n<ellipse fill=\"none\" stroke=\"black\" cx=\"487.5\" cy=\"-306\" rx=\"45.49\" ry=\"18\"/>\n<text text-anchor=\"middle\" x=\"487.5\" y=\"-302.3\" font-family=\"Times,serif\" font-size=\"14.00\">fib(5) = 5</text>\n<text text-anchor=\"middle\" x=\"438.5\" y=\"-327.8\" font-family=\"Times,serif\" font-size=\"14.00\">0</text>\n</g>\n<!-- fib(4)&#45;1 -->\n<g id=\"node2\" class=\"node\">\n<title>fib(4)&#45;1</title>\n<ellipse fill=\"none\" stroke=\"black\" cx=\"378.5\" cy=\"-234\" rx=\"45.49\" ry=\"18\"/>\n<text text-anchor=\"middle\" x=\"378.5\" y=\"-230.3\" font-family=\"Times,serif\" font-size=\"14.00\">fib(4) = 3</text>\n<text text-anchor=\"middle\" x=\"329.5\" y=\"-255.8\" font-family=\"Times,serif\" font-size=\"14.00\">1</text>\n</g>\n<!-- fib(5)&#45;0&#45;&gt;fib(4)&#45;1 -->\n<g id=\"edge1\" class=\"edge\">\n<title>fib(5)&#45;0&#45;&gt;fib(4)&#45;1</title>\n<path fill=\"none\" stroke=\"black\" d=\"M464.65,-290.33C448.8,-280.15 427.5,-266.47 410.05,-255.26\"/>\n<polygon fill=\"black\" stroke=\"black\" points=\"411.62,-252.11 401.32,-249.65 407.84,-258 411.62,-252.11\"/>\n</g>\n<!-- fib(3)&#45;10 -->\n<g id=\"node11\" class=\"node\">\n<title>fib(3)&#45;10</title>\n<ellipse fill=\"none\" stroke=\"black\" cx=\"542.5\" cy=\"-234\" rx=\"45.49\" ry=\"18\"/>\n<text text-anchor=\"middle\" x=\"542.5\" y=\"-230.3\" font-family=\"Times,serif\" font-size=\"14.00\">fib(3) = 2</text>\n<text text-anchor=\"middle\" x=\"490\" y=\"-255.8\" font-family=\"Times,serif\" font-size=\"14.00\">10</text>\n</g>\n<!-- fib(5)&#45;0&#45;&gt;fib(3)&#45;10 -->\n<g id=\"edge10\" class=\"edge\">\n<title>fib(5)&#45;0&#45;&gt;fib(3)&#45;10</title>\n<path fill=\"none\" stroke=\"black\" d=\"M500.53,-288.41C507.31,-279.78 515.73,-269.06 523.25,-259.5\"/>\n<polygon fill=\"black\" stroke=\"black\" points=\"526.13,-261.5 529.56,-251.47 520.62,-257.17 526.13,-261.5\"/>\n</g>\n<!-- fib(3)&#45;2 -->\n<g id=\"node3\" class=\"node\">\n<title>fib(3)&#45;2</title>\n<ellipse fill=\"none\" stroke=\"black\" cx=\"215.5\" cy=\"-162\" rx=\"45.49\" ry=\"18\"/>\n<text text-anchor=\"middle\" x=\"215.5\" y=\"-158.3\" font-family=\"Times,serif\" font-size=\"14.00\">fib(3) = 2</text>\n<text text-anchor=\"middle\" x=\"166.5\" y=\"-183.8\" font-family=\"Times,serif\" font-size=\"14.00\">2</text>\n</g>\n<!-- fib(4)&#45;1&#45;&gt;fib(3)&#45;2 -->\n<g id=\"edge2\" class=\"edge\">\n<title>fib(4)&#45;1&#45;&gt;fib(3)&#45;2</title>\n<path fill=\"none\" stroke=\"black\" d=\"M348.6,-220.16C322.18,-208.81 283.46,-192.19 254.59,-179.79\"/>\n<polygon fill=\"black\" stroke=\"black\" points=\"255.77,-176.49 245.2,-175.76 253.01,-182.92 255.77,-176.49\"/>\n</g>\n<!-- fib(2)&#45;7 -->\n<g id=\"node8\" class=\"node\">\n<title>fib(2)&#45;7</title>\n<ellipse fill=\"none\" stroke=\"black\" cx=\"378.5\" cy=\"-162\" rx=\"45.49\" ry=\"18\"/>\n<text text-anchor=\"middle\" x=\"378.5\" y=\"-158.3\" font-family=\"Times,serif\" font-size=\"14.00\">fib(2) = 1</text>\n<text text-anchor=\"middle\" x=\"329.5\" y=\"-183.8\" font-family=\"Times,serif\" font-size=\"14.00\">7</text>\n</g>\n<!-- fib(4)&#45;1&#45;&gt;fib(2)&#45;7 -->\n<g id=\"edge7\" class=\"edge\">\n<title>fib(4)&#45;1&#45;&gt;fib(2)&#45;7</title>\n<path fill=\"none\" stroke=\"black\" d=\"M378.5,-215.7C378.5,-207.98 378.5,-198.71 378.5,-190.11\"/>\n<polygon fill=\"black\" stroke=\"black\" points=\"382,-190.1 378.5,-180.1 375,-190.1 382,-190.1\"/>\n</g>\n<!-- fib(2)&#45;3 -->\n<g id=\"node4\" class=\"node\">\n<title>fib(2)&#45;3</title>\n<ellipse fill=\"none\" stroke=\"black\" cx=\"106.5\" cy=\"-90\" rx=\"45.49\" ry=\"18\"/>\n<text text-anchor=\"middle\" x=\"106.5\" y=\"-86.3\" font-family=\"Times,serif\" font-size=\"14.00\">fib(2) = 1</text>\n<text text-anchor=\"middle\" x=\"57.5\" y=\"-111.8\" font-family=\"Times,serif\" font-size=\"14.00\">3</text>\n</g>\n<!-- fib(3)&#45;2&#45;&gt;fib(2)&#45;3 -->\n<g id=\"edge3\" class=\"edge\">\n<title>fib(3)&#45;2&#45;&gt;fib(2)&#45;3</title>\n<path fill=\"none\" stroke=\"black\" d=\"M192.65,-146.33C176.8,-136.15 155.5,-122.47 138.05,-111.26\"/>\n<polygon fill=\"black\" stroke=\"black\" points=\"139.62,-108.11 129.32,-105.65 135.84,-114 139.62,-108.11\"/>\n</g>\n<!-- fib(1)&#45;6 -->\n<g id=\"node7\" class=\"node\">\n<title>fib(1)&#45;6</title>\n<ellipse fill=\"none\" stroke=\"black\" cx=\"215.5\" cy=\"-90\" rx=\"45.49\" ry=\"18\"/>\n<text text-anchor=\"middle\" x=\"215.5\" y=\"-86.3\" font-family=\"Times,serif\" font-size=\"14.00\">fib(1) = 1</text>\n<text text-anchor=\"middle\" x=\"166.5\" y=\"-111.8\" font-family=\"Times,serif\" font-size=\"14.00\">6</text>\n</g>\n<!-- fib(3)&#45;2&#45;&gt;fib(1)&#45;6 -->\n<g id=\"edge6\" class=\"edge\">\n<title>fib(3)&#45;2&#45;&gt;fib(1)&#45;6</title>\n<path fill=\"none\" stroke=\"black\" d=\"M215.5,-143.7C215.5,-135.98 215.5,-126.71 215.5,-118.11\"/>\n<polygon fill=\"black\" stroke=\"black\" points=\"219,-118.1 215.5,-108.1 212,-118.1 219,-118.1\"/>\n</g>\n<!-- fib(1)&#45;4 -->\n<g id=\"node5\" class=\"node\">\n<title>fib(1)&#45;4</title>\n<ellipse fill=\"none\" stroke=\"black\" cx=\"52.5\" cy=\"-18\" rx=\"45.49\" ry=\"18\"/>\n<text text-anchor=\"middle\" x=\"52.5\" y=\"-14.3\" font-family=\"Times,serif\" font-size=\"14.00\">fib(1) = 1</text>\n<text text-anchor=\"middle\" x=\"3.5\" y=\"-39.8\" font-family=\"Times,serif\" font-size=\"14.00\">4</text>\n</g>\n<!-- fib(2)&#45;3&#45;&gt;fib(1)&#45;4 -->\n<g id=\"edge4\" class=\"edge\">\n<title>fib(2)&#45;3&#45;&gt;fib(1)&#45;4</title>\n<path fill=\"none\" stroke=\"black\" d=\"M93.7,-72.41C87.04,-63.78 78.77,-53.06 71.39,-43.5\"/>\n<polygon fill=\"black\" stroke=\"black\" points=\"74.08,-41.25 65.2,-35.47 68.54,-45.53 74.08,-41.25\"/>\n</g>\n<!-- fib(0)&#45;5 -->\n<g id=\"node6\" class=\"node\">\n<title>fib(0)&#45;5</title>\n<ellipse fill=\"none\" stroke=\"black\" cx=\"161.5\" cy=\"-18\" rx=\"45.49\" ry=\"18\"/>\n<text text-anchor=\"middle\" x=\"161.5\" y=\"-14.3\" font-family=\"Times,serif\" font-size=\"14.00\">fib(0) = 0</text>\n<text text-anchor=\"middle\" x=\"112.5\" y=\"-39.8\" font-family=\"Times,serif\" font-size=\"14.00\">5</text>\n</g>\n<!-- fib(2)&#45;3&#45;&gt;fib(0)&#45;5 -->\n<g id=\"edge5\" class=\"edge\">\n<title>fib(2)&#45;3&#45;&gt;fib(0)&#45;5</title>\n<path fill=\"none\" stroke=\"black\" d=\"M119.53,-72.41C126.31,-63.78 134.73,-53.06 142.25,-43.5\"/>\n<polygon fill=\"black\" stroke=\"black\" points=\"145.13,-45.5 148.56,-35.47 139.62,-41.17 145.13,-45.5\"/>\n</g>\n<!-- fib(1)&#45;8 -->\n<g id=\"node9\" class=\"node\">\n<title>fib(1)&#45;8</title>\n<ellipse fill=\"none\" stroke=\"black\" cx=\"324.5\" cy=\"-90\" rx=\"45.49\" ry=\"18\"/>\n<text text-anchor=\"middle\" x=\"324.5\" y=\"-86.3\" font-family=\"Times,serif\" font-size=\"14.00\">fib(1) = 1</text>\n<text text-anchor=\"middle\" x=\"275.5\" y=\"-111.8\" font-family=\"Times,serif\" font-size=\"14.00\">8</text>\n</g>\n<!-- fib(2)&#45;7&#45;&gt;fib(1)&#45;8 -->\n<g id=\"edge8\" class=\"edge\">\n<title>fib(2)&#45;7&#45;&gt;fib(1)&#45;8</title>\n<path fill=\"none\" stroke=\"black\" d=\"M365.7,-144.41C359.04,-135.78 350.77,-125.06 343.39,-115.5\"/>\n<polygon fill=\"black\" stroke=\"black\" points=\"346.08,-113.25 337.2,-107.47 340.54,-117.53 346.08,-113.25\"/>\n</g>\n<!-- fib(0)&#45;9 -->\n<g id=\"node10\" class=\"node\">\n<title>fib(0)&#45;9</title>\n<ellipse fill=\"none\" stroke=\"black\" cx=\"433.5\" cy=\"-90\" rx=\"45.49\" ry=\"18\"/>\n<text text-anchor=\"middle\" x=\"433.5\" y=\"-86.3\" font-family=\"Times,serif\" font-size=\"14.00\">fib(0) = 0</text>\n<text text-anchor=\"middle\" x=\"384.5\" y=\"-111.8\" font-family=\"Times,serif\" font-size=\"14.00\">9</text>\n</g>\n<!-- fib(2)&#45;7&#45;&gt;fib(0)&#45;9 -->\n<g id=\"edge9\" class=\"edge\">\n<title>fib(2)&#45;7&#45;&gt;fib(0)&#45;9</title>\n<path fill=\"none\" stroke=\"black\" d=\"M391.53,-144.41C398.31,-135.78 406.73,-125.06 414.25,-115.5\"/>\n<polygon fill=\"black\" stroke=\"black\" points=\"417.13,-117.5 420.56,-107.47 411.62,-113.17 417.13,-117.5\"/>\n</g>\n<!-- fib(2)&#45;11 -->\n<g id=\"node12\" class=\"node\">\n<title>fib(2)&#45;11</title>\n<ellipse fill=\"none\" stroke=\"black\" cx=\"542.5\" cy=\"-162\" rx=\"45.49\" ry=\"18\"/>\n<text text-anchor=\"middle\" x=\"542.5\" y=\"-158.3\" font-family=\"Times,serif\" font-size=\"14.00\">fib(2) = 1</text>\n<text text-anchor=\"middle\" x=\"490\" y=\"-183.8\" font-family=\"Times,serif\" font-size=\"14.00\">11</text>\n</g>\n<!-- fib(3)&#45;10&#45;&gt;fib(2)&#45;11 -->\n<g id=\"edge11\" class=\"edge\">\n<title>fib(3)&#45;10&#45;&gt;fib(2)&#45;11</title>\n<path fill=\"none\" stroke=\"black\" d=\"M542.5,-215.7C542.5,-207.98 542.5,-198.71 542.5,-190.11\"/>\n<polygon fill=\"black\" stroke=\"black\" points=\"546,-190.1 542.5,-180.1 539,-190.1 546,-190.1\"/>\n</g>\n<!-- fib(1)&#45;14 -->\n<g id=\"node15\" class=\"node\">\n<title>fib(1)&#45;14</title>\n<ellipse fill=\"none\" stroke=\"black\" cx=\"651.5\" cy=\"-162\" rx=\"45.49\" ry=\"18\"/>\n<text text-anchor=\"middle\" x=\"651.5\" y=\"-158.3\" font-family=\"Times,serif\" font-size=\"14.00\">fib(1) = 1</text>\n<text text-anchor=\"middle\" x=\"599\" y=\"-183.8\" font-family=\"Times,serif\" font-size=\"14.00\">14</text>\n</g>\n<!-- fib(3)&#45;10&#45;&gt;fib(1)&#45;14 -->\n<g id=\"edge14\" class=\"edge\">\n<title>fib(3)&#45;10&#45;&gt;fib(1)&#45;14</title>\n<path fill=\"none\" stroke=\"black\" d=\"M565.35,-218.33C581.19,-208.15 602.49,-194.47 619.95,-183.26\"/>\n<polygon fill=\"black\" stroke=\"black\" points=\"622.15,-186 628.68,-177.65 618.37,-180.11 622.15,-186\"/>\n</g>\n<!-- fib(1)&#45;12 -->\n<g id=\"node13\" class=\"node\">\n<title>fib(1)&#45;12</title>\n<ellipse fill=\"none\" stroke=\"black\" cx=\"542.5\" cy=\"-90\" rx=\"45.49\" ry=\"18\"/>\n<text text-anchor=\"middle\" x=\"542.5\" y=\"-86.3\" font-family=\"Times,serif\" font-size=\"14.00\">fib(1) = 1</text>\n<text text-anchor=\"middle\" x=\"490\" y=\"-111.8\" font-family=\"Times,serif\" font-size=\"14.00\">12</text>\n</g>\n<!-- fib(2)&#45;11&#45;&gt;fib(1)&#45;12 -->\n<g id=\"edge12\" class=\"edge\">\n<title>fib(2)&#45;11&#45;&gt;fib(1)&#45;12</title>\n<path fill=\"none\" stroke=\"black\" d=\"M542.5,-143.7C542.5,-135.98 542.5,-126.71 542.5,-118.11\"/>\n<polygon fill=\"black\" stroke=\"black\" points=\"546,-118.1 542.5,-108.1 539,-118.1 546,-118.1\"/>\n</g>\n<!-- fib(0)&#45;13 -->\n<g id=\"node14\" class=\"node\">\n<title>fib(0)&#45;13</title>\n<ellipse fill=\"none\" stroke=\"black\" cx=\"651.5\" cy=\"-90\" rx=\"45.49\" ry=\"18\"/>\n<text text-anchor=\"middle\" x=\"651.5\" y=\"-86.3\" font-family=\"Times,serif\" font-size=\"14.00\">fib(0) = 0</text>\n<text text-anchor=\"middle\" x=\"599\" y=\"-111.8\" font-family=\"Times,serif\" font-size=\"14.00\">13</text>\n</g>\n<!-- fib(2)&#45;11&#45;&gt;fib(0)&#45;13 -->\n<g id=\"edge13\" class=\"edge\">\n<title>fib(2)&#45;11&#45;&gt;fib(0)&#45;13</title>\n<path fill=\"none\" stroke=\"black\" d=\"M565.35,-146.33C581.19,-136.15 602.49,-122.47 619.95,-111.26\"/>\n<polygon fill=\"black\" stroke=\"black\" points=\"622.15,-114 628.68,-105.65 618.37,-108.11 622.15,-114\"/>\n</g>\n</g>\n</svg>\n",
            "text/plain": [
              "<graphviz.graphs.Digraph at 0x7de184702b60>"
            ]
          },
          "metadata": {}
        },
        {
          "output_type": "stream",
          "name": "stdout",
          "text": [
            "5 Fibonacci number is: 5\n"
          ]
        }
      ]
    },
    {
      "cell_type": "markdown",
      "source": [
        "### Мемоизация\n",
        "Если вы пробовали поставить значение n в районе 10 и больше, то могли заметить, что граф становится очень громоздким довольно быстро. Да, наша функция для чисел Фибоначчи получилась довольно неэффективной. Дело в том, что разные подфункции, вызываемые рекурсивно, не знают о существовании друг друга и в итоге считают одни и те же значения по несколько раз. Справиться с этим можно при помощи запоминания или мемоизации. Запоминая посчитанные значения, мы можем \"обрезать\" лишние ветви рекурсии"
      ],
      "metadata": {
        "id": "KuXRAxkDUJAQ"
      }
    },
    {
      "cell_type": "code",
      "source": [
        "def fib_3(n, memo):\n",
        "  if n not in memo:\n",
        "    memo[n] = fib_3(n-1, memo) + fib_3(n-2, memo) # мемоизация\n",
        "  return memo[n]\n",
        "\n",
        "# просто небольшая функция для измерения временных затрат, можно на нее особо не смотреть\n",
        "def measure_time(func, *args):\n",
        "    import time\n",
        "    tic = time.time()\n",
        "    func(*args)\n",
        "    toc = time.time()\n",
        "    return toc - tic\n",
        "\n",
        "memo = {0: 0,\n",
        "        1: 1}\n",
        "\n",
        "n = 20\n",
        "print(n, 'Fibonacci number is:', fib_3(n, memo))\n",
        "print('Time for fib_2:', measure_time(fib_2, n) * 1000, 'miliseconds')\n",
        "print('Time for fib_3:', measure_time(fib_3, n, memo) * 1000, 'miliseconds')"
      ],
      "metadata": {
        "colab": {
          "base_uri": "https://localhost:8080/"
        },
        "id": "RdpHhCURMZTh",
        "outputId": "d7961db8-7587-41e9-f78e-3cd265ee5e9d"
      },
      "execution_count": 10,
      "outputs": [
        {
          "output_type": "stream",
          "name": "stdout",
          "text": [
            "20 Fibonacci number is: 6765\n",
            "Time for fib_2: 3.9124488830566406 miliseconds\n",
            "Time for fib_3: 0.0016689300537109375 miliseconds\n"
          ]
        }
      ]
    },
    {
      "cell_type": "markdown",
      "source": [
        "### Рекурсия и итерирование\n",
        "У рекурсии есть одно забавное свойство - вы всегда можете обойтись без нее. На самом деле любая задача, которую можно решить при помощи рекурсии, решается и при помощи итерирования, то есть старым добрым циклом. Более того, зачастую цикл будет и эффективнее - ведь не надо каждый раз создавать в памяти новую функцию и передавать ей управление.\n",
        "\n",
        "Почему же тогда рекурсию вообще используют? Как правило потому что рекурсивный подход для конкретной задачи оказывается проще для понимания и / или реализации, чем итеративный.\n",
        "\n",
        "Попробуем решить задачу с числами Фибоначчи итеративным методом"
      ],
      "metadata": {
        "id": "wdHdNBTVcFOi"
      }
    },
    {
      "cell_type": "code",
      "source": [
        "def fib_4(n):\n",
        "  if n < 2:\n",
        "    return n\n",
        "\n",
        "  last, next = 0, 1 # в Python можно выполнять присваивание нескольких переменных в одной строке.\n",
        "  # На самом деле это происходит благодаря распаковке кортежа, но вдаваться в это необязательно\n",
        "  for _ in range(1, n):\n",
        "    last, next = next, last + next\n",
        "\n",
        "  return next\n",
        "\n",
        "n = 40\n",
        "print(n, 'Fibonacci number is:', fib_4(n))\n",
        "\n",
        "memo = {0: 0,\n",
        "        1: 1}\n",
        "print('Time for fib_3:', measure_time(fib_3, n, memo) * 1000, 'miliseconds')\n",
        "print('Time for fib_4:', measure_time(fib_4, n) * 1000, 'miliseconds')"
      ],
      "metadata": {
        "colab": {
          "base_uri": "https://localhost:8080/"
        },
        "id": "CljtfoOHZ3tB",
        "outputId": "3959e458-4a50-4ad4-fdef-e416df9d3187"
      },
      "execution_count": 11,
      "outputs": [
        {
          "output_type": "stream",
          "name": "stdout",
          "text": [
            "40 Fibonacci number is: 102334155\n",
            "Time for fib_3: 0.04601478576660156 miliseconds\n",
            "Time for fib_4: 0.0059604644775390625 miliseconds\n"
          ]
        }
      ]
    },
    {
      "cell_type": "markdown",
      "source": [
        "### Задача посложнее\n",
        "Еще одним примером известной задачи на рекурсию является задача о Ханойских башнях.\n",
        "\n",
        "**Условие задачи:** Есть три стержня (A, B и C) и n дисков разного диаметра, расположенных на первом стержне (A) в виде конуса, то есть так, что наибольший диск находится внизу, а наименьший — вверху. Задача заключается в том, чтобы перенести все диски с первого стержня (A) на третий стержень (C) с соблюдением следующих правил:\n",
        "\n",
        "1. За один ход можно перемещать только один диск.\n",
        "2. Нельзя класть больший диск на меньший.\n",
        "3. Для перемещения дисков можно использовать вспомогательный стержень (B).\n",
        "**Цель задачи:** Переместить все диски с первого стержня (A) на третий стержень (C), используя минимальное количество ходов.\n",
        "\n",
        "Минимальное количество ходов для решения задачи определяется формулой\n",
        "$2^n - 1$, где $n$ — количество дисков.\n",
        "\n",
        "Мы приведем решение задачи при помощи рекурсии. Оно формулируется доволно просто. Мы знаем, как решить задачу в случае одного диска (просто переложить его на нужный стержень), а для большего числа дисков нам достаточно сделать следующее:\n",
        "1. Сначала решить задачу о перемещении $n-1$ дисков с первого на второй стержень, используя третий как вспомогательный;\n",
        "2. Затем перенести $n$-ный (самый большой) диск на третий стержень.\n",
        "3. И, наконец, снове решить задачу о перемещении $n-1$ дисков, но теперь с второго на третий стержень, используя первый как вспомогательный.\n",
        "\n",
        "Решение при помощи итеративного подхода предлагаем вам написать самостоятельно"
      ],
      "metadata": {
        "id": "VqryCMf1eIhI"
      }
    },
    {
      "cell_type": "code",
      "source": [
        "def hanoi_recursive(n, source, target, auxiliary):\n",
        "    \"\"\"\n",
        "    Рекурсивная функция для решения задачи Ханойских башен.\n",
        "\n",
        "    n: количество дисков\n",
        "    source: стержень, с которого нужно переместить диски\n",
        "    target: стержень, на который нужно переместить диски\n",
        "    auxiliary: вспомогательный стержень\n",
        "    \"\"\"\n",
        "    if n == 1: # базовый случай\n",
        "        print(f\"Переместить диск 1 с {source} на {target}\")\n",
        "        return\n",
        "\n",
        "    # 1. Перемещаем n-1 дисков со стержня source на вспомогательный стержень auxiliary\n",
        "    hanoi_recursive(n - 1, source, auxiliary, target)\n",
        "\n",
        "    # 2. Перемещаем оставшийся диск с source на target\n",
        "    print(f\"Переместить диск {n} с {source} на {target}\")\n",
        "\n",
        "    # 3. Перемещаем n-1 дисков со вспомогательного стержня auxiliary на стержень target\n",
        "    hanoi_recursive(n - 1, auxiliary, target, source)\n",
        "\n",
        "n = 3  # Количество дисков\n",
        "hanoi_recursive(n, 'A', 'C', 'B')"
      ],
      "metadata": {
        "colab": {
          "base_uri": "https://localhost:8080/"
        },
        "id": "8UJIBO5PdwG5",
        "outputId": "ca825ecd-3f7e-430b-99e9-ba90b174fd92"
      },
      "execution_count": 12,
      "outputs": [
        {
          "output_type": "stream",
          "name": "stdout",
          "text": [
            "Переместить диск 1 с A на C\n",
            "Переместить диск 2 с A на B\n",
            "Переместить диск 1 с C на B\n",
            "Переместить диск 3 с A на C\n",
            "Переместить диск 1 с B на A\n",
            "Переместить диск 2 с B на C\n",
            "Переместить диск 1 с A на C\n"
          ]
        }
      ]
    }
  ]
}