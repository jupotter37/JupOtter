{
 "cells": [
  {
   "cell_type": "code",
   "execution_count": 1,
   "metadata": {},
   "outputs": [
    {
     "name": "stderr",
     "output_type": "stream",
     "text": [
      "/Users/ashe/.local/share/virtualenvs/MineRL-APCPXVva/lib/python3.7/site-packages/gym/logger.py:30: UserWarning: \u001b[33mWARN: Box bound precision lowered by casting to float32\u001b[0m\n",
      "  warnings.warn(colorize('%s: %s'%('WARN', msg % args), 'yellow'))\n"
     ]
    }
   ],
   "source": [
    "import gym\n",
    "import minerl"
   ]
  },
  {
   "cell_type": "code",
   "execution_count": 2,
   "metadata": {},
   "outputs": [],
   "source": [
    "import tqdm\n",
    "import numpy as np\n",
    "from sklearn.cluster import KMeans"
   ]
  },
  {
   "cell_type": "code",
   "execution_count": 3,
   "metadata": {},
   "outputs": [],
   "source": [
    "import logging\n",
    "# logging.basicConfig(level=logging.DEBUG)  # ログを見れる\n",
    "# import coloredlogs\n",
    "# coloredlogs.install(logging.INFO)"
   ]
  },
  {
   "cell_type": "code",
   "execution_count": 4,
   "metadata": {
    "lines_to_next_cell": 1
   },
   "outputs": [],
   "source": [
    "import matplotlib.pyplot as plt\n",
    "from IPython import display"
   ]
  },
  {
   "cell_type": "code",
   "execution_count": 5,
   "metadata": {
    "lines_to_next_cell": 1
   },
   "outputs": [],
   "source": [
    "def random():\n",
    "    env = gym.make('MineRLNavigateDenseVectorObf-v0')\n",
    "\n",
    "    # set the environment to allow interactive connections on port 6666\n",
    "    # and slow the tick speed to 6666.\n",
    "    env.make_interactive(port=6666, realtime=True)\n",
    "\n",
    "    obs = env.reset()\n",
    "    done = False\n",
    "    while not done:\n",
    "        action = env.action_space.sample()  # ランダムに動く\n",
    "        obs, reward, done, _ = env.step(action)\n",
    "        plt.imshow(env.render())\n",
    "        display.display(plt.gcf())    \n",
    "        display.clear_output(wait=True)"
   ]
  },
  {
   "cell_type": "code",
   "execution_count": 6,
   "metadata": {},
   "outputs": [],
   "source": [
    "def target():\n",
    "    env = gym.make('MineRLNavigateDense-v0')\n",
    "    # env = gym.wrappers.Monitor(env, \"/Users/ashe/workspace/Creation/Capture\")  # 記録用\n",
    "\n",
    "    env.make_interactive(port=6666, realtime=True)\n",
    "    obs  = env.reset()\n",
    "    done = False\n",
    "    net_reward = 0\n",
    "    while not done:  # 目的地に向かって動く\n",
    "        action = env.action_space.noop()\n",
    "\n",
    "        action['camera'] = [0, 0.03*obs[\"compassAngle\"]]\n",
    "        action['back'] = 0\n",
    "        action['forward'] = 1\n",
    "        action['jump'] = 0\n",
    "        action['attack'] = 1\n",
    "\n",
    "        obs, reward, done, info = env.step(action)\n",
    "        env.render()\n",
    "\n",
    "        net_reward += reward\n",
    "        print(\"Total reward: \", net_reward)"
   ]
  },
  {
   "cell_type": "code",
   "execution_count": 7,
   "metadata": {},
   "outputs": [],
   "source": [
    "def kmeans():\n",
    "\n",
    "    # dat = minerl.data.make('MineRLTreechopVectorObf-v0')  # $ MINERL_DATA_ROOT=\"/Users/ashe/workspace/MineRL/data\"\n",
    "    dat = minerl.data.make('MineRLTreechopVectorObf-v0', data_dir=\"/Users/ashe/workspace/MineRL/data\")\n",
    "    # dat = minerl.data.make('MineRLNavigateVectorObf-v0', data_dir=\"/Users/ashe/workspace/MineRL/data\")\n",
    "    # dat = minerl.data.make('MineRLObtainDiamondVectorObf-v0', data_dir=\"/Users/ashe/workspace/MineRL/data\")\n",
    "\n",
    "    act_vectors = []\n",
    "    NUM_CLUSTERS = 4\n",
    "\n",
    "    # Load the dataset storing 1000 batches of actions\n",
    "    for _, act, _, _, _ in tqdm.tqdm(dat.batch_iter(16, 32, 2, preload_buffer_size=20)):\n",
    "        act_vectors.append(act['vector'])\n",
    "        if len(act_vectors) > 1000:\n",
    "            break\n",
    "\n",
    "    # Reshape these the action batches\n",
    "    acts = np.concatenate(act_vectors).reshape(-1, 64)\n",
    "    kmeans_acts = acts[:100000]  # 使う情報は100000個のみ\n",
    "\n",
    "    # Use sklearn to cluster the demonstrated actions\n",
    "    kmeans = KMeans(n_clusters=NUM_CLUSTERS, random_state=0).fit(kmeans_acts)\n",
    "    print ('Distortion: %.2f'% kmeans.inertia_)  # 小さい方がいい（としか言えない）．0が最適\n",
    "\n",
    "\n",
    "    # # 図やグラフを図示するためのライブラリをインポートする。\n",
    "    # # import matplotlib\n",
    "    # # matplotlib.use('TkAgg')  # 古いバージョンだとbackend: macosxに対応していないので，指定し直す\n",
    "    # import matplotlib.pyplot as plt\n",
    "    # from pandas import plotting # 高度なプロットを行うツールのインポート\n",
    "    # #import sklearn #機械学習のライブラリ\n",
    "    # from sklearn.decomposition import PCA #主成分分析器\n",
    "    # labels = kmeans.labels_\n",
    "    # #主成分分析の実行\n",
    "    # # 64次元特徴を2次元にする\n",
    "    # pca = PCA(n_components=2)\n",
    "    # pca.fit(kmeans_acts)\n",
    "    # pca_data = pca.fit_transform(kmeans_acts)\n",
    "\n",
    "    # from colorsys import hls_to_rgb\n",
    "    # def get_distinct_colors(n):\n",
    "    #     colors = []\n",
    "    #     for i in np.arange(0., 360., 360. / n):\n",
    "    #         h = i / 360.\n",
    "    #         l = (50 + np.random.rand() * 10) / 100.\n",
    "    #         s = (90 + np.random.rand() * 10) / 100.\n",
    "    #         colors.append(hls_to_rgb(h, l, s))\n",
    "    #     return colors\n",
    "    \n",
    "    # # それぞれに与える色を決める。\n",
    "    # color_codes = get_distinct_colors(NUM_CLUSTERS)\n",
    "    # # サンプル毎に色を与える。\n",
    "    # colors = [color_codes[x] for x in labels]\n",
    "    # # クラスタリング結果のプロット\n",
    "    # plt.figure()\n",
    "    # plt.scatter(pca_data[:,0], pca_data[:,1], c=colors)\n",
    "    # # for i in range(pca_data.shape[0]):  # 上と同じ\n",
    "    # #     plt.scatter(pca_data[i,0], pca_data[i,1], c=color_codes[int(labels[i])])\n",
    "    # plt.title(\"Principal Component Analysis\")\n",
    "    # plt.xlabel(\"The first principal component score\")\n",
    "    # plt.ylabel(\"The second principal component score\")\n",
    "    # plt.savefig(\"dpi_scatter.png\", format=\"png\", dpi=300)\n",
    "    # plt.show()\n",
    "\n",
    "\n",
    "    i, net_reward, done, env = 0, 0, False, gym.make('MineRLTreechopVectorObf-v0')\n",
    "    env.make_interactive(port=6666, realtime=True)\n",
    "    obs = env.reset()\n",
    "\n",
    "    while not done:\n",
    "        # Let's use a frame skip of 4 (could you do better than a hard-coded frame skip?)\n",
    "        if i % 4 == 0:\n",
    "            action = {  # 変えてもダメ\n",
    "                # 'vector': kmeans.cluster_centers_[np.random.choice(NUM_CLUSTERS)] # 4フレームごとにクラスタリングした行動のどれかを選択する\n",
    "                'vector': kmeans.cluster_centers_[(int)((i/4) % NUM_CLUSTERS)]  # 4フレームごとにクラスタリングした行動を順にとる\n",
    "            }\n",
    "\n",
    "            obs, reward, done, info = env.step(action)\n",
    "\n",
    "            env.render()\n",
    "\n",
    "            if reward > 0:\n",
    "                print(\"+{} reward!\".format(reward))\n",
    "            net_reward += reward\n",
    "        i += 1\n",
    "\n",
    "    print(\"Total reward: \", net_reward)"
   ]
  },
  {
   "cell_type": "code",
   "execution_count": 8,
   "metadata": {},
   "outputs": [],
   "source": [
    "def no_op_test():\n",
    "    env = gym.make(\"MineRLTreechopVectorObf-v0\")\n",
    "    while True:\n",
    "        obs = env.reset()\n",
    "        done= False\n",
    "        while not done:\n",
    "            x = env.env_spec.wrap_action(env.env_spec.env_to_wrap.env_to_wrap.action_space.no_op())\n",
    "            print(x)\n",
    "            a,r,done,i = env.step(x) # Also happens if you try to feed in {'vector': np.random.random((64,))}\n",
    "            env.render()"
   ]
  },
  {
   "cell_type": "code",
   "execution_count": 9,
   "metadata": {},
   "outputs": [],
   "source": [
    "def simple_env_test():\n",
    "    \"\"\"\n",
    "    Tests running a simple environment.\n",
    "    \"\"\"\n",
    "    NUM_EPISODES=1\n",
    "    env = gym.make('MineRLNavigateDense-v0')\n",
    "    \n",
    "    actions = [env.action_space.sample() for _ in range(2000)]\n",
    "    xposes = []\n",
    "    env.seed(25)\n",
    "    for _ in range(NUM_EPISODES):\n",
    "        obs = env.reset()\n",
    "        done = False\n",
    "        netr = 0\n",
    "        while not done:\n",
    "            random_act = env.action_space.noop()\n",
    "            \n",
    "            random_act['camera'] = [0, 0.1*obs[\"compassAngle\"]]  # compassAngleはNavigationのみ\n",
    "            random_act['back'] = 0\n",
    "            random_act['forward'] = 1\n",
    "            random_act['jump'] = 1\n",
    "            random_act['attack'] = 1\n",
    "            obs, reward, done, info = env.step(\n",
    "                random_act)\n",
    "            netr += reward\n",
    "            print(reward, netr)\n",
    "            env.render()\n",
    "    print(\"Demo complete.\")"
   ]
  },
  {
   "cell_type": "code",
   "execution_count": 10,
   "metadata": {},
   "outputs": [],
   "source": [
    "def simple_treechop_test():  # env.resetでエラー\n",
    "    \"\"\"\n",
    "    Tests running a simple environment.\n",
    "    \"\"\"\n",
    "    NUM_EPISODES=6\n",
    "    env = gym.make('MineRLTreechop-v0')  # データセットが悪さしてそう\n",
    "    \n",
    "    actions = [env.action_space.sample() for _ in range(2000)]\n",
    "    xposes = []\n",
    "    for i in range(NUM_EPISODES):\n",
    "        env.seed(i)\n",
    "        obs = env.reset()  # 実行できてもTypeError: a bytes-like object is required, not 'NoneType'\n",
    "        done = False\n",
    "        netr = 0\n",
    "        for _ in range(i):\n",
    "            random_act = env.action_space.noop()\n",
    "            # random_act['camera'] = [0, 0.1]\n",
    "            # random_act['back'] = 0\n",
    "            # random_act['forward'] = 1\n",
    "            # random_act['jump'] = 1\n",
    "            obs, reward, done, info = env.step(\n",
    "                random_act)\n",
    "            netr += reward\n",
    "            print(reward, netr)\n",
    "            env.render()\n",
    "    print(\"Demo complete.\")"
   ]
  },
  {
   "cell_type": "code",
   "execution_count": 11,
   "metadata": {},
   "outputs": [],
   "source": [
    "def seed_test():\n",
    "    \"\"\"\n",
    "    Tests running a simple environment.\n",
    "    \"\"\"\n",
    "    NUM_EPISODES=10\n",
    "    env = gym.make('MineRLNavigateDense-v0')  # MineRLTreechop-v0で動く？\n",
    "    \n",
    "    actions = [env.action_space.sample() for _ in range(2000)]\n",
    "    xposes = []\n",
    "    reward_list = []\n",
    "    for _ in range(NUM_EPISODES):\n",
    "        env.seed(22)\n",
    "        obs = env.reset()  # 木にぶつかってTypeError: a bytes-like object is required, not 'NoneType'  ループが悪そう！\n",
    "        done = False\n",
    "        netr = 0\n",
    "        rewards = []\n",
    "        while not done and  len(rewards) < 50:\n",
    "            random_act = env.action_space.noop()\n",
    "            # if(len(rewards) > 50):\n",
    "            \n",
    "            random_act['camera'] = [0, 0.1]\n",
    "            random_act['back'] = 0\n",
    "            random_act['forward'] = 1\n",
    "            random_act['jump'] = 1\n",
    "            random_act['attack'] = 1\n",
    "            # print(random_act)\n",
    "            obs, reward, done, info = env.step(\n",
    "                random_act)\n",
    "            env.render()\n",
    "            rewards.append(reward)\n",
    "            netr += reward\n",
    "            # print(reward, netr)\n",
    "        reward_list.append(rewards)\n",
    "    import matplotlib.pyplot as plt\n",
    "    for t in range(NUM_EPISODES):\n",
    "        plt.plot(np.cumsum(reward_list[t]))\n",
    "    # plt.plot(np.cumsum(reward_list[1]))\n",
    "    plt.show()\n",
    "    # from IPython import embed; embed()\n",
    "    input()\n",
    "    print(\"Demo complete.\")"
   ]
  },
  {
   "cell_type": "code",
   "execution_count": 12,
   "metadata": {},
   "outputs": [],
   "source": [
    "def data_check():\n",
    "    # Sample some data from the dataset!\n",
    "    data = minerl.data.make(\"MineRLTreechopVectorObf-v0\", data_dir=\"/Users/ashe/workspace/MineRL/data\")\n",
    "\n",
    "    # Iterate through batches of data\n",
    "    counter = 0\n",
    "    # batch_size: データの個数（=行数）, seq_len: 各データのステップ（フレーム）数（=列数）, rew=reward（報酬）\n",
    "    for obs,  act, rew,  next_obs, done in data.batch_iter(batch_size=2, seq_len=5, num_epochs=1):\n",
    "        # Do something\n",
    "        correct_len = len(rew)\n",
    "        print(\"Obs shape:\", obs)  # pov, vector\n",
    "        print(\"Act shape:\", act)  # vector\n",
    "        # print(\"Rew shape:\", rew)\n",
    "        # print(\"Done shape:\", done)\n",
    "        # print(counter + 1)\n",
    "        # counter += 1"
   ]
  },
  {
   "cell_type": "code",
   "execution_count": 13,
   "metadata": {},
   "outputs": [],
   "source": [
    "def kmeans_check():\n",
    "    dat = minerl.data.make(\"MineRLTreechopVectorObf-v0\", data_dir=\"/Users/ashe/workspace/MineRL/data\")\n",
    "    act_vectors = []\n",
    "    NUM_CLUSTERS = 30\n",
    "\n",
    "    # Load the dataset storing 1000 batches of actions\n",
    "    for _, act, _, _, _ in tqdm.tqdm(dat.batch_iter(3, 32, 2)):\n",
    "        act_vectors.append(act['vector'])\n",
    "        print(len(act_vectors))\n",
    "        if len(act_vectors) > 100:\n",
    "            break\n",
    "\n",
    "    # print(act_vectors)  # 行列のリスト\n",
    "    print(np.concatenate(act_vectors).shape)  # 行列に変換\n",
    "    # Reshape these the action batches\n",
    "    acts = np.concatenate(act_vectors).reshape(-1, 64)\n",
    "    print(acts.shape) # 時系列情報は消える"
   ]
  },
  {
   "cell_type": "code",
   "execution_count": null,
   "metadata": {
    "scrolled": false
   },
   "outputs": [
    {
     "ename": "ArgumentError",
     "evalue": "(\"argument 1: <class 'RecursionError'>: maximum recursion depth exceeded while calling a Python object\", \"selector = b'inLiveResize'\", \"argtypes =[<class 'ctypes.c_void_p'>, <class 'ctypes.c_void_p'>]\", \"encoding = b'c16@0:8'\")",
     "output_type": "error",
     "traceback": [
      "\u001b[0;31m---------------------------------------------------------------------------\u001b[0m",
      "\u001b[0;31mArgumentError\u001b[0m                             Traceback (most recent call last)",
      "\u001b[0;32m_ctypes/callbacks.c\u001b[0m in \u001b[0;36m'calling callback function'\u001b[0;34m()\u001b[0m\n",
      "\u001b[0;32m~/.local/share/virtualenvs/MineRL-APCPXVva/lib/python3.7/site-packages/pyglet/libs/darwin/cocoapy/runtime.py\u001b[0m in \u001b[0;36mobjc_method\u001b[0;34m(objc_self, objc_cmd, *args)\u001b[0m\n\u001b[1;32m   1119\u001b[0m                 \u001b[0mpy_self\u001b[0m\u001b[0;34m.\u001b[0m\u001b[0mobjc_cmd\u001b[0m \u001b[0;34m=\u001b[0m \u001b[0mobjc_cmd\u001b[0m\u001b[0;34m\u001b[0m\u001b[0;34m\u001b[0m\u001b[0m\n\u001b[1;32m   1120\u001b[0m                 \u001b[0margs\u001b[0m \u001b[0;34m=\u001b[0m \u001b[0mconvert_method_arguments\u001b[0m\u001b[0;34m(\u001b[0m\u001b[0mencoding\u001b[0m\u001b[0;34m,\u001b[0m \u001b[0margs\u001b[0m\u001b[0;34m)\u001b[0m\u001b[0;34m\u001b[0m\u001b[0;34m\u001b[0m\u001b[0m\n\u001b[0;32m-> 1121\u001b[0;31m                 \u001b[0mresult\u001b[0m \u001b[0;34m=\u001b[0m \u001b[0mf\u001b[0m\u001b[0;34m(\u001b[0m\u001b[0mpy_self\u001b[0m\u001b[0;34m,\u001b[0m \u001b[0;34m*\u001b[0m\u001b[0margs\u001b[0m\u001b[0;34m)\u001b[0m\u001b[0;34m\u001b[0m\u001b[0;34m\u001b[0m\u001b[0m\n\u001b[0m\u001b[1;32m   1122\u001b[0m                 \u001b[0;32mif\u001b[0m \u001b[0misinstance\u001b[0m\u001b[0;34m(\u001b[0m\u001b[0mresult\u001b[0m\u001b[0;34m,\u001b[0m \u001b[0mObjCClass\u001b[0m\u001b[0;34m)\u001b[0m\u001b[0;34m:\u001b[0m\u001b[0;34m\u001b[0m\u001b[0;34m\u001b[0m\u001b[0m\n\u001b[1;32m   1123\u001b[0m                     \u001b[0mresult\u001b[0m \u001b[0;34m=\u001b[0m \u001b[0mresult\u001b[0m\u001b[0;34m.\u001b[0m\u001b[0mptr\u001b[0m\u001b[0;34m.\u001b[0m\u001b[0mvalue\u001b[0m\u001b[0;34m\u001b[0m\u001b[0;34m\u001b[0m\u001b[0m\n",
      "\u001b[0;32m~/.local/share/virtualenvs/MineRL-APCPXVva/lib/python3.7/site-packages/pyglet/window/cocoa/pyglet_window.py\u001b[0m in \u001b[0;36mnextEventMatchingMask_untilDate_inMode_dequeue_\u001b[0;34m(self, mask, date, mode, dequeue)\u001b[0m\n\u001b[1;32m     62\u001b[0m     \u001b[0;34m@\u001b[0m\u001b[0mPygletWindow\u001b[0m\u001b[0;34m.\u001b[0m\u001b[0mmethod\u001b[0m\u001b[0;34m(\u001b[0m\u001b[0;34mb'@'\u001b[0m\u001b[0;34m+\u001b[0m\u001b[0mNSUIntegerEncoding\u001b[0m\u001b[0;34m+\u001b[0m\u001b[0;34mb'@@B'\u001b[0m\u001b[0;34m)\u001b[0m\u001b[0;34m\u001b[0m\u001b[0;34m\u001b[0m\u001b[0m\n\u001b[1;32m     63\u001b[0m     \u001b[0;32mdef\u001b[0m \u001b[0mnextEventMatchingMask_untilDate_inMode_dequeue_\u001b[0m\u001b[0;34m(\u001b[0m\u001b[0mself\u001b[0m\u001b[0;34m,\u001b[0m \u001b[0mmask\u001b[0m\u001b[0;34m,\u001b[0m \u001b[0mdate\u001b[0m\u001b[0;34m,\u001b[0m \u001b[0mmode\u001b[0m\u001b[0;34m,\u001b[0m \u001b[0mdequeue\u001b[0m\u001b[0;34m)\u001b[0m\u001b[0;34m:\u001b[0m\u001b[0;34m\u001b[0m\u001b[0;34m\u001b[0m\u001b[0m\n\u001b[0;32m---> 64\u001b[0;31m         \u001b[0;32mif\u001b[0m \u001b[0mself\u001b[0m\u001b[0;34m.\u001b[0m\u001b[0minLiveResize\u001b[0m\u001b[0;34m(\u001b[0m\u001b[0;34m)\u001b[0m\u001b[0;34m:\u001b[0m\u001b[0;34m\u001b[0m\u001b[0;34m\u001b[0m\u001b[0m\n\u001b[0m\u001b[1;32m     65\u001b[0m             \u001b[0;31m# Call the idle() method while we're stuck in a live resize event.\u001b[0m\u001b[0;34m\u001b[0m\u001b[0;34m\u001b[0m\u001b[0;34m\u001b[0m\u001b[0m\n\u001b[1;32m     66\u001b[0m             \u001b[0;32mfrom\u001b[0m \u001b[0mpyglet\u001b[0m \u001b[0;32mimport\u001b[0m \u001b[0mapp\u001b[0m\u001b[0;34m\u001b[0m\u001b[0;34m\u001b[0m\u001b[0m\n",
      "\u001b[0;32m~/.local/share/virtualenvs/MineRL-APCPXVva/lib/python3.7/site-packages/pyglet/libs/darwin/cocoapy/runtime.py\u001b[0m in \u001b[0;36m__call__\u001b[0;34m(self, *args)\u001b[0m\n\u001b[1;32m    783\u001b[0m     \u001b[0;32mdef\u001b[0m \u001b[0m__call__\u001b[0m\u001b[0;34m(\u001b[0m\u001b[0mself\u001b[0m\u001b[0;34m,\u001b[0m \u001b[0;34m*\u001b[0m\u001b[0margs\u001b[0m\u001b[0;34m)\u001b[0m\u001b[0;34m:\u001b[0m\u001b[0;34m\u001b[0m\u001b[0;34m\u001b[0m\u001b[0m\n\u001b[1;32m    784\u001b[0m         \u001b[0;34m\"\"\"Call the method with the given arguments.\"\"\"\u001b[0m\u001b[0;34m\u001b[0m\u001b[0;34m\u001b[0m\u001b[0m\n\u001b[0;32m--> 785\u001b[0;31m         \u001b[0;32mreturn\u001b[0m \u001b[0mself\u001b[0m\u001b[0;34m.\u001b[0m\u001b[0mmethod\u001b[0m\u001b[0;34m(\u001b[0m\u001b[0mself\u001b[0m\u001b[0;34m.\u001b[0m\u001b[0mobjc_id\u001b[0m\u001b[0;34m,\u001b[0m \u001b[0;34m*\u001b[0m\u001b[0margs\u001b[0m\u001b[0;34m)\u001b[0m\u001b[0;34m\u001b[0m\u001b[0;34m\u001b[0m\u001b[0m\n\u001b[0m\u001b[1;32m    786\u001b[0m \u001b[0;34m\u001b[0m\u001b[0m\n\u001b[1;32m    787\u001b[0m \u001b[0;31m######################################################################\u001b[0m\u001b[0;34m\u001b[0m\u001b[0;34m\u001b[0m\u001b[0;34m\u001b[0m\u001b[0m\n",
      "\u001b[0;32m~/.local/share/virtualenvs/MineRL-APCPXVva/lib/python3.7/site-packages/pyglet/libs/darwin/cocoapy/runtime.py\u001b[0m in \u001b[0;36m__call__\u001b[0;34m(self, objc_id, *args)\u001b[0m\n\u001b[1;32m    753\u001b[0m         \u001b[0mf\u001b[0m \u001b[0;34m=\u001b[0m \u001b[0mself\u001b[0m\u001b[0;34m.\u001b[0m\u001b[0mget_callable\u001b[0m\u001b[0;34m(\u001b[0m\u001b[0;34m)\u001b[0m\u001b[0;34m\u001b[0m\u001b[0;34m\u001b[0m\u001b[0m\n\u001b[1;32m    754\u001b[0m         \u001b[0;32mtry\u001b[0m\u001b[0;34m:\u001b[0m\u001b[0;34m\u001b[0m\u001b[0;34m\u001b[0m\u001b[0m\n\u001b[0;32m--> 755\u001b[0;31m             \u001b[0mresult\u001b[0m \u001b[0;34m=\u001b[0m \u001b[0mf\u001b[0m\u001b[0;34m(\u001b[0m\u001b[0mobjc_id\u001b[0m\u001b[0;34m,\u001b[0m \u001b[0mself\u001b[0m\u001b[0;34m.\u001b[0m\u001b[0mselector\u001b[0m\u001b[0;34m,\u001b[0m \u001b[0;34m*\u001b[0m\u001b[0margs\u001b[0m\u001b[0;34m)\u001b[0m\u001b[0;34m\u001b[0m\u001b[0;34m\u001b[0m\u001b[0m\n\u001b[0m\u001b[1;32m    756\u001b[0m             \u001b[0;31m# Convert result to python type if it is a instance or class pointer.\u001b[0m\u001b[0;34m\u001b[0m\u001b[0;34m\u001b[0m\u001b[0;34m\u001b[0m\u001b[0m\n\u001b[1;32m    757\u001b[0m             \u001b[0;32mif\u001b[0m \u001b[0mself\u001b[0m\u001b[0;34m.\u001b[0m\u001b[0mrestype\u001b[0m \u001b[0;34m==\u001b[0m \u001b[0mObjCInstance\u001b[0m\u001b[0;34m:\u001b[0m\u001b[0;34m\u001b[0m\u001b[0;34m\u001b[0m\u001b[0m\n",
      "\u001b[0;31mArgumentError\u001b[0m: (\"argument 1: <class 'RecursionError'>: maximum recursion depth exceeded while calling a Python object\", \"selector = b'inLiveResize'\", \"argtypes =[<class 'ctypes.c_void_p'>, <class 'ctypes.c_void_p'>]\", \"encoding = b'c16@0:8'\")"
     ]
    }
   ],
   "source": [
    "if __name__ == \"__main__\":\n",
    "    random()"
   ]
  }
 ],
 "metadata": {
  "jupytext": {
   "cell_metadata_filter": "-all",
   "notebook_metadata_filter": "-all",
   "text_representation": {
    "extension": ".py",
    "format_name": "light"
   }
  },
  "kernelspec": {
   "display_name": "Python 3",
   "language": "python",
   "name": "python3"
  },
  "language_info": {
   "codemirror_mode": {
    "name": "ipython",
    "version": 3
   },
   "file_extension": ".py",
   "mimetype": "text/x-python",
   "name": "python",
   "nbconvert_exporter": "python",
   "pygments_lexer": "ipython3",
   "version": "3.7.3"
  }
 },
 "nbformat": 4,
 "nbformat_minor": 4
}
