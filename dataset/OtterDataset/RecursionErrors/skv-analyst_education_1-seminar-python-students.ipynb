{
 "nbformat": 4,
 "nbformat_minor": 0,
 "metadata": {
  "colab": {
   "provenance": []
  },
  "kernelspec": {
   "name": "python3",
   "display_name": "Python 3"
  },
  "language_info": {
   "name": "python"
  }
 },
 "cells": [
  {
   "cell_type": "markdown",
   "source": [
    "# **Ml_Inside. Семинар 1. Основы программирования на python**"
   ],
   "metadata": {
    "id": "I0_Ga_qtoHhO"
   }
  },
  {
   "cell_type": "markdown",
   "source": [
    "# Оглавление\n",
    "\n",
    "1. [Установка Python и необходимых библиотек](#section1)\n",
    "2. [Введение в Jupyter Notebooks](#section2)\n",
    "3. [Основные синтаксические конструкции Python](#section3)\n",
    "4. [Чтение и запись текстовых файлов](#section4)\n",
    "5. [Чтение и запись файлов CSV](#section5)\n",
    "6. [Работа с библиотекой pandas для чтения и записи данных](#section6)\n",
    "7. [Операции с многомерными массивами (NumPy)](#section7)\n",
    "8. [\"Научные\" вычисления (SciPy)](#section8)\n",
    "9. [Введение в ООП](#section9)\n",
    "10. [Работа с данными (pandas)](#section10)\n",
    "11. [Сложность алгоритмов по времени и по памяти](#section11)\n",
    "12. [Hometask](#section12)"
   ],
   "metadata": {
    "id": "cyWhHko8lxP-"
   }
  },
  {
   "cell_type": "markdown",
   "source": [
    "Jupyter Notebooks - это интерактивная среда для разработки и выполнения кода, которая позволяет комбинировать код, текст, графику и визуализации в одном документе.  \n",
    "Google Colab (Colaboratory) - это облачная версия Jupyter Notebook, предоставляемая Google. Она позволяет вам выполнять код в облаке, что очень удобно для машинного обучения и других вычислительно затратных задач."
   ],
   "metadata": {
    "id": "vNMthjq5sKUi"
   }
  },
  {
   "cell_type": "markdown",
   "source": [
    "## <a name=\"section1\"></a> **1. Установка Python и необходимых библиотек**\n",
    "\n",
    "Для начала работы с Python и Jupyter Notebooks локально, вам нужно установить Anaconda. Anaconda - это популярная дистрибуция Python, которая включает в себя множество полезных библиотек и инструментов для научных вычислений и анализа данных.\n",
    "\n",
    "### Шаги для установки Anaconda:\n",
    "\n",
    "1. Перейдите на сайт [Anaconda](https://www.anaconda.com/products/distribution).\n",
    "2. Скачайте версию Anaconda, соответствующую вашей операционной системе (Windows, macOS, Linux).\n",
    "3. Следуйте инструкциям установщика для завершения установки.\n",
    "\n",
    "### Установка библиотек с помощью pip\n",
    "\n",
    "Если вы используете стандартный Python (не Anaconda), вы можете установить необходимые библиотеки с помощью pip. Вот команды для установки некоторых библиотек, которые мы в основном будем использовать:\n",
    "\n",
    "```bash\n",
    "pip install numpy\n",
    "pip install pandas\n",
    "pip install matplotlib\n",
    "pip install scipy\n",
    "```"
   ],
   "metadata": {
    "id": "_er-Rx0xoFrI"
   }
  },
  {
   "cell_type": "markdown",
   "source": [
    "\n",
    "## <a name=\"section2\"></a> **2. Введение в Jupyter Notebooks**\n",
    "\n",
    "Jupyter Notebooks - это интерактивная среда для разработки и выполнения кода, которая позволяет комбинировать код, текст, графику и визуализации в одном документе.\n",
    "\n",
    "### Запуск Jupyter Notebook\n",
    "\n",
    "После установки Anaconda вы можете запустить Jupyter Notebook следующими способами:\n",
    "\n",
    "1. Откройте Anaconda Navigator и выберите \"Launch\" напротив Jupyter Notebook.\n",
    "2. В командной строке выполните команду:\n",
    "```bash\n",
    "jupyter notebook\n",
    "```\n"
   ],
   "metadata": {
    "id": "E7BNvlZSosPP"
   }
  },
  {
   "cell_type": "code",
   "source": [
    "print(\"Hello, Python!\")"
   ],
   "metadata": {
    "id": "C0mjk1tvoR1a"
   },
   "execution_count": null,
   "outputs": []
  },
  {
   "cell_type": "markdown",
   "source": [
    "\n",
    "## <a name=\"section3\"></a> **3. Основные синтаксические конструкции Python**\n",
    "### **Переменные и типы данных**"
   ],
   "metadata": {
    "id": "Z4uqwsePpb6k"
   }
  },
  {
   "cell_type": "markdown",
   "source": [
    "Целые числа (integer) — это числа без дробной части. Они могут быть положительными или отрицательными, а также равными нулю.  \n",
    " - Python поддерживает произвольно большие целые числа, ограниченные лишь доступной памятью.\n",
    " - Целые числа могут быть созданы из строк, содержащих цифры, с помощью функции int()."
   ],
   "metadata": {
    "id": "OmNzjzWF7Ku8"
   }
  },
  {
   "cell_type": "code",
   "source": [
    "a = 10\n",
    "negative_a = -20\n",
    "large_a = 10**100\n",
    "print(\"Тип a:\", type(a))"
   ],
   "metadata": {
    "id": "RWtAgZkbplkz"
   },
   "execution_count": null,
   "outputs": []
  },
  {
   "cell_type": "markdown",
   "source": [
    " - Можно использовать bin(), oct(), и hex() для преобразования целых чисел в различные системы счисления."
   ],
   "metadata": {
    "id": "ohfoPls67RR4"
   }
  },
  {
   "cell_type": "code",
   "source": [
    "binary_a = bin(a)  # Перевод в двоичную систему\n",
    "hex_a = hex(a)  # Перевод в шестнадцатеричную систему\n",
    "print(\"Двоичное представление:\", binary_a)\n",
    "print(\"Шестнадцатеричное представление:\", hex_a)"
   ],
   "metadata": {
    "id": "mgyXYm698Giq"
   },
   "execution_count": null,
   "outputs": []
  },
  {
   "cell_type": "markdown",
   "source": [
    "Числа с плавающей точкой (float) - представляют собой числа с дробной частью, например, 3.14 или -0.001.  \n",
    " - Плавающая точка представляет числа с определенной степенью точности.\n",
    " - Поддерживается экспоненциальная запись, например, 1.23e4.\n"
   ],
   "metadata": {
    "id": "q7oIpQgv8RfJ"
   }
  },
  {
   "cell_type": "code",
   "source": [
    "b = 3.14\n",
    "scientific_b = 1.23e4\n",
    "print(\"Тип b:\", type(scientific_b))"
   ],
   "metadata": {
    "id": "YMRkEkyUppPI",
    "outputId": "dd4f31cb-05a3-4c12-982e-61686a54fc57",
    "colab": {
     "base_uri": "https://localhost:8080/"
    }
   },
   "execution_count": null,
   "outputs": [
    {
     "output_type": "stream",
     "name": "stdout",
     "text": [
      "Тип b: <class 'float'>\n"
     ]
    }
   ]
  },
  {
   "cell_type": "code",
   "source": [
    "scientific_b"
   ],
   "metadata": {
    "id": "2NPeJGtwRu7W",
    "outputId": "47fc27fb-06dd-4bf2-b2d1-d238c6c82e2c",
    "colab": {
     "base_uri": "https://localhost:8080/"
    }
   },
   "execution_count": null,
   "outputs": [
    {
     "output_type": "execute_result",
     "data": {
      "text/plain": [
       "12300.0"
      ]
     },
     "metadata": {},
     "execution_count": 3
    }
   ]
  },
  {
   "cell_type": "markdown",
   "source": [
    " - Для округления чисел используйте функцию round().\n",
    " - В случае точных вычислений с плавающей точкой лучше использовать модуль decimal."
   ],
   "metadata": {
    "id": "jxe5duE98iuU"
   }
  },
  {
   "cell_type": "markdown",
   "source": [
    "Строки в Python (str) — это последовательности символов, используемые для представления текста.  \n",
    " - Строки неизменяемы (immutable), их содержимое нельзя изменить после создания.\n",
    " - Поддерживается индексация и срезы, позволяющие извлекать отдельные символы или подстроки."
   ],
   "metadata": {
    "id": "4Uthrr_08qMY"
   }
  },
  {
   "cell_type": "code",
   "source": [
    "c = \"Hello, Python!\"\n",
    "substring = c[7:13]  # Извлечение подстроки\n",
    "print(\"Подстрока:\", substring)"
   ],
   "metadata": {
    "id": "jA22KIswprJk"
   },
   "execution_count": null,
   "outputs": []
  },
  {
   "cell_type": "markdown",
   "source": [
    " - Многострочные строки создаются с помощью тройных кавычек (''' или \"\"\").\n",
    " - Используйте метод format() или f-строки для форматирования строк."
   ],
   "metadata": {
    "id": "0dDRL9jt82jR"
   }
  },
  {
   "cell_type": "code",
   "source": [
    "multi_line_str = \"\"\"Это\n",
    "многострочная\n",
    "строка.\"\"\"\n",
    "formatted_str = f\"Привет, {c}!\"\n",
    "print(\"Форматированная строка:\", formatted_str)"
   ],
   "metadata": {
    "id": "4bDrsgbk86Qw"
   },
   "execution_count": null,
   "outputs": []
  },
  {
   "cell_type": "markdown",
   "source": [
    "Логические значения (bool) - имеют два возможных значения: True и False.  \n",
    " - Логические значения часто используются в условных операторах и циклах.\n",
    " - Любой объект можно привести к bool. Ноль, пустые коллекции и None приводятся к False, остальные — к True."
   ],
   "metadata": {
    "id": "CXNvm84s9BTA"
   }
  },
  {
   "cell_type": "code",
   "source": [
    "d = True\n",
    "empty_str = \"\"\n",
    "is_empty = bool(empty_str)  # Пустая строка становится False\n",
    "print(\"is_empty:\", is_empty)  # False"
   ],
   "metadata": {
    "id": "-m2J8tf3ptPt"
   },
   "execution_count": null,
   "outputs": []
  },
  {
   "cell_type": "markdown",
   "source": [
    " - Используйте bool() для приведения объектов к логическому типу.\n",
    " - Логические значения могут использоваться как числа: True эквивалентно 1, а False — 0."
   ],
   "metadata": {
    "id": "7LYuEN4d9PzL"
   }
  },
  {
   "cell_type": "code",
   "source": [
    "result = d + 5  # True + 5 эквивалентно 1 + 5\n",
    "print(\"Результат сложения:\", result)"
   ],
   "metadata": {
    "id": "ttgSWX-npuwJ"
   },
   "execution_count": null,
   "outputs": []
  },
  {
   "cell_type": "markdown",
   "source": [
    "Списки (list) — это упорядоченные изменяемые коллекции объектов, которые могут содержать элементы разных типов.  \n",
    " - Списки поддерживают методы изменения, такие как append(), remove(), pop(), и sort().\n",
    " - Списки могут содержать другие списки, что позволяет создавать вложенные структуры."
   ],
   "metadata": {
    "id": "h-Fd7n879WpO"
   }
  },
  {
   "cell_type": "code",
   "source": [
    "e = [1, 2, 3, 4, 5]\n",
    "e.append(6)\n",
    "e.remove(2)\n",
    "print(\"Обновленный список e:\", e)"
   ],
   "metadata": {
    "id": "7OM_7KnX9iFq"
   },
   "execution_count": null,
   "outputs": []
  },
  {
   "cell_type": "markdown",
   "source": [
    " - Для быстрого создания списков используйте генераторы списков.\n",
    " - Метод extend() позволяет объединять списки."
   ],
   "metadata": {
    "id": "VvRM4VMa9mCi"
   }
  },
  {
   "cell_type": "code",
   "source": [
    "squared_numbers = [x**2 for x in range(1, 6)]\n",
    "e.extend([7, 8, 9])\n",
    "print(\"Объединенный список e:\", e)"
   ],
   "metadata": {
    "id": "oYm2J2jj9o0P"
   },
   "execution_count": null,
   "outputs": []
  },
  {
   "cell_type": "code",
   "source": [
    "squared_numbers"
   ],
   "metadata": {
    "id": "bJqpjxuqnbs5"
   },
   "execution_count": null,
   "outputs": []
  },
  {
   "cell_type": "markdown",
   "source": [
    "Кортежи (tuple) - схожи со списками, но они неизменяемы.  \n",
    " - Кортежи используют меньше памяти и работают быстрее, чем списки.\n",
    " - Кортежи можно использовать как ключи в словарях и элементы множеств."
   ],
   "metadata": {
    "id": "DyHJmexj9svs"
   }
  },
  {
   "cell_type": "code",
   "source": [
    "f = (1, 2, 3, 4, 5)\n",
    "print(\"Значение f:\", f)\n",
    "print(\"Тип f:\", type(f))"
   ],
   "metadata": {
    "id": "V7Zyw61mpwxU"
   },
   "execution_count": null,
   "outputs": []
  },
  {
   "cell_type": "markdown",
   "source": [
    " - Используйте распаковку кортежей для присвоения значений нескольким переменным сразу.\n",
    " - Кортежи можно использовать в ситуациях, когда важна неизменность данных."
   ],
   "metadata": {
    "id": "vzNLiul193PD"
   }
  },
  {
   "cell_type": "code",
   "source": [
    "x, y, z = (1, 2, 3)\n",
    "print(\"x, y, z:\", x, y, z)"
   ],
   "metadata": {
    "id": "7vgKTcau96k3"
   },
   "execution_count": null,
   "outputs": []
  },
  {
   "cell_type": "code",
   "source": [
    "f[0]"
   ],
   "metadata": {
    "id": "X9ZLqnHonrBs"
   },
   "execution_count": null,
   "outputs": []
  },
  {
   "cell_type": "markdown",
   "source": [
    "Словари (dict) — это неупорядоченные коллекции пар ключ-значение.(начиная с python 3.7 словари стали упорядоченными)  \n",
    " - Доступ к значениям осуществляется по ключу.\n",
    " - Словари поддерживают методы keys(), values(), и items() для работы с их содержимым."
   ],
   "metadata": {
    "id": "a9M-aMXq99wD"
   }
  },
  {
   "cell_type": "code",
   "source": [
    "g = {\"ключ1\": \"значение1\", \"ключ2\": \"значение2\"}\n",
    "g[\"ключ3\"] = \"значение3\"\n",
    "print(\"Обновленный словарь g:\", g)"
   ],
   "metadata": {
    "id": "DCG0q9Mkpyqh"
   },
   "execution_count": null,
   "outputs": []
  },
  {
   "cell_type": "markdown",
   "source": [
    " - Используйте get() для безопасного получения значения по ключу, чтобы избежать ошибок при отсутствии ключа.\n",
    " - Используйте словарные включения для быстрого создания словарей."
   ],
   "metadata": {
    "id": "v9rADWo_-Fwf"
   }
  },
  {
   "cell_type": "code",
   "source": [
    "value = g.get(\"ключ1\", \"по умолчанию\")\n",
    "new_dict = {x: x**2 for x in range(1, 6)}\n",
    "print(\"Новый словарь:\", new_dict)"
   ],
   "metadata": {
    "id": "1QY3BKu2-J0H"
   },
   "execution_count": null,
   "outputs": []
  },
  {
   "cell_type": "code",
   "source": [
    "value = g.get(\"ключ1\")"
   ],
   "metadata": {
    "id": "NyrePa-roMZj"
   },
   "execution_count": null,
   "outputs": []
  },
  {
   "cell_type": "code",
   "source": [
    "value"
   ],
   "metadata": {
    "id": "nquQokWooEu9"
   },
   "execution_count": null,
   "outputs": []
  },
  {
   "cell_type": "code",
   "source": [
    "value_2 = g.get(\"по умолчанию\")"
   ],
   "metadata": {
    "id": "1cWa4NvloQOn"
   },
   "execution_count": null,
   "outputs": []
  },
  {
   "cell_type": "code",
   "source": [
    "type(value_2)"
   ],
   "metadata": {
    "id": "lCYsjcM_oUzZ"
   },
   "execution_count": null,
   "outputs": []
  },
  {
   "cell_type": "code",
   "source": [
    "new_dict"
   ],
   "metadata": {
    "id": "IqGikBFOobS9"
   },
   "execution_count": null,
   "outputs": []
  },
  {
   "cell_type": "markdown",
   "source": [
    "\n",
    "### **Арифметические операторы**\n",
    "Арифметические операторы в Python используются для выполнения базовых математических операций, таких как сложение, вычитание, умножение, деление и т. д."
   ],
   "metadata": {
    "id": "Qd2zwlXzp04Z"
   }
  },
  {
   "cell_type": "code",
   "source": [
    "# Арифметические операторы\n",
    "x = 10\n",
    "y = 3\n",
    "print(\"Сложение:\", x + y)\n",
    "print(\"Вычитание:\", x - y)\n",
    "print(\"Умножение:\", x * y)\n",
    "print(\"Деление:\", x / y)\n",
    "print(\"Целочисленное деление:\", x // y)\n",
    "print(\"Возведение в степень:\", x ** y)"
   ],
   "metadata": {
    "id": "fF-jkedfp2pO"
   },
   "execution_count": null,
   "outputs": []
  },
  {
   "cell_type": "code",
   "source": [
    "z = 10 / 5"
   ],
   "metadata": {
    "id": "R1aZ8VZHpDIO"
   },
   "execution_count": null,
   "outputs": []
  },
  {
   "cell_type": "code",
   "source": [
    "type(z)"
   ],
   "metadata": {
    "id": "iWVRWOslpFua"
   },
   "execution_count": null,
   "outputs": []
  },
  {
   "cell_type": "markdown",
   "source": [
    " - Оператор деления / всегда возвращает число с плавающей точкой.\n",
    " - Оператор целочисленного деления // отбрасывает дробную часть результата."
   ],
   "metadata": {
    "id": "av2WRyTQ_RYF"
   }
  },
  {
   "cell_type": "markdown",
   "source": [
    " - Для получения остатка от деления используется оператор %.\n",
    " - Комплексные математические операции можно выполнять с использованием встроенного модуля math."
   ],
   "metadata": {
    "id": "8tC8uVDi_a6y"
   }
  },
  {
   "cell_type": "code",
   "source": [
    "import math\n",
    "result = math.sqrt(x)  # Квадратный корень\n",
    "print(\"Квадратный корень из x:\", result)"
   ],
   "metadata": {
    "id": "_15R6xat_gD3"
   },
   "execution_count": null,
   "outputs": []
  },
  {
   "cell_type": "code",
   "source": [
    "x ** 0.5"
   ],
   "metadata": {
    "id": "NJFNf5HqpiO0"
   },
   "execution_count": null,
   "outputs": []
  },
  {
   "cell_type": "markdown",
   "source": [
    "Округление чисел.  \n",
    "Округление чисел в Python можно осуществлять различными способами, в зависимости от требований к точности."
   ],
   "metadata": {
    "id": "igk3rY8k_li0"
   }
  },
  {
   "cell_type": "code",
   "source": [
    "x = 10\n",
    "y = 3\n",
    "result = x / y\n",
    "print(\"Результат деления:\", result)\n",
    "\n",
    "rounded_result = round(result, 2)\n",
    "print(\"Округленный до двух знаков результат:\", rounded_result)"
   ],
   "metadata": {
    "id": "aVCVLkrv_tv5"
   },
   "execution_count": null,
   "outputs": []
  },
  {
   "cell_type": "markdown",
   "source": [
    " - Функция round() округляет число до указанного количества знаков после запятой.\n",
    " - Можно использовать строковое форматирование для более гибкого контроля над округлением."
   ],
   "metadata": {
    "id": "cU3x19zQ_8cu"
   }
  },
  {
   "cell_type": "markdown",
   "source": [
    " - f-строки и метод format() позволяют задавать формат вывода с нужным количеством знаков после запятой."
   ],
   "metadata": {
    "id": "fkYTsKi2CqqQ"
   }
  },
  {
   "cell_type": "code",
   "source": [
    "formatted_result = \"{:.3f}\".format(result)\n",
    "formatted_result_fstring = f\"{result:.4f}\"\n",
    "print(\"Округление с format:\", formatted_result)\n",
    "print(\"Округление с f-строками:\", formatted_result_fstring)"
   ],
   "metadata": {
    "id": "oFr8jgG7Cs7v"
   },
   "execution_count": null,
   "outputs": []
  },
  {
   "cell_type": "markdown",
   "source": [
    "Операторы сравнения.  \n",
    "Операторы сравнения используются для сопоставления значений и возвращают логическое значение (True или False)."
   ],
   "metadata": {
    "id": "lE02cHcWC05Y"
   }
  },
  {
   "cell_type": "code",
   "source": [
    "x = 10\n",
    "y = 3\n",
    "print(\"x больше y:\", x > y)\n",
    "print(\"x меньше y:\", x < y)\n",
    "print(\"x равно y:\", x == y)\n",
    "print(\"x не равно y:\", x != y)"
   ],
   "metadata": {
    "id": "v8R8zsDOp4i9"
   },
   "execution_count": null,
   "outputs": []
  },
  {
   "cell_type": "markdown",
   "source": [
    " - Python поддерживает цепочки сравнений: a < b < c."
   ],
   "metadata": {
    "id": "idvCUZ59C_wA"
   }
  },
  {
   "cell_type": "markdown",
   "source": [
    " - Для проверки нескольких условий одновременно можно использовать логические операторы.\n",
    " - В Python == используется для сравнения значений, а is — для сравнения объектов (их идентичности)."
   ],
   "metadata": {
    "id": "0XefMS3TDI4M"
   }
  },
  {
   "cell_type": "code",
   "source": [
    "z = [1, 2, 3]\n",
    "w = [1, 2, 3]\n",
    "print(z == w)  # True (значения равны)\n",
    "print(z is w)  # False (разные объекты)"
   ],
   "metadata": {
    "id": "CH4oBTyEDOx1"
   },
   "execution_count": null,
   "outputs": []
  },
  {
   "cell_type": "markdown",
   "source": [
    "Логические операторы.  \n",
    "Логические операторы (and, or, not) используются для объединения и инверсии логических выражений."
   ],
   "metadata": {
    "id": "gOWhpnQUDSKv"
   }
  },
  {
   "cell_type": "code",
   "source": [
    "x, y"
   ],
   "metadata": {
    "id": "o9aPxth6DlqC"
   },
   "execution_count": null,
   "outputs": []
  },
  {
   "cell_type": "code",
   "source": [
    "print(\"x > 5 и y < 5:\", x > 5 and y < 5)\n",
    "print(\"x > 5 или y > 5:\", x > 5 or y > 5)\n",
    "print(\"Не x > 5:\", not x > 5)"
   ],
   "metadata": {
    "id": "0TuWlOx5p6xG"
   },
   "execution_count": null,
   "outputs": []
  },
  {
   "cell_type": "markdown",
   "source": [
    "- Оператор and возвращает True, если оба выражения истинны.\n",
    "- Оператор or возвращает True, если хотя бы одно выражение истинно.\n",
    "- Оператор not инвертирует значение выражения."
   ],
   "metadata": {
    "id": "INRmyRTwDpnd"
   }
  },
  {
   "cell_type": "markdown",
   "source": [
    "- Логические операторы часто используются в условных операторах (if, while) для построения сложных условий."
   ],
   "metadata": {
    "id": "qLeCpIXyDvsw"
   }
  },
  {
   "cell_type": "code",
   "source": [
    "if x > 5 and y > 5:\n",
    "    print(\"x больше 5 и y меньше 5\")"
   ],
   "metadata": {
    "id": "f_s6zY9NDy1y"
   },
   "execution_count": null,
   "outputs": []
  },
  {
   "cell_type": "code",
   "source": [
    "not True"
   ],
   "metadata": {
    "id": "rLiyYGZZquuw"
   },
   "execution_count": null,
   "outputs": []
  },
  {
   "cell_type": "markdown",
   "source": [
    "### Условные конструкции.  \n",
    "Условные конструкции (if, elif, else) позволяют выполнять код в зависимости от выполнения определенного условия."
   ],
   "metadata": {
    "id": "iT09-FJ8p8Pk"
   }
  },
  {
   "cell_type": "code",
   "source": [
    "if x > y:\n",
    "    print(\"x больше y\")\n",
    "elif x < y:\n",
    "    print(\"x меньше y\")\n",
    "else:\n",
    "    print(\"x равно y\")"
   ],
   "metadata": {
    "id": "9QYaSx9-p99T"
   },
   "execution_count": null,
   "outputs": []
  },
  {
   "cell_type": "markdown",
   "source": [
    "- Конструкция if проверяет условие, и если оно истинно, выполняется код, расположенный под ним.\n",
    "- Конструкция elif (сокращение от “else if”) проверяет дополнительное условие, если предыдущее оказалось ложным.\n",
    "- Конструкция else выполняет код, если ни одно из предыдущих условий не было выполнено."
   ],
   "metadata": {
    "id": "TtH3H3dZD5Ta"
   }
  },
  {
   "cell_type": "markdown",
   "source": [
    "- Можно использовать вложенные конструкции if для проверки нескольких условий на разных уровнях.\n",
    "- Тернарный оператор позволяет записывать простые условия в одну строку."
   ],
   "metadata": {
    "id": "PYvz9bwPEAs9"
   }
  },
  {
   "cell_type": "code",
   "source": [
    "result = \"x больше y\" if x > y else \"x не больше y\"\n",
    "print(result)"
   ],
   "metadata": {
    "id": "1kCXaWviEG--"
   },
   "execution_count": null,
   "outputs": []
  },
  {
   "cell_type": "markdown",
   "source": [
    "### **Функции в Python**  "
   ],
   "metadata": {
    "id": "YU8FvYhpE8jW"
   }
  },
  {
   "cell_type": "markdown",
   "source": [
    "Функции в Python — это блоки кода, которые выполняют определенные задачи и могут быть вызваны многократно. Они помогают структурировать код, улучшать его читаемость и повторное использование."
   ],
   "metadata": {
    "id": "_Kst6AyIFKyH"
   }
  },
  {
   "cell_type": "code",
   "source": [
    "def add(a, b):\n",
    "    return a + b\n",
    "\n",
    "result = add(5, 3)\n",
    "print(\"Результат сложения:\", result)"
   ],
   "metadata": {
    "id": "z7gQYHSkE8ja"
   },
   "execution_count": null,
   "outputs": []
  },
  {
   "cell_type": "markdown",
   "source": [
    "- Вызов функции осуществляется через ее имя и передачу аргументов в круглых скобках."
   ],
   "metadata": {
    "id": "QiD2ZmRZFR61"
   }
  },
  {
   "cell_type": "markdown",
   "source": [
    "**Аргументы функции.**  \n",
    "Функции могут принимать аргументы, которые передаются при вызове и используются внутри функции. Аргументы могут быть обязательными, позиционными и именованными."
   ],
   "metadata": {
    "id": "VEGuU3-8FYag"
   }
  },
  {
   "cell_type": "code",
   "source": [
    "def greet(name, greeting=\"Hello\"):\n",
    "    return f\"{greeting}, {name}!\"\n",
    "\n",
    "print(greet(\"Alice\"))\n",
    "print(greet(\"Bob\", \"Hi\"))"
   ],
   "metadata": {
    "id": "niZzU7KWFeJ_"
   },
   "execution_count": null,
   "outputs": []
  },
  {
   "cell_type": "markdown",
   "source": [
    "- Параметры функции могут иметь значения по умолчанию, что позволяет вызывать функцию с меньшим числом аргументов.\n",
    "- Именованные аргументы позволяют явно указывать, какой параметр принимает то или иное значение, улучшая читаемость кода."
   ],
   "metadata": {
    "id": "rFdbcGJcFjuN"
   }
  },
  {
   "cell_type": "markdown",
   "source": [
    "- Используйте *args для передачи произвольного количества позиционных аргументов.\n",
    "- Используйте **kwargs для передачи произвольного количества именованных аргументов."
   ],
   "metadata": {
    "id": "IjDoQOLgFpVE"
   }
  },
  {
   "cell_type": "code",
   "source": [
    "def display_info(*args, **kwargs):\n",
    "    print(\"Позиционные аргументы:\", args)\n",
    "    print(\"Именованные аргументы:\", kwargs)\n",
    "\n",
    "display_info(1, 2, 3, name=\"Alice\", age=30)"
   ],
   "metadata": {
    "id": "TzBrFslxFtUY"
   },
   "execution_count": null,
   "outputs": []
  },
  {
   "cell_type": "markdown",
   "source": [
    "**Возврат значений из функции.**  \n",
    "Функция может возвращать результат своей работы с помощью ключевого слова return. Возвращаемое значение может быть простым типом данных, объектом, кортежем или даже другой функцией."
   ],
   "metadata": {
    "id": "aLnbHDq_Fv8B"
   }
  },
  {
   "cell_type": "code",
   "source": [
    "def multiply(a, b):\n",
    "    return a * b\n",
    "\n",
    "result = multiply(4, 5)\n",
    "print(\"Результат умножения:\", result)"
   ],
   "metadata": {
    "id": "8SrMcCOZF0-G"
   },
   "execution_count": null,
   "outputs": []
  },
  {
   "cell_type": "markdown",
   "source": [
    "- Функция может также возвращать несколько значений в виде кортежа.\n",
    "- Если return не указан, функция возвращает None."
   ],
   "metadata": {
    "id": "MWKyHnroF4WE"
   }
  },
  {
   "cell_type": "markdown",
   "source": [
    "- Используйте распаковку кортежей для получения нескольких значений из функции."
   ],
   "metadata": {
    "id": "jskdr-1AF-Si"
   }
  },
  {
   "cell_type": "code",
   "source": [
    "def calculate(a, b):\n",
    "    return a + b, a * b\n",
    "\n",
    "sum_result, multiply_result = calculate(3, 4)\n",
    "print(\"Сумма:\", sum_result)\n",
    "print(\"Произведение:\", multiply_result)"
   ],
   "metadata": {
    "id": "1WHaOmvoGAMW"
   },
   "execution_count": null,
   "outputs": []
  },
  {
   "cell_type": "markdown",
   "source": [
    "**Область видимости и время жизни переменных.**  \n",
    "Переменные, определенные внутри функции, имеют локальную область видимости, то есть они недоступны за пределами функции. Глобальные переменные доступны в любой части программы, но их изменение внутри функции требует использования ключевого слова global."
   ],
   "metadata": {
    "id": "WeZxRRWHGIFG"
   }
  },
  {
   "cell_type": "code",
   "source": [
    "x = 10  # Глобальная переменная\n",
    "\n",
    "def modify_variable():\n",
    "    #global x\n",
    "    x = 5  # Изменение глобальной переменной\n",
    "    print(\"Внутри функции x:\", x)\n",
    "\n",
    "modify_variable()\n",
    "print(\"Вне функции x:\", x)"
   ],
   "metadata": {
    "id": "sFObVSDFGOVF"
   },
   "execution_count": null,
   "outputs": []
  },
  {
   "cell_type": "markdown",
   "source": [
    "- Для создания вложенных функций, которые будут использовать переменные из внешних функций, используйте ключевое слово nonlocal."
   ],
   "metadata": {
    "id": "SApjP--EGYnW"
   }
  },
  {
   "cell_type": "code",
   "source": [
    "def outer():\n",
    "    y = 10\n",
    "\n",
    "    def inner():\n",
    "        #nonlocal y\n",
    "        y = 20\n",
    "        print(\"Внутри inner, y =\", y)\n",
    "\n",
    "    inner()\n",
    "    print(\"Внутри outer, y =\", y)\n",
    "\n",
    "outer()"
   ],
   "metadata": {
    "id": "f50hjCZnGdgg"
   },
   "execution_count": null,
   "outputs": []
  },
  {
   "cell_type": "markdown",
   "source": [
    "**Анонимные функции (лямбда-функции).**  \n",
    "Лямбда-функции — это небольшие анонимные функции, определяемые с помощью ключевого слова lambda. Они часто используются для создания коротких одноразовых функций."
   ],
   "metadata": {
    "id": "4UojeA-KGkcx"
   }
  },
  {
   "cell_type": "code",
   "source": [
    "square = lambda x: x ** 2\n",
    "print(\"Квадрат числа 5:\", square(5))"
   ],
   "metadata": {
    "id": "Bf3T-ZV0Gn06"
   },
   "execution_count": null,
   "outputs": []
  },
  {
   "cell_type": "code",
   "source": [
    "add = lambda a, b: a + b\n",
    "print(\"Сумма 3 и 4:\", add(3, 4))"
   ],
   "metadata": {
    "id": "X4wHqKXstvmz"
   },
   "execution_count": null,
   "outputs": []
  },
  {
   "cell_type": "markdown",
   "source": [
    "- Лямбда-функции не требуют имени и могут быть использованы сразу после создания.\n",
    "- Они удобны для использования в таких функциях, как map(), filter(), и sorted()."
   ],
   "metadata": {
    "id": "vLBdvoipGsqY"
   }
  },
  {
   "cell_type": "markdown",
   "source": [
    "Применение анонимных функций:\n",
    "- однократное использование функции;\n",
    "- передача функций в качестве аргументов другим функциям;\n",
    "- возвращение функции в качестве результата другой функции."
   ],
   "metadata": {
    "id": "f4efLdxZGv-R"
   }
  },
  {
   "cell_type": "code",
   "source": [
    "numbers = [1, 2, 3, 4, 5]\n",
    "squared_numbers = list(map(lambda x: x ** 2, numbers))\n",
    "print(\"Квадраты чисел:\", squared_numbers)"
   ],
   "metadata": {
    "id": "M3QD4dK8GymA"
   },
   "execution_count": null,
   "outputs": []
  },
  {
   "cell_type": "markdown",
   "source": [
    "**Функции высшего порядка.**  \n",
    "Функции высшего порядка — это функции, которые принимают другие функции в качестве аргументов или возвращают функции в качестве результата."
   ],
   "metadata": {
    "id": "wUL7pGCoG2LZ"
   }
  },
  {
   "cell_type": "code",
   "source": [
    "def apply_function(func, value):\n",
    "    return func(value)\n",
    "\n",
    "result = apply_function(lambda x: x ** 2, 5)\n",
    "print(\"Результат применения функции:\", result)"
   ],
   "metadata": {
    "id": "skRMBBltG8g2"
   },
   "execution_count": null,
   "outputs": []
  },
  {
   "cell_type": "markdown",
   "source": [
    "- Такие функции, как map(), filter(), и reduce(), являются примерами функций высшего порядка."
   ],
   "metadata": {
    "id": "28b3kn0yHImA"
   }
  },
  {
   "cell_type": "markdown",
   "source": [
    "- Используйте декораторы для добавления функциональности к функциям без изменения их исходного кода."
   ],
   "metadata": {
    "id": "zHsz5dZAHOtq"
   }
  },
  {
   "cell_type": "code",
   "source": [
    "def decorator(func):\n",
    "    def wrapper():\n",
    "        print(\"Перед вызовом функции\")\n",
    "        func()\n",
    "        print(\"После вызова функции\")\n",
    "    return wrapper\n",
    "\n",
    "@decorator\n",
    "def greet():\n",
    "    print(\"Привет!\")\n",
    "\n",
    "greet()"
   ],
   "metadata": {
    "id": "ou7Bthf-HQIk"
   },
   "execution_count": null,
   "outputs": []
  },
  {
   "cell_type": "markdown",
   "source": [
    "### **Рекурсия в Python**  \n",
    "Рекурсия — это метод программирования, при котором функция вызывает саму себя для решения более простой версии той же задачи. Это позволяет решать сложные задачи, разбивая их на более простые подзадачи, каждая из которых может быть решена аналогичным образом.\n"
   ],
   "metadata": {
    "id": "RcAHLNH5IMjj"
   }
  },
  {
   "cell_type": "markdown",
   "source": [
    "Предположим, что у нас есть задача вычисления факториала числа."
   ],
   "metadata": {
    "id": "rDlgjpciITxL"
   }
  },
  {
   "cell_type": "code",
   "source": [
    "def factorial(n):\n",
    "    if n == 1:\n",
    "        return 1\n",
    "    else:\n",
    "        return n * factorial(n - 1)\n",
    "\n",
    "print(factorial(5))"
   ],
   "metadata": {
    "id": "nD9b_5bTIVDP"
   },
   "execution_count": null,
   "outputs": []
  },
  {
   "cell_type": "code",
   "source": [
    "factorial(1)"
   ],
   "metadata": {
    "id": "_dwy9eyBvHsU"
   },
   "execution_count": null,
   "outputs": []
  },
  {
   "cell_type": "markdown",
   "source": [
    "Здесь функция factorial вызывает саму себя до тех пор, пока не достигнет базового случая (n == 1)."
   ],
   "metadata": {
    "id": "r0iVPJ0TIXpH"
   }
  },
  {
   "cell_type": "markdown",
   "source": [
    "- Базовый случай: каждый рекурсивный алгоритм должен иметь условие, при котором рекурсия прекращается. Без базового случая рекурсия приведет к бесконечному вызову функции и ошибке переполнения стека (stack overflow).\n",
    "- Рекурсивный случай: это часть функции, где происходит вызов самой себя с измененными аргументами, приближающими задачу к базовому случаю.\n"
   ],
   "metadata": {
    "id": "uV_OxxvvIddd"
   }
  },
  {
   "cell_type": "markdown",
   "source": [
    "**Вычисление чисел Фибоначчи.**  \n",
    "Числа Фибоначчи — это последовательность, в которой каждое число равно сумме двух предыдущих. Вычисление n-го числа Фибоначчи является классическим примером использования рекурсии."
   ],
   "metadata": {
    "id": "5X_o7cGOImSZ"
   }
  },
  {
   "cell_type": "code",
   "source": [
    "def fibonacci_recursive(n):\n",
    "    if n <= 1:\n",
    "        return n\n",
    "    else:\n",
    "        return fibonacci_recursive(n-1) + fibonacci_recursive(n-2)"
   ],
   "metadata": {
    "id": "SEJDRmXGIluG"
   },
   "execution_count": null,
   "outputs": []
  },
  {
   "cell_type": "code",
   "source": [
    "# Вычисление первых 15 чисел Фибоначчи\n",
    "fib_15 = [fibonacci_recursive(i) for i in range(15)]\n",
    "print(fib_15)"
   ],
   "metadata": {
    "id": "HNCM5uxCIsTj"
   },
   "execution_count": null,
   "outputs": []
  },
  {
   "cell_type": "markdown",
   "source": [
    "Здесь функция вызывает саму себя дважды, чтобы вычислить два предыдущих числа в последовательности. Базовым случаем является n <= 1, при котором функция возвращает само число n.\n"
   ],
   "metadata": {
    "id": "NgejLVG2Iu18"
   }
  },
  {
   "cell_type": "markdown",
   "source": [
    "**Преимущества рекурсии.**  \n",
    "Рекурсия позволяет выразить решение задачи в более интуитивной и естественной форме. Она часто используется для решения задач, связанных с деревьями, графами и другими структурами, которые легко разбиваются на подзадачи.\n",
    "- Простота кода: рекурсивные функции часто короче и проще для понимания, особенно при работе со сложными структурами данных.\n",
    "- Естественная декомпозиция задачи: многие задачи (например, обход дерева) естественно описываются рекурсивными алгоритмами."
   ],
   "metadata": {
    "id": "Aqu5JzUhIwn2"
   }
  },
  {
   "cell_type": "markdown",
   "source": [
    "**Недостатки рекурсии.**  \n",
    "- Переполнение стека: при слишком глубокой рекурсии возможно переполнение стека вызовов, что приводит к ошибке RecursionError.\n",
    "- Неэффективность: в некоторых задачах, таких как вычисление чисел Фибоначчи, рекурсивный подход может быть крайне неэффективным из-за большого количества повторных вычислений."
   ],
   "metadata": {
    "id": "FVm_WVbfI9ly"
   }
  },
  {
   "cell_type": "code",
   "source": [
    "fibonacci_recursive(999)"
   ],
   "metadata": {
    "id": "NEc3Y2Jcv0pY"
   },
   "execution_count": null,
   "outputs": []
  },
  {
   "cell_type": "code",
   "source": [
    "%%time\n",
    "fibonacci_recursive(30)"
   ],
   "metadata": {
    "id": "PeWATrc7JHqS"
   },
   "execution_count": null,
   "outputs": []
  },
  {
   "cell_type": "code",
   "source": [
    "%%time\n",
    "fibonacci_recursive(43)"
   ],
   "metadata": {
    "id": "VLuLT_TrJJb_"
   },
   "execution_count": null,
   "outputs": []
  },
  {
   "cell_type": "markdown",
   "source": [
    "**Оптимизация рекурсивных алгоритмов.**  \n",
    "Для решения проблемы неэффективности рекурсии можно использовать методы оптимизации, такие как мемоизация (caching)."
   ],
   "metadata": {
    "id": "yPi7JNAQJO2V"
   }
  },
  {
   "cell_type": "code",
   "source": [
    "from functools import lru_cache\n",
    "\n",
    "@lru_cache(maxsize=None)\n",
    "def fibonacci_memoized(n):\n",
    "    if n <= 1:\n",
    "        return n\n",
    "    else:\n",
    "        return fibonacci_memoized(n-1) + fibonacci_memoized(n-2)"
   ],
   "metadata": {
    "id": "nxft0SKtJS2b"
   },
   "execution_count": null,
   "outputs": []
  },
  {
   "cell_type": "code",
   "source": [
    "%%time\n",
    "print(fibonacci_memoized(43))"
   ],
   "metadata": {
    "id": "R4sl1qNkJXUz"
   },
   "execution_count": null,
   "outputs": []
  },
  {
   "cell_type": "code",
   "source": [
    "%%time\n",
    "print(fibonacci_memoized(999))"
   ],
   "metadata": {
    "id": "lzktaJlNxT_t"
   },
   "execution_count": null,
   "outputs": []
  },
  {
   "cell_type": "markdown",
   "source": [
    "- Мемоизация: Используя декоратор @lru_cache, можно хранить результаты предыдущих вызовов функции и переиспользовать их, избегая избыточных вычислений.\n",
    "- Итеративные решения: Для некоторых задач, таких как вычисление чисел Фибоначчи, итеративный подход может быть более эффективным."
   ],
   "metadata": {
    "id": "FigWuY-aJkda"
   }
  },
  {
   "cell_type": "code",
   "source": [
    "def fibonacci_iterative(n):\n",
    "    a, b = 0, 1\n",
    "    for _ in range(n):\n",
    "        a, b = b, a + b\n",
    "    return a"
   ],
   "metadata": {
    "id": "rDSKdcHbJqjB"
   },
   "execution_count": null,
   "outputs": []
  },
  {
   "cell_type": "code",
   "source": [
    "%%time\n",
    "print(fibonacci_iterative(43))"
   ],
   "metadata": {
    "id": "ASvrCbYsJtVK"
   },
   "execution_count": null,
   "outputs": []
  },
  {
   "cell_type": "code",
   "source": [
    "%%time\n",
    "print(fibonacci_iterative(999))"
   ],
   "metadata": {
    "id": "CrTnWuObxrsq"
   },
   "execution_count": null,
   "outputs": []
  },
  {
   "cell_type": "markdown",
   "source": [
    "### **Циклы в Python**  \n",
    "Циклы — это фундаментальная конструкция программирования, которая позволяет выполнять определенный блок кода многократно. В Python существует два основных типа циклов: for и while. Они позволяют автоматизировать повторяющиеся задачи, работать с последовательностями данных и упрощать обработку массивов информации."
   ],
   "metadata": {
    "id": "PCV7OaRQp_-e"
   }
  },
  {
   "cell_type": "markdown",
   "source": [
    "**Цикл for.**  \n",
    "Цикл for в Python используется для итерации по элементам последовательности (например, список, строка, кортеж) или другого итерируемого объекта (например, диапазон чисел)."
   ],
   "metadata": {
    "id": "f_RRNgPcLEfv"
   }
  },
  {
   "cell_type": "code",
   "source": [
    "for i in range(5):\n",
    "    print(\"i:\", i)"
   ],
   "metadata": {
    "id": "MpCjGfsTqCNw"
   },
   "execution_count": null,
   "outputs": []
  },
  {
   "cell_type": "markdown",
   "source": [
    "Здесь range(5) генерирует последовательность чисел от 0 до 4, и for итерирует по этой последовательности, выводя каждое значение i."
   ],
   "metadata": {
    "id": "tkl_iQvLLKeT"
   }
  },
  {
   "cell_type": "markdown",
   "source": [
    "- Итерация по любой последовательности: цикл for может итерировать по любому итерируемому объекту, включая строки, списки, кортежи, словари и множества.\n"
   ],
   "metadata": {
    "id": "rDT5jpArLMOy"
   }
  },
  {
   "cell_type": "code",
   "source": [
    "# Итерация по строке\n",
    "for char in \"Python\":\n",
    "    print(char)"
   ],
   "metadata": {
    "id": "sjlwhvE-LQ5w"
   },
   "execution_count": null,
   "outputs": []
  },
  {
   "cell_type": "code",
   "source": [
    "# Итерация по списку\n",
    "numbers = [1, 2, 3, 4, 5]\n",
    "for num in numbers:\n",
    "    print(num)"
   ],
   "metadata": {
    "id": "psKL18aWLUyN"
   },
   "execution_count": null,
   "outputs": []
  },
  {
   "cell_type": "markdown",
   "source": [
    "- Использование функции enumerate: часто при итерации требуется доступ к индексу элемента. Функция enumerate возвращает как индекс, так и значение."
   ],
   "metadata": {
    "id": "mbg7lRErLXeD"
   }
  },
  {
   "cell_type": "code",
   "source": [
    "fruits = [\"apple\", \"banana\", \"cherry\"]\n",
    "for index, fruit in enumerate(fruits):\n",
    "    print(f\"Индекс {index}: {fruit}\")"
   ],
   "metadata": {
    "id": "JeQiTWZFLawd"
   },
   "execution_count": null,
   "outputs": []
  },
  {
   "cell_type": "markdown",
   "source": [
    "- Использование zip для параллельной итерации по нескольким последовательностям:"
   ],
   "metadata": {
    "id": "EnBqFd23Le0G"
   }
  },
  {
   "cell_type": "code",
   "source": [
    "names = [\"Alice\", \"Bob\", \"Charlie\"]\n",
    "ages = [25, 30, 35]\n",
    "\n",
    "for name, age in zip(names, ages):\n",
    "    print(f\"{name} is {age} years old\")"
   ],
   "metadata": {
    "id": "DqenxdtFLhEp"
   },
   "execution_count": null,
   "outputs": []
  },
  {
   "cell_type": "markdown",
   "source": [
    "**Цикл while.**  \n",
    "Цикл while выполняется до тех пор, пока указанное логическое условие остается истинным. Он используется, когда заранее неизвестно, сколько итераций потребуется."
   ],
   "metadata": {
    "id": "QofpoKMuLjur"
   }
  },
  {
   "cell_type": "code",
   "source": [
    "n = 0\n",
    "while n < 5:\n",
    "    print(\"n:\", n)\n",
    "    n += 1"
   ],
   "metadata": {
    "id": "_Ctg7SkTLo9Y"
   },
   "execution_count": null,
   "outputs": []
  },
  {
   "cell_type": "markdown",
   "source": [
    "Здесь цикл продолжается, пока n меньше 5. В каждой итерации значение n увеличивается на 1."
   ],
   "metadata": {
    "id": "iB2vfL8bLq9K"
   }
  },
  {
   "cell_type": "markdown",
   "source": [
    "- Неограниченные итерации: цикл while может использоваться для создания бесконечных циклов, если условие всегда остается истинным."
   ],
   "metadata": {
    "id": "o7UTFrFVLsbs"
   }
  },
  {
   "cell_type": "code",
   "source": [
    "while True:\n",
    "    print(\"Это бесконечный цикл!\")"
   ],
   "metadata": {
    "id": "FAWAKhDYzEyd"
   },
   "execution_count": null,
   "outputs": []
  },
  {
   "cell_type": "code",
   "source": [
    "while True:e\n",
    "    print(\"Это бесконечный цикл!\")\n",
    "    break  # Добавляем break, чтобы выйти из цикла"
   ],
   "metadata": {
    "id": "MtjGCIjeLv_k"
   },
   "execution_count": null,
   "outputs": []
  },
  {
   "cell_type": "markdown",
   "source": [
    "- Обработка пользовательского ввода: while часто используется для обработки пользовательского ввода до тех пор, пока не будет введено корректное значение."
   ],
   "metadata": {
    "id": "H3wjo3NaL3Ri"
   }
  },
  {
   "cell_type": "code",
   "source": [
    "user_input = \"\"\n",
    "while user_input.lower() != \"exit\":\n",
    "    user_input = input(\"Введите команду (для выхода наберите 'exit'): \")"
   ],
   "metadata": {
    "id": "8FTUz7n6L6c0"
   },
   "execution_count": null,
   "outputs": []
  },
  {
   "cell_type": "markdown",
   "source": [
    "**Операторы управления циклом.**  \n",
    "Python предоставляет несколько операторов, которые можно использовать для управления потоком выполнения внутри цикла: break, continue и else."
   ],
   "metadata": {
    "id": "TKMpAR5jMAyo"
   }
  },
  {
   "cell_type": "markdown",
   "source": [
    "- break: завершает цикл досрочно, независимо от того, выполнилось ли основное условие."
   ],
   "metadata": {
    "id": "tPX72geAMGGY"
   }
  },
  {
   "cell_type": "code",
   "source": [
    "for i in range(10):\n",
    "    if i == 5:\n",
    "        break\n",
    "    print(i)"
   ],
   "metadata": {
    "id": "ijLSlCpML-3s"
   },
   "execution_count": null,
   "outputs": []
  },
  {
   "cell_type": "markdown",
   "source": [
    "В этом примере цикл завершится, когда i станет равно 5, и остальные итерации не будут выполнены."
   ],
   "metadata": {
    "id": "2255h-HAMMLi"
   }
  },
  {
   "cell_type": "markdown",
   "source": [
    "- continue: прерывает текущую итерацию и переходит к следующей, пропуская оставшийся код в текущей итерации."
   ],
   "metadata": {
    "id": "yjv6dVJeMOxa"
   }
  },
  {
   "cell_type": "code",
   "source": [
    "for i in range(5):\n",
    "    if i == 2:\n",
    "        continue\n",
    "    print(i)"
   ],
   "metadata": {
    "id": "sW6uV7HJMRwi"
   },
   "execution_count": null,
   "outputs": []
  },
  {
   "cell_type": "markdown",
   "source": [
    "Здесь i == 2 пропускается, и цикл переходит к следующей итерации."
   ],
   "metadata": {
    "id": "mzCCVDouMTzi"
   }
  },
  {
   "cell_type": "markdown",
   "source": [
    "- else: выполняется после завершения цикла, если цикл не был прерван оператором break."
   ],
   "metadata": {
    "id": "jhRsvt2PMVf0"
   }
  },
  {
   "cell_type": "code",
   "source": [
    "for i in range(5):\n",
    "    print(i)\n",
    "    if i == 3:\n",
    "        break\n",
    "else:\n",
    "    print(\"Цикл завершен\")"
   ],
   "metadata": {
    "id": "nqcxfyAhMdlC"
   },
   "execution_count": null,
   "outputs": []
  },
  {
   "cell_type": "markdown",
   "source": [
    "- Используйте else в циклах для выполнения кода, если не произошло досрочного завершения. Это полезно, например, при поиске элементов в последовательности."
   ],
   "metadata": {
    "id": "u0h86nyhMht1"
   }
  },
  {
   "cell_type": "code",
   "source": [
    "numbers = [1, 2, 3, 4, 5]\n",
    "\n",
    "for num in numbers:\n",
    "    if num == 3:\n",
    "        print(\"Число 3 найдено!\")\n",
    "        break\n",
    "else:\n",
    "    print(\"Число 3 не найдено в списке.\")"
   ],
   "metadata": {
    "id": "qFG12TUoMkBN"
   },
   "execution_count": null,
   "outputs": []
  },
  {
   "cell_type": "markdown",
   "source": [
    "**Вложенные циклы.**  \n",
    "Циклы могут быть вложены друг в друга, что позволяет итерировать по многомерным структурам данных, например, по матрицам."
   ],
   "metadata": {
    "id": "Tv9eU6ptMnFE"
   }
  },
  {
   "cell_type": "code",
   "source": [
    "for i in range(3):\n",
    "    for j in range(3):\n",
    "        print(f\"i = {i}, j = {j}\")"
   ],
   "metadata": {
    "id": "L-Mgl8WpMt3Z"
   },
   "execution_count": null,
   "outputs": []
  },
  {
   "cell_type": "markdown",
   "source": [
    "- Вложенные циклы могут быть ресурсозатратными, особенно при работе с большими объемами данных, так как количество итераций увеличивается экспоненциально."
   ],
   "metadata": {
    "id": "kSAVRlRiMwDP"
   }
  },
  {
   "cell_type": "markdown",
   "source": [
    "- Избегайте избыточной вложенности циклов: Старайтесь минимизировать количество вложенных циклов, либо оптимизировать алгоритм для повышения производительности."
   ],
   "metadata": {
    "id": "QpFxf3-aMz07"
   }
  },
  {
   "cell_type": "markdown",
   "source": [
    "**Применение циклов в реальных задачах.**  \n",
    "Циклы — это основа многих алгоритмов и задач, таких как:\n",
    "\n",
    "- Обработка массивов данных: итерация по спискам и массивам.\n",
    "- Создание таймеров и счётчиков: использование цикла while для создания таймеров.\n",
    "- Поиск и сортировка: реализация алгоритмов поиска и сортировки с использованием вложенных циклов."
   ],
   "metadata": {
    "id": "MkvZ1GEAM24A"
   }
  },
  {
   "cell_type": "code",
   "source": [
    "# Поиск минимального элемента в списке\n",
    "numbers = [10, 2, 8, 6, 7, 5, 1]\n",
    "min_num = numbers[0]\n",
    "\n",
    "for num in numbers:\n",
    "    if num < min_num:\n",
    "        min_num = num\n",
    "\n",
    "print(\"Минимальное число:\", min_num)"
   ],
   "metadata": {
    "id": "GA7z2-TaPPQN"
   },
   "execution_count": null,
   "outputs": []
  },
  {
   "cell_type": "markdown",
   "source": [
    "## <a name=\"section4\"></a> **4. Чтение и запись текстовых (и не только) файлов**\n",
    "\n"
   ],
   "metadata": {
    "id": "QeHhfQA2tG-u"
   }
  },
  {
   "cell_type": "markdown",
   "source": [
    "### Десериализованные форматы\n",
    "\n",
    "Десериализованные форматы данных – это форматы, в которых данные хранятся в виде, пригодном для непосредственного чтения человеком или программы. Они, как правило, текстовые и их можно легко прочитать и изменить без использования специализированных инструментов."
   ],
   "metadata": {
    "id": "YP9W8mG2VFTK"
   }
  },
  {
   "cell_type": "markdown",
   "source": [
    "CSV (Comma-Separated Values):  \n",
    "\n",
    "- Плюсы: Простой и распространенный формат для табличных данных. Легко открывается в текстовых редакторах и электронных таблицах (например, Excel).\n",
    "- Минусы: Проблемы возникают, если данные содержат спецсимволы (двойные кавычки, переносы строк), что может привести к ошибкам при чтении и записи.  \n",
    "\n",
    "TXT (Text File):  \n",
    "\n",
    "- Плюсы: Универсальный текстовый формат для хранения различных типов данных, включая списки, логи, и пр.\n",
    "- Минусы: Отсутствие структуры данных, что делает его менее удобным для анализа.  \n",
    "\n",
    "Parquet:  \n",
    "\n",
    "- Плюсы: Формат с колонковой структурой, хорошо сжимаемый, что позволяет экономить место. Поддерживает партиционирование данных и эффективен для аналитических задач.\n",
    "- Минусы: Данные в виде строк занимают больше места, но формат по-прежнему человекочитаем. Требуется библиотека pyarrow для работы с этим форматом.  \n",
    "\n",
    "YAML, JSON:  \n",
    "\n",
    "- Плюсы: Человекочитаемые форматы, широко используемые для конфигураций и передачи данных. JSON особенно распространен в веб-разработке и API.\n",
    "- Минусы: JSON не поддерживает комментарии, в отличие от YAML. Также для сложных и больших наборов данных может стать менее удобным для чтения и редактирования.  \n",
    "\n",
    "Polars:  \n",
    "\n",
    "- Формат хранения: Polars, хотя сам по себе не является форматом хранения, это библиотека для работы с данными в виде таблиц (DataFrame) в Rust. Он может использовать форматы, такие как CSV или Parquet для хранения, но основной акцент на быстроту и оптимизацию работы с данными."
   ],
   "metadata": {
    "id": "xWY0pbrvVLOe"
   }
  },
  {
   "cell_type": "markdown",
   "source": [
    " ### Сериализованные форматы  \n",
    " Сериализованные форматы данных используются для хранения данных в виде, пригодном для быстрого чтения и записи, часто с упором на сжатие и оптимизацию."
   ],
   "metadata": {
    "id": "MFP8zjFJVal7"
   }
  },
  {
   "cell_type": "markdown",
   "source": [
    "ORC (Optimized Row Columnar):  \n",
    "\n",
    "- Плюсы: Формат, оптимизированный для хранения данных в Hadoop и Spark, обеспечивает высокую скорость чтения и записи данных. Эффективно сжимает данные и поддерживает сложные типы данных.\n",
    "- Минусы: В случае повреждения файла восстановление данных может быть сложным.  \n",
    "\n",
    "MPEG (Moving Picture Experts Group):\n",
    "\n",
    "- Плюсы: Стандарт для сжатия видеофайлов. Широко используется для хранения и передачи видео данных.\n",
    "- Минусы: Потеря качества при каждом сжатии (если используется формат с потерями, например, MPEG-2).  \n",
    "\n",
    "PNG (Portable Network Graphics):\n",
    "\n",
    "- Плюсы: Безопасный формат для хранения изображений с поддержкой прозрачности и сжатия без потерь.\n",
    "- Минусы: Размеры файлов могут быть больше, чем у форматов с потерями (например, JPEG)."
   ],
   "metadata": {
    "id": "bFBGknkvVcap"
   }
  },
  {
   "cell_type": "code",
   "source": [
    "# Запись данных в текстовый файл\n",
    "with open('output.txt', 'w') as file:\n",
    "    file.write(\"This is a new text file.\\n\")\n",
    "    file.write(\"We are writing some data into it.\\n\")"
   ],
   "metadata": {
    "id": "D_rDwVhttRF8"
   },
   "execution_count": null,
   "outputs": []
  },
  {
   "cell_type": "code",
   "source": [
    "# Проверка содержимого записанного файла\n",
    "with open('output.txt', 'r') as file:\n",
    "    content = file.read()\n",
    "    print(content)"
   ],
   "metadata": {
    "id": "cB0TOuAKtcEd"
   },
   "execution_count": null,
   "outputs": []
  },
  {
   "cell_type": "markdown",
   "source": [
    "## <a name=\"section5\"></a> **5. Чтение и запись файлов CSV**"
   ],
   "metadata": {
    "id": "al6zG921tlnJ"
   }
  },
  {
   "cell_type": "code",
   "source": [
    "# Создание примерного CSV файла\n",
    "import csv\n",
    "\n",
    "with open('example.csv', 'w', newline='') as csvfile:\n",
    "    fieldnames = ['Name', 'Age', 'City']\n",
    "    writer = csv.DictWriter(csvfile, fieldnames=fieldnames)\n",
    "\n",
    "    writer.writeheader()\n",
    "    writer.writerow({'Name': 'Alice', 'Age': 30, 'City': 'New York'})\n",
    "    writer.writerow({'Name': 'Bob', 'Age': 25, 'City': 'San Francisco'})\n",
    "    writer.writerow({'Name': 'Charlie', 'Age': 35, 'City': 'Los Angeles'})"
   ],
   "metadata": {
    "id": "wCr1Gg5HtdVb"
   },
   "execution_count": null,
   "outputs": []
  },
  {
   "cell_type": "code",
   "source": [
    "# Чтение данных из CSV файла\n",
    "with open('example.csv', 'r') as csvfile:\n",
    "    reader = csv.DictReader(csvfile)\n",
    "    for row in reader:\n",
    "        print(row)"
   ],
   "metadata": {
    "id": "cdp_yGVKtokk"
   },
   "execution_count": null,
   "outputs": []
  },
  {
   "cell_type": "markdown",
   "source": [
    "## <a name=\"section6\"></a> **6. Работа с библиотекой pandas для чтения и записи данных**"
   ],
   "metadata": {
    "id": "GwAKuNh6t4cL"
   }
  },
  {
   "cell_type": "code",
   "source": [
    "import pandas as pd\n",
    "\n",
    "# Создание примерного CSV файла\n",
    "data = {'Name': ['Alice', 'Bob', 'Charlie'],\n",
    "        'Age': [30, 25, 35],\n",
    "        'City': ['New York', 'San Francisco', 'Los Angeles']}\n",
    "df = pd.DataFrame(data)\n",
    "df.to_csv('example_pandas.csv', index=False)"
   ],
   "metadata": {
    "id": "YOwMKnh-tz0p"
   },
   "execution_count": null,
   "outputs": []
  },
  {
   "cell_type": "code",
   "source": [
    "# Чтение данных из CSV файла с помощью pandas\n",
    "df = pd.read_csv('example_pandas.csv')\n",
    "print(df)"
   ],
   "metadata": {
    "id": "0E0HY6ept9jP"
   },
   "execution_count": null,
   "outputs": []
  },
  {
   "cell_type": "markdown",
   "source": [
    "Также нам могут пригодиться методы чтение и из другого формата файлов, например:"
   ],
   "metadata": {
    "id": "IWHJsfI6TIxk"
   }
  },
  {
   "cell_type": "code",
   "source": [
    "# Чтение и запись данных в формате Excel\n",
    "excel_data = {'Name': ['Grace', 'Hank', 'Ivy'],\n",
    "              'Age': [29, 32, 24],\n",
    "              'City': ['Austin', 'Boston', 'Denver']}\n",
    "df_excel = pd.DataFrame(excel_data)\n",
    "df_excel.to_excel('example_pandas.xlsx', index=False)\n",
    "\n",
    "# Чтение данных из Excel файла\n",
    "df_excel_read = pd.read_excel('example_pandas.xlsx')\n",
    "print(\"Содержимое Excel файла:\")\n",
    "print(df_excel_read)"
   ],
   "metadata": {
    "id": "5DrpzEWBTOgx"
   },
   "execution_count": null,
   "outputs": []
  },
  {
   "cell_type": "code",
   "source": [
    "# Чтение и запись данных в формате Parquet\n",
    "parquet_data = {'Name': ['Jack', 'Karen', 'Leo'],\n",
    "                'Age': [31, 27, 45],\n",
    "                'City': ['Houston', 'Phoenix', 'Dallas']}\n",
    "df_parquet = pd.DataFrame(parquet_data)\n",
    "df_parquet.to_parquet('example_pandas.parquet', index=False)\n",
    "\n",
    "# Чтение данных из Parquet файла\n",
    "df_parquet_read = pd.read_parquet('example_pandas.parquet')\n",
    "print(\"Содержимое Parquet файла:\")\n",
    "print(df_parquet_read)"
   ],
   "metadata": {
    "id": "MBsH2wKuTWKk"
   },
   "execution_count": null,
   "outputs": []
  },
  {
   "cell_type": "code",
   "source": [
    "# Чтение и запись данных в формате JSON\n",
    "json_data = {'Name': ['Mona', 'Nina', 'Oscar'],\n",
    "             'Age': [23, 34, 29],\n",
    "             'City': ['Orlando', 'Las Vegas', 'Portland']}\n",
    "df_json = pd.DataFrame(json_data)\n",
    "df_json.to_json('example_pandas.json', orient='records', lines=True)\n",
    "\n",
    "# Чтение данных из JSON файла\n",
    "df_json_read = pd.read_json('example_pandas.json', orient='records', lines=True)\n",
    "print(\"Содержимое JSON файла:\")\n",
    "print(df_json_read)"
   ],
   "metadata": {
    "id": "GF3CjZahTY1K"
   },
   "execution_count": null,
   "outputs": []
  },
  {
   "cell_type": "markdown",
   "source": [
    "## <a name=\"section7\"></a> **7. Операции с многомерными массивами (NumPy)**"
   ],
   "metadata": {
    "id": "q5buWybA7d1E"
   }
  },
  {
   "cell_type": "code",
   "source": [
    "import numpy as np"
   ],
   "metadata": {
    "id": "xTz-HsNBuEmS"
   },
   "execution_count": null,
   "outputs": []
  },
  {
   "cell_type": "markdown",
   "source": [
    "### Создание массивов"
   ],
   "metadata": {
    "id": "9-wOpisg75Np"
   }
  },
  {
   "cell_type": "code",
   "source": [
    "# Создание одномерного массива\n",
    "a = np.array([1, 2, 3, 4, 5])\n",
    "print(\"Одномерный массив a:\", a)"
   ],
   "metadata": {
    "id": "m04UI0XU7k_7"
   },
   "execution_count": null,
   "outputs": []
  },
  {
   "cell_type": "code",
   "source": [
    "# Создание двумерного массива\n",
    "b = np.array([[1, 2, 3], [4, 5, 6]])\n",
    "print(\"Двумерный массив b:\\n\", b)"
   ],
   "metadata": {
    "id": "hmF2eskN7mi1"
   },
   "execution_count": null,
   "outputs": []
  },
  {
   "cell_type": "code",
   "source": [
    "# Создание массива с заданным диапазоном\n",
    "c = np.arange(10)\n",
    "print(\"Массив c с заданным диапазоном:\", c)"
   ],
   "metadata": {
    "id": "Vb9ifHAF7p5L"
   },
   "execution_count": null,
   "outputs": []
  },
  {
   "cell_type": "code",
   "source": [
    "# Создание массива с заданным шагом\n",
    "d = np.arange(0, 10, 2)\n",
    "print(\"Массив d с заданным шагом:\", d)"
   ],
   "metadata": {
    "id": "Qw6RBEBA7r1X"
   },
   "execution_count": null,
   "outputs": []
  },
  {
   "cell_type": "code",
   "source": [
    "# Создание массива из равномерно распределенных чисел\n",
    "e = np.linspace(0, 1, 5)\n",
    "print(\"Массив e из равномерно распределенных чисел:\", e)"
   ],
   "metadata": {
    "id": "UxqjxuvG7thC"
   },
   "execution_count": null,
   "outputs": []
  },
  {
   "cell_type": "code",
   "source": [
    "# Создание массива из нулей\n",
    "f = np.zeros((2, 3))\n",
    "print(\"Массив f из нулей:\\n\", f)"
   ],
   "metadata": {
    "id": "9rI8zDlo7u27"
   },
   "execution_count": null,
   "outputs": []
  },
  {
   "cell_type": "code",
   "source": [
    "# Создание массива из единиц\n",
    "g = np.ones((2, 3))\n",
    "print(\"Массив g из единиц:\\n\", g)"
   ],
   "metadata": {
    "id": "xEth_aSZ7yfe"
   },
   "execution_count": null,
   "outputs": []
  },
  {
   "cell_type": "code",
   "source": [
    "# Создание единичной матрицы\n",
    "h = np.eye(3)\n",
    "print(\"Единичная матрица h:\\n\", h)"
   ],
   "metadata": {
    "id": "9Ms0IY9A70Av"
   },
   "execution_count": null,
   "outputs": []
  },
  {
   "cell_type": "markdown",
   "source": [
    "### Индексация и срезы"
   ],
   "metadata": {
    "id": "BD4aeEpj76yk"
   }
  },
  {
   "cell_type": "code",
   "source": [
    "# Индексация одномерного массива\n",
    "print(\"Элемент массива a с индексом 2:\", a[2])"
   ],
   "metadata": {
    "id": "eTJlQ5XC705s"
   },
   "execution_count": null,
   "outputs": []
  },
  {
   "cell_type": "code",
   "source": [
    "# Индексация двумерного массива\n",
    "print(\"Элемент массива b в позиции (1, 2):\", b[1, 2])"
   ],
   "metadata": {
    "id": "9GvAQLfn8B5b"
   },
   "execution_count": null,
   "outputs": []
  },
  {
   "cell_type": "code",
   "source": [
    "# Срезы одномерного массива\n",
    "print(\"Срез массива a с 1 по 3 элемент:\", a[1:4])"
   ],
   "metadata": {
    "id": "YHxQwZS48D3I"
   },
   "execution_count": null,
   "outputs": []
  },
  {
   "cell_type": "code",
   "source": [
    "# Срезы двумерного массива\n",
    "print(\"Срез массива b первой строки:\", b[0, :])\n",
    "print(\"Срез массива b второго столбца:\", b[:, 1])"
   ],
   "metadata": {
    "id": "lQSSNNHl8FeX"
   },
   "execution_count": null,
   "outputs": []
  },
  {
   "cell_type": "markdown",
   "source": [
    "### Основные математические операции над массивами"
   ],
   "metadata": {
    "id": "RSLyIZOj8Jdf"
   }
  },
  {
   "cell_type": "code",
   "source": [
    "# Создание массивов для операций\n",
    "x = np.array([1, 2, 3])\n",
    "y = np.array([4, 5, 6])"
   ],
   "metadata": {
    "id": "p1jh4me-8GLW"
   },
   "execution_count": null,
   "outputs": []
  },
  {
   "cell_type": "code",
   "source": [
    "# Сложение массивов\n",
    "print(\"Сложение x и y:\", x + y)"
   ],
   "metadata": {
    "id": "vGY5X86W8MX4"
   },
   "execution_count": null,
   "outputs": []
  },
  {
   "cell_type": "code",
   "source": [
    "# Вычитание массивов\n",
    "print(\"Вычитание y из x:\", y - x)"
   ],
   "metadata": {
    "id": "TSMXDkPQ8OLD"
   },
   "execution_count": null,
   "outputs": []
  },
  {
   "cell_type": "code",
   "source": [
    "# Умножение массивов поэлементно\n",
    "print(\"Поэлементное умножение x и y:\", x * y)"
   ],
   "metadata": {
    "id": "4UyE_CPp8PQi"
   },
   "execution_count": null,
   "outputs": []
  },
  {
   "cell_type": "code",
   "source": [
    "# Деление массивов поэлементно\n",
    "print(\"Поэлементное деление y на x:\", y / x)"
   ],
   "metadata": {
    "id": "Njx1SJgW8Q1I"
   },
   "execution_count": null,
   "outputs": []
  },
  {
   "cell_type": "code",
   "source": [
    "# Возведение в степень\n",
    "print(\"Возведение x в квадрат:\", x ** 2)"
   ],
   "metadata": {
    "id": "qclPA_vJ8SET"
   },
   "execution_count": null,
   "outputs": []
  },
  {
   "cell_type": "code",
   "source": [
    "# Синус\n",
    "print(\"Синус элементов массива x:\", np.sin(x))"
   ],
   "metadata": {
    "id": "FWoQjKEb8TGh"
   },
   "execution_count": null,
   "outputs": []
  },
  {
   "cell_type": "code",
   "source": [
    "# Экспонента\n",
    "print(\"Экспонента элементов массива x:\", np.exp(x))"
   ],
   "metadata": {
    "id": "BIb2pIeK8a4B"
   },
   "execution_count": null,
   "outputs": []
  },
  {
   "cell_type": "code",
   "source": [
    "# Квадратный корень\n",
    "print(\"Квадратный корень элементов массива x:\", np.sqrt(x))"
   ],
   "metadata": {
    "id": "AKZSHRF58cDI"
   },
   "execution_count": null,
   "outputs": []
  },
  {
   "cell_type": "code",
   "source": [
    "# Создание двумерных массивов\n",
    "A = np.array([[1, 2], [3, 4]])\n",
    "B = np.array([[5, 6], [7, 8]])"
   ],
   "metadata": {
    "id": "3T69MMGr8c3W"
   },
   "execution_count": null,
   "outputs": []
  },
  {
   "cell_type": "code",
   "source": [
    "# Матричное умножение\n",
    "C = np.dot(A, B)\n",
    "print(\"Матричное умножение A и B:\\n\", C)"
   ],
   "metadata": {
    "id": "J_DvHTmE8hhZ"
   },
   "execution_count": null,
   "outputs": []
  },
  {
   "cell_type": "code",
   "source": [
    "# Транспонирование матрицы\n",
    "print(\"Транспонированная матрица A:\\n\", A.T)"
   ],
   "metadata": {
    "id": "rmnQadSt8jQ1"
   },
   "execution_count": null,
   "outputs": []
  },
  {
   "cell_type": "code",
   "source": [
    "# Нахождение обратной матрицы\n",
    "A_inv = np.linalg.inv(A)\n",
    "print(\"Обратная матрица для A:\\n\", A_inv)"
   ],
   "metadata": {
    "id": "Lr3zqiLe8kbV"
   },
   "execution_count": null,
   "outputs": []
  },
  {
   "cell_type": "code",
   "source": [
    "# Проверка: произведение матрицы на её обратную\n",
    "print(\"A умноженное на A_inv:\\n\", np.dot(A, A_inv))"
   ],
   "metadata": {
    "id": "dS1Z5MjO8pCO"
   },
   "execution_count": null,
   "outputs": []
  },
  {
   "cell_type": "markdown",
   "source": [
    "## <a name=\"section8\"></a> **8. \"Научные\" вычисления (SciPy)**"
   ],
   "metadata": {
    "id": "UiWAR2kn83f-"
   }
  },
  {
   "cell_type": "code",
   "source": [
    "import numpy as np\n",
    "from scipy import optimize\n",
    "from scipy import integrate\n",
    "from scipy import interpolate"
   ],
   "metadata": {
    "id": "vQxbzSTl8p-z"
   },
   "execution_count": null,
   "outputs": []
  },
  {
   "cell_type": "markdown",
   "source": [
    "### Нахождение экстремумов"
   ],
   "metadata": {
    "id": "eFFOFhgc9HRg"
   }
  },
  {
   "cell_type": "code",
   "source": [
    "# Определение функции\n",
    "def f(x):\n",
    "    return x**2 + 10 * np.sin(x)"
   ],
   "metadata": {
    "id": "G3meeA8Q87KU"
   },
   "execution_count": null,
   "outputs": []
  },
  {
   "cell_type": "code",
   "source": [
    "# Нахождение минимума функции\n",
    "result = optimize.minimize(f, x0=0)\n",
    "print(\"Минимум функции найден в точке:\", result.x)"
   ],
   "metadata": {
    "id": "nGprHVTv899M"
   },
   "execution_count": null,
   "outputs": []
  },
  {
   "cell_type": "code",
   "source": [
    "# Нахождение корней функции\n",
    "root_result = optimize.root(f, x0=0)\n",
    "print(\"Корень функции найден в точке:\", root_result.x)"
   ],
   "metadata": {
    "id": "Sd4en4FL8_f4"
   },
   "execution_count": null,
   "outputs": []
  },
  {
   "cell_type": "markdown",
   "source": [
    "### Решение уравнений"
   ],
   "metadata": {
    "id": "8-2cjBDC9K-g"
   }
  },
  {
   "cell_type": "code",
   "source": [
    "# Определение уравнения\n",
    "def equation(x):\n",
    "    return x**2 - 4"
   ],
   "metadata": {
    "id": "3_fY4hq39Ahb"
   },
   "execution_count": null,
   "outputs": []
  },
  {
   "cell_type": "code",
   "source": [
    "# Решение уравнения\n",
    "solution = optimize.root(equation, x0=1)\n",
    "print(\"Решение уравнения найдено в точке:\", solution.x)"
   ],
   "metadata": {
    "id": "THJCuenA9MoB"
   },
   "execution_count": null,
   "outputs": []
  },
  {
   "cell_type": "markdown",
   "source": [
    "### Работа с различными видами данных\n",
    "### Интерполяция"
   ],
   "metadata": {
    "id": "xHebu71y9REU"
   }
  },
  {
   "cell_type": "code",
   "source": [
    "# Исходные данные\n",
    "x = np.linspace(0, 10, 10)\n",
    "y = np.sin(x)\n",
    "\n",
    "# Интерполяция\n",
    "f_interp = interpolate.interp1d(x, y, kind='cubic')\n",
    "\n",
    "# Новые данные для интерполяции\n",
    "x_new = np.linspace(0, 10, 50)\n",
    "y_new = f_interp(x_new)"
   ],
   "metadata": {
    "id": "E9tXR9Cp9N0j"
   },
   "execution_count": null,
   "outputs": []
  },
  {
   "cell_type": "code",
   "source": [
    "x_new"
   ],
   "metadata": {
    "id": "uXXTnobqf5Fa"
   },
   "execution_count": null,
   "outputs": []
  },
  {
   "cell_type": "code",
   "source": [
    "y_new"
   ],
   "metadata": {
    "id": "_bvMAvacf6t6"
   },
   "execution_count": null,
   "outputs": []
  },
  {
   "cell_type": "code",
   "source": [
    "import matplotlib.pyplot as plt\n",
    "\n",
    "# Визуализация интерполяции\n",
    "plt.plot(x, y, 'o', label='Исходные данные')\n",
    "plt.plot(x_new, y_new, '-', label='Интерполированные данные')\n",
    "plt.legend()\n",
    "plt.show()"
   ],
   "metadata": {
    "id": "vp-QPxs09Vmh"
   },
   "execution_count": null,
   "outputs": []
  },
  {
   "cell_type": "markdown",
   "source": [
    "### Интегрирование"
   ],
   "metadata": {
    "id": "MHE0nXbY-0tf"
   }
  },
  {
   "cell_type": "code",
   "source": [
    "# Определение функции для интегрирования\n",
    "def integrand(x):\n",
    "    return np.exp(-x**2)"
   ],
   "metadata": {
    "id": "rbVlqL5O9aRL"
   },
   "execution_count": null,
   "outputs": []
  },
  {
   "cell_type": "code",
   "source": [
    "# Интегрирование функции\n",
    "result, error = integrate.quad(integrand, 0, 1)\n",
    "print(\"Результат интегрирования:\", result)\n",
    "print(\"Оценка ошибки интегрирования:\", error)"
   ],
   "metadata": {
    "id": "sYqqxopD-7GJ"
   },
   "execution_count": null,
   "outputs": []
  },
  {
   "cell_type": "markdown",
   "source": [
    "### Примеры использования SciPy для задач машинного обучения"
   ],
   "metadata": {
    "id": "ZjnEypwa-5N3"
   }
  },
  {
   "cell_type": "code",
   "source": [
    "from sklearn.linear_model import LinearRegression\n",
    "from sklearn.metrics import mean_squared_error\n",
    "\n",
    "# Генерация данных\n",
    "np.random.seed(0)\n",
    "X = 2 * np.random.rand(100, 1)\n",
    "y = 4 + 3 * X + np.random.randn(100, 1)"
   ],
   "metadata": {
    "id": "nnG8SU2B-52G"
   },
   "execution_count": null,
   "outputs": []
  },
  {
   "cell_type": "code",
   "source": [
    "X[:5]"
   ],
   "metadata": {
    "id": "KIO9KA46gBiJ"
   },
   "execution_count": null,
   "outputs": []
  },
  {
   "cell_type": "code",
   "source": [
    "y[:5]"
   ],
   "metadata": {
    "id": "fiQRc1wNgFY7"
   },
   "execution_count": null,
   "outputs": []
  },
  {
   "cell_type": "code",
   "source": [
    "# Определение функции ошибки\n",
    "def error_function(params):\n",
    "    intercept, slope = params\n",
    "    y_pred = intercept + slope * X\n",
    "    return mean_squared_error(y, y_pred)"
   ],
   "metadata": {
    "id": "OtCcnUNY_AZI"
   },
   "execution_count": null,
   "outputs": []
  },
  {
   "cell_type": "code",
   "source": [
    "# Начальные параметры\n",
    "initial_params = [0, 0]\n",
    "\n",
    "# Оптимизация параметров\n",
    "result = optimize.minimize(error_function, initial_params)\n",
    "intercept_opt, slope_opt = result.x\n",
    "print(\"Оптимизированные параметры модели: intercept =\", intercept_opt, \", slope =\", slope_opt)"
   ],
   "metadata": {
    "id": "FKDPCCUe_Cj5"
   },
   "execution_count": null,
   "outputs": []
  },
  {
   "cell_type": "code",
   "source": [
    "# Построение графика\n",
    "plt.scatter(X, y, label='Данные')\n",
    "plt.plot(X, intercept_opt + slope_opt * X, color='red', label='Линейная регрессия')\n",
    "plt.legend()\n",
    "plt.show()"
   ],
   "metadata": {
    "id": "6I656nEP_FtD"
   },
   "execution_count": null,
   "outputs": []
  },
  {
   "cell_type": "markdown",
   "source": [
    "## <a name=\"section9\"></a> **9. Коротко об ООП**\n",
    "\n",
    "Объектно-ориентированное программирование (ООП) — это парадигма программирования, которая основана на понятии объектов. Объекты — это экземпляры классов, которые могут содержать данные (атрибуты) и функции (методы) для работы с этими данными.\n"
   ],
   "metadata": {
    "id": "dCjHKKAjRcgO"
   }
  },
  {
   "cell_type": "markdown",
   "source": [
    "Основные понятия:\n",
    "- Класс: определение типа объекта, которое может содержать атрибуты (переменные) и методы (функции).\n",
    "- Объект: конкретный экземпляр класса.\n",
    "- Методы: функции, определенные внутри класса, которые могут изменять состояние объекта.\n",
    "- Атрибуты: переменные, хранящие данные, относящиеся к объекту."
   ],
   "metadata": {
    "id": "Zy73s-2CMUE6"
   }
  },
  {
   "cell_type": "markdown",
   "source": [
    "Основные концепции ООП:\n",
    "\n",
    "\t1.\tКлассы и объекты: класс — это шаблон, по которому создаются объекты. Объект — это экземпляр класса.\n",
    "\t2.\tИнкапсуляция: скрытие внутреннего состояния объекта и предоставление доступа к нему только через публичные методы.\n",
    "\t3.\tНаследование: возможность одного класса наследовать атрибуты и методы другого класса.\n",
    "\t4.\tПолиморфизм: способность использовать один и тот же интерфейс для разных типов объектов."
   ],
   "metadata": {
    "id": "g_YCNnxaR7Bn"
   }
  },
  {
   "cell_type": "code",
   "source": [
    "# 1. Определяем класс Student\n",
    "class Student:\n",
    "    # Конструктор класса, который инициализирует объект\n",
    "    def __init__(self, name, age, major):\n",
    "        self.name = name   # Атрибут: имя студента\n",
    "        self.age = age     # Атрибут: возраст студента\n",
    "        self.major = major # Атрибут: специальность студента\n",
    "\n",
    "    # Метод класса, который выводит информацию о студенте\n",
    "    def introduce(self):\n",
    "        print(f\"Привет! Меня зовут {self.name}. Мне {self.age} лет, и я изучаю {self.major}.\")"
   ],
   "metadata": {
    "id": "GRk1utUzNKen"
   },
   "execution_count": null,
   "outputs": []
  },
  {
   "cell_type": "code",
   "source": [
    "# 2. Создаем объект класса Student\n",
    "student1 = Student(\"Алексей\", 22, \"Информатика\")"
   ],
   "metadata": {
    "id": "4ggVz1HzNNeD"
   },
   "execution_count": null,
   "outputs": []
  },
  {
   "cell_type": "code",
   "source": [
    "# 3. Вызываем метод объекта\n",
    "student1.introduce()"
   ],
   "metadata": {
    "colab": {
     "base_uri": "https://localhost:8080/"
    },
    "id": "dgxaTmZB7QSw",
    "outputId": "853e4ca2-70be-4c43-98b5-8d4f5f8eab71"
   },
   "execution_count": null,
   "outputs": [
    {
     "output_type": "stream",
     "name": "stdout",
     "text": [
      "Привет! Меня зовут Алексей. Мне 22 лет, и я изучаю Информатика.\n"
     ]
    }
   ]
  },
  {
   "cell_type": "markdown",
   "source": [
    "- Класс Student. Этот класс описывает объект “Студент” с тремя атрибутами: name, age, и major.\n",
    "- Конструктор `__init__`. Этот метод автоматически вызывается при создании нового объекта и инициализирует его атрибуты.\n",
    "- Метод `introduce. Этот метод выводит информацию о студенте.\n",
    "- Объект `student1`. Мы создаем конкретный экземпляр класса Student, задавая его атрибуты.\n",
    "- Вызов метода. Мы используем метод `introduce`, чтобы студент представился.\n"
   ],
   "metadata": {
    "id": "cPXkxEiUNX1F"
   }
  },
  {
   "cell_type": "markdown",
   "source": [
    "А теперь - поподробней о концепции ООП.\n",
    "1. Наследование\n",
    "\n",
    "Наследование позволяет создавать новый класс на основе существующего. Новый класс (наследник) наследует свойства и методы базового класса (родителя), и может добавлять новые или переопределять существующие."
   ],
   "metadata": {
    "id": "5Q38s9VEN6cg"
   }
  },
  {
   "cell_type": "code",
   "source": [
    "# Базовый класс\n",
    "class Person:\n",
    "    def __init__(self, name, age):\n",
    "        self.name = name\n",
    "        self.age = age\n",
    "\n",
    "    def introduce(self):\n",
    "        print(f\"Меня зовут {self.name}, мне {self.age} лет.\")"
   ],
   "metadata": {
    "id": "dXUxBituODyY"
   },
   "execution_count": null,
   "outputs": []
  },
  {
   "cell_type": "code",
   "source": [
    "# Класс-наследник\n",
    "class Student(Person):\n",
    "    def __init__(self, name, age, major):\n",
    "        super().__init__(name, age)  # Вызов конструктора базового класса\n",
    "        self.major = major\n",
    "\n",
    "    def introduce(self):  # Переопределение метода\n",
    "        super().introduce()  # Вызов метода базового класса\n",
    "        print(f\"Я изучаю {self.major}.\")"
   ],
   "metadata": {
    "id": "dwvQ31ubOHER"
   },
   "execution_count": null,
   "outputs": []
  },
  {
   "cell_type": "code",
   "source": [
    "# Создаем объект класса Student\n",
    "student2 = Student(\"Мария\", 20, \"Математика\")"
   ],
   "metadata": {
    "id": "5zi20TVpOJjo"
   },
   "execution_count": null,
   "outputs": []
  },
  {
   "cell_type": "code",
   "source": [
    "student2.introduce()"
   ],
   "metadata": {
    "colab": {
     "base_uri": "https://localhost:8080/"
    },
    "id": "XWxLQsqs7zCM",
    "outputId": "7fdaa7d4-03e3-4847-cf16-8f7377e25e6d"
   },
   "execution_count": null,
   "outputs": [
    {
     "output_type": "stream",
     "name": "stdout",
     "text": [
      "Меня зовут Мария, мне 20 лет.\n",
      "Я изучаю Математика.\n"
     ]
    }
   ]
  },
  {
   "cell_type": "markdown",
   "source": [
    "Пояснение:\n",
    "\n",
    "- Класс Person: базовый класс, который описывает человека с атрибутами name и age и методом introduce.\n",
    "- Класс Student: класс-наследник, который расширяет Person, добавляя атрибут major и переопределяя метод introduce, чтобы добавить информацию о специальности.\n",
    "- Вызов super(): это ключевое слово используется для обращения к методам и конструкторам базового класса."
   ],
   "metadata": {
    "id": "hdr8y9LCONay"
   }
  },
  {
   "cell_type": "markdown",
   "source": [
    "2. Инкапсуляция\n",
    "\n",
    "Инкапсуляция предполагает скрытие деталей реализации объекта и предоставление публичных методов для работы с этими данными. Это делается для защиты данных и управления доступом к ним."
   ],
   "metadata": {
    "id": "r77svrQFOVhp"
   }
  },
  {
   "cell_type": "code",
   "source": [
    "class BankAccount:\n",
    "    def __init__(self, account_holder, balance):\n",
    "        self.account_holder = account_holder\n",
    "        self.__balance = balance  # Приватный атрибут\n",
    "\n",
    "    def deposit(self, amount):\n",
    "        if amount > 0:\n",
    "            self.__balance += amount\n",
    "        else:\n",
    "            print(\"Сумма должна быть положительной.\")\n",
    "\n",
    "    def withdraw(self, amount):\n",
    "        if 0 < amount <= self.__balance:\n",
    "            self.__balance -= amount\n",
    "        else:\n",
    "            print(\"Недостаточно средств или неверная сумма.\")\n",
    "\n",
    "    def get_balance(self):\n",
    "        return self.__balance"
   ],
   "metadata": {
    "id": "c_CsLrsMOLDE"
   },
   "execution_count": null,
   "outputs": []
  },
  {
   "cell_type": "code",
   "source": [
    "# Создаем объект класса BankAccount\n",
    "account = BankAccount(\"Иван\", 1000)"
   ],
   "metadata": {
    "id": "vVQFunYVOY-Y"
   },
   "execution_count": null,
   "outputs": []
  },
  {
   "cell_type": "code",
   "source": [
    "# Взаимодействуем с объектом через публичные методы\n",
    "account.deposit(500)\n",
    "account.withdraw(200)\n",
    "print(f\"Текущий баланс: {account.get_balance()}\")"
   ],
   "metadata": {
    "id": "Zpj7dEqLObXg",
    "colab": {
     "base_uri": "https://localhost:8080/"
    },
    "outputId": "94d2b54c-0258-453e-c036-dd5dbf13d079"
   },
   "execution_count": null,
   "outputs": [
    {
     "output_type": "stream",
     "name": "stdout",
     "text": [
      "Текущий баланс: 1300\n"
     ]
    }
   ]
  },
  {
   "cell_type": "code",
   "source": [
    "# Попытка прямого доступа к приватному атрибуту (это вызовет ошибку)\n",
    "print(account.__balance)"
   ],
   "metadata": {
    "id": "zQEiPO_iOdcD",
    "colab": {
     "base_uri": "https://localhost:8080/",
     "height": 156
    },
    "outputId": "13387a68-380d-4a04-d074-0e9ae44d29e2"
   },
   "execution_count": null,
   "outputs": [
    {
     "output_type": "error",
     "ename": "AttributeError",
     "evalue": "'BankAccount' object has no attribute '__balance'",
     "traceback": [
      "\u001B[0;31m---------------------------------------------------------------------------\u001B[0m",
      "\u001B[0;31mAttributeError\u001B[0m                            Traceback (most recent call last)",
      "\u001B[0;32m<ipython-input-12-c4720443c554>\u001B[0m in \u001B[0;36m<cell line: 2>\u001B[0;34m()\u001B[0m\n\u001B[1;32m      1\u001B[0m \u001B[0;31m# Попытка прямого доступа к приватному атрибуту (это вызовет ошибку)\u001B[0m\u001B[0;34m\u001B[0m\u001B[0;34m\u001B[0m\u001B[0m\n\u001B[0;32m----> 2\u001B[0;31m \u001B[0mprint\u001B[0m\u001B[0;34m(\u001B[0m\u001B[0maccount\u001B[0m\u001B[0;34m.\u001B[0m\u001B[0m__balance\u001B[0m\u001B[0;34m)\u001B[0m\u001B[0;34m\u001B[0m\u001B[0;34m\u001B[0m\u001B[0m\n\u001B[0m",
      "\u001B[0;31mAttributeError\u001B[0m: 'BankAccount' object has no attribute '__balance'"
     ]
    }
   ]
  },
  {
   "cell_type": "markdown",
   "source": [
    "Пояснение:\n",
    "\n",
    "- Приватные атрибуты: в Python приватные атрибуты обозначаются двумя подчеркиваниями в начале имени (например, `__balance`). Эти атрибуты недоступны для прямого обращения вне класса.\n",
    "- Публичные методы: методы deposit, withdraw и get_balance предоставляют контролируемый доступ к приватным данным."
   ],
   "metadata": {
    "id": "bNFBOb7_Oj5M"
   }
  },
  {
   "cell_type": "markdown",
   "source": [
    "3. Полиморфизм\n",
    "\n",
    "Полиморфизм позволяет использовать один и тот же интерфейс для различных типов объектов. Например, разные классы могут иметь методы с одинаковыми именами, но с разным поведением."
   ],
   "metadata": {
    "id": "vmIRGMpaOiZw"
   }
  },
  {
   "cell_type": "code",
   "source": [
    "class Animal:\n",
    "    def sound(self):\n",
    "        pass\n",
    "\n",
    "class Dog(Animal):\n",
    "    def sound(self):\n",
    "        print(\"Гав-гав\")\n",
    "\n",
    "class Cat(Animal):\n",
    "    def sound(self):\n",
    "        print(\"Мяу-мяу\")"
   ],
   "metadata": {
    "id": "aDeZJWa_OrLt"
   },
   "execution_count": null,
   "outputs": []
  },
  {
   "cell_type": "code",
   "source": [
    "# Функция, которая принимает объект любого подкласса Animal\n",
    "def make_sound(animal):\n",
    "    animal.sound()\n",
    "\n",
    "# Создаем объекты классов Dog и Cat\n",
    "dog = Dog()\n",
    "cat = Cat()"
   ],
   "metadata": {
    "id": "vc_uRy4OOtZJ"
   },
   "execution_count": null,
   "outputs": []
  },
  {
   "cell_type": "code",
   "source": [
    "# Вызываем одну и ту же функцию для разных объектов\n",
    "make_sound(dog)\n",
    "make_sound(cat)"
   ],
   "metadata": {
    "id": "AmnHRkHrOwGG",
    "colab": {
     "base_uri": "https://localhost:8080/"
    },
    "outputId": "1db80a77-ddf7-45a8-cbed-3a893c63e1e2"
   },
   "execution_count": null,
   "outputs": [
    {
     "output_type": "stream",
     "name": "stdout",
     "text": [
      "Гав-гав\n",
      "Мяу-мяу\n"
     ]
    }
   ]
  },
  {
   "cell_type": "markdown",
   "source": [
    "Пояснение:\n",
    "\n",
    "- Класс Animal: определяет общий интерфейс для всех животных, но метод sound не реализован (это своего рода шаблон).\n",
    "- Классы Dog и Cat: реализуют метод sound по-разному.\n",
    "- Полиморфизм в действии: функция make_sound принимает любой объект, который является подклассом Animal, и вызывает соответствующий метод sound, демонстрируя разные поведения.\n"
   ],
   "metadata": {
    "id": "yJXNmqGHOzRg"
   }
  },
  {
   "cell_type": "markdown",
   "source": [
    "Теперь давайте создадим класс для линейной регрессии, используя принципы ООП."
   ],
   "metadata": {
    "id": "bhypjXpgSB8y"
   }
  },
  {
   "cell_type": "code",
   "source": [
    "import numpy as np\n",
    "from scipy import optimize\n",
    "import matplotlib.pyplot as plt\n",
    "from sklearn.metrics import mean_squared_error\n",
    "\n",
    "class LinearRegressionModel:\n",
    "    def __init__(self):\n",
    "        self._intercept = 0\n",
    "        self._slope = 0\n",
    "\n",
    "    def _error_function(self, params, X, y):\n",
    "        intercept, slope = params\n",
    "        y_pred = intercept + slope * X\n",
    "        return mean_squared_error(y, y_pred)\n",
    "\n",
    "    def fit(self, X, y):\n",
    "        initial_params = [0, 0]\n",
    "        result = optimize.minimize(self._error_function, initial_params, args=(X, y))\n",
    "        self._intercept, self._slope = result.x\n",
    "\n",
    "    def predict(self, X):\n",
    "        return self._intercept + self._slope * X\n",
    "\n",
    "    def visualize(self, X, y):\n",
    "        plt.scatter(X, y, label='Данные')\n",
    "        plt.plot(X, self.predict(X), color='red', label='Линейная регрессия')\n",
    "        plt.legend()\n",
    "        plt.show()"
   ],
   "metadata": {
    "id": "ZdfsLFl-SC5P"
   },
   "execution_count": null,
   "outputs": []
  },
  {
   "cell_type": "code",
   "source": [
    "# Использование написанного нами класса\n",
    "np.random.seed(0)\n",
    "X = 2 * np.random.rand(100, 1)\n",
    "y = 4 + 3 * X + np.random.randn(100, 1)"
   ],
   "metadata": {
    "id": "JoUWOuYeSIYW"
   },
   "execution_count": null,
   "outputs": []
  },
  {
   "cell_type": "code",
   "source": [
    "model = LinearRegressionModel()\n",
    "model.fit(X, y)\n",
    "print(\"Оптимизированные параметры модели: intercept =\", model._intercept, \", slope =\", model._slope)\n",
    "model.visualize(X, y)"
   ],
   "metadata": {
    "colab": {
     "base_uri": "https://localhost:8080/",
     "height": 447
    },
    "id": "Dv6ViM049hnD",
    "outputId": "94eb6cee-f37b-4a2a-c855-e7a8a35769fa"
   },
   "execution_count": null,
   "outputs": [
    {
     "output_type": "stream",
     "name": "stdout",
     "text": [
      "Оптимизированные параметры модели: intercept = 4.222151936103928 , slope = 2.968468079487057\n"
     ]
    },
    {
     "output_type": "display_data",
     "data": {
      "text/plain": [
       "<Figure size 640x480 with 1 Axes>"
      ],
      "image/png": "[encoded data removed]"
     },
     "metadata": {}
    }
   ]
  },
  {
   "cell_type": "markdown",
   "source": [
    "## <a name=\"section10\"></a> **10. Работа с данными (pandas)**"
   ],
   "metadata": {
    "id": "UjmLnfup_zFw"
   }
  },
  {
   "cell_type": "code",
   "source": [
    "import pandas as pd\n",
    "import numpy as np\n",
    "import matplotlib.pyplot as plt"
   ],
   "metadata": {
    "id": "ZPQ_sLNf_HJc"
   },
   "execution_count": null,
   "outputs": []
  },
  {
   "cell_type": "markdown",
   "source": [
    "### Создание DataFrame"
   ],
   "metadata": {
    "id": "fTkGj2dA__ho"
   }
  },
  {
   "cell_type": "code",
   "source": [
    "# Создание DataFrame из словаря\n",
    "data = {\n",
    "    'Name': ['Alice', 'Bob', 'Charlie', 'David', 'Eva'],\n",
    "    'Age': [24, 27, 22, 32, 28],\n",
    "    'City': ['New York', 'Los Angeles', 'Chicago', 'Houston', 'Phoenix']\n",
    "}\n",
    "df = pd.DataFrame(data)\n",
    "print(\"DataFrame из словаря:\\n\", df)"
   ],
   "metadata": {
    "id": "1Awz9M1V_7wN"
   },
   "execution_count": null,
   "outputs": []
  },
  {
   "cell_type": "code",
   "source": [
    "# Создание DataFrame из массива NumPy\n",
    "array = np.random.randn(5, 3)\n",
    "df_from_array = pd.DataFrame(array, columns=['A', 'B', 'C'])\n",
    "print(\"\\nDataFrame из массива NumPy:\\n\", df_from_array)"
   ],
   "metadata": {
    "id": "PIme3HApAFF9"
   },
   "execution_count": null,
   "outputs": []
  },
  {
   "cell_type": "code",
   "source": [
    "# Добавление нового столбца\n",
    "df['Salary'] = [70000, 80000, 60000, 90000, 75000]\n",
    "print(\"\\nDataFrame после добавления нового столбца:\\n\", df)"
   ],
   "metadata": {
    "id": "r7lv8RlCAGip"
   },
   "execution_count": null,
   "outputs": []
  },
  {
   "cell_type": "code",
   "source": [
    "# Удаление столбца\n",
    "df.drop('City', axis=1, inplace=True)\n",
    "print(\"\\nDataFrame после удаления столбца:\\n\", df)"
   ],
   "metadata": {
    "id": "TlrXg-6HAJci"
   },
   "execution_count": null,
   "outputs": []
  },
  {
   "cell_type": "code",
   "source": [
    "# Изменение значений\n",
    "df.loc[0, 'Age'] = 25\n",
    "print(\"\\nDataFrame после изменения значения:\\n\", df)"
   ],
   "metadata": {
    "id": "7pSOL-3kALti"
   },
   "execution_count": null,
   "outputs": []
  },
  {
   "cell_type": "markdown",
   "source": [
    "### Основные операции: фильтрация, группировка, агрегация"
   ],
   "metadata": {
    "id": "JnGrEHRFAUcX"
   }
  },
  {
   "cell_type": "code",
   "source": [
    "# Фильтрация по условию\n",
    "filtered_df = df[df['Age'] > 25]\n",
    "print(\"Фильтрация по условию (Age > 25):\\n\", filtered_df)"
   ],
   "metadata": {
    "id": "OI7iGpn1AMy9"
   },
   "execution_count": null,
   "outputs": []
  },
  {
   "cell_type": "code",
   "source": [
    "# Группировка и агрегация данных\n",
    "grouped_df = df.groupby('Age').agg({\n",
    "    'Salary': 'mean'\n",
    "}).reset_index()\n",
    "print(\"\\nГруппировка и агрегация данных по столбцу Age:\\n\", grouped_df)"
   ],
   "metadata": {
    "id": "qw48HjFfAWd2"
   },
   "execution_count": null,
   "outputs": []
  },
  {
   "cell_type": "markdown",
   "source": [
    "### Объединение и слияние DataFrame"
   ],
   "metadata": {
    "id": "9NEdn2z1Adtj"
   }
  },
  {
   "cell_type": "code",
   "source": [
    "# Создание дополнительного DataFrame\n",
    "data_new = {\n",
    "    'Name': ['Alice', 'Bob', 'Charlie', 'David', 'Eva'],\n",
    "    'Department': ['HR', 'Engineering', 'Marketing', 'Finance', 'Sales']\n",
    "}\n",
    "df_new = pd.DataFrame(data_new)"
   ],
   "metadata": {
    "id": "JGPV_FZfAZKM"
   },
   "execution_count": null,
   "outputs": []
  },
  {
   "cell_type": "code",
   "source": [
    "# Объединение DataFrame по строкам\n",
    "merged_df = pd.merge(df, df_new, on='Name')\n",
    "print(\"\\nОбъединение DataFrame по строкам:\\n\", merged_df)"
   ],
   "metadata": {
    "id": "fl3tUPJmAh2I"
   },
   "execution_count": null,
   "outputs": []
  },
  {
   "cell_type": "code",
   "source": [
    "# Создание второго DataFrame для слияния\n",
    "data_additional = {\n",
    "    'Name': ['Frank', 'George', 'Helen'],\n",
    "    'Age': [33, 29, 24],\n",
    "    'Salary': [65000, 72000, 71000]\n",
    "}\n",
    "df_additional = pd.DataFrame(data_additional)\n"
   ],
   "metadata": {
    "id": "KUoiSlo0AjH6"
   },
   "execution_count": null,
   "outputs": []
  },
  {
   "cell_type": "code",
   "source": [
    "# Слияние DataFrame по строкам\n",
    "concatenated_df = pd.concat([df, df_additional], ignore_index=True)\n",
    "print(\"\\nСлияние DataFrame по строкам:\\n\", concatenated_df)"
   ],
   "metadata": {
    "id": "iPNlLdutAnSa"
   },
   "execution_count": null,
   "outputs": []
  },
  {
   "cell_type": "markdown",
   "source": [
    "### Визуализация данных"
   ],
   "metadata": {
    "id": "CppgyNHrAsDS"
   }
  },
  {
   "cell_type": "code",
   "source": [
    "# Визуализация распределения зарплат\n",
    "df['Salary'].plot(kind='hist', bins=10, title='Распределение зарплат')\n",
    "plt.xlabel('Salary')\n",
    "plt.ylabel('Frequency')\n",
    "plt.show()"
   ],
   "metadata": {
    "id": "rcPRbrInAoqG"
   },
   "execution_count": null,
   "outputs": []
  },
  {
   "cell_type": "code",
   "source": [
    "# Визуализация зависимости зарплаты от возраста\n",
    "df.plot(kind='scatter', x='Age', y='Salary', s=300, title='Зависимость зарплаты от возраста')\n",
    "plt.xlabel('Age')\n",
    "plt.ylabel('Salary')\n",
    "plt.show()"
   ],
   "metadata": {
    "id": "bqDgmMMDAwlu"
   },
   "execution_count": null,
   "outputs": []
  },
  {
   "cell_type": "markdown",
   "source": [
    "## <a name=\"section11\"></a> **11. Сложность алгоритмов по времени и по памяти**"
   ],
   "metadata": {
    "id": "1pqGURUmBEGh"
   }
  },
  {
   "cell_type": "markdown",
   "source": [
    "### Временная сложность\n",
    "\n",
    "Временная сложность алгоритма измеряет, как время выполнения алгоритма изменяется с увеличением размера входных данных.\n",
    "\n",
    "- **O(1)**: Константное время. Время выполнения не зависит от размера входных данных.\n",
    "- **O(n)**: Линейное время. Время выполнения увеличивается линейно с увеличением размера входных данных.\n",
    "- **O(n^2)**: Квадратичное время. Время выполнения увеличивается квадратично с увеличением размера входных данных.\n",
    "- **O(log n)**: Логарифмическое время. Время выполнения увеличивается логарифмически с увеличением размера входных данных.\n",
    "\n",
    "### Пространственная сложность\n",
    "\n",
    "Пространственная сложность алгоритма измеряет, как объем используемой памяти изменяется с увеличением размера входных данных."
   ],
   "metadata": {
    "id": "UaWQnDgvBL_v"
   }
  },
  {
   "cell_type": "markdown",
   "source": [
    "### Примеры оценки сложности алгоритмов  \n",
    "Сложность по времени"
   ],
   "metadata": {
    "id": "TT_JjISrBQYh"
   }
  },
  {
   "cell_type": "code",
   "source": [
    "# Пример 1: Константное время - O(1)\n",
    "def constant_time_algorithm(arr):\n",
    "    return arr[0]\n",
    "\n",
    "arr = [1, 2, 3, 4, 5]\n",
    "print(\"Первый элемент массива:\", constant_time_algorithm(arr))"
   ],
   "metadata": {
    "id": "mlWwXzBQAzFw",
    "colab": {
     "base_uri": "https://localhost:8080/"
    },
    "outputId": "725fe127-ee05-4ee6-bd92-bbc2f3ae3829"
   },
   "execution_count": null,
   "outputs": [
    {
     "output_type": "stream",
     "name": "stdout",
     "text": [
      "Первый элемент массива: 1\n"
     ]
    }
   ]
  },
  {
   "cell_type": "code",
   "source": [
    "# Пример 2: Линейное время - O(n)\n",
    "def linear_time_algorithm(arr):\n",
    "    total = 0\n",
    "    for num in arr:\n",
    "        total += num\n",
    "    return total\n",
    "\n",
    "arr = [1, 2, 3, 4, 5]\n",
    "print(\"Сумма элементов массива:\", linear_time_algorithm(arr))"
   ],
   "metadata": {
    "id": "QyeO27CqBWXL",
    "colab": {
     "base_uri": "https://localhost:8080/"
    },
    "outputId": "9557a69f-89f4-4223-cf28-67b3256f799d"
   },
   "execution_count": null,
   "outputs": [
    {
     "output_type": "stream",
     "name": "stdout",
     "text": [
      "Сумма элементов массива: 15\n"
     ]
    }
   ]
  },
  {
   "cell_type": "code",
   "source": [
    "# Пример 3: Квадратичное время - O(n^2)\n",
    "def quadratic_time_algorithm(arr):\n",
    "    n = len(arr)\n",
    "    pairs = []\n",
    "    for i in range(n):\n",
    "        for j in range(n):\n",
    "            pairs.append((arr[i], arr[j]))\n",
    "    return pairs\n",
    "\n",
    "arr = [1, 2, 3]\n",
    "print(\"Все пары элементов массива:\", quadratic_time_algorithm(arr))"
   ],
   "metadata": {
    "id": "QBcF5z_MBb3Q",
    "colab": {
     "base_uri": "https://localhost:8080/"
    },
    "outputId": "344a418c-8d53-4543-f168-7ca7cd38d749"
   },
   "execution_count": null,
   "outputs": [
    {
     "output_type": "stream",
     "name": "stdout",
     "text": [
      "Все пары элементов массива: [(1, 1), (1, 2), (1, 3), (2, 1), (2, 2), (2, 3), (3, 1), (3, 2), (3, 3)]\n"
     ]
    }
   ]
  },
  {
   "cell_type": "code",
   "source": [
    "# Пример 4: Логарифмическое время - O(log n)\n",
    "def logarithmic_time_algorithm(arr, target):\n",
    "    low, high = 0, len(arr) - 1\n",
    "    while low <= high:\n",
    "        mid = (low + high) // 2\n",
    "        if arr[mid] == target:\n",
    "            return mid\n",
    "        elif arr[mid] < target:\n",
    "            low = mid + 1\n",
    "        else:\n",
    "            high = mid - 1\n",
    "    return -1\n",
    "\n",
    "arr = [4, 5, 6, 8, 9, 10]\n",
    "target = 7\n",
    "print(\"Индекс целевого элемента:\", logarithmic_time_algorithm(arr, target))"
   ],
   "metadata": {
    "id": "iC4s-Sk-Behx",
    "colab": {
     "base_uri": "https://localhost:8080/"
    },
    "outputId": "985530dd-9880-4a0b-9c65-b5edf0dee845"
   },
   "execution_count": null,
   "outputs": [
    {
     "output_type": "stream",
     "name": "stdout",
     "text": [
      "Индекс целевого элемента: -1\n"
     ]
    }
   ]
  },
  {
   "cell_type": "markdown",
   "source": [
    "### Временная сложность с использованием модуля time"
   ],
   "metadata": {
    "id": "jHjNve0yBqAM"
   }
  },
  {
   "cell_type": "code",
   "source": [
    "import time\n",
    "\n",
    "def measure_time_complexity(algorithm, arr):\n",
    "    start_time = time.time()\n",
    "    algorithm(arr)\n",
    "    end_time = time.time()\n",
    "    return end_time - start_time\n",
    "\n",
    "arr = list(range(10000))"
   ],
   "metadata": {
    "id": "TSAiZiYRBl4A"
   },
   "execution_count": null,
   "outputs": []
  },
  {
   "cell_type": "code",
   "source": [
    "# Измерение времени выполнения различных алгоритмов\n",
    "time_constant = measure_time_complexity(constant_time_algorithm, arr)\n",
    "time_linear = measure_time_complexity(linear_time_algorithm, arr)\n",
    "time_quadratic = measure_time_complexity(quadratic_time_algorithm, arr[:100])  # Ограничение размера для квадратичного алгоритма\n",
    "time_logarithmic = measure_time_complexity(lambda x: logarithmic_time_algorithm(x, 5000), arr)\n",
    "\n",
    "print(f\"Время выполнения (O(1)): {time_constant:.10f} секунд\")\n",
    "print(f\"Время выполнения (O(n)): {time_linear:.10f} секунд\")\n",
    "print(f\"Время выполнения (O(n^2)): {time_quadratic:.10f} секунд\")\n",
    "print(f\"Время выполнения (O(log n)): {time_logarithmic:.10f} секунд\")\n"
   ],
   "metadata": {
    "id": "NR5EtY-RBtCo",
    "colab": {
     "base_uri": "https://localhost:8080/"
    },
    "outputId": "8db08263-3204-4556-bda2-ca2770135b26"
   },
   "execution_count": null,
   "outputs": [
    {
     "output_type": "stream",
     "name": "stdout",
     "text": [
      "Время выполнения (O(1)): 0.0000019073 секунд\n",
      "Время выполнения (O(n)): 0.0005626678 секунд\n",
      "Время выполнения (O(n^2)): 0.0084884167 секунд\n",
      "Время выполнения (O(log n)): 0.0000109673 секунд\n"
     ]
    }
   ]
  },
  {
   "cell_type": "markdown",
   "source": [
    "### Сложность по памяти"
   ],
   "metadata": {
    "id": "pQ2q_WKdBwNd"
   }
  },
  {
   "cell_type": "code",
   "source": [
    "import sys\n",
    "\n",
    "def measure_space_complexity(algorithm, arr):\n",
    "    result = algorithm(arr)\n",
    "    return sys.getsizeof(result)\n",
    "\n",
    "arr = list(range(10000))"
   ],
   "metadata": {
    "id": "Lkz3T2dgBuL1"
   },
   "execution_count": null,
   "outputs": []
  },
  {
   "cell_type": "code",
   "source": [
    "# Измерение использования памяти различными алгоритмами\n",
    "space_constant = measure_space_complexity(constant_time_algorithm, arr)\n",
    "space_linear = measure_space_complexity(linear_time_algorithm, arr)\n",
    "space_quadratic = measure_space_complexity(quadratic_time_algorithm, arr[:100])  # Ограничение размера для квадратичного алгоритма\n",
    "space_logarithmic = measure_space_complexity(lambda x: logarithmic_time_algorithm(x, 5000), arr)\n",
    "\n",
    "print(f\"Использование памяти (O(1)): {space_constant} байт\")\n",
    "print(f\"Использование памяти (O(n)): {space_linear} байт\")\n",
    "print(f\"Использование памяти (O(n^2)): {space_quadratic} байт\")\n",
    "print(f\"Использование памяти (O(log n)): {space_logarithmic} байт\")"
   ],
   "metadata": {
    "id": "xUttX1LJBzRq",
    "colab": {
     "base_uri": "https://localhost:8080/"
    },
    "outputId": "93d237d3-9394-41f9-8b70-f8bd2cad3c0d"
   },
   "execution_count": null,
   "outputs": [
    {
     "output_type": "stream",
     "name": "stdout",
     "text": [
      "Использование памяти (O(1)): 24 байт\n",
      "Использование памяти (O(n)): 28 байт\n",
      "Использование памяти (O(n^2)): 85176 байт\n",
      "Использование памяти (O(log n)): 28 байт\n"
     ]
    }
   ]
  },
  {
   "cell_type": "markdown",
   "source": [
    "## Сложность алгоритмов: рекурсия против циклов."
   ],
   "metadata": {
    "id": "dPmxI_RXwUyh"
   }
  },
  {
   "cell_type": "markdown",
   "source": [
    "Рассмотрим два примера алгоритмов, которые можно реализовать как с использованием рекурсии, так и с помощью циклов: вычисление факториала и чисел Фибоначчи."
   ],
   "metadata": {
    "id": "lZfug81DwXVy"
   }
  },
  {
   "cell_type": "markdown",
   "source": [
    "Пример 1: Факториал\n",
    "- Рекурсивная версия:"
   ],
   "metadata": {
    "id": "isLurP9swhYu"
   }
  },
  {
   "cell_type": "code",
   "source": [
    "def factorial(n):\n",
    "    if n == 0:\n",
    "        return 1\n",
    "    else:\n",
    "        return n * factorial(n - 1)"
   ],
   "metadata": {
    "id": "p1kn0H_GwbJn"
   },
   "execution_count": null,
   "outputs": []
  },
  {
   "cell_type": "markdown",
   "source": [
    "- Временная сложность: O(n).\n",
    "- Каждый вызов функции приводит к новому вызову, уменьшая n до 0.\n"
   ],
   "metadata": {
    "id": "7qkEv42Zwk33"
   }
  },
  {
   "cell_type": "markdown",
   "source": [
    "- Циклическая версия:"
   ],
   "metadata": {
    "id": "T9TD_H5SwoTJ"
   }
  },
  {
   "cell_type": "code",
   "source": [
    "def factorial(n):\n",
    "    result = 1\n",
    "    for i in range(2, n + 1):\n",
    "        result *= i\n",
    "    return result"
   ],
   "metadata": {
    "id": "f6QuR2Wdwrev"
   },
   "execution_count": null,
   "outputs": []
  },
  {
   "cell_type": "markdown",
   "source": [
    "- Временная сложность: O(n).\n",
    "- В этом случае, цикл также выполняется n раз, но все вычисления происходят в одной функции, без дополнительных вызовов."
   ],
   "metadata": {
    "id": "mSQJWfMxwtcB"
   }
  },
  {
   "cell_type": "markdown",
   "source": [
    "Пример 2: Числа Фибоначчи\n",
    "- Наивная рекурсивная версия:"
   ],
   "metadata": {
    "id": "342TyeKtww3i"
   }
  },
  {
   "cell_type": "code",
   "source": [
    "def fibonacci(n):\n",
    "    if n <= 1:\n",
    "        return n\n",
    "    else:\n",
    "        return fibonacci(n - 1) + fibonacci(n - 2)"
   ],
   "metadata": {
    "id": "mFAK5Io7wvZU"
   },
   "execution_count": null,
   "outputs": []
  },
  {
   "cell_type": "markdown",
   "source": [
    "- Временная сложность: O(2^n).\n",
    "- Каждое значение fibonacci(n) требует двух рекурсивных вызовов, что приводит к экспоненциальному росту числа вызовов по мере увеличения n.\n"
   ],
   "metadata": {
    "id": "GloyRAGbw1ab"
   }
  },
  {
   "cell_type": "markdown",
   "source": [
    "- Циклическая версия:"
   ],
   "metadata": {
    "id": "DQohLODcw4-k"
   }
  },
  {
   "cell_type": "code",
   "source": [
    "def fibonacci(n):\n",
    "    if n <= 1:\n",
    "        return n\n",
    "    a, b = 0, 1\n",
    "    for _ in range(2, n + 1):\n",
    "        a, b = b, a + b\n",
    "    return b"
   ],
   "metadata": {
    "id": "ae8YwqC0w03S"
   },
   "execution_count": null,
   "outputs": []
  },
  {
   "cell_type": "markdown",
   "source": [
    "- Временная сложность: O(n).\n",
    "- Здесь мы последовательно вычисляем числа Фибоначчи, сохраняя только последние два значения.\n"
   ],
   "metadata": {
    "id": "liFq4Kf4w8gZ"
   }
  },
  {
   "cell_type": "markdown",
   "source": [
    "### Пространственная сложность рекурсии и циклов.\n",
    "\n",
    "Рекурсия требует дополнительной памяти для хранения каждого уровня вызовов. Этот дополнительный расход памяти увеличивает пространственную сложность алгоритма.\n",
    "\n",
    "Возьмем пример с числами Фибоначчи:\n",
    "\n",
    "- Наивная рекурсия: пространственная сложность: O(n), так как для каждого вызова создается новый фрейм в стеке вызовов.\n",
    "- Циклы: пространственная сложность: O(1), так как используются только две переменные для хранения промежуточных результатов.\n",
    "\n",
    "Таким образом, циклическая реализация обычно требует меньше памяти, чем рекурсивная, особенно в случаях, когда рекурсия не оптимизирована."
   ],
   "metadata": {
    "id": "lcEt8Bc_xGKc"
   }
  },
  {
   "cell_type": "markdown",
   "source": [
    "### Проблема “Стековой перегрузки” и оптимизация рекурсии.\n",
    "\n",
    "Рекурсивные вызовы могут привести к так называемому “stack overflow”, когда глубина рекурсии превышает допустимый предел. Это особенно актуально для наивных рекурсивных решений, таких как вычисление чисел Фибоначчи.\n",
    "\n",
    "Чтобы избежать этой проблемы, используется хвостовая рекурсия — это такая форма рекурсии, где рекурсивный вызов является последним действием функции:"
   ],
   "metadata": {
    "id": "1P9VDHY6xV5n"
   }
  },
  {
   "cell_type": "code",
   "source": [
    "def fibonacci(n):\n",
    "    if n <= 1:\n",
    "        return n\n",
    "    else:\n",
    "        return fibonacci(n - 1) + fibonacci(n - 2)"
   ],
   "metadata": {
    "id": "6Y6qRWWOSI95"
   },
   "execution_count": null,
   "outputs": []
  },
  {
   "cell_type": "code",
   "source": [
    "fibonacci(999)"
   ],
   "metadata": {
    "colab": {
     "base_uri": "https://localhost:8080/",
     "height": 282
    },
    "id": "jOaQe5ucSJ1M",
    "outputId": "b681aceb-f2e4-42c5-e183-033998598c40"
   },
   "execution_count": null,
   "outputs": [
    {
     "output_type": "error",
     "ename": "RecursionError",
     "evalue": "maximum recursion depth exceeded in comparison",
     "traceback": [
      "\u001B[0;31m---------------------------------------------------------------------------\u001B[0m",
      "\u001B[0;31mRecursionError\u001B[0m                            Traceback (most recent call last)",
      "\u001B[0;32m<ipython-input-197-ce942c5200ce>\u001B[0m in \u001B[0;36m<cell line: 1>\u001B[0;34m()\u001B[0m\n\u001B[0;32m----> 1\u001B[0;31m \u001B[0mfibonacci\u001B[0m\u001B[0;34m(\u001B[0m\u001B[0;36m999\u001B[0m\u001B[0;34m)\u001B[0m\u001B[0;34m\u001B[0m\u001B[0;34m\u001B[0m\u001B[0m\n\u001B[0m",
      "\u001B[0;32m<ipython-input-196-89da74531e28>\u001B[0m in \u001B[0;36mfibonacci\u001B[0;34m(n)\u001B[0m\n\u001B[1;32m      3\u001B[0m         \u001B[0;32mreturn\u001B[0m \u001B[0mn\u001B[0m\u001B[0;34m\u001B[0m\u001B[0;34m\u001B[0m\u001B[0m\n\u001B[1;32m      4\u001B[0m     \u001B[0;32melse\u001B[0m\u001B[0;34m:\u001B[0m\u001B[0;34m\u001B[0m\u001B[0;34m\u001B[0m\u001B[0m\n\u001B[0;32m----> 5\u001B[0;31m         \u001B[0;32mreturn\u001B[0m \u001B[0mfibonacci\u001B[0m\u001B[0;34m(\u001B[0m\u001B[0mn\u001B[0m \u001B[0;34m-\u001B[0m \u001B[0;36m1\u001B[0m\u001B[0;34m)\u001B[0m \u001B[0;34m+\u001B[0m \u001B[0mfibonacci\u001B[0m\u001B[0;34m(\u001B[0m\u001B[0mn\u001B[0m \u001B[0;34m-\u001B[0m \u001B[0;36m2\u001B[0m\u001B[0;34m)\u001B[0m\u001B[0;34m\u001B[0m\u001B[0;34m\u001B[0m\u001B[0m\n\u001B[0m",
      "... last 1 frames repeated, from the frame below ...\n",
      "\u001B[0;32m<ipython-input-196-89da74531e28>\u001B[0m in \u001B[0;36mfibonacci\u001B[0;34m(n)\u001B[0m\n\u001B[1;32m      3\u001B[0m         \u001B[0;32mreturn\u001B[0m \u001B[0mn\u001B[0m\u001B[0;34m\u001B[0m\u001B[0;34m\u001B[0m\u001B[0m\n\u001B[1;32m      4\u001B[0m     \u001B[0;32melse\u001B[0m\u001B[0;34m:\u001B[0m\u001B[0;34m\u001B[0m\u001B[0;34m\u001B[0m\u001B[0m\n\u001B[0;32m----> 5\u001B[0;31m         \u001B[0;32mreturn\u001B[0m \u001B[0mfibonacci\u001B[0m\u001B[0;34m(\u001B[0m\u001B[0mn\u001B[0m \u001B[0;34m-\u001B[0m \u001B[0;36m1\u001B[0m\u001B[0;34m)\u001B[0m \u001B[0;34m+\u001B[0m \u001B[0mfibonacci\u001B[0m\u001B[0;34m(\u001B[0m\u001B[0mn\u001B[0m \u001B[0;34m-\u001B[0m \u001B[0;36m2\u001B[0m\u001B[0;34m)\u001B[0m\u001B[0;34m\u001B[0m\u001B[0;34m\u001B[0m\u001B[0m\n\u001B[0m",
      "\u001B[0;31mRecursionError\u001B[0m: maximum recursion depth exceeded in comparison"
     ]
    }
   ]
  },
  {
   "cell_type": "code",
   "source": [
    "def factorial_tail(n, acc=1):\n",
    "    if n == 0:\n",
    "        return acc\n",
    "    else:\n",
    "        return factorial_tail(n - 1, acc * n)"
   ],
   "metadata": {
    "id": "dCO6EoPWw7_D"
   },
   "execution_count": null,
   "outputs": []
  },
  {
   "cell_type": "code",
   "source": [
    "factorial_tail(43)"
   ],
   "metadata": {
    "colab": {
     "base_uri": "https://localhost:8080/"
    },
    "id": "Sae_fftrSSiu",
    "outputId": "f02331df-eebe-4bcf-d88c-cd594f0ce5ff"
   },
   "execution_count": null,
   "outputs": [
    {
     "output_type": "execute_result",
     "data": {
      "text/plain": [
       "60415263063373835637355132068513997507264512000000000"
      ]
     },
     "metadata": {},
     "execution_count": 200
    }
   ]
  },
  {
   "cell_type": "markdown",
   "source": [
    "Здесь компилятор может оптимизировать такой вызов, превращая его по сути в цикл, что избавляет от необходимости накапливать стек вызовов."
   ],
   "metadata": {
    "id": "ix9Ban8txdoo"
   }
  },
  {
   "cell_type": "markdown",
   "source": [
    "Здесь мы создадим дерево вызовов для функции fibonacci(n). Оно покажет, как растёт число вызовов функции."
   ],
   "metadata": {
    "id": "KpD-Fu3DxumH"
   }
  },
  {
   "cell_type": "code",
   "source": [
    "import matplotlib.pyplot as plt\n",
    "import networkx as nx\n",
    "\n",
    "# Построение дерева вызовов для рекурсивного вычисления числа Фибоначчи\n",
    "def fibonacci_tree(n, graph, pos={}, parent=None, level=0):\n",
    "    # Создаем узел для текущего значения\n",
    "    node_name = f\"f({n})\"\n",
    "\n",
    "    # Добавляем узел в граф\n",
    "    graph.add_node(node_name)\n",
    "\n",
    "    # Если у нас есть родитель, добавляем ребро\n",
    "    if parent:\n",
    "        graph.add_edge(parent, node_name)\n",
    "\n",
    "    # Позиционирование узла для визуализации\n",
    "    pos[node_name] = (level, -n)\n",
    "\n",
    "    # Рекурсивно добавляем дочерние узлы\n",
    "    if n > 1:\n",
    "        pos = fibonacci_tree(n-1, graph, pos, node_name, level-1)\n",
    "        pos = fibonacci_tree(n-2, graph, pos, node_name, level+1)\n",
    "\n",
    "    return pos\n",
    "\n",
    "# Создаем граф\n",
    "G = nx.DiGraph()\n",
    "n = 10  # можно изменить для отображения других значений Фибоначчи\n",
    "pos = fibonacci_tree(n, G)\n",
    "\n",
    "# Визуализация дерева вызовов\n",
    "plt.figure(figsize=(10, 7))\n",
    "nx.draw(G, pos, with_labels=True, node_size=2000, node_color=\"lightblue\", font_size=10, font_weight='bold', arrows=False)\n",
    "plt.title(f\"Дерево вызовов для вычисления fibonacci({n})\")\n",
    "plt.show()"
   ],
   "metadata": {
    "colab": {
     "base_uri": "https://localhost:8080/",
     "height": 759
    },
    "id": "8E0GOtP9xtw-",
    "outputId": "afdb31de-4999-4693-d66b-c0caf743ca25"
   },
   "execution_count": null,
   "outputs": [
    {
     "output_type": "display_data",
     "data": {
      "text/plain": [
       "<Figure size 1000x700 with 1 Axes>"
      ],
      "image/png": "[encoded data removed]"
     },
     "metadata": {}
    }
   ]
  },
  {
   "cell_type": "markdown",
   "source": [
    "Для циклической версии чисел Фибоначчи создадим последовательный график вычислений."
   ],
   "metadata": {
    "id": "rDfFvJ0NyY1I"
   }
  },
  {
   "cell_type": "code",
   "source": [
    "import matplotlib.pyplot as plt\n",
    "\n",
    "# Визуализация последовательного вычисления чисел Фибоначчи\n",
    "def plot_fibonacci_cycle(n):\n",
    "    fib_sequence = [0, 1]\n",
    "    for i in range(2, n + 1):\n",
    "        fib_sequence.append(fib_sequence[-1] + fib_sequence[-2])\n",
    "\n",
    "    # Построение графика\n",
    "    plt.figure(figsize=(10, 5))\n",
    "    plt.plot(range(n + 1), fib_sequence, marker='o', color='orange')\n",
    "\n",
    "    for i, value in enumerate(fib_sequence):\n",
    "        plt.text(i, value, str(value), ha='center', va='bottom')\n",
    "\n",
    "    plt.title(f\"Последовательное вычисление чисел Фибоначчи до fibonacci({n})\")\n",
    "    plt.xlabel(\"Итерация\")\n",
    "    plt.ylabel(\"Значение Фибоначчи\")\n",
    "    plt.grid(True)\n",
    "    plt.show()\n",
    "\n",
    "# Пример: Вычисление до n=10\n",
    "plot_fibonacci_cycle(10)"
   ],
   "metadata": {
    "colab": {
     "base_uri": "https://localhost:8080/",
     "height": 487
    },
    "id": "Dskm68qXx7-z",
    "outputId": "265d5d2c-daef-4b17-e061-ae2fce6595ab"
   },
   "execution_count": null,
   "outputs": [
    {
     "output_type": "display_data",
     "data": {
      "text/plain": [
       "<Figure size 1000x500 with 1 Axes>"
      ],
      "image/png": "[encoded data removed]"
     },
     "metadata": {}
    }
   ]
  },
  {
   "cell_type": "markdown",
   "source": [
    "Чтобы показать использование памяти при рекурсии и циклах, можем создать диаграмму использования стека для рекурсии и сравнить её с циклическим подходом."
   ],
   "metadata": {
    "id": "oxkwswOyyecx"
   }
  },
  {
   "cell_type": "code",
   "source": [
    "import matplotlib.pyplot as plt\n",
    "\n",
    "# Визуализация использования памяти (примерный график)\n",
    "def plot_memory_usage():\n",
    "    n = range(1, 21)\n",
    "\n",
    "    # Память для рекурсивного подхода (например, наивная рекурсия)\n",
    "    recursion_memory = [i for i in n]  # Пример: каждый вызов использует примерно O(n) памяти\n",
    "\n",
    "    # Память для циклического подхода (например, один стек)\n",
    "    cycle_memory = [1 for _ in n]  # Пример: фиксированная память O(1)\n",
    "\n",
    "    plt.figure(figsize=(10, 5))\n",
    "    plt.plot(n, recursion_memory, label=\"Рекурсия\", color='red', marker='o')\n",
    "    plt.plot(n, cycle_memory, label=\"Цикл\", color='green', marker='o')\n",
    "\n",
    "    plt.title(\"Сравнение использования памяти: рекурсия vs цикл\")\n",
    "    plt.xlabel(\"Глубина вызова / Количество итераций\")\n",
    "    plt.ylabel(\"Используемая память (условная единица)\")\n",
    "    plt.legend()\n",
    "    plt.grid(True)\n",
    "    plt.show()\n",
    "\n",
    "# Визуализация\n",
    "plot_memory_usage()"
   ],
   "metadata": {
    "colab": {
     "base_uri": "https://localhost:8080/",
     "height": 487
    },
    "id": "XP_pv0JMyDUH",
    "outputId": "f1e3a2ae-d72b-4a77-930b-1efd3e10b678"
   },
   "execution_count": null,
   "outputs": [
    {
     "output_type": "display_data",
     "data": {
      "text/plain": [
       "<Figure size 1000x500 with 1 Axes>"
      ],
      "image/png": "[encoded data removed]"
     },
     "metadata": {}
    }
   ]
  },
  {
   "cell_type": "markdown",
   "source": [
    "Пояснение:\n",
    "\n",
    "- Иллюстрация 1: Дерево вызовов показывает все возможные рекурсивные вызовы для вычисления fibonacci(10). Вы видите, что некоторые вызовы повторяются, что и объясняет экспоненциальную сложность наивного подхода.\n",
    "- Иллюстрация 2: График для циклической версии показывает, как значения Фибоначчи вычисляются последовательно, без ветвления, что иллюстрирует линейную сложность алгоритма.\n",
    "- Дополнительная иллюстрация: График памяти сравнивает использование памяти для рекурсивного и циклического подходов, показывая преимущество циклов в плане экономии памяти.\n"
   ],
   "metadata": {
    "id": "WQ8vDBgIyga0"
   }
  },
  {
   "cell_type": "markdown",
   "source": [
    "## <a name=\"section12\"></a> **12. Hometask**"
   ],
   "metadata": {
    "id": "xPCsPQYrknhF"
   }
  },
  {
   "cell_type": "markdown",
   "source": [
    "Soon..."
   ],
   "metadata": {
    "id": "lt5Xgy49BGYr"
   }
  },
  {
   "cell_type": "markdown",
   "source": [
    "## **The end**"
   ],
   "metadata": {
    "id": "Vp2pfYHqB1Qo"
   }
  }
 ]
}
