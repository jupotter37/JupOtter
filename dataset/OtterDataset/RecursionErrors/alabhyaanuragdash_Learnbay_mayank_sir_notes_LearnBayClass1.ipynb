{
 "cells": [
  {
   "cell_type": "code",
   "execution_count": 1,
   "id": "623dd923",
   "metadata": {},
   "outputs": [],
   "source": [
    "\n",
    "def prime(n):\n",
    "    for x in range(2,n):\n",
    "        if n%x==0:\n",
    "            break\n",
    "        else:\n",
    "            return True\n",
    "    return False\n"
   ]
  },
  {
   "cell_type": "code",
   "execution_count": 2,
   "id": "2c14a0c0",
   "metadata": {},
   "outputs": [
    {
     "data": {
      "text/plain": [
       "True"
      ]
     },
     "execution_count": 2,
     "metadata": {},
     "output_type": "execute_result"
    }
   ],
   "source": [
    "prime(103203)"
   ]
  },
  {
   "cell_type": "code",
   "execution_count": 13,
   "id": "7da40e28",
   "metadata": {},
   "outputs": [],
   "source": [
    "def primex(n):\n",
    "    import math\n",
    "    \n",
    "    x=int(math.sqrt(n))\n",
    "    for i in range(2,x+1):\n",
    "        if n%i==0:\n",
    "            break\n",
    "        else:\n",
    "            return True\n",
    "   \n",
    "    return False"
   ]
  },
  {
   "cell_type": "code",
   "execution_count": 41,
   "id": "1e0888e4",
   "metadata": {},
   "outputs": [
    {
     "name": "stdout",
     "output_type": "stream",
     "text": [
      "False\n",
      "--- seconds --- 1.001119613647461\n"
     ]
    }
   ],
   "source": [
    "import time\n",
    "start_time = time.time()\n",
    "print(primex(1032033234))\n",
    "end_time = time.time()\n",
    "ex_time=(end_time - start_time) * 10**3\n",
    "print(\"--- seconds ---\",(ex_time))"
   ]
  },
  {
   "cell_type": "code",
   "execution_count": 44,
   "id": "e9e42299",
   "metadata": {},
   "outputs": [
    {
     "name": "stdout",
     "output_type": "stream",
     "text": [
      "False\n",
      "--- seconds --- 1.0056495666503906\n"
     ]
    }
   ],
   "source": [
    "import time\n",
    "start_time = time.time()\n",
    "print(prime(1032033234))\n",
    "end_time = time.time()\n",
    "ex_time=(end_time - start_time) * 10**3\n",
    "print(\"--- seconds ---\",(ex_time))"
   ]
  },
  {
   "cell_type": "code",
   "execution_count": null,
   "id": "789e27d1",
   "metadata": {},
   "outputs": [],
   "source": []
  },
  {
   "cell_type": "code",
   "execution_count": 15,
   "id": "6c9b9781",
   "metadata": {},
   "outputs": [],
   "source": [
    "def factorial(x):\n",
    "    if x==1 or x==0:\n",
    "        return 1\n",
    "    elif x<0:\n",
    "        print(\"enter valid no\")\n",
    "    else:\n",
    "        return (x*factorial(x-1))\n",
    "\n",
    "    \n",
    "\n",
    "\n",
    "            \n",
    "        "
   ]
  },
  {
   "cell_type": "code",
   "execution_count": 16,
   "id": "2d228fdd",
   "metadata": {},
   "outputs": [
    {
     "name": "stdout",
     "output_type": "stream",
     "text": [
      "Enter a number:-0\n"
     ]
    },
    {
     "data": {
      "text/plain": [
       "1"
      ]
     },
     "execution_count": 16,
     "metadata": {},
     "output_type": "execute_result"
    }
   ],
   "source": [
    "n=int(input(\"Enter a number:-\"))\n",
    "factorial(n)\n"
   ]
  },
  {
   "cell_type": "code",
   "execution_count": 6,
   "id": "b97190ee",
   "metadata": {},
   "outputs": [
    {
     "ename": "SyntaxError",
     "evalue": "unterminated string literal (detected at line 1) (2063371626.py, line 1)",
     "output_type": "error",
     "traceback": [
      "\u001b[1;36m  Cell \u001b[1;32mIn[6], line 1\u001b[1;36m\u001b[0m\n\u001b[1;33m    a= 'This is\u001b[0m\n\u001b[1;37m       ^\u001b[0m\n\u001b[1;31mSyntaxError\u001b[0m\u001b[1;31m:\u001b[0m unterminated string literal (detected at line 1)\n"
     ]
    }
   ],
   "source": [
    "a= 'This is\n",
    "Python \n",
    "class'\n",
    "print(a)"
   ]
  },
  {
   "cell_type": "code",
   "execution_count": 9,
   "id": "26c78145",
   "metadata": {},
   "outputs": [],
   "source": [
    "def infinite(n):\n",
    "    if n==n/1:\n",
    "        return infinite(n+1)\n",
    "    else:\n",
    "        return 0\n",
    "    "
   ]
  },
  {
   "cell_type": "code",
   "execution_count": 10,
   "id": "eaea3dca",
   "metadata": {},
   "outputs": [
    {
     "ename": "RecursionError",
     "evalue": "maximum recursion depth exceeded in comparison",
     "output_type": "error",
     "traceback": [
      "\u001b[1;31m---------------------------------------------------------------------------\u001b[0m",
      "\u001b[1;31mRecursionError\u001b[0m                            Traceback (most recent call last)",
      "Cell \u001b[1;32mIn[10], line 1\u001b[0m\n\u001b[1;32m----> 1\u001b[0m infinite(\u001b[38;5;241m4\u001b[39m)\n",
      "Cell \u001b[1;32mIn[9], line 3\u001b[0m, in \u001b[0;36minfinite\u001b[1;34m(n)\u001b[0m\n\u001b[0;32m      1\u001b[0m \u001b[38;5;28;01mdef\u001b[39;00m \u001b[38;5;21minfinite\u001b[39m(n):\n\u001b[0;32m      2\u001b[0m     \u001b[38;5;28;01mif\u001b[39;00m n\u001b[38;5;241m==\u001b[39mn\u001b[38;5;241m/\u001b[39m\u001b[38;5;241m1\u001b[39m:\n\u001b[1;32m----> 3\u001b[0m         \u001b[38;5;28;01mreturn\u001b[39;00m infinite(n\u001b[38;5;241m+\u001b[39m\u001b[38;5;241m1\u001b[39m)\n\u001b[0;32m      4\u001b[0m     \u001b[38;5;28;01melse\u001b[39;00m:\n\u001b[0;32m      5\u001b[0m         \u001b[38;5;28;01mreturn\u001b[39;00m \u001b[38;5;241m0\u001b[39m\n",
      "Cell \u001b[1;32mIn[9], line 3\u001b[0m, in \u001b[0;36minfinite\u001b[1;34m(n)\u001b[0m\n\u001b[0;32m      1\u001b[0m \u001b[38;5;28;01mdef\u001b[39;00m \u001b[38;5;21minfinite\u001b[39m(n):\n\u001b[0;32m      2\u001b[0m     \u001b[38;5;28;01mif\u001b[39;00m n\u001b[38;5;241m==\u001b[39mn\u001b[38;5;241m/\u001b[39m\u001b[38;5;241m1\u001b[39m:\n\u001b[1;32m----> 3\u001b[0m         \u001b[38;5;28;01mreturn\u001b[39;00m infinite(n\u001b[38;5;241m+\u001b[39m\u001b[38;5;241m1\u001b[39m)\n\u001b[0;32m      4\u001b[0m     \u001b[38;5;28;01melse\u001b[39;00m:\n\u001b[0;32m      5\u001b[0m         \u001b[38;5;28;01mreturn\u001b[39;00m \u001b[38;5;241m0\u001b[39m\n",
      "    \u001b[1;31m[... skipping similar frames: infinite at line 3 (2970 times)]\u001b[0m\n",
      "Cell \u001b[1;32mIn[9], line 3\u001b[0m, in \u001b[0;36minfinite\u001b[1;34m(n)\u001b[0m\n\u001b[0;32m      1\u001b[0m \u001b[38;5;28;01mdef\u001b[39;00m \u001b[38;5;21minfinite\u001b[39m(n):\n\u001b[0;32m      2\u001b[0m     \u001b[38;5;28;01mif\u001b[39;00m n\u001b[38;5;241m==\u001b[39mn\u001b[38;5;241m/\u001b[39m\u001b[38;5;241m1\u001b[39m:\n\u001b[1;32m----> 3\u001b[0m         \u001b[38;5;28;01mreturn\u001b[39;00m infinite(n\u001b[38;5;241m+\u001b[39m\u001b[38;5;241m1\u001b[39m)\n\u001b[0;32m      4\u001b[0m     \u001b[38;5;28;01melse\u001b[39;00m:\n\u001b[0;32m      5\u001b[0m         \u001b[38;5;28;01mreturn\u001b[39;00m \u001b[38;5;241m0\u001b[39m\n",
      "Cell \u001b[1;32mIn[9], line 2\u001b[0m, in \u001b[0;36minfinite\u001b[1;34m(n)\u001b[0m\n\u001b[0;32m      1\u001b[0m \u001b[38;5;28;01mdef\u001b[39;00m \u001b[38;5;21minfinite\u001b[39m(n):\n\u001b[1;32m----> 2\u001b[0m     \u001b[38;5;28;01mif\u001b[39;00m n\u001b[38;5;241m==\u001b[39mn\u001b[38;5;241m/\u001b[39m\u001b[38;5;241m1\u001b[39m:\n\u001b[0;32m      3\u001b[0m         \u001b[38;5;28;01mreturn\u001b[39;00m infinite(n\u001b[38;5;241m+\u001b[39m\u001b[38;5;241m1\u001b[39m)\n\u001b[0;32m      4\u001b[0m     \u001b[38;5;28;01melse\u001b[39;00m:\n",
      "\u001b[1;31mRecursionError\u001b[0m: maximum recursion depth exceeded in comparison"
     ]
    }
   ],
   "source": [
    "infinite(4)"
   ]
  },
  {
   "cell_type": "code",
   "execution_count": 20,
   "id": "149e75b9",
   "metadata": {},
   "outputs": [],
   "source": [
    "def Ispallendrum(my_str):\n",
    "    my_str_rev=my_str[::-1]\n",
    "    if my_str_rev== my_str:\n",
    "        return True\n",
    "    else:\n",
    "        return False"
   ]
  },
  {
   "cell_type": "code",
   "execution_count": 21,
   "id": "ede9ceb8",
   "metadata": {},
   "outputs": [
    {
     "data": {
      "text/plain": [
       "False"
      ]
     },
     "execution_count": 21,
     "metadata": {},
     "output_type": "execute_result"
    }
   ],
   "source": [
    "Ispallendrum(\"banty\")"
   ]
  },
  {
   "cell_type": "code",
   "execution_count": null,
   "id": "7ec2443a",
   "metadata": {},
   "outputs": [],
   "source": [
    "\"\"\"\"goodmorningmadam\n",
    "oo\n",
    "madam\n",
    "nin\n",
    "ada\"\"\"\"\"\"\n"
   ]
  },
  {
   "cell_type": "code",
   "execution_count": 47,
   "id": "279ef665",
   "metadata": {},
   "outputs": [],
   "source": [
    "def Extpallendrum(Str_ch):\n",
    "    count=0\n",
    "    for i in range(0,len(Str_ch)-1):\n",
    "           for j in range(i+1,len(Str_ch)):\n",
    "                count=count+1\n",
    "                y=Ispallendrum(Str_ch[i:j+1])\n",
    "                if y == True:\n",
    "                    print(\"---\",Str_ch[i:j+1])\n",
    "    print(count)"
   ]
  },
  {
   "cell_type": "code",
   "execution_count": 66,
   "id": "f9182043",
   "metadata": {},
   "outputs": [
    {
     "name": "stdout",
     "output_type": "stream",
     "text": [
      "1719321646.5237286\n",
      "--- oo\n",
      "--- nin\n",
      "--- madam\n",
      "--- ada\n",
      "120\n",
      "1719321646.5237286\n",
      "ms 0.0\n"
     ]
    }
   ],
   "source": [
    "import time\n",
    "print(time.time())\n",
    "start_time=time.time()\n",
    "Extpallendrum(\"goodmorningmadam\")\n",
    "print(time.time())\n",
    "end_time=time.time()\n",
    "ex_time=(end_time - start_time)*1000\n",
    "print(\"ms\",(ex_time))"
   ]
  },
  {
   "cell_type": "code",
   "execution_count": 51,
   "id": "949a30b1",
   "metadata": {},
   "outputs": [],
   "source": [
    "def Extpallendrum_New(Str_ch):\n",
    "    count=0\n",
    "    for i in range(0,len(Str_ch)):\n",
    "        for j in range(i+1,len(Str_ch)):\n",
    "            if Str_ch[i]==Str_ch[j]:\n",
    "                count=count+1\n",
    "                y=Ispallendrum(Str_ch[i:j+1]) \n",
    "                if y == True:\n",
    "                    print(\"---\",Str_ch[i:j+1])\n",
    "    print(count)"
   ]
  },
  {
   "cell_type": "code",
   "execution_count": 65,
   "id": "7914356d",
   "metadata": {},
   "outputs": [
    {
     "name": "stdout",
     "output_type": "stream",
     "text": [
      "1719321607.4075544\n",
      "--- oo\n",
      "--- nin\n",
      "--- madam\n",
      "--- ada\n",
      "10\n",
      "1719321607.4075544\n",
      "ms 0.0\n"
     ]
    }
   ],
   "source": [
    "import time\n",
    "print(time.time())\n",
    "start_time=time.time()\n",
    "Extpallendrum_New(\"goodmorningmadam\")\n",
    "print(time.time())\n",
    "end_time=time.time()\n",
    "ex_time=(end_time - start_time)*1000\n",
    "print(\"ms\",(ex_time))"
   ]
  },
  {
   "cell_type": "code",
   "execution_count": 6,
   "id": "2e7d8e1a",
   "metadata": {},
   "outputs": [
    {
     "data": {
      "text/plain": [
       "3"
      ]
     },
     "execution_count": 6,
     "metadata": {},
     "output_type": "execute_result"
    }
   ],
   "source": [
    "g=(lambda x,y,z: x if x>y and x>z else y if y>x and y>z else z)\n",
    "g(1,2,3)"
   ]
  },
  {
   "cell_type": "code",
   "execution_count": 1,
   "id": "6527fdae",
   "metadata": {},
   "outputs": [
    {
     "name": "stdout",
     "output_type": "stream",
     "text": [
      " Volume in drive C is OS\n",
      " Volume Serial Number is 2EA0-0D21\n",
      "\n",
      " Directory of C:\\Users\\ASUS\\Desktop\\PYTHONME\n",
      "\n",
      "29-06-2024  09:58    <DIR>          .\n",
      "29-06-2024  10:18    <DIR>          ..\n",
      "23-06-2024  09:02    <DIR>          .ipynb_checkpoints\n",
      "29-06-2024  09:58            11,749 LearnBayClass1.ipynb\n",
      "04-01-2024  23:47             5,128 PRACTICE.ipynb\n",
      "01-11-2023  19:06            14,537 PYTHON-A(BASIC).ipynb\n",
      "17-10-2023  10:52             9,968 PYTHON-B(NEW DATA TYPE).ipynb\n",
      "17-10-2023  12:52            18,514 PYTHON-C(OPERATORS IN PYTHON).ipynb\n",
      "17-10-2023  19:55             4,973 PYTHON-D(FLOW CONTROL STATEMENT).ipynb\n",
      "18-10-2023  11:11            12,921 PYTHON-E[ITERATER(LOOP)].ipynb\n",
      "18-10-2023  14:31             4,698 PYTHON-F(STAR DIGRAM).ipynb\n",
      "21-10-2023  11:53            18,624 PYTHON-G(STRING).ipynb\n",
      "22-10-2023  00:06            19,267 PYTHON-H(LIST).ipynb\n",
      "22-10-2023  11:28            23,638 PYTHON-I(SET & TUPLE).ipynb\n",
      "23-06-2024  09:12            12,881 PYTHON-J(DICTIONARY).ipynb\n",
      "23-06-2024  11:29            21,379 PYTHON-K(FUNCTION).ipynb\n",
      "12-11-2023  22:37             6,937 PYTHON-L(OOPS).ipynb\n",
      "20-11-2023  22:23             7,972 PYTTHON-M(LINK LIST).ipynb\n",
      "              15 File(s)        193,186 bytes\n",
      "               3 Dir(s)  86,239,338,496 bytes free\n"
     ]
    }
   ],
   "source": [
    "ls"
   ]
  },
  {
   "cell_type": "code",
   "execution_count": 6,
   "id": "f60372ec-34b1-4ca6-9b95-9ec78864d33f",
   "metadata": {},
   "outputs": [],
   "source": [
    "import math_operation"
   ]
  },
  {
   "cell_type": "code",
   "execution_count": 7,
   "id": "0ac4212c-8206-4d58-90a7-4c2d39c1e733",
   "metadata": {},
   "outputs": [
    {
     "name": "stdout",
     "output_type": "stream",
     "text": [
      "['__builtins__', '__cached__', '__doc__', '__file__', '__loader__', '__name__', '__package__', '__spec__', 'add', 'average', 'cumulative_sum', 'div', 'factorial', 'floor_div', 'max', 'min', 'mul', 'power', 'sub']\n"
     ]
    }
   ],
   "source": [
    "print(dir(math_operation))"
   ]
  },
  {
   "cell_type": "code",
   "execution_count": 1,
   "id": "433d2e43-56fc-442e-a8ee-5a57e3199de0",
   "metadata": {},
   "outputs": [
    {
     "data": {
      "text/plain": [
       "True"
      ]
     },
     "execution_count": 1,
     "metadata": {},
     "output_type": "execute_result"
    }
   ],
   "source": [
    "a = set([1, 2, 3])\n",
    "b = set([2, 3, 4])\n",
    "c = a.intersection(b) # equivalent to c = a & b\n",
    "a.intersection(b)\n",
    "c.issubset(a)\n"
   ]
  },
  {
   "cell_type": "code",
   "execution_count": 2,
   "id": "8d95ed61-ac54-43d9-9e99-0b3fd4a526da",
   "metadata": {},
   "outputs": [
    {
     "ename": "SyntaxError",
     "evalue": "invalid syntax (3946220663.py, line 7)",
     "output_type": "error",
     "traceback": [
      "\u001b[1;36m  Cell \u001b[1;32mIn[2], line 7\u001b[1;36m\u001b[0m\n\u001b[1;33m    i + = 1\u001b[0m\n\u001b[1;37m        ^\u001b[0m\n\u001b[1;31mSyntaxError\u001b[0m\u001b[1;31m:\u001b[0m invalid syntax\n"
     ]
    }
   ],
   "source": [
    "i = 1\n",
    "while True:\n",
    "    if i%3 == 0:\n",
    "        break\n",
    "    print(i)\n",
    " \n",
    "    i + = 1"
   ]
  },
  {
   "cell_type": "code",
   "execution_count": 3,
   "id": "6b530629-cc20-45a7-8d7e-47ed9c0fc500",
   "metadata": {},
   "outputs": [
    {
     "data": {
      "text/plain": [
       "[1, 2, 'hello']"
      ]
     },
     "execution_count": 3,
     "metadata": {},
     "output_type": "execute_result"
    }
   ],
   "source": [
    "l=[1, 0, 2, 0, 'hello', '', []]\n",
    "list(filter(bool, l))\n"
   ]
  },
  {
   "cell_type": "code",
   "execution_count": 4,
   "id": "1fd42426-f0f0-4991-aefc-06838fd2b0ab",
   "metadata": {},
   "outputs": [
    {
     "name": "stdout",
     "output_type": "stream",
     "text": [
      "0\n",
      "1\n",
      "2\n",
      "2\n"
     ]
    }
   ],
   "source": [
    "a = [0,1,2,3]\n",
    "\n",
    "for a[-1] in a:\n",
    "    print(a[-1])"
   ]
  },
  {
   "cell_type": "code",
   "execution_count": null,
   "id": "574a59f4-0191-4e57-8a4d-6dbf69374d91",
   "metadata": {},
   "outputs": [],
   "source": []
  }
 ],
 "metadata": {
  "kernelspec": {
   "display_name": "Python 3 (ipykernel)",
   "language": "python",
   "name": "python3"
  },
  "language_info": {
   "codemirror_mode": {
    "name": "ipython",
    "version": 3
   },
   "file_extension": ".py",
   "mimetype": "text/x-python",
   "name": "python",
   "nbconvert_exporter": "python",
   "pygments_lexer": "ipython3",
   "version": "3.11.7"
  }
 },
 "nbformat": 4,
 "nbformat_minor": 5
}
