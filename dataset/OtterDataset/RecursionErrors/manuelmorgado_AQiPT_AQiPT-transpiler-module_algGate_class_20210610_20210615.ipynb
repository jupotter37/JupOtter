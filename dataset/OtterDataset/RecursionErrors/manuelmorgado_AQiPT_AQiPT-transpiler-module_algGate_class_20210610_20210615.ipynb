{
 "cells": [
  {
   "cell_type": "markdown",
   "id": "05fa194c",
   "metadata": {
    "ExecuteTime": {
     "end_time": "2021-06-10T08:25:13.484620Z",
     "start_time": "2021-06-10T08:25:13.471664Z"
    }
   },
   "source": [
    "<p align=\"center\">\n",
    "<img src='https://github.com/manuelmorgado/AQiPT/blob/main/resources/aqipt_logo.png?raw=true' width=\"400\" />\n",
    "</p>\n",
    "\n",
    "\n",
    "\\textbf{Author}: Manuel A. Morgado V. (morgadovargas@unistra.fr)\n",
    "\n",
    "\\textbf{Affiliation}: \n",
    "\n",
    "- \\textit{Institut de Science et d’Ingénierie Supramoléculaires (ISIS, UMR7006), University of Strasbourg and CNRS}\n",
    "\n",
    "- \\textit{Centre Européen de Sciences Quantiques (CESQ-ISIS, UMR7006), University of Strasbourg and CNRS}\n",
    "\n",
    "\\textbf{Created}: Jun.10, 2021\n",
    "\n",
    "\\textbf{Last Modification}: Jun.16, 2021\n",
    "\n",
    "\\textbf{License}: http://www.apache.org/licenses/LICENSE-2.0"
   ]
  },
  {
   "cell_type": "markdown",
   "id": "faa8e208",
   "metadata": {
    "ExecuteTime": {
     "end_time": "2021-06-16T18:20:21.131545Z",
     "start_time": "2021-06-16T18:20:21.128783Z"
    }
   },
   "source": [
    "<div class=\"alert alert-block alert-danger\">\n",
    "\n",
    "**Module** : transpiler\n",
    "    \n",
    "**Class** : algGate\n",
    "\n",
    "\n",
    "</div>"
   ]
  },
  {
   "cell_type": "markdown",
   "id": "09df3f81",
   "metadata": {},
   "source": [
    "<div class=\"alert alert-block alert-danger\">\n",
    "\n",
    "**TO DO**\n",
    "\n",
    "- Generalized multi-qubit gates\n",
    "- Matrix pCZ()\n",
    "- Equivalency of the native gates to cannonical ones using Qiskit\n",
    "\n",
    "</div>"
   ]
  },
  {
   "cell_type": "code",
   "execution_count": 1,
   "id": "a3573c40",
   "metadata": {
    "ExecuteTime": {
     "end_time": "2021-08-19T07:59:58.325111Z",
     "start_time": "2021-08-19T07:59:56.798475Z"
    },
    "code_folding": []
   },
   "outputs": [
    {
     "data": {
      "text/html": [
       "<style>.container { width:85% !important; }</style>"
      ],
      "text/plain": [
       "<IPython.core.display.HTML object>"
      ]
     },
     "metadata": {},
     "output_type": "display_data"
    }
   ],
   "source": [
    "#libs\n",
    "from numpy import asarray, cos, sin, exp, sqrt, pi\n",
    "import qutip as qt\n",
    "\n",
    "import matplotlib as mpl\n",
    "import matplotlib.pyplot as plt\n",
    "from mpl_toolkits.mplot3d import Axes3D\n",
    "from matplotlib import animation\n",
    "from matplotlib import cm\n",
    "import imageio\n",
    "\n",
    "from IPython.display import clear_output\n",
    "from IPython.core.display import HTML\n",
    "# with open( './custom.css', 'r' ) as f: style = f.read()\n",
    "# HTML( style )\n",
    "from IPython.display import clear_output\n",
    "from IPython.core.display import HTML, display\n",
    "display(HTML(\"<style>.container { width:85% !important; }</style>\"))\n",
    "\n",
    "import warnings\n",
    "warnings.filterwarnings('ignore')"
   ]
  },
  {
   "cell_type": "code",
   "execution_count": 3,
   "id": "58275eac",
   "metadata": {
    "ExecuteTime": {
     "end_time": "2021-06-23T07:34:21.298408Z",
     "start_time": "2021-06-23T07:34:21.284783Z"
    },
    "code_folding": [
     0,
     1,
     17,
     45
    ]
   },
   "outputs": [],
   "source": [
    "#visualization functions\n",
    "def plotBloch(state_lst, figure=None, subfigure=None, pltshow=True):\n",
    "    \n",
    "    if figure or subfigure is None:\n",
    "        b= qt.Bloch()\n",
    "    else:\n",
    "        b= qt.Bloch(fig=figure, axis=subfigure)\n",
    "\n",
    "    for states in state_lst:\n",
    "        b.add_states(states,'point')\n",
    "    \n",
    "    if pltshow==True:\n",
    "        b.render()\n",
    "        return b\n",
    "    else:\n",
    "        return b\n",
    "\n",
    "def mp4Gate(state_lst, marker='o', psize=10, pcolor='dodgerblue'):\n",
    "    \n",
    "    fig = plt.figure()\n",
    "    ax = Axes3D(fig, azim=-40, elev=30)\n",
    "    sphere = qt.Bloch(axes=ax)\n",
    "\n",
    "    def animate(i):\n",
    "        sphere.clear()\n",
    "\n",
    "        for j in range(i):\n",
    "            sphere.add_states(state_lst[j],'point')\n",
    "        sphere.add_states(state_lst[i])\n",
    "\n",
    "        sphere.point_marker = marker\n",
    "        sphere.point_size = [psize]\n",
    "        sphere.point_color = [pcolor]\n",
    "\n",
    "        sphere.make_sphere()\n",
    "        return ax\n",
    "\n",
    "    def init():\n",
    "        sphere.vector_color = ['r']\n",
    "        return ax\n",
    "\n",
    "    ani = animation.FuncAnimation(fig, animate, np.arange(len(state_lst)),\n",
    "                                  init_func=init, blit=False, repeat=True)\n",
    "    ani.save('bloch_sphere.mp4', fps=20)\n",
    "\n",
    "def gif4Bloch(states, duration=0.1, save_all=False,  fig=None, axes=None):\n",
    "    b = qt.Bloch(fig, axes)\n",
    "    b.vector_color = ['r']\n",
    "    b.view = [-40,30]\n",
    "    images=[]\n",
    "    try:\n",
    "        length = len(states)\n",
    "    except:\n",
    "        length = 1\n",
    "        states = [states]\n",
    "    ## normalize colors to the length of data ##\n",
    "    nrm = mpl.colors.Normalize(0,length)\n",
    "    colors = cm.cool(nrm(range(length))) # options: cool, summer, winter, autumn etc.\n",
    "\n",
    "    ## customize sphere properties ##\n",
    "    b.point_color = list(colors) # options: 'r', 'g', 'b' etc.\n",
    "    b.point_marker = ['o']\n",
    "    b.point_size = [30]\n",
    "\n",
    "    for i in range(length):\n",
    "        b.clear()\n",
    "        b.add_states(states[i])\n",
    "        b.add_states(states[:(i+1)],'point')\n",
    "\n",
    "        if save_all:\n",
    "            b.save(dirc='tmp') #saving images to tmp directory\n",
    "            filename=\"tmp/bloch_%01d.png\" % i\n",
    "        else:\n",
    "            filename='temp_file.png'\n",
    "            b.save(filename)\n",
    "        images.append(imageio.imread(filename))\n",
    "    imageio.mimsave('bloch_anim.gif', images, duration=duration)\n",
    "        \n",
    "def gif4QST(op_list, op_basis, op_label, gate_name,  duration=0.1, save_all=False, gifname='qst_anim.gif'):       \n",
    "    \n",
    "    plt.figure()\n",
    "    images=[]\n",
    "    for i in range(len(op_list)):\n",
    "        \n",
    "        U_psi = op_list[i]\n",
    "        U_rho = qt.spre(U_psi) * qt.spost(U_psi.dag()) #creates the superoperator\n",
    "\n",
    "        chi = qt.qpt(U_rho, op_basis); #calculates the Xi matrix for the tomography\n",
    "\n",
    "        qt.tomography.qpt_plot_combined(chi, op_label, gate_name); #quantum state tomography\n",
    "        \n",
    "        \n",
    "        if save_all:\n",
    "            filename=\"tmp/qst_%01d.png\" % i;\n",
    "            plt.savefig(filename);\n",
    "        else:\n",
    "            filename='temp_file.png';\n",
    "            plt.savefig(filename);\n",
    "        images.append(imageio.imread(filename));\n",
    "        plt.close()\n",
    "    imageio.mimsave(gifname, images, 'GIF', duration=duration);"
   ]
  },
  {
   "cell_type": "markdown",
   "id": "93ec38a8",
   "metadata": {
    "ExecuteTime": {
     "end_time": "2021-06-10T08:55:22.600737Z",
     "start_time": "2021-06-10T08:55:22.595215Z"
    }
   },
   "source": [
    "# Algebraic native Rydberg quantum gates"
   ]
  },
  {
   "cell_type": "markdown",
   "id": "eff07b72",
   "metadata": {},
   "source": [
    "Based in the latest summary of Rydberg gates on this review article, there is a distinction of different types of native Rydberg quantum gates. Not only considering the nature of the gates over the number of qubits, but also in the nature of the simultaneity of the gates, they can be broadly divide in 3 classes:\n",
    "\n",
    "    -Single qubit gates\n",
    "    -Two qubits gates\n",
    "    -Multi-qubits gates or parallel-controlled qubit gates\n",
    "\n",
    "In the following cells is presented a series of functions that summarize these native gate set for Rydberg qubits."
   ]
  },
  {
   "cell_type": "markdown",
   "id": "0985d1b9",
   "metadata": {},
   "source": [
    "<div class=\"alert alert-block alert-warning\">\n",
    "\n",
    "**Info**\n",
    "\n",
    "These \"algebraic\" gates are based on a specific sequence of physical operations that might no be optimal, so if you would like to go a bit deeper on this it would be necessary to dig on the Hamiltonian (theoretical) sequence or at the level of lab control pulses (experimental).\n",
    "\n",
    "</div>"
   ]
  },
  {
   "cell_type": "code",
   "execution_count": 4,
   "id": "b10a7558",
   "metadata": {
    "ExecuteTime": {
     "end_time": "2021-06-23T07:34:25.141600Z",
     "start_time": "2021-06-23T07:34:25.127105Z"
    },
    "code_folding": [
     0,
     3,
     10,
     20,
     42,
     65,
     88,
     92,
     117,
     129,
     152,
     156
    ],
    "hide_input": false
   },
   "outputs": [],
   "source": [
    "#native algebraic Rydberg gates\n",
    "#single qubit gates\n",
    "'''\n",
    "Here we find the single qubits gates for Rydberg qubits.\n",
    "\n",
    "    Uxy(phi, alpha)\n",
    "        phi (float) : angle\n",
    "        alpha (float): angle\n",
    "'''\n",
    "# Uxy gate\n",
    "def Uxy(phi, alpha):\n",
    "    m11 = cos(phi/2); \n",
    "    m12 = -1j*sin(phi/2)*exp(1j*alpha);\n",
    "    \n",
    "    m21 = -1j*sin(phi/2)*exp(-1j*alpha); \n",
    "    m22 = cos(phi/2);\n",
    "    return qt.Qobj(asarray([[m11, m12],[m21, m22]]))\n",
    "\n",
    "#two qubits gates\n",
    "'''\n",
    "Here we find the two qubits gates for Rydberg qubits.\n",
    "\n",
    "    Controlled-Uxy\n",
    "        CUxy(phi, alpha)\n",
    "            phi (float) : angle\n",
    "            alpha (float): angle\n",
    "\n",
    "    Controlled-phase\n",
    "        CPHASE(phi00, phi01, phi10, phi11)\n",
    "            phi00 (float) : angle\n",
    "            phi01 (float): angle\n",
    "            phi10 (float): angle\n",
    "            phi11 (float): angle\n",
    "\n",
    "    Controlled-Pauli Z\n",
    "        CZ()\n",
    "\n",
    "    Rydberg dipole exchange\n",
    "        XY(phi)\n",
    "            phi (float): angle\n",
    "'''\n",
    "# CUxy gate\n",
    "def CUxy(phi, alpha):\n",
    "    m11 = cos(phi/2); \n",
    "    m12 = -1j*sin(phi/2)*exp(1j*alpha); \n",
    "    m13 = 0; \n",
    "    m14 = 0;\n",
    "    \n",
    "    m21 = -1j*sin(phi/2)*exp(-1j*alpha); \n",
    "    m22 = cos(phi/2); \n",
    "    m23 = 0; \n",
    "    m24 = 0;\n",
    "    \n",
    "    m31 = 0; \n",
    "    m32 = 0; \n",
    "    m33 = 1; \n",
    "    m34 = 0;\n",
    "    \n",
    "    m41 = 0; \n",
    "    m42 = 0; \n",
    "    m43 = 0; \n",
    "    m44 = 1;\n",
    "    return qt.Qobj(asarray([[m11, m12, m13, m14],[m21, m22, m23, m24], [m31, m32, m33, m34],[m41, m42, m43, m44]]))\n",
    "\n",
    "# CPHASE gate\n",
    "def CPHASE(phi00, phi01, phi10, phi11):\n",
    "    m11 = exp(1j*phi00); \n",
    "    m12 = 0; \n",
    "    m13 = 0; \n",
    "    m14 = 0;\n",
    "\n",
    "    m21 = 0; \n",
    "    m22 = exp(1j*phi01); \n",
    "    m23 = 0; \n",
    "    m24 = 0;\n",
    "\n",
    "    m31 = 0; \n",
    "    m32 = 0; \n",
    "    m33 = exp(1j*phi10); \n",
    "    m34 = 0;\n",
    "\n",
    "    m41 = 0; \n",
    "    m42 = 0; \n",
    "    m43 = 0; \n",
    "    m44 = exp(1j*phi11);\n",
    "    return qt.Qobj(asarray([[m11, m12, m13, m14],[m21, m22, m23, m24], [m31, m32, m33, m34],[m41, m42, m43, m44]]), dims = [[2,2],[2,2]])\n",
    "\n",
    "#CZ gate\n",
    "def CZ():\n",
    "    return CPHASE(0, 0, 0, pi)    \n",
    "\n",
    "# XY gate\n",
    "def XY(phi):\n",
    "    m11 = 1; \n",
    "    m12 = 0; \n",
    "    m13 = 0; \n",
    "    m14 = 0;\n",
    "\n",
    "    m21 = 0; \n",
    "    m22 = cos(phi); \n",
    "    m23 = -1j*sin(phi); \n",
    "    m24 = 0;\n",
    "\n",
    "    m31 = 0; \n",
    "    m32 = -1j*sin(phi); \n",
    "    m33 = cos(phi); \n",
    "    m34 = 0;\n",
    "\n",
    "    m41 = 0; \n",
    "    m42 = 0; \n",
    "    m43 = 0; \n",
    "    m44 = 1;\n",
    "    return qt.Qobj(asarray([[m11, m12, m13, m14],[m21, m22, m23, m24], [m31, m32, m33, m34],[m41, m42, m43, m44]]))\n",
    "\n",
    "\n",
    "#multi-qubits gates\n",
    "'''\n",
    "Here we find the single qubits gates for Rydberg qubits.\n",
    "\n",
    "    Parallel-controlled-Uxy\n",
    "        pCUxy(theta, varphi)\n",
    "            theta (float) : angle\n",
    "            varphi (float): angle\n",
    "\n",
    "    Parallel-controlled-Pauli Z\n",
    "        pCZ(phi)\n",
    "            phi (float): angle\n",
    "'''\n",
    "#pCUxy gate\n",
    "def pCUxy(theta, varphi):\n",
    "    m11 = cos(theta/2); \n",
    "    m12 = -1j*sin(theta/2)*exp(1j*varphi)/sqrt(2); \n",
    "    m13 = -1j*sin(theta/2)*exp(1j*varphi)/sqrt(2); \n",
    "    m14 = 0;\n",
    "    \n",
    "    m21 = 1j*sin(theta/2)*exp(-1j*varphi)/sqrt(2);\n",
    "    m22 = cos(theta/4)**2; \n",
    "    m23 = -sin(theta/4)**2;\n",
    "    m24 = 0;\n",
    "    \n",
    "    m31 = 1j*sin(theta/2)*exp(-1j*varphi)/sqrt(2);\n",
    "    m32 = m23;\n",
    "    m33 = cos(theta/4)**2; \n",
    "    m34 = 0;\n",
    "    \n",
    "    m41 = 0; \n",
    "    m42 = 0; \n",
    "    m43 = 0; \n",
    "    m44 = 1;\n",
    "    return qt.Qobj(asarray([[m11, m12, m13, m14],[m21, m22, m23, m24], [m31, m32, m33, m34],[m41, m42, m43, m44]]), dims = [[2,2],[2,2]])\n",
    "\n",
    "#pCZ gate\n",
    "def pCZ(phi):\n",
    "    return CPHASE(0, phi, phi, 2*phi-pi)\n",
    "\n",
    "# Globalphase gate\n",
    "def globphase(arg_value):\n",
    "    return qt.globalphase(arg_value['theta'])\n"
   ]
  },
  {
   "cell_type": "markdown",
   "id": "b2d7d215",
   "metadata": {},
   "source": [
    "---"
   ]
  },
  {
   "cell_type": "markdown",
   "id": "601ebf47",
   "metadata": {
    "ExecuteTime": {
     "end_time": "2021-06-12T01:05:13.994006Z",
     "start_time": "2021-06-12T01:05:13.988640Z"
    }
   },
   "source": [
    "<div class=\"alert alert-block alert-success\">\n",
    "\n",
    "**Let's start it!**\n",
    "\n",
    "We now will do some show-up of these fun gates!\n",
    "\n",
    "</div>"
   ]
  },
  {
   "cell_type": "markdown",
   "id": "bcb88b30",
   "metadata": {},
   "source": [
    "## Single qubit gates\n",
    "\n",
    "This typer of gates are the most intuitive in the graphical way, since it just consider all possible states from rotations in the Bloch sphere that maps the complex-valued state of a two-level quantum system into a Euclidean 3-dimensional sphere."
   ]
  },
  {
   "cell_type": "markdown",
   "id": "f87fe567",
   "metadata": {},
   "source": [
    "### U$_{xy}(\\phi, \\alpha)$\n",
    "The most simple one is the U$_{xy}(\\phi, \\alpha)$ gate, this allows rotations along the Bloch sphere in terms of two angles. This would represent our single qubit gate set, considering different values of the angles $\\phi, \\alpha$. In the cell bellow you will find out that we applied a sequence of this gates considering different values of the angles that takes the state in $|0\\rangle$ and transform first ot the equator, then rotate around the vertical access to come back to the original state.\n"
   ]
  },
  {
   "cell_type": "markdown",
   "id": "e3a0f9d3",
   "metadata": {
    "ExecuteTime": {
     "end_time": "2021-06-12T01:05:13.994006Z",
     "start_time": "2021-06-12T01:05:13.988640Z"
    }
   },
   "source": [
    "<div class=\"alert alert-block alert-success\">\n",
    "\n",
    "**Look up!**\n",
    "    \n",
    "The unitary transformation or matrix associated to this native gate is the following:\n",
    "\n",
    "\\begin{equation}\n",
    "\\text{U}_{xy}(\\theta, \\varphi) = \\begin{pmatrix} \n",
    "cos(\\theta/2) &  -i sin(\\theta/2)e^{i\\varphi} \\\\\n",
    "-i sin(\\theta/2)e^{-i\\varphi} & cos(\\theta/2) \n",
    "\\end{pmatrix}\n",
    "\\end{equation}\n",
    "\n",
    "</div>"
   ]
  },
  {
   "cell_type": "code",
   "execution_count": 271,
   "id": "a7723106",
   "metadata": {
    "ExecuteTime": {
     "end_time": "2021-06-14T13:44:11.491502Z",
     "start_time": "2021-06-14T13:44:11.439055Z"
    }
   },
   "outputs": [],
   "source": [
    "phi_vals = np.concatenate((np.linspace(0,-pi/2, 20), [-pi/2]*20, np.linspace(-pi/2, 0, 20))); #sequence of values of the angle phi\n",
    "alpha_vals = np.concatenate((np.zeros(20), np.linspace(0,pi/2, 20), [pi/2]*20)); #sequence of values of the angle alpha\n",
    "\n",
    "state_lst = [];\n",
    "for phi, alpha in zip(phi_vals, alpha_vals):\n",
    "    state_lst.append(Uxy(phi, alpha)*qt.basis(2,0)); #adding the states along the trajectory"
   ]
  },
  {
   "cell_type": "code",
   "execution_count": 272,
   "id": "c88e4d23",
   "metadata": {
    "ExecuteTime": {
     "end_time": "2021-06-14T13:44:30.076350Z",
     "start_time": "2021-06-14T13:44:12.043017Z"
    }
   },
   "outputs": [],
   "source": [
    "gif4Bloch(state_lst, duration=0.1, save_all=False); #generating the gif plot movie"
   ]
  },
  {
   "cell_type": "markdown",
   "id": "b441165c",
   "metadata": {},
   "source": [
    "![SegmentLocal](bloch_anim.gif \"segment\")"
   ]
  },
  {
   "cell_type": "markdown",
   "id": "66e8fd62",
   "metadata": {},
   "source": [
    "<div class=\"alert alert-block alert-warning\">\n",
    "\n",
    "**Info**\n",
    "\n",
    "We are going to use the following representation of this gate using the following quantum circuit element:\n",
    "\n",
    "    \n",
    "<img src=\"resources/UxyCircuit.png\" width=\"300\" dpi=\"500\"/>\n",
    "\n",
    "</div>"
   ]
  },
  {
   "cell_type": "markdown",
   "id": "c2bb0304",
   "metadata": {
    "ExecuteTime": {
     "end_time": "2021-06-13T13:40:45.976042Z",
     "start_time": "2021-06-13T13:40:45.967615Z"
    }
   },
   "source": [
    "## Two-qubit gates\n",
    "\n",
    "We are now going to begin an important element of quantum computing that are the gates implemented to more than one qubit at the time, this contribute to the generation of quantum algorithms that requires qubits gates operation that depends of the value of other (quantum) registers i.e., conditional gates. This concept of control comes from the gates in classical computation, such as: NAND gates. \n",
    "\n",
    "In the case of the native Rydberg quantum gates, there are several controlled gates that can even be generalized to multi-qubit gates, where the role of the control and controlled qubits are played by both qubits. Even the multi-qubit gates can be generalized even more by including other qubits in the parallelization of gates, for instance considering the blockade effect that can be consider by $n$ number of qubits in the blockade area; this will be shown in coming sections.\n"
   ]
  },
  {
   "cell_type": "markdown",
   "id": "81b45e3b",
   "metadata": {
    "heading_collapsed": true
   },
   "source": [
    "### CU$_{xy}(\\phi, \\alpha)$\n",
    "\n",
    "This gate is take the single qubit gate U$_{xy}(\\phi, \\alpha)$ and apply its action i.e.,$|0\\rangle \\leftrightarrow |1\\rangle$ depending of the value of the states of the control qubit that is unnafected to the action of this gate.\n",
    "\n",
    "<div>\n",
    "<img src=\"resources/CUxy.png\" width=\"300\" dpi=\"500\"/>\n",
    "</div>\n"
   ]
  },
  {
   "cell_type": "markdown",
   "id": "93faabcd",
   "metadata": {
    "ExecuteTime": {
     "end_time": "2021-06-12T01:05:13.994006Z",
     "start_time": "2021-06-12T01:05:13.988640Z"
    },
    "hidden": true
   },
   "source": [
    "<div class=\"alert alert-block alert-success\">\n",
    "\n",
    "**Look up!**\n",
    "    \n",
    "The unitary transformation or matrix associated to this native gate is the following:\n",
    "\n",
    "\\begin{equation}\n",
    "\\text{CU}_{xy}(\\theta, \\varphi) = \\begin{pmatrix} \n",
    "cos(\\theta/2) &  -isin(\\theta/2)e^{i\\varphi} & 0 & 0\\\\\n",
    "-isin(\\theta/2)e^{i\\varphi} & cos(\\theta/2) & 0 & 0\\\\\n",
    "0 & 0 & 1 & 0\\\\\n",
    "0 & 0 & 0 & 1\n",
    "\\end{pmatrix}\n",
    "\\end{equation}\n",
    "\n",
    "</div>"
   ]
  },
  {
   "cell_type": "code",
   "execution_count": 284,
   "id": "01a9811f",
   "metadata": {
    "ExecuteTime": {
     "end_time": "2021-06-14T15:50:57.971907Z",
     "start_time": "2021-06-14T15:50:57.917171Z"
    },
    "hidden": true
   },
   "outputs": [],
   "source": [
    "phi_vals = np.concatenate((np.linspace(0,-pi/2, 10), [-pi/2]*10, np.linspace(-pi/2, 0, 10))); #sequence of values of the angle phi\n",
    "alpha_vals = np.concatenate((np.zeros(10), np.linspace(0,pi/2, 10), [pi/2]*10)); #sequence of values of the angle alpha\n",
    "\n",
    "ops_lst = [];\n",
    "for phi, alpha in zip(phi_vals, alpha_vals):\n",
    "    ops_lst.append(CUxy(phi, alpha)); #adding the states along the trajectory"
   ]
  },
  {
   "cell_type": "markdown",
   "id": "48739689",
   "metadata": {
    "hidden": true
   },
   "source": [
    "We now a face one of the complexities of quantum computing, that is the visualization of more or large number of qubit states. One solution is to use what it is call: Quantum State Tomography (QST) that is a a projection of the final state in a combination of basis operators in order to obtain the outcome probability together with the phase. However, there is other solutions to this problem, for example in Qiskit, one can be visualize it in a sort of 'generalized' Bloch sphere called ```qSphere```. Meanwhile we are going to use the command of QuTiP for doing QST."
   ]
  },
  {
   "cell_type": "code",
   "execution_count": 313,
   "id": "87cd1525",
   "metadata": {
    "ExecuteTime": {
     "end_time": "2021-06-15T08:02:44.150911Z",
     "start_time": "2021-06-15T08:02:28.674772Z"
    },
    "hidden": true,
    "scrolled": false
   },
   "outputs": [
    {
     "data": {
      "text/plain": [
       "<Figure size 432x288 with 0 Axes>"
      ]
     },
     "metadata": {},
     "output_type": "display_data"
    }
   ],
   "source": [
    "gate_name = 'CU$_{xy}$'; #name of the gate\n",
    "op_basis = [[qt.qeye(2), qt.sigmax(), qt.sigmay(), qt.sigmaz()]] * 2; #operator basis\n",
    "op_label = [[\"i\", \"x\", \"y\", \"z\"]] * 2; #axis label    \n",
    "gif4QST(ops_lst, op_basis, op_label, gate_name); #creates the quantum state tomography for the different operators and plot them in a .gif file\n"
   ]
  },
  {
   "cell_type": "markdown",
   "id": "f4d138ff",
   "metadata": {
    "ExecuteTime": {
     "end_time": "2021-06-15T08:32:14.842497Z",
     "start_time": "2021-06-15T08:32:14.609936Z"
    },
    "hidden": true
   },
   "source": [
    "![SegmentLocal](resources/qst_animCUxy.gif \"segment\")"
   ]
  },
  {
   "cell_type": "markdown",
   "id": "70a02640",
   "metadata": {
    "hidden": true
   },
   "source": [
    "<div class=\"alert alert-block alert-danger\">\n",
    "\n",
    "**Warning!**\n",
    "\n",
    "Notice that the animation above is not just the aplication of a transformation over a given state, but rather a full process of tomography for a sequence of values that sweep the value of both angles in the interval between $[-\\pi/2, 0]$/ The colorbar represents the phase of that specific outcome.\n",
    "    \n",
    "</div>"
   ]
  },
  {
   "cell_type": "markdown",
   "id": "795250ba",
   "metadata": {
    "hidden": true
   },
   "source": [
    "<div class=\"alert alert-block alert-warning\">\n",
    "\n",
    "**Info**\n",
    "\n",
    "We are going to use the following representation of this gate using the following circuit:\n",
    "\n",
    "    \n",
    "<img src=\"resources/CUxyCircuit.png\" width=\"300\" dpi=\"500\"/>\n",
    "\n",
    "</div>"
   ]
  },
  {
   "cell_type": "markdown",
   "id": "3d69b9c1",
   "metadata": {
    "heading_collapsed": true
   },
   "source": [
    "### CPHASE($\\phi_{00}, \\phi_{01}, \\phi_{10}, \\phi_{11}$)\n",
    "\n",
    "This gate is a two-qubit phase gate, that means that can introduce a phase of an angle $\\phi_{ij}$ when the state is $|ij\\rangle$.\n",
    "\n",
    "<div>\n",
    "<img src=\"resources/CPHASE.png\" width=\"300\" dpi=\"500\"/>\n",
    "</div>"
   ]
  },
  {
   "cell_type": "markdown",
   "id": "6a4c6ce0",
   "metadata": {
    "ExecuteTime": {
     "end_time": "2021-06-12T01:05:13.994006Z",
     "start_time": "2021-06-12T01:05:13.988640Z"
    },
    "hidden": true
   },
   "source": [
    "<div class=\"alert alert-block alert-success\">\n",
    "\n",
    "**Look up!**\n",
    "    \n",
    "The unitary transformation or matrix associated to this native gate is the following:\n",
    "\n",
    "\\begin{equation}\n",
    "\\text{CPHASE}(\\Phi_{00}, \\Phi_{01}, \\Phi_{10}, \\Phi_{11}) = \\begin{pmatrix} \n",
    "\\Phi_{00} &  0 & 0 & 0\\\\\n",
    "0 & \\Phi_{01} & 0 & 0\\\\\n",
    "0 & 0 & \\Phi_{10} & 0\\\\\n",
    "0 & 0 & 0 & \\Phi_{11}\n",
    "\\end{pmatrix}\n",
    "\\end{equation}\n",
    "\n",
    "</div>"
   ]
  },
  {
   "cell_type": "code",
   "execution_count": 316,
   "id": "124961a5",
   "metadata": {
    "ExecuteTime": {
     "end_time": "2021-06-15T09:35:09.961826Z",
     "start_time": "2021-06-15T09:35:09.911736Z"
    },
    "hidden": true
   },
   "outputs": [],
   "source": [
    "phi00_vals = np.concatenate((np.linspace(0,pi, 10), [pi]*10, [pi]*10, [pi]*10, np.linspace(pi, 0, 10))); #sequence of values of the angle phi00 [0-pi -> pi -> pi -> pi -> pi-0]\n",
    "phi01_vals = np.concatenate(([0]*10, np.linspace(0,pi, 10), [pi]*10, [pi]*10, np.linspace(pi, 0, 10))); #sequence of values of the angle phi01 [0 -> 0-pi -> pi -> pi -> pi-0]\n",
    "phi10_vals = np.concatenate(([0]*10, [0]*10, np.linspace(0,pi, 10), [pi]*10, np.linspace(pi, 0, 10))); #sequence of values of the angle phi10 [0 -> 0 -> 0-pi -> pi -> pi-0]\n",
    "phi11_vals = np.concatenate(([0]*10, [0]*10, [0]*10, np.linspace(0,pi, 10), np.linspace(pi, 0, 10))); #sequence of values of the angle phi11 [0 -> 0 -> 0 -> 0-pi ->pi-0]\n",
    "\n",
    "ops_lst = [];\n",
    "for phi00, phi01, phi10, phi11 in zip(phi00_vals, phi01_vals,phi10_vals,phi11_vals):\n",
    "    ops_lst.append(CPHASE(phi00, phi01, phi10, phi11)); #adding the states along the trajectory"
   ]
  },
  {
   "cell_type": "code",
   "execution_count": 317,
   "id": "a478aa61",
   "metadata": {
    "ExecuteTime": {
     "end_time": "2021-06-15T09:36:20.802684Z",
     "start_time": "2021-06-15T09:35:50.709650Z"
    },
    "hidden": true
   },
   "outputs": [
    {
     "data": {
      "text/plain": [
       "<Figure size 432x288 with 0 Axes>"
      ]
     },
     "metadata": {},
     "output_type": "display_data"
    }
   ],
   "source": [
    "gate_name = 'CPHASE'; #name of the gate\n",
    "op_basis = [[qt.qeye(2), qt.sigmax(), qt.sigmay(), qt.sigmaz()]] * 2; #operator basis\n",
    "op_label = [[\"i\", \"x\", \"y\", \"z\"]] * 2; #axis label    \n",
    "gif4QST(ops_lst, op_basis, op_label, gate_name); #creates the quantum state tomography for the different operators and plot them in a .gif file"
   ]
  },
  {
   "cell_type": "markdown",
   "id": "7c7ff71b",
   "metadata": {
    "ExecuteTime": {
     "end_time": "2021-06-15T09:37:13.272756Z",
     "start_time": "2021-06-15T09:37:12.927535Z"
    },
    "hidden": true
   },
   "source": [
    "![SegmentLocal](resources/qst_animCPHASE.gif \"segment\")"
   ]
  },
  {
   "cell_type": "markdown",
   "id": "badb7bf4",
   "metadata": {
    "hidden": true
   },
   "source": [
    "<div class=\"alert alert-block alert-danger\">\n",
    "\n",
    "**Warning!**\n",
    "\n",
    "Notice that the animation above is not just the aplication of a transformation over a given state, but rather a full process of tomography for a sequence of values that sweep the value of all angles in the interval between $[ 0,\\pi]$. The colorbar represents the phase of that specific outcome.\n",
    "\n",
    "</div>"
   ]
  },
  {
   "cell_type": "markdown",
   "id": "7c9eb7e9",
   "metadata": {
    "hidden": true
   },
   "source": [
    "<div class=\"alert alert-block alert-warning\">\n",
    "\n",
    "**Info**\n",
    "\n",
    "We are going to use the following representation of this gate using the following circuit:\n",
    "\n",
    "    \n",
    "<img src=\"resources/CPHASECircuit.png\" width=\"300\" dpi=\"500\"/>\n",
    "\n",
    "</div>"
   ]
  },
  {
   "cell_type": "markdown",
   "id": "2418d9e2",
   "metadata": {
    "heading_collapsed": true
   },
   "source": [
    "### CZ()\n",
    "\n",
    "This is a two-qubit phase gate, that means that it can introduce a phase but besides CPHASE, CZ representing a especific case when $\\phi_{00}= \\phi_{01}= \\phi_{10}= 0$ and $\\phi_{11}=\\pi$.\n",
    "\n",
    "<div>\n",
    "<img src=\"resources/cz.png\" width=\"300\" dpi=\"500\"/>\n",
    "</div>"
   ]
  },
  {
   "cell_type": "markdown",
   "id": "d6205acc",
   "metadata": {
    "ExecuteTime": {
     "end_time": "2021-06-12T01:05:13.994006Z",
     "start_time": "2021-06-12T01:05:13.988640Z"
    },
    "hidden": true
   },
   "source": [
    "<div class=\"alert alert-block alert-success\">\n",
    "\n",
    "**Look up!**\n",
    "    \n",
    "The unitary transformation or matrix associated to this native gate is the following:\n",
    "\n",
    "\\begin{equation}\n",
    "CZ = \\begin{pmatrix} \n",
    "1 &  0 & 0 & 0\\\\\n",
    "0 & 1 & 0 & 0\\\\\n",
    "0 & 0 & 1 & 0\\\\\n",
    "0 & 0 & 0 & -1\n",
    "\\end{pmatrix}\n",
    "\\end{equation}\n",
    "\n",
    "</div>"
   ]
  },
  {
   "cell_type": "code",
   "execution_count": 5,
   "id": "f92d3c30",
   "metadata": {
    "ExecuteTime": {
     "end_time": "2021-06-23T07:34:31.981684Z",
     "start_time": "2021-06-23T07:34:31.956120Z"
    },
    "hidden": true
   },
   "outputs": [],
   "source": [
    "phi00_vals = np.concatenate(([0]*10, [0]*10, [0]*10, [0]*10, [0]*10)); #sequence of values of the angle phi00 [0]\n",
    "phi01_vals = np.concatenate(([0]*10,[0]*10, [0]*10, [0]*10, [0]*10)); #sequence of values of the angle phi01 [0]\n",
    "phi10_vals = np.concatenate(([0]*10, [0]*10, [0]*10, [0]*10, [0]*10)); #sequence of values of the angle phi10 [0]\n",
    "phi11_vals = np.linspace(-pi, pi, 40); #sequence of values of the angle phi11 [-pi->pi]\n",
    "\n",
    "ops_lst = [];\n",
    "for phi00, phi01, phi10, phi11 in zip(phi00_vals, phi01_vals, phi10_vals, phi11_vals):\n",
    "    ops_lst.append(CPHASE(phi00, phi01, phi10, phi11)); #adding the states along the trajectory"
   ]
  },
  {
   "cell_type": "code",
   "execution_count": 6,
   "id": "8dba764e",
   "metadata": {
    "ExecuteTime": {
     "end_time": "2021-06-23T07:34:54.232317Z",
     "start_time": "2021-06-23T07:34:32.983208Z"
    },
    "hidden": true
   },
   "outputs": [
    {
     "data": {
      "text/plain": [
       "<Figure size 432x288 with 0 Axes>"
      ]
     },
     "metadata": {},
     "output_type": "display_data"
    }
   ],
   "source": [
    "gate_name = 'CZ'; #name of the gate\n",
    "op_basis = [[qt.qeye(2), qt.sigmax(), qt.sigmay(), qt.sigmaz()]] * 2; #operator basis\n",
    "op_label = [[\"i\", \"x\", \"y\", \"z\"]] * 2; #axis label    \n",
    "gif4QST(ops_lst, op_basis, op_label, gate_name, gifname='qst_animCZ.gif'); #creates the quantum state tomography for the different operators and plot them in a .gif file"
   ]
  },
  {
   "cell_type": "markdown",
   "id": "34fa92f6",
   "metadata": {
    "hidden": true
   },
   "source": [
    "![SegmentLocal](resources/qst_animCZ.gif \"segment\")"
   ]
  },
  {
   "cell_type": "markdown",
   "id": "3f59da08",
   "metadata": {
    "hidden": true
   },
   "source": [
    "<div class=\"alert alert-block alert-danger\">\n",
    "\n",
    "**Warning!**\n",
    "\n",
    "Notice that the animation above is not just the aplication of a transformation over a given state, but rather a full process of tomography for a sequence of values that sweep the value of all angles in the interval between $[ 0,\\pi]$. The colorbar represents the phase of that specific outcome.\n",
    "\n",
    "</div>"
   ]
  },
  {
   "cell_type": "markdown",
   "id": "4612c862",
   "metadata": {
    "hidden": true
   },
   "source": [
    "<div class=\"alert alert-block alert-warning\">\n",
    "\n",
    "**Info**\n",
    "\n",
    "We are going to use the following representation of this gate using the following circuit:\n",
    "\n",
    "    \n",
    "<img src=\"resources/CZCircuit.png\" width=\"300\" dpi=\"500\"/>\n",
    "\n",
    "</div>"
   ]
  },
  {
   "cell_type": "markdown",
   "id": "dbca6c76",
   "metadata": {
    "heading_collapsed": true
   },
   "source": [
    "### XY(phi)\n",
    "\n",
    "This gate is a two-qubit that takes the feature of the Rydberg atoms of the dipole-dipole interactions and turn it on. This will create an dipolar exchange of the form $|r\\rangle \\label{ngle r'| + h.c}$ where the Rydberg states are associated to two different angular momentum $\\ell$.\n",
    "\n",
    "<div>\n",
    "<img src=\"resources/XY.png\" width=\"300\" dpi=\"500\"/>\n",
    "</div>"
   ]
  },
  {
   "cell_type": "markdown",
   "id": "ea957f16",
   "metadata": {
    "ExecuteTime": {
     "end_time": "2021-06-12T01:05:13.994006Z",
     "start_time": "2021-06-12T01:05:13.988640Z"
    },
    "hidden": true
   },
   "source": [
    "<div class=\"alert alert-block alert-success\">\n",
    "\n",
    "**Look up!**\n",
    "    \n",
    "The unitary transformation or matrix associated to this native gate is the following:\n",
    "\n",
    "\\begin{equation}\n",
    "XY(\\Theta) = \\begin{pmatrix} \n",
    "1 &  0 & 0 & 0\\\\\n",
    "0 & cos(\\Theta) & -isin(\\Theta/2) & 0\\\\\n",
    "0 & -isin(\\Theta/2) & cos(\\Theta) & 0\\\\\n",
    "0 & 0 & 0 & -1\n",
    "\\end{pmatrix}\n",
    "\\end{equation}\n",
    "\n",
    "</div>"
   ]
  },
  {
   "cell_type": "code",
   "execution_count": 19,
   "id": "b2fcda7a",
   "metadata": {
    "ExecuteTime": {
     "end_time": "2021-06-15T23:34:19.641623Z",
     "start_time": "2021-06-15T23:34:19.628516Z"
    },
    "hidden": true
   },
   "outputs": [],
   "source": [
    "phi_vals = np.linspace(0, pi, 20); #sequence of values of the angle phi\n",
    "\n",
    "ops_lst = [];\n",
    "for phi in phi_vals:\n",
    "    ops_lst.append(XY(phi)); #adding the states along the trajectory"
   ]
  },
  {
   "cell_type": "code",
   "execution_count": 20,
   "id": "4a97fa7f",
   "metadata": {
    "ExecuteTime": {
     "end_time": "2021-06-15T23:34:30.533299Z",
     "start_time": "2021-06-15T23:34:22.191663Z"
    },
    "hidden": true
   },
   "outputs": [
    {
     "data": {
      "text/plain": [
       "<Figure size 432x288 with 0 Axes>"
      ]
     },
     "metadata": {},
     "output_type": "display_data"
    }
   ],
   "source": [
    "gate_name = 'XY'; #name of the gate\n",
    "op_basis = [[qt.qeye(2), qt.sigmax(), qt.sigmay(), qt.sigmaz()]] * 2; #operator basis\n",
    "op_label = [[\"i\", \"x\", \"y\", \"z\"]] * 2; #axis label    \n",
    "gif4QST(ops_lst, op_basis, op_label, gate_name, gifname='qst_animXY.gif'); #creates the quantum state tomography for the different operators and plot them in a .gif file"
   ]
  },
  {
   "cell_type": "markdown",
   "id": "5f83458e",
   "metadata": {
    "ExecuteTime": {
     "end_time": "2021-06-15T11:51:29.937990Z",
     "start_time": "2021-06-15T11:51:29.522997Z"
    },
    "hidden": true
   },
   "source": [
    "<img src=\"resources/qst_animXY.gif\">"
   ]
  },
  {
   "cell_type": "markdown",
   "id": "cb2dc21e",
   "metadata": {
    "ExecuteTime": {
     "end_time": "2021-06-15T11:51:31.411200Z",
     "start_time": "2021-06-15T11:51:31.403147Z"
    },
    "hidden": true
   },
   "source": [
    "<div class=\"alert alert-block alert-danger\">\n",
    "\n",
    "**Warning!**\n",
    "\n",
    "Notice that the animation above is not just the aplication of a transformation over a given state, but rather a full process of tomography for a sequence of values that sweep the value of all angles in the interval between $[ -\\pi,\\pi]$. The colorbar represents the phase of that specific outcome.\n",
    "\n",
    "</div>"
   ]
  },
  {
   "cell_type": "markdown",
   "id": "070f59f0",
   "metadata": {
    "hidden": true
   },
   "source": [
    "<div class=\"alert alert-block alert-warning\">\n",
    "\n",
    "**Info**\n",
    "\n",
    "We are going to use the following representation of this gate using the following circuit:\n",
    "\n",
    "    \n",
    "<img src=\"resources/XYCircuit.png\" width=\"300\" dpi=\"500\"/>\n",
    "\n",
    "</div>"
   ]
  },
  {
   "cell_type": "markdown",
   "id": "f731ad70",
   "metadata": {
    "heading_collapsed": true
   },
   "source": [
    "## Multi-qubit gates\n",
    "\n",
    "One of the advantages of the native Rydberg qubits are the parallel multi-qubit gates or just parallel gates, that allows to apply simultaneous operations in many qubits, this reduce the number of overheads due swap-mapping and reduce the gate time or having many gates in sequence instead of a single one.\n"
   ]
  },
  {
   "cell_type": "markdown",
   "id": "0b6b42a0",
   "metadata": {
    "heading_collapsed": true,
    "hidden": true
   },
   "source": [
    "### pCU$_{xy}(\\theta, \\varphi)$\n",
    "\n",
    "This gate is a multi-qubit phase gate, that means each qubit will be control and target at the same time of a CZ gate. In this case, we apply use 2 qubits, but it can be generalized to more qubits as it will be done later. \n",
    "\n",
    "<div>\n",
    "<img src=\"resources/pCUxy.png\" width=\"300\" dpi=\"500\"/>\n",
    "</div>"
   ]
  },
  {
   "cell_type": "markdown",
   "id": "bee79314",
   "metadata": {
    "ExecuteTime": {
     "end_time": "2021-06-12T01:05:13.994006Z",
     "start_time": "2021-06-12T01:05:13.988640Z"
    },
    "hidden": true
   },
   "source": [
    "<div class=\"alert alert-block alert-success\">\n",
    "\n",
    "**Look up!**\n",
    "    \n",
    "The unitary transformation or matrix associated to this native gate is the following:\n",
    "\n",
    "\\begin{equation}\n",
    "pCU_{xy}(\\theta, \\varphi) = \\begin{pmatrix} \n",
    "cos\\left(\\frac{\\theta}{2}\\right) &  -\\frac{i}{\\sqrt{2}}sin\\left(\\frac{\\theta}{2}\\right)e^{i\\varphi} & -\\frac{i}{\\sqrt{2}}sin\\left(\\frac{\\theta}{2}\\right)e^{i\\varphi} & 0\\\\\n",
    "-\\frac{i}{\\sqrt{2}}sin\\left(\\frac{\\theta}{2}\\right)e^{-i\\varphi}& cos^{2}\\left(\\frac{\\theta}{4}\\right)& -sin^{2}\\left(\\frac{\\theta}{4}\\right) & 0\\\\\n",
    "-\\frac{i}{\\sqrt{2}}sin\\left(\\frac{\\theta}{2}\\right)e^{-i\\varphi}& -sin^{2}\\left(\\frac{\\theta}{4}\\right) & cos^{2}\\left(\\frac{\\theta}{4}\\right) & 0\\\\\n",
    "0 & 0 & 0 & 1\n",
    "\\end{pmatrix}\n",
    "\\end{equation}\n",
    "\n",
    "\n",
    "</div>"
   ]
  },
  {
   "cell_type": "code",
   "execution_count": 8,
   "id": "a1a3e5e7",
   "metadata": {
    "ExecuteTime": {
     "end_time": "2021-06-15T18:01:11.576821Z",
     "start_time": "2021-06-15T18:01:11.564211Z"
    },
    "hidden": true
   },
   "outputs": [],
   "source": [
    "phi_vals = np.linspace(0,pi, 5); #sequence of values of the angle phi\n",
    "\n",
    "ops_lst = [];\n",
    "for phi in phi_vals:\n",
    "    ops_lst.append(pCUxy(phi)); #adding the states along the trajectory"
   ]
  },
  {
   "cell_type": "code",
   "execution_count": 9,
   "id": "512003b9",
   "metadata": {
    "ExecuteTime": {
     "end_time": "2021-06-15T18:01:15.557886Z",
     "start_time": "2021-06-15T18:01:13.504085Z"
    },
    "hidden": true
   },
   "outputs": [
    {
     "data": {
      "text/plain": [
       "<Figure size 432x288 with 0 Axes>"
      ]
     },
     "metadata": {},
     "output_type": "display_data"
    }
   ],
   "source": [
    "gate_name = 'pCZ'; #name of the gate\n",
    "op_basis = [[qt.qeye(2), qt.sigmax(), qt.sigmay(), qt.sigmaz()]] * 2; #operator basis\n",
    "op_label = [[\"i\", \"x\", \"y\", \"z\"]] * 2; #axis label    \n",
    "gif4QST(ops_lst, op_basis, op_label, gate_name, gifname='qst_animpCZ.gif'); #creates the quantum state tomography for the different operators and plot them in a .gif file"
   ]
  },
  {
   "cell_type": "markdown",
   "id": "572ad367",
   "metadata": {
    "ExecuteTime": {
     "end_time": "2021-06-15T17:54:26.087252Z",
     "start_time": "2021-06-15T17:54:25.752169Z"
    },
    "hidden": true
   },
   "source": [
    "![SegmentLocal](resources/qst_animpCZ.gif \"segment\")"
   ]
  },
  {
   "cell_type": "markdown",
   "id": "1c2125ba",
   "metadata": {
    "hidden": true
   },
   "source": [
    "<div class=\"alert alert-block alert-warning\">\n",
    "\n",
    "**Info**\n",
    "\n",
    "We are going to use the following representation of this gate using the following circuit:\n",
    "\n",
    "    \n",
    "<img src=\"resources/pCUxyCircuit.png\" width=\"300\" dpi=\"500\"/>\n",
    "\n",
    "As we mentioned above, one advantage of these gates are the possibility to generalize them to any arbitrary number of qubits. However, in order to obtain the unitary transformation of such gates we would need to obtain them from the evolution operatior that includes the 'interaction' mechanisms between qubits via Hamiltonians.\n",
    "\n",
    "</div>\n"
   ]
  },
  {
   "cell_type": "markdown",
   "id": "f9815edd",
   "metadata": {
    "heading_collapsed": true,
    "hidden": true
   },
   "source": [
    "### pCZ()\n",
    "\n",
    "This gate is a multi-qubit phase gate, that means each qubit will be control and target at the same time of CZ gate. In this case we apply the case for 2 qubits, but it can be generalized to more qubits as it will be done later.\n",
    "\n",
    "<div>\n",
    "<img src=\"resources/pCZ.png\" width=\"300\" dpi=\"500\"/>\n",
    "</div>"
   ]
  },
  {
   "cell_type": "code",
   "execution_count": 8,
   "id": "a7cf469c",
   "metadata": {
    "ExecuteTime": {
     "end_time": "2021-06-15T18:01:11.576821Z",
     "start_time": "2021-06-15T18:01:11.564211Z"
    },
    "hidden": true
   },
   "outputs": [],
   "source": [
    "phi_vals = np.linspace(0,pi, 5); #sequence of values of the angle phi\n",
    "\n",
    "ops_lst = [];\n",
    "for phi in phi_vals:\n",
    "    ops_lst.append(pCZ(phi)); #adding the states along the trajectory"
   ]
  },
  {
   "cell_type": "code",
   "execution_count": 9,
   "id": "fc708ccf",
   "metadata": {
    "ExecuteTime": {
     "end_time": "2021-06-15T18:01:15.557886Z",
     "start_time": "2021-06-15T18:01:13.504085Z"
    },
    "hidden": true
   },
   "outputs": [
    {
     "data": {
      "text/plain": [
       "<Figure size 432x288 with 0 Axes>"
      ]
     },
     "metadata": {},
     "output_type": "display_data"
    }
   ],
   "source": [
    "gate_name = 'pCZ'; #name of the gate\n",
    "op_basis = [[qt.qeye(2), qt.sigmax(), qt.sigmay(), qt.sigmaz()]] * 2; #operator basis\n",
    "op_label = [[\"i\", \"x\", \"y\", \"z\"]] * 2; #axis label    \n",
    "gif4QST(ops_lst, op_basis, op_label, gate_name, gifname='qst_animpCZ.gif'); #creates the quantum state tomography for the different operators and plot them in a .gif file"
   ]
  },
  {
   "cell_type": "markdown",
   "id": "8b27da20",
   "metadata": {
    "ExecuteTime": {
     "end_time": "2021-06-15T17:54:26.087252Z",
     "start_time": "2021-06-15T17:54:25.752169Z"
    },
    "hidden": true
   },
   "source": [
    "![SegmentLocal](resources/qst_animpCZ.gif \"segment\")"
   ]
  },
  {
   "cell_type": "markdown",
   "id": "79cad5d1",
   "metadata": {
    "hidden": true
   },
   "source": [
    "<div class=\"alert alert-block alert-warning\">\n",
    "\n",
    "**Info**\n",
    "\n",
    "We are going to use the following representation of this gate using the following circuit:\n",
    "\n",
    "    \n",
    "<img src=\"resources/pCZCircuit.png\" width=\"300\" dpi=\"500\"/>\n",
    "\n",
    "As we mentioned above, one advantage of these gates are the possibility to generalize them to any arbitrary number of qubits. However, in order to obtain the unitary transformation of such gates we would need to obtain them from the evolution operatior that includes the 'interaction' mechanisms between qubits via Hamiltonians.\n",
    "\n",
    "</div>\n"
   ]
  },
  {
   "cell_type": "markdown",
   "id": "b78608f5",
   "metadata": {},
   "source": [
    "# Quantum circuits with QuTip using algebraic Rydberg gates"
   ]
  },
  {
   "cell_type": "markdown",
   "id": "a07371ba",
   "metadata": {},
   "source": [
    "Now, what we are going to do is a way to transpile the algebraic native gates of Rydberg qubits into a cannonical gates, for this is necessary to have implemented this gates in the quantum circuit formalism. This mean, that we can include any of these native gates in a quantum circuit. \n",
    "\n",
    "With this porpuse, we are going to include our native gates in QuTip as user gates. This will not associate the symbols to each of these elements as we shown before."
   ]
  },
  {
   "cell_type": "code",
   "execution_count": 39,
   "id": "e82f844d",
   "metadata": {
    "ExecuteTime": {
     "end_time": "2021-06-17T11:41:34.340524Z",
     "start_time": "2021-06-17T11:41:34.338510Z"
    }
   },
   "outputs": [],
   "source": [
    "from qutip.qip.circuit import QubitCircuit, Gate #import the package functions of QuTip for quantum circuits and gates\n",
    "from qutip.qip import operations, expand_operator"
   ]
  },
  {
   "cell_type": "code",
   "execution_count": 153,
   "id": "d547a638",
   "metadata": {
    "ExecuteTime": {
     "end_time": "2021-06-17T15:31:50.522335Z",
     "start_time": "2021-06-17T15:31:50.476220Z"
    },
    "code_folding": [
     3,
     16,
     63,
     78
    ]
   },
   "outputs": [],
   "source": [
    "#native gates for QuTip\n",
    "#single qubit gates\n",
    "'''\n",
    "Here we find the single qubits gates for Rydberg qubits.\n",
    "\n",
    "    Uxy(arg_value)\n",
    "        arg_value['phi'] (float) : angle\n",
    "        arg_value['alpha'] (float): angle\n",
    "'''\n",
    "def Uxy(arg_value):\n",
    "    return qt.Qobj(asarray([[cos(arg_value['phi']/2), -1j*sin(arg_value['phi']/2)*exp(1j*arg_value['alpha'])],\n",
    "                            [-1j*sin(arg_value['phi']/2)*exp(-1j*arg_value['alpha']), cos(arg_value['phi']/2)]]))\n",
    "\n",
    "\n",
    "#two qubits gates\n",
    "'''\n",
    "Here we find the two qubits gates for Rydberg qubits.\n",
    "\n",
    "    Controlled-Uxy\n",
    "        CUxy(arg_value)\n",
    "            arg_value['phi'] (float) : angle\n",
    "            arg_value['alpha'] (float): angle\n",
    "\n",
    "    Controlled-phase\n",
    "        CPHASE(arg_value)\n",
    "            arg_value['phi00'] (float) : angle\n",
    "            arg_value['phi01'] (float): angle\n",
    "            arg_value['phi10'] (float): angle\n",
    "            arg_value['phi11'] (float): angle\n",
    "\n",
    "    Controlled-Pauli Z\n",
    "        CZ()\n",
    "\n",
    "    Rydberg dipole exchange\n",
    "        XY(arg_value)\n",
    "            arg_value['phi'] (float): angle\n",
    "'''\n",
    "def CUxy(arg_value):\n",
    "    if arg_value['targets'] != [0, 1] and arg_value['N'] is None:\n",
    "        arg_value['N'] = 2\n",
    "\n",
    "    if arg_value['N'] is not None:\n",
    "        return qt.Qobj(expand_operator(CUxy(arg_value), arg_value['N'], targets=arg_value['targets']), dims=[[2, 2], [2, 2]])\n",
    "\n",
    "    return qt.Qobj(asarray([[cos(arg_value['phi']/2), -1j*sin(arg_value['phi']/2)*exp(1j*arg_value['alpha']), 0, 0],\n",
    "                            [-1j*sin(arg_value['phi']/2)*exp(-1j*arg_value['alpha']), cos(arg_value['phi']/2), 0, 0],\n",
    "                            [0, 0, 1, 0],\n",
    "                            [0, 0, 0, 1]]), dims=[[2, 2], [2, 2]]);\n",
    "\n",
    "def CPHASE(arg_value):\n",
    "    return qt.Qobj(asarray([[exp(1j*arg_value['phi00']), 0, 0, 0],\n",
    "                            [0, exp(1j*arg_value['phi01']), 0, 0],\n",
    "                            [0, 0, exp(1j*arg_value['phi10']), 0],\n",
    "                            [0, 0, 0, exp(1j*arg_value['phi11'])]]), dims = [[2,2],[2,2]])\n",
    "\n",
    "def CZ():\n",
    "    return CPHASE(0, 0, 0, pi)    \n",
    "\n",
    "def XY(arg_value):\n",
    "    if arg_value['targets'] != [0, 1] and arg_value['N'] is None:\n",
    "        arg_value['N'] = 2\n",
    "\n",
    "    if arg_value['N'] is not None:\n",
    "        return expand_operator(XY(arg_value), int(arg_value['N']), targets=arg_value['targets'])\n",
    "    return qt.Qobj(asarray([[1, 0, 0, 0],\n",
    "                            [0, cos(arg_value['phi']), -1j*sin(arg_value['phi']), 0], \n",
    "                            [0, -1j*sin(arg_value['phi']), cos(arg_value['phi']), 0],\n",
    "                            [0, 0, 0, 1]]),\n",
    "        dims=[[2, 2], [2, 2]])\n",
    "\n",
    "#multi-qubits gates\n",
    "'''\n",
    "Here we find the single qubits gates for Rydberg qubits.\n",
    "\n",
    "    Parallel-controlled-Uxy\n",
    "        pCUxy(theta, varphi)\n",
    "            arg_value['theta'] (float) : angle\n",
    "            arg_value['varphi'] (float): angle\n",
    "\n",
    "    Parallel-controlled-Pauli Z\n",
    "        pCZ(arg_value)\n",
    "            arg_value['phi'] (float): angle\n",
    "            \n",
    "    globphase\n",
    "        arg_value['theta'] (float): angle\n",
    "'''\n",
    "def pCUxy(arg_value):\n",
    "    return qt.Qobj(asarray([[cos(arg_value['theta']/2), -1j*sin(arg_value['theta']/2)*exp(1j*arg_value['varphi'])/sqrt(2), -1j*sin(arg_value['theta']/2)*exp(1j*arg_value['varphi'])/sqrt(2), 0],\n",
    "                            [1j*sin(arg_value['theta']/2)*exp(-1j*arg_value['varphi'])/sqrt(2), cos(arg_value['theta']/4)**2, -sin(arg_value['theta']/4)**2, 0], \n",
    "                            [1j*sin(arg_value['theta']/2)*exp(-1j*arg_value['varphi'])/sqrt(2), -sin(arg_value['theta']/4)**2, cos(arg_value['theta']/4)**2, 0],\n",
    "                            [0, 0, 0, 1]]), dims = [[2,2],[2,2]])\n",
    "\n",
    "def pCZ(arg_value):\n",
    "    return CPHASE(0, arg_value['phi'], arg_value['phi'], 2*arg_value['phi']-pi)\n",
    "\n",
    "def globphase(arg_value):\n",
    "    return qt.globalphase(arg_value['theta'])\n"
   ]
  },
  {
   "cell_type": "markdown",
   "id": "605aa669",
   "metadata": {
    "ExecuteTime": {
     "end_time": "2021-06-17T09:56:58.639952Z",
     "start_time": "2021-06-17T09:56:58.638030Z"
    }
   },
   "source": [
    "<div class=\"alert alert-block alert-success\">\n",
    "\n",
    "## Including U$_{xy}$ gate\n",
    "\n",
    "</div>\n",
    "\n"
   ]
  },
  {
   "cell_type": "code",
   "execution_count": 95,
   "id": "31ad5979",
   "metadata": {
    "ExecuteTime": {
     "end_time": "2021-06-17T14:40:45.027908Z",
     "start_time": "2021-06-17T14:40:44.717989Z"
    },
    "code_folding": []
   },
   "outputs": [
    {
     "data": {
      "image/png": "[encoded data removed]",
      "text/plain": [
       "<IPython.core.display.Image object>"
      ]
     },
     "execution_count": 95,
     "metadata": {},
     "output_type": "execute_result"
    }
   ],
   "source": [
    "qc = QubitCircuit(1);\n",
    "qc.user_gates = {\"Uxy\" : Uxy,\n",
    "                 \"CUxy\" : CUxy,\n",
    "                 \"CPHASE\": CPHASE,\n",
    "                 \"CZ\" : CZ,\n",
    "                 \"XY\": XY,\n",
    "                 \"pCUxy\": pCUxy,\n",
    "                 \"pCZ\": pCZ,\n",
    "                 \"globphase\" : globphase,\n",
    "                 \"MS\": MS}; #includes the new native gates in the QuTip gate lib for our circuit\n",
    "\n",
    "# sequence for a CNOT gate using native Rydberg gates\n",
    "gate_param = {'phi': pi/2, 'alpha': pi/2, 'theta':pi/2}; #params for gates\n",
    "qc.add_gate(\"Uxy\", arg_value=gate_param); #add gate to the quantum circuit\n",
    "\n",
    "props = qc.propagators(); #calculate propagator\n",
    "qc.png #show circuit image"
   ]
  },
  {
   "cell_type": "code",
   "execution_count": 6,
   "id": "f4782f7c",
   "metadata": {
    "ExecuteTime": {
     "end_time": "2021-06-17T10:25:36.660426Z",
     "start_time": "2021-06-17T10:25:36.656666Z"
    }
   },
   "outputs": [
    {
     "data": {
      "text/latex": [
       "Quantum object: dims = [[2], [2]], shape = (2, 2), type = oper, isherm = False\\begin{equation*}\\left(\\begin{array}{*{11}c}0.707 & 0.707\\\\-0.707 & 0.707\\\\\\end{array}\\right)\\end{equation*}"
      ],
      "text/plain": [
       "Quantum object: dims = [[2], [2]], shape = (2, 2), type = oper, isherm = False\n",
       "Qobj data =\n",
       "[[ 0.70710678  0.70710678]\n",
       " [-0.70710678  0.70710678]]"
      ]
     },
     "execution_count": 6,
     "metadata": {},
     "output_type": "execute_result"
    }
   ],
   "source": [
    "U = qt.gate_sequence_product(props); \n",
    "U.tidyup()"
   ]
  },
  {
   "cell_type": "code",
   "execution_count": 7,
   "id": "f22a29d3",
   "metadata": {
    "ExecuteTime": {
     "end_time": "2021-06-17T10:25:38.043570Z",
     "start_time": "2021-06-17T10:25:37.728013Z"
    }
   },
   "outputs": [
    {
     "data": {
      "image/png": "[encoded data removed]",
      "text/plain": [
       "<Figure size 360x360 with 1 Axes>"
      ]
     },
     "metadata": {},
     "output_type": "display_data"
    }
   ],
   "source": [
    "gate_param = {'phi': -pi/2, 'alpha': -3*pi/2}; #gate params\n",
    "\n",
    "b= qt.Bloch(); #bloch sphere for plot\n",
    "b.add_states(Uxy(gate_param)*qt.basis(2,0)); #add states due to application of gate Uxy on |0>\n",
    "b.render()"
   ]
  },
  {
   "cell_type": "markdown",
   "id": "765d64ac",
   "metadata": {
    "ExecuteTime": {
     "end_time": "2021-06-17T09:56:58.639952Z",
     "start_time": "2021-06-17T09:56:58.638030Z"
    }
   },
   "source": [
    "<div class=\"alert alert-block alert-success\">\n",
    "\n",
    "## Including CU$_{xy}$ gate\n",
    "\n",
    "</div>\n",
    "\n"
   ]
  },
  {
   "cell_type": "code",
   "execution_count": 160,
   "id": "4d4768df",
   "metadata": {
    "ExecuteTime": {
     "end_time": "2021-06-17T15:33:18.071343Z",
     "start_time": "2021-06-17T15:33:18.057065Z"
    }
   },
   "outputs": [
    {
     "data": {
      "text/latex": [
       "Quantum object: dims = [[2, 2], [2, 2]], shape = (4, 4), type = oper, isherm = False\\begin{equation*}\\left(\\begin{array}{*{11}c}0.707 & 0.707 & 0.0 & 0.0\\\\-0.707 & 0.707 & 0.0 & 0.0\\\\0.0 & 0.0 & 1.0 & 0.0\\\\0.0 & 0.0 & 0.0 & 1.0\\\\\\end{array}\\right)\\end{equation*}"
      ],
      "text/plain": [
       "Quantum object: dims = [[2, 2], [2, 2]], shape = (4, 4), type = oper, isherm = False\n",
       "Qobj data =\n",
       "[[ 0.70710678+0.00000000e+00j  0.70710678-4.32978028e-17j\n",
       "   0.        +0.00000000e+00j  0.        +0.00000000e+00j]\n",
       " [-0.70710678-4.32978028e-17j  0.70710678+0.00000000e+00j\n",
       "   0.        +0.00000000e+00j  0.        +0.00000000e+00j]\n",
       " [ 0.        +0.00000000e+00j  0.        +0.00000000e+00j\n",
       "   1.        +0.00000000e+00j  0.        +0.00000000e+00j]\n",
       " [ 0.        +0.00000000e+00j  0.        +0.00000000e+00j\n",
       "   0.        +0.00000000e+00j  1.        +0.00000000e+00j]]"
      ]
     },
     "execution_count": 160,
     "metadata": {},
     "output_type": "execute_result"
    }
   ],
   "source": [
    "CUxy(gate_param)\n",
    "# expand_operator(CUxy(gate_param), None, targets=gate_param['targets'])"
   ]
  },
  {
   "cell_type": "code",
   "execution_count": 163,
   "id": "4464119a",
   "metadata": {
    "ExecuteTime": {
     "end_time": "2021-06-17T15:33:38.734870Z",
     "start_time": "2021-06-17T15:33:34.606110Z"
    },
    "code_folding": []
   },
   "outputs": [
    {
     "ename": "RecursionError",
     "evalue": "maximum recursion depth exceeded in comparison",
     "output_type": "error",
     "traceback": [
      "\u001b[0;31m---------------------------------------------------------------------------\u001b[0m",
      "\u001b[0;31mRecursionError\u001b[0m                            Traceback (most recent call last)",
      "\u001b[0;32m<ipython-input-163-86b09b1982a8>\u001b[0m in \u001b[0;36m<module>\u001b[0;34m\u001b[0m\n\u001b[1;32m     16\u001b[0m \u001b[0mqc\u001b[0m\u001b[0;34m.\u001b[0m\u001b[0madd_gate\u001b[0m\u001b[0;34m(\u001b[0m\u001b[0;34m\"CUxy\"\u001b[0m\u001b[0;34m,\u001b[0m \u001b[0marg_value\u001b[0m\u001b[0;34m=\u001b[0m\u001b[0mgate_param\u001b[0m\u001b[0;34m)\u001b[0m\u001b[0;34m;\u001b[0m \u001b[0;31m#add gate to the quantum circuit\u001b[0m\u001b[0;34m\u001b[0m\u001b[0;34m\u001b[0m\u001b[0m\n\u001b[1;32m     17\u001b[0m \u001b[0;34m\u001b[0m\u001b[0m\n\u001b[0;32m---> 18\u001b[0;31m \u001b[0mprops\u001b[0m \u001b[0;34m=\u001b[0m \u001b[0mqc\u001b[0m\u001b[0;34m.\u001b[0m\u001b[0mpropagators\u001b[0m\u001b[0;34m(\u001b[0m\u001b[0;34m)\u001b[0m\u001b[0;34m;\u001b[0m \u001b[0;31m#calculate propagator\u001b[0m\u001b[0;34m\u001b[0m\u001b[0;34m\u001b[0m\u001b[0m\n\u001b[0m\u001b[1;32m     19\u001b[0m \u001b[0mqc\u001b[0m\u001b[0;34m.\u001b[0m\u001b[0mpng\u001b[0m \u001b[0;31m#show circuit image\u001b[0m\u001b[0;34m\u001b[0m\u001b[0;34m\u001b[0m\u001b[0m\n",
      "\u001b[0;32m~/anaconda3/envs/q-env/lib/python3.8/site-packages/qutip/qip/circuit.py\u001b[0m in \u001b[0;36mpropagators\u001b[0;34m(self, expand)\u001b[0m\n\u001b[1;32m   1562\u001b[0m                         \u001b[0moper\u001b[0m \u001b[0;34m=\u001b[0m \u001b[0mfunc\u001b[0m\u001b[0;34m(\u001b[0m\u001b[0;34m)\u001b[0m\u001b[0;34m\u001b[0m\u001b[0;34m\u001b[0m\u001b[0m\n\u001b[1;32m   1563\u001b[0m                     \u001b[0;32melif\u001b[0m \u001b[0mpara_num\u001b[0m \u001b[0;34m==\u001b[0m \u001b[0;36m1\u001b[0m\u001b[0;34m:\u001b[0m\u001b[0;34m\u001b[0m\u001b[0;34m\u001b[0m\u001b[0m\n\u001b[0;32m-> 1564\u001b[0;31m                         \u001b[0moper\u001b[0m \u001b[0;34m=\u001b[0m \u001b[0mfunc\u001b[0m\u001b[0;34m(\u001b[0m\u001b[0mgate\u001b[0m\u001b[0;34m.\u001b[0m\u001b[0marg_value\u001b[0m\u001b[0;34m)\u001b[0m\u001b[0;34m\u001b[0m\u001b[0;34m\u001b[0m\u001b[0m\n\u001b[0m\u001b[1;32m   1565\u001b[0m                     \u001b[0;32melse\u001b[0m\u001b[0;34m:\u001b[0m\u001b[0;34m\u001b[0m\u001b[0;34m\u001b[0m\u001b[0m\n\u001b[1;32m   1566\u001b[0m                         raise ValueError(\n",
      "\u001b[0;32m<ipython-input-153-e1bde7bc2b81>\u001b[0m in \u001b[0;36mCUxy\u001b[0;34m(arg_value)\u001b[0m\n\u001b[1;32m     41\u001b[0m \u001b[0;34m\u001b[0m\u001b[0m\n\u001b[1;32m     42\u001b[0m     \u001b[0;32mif\u001b[0m \u001b[0marg_value\u001b[0m\u001b[0;34m[\u001b[0m\u001b[0;34m'N'\u001b[0m\u001b[0;34m]\u001b[0m \u001b[0;32mis\u001b[0m \u001b[0;32mnot\u001b[0m \u001b[0;32mNone\u001b[0m\u001b[0;34m:\u001b[0m\u001b[0;34m\u001b[0m\u001b[0;34m\u001b[0m\u001b[0m\n\u001b[0;32m---> 43\u001b[0;31m         \u001b[0;32mreturn\u001b[0m \u001b[0mqt\u001b[0m\u001b[0;34m.\u001b[0m\u001b[0mQobj\u001b[0m\u001b[0;34m(\u001b[0m\u001b[0mexpand_operator\u001b[0m\u001b[0;34m(\u001b[0m\u001b[0mCUxy\u001b[0m\u001b[0;34m(\u001b[0m\u001b[0marg_value\u001b[0m\u001b[0;34m)\u001b[0m\u001b[0;34m,\u001b[0m \u001b[0marg_value\u001b[0m\u001b[0;34m[\u001b[0m\u001b[0;34m'N'\u001b[0m\u001b[0;34m]\u001b[0m\u001b[0;34m,\u001b[0m \u001b[0mtargets\u001b[0m\u001b[0;34m=\u001b[0m\u001b[0marg_value\u001b[0m\u001b[0;34m[\u001b[0m\u001b[0;34m'targets'\u001b[0m\u001b[0;34m]\u001b[0m\u001b[0;34m)\u001b[0m\u001b[0;34m,\u001b[0m \u001b[0mdims\u001b[0m\u001b[0;34m=\u001b[0m\u001b[0;34m[\u001b[0m\u001b[0;34m[\u001b[0m\u001b[0;36m2\u001b[0m\u001b[0;34m,\u001b[0m \u001b[0;36m2\u001b[0m\u001b[0;34m]\u001b[0m\u001b[0;34m,\u001b[0m \u001b[0;34m[\u001b[0m\u001b[0;36m2\u001b[0m\u001b[0;34m,\u001b[0m \u001b[0;36m2\u001b[0m\u001b[0;34m]\u001b[0m\u001b[0;34m]\u001b[0m\u001b[0;34m)\u001b[0m\u001b[0;34m\u001b[0m\u001b[0;34m\u001b[0m\u001b[0m\n\u001b[0m\u001b[1;32m     44\u001b[0m \u001b[0;34m\u001b[0m\u001b[0m\n\u001b[1;32m     45\u001b[0m     return qt.Qobj(asarray([[cos(arg_value['phi']/2), -1j*sin(arg_value['phi']/2)*exp(1j*arg_value['alpha']), 0, 0],\n",
      "... last 1 frames repeated, from the frame below ...\n",
      "\u001b[0;32m<ipython-input-153-e1bde7bc2b81>\u001b[0m in \u001b[0;36mCUxy\u001b[0;34m(arg_value)\u001b[0m\n\u001b[1;32m     41\u001b[0m \u001b[0;34m\u001b[0m\u001b[0m\n\u001b[1;32m     42\u001b[0m     \u001b[0;32mif\u001b[0m \u001b[0marg_value\u001b[0m\u001b[0;34m[\u001b[0m\u001b[0;34m'N'\u001b[0m\u001b[0;34m]\u001b[0m \u001b[0;32mis\u001b[0m \u001b[0;32mnot\u001b[0m \u001b[0;32mNone\u001b[0m\u001b[0;34m:\u001b[0m\u001b[0;34m\u001b[0m\u001b[0;34m\u001b[0m\u001b[0m\n\u001b[0;32m---> 43\u001b[0;31m         \u001b[0;32mreturn\u001b[0m \u001b[0mqt\u001b[0m\u001b[0;34m.\u001b[0m\u001b[0mQobj\u001b[0m\u001b[0;34m(\u001b[0m\u001b[0mexpand_operator\u001b[0m\u001b[0;34m(\u001b[0m\u001b[0mCUxy\u001b[0m\u001b[0;34m(\u001b[0m\u001b[0marg_value\u001b[0m\u001b[0;34m)\u001b[0m\u001b[0;34m,\u001b[0m \u001b[0marg_value\u001b[0m\u001b[0;34m[\u001b[0m\u001b[0;34m'N'\u001b[0m\u001b[0;34m]\u001b[0m\u001b[0;34m,\u001b[0m \u001b[0mtargets\u001b[0m\u001b[0;34m=\u001b[0m\u001b[0marg_value\u001b[0m\u001b[0;34m[\u001b[0m\u001b[0;34m'targets'\u001b[0m\u001b[0;34m]\u001b[0m\u001b[0;34m)\u001b[0m\u001b[0;34m,\u001b[0m \u001b[0mdims\u001b[0m\u001b[0;34m=\u001b[0m\u001b[0;34m[\u001b[0m\u001b[0;34m[\u001b[0m\u001b[0;36m2\u001b[0m\u001b[0;34m,\u001b[0m \u001b[0;36m2\u001b[0m\u001b[0;34m]\u001b[0m\u001b[0;34m,\u001b[0m \u001b[0;34m[\u001b[0m\u001b[0;36m2\u001b[0m\u001b[0;34m,\u001b[0m \u001b[0;36m2\u001b[0m\u001b[0;34m]\u001b[0m\u001b[0;34m]\u001b[0m\u001b[0;34m)\u001b[0m\u001b[0;34m\u001b[0m\u001b[0;34m\u001b[0m\u001b[0m\n\u001b[0m\u001b[1;32m     44\u001b[0m \u001b[0;34m\u001b[0m\u001b[0m\n\u001b[1;32m     45\u001b[0m     return qt.Qobj(asarray([[cos(arg_value['phi']/2), -1j*sin(arg_value['phi']/2)*exp(1j*arg_value['alpha']), 0, 0],\n",
      "\u001b[0;31mRecursionError\u001b[0m: maximum recursion depth exceeded in comparison"
     ]
    }
   ],
   "source": [
    "qc = QubitCircuit(3);\n",
    "qc.user_gates = {\"Uxy\" : Uxy,\n",
    "                 \"CUxy\" : CUxy,\n",
    "                 \"CPHASE\": CPHASE,\n",
    "                 \"CZ\" : CZ,\n",
    "                 \"XY\": XY,\n",
    "                 \"pCUxy\": pCUxy,\n",
    "                 \"pCZ\": pCZ,\n",
    "                 \"globphase\" : globphase}; #includes the new native gates in the QuTip gate lib for our circuit\n",
    "\n",
    "# sequence for a CNOT gate using native Rydberg gates\n",
    "gate_param = {'phi': pi/2, 'alpha': pi/2,\n",
    "              'theta':pi/2, 'N':None, 'targets': [0,2],\n",
    "              'phi00': pi/2, 'phi01': pi/2, 'phi10': pi/2, 'phi11': pi/2}; #params for gates\n",
    "\n",
    "qc.add_gate(\"CUxy\", arg_value=gate_param); #add gate to the quantum circuit\n",
    "\n",
    "props = qc.propagators(); #calculate propagator\n",
    "qc.png #show circuit image"
   ]
  },
  {
   "cell_type": "code",
   "execution_count": 158,
   "id": "daf72dc0",
   "metadata": {
    "ExecuteTime": {
     "end_time": "2021-06-17T15:32:50.242085Z",
     "start_time": "2021-06-17T15:32:50.222133Z"
    }
   },
   "outputs": [
    {
     "data": {
      "text/latex": [
       "Quantum object: dims = [[2, 2, 2], [2, 2, 2]], shape = (8, 8), type = oper, isherm = False\\begin{equation*}\\left(\\begin{array}{*{11}c}0.707 & 0.0 & 0.707 & 0.0 & 0.0 & 0.0 & 0.0 & 0.0\\\\0.0 & 0.707 & 0.0 & 0.707 & 0.0 & 0.0 & 0.0 & 0.0\\\\-0.707 & 0.0 & 0.707 & 0.0 & 0.0 & 0.0 & 0.0 & 0.0\\\\0.0 & -0.707 & 0.0 & 0.707 & 0.0 & 0.0 & 0.0 & 0.0\\\\0.0 & 0.0 & 0.0 & 0.0 & 1.0 & 0.0 & 0.0 & 0.0\\\\0.0 & 0.0 & 0.0 & 0.0 & 0.0 & 1.0 & 0.0 & 0.0\\\\0.0 & 0.0 & 0.0 & 0.0 & 0.0 & 0.0 & 1.0 & 0.0\\\\0.0 & 0.0 & 0.0 & 0.0 & 0.0 & 0.0 & 0.0 & 1.0\\\\\\end{array}\\right)\\end{equation*}"
      ],
      "text/plain": [
       "Quantum object: dims = [[2, 2, 2], [2, 2, 2]], shape = (8, 8), type = oper, isherm = False\n",
       "Qobj data =\n",
       "[[ 0.70710678  0.          0.70710678  0.          0.          0.\n",
       "   0.          0.        ]\n",
       " [ 0.          0.70710678  0.          0.70710678  0.          0.\n",
       "   0.          0.        ]\n",
       " [-0.70710678  0.          0.70710678  0.          0.          0.\n",
       "   0.          0.        ]\n",
       " [ 0.         -0.70710678  0.          0.70710678  0.          0.\n",
       "   0.          0.        ]\n",
       " [ 0.          0.          0.          0.          1.          0.\n",
       "   0.          0.        ]\n",
       " [ 0.          0.          0.          0.          0.          1.\n",
       "   0.          0.        ]\n",
       " [ 0.          0.          0.          0.          0.          0.\n",
       "   1.          0.        ]\n",
       " [ 0.          0.          0.          0.          0.          0.\n",
       "   0.          1.        ]]"
      ]
     },
     "execution_count": 158,
     "metadata": {},
     "output_type": "execute_result"
    }
   ],
   "source": [
    "U = qt.gate_sequence_product(props); \n",
    "U.tidyup() #unitary operator of quantum circuit"
   ]
  },
  {
   "cell_type": "code",
   "execution_count": 123,
   "id": "2d3ed954",
   "metadata": {
    "ExecuteTime": {
     "end_time": "2021-06-17T14:47:53.616906Z",
     "start_time": "2021-06-17T14:47:53.376153Z"
    }
   },
   "outputs": [
    {
     "data": {
      "image/png": "[encoded data removed]",
      "text/plain": [
       "<Figure size 360x360 with 1 Axes>"
      ]
     },
     "metadata": {},
     "output_type": "display_data"
    }
   ],
   "source": [
    "gate_param = {'phi': -pi/2, 'alpha': -3*pi/2}; #gate params\n",
    "\n",
    "b= qt.Bloch(); #bloch sphere for plot\n",
    "b.add_states(Uxy(gate_param)*qt.basis(2,0)); #add states due to application of gate Uxy on |0> of the controlled qubit\n",
    "b.render()"
   ]
  },
  {
   "cell_type": "markdown",
   "id": "c32a91a6",
   "metadata": {
    "ExecuteTime": {
     "end_time": "2021-06-17T09:56:58.639952Z",
     "start_time": "2021-06-17T09:56:58.638030Z"
    }
   },
   "source": [
    "<div class=\"alert alert-block alert-success\">\n",
    "\n",
    "## Including XY gate\n",
    "\n",
    "</div>\n",
    "\n"
   ]
  },
  {
   "cell_type": "code",
   "execution_count": 101,
   "id": "32cab531",
   "metadata": {
    "ExecuteTime": {
     "end_time": "2021-06-17T14:43:36.383239Z",
     "start_time": "2021-06-17T14:43:36.368407Z"
    }
   },
   "outputs": [
    {
     "data": {
      "text/latex": [
       "Quantum object: dims = [[2, 2], [2, 2]], shape = (4, 4), type = oper, isherm = False\\begin{equation*}\\left(\\begin{array}{*{11}c}1.0 & 0.0 & 0.0 & 0.0\\\\0.0 & 6.123\\times10^{-17} & -1.0j & 0.0\\\\0.0 & -1.0j & 6.123\\times10^{-17} & 0.0\\\\0.0 & 0.0 & 0.0 & 1.0\\\\\\end{array}\\right)\\end{equation*}"
      ],
      "text/plain": [
       "Quantum object: dims = [[2, 2], [2, 2]], shape = (4, 4), type = oper, isherm = False\n",
       "Qobj data =\n",
       "[[1.000000e+00+0.j 0.000000e+00+0.j 0.000000e+00+0.j 0.000000e+00+0.j]\n",
       " [0.000000e+00+0.j 6.123234e-17+0.j 0.000000e+00-1.j 0.000000e+00+0.j]\n",
       " [0.000000e+00+0.j 0.000000e+00-1.j 6.123234e-17+0.j 0.000000e+00+0.j]\n",
       " [0.000000e+00+0.j 0.000000e+00+0.j 0.000000e+00+0.j 1.000000e+00+0.j]]"
      ]
     },
     "execution_count": 101,
     "metadata": {},
     "output_type": "execute_result"
    }
   ],
   "source": [
    "XY(gate_param) #directly from function"
   ]
  },
  {
   "cell_type": "code",
   "execution_count": 102,
   "id": "3b595c64",
   "metadata": {
    "ExecuteTime": {
     "end_time": "2021-06-17T14:43:37.155755Z",
     "start_time": "2021-06-17T14:43:36.936136Z"
    },
    "code_folding": []
   },
   "outputs": [
    {
     "data": {
      "image/png": "[encoded data removed]",
      "text/plain": [
       "<IPython.core.display.Image object>"
      ]
     },
     "execution_count": 102,
     "metadata": {},
     "output_type": "execute_result"
    }
   ],
   "source": [
    "qc = QubitCircuit(2);\n",
    "qc.user_gates = {\"Uxy\" : Uxy,\n",
    "                 \"CUxy\" : CUxy,\n",
    "                 \"CPHASE\": CPHASE,\n",
    "                 \"CZ\" : CZ,\n",
    "                 \"XY\": XY,\n",
    "                 \"pCUxy\": pCUxy,\n",
    "                 \"pCZ\": pCZ,\n",
    "                 \"globphase\" : globphase}; #includes the new native gates in the QuTip gate lib for our circuit\n",
    "\n",
    "# sequence for a CNOT gate using native Rydberg gates\n",
    "gate_param = {'phi': pi/2, 'alpha': pi/2, 'theta':pi/2, 'N':None, 'targets': [0,1]}; #params for gates\n",
    "qc.add_gate(\"XY\", arg_value=gate_param); #add gate to the quantum circuit\n",
    "\n",
    "props = qc.propagators(); #calculate propagator\n",
    "qc.png #show circuit image"
   ]
  },
  {
   "cell_type": "code",
   "execution_count": 103,
   "id": "e75dd2c7",
   "metadata": {
    "ExecuteTime": {
     "end_time": "2021-06-17T14:43:37.843388Z",
     "start_time": "2021-06-17T14:43:37.835128Z"
    }
   },
   "outputs": [
    {
     "data": {
      "text/latex": [
       "Quantum object: dims = [[2, 2], [2, 2]], shape = (4, 4), type = oper, isherm = False\\begin{equation*}\\left(\\begin{array}{*{11}c}1.0 & 0.0 & 0.0 & 0.0\\\\0.0 & 0.0 & -1.0j & 0.0\\\\0.0 & -1.0j & 0.0 & 0.0\\\\0.0 & 0.0 & 0.0 & 1.0\\\\\\end{array}\\right)\\end{equation*}"
      ],
      "text/plain": [
       "Quantum object: dims = [[2, 2], [2, 2]], shape = (4, 4), type = oper, isherm = False\n",
       "Qobj data =\n",
       "[[1.+0.j 0.+0.j 0.+0.j 0.+0.j]\n",
       " [0.+0.j 0.+0.j 0.-1.j 0.+0.j]\n",
       " [0.+0.j 0.-1.j 0.+0.j 0.+0.j]\n",
       " [0.+0.j 0.+0.j 0.+0.j 1.+0.j]]"
      ]
     },
     "execution_count": 103,
     "metadata": {},
     "output_type": "execute_result"
    }
   ],
   "source": [
    "U = qt.gate_sequence_product(props); \n",
    "U.tidyup() #unitary operator of quantum circuit"
   ]
  },
  {
   "cell_type": "markdown",
   "id": "621be546",
   "metadata": {
    "heading_collapsed": true
   },
   "source": [
    "# Example of transpilation of CNOT gate using native Rydberg gates"
   ]
  },
  {
   "cell_type": "code",
   "execution_count": 53,
   "id": "d2364850",
   "metadata": {
    "ExecuteTime": {
     "end_time": "2021-06-17T09:34:07.306770Z",
     "start_time": "2021-06-17T09:34:07.302877Z"
    },
    "hidden": true
   },
   "outputs": [],
   "source": [
    "qc = QubitCircuit(2)\n",
    "qc.user_gates = {\"Uxy\" : Uxy,\n",
    "                 \"CUxy\" : CUxy,\n",
    "                 \"CPHASE\": CPHASE,\n",
    "                 \"CZ\" : CZ,\n",
    "                 \"XY\": XY,\n",
    "                 \"pCUxy\": pCUxy,\n",
    "                 \"pCZ\": pCZ,\n",
    "                 \"globphase\" : globphase}\n",
    "\n",
    "# sequence for a CNOT gate using native Rydberg gates\n",
    "gate_param = {'phi': pi/2, 'alpha': pi/2, 'theta':pi/2}\n",
    "qc.add_gate(\"Uxy\", targets=[1], arg_value=gate_param)\n",
    "\n",
    "qc.add_gate(\"CZ\", controls=[0], targets=[1], arg_value=None)\n",
    "\n",
    "gate_param = {'phi': -pi/2, 'alpha': pi/2, 'theta':pi/2}\n",
    "qc.add_gate(\"Uxy\", targets=[1], arg_value=gate_param)\n"
   ]
  },
  {
   "cell_type": "code",
   "execution_count": 54,
   "id": "186f6ec2",
   "metadata": {
    "ExecuteTime": {
     "end_time": "2021-06-17T09:34:08.126132Z",
     "start_time": "2021-06-17T09:34:07.927196Z"
    },
    "hidden": true
   },
   "outputs": [
    {
     "data": {
      "image/png": "[encoded data removed]",
      "text/plain": [
       "<IPython.core.display.Image object>"
      ]
     },
     "execution_count": 54,
     "metadata": {},
     "output_type": "execute_result"
    }
   ],
   "source": [
    "props = qc.propagators()\n",
    "qc.png"
   ]
  },
  {
   "cell_type": "code",
   "execution_count": 55,
   "id": "a6949926",
   "metadata": {
    "ExecuteTime": {
     "end_time": "2021-06-17T09:34:08.733029Z",
     "start_time": "2021-06-17T09:34:08.719194Z"
    },
    "hidden": true
   },
   "outputs": [
    {
     "data": {
      "text/latex": [
       "Quantum object: dims = [[2, 2], [2, 2]], shape = (4, 4), type = oper, isherm = False\\begin{equation*}\\left(\\begin{array}{*{11}c}1.0 & 0.0 & 0.0 & 0.0\\\\0.0 & 1.0 & 0.0 & 0.0\\\\0.0 & 0.0 & (0.500-0.500j) & (0.500+0.500j)\\\\0.0 & 0.0 & (0.500+0.500j) & (0.500-0.500j)\\\\\\end{array}\\right)\\end{equation*}"
      ],
      "text/plain": [
       "Quantum object: dims = [[2, 2], [2, 2]], shape = (4, 4), type = oper, isherm = False\n",
       "Qobj data =\n",
       "[[1. +0.j  0. +0.j  0. +0.j  0. +0.j ]\n",
       " [0. +0.j  1. +0.j  0. +0.j  0. +0.j ]\n",
       " [0. +0.j  0. +0.j  0.5-0.5j 0.5+0.5j]\n",
       " [0. +0.j  0. +0.j  0.5+0.5j 0.5-0.5j]]"
      ]
     },
     "execution_count": 55,
     "metadata": {},
     "output_type": "execute_result"
    }
   ],
   "source": [
    "U = qt.gate_sequence_product(qc.propagators())\n",
    "U.tidyup()\n"
   ]
  },
  {
   "cell_type": "markdown",
   "id": "dfd91d87",
   "metadata": {
    "heading_collapsed": true
   },
   "source": [
    "# "
   ]
  },
  {
   "cell_type": "code",
   "execution_count": null,
   "id": "4ee3f214",
   "metadata": {
    "hidden": true
   },
   "outputs": [],
   "source": []
  },
  {
   "cell_type": "code",
   "execution_count": null,
   "id": "1b9fe308",
   "metadata": {
    "hidden": true
   },
   "outputs": [],
   "source": []
  },
  {
   "cell_type": "code",
   "execution_count": null,
   "id": "35e265ef",
   "metadata": {
    "hidden": true
   },
   "outputs": [],
   "source": []
  },
  {
   "cell_type": "code",
   "execution_count": null,
   "id": "a9f32437",
   "metadata": {
    "hidden": true
   },
   "outputs": [],
   "source": []
  },
  {
   "cell_type": "markdown",
   "id": "65d04dab",
   "metadata": {
    "ExecuteTime": {
     "end_time": "2021-06-10T08:58:59.437858Z",
     "start_time": "2021-06-10T08:58:59.432896Z"
    }
   },
   "source": [
    "# Class ```algGate()```"
   ]
  },
  {
   "cell_type": "code",
   "execution_count": null,
   "id": "7ec0da68",
   "metadata": {
    "code_folding": [
     1
    ]
   },
   "outputs": [],
   "source": [
    "class algGate:\n",
    "    \"\"\"\n",
    "        A class for building pulses shapes in time domain starting from AQiPT functions() for later\n",
    "        build the AQiPT tracks() that can be assigned to AQiPT producers() via AQiPT instructions().\n",
    "\n",
    "        The pulse class is the AQiPT representation of shaped pulse for create tracks.\n",
    "        This class also show plots in matplotlib, as well as export the pulses as numpy arrays.\n",
    "\n",
    "\n",
    "        Parameters\n",
    "        ----------\n",
    "        tbase : array_like\n",
    "            Data for vector/matrix representation of the quantum object.\n",
    "        res : list\n",
    "            Dimensions of object used for tensor products.\n",
    "        args : list\n",
    "            Shape of underlying data structure (matrix shape).\n",
    "\n",
    "        Attributes\n",
    "        ----------\n",
    "        function : array_like\n",
    "            Sparse matrix characterizing the quantum object.\n",
    "        function_plot : list\n",
    "            List of dimensions keeping track of the tensor structure.\n",
    "\n",
    "        Methods\n",
    "        -------\n",
    "        step()\n",
    "            Conjugate of quantum object.\n",
    "    \"\"\"\n",
    "    \n",
    "    _gates_ = ['Uxy','Uxy','CPHASE', 'CZ', 'XY', 'pCUxy', 'pCZ', 'globphase']\n",
    "    \n",
    "    def __init__(self, times):\n",
    "        \n",
    "        #atributes\n",
    "        self.nqubits = nr_qubits\n",
    "        self.qcontrols = controls\n",
    "        self.qtargets = targets\n",
    "        self.argparams = params\n",
    "        if name is in _gates\n",
    "        self._name = name\n",
    "        \n",
    "    #single qubit gate\n",
    "    \n",
    "    def Uxy(self):\n",
    "    return qt.Qobj(asarray([[cos(self.argparams['phi']/2), -1j*sin(self.argparams['phi']/2)*exp(1j*self.argparams['alpha'])],\n",
    "                            [-1j*sin(self.argparams['phi']/2)*exp(-1j*self.argparams['alpha']), cos(self.argparams['phi']/2)]]))\n",
    "\n",
    "\n",
    "    #two qubits gates\n",
    "\n",
    "    def CUxy(self):\n",
    "        if self.argparams['targets'] != [0, 1] and self.argparams['N'] is None:\n",
    "            self.argparams['N'] = 2\n",
    "\n",
    "        if self.argparams['N'] is not None:\n",
    "            return qt.Qobj(expand_operator(CUxy(self.argparams), self.argparams['N'], targets=self.argparams['targets']), dims=[[2, 2], [2, 2]])\n",
    "\n",
    "        return qt.Qobj(asarray([[cos(self.argparams['phi']/2), -1j*sin(self.argparams['phi']/2)*exp(1j*self.argparams['alpha']), 0, 0],\n",
    "                                [-1j*sin(self.argparams['phi']/2)*exp(-1j*self.argparams['alpha']), cos(self.argparams['phi']/2), 0, 0],\n",
    "                                [0, 0, 1, 0],\n",
    "                                [0, 0, 0, 1]]), dims=[[2, 2], [2, 2]]);\n",
    "\n",
    "    def CPHASE(arg_value):\n",
    "        return qt.Qobj(asarray([[exp(1j*arg_value['phi00']), 0, 0, 0],\n",
    "                                [0, exp(1j*arg_value['phi01']), 0, 0],\n",
    "                                [0, 0, exp(1j*arg_value['phi10']), 0],\n",
    "                                [0, 0, 0, exp(1j*arg_value['phi11'])]]), dims = [[2,2],[2,2]])\n",
    "\n",
    "    def CZ():\n",
    "        return CPHASE(0, 0, 0, pi)    \n",
    "\n",
    "    def XY(arg_value):\n",
    "        if arg_value['targets'] != [0, 1] and arg_value['N'] is None:\n",
    "            arg_value['N'] = 2\n",
    "\n",
    "        if arg_value['N'] is not None:\n",
    "            return expand_operator(XY(arg_value), int(arg_value['N']), targets=arg_value['targets'])\n",
    "        return qt.Qobj(asarray([[1, 0, 0, 0],\n",
    "                                [0, cos(arg_value['phi']), -1j*sin(arg_value['phi']), 0], \n",
    "                                [0, -1j*sin(arg_value['phi']), cos(arg_value['phi']), 0],\n",
    "                                [0, 0, 0, 1]]),\n",
    "            dims=[[2, 2], [2, 2]])\n",
    "\n",
    "    #multi-qubits gates\n",
    "\n",
    "    def pCUxy(arg_value):\n",
    "        return qt.Qobj(asarray([[cos(arg_value['theta']/2), -1j*sin(arg_value['theta']/2)*exp(1j*arg_value['varphi'])/sqrt(2), -1j*sin(arg_value['theta']/2)*exp(1j*arg_value['varphi'])/sqrt(2), 0],\n",
    "                                [1j*sin(arg_value['theta']/2)*exp(-1j*arg_value['varphi'])/sqrt(2), cos(arg_value['theta']/4)**2, -sin(arg_value['theta']/4)**2, 0], \n",
    "                                [1j*sin(arg_value['theta']/2)*exp(-1j*arg_value['varphi'])/sqrt(2), -sin(arg_value['theta']/4)**2, cos(arg_value['theta']/4)**2, 0],\n",
    "                                [0, 0, 0, 1]]), dims = [[2,2],[2,2]])\n",
    "\n",
    "    def pCZ(arg_value):\n",
    "        return CPHASE(0, arg_value['phi'], arg_value['phi'], 2*arg_value['phi']-pi)\n",
    "\n",
    "    def globphase(arg_value):\n",
    "        return qt.globalphase(arg_value['theta'])"
   ]
  }
 ],
 "metadata": {
  "kernelspec": {
   "display_name": "Python 3.8.5 64-bit ('q-env': conda)",
   "language": "python",
   "name": "python38564bitqenvconda74bc4a68260349ca9180e878113d433c"
  },
  "language_info": {
   "codemirror_mode": {
    "name": "ipython",
    "version": 3
   },
   "file_extension": ".py",
   "mimetype": "text/x-python",
   "name": "python",
   "nbconvert_exporter": "python",
   "pygments_lexer": "ipython3",
   "version": "3.8.8"
  },
  "latex_envs": {
   "LaTeX_envs_menu_present": true,
   "autoclose": false,
   "autocomplete": true,
   "bibliofile": "biblio.bib",
   "cite_by": "apalike",
   "current_citInitial": 1,
   "eqLabelWithNumbers": true,
   "eqNumInitial": 1,
   "hotkeys": {
    "equation": "Ctrl-E",
    "itemize": "Ctrl-I"
   },
   "labels_anchors": false,
   "latex_user_defs": false,
   "report_style_numbering": false,
   "user_envs_cfg": false
  },
  "toc": {
   "base_numbering": 1,
   "nav_menu": {},
   "number_sections": true,
   "sideBar": true,
   "skip_h1_title": false,
   "title_cell": "Table of Contents",
   "title_sidebar": "Contents",
   "toc_cell": false,
   "toc_position": {
    "height": "calc(100% - 180px)",
    "left": "10px",
    "top": "150px",
    "width": "220.641px"
   },
   "toc_section_display": true,
   "toc_window_display": true
  },
  "varInspector": {
   "cols": {
    "lenName": 16,
    "lenType": 16,
    "lenVar": 40
   },
   "kernels_config": {
    "python": {
     "delete_cmd_postfix": "",
     "delete_cmd_prefix": "del ",
     "library": "var_list.py",
     "varRefreshCmd": "print(var_dic_list())"
    },
    "r": {
     "delete_cmd_postfix": ") ",
     "delete_cmd_prefix": "rm(",
     "library": "var_list.r",
     "varRefreshCmd": "cat(var_dic_list()) "
    }
   },
   "types_to_exclude": [
    "module",
    "function",
    "builtin_function_or_method",
    "instance",
    "_Feature"
   ],
   "window_display": false
  }
 },
 "nbformat": 4,
 "nbformat_minor": 5
}
