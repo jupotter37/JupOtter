{
  "cells": [
    {
      "cell_type": "markdown",
      "metadata": {
        "id": "oSWO0VYCoMBb"
      },
      "source": [
        "# Recursion examples\n",
        "\n",
        "adopted from: https://github.com/rasbt/algorithms_in_ipython_notebooks\n",
        "\n",
        "https://github.com/AbhishekSinhaCoder/Data-Structures-Concepts-through-Notebook"
      ]
    },
    {
      "cell_type": "markdown",
      "metadata": {
        "id": "V7FEW0bMoMBj"
      },
      "source": [
        "# Examples using Recursion"
      ]
    },
    {
      "cell_type": "markdown",
      "metadata": {
        "id": "96FF1di-oMBk"
      },
      "source": [
        "**Important Note**\n",
        "\n",
        "For most cases, using function recursion should be avoided in Python are better be implemented using for/while loops most of the time (although, I must admit that recursive solutions do look elegant). One of the reasons is that stacking recursive calls can easily blow up memory or at least result in the popular yet nasty \"RuntimeError: maximum recursion depth exceeded\". Also, keep in mind that Python does not optimize tail recursion in favor of having the full tracebacks for debugging; related to that, please see Guido van Rossums blog posts \"[Tail Recursion Elimination](http://neopythonic.blogspot.com.au/2009/04/tail-recursion-elimination.html)\" and \"[Final Words on Tail Calls](http://neopythonic.blogspot.com.au/2009/04/final-words-on-tail-calls.html).\" If you do like to play around with recursion more efficiently, I highly recommend taking a look at [Haskell](https://www.haskell.org) or other functional programming languages. That being said, below are some examples of recursive function implementations in Python for illustrative purposes."
      ]
    },
    {
      "cell_type": "code",
      "source": [
        "# Let's pretend we are not aware of Python's x**n or math.pow(x, n)\n",
        "5**3"
      ],
      "metadata": {
        "id": "oF8JoeTQZzaH",
        "outputId": "116f0817-a616-4c2a-f25c-482e9fb5c9cf",
        "colab": {
          "base_uri": "https://localhost:8080/"
        }
      },
      "execution_count": 1,
      "outputs": [
        {
          "output_type": "execute_result",
          "data": {
            "text/plain": [
              "125"
            ]
          },
          "metadata": {},
          "execution_count": 1
        }
      ]
    },
    {
      "cell_type": "code",
      "source": [
        "import math\n",
        "math.pow(5,3)"
      ],
      "metadata": {
        "id": "a1Xkj1QZZ7ek",
        "outputId": "b1770905-92e0-4700-d133-2df1df63ef67",
        "colab": {
          "base_uri": "https://localhost:8080/"
        }
      },
      "execution_count": 2,
      "outputs": [
        {
          "output_type": "execute_result",
          "data": {
            "text/plain": [
              "125.0"
            ]
          },
          "metadata": {},
          "execution_count": 2
        }
      ]
    },
    {
      "cell_type": "markdown",
      "metadata": {
        "id": "cuLUcT3qoMBl"
      },
      "source": [
        "## Review: Running time and big-$\\mathcal{O}$: Recursive Algorithms for Computing Powers\n",
        "\n",
        "As example of the use of linear recursion, we consider the problem of raising a number $x$ to an arbitrary nonnegative integer, $n$. That is, we wish to compute the power function, defined as $power(x,n) = xn$. (We use the name “power” for this discussion, to differentiate from the built-in Python function _pow_ that provides such functionality.) We will consider two different recursive formulations for the problem that lead to algorithms with very different performance.\n",
        "A trivial recursive definition follows from the fact that $x^n = x \\cdot x^{n−1}$ for $n > 0$.\n",
        "\n",
        "\n",
        "\\begin{equation}\n",
        "power(x,n) ==\\left\\{\n",
        "                \\begin{array}{ll}\n",
        "                        1 \\ if \\ n = 0\\\\\n",
        "                        x \\ power(x, n − 1) \\ otherwise.\n",
        "                \\end{array}\n",
        "              \\right.\n",
        "\\end{equation}\n",
        "\n",
        "This definition leads to a recursive algorithm shown below:"
      ]
    },
    {
      "cell_type": "code",
      "execution_count": null,
      "metadata": {
        "id": "XcCv162ToMBm"
      },
      "outputs": [],
      "source": [
        "# in case we did not know about Pythons x**n statement :)"
      ]
    },
    {
      "cell_type": "code",
      "execution_count": 3,
      "metadata": {
        "id": "UG3HFVgwoMBn",
        "outputId": "7cce5b50-cf75-458f-e680-bdbc2e5a950d",
        "colab": {
          "base_uri": "https://localhost:8080/"
        }
      },
      "outputs": [
        {
          "output_type": "execute_result",
          "data": {
            "text/plain": [
              "256"
            ]
          },
          "metadata": {},
          "execution_count": 3
        }
      ],
      "source": [
        "2**8"
      ]
    },
    {
      "cell_type": "code",
      "execution_count": null,
      "metadata": {
        "id": "ooRHr62joMBn"
      },
      "outputs": [],
      "source": [
        "# so the idea is to reduce the problem to a simpler instance of the same problem\n",
        "## to start with we need a base case\n",
        "## so base case for power would be x to 0 which is 1"
      ]
    },
    {
      "cell_type": "code",
      "execution_count": 4,
      "metadata": {
        "id": "_TvCtYc7oMBn",
        "outputId": "b889f0b0-84e3-40b2-c64c-3be618781b15",
        "colab": {
          "base_uri": "https://localhost:8080/"
        }
      },
      "outputs": [
        {
          "output_type": "execute_result",
          "data": {
            "text/plain": [
              "1"
            ]
          },
          "metadata": {},
          "execution_count": 4
        }
      ],
      "source": [
        "2**0"
      ]
    },
    {
      "cell_type": "code",
      "execution_count": 5,
      "metadata": {
        "id": "6aikZtZPoMBo"
      },
      "outputs": [],
      "source": [
        "def basicpower(x, n):\n",
        "    '''Compute the value x**n for integer n.''' \n",
        "    if n == 0:\n",
        "        return 1 # base case without base case our recursive function will run forever\n",
        "    else:\n",
        "        return x  * basicpower(x, n-1) # our recursive call so we are calling the function on itself on a smaller problem space"
      ]
    },
    {
      "cell_type": "markdown",
      "metadata": {
        "id": "mbNXU95_oMBo"
      },
      "source": [
        "# How to make a recursive function in two easy steps\n",
        "* figure out the base case\n",
        "* figure out how to reduce problem to a subset of the same problem"
      ]
    },
    {
      "cell_type": "code",
      "execution_count": 6,
      "metadata": {
        "id": "iSC6d3ivoMBp",
        "outputId": "249da942-31eb-47a9-fef3-6120e0959eac",
        "colab": {
          "base_uri": "https://localhost:8080/"
        }
      },
      "outputs": [
        {
          "output_type": "execute_result",
          "data": {
            "text/plain": [
              "256"
            ]
          },
          "metadata": {},
          "execution_count": 6
        }
      ],
      "source": [
        "basicpower(2,8)"
      ]
    },
    {
      "cell_type": "markdown",
      "metadata": {
        "id": "iHobhQwVoMBp"
      },
      "source": [
        "A recursive call to this version of power(x,n) runs in $\\mathcal{O}(n)$ time."
      ]
    },
    {
      "cell_type": "code",
      "execution_count": 10,
      "metadata": {
        "id": "xjNZM_oSoMBp",
        "outputId": "260b875f-a423-4d4f-f4b1-a7bd31dcb452",
        "colab": {
          "base_uri": "https://localhost:8080/"
        }
      },
      "outputs": [
        {
          "output_type": "stream",
          "name": "stdout",
          "text": [
            "221 µs ± 9.06 µs per loop (mean ± std. dev. of 7 runs, 1000 loops each)\n"
          ]
        }
      ],
      "source": [
        "%%timeit\n",
        "basicpower(2,1000)"
      ]
    },
    {
      "cell_type": "code",
      "source": [
        "# https://stackoverflow.com/questions/3323001/what-is-the-maximum-recursion-depth-in-python-and-how-to-increase-it\n",
        "import sys\n",
        "print(sys.getrecursionlimit())"
      ],
      "metadata": {
        "id": "a3KGWkcOa9Ko",
        "outputId": "16d87fe6-7a9a-456e-a2e4-763bf0e3923f",
        "colab": {
          "base_uri": "https://localhost:8080/"
        }
      },
      "execution_count": 8,
      "outputs": [
        {
          "output_type": "stream",
          "name": "stdout",
          "text": [
            "1000\n"
          ]
        }
      ]
    },
    {
      "cell_type": "code",
      "source": [
        "sys.setrecursionlimit(9000)"
      ],
      "metadata": {
        "id": "1nG_CYeZbEA4"
      },
      "execution_count": 9,
      "outputs": []
    },
    {
      "cell_type": "code",
      "execution_count": 11,
      "metadata": {
        "id": "N5fBYZTGoMBp",
        "outputId": "53f87463-8780-4967-af31-e3ea24cb90ce",
        "colab": {
          "base_uri": "https://localhost:8080/"
        }
      },
      "outputs": [
        {
          "output_type": "stream",
          "name": "stdout",
          "text": [
            "699 µs ± 258 µs per loop (mean ± std. dev. of 7 runs, 1000 loops each)\n"
          ]
        }
      ],
      "source": [
        "%%timeit\n",
        "basicpower(2,2000)"
      ]
    },
    {
      "cell_type": "code",
      "source": [
        "basicpower(2,4000)"
      ],
      "metadata": {
        "id": "Oi0AmUPCbVct",
        "outputId": "c7e45aa2-6417-4139-ac38-ceeea6d37e60",
        "colab": {
          "base_uri": "https://localhost:8080/"
        }
      },
      "execution_count": 12,
      "outputs": [
        {
          "output_type": "execute_result",
          "data": {
            "text/plain": [
              "13182040934309431001038897942365913631840191610932727690928034502417569281128344551079752123172122033140940756480716823038446817694240581281731062452512184038544674444386888956328970642771993930036586552924249514488832183389415832375620009284922608946111038578754077913265440918583125586050431647284603636490823850007826811672468900210689104488089485347192152708820119765006125944858397761874669301278745233504796586994514054435217053803732703240283400815926169348364799472716094576894007243168662568886603065832486830606125017643356469732407252874567217733694824236675323341755681839221954693820456072020253884371226826844858636194212875139566587445390068014747975813971748114770439248826688667129237954128555841874460665729630492658600179338272579110020881228767361200603478973120168893997574353727653998969223092798255701666067972698906236921628764772837915526086464389161570534616956703744840502975279094087587298968423516531626090898389351449020056851221079048966718878943309232071978575639877208621237040940126912767610658141079378758043403611425454744180577150855204937163460902512732551260539639221457005977247266676344018155647509515396711351487546062479444592779055555421362722504575706910949376"
            ]
          },
          "metadata": {},
          "execution_count": 12
        }
      ]
    },
    {
      "cell_type": "code",
      "source": [
        "%%timeit\n",
        "basicpower(2,4000)"
      ],
      "metadata": {
        "id": "yTyLP_9nbRwt",
        "outputId": "9d238149-6455-4e22-ffcb-610bbf3a93de",
        "colab": {
          "base_uri": "https://localhost:8080/"
        }
      },
      "execution_count": 13,
      "outputs": [
        {
          "output_type": "stream",
          "name": "stdout",
          "text": [
            "1.57 ms ± 490 µs per loop (mean ± std. dev. of 7 runs, 1000 loops each)\n"
          ]
        }
      ]
    },
    {
      "cell_type": "code",
      "execution_count": 14,
      "metadata": {
        "id": "YLRy01SfoMBq",
        "outputId": "d3ff6c91-6e2d-459b-e9e0-d309199491e5",
        "colab": {
          "base_uri": "https://localhost:8080/"
        }
      },
      "outputs": [
        {
          "output_type": "stream",
          "name": "stdout",
          "text": [
            "4.33 ms ± 1.37 ms per loop (mean ± std. dev. of 7 runs, 100 loops each)\n"
          ]
        }
      ],
      "source": [
        "%%timeit\n",
        "basicpower(2,8000)"
      ]
    },
    {
      "cell_type": "code",
      "source": [
        "# if we set recursion limit to 9000 we do not get to run it 9000 times in Python\n",
        "# so 8961 but 8962 does not\n",
        "# same overhead of \"unused\" recursion calls exists on other recursion limits\n",
        "# TODO write a paper on where this 38 call overhead comes in in Python\n",
        "# I will give at least 1 point in the class for this!\n",
        "basicpower(2,8962)\n"
      ],
      "metadata": {
        "id": "nM4AlgH2byMK",
        "outputId": "ca081392-7eea-4108-b85f-4b5a654ba3e7",
        "colab": {
          "base_uri": "https://localhost:8080/",
          "height": 350
        }
      },
      "execution_count": 19,
      "outputs": [
        {
          "output_type": "error",
          "ename": "RecursionError",
          "evalue": "ignored",
          "traceback": [
            "\u001b[0;31m---------------------------------------------------------------------------\u001b[0m",
            "\u001b[0;31mRecursionError\u001b[0m                            Traceback (most recent call last)",
            "\u001b[0;32m<ipython-input-19-e34003a15501>\u001b[0m in \u001b[0;36m<module>\u001b[0;34m\u001b[0m\n\u001b[1;32m      1\u001b[0m \u001b[0;31m# if we set recursion limit to 9000 we do not get to run it 9000 times in Python\u001b[0m\u001b[0;34m\u001b[0m\u001b[0;34m\u001b[0m\u001b[0;34m\u001b[0m\u001b[0m\n\u001b[0;32m----> 2\u001b[0;31m \u001b[0mbasicpower\u001b[0m\u001b[0;34m(\u001b[0m\u001b[0;36m2\u001b[0m\u001b[0;34m,\u001b[0m\u001b[0;36m8962\u001b[0m\u001b[0;34m)\u001b[0m\u001b[0;34m\u001b[0m\u001b[0;34m\u001b[0m\u001b[0m\n\u001b[0m",
            "\u001b[0;32m<ipython-input-5-4d2985c3e856>\u001b[0m in \u001b[0;36mbasicpower\u001b[0;34m(x, n)\u001b[0m\n\u001b[1;32m      4\u001b[0m         \u001b[0;32mreturn\u001b[0m \u001b[0;36m1\u001b[0m \u001b[0;31m# base case without base case our recursive function will run forever\u001b[0m\u001b[0;34m\u001b[0m\u001b[0;34m\u001b[0m\u001b[0m\n\u001b[1;32m      5\u001b[0m     \u001b[0;32melse\u001b[0m\u001b[0;34m:\u001b[0m\u001b[0;34m\u001b[0m\u001b[0;34m\u001b[0m\u001b[0m\n\u001b[0;32m----> 6\u001b[0;31m         \u001b[0;32mreturn\u001b[0m \u001b[0mx\u001b[0m  \u001b[0;34m*\u001b[0m \u001b[0mbasicpower\u001b[0m\u001b[0;34m(\u001b[0m\u001b[0mx\u001b[0m\u001b[0;34m,\u001b[0m \u001b[0mn\u001b[0m\u001b[0;34m-\u001b[0m\u001b[0;36m1\u001b[0m\u001b[0;34m)\u001b[0m \u001b[0;31m# our recursive call so we are calling the function on itself on a smaller problem space\u001b[0m\u001b[0;34m\u001b[0m\u001b[0;34m\u001b[0m\u001b[0m\n\u001b[0m",
            "... last 1 frames repeated, from the frame below ...\n",
            "\u001b[0;32m<ipython-input-5-4d2985c3e856>\u001b[0m in \u001b[0;36mbasicpower\u001b[0;34m(x, n)\u001b[0m\n\u001b[1;32m      4\u001b[0m         \u001b[0;32mreturn\u001b[0m \u001b[0;36m1\u001b[0m \u001b[0;31m# base case without base case our recursive function will run forever\u001b[0m\u001b[0;34m\u001b[0m\u001b[0;34m\u001b[0m\u001b[0m\n\u001b[1;32m      5\u001b[0m     \u001b[0;32melse\u001b[0m\u001b[0;34m:\u001b[0m\u001b[0;34m\u001b[0m\u001b[0;34m\u001b[0m\u001b[0m\n\u001b[0;32m----> 6\u001b[0;31m         \u001b[0;32mreturn\u001b[0m \u001b[0mx\u001b[0m  \u001b[0;34m*\u001b[0m \u001b[0mbasicpower\u001b[0m\u001b[0;34m(\u001b[0m\u001b[0mx\u001b[0m\u001b[0;34m,\u001b[0m \u001b[0mn\u001b[0m\u001b[0;34m-\u001b[0m\u001b[0;36m1\u001b[0m\u001b[0;34m)\u001b[0m \u001b[0;31m# our recursive call so we are calling the function on itself on a smaller problem space\u001b[0m\u001b[0;34m\u001b[0m\u001b[0;34m\u001b[0m\u001b[0m\n\u001b[0m",
            "\u001b[0;31mRecursionError\u001b[0m: maximum recursion depth exceeded in comparison"
          ]
        }
      ]
    },
    {
      "cell_type": "code",
      "execution_count": null,
      "metadata": {
        "id": "32ymKx0YoMBq"
      },
      "outputs": [],
      "source": [
        "# not satisfied with performance of our basic power we have an improvement in mind"
      ]
    },
    {
      "cell_type": "code",
      "execution_count": 20,
      "metadata": {
        "id": "RGkt-jpwoMBq"
      },
      "outputs": [],
      "source": [
        "\n",
        "def power(x, n):\n",
        "    '''Compute the value x**n for integer n.''' \n",
        "    if n == 0: # this is our base case\n",
        "        return 1 \n",
        "    else:\n",
        "        partial = power(x, n // 2) # remember that x^4*x^4 == x^8\n",
        "        result = partial * partial\n",
        "    if n % 2 == 1:\n",
        "        result *= x \n",
        "    return result"
      ]
    },
    {
      "cell_type": "code",
      "execution_count": 21,
      "metadata": {
        "id": "HEtfv-YDoMBq",
        "outputId": "6c30bf73-9f7f-4353-fcb3-2fa053849728",
        "colab": {
          "base_uri": "https://localhost:8080/"
        }
      },
      "outputs": [
        {
          "output_type": "execute_result",
          "data": {
            "text/plain": [
              "256"
            ]
          },
          "metadata": {},
          "execution_count": 21
        }
      ],
      "source": [
        "power(2,8)"
      ]
    },
    {
      "cell_type": "code",
      "execution_count": null,
      "metadata": {
        "id": "f8jzcIuDoMBr"
      },
      "outputs": [],
      "source": [
        "power(2,9)"
      ]
    },
    {
      "cell_type": "code",
      "execution_count": null,
      "metadata": {
        "id": "ERmAozgKoMBr"
      },
      "outputs": [],
      "source": [
        "import math\n"
      ]
    },
    {
      "cell_type": "code",
      "execution_count": 22,
      "metadata": {
        "id": "sxGMW5seoMBr",
        "outputId": "c3e8b82c-892d-4145-9c55-d2d99b469e7c",
        "colab": {
          "base_uri": "https://localhost:8080/"
        }
      },
      "outputs": [
        {
          "output_type": "execute_result",
          "data": {
            "text/plain": [
              "10.0"
            ]
          },
          "metadata": {},
          "execution_count": 22
        }
      ],
      "source": [
        "math.log2(1024)  # because pow(2,10) == 1024"
      ]
    },
    {
      "cell_type": "code",
      "source": [
        "1024*1024 # so 1MB"
      ],
      "metadata": {
        "id": "x5DTZuswded9",
        "outputId": "73994c01-8153-430d-e0ff-f41ae65b522a",
        "colab": {
          "base_uri": "https://localhost:8080/"
        }
      },
      "execution_count": 23,
      "outputs": [
        {
          "output_type": "execute_result",
          "data": {
            "text/plain": [
              "1048576"
            ]
          },
          "metadata": {},
          "execution_count": 23
        }
      ]
    },
    {
      "cell_type": "code",
      "execution_count": 24,
      "metadata": {
        "id": "rEbLPzsDoMBr",
        "outputId": "7258ea02-a55b-49a0-c230-315de0a2de0f",
        "colab": {
          "base_uri": "https://localhost:8080/"
        }
      },
      "outputs": [
        {
          "output_type": "execute_result",
          "data": {
            "text/plain": [
              "20.0"
            ]
          },
          "metadata": {},
          "execution_count": 24
        }
      ],
      "source": [
        "math.log2(1024*1024) # so for 1 million we will only need "
      ]
    },
    {
      "cell_type": "code",
      "execution_count": 25,
      "metadata": {
        "id": "T1FUC0MmoMBr",
        "outputId": "0918d0b8-66f4-4c93-96a0-4db004b51a53",
        "colab": {
          "base_uri": "https://localhost:8080/"
        }
      },
      "outputs": [
        {
          "output_type": "execute_result",
          "data": {
            "text/plain": [
              "332.19280948873626"
            ]
          },
          "metadata": {},
          "execution_count": 25
        }
      ],
      "source": [
        "math.log2(10**100) # log n of googool more than atoms in the universe\n",
        "# https://en.wikipedia.org/wiki/Googol"
      ]
    },
    {
      "cell_type": "code",
      "execution_count": null,
      "metadata": {
        "id": "W8LcuM4QoMBr"
      },
      "outputs": [],
      "source": [
        "# so if we were playing the guess the number with yes and no questions we could figure out any number up to googool in 333 questions\n",
        "\n",
        "# not bad when we consider that number of atoms in Universe is something 10**80"
      ]
    },
    {
      "cell_type": "code",
      "execution_count": 26,
      "metadata": {
        "id": "BqofiscKoMBs",
        "outputId": "b1a873a0-b6fe-4505-8aa2-4cf801951750",
        "colab": {
          "base_uri": "https://localhost:8080/"
        }
      },
      "outputs": [
        {
          "output_type": "stream",
          "name": "stdout",
          "text": [
            "5.44 µs ± 1.46 µs per loop (mean ± std. dev. of 7 runs, 100000 loops each)\n"
          ]
        }
      ],
      "source": [
        "%%timeit\n",
        "power(2,1000)"
      ]
    },
    {
      "cell_type": "code",
      "execution_count": 27,
      "metadata": {
        "id": "3_ghzsDGoMBs",
        "outputId": "6b89d1e8-5bf8-415d-9bc8-480961320691",
        "colab": {
          "base_uri": "https://localhost:8080/"
        }
      },
      "outputs": [
        {
          "output_type": "stream",
          "name": "stdout",
          "text": [
            "4.42 µs ± 137 ns per loop (mean ± std. dev. of 7 runs, 100000 loops each)\n"
          ]
        }
      ],
      "source": [
        "%%timeit\n",
        "power(2,2000)"
      ]
    },
    {
      "cell_type": "code",
      "source": [
        "%%timeit\n",
        "power(2,4000)"
      ],
      "metadata": {
        "id": "WrqMD5FweIKT",
        "outputId": "a8503066-4e68-4a24-de54-0f56cf06c20f",
        "colab": {
          "base_uri": "https://localhost:8080/"
        }
      },
      "execution_count": 28,
      "outputs": [
        {
          "output_type": "stream",
          "name": "stdout",
          "text": [
            "7.36 µs ± 153 ns per loop (mean ± std. dev. of 7 runs, 100000 loops each)\n"
          ]
        }
      ]
    },
    {
      "cell_type": "code",
      "source": [
        "%%timeit\n",
        "power(2,8000)"
      ],
      "metadata": {
        "id": "yUOj-U7jeR0j",
        "outputId": "5064477e-9625-4b25-9ab1-649fc8305da2",
        "colab": {
          "base_uri": "https://localhost:8080/"
        }
      },
      "execution_count": 29,
      "outputs": [
        {
          "output_type": "stream",
          "name": "stdout",
          "text": [
            "19.6 µs ± 5.08 µs per loop (mean ± std. dev. of 7 runs, 100000 loops each)\n"
          ]
        }
      ]
    },
    {
      "cell_type": "code",
      "source": [
        "%%timeit\n",
        "2**8000"
      ],
      "metadata": {
        "id": "AOOjpCZQeuEm",
        "outputId": "ddce4e3a-1bfd-43c5-f5eb-13ae5e88c5f9",
        "colab": {
          "base_uri": "https://localhost:8080/"
        }
      },
      "execution_count": 31,
      "outputs": [
        {
          "output_type": "stream",
          "name": "stdout",
          "text": [
            "18.3 µs ± 6.39 µs per loop (mean ± std. dev. of 7 runs, 100000 loops each)\n"
          ]
        }
      ]
    },
    {
      "cell_type": "code",
      "source": [
        "%%timeit\n",
        "math.pow(2,1000) # math.pow can not work with huge floating numbers"
      ],
      "metadata": {
        "id": "7DcXPOjSe6mP",
        "outputId": "72201286-7789-440c-98fd-d7b05b799497",
        "colab": {
          "base_uri": "https://localhost:8080/"
        }
      },
      "execution_count": 33,
      "outputs": [
        {
          "output_type": "stream",
          "name": "stdout",
          "text": [
            "337 ns ± 6.53 ns per loop (mean ± std. dev. of 7 runs, 1000000 loops each)\n"
          ]
        }
      ]
    },
    {
      "cell_type": "code",
      "execution_count": 30,
      "metadata": {
        "id": "FcwzzvuNoMBs",
        "outputId": "828086ef-c680-4536-aad0-b2c9b21d91ae",
        "colab": {
          "base_uri": "https://localhost:8080/"
        }
      },
      "outputs": [
        {
          "output_type": "stream",
          "name": "stdout",
          "text": [
            "8.29 ms ± 2.2 ms per loop (mean ± std. dev. of 7 runs, 100 loops each)\n"
          ]
        }
      ],
      "source": [
        "%%timeit\n",
        "power(2,2_000_000)"
      ]
    },
    {
      "cell_type": "markdown",
      "metadata": {
        "id": "Pn9pPcELoMBs"
      },
      "source": [
        "To analyze the running time of the revised algorithm, we observe that the exponent in each recursive call of function power(x,n) is at most half of the preceding exponent. As we saw with the analysis of binary search, the number of times that we can divide $n$ in half before getting to one or less is $\\mathcal{O}(log n)$. Therefore, our new formulation of the power function results in $\\mathcal{O}(logn)$ recursive calls. Each individual activation of the function uses $\\mathcal{O}(1)$ operations (excluding the recursive calls), and so the total number of operations for computing power(x,n) is O(logn). This is a significant improvement over the original $\\mathcal{O}(n)$-time algorithm.\n",
        "\n",
        "**Exercise:** Test the two functions with a timer and see the difference. Identify the base case and stopping conditions."
      ]
    },
    {
      "cell_type": "code",
      "execution_count": null,
      "metadata": {
        "id": "QoMcXI9ZoMBt"
      },
      "outputs": [],
      "source": [
        "# so we got the famous stack overflow\n",
        "# technically we could adjust the recursion depth in Python but it would not really help in the long run"
      ]
    },
    {
      "cell_type": "code",
      "execution_count": null,
      "metadata": {
        "id": "5rbQ--VaoMBt"
      },
      "outputs": [],
      "source": [
        "%%timeit\n",
        "power(2,100_000)"
      ]
    },
    {
      "cell_type": "code",
      "execution_count": null,
      "metadata": {
        "id": "r0Y1hn6aoMBt"
      },
      "outputs": [],
      "source": [
        "%%timeit\n",
        "2**100_000"
      ]
    },
    {
      "cell_type": "code",
      "execution_count": null,
      "metadata": {
        "id": "KhQekXV5oMBt"
      },
      "outputs": [],
      "source": [
        "%%timeit\n",
        "power(2,1_000_000)"
      ]
    },
    {
      "cell_type": "code",
      "execution_count": null,
      "metadata": {
        "id": "jSfJtWcnoMBt"
      },
      "outputs": [],
      "source": [
        "%%timeit\n",
        "2**1_000_000"
      ]
    },
    {
      "cell_type": "markdown",
      "metadata": {
        "id": "cTiSTCU8oMBt"
      },
      "source": [
        "# We humans operate better on visual data - 1 picture and 1000 words"
      ]
    },
    {
      "cell_type": "code",
      "execution_count": 34,
      "metadata": {
        "id": "A6jf59QFoMBu"
      },
      "outputs": [],
      "source": [
        "# in python we can pass functions as arguments\n",
        "import matplotlib.pyplot as plt # very popular visualizaiton library\n",
        "import time\n",
        "def automatic_time(input_array, func_name):\n",
        "    # input_array contains all elements of input,\n",
        "    #   preferably sorted from small to big,\n",
        "    #   each element could also be a tuple, which is requried\n",
        "    #   for functions that need more than 1 input\n",
        "    # func_name is the name of the function (as object, not str)\n",
        "    # this function also suppresses printing output from the {func_name}\n",
        "    ret = []\n",
        "    for val in input_array:\n",
        "#         print(time.process_time_ns())\n",
        "#         start = time.process_time()\n",
        "        start = time.time()\n",
        "        from IPython.utils import io as iuio\n",
        "        with iuio.capture_output() as suppressed:\n",
        "            if isinstance(val, tuple):\n",
        "                _ = func_name(*val) #unrolling the tuple to pass multiple arguments to our function\n",
        "            else:\n",
        "                _ = func_name(val) # just a single argument function\n",
        "                \n",
        "        ret.append((time.time() - start)) # 10e9 converts unit from second to nanosecond\n",
        "    return ret\n",
        "\n",
        "# my_input_arr = [(2,1_000),(2,2_000)]\n",
        "# print(\"testing function_1 with the automatic measure\")\n",
        "# print(F\"run-time for function 1 result in nanoseconds: \\n{automatic_time(my_input_arr, basicpower)}\")"
      ]
    },
    {
      "cell_type": "code",
      "execution_count": 35,
      "metadata": {
        "id": "LKHvPpbfoMBu",
        "outputId": "426c7601-a261-4d35-ee62-48d9f01a3e00",
        "colab": {
          "base_uri": "https://localhost:8080/"
        }
      },
      "outputs": [
        {
          "output_type": "execute_result",
          "data": {
            "text/plain": [
              "[(2, 100),\n",
              " (2, 200),\n",
              " (2, 300),\n",
              " (2, 400),\n",
              " (2, 500),\n",
              " (2, 600),\n",
              " (2, 700),\n",
              " (2, 800),\n",
              " (2, 900),\n",
              " (2, 1000),\n",
              " (2, 1100),\n",
              " (2, 1200),\n",
              " (2, 1300),\n",
              " (2, 1400),\n",
              " (2, 1500),\n",
              " (2, 1600),\n",
              " (2, 1700),\n",
              " (2, 1800),\n",
              " (2, 1900),\n",
              " (2, 2000),\n",
              " (2, 2100),\n",
              " (2, 2200),\n",
              " (2, 2300),\n",
              " (2, 2400)]"
            ]
          },
          "metadata": {},
          "execution_count": 35
        }
      ],
      "source": [
        "# create some inputs\n",
        "input_arr = [(2,i) for i in range(100, 2_500, 100)]\n",
        "input_arr"
      ]
    },
    {
      "cell_type": "code",
      "execution_count": 36,
      "metadata": {
        "id": "9hHMDCdvoMBu",
        "outputId": "816a597f-3f2c-4f82-f27f-26c36d747022",
        "colab": {
          "base_uri": "https://localhost:8080/",
          "height": 279
        }
      },
      "outputs": [
        {
          "output_type": "display_data",
          "data": {
            "text/plain": [
              "<Figure size 432x288 with 1 Axes>"
            ],
            "image/png": "[encoded data removed]"
          },
          "metadata": {
            "needs_background": "light"
          }
        }
      ],
      "source": [
        "\n",
        "\n",
        "# input_arr_t = [(i,i) for i in range(1, 1000)]\n",
        "\n",
        "# fun1 = automatic_time(input_arr, function_1)\n",
        "results = automatic_time(input_arr, basicpower)\n",
        "# fun3 = automatic_time(input_arr, function_3)\n",
        "# fun4 = automatic_time(input_arr_t, function_4)\n",
        "# fun5 = automatic_time(input_arr_t, function_5)\n",
        "\n",
        "plt.plot([el[1] for el in input_arr], results) # we only want to see the i as x\n",
        "plt.xlabel(\"input size\")\n",
        "plt.ylabel(\"running time in seconds\")\n",
        "plt.show() # again we only run each call once so our results are not quite representative\n",
        "# we might see peaks"
      ]
    },
    {
      "cell_type": "code",
      "execution_count": 37,
      "metadata": {
        "id": "WkcUASMyoMBu",
        "outputId": "6fc6bf4d-a38e-4609-93bd-725ece40627a",
        "colab": {
          "base_uri": "https://localhost:8080/",
          "height": 279
        }
      },
      "outputs": [
        {
          "output_type": "display_data",
          "data": {
            "text/plain": [
              "<Figure size 432x288 with 1 Axes>"
            ],
            "image/png": "[encoded data removed]"
          },
          "metadata": {
            "needs_background": "light"
          }
        }
      ],
      "source": [
        "input_arr = [(2,i) for i in range(100_000, 20_000_000, 100_000)]\n",
        "\n",
        "results = automatic_time(input_arr, power)\n",
        "# mathpow_results = automatic_time(input_arr, math.pow) # math.pow does n ot like large powers\n",
        "\n",
        "plt.plot([el[1] for el in input_arr], results)\n",
        "# plt.plot([el[1] for el in input_arr], mathpow_results)\n",
        "plt.xlabel(\"input size\")\n",
        "plt.ylabel(\"running time in seconds\")\n",
        "plt.show()"
      ]
    },
    {
      "cell_type": "code",
      "source": [
        "lin_numbers = list(range(1,200))\n",
        "log_numbers = [math.log2(n) for n in lin_numbers]\n",
        "log_numbers[:5]"
      ],
      "metadata": {
        "id": "0kLV8VubhLMK",
        "outputId": "1798262a-f5f9-4b7a-fb59-969dbc97be6c",
        "colab": {
          "base_uri": "https://localhost:8080/"
        }
      },
      "execution_count": 38,
      "outputs": [
        {
          "output_type": "execute_result",
          "data": {
            "text/plain": [
              "[0.0, 1.0, 1.584962500721156, 2.0, 2.321928094887362]"
            ]
          },
          "metadata": {},
          "execution_count": 38
        }
      ]
    },
    {
      "cell_type": "code",
      "source": [
        "plt.plot(lin_numbers, log_numbers)\n",
        "plt.plot(lin_numbers, lin_numbers)\n",
        "# plt.plot([el[1] for el in input_arr], mathpow_results)\n",
        "plt.xlabel(\"linear numbers\")\n",
        "plt.ylabel(\"log of number\")\n",
        "plt.show() # we can clearly see that logn will increase much slower than simple n"
      ],
      "metadata": {
        "id": "0kEX2Sexhbdm",
        "outputId": "d6e5bfb8-7608-4e59-f6ed-3d954c1445fa",
        "colab": {
          "base_uri": "https://localhost:8080/",
          "height": 279
        }
      },
      "execution_count": 42,
      "outputs": [
        {
          "output_type": "display_data",
          "data": {
            "text/plain": [
              "<Figure size 432x288 with 1 Axes>"
            ],
            "image/png": "[encoded data removed]"
          },
          "metadata": {
            "needs_background": "light"
          }
        }
      ]
    },
    {
      "cell_type": "code",
      "execution_count": null,
      "metadata": {
        "id": "hLU_RUzZoMBv"
      },
      "outputs": [],
      "source": [
        "math.pow(2,800_000)"
      ]
    },
    {
      "cell_type": "markdown",
      "metadata": {
        "id": "NjMsWChHoMBv"
      },
      "source": [
        "# so it certainly looks linear but the jumps in our speed indicates how OS and computer hardware might affect an algorithm in real life"
      ]
    },
    {
      "cell_type": "markdown",
      "metadata": {
        "id": "HPt4DNCIoMBv"
      },
      "source": [
        "## Factorial"
      ]
    },
    {
      "cell_type": "code",
      "execution_count": null,
      "metadata": {
        "id": "n9sX47EVoMBv"
      },
      "outputs": [],
      "source": [
        "# so again base case for stopping will be 1"
      ]
    },
    {
      "cell_type": "code",
      "execution_count": 44,
      "metadata": {
        "id": "OgcptqjLoMBw"
      },
      "outputs": [],
      "source": [
        "def factorial(x):\n",
        "    if x <= 1:\n",
        "        return 1 # not x! as factorial of 0 is considered 1!\n",
        "    else:\n",
        "        return x * factorial(x-1) # so we want to be sure that our problem space keeps getting smaller"
      ]
    },
    {
      "cell_type": "code",
      "execution_count": 45,
      "metadata": {
        "id": "NRHEyFZuoMBw",
        "outputId": "8eb93a07-e51d-4f7d-82e7-a5e8808acf6a",
        "colab": {
          "base_uri": "https://localhost:8080/"
        }
      },
      "outputs": [
        {
          "output_type": "execute_result",
          "data": {
            "text/plain": [
              "1"
            ]
          },
          "metadata": {},
          "execution_count": 45
        }
      ],
      "source": [
        "math.factorial(0) # there is a built in solution already for our base case"
      ]
    },
    {
      "cell_type": "code",
      "execution_count": 46,
      "metadata": {
        "id": "xguLD70RoMBw"
      },
      "outputs": [],
      "source": [
        "# regular loop based algorithm should need less memory\n",
        "def factorial_loop(x):\n",
        "    res = 1\n",
        "    while x > 1: # so we start at the end - bottom down\n",
        "        res *= x\n",
        "        x -=1\n",
        "    return res"
      ]
    },
    {
      "cell_type": "code",
      "execution_count": 47,
      "metadata": {
        "id": "1VSCEM5loMBw",
        "outputId": "2adce0d4-5f6a-4c08-a4e9-560b55a7a5e4",
        "colab": {
          "base_uri": "https://localhost:8080/"
        }
      },
      "outputs": [
        {
          "output_type": "execute_result",
          "data": {
            "text/plain": [
              "120"
            ]
          },
          "metadata": {},
          "execution_count": 47
        }
      ],
      "source": [
        "factorial_loop(5)"
      ]
    },
    {
      "cell_type": "code",
      "execution_count": 48,
      "metadata": {
        "id": "J06IAFiPoMBw",
        "outputId": "f4f2ebc9-af07-4a1e-d23d-97e931e7e6b3",
        "colab": {
          "base_uri": "https://localhost:8080/"
        }
      },
      "outputs": [
        {
          "output_type": "execute_result",
          "data": {
            "text/plain": [
              "120"
            ]
          },
          "metadata": {},
          "execution_count": 48
        }
      ],
      "source": [
        "factorial(5)"
      ]
    },
    {
      "cell_type": "code",
      "source": [
        "math.factorial(5)"
      ],
      "metadata": {
        "id": "asGDUe_6jlQT",
        "outputId": "202d8072-0485-474f-c5c0-a5f7920de10e",
        "colab": {
          "base_uri": "https://localhost:8080/"
        }
      },
      "execution_count": 49,
      "outputs": [
        {
          "output_type": "execute_result",
          "data": {
            "text/plain": [
              "120"
            ]
          },
          "metadata": {},
          "execution_count": 49
        }
      ]
    },
    {
      "cell_type": "code",
      "execution_count": null,
      "metadata": {
        "id": "pViB5m8JoMBx"
      },
      "outputs": [],
      "source": [
        "factorial(1)"
      ]
    },
    {
      "cell_type": "markdown",
      "metadata": {
        "id": "NxGEbc1YoMBx"
      },
      "source": [
        "5! = 5 x 4 x 3 x 2 x 1 = 120"
      ]
    },
    {
      "cell_type": "code",
      "execution_count": null,
      "metadata": {
        "id": "I0mNcnMXoMBx"
      },
      "outputs": [],
      "source": [
        "factorial(5)"
      ]
    },
    {
      "cell_type": "code",
      "execution_count": 50,
      "metadata": {
        "id": "aT09mvQVoMBx",
        "outputId": "dfd3ddcd-a3c8-4ab7-b549-42c46f989bf0",
        "colab": {
          "base_uri": "https://localhost:8080/"
        }
      },
      "outputs": [
        {
          "output_type": "stream",
          "name": "stdout",
          "text": [
            "1.65 µs ± 485 ns per loop (mean ± std. dev. of 7 runs, 1000000 loops each)\n"
          ]
        }
      ],
      "source": [
        "%%timeit\n",
        "factorial(10)"
      ]
    },
    {
      "cell_type": "code",
      "execution_count": 51,
      "metadata": {
        "id": "iqZ_drYqoMBx",
        "outputId": "84a29f74-a2e9-4b78-838a-1de6310d6e89",
        "colab": {
          "base_uri": "https://localhost:8080/"
        }
      },
      "outputs": [
        {
          "output_type": "stream",
          "name": "stdout",
          "text": [
            "19.6 µs ± 3.45 µs per loop (mean ± std. dev. of 7 runs, 100000 loops each)\n"
          ]
        }
      ],
      "source": [
        "%%timeit\n",
        "factorial(100)"
      ]
    },
    {
      "cell_type": "code",
      "execution_count": 52,
      "metadata": {
        "id": "4KKUhxe6oMBy",
        "outputId": "0a8c970a-7ecd-45ad-e888-ac849398445a",
        "colab": {
          "base_uri": "https://localhost:8080/"
        }
      },
      "outputs": [
        {
          "output_type": "stream",
          "name": "stdout",
          "text": [
            "21.6 µs ± 4.76 µs per loop (mean ± std. dev. of 7 runs, 100000 loops each)\n"
          ]
        }
      ],
      "source": [
        "%%timeit\n",
        "factorial_loop(100)"
      ]
    },
    {
      "cell_type": "code",
      "source": [
        "%%timeit\n",
        "math.factorial(100)"
      ],
      "metadata": {
        "id": "WggKdkfVkGUD",
        "outputId": "e1e1da06-3a4d-4a70-c865-65c398184acd",
        "colab": {
          "base_uri": "https://localhost:8080/"
        }
      },
      "execution_count": 53,
      "outputs": [
        {
          "output_type": "stream",
          "name": "stdout",
          "text": [
            "1.24 µs ± 403 ns per loop (mean ± std. dev. of 7 runs, 1000000 loops each)\n"
          ]
        }
      ]
    },
    {
      "cell_type": "code",
      "execution_count": 54,
      "metadata": {
        "id": "i1g8hCEEoMBy",
        "outputId": "b80a7c80-08ba-4d18-fbb7-0dde3ca658b8",
        "colab": {
          "base_uri": "https://localhost:8080/"
        }
      },
      "outputs": [
        {
          "output_type": "stream",
          "name": "stdout",
          "text": [
            "574 µs ± 166 µs per loop (mean ± std. dev. of 7 runs, 1000 loops each)\n"
          ]
        }
      ],
      "source": [
        "%%timeit\n",
        "factorial(1000)"
      ]
    },
    {
      "cell_type": "code",
      "execution_count": 55,
      "metadata": {
        "id": "4R6VTQscoMBy",
        "outputId": "b4892b82-0620-4332-8006-ef199f58ca10",
        "colab": {
          "base_uri": "https://localhost:8080/"
        }
      },
      "outputs": [
        {
          "output_type": "stream",
          "name": "stdout",
          "text": [
            "1.63 ms ± 411 µs per loop (mean ± std. dev. of 7 runs, 1000 loops each)\n"
          ]
        }
      ],
      "source": [
        "%%timeit\n",
        "factorial(2000)"
      ]
    },
    {
      "cell_type": "code",
      "execution_count": 56,
      "metadata": {
        "id": "Sl0ODIzFoMBy",
        "outputId": "f14ccff7-0e3b-48bc-a58c-19e27ba7c820",
        "colab": {
          "base_uri": "https://localhost:8080/"
        }
      },
      "outputs": [
        {
          "output_type": "stream",
          "name": "stdout",
          "text": [
            "324 µs ± 11 µs per loop (mean ± std. dev. of 7 runs, 1000 loops each)\n"
          ]
        }
      ],
      "source": [
        "%%timeit\n",
        "factorial_loop(1000)"
      ]
    },
    {
      "cell_type": "code",
      "execution_count": 57,
      "metadata": {
        "id": "VE0oz8bIoMBy",
        "outputId": "3227bc93-2e3a-4b6e-da1a-f53b70dc37c1",
        "colab": {
          "base_uri": "https://localhost:8080/"
        }
      },
      "outputs": [
        {
          "output_type": "stream",
          "name": "stdout",
          "text": [
            "1.25 ms ± 310 µs per loop (mean ± std. dev. of 7 runs, 1000 loops each)\n"
          ]
        }
      ],
      "source": [
        "%%timeit\n",
        "factorial_loop(2000)"
      ]
    },
    {
      "cell_type": "code",
      "source": [
        "%%timeit\n",
        "math.factorial(2000)"
      ],
      "metadata": {
        "id": "GWPKE5EUkf4g",
        "outputId": "e19740ed-f035-4537-efd8-f8ca6d76b690",
        "colab": {
          "base_uri": "https://localhost:8080/"
        }
      },
      "execution_count": 58,
      "outputs": [
        {
          "output_type": "stream",
          "name": "stdout",
          "text": [
            "162 µs ± 35.6 µs per loop (mean ± std. dev. of 7 runs, 10000 loops each)\n"
          ]
        }
      ]
    },
    {
      "cell_type": "code",
      "execution_count": null,
      "metadata": {
        "id": "eJtdQHPloMBz"
      },
      "outputs": [],
      "source": [
        "factorial(5000)"
      ]
    },
    {
      "cell_type": "code",
      "execution_count": null,
      "metadata": {
        "id": "Yg6noxqOoMBz"
      },
      "outputs": [],
      "source": [
        "%%timeit\n",
        "factorial(5000) #"
      ]
    },
    {
      "cell_type": "code",
      "execution_count": null,
      "metadata": {
        "id": "DibPzEG4oMBz"
      },
      "outputs": [],
      "source": [
        "input_arr = [i for i in range(1_000, 30_000, 1_000)]\n",
        "\n",
        "fun2 = automatic_time(input_arr, factorial_loop)\n",
        "plt.plot(input_arr, fun2)\n",
        "plt.xlabel(\"input size\")\n",
        "plt.ylabel(\"running time in seconds\")\n",
        "plt.show()"
      ]
    },
    {
      "cell_type": "code",
      "execution_count": 59,
      "metadata": {
        "id": "uTSpwOE1oMBz",
        "outputId": "18a496ed-5fa8-4a6f-d8c8-1c2cb0e9a8af",
        "colab": {
          "base_uri": "https://localhost:8080/",
          "height": 279
        }
      },
      "outputs": [
        {
          "output_type": "display_data",
          "data": {
            "text/plain": [
              "<Figure size 432x288 with 1 Axes>"
            ],
            "image/png": "[encoded data removed]"
          },
          "metadata": {
            "needs_background": "light"
          }
        }
      ],
      "source": [
        "input_arr = [i for i in range(100, 2_500, 100)]\n",
        "\n",
        "fun2 = automatic_time(input_arr, factorial_loop)\n",
        "plt.plot(input_arr, fun2)\n",
        "fun1 = automatic_time(input_arr, factorial)\n",
        "plt.plot(input_arr, fun1)\n",
        "plt.xlabel(\"input size\")\n",
        "plt.ylabel(\"running time in seconds\")\n",
        "plt.show()\n",
        "# the peaks are from the fact that we run the experiment only once\n",
        "# and our virtual CPU has better things to do at times..."
      ]
    },
    {
      "cell_type": "code",
      "execution_count": null,
      "metadata": {
        "id": "YPVTnvN5oMB0"
      },
      "outputs": [],
      "source": []
    },
    {
      "cell_type": "markdown",
      "metadata": {
        "id": "yyfqqXLnoMB0"
      },
      "source": [
        "# Exercise: Fibonacci\n",
        "\n",
        "The sequence, in which each number is the sum of the two preceding numbers is known as the Fibonacci sequence: $1, 1, 2, 3, 5, 8, 13, 21, 34, 55, 89, 144, 233, 377, 610, 987, 1597, 2584, 4181, \\cdots$ (each number is the sum of the previous two, e.g., $144=55 + 89$).\n",
        "\n",
        "You probably have seen Fibonacci before, this should be familiar. The twist is we are going to look at a variety of ways of implementing it and the complexity of execution for each.\n",
        "\n",
        "A direct implementation of the description above would lead to pseudo code like this:"
      ]
    },
    {
      "cell_type": "code",
      "execution_count": 60,
      "metadata": {
        "id": "BXpLO10ZoMB0"
      },
      "outputs": [],
      "source": [
        "def bad_fibonacci(n):\n",
        "  \"\"\"Return the nth Fibonacci number.\"\"\"\n",
        "  if n <= 1:\n",
        "    return n\n",
        "  else:\n",
        "    return bad_fibonacci(n-2) + bad_fibonacci(n-1)"
      ]
    },
    {
      "cell_type": "code",
      "execution_count": 61,
      "metadata": {
        "id": "ASpEODTcoMB0",
        "outputId": "fdee6176-df37-434c-ddb7-ec1ebf057def",
        "colab": {
          "base_uri": "https://localhost:8080/"
        }
      },
      "outputs": [
        {
          "output_type": "stream",
          "name": "stdout",
          "text": [
            "0\n",
            "1\n",
            "1\n",
            "2\n",
            "3\n",
            "5\n",
            "8\n",
            "13\n",
            "21\n",
            "34\n"
          ]
        }
      ],
      "source": [
        "for n in range(10):\n",
        "    print(bad_fibonacci(n))"
      ]
    },
    {
      "cell_type": "code",
      "execution_count": 62,
      "metadata": {
        "id": "4ymZZOkQoMB1",
        "outputId": "a76dac6e-df50-4251-fa55-2412a6d10f9b",
        "colab": {
          "base_uri": "https://localhost:8080/"
        }
      },
      "outputs": [
        {
          "output_type": "stream",
          "name": "stdout",
          "text": [
            "43.3 µs ± 7.77 µs per loop (mean ± std. dev. of 7 runs, 10000 loops each)\n"
          ]
        }
      ],
      "source": [
        "%%timeit\n",
        "bad_fibonacci(10)"
      ]
    },
    {
      "cell_type": "code",
      "execution_count": 63,
      "metadata": {
        "id": "3-1AurwHoMB1",
        "outputId": "0e3a9312-6557-4856-957d-114e577a4e25",
        "colab": {
          "base_uri": "https://localhost:8080/"
        }
      },
      "outputs": [
        {
          "output_type": "stream",
          "name": "stdout",
          "text": [
            "81.4 µs ± 26 µs per loop (mean ± std. dev. of 7 runs, 10000 loops each)\n"
          ]
        }
      ],
      "source": [
        "%%timeit\n",
        "bad_fibonacci(12)"
      ]
    },
    {
      "cell_type": "code",
      "execution_count": 64,
      "metadata": {
        "id": "F8ZKTRrtoMB1",
        "outputId": "6d23c00b-0025-4bd8-be92-9489d5bbeb09",
        "colab": {
          "base_uri": "https://localhost:8080/"
        }
      },
      "outputs": [
        {
          "output_type": "stream",
          "name": "stdout",
          "text": [
            "418 µs ± 9.66 µs per loop (mean ± std. dev. of 7 runs, 1000 loops each)\n"
          ]
        }
      ],
      "source": [
        "%%timeit\n",
        "bad_fibonacci(16)"
      ]
    },
    {
      "cell_type": "code",
      "execution_count": 65,
      "metadata": {
        "id": "bukSJt_FoMB1",
        "outputId": "19764949-abdd-4ffb-e0dc-064f227cf122",
        "colab": {
          "base_uri": "https://localhost:8080/"
        }
      },
      "outputs": [
        {
          "output_type": "stream",
          "name": "stdout",
          "text": [
            "2.9 ms ± 62.1 µs per loop (mean ± std. dev. of 7 runs, 100 loops each)\n"
          ]
        }
      ],
      "source": [
        "%%timeit\n",
        "bad_fibonacci(20)"
      ]
    },
    {
      "cell_type": "code",
      "execution_count": 66,
      "metadata": {
        "id": "h2qHS4ufoMB1",
        "outputId": "313d7bb6-dee5-402a-91e6-e1e22ac29442",
        "colab": {
          "base_uri": "https://localhost:8080/"
        }
      },
      "outputs": [
        {
          "output_type": "stream",
          "name": "stdout",
          "text": [
            "21.6 ms ± 3.22 ms per loop (mean ± std. dev. of 7 runs, 100 loops each)\n"
          ]
        }
      ],
      "source": [
        "%%timeit\n",
        "bad_fibonacci(24)"
      ]
    },
    {
      "cell_type": "code",
      "execution_count": 67,
      "metadata": {
        "id": "aBfas4yGoMB2",
        "outputId": "2d975bc3-20db-48e2-9feb-e87a3eecd93d",
        "colab": {
          "base_uri": "https://localhost:8080/"
        }
      },
      "outputs": [
        {
          "output_type": "stream",
          "name": "stdout",
          "text": [
            "1.06 s ± 336 ms per loop (mean ± std. dev. of 7 runs, 1 loop each)\n"
          ]
        }
      ],
      "source": [
        "%%timeit\n",
        "bad_fibonacci(32)"
      ]
    },
    {
      "cell_type": "code",
      "execution_count": 68,
      "metadata": {
        "id": "veZFc6deoMB2",
        "outputId": "b3f23683-74d5-42b7-b4a1-86d3f4604d0f",
        "colab": {
          "base_uri": "https://localhost:8080/",
          "height": 282
        }
      },
      "outputs": [
        {
          "output_type": "display_data",
          "data": {
            "text/plain": [
              "<Figure size 432x288 with 1 Axes>"
            ],
            "image/png": "[encoded data removed]"
          },
          "metadata": {
            "needs_background": "light"
          }
        }
      ],
      "source": [
        "input_arr = [i for i in range(1, 35, 1)]\n",
        "\n",
        "fun2 = automatic_time(input_arr, bad_fibonacci)\n",
        "plt.plot(input_arr, fun2)\n",
        "plt.xlabel(\"input size\")\n",
        "plt.ylabel(\"running time in seconds\")\n",
        "plt.show()"
      ]
    },
    {
      "cell_type": "code",
      "execution_count": null,
      "metadata": {
        "id": "QJmjhfx1oMB2"
      },
      "outputs": [],
      "source": [
        "# so bad_fibonacci looks like an exponational complexity"
      ]
    },
    {
      "cell_type": "code",
      "execution_count": 69,
      "metadata": {
        "id": "WQLAvSzroMB2",
        "outputId": "18eb0235-6490-49d4-d68e-4f8f4e636dd9",
        "colab": {
          "base_uri": "https://localhost:8080/",
          "height": 276
        }
      },
      "outputs": [
        {
          "output_type": "display_data",
          "data": {
            "text/plain": [
              "<Figure size 432x288 with 1 Axes>"
            ],
            "image/png": "[encoded data removed]"
          },
          "metadata": {
            "needs_background": "light"
          }
        }
      ],
      "source": [
        "arr = [2**n for n in range(30)]\n",
        "plt.plot(list(range(30)), arr)\n",
        "plt.show()"
      ]
    },
    {
      "cell_type": "code",
      "execution_count": null,
      "metadata": {
        "id": "JlR0D9hpoMB3"
      },
      "outputs": [],
      "source": [
        "# sure smells like exponential"
      ]
    },
    {
      "cell_type": "code",
      "execution_count": null,
      "metadata": {
        "id": "EFXxMqhkoMB3"
      },
      "outputs": [],
      "source": [
        "# what is so bad about bad fibonacci ?\n",
        "# so for each recursive call you get new 2 recursive calls\n",
        "# it is like that story of inventor of chess in India\n",
        "# he asked for 1 grain of rice on first square\n",
        "# 2 on 2nd , 4 on 3rd, 8 on 4th,\n",
        "# the story modification is that king realized the problem\n",
        "# to get out of it king said ok, you have to count the rice \n"
      ]
    },
    {
      "cell_type": "code",
      "execution_count": 70,
      "metadata": {
        "id": "6vmUpXeQoMB3",
        "outputId": "c58277f3-5ade-4c13-968d-a0fc9e1ebd45",
        "colab": {
          "base_uri": "https://localhost:8080/"
        }
      },
      "outputs": [
        {
          "output_type": "execute_result",
          "data": {
            "text/plain": [
              "4294967296"
            ]
          },
          "metadata": {},
          "execution_count": 70
        }
      ],
      "source": [
        "2**32 # he could count half a board"
      ]
    },
    {
      "cell_type": "code",
      "execution_count": 71,
      "metadata": {
        "id": "Zy_s3r8SoMB3",
        "outputId": "3c4e8f13-ea42-4643-e4a3-58fa250040e0",
        "colab": {
          "base_uri": "https://localhost:8080/"
        }
      },
      "outputs": [
        {
          "output_type": "execute_result",
          "data": {
            "text/plain": [
              "18446744073709551616"
            ]
          },
          "metadata": {},
          "execution_count": 71
        }
      ],
      "source": [
        "2**64 # not likely for a human..."
      ]
    },
    {
      "cell_type": "code",
      "execution_count": 72,
      "metadata": {
        "id": "Iuiu8gf4oMB3"
      },
      "outputs": [],
      "source": [
        "\n",
        "\n",
        "def good_fibonacci(n):\n",
        "  \"\"\"Return pair of Fibonacci numbers, F(n) and F(n-1).\"\"\"\n",
        "  if n <= 1:\n",
        "    return (n,0)\n",
        "  else:\n",
        "    (a, b) = good_fibonacci(n-1) # looks linear here\n",
        "    return (a+b, a) # we return a tuple (two heterogenous values)"
      ]
    },
    {
      "cell_type": "code",
      "execution_count": 73,
      "metadata": {
        "id": "s14A0JNMoMB3",
        "outputId": "f46ddab4-73c6-4380-c50d-c73f172c7d29",
        "colab": {
          "base_uri": "https://localhost:8080/"
        }
      },
      "outputs": [
        {
          "output_type": "stream",
          "name": "stdout",
          "text": [
            "3.92 µs ± 295 ns per loop (mean ± std. dev. of 7 runs, 100000 loops each)\n"
          ]
        }
      ],
      "source": [
        "%%timeit\n",
        "good_fibonacci(10)"
      ]
    },
    {
      "cell_type": "code",
      "execution_count": 74,
      "metadata": {
        "id": "0LoU_ANboMB4",
        "outputId": "4d4cb16c-f076-4c22-eee6-613084983915",
        "colab": {
          "base_uri": "https://localhost:8080/"
        }
      },
      "outputs": [
        {
          "output_type": "stream",
          "name": "stdout",
          "text": [
            "4.02 µs ± 187 ns per loop (mean ± std. dev. of 7 runs, 100000 loops each)\n"
          ]
        }
      ],
      "source": [
        "%%timeit\n",
        "good_fibonacci(20)"
      ]
    },
    {
      "cell_type": "code",
      "execution_count": 75,
      "metadata": {
        "id": "l5vbj7v4oMB4",
        "outputId": "4939bf81-81ad-4672-88fe-9b8caabf9de2",
        "colab": {
          "base_uri": "https://localhost:8080/"
        }
      },
      "outputs": [
        {
          "output_type": "stream",
          "name": "stdout",
          "text": [
            "8.14 µs ± 2.53 µs per loop (mean ± std. dev. of 7 runs, 100000 loops each)\n"
          ]
        }
      ],
      "source": [
        "%%timeit\n",
        "good_fibonacci(30)"
      ]
    },
    {
      "cell_type": "code",
      "execution_count": 76,
      "metadata": {
        "id": "080jmIgloMB4",
        "outputId": "d242f4ec-478c-4a42-d705-1405760e133e",
        "colab": {
          "base_uri": "https://localhost:8080/",
          "height": 279
        }
      },
      "outputs": [
        {
          "output_type": "display_data",
          "data": {
            "text/plain": [
              "<Figure size 432x288 with 1 Axes>"
            ],
            "image/png": "[encoded data removed]"
          },
          "metadata": {
            "needs_background": "light"
          }
        }
      ],
      "source": [
        "input_arr = [i for i in range(100, 3_000, 100)]\n",
        "\n",
        "fun2 = automatic_time(input_arr, good_fibonacci)\n",
        "plt.plot(input_arr, fun2)\n",
        "plt.xlabel(\"input size\")\n",
        "plt.ylabel(\"running time in seconds\")\n",
        "plt.show()"
      ]
    },
    {
      "cell_type": "code",
      "execution_count": null,
      "metadata": {
        "id": "Ayr6mvV3oMB4"
      },
      "outputs": [],
      "source": [
        "import sys\n",
        "print(sys.getrecursionlimit())"
      ]
    },
    {
      "cell_type": "code",
      "execution_count": null,
      "metadata": {
        "id": "KDGhaKD-oMB4"
      },
      "outputs": [],
      "source": [
        "#https://stackoverflow.com/questions/3323001/what-is-the-maximum-recursion-depth-in-python-and-how-to-increase-it\n",
        "sys.setrecursionlimit(100_000)\n",
        "print(sys.getrecursionlimit())"
      ]
    },
    {
      "cell_type": "code",
      "execution_count": 77,
      "metadata": {
        "id": "r2BKjwjboMB4",
        "outputId": "eb272da2-e9ec-44e5-9e4b-bbdd10dbe0bf",
        "colab": {
          "base_uri": "https://localhost:8080/"
        }
      },
      "outputs": [
        {
          "output_type": "execute_result",
          "data": {
            "text/plain": [
              "(3878968454388325633701916308325905312082127714646245106160597214895550139044037097010822916462210669479293452858882973813483102008954982940361430156911478938364216563944106910214505634133706558656238254656700712525929903854933813928836378347518908762970712033337052923107693008518093849801803847813996748881765554653788291644268912980384613778969021502293082475666346224923071883324803280375039130352903304505842701147635242270210934637699104006714174883298422891491273104054328753298044273676822977244987749874555691907703880637046832794811358973739993110106219308149018570815397854379195305617510761053075688783766033667355445258844886241619210553457493675897849027988234351023599844663934853256411952221859563060475364645470760330902420806382584929156452876291575759142343809142302917491088984155209854432486594079793571316841692868039545309545388698114665082066862897420639323438488465240988742395873801976993820317174208932265468879364002630797780058759129671389634214252579116872755600360311370547754724604639987588046985178408674382863125,\n",
              " 2397334346100631452333336800023778743396400988090212332865227234032387117767626167465060795065595580850691237390963845987165478074085124644348902530685083246709423858342692329718110162972268152200857232686119638781547238020078362945470777668711057069618425746387920931255084621360135655698456629322111614827324455767748623844363426260372374195153577101298837831208580530677289982029527164306876024342838547454228388796380077029917639469963653048076473269452943584037848773158456736367057460079075603072996653089318046279296240100777360367200040226807430924334616931577257195085793060133817911514540227011756335999604550121968663793604830945238116686325506344893928776515696088851468818023735825546502317562957459506612704850760351077006532507519813600498603205937022956740021970327599548184626715032015801445754074519753924901317605013561516613650173445818028242577356369143977719495739428130191089993769093308407443558168431535751910046557480949313497996285124526992631353143367314930548703966553707195171094152730704138121243470432644848607501)"
            ]
          },
          "metadata": {},
          "execution_count": 77
        }
      ],
      "source": [
        "good_fibonacci(5_000)"
      ]
    },
    {
      "cell_type": "code",
      "execution_count": null,
      "metadata": {
        "id": "5SZMWLmxoMB4"
      },
      "outputs": [],
      "source": [
        "## Fibonacci Solutions\n",
        "\n",
        "1. timing"
      ]
    },
    {
      "cell_type": "code",
      "execution_count": 78,
      "metadata": {
        "id": "zB8NX0IIoMB5"
      },
      "outputs": [],
      "source": [
        "def fibonacci_loop(n):\n",
        "    a, b = 1, 1 # we use tuple unpacking in Python\n",
        "    cnt = 3\n",
        "    while cnt <= n:\n",
        "        a, b = a+b, a # tuple unpacking again, no need for temp variables\n",
        "        cnt += 1\n",
        "    return a"
      ]
    },
    {
      "cell_type": "code",
      "execution_count": null,
      "metadata": {
        "id": "eKgHsBrJoMB5"
      },
      "outputs": [],
      "source": [
        "fibonacci_loop(2)"
      ]
    },
    {
      "cell_type": "code",
      "execution_count": null,
      "metadata": {
        "id": "3VUOhv45oMB5"
      },
      "outputs": [],
      "source": [
        "fibonacci_loop(10)"
      ]
    },
    {
      "cell_type": "code",
      "execution_count": 79,
      "metadata": {
        "id": "uH1IudS4oMB5",
        "outputId": "1d483f5b-db56-44e1-c442-68a03675cb77",
        "colab": {
          "base_uri": "https://localhost:8080/",
          "height": 279
        }
      },
      "outputs": [
        {
          "output_type": "display_data",
          "data": {
            "text/plain": [
              "<Figure size 432x288 with 1 Axes>"
            ],
            "image/png": "[encoded data removed]"
          },
          "metadata": {
            "needs_background": "light"
          }
        }
      ],
      "source": [
        "input_arr = [i for i in range(1000, 200_000, 2000)]\n",
        "\n",
        "fun2 = automatic_time(input_arr, fibonacci_loop)\n",
        "plt.plot(input_arr, fun2)\n",
        "plt.xlabel(\"input size\")\n",
        "plt.ylabel(\"running time in seconds\")\n",
        "plt.show() # again we can see that it looks linear but also there is some extra complexity\n",
        "# from big numbers 200_000th Fibonacci is going to be quite large"
      ]
    },
    {
      "cell_type": "code",
      "execution_count": null,
      "metadata": {
        "id": "Q8wY1JGQoMB5"
      },
      "outputs": [],
      "source": [
        "# 2. It is not tail recursive becuase there is something to do after returning the values (adding them together). We can use 2 accumulators to avoid this."
      ]
    },
    {
      "cell_type": "markdown",
      "metadata": {
        "id": "6vK-81NvoMB5"
      },
      "source": [
        "# Example: Binary Search"
      ]
    },
    {
      "cell_type": "markdown",
      "metadata": {
        "id": "EA-vfdA4oMB5"
      },
      "source": [
        "Binary search is a classic recursive algorithm to find a target value within a sorted sequence. This is among the most important of computer algorithms, and it is the reason that we so often store data in sorted order.\n",
        "\n",
        "e.g. For the sorted sequence below stored in a Python list with indexes above:\n",
        "\n",
        "<table>\n",
        "<tr><th>0</th><th>1</th><th> 2</th><th>3</th><th>4</th><th> 5</th><th>6</th><th>7</th><th> 8</th><th>9</th><th>10</th><th> 11</th> </tr>\n",
        "<tr><td>2</td><td>4</td><td> 5</td><td>6</td><td>8</td><td> 9</td><td>15</td><td>16</td><td> 17</td><td>22</td><td>30</td><td> 31</td> </tr>\n",
        "</table>\n",
        "\n",
        "If the sequence was unsorted a simple solution is a _sequential search algorithm_: use a loop to examine every element. You either reach the end of the list or find the target.\n",
        "\n",
        "It is linear complexity, running in $\\mathcal{O}(n)$ time as worst case it inspects every element in the sequence.\n",
        "\n",
        "A sorted sequence allows a much faster approach. Think about how you would accomplish this task by hand: divide in two, and choose the middle digit as a candidate to compare to the target. Everything to the left of the candidate is lower than it and everything to the right is higher. Compare the target to the candidate and discard the left if the candidate is lower and the right if it is higher. Then repeat your _binary search_ algorithm. This is much more efficient, running in $\\mathcal{O}($log$n$) time.\n",
        "\n",
        "Review the iterative and recursive binary search algorithm implementations below."
      ]
    },
    {
      "cell_type": "code",
      "execution_count": 80,
      "metadata": {
        "id": "js3oMQE5oMB6"
      },
      "outputs": [],
      "source": [
        "def binary_search_iterative(data, target):\n",
        "    \"\"\"Return True if target is found in the given SORTED Python list.\"\"\"\n",
        "    low = 0\n",
        "    high = len(data)-1\n",
        "    while low <= high: # so while array/list pointers do not meet we keep going\n",
        "        mid = (low + high) // 2 # // meaning even half\n",
        "        if target == data[mid]:         # found a match\n",
        "            return True\n",
        "        elif target < data[mid]:\n",
        "            high = mid - 1                # only consider values left of mid\n",
        "        else:\n",
        "            low = mid + 1                 # only consider values right of mid\n",
        "    return False                      # loop ended without success"
      ]
    },
    {
      "cell_type": "code",
      "execution_count": 81,
      "metadata": {
        "id": "_axJZbTKoMB6"
      },
      "outputs": [],
      "source": [
        "def binary_search(data, target, low, high):\n",
        "    \"\"\"Return True if target is found in indicated portion of a Python list.\n",
        "\n",
        "      The search only considers the portion from data[low] to data[high] inclusive.\n",
        "      \"\"\"\n",
        "    if low > high:\n",
        "        return False                    # interval is empty; no match\n",
        "    else:\n",
        "        mid = (low + high) // 2\n",
        "    if target == data[mid]:         # found a match\n",
        "        return True\n",
        "    elif target < data[mid]:\n",
        "        # recur on the portion left of the middle\n",
        "        return binary_search(data, target, low, mid - 1)\n",
        "    else: # target > data[mid]\n",
        "        # recur on the portion right of the middle\n",
        "        return binary_search(data, target, mid + 1, high)"
      ]
    },
    {
      "cell_type": "markdown",
      "metadata": {
        "id": "8OiHKPOKoMB6"
      },
      "source": [
        "When a function makes two recursive calls, we say that it uses binary recursion. Clearly the binary_search above is a binary recursion. Drawing the English ruler and the bad fibonacci function are also examples of binary recursion."
      ]
    },
    {
      "cell_type": "code",
      "execution_count": 82,
      "metadata": {
        "id": "y1F7JT8EoMB6",
        "outputId": "ee65914e-ba2a-48ca-eed5-3b411a098d51",
        "colab": {
          "base_uri": "https://localhost:8080/"
        }
      },
      "outputs": [
        {
          "output_type": "execute_result",
          "data": {
            "text/plain": [
              "False"
            ]
          },
          "metadata": {},
          "execution_count": 82
        }
      ],
      "source": [
        "data=[2,4,5,6,8,9,15,16,17,22,30,31]\n",
        "iter_ans = binary_search_iterative(data,100)\n",
        "iter_ans"
      ]
    },
    {
      "cell_type": "code",
      "execution_count": 83,
      "metadata": {
        "id": "OjIimH7zoMB6",
        "outputId": "04c5365b-ce71-4de4-f936-6ffb231535e6",
        "colab": {
          "base_uri": "https://localhost:8080/"
        }
      },
      "outputs": [
        {
          "output_type": "execute_result",
          "data": {
            "text/plain": [
              "True"
            ]
          },
          "metadata": {},
          "execution_count": 83
        }
      ],
      "source": [
        "binary_search_iterative(data,15)"
      ]
    },
    {
      "cell_type": "code",
      "execution_count": null,
      "metadata": {
        "id": "jXcCj0VNoMB7"
      },
      "outputs": [],
      "source": [
        "binary_search_iterative(data,7)"
      ]
    },
    {
      "cell_type": "code",
      "execution_count": 84,
      "metadata": {
        "id": "ldNBPQ7SoMB7",
        "outputId": "8a946ac9-bd68-4c60-c30c-40d6f3a59cc5",
        "colab": {
          "base_uri": "https://localhost:8080/"
        }
      },
      "outputs": [
        {
          "output_type": "stream",
          "name": "stdout",
          "text": [
            "45.7 ms ± 8.11 ms per loop (mean ± std. dev. of 7 runs, 10 loops each)\n"
          ]
        }
      ],
      "source": [
        "%%timeit\n",
        "binary_search_iterative(list(range(1_000_000)), 9000)"
      ]
    },
    {
      "cell_type": "code",
      "execution_count": 85,
      "metadata": {
        "id": "d2G0XCYvoMB7",
        "outputId": "f7a93c31-b051-4559-e337-55168a9764dc",
        "colab": {
          "base_uri": "https://localhost:8080/"
        }
      },
      "outputs": [
        {
          "output_type": "stream",
          "name": "stdout",
          "text": [
            "52.3 ms ± 8.72 ms per loop (mean ± std. dev. of 7 runs, 10 loops each)\n"
          ]
        }
      ],
      "source": [
        "%%timeit\n",
        "binary_search_iterative(list(range(1_000_000)), 999_000)"
      ]
    },
    {
      "cell_type": "code",
      "execution_count": 87,
      "metadata": {
        "id": "ZQTOPG6toMB7",
        "outputId": "3bbb6751-44a1-4bbd-b13d-125363c7cc1f",
        "colab": {
          "base_uri": "https://localhost:8080/",
          "height": 279
        }
      },
      "outputs": [
        {
          "output_type": "display_data",
          "data": {
            "text/plain": [
              "<Figure size 432x288 with 1 Axes>"
            ],
            "image/png": "[encoded data removed]"
          },
          "metadata": {
            "needs_background": "light"
          }
        }
      ],
      "source": [
        "input_arr = [(list(range(i)), 9000) for i in range(100_000, 1_000_000, 50_000)]\n",
        "\n",
        "fun1 = automatic_time(input_arr, binary_search_iterative)\n",
        "plt.plot([len(el[0]) for el in input_arr], fun1)\n",
        "# fun2 = automatic_time(input_arr, binary_search) # the recursive one\n",
        "# plt.plot([len(el[0]) for el in input_arr], fun2)\n",
        "plt.xlabel(\"input size\")\n",
        "plt.ylabel(\"running time in seconds\")\n",
        "plt.show()"
      ]
    },
    {
      "cell_type": "code",
      "execution_count": null,
      "metadata": {
        "id": "kapByez0oMB9"
      },
      "outputs": [],
      "source": [
        "# so binary search is in log n time we would need a trulyl large data sets to see difference\n",
        "# most of our time is spent linearly setting up our data sets"
      ]
    },
    {
      "cell_type": "code",
      "execution_count": null,
      "metadata": {
        "id": "23MmvHGRoMB-"
      },
      "outputs": [],
      "source": [
        "arr = list(range(1_000_000))\n",
        "big_arr = list(range(100_000_000))"
      ]
    },
    {
      "cell_type": "code",
      "execution_count": null,
      "metadata": {
        "id": "SROdY9YuoMB_",
        "outputId": "0aa8fe45-11ee-4078-8843-79333dbffd91"
      },
      "outputs": [
        {
          "name": "stdout",
          "output_type": "stream",
          "text": [
            "9.56 µs ± 246 ns per loop (mean ± std. dev. of 7 runs, 100000 loops each)\n"
          ]
        }
      ],
      "source": [
        "%%timeit\n",
        "binary_search(arr, 9000, 0, len(arr)-1)"
      ]
    },
    {
      "cell_type": "code",
      "execution_count": null,
      "metadata": {
        "id": "xJ_B-g-NoMCA",
        "outputId": "f5f5d187-bdd8-4957-b0f4-e48fa4809c64"
      },
      "outputs": [
        {
          "name": "stdout",
          "output_type": "stream",
          "text": [
            "7.23 µs ± 120 ns per loop (mean ± std. dev. of 7 runs, 100000 loops each)\n"
          ]
        }
      ],
      "source": [
        "%%timeit\n",
        "binary_search_iterative(arr, 9000)"
      ]
    },
    {
      "cell_type": "code",
      "execution_count": null,
      "metadata": {
        "id": "XVtKP3_joMCB",
        "outputId": "6dc76454-5c83-4282-d7d1-7067249f1bc5"
      },
      "outputs": [
        {
          "name": "stdout",
          "output_type": "stream",
          "text": [
            "17.3 µs ± 483 ns per loop (mean ± std. dev. of 7 runs, 100000 loops each)\n"
          ]
        }
      ],
      "source": [
        "%%timeit\n",
        "binary_search(big_arr, 9000, 0, len(big_arr)-1)"
      ]
    },
    {
      "cell_type": "code",
      "execution_count": null,
      "metadata": {
        "id": "fNTrbbbMoMCC",
        "outputId": "0b232d03-b22d-4649-b180-3ac0cef855b4"
      },
      "outputs": [
        {
          "name": "stdout",
          "output_type": "stream",
          "text": [
            "16 µs ± 150 ns per loop (mean ± std. dev. of 7 runs, 100000 loops each)\n"
          ]
        }
      ],
      "source": [
        "%%timeit\n",
        "binary_search(big_arr, 50_000_000, 0, len(big_arr)-1) # so this should hit with 1 comparison"
      ]
    },
    {
      "cell_type": "code",
      "execution_count": null,
      "metadata": {
        "id": "Euhmq00WoMCD",
        "outputId": "e887c500-f93b-4608-872e-f114ee174d72"
      },
      "outputs": [
        {
          "name": "stdout",
          "output_type": "stream",
          "text": [
            "13.2 µs ± 513 ns per loop (mean ± std. dev. of 7 runs, 100000 loops each)\n"
          ]
        }
      ],
      "source": [
        "%%timeit\n",
        "binary_search_iterative(big_arr, 9000)"
      ]
    },
    {
      "cell_type": "code",
      "execution_count": null,
      "metadata": {
        "id": "xgnrq4tyoMCE",
        "outputId": "c75ca94f-303b-40d3-a147-e4124b3d0ff6"
      },
      "outputs": [
        {
          "name": "stdout",
          "output_type": "stream",
          "text": [
            "12.6 µs ± 468 ns per loop (mean ± std. dev. of 7 runs, 100000 loops each)\n"
          ]
        }
      ],
      "source": [
        "%%timeit\n",
        "binary_search_iterative(big_arr, 50_000_000) # so this should hit with 1 comparison"
      ]
    },
    {
      "cell_type": "code",
      "execution_count": null,
      "metadata": {
        "id": "zRN7kWfboMCE"
      },
      "outputs": [],
      "source": [
        "# so creating a recursive algorithm yourself\n",
        "# check if problem is already solved\n",
        "# otherwise reduce problem to simpler instance of the same problem\n",
        "# in other words Simplify and Delegate the problem"
      ]
    },
    {
      "cell_type": "code",
      "execution_count": null,
      "metadata": {
        "id": "Lyki5tzooMCF"
      },
      "outputs": [],
      "source": [
        "# all recursive algorithms can be transformed to regular loop based algorithms\n",
        "# worst case you build your stack for holding the function calls"
      ]
    },
    {
      "cell_type": "markdown",
      "metadata": {
        "id": "MS3HYAQ4oMCF"
      },
      "source": [
        "## Length of an array"
      ]
    },
    {
      "cell_type": "code",
      "execution_count": null,
      "metadata": {
        "id": "FgipMFGAoMCF"
      },
      "outputs": [],
      "source": [
        "# in case we forgout about len() function ..."
      ]
    },
    {
      "cell_type": "code",
      "execution_count": null,
      "metadata": {
        "id": "a4TBN_SBoMCF"
      },
      "outputs": [],
      "source": [
        "def array_len(x):\n",
        "    if x == []:\n",
        "        return 0\n",
        "    else:\n",
        "        return 1 + array_len(x[1:])"
      ]
    },
    {
      "cell_type": "code",
      "execution_count": null,
      "metadata": {
        "id": "M0hjnmixoMCF",
        "outputId": "64b91794-c5a5-4b95-bc6a-fdf2202e0eb6"
      },
      "outputs": [
        {
          "data": {
            "text/plain": [
              "0"
            ]
          },
          "execution_count": 16,
          "metadata": {},
          "output_type": "execute_result"
        }
      ],
      "source": [
        "array_len([])"
      ]
    },
    {
      "cell_type": "code",
      "execution_count": null,
      "metadata": {
        "id": "wc4EGO1eoMCG",
        "outputId": "86614296-6a00-4822-da1e-e638a6b6db48"
      },
      "outputs": [
        {
          "data": {
            "text/plain": [
              "3"
            ]
          },
          "execution_count": 17,
          "metadata": {},
          "output_type": "execute_result"
        }
      ],
      "source": [
        "array_len([1, 2, 3])"
      ]
    },
    {
      "cell_type": "code",
      "execution_count": null,
      "metadata": {
        "id": "EOUxZ623oMCG",
        "outputId": "bfceddd8-5ae8-41e7-d1aa-9a809e8c15e2"
      },
      "outputs": [
        {
          "data": {
            "text/plain": [
              "2961"
            ]
          },
          "execution_count": 29,
          "metadata": {},
          "output_type": "execute_result"
        }
      ],
      "source": [
        "array_len(list(range(2961))) # so it looks like 3000 limit is actually 2961 (presumably stack needs space for other functions)"
      ]
    },
    {
      "cell_type": "markdown",
      "metadata": {
        "id": "HVJDqM8UoMCG"
      },
      "source": [
        "## Sum of the elements in an array"
      ]
    },
    {
      "cell_type": "code",
      "execution_count": 88,
      "metadata": {
        "id": "YfhSXvZroMCH",
        "outputId": "1515411c-2732-4f81-a161-154a93176318",
        "colab": {
          "base_uri": "https://localhost:8080/"
        }
      },
      "outputs": [
        {
          "output_type": "execute_result",
          "data": {
            "text/plain": [
              "23"
            ]
          },
          "metadata": {},
          "execution_count": 88
        }
      ],
      "source": [
        "# in case we forgot about sum() function ...\n",
        "sum([2,6,10,5])"
      ]
    },
    {
      "cell_type": "code",
      "execution_count": 89,
      "metadata": {
        "id": "X0jLxm_4oMCH"
      },
      "outputs": [],
      "source": [
        "def array_sum(x):\n",
        "    if x == []:\n",
        "        return 0 # our base\n",
        "    else:\n",
        "        return x[0] + array_sum(x[1:]) # so we sum the first element and then recursively call on slice form 2nd element and on"
      ]
    },
    {
      "cell_type": "code",
      "execution_count": 90,
      "metadata": {
        "id": "0bWSXXi3oMCH",
        "outputId": "90d0f743-3bce-4410-efe2-7a8b774d2793",
        "colab": {
          "base_uri": "https://localhost:8080/"
        }
      },
      "outputs": [
        {
          "output_type": "execute_result",
          "data": {
            "text/plain": [
              "0"
            ]
          },
          "metadata": {},
          "execution_count": 90
        }
      ],
      "source": [
        "array_sum([])"
      ]
    },
    {
      "cell_type": "code",
      "execution_count": 91,
      "metadata": {
        "id": "QnYf9VZ7oMCH",
        "outputId": "2571d0ea-44fa-4d9e-f4f8-fcaa77da2fd6",
        "colab": {
          "base_uri": "https://localhost:8080/"
        }
      },
      "outputs": [
        {
          "output_type": "execute_result",
          "data": {
            "text/plain": [
              "5"
            ]
          },
          "metadata": {},
          "execution_count": 91
        }
      ],
      "source": [
        "array_sum([5])"
      ]
    },
    {
      "cell_type": "code",
      "execution_count": 92,
      "metadata": {
        "id": "Q-4aFrqxoMCH",
        "outputId": "14db2283-5206-4d4b-c44d-7b2fd275239c",
        "colab": {
          "base_uri": "https://localhost:8080/"
        }
      },
      "outputs": [
        {
          "output_type": "execute_result",
          "data": {
            "text/plain": [
              "15"
            ]
          },
          "metadata": {},
          "execution_count": 92
        }
      ],
      "source": [
        "array_sum([1, 2, 3, 4, 5])"
      ]
    },
    {
      "cell_type": "code",
      "execution_count": 93,
      "metadata": {
        "id": "cSw4pff6oMCH",
        "outputId": "ef538922-ff99-468e-ee62-28c5a9d30b62",
        "colab": {
          "base_uri": "https://localhost:8080/"
        }
      },
      "outputs": [
        {
          "output_type": "execute_result",
          "data": {
            "text/plain": [
              "5050"
            ]
          },
          "metadata": {},
          "execution_count": 93
        }
      ],
      "source": [
        "array_sum(list(range(101))) # remember the formula for summing arithmethic series n(n-1)/2"
      ]
    },
    {
      "cell_type": "code",
      "execution_count": null,
      "metadata": {
        "id": "NcquZpg2oMCI",
        "outputId": "44b92fe1-c428-4911-adb4-f3d95bdc9ae6"
      },
      "outputs": [
        {
          "data": {
            "text/plain": [
              "4382280"
            ]
          },
          "execution_count": 37,
          "metadata": {},
          "output_type": "execute_result"
        }
      ],
      "source": [
        "array_sum(list(range(2961)))"
      ]
    },
    {
      "cell_type": "code",
      "source": [
        "first_1k = list(range(1,1001))\n",
        "first_5k = list(range(1,5001))"
      ],
      "metadata": {
        "id": "k7h3n1nyqsJ_"
      },
      "execution_count": 94,
      "outputs": []
    },
    {
      "cell_type": "code",
      "source": [
        "%%timeit\n",
        "array_sum(first_1k)"
      ],
      "metadata": {
        "id": "LU9dy-xNq2Pn",
        "outputId": "2940e908-eaf0-4643-d717-3ec5d16bae08",
        "colab": {
          "base_uri": "https://localhost:8080/"
        }
      },
      "execution_count": 95,
      "outputs": [
        {
          "output_type": "stream",
          "name": "stdout",
          "text": [
            "2.54 ms ± 418 µs per loop (mean ± std. dev. of 7 runs, 100 loops each)\n"
          ]
        }
      ]
    },
    {
      "cell_type": "code",
      "source": [
        "%%timeit\n",
        "array_sum(first_5k)"
      ],
      "metadata": {
        "id": "eBMKj0Lqq7Tw",
        "outputId": "62544bb9-ff02-4d53-f393-a56da09a7ec5",
        "colab": {
          "base_uri": "https://localhost:8080/"
        }
      },
      "execution_count": 96,
      "outputs": [
        {
          "output_type": "stream",
          "name": "stdout",
          "text": [
            "57.6 ms ± 4.36 ms per loop (mean ± std. dev. of 7 runs, 10 loops each)\n"
          ]
        }
      ]
    },
    {
      "cell_type": "code",
      "source": [
        "def array_sum_tail_first(my_list):\n",
        "    if my_list == []:\n",
        "        return 0 # our base\n",
        "    else:\n",
        "        return my_list[-1] + array_sum_tail_first(my_list[:-1]) # so we cut our values from tail first"
      ],
      "metadata": {
        "id": "qGIRDVgLrFMJ"
      },
      "execution_count": 97,
      "outputs": []
    },
    {
      "cell_type": "code",
      "source": [
        "%%timeit\n",
        "array_sum_tail_first(first_1k)"
      ],
      "metadata": {
        "id": "5smUr2nXrhRs",
        "outputId": "1d69f1aa-1f88-47e8-8e49-611f2e133380",
        "colab": {
          "base_uri": "https://localhost:8080/"
        }
      },
      "execution_count": 98,
      "outputs": [
        {
          "output_type": "stream",
          "name": "stdout",
          "text": [
            "1.96 ms ± 323 µs per loop (mean ± std. dev. of 7 runs, 1000 loops each)\n"
          ]
        }
      ]
    },
    {
      "cell_type": "code",
      "source": [
        "%%timeit\n",
        "array_sum_tail_first(first_5k)"
      ],
      "metadata": {
        "id": "aKRMk1x2rpT-",
        "outputId": "f14b4c51-99b8-47c2-bb16-700b1fb27ba6",
        "colab": {
          "base_uri": "https://localhost:8080/"
        }
      },
      "execution_count": 99,
      "outputs": [
        {
          "output_type": "stream",
          "name": "stdout",
          "text": [
            "66.9 ms ± 9.87 ms per loop (mean ± std. dev. of 7 runs, 10 loops each)\n"
          ]
        }
      ]
    },
    {
      "cell_type": "code",
      "source": [
        "# so in this particular case whether we start cutting our array/list from beginning or end did no make a significant difference\n",
        "# there are many cases where it does make a difference"
      ],
      "metadata": {
        "id": "nCZYqBnIr1SI"
      },
      "execution_count": null,
      "outputs": []
    },
    {
      "cell_type": "markdown",
      "metadata": {
        "id": "f3mABKIcoMCI"
      },
      "source": [
        "# Tower of Hanoi\n",
        "![tower](https://upload.wikimedia.org/wikipedia/commons/thumb/0/07/Tower_of_Hanoi.jpeg/600px-Tower_of_Hanoi.jpeg)\n",
        "\n",
        "* must not move more than one disc at a time \n",
        "* must place this disc on a needle so that there is no smaller disc below it"
      ]
    },
    {
      "cell_type": "code",
      "source": [
        "def recursive_hanoi(n, src, dst, tmp):\n",
        "    '''\n",
        "    n - how many disks to move\n",
        "    src - source peg\n",
        "    dst - destination peg\n",
        "    tmp - temporary (middle peg in the picture above to be used for transfers)\n",
        "    '''\n",
        "    # base\n",
        "    if n == 0:\n",
        "        print(\"We are done\")\n",
        "        return\n",
        "    else:\n",
        "    # reduce\n",
        "        recursive_hanoi(n-1, src, tmp,dst) # we move the smaller dist to tmp peg\n",
        "        # TODO code to move the biggest peg to destination\n",
        "        recursive_hanoi(n-1, tmp, dst,src) # move the smallest disks to destination peg"
      ],
      "metadata": {
        "id": "9PMjyJptsVXj"
      },
      "execution_count": null,
      "outputs": []
    },
    {
      "cell_type": "markdown",
      "metadata": {
        "id": "kEHulOQeoMCI"
      },
      "source": [
        "## Quicksort - more about sorting later on"
      ]
    },
    {
      "cell_type": "code",
      "execution_count": null,
      "metadata": {
        "id": "fSRJZYWLoMCI"
      },
      "outputs": [],
      "source": [
        "def quicksort(array):\n",
        "    if len(array) < 2:\n",
        "        return array\n",
        "    else:\n",
        "        pivot = array[0]\n",
        "        smaller, bigger = [], []\n",
        "        for ele in array[1:]:\n",
        "            if ele <= pivot:\n",
        "                smaller.append(ele)\n",
        "            else:\n",
        "                bigger.append(ele)\n",
        "        return quicksort(smaller) + [pivot] + quicksort(bigger)"
      ]
    },
    {
      "cell_type": "code",
      "execution_count": null,
      "metadata": {
        "id": "mx2Jei5toMCI"
      },
      "outputs": [],
      "source": [
        "quicksort([])"
      ]
    },
    {
      "cell_type": "code",
      "execution_count": null,
      "metadata": {
        "id": "ycaZzYItoMCI"
      },
      "outputs": [],
      "source": [
        "quicksort([5])"
      ]
    },
    {
      "cell_type": "code",
      "execution_count": null,
      "metadata": {
        "id": "N4tgy3n1oMCI"
      },
      "outputs": [],
      "source": [
        "quicksort([5, 4])"
      ]
    },
    {
      "cell_type": "code",
      "execution_count": null,
      "metadata": {
        "id": "n0gjcNvZoMCI"
      },
      "outputs": [],
      "source": [
        "quicksort([1, 2, 7, 5, 4])"
      ]
    },
    {
      "cell_type": "code",
      "execution_count": null,
      "metadata": {
        "id": "5LdWJPRKoMCJ"
      },
      "outputs": [],
      "source": [
        "quicksort([5, 4, 3, 2])"
      ]
    }
  ],
  "metadata": {
    "kernelspec": {
      "display_name": "Python 3",
      "language": "python",
      "name": "python3"
    },
    "language_info": {
      "codemirror_mode": {
        "name": "ipython",
        "version": 3
      },
      "file_extension": ".py",
      "mimetype": "text/x-python",
      "name": "python",
      "nbconvert_exporter": "python",
      "pygments_lexer": "ipython3",
      "version": "3.8.3"
    },
    "colab": {
      "provenance": []
    }
  },
  "nbformat": 4,
  "nbformat_minor": 0
}