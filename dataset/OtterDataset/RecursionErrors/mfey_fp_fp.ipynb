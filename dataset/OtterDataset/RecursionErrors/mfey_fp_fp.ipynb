{
 "cells": [
  {
   "cell_type": "markdown",
   "metadata": {},
   "source": [
    "# Functional Programming Workshop\n",
    "\n",
    "This is a short dive into FP concepts and the `functools` module of the Python std lib. We'll focus on things that aren't too Python-specific, and touch on the ideas behind popular async and parallel execution strategies along the way.\n",
    "\n",
    "This document is organised as follows.\n",
    "  1. Introduction to (Pure) Functions\n",
    "  2. Higher order functions (with an emphasis on the ideas behind Map/Reduce)\n",
    "  3. Functional Design & Patterns\n",
    "  4. Control Flow\n",
    "\n",
    "\n",
    "Throughout, remember that programming paradigms (Object-Oriented, Procedural, Functional, etc.) are just stylistic recommendations. An accomplished artist understands the rules of their craft and may, if they choose, intentionally break the rules to produce a desired effect. \n",
    "\n",
    "# 1) Functions\n",
    "\n",
    "## 1.1) Anonymous Functions (lambda)\n",
    "\n",
    "Python functions are canonically defined with\n",
    "\n",
    "```def fname (fargs):\\n\\t```\n",
    "\n",
    "but in many circumstances it will be useful to create use-once-and-throw-away functions, for which coming up with names is not necessary."
   ]
  },
  {
   "cell_type": "code",
   "execution_count": 1,
   "metadata": {
    "scrolled": false
   },
   "outputs": [
    {
     "name": "stdout",
     "output_type": "stream",
     "text": [
      "4\n",
      "-5\n"
     ]
    }
   ],
   "source": [
    "f = (lambda x: x+1) # implicit return, fits on one line. Parentheses optional, but more readable.\n",
    "print(f(3)) # you can call them like regular functions\n",
    "\n",
    "print((lambda x : -3*x+7)(4)) # Once again, but now without polluting the global namespace\n",
    "\n",
    "del f"
   ]
  },
  {
   "cell_type": "markdown",
   "metadata": {},
   "source": [
    "The most commons uses of anonymous functions are (i) mapping a throw-away function over a collection, and (ii) filtering collection elements using a throw-away predicate function (i.e. a function with type `[?] -> Boolean`). Here's a little spoiler of what's to come:"
   ]
  },
  {
   "cell_type": "code",
   "execution_count": 2,
   "metadata": {
    "scrolled": true
   },
   "outputs": [
    {
     "name": "stdout",
     "output_type": "stream",
     "text": [
      "6\n",
      "8\n",
      "10\n",
      "12\n",
      "14\n"
     ]
    }
   ],
   "source": [
    "a = map((lambda x:x+6), [0,1,2,3,4,5,6,7,8,9]) # apply the \"add six\" function to each element\n",
    "b = filter((lambda x: x%2 == 0), a) # only keep elements that are even numbers\n",
    "\n",
    "#print(list(a))\n",
    "\n",
    "for x in b:\n",
    "    print(x)\n",
    "    \n",
    "del a, b"
   ]
  },
  {
   "cell_type": "markdown",
   "metadata": {},
   "source": [
    "## 1.2) Pure Functions\n",
    "\n",
    "The foundation of Functional programming is... well... functions. The distinction between functions and procedures is that a function computes and returns a value, while a procedure executes commands (typically to modify their surroundings). Between pure functions and pure procedures, there's a grey area of so-called *impure* functions."
   ]
  },
  {
   "cell_type": "code",
   "execution_count": 3,
   "metadata": {
    "scrolled": true
   },
   "outputs": [
    {
     "name": "stdout",
     "output_type": "stream",
     "text": [
      "1.1015932908462354\n",
      "None\n"
     ]
    }
   ],
   "source": [
    "import time, random\n",
    "state = 3\n",
    "\n",
    "def impure_assign (x):\n",
    "    global state          # Notice that these\n",
    "    state = x             # procedures aren't...\n",
    "    \n",
    "def impure_output (x):    # ... even using the\n",
    "    print(x)              # return statement!\n",
    "    \n",
    "def impure_error ():      # Side effects are basically \n",
    "    temp = \"str\"+42       # anything except computing\n",
    "    return temp           # and returning a value.\n",
    "\n",
    "def impure_wait (x):\n",
    "    time.sleep(x)\n",
    "    return x\n",
    "\n",
    "def impure_nondeterministic (x):\n",
    "    global state         # I have no idea what the global\n",
    "    return state + x     # state will be when I run this.\n",
    "\n",
    "# If you don't modify your surroundings eventually, you're basically just\n",
    "# using your CPU as an electric heater. But, you can use impurity responsibly.\n",
    "\n",
    "# Functional programming is about avoiding code like this:\n",
    "state = random.random()\n",
    "impure_assign(impure_wait(impure_nondeterministic(1)));\n",
    "impure_output(impure_output(state));\n",
    "\n",
    "del state\n",
    "del impure_assign, impure_output, impure_wait, impure_error"
   ]
  },
  {
   "cell_type": "markdown",
   "metadata": {},
   "source": [
    "A function is *pure* when it promises not to do anything except compute and return some value. It's possible to make finer distinctions between kinds and degrees side effects, and what kinds of properties functions gain or lose by engaging in them (e.g. parallelisability, referential transparency), but that's a bit too involved for this first incursion.\n",
    "\n",
    "## 1.3) Contrast with the Imperative style\n",
    "\n",
    "In functional programming, you tell the computer _what_ to do instead of _how_ to do it. It's up to language designers and compiler writers to figure out _how_ to do _what_ you said.\n",
    "\n",
    "One consequence of this is that you might even not know (or care) how the computer is producing what you asked to compute. In OOP, data is encapsulated (in objects) and functionality is exposed (in methods). In FP, it's the opposite: data is public and functionality is encapsulated (in functions)."
   ]
  },
  {
   "cell_type": "code",
   "execution_count": 4,
   "metadata": {
    "scrolled": true
   },
   "outputs": [
    {
     "name": "stdout",
     "output_type": "stream",
     "text": [
      "[1, 3, 5] [2, 4, 6, 7, 8, 9, 10]\n",
      "[1, 3, 5] [2, 4, 6, 7, 8, 9, 10]\n"
     ]
    }
   ],
   "source": [
    "# Avoiding side effects whenever possible makes programming a lot easier.\n",
    "\n",
    "# Compare imperative (+ side effects):\n",
    "a = []\n",
    "b = [1,2,3,4,5,6,7,8,9,10] \n",
    "i = b[0]\n",
    "j = 0\n",
    "while i <= 5:\n",
    "    if i % 2 == 0:\n",
    "        j += 1\n",
    "    else:\n",
    "        a.append(i)\n",
    "        b.remove(i)\n",
    "    i = b[j]\n",
    "print(a,b)\n",
    "\n",
    "del a, b, i, j\n",
    "\n",
    "# vs declarative (no side effects):\n",
    "small = (lambda x: x<=5)\n",
    "odd = (lambda x: x%2!=0)\n",
    "ls = [1,2,3,4,5,6,7,8,9,10]\n",
    "\n",
    "# python has syntacic sugar for map/filter: comprehensions\n",
    "a = [x for x in ls if small(x) and odd(x)]\n",
    "b = [x for x in ls if not (small(x) and odd(x))]\n",
    "print(a,b)\n",
    "\n",
    "del small, ls, a, b"
   ]
  },
  {
   "cell_type": "markdown",
   "metadata": {},
   "source": [
    "These two approaches have their benefits and their tradeoffs. The first approach is efficient in memory and in computation time -- it is actually _O(const)_ since it terminates as soon as the numbers in `b` aren't small -- while the second approach, while _O(n)_, still works on lists that haven't been pre-sorted, and is parallelisable (more on this later).\n",
    "\n",
    "The approach I'd recommend is not to ban all side-effects, but to limit the use of side effects to the inside of functions, so that the functions you're using are both pure and efficient. That said, generally you should try to stay declarative throughout and only tell the computer _how_ to do _what_ you want when you think you know better than the language designer / compiler. And that should not be very often.\n",
    "\n",
    "\n",
    "# 2) Higher-Order Functions (HOFs)\n",
    "\n",
    "Earlier, you saw a spolier of the `map` and `filter` functions in Python. These are instances of higher-order functions."
   ]
  },
  {
   "cell_type": "code",
   "execution_count": 5,
   "metadata": {
    "scrolled": true
   },
   "outputs": [
    {
     "name": "stdout",
     "output_type": "stream",
     "text": [
      "13\n",
      "17\n",
      "4\n"
     ]
    }
   ],
   "source": [
    "# functions can be consumed and returned as values in other functions:\n",
    "\n",
    "def derivative (f, epsilon=0.01):\n",
    "    return (lambda x: (f(x+epsilon)-f(x-epsilon))/(2*epsilon))\n",
    "\n",
    "f = lambda x: 2*x**2+x+4\n",
    "df = derivative(f)\n",
    "ddf = derivative(df)\n",
    "\n",
    "print(round(df(3)))\n",
    "print(round(df(4)))\n",
    "\n",
    "print(round(ddf(0)))\n",
    "\n",
    "del derivative, f, df, ddf"
   ]
  },
  {
   "cell_type": "code",
   "execution_count": 6,
   "metadata": {
    "scrolled": true
   },
   "outputs": [
    {
     "name": "stdout",
     "output_type": "stream",
     "text": [
      "1\n",
      "2\n",
      "3\n",
      ":-)\n",
      "\n",
      "13 <-- bug in Python list comprehension scoping?\n",
      "11 <-- bug in Python list comprehension scoping?\n",
      "5  <-- expected answer\n",
      "6  <-- expected answer\n"
     ]
    }
   ],
   "source": [
    "# map is no different: just a function that consumes a function to compute its value. \n",
    "def my_map(f, args):\n",
    "    return [f(x) for x in args] # `map` is basically the same idea as comprehensions and `for` loops\n",
    "\n",
    "my_map(print, [1,2,3,\":-)\\n\"])\n",
    "\n",
    "\n",
    "# Watch out: Subtle scoping difference\n",
    "adderlist1 = [(lambda n: i + n) for i in [0,1,2,3,4,5,6,7,8,9,10]]\n",
    "adderlist2 = my_map((lambda i: (lambda n: n+i)),[0,1,2,3,4,5,6,7,8,9,10])\n",
    "\n",
    "print(adderlist1[2](3), \"<-- bug in Python list comprehension scoping?\")\n",
    "print(adderlist1[5](1), \"<-- bug in Python list comprehension scoping?\")\n",
    "print(adderlist2[2](3), \" <-- expected answer\")\n",
    "print(adderlist2[5](1), \" <-- expected answer\")\n",
    "\n",
    "del adderlist1, adderlist2, my_map"
   ]
  },
  {
   "cell_type": "code",
   "execution_count": 7,
   "metadata": {
    "scrolled": true
   },
   "outputs": [
    {
     "name": "stdout",
     "output_type": "stream",
     "text": [
      "['4', '2', '5']\n",
      "['5', '2', '4']\n"
     ]
    }
   ],
   "source": [
    "def flip (f):\n",
    "    return (lambda *args: f(*reversed(args)))\n",
    "\n",
    "vec = (lambda *args: list(map(str,args)))\n",
    "\n",
    "print(vec(4,2,5))\n",
    "print(flip(vec)(4,2,5))\n",
    "del vec, flip"
   ]
  },
  {
   "cell_type": "code",
   "execution_count": 8,
   "metadata": {
    "scrolled": true
   },
   "outputs": [
    {
     "ename": "TypeError",
     "evalue": "'NoneType' object is not callable",
     "output_type": "error",
     "traceback": [
      "\u001b[0;31m---------------------------------------------------------------------------\u001b[0m",
      "\u001b[0;31mTypeError\u001b[0m                                 Traceback (most recent call last)",
      "\u001b[0;32m<ipython-input-8-22bfa4ea998f>\u001b[0m in \u001b[0;36m<module>\u001b[0;34m()\u001b[0m\n\u001b[1;32m      5\u001b[0m \u001b[0;31m# Unit tests:\u001b[0m\u001b[0;34m\u001b[0m\u001b[0;34m\u001b[0m\u001b[0m\n\u001b[1;32m      6\u001b[0m \u001b[0;34m\u001b[0m\u001b[0m\n\u001b[0;32m----> 7\u001b[0;31m \u001b[0;32massert\u001b[0m \u001b[0mf\u001b[0m\u001b[0;34m(\u001b[0m\u001b[0;32mlambda\u001b[0m \u001b[0mx\u001b[0m\u001b[0;34m:\u001b[0m \u001b[0mx\u001b[0m\u001b[0;34m%\u001b[0m\u001b[0;36m2\u001b[0m\u001b[0;34m==\u001b[0m\u001b[0;36m0\u001b[0m\u001b[0;34m)\u001b[0m \u001b[0;34m==\u001b[0m \u001b[0;32mTrue\u001b[0m\u001b[0;34m\u001b[0m\u001b[0m\n\u001b[0m\u001b[1;32m      8\u001b[0m \u001b[0;32massert\u001b[0m \u001b[0mf\u001b[0m\u001b[0;34m(\u001b[0m\u001b[0;32mlambda\u001b[0m \u001b[0mx\u001b[0m\u001b[0;34m:\u001b[0m \u001b[0;34m-\u001b[0m\u001b[0;36m3\u001b[0m\u001b[0;34m*\u001b[0m\u001b[0mx\u001b[0m \u001b[0;34m+\u001b[0m\u001b[0;36m7\u001b[0m\u001b[0;34m)\u001b[0m \u001b[0;34m==\u001b[0m \u001b[0;32mFalse\u001b[0m\u001b[0;34m\u001b[0m\u001b[0m\n\u001b[1;32m      9\u001b[0m \u001b[0;32massert\u001b[0m \u001b[0mf\u001b[0m\u001b[0;34m(\u001b[0m\u001b[0mstr\u001b[0m\u001b[0;34m)\u001b[0m\u001b[0;34m==\u001b[0m\u001b[0;32mFalse\u001b[0m\u001b[0;34m\u001b[0m\u001b[0m\n",
      "\u001b[0;31mTypeError\u001b[0m: 'NoneType' object is not callable"
     ]
    }
   ],
   "source": [
    "# Exercise: Write a function that checks whether an input function int -> [?] returns a boolean or not\n",
    "\n",
    "f = None # <your answer here>\n",
    "\n",
    "# Unit tests:\n",
    "\n",
    "assert f(lambda x: x%2==0) == True\n",
    "assert f(lambda x: -3*x +7) == False\n",
    "assert f(str)==False\n",
    "print(\"Success!\")"
   ]
  },
  {
   "cell_type": "code",
   "execution_count": 9,
   "metadata": {
    "collapsed": true,
    "scrolled": true
   },
   "outputs": [],
   "source": [
    "# Solution\n",
    "\n",
    "\n",
    "\n",
    "\n",
    "\n",
    "\n",
    "\n",
    "\n",
    "\n",
    "# Don't peek!\n",
    "\n",
    "\n",
    "\n",
    "\n",
    "\n",
    "\n",
    "\n",
    "\n",
    "\n",
    "\n",
    "\n",
    "f = (lambda f: type(f(42)) == type(True)) # Not the most elegant, but it passes the tests...\n",
    "\n",
    "assert f(lambda x: x%2==0) == True\n",
    "assert f(lambda x: -3*x +7) == False\n",
    "assert f(str)==False"
   ]
  },
  {
   "cell_type": "markdown",
   "metadata": {
    "collapsed": true
   },
   "source": [
    "## 2.2) Currying and Composing\n",
    "\n",
    "Software development is easiest when you're reusing code instead of rewriting it. In Functional programming, the code you focus on reusing is ... well, functions.\n",
    "\n",
    "In OOP, you'd take a general class and subclass it to get your specialised functionality. In FP, you specialise a general function by fixing some of its inputs. This is known as Currying (named after a person, no relation to food), aka partial application."
   ]
  },
  {
   "cell_type": "code",
   "execution_count": 10,
   "metadata": {
    "scrolled": true
   },
   "outputs": [
    {
     "name": "stdout",
     "output_type": "stream",
     "text": [
      "5\n",
      "WARNING: Don't feed the working students!\n",
      "[-1, 1]\n"
     ]
    }
   ],
   "source": [
    "# Currying a function\n",
    "from functools import partial\n",
    "\n",
    "# `partial` consumes a general function, and returns a specialised function with some of its arguments fixed.\n",
    "\n",
    "add = (lambda x,y : x+y)\n",
    "neq = (lambda x,y : x != y)\n",
    "\n",
    "inc = partial(add, 1) # incrementing is a special kind of adding\n",
    "print(inc(4))\n",
    "\n",
    "warn = partial(print,\"WARNING:\") # warning is a special kind of printing\n",
    "warn(\"Don't feed the working students!\")\n",
    "\n",
    "rm_zeroes = partial(filter, partial(neq,0)) # cleaning a dataset\n",
    "print(list(rm_zeroes([-1,0,1])))\n",
    "\n",
    "del inc, warn, neq"
   ]
  },
  {
   "cell_type": "code",
   "execution_count": 11,
   "metadata": {
    "scrolled": true
   },
   "outputs": [
    {
     "name": "stdout",
     "output_type": "stream",
     "text": [
      "6 5\n",
      "[-1, 1]\n"
     ]
    }
   ],
   "source": [
    "# The most important HOF (IMHO) is composition.\n",
    "# Because Guido doesn't like functional programming, we'll have to write it ourself:\n",
    "\n",
    "# Given two functions f(y) and g(x), return fog(x) = f(g(x))\n",
    "# Notice: the innermost function (g) is called first, then the leftmost function (f) is called on the result\n",
    "def compose(f,g):\n",
    "    return (lambda *args, **kwargs :f(g(*args, **kwargs)))\n",
    "\n",
    "fog = compose(lambda y:y*2,lambda x: x+1)\n",
    "alt = compose(lambda x:x+1,lambda y:y*2)\n",
    "\n",
    "print(fog(2),alt(2))\n",
    "\n",
    "from math import isfinite\n",
    "rm_Nans = partial(filter,isfinite)\n",
    "\n",
    "f = compose(list,compose(rm_Nans,rm_zeroes)) # read from right to left\n",
    "print(f([-1,0,1,float('Nan'),float('+inf')]))\n",
    "\n",
    "del fog, alt, rm_Nans, f"
   ]
  },
  {
   "cell_type": "markdown",
   "metadata": {},
   "source": [
    "As a subjective estimate, 80% Functional programming consists in composing and currying functions. It is so common that in the functional language [Haskell](https://www.haskell.org/) both of these operations are actually represented by the whitespace character (for readability).\n",
    "\n",
    "Writing functions using composition and partial application of other functions (instead of defining them with lambdas) is known as *tacit* functional programming, or _function-level_ programming. It's functional programming in its purest form: your code won't even need explicit variables any more!"
   ]
  },
  {
   "cell_type": "code",
   "execution_count": 12,
   "metadata": {
    "scrolled": true
   },
   "outputs": [
    {
     "ename": "TypeError",
     "evalue": "'NoneType' object is not callable",
     "output_type": "error",
     "traceback": [
      "\u001b[0;31m---------------------------------------------------------------------------\u001b[0m",
      "\u001b[0;31mTypeError\u001b[0m                                 Traceback (most recent call last)",
      "\u001b[0;32m<ipython-input-12-d3c20a9c95e1>\u001b[0m in \u001b[0;36m<module>\u001b[0;34m()\u001b[0m\n\u001b[1;32m     10\u001b[0m \u001b[0;34m\u001b[0m\u001b[0m\n\u001b[1;32m     11\u001b[0m \u001b[0;31m# Unit tests\u001b[0m\u001b[0;34m\u001b[0m\u001b[0;34m\u001b[0m\u001b[0m\n\u001b[0;32m---> 12\u001b[0;31m \u001b[0;32massert\u001b[0m \u001b[0mf\u001b[0m\u001b[0;34m(\u001b[0m\u001b[0;36m0\u001b[0m\u001b[0;34m)\u001b[0m\u001b[0;34m==\u001b[0m\u001b[0;36m7\u001b[0m\u001b[0;34m\u001b[0m\u001b[0m\n\u001b[0m\u001b[1;32m     13\u001b[0m \u001b[0;32massert\u001b[0m \u001b[0mf\u001b[0m\u001b[0;34m(\u001b[0m\u001b[0;36m1\u001b[0m\u001b[0;34m)\u001b[0m\u001b[0;34m==\u001b[0m\u001b[0;36m4\u001b[0m\u001b[0;34m\u001b[0m\u001b[0m\n\u001b[1;32m     14\u001b[0m \u001b[0;32massert\u001b[0m \u001b[0mf\u001b[0m\u001b[0;34m(\u001b[0m\u001b[0;36m4\u001b[0m\u001b[0;34m)\u001b[0m\u001b[0;34m==\u001b[0m\u001b[0;34m-\u001b[0m\u001b[0;36m5\u001b[0m\u001b[0;34m\u001b[0m\u001b[0m\n",
      "\u001b[0;31mTypeError\u001b[0m: 'NoneType' object is not callable"
     ]
    }
   ],
   "source": [
    "# Exercise: Write a function for the polynomial -3x + 7 using only\n",
    "# partial application and composition of the following functions:\n",
    "\n",
    "add = (lambda x,y:x+y)\n",
    "mult = (lambda x,y:x*y)\n",
    "\n",
    "# Do NOT use `def` or `lambda` in your solution.\n",
    "\n",
    "f = None # <Your answer here>\n",
    "\n",
    "# Unit tests\n",
    "assert f(0)==7\n",
    "assert f(1)==4\n",
    "assert f(4)==-5\n",
    "print(\"Success!\")"
   ]
  },
  {
   "cell_type": "code",
   "execution_count": 13,
   "metadata": {
    "collapsed": true,
    "scrolled": true
   },
   "outputs": [],
   "source": [
    "# Solution\n",
    "\n",
    "\n",
    "\n",
    "\n",
    "\n",
    "\n",
    "\n",
    "\n",
    "\n",
    "# Don't peek!\n",
    "\n",
    "\n",
    "\n",
    "\n",
    "\n",
    "\n",
    "\n",
    "\n",
    "\n",
    "\n",
    "add = (lambda x,y:x+y)\n",
    "mult = (lambda x,y:x*y)\n",
    "f = compose(partial(add,7), partial(mult,-3))\n",
    "\n",
    "assert f(0)==7\n",
    "assert f(1)==4\n",
    "assert f(4)==-5"
   ]
  },
  {
   "cell_type": "markdown",
   "metadata": {},
   "source": [
    "## 2.3) Reducing functions\n",
    "\n",
    "Another important HOF is `fold`, aka `reduce` (from map/reduce fame)"
   ]
  },
  {
   "cell_type": "code",
   "execution_count": 14,
   "metadata": {
    "scrolled": true
   },
   "outputs": [
    {
     "name": "stdout",
     "output_type": "stream",
     "text": [
      "[[[[<breathe-in> and A] and B] and C] and D]\n",
      "[A and [B and [C and [D and <stop>]]]]\n"
     ]
    }
   ],
   "source": [
    "# Because Guido doesn't like functional programming,\n",
    "# reduce was removed from the core namespace in Py3.\n",
    "\n",
    "from functools import reduce\n",
    "\n",
    "foldl = (lambda f, acc, xs: reduce(f,xs,acc))\n",
    "foldr = (lambda f, acc, xs: reduce((lambda x, y: f(y, x)), reversed(xs), acc))\n",
    "\n",
    "def order (x,y):\n",
    "    return \"[\"+x+\" and \"+y+\"]\"\n",
    "\n",
    "alphabet = [\"A\",\"B\",\"C\",\"D\"]\n",
    "\n",
    "print(foldl(order,\"<breathe-in>\",alphabet))\n",
    "print(foldr(order,\"<stop>\",alphabet,))\n",
    "del order, alphabet"
   ]
  },
  {
   "cell_type": "markdown",
   "metadata": {},
   "source": [
    "As you can see, the results of folding are nested (from the left or right, up to you!), which means the function we're calling in the reduction gets to see -- and compute values using -- the results of previous calls to itself. This implicit self-reference allows very high-level ideas to be encapsulated with folds."
   ]
  },
  {
   "cell_type": "code",
   "execution_count": 15,
   "metadata": {
    "scrolled": true
   },
   "outputs": [
    {
     "ename": "TypeError",
     "evalue": "'NoneType' object is not callable",
     "output_type": "error",
     "traceback": [
      "\u001b[0;31m---------------------------------------------------------------------------\u001b[0m",
      "\u001b[0;31mTypeError\u001b[0m                                 Traceback (most recent call last)",
      "\u001b[0;32m<ipython-input-15-7d511bbf6322>\u001b[0m in \u001b[0;36m<module>\u001b[0;34m()\u001b[0m\n\u001b[1;32m      6\u001b[0m \u001b[0;34m\u001b[0m\u001b[0m\n\u001b[1;32m      7\u001b[0m \u001b[0;31m#Unit tests\u001b[0m\u001b[0;34m\u001b[0m\u001b[0;34m\u001b[0m\u001b[0m\n\u001b[0;32m----> 8\u001b[0;31m \u001b[0;32massert\u001b[0m \u001b[0mf\u001b[0m\u001b[0;34m(\u001b[0m\u001b[0;34m[\u001b[0m\u001b[0;36m42\u001b[0m\u001b[0;34m]\u001b[0m\u001b[0;34m)\u001b[0m \u001b[0;34m==\u001b[0m \u001b[0;36m42\u001b[0m\u001b[0;34m\u001b[0m\u001b[0m\n\u001b[0m\u001b[1;32m      9\u001b[0m \u001b[0;32massert\u001b[0m \u001b[0mf\u001b[0m\u001b[0;34m(\u001b[0m\u001b[0;34m[\u001b[0m\u001b[0;34m-\u001b[0m\u001b[0;36m1\u001b[0m\u001b[0;34m,\u001b[0m\u001b[0;36m0\u001b[0m\u001b[0;34m,\u001b[0m\u001b[0;36m1\u001b[0m\u001b[0;34m]\u001b[0m\u001b[0;34m)\u001b[0m \u001b[0;34m==\u001b[0m \u001b[0;36m0\u001b[0m\u001b[0;34m\u001b[0m\u001b[0m\n\u001b[1;32m     10\u001b[0m \u001b[0;32massert\u001b[0m \u001b[0mf\u001b[0m\u001b[0;34m(\u001b[0m\u001b[0;34m[\u001b[0m\u001b[0;36m0\u001b[0m\u001b[0;34m,\u001b[0m\u001b[0;36m1\u001b[0m\u001b[0;34m]\u001b[0m\u001b[0;34m)\u001b[0m\u001b[0;34m==\u001b[0m\u001b[0;36m0.5\u001b[0m\u001b[0;34m\u001b[0m\u001b[0m\n",
      "\u001b[0;31mTypeError\u001b[0m: 'NoneType' object is not callable"
     ]
    }
   ],
   "source": [
    "# Exercise: write the `average` function using a reduction. You may need the following function:\n",
    "\n",
    "add = (lambda x,y : x+y)\n",
    "\n",
    "f = None #<your answer here>\n",
    "\n",
    "#Unit tests\n",
    "assert f([42]) == 42\n",
    "assert f([-1,0,1]) == 0\n",
    "assert f([0,1])==0.5\n",
    "print(\"Success!\")"
   ]
  },
  {
   "cell_type": "code",
   "execution_count": 16,
   "metadata": {
    "collapsed": true,
    "scrolled": true
   },
   "outputs": [],
   "source": [
    "# Solution\n",
    "\n",
    "\n",
    "\n",
    "\n",
    "\n",
    "\n",
    "\n",
    "\n",
    "\n",
    "# Don't peek!\n",
    "\n",
    "\n",
    "\n",
    "\n",
    "\n",
    "\n",
    "\n",
    "\n",
    "\n",
    "add = (lambda x,y:x+y)\n",
    "f = lambda ls: foldl(add,0,ls)/len(ls)\n",
    "\n",
    "assert f([42]) == 42\n",
    "assert f([-1,0,1]) == 0\n",
    "assert f([0,1])==0.5"
   ]
  },
  {
   "cell_type": "code",
   "execution_count": 17,
   "metadata": {
    "scrolled": true
   },
   "outputs": [
    {
     "data": {
      "text/plain": [
       "[0, 1, 3, 6, 10, 15]"
      ]
     },
     "execution_count": 17,
     "metadata": {},
     "output_type": "execute_result"
    }
   ],
   "source": [
    "# folds are the generalisation of a for-loop with an accumulator:\n",
    "add = (lambda x,y:x+y)\n",
    "foldl((lambda acc,x: acc+[x+acc[-1]]), [0], [1,2,3,4,5])"
   ]
  },
  {
   "cell_type": "code",
   "execution_count": 18,
   "metadata": {
    "scrolled": true
   },
   "outputs": [
    {
     "data": {
      "text/plain": [
       "[2, 4, 6, 8]"
      ]
     },
     "execution_count": 18,
     "metadata": {},
     "output_type": "execute_result"
    }
   ],
   "source": [
    "# folds are the generalisation of filter\n",
    "even = (lambda x: x%2==0)\n",
    "foldr((lambda x,acc: ([x]+acc if even(x) else acc)) ,[], [1,2,3,4,5,6,7,8])"
   ]
  },
  {
   "cell_type": "code",
   "execution_count": 19,
   "metadata": {
    "scrolled": true
   },
   "outputs": [
    {
     "data": {
      "text/plain": [
       "['f(1)', 'f(2)', 'f(3)', 'f(5)']"
      ]
     },
     "execution_count": 19,
     "metadata": {},
     "output_type": "execute_result"
    }
   ],
   "source": [
    "# folds are the generalisation of map\n",
    "f = lambda s: \"f(\"+str(s)+\")\"\n",
    "foldl((lambda acc, x: acc+[f(x)]), [], [1,2,3,5])"
   ]
  },
  {
   "cell_type": "markdown",
   "metadata": {},
   "source": [
    "One thing that makes `map` and `filter` special amongst other reducing functions is that the computations they perform can be parallelised (if the functions they're folding are pure). Another special thing about them is that they are actually in the core Python namespace! But, because Guido doesn't like functional programming, [they were almost removed from Py3](https://www.artima.com/weblogs/viewpost.jsp?thread=98196).\n",
    "\n",
    "Given that `map`ping and `filter`ing are special cases of `fold`ing, it should be clear that some subset of all folds can be parallelised. This is possible whenever the function you're `fold`ing is [both left-associative and right-associative](https://en.wikipedia.org/wiki/Operator_associativity). Mapping and filtering are parallelisable because list-joining is associative:"
   ]
  },
  {
   "cell_type": "code",
   "execution_count": 20,
   "metadata": {
    "scrolled": true
   },
   "outputs": [
    {
     "data": {
      "text/plain": [
       "True"
      ]
     },
     "execution_count": 20,
     "metadata": {},
     "output_type": "execute_result"
    }
   ],
   "source": [
    "[1]+[2]+[3]+[4] == ([1]+[2])+([3]+[4]) == [1,2]+[3,4] == [1,2,3,4]"
   ]
  },
  {
   "cell_type": "markdown",
   "metadata": {},
   "source": [
    "Sums and products are also associative, incl. their generalisations to quaternions (used in 3D graphics, that's why GPUs can do their work in parallel!), booleans, sets, ... , as well as string concatenation, matrix multiplication, ...\n",
    "\n",
    "Depending on what you're doing, you might be able to write whatever function you're building to maintain this associativity. For instance, the average function you wrote above is not associative because it includes division, but if you store the sum and the count of all the numbers separately you can write an associative version of the same logic:"
   ]
  },
  {
   "cell_type": "code",
   "execution_count": 21,
   "metadata": {
    "scrolled": true
   },
   "outputs": [
    {
     "name": "stdout",
     "output_type": "stream",
     "text": [
      "{'count': 10, 'sum': 45} ---> 4.5\n"
     ]
    }
   ],
   "source": [
    "def my_sum (ls_or_dict):\n",
    "    if type(ls_or_dict) == type({}):\n",
    "        return ls_or_dict['sum']\n",
    "    else:\n",
    "        return foldl((lambda x,y:x+y),0,ls_or_dict)\n",
    "\n",
    "def my_count (ls_or_dict):\n",
    "    if type(ls_or_dict) == type({}):\n",
    "        return ls_or_dict['count']\n",
    "    else:\n",
    "        return len(ls_or_dict)\n",
    "\n",
    "def my_assoc (x,y):\n",
    "    # only uses `+`, manifestly associative\n",
    "    return {'count': my_count(x)+my_count(y), 'sum':my_sum(x)+my_sum(y)}\n",
    "\n",
    "# and, at the end of the parallelisable reduction:\n",
    "def average(m):\n",
    "    return m['sum']/m['count']\n",
    "\n",
    "\n",
    "# This can be parallelised (exponential gains in time, because reductions trees have logarithmic execution time).\n",
    "# Check this yourself by replacing `foldr` by `foldl`!\n",
    "combined = foldr(my_assoc,{'count':0,'sum':0},[[0,1,2,3],[4,5,6],[7,8,9]])\n",
    "\n",
    "# this can't be parallelised, but it's a single operation so it's OK.\n",
    "print(combined, \"--->\", average(combined))"
   ]
  },
  {
   "cell_type": "code",
   "execution_count": 22,
   "metadata": {},
   "outputs": [
    {
     "name": "stdout",
     "output_type": "stream",
     "text": [
      "4\n",
      "1\n",
      "16\n",
      "9\n",
      "[1, 4, 9, 16]\n",
      "--------\n",
      "4\n",
      "9\n",
      "1\n",
      "16\n",
      "[1, 4, 9, 16]\n",
      "--------\n",
      "Can't Pickle !\n",
      "Can't Pickle !!\n",
      "Can't Filter !!!\n"
     ]
    }
   ],
   "source": [
    "# Before moving on, let's just admit to ourselves that Python's built-in parallelism is not very good for FP.\n",
    "\n",
    "# For instance, in the `multiprocessing` library we have `map`, but nothing else. E.g. there is no filter (!!!)\n",
    "# Also, it relies on python pickles, so every function needs to be defined at the top-level of a program with `def`.\n",
    "# Every.\n",
    "# Single.\n",
    "# One.\n",
    "# That means, no `curry` and no `compose`. You can't sensibly do FP without them.\n",
    "\n",
    "import multiprocessing, time, random\n",
    "\n",
    "def pretend_work (x):\n",
    "    time.sleep(random.random())\n",
    "    print(x)\n",
    "    return x\n",
    "\n",
    "def square (x):\n",
    "    return pretend_work(x**2)\n",
    "\n",
    "square2 = lambda x: x**2\n",
    "\n",
    "if __name__ == '__main__':\n",
    "    with multiprocessing.Pool(2) as p:\n",
    "        print(p.map(square, [1, 2, 3, 4]))\n",
    "        print(\"--------\",flush=True)\n",
    "        print(p.map(square, [1, 2, 3, 4]))\n",
    "        print(\"--------\",flush=True)\n",
    "        try:\n",
    "            p.map(square2, [1, 2, 3, 4])\n",
    "        except Exception:\n",
    "            print(\"Can't Pickle !\")\n",
    "        try:\n",
    "            p.map((lambda x : x**2), [1, 2, 3, 4])\n",
    "        except Exception:\n",
    "            print(\"Can't Pickle !!\")\n",
    "        try:\n",
    "            p.filter((lambda x : x%2 == 0),[1,2,3,4])\n",
    "        except:\n",
    "            print(\"Can't Filter !!!\")\n",
    "        \n",
    "del square\n",
    "\n",
    "\n",
    "# In what follows, I'll show you code that is parallelisable, but not actually parallel.\n",
    "# Just assume your language's compiler / big data framework / library gives you decent\n",
    "# versions of the functions we're discussing."
   ]
  },
  {
   "cell_type": "markdown",
   "metadata": {},
   "source": [
    "## 2.4) map/reduce"
   ]
  },
  {
   "cell_type": "code",
   "execution_count": 23,
   "metadata": {
    "scrolled": true
   },
   "outputs": [
    {
     "name": "stdout",
     "output_type": "stream",
     "text": [
      "1, 3, 5, 7, 9, 11, 13, 15, 17, 19, \n"
     ]
    }
   ],
   "source": [
    "# Let's create a pointless, parallelisable map/reduce pipeline!\n",
    "\n",
    "# first let's fix some of Guido's design oversights in Python...\n",
    "from functools import partial\n",
    "from functools import reduce\n",
    "\n",
    "foldl = (lambda f, acc, xs: reduce(f,xs,acc))\n",
    "\n",
    "def compose(f,g):\n",
    "    return (lambda *args, **kwargs :f(g(*args, **kwargs)))\n",
    "\n",
    "def comp(*fns): # a compose that works for more than two functions\n",
    "    identity = (lambda x:x)\n",
    "    return foldl(compose,identity,fns)\n",
    "\n",
    "add = (lambda x,y:x+y)\n",
    "even = (lambda x: x%2==0)\n",
    "\n",
    "# now let's make our pipeline... hint: read these right-to-left ;-)\n",
    "pipeline = comp(lambda x:x+\", \", str, partial(add,1))\n",
    "parallelisable_map = comp(partial(map,pipeline),partial(filter,even))\n",
    "mapreduce = (lambda ls: foldl(add,\"\", parallelisable_map(ls))) # string concat is associative --> parallelisable!\n",
    "\n",
    "# Just like any other function, this pipeline is reusable, so parallelism is trivial:\n",
    "thread1 = mapreduce([0,1,2,3,4,5,6])\n",
    "thread2 = mapreduce([7,8,9,10,11,12])\n",
    "thread3 = mapreduce([13,14,15,16,17,18])\n",
    "print(thread1+thread2+thread3)\n",
    "\n",
    "del pipeline, parallelisable_map, mapreduce"
   ]
  },
  {
   "cell_type": "markdown",
   "metadata": {},
   "source": [
    "If we hadn't realised our reduction was parallelisable, then we might have written something closer to\n",
    "```\n",
    "thread1 = parallelisable_map(...)\n",
    "thread2 = parallelisable_map(...)\n",
    "...\n",
    "mapreduce(thread1+thread2+...)\n",
    "```\n",
    "which is _O(n)_ instead of _O(log(n))_ runtime efficiency -- this can be relevant for BIG data! Of course, Python doesn't know it can parallelise this, you'll need to do that part manually."
   ]
  },
  {
   "cell_type": "code",
   "execution_count": 24,
   "metadata": {
    "scrolled": true
   },
   "outputs": [
    {
     "ename": "TypeError",
     "evalue": "'NoneType' object is not callable",
     "output_type": "error",
     "traceback": [
      "\u001b[0;31m---------------------------------------------------------------------------\u001b[0m",
      "\u001b[0;31mTypeError\u001b[0m                                 Traceback (most recent call last)",
      "\u001b[0;32m<ipython-input-24-31d31a688260>\u001b[0m in \u001b[0;36m<module>\u001b[0;34m()\u001b[0m\n\u001b[1;32m      5\u001b[0m \u001b[0;34m\u001b[0m\u001b[0m\n\u001b[1;32m      6\u001b[0m \u001b[0;31m# Unit tests\u001b[0m\u001b[0;34m\u001b[0m\u001b[0;34m\u001b[0m\u001b[0m\n\u001b[0;32m----> 7\u001b[0;31m \u001b[0;32massert\u001b[0m \u001b[0mlist\u001b[0m\u001b[0;34m(\u001b[0m\u001b[0mf\u001b[0m\u001b[0;34m(\u001b[0m\u001b[0;34m[\u001b[0m\u001b[0;34m-\u001b[0m\u001b[0;36m2\u001b[0m\u001b[0;34m,\u001b[0m\u001b[0;34m-\u001b[0m\u001b[0;36m1\u001b[0m\u001b[0;34m,\u001b[0m\u001b[0;36m0\u001b[0m\u001b[0;34m,\u001b[0m\u001b[0;36m1\u001b[0m\u001b[0;34m,\u001b[0m\u001b[0;36m2\u001b[0m\u001b[0;34m,\u001b[0m\u001b[0;36m3\u001b[0m\u001b[0;34m,\u001b[0m\u001b[0;36m4\u001b[0m\u001b[0;34m,\u001b[0m\u001b[0;36m5\u001b[0m\u001b[0;34m,\u001b[0m\u001b[0;36m6\u001b[0m\u001b[0;34m]\u001b[0m\u001b[0;34m)\u001b[0m\u001b[0;34m)\u001b[0m \u001b[0;34m==\u001b[0m \u001b[0mlist\u001b[0m\u001b[0;34m(\u001b[0m\u001b[0mf\u001b[0m\u001b[0;34m(\u001b[0m\u001b[0;34m[\u001b[0m\u001b[0;34m-\u001b[0m\u001b[0;36m2\u001b[0m\u001b[0;34m,\u001b[0m\u001b[0;36m0\u001b[0m\u001b[0;34m,\u001b[0m\u001b[0;36m2\u001b[0m\u001b[0;34m,\u001b[0m\u001b[0;36m4\u001b[0m\u001b[0;34m,\u001b[0m\u001b[0;36m6\u001b[0m\u001b[0;34m]\u001b[0m\u001b[0;34m)\u001b[0m\u001b[0;34m)\u001b[0m \u001b[0;34m==\u001b[0m \u001b[0;34m[\u001b[0m\u001b[0;36m13\u001b[0m\u001b[0;34m,\u001b[0m\u001b[0;36m7\u001b[0m\u001b[0;34m,\u001b[0m\u001b[0;36m1\u001b[0m\u001b[0;34m]\u001b[0m\u001b[0;34m\u001b[0m\u001b[0m\n\u001b[0m\u001b[1;32m      8\u001b[0m \u001b[0mprint\u001b[0m\u001b[0;34m(\u001b[0m\u001b[0;34m\"Success!\"\u001b[0m\u001b[0;34m)\u001b[0m\u001b[0;34m\u001b[0m\u001b[0m\n",
      "\u001b[0;31mTypeError\u001b[0m: 'NoneType' object is not callable"
     ]
    }
   ],
   "source": [
    "# Exercise: Write a mapping pipeline that maps the polynomial -3x+7 only over even numbers, and returns only positive results.\n",
    "# You may want to use your answers to previous exercises.\n",
    "\n",
    "f = None # <Your answer here>\n",
    "\n",
    "# Unit tests\n",
    "assert list(f([-2,-1,0,1,2,3,4,5,6])) == list(f([-2,0,2,4,6])) == [13,7,1]\n",
    "print(\"Success!\")"
   ]
  },
  {
   "cell_type": "code",
   "execution_count": 25,
   "metadata": {
    "collapsed": true,
    "scrolled": true
   },
   "outputs": [],
   "source": [
    "# Solution\n",
    "\n",
    "\n",
    "\n",
    "\n",
    "\n",
    "\n",
    "\n",
    "\n",
    "\n",
    "# Don't peek!\n",
    "\n",
    "\n",
    "\n",
    "\n",
    "\n",
    "\n",
    "\n",
    "\n",
    "\n",
    "\n",
    "\n",
    "poly = (lambda x: -3*x+7)\n",
    "pos = (lambda x: x>=0)\n",
    "\n",
    "f = comp(partial(filter,pos),partial(map,poly),partial(filter,even))\n",
    "assert list(f([-2,-1,0,1,2,3,4,5,6])) == list(f([-2,0,2,4,6])) == [13,7,1]"
   ]
  },
  {
   "cell_type": "markdown",
   "metadata": {},
   "source": [
    "## 2.5) Apply\n",
    "\n",
    "`map` is good if you have one function and lots of data; what if you want to apply multiple functions to a single datum? There's a trick for that: encapsulate the idea of \"applying a function to a value\" in a function."
   ]
  },
  {
   "cell_type": "code",
   "execution_count": 26,
   "metadata": {
    "scrolled": true
   },
   "outputs": [
    {
     "name": "stdout",
     "output_type": "stream",
     "text": [
      "5\n",
      "True\n",
      "4!\n"
     ]
    }
   ],
   "source": [
    "apply = (lambda f, v: f(v)) # Deceptively simple\n",
    "\n",
    "# Having function application be a function means we can control function application with functions like map\n",
    "for x in map((lambda f: apply(f,4)), [(lambda x:x+1),(lambda x:x%2==0),comp((lambda x:x+\"!\"),str)]):\n",
    "    print(x)"
   ]
  },
  {
   "cell_type": "code",
   "execution_count": 27,
   "metadata": {
    "scrolled": true
   },
   "outputs": [
    {
     "ename": "TypeError",
     "evalue": "'NoneType' object is not callable",
     "output_type": "error",
     "traceback": [
      "\u001b[0;31m---------------------------------------------------------------------------\u001b[0m",
      "\u001b[0;31mTypeError\u001b[0m                                 Traceback (most recent call last)",
      "\u001b[0;32m<ipython-input-27-245fd627451a>\u001b[0m in \u001b[0;36m<module>\u001b[0;34m()\u001b[0m\n\u001b[1;32m      5\u001b[0m \u001b[0;31m# Unit tests\u001b[0m\u001b[0;34m\u001b[0m\u001b[0;34m\u001b[0m\u001b[0m\n\u001b[1;32m      6\u001b[0m \u001b[0;34m\u001b[0m\u001b[0m\n\u001b[0;32m----> 7\u001b[0;31m \u001b[0;32massert\u001b[0m \u001b[0mlist\u001b[0m\u001b[0;34m(\u001b[0m\u001b[0mmapply\u001b[0m\u001b[0;34m(\u001b[0m\u001b[0;34m[\u001b[0m\u001b[0;32mlambda\u001b[0m \u001b[0mx\u001b[0m\u001b[0;34m:\u001b[0m\u001b[0mx\u001b[0m\u001b[0;34m+\u001b[0m\u001b[0;36m1\u001b[0m\u001b[0;34m,\u001b[0m\u001b[0;32mlambda\u001b[0m \u001b[0mx\u001b[0m\u001b[0;34m:\u001b[0m\u001b[0mx\u001b[0m\u001b[0;34m-\u001b[0m\u001b[0;36m1\u001b[0m\u001b[0;34m]\u001b[0m\u001b[0;34m,\u001b[0m\u001b[0;36m0\u001b[0m\u001b[0;34m)\u001b[0m\u001b[0;34m)\u001b[0m \u001b[0;34m==\u001b[0m \u001b[0;34m[\u001b[0m\u001b[0;36m1\u001b[0m\u001b[0;34m,\u001b[0m\u001b[0;34m-\u001b[0m\u001b[0;36m1\u001b[0m\u001b[0;34m]\u001b[0m\u001b[0;34m\u001b[0m\u001b[0m\n\u001b[0m\u001b[1;32m      8\u001b[0m \u001b[0;34m\u001b[0m\u001b[0m\n\u001b[1;32m      9\u001b[0m \u001b[0;31m# can't be bothered to import a library for a few one-liners, sorry :-p\u001b[0m\u001b[0;34m\u001b[0m\u001b[0;34m\u001b[0m\u001b[0m\n",
      "\u001b[0;31mTypeError\u001b[0m: 'NoneType' object is not callable"
     ]
    }
   ],
   "source": [
    "# Exercise: write a function `mapply` that applies a list of functions over a datum\n",
    "\n",
    "mapply = None # your code here\n",
    "\n",
    "# Unit tests\n",
    "\n",
    "assert list(mapply([lambda x:x+1,lambda x:x-1],0)) == [1,-1]\n",
    "\n",
    "# can't be bothered to import a library for a few one-liners, sorry :-p\n",
    "add = lambda x,y:x+y\n",
    "mean = lambda ls: foldl(add,0,ls)/len(ls)\n",
    "stddev = lambda ls: (foldl(add, 0, map((lambda l: (l-mean(ls))**2),ls)) / (len(ls)-1))**0.5\n",
    "\n",
    "# generate a statistic summary report\n",
    "data = [4,5,6,7,8]\n",
    "report = [min,mean,stddev,max]\n",
    "assert list(mapply(report,data)) == [4, 6.0, 1.5811388300841898, 8]\n",
    "\n",
    "del mean, stddev"
   ]
  },
  {
   "cell_type": "code",
   "execution_count": 28,
   "metadata": {
    "collapsed": true,
    "scrolled": true
   },
   "outputs": [],
   "source": [
    "# Solution\n",
    "\n",
    "\n",
    "\n",
    "\n",
    "\n",
    "\n",
    "\n",
    "\n",
    "\n",
    "# Don't peek!\n",
    "\n",
    "\n",
    "\n",
    "\n",
    "\n",
    "\n",
    "\n",
    "\n",
    "\n",
    "\n",
    "\n",
    "\n",
    "mapply = (lambda fs,d: map((lambda f:f(d)),fs))\n",
    "\n",
    "# Unit tests\n",
    "\n",
    "assert list(mapply([lambda x:x+1,lambda x:x-1],0)) == [1,-1]\n",
    "\n",
    "add = lambda x,y:x+y\n",
    "mean = lambda ls: foldl(add,0,ls)/len(ls)\n",
    "stddev = lambda ls: (foldl(add, 0, map((lambda l: (l-mean(ls))**2),ls)) / (len(ls)-1))**0.5\n",
    "\n",
    "# generate a statistic summary report\n",
    "data = [4,5,6,7,8]\n",
    "report = [min,mean,stddev,max]\n",
    "assert list(mapply(report,data)) == [4, 6.0, 1.5811388300841898, 8]\n",
    "\n",
    "del mean, stddev"
   ]
  },
  {
   "cell_type": "code",
   "execution_count": 29,
   "metadata": {
    "scrolled": true
   },
   "outputs": [
    {
     "data": {
      "text/plain": [
       "[-104, 1, 12]"
      ]
     },
     "execution_count": 29,
     "metadata": {},
     "output_type": "execute_result"
    }
   ],
   "source": [
    "# Everything together: Using `mapply` to write an extensible data cleaning predicate (for filter).\n",
    "\n",
    "from math import isfinite\n",
    "import re\n",
    "\n",
    "data = [-104, 0 , 1, 12, 36, 2351825723845692374, float('Nan')]\n",
    "\n",
    "fns = [(lambda x : x != 0), # non-zero\n",
    "       (lambda x: x < 100), # not too big\n",
    "       isfinite,            # Not Nan\n",
    "       (lambda x: re.search(\"^(1|-1)\",str(x)) != None) # first digit is 'one'\n",
    "      ]\n",
    "\n",
    "#print(list(map(compose(list,partial(mapply,fns)),data)))\n",
    "\n",
    "pred = compose((lambda ls: foldl((lambda x,y : x and y),True,ls)),partial(mapply,fns))\n",
    "\n",
    "list(filter(pred,data)) # this data is clean, just add a `partial(filter,pred)` to the start of the pipeline!!!"
   ]
  },
  {
   "cell_type": "markdown",
   "metadata": {},
   "source": [
    "# 3) Functional Design & Patterns\n",
    "\n",
    "## 3.1) Laziness\n",
    "\n",
    "You should notice, when using `map` and `filter`, that you don't actually get the result of the computation you asked for immediately.\n",
    "\n",
    "Instead, Python returns a *promise*. It won't actually do the work until it has to."
   ]
  },
  {
   "cell_type": "code",
   "execution_count": 30,
   "metadata": {},
   "outputs": [
    {
     "data": {
      "text/plain": [
       "<map at 0x7fb7f85038d0>"
      ]
     },
     "execution_count": 30,
     "metadata": {},
     "output_type": "execute_result"
    }
   ],
   "source": [
    "map((lambda x:x+2),[0,1,2,3])"
   ]
  },
  {
   "cell_type": "code",
   "execution_count": 31,
   "metadata": {
    "scrolled": true
   },
   "outputs": [
    {
     "name": "stdout",
     "output_type": "stream",
     "text": [
      "here\n",
      "1\n",
      "2\n",
      "3\n",
      "[None, None, None]\n"
     ]
    }
   ],
   "source": [
    "# computations (including their side-effects) aren't be performed until we actually need them:\n",
    "m = map(print,[1,2,3])\n",
    "print(\"here\")\n",
    "print(list(m))\n",
    "del m"
   ]
  },
  {
   "cell_type": "code",
   "execution_count": 32,
   "metadata": {
    "scrolled": true
   },
   "outputs": [
    {
     "name": "stdout",
     "output_type": "stream",
     "text": [
      "Too much effort for a demo...\n",
      "NOW do the work:\n",
      "5\n"
     ]
    }
   ],
   "source": [
    "# You can create your own promises: just wrap a computation into a lambda with zero arguments!\n",
    "def lazily_add(x,y):\n",
    "    print(\"Too much effort for a demo...\")\n",
    "    return (lambda : x+y)\n",
    "\n",
    "z = lazily_add(2,3)\n",
    "print(\"NOW do the work:\")\n",
    "print(z()) # force the promise by calling the thunk\n",
    "del lazily_add, z"
   ]
  },
  {
   "cell_type": "markdown",
   "metadata": {},
   "source": [
    "Promises and forces are the functional programmer's solution to almost every efficiency concern. They can save execution time (don't calculate stuff you don't need) and memory (don't store stuff you don't need). When your promise's thunk is a pure function, you can even choose to store the computed value in memory in order to save some more execution time in the future (_memoization_, covered in the next section), or even try to speculatively evaluate the values you think you'll need on a parallel thread to reduce latency (a special kind of promise known as a _future_).\n",
    "\n",
    "Contrast this to the imperative style discussed in section 1.3; if you tell the computer how to do what you want, you need to manage execution time and memory yourself."
   ]
  },
  {
   "cell_type": "code",
   "execution_count": 33,
   "metadata": {},
   "outputs": [
    {
     "ename": "TypeError",
     "evalue": "'NoneType' object is not callable",
     "output_type": "error",
     "traceback": [
      "\u001b[0;31m---------------------------------------------------------------------------\u001b[0m",
      "\u001b[0;31mTypeError\u001b[0m                                 Traceback (most recent call last)",
      "\u001b[0;32m<ipython-input-33-2f41b6ace2c4>\u001b[0m in \u001b[0;36m<module>\u001b[0;34m()\u001b[0m\n\u001b[1;32m      6\u001b[0m \u001b[0;31m# Unit tests\u001b[0m\u001b[0;34m\u001b[0m\u001b[0;34m\u001b[0m\u001b[0m\n\u001b[1;32m      7\u001b[0m \u001b[0;34m\u001b[0m\u001b[0m\n\u001b[0;32m----> 8\u001b[0;31m \u001b[0;32massert\u001b[0m \u001b[0mif_fn\u001b[0m\u001b[0;34m(\u001b[0m\u001b[0;32mTrue\u001b[0m\u001b[0;34m,\u001b[0m\u001b[0;32mlambda\u001b[0m \u001b[0;34m:\u001b[0m \u001b[0;36m42\u001b[0m\u001b[0;34m,\u001b[0m\u001b[0;32mlambda\u001b[0m \u001b[0;34m:\u001b[0m \u001b[0;36m12\u001b[0m\u001b[0;34m)\u001b[0m \u001b[0;34m==\u001b[0m \u001b[0;36m42\u001b[0m\u001b[0;34m\u001b[0m\u001b[0m\n\u001b[0m\u001b[1;32m      9\u001b[0m \u001b[0;32massert\u001b[0m \u001b[0mif_fn\u001b[0m\u001b[0;34m(\u001b[0m\u001b[0;32mFalse\u001b[0m\u001b[0;34m,\u001b[0m\u001b[0;32mlambda\u001b[0m \u001b[0;34m:\u001b[0m \u001b[0;36m42\u001b[0m\u001b[0;34m,\u001b[0m\u001b[0;32mlambda\u001b[0m \u001b[0;34m:\u001b[0m \u001b[0;36m12\u001b[0m\u001b[0;34m)\u001b[0m \u001b[0;34m==\u001b[0m \u001b[0;36m12\u001b[0m\u001b[0;34m\u001b[0m\u001b[0m\n\u001b[1;32m     10\u001b[0m \u001b[0;32massert\u001b[0m \u001b[0mif_fn\u001b[0m\u001b[0;34m(\u001b[0m\u001b[0;32mTrue\u001b[0m\u001b[0;34m,\u001b[0m\u001b[0;32mlambda\u001b[0m \u001b[0;34m:\u001b[0m \u001b[0;36m42\u001b[0m\u001b[0;34m,\u001b[0m\u001b[0;32mlambda\u001b[0m \u001b[0;34m:\u001b[0m \u001b[0;36m12\u001b[0m\u001b[0;34m+\u001b[0m\u001b[0;34m\"!\"\u001b[0m\u001b[0;34m)\u001b[0m \u001b[0;34m==\u001b[0m \u001b[0;36m42\u001b[0m\u001b[0;34m\u001b[0m\u001b[0m\n",
      "\u001b[0;31mTypeError\u001b[0m: 'NoneType' object is not callable"
     ]
    }
   ],
   "source": [
    "# Exercise: write a function that performs the same task as the builtin \"if\" statement,\n",
    "# using promises to delay evaluation of the irrelevant branch in the function args.\n",
    "\n",
    "if_fn = None # your code here\n",
    "\n",
    "# Unit tests\n",
    "\n",
    "assert if_fn(True,lambda : 42,lambda : 12) == 42\n",
    "assert if_fn(False,lambda : 42,lambda : 12) == 12\n",
    "assert if_fn(True,lambda : 42,lambda : 12+\"!\") == 42"
   ]
  },
  {
   "cell_type": "code",
   "execution_count": 34,
   "metadata": {
    "collapsed": true
   },
   "outputs": [],
   "source": [
    "# Solution\n",
    "\n",
    "\n",
    "\n",
    "\n",
    "\n",
    "\n",
    "\n",
    "\n",
    "\n",
    "# Don't peek!\n",
    "\n",
    "\n",
    "\n",
    "\n",
    "\n",
    "\n",
    "\n",
    "\n",
    "\n",
    "\n",
    "# this is kind of cheap\n",
    "# if_fn = lambda t,y,n: y() if t else n()\n",
    "\n",
    "# this exploits the *sequential-left-to-right* short-circuiting of built-in `and`, `or`.\n",
    "if_fn = lambda t,y,n: ((t and y()) or n())\n",
    "\n",
    "# Unit tests\n",
    "\n",
    "assert if_fn(True,lambda : 42,lambda : 12) == 42\n",
    "assert if_fn(False,lambda : 42,lambda : 12) == 12\n",
    "assert if_fn(True,lambda : 42,lambda : 12+\"!\") == 42"
   ]
  },
  {
   "cell_type": "code",
   "execution_count": 35,
   "metadata": {},
   "outputs": [
    {
     "name": "stdout",
     "output_type": "stream",
     "text": [
      "Go!\n",
      "11\n",
      "201\n",
      "31\n",
      "[11, 201, 31]\n"
     ]
    }
   ],
   "source": [
    "# the benefits of having control flow reified as functions will be explored more extensively in Sec. 4; until then:\n",
    "\n",
    "import time, random\n",
    "\n",
    "def pretend_work (x):\n",
    "    time.sleep(random.random())\n",
    "    print(x)\n",
    "    return x\n",
    "\n",
    "lazyprintinc = (lambda x: (lambda : pretend_work(x+1)))\n",
    "\n",
    "# define some data\n",
    "t = [True, False, True]\n",
    "y = list(map(lazyprintinc,[10,20,30]))\n",
    "n = list(map(lazyprintinc,[100,200,300]))\n",
    "\n",
    "a = map(if_fn,t,y,n)\n",
    "b = map(print,[\"Too\", \"much\", \"effort\", \"to\", \"actually\", \"do\", \"this.\"])\n",
    "\n",
    "print(\"Go!\")\n",
    "print(list(a))\n",
    "\n",
    "del lazyprintinc, a, b"
   ]
  },
  {
   "cell_type": "markdown",
   "metadata": {},
   "source": [
    "## 3.2) Memoization (and decorators more generally)"
   ]
  },
  {
   "cell_type": "code",
   "execution_count": 36,
   "metadata": {
    "scrolled": true
   },
   "outputs": [
    {
     "name": "stdout",
     "output_type": "stream",
     "text": [
      "First return takes forever:\n",
      "step 1 of 1827469261 complete...\n",
      "step 2 of 1827469261 complete...\n",
      "step 3 of 1827469261 complete...\n",
      "42\n",
      "Next return is immediate (and side-effect free)!\n",
      "42\n"
     ]
    }
   ],
   "source": [
    "from functools import lru_cache as memoize\n",
    "import time\n",
    "\n",
    "# memoize() returns a function which, given a function, returns a function\n",
    "# that remembers the values it computes to avoid repeating the work next time\n",
    "\n",
    "def impure_42 ():\n",
    "    time.sleep(3)\n",
    "    for i in range(1,4):\n",
    "        print(\"step \"+str(i)+\" of 1827469261 complete...\")\n",
    "        time.sleep(2)\n",
    "    return 42\n",
    "\n",
    "f = memoize(maxsize=1)(impure_42)\n",
    "\n",
    "# side effects (incl. the time spent waiting while computing the value) occur only once\n",
    "\n",
    "print(\"First return takes forever:\")\n",
    "print(f())\n",
    "print(\"Next return is immediate (and side-effect free)!\")\n",
    "print(f())\n",
    "\n",
    "del f"
   ]
  },
  {
   "cell_type": "code",
   "execution_count": 37,
   "metadata": {
    "scrolled": true
   },
   "outputs": [
    {
     "name": "stdout",
     "output_type": "stream",
     "text": [
      "0.4870539735738739\n",
      "0.4870539735738739\n",
      "0.4870539735738739\n"
     ]
    }
   ],
   "source": [
    "# Python (uncharacteristically) has some nice synactic sugar for this\n",
    "\n",
    "from random import random\n",
    "\n",
    "@memoize(maxsize=1)\n",
    "def rand ():\n",
    "    # guaranteed to be random!\n",
    "    return random()\n",
    "\n",
    "print(rand())\n",
    "print(rand())\n",
    "print(rand())\n",
    "\n",
    "del rand"
   ]
  },
  {
   "cell_type": "markdown",
   "metadata": {},
   "source": [
    "Python's `@` notation is synactic sugar for a functional pattern known as _decoration_: take a function, and return a function that adds some extra functionality to it."
   ]
  },
  {
   "cell_type": "code",
   "execution_count": 38,
   "metadata": {},
   "outputs": [
    {
     "name": "stdout",
     "output_type": "stream",
     "text": [
      "5\n",
      "7\n"
     ]
    }
   ],
   "source": [
    "# You can think of Currying with as \"decorating a function with a fixed value for its first argument\".\n",
    "\n",
    "from functools import partial\n",
    "\n",
    "curry = (lambda x: (lambda f: partial(f,x)))\n",
    "\n",
    "@curry(1) # curry(1) returns (lambda f: partial(f,1))\n",
    "def inc(x,y):\n",
    "    return x+y\n",
    "\n",
    "print(inc(4)) # NB: the arity of `inc` after decoration is NOT guaranteed to be the same as in the `def` line.\n",
    "\n",
    "# the unsugared syntax is a few characters shorter and (arguably?) less confusing \n",
    "inc = curry(1)(lambda x,y:x+y)\n",
    "\n",
    "print(inc(6))\n",
    "\n",
    "del inc"
   ]
  },
  {
   "cell_type": "markdown",
   "metadata": {},
   "source": [
    "Decoration is the canonical way to implement ideas from Aspect Oriented programming in the functional style. With decorators, you can separate different concerns into different functions."
   ]
  },
  {
   "cell_type": "code",
   "execution_count": 39,
   "metadata": {
    "scrolled": true
   },
   "outputs": [
    {
     "name": "stdout",
     "output_type": "stream",
     "text": [
      "successfully guarded!\n",
      "None\n",
      "successfully called!\n",
      "Python is 27 years old! Python 2.7 retires in 2 years!\n"
     ]
    }
   ],
   "source": [
    "def guard_inputs(fn):\n",
    "    def decorator(f):\n",
    "        def wrapper(*args):\n",
    "            assert fn(*args)\n",
    "            return f(*args)\n",
    "        return wrapper\n",
    "    return decorator\n",
    "\n",
    "def celebrate(f):\n",
    "    def wrapper(*args):\n",
    "        try:\n",
    "            a = f(*args)\n",
    "            print(\"successfully called!\")\n",
    "        except AssertionError:\n",
    "            print(\"successfully guarded!\")\n",
    "            a = None\n",
    "        print(a)\n",
    "        return a\n",
    "    return wrapper\n",
    "\n",
    "@celebrate\n",
    "@guard_inputs(lambda x,y: x>y>0) # assert arbitrary relations between fn inputs\n",
    "def birthday(x,y):\n",
    "    return \"Python is \"+str(x)+\" years old! Python 2.7 retires in \"+str(y)+\" years!\"\n",
    "\n",
    "birthday(-2,0) # would throw an error without decoration\n",
    "birthday(27,2)\n",
    "\n",
    "del guard_inputs, celebrate, birthday"
   ]
  },
  {
   "cell_type": "markdown",
   "metadata": {},
   "source": [
    "In the code above, we've separated out three concerns into three functions: the business of talking about Python milestones is separated from the validation code, both of which are separated from the error handling for the validation.\n",
    "\n",
    "What you would likely have written instead would have been\n",
    "\n",
    "```\n",
    "def birthday (x,y):\n",
    "    if (x>y>0):\n",
    "        print(\"successfully called!\")\n",
    "        return \"Python Milestones string\"\n",
    "    else:\n",
    "        print(\"successfully guarded!\")\n",
    "        return None\n",
    "```\n",
    "\n",
    "One benefit of working with Aspects is that you can reuse guard/celebrate to automatically add this validation logic to any function you're writing (or importing from a library!). Adding more aspects to `birthday` (automatic logging, authentication, memoization, ...) is just a matter of decorating the function; you don't need to change (or sometimes even look at) the code from `birthday`. \n",
    "\n",
    "Another benefit is that you can easily remove this validation logic once your testing convinces you the rest of your code is calling `birthday` correctly, again without changing the code from `birthday`."
   ]
  },
  {
   "cell_type": "code",
   "execution_count": 40,
   "metadata": {
    "scrolled": true
   },
   "outputs": [
    {
     "name": "stdout",
     "output_type": "stream",
     "text": [
      "Calling decorated function with args = (4, 6)\n",
      "7\n",
      "A diophantine polynomial\n"
     ]
    }
   ],
   "source": [
    "# `wraps` is a decorator for helping you decorate functions\n",
    "# without losing their original metadata... very meta!\n",
    "\n",
    "# adapted from the functools documentation:\n",
    "\n",
    "from functools import wraps\n",
    "\n",
    "def decorate(f):\n",
    "    \n",
    "    @wraps(f) # decorate wrapper, so that Python knows wrapper is itself a decorator\n",
    "    def wrapper(*args):\n",
    "        print('Calling decorated function with args =',args)\n",
    "        return f(*args)\n",
    "    \n",
    "    return wrapper\n",
    "\n",
    "\n",
    "@decorate\n",
    "def poly (x,y):\n",
    "    \"\"\"A diophantine polynomial\"\"\"\n",
    "    return -3*x +2*y + 7\n",
    "\n",
    "print(poly(4,6))\n",
    "print(poly.__doc__) # not lost!\n",
    "\n",
    "del decorate, poly"
   ]
  },
  {
   "cell_type": "code",
   "execution_count": 41,
   "metadata": {
    "scrolled": true
   },
   "outputs": [
    {
     "ename": "TypeError",
     "evalue": "'NoneType' object is not callable",
     "output_type": "error",
     "traceback": [
      "\u001b[0;31m---------------------------------------------------------------------------\u001b[0m",
      "\u001b[0;31mTypeError\u001b[0m                                 Traceback (most recent call last)",
      "\u001b[0;32m<ipython-input-41-0b7f901d07bd>\u001b[0m in \u001b[0;36m<module>\u001b[0;34m()\u001b[0m\n\u001b[1;32m     14\u001b[0m \u001b[0;31m# Unit tests\u001b[0m\u001b[0;34m\u001b[0m\u001b[0;34m\u001b[0m\u001b[0m\n\u001b[1;32m     15\u001b[0m \u001b[0;34m\u001b[0m\u001b[0m\n\u001b[0;32m---> 16\u001b[0;31m \u001b[0;34m@\u001b[0m\u001b[0mcensoring\u001b[0m\u001b[0;34m\u001b[0m\u001b[0m\n\u001b[0m\u001b[1;32m     17\u001b[0m \u001b[0;32mdef\u001b[0m \u001b[0midentity\u001b[0m\u001b[0;34m(\u001b[0m\u001b[0ms\u001b[0m\u001b[0;34m)\u001b[0m\u001b[0;34m:\u001b[0m\u001b[0;34m\u001b[0m\u001b[0m\n\u001b[1;32m     18\u001b[0m     \u001b[0;32mreturn\u001b[0m \u001b[0ms\u001b[0m\u001b[0;34m\u001b[0m\u001b[0m\n",
      "\u001b[0;31mTypeError\u001b[0m: 'NoneType' object is not callable"
     ]
    }
   ],
   "source": [
    "# Exercise: Write a decorator that censors emails from any decorated function's inputs (privacy concerns!)\n",
    "\n",
    "import re\n",
    "\n",
    "def censor (s):\n",
    "    if type(s) == type(\"string\"):\n",
    "        return re.subn(\"\\S*\\@\\S*\",\"####\",s)[0]\n",
    "    else:\n",
    "        return s\n",
    "\n",
    "    \n",
    "censoring = None # your code here\n",
    "\n",
    "# Unit tests\n",
    "\n",
    "@censoring\n",
    "def identity(s):\n",
    "    return s\n",
    "\n",
    "@censoring\n",
    "def join(s1,s2):\n",
    "    return s1+s2\n",
    "\n",
    "assert identity(\"My email is name.name@quantillion.io\") == 'My email is ####'\n",
    "assert identity(\"Our emails are secret@quantillion.io and private@dpa.nl\") == \"Our emails are #### and ####\"\n",
    "assert join(\"Nothing to censor here: \",\"e@pistu.la\") == \"Nothing to censor here: ####\"\n",
    "print(\"Success!\")"
   ]
  },
  {
   "cell_type": "code",
   "execution_count": 42,
   "metadata": {
    "collapsed": true,
    "scrolled": true
   },
   "outputs": [],
   "source": [
    "# Solution\n",
    "\n",
    "\n",
    "\n",
    "\n",
    "\n",
    "\n",
    "\n",
    "\n",
    "\n",
    "# Don't peek!\n",
    "\n",
    "\n",
    "\n",
    "\n",
    "\n",
    "\n",
    "\n",
    "\n",
    "\n",
    "\n",
    "\n",
    "def censoring (f):\n",
    "    def wrapper(*args):\n",
    "        return f(*map(censor,args))\n",
    "    return wrapper\n",
    "\n",
    "\n",
    "# Unit tests\n",
    "\n",
    "@censoring\n",
    "def identity(s):\n",
    "    return s\n",
    "\n",
    "@censoring\n",
    "def join(s1,s2):\n",
    "    return s1+s2\n",
    "\n",
    "assert identity(\"My email is name.name@quantillion.io\") == 'My email is ####'\n",
    "assert identity(\"Our emails are secret@quantillion.io and private@dpa.nl\") == \"Our emails are #### and ####\"\n",
    "assert join(\"Nothing to censor here: \",\"e@pistu.la\") == \"Nothing to censor here: ####\""
   ]
  },
  {
   "cell_type": "markdown",
   "metadata": {},
   "source": [
    "## 3.3) Lazy Data Structures\n",
    "\n",
    "Functions produce values. By combining `fold` and laziness, we can lazily generate these values in arbitrary (and possibly nested) structures.\n",
    "\n",
    "Python actually has built-in support for lazy sequence-like data structures: Generators."
   ]
  },
  {
   "cell_type": "code",
   "execution_count": 43,
   "metadata": {
    "scrolled": true
   },
   "outputs": [
    {
     "data": {
      "text/plain": [
       "<generator object <genexpr> at 0x7fb7f84aa678>"
      ]
     },
     "execution_count": 43,
     "metadata": {},
     "output_type": "execute_result"
    }
   ],
   "source": [
    "# List comprehension\n",
    "[x**2 for x in [1,2,3,4]]\n",
    "# Generator\n",
    "(x**2 for x in [1,2,3,4])"
   ]
  },
  {
   "cell_type": "code",
   "execution_count": 44,
   "metadata": {
    "scrolled": true
   },
   "outputs": [
    {
     "name": "stdout",
     "output_type": "stream",
     "text": [
      "[1, 4, 9, 16]\n"
     ]
    }
   ],
   "source": [
    "# List comprehensions are just syntactic sugar for the following:\n",
    "a = (x**2 for x in [1,2,3,4])\n",
    "print(list(a))\n",
    "del a"
   ]
  },
  {
   "cell_type": "code",
   "execution_count": 45,
   "metadata": {
    "scrolled": true
   },
   "outputs": [
    {
     "name": "stdout",
     "output_type": "stream",
     "text": [
      "bignum has 473480 digits\n"
     ]
    }
   ],
   "source": [
    "bignum = ((64**64)**64)**64\n",
    "print(\"bignum has\",len(str(bignum)),\"digits\")"
   ]
  },
  {
   "cell_type": "code",
   "execution_count": 46,
   "metadata": {
    "scrolled": true
   },
   "outputs": [
    {
     "name": "stdout",
     "output_type": "stream",
     "text": [
      "0\n",
      "1\n",
      "4\n",
      "9\n",
      "16\n",
      "25\n",
      "36\n",
      "49\n",
      "64\n",
      "81\n",
      "100\n",
      "121\n"
     ]
    }
   ],
   "source": [
    "xs = (x**2 for x in range(bignum)) # this sequence would not fit in memory if realised\n",
    "\n",
    "sum = 0\n",
    "for x in xs:\n",
    "    print(x)\n",
    "    sum += x\n",
    "    if x>120:\n",
    "        break\n",
    "\n",
    "del sum"
   ]
  },
  {
   "cell_type": "markdown",
   "metadata": {},
   "source": [
    "One limitation of Python's generators is that they only support _serial iteration_ (via a `next()` method) from the _beginning_ of the generator (Generators behave like \"lazy linked lists\"). For pure functions this is just an efficiency concern, but when the functions are impure it can trigger a bunch of side-effects you might not want.\n",
    "\n",
    "Thankfully, since we can create our own promises/thunks, we can fix that limitation by making a \"lazy linked list of promises\":"
   ]
  },
  {
   "cell_type": "code",
   "execution_count": 49,
   "metadata": {},
   "outputs": [
    {
     "name": "stdout",
     "output_type": "stream",
     "text": [
      "Wrong:\n",
      "0\n",
      "1\n",
      "2\n",
      "3\n",
      "4\n",
      "5\n",
      "6\n",
      "7\n",
      "8\n",
      "9\n",
      "[7, 8, 9]\n",
      "Fixed:\n",
      "7\n",
      "8\n",
      "9\n",
      "[7, 8, 9]\n"
     ]
    }
   ],
   "source": [
    "from itertools import islice # the canonically \"right\" way to slice a generator ...\n",
    "import time, random\n",
    "\n",
    "print(\"Wrong:\")\n",
    "a = (pretend_work(x) for x in range(bignum))\n",
    "print(list(islice(a,7,10))) # ... still evaluates a bunch of junk before reaching what we want!\n",
    "\n",
    "\n",
    "print(\"Fixed:\")\n",
    "b = ((lambda: pretend_work(x)) for x in range(10))\n",
    "\n",
    "# map forcing of promises, i.e. partial(map,force), plus forcing the original generator with list\n",
    "map_force = (lambda seq: list(map((lambda f: f()),seq)))\n",
    "\n",
    "print(map_force(islice(b,7,10)))\n",
    "\n",
    "del a,b,map_force"
   ]
  },
  {
   "cell_type": "markdown",
   "metadata": {},
   "source": [
    "## 3.4) Functions as Data\n",
    "\n",
    "In Python, lazy sequences are provided by generators. But, not all data structures are sequences. You can kind of think of a function as providing the sort of functionality you'd want from a \"lazy dictionary\"; given an argument (key), return a value. This suggests a completely new way of thinking about data structures... what if, instead of generating them with functions, we _represented_ them with functions?\n",
    "\n",
    "Now, this isn't necessarily a good idea, especially given that functional programming emphasises composition and processes over data structures and values. But, it's still kind of cool, and it serves to introduce the powerful notion that `code == data`."
   ]
  },
  {
   "cell_type": "code",
   "execution_count": 50,
   "metadata": {
    "scrolled": true
   },
   "outputs": [
    {
     "name": "stdout",
     "output_type": "stream",
     "text": [
      "a\n",
      "a\n",
      "a\n",
      "b\n",
      "c\n",
      "a\n",
      "b\n",
      "c\n",
      "a\n",
      "a\n",
      "b\n",
      "d\n",
      "e\n",
      "f\n",
      "e\n",
      "f\n",
      "e\n",
      "f\n",
      "e\n",
      "f\n"
     ]
    }
   ],
   "source": [
    "# Let's represent a directed graph using functions.\n",
    "\n",
    "def a () : return [a, b]\n",
    "def b () : return [c, d]\n",
    "def c () : return [a]\n",
    "def d () : return [b, c, e]\n",
    "def e () : return [f]\n",
    "def f () : return [e]\n",
    "\n",
    "# Now let's randomly walk around the graph\n",
    "\n",
    "import random\n",
    "\n",
    "next = a\n",
    "random.seed(2)\n",
    "for i in range(20):\n",
    "    next = random.choice(next()) # randomly choose amongst available options\n",
    "    print(next.__name__)\n",
    "    \n",
    "del a,b,c,d,e,f,next"
   ]
  },
  {
   "cell_type": "markdown",
   "metadata": {},
   "source": [
    "Traversals of this specific graph eventually hit the two-cycle `f->e->f->e->...`. If you replace the vectors `[c d]` returned by these functions by dictionaries `{c:0.2, d:0.8}`, then you've built your own (runnable!) Markov model. *Executable data structures* are just one of the many implications of \"Code is Data\"."
   ]
  },
  {
   "cell_type": "code",
   "execution_count": 51,
   "metadata": {
    "collapsed": true,
    "scrolled": true
   },
   "outputs": [],
   "source": [
    "# Exercise: Write a function which compiles a dict of dicts into a (runnable!) Markov model.\n",
    "\n",
    "model = {\"a\":{\"a\":0.2,\"b\":0.3,\"c\":0.5},\"b\":{\"a\":0.3,\"b\":0.2,\"c\":0.5},\"c\":{\"a\":0.4,\"b\":0.4,\"c\":0.2}}\n",
    "\n",
    "runnable_model = None # Your code here\n",
    "\n",
    "\n",
    "# Just kidding.\n",
    "\n",
    "del model"
   ]
  },
  {
   "cell_type": "markdown",
   "metadata": {},
   "source": [
    "Another cool implication of `code == data` is that data structures are actually code in disguise. Some languages take this to the extreme and say that any source code you can execute is basically just structured data. In these languages, _metaprogramming is just regular programming_. In Python, the only data type that can obviously be used to represent a chunk of code is the string. In fact, each cell in this notebook is just a JSON object with a list of strings in a source field.\n",
    "\n",
    "Functional programming is basically just the insight that if functions can be put into lists, they are data to be manipulated. In fact, our definition of `comp` was just a `fold` of some function over a list of functions. What if we want to print the result of each intermediate step of our map/reduce pipeline? All we need to do is add a `print-and-return-identically` function between the steps, or map a printing decorator to each step, and we're done!"
   ]
  },
  {
   "cell_type": "code",
   "execution_count": 52,
   "metadata": {
    "scrolled": true
   },
   "outputs": [
    {
     "name": "stdout",
     "output_type": "stream",
     "text": [
      "['prid', '<lambda>', 'prid', '<lambda>', 'prid', '<lambda>', 'prid', '<lambda>', 'prid', '<lambda>']\n",
      "6\n",
      "3\n",
      "7\n",
      "14\n",
      "15\n"
     ]
    }
   ],
   "source": [
    "# Of course, adding a printing step between each computation step is just folding over the pipeline:\n",
    "\n",
    "from functools import reduce\n",
    "foldl = (lambda f, acc, xs: reduce(f,xs,acc))\n",
    "\n",
    "def prid (x):\n",
    "    print(x)\n",
    "    return x\n",
    "\n",
    "pipeline = [(lambda x:x+1),(lambda x:x*2),(lambda x:x+4),(lambda x:round(x/2)),(lambda x:x-1)]\n",
    "\n",
    "printing_pipeline = foldl((lambda acc,x: acc+[prid,x]),[],pipeline)\n",
    "print([p.__name__ for p in printing_pipeline])\n",
    "\n",
    "# and then turning the data structure into a function is the same as before:\n",
    "\n",
    "def compose(f,g): # from earlier\n",
    "    return lambda x:f(g(x))\n",
    "\n",
    "foldl(compose,(lambda x:x),printing_pipeline)(7)\n",
    "\n",
    "del prid, printing_pipeline"
   ]
  },
  {
   "cell_type": "code",
   "execution_count": 53,
   "metadata": {
    "scrolled": true
   },
   "outputs": [
    {
     "ename": "TypeError",
     "evalue": "reduce() arg 2 must support iteration",
     "output_type": "error",
     "traceback": [
      "\u001b[0;31m---------------------------------------------------------------------------\u001b[0m",
      "\u001b[0;31mTypeError\u001b[0m                                 Traceback (most recent call last)",
      "\u001b[0;32m<ipython-input-53-928ca6edf34d>\u001b[0m in \u001b[0;36m<module>\u001b[0;34m()\u001b[0m\n\u001b[1;32m      6\u001b[0m \u001b[0;34m\u001b[0m\u001b[0m\n\u001b[1;32m      7\u001b[0m \u001b[0;31m# Unit tests (visual inspection)\u001b[0m\u001b[0;34m\u001b[0m\u001b[0;34m\u001b[0m\u001b[0m\n\u001b[0;32m----> 8\u001b[0;31m \u001b[0mfoldl\u001b[0m\u001b[0;34m(\u001b[0m\u001b[0mcompose\u001b[0m\u001b[0;34m,\u001b[0m\u001b[0;34m(\u001b[0m\u001b[0;32mlambda\u001b[0m \u001b[0mx\u001b[0m\u001b[0;34m:\u001b[0m\u001b[0mx\u001b[0m\u001b[0;34m)\u001b[0m\u001b[0;34m,\u001b[0m\u001b[0mprinting_pipeline\u001b[0m\u001b[0;34m)\u001b[0m\u001b[0;34m(\u001b[0m\u001b[0;36m7\u001b[0m\u001b[0;34m)\u001b[0m\u001b[0;34m\u001b[0m\u001b[0m\n\u001b[0m",
      "\u001b[0;32m<ipython-input-52-7d89ff5497bf>\u001b[0m in \u001b[0;36m<lambda>\u001b[0;34m(f, acc, xs)\u001b[0m\n\u001b[1;32m      2\u001b[0m \u001b[0;34m\u001b[0m\u001b[0m\n\u001b[1;32m      3\u001b[0m \u001b[0;32mfrom\u001b[0m \u001b[0mfunctools\u001b[0m \u001b[0;32mimport\u001b[0m \u001b[0mreduce\u001b[0m\u001b[0;34m\u001b[0m\u001b[0m\n\u001b[0;32m----> 4\u001b[0;31m \u001b[0mfoldl\u001b[0m \u001b[0;34m=\u001b[0m \u001b[0;34m(\u001b[0m\u001b[0;32mlambda\u001b[0m \u001b[0mf\u001b[0m\u001b[0;34m,\u001b[0m \u001b[0macc\u001b[0m\u001b[0;34m,\u001b[0m \u001b[0mxs\u001b[0m\u001b[0;34m:\u001b[0m \u001b[0mreduce\u001b[0m\u001b[0;34m(\u001b[0m\u001b[0mf\u001b[0m\u001b[0;34m,\u001b[0m\u001b[0mxs\u001b[0m\u001b[0;34m,\u001b[0m\u001b[0macc\u001b[0m\u001b[0;34m)\u001b[0m\u001b[0;34m)\u001b[0m\u001b[0;34m\u001b[0m\u001b[0m\n\u001b[0m\u001b[1;32m      5\u001b[0m \u001b[0;34m\u001b[0m\u001b[0m\n\u001b[1;32m      6\u001b[0m \u001b[0;32mdef\u001b[0m \u001b[0mprid\u001b[0m \u001b[0;34m(\u001b[0m\u001b[0mx\u001b[0m\u001b[0;34m)\u001b[0m\u001b[0;34m:\u001b[0m\u001b[0;34m\u001b[0m\u001b[0m\n",
      "\u001b[0;31mTypeError\u001b[0m: reduce() arg 2 must support iteration"
     ]
    }
   ],
   "source": [
    "# Exercise: achieve the same result as above by decorating each step of the mapping pipeline\n",
    "\n",
    "pipeline = [(lambda x:x+1),(lambda x:x*2),(lambda x:x+4),(lambda x:round(x/2)),(lambda x:x-1)]\n",
    "\n",
    "printing_pipeline = None # your code here\n",
    "\n",
    "# Unit tests (visual inspection)\n",
    "foldl(compose,(lambda x:x),printing_pipeline)(7)"
   ]
  },
  {
   "cell_type": "code",
   "execution_count": 54,
   "metadata": {
    "scrolled": true
   },
   "outputs": [
    {
     "name": "stdout",
     "output_type": "stream",
     "text": [
      "6\n",
      "3\n",
      "7\n",
      "14\n",
      "15\n"
     ]
    }
   ],
   "source": [
    "# Solution\n",
    "\n",
    "\n",
    "\n",
    "\n",
    "\n",
    "\n",
    "\n",
    "\n",
    "\n",
    "# Don't peek!\n",
    "\n",
    "\n",
    "\n",
    "\n",
    "\n",
    "\n",
    "\n",
    "\n",
    "\n",
    "\n",
    "\n",
    "\n",
    "\n",
    "\n",
    "def with_printing (f):\n",
    "    def wrapper(*args):\n",
    "        a = f(*args)\n",
    "        print(a)\n",
    "        return a\n",
    "    return wrapper\n",
    "\n",
    "printing_pipeline = [with_printing(p) for p in pipeline] # map(with_printing,pipeline)\n",
    "\n",
    "foldl(compose,(lambda x:x),printing_pipeline)(7)\n",
    "\n",
    "del with_printing, printing_pipeline"
   ]
  },
  {
   "cell_type": "markdown",
   "metadata": {},
   "source": [
    "Functions are _closures_: they carry around the lexical scope they were defined in. So far, we've created _immutable_ data structures. In order to start mutating them, we need to explicitly tell Python we want to mess around with the nonlocal scope."
   ]
  },
  {
   "cell_type": "code",
   "execution_count": 55,
   "metadata": {
    "scrolled": true
   },
   "outputs": [
    {
     "name": "stdout",
     "output_type": "stream",
     "text": [
      "None\n",
      "1\n",
      "1\n",
      "2\n",
      "2\n",
      "3\n"
     ]
    }
   ],
   "source": [
    "undefined = None # or whatever value makes sense for undefined variables\n",
    "verbose = True\n",
    "def make_var():\n",
    "    a = undefined\n",
    "    def var(x=a):\n",
    "        nonlocal a\n",
    "        if x != undefined:\n",
    "            a = x     # var is NOT a pure function\n",
    "            if verbose: print(a)\n",
    "            return a\n",
    "        else:\n",
    "            if verbose: print(a)\n",
    "            return a\n",
    "    return var\n",
    "\n",
    "i = make_var()\n",
    "i()       # Initially undefined\n",
    "i(1)      # set the var-like function stored in `i` to one\n",
    "i()       # now calls to the var-like function return one\n",
    "i(2)\n",
    "i(undefined)   # undefined is the only value you can't assign\n",
    "i(3)\n",
    "\n",
    "verbose=False\n",
    "del i"
   ]
  },
  {
   "cell_type": "markdown",
   "metadata": {},
   "source": [
    "Whenever you change a cell-value in an Excel spreadsheet, every other cell that depended on that value automatically changes. This idea is known as data flow (aka _Reactive_) programming (as opposed to Control flow programming, which we'll visit in the next section).\n",
    "\n",
    "Using functions as data makes reactive programming really easy:"
   ]
  },
  {
   "cell_type": "code",
   "execution_count": 56,
   "metadata": {
    "scrolled": true
   },
   "outputs": [
    {
     "name": "stdout",
     "output_type": "stream",
     "text": [
      "4 + 3 == 7\n",
      "pick a number...\n",
      ">>> -3\n",
      "4 + -3.0 == 1.0\n"
     ]
    }
   ],
   "source": [
    "# initially undefined\n",
    "i = make_var()\n",
    "j = make_var()\n",
    "\n",
    "k = lambda: (i()+j()) # this is assignment at the function-level, but true equality on the computed-value level!\n",
    "\n",
    "# let's change the values of i,j:\n",
    "i(4)\n",
    "j(3)\n",
    "# check\n",
    "print(i(),\"+\",j(),\"==\",k())\n",
    "\n",
    "# and again\n",
    "print(\"pick a number...\")\n",
    "j(float(input(\">>> \"))) # try typing -3\n",
    "print(i(),\"+\",j(),\"==\",k())\n",
    "\n",
    "del i, j, k"
   ]
  },
  {
   "cell_type": "markdown",
   "metadata": {},
   "source": [
    "In the code above, the value of the thunk `k()` is recomputed on each call. In practise you might want to perform such re-computations lazily: the value of `i()` didn't change between the two calls to `k()`, you could use a memoized value instead of calling `i()` -- but personally I'd rather avoid managing mutable state in the first place, so I'm not sure what the best approach is."
   ]
  },
  {
   "cell_type": "code",
   "execution_count": 57,
   "metadata": {
    "scrolled": true
   },
   "outputs": [
    {
     "name": "stdout",
     "output_type": "stream",
     "text": [
      "1\n",
      "42\n",
      "42\n"
     ]
    }
   ],
   "source": [
    "# True equality also means you can _backpropagate_ assignments\n",
    "i = make_var()\n",
    "i(1)\n",
    "\n",
    "def k (x=undefined):\n",
    "    if x!=undefined:\n",
    "        i(x)\n",
    "    return i()\n",
    "\n",
    "print(k())   # check that k() == i()\n",
    "print(k(42)) # setting the value of k...\n",
    "print(i()) # ... also sets the value of i!\n",
    "\n",
    "# When k depends on multiple variables i, j, ..., you'll be able to design your own backpropagation strategies. "
   ]
  },
  {
   "cell_type": "markdown",
   "metadata": {},
   "source": [
    "## 3.6) Bonus Material\n",
    "\n",
    "The reason I'm even bringing up reactive programming is to showcase _hot-swapping_. Suppose you know in advance that you might want to change a program's code during the program's runtime; particularly, you want to change the definition of some function and make sure any other function you've built on top of it sees the change.\n",
    "\n",
    "(The only reason I can think of for wanting this is if you're modifying a live system with high-availability requirements)"
   ]
  },
  {
   "cell_type": "code",
   "execution_count": 58,
   "metadata": {
    "scrolled": true
   },
   "outputs": [
    {
     "name": "stdout",
     "output_type": "stream",
     "text": [
      "Regular `partial` behaviour:\n",
      "[-2, -1, 0]\n",
      "[-2, -1, 0] # change in `f1` not seen by `f2`\n",
      "\n",
      "Hot-Swapping with manual currying:\n",
      "[-2, -1, 0]\n",
      "[6, 7, 8]\n"
     ]
    }
   ],
   "source": [
    "from functools import partial\n",
    "\n",
    "print(\"Regular `partial` behaviour:\")\n",
    "\n",
    "f1 = lambda x:x-3\n",
    "f2 = partial(map,f1)\n",
    "print(list(f2([1,2,3])))\n",
    "f1 = lambda x:x+5\n",
    "print(list(f2([1,2,3])), \"# change in `f1` not seen by `f2`\")\n",
    "\n",
    "print(\"\\nHot-Swapping with manual currying:\")\n",
    "\n",
    "f1 = lambda x:x-3\n",
    "f2 = lambda ls: map(f1,ls) # !!!\n",
    "print(list(f2([1,2,3])))\n",
    "f1 = lambda x:x+5\n",
    "print(list(f2([1,2,3])))\n",
    "\n",
    "del f1,f2"
   ]
  },
  {
   "cell_type": "markdown",
   "metadata": {},
   "source": [
    "The difference between currying `f1` with `partial` and manually currying `f1` into `f2` is the difference between calling `f1` _by value_ (pure fn arg) vs. calling it _by reference_.\n",
    "\n",
    "The variable `f1` in the manually curried version of `f2` is just a reference to some value: because lambda means laziness, Python is not actually fetching the value referenced by `f1` until we call `f2`. The difference is subtle, but super relevant: `partial(map,f1)` is a pure function, while `lambda ls: map(f1,ls)` is very slightly impure: `f1` is resolved out of the global namespace. <sub><sup>Unless your compiler optimises more than you expect it to, and inlines the call to f1...</sup></sub>"
   ]
  },
  {
   "cell_type": "code",
   "execution_count": 59,
   "metadata": {
    "scrolled": true
   },
   "outputs": [
    {
     "data": {
      "text/plain": [
       "[2, 4, 6, 8]"
      ]
     },
     "execution_count": 59,
     "metadata": {},
     "output_type": "execute_result"
    }
   ],
   "source": [
    "# Evil time\n",
    "\n",
    "f = lambda ls: map(lambda x: x%2==0,ls)\n",
    "\n",
    "map = filter\n",
    "\n",
    "list(f([1,2,3,4,5,6,7,8]))"
   ]
  },
  {
   "cell_type": "markdown",
   "metadata": {},
   "source": [
    "# 4) Control Flow\n",
    "\n",
    "A pure function computes a value (usually by calling other pure functions) and then returns. But what if we could hijack the whole \"return\" business?\n",
    "\n",
    "## 4.1) Recursion\n",
    "\n",
    "The common way muck around with how functions return, is to have functions recursively call *themselves* to compute the value they want to return. In order to do this, you usually need a named function (or, if you're feeling fancy, you can use the [Y combinator](https://en.wikipedia.org/wiki/Fixed-point_combinator#Fixed_point_combinators_in_lambda_calculus))."
   ]
  },
  {
   "cell_type": "code",
   "execution_count": 60,
   "metadata": {
    "scrolled": true
   },
   "outputs": [
    {
     "name": "stdout",
     "output_type": "stream",
     "text": [
      "maximum recursion depth exceeded!\n"
     ]
    }
   ],
   "source": [
    "# The simplest case of recursion is the infinite loop:\n",
    "def infiniteLoop():\n",
    "    return infiniteLoop()\n",
    "\n",
    "# Python is a decent language, and will throw an error\n",
    "# instead of just using up all the computer's memory.\n",
    "try:\n",
    "    infiniteLoop()\n",
    "except RecursionError:\n",
    "    print(\"maximum recursion depth exceeded!\")"
   ]
  },
  {
   "cell_type": "code",
   "execution_count": 61,
   "metadata": {
    "scrolled": true
   },
   "outputs": [
    {
     "name": "stdout",
     "output_type": "stream",
     "text": [
      "2^-2 = 0.25\n",
      "2^-1 = 0.5\n",
      "2^0 = 1\n",
      "2^1 = 2\n",
      "2^2 = 4\n",
      "2^3 = 8\n",
      "2^4 = 16\n",
      "2^5 = 32\n",
      "2^6 = 64\n",
      "2^7 = 128\n",
      "2^8 = 256\n",
      "2^9 = 512\n",
      "2^10 = 1024\n"
     ]
    }
   ],
   "source": [
    "# Designing a recursive function is like designing a loop: you want some termination condition to avoid infinities\n",
    "\n",
    "def up_to_ten(x):\n",
    "    if x > 10:\n",
    "        return True\n",
    "    else:\n",
    "        print(\"2^\"+str(x),\"=\",str(2**x))\n",
    "        up_to_ten(x+1)\n",
    "\n",
    "up_to_ten(-2)\n",
    "del up_to_ten"
   ]
  },
  {
   "cell_type": "markdown",
   "metadata": {},
   "source": [
    "As you can see, recursive functions use input arguments (`x` above) to represent statefulness (instead of capturing variables from the global scope). This is the same strategy we used in `fold`, and a big theme in functional programming more generally."
   ]
  },
  {
   "cell_type": "code",
   "execution_count": 62,
   "metadata": {
    "scrolled": true
   },
   "outputs": [
    {
     "name": "stdout",
     "output_type": "stream",
     "text": [
      ">> 1\n",
      "<  3\n",
      ">> 2\n",
      "<  4\n",
      ">> 3\n",
      "<  5\n",
      ">> 4\n",
      "<  6\n",
      ">> 5\n",
      "<  7\n",
      ">> 6\n",
      "<  8\n",
      ">> 7\n"
     ]
    }
   ],
   "source": [
    "# not all recursion is self-recursion: \n",
    "\n",
    "def one_step_back (x):\n",
    "    print(\"< \",x)\n",
    "    return two_steps_forward(x-1)\n",
    "\n",
    "def two_steps_forward (x):\n",
    "    print(\">>\",x)\n",
    "    if x>6:\n",
    "        return True\n",
    "    else:\n",
    "        one_step_back(x+2)\n",
    "\n",
    "two_steps_forward(1)\n",
    "\n",
    "del two_steps_forward, one_step_back"
   ]
  },
  {
   "cell_type": "markdown",
   "metadata": {
    "collapsed": true
   },
   "source": [
    "## 4.2) Trampolines\n",
    "\n",
    "Laziness + recursion = no stack consumption"
   ]
  },
  {
   "cell_type": "markdown",
   "metadata": {},
   "source": [
    "## 4.3) Continuations\n",
    "\n",
    "And now for something completely different.\n",
    "\n",
    "The most direct way to hijack function returns is to create a function that provides the same utility as `return`: capture the rest of the calculation a function is supposed to return to (aka the functions' *continuation*) in an object, and make a function that takes us to that part of the calculation."
   ]
  },
  {
   "cell_type": "code",
   "execution_count": 63,
   "metadata": {
    "collapsed": true,
    "scrolled": true
   },
   "outputs": [],
   "source": [
    "# From Peter Norvig:\n",
    "def call_with_escape_continuation(proc):\n",
    "    \"Call proc with current continuation; escape only\"\n",
    "    ball = RuntimeWarning(\"Sorry, can't continue this continuation any longer.\")\n",
    "    def throw(retval): ball.retval = retval; raise ball\n",
    "    try:\n",
    "        return proc(throw)\n",
    "    except RuntimeWarning as w:\n",
    "        if w is ball: return ball.retval\n",
    "        else: raise w"
   ]
  },
  {
   "cell_type": "code",
   "execution_count": 64,
   "metadata": {
    "scrolled": true
   },
   "outputs": [
    {
     "data": {
      "text/plain": [
       "42"
      ]
     },
     "execution_count": 64,
     "metadata": {},
     "output_type": "execute_result"
    }
   ],
   "source": [
    "def g (x):\n",
    "    return x+\"!\"\n",
    "\n",
    "def f (k):\n",
    "    g(k(41))\n",
    "    print(\"!\")\n",
    "\n",
    "call_with_escape_continuation(f)+1"
   ]
  },
  {
   "cell_type": "markdown",
   "metadata": {},
   "source": [
    "There's something deeply abusive going on here: `call/ec` created a function-like thing (`k`) that skips all the \"!\" parts of the computation and returns 41 immediately to the place where `call/ec` was called. Continuations can prevent functions `f` and `g` from returning, or even from running cleanup code (closing open files). Basically, we've taken all the dangerous parts of Python's exception handling and bundled them into a (one-use only) function.\n",
    "\n",
    "In other languages, continuations can do even more pathological things to your control flow. My recommendation is to treat them like a pathologist treats the plague: study them in order to recognise the symptoms, but never use them.\n",
    "\n",
    "I only mention this because in the analogy that reducing functions == loops, we have `k` == `break`."
   ]
  },
  {
   "cell_type": "markdown",
   "metadata": {},
   "source": [
    "# 5) Final Thoughts\n",
    "\n",
    "There's a lot more that could be talked about. Other common functional patterns, the rich history and connections to mathematics, and a few deeper topics that Python simply isn't suited for (tail call elimination, delimited continuations, monads, homoiconicity)."
   ]
  }
 ],
 "metadata": {
  "kernelspec": {
   "display_name": "Python 3",
   "language": "python",
   "name": "python3"
  },
  "language_info": {
   "codemirror_mode": {
    "name": "ipython",
    "version": 3
   },
   "file_extension": ".py",
   "mimetype": "text/x-python",
   "name": "python",
   "nbconvert_exporter": "python",
   "pygments_lexer": "ipython3",
   "version": "3.5.4"
  }
 },
 "nbformat": 4,
 "nbformat_minor": 2
}
