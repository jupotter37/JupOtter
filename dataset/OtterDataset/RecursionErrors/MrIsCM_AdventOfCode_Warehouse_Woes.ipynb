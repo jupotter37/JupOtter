{
 "cells": [
  {
   "cell_type": "markdown",
   "metadata": {},
   "source": [
    "# Warehouse Woes"
   ]
  },
  {
   "cell_type": "markdown",
   "metadata": {},
   "source": [
    "## Part 1"
   ]
  },
  {
   "cell_type": "code",
   "execution_count": 72,
   "metadata": {},
   "outputs": [],
   "source": [
    "def parse_input(sample=None):\n",
    "\n",
    "\tdef read_input(sample=sample, file_path=\"Warehouse_Woes.txt\", mode=\"r\"):\n",
    "\t\tif sample is not None:\n",
    "\t\t\tfile_path = f\"sample{sample}.txt\"\n",
    "\n",
    "\t\twith open(file_path, mode) as file:\n",
    "\t\t\treturn file.read()\n",
    "\n",
    "\tdata = read_input(sample)\n",
    "\n",
    "\tdata = data.split(\"\\n\\n\")\n",
    "\n",
    "\tgrid = [list(row) for row in data[0].split(\"\\n\")]\n",
    "\n",
    "\tinstructions = \"\".join( row for row in data[1].split(\"\\n\"))\n",
    "\n",
    "\treturn grid, instructions"
   ]
  },
  {
   "cell_type": "code",
   "execution_count": 73,
   "metadata": {},
   "outputs": [],
   "source": [
    "def find_start(grid, start_symbol=\"@\"):\n",
    "\tfor i, row in enumerate(grid):\n",
    "\t\tfor j, cell in enumerate(row):\n",
    "\t\t\tif cell == start_symbol:\n",
    "\t\t\t\treturn i, j\n",
    "\t\t\t\n",
    "\treturn \"Not Found\""
   ]
  },
  {
   "cell_type": "code",
   "execution_count": 74,
   "metadata": {},
   "outputs": [],
   "source": [
    "def print_grid(grid):\n",
    "\tfor row in grid:\n",
    "\t\tprint(\"\".join(row))"
   ]
  },
  {
   "cell_type": "code",
   "execution_count": 75,
   "metadata": {},
   "outputs": [],
   "source": [
    "def gps_score(grid, x_mult=100, y_mult=1):\n",
    "\tscore = 0\n",
    "\tfor i, row in enumerate(grid):\n",
    "\t\tfor j, cell in enumerate(row):\n",
    "\t\t\tif cell == \"O\":\n",
    "\t\t\t\tscore += i * x_mult + j * y_mult\n",
    "\n",
    "\treturn score"
   ]
  },
  {
   "cell_type": "code",
   "execution_count": 76,
   "metadata": {},
   "outputs": [],
   "source": [
    "def push_boxes(grid, position, direction):\n",
    "\tx, y = position\n",
    "\tdx, dy = direction\n",
    "\n",
    "\ti = 0\n",
    "\twhile True:\n",
    "\t\ti += 1\n",
    "\t\tnx, ny = x+i*dx, y+i*dy\n",
    "\n",
    "\t\t# If we reach a wall, do nothing, no movement\n",
    "\t\tif grid[nx][ny] == \"#\":\n",
    "\t\t\treturn x, y\n",
    "\t\t\n",
    "\t\t# If we reach a free space:\n",
    "\t\t# \tMove box to the free space\n",
    "\t\t# \tMove robot to next position in the direction of movement\n",
    "\t\telif grid[nx][ny] == \".\":\n",
    "\t\t\t# Move box to the free spot\n",
    "\t\t\tgrid[nx][ny] = \"O\"\n",
    "\t\t\t# Move robot to the first box position\n",
    "\t\t\tgrid[x+dx][y+dy] = \"@\"\n",
    "\t\t\t# Remove the robot from previous position\n",
    "\t\t\tgrid[x][y] = \".\"\n",
    "\t\t\t# Update the position of the robot\n",
    "\t\t\tx, y = x+dx, y+dy\n",
    "\t\t\treturn x, y\n",
    "\n",
    "\t\t# Else, we reached a box. Do nothing, keep looking ahead \n",
    "\t\t# for a free space or a wall\n",
    "\t\telif grid[nx][ny] == \"O\":\n",
    "\t\t\tcontinue \n",
    "\n",
    "\t\telse:\n",
    "\t\t\tprint(\"Error: Invalid cell\")"
   ]
  },
  {
   "cell_type": "code",
   "execution_count": 77,
   "metadata": {},
   "outputs": [],
   "source": [
    "def simulate_movement(grid, instructions, start_pos, verbose=False):\n",
    "\tx, y = start_pos\n",
    "\t# directions = [(0, 1), (1, 0), (0, -1), (-1, 0)]\n",
    "\tdirections_dict = {\n",
    "\t\">\": (0, 1),\n",
    "\t\"v\": (1, 0),\n",
    "\t\"<\": (0, -1),\n",
    "\t\"^\": (-1, 0)\n",
    "}\n",
    "\t\n",
    "\tfor instruction in instructions:\n",
    "\t\tdx, dy = directions_dict[instruction]\n",
    "\t\t\n",
    "\t\tif verbose:\n",
    "\t\t\tprint(f\"Robot at {x}, {y} moving {instruction}\")\n",
    "\n",
    "\t\tif grid[x + dx][y + dy] == \"#\":\n",
    "\t\t\tpass\n",
    "\t\telif grid[x + dx][y + dy] == \".\":\n",
    "\t\t\tgrid[x + dx][y + dy] = \"@\"\n",
    "\t\t\tgrid[x][y] = \".\"\n",
    "\t\t\tx += dx\n",
    "\t\t\ty += dy\n",
    "\t\telse:\n",
    "\t\t\tx, y = push_boxes(grid, (x, y), (dx, dy))\n",
    "\n",
    "\t\tif verbose:\n",
    "\t\t\tprint_grid(grid)\n",
    "\t\t\tprint()\n",
    "\n",
    "\n",
    "\tscore = gps_score(grid)\n",
    "\n",
    "\treturn grid, score"
   ]
  },
  {
   "cell_type": "code",
   "execution_count": 78,
   "metadata": {},
   "outputs": [],
   "source": [
    "def part1(sample=None, verbose=False):\n",
    "\tgrid, instructions = parse_input(sample)\n",
    "\tstart_pos = find_start(grid)\n",
    "\tgrid, score = simulate_movement(grid, instructions, start_pos, verbose)\n",
    "\n",
    "\treturn score"
   ]
  },
  {
   "cell_type": "code",
   "execution_count": 79,
   "metadata": {},
   "outputs": [
    {
     "name": "stdout",
     "output_type": "stream",
     "text": [
      "Small sample: 2028\n",
      "Large sample: 10092\n",
      "\n",
      "Solution: 1421727\n"
     ]
    }
   ],
   "source": [
    "print(f\"Small sample: {part1(sample=2)}\")\n",
    "print(f\"Large sample: {part1(sample=1)}\")\n",
    "print(f\"\\nSolution: {part1()}\")"
   ]
  },
  {
   "cell_type": "markdown",
   "metadata": {},
   "source": [
    "## Part 2"
   ]
  },
  {
   "cell_type": "code",
   "execution_count": 80,
   "metadata": {},
   "outputs": [],
   "source": [
    "def transform_grid(grid):\n",
    "\tnew_grid = []\n",
    "\tfor row in grid:\n",
    "\t\tnew_row = \"\"\n",
    "\t\tfor cell in row:\n",
    "\t\t\tif cell == \"#\":\n",
    "\t\t\t\tnew_row += \"##\"\n",
    "\t\t\telif cell == \"O\":\n",
    "\t\t\t\tnew_row += \"[]\"\n",
    "\t\t\telif cell == \"@\":\n",
    "\t\t\t\tnew_row += \"@.\"\n",
    "\t\t\telse:\n",
    "\t\t\t\tnew_row += \"..\"\n",
    "\t\tnew_grid.append(list(new_row))\n",
    "\n",
    "\treturn new_grid"
   ]
  },
  {
   "cell_type": "code",
   "execution_count": 132,
   "metadata": {},
   "outputs": [],
   "source": [
    "def is_valid_move(grid, positions, direction):\n",
    "\n",
    "\tcurrent_layer = []\n",
    "\tvalid_layer = True\n",
    "\n",
    "\n",
    "\n",
    "\tfor position in positions:\n",
    "\t\tx, y = position\n",
    "\t\tdx, dy = direction\n",
    "\t\tnx, ny = x + dx, y + dy\n",
    "\n",
    "\t\tif grid[nx][ny] == \"#\":\n",
    "\t\t\treturn False\n",
    "\t\t\n",
    "\t\t# If moving up or down\n",
    "\t\tif direction == (1, 0) or direction == (-1, 0):\n",
    "\t\t\tif grid[nx][ny] == \"[\":\n",
    "\t\t\t\tcurrent_layer.extend([(nx, ny), (nx, ny+1)])\n",
    "\t\t\telif grid[nx][ny] == \"]\":\n",
    "\t\t\t\tcurrent_layer.extend([(nx, ny-1), (nx, ny)])\n",
    "\n",
    "\t\t# If moving left or right\n",
    "\t\telse:\n",
    "\t\t\tif grid[nx][ny] == \"[\":\n",
    "\t\t\t\tcurrent_layer.extend([(nx, ny+1)])\n",
    "\t\t\telif grid[nx][ny] == \"]\":\n",
    "\t\t\t\tcurrent_layer.extend([(nx, ny-1)])\n",
    "\n",
    "\n",
    "\tif len(current_layer) != 0:\n",
    "\t\tvalid_layer = is_valid_move(grid, current_layer, direction)\n",
    "\n",
    "\tif not valid_layer:\n",
    "\t\treturn False\n",
    "\t\n",
    "\t# Update positions\n",
    "\tfor position in positions:\n",
    "\t\tx, y = position\n",
    "\t\tdx, dy = direction\n",
    "\t\tnx, ny = x + dx, y + dy\n",
    "\n",
    "\t\tif grid[x][y] == \"@\":\n",
    "\t\t\tgrid[nx][ny] = \"@\"\n",
    "\t\t\tgrid[x][y] = \".\"\n",
    "\t\t\n",
    "\t\telif grid[x][y] == \"[\":\n",
    "\t\t\tgrid[nx][ny:ny+2] = \"[]\"\n",
    "\t\t\tgrid[x][y:y+2] = \"..\"\n",
    "\t\t\n",
    "\t\telif grid[x][y] == \"]\":\n",
    "\t\t\tgrid[nx][ny-1:ny+1] = \"[]\"\n",
    "\t\t\tgrid[x][y-1:y+1] = \"..\"\n",
    "\n",
    "\n",
    "\tx, y = positions[0]\n",
    "\tnx, ny = x + dx, y + dy\n",
    "\tif len(positions) == 1 and grid[nx][ny] == \"@\":\n",
    "\t\treturn nx, ny\n",
    "\telse:\n",
    "\t\treturn True"
   ]
  },
  {
   "cell_type": "code",
   "execution_count": 133,
   "metadata": {},
   "outputs": [],
   "source": [
    "def simulate_movement_v2(grid, instructions, start_pos, verbose=False):\n",
    "\tx, y = start_pos\n",
    "\t# directions = [(0, 1), (1, 0), (0, -1), (-1, 0)]\n",
    "\tdirections_dict = {\n",
    "\t\t\">\": (0, 1),\n",
    "\t\t\"v\": (1, 0),\n",
    "\t\t\"<\": (0, -1),\n",
    "\t\t\"^\": (-1, 0)\n",
    "\t}\n",
    "\t\n",
    "\tif verbose:\n",
    "\t\tprint(\"Initial Grid\")\n",
    "\t\tprint_grid(grid)\n",
    "\t\tprint()\n",
    "\n",
    "\tfor instruction in instructions:\n",
    "\t\tdx, dy = directions_dict[instruction]\n",
    "\t\t\n",
    "\t\tif verbose:\n",
    "\t\t\tprint(f\"Moving {instruction}\")\n",
    "\n",
    "\t\tnx, ny = x + dx, y + dy\n",
    "\t\t\n",
    "\t\tif grid[nx][ny] == \"#\":\n",
    "\t\t\tpass\n",
    "\t\telif grid[nx][ny] == \".\":\n",
    "\t\t\tgrid[nx][ny] = \"@\"\n",
    "\t\t\tgrid[x][y] = \".\"\n",
    "\t\t\tx += dx\n",
    "\t\t\ty += dy\n",
    "\n",
    "\t\telse:\n",
    "\t\t\tstatus = is_valid_move(grid, [(x, y)], (dx, dy))\n",
    "\t\t\tif status == False:\n",
    "\t\t\t\tpass\n",
    "\t\t\telse:\n",
    "\t\t\t\tx, y = status\n",
    "\n",
    "\t\tif verbose:\n",
    "\t\t\tprint_grid(grid)\n",
    "\t\t\tprint()\n",
    "\n",
    "\treturn grid"
   ]
  },
  {
   "cell_type": "code",
   "execution_count": 134,
   "metadata": {},
   "outputs": [
    {
     "name": "stdout",
     "output_type": "stream",
     "text": [
      "Initial Grid\n",
      "################\n",
      "##..@.[][]....##\n",
      "##............##\n",
      "################\n",
      "\n",
      "Moving >\n",
      "################\n",
      "##...@[][]....##\n",
      "##............##\n",
      "################\n",
      "\n",
      "Moving >\n",
      "################\n",
      "##....@.].]...##\n",
      "##............##\n",
      "################\n",
      "\n",
      "Moving >\n",
      "################\n",
      "##.....@].]...##\n",
      "##............##\n",
      "################\n",
      "\n",
      "Moving >\n"
     ]
    },
    {
     "ename": "RecursionError",
     "evalue": "maximum recursion depth exceeded",
     "output_type": "error",
     "traceback": [
      "\u001b[1;31m---------------------------------------------------------------------------\u001b[0m",
      "\u001b[1;31mRecursionError\u001b[0m                            Traceback (most recent call last)",
      "Cell \u001b[1;32mIn[134], line 5\u001b[0m\n\u001b[0;32m      2\u001b[0m grid \u001b[38;5;241m=\u001b[39m transform_grid(data)\n\u001b[0;32m      3\u001b[0m start_pos \u001b[38;5;241m=\u001b[39m find_start(grid, start_symbol\u001b[38;5;241m=\u001b[39m\u001b[38;5;124m\"\u001b[39m\u001b[38;5;124m@\u001b[39m\u001b[38;5;124m\"\u001b[39m)\n\u001b[1;32m----> 5\u001b[0m grid_updated \u001b[38;5;241m=\u001b[39m \u001b[43msimulate_movement_v2\u001b[49m\u001b[43m(\u001b[49m\u001b[43mgrid\u001b[49m\u001b[43m,\u001b[49m\u001b[43m \u001b[49m\u001b[43minstructions\u001b[49m\u001b[43m,\u001b[49m\u001b[43m \u001b[49m\u001b[43mstart_pos\u001b[49m\u001b[43m,\u001b[49m\u001b[43m \u001b[49m\u001b[43mverbose\u001b[49m\u001b[38;5;241;43m=\u001b[39;49m\u001b[38;5;28;43;01mTrue\u001b[39;49;00m\u001b[43m)\u001b[49m\n",
      "Cell \u001b[1;32mIn[133], line 33\u001b[0m, in \u001b[0;36msimulate_movement_v2\u001b[1;34m(grid, instructions, start_pos, verbose)\u001b[0m\n\u001b[0;32m     30\u001b[0m \ty \u001b[38;5;241m+\u001b[39m\u001b[38;5;241m=\u001b[39m dy\n\u001b[0;32m     32\u001b[0m \u001b[38;5;28;01melse\u001b[39;00m:\n\u001b[1;32m---> 33\u001b[0m \tstatus \u001b[38;5;241m=\u001b[39m \u001b[43mis_valid_move\u001b[49m\u001b[43m(\u001b[49m\u001b[43mgrid\u001b[49m\u001b[43m,\u001b[49m\u001b[43m \u001b[49m\u001b[43m[\u001b[49m\u001b[43m(\u001b[49m\u001b[43mx\u001b[49m\u001b[43m,\u001b[49m\u001b[43m \u001b[49m\u001b[43my\u001b[49m\u001b[43m)\u001b[49m\u001b[43m]\u001b[49m\u001b[43m,\u001b[49m\u001b[43m \u001b[49m\u001b[43m(\u001b[49m\u001b[43mdx\u001b[49m\u001b[43m,\u001b[49m\u001b[43m \u001b[49m\u001b[43mdy\u001b[49m\u001b[43m)\u001b[49m\u001b[43m)\u001b[49m\n\u001b[0;32m     34\u001b[0m \t\u001b[38;5;28;01mif\u001b[39;00m status \u001b[38;5;241m==\u001b[39m \u001b[38;5;28;01mFalse\u001b[39;00m:\n\u001b[0;32m     35\u001b[0m \t\t\u001b[38;5;28;01mpass\u001b[39;00m\n",
      "Cell \u001b[1;32mIn[132], line 32\u001b[0m, in \u001b[0;36mis_valid_move\u001b[1;34m(grid, positions, direction)\u001b[0m\n\u001b[0;32m     28\u001b[0m \t\t\tcurrent_layer\u001b[38;5;241m.\u001b[39mextend([(nx, ny\u001b[38;5;241m-\u001b[39m\u001b[38;5;241m1\u001b[39m)])\n\u001b[0;32m     31\u001b[0m \u001b[38;5;28;01mif\u001b[39;00m \u001b[38;5;28mlen\u001b[39m(current_layer) \u001b[38;5;241m!=\u001b[39m \u001b[38;5;241m0\u001b[39m:\n\u001b[1;32m---> 32\u001b[0m \tvalid_layer \u001b[38;5;241m=\u001b[39m \u001b[43mis_valid_move\u001b[49m\u001b[43m(\u001b[49m\u001b[43mgrid\u001b[49m\u001b[43m,\u001b[49m\u001b[43m \u001b[49m\u001b[43mcurrent_layer\u001b[49m\u001b[43m,\u001b[49m\u001b[43m \u001b[49m\u001b[43mdirection\u001b[49m\u001b[43m)\u001b[49m\n\u001b[0;32m     34\u001b[0m \u001b[38;5;28;01mif\u001b[39;00m \u001b[38;5;129;01mnot\u001b[39;00m valid_layer:\n\u001b[0;32m     35\u001b[0m \t\u001b[38;5;28;01mreturn\u001b[39;00m \u001b[38;5;28;01mFalse\u001b[39;00m\n",
      "Cell \u001b[1;32mIn[132], line 32\u001b[0m, in \u001b[0;36mis_valid_move\u001b[1;34m(grid, positions, direction)\u001b[0m\n\u001b[0;32m     28\u001b[0m \t\t\tcurrent_layer\u001b[38;5;241m.\u001b[39mextend([(nx, ny\u001b[38;5;241m-\u001b[39m\u001b[38;5;241m1\u001b[39m)])\n\u001b[0;32m     31\u001b[0m \u001b[38;5;28;01mif\u001b[39;00m \u001b[38;5;28mlen\u001b[39m(current_layer) \u001b[38;5;241m!=\u001b[39m \u001b[38;5;241m0\u001b[39m:\n\u001b[1;32m---> 32\u001b[0m \tvalid_layer \u001b[38;5;241m=\u001b[39m \u001b[43mis_valid_move\u001b[49m\u001b[43m(\u001b[49m\u001b[43mgrid\u001b[49m\u001b[43m,\u001b[49m\u001b[43m \u001b[49m\u001b[43mcurrent_layer\u001b[49m\u001b[43m,\u001b[49m\u001b[43m \u001b[49m\u001b[43mdirection\u001b[49m\u001b[43m)\u001b[49m\n\u001b[0;32m     34\u001b[0m \u001b[38;5;28;01mif\u001b[39;00m \u001b[38;5;129;01mnot\u001b[39;00m valid_layer:\n\u001b[0;32m     35\u001b[0m \t\u001b[38;5;28;01mreturn\u001b[39;00m \u001b[38;5;28;01mFalse\u001b[39;00m\n",
      "    \u001b[1;31m[... skipping similar frames: is_valid_move at line 32 (2973 times)]\u001b[0m\n",
      "Cell \u001b[1;32mIn[132], line 32\u001b[0m, in \u001b[0;36mis_valid_move\u001b[1;34m(grid, positions, direction)\u001b[0m\n\u001b[0;32m     28\u001b[0m \t\t\tcurrent_layer\u001b[38;5;241m.\u001b[39mextend([(nx, ny\u001b[38;5;241m-\u001b[39m\u001b[38;5;241m1\u001b[39m)])\n\u001b[0;32m     31\u001b[0m \u001b[38;5;28;01mif\u001b[39;00m \u001b[38;5;28mlen\u001b[39m(current_layer) \u001b[38;5;241m!=\u001b[39m \u001b[38;5;241m0\u001b[39m:\n\u001b[1;32m---> 32\u001b[0m \tvalid_layer \u001b[38;5;241m=\u001b[39m \u001b[43mis_valid_move\u001b[49m\u001b[43m(\u001b[49m\u001b[43mgrid\u001b[49m\u001b[43m,\u001b[49m\u001b[43m \u001b[49m\u001b[43mcurrent_layer\u001b[49m\u001b[43m,\u001b[49m\u001b[43m \u001b[49m\u001b[43mdirection\u001b[49m\u001b[43m)\u001b[49m\n\u001b[0;32m     34\u001b[0m \u001b[38;5;28;01mif\u001b[39;00m \u001b[38;5;129;01mnot\u001b[39;00m valid_layer:\n\u001b[0;32m     35\u001b[0m \t\u001b[38;5;28;01mreturn\u001b[39;00m \u001b[38;5;28;01mFalse\u001b[39;00m\n",
      "\u001b[1;31mRecursionError\u001b[0m: maximum recursion depth exceeded"
     ]
    }
   ],
   "source": [
    "data, instructions = parse_input(sample=3)\n",
    "grid = transform_grid(data)\n",
    "start_pos = find_start(grid, start_symbol=\"@\")\n",
    "\n",
    "grid_updated = simulate_movement_v2(grid, instructions, start_pos, verbose=True)"
   ]
  },
  {
   "cell_type": "code",
   "execution_count": 96,
   "metadata": {},
   "outputs": [
    {
     "name": "stdout",
     "output_type": "stream",
     "text": [
      "####################\n",
      "##[]..[]......[][]##\n",
      "##[]...........[].##\n",
      "##[]..........[][]##\n",
      "##[].......[]...[]##\n",
      "##..##............##\n",
      "##..@.............##\n",
      "##.......[]...[][]##\n",
      "##.....[][].......##\n",
      "####################\n"
     ]
    }
   ],
   "source": [
    "print_grid(grid_updated)"
   ]
  }
 ],
 "metadata": {
  "kernelspec": {
   "display_name": "Python 3",
   "language": "python",
   "name": "python3"
  },
  "language_info": {
   "codemirror_mode": {
    "name": "ipython",
    "version": 3
   },
   "file_extension": ".py",
   "mimetype": "text/x-python",
   "name": "python",
   "nbconvert_exporter": "python",
   "pygments_lexer": "ipython3",
   "version": "3.12.1"
  }
 },
 "nbformat": 4,
 "nbformat_minor": 2
}
