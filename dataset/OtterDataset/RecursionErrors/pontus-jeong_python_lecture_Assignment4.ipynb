{
 "cells": [
  {
   "cell_type": "markdown",
   "metadata": {},
   "source": [
    "# Assignment4\n",
    "## 컴퓨터공학부 2016136121 정태훈"
   ]
  },
  {
   "cell_type": "markdown",
   "metadata": {},
   "source": [
    "----------------------------"
   ]
  },
  {
   "cell_type": "markdown",
   "metadata": {},
   "source": [
    "## 문제 1\n",
    "파일 s.txt 내의 다음 내용과 함께 아래 문제의 코드를 제시하시오.\n",
    "> pig ham\n",
    "\n",
    "> cat dog\n",
    "\n",
    "> ham bird\n",
    "\n",
    "> dog pig"
   ]
  },
  {
   "cell_type": "markdown",
   "metadata": {},
   "source": [
    "#### 1-1 문제\n",
    "파일 s.txt을 읽어서 각 라인에 있는 첫 번째 단어(문자열) 자체들을 기준으로 라인별 정렬후 파일 s1.txt에 그 결과를 기록하는 코드를 작성하시오. 즉, 프로그램 수행 후 s1.txt에 있는 파일 내용은 다음과 같다.\n",
    "\n",
    "> cat dog\n",
    "\n",
    "> dog pig\n",
    "\n",
    "> ham bird\n",
    "\n",
    "> pig ham"
   ]
  },
  {
   "cell_type": "code",
   "execution_count": 8,
   "metadata": {
    "collapsed": true
   },
   "outputs": [],
   "source": [
    "s = []\n",
    "\n",
    "with open('s.txt', 'r') as f:\n",
    "    for line in f:\n",
    "        l = line.split()\n",
    "        s.append([l[0], l[1]])\n",
    "s.sort(key=lambda d: d[0])\n",
    "\n",
    "with open(\"s1.txt\", 'w') as s1:\n",
    "    for line in s:\n",
    "        s1.write(str(line[0]) + \" \" + str(line[1]))\n",
    "        s1.write(\"\\n\")"
   ]
  },
  {
   "cell_type": "markdown",
   "metadata": {},
   "source": [
    "#### 1-1 해설"
   ]
  },
  {
   "cell_type": "code",
   "execution_count": 1,
   "metadata": {},
   "outputs": [
    {
     "name": "stdout",
     "output_type": "stream",
     "text": [
      "[['cat', 'dog'], ['dog', 'pig'], ['ham', 'bird'], ['pig', 'ham']]\n"
     ]
    }
   ],
   "source": [
    "s = []\n",
    "with open('s.txt', 'r') as f:\n",
    "    for line in f:\n",
    "        l = line.split()\n",
    "        s.append([l[0], l[1]])\n",
    "s.sort(key=lambda d: d[0])\n",
    "print(s)"
   ]
  },
  {
   "cell_type": "markdown",
   "metadata": {},
   "source": [
    "먼저 파일에 있는 모든 정보들을 list화시키기 위해 띄어쓰기를 기준으로 split으로 나눠서 줄 하나하나마다 list로 만들어준 다음, 이를 하나씩 s란 리스트에 넣어줍니다.\n",
    "\n",
    "그 다음에 문제에서 첫번째 단어를 기준으로 정렬을 하는 것이기에 sort함수를 이용하고, key는 두 객체 중 첫번째 객체를 반환하는 함수로 만들어주면 첫번째 단어를 기준으로 정렬이 됩니다.\n",
    "\n",
    "그러면 이제 이를 파일에 입력하기 위해 입력모드상태에서 파일을 열고 문제에서 주어진 틀에 맞게 파일에 입력을 해줍니다. 여기에서 관건은 줄바꿈도 하나씩 해줘야하는 것입니다."
   ]
  },
  {
   "cell_type": "markdown",
   "metadata": {},
   "source": [
    "#### 1-2 문제\n",
    "파일 s.txt을 읽어서 각 라인에 있는 두 번째 단어(문자열) 자체들을 기준으로 라인별 정렬후 파일 s2.txt에 그 결과를 기록하는 코드를 작성하시오. 즉, 프로그램 수행 후 s2.txt에 있는 파일 내용은 다음과 같다.\n",
    "\n",
    "> ham bird\n",
    "\n",
    "> cat dog\n",
    "\n",
    "> pig ham\n",
    "\n",
    "> dog pig"
   ]
  },
  {
   "cell_type": "code",
   "execution_count": 9,
   "metadata": {
    "collapsed": true
   },
   "outputs": [],
   "source": [
    "s = []\n",
    "\n",
    "with open('s.txt', 'r') as f:\n",
    "    for line in f:\n",
    "        l = line.split()\n",
    "        s.append([l[0], l[1]])\n",
    "s.sort(key=lambda d: d[1])\n",
    "\n",
    "with open(\"s2.txt\", 'w') as s1:\n",
    "    for line in s:\n",
    "        s1.write(str(line[0]) + \" \" + str(line[1]))\n",
    "        s1.write(\"\\n\")"
   ]
  },
  {
   "cell_type": "markdown",
   "metadata": {},
   "source": [
    "#### 1-2 해설"
   ]
  },
  {
   "cell_type": "code",
   "execution_count": 3,
   "metadata": {},
   "outputs": [
    {
     "name": "stdout",
     "output_type": "stream",
     "text": [
      "[['ham', 'bird'], ['cat', 'dog'], ['pig', 'ham'], ['dog', 'pig']]\n"
     ]
    }
   ],
   "source": [
    "s = []\n",
    "with open('s.txt', 'r') as f:\n",
    "    for line in f:\n",
    "        l = line.split()\n",
    "        s.append([l[0], l[1]])\n",
    "s.sort(key=lambda d: d[1])\n",
    "print(s)"
   ]
  },
  {
   "cell_type": "markdown",
   "metadata": {},
   "source": [
    "1-1 문제와 다른 점은 첫번째 단어가 아닌 두번째 단어를 기준으로 정렬하는 것입니다. 그렇기에 sort의 key를 d[0]가 아닌 d[1]으로 하여 두번째 단어를 기준으로 정렬해주기만 하면 됩니다. 파일 입력은 1-1과 같으므로 생략합니다."
   ]
  },
  {
   "cell_type": "markdown",
   "metadata": {},
   "source": [
    "#### 1-3 문제\n",
    "파일 s.txt을 읽어서 각 라인들에 있는 모든 단어들을 순차적으로 다시 나열하되 각 라인에 세 개의 단어들이 오도록 하여 s3.txt에 기록하는 코드를 작성하시오. 즉, 프로그램 수행 후 s3.txt에 있는 파일 내용은 다음과 같다.\n",
    "\n",
    "> pig ham cat\n",
    "\n",
    "> dog ham bird\n",
    "\n",
    "> dog pig"
   ]
  },
  {
   "cell_type": "code",
   "execution_count": 25,
   "metadata": {
    "collapsed": true
   },
   "outputs": [],
   "source": [
    "s = []\n",
    "\n",
    "with open('s.txt', 'r') as f:\n",
    "    for line in f:\n",
    "        l = line.split()\n",
    "        s.append(l[0])\n",
    "        s.append(l[1])\n",
    "\n",
    "with open(\"s3.txt\", 'w') as s3:\n",
    "    for i in range(len(s)):\n",
    "        if(i % 3 == 2):\n",
    "            s3.write(s[i])\n",
    "            s3.write(\"\\n\")\n",
    "        else:\n",
    "            s3.write(s[i])\n",
    "            s3.write(\" \")"
   ]
  },
  {
   "cell_type": "markdown",
   "metadata": {},
   "source": [
    "#### 1-3 해설"
   ]
  },
  {
   "cell_type": "code",
   "execution_count": 4,
   "metadata": {},
   "outputs": [
    {
     "name": "stdout",
     "output_type": "stream",
     "text": [
      "['pig', 'ham', 'cat', 'dog', 'ham', 'bird', 'dog', 'pig']\n"
     ]
    }
   ],
   "source": [
    "s = []\n",
    "\n",
    "with open('s.txt', 'r') as f:\n",
    "    for line in f:\n",
    "        l = line.split()\n",
    "        s.append(l[0])\n",
    "        s.append(l[1])\n",
    "print(s)"
   ]
  },
  {
   "cell_type": "markdown",
   "metadata": {},
   "source": [
    "위의 문제랑 다른 점은 이번에 저장할 때는 한 줄에 3개의 단어가 저장되도록 해야하므로 먼저 모든 단어들을 한 리스트에 모아놓아야합니다. \n",
    "\n",
    "그 다음에 파일에 저장할 때는 1, 2번째일 때는 띄어쓰기를 3번째일때는 줄바꿈을 해야하므로 이는 i % 3이 0일 때와 아닐 때로 구분해서 파일에 작성하도록 하였습니다."
   ]
  },
  {
   "cell_type": "markdown",
   "metadata": {},
   "source": [
    "-----------------------------"
   ]
  },
  {
   "cell_type": "markdown",
   "metadata": {
    "collapsed": true
   },
   "source": [
    "## 문제 2"
   ]
  },
  {
   "cell_type": "markdown",
   "metadata": {},
   "source": [
    "다음과 같은 조건들을 참고하여 회원 가입 및 로그인 프로그램을 작성하시오.\n",
    "\n",
    "1) 프로그램 시작 후 다음과 같은 메시지가 출력되어 1, 2, 3 중 하나의 값을 입력 받도록 한다.\n",
    "> Welcome to Our Service\n",
    "\n",
    "> 1. Sign Up\n",
    " \n",
    "> 2. Sign In\n",
    " \n",
    "> 3. Quit\n",
    " \n",
    "2) 1을 선택하면 ID, Password, Name, School의 4가지 정보를 입력받아 파일에 저장하는 프로그램을 작성한다.<br />\n",
    "    2-1) 입력된 내용은 access.txt 라는 이름의 텍스트 파일 내에 저장된다.<br />\n",
    "    2-2) access.txt 파일의 각 라인에는 가입된 회원 각각의 정보가 \"[id]: [password], [name], [school]\" 형태로 저장된다.<br />\n",
    "    2-3) 즉, 가입 회원이 10명이면 access.txt 파일 내에 라인 수도 정확히 10개이다.<br />\n",
    "    2-4) 암호화 방식은 sha 모듈을 활용한다. sha 모듈 활용 방법은 본 문제의 마지막에 제시된 sha 활용 예를 참고한다.<br />\n",
    "    즉, access.txt 파일 내에 password 정보는 암호화 되어 저장되어야 한다.<br />\n",
    "    2-5) 회원 정보를 입력 받을 때 id를 입력 받은 직후 access.txt를 확인하여 이미 존재하는 id가 입력되었다면 다음 메시지를 출력하고 id 정보를 다시 입력받는다.<br />\n",
    "    \n",
    "        - Sorry, the entered ID is already used.\n",
    "        \n",
    "3) 2를 선택하면 ID, Password의 2가지 정보를 입력받는 프로그램을 작성한다.<br />\n",
    "3-1) 입력된 ID 정보가 access.txt에 존재하지 않으면 다음과 같은 메시지를 출력하고 다시 입력받는다.<br />\n",
    "    \n",
    "        - Sorry, you are not a registered member.\n",
    "        \n",
    "3-2) 입력된 ID가 올바르게 존재하지만 Password 정보가 access.txt 파일에 있는 정보와 불일치하면 다음과 같은 메시지를 출력하고 Password를 다시 입력받는다.<br />\n",
    "    \n",
    "        - Sorry, the entered password is not correct.\n",
    "        \n",
    "이 때에도 사용자가 입력한 Password 정보와 함께 sha 모듈이 활용되어야 한다.<br />\n",
    "    \n",
    "3-3) 입력된 ID와 Password가 모두 올바르면 다음과 같은 메시지를 출력한다.<br />\n",
    "    \n",
    "        - Hello [name]!\n",
    "        \n",
    "위 [name]에는 access.txt에 기록되어 있는 name 정보를 출력한다.<br />\n",
    "\n",
    "4) 3을 선택하면 프로그램이 끝난다."
   ]
  },
  {
   "cell_type": "code",
   "execution_count": 2,
   "metadata": {},
   "outputs": [
    {
     "name": "stdout",
     "output_type": "stream",
     "text": [
      "Welcome to Our Service\n",
      "\n",
      "1. Sign Up\n",
      "2. Sign In\n",
      "3. Quit\n",
      "1\n",
      "아이디 : wxg1297\n",
      "비밀번호 : 123456\n",
      "이름 : 정태훈\n",
      "학교 : koreatech\n",
      "Welcome to Our Service\n",
      "\n",
      "1. Sign Up\n",
      "2. Sign In\n",
      "3. Quit\n",
      "1\n",
      "아이디 : qwer1234\n",
      "비밀번호 : 123456\n",
      "이름 : 김태훈\n",
      "학교 : 코리아텍\n",
      "Welcome to Our Service\n",
      "\n",
      "1. Sign Up\n",
      "2. Sign In\n",
      "3. Quit\n",
      "1\n",
      "아이디 : wxg1297\n",
      "비밀번호 : 123456\n",
      "이름 : 정태훈\n",
      "학교 : koreatech\n",
      "Sorry, the entered ID is already used.\n",
      "\n",
      "Welcome to Our Service\n",
      "\n",
      "1. Sign Up\n",
      "2. Sign In\n",
      "3. Quit\n",
      "2\n",
      "아이디 : wxg1297\n",
      "비밀번호 : aaaaaa\n",
      "Sorry, the entered password is not correct.\n",
      "\n",
      "Welcome to Our Service\n",
      "\n",
      "1. Sign Up\n",
      "2. Sign In\n",
      "3. Quit\n",
      "2\n",
      "아이디 : wxg1297\n",
      "비밀번호 : 123456\n",
      "Hello 정태훈\n",
      "\n",
      "Welcome to Our Service\n",
      "\n",
      "1. Sign Up\n",
      "2. Sign In\n",
      "3. Quit\n",
      "3\n"
     ]
    }
   ],
   "source": [
    "import hashlib\n",
    "select = 0\n",
    "is_same_id = False\n",
    "select = int(input('''Welcome to Our Service\n",
    "\n",
    "1. Sign Up\n",
    "2. Sign In\n",
    "3. Quit\n",
    "'''))\n",
    "# [id]: [password], [name], [school]\n",
    "while(select != 3):\n",
    "    \n",
    "    if(select == 1):\n",
    "        identity = input(\"아이디 : \")\n",
    "        password = input(\"비밀번호 : \")\n",
    "        name = input(\"이름 : \")\n",
    "        school = input(\"학교 : \")\n",
    "        password_encrypted = hashlib.sha1(password.encode('utf-8')).hexdigest()\n",
    "        with open('access.txt', 'r') as f:\n",
    "            for line in f:\n",
    "                i = line.split(':')[0]\n",
    "                if(i == identity):\n",
    "                    print(\"Sorry, the entered ID is already used.\")\n",
    "                    print()\n",
    "                    is_same_id = True\n",
    "                    break\n",
    "        if(not is_same_id):\n",
    "            with open('access.txt', 'a') as f:\n",
    "                f.write(identity + \":\" + password_encrypted + \",\" + name + \",\" + school + \"\\n\")\n",
    "    if(select == 2):\n",
    "        identity = input(\"아이디 : \")\n",
    "        password = input(\"비밀번호 : \")\n",
    "        password_encrypted = hashlib.sha1(password.encode('utf-8')).hexdigest()\n",
    "        with open('access.txt', 'r') as f:\n",
    "            for line in f:\n",
    "                i = line.split(':')[0]\n",
    "                if(i == identity):\n",
    "                    password_read = line.split(':')[1].split(',')[0]\n",
    "                    if(password_read == password_encrypted):\n",
    "                        print(\"Hello \" + line.split(':')[1].split(',')[1])\n",
    "                        print()\n",
    "                    else:\n",
    "                        print(\"Sorry, the entered password is not correct.\")\n",
    "                        print()\n",
    "    select = int(input('''Welcome to Our Service\n",
    "\n",
    "1. Sign Up\n",
    "2. Sign In\n",
    "3. Quit\n",
    "'''))"
   ]
  },
  {
   "cell_type": "markdown",
   "metadata": {},
   "source": [
    "#### 해설 : 문제 2"
   ]
  },
  {
   "cell_type": "markdown",
   "metadata": {
    "collapsed": true
   },
   "source": [
    "먼저 3이 입력될때까지 무한 반복이므로 while문을 사용하여 3이 입력되는 것을 제외하면 true로 해주도록 하였습니다.\n",
    "\n",
    "그다음 1이 입력되었을 때, 회원가입을 하는 것이므로 사용자에게 아이디, 비밀번호, 이름, 학교를 입력받습니다. 그리고 여기서 비밀번호는 hashlib의 sha1을 이용하여 암호화를 시켜줍니다. 그 다음 데이터를 파일에 저장시키는데 먼저 겹치는 사용자가 있는지 확인합니다. 파일을 열어서 line을 하나씩 보고, split(':')[0]를 하여 id를 비교합니다. 만약 가입하려고 하는 아이디와 파일에 있는 아이디가 동일하다면 중복 가입이 되므로, 이 아이디는 이미 사용중이라고 사용자에게 알려주고 break하여 다시 돌려보냅니다. 그것이 아니라면 파일을 추가 모드로 다시 열어서 데이터를 양식에 맞게 write해줍니다. 여기서 데이터 양식은 \"id:password,name,school\"형식입니다.\n",
    "\n",
    "2가 입력되었다면, 로그인을 하는 것이기에 사용자에게 아이디와 비밀번호를 입력받고 파일을 열어줍니다. 먼저 같은 아이디가 있는지 확인해보고 같은 아이디가 없으면 가입이 안되어있다고 하고 다시 돌려보냅니다. 만약 같은 아이디가 있으면 같은 비밀번호인지도 확입해줍니다. 암호화의 경우는 단방향 함수이기에 암호화된 코드를 다시 넣는 것이 아닌, 사용자에게 입력받은 비밀번호를 다시 암호화해서 파일 안의 암호화 값과 같은 암호화 값일 때는 같은 비밀번호라고 인식하여 현재 로그인하려고 하는 사용자가 맞다고 생각합니다. 만약 암호화 값이 다르다면 비밀번호가 틀리다고 하면서 다시 돌려보냅니다. 이제 로그인이 되었다면 그 줄에 해당하는 사용자 이름을 파일에서 가져와서 출력해주고 마칩니다."
   ]
  },
  {
   "cell_type": "markdown",
   "metadata": {},
   "source": [
    "-----------------------"
   ]
  },
  {
   "cell_type": "markdown",
   "metadata": {},
   "source": [
    "## 문제 3\n",
    "range() 함수와 유사한 frange() 함수를 다음 조건을 참고하여 만드시오.<br />\n",
    "1) frange()의 인자 구성은 다음과 같이 range와 동일하지만 각 인수들은 음수를 받지 않는다고 가정한다.<br />\n",
    "``` python\n",
    "range(stop)\n",
    "range(start, stop[, step])\n",
    "```\n",
    "2) frange() 함수의 인자에 대한 기본 시작(start) 값은 0.0이고, 기본 단계(step) 값은 0.1이다.<br />\n",
    "3) frange 사용 예<br />\n",
    "    3-1) frange(0.5)<br />\n",
    "        [0.0, 0.1, 0.2, 0.3, 0.4]<br />\n",
    "    3-2) frange(1.0, 2.0)<br />\n",
    "        [1.0, 1.1, 1.2, 1.3, 1.4, 1.5, 1.6, 1.7, 1.8, 1.9]<br />\n",
    "    3-3) frange(2.2, 4.0, 0.5)<br />\n",
    "        [2.2, 2.7, 3.2, 3.7]<br />"
   ]
  },
  {
   "cell_type": "code",
   "execution_count": 6,
   "metadata": {
    "collapsed": true
   },
   "outputs": [],
   "source": [
    "def frange(*lst):\n",
    "    if(len(lst) == 1):\n",
    "        i = 0.0\n",
    "        l = []\n",
    "        while(i < lst[0]):\n",
    "            l.append(round(i, 1))\n",
    "            i = i + 0.1\n",
    "        return l\n",
    "    if(len(lst) == 2):\n",
    "        i = lst[0]\n",
    "        l = []\n",
    "        while(i < lst[1]):\n",
    "            l.append(round(i, 1))\n",
    "            i = i + 0.1\n",
    "        return l\n",
    "    if(len(lst) == 3):\n",
    "        i = lst[0]\n",
    "        l = []\n",
    "        while(i < lst[1]):\n",
    "            l.append(round(i, 1))\n",
    "            i = i + lst[2]\n",
    "        return l\n",
    "    pass"
   ]
  },
  {
   "cell_type": "code",
   "execution_count": 7,
   "metadata": {},
   "outputs": [
    {
     "name": "stdout",
     "output_type": "stream",
     "text": [
      "[0.0, 0.1, 0.2, 0.3, 0.4]\n",
      "[1.0, 1.1, 1.2, 1.3, 1.4, 1.5, 1.6, 1.7, 1.8, 1.9]\n",
      "[2.2, 2.7, 3.2, 3.7]\n",
      "None\n"
     ]
    }
   ],
   "source": [
    "print(frange(0.5))\n",
    "print(frange(1.0, 2.0))\n",
    "print(frange(2.2, 4.0, 0.5))\n",
    "print(frange(2.2, 4.0, 0.5, 0.1))"
   ]
  },
  {
   "cell_type": "markdown",
   "metadata": {},
   "source": [
    "#### 해설 : 문제3"
   ]
  },
  {
   "cell_type": "markdown",
   "metadata": {
    "collapsed": true
   },
   "source": [
    "frange()의 경우, 인자를 1개, 2개, 3개를 받을 때 구현하는 것이 다르기에 인자의 갯수마다 기능을 다르게 하기 위해 가변 인자를 입력받고 이를 <span> *lst </span>로 표현하였습니다. 그다음 lst의 길이에 따라 기능을 다르게 해주기 위해 len(lst) 가 1, 2, 3일때의 기능을 다르게 하였습니다. \n",
    "먼저 1개의 인자를 받을 때에는 start가 0.0부터, 간격은 0.1로 하기에 end만 사용자에게 받은 인자로 설정해줍니다. 그리고 while문을 이용해 i를 0부터 시작해 0.1씩 더해주면서 i가 end를 초가할 때까지 l이란 리스트에 데이터를 추가해주고 while문이 종료되면 l를 반환시켜주면 됩니다.\n",
    "\n",
    "2개의 인자를 받을 때는 start가 추가되는 것이기에 1개의 인자일 때 실행하는 것에 i를 첫번째 인자로 설정해주고, 0.1씩 더해주면서 i가 end를 초가할때까지 리스트에 데이터를 추가하고 종료되면 반환해줍니다.\n",
    "\n",
    "3개의 인자를 받을 대는 step이 추가되는 것이기에 2개의 인자를 바뀔 때 하는 것에 step을 바꿔주기만 하면 됩니다. 그리고 그렇게 해서 나온 리스트를 반환시켜주면 됩니다.\n",
    "\n",
    "그 외의 인자의 갯수를 받으면 pass를 하여 None을 반환시켜줍니다."
   ]
  },
  {
   "cell_type": "markdown",
   "metadata": {},
   "source": [
    "## 문제 4"
   ]
  },
  {
   "cell_type": "markdown",
   "metadata": {},
   "source": [
    "가변인수를 받는 함수 sum()을 다음과 같은 조건을 참고하여 구현하시오\n",
    "\n",
    "- sum() 사용 예\n",
    "    - sum()<br />\n",
    "    0\n",
    "    - sum(1, 2)<br />\n",
    "    3\n",
    "    - sum(1, 2, 3, 4, 5)<br />\n",
    "    15\n",
    "    - sum(1, 5, 7, 2, -10)<br />\n",
    "    5"
   ]
  },
  {
   "cell_type": "code",
   "execution_count": 5,
   "metadata": {
    "collapsed": true
   },
   "outputs": [],
   "source": [
    "def sum(*lst):\n",
    "    s = 0\n",
    "    if(len(lst) == 0):\n",
    "        return s\n",
    "    else:\n",
    "        for i in lst:\n",
    "            s = s + i\n",
    "        return s"
   ]
  },
  {
   "cell_type": "code",
   "execution_count": 7,
   "metadata": {},
   "outputs": [
    {
     "name": "stdout",
     "output_type": "stream",
     "text": [
      "0\n",
      "3\n",
      "15\n",
      "5\n"
     ]
    }
   ],
   "source": [
    "print(sum())\n",
    "print(sum(1, 2))\n",
    "print(sum(1, 2, 3, 4, 5))\n",
    "print(sum(1, 5, 7, 2, -10))"
   ]
  },
  {
   "cell_type": "markdown",
   "metadata": {},
   "source": [
    "#### 문제 4 해설"
   ]
  },
  {
   "cell_type": "markdown",
   "metadata": {
    "collapsed": true
   },
   "source": [
    "문제3에서 사용했었던 가변 인수를 사용하여 가변 인수의 길이가 0일 때는 그대로 0을 반환, 그 이외에는 lst를 for문을 하여 s를 0으로 초기화하여 lst의 인수를 하나씩 더해주고 최종적으로 모두 더한 값은 s에 저장되며 이를 반환하면 됩니다."
   ]
  },
  {
   "cell_type": "markdown",
   "metadata": {},
   "source": [
    "## 문제 5"
   ]
  },
  {
   "cell_type": "markdown",
   "metadata": {},
   "source": [
    "여러 단어로 이루어진 문자열을 입력받아 각 단어의 첫글자로 이루어진 단어를 대문자로 출력하는 myinitial() 함수를 다음 조건을 참고하여 작성하시오.\n",
    "\n",
    "1) 다음에 제시되는 함수들을 모두 이용해야 한다.\n",
    "\n",
    "- split\n",
    "    \n",
    "- map\n",
    "    \n",
    "- join\n",
    "    \n",
    "    \n",
    "2) myinitial() 함수 사용 예\n",
    "\n",
    "- myinitial(\"as soon as possible\")\n",
    "    \n",
    "    - ASAP"
   ]
  },
  {
   "cell_type": "code",
   "execution_count": 16,
   "metadata": {
    "collapsed": true
   },
   "outputs": [],
   "source": [
    "def myinitial(s):\n",
    "    s = s.split()\n",
    "    s = list(map(lambda d: d[0].upper(), s ))\n",
    "    s = \"\".join(s)\n",
    "    print(s)\n",
    "    pass"
   ]
  },
  {
   "cell_type": "code",
   "execution_count": 17,
   "metadata": {},
   "outputs": [
    {
     "name": "stdout",
     "output_type": "stream",
     "text": [
      "ASAP\n"
     ]
    }
   ],
   "source": [
    "myinitial(\"as soon as possible\")"
   ]
  },
  {
   "cell_type": "markdown",
   "metadata": {},
   "source": [
    "#### 문제5 해설"
   ]
  },
  {
   "cell_type": "code",
   "execution_count": 10,
   "metadata": {},
   "outputs": [
    {
     "name": "stdout",
     "output_type": "stream",
     "text": [
      "['as', 'soon', 'as', 'possible']\n",
      "<map object at 0x00000220FE5487B8>\n",
      "['A', 'S', 'A', 'P']\n",
      "ASAP\n"
     ]
    }
   ],
   "source": [
    "s = \"as soon as possible\"\n",
    "s = s.split()\n",
    "print(s)\n",
    "print(map(lambda d: d[0].upper(), s ))\n",
    "s = list(map(lambda d: d[0].upper(), s ))\n",
    "print(s)\n",
    "s = \"\".join(s)\n",
    "print(s)"
   ]
  },
  {
   "cell_type": "markdown",
   "metadata": {},
   "source": [
    "먼저 String값을 받으면 먼저 띄어쓰기를 기준으로 split을 하여 단어 단위로 끊어줍니다. 그 다음 단어에서도 맨 처음 문자를 추출하는데 이 때는 map을 이용해보았습니다. 이 때 첫번째 문자를 추출하기에 d[0]을 반환하는데, 대문자로 해야하므로 이때 upper를 이용하기로 하였습니다. map함수의 경우 map(키, map을 이용할 시퀸스 자료형)를 하면 됩니다. 그리고 이를 list로 하나로 묶어주는데, 이유는 python3으로 넘어가면서 map을 이용하고 나서 반환되는 값이 map 객체이므로 list로 한번 더 변환해주어야합니다.\n",
    "\n",
    "그 다음 join을 이용하고 그 사이 값을 \"\"로 하여 사이에 아무것도 들어가지 않게 합니다. 그렇게 하면 s에는 단어 맨 첫번째 문자가 대문자의 형태로 합쳐진 string 형태로 저장되어있고, 함수 사용 예를 볼 때 이 값을 반환하는 것이 아니라 출력를 하는 것으로 끝나는 것 같아 print(s)를 해주고 반환 형태는 없는 pass로 하기로 하였습니다."
   ]
  },
  {
   "cell_type": "markdown",
   "metadata": {},
   "source": [
    "## 문제 6"
   ]
  },
  {
   "cell_type": "markdown",
   "metadata": {},
   "source": [
    "음이 아닌 정수 n를 입력받으면 n! (factorial)을 계산하는 myfact() 함수를 재귀적 함수로 구현하시오.\n",
    "\n",
    "[옵션] 참을 수 있는 정도 만큼의 수행시간을 직접 기다려보면서 n을 늘려보도록 합시다."
   ]
  },
  {
   "cell_type": "code",
   "execution_count": 48,
   "metadata": {
    "collapsed": true
   },
   "outputs": [],
   "source": [
    "def myfact(n):\n",
    "    if(n == 1):\n",
    "        return 1\n",
    "    else:\n",
    "        return n * myfact(n-1)"
   ]
  },
  {
   "cell_type": "code",
   "execution_count": 50,
   "metadata": {},
   "outputs": [
    {
     "name": "stdout",
     "output_type": "stream",
     "text": [
      "120\n",
      "3628800\n",
      "30414093201713378043612608166064768844377641568960512000000000000\n",
      "93326215443944152681699238856266700490715968264381621468592963895217599993229915608941463976156518286253697920827223758251185210916864000000000000000000000000\n",
      "1220136825991110068701238785423046926253574342803192842192413588385845373153881997605496447502203281863013616477148203584163378722078177200480785205159329285477907571939330603772960859086270429174547882424912726344305670173270769461062802310452644218878789465754777149863494367781037644274033827365397471386477878495438489595537537990423241061271326984327745715546309977202781014561081188373709531016356324432987029563896628911658974769572087926928871281780070265174507768410719624390394322536422605234945850129918571501248706961568141625359056693423813008856249246891564126775654481886506593847951775360894005745238940335798476363944905313062323749066445048824665075946735862074637925184200459369692981022263971952597190945217823331756934581508552332820762820023402626907898342451712006207714640979456116127629145951237229913340169552363850942885592018727433795173014586357570828355780158735432768888680120399882384702151467605445407663535984174430480128938313896881639487469658817504506926365338175055478128640000000000000000000000000000000000000000000000000000000000000000000000000000000000000000000000000000000000000000000000000000\n",
      "402387260077093773543702433923003985719374864210714632543799910429938512398629020592044208486969404800479988610197196058631666872994808558901323829669944590997424504087073759918823627727188732519779505950995276120874975462497043601418278094646496291056393887437886487337119181045825783647849977012476632889835955735432513185323958463075557409114262417474349347553428646576611667797396668820291207379143853719588249808126867838374559731746136085379534524221586593201928090878297308431392844403281231558611036976801357304216168747609675871348312025478589320767169132448426236131412508780208000261683151027341827977704784635868170164365024153691398281264810213092761244896359928705114964975419909342221566832572080821333186116811553615836546984046708975602900950537616475847728421889679646244945160765353408198901385442487984959953319101723355556602139450399736280750137837615307127761926849034352625200015888535147331611702103968175921510907788019393178114194545257223865541461062892187960223838971476088506276862967146674697562911234082439208160153780889893964518263243671616762179168909779911903754031274622289988005195444414282012187361745992642956581746628302955570299024324153181617210465832036786906117260158783520751516284225540265170483304226143974286933061690897968482590125458327168226458066526769958652682272807075781391858178889652208164348344825993266043367660176999612831860788386150279465955131156552036093988180612138558600301435694527224206344631797460594682573103790084024432438465657245014402821885252470935190620929023136493273497565513958720559654228749774011413346962715422845862377387538230483865688976461927383814900140767310446640259899490222221765904339901886018566526485061799702356193897017860040811889729918311021171229845901641921068884387121855646124960798722908519296819372388642614839657382291123125024186649353143970137428531926649875337218940694281434118520158014123344828015051399694290153483077644569099073152433278288269864602789864321139083506217095002597389863554277196742822248757586765752344220207573630569498825087968928162753848863396909959826280956121450994871701244516461260379029309120889086942028510640182154399457156805941872748998094254742173582401063677404595741785160829230135358081840096996372524230560855903700624271243416909004153690105933983835777939410970027753472000000000000000000000000000000000000000000000000000000000000000000000000000000000000000000000000000000000000000000000000000000000000000000000000000000000000000000000000000000000000000000000000000000000000000000000000000000000000000000000000000000000\n"
     ]
    },
    {
     "ename": "RecursionError",
     "evalue": "maximum recursion depth exceeded in comparison",
     "output_type": "error",
     "traceback": [
      "\u001b[1;31m---------------------------------------------------------------------------\u001b[0m",
      "\u001b[1;31mRecursionError\u001b[0m                            Traceback (most recent call last)",
      "\u001b[1;32m<ipython-input-50-ee8c92070594>\u001b[0m in \u001b[0;36m<module>\u001b[1;34m()\u001b[0m\n\u001b[0;32m      5\u001b[0m \u001b[0mprint\u001b[0m\u001b[1;33m(\u001b[0m\u001b[0mmyfact\u001b[0m\u001b[1;33m(\u001b[0m\u001b[1;36m500\u001b[0m\u001b[1;33m)\u001b[0m\u001b[1;33m)\u001b[0m\u001b[1;33m\u001b[0m\u001b[0m\n\u001b[0;32m      6\u001b[0m \u001b[0mprint\u001b[0m\u001b[1;33m(\u001b[0m\u001b[0mmyfact\u001b[0m\u001b[1;33m(\u001b[0m\u001b[1;36m1000\u001b[0m\u001b[1;33m)\u001b[0m\u001b[1;33m)\u001b[0m\u001b[1;33m\u001b[0m\u001b[0m\n\u001b[1;32m----> 7\u001b[1;33m \u001b[0mprint\u001b[0m\u001b[1;33m(\u001b[0m\u001b[0mmyfact\u001b[0m\u001b[1;33m(\u001b[0m\u001b[1;36m2000\u001b[0m\u001b[1;33m)\u001b[0m\u001b[1;33m)\u001b[0m\u001b[1;33m\u001b[0m\u001b[0m\n\u001b[0m",
      "\u001b[1;32m<ipython-input-48-5b9caef64be6>\u001b[0m in \u001b[0;36mmyfact\u001b[1;34m(n)\u001b[0m\n\u001b[0;32m      3\u001b[0m         \u001b[1;32mreturn\u001b[0m \u001b[1;36m1\u001b[0m\u001b[1;33m\u001b[0m\u001b[0m\n\u001b[0;32m      4\u001b[0m     \u001b[1;32melse\u001b[0m\u001b[1;33m:\u001b[0m\u001b[1;33m\u001b[0m\u001b[0m\n\u001b[1;32m----> 5\u001b[1;33m         \u001b[1;32mreturn\u001b[0m \u001b[0mn\u001b[0m \u001b[1;33m*\u001b[0m \u001b[0mmyfact\u001b[0m\u001b[1;33m(\u001b[0m\u001b[0mn\u001b[0m\u001b[1;33m-\u001b[0m\u001b[1;36m1\u001b[0m\u001b[1;33m)\u001b[0m\u001b[1;33m\u001b[0m\u001b[0m\n\u001b[0m",
      "... last 1 frames repeated, from the frame below ...\n",
      "\u001b[1;32m<ipython-input-48-5b9caef64be6>\u001b[0m in \u001b[0;36mmyfact\u001b[1;34m(n)\u001b[0m\n\u001b[0;32m      3\u001b[0m         \u001b[1;32mreturn\u001b[0m \u001b[1;36m1\u001b[0m\u001b[1;33m\u001b[0m\u001b[0m\n\u001b[0;32m      4\u001b[0m     \u001b[1;32melse\u001b[0m\u001b[1;33m:\u001b[0m\u001b[1;33m\u001b[0m\u001b[0m\n\u001b[1;32m----> 5\u001b[1;33m         \u001b[1;32mreturn\u001b[0m \u001b[0mn\u001b[0m \u001b[1;33m*\u001b[0m \u001b[0mmyfact\u001b[0m\u001b[1;33m(\u001b[0m\u001b[0mn\u001b[0m\u001b[1;33m-\u001b[0m\u001b[1;36m1\u001b[0m\u001b[1;33m)\u001b[0m\u001b[1;33m\u001b[0m\u001b[0m\n\u001b[0m",
      "\u001b[1;31mRecursionError\u001b[0m: maximum recursion depth exceeded in comparison"
     ]
    }
   ],
   "source": [
    "print(myfact(5))\n",
    "print(myfact(10))\n",
    "print(myfact(50))\n",
    "print(myfact(100))\n",
    "print(myfact(500))\n",
    "print(myfact(1000))\n",
    "print(myfact(2000))"
   ]
  },
  {
   "cell_type": "markdown",
   "metadata": {},
   "source": [
    "#### 문제6 해설"
   ]
  },
  {
   "cell_type": "markdown",
   "metadata": {},
   "source": [
    "재귀적 함수의 경우 반복 부분과 종료 부분을 나눠줍니다. factorial 함수를 구현하려고 한다면 return은 <span>n x factorial(n-1) </span>로 해주고 결국 factorial(1)이 된다면 1을 return해주어서 기존에 <span>2 x factorial(1)</span>을 사용했던 factorial(2)는 <span>2 x 1</span>이 되어서 2가 return되고 이를 계속 반복되면 최종적으로 원하는 factorial값을 반환하게 됩니다. 이를 그대로 myfact 함수에 적용해주면 됩니다. 한번 실행해본 결과 어느 수치가 되면\n",
    "\n",
    "RecursionError: maximum recursion depth exceeded in comparison 오류가 뜨면서 더이상 계산이 안되는 것을 볼 수 있었습니다."
   ]
  },
  {
   "cell_type": "markdown",
   "metadata": {},
   "source": [
    "---------------------"
   ]
  },
  {
   "cell_type": "markdown",
   "metadata": {},
   "source": [
    "## 문제 7"
   ]
  },
  {
   "cell_type": "markdown",
   "metadata": {},
   "source": [
    "(서술형) import string 과 from string import * 의 차이점을 설명하시오."
   ]
  },
  {
   "cell_type": "markdown",
   "metadata": {},
   "source": [
    "먼저 이 둘의 차이점에 대해 설명하려면 모듈과 이름 공간과 연관해서 설명해야 합니다.\n",
    "- import string\n",
    "\n",
    "이는 모듈을 넣는 가장 기본적인 형태이며, 이렇게 입력하면 string 모듈 안에 있는 함수들을 사용할 수 있습니다. 이렇게 되면 string의 이름공간을 불러들이게 됩니다. 만약 string 안의 digits을 가져오려면 예시는 다음과 같습니다."
   ]
  },
  {
   "cell_type": "code",
   "execution_count": 40,
   "metadata": {},
   "outputs": [
    {
     "name": "stdout",
     "output_type": "stream",
     "text": [
      "0123456789\n"
     ]
    }
   ],
   "source": [
    "import string\n",
    "print(string.digits)"
   ]
  },
  {
   "cell_type": "markdown",
   "metadata": {},
   "source": [
    "- from string import *\n",
    "\n",
    "해당 모듈에 존재하는 모든 이름<span>(__로 시작하는 것을 제외)</span>을 현재 이름공간으로 불러들이는 것입니다. 이렇게 하면 이 모듈을 사용하기 위해 따로 string을 붙일 필요가 없습니다. 예시는 다음과 같습니다."
   ]
  },
  {
   "cell_type": "code",
   "execution_count": 41,
   "metadata": {},
   "outputs": [
    {
     "name": "stdout",
     "output_type": "stream",
     "text": [
      "0123456789\n"
     ]
    }
   ],
   "source": [
    "from string import *\n",
    "print(digits)"
   ]
  },
  {
   "cell_type": "markdown",
   "metadata": {},
   "source": [
    "-------------------------------------"
   ]
  },
  {
   "cell_type": "markdown",
   "metadata": {},
   "source": [
    "## 문제 8"
   ]
  },
  {
   "cell_type": "markdown",
   "metadata": {},
   "source": [
    "이전 Assignment 3의 마지막 문제는 웹 URL로 지정된 웹페이지를 문자열로 가져와 모든 HTML 태그 및 CSS와 Javascript를 제외한 순수 텍스트를 얻어내고 그 안에 존재하는 단어를 추출하여 각 단어들에 대해 출현빈도를 사전형태({'world': 2, 'hello': 1, 'python': 1})로 저장하여 출력하는 것이었다. 이번에는 Assignment 3를 확장하여 다음과 같은 조건을 만족하도록 구현하시오.<br />\n",
    "\n",
    "1) 다음 사이트에서 제시되는 영어 불용어 (Stop words)를 참고하여 이전 숙제에서 구성했던 단어 사전에서 영어 불용어들을 모두 제거하는 코드를 추가하시오.<br />\n",
    "\n",
    "http://www.lextek.com/manuals/onix/stopwords1.html<br />\n",
    "2) 각 URL로 지정된 웹페이지의 HTML 소스를 파일로 저장하시오.<br />\n",
    "\n",
    "URL이 http://URL 이라면 파일명은 URL.html 이다.<br />\n",
    "예: URL이 http://www.cnn.com 이라면 파일명은 www.cnn.com.html 이다.<br />\n",
    "3) 단어의 출현빈도가 담긴 사전 객체를 위 HTML 소스 파일과 동일한 폴더에 파일로 저장하시오.<br />\n",
    "파일입출력 (E-learning 13주차) 마지막에 학습한 pickle 모듈을 활용하시오.<br />\n",
    "URL이 http://URL 이라면 사전 객체를 담고 있는 파일명은 URL.words.frequency 이다.<br />\n",
    "예: URL이 http://www.cnn.com 이라면 파일명은 www.cnn.com.words.frequency 이다.<br />\n",
    "4) 최소 5개 이상의 영어 웹 사이트 각각에 대한 HTML 소스 파일과 단어 출현빈도 파일을 저장하시오.<br />\n",
    "즉, 총 10개의 파일을 동일한 폴더에 생성하시오.<br />\n",
    "[주의] 영어 웹사이트 URL로만 5개 이상<br />\n",
    "가능하면 주제가 서로 다른 웹 사이트들로 선정<br />\n",
    "5) 위 문제에서 저장한 모든 words.frequency 파일들을 객체로 다시 로드하여 본인이 저장하여 분석한 사이트들 각각에 대해서 가장 많이 출현한 단어 3개씩를 뽑아 제시하시오.<br />\n",
    "반드시 pickle 모듈로 저장한 5개 이상의 words.frequency를 다시 5개 이상의 사전 객체로 로드 하는 코드가 추가되어야 함<br />\n",
    "6) 간단한 검색엔진 코딩 (Like Google!!!)<br />\n",
    "사용자에게 임의의 단어 1개를 입력받으시오.<br />\n",
    "입력 받은 단어와 유사도(Similarity)가 높은 웹 사이트 기준으로 위 4)에서 미리 지정해 놓은 5개 이상의 웹 사이트 URL들을 일렬로 나열하여 출력하시오.<br />\n",
    "단어와 웹 사이트 간의 유사도는 본인이 스스로 정하시오.<br />\n",
    "유사도를 정하는 최소한의 기준은 단어 출현 빈도를 기반으로 해야 하며, 이외의 본인이 생각하는 방안이 있으면 함께 사용해도 됨.<br />\n",
    "반드시 코딩 내에 similarity 라는 사전 자료 구조가 있어야 함 (즉, 다음과 유사한 코드가 있어야 함).<br />\n",
    "similarity = {}<br />\n",
    "...<br />\n",
    "similarity[url1] = x1<br />\n",
    "...<br />\n",
    "similarity[url2] = x2<br />\n",
    "...<br />\n",
    "위 코드에서 x1 과 x2는 입력단어와 해당 URL의 웹 사이트 간의 similarity를 나타내는 수치값<br />\n",
    "유사도가 높은 웹 사이트가 상위에 출력되어야 함 (즉, 유사도 기준 내림 차순)<br />\n",
    "유사도가 동일한 웹 사이트들에 대해서는 임의 배치함.<br />\n",
    "7) [주의] 필수사항<br />\n",
    "위에서 만든 검색엔진 코딩은 매우 간단한 것이라 부족한 점이 많이 존재한다.<br />\n",
    "본인이 생각하기에 상업적인 완성도 높은 검색 로봇/엔진이 되려면 어떤 기능들이 추가적으로 구현되어야 할지 최소 3가지 이상 제시하시오."
   ]
  },
  {
   "cell_type": "code",
   "execution_count": 23,
   "metadata": {},
   "outputs": [
    {
     "name": "stdout",
     "output_type": "stream",
     "text": [
      "www.cnn.com의 Top 3 키워드\n",
      "cnn\n",
      "international\n",
      "video\n",
      "\n",
      "www.nytimes.com의 Top 3 키워드\n",
      "raquo\n",
      "york\n",
      "comments\n",
      "\n",
      "abcnews.go.com의 Top 3 키워드\n",
      "news\n",
      "nov\n",
      "abc\n",
      "\n",
      "thenextweb.com의 Top 3 키워드\n",
      "tech\n",
      "popular\n",
      "tnw\n",
      "\n",
      "reddit.com의 Top 3 키워드\n",
      "save\n",
      "com\n",
      "hours\n",
      "\n"
     ]
    }
   ],
   "source": [
    "import string\n",
    "from urllib import request\n",
    "import pickle\n",
    "\n",
    "directory = \"C:\\\\Users\\\\wxg12\\\\PycharmProjects\\\\python_lecture\\\\word_data\\\\\"\n",
    "\n",
    "stopword = []\n",
    "with open('stopword.txt', 'r', encoding='utf8') as f:\n",
    "    for line in f:\n",
    "        if (line != \"\\n\"):\n",
    "            stopword.append(line.strip())\n",
    "stopword.append(\"nbsp\")\n",
    "stopword.append(\"lt\")\n",
    "stopword.append(\"gt\")\n",
    "stopword.append(\"amp\")\n",
    "stopword.append(\"quot\")\n",
    "stopword.append(\"pm\")\n",
    "stopword.append(\"et\")\n",
    "stopword.append(\"est\")\n",
    "\n",
    "urls = ['www.cnn.com', 'www.nytimes.com', 'abcnews.go.com', 'thenextweb.com',\n",
    "            'reddit.com']\n",
    "    # urls = ['http://edition.cnn.com/', 'https://www.nytimes.com/', 'http://abcnews.go.com/', 'http://www.reuters.com/','https://www.washingtonpost.com/','https://techcrunch.com/', 'https://www.bloomberg.com/asia', 'https://thenextweb.com/','https://www.theverge.com/', 'http://fortune.com/']\n",
    "\n",
    "for url in urls:\n",
    "    total_word = 0\n",
    "    words = []\n",
    "    dic = {}\n",
    "    javascript_check = False\n",
    "    css_check = False\n",
    "\n",
    "    f = request.urlopen('http://' + url)\n",
    "    source_bytes = f.read()\n",
    "    source = source_bytes.decode('utf-8')\n",
    "    with open(directory + str(url) + '.html', \"w\", encoding='utf8') as html:\n",
    "        html.write(source)\n",
    "\n",
    "    for i in source.split(\"<\"):\n",
    "        m = i.split(\">\")\n",
    "\n",
    "        if len(m) > 1:\n",
    "            check = m[0].split()\n",
    "            if len(check) > 0:\n",
    "                    # if('script' in m[0] and m[0].find(\"description\") == -1 and m[0].find(\"subscription\") == -1 and m[0].find(\"transcript\") == -1 and m[0].find(\" javascript:void();\") == -1): javascript_check = True\n",
    "                if ('script' == check[0]): javascript_check = True\n",
    "                if ('/script' in m[0]): javascript_check = False\n",
    "                    # if(m[0].find('style') != -1 and m[0].find('style=') == -1 and m[0].find('stylesheet') == -1and m[0].find('Lifestyle') == -1): css_check = True\n",
    "                if ('style' == check[0]): css_check = True\n",
    "                if ('/style' in m[0]): css_check = False\n",
    "                m = m[1].strip().lower()\n",
    "                if (m != \"\" and not javascript_check and not css_check):\n",
    "                    rep = [\"//\", \"--\", '\\'', '$', '©', '&', '%', '\"', '^', 'ⓒ', '·', '…', '—', '~', '–', '»', '!',\n",
    "                               '”', '㈜', '-', '/', ':', '(', ')', '[', ']', '_', '“', '‘', '’', '.', ',']\n",
    "                    rep = rep + list(string.punctuation)\n",
    "                    rep = list(set(rep))\n",
    "                    for r in rep:\n",
    "                        m = m.replace(r, ' ')\n",
    "                    m = m.split()\n",
    "                        # print(m)\n",
    "                    for n in m:\n",
    "                        if (n != ''):\n",
    "                            if (n.isdigit()):\n",
    "                                continue\n",
    "                            else:\n",
    "                                if (n not in stopword):\n",
    "                                    total_word += 1\n",
    "                                    words.append(n.strip())\n",
    "                                        # print(n.strip())\n",
    "    for i in words:\n",
    "        if (i not in dic):\n",
    "            dic[i] = 1\n",
    "        else:\n",
    "            dic[i] = dic[i] + 1\n",
    "\n",
    "    with open(directory + str(url) + '.words.frequency', 'wb') as plk:\n",
    "        pickle.dump(dic, plk)\n",
    "\n",
    "for url in urls:\n",
    "    with open(directory + str(url) + '.words.frequency', \"rb\") as data:\n",
    "        s = pickle.load(data)\n",
    "        items = list(s.items())\n",
    "        items.sort(key=lambda d: d[1], reverse=True)\n",
    "        i = 0\n",
    "        print(str(url) + \"의 Top 3 키워드\")\n",
    "        for l in items:\n",
    "            if(i < 3):\n",
    "                print(l[0])\n",
    "            else:\n",
    "                break\n",
    "            i = i + 1\n",
    "        print()"
   ]
  },
  {
   "cell_type": "code",
   "execution_count": 24,
   "metadata": {},
   "outputs": [
    {
     "name": "stdout",
     "output_type": "stream",
     "text": [
      "news\n",
      "news에 대한 유사도 결과\n",
      "abcnews.go.com: 30.0\n",
      "www.nytimes.com: 8.0\n",
      "www.cnn.com: 7.0\n",
      "thenextweb.com: 7.0\n",
      "reddit.com: 2.0\n"
     ]
    }
   ],
   "source": [
    "# https://www.wordsapi.com/\n",
    "# https://market.mashape.com/wordsapi/wordsapi\n",
    "import pickle\n",
    "import requests\n",
    "word = input()\n",
    "freq = []\n",
    "synonyms = []\n",
    "is_synonyms = False\n",
    "header_data = {'X-Mashape-Key':'IdOl032CtumshW8yFWeOighpAY5cp1EDq0TjsnrlyqzKrT0BRL', 'Accept':'application/json'}\n",
    "res = requests.get(url='https://wordsapiv1.p.mashape.com/words/' + word +'/synonyms', headers=header_data )\n",
    "j =  res.json()\n",
    "if 'success' not in j:\n",
    "    synonyms = j['synonyms']\n",
    "    is_synonyms = True\n",
    "\n",
    "i = 0\n",
    "for url in urls:\n",
    "    with open(directory + str(url) + '.words.frequency', \"rb\") as data:\n",
    "        s = pickle.load(data)\n",
    "        items = list(s.items())\n",
    "        items.sort(key=lambda d: d[1], reverse=True)\n",
    "        freq.append(0.0)\n",
    "        for l in items:\n",
    "            if(l[0] == word):\n",
    "                freq[i] = freq[i] + l[1]\n",
    "                break\n",
    "        if(is_synonyms):\n",
    "            for w in synonyms:\n",
    "                for l in s:\n",
    "                    if(l[0] == w):\n",
    "                        freq[i] = freq[i] + (l[1] / len(synonyms) )\n",
    "    i = i + 1      \n",
    "\n",
    "        \n",
    "similarity = dict(zip(urls, freq))\n",
    "sim_list = list(similarity.items())\n",
    "sim_list.sort(key=lambda d: d[1], reverse=True)\n",
    "print(word + \"에 대한 유사도 결과\")\n",
    "for k, v in sim_list:\n",
    "    print(k + \": \" + str(round(v, 3)))\n"
   ]
  },
  {
   "cell_type": "markdown",
   "metadata": {},
   "source": [
    "#### 완성도 높은 검색 로봇/엔진을 구현하는 방법"
   ]
  },
  {
   "cell_type": "markdown",
   "metadata": {},
   "source": [
    "- 먼저 제가 단어 데이터를 추출할 때 문제가 html 특수 코드인 &nbsp나 video같이 몇몇 사이트에서 과도하게 추출되는 단어지만 사이트를 대표할수는 없는 단어까지 추출된다는 점이 있는데, 이는 사이트 특성도 있어서 하나씩 예외 부분을 지우는 것이 완성도 높은 검색 엔진을 만드는 방법 중 하나라고 생각합니다. 이를 해결하려면 beautifulsoup 등의 웹 크롤러 전용 모듈을 사용하는 것이 좋을 것 같습니다.\n",
    "\n",
    "\n",
    "- 그 다음에 저의 경우 wordsAPI를 이용하여 유의어를 가져와서 이러한 단어가 있으면 연관도를 높였는데, 생각보다 유의어 이외에 연관도가 높은 단어들은 더 많습니다. 그리고 유의어라고 입력한 단어와 연관도가 똑같은 것은 아닙니다. 그렇기에 입력한 단어와 다른 곳에 가져온 단어와의 연관도도 일정한 비율을 분석하여 그에 맞게 사이트에 대한 연관도에 반영하는 것도 완성도 높은 검색 엔진을 만드는 방법입니다. 이를 사용하려면 가장 좋은 방법은 Word2Vec를 사용하는 방법이 좋을 것 같습니다.\n",
    "\n",
    "\n",
    "- 그리고 가장 중요한 것은 데이터의 양과 효율성의 균형입니다. 두번째에서 언급한 Word2Vec의 정확성을 더 높이려면 방대한 양의 데이터들이 필요합니다. 방대한 양의 데이터를 모으기 위해서는 여러 개의 사이트를 크롤링해야하는데, 여러 개의 사이트를 크롤링하면 그 전에 만들어놨던 코드가 그 사이트에서는 원하는 대로 데이터가 나오지 않거나 심지어 오류가 걸리는 경우도 있습니다. 그렇기에 이를 모두 만족하거나, 이것이 힘들다면 이 둘 사이에 균형을 맞추는 것이 중요합니다. 이렇게 하는 것이 완성도를 높이는 방법입니다."
   ]
  },
  {
   "cell_type": "markdown",
   "metadata": {},
   "source": [
    "#### 해설 : Incremental Project"
   ]
  },
  {
   "cell_type": "code",
   "execution_count": 26,
   "metadata": {
    "collapsed": true
   },
   "outputs": [],
   "source": [
    "import pickle\n",
    "directory = \"C:\\\\Users\\\\wxg12\\\\PycharmProjects\\\\python_lecture\\\\test\\\\\"\n",
    "item_list = ['test1', 'test2', 'test3']\n",
    "items = [{'key': 12, 'test': 6}, {'ttt': 2, 'test': 8}, {'key': 9, 'mmm': 11}]\n",
    "i = 0\n",
    "for l in item_list:\n",
    "    with open(directory + str(l) + '.words.frequency', 'wb') as plk:\n",
    "            pickle.dump(items[i], plk)\n",
    "    i = i + 1"
   ]
  },
  {
   "cell_type": "markdown",
   "metadata": {},
   "source": [
    "먼저 Assingment3까지 만들었던 단어 갯수에 대한 사전 데이터를 url리스트 이름에 맞게 저장하려면 먼저 for문을 urls에 적용하여 url 하나하나씩 파일로 저장할 수 있게 해줍니다. 이 때 url 하나는 string 형태이며 이에 맞게 파일을 wb 형태로 열어줍니다. 이 때 자신이 원하는 폴더에 저장하기 위해 directory 변수를 하나 추가하여 절대 경로에 해당하는 폴더 경로를 저장합니다. 이 때 os를 import하여 설정하는 것도 가능한 걸로 알고 있습니다. 이제 file을 열었다면 pickle 모듈을 이용하여 사전 데이터를 저장하는데 이는 dump()를 이용하면 됩니다. 이렇게하면 item에 해당하는 파일 이름으로(예를 들어 test1이 item이라면 'test1.words.frequency' 파일 이름으로 저장되게 됩니다."
   ]
  },
  {
   "cell_type": "code",
   "execution_count": 35,
   "metadata": {},
   "outputs": [
    {
     "name": "stdout",
     "output_type": "stream",
     "text": [
      "{'key': 12, 'test': 6}\n",
      "[('key', 12), ('test', 6)]\n",
      "{'ttt': 2, 'test': 8}\n",
      "[('test', 8), ('ttt', 2)]\n",
      "{'key': 9, 'mmm': 11}\n",
      "[('mmm', 11), ('key', 9)]\n",
      "[6.0, 8.0, 0.0]\n"
     ]
    }
   ],
   "source": [
    "freq = []\n",
    "word = 'test'\n",
    "for i, l in enumerate(item_list):\n",
    "    with open(directory + str(l) + '.words.frequency', \"rb\") as data:\n",
    "        s = pickle.load(data)\n",
    "        print(s)\n",
    "        items = list(s.items())\n",
    "        items.sort(key=lambda d: d[1], reverse=True)\n",
    "        print(items)\n",
    "        freq.append(0.0)\n",
    "        for item in items:\n",
    "            if(item[0] == word):\n",
    "                freq[i] = freq[i] + item[1]\n",
    "                break\n",
    "print(freq)"
   ]
  },
  {
   "cell_type": "markdown",
   "metadata": {},
   "source": [
    "이제 저장된 파일을 불러와서 사전 데이터를 꺼낼 시간입니다. 아까랑 비슷하게 파일을 여는데 이때는 rb형태로 열어줍니다. 그리고 데이터를 가져올 때는 pickle 모듈의 load()를 이용합니다. 이렇게 되면 현재 s에는 사전 데이터가 저장되어 있습니다. 단순히 사전 형태로 하면 정렬이 조금 힘드므로 사전를 리스트 형태로 변경해주고 sort 함수를 이용합니다. 먼저 s.items()를 하여 사전 데이터 모두를 리스트에 맞게 바꿔줍니다. 그 다음 sort함수를 이용하는데 key는 lambda를 사용하여 value에 해당하는 d[1]을 기준으로 설정해주고, 역순으로 하여 값이 높은 순으로 정렬을 다시 해줍니다. 그리고 이제 이를 freq에 적용시켜줍니다. 그 전에 미리 설정한 i는 item_list를 enumerate하여 나온 인덱스 값으로 설정하였습니다. 먼저 freq에는 0으로 초기화하기 위해 0의 값을 임의로 추가해줍니다. 그 다음 items을 for문에 넣어 item 하나씩 비교하여 만약 미리 입력받았던 word와 item에 있는 key값이랑 같으면 그 key에 해당하는 value값을 더해줍니다. 이를 모든 item_list에 적용시키면 마지막 출력과 같이 각 item_list에 따른 연관도 점수가 만들어지게 됩니다."
   ]
  },
  {
   "cell_type": "code",
   "execution_count": 28,
   "metadata": {},
   "outputs": [
    {
     "name": "stdout",
     "output_type": "stream",
     "text": [
      "{'test1': 6.0, 'test2': 8.0, 'test3': 0.0}\n",
      "test에 대한 유사도 결과\n",
      "test2: 8.0\n",
      "test1: 6.0\n",
      "test3: 0.0\n"
     ]
    }
   ],
   "source": [
    "similarity = dict(zip(item_list, freq))\n",
    "print(similarity)\n",
    "sim_list = list(similarity.items())\n",
    "sim_list.sort(key=lambda d: d[1], reverse=True)\n",
    "print(word + \"에 대한 유사도 결과\")\n",
    "for k, v in sim_list:\n",
    "    print(k + \": \" + str(round(v, 3)))"
   ]
  },
  {
   "cell_type": "markdown",
   "metadata": {},
   "source": [
    "이제 이를 다시 사전 형태로 similarity에 저장해줍니다. 저의 경우 예전에 시험에도 나왔던 zip()을 사용하여 하나로 묶은 다음 이를 dict으로 변환시켰습니다. 그 결과는 맨 처음 출력된 결과와 같습니다. 이제 유사도에 대한 결과를 정렬하기 위해 similarity를 list로 만들고 value를 기준으로 역순으로 정렬해줍니다. 그리고 sim_list를 for문으로 넣어 하나씩 출력해줍니다."
   ]
  },
  {
   "cell_type": "markdown",
   "metadata": {},
   "source": [
    "#### 추가 : wordsAPI를 이용하여 동의어를 가져와서 이를 연관도에 대입하기"
   ]
  },
  {
   "cell_type": "markdown",
   "metadata": {},
   "source": [
    "https://www.wordsapi.com/ 에 있는 WordsAPI에 해당하는 Rest API를 이용하여 동의어를 가져오는 것을 이용해보았습니다."
   ]
  },
  {
   "cell_type": "code",
   "execution_count": 11,
   "metadata": {
    "collapsed": true
   },
   "outputs": [],
   "source": [
    "import requests\n",
    "def wordsAPI(word):\n",
    "    synonyms = []\n",
    "    is_synonyms = False\n",
    "    header_data = {'X-Mashape-Key':'IdOl032CtumshW8yFWeOighpAY5cp1EDq0TjsnrlyqzKrT0BRL', 'Accept':'application/json'}\n",
    "    res = requests.get(url='https://wordsapiv1.p.mashape.com/words/' + word +'/synonyms', headers=header_data )\n",
    "    j =  res.json()\n",
    "    if 'success' not in j:\n",
    "        synonyms = j['synonyms']\n",
    "        return synonyms\n",
    "    pass"
   ]
  },
  {
   "cell_type": "code",
   "execution_count": 13,
   "metadata": {},
   "outputs": [
    {
     "name": "stdout",
     "output_type": "stream",
     "text": [
      "['intelligence', 'tidings', 'word', 'newsworthiness', 'news program', 'news show']\n"
     ]
    }
   ],
   "source": [
    "print(wordsAPI(\"news\"))"
   ]
  },
  {
   "cell_type": "markdown",
   "metadata": {},
   "source": [
    "-----------------------------------"
   ]
  },
  {
   "cell_type": "markdown",
   "metadata": {
    "collapsed": true
   },
   "source": [
    "## 느낀 점"
   ]
  },
  {
   "cell_type": "markdown",
   "metadata": {
    "collapsed": true
   },
   "source": [
    "이번 과제는 파일, 함수, 모듈을 중심으로 한 과제였습니다. 특히 마지막 과제는 조금 막막하였는데 결국 구현하는 것이 신기하였습니다. 다만 조금 아쉬웠던 건 예전에 배웠던 딥러닝을 이용해서 Word2Vec을 사용해보려고 했지만, 이에 해당하는 dataset과 어떻게 모델을 구현해야할 지 감이 안 잡혀서 결국 wordsAPI를 사용하여 구현하는 걸로 대신하였습니다. 이번에 깜짝 놀랄 정도로 과제를 구현하고 싶었는데 조금 아쉽다는 느낌이 들었습니다. 그리고 현재 java도 배우고 python을 배우고 ruby도 배우고 있는 상황에서 가끔 언어가 헷갈릴 때가 있습니다. 특히 ruby와 python의 문법이 헷갈릴 때가 많습니다. 예를 들어 ruby에서 인덱스와 for문을 같이 사용하려면 다음과 같이 사용합니다.\n",
    "```ruby\n",
    "list.each_with_index do |v, i|\n",
    "    puts i, v\n",
    "end\n",
    "```\n",
    "하지만 python에서 이와 똑같이 구현하려면 코드가 확연히 달라집니다.\n",
    "```python\n",
    "for i, v in enumerate(list):\n",
    "    print(i, v)\n",
    "```\n",
    "이 둘의 예시만 봐도 이 두 언어는 비슷하면서도 매우 다른 언어라는 것이 느껴집니다. 그렇기에 스크립트 언어를 사용할 때마다 문법이 헷갈려서 구글링를 한 번 해서 문법을 확인해보기도 합니다. 하지만 헷갈리더라도 이 두 언어를 모두 알고 있으면 매우 많은 도움이 되는 것 같습니다.\n",
    "\n",
    "그리고 사실 파이썬의 경우는 많은 모듈들이 있어서 파이썬의 중요한 모듈과 사용 방법만 해도 매우 방대해서 1학기만에 불가능할 정도입니다. 그럼에도 한번쯤 해봤으면 좋은 것이 requests나 beautifulsoup 등등도 조금 다루었으면 좋겠다는 생각도 듭니다.\n",
    "\n",
    "과제 하나하나가 많은 도움이 되었습니다. 만약 이 수업이 끝나더라도 혼자서 파이썬 언어를 더 배울 생각입니다."
   ]
  }
 ],
 "metadata": {
  "kernelspec": {
   "display_name": "Python 3",
   "language": "python",
   "name": "python3"
  },
  "language_info": {
   "codemirror_mode": {
    "name": "ipython",
    "version": 3
   },
   "file_extension": ".py",
   "mimetype": "text/x-python",
   "name": "python",
   "nbconvert_exporter": "python",
   "pygments_lexer": "ipython3",
   "version": "3.6.3"
  }
 },
 "nbformat": 4,
 "nbformat_minor": 2
}
