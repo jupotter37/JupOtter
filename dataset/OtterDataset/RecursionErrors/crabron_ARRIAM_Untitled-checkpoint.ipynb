{
 "cells": [
  {
   "cell_type": "code",
   "execution_count": 53,
   "metadata": {},
   "outputs": [],
   "source": []
  },
  {
   "cell_type": "code",
   "execution_count": 141,
   "metadata": {},
   "outputs": [
    {
     "name": "stdout",
     "output_type": "stream",
     "text": [
      "1 Length\n",
      "2 Mass\n",
      "3 Speed\n",
      "4 Volume\n",
      "5 Area\n",
      "6 Fuel consumption\n",
      "7 Time\n",
      "8 Digital Storage\n",
      "Категории конвертации. Введите число соответствующее нужной категории.\n",
      "1\n",
      "1 US gal\n",
      "2 US quart\n",
      "3 US pint\n",
      "4 US cup\n",
      "5 US oz\n",
      "6 US tbsp.\n",
      "7 US tsp.\n",
      "8 Cubic meter\n",
      "9 Liter\n",
      "10 Milliliter\n",
      "11 Imperial gal\n",
      "12 Imperial quart\n",
      "13 Imperial pint\n",
      "14 Imperial oz\n",
      "15 Imperial tbsp.\n",
      "16 Imperial tsp.\n",
      "17 Cubic foot\n",
      "18 Cubic inch\n",
      "В данной категории возможна конвертация следующих штуковин. Введите число соответствующее нужной штуковине, из которой Вы хотите конвертировать.\n",
      "1\n",
      "В какую штуковину из списка выше вы хотите конвертировать?\n",
      "14\n",
      "Сколько у вас штуковин для конвертации?\n",
      "445\n",
      "Результат:\n",
      "59286.45999999999\n"
     ]
    }
   ],
   "source": [
    "import pandas as pd\n",
    "\n",
    "df = pd.read_csv(\"/home/gladkov/storage/trash/BI/PY/BI_2020-2021_Python/units-conversion-table.csv\", sep=\",\")\n",
    "df = df.rename(columns={'conversion_type': 'Conversion_type',\n",
    "                        'from': 'From',\n",
    "                        'to': 'To',\n",
    "                        'multiply_by': 'Multiply_by'}, inplace=False)\n",
    "solitude_type_d = dict(zip(count(1), df.Conversion_type.unique()))\n",
    "[print(i, v) for i, v in solitude_type_d.items()]\n",
    "print(\"Категории конвертации. Введите число соответствующее нужной категории.\")\n",
    "sel_1 = int(input())\n",
    "d_solitude_from = dict(zip(count(1), df[df[\"Conversion_type\"] == type_get].From.unique()))\n",
    "[print(i, v) for i, v in d_solitude_from.items()]\n",
    "print(\"В данной категории возможна конвертация следующих штуковин. \"\n",
    "      \"Введите число соответствующее нужной штуковине,\"\n",
    "      \" из которой Вы хотите конвертировать.\")\n",
    "[print(i[0], i[1]) for i in solitude_from]\n",
    "sel_2 = int(input())\n",
    "print(\"В какую штуковину из списка выше вы хотите конвертировать?\")\n",
    "sel_3 = int(input())\n",
    "print(\"Сколько у вас штуковин для конвертации?\")\n",
    "sel_2_value = float(input())\n",
    "print(\"Результат:\")\n",
    "print(sel_2_value * float(df[(df['From'] == d_solitude_from.get(sel_2)) & \\\n",
    "                             (df['To'] == d_solitude_from.get(sel_3))].iloc[0][\"Multiply_by\"]))"
   ]
  },
  {
   "cell_type": "code",
   "execution_count": 89,
   "metadata": {},
   "outputs": [],
   "source": [
    "from itertools import count"
   ]
  },
  {
   "cell_type": "code",
   "execution_count": 133,
   "metadata": {},
   "outputs": [],
   "source": [
    "solitude_type = zip(count(1), df.Conversion_type.unique())\n",
    "d_solitude_type = dict(solitude_type)\n",
    "# for i in d_solitude_type.keys():\n",
    "#     print(i, d_solitude_type.get(i))\n",
    "for i in solitude_type:\n",
    "    print(i)"
   ]
  },
  {
   "cell_type": "code",
   "execution_count": 139,
   "metadata": {},
   "outputs": [
    {
     "name": "stdout",
     "output_type": "stream",
     "text": [
      "1 Length\n",
      "2 Mass\n",
      "3 Speed\n",
      "4 Volume\n",
      "5 Area\n",
      "6 Fuel consumption\n",
      "7 Time\n",
      "8 Digital Storage\n"
     ]
    }
   ],
   "source": [
    "for key, val in dict(zip(count(1), df.Conversion_type.unique())).items():\n",
    "    print(key, val)"
   ]
  },
  {
   "cell_type": "code",
   "execution_count": 135,
   "metadata": {},
   "outputs": [
    {
     "name": "stdout",
     "output_type": "stream",
     "text": [
      "0 Length\n",
      "1 Mass\n",
      "2 Speed\n",
      "3 Volume\n",
      "4 Area\n",
      "5 Fuel consumption\n",
      "6 Time\n",
      "7 Digital Storage\n"
     ]
    }
   ],
   "source": [
    "for i, el in enumerate(df.Conversion_type.unique()):\n",
    "    print(i, el)"
   ]
  },
  {
   "cell_type": "code",
   "execution_count": 136,
   "metadata": {},
   "outputs": [
    {
     "data": {
      "text/plain": [
       "[(0, 'Length'),\n",
       " (1, 'Mass'),\n",
       " (2, 'Speed'),\n",
       " (3, 'Volume'),\n",
       " (4, 'Area'),\n",
       " (5, 'Fuel consumption'),\n",
       " (6, 'Time'),\n",
       " (7, 'Digital Storage')]"
      ]
     },
     "execution_count": 136,
     "metadata": {},
     "output_type": "execute_result"
    }
   ],
   "source": [
    "list(enumerate(df.Conversion_type.unique()))"
   ]
  },
  {
   "cell_type": "code",
   "execution_count": 138,
   "metadata": {},
   "outputs": [
    {
     "data": {
      "text/plain": [
       "{1: 'Length',\n",
       " 2: 'Mass',\n",
       " 3: 'Speed',\n",
       " 4: 'Volume',\n",
       " 5: 'Area',\n",
       " 6: 'Fuel consumption',\n",
       " 7: 'Time',\n",
       " 8: 'Digital Storage'}"
      ]
     },
     "execution_count": 138,
     "metadata": {},
     "output_type": "execute_result"
    }
   ],
   "source": [
    "dict(zip(count(1), df.Conversion_type.unique()))"
   ]
  },
  {
   "cell_type": "code",
   "execution_count": 163,
   "metadata": {},
   "outputs": [
    {
     "name": "stdout",
     "output_type": "stream",
     "text": [
      "4\n",
      "1 2 3 4\n",
      "1 2 4 3\n",
      "1 3 2 4\n",
      "1 3 4 2\n",
      "1 4 2 3\n",
      "1 4 3 2\n",
      "2 1 3 4\n",
      "2 1 4 3\n",
      "2 3 1 4\n",
      "2 3 4 1\n",
      "2 4 1 3\n",
      "2 4 3 1\n",
      "3 1 2 4\n",
      "3 1 4 2\n",
      "3 2 1 4\n",
      "3 2 4 1\n",
      "3 4 1 2\n",
      "3 4 2 1\n",
      "4 1 2 3\n",
      "4 1 3 2\n",
      "4 2 1 3\n",
      "4 2 3 1\n",
      "4 3 1 2\n",
      "4 3 2 1\n"
     ]
    }
   ],
   "source": [
    "# put your python code here\n",
    "n = int(input())\n",
    "def gen(n, prefix):\n",
    "    if len(prefix) == n:\n",
    "        print(' '.join(str(e) for e in prefix))\n",
    "        return\n",
    "    for c in range(1, n + 1):\n",
    "        if c not in prefix:\n",
    "            gen(n, prefix + [c])\n",
    "gen(n, [])"
   ]
  },
  {
   "cell_type": "code",
   "execution_count": 69,
   "metadata": {},
   "outputs": [
    {
     "name": "stdout",
     "output_type": "stream",
     "text": [
      "3 4\n",
      "1 1 1 1\n",
      "1 1 1 2\n",
      "1 1 1 3\n",
      "1 1 2 2\n",
      "1 1 2 3\n",
      "1 1 3 3\n",
      "1 2 2 2\n",
      "1 2 2 3\n",
      "1 2 3 3\n",
      "1 3 3 3\n",
      "2 2 2 2\n",
      "2 2 2 3\n",
      "2 2 3 3\n",
      "2 3 3 3\n",
      "3 3 3 3\n"
     ]
    }
   ],
   "source": [
    "# put your python code here\n",
    "n, k = map(int, input().split())\n",
    "def gen(n, k, prefix):\n",
    "    if len(prefix) == k:\n",
    "        print(' '.join(str(e) for e in prefix))\n",
    "        return\n",
    "    for c in range(1, n + 1):\n",
    "        if len(prefix) == 0  or c >= prefix[-1] :\n",
    "            gen(n, k, prefix + [c])\n",
    "gen(n, k, [])"
   ]
  },
  {
   "cell_type": "code",
   "execution_count": 178,
   "metadata": {},
   "outputs": [
    {
     "name": "stdout",
     "output_type": "stream",
     "text": [
      "3\n",
      "1+1+1\n"
     ]
    },
    {
     "ename": "RecursionError",
     "evalue": "maximum recursion depth exceeded in comparison",
     "output_type": "error",
     "traceback": [
      "\u001b[0;31m---------------------------------------------------------------------------\u001b[0m",
      "\u001b[0;31mRecursionError\u001b[0m                            Traceback (most recent call last)",
      "\u001b[0;32m<ipython-input-178-f69784810436>\u001b[0m in \u001b[0;36m<module>\u001b[0;34m\u001b[0m\n\u001b[1;32m      7\u001b[0m     \u001b[0;32mfor\u001b[0m \u001b[0mc\u001b[0m \u001b[0;32min\u001b[0m \u001b[0mrange\u001b[0m\u001b[0;34m(\u001b[0m\u001b[0;36m1\u001b[0m\u001b[0;34m,\u001b[0m \u001b[0mn\u001b[0m \u001b[0;34m+\u001b[0m \u001b[0;36m1\u001b[0m\u001b[0;34m)\u001b[0m\u001b[0;34m:\u001b[0m\u001b[0;34m\u001b[0m\u001b[0;34m\u001b[0m\u001b[0m\n\u001b[1;32m      8\u001b[0m         \u001b[0mgen\u001b[0m\u001b[0;34m(\u001b[0m\u001b[0mn\u001b[0m\u001b[0;34m,\u001b[0m \u001b[0mprefix\u001b[0m \u001b[0;34m+\u001b[0m \u001b[0;34m[\u001b[0m\u001b[0mc\u001b[0m\u001b[0;34m]\u001b[0m\u001b[0;34m)\u001b[0m\u001b[0;34m\u001b[0m\u001b[0;34m\u001b[0m\u001b[0m\n\u001b[0;32m----> 9\u001b[0;31m \u001b[0mgen\u001b[0m\u001b[0;34m(\u001b[0m\u001b[0mn\u001b[0m\u001b[0;34m,\u001b[0m \u001b[0;34m[\u001b[0m\u001b[0;34m]\u001b[0m\u001b[0;34m)\u001b[0m\u001b[0;34m\u001b[0m\u001b[0;34m\u001b[0m\u001b[0m\n\u001b[0m",
      "\u001b[0;32m<ipython-input-178-f69784810436>\u001b[0m in \u001b[0;36mgen\u001b[0;34m(n, prefix)\u001b[0m\n\u001b[1;32m      6\u001b[0m         \u001b[0;32mreturn\u001b[0m\u001b[0;34m\u001b[0m\u001b[0;34m\u001b[0m\u001b[0m\n\u001b[1;32m      7\u001b[0m     \u001b[0;32mfor\u001b[0m \u001b[0mc\u001b[0m \u001b[0;32min\u001b[0m \u001b[0mrange\u001b[0m\u001b[0;34m(\u001b[0m\u001b[0;36m1\u001b[0m\u001b[0;34m,\u001b[0m \u001b[0mn\u001b[0m \u001b[0;34m+\u001b[0m \u001b[0;36m1\u001b[0m\u001b[0;34m)\u001b[0m\u001b[0;34m:\u001b[0m\u001b[0;34m\u001b[0m\u001b[0;34m\u001b[0m\u001b[0m\n\u001b[0;32m----> 8\u001b[0;31m         \u001b[0mgen\u001b[0m\u001b[0;34m(\u001b[0m\u001b[0mn\u001b[0m\u001b[0;34m,\u001b[0m \u001b[0mprefix\u001b[0m \u001b[0;34m+\u001b[0m \u001b[0;34m[\u001b[0m\u001b[0mc\u001b[0m\u001b[0;34m]\u001b[0m\u001b[0;34m)\u001b[0m\u001b[0;34m\u001b[0m\u001b[0;34m\u001b[0m\u001b[0m\n\u001b[0m\u001b[1;32m      9\u001b[0m \u001b[0mgen\u001b[0m\u001b[0;34m(\u001b[0m\u001b[0mn\u001b[0m\u001b[0;34m,\u001b[0m \u001b[0;34m[\u001b[0m\u001b[0;34m]\u001b[0m\u001b[0;34m)\u001b[0m\u001b[0;34m\u001b[0m\u001b[0;34m\u001b[0m\u001b[0m\n",
      "... last 1 frames repeated, from the frame below ...\n",
      "\u001b[0;32m<ipython-input-178-f69784810436>\u001b[0m in \u001b[0;36mgen\u001b[0;34m(n, prefix)\u001b[0m\n\u001b[1;32m      6\u001b[0m         \u001b[0;32mreturn\u001b[0m\u001b[0;34m\u001b[0m\u001b[0;34m\u001b[0m\u001b[0m\n\u001b[1;32m      7\u001b[0m     \u001b[0;32mfor\u001b[0m \u001b[0mc\u001b[0m \u001b[0;32min\u001b[0m \u001b[0mrange\u001b[0m\u001b[0;34m(\u001b[0m\u001b[0;36m1\u001b[0m\u001b[0;34m,\u001b[0m \u001b[0mn\u001b[0m \u001b[0;34m+\u001b[0m \u001b[0;36m1\u001b[0m\u001b[0;34m)\u001b[0m\u001b[0;34m:\u001b[0m\u001b[0;34m\u001b[0m\u001b[0;34m\u001b[0m\u001b[0m\n\u001b[0;32m----> 8\u001b[0;31m         \u001b[0mgen\u001b[0m\u001b[0;34m(\u001b[0m\u001b[0mn\u001b[0m\u001b[0;34m,\u001b[0m \u001b[0mprefix\u001b[0m \u001b[0;34m+\u001b[0m \u001b[0;34m[\u001b[0m\u001b[0mc\u001b[0m\u001b[0;34m]\u001b[0m\u001b[0;34m)\u001b[0m\u001b[0;34m\u001b[0m\u001b[0;34m\u001b[0m\u001b[0m\n\u001b[0m\u001b[1;32m      9\u001b[0m \u001b[0mgen\u001b[0m\u001b[0;34m(\u001b[0m\u001b[0mn\u001b[0m\u001b[0;34m,\u001b[0m \u001b[0;34m[\u001b[0m\u001b[0;34m]\u001b[0m\u001b[0;34m)\u001b[0m\u001b[0;34m\u001b[0m\u001b[0;34m\u001b[0m\u001b[0m\n",
      "\u001b[0;31mRecursionError\u001b[0m: maximum recursion depth exceeded in comparison"
     ]
    }
   ],
   "source": [
    "# put your python code here\n",
    "n = int(input())\n",
    "def gen(n,prefix):\n",
    "    if sum(prefix) == n:\n",
    "        print('+'.join(str(e) for e in prefix))\n",
    "        return\n",
    "    for c in range(1, n + 1):\n",
    "        gen(n, prefix + [c])\n",
    "gen(n, [])"
   ]
  },
  {
   "cell_type": "code",
   "execution_count": 28,
   "metadata": {},
   "outputs": [
    {
     "name": "stdout",
     "output_type": "stream",
     "text": [
      "11\n",
      "0 1 [0]\n",
      "1 1 [0, 1]\n",
      "2 1 [0, 1, 1]\n",
      "3 1 [0, 1, 1, 1]\n",
      "4 1 [0, 1, 1, 1, 1]\n",
      "5 1 [0, 1, 1, 1, 1, 1]\n",
      "6 1 [0, 1, 1, 1, 1, 1, 1]\n",
      "7 1 [0, 1, 1, 1, 1, 1, 1, 1]\n",
      "8 1 [0, 1, 1, 1, 1, 1, 1, 1, 1]\n",
      "9 1 [0, 1, 1, 1, 1, 1, 1, 1, 1, 1]\n",
      "10 1 [0, 1, 1, 1, 1, 1, 1, 1, 1, 1, 1]\n",
      "1+1+1+1+1+1+1+1+1+1+1\n",
      "9 2 [0, 1, 1, 1, 1, 1, 1, 1, 1, 1]\n",
      "1+1+1+1+1+1+1+1+1+2\n",
      "8 2 [0, 1, 1, 1, 1, 1, 1, 1, 1]\n",
      "8 3 [0, 1, 1, 1, 1, 1, 1, 1, 1]\n",
      "1+1+1+1+1+1+1+1+3\n",
      "7 2 [0, 1, 1, 1, 1, 1, 1, 1]\n",
      "9 2 [0, 1, 1, 1, 1, 1, 1, 1, 2]\n",
      "1+1+1+1+1+1+1+2+2\n",
      "7 3 [0, 1, 1, 1, 1, 1, 1, 1]\n",
      "7 4 [0, 1, 1, 1, 1, 1, 1, 1]\n",
      "1+1+1+1+1+1+1+4\n",
      "6 2 [0, 1, 1, 1, 1, 1, 1]\n",
      "8 2 [0, 1, 1, 1, 1, 1, 1, 2]\n",
      "8 3 [0, 1, 1, 1, 1, 1, 1, 2]\n",
      "1+1+1+1+1+1+2+3\n",
      "6 3 [0, 1, 1, 1, 1, 1, 1]\n",
      "6 4 [0, 1, 1, 1, 1, 1, 1]\n",
      "6 5 [0, 1, 1, 1, 1, 1, 1]\n",
      "1+1+1+1+1+1+5\n",
      "5 2 [0, 1, 1, 1, 1, 1]\n",
      "7 2 [0, 1, 1, 1, 1, 1, 2]\n",
      "9 2 [0, 1, 1, 1, 1, 1, 2, 2]\n",
      "1+1+1+1+1+2+2+2\n",
      "7 3 [0, 1, 1, 1, 1, 1, 2]\n",
      "7 4 [0, 1, 1, 1, 1, 1, 2]\n",
      "1+1+1+1+1+2+4\n",
      "5 3 [0, 1, 1, 1, 1, 1]\n",
      "8 3 [0, 1, 1, 1, 1, 1, 3]\n",
      "1+1+1+1+1+3+3\n",
      "5 4 [0, 1, 1, 1, 1, 1]\n",
      "5 5 [0, 1, 1, 1, 1, 1]\n",
      "5 6 [0, 1, 1, 1, 1, 1]\n",
      "1+1+1+1+1+6\n",
      "4 2 [0, 1, 1, 1, 1]\n",
      "6 2 [0, 1, 1, 1, 1, 2]\n",
      "8 2 [0, 1, 1, 1, 1, 2, 2]\n",
      "8 3 [0, 1, 1, 1, 1, 2, 2]\n",
      "1+1+1+1+2+2+3\n",
      "6 3 [0, 1, 1, 1, 1, 2]\n",
      "6 4 [0, 1, 1, 1, 1, 2]\n",
      "6 5 [0, 1, 1, 1, 1, 2]\n",
      "1+1+1+1+2+5\n",
      "4 3 [0, 1, 1, 1, 1]\n",
      "7 3 [0, 1, 1, 1, 1, 3]\n",
      "7 4 [0, 1, 1, 1, 1, 3]\n",
      "1+1+1+1+3+4\n",
      "4 4 [0, 1, 1, 1, 1]\n",
      "4 5 [0, 1, 1, 1, 1]\n",
      "4 6 [0, 1, 1, 1, 1]\n",
      "4 7 [0, 1, 1, 1, 1]\n",
      "1+1+1+1+7\n",
      "3 2 [0, 1, 1, 1]\n",
      "5 2 [0, 1, 1, 1, 2]\n",
      "7 2 [0, 1, 1, 1, 2, 2]\n",
      "9 2 [0, 1, 1, 1, 2, 2, 2]\n",
      "1+1+1+2+2+2+2\n",
      "7 3 [0, 1, 1, 1, 2, 2]\n",
      "7 4 [0, 1, 1, 1, 2, 2]\n",
      "1+1+1+2+2+4\n",
      "5 3 [0, 1, 1, 1, 2]\n",
      "8 3 [0, 1, 1, 1, 2, 3]\n",
      "1+1+1+2+3+3\n",
      "5 4 [0, 1, 1, 1, 2]\n",
      "5 5 [0, 1, 1, 1, 2]\n",
      "5 6 [0, 1, 1, 1, 2]\n",
      "1+1+1+2+6\n",
      "3 3 [0, 1, 1, 1]\n",
      "6 3 [0, 1, 1, 1, 3]\n",
      "6 4 [0, 1, 1, 1, 3]\n",
      "6 5 [0, 1, 1, 1, 3]\n",
      "1+1+1+3+5\n",
      "3 4 [0, 1, 1, 1]\n",
      "7 4 [0, 1, 1, 1, 4]\n",
      "1+1+1+4+4\n",
      "3 5 [0, 1, 1, 1]\n",
      "3 6 [0, 1, 1, 1]\n",
      "3 7 [0, 1, 1, 1]\n",
      "3 8 [0, 1, 1, 1]\n",
      "1+1+1+8\n",
      "2 2 [0, 1, 1]\n",
      "4 2 [0, 1, 1, 2]\n",
      "6 2 [0, 1, 1, 2, 2]\n",
      "8 2 [0, 1, 1, 2, 2, 2]\n",
      "8 3 [0, 1, 1, 2, 2, 2]\n",
      "1+1+2+2+2+3\n",
      "6 3 [0, 1, 1, 2, 2]\n",
      "6 4 [0, 1, 1, 2, 2]\n",
      "6 5 [0, 1, 1, 2, 2]\n",
      "1+1+2+2+5\n",
      "4 3 [0, 1, 1, 2]\n",
      "7 3 [0, 1, 1, 2, 3]\n",
      "7 4 [0, 1, 1, 2, 3]\n",
      "1+1+2+3+4\n",
      "4 4 [0, 1, 1, 2]\n",
      "4 5 [0, 1, 1, 2]\n",
      "4 6 [0, 1, 1, 2]\n",
      "4 7 [0, 1, 1, 2]\n",
      "1+1+2+7\n",
      "2 3 [0, 1, 1]\n",
      "5 3 [0, 1, 1, 3]\n",
      "8 3 [0, 1, 1, 3, 3]\n",
      "1+1+3+3+3\n",
      "5 4 [0, 1, 1, 3]\n",
      "5 5 [0, 1, 1, 3]\n",
      "5 6 [0, 1, 1, 3]\n",
      "1+1+3+6\n",
      "2 4 [0, 1, 1]\n",
      "6 4 [0, 1, 1, 4]\n",
      "6 5 [0, 1, 1, 4]\n",
      "1+1+4+5\n",
      "2 5 [0, 1, 1]\n",
      "2 6 [0, 1, 1]\n",
      "2 7 [0, 1, 1]\n",
      "2 8 [0, 1, 1]\n",
      "2 9 [0, 1, 1]\n",
      "1+1+9\n",
      "1 2 [0, 1]\n",
      "3 2 [0, 1, 2]\n",
      "5 2 [0, 1, 2, 2]\n",
      "7 2 [0, 1, 2, 2, 2]\n",
      "9 2 [0, 1, 2, 2, 2, 2]\n",
      "1+2+2+2+2+2\n",
      "7 3 [0, 1, 2, 2, 2]\n",
      "7 4 [0, 1, 2, 2, 2]\n",
      "1+2+2+2+4\n",
      "5 3 [0, 1, 2, 2]\n",
      "8 3 [0, 1, 2, 2, 3]\n",
      "1+2+2+3+3\n",
      "5 4 [0, 1, 2, 2]\n",
      "5 5 [0, 1, 2, 2]\n",
      "5 6 [0, 1, 2, 2]\n",
      "1+2+2+6\n",
      "3 3 [0, 1, 2]\n",
      "6 3 [0, 1, 2, 3]\n",
      "6 4 [0, 1, 2, 3]\n",
      "6 5 [0, 1, 2, 3]\n",
      "1+2+3+5\n",
      "3 4 [0, 1, 2]\n",
      "7 4 [0, 1, 2, 4]\n",
      "1+2+4+4\n",
      "3 5 [0, 1, 2]\n",
      "3 6 [0, 1, 2]\n",
      "3 7 [0, 1, 2]\n",
      "3 8 [0, 1, 2]\n",
      "1+2+8\n",
      "1 3 [0, 1]\n",
      "4 3 [0, 1, 3]\n",
      "7 3 [0, 1, 3, 3]\n",
      "7 4 [0, 1, 3, 3]\n",
      "1+3+3+4\n",
      "4 4 [0, 1, 3]\n",
      "4 5 [0, 1, 3]\n",
      "4 6 [0, 1, 3]\n",
      "4 7 [0, 1, 3]\n",
      "1+3+7\n",
      "1 4 [0, 1]\n",
      "5 4 [0, 1, 4]\n",
      "5 5 [0, 1, 4]\n",
      "5 6 [0, 1, 4]\n",
      "1+4+6\n",
      "1 5 [0, 1]\n",
      "6 5 [0, 1, 5]\n",
      "1+5+5\n",
      "1 6 [0, 1]\n",
      "1 7 [0, 1]\n",
      "1 8 [0, 1]\n",
      "1 9 [0, 1]\n",
      "1 10 [0, 1]\n",
      "1+10\n",
      "0 2 [0]\n",
      "2 2 [0, 2]\n",
      "4 2 [0, 2, 2]\n",
      "6 2 [0, 2, 2, 2]\n",
      "8 2 [0, 2, 2, 2, 2]\n",
      "8 3 [0, 2, 2, 2, 2]\n",
      "2+2+2+2+3\n",
      "6 3 [0, 2, 2, 2]\n",
      "6 4 [0, 2, 2, 2]\n",
      "6 5 [0, 2, 2, 2]\n",
      "2+2+2+5\n",
      "4 3 [0, 2, 2]\n",
      "7 3 [0, 2, 2, 3]\n",
      "7 4 [0, 2, 2, 3]\n",
      "2+2+3+4\n",
      "4 4 [0, 2, 2]\n",
      "4 5 [0, 2, 2]\n",
      "4 6 [0, 2, 2]\n",
      "4 7 [0, 2, 2]\n",
      "2+2+7\n",
      "2 3 [0, 2]\n",
      "5 3 [0, 2, 3]\n",
      "8 3 [0, 2, 3, 3]\n",
      "2+3+3+3\n",
      "5 4 [0, 2, 3]\n",
      "5 5 [0, 2, 3]\n",
      "5 6 [0, 2, 3]\n",
      "2+3+6\n",
      "2 4 [0, 2]\n",
      "6 4 [0, 2, 4]\n",
      "6 5 [0, 2, 4]\n",
      "2+4+5\n",
      "2 5 [0, 2]\n",
      "2 6 [0, 2]\n",
      "2 7 [0, 2]\n",
      "2 8 [0, 2]\n",
      "2 9 [0, 2]\n",
      "2+9\n",
      "0 3 [0]\n",
      "3 3 [0, 3]\n",
      "6 3 [0, 3, 3]\n",
      "6 4 [0, 3, 3]\n",
      "6 5 [0, 3, 3]\n",
      "3+3+5\n",
      "3 4 [0, 3]\n",
      "7 4 [0, 3, 4]\n",
      "3+4+4\n",
      "3 5 [0, 3]\n",
      "3 6 [0, 3]\n",
      "3 7 [0, 3]\n",
      "3 8 [0, 3]\n",
      "3+8\n",
      "0 4 [0]\n",
      "4 4 [0, 4]\n",
      "4 5 [0, 4]\n",
      "4 6 [0, 4]\n",
      "4 7 [0, 4]\n",
      "4+7\n",
      "0 5 [0]\n",
      "5 5 [0, 5]\n",
      "5 6 [0, 5]\n",
      "5+6\n",
      "0 6 [0]\n",
      "0 7 [0]\n",
      "0 8 [0]\n",
      "0 9 [0]\n",
      "0 10 [0]\n",
      "0 11 [0]\n",
      "11\n"
     ]
    }
   ],
   "source": [
    "# put your python code here\n",
    "n = int(input())\n",
    "def gen(n,prefix):\n",
    "    if sum(prefix) == n:\n",
    "        print('+'.join(str(e) for e in prefix[1:]))\n",
    "        return\n",
    "    for c in range(1, n + 1 -sum(prefix)) :\n",
    "        if c >= prefix[-1] :\n",
    "            print(sum(prefix), c, prefix)\n",
    "            gen(n, prefix + [c])\n",
    "gen(n, [0])"
   ]
  },
  {
   "cell_type": "code",
   "execution_count": 67,
   "metadata": {},
   "outputs": [
    {
     "ename": "SyntaxError",
     "evalue": "invalid syntax (<ipython-input-67-5ed1fe90073c>, line 21)",
     "output_type": "error",
     "traceback": [
      "\u001b[0;36m  File \u001b[0;32m\"<ipython-input-67-5ed1fe90073c>\"\u001b[0;36m, line \u001b[0;32m21\u001b[0m\n\u001b[0;31m    1 3 4 7 4\u001b[0m\n\u001b[0m      ^\u001b[0m\n\u001b[0;31mSyntaxError\u001b[0m\u001b[0;31m:\u001b[0m invalid syntax\n"
     ]
    }
   ],
   "source": [
    "# put your python code here\n",
    "# put your python code here\n",
    "n = int(input())\n",
    "\n",
    "def gen(n, prefix):\n",
    "    if len(prefix) == n:\n",
    "        print(prefix)\n",
    "        return\n",
    "#     if c >= prefix[-3]:\n",
    "    if len(prefix)==0 or prefix[-1:] != \"0\":\n",
    "#         print(prefix)\n",
    "        gen(n, prefix + '0')\n",
    "\n",
    "    if len(prefix)<=1 or prefix[-2:] != \"11\":\n",
    "#         print(prefix)\n",
    "        gen(n, prefix + '1')\n",
    "\n",
    "gen(n, \"\")\n",
    "\n",
    "5\n",
    "1 3 4 7 4\n",
    "8"
   ]
  },
  {
   "cell_type": "code",
   "execution_count": 132,
   "metadata": {
    "scrolled": true
   },
   "outputs": [
    {
     "name": "stdout",
     "output_type": "stream",
     "text": [
      "None\n",
      "None 1\n",
      "None 1 1\n",
      "None 1 1 1\n",
      "None 1 1 1 1\n",
      "None 1 1 1 1 1\n",
      "None 1 1 1 1 1 1\n",
      "None 1 1 1 1 1 1 1\n",
      "None 1 1 1 1 1 1 1 1\n",
      "None 1 1 1 1 1 4\n",
      "None 1 1 1 1 4\n",
      "None 1 1 1 1 7\n",
      "None 1 1 1 1 7\n",
      "None 1 1 1 4\n",
      "None 1 1 1 7\n",
      "None 1 1 1 7\n",
      "None 1 1 4\n",
      "None 1 1 4 4\n",
      "None 1 1 7\n",
      "None 1 1 7\n",
      "None 1 4\n",
      "None 1 4 4\n",
      "None 1 4 7\n",
      "None 1 4 7\n",
      "None 1 7\n",
      "None 1 None\n",
      "None 1 7\n",
      "None 4\n",
      "None 4 4\n",
      "None 4 7\n",
      "None 4 7\n",
      "None 7\n",
      "None 7 7\n",
      "None 7 7\n",
      "None None\n",
      "None 7\n",
      "None 7 7\n",
      "None 7 7\n"
     ]
    }
   ],
   "source": [
    "# put your python code here\n",
    "# n = int(input())\n",
    "# l = list(map(int, input().split()))\n",
    "# s = int(input())\n",
    "n = int(5)\n",
    "l = list(map(int, [1,3,4,7,4]))\n",
    "s = int(8)\n",
    "dl = dict(zip([i for i in range(1, n + 1)],l))\n",
    "def gen(s,prefix):\n",
    "    if sum(prefix) <= s:\n",
    "        print(*[dl.get(z) for z in prefix])\n",
    "    else:\n",
    "        returnb\n",
    "    for c in l:\n",
    "        if len(prefix) == 0 or c >= prefix[-1] :\n",
    "#             print(sum(prefix), c, prefix)\n",
    "            gen(s, prefix + [c])\n",
    "gen(s, [])\n"
   ]
  },
  {
   "cell_type": "code",
   "execution_count": 322,
   "metadata": {},
   "outputs": [
    {
     "name": "stdout",
     "output_type": "stream",
     "text": [
      "4\n",
      "9\n",
      "2\n",
      "9\n",
      "\t \t0\t1\t2\t3\t4\t5\t6\t7\n",
      "4\t8\t12\t16\t20\t24\t28\t32\t36\n",
      "5\t10\t15\t20\t25\t30\t35\t40\t45\n",
      "6\t12\t18\t24\t30\t36\t42\t48\t54\n",
      "7\t14\t21\t28\t35\t42\t49\t56\t63\n",
      "8\t16\t24\t32\t40\t48\t56\t64\t72\n",
      "9\t18\t27\t36\t45\t54\t63\t72\t81\n",
      "\n"
     ]
    }
   ],
   "source": [
    "import numpy as np\n",
    "\n",
    "import pandas as pd\n",
    "\n",
    "n1 = int(input())\n",
    "n2 = int(input())\n",
    "n3 = int(input())\n",
    "n4 = int(input())\n",
    "\n",
    "n34 = np.arange(n1, n2 + 1)\n",
    "n12 = np.arange(n3, n4 + 1)\n",
    "arr = n12 * n34[:, None]\n",
    "df = pd.DataFrame(arr)\n",
    "df.columns = n12\n",
    "df.index = n34\n",
    "print(\"\\t\", df.to_csv(sep=\"\\t\"))\n"
   ]
  },
  {
   "cell_type": "code",
   "execution_count": 332,
   "metadata": {},
   "outputs": [
    {
     "name": "stdout",
     "output_type": "stream",
     "text": [
      "2\n",
      "1999\n",
      "1000.5\n"
     ]
    }
   ],
   "source": [
    "import numpy as np\n",
    "\n",
    "n1 = int(input())\n",
    "n2 = int(input())\n",
    "\n",
    "rr = [i for i in range(n1, n2 + 1) if i%3 == 0]\n",
    "print(np.mean(rr))\n"
   ]
  },
  {
   "cell_type": "code",
   "execution_count": 334,
   "metadata": {},
   "outputs": [
    {
     "name": "stdout",
     "output_type": "stream",
     "text": [
      "2\n",
      "2\n"
     ]
    }
   ],
   "source": [
    "import numpy as np\n",
    "\n",
    "l = list(map(int, input().split()))\n",
    "\n",
    "print(sum(l))\n"
   ]
  },
  {
   "cell_type": "code",
   "execution_count": 335,
   "metadata": {},
   "outputs": [
    {
     "name": "stdout",
     "output_type": "stream",
     "text": [
      "3 4 5 6 7\n",
      "11 8 10 12 9\n"
     ]
    }
   ],
   "source": [
    "import numpy as np\n",
    "\n",
    "ar = np.array([int(i) for i in input().split(\" \")])\n",
    "if len(ar) > 1:\n",
    "    r1 = np.roll(ar, 1)\n",
    "    r2 = np.roll(ar, -1)\n",
    "    res = r1 + r2\n",
    "    print(\" \".join([str(i) for i in res]))\n",
    "else:\n",
    "    print(\" \".join([str(i) for i in ar]))"
   ]
  },
  {
   "cell_type": "code",
   "execution_count": 8,
   "metadata": {},
   "outputs": [
    {
     "name": "stdout",
     "output_type": "stream",
     "text": [
      "22\n",
      "1 22 231 1540 7315 26334 74613 170544 319770 497420 646646 705432 646646 497420 319770 170544 74613 26334 7315 1540 231 22 1\n"
     ]
    }
   ],
   "source": [
    "from math import factorial as fac\n",
    "\n",
    "in_num = int(input())\n",
    "res = []\n",
    "for i in range(0, in_num +1):\n",
    "    res.append(fac(in_num) // fac(i) // fac(in_num - i))\n",
    "print(*res)\n"
   ]
  },
  {
   "cell_type": "code",
   "execution_count": 20,
   "metadata": {},
   "outputs": [],
   "source": [
    "import sys\n",
    "import re\n",
    "\n",
    "for line in sys.stdin:\n",
    "    line = line.rstrip()\n",
    "    if line match()\n",
    "\n",
    "\n"
   ]
  },
  {
   "cell_type": "code",
   "execution_count": 68,
   "metadata": {},
   "outputs": [
    {
     "name": "stdout",
     "output_type": "stream",
     "text": [
      "4\n"
     ]
    }
   ],
   "source": [
    "objects = [1, 2, 1, 2, 3, \"gumus\", \"gumus\"]\n",
    "len_list = len(objects)\n",
    "res = 0\n",
    "new_obj = objects.copy()\n",
    "for i in new_obj:\n",
    "    res += 1\n",
    "    index_i = objects.index(i)\n",
    "    ite_list = objects[:index_i] + objects[index_i + 1 :]\n",
    "\n",
    "    for a in ite_list:\n",
    "        if i is a:\n",
    "            res -= 1\n",
    "            objects.remove(a)\n",
    "\n",
    "print(res)            \n",
    "\n",
    "            "
   ]
  },
  {
   "cell_type": "code",
   "execution_count": 84,
   "metadata": {},
   "outputs": [
    {
     "name": "stdout",
     "output_type": "stream",
     "text": [
      "3 2\n"
     ]
    },
    {
     "data": {
      "text/plain": [
       "[[1, 2], [1, 3], [2, 3]]"
      ]
     },
     "execution_count": 84,
     "metadata": {},
     "output_type": "execute_result"
    }
   ],
   "source": [
    "\n",
    "n, k = map(int, input().split())\n",
    "l = []\n",
    "def gen(n, k, prefix):\n",
    "    if len(prefix) == k:\n",
    "        l.append(prefix)\n",
    "        return\n",
    "    for c in range(1, n + 1):\n",
    "        if len(prefix) == 0  or (c not in prefix and c >= prefix[-1]):\n",
    "            gen(n, k, prefix + [c])\n",
    "gen(n, k, [])\n",
    "print(len(l))"
   ]
  },
  {
   "cell_type": "code",
   "execution_count": 85,
   "metadata": {},
   "outputs": [
    {
     "name": "stdout",
     "output_type": "stream",
     "text": [
      "1\n",
      "3\n"
     ]
    }
   ],
   "source": [
    "x, y = 1, 2\n",
    "\n",
    "def foo():\n",
    "    global y\n",
    "    if y == 2:\n",
    "        x = 2\n",
    "        y = 1\n",
    "\n",
    "foo()\n",
    "print(x)\n",
    "if y == 1:\n",
    "    x = 3\n",
    "print(x)"
   ]
  },
  {
   "cell_type": "code",
   "execution_count": 100,
   "metadata": {},
   "outputs": [
    {
     "name": "stdout",
     "output_type": "stream",
     "text": [
      "4 2 1 3\n",
      "2\n"
     ]
    }
   ],
   "source": [
    "l = [i for i in map(int, input().split())]\n",
    "\n",
    "res = 0\n",
    "for i in range(len(l) - 1):\n",
    "    o = 0\n",
    "    for a in range(len(l) - 1):\n",
    "        if l[a + 1] < l[a]:\n",
    "            o += 1\n",
    "            l[a], l[a + 1] = l[a + 1], l[a]\n",
    "    if o > 0:\n",
    "        res+= 1\n",
    "        \n",
    "print(res)\n",
    "\n"
   ]
  },
  {
   "cell_type": "code",
   "execution_count": 103,
   "metadata": {},
   "outputs": [
    {
     "name": "stdout",
     "output_type": "stream",
     "text": [
      "4 2 1 3\n",
      "4\n"
     ]
    }
   ],
   "source": [
    "l = [i for i in map(int, input().split())]\n",
    "res = 0\n",
    "for i in range(1, len(l)):\n",
    "    item_to_insert = l[i]\n",
    "    j = i - 1\n",
    "    while j >= 0 and l[j] > item_to_insert:\n",
    "        l[j + 1] = l[j]\n",
    "        res += 1\n",
    "        j -= 1\n",
    "    l[j + 1] = item_to_insert\n",
    "print(res)\n",
    "\n"
   ]
  },
  {
   "cell_type": "code",
   "execution_count": 112,
   "metadata": {},
   "outputs": [
    {
     "name": "stdout",
     "output_type": "stream",
     "text": [
      "45 3 4 5 3\n",
      "6\n"
     ]
    }
   ],
   "source": [
    "l = [i for i in map(int, input().split())]\n",
    "res = 0\n",
    "for i in range(1, len(l)):\n",
    "    item_to_insert = l[i]\n",
    "    j = i - 1\n",
    "    while j >= 0 and l[j] > item_to_insert:\n",
    "        l[j + 1] = l[j]\n",
    "        res += 1\n",
    "        j -= 1\n",
    "    l[j + 1] = item_to_insert\n",
    "print(res)\n",
    "\n"
   ]
  },
  {
   "cell_type": "code",
   "execution_count": 108,
   "metadata": {},
   "outputs": [
    {
     "name": "stdout",
     "output_type": "stream",
     "text": [
      "2 8 4 5 3\n",
      "0 2\n",
      "1 8\n",
      "2 4\n",
      "3 5\n",
      "4 8\n"
     ]
    },
    {
     "data": {
      "text/plain": [
       "[2, 3, 4, 5, 8]"
      ]
     },
     "execution_count": 108,
     "metadata": {},
     "output_type": "execute_result"
    }
   ],
   "source": [
    "l_data = [i for i in map(int, input().split())]\n",
    "\n",
    "for i, e in enumerate(l_data):\n",
    "    mn = min(range(i, len(l_data)), key=l_data.__getitem__)\n",
    "    l_data[i], l_data[mn] = l_data[mn], e\n",
    "    print(i, e)\n",
    "l_data"
   ]
  },
  {
   "cell_type": "code",
   "execution_count": 233,
   "metadata": {},
   "outputs": [
    {
     "name": "stdout",
     "output_type": "stream",
     "text": [
      "4 1 3 5 2\n",
      "[4, 1, 3, 5, 2]\n",
      "1\n",
      "[1, 4, 3, 5, 2]\n",
      "3\n",
      "[1, 2, 3, 5, 4]\n",
      "0\n",
      "[1, 2, 3, 5, 4]\n",
      "1\n",
      "[1, 2, 3, 4, 5]\n"
     ]
    }
   ],
   "source": [
    "l = [i for i in map(int, input().split())]\n",
    "res = 0\n",
    "i = 0\n",
    "resu_list = []\n",
    "print(l)\n",
    "while i < len(l) - 1:\n",
    "    min_value_index = i\n",
    "    nex_index = min_value_index + 1\n",
    "    while nex_index < len(l):\n",
    "#         print(min_value_index,nex_index, i, l)\n",
    "        if l[nex_index] < l[min_value_index]:          \n",
    "            min_value_index = nex_index\n",
    "        nex_index += 1\n",
    "    l[i], l[min_value_index] = l[min_value_index], l[i]\n",
    "#     print(l[i], i,min_value_index ,l[min_value_index])\n",
    "    resu = min_value_index - i\n",
    "    print(resu)\n",
    "    print(l)\n",
    "    resu_list.append(resu)\n",
    "#     print(l)\n",
    "    i += 1\n"
   ]
  },
  {
   "cell_type": "code",
   "execution_count": 254,
   "metadata": {},
   "outputs": [
    {
     "name": "stdout",
     "output_type": "stream",
     "text": [
      "1 3 0 1\n",
      "4 1 3 5 2\n"
     ]
    }
   ],
   "source": [
    "l = [i for i in map(int, input().split())]\n",
    "\n",
    "# l = [i for i in map(int, \"1 3 0 1\".split())]\n",
    "# res = [i for i in map(int, \"4 1 3 5 2\".split())]\n",
    "l.reverse()\n",
    "# for i in enumerate(res):\n",
    "#     print(i)\n",
    "arr = [a for a in range(0, len(l) + 1)]\n",
    "arr.reverse()\n",
    "# print(arr)\n",
    "# print(l)\n",
    "j = 1\n",
    "for i in range(len(l)):\n",
    "#     print(i, j, l[i])\n",
    "    arr[j], arr[j - l[i]] = arr[j - l[i]], arr[j]\n",
    "#     print(arr)\n",
    "    j += 1\n",
    "arr.reverse()\n",
    "res = [i + 1 for i in arr]\n",
    "print(*res)\n",
    "\n",
    "    \n",
    "\n",
    "\n"
   ]
  },
  {
   "cell_type": "code",
   "execution_count": 352,
   "metadata": {},
   "outputs": [
    {
     "name": "stdout",
     "output_type": "stream",
     "text": [
      "[5] 1\n",
      "3 [0] [5, 0] 4\n",
      "[0, 4, 5, 0]\n",
      "4 5\n",
      "[4, 5] 0\n",
      "4 5 3\n",
      "[4, 5, 3] 2\n",
      "5 [0, 4] [5, 3, 0] 2\n",
      "[0, 4, 2, 5, 3, 0]\n",
      "4 2 5 3\n",
      "[4, 2, 5, 3] 1\n",
      "6 [0, 4, 2, 5] [3, 0] 1\n",
      "[0, 4, 2, 5, 1, 3, 0]\n",
      "4 2 5 1 3\n"
     ]
    }
   ],
   "source": [
    "l = [i for i in map(int, input().split())]\n",
    "\n",
    "# l = [i for i in map(int, \"3 1 2 0 0\".split())]\n",
    "#4 2 5 1 3\n",
    "res = [len(l)]\n",
    "arr = [i for i in range(1, len(l) + 1)]\n",
    "l.reverse()\n",
    "arr.reverse()\n",
    "for i in range(1, len(l)):\n",
    "#     res.append(arr[i])\n",
    "    \n",
    "    j = i - l[i]\n",
    "    lres = len(res)\n",
    "    print(res, j)\n",
    "    if j == 0:\n",
    "        res.append(arr[i])\n",
    "    else:\n",
    "        res = [0] + res + [0]\n",
    "#         print(len(res), res[:(len(res)  - j - 1)], res[(len(res)  - j - 1):], arr[i] )\n",
    "        res = res[:(len(res)  - j - 1)] + [arr[i]] + res[(len(res)  - j - 1):]\n",
    "#         print(res)\n",
    "        res = res[1:-1]\n",
    "#     res[lres-1], res[lres - 1 - j] =  res[lres-1 - j], res[lres-1]\n",
    "    j += 1\n",
    "    \n",
    "    print(*res)"
   ]
  }
 ],
 "metadata": {
  "kernelspec": {
   "display_name": "Python 3",
   "language": "python",
   "name": "python3"
  },
  "language_info": {
   "codemirror_mode": {
    "name": "ipython",
    "version": 3
   },
   "file_extension": ".py",
   "mimetype": "text/x-python",
   "name": "python",
   "nbconvert_exporter": "python",
   "pygments_lexer": "ipython3",
   "version": "3.7.6"
  }
 },
 "nbformat": 4,
 "nbformat_minor": 4
}
