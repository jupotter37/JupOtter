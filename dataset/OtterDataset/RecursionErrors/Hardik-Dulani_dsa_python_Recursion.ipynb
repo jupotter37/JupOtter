{
 "cells": [
  {
   "cell_type": "markdown",
   "id": "6fc67a19",
   "metadata": {},
   "source": [
    "### Recursion is a programming technique where a function calls itself in order to solve smaller instances of the same problem."
   ]
  },
  {
   "cell_type": "code",
   "execution_count": 2,
   "id": "2fa7bdbd",
   "metadata": {},
   "outputs": [
    {
     "ename": "RecursionError",
     "evalue": "maximum recursion depth exceeded",
     "output_type": "error",
     "traceback": [
      "\u001b[1;31m---------------------------------------------------------------------------\u001b[0m",
      "\u001b[1;31mRecursionError\u001b[0m                            Traceback (most recent call last)",
      "Cell \u001b[1;32mIn[2], line 4\u001b[0m\n\u001b[0;32m      1\u001b[0m \u001b[38;5;28;01mdef\u001b[39;00m \u001b[38;5;21mfunc1\u001b[39m():\n\u001b[0;32m      2\u001b[0m \u001b[38;5;66;03m#     print('gfg')\u001b[39;00m\n\u001b[0;32m      3\u001b[0m     func1()\n\u001b[1;32m----> 4\u001b[0m \u001b[43mfunc1\u001b[49m\u001b[43m(\u001b[49m\u001b[43m)\u001b[49m\n",
      "Cell \u001b[1;32mIn[2], line 3\u001b[0m, in \u001b[0;36mfunc1\u001b[1;34m()\u001b[0m\n\u001b[0;32m      1\u001b[0m \u001b[38;5;28;01mdef\u001b[39;00m \u001b[38;5;21mfunc1\u001b[39m():\n\u001b[0;32m      2\u001b[0m \u001b[38;5;66;03m#     print('gfg')\u001b[39;00m\n\u001b[1;32m----> 3\u001b[0m     \u001b[43mfunc1\u001b[49m\u001b[43m(\u001b[49m\u001b[43m)\u001b[49m\n",
      "Cell \u001b[1;32mIn[2], line 3\u001b[0m, in \u001b[0;36mfunc1\u001b[1;34m()\u001b[0m\n\u001b[0;32m      1\u001b[0m \u001b[38;5;28;01mdef\u001b[39;00m \u001b[38;5;21mfunc1\u001b[39m():\n\u001b[0;32m      2\u001b[0m \u001b[38;5;66;03m#     print('gfg')\u001b[39;00m\n\u001b[1;32m----> 3\u001b[0m     \u001b[43mfunc1\u001b[49m\u001b[43m(\u001b[49m\u001b[43m)\u001b[49m\n",
      "    \u001b[1;31m[... skipping similar frames: func1 at line 3 (2971 times)]\u001b[0m\n",
      "Cell \u001b[1;32mIn[2], line 3\u001b[0m, in \u001b[0;36mfunc1\u001b[1;34m()\u001b[0m\n\u001b[0;32m      1\u001b[0m \u001b[38;5;28;01mdef\u001b[39;00m \u001b[38;5;21mfunc1\u001b[39m():\n\u001b[0;32m      2\u001b[0m \u001b[38;5;66;03m#     print('gfg')\u001b[39;00m\n\u001b[1;32m----> 3\u001b[0m     \u001b[43mfunc1\u001b[49m\u001b[43m(\u001b[49m\u001b[43m)\u001b[49m\n",
      "\u001b[1;31mRecursionError\u001b[0m: maximum recursion depth exceeded"
     ]
    }
   ],
   "source": [
    "def func1():\n",
    "#     print('gfg')\n",
    "    func1()\n",
    "func1()"
   ]
  },
  {
   "cell_type": "markdown",
   "id": "c8005e8d",
   "metadata": {},
   "source": [
    "The \"maximum recursion depth exceeded\" error occurs when a recursive function calls itself too many times, surpassing the maximum recursion depth set by the programming language or environment.\n",
    "this happens coz we haven't set any condition where the function stops or returns anything"
   ]
  },
  {
   "cell_type": "code",
   "execution_count": 11,
   "id": "dd071f9c",
   "metadata": {},
   "outputs": [],
   "source": [
    "\"\"\"\n",
    "Start with a function func2 that takes a parameter n.\n",
    "Check if n is equal to 0:\n",
    "If yes, return without performing any action.\n",
    "Print the current value of n.\n",
    "Call func2 recursively with the parameter n-1.\n",
    "Repeat steps 2-4 until n becomes 0.\n",
    "\"\"\"\n",
    "\n",
    "def func2(n):\n",
    "    if n <= 0:\n",
    "        return \n",
    "    print(n)\n",
    "    func2(n-1)\n",
    "# func2(5)"
   ]
  },
  {
   "cell_type": "markdown",
   "id": "2ad6c33e",
   "metadata": {},
   "source": [
    "### A typical structure of a recursive function includes:\n",
    "<br>\n",
    "\n",
    "**Base Case:** This is the terminating condition that defines when the recursion should stop. It typically involves a condition where the function does not call itself and returns a known value.\n",
    "<br>\n",
    "\n",
    "**Recursive Case:** This is where the function calls itself with modified arguments, moving closer to the base case.\n",
    "<br>\n",
    "<br>\n",
    "**Here's a generic structure:**\n",
    "<br>\n",
    "```\n",
    "def recursive_function(parameters):\n",
    "    # Base Case\n",
    "    if base_case_condition:\n",
    "        return base_case_value\n",
    "    \n",
    "    # Recursive Case\n",
    "    else:\n",
    "        # Modify parameters for next recursive call\n",
    "        modified_parameters = modify(parameters)\n",
    "        \n",
    "        # Call the function recursively with modified parameters\n",
    "        return recursive_function(modified_parameters)\n",
    "        \n",
    "```\n",
    "In this structure:\n",
    "\n",
    "- The function starts by checking if it has reached the base case. \n",
    "- If it has, it returns a known value.\n",
    "- If the base case condition is not met, it enters the recursive case, where it modifies the parameters to move closer to the base case.\n",
    "- Then, it calls itself with the modified parameters.\n",
    "- This process continues until the base case is reached, at which point the function stops calling itself and returns the base case value."
   ]
  },
  {
   "cell_type": "markdown",
   "id": "39aeccb0",
   "metadata": {},
   "source": [
    "<br><br><br>\n",
    "### Applications of recursion\n",
    "- Tree Traversal\n",
    "- Search Algorithms\n",
    "- Sorting Algorithms\n",
    "- Mathematical Functions\n",
    "- Graph Traversal\n",
    "- Dynamic Programming\n",
    "- String Manipulation\n",
    "- Fractals"
   ]
  },
  {
   "cell_type": "markdown",
   "id": "2fad2126",
   "metadata": {},
   "source": [
    "### Factorial using recursion"
   ]
  },
  {
   "cell_type": "code",
   "execution_count": 89,
   "id": "6b155933",
   "metadata": {},
   "outputs": [
    {
     "data": {
      "text/plain": [
       "120"
      ]
     },
     "execution_count": 89,
     "metadata": {},
     "output_type": "execute_result"
    }
   ],
   "source": [
    "def fact_rec(n):\n",
    "    if n == 0:\n",
    "        return 1\n",
    "    return n * fact_rec(n-1) \n",
    "fact_rec(5)"
   ]
  },
  {
   "cell_type": "markdown",
   "id": "de375868",
   "metadata": {},
   "source": [
    "### Nth Fibbonacci number "
   ]
  },
  {
   "cell_type": "code",
   "execution_count": 90,
   "id": "2f346e6b",
   "metadata": {},
   "outputs": [
    {
     "data": {
      "text/plain": [
       "34"
      ]
     },
     "execution_count": 90,
     "metadata": {},
     "output_type": "execute_result"
    }
   ],
   "source": [
    "def n_fibbo(n): \n",
    "    if n <=1:\n",
    "        return n\n",
    "#     print(n)\n",
    "    return n_fibbo(n-1) + n_fibbo(n-2) \n",
    "\n",
    "n_fibbo(9)"
   ]
  },
  {
   "cell_type": "markdown",
   "id": "f64a2d27",
   "metadata": {},
   "source": [
    "### Give output"
   ]
  },
  {
   "cell_type": "code",
   "execution_count": 92,
   "id": "ef56bc97",
   "metadata": {},
   "outputs": [
    {
     "name": "stdout",
     "output_type": "stream",
     "text": [
      "3\n",
      "2\n",
      "1\n",
      "1\n",
      "2\n",
      "3\n"
     ]
    }
   ],
   "source": [
    "def f1(n):\n",
    "    if n == 0:\n",
    "        return\n",
    "    print(n)\n",
    "    f1(n-1)\n",
    "    print(n)\n",
    "f1(3)"
   ]
  },
  {
   "cell_type": "markdown",
   "id": "2bf80d2b",
   "metadata": {},
   "source": [
    "### Print N to 1 using rec"
   ]
  },
  {
   "cell_type": "code",
   "execution_count": 101,
   "id": "137fd4a1",
   "metadata": {},
   "outputs": [
    {
     "name": "stdout",
     "output_type": "stream",
     "text": [
      "5\n",
      "4\n",
      "3\n",
      "2\n",
      "1\n"
     ]
    }
   ],
   "source": [
    "def one_to_n(n):\n",
    "    if n <= 0:\n",
    "        return \n",
    "    print(n)\n",
    "    one_to_n(n-1)\n",
    "one_to_n(5)"
   ]
  },
  {
   "cell_type": "markdown",
   "id": "1626bd9f",
   "metadata": {},
   "source": [
    "### Print 1 to N using rec"
   ]
  },
  {
   "cell_type": "code",
   "execution_count": 102,
   "id": "28847425",
   "metadata": {},
   "outputs": [
    {
     "name": "stdout",
     "output_type": "stream",
     "text": [
      "1\n",
      "2\n",
      "3\n",
      "4\n",
      "5\n"
     ]
    }
   ],
   "source": [
    "def n_to_one(n):\n",
    "    if n<=0:\n",
    "        return\n",
    "    n_to_one(n-1)\n",
    "    print(n)\n",
    "n_to_one(5)"
   ]
  },
  {
   "cell_type": "markdown",
   "id": "54cfec21",
   "metadata": {},
   "source": [
    "### Sum of digits of a number using recursion"
   ]
  },
  {
   "cell_type": "code",
   "execution_count": 107,
   "id": "b40f07a7",
   "metadata": {},
   "outputs": [
    {
     "data": {
      "text/plain": [
       "6"
      ]
     },
     "execution_count": 107,
     "metadata": {},
     "output_type": "execute_result"
    }
   ],
   "source": [
    "def sum_rec(n):\n",
    "    if n<=0:\n",
    "        return 0\n",
    "    \n",
    "    return n%10 + sum_rec(n//10)\n",
    "sum_rec(321)"
   ]
  },
  {
   "cell_type": "markdown",
   "id": "e432805e",
   "metadata": {},
   "source": [
    "### Check if a string is a palindrome using recursion"
   ]
  },
  {
   "cell_type": "code",
   "execution_count": 177,
   "id": "d8c8c640",
   "metadata": {},
   "outputs": [],
   "source": [
    "def pal(s):\n",
    "    r = len(s) - 1\n",
    "    l = 0\n",
    "    def check(s,l,r):\n",
    "        \n",
    "        if (r - l) >= 1:\n",
    "            check(s,l+1,r-1)  # Increase l and decrease r to reach the middle element of the string\n",
    "            \n",
    "        if s[l] != s[r]:\n",
    "            return False\n",
    "        \n",
    "        return True\n",
    "    \n",
    "    \n",
    "    \n",
    "    return check(s,l,r)"
   ]
  },
  {
   "cell_type": "markdown",
   "id": "6df1b6e3",
   "metadata": {},
   "source": [
    "### The Sequence\n",
    "You are given a number n. You need to recursively find the nth term of the series S that is given by:\n",
    "S(n) = n+ n*(S(n-1)) and S(0) = 1"
   ]
  },
  {
   "cell_type": "code",
   "execution_count": 178,
   "id": "f033dbd3",
   "metadata": {},
   "outputs": [],
   "source": [
    "def theSequence(n):\n",
    "    if n  == 0 :\n",
    "        return 1\n",
    "    return n+(n*theSequence(n-1))\n",
    "    "
   ]
  },
  {
   "cell_type": "markdown",
   "id": "aef6400f",
   "metadata": {},
   "source": [
    "### Print Array Elements Using Recursion\n",
    "\n",
    "You are given an array arr of size n. You need to print the array elements from start to end using given recursive function."
   ]
  },
  {
   "cell_type": "code",
   "execution_count": 179,
   "id": "f39281a8",
   "metadata": {},
   "outputs": [],
   "source": [
    "def printArrayRecursively(self,arr,n):\n",
    "        if n == 0:\n",
    "            return \n",
    "        self.printArrayRecursively(arr,n-1)\n",
    "        print(arr[n-1],end = \" \")"
   ]
  },
  {
   "cell_type": "markdown",
   "id": "4fd4f199",
   "metadata": {},
   "source": [
    "### Find nCr\n",
    "You are given two numbers n and r. You need to find nCr.\n",
    "nCr = (n!) / ((n-r)!*(r!))\n",
    "In recursive way, we can write nCr as nCr = (n-1)C(r-1) + (n-1)Cr"
   ]
  },
  {
   "cell_type": "code",
   "execution_count": 180,
   "id": "500b8817",
   "metadata": {},
   "outputs": [],
   "source": [
    "def nCr(n,r):\n",
    "    if n == 1 or r == 1:\n",
    "        return n\n",
    "    elif n == r:\n",
    "        return 1\n",
    "    return nCr(n-1,r-1) + nCr(n-1,r)"
   ]
  },
  {
   "cell_type": "markdown",
   "id": "8f322e0a",
   "metadata": {},
   "source": [
    "### Check Palindrome\n",
    "You are given a number n. You need to see if the number is a palindrome or not (recursively)"
   ]
  },
  {
   "cell_type": "code",
   "execution_count": null,
   "id": "0a323c45",
   "metadata": {},
   "outputs": [],
   "source": [
    "#User function Template for python3\n",
    "\n",
    "class Solution:\n",
    "    def isPalin(self,N):\n",
    "        #code here\n",
    "        def palin(N, temp = 0):\n",
    "            if N == 0:\n",
    "                return temp \n",
    "            temp  = temp* 10 + (N %10)\n",
    "            return palin(N//10, temp)\n",
    "        if N == palin(N):\n",
    "            return True\n",
    "        else:\n",
    "            return False\n",
    "        \n"
   ]
  },
  {
   "cell_type": "markdown",
   "id": "9e9953ab",
   "metadata": {},
   "source": [
    "### GCD Euclid\n",
    "You are given a two numbers a and b. Find their GCD using recursion."
   ]
  },
  {
   "cell_type": "code",
   "execution_count": 204,
   "id": "79110d5a",
   "metadata": {},
   "outputs": [],
   "source": [
    "def GCD(a,b):\n",
    "    if a == b:\n",
    "        return a\n",
    "    if a<b:\n",
    "        return self.GCD(b-a,a)\n",
    "    return GCD(a-b,b)\n",
    "\n",
    "def GCD_eff(a,b):\n",
    "    if b == 0:\n",
    "        return a\n",
    "    \n",
    "    if a>b:\n",
    "        a,b = b,a\n",
    "    \n",
    "    return GCD_eff(a,b%a)"
   ]
  },
  {
   "cell_type": "markdown",
   "id": "81b5a94b",
   "metadata": {},
   "source": [
    "### Delete middle element of a stack\n",
    "Given a stack, delete the middle element of the stack without using any additional data structure.\n",
    "Middle element:- floor((size_of_stack+1)/2) (1-based indexing) from bottom of the stack.\n",
    "\n",
    "Note: The output shown by the compiler is the stack from top to bottom."
   ]
  },
  {
   "cell_type": "code",
   "execution_count": 206,
   "id": "352bff69",
   "metadata": {},
   "outputs": [],
   "source": [
    "def deleteMid( s, sizeOfStack):\n",
    "        \n",
    "    if sizeOfStack == (len(s)-1)//2:\n",
    "\n",
    "        s.pop(sizeOfStack)\n",
    "        return s\n",
    "    return deleteMid(s,sizeOfStack - 1)\n"
   ]
  },
  {
   "cell_type": "code",
   "execution_count": 222,
   "id": "d4956366",
   "metadata": {},
   "outputs": [
    {
     "name": "stdout",
     "output_type": "stream",
     "text": [
      "n = 3 k = 2 i = 0 arr: [0, 1, 2]\n",
      "n = 3 k = 1 i = 1 arr: [0, 1, 2]\n",
      "n = 2 k = 1 i = 2 arr: [0, 2]\n",
      "[2]\n"
     ]
    }
   ],
   "source": [
    "n =3\n",
    "k= 2\n",
    "arr = list(range(n))\n",
    "i = 0\n",
    "temp = k\n",
    "while n > 1:\n",
    "    print(\"n =\",n,'k =',k,'i =',i,'arr:', arr)\n",
    "    \n",
    "    if i>= n:\n",
    "        i = 0\n",
    "    if k == 1:\n",
    "        arr.pop(i)\n",
    "        k = temp\n",
    "        n-=1\n",
    "\n",
    "    k-=1\n",
    "    \n",
    "    i+=1\n",
    "print(arr)"
   ]
  },
  {
   "cell_type": "code",
   "execution_count": null,
   "id": "62077446",
   "metadata": {},
   "outputs": [],
   "source": []
  },
  {
   "cell_type": "code",
   "execution_count": null,
   "id": "4c679230",
   "metadata": {},
   "outputs": [],
   "source": []
  }
 ],
 "metadata": {
  "kernelspec": {
   "display_name": "Python 3 (ipykernel)",
   "language": "python",
   "name": "python3"
  },
  "language_info": {
   "codemirror_mode": {
    "name": "ipython",
    "version": 3
   },
   "file_extension": ".py",
   "mimetype": "text/x-python",
   "name": "python",
   "nbconvert_exporter": "python",
   "pygments_lexer": "ipython3",
   "version": "3.11.2"
  }
 },
 "nbformat": 4,
 "nbformat_minor": 5
}
