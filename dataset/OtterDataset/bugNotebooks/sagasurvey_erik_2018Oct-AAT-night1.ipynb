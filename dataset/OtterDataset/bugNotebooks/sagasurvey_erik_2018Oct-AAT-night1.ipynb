{
 "cells": [
  {
   "cell_type": "code",
   "execution_count": 1,
   "metadata": {},
   "outputs": [],
   "source": [
    "import os\n",
    "import sys\n",
    "\n",
    "import requests\n",
    "\n",
    "import numpy as np\n",
    "\n",
    "from astropy import units as u\n",
    "from astropy import table\n",
    "from astropy.coordinates import SkyCoord, EarthLocation, get_sun\n",
    "from astropy.time import Time\n",
    "from astropy.io import fits\n",
    "\n",
    "from importlib import reload\n",
    "\n",
    "%matplotlib inline\n",
    "from matplotlib import style, pyplot as plt"
   ]
  },
  {
   "cell_type": "markdown",
   "metadata": {},
   "source": [
    "Most of the initial steps are in 2018Oct-AAT"
   ]
  },
  {
   "cell_type": "markdown",
   "metadata": {},
   "source": [
    "# Initial setup "
   ]
  },
  {
   "cell_type": "code",
   "execution_count": 2,
   "metadata": {},
   "outputs": [
    {
     "name": "stdout",
     "output_type": "stream",
     "text": [
      "/Users/erik/projects/saga/saga\n",
      "running build\n",
      "running build_py\n",
      "/Users/erik/projects/saga/erik\n"
     ]
    }
   ],
   "source": [
    "working_dir = os.path.abspath('..')\n",
    "\n",
    "%cd ../../saga\n",
    "sagadir = !pwd\n",
    "sagadir = sagadir[0]\n",
    "!python setup.py build\n",
    "%cd $working_dir"
   ]
  },
  {
   "cell_type": "code",
   "execution_count": 3,
   "metadata": {},
   "outputs": [
    {
     "name": "stdout",
     "output_type": "stream",
     "text": [
      "Adding /Users/erik/projects/saga/saga/build/lib to the python path\n"
     ]
    },
    {
     "data": {
      "text/plain": [
       "'0.10.10'"
      ]
     },
     "execution_count": 3,
     "metadata": {},
     "output_type": "execute_result"
    }
   ],
   "source": [
    "sagalibdir = os.path.join(sagadir, 'build/lib')\n",
    "print('Adding', sagalibdir, 'to the python path')\n",
    "sys.path.insert(0, sagalibdir)\n",
    "\n",
    "import SAGA as saga\n",
    "from SAGA.database import external \n",
    "saga.__version__"
   ]
  },
  {
   "cell_type": "code",
   "execution_count": 4,
   "metadata": {},
   "outputs": [
    {
     "name": "stdout",
     "output_type": "stream",
     "text": [
      "Downloading https://docs.google.com/spreadsheets/d/1b3k2eyFjHFDtmHce1xi6JKuj3ATOWYduTBFftx5oPp8/export?format=csv&gid=1471095077 [Done]\n"
     ]
    }
   ],
   "source": [
    "saga_database = saga.Database(os.path.join(os.environ['HOME'],'Dropbox/SAGA/'))\n",
    "\n",
    "saga_host_catalog = saga.HostCatalog(saga_database)\n",
    "saga_object_catalog = saga.ObjectCatalog(saga_database)"
   ]
  },
  {
   "cell_type": "code",
   "execution_count": 5,
   "metadata": {},
   "outputs": [],
   "source": [
    "hosts_to_load = 'aat_2018b'\n",
    "host_id_label = 'ID_STR'\n",
    "targethosts = saga_host_catalog.load(hosts_to_load)\n",
    "targethosts[host_id_label] = saga_host_catalog.resolve_id(hosts_to_load, 'string')"
   ]
  },
  {
   "cell_type": "markdown",
   "metadata": {},
   "source": [
    "# Generate AAT-appropriate target catalogs "
   ]
  },
  {
   "cell_type": "code",
   "execution_count": 6,
   "metadata": {},
   "outputs": [
    {
     "name": "stdout",
     "output_type": "stream",
     "text": [
      "Downloading https://docs.google.com/spreadsheets/d/1Z8HISgp6ScJ0YZiFK5_TrGDZXY9t2OL3hkCSFJUiC6w/export?format=csv&gid=478933689 [Done]\n",
      "Downloading https://docs.google.com/spreadsheets/d/1Y3nO7VyU4jDiBPawCs8wJQt2s_PIAKRj-HSrmcWeQZo/export?format=csv&gid=1379081675 [Done]\n",
      "Downloading https://docs.google.com/spreadsheets/d/1Y3nO7VyU4jDiBPawCs8wJQt2s_PIAKRj-HSrmcWeQZo/export?format=csv&gid=124397139 [Done]\n",
      "Downloading https://docs.google.com/spreadsheets/d/1Y3nO7VyU4jDiBPawCs8wJQt2s_PIAKRj-HSrmcWeQZo/export?format=csv&gid=1574060112 [Done]\n"
     ]
    }
   ],
   "source": [
    "#saga_database['manual_targets_aat2018a'].local.path = 'aat_targets_oct2018/manual_targets.csv'\n",
    "\n",
    "# saga_targets = saga.TargetSelection(saga_database, \n",
    "#                                     #manual_selected_objids='manual_targets_aat2018b',\n",
    "#                                     gmm_parameters={'sdss':'gmm_parameters_no_outlier', \n",
    "#                                                     'des': 'gmm_parameters_no_outlier_no_u'}, \n",
    "#                                     version=2)\n",
    "saga_targets = saga.TargetSelection(saga_database, manual_selected_objids='manual_targets_aat2018b')\n",
    "\n",
    "acats = {}\n",
    "tcats = {}"
   ]
  },
  {
   "cell_type": "code",
   "execution_count": 7,
   "metadata": {},
   "outputs": [],
   "source": [
    "def get_gaia_guidestars(hostname, magrng=(12.5, 13.5),\n",
    "                        matchmagrng=(16, 17), d_matchmag=1, matchtol0=1*u.arcsec,\n",
    "                        verbose=True, neighbor_cut=30*u.arcsec, nmagdown=4.5):\n",
    "    \"\"\"\n",
    "    `magrng` is the range of magnitudes to actually select on.  It's ~r-band, based on the\n",
    "    Evans et al. 2018 r-to-G conversion\n",
    "    \"\"\"\n",
    "    print = __builtin__.print\n",
    "    if not verbose:\n",
    "        print = lambda *args, **kwargs:None\n",
    "        \n",
    "    host = saga_host_catalog.load_single(hostname)\n",
    "    obj_cat = saga_object_catalog.load(hostname)[0]\n",
    "    omag = obj_cat['r_mag']\n",
    "    gaia_cat = table.Table.read('external_catalogs/astrometric/{}_gaia.ecsv'.format(hostname))\n",
    "    gaia_sc = SkyCoord(gaia_cat['ra'], gaia_cat['dec'])\n",
    "    gmag = gaia_cat['phot_g_mean_mag']\n",
    "    \n",
    "    omsk = (matchmagrng[0]<omag)&(omag<matchmagrng[1])\n",
    "    gmsk = ((matchmagrng[0]-d_matchmag)<gmag)&(gmag<(matchmagrng[1]+d_matchmag))\n",
    "    oscmsk = obj_cat['coord'][omsk]\n",
    "    gscmsk = gaia_sc[gmsk]\n",
    "    \n",
    "    idx, d2d, _ = oscmsk.match_to_catalog_sky(gscmsk)\n",
    "    sepmsk = d2d < matchtol0\n",
    "    \n",
    "    dra = (oscmsk[sepmsk].ra - gscmsk[idx][sepmsk].ra).to(u.arcsec)\n",
    "    ddec = (oscmsk[sepmsk].dec - gscmsk[idx][sepmsk].dec).to(u.arcsec)\n",
    "    offset = np.mean(dra), np.mean(ddec)\n",
    "    \n",
    "    print(\"Object catalog to Gaia offset:\", offset, 'from', np.sum(sepmsk), \n",
    "          'objects ({:.1%})'.format(np.sum(sepmsk)/len(sepmsk)))\n",
    "    \n",
    "    #this polynomial is from Evans et al. 2018 for the G to r conversion\n",
    "    Gmr_coeffs = (-0.1856, 0.1579, 0.02738, -0.0550)\n",
    "    Gmr = np.polyval(Gmr_coeffs[::-1], gaia_cat['bp_rp'])\n",
    "    gaia_cat['g_as_r_mag'] = gmag - Gmr\n",
    "    \n",
    "    gmsk = (magrng[0] < gaia_cat['g_as_r_mag'])&(gaia_cat['g_as_r_mag'] < magrng[1])\n",
    "    gstars = gaia_cat[gmsk]\n",
    "    print('Found', len(gstars), 'Gaia guide stars')\n",
    "    \n",
    "    if neighbor_cut is not None:\n",
    "        possible_neighbor_stars = gaia_cat[gaia_cat['g_as_r_mag'] < magrng[1]+nmagdown]\n",
    "        nsc = SkyCoord(possible_neighbor_stars['ra'], possible_neighbor_stars['dec'])\n",
    "        gsc = SkyCoord(gstars['ra'], gstars['dec'])\n",
    "        idx, d2d, _ = gsc.match_to_catalog_sky(nsc, 2)\n",
    "        neighbor_present = d2d < neighbor_cut\n",
    "        print(np.sum(neighbor_present), 'Have a brightish neighbor.  Removing them.')\n",
    "        gstars = gstars[~neighbor_present]\n",
    "\n",
    "    tab = table.Table({\n",
    "        'TargetName': gstars['source_id'],\n",
    "        'RA': (u.Quantity(gstars['ra']) + offset[0]),\n",
    "        'Dec': (u.Quantity(gstars['dec']) + offset[1]),\n",
    "        'TargetType': np.repeat('F', len(gstars)),\n",
    "        'Priority': np.repeat(9, len(gstars)),\n",
    "        'Magnitude':gstars['g_as_r_mag'],\n",
    "        '0': np.repeat(0, len(gstars)),\n",
    "        'Notes': np.repeat('guide_gaia', len(gstars)),\n",
    "    })\n",
    "    tab.meta['dra'] = dra\n",
    "    tab.meta['ddec'] = ddec\n",
    "    tab.meta['offset'] = offset\n",
    "    tab.meta['gstarcat'] = gstars\n",
    "    return tab"
   ]
  },
  {
   "cell_type": "code",
   "execution_count": 8,
   "metadata": {},
   "outputs": [],
   "source": [
    "def get_sdss_guidestars(hostname):\n",
    "    host = saga_host_catalog.load_single(hostname)\n",
    "    obj_cat = saga_object_catalog.load(hostname)[0]\n",
    "    r = obj_cat['r_mag']\n",
    "    msk = (12.5<r)&(r<14)&~obj_cat['is_galaxy']&(obj_cat['RHOST_ARCM']>15)\n",
    "    starcat = obj_cat[msk]\n",
    "    \n",
    "    print('Found', len(starcat), 'SDSS guide stars')\n",
    "    \n",
    "    return table.Table({\n",
    "        'TargetName': starcat['OBJID'],\n",
    "        'RA': starcat['RA'],\n",
    "        'Dec': starcat['DEC'],\n",
    "        'TargetType': np.repeat('F', len(starcat)),\n",
    "        'Priority': np.repeat(9, len(starcat)),\n",
    "        'Magnitude': starcat['r_mag'],\n",
    "        '0': np.repeat(0, len(starcat)),\n",
    "        'Notes': np.repeat('guide', len(starcat)),\n",
    "    })"
   ]
  },
  {
   "cell_type": "code",
   "execution_count": 9,
   "metadata": {},
   "outputs": [],
   "source": [
    "from astropy.coordinates import Angle\n",
    "\n",
    "def write_fld_file(target_catalog, host, obstime, fn, suffix=' master catalog'):\n",
    "    hostname = host[host_id_label]\n",
    "    target_catalog.write(fn,\n",
    "                         delimiter=' ',\n",
    "                         quotechar='\"',\n",
    "                         format='ascii.fast_commented_header',\n",
    "                         overwrite=True,\n",
    "                         formats={\n",
    "                            'RA': lambda x: Angle(x, 'deg').wrap_at(360*u.deg).to_string('hr', sep=' ', precision=2), # pylint: disable=E1101\n",
    "                            'Dec': lambda x: Angle(x, 'deg').to_string('deg', sep=' ', precision=2),\n",
    "                            'Magnitude': '%.2f',\n",
    "                         })\n",
    "    with open(fn) as fh:\n",
    "        content = fh.read()\n",
    "    with open(fn, 'w') as fh:\n",
    "        fh.write('LABEL ' + hostname + suffix + '\\n')\n",
    "        fh.write('UTDATE  {yr} {mo:02} {day:02}\\n'.format(yr=obstime.datetime.year,\n",
    "                                                        mo=obstime.datetime.month,\n",
    "                                                        day=obstime.datetime.day))\n",
    "        censtr = host['coord'].to_string('hmsdms', sep=' ', precision=2, alwayssign=True)\n",
    "        fh.write('CENTRE  ' + censtr + '\\n')\n",
    "        fh.write('EQUINOX J2000.0\\n')\n",
    "        fh.write('# End of Header\\n\\n')\n",
    "        fh.write(content.replace('\"', ''))\n",
    "        \n",
    "\n",
    "def subsample_catalog(catalog, prilimits=None, maxflux=np.inf, maxguides=np.inf, maxsky=np.inf, verbose=True):\n",
    "    \"\"\"\n",
    "    Subsamples the catalog, limiting the number in a given priority set\n",
    "    \n",
    "    ``prilimits`` should be a dictionary mapping priority number to the maximum number of\n",
    "    objects in that priority.  If it is None, no limits will be used.\n",
    "    \"\"\"\n",
    "    \n",
    "    \n",
    "    msks = [catalog['Notes']==notestr for notestr in ('Flux', 'Sky')]\n",
    "    msks.append(np.array([n.lower().startswith('guide') for n in catalog['Notes']]))\n",
    "    maxns = [maxflux, maxsky, maxguides]\n",
    "    \n",
    "    \n",
    "    \n",
    "    if prilimits is not None:\n",
    "        for pri, maxn in prilimits.items():\n",
    "            msks.append(catalog['Priority']==pri)\n",
    "            maxns.append(maxn)\n",
    "            \n",
    "    idxs_to_rem = []\n",
    "    for msk, maxn in zip(msks, maxns):\n",
    "        ntorem = np.sum(msk) - maxn\n",
    "        if ntorem >= 1:\n",
    "            idxs = np.where(msk)[0]\n",
    "            idxs_to_rem.append(np.random.permutation(idxs)[:ntorem])\n",
    "    subcat = catalog.copy()\n",
    "    if idxs_to_rem:\n",
    "        del subcat[np.concatenate(idxs_to_rem)]\n",
    "    \n",
    "    if verbose:\n",
    "        npris = dict(enumerate(np.bincount(subcat['Priority'][subcat['Notes']=='Targets'])))\n",
    "        npris = {k:v for k,v in npris.items() if v>0}\n",
    "        print('Nflux:', np.sum(subcat['Notes']=='Flux'), \n",
    "              'Nguide:', np.sum([n.lower().startswith('guide') for n in subcat['Notes']]), \n",
    "              'NSky', np.sum(subcat['Notes']=='Sky'))\n",
    "        print('Targets in each priority:', npris)\n",
    "        print('Total:', len(subcat))\n",
    "        \n",
    "    return subcat"
   ]
  },
  {
   "cell_type": "code",
   "execution_count": 10,
   "metadata": {},
   "outputs": [],
   "source": [
    "def infer_radec_cols(table):\n",
    "    raname = decname = None\n",
    "    for cnm in table.colnames:\n",
    "        if cnm.lower()=='ra':\n",
    "            raname = cnm\n",
    "        elif cnm.lower()=='dec':\n",
    "            decname = cnm\n",
    "    return raname, decname"
   ]
  },
  {
   "cell_type": "code",
   "execution_count": 11,
   "metadata": {},
   "outputs": [],
   "source": [
    "def make_decals_viewer_cutouts(table, survey='sdss', ncols=3, zoom=15, size=120, namecol=None, dhtml=True):\n",
    "    \"\"\"\n",
    "    Zoom of 15 is ~1\"/pixel, so ~2' across with defaults\n",
    "    \"\"\"\n",
    "    template_url = 'http://legacysurvey.org/viewer/jpeg-cutout/?ra={ra:.7}&dec={dec:.7}&zoom={zoom}&layer={layer}&size={size}'\n",
    "    \n",
    "    raname, decname = infer_radec_cols(table)\n",
    "    \n",
    "    entries = []\n",
    "    for row in table:\n",
    "        imgurl = template_url.format(ra=row[raname], dec=row[decname], layer=survey, size=size, zoom=zoom)\n",
    "        viewurl = 'http://legacysurvey.org/viewer?ra={}&dec={}'.format(row[raname], row[decname])\n",
    "        \n",
    "        namestr = '' if namecol is None else (str(row[namecol]) + '<br>')\n",
    "        entries.append('{}<a href=\"{}\"><img src=\"{}\"></a>'.format(namestr, viewurl, imgurl))\n",
    "        \n",
    "    entryrows = [[]]\n",
    "    while entries:\n",
    "        entry = entries.pop(0)\n",
    "        if len(entryrows[-1]) >= ncols:\n",
    "            entryrows.append([])\n",
    "        entryrows[-1].append(entry)\n",
    "    entryrows[-1].extend(['']*(ncols-len(entryrows[-1])))\n",
    "    \n",
    "    tabrows = ['<td>{}</td>'.format('</td><td>'.join(erow)) for erow in entryrows]\n",
    "\n",
    "    htmlstr = \"\"\"\n",
    "    <table>\n",
    "    <tr>{}</tr>\n",
    "    </table>\n",
    "    \"\"\".format('</tr>\\n<tr>'.join(tabrows))\n",
    "\n",
    "    if dhtml:\n",
    "        from IPython import display\n",
    "        return display.HTML(htmlstr)\n",
    "    else:\n",
    "        return htmlstr"
   ]
  },
  {
   "cell_type": "code",
   "execution_count": 12,
   "metadata": {},
   "outputs": [],
   "source": [
    "def make_des_cutouts_file(table, copytoclipboard=True, showtable=False):\n",
    "    raname, decname = infer_radec_cols(table)\n",
    "    \n",
    "    entries = []\n",
    "    for row in table:\n",
    "        entries.append('{:.5f},{:.5f}'.format(row[raname], row[decname]))\n",
    "        \n",
    "    htmlstr = \"\"\"\n",
    "    Paste the coords in \"Enter values\" at  \n",
    "    <a href=\"https://des.ncsa.illinois.edu/easyweb/cutouts\">the DES cutout service</a>,\n",
    "    and change the size to 0.3 arcmin\n",
    "    \"\"\"\n",
    "    tablestr = \"\"\"<br>\n",
    "    <table>\n",
    "    <tr><td>{}</td></tr>\n",
    "    </table>\n",
    "    \"\"\".format('</td></tr>\\n<tr><td>'.join(entries))\n",
    "    if showtable:\n",
    "        htmlstr += tablestr\n",
    "    \n",
    "    if copytoclipboard:\n",
    "        import platform\n",
    "        text = '\\n'.join(entries)\n",
    "        if platform.system() == 'Darwin':\n",
    "            clipproc = os.popen('pbcopy', 'w')\n",
    "            clipproc.write(text)\n",
    "            clipproc.close()\n",
    "            print('Copied to clipboard')\n",
    "        elif platform.system() == 'Linux':\n",
    "            clipproc = os.popen('xsel -i', 'w')\n",
    "            clipproc.write(text)\n",
    "            clipproc.close()\n",
    "            print('Copied to clipboard')\n",
    "        else:\n",
    "            raise OSError(\"Not on a mac or linux, so can't use clipboard. \")\n",
    "        \n",
    "    from IPython import display\n",
    "    return display.HTML(htmlstr)\n",
    "    \n",
    "def show_des_cutouts(table, jobname, username='eteq', ncols=3, namecol=None, force_size=(128, 128), dhtml=True):\n",
    "    base_url = 'https://des.ncsa.illinois.edu'\n",
    "    \n",
    "    list_url = base_url + '/easyweb/static/workdir/{}/{}/list.json'.format(username, jobname)\n",
    "    print(list_url)\n",
    "    list_json = requests.get(list_url).json()\n",
    "    img_urls = [base_url+img['name'] for img in list_json]\n",
    "    \n",
    "    if len(table) != len(img_urls):\n",
    "        raise ValueError('table and job length do not match!')\n",
    "    raname, decname = infer_radec_cols(table)\n",
    "    \n",
    "    sizestr = '' if force_size is None else ('height=\"{}\" width=\"{}\"'.format(force_size[1], force_size[0]))\n",
    "    entries = []\n",
    "    for row, imgurl in zip(table, img_urls):\n",
    "        viewurl = 'http://legacysurvey.org/viewer?ra={}&dec={}'.format(row[raname], row[decname])\n",
    "        \n",
    "        namestr = '' if namecol is None else (str(row[namecol]) + '<br>')\n",
    "        entries.append('{}<a href=\"{}\"><img src=\"{}\"{}></a>'.format(namestr, viewurl, imgurl, sizestr))\n",
    "        \n",
    "    entryrows = [[]]\n",
    "    while entries:\n",
    "        entry = entries.pop(0)\n",
    "        if len(entryrows[-1]) >= ncols:\n",
    "            entryrows.append([])\n",
    "        entryrows[-1].append(entry)\n",
    "    entryrows[-1].extend(['']*(ncols-len(entryrows[-1])))\n",
    "    \n",
    "    tabrows = ['<td>{}</td>'.format('</td><td>'.join(erow)) for erow in entryrows]\n",
    "\n",
    "    htmlstr = \"\"\"\n",
    "    <table>\n",
    "    <tr>{}</tr>\n",
    "    </table>\n",
    "    \"\"\".format('</tr>\\n<tr>'.join(tabrows))\n",
    "\n",
    "    if dhtml:\n",
    "        from IPython import display\n",
    "        return display.HTML(htmlstr)\n",
    "    else:\n",
    "        return htmlstr\n"
   ]
  },
  {
   "cell_type": "markdown",
   "metadata": {},
   "source": [
    "# Configuration File-Generation Templates "
   ]
  },
  {
   "cell_type": "markdown",
   "metadata": {},
   "source": [
    "## nsaxxxx"
   ]
  },
  {
   "cell_type": "code",
   "execution_count": null,
   "metadata": {},
   "outputs": [],
   "source": [
    "idnum = xxxx\n",
    "fieldnum = NN\n",
    "\n",
    "saga_object_catalog.build_and_write_to_database('NSA{}'.format(idnum), overwrite=fieldnum>1)"
   ]
  },
  {
   "cell_type": "code",
   "execution_count": null,
   "metadata": {},
   "outputs": [],
   "source": [
    "host = targethosts[targethosts['NSAID'] == idnum]\n",
    "assert len(host) == 1\n",
    "host = host[0]\n",
    "\n",
    "hostname = host[host_id_label]\n",
    "print(hostname)\n",
    "print(SkyCoord(host['RA'], host['Dec'], unit=u.deg).to_string('hmsdms'))\n",
    "\n",
    "tcats[hostname] = tcat = saga_targets.build_target_catalogs(hostname, return_as='list', reload_base=True).pop()\n",
    "acats[hostname] = acat = saga.targets.prepare_aat_catalog(tcat, sky_fiber_needed=100)\n",
    "\n",
    "guidestars = get_sdss_guidestars(hostname)\n",
    "writecat = table.vstack([acat, guidestars])\n",
    "writecat['Notes'] = [n.title() for n in writecat['Notes']]\n",
    "len(writecat)"
   ]
  },
  {
   "cell_type": "code",
   "execution_count": null,
   "metadata": {},
   "outputs": [],
   "source": [
    "make_decals_viewer_cutouts(guidestars[np.random.permutation(len(guidestars))], \n",
    "                           survey='sdss',ncols=6,namecol='TargetName')"
   ]
  },
  {
   "cell_type": "code",
   "execution_count": null,
   "metadata": {},
   "outputs": [],
   "source": [
    "guides_to_rem = [int(i) for i in 'nnnn nnn nnnn'.split()]\n",
    "writecat.remove_rows((writecat['Notes']=='Guide')&(np.in1d(writecat['TargetName'], guides_to_rem)))\n",
    "np.sum((writecat['Notes']=='Guide'))"
   ]
  },
  {
   "cell_type": "code",
   "execution_count": null,
   "metadata": {},
   "outputs": [],
   "source": [
    "make_decals_viewer_cutouts(acat[acat['Notes']=='sky'], survey='sdss', ncols=6, \n",
    "                           zoom=16, namecol='TargetName')"
   ]
  },
  {
   "cell_type": "code",
   "execution_count": null,
   "metadata": {},
   "outputs": [],
   "source": [
    "skys_to_rem = [int(i) for i in 'n n nn nn'.split()]\n",
    "writecat.remove_rows((writecat['Notes']=='Sky')&(np.in1d(writecat['TargetName'], skys_to_rem)))\n",
    "np.sum((writecat['Notes']=='Sky'))"
   ]
  },
  {
   "cell_type": "code",
   "execution_count": null,
   "metadata": {},
   "outputs": [],
   "source": [
    "subsampledcat = subsample_catalog(writecat, {1:np.inf}, maxflux=5, maxguides=100)\n",
    "\n",
    "fldfn = 'aat_targets_oct2018/{}_{}.fld'.format(hostname, fieldnum)\n",
    "print('Writing', fldfn)\n",
    "write_fld_file(subsampledcat, host, obs_start_date, fldfn, suffix='_{}'.format(fieldnum))\n",
    "np.sum(subsampledcat['Notes'] == 'Targets')"
   ]
  },
  {
   "cell_type": "code",
   "execution_count": null,
   "metadata": {},
   "outputs": [],
   "source": [
    "!scp $fldfn visitor8@aatlxh:~/octDD/"
   ]
  },
  {
   "cell_type": "markdown",
   "metadata": {},
   "source": [
    "## pgcxxxx"
   ]
  },
  {
   "cell_type": "code",
   "execution_count": null,
   "metadata": {},
   "outputs": [],
   "source": [
    "idnum = xxxx\n",
    "fieldnum = NN\n",
    "\n",
    "saga_object_catalog.build_and_write_to_database('pgc{}'.format(idnum), overwrite=fieldnum>1)"
   ]
  },
  {
   "cell_type": "code",
   "execution_count": null,
   "metadata": {},
   "outputs": [],
   "source": [
    "host = targethosts[targethosts['PGC'] == idnum]\n",
    "assert len(host) == 1\n",
    "host = host[0]\n",
    "\n",
    "hostname = host[host_id_label]\n",
    "print(hostname)\n",
    "print(SkyCoord(host['RA'], host['Dec'], unit=u.deg).to_string('hmsdms'))\n",
    "\n",
    "tcats[hostname] = tcat = saga_targets.build_target_catalogs(hostname, return_as='list', reload_base=True).pop()\n",
    "acats[hostname] = acat = saga.targets.prepare_aat_catalog(tcat, sky_fiber_needed=100)\n",
    "\n",
    "guidestars = get_gaia_guidestars(hostname)\n",
    "writecat = table.vstack([acat, guidestars])\n",
    "writecat['Notes'] = [n.title() for n in writecat['Notes']]\n",
    "len(writecat)"
   ]
  },
  {
   "cell_type": "code",
   "execution_count": null,
   "metadata": {},
   "outputs": [],
   "source": [
    "# only need to remove if something really fishy is going on\n",
    "make_decals_viewer_cutouts(guidestars[np.random.permutation(len(guidestars))[:24]], \n",
    "                           survey='unwise-w1w2',ncols=6,namecol='TargetName', zoom=17)"
   ]
  },
  {
   "cell_type": "code",
   "execution_count": null,
   "metadata": {},
   "outputs": [],
   "source": [
    "make_des_cutouts_file(acat[acat['Notes']=='sky'])"
   ]
  },
  {
   "cell_type": "code",
   "execution_count": null,
   "metadata": {},
   "outputs": [],
   "source": [
    "show_des_cutouts(acat[acat['Notes']=='sky'], <'JOBNAME'>, ncols=8, namecol='TargetName')"
   ]
  },
  {
   "cell_type": "code",
   "execution_count": null,
   "metadata": {},
   "outputs": [],
   "source": [
    "skys_to_rem = [int(i) for i in <'n n nn'>.split()]\n",
    "writecat.remove_rows((writecat['Notes']=='Sky')&(np.in1d(writecat['TargetName'], skys_to_rem)))\n",
    "np.sum((writecat['Notes']=='Sky'))"
   ]
  },
  {
   "cell_type": "code",
   "execution_count": null,
   "metadata": {},
   "outputs": [],
   "source": [
    "subsampledcat = subsample_catalog(writecat, {1:np.inf}, maxflux=5, maxguides=100)\n",
    "\n",
    "fldfn = 'aat_targets_oct2018/{}_{}.fld'.format(hostname, fieldnum)\n",
    "print('Writing', fldfn)\n",
    "write_fld_file(subsampledcat, host, obs_start_date, fldfn, suffix='_{}'.format(fieldnum))\n",
    "np.sum(subsampledcat['Notes'] == 'Targets')"
   ]
  },
  {
   "cell_type": "code",
   "execution_count": null,
   "metadata": {},
   "outputs": [],
   "source": [
    "!scp $fldfn visitor8@aatlxh:~/octDD/"
   ]
  },
  {
   "cell_type": "markdown",
   "metadata": {},
   "source": [
    "# Night 1"
   ]
  },
  {
   "cell_type": "code",
   "execution_count": 24,
   "metadata": {},
   "outputs": [],
   "source": [
    "import aat\n",
    "\n",
    "obs_start_date = Time('2018-8-3') "
   ]
  },
  {
   "cell_type": "markdown",
   "metadata": {},
   "source": [
    "## pgc64427"
   ]
  },
  {
   "cell_type": "code",
   "execution_count": 14,
   "metadata": {},
   "outputs": [
    {
     "name": "stdout",
     "output_type": "stream",
     "text": [
      "Downloading https://docs.google.com/spreadsheets/d/1Y3nO7VyU4jDiBPawCs8wJQt2s_PIAKRj-HSrmcWeQZo/export?format=csv&gid=286645731 [Done]\n",
      "Downloading https://docs.google.com/spreadsheets/d/1Y3nO7VyU4jDiBPawCs8wJQt2s_PIAKRj-HSrmcWeQZo/export?format=csv&gid=797095192 [Done]\n",
      "Downloading https://docs.google.com/spreadsheets/d/1Y3nO7VyU4jDiBPawCs8wJQt2s_PIAKRj-HSrmcWeQZo/export?format=csv&gid=1549289503 [Done]\n",
      "[10/03 13:23:56] Base catalog v2 for pgc64427 already exists (./base_catalogs/base_v2_pgc64427.fits.gz). (1/1)\n"
     ]
    }
   ],
   "source": [
    "idnum = 64427\n",
    "fieldnum = 1\n",
    "\n",
    "saga_object_catalog.build_and_write_to_database('pgc{}'.format(idnum), overwrite=fieldnum>1)"
   ]
  },
  {
   "cell_type": "code",
   "execution_count": 15,
   "metadata": {},
   "outputs": [
    {
     "name": "stdout",
     "output_type": "stream",
     "text": [
      "pgc64427\n",
      "# of flux stars = 616\n",
      "# of sky fibers = 100\n",
      "# of Priority=1 targets = 92\n",
      "# of Priority=2 targets = 75\n",
      "# of Priority=3 targets = 31\n",
      "# of Priority=4 targets = 49\n",
      "# of Priority=5 targets = 3\n",
      "# of Priority=6 targets = 3\n",
      "# of Priority=7 targets = 1\n",
      "# of Priority=8 targets = 8\n",
      "# of Priority=9 targets = 716\n",
      "Object catalog to Gaia offset: (<Angle -0.05738712 arcsec>, <Angle 0.13878442 arcsec>) from 2493 objects (73.6%)\n",
      "Found 348 Gaia guide stars\n",
      "205 Have a brightish neighbor.  Removing them.\n"
     ]
    },
    {
     "data": {
      "text/plain": [
       "1121"
      ]
     },
     "execution_count": 15,
     "metadata": {},
     "output_type": "execute_result"
    }
   ],
   "source": [
    "host = targethosts[targethosts['PGC'] == idnum]\n",
    "assert len(host) == 1\n",
    "host = host[0]\n",
    "\n",
    "hostname = host[host_id_label]\n",
    "print(hostname)\n",
    "tcats[hostname] = tcat = saga_targets.build_target_catalogs(hostname, return_as='list').pop()\n",
    "acats[hostname] = acat = saga.targets.prepare_aat_catalog(tcat, sky_fiber_needed=100)\n",
    "\n",
    "guidestars = get_gaia_guidestars(hostname)\n",
    "writecat = table.vstack([acat, guidestars])\n",
    "writecat['Notes'] = [n.title() for n in writecat['Notes']]\n",
    "len(writecat)"
   ]
  },
  {
   "cell_type": "code",
   "execution_count": 22,
   "metadata": {},
   "outputs": [
    {
     "data": {
      "text/html": [
       "\n",
       "    <table>\n",
       "    <tr><td>6472750671259845248<br><a href=\"http://legacysurvey.org/viewer?ra=304.983039249572&dec=-53.59442682931695\"><img src=\"http://legacysurvey.org/viewer/jpeg-cutout/?ra=304.983&dec=-53.59443&zoom=17&layer=unwise-w1w2&size=120\"></a></td><td>6473545652526720896<br><a href=\"http://legacysurvey.org/viewer?ra=305.47297390568093&dec=-52.863749352451244\"><img src=\"http://legacysurvey.org/viewer/jpeg-cutout/?ra=305.473&dec=-52.86375&zoom=17&layer=unwise-w1w2&size=120\"></a></td><td>6473796062002851328<br><a href=\"http://legacysurvey.org/viewer?ra=304.6190090277304&dec=-52.39231115491203\"><img src=\"http://legacysurvey.org/viewer/jpeg-cutout/?ra=304.619&dec=-52.39231&zoom=17&layer=unwise-w1w2&size=120\"></a></td><td>6473429035574240640<br><a href=\"http://legacysurvey.org/viewer?ra=304.34945803085986&dec=-53.35132231908355\"><img src=\"http://legacysurvey.org/viewer/jpeg-cutout/?ra=304.3495&dec=-53.35132&zoom=17&layer=unwise-w1w2&size=120\"></a></td><td>6473489779295023104<br><a href=\"http://legacysurvey.org/viewer?ra=303.85493392193985&dec=-53.18313472486372\"><img src=\"http://legacysurvey.org/viewer/jpeg-cutout/?ra=303.8549&dec=-53.18313&zoom=17&layer=unwise-w1w2&size=120\"></a></td><td>6473764489700090496<br><a href=\"http://legacysurvey.org/viewer?ra=303.7173735511759&dec=-52.35774589363832\"><img src=\"http://legacysurvey.org/viewer/jpeg-cutout/?ra=303.7174&dec=-52.35775&zoom=17&layer=unwise-w1w2&size=120\"></a></td></tr>\n",
       "<tr><td>6473821660007930112<br><a href=\"http://legacysurvey.org/viewer?ra=304.9678816026785&dec=-52.25557375252795\"><img src=\"http://legacysurvey.org/viewer/jpeg-cutout/?ra=304.9679&dec=-52.25557&zoom=17&layer=unwise-w1w2&size=120\"></a></td><td>6473830941434283904<br><a href=\"http://legacysurvey.org/viewer?ra=305.23155139009174&dec=-51.9968735545249\"><img src=\"http://legacysurvey.org/viewer/jpeg-cutout/?ra=305.2316&dec=-51.99687&zoom=17&layer=unwise-w1w2&size=120\"></a></td><td>6473841043197506816<br><a href=\"http://legacysurvey.org/viewer?ra=304.5423483521753&dec=-52.09184019916043\"><img src=\"http://legacysurvey.org/viewer/jpeg-cutout/?ra=304.5423&dec=-52.09184&zoom=17&layer=unwise-w1w2&size=120\"></a></td><td>6473624198888872448<br><a href=\"http://legacysurvey.org/viewer?ra=305.5183706550726&dec=-52.29123789319106\"><img src=\"http://legacysurvey.org/viewer/jpeg-cutout/?ra=305.5184&dec=-52.29124&zoom=17&layer=unwise-w1w2&size=120\"></a></td><td>6473396565621518336<br><a href=\"http://legacysurvey.org/viewer?ra=303.9650420220342&dec=-53.604833098834774\"><img src=\"http://legacysurvey.org/viewer/jpeg-cutout/?ra=303.965&dec=-53.60483&zoom=17&layer=unwise-w1w2&size=120\"></a></td><td>6473527854182187520<br><a href=\"http://legacysurvey.org/viewer?ra=304.7314107670536&dec=-53.092362682062664\"><img src=\"http://legacysurvey.org/viewer/jpeg-cutout/?ra=304.7314&dec=-53.09236&zoom=17&layer=unwise-w1w2&size=120\"></a></td></tr>\n",
       "<tr><td>6473477139207971328<br><a href=\"http://legacysurvey.org/viewer?ra=304.2853218755697&dec=-53.2793966548431\"><img src=\"http://legacysurvey.org/viewer/jpeg-cutout/?ra=304.2853&dec=-53.2794&zoom=17&layer=unwise-w1w2&size=120\"></a></td><td>6473740540962574720<br><a href=\"http://legacysurvey.org/viewer?ra=302.9633573808996&dec=-52.692697432320834\"><img src=\"http://legacysurvey.org/viewer/jpeg-cutout/?ra=302.9634&dec=-52.6927&zoom=17&layer=unwise-w1w2&size=120\"></a></td><td>6473582383087121664<br><a href=\"http://legacysurvey.org/viewer?ra=304.91210184068393&dec=-52.88196392689711\"><img src=\"http://legacysurvey.org/viewer/jpeg-cutout/?ra=304.9121&dec=-52.88196&zoom=17&layer=unwise-w1w2&size=120\"></a></td><td>6473701577019165440<br><a href=\"http://legacysurvey.org/viewer?ra=303.35228688839425&dec=-52.80448343919886\"><img src=\"http://legacysurvey.org/viewer/jpeg-cutout/?ra=303.3523&dec=-52.80448&zoom=17&layer=unwise-w1w2&size=120\"></a></td><td>6473856397704538368<br><a href=\"http://legacysurvey.org/viewer?ra=304.0071209874788&dec=-52.28142099591392\"><img src=\"http://legacysurvey.org/viewer/jpeg-cutout/?ra=304.0071&dec=-52.28142&zoom=17&layer=unwise-w1w2&size=120\"></a></td><td>6473613375571142656<br><a href=\"http://legacysurvey.org/viewer?ra=304.9631119323776&dec=-52.635260720255964\"><img src=\"http://legacysurvey.org/viewer/jpeg-cutout/?ra=304.9631&dec=-52.63526&zoom=17&layer=unwise-w1w2&size=120\"></a></td></tr>\n",
       "<tr><td>6473425462161419136<br><a href=\"http://legacysurvey.org/viewer?ra=304.63072842455&dec=-53.426416952385786\"><img src=\"http://legacysurvey.org/viewer/jpeg-cutout/?ra=304.6307&dec=-53.42642&zoom=17&layer=unwise-w1w2&size=120\"></a></td><td>6473424809326403584<br><a href=\"http://legacysurvey.org/viewer?ra=304.45903266003995&dec=-53.451811301911164\"><img src=\"http://legacysurvey.org/viewer/jpeg-cutout/?ra=304.459&dec=-53.45181&zoom=17&layer=unwise-w1w2&size=120\"></a></td><td>6473614200204862720<br><a href=\"http://legacysurvey.org/viewer?ra=305.00564864608845&dec=-52.56459473334084\"><img src=\"http://legacysurvey.org/viewer/jpeg-cutout/?ra=305.0056&dec=-52.56459&zoom=17&layer=unwise-w1w2&size=120\"></a></td><td>6473625019225213952<br><a href=\"http://legacysurvey.org/viewer?ra=305.498832886991&dec=-52.26454350126392\"><img src=\"http://legacysurvey.org/viewer/jpeg-cutout/?ra=305.4988&dec=-52.26454&zoom=17&layer=unwise-w1w2&size=120\"></a></td><td>6473424912405613952<br><a href=\"http://legacysurvey.org/viewer?ra=304.52149477594895&dec=-53.435198912524655\"><img src=\"http://legacysurvey.org/viewer/jpeg-cutout/?ra=304.5215&dec=-53.4352&zoom=17&layer=unwise-w1w2&size=120\"></a></td><td>6472657693807885824<br><a href=\"http://legacysurvey.org/viewer?ra=304.888649085605&dec=-53.603301055460044\"><img src=\"http://legacysurvey.org/viewer/jpeg-cutout/?ra=304.8886&dec=-53.6033&zoom=17&layer=unwise-w1w2&size=120\"></a></td></tr>\n",
       "    </table>\n",
       "    "
      ],
      "text/plain": [
       "<IPython.core.display.HTML object>"
      ]
     },
     "execution_count": 22,
     "metadata": {},
     "output_type": "execute_result"
    }
   ],
   "source": [
    "# only need to remove if something really fishy is going on\n",
    "make_decals_viewer_cutouts(guidestars[np.random.permutation(len(guidestars))[:24]], \n",
    "                           survey='unwise-w1w2',ncols=6,namecol='TargetName', zoom=17)"
   ]
  },
  {
   "cell_type": "code",
   "execution_count": 17,
   "metadata": {},
   "outputs": [
    {
     "name": "stdout",
     "output_type": "stream",
     "text": [
      "Copied to clipboard\n"
     ]
    },
    {
     "data": {
      "text/html": [
       "\n",
       "    Paste the coords in \"Enter values\" at  \n",
       "    <a href=\"https://des.ncsa.illinois.edu/easyweb/cutouts\">the DES cutout service</a>,\n",
       "    and change the size to 0.3 arcmin\n",
       "    "
      ],
      "text/plain": [
       "<IPython.core.display.HTML object>"
      ]
     },
     "execution_count": 17,
     "metadata": {},
     "output_type": "execute_result"
    }
   ],
   "source": [
    "make_des_cutouts_file(acat[acat['Notes']=='sky'])"
   ]
  },
  {
   "cell_type": "code",
   "execution_count": 19,
   "metadata": {},
   "outputs": [
    {
     "name": "stdout",
     "output_type": "stream",
     "text": [
      "https://des.ncsa.illinois.edu/easyweb/static/workdir/eteq/82f29aba-9bce-425a-8448-94fb8c86d7b1/list.json\n"
     ]
    },
    {
     "data": {
      "text/html": [
       "\n",
       "    <table>\n",
       "    <tr><td>0<br><a href=\"http://legacysurvey.org/viewer?ra=304.30214011647263&dec=-53.494269779893095\"><img src=\"https://des.ncsa.illinois.edu/easyweb/static/workdir/eteq/82f29aba-9bce-425a-8448-94fb8c86d7b1/DESJ201518.7-523117.7.tif.png\"height=\"128\" width=\"128\"></a></td><td>1<br><a href=\"http://legacysurvey.org/viewer?ra=303.4825532275838&dec=-52.57135103713673\"><img src=\"https://des.ncsa.illinois.edu/easyweb/static/workdir/eteq/82f29aba-9bce-425a-8448-94fb8c86d7b1/DESJ202011.2-525852.8.tif.png\"height=\"128\" width=\"128\"></a></td><td>2<br><a href=\"http://legacysurvey.org/viewer?ra=303.7841485525113&dec=-53.74613515439795\"><img src=\"https://des.ncsa.illinois.edu/easyweb/static/workdir/eteq/82f29aba-9bce-425a-8448-94fb8c86d7b1/DESJ201306.3-525320.8.tif.png\"height=\"128\" width=\"128\"></a></td><td>3<br><a href=\"http://legacysurvey.org/viewer?ra=304.91848126325164&dec=-52.63535405482312\"><img src=\"https://des.ncsa.illinois.edu/easyweb/static/workdir/eteq/82f29aba-9bce-425a-8448-94fb8c86d7b1/DESJ201731.0-534511.5.tif.png\"height=\"128\" width=\"128\"></a></td><td>4<br><a href=\"http://legacysurvey.org/viewer?ra=304.2566364544049&dec=-51.770541737404685\"><img src=\"https://des.ncsa.illinois.edu/easyweb/static/workdir/eteq/82f29aba-9bce-425a-8448-94fb8c86d7b1/DESJ201357.2-525757.2.tif.png\"height=\"128\" width=\"128\"></a></td><td>5<br><a href=\"http://legacysurvey.org/viewer?ra=303.5817276636977&dec=-52.92130924101246\"><img src=\"https://des.ncsa.illinois.edu/easyweb/static/workdir/eteq/82f29aba-9bce-425a-8448-94fb8c86d7b1/DESJ201910.8-532643.0.tif.png\"height=\"128\" width=\"128\"></a></td><td>6<br><a href=\"http://legacysurvey.org/viewer?ra=305.00187925460943&dec=-52.97647910370658\"><img src=\"https://des.ncsa.illinois.edu/easyweb/static/workdir/eteq/82f29aba-9bce-425a-8448-94fb8c86d7b1/DESJ201622.8-520432.6.tif.png\"height=\"128\" width=\"128\"></a></td><td>7<br><a href=\"http://legacysurvey.org/viewer?ra=303.27629490845493&dec=-52.88911932452378\"><img src=\"https://des.ncsa.illinois.edu/easyweb/static/workdir/eteq/82f29aba-9bce-425a-8448-94fb8c86d7b1/DESJ202044.6-525510.7.tif.png\"height=\"128\" width=\"128\"></a></td></tr>\n",
       "<tr><td>8<br><a href=\"http://legacysurvey.org/viewer?ra=305.15325604186074&dec=-52.42523021815362\"><img src=\"https://des.ncsa.illinois.edu/easyweb/static/workdir/eteq/82f29aba-9bce-425a-8448-94fb8c86d7b1/DESJ201846.5-534810.0.tif.png\"height=\"128\" width=\"128\"></a></td><td>9<br><a href=\"http://legacysurvey.org/viewer?ra=304.8429024416196&dec=-53.22031183426838\"><img src=\"https://des.ncsa.illinois.edu/easyweb/static/workdir/eteq/82f29aba-9bce-425a-8448-94fb8c86d7b1/DESJ201438.6-532251.3.tif.png\"height=\"128\" width=\"128\"></a></td><td>10<br><a href=\"http://legacysurvey.org/viewer?ra=303.7959955744887&dec=-53.755287582596715\"><img src=\"https://des.ncsa.illinois.edu/easyweb/static/workdir/eteq/82f29aba-9bce-425a-8448-94fb8c86d7b1/DESJ202014.1-524245.4.tif.png\"height=\"128\" width=\"128\"></a></td><td>11<br><a href=\"http://legacysurvey.org/viewer?ra=304.9848282204726&dec=-53.56798623370719\"><img src=\"https://des.ncsa.illinois.edu/easyweb/static/workdir/eteq/82f29aba-9bce-425a-8448-94fb8c86d7b1/DESJ201545.9-522912.2.tif.png\"height=\"128\" width=\"128\"></a></td><td>12<br><a href=\"http://legacysurvey.org/viewer?ra=303.8120525565407&dec=-53.49616786731948\"><img src=\"https://des.ncsa.illinois.edu/easyweb/static/workdir/eteq/82f29aba-9bce-425a-8448-94fb8c86d7b1/DESJ201930.4-524156.0.tif.png\"height=\"128\" width=\"128\"></a></td><td>13<br><a href=\"http://legacysurvey.org/viewer?ra=304.71973201592704&dec=-52.17549156293581\"><img src=\"https://des.ncsa.illinois.edu/easyweb/static/workdir/eteq/82f29aba-9bce-425a-8448-94fb8c86d7b1/DESJ201952.1-525410.7.tif.png\"height=\"128\" width=\"128\"></a></td><td>14<br><a href=\"http://legacysurvey.org/viewer?ra=304.55979466324254&dec=-53.54706103499791\"><img src=\"https://des.ncsa.illinois.edu/easyweb/static/workdir/eteq/82f29aba-9bce-425a-8448-94fb8c86d7b1/DESJ201427.5-523544.2.tif.png\"height=\"128\" width=\"128\"></a></td><td>15<br><a href=\"http://legacysurvey.org/viewer?ra=304.8329029199564&dec=-52.978256083952296\"><img src=\"https://des.ncsa.illinois.edu/easyweb/static/workdir/eteq/82f29aba-9bce-425a-8448-94fb8c86d7b1/DESJ201732.9-514610.1.tif.png\"height=\"128\" width=\"128\"></a></td></tr>\n",
       "<tr><td>16<br><a href=\"http://legacysurvey.org/viewer?ra=304.13677262169296&dec=-53.8261336221908\"><img src=\"https://des.ncsa.illinois.edu/easyweb/static/workdir/eteq/82f29aba-9bce-425a-8448-94fb8c86d7b1/DESJ201641.7-514433.1.tif.png\"height=\"128\" width=\"128\"></a></td><td>17<br><a href=\"http://legacysurvey.org/viewer?ra=304.20418495601797&dec=-53.2434101086405\"><img src=\"https://des.ncsa.illinois.edu/easyweb/static/workdir/eteq/82f29aba-9bce-425a-8448-94fb8c86d7b1/DESJ201632.8-534934.1.tif.png\"height=\"128\" width=\"128\"></a></td><td>18<br><a href=\"http://legacysurvey.org/viewer?ra=305.20260792550437&dec=-52.95066138969882\"><img src=\"https://des.ncsa.illinois.edu/easyweb/static/workdir/eteq/82f29aba-9bce-425a-8448-94fb8c86d7b1/DESJ201434.5-532113.2.tif.png\"height=\"128\" width=\"128\"></a></td><td>19<br><a href=\"http://legacysurvey.org/viewer?ra=305.18566687230594&dec=-52.91963124366296\"><img src=\"https://des.ncsa.illinois.edu/easyweb/static/workdir/eteq/82f29aba-9bce-425a-8448-94fb8c86d7b1/DESJ201712.5-532939.4.tif.png\"height=\"128\" width=\"128\"></a></td><td>20<br><a href=\"http://legacysurvey.org/viewer?ra=303.72363733190684&dec=-52.79679416209273\"><img src=\"https://des.ncsa.illinois.edu/easyweb/static/workdir/eteq/82f29aba-9bce-425a-8448-94fb8c86d7b1/DESJ202016.5-522653.0.tif.png\"height=\"128\" width=\"128\"></a></td><td>21<br><a href=\"http://legacysurvey.org/viewer?ra=304.8886338815949&dec=-53.55632623384858\"><img src=\"https://des.ncsa.illinois.edu/easyweb/static/workdir/eteq/82f29aba-9bce-425a-8448-94fb8c86d7b1/DESJ201552.7-521844.1.tif.png\"height=\"128\" width=\"128\"></a></td><td>22<br><a href=\"http://legacysurvey.org/viewer?ra=305.0824766392474&dec=-52.68424131671218\"><img src=\"https://des.ncsa.illinois.edu/easyweb/static/workdir/eteq/82f29aba-9bce-425a-8448-94fb8c86d7b1/DESJ202007.1-532200.9.tif.png\"height=\"128\" width=\"128\"></a></td><td>23<br><a href=\"http://legacysurvey.org/viewer?ra=305.0465560291436&dec=-52.9813249468366\"><img src=\"https://des.ncsa.illinois.edu/easyweb/static/workdir/eteq/82f29aba-9bce-425a-8448-94fb8c86d7b1/DESJ201323.7-522516.2.tif.png\"height=\"128\" width=\"128\"></a></td></tr>\n",
       "<tr><td>24<br><a href=\"http://legacysurvey.org/viewer?ra=303.94119033543916&dec=-52.48671788500179\"><img src=\"https://des.ncsa.illinois.edu/easyweb/static/workdir/eteq/82f29aba-9bce-425a-8448-94fb8c86d7b1/DESJ202006.1-525256.6.tif.png\"height=\"128\" width=\"128\"></a></td><td>25<br><a href=\"http://legacysurvey.org/viewer?ra=303.61470441708855&dec=-53.636467619472924\"><img src=\"https://des.ncsa.illinois.edu/easyweb/static/workdir/eteq/82f29aba-9bce-425a-8448-94fb8c86d7b1/DESJ201553.9-520442.6.tif.png\"height=\"128\" width=\"128\"></a></td><td>26<br><a href=\"http://legacysurvey.org/viewer?ra=304.9259706243592&dec=-52.35776446825193\"><img src=\"https://des.ncsa.illinois.edu/easyweb/static/workdir/eteq/82f29aba-9bce-425a-8448-94fb8c86d7b1/DESJ201936.0-530550.6.tif.png\"height=\"128\" width=\"128\"></a></td><td>27<br><a href=\"http://legacysurvey.org/viewer?ra=304.8940459552504&dec=-52.74831510167903\"><img src=\"https://des.ncsa.illinois.edu/easyweb/static/workdir/eteq/82f29aba-9bce-425a-8448-94fb8c86d7b1/DESJ201727.1-514740.4.tif.png\"height=\"128\" width=\"128\"></a></td><td>28<br><a href=\"http://legacysurvey.org/viewer?ra=303.8756453991366&dec=-52.2276390124977\"><img src=\"https://des.ncsa.illinois.edu/easyweb/static/workdir/eteq/82f29aba-9bce-425a-8448-94fb8c86d7b1/DESJ201508.9-520512.7.tif.png\"height=\"128\" width=\"128\"></a></td><td>29<br><a href=\"http://legacysurvey.org/viewer?ra=304.30649668007715&dec=-51.77033187923354\"><img src=\"https://des.ncsa.illinois.edu/easyweb/static/workdir/eteq/82f29aba-9bce-425a-8448-94fb8c86d7b1/DESJ202059.9-530747.1.tif.png\"height=\"128\" width=\"128\"></a></td><td>30<br><a href=\"http://legacysurvey.org/viewer?ra=304.0949913544799&dec=-52.07570522719795\"><img src=\"https://des.ncsa.illinois.edu/easyweb/static/workdir/eteq/82f29aba-9bce-425a-8448-94fb8c86d7b1/DESJ202000.5-525835.3.tif.png\"height=\"128\" width=\"128\"></a></td><td>31<br><a href=\"http://legacysurvey.org/viewer?ra=303.61442683939055&dec=-52.59561196169654\"><img src=\"https://des.ncsa.illinois.edu/easyweb/static/workdir/eteq/82f29aba-9bce-425a-8448-94fb8c86d7b1/DESJ201801.7-514652.4.tif.png\"height=\"128\" width=\"128\"></a></td></tr>\n",
       "<tr><td>32<br><a href=\"http://legacysurvey.org/viewer?ra=303.6438281358682&dec=-52.24457057363937\"><img src=\"https://des.ncsa.illinois.edu/easyweb/static/workdir/eteq/82f29aba-9bce-425a-8448-94fb8c86d7b1/DESJ201506.4-525901.4.tif.png\"height=\"128\" width=\"128\"></a></td><td>33<br><a href=\"http://legacysurvey.org/viewer?ra=304.8357479022243&dec=-52.959602924372305\"><img src=\"https://des.ncsa.illinois.edu/easyweb/static/workdir/eteq/82f29aba-9bce-425a-8448-94fb8c86d7b1/DESJ201825.6-522550.5.tif.png\"height=\"128\" width=\"128\"></a></td><td>34<br><a href=\"http://legacysurvey.org/viewer?ra=304.146850790134&dec=-51.76239684753564\"><img src=\"https://des.ncsa.illinois.edu/easyweb/static/workdir/eteq/82f29aba-9bce-425a-8448-94fb8c86d7b1/DESJ201701.6-514613.9.tif.png\"height=\"128\" width=\"128\"></a></td><td>35<br><a href=\"http://legacysurvey.org/viewer?ra=304.60657589800496&dec=-52.43069314552602\"><img src=\"https://des.ncsa.illinois.edu/easyweb/static/workdir/eteq/82f29aba-9bce-425a-8448-94fb8c86d7b1/DESJ201350.6-531504.9.tif.png\"height=\"128\" width=\"128\"></a></td><td>36<br><a href=\"http://legacysurvey.org/viewer?ra=303.78688886910993&dec=-52.08685804680689\"><img src=\"https://des.ncsa.illinois.edu/easyweb/static/workdir/eteq/82f29aba-9bce-425a-8448-94fb8c86d7b1/DESJ201823.1-534946.7.tif.png\"height=\"128\" width=\"128\"></a></td><td>37<br><a href=\"http://legacysurvey.org/viewer?ra=304.59925813548864&dec=-53.4722583124881\"><img src=\"https://des.ncsa.illinois.edu/easyweb/static/workdir/eteq/82f29aba-9bce-425a-8448-94fb8c86d7b1/DESJ201713.6-514613.2.tif.png\"height=\"128\" width=\"128\"></a></td><td>38<br><a href=\"http://legacysurvey.org/viewer?ra=303.94249766946643&dec=-52.52476547009684\"><img src=\"https://des.ncsa.illinois.edu/easyweb/static/workdir/eteq/82f29aba-9bce-425a-8448-94fb8c86d7b1/DESJ201920.6-525734.6.tif.png\"height=\"128\" width=\"128\"></a></td><td>39<br><a href=\"http://legacysurvey.org/viewer?ra=304.7622671382898&dec=-52.710860811400615\"><img src=\"https://des.ncsa.illinois.edu/easyweb/static/workdir/eteq/82f29aba-9bce-425a-8448-94fb8c86d7b1/DESJ202004.6-515711.4.tif.png\"height=\"128\" width=\"128\"></a></td></tr>\n",
       "<tr><td>40<br><a href=\"http://legacysurvey.org/viewer?ra=304.25680098193584&dec=-52.11847409972386\"><img src=\"https://des.ncsa.illinois.edu/easyweb/static/workdir/eteq/82f29aba-9bce-425a-8448-94fb8c86d7b1/DESJ201940.4-523807.3.tif.png\"height=\"128\" width=\"128\"></a></td><td>41<br><a href=\"http://legacysurvey.org/viewer?ra=305.02716518858284&dec=-52.096102599520876\"><img src=\"https://des.ncsa.illinois.edu/easyweb/static/workdir/eteq/82f29aba-9bce-425a-8448-94fb8c86d7b1/DESJ201823.8-532820.1.tif.png\"height=\"128\" width=\"128\"></a></td><td>42<br><a href=\"http://legacysurvey.org/viewer?ra=304.37927485287605&dec=-53.753188428400414\"><img src=\"https://des.ncsa.illinois.edu/easyweb/static/workdir/eteq/82f29aba-9bce-425a-8448-94fb8c86d7b1/DESJ201915.8-530733.0.tif.png\"height=\"128\" width=\"128\"></a></td><td>43<br><a href=\"http://legacysurvey.org/viewer?ra=304.7406481353573&dec=-52.96958803570793\"><img src=\"https://des.ncsa.illinois.edu/easyweb/static/workdir/eteq/82f29aba-9bce-425a-8448-94fb8c86d7b1/DESJ201635.2-514544.6.tif.png\"height=\"128\" width=\"128\"></a></td><td>44<br><a href=\"http://legacysurvey.org/viewer?ra=304.7950471808403&dec=-53.44526775893585\"><img src=\"https://des.ncsa.illinois.edu/easyweb/static/workdir/eteq/82f29aba-9bce-425a-8448-94fb8c86d7b1/DESJ201514.9-532946.2.tif.png\"height=\"128\" width=\"128\"></a></td><td>45<br><a href=\"http://legacysurvey.org/viewer?ra=303.58536351050395&dec=-52.60112487503152\"><img src=\"https://des.ncsa.illinois.edu/easyweb/static/workdir/eteq/82f29aba-9bce-425a-8448-94fb8c86d7b1/DESJ201819.8-522539.8.tif.png\"height=\"128\" width=\"128\"></a></td><td>46<br><a href=\"http://legacysurvey.org/viewer?ra=305.2494331200554&dec=-53.12974605466667\"><img src=\"https://des.ncsa.illinois.edu/easyweb/static/workdir/eteq/82f29aba-9bce-425a-8448-94fb8c86d7b1/DESJ201423.9-523733.2.tif.png\"height=\"128\" width=\"128\"></a></td><td>47<br><a href=\"http://legacysurvey.org/viewer?ra=304.73391399612444&dec=-52.599363013213015\"><img src=\"https://des.ncsa.illinois.edu/easyweb/static/workdir/eteq/82f29aba-9bce-425a-8448-94fb8c86d7b1/DESJ201355.8-523416.9.tif.png\"height=\"128\" width=\"128\"></a></td></tr>\n",
       "<tr><td>48<br><a href=\"http://legacysurvey.org/viewer?ra=303.5994944932742&dec=-52.62590143254639\"><img src=\"https://des.ncsa.illinois.edu/easyweb/static/workdir/eteq/82f29aba-9bce-425a-8448-94fb8c86d7b1/DESJ201857.8-525810.5.tif.png\"height=\"128\" width=\"128\"></a></td><td>49<br><a href=\"http://legacysurvey.org/viewer?ra=304.8999855740615&dec=-53.097385194274096\"><img src=\"https://des.ncsa.illinois.edu/easyweb/static/workdir/eteq/82f29aba-9bce-425a-8448-94fb8c86d7b1/DESJ201943.9-530809.5.tif.png\"height=\"128\" width=\"128\"></a></td><td>50<br><a href=\"http://legacysurvey.org/viewer?ra=303.4884534091904&dec=-52.965899557550486\"><img src=\"https://des.ncsa.illinois.edu/easyweb/static/workdir/eteq/82f29aba-9bce-425a-8448-94fb8c86d7b1/DESJ201420.5-523604.0.tif.png\"height=\"128\" width=\"128\"></a></td><td>51<br><a href=\"http://legacysurvey.org/viewer?ra=303.46067278037907&dec=-53.2513468322427\"><img src=\"https://des.ncsa.illinois.edu/easyweb/static/workdir/eteq/82f29aba-9bce-425a-8448-94fb8c86d7b1/DESJ201508.2-534446.1.tif.png\"height=\"128\" width=\"128\"></a></td><td>52<br><a href=\"http://legacysurvey.org/viewer?ra=303.9624419883995&dec=-53.79709471431837\"><img src=\"https://des.ncsa.illinois.edu/easyweb/static/workdir/eteq/82f29aba-9bce-425a-8448-94fb8c86d7b1/DESJ201828.1-533016.9.tif.png\"height=\"128\" width=\"128\"></a></td><td>53<br><a href=\"http://legacysurvey.org/viewer?ra=303.8928456891444&dec=-53.35376742415845\"><img src=\"https://des.ncsa.illinois.edu/easyweb/static/workdir/eteq/82f29aba-9bce-425a-8448-94fb8c86d7b1/DESJ201511.0-534519.0.tif.png\"height=\"128\" width=\"128\"></a></td><td>54<br><a href=\"http://legacysurvey.org/viewer?ra=304.76495352834377&dec=-53.62104879075003\"><img src=\"https://des.ncsa.illinois.edu/easyweb/static/workdir/eteq/82f29aba-9bce-425a-8448-94fb8c86d7b1/DESJ201546.2-523129.2.tif.png\"height=\"128\" width=\"128\"></a></td><td>55<br><a href=\"http://legacysurvey.org/viewer?ra=303.6899255069812&dec=-52.44778438335233\"><img src=\"https://des.ncsa.illinois.edu/easyweb/static/workdir/eteq/82f29aba-9bce-425a-8448-94fb8c86d7b1/DESJ201849.1-530857.1.tif.png\"height=\"128\" width=\"128\"></a></td></tr>\n",
       "<tr><td>56<br><a href=\"http://legacysurvey.org/viewer?ra=303.83157218293775&dec=-53.440644158969704\"><img src=\"https://des.ncsa.illinois.edu/easyweb/static/workdir/eteq/82f29aba-9bce-425a-8448-94fb8c86d7b1/DESJ201931.3-524413.3.tif.png\"height=\"128\" width=\"128\"></a></td><td>57<br><a href=\"http://legacysurvey.org/viewer?ra=303.29244066451446&dec=-53.05085493170567\"><img src=\"https://des.ncsa.illinois.edu/easyweb/static/workdir/eteq/82f29aba-9bce-425a-8448-94fb8c86d7b1/DESJ201514.3-515105.8.tif.png\"height=\"128\" width=\"128\"></a></td><td>58<br><a href=\"http://legacysurvey.org/viewer?ra=304.8767628331842&dec=-52.698890744204114\"><img src=\"https://des.ncsa.illinois.edu/easyweb/static/workdir/eteq/82f29aba-9bce-425a-8448-94fb8c86d7b1/DESJ202006.5-520546.0.tif.png\"height=\"128\" width=\"128\"></a></td><td>59<br><a href=\"http://legacysurvey.org/viewer?ra=304.80165726457443&dec=-52.28249304959143\"><img src=\"https://des.ncsa.illinois.edu/easyweb/static/workdir/eteq/82f29aba-9bce-425a-8448-94fb8c86d7b1/DESJ201649.0-531436.3.tif.png\"height=\"128\" width=\"128\"></a></td><td>60<br><a href=\"http://legacysurvey.org/viewer?ra=304.5070914153874&dec=-51.781216361524905\"><img src=\"https://des.ncsa.illinois.edu/easyweb/static/workdir/eteq/82f29aba-9bce-425a-8448-94fb8c86d7b1/DESJ201654.8-515538.1.tif.png\"height=\"128\" width=\"128\"></a></td><td>61<br><a href=\"http://legacysurvey.org/viewer?ra=304.59612530978836&dec=-53.82964602403524\"><img src=\"https://des.ncsa.illinois.edu/easyweb/static/workdir/eteq/82f29aba-9bce-425a-8448-94fb8c86d7b1/DESJ201659.1-534905.2.tif.png\"height=\"128\" width=\"128\"></a></td><td>62<br><a href=\"http://legacysurvey.org/viewer?ra=304.96703140743114&dec=-52.902978765827946\"><img src=\"https://des.ncsa.illinois.edu/easyweb/static/workdir/eteq/82f29aba-9bce-425a-8448-94fb8c86d7b1/DESJ202118.9-531152.6.tif.png\"height=\"128\" width=\"128\"></a></td><td>63<br><a href=\"http://legacysurvey.org/viewer?ra=304.173927203512&dec=-51.742541669882776\"><img src=\"https://des.ncsa.illinois.edu/easyweb/static/workdir/eteq/82f29aba-9bce-425a-8448-94fb8c86d7b1/DESJ201434.5-521440.5.tif.png\"height=\"128\" width=\"128\"></a></td></tr>\n",
       "<tr><td>64<br><a href=\"http://legacysurvey.org/viewer?ra=304.3628822735594&dec=-51.7945456083938\"><img src=\"https://des.ncsa.illinois.edu/easyweb/static/workdir/eteq/82f29aba-9bce-425a-8448-94fb8c86d7b1/DESJ201910.9-520559.2.tif.png\"height=\"128\" width=\"128\"></a></td><td>65<br><a href=\"http://legacysurvey.org/viewer?ra=304.8461180321469&dec=-53.19306017055098\"><img src=\"https://des.ncsa.illinois.edu/easyweb/static/workdir/eteq/82f29aba-9bce-425a-8448-94fb8c86d7b1/DESJ201545.7-520326.1.tif.png\"height=\"128\" width=\"128\"></a></td><td>66<br><a href=\"http://legacysurvey.org/viewer?ra=303.6609877954331&dec=-53.38091309887406\"><img src=\"https://des.ncsa.illinois.edu/easyweb/static/workdir/eteq/82f29aba-9bce-425a-8448-94fb8c86d7b1/DESJ201933.3-533322.8.tif.png\"height=\"128\" width=\"128\"></a></td><td>67<br><a href=\"http://legacysurvey.org/viewer?ra=305.0297879835721&dec=-53.36691281247145\"><img src=\"https://des.ncsa.illinois.edu/easyweb/static/workdir/eteq/82f29aba-9bce-425a-8448-94fb8c86d7b1/DESJ201427.5-533811.3.tif.png\"height=\"128\" width=\"128\"></a></td><td>68<br><a href=\"http://legacysurvey.org/viewer?ra=303.7768352478103&dec=-52.983730802334904\"><img src=\"https://des.ncsa.illinois.edu/easyweb/static/workdir/eteq/82f29aba-9bce-425a-8448-94fb8c86d7b1/DESJ201923.1-531135.0.tif.png\"height=\"128\" width=\"128\"></a></td><td>69<br><a href=\"http://legacysurvey.org/viewer?ra=303.6437047353316&dec=-53.353678450887024\"><img src=\"https://des.ncsa.illinois.edu/easyweb/static/workdir/eteq/82f29aba-9bce-425a-8448-94fb8c86d7b1/DESJ202048.6-525702.4.tif.png\"height=\"128\" width=\"128\"></a></td><td>70<br><a href=\"http://legacysurvey.org/viewer?ra=303.6867587808496&dec=-53.169825010362395\"><img src=\"https://des.ncsa.illinois.edu/easyweb/static/workdir/eteq/82f29aba-9bce-425a-8448-94fb8c86d7b1/DESJ201411.5-532535.3.tif.png\"height=\"128\" width=\"128\"></a></td><td>71<br><a href=\"http://legacysurvey.org/viewer?ra=305.05869264369625&dec=-52.712607456513034\"><img src=\"https://des.ncsa.illinois.edu/easyweb/static/workdir/eteq/82f29aba-9bce-425a-8448-94fb8c86d7b1/DESJ201902.9-524239.1.tif.png\"height=\"128\" width=\"128\"></a></td></tr>\n",
       "<tr><td>72<br><a href=\"http://legacysurvey.org/viewer?ra=304.5233834625585&dec=-51.72212123504737\"><img src=\"https://des.ncsa.illinois.edu/easyweb/static/workdir/eteq/82f29aba-9bce-425a-8448-94fb8c86d7b1/DESJ201852.7-521031.8.tif.png\"height=\"128\" width=\"128\"></a></td><td>73<br><a href=\"http://legacysurvey.org/viewer?ra=304.9307072009913&dec=-53.332548633973595\"><img src=\"https://des.ncsa.illinois.edu/easyweb/static/workdir/eteq/82f29aba-9bce-425a-8448-94fb8c86d7b1/DESJ201856.1-523557.7.tif.png\"height=\"128\" width=\"128\"></a></td><td>74<br><a href=\"http://legacysurvey.org/viewer?ra=304.228221840641&dec=-51.92725181016675\"><img src=\"https://des.ncsa.illinois.edu/easyweb/static/workdir/eteq/82f29aba-9bce-425a-8448-94fb8c86d7b1/DESJ201551.0-534749.5.tif.png\"height=\"128\" width=\"128\"></a></td><td>75<br><a href=\"http://legacysurvey.org/viewer?ra=304.81572344110805&dec=-53.12583853337566\"><img src=\"https://des.ncsa.illinois.edu/easyweb/static/workdir/eteq/82f29aba-9bce-425a-8448-94fb8c86d7b1/DESJ201701.6-520706.5.tif.png\"height=\"128\" width=\"128\"></a></td><td>76<br><a href=\"http://legacysurvey.org/viewer?ra=303.8280642994126&dec=-52.521590613237606\"><img src=\"https://des.ncsa.illinois.edu/easyweb/static/workdir/eteq/82f29aba-9bce-425a-8448-94fb8c86d7b1/DESJ201943.4-531957.2.tif.png\"height=\"128\" width=\"128\"></a></td><td>77<br><a href=\"http://legacysurvey.org/viewer?ra=304.8413348137665&dec=-52.80622441491046\"><img src=\"https://des.ncsa.illinois.edu/easyweb/static/workdir/eteq/82f29aba-9bce-425a-8448-94fb8c86d7b1/DESJ201419.6-525516.7.tif.png\"height=\"128\" width=\"128\"></a></td><td>78<br><a href=\"http://legacysurvey.org/viewer?ra=305.0190619208819&dec=-51.95318462436078\"><img src=\"https://des.ncsa.illinois.edu/easyweb/static/workdir/eteq/82f29aba-9bce-425a-8448-94fb8c86d7b1/DESJ201519.6-532626.3.tif.png\"height=\"128\" width=\"128\"></a></td><td>79<br><a href=\"http://legacysurvey.org/viewer?ra=304.38717750034414&dec=-51.76946870064362\"><img src=\"https://des.ncsa.illinois.edu/easyweb/static/workdir/eteq/82f29aba-9bce-425a-8448-94fb8c86d7b1/DESJ201922.2-523712.7.tif.png\"height=\"128\" width=\"128\"></a></td></tr>\n",
       "<tr><td>80<br><a href=\"http://legacysurvey.org/viewer?ra=304.8426137887938&dec=-52.62018594430926\"><img src=\"https://des.ncsa.illinois.edu/easyweb/static/workdir/eteq/82f29aba-9bce-425a-8448-94fb8c86d7b1/DESJ201956.4-533404.8.tif.png\"height=\"128\" width=\"128\"></a></td><td>81<br><a href=\"http://legacysurvey.org/viewer?ra=303.8096485185797&dec=-51.85161981724454\"><img src=\"https://des.ncsa.illinois.edu/easyweb/static/workdir/eteq/82f29aba-9bce-425a-8448-94fb8c86d7b1/DESJ201903.6-533715.8.tif.png\"height=\"128\" width=\"128\"></a></td><td>82<br><a href=\"http://legacysurvey.org/viewer?ra=303.3488324647714&dec=-52.42115633561722\"><img src=\"https://des.ncsa.illinois.edu/easyweb/static/workdir/eteq/82f29aba-9bce-425a-8448-94fb8c86d7b1/DESJ202019.8-524103.3.tif.png\"height=\"128\" width=\"128\"></a></td><td>83<br><a href=\"http://legacysurvey.org/viewer?ra=303.54782644470777&dec=-53.426458466954614\"><img src=\"https://des.ncsa.illinois.edu/easyweb/static/workdir/eteq/82f29aba-9bce-425a-8448-94fb8c86d7b1/DESJ201934.6-524454.0.tif.png\"height=\"128\" width=\"128\"></a></td><td>84<br><a href=\"http://legacysurvey.org/viewer?ra=305.06876092682154&dec=-52.44805346728084\"><img src=\"https://des.ncsa.illinois.edu/easyweb/static/workdir/eteq/82f29aba-9bce-425a-8448-94fb8c86d7b1/DESJ201310.2-530303.1.tif.png\"height=\"128\" width=\"128\"></a></td><td>85<br><a href=\"http://legacysurvey.org/viewer?ra=304.2272236469964&dec=-53.45584635520284\"><img src=\"https://des.ncsa.illinois.edu/easyweb/static/workdir/eteq/82f29aba-9bce-425a-8448-94fb8c86d7b1/DESJ201805.6-514319.6.tif.png\"height=\"128\" width=\"128\"></a></td><td>86<br><a href=\"http://legacysurvey.org/viewer?ra=303.9745819963244&dec=-52.07851454523673\"><img src=\"https://des.ncsa.illinois.edu/easyweb/static/workdir/eteq/82f29aba-9bce-425a-8448-94fb8c86d7b1/DESJ201942.2-522127.9.tif.png\"height=\"128\" width=\"128\"></a></td><td>87<br><a href=\"http://legacysurvey.org/viewer?ra=304.93298462602786&dec=-53.13596754954492\"><img src=\"https://des.ncsa.illinois.edu/easyweb/static/workdir/eteq/82f29aba-9bce-425a-8448-94fb8c86d7b1/DESJ201814.3-533249.4.tif.png\"height=\"128\" width=\"128\"></a></td></tr>\n",
       "<tr><td>88<br><a href=\"http://legacysurvey.org/viewer?ra=304.8802973123191&dec=-52.737036709244926\"><img src=\"https://des.ncsa.illinois.edu/easyweb/static/workdir/eteq/82f29aba-9bce-425a-8448-94fb8c86d7b1/DESJ201912.4-521657.0.tif.png\"height=\"128\" width=\"128\"></a></td><td>89<br><a href=\"http://legacysurvey.org/viewer?ra=304.6171950648398&dec=-53.50470027267606\"><img src=\"https://des.ncsa.illinois.edu/easyweb/static/workdir/eteq/82f29aba-9bce-425a-8448-94fb8c86d7b1/DESJ201453.7-524748.4.tif.png\"height=\"128\" width=\"128\"></a></td><td>90<br><a href=\"http://legacysurvey.org/viewer?ra=305.3288058374209&dec=-53.197935545934676\"><img src=\"https://des.ncsa.illinois.edu/easyweb/static/workdir/eteq/82f29aba-9bce-425a-8448-94fb8c86d7b1/DESJ201720.4-514242.9.tif.png\"height=\"128\" width=\"128\"></a></td><td>91<br><a href=\"http://legacysurvey.org/viewer?ra=303.94054020322443&dec=-52.05723534683804\"><img src=\"https://des.ncsa.illinois.edu/easyweb/static/workdir/eteq/82f29aba-9bce-425a-8448-94fb8c86d7b1/DESJ201654.5-532721.1.tif.png\"height=\"128\" width=\"128\"></a></td><td>92<br><a href=\"http://legacysurvey.org/viewer?ra=304.3349778897329&dec=-51.71191510585584\"><img src=\"https://des.ncsa.illinois.edu/easyweb/static/workdir/eteq/82f29aba-9bce-425a-8448-94fb8c86d7b1/DESJ201530.2-521339.5.tif.png\"height=\"128\" width=\"128\"></a></td><td>93<br><a href=\"http://legacysurvey.org/viewer?ra=305.025557957715&dec=-52.88239786298478\"><img src=\"https://des.ncsa.illinois.edu/easyweb/static/workdir/eteq/82f29aba-9bce-425a-8448-94fb8c86d7b1/DESJ201919.9-525841.7.tif.png\"height=\"128\" width=\"128\"></a></td><td>94<br><a href=\"http://legacysurvey.org/viewer?ra=304.24644691646137&dec=-53.81811469871612\"><img src=\"https://des.ncsa.illinois.edu/easyweb/static/workdir/eteq/82f29aba-9bce-425a-8448-94fb8c86d7b1/DESJ201445.6-522652.0.tif.png\"height=\"128\" width=\"128\"></a></td><td>95<br><a href=\"http://legacysurvey.org/viewer?ra=304.7046073747812&dec=-53.14918732229522\"><img src=\"https://des.ncsa.illinois.edu/easyweb/static/workdir/eteq/82f29aba-9bce-425a-8448-94fb8c86d7b1/DESJ201921.9-524822.4.tif.png\"height=\"128\" width=\"128\"></a></td></tr>\n",
       "<tr><td>96<br><a href=\"http://legacysurvey.org/viewer?ra=304.79556390293664&dec=-52.09977603404527\"><img src=\"https://des.ncsa.illinois.edu/easyweb/static/workdir/eteq/82f29aba-9bce-425a-8448-94fb8c86d7b1/DESJ201922.3-531313.1.tif.png\"height=\"128\" width=\"128\"></a></td><td>97<br><a href=\"http://legacysurvey.org/viewer?ra=304.58262529366345&dec=-52.42773247379364\"><img src=\"https://des.ncsa.illinois.edu/easyweb/static/workdir/eteq/82f29aba-9bce-425a-8448-94fb8c86d7b1/DESJ201444.8-531011.4.tif.png\"height=\"128\" width=\"128\"></a></td><td>98<br><a href=\"http://legacysurvey.org/viewer?ra=304.69384241609214&dec=-53.80278412162769\"><img src=\"https://des.ncsa.illinois.edu/easyweb/static/workdir/eteq/82f29aba-9bce-425a-8448-94fb8c86d7b1/DESJ201534.3-532113.6.tif.png\"height=\"128\" width=\"128\"></a></td><td>99<br><a href=\"http://legacysurvey.org/viewer?ra=303.9697031503093&dec=-52.312261383042056\"><img src=\"https://des.ncsa.illinois.edu/easyweb/static/workdir/eteq/82f29aba-9bce-425a-8448-94fb8c86d7b1/DESJ202036.8-522530.8.tif.png\"height=\"128\" width=\"128\"></a></td><td></td><td></td><td></td><td></td></tr>\n",
       "    </table>\n",
       "    "
      ],
      "text/plain": [
       "<IPython.core.display.HTML object>"
      ]
     },
     "execution_count": 19,
     "metadata": {},
     "output_type": "execute_result"
    }
   ],
   "source": [
    "show_des_cutouts(acat[acat['Notes']=='sky'], '82f29aba-9bce-425a-8448-94fb8c86d7b1', ncols=8, namecol='TargetName')"
   ]
  },
  {
   "cell_type": "code",
   "execution_count": 20,
   "metadata": {},
   "outputs": [
    {
     "data": {
      "text/plain": [
       "63"
      ]
     },
     "execution_count": 20,
     "metadata": {},
     "output_type": "execute_result"
    }
   ],
   "source": [
    "skys_to_rem = [int(i) for i in '1 3 4 8 11 12 13 15 17 23 24 28 29 31 32 34 39 40 42 48 50 55 56 60 61 73 74 75 80 82 83 85 87 88 90 93 94'.split()]\n",
    "writecat.remove_rows((writecat['Notes']=='Sky')&(np.in1d(writecat['TargetName'], skys_to_rem)))\n",
    "np.sum((writecat['Notes']=='Sky'))"
   ]
  },
  {
   "cell_type": "code",
   "execution_count": 25,
   "metadata": {},
   "outputs": [
    {
     "name": "stdout",
     "output_type": "stream",
     "text": [
      "Nflux: 5 Nguide: 100 NSky 63\n",
      "Targets in each priority: {1: 92, 2: 75, 3: 31, 4: 49, 5: 3, 6: 3, 7: 1, 8: 8}\n",
      "Total: 430\n",
      "Writing aat_targets_oct2018/pgc64427_1.fld\n"
     ]
    },
    {
     "data": {
      "text/plain": [
       "262"
      ]
     },
     "execution_count": 25,
     "metadata": {},
     "output_type": "execute_result"
    }
   ],
   "source": [
    "subsampledcat = subsample_catalog(writecat, {1:np.inf}, maxflux=5, maxguides=100)\n",
    "\n",
    "fldfn = 'aat_targets_oct2018/{}_{}.fld'.format(hostname, fieldnum)\n",
    "print('Writing', fldfn)\n",
    "write_fld_file(subsampledcat, host, obs_start_date, fldfn, suffix='_{}'.format(fieldnum))\n",
    "np.sum(subsampledcat['Notes'] == 'Targets')"
   ]
  },
  {
   "cell_type": "code",
   "execution_count": 27,
   "metadata": {},
   "outputs": [
    {
     "name": "stdout",
     "output_type": "stream",
     "text": [
      "pgc64427_1.fld                                100%   24KB  23.8KB/s   00:00    \n"
     ]
    }
   ],
   "source": [
    "!scp $fldfn visitor8@aatlxh:~/oct03/"
   ]
  },
  {
   "cell_type": "markdown",
   "metadata": {},
   "source": [
    "## pgc67663"
   ]
  },
  {
   "cell_type": "code",
   "execution_count": 105,
   "metadata": {},
   "outputs": [
    {
     "name": "stdout",
     "output_type": "stream",
     "text": [
      "[10/03 17:13:42] [WARNING] Not found: SDSS catalog for pgc67663.\n",
      "[10/03 17:13:43] [WARNING] Not found: DECALS catalog for pgc67663.\n",
      "[10/03 17:13:43] Use DES to build base catalog v2 for pgc67663 (1/1)\n"
     ]
    },
    {
     "name": "stderr",
     "output_type": "stream",
     "text": [
      "WARNING:root:No kcorrect module. Stellar mass not calculated!\n"
     ]
    },
    {
     "name": "stdout",
     "output_type": "stream",
     "text": [
      "[10/03 17:14:06] Write base catalog to ./base_catalogs/base_v2_pgc67663.fits.gz\n"
     ]
    }
   ],
   "source": [
    "idnum = 67663\n",
    "fieldnum = 1\n",
    "\n",
    "saga_object_catalog.build_and_write_to_database('pgc{}'.format(idnum), overwrite=True)"
   ]
  },
  {
   "cell_type": "code",
   "execution_count": 108,
   "metadata": {},
   "outputs": [
    {
     "name": "stdout",
     "output_type": "stream",
     "text": [
      "pgc67663\n",
      "21h56m09.6s -49d31m19.2s\n",
      "# of flux stars = 209\n",
      "# of sky fibers = 100\n",
      "# of Priority=1 targets = 558\n",
      "# of Priority=2 targets = 82\n",
      "# of Priority=3 targets = 22\n",
      "# of Priority=4 targets = 50\n",
      "# of Priority=5 targets = 138\n",
      "# of Priority=6 targets = 76\n",
      "# of Priority=7 targets = 7\n",
      "# of Priority=8 targets = 11\n",
      "# of Priority=9 targets = 309\n",
      "Object catalog to Gaia offset: (<Angle -0.12399641 arcsec>, <Angle 0.14305041 arcsec>) from 1117 objects (22.2%)\n",
      "Found 187 Gaia guide stars\n",
      "63 Have a brightish neighbor.  Removing them.\n"
     ]
    },
    {
     "data": {
      "text/plain": [
       "1377"
      ]
     },
     "execution_count": 108,
     "metadata": {},
     "output_type": "execute_result"
    }
   ],
   "source": [
    "host = targethosts[targethosts['PGC'] == idnum]\n",
    "assert len(host) == 1\n",
    "host = host[0]\n",
    "\n",
    "hostname = host[host_id_label]\n",
    "print(hostname)\n",
    "print(SkyCoord(host['RA'], host['Dec'], unit=u.deg).to_string('hmsdms'))\n",
    "\n",
    "tcats[hostname] = tcat = saga_targets.build_target_catalogs(hostname, return_as='list').pop()\n",
    "acats[hostname] = acat = saga.targets.prepare_aat_catalog(tcat, sky_fiber_needed=100)\n",
    "\n",
    "guidestars = get_gaia_guidestars(hostname)\n",
    "writecat = table.vstack([acat, guidestars])\n",
    "writecat['Notes'] = [n.title() for n in writecat['Notes']]\n",
    "len(writecat)"
   ]
  },
  {
   "cell_type": "code",
   "execution_count": 47,
   "metadata": {},
   "outputs": [
    {
     "data": {
      "text/html": [
       "\n",
       "    <table>\n",
       "    <tr><td>6560619925403096960<br><a href=\"http://legacysurvey.org/viewer?ra=329.9096820576473&dec=-49.63565131153332\"><img src=\"http://legacysurvey.org/viewer/jpeg-cutout/?ra=329.9097&dec=-49.63565&zoom=17&layer=unwise-w1w2&size=120\"></a></td><td>6559378752870600960<br><a href=\"http://legacysurvey.org/viewer?ra=328.22795938671777&dec=-49.25085952609552\"><img src=\"http://legacysurvey.org/viewer/jpeg-cutout/?ra=328.228&dec=-49.25086&zoom=17&layer=unwise-w1w2&size=120\"></a></td><td>6560672908119653632<br><a href=\"http://legacysurvey.org/viewer?ra=329.88850088764735&dec=-49.038294758583504\"><img src=\"http://legacysurvey.org/viewer/jpeg-cutout/?ra=329.8885&dec=-49.03829&zoom=17&layer=unwise-w1w2&size=120\"></a></td><td>6559378581071910784<br><a href=\"http://legacysurvey.org/viewer?ra=328.19641200335747&dec=-49.29272314065161\"><img src=\"http://legacysurvey.org/viewer/jpeg-cutout/?ra=328.1964&dec=-49.29272&zoom=17&layer=unwise-w1w2&size=120\"></a></td><td>6559166409687563520<br><a href=\"http://legacysurvey.org/viewer?ra=328.4582503195162&dec=-49.60557749279771\"><img src=\"http://legacysurvey.org/viewer/jpeg-cutout/?ra=328.4583&dec=-49.60558&zoom=17&layer=unwise-w1w2&size=120\"></a></td><td>6559099232102507648<br><a href=\"http://legacysurvey.org/viewer?ra=329.3634693082186&dec=-49.97907295679887\"><img src=\"http://legacysurvey.org/viewer/jpeg-cutout/?ra=329.3635&dec=-49.97907&zoom=17&layer=unwise-w1w2&size=120\"></a></td></tr>\n",
       "<tr><td>6559195203148360448<br><a href=\"http://legacysurvey.org/viewer?ra=328.7978792235268&dec=-49.40740093446599\"><img src=\"http://legacysurvey.org/viewer/jpeg-cutout/?ra=328.7979&dec=-49.4074&zoom=17&layer=unwise-w1w2&size=120\"></a></td><td>6560624155947819392<br><a href=\"http://legacysurvey.org/viewer?ra=329.8831303697471&dec=-49.47872963570131\"><img src=\"http://legacysurvey.org/viewer/jpeg-cutout/?ra=329.8831&dec=-49.47873&zoom=17&layer=unwise-w1w2&size=120\"></a></td><td>6559403354443336704<br><a href=\"http://legacysurvey.org/viewer?ra=328.7239261197302&dec=-48.84259233259383\"><img src=\"http://legacysurvey.org/viewer/jpeg-cutout/?ra=328.7239&dec=-48.84259&zoom=17&layer=unwise-w1w2&size=120\"></a></td><td>6559434278207895680<br><a href=\"http://legacysurvey.org/viewer?ra=328.0622835126551&dec=-48.909008627751284\"><img src=\"http://legacysurvey.org/viewer/jpeg-cutout/?ra=328.0623&dec=-48.90901&zoom=17&layer=unwise-w1w2&size=120\"></a></td><td>6559186677636635776<br><a href=\"http://legacysurvey.org/viewer?ra=329.2837237881401&dec=-49.3957335461431\"><img src=\"http://legacysurvey.org/viewer/jpeg-cutout/?ra=329.2837&dec=-49.39573&zoom=17&layer=unwise-w1w2&size=120\"></a></td><td>6558340019324117760<br><a href=\"http://legacysurvey.org/viewer?ra=330.1767716897833&dec=-50.18486561794999\"><img src=\"http://legacysurvey.org/viewer/jpeg-cutout/?ra=330.1768&dec=-50.18487&zoom=17&layer=unwise-w1w2&size=120\"></a></td></tr>\n",
       "<tr><td>6559423764127892480<br><a href=\"http://legacysurvey.org/viewer?ra=327.7591595487684&dec=-49.21029491698559\"><img src=\"http://legacysurvey.org/viewer/jpeg-cutout/?ra=327.7592&dec=-49.21029&zoom=17&layer=unwise-w1w2&size=120\"></a></td><td>6559410638707893120<br><a href=\"http://legacysurvey.org/viewer?ra=328.1547816993162&dec=-48.91286572054609\"><img src=\"http://legacysurvey.org/viewer/jpeg-cutout/?ra=328.1548&dec=-48.91287&zoom=17&layer=unwise-w1w2&size=120\"></a></td><td>6560698750939899392<br><a href=\"http://legacysurvey.org/viewer?ra=329.58309041272173&dec=-49.02891742728536\"><img src=\"http://legacysurvey.org/viewer/jpeg-cutout/?ra=329.5831&dec=-49.02892&zoom=17&layer=unwise-w1w2&size=120\"></a></td><td>6559155689449173120<br><a href=\"http://legacysurvey.org/viewer?ra=328.77786450292666&dec=-49.69131162868572\"><img src=\"http://legacysurvey.org/viewer/jpeg-cutout/?ra=328.7779&dec=-49.69131&zoom=17&layer=unwise-w1w2&size=120\"></a></td><td>6560690362866747776<br><a href=\"http://legacysurvey.org/viewer?ra=329.38819795773094&dec=-49.21958351000936\"><img src=\"http://legacysurvey.org/viewer/jpeg-cutout/?ra=329.3882&dec=-49.21958&zoom=17&layer=unwise-w1w2&size=120\"></a></td><td>6559276807526995200<br><a href=\"http://legacysurvey.org/viewer?ra=327.95396699431126&dec=-49.49192336602486\"><img src=\"http://legacysurvey.org/viewer/jpeg-cutout/?ra=327.954&dec=-49.49192&zoom=17&layer=unwise-w1w2&size=120\"></a></td></tr>\n",
       "<tr><td>6560743933995937536<br><a href=\"http://legacysurvey.org/viewer?ra=329.3771042471979&dec=-48.5758954020235\"><img src=\"http://legacysurvey.org/viewer/jpeg-cutout/?ra=329.3771&dec=-48.5759&zoom=17&layer=unwise-w1w2&size=120\"></a></td><td>6559066251050018944<br><a href=\"http://legacysurvey.org/viewer?ra=328.3155375395042&dec=-49.97714958389393\"><img src=\"http://legacysurvey.org/viewer/jpeg-cutout/?ra=328.3155&dec=-49.97715&zoom=17&layer=unwise-w1w2&size=120\"></a></td><td>6558981519935088000<br><a href=\"http://legacysurvey.org/viewer?ra=329.22007817268616&dec=-50.35464660199473\"><img src=\"http://legacysurvey.org/viewer/jpeg-cutout/?ra=329.2201&dec=-50.35465&zoom=17&layer=unwise-w1w2&size=120\"></a></td><td>6559371228087870208<br><a href=\"http://legacysurvey.org/viewer?ra=327.9775603191331&dec=-49.405323557939596\"><img src=\"http://legacysurvey.org/viewer/jpeg-cutout/?ra=327.9776&dec=-49.40532&zoom=17&layer=unwise-w1w2&size=120\"></a></td><td>6560726616687707392<br><a href=\"http://legacysurvey.org/viewer?ra=329.7891444990747&dec=-48.78532836014809\"><img src=\"http://legacysurvey.org/viewer/jpeg-cutout/?ra=329.7891&dec=-48.78533&zoom=17&layer=unwise-w1w2&size=120\"></a></td><td>6559078380037754752<br><a href=\"http://legacysurvey.org/viewer?ra=329.30760810460345&dec=-50.21660038518002\"><img src=\"http://legacysurvey.org/viewer/jpeg-cutout/?ra=329.3076&dec=-50.2166&zoom=17&layer=unwise-w1w2&size=120\"></a></td></tr>\n",
       "    </table>\n",
       "    "
      ],
      "text/plain": [
       "<IPython.core.display.HTML object>"
      ]
     },
     "execution_count": 47,
     "metadata": {},
     "output_type": "execute_result"
    }
   ],
   "source": [
    "# only need to remove if something really fishy is going on\n",
    "make_decals_viewer_cutouts(guidestars[np.random.permutation(len(guidestars))[:24]], \n",
    "                           survey='unwise-w1w2',ncols=6,namecol='TargetName', zoom=17)"
   ]
  },
  {
   "cell_type": "code",
   "execution_count": 48,
   "metadata": {},
   "outputs": [
    {
     "name": "stdout",
     "output_type": "stream",
     "text": [
      "Copied to clipboard\n"
     ]
    },
    {
     "data": {
      "text/html": [
       "\n",
       "    Paste the coords in \"Enter values\" at  \n",
       "    <a href=\"https://des.ncsa.illinois.edu/easyweb/cutouts\">the DES cutout service</a>,\n",
       "    and change the size to 0.3 arcmin\n",
       "    "
      ],
      "text/plain": [
       "<IPython.core.display.HTML object>"
      ]
     },
     "execution_count": 48,
     "metadata": {},
     "output_type": "execute_result"
    }
   ],
   "source": [
    "make_des_cutouts_file(acat[acat['Notes']=='sky'])"
   ]
  },
  {
   "cell_type": "code",
   "execution_count": 49,
   "metadata": {},
   "outputs": [
    {
     "name": "stdout",
     "output_type": "stream",
     "text": [
      "https://des.ncsa.illinois.edu/easyweb/static/workdir/eteq/80012d2a-403a-4636-8047-bb226a30760a/list.json\n"
     ]
    },
    {
     "data": {
      "text/html": [
       "\n",
       "    <table>\n",
       "    <tr><td>0<br><a href=\"http://legacysurvey.org/viewer?ra=328.501243493813&dec=-50.47296433795388\"><img src=\"https://des.ncsa.illinois.edu/easyweb/static/workdir/eteq/80012d2a-403a-4636-8047-bb226a30760a/DESJ215658.0-482645.4.tif.png\"height=\"128\" width=\"128\"></a></td><td>1<br><a href=\"http://legacysurvey.org/viewer?ra=328.204314856219&dec=-49.34947702738768\"><img src=\"https://des.ncsa.illinois.edu/easyweb/static/workdir/eteq/80012d2a-403a-4636-8047-bb226a30760a/DESJ215633.5-502714.5.tif.png\"height=\"128\" width=\"128\"></a></td><td>2<br><a href=\"http://legacysurvey.org/viewer?ra=328.9736725953069&dec=-48.48033095594502\"><img src=\"https://des.ncsa.illinois.edu/easyweb/static/workdir/eteq/80012d2a-403a-4636-8047-bb226a30760a/DESJ215933.9-491501.7.tif.png\"height=\"128\" width=\"128\"></a></td><td>3<br><a href=\"http://legacysurvey.org/viewer?ra=328.10521319366745&dec=-49.86198510097345\"><img src=\"https://des.ncsa.illinois.edu/easyweb/static/workdir/eteq/80012d2a-403a-4636-8047-bb226a30760a/DESJ215200.5-494641.1.tif.png\"height=\"128\" width=\"128\"></a></td><td>4<br><a href=\"http://legacysurvey.org/viewer?ra=328.21545311119723&dec=-49.6606876308925\"><img src=\"https://des.ncsa.illinois.edu/easyweb/static/workdir/eteq/80012d2a-403a-4636-8047-bb226a30760a/DESJ215402.7-484029.4.tif.png\"height=\"128\" width=\"128\"></a></td><td>5<br><a href=\"http://legacysurvey.org/viewer?ra=329.75296318489336&dec=-49.81171933898812\"><img src=\"https://des.ncsa.illinois.edu/easyweb/static/workdir/eteq/80012d2a-403a-4636-8047-bb226a30760a/DESJ215431.1-484335.6.tif.png\"height=\"128\" width=\"128\"></a></td><td>6<br><a href=\"http://legacysurvey.org/viewer?ra=328.5133383972335&dec=-50.48171780067626\"><img src=\"https://des.ncsa.illinois.edu/easyweb/static/workdir/eteq/80012d2a-403a-4636-8047-bb226a30760a/DESJ215249.0-492058.1.tif.png\"height=\"128\" width=\"128\"></a></td><td>7<br><a href=\"http://legacysurvey.org/viewer?ra=328.9548113238651&dec=-50.42648817825416\"><img src=\"https://des.ncsa.illinois.edu/easyweb/static/workdir/eteq/80012d2a-403a-4636-8047-bb226a30760a/DESJ215958.3-495930.2.tif.png\"height=\"128\" width=\"128\"></a></td></tr>\n",
       "<tr><td>8<br><a href=\"http://legacysurvey.org/viewer?ra=329.1394779593931&dec=-50.454017229861854\"><img src=\"https://des.ncsa.illinois.edu/easyweb/static/workdir/eteq/80012d2a-403a-4636-8047-bb226a30760a/DESJ215532.3-483316.9.tif.png\"height=\"128\" width=\"128\"></a></td><td>9<br><a href=\"http://legacysurvey.org/viewer?ra=328.47526142234636&dec=-50.39656172782918\"><img src=\"https://des.ncsa.illinois.edu/easyweb/static/workdir/eteq/80012d2a-403a-4636-8047-bb226a30760a/DESJ215322.3-485141.6.tif.png\"height=\"128\" width=\"128\"></a></td><td>10<br><a href=\"http://legacysurvey.org/viewer?ra=329.0688786935826&dec=-48.512048906319365\"><img src=\"https://des.ncsa.illinois.edu/easyweb/static/workdir/eteq/80012d2a-403a-4636-8047-bb226a30760a/DESJ215354.2-484624.8.tif.png\"height=\"128\" width=\"128\"></a></td><td>11<br><a href=\"http://legacysurvey.org/viewer?ra=329.4481702486225&dec=-50.18379682123036\"><img src=\"https://des.ncsa.illinois.edu/easyweb/static/workdir/eteq/80012d2a-403a-4636-8047-bb226a30760a/DESJ215248.8-500205.2.tif.png\"height=\"128\" width=\"128\"></a></td><td>12<br><a href=\"http://legacysurvey.org/viewer?ra=329.6970358190267&dec=-49.75535159453855\"><img src=\"https://des.ncsa.illinois.edu/easyweb/static/workdir/eteq/80012d2a-403a-4636-8047-bb226a30760a/DESJ215705.0-502812.9.tif.png\"height=\"128\" width=\"128\"></a></td><td>13<br><a href=\"http://legacysurvey.org/viewer?ra=328.85273824944255&dec=-50.562737811813875\"><img src=\"https://des.ncsa.illinois.edu/easyweb/static/workdir/eteq/80012d2a-403a-4636-8047-bb226a30760a/DESJ215804.2-500046.1.tif.png\"height=\"128\" width=\"128\"></a></td><td>14<br><a href=\"http://legacysurvey.org/viewer?ra=329.6304133653811&dec=-48.771637252469475\"><img src=\"https://des.ncsa.illinois.edu/easyweb/static/workdir/eteq/80012d2a-403a-4636-8047-bb226a30760a/DESJ215454.9-503102.1.tif.png\"height=\"128\" width=\"128\"></a></td><td>15<br><a href=\"http://legacysurvey.org/viewer?ra=329.30570446591645&dec=-50.480126000749244\"><img src=\"https://des.ncsa.illinois.edu/easyweb/static/workdir/eteq/80012d2a-403a-4636-8047-bb226a30760a/DESJ215644.1-485006.3.tif.png\"height=\"128\" width=\"128\"></a></td></tr>\n",
       "<tr><td>16<br><a href=\"http://legacysurvey.org/viewer?ra=329.95557459847237&dec=-49.652211746657535\"><img src=\"https://des.ncsa.illinois.edu/easyweb/static/workdir/eteq/80012d2a-403a-4636-8047-bb226a30760a/DESJ215319.8-485949.8.tif.png\"height=\"128\" width=\"128\"></a></td><td>17<br><a href=\"http://legacysurvey.org/viewer?ra=329.8482432138561&dec=-49.72783388370071\"><img src=\"https://des.ncsa.illinois.edu/easyweb/static/workdir/eteq/80012d2a-403a-4636-8047-bb226a30760a/DESJ215554.3-501552.6.tif.png\"height=\"128\" width=\"128\"></a></td><td>18<br><a href=\"http://legacysurvey.org/viewer?ra=328.33243263123325&dec=-50.36201179659751\"><img src=\"https://des.ncsa.illinois.edu/easyweb/static/workdir/eteq/80012d2a-403a-4636-8047-bb226a30760a/DESJ215847.3-494519.3.tif.png\"height=\"128\" width=\"128\"></a></td><td>19<br><a href=\"http://legacysurvey.org/viewer?ra=328.5824450810196&dec=-50.148862829044056\"><img src=\"https://des.ncsa.illinois.edu/easyweb/static/workdir/eteq/80012d2a-403a-4636-8047-bb226a30760a/DESJ215942.5-491940.3.tif.png\"height=\"128\" width=\"128\"></a></td><td>20<br><a href=\"http://legacysurvey.org/viewer?ra=329.36185555207385&dec=-50.436058617945825\"><img src=\"https://des.ncsa.illinois.edu/easyweb/static/workdir/eteq/80012d2a-403a-4636-8047-bb226a30760a/DESJ215716.1-483126.1.tif.png\"height=\"128\" width=\"128\"></a></td><td>21<br><a href=\"http://legacysurvey.org/viewer?ra=328.96336208219213&dec=-50.44206339003897\"><img src=\"https://des.ncsa.illinois.edu/easyweb/static/workdir/eteq/80012d2a-403a-4636-8047-bb226a30760a/DESJ215859.8-501709.1.tif.png\"height=\"128\" width=\"128\"></a></td><td>22<br><a href=\"http://legacysurvey.org/viewer?ra=328.2553875335106&dec=-49.73988434772696\"><img src=\"https://des.ncsa.illinois.edu/easyweb/static/workdir/eteq/80012d2a-403a-4636-8047-bb226a30760a/DESJ215518.6-500733.6.tif.png\"height=\"128\" width=\"128\"></a></td><td>23<br><a href=\"http://legacysurvey.org/viewer?ra=329.02427532030714&dec=-48.47970335428254\"><img src=\"https://des.ncsa.illinois.edu/easyweb/static/workdir/eteq/80012d2a-403a-4636-8047-bb226a30760a/DESJ215340.4-491032.2.tif.png\"height=\"128\" width=\"128\"></a></td></tr>\n",
       "<tr><td>24<br><a href=\"http://legacysurvey.org/viewer?ra=329.6978974878286&dec=-49.27781521624814\"><img src=\"https://des.ncsa.illinois.edu/easyweb/static/workdir/eteq/80012d2a-403a-4636-8047-bb226a30760a/DESJ215426.1-483818.4.tif.png\"height=\"128\" width=\"128\"></a></td><td>25<br><a href=\"http://legacysurvey.org/viewer?ra=328.4203911810412&dec=-49.883814409053535\"><img src=\"https://des.ncsa.illinois.edu/easyweb/static/workdir/eteq/80012d2a-403a-4636-8047-bb226a30760a/DESJ215354.1-502347.6.tif.png\"height=\"128\" width=\"128\"></a></td><td>26<br><a href=\"http://legacysurvey.org/viewer?ra=328.8276391252249&dec=-50.126007948993276\"><img src=\"https://des.ncsa.illinois.edu/easyweb/static/workdir/eteq/80012d2a-403a-4636-8047-bb226a30760a/DESJ215324.5-493414.6.tif.png\"height=\"128\" width=\"128\"></a></td><td>27<br><a href=\"http://legacysurvey.org/viewer?ra=329.31694030722105&dec=-48.52390535963511\"><img src=\"https://des.ncsa.illinois.edu/easyweb/static/workdir/eteq/80012d2a-403a-4636-8047-bb226a30760a/DESJ220013.6-494933.6.tif.png\"height=\"128\" width=\"128\"></a></td><td>28<br><a href=\"http://legacysurvey.org/viewer?ra=328.8843989486366&dec=-48.5546953093607\"><img src=\"https://des.ncsa.illinois.edu/easyweb/static/workdir/eteq/80012d2a-403a-4636-8047-bb226a30760a/DESJ215605.8-482846.9.tif.png\"height=\"128\" width=\"128\"></a></td><td>29<br><a href=\"http://legacysurvey.org/viewer?ra=328.0022813853345&dec=-49.77139025453489\"><img src=\"https://des.ncsa.illinois.edu/easyweb/static/workdir/eteq/80012d2a-403a-4636-8047-bb226a30760a/DESJ215831.3-484617.9.tif.png\"height=\"128\" width=\"128\"></a></td><td>30<br><a href=\"http://legacysurvey.org/viewer?ra=329.3508750826583&dec=-50.09672387657202\"><img src=\"https://des.ncsa.illinois.edu/easyweb/static/workdir/eteq/80012d2a-403a-4636-8047-bb226a30760a/DESJ215301.3-494423.6.tif.png\"height=\"128\" width=\"128\"></a></td><td>31<br><a href=\"http://legacysurvey.org/viewer?ra=330.0565127912214&dec=-49.82598977521564\"><img src=\"https://des.ncsa.illinois.edu/easyweb/static/workdir/eteq/80012d2a-403a-4636-8047-bb226a30760a/DESJ215625.5-482846.2.tif.png\"height=\"128\" width=\"128\"></a></td></tr>\n",
       "<tr><td>32<br><a href=\"http://legacysurvey.org/viewer?ra=328.86305275154996&dec=-48.47687421978609\"><img src=\"https://des.ncsa.illinois.edu/easyweb/static/workdir/eteq/80012d2a-403a-4636-8047-bb226a30760a/DESJ215803.2-501508.4.tif.png\"height=\"128\" width=\"128\"></a></td><td>33<br><a href=\"http://legacysurvey.org/viewer?ra=328.14818902958734&dec=-49.469422744454974\"><img src=\"https://des.ncsa.illinois.edu/easyweb/static/workdir/eteq/80012d2a-403a-4636-8047-bb226a30760a/DESJ215340.9-495301.7.tif.png\"height=\"128\" width=\"128\"></a></td><td>34<br><a href=\"http://legacysurvey.org/viewer?ra=328.64684730602346&dec=-50.28188952922801\"><img src=\"https://des.ncsa.illinois.edu/easyweb/static/workdir/eteq/80012d2a-403a-4636-8047-bb226a30760a/DESJ215358.3-490445.5.tif.png\"height=\"128\" width=\"128\"></a></td><td>35<br><a href=\"http://legacysurvey.org/viewer?ra=328.47588965090284&dec=-48.773560993358814\"><img src=\"https://des.ncsa.illinois.edu/easyweb/static/workdir/eteq/80012d2a-403a-4636-8047-bb226a30760a/DESJ215949.3-493908.0.tif.png\"height=\"128\" width=\"128\"></a></td><td>36<br><a href=\"http://legacysurvey.org/viewer?ra=328.49274361186605&dec=-49.079296932228935\"><img src=\"https://des.ncsa.illinois.edu/easyweb/static/workdir/eteq/80012d2a-403a-4636-8047-bb226a30760a/DESJ215406.0-483419.9.tif.png\"height=\"128\" width=\"128\"></a></td><td>37<br><a href=\"http://legacysurvey.org/viewer?ra=328.31537200800136&dec=-50.3444560096651\"><img src=\"https://des.ncsa.illinois.edu/easyweb/static/workdir/eteq/80012d2a-403a-4636-8047-bb226a30760a/DESJ215402.3-483436.3.tif.png\"height=\"128\" width=\"128\"></a></td><td>38<br><a href=\"http://legacysurvey.org/viewer?ra=329.6706512778182&dec=-49.39890364727295\"><img src=\"https://des.ncsa.illinois.edu/easyweb/static/workdir/eteq/80012d2a-403a-4636-8047-bb226a30760a/DESJ215713.4-502848.5.tif.png\"height=\"128\" width=\"128\"></a></td><td>39<br><a href=\"http://legacysurvey.org/viewer?ra=329.89139906638115&dec=-49.25045594802147\"><img src=\"https://des.ncsa.illinois.edu/easyweb/static/workdir/eteq/80012d2a-403a-4636-8047-bb226a30760a/DESJ215712.6-502505.2.tif.png\"height=\"128\" width=\"128\"></a></td></tr>\n",
       "<tr><td>40<br><a href=\"http://legacysurvey.org/viewer?ra=329.55632158191383&dec=-48.57110686892952\"><img src=\"https://des.ncsa.illinois.edu/easyweb/static/workdir/eteq/80012d2a-403a-4636-8047-bb226a30760a/DESJ215717.6-500734.5.tif.png\"height=\"128\" width=\"128\"></a></td><td>41<br><a href=\"http://legacysurvey.org/viewer?ra=329.9269030447641&dec=-49.327848929882336\"><img src=\"https://des.ncsa.illinois.edu/easyweb/static/workdir/eteq/80012d2a-403a-4636-8047-bb226a30760a/DESJ215600.6-501354.2.tif.png\"height=\"128\" width=\"128\"></a></td><td>42<br><a href=\"http://legacysurvey.org/viewer?ra=329.37598343532244&dec=-48.885880027391664\"><img src=\"https://des.ncsa.illinois.edu/easyweb/static/workdir/eteq/80012d2a-403a-4636-8047-bb226a30760a/DESJ215527.1-482836.7.tif.png\"height=\"128\" width=\"128\"></a></td><td>43<br><a href=\"http://legacysurvey.org/viewer?ra=330.0679703058213&dec=-49.65483111679998\"><img src=\"https://des.ncsa.illinois.edu/easyweb/static/workdir/eteq/80012d2a-403a-4636-8047-bb226a30760a/DESJ215419.8-500855.9.tif.png\"height=\"128\" width=\"128\"></a></td><td>44<br><a href=\"http://legacysurvey.org/viewer?ra=328.5380039593684&dec=-50.21898124407409\"><img src=\"https://des.ncsa.illinois.edu/easyweb/static/workdir/eteq/80012d2a-403a-4636-8047-bb226a30760a/DESJ220013.2-495405.5.tif.png\"height=\"128\" width=\"128\"></a></td><td>45<br><a href=\"http://legacysurvey.org/viewer?ra=328.5111741508039&dec=-48.67483636444492\"><img src=\"https://des.ncsa.illinois.edu/easyweb/static/workdir/eteq/80012d2a-403a-4636-8047-bb226a30760a/DESJ215651.4-501850.1.tif.png\"height=\"128\" width=\"128\"></a></td><td>46<br><a href=\"http://legacysurvey.org/viewer?ra=329.9929603325064&dec=-49.99171177180786\"><img src=\"https://des.ncsa.illinois.edu/easyweb/static/workdir/eteq/80012d2a-403a-4636-8047-bb226a30760a/DESJ215225.3-495143.2.tif.png\"height=\"128\" width=\"128\"></a></td><td>47<br><a href=\"http://legacysurvey.org/viewer?ra=328.7287741485824&dec=-50.51725833683371\"><img src=\"https://des.ncsa.illinois.edu/easyweb/static/workdir/eteq/80012d2a-403a-4636-8047-bb226a30760a/DESJ215619.6-482955.2.tif.png\"height=\"128\" width=\"128\"></a></td></tr>\n",
       "<tr><td>48<br><a href=\"http://legacysurvey.org/viewer?ra=329.51351047282657&dec=-50.25231527786204\"><img src=\"https://des.ncsa.illinois.edu/easyweb/static/workdir/eteq/80012d2a-403a-4636-8047-bb226a30760a/DESJ215827.9-500138.4.tif.png\"height=\"128\" width=\"128\"></a></td><td>49<br><a href=\"http://legacysurvey.org/viewer?ra=329.8377375883008&dec=-49.70837285734163\"><img src=\"https://des.ncsa.illinois.edu/easyweb/static/workdir/eteq/80012d2a-403a-4636-8047-bb226a30760a/DESJ215409.1-501308.3.tif.png\"height=\"128\" width=\"128\"></a></td><td>50<br><a href=\"http://legacysurvey.org/viewer?ra=328.80780846261916&dec=-48.63777779131407\"><img src=\"https://des.ncsa.illinois.edu/easyweb/static/workdir/eteq/80012d2a-403a-4636-8047-bb226a30760a/DESJ215715.8-503340.6.tif.png\"height=\"128\" width=\"128\"></a></td><td>51<br><a href=\"http://legacysurvey.org/viewer?ra=328.72564391993916&dec=-48.48076763880613\"><img src=\"https://des.ncsa.illinois.edu/easyweb/static/workdir/eteq/80012d2a-403a-4636-8047-bb226a30760a/DESJ215403.2-502854.2.tif.png\"height=\"128\" width=\"128\"></a></td><td>52<br><a href=\"http://legacysurvey.org/viewer?ra=330.05514202742825&dec=-49.90151763833266\"><img src=\"https://des.ncsa.illinois.edu/easyweb/static/workdir/eteq/80012d2a-403a-4636-8047-bb226a30760a/DESJ215553.4-483454.7.tif.png\"height=\"128\" width=\"128\"></a></td><td>53<br><a href=\"http://legacysurvey.org/viewer?ra=328.43703506103645&dec=-50.427611903030694\"><img src=\"https://des.ncsa.illinois.edu/easyweb/static/workdir/eteq/80012d2a-403a-4636-8047-bb226a30760a/DESJ215847.5-491640.2.tif.png\"height=\"128\" width=\"128\"></a></td><td>54<br><a href=\"http://legacysurvey.org/viewer?ra=328.381905913965&dec=-49.06582002043805\"><img src=\"https://des.ncsa.illinois.edu/easyweb/static/workdir/eteq/80012d2a-403a-4636-8047-bb226a30760a/DESJ215442.6-502852.5.tif.png\"height=\"128\" width=\"128\"></a></td><td>55<br><a href=\"http://legacysurvey.org/viewer?ra=329.00259923964325&dec=-50.23172046347237\"><img src=\"https://des.ncsa.illinois.edu/easyweb/static/workdir/eteq/80012d2a-403a-4636-8047-bb226a30760a/DESJ215900.7-494842.2.tif.png\"height=\"128\" width=\"128\"></a></td></tr>\n",
       "<tr><td>56<br><a href=\"http://legacysurvey.org/viewer?ra=328.6777945759203&dec=-50.5297095991782\"><img src=\"https://des.ncsa.illinois.edu/easyweb/static/workdir/eteq/80012d2a-403a-4636-8047-bb226a30760a/DESJ215835.3-495535.4.tif.png\"height=\"128\" width=\"128\"></a></td><td>57<br><a href=\"http://legacysurvey.org/viewer?ra=329.5003745412786&dec=-50.37863317974707\"><img src=\"https://des.ncsa.illinois.edu/easyweb/static/workdir/eteq/80012d2a-403a-4636-8047-bb226a30760a/DESJ215931.4-485537.6.tif.png\"height=\"128\" width=\"128\"></a></td><td>58<br><a href=\"http://legacysurvey.org/viewer?ra=328.0022812077552&dec=-49.77807338480105\"><img src=\"https://des.ncsa.illinois.edu/easyweb/static/workdir/eteq/80012d2a-403a-4636-8047-bb226a30760a/DESJ215815.8-485623.7.tif.png\"height=\"128\" width=\"128\"></a></td><td>59<br><a href=\"http://legacysurvey.org/viewer?ra=329.27077887055464&dec=-50.47024657937272\"><img src=\"https://des.ncsa.illinois.edu/easyweb/static/workdir/eteq/80012d2a-403a-4636-8047-bb226a30760a/DESJ215251.7-493938.5.tif.png\"height=\"128\" width=\"128\"></a></td><td>60<br><a href=\"http://legacysurvey.org/viewer?ra=329.2141134708597&dec=-50.313916229149406\"><img src=\"https://des.ncsa.illinois.edu/easyweb/static/workdir/eteq/80012d2a-403a-4636-8047-bb226a30760a/DESJ215235.6-492809.9.tif.png\"height=\"128\" width=\"128\"></a></td><td>61<br><a href=\"http://legacysurvey.org/viewer?ra=329.2277202722213&dec=-48.49208982861314\"><img src=\"https://des.ncsa.illinois.edu/easyweb/static/workdir/eteq/80012d2a-403a-4636-8047-bb226a30760a/DESJ215315.7-502040.1.tif.png\"height=\"128\" width=\"128\"></a></td><td>62<br><a href=\"http://legacysurvey.org/viewer?ra=329.31585186928027&dec=-50.561285552306934\"><img src=\"https://des.ncsa.illinois.edu/easyweb/static/workdir/eteq/80012d2a-403a-4636-8047-bb226a30760a/DESJ215513.9-483816.0.tif.png\"height=\"128\" width=\"128\"></a></td><td>63<br><a href=\"http://legacysurvey.org/viewer?ra=328.8908985150549&dec=-48.460292600748986\"><img src=\"https://des.ncsa.illinois.edu/easyweb/static/workdir/eteq/80012d2a-403a-4636-8047-bb226a30760a/DESJ215549.2-502535.4.tif.png\"height=\"128\" width=\"128\"></a></td></tr>\n",
       "<tr><td>64<br><a href=\"http://legacysurvey.org/viewer?ra=328.50944103791625&dec=-48.57675597400543\"><img src=\"https://des.ncsa.illinois.edu/easyweb/static/workdir/eteq/80012d2a-403a-4636-8047-bb226a30760a/DESJ215442.7-503147.0.tif.png\"height=\"128\" width=\"128\"></a></td><td>65<br><a href=\"http://legacysurvey.org/viewer?ra=329.32334091599955&dec=-50.126249362499536\"><img src=\"https://des.ncsa.illinois.edu/easyweb/static/workdir/eteq/80012d2a-403a-4636-8047-bb226a30760a/DESJ215724.2-500548.2.tif.png\"height=\"128\" width=\"128\"></a></td><td>66<br><a href=\"http://legacysurvey.org/viewer?ra=329.0817596858082&dec=-48.49867157635359\"><img src=\"https://des.ncsa.illinois.edu/easyweb/static/workdir/eteq/80012d2a-403a-4636-8047-bb226a30760a/DESJ215800.1-502243.1.tif.png\"height=\"128\" width=\"128\"></a></td><td>67<br><a href=\"http://legacysurvey.org/viewer?ra=329.6553140883494&dec=-49.98719547639005\"><img src=\"https://des.ncsa.illinois.edu/easyweb/static/workdir/eteq/80012d2a-403a-4636-8047-bb226a30760a/DESJ215444.1-502055.6.tif.png\"height=\"128\" width=\"128\"></a></td><td>68<br><a href=\"http://legacysurvey.org/viewer?ra=328.3431077951179&dec=-48.86155011099226\"><img src=\"https://des.ncsa.illinois.edu/easyweb/static/workdir/eteq/80012d2a-403a-4636-8047-bb226a30760a/DESJ215259.7-500956.6.tif.png\"height=\"128\" width=\"128\"></a></td><td>69<br><a href=\"http://legacysurvey.org/viewer?ra=328.33254109136436&dec=-48.99717176651157\"><img src=\"https://des.ncsa.illinois.edu/easyweb/static/workdir/eteq/80012d2a-403a-4636-8047-bb226a30760a/DESJ215616.5-483043.4.tif.png\"height=\"128\" width=\"128\"></a></td><td>70<br><a href=\"http://legacysurvey.org/viewer?ra=329.61608711210704&dec=-50.0273214903538\"><img src=\"https://des.ncsa.illinois.edu/easyweb/static/workdir/eteq/80012d2a-403a-4636-8047-bb226a30760a/DESJ215252.1-490605.1.tif.png\"height=\"128\" width=\"128\"></a></td><td>71<br><a href=\"http://legacysurvey.org/viewer?ra=328.35198092782457&dec=-49.57073080202721\"><img src=\"https://des.ncsa.illinois.edu/easyweb/static/workdir/eteq/80012d2a-403a-4636-8047-bb226a30760a/DESJ215500.1-483144.6.tif.png\"height=\"128\" width=\"128\"></a></td></tr>\n",
       "<tr><td>72<br><a href=\"http://legacysurvey.org/viewer?ra=329.30241752451866&dec=-50.41809752924072\"><img src=\"https://des.ncsa.illinois.edu/easyweb/static/workdir/eteq/80012d2a-403a-4636-8047-bb226a30760a/DESJ215454.2-482850.8.tif.png\"height=\"128\" width=\"128\"></a></td><td>73<br><a href=\"http://legacysurvey.org/viewer?ra=329.2416572728534&dec=-48.44595457332249\"><img src=\"https://des.ncsa.illinois.edu/easyweb/static/workdir/eteq/80012d2a-403a-4636-8047-bb226a30760a/DESJ215921.1-494230.1.tif.png\"height=\"128\" width=\"128\"></a></td><td>74<br><a href=\"http://legacysurvey.org/viewer?ra=329.64697695908967&dec=-49.92650340247073\"><img src=\"https://des.ncsa.illinois.edu/easyweb/static/workdir/eteq/80012d2a-403a-4636-8047-bb226a30760a/DESJ215533.8-482737.0.tif.png\"height=\"128\" width=\"128\"></a></td><td>75<br><a href=\"http://legacysurvey.org/viewer?ra=328.4183224449342&dec=-49.175605739983794\"><img src=\"https://des.ncsa.illinois.edu/easyweb/static/workdir/eteq/80012d2a-403a-4636-8047-bb226a30760a/DESJ215726.8-502609.8.tif.png\"height=\"128\" width=\"128\"></a></td><td>76<br><a href=\"http://legacysurvey.org/viewer?ra=328.75026496717345&dec=-48.529048673301304\"><img src=\"https://des.ncsa.illinois.edu/easyweb/static/workdir/eteq/80012d2a-403a-4636-8047-bb226a30760a/DESJ215260.0-500317.0.tif.png\"height=\"128\" width=\"128\"></a></td><td>77<br><a href=\"http://legacysurvey.org/viewer?ra=329.517425076186&dec=-50.01281235949528\"><img src=\"https://des.ncsa.illinois.edu/easyweb/static/workdir/eteq/80012d2a-403a-4636-8047-bb226a30760a/DESJ215344.9-502539.4.tif.png\"height=\"128\" width=\"128\"></a></td><td>78<br><a href=\"http://legacysurvey.org/viewer?ra=329.1061581210184&dec=-48.47949194738368\"><img src=\"https://des.ncsa.illinois.edu/easyweb/static/workdir/eteq/80012d2a-403a-4636-8047-bb226a30760a/DESJ215613.5-483003.1.tif.png\"height=\"128\" width=\"128\"></a></td><td>79<br><a href=\"http://legacysurvey.org/viewer?ra=328.24998215366503&dec=-50.05471071121388\"><img src=\"https://des.ncsa.illinois.edu/easyweb/static/workdir/eteq/80012d2a-403a-4636-8047-bb226a30760a/DESJ215923.6-494340.2.tif.png\"height=\"128\" width=\"128\"></a></td></tr>\n",
       "<tr><td>80<br><a href=\"http://legacysurvey.org/viewer?ra=328.52515483947917&dec=-48.57218765622888\"><img src=\"https://des.ncsa.illinois.edu/easyweb/static/workdir/eteq/80012d2a-403a-4636-8047-bb226a30760a/DESJ215553.7-482849.2.tif.png\"height=\"128\" width=\"128\"></a></td><td>81<br><a href=\"http://legacysurvey.org/viewer?ra=328.6086588784905&dec=-48.638444668227116\"><img src=\"https://des.ncsa.illinois.edu/easyweb/static/workdir/eteq/80012d2a-403a-4636-8047-bb226a30760a/DESJ215318.9-485229.5.tif.png\"height=\"128\" width=\"128\"></a></td><td>82<br><a href=\"http://legacysurvey.org/viewer?ra=328.2485689423346&dec=-50.16570965159822\"><img src=\"https://des.ncsa.illinois.edu/easyweb/static/workdir/eteq/80012d2a-403a-4636-8047-bb226a30760a/DESJ215730.2-485309.2.tif.png\"height=\"128\" width=\"128\"></a></td><td>83<br><a href=\"http://legacysurvey.org/viewer?ra=329.05625050620165&dec=-48.50086206256079\"><img src=\"https://des.ncsa.illinois.edu/easyweb/static/workdir/eteq/80012d2a-403a-4636-8047-bb226a30760a/DESJ215421.2-485423.5.tif.png\"height=\"128\" width=\"128\"></a></td><td>84<br><a href=\"http://legacysurvey.org/viewer?ra=328.2171628085955&dec=-49.10141977065156\"><img src=\"https://des.ncsa.illinois.edu/easyweb/static/workdir/eteq/80012d2a-403a-4636-8047-bb226a30760a/DESJ215524.7-503345.9.tif.png\"height=\"128\" width=\"128\"></a></td><td>85<br><a href=\"http://legacysurvey.org/viewer?ra=329.56576862445235&dec=-48.939917075270344\"><img src=\"https://des.ncsa.illinois.edu/easyweb/static/workdir/eteq/80012d2a-403a-4636-8047-bb226a30760a/DESJ215319.8-502143.2.tif.png\"height=\"128\" width=\"128\"></a></td><td>86<br><a href=\"http://legacysurvey.org/viewer?ra=329.73932827206977&dec=-49.910198908345784\"><img src=\"https://des.ncsa.illinois.edu/easyweb/static/workdir/eteq/80012d2a-403a-4636-8047-bb226a30760a/DESJ215837.3-495913.9.tif.png\"height=\"128\" width=\"128\"></a></td><td>87<br><a href=\"http://legacysurvey.org/viewer?ra=329.74900390592563&dec=-50.28586666113147\"><img src=\"https://des.ncsa.illinois.edu/easyweb/static/workdir/eteq/80012d2a-403a-4636-8047-bb226a30760a/DESJ215200.5-494617.0.tif.png\"height=\"128\" width=\"128\"></a></td></tr>\n",
       "<tr><td>88<br><a href=\"http://legacysurvey.org/viewer?ra=328.5545329827647&dec=-48.82939020566698\"><img src=\"https://des.ncsa.illinois.edu/easyweb/static/workdir/eteq/80012d2a-403a-4636-8047-bb226a30760a/DESJ215413.1-484945.8.tif.png\"height=\"128\" width=\"128\"></a></td><td>89<br><a href=\"http://legacysurvey.org/viewer?ra=329.2870250200492&dec=-48.80628500437049\"><img src=\"https://des.ncsa.illinois.edu/easyweb/static/workdir/eteq/80012d2a-403a-4636-8047-bb226a30760a/DESJ215813.5-483416.0.tif.png\"height=\"128\" width=\"128\"></a></td><td>90<br><a href=\"http://legacysurvey.org/viewer?ra=328.6775367564742&dec=-50.481251696717145\"><img src=\"https://des.ncsa.illinois.edu/easyweb/static/workdir/eteq/80012d2a-403a-4636-8047-bb226a30760a/DESJ220016.3-493917.4.tif.png\"height=\"128\" width=\"128\"></a></td><td>91<br><a href=\"http://legacysurvey.org/viewer?ra=328.32886293853596&dec=-48.8748747371117\"><img src=\"https://des.ncsa.illinois.edu/easyweb/static/workdir/eteq/80012d2a-403a-4636-8047-bb226a30760a/DESJ215654.7-482931.5.tif.png\"height=\"128\" width=\"128\"></a></td><td>92<br><a href=\"http://legacysurvey.org/viewer?ra=328.20350594542475&dec=-50.03477711531536\"><img src=\"https://des.ncsa.illinois.edu/easyweb/static/workdir/eteq/80012d2a-403a-4636-8047-bb226a30760a/DESJ215708.9-484822.6.tif.png\"height=\"128\" width=\"128\"></a></td><td>93<br><a href=\"http://legacysurvey.org/viewer?ra=329.88081201535994&dec=-48.92709945029636\"><img src=\"https://des.ncsa.illinois.edu/easyweb/static/workdir/eteq/80012d2a-403a-4636-8047-bb226a30760a/DESJ215331.7-490357.0.tif.png\"height=\"128\" width=\"128\"></a></td><td>94<br><a href=\"http://legacysurvey.org/viewer?ra=328.6297406529369&dec=-48.726564851323026\"><img src=\"https://des.ncsa.illinois.edu/easyweb/static/workdir/eteq/80012d2a-403a-4636-8047-bb226a30760a/DESJ215841.0-492356.0.tif.png\"height=\"128\" width=\"128\"></a></td><td>95<br><a href=\"http://legacysurvey.org/viewer?ra=328.58852629608134&dec=-48.906517902546376\"><img src=\"https://des.ncsa.illinois.edu/easyweb/static/workdir/eteq/80012d2a-403a-4636-8047-bb226a30760a/DESJ215400.3-502822.7.tif.png\"height=\"128\" width=\"128\"></a></td></tr>\n",
       "<tr><td>96<br><a href=\"http://legacysurvey.org/viewer?ra=329.18369283023185&dec=-48.83507742548195\"><img src=\"https://des.ncsa.illinois.edu/easyweb/static/workdir/eteq/80012d2a-403a-4636-8047-bb226a30760a/DESJ215435.2-501654.8.tif.png\"height=\"128\" width=\"128\"></a></td><td>97<br><a href=\"http://legacysurvey.org/viewer?ra=328.97606331289603&dec=-50.26459691663012\"><img src=\"https://des.ncsa.illinois.edu/easyweb/static/workdir/eteq/80012d2a-403a-4636-8047-bb226a30760a/DESJ215857.4-495436.7.tif.png\"height=\"128\" width=\"128\"></a></td><td>98<br><a href=\"http://legacysurvey.org/viewer?ra=328.68361758817434&dec=-50.34876679197284\"><img src=\"https://des.ncsa.illinois.edu/easyweb/static/workdir/eteq/80012d2a-403a-4636-8047-bb226a30760a/DESJ215551.2-502631.4.tif.png\"height=\"128\" width=\"128\"></a></td><td>99<br><a href=\"http://legacysurvey.org/viewer?ra=328.9724332561455&dec=-48.58186587821626\"><img src=\"https://des.ncsa.illinois.edu/easyweb/static/workdir/eteq/80012d2a-403a-4636-8047-bb226a30760a/DESJ215747.6-501101.7.tif.png\"height=\"128\" width=\"128\"></a></td><td></td><td></td><td></td><td></td></tr>\n",
       "    </table>\n",
       "    "
      ],
      "text/plain": [
       "<IPython.core.display.HTML object>"
      ]
     },
     "execution_count": 49,
     "metadata": {},
     "output_type": "execute_result"
    }
   ],
   "source": [
    "show_des_cutouts(acat[acat['Notes']=='sky'], '80012d2a-403a-4636-8047-bb226a30760a', ncols=8, namecol='TargetName')"
   ]
  },
  {
   "cell_type": "code",
   "execution_count": 50,
   "metadata": {},
   "outputs": [
    {
     "data": {
      "text/plain": [
       "54"
      ]
     },
     "execution_count": 50,
     "metadata": {},
     "output_type": "execute_result"
    }
   ],
   "source": [
    "skys_to_rem = [int(i) for i in '0 2 9 11 14 17 18 20 22 23 26 28 33 34 38 39 40 41 42 43 45 47 49 50 51 60 61 62 64 65 67 68 72 75 76 78 79 80 83 85 86 91 94 96 97 98'.split()]\n",
    "writecat.remove_rows((writecat['Notes']=='Sky')&(np.in1d(writecat['TargetName'], skys_to_rem)))\n",
    "np.sum((writecat['Notes']=='Sky'))"
   ]
  },
  {
   "cell_type": "code",
   "execution_count": 51,
   "metadata": {},
   "outputs": [
    {
     "name": "stdout",
     "output_type": "stream",
     "text": [
      "Nflux: 5 Nguide: 100 NSky 54\n",
      "Targets in each priority: {1: 558, 2: 82, 3: 22, 4: 50, 5: 138, 6: 76, 7: 7, 8: 11}\n",
      "Total: 1103\n",
      "Writing aat_targets_oct2018/pgc67663_1.fld\n"
     ]
    },
    {
     "data": {
      "text/plain": [
       "944"
      ]
     },
     "execution_count": 51,
     "metadata": {},
     "output_type": "execute_result"
    }
   ],
   "source": [
    "subsampledcat = subsample_catalog(writecat, {1:np.inf}, maxflux=5, maxguides=100)\n",
    "\n",
    "fldfn = 'aat_targets_oct2018/{}_{}.fld'.format(hostname, fieldnum)\n",
    "print('Writing', fldfn)\n",
    "write_fld_file(subsampledcat, host, obs_start_date, fldfn, suffix='_{}'.format(fieldnum))\n",
    "np.sum(subsampledcat['Notes'] == 'Targets')"
   ]
  },
  {
   "cell_type": "code",
   "execution_count": 52,
   "metadata": {},
   "outputs": [
    {
     "name": "stdout",
     "output_type": "stream",
     "text": [
      "pgc67663_1.fld                                100%   60KB  60.1KB/s   00:00    \n"
     ]
    }
   ],
   "source": [
    "!scp $fldfn visitor8@aatlxh:~/oct03/"
   ]
  },
  {
   "cell_type": "code",
   "execution_count": 59,
   "metadata": {},
   "outputs": [
    {
     "name": "stdout",
     "output_type": "stream",
     "text": [
      "Copied to clipboard\n"
     ]
    },
    {
     "data": {
      "text/html": [
       "\n",
       "    Paste the coords in \"Enter values\" at  \n",
       "    <a href=\"https://des.ncsa.illinois.edu/easyweb/cutouts\">the DES cutout service</a>,\n",
       "    and change the size to 0.3 arcmin\n",
       "    "
      ],
      "text/plain": [
       "<IPython.core.display.HTML object>"
      ]
     },
     "execution_count": 59,
     "metadata": {},
     "output_type": "execute_result"
    }
   ],
   "source": [
    "cut_cat = subsampledcat[subsampledcat['Priority']==1]\n",
    "make_des_cutouts_file(cut_cat[np.random.permutation(len(cut_cat))][:50])"
   ]
  },
  {
   "cell_type": "markdown",
   "metadata": {},
   "source": [
    "WARNING: the above ones were corrupted by an old version of the base catalog and should be re-generated"
   ]
  },
  {
   "cell_type": "markdown",
   "metadata": {},
   "source": [
    "## pgc1952"
   ]
  },
  {
   "cell_type": "code",
   "execution_count": 184,
   "metadata": {},
   "outputs": [
    {
     "name": "stdout",
     "output_type": "stream",
     "text": [
      "[10/03 23:09:03] Base catalog v2 for pgc1952 already exists (./base_catalogs/base_v2_pgc1952.fits.gz). (1/1)\n"
     ]
    }
   ],
   "source": [
    "idnum = 1952\n",
    "fieldnum = 1\n",
    "\n",
    "saga_object_catalog.build_and_write_to_database('pgc{}'.format(idnum), overwrite=fieldnum>1)"
   ]
  },
  {
   "cell_type": "code",
   "execution_count": 185,
   "metadata": {},
   "outputs": [
    {
     "name": "stdout",
     "output_type": "stream",
     "text": [
      "pgc1952\n",
      "00h32m02.112s -64d15m12.24s\n",
      "# of flux stars = 141\n",
      "# of sky fibers = 100\n",
      "# of Priority=1 targets = 490\n",
      "# of Priority=2 targets = 109\n",
      "# of Priority=3 targets = 10\n",
      "# of Priority=4 targets = 50\n",
      "# of Priority=5 targets = 115\n",
      "# of Priority=6 targets = 62\n",
      "# of Priority=7 targets = 42\n",
      "# of Priority=8 targets = 5\n",
      "# of Priority=9 targets = 241\n",
      "Object catalog to Gaia offset: (<Angle -0.36644631 arcsec>, <Angle 0.07111843 arcsec>) from 921 objects (72.6%)\n",
      "Found 171 Gaia guide stars\n",
      "46 Have a brightish neighbor.  Removing them.\n"
     ]
    },
    {
     "data": {
      "text/plain": [
       "1249"
      ]
     },
     "execution_count": 185,
     "metadata": {},
     "output_type": "execute_result"
    }
   ],
   "source": [
    "host = targethosts[targethosts['PGC'] == idnum]\n",
    "assert len(host) == 1\n",
    "host = host[0]\n",
    "\n",
    "hostname = host[host_id_label]\n",
    "print(hostname)\n",
    "print(SkyCoord(host['RA'], host['Dec'], unit=u.deg).to_string('hmsdms'))\n",
    "\n",
    "tcats[hostname] = tcat = saga_targets.build_target_catalogs(hostname, return_as='list', reload_base=True).pop()\n",
    "acats[hostname] = acat = saga.targets.prepare_aat_catalog(tcat, sky_fiber_needed=100)\n",
    "\n",
    "guidestars = get_gaia_guidestars(hostname)\n",
    "writecat = table.vstack([acat, guidestars])\n",
    "writecat['Notes'] = [n.title() for n in writecat['Notes']]\n",
    "len(writecat)"
   ]
  },
  {
   "cell_type": "code",
   "execution_count": 186,
   "metadata": {},
   "outputs": [
    {
     "data": {
      "text/html": [
       "\n",
       "    <table>\n",
       "    <tr><td>4708194728138803584<br><a href=\"http://legacysurvey.org/viewer?ra=8.980403291837485&dec=-64.72242231973473\"><img src=\"http://legacysurvey.org/viewer/jpeg-cutout/?ra=8.980403&dec=-64.72242&zoom=17&layer=unwise-w1w2&size=120\"></a></td><td>4900679459944794752<br><a href=\"http://legacysurvey.org/viewer?ra=9.077424910663394&dec=-63.431951927885535\"><img src=\"http://legacysurvey.org/viewer/jpeg-cutout/?ra=9.077425&dec=-63.43195&zoom=17&layer=unwise-w1w2&size=120\"></a></td><td>4708224208794242688<br><a href=\"http://legacysurvey.org/viewer?ra=10.03651642235256&dec=-64.4401872759402\"><img src=\"http://legacysurvey.org/viewer/jpeg-cutout/?ra=10.03652&dec=-64.44019&zoom=17&layer=unwise-w1w2&size=120\"></a></td><td>4708167927542912512<br><a href=\"http://legacysurvey.org/viewer?ra=8.208955612221263&dec=-65.0909921317974\"><img src=\"http://legacysurvey.org/viewer/jpeg-cutout/?ra=8.208956&dec=-65.09099&zoom=17&layer=unwise-w1w2&size=120\"></a></td><td>4900522367220988160<br><a href=\"http://legacysurvey.org/viewer?ra=6.896631955920951&dec=-64.302181462499\"><img src=\"http://legacysurvey.org/viewer/jpeg-cutout/?ra=6.896632&dec=-64.30218&zoom=17&layer=unwise-w1w2&size=120\"></a></td><td>4708465482876995712<br><a href=\"http://legacysurvey.org/viewer?ra=7.851189849367723&dec=-64.23193266846205\"><img src=\"http://legacysurvey.org/viewer/jpeg-cutout/?ra=7.85119&dec=-64.23193&zoom=17&layer=unwise-w1w2&size=120\"></a></td></tr>\n",
       "<tr><td>4900604074678797568<br><a href=\"http://legacysurvey.org/viewer?ra=6.448201997685635&dec=-63.890370170068664\"><img src=\"http://legacysurvey.org/viewer/jpeg-cutout/?ra=6.448202&dec=-63.89037&zoom=17&layer=unwise-w1w2&size=120\"></a></td><td>4708229500194002432<br><a href=\"http://legacysurvey.org/viewer?ra=9.9060906931771&dec=-64.34715553954207\"><img src=\"http://legacysurvey.org/viewer/jpeg-cutout/?ra=9.906091&dec=-64.34716&zoom=17&layer=unwise-w1w2&size=120\"></a></td><td>4708501148285313408<br><a href=\"http://legacysurvey.org/viewer?ra=9.079108297081058&dec=-63.81936861904196\"><img src=\"http://legacysurvey.org/viewer/jpeg-cutout/?ra=9.079108&dec=-63.81937&zoom=17&layer=unwise-w1w2&size=120\"></a></td><td>4900691520213008640<br><a href=\"http://legacysurvey.org/viewer?ra=7.867809685027833&dec=-63.69542515712831\"><img src=\"http://legacysurvey.org/viewer/jpeg-cutout/?ra=7.86781&dec=-63.69543&zoom=17&layer=unwise-w1w2&size=120\"></a></td><td>4708190914207846400<br><a href=\"http://legacysurvey.org/viewer?ra=9.119262509572541&dec=-64.76825433798864\"><img src=\"http://legacysurvey.org/viewer/jpeg-cutout/?ra=9.119263&dec=-64.76825&zoom=17&layer=unwise-w1w2&size=120\"></a></td><td>4708380064567371776<br><a href=\"http://legacysurvey.org/viewer?ra=8.470637360540357&dec=-64.65368859817954\"><img src=\"http://legacysurvey.org/viewer/jpeg-cutout/?ra=8.470637&dec=-64.65369&zoom=17&layer=unwise-w1w2&size=120\"></a></td></tr>\n",
       "<tr><td>4708404150743953408<br><a href=\"http://legacysurvey.org/viewer?ra=8.690145063278399&dec=-64.39625390386172\"><img src=\"http://legacysurvey.org/viewer/jpeg-cutout/?ra=8.690145&dec=-64.39625&zoom=17&layer=unwise-w1w2&size=120\"></a></td><td>4900660218491329408<br><a href=\"http://legacysurvey.org/viewer?ra=9.012105564314817&dec=-63.66084466076712\"><img src=\"http://legacysurvey.org/viewer/jpeg-cutout/?ra=9.012106&dec=-63.66084&zoom=17&layer=unwise-w1w2&size=120\"></a></td><td>4708436586336930432<br><a href=\"http://legacysurvey.org/viewer?ra=10.018712272072092&dec=-64.07068155470522\"><img src=\"http://legacysurvey.org/viewer/jpeg-cutout/?ra=10.01871&dec=-64.07068&zoom=17&layer=unwise-w1w2&size=120\"></a></td><td>4900635990579864704<br><a href=\"http://legacysurvey.org/viewer?ra=8.667625961171618&dec=-63.74441672254966\"><img src=\"http://legacysurvey.org/viewer/jpeg-cutout/?ra=8.667626&dec=-63.74442&zoom=17&layer=unwise-w1w2&size=120\"></a></td><td>4900806178659741056<br><a href=\"http://legacysurvey.org/viewer?ra=6.925155131954297&dec=-63.55819892123167\"><img src=\"http://legacysurvey.org/viewer/jpeg-cutout/?ra=6.925155&dec=-63.5582&zoom=17&layer=unwise-w1w2&size=120\"></a></td><td>4708270319563218688<br><a href=\"http://legacysurvey.org/viewer?ra=7.313595913358286&dec=-65.10439865931026\"><img src=\"http://legacysurvey.org/viewer/jpeg-cutout/?ra=7.313596&dec=-65.1044&zoom=17&layer=unwise-w1w2&size=120\"></a></td></tr>\n",
       "<tr><td>4708387967307187584<br><a href=\"http://legacysurvey.org/viewer?ra=8.774040611747196&dec=-64.49952626583692\"><img src=\"http://legacysurvey.org/viewer/jpeg-cutout/?ra=8.774041&dec=-64.49953&zoom=17&layer=unwise-w1w2&size=120\"></a></td><td>4708510459774392192<br><a href=\"http://legacysurvey.org/viewer?ra=9.452916009790387&dec=-63.63946937170289\"><img src=\"http://legacysurvey.org/viewer/jpeg-cutout/?ra=9.452916&dec=-63.63947&zoom=17&layer=unwise-w1w2&size=120\"></a></td><td>4900632451526689024<br><a href=\"http://legacysurvey.org/viewer?ra=8.564180720054093&dec=-63.83970952417216\"><img src=\"http://legacysurvey.org/viewer/jpeg-cutout/?ra=8.564181&dec=-63.83971&zoom=17&layer=unwise-w1w2&size=120\"></a></td><td>4708367660701955328<br><a href=\"http://legacysurvey.org/viewer?ra=7.544827376933118&dec=-64.36680119228869\"><img src=\"http://legacysurvey.org/viewer/jpeg-cutout/?ra=7.544827&dec=-64.3668&zoom=17&layer=unwise-w1w2&size=120\"></a></td><td>4900661695960072960<br><a href=\"http://legacysurvey.org/viewer?ra=9.007766444659497&dec=-63.5741634149591\"><img src=\"http://legacysurvey.org/viewer/jpeg-cutout/?ra=9.007766&dec=-63.57416&zoom=17&layer=unwise-w1w2&size=120\"></a></td><td>4900772506116151552<br><a href=\"http://legacysurvey.org/viewer?ra=6.267557969260614&dec=-63.83819847375966\"><img src=\"http://legacysurvey.org/viewer/jpeg-cutout/?ra=6.267558&dec=-63.8382&zoom=17&layer=unwise-w1w2&size=120\"></a></td></tr>\n",
       "    </table>\n",
       "    "
      ],
      "text/plain": [
       "<IPython.core.display.HTML object>"
      ]
     },
     "execution_count": 186,
     "metadata": {},
     "output_type": "execute_result"
    }
   ],
   "source": [
    "# only need to remove if something really fishy is going on\n",
    "make_decals_viewer_cutouts(guidestars[np.random.permutation(len(guidestars))[:24]], \n",
    "                           survey='unwise-w1w2',ncols=6,namecol='TargetName', zoom=17)"
   ]
  },
  {
   "cell_type": "code",
   "execution_count": 188,
   "metadata": {},
   "outputs": [
    {
     "data": {
      "text/html": [
       "\n",
       "    <table>\n",
       "    <tr><td>0<br><a href=\"http://legacysurvey.org/viewer?ra=7.989029437151122&dec=-64.94803712854879\"><img src=\"http://legacysurvey.org/viewer/jpeg-cutout/?ra=7.989029&dec=-64.94804&zoom=15&layer=des-dr1&size=120\"></a></td><td>1<br><a href=\"http://legacysurvey.org/viewer?ra=7.470981194852402&dec=-65.20269669708075\"><img src=\"http://legacysurvey.org/viewer/jpeg-cutout/?ra=7.470981&dec=-65.2027&zoom=15&layer=des-dr1&size=120\"></a></td><td>2<br><a href=\"http://legacysurvey.org/viewer?ra=8.152452606895395&dec=-65.00852795517221\"><img src=\"http://legacysurvey.org/viewer/jpeg-cutout/?ra=8.152453&dec=-65.00853&zoom=15&layer=des-dr1&size=120\"></a></td><td>3<br><a href=\"http://legacysurvey.org/viewer?ra=7.394637804606587&dec=-63.74254905794438\"><img src=\"http://legacysurvey.org/viewer/jpeg-cutout/?ra=7.394638&dec=-63.74255&zoom=15&layer=des-dr1&size=120\"></a></td><td>4<br><a href=\"http://legacysurvey.org/viewer?ra=7.368804889141954&dec=-64.82197587749809\"><img src=\"http://legacysurvey.org/viewer/jpeg-cutout/?ra=7.368805&dec=-64.82198&zoom=15&layer=des-dr1&size=120\"></a></td><td>5<br><a href=\"http://legacysurvey.org/viewer?ra=7.943470804415694&dec=-63.22755030973191\"><img src=\"http://legacysurvey.org/viewer/jpeg-cutout/?ra=7.943471&dec=-63.22755&zoom=15&layer=des-dr1&size=120\"></a></td><td>6<br><a href=\"http://legacysurvey.org/viewer?ra=7.262719772138817&dec=-63.746274776756046\"><img src=\"http://legacysurvey.org/viewer/jpeg-cutout/?ra=7.26272&dec=-63.74627&zoom=15&layer=des-dr1&size=120\"></a></td><td>7<br><a href=\"http://legacysurvey.org/viewer?ra=8.612017461922589&dec=-64.49852949734462\"><img src=\"http://legacysurvey.org/viewer/jpeg-cutout/?ra=8.612017&dec=-64.49853&zoom=15&layer=des-dr1&size=120\"></a></td></tr>\n",
       "<tr><td>8<br><a href=\"http://legacysurvey.org/viewer?ra=8.030004237553365&dec=-63.45976293612874\"><img src=\"http://legacysurvey.org/viewer/jpeg-cutout/?ra=8.030004&dec=-63.45976&zoom=15&layer=des-dr1&size=120\"></a></td><td>9<br><a href=\"http://legacysurvey.org/viewer?ra=7.705752502884177&dec=-65.02958759085847\"><img src=\"http://legacysurvey.org/viewer/jpeg-cutout/?ra=7.705753&dec=-65.02959&zoom=15&layer=des-dr1&size=120\"></a></td><td>10<br><a href=\"http://legacysurvey.org/viewer?ra=8.77516880556937&dec=-64.5929337413468\"><img src=\"http://legacysurvey.org/viewer/jpeg-cutout/?ra=8.775169&dec=-64.59293&zoom=15&layer=des-dr1&size=120\"></a></td><td>11<br><a href=\"http://legacysurvey.org/viewer?ra=8.152847382147714&dec=-65.06746809969728\"><img src=\"http://legacysurvey.org/viewer/jpeg-cutout/?ra=8.152847&dec=-65.06747&zoom=15&layer=des-dr1&size=120\"></a></td><td>12<br><a href=\"http://legacysurvey.org/viewer?ra=8.6713286034842&dec=-65.02423165427747\"><img src=\"http://legacysurvey.org/viewer/jpeg-cutout/?ra=8.671329&dec=-65.02423&zoom=15&layer=des-dr1&size=120\"></a></td><td>13<br><a href=\"http://legacysurvey.org/viewer?ra=7.420807164115408&dec=-63.85908364323309\"><img src=\"http://legacysurvey.org/viewer/jpeg-cutout/?ra=7.420807&dec=-63.85908&zoom=15&layer=des-dr1&size=120\"></a></td><td>14<br><a href=\"http://legacysurvey.org/viewer?ra=8.245982920239442&dec=-65.00170792225703\"><img src=\"http://legacysurvey.org/viewer/jpeg-cutout/?ra=8.245983&dec=-65.00171&zoom=15&layer=des-dr1&size=120\"></a></td><td>15<br><a href=\"http://legacysurvey.org/viewer?ra=8.112999592346045&dec=-65.09035569695354\"><img src=\"http://legacysurvey.org/viewer/jpeg-cutout/?ra=8.113&dec=-65.09036&zoom=15&layer=des-dr1&size=120\"></a></td></tr>\n",
       "<tr><td>16<br><a href=\"http://legacysurvey.org/viewer?ra=8.10301914165783&dec=-65.13623027002797\"><img src=\"http://legacysurvey.org/viewer/jpeg-cutout/?ra=8.103019&dec=-65.13623&zoom=15&layer=des-dr1&size=120\"></a></td><td>17<br><a href=\"http://legacysurvey.org/viewer?ra=7.453081582503874&dec=-65.11398261396596\"><img src=\"http://legacysurvey.org/viewer/jpeg-cutout/?ra=7.453082&dec=-65.11398&zoom=15&layer=des-dr1&size=120\"></a></td><td>18<br><a href=\"http://legacysurvey.org/viewer?ra=7.823634965859862&dec=-65.2824388704092\"><img src=\"http://legacysurvey.org/viewer/jpeg-cutout/?ra=7.823635&dec=-65.28244&zoom=15&layer=des-dr1&size=120\"></a></td><td>19<br><a href=\"http://legacysurvey.org/viewer?ra=8.572269393152158&dec=-63.5372730279069\"><img src=\"http://legacysurvey.org/viewer/jpeg-cutout/?ra=8.572269&dec=-63.53727&zoom=15&layer=des-dr1&size=120\"></a></td><td>20<br><a href=\"http://legacysurvey.org/viewer?ra=8.266263348499525&dec=-65.18184346613049\"><img src=\"http://legacysurvey.org/viewer/jpeg-cutout/?ra=8.266263&dec=-65.18184&zoom=15&layer=des-dr1&size=120\"></a></td><td>21<br><a href=\"http://legacysurvey.org/viewer?ra=7.679641015077776&dec=-64.74230681293402\"><img src=\"http://legacysurvey.org/viewer/jpeg-cutout/?ra=7.679641&dec=-64.74231&zoom=15&layer=des-dr1&size=120\"></a></td><td>22<br><a href=\"http://legacysurvey.org/viewer?ra=8.574904154188172&dec=-65.01220868290622\"><img src=\"http://legacysurvey.org/viewer/jpeg-cutout/?ra=8.574904&dec=-65.01221&zoom=15&layer=des-dr1&size=120\"></a></td><td>23<br><a href=\"http://legacysurvey.org/viewer?ra=8.610676996238436&dec=-64.73793807196898\"><img src=\"http://legacysurvey.org/viewer/jpeg-cutout/?ra=8.610677&dec=-64.73794&zoom=15&layer=des-dr1&size=120\"></a></td></tr>\n",
       "<tr><td>24<br><a href=\"http://legacysurvey.org/viewer?ra=7.984204817704078&dec=-65.19964926858141\"><img src=\"http://legacysurvey.org/viewer/jpeg-cutout/?ra=7.984205&dec=-65.19965&zoom=15&layer=des-dr1&size=120\"></a></td><td>25<br><a href=\"http://legacysurvey.org/viewer?ra=7.6191530201485&dec=-64.7872197579571\"><img src=\"http://legacysurvey.org/viewer/jpeg-cutout/?ra=7.619153&dec=-64.78722&zoom=15&layer=des-dr1&size=120\"></a></td><td>26<br><a href=\"http://legacysurvey.org/viewer?ra=7.5597526962824295&dec=-64.96926641248487\"><img src=\"http://legacysurvey.org/viewer/jpeg-cutout/?ra=7.559753&dec=-64.96927&zoom=15&layer=des-dr1&size=120\"></a></td><td>27<br><a href=\"http://legacysurvey.org/viewer?ra=8.16697150738302&dec=-65.1728737670706\"><img src=\"http://legacysurvey.org/viewer/jpeg-cutout/?ra=8.166972&dec=-65.17287&zoom=15&layer=des-dr1&size=120\"></a></td><td>28<br><a href=\"http://legacysurvey.org/viewer?ra=8.576663647067624&dec=-64.20527429812007\"><img src=\"http://legacysurvey.org/viewer/jpeg-cutout/?ra=8.576664&dec=-64.20527&zoom=15&layer=des-dr1&size=120\"></a></td><td>29<br><a href=\"http://legacysurvey.org/viewer?ra=8.317741655510064&dec=-65.1308114881608\"><img src=\"http://legacysurvey.org/viewer/jpeg-cutout/?ra=8.317742&dec=-65.13081&zoom=15&layer=des-dr1&size=120\"></a></td><td>30<br><a href=\"http://legacysurvey.org/viewer?ra=7.936665698095854&dec=-65.11929740188063\"><img src=\"http://legacysurvey.org/viewer/jpeg-cutout/?ra=7.936666&dec=-65.1193&zoom=15&layer=des-dr1&size=120\"></a></td><td>31<br><a href=\"http://legacysurvey.org/viewer?ra=7.993311539891478&dec=-63.227351503335875\"><img src=\"http://legacysurvey.org/viewer/jpeg-cutout/?ra=7.993312&dec=-63.22735&zoom=15&layer=des-dr1&size=120\"></a></td></tr>\n",
       "<tr><td>32<br><a href=\"http://legacysurvey.org/viewer?ra=7.6260982362459595&dec=-63.32936726649252\"><img src=\"http://legacysurvey.org/viewer/jpeg-cutout/?ra=7.626098&dec=-63.32937&zoom=15&layer=des-dr1&size=120\"></a></td><td>33<br><a href=\"http://legacysurvey.org/viewer?ra=7.508644371126523&dec=-64.25518512760877\"><img src=\"http://legacysurvey.org/viewer/jpeg-cutout/?ra=7.508644&dec=-64.25519&zoom=15&layer=des-dr1&size=120\"></a></td><td>34<br><a href=\"http://legacysurvey.org/viewer?ra=7.29988187647435&dec=-64.66990193223775\"><img src=\"http://legacysurvey.org/viewer/jpeg-cutout/?ra=7.299882&dec=-64.6699&zoom=15&layer=des-dr1&size=120\"></a></td><td>35<br><a href=\"http://legacysurvey.org/viewer?ra=8.296016786279386&dec=-65.02118412472899\"><img src=\"http://legacysurvey.org/viewer/jpeg-cutout/?ra=8.296017&dec=-65.02118&zoom=15&layer=des-dr1&size=120\"></a></td><td>36<br><a href=\"http://legacysurvey.org/viewer?ra=7.833706925426755&dec=-63.21928168336154\"><img src=\"http://legacysurvey.org/viewer/jpeg-cutout/?ra=7.833707&dec=-63.21928&zoom=15&layer=des-dr1&size=120\"></a></td><td>37<br><a href=\"http://legacysurvey.org/viewer?ra=8.289762947017017&dec=-63.8919560920807\"><img src=\"http://legacysurvey.org/viewer/jpeg-cutout/?ra=8.289763&dec=-63.89196&zoom=15&layer=des-dr1&size=120\"></a></td><td>38<br><a href=\"http://legacysurvey.org/viewer?ra=8.28510308247126&dec=-64.92651476361354\"><img src=\"http://legacysurvey.org/viewer/jpeg-cutout/?ra=8.285103&dec=-64.92651&zoom=15&layer=des-dr1&size=120\"></a></td><td>39<br><a href=\"http://legacysurvey.org/viewer?ra=7.284858859841419&dec=-65.07506958331938\"><img src=\"http://legacysurvey.org/viewer/jpeg-cutout/?ra=7.284859&dec=-65.07507&zoom=15&layer=des-dr1&size=120\"></a></td></tr>\n",
       "<tr><td>40<br><a href=\"http://legacysurvey.org/viewer?ra=7.869538700244537&dec=-63.599649825485436\"><img src=\"http://legacysurvey.org/viewer/jpeg-cutout/?ra=7.869539&dec=-63.59965&zoom=15&layer=des-dr1&size=120\"></a></td><td>41<br><a href=\"http://legacysurvey.org/viewer?ra=8.066033617987125&dec=-65.20896063990001\"><img src=\"http://legacysurvey.org/viewer/jpeg-cutout/?ra=8.066034&dec=-65.20896&zoom=15&layer=des-dr1&size=120\"></a></td><td>42<br><a href=\"http://legacysurvey.org/viewer?ra=7.495552607760154&dec=-63.43120993296104\"><img src=\"http://legacysurvey.org/viewer/jpeg-cutout/?ra=7.495553&dec=-63.43121&zoom=15&layer=des-dr1&size=120\"></a></td><td>43<br><a href=\"http://legacysurvey.org/viewer?ra=7.307050487212107&dec=-65.02768820703162\"><img src=\"http://legacysurvey.org/viewer/jpeg-cutout/?ra=7.30705&dec=-65.02769&zoom=15&layer=des-dr1&size=120\"></a></td><td>44<br><a href=\"http://legacysurvey.org/viewer?ra=7.2886665969168565&dec=-64.08306449620616\"><img src=\"http://legacysurvey.org/viewer/jpeg-cutout/?ra=7.288667&dec=-64.08306&zoom=15&layer=des-dr1&size=120\"></a></td><td>45<br><a href=\"http://legacysurvey.org/viewer?ra=8.356111158840996&dec=-63.489021740285956\"><img src=\"http://legacysurvey.org/viewer/jpeg-cutout/?ra=8.356111&dec=-63.48902&zoom=15&layer=des-dr1&size=120\"></a></td><td>46<br><a href=\"http://legacysurvey.org/viewer?ra=7.6493202626574135&dec=-65.25350483986657\"><img src=\"http://legacysurvey.org/viewer/jpeg-cutout/?ra=7.64932&dec=-65.2535&zoom=15&layer=des-dr1&size=120\"></a></td><td>47<br><a href=\"http://legacysurvey.org/viewer?ra=7.581355123682787&dec=-64.80816397196\"><img src=\"http://legacysurvey.org/viewer/jpeg-cutout/?ra=7.581355&dec=-64.80816&zoom=15&layer=des-dr1&size=120\"></a></td></tr>\n",
       "<tr><td>48<br><a href=\"http://legacysurvey.org/viewer?ra=8.82955097815402&dec=-64.39731572658941\"><img src=\"http://legacysurvey.org/viewer/jpeg-cutout/?ra=8.829551&dec=-64.39732&zoom=15&layer=des-dr1&size=120\"></a></td><td>49<br><a href=\"http://legacysurvey.org/viewer?ra=8.574748353678714&dec=-63.8496363141699\"><img src=\"http://legacysurvey.org/viewer/jpeg-cutout/?ra=8.574748&dec=-63.84964&zoom=15&layer=des-dr1&size=120\"></a></td><td>50<br><a href=\"http://legacysurvey.org/viewer?ra=8.451299600296771&dec=-65.07679216358967\"><img src=\"http://legacysurvey.org/viewer/jpeg-cutout/?ra=8.4513&dec=-65.07679&zoom=15&layer=des-dr1&size=120\"></a></td><td>51<br><a href=\"http://legacysurvey.org/viewer?ra=8.155395016063343&dec=-63.51430514228645\"><img src=\"http://legacysurvey.org/viewer/jpeg-cutout/?ra=8.155395&dec=-63.51431&zoom=15&layer=des-dr1&size=120\"></a></td><td>52<br><a href=\"http://legacysurvey.org/viewer?ra=8.652526178815112&dec=-64.82122781908188\"><img src=\"http://legacysurvey.org/viewer/jpeg-cutout/?ra=8.652526&dec=-64.82123&zoom=15&layer=des-dr1&size=120\"></a></td><td>53<br><a href=\"http://legacysurvey.org/viewer?ra=7.850605555717452&dec=-65.00900816387346\"><img src=\"http://legacysurvey.org/viewer/jpeg-cutout/?ra=7.850606&dec=-65.00901&zoom=15&layer=des-dr1&size=120\"></a></td><td>54<br><a href=\"http://legacysurvey.org/viewer?ra=8.74459915236079&dec=-64.9623857802389\"><img src=\"http://legacysurvey.org/viewer/jpeg-cutout/?ra=8.744599&dec=-64.96239&zoom=15&layer=des-dr1&size=120\"></a></td><td>55<br><a href=\"http://legacysurvey.org/viewer?ra=8.230906885895358&dec=-65.16605324470422\"><img src=\"http://legacysurvey.org/viewer/jpeg-cutout/?ra=8.230907&dec=-65.16605&zoom=15&layer=des-dr1&size=120\"></a></td></tr>\n",
       "<tr><td>56<br><a href=\"http://legacysurvey.org/viewer?ra=8.256991735709084&dec=-63.43702437167097\"><img src=\"http://legacysurvey.org/viewer/jpeg-cutout/?ra=8.256992&dec=-63.43702&zoom=15&layer=des-dr1&size=120\"></a></td><td>57<br><a href=\"http://legacysurvey.org/viewer?ra=8.193831484121015&dec=-63.238196296710754\"><img src=\"http://legacysurvey.org/viewer/jpeg-cutout/?ra=8.193831&dec=-63.2382&zoom=15&layer=des-dr1&size=120\"></a></td><td>58<br><a href=\"http://legacysurvey.org/viewer?ra=8.093184060070653&dec=-65.0552362066065\"><img src=\"http://legacysurvey.org/viewer/jpeg-cutout/?ra=8.093184&dec=-65.05524&zoom=15&layer=des-dr1&size=120\"></a></td><td>59<br><a href=\"http://legacysurvey.org/viewer?ra=8.282889233836132&dec=-65.28608175605835\"><img src=\"http://legacysurvey.org/viewer/jpeg-cutout/?ra=8.282889&dec=-65.28608&zoom=15&layer=des-dr1&size=120\"></a></td><td>60<br><a href=\"http://legacysurvey.org/viewer?ra=8.483896280515836&dec=-64.97415587186495\"><img src=\"http://legacysurvey.org/viewer/jpeg-cutout/?ra=8.483896&dec=-64.97416&zoom=15&layer=des-dr1&size=120\"></a></td><td>61<br><a href=\"http://legacysurvey.org/viewer?ra=7.860763144131141&dec=-63.19934044577061\"><img src=\"http://legacysurvey.org/viewer/jpeg-cutout/?ra=7.860763&dec=-63.19934&zoom=15&layer=des-dr1&size=120\"></a></td><td>62<br><a href=\"http://legacysurvey.org/viewer?ra=8.21798251709664&dec=-65.02640331144362\"><img src=\"http://legacysurvey.org/viewer/jpeg-cutout/?ra=8.217983&dec=-65.0264&zoom=15&layer=des-dr1&size=120\"></a></td><td>63<br><a href=\"http://legacysurvey.org/viewer?ra=7.22683768297141&dec=-63.83757302499312\"><img src=\"http://legacysurvey.org/viewer/jpeg-cutout/?ra=7.226838&dec=-63.83757&zoom=15&layer=des-dr1&size=120\"></a></td></tr>\n",
       "<tr><td>64<br><a href=\"http://legacysurvey.org/viewer?ra=8.049668218885373&dec=-63.25170454214679\"><img src=\"http://legacysurvey.org/viewer/jpeg-cutout/?ra=8.049668&dec=-63.2517&zoom=15&layer=des-dr1&size=120\"></a></td><td>65<br><a href=\"http://legacysurvey.org/viewer?ra=8.449041710081726&dec=-64.98968682189165\"><img src=\"http://legacysurvey.org/viewer/jpeg-cutout/?ra=8.449042&dec=-64.98969&zoom=15&layer=des-dr1&size=120\"></a></td><td>66<br><a href=\"http://legacysurvey.org/viewer?ra=8.191352595316118&dec=-63.84437357839828\"><img src=\"http://legacysurvey.org/viewer/jpeg-cutout/?ra=8.191353&dec=-63.84437&zoom=15&layer=des-dr1&size=120\"></a></td><td>67<br><a href=\"http://legacysurvey.org/viewer?ra=8.169898275101813&dec=-65.16965418654736\"><img src=\"http://legacysurvey.org/viewer/jpeg-cutout/?ra=8.169898&dec=-65.16965&zoom=15&layer=des-dr1&size=120\"></a></td><td>68<br><a href=\"http://legacysurvey.org/viewer?ra=8.313030670113038&dec=-64.95465469998543\"><img src=\"http://legacysurvey.org/viewer/jpeg-cutout/?ra=8.313031&dec=-64.95465&zoom=15&layer=des-dr1&size=120\"></a></td><td>69<br><a href=\"http://legacysurvey.org/viewer?ra=7.357459686717122&dec=-63.77021280173839\"><img src=\"http://legacysurvey.org/viewer/jpeg-cutout/?ra=7.35746&dec=-63.77021&zoom=15&layer=des-dr1&size=120\"></a></td><td>70<br><a href=\"http://legacysurvey.org/viewer?ra=8.260261846219432&dec=-63.402287289149946\"><img src=\"http://legacysurvey.org/viewer/jpeg-cutout/?ra=8.260262&dec=-63.40229&zoom=15&layer=des-dr1&size=120\"></a></td><td>71<br><a href=\"http://legacysurvey.org/viewer?ra=8.256959284657933&dec=-65.10084124597934\"><img src=\"http://legacysurvey.org/viewer/jpeg-cutout/?ra=8.256959&dec=-65.10084&zoom=15&layer=des-dr1&size=120\"></a></td></tr>\n",
       "<tr><td>72<br><a href=\"http://legacysurvey.org/viewer?ra=8.210185369369125&dec=-63.17876088131441\"><img src=\"http://legacysurvey.org/viewer/jpeg-cutout/?ra=8.210185&dec=-63.17876&zoom=15&layer=des-dr1&size=120\"></a></td><td>73<br><a href=\"http://legacysurvey.org/viewer?ra=8.61611672510398&dec=-64.78792128026555\"><img src=\"http://legacysurvey.org/viewer/jpeg-cutout/?ra=8.616117&dec=-64.78792&zoom=15&layer=des-dr1&size=120\"></a></td><td>74<br><a href=\"http://legacysurvey.org/viewer?ra=7.518645917345922&dec=-63.980296890533594\"><img src=\"http://legacysurvey.org/viewer/jpeg-cutout/?ra=7.518646&dec=-63.9803&zoom=15&layer=des-dr1&size=120\"></a></td><td>75<br><a href=\"http://legacysurvey.org/viewer?ra=8.064669050141958&dec=-65.11341765840938\"><img src=\"http://legacysurvey.org/viewer/jpeg-cutout/?ra=8.064669&dec=-65.11342&zoom=15&layer=des-dr1&size=120\"></a></td><td>76<br><a href=\"http://legacysurvey.org/viewer?ra=7.724270538105061&dec=-63.27832232132253\"><img src=\"http://legacysurvey.org/viewer/jpeg-cutout/?ra=7.724271&dec=-63.27832&zoom=15&layer=des-dr1&size=120\"></a></td><td>77<br><a href=\"http://legacysurvey.org/viewer?ra=8.58750349644535&dec=-64.7485573092775\"><img src=\"http://legacysurvey.org/viewer/jpeg-cutout/?ra=8.587503&dec=-64.74856&zoom=15&layer=des-dr1&size=120\"></a></td><td>78<br><a href=\"http://legacysurvey.org/viewer?ra=8.986929943787773&dec=-64.46563964612194\"><img src=\"http://legacysurvey.org/viewer/jpeg-cutout/?ra=8.98693&dec=-64.46564&zoom=15&layer=des-dr1&size=120\"></a></td><td>79<br><a href=\"http://legacysurvey.org/viewer?ra=8.07396080859279&dec=-63.226471080025966\"><img src=\"http://legacysurvey.org/viewer/jpeg-cutout/?ra=8.073961&dec=-63.22647&zoom=15&layer=des-dr1&size=120\"></a></td></tr>\n",
       "<tr><td>80<br><a href=\"http://legacysurvey.org/viewer?ra=8.789733132709738&dec=-64.63517812407503\"><img src=\"http://legacysurvey.org/viewer/jpeg-cutout/?ra=8.789733&dec=-64.63518&zoom=15&layer=des-dr1&size=120\"></a></td><td>81<br><a href=\"http://legacysurvey.org/viewer?ra=7.029885361602532&dec=-64.6701512064761\"><img src=\"http://legacysurvey.org/viewer/jpeg-cutout/?ra=7.029885&dec=-64.67015&zoom=15&layer=des-dr1&size=120\"></a></td><td>82<br><a href=\"http://legacysurvey.org/viewer?ra=8.57627347500712&dec=-63.47357946609104\"><img src=\"http://legacysurvey.org/viewer/jpeg-cutout/?ra=8.576273&dec=-63.47358&zoom=15&layer=des-dr1&size=120\"></a></td><td>83<br><a href=\"http://legacysurvey.org/viewer?ra=7.795193020081838&dec=-63.698155528293924\"><img src=\"http://legacysurvey.org/viewer/jpeg-cutout/?ra=7.795193&dec=-63.69816&zoom=15&layer=des-dr1&size=120\"></a></td><td>84<br><a href=\"http://legacysurvey.org/viewer?ra=8.171916883135491&dec=-63.60045582495927\"><img src=\"http://legacysurvey.org/viewer/jpeg-cutout/?ra=8.171917&dec=-63.60046&zoom=15&layer=des-dr1&size=120\"></a></td><td>85<br><a href=\"http://legacysurvey.org/viewer?ra=7.914481139729416&dec=-64.90932849338348\"><img src=\"http://legacysurvey.org/viewer/jpeg-cutout/?ra=7.914481&dec=-64.90933&zoom=15&layer=des-dr1&size=120\"></a></td><td>86<br><a href=\"http://legacysurvey.org/viewer?ra=7.234088679194514&dec=-63.85742620297249\"><img src=\"http://legacysurvey.org/viewer/jpeg-cutout/?ra=7.234089&dec=-63.85743&zoom=15&layer=des-dr1&size=120\"></a></td><td>87<br><a href=\"http://legacysurvey.org/viewer?ra=8.706698457176667&dec=-65.00531475676323\"><img src=\"http://legacysurvey.org/viewer/jpeg-cutout/?ra=8.706698&dec=-65.00531&zoom=15&layer=des-dr1&size=120\"></a></td></tr>\n",
       "<tr><td>88<br><a href=\"http://legacysurvey.org/viewer?ra=8.060174300405977&dec=-64.90469368029159\"><img src=\"http://legacysurvey.org/viewer/jpeg-cutout/?ra=8.060174&dec=-64.90469&zoom=15&layer=des-dr1&size=120\"></a></td><td>89<br><a href=\"http://legacysurvey.org/viewer?ra=8.49775119692366&dec=-64.51165764340169\"><img src=\"http://legacysurvey.org/viewer/jpeg-cutout/?ra=8.497751&dec=-64.51166&zoom=15&layer=des-dr1&size=120\"></a></td><td>90<br><a href=\"http://legacysurvey.org/viewer?ra=8.421434241387905&dec=-65.09634905773791\"><img src=\"http://legacysurvey.org/viewer/jpeg-cutout/?ra=8.421434&dec=-65.09635&zoom=15&layer=des-dr1&size=120\"></a></td><td>91<br><a href=\"http://legacysurvey.org/viewer?ra=7.875088795764798&dec=-65.03617315113166\"><img src=\"http://legacysurvey.org/viewer/jpeg-cutout/?ra=7.875089&dec=-65.03617&zoom=15&layer=des-dr1&size=120\"></a></td><td>92<br><a href=\"http://legacysurvey.org/viewer?ra=8.833345530908465&dec=-63.67000558520701\"><img src=\"http://legacysurvey.org/viewer/jpeg-cutout/?ra=8.833346&dec=-63.67001&zoom=15&layer=des-dr1&size=120\"></a></td><td>93<br><a href=\"http://legacysurvey.org/viewer?ra=7.677617867187211&dec=-64.93872035475137\"><img src=\"http://legacysurvey.org/viewer/jpeg-cutout/?ra=7.677618&dec=-64.93872&zoom=15&layer=des-dr1&size=120\"></a></td><td>94<br><a href=\"http://legacysurvey.org/viewer?ra=7.6281286406847695&dec=-63.51535134005344\"><img src=\"http://legacysurvey.org/viewer/jpeg-cutout/?ra=7.628129&dec=-63.51535&zoom=15&layer=des-dr1&size=120\"></a></td><td>95<br><a href=\"http://legacysurvey.org/viewer?ra=8.491887811350612&dec=-63.94181036143844\"><img src=\"http://legacysurvey.org/viewer/jpeg-cutout/?ra=8.491888&dec=-63.94181&zoom=15&layer=des-dr1&size=120\"></a></td></tr>\n",
       "<tr><td>96<br><a href=\"http://legacysurvey.org/viewer?ra=7.67719169917078&dec=-65.02267748745372\"><img src=\"http://legacysurvey.org/viewer/jpeg-cutout/?ra=7.677192&dec=-65.02268&zoom=15&layer=des-dr1&size=120\"></a></td><td>97<br><a href=\"http://legacysurvey.org/viewer?ra=7.9332872393544&dec=-65.27428963808194\"><img src=\"http://legacysurvey.org/viewer/jpeg-cutout/?ra=7.933287&dec=-65.27429&zoom=15&layer=des-dr1&size=120\"></a></td><td>98<br><a href=\"http://legacysurvey.org/viewer?ra=8.38059824361184&dec=-65.25924539546477\"><img src=\"http://legacysurvey.org/viewer/jpeg-cutout/?ra=8.380598&dec=-65.25925&zoom=15&layer=des-dr1&size=120\"></a></td><td>99<br><a href=\"http://legacysurvey.org/viewer?ra=8.065815956467837&dec=-64.82103636775733\"><img src=\"http://legacysurvey.org/viewer/jpeg-cutout/?ra=8.065816&dec=-64.82104&zoom=15&layer=des-dr1&size=120\"></a></td><td></td><td></td><td></td><td></td></tr>\n",
       "    </table>\n",
       "    "
      ],
      "text/plain": [
       "<IPython.core.display.HTML object>"
      ]
     },
     "execution_count": 188,
     "metadata": {},
     "output_type": "execute_result"
    }
   ],
   "source": [
    "# Not necessary due to des now being in the decals viewer\n",
    "#make_des_cutouts_file(acat[acat['Notes']=='sky'])\n",
    "#show_des_cutouts(acat[acat['Notes']=='sky'], <'JOBNAME'>, ncols=8, namecol='TargetName')\n",
    "make_decals_viewer_cutouts(acat[acat['Notes']=='sky'], survey='des-dr1', namecol='TargetName',\n",
    "                           ncols=8, zoom=15, size=120)"
   ]
  },
  {
   "cell_type": "code",
   "execution_count": 189,
   "metadata": {},
   "outputs": [
    {
     "data": {
      "text/plain": [
       "63"
      ]
     },
     "execution_count": 189,
     "metadata": {},
     "output_type": "execute_result"
    }
   ],
   "source": [
    "skys_to_rem = [int(i) for i in '1 5 9 11 15 16 18 20 22 24 27 29 35 41 43 50 54 55 58 59 60 61 62 65 67 69 71  75 76 77 79 90 91 93 96 97 98'.split()]\n",
    "writecat.remove_rows((writecat['Notes']=='Sky')&(np.in1d(writecat['TargetName'], skys_to_rem)))\n",
    "np.sum((writecat['Notes']=='Sky'))"
   ]
  },
  {
   "cell_type": "code",
   "execution_count": 190,
   "metadata": {},
   "outputs": [
    {
     "name": "stdout",
     "output_type": "stream",
     "text": [
      "Nflux: 5 Nguide: 100 NSky 63\n",
      "Targets in each priority: {1: 490, 2: 109, 3: 10, 4: 50, 5: 115, 6: 62, 7: 42, 8: 5}\n",
      "Total: 1051\n",
      "Writing aat_targets_oct2018/pgc1952_1.fld\n"
     ]
    },
    {
     "data": {
      "text/plain": [
       "883"
      ]
     },
     "execution_count": 190,
     "metadata": {},
     "output_type": "execute_result"
    }
   ],
   "source": [
    "subsampledcat = subsample_catalog(writecat, {1:np.inf}, maxflux=5, maxguides=100)\n",
    "\n",
    "fldfn = 'aat_targets_oct2018/{}_{}.fld'.format(hostname, fieldnum)\n",
    "print('Writing', fldfn)\n",
    "write_fld_file(subsampledcat, host, obs_start_date, fldfn, suffix='_{}'.format(fieldnum))\n",
    "np.sum(subsampledcat['Notes'] == 'Targets')"
   ]
  },
  {
   "cell_type": "code",
   "execution_count": 191,
   "metadata": {},
   "outputs": [
    {
     "name": "stdout",
     "output_type": "stream",
     "text": [
      "pgc1952_1.fld                                 100%   56KB  56.2KB/s   00:00    \n"
     ]
    }
   ],
   "source": [
    "!scp $fldfn visitor8@aatlxh:~/oct03/"
   ]
  },
  {
   "cell_type": "markdown",
   "metadata": {},
   "source": [
    "# Scratch/working space "
   ]
  },
  {
   "cell_type": "markdown",
   "metadata": {},
   "source": [
    "## Check fibers from list file (mostly for guidestar when on sky) "
   ]
  },
  {
   "cell_type": "code",
   "execution_count": 187,
   "metadata": {},
   "outputs": [],
   "source": [
    "lt, sc, _ = aat.load_lis_file('aat_targets_oct2018/nsa13927_1_p0.lis')\n",
    "lt['ra'] = sc.ra.deg\n",
    "lt['dec'] = sc.dec.deg"
   ]
  },
  {
   "cell_type": "code",
   "execution_count": 172,
   "metadata": {},
   "outputs": [
    {
     "data": {
      "text/html": [
       "<i>Table length=7</i>\n",
       "<table id=\"table114101419424\" class=\"table-striped table-bordered table-condensed\">\n",
       "<thead><tr><th>fibnums</th><th>ids</th><th>ras</th><th>decs</th><th>codes</th><th>pris</th><th>mags</th><th>comments</th><th>ra</th><th>dec</th></tr></thead>\n",
       "<thead><tr><th>int64</th><th>str19</th><th>str12</th><th>str12</th><th>str1</th><th>int64</th><th>float64</th><th>str7</th><th>float64</th><th>float64</th></tr></thead>\n",
       "<tr><td>50</td><td>1237651752400322581</td><td>12:05:30.220</td><td>+01:17:11.74</td><td>F</td><td>9</td><td>13.7</td><td>Guide</td><td>181.37591666666665</td><td>1.2865944444444444</td></tr>\n",
       "<tr><td>150</td><td>1237651735220191273</td><td>12:01:01.170</td><td>+01:36:51.22</td><td>F</td><td>9</td><td>12.73</td><td>Guide</td><td>180.254875</td><td>1.6142277777777778</td></tr>\n",
       "<tr><td>200</td><td>1237651735756996625</td><td>12:00:13.470</td><td>+01:57:34.90</td><td>F</td><td>9</td><td>13.37</td><td>Guide</td><td>180.05612499999998</td><td>1.9596944444444444</td></tr>\n",
       "<tr><td>250</td><td>1237651754010345584</td><td>12:00:27.590</td><td>+02:33:38.73</td><td>F</td><td>9</td><td>13.62</td><td>Guide</td><td>180.1149583333333</td><td>2.5607583333333332</td></tr>\n",
       "<tr><td>300</td><td>1237651736831000598</td><td>12:02:52.900</td><td>+02:45:30.57</td><td>F</td><td>9</td><td>13.29</td><td>Guide</td><td>180.72041666666664</td><td>2.7584916666666666</td></tr>\n",
       "<tr><td>350</td><td>1237651754010935313</td><td>12:05:18.440</td><td>+02:34:09.82</td><td>F</td><td>9</td><td>13.01</td><td>Guide</td><td>181.32683333333333</td><td>2.5693944444444443</td></tr>\n",
       "<tr><td>400</td><td>1237651735757651990</td><td>12:06:19.120</td><td>+01:55:08.36</td><td>F</td><td>9</td><td>13.91</td><td>Guide</td><td>181.57966666666664</td><td>1.9189888888888886</td></tr>\n",
       "</table>"
      ],
      "text/plain": [
       "<Table length=7>\n",
       "fibnums         ids         ...         ra                dec        \n",
       " int64         str19        ...      float64            float64      \n",
       "------- ------------------- ... ------------------ ------------------\n",
       "     50 1237651752400322581 ... 181.37591666666665 1.2865944444444444\n",
       "    150 1237651735220191273 ...         180.254875 1.6142277777777778\n",
       "    200 1237651735756996625 ... 180.05612499999998 1.9596944444444444\n",
       "    250 1237651754010345584 ...  180.1149583333333 2.5607583333333332\n",
       "    300 1237651736831000598 ... 180.72041666666664 2.7584916666666666\n",
       "    350 1237651754010935313 ... 181.32683333333333 2.5693944444444443\n",
       "    400 1237651735757651990 ... 181.57966666666664 1.9189888888888886"
      ]
     },
     "execution_count": 172,
     "metadata": {},
     "output_type": "execute_result"
    }
   ],
   "source": [
    "lt[lt['codes']=='F']"
   ]
  },
  {
   "cell_type": "code",
   "execution_count": 177,
   "metadata": {},
   "outputs": [
    {
     "data": {
      "text/html": [
       "\n",
       "    <table>\n",
       "    <tr><td>50<br><a href=\"http://legacysurvey.org/viewer?ra=181.37591666666665&dec=1.2865944444444444\"><img src=\"http://legacysurvey.org/viewer/jpeg-cutout/?ra=181.3759&dec=1.286594&zoom=15&layer=sdss&size=120\"></a></td><td>150<br><a href=\"http://legacysurvey.org/viewer?ra=180.254875&dec=1.6142277777777778\"><img src=\"http://legacysurvey.org/viewer/jpeg-cutout/?ra=180.2549&dec=1.614228&zoom=15&layer=sdss&size=120\"></a></td><td>200<br><a href=\"http://legacysurvey.org/viewer?ra=180.05612499999998&dec=1.9596944444444444\"><img src=\"http://legacysurvey.org/viewer/jpeg-cutout/?ra=180.0561&dec=1.959694&zoom=15&layer=sdss&size=120\"></a></td><td>250<br><a href=\"http://legacysurvey.org/viewer?ra=180.1149583333333&dec=2.5607583333333332\"><img src=\"http://legacysurvey.org/viewer/jpeg-cutout/?ra=180.115&dec=2.560758&zoom=15&layer=sdss&size=120\"></a></td></tr>\n",
       "<tr><td>300<br><a href=\"http://legacysurvey.org/viewer?ra=180.72041666666664&dec=2.7584916666666666\"><img src=\"http://legacysurvey.org/viewer/jpeg-cutout/?ra=180.7204&dec=2.758492&zoom=15&layer=sdss&size=120\"></a></td><td>350<br><a href=\"http://legacysurvey.org/viewer?ra=181.32683333333333&dec=2.5693944444444443\"><img src=\"http://legacysurvey.org/viewer/jpeg-cutout/?ra=181.3268&dec=2.569394&zoom=15&layer=sdss&size=120\"></a></td><td>400<br><a href=\"http://legacysurvey.org/viewer?ra=181.57966666666664&dec=1.9189888888888886\"><img src=\"http://legacysurvey.org/viewer/jpeg-cutout/?ra=181.5797&dec=1.918989&zoom=15&layer=sdss&size=120\"></a></td><td></td></tr>\n",
       "    </table>\n",
       "    "
      ],
      "text/plain": [
       "<IPython.core.display.HTML object>"
      ]
     },
     "execution_count": 177,
     "metadata": {},
     "output_type": "execute_result"
    }
   ],
   "source": [
    "make_decals_viewer_cutouts(lt[lt['codes']=='F'], 'sdss', namecol='fibnums', ncols=4)"
   ]
  },
  {
   "cell_type": "code",
   "execution_count": 176,
   "metadata": {},
   "outputs": [
    {
     "data": {
      "text/html": [
       "\n",
       "    <table>\n",
       "    <tr><td>13.7<br><a href=\"http://legacysurvey.org/viewer?ra=181.37591666666665&dec=1.2865944444444444\"><img src=\"http://legacysurvey.org/viewer/jpeg-cutout/?ra=181.3759&dec=1.286594&zoom=17&layer=unwise-w1w2&size=120\"></a></td><td>12.73<br><a href=\"http://legacysurvey.org/viewer?ra=180.254875&dec=1.6142277777777778\"><img src=\"http://legacysurvey.org/viewer/jpeg-cutout/?ra=180.2549&dec=1.614228&zoom=17&layer=unwise-w1w2&size=120\"></a></td><td>13.37<br><a href=\"http://legacysurvey.org/viewer?ra=180.05612499999998&dec=1.9596944444444444\"><img src=\"http://legacysurvey.org/viewer/jpeg-cutout/?ra=180.0561&dec=1.959694&zoom=17&layer=unwise-w1w2&size=120\"></a></td><td>13.62<br><a href=\"http://legacysurvey.org/viewer?ra=180.1149583333333&dec=2.5607583333333332\"><img src=\"http://legacysurvey.org/viewer/jpeg-cutout/?ra=180.115&dec=2.560758&zoom=17&layer=unwise-w1w2&size=120\"></a></td></tr>\n",
       "<tr><td>13.29<br><a href=\"http://legacysurvey.org/viewer?ra=180.72041666666664&dec=2.7584916666666666\"><img src=\"http://legacysurvey.org/viewer/jpeg-cutout/?ra=180.7204&dec=2.758492&zoom=17&layer=unwise-w1w2&size=120\"></a></td><td>13.01<br><a href=\"http://legacysurvey.org/viewer?ra=181.32683333333333&dec=2.5693944444444443\"><img src=\"http://legacysurvey.org/viewer/jpeg-cutout/?ra=181.3268&dec=2.569394&zoom=17&layer=unwise-w1w2&size=120\"></a></td><td>13.91<br><a href=\"http://legacysurvey.org/viewer?ra=181.57966666666664&dec=1.9189888888888886\"><img src=\"http://legacysurvey.org/viewer/jpeg-cutout/?ra=181.5797&dec=1.918989&zoom=17&layer=unwise-w1w2&size=120\"></a></td><td></td></tr>\n",
       "    </table>\n",
       "    "
      ],
      "text/plain": [
       "<IPython.core.display.HTML object>"
      ]
     },
     "execution_count": 176,
     "metadata": {},
     "output_type": "execute_result"
    }
   ],
   "source": [
    "make_decals_viewer_cutouts(lt[lt['codes']=='F'], 'unwise-w1w2', namecol='mags', ncols=4, zoom=17)"
   ]
  },
  {
   "cell_type": "markdown",
   "metadata": {},
   "source": [
    "### Double-check some of the targeting numbers "
   ]
  },
  {
   "cell_type": "code",
   "execution_count": 132,
   "metadata": {},
   "outputs": [
    {
     "name": "stdout",
     "output_type": "stream",
     "text": [
      "  name   bin_0to99 bin_99to149 bin_149to179 bin_179to199 bin_199to299 bin_299to399 bin_399to499 bin_499to599 bin_599to699 bin_699to799 bin_799to899 bin_899to999\n",
      "-------- --------- ----------- ------------ ------------ ------------ ------------ ------------ ------------ ------------ ------------ ------------ ------------\n",
      "pgc64427         0           2            0            6            1            3            3           49           31           75           92         2932\n",
      "pgc67663         0          11            0            0            7           76          138           50           22           82          558         1636\n"
     ]
    }
   ],
   "source": [
    "score_bins  = np.array([1, 100, 150, 180, 200, 300, 400, 500, 600, 700, 800, 900, 1000])-1\n",
    "\n",
    "count_tab = table.Table()\n",
    "count_tab.add_column(table.Column(name='name', dtype='U10'))\n",
    "for b1, b2 in zip(score_bins[:-1], score_bins[1:]):\n",
    "    count_tab.add_column(table.Column(name='bin_{}to{}'.format(b1, b2), dtype=int))\n",
    "\n",
    "for nm, cat in tcats.items():\n",
    "    nbins = np.histogram(cat['TARGETING_SCORE'], score_bins)[0]\n",
    "    count_tab.add_row([nm] + list(nbins))\n",
    "    \n",
    "count_tab.pprint(max_width=1000)"
   ]
  },
  {
   "cell_type": "code",
   "execution_count": null,
   "metadata": {},
   "outputs": [],
   "source": [
    "# in each bin\n",
    " host_id  100 150 180 200 300 400 500 600 700 800\n",
    "--------- --- --- --- --- --- --- --- --- --- ---\n",
    " pgc64427   2   0   7  28   5   7  48  36 182 128\n",
    " pgc67663  11   0   0 109 102 158  50  29 130 785"
   ]
  },
  {
   "cell_type": "markdown",
   "metadata": {},
   "source": [
    "# in each bin\n",
    " host_id  100 150 180 200 300 400 500 600 700 800\n",
    "--------- --- --- --- --- --- --- --- --- --- ---\n",
    "  pgc1952   5   1   0  48  63 118  50  10 128 503\n",
    "  pgc2052   8   0  22  29  50  67  48   9  23 756\n",
    "  pgc9747   8   1   0  34  62 182  50   6  44 783\n",
    " pgc10965   4   0   0  39  92 126  50  22  76 667\n",
    "nsa133355   6   1   0  61  90 124  50  30  96 620\n",
    " pgc64427   2   0   7  28   5   7  48  36 182 128\n",
    " pgc66934   2   1   1  12  11  22  50  28 159 224\n",
    " pgc67146   2   0   0  29  27  52  50  17 102 459\n",
    " pgc67663  11   0   0 109 102 158  50  29 130 785\n",
    " pgc67817   2   2   5  24   8  12  50  21  61 263\n",
    " pgc70094  17   2   1  27  75 227  50  18  81 948\n",
    " pgc71729   6   0   0  45  68 179  50  24 117 817"
   ]
  },
  {
   "cell_type": "code",
   "execution_count": 169,
   "metadata": {},
   "outputs": [
    {
     "data": {
      "text/plain": [
       "\u001b[0;31mSignature:\u001b[0m \u001b[0msaga\u001b[0m\u001b[0;34m.\u001b[0m\u001b[0mtargets\u001b[0m\u001b[0;34m.\u001b[0m\u001b[0massign_targeting_score_v2\u001b[0m\u001b[0;34m(\u001b[0m\u001b[0mbase\u001b[0m\u001b[0;34m,\u001b[0m \u001b[0mmanual_selected_objids\u001b[0m\u001b[0;34m=\u001b[0m\u001b[0;32mNone\u001b[0m\u001b[0;34m,\u001b[0m \u001b[0mgmm_parameters\u001b[0m\u001b[0;34m=\u001b[0m\u001b[0;32mNone\u001b[0m\u001b[0;34m,\u001b[0m \u001b[0mignore_specs\u001b[0m\u001b[0;34m=\u001b[0m\u001b[0;32mFalse\u001b[0m\u001b[0;34m,\u001b[0m \u001b[0mdebug\u001b[0m\u001b[0;34m=\u001b[0m\u001b[0;32mFalse\u001b[0m\u001b[0;34m,\u001b[0m \u001b[0mn_random\u001b[0m\u001b[0;34m=\u001b[0m\u001b[0;36m50\u001b[0m\u001b[0;34m,\u001b[0m \u001b[0mseed\u001b[0m\u001b[0;34m=\u001b[0m\u001b[0;36m123\u001b[0m\u001b[0;34m,\u001b[0m \u001b[0mremove_lists\u001b[0m\u001b[0;34m=\u001b[0m\u001b[0;32mNone\u001b[0m\u001b[0;34m,\u001b[0m \u001b[0mlow_priority_objids\u001b[0m\u001b[0;34m=\u001b[0m\u001b[0;32mNone\u001b[0m\u001b[0;34m,\u001b[0m \u001b[0;34m**\u001b[0m\u001b[0mkwargs\u001b[0m\u001b[0;34m)\u001b[0m\u001b[0;34m\u001b[0m\u001b[0m\n",
       "\u001b[0;31mDocstring:\u001b[0m\n",
       "Last updated: 09/05/2018\n",
       " 100 Human selection and Special targets\n",
       " 150 satellites without AAT/MMT specs\n",
       " 180 low-z (z < 0.05) but ZQUALITY = 2\n",
       " 200 within host,  r < 17.77, gri/grz cuts\n",
       " 291 within host,  r < 21, very low SB (applied to DES only)\n",
       " 300 within host,  r < 20.75, high p_GMM or GMM outliers, low SB, gri/grz cuts\n",
       " 400 within host,  r < 20.75, high-priority, low SB, gri/grz cuts\n",
       " 500 within host,  r < 20.75, gri/grz cuts, random selection of 50\n",
       " 600 very high p_GMM, low SB\n",
       " 700 outwith host, r < 17.77\n",
       " 800 within host,  r < 20.75, gri/grz cuts, everything else\n",
       " 900 outwith host, r < 20.75, gri/grz cuts\n",
       "1000 everything else\n",
       "1100 Not in gri/grz cut\n",
       "1200 Not galaxy\n",
       "1300 Not clean\n",
       "1350 Removed by hand\n",
       "1400 Has spec already\n",
       "\u001b[0;31mFile:\u001b[0m      ~/projects/saga/saga/build/lib/SAGA/targets/assign_targeting_score.py\n",
       "\u001b[0;31mType:\u001b[0m      function\n"
      ]
     },
     "metadata": {},
     "output_type": "display_data"
    }
   ],
   "source": [
    "saga.targets.assign_targeting_score_v2?"
   ]
  },
  {
   "cell_type": "code",
   "execution_count": 178,
   "metadata": {},
   "outputs": [],
   "source": [
    "tcat = saga_targets.build_target_catalogs(hostname, return_as='list', reload_base=True).pop()\n",
    "tcats[hostname + '_2'] = tcat"
   ]
  },
  {
   "cell_type": "code",
   "execution_count": 182,
   "metadata": {},
   "outputs": [
    {
     "name": "stdout",
     "output_type": "stream",
     "text": [
      "   name    bin_0to99 bin_99to149 bin_149to179 bin_179to199 bin_199to299 bin_299to399 bin_399to499 bin_499to599 bin_599to699 bin_699to799 bin_799to899 bin_899to999\n",
      "---------- --------- ----------- ------------ ------------ ------------ ------------ ------------ ------------ ------------ ------------ ------------ ------------\n",
      "  pgc64427         0           2            0            6            1            3            3           49           31           75           92         2932\n",
      "  pgc67663         0          11            0            0            7           76          138           50           22           82          558         1636\n",
      "pgc67663_2         0          11            0            0          109          102          158           50           29          130          785         1799\n"
     ]
    }
   ],
   "source": [
    "score_bins  = np.array([1, 100, 150, 180, 200, 300, 400, 500, 600, 700, 800, 900, 1000])-1\n",
    "\n",
    "count_tab = table.Table()\n",
    "count_tab.add_column(table.Column(name='name', dtype='U10'))\n",
    "for b1, b2 in zip(score_bins[:-1], score_bins[1:]):\n",
    "    count_tab.add_column(table.Column(name='bin_{}to{}'.format(b1, b2), dtype=int))\n",
    "\n",
    "for nm, cat in tcats.items():\n",
    "    nbins = np.histogram(cat['TARGETING_SCORE'], score_bins)[0]\n",
    "    count_tab.add_row([nm] + list(nbins))\n",
    "    \n",
    "count_tab.pprint(max_width=1000)"
   ]
  }
 ],
 "metadata": {
  "kernelspec": {
   "display_name": "Python (saga3)",
   "language": "python",
   "name": "saga3"
  },
  "language_info": {
   "codemirror_mode": {
    "name": "ipython",
    "version": 3
   },
   "file_extension": ".py",
   "mimetype": "text/x-python",
   "name": "python",
   "nbconvert_exporter": "python",
   "pygments_lexer": "ipython3",
   "version": "3.6.1"
  }
 },
 "nbformat": 4,
 "nbformat_minor": 2
}
