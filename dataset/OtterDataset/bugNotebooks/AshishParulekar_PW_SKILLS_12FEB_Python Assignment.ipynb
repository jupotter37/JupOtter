{
 "cells": [
  {
   "cell_type": "code",
   "execution_count": null,
   "id": "020e3b0a-ec61-438a-8d9e-ec732e1a5c9f",
   "metadata": {},
   "outputs": [],
   "source": [
    "NAME :ASHISH PARULEKR\n",
    "MOB: 8149717616\n",
    "\n",
    "*** Please let me know if there is any improvement  ***"
   ]
  },
  {
   "cell_type": "code",
   "execution_count": null,
   "id": "c8b1866b-8208-4143-aa48-ec9d8772aec5",
   "metadata": {},
   "outputs": [],
   "source": [
    "Q1. What is an Exception in python? Write the difference between Exceptions and $syntax errors"
   ]
  },
  {
   "cell_type": "code",
   "execution_count": null,
   "id": "6fe14ac3-da84-4f2b-a907-33a8562a0d2a",
   "metadata": {},
   "outputs": [],
   "source": [
    "      an Exception is an error that happens during the execution of a program. Whenever there is an error,\n",
    "Python generates an exception that could be handled. It basically prevents the program from getting crashed."
   ]
  },
  {
   "cell_type": "code",
   "execution_count": null,
   "id": "e181e101-840a-4726-9d18-b3b7a74e29ac",
   "metadata": {},
   "outputs": [],
   "source": [
    "Syntax Error:\n",
    "            A syntax error occurs when the structure of a program does not conform to the rules of  the \n",
    "        programming language. Syntax errors are usually detected by the compiler or interpreter when the \n",
    "        program is being compiled or executed, and they prevent the program from running. \n",
    "        Syntax errors are usually caused by mistakes in the source code, such as typos, omissions, \n",
    "        or incorrect use of syntax"
   ]
  },
  {
   "cell_type": "code",
   "execution_count": null,
   "id": "2304209c-04e1-45d8-b2e6-0ddb90aad370",
   "metadata": {},
   "outputs": [],
   "source": [
    "Exceptions :\n",
    "             An exception is an abnormal event that occurs during the execution of a program. \n",
    "        Exceptions are usually caused by runtime errors, such as dividing by zero, trying to access an \n",
    "        element in an array with an out-of-bounds index, or trying to access a file that does not exist. \n",
    "        Exceptions are not syntax errors, but they can still prevent the program from running \n",
    "        if they are not handled properly"
   ]
  },
  {
   "cell_type": "code",
   "execution_count": null,
   "id": "4c380b72-6905-45e0-b714-7895a49abcb0",
   "metadata": {},
   "outputs": [],
   "source": [
    "Q2. What happens when exception is not handled? Explain with n example"
   ]
  },
  {
   "cell_type": "code",
   "execution_count": 4,
   "id": "c8e082c8-f7ab-45db-a11b-208c4e8c9122",
   "metadata": {},
   "outputs": [
    {
     "ename": "FileNotFoundError",
     "evalue": "[Errno 2] No such file or directory: 'test.txt'",
     "output_type": "error",
     "traceback": [
      "\u001b[0;31m---------------------------------------------------------------------------\u001b[0m",
      "\u001b[0;31mFileNotFoundError\u001b[0m                         Traceback (most recent call last)",
      "Cell \u001b[0;32mIn[4], line 2\u001b[0m\n\u001b[1;32m      1\u001b[0m \u001b[38;5;66;03m# without handling exception \u001b[39;00m\n\u001b[0;32m----> 2\u001b[0m file\u001b[38;5;241m=\u001b[39m\u001b[38;5;28;43mopen\u001b[39;49m\u001b[43m(\u001b[49m\u001b[38;5;124;43m'\u001b[39;49m\u001b[38;5;124;43mtest.txt\u001b[39;49m\u001b[38;5;124;43m'\u001b[39;49m\u001b[43m,\u001b[49m\u001b[38;5;124;43m'\u001b[39;49m\u001b[38;5;124;43mr\u001b[39;49m\u001b[38;5;124;43m'\u001b[39;49m\u001b[43m)\u001b[49m\n\u001b[1;32m      3\u001b[0m file\u001b[38;5;241m.\u001b[39mread()\n",
      "File \u001b[0;32m/opt/conda/lib/python3.10/site-packages/IPython/core/interactiveshell.py:282\u001b[0m, in \u001b[0;36m_modified_open\u001b[0;34m(file, *args, **kwargs)\u001b[0m\n\u001b[1;32m    275\u001b[0m \u001b[38;5;28;01mif\u001b[39;00m file \u001b[38;5;129;01min\u001b[39;00m {\u001b[38;5;241m0\u001b[39m, \u001b[38;5;241m1\u001b[39m, \u001b[38;5;241m2\u001b[39m}:\n\u001b[1;32m    276\u001b[0m     \u001b[38;5;28;01mraise\u001b[39;00m \u001b[38;5;167;01mValueError\u001b[39;00m(\n\u001b[1;32m    277\u001b[0m         \u001b[38;5;124mf\u001b[39m\u001b[38;5;124m\"\u001b[39m\u001b[38;5;124mIPython won\u001b[39m\u001b[38;5;124m'\u001b[39m\u001b[38;5;124mt let you open fd=\u001b[39m\u001b[38;5;132;01m{\u001b[39;00mfile\u001b[38;5;132;01m}\u001b[39;00m\u001b[38;5;124m by default \u001b[39m\u001b[38;5;124m\"\u001b[39m\n\u001b[1;32m    278\u001b[0m         \u001b[38;5;124m\"\u001b[39m\u001b[38;5;124mas it is likely to crash IPython. If you know what you are doing, \u001b[39m\u001b[38;5;124m\"\u001b[39m\n\u001b[1;32m    279\u001b[0m         \u001b[38;5;124m\"\u001b[39m\u001b[38;5;124myou can use builtins\u001b[39m\u001b[38;5;124m'\u001b[39m\u001b[38;5;124m open.\u001b[39m\u001b[38;5;124m\"\u001b[39m\n\u001b[1;32m    280\u001b[0m     )\n\u001b[0;32m--> 282\u001b[0m \u001b[38;5;28;01mreturn\u001b[39;00m \u001b[43mio_open\u001b[49m\u001b[43m(\u001b[49m\u001b[43mfile\u001b[49m\u001b[43m,\u001b[49m\u001b[43m \u001b[49m\u001b[38;5;241;43m*\u001b[39;49m\u001b[43margs\u001b[49m\u001b[43m,\u001b[49m\u001b[43m \u001b[49m\u001b[38;5;241;43m*\u001b[39;49m\u001b[38;5;241;43m*\u001b[39;49m\u001b[43mkwargs\u001b[49m\u001b[43m)\u001b[49m\n",
      "\u001b[0;31mFileNotFoundError\u001b[0m: [Errno 2] No such file or directory: 'test.txt'"
     ]
    }
   ],
   "source": [
    "# without handling exception \n",
    "file=open('test.txt','r')\n",
    "file.read()"
   ]
  },
  {
   "cell_type": "code",
   "execution_count": 5,
   "id": "4c34d477-3334-4e29-ba70-5c8344d3c287",
   "metadata": {},
   "outputs": [
    {
     "name": "stdout",
     "output_type": "stream",
     "text": [
      "[Errno 2] No such file or directory: 'test.txt'\n"
     ]
    }
   ],
   "source": [
    "# handling with exception \n",
    "try:\n",
    "    file=open('test.txt','r')\n",
    "    file.read()\n",
    "except Exception as e:\n",
    "    print(e)\n"
   ]
  },
  {
   "cell_type": "code",
   "execution_count": null,
   "id": "b2e64419-669e-42d8-a495-370282b6f03b",
   "metadata": {},
   "outputs": [],
   "source": [
    "Q3. Which Python statements are used to catch and handle exceptions? Explain with an example"
   ]
  },
  {
   "cell_type": "code",
   "execution_count": null,
   "id": "c4aacf01-8685-46c0-9bb8-91f83aeef8d5",
   "metadata": {},
   "outputs": [],
   "source": [
    "try statemnt is used to handle the exception \n",
    "except statement is used to catch the exception \n"
   ]
  },
  {
   "cell_type": "code",
   "execution_count": 20,
   "id": "f1de493f-03f4-4f50-a775-be917e8c4940",
   "metadata": {},
   "outputs": [
    {
     "name": "stdin",
     "output_type": "stream",
     "text": [
      "Enter your salary -865879/9\n"
     ]
    },
    {
     "name": "stdout",
     "output_type": "stream",
     "text": [
      "invalid literal for int() with base 10: '-865879/9'\n"
     ]
    }
   ],
   "source": [
    "try:\n",
    "    salary=int(input('Enter your salary'))\n",
    "    salary_in(salary)\n",
    "except Exception as e:\n",
    "    print(e)\n",
    "    "
   ]
  },
  {
   "cell_type": "code",
   "execution_count": 18,
   "id": "32e6adc6-743a-4888-9451-04c984070766",
   "metadata": {},
   "outputs": [],
   "source": [
    "def salary_in(sal):\n",
    "    if sal >150000:\n",
    "        raise Exception('you have Entered more salary')\n",
    "    elif sal<0:\n",
    "        raise Exception ('you have Entered less salary')\n",
    "    else:\n",
    "        ('Entered salary is correct')       "
   ]
  },
  {
   "cell_type": "code",
   "execution_count": null,
   "id": "1f616779-bc4d-4878-80b8-86aca3ef0df9",
   "metadata": {},
   "outputs": [],
   "source": [
    "Q4. Explain withan example:\n",
    "    try and else\n",
    "    finally\n",
    "    raise"
   ]
  },
  {
   "cell_type": "code",
   "execution_count": 34,
   "id": "2b40baf1-5d17-4b61-8e89-89c452fc0e88",
   "metadata": {},
   "outputs": [
    {
     "name": "stdin",
     "output_type": "stream",
     "text": [
      "ENTER FIRST VALUE 5666\n",
      "ENTER SECOND VALUE 954661\n"
     ]
    },
    {
     "name": "stdout",
     "output_type": "stream",
     "text": [
      "addition= 960327\n",
      "Exceptional Handling Done\n"
     ]
    }
   ],
   "source": [
    "try:\n",
    "    a=input('ENTER FIRST VALUE')\n",
    "    b=input('ENTER SECOND VALUE')\n",
    "    num(a,b)  \n",
    "except Exception as e:\n",
    "    print(e)\n",
    "else:\n",
    "     ('Entered salary is correct')\n",
    "finally:\n",
    "    print('addition=',int(a)+int(b))\n",
    "    print('Exceptional Handling Done')       "
   ]
  },
  {
   "cell_type": "code",
   "execution_count": 31,
   "id": "60fbbc8d-be3f-41ca-b1aa-e917b8ed7260",
   "metadata": {},
   "outputs": [],
   "source": [
    "def num(a,b):\n",
    "    if (not(a.isdigit()))and (not(b.isdigit())):\n",
    "        raise Exception('you have Entered more salary')"
   ]
  },
  {
   "cell_type": "code",
   "execution_count": null,
   "id": "402bb0ba-3468-44ff-b025-71af2d3f9295",
   "metadata": {},
   "outputs": [],
   "source": [
    "Q5. What are Custom Exceptions in python? Why do we need Custom Exceptions? Explain with an example"
   ]
  },
  {
   "cell_type": "code",
   "execution_count": null,
   "id": "319d8275-310a-43e0-a537-29fac64afb81",
   "metadata": {},
   "outputs": [],
   "source": [
    "if define the exception manually that is called Custom Exception\n",
    "\n",
    "Need of Custom exception:\n",
    "    \n",
    "    1) Custom exceptions help developer determine what exceptions to be thrown as per the business \n",
    "       requirement when they are writing the business logic. Thus, it ensures the proper exception \n",
    "       handling without a miss if done religiously\n",
    "    \n",
    "    2) Provides good code readbility \n",
    "    \n",
    "    3)Custom exceptions also help a great deal in debugging the code. Take an instance where you are going \n",
    "      throw the log file and came across the exceptionThe support IT staff could find it easier to locate \n",
    "      who to contact in order to have the problem fixed\n",
    "\n"
   ]
  },
  {
   "cell_type": "code",
   "execution_count": 2,
   "id": "bbc81855-cc0e-47d6-b955-4d9059a1ea21",
   "metadata": {},
   "outputs": [],
   "source": [
    "import logging"
   ]
  },
  {
   "cell_type": "code",
   "execution_count": 4,
   "id": "715c2d3b-f44a-4671-9c56-1a4757613626",
   "metadata": {},
   "outputs": [],
   "source": [
    "logging.basicConfig(filename='logfile.log',level=logging.info)"
   ]
  },
  {
   "cell_type": "code",
   "execution_count": 11,
   "id": "6dae3443-7a7f-41ec-a216-512f806f6ffd",
   "metadata": {},
   "outputs": [
    {
     "name": "stdin",
     "output_type": "stream",
     "text": [
      "ENTER FIRST VALUE 684645\n",
      "ENTER SECOND VALUE 0515\n"
     ]
    }
   ],
   "source": [
    "try:\n",
    "    a=input('ENTER FIRST VALUE')\n",
    "    b=input('ENTER SECOND VALUE')\n",
    "    logging.info('Values Entered')\n",
    "    num(a,b)\n",
    "    'addition=',int(a)+int(b)\n",
    "except Exception as e:\n",
    "    \n",
    "    logging.info(e) \n",
    "    logging.info('Exception Handled sucessfully')\n",
    "else:\n",
    "      logging.info('Entered salary is correct')\n",
    "finally:\n",
    "    logging.info('Code execution Done')   "
   ]
  },
  {
   "cell_type": "code",
   "execution_count": 10,
   "id": "7c4be124-f400-4e70-aa58-9aba6ca4ce4c",
   "metadata": {},
   "outputs": [],
   "source": [
    "def num(a,b):\n",
    "    logging.info('Exception criteria checking')\n",
    "    if (not(a.isdigit()))and (not(b.isdigit())):\n",
    "        raise Exception('you have Entered more salary')\n"
   ]
  },
  {
   "cell_type": "code",
   "execution_count": null,
   "id": "0ba49930-f2f4-48e0-9ad1-456629283109",
   "metadata": {},
   "outputs": [],
   "source": [
    "Q6. Create custom exception class. Use this class to handlean exception."
   ]
  },
  {
   "cell_type": "code",
   "execution_count": 12,
   "id": "be761530-6e05-4c53-998d-07edec647ba9",
   "metadata": {},
   "outputs": [],
   "source": [
    "#exception Class\n",
    "class val_sal(Exception):\n",
    "    def __init__(self,msg):\n",
    "        self.msg=msg"
   ]
  },
  {
   "cell_type": "code",
   "execution_count": 13,
   "id": "b6e65783-0e82-472e-80a8-1e449180344d",
   "metadata": {},
   "outputs": [],
   "source": [
    "#custom exception\n",
    "def salary_in(sal):\n",
    "    if sal >150000:\n",
    "        raise val_sal('you have Entered more salary')\n",
    "    elif sal<0:\n",
    "        raise val_sal('you have Entered less salary')\n",
    "    else:\n",
    "        ('Entered salary is correct') "
   ]
  },
  {
   "cell_type": "code",
   "execution_count": 14,
   "id": "493f92b4-741a-4c92-a915-6f7d7bb306df",
   "metadata": {},
   "outputs": [
    {
     "name": "stdin",
     "output_type": "stream",
     "text": [
      "Enter your salary 548665651151616\n"
     ]
    },
    {
     "name": "stdout",
     "output_type": "stream",
     "text": [
      "you have Entered more salary\n"
     ]
    }
   ],
   "source": [
    "try:\n",
    "    salary=int(input('Enter your salary'))\n",
    "    salary_in(salary)\n",
    "except Exception as e:\n",
    "    print(e)"
   ]
  },
  {
   "cell_type": "code",
   "execution_count": null,
   "id": "fb7353de-1437-417d-8a6e-2d9996264c40",
   "metadata": {},
   "outputs": [],
   "source": [
    "END"
   ]
  }
 ],
 "metadata": {
  "kernelspec": {
   "display_name": "Python 3 (ipykernel)",
   "language": "python",
   "name": "python3"
  },
  "language_info": {
   "codemirror_mode": {
    "name": "ipython",
    "version": 3
   },
   "file_extension": ".py",
   "mimetype": "text/x-python",
   "name": "python",
   "nbconvert_exporter": "python",
   "pygments_lexer": "ipython3",
   "version": "3.10.8"
  }
 },
 "nbformat": 4,
 "nbformat_minor": 5
}
