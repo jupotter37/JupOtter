{
 "cells": [
  {
   "cell_type": "markdown",
   "metadata": {},
   "source": [
    "# Phys 260: Python assignment header\n",
    "\n",
    "### (1) Fill out the cell below.  \n",
    "The cell below is a **code cell**.  Fill out your University of Michigan uniqname, then your name, and collaborators in the cell below **inside the quotes**.  \n",
    "\n",
    "**Do not delete the quotes.**  We will use this information to organize your assignments.  To edit and execute cells, double click inside the cell, type, and press \\<shift\\>+\\<enter\\> to execute."
   ]
  },
  {
   "cell_type": "code",
   "execution_count": null,
   "metadata": {},
   "outputs": [],
   "source": [
    "UNIQNAME = \"\"\n",
    "NAME = \"\"\n",
    "COLLABORATORS = \"\""
   ]
  },
  {
   "cell_type": "markdown",
   "metadata": {},
   "source": [
    "### (2) Check your python version.  \n",
    "**Execute the cell below** (double click in the cell and press \\<shift\\>+\\<enter\\>, or click in the cell and press the Run button) to check that you are using a version of python that is compatible with the tool we are using to grade your assignments.  If your ```IPython``` version is too old, we will *not* be able to grade your assignments."
   ]
  },
  {
   "cell_type": "code",
   "execution_count": null,
   "metadata": {},
   "outputs": [],
   "source": [
    "import IPython\n",
    "assert IPython.version_info[0] >= 3, \"Your version of IPython is too old, please update it.\""
   ]
  },
  {
   "cell_type": "markdown",
   "metadata": {},
   "source": [
    "### (3) Do your best to answer all questions in the assignment.  \n",
    "To answer questions, **replace** anything that says either\n",
    "- \"YOUR ANSWER HERE\" \n",
    "- \n",
    "```\n",
    "YOUR CODE HERE\n",
    "raise NotImplementedError\n",
    "``` \n",
    "\n",
    "with your answer/code.  Cells with either of the two bullet points above are cells of the notebook that will be graded.\n",
    "\n",
    "**To edit markdown** cells (e.g. this one),  *double click in the cell to type*.  Press \\<shift\\>+\\<enter\\> to execute the cell.  Try editing the text below to replace the with your information:  \n",
    "\n",
    "[first name] [last name], uniqname\n"
   ]
  },
  {
   "cell_type": "markdown",
   "metadata": {},
   "source": [
    "### (4) Make sure your notebook runs sequentially.\n",
    "After you complete this assignment, make sure everything runs as expected. First, **restart the kernel** (in the menubar, select Kernel$\\rightarrow$Restart) and then **run all cells** (in the menubar, select Cell$\\rightarrow$Run All)."
   ]
  },
  {
   "cell_type": "code",
   "execution_count": null,
   "metadata": {},
   "outputs": [],
   "source": []
  },
  {
   "cell_type": "markdown",
   "metadata": {},
   "source": [
    "# Introduction -- Reminder\n",
    "\n",
    "HW Due Tuesday at Noon via gradescope.\n",
    "\n",
    "When we grade your homework, we will not run your code. Once submitted, your notebook should have the outputs for all of your results.  Please do not include long outputs from debugging, beyond a few print statements and the requested visualizations (i.e. plots).\n",
    "\n",
    "**Grading:**  We will be using [nbgrader](https://nbgrader.readthedocs.io/en/stable/) to grade your notebooks.  **Note:** If your ```IPython``` version is too old, we will *not* be able to grade your assignments.\n"
   ]
  },
  {
   "cell_type": "markdown",
   "metadata": {},
   "source": [
    "# Phys 260 Python Tutorial/HW 9: Alternating Current Circuit  (30 points total)\n",
    "\n",
    "## Tutorial Summary\n",
    "- Maybe a brief LTSpice demo?\n",
    "- Brief review of the RL Circuit model \n",
    "- Implementing an oscillating voltage"
   ]
  },
  {
   "cell_type": "code",
   "execution_count": 1,
   "metadata": {},
   "outputs": [],
   "source": [
    "import numpy as np\n",
    "from matplotlib import pyplot as plt"
   ]
  },
  {
   "cell_type": "markdown",
   "metadata": {},
   "source": [
    "## An alternating-current (AC) circuit\n",
    "\n",
    "In the the last HW, we considered a constant voltage source.  The same code can accommodate a situation where the current is changing in time due to varying the voltage of the battery.  In the update step, we can additionally update the voltage of the battery at each time step along with the other values in the circuit. We will replace the battery from the preflight with a generator that produces a sinusoidal voltage,\n",
    "$$\n",
    "            V = V_0\\sin\\omega t.\n",
    "$$\n",
    "\n",
    "<img src=\"http://www-personal.umich.edu/~gerdes/img/LR_AC.jpg\">\n",
    "\n",
    "Note, there are two different timescales in the problem: the characteristic time of the $RL$ circuit $\\tau = L/R$, and the period of the generator, $T=2\\pi/\\omega$. For this tutorial/hw, we will hold $\\tau$ fixed and investigate what happens as we change $\\omega$, varying $\\omega$ proportional to $1/\\tau$."
   ]
  },
  {
   "cell_type": "markdown",
   "metadata": {},
   "source": [
    "### Think through the code changes\n",
    "\n",
    "(5 min -- 4 points):  \n",
    "Before diving in, Let's make a list of changes we need to make to the RL code we programmed last week to accomodate a time varying AC Voltage generator rather than a DC battery.\n",
    "\n",
    "1. What new attributes do we need to include in the `__init__` function?\n",
    "\n",
    "2. What new `_now` and `_vals` lists do we need to add to `__init__` and `_set_now_values`\n",
    "\n",
    "3. What equation(s) should we use to set/update the new variables?\n",
    "\n",
    "4. Do we need to make an changes to our existing equations of motion or Euler's method?"
   ]
  },
  {
   "cell_type": "markdown",
   "metadata": {
    "deletable": false,
    "nbgrader": {
     "cell_type": "markdown",
     "checksum": "e6d9815d773c53cd13bc65950e95579f",
     "grade": true,
     "grade_id": "AC_Code_Changes",
     "locked": false,
     "points": 6,
     "schema_version": 3,
     "solution": true,
     "task": false
    }
   },
   "source": [
    "YOUR ANSWER HERE"
   ]
  },
  {
   "cell_type": "markdown",
   "metadata": {},
   "source": [
    "### Make the appropriate changes (10 min - 6 points)\n",
    "\n",
    "Make the appropriate changes in the code below.  You may find it useful to refer to the skeleton provided by the preflight to fill out the input parameters, docstrings, etc.  Make sure to:\n",
    "- Fill out the call signature and docstrings of the `__init__` (check if you need additional input parameters).\n",
    "- Define the additional attributes necessary to update and keep track of the voltage produced by the generator\n",
    "- Fill out the call signature of the `evolve_circuit` method (check if you need an additional arguments)\n",
    "- Fill out the code that updates the voltage provided by the generator at a given timestep\n",
    "- Fill out the call signature of the internal method `_set_now_vals` (check if you need additional input parameters)"
   ]
  },
  {
   "cell_type": "code",
   "execution_count": 7,
   "metadata": {
    "deletable": false,
    "nbgrader": {
     "cell_type": "code",
     "checksum": "ec59c1cc280000eaba54dcf6c0d05092",
     "grade": true,
     "grade_id": "AltRLCircuit",
     "locked": false,
     "points": 6,
     "schema_version": 3,
     "solution": true,
     "task": false
    }
   },
   "outputs": [],
   "source": [
    "class AltRLCircuit :\n",
    "    def __init__() :\n",
    "    \n",
    "        \"\"\"Internal method. Sets xxx\n",
    "\n",
    "        \"\"\"\n",
    "        \n",
    "        self.resistance = resistance\n",
    "        self.inductance = inductance\n",
    "        \n",
    "        # Initialize other necessary attributes \n",
    "        self.tau = inductance / resistance\n",
    "        self.i_now = 0\n",
    "        # YOUR CODE HERE\n",
    "        raise NotImplementedError()\n",
    "\n",
    "        \n",
    "        # Initialize the lists that contain time varying values\n",
    "        self.i_vals = []\n",
    "        self.timesteps = np.array([]) \n",
    "        # YOUR CODE HERE\n",
    "        raise NotImplementedError()\n",
    "        \n",
    "        \n",
    "    def _set_now_vals() :\n",
    "        \"\"\"Internal method. Sets xxx\n",
    "\n",
    "        \"\"\"\n",
    "        voltage_R = self.i_now*self.resistance\n",
    "        self.voltage_L_now = self.vAC_now - voltage_R    \n",
    "        self.i_now += self.voltage_L_now/self.inductance * self.dt\n",
    "        # YOUR CODE HERE\n",
    "        raise NotImplementedError()\n",
    "        \n",
    "    def _set_timesteps(self, num_timescales, num_timesteps_per_timescale) :        \n",
    "        \"\"\"Internal method. Sets the attributes num_timesteps and dt.\n",
    "        Parameters\n",
    "        ----------\n",
    "        num_timescales : floattimestep \n",
    "            number of timescales to evolve over\n",
    "        num_timesteps_per_timescale : int\n",
    "            number of timesteps per characteristic timescale, defines the time resolution \n",
    "        \"\"\"\n",
    "        \n",
    "        self.dt = self.tau / num_timesteps_per_timescale\n",
    "#         print(self.dt)\n",
    "\n",
    "        next_timesteps = np.arange(0, self.tau * num_timescales, self.dt)\n",
    "#         print('next_timesteps shape: ',next_timesteps.shape)\n",
    "        try :\n",
    "            last_timestep = self.timesteps[-1]\n",
    "            next_timesteps += last_timestep\n",
    "            self.timesteps = np.concatenate([self.timesteps, next_timesteps])\n",
    "            \n",
    "        except IndexError : \n",
    "            self.timesteps = next_timesteps        \n",
    "\n",
    "    def evolve_circuit() :\n",
    "        \"\"\"Internal method. Sets xxx\n",
    "\n",
    "        \"\"\"\n",
    "        self._set_timesteps(num_timescales, num_timesteps_per_timescale)\n",
    "        # Time evolve the circuit using self._set_now_vals() and store values at each timestep\n",
    "        for timestep in np.arange(self.dt, self.tau * num_timescales, self.dt) :\n",
    "            # Populate i_vals and q_vals with current current and charge on capacitor\n",
    "            self.i_vals.append(self.i_now)  \n",
    "            # YOUR CODE HERE\n",
    "            raise NotImplementedError()"
   ]
  },
  {
   "cell_type": "markdown",
   "metadata": {},
   "source": [
    "### Create an instance of the circuit (2 points)\n",
    "\n",
    "Create an instance of this circuit, `arlc`, where,  \n",
    "* $V_0 = 10$ Volts\n",
    "* $L = 1$ H\n",
    "* $R = 1~\\Omega$\n",
    "\n",
    "Evolve over 5 characteristic timescales, $t_{tot}=10\\tau$, and let $\\omega=1/\\tau=L/R$"
   ]
  },
  {
   "cell_type": "code",
   "execution_count": null,
   "metadata": {
    "deletable": false,
    "nbgrader": {
     "cell_type": "code",
     "checksum": "3b141122acfe0fd870045728d32415be",
     "grade": false,
     "grade_id": "cell-f5e8cb60d02e4f67",
     "locked": false,
     "schema_version": 3,
     "solution": true,
     "task": false
    }
   },
   "outputs": [],
   "source": [
    "# YOUR CODE HERE\n",
    "raise NotImplementedError()"
   ]
  },
  {
   "cell_type": "code",
   "execution_count": null,
   "metadata": {
    "deletable": false,
    "editable": false,
    "nbgrader": {
     "cell_type": "code",
     "checksum": "c6ffe8fb10456df466f4c6738ae85092",
     "grade": true,
     "grade_id": "AltRLCircuit_instance",
     "locked": true,
     "points": 2,
     "schema_version": 3,
     "solution": false,
     "task": false
    }
   },
   "outputs": [],
   "source": [
    "\"\"\"Execute to check you're on the right track\"\"\"\n",
    "assert(arlc.i_vals[0] <= np.abs(arlc.i_vals[-1]))\n",
    "assert(np.abs(np.max(np.array(arlc.i_vals))-7.575) < 0.01)"
   ]
  },
  {
   "cell_type": "markdown",
   "metadata": {},
   "source": [
    "### Plot voltages (2 points -- start in class, take home for polishing)\n",
    "\n",
    "*Overplot* the voltage across the resistor, inductor, and generator as a function of time (in units of $\\tau$).  Full credit for adding a legend, useful axes labels.  To more carefully see the behavior, I would recommend adding a [grid](https://matplotlib.org/3.1.1/api/_as_gen/matplotlib.pyplot.grid.html) to the axis. "
   ]
  },
  {
   "cell_type": "code",
   "execution_count": null,
   "metadata": {
    "deletable": false,
    "nbgrader": {
     "cell_type": "code",
     "checksum": "25f6dfff8a43cc9e6a6701b463fcb426",
     "grade": true,
     "grade_id": "Plot_AltRLCircuit",
     "locked": false,
     "points": 2,
     "schema_version": 3,
     "solution": true,
     "task": false
    }
   },
   "outputs": [],
   "source": [
    "# YOUR CODE HERE\n",
    "raise NotImplementedError()"
   ]
  },
  {
   "cell_type": "markdown",
   "metadata": {},
   "source": [
    "### Discuss your plot (2 point -- likely take home)\n",
    "\n",
    "Discuss your plot.  In particular, examine if $V_L$ and $V_R$ reach their peak values at the same time? If not, what is the phase difference between these two sinusoidal voltages?  How many units of $\\tau$ does it take for $V_G$ to reach a full cycle?"
   ]
  },
  {
   "cell_type": "markdown",
   "metadata": {
    "deletable": false,
    "nbgrader": {
     "cell_type": "markdown",
     "checksum": "3c18764b2c4c25c2bbf4afb6dc247d41",
     "grade": true,
     "grade_id": "Plot_AltRLCircuit_Discuss",
     "locked": false,
     "points": 2,
     "schema_version": 3,
     "solution": true,
     "task": false
    }
   },
   "source": [
    "YOUR ANSWER HERE"
   ]
  },
  {
   "cell_type": "markdown",
   "metadata": {},
   "source": [
    "## Homework Summary (10 points)\n",
    "- Make a *Bode Plot*.  We will vary $\\omega$ from $0.1/\\tau$ to $100/\\tau$ in equal logarithmic spacings (take a look at the <a href=\"https://docs.scipy.org/doc/numpy-1.15.0/reference/generated/numpy.logspace.html\">numpy documentation</a> for ```np.logspace()```).  Then, we will make a log-log plot of $V_{L,\\mathrm{peak}}/V_0$ vs. $\\omega$. (This is known as a <i>Bode plot</i>.) \n",
    "\n",
    "Note: you will want to modify your timestep so that it's a small fraction of a generator period (e.g. increase the number of timesteps per timescale to decrease teh timestep). Make sure to wait at least a few full generator cycles before evaluating $V_{L,\\mathrm{peak}}$, to allow any transitory behavior due to initial conditions to be washed out. \n"
   ]
  },
  {
   "cell_type": "markdown",
   "metadata": {},
   "source": [
    "### Create the $\\omega$ values to sample (2 points)\n",
    "\n",
    "Use the `np.logspace` to create a sequence of values for omega, `omega_vals`, assuming the same circuit components as in the tutorial (i.e. $R=1\\Omega$, $L=1$ H).  (We will vary 𝜔 from 0.1/𝜏 to 100/𝜏)"
   ]
  },
  {
   "cell_type": "code",
   "execution_count": null,
   "metadata": {
    "deletable": false,
    "nbgrader": {
     "cell_type": "code",
     "checksum": "5ecc5bd6ddea74cf0ad0100b34d87bb5",
     "grade": false,
     "grade_id": "cell-3b50dae35d5094fd",
     "locked": false,
     "schema_version": 3,
     "solution": true,
     "task": false
    }
   },
   "outputs": [],
   "source": [
    "# YOUR CODE HERE\n",
    "raise NotImplementedError()"
   ]
  },
  {
   "cell_type": "code",
   "execution_count": null,
   "metadata": {
    "deletable": false,
    "editable": false,
    "nbgrader": {
     "cell_type": "code",
     "checksum": "ab131ed59fecf2bf552961fdbab179ff",
     "grade": true,
     "grade_id": "omega_vals_check",
     "locked": true,
     "points": 2,
     "schema_version": 3,
     "solution": false,
     "task": false
    }
   },
   "outputs": [],
   "source": [
    "\"\"\"Execute to check you're on the right track\"\"\"\n",
    "assert(type(omega_vals) == np.ndarray)\n",
    "assert(omega_vals[0] == 1e-2)\n",
    "assert(omega_vals[-1] == 1e2)\n",
    "assert((omega_vals[1]-omega_vals[0]) !=(omega_vals[-2]-omega_vals[-1]))"
   ]
  },
  {
   "cell_type": "markdown",
   "metadata": {},
   "source": [
    "### Calculate the peak inductor voltage (5 points)\n",
    "\n",
    "You will need to create and evolve an instance of the `AltRLCircuit` for each `omega_val`, and collect the maximum voltage across the after several a timescale or two, e.g. in a list with name `voltages_L_max`.  \n",
    "\n",
    "In order to run the calculation in a reasonable amount of time, get a full AC cycle, and have high enough time resolution to accurately capture the behavior at high frequencies, you'll need to adjust the timesteps_per_timescale and number of time_scales depending on the omega_val you are solving.\n",
    "\n",
    "You may want to plot the v_l values vs. time for the lowest and highest frequencies to make sure your choices for the timesteps makes sense."
   ]
  },
  {
   "cell_type": "code",
   "execution_count": null,
   "metadata": {
    "deletable": false,
    "nbgrader": {
     "cell_type": "code",
     "checksum": "4146ee858d26082a1e7fa51ed4ecd15a",
     "grade": false,
     "grade_id": "cell-0e5ca11f77a08e36",
     "locked": false,
     "schema_version": 3,
     "solution": true,
     "task": false
    }
   },
   "outputs": [],
   "source": [
    "# YOUR CODE HERE\n",
    "raise NotImplementedError()\n",
    "\n",
    "voltages_L_max[-1]"
   ]
  },
  {
   "cell_type": "code",
   "execution_count": null,
   "metadata": {
    "deletable": false,
    "editable": false,
    "nbgrader": {
     "cell_type": "code",
     "checksum": "329c6c46e244fa7fe18ef7565dc438ab",
     "grade": true,
     "grade_id": "Peak_inductor_voltage_calculation",
     "locked": true,
     "points": 4,
     "schema_version": 3,
     "solution": false,
     "task": false
    }
   },
   "outputs": [],
   "source": [
    "\"\"\"Execute to check you're on the right track\"\"\"\n",
    "assert(type(voltages_L_max) == list)\n",
    "assert(np.abs(voltages_L_max[0]-0.1)<0.01)\n",
    "assert(np.abs(voltages_L_max[-1]-9.907)<0.01)"
   ]
  },
  {
   "cell_type": "markdown",
   "metadata": {},
   "source": [
    "### Make the Bode plot (2 points)\n",
    "\n",
    "Plot $V_{L,max}/V_0$ (the ratio of the maximum voltage across the inductor to the maximum generator voltage) vs. $\\omega$.  Use logarithmic scaling for both the x and y axes."
   ]
  },
  {
   "cell_type": "code",
   "execution_count": null,
   "metadata": {
    "deletable": false,
    "nbgrader": {
     "cell_type": "code",
     "checksum": "73d52df505c410676b68f20265eba8ab",
     "grade": true,
     "grade_id": "RL_Bode_Plot",
     "locked": false,
     "points": 3,
     "schema_version": 3,
     "solution": true,
     "task": false
    }
   },
   "outputs": [],
   "source": [
    "# YOUR CODE HERE\n",
    "raise NotImplementedError()"
   ]
  },
  {
   "cell_type": "markdown",
   "metadata": {},
   "source": [
    "### Open questions (3 points )\n",
    "- What happens when $\\omega\\ll 1/\\tau$? When $\\omega \\gg 1/\\tau$? When $\\omega \\approx 1/\\tau$?\n",
    "- Suppose that, instead of driving this circuit with a single frequency $\\omega$, you gave it an input signal that consisted of a mixture of different frequencies -- for example, an electrical representation of a piece of music. What would the output of this circuit do to such a signal? Can you think of any applications for a circuit like this? "
   ]
  },
  {
   "cell_type": "markdown",
   "metadata": {
    "deletable": false,
    "nbgrader": {
     "cell_type": "markdown",
     "checksum": "cbd56d793c57c96dbcee5e059b8472aa",
     "grade": true,
     "grade_id": "RL_Bode_Questions",
     "locked": false,
     "points": 3,
     "schema_version": 3,
     "solution": true,
     "task": false
    }
   },
   "source": [
    "YOUR ANSWER HERE"
   ]
  }
 ],
 "metadata": {
  "kernelspec": {
   "display_name": "Python 3 (ipykernel)",
   "language": "python",
   "name": "python3"
  },
  "language_info": {
   "codemirror_mode": {
    "name": "ipython",
    "version": 3
   },
   "file_extension": ".py",
   "mimetype": "text/x-python",
   "name": "python",
   "nbconvert_exporter": "python",
   "pygments_lexer": "ipython3",
   "version": "3.9.7"
  }
 },
 "nbformat": 4,
 "nbformat_minor": 2
}
