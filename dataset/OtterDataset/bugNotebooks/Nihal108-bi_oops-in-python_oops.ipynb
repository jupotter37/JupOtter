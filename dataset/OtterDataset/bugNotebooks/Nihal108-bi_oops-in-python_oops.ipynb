{
 "cells": [
  {
   "cell_type": "code",
   "execution_count": 135,
   "metadata": {},
   "outputs": [
    {
     "data": {
      "text/plain": [
       "'Functions are essential in Python programming because they allow you to reuse code, making your programs more modular, efficient, and readable. Here are some key points explaining the importance of functions in Python:\\nCode Reusability:\\nFunctions enable you to group related code into reusable blocks, which can be called from different parts of your program. This eliminates the need to write the same code repeatedly, saving time and effort. By reusing functions, you can avoid duplication and keep your code organized and concise.\\nModularity:\\nFunctions promote modularity by dividing your program into smaller, self-contained units. Each function performs a specific task, making it easier to understand, maintain, and debug your code. Modular code is also more flexible and scalable, as you can easily add, remove, or modify functions without affecting the rest of your program.\\nReadability and Abstraction:\\nFunctions improve the readability of your code by encapsulating complex operations into well-named and logical units. This makes it easier for you and other developers to understand what the code does and how it works. Functions also allow you to abstract away unnecessary details, focusing on the high-level logic of your program.\\nError Handling:\\nFunctions can help you handle errors more effectively. By isolating specific tasks within functions, you can easily identify and troubleshoot any errors that occur. You can also implement error handling mechanisms within functions to prevent errors from propagating to other parts of your program.\\nTesting and Debugging:\\nFunctions make it easier to test and debug your code. You can test individual functions in isolation, ensuring that they work as expected. This helps you identify and fix bugs early on, preventing them from affecting the overall functionality of your program.\\nCode Sharing and Collaboration:\\nFunctions facilitate code sharing and collaboration. You can easily share functions with other developers or incorporate functions from external libraries into your program. This allows you to leverage the work of others and build on existing code, saving time and effort.\\n'"
      ]
     },
     "execution_count": 135,
     "metadata": {},
     "output_type": "execute_result"
    }
   ],
   "source": [
    "#Question 1:-Explain the importance of Functions??\n",
    "'''Functions are essential in Python programming because they allow you to reuse code, making your programs more modular, efficient, and readable. Here are some key points explaining the importance of functions in Python:\n",
    "Code Reusability:\n",
    "Functions enable you to group related code into reusable blocks, which can be called from different parts of your program. This eliminates the need to write the same code repeatedly, saving time and effort. By reusing functions, you can avoid duplication and keep your code organized and concise.\n",
    "Modularity:\n",
    "Functions promote modularity by dividing your program into smaller, self-contained units. Each function performs a specific task, making it easier to understand, maintain, and debug your code. Modular code is also more flexible and scalable, as you can easily add, remove, or modify functions without affecting the rest of your program.\n",
    "Readability and Abstraction:\n",
    "Functions improve the readability of your code by encapsulating complex operations into well-named and logical units. This makes it easier for you and other developers to understand what the code does and how it works. Functions also allow you to abstract away unnecessary details, focusing on the high-level logic of your program.\n",
    "Error Handling:\n",
    "Functions can help you handle errors more effectively. By isolating specific tasks within functions, you can easily identify and troubleshoot any errors that occur. You can also implement error handling mechanisms within functions to prevent errors from propagating to other parts of your program.\n",
    "Testing and Debugging:\n",
    "Functions make it easier to test and debug your code. You can test individual functions in isolation, ensuring that they work as expected. This helps you identify and fix bugs early on, preventing them from affecting the overall functionality of your program.\n",
    "Code Sharing and Collaboration:\n",
    "Functions facilitate code sharing and collaboration. You can easily share functions with other developers or incorporate functions from external libraries into your program. This allows you to leverage the work of others and build on existing code, saving time and effort.\n",
    "'''"
   ]
  },
  {
   "cell_type": "code",
   "execution_count": 136,
   "metadata": {},
   "outputs": [],
   "source": [
    "#Question2:- Write a basic function to greet students.??\n",
    "def greet(student):\n",
    "    print(f\"hello, welcome Mr. {student} in this session!!\")"
   ]
  },
  {
   "cell_type": "code",
   "execution_count": 137,
   "metadata": {},
   "outputs": [
    {
     "name": "stdout",
     "output_type": "stream",
     "text": [
      "hello, welcome Mr. Nihal in this session!!\n"
     ]
    }
   ],
   "source": [
    "greet(\"Nihal\")"
   ]
  },
  {
   "cell_type": "code",
   "execution_count": 138,
   "metadata": {},
   "outputs": [
    {
     "name": "stdout",
     "output_type": "stream",
     "text": [
      "Hello, world!\n",
      "3\n"
     ]
    },
    {
     "data": {
      "text/plain": [
       "'In the first example, the print statement displays the string \"Hello, world!\" on the console. In the second example, the return statement sends the value of the expression a + b back to the caller of the function. The caller of the function then prints the returned value on the console.\\nIn general, you should use the print statement when you want to display the output to the user. You should use the return statement when you want to send the output back to the caller of the function.\\n'"
      ]
     },
     "execution_count": 138,
     "metadata": {},
     "output_type": "execute_result"
    }
   ],
   "source": [
    "#Question 3:- What is the difference between print and return statements .???\n",
    "# Example of a print statement\n",
    "print(\"Hello, world!\")\n",
    "\n",
    "# Example of a return statement\n",
    "def add_numbers(a, b):\n",
    "  return a + b\n",
    "\n",
    "# Call the function and print the returned value\n",
    "print(add_numbers(1, 2))\n",
    "\n",
    "'''In the first example, the print statement displays the string \"Hello, world!\" on the console. In the second example, the return statement sends the value of the expression a + b back to the caller of the function. The caller of the function then prints the returned value on the console.\n",
    "In general, you should use the print statement when you want to display the output to the user. You should use the return statement when you want to send the output back to the caller of the function.\n",
    "'''"
   ]
  },
  {
   "cell_type": "code",
   "execution_count": 139,
   "metadata": {},
   "outputs": [
    {
     "data": {
      "text/plain": [
       "'In Python, *args and **kwargs are special symbols that allow you to pass a variable number of arguments to a function:\\nargs>>>  Allows a function to accept any number of positional arguments, which are arguments that do not contain any keyword related to the data value. For example, age = 38.\\nkwargs>>> Allows you to pass a variable length of keyword arguments to the function, which are arguments that are associated with a keyword. For example, age is a keyword associated with data value 38\\n'"
      ]
     },
     "execution_count": 139,
     "metadata": {},
     "output_type": "execute_result"
    }
   ],
   "source": [
    "#Question 4:- What are *args and **kwargs???\n",
    "'''In Python, *args and **kwargs are special symbols that allow you to pass a variable number of arguments to a function:\n",
    "args>>>  Allows a function to accept any number of positional arguments, which are arguments that do not contain any keyword related to the data value. For example, age = 38.\n",
    "kwargs>>> Allows you to pass a variable length of keyword arguments to the function, which are arguments that are associated with a keyword. For example, age is a keyword associated with data value 38\n",
    "'''\n"
   ]
  },
  {
   "cell_type": "code",
   "execution_count": 140,
   "metadata": {},
   "outputs": [
    {
     "name": "stdout",
     "output_type": "stream",
     "text": [
      "a\n",
      "b\n",
      "c\n"
     ]
    }
   ],
   "source": [
    "#Question 5:- Explain the iterator function???\n",
    "'''An iterator is an object that can be used to iterate over a collection of objects.\n",
    " In Python, iterators are implemented using the iter() function. \n",
    " The iter() function takes a collection object as input and returns an iterator object.\n",
    " The iterator object can then be used to iterate over the collection object using the next() function.\n",
    " The next() function returns the next element in the collection object, or None if there are no more elements in the collection object.\n",
    "'''\n",
    "dictionary = {'a': 1, 'b': 2, 'c': 3}\n",
    "iterator = iter(dictionary)\n",
    "\n",
    "while True:\n",
    "    try:\n",
    "        key = next(iterator)\n",
    "        print(key)\n",
    "    except StopIteration:\n",
    "        break"
   ]
  },
  {
   "cell_type": "code",
   "execution_count": 141,
   "metadata": {},
   "outputs": [
    {
     "name": "stdout",
     "output_type": "stream",
     "text": [
      "1\n",
      "4\n",
      "9\n",
      "16\n",
      "25\n"
     ]
    }
   ],
   "source": [
    "#Question 6:- Write a code that generates the squares of numbers from 1 to n using a generator.??\n",
    "def square(n):\n",
    "    for i in range(1,n+1):\n",
    "        print(i*i)\n",
    "\n",
    "square(5)\n",
    "\n"
   ]
  },
  {
   "cell_type": "code",
   "execution_count": 142,
   "metadata": {},
   "outputs": [
    {
     "name": "stdout",
     "output_type": "stream",
     "text": [
      "palindrom number 1\n",
      "palindrom number 2\n",
      "palindrom number 3\n",
      "palindrom number 4\n",
      "palindrom number 5\n",
      "palindrom number 6\n",
      "palindrom number 7\n",
      "palindrom number 8\n",
      "palindrom number 9\n",
      "Not palindrome number 10\n",
      "palindrom number 11\n",
      "Not palindrome number 12\n",
      "Not palindrome number 13\n",
      "Not palindrome number 14\n",
      "Not palindrome number 15\n",
      "Not palindrome number 16\n",
      "Not palindrome number 17\n",
      "Not palindrome number 18\n",
      "Not palindrome number 19\n",
      "Not palindrome number 20\n",
      "Not palindrome number 21\n",
      "palindrom number 22\n",
      "Not palindrome number 23\n",
      "Not palindrome number 24\n",
      "Not palindrome number 25\n",
      "Not palindrome number 26\n",
      "Not palindrome number 27\n",
      "Not palindrome number 28\n",
      "Not palindrome number 29\n",
      "Not palindrome number 30\n",
      "Not palindrome number 31\n",
      "Not palindrome number 32\n",
      "palindrom number 33\n",
      "Not palindrome number 34\n",
      "Not palindrome number 35\n",
      "Not palindrome number 36\n",
      "Not palindrome number 37\n",
      "Not palindrome number 38\n",
      "Not palindrome number 39\n",
      "Not palindrome number 40\n",
      "Not palindrome number 41\n",
      "Not palindrome number 42\n",
      "Not palindrome number 43\n",
      "palindrom number 44\n",
      "Not palindrome number 45\n",
      "Not palindrome number 46\n",
      "Not palindrome number 47\n",
      "Not palindrome number 48\n",
      "Not palindrome number 49\n",
      "Not palindrome number 50\n",
      "Not palindrome number 51\n",
      "Not palindrome number 52\n",
      "Not palindrome number 53\n",
      "Not palindrome number 54\n",
      "palindrom number 55\n",
      "Not palindrome number 56\n",
      "Not palindrome number 57\n",
      "Not palindrome number 58\n",
      "Not palindrome number 59\n",
      "Not palindrome number 60\n",
      "Not palindrome number 61\n",
      "Not palindrome number 62\n",
      "Not palindrome number 63\n",
      "Not palindrome number 64\n",
      "Not palindrome number 65\n",
      "palindrom number 66\n",
      "Not palindrome number 67\n",
      "Not palindrome number 68\n",
      "Not palindrome number 69\n",
      "Not palindrome number 70\n",
      "Not palindrome number 71\n",
      "Not palindrome number 72\n",
      "Not palindrome number 73\n",
      "Not palindrome number 74\n",
      "Not palindrome number 75\n",
      "Not palindrome number 76\n",
      "palindrom number 77\n",
      "Not palindrome number 78\n",
      "Not palindrome number 79\n",
      "Not palindrome number 80\n",
      "Not palindrome number 81\n",
      "Not palindrome number 82\n",
      "Not palindrome number 83\n",
      "Not palindrome number 84\n",
      "Not palindrome number 85\n",
      "Not palindrome number 86\n",
      "Not palindrome number 87\n",
      "palindrom number 88\n",
      "Not palindrome number 89\n",
      "Not palindrome number 90\n",
      "Not palindrome number 91\n",
      "Not palindrome number 92\n",
      "Not palindrome number 93\n",
      "Not palindrome number 94\n",
      "Not palindrome number 95\n",
      "Not palindrome number 96\n",
      "Not palindrome number 97\n",
      "Not palindrome number 98\n",
      "palindrom number 99\n",
      "Not palindrome number 100\n",
      "palindrom number 101\n",
      "Not palindrome number 102\n",
      "Not palindrome number 103\n",
      "Not palindrome number 104\n",
      "Not palindrome number 105\n",
      "Not palindrome number 106\n",
      "Not palindrome number 107\n",
      "Not palindrome number 108\n",
      "Not palindrome number 109\n",
      "Not palindrome number 110\n",
      "palindrom number 111\n",
      "Not palindrome number 112\n",
      "Not palindrome number 113\n",
      "Not palindrome number 114\n",
      "Not palindrome number 115\n",
      "Not palindrome number 116\n",
      "Not palindrome number 117\n",
      "Not palindrome number 118\n",
      "Not palindrome number 119\n",
      "Not palindrome number 120\n",
      "palindrom number 121\n"
     ]
    }
   ],
   "source": [
    "#Question 7: Write a code that generates palindromic numbers up to n using a generator.\n",
    "def palindrom(n):\n",
    "    \n",
    "    for i in range(1,n+1):\n",
    "            if str(i)==str(i)[::-1]:\n",
    "              print(\"palindrom number\",i)\n",
    "            else:\n",
    "              print(\"Not palindrome number\",i)  \n",
    "  \n",
    "palindrom(121)\n"
   ]
  },
  {
   "cell_type": "code",
   "execution_count": 143,
   "metadata": {},
   "outputs": [
    {
     "name": "stdout",
     "output_type": "stream",
     "text": [
      "2\n",
      "4\n",
      "6\n",
      "8\n",
      "10\n",
      "12\n",
      "14\n",
      "16\n",
      "18\n",
      "20\n",
      "22\n",
      "24\n"
     ]
    }
   ],
   "source": [
    "#Question 8: Write a code that generates even numbers from 2 to n using a generator.\n",
    "\n",
    "def even_num(n):\n",
    "    for i in range(1,n+1):\n",
    "        if i%2==0:\n",
    "            print(i)\n",
    "\n",
    "even_num(25)            "
   ]
  },
  {
   "cell_type": "code",
   "execution_count": 144,
   "metadata": {},
   "outputs": [
    {
     "name": "stdout",
     "output_type": "stream",
     "text": [
      "243\n"
     ]
    }
   ],
   "source": [
    "#Question 9:Write a code that generates powers of two up to n using a generator.\n",
    "def power(n):\n",
    "    value=int(input(\"Enter the value which want to get power:\"))\n",
    "    print(value**n)\n",
    "\n",
    "power(5)    "
   ]
  },
  {
   "cell_type": "code",
   "execution_count": 145,
   "metadata": {},
   "outputs": [
    {
     "name": "stdout",
     "output_type": "stream",
     "text": [
      "2\n",
      "3\n",
      "5\n",
      "7\n"
     ]
    }
   ],
   "source": [
    "#Question 10:Write a code that generates prime numbers up to n using a generator.\n",
    "def prime_number_generator(n):\n",
    "    for num in range(2, n+1):\n",
    "        is_prime = True\n",
    "        for i in range(2, num):  # Check divisibility up to num-1\n",
    "            if num % i == 0:\n",
    "                is_prime = False\n",
    "                break\n",
    "        if is_prime:\n",
    "            yield num\n",
    "\n",
    "# Example usage\n",
    "for prime in prime_number_generator(10):\n",
    "    print(prime)\n"
   ]
  },
  {
   "cell_type": "code",
   "execution_count": 146,
   "metadata": {},
   "outputs": [
    {
     "name": "stdout",
     "output_type": "stream",
     "text": [
      "14\n"
     ]
    }
   ],
   "source": [
    "#Question 11:Write a code that uses a lambda function to calculate the sum of two numbers\n",
    "\n",
    "add=lambda x,y:x+y\n",
    "sum=add(7,7)\n",
    "print(sum)"
   ]
  },
  {
   "cell_type": "code",
   "execution_count": 147,
   "metadata": {},
   "outputs": [
    {
     "name": "stdout",
     "output_type": "stream",
     "text": [
      "25\n"
     ]
    }
   ],
   "source": [
    "#Question 40:Write a code that uses a lambda function to calculate the square of a given number..\n",
    "square=lambda x:x**2\n",
    "print(square(5))"
   ]
  },
  {
   "cell_type": "code",
   "execution_count": 148,
   "metadata": {},
   "outputs": [
    {
     "data": {
      "text/plain": [
       "'odd'"
      ]
     },
     "execution_count": 148,
     "metadata": {},
     "output_type": "execute_result"
    }
   ],
   "source": [
    "#Question 15: Write a code that uses a lambda function to check whether a given number is even or odd.\n",
    "\n",
    "num=lambda x:'even' if (x%2==0)  else 'odd'\n",
    "\n",
    "num(5)"
   ]
  },
  {
   "cell_type": "code",
   "execution_count": 149,
   "metadata": {},
   "outputs": [
    {
     "data": {
      "text/plain": [
       "434"
      ]
     },
     "execution_count": 149,
     "metadata": {},
     "output_type": "execute_result"
    }
   ],
   "source": [
    "#Question 16:Write a code that uses a lambda function to find the maximum of three given numbers.\n",
    "max_of_three=lambda x,y,z:max(x,y,z)\n",
    "max_of_three(12,434,232)"
   ]
  },
  {
   "cell_type": "code",
   "execution_count": 150,
   "metadata": {},
   "outputs": [
    {
     "data": {
      "text/plain": [
       "[4, 64]"
      ]
     },
     "execution_count": 150,
     "metadata": {},
     "output_type": "execute_result"
    }
   ],
   "source": [
    "#Question 17: Write a code that generates the squares of even numbers from a given list.\n",
    "list=[2,3,11,121,2121,8]\n",
    "square=[x**2 for x in list if x%2==0]\n",
    "square"
   ]
  },
  {
   "cell_type": "code",
   "execution_count": 151,
   "metadata": {},
   "outputs": [
    {
     "name": "stdout",
     "output_type": "stream",
     "text": [
      "7986\n"
     ]
    }
   ],
   "source": [
    "#Question 18: Write a code that calculates the product of positive numbers from a given list.\n",
    "list=[2,3,11,121,-2121,-18]\n",
    "product=1\n",
    "for i in list:\n",
    "    if i>0:\n",
    "        product=product*i\n",
    "\n",
    "print(product)        \n",
    "\n"
   ]
  },
  {
   "cell_type": "code",
   "execution_count": 152,
   "metadata": {},
   "outputs": [
    {
     "name": "stdout",
     "output_type": "stream",
     "text": [
      "[2, 6, 22, 242, -4242, -18]\n"
     ]
    }
   ],
   "source": [
    "#Question 19:Write a code that doubles the values of odd numbers from a given list.\n",
    "list=[2,3,11,121,-2121,-18]\n",
    "new_list=[]\n",
    "for i in list:\n",
    "    if i%2!=0:\n",
    "        i=i*2\n",
    "        new_list.append(i)\n",
    "    else:\n",
    "        new_list.append(i)    \n",
    "print(new_list)        "
   ]
  },
  {
   "cell_type": "code",
   "execution_count": 153,
   "metadata": {},
   "outputs": [],
   "source": [
    "# #Question 20: Write a code that calculates the sum of cubes of numbers from a given list.\n",
    "# list = [2, 3, 11, 121, -2121, -18]  # defines a list of numbers\n",
    "# sum_of_cube = sum([x**3 for x in list])  # calculates the sum of cubes of numbers in the list\n",
    "# sum_of_cube"
   ]
  },
  {
   "cell_type": "code",
   "execution_count": 154,
   "metadata": {},
   "outputs": [
    {
     "name": "stdout",
     "output_type": "stream",
     "text": [
      "[2, 3, 11, 19]\n"
     ]
    }
   ],
   "source": [
    "#Question 21: Write a code that filters out prime numbers from a given list.\n",
    "def is_prime(n):\n",
    "    if n<2:\n",
    "        return False\n",
    "    for i in range(2, int(n**0.5)+1):\n",
    "        if n%i ==0:\n",
    "            return False\n",
    "    return True    \n",
    "\n",
    "list_of_number=[2,3,11,121,-2121,-18,19]\n",
    "prime_numbers=[x for x in list_of_number if is_prime(abs(x))]\n",
    "print(prime_numbers)\n"
   ]
  },
  {
   "cell_type": "code",
   "execution_count": 155,
   "metadata": {},
   "outputs": [
    {
     "name": "stdout",
     "output_type": "stream",
     "text": [
      "8\n"
     ]
    }
   ],
   "source": [
    "#Question 22:Write a code that uses a lambda function to calculate the sum of two numbers.\n",
    "sum = lambda x, y: x + y\n",
    "print(sum(5, 3))  "
   ]
  },
  {
   "cell_type": "code",
   "execution_count": 156,
   "metadata": {},
   "outputs": [
    {
     "name": "stdout",
     "output_type": "stream",
     "text": [
      "25\n"
     ]
    }
   ],
   "source": [
    "#QUestion23: Write a code that uses a lambda function to calculate the square of a given number.\n",
    "square = lambda x: x ** 2\n",
    "print(square(5)) "
   ]
  },
  {
   "cell_type": "code",
   "execution_count": 157,
   "metadata": {},
   "outputs": [
    {
     "data": {
      "text/plain": [
       "'odd'"
      ]
     },
     "execution_count": 157,
     "metadata": {},
     "output_type": "execute_result"
    }
   ],
   "source": [
    "#Question 24: Write a code that uses a lambda function to check whether a given number is even or odd.\n",
    "num=lambda x:'even' if (x%2==0)  else 'odd'\n",
    "\n",
    "num(5)"
   ]
  },
  {
   "cell_type": "code",
   "execution_count": 158,
   "metadata": {},
   "outputs": [
    {
     "name": "stdout",
     "output_type": "stream",
     "text": [
      "aradhya_parima\n"
     ]
    }
   ],
   "source": [
    "#Quetion 25: Write a code that uses a lambda function to concatenate two strings.\n",
    "\n",
    "a='aradhya'\n",
    "b='_parima'\n",
    "\n",
    "print((lambda x,y:x+y) (a,b))"
   ]
  },
  {
   "cell_type": "code",
   "execution_count": 159,
   "metadata": {},
   "outputs": [
    {
     "data": {
      "text/plain": [
       "232"
      ]
     },
     "execution_count": 159,
     "metadata": {},
     "output_type": "execute_result"
    }
   ],
   "source": [
    "#Question 26: Write a code that uses a lambda function to find the maximum of three given numbers.\n",
    "\n",
    "maximum=lambda x,y,z:max(x,y,z)\n",
    "maximum(23,232,12)"
   ]
  },
  {
   "cell_type": "code",
   "execution_count": 160,
   "metadata": {},
   "outputs": [
    {
     "name": "stdout",
     "output_type": "stream",
     "text": [
      "150\n"
     ]
    }
   ],
   "source": [
    "#QUestion 27:0 What is encapsulation in OOP?\n",
    "#ANS:\n",
    "'''\n",
    "Encapsulation is a fundamental concept in Object-Oriented Programming (OOP) that binds together the data and the methods that manipulate that data, and keeps both safe from outside interference and misuse.\n",
    "\n",
    "In encapsulation, a class is designed to hide its internal implementation details and only expose the necessary information to the outside world through a controlled interface. This helps to:\n",
    "\n",
    "Hide internal implementation details:- The internal workings of the class are not visible to the outside world, making it harder for other classes to depend on them.\n",
    "Protect data integrity:- By controlling access to the data, the class can ensure that it is not modified accidentally or maliciously.\n",
    "Improve code organization:- Encapsulation helps to organize code into logical units, making it easier to understand and maintain.'''\n",
    "\n",
    "class BankAccount:\n",
    "    def __init__(self,balance=0):\n",
    "        self.__balance=balance    #private atttribute\n",
    "\n",
    "    def deposit(self,amount):\n",
    "        self.__balance +=amount  #access private attribute\n",
    "\n",
    "    def get_balance(self):\n",
    "        return self.__balance       #access private attribute\n",
    "\n",
    "account=BankAccount(100) \n",
    "account.deposit(50)\n",
    "print(account.get_balance()) "
   ]
  },
  {
   "cell_type": "code",
   "execution_count": 161,
   "metadata": {},
   "outputs": [
    {
     "name": "stdout",
     "output_type": "stream",
     "text": [
      "10\n",
      "20\n",
      "public method\n",
      "protectede method\n"
     ]
    }
   ],
   "source": [
    "#Question 28:Explain the use of access modifiers in Python classes.\n",
    "#Answaer:\n",
    "'''\n",
    "In Python, access modifiers are used to control access to the attributes and methods of a class. They determine the level of access that other classes or objects have to the attributes and methods of a class.\n",
    "\n",
    "Python has three types of access modifiers:\n",
    "\n",
    "Public: Public attributes and methods are accessible from anywhere in the program. They are the default access modifier in Python, and they do not have any specific syntax.\n",
    "Private: Private attributes and methods are only accessible within the class itself. They are denoted by a double underscore (__) prefix.\n",
    "Protected: Protected attributes and methods are accessible within the class itself and within any subclass of the class. They are denoted by a single underscore (_) prefix.'''\n",
    "\n",
    "class Myclass:\n",
    "    def __init__(self):\n",
    "        self.public_var=10  #public attribute\n",
    "        self._protected_var=20  # protected attribute\n",
    "        self.__private_var=30 # private attribute\n",
    "\n",
    "    def public_method(self):\n",
    "        print(\"public method\")\n",
    "\n",
    "    def _protected_method(self):\n",
    "        print(\"protectede method\")\n",
    "\n",
    "    def __private_method(self):\n",
    "        print(\"private method\")  \n",
    "\n",
    "\n",
    "obj=Myclass()\n",
    "print(obj.public_var)\n",
    "print(obj._protected_var)\n",
    "\n",
    "#print(obj.__private_var) # raise attribute error\n",
    "\n",
    "obj.public_method()\n",
    "obj._protected_method()"
   ]
  },
  {
   "cell_type": "code",
   "execution_count": 162,
   "metadata": {},
   "outputs": [
    {
     "name": "stdout",
     "output_type": "stream",
     "text": [
      "Fido is eating\n",
      "Fido the Golden Retriever is barking\n"
     ]
    }
   ],
   "source": [
    "#question 29:What is inheritance in OOP.\n",
    "#ans:\n",
    "''' \n",
    "Inheritance is a fundamental concept in Object-Oriented Programming (OOP) that allows one class to inherit the properties and behavior of another class. The class that is being inherited from is called the parent class or superclass, and the class that is doing the inheriting is called the child class or subclass.'''\n",
    "\n",
    "class Animal:\n",
    "    def __init__(self, name):\n",
    "        self.name = name\n",
    "\n",
    "    def eat(self):\n",
    "        print(f\"{self.name} is eating\")\n",
    "\n",
    "class Dog(Animal):\n",
    "    def __init__(self, name, breed):\n",
    "        super().__init__(name)\n",
    "        self.breed = breed\n",
    "\n",
    "    def bark(self):\n",
    "        print(f\"{self.name} the {self.breed} is barking\")\n",
    "\n",
    "my_dog = Dog(\"Fido\", \"Golden Retriever\")\n",
    "my_dog.eat()  \n",
    "my_dog.bark()            "
   ]
  },
  {
   "cell_type": "code",
   "execution_count": 163,
   "metadata": {},
   "outputs": [
    {
     "data": {
      "text/plain": [
       "' \\nPolymorphism is a fundamental concept in Object-Oriented Programming (OOP) that allows objects of different classes to be treated as objects of a common superclass. In other words, polymorphism enables you to write code that can work with different types of data without knowing the exact type of data at compile time.\\n\\nTypes of Polymorphism\\n\\nThere are two main types of polymorphism:\\n\\nMethod Overloading: This occurs when multiple methods with the same name can be defined, but with different parameter lists. The method to be invoked is determined by the number and types of arguments passed to it.\\nMethod Overriding: This occurs when a subclass provides a different implementation of a method that is already defined in its superclass. The subclass method has the same name, return type, and parameter list as the superclass method, but it can have a different implementation.'"
      ]
     },
     "execution_count": 163,
     "metadata": {},
     "output_type": "execute_result"
    }
   ],
   "source": [
    "#question 30: Define polymorphism in OOP.\n",
    "#Ans:\n",
    "''' \n",
    "Polymorphism is a fundamental concept in Object-Oriented Programming (OOP) that allows objects of different classes to be treated as objects of a common superclass. In other words, polymorphism enables you to write code that can work with different types of data without knowing the exact type of data at compile time.\n",
    "\n",
    "Types of Polymorphism\n",
    "\n",
    "There are two main types of polymorphism:\n",
    "\n",
    "Method Overloading: This occurs when multiple methods with the same name can be defined, but with different parameter lists. The method to be invoked is determined by the number and types of arguments passed to it.\n",
    "Method Overriding: This occurs when a subclass provides a different implementation of a method that is already defined in its superclass. The subclass method has the same name, return type, and parameter list as the superclass method, but it can have a different implementation.'''\n"
   ]
  },
  {
   "cell_type": "code",
   "execution_count": 164,
   "metadata": {},
   "outputs": [
    {
     "name": "stdout",
     "output_type": "stream",
     "text": [
      "The animal makes a sound\n",
      "The dog barks\n",
      "The cat meows\n"
     ]
    }
   ],
   "source": [
    "#Question 31:Explain method overriding in Python.\n",
    "# Animal class (superclass)\n",
    "class Animal:\n",
    "    def sound(self):\n",
    "        print(\"The animal makes a sound\")\n",
    "\n",
    "# Dog class (subclass)\n",
    "class Dog(Animal):\n",
    "    def sound(self):\n",
    "        print(\"The dog barks\")\n",
    "\n",
    "# Cat class (subclass)\n",
    "class Cat(Animal):\n",
    "    def sound(self):\n",
    "        print(\"The cat meows\")\n",
    "\n",
    "# Main function\n",
    "def main():\n",
    "    animal = Animal()\n",
    "    dog = Dog()\n",
    "    cat = Cat()\n",
    "\n",
    "    animal.sound()  # Output: The animal makes a sound\n",
    "    dog.sound()     # Output: The dog barks\n",
    "    cat.sound()     # Output: The cat meows\n",
    "\n",
    "if __name__ == \"__main__\":\n",
    "    main()"
   ]
  },
  {
   "cell_type": "code",
   "execution_count": 165,
   "metadata": {},
   "outputs": [
    {
     "name": "stdout",
     "output_type": "stream",
     "text": [
      "Woof!\n"
     ]
    }
   ],
   "source": [
    "#Question 32:Define a parent class Animal with a method make_sound that prints \"Generic animal sound\". Create a child class Dog inheriting from Animal with a method make_sound that prints \"Woof!\"\n",
    "\n",
    "class Animal:\n",
    "    def make_sound(self):\n",
    "        print(\"Generic animal sound\")\n",
    "\n",
    "class Dog(Animal):\n",
    "    def make_sound(self):\n",
    "        print(\"Woof!\")\n",
    "\n",
    "my_dog=Dog()\n",
    "\n",
    "my_dog.make_sound()\n"
   ]
  },
  {
   "cell_type": "code",
   "execution_count": 166,
   "metadata": {},
   "outputs": [
    {
     "name": "stdout",
     "output_type": "stream",
     "text": [
      "cat climbing\n"
     ]
    }
   ],
   "source": [
    "#Question33:Define a method move in the Animal class that prints \"Animal moves\". Override the move method in the Dog class to print \"Dog runs\".\n",
    "\n",
    "class Animal:\n",
    "    def move(self):\n",
    "        print('Generic animal Move')\n",
    "\n",
    "class Cat(Animal):\n",
    "    def move(self):\n",
    "        print(\"cat climbing\")   \n",
    "\n",
    "\n",
    "#creating a instance for cat\n",
    "\n",
    "my_cat=Cat()\n",
    "\n",
    "my_cat.move()"
   ]
  },
  {
   "cell_type": "code",
   "execution_count": 167,
   "metadata": {},
   "outputs": [
    {
     "name": "stdout",
     "output_type": "stream",
     "text": [
      "Woof! Woof!\n",
      "Giving birth to live young.\n"
     ]
    }
   ],
   "source": [
    "#Question 34:Create a class Mammal with a method reproduce that prints \"Giving birth to live young.\" Create a class DogMammal inheriting from both Dog and Mammal.\n",
    "class Mammal:\n",
    "    def reproduce(self):\n",
    "        print(\"Giving birth to live young.\")\n",
    "class Dog:\n",
    "    def bark(self):\n",
    "        print(\"Woof! Woof!\")\n",
    "class DogMammal(Dog, Mammal):\n",
    "    pass  # Inherits everything from Dog and Mammal\n",
    "\n",
    "dog_mammal = DogMammal()\n",
    "dog_mammal.bark()       \n",
    "dog_mammal.reproduce()    \n"
   ]
  },
  {
   "cell_type": "code",
   "execution_count": 168,
   "metadata": {},
   "outputs": [
    {
     "name": "stdout",
     "output_type": "stream",
     "text": [
      "woof!\n",
      "Bark!\n"
     ]
    }
   ],
   "source": [
    "#Question 35:Create a class GermanShepherd inheriting from Dog and override the make_sound method to print \"Bark!\".?\n",
    "#Answer:\n",
    "\n",
    "class Dog:\n",
    "    def make_sound(self):\n",
    "        print(\"woof!\")\n",
    "\n",
    "class GermanShepherd(Dog):\n",
    "    def make_sound(self):\n",
    "        print(\"Bark!\")\n",
    "\n",
    "dog=Dog()\n",
    "dog.make_sound()                \n",
    "\n",
    "germanshepherd=GermanShepherd()\n",
    "germanshepherd.make_sound()"
   ]
  },
  {
   "cell_type": "code",
   "execution_count": 169,
   "metadata": {},
   "outputs": [
    {
     "name": "stdout",
     "output_type": "stream",
     "text": [
      "Name:jonny\n",
      "Age:5\n",
      "Species:cat\n",
      "\n",
      "Name:Buddy\n",
      "Age:3\n",
      "Species:Dog\n",
      "Breed: Golden Retriever\n",
      "color: Golden\n"
     ]
    }
   ],
   "source": [
    "#Question 36: Define constructors in both the Animal and Dog classes with different initialization parameters?\n",
    "\n",
    "#define anial class\n",
    "\n",
    "class Animal:\n",
    "    def __init__(self,name,age,species):\n",
    "        #construtor for animal class\n",
    "        self.name=name\n",
    "        self.age=age\n",
    "        self.species=species\n",
    "\n",
    "    def display_info(self):\n",
    "        #display  infomation about animal class\n",
    "        print(f\"Name:{self.name}\")    \n",
    "        print(f\"Age:{self.age}\") \n",
    "        print(f\"Species:{self.species}\") \n",
    "\n",
    "\n",
    "#define the dog class , inheriting from animal\n",
    "class Dog(Animal):\n",
    "    def __init__(self,name,age,breed,color):\n",
    "        #constructor for dog class\n",
    "        super().__init__(name,age,\"Dog\")   ## Call the Animal constructor\n",
    "        self.breed=breed\n",
    "        self.color=color\n",
    "\n",
    "    def display_info(self):\n",
    "        #display information about dog\n",
    "        super().display_info()    \n",
    "        print(f\"Breed: {self.breed}\")\n",
    "        print(f\"color: {self.color}\")\n",
    "\n",
    "\n",
    "#example use \n",
    "my_animal=Animal(\"jonny\",5,'cat')  \n",
    "my_animal.display_info()      \n",
    "\n",
    "print()\n",
    "my_dog = Dog(\"Buddy\", 3, \"Golden Retriever\", \"Golden\")\n",
    "my_dog.display_info()"
   ]
  },
  {
   "cell_type": "code",
   "execution_count": 170,
   "metadata": {},
   "outputs": [
    {
     "name": "stdout",
     "output_type": "stream",
     "text": [
      "Dog:\n",
      "Woof!\n",
      "Eating cat food...\n",
      "\n",
      "Cat:\n"
     ]
    }
   ],
   "source": [
    "#Question 37:What is abstraction in Python? How is it implemented?\n",
    "#Ans:\n",
    "''' \n",
    "Abstraction in Python<<\n",
    "Abstraction in Python is a fundamental concept in object-oriented programming (OOP) that allows us to focus on essential features of\n",
    "an object or system while hiding its internal details.\n",
    "In other words, abstraction helps to simplify complex systems by exposing only the necessary information to the outside world while encapsulating the implementation details.\n",
    "\n",
    "Implementation of Abstraction in Python<<<\n",
    "In Python, abstraction is implemented using abstract classes and interfaces. An abstract class is a class that cannot be instantiated \n",
    "on its own and is intended to be inherited by other classes. \n",
    "An abstract class can have both abstract and concrete methods. \n",
    "Abstract methods are methods that are declared but not implemented, and they must be implemented by any subclass that inherits from the abstract class.\n",
    "\n",
    "To implement abstraction in Python, we use the abc (Abstract Base Classes) module, which provides the ABC class and the abstractmethod decorator.'''\n",
    "\n",
    "from abc import ABC,abstractmethod\n",
    "\n",
    "#Abstract class\n",
    "class AbstractAnimal(ABC):\n",
    "    @abstractmethod\n",
    "    def sound(self):\n",
    "        pass\n",
    "    @abstractmethod\n",
    "    def eat(self):\n",
    "        pass\n",
    "\n",
    "#Concreate class :Dog\n",
    "class Dog(AbstractAnimal):\n",
    "    def sound(self):\n",
    "        return \"Woof!\"\n",
    "    def eat(self):\n",
    "        return 'Eating cat food...'\n",
    "\n",
    "#Example usage\n",
    "def make_animal_sound(animal):\n",
    "    print(animal.sound())\n",
    "\n",
    "def feed_animal(animal):\n",
    "    print(animal.eat())     \n",
    "\n",
    "\n",
    "#create instances of dog and cat\n",
    "my_dog=Dog()    \n",
    "my_cat=Cat()     \n",
    "\n",
    "# Use the abstract methods\n",
    "print(\"Dog:\")\n",
    "make_animal_sound(my_dog)\n",
    "feed_animal(my_dog)\n",
    "\n",
    "print(\"\\nCat:\")\n",
    "# make_animal_sound(my_cat)   #AttributeError: 'Cat' object has no attribute 'sound'\n",
    "# feed_animal(my_cat)   #AttributeError: 'Cat' object has no attribute 'eat'"
   ]
  },
  {
   "cell_type": "code",
   "execution_count": 171,
   "metadata": {},
   "outputs": [
    {
     "data": {
      "text/plain": [
       "' \\n<<<<<<Importance of Abstraction in OOP>>>\\nEncapsulation:> Abstraction enables encapsulation, which is the bundling of data and methods that operate on that data within a single unit (a class or object). This helps to protect the data from external interference and misuse.\\nModularity:> Abstraction promotes modularity by allowing developers to break down a large system into smaller, independent modules that can be developed, tested, and maintained separately.\\nReusability:> Abstract classes and interfaces enable code reuse by providing a blueprint for other classes to follow, reducing code duplication and increasing productivity.\\nFlexibility:> Abstraction makes it easier to change the internal implementation of a class without affecting the external interface, allowing for more flexibility in system design.\\nEasier Maintenance:> With abstraction, changes to the internal implementation of a class do not affect the external interface, making it easier to maintain and update the system over time.\\nImproved Code Readability:> Abstraction helps to simplify complex systems by hiding irrelevant details, making the code more readable and easier to understand.'"
      ]
     },
     "execution_count": 171,
     "metadata": {},
     "output_type": "execute_result"
    }
   ],
   "source": [
    "#Question 38:Explain the importance of abstraction in object-oriented programming?\n",
    "\n",
    "#Ans;\n",
    "''' \n",
    "<<<<<<Importance of Abstraction in OOP>>>\n",
    "Encapsulation:> Abstraction enables encapsulation, which is the bundling of data and methods that operate on that data within a single unit (a class or object). This helps to protect the data from external interference and misuse.\n",
    "Modularity:> Abstraction promotes modularity by allowing developers to break down a large system into smaller, independent modules that can be developed, tested, and maintained separately.\n",
    "Reusability:> Abstract classes and interfaces enable code reuse by providing a blueprint for other classes to follow, reducing code duplication and increasing productivity.\n",
    "Flexibility:> Abstraction makes it easier to change the internal implementation of a class without affecting the external interface, allowing for more flexibility in system design.\n",
    "Easier Maintenance:> With abstraction, changes to the internal implementation of a class do not affect the external interface, making it easier to maintain and update the system over time.\n",
    "Improved Code Readability:> Abstraction helps to simplify complex systems by hiding irrelevant details, making the code more readable and easier to understand.'''"
   ]
  },
  {
   "cell_type": "code",
   "execution_count": 172,
   "metadata": {},
   "outputs": [],
   "source": [
    "#Queston 39:How are abstract methods different from regular methods in Python?\n",
    "#ans:\n",
    "'''\n",
    "In Python, abstract methods are different from regular methods in that they are declared but not defined.\n",
    "An abstract method is a method that has a declaration but does not have an implementation.\n",
    "This means that an abstract method is intended to be overridden by a subclass . \n",
    "Abstract methods are typically used in abstract base classes (ABCs) to define an interface or a contract that must be implemented by any subclass.'''\n",
    "\n",
    "#Here is an example of an abstract method in Python:\n",
    "\n",
    "from abc import ABC,abstractmethod\n",
    "class Shape(ABC):\n",
    "    @abstractmethod\n",
    "    def area(self):\n",
    "        pass\n",
    "\n",
    "#Here is an example of a regular method in Python:    \n",
    "\n",
    "class Rectangle:\n",
    "    def __init__(self,width,height):\n",
    "        self.width=width\n",
    "        self.height=height\n",
    "\n",
    "    def area(self):\n",
    "        return self.width*self.height   \n",
    "\n",
    "#here is example\n",
    "shape = Shape()\n",
    "shape.area()  # This will raise a TypeError\n",
    "\n",
    "rectangle = Rectangle(4, 5)\n",
    "rectangle.area()  # This will return 20     "
   ]
  },
  {
   "cell_type": "code",
   "execution_count": 173,
   "metadata": {},
   "outputs": [
    {
     "name": "stdout",
     "output_type": "stream",
     "text": [
      "Make: Toyota,Model: Camry,year:2020\n",
      "Make: Ford, Model: F-150, Year: 2015, Capacity: 2 tons\n",
      "Make: Honda, Model: CBR500R, Year: 2018, Engine Size: 500 cc\n"
     ]
    }
   ],
   "source": [
    "#Question 40:Can you provide an example of how abstraction can be utilized to create a common interface for a group of related classes in Python?\n",
    "from abc import ABC,abstractmethod\n",
    "class Vehicle(ABC):\n",
    "    @abstractmethod\n",
    "    def accelerate(self):\n",
    "        pass\n",
    "    \n",
    "    @abstractmethod\n",
    "    def brake(self):\n",
    "        pass\n",
    "\n",
    "    @abstractmethod\n",
    "    def display_info(self):\n",
    "        pass    \n",
    "\n",
    "\n",
    "class Car(Vehicle):\n",
    "    def __init__(self,make ,model,year):\n",
    "        self.make=make\n",
    "        self.model=model\n",
    "        self.year=year\n",
    "\n",
    "    def accelerate(self):\n",
    "        print(\"Accelerating....\")    \n",
    "\n",
    "    def brake(self):\n",
    "        print(\"Breaking....\")  \n",
    "\n",
    "    def display_info(self):\n",
    "        print(f\"Make: {self.make},Model: {self.model},year:{self.year}\")  \n",
    "\n",
    "class Truck(Vehicle):\n",
    "    def __init__(self, make, model, year, capacity):\n",
    "        self.make = make\n",
    "        self.model = model\n",
    "        self.year = year\n",
    "        self.capacity = capacity\n",
    "\n",
    "    def accelerate(self):\n",
    "        print(\"Accelerating slowly...\")\n",
    "\n",
    "    def brake(self):\n",
    "        print(\"Braking carefully...\")\n",
    "\n",
    "    def display_info(self):\n",
    "        print(f\"Make: {self.make}, Model: {self.model}, Year: {self.year}, Capacity: {self.capacity} tons\")\n",
    "\n",
    "class Motorcycle(Vehicle):\n",
    "    def __init__(self, make, model, year, engine_size):\n",
    "        self.make = make\n",
    "        self.model = model\n",
    "        self.year = year\n",
    "        self.engine_size = engine_size\n",
    "\n",
    "    def accelerate(self):\n",
    "        print(\"Accelerating quickly...\")\n",
    "\n",
    "    def brake(self):\n",
    "        print(\"Braking sharply...\")\n",
    "\n",
    "    def display_info(self):\n",
    "        print(f\"Make: {self.make}, Model: {self.model}, Year: {self.year}, Engine Size: {self.engine_size} cc\")        \n",
    "\n",
    "#Example\n",
    "vehicles = [Car(\"Toyota\", \"Camry\", 2020), Truck(\"Ford\", \"F-150\", 2015, 2), Motorcycle(\"Honda\", \"CBR500R\", 2018, 500)]\n",
    "\n",
    "for vehicle in vehicles:\n",
    "    vehicle.display_info()        \n",
    "\n",
    "\n"
   ]
  },
  {
   "cell_type": "code",
   "execution_count": 174,
   "metadata": {},
   "outputs": [
    {
     "name": "stdout",
     "output_type": "stream",
     "text": [
      "The dog barks.\n",
      "The cat meows.\n"
     ]
    }
   ],
   "source": [
    "#Question 41:How does Python achieve polymorphism through method overriding?\n",
    "#Answer:\n",
    "'''Method Overriding<<<<\n",
    "\n",
    "Method overriding is a mechanism where a subclass provides a specific implementation for a method that is already defined in its superclass. The subclass method has the same name, return type, and parameter list as the superclass method, but it can have a different implementation.\n",
    "\n",
    "In Python, method overriding is achieved through dynamic method lookup. When you call a method on an object, Python searches for the method in the object's class and its superclasses. If it finds a method with the same name, it calls that method. If not, it raises an AttributeError.'''\n",
    "\n",
    "class Animal:\n",
    "    def sound(self):\n",
    "        print(\"The animal makes a sound.\")\n",
    "\n",
    "class Dog(Animal):\n",
    "    def sound(self):\n",
    "        print(\"The dog barks.\")\n",
    "\n",
    "class Cat(Animal):\n",
    "    def sound(self):\n",
    "        print(\"The cat meows.\")\n",
    "\n",
    "# Create objects\n",
    "dog = Dog()\n",
    "cat = Cat()\n",
    "\n",
    "# Call the sound method on each object\n",
    "dog.sound()  \n",
    "cat.sound()  "
   ]
  },
  {
   "cell_type": "code",
   "execution_count": 175,
   "metadata": {},
   "outputs": [
    {
     "name": "stdout",
     "output_type": "stream",
     "text": [
      "This is the base class method\n",
      "This is the subclass method\n"
     ]
    }
   ],
   "source": [
    "#Question 42:Define a base class with a method and a subclass that overrides the method?\n",
    "\n",
    "class BaseClass:\n",
    "    def method(self):\n",
    "        print(\"This is the base class method\")\n",
    "\n",
    "class SubClass(BaseClass):\n",
    "    def method(self):\n",
    "        print(\"This is the subclass method\")\n",
    "\n",
    "# Create an instance of the base class\n",
    "base_instance = BaseClass()\n",
    "base_instance.method()\n",
    "\n",
    "# Create an instance of the subclass\n",
    "sub_instance = SubClass()\n",
    "sub_instance.method()"
   ]
  },
  {
   "cell_type": "code",
   "execution_count": 176,
   "metadata": {},
   "outputs": [
    {
     "name": "stdout",
     "output_type": "stream",
     "text": [
      "Woof! Woof!\n",
      "Ther dog eats dog food.\n",
      "\n",
      "The cat meows.\n",
      "The cat eats cat food.\n"
     ]
    }
   ],
   "source": [
    "# Question43: Define a base class and multiple subclasses with overridden methods?\n",
    "\n",
    "#Base class\n",
    "\n",
    "class Animal:\n",
    "    def __init__(self,name):\n",
    "        self.name=name\n",
    "\n",
    "    def sound(self):\n",
    "        print('The animal make sound')\n",
    "\n",
    "    def eat(self):\n",
    "        pass\n",
    "\n",
    "#Subclass Dog\n",
    "class Dog(Animal):\n",
    "    def __init__(self,name,breed):\n",
    "        super().__init__(name)\n",
    "        self.breed=breed\n",
    "\n",
    "    def sound(self):\n",
    "        print(\"Woof! Woof!\")    \n",
    "\n",
    "    def eat(self):\n",
    "        print(\"Ther dog eats dog food.\")   \n",
    "\n",
    "# Subclass  Cat\n",
    "class Cat(Animal):\n",
    "    def __init__(self, name, color):\n",
    "        super().__init__(name)\n",
    "        self.color = color\n",
    "\n",
    "    def sound(self):\n",
    "        print(\"The cat meows.\")\n",
    "\n",
    "    def eat(self):\n",
    "        print(\"The cat eats cat food.\")       \n",
    "\n",
    "\n",
    "#Creating instance for each subclass\n",
    "dog=Dog(\"Fido\",\"Golden Retriever\")\n",
    "cat=Cat(\"maxy\",\"Black\")          \n",
    "\n",
    "\n",
    "#call the orridden method\n",
    "\n",
    "dog.sound()\n",
    "dog.eat()\n",
    "print()\n",
    "cat.sound()\n",
    "cat.eat()"
   ]
  },
  {
   "cell_type": "code",
   "execution_count": 177,
   "metadata": {},
   "outputs": [
    {
     "name": "stdout",
     "output_type": "stream",
     "text": [
      "Area of Circle: 78.5\n",
      "Area of Rectangle: 24\n"
     ]
    }
   ],
   "source": [
    "#Question 44:How does polymorphism improve code readability and reusability?\n",
    "#answer:\n",
    "'''<<How Polymorphism Improves Code Readability>>:\n",
    "Simplified Code Structure: With polymorphism, you can define a single interface or base class that can be used by multiple subclasses. This leads to a more organized and simplified code structure, making it easier to read and understand.\n",
    "Reduced Code Duplication: By using polymorphic methods, you can avoid duplicating code in multiple classes. This reduces the overall code size and makes it more maintainable.\n",
    "Easier Error Handling: Polymorphism enables you to handle errors in a more centralized and efficient manner. You can define a single error-handling mechanism in the base class, which can be inherited by all subclasses.\n",
    "\n",
    "<<How Polymorphism Improves Code Reusability>>:\n",
    "Increased Modularity:< Polymorphism promotes modularity by allowing you to write self-contained modules that can be easily reused in different parts of the code.\n",
    "Flexibility in Method Implementation:< With polymorphism, you can define multiple implementations of a method, each tailored to specific requirements. This flexibility enables you to reuse code in various contexts.\n",
    "Easier Extensibility:< Polymorphism makes it easier to add new features or functionality to existing code without modifying the underlying structure.'''\n",
    "\n",
    "#define a base class with a polymorphic method\n",
    "class Shape:\n",
    "    def area(self):\n",
    "        pass\n",
    "\n",
    "#define subclass that orrides the area method\n",
    "class Circle(Shape):\n",
    "    def __init__(self,radius):\n",
    "        self.radius=radius\n",
    "\n",
    "    def area(self):\n",
    "        return 3.14 *(self.radius**2)\n",
    "\n",
    "class Rectangle(Shape):\n",
    "    def __init__(self,width,height):\n",
    "        self.width=width\n",
    "        self.height=height\n",
    "\n",
    "    def area(self):\n",
    "        return self.width * self.height\n",
    "\n",
    "#Create alist of shapes\n",
    "shapes=[Circle(5),Rectangle(4,6)]\n",
    "\n",
    "#Iterate over the shapes annd calculate their area\n",
    "\n",
    "for shape in shapes:\n",
    "    print(f\"Area of {shape.__class__.__name__}: {shape.area()}\")\n"
   ]
  },
  {
   "cell_type": "code",
   "execution_count": 178,
   "metadata": {},
   "outputs": [
    {
     "name": "stdout",
     "output_type": "stream",
     "text": [
      "Quack!\n",
      "Flapping wings!\n",
      "I'm Quacking Like a Duck!\n",
      "I'm Flapping my Arms!\n"
     ]
    }
   ],
   "source": [
    "#Questionn45 :Describe how Python supports polymorphism with duck typing?\n",
    "#Ans:\n",
    "'''\n",
    "What is Duck Typing?\n",
    "Duck typing is a concept in programming where an object's suitability is determined by the presence of certain methods and attributes, \n",
    "rather than its actual class or type. This means that if an object \"quacks like a duck\" (i.e., has the same methods and attributes as a duck), \n",
    "it can be treated as if it were a duck, even if it's not actually a duck.'''\n",
    "\n",
    "\n",
    "#Example\n",
    "class Duck:\n",
    "    def quack(self):\n",
    "        print('Quack!')\n",
    "\n",
    "    def fly(self):\n",
    "        print('Flapping wings!')\n",
    "\n",
    "class Person:\n",
    "    def quack(self):\n",
    "        print(\"I'm Quacking Like a Duck!\")\n",
    "\n",
    "    def fly(self):\n",
    "        print(\"I'm Flapping my Arms!\")   \n",
    "\n",
    "def in_the_forest(kruger):\n",
    "    kruger.quack()      \n",
    "    kruger.fly()\n",
    "\n",
    "duck=Duck()\n",
    "person=Person()\n",
    "\n",
    "in_the_forest(duck)\n",
    "in_the_forest(person)"
   ]
  },
  {
   "cell_type": "code",
   "execution_count": 179,
   "metadata": {},
   "outputs": [
    {
     "name": "stdout",
     "output_type": "stream",
     "text": [
      "1200\n"
     ]
    }
   ],
   "source": [
    "#Question 46: How do you achieve encapsulation in Python?\n",
    "#answeer:Encapsulation is achieved in Python using classes and objects\n",
    "\n",
    "#example\n",
    "class BankAccount:\n",
    "    def __init__(self,account_number,balance):\n",
    "        self.__account_number=account_number\n",
    "        self.__balance=balance\n",
    "\n",
    "    def deposit(self,amount):\n",
    "        self.__balance+=amount  \n",
    "\n",
    "    def withdraw(self,amount):\n",
    "        if amount>self.__balance:\n",
    "            print(\"Insufficient funds\")\n",
    "\n",
    "        else:\n",
    "            self.__balance-=amount          \n",
    "\n",
    "    def get_balance(self):\n",
    "        return self.__balance\n",
    "\n",
    "\n",
    "account=BankAccount(\"123456789\",1000)\n",
    "account.deposit(500)\n",
    "account.withdraw(300)\n",
    "print(account.get_balance())\n"
   ]
  },
  {
   "cell_type": "code",
   "execution_count": 180,
   "metadata": {},
   "outputs": [
    {
     "name": "stdout",
     "output_type": "stream",
     "text": [
      "Private\n"
     ]
    }
   ],
   "source": [
    "#Question 47: Can encapsulation be bypassed in Python? If so, how?\n",
    "#Answer:\n",
    "'''\n",
    "Yes, encapsulation can be bypassed in Python, but it's not recommended as it can lead to unintended consequences and make the code harder to maintain.\n",
    "\n",
    "How to bypass encapsulation in Python<<<\n",
    "In Python, you can access and modify the internal state of an object (i.e., its attributes) directly, even if they are intended to be private. This is because Python does not have strict access modifiers like private or protected like some other languages.'''\n",
    "\n",
    "#Direct attribute access\n",
    "class MyClass:\n",
    "    def __init__(self):\n",
    "        self.__private_attr=\"Private\"\n",
    "\n",
    "obj=MyClass()\n",
    "print(obj._MyClass__private_attr)        \n"
   ]
  },
  {
   "cell_type": "code",
   "execution_count": 181,
   "metadata": {},
   "outputs": [
    {
     "name": "stdout",
     "output_type": "stream",
     "text": [
      "Current balance: $1000.00\n",
      "Deposited $ 500.00. New balance:$1500.00\n",
      "Withdraw $200.00.New nalance :$1300.00\n",
      "Current balance: $1300.00\n"
     ]
    }
   ],
   "source": [
    "#Question 48:Implement a class BankAccount with a private balance attribute. Include methods to deposit, withdraw, and check the balance?\n",
    "\n",
    "class BankAccount:\n",
    "    def __init__(self,initial_balance=0):\n",
    "        self.__balance=initial_balance  #private attr\n",
    "\n",
    "    def deposit(self,amount):\n",
    "        \"\"\"Deposit money into the account\"\"\"\n",
    "        if amount>0:\n",
    "            self.__balance+=amount\n",
    "            print(f\"Deposited ${amount: .2f}. New balance:${self.__balance:.2f}\")\n",
    "\n",
    "        else:\n",
    "            print('Invalid deposit amount.Please try again.')   \n",
    "\n",
    "    def withdraw(self,amount):\n",
    "        \"\"\"withdraw money from the account\"\"\"\n",
    "        if 0<amount<=self.__balance:\n",
    "            self.__balance-=amount\n",
    "            print(f\"Withdraw ${amount:.2f}.New nalance :${self.__balance:.2f}\")  \n",
    "\n",
    "        elif amount<=0:\n",
    "            print('Invalid withdrwal amount. Please try again.')\n",
    "\n",
    "        else:\n",
    "            print(\"Insufficient funds.\")\n",
    "\n",
    "    def check_balance(self):\n",
    "        \"\"\"check the current balance\"\"\" \n",
    "        print(f\"Current balance: ${self.__balance:.2f}\")  \n",
    "\n",
    "# Example usage:\n",
    "account = BankAccount(1000)  # create an account with an initial balance of $1000\n",
    "account.check_balance()  # check the initial balance\n",
    "account.deposit(500)  # deposit $500\n",
    "account.withdraw(200)  # withdraw $200\n",
    "account.check_balance()  # check the updated balance                                "
   ]
  },
  {
   "cell_type": "code",
   "execution_count": 182,
   "metadata": {},
   "outputs": [
    {
     "name": "stdout",
     "output_type": "stream",
     "text": [
      "nihal\n",
      "Nihaljaisawal1@gmail.com\n",
      "nobi837603512999@gmail.com\n"
     ]
    }
   ],
   "source": [
    "#Question 49: Develop a Person class with private attributes name and email, and methods to set and get the email?\n",
    "class Person:\n",
    "    def __init__(self,name,email):\n",
    "        self.__name=name\n",
    "        self.__email=email\n",
    "\n",
    "    def get_email(self):\n",
    "        return self.__email\n",
    "\n",
    "    def set_email(self,email):\n",
    "        self.__email=email\n",
    "\n",
    "    def get_name(self):\n",
    "        return self.__name    \n",
    "\n",
    "\n",
    "#Example usge\n",
    "person=Person(\"nihal\",\"Nihaljaisawal1@gmail.com\")\n",
    "print(person.get_name())\n",
    "print(person.get_email())\n",
    "\n",
    "person.set_email(\"nobi837603512999@gmail.com\")\n",
    "print(person.get_email())\n"
   ]
  },
  {
   "cell_type": "code",
   "execution_count": 183,
   "metadata": {},
   "outputs": [
    {
     "data": {
      "text/plain": [
       "'\\n<Data Hiding>\\nReduces coupling between objects\\nImproves code organization and structure\\n\\n<Abstraction>\\nSimplifies complex systems\\nImproves modularity\\n\\n<Code Reusability>\\nAllows for code reuse in different contexts\\nDevelops more modular and flexible systems\\n\\n<Improved Security>\\nReduces risk of data corruption or unauthorized access\\nProvides a clear and controlled interface for interacting with an object'"
      ]
     },
     "execution_count": 183,
     "metadata": {},
     "output_type": "execute_result"
    }
   ],
   "source": [
    "#Question 50:Why is encapsulation considered a pillar of object-oriented programming (OOP)?\n",
    "#Answer\n",
    "'''\n",
    "<Data Hiding>\n",
    "Reduces coupling between objects\n",
    "Improves code organization and structure\n",
    "\n",
    "<Abstraction>\n",
    "Simplifies complex systems\n",
    "Improves modularity\n",
    "\n",
    "<Code Reusability>\n",
    "Allows for code reuse in different contexts\n",
    "Develops more modular and flexible systems\n",
    "\n",
    "<Improved Security>\n",
    "Reduces risk of data corruption or unauthorized access\n",
    "Provides a clear and controlled interface for interacting with an object'''"
   ]
  },
  {
   "cell_type": "code",
   "execution_count": 184,
   "metadata": {},
   "outputs": [
    {
     "name": "stdout",
     "output_type": "stream",
     "text": [
      "Before function execution ...\n",
      "after the function execution...\n",
      "result: 5\n"
     ]
    }
   ],
   "source": [
    "#Question 52:Create a decorator in Python that adds functionality to a simple function by printing a message before and after the function execution\n",
    "\n",
    "###Decorator function\n",
    "def print_messages(func):\n",
    "    def wrapper(*args,**kwargs):\n",
    "        print(\"Before function execution ...\")\n",
    "        result=func(*args,**kwargs)\n",
    "        print(\"after the function execution...\")\n",
    "        return result\n",
    "    return wrapper\n",
    "\n",
    "##simple function\n",
    "\n",
    "@print_messages\n",
    "def add_numbers(a,b):\n",
    "    return a+b\n",
    "\n",
    "#test the decorator function\n",
    "result=add_numbers(2,3)\n",
    "print(\"result:\",result)"
   ]
  },
  {
   "cell_type": "code",
   "execution_count": 185,
   "metadata": {},
   "outputs": [
    {
     "name": "stdout",
     "output_type": "stream",
     "text": [
      "add:This is a decorated function\n",
      "8\n"
     ]
    }
   ],
   "source": [
    "#Question 53:Modify the decorator to accept arguments and print the function name along with the message?\n",
    "def my_decorator(message):\n",
    "    def decorator_function(func):\n",
    "        def wrapper(*args,**kwargs):\n",
    "            print(f\"{func.__name__}:{message}\")\n",
    "            return func(*args,**kwargs)\n",
    "        return wrapper\n",
    "    return decorator_function\n",
    "\n",
    "@my_decorator(\"This is a decorated function\")\n",
    "def add(a, b):\n",
    "    return a + b\n",
    "\n",
    "result = add(3, 5)\n",
    "print(result)\n",
    "        "
   ]
  },
  {
   "cell_type": "code",
   "execution_count": 186,
   "metadata": {},
   "outputs": [
    {
     "name": "stdout",
     "output_type": "stream",
     "text": [
      "Decorator 1: Before function execution\n",
      "Decorator 2: Before function execution\n",
      "Function execution: Adding 3 and 5\n",
      "Decorator 2: After function execution\n",
      "Decorator 1: After function execution\n",
      "Result: 8\n"
     ]
    }
   ],
   "source": [
    "#Question 54:Create two decorators, and apply them to a single function. Ensure that they execute in the order they are applied?\n",
    "# Define the first decorator\n",
    "def decorator1(func):\n",
    "    def wrapper(*args, **kwargs):\n",
    "        print(\"Decorator 1: Before function execution\")\n",
    "        result = func(*args, **kwargs)\n",
    "        print(\"Decorator 1: After function execution\")\n",
    "        return result\n",
    "    return wrapper\n",
    "\n",
    "# Define the second decorator\n",
    "def decorator2(func):\n",
    "    def wrapper(*args, **kwargs):\n",
    "        print(\"Decorator 2: Before function execution\")\n",
    "        result = func(*args, **kwargs)\n",
    "        print(\"Decorator 2: After function execution\")\n",
    "        return result\n",
    "    return wrapper\n",
    "\n",
    "# Apply the decorators to a single function\n",
    "@decorator1\n",
    "@decorator2\n",
    "def add(a, b):\n",
    "    print(\"Function execution: Adding\", a, \"and\", b)\n",
    "    return a + b\n",
    "\n",
    "# Test the decorated function\n",
    "result = add(3, 5)\n",
    "print(\"Result:\", result)"
   ]
  },
  {
   "cell_type": "code",
   "execution_count": 187,
   "metadata": {},
   "outputs": [
    {
     "name": "stdout",
     "output_type": "stream",
     "text": [
      "Before function execution ...\n",
      "after the function execution...\n",
      "result: 5\n"
     ]
    }
   ],
   "source": [
    "#Question 55: Modify the decorator to accept and pass function arguments to the wrapped function?\n",
    "###Decorator function\n",
    "def print_messages(func):\n",
    "    def wrapper(*args,**kwargs):\n",
    "        print(\"Before function execution ...\")\n",
    "        result=func(*args,**kwargs)\n",
    "        print(\"after the function execution...\")\n",
    "        return result\n",
    "    return wrapper\n",
    "\n",
    "##simple function\n",
    "\n",
    "@print_messages\n",
    "def add_numbers(a,b):\n",
    "    return a+b\n",
    "\n",
    "#test the decorator function\n",
    "result=add_numbers(2,3)\n",
    "print(\"result:\",result)"
   ]
  },
  {
   "cell_type": "code",
   "execution_count": 188,
   "metadata": {},
   "outputs": [
    {
     "name": "stdout",
     "output_type": "stream",
     "text": [
      "add\n",
      "Add two numbers\n"
     ]
    }
   ],
   "source": [
    "#Question 56:Create a decorator that preserves the metadata of the original function?\n",
    "\n",
    "import functools\n",
    "\n",
    "def my_decorator(func):\n",
    "    @functools.wraps(func)\n",
    "    def wrapper(*args,**kwargs):\n",
    "        \"\"\"This is wrapper function\"\"\"\n",
    "        print(\"Somthing is happing before the function is called..\")\n",
    "        result=func(*args,**kwargs)\n",
    "        print('Somthing is happing after the function is callled..')\n",
    "        return result\n",
    "    return wrapper\n",
    "\n",
    "@my_decorator\n",
    "def add(a, b):\n",
    "    \"\"\"Add two numbers\"\"\"\n",
    "    return a + b\n",
    "\n",
    "print(add.__name__)\n",
    "print(add.__doc__)    "
   ]
  },
  {
   "cell_type": "code",
   "execution_count": 189,
   "metadata": {},
   "outputs": [
    {
     "name": "stdout",
     "output_type": "stream",
     "text": [
      "8\n"
     ]
    }
   ],
   "source": [
    "#Question 57:Create a Python class `Calculator` with a static method `add` that takes in two numbers and returns their sum?\n",
    "class Calculator:\n",
    "    @staticmethod\n",
    "    def Add(a, b):\n",
    "        \"\"\"\n",
    "        Returns the sum of two numbers.\n",
    "        \n",
    "        Args:\n",
    "            a (int or float): The first number.\n",
    "            b (int or float): The second number.\n",
    "        \n",
    "        Returns:\n",
    "            int or float: The sum of a and b.\n",
    "        \"\"\"\n",
    "        return a + b\n",
    "\n",
    "result = Calculator.Add(3, 5)\n",
    "print(result) \n"
   ]
  },
  {
   "cell_type": "code",
   "execution_count": 190,
   "metadata": {},
   "outputs": [
    {
     "name": "stdout",
     "output_type": "stream",
     "text": [
      "2\n"
     ]
    }
   ],
   "source": [
    "#Question 58: Create a Python class `Employee` with a class `method get_employee_count` that returns the total number of employees created?\n",
    "class Employee:\n",
    "    employee_count=0\n",
    "\n",
    "    def __init__(self,name):\n",
    "        self.name=name\n",
    "        Employee.employee_count+=1\n",
    "\n",
    "    @classmethod\n",
    "    def get_employee_count(cls):\n",
    "        return cls.employee_count\n",
    "\n",
    "\n",
    "#example usage\n",
    "emp1=Employee(\"nj\")  \n",
    "emp2=Employee(\"ns\")        \n",
    "\n",
    "print(Employee.get_employee_count())\n"
   ]
  },
  {
   "cell_type": "code",
   "execution_count": 191,
   "metadata": {},
   "outputs": [
    {
     "name": "stdout",
     "output_type": "stream",
     "text": [
      "Input String: Hello ,StringFormatter!\n",
      "Reversed String: !rettamroFgnirtS, olleH\n"
     ]
    }
   ],
   "source": [
    "#Question 59: Create a Python class `StringFormatter` with a static method `reverse_string` that takes a string as input and returns its reverse?\n",
    "class StringFormatter:\n",
    "    @staticmethod\n",
    "    def reverse_string(input_string):\n",
    "        return input_string[::-1]\n",
    "    \n",
    "#Example usage\n",
    "input_str=\"Hello ,StringFormatter!\"\n",
    "reversed_str=StringFormatter.reverse_string(input_str)    \n",
    "print(f\"Input String: {input_str}\")\n",
    "print(f\"Reversed String: {reversed_str}\")"
   ]
  },
  {
   "cell_type": "code",
   "execution_count": 192,
   "metadata": {},
   "outputs": [
    {
     "name": "stdout",
     "output_type": "stream",
     "text": [
      "78.53981633974483\n"
     ]
    }
   ],
   "source": [
    "#Question 60: Create a Python class `Circle` with a class method `calculate_area` that calculates the area of a circle given its radius?\n",
    "import math\n",
    "class Circle:\n",
    "    @classmethod\n",
    "\n",
    "    def calculate_area(cls,radius):\n",
    "\n",
    "\n",
    "        if radius<0:\n",
    "            raise ValueError('radius can not be negative')\n",
    "        return math.pi*(radius**2)\n",
    "    \n",
    "\n",
    "#Example usage\n",
    "print(Circle.calculate_area(5))    "
   ]
  },
  {
   "cell_type": "code",
   "execution_count": 193,
   "metadata": {},
   "outputs": [
    {
     "name": "stdout",
     "output_type": "stream",
     "text": [
      "40 degree Celsius is equal to 98.6 degree Fahrenhiet.\n"
     ]
    }
   ],
   "source": [
    "#Question 61: Create a Python class `TemperatureConverter` with a static method `celsius_to_fahrenheit` that converts Celsius to Fahrenheit?\n",
    "class TemperatureConverter:\n",
    "    @staticmethod\n",
    "    def celsius_to_fahrenheit(Celsius):\n",
    "        fahrenheit=(Celsius*9/5)+32\n",
    "        return fahrenheit\n",
    "    \n",
    "fahrenheit=TemperatureConverter.celsius_to_fahrenheit(37)\n",
    "print(f\"{40} degree Celsius is equal to {fahrenheit} degree Fahrenhiet.\")    "
   ]
  },
  {
   "cell_type": "code",
   "execution_count": 194,
   "metadata": {},
   "outputs": [
    {
     "name": "stdout",
     "output_type": "stream",
     "text": [
      "To kill a Mokingbird by Harper Lee\n"
     ]
    }
   ],
   "source": [
    "#Question 62:What is the purpose of the __str__() method in Python classes? Provide an example?\n",
    "#Answer:\n",
    "'''The __str__() method in Python classes is used to return a string representation of an object, \n",
    "which is useful for printing or displaying the object in a human-readable format. \n",
    "This method is called when the built-in str() or print() functions are used on an object.'''\n",
    "\n",
    "class Book:\n",
    "    def __init__(self,title,author):\n",
    "        self.title=title\n",
    "        self.author=author\n",
    "\n",
    "    def __str__(self):\n",
    "        return f\"{self.title} by {self.author}\"    \n",
    "\n",
    "#crate a book object\n",
    "book=Book(\"To kill a Mokingbird\",\"Harper Lee\")\n",
    "\n",
    "# Print the book object using the __str__() method\n",
    "print(book)\n"
   ]
  },
  {
   "cell_type": "code",
   "execution_count": 195,
   "metadata": {},
   "outputs": [
    {
     "name": "stdout",
     "output_type": "stream",
     "text": [
      "3\n"
     ]
    }
   ],
   "source": [
    "#Question 63:How does the __len__() method work in Python? Provide an example?\n",
    "#Answer:\n",
    "'''The __len__() method in Python is a special method that returns the length (the number of items) of an object. It is called when the built-in len() function is used on an object.'''\n",
    "\n",
    "class Bookshelf:\n",
    "    def __init__(self,Books):\n",
    "        self.books=Books\n",
    "\n",
    "    def __len__(self):\n",
    "        return len(self.books)    \n",
    "    \n",
    "my_bookself=Bookshelf([\"Book1\",\"Book2\",'Book3'])  \n",
    "print(len(my_bookself))  "
   ]
  },
  {
   "cell_type": "code",
   "execution_count": 196,
   "metadata": {},
   "outputs": [
    {
     "name": "stdout",
     "output_type": "stream",
     "text": [
      "5 + 9j\n"
     ]
    }
   ],
   "source": [
    "#Question 64: Explain the usage of the __add__() method in Python classes. Provide an example?\n",
    "#Answer:\n",
    "'''The __add__() method in Python classes is a special method that allows you to overload the + operator for your custom class objects. This method is called when the + operator is used with instances of your class.\n",
    "\n",
    "The __add__() method takes two arguments: self (the instance of the class) and other (the object being added to the instance). The method should return a new object that represents the result of the addition.'''\n",
    "\n",
    "class ComplexNumber:\n",
    "    def __init__(self,real,imag):\n",
    "        self.real=real\n",
    "        self.imag=imag\n",
    "\n",
    "    def __add__(self,other):\n",
    "        return ComplexNumber(self.real +other.real,self.imag+other.imag)   \n",
    "\n",
    "    def __str__(self):\n",
    "        return f\"{self.real} + {self.imag}j\"\n",
    "\n",
    "c1 = ComplexNumber(3, 4)\n",
    "c2 = ComplexNumber(2, 5)\n",
    "\n",
    "c3 = c1 + c2  # This calls c1.__add__(c2)\n",
    "\n",
    "print(c3)  # Output: 5 + 9j "
   ]
  },
  {
   "cell_type": "code",
   "execution_count": 197,
   "metadata": {},
   "outputs": [
    {
     "name": "stdout",
     "output_type": "stream",
     "text": [
      "4\n"
     ]
    }
   ],
   "source": [
    "#Question 65:What is the purpose of the __getitem__() method in Python? Provide an example?\n",
    "#answer:\n",
    "'''The __getitem__() method in Python is a special method that allows you to access elements of an object using the square bracket notation ([]). It's a part of Python's protocol for indexing and slicing.\n",
    "\n",
    "The purpose of __getitem__() is to define how an object responds when you try to access its elements using indexing or slicing. For example, when you write my_object[key], Python calls my_object.__getitem__(key) behind the scenes.'''\n",
    "\n",
    "class MyClass:\n",
    "    def __init__(self):\n",
    "        self.data=[1,2,3,4,5]\n",
    "\n",
    "    def __getitem__(self,index):\n",
    "        return self.data[index]    \n",
    "    \n",
    "my_object=MyClass()\n",
    "print(my_object[3])    "
   ]
  },
  {
   "cell_type": "code",
   "execution_count": 198,
   "metadata": {},
   "outputs": [
    {
     "name": "stdout",
     "output_type": "stream",
     "text": [
      "1\n",
      "2\n",
      "3\n",
      "4\n",
      "5\n",
      "\n",
      "1\n",
      "2\n",
      "3\n",
      "4\n",
      "5\n"
     ]
    }
   ],
   "source": [
    "#Question 66:Explain the usage of the __iter__() and __next__() methods in Python. Provide an example using iterators?\n",
    "#Ans:\n",
    "'''Usage of __iter__() and __next__() methods in Python>>>>>>\n",
    "In Python, __iter__() and __next__() are two special methods that are used to create iterators. An iterator is an object that allows you to iterate over a sequence (such as a list, tuple, or string) one element at a time.\n",
    "\n",
    "<< __iter__() method >>\n",
    "The __iter__() method is used to return an iterator object. This method is called when you use the iter() function or when you use a for loop to iterate over an object.\n",
    "\n",
    "<< __next__() method >>\n",
    "The __next__() method is used to return the next item from the iterator. This method is called repeatedly until there are no more items to return, at which point it raises a StopIteration exception.'''\n",
    "\n",
    "class MyIterator:\n",
    "    def __init__(self,data):\n",
    "        self.data=data\n",
    "        self.index=0\n",
    "\n",
    "    def __iter__(self):\n",
    "        return self\n",
    "\n",
    "    def __next__(self):\n",
    "        if self.index<len(self.data):\n",
    "            item=self.data[self.index]   \n",
    "            self.index+=1\n",
    "            return item\n",
    "        else:\n",
    "            raise StopIteration\n",
    "\n",
    "#create an instance of myIterator\n",
    "my_iterator=MyIterator([1,2,3,4,5])\n",
    "#use the iterator in a for loop\n",
    "for item in my_iterator:\n",
    "    print(item)         \n",
    "print()\n",
    "\n",
    "#use the iterator manually\n",
    "my_iterator=MyIterator([1,2,3,4,5])\n",
    "while True:\n",
    "    try:\n",
    "        item=next(my_iterator)\n",
    "        print(item)\n",
    "\n",
    "    except StopIteration:\n",
    "        break    \n"
   ]
  },
  {
   "cell_type": "code",
   "execution_count": null,
   "metadata": {},
   "outputs": [],
   "source": [
    "#Question 67: What is the purpose of a getter method in Python? Provide an example demonstrating the use of a getter method using property decorators?\n",
    "#answer:\n",
    "'''Purpose of a Getter Method in Python>>>\n",
    "In Python, a getter method is a special method that is used to retrieve the value of a private attribute. \n",
    "The purpose of a getter method is to provide a controlled access to the internal state of an object, \n",
    "allowing you to perform additional logic or validation before returning the value.\n",
    "\n",
    "Using Property Decorators for Getter Methods>>\n",
    "In Python, you can use property decorators to implement getter methods. \n",
    "A property decorator is a special type of decorator that allows you to define getter, setter, and deleter methods for an attribute.'''\n",
    "\n",
    "class Person:\n",
    "    def __init__(self,name,age):\n",
    "        self._name=name\n",
    "        self._age=age\n",
    "\n",
    "    @property\n",
    "    def name(self):\n",
    "        print(\"Getting name...\")    \n",
    "        return self._name\n",
    "    \n",
    "    @property\n",
    "    def age(self):\n",
    "        print(\"Getting age..\")\n",
    "        return self._age\n",
    "    \n",
    "\n",
    "person=Person(\"nj\",22)\n",
    "print(person.name)\n",
    "print()\n",
    "print(person.age)    "
   ]
  },
  {
   "cell_type": "code",
   "execution_count": 4,
   "metadata": {},
   "outputs": [
    {
     "ename": "",
     "evalue": "",
     "output_type": "error",
     "traceback": [
      "\u001b[1;31mThe Kernel crashed while executing code in the current cell or a previous cell. \n",
      "\u001b[1;31mPlease review the code in the cell(s) to identify a possible cause of the failure. \n",
      "\u001b[1;31mClick <a href='https://aka.ms/vscodeJupyterKernelCrash'>here</a> for more info. \n",
      "\u001b[1;31mView Jupyter <a href='command:jupyter.viewOutput'>log</a> for further details."
     ]
    }
   ],
   "source": [
    "#Question 68: Explain the role of setter methods in Python. Demonstrate how to use a setter method to modify a class attribute using property decorators?\n",
    "#Ans:\n",
    "'''Role of Setter Methods in Python>>\n",
    "In Python, a setter method is a special method that is used to modify the value of a private attribute. The role of a setter method is to provide a controlled way to modify the internal state of an object, allowing you to perform additional logic or validation before setting the value.\n",
    "\n",
    "Using Property Decorators for Setter Methods>>\n",
    "In Python, you can use property decorators to implement setter methods. A property decorator is a special type of decorator that allows you to define getter, setter, and deleter methods for an attribute.'''\n",
    "\n",
    "class Person:\n",
    "    def __init__(self,name,age):\n",
    "        self._name=name\n",
    "        self._age=age\n",
    "\n",
    "    @property\n",
    "    def name(self):\n",
    "        print(\"Getting name...\")    \n",
    "        return self._name\n",
    "    @name.setter\n",
    "    def name(self,value):\n",
    "        print('setting name...')\n",
    "        if not isinstance(value, str):\n",
    "            raise ValueError(\"Name must be a string\")\n",
    "        self.name=value\n",
    "    \n",
    "    @property\n",
    "    def age(self):\n",
    "        print(\"Getting age..\")\n",
    "        return self._age\n",
    "    @age.setter\n",
    "    def age(self,value):\n",
    "        print('setting age..')\n",
    "        if not isinstance(value, int) or value < 0:\n",
    "            raise ValueError(\"Age must be a non-negative integer\")\n",
    "        self._age=value\n",
    "    \n",
    "\n",
    "person=Person(\"nj\",22)\n",
    "print(person.name)\n",
    "print()\n",
    "print(person.age) \n",
    "\n",
    "#using setter method modifying name\n",
    "person.name='ns'\n",
    "print(person.name)\n",
    "\n",
    "#using setter method modifying age\n",
    "person.age=23\n",
    "print(person.age)"
   ]
  },
  {
   "cell_type": "code",
   "execution_count": 3,
   "metadata": {},
   "outputs": [
    {
     "name": "stdout",
     "output_type": "stream",
     "text": [
      "John\n",
      "Jane\n",
      "Age must be a non-negative integer\n",
      "31\n"
     ]
    }
   ],
   "source": [
    "#question 69: What is the purpose of the @property decorator in Python? Provide an example illustrating its usage?\n",
    "#Answer:\n",
    "'''The @property decorator in Python is used to implement getters and setters for class attributes, \n",
    "allowing you to customize access to instance data. It enables you to define a property that can be \n",
    "accessed like an attribute, but with the flexibility to add additional logic or validation when getting or setting the value.'''\n",
    "\n",
    "class Person:\n",
    "    def __init__(self, name, age):\n",
    "        self._name = name\n",
    "        self._age = age\n",
    "\n",
    "    @property\n",
    "    def name(self):\n",
    "        return self._name\n",
    "\n",
    "    @name.setter\n",
    "    def name(self, value):\n",
    "        if not isinstance(value, str):\n",
    "            raise ValueError(\"Name must be a string\")\n",
    "        self._name = value\n",
    "\n",
    "    @property\n",
    "    def age(self):\n",
    "        return self._age\n",
    "\n",
    "    @age.setter\n",
    "    def age(self, value):\n",
    "        if not isinstance(value, int) or value < 0:\n",
    "            raise ValueError(\"Age must be a non-negative integer\")\n",
    "        self._age = value\n",
    "\n",
    "p = Person(\"John\", 30)\n",
    "\n",
    "print(p.name)  # Output: John\n",
    "p.name = \"Jane\"  # Setter is called, validating the input\n",
    "print(p.name)  # Output: Jane\n",
    "\n",
    "try:\n",
    "    p.age = \"thirty\"  # Raises ValueError\n",
    "except ValueError as e:\n",
    "    print(e)  # Output: Age must be a non-negative integer\n",
    "\n",
    "p.age = 31  # Setter is called, validating the input\n",
    "print(p.age)  # Output: 31"
   ]
  },
  {
   "cell_type": "code",
   "execution_count": 2,
   "metadata": {},
   "outputs": [
    {
     "name": "stdout",
     "output_type": "stream",
     "text": [
      "Getting name\n",
      "John\n",
      "Setting name\n",
      "Deleting name\n",
      "Getting name\n",
      "'Person' object has no attribute '_name'\n"
     ]
    }
   ],
   "source": [
    "#Question 70:Explain the use of the @deleter decorator in Python property decorators. Provide a code example demonstrating its application?\n",
    "#Answe:\n",
    "'''The @property decorator in Python is used to customize access to instance data. It allows you to implement getter, setter, and deleter methods for an attribute, making it possible to add additional logic when the attribute is accessed, modified, or deleted.\n",
    "\n",
    "The @deleter decorator is specifically used to define a deleter method for a property. A deleter method is called when the del statement is used to delete an attribute.\n",
    "'''\n",
    "\n",
    "class Person:\n",
    "    def __init__(self, name):\n",
    "        self._name = name\n",
    "\n",
    "    @property\n",
    "    def name(self):\n",
    "        print(\"Getting name\")\n",
    "        return self._name\n",
    "\n",
    "    @name.setter\n",
    "    def name(self, value):\n",
    "        print(\"Setting name\")\n",
    "        self._name = value\n",
    "\n",
    "    @name.deleter\n",
    "    def name(self):\n",
    "        print(\"Deleting name\")\n",
    "        del self._name\n",
    "\n",
    "p = Person(\"John\")\n",
    "\n",
    "print(p.name)  # Output: Getting name, John\n",
    "\n",
    "p.name = \"Jane\"  # Output: Setting name\n",
    "\n",
    "del p.name  # Output: Deleting name\n",
    "\n",
    "try:\n",
    "    print(p.name)  # Raises AttributeError: 'Person' object has no attribute '_name'\n",
    "except AttributeError as e:\n",
    "    print(e)"
   ]
  },
  {
   "cell_type": "code",
   "execution_count": 1,
   "metadata": {},
   "outputs": [
    {
     "name": "stdout",
     "output_type": "stream",
     "text": [
      "1234567890\n",
      "1000\n",
      "1500\n",
      "1300\n",
      "Balance cannot be negative\n",
      "Insufficient funds\n"
     ]
    }
   ],
   "source": [
    "#Question 71: How does encapsulation relate to property decorators in Python? Provide an example showcasing encapsulation using property decorators?\n",
    "#Answer:\n",
    "'''Encapsulation is a fundamental concept in object-oriented programming (OOP) that binds together the data and the methods that manipulate that data, making it a single unit. In Python, encapsulation can be achieved using property decorators.\n",
    "\n",
    "Property decorators in Python allow you to customize access to instance data, making it possible to hide the internal implementation details of an object from the outside world. This is where encapsulation comes into play.\n",
    "\n",
    "By using property decorators, you can control how the internal state of an object is accessed and modified, ensuring that the data remains consistent and valid. This helps to prevent external interference and misuse of the object's internal state.'''\n",
    "\n",
    "class BankAccount:\n",
    "    def __init__(self, account_number, balance=0):\n",
    "        self._account_number = account_number\n",
    "        self._balance = balance\n",
    "\n",
    "    @property\n",
    "    def account_number(self):\n",
    "        return self._account_number\n",
    "\n",
    "    @property\n",
    "    def balance(self):\n",
    "        return self._balance\n",
    "\n",
    "    @balance.setter\n",
    "    def balance(self, value):\n",
    "        if value < 0:\n",
    "            raise ValueError(\"Balance cannot be negative\")\n",
    "        self._balance = value\n",
    "\n",
    "    def deposit(self, amount):\n",
    "        if amount < 0:\n",
    "            raise ValueError(\"Deposit amount cannot be negative\")\n",
    "        self.balance += amount\n",
    "\n",
    "    def withdraw(self, amount):\n",
    "        if amount < 0:\n",
    "            raise ValueError(\"Withdrawal amount cannot be negative\")\n",
    "        if amount > self.balance:\n",
    "            raise ValueError(\"Insufficient funds\")\n",
    "        self.balance -= amount\n",
    "\n",
    "account = BankAccount(\"1234567890\", 1000)\n",
    "\n",
    "print(account.account_number)  # Output: 1234567890\n",
    "print(account.balance)  # Output: 1000\n",
    "\n",
    "account.deposit(500)\n",
    "print(account.balance)  # Output: 1500\n",
    "\n",
    "account.withdraw(200)\n",
    "print(account.balance)  # Output: 1300\n",
    "\n",
    "try:\n",
    "    account.balance = -100  # Raises ValueError: Balance cannot be negative\n",
    "except ValueError as e:\n",
    "    print(e)\n",
    "\n",
    "try:\n",
    "    account.withdraw(1500)  # Raises ValueError: Insufficient funds\n",
    "except ValueError as e:\n",
    "    print(e)\n",
    "    "
   ]
  },
  {
   "cell_type": "code",
   "execution_count": null,
   "metadata": {},
   "outputs": [],
   "source": []
  }
 ],
 "metadata": {
  "kernelspec": {
   "display_name": "base",
   "language": "python",
   "name": "python3"
  },
  "language_info": {
   "codemirror_mode": {
    "name": "ipython",
    "version": 3
   },
   "file_extension": ".py",
   "mimetype": "text/x-python",
   "name": "python",
   "nbconvert_exporter": "python",
   "pygments_lexer": "ipython3",
   "version": "3.8.19"
  }
 },
 "nbformat": 4,
 "nbformat_minor": 2
}
