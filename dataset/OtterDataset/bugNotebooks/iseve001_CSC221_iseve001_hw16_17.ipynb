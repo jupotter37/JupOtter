{
  "nbformat": 4,
  "nbformat_minor": 0,
  "metadata": {
    "colab": {
      "provenance": [],
      "authorship_tag": "ABX9TyNCl+C///BCujNRJ+szHA7n",
      "include_colab_link": true
    },
    "kernelspec": {
      "name": "python3",
      "display_name": "Python 3"
    },
    "language_info": {
      "name": "python"
    }
  },
  "cells": [
    {
      "cell_type": "markdown",
      "metadata": {
        "id": "view-in-github",
        "colab_type": "text"
      },
      "source": [
        "<a href=\"https://colab.research.google.com/github/iseve001/CSC221_iseve001/blob/main/hw16_17.ipynb\" target=\"_parent\"><img src=\"https://colab.research.google.com/assets/colab-badge.svg\" alt=\"Open In Colab\"/></a>"
      ]
    },
    {
      "cell_type": "code",
      "execution_count": null,
      "metadata": {
        "colab": {
          "base_uri": "https://localhost:8080/",
          "height": 245
        },
        "id": "CDBPOxN9wqFq",
        "outputId": "1a1b981d-8e05-49f0-bb55-924d97ee7202"
      },
      "outputs": [
        {
          "output_type": "stream",
          "name": "stdout",
          "text": [
            "hello world\n",
            "34439001467265986275\n"
          ]
        },
        {
          "output_type": "error",
          "ename": "TypeError",
          "evalue": "ignored",
          "traceback": [
            "\u001b[0;31m---------------------------------------------------------------------------\u001b[0m",
            "\u001b[0;31mTypeError\u001b[0m                                 Traceback (most recent call last)",
            "\u001b[0;32m<ipython-input-6-a9f6e3257406>\u001b[0m in \u001b[0;36m<cell line: 4>\u001b[0;34m()\u001b[0m\n\u001b[1;32m      2\u001b[0m \u001b[0mprint\u001b[0m\u001b[0;34m(\u001b[0m\u001b[0;34m\"hello world\"\u001b[0m\u001b[0;34m)\u001b[0m\u001b[0;34m\u001b[0m\u001b[0;34m\u001b[0m\u001b[0m\n\u001b[1;32m      3\u001b[0m \u001b[0mprint\u001b[0m\u001b[0;34m(\u001b[0m\u001b[0;36m589734589\u001b[0m \u001b[0;34m*\u001b[0m \u001b[0;36m58397458975\u001b[0m\u001b[0;34m)\u001b[0m\u001b[0;34m\u001b[0m\u001b[0;34m\u001b[0m\u001b[0m\n\u001b[0;32m----> 4\u001b[0;31m \u001b[0mprint\u001b[0m\u001b[0;34m(\u001b[0m\u001b[0m_\u001b[0m \u001b[0;34m+\u001b[0m \u001b[0;36m1\u001b[0m\u001b[0;34m)\u001b[0m\u001b[0;34m\u001b[0m\u001b[0;34m\u001b[0m\u001b[0m\n\u001b[0m",
            "\u001b[0;31mTypeError\u001b[0m: can only concatenate str (not \"int\") to str"
          ]
        }
      ],
      "source": [
        "#1.1\n",
        "print(\"hello world\")\n",
        "print(589734589 * 58397458975)"
      ]
    },
    {
      "cell_type": "code",
      "source": [
        "from os import chmod\n",
        "#1.2\n",
        "#!/usr/bin/env python3\n"
      ],
      "metadata": {
        "colab": {
          "base_uri": "https://localhost:8080/",
          "height": 140
        },
        "id": "ljzv7V9t2Ql1",
        "outputId": "f34aaf35-da23-403b-c58f-f52f4162c4b3"
      },
      "execution_count": null,
      "outputs": [
        {
          "output_type": "error",
          "ename": "SyntaxError",
          "evalue": "ignored",
          "traceback": [
            "\u001b[0;36m  File \u001b[0;32m\"<ipython-input-10-14522ba2891d>\"\u001b[0;36m, line \u001b[0;32m4\u001b[0m\n\u001b[0;31m    chmod +x hello.py\u001b[0m\n\u001b[0m             ^\u001b[0m\n\u001b[0;31mSyntaxError\u001b[0m\u001b[0;31m:\u001b[0m invalid syntax\n"
          ]
        }
      ]
    },
    {
      "cell_type": "code",
      "source": [
        "#1.3\n",
        "x : int = 20\n",
        "print(x + 1)\n",
        "initial = 1000\n",
        "interest = 0.05\n",
        "numyears = 5\n",
        "year = 1\n",
        "while year <= numyears:\n",
        "  initial = initial * (1 + interest)\n",
        "  print(year, initial)\n",
        "  year += 1\n",
        "print(f'{year:>3d} {initial:0.2f}')"
      ],
      "metadata": {
        "colab": {
          "base_uri": "https://localhost:8080/"
        },
        "id": "NNzEFnX3_-fU",
        "outputId": "ea19a465-5a41-4145-8f7b-107132aa7802"
      },
      "execution_count": null,
      "outputs": [
        {
          "output_type": "stream",
          "name": "stdout",
          "text": [
            "21\n",
            "1 1050.0\n",
            "2 1102.5\n",
            "3 1157.625\n",
            "4 1215.5062500000001\n",
            "5 1276.2815625000003\n",
            "  6 1276.28\n"
          ]
        }
      ]
    },
    {
      "cell_type": "code",
      "source": [
        "#1.4\n",
        "num = 2\n",
        "newnum = num/2\n",
        "newnum%num\n",
        "a = 0b11001001\n",
        "b = 0b11110000\n",
        "print(a)\n",
        "print(b)\n",
        "print (a&b)\n",
        "c = (a & b) >> 4\n",
        "print(c)"
      ],
      "metadata": {
        "colab": {
          "base_uri": "https://localhost:8080/"
        },
        "id": "RG0t2gzpmco0",
        "outputId": "944d854f-3193-4d60-8ee1-9a267b5351a7"
      },
      "execution_count": null,
      "outputs": [
        {
          "output_type": "stream",
          "name": "stdout",
          "text": [
            "201\n",
            "240\n",
            "192\n",
            "12\n"
          ]
        }
      ]
    },
    {
      "cell_type": "code",
      "source": [
        "#1.5\n",
        "if a<b:\n",
        "  print(\"the computer agrees\")\n",
        "else:\n",
        "  print(\"the computer disagrees\")\n",
        "if a<b:\n",
        "  pass\n",
        "else:\n",
        "  print(\"the computer disagrees\")\n",
        "#raise RuntimeError(f'Unknown content type {suffix!r}')\n",
        "num = a if a > b else b\n",
        "print(num)\n",
        "x=0\n",
        "while (x := x + 1) < 10:\n",
        "  print(x)\n",
        "\n",
        "#if-else statements can be shortened into one line of code, and := can assign a variable and a conditional"
      ],
      "metadata": {
        "colab": {
          "base_uri": "https://localhost:8080/"
        },
        "id": "ZVrIVJSzoHoo",
        "outputId": "2c39fae0-1d28-4686-e675-a0e8b1bbbad4"
      },
      "execution_count": null,
      "outputs": [
        {
          "output_type": "stream",
          "name": "stdout",
          "text": [
            "the computer agrees\n",
            "240\n",
            "1\n",
            "2\n",
            "3\n",
            "4\n",
            "5\n",
            "6\n",
            "7\n",
            "8\n",
            "9\n"
          ]
        }
      ]
    },
    {
      "cell_type": "code",
      "source": [
        "#1.6\n",
        "a = 'Hello world'\n",
        "b = \"Hello place\"\n",
        "c = '''Hello'''\n",
        "d = \"\"\"test\"\"\"\n",
        "print('''Content-type: text/html\n",
        "<h1> Hello World </h1>\n",
        "Click <a href=\"http://www.python.org\">here</a>.\n",
        "''')\n",
        "#print(\"Content-type: text/html\n",
        "#<h1> Hello World </h1>\n",
        "#Click <a href=\"http://www.python.org\">here</a>.\n",
        "#\"\")\n",
        "#print(f'{year:>3d} {principal:0.2f}')\n",
        "print(len(b))\n",
        "print(b[:3])\n",
        "b = b.replace('Hello', 'Goodbye')\n",
        "b.upper()\n",
        "\n",
        "#different print statements require different amounts of quotation marks"
      ],
      "metadata": {
        "id": "eTgcK-2dsCP0",
        "colab": {
          "base_uri": "https://localhost:8080/",
          "height": 140
        },
        "outputId": "e1dbc530-fa82-4125-e5da-23d30eb3a653"
      },
      "execution_count": null,
      "outputs": [
        {
          "output_type": "stream",
          "name": "stdout",
          "text": [
            "Content-type: text/html\n",
            "<h1> Hello World </h1>\n",
            "Click <a href=\"http://www.python.org\">here</a>.\n",
            "\n",
            "11\n",
            "Hel\n"
          ]
        },
        {
          "output_type": "execute_result",
          "data": {
            "text/plain": [
              "'GOODBYE PLACE'"
            ],
            "application/vnd.google.colaboratory.intrinsic+json": {
              "type": "string"
            }
          },
          "metadata": {},
          "execution_count": 24
        }
      ]
    },
    {
      "cell_type": "code",
      "source": [
        "#1.7\n",
        "\n",
        "#python can access the files on your computer and work with them in a variety of ways"
      ],
      "metadata": {
        "colab": {
          "base_uri": "https://localhost:8080/",
          "height": 210
        },
        "id": "4k9cgPxBmZPb",
        "outputId": "1a2c5155-1451-4b9c-e231-19c6c438df14"
      },
      "execution_count": null,
      "outputs": [
        {
          "output_type": "error",
          "ename": "NameError",
          "evalue": "ignored",
          "traceback": [
            "\u001b[0;31m---------------------------------------------------------------------------\u001b[0m",
            "\u001b[0;31mNameError\u001b[0m                                 Traceback (most recent call last)",
            "\u001b[0;32m<ipython-input-28-0449fb1034f5>\u001b[0m in \u001b[0;36m<cell line: 2>\u001b[0;34m()\u001b[0m\n\u001b[1;32m      1\u001b[0m \u001b[0;31m#1.7\u001b[0m\u001b[0;34m\u001b[0m\u001b[0;34m\u001b[0m\u001b[0m\n\u001b[0;32m----> 2\u001b[0;31m \u001b[0;32mwith\u001b[0m \u001b[0mopen\u001b[0m\u001b[0;34m(\u001b[0m\u001b[0mdata\u001b[0m\u001b[0;34m.\u001b[0m\u001b[0mtxt\u001b[0m\u001b[0;34m)\u001b[0m \u001b[0;32mas\u001b[0m \u001b[0mfile\u001b[0m\u001b[0;34m:\u001b[0m\u001b[0;34m\u001b[0m\u001b[0;34m\u001b[0m\u001b[0m\n\u001b[0m\u001b[1;32m      3\u001b[0m   \u001b[0mdata\u001b[0m \u001b[0;34m=\u001b[0m \u001b[0mfile\u001b[0m\u001b[0;34m.\u001b[0m\u001b[0mread\u001b[0m\u001b[0;34m(\u001b[0m\u001b[0;34m)\u001b[0m\u001b[0;34m\u001b[0m\u001b[0;34m\u001b[0m\u001b[0m\n",
            "\u001b[0;31mNameError\u001b[0m: name 'data' is not defined"
          ]
        }
      ]
    },
    {
      "cell_type": "code",
      "source": [
        "#1.8\n",
        "names = ['Ned', 'Ian', 'Jake', 'John']\n",
        "a = names[3]\n",
        "print(a)\n",
        "names[2] = 'Iannis'\n",
        "print(names[2])\n",
        "names.append('Joe')\n",
        "names.insert(1, 'Jack')\n",
        "print(names)\n",
        "#python lists are very in depth and can be altered in many ways without altering the original list itself"
      ],
      "metadata": {
        "id": "CyUQQm64mZX_",
        "colab": {
          "base_uri": "https://localhost:8080/"
        },
        "outputId": "66662213-14c0-448b-a472-20bf913bf99d"
      },
      "execution_count": null,
      "outputs": [
        {
          "output_type": "stream",
          "name": "stdout",
          "text": [
            "John\n",
            "Iannis\n",
            "['Ned', 'Jack', 'Ian', 'Iannis', 'John', 'Joe']\n"
          ]
        }
      ]
    },
    {
      "cell_type": "code",
      "source": [
        "#1.9\n",
        "holding = ('GOOG', 100, 490.10)\n",
        "address = ('www.python.org', 80)\n",
        "print(address)\n",
        "print(holding)\n",
        "\n",
        "#tuples are like lists but with different characteristics, for example they are immutable. they also offer more interactivity with local files than lists."
      ],
      "metadata": {
        "colab": {
          "base_uri": "https://localhost:8080/"
        },
        "id": "4Re7awJn5x43",
        "outputId": "91faae73-976f-48aa-8ff0-70a51a4f0542"
      },
      "execution_count": null,
      "outputs": [
        {
          "output_type": "stream",
          "name": "stdout",
          "text": [
            "('www.python.org', 80)\n",
            "('GOOG', 100, 490.1)\n"
          ]
        }
      ]
    },
    {
      "cell_type": "code",
      "source": [
        "#1.10\n",
        "names1 = { 'IBM', 'MSFT', 'AA' }\n",
        "names1.add(\"ABC\")\n",
        "names2 = set(['IBM', 'MSFT', 'HPE', 'IBM', 'CAT'])\n",
        "names2.discard(\"CAT\")\n",
        "print(names1)\n",
        "print(names2)\n",
        "names1.add(\"ABC\")\n",
        "#sets are like tuples and lists with slightly different characteristics"
      ],
      "metadata": {
        "colab": {
          "base_uri": "https://localhost:8080/"
        },
        "id": "wQMEKWn-7WYX",
        "outputId": "93bd540b-5fae-4cb3-bf01-e3c23c12113a"
      },
      "execution_count": null,
      "outputs": [
        {
          "output_type": "stream",
          "name": "stdout",
          "text": [
            "{'AA', 'IBM', 'MSFT', 'ABC'}\n",
            "{'HPE', 'IBM', 'MSFT'}\n"
          ]
        }
      ]
    },
    {
      "cell_type": "code",
      "source": [
        "#1.11\n",
        "s={\n",
        "    'name' : 'GAME',\n",
        "    'shares' : 10,\n",
        "    'price' :50\n",
        "}\n",
        "print(s)\n",
        "name = s['name']\n",
        "cost = s['shares'] * s['price']\n",
        "print(s)\n",
        "s['shares'] = 75\n",
        "s['date'] = '2007-06-07'\n",
        "prices = {\n",
        "    'GAME' : 30,\n",
        "    'VAL' :\n",
        "}"
      ],
      "metadata": {
        "colab": {
          "base_uri": "https://localhost:8080/"
        },
        "id": "BUyt7bQi0KWs",
        "outputId": "5f1fa2bf-505b-475f-ea2b-69cd66c07140"
      },
      "execution_count": null,
      "outputs": [
        {
          "output_type": "stream",
          "name": "stdout",
          "text": [
            "{'name': 'GAME', 'shares': 10, 'price': 50}\n",
            "{'name': 'GAME', 'shares': 10, 'price': 50}\n"
          ]
        }
      ]
    },
    {
      "cell_type": "code",
      "source": [
        "#1.12\n",
        "for n in [2, 4, 6, 8]:\n",
        "  print(f'3 to the {n} power is {3**n}')\n",
        "range(10, 2, -3)\n",
        "message = 'Hello world'\n",
        "for c in message:\n",
        "  print(c)\n",
        "#you can alter statements and lists in a variety of ways using all sorts of different features"
      ],
      "metadata": {
        "colab": {
          "base_uri": "https://localhost:8080/"
        },
        "id": "uG_uQs0iLaVC",
        "outputId": "d6188fc0-c32f-4b84-9e78-dfa477ad0db0"
      },
      "execution_count": null,
      "outputs": [
        {
          "output_type": "stream",
          "name": "stdout",
          "text": [
            "3 to the 2 power is 9\n",
            "3 to the 4 power is 81\n",
            "3 to the 6 power is 729\n",
            "3 to the 8 power is 6561\n",
            "H\n",
            "e\n",
            "l\n",
            "l\n",
            "o\n",
            " \n",
            "w\n",
            "o\n",
            "r\n",
            "l\n",
            "d\n"
          ]
        }
      ]
    },
    {
      "cell_type": "code",
      "source": [
        "#1.13\n",
        "print(4/2)\n",
        "print(4//2)\n",
        "5 * 2 - 3\n",
        "def connect(hostname, port, timeout=300):\n",
        "  connect('www.python.org', 80)\n",
        "  connect('www.python.org', 80, 500)\n",
        "  connect('www.python.org', 80, timeout=500)\n",
        "  connect(port=80, hostname='www.python.org')\n",
        "  debug = True # Global variable\n",
        "def read_data(filename):\n",
        "  if debug:\n",
        "    print('Reading', filename)\n",
        "#you can divide in more than one way in python, and you can connect to other web sources externally as well"
      ],
      "metadata": {
        "colab": {
          "base_uri": "https://localhost:8080/"
        },
        "id": "PhV6qZXd8wB8",
        "outputId": "f46e3ef1-b999-4097-cddb-45e46a7ad3a9"
      },
      "execution_count": null,
      "outputs": [
        {
          "output_type": "stream",
          "name": "stdout",
          "text": [
            "2.0\n",
            "2\n"
          ]
        }
      ]
    },
    {
      "cell_type": "code",
      "source": [
        "#1.14\n",
        "#"
      ],
      "metadata": {
        "colab": {
          "base_uri": "https://localhost:8080/",
          "height": 245
        },
        "id": "1Vy57siHDc-Y",
        "outputId": "94066eb7-f530-4e11-cfff-5f6169f6c00f"
      },
      "execution_count": null,
      "outputs": [
        {
          "output_type": "error",
          "ename": "AttributeError",
          "evalue": "ignored",
          "traceback": [
            "\u001b[0;31m---------------------------------------------------------------------------\u001b[0m",
            "\u001b[0;31mAttributeError\u001b[0m                            Traceback (most recent call last)",
            "\u001b[0;32m<ipython-input-21-946af25e472b>\u001b[0m in \u001b[0;36m<cell line: 2>\u001b[0;34m()\u001b[0m\n\u001b[1;32m      1\u001b[0m \u001b[0;31m#1.14\u001b[0m\u001b[0;34m\u001b[0m\u001b[0;34m\u001b[0m\u001b[0m\n\u001b[0;32m----> 2\u001b[0;31m \u001b[0mportfolio\u001b[0m\u001b[0;34m.\u001b[0m\u001b[0mcsv\u001b[0m \u001b[0;34m=\u001b[0m \u001b[0;34m[\u001b[0m\u001b[0;34m]\u001b[0m\u001b[0;34m\u001b[0m\u001b[0;34m\u001b[0m\u001b[0m\n\u001b[0m\u001b[1;32m      3\u001b[0m \u001b[0;32mwith\u001b[0m \u001b[0mopen\u001b[0m\u001b[0;34m(\u001b[0m\u001b[0;34m'portfolio.csv'\u001b[0m\u001b[0;34m)\u001b[0m \u001b[0;32mas\u001b[0m \u001b[0mfile\u001b[0m\u001b[0;34m:\u001b[0m\u001b[0;34m\u001b[0m\u001b[0;34m\u001b[0m\u001b[0m\n\u001b[1;32m      4\u001b[0m   \u001b[0;32mfor\u001b[0m \u001b[0mline\u001b[0m \u001b[0;32min\u001b[0m \u001b[0mfile\u001b[0m\u001b[0;34m:\u001b[0m\u001b[0;34m\u001b[0m\u001b[0;34m\u001b[0m\u001b[0m\n\u001b[1;32m      5\u001b[0m     \u001b[0mrow\u001b[0m \u001b[0;34m=\u001b[0m \u001b[0mline\u001b[0m\u001b[0;34m.\u001b[0m\u001b[0msplit\u001b[0m\u001b[0;34m(\u001b[0m\u001b[0;34m','\u001b[0m\u001b[0;34m)\u001b[0m\u001b[0;34m\u001b[0m\u001b[0;34m\u001b[0m\u001b[0m\n",
            "\u001b[0;31mAttributeError\u001b[0m: 'list' object has no attribute 'csv'"
          ]
        }
      ]
    },
    {
      "cell_type": "code",
      "source": [
        "#1.15\n",
        "import atexit\n",
        "def cleanup():\n",
        "  print(\"Going away...\")\n",
        "  close_connection(connection)\n",
        "atexit.register(cleanup)\n",
        "#raise SystemExit(\"Error\")\n",
        "#you can shut down a program or do a system cleanup with a python program"
      ],
      "metadata": {
        "colab": {
          "base_uri": "https://localhost:8080/",
          "height": 123
        },
        "id": "VoCKiItfHJnU",
        "outputId": "b898674d-f5e9-4e64-c615-4ce894a8ec0c"
      },
      "execution_count": null,
      "outputs": [
        {
          "output_type": "error",
          "ename": "SystemExit",
          "evalue": "ignored",
          "traceback": [
            "An exception has occurred, use %tb to see the full traceback.\n",
            "\u001b[0;31mSystemExit\u001b[0m\u001b[0;31m:\u001b[0m Error\n"
          ]
        }
      ]
    },
    {
      "cell_type": "code",
      "source": [
        "#1.16\n",
        "items = [37, 42]\n",
        "items.append(73)\n",
        "print(items)\n",
        "items.__add__([73,101])\n",
        "class Stack:\n",
        "  def __init__(self): # Initialize the stack\n",
        "    self._items = [ ]\n",
        "  def push(self, item):\n",
        "    self._items.append(item)\n",
        "  def pop(self):\n",
        "    return self._items.pop()\n",
        "  def __repr__(self):\n",
        "    return f'<{type(self).__name__} at 0x{id(self):x}, size={len(self)}>'\n",
        "  def __len__(self):\n",
        "    return len(self._items)\n",
        "s = Stack()\n",
        "s.push('Dave')\n",
        "s.push(42)\n",
        "s.push([3, 4, 5])\n",
        "x = s.pop()\n",
        "y = s.pop()\n",
        "print(x,y)"
      ],
      "metadata": {
        "colab": {
          "base_uri": "https://localhost:8080/"
        },
        "id": "KIrN3fN6JkoQ",
        "outputId": "6f07c645-a036-46ba-9991-58205e3aa96a"
      },
      "execution_count": null,
      "outputs": [
        {
          "output_type": "stream",
          "name": "stdout",
          "text": [
            "[37, 42, 73]\n",
            "[3, 4, 5] 42\n"
          ]
        }
      ]
    },
    {
      "cell_type": "code",
      "source": [
        "#1.17\n",
        "#you can open and edit files with python"
      ],
      "metadata": {
        "id": "uMIR9hspNaZ2"
      },
      "execution_count": null,
      "outputs": []
    },
    {
      "cell_type": "code",
      "source": [
        "#1.18\n",
        "def main(argv):\n",
        "  if len(argv) == 1:\n",
        "    filename = input('Enter filename: ')\n",
        "  elif len(argv) == 2:\n",
        "    filename = argv[1]\n",
        "  else:\n",
        "    raise SystemExit(f'Usage: {argv[0]} [ filename ]')\n",
        "  portfolio = read_portfolio(filename)\n",
        "  for name, shares, price in portfolio:\n",
        "    print(f'{name:>10s} {shares:10d} {price:10.2f}')"
      ],
      "metadata": {
        "id": "9RkLjRL-PoPG"
      },
      "execution_count": null,
      "outputs": []
    },
    {
      "cell_type": "code",
      "source": [
        "#1.19\n",
        "#files can be read and imported in various ways in python code"
      ],
      "metadata": {
        "id": "XfvZzs4jSFyC"
      },
      "execution_count": null,
      "outputs": []
    },
    {
      "cell_type": "code",
      "source": [
        "#1.21\n",
        "#you can structure applications by various separate methods"
      ],
      "metadata": {
        "colab": {
          "base_uri": "https://localhost:8080/",
          "height": 140
        },
        "id": "OVidJ5bSTjok",
        "outputId": "a31ec5e7-010a-4691-e033-16782e82c6b9"
      },
      "execution_count": null,
      "outputs": [
        {
          "output_type": "error",
          "ename": "SyntaxError",
          "evalue": "ignored",
          "traceback": [
            "\u001b[0;36m  File \u001b[0;32m\"<ipython-input-50-fe3d83c1593f>\"\u001b[0;36m, line \u001b[0;32m2\u001b[0m\n\u001b[0;31m    tutorial-project/\u001b[0m\n\u001b[0m                     ^\u001b[0m\n\u001b[0;31mSyntaxError\u001b[0m\u001b[0;31m:\u001b[0m invalid syntax\n"
          ]
        }
      ]
    }
  ]
}