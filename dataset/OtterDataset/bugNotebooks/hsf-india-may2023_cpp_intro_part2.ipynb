{
 "cells": [
  {
   "cell_type": "markdown",
   "id": "898b1c54-e686-4b88-9116-a4cde7328edf",
   "metadata": {
    "slideshow": {
     "slide_type": "slide"
    },
    "tags": []
   },
   "source": [
    "# Highlights of Compiling, linking, and the C++ ecosystem\n",
    "\n",
    "  * So far we did everything within the interactive environment.\n",
    "  * To contribute to larger projects and to build optimized applications, we need to use the compiler directly\n",
    "  "
   ]
  },
  {
   "cell_type": "markdown",
   "id": "3f47c4ea-d63a-4f36-959f-63646d2a832c",
   "metadata": {
    "slideshow": {
     "slide_type": "slide"
    },
    "tags": []
   },
   "source": [
    "# C++ Compilers\n",
    "\n",
    "Widely used compilers include:\n",
    "  * GCC is the current standard in HEP\n",
    "  * LLVM/Clang\n",
    "  * Intel/ICC\n",
    "  * Microsoft/MSVC\n",
    "  \n",
    "We will use GCC today. The syntax is essentially the same (some compiler options might be different)\n",
    "\n",
    "Best practice note: Using 2 will help find bugs and practices that do not conform to the C++ standard. Each compiler is different \n"
   ]
  },
  {
   "cell_type": "markdown",
   "id": "4a376b8e-aa1d-4def-9c09-5f1ed40a9524",
   "metadata": {
    "slideshow": {
     "slide_type": "slide"
    },
    "tags": []
   },
   "source": [
    "# What do compilers do?\n",
    "\n",
    "Inputs can be\n",
    "   * source code \n",
    "   * header/interface files\n",
    "   * already built libraries\n",
    "   \n",
    "Output can be\n",
    "   * Object files\n",
    "   * libraries \n",
    "   * executables\n",
    "   \n",
    "Typical usage is to build objects files, (optionally) combine them into libraries, and build an overall executable"
   ]
  },
  {
   "cell_type": "markdown",
   "id": "5bab00fd-8062-42ae-92b4-bfbec24d6e5e",
   "metadata": {
    "slideshow": {
     "slide_type": "slide"
    },
    "tags": []
   },
   "source": [
    "<center><img src=\"./images/compile.png\" width=\"500\" /></center>"
   ]
  },
  {
   "cell_type": "markdown",
   "id": "590e2dba-d7f9-4dfd-9c47-16aafa427604",
   "metadata": {
    "slideshow": {
     "slide_type": "slide"
    },
    "tags": []
   },
   "source": [
    "# Essential options\n",
    "\n",
    "Execution\n",
    "  * ```-E``` stop after preprocessing \n",
    "  * ```-c``` stop after compilation \n",
    "\n",
    "Optimization\n",
    "  * ```-g``` add debug symbols\n",
    "  * ```-O0``` no optimization - Use ```-g -O0``` to debug\n",
    "  * ```-O2``` and ```-O3``` to have the compiler (highly) optimize [```-O3``` is a good default]\n",
    "  \n",
    "File management\n",
    "  * ```-I<directory>``` Directory in which to look for header/include files (use multiple ```-I``` for multiple paths)\n",
    "  * ```-L<directory>``` Directory in which to look for (shared) libraries (use multiple ```-L``` for multiple paths)\n",
    "  * ```-l<lib name>``` Library to link against (but drop the leading ```lib``` and trailing ```.so``` or ```.a```\n",
    "  * ```-o<output name>``` Output file\n",
    "  "
   ]
  },
  {
   "cell_type": "markdown",
   "id": "a6756ebd-02b6-445f-a6e1-a467a05c0b8b",
   "metadata": {
    "slideshow": {
     "slide_type": "slide"
    },
    "tags": []
   },
   "source": [
    "# More essential options\n",
    "\n",
    "Compiler configuration\n",
    "  * ```-std=c++14``` to set the C++ standard to use (11,14,17,20....)\n",
    "  * ```-fPIC``` needed when compiling for shared libraries\n",
    "  \n",
    "Warnings\n",
    "  * ```-Wall``` get all warnings (but only a message in stdout..)\n",
    "  * ```-Werror``` Any warning stops compilation\n",
    "  * You also have fine-grained control over different types of warnings to enable as errors\n",
    "  \n",
    "Best practice: Use ```-Wall``` - warnings are more often than not a sign of a code bug"
   ]
  },
  {
   "cell_type": "markdown",
   "id": "6e4295c3-5a8e-439b-ab3b-e5b116deb1cb",
   "metadata": {
    "slideshow": {
     "slide_type": "slide"
    },
    "tags": []
   },
   "source": [
    "# Lets try it"
   ]
  },
  {
   "cell_type": "markdown",
   "id": "81ef3044-a102-410e-97a5-821246482b06",
   "metadata": {},
   "source": [
    "  * First lets look at the environment"
   ]
  },
  {
   "cell_type": "code",
   "execution_count": 1,
   "id": "4795d50b-03e0-4355-9dc9-2615908706ed",
   "metadata": {
    "slideshow": {
     "slide_type": "fragment"
    },
    "tags": []
   },
   "outputs": [
    {
     "name": "stdout",
     "output_type": "stream",
     "text": [
      "hello.cpp\n",
      "long-lines.cpp\n",
      "main.cpp\n",
      "\n",
      "some include files too\n",
      "hello.hpp\n"
     ]
    }
   ],
   "source": [
    "%%sh\n",
    "cd /notebook/code\n",
    "ls *.cpp\n",
    "echo \"\\nsome include files too\"\n",
    "ls includes"
   ]
  },
  {
   "cell_type": "code",
   "execution_count": 2,
   "id": "83830ad2-cc4d-4d26-9e01-fc433a157d6c",
   "metadata": {
    "slideshow": {
     "slide_type": "fragment"
    },
    "tags": []
   },
   "outputs": [
    {
     "name": "stdout",
     "output_type": "stream",
     "text": [
      "/opt/conda/envs/2023-05-01-hsf-india-tutorial/bin/g++\n"
     ]
    }
   ],
   "source": [
    "%%sh\n",
    "which g++"
   ]
  },
  {
   "cell_type": "code",
   "execution_count": 3,
   "id": "c8610f7d-c3dc-409e-b783-ff54ab339c6b",
   "metadata": {
    "slideshow": {
     "slide_type": "slide"
    },
    "tags": []
   },
   "outputs": [
    {
     "name": "stderr",
     "output_type": "stream",
     "text": [
      "hello.cpp:1:10: fatal error: hello.hpp: No such file or directory\n",
      "    1 | #include \"hello.hpp\"\n",
      "      |          ^~~~~~~~~~~\n",
      "compilation terminated.\n"
     ]
    },
    {
     "ename": "CalledProcessError",
     "evalue": "Command 'b'cd /notebook/code\\ng++ -c hello.cpp\\n'' returned non-zero exit status 1.",
     "output_type": "error",
     "traceback": [
      "\u001b[0;31m---------------------------------------------------------------------------\u001b[0m",
      "\u001b[0;31mCalledProcessError\u001b[0m                        Traceback (most recent call last)",
      "Cell \u001b[0;32mIn[3], line 1\u001b[0m\n\u001b[0;32m----> 1\u001b[0m \u001b[43mget_ipython\u001b[49m\u001b[43m(\u001b[49m\u001b[43m)\u001b[49m\u001b[38;5;241;43m.\u001b[39;49m\u001b[43mrun_cell_magic\u001b[49m\u001b[43m(\u001b[49m\u001b[38;5;124;43m'\u001b[39;49m\u001b[38;5;124;43msh\u001b[39;49m\u001b[38;5;124;43m'\u001b[39;49m\u001b[43m,\u001b[49m\u001b[43m \u001b[49m\u001b[38;5;124;43m'\u001b[39;49m\u001b[38;5;124;43m'\u001b[39;49m\u001b[43m,\u001b[49m\u001b[43m \u001b[49m\u001b[38;5;124;43m'\u001b[39;49m\u001b[38;5;124;43mcd /notebook/code\u001b[39;49m\u001b[38;5;130;43;01m\\n\u001b[39;49;00m\u001b[38;5;124;43mg++ -c hello.cpp\u001b[39;49m\u001b[38;5;130;43;01m\\n\u001b[39;49;00m\u001b[38;5;124;43m'\u001b[39;49m\u001b[43m)\u001b[49m\n",
      "File \u001b[0;32m/opt/conda/envs/2023-05-01-hsf-india-tutorial/lib/python3.10/site-packages/IPython/core/interactiveshell.py:2478\u001b[0m, in \u001b[0;36mInteractiveShell.run_cell_magic\u001b[0;34m(self, magic_name, line, cell)\u001b[0m\n\u001b[1;32m   2476\u001b[0m \u001b[38;5;28;01mwith\u001b[39;00m \u001b[38;5;28mself\u001b[39m\u001b[38;5;241m.\u001b[39mbuiltin_trap:\n\u001b[1;32m   2477\u001b[0m     args \u001b[38;5;241m=\u001b[39m (magic_arg_s, cell)\n\u001b[0;32m-> 2478\u001b[0m     result \u001b[38;5;241m=\u001b[39m \u001b[43mfn\u001b[49m\u001b[43m(\u001b[49m\u001b[38;5;241;43m*\u001b[39;49m\u001b[43margs\u001b[49m\u001b[43m,\u001b[49m\u001b[43m \u001b[49m\u001b[38;5;241;43m*\u001b[39;49m\u001b[38;5;241;43m*\u001b[39;49m\u001b[43mkwargs\u001b[49m\u001b[43m)\u001b[49m\n\u001b[1;32m   2480\u001b[0m \u001b[38;5;66;03m# The code below prevents the output from being displayed\u001b[39;00m\n\u001b[1;32m   2481\u001b[0m \u001b[38;5;66;03m# when using magics with decodator @output_can_be_silenced\u001b[39;00m\n\u001b[1;32m   2482\u001b[0m \u001b[38;5;66;03m# when the last Python token in the expression is a ';'.\u001b[39;00m\n\u001b[1;32m   2483\u001b[0m \u001b[38;5;28;01mif\u001b[39;00m \u001b[38;5;28mgetattr\u001b[39m(fn, magic\u001b[38;5;241m.\u001b[39mMAGIC_OUTPUT_CAN_BE_SILENCED, \u001b[38;5;28;01mFalse\u001b[39;00m):\n",
      "File \u001b[0;32m/opt/conda/envs/2023-05-01-hsf-india-tutorial/lib/python3.10/site-packages/IPython/core/magics/script.py:153\u001b[0m, in \u001b[0;36mScriptMagics._make_script_magic.<locals>.named_script_magic\u001b[0;34m(line, cell)\u001b[0m\n\u001b[1;32m    151\u001b[0m \u001b[38;5;28;01melse\u001b[39;00m:\n\u001b[1;32m    152\u001b[0m     line \u001b[38;5;241m=\u001b[39m script\n\u001b[0;32m--> 153\u001b[0m \u001b[38;5;28;01mreturn\u001b[39;00m \u001b[38;5;28;43mself\u001b[39;49m\u001b[38;5;241;43m.\u001b[39;49m\u001b[43mshebang\u001b[49m\u001b[43m(\u001b[49m\u001b[43mline\u001b[49m\u001b[43m,\u001b[49m\u001b[43m \u001b[49m\u001b[43mcell\u001b[49m\u001b[43m)\u001b[49m\n",
      "File \u001b[0;32m/opt/conda/envs/2023-05-01-hsf-india-tutorial/lib/python3.10/site-packages/IPython/core/magics/script.py:305\u001b[0m, in \u001b[0;36mScriptMagics.shebang\u001b[0;34m(self, line, cell)\u001b[0m\n\u001b[1;32m    300\u001b[0m \u001b[38;5;28;01mif\u001b[39;00m args\u001b[38;5;241m.\u001b[39mraise_error \u001b[38;5;129;01mand\u001b[39;00m p\u001b[38;5;241m.\u001b[39mreturncode \u001b[38;5;241m!=\u001b[39m \u001b[38;5;241m0\u001b[39m:\n\u001b[1;32m    301\u001b[0m     \u001b[38;5;66;03m# If we get here and p.returncode is still None, we must have\u001b[39;00m\n\u001b[1;32m    302\u001b[0m     \u001b[38;5;66;03m# killed it but not yet seen its return code. We don't wait for it,\u001b[39;00m\n\u001b[1;32m    303\u001b[0m     \u001b[38;5;66;03m# in case it's stuck in uninterruptible sleep. -9 = SIGKILL\u001b[39;00m\n\u001b[1;32m    304\u001b[0m     rc \u001b[38;5;241m=\u001b[39m p\u001b[38;5;241m.\u001b[39mreturncode \u001b[38;5;129;01mor\u001b[39;00m \u001b[38;5;241m-\u001b[39m\u001b[38;5;241m9\u001b[39m\n\u001b[0;32m--> 305\u001b[0m     \u001b[38;5;28;01mraise\u001b[39;00m CalledProcessError(rc, cell)\n",
      "\u001b[0;31mCalledProcessError\u001b[0m: Command 'b'cd /notebook/code\\ng++ -c hello.cpp\\n'' returned non-zero exit status 1."
     ]
    }
   ],
   "source": [
    "%%sh\n",
    "cd /notebook/code\n",
    "g++ -c hello.cpp"
   ]
  },
  {
   "cell_type": "markdown",
   "id": "69359fdf-1e0a-4020-9b6b-614555778172",
   "metadata": {
    "slideshow": {
     "slide_type": "slide"
    },
    "tags": []
   },
   "source": [
    "Whoops, we need to tell the compiler where to find the include file that our code uses"
   ]
  },
  {
   "cell_type": "code",
   "execution_count": null,
   "id": "f3ce4ee8-c7ec-4d6d-86aa-558909536ce7",
   "metadata": {
    "slideshow": {
     "slide_type": "fragment"
    },
    "tags": []
   },
   "outputs": [],
   "source": [
    "%%sh\n",
    "cd /notebook/code\n",
    "g++ -c hello.cpp -I./includes"
   ]
  },
  {
   "cell_type": "markdown",
   "id": "f57e2f45-4186-4e12-972e-e43c04e03f8b",
   "metadata": {
    "slideshow": {
     "slide_type": "fragment"
    },
    "tags": []
   },
   "source": [
    "And we should add recommended options"
   ]
  },
  {
   "cell_type": "code",
   "execution_count": null,
   "id": "fae91f98-1b6d-4268-b046-23155afc4761",
   "metadata": {
    "slideshow": {
     "slide_type": "slide"
    },
    "tags": []
   },
   "outputs": [],
   "source": [
    "%%sh\n",
    "cd /notebook/code\n",
    "g++ -c hello.cpp -I./includes -Wall -std=c++17"
   ]
  },
  {
   "cell_type": "markdown",
   "id": "97700554-1ad0-4265-b658-4661f6c339bd",
   "metadata": {
    "slideshow": {
     "slide_type": "fragment"
    },
    "tags": []
   },
   "source": [
    "Whoops, we found a bug. lets fix it and try again"
   ]
  },
  {
   "cell_type": "code",
   "execution_count": null,
   "id": "0eaa70bb-77a5-4b98-a78c-4241dfb0ce15",
   "metadata": {
    "slideshow": {
     "slide_type": "slide"
    },
    "tags": []
   },
   "outputs": [],
   "source": [
    "%%sh\n",
    "cd /notebook/code\n",
    "g++ -c hello.cpp -I./includes -Wall -std=c++17\n",
    "ls -l hello.o"
   ]
  },
  {
   "cell_type": "markdown",
   "id": "12b61c57-6a98-4da4-8936-072c687ffc4f",
   "metadata": {
    "slideshow": {
     "slide_type": "fragment"
    },
    "tags": []
   },
   "source": [
    "Great. Now it works. We can also optimize our program"
   ]
  },
  {
   "cell_type": "code",
   "execution_count": null,
   "id": "b518abdb-5810-4598-b67f-fc14238038ce",
   "metadata": {
    "slideshow": {
     "slide_type": "slide"
    },
    "tags": []
   },
   "outputs": [],
   "source": [
    "%%sh\n",
    "cd /notebook/code\n",
    "g++ -c hello.cpp -I./includes -Wall  -std=c++17 -O3\n",
    "ls -l hello.o"
   ]
  },
  {
   "cell_type": "markdown",
   "id": "2792ff6b-9a54-4e7a-b67f-bf59b0ac5fc1",
   "metadata": {
    "slideshow": {
     "slide_type": "fragment"
    },
    "tags": []
   },
   "source": [
    "Great - this is a simple program, so we can build an executable just with this"
   ]
  },
  {
   "cell_type": "code",
   "execution_count": null,
   "id": "7e09eb33-4518-4edd-9693-39b3109a86bd",
   "metadata": {
    "slideshow": {
     "slide_type": "slide"
    },
    "tags": []
   },
   "outputs": [],
   "source": [
    "%%sh\n",
    "cd /notebook/code\n",
    "g++ main.cpp hello.o -I./includes -std=c++17\n",
    "ls -l a.out"
   ]
  },
  {
   "cell_type": "markdown",
   "id": "7538f993-281d-4a40-b66a-15284c20b40d",
   "metadata": {
    "slideshow": {
     "slide_type": "fragment"
    },
    "tags": []
   },
   "source": [
    "Whoops - lets give our program a better name"
   ]
  },
  {
   "cell_type": "code",
   "execution_count": null,
   "id": "609195cf-c0fc-48f4-ae01-2c944d1ae59f",
   "metadata": {
    "slideshow": {
     "slide_type": "fragment"
    },
    "tags": []
   },
   "outputs": [],
   "source": [
    "%%sh\n",
    "cd /notebook/code\n",
    "g++ main.cpp hello.o -I./includes -o hello_world\n",
    "ls -l hello_world"
   ]
  },
  {
   "cell_type": "markdown",
   "id": "423a9fad-4b1c-44e1-9998-1ce813c862f4",
   "metadata": {
    "slideshow": {
     "slide_type": "slide"
    },
    "tags": []
   },
   "source": [
    "And run it"
   ]
  },
  {
   "cell_type": "code",
   "execution_count": null,
   "id": "7b6a2c39-5fc6-45a7-b3d4-22fed32d2133",
   "metadata": {
    "tags": []
   },
   "outputs": [],
   "source": [
    "%%sh\n",
    "cd /notebook/code\n",
    "./hello_world"
   ]
  },
  {
   "cell_type": "markdown",
   "id": "241d3313-eb02-46ea-9bb8-c70dfef6a4de",
   "metadata": {
    "slideshow": {
     "slide_type": "slide"
    },
    "tags": []
   },
   "source": [
    "We can also make a static library and link against it"
   ]
  },
  {
   "cell_type": "code",
   "execution_count": null,
   "id": "57261f47-6142-4eb7-b55a-4826a95b62f5",
   "metadata": {
    "tags": []
   },
   "outputs": [],
   "source": [
    "%%sh\n",
    "cd /notebook/code\n",
    "rm hello_world\n",
    "ar rcs libhello.a hello.o\n",
    "ls -l libhello.a\n",
    "rm hello.o\n",
    "g++ main.cpp -I./includes -lhello -L. -o hello_world\n",
    "ls -l hello_world"
   ]
  },
  {
   "cell_type": "markdown",
   "id": "3b9ef452-94a7-4598-bd50-af6d73e8aa8a",
   "metadata": {
    "slideshow": {
     "slide_type": "slide"
    },
    "tags": []
   },
   "source": [
    "Now lets try the same, but with a shared library"
   ]
  },
  {
   "cell_type": "code",
   "execution_count": null,
   "id": "37ff8f43-c2bf-4251-8a1b-e7dddb998031",
   "metadata": {
    "tags": []
   },
   "outputs": [],
   "source": [
    "%%sh\n",
    "cd /notebook/code\n",
    "rm libhello.a hello.o hello_world"
   ]
  },
  {
   "cell_type": "code",
   "execution_count": null,
   "id": "fe7bc3a7-436e-4289-b6a0-a0564d3d310e",
   "metadata": {
    "slideshow": {
     "slide_type": "fragment"
    },
    "tags": []
   },
   "outputs": [],
   "source": [
    "%%sh\n",
    "cd /notebook/code\n",
    "g++ -c hello.cpp -I./includes  -Wall -std=c++17 -O3 -fPIC \n",
    "ls -l hello.o"
   ]
  },
  {
   "cell_type": "markdown",
   "id": "f98052b9-4fff-469a-9907-ee5f36b43fd7",
   "metadata": {
    "slideshow": {
     "slide_type": "fragment"
    },
    "tags": []
   },
   "source": [
    "Next build the shared library itself"
   ]
  },
  {
   "cell_type": "code",
   "execution_count": null,
   "id": "08dcc722-65a1-45ff-a57a-c82ee12fe8ea",
   "metadata": {
    "tags": []
   },
   "outputs": [],
   "source": [
    "%%sh\n",
    "cd /notebook/code\n",
    "g++ hello.o -shared -o libhello.so\n",
    "ls -l libhello.so"
   ]
  },
  {
   "cell_type": "markdown",
   "id": "ddc7b4ab-319d-4198-81b5-8229f06b79b8",
   "metadata": {
    "slideshow": {
     "slide_type": "fragment"
    },
    "tags": []
   },
   "source": [
    "And the executable"
   ]
  },
  {
   "cell_type": "code",
   "execution_count": null,
   "id": "9227587e-7c19-4166-9854-ba8ea3e0fd5a",
   "metadata": {
    "tags": []
   },
   "outputs": [],
   "source": [
    "%%sh\n",
    "cd /notebook/code\n",
    "g++ main.cpp -I./includes -lhello -L. -o hello_world\n",
    "ls -l hello_world"
   ]
  },
  {
   "cell_type": "markdown",
   "id": "b0ee0c80-95f8-4a8d-8894-a5980c681c11",
   "metadata": {
    "slideshow": {
     "slide_type": "slide"
    },
    "tags": []
   },
   "source": [
    "And run it"
   ]
  },
  {
   "cell_type": "code",
   "execution_count": null,
   "id": "0be08e31-5649-4053-a901-ff570dea206e",
   "metadata": {
    "tags": []
   },
   "outputs": [],
   "source": [
    "%%sh\n",
    "cd /notebook/code\n",
    "./hello_world"
   ]
  },
  {
   "cell_type": "markdown",
   "id": "5abc6334-42b9-4cc7-b1e0-d26b26e1ad74",
   "metadata": {
    "slideshow": {
     "slide_type": "fragment"
    },
    "tags": []
   },
   "source": [
    "whoops - that did not work because with shared libraries need to be available/findable at run time"
   ]
  },
  {
   "cell_type": "code",
   "execution_count": null,
   "id": "03f2c6da-f6ee-49dc-8ad6-a403bd94bf34",
   "metadata": {
    "slideshow": {
     "slide_type": "fragment"
    },
    "tags": []
   },
   "outputs": [],
   "source": [
    "%%sh\n",
    "cd /notebook/code\n",
    "export LD_LIBRARY_PATH=$PWD\n",
    "./hello_world"
   ]
  },
  {
   "cell_type": "markdown",
   "id": "802dc18c-cf7d-4c72-9dfb-56142da83040",
   "metadata": {
    "slideshow": {
     "slide_type": "slide"
    },
    "tags": []
   },
   "source": [
    "Now it works.\n",
    "  * We adjusted LD_LIBRARY_PATH at run time to find the library we just built. \n",
    "\n",
    "Shared libraries are the recommended approach for complex programs. This differs from static linking:\n",
    "  * All ```.so``` must be available at run time.\n",
    "  * No need to relink the program when a single translation unit is changed. Just recompile it and remake the corresponding shared library.\n",
    "  * Large flexibly enhancement, but normally at a small computational penelty"
   ]
  },
  {
   "cell_type": "markdown",
   "id": "749d1048-4ae4-4b0b-8419-02bb6e48e35f",
   "metadata": {
    "slideshow": {
     "slide_type": "slide"
    },
    "tags": []
   },
   "source": [
    "# How to generalize this for your program?\n",
    "\n",
    "  * For each source translation unit (```cpp``` file)\n",
    "```g++ -fPIC <file> -I./includes -O3``` <br>\n",
    "```g++ <list of .o files> -shared -o <output library name>``` <br>\n",
    "```g++ <file with main> -l<library name> .... options```"
   ]
  },
  {
   "cell_type": "markdown",
   "id": "ce7e36a8-f8fd-4058-a71d-badd836b36d0",
   "metadata": {
    "slideshow": {
     "slide_type": "slide"
    },
    "tags": []
   },
   "source": [
    "# Automating your compile and link steps\n",
    "\n",
    "  * Makefiles (simple but relatively hardcoded)\n",
    "  * automake (relatively obsolete now)\n",
    "  * cmake -- Flexible and powerful\n",
    "  \n",
    "**Recommendation: Use cmake**\n",
    "\n",
    "Learning cmake is highly useful when managing libraries and programs (I need to learn it too - so I won't try to teach it) \n",
    "  * Here is a course on it https://hsf-training.github.io/hsf-training-cmake-webpage/"
   ]
  },
  {
   "cell_type": "markdown",
   "id": "c62e4a2c-e425-4415-81b3-ed01998a8896",
   "metadata": {
    "slideshow": {
     "slide_type": "slide"
    },
    "tags": []
   },
   "source": [
    "# Selected tools from C++ ecosystem"
   ]
  },
  {
   "cell_type": "markdown",
   "id": "8cd39b3e-2e35-4bda-9062-20ab3a9dee04",
   "metadata": {
    "slideshow": {
     "slide_type": "slide"
    },
    "tags": []
   },
   "source": [
    "# Code formating using ```clang-format``` \n",
    "\n",
    "  * ```clang-format``` automatically formats your code according to your specificiations. It Integrates into your CI, editor, etc. \n",
    "      * Has several predefined styles and considerable customization options\n",
    "      * Likely your experiment is using one (well, hopefully!)\n",
    "      * Compiler driven, so if you have problems with clang-format, be sure that your code compiles..\n",
    "  * Standardized code style increases readability. This is especially important in collaborative projects where you need to be able to read and understand code written by others. Even if its not in your preferred style, a unified style helps considerably \n",
    "\n",
    "  "
   ]
  },
  {
   "cell_type": "code",
   "execution_count": null,
   "id": "a8bb1ebb-e029-4266-8366-36f1193a3cb0",
   "metadata": {
    "slideshow": {
     "slide_type": "slide"
    },
    "tags": []
   },
   "outputs": [],
   "source": [
    "%%sh\n",
    "which clang-format"
   ]
  },
  {
   "cell_type": "code",
   "execution_count": null,
   "id": "9686f129-c153-47fb-a88b-3b7a5ff555e1",
   "metadata": {
    "slideshow": {
     "slide_type": "slide"
    },
    "tags": []
   },
   "outputs": [],
   "source": [
    "%%sh\n",
    "clang-format --help"
   ]
  },
  {
   "cell_type": "code",
   "execution_count": null,
   "id": "7c0a46d8-6c7a-46cc-92e5-d53d82f2580e",
   "metadata": {
    "slideshow": {
     "slide_type": "slide"
    },
    "tags": []
   },
   "outputs": [],
   "source": [
    "cat /notebook/code/.clang-format"
   ]
  },
  {
   "cell_type": "code",
   "execution_count": null,
   "id": "273e62a7-a8ae-4b6e-9886-04215622eeea",
   "metadata": {
    "slideshow": {
     "slide_type": "slide"
    },
    "tags": []
   },
   "outputs": [],
   "source": [
    "%%sh\n",
    "cd /notebook/code\n",
    "cat long-lines.cpp"
   ]
  },
  {
   "cell_type": "code",
   "execution_count": null,
   "id": "fd369703-9570-4bdc-bfdd-fe4738c46874",
   "metadata": {
    "slideshow": {
     "slide_type": "slide"
    },
    "tags": []
   },
   "outputs": [],
   "source": [
    "%%sh\n",
    "cd /notebook/code\n",
    "g++ long-lines.cpp -Wall -std=c++17 -o ll_exec\n",
    "./ll_exec"
   ]
  },
  {
   "cell_type": "code",
   "execution_count": null,
   "id": "20b57609-df24-4428-b197-a453ef5d070b",
   "metadata": {
    "slideshow": {
     "slide_type": "slide"
    },
    "tags": []
   },
   "outputs": [],
   "source": [
    "%%sh\n",
    "cd /notebook/code\n",
    "clang-format long-lines.cpp"
   ]
  },
  {
   "cell_type": "code",
   "execution_count": null,
   "id": "dc779901-7b1b-410a-b015-834b617500d4",
   "metadata": {
    "slideshow": {
     "slide_type": "slide"
    },
    "tags": []
   },
   "outputs": [],
   "source": [
    "%%sh\n",
    "cd /notebook/code\n",
    "clang-format -i long-lines.cpp\n",
    "git diff long-lines.cpp"
   ]
  },
  {
   "cell_type": "markdown",
   "id": "c1b00f53-6f35-4ad4-b4ed-74f269f64fc6",
   "metadata": {
    "slideshow": {
     "slide_type": "slide"
    },
    "tags": []
   },
   "source": [
    "# clang-tidy can find performance bugs and modernize your code\n",
    "\n",
    "  * ```clang-tidy``` is another LLVM tool that can find and replace out dated code constructs, or code that can be written in a more efficient manner\n",
    "  * It works much the same way as clang-format, but requires full compilation commands (eg, a *compilation command database*) to run.\n",
    "  * Extendable so you can write your own checks (perhaps your experiment has some of these running it its CI?)\n",
    "  \n",
    "I won't go through an example, but lets look at some of the ```clang-tidy``` documentation to understand what kind of code improvements it can make\n",
    "\n",
    "https://clang.llvm.org/extra/clang-tidy/\n"
   ]
  },
  {
   "cell_type": "markdown",
   "id": "cfdb5b4e-1652-4d68-9287-aab64c05f6f1",
   "metadata": {
    "slideshow": {
     "slide_type": "slide"
    },
    "tags": []
   },
   "source": [
    "# Thats it for this notebook"
   ]
  }
 ],
 "metadata": {
  "kernelspec": {
   "display_name": "Python 3 (ipykernel)",
   "language": "python",
   "name": "python3"
  },
  "language_info": {
   "codemirror_mode": {
    "name": "ipython",
    "version": 3
   },
   "file_extension": ".py",
   "mimetype": "text/x-python",
   "name": "python",
   "nbconvert_exporter": "python",
   "pygments_lexer": "ipython3",
   "version": "3.10.10"
  }
 },
 "nbformat": 4,
 "nbformat_minor": 5
}
