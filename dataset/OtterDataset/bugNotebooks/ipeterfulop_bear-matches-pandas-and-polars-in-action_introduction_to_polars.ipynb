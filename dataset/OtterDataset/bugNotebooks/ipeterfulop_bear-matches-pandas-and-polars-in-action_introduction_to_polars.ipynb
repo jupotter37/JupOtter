{
 "cells": [
  {
   "metadata": {},
   "cell_type": "markdown",
   "source": "\n",
   "id": "1523f8e814ad0488"
  },
  {
   "metadata": {},
   "cell_type": "markdown",
   "source": [
    "\n",
    "# Bevezetés a Python Polars csomag használatába"
   ],
   "id": "c0ac4b307de055b1"
  },
  {
   "metadata": {},
   "cell_type": "markdown",
   "source": [
    "\n",
    "## 1. Telepítés\n",
    "\n",
    "Az alap csomag telepítése:\n",
    "```bash\n",
    " pip install polars\n",
    "```\n",
    "\n",
    "### 1.1 Opcionális csomagok (függőségek) telepítése\n",
    "\n",
    "| Tag        | Leírás                                                                                           |\n",
    "|------------|--------------------------------------------------------------------------------------------------|\n",
    "| all        | Az összes opcionális függőség telepítése (az összes alábbi)                                       |\n",
    "| pandas     | Telepítés Pandas-szal az adatok Pandas Dataframe-ekre/sorozatokra való átalakításához            |\n",
    "| numpy      | Telepítés numpy-val az adatok numpy tömbökké történő átalakításához                               |\n",
    "| pyarrow    | Adatformátumok olvasása a PyArrow használatával                                                  |\n",
    "| fsspec     | Távoli fájlrendszerekből való olvasás támogatása                                                 |\n",
    "| connectorx | SQL adatbázisokból való olvasás támogatása                                                       |\n",
    "| xlsx2csv   | Excel fájlokból való olvasás támogatása                                                          |\n",
    "| deltalake  | Delta Lake táblákból való olvasás támogatása                                                     |\n",
    "| timezone   | Időzóna támogatás, csak akkor szükséges, ha Python<3.9-et használ, vagy Windows rendszeren van   |\n",
    "\n",
    "Opcionális függőségek részhalmazainak telepítése:  \n",
    "```bash\n",
    " pip install 'polars[pandas,numpy]'\n",
    "```\n",
    "\n",
    "Az összes opcionális függőség telepítése:  \n",
    "```bash\n",
    "pip install 'polars[all]'\n",
    "``` \n",
    "\n",
    "### 1.2 Konfiguráció\n",
    "\n",
    "Konfigurációs lehetőségek a hivatalos dokumentációban: [Config](https://docs.pola.rs/api/python/stable/reference/config.html)\n"
   ],
   "id": "97b93085b985cac4"
  },
  {
   "metadata": {},
   "cell_type": "code",
   "source": [
    "import numpy as np\n",
    "import polars as pl\n",
    "\n",
    "pl.Config.set_tbl_rows(3)  # Az alapértelmezett érték 10\n",
    "pl.Config.set_tbl_cols(None)  # Az alapértelmezett érték 10\n",
    "pl.Config.set_verbose(active=True)"
   ],
   "id": "91c1ea6cf2cef8a5",
   "outputs": [],
   "execution_count": null
  },
  {
   "metadata": {},
   "cell_type": "code",
   "source": [
    "import random\n",
    "import string\n",
    "\n",
    "nr_cols = 10\n",
    "nr_rows = 6\n",
    "string_length = 5\n",
    "data = {}\n",
    "for i in range(nr_cols):\n",
    "    data[f'column_{i}'] = [\"\".join(random.choice(string.ascii_letters) for c in range(string_length)) \\\n",
    "                           for _ in range(nr_rows)]\n",
    "\n",
    "df = pl.DataFrame(data)\n",
    "print(df)\n",
    "\n",
    "print(\"Konfigurációs beállítások felülírása:\")\n",
    "with pl.Config(tbl_cols=-1):\n",
    "    print(df)"
   ],
   "id": "9f2208e98c44e5cc",
   "outputs": [],
   "execution_count": null
  },
  {
   "metadata": {},
   "cell_type": "markdown",
   "source": [
    "## 2. Támogatott adattípusok\n",
    "\n",
    "Link a hivatalos dokumentáció kapcsolódó oldalához: [Data types](https://docs.pola.rs/api/python/stable/reference/datatypes.html)\n"
   ],
   "id": "e109350df19af0a5"
  },
  {
   "metadata": {
    "ExecuteTime": {
     "end_time": "2024-10-29T13:59:13.045362Z",
     "start_time": "2024-10-29T13:59:13.002384Z"
    }
   },
   "cell_type": "code",
   "source": [
    "df_szemelyek = pl.DataFrame({\n",
    "    \"nev\": [\"Kovács Jolán\", \"Nagy János\", \"Kiss Mária\", \"Nagy Zoltán\"],\n",
    "    \"nem\": [\"nő\", \"férfi\", \"nő\", \"férfi\"],\n",
    "    \"szuletesi_datum\": [\"1996-05-12\", \"1987-02-23\", \"1993-11-30\", \"1979-09-15\"],\n",
    "    \"magassag\": [165.5, 180.0, 173.3, 165.0]\n",
    "}, infer_schema_length=1)\n",
    "\n",
    "# infer_schema_length: int vagy None  \n",
    "# A séma kikövetkeztetéséhez beolvasandó maximális sorok száma. Ha None értékre van állítva, akkor a teljes adat beolvasható (ez lassú lehet).\n",
    "\n",
    "print(df_szemelyek.schema)\n",
    "print(df_szemelyek.dtypes)\n",
    "\n",
    "elvart_sema = pl.Schema({\n",
    "    \"x\": pl.Float64,\n",
    "    \"y\": pl.Float64,\n",
    "    \"szin\": pl.Utf8,\n",
    "    \"datum\": pl.Date\n",
    "})\n",
    "df_pontok = pl.DataFrame({\n",
    "    \"x\": [1.1, 2, 3.5, 4, 5],\n",
    "    \"y\": [6.5, -4, 3, 2.1, 1],\n",
    "    \"szin\": [\"piros\", \"kék\", \"piros\", \"sárga\", \"fekete\"],\n",
    "    \"datum\": [\"2021-01-12\", \"2021-02-23\", \"2021-03-30\", \"2021-04-15\", \"2021-05-20\"]\n",
    "}, schema=elvart_sema)\n",
    "\n",
    "print(df_pontok)\n",
    "\n"
   ],
   "id": "2e7c7ab9793d71a8",
   "outputs": [
    {
     "name": "stdout",
     "output_type": "stream",
     "text": [
      "Schema({'nev': String, 'nem': String, 'szuletesi_datum': String, 'magassag': Float64})\n",
      "[String, String, String, Float64]\n",
      "shape: (5, 4)\n",
      "┌─────┬──────┬────────┬────────────┐\n",
      "│ x   ┆ y    ┆ szin   ┆ datum      │\n",
      "│ --- ┆ ---  ┆ ---    ┆ ---        │\n",
      "│ f64 ┆ f64  ┆ str    ┆ date       │\n",
      "╞═════╪══════╪════════╪════════════╡\n",
      "│ 1.1 ┆ 6.5  ┆ piros  ┆ 2021-01-12 │\n",
      "│ 2.0 ┆ -4.0 ┆ kék    ┆ 2021-02-23 │\n",
      "│ 3.5 ┆ 3.0  ┆ piros  ┆ 2021-03-30 │\n",
      "│ 4.0 ┆ 2.1  ┆ sárga  ┆ 2021-04-15 │\n",
      "│ 5.0 ┆ 1.0  ┆ fekete ┆ 2021-05-20 │\n",
      "└─────┴──────┴────────┴────────────┘\n"
     ]
    }
   ],
   "execution_count": 108
  },
  {
   "metadata": {},
   "cell_type": "markdown",
   "source": [
    " ### 2.1 További adattípusok\n",
    "\n",
    "| Kategória       | Típus       | Leírás                                                                                                                     | Megjegyzés                                     |\n",
    "|:----------------|-------------|-----------------------------------------------------------------------------------------------------------------------------|------------------------------------------------|\n",
    "| Idő és dátum    | Date        | Naptári dátum típus. Az Arrow date32 adat típust használja, napok az 1970-01-01 UNIX epoch óta int32 formátumban.           | -5877641-06-24 és 5879610-09-09 között         |\n",
    "|                 | Datetime    | Naptári dátum és idő típus. Pontos időbélyeg int64 formátumban kódolva az UNIX epoch óta. Alapértelmezett egység mikroszekundum. |                                                |\n",
    "|                 | Duration    | Időtartam/különbség típus.                                                                                                  |                                                |\n",
    "|                 | Time        | Napi idő típus.                                                                                                            |                                                |\n",
    "| Beágyazott      | Array(*args, **kwargs) | Fix hosszúságú lista típus.                                                                                |                                                |\n",
    "|                 | List(*args, **kwargs)  | Változó hosszúságú lista típus.                                                                               |                                                |\n",
    "|                 | Struct(*args, **kwargs) | Struktúra típus.                                                                                             |                                                |\n",
    "| Egyéb           | Boolean     | Boolean típus, amely 1 bitnyi helyet foglal.                                                                               | Igaz vagy Hamis                                |\n",
    "|                 | Binary      | Bináris típus változó hosszúságú bájtokkal.                                                                                |                                                |\n",
    "|                 | Categorical | Egy kategóriák szerinti kódolás sztringek halmazához. Hatékonyabb memóriakezelést tesz lehetővé, ha egy oszlopban kevés egyedi sztring található. |                                                |\n",
    "|                 | Null        | Null / None értékeket képviselő típus.                                                                                     |                                                |\n",
    "|                 | Object      | Bármilyen Python objektum csomagolására szolgáló típus.                                                                    | Használata elkerülendő, amennyiben lehetséges. |\n",
    "|                 | String      | UTF-8 kódolású sztring típus változó hosszúsággal.                                                                         |                                                |\n",
    "|                 | Unknown     | Típus, amely azokat az adatértékeket képviseli, amelyeket statikusan nem lehetett meghatározni.                             |                                                |\n",
    "\n"
   ],
   "id": "e5020339eb24f389"
  },
  {
   "metadata": {},
   "cell_type": "markdown",
   "source": "Pár példa a fenti típusok használatára:",
   "id": "d470f253e7cbb64a"
  },
  {
   "metadata": {},
   "cell_type": "code",
   "source": [
    "pontok_df = pl.DataFrame({\n",
    "    \"egesz_szamok\": [[1,2, -1], [3,4]],\n",
    "    \"tizedes_szamok\": [[4.2,-1, 3.1], [3, 1, 0, 2]]\n",
    "    }, strict=False)\n",
    "print(pontok_df)"
   ],
   "id": "6a435e1fc6e8b240",
   "outputs": [],
   "execution_count": null
  },
  {
   "metadata": {
    "ExecuteTime": {
     "end_time": "2024-10-29T13:55:41.087570Z",
     "start_time": "2024-10-29T13:55:41.020380Z"
    }
   },
   "cell_type": "code",
   "source": [
    "df_tombok = pl.DataFrame(\n",
    "    [\n",
    "        pl.Series(\"tomb_1\", [[-1, 2], [2, 4]]),\n",
    "        pl.Series(\"tomb2_2\", [[1, 7, 1], [2, -1, 0]]),\n",
    "    ],\n",
    "    schema={\n",
    "        \"tomb_1\": pl.Array(shape=(2,), inner=pl.Int64),\n",
    "        \"tomb_2\": pl.Array(shape=(3,), inner=pl.Int64)\n",
    "    }\n",
    ")\n",
    "print(df_tombok)\n",
    "# korábban \"tomb_1\": pl.Array(width=2, ez deprecated lett\n"
   ],
   "id": "42391c66a1a7e97e",
   "outputs": [
    {
     "name": "stdout",
     "output_type": "stream",
     "text": [
      "shape: (2, 2)\n",
      "┌───────────────┬───────────────┐\n",
      "│ tomb_1        ┆ tomb_2        │\n",
      "│ ---           ┆ ---           │\n",
      "│ array[i64, 2] ┆ array[i64, 3] │\n",
      "╞═══════════════╪═══════════════╡\n",
      "│ [-1, 2]       ┆ [1, 7, 1]     │\n",
      "│ [2, 4]        ┆ [2, -1, 0]    │\n",
      "└───────────────┴───────────────┘\n"
     ]
    }
   ],
   "execution_count": 107
  },
  {
   "metadata": {},
   "cell_type": "markdown",
   "source": [
    "### 2.2 Konverziók\n",
    "\n",
    "    "
   ],
   "id": "d38707295559cb06"
  },
  {
   "metadata": {},
   "cell_type": "code",
   "source": [
    "\n",
    "df = pl.DataFrame({\n",
    "    \"id\": [1, 2, 3, 4, 5],\n",
    "    \"meres_1\": [6, -1, 3, 9.0, -10],\n",
    "    \"meres_2\": [\"1.0\", \"2.0\", \"3.0\", \"4.0\", \"5.0\"]\n",
    "}, strict=False)\n",
    "print(df)\n",
    "print(f\"Becsült méret: {df.estimated_size('b')} bájt\")\n",
    "#region-> polars.DataFrame.cast() metódus használata\n",
    "df.with_columns(\n",
    "    pl.col(\"id\").cast(pl.UInt32),\n",
    "    pl.col(\"meres_1\").cast(pl.Int32),\n",
    "    pl.col(\"meres_2\").cast(pl.Float32).cast(pl.Int32)\n",
    ")\n",
    "\n",
    "print(df)\n",
    "print(f\"Becsült méret: {df.estimated_size('b')} bájt\")\n",
    "#endregion\n"
   ],
   "id": "dd8769828a327d6a",
   "outputs": [],
   "execution_count": null
  },
  {
   "metadata": {},
   "cell_type": "code",
   "source": [
    "df = pl.DataFrame({\n",
    "    \"id\": [1, 2, 3, 4, 5],\n",
    "    \"meres_1\": [6, -1, 3, 9.0, -10],\n",
    "    \"meres_2\": [1.0, -2.0, 4.0, 5.0, 6.0]\n",
    "}, strict=False).cast(pl.Int32)\n",
    "print(df)"
   ],
   "id": "8d113d9ff50f343",
   "outputs": [],
   "execution_count": null
  },
  {
   "metadata": {},
   "cell_type": "markdown",
   "source": [
    "## 3. Ismerkedés a polars.DataFrame osztállyal\n",
    "A `polars.DataFrame` osztály bemutatása a hivatalos dokumentációban:   \n",
    "[https://docs.pola.rs/api/python/stable/reference/dataframe/index.html](https://docs.pola.rs/api/python/stable/reference/dataframe/index.html)   és [implementációja a Github repóban](https://github.com/pola-rs/polars/blob/py-1.12.0/py-polars/polars/dataframe/frame.py#L191-L11302)  "
   ],
   "id": "cad14ca076dd62ae"
  },
  {
   "metadata": {},
   "cell_type": "markdown",
   "source": [
    "**Megjegyzés:** Amennyiben a `df.plot(...)` sorokra `ModuleUpgradeRequiredError: altair>=5.4.0 is required for .plot` hibával találkozunk akkor szükséges az `altair` parancs szükséges az alábbi parancs futtatása:\n",
    "```bash\n",
    "pip install --upgrade altair\n",
    "```"
   ],
   "id": "1a125db0bdbf8c0f"
  },
  {
   "metadata": {
    "ExecuteTime": {
     "end_time": "2024-10-29T14:07:30.884143Z",
     "start_time": "2024-10-29T14:07:30.833802Z"
    }
   },
   "cell_type": "code",
   "source": [
    "#region-> Példa egyszerű Polars dataframe létrehozására, adatok diagramon való megjelenítése\n",
    "import polars as pl\n",
    "from datetime import date\n",
    "\n",
    "df = pl.DataFrame(\n",
    "    {\n",
    "        \"date\": [date(2020, 1, 2), date(2020, 1, 3), date(2020, 1, 4)] * 2,\n",
    "        \"stock\": [\"a\", \"a\", \"a\", \"b\", \"b\", \"b\"],\n",
    "        \"price\": [1, 4, 6, 1, 5, 2],\n",
    "\n",
    "    }\n",
    ")\n",
    "\n",
    "print(f\"A DataFrame sémája: {df.schema}\")\n",
    "print(f\"A DataFrameben tárolt adatok megtekintése: {df}\")\n",
    "print(\"További információk:\", df.describe())\n",
    "\n",
    "df.plot.line(x=\"date\", y=\"price\", color=\"stock\")\n",
    "#endregion"
   ],
   "id": "ba0f7a30a457ed5d",
   "outputs": [
    {
     "name": "stdout",
     "output_type": "stream",
     "text": [
      "A DataFrame sémája: Schema({'date': Date, 'stock': String, 'price': Int64})\n",
      "A DataFrameben tárolt adatok megtekintése: shape: (6, 3)\n",
      "┌────────────┬───────┬───────┐\n",
      "│ date       ┆ stock ┆ price │\n",
      "│ ---        ┆ ---   ┆ ---   │\n",
      "│ date       ┆ str   ┆ i64   │\n",
      "╞════════════╪═══════╪═══════╡\n",
      "│ 2020-01-02 ┆ a     ┆ 1     │\n",
      "│ 2020-01-03 ┆ a     ┆ 4     │\n",
      "│ 2020-01-04 ┆ a     ┆ 6     │\n",
      "│ 2020-01-02 ┆ b     ┆ 1     │\n",
      "│ 2020-01-03 ┆ b     ┆ 5     │\n",
      "│ 2020-01-04 ┆ b     ┆ 2     │\n",
      "└────────────┴───────┴───────┘\n",
      "További információk: shape: (9, 4)\n",
      "┌────────────┬─────────────────────┬───────┬──────────┐\n",
      "│ statistic  ┆ date                ┆ stock ┆ price    │\n",
      "│ ---        ┆ ---                 ┆ ---   ┆ ---      │\n",
      "│ str        ┆ str                 ┆ str   ┆ f64      │\n",
      "╞════════════╪═════════════════════╪═══════╪══════════╡\n",
      "│ count      ┆ 6                   ┆ 6     ┆ 6.0      │\n",
      "│ null_count ┆ 0                   ┆ 0     ┆ 0.0      │\n",
      "│ mean       ┆ 2020-01-03 00:00:00 ┆ null  ┆ 3.166667 │\n",
      "│ std        ┆ null                ┆ null  ┆ 2.136976 │\n",
      "│ min        ┆ 2020-01-02          ┆ a     ┆ 1.0      │\n",
      "│ 25%        ┆ 2020-01-02          ┆ null  ┆ 1.0      │\n",
      "│ 50%        ┆ 2020-01-03          ┆ null  ┆ 4.0      │\n",
      "│ 75%        ┆ 2020-01-04          ┆ null  ┆ 5.0      │\n",
      "│ max        ┆ 2020-01-04          ┆ b     ┆ 6.0      │\n",
      "└────────────┴─────────────────────┴───────┴──────────┘\n"
     ]
    },
    {
     "data": {
      "text/html": [
       "\n",
       "<style>\n",
       "  #altair-viz-674a60115e2b4100b7f1f551ab0fda61.vega-embed {\n",
       "    width: 100%;\n",
       "    display: flex;\n",
       "  }\n",
       "\n",
       "  #altair-viz-674a60115e2b4100b7f1f551ab0fda61.vega-embed details,\n",
       "  #altair-viz-674a60115e2b4100b7f1f551ab0fda61.vega-embed details summary {\n",
       "    position: relative;\n",
       "  }\n",
       "</style>\n",
       "<div id=\"altair-viz-674a60115e2b4100b7f1f551ab0fda61\"></div>\n",
       "<script type=\"text/javascript\">\n",
       "  var VEGA_DEBUG = (typeof VEGA_DEBUG == \"undefined\") ? {} : VEGA_DEBUG;\n",
       "  (function(spec, embedOpt){\n",
       "    let outputDiv = document.currentScript.previousElementSibling;\n",
       "    if (outputDiv.id !== \"altair-viz-674a60115e2b4100b7f1f551ab0fda61\") {\n",
       "      outputDiv = document.getElementById(\"altair-viz-674a60115e2b4100b7f1f551ab0fda61\");\n",
       "    }\n",
       "    const paths = {\n",
       "      \"vega\": \"https://cdn.jsdelivr.net/npm/vega@5?noext\",\n",
       "      \"vega-lib\": \"https://cdn.jsdelivr.net/npm/vega-lib?noext\",\n",
       "      \"vega-lite\": \"https://cdn.jsdelivr.net/npm/vega-lite@5.20.1?noext\",\n",
       "      \"vega-embed\": \"https://cdn.jsdelivr.net/npm/vega-embed@6?noext\",\n",
       "    };\n",
       "\n",
       "    function maybeLoadScript(lib, version) {\n",
       "      var key = `${lib.replace(\"-\", \"\")}_version`;\n",
       "      return (VEGA_DEBUG[key] == version) ?\n",
       "        Promise.resolve(paths[lib]) :\n",
       "        new Promise(function(resolve, reject) {\n",
       "          var s = document.createElement('script');\n",
       "          document.getElementsByTagName(\"head\")[0].appendChild(s);\n",
       "          s.async = true;\n",
       "          s.onload = () => {\n",
       "            VEGA_DEBUG[key] = version;\n",
       "            return resolve(paths[lib]);\n",
       "          };\n",
       "          s.onerror = () => reject(`Error loading script: ${paths[lib]}`);\n",
       "          s.src = paths[lib];\n",
       "        });\n",
       "    }\n",
       "\n",
       "    function showError(err) {\n",
       "      outputDiv.innerHTML = `<div class=\"error\" style=\"color:red;\">${err}</div>`;\n",
       "      throw err;\n",
       "    }\n",
       "\n",
       "    function displayChart(vegaEmbed) {\n",
       "      vegaEmbed(outputDiv, spec, embedOpt)\n",
       "        .catch(err => showError(`Javascript Error: ${err.message}<br>This usually means there's a typo in your chart specification. See the javascript console for the full traceback.`));\n",
       "    }\n",
       "\n",
       "    if(typeof define === \"function\" && define.amd) {\n",
       "      requirejs.config({paths});\n",
       "      require([\"vega-embed\"], displayChart, err => showError(`Error loading script: ${err.message}`));\n",
       "    } else {\n",
       "      maybeLoadScript(\"vega\", \"5\")\n",
       "        .then(() => maybeLoadScript(\"vega-lite\", \"5.20.1\"))\n",
       "        .then(() => maybeLoadScript(\"vega-embed\", \"6\"))\n",
       "        .catch(showError)\n",
       "        .then(() => displayChart(vegaEmbed));\n",
       "    }\n",
       "  })({\"config\": {\"view\": {\"continuousWidth\": 300, \"continuousHeight\": 300}}, \"data\": {\"name\": \"data-2570eccee77fe25af3fdf118b1812d4d\"}, \"mark\": {\"type\": \"line\", \"tooltip\": true}, \"encoding\": {\"color\": {\"field\": \"stock\", \"type\": \"nominal\"}, \"x\": {\"field\": \"date\", \"type\": \"temporal\"}, \"y\": {\"field\": \"price\", \"type\": \"quantitative\"}}, \"params\": [{\"name\": \"param_24\", \"select\": {\"type\": \"interval\", \"encodings\": [\"x\", \"y\"]}, \"bind\": \"scales\"}], \"$schema\": \"https://vega.github.io/schema/vega-lite/v5.20.1.json\", \"datasets\": {\"data-2570eccee77fe25af3fdf118b1812d4d\": [{\"date\": \"2020-01-02T00:00:00\", \"stock\": \"a\", \"price\": 1}, {\"date\": \"2020-01-03T00:00:00\", \"stock\": \"a\", \"price\": 4}, {\"date\": \"2020-01-04T00:00:00\", \"stock\": \"a\", \"price\": 6}, {\"date\": \"2020-01-02T00:00:00\", \"stock\": \"b\", \"price\": 1}, {\"date\": \"2020-01-03T00:00:00\", \"stock\": \"b\", \"price\": 5}, {\"date\": \"2020-01-04T00:00:00\", \"stock\": \"b\", \"price\": 2}]}}, {\"mode\": \"vega-lite\"});\n",
       "</script>"
      ],
      "text/plain": [
       "alt.Chart(...)"
      ]
     },
     "execution_count": 114,
     "metadata": {},
     "output_type": "execute_result"
    }
   ],
   "execution_count": 114
  },
  {
   "metadata": {},
   "cell_type": "markdown",
   "source": [
    "Hozzunk létre egy Polars DataFrame-t egy Pandas DataFrame-ből.  \n",
    "[polars.from_pandas](https://docs.pola.rs/api/python/stable/reference/api/polars.from_pandas.html#polars-from-pandas)  \n",
    "[polars.DataFrame.to_pandas](https://docs.pola.rs/api/python/stable/reference/dataframe/api/polars.DataFrame.to_pandas.html#polars.DataFrame.to_pandas)\n",
    " \n"
   ],
   "id": "bb3b10fccd6c16f1"
  },
  {
   "metadata": {},
   "cell_type": "code",
   "source": [
    "#region-> Példa a Polars és Pandas DataFrame-k közötti konverzióra\n",
    "import pandas as pd\n",
    "import polars as pl\n",
    "\n",
    "df_pd = pd.DataFrame({\n",
    "    'x': [1, 2, 3],\n",
    "    'y': [4, 5, 6],\n",
    "    'z': [7, 8, 9]\n",
    "})\n",
    "\n",
    "\n",
    "df_pl = pl.from_pandas(df_pd)\n",
    "df_pd['x'] = [10, 20, 30]\n",
    "\n",
    "print(\"A módosított Pandas dataframe:\")\n",
    "print(df_pd)\n",
    "\n",
    "print(\"\\nA Polars dataframe nem módosul\")\n",
    "print(df_pl)\n",
    "#endregion\n"
   ],
   "id": "f8400ea1fdf53cb2",
   "outputs": [],
   "execution_count": null
  },
  {
   "metadata": {},
   "cell_type": "markdown",
   "source": [
    "### M01 - első mérkőzés  \n",
    "![](assets/pandas_vs_polars_h_128.png)  \n",
    "\n",
    " \n",
    "Most hogy lassan ismerkedünk az új szintaxissal, ideje egy kis mérkőzésnek: nyissuk meg a `introduction_to_polars.ipynb` Jupyter notebookot."
   ],
   "id": "4677a51ef26dd9ae"
  },
  {
   "metadata": {},
   "cell_type": "markdown",
   "source": [
    "## 4. Kifejezések, DataFrame műveletek\n",
    "Link a dokumentációhoz: [Expressions](https://docs.pola.rs/api/python/stable/reference/expressions/index.html). "
   ],
   "id": "54470b0a4fae8b00"
  },
  {
   "metadata": {},
   "cell_type": "markdown",
   "source": [
    "\n",
    "A kifejezések a Polars könyvtár egyik alapeleme, mégis önmagukban a kifejezések nem tesznek semmit.  \n",
    "A gyakorlatban a kifejezéseket úgy alkalmazzák, hogy átadják őket néhány `DataFrame` vagy `LazyFrame` metódusnak.\n",
    "\n",
    "Nézünk pár példát a kifejezések használatára:\n",
    "\n",
    "- Oszlopok kiválasztása a `df.select()` metódussal\n",
    "- Új oszlopok létrehozása a `df.with_columns()` metódussal\n",
    "- Sorok szűrése a `df.filter()` metódussal\n",
    "- Aggregálás a `df.group_by()` metódussal\n",
    "- Sorok rendezése a `df.sort()` metódussal\n",
    "\n",
    "A példákhoz használjuk a már jól ismert pingvin datasetet."
   ],
   "id": "8cf7c17eef0eee91"
  },
  {
   "metadata": {},
   "cell_type": "markdown",
   "source": "### 4.1 Oszlopok kiválasztása, létrehozása",
   "id": "9d9531cc3d4968e4"
  },
  {
   "metadata": {
    "ExecuteTime": {
     "end_time": "2024-10-28T23:28:36.931063Z",
     "start_time": "2024-10-28T23:28:36.915911Z"
    }
   },
   "cell_type": "code",
   "source": [
    "import polars as pl\n",
    "\n",
    "\n",
    "def get_penguins_df() -> pl.DataFrame:\n",
    "    \"\"\"\n",
    "    \n",
    "    :return: \n",
    "    \"\"\"\n",
    "    return pl.read_csv(\"data/penguins.csv\", null_values=\"NA\")\n",
    "\n",
    "\n",
    "#region-> beolvasás csv fájlból\n",
    "df = get_penguins_df()\n",
    "with pl.Config(tbl_cols=-1, tbl_rows=10):\n",
    "    print(df.schema)\n",
    "    print(df)\n",
    "#endregion    \n"
   ],
   "id": "d1286add76769211",
   "outputs": [
    {
     "name": "stdout",
     "output_type": "stream",
     "text": [
      "Schema({'rowid': Int64, 'species': String, 'island': String, 'bill_length_mm': Float64, 'bill_depth_mm': Float64, 'flipper_length_mm': Int64, 'body_mass_g': Int64, 'sex': String, 'year': Int64})\n",
      "shape: (344, 9)\n",
      "┌───────┬───────────┬───────────┬────────────┬────────────┬────────────┬───────────┬────────┬──────┐\n",
      "│ rowid ┆ species   ┆ island    ┆ bill_lengt ┆ bill_depth ┆ flipper_le ┆ body_mass ┆ sex    ┆ year │\n",
      "│ ---   ┆ ---       ┆ ---       ┆ h_mm       ┆ _mm        ┆ ngth_mm    ┆ _g        ┆ ---    ┆ ---  │\n",
      "│ i64   ┆ str       ┆ str       ┆ ---        ┆ ---        ┆ ---        ┆ ---       ┆ str    ┆ i64  │\n",
      "│       ┆           ┆           ┆ f64        ┆ f64        ┆ i64        ┆ i64       ┆        ┆      │\n",
      "╞═══════╪═══════════╪═══════════╪════════════╪════════════╪════════════╪═══════════╪════════╪══════╡\n",
      "│ 1     ┆ Adelie    ┆ Torgersen ┆ 39.1       ┆ 18.7       ┆ 181        ┆ 3750      ┆ male   ┆ 2007 │\n",
      "│ 2     ┆ Adelie    ┆ Torgersen ┆ 39.5       ┆ 17.4       ┆ 186        ┆ 3800      ┆ female ┆ 2007 │\n",
      "│ 3     ┆ Adelie    ┆ Torgersen ┆ 40.3       ┆ 18.0       ┆ 195        ┆ 3250      ┆ female ┆ 2007 │\n",
      "│ 4     ┆ Adelie    ┆ Torgersen ┆ null       ┆ null       ┆ null       ┆ null      ┆ null   ┆ 2007 │\n",
      "│ 5     ┆ Adelie    ┆ Torgersen ┆ 36.7       ┆ 19.3       ┆ 193        ┆ 3450      ┆ female ┆ 2007 │\n",
      "│ …     ┆ …         ┆ …         ┆ …          ┆ …          ┆ …          ┆ …         ┆ …      ┆ …    │\n",
      "│ 340   ┆ Chinstrap ┆ Dream     ┆ 55.8       ┆ 19.8       ┆ 207        ┆ 4000      ┆ male   ┆ 2009 │\n",
      "│ 341   ┆ Chinstrap ┆ Dream     ┆ 43.5       ┆ 18.1       ┆ 202        ┆ 3400      ┆ female ┆ 2009 │\n",
      "│ 342   ┆ Chinstrap ┆ Dream     ┆ 49.6       ┆ 18.2       ┆ 193        ┆ 3775      ┆ male   ┆ 2009 │\n",
      "│ 343   ┆ Chinstrap ┆ Dream     ┆ 50.8       ┆ 19.0       ┆ 210        ┆ 4100      ┆ male   ┆ 2009 │\n",
      "│ 344   ┆ Chinstrap ┆ Dream     ┆ 50.2       ┆ 18.7       ┆ 198        ┆ 3775      ┆ female ┆ 2009 │\n",
      "└───────┴───────────┴───────────┴────────────┴────────────┴────────────┴───────────┴────────┴──────┘\n"
     ]
    }
   ],
   "execution_count": 91
  },
  {
   "metadata": {},
   "cell_type": "code",
   "source": [
    "# Válasszuk ki az összes oszlopot\n",
    "df.select(\"*\")\n",
    "df.select(pl.all())"
   ],
   "id": "c512dceefedcc2bc",
   "outputs": [],
   "execution_count": null
  },
  {
   "metadata": {
    "ExecuteTime": {
     "end_time": "2024-10-28T23:16:50.611525Z",
     "start_time": "2024-10-28T23:16:50.604114Z"
    }
   },
   "cell_type": "code",
   "source": [
    "#region-> kifejezések használata a DataFrame.select() metódussal\n",
    "df.select(\n",
    "    pl.col(\"rowid\"),\n",
    "    pl.col(\"species\"),  # fontos, az oszlopok neve case-sensitive\n",
    "    pl.col(\"^bill.*$\")  # reguláris kifejezés használata az oszlopok kiválasztásra\n",
    ")\n",
    "#endregion"
   ],
   "id": "a170cbe78d63c616",
   "outputs": [
    {
     "data": {
      "text/plain": [
       "shape: (344, 4)\n",
       "┌───────┬───────────┬────────────────┬───────────────┐\n",
       "│ rowid ┆ species   ┆ bill_length_mm ┆ bill_depth_mm │\n",
       "│ ---   ┆ ---       ┆ ---            ┆ ---           │\n",
       "│ u16   ┆ str       ┆ f64            ┆ f64           │\n",
       "╞═══════╪═══════════╪════════════════╪═══════════════╡\n",
       "│ 1     ┆ Adelie    ┆ 39.1           ┆ 18.7          │\n",
       "│ 2     ┆ Adelie    ┆ 39.5           ┆ 17.4          │\n",
       "│ 3     ┆ Adelie    ┆ 40.3           ┆ 18.0          │\n",
       "│ 4     ┆ Adelie    ┆ null           ┆ null          │\n",
       "│ 5     ┆ Adelie    ┆ 36.7           ┆ 19.3          │\n",
       "│ …     ┆ …         ┆ …              ┆ …             │\n",
       "│ 340   ┆ Chinstrap ┆ 55.8           ┆ 19.8          │\n",
       "│ 341   ┆ Chinstrap ┆ 43.5           ┆ 18.1          │\n",
       "│ 342   ┆ Chinstrap ┆ 49.6           ┆ 18.2          │\n",
       "│ 343   ┆ Chinstrap ┆ 50.8           ┆ 19.0          │\n",
       "│ 344   ┆ Chinstrap ┆ 50.2           ┆ 18.7          │\n",
       "└───────┴───────────┴────────────────┴───────────────┘"
      ],
      "text/html": [
       "<div><style>\n",
       ".dataframe > thead > tr,\n",
       ".dataframe > tbody > tr {\n",
       "  text-align: right;\n",
       "  white-space: pre-wrap;\n",
       "}\n",
       "</style>\n",
       "<small>shape: (344, 4)</small><table border=\"1\" class=\"dataframe\"><thead><tr><th>rowid</th><th>species</th><th>bill_length_mm</th><th>bill_depth_mm</th></tr><tr><td>u16</td><td>str</td><td>f64</td><td>f64</td></tr></thead><tbody><tr><td>1</td><td>&quot;Adelie&quot;</td><td>39.1</td><td>18.7</td></tr><tr><td>2</td><td>&quot;Adelie&quot;</td><td>39.5</td><td>17.4</td></tr><tr><td>3</td><td>&quot;Adelie&quot;</td><td>40.3</td><td>18.0</td></tr><tr><td>4</td><td>&quot;Adelie&quot;</td><td>null</td><td>null</td></tr><tr><td>5</td><td>&quot;Adelie&quot;</td><td>36.7</td><td>19.3</td></tr><tr><td>&hellip;</td><td>&hellip;</td><td>&hellip;</td><td>&hellip;</td></tr><tr><td>340</td><td>&quot;Chinstrap&quot;</td><td>55.8</td><td>19.8</td></tr><tr><td>341</td><td>&quot;Chinstrap&quot;</td><td>43.5</td><td>18.1</td></tr><tr><td>342</td><td>&quot;Chinstrap&quot;</td><td>49.6</td><td>18.2</td></tr><tr><td>343</td><td>&quot;Chinstrap&quot;</td><td>50.8</td><td>19.0</td></tr><tr><td>344</td><td>&quot;Chinstrap&quot;</td><td>50.2</td><td>18.7</td></tr></tbody></table></div>"
      ]
     },
     "execution_count": 74,
     "metadata": {},
     "output_type": "execute_result"
    }
   ],
   "execution_count": 74
  },
  {
   "metadata": {},
   "cell_type": "markdown",
   "source": "#### 4.1.1 Szelektorok (`column selectors`) használata",
   "id": "ac69b44125bd8acf"
  },
  {
   "metadata": {
    "ExecuteTime": {
     "end_time": "2024-10-28T22:56:05.977631Z",
     "start_time": "2024-10-28T22:56:05.894160Z"
    }
   },
   "cell_type": "code",
   "source": [
    "import polars.selectors as cs\n",
    "\n",
    "df.select(\n",
    "    cs.by_name(\"species\"),\n",
    "    cs.starts_with(\"bill\"),\n",
    "    cs.contains(\"flipper\")\n",
    ")\n",
    "\n",
    "# oszlop típusa szerinti kiválasztás\n",
    "df.select(cs.by_dtype(pl.UInt16))\n",
    "\n",
    "# oszlopok indexe szerinti kiválasztás\n",
    "df.select(cs.by_index(range(0,3)))\n",
    "\n",
    "# szelektorok összekapcsolása\n",
    "df.select(cs.by_index(range(0,3)) & ~cs.by_dtype(pl.UInt16))\n"
   ],
   "id": "218f465b9a22b984",
   "outputs": [
    {
     "data": {
      "text/plain": [
       "shape: (344, 2)\n",
       "┌───────────┬───────────┐\n",
       "│ species   ┆ island    │\n",
       "│ ---       ┆ ---       │\n",
       "│ str       ┆ str       │\n",
       "╞═══════════╪═══════════╡\n",
       "│ Adelie    ┆ Torgersen │\n",
       "│ Adelie    ┆ Torgersen │\n",
       "│ Adelie    ┆ Torgersen │\n",
       "│ Adelie    ┆ Torgersen │\n",
       "│ Adelie    ┆ Torgersen │\n",
       "│ …         ┆ …         │\n",
       "│ Chinstrap ┆ Dream     │\n",
       "│ Chinstrap ┆ Dream     │\n",
       "│ Chinstrap ┆ Dream     │\n",
       "│ Chinstrap ┆ Dream     │\n",
       "│ Chinstrap ┆ Dream     │\n",
       "└───────────┴───────────┘"
      ],
      "text/html": [
       "<div><style>\n",
       ".dataframe > thead > tr,\n",
       ".dataframe > tbody > tr {\n",
       "  text-align: right;\n",
       "  white-space: pre-wrap;\n",
       "}\n",
       "</style>\n",
       "<small>shape: (344, 2)</small><table border=\"1\" class=\"dataframe\"><thead><tr><th>species</th><th>island</th></tr><tr><td>str</td><td>str</td></tr></thead><tbody><tr><td>&quot;Adelie&quot;</td><td>&quot;Torgersen&quot;</td></tr><tr><td>&quot;Adelie&quot;</td><td>&quot;Torgersen&quot;</td></tr><tr><td>&quot;Adelie&quot;</td><td>&quot;Torgersen&quot;</td></tr><tr><td>&quot;Adelie&quot;</td><td>&quot;Torgersen&quot;</td></tr><tr><td>&quot;Adelie&quot;</td><td>&quot;Torgersen&quot;</td></tr><tr><td>&hellip;</td><td>&hellip;</td></tr><tr><td>&quot;Chinstrap&quot;</td><td>&quot;Dream&quot;</td></tr><tr><td>&quot;Chinstrap&quot;</td><td>&quot;Dream&quot;</td></tr><tr><td>&quot;Chinstrap&quot;</td><td>&quot;Dream&quot;</td></tr><tr><td>&quot;Chinstrap&quot;</td><td>&quot;Dream&quot;</td></tr><tr><td>&quot;Chinstrap&quot;</td><td>&quot;Dream&quot;</td></tr></tbody></table></div>"
      ]
     },
     "execution_count": 63,
     "metadata": {},
     "output_type": "execute_result"
    }
   ],
   "execution_count": 63
  },
  {
   "metadata": {},
   "cell_type": "markdown",
   "source": [
    "A szelektor operátorokkal 0 vagy több oszlopot tartalmazó halmazt választunk ki.  \n",
    "\n",
    "\n",
    "\n",
    "| Szelektor operátor | Inline Operátor | Leírás                          |\n",
    "|--------------------|-----------------|---------------------------------|\n",
    "| Unió               | \\|              | `x`, vagy `y`, vagy mindkettő   |\n",
    "| Metszet            | &               | mindkettő, `x` és `y` is        |\n",
    "| Különbség          | -               | `x`, ami nincs benne `y`-ban    |\n",
    "| Kizáró VAGY        | ^               | `x`, vagy `y`, de nem mindkettő |\n",
    "| Negáció            | ~               | Nincs benne `x`-ben             |"
   ],
   "id": "e81de4e8554d1b"
  },
  {
   "metadata": {},
   "cell_type": "markdown",
   "source": "### 4.2 Új oszlopok létrehozása",
   "id": "31f95fad92aeb962"
  },
  {
   "metadata": {
    "ExecuteTime": {
     "end_time": "2024-10-29T15:20:59.148835Z",
     "start_time": "2024-10-29T15:20:59.116166Z"
    }
   },
   "cell_type": "code",
   "source": [
    "# feltételezzük, hogy a 2009-es méréseket követően a pingvinek szárnyainak 10%-os növekedése várható\n",
    "# hozzunk létre egy flipper_legth_in_one_year_mm oszlopot, amely a flipper_length_mm oszlop értékének 10%-ával növelt értékeket tartalmazza\n",
    "df = get_penguins_df()\n",
    "\n",
    "(df.with_columns(\n",
    "    # pl.col(\"flipper_length_mm\").mul(1.1).alias(\"flipper_length_in_one_year_mm\"),\n",
    "    (pl.col(\"flipper_length_mm\") * 1.1).alias(\"flipper_length_in_one_year_mm\"),\n",
    "    (pl.col(\"flipper_length_mm\") / pl.col(\"bill_length_mm\")).alias(\"flipper_to_bill_ratio\"))\n",
    ".with_columns(\n",
    "    bill_length_depth_ratio=pl.col(\"bill_length_mm\") / pl.col(\"bill_depth_mm\"),\n",
    "    planet=pl.lit(\"Earth\"))\n",
    ".select(\n",
    "    pl.col(\"rowid\"),\n",
    "    pl.col(\"species\"),\n",
    "    pl.col(\"bill_length_mm\"),\n",
    "    pl.col(\"flipper_length_mm\"),\n",
    "    pl.col(\"flipper_length_in_one_year_mm\"),\n",
    "    pl.col(\"flipper_to_bill_ratio\"),\n",
    "    pl.col(\"bill_length_depth_ratio\"),\n",
    "    pl.col(\"planet\")\n",
    "))\n"
   ],
   "id": "8f63cb299b92f985",
   "outputs": [
    {
     "data": {
      "text/plain": [
       "shape: (344, 8)\n",
       "┌───────┬───────────┬─────────────┬─────────────┬─────────────┬─────────────┬─────────────┬────────┐\n",
       "│ rowid ┆ species   ┆ bill_length ┆ flipper_len ┆ flipper_len ┆ flipper_to_ ┆ bill_length ┆ planet │\n",
       "│ ---   ┆ ---       ┆ _mm         ┆ gth_mm      ┆ gth_in_one_ ┆ bill_ratio  ┆ _depth_rati ┆ ---    │\n",
       "│ i64   ┆ str       ┆ ---         ┆ ---         ┆ year_mm     ┆ ---         ┆ o           ┆ str    │\n",
       "│       ┆           ┆ f64         ┆ i64         ┆ ---         ┆ f64         ┆ ---         ┆        │\n",
       "│       ┆           ┆             ┆             ┆ f64         ┆             ┆ f64         ┆        │\n",
       "╞═══════╪═══════════╪═════════════╪═════════════╪═════════════╪═════════════╪═════════════╪════════╡\n",
       "│ 1     ┆ Adelie    ┆ 39.1        ┆ 181         ┆ 199.1       ┆ 4.629156    ┆ 2.090909    ┆ Earth  │\n",
       "│ 2     ┆ Adelie    ┆ 39.5        ┆ 186         ┆ 204.6       ┆ 4.708861    ┆ 2.270115    ┆ Earth  │\n",
       "│ 3     ┆ Adelie    ┆ 40.3        ┆ 195         ┆ 214.5       ┆ 4.83871     ┆ 2.238889    ┆ Earth  │\n",
       "│ 4     ┆ Adelie    ┆ null        ┆ null        ┆ null        ┆ null        ┆ null        ┆ Earth  │\n",
       "│ 5     ┆ Adelie    ┆ 36.7        ┆ 193         ┆ 212.3       ┆ 5.258856    ┆ 1.901554    ┆ Earth  │\n",
       "│ …     ┆ …         ┆ …           ┆ …           ┆ …           ┆ …           ┆ …           ┆ …      │\n",
       "│ 340   ┆ Chinstrap ┆ 55.8        ┆ 207         ┆ 227.7       ┆ 3.709677    ┆ 2.818182    ┆ Earth  │\n",
       "│ 341   ┆ Chinstrap ┆ 43.5        ┆ 202         ┆ 222.2       ┆ 4.643678    ┆ 2.403315    ┆ Earth  │\n",
       "│ 342   ┆ Chinstrap ┆ 49.6        ┆ 193         ┆ 212.3       ┆ 3.891129    ┆ 2.725275    ┆ Earth  │\n",
       "│ 343   ┆ Chinstrap ┆ 50.8        ┆ 210         ┆ 231.0       ┆ 4.133858    ┆ 2.673684    ┆ Earth  │\n",
       "│ 344   ┆ Chinstrap ┆ 50.2        ┆ 198         ┆ 217.8       ┆ 3.944223    ┆ 2.684492    ┆ Earth  │\n",
       "└───────┴───────────┴─────────────┴─────────────┴─────────────┴─────────────┴─────────────┴────────┘"
      ],
      "text/html": [
       "<div><style>\n",
       ".dataframe > thead > tr,\n",
       ".dataframe > tbody > tr {\n",
       "  text-align: right;\n",
       "  white-space: pre-wrap;\n",
       "}\n",
       "</style>\n",
       "<small>shape: (344, 8)</small><table border=\"1\" class=\"dataframe\"><thead><tr><th>rowid</th><th>species</th><th>bill_length_mm</th><th>flipper_length_mm</th><th>flipper_length_in_one_year_mm</th><th>flipper_to_bill_ratio</th><th>bill_length_depth_ratio</th><th>planet</th></tr><tr><td>i64</td><td>str</td><td>f64</td><td>i64</td><td>f64</td><td>f64</td><td>f64</td><td>str</td></tr></thead><tbody><tr><td>1</td><td>&quot;Adelie&quot;</td><td>39.1</td><td>181</td><td>199.1</td><td>4.629156</td><td>2.090909</td><td>&quot;Earth&quot;</td></tr><tr><td>2</td><td>&quot;Adelie&quot;</td><td>39.5</td><td>186</td><td>204.6</td><td>4.708861</td><td>2.270115</td><td>&quot;Earth&quot;</td></tr><tr><td>3</td><td>&quot;Adelie&quot;</td><td>40.3</td><td>195</td><td>214.5</td><td>4.83871</td><td>2.238889</td><td>&quot;Earth&quot;</td></tr><tr><td>4</td><td>&quot;Adelie&quot;</td><td>null</td><td>null</td><td>null</td><td>null</td><td>null</td><td>&quot;Earth&quot;</td></tr><tr><td>5</td><td>&quot;Adelie&quot;</td><td>36.7</td><td>193</td><td>212.3</td><td>5.258856</td><td>1.901554</td><td>&quot;Earth&quot;</td></tr><tr><td>&hellip;</td><td>&hellip;</td><td>&hellip;</td><td>&hellip;</td><td>&hellip;</td><td>&hellip;</td><td>&hellip;</td><td>&hellip;</td></tr><tr><td>340</td><td>&quot;Chinstrap&quot;</td><td>55.8</td><td>207</td><td>227.7</td><td>3.709677</td><td>2.818182</td><td>&quot;Earth&quot;</td></tr><tr><td>341</td><td>&quot;Chinstrap&quot;</td><td>43.5</td><td>202</td><td>222.2</td><td>4.643678</td><td>2.403315</td><td>&quot;Earth&quot;</td></tr><tr><td>342</td><td>&quot;Chinstrap&quot;</td><td>49.6</td><td>193</td><td>212.3</td><td>3.891129</td><td>2.725275</td><td>&quot;Earth&quot;</td></tr><tr><td>343</td><td>&quot;Chinstrap&quot;</td><td>50.8</td><td>210</td><td>231.0</td><td>4.133858</td><td>2.673684</td><td>&quot;Earth&quot;</td></tr><tr><td>344</td><td>&quot;Chinstrap&quot;</td><td>50.2</td><td>198</td><td>217.8</td><td>3.944223</td><td>2.684492</td><td>&quot;Earth&quot;</td></tr></tbody></table></div>"
      ]
     },
     "execution_count": 146,
     "metadata": {},
     "output_type": "execute_result"
    }
   ],
   "execution_count": 146
  },
  {
   "metadata": {},
   "cell_type": "markdown",
   "source": [
    "\n",
    "### 4.3 Szűrés\n",
    "\n",
    "Dokumentáció: [df.filter() metódus használata a sorok szűrésére](https://docs.pola.rs/api/python/stable/reference/dataframe/api/polars.DataFrame.filter.html)"
   ],
   "id": "1d6401c0943ffb2"
  },
  {
   "metadata": {
    "ExecuteTime": {
     "end_time": "2024-10-29T15:19:27.970851Z",
     "start_time": "2024-10-29T15:19:27.933804Z"
    }
   },
   "cell_type": "code",
   "source": [
    "df.filter(\n",
    "    pl.col(\"species\") == \"Adelie\",\n",
    "    pl.col(\"island\") == \"Biscoe\",\n",
    "    pl.col(\"flipper_length_mm\") > 180,\n",
    "    pl.all().is_not_null()\n",
    ")"
   ],
   "id": "61f9bf29474b1dfa",
   "outputs": [
    {
     "data": {
      "text/plain": [
       "shape: (39, 9)\n",
       "┌───────┬─────────┬────────┬────────────────┬───┬───────────────────┬─────────────┬────────┬──────┐\n",
       "│ rowid ┆ species ┆ island ┆ bill_length_mm ┆ … ┆ flipper_length_mm ┆ body_mass_g ┆ sex    ┆ year │\n",
       "│ ---   ┆ ---     ┆ ---    ┆ ---            ┆   ┆ ---               ┆ ---         ┆ ---    ┆ ---  │\n",
       "│ i64   ┆ str     ┆ str    ┆ f64            ┆   ┆ i64               ┆ i64         ┆ str    ┆ i64  │\n",
       "╞═══════╪═════════╪════════╪════════════════╪═══╪═══════════════════╪═════════════╪════════╪══════╡\n",
       "│ 23    ┆ Adelie  ┆ Biscoe ┆ 35.9           ┆ … ┆ 189               ┆ 3800        ┆ female ┆ 2007 │\n",
       "│ 24    ┆ Adelie  ┆ Biscoe ┆ 38.2           ┆ … ┆ 185               ┆ 3950        ┆ male   ┆ 2007 │\n",
       "│ 26    ┆ Adelie  ┆ Biscoe ┆ 35.3           ┆ … ┆ 187               ┆ 3800        ┆ female ┆ 2007 │\n",
       "│ 27    ┆ Adelie  ┆ Biscoe ┆ 40.6           ┆ … ┆ 183               ┆ 3550        ┆ male   ┆ 2007 │\n",
       "│ 28    ┆ Adelie  ┆ Biscoe ┆ 40.5           ┆ … ┆ 187               ┆ 3200        ┆ female ┆ 2007 │\n",
       "│ …     ┆ …       ┆ …      ┆ …              ┆ … ┆ …                 ┆ …           ┆ …      ┆ …    │\n",
       "│ 112   ┆ Adelie  ┆ Biscoe ┆ 45.6           ┆ … ┆ 191               ┆ 4600        ┆ male   ┆ 2009 │\n",
       "│ 113   ┆ Adelie  ┆ Biscoe ┆ 39.7           ┆ … ┆ 193               ┆ 3200        ┆ female ┆ 2009 │\n",
       "│ 114   ┆ Adelie  ┆ Biscoe ┆ 42.2           ┆ … ┆ 197               ┆ 4275        ┆ male   ┆ 2009 │\n",
       "│ 115   ┆ Adelie  ┆ Biscoe ┆ 39.6           ┆ … ┆ 191               ┆ 3900        ┆ female ┆ 2009 │\n",
       "│ 116   ┆ Adelie  ┆ Biscoe ┆ 42.7           ┆ … ┆ 196               ┆ 4075        ┆ male   ┆ 2009 │\n",
       "└───────┴─────────┴────────┴────────────────┴───┴───────────────────┴─────────────┴────────┴──────┘"
      ],
      "text/html": [
       "<div><style>\n",
       ".dataframe > thead > tr,\n",
       ".dataframe > tbody > tr {\n",
       "  text-align: right;\n",
       "  white-space: pre-wrap;\n",
       "}\n",
       "</style>\n",
       "<small>shape: (39, 9)</small><table border=\"1\" class=\"dataframe\"><thead><tr><th>rowid</th><th>species</th><th>island</th><th>bill_length_mm</th><th>bill_depth_mm</th><th>flipper_length_mm</th><th>body_mass_g</th><th>sex</th><th>year</th></tr><tr><td>i64</td><td>str</td><td>str</td><td>f64</td><td>f64</td><td>i64</td><td>i64</td><td>str</td><td>i64</td></tr></thead><tbody><tr><td>23</td><td>&quot;Adelie&quot;</td><td>&quot;Biscoe&quot;</td><td>35.9</td><td>19.2</td><td>189</td><td>3800</td><td>&quot;female&quot;</td><td>2007</td></tr><tr><td>24</td><td>&quot;Adelie&quot;</td><td>&quot;Biscoe&quot;</td><td>38.2</td><td>18.1</td><td>185</td><td>3950</td><td>&quot;male&quot;</td><td>2007</td></tr><tr><td>26</td><td>&quot;Adelie&quot;</td><td>&quot;Biscoe&quot;</td><td>35.3</td><td>18.9</td><td>187</td><td>3800</td><td>&quot;female&quot;</td><td>2007</td></tr><tr><td>27</td><td>&quot;Adelie&quot;</td><td>&quot;Biscoe&quot;</td><td>40.6</td><td>18.6</td><td>183</td><td>3550</td><td>&quot;male&quot;</td><td>2007</td></tr><tr><td>28</td><td>&quot;Adelie&quot;</td><td>&quot;Biscoe&quot;</td><td>40.5</td><td>17.9</td><td>187</td><td>3200</td><td>&quot;female&quot;</td><td>2007</td></tr><tr><td>&hellip;</td><td>&hellip;</td><td>&hellip;</td><td>&hellip;</td><td>&hellip;</td><td>&hellip;</td><td>&hellip;</td><td>&hellip;</td><td>&hellip;</td></tr><tr><td>112</td><td>&quot;Adelie&quot;</td><td>&quot;Biscoe&quot;</td><td>45.6</td><td>20.3</td><td>191</td><td>4600</td><td>&quot;male&quot;</td><td>2009</td></tr><tr><td>113</td><td>&quot;Adelie&quot;</td><td>&quot;Biscoe&quot;</td><td>39.7</td><td>17.7</td><td>193</td><td>3200</td><td>&quot;female&quot;</td><td>2009</td></tr><tr><td>114</td><td>&quot;Adelie&quot;</td><td>&quot;Biscoe&quot;</td><td>42.2</td><td>19.5</td><td>197</td><td>4275</td><td>&quot;male&quot;</td><td>2009</td></tr><tr><td>115</td><td>&quot;Adelie&quot;</td><td>&quot;Biscoe&quot;</td><td>39.6</td><td>20.7</td><td>191</td><td>3900</td><td>&quot;female&quot;</td><td>2009</td></tr><tr><td>116</td><td>&quot;Adelie&quot;</td><td>&quot;Biscoe&quot;</td><td>42.7</td><td>18.3</td><td>196</td><td>4075</td><td>&quot;male&quot;</td><td>2009</td></tr></tbody></table></div>"
      ]
     },
     "execution_count": 144,
     "metadata": {},
     "output_type": "execute_result"
    }
   ],
   "execution_count": 144
  },
  {
   "metadata": {},
   "cell_type": "markdown",
   "source": "### 4.4 Rendezés",
   "id": "2712c57751b26a6e"
  },
  {
   "metadata": {
    "ExecuteTime": {
     "end_time": "2024-10-29T14:20:00.426158Z",
     "start_time": "2024-10-29T14:20:00.392338Z"
    }
   },
   "cell_type": "code",
   "source": [
    "\n",
    "df1 = get_penguins_df()\n",
    "\n",
    "# Rendezés egy szempont szerint\n",
    "df1 \\\n",
    "    .filter(pl.col(\"rowid\").is_between(4, 12)) \\\n",
    "    .sort(\"flipper_length_mm\", nulls_last=True)"
   ],
   "id": "9b990d5a98c57a31",
   "outputs": [
    {
     "data": {
      "text/plain": [
       "shape: (9, 9)\n",
       "┌───────┬─────────┬───────────┬────────────────┬───┬─────────────────┬─────────────┬────────┬──────┐\n",
       "│ rowid ┆ species ┆ island    ┆ bill_length_mm ┆ … ┆ flipper_length_ ┆ body_mass_g ┆ sex    ┆ year │\n",
       "│ ---   ┆ ---     ┆ ---       ┆ ---            ┆   ┆ mm              ┆ ---         ┆ ---    ┆ ---  │\n",
       "│ i64   ┆ str     ┆ str       ┆ f64            ┆   ┆ ---             ┆ i64         ┆ str    ┆ i64  │\n",
       "│       ┆         ┆           ┆                ┆   ┆ i64             ┆             ┆        ┆      │\n",
       "╞═══════╪═════════╪═══════════╪════════════════╪═══╪═════════════════╪═════════════╪════════╪══════╡\n",
       "│ 12    ┆ Adelie  ┆ Torgersen ┆ 37.8           ┆ … ┆ 180             ┆ 3700        ┆ null   ┆ 2007 │\n",
       "│ 7     ┆ Adelie  ┆ Torgersen ┆ 38.9           ┆ … ┆ 181             ┆ 3625        ┆ female ┆ 2007 │\n",
       "│ 11    ┆ Adelie  ┆ Torgersen ┆ 37.8           ┆ … ┆ 186             ┆ 3300        ┆ null   ┆ 2007 │\n",
       "│ 6     ┆ Adelie  ┆ Torgersen ┆ 39.3           ┆ … ┆ 190             ┆ 3650        ┆ male   ┆ 2007 │\n",
       "│ 10    ┆ Adelie  ┆ Torgersen ┆ 42.0           ┆ … ┆ 190             ┆ 4250        ┆ null   ┆ 2007 │\n",
       "│ 5     ┆ Adelie  ┆ Torgersen ┆ 36.7           ┆ … ┆ 193             ┆ 3450        ┆ female ┆ 2007 │\n",
       "│ 9     ┆ Adelie  ┆ Torgersen ┆ 34.1           ┆ … ┆ 193             ┆ 3475        ┆ null   ┆ 2007 │\n",
       "│ 8     ┆ Adelie  ┆ Torgersen ┆ 39.2           ┆ … ┆ 195             ┆ 4675        ┆ male   ┆ 2007 │\n",
       "│ 4     ┆ Adelie  ┆ Torgersen ┆ null           ┆ … ┆ null            ┆ null        ┆ null   ┆ 2007 │\n",
       "└───────┴─────────┴───────────┴────────────────┴───┴─────────────────┴─────────────┴────────┴──────┘"
      ],
      "text/html": [
       "<div><style>\n",
       ".dataframe > thead > tr,\n",
       ".dataframe > tbody > tr {\n",
       "  text-align: right;\n",
       "  white-space: pre-wrap;\n",
       "}\n",
       "</style>\n",
       "<small>shape: (9, 9)</small><table border=\"1\" class=\"dataframe\"><thead><tr><th>rowid</th><th>species</th><th>island</th><th>bill_length_mm</th><th>bill_depth_mm</th><th>flipper_length_mm</th><th>body_mass_g</th><th>sex</th><th>year</th></tr><tr><td>i64</td><td>str</td><td>str</td><td>f64</td><td>f64</td><td>i64</td><td>i64</td><td>str</td><td>i64</td></tr></thead><tbody><tr><td>12</td><td>&quot;Adelie&quot;</td><td>&quot;Torgersen&quot;</td><td>37.8</td><td>17.3</td><td>180</td><td>3700</td><td>null</td><td>2007</td></tr><tr><td>7</td><td>&quot;Adelie&quot;</td><td>&quot;Torgersen&quot;</td><td>38.9</td><td>17.8</td><td>181</td><td>3625</td><td>&quot;female&quot;</td><td>2007</td></tr><tr><td>11</td><td>&quot;Adelie&quot;</td><td>&quot;Torgersen&quot;</td><td>37.8</td><td>17.1</td><td>186</td><td>3300</td><td>null</td><td>2007</td></tr><tr><td>6</td><td>&quot;Adelie&quot;</td><td>&quot;Torgersen&quot;</td><td>39.3</td><td>20.6</td><td>190</td><td>3650</td><td>&quot;male&quot;</td><td>2007</td></tr><tr><td>10</td><td>&quot;Adelie&quot;</td><td>&quot;Torgersen&quot;</td><td>42.0</td><td>20.2</td><td>190</td><td>4250</td><td>null</td><td>2007</td></tr><tr><td>5</td><td>&quot;Adelie&quot;</td><td>&quot;Torgersen&quot;</td><td>36.7</td><td>19.3</td><td>193</td><td>3450</td><td>&quot;female&quot;</td><td>2007</td></tr><tr><td>9</td><td>&quot;Adelie&quot;</td><td>&quot;Torgersen&quot;</td><td>34.1</td><td>18.1</td><td>193</td><td>3475</td><td>null</td><td>2007</td></tr><tr><td>8</td><td>&quot;Adelie&quot;</td><td>&quot;Torgersen&quot;</td><td>39.2</td><td>19.6</td><td>195</td><td>4675</td><td>&quot;male&quot;</td><td>2007</td></tr><tr><td>4</td><td>&quot;Adelie&quot;</td><td>&quot;Torgersen&quot;</td><td>null</td><td>null</td><td>null</td><td>null</td><td>null</td><td>2007</td></tr></tbody></table></div>"
      ]
     },
     "execution_count": 130,
     "metadata": {},
     "output_type": "execute_result"
    }
   ],
   "execution_count": 130
  },
  {
   "metadata": {
    "ExecuteTime": {
     "end_time": "2024-10-29T14:18:14.497544Z",
     "start_time": "2024-10-29T14:18:14.477299Z"
    }
   },
   "cell_type": "code",
   "source": [
    "# Rendezés több szempont szerint\n",
    "df1.sort(\"species\", \"bill_length_mm\", \"bill_depth_mm\", \"flipper_length_mm\",\n",
    "         descending=[False, True, True, True],\n",
    "         nulls_last=True)\n"
   ],
   "id": "69ce82029810a01e",
   "outputs": [
    {
     "data": {
      "text/plain": [
       "shape: (344, 9)\n",
       "┌───────┬─────────┬───────────┬────────────────┬───┬─────────────────┬─────────────┬────────┬──────┐\n",
       "│ rowid ┆ species ┆ island    ┆ bill_length_mm ┆ … ┆ flipper_length_ ┆ body_mass_g ┆ sex    ┆ year │\n",
       "│ ---   ┆ ---     ┆ ---       ┆ ---            ┆   ┆ mm              ┆ ---         ┆ ---    ┆ ---  │\n",
       "│ i64   ┆ str     ┆ str       ┆ f64            ┆   ┆ ---             ┆ i64         ┆ str    ┆ i64  │\n",
       "│       ┆         ┆           ┆                ┆   ┆ i64             ┆             ┆        ┆      │\n",
       "╞═══════╪═════════╪═══════════╪════════════════╪═══╪═════════════════╪═════════════╪════════╪══════╡\n",
       "│ 20    ┆ Adelie  ┆ Torgersen ┆ 46.0           ┆ … ┆ 194             ┆ 4200        ┆ male   ┆ 2007 │\n",
       "│ 74    ┆ Adelie  ┆ Torgersen ┆ 45.8           ┆ … ┆ 197             ┆ 4150        ┆ male   ┆ 2008 │\n",
       "│ 112   ┆ Adelie  ┆ Biscoe    ┆ 45.6           ┆ … ┆ 191             ┆ 4600        ┆ male   ┆ 2009 │\n",
       "│ 44    ┆ Adelie  ┆ Dream     ┆ 44.1           ┆ … ┆ 196             ┆ 4400        ┆ male   ┆ 2007 │\n",
       "│ 130   ┆ Adelie  ┆ Torgersen ┆ 44.1           ┆ … ┆ 210             ┆ 4000        ┆ male   ┆ 2009 │\n",
       "│ …     ┆ …       ┆ …         ┆ …              ┆ … ┆ …               ┆ …           ┆ …      ┆ …    │\n",
       "│ 189   ┆ Gentoo  ┆ Biscoe    ┆ 42.6           ┆ … ┆ 213             ┆ 4950        ┆ female ┆ 2008 │\n",
       "│ 169   ┆ Gentoo  ┆ Biscoe    ┆ 42.0           ┆ … ┆ 210             ┆ 4150        ┆ female ┆ 2007 │\n",
       "│ 259   ┆ Gentoo  ┆ Biscoe    ┆ 41.7           ┆ … ┆ 210             ┆ 4700        ┆ female ┆ 2009 │\n",
       "│ 163   ┆ Gentoo  ┆ Biscoe    ┆ 40.9           ┆ … ┆ 214             ┆ 4650        ┆ female ┆ 2007 │\n",
       "│ 272   ┆ Gentoo  ┆ Biscoe    ┆ null           ┆ … ┆ null            ┆ null        ┆ null   ┆ 2009 │\n",
       "└───────┴─────────┴───────────┴────────────────┴───┴─────────────────┴─────────────┴────────┴──────┘"
      ],
      "text/html": [
       "<div><style>\n",
       ".dataframe > thead > tr,\n",
       ".dataframe > tbody > tr {\n",
       "  text-align: right;\n",
       "  white-space: pre-wrap;\n",
       "}\n",
       "</style>\n",
       "<small>shape: (344, 9)</small><table border=\"1\" class=\"dataframe\"><thead><tr><th>rowid</th><th>species</th><th>island</th><th>bill_length_mm</th><th>bill_depth_mm</th><th>flipper_length_mm</th><th>body_mass_g</th><th>sex</th><th>year</th></tr><tr><td>i64</td><td>str</td><td>str</td><td>f64</td><td>f64</td><td>i64</td><td>i64</td><td>str</td><td>i64</td></tr></thead><tbody><tr><td>20</td><td>&quot;Adelie&quot;</td><td>&quot;Torgersen&quot;</td><td>46.0</td><td>21.5</td><td>194</td><td>4200</td><td>&quot;male&quot;</td><td>2007</td></tr><tr><td>74</td><td>&quot;Adelie&quot;</td><td>&quot;Torgersen&quot;</td><td>45.8</td><td>18.9</td><td>197</td><td>4150</td><td>&quot;male&quot;</td><td>2008</td></tr><tr><td>112</td><td>&quot;Adelie&quot;</td><td>&quot;Biscoe&quot;</td><td>45.6</td><td>20.3</td><td>191</td><td>4600</td><td>&quot;male&quot;</td><td>2009</td></tr><tr><td>44</td><td>&quot;Adelie&quot;</td><td>&quot;Dream&quot;</td><td>44.1</td><td>19.7</td><td>196</td><td>4400</td><td>&quot;male&quot;</td><td>2007</td></tr><tr><td>130</td><td>&quot;Adelie&quot;</td><td>&quot;Torgersen&quot;</td><td>44.1</td><td>18.0</td><td>210</td><td>4000</td><td>&quot;male&quot;</td><td>2009</td></tr><tr><td>&hellip;</td><td>&hellip;</td><td>&hellip;</td><td>&hellip;</td><td>&hellip;</td><td>&hellip;</td><td>&hellip;</td><td>&hellip;</td><td>&hellip;</td></tr><tr><td>189</td><td>&quot;Gentoo&quot;</td><td>&quot;Biscoe&quot;</td><td>42.6</td><td>13.7</td><td>213</td><td>4950</td><td>&quot;female&quot;</td><td>2008</td></tr><tr><td>169</td><td>&quot;Gentoo&quot;</td><td>&quot;Biscoe&quot;</td><td>42.0</td><td>13.5</td><td>210</td><td>4150</td><td>&quot;female&quot;</td><td>2007</td></tr><tr><td>259</td><td>&quot;Gentoo&quot;</td><td>&quot;Biscoe&quot;</td><td>41.7</td><td>14.7</td><td>210</td><td>4700</td><td>&quot;female&quot;</td><td>2009</td></tr><tr><td>163</td><td>&quot;Gentoo&quot;</td><td>&quot;Biscoe&quot;</td><td>40.9</td><td>13.7</td><td>214</td><td>4650</td><td>&quot;female&quot;</td><td>2007</td></tr><tr><td>272</td><td>&quot;Gentoo&quot;</td><td>&quot;Biscoe&quot;</td><td>null</td><td>null</td><td>null</td><td>null</td><td>null</td><td>2009</td></tr></tbody></table></div>"
      ]
     },
     "execution_count": 128,
     "metadata": {},
     "output_type": "execute_result"
    }
   ],
   "execution_count": 128
  },
  {
   "metadata": {},
   "cell_type": "markdown",
   "source": [
    "## 5. Adatok lekérdezése több DataFrame-ből (joins)\n",
    "\n",
    "| Paraméter     | Leírás                                                                                                                    |\n",
    "|---------------|---------------------------------------------------------------------------------------------------------------------------|\n",
    "| `other`       | A DataFrame, amelyhez az aktuális DataFrame-t illesztjük                                                                  |\n",
    "| `on`          | Az oszlop(ok), amelyeken az illesztést végre kell hajtani, amennyiben az oszlopnév megegyezik a bal és jobb DataFrameben. |\n",
    "| `left_on` és `right_on` | Az oszlop(ok), amelyeken a csatlakozást végre kell hajtani, ha az oszlopok eltérő nevet viselnek a bal és jobb keretben.  |\n",
    "| `how`         | Az illesztés típusa                                                                                                       |\n",
    "| `suffix`      | Az utótag, amely a mindkét DataFrame-be megjelenő oszlopokhoz lesz hozzáadva.                                             |\n",
    "| `validate`    | Ellenőrzés az illesztéshez                                                                                                |\n",
    "| `join_nulls`  | Null értékek illesztése. Alapértelmezés szerint a null értékek nem vesszük figyelembe join esetén.                        |\n"
   ],
   "id": "7ffd81b71ba30074"
  },
  {
   "metadata": {
    "ExecuteTime": {
     "end_time": "2024-10-29T17:36:20.514765Z",
     "start_time": "2024-10-29T17:36:20.488761Z"
    }
   },
   "cell_type": "code",
   "source": [
    "keys_1 = [\"K1\", \"K2\", \"K3\", \"K4\"]\n",
    "df1 = pl.DataFrame({\n",
    "    \"key\": keys_1,\n",
    "    \"value\": np.random.randint(1, 10, len(keys_1))\n",
    "})\n",
    "df1"
   ],
   "id": "a0c9318ea478f80f",
   "outputs": [
    {
     "data": {
      "text/plain": [
       "shape: (4, 2)\n",
       "┌─────┬───────┐\n",
       "│ key ┆ value │\n",
       "│ --- ┆ ---   │\n",
       "│ str ┆ i64   │\n",
       "╞═════╪═══════╡\n",
       "│ K1  ┆ 6     │\n",
       "│ K2  ┆ 2     │\n",
       "│ K3  ┆ 6     │\n",
       "│ K4  ┆ 5     │\n",
       "└─────┴───────┘"
      ],
      "text/html": [
       "<div><style>\n",
       ".dataframe > thead > tr,\n",
       ".dataframe > tbody > tr {\n",
       "  text-align: right;\n",
       "  white-space: pre-wrap;\n",
       "}\n",
       "</style>\n",
       "<small>shape: (4, 2)</small><table border=\"1\" class=\"dataframe\"><thead><tr><th>key</th><th>value</th></tr><tr><td>str</td><td>i64</td></tr></thead><tbody><tr><td>&quot;K1&quot;</td><td>6</td></tr><tr><td>&quot;K2&quot;</td><td>2</td></tr><tr><td>&quot;K3&quot;</td><td>6</td></tr><tr><td>&quot;K4&quot;</td><td>5</td></tr></tbody></table></div>"
      ]
     },
     "execution_count": 180,
     "metadata": {},
     "output_type": "execute_result"
    }
   ],
   "execution_count": 180
  },
  {
   "metadata": {
    "ExecuteTime": {
     "end_time": "2024-10-29T17:20:49.664712Z",
     "start_time": "2024-10-29T17:20:49.640051Z"
    }
   },
   "cell_type": "code",
   "source": [
    "keys_2 = [\"K2\", \"K2\", \"K3\", \"K4\", \"K5\", \"K6\"]\n",
    "df2 = pl.DataFrame({\n",
    "    \"key\": keys_2,\n",
    "    \"value\": np.random.randint(1, 10, len(keys_2))\n",
    "})\n",
    "df2"
   ],
   "id": "f999ed0afdf91879",
   "outputs": [
    {
     "data": {
      "text/plain": [
       "shape: (6, 2)\n",
       "┌─────┬───────┐\n",
       "│ key ┆ value │\n",
       "│ --- ┆ ---   │\n",
       "│ str ┆ i64   │\n",
       "╞═════╪═══════╡\n",
       "│ K2  ┆ 1     │\n",
       "│ K2  ┆ 6     │\n",
       "│ K3  ┆ 6     │\n",
       "│ K4  ┆ 6     │\n",
       "│ K5  ┆ 6     │\n",
       "│ K6  ┆ 5     │\n",
       "└─────┴───────┘"
      ],
      "text/html": [
       "<div><style>\n",
       ".dataframe > thead > tr,\n",
       ".dataframe > tbody > tr {\n",
       "  text-align: right;\n",
       "  white-space: pre-wrap;\n",
       "}\n",
       "</style>\n",
       "<small>shape: (6, 2)</small><table border=\"1\" class=\"dataframe\"><thead><tr><th>key</th><th>value</th></tr><tr><td>str</td><td>i64</td></tr></thead><tbody><tr><td>&quot;K2&quot;</td><td>1</td></tr><tr><td>&quot;K2&quot;</td><td>6</td></tr><tr><td>&quot;K3&quot;</td><td>6</td></tr><tr><td>&quot;K4&quot;</td><td>6</td></tr><tr><td>&quot;K5&quot;</td><td>6</td></tr><tr><td>&quot;K6&quot;</td><td>5</td></tr></tbody></table></div>"
      ]
     },
     "execution_count": 175,
     "metadata": {},
     "output_type": "execute_result"
    }
   ],
   "execution_count": 175
  },
  {
   "metadata": {
    "ExecuteTime": {
     "end_time": "2024-10-29T17:44:13.407612Z",
     "start_time": "2024-10-29T17:44:13.399522Z"
    }
   },
   "cell_type": "code",
   "source": "df1.join(other=df2, on=\"key\", how=\"inner\")",
   "id": "aae24ff9e2f00125",
   "outputs": [
    {
     "data": {
      "text/plain": [
       "shape: (4, 3)\n",
       "┌─────┬───────┬─────────────┐\n",
       "│ key ┆ value ┆ value_right │\n",
       "│ --- ┆ ---   ┆ ---         │\n",
       "│ str ┆ i64   ┆ i64         │\n",
       "╞═════╪═══════╪═════════════╡\n",
       "│ K2  ┆ 2     ┆ 1           │\n",
       "│ K2  ┆ 2     ┆ 6           │\n",
       "│ K3  ┆ 6     ┆ 6           │\n",
       "│ K4  ┆ 5     ┆ 6           │\n",
       "└─────┴───────┴─────────────┘"
      ],
      "text/html": [
       "<div><style>\n",
       ".dataframe > thead > tr,\n",
       ".dataframe > tbody > tr {\n",
       "  text-align: right;\n",
       "  white-space: pre-wrap;\n",
       "}\n",
       "</style>\n",
       "<small>shape: (4, 3)</small><table border=\"1\" class=\"dataframe\"><thead><tr><th>key</th><th>value</th><th>value_right</th></tr><tr><td>str</td><td>i64</td><td>i64</td></tr></thead><tbody><tr><td>&quot;K2&quot;</td><td>2</td><td>1</td></tr><tr><td>&quot;K2&quot;</td><td>2</td><td>6</td></tr><tr><td>&quot;K3&quot;</td><td>6</td><td>6</td></tr><tr><td>&quot;K4&quot;</td><td>5</td><td>6</td></tr></tbody></table></div>"
      ]
     },
     "execution_count": 191,
     "metadata": {},
     "output_type": "execute_result"
    }
   ],
   "execution_count": 191
  },
  {
   "metadata": {
    "ExecuteTime": {
     "end_time": "2024-10-29T17:44:08.857825Z",
     "start_time": "2024-10-29T17:44:08.834258Z"
    }
   },
   "cell_type": "code",
   "source": [
    "\n",
    "df1.join(other=df2, left_on=\"key\", right_on=\"key\", how=\"inner\")"
   ],
   "id": "5896ffb7c5731411",
   "outputs": [
    {
     "data": {
      "text/plain": [
       "shape: (4, 3)\n",
       "┌─────┬───────┬─────────────┐\n",
       "│ key ┆ value ┆ value_right │\n",
       "│ --- ┆ ---   ┆ ---         │\n",
       "│ str ┆ i64   ┆ i64         │\n",
       "╞═════╪═══════╪═════════════╡\n",
       "│ K2  ┆ 2     ┆ 1           │\n",
       "│ K2  ┆ 2     ┆ 6           │\n",
       "│ K3  ┆ 6     ┆ 6           │\n",
       "│ K4  ┆ 5     ┆ 6           │\n",
       "└─────┴───────┴─────────────┘"
      ],
      "text/html": [
       "<div><style>\n",
       ".dataframe > thead > tr,\n",
       ".dataframe > tbody > tr {\n",
       "  text-align: right;\n",
       "  white-space: pre-wrap;\n",
       "}\n",
       "</style>\n",
       "<small>shape: (4, 3)</small><table border=\"1\" class=\"dataframe\"><thead><tr><th>key</th><th>value</th><th>value_right</th></tr><tr><td>str</td><td>i64</td><td>i64</td></tr></thead><tbody><tr><td>&quot;K2&quot;</td><td>2</td><td>1</td></tr><tr><td>&quot;K2&quot;</td><td>2</td><td>6</td></tr><tr><td>&quot;K3&quot;</td><td>6</td><td>6</td></tr><tr><td>&quot;K4&quot;</td><td>5</td><td>6</td></tr></tbody></table></div>"
      ]
     },
     "execution_count": 190,
     "metadata": {},
     "output_type": "execute_result"
    }
   ],
   "execution_count": 190
  },
  {
   "metadata": {
    "ExecuteTime": {
     "end_time": "2024-10-29T17:37:59.313923Z",
     "start_time": "2024-10-29T17:37:59.301354Z"
    }
   },
   "cell_type": "code",
   "source": "df1.join(df2, on=\"key\", how=\"full\", suffix=\"_other\") #korábban outer",
   "id": "9df6db0d6dd0e11c",
   "outputs": [
    {
     "data": {
      "text/plain": [
       "shape: (7, 4)\n",
       "┌──────┬───────┬───────────┬─────────────┐\n",
       "│ key  ┆ value ┆ key_other ┆ value_other │\n",
       "│ ---  ┆ ---   ┆ ---       ┆ ---         │\n",
       "│ str  ┆ i64   ┆ str       ┆ i64         │\n",
       "╞══════╪═══════╪═══════════╪═════════════╡\n",
       "│ K2   ┆ 2     ┆ K2        ┆ 1           │\n",
       "│ K2   ┆ 2     ┆ K2        ┆ 6           │\n",
       "│ K3   ┆ 6     ┆ K3        ┆ 6           │\n",
       "│ K4   ┆ 5     ┆ K4        ┆ 6           │\n",
       "│ null ┆ null  ┆ K5        ┆ 6           │\n",
       "│ null ┆ null  ┆ K6        ┆ 5           │\n",
       "│ K1   ┆ 6     ┆ null      ┆ null        │\n",
       "└──────┴───────┴───────────┴─────────────┘"
      ],
      "text/html": [
       "<div><style>\n",
       ".dataframe > thead > tr,\n",
       ".dataframe > tbody > tr {\n",
       "  text-align: right;\n",
       "  white-space: pre-wrap;\n",
       "}\n",
       "</style>\n",
       "<small>shape: (7, 4)</small><table border=\"1\" class=\"dataframe\"><thead><tr><th>key</th><th>value</th><th>key_other</th><th>value_other</th></tr><tr><td>str</td><td>i64</td><td>str</td><td>i64</td></tr></thead><tbody><tr><td>&quot;K2&quot;</td><td>2</td><td>&quot;K2&quot;</td><td>1</td></tr><tr><td>&quot;K2&quot;</td><td>2</td><td>&quot;K2&quot;</td><td>6</td></tr><tr><td>&quot;K3&quot;</td><td>6</td><td>&quot;K3&quot;</td><td>6</td></tr><tr><td>&quot;K4&quot;</td><td>5</td><td>&quot;K4&quot;</td><td>6</td></tr><tr><td>null</td><td>null</td><td>&quot;K5&quot;</td><td>6</td></tr><tr><td>null</td><td>null</td><td>&quot;K6&quot;</td><td>5</td></tr><tr><td>&quot;K1&quot;</td><td>6</td><td>null</td><td>null</td></tr></tbody></table></div>"
      ]
     },
     "execution_count": 183,
     "metadata": {},
     "output_type": "execute_result"
    }
   ],
   "execution_count": 183
  },
  {
   "metadata": {
    "ExecuteTime": {
     "end_time": "2024-10-29T17:38:59.321211Z",
     "start_time": "2024-10-29T17:38:59.306954Z"
    }
   },
   "cell_type": "code",
   "source": "df1.join(df2, on=\"key\", how=\"left\")",
   "id": "9e988f9a19f4f536",
   "outputs": [
    {
     "data": {
      "text/plain": [
       "shape: (5, 3)\n",
       "┌─────┬───────┬─────────────┐\n",
       "│ key ┆ value ┆ value_right │\n",
       "│ --- ┆ ---   ┆ ---         │\n",
       "│ str ┆ i64   ┆ i64         │\n",
       "╞═════╪═══════╪═════════════╡\n",
       "│ K1  ┆ 6     ┆ null        │\n",
       "│ K2  ┆ 2     ┆ 1           │\n",
       "│ K2  ┆ 2     ┆ 6           │\n",
       "│ K3  ┆ 6     ┆ 6           │\n",
       "│ K4  ┆ 5     ┆ 6           │\n",
       "└─────┴───────┴─────────────┘"
      ],
      "text/html": [
       "<div><style>\n",
       ".dataframe > thead > tr,\n",
       ".dataframe > tbody > tr {\n",
       "  text-align: right;\n",
       "  white-space: pre-wrap;\n",
       "}\n",
       "</style>\n",
       "<small>shape: (5, 3)</small><table border=\"1\" class=\"dataframe\"><thead><tr><th>key</th><th>value</th><th>value_right</th></tr><tr><td>str</td><td>i64</td><td>i64</td></tr></thead><tbody><tr><td>&quot;K1&quot;</td><td>6</td><td>null</td></tr><tr><td>&quot;K2&quot;</td><td>2</td><td>1</td></tr><tr><td>&quot;K2&quot;</td><td>2</td><td>6</td></tr><tr><td>&quot;K3&quot;</td><td>6</td><td>6</td></tr><tr><td>&quot;K4&quot;</td><td>5</td><td>6</td></tr></tbody></table></div>"
      ]
     },
     "execution_count": 184,
     "metadata": {},
     "output_type": "execute_result"
    }
   ],
   "execution_count": 184
  },
  {
   "metadata": {
    "ExecuteTime": {
     "end_time": "2024-10-29T17:40:45.332594Z",
     "start_time": "2024-10-29T17:40:45.306184Z"
    }
   },
   "cell_type": "code",
   "source": "df1.join(df2, on=\"key\", how=\"semi\")",
   "id": "89f7b75fafc7d4dc",
   "outputs": [
    {
     "data": {
      "text/plain": [
       "shape: (3, 2)\n",
       "┌─────┬───────┐\n",
       "│ key ┆ value │\n",
       "│ --- ┆ ---   │\n",
       "│ str ┆ i64   │\n",
       "╞═════╪═══════╡\n",
       "│ K2  ┆ 2     │\n",
       "│ K3  ┆ 6     │\n",
       "│ K4  ┆ 5     │\n",
       "└─────┴───────┘"
      ],
      "text/html": [
       "<div><style>\n",
       ".dataframe > thead > tr,\n",
       ".dataframe > tbody > tr {\n",
       "  text-align: right;\n",
       "  white-space: pre-wrap;\n",
       "}\n",
       "</style>\n",
       "<small>shape: (3, 2)</small><table border=\"1\" class=\"dataframe\"><thead><tr><th>key</th><th>value</th></tr><tr><td>str</td><td>i64</td></tr></thead><tbody><tr><td>&quot;K2&quot;</td><td>2</td></tr><tr><td>&quot;K3&quot;</td><td>6</td></tr><tr><td>&quot;K4&quot;</td><td>5</td></tr></tbody></table></div>"
      ]
     },
     "execution_count": 187,
     "metadata": {},
     "output_type": "execute_result"
    }
   ],
   "execution_count": 187
  },
  {
   "metadata": {
    "ExecuteTime": {
     "end_time": "2024-10-29T17:42:08.780798Z",
     "start_time": "2024-10-29T17:42:08.770896Z"
    }
   },
   "cell_type": "code",
   "source": "df1.join(df2, on=[\"key\", \"value\"], how=\"full\")",
   "id": "8ca72ddd403f017b",
   "outputs": [
    {
     "data": {
      "text/plain": [
       "shape: (9, 4)\n",
       "┌──────┬───────┬───────────┬─────────────┐\n",
       "│ key  ┆ value ┆ key_right ┆ value_right │\n",
       "│ ---  ┆ ---   ┆ ---       ┆ ---         │\n",
       "│ str  ┆ i64   ┆ str       ┆ i64         │\n",
       "╞══════╪═══════╪═══════════╪═════════════╡\n",
       "│ null ┆ null  ┆ K2        ┆ 1           │\n",
       "│ null ┆ null  ┆ K2        ┆ 6           │\n",
       "│ K3   ┆ 6     ┆ K3        ┆ 6           │\n",
       "│ null ┆ null  ┆ K4        ┆ 6           │\n",
       "│ null ┆ null  ┆ K5        ┆ 6           │\n",
       "│ null ┆ null  ┆ K6        ┆ 5           │\n",
       "│ K2   ┆ 2     ┆ null      ┆ null        │\n",
       "│ K1   ┆ 6     ┆ null      ┆ null        │\n",
       "│ K4   ┆ 5     ┆ null      ┆ null        │\n",
       "└──────┴───────┴───────────┴─────────────┘"
      ],
      "text/html": [
       "<div><style>\n",
       ".dataframe > thead > tr,\n",
       ".dataframe > tbody > tr {\n",
       "  text-align: right;\n",
       "  white-space: pre-wrap;\n",
       "}\n",
       "</style>\n",
       "<small>shape: (9, 4)</small><table border=\"1\" class=\"dataframe\"><thead><tr><th>key</th><th>value</th><th>key_right</th><th>value_right</th></tr><tr><td>str</td><td>i64</td><td>str</td><td>i64</td></tr></thead><tbody><tr><td>null</td><td>null</td><td>&quot;K2&quot;</td><td>1</td></tr><tr><td>null</td><td>null</td><td>&quot;K2&quot;</td><td>6</td></tr><tr><td>&quot;K3&quot;</td><td>6</td><td>&quot;K3&quot;</td><td>6</td></tr><tr><td>null</td><td>null</td><td>&quot;K4&quot;</td><td>6</td></tr><tr><td>null</td><td>null</td><td>&quot;K5&quot;</td><td>6</td></tr><tr><td>null</td><td>null</td><td>&quot;K6&quot;</td><td>5</td></tr><tr><td>&quot;K2&quot;</td><td>2</td><td>null</td><td>null</td></tr><tr><td>&quot;K1&quot;</td><td>6</td><td>null</td><td>null</td></tr><tr><td>&quot;K4&quot;</td><td>5</td><td>null</td><td>null</td></tr></tbody></table></div>"
      ]
     },
     "execution_count": 189,
     "metadata": {},
     "output_type": "execute_result"
    }
   ],
   "execution_count": 189
  },
  {
   "metadata": {
    "ExecuteTime": {
     "end_time": "2024-10-29T15:42:16.553433Z",
     "start_time": "2024-10-29T15:42:16.501815Z"
    }
   },
   "cell_type": "code",
   "outputs": [
    {
     "name": "stdout",
     "output_type": "stream",
     "text": [
      "Schema({'movie_id': Int64, 'title': String, 'budget': Int64, 'homepage': String, 'overview': String, 'popularity': Float64, 'release_date': String, 'revenue': Int64, 'runtime': Int64, 'movie_status': String, 'tagline': String, 'vote_average': Float64, 'vote_count': Int64})\n"
     ]
    },
    {
     "data": {
      "text/plain": [
       "shape: (10, 13)\n",
       "┌──────────┬───────────┬───────────┬───────────┬───┬───────────┬───────────┬───────────┬───────────┐\n",
       "│ movie_id ┆ title     ┆ budget    ┆ homepage  ┆ … ┆ movie_sta ┆ tagline   ┆ vote_aver ┆ vote_coun │\n",
       "│ ---      ┆ ---       ┆ ---       ┆ ---       ┆   ┆ tus       ┆ ---       ┆ age       ┆ t         │\n",
       "│ i64      ┆ str       ┆ i64       ┆ str       ┆   ┆ ---       ┆ str       ┆ ---       ┆ ---       │\n",
       "│          ┆           ┆           ┆           ┆   ┆ str       ┆           ┆ f64       ┆ i64       │\n",
       "╞══════════╪═══════════╪═══════════╪═══════════╪═══╪═══════════╪═══════════╪═══════════╪═══════════╡\n",
       "│ 5        ┆ Four      ┆ 4000000   ┆           ┆ … ┆ Released  ┆ Twelve    ┆ 6.5       ┆ 530       │\n",
       "│          ┆ Rooms     ┆           ┆           ┆   ┆           ┆ outrageou ┆           ┆           │\n",
       "│          ┆           ┆           ┆           ┆   ┆           ┆ s guests. ┆           ┆           │\n",
       "│          ┆           ┆           ┆           ┆   ┆           ┆ Four…     ┆           ┆           │\n",
       "│ 11       ┆ Star Wars ┆ 11000000  ┆ http://ww ┆ … ┆ Released  ┆ A long    ┆ 8.1       ┆ 6624      │\n",
       "│          ┆           ┆           ┆ w.starwar ┆   ┆           ┆ time ago  ┆           ┆           │\n",
       "│          ┆           ┆           ┆ s.com/fil ┆   ┆           ┆ in a      ┆           ┆           │\n",
       "│          ┆           ┆           ┆ ms/…      ┆   ┆           ┆ galaxy    ┆           ┆           │\n",
       "│          ┆           ┆           ┆           ┆   ┆           ┆ fa…       ┆           ┆           │\n",
       "│ 12       ┆ Finding   ┆ 94000000  ┆ http://mo ┆ … ┆ Released  ┆ There are ┆ 7.6       ┆ 6122      │\n",
       "│          ┆ Nemo      ┆           ┆ vies.disn ┆   ┆           ┆ 3.7       ┆           ┆           │\n",
       "│          ┆           ┆           ┆ ey.com/fi ┆   ┆           ┆ trillion  ┆           ┆           │\n",
       "│          ┆           ┆           ┆ ndi…      ┆   ┆           ┆ fish in…  ┆           ┆           │\n",
       "│ 13       ┆ Forrest   ┆ 55000000  ┆           ┆ … ┆ Released  ┆ The world ┆ 8.2       ┆ 7927      │\n",
       "│          ┆ Gump      ┆           ┆           ┆   ┆           ┆ will      ┆           ┆           │\n",
       "│          ┆           ┆           ┆           ┆   ┆           ┆ never be  ┆           ┆           │\n",
       "│          ┆           ┆           ┆           ┆   ┆           ┆ the sa…   ┆           ┆           │\n",
       "│ 14       ┆ American  ┆ 15000000  ┆ http://ww ┆ … ┆ Released  ┆ Look      ┆ 7.9       ┆ 3313      │\n",
       "│          ┆ Beauty    ┆           ┆ w.dreamwo ┆   ┆           ┆ closer.   ┆           ┆           │\n",
       "│          ┆           ┆           ┆ rks.com/a ┆   ┆           ┆           ┆           ┆           │\n",
       "│          ┆           ┆           ┆ b/        ┆   ┆           ┆           ┆           ┆           │\n",
       "│ 16       ┆ Dancer in ┆ 12800000  ┆           ┆ … ┆ Released  ┆ You don't ┆ 7.6       ┆ 377       │\n",
       "│          ┆ the Dark  ┆           ┆           ┆   ┆           ┆ need eyes ┆           ┆           │\n",
       "│          ┆           ┆           ┆           ┆   ┆           ┆ to see.   ┆           ┆           │\n",
       "│ 18       ┆ The Fifth ┆ 90000000  ┆           ┆ … ┆ Released  ┆ There is  ┆ 7.3       ┆ 3885      │\n",
       "│          ┆ Element   ┆           ┆           ┆   ┆           ┆ no future ┆           ┆           │\n",
       "│          ┆           ┆           ┆           ┆   ┆           ┆ without   ┆           ┆           │\n",
       "│          ┆           ┆           ┆           ┆   ┆           ┆ it.       ┆           ┆           │\n",
       "│ 19       ┆ Metropoli ┆ 92620000  ┆           ┆ … ┆ Released  ┆ There can ┆ 8.0       ┆ 657       │\n",
       "│          ┆ s         ┆           ┆           ┆   ┆           ┆ be no und ┆           ┆           │\n",
       "│          ┆           ┆           ┆           ┆   ┆           ┆ erstandin ┆           ┆           │\n",
       "│          ┆           ┆           ┆           ┆   ┆           ┆ g …       ┆           ┆           │\n",
       "│ 20       ┆ My Life   ┆ 0         ┆ http://ww ┆ … ┆ Released  ┆           ┆ 7.2       ┆ 77        │\n",
       "│          ┆ Without   ┆           ┆ w.clubcul ┆   ┆           ┆           ┆           ┆           │\n",
       "│          ┆ Me        ┆           ┆ tura.com/ ┆   ┆           ┆           ┆           ┆           │\n",
       "│          ┆           ┆           ┆ clu…      ┆   ┆           ┆           ┆           ┆           │\n",
       "│ 22       ┆ Pirates   ┆ 140000000 ┆ http://di ┆ … ┆ Released  ┆ Prepare   ┆ 7.5       ┆ 6985      │\n",
       "│          ┆ of the    ┆           ┆ sney.go.c ┆   ┆           ┆ to be     ┆           ┆           │\n",
       "│          ┆ Caribbean ┆           ┆ om/disney ┆   ┆           ┆ blown out ┆           ┆           │\n",
       "│          ┆ : The …   ┆           ┆ vid…      ┆   ┆           ┆ of the…   ┆           ┆           │\n",
       "└──────────┴───────────┴───────────┴───────────┴───┴───────────┴───────────┴───────────┴───────────┘"
      ],
      "text/html": [
       "<div><style>\n",
       ".dataframe > thead > tr,\n",
       ".dataframe > tbody > tr {\n",
       "  text-align: right;\n",
       "  white-space: pre-wrap;\n",
       "}\n",
       "</style>\n",
       "<small>shape: (10, 13)</small><table border=\"1\" class=\"dataframe\"><thead><tr><th>movie_id</th><th>title</th><th>budget</th><th>homepage</th><th>overview</th><th>popularity</th><th>release_date</th><th>revenue</th><th>runtime</th><th>movie_status</th><th>tagline</th><th>vote_average</th><th>vote_count</th></tr><tr><td>i64</td><td>str</td><td>i64</td><td>str</td><td>str</td><td>f64</td><td>str</td><td>i64</td><td>i64</td><td>str</td><td>str</td><td>f64</td><td>i64</td></tr></thead><tbody><tr><td>5</td><td>&quot;Four Rooms&quot;</td><td>4000000</td><td>&quot;&quot;</td><td>&quot;It&#x27;s Ted the Bellhop&#x27;s first n…</td><td>22.87623</td><td>&quot;1995-12-09&quot;</td><td>4300000</td><td>98</td><td>&quot;Released&quot;</td><td>&quot;Twelve outrageous guests. Four…</td><td>6.5</td><td>530</td></tr><tr><td>11</td><td>&quot;Star Wars&quot;</td><td>11000000</td><td>&quot;http://www.starwars.com/films/…</td><td>&quot;Princess Leia is captured and …</td><td>126.393695</td><td>&quot;1977-05-25&quot;</td><td>775398007</td><td>121</td><td>&quot;Released&quot;</td><td>&quot;A long time ago in a galaxy fa…</td><td>8.1</td><td>6624</td></tr><tr><td>12</td><td>&quot;Finding Nemo&quot;</td><td>94000000</td><td>&quot;http://movies.disney.com/findi…</td><td>&quot;Nemo, an adventurous young clo…</td><td>85.688789</td><td>&quot;2003-05-30&quot;</td><td>940335536</td><td>100</td><td>&quot;Released&quot;</td><td>&quot;There are 3.7 trillion fish in…</td><td>7.6</td><td>6122</td></tr><tr><td>13</td><td>&quot;Forrest Gump&quot;</td><td>55000000</td><td>&quot;&quot;</td><td>&quot;A man with a low IQ has accomp…</td><td>138.133331</td><td>&quot;1994-07-06&quot;</td><td>677945399</td><td>142</td><td>&quot;Released&quot;</td><td>&quot;The world will never be the sa…</td><td>8.2</td><td>7927</td></tr><tr><td>14</td><td>&quot;American Beauty&quot;</td><td>15000000</td><td>&quot;http://www.dreamworks.com/ab/&quot;</td><td>&quot;Lester Burnham, a depressed su…</td><td>80.878605</td><td>&quot;1999-09-15&quot;</td><td>356296601</td><td>122</td><td>&quot;Released&quot;</td><td>&quot;Look closer.&quot;</td><td>7.9</td><td>3313</td></tr><tr><td>16</td><td>&quot;Dancer in the Dark&quot;</td><td>12800000</td><td>&quot;&quot;</td><td>&quot;Selma, a Czech immigrant on th…</td><td>22.022228</td><td>&quot;2000-05-17&quot;</td><td>40031879</td><td>140</td><td>&quot;Released&quot;</td><td>&quot;You don&#x27;t need eyes to see.&quot;</td><td>7.6</td><td>377</td></tr><tr><td>18</td><td>&quot;The Fifth Element&quot;</td><td>90000000</td><td>&quot;&quot;</td><td>&quot;In 2257, a taxi driver is unin…</td><td>109.528572</td><td>&quot;1997-05-07&quot;</td><td>263920180</td><td>126</td><td>&quot;Released&quot;</td><td>&quot;There is no future without it.&quot;</td><td>7.3</td><td>3885</td></tr><tr><td>19</td><td>&quot;Metropolis&quot;</td><td>92620000</td><td>&quot;&quot;</td><td>&quot;In a futuristic city sharply d…</td><td>32.351527</td><td>&quot;1927-01-10&quot;</td><td>650422</td><td>153</td><td>&quot;Released&quot;</td><td>&quot;There can be no understanding …</td><td>8.0</td><td>657</td></tr><tr><td>20</td><td>&quot;My Life Without Me&quot;</td><td>0</td><td>&quot;http://www.clubcultura.com/clu…</td><td>&quot;A Pedro Almodovar production i…</td><td>7.958831</td><td>&quot;2003-03-07&quot;</td><td>9726954</td><td>106</td><td>&quot;Released&quot;</td><td>&quot;&quot;</td><td>7.2</td><td>77</td></tr><tr><td>22</td><td>&quot;Pirates of the Caribbean: The …</td><td>140000000</td><td>&quot;http://disney.go.com/disneyvid…</td><td>&quot;Jack Sparrow, a freewheeling 1…</td><td>271.972889</td><td>&quot;2003-07-09&quot;</td><td>655011224</td><td>143</td><td>&quot;Released&quot;</td><td>&quot;Prepare to be blown out of the…</td><td>7.5</td><td>6985</td></tr></tbody></table></div>"
      ]
     },
     "execution_count": 151,
     "metadata": {},
     "output_type": "execute_result"
    }
   ],
   "execution_count": 151,
   "source": [
    "\n",
    "df_movies = pl.read_json(\"data/movies.json\")\n",
    "print(df_movies.schema)\n",
    "df_movies.head(10)"
   ],
   "id": "3f9a9f18506f9154"
  },
  {
   "metadata": {
    "ExecuteTime": {
     "end_time": "2024-10-29T15:49:39.494470Z",
     "start_time": "2024-10-29T15:49:39.427100Z"
    }
   },
   "cell_type": "code",
   "source": [
    "df_movie_genre = pl.read_json(\"data/movie_genre.json\")\n",
    "print(df_movie_genre.schema)\n",
    "df_movie_genre.head(10)"
   ],
   "id": "c811345085c3ceec",
   "outputs": [
    {
     "name": "stdout",
     "output_type": "stream",
     "text": [
      "Schema({'movie_id': Int64, 'genre_id': Int64})\n"
     ]
    },
    {
     "data": {
      "text/plain": [
       "shape: (10, 2)\n",
       "┌──────────┬──────────┐\n",
       "│ movie_id ┆ genre_id │\n",
       "│ ---      ┆ ---      │\n",
       "│ i64      ┆ i64      │\n",
       "╞══════════╪══════════╡\n",
       "│ 5        ┆ 35       │\n",
       "│ 5        ┆ 80       │\n",
       "│ 11       ┆ 12       │\n",
       "│ 11       ┆ 28       │\n",
       "│ 11       ┆ 878      │\n",
       "│ 12       ┆ 16       │\n",
       "│ 12       ┆ 10751    │\n",
       "│ 13       ┆ 18       │\n",
       "│ 13       ┆ 35       │\n",
       "│ 13       ┆ 10749    │\n",
       "└──────────┴──────────┘"
      ],
      "text/html": [
       "<div><style>\n",
       ".dataframe > thead > tr,\n",
       ".dataframe > tbody > tr {\n",
       "  text-align: right;\n",
       "  white-space: pre-wrap;\n",
       "}\n",
       "</style>\n",
       "<small>shape: (10, 2)</small><table border=\"1\" class=\"dataframe\"><thead><tr><th>movie_id</th><th>genre_id</th></tr><tr><td>i64</td><td>i64</td></tr></thead><tbody><tr><td>5</td><td>35</td></tr><tr><td>5</td><td>80</td></tr><tr><td>11</td><td>12</td></tr><tr><td>11</td><td>28</td></tr><tr><td>11</td><td>878</td></tr><tr><td>12</td><td>16</td></tr><tr><td>12</td><td>10751</td></tr><tr><td>13</td><td>18</td></tr><tr><td>13</td><td>35</td></tr><tr><td>13</td><td>10749</td></tr></tbody></table></div>"
      ]
     },
     "execution_count": 157,
     "metadata": {},
     "output_type": "execute_result"
    }
   ],
   "execution_count": 157
  },
  {
   "metadata": {
    "ExecuteTime": {
     "end_time": "2024-10-29T15:49:26.489025Z",
     "start_time": "2024-10-29T15:49:26.455234Z"
    }
   },
   "cell_type": "code",
   "source": [
    "df_genres = pl.read_json(\"data/genres.json\")\n",
    "print(df_genres.schema)\n",
    "df_genres.head(10)"
   ],
   "id": "95cf76b0c6ec7c9a",
   "outputs": [
    {
     "name": "stdout",
     "output_type": "stream",
     "text": [
      "Schema({'genre_id': Int64, 'genre_name': String})\n"
     ]
    },
    {
     "data": {
      "text/plain": [
       "shape: (10, 2)\n",
       "┌──────────┬────────────┐\n",
       "│ genre_id ┆ genre_name │\n",
       "│ ---      ┆ ---        │\n",
       "│ i64      ┆ str        │\n",
       "╞══════════╪════════════╡\n",
       "│ 12       ┆ Adventure  │\n",
       "│ 14       ┆ Fantasy    │\n",
       "│ 16       ┆ Animation  │\n",
       "│ 18       ┆ Drama      │\n",
       "│ 27       ┆ Horror     │\n",
       "│ 28       ┆ Action     │\n",
       "│ 35       ┆ Comedy     │\n",
       "│ 36       ┆ History    │\n",
       "│ 37       ┆ Western    │\n",
       "│ 53       ┆ Thriller   │\n",
       "└──────────┴────────────┘"
      ],
      "text/html": [
       "<div><style>\n",
       ".dataframe > thead > tr,\n",
       ".dataframe > tbody > tr {\n",
       "  text-align: right;\n",
       "  white-space: pre-wrap;\n",
       "}\n",
       "</style>\n",
       "<small>shape: (10, 2)</small><table border=\"1\" class=\"dataframe\"><thead><tr><th>genre_id</th><th>genre_name</th></tr><tr><td>i64</td><td>str</td></tr></thead><tbody><tr><td>12</td><td>&quot;Adventure&quot;</td></tr><tr><td>14</td><td>&quot;Fantasy&quot;</td></tr><tr><td>16</td><td>&quot;Animation&quot;</td></tr><tr><td>18</td><td>&quot;Drama&quot;</td></tr><tr><td>27</td><td>&quot;Horror&quot;</td></tr><tr><td>28</td><td>&quot;Action&quot;</td></tr><tr><td>35</td><td>&quot;Comedy&quot;</td></tr><tr><td>36</td><td>&quot;History&quot;</td></tr><tr><td>37</td><td>&quot;Western&quot;</td></tr><tr><td>53</td><td>&quot;Thriller&quot;</td></tr></tbody></table></div>"
      ]
     },
     "execution_count": 156,
     "metadata": {},
     "output_type": "execute_result"
    }
   ],
   "execution_count": 156
  },
  {
   "metadata": {
    "ExecuteTime": {
     "end_time": "2024-10-29T15:50:16.843258Z",
     "start_time": "2024-10-29T15:50:16.820281Z"
    }
   },
   "cell_type": "code",
   "source": [
    "df_combined = (df_movies\n",
    ".join(df_movie_genre, on='movie_id', how=\"inner\").join(df_genres, on='genre_id')\n",
    ".select([\n",
    "    pl.col('movie_id'),\n",
    "    pl.col('title'),\n",
    "    pl.col('genre_name')\n",
    "]))\n",
    "df_combined\n"
   ],
   "id": "7e21cab4205eb760",
   "outputs": [
    {
     "data": {
      "text/plain": [
       "shape: (12_160, 3)\n",
       "┌──────────┬─────────────────────────────┬─────────────────┐\n",
       "│ movie_id ┆ title                       ┆ genre_name      │\n",
       "│ ---      ┆ ---                         ┆ ---             │\n",
       "│ i64      ┆ str                         ┆ str             │\n",
       "╞══════════╪═════════════════════════════╪═════════════════╡\n",
       "│ 5        ┆ Four Rooms                  ┆ Comedy          │\n",
       "│ 5        ┆ Four Rooms                  ┆ Crime           │\n",
       "│ 11       ┆ Star Wars                   ┆ Adventure       │\n",
       "│ 11       ┆ Star Wars                   ┆ Action          │\n",
       "│ 11       ┆ Star Wars                   ┆ Science Fiction │\n",
       "│ …        ┆ …                           ┆ …               │\n",
       "│ 426469   ┆ Growing Up Smith            ┆ Family          │\n",
       "│ 433715   ┆ 8 Days                      ┆ Drama           │\n",
       "│ 433715   ┆ 8 Days                      ┆ Thriller        │\n",
       "│ 447027   ┆ Running Forever             ┆ Family          │\n",
       "│ 459488   ┆ To Be Frank, Sinatra at 100 ┆ Documentary     │\n",
       "└──────────┴─────────────────────────────┴─────────────────┘"
      ],
      "text/html": [
       "<div><style>\n",
       ".dataframe > thead > tr,\n",
       ".dataframe > tbody > tr {\n",
       "  text-align: right;\n",
       "  white-space: pre-wrap;\n",
       "}\n",
       "</style>\n",
       "<small>shape: (12_160, 3)</small><table border=\"1\" class=\"dataframe\"><thead><tr><th>movie_id</th><th>title</th><th>genre_name</th></tr><tr><td>i64</td><td>str</td><td>str</td></tr></thead><tbody><tr><td>5</td><td>&quot;Four Rooms&quot;</td><td>&quot;Comedy&quot;</td></tr><tr><td>5</td><td>&quot;Four Rooms&quot;</td><td>&quot;Crime&quot;</td></tr><tr><td>11</td><td>&quot;Star Wars&quot;</td><td>&quot;Adventure&quot;</td></tr><tr><td>11</td><td>&quot;Star Wars&quot;</td><td>&quot;Action&quot;</td></tr><tr><td>11</td><td>&quot;Star Wars&quot;</td><td>&quot;Science Fiction&quot;</td></tr><tr><td>&hellip;</td><td>&hellip;</td><td>&hellip;</td></tr><tr><td>426469</td><td>&quot;Growing Up Smith&quot;</td><td>&quot;Family&quot;</td></tr><tr><td>433715</td><td>&quot;8 Days&quot;</td><td>&quot;Drama&quot;</td></tr><tr><td>433715</td><td>&quot;8 Days&quot;</td><td>&quot;Thriller&quot;</td></tr><tr><td>447027</td><td>&quot;Running Forever&quot;</td><td>&quot;Family&quot;</td></tr><tr><td>459488</td><td>&quot;To Be Frank, Sinatra at 100&quot;</td><td>&quot;Documentary&quot;</td></tr></tbody></table></div>"
      ]
     },
     "execution_count": 159,
     "metadata": {},
     "output_type": "execute_result"
    }
   ],
   "execution_count": 159
  },
  {
   "metadata": {
    "ExecuteTime": {
     "end_time": "2024-10-29T16:00:45.350990Z",
     "start_time": "2024-10-29T16:00:45.331560Z"
    }
   },
   "cell_type": "code",
   "source": [
    "df_movies_with_genres = df_combined \\\n",
    "    .group_by('movie_id') \\\n",
    "    .agg([\n",
    "    pl.col('title').first(),  # Get the movie title (assuming it's the same for each movie_id)\n",
    "    pl.col('genre_name')  # Collect genres into a list for each movie\n",
    "]) \\\n",
    "    .filter(pl.col(\"title\") == \"Four Rooms\")\n",
    "df_movies_with_genres\n"
   ],
   "id": "9b98d07d384cf5aa",
   "outputs": [
    {
     "data": {
      "text/plain": [
       "shape: (1, 3)\n",
       "┌──────────┬────────────┬─────────────────────┐\n",
       "│ movie_id ┆ title      ┆ genre_name          │\n",
       "│ ---      ┆ ---        ┆ ---                 │\n",
       "│ i64      ┆ str        ┆ list[str]           │\n",
       "╞══════════╪════════════╪═════════════════════╡\n",
       "│ 5        ┆ Four Rooms ┆ [\"Comedy\", \"Crime\"] │\n",
       "└──────────┴────────────┴─────────────────────┘"
      ],
      "text/html": [
       "<div><style>\n",
       ".dataframe > thead > tr,\n",
       ".dataframe > tbody > tr {\n",
       "  text-align: right;\n",
       "  white-space: pre-wrap;\n",
       "}\n",
       "</style>\n",
       "<small>shape: (1, 3)</small><table border=\"1\" class=\"dataframe\"><thead><tr><th>movie_id</th><th>title</th><th>genre_name</th></tr><tr><td>i64</td><td>str</td><td>list[str]</td></tr></thead><tbody><tr><td>5</td><td>&quot;Four Rooms&quot;</td><td>[&quot;Comedy&quot;, &quot;Crime&quot;]</td></tr></tbody></table></div>"
      ]
     },
     "execution_count": 170,
     "metadata": {},
     "output_type": "execute_result"
    }
   ],
   "execution_count": 170
  },
  {
   "metadata": {},
   "cell_type": "code",
   "outputs": [],
   "execution_count": null,
   "source": "",
   "id": "8cab0136636e92b4"
  }
 ],
 "metadata": {
  "kernelspec": {
   "display_name": "Python 3",
   "language": "python",
   "name": "python3"
  },
  "language_info": {
   "codemirror_mode": {
    "name": "ipython",
    "version": 2
   },
   "file_extension": ".py",
   "mimetype": "text/x-python",
   "name": "python",
   "nbconvert_exporter": "python",
   "pygments_lexer": "ipython2",
   "version": "2.7.6"
  }
 },
 "nbformat": 4,
 "nbformat_minor": 5
}
