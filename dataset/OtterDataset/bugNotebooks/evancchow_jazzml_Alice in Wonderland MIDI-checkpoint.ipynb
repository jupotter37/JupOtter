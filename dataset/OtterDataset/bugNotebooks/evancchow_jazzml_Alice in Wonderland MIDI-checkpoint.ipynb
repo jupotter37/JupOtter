{
 "metadata": {
  "name": "",
  "signature": "sha256:69b212f06d8190fa58ed7cffbf7d637b10b15ddefc08796c02c2a1729511da20"
 },
 "nbformat": 3,
 "nbformat_minor": 0,
 "worksheets": [
  {
   "cells": [
    {
     "cell_type": "heading",
     "level": 3,
     "metadata": {},
     "source": [
      "I. Statistical Jazz Improvisation: Basic N-Gram Modeling w/MIDI data"
     ]
    },
    {
     "cell_type": "markdown",
     "metadata": {},
     "source": [
      "First, import the MIDI data!"
     ]
    },
    {
     "cell_type": "code",
     "collapsed": false,
     "input": [
      "from collections import Counter, defaultdict\n",
      "import pandas as pd\n",
      "import numpy as np\n",
      "import sys\n",
      "sys.path.append('C:/Python27/Lib/site-packages')"
     ],
     "language": "python",
     "metadata": {},
     "outputs": [],
     "prompt_number": 1
    },
    {
     "cell_type": "code",
     "collapsed": false,
     "input": [
      "# Import and order rows.\n",
      "alice = pd.read_csv('alice.txt', skiprows=2)[:200].sort(\"Offset\")\n",
      "alice.index = xrange(1, len(alice) + 1)\n",
      "with open('alice.txt', 'rb') as f:\n",
      "    metmark = float(f.readline())\n",
      "    tsig_num, tsig_den = [i for i in f.readline().replace(' /', '').split()]"
     ],
     "language": "python",
     "metadata": {},
     "outputs": [],
     "prompt_number": 2
    },
    {
     "cell_type": "code",
     "collapsed": false,
     "input": [
      "metmark, tsig_num, tsig_den, len(alice)"
     ],
     "language": "python",
     "metadata": {},
     "outputs": [
      {
       "metadata": {},
       "output_type": "pyout",
       "prompt_number": 3,
       "text": [
        "(145.0, '3', '4', 200)"
       ]
      }
     ],
     "prompt_number": 3
    },
    {
     "cell_type": "code",
     "collapsed": false,
     "input": [
      "alice.head(10)"
     ],
     "language": "python",
     "metadata": {},
     "outputs": [
      {
       "html": [
        "<div style=\"max-height:1000px;max-width:1500px;overflow:auto;\">\n",
        "<table border=\"1\" class=\"dataframe\">\n",
        "  <thead>\n",
        "    <tr style=\"text-align: right;\">\n",
        "      <th></th>\n",
        "      <th>Note/Rest</th>\n",
        "      <th>Octave</th>\n",
        "      <th>Len</th>\n",
        "      <th>Offset</th>\n",
        "    </tr>\n",
        "  </thead>\n",
        "  <tbody>\n",
        "    <tr>\n",
        "      <th>1 </th>\n",
        "      <td> G</td>\n",
        "      <td> 5</td>\n",
        "      <td> 2.625</td>\n",
        "      <td>  0.000</td>\n",
        "    </tr>\n",
        "    <tr>\n",
        "      <th>2 </th>\n",
        "      <td> C</td>\n",
        "      <td> 5</td>\n",
        "      <td> 0.250</td>\n",
        "      <td>  8.625</td>\n",
        "    </tr>\n",
        "    <tr>\n",
        "      <th>3 </th>\n",
        "      <td> F</td>\n",
        "      <td> 2</td>\n",
        "      <td> 1.875</td>\n",
        "      <td>  9.000</td>\n",
        "    </tr>\n",
        "    <tr>\n",
        "      <th>4 </th>\n",
        "      <td> C</td>\n",
        "      <td> 3</td>\n",
        "      <td> 0.125</td>\n",
        "      <td> 11.625</td>\n",
        "    </tr>\n",
        "    <tr>\n",
        "      <th>5 </th>\n",
        "      <td> D</td>\n",
        "      <td> 4</td>\n",
        "      <td> 1.000</td>\n",
        "      <td> 12.000</td>\n",
        "    </tr>\n",
        "    <tr>\n",
        "      <th>6 </th>\n",
        "      <td> E</td>\n",
        "      <td> 4</td>\n",
        "      <td> 0.125</td>\n",
        "      <td> 13.000</td>\n",
        "    </tr>\n",
        "    <tr>\n",
        "      <th>7 </th>\n",
        "      <td> F</td>\n",
        "      <td> 4</td>\n",
        "      <td> 0.750</td>\n",
        "      <td> 14.000</td>\n",
        "    </tr>\n",
        "    <tr>\n",
        "      <th>8 </th>\n",
        "      <td> E</td>\n",
        "      <td> 2</td>\n",
        "      <td> 0.125</td>\n",
        "      <td> 14.875</td>\n",
        "    </tr>\n",
        "    <tr>\n",
        "      <th>9 </th>\n",
        "      <td> E</td>\n",
        "      <td> 4</td>\n",
        "      <td> 0.125</td>\n",
        "      <td> 15.000</td>\n",
        "    </tr>\n",
        "    <tr>\n",
        "      <th>10</th>\n",
        "      <td> G</td>\n",
        "      <td> 5</td>\n",
        "      <td> 0.375</td>\n",
        "      <td> 15.625</td>\n",
        "    </tr>\n",
        "  </tbody>\n",
        "</table>\n",
        "<p>10 rows \u00d7 4 columns</p>\n",
        "</div>"
       ],
       "metadata": {},
       "output_type": "pyout",
       "prompt_number": 4,
       "text": [
        "   Note/Rest  Octave    Len  Offset\n",
        "1          G       5  2.625   0.000\n",
        "2          C       5  0.250   8.625\n",
        "3          F       2  1.875   9.000\n",
        "4          C       3  0.125  11.625\n",
        "5          D       4  1.000  12.000\n",
        "6          E       4  0.125  13.000\n",
        "7          F       4  0.750  14.000\n",
        "8          E       2  0.125  14.875\n",
        "9          E       4  0.125  15.000\n",
        "10         G       5  0.375  15.625\n",
        "\n",
        "[10 rows x 4 columns]"
       ]
      }
     ],
     "prompt_number": 4
    },
    {
     "cell_type": "code",
     "collapsed": false,
     "input": [
      "# convert to bitwise note dataframe\n",
      "# Iterates over rows, where each element in the iterable is twofold: \n",
      "# element[0] = the index, element[1] = the note object\n",
      "possiblenotes = [\"%s%s\" % (row[1][\"Note/Rest\"], row[1][\"Octave\"]) for row in alice.iterrows()]\n",
      "possiblenotes.insert(0, \"start\")\n",
      "possiblenotes.insert(0, \"start\")\n",
      "possiblenotes.insert(0, \"start\")\n",
      "print possiblenotes[:50]"
     ],
     "language": "python",
     "metadata": {},
     "outputs": [
      {
       "output_type": "stream",
       "stream": "stdout",
       "text": [
        "['start', 'start', 'start', 'G5', 'C5', 'F2', 'C3', 'D4', 'E4', 'F4', 'E2', 'E4', 'G5', 'D4', 'G5', 'C6', 'E6', 'G6', 'E6', 'C6', 'G3', 'G3', 'F4', 'D5', 'E5', 'F5', 'D5', 'G5', 'E-4', 'D4', 'C#4', 'E5', 'F4', 'C#4', 'E4', 'E-4', 'C2', 'G5', 'D5', 'E5', 'F5', 'E5', 'D5', 'G3', 'B4', 'G3', 'D6', 'D3', 'E4', 'B3']\n"
       ]
      }
     ],
     "prompt_number": 5
    },
    {
     "cell_type": "code",
     "collapsed": false,
     "input": [
      "# Iterate over a list in chunks of size n. Return tuples (for dict).\n",
      "def chunks(iterable, n):\n",
      "    for ix, item in enumerate(iterable):\n",
      "        if ix == len(iterable) - (n-1): return\n",
      "        yield tuple(iterable[ix:ix+n])\n",
      "\n",
      "# Get the individual trigram and quadgram frequencies in linear time.\n",
      "# Need unigrams and bigrams for denominator of probabilities.\n",
      "unigramfreqs = defaultdict(int)\n",
      "for i in chunks(possiblenotes, 1):\n",
      "    unigramfreqs[i] += 1\n",
      "bigramfreqs = defaultdict(int)\n",
      "for i in chunks(possiblenotes, 2):\n",
      "    bigramfreqs[i] += 1\n",
      "trigramfreqs = defaultdict(int)\n",
      "for i in chunks(possiblenotes, 3):\n",
      "    trigramfreqs[i] += 1\n",
      "quadgramfreqs = defaultdict(int)\n",
      "for i in chunks(possiblenotes, 4):\n",
      "    quadgramfreqs[i] += 1\n",
      "\n",
      "# Print out for debugging\n",
      "# for k in sorted(trigramfreqs, key=trigramfreqs.get, reverse=True):\n",
      "#     print k, trigramfreqs[k]"
     ],
     "language": "python",
     "metadata": {},
     "outputs": [],
     "prompt_number": 6
    },
    {
     "cell_type": "markdown",
     "metadata": {},
     "source": [
      "Now that we have the frequencies, we can build the ngram dictionaries based on the following probability model:\n",
      "\n",
      "$P(w_i|w_i-2\\:w_i-1)=\\frac{f(w_i-2\\:w_i-1\\:w)}{f(w_i-2\\:w_i-1)}$\n",
      "\n",
      "The above model is for trigrams, and is unsmoothed. Smoothing will come later if necessary -- remember that\n",
      "this isn't the most complex machine learning model so far."
     ]
    },
    {
     "cell_type": "code",
     "collapsed": false,
     "input": [
      "# Convert trigram, quadgram freqs to probability lookup table.\n",
      "# triprobs: P(tuple(char, prev. bigram)) = f(trigram) / f(prev. bigram)\n",
      "# To look up something in the triprobs dictionary:\n",
      "# say you have sequence \"c5 e5\" and you want to know what to generate next\n",
      "# you want to find probabilities of \"c5 e5 g5\" and \"c5 e5 f5\"\n",
      "# say thing = 'g5'\n",
      "# say prevbigram = ('c5','e5')\n",
      "# so for the first one enter triprobs[(thing,prevbigram)] --> you'll get the probability\n",
      "# Second defaultdict: lookup by the previous bigram, see about possible chars to follow (to generate) w/probs.\n",
      "# I.e. another way of expressing P(w | w-2 w-1).\n",
      "# for key (prev n-1 gram) you get the possible things that follow it w/probs. [(possible1, weight), (possible2, weight2), ...]\n",
      "# Prevents default dict from being overwritten.\n",
      "\n",
      "def condProbTables(ngramfreqs, nngramfreqs):\n",
      "    nprobs = defaultdict(int)\n",
      "    prevnngramnexts = defaultdict(list)\n",
      "    for ngram, freq in ngramfreqs.items():\n",
      "        prevnngram = ngram[:-1]\n",
      "        currchar = ngram[-1]\n",
      "        nprobs[(currchar, prevnngram)] = float(ngramfreqs[ngram]) / nngramfreqs[prevnngram]\n",
      "        if prevnngram not in prevnngramnexts.keys():\n",
      "            prevnngramnexts[prevnngram].extend([(currchar, (float(ngramfreqs[ngram]) / nngramfreqs[prevnngram]))])\n",
      "            continue\n",
      "        prevnngramnexts[prevnngram].extend([(currchar, (float(ngramfreqs[ngram]) / nngramfreqs[prevnngram]))])\n",
      "    return nprobs, prevnngramnexts\n",
      "    \n",
      "    \n",
      "# encode trigram probabilities\n",
      "triprobs, prevbigramnexts = condProbTables(trigramfreqs, bigramfreqs)\n",
      "\n",
      "# encode quadgram probabilities\n",
      "quadprobs, prevtrigramnexts = condProbTables(quadgramfreqs, trigramfreqs)\n",
      "    \n",
      "# Assert\n",
      "print \"Assert for trigram model.\"\n",
      "print \"Length of triprobs, prevbigramnexts:\\n\"\n",
      "print len(triprobs), len(prevbigramnexts)\n",
      "print \"\\npotential probabilities (first 10:\\n\"\n",
      "i = 0;\n",
      "for k, v in triprobs.items():\n",
      "    if i > 10: break\n",
      "    print k, v\n",
      "    i+=1\n",
      "print '\\npossibilities for nexts (first 10):\\n'\n",
      "j = 0;\n",
      "for k2, v2 in sorted(prevbigramnexts.items()):\n",
      "    if j > 10: break\n",
      "    print k2, v2\n",
      "    j+=1"
     ],
     "language": "python",
     "metadata": {},
     "outputs": [
      {
       "output_type": "stream",
       "stream": "stdout",
       "text": [
        "Assert for trigram model.\n",
        "Length of triprobs, prevbigramnexts:\n",
        "\n",
        "196 173\n",
        "\n",
        "potential probabilities (first 10:\n",
        "\n",
        "('E-4', ('A2', 'A2')) 1.0\n",
        "('B6', ('G#6', 'E7')) 1.0\n",
        "('E5', ('A3', 'G#3')) 1.0\n",
        "('D6', ('E4', 'C4')) 1.0\n",
        "('G2', ('E4', 'G3')) 1.0\n",
        "('E4', ('E4', 'F4')) 0.5\n",
        "('A3', ('G2', 'E5')) 1.0\n",
        "('B6', ('G5', 'B7')) 1.0\n",
        "('F#4', ('C5', 'D3')) 1.0\n",
        "('G#3', ('B-4', 'B-4')) 0.5\n",
        "('D3', ('E5', 'C5')) 1.0\n",
        "\n",
        "possibilities for nexts (first 10):\n",
        "\n",
        "('A2', 'A2') [('E-4', 1.0)]\n",
        "('A2', 'E-4') [('C#5', 0.5), ('E4', 0.5)]\n",
        "('A2', 'E5') [('C5', 1.0)]\n",
        "('A3', 'D6') [('E6', 1.0)]\n",
        "('A3', 'E5') [('B3', 1.0)]\n",
        "('A3', 'G#3') [('E5', 1.0)]\n",
        "('B-4', 'B-4') [('G#3', 0.5), ('B-4', 0.5)]\n",
        "('B-4', 'F5') [('G2', 1.0)]\n",
        "('B-4', 'G#3') [('C#4', 1.0)]\n",
        "('B-5', 'C6') [('G#5', 1.0)]\n",
        "('B-5', 'G5') [('F5', 1.0)]\n"
       ]
      }
     ],
     "prompt_number": 7
    },
    {
     "cell_type": "markdown",
     "metadata": {},
     "source": [
      "Now, let's do some N-Gram music note generation! We start with the start note: \"start\"."
     ]
    },
    {
     "cell_type": "code",
     "collapsed": false,
     "input": [
      "\"\"\" Not sure why, but for some reason it doesn't work well to run this cell over and over. \"\"\"\n",
      "\n",
      "# Yield the next note for a given n-gram model.\n",
      "# 'unitsize' is n, i.e. 3 for using trigrams.\n",
      "# args are the previous notes used to generate the next one.\n",
      "# Assumes # of args == same # for lookup in prevnnnexts\n",
      "def yieldNext(prevnnexts, *args):\n",
      "    lookup = tuple([a for a in args])\n",
      "    nexts = np.array(prevnnexts[lookup])\n",
      "    nextnotes = nexts[:,0]\n",
      "    probabilities = nexts[:,1]\n",
      "    return np.random.choice(nextnotes, p=probabilities)\n",
      "\n",
      "# Generate trigrams.\n",
      "def genTrigrams(prevbigramnexts):\n",
      "    note1 = \"start\"\n",
      "    note2 = \"start\"\n",
      "    note3 = note2\n",
      "    for i in xrange(100):\n",
      "        note3 = yieldNext(prevbigramnexts, note1, note2)\n",
      "        note1 = note2\n",
      "        note2 = note3\n",
      "        yield note3\n",
      "        \n",
      "# Generate quadgrams.\n",
      "def genQuadGrams(prevtrigramnexts):\n",
      "    note1 = \"start\"\n",
      "    note2 = \"start\"\n",
      "    note3 = \"start\"\n",
      "    note4 = note3\n",
      "    for i in xrange(100):\n",
      "        note4 = yieldNext(prevtrigramnexts, note1, note2, note3)\n",
      "        note1 = note2\n",
      "        note2 = note3\n",
      "        note3 = note4\n",
      "        yield note4\n",
      "        \n",
      "# Try-except to deal with reruning cell. Cheap fix.\n",
      "try: \n",
      "    gennotes = list(note for note in genQuadGrams(prevtrigramnexts) if note != \"start\")\n",
      "except IndexError: \n",
      "    gennotes = list(note for note in genQuadGrams(prevtrigramnexts) if note != \"start\")\n",
      "\n",
      "gennotes_nooctave = [''.join([i for i in n if not i.isdigit()]) for n in gennotes]"
     ],
     "language": "python",
     "metadata": {},
     "outputs": [],
     "prompt_number": 8
    },
    {
     "cell_type": "code",
     "collapsed": false,
     "input": [],
     "language": "python",
     "metadata": {},
     "outputs": []
    },
    {
     "cell_type": "code",
     "collapsed": false,
     "input": [
      "print gennotes\n",
      "print gennotes_nooctave"
     ],
     "language": "python",
     "metadata": {},
     "outputs": [
      {
       "output_type": "stream",
       "stream": "stdout",
       "text": [
        "['G5', 'C5', 'F2', 'C3', 'D4', 'E4', 'F4', 'E4', 'F2', 'E2', 'G4', 'E4', 'G#3', 'G3', 'B4', 'F#4', 'C#4', 'B-4', 'F5', 'G2', 'C#3', 'E-5', 'G5', 'G#4', 'F5', 'F#4', 'C4', 'B-4', 'B-4', 'B-4', 'G#3', 'C#4', 'G3', 'G4', 'F4', 'E4', 'C4', 'D6', 'G5', 'B7', 'B6', 'G#2', 'C5', 'C#5', 'E-5', 'E-5', 'E-5', 'G#5', 'E-5', 'E-5', 'E-5', 'G#5', 'E-5', 'E-5', 'E-5', 'E-6', 'C6', 'C6', 'C6', 'B-5', 'C6', 'G#5', 'A2', 'A2', 'E-4', 'C#5', 'G2', 'E5', 'A3', 'D6', 'E6', 'B6', 'D3', 'G2', 'G6', 'C5', 'D5', 'D5', 'E5', 'G2', 'C2', 'C6', 'B-5', 'G5', 'F5', 'E5', 'G3', 'D4', 'C5', 'G4', 'F4', 'C5', 'D5', 'C2', 'G5', 'E5', 'G6', 'B5', 'B6', 'G#6']\n",
        "['G', 'C', 'F', 'C', 'D', 'E', 'F', 'E', 'F', 'E', 'G', 'E', 'G#', 'G', 'B', 'F#', 'C#', 'B-', 'F', 'G', 'C#', 'E-', 'G', 'G#', 'F', 'F#', 'C', 'B-', 'B-', 'B-', 'G#', 'C#', 'G', 'G', 'F', 'E', 'C', 'D', 'G', 'B', 'B', 'G#', 'C', 'C#', 'E-', 'E-', 'E-', 'G#', 'E-', 'E-', 'E-', 'G#', 'E-', 'E-', 'E-', 'E-', 'C', 'C', 'C', 'B-', 'C', 'G#', 'A', 'A', 'E-', 'C#', 'G', 'E', 'A', 'D', 'E', 'B', 'D', 'G', 'G', 'C', 'D', 'D', 'E', 'G', 'C', 'C', 'B-', 'G', 'F', 'E', 'G', 'D', 'C', 'G', 'F', 'C', 'D', 'C', 'G', 'E', 'G', 'B', 'B', 'G#']\n"
       ]
      }
     ],
     "prompt_number": 9
    },
    {
     "cell_type": "markdown",
     "metadata": {},
     "source": [
      "Now that we've generated notes with the quadgram model, let's actually run a MIDI sequencer to play these notes! We'll use <b>mingus</b>, a Python library for handling MIDI data and music notes. However, we'll need to run this back on the Ubuntu machine, so we'll write out the notes to a text file for now.\n",
      "\n",
      "Again, you'll need to come back later to update the rhythm timings for the generated notes - unless you find you can do everything on Ubuntu."
     ]
    },
    {
     "cell_type": "code",
     "collapsed": false,
     "input": [
      "# write to file, one note per line.\n",
      "with open('alicequadgrams.txt', 'wb') as f:\n",
      "    for n in gennotes:\n",
      "        f.write(\"%s\\n\" % n)"
     ],
     "language": "python",
     "metadata": {},
     "outputs": [],
     "prompt_number": 12
    },
    {
     "cell_type": "code",
     "collapsed": false,
     "input": [],
     "language": "python",
     "metadata": {},
     "outputs": []
    }
   ],
   "metadata": {}
  }
 ]
}