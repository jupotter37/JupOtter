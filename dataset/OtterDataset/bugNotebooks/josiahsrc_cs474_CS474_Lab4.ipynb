{
  "nbformat": 4,
  "nbformat_minor": 0,
  "metadata": {
    "accelerator": "GPU",
    "colab": {
      "name": "CS474_Lab4.ipynb",
      "provenance": [],
      "collapsed_sections": []
    },
    "kernelspec": {
      "display_name": "Python 3",
      "language": "python",
      "name": "python3"
    },
    "language_info": {
      "codemirror_mode": {
        "name": "ipython",
        "version": 3
      },
      "file_extension": ".py",
      "mimetype": "text/x-python",
      "name": "python",
      "nbconvert_exporter": "python",
      "pygments_lexer": "ipython3",
      "version": "3.6.3"
    },
    "pycharm": {
      "stem_cell": {
        "cell_type": "raw",
        "metadata": {
          "collapsed": false
        },
        "source": []
      }
    }
  },
  "cells": [
    {
      "cell_type": "markdown",
      "metadata": {
        "id": "tpnN_XZwq_vc"
      },
      "source": [
        "<a href=\"https://colab.research.google.com/github/wingated/cs474_labs_f2019/blob/master/DL_Lab4.ipynb\" target=\"_parent\"><img src=\"https://colab.research.google.com/assets/colab-badge.svg\" alt=\"Open In Colab\"/></a>"
      ]
    },
    {
      "cell_type": "markdown",
      "metadata": {
        "id": "view-in-github"
      },
      "source": [
        "# Lab 4: Cancer Detection\n",
        "\n",
        "## Objective\n",
        "* To build a dense prediction model\n",
        "* To begin reading current papers in DNN research\n",
        "\n",
        "## Deliverable\n",
        "For this lab, you will turn in a notebook that describes your efforts at creating\n",
        "a pytorch radiologist. Your final deliverable is a notebook that has (1) deep network,\n",
        "(2) cost function, (3) method of calculating accuracy,\n",
        "(4) an image that shows the dense prediction produced by your network on the pos_test_000072.png image (index 172 in the validation dataset).\n",
        "This is an image in the test set that your network will not have seen before.\n",
        "This image, and the ground truth labeling, is shown below.\n",
        "(And is contained in the downloadable dataset below).\n",
        "\n",
        "![](http://liftothers.org/dokuwiki/lib/exe/fetch.php?w=200&tok=a8ac31&media=cs501r_f2016:pos_test_000072_output.png)\n",
        "<img src=\"http://liftothers.org/dokuwiki/lib/exe/fetch.php?media=cs501r_f2016:pos_test_000072.png\" width=\"200\">\n",
        "\n",
        "\n",
        "## Grading standards\n",
        "Your notebook will be graded on the following:\n",
        "* 40% Proper design, creation and debugging of a dense prediction network\n",
        "* 40% Proper implementation of a loss function and train/test set accuracy measure\n",
        "* 10% Tidy visualizations of loss of your dense predictor during training\n",
        "* 10% Test image output\n",
        "\n",
        "\n",
        "## Data set\n",
        "The data is given as a set of 1024×1024 PNG images. Each input image (in \n",
        "the ```inputs``` directory) is an RGB image of a section of tissue,\n",
        "and there a file with the same name (in the ```outputs``` directory) \n",
        "that has a dense labeling of whether or not a section of tissue is cancerous\n",
        "(white pixels mean “cancerous”, while black pixels mean “not cancerous”).\n",
        "\n",
        "The data has been pre-split for you into test and training splits.\n",
        "Filenames also reflect whether or not the image has any cancer at all \n",
        "(files starting with ```pos_``` have some cancerous pixels, while files \n",
        "starting with ```neg_``` have no cancer anywhere).\n",
        "All of the data is hand-labeled, so the dataset is not very large.\n",
        "That means that overfitting is a real possibility.\n",
        "\n",
        "## Description\n",
        "For a video including some tips and tricks that can help with this lab: [https://youtu.be/Ms19kgK_D8w](https://youtu.be/Ms19kgK_D8w)\n",
        "For this lab, you will implement a virtual radiologist.\n",
        "You are given images of possibly cancerous tissue samples, \n",
        "and you must build a detector that identifies where in the tissue cancer may reside.\n",
        "\n",
        "---\n",
        "\n",
        "### Part 0\n",
        "Watch and follow video tutorial:\n",
        "\n",
        "https://youtu.be/Ms19kgK_D8w\n",
        "\n",
        "**TODO:**\n",
        "\n",
        "**DONE:**\n",
        "\n",
        "* Watch tutorial\n",
        "\n",
        "### Part 1\n",
        "Implement a dense predictor\n",
        "\n",
        "In previous labs and lectures, we have talked about DNNs that classify an \n",
        "entire image as a single class. Here, however, we are interested in a more nuanced classification: \n",
        "given an input image, we would like to identify each pixel that is possibly cancerous. \n",
        "That means that instead of a single output, your network should output an “image”, \n",
        "where each output pixel of your network represents the probability that a pixel is cancerous.\n",
        "\n",
        "___\n",
        "\n",
        "### Part 1a\n",
        "Implement your network topology\n",
        "\n",
        "\n",
        "Use the “Deep Convolution U-Net” from this paper: [(U-Net: Convolutional Networks for Biomedical Image Segmentation)](https://arxiv.org/pdf/1505.04597.pdf) \n",
        "\n",
        "![(Figure 1)](https://lh3.googleusercontent.com/qnHiB3B2KRxC3NjiSDtY08_DgDGTDsHcO6PP53oNRuct-p2QXCR-gyLkDveO850F2tTAhIOPC5Ha06NP9xq1JPsVAHlQ5UXA5V-9zkUrJHGhP_MNHFoRGnjBz1vn1p8P2rMWhlAb6HQ=w2400)\n",
        "\n",
        "You should use existing pytorch functions (not your own Conv2D module), such as ```nn.Conv2d``` and ```nn.CrossEntropyLoss```;\n",
        "you will also need the pytorch function ```torch.cat``` and ```nn.ConvTranspose2d```\n",
        "\n",
        "```torch.cat``` allows you to concatenate tensors.\n",
        "```nn.ConvTranspose2d``` is the opposite of ```nn.Conv2d```.\n",
        "It is used to bring an image from low res to higher res.\n",
        "[This blog](https://towardsdatascience.com/up-sampling-with-transposed-convolution-9ae4f2df52d0) should help you understand this function in detail.\n",
        "\n",
        "Note that the simplest network you could implement (with all the desired properties)\n",
        "is just a single convolution layer with two filters and no relu! \n",
        "Why is that? (of course it wouldn't work very well!)\n",
        "\n",
        "My answer:\n",
        "\n",
        "> The simplest model is the single conv layer with two filters. This is because the filters will serve as the mapping between the input image and the output image. Each filter will correspond to either channel in the output (0 or 1, black or white). The single conv layer will just map from input to output. This won't work very well at all because this model will only represent linear classifications (as it's only using one absolutely needed layer to map from input to output). We need the deep layers to represent abstract concepts in the data, deal with smaller and larger features, and combine all that into an output image. A dense deep net will help with that.\n",
        "\n",
        "**TODO:**\n",
        "\n",
        "**DONE:**\n",
        "\n",
        "* Understand the U-Net architecture\n",
        "* Understand concatenation of inputs from multiple prior layers\n",
        "* Understand ConvTranspose\n",
        "* Answer Question / Reflect on simplest network with the desired properties (answer is above)\n",
        "\n",
        "___\n",
        "The intention of this lab is to learn how to make deep neural nets and implement loss function.\n",
        "Therefore we'll help you with the implementation of Dataset.\n",
        "This code will download the dataset for you so that you are ready to use it and focus on network\n",
        "implementation, losses and accuracies."
      ]
    },
    {
      "cell_type": "code",
      "metadata": {
        "id": "wQOefmcZVgTl",
        "pycharm": {
          "is_executing": false
        },
        "colab": {
          "base_uri": "https://localhost:8080/"
        },
        "outputId": "9a415a0c-f2a0-4261-de6e-acaaa8dc6259"
      },
      "source": [
        "!pip3 install torch\n",
        "!pip3 install torchvision\n",
        "!pip3 install tqdm\n",
        "\n",
        "import torch\n",
        "import torch.nn as nn\n",
        "import torch.nn.functional as F\n",
        "import torch.optim as optim\n",
        "from torch.utils.data import Dataset, DataLoader\n",
        "import numpy as np\n",
        "import matplotlib.pyplot as plt\n",
        "from torchvision import transforms, utils, datasets\n",
        "from tqdm import tqdm\n",
        "from torch.nn.parameter import Parameter\n",
        "import pdb\n",
        "import torchvision\n",
        "import os\n",
        "import gzip\n",
        "import tarfile\n",
        "import gc\n",
        "from IPython.core.ultratb import AutoFormattedTB\n",
        "__ITB__ = AutoFormattedTB(mode = 'Verbose',color_scheme='LightBg', tb_offset = 1)\n",
        "\n",
        "assert torch.cuda.is_available(), \"You need to request a GPU from Runtime > Change Runtime\""
      ],
      "execution_count": 1,
      "outputs": [
        {
          "output_type": "stream",
          "text": [
            "Requirement already satisfied: torch in /usr/local/lib/python3.6/dist-packages (1.7.0+cu101)\n",
            "Requirement already satisfied: future in /usr/local/lib/python3.6/dist-packages (from torch) (0.16.0)\n",
            "Requirement already satisfied: numpy in /usr/local/lib/python3.6/dist-packages (from torch) (1.19.5)\n",
            "Requirement already satisfied: dataclasses in /usr/local/lib/python3.6/dist-packages (from torch) (0.8)\n",
            "Requirement already satisfied: typing-extensions in /usr/local/lib/python3.6/dist-packages (from torch) (3.7.4.3)\n",
            "Requirement already satisfied: torchvision in /usr/local/lib/python3.6/dist-packages (0.8.1+cu101)\n",
            "Requirement already satisfied: numpy in /usr/local/lib/python3.6/dist-packages (from torchvision) (1.19.5)\n",
            "Requirement already satisfied: pillow>=4.1.1 in /usr/local/lib/python3.6/dist-packages (from torchvision) (7.0.0)\n",
            "Requirement already satisfied: torch==1.7.0 in /usr/local/lib/python3.6/dist-packages (from torchvision) (1.7.0+cu101)\n",
            "Requirement already satisfied: dataclasses in /usr/local/lib/python3.6/dist-packages (from torch==1.7.0->torchvision) (0.8)\n",
            "Requirement already satisfied: future in /usr/local/lib/python3.6/dist-packages (from torch==1.7.0->torchvision) (0.16.0)\n",
            "Requirement already satisfied: typing-extensions in /usr/local/lib/python3.6/dist-packages (from torch==1.7.0->torchvision) (3.7.4.3)\n",
            "Requirement already satisfied: tqdm in /usr/local/lib/python3.6/dist-packages (4.41.1)\n"
          ],
          "name": "stdout"
        }
      ]
    },
    {
      "cell_type": "markdown",
      "metadata": {
        "id": "49quyvIJvTq8"
      },
      "source": [
        "WARNING: You may run into an error that says \"RuntimeError: CUDA out of memory.\"\n",
        "\n",
        "In this case, the memory required for your batch is larger than what the GPU is capable of. You can solve this problem by adjusting the image size or the batch size and then restarting the runtime. "
      ]
    },
    {
      "cell_type": "code",
      "metadata": {
        "id": "Il_53HLSWPTY",
        "colab": {
          "base_uri": "https://localhost:8080/"
        },
        "outputId": "662c0a76-9e99-400e-81c8-281a2f9f9d51"
      },
      "source": [
        "############\n",
        "############\n",
        "# Use google drive to store the data so it persists. \n",
        "# Toggle USE_GOOGLE_DRIVE to change back to tmp cache.\n",
        "from google.colab import drive\n",
        "drive.mount('/drive')\n",
        "USE_GOOGLE_DRIVE = True\n",
        "DATA_ROOT = '/drive/MyDrive/cs474data' if USE_GOOGLE_DRIVE else '/tmp/cancer'\n",
        "############\n",
        "############\n",
        "\n",
        "class CancerDataset(Dataset):\n",
        "  def __init__(self, root, download=True, size=512, train=True):\n",
        "    if download and not os.path.exists(os.path.join(root, 'cancer_data')):\n",
        "      datasets.utils.download_url('http://liftothers.org/cancer_data.tar.gz', root, 'cancer_data.tar.gz', None)\n",
        "      self.extract_gzip(os.path.join(root, 'cancer_data.tar.gz'))\n",
        "      self.extract_tar(os.path.join(root, 'cancer_data.tar'))\n",
        "    \n",
        "    postfix = 'train' if train else 'test'\n",
        "    root = os.path.join(root, 'cancer_data', 'cancer_data')\n",
        "    self.dataset_folder = torchvision.datasets.ImageFolder(os.path.join(root, 'inputs_' + postfix) ,transform = transforms.Compose([transforms.Resize(size),transforms.ToTensor()]))\n",
        "    self.label_folder = torchvision.datasets.ImageFolder(os.path.join(root, 'outputs_' + postfix) ,transform = transforms.Compose([transforms.Resize(size),transforms.ToTensor()]))\n",
        "\n",
        "  @staticmethod\n",
        "  def extract_gzip(gzip_path, remove_finished=False):\n",
        "    print('Extracting {}'.format(gzip_path))\n",
        "    with open(gzip_path.replace('.gz', ''), 'wb') as out_f, gzip.GzipFile(gzip_path) as zip_f:\n",
        "      out_f.write(zip_f.read())\n",
        "    if remove_finished:\n",
        "      os.unlink(gzip_path)\n",
        "  \n",
        "  @staticmethod\n",
        "  def extract_tar(tar_path):\n",
        "    print('Untarring {}'.format(tar_path))\n",
        "    z = tarfile.TarFile(tar_path)\n",
        "    z.extractall(tar_path.replace('.tar', ''))\n",
        "\n",
        "  def __getitem__(self, index):\n",
        "    img = self.dataset_folder[index]\n",
        "    label = self.label_folder[index]\n",
        "    return img[0],label[0][0]\n",
        "  \n",
        "  def __len__(self):\n",
        "    return len(self.dataset_folder)"
      ],
      "execution_count": 2,
      "outputs": [
        {
          "output_type": "stream",
          "text": [
            "Mounted at /drive\n"
          ],
          "name": "stdout"
        }
      ]
    },
    {
      "cell_type": "markdown",
      "metadata": {
        "id": "QY4owfQwm-Ni"
      },
      "source": [
        "___\n",
        "\n",
        "### Part 1b\n",
        "Implement a cost function\n",
        "\n",
        "You should still use cross-entropy as your cost function, but you may need to think hard about how exactly to set this up – your network should output cancer/not-cancer probabilities for each pixel, which can be viewed as a two-class classification problem.\n",
        "\n",
        "**TODO:**\n",
        "\n",
        "**DONE:**\n",
        "\n",
        "* Adapt CrossEntropyLoss for 2 class pixel classification (I just used pytorch's, as was said in slack)"
      ]
    },
    {
      "cell_type": "code",
      "metadata": {
        "id": "XPgrP88aOtfy",
        "colab": {
          "base_uri": "https://localhost:8080/"
        },
        "outputId": "946ae898-15e4-463f-8199-d2d5eb3e737a"
      },
      "source": [
        "# You'll probably want a function or something to test input / output sizes of the ConvTranspose2d layer\n",
        "\n",
        "# m = nn.MaxPool2d(2, stride=2)\n",
        "# input = torch.randn(64, 512, 512)\n",
        "# output = m(input)\n",
        "# output.size()\n",
        "\n",
        "upsample = nn.ConvTranspose2d(1024, 512, (3, 3), stride=2, padding=1)\n",
        "input = torch.randn(5, 1024, 32, 32)\n",
        "output = upsample(input, output_size=(5, 512, 64, 64))\n",
        "output.size()"
      ],
      "execution_count": 10,
      "outputs": [
        {
          "output_type": "execute_result",
          "data": {
            "text/plain": [
              "torch.Size([5, 512, 64, 64])"
            ]
          },
          "metadata": {
            "tags": []
          },
          "execution_count": 10
        }
      ]
    },
    {
      "cell_type": "code",
      "metadata": {
        "id": "jq22IyKanxo_"
      },
      "source": [
        "# Since you will be using the output of one network in two places(convolution and maxpooling),\n",
        "# you can't use nn.Sequential.\n",
        "# \n",
        "# Instead you will write up the network like normal variable assignment as the example shown below:\n",
        "# You are welcome (and encouraged) to use the built-in batch normalization and dropout layer.\n",
        "\n",
        "\n",
        "class NNBlockDown(nn.Module):\n",
        "  def __init__(self, c):\n",
        "    super(NNBlockDown, self).__init__()\n",
        "    self.__dict__.update(locals())\n",
        "\n",
        "    self.conv1 = nn.Conv2d(c, c, (3, 3), padding=1, stride=1)\n",
        "    self.relu2 = nn.ReLU()\n",
        "    self.conv3 = nn.Conv2d(c, c, (3, 3), padding=1, stride=1)\n",
        "    self.relu4 = nn.ReLU()\n",
        "    self.samp5 = nn.MaxPool2d(kernel_size=2, stride=2)\n",
        "    \n",
        "  def forward(self, input):\n",
        "    conv1_out = self.conv1(input)\n",
        "    relu2_out = self.relu2(conv1_out)\n",
        "    conv3_out = self.conv3(relu2_out)\n",
        "    relu4_out = self.relu4(conv3_out) \n",
        "    samp5_out = self.samp5(relu4_out) \n",
        "\n",
        "    return samp5_out\n",
        "\n",
        "\n",
        "class NNBlockUp(nn.Module):\n",
        "  def __init__(self, cin, cout, imsize):\n",
        "    super(NNBlockUp, self).__init__()\n",
        "    self.__dict__.update(locals())\n",
        "\n",
        "    self.conv1 = nn.Conv2d(cin, cin, (3, 3), padding=1, stride=1)\n",
        "    self.relu2 = nn.ReLU()\n",
        "    self.conv3 = nn.Conv2d(cin, cin, (3, 3), padding=1, stride=1)\n",
        "    self.relu4 = nn.ReLU()\n",
        "    self.samp5 = nn.ConvTranspose2d(cin, cout, (3, 3), stride=2, padding=1)\n",
        "    \n",
        "  def forward(self, input):\n",
        "    b = input.shape[0]\n",
        "\n",
        "    conv1_out = self.conv1(input)\n",
        "    relu2_out = self.relu2(conv1_out)\n",
        "    conv3_out = self.conv3(relu2_out)\n",
        "    relu4_out = self.relu4(conv3_out) \n",
        "    samp5_out = self.samp5(relu4_out, output_size=(b, self.cout, *self.imsize)) \n",
        "\n",
        "    return samp5_out\n",
        "\n",
        "# upsample = nn.ConvTranspose2d(1024, 512, (3, 3), stride=2, padding=1)\n",
        "# input = torch.randn(5, 1024, 32, 32)\n",
        "# output = upsample(input, output_size=(5, 512, 64, 64))\n",
        "# output.size()\n",
        "\n",
        "\n",
        "class CancerDetection(nn.Module):\n",
        "  def __init__(self, dataset):\n",
        "    super(CancerDetection, self).__init__()\n",
        "\n",
        "    # Inputs channels = 3\n",
        "    # Output channels = 2\n",
        "    # Image size is (512, 512) by default.\n",
        "    x, y = dataset[0]\n",
        "    cin, hin, win = x.size()\n",
        "    cout, hout, hout = 2, *y.size()\n",
        "\n",
        "    # Setup input image transformations.\n",
        "    self.conv01 = nn.Conv2d(cin, 64, (3, 3), stride=1, padding=1)\n",
        "    self.relu02 = nn.ReLU()\n",
        "\n",
        "    # Setup the left half of the U.\n",
        "    self.bloc03 = NNBlockDown(64)\n",
        "    self.conv04 = nn.Conv2d(64, 128, (3, 3), stride=1, padding=1)\n",
        "    self.relu05 = nn.ReLU()\n",
        "\n",
        "    self.bloc06 = NNBlockDown(128)\n",
        "    self.conv07 = nn.Conv2d(128, 256, (3, 3), stride=1, padding=1)\n",
        "    self.relu08 = nn.ReLU()\n",
        "\n",
        "    self.bloc09 = NNBlockDown(256)\n",
        "    self.conv10 = nn.Conv2d(256, 512, (3, 3), stride=1, padding=1)\n",
        "    self.relu11 = nn.ReLU()\n",
        "\n",
        "    self.bloc12 = NNBlockDown(512)\n",
        "    self.conv13 = nn.Conv2d(512, 1024, (3, 3), stride=1, padding=1)\n",
        "    self.relu14 = nn.ReLU()\n",
        "\n",
        "    # Setup the right half of the U.\n",
        "    self.bloc15 = NNBlockUp(1024, 512, (64, 64))\n",
        "    self.conv16 = nn.Conv2d(1024, 512, (3, 3), stride=1, padding=1)\n",
        "    self.relu17 = nn.ReLU()\n",
        "\n",
        "    self.bloc18 = NNBlockUp(512, 256, (128, 128))\n",
        "    self.conv19 = nn.Conv2d(512, 256, (3, 3), stride=1, padding=1)\n",
        "    self.relu20 = nn.ReLU()\n",
        "\n",
        "    self.bloc21 = NNBlockUp(256, 128, (256, 256))\n",
        "    self.conv22 = nn.Conv2d(256, 128, (3, 3), stride=1, padding=1)\n",
        "    self.relu23 = nn.ReLU()\n",
        "\n",
        "    self.bloc24 = NNBlockUp(128, 64, (512, 512))\n",
        "    self.conv25 = nn.Conv2d(128, 64, (3, 3), stride=1, padding=1)\n",
        "    self.relu26 = nn.ReLU()\n",
        "\n",
        "    # Setup the output image transformations (the last\n",
        "    # three vertical lines in the UNet).\n",
        "    self.conv27 = nn.Conv2d(64, 64, (3, 3), stride=1, padding=1)\n",
        "    self.relu28 = nn.ReLU()\n",
        "    self.conv29 = nn.Conv2d(64, cout, (1, 1), stride=1, padding=0)\n",
        " \n",
        "  def forward(self, input):\n",
        "    # torch.cat concatenates together different channels\n",
        "    # convTranpose2d The backwards pass of conv2d is the forward pass of r conv2dtranspose\n",
        "    # If have bottle neck, its probably the data loader. Check the video at 53:44\n",
        "\n",
        "    # The input image has three channels. Expanding that to\n",
        "    # 64 channels to feed into the U.\n",
        "    # input.shape = torch.Size([*, 3, 512, 512])\n",
        "\n",
        "    conv01_out = self.conv01(input)\n",
        "    relu02_out = self.relu02(conv01_out)\n",
        "    # torch.Size([*, 64, 512, 512])\n",
        "\n",
        "    # Output from the left half of the U. Use downsampling, \n",
        "    # halving the size of the input image at each level and \n",
        "    # increasing the number of channels.\n",
        "\n",
        "    bloc03_out = self.bloc03(relu02_out)\n",
        "    conv04_out = self.conv04(bloc03_out)\n",
        "    relu05_out = self.relu05(conv04_out)\n",
        "    # torch.Size([*, 128, 256, 256])\n",
        "\n",
        "    bloc06_out = self.bloc06(relu05_out)\n",
        "    conv07_out = self.conv07(bloc06_out)\n",
        "    relu08_out = self.relu08(conv07_out)\n",
        "    # torch.Size([*, 256, 128, 128])\n",
        "\n",
        "    bloc09_out = self.bloc09(relu08_out)\n",
        "    conv10_out = self.conv10(bloc09_out)\n",
        "    relu11_out = self.relu11(conv10_out)\n",
        "    # torch.Size([*, 512, 64, 64])\n",
        "\n",
        "    bloc12_out = self.bloc12(relu11_out)\n",
        "    conv13_out = self.conv13(bloc12_out)\n",
        "    relu14_out = self.relu14(conv13_out)\n",
        "    # torch.Size([*, 1024, 32, 32])\n",
        "\n",
        "    # Output from the right half of the U. Concatenate some\n",
        "    # of the output from the left half of the U to fix that\n",
        "    # issue where we lose some information. Also a shortcut\n",
        "    # to improve loss calculations.\n",
        "\n",
        "    bloc15_out = self.bloc15(relu14_out)\n",
        "    conv16_out = self.conv16(torch.cat((relu11_out, bloc15_out), 1))\n",
        "    relu17_out = self.relu17(conv16_out)\n",
        "    # torch.Size([*, 512, 64, 64])\n",
        "\n",
        "    bloc18_out = self.bloc18(relu17_out)\n",
        "    conv19_out = self.conv19(torch.cat((relu08_out, bloc18_out), 1))\n",
        "    relu20_out = self.relu20(conv19_out)\n",
        "    # torch.Size([*, 256, 128, 128])\n",
        "\n",
        "    bloc21_out = self.bloc21(relu20_out)\n",
        "    conv22_out = self.conv22(torch.cat((relu05_out, bloc21_out), 1))\n",
        "    relu23_out = self.relu23(conv22_out)\n",
        "    # torch.Size([*, 128, 256, 256])\n",
        "\n",
        "    bloc24_out = self.bloc24(relu23_out)\n",
        "    conv25_out = self.conv25(torch.cat((relu02_out, bloc24_out), 1))\n",
        "    relu26_out = self.relu26(conv25_out)\n",
        "    # torch.Size([*, 64, 512, 512])\n",
        "\n",
        "    # Pipe all the previous stuff into the real output. This\n",
        "    # is the label which will be returned to match the training\n",
        "    # data.\n",
        "\n",
        "    conv27_out = self.conv27(relu26_out)\n",
        "    relu28_out = self.relu28(conv27_out)\n",
        "    conv29_out = self.conv29(relu28_out)\n",
        "    # torch.Size([*, cout, 512, 512])\n",
        "\n",
        "    return conv29_out"
      ],
      "execution_count": 11,
      "outputs": []
    },
    {
      "cell_type": "code",
      "metadata": {
        "id": "NAjagHCdGNAh"
      },
      "source": [
        "# Create your datasets, dataloaders and neural network as you have before\n",
        "# Tip: Pass shuffle=True to constructor for training dataloader"
      ],
      "execution_count": 12,
      "outputs": []
    },
    {
      "cell_type": "code",
      "metadata": {
        "id": "RkieTbwlYWPS",
        "colab": {
          "base_uri": "https://localhost:8080/"
        },
        "outputId": "53ca8dd4-248c-4cc5-fdec-2e278a970a2a"
      },
      "source": [
        "# This is what was talked about in the video for memory management\n",
        "\n",
        "def accuracy(y_hat, y_truth):\n",
        "  # Argmax will take the max index of the channel dimension \n",
        "  # to remove the on-hot encoding.\n",
        "  y_hat = torch.softmax(y_hat, 1).argmax(dim=1)\n",
        "  return (y_hat == y_truth).float().mean()\n",
        "\n",
        "def scope():\n",
        "  try:\n",
        "    # Initialize Datasets\n",
        "    train_dataset = CancerDataset(DATA_ROOT, train=True)\n",
        "    val_dataset = CancerDataset(DATA_ROOT, train=False)\n",
        "\n",
        "    # Initialize DataLoaders\n",
        "    train_loader = DataLoader(train_dataset, batch_size=3, pin_memory=True, shuffle=True, num_workers=2)\n",
        "    val_loader = DataLoader(val_dataset, batch_size=3, pin_memory=True, shuffle=True, num_workers=2)\n",
        "\n",
        "    # Initialize Model\n",
        "    model = CancerDetection(dataset=train_dataset)\n",
        "    model.cuda()\n",
        "  \n",
        "    # Initialize Objective and Optimizer and other parameters\n",
        "    objective = nn.CrossEntropyLoss()\n",
        "    optimizer = optim.Adam(model.parameters(), lr=1e-4)\n",
        "\n",
        "    # Clean up the garbage created from loading the data and model and stuff\n",
        "    gc.collect()\n",
        "    print(f'mem_allocated={torch.cuda.memory_allocated(0) / 1e9}')\n",
        "    \n",
        "    # Traning and validation accuracy/loss\n",
        "    tloss = []\n",
        "    vloss = []\n",
        "    tacc = []\n",
        "    vacc = []\n",
        "\n",
        "    param_count = np.sum([np.prod(list(p.size())) for p in model.parameters()])\n",
        "    print(f'param_count={param_count}', flush=True)\n",
        "\n",
        "    # Run training loop\n",
        "    for epoch in range(10):\n",
        "      loop = tqdm(total=len(train_loader), position=0, leave=False)\n",
        "\n",
        "      for batch, (x, y_truth) in enumerate(train_loader):\n",
        "        x, y_truth = x.cuda(non_blocking=True), y_truth.cuda(non_blocking=True)\n",
        "\n",
        "        optimizer.zero_grad()\n",
        "        y_hat = model(x)\n",
        "        \n",
        "        loss = objective(y_hat, y_truth.long())\n",
        "        loss.backward()\n",
        "        optimizer.step()\n",
        "\n",
        "        # Update loop\n",
        "        acc = accuracy(y_hat, y_truth)\n",
        "        mem = torch.cuda.memory_allocated(0) / 1e9\n",
        "        loop.set_description(f'epoch={epoch}, loss={loss:.4f}, accuracy={acc:.3f}, mem={mem:.2f}')\n",
        "        loop.update(1)\n",
        "\n",
        "        # Track training accuracy and loss\n",
        "        tacc.append(acc)\n",
        "        tloss.append(loss.item())\n",
        "\n",
        "        # Validate every nth batch\n",
        "        if batch % 100 == 0:\n",
        "          val_tmp = []\n",
        "          val_acc_tmp = 0\n",
        "\n",
        "          # Do validation logic\n",
        "          for vx, vy_truth in val_loader:\n",
        "            vx, vy_truth = vx.cuda(non_blocking=True), vy_truth.cuda(non_blocking=True)\n",
        "            vy_hat = model(vx)\n",
        "\n",
        "            val_acc_tmp += accuracy(vy_hat, vy_truth)\n",
        "            val_loss = objective(vy_hat, vy_truth.long()).item()\n",
        "            val_tmp.append(val_loss)\n",
        "            \n",
        "          # Create a snapshot of the validation accuracy at this step\n",
        "          vacc.append((len(tacc), val_acc_tmp / len(val_tmp)))\n",
        "\n",
        "          # Keep track of the average validation loss\n",
        "          vloss.append((len(tloss), np.mean(val_tmp)))\n",
        "\n",
        "      loop.close()\n",
        "\n",
        "    return tloss, vloss, tacc, vacc, model\n",
        "    \n",
        "  except:\n",
        "    __ITB__()\n",
        "    return None, None, None, None, None\n",
        "    \n",
        "tloss, vloss, tacc, vacc, model = scope()"
      ],
      "execution_count": 13,
      "outputs": [
        {
          "output_type": "stream",
          "text": [
            "mem_allocated=2.367839744\n",
            "param_count=50183490\n"
          ],
          "name": "stdout"
        },
        {
          "output_type": "stream",
          "text": [
            ""
          ],
          "name": "stderr"
        }
      ]
    },
    {
      "cell_type": "code",
      "metadata": {
        "colab": {
          "base_uri": "https://localhost:8080/"
        },
        "id": "OCZuJhVfLMZx",
        "outputId": "f1cdb1f4-a2cb-45b2-ea89-7543b517f18e"
      },
      "source": [
        "!nvidia-smi"
      ],
      "execution_count": 14,
      "outputs": [
        {
          "output_type": "stream",
          "text": [
            "Sat Feb  6 08:05:27 2021       \n",
            "+-----------------------------------------------------------------------------+\n",
            "| NVIDIA-SMI 460.39       Driver Version: 418.67       CUDA Version: 10.1     |\n",
            "|-------------------------------+----------------------+----------------------+\n",
            "| GPU  Name        Persistence-M| Bus-Id        Disp.A | Volatile Uncorr. ECC |\n",
            "| Fan  Temp  Perf  Pwr:Usage/Cap|         Memory-Usage | GPU-Util  Compute M. |\n",
            "|                               |                      |               MIG M. |\n",
            "|===============================+======================+======================|\n",
            "|   0  Tesla T4            Off  | 00000000:00:04.0 Off |                    0 |\n",
            "| N/A   76C    P0    42W /  70W |  14971MiB / 15079MiB |     79%      Default |\n",
            "|                               |                      |                 ERR! |\n",
            "+-------------------------------+----------------------+----------------------+\n",
            "                                                                               \n",
            "+-----------------------------------------------------------------------------+\n",
            "| Processes:                                                                  |\n",
            "|  GPU   GI   CI        PID   Type   Process name                  GPU Memory |\n",
            "|        ID   ID                                                   Usage      |\n",
            "|=============================================================================|\n",
            "|  No running processes found                                                 |\n",
            "+-----------------------------------------------------------------------------+\n"
          ],
          "name": "stdout"
        }
      ]
    },
    {
      "cell_type": "markdown",
      "metadata": {
        "id": "CZ062Jv1jIIu"
      },
      "source": [
        "\n",
        "___\n",
        "\n",
        "### Part 2\n",
        "\n",
        "Plot performance over time\n",
        "\n",
        "Please generate two plots:\n",
        "\n",
        "1. One that shows loss on the training and validation set as a function of training time. \n",
        "\n",
        "1. One that shows accuracy on the training and validation set as a function of training time. \n",
        "\n",
        " Make sure your axes are labeled!\n",
        "\n",
        "**TODO:**\n",
        "\n",
        "**DONE:**\n",
        "\n",
        "* Plot training/validation loss as function of training time (not epochs)\n",
        "* Plot training/validation accuracy as function of training time (not epochs)\n"
      ]
    },
    {
      "cell_type": "code",
      "metadata": {
        "id": "mTg1jyIsYVZN",
        "colab": {
          "base_uri": "https://localhost:8080/",
          "height": 573
        },
        "outputId": "bd207384-6a51-4229-d97b-55f92ed6d8b5"
      },
      "source": [
        "# Your plotting code here\n",
        "\n",
        "# Display accuracy\n",
        "plt.title('Accuracy Chart')\n",
        "plt.plot(tacc, label='Training')\n",
        "plt.plot(*zip(*vacc), label='Validation')\n",
        "plt.xlabel('Batch Number')\n",
        "plt.ylabel('Accuracy')\n",
        "plt.legend()\n",
        "plt.show()\n",
        "\n",
        "# Display loss\n",
        "plt.title('Loss Chart')\n",
        "plt.plot(tloss, label='Training')\n",
        "plt.plot(*zip(*vloss), label='Validation')\n",
        "plt.xlabel('Batch Number')\n",
        "plt.ylabel('Loss')\n",
        "plt.legend()\n",
        "plt.show()"
      ],
      "execution_count": 15,
      "outputs": [
        {
          "output_type": "display_data",
          "data": {
            "image/png": "[encoded data removed]",
            "text/plain": [
              "<Figure size 432x288 with 1 Axes>"
            ]
          },
          "metadata": {
            "tags": [],
            "needs_background": "light"
          }
        },
        {
          "output_type": "display_data",
          "data": {
            "image/png": "[encoded data removed]",
            "text/plain": [
              "<Figure size 432x288 with 1 Axes>"
            ]
          },
          "metadata": {
            "tags": [],
            "needs_background": "light"
          }
        }
      ]
    },
    {
      "cell_type": "markdown",
      "metadata": {
        "id": "S4s92S2_jQOG"
      },
      "source": [
        "___\n",
        "\n",
        "### Part 3\n",
        "\n",
        "Generate a prediction on the pos_test_000072.png image\n",
        "\n",
        "Calculate the output of your trained network on the pos_test_000072.png image,\n",
        "then make a hard decision (cancerous/not-cancerous) for each pixel.\n",
        "The resulting image should be black-and-white, where white pixels represent things\n",
        "you think are probably cancerous.\n",
        "\n",
        "**TODO:**\n",
        "\n",
        "**DONE:**\n",
        "\n",
        "* Generate a prediction on the pos_test_000072.png image\n",
        "* This image probably has some cancer in it\n",
        "\n",
        "**NOTE:**\n",
        "\n",
        "Guessing that the pixel is not cancerous every single time will give you an accuracy of ~ 85%.\n",
        "Your trained network should be able to do better than that (but you will not be graded on accuracy).\n",
        "This is the result I got after 1 hour or training.\n",
        "\n",
        "![](http://liftothers.org/dokuwiki/lib/exe/fetch.php?w=400&tok=d23e0b&media=cs501r_f2016:training_accuracy.png)\n",
        "![](http://liftothers.org/dokuwiki/lib/exe/fetch.php?w=400&tok=bb8e3c&media=cs501r_f2016:training_loss.png)"
      ]
    },
    {
      "cell_type": "code",
      "metadata": {
        "id": "XXfG3wClh8an",
        "pycharm": {
          "is_executing": false
        },
        "colab": {
          "base_uri": "https://localhost:8080/",
          "height": 315
        },
        "outputId": "bdece055-a37a-455f-8403-f6fd7f615b88"
      },
      "source": [
        "# Code for testing prediction on an image\n",
        "\n",
        "validation_dataset = CancerDataset(DATA_ROOT, train=False)\n",
        "x, y_truth = validation_dataset[172]\n",
        "\n",
        "# Add an extra dimension to be able to fit into the model\n",
        "x = x.reshape(1, 3, 512, 512)\n",
        "x, y_truth = x.cuda(non_blocking=True), y_truth.cuda(non_blocking=True)\n",
        "\n",
        "# Predict an output\n",
        "y_hat = model(x)\n",
        "\n",
        "print(f'Accuracy={accuracy(y_hat, y_truth)}')\n",
        "\n",
        "# Display image\n",
        "im = y_hat.reshape(2, 512, 512).argmax(dim=0).cpu().numpy() * 255\n",
        "plt.title('Prediction (white=cancer, black=not_cancer)')\n",
        "plt.imshow(im, cmap=plt.cm.gray)"
      ],
      "execution_count": 16,
      "outputs": [
        {
          "output_type": "stream",
          "text": [
            "Accuracy=0.9725685119628906\n"
          ],
          "name": "stdout"
        },
        {
          "output_type": "execute_result",
          "data": {
            "text/plain": [
              "<matplotlib.image.AxesImage at 0x7f82fc5f6c50>"
            ]
          },
          "metadata": {
            "tags": []
          },
          "execution_count": 16
        },
        {
          "output_type": "display_data",
          "data": {
            "image/png": "[encoded data removed]",
            "text/plain": [
              "<Figure size 432x288 with 1 Axes>"
            ]
          },
          "metadata": {
            "tags": [],
            "needs_background": "light"
          }
        }
      ]
    },
    {
      "cell_type": "code",
      "metadata": {
        "id": "hXcC8Lbwlg4a"
      },
      "source": [
        ""
      ],
      "execution_count": null,
      "outputs": []
    }
  ]
}