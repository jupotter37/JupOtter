{
  "cells": [
    {
      "cell_type": "code",
      "source": [
        "showYOLO = False"
      ],
      "outputs": [],
      "execution_count": 1,
      "metadata": {
        "jupyter": {
          "source_hidden": false,
          "outputs_hidden": false
        },
        "nteract": {
          "transient": {
            "deleting": false
          }
        },
        "gather": {
          "logged": 1682620199566
        }
      }
    },
    {
      "cell_type": "code",
      "source": [
        "\r\n",
        "%cd ~/cloudfiles/code/Users/dnn200001/yolov5\r\n",
        "# install dependencies as necessary\r\n",
        "#!pip install -qr requirements.txt  # install dependencies (ignore errors)\r\n",
        "import torch\r\n",
        "\r\n",
        "from IPython.display import Image, clear_output  # to display images\r\n",
        "from utils.downloads import attempt_download  # to download models/datasets\r\n",
        "\r\n",
        "# clear_output()\r\n",
        "print('Setup complete. Using torch %s %s' % (torch.__version__, torch.cuda.get_device_properties(0) if torch.cuda.is_available() else 'CPU'))"
      ],
      "outputs": [
        {
          "output_type": "stream",
          "name": "stdout",
          "text": "/mnt/batch/tasks/shared/LS_root/mounts/clusters/gpu-inference/code/Users/dnn200001/yolov5\nSetup complete. Using torch 1.12.0 _CudaDeviceProperties(name='Tesla K80', major=3, minor=7, total_memory=11441MB, multi_processor_count=13)\n"
        },
        {
          "output_type": "stream",
          "name": "stderr",
          "text": "/anaconda/envs/azureml_py38_PT_TF/lib/python3.8/site-packages/tqdm/auto.py:22: TqdmWarning: IProgress not found. Please update jupyter and ipywidgets. See https://ipywidgets.readthedocs.io/en/stable/user_install.html\n  from .autonotebook import tqdm as notebook_tqdm\n"
        }
      ],
      "execution_count": 2,
      "metadata": {
        "jupyter": {
          "source_hidden": true,
          "outputs_hidden": true
        },
        "nteract": {
          "transient": {
            "deleting": false
          }
        },
        "gather": {
          "logged": 1682620200460
        }
      }
    },
    {
      "cell_type": "code",
      "source": [
        "%cd ~/cloudfiles/code/Users/dnn200001\r\n",
        "\r\n",
        "import os\r\n",
        "import urllib.error\r\n",
        "import urllib.request\r\n",
        "\r\n",
        "import csv\r\n",
        "import cv2\r\n",
        "import itertools\r\n",
        "import numpy as np\r\n",
        "import pandas as pd\r\n",
        "import os\r\n",
        "import shutil\r\n",
        "import sys\r\n",
        "import tempfile\r\n",
        "import tqdm\r\n",
        "\r\n",
        "from matplotlib import pyplot as plt\r\n",
        "from matplotlib.collections import LineCollection\r\n",
        "\r\n",
        "import tensorflow as tf\r\n",
        "import tensorflow_hub as hub\r\n",
        "from tensorflow import keras\r\n",
        "\r\n",
        "from sklearn.model_selection import train_test_split\r\n",
        "from sklearn.metrics import accuracy_score, classification_report, confusion_matrix"
      ],
      "outputs": [
        {
          "output_type": "stream",
          "name": "stdout",
          "text": "/mnt/batch/tasks/shared/LS_root/mounts/clusters/gpu-inference/code/Users/dnn200001\n"
        },
        {
          "output_type": "stream",
          "name": "stderr",
          "text": "2023-04-27 18:30:00.890724: I tensorflow/core/platform/cpu_feature_guard.cc:193] This TensorFlow binary is optimized with oneAPI Deep Neural Network Library (oneDNN) to use the following CPU instructions in performance-critical operations:  AVX2 FMA\nTo enable them in other operations, rebuild TensorFlow with the appropriate compiler flags.\n2023-04-27 18:30:01.971585: W tensorflow/compiler/xla/stream_executor/platform/default/dso_loader.cc:64] Could not load dynamic library 'libnvinfer.so.7'; dlerror: libnvinfer.so.7: cannot open shared object file: No such file or directory; LD_LIBRARY_PATH: /anaconda/envs/azureml_py38_PT_TF/lib/python3.8/site-packages/cv2/../../lib64:\n2023-04-27 18:30:01.971682: W tensorflow/compiler/xla/stream_executor/platform/default/dso_loader.cc:64] Could not load dynamic library 'libnvinfer_plugin.so.7'; dlerror: libnvinfer_plugin.so.7: cannot open shared object file: No such file or directory; LD_LIBRARY_PATH: /anaconda/envs/azureml_py38_PT_TF/lib/python3.8/site-packages/cv2/../../lib64:\n2023-04-27 18:30:01.971694: W tensorflow/compiler/tf2tensorrt/utils/py_utils.cc:38] TF-TRT Warning: Cannot dlopen some TensorRT libraries. If you would like to use Nvidia GPU with TensorRT, please make sure the missing libraries mentioned above are installed properly.\n"
        }
      ],
      "execution_count": 3,
      "metadata": {
        "jupyter": {
          "source_hidden": true,
          "outputs_hidden": true
        },
        "nteract": {
          "transient": {
            "deleting": false
          }
        },
        "gather": {
          "logged": 1682620203447
        }
      }
    },
    {
      "cell_type": "code",
      "source": [
        "pose_sample_rpi_path = os.path.join(os.getcwd(), 'examples/lite/examples/pose_estimation/raspberry_pi')\r\n",
        "sys.path.append(pose_sample_rpi_path)\r\n",
        "\r\n",
        "# Load MoveNet Thunder model\r\n",
        "import utils\r\n",
        "from data import BodyPart\r\n",
        "from ml import Movenet\r\n",
        "movenet = Movenet('movenet_thunder')\r\n",
        "\r\n",
        "# Define function to run pose estimation using MoveNet Thunder.\r\n",
        "# You'll apply MoveNet's cropping algorithm and run inference multiple times on\r\n",
        "# the input image to improve pose estimation accuracy.\r\n",
        "def detect(input_tensor, inference_count=3):\r\n",
        "  \"\"\"Runs detection on an input image.\r\n",
        " \r\n",
        "  Args:\r\n",
        "    input_tensor: A [height, width, 3] Tensor of type tf.float32.\r\n",
        "      Note that height and width can be anything since the image will be\r\n",
        "      immediately resized according to the needs of the model within this\r\n",
        "      function.\r\n",
        "    inference_count: Number of times the model should run repeatly on the\r\n",
        "      same input image to improve detection accuracy.\r\n",
        " \r\n",
        "  Returns:\r\n",
        "    A Person entity detected by the MoveNet.SinglePose.\r\n",
        "  \"\"\"\r\n",
        "  image_height, image_width, channel = input_tensor.shape\r\n",
        " \r\n",
        "  # Detect pose using the full input image\r\n",
        "  movenet.detect(input_tensor.numpy(), reset_crop_region=True)\r\n",
        " \r\n",
        "  # Repeatedly using previous detection result to identify the region of\r\n",
        "  # interest and only croping that region to improve detection accuracy\r\n",
        "  for _ in range(inference_count - 1):\r\n",
        "    person = movenet.detect(input_tensor.numpy(), \r\n",
        "                            reset_crop_region=False)\r\n",
        "\r\n",
        "  return person"
      ],
      "outputs": [
        {
          "output_type": "stream",
          "name": "stderr",
          "text": "INFO: Created TensorFlow Lite XNNPACK delegate for CPU.\n"
        }
      ],
      "execution_count": 4,
      "metadata": {
        "jupyter": {
          "source_hidden": true,
          "outputs_hidden": false
        },
        "nteract": {
          "transient": {
            "deleting": false
          }
        },
        "gather": {
          "logged": 1682620204681
        }
      }
    },
    {
      "cell_type": "code",
      "source": [
        "#@title Functions to visualize the pose estimation results.\r\n",
        "\r\n",
        "def draw_prediction_on_image(\r\n",
        "    image, person, crop_region=None, close_figure=True,\r\n",
        "    keep_input_size=False):\r\n",
        "  \"\"\"Draws the keypoint predictions on image.\r\n",
        " \r\n",
        "  Args:\r\n",
        "    image: An numpy array with shape [height, width, channel] representing the\r\n",
        "      pixel values of the input image.\r\n",
        "    person: A person entity returned from the MoveNet.SinglePose model.\r\n",
        "    close_figure: Whether to close the plt figure after the function returns.\r\n",
        "    keep_input_size: Whether to keep the size of the input image.\r\n",
        " \r\n",
        "  Returns:\r\n",
        "    An numpy array with shape [out_height, out_width, channel] representing the\r\n",
        "    image overlaid with keypoint predictions.\r\n",
        "  \"\"\"\r\n",
        "  # Draw the detection result on top of the image.\r\n",
        "  image_np = utils.visualize(image, [person])\r\n",
        "  \r\n",
        "  # Plot the image with detection results.\r\n",
        "  height, width, channel = image.shape\r\n",
        "  aspect_ratio = float(width) / height\r\n",
        "  fig, ax = plt.subplots(figsize=(12 * aspect_ratio, 12))\r\n",
        "  im = ax.imshow(image_np)\r\n",
        " \r\n",
        "  if close_figure:\r\n",
        "    plt.close(fig)\r\n",
        " \r\n",
        "  if not keep_input_size:\r\n",
        "    image_np = utils.keep_aspect_ratio_resizer(image_np, (512, 512))\r\n",
        "\r\n",
        "  return image_np"
      ],
      "outputs": [],
      "execution_count": 5,
      "metadata": {
        "jupyter": {
          "source_hidden": true,
          "outputs_hidden": false
        },
        "nteract": {
          "transient": {
            "deleting": false
          }
        },
        "gather": {
          "logged": 1682620204828
        }
      }
    },
    {
      "cell_type": "code",
      "source": [
        "#@title Code to load the images, detect pose landmarks and save them into a CSV file\r\n",
        "\r\n",
        "class MoveNetPreprocessor(object):\r\n",
        "  \"\"\"Helper class to preprocess pose sample images for classification.\"\"\"\r\n",
        " \r\n",
        "  def __init__(self,\r\n",
        "               images_in_folder,\r\n",
        "               images_out_folder,\r\n",
        "               csvs_out_path):\r\n",
        "    \"\"\"Creates a preprocessor to detection pose from images and save as CSV.\r\n",
        "\r\n",
        "    Args:\r\n",
        "      images_in_folder: Path to the folder with the input images. It should\r\n",
        "        follow this structure:\r\n",
        "        yoga_poses\r\n",
        "        |__ downdog\r\n",
        "            |______ 00000128.jpg\r\n",
        "            |______ 00000181.bmp\r\n",
        "            |______ ...\r\n",
        "        |__ goddess\r\n",
        "            |______ 00000243.jpg\r\n",
        "            |______ 00000306.jpg\r\n",
        "            |______ ...\r\n",
        "        ...\r\n",
        "      images_out_folder: Path to write the images overlay with detected\r\n",
        "        landmarks. These images are useful when you need to debug accuracy\r\n",
        "        issues.\r\n",
        "      csvs_out_path: Path to write the CSV containing the detected landmark\r\n",
        "        coordinates and label of each image that can be used to train a pose\r\n",
        "        classification model.\r\n",
        "    \"\"\"\r\n",
        "    self._images_in_folder = images_in_folder\r\n",
        "    self._images_out_folder = images_out_folder\r\n",
        "    self._csvs_out_path = csvs_out_path\r\n",
        "    self._messages = []\r\n",
        "\r\n",
        "    # Create a temp dir to store the pose CSVs per class\r\n",
        "    self._csvs_out_folder_per_class = tempfile.mkdtemp()\r\n",
        " \r\n",
        "    # Get list of pose classes and print image statistics\r\n",
        "    self._pose_class_names = sorted(\r\n",
        "        [n for n in os.listdir(self._images_in_folder) if not n.startswith('.')]\r\n",
        "        )\r\n",
        "    \r\n",
        "  def process(self, per_pose_class_limit=None, detection_threshold=0.1):\r\n",
        "    \"\"\"Preprocesses images in the given folder.\r\n",
        "    Args:\r\n",
        "      per_pose_class_limit: Number of images to load. As preprocessing usually\r\n",
        "        takes time, this parameter can be specified to make the reduce of the\r\n",
        "        dataset for testing.\r\n",
        "      detection_threshold: Only keep images with all landmark confidence score\r\n",
        "        above this threshold.\r\n",
        "    \"\"\"\r\n",
        "    # Loop through the classes and preprocess its images\r\n",
        "    for pose_class_name in self._pose_class_names:\r\n",
        "      print('Preprocessing', pose_class_name, file=sys.stderr)\r\n",
        "\r\n",
        "      # Paths for the pose class.\r\n",
        "      images_in_folder = os.path.join(self._images_in_folder, pose_class_name)\r\n",
        "      images_out_folder = os.path.join(self._images_out_folder, pose_class_name)\r\n",
        "      csv_out_path = os.path.join(self._csvs_out_folder_per_class,\r\n",
        "                                  pose_class_name + '.csv')\r\n",
        "      if not os.path.exists(images_out_folder):\r\n",
        "        os.makedirs(images_out_folder)\r\n",
        " \r\n",
        "      # Detect landmarks in each image and write it to a CSV file\r\n",
        "      with open(csv_out_path, 'w') as csv_out_file:\r\n",
        "        csv_out_writer = csv.writer(csv_out_file, \r\n",
        "                                    delimiter=',', \r\n",
        "                                    quoting=csv.QUOTE_MINIMAL)\r\n",
        "        # Get list of images\r\n",
        "        image_names = sorted(\r\n",
        "            [n for n in os.listdir(images_in_folder) if not n.startswith('.')])\r\n",
        "        if per_pose_class_limit is not None:\r\n",
        "          image_names = image_names[:per_pose_class_limit]\r\n",
        "\r\n",
        "        valid_image_count = 0\r\n",
        " \r\n",
        "        # Detect pose landmarks from each image\r\n",
        "        for image_name in tqdm.tqdm(image_names):\r\n",
        "          image_path = os.path.join(images_in_folder, image_name)\r\n",
        "\r\n",
        "          try:\r\n",
        "            image = tf.io.read_file(image_path)\r\n",
        "            image = tf.io.decode_jpeg(image)\r\n",
        "          except:\r\n",
        "            self._messages.append('Skipped ' + image_path + '. Invalid image.')\r\n",
        "            continue\r\n",
        "          else:\r\n",
        "            image = tf.io.read_file(image_path)\r\n",
        "            image = tf.io.decode_jpeg(image)\r\n",
        "            image_height, image_width, channel = image.shape\r\n",
        "          \r\n",
        "          # Skip images that isn't RGB because Movenet requires RGB images\r\n",
        "          if channel != 3:\r\n",
        "            self._messages.append('Skipped ' + image_path +\r\n",
        "                                  '. Image isn\\'t in RGB format.')\r\n",
        "            continue\r\n",
        "          person = detect(image)\r\n",
        "          \r\n",
        "          # Save landmarks if all landmarks were detected\r\n",
        "          min_landmark_score = min(\r\n",
        "              [keypoint.score for keypoint in person.keypoints])\r\n",
        "          should_keep_image = min_landmark_score >= detection_threshold\r\n",
        "          if not should_keep_image:\r\n",
        "\r\n",
        "            self._messages.append('Skipped ' + image_path +\r\n",
        "                                  '. No pose was confidentlly detected.')\r\n",
        "            continue\r\n",
        "\r\n",
        "          valid_image_count += 1\r\n",
        "\r\n",
        "          # # Draw the prediction result on top of the image for debugging later\r\n",
        "          \r\n",
        "          # output_overlay = draw_prediction_on_image(\r\n",
        "          #     image.numpy().astype(np.uint8), person, \r\n",
        "          #     close_figure=True, keep_input_size=True)\r\n",
        "        \r\n",
        "          # # Write detection result into an image file\r\n",
        "          # output_frame = cv2.cvtColor(output_overlay, cv2.COLOR_RGB2BGR)\r\n",
        "          # cv2.imwrite(os.path.join(images_out_folder, image_name), output_frame)\r\n",
        "        \r\n",
        "          # Get landmarks and scale it to the same size as the input image\r\n",
        "          pose_landmarks = np.array(\r\n",
        "              [[keypoint.coordinate.x, keypoint.coordinate.y, keypoint.score]\r\n",
        "                for keypoint in person.keypoints],\r\n",
        "              dtype=np.float32)\r\n",
        "\r\n",
        "          # Write the landmark coordinates to its per-class CSV file\r\n",
        "          coordinates = pose_landmarks.flatten().astype(np.str).tolist()\r\n",
        "          csv_out_writer.writerow([image_name] + coordinates)\r\n",
        "\r\n",
        "        if not valid_image_count:\r\n",
        "          raise RuntimeError(\r\n",
        "              'No valid images found for the \"{}\" class.'\r\n",
        "              .format(pose_class_name))\r\n",
        "        \r\n",
        "      \r\n",
        "    # Print the error message collected during preprocessing.\r\n",
        "    print('\\n'.join(self._messages))\r\n",
        "\r\n",
        "    # Combine all per-class CSVs into a single output file\r\n",
        "    all_landmarks_df = self._all_landmarks_as_dataframe()\r\n",
        "    all_landmarks_df.to_csv(self._csvs_out_path, index=False)\r\n",
        "\r\n",
        "  def class_names(self):\r\n",
        "    \"\"\"List of classes found in the training dataset.\"\"\"\r\n",
        "    return self._pose_class_names\r\n",
        "  \r\n",
        "  def _all_landmarks_as_dataframe(self):\r\n",
        "    \"\"\"Merge all per-class CSVs into a single dataframe.\"\"\"\r\n",
        "    total_df = None\r\n",
        "    for class_index, class_name in enumerate(self._pose_class_names):\r\n",
        "      csv_out_path = os.path.join(self._csvs_out_folder_per_class,\r\n",
        "                                  class_name + '.csv')\r\n",
        "      per_class_df = pd.read_csv(csv_out_path, header=None)\r\n",
        "      \r\n",
        "      # Add the labels\r\n",
        "      per_class_df['class_no'] = [class_index]*len(per_class_df)\r\n",
        "      per_class_df['class_name'] = [class_name]*len(per_class_df)\r\n",
        "\r\n",
        "      # Append the folder name to the filename column (first column)\r\n",
        "      per_class_df[per_class_df.columns[0]] = (os.path.join(class_name, '') \r\n",
        "        + per_class_df[per_class_df.columns[0]].astype(str))\r\n",
        "\r\n",
        "      if total_df is None:\r\n",
        "        # For the first class, assign its data to the total dataframe\r\n",
        "        total_df = per_class_df\r\n",
        "      else:\r\n",
        "        # Concatenate each class's data into the total dataframe\r\n",
        "        total_df = pd.concat([total_df, per_class_df], axis=0)\r\n",
        " \r\n",
        "    list_name = [[bodypart.name + '_x', bodypart.name + '_y', \r\n",
        "                  bodypart.name + '_score'] for bodypart in BodyPart] \r\n",
        "    header_name = []\r\n",
        "    for columns_name in list_name:\r\n",
        "      header_name += columns_name\r\n",
        "    header_name = ['file_name'] + header_name\r\n",
        "    header_map = {total_df.columns[i]: header_name[i] \r\n",
        "                  for i in range(len(header_name))}\r\n",
        " \r\n",
        "    total_df.rename(header_map, axis=1, inplace=True)\r\n",
        "\r\n",
        "    return total_df"
      ],
      "outputs": [],
      "execution_count": 6,
      "metadata": {
        "jupyter": {
          "source_hidden": true,
          "outputs_hidden": false
        },
        "nteract": {
          "transient": {
            "deleting": false
          }
        },
        "gather": {
          "logged": 1682620204967
        }
      }
    },
    {
      "cell_type": "code",
      "source": [
        "#download video based on the number of frames\r\n",
        "def extract_frames(video_url, frame_rate):\r\n",
        "    # Set the directory to store the frames\r\n",
        "    output_dir = 'output_frames'\r\n",
        "\r\n",
        "    # Create the directory if it does not exist\r\n",
        "    if not os.path.exists(output_dir):\r\n",
        "        os.makedirs(output_dir)\r\n",
        "    else:\r\n",
        "        shutil.rmtree(output_dir)\r\n",
        "        os.makedirs(output_dir)\r\n",
        "\r\n",
        "    try:\r\n",
        "        # Download the video with a fixed filename\r\n",
        "        filename = os.path.join(output_dir, 'my_video.mp4')\r\n",
        "        urllib.request.urlretrieve(video_url, filename)\r\n",
        "\r\n",
        "        # Open the video file\r\n",
        "        cap = cv2.VideoCapture(filename)\r\n",
        "\r\n",
        "        # Get the frame rate of the video\r\n",
        "        fps = cap.get(cv2.CAP_PROP_FPS)\r\n",
        "\r\n",
        "        # Calculate the number of frames to skip\r\n",
        "        frame_skip = int(fps / frame_rate)\r\n",
        "\r\n",
        "        # Initialize the frame counter\r\n",
        "        frame_count = 0\r\n",
        "\r\n",
        "        # Set the directory to store the frames\r\n",
        "        video_name = os.path.splitext(os.path.basename(filename))[0]\r\n",
        "        frames_dir = os.path.join(output_dir, f\"{video_name}_frames\")\r\n",
        "        if not os.path.exists(frames_dir):\r\n",
        "            os.makedirs(frames_dir)\r\n",
        "\r\n",
        "        # Read the frames from the video and save them to the output directory\r\n",
        "        while cap.isOpened():\r\n",
        "            ret, frame = cap.read()\r\n",
        "            if ret:\r\n",
        "                if frame_count % frame_skip == 0:\r\n",
        "                    frame_path = os.path.join(frames_dir, f'frame_{frame_count:05d}.jpg')\r\n",
        "                    cv2.imwrite(frame_path, frame)\r\n",
        "                frame_count += 1\r\n",
        "            else:\r\n",
        "                break\r\n",
        "\r\n",
        "        # Release the video capture object and delete the video file\r\n",
        "        cap.release()\r\n",
        "        os.remove(filename)\r\n",
        "\r\n",
        "        return frames_dir\r\n",
        "\r\n",
        "    except (urllib.error.HTTPError, urllib.error.URLError, cv2.error) as e:\r\n",
        "        print(f\"An error occurred while processing the video: {e}\")\r\n",
        "        return None\r\n"
      ],
      "outputs": [],
      "execution_count": 7,
      "metadata": {
        "jupyter": {
          "source_hidden": true,
          "outputs_hidden": false
        },
        "nteract": {
          "transient": {
            "deleting": false
          }
        },
        "gather": {
          "logged": 1682620205132
        }
      }
    },
    {
      "cell_type": "code",
      "source": [
        "def load_pose_landmarks(csv_path):\r\n",
        "  \"\"\"Loads a CSV created by MoveNetPreprocessor.\r\n",
        "  \r\n",
        "  Returns:\r\n",
        "    X: Detected landmark coordinates and scores of shape (N, 17 * 3)\r\n",
        "    y: Ground truth labels of shape (N, label_count)\r\n",
        "    classes: The list of all class names found in the dataset\r\n",
        "    dataframe: The CSV loaded as a Pandas dataframe features (X) and ground\r\n",
        "      truth labels (y) to use later to train a pose classification model.\r\n",
        "  \"\"\"\r\n",
        "\r\n",
        "  # Load the CSV file\r\n",
        "  dataframe = pd.read_csv(csv_path)\r\n",
        "  df_to_process = dataframe.copy()\r\n",
        "\r\n",
        "  # Drop the file_name columns as you don't need it during training.\r\n",
        "  df_to_process.drop(columns=['file_name'], inplace=True)\r\n",
        "\r\n",
        "  # Extract the list of class names\r\n",
        "  classes = df_to_process.pop('class_name')\r\n",
        "  # Extract the labels\r\n",
        "  y = df_to_process.pop('class_no')\r\n",
        "\r\n",
        "  # Convert the input features and labels into the correct format for training.\r\n",
        "  X = df_to_process.astype('float64')\r\n",
        "  y = keras.utils.to_categorical(y)\r\n",
        "\r\n",
        "  return X, y, classes, dataframe"
      ],
      "outputs": [],
      "execution_count": 8,
      "metadata": {
        "jupyter": {
          "source_hidden": true,
          "outputs_hidden": false
        },
        "nteract": {
          "transient": {
            "deleting": false
          }
        },
        "gather": {
          "logged": 1682620205272
        }
      }
    },
    {
      "cell_type": "code",
      "source": [
        "def poseInference(interpreter, X):\r\n",
        "  \"\"\"Evaluates the given TFLite model and return its accuracy.\"\"\"\r\n",
        "  input_index = interpreter.get_input_details()[0][\"index\"]\r\n",
        "  output_index = interpreter.get_output_details()[0][\"index\"]\r\n",
        "\r\n",
        "  # Run predictions on all given poses.\r\n",
        "  y_pred = []\r\n",
        "  for i in range(len(X)):\r\n",
        "    # Pre-processing: add batch dimension and convert to float32 to match with\r\n",
        "    # the model's input data format.\r\n",
        "    test_image = X[i: i + 1].astype('float32')\r\n",
        "    interpreter.set_tensor(input_index, test_image)\r\n",
        "\r\n",
        "    # Run inference.\r\n",
        "    interpreter.invoke()\r\n",
        "\r\n",
        "    # Post-processing: remove batch dimension and find the class with highest\r\n",
        "    # probability.\r\n",
        "    output = interpreter.tensor(output_index)\r\n",
        "    predicted_label = np.argmax(output()[0])\r\n",
        "    y_pred.append(predicted_label)\r\n",
        "\r\n",
        "  # Compare prediction results with ground truth labels to calculate accuracy.\r\n",
        "  return y_pred\r\n",
        "\r\n",
        "# Evaluate the accuracy of the converted TFLite model\r\n",
        "\r\n",
        "\r\n",
        "# Run predictions on the TFLite model\r\n",
        "\r\n",
        "\r\n",
        "\r\n",
        "#to do inference\r\n",
        "#X_test, y_test, _, df_test = load_pose_landmarks(csvs_out_test_path)\r\n",
        "###doInference(classifier_interpreter, X_test))"
      ],
      "outputs": [],
      "execution_count": 9,
      "metadata": {
        "jupyter": {
          "source_hidden": true,
          "outputs_hidden": false
        },
        "nteract": {
          "transient": {
            "deleting": false
          }
        },
        "gather": {
          "logged": 1682620205401
        }
      }
    },
    {
      "cell_type": "code",
      "source": [
        "%cd ~/cloudfiles/code/Users/dnn200001/\r\n",
        "\r\n",
        "torch.cuda.empty_cache()\r\n",
        "tf.keras.backend.clear_session()\r\n",
        "\r\n",
        "####THIS IS THE YOLOV5, TO DETECT AND CROP OUT PLAYER FROM VIDEO\r\n",
        "url = \"https://videos.nba.com/nba/pbp/media/2014/10/29/0021400014/4/063bd16c-b31f-a552-d604-80db24080594_1280x720.mp4\"\r\n",
        "\r\n",
        "print(url)\r\n",
        "source = extract_frames(url, 4)\r\n",
        "!python yolov5/detect.py --weights yolov5/runs/train/yolov5s_results/weights/last.pt --img 480 --conf 0.5 --source {source} --classes 3 --name MISS --save-crop --nosave\r\n",
        "\r\n",
        "\r\n",
        "####THIS IS THE MOVENET, IT CLASSIFY THE PLAYER'S POSE FROM CROPPED PLAYERS\r\n",
        "DETECT_ROOT = \"yolov5/runs/detect\"\r\n",
        "\r\n",
        "classifier_interpreter = tf.lite.Interpreter(model_content=open(\"pose_classifier.tflite\", \"rb\").read())\r\n",
        "classifier_interpreter.allocate_tensors()\r\n",
        "input_details = classifier_interpreter.get_input_details()\r\n",
        "output_details = classifier_interpreter.get_output_details()\r\n",
        "\r\n",
        "images_in_folder = DETECT_ROOT\r\n",
        "images_out_folder = 'IGNORE'\r\n",
        "csvs_out_path = 'poses_output.csv'\r\n",
        "\r\n",
        "preprocessor = MoveNetPreprocessor(\r\n",
        "      images_in_folder=images_in_folder,\r\n",
        "      images_out_folder=images_out_folder,\r\n",
        "      csvs_out_path=csvs_out_path,\r\n",
        "  )\r\n",
        "\r\n",
        "validCount = preprocessor.process(per_pose_class_limit=None)\r\n",
        "#load the poses into dataframe for detection\r\n",
        "\r\n",
        "poseToClassify, y, classes, df_test = load_pose_landmarks(csvs_out_path)\r\n",
        "\r\n",
        "poseResults = poseInference(classifier_interpreter, poseToClassify)\r\n",
        "\r\n",
        "####THIS IS THE SCIKIT-LEARN MODEL. IT PREDICT VIDEO HIGHLIGHT BASED ON PERCENTAGE OF POSE IN A VIDEO\r\n",
        "category2num = {\r\n",
        "    \"MISS\": 0,\r\n",
        "    \"GOAL\": 1,\r\n",
        "    \"ASSIST\": 2,\r\n",
        "    \"STEAL\": 3,\r\n",
        "    \"BLOCK\": 4,\r\n",
        "    \"TURNOVER\": 5,\r\n",
        "    \"REBOUND\": 6\r\n",
        "}\r\n",
        "\r\n",
        "num2category = [category2num[key] for key in category2num.keys()]\r\n",
        "\r\n",
        "\r\n",
        "import collections\r\n",
        "counter = collections.Counter(poseResults)\r\n",
        "\r\n",
        "toPredict = pd.DataFrame({\r\n",
        "    'ball_in_hand': counter[0]/len(poseResults),\r\n",
        "    'block': counter[1]/len(poseResults),\r\n",
        "    'defense': counter[2]/len(poseResults),\r\n",
        "    'dribble': counter[3]/len(poseResults),\r\n",
        "    'no_action': counter[4]/len(poseResults),\r\n",
        "    'pass': counter[5]/len(poseResults),\r\n",
        "    'pick': counter[6]/len(poseResults),\r\n",
        "    'run': counter[7]/len(poseResults),\r\n",
        "    'shoot': counter[8]/len(poseResults),\r\n",
        "    'walk': counter[9]/len(poseResults),\r\n",
        "})\r\n",
        "\r\n",
        "df = pd.read_csv(\"ScikitData.csv\")\r\n",
        "X = df.drop(columns=['class'])\r\n",
        "y = df['class']\r\n",
        "\r\n",
        "from sklearn.ensemble import RandomForestClassifier\r\n",
        "from sklearn.model_selection import train_test_split\r\n",
        "from sklearn.metrics import accuracy_score\r\n",
        "\r\n",
        "\r\n",
        "X_train, X_test, y_train, y_test = train_test_split(X,y,test_size=0.01)\r\n",
        "\r\n",
        "clf = RandomForestClassifier()\r\n",
        "clf.fit(X_train,y_train)\r\n",
        "\r\n",
        "predictions = clf.predict(toPredict)\r\n",
        "\r\n",
        "#####THE MOMMENT WE WAIT FOR, THIS GIVE THE ANSWER THAT WE WANTED\r\n",
        "print(\"\\n\\n\\n\\n\\n\\n\\nThis highlights is\" + num2category(predictions[0]))\r\n"
      ],
      "outputs": [],
      "execution_count": null,
      "metadata": {
        "jupyter": {
          "source_hidden": false,
          "outputs_hidden": false
        },
        "nteract": {
          "transient": {
            "deleting": false
          }
        },
        "gather": {
          "logged": 1682620361497
        }
      }
    }
  ],
  "metadata": {
    "kernelspec": {
      "name": "python38-azureml-pt-tf",
      "language": "python",
      "display_name": "Python 3.8 - Pytorch and Tensorflow"
    },
    "language_info": {
      "name": "python",
      "version": "3.8.5",
      "mimetype": "text/x-python",
      "codemirror_mode": {
        "name": "ipython",
        "version": 3
      },
      "pygments_lexer": "ipython3",
      "nbconvert_exporter": "python",
      "file_extension": ".py"
    },
    "microsoft": {
      "ms_spell_check": {
        "ms_spell_check_language": "en"
      },
      "host": {
        "AzureML": {
          "notebookHasBeenCompleted": true
        }
      }
    },
    "kernel_info": {
      "name": "python38-azureml-pt-tf"
    },
    "nteract": {
      "version": "nteract-front-end@1.0.0"
    }
  },
  "nbformat": 4,
  "nbformat_minor": 2
}