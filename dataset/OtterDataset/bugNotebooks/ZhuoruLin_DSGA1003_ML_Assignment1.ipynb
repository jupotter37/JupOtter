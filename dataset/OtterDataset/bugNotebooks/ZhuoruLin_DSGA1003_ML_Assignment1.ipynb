{
 "cells": [
  {
   "cell_type": "markdown",
   "metadata": {},
   "source": [
    "## Linear Regression"
   ]
  },
  {
   "cell_type": "markdown",
   "metadata": {},
   "source": [
    "### 2.1 Feature Normalization"
   ]
  },
  {
   "cell_type": "code",
   "execution_count": 4,
   "metadata": {
    "collapsed": false
   },
   "outputs": [],
   "source": [
    "import numpy as np\n",
    "def feature_normalization(train, test):\n",
    "    # Record the maximun value of each instance in train\n",
    "    def dis2min(row):\n",
    "        return row-min(row)\n",
    "    dis2min_train=np.apply_along_axis(dis2min,axis=1,arr=train)\n",
    "    instances_max = np.apply_along_axis(max,axis=1,arr=dis2min_train)\n",
    "    # Calculate 1/max and convert it into a diagonal matrix\n",
    "    multiplier = np.diag(1/instances_max)\n",
    "    dis2min_test=np.apply_along_axis(dis2min,axis=1,arr=test)\n",
    "    return np.dot(multiplier,dis2min_train),np.dot(multiplier,dis2min_test)"
   ]
  },
  {
   "cell_type": "markdown",
   "metadata": {},
   "source": [
    "### Import Code testing data"
   ]
  },
  {
   "cell_type": "code",
   "execution_count": 5,
   "metadata": {
    "collapsed": false
   },
   "outputs": [
    {
     "name": "stdout",
     "output_type": "stream",
     "text": [
      "loading the dataset\n",
      "Split into Train and Test\n",
      "Scaling all to [0, 1]\n"
     ]
    }
   ],
   "source": [
    "import pandas as pd\n",
    "import logging\n",
    "import numpy as np\n",
    "import sys\n",
    "import matplotlib.pyplot as plt\n",
    "from sklearn.cross_validation import train_test_split\n",
    "print('loading the dataset')\n",
    "    \n",
    "df = pd.read_csv('./hw1-sgd/hw1-data.csv', delimiter=',')\n",
    "X = df.values[:,:-1]\n",
    "y = df.values[:,-1]\n",
    "\n",
    "print('Split into Train and Test')\n",
    "X_train, X_test, y_train, y_test = train_test_split(X, y, test_size =100, random_state=10)\n",
    "\n",
    "print(\"Scaling all to [0, 1]\")\n",
    "X_train, X_test = feature_normalization(X_train, X_test)\n",
    "X_train = np.hstack((X_train, np.ones((X_train.shape[0], 1))))  # Add bias term\n",
    "X_test = np.hstack((X_test, np.ones((X_test.shape[0], 1)))) # Add bias term"
   ]
  },
  {
   "cell_type": "code",
   "execution_count": 6,
   "metadata": {
    "collapsed": false
   },
   "outputs": [],
   "source": [
    "x_check = np.array([[1,2,3],[4,5,6]])\n",
    "theta_check = np.array([1,1,1])\n",
    "y_check = np.array([7,16])"
   ]
  },
  {
   "cell_type": "code",
   "execution_count": 7,
   "metadata": {
    "collapsed": false
   },
   "outputs": [],
   "source": [
    "theta = np.ones(X_train.shape[1]) #Initialized theta"
   ]
  },
  {
   "cell_type": "markdown",
   "metadata": {},
   "source": [
    "### 2.2 Gradient Decent Setup"
   ]
  },
  {
   "cell_type": "markdown",
   "metadata": {},
   "source": [
    "1) $J(\\theta) = \\frac{1}{2m}(x \\theta - y)^{T}(x \\theta - y)$"
   ]
  },
  {
   "cell_type": "markdown",
   "metadata": {},
   "source": [
    "2) $\\triangledown$$J(\\theta) = \\frac{1}{m} (x \\theta - y)^{T} \\frac{\\partial (x \\theta - y)}{\\partial \\theta} = \\frac{1}{m} (x \\theta - y)^T x$"
   ]
  },
  {
   "cell_type": "markdown",
   "metadata": {},
   "source": [
    "3) Using first order approximation, we have: $J(\\theta + \\eta \\Delta) \\approx J(\\theta) + \\triangledown J(\\theta)^{T} \\eta \\Delta$"
   ]
  },
  {
   "cell_type": "markdown",
   "metadata": {},
   "source": [
    "4) We want $\\theta$ to move toward negative gradient direction. Hence the updated $\\theta '= \\theta - \\eta \\triangledown J(\\theta)$"
   ]
  },
  {
   "cell_type": "markdown",
   "metadata": {},
   "source": [
    "5) The following shows the code for compute_squre_loss:"
   ]
  },
  {
   "cell_type": "code",
   "execution_count": 8,
   "metadata": {
    "collapsed": true
   },
   "outputs": [],
   "source": [
    "def compute_square_loss(X, y, theta):\n",
    "    \"\"\"\n",
    "    Given a set of X, y, theta, compute the square loss for predicting y with X*theta\n",
    "    \n",
    "    Args:\n",
    "        X - the feature vector, 2D numpy array of size (num_instances, num_features)\n",
    "        y - the label vector, 1D numpy array of size (num_instances)\n",
    "        theta - the parameter vector, 1D array of size (num_features)\n",
    "    \n",
    "    Returns:\n",
    "        loss - the square loss, scalar\n",
    "    \"\"\"\n",
    "    num_instances = X.shape[0]\n",
    "    predictions = np.dot(X,theta)\n",
    "    differences = predictions-y\n",
    "    loss = 0.5/(num_instances)*np.dot(differences,differences)\n",
    "    return loss"
   ]
  },
  {
   "cell_type": "code",
   "execution_count": 9,
   "metadata": {
    "collapsed": false
   },
   "outputs": [
    {
     "data": {
      "text/plain": [
       "376.13377330782214"
      ]
     },
     "execution_count": 9,
     "metadata": {},
     "output_type": "execute_result"
    }
   ],
   "source": [
    "compute_square_loss(X_train,y_train,theta)"
   ]
  },
  {
   "cell_type": "markdown",
   "metadata": {},
   "source": [
    "6) The following shows the code for compute_square_loss_gradient:"
   ]
  },
  {
   "cell_type": "code",
   "execution_count": 10,
   "metadata": {
    "collapsed": false
   },
   "outputs": [],
   "source": [
    "def compute_square_loss_gradient(X, y, theta):\n",
    "    \"\"\"\n",
    "    Compute gradient of the square loss (as defined in compute_square_loss), at the point theta.\n",
    "    \n",
    "    Args:\n",
    "        X - the feature vector, 2D numpy array of size (num_instances, num_features)\n",
    "        y - the label vector, 1D numpy array of size (num_instances)\n",
    "        theta - the parameter vector, 1D numpy array of size (num_features)\n",
    "    \n",
    "    Returns:\n",
    "        grad - gradient vector, 1D numpy array of size (num_features)\n",
    "    \"\"\"\n",
    "    num_instances = X.shape[0]\n",
    "    ones = np.ones(num_instances).reshape(num_instances,1)\n",
    "    #extended_X = np.append(X,ones,axis = 1)\n",
    "    differences = np.dot(X,theta)-y\n",
    "    grad = 1.0/num_instances*(np.dot(differences,X))\n",
    "    return grad   "
   ]
  },
  {
   "cell_type": "markdown",
   "metadata": {},
   "source": [
    "### 2.3 Gradient Checker"
   ]
  },
  {
   "cell_type": "code",
   "execution_count": 11,
   "metadata": {
    "collapsed": true
   },
   "outputs": [],
   "source": [
    "###########################################\n",
    "### Gradient Checker\n",
    "#Getting the gradient calculation correct is often the trickiest part\n",
    "#of any gradient-based optimization algorithm.  Fortunately, it's very\n",
    "#easy to check that the gradient calculation is correct using the\n",
    "#definition of gradient.\n",
    "#See http://ufldl.stanford.edu/wiki/index.php/Gradient_checking_and_advanced_optimization\n",
    "def grad_checker(X, y, theta, epsilon=0.01, tolerance=1e-4): \n",
    "    \"\"\"Implement Gradient Checker\n",
    "    Check that the function compute_square_loss_gradient returns the\n",
    "    correct gradient for the given X, y, and theta.\n",
    "\n",
    "    Let d be the number of features. Here we numerically estimate the\n",
    "    gradient by approximating the directional derivative in each of\n",
    "    the d coordinate directions: \n",
    "    (e_1 = (1,0,0,...,0), e_2 = (0,1,0,...,0), ..., e_d = (0,...,0,1) \n",
    "\n",
    "    The approximation for the directional derivative of J at the point\n",
    "    theta in the direction e_i is given by: \n",
    "    ( J(theta + epsilon * e_i) - J(theta - epsilon * e_i) ) / (2*epsilon).\n",
    "\n",
    "    We then look at the Euclidean distance between the gradient\n",
    "    computed using this approximation and the gradient computed by\n",
    "    compute_square_loss_gradient(X, y, theta).  If the Euclidean\n",
    "    distance exceeds tolerance, we say the gradient is incorrect.\n",
    "\n",
    "    Args:\n",
    "        X - the feature vector, 2D numpy array of size (num_instances, num_features)\n",
    "        y - the label vector, 1D numpy array of size (num_instances)\n",
    "        theta - the parameter vector, 1D numpy array of size (num_features)\n",
    "        epsilon - the epsilon used in approximation\n",
    "        tolerance - the tolerance error\n",
    "    \n",
    "    Return:\n",
    "        A boolean value indicate whether the gradient is correct or not\n",
    "\n",
    "    \"\"\"\n",
    "    true_gradient = compute_square_loss_gradient(X, y, theta) #the true gradient\n",
    "    num_features = theta.shape[0]\n",
    "    approx_grad = np.zeros(num_features) #Initialize the gradient we approximate\n",
    "    for feature_pos in range(num_features):\n",
    "        e_i = np.zeros(num_features)\n",
    "        e_i[feature_pos]=1\n",
    "        theta_plus = theta + epsilon*e_i\n",
    "        theta_minus = theta - epsilon*e_i \n",
    "        approx_grad[feature_pos]=(compute_square_loss(X,y,theta_plus)-compute_square_loss(X,y,theta_minus))/(2*epsilon)\n",
    "        distance = np.linalg.norm(approx_grad-true_gradient)\n",
    "    return distance<tolerance"
   ]
  },
  {
   "cell_type": "code",
   "execution_count": 12,
   "metadata": {
    "collapsed": false
   },
   "outputs": [
    {
     "data": {
      "text/plain": [
       "True"
      ]
     },
     "execution_count": 12,
     "metadata": {},
     "output_type": "execute_result"
    }
   ],
   "source": [
    "grad_checker(X_train,y_train,theta)"
   ]
  },
  {
   "cell_type": "code",
   "execution_count": 13,
   "metadata": {
    "collapsed": false
   },
   "outputs": [],
   "source": [
    "def generic_gradient_checker(X, y, theta, objective_func, gradient_func, epsilon=0.01, tolerance=1e-4):\n",
    "    \"\"\"\n",
    "    The functions takes objective_func and gradient_func as parameters. And check whether gradient_func(X, y, theta) returned\n",
    "    the true gradient for objective_func(X, y, theta).\n",
    "    Eg: In LSR, the objective_func = compute_square_loss, and gradient_func = compute_square_loss_gradient\n",
    "    \"\"\"\n",
    "    true_gradient = gradient_func(X,y,theta)\n",
    "    num_features = theta.shape[0]\n",
    "    approx_grad = np.zeros(num_features)\n",
    "    for feature_pos in range(num_features):\n",
    "        e_i = np.zeros(num_features)\n",
    "        e_i[feature_pos]=1\n",
    "        theta_plus = theta + epsilon*e_i\n",
    "        theta_minus = theta - epsilon*e_i \n",
    "        approx_grad[feature_pos]=(ojective_func(X,y,theta_plus)-objective_func(X,y,theta_minus))/(2*epsilon)\n",
    "        distance = np.linalg.norm(approx_grad-true_gradient)\n",
    "    return distance<tolerance"
   ]
  },
  {
   "cell_type": "markdown",
   "metadata": {},
   "source": [
    "### 2.4 Batch Gradient Descent"
   ]
  },
  {
   "cell_type": "markdown",
   "metadata": {},
   "source": [
    "1) The following are codes for batch_grad_descent"
   ]
  },
  {
   "cell_type": "code",
   "execution_count": 14,
   "metadata": {
    "collapsed": false
   },
   "outputs": [],
   "source": [
    "def batch_grad_descent(X, y, alpha=0.1, num_iter=1000, check_gradient=False):\n",
    "    \"\"\"\n",
    "    In this question you will implement batch gradient descent to\n",
    "    minimize the square loss objective\n",
    "    \n",
    "    Args:\n",
    "        X - the feature vector, 2D numpy array of size (num_instances, num_features)\n",
    "        y - the label vector, 1D numpy array of size (num_instances)\n",
    "        alpha - step size in gradient descent\n",
    "        num_iter - number of iterations to run \n",
    "        check_gradient - a boolean value indicating whether checking the gradient when updating\n",
    "        \n",
    "    Returns:\n",
    "        theta_hist - store the the history of parameter vector in iteration, 2D numpy array of size (num_iter+1, num_features) \n",
    "                    for instance, theta in iteration 0 should be theta_hist[0], theta in ieration (num_iter) is theta_hist[-1]\n",
    "        loss_hist - the history of objective function vector, 1D numpy array of size (num_iter+1) \n",
    "    \"\"\"\n",
    "    num_instances, num_features = X.shape[0], X.shape[1]\n",
    "    theta_hist = np.zeros((num_iter+1, num_features))  #Initialize theta_hist\n",
    "    loss_hist = np.zeros(num_iter+1) #initialize loss_hist\n",
    "    theta = np.ones(num_features) #initialize theta\n",
    "    for i in range(num_iter+1):\n",
    "        if i == 0:\n",
    "            # Record initial loss before gradient descend\n",
    "            loss_hist[i] = compute_square_loss(X,y,theta)\n",
    "            theta_hist[i,] = theta\n",
    "        grad = compute_square_loss_gradient(X,y,theta)\n",
    "        if check_gradient:\n",
    "            # Module for gradient diverge debugging\n",
    "            if grad_checker(X,y,theta)==False:\n",
    "                print(\"Alpha:\",alpha)\n",
    "                print(\"Gradient Fail! at step\",i)\n",
    "                break\n",
    "        theta = theta-alpha*grad.T\n",
    "        loss_hist[i] = compute_square_loss(X,y,theta)\n",
    "        theta_hist[i,] = theta\n",
    "    return loss_hist,theta_hist"
   ]
  },
  {
   "cell_type": "markdown",
   "metadata": {
    "collapsed": false
   },
   "source": [
    "2) Experiment with steps size"
   ]
  },
  {
   "cell_type": "code",
   "execution_count": 15,
   "metadata": {
    "collapsed": false,
    "scrolled": true
   },
   "outputs": [
    {
     "name": "stdout",
     "output_type": "stream",
     "text": [
      "Alpha: 0.5\n",
      "Gradient Fail! at step 4\n"
     ]
    }
   ],
   "source": [
    "loss_hist_0_01, theta_hist_0_01 = batch_grad_descent(X_train,y_train,alpha=0.01,check_gradient=True)\n",
    "loss_hist_0_05, theta_hist_0_05 = batch_grad_descent(X_train,y_train,alpha=0.05,check_gradient=True)\n",
    "loss_hist_0_1, theta_hist_0_1 = batch_grad_descent(X_train,y_train,alpha=0.1,check_gradient=True)\n",
    "loss_hist_0_5, theta_hist_0_5 = batch_grad_descent(X_train,y_train,alpha=0.5,check_gradient=True)"
   ]
  },
  {
   "cell_type": "code",
   "execution_count": 16,
   "metadata": {
    "collapsed": false
   },
   "outputs": [
    {
     "data": {
      "image/png": "[encoded data removed]",
      "text/plain": [
       "<matplotlib.figure.Figure at 0x1e3ae9c4da0>"
      ]
     },
     "metadata": {},
     "output_type": "display_data"
    }
   ],
   "source": [
    "import matplotlib.pyplot as plt\n",
    "#plt.plot(range(len(loss_hist_0_5)),loss_hist_0_5,label=\"alpha=0.5\")\n",
    "plt.plot(range(len(loss_hist_0_1)),np.log(loss_hist_0_1),label=\"alpha=0.1\")\n",
    "plt.plot(range(len(loss_hist_0_05)),np.log(loss_hist_0_05),label=\"alpha=0.05\")\n",
    "plt.plot(range(len(loss_hist_0_01)),np.log(loss_hist_0_01),label=\"alpha=0.01\")\n",
    "plt.legend(loc = 1)\n",
    "plt.show()"
   ]
  },
  {
   "cell_type": "markdown",
   "metadata": {},
   "source": [
    "We can observe that the larger the steps the faster the objective function value decreases. When alpha= 0.5 the gradient diverge after step 4."
   ]
  },
  {
   "cell_type": "markdown",
   "metadata": {},
   "source": [
    "### 2.5 Ridge Regression"
   ]
  },
  {
   "cell_type": "markdown",
   "metadata": {},
   "source": [
    "1) 1) $\\triangledown J(\\theta)=\\frac{1}{m} (x\\theta-y)^{T}\\frac{\\partial(x\\theta-y)}{\\partial \\theta}+\\frac{\\partial \\lambda \\theta^T \\theta}{\\partial \\theta}=\\frac{1}{m} (x\\theta-y)^{T}x+2\\lambda\\theta^{T}$ "
   ]
  },
  {
   "cell_type": "markdown",
   "metadata": {},
   "source": [
    "2) The following shows the codes for compute_regularized_square_loss_gradient"
   ]
  },
  {
   "cell_type": "code",
   "execution_count": 17,
   "metadata": {
    "collapsed": true
   },
   "outputs": [],
   "source": [
    "def compute_regularized_square_loss_gradient(X, y, theta, lambda_reg):\n",
    "    \"\"\"\n",
    "    Compute the gradient of L2-regularized square loss function given X, y and theta\n",
    "    \n",
    "    Args:\n",
    "        X - the feature vector, 2D numpy array of size (num_instances, num_features)\n",
    "        y - the label vector, 1D numpy array of size (num_instances)\n",
    "        theta - the parameter vector, 1D numpy array of size (num_features)\n",
    "        lambda_reg - the regularization coefficient\n",
    "    \n",
    "    Returns:\n",
    "        grad - gradient vector, 1D numpy array of size (num_features)\n",
    "    \"\"\"\n",
    "    square_loss_gradient = compute_square_loss_gradient(X,y,theta)\n",
    "    regularization_gradient = 2*lambda_reg*theta\n",
    "    return square_loss_gradient+regularization_gradient"
   ]
  },
  {
   "cell_type": "markdown",
   "metadata": {},
   "source": [
    "3) The following shows the codes for regularized_grad_descent"
   ]
  },
  {
   "cell_type": "code",
   "execution_count": 18,
   "metadata": {
    "collapsed": true
   },
   "outputs": [],
   "source": [
    "def regularized_grad_descent(X, y, alpha=0.1, lambda_reg=1, num_iter=1000):\n",
    "    \"\"\"\n",
    "    Args:\n",
    "        X - the feature vector, 2D numpy array of size (num_instances, num_features)\n",
    "        y - the label vector, 1D numpy array of size (num_instances)\n",
    "        alpha - step size in gradient descent\n",
    "        lambda_reg - the regularization coefficient\n",
    "        numIter - number of iterations to run \n",
    "        \n",
    "    Returns:\n",
    "        theta_hist - the history of parameter vector, 2D numpy array of size (num_iter+1, num_features) \n",
    "        loss_hist - the history of regularized loss value, 1D numpy array\n",
    "    \"\"\"\n",
    "    num_instances, num_features = X.shape[0], X.shape[1]\n",
    "    theta_hist = np.zeros((num_iter+1, num_features))  #Initialize theta_hist\n",
    "    loss_hist = np.zeros(num_iter+1) #initialize loss_hist\n",
    "    theta = np.ones(num_features) #initialize theta\n",
    "    for i in range(num_iter+1):\n",
    "        if i == 0:\n",
    "            # Record initial loss before gradient descend\n",
    "            loss_hist[i] = compute_square_loss(X,y,theta)\n",
    "            theta_hist[i,] = theta\n",
    "        grad = compute_regularized_square_loss_gradient(X,y,theta,lambda_reg)\n",
    "        theta = theta-alpha*grad.T\n",
    "        loss_hist[i] = compute_square_loss(X,y,theta)\n",
    "        theta_hist[i,] = theta\n",
    "    return loss_hist,theta_hist"
   ]
  },
  {
   "cell_type": "markdown",
   "metadata": {},
   "source": [
    "4) Because the bias term is the product of B and the last theta term which is being adjusted. For large B the magnitude of theta adjusting is small and the regularization terms of bias is small compared to the entire regularization."
   ]
  },
  {
   "cell_type": "markdown",
   "metadata": {},
   "source": [
    "7)  "
   ]
  },
  {
   "cell_type": "code",
   "execution_count": 19,
   "metadata": {
    "collapsed": false
   },
   "outputs": [
    {
     "data": {
      "image/png": "[encoded data removed]",
      "text/plain": [
       "<matplotlib.figure.Figure at 0x1e3b318a748>"
      ]
     },
     "metadata": {},
     "output_type": "display_data"
    }
   ],
   "source": [
    "for lambda_reg in [1e-7,1e-5,1e-3,1e-1,1,10,100]:\n",
    "    loss_hist,theta_hist= regularized_grad_descent(X_train,y_train,lambda_reg=lambda_reg)\n",
    "    plt.plot(range(len(loss_hist)),np.log(loss_hist),label='lambda:'+str(lambda_reg))\n",
    "    plt.xlabel(\"step\")\n",
    "plt.ylabel(\"log(sqaure loss)\")\n",
    "plt.legend()\n",
    "plt.show()"
   ]
  },
  {
   "cell_type": "markdown",
   "metadata": {},
   "source": [
    "It shows that when lambda = 10 and 100, the gradients diverges."
   ]
  },
  {
   "cell_type": "code",
   "execution_count": 20,
   "metadata": {
    "collapsed": false
   },
   "outputs": [
    {
     "data": {
      "image/png": "[encoded data removed]",
      "text/plain": [
       "<matplotlib.figure.Figure at 0x1e3b3157ba8>"
      ]
     },
     "metadata": {},
     "output_type": "display_data"
    }
   ],
   "source": [
    "for lambda_reg in [10e-8,10e-6,10e-4,10e-2,1]:\n",
    "    loss_hist,theta_hist= regularized_grad_descent(X_train,y_train,lambda_reg=lambda_reg)\n",
    "    loss_hist_test= [compute_square_loss(X_test,y_test,theta) for theta in theta_hist]\n",
    "    plt.plot(range(len(loss_hist)),np.log(loss_hist_test),label='lambda:'+str(lambda_reg))\n",
    "plt.xlabel(\"step\")\n",
    "plt.ylabel(\"log(sqaure loss)\")\n",
    "plt.ylim(0.6,1.5)\n",
    "plt.legend(loc=1)\n",
    "plt.show()"
   ]
  },
  {
   "cell_type": "markdown",
   "metadata": {},
   "source": [
    "8) I will choose $\\theta$ at the last step of regularized gradient descent with $\\lambda=10^{-5}$ Since it achives best test set loss."
   ]
  },
  {
   "cell_type": "markdown",
   "metadata": {},
   "source": [
    "### 2.6 Stochastic Gradient Descend"
   ]
  },
  {
   "cell_type": "markdown",
   "metadata": {},
   "source": [
    "1) The update rule of SGD is similar to that of batch gradient descent. Except for SGD, we use partial training data to calculate gradient. The update rule of SGD is:\n",
    "\n",
    "1. Initialized all parameters $\\theta$ \n",
    "2. $\\theta'=\\theta-\\eta\\triangledown J(\\theta)$ where $J(\\theta)$ is calculated with a random subset of training set."
   ]
  },
  {
   "cell_type": "markdown",
   "metadata": {},
   "source": [
    "2) The following shows the codes of stochastic_grad_descent. I used minibatch that consists of 50% of training set size. Running 1000 epochs. (It is a minibatch SGD)"
   ]
  },
  {
   "cell_type": "code",
   "execution_count": 41,
   "metadata": {
    "collapsed": true
   },
   "outputs": [],
   "source": [
    "def stochastic_grad_descent(X, y, alpha=0.1, lambda_reg=1, num_iter=1000):\n",
    "    \"\"\"\n",
    "    In this question you will implement stochastic gradient descent with a regularization term\n",
    "    \n",
    "    Args:\n",
    "        X - the feature vector, 2D numpy array of size (num_instances, num_features)\n",
    "        y - the label vector, 1D numpy array of size (num_instances)\n",
    "        alpha - string or float. step size in gradient descent\n",
    "                NOTE: In SGD, it's not always a good idea to use a fixed step size. Usually it's set to 1/sqrt(t) or 1/t\n",
    "                if alpha is a float, then the step size in every iteration is alpha.\n",
    "                if alpha == \"1/sqrt(t)\", alpha = 1/sqrt(t)\n",
    "                if alpha == \"1/t\", alpha = 1/t\n",
    "        lambda_reg - the regularization coefficient\n",
    "        num_iter - number of epochs (i.e number of times) to go through the whole training set\n",
    "    \n",
    "    Returns:\n",
    "        theta_hist - the history of parameter vector, 3D numpy array of size (num_iter, num_instances, num_features) \n",
    "        loss hist - the history of regularized loss function vector, 2D numpy array of size(num_iter, num_instances)\n",
    "    \"\"\"\n",
    "    num_instances, num_features = X.shape[0], X.shape[1]\n",
    "    theta = np.ones(num_features) #Initialize theta\n",
    "    theta_hist = np.zeros((num_iter+1, num_features))  #Initialize theta_hist\n",
    "    loss_hist = np.zeros(num_iter+1) #Initialize loss_hist\n",
    "    for i in range(num_iter+1):\n",
    "        if i == 0:\n",
    "            # Record initial loss before gradient descend\n",
    "            loss_hist[i] = compute_square_loss(X,y,theta)\n",
    "            theta_hist[i,] = theta\n",
    "        if alpha=='1/sqrt(t)':\n",
    "            step_size = 1.0/np.sqrt((i+1.0))\n",
    "        elif alpha=='1/t':\n",
    "            step_size = 1.0/(i+1.0)\n",
    "        else:\n",
    "            step_size = alpha\n",
    "        #Splitting the entire sets into two batchs, which is name _train _test\n",
    "        #The nameing is a little bit nasty so that I can copy and paste former codes\n",
    "        ##Shuffle training set and split it into two sets\n",
    "        X_train, X_test, y_train, y_test = train_test_split(X, y, test_size =0.5, random_state=10)\n",
    "        X_train, X_test = feature_normalization(X_train, X_test)\n",
    "        #X_train = np.hstack((X_train, np.ones((X_train.shape[0], 1))))  # Add bias term\n",
    "        #X_test = np.hstack((X_test, np.ones((X_test.shape[0], 1)))) # Add bias term\n",
    "        grad = compute_regularized_square_loss_gradient(X_train,y_train,theta,lambda_reg)\n",
    "        theta = theta-step_size*grad.T\n",
    "        grad = compute_regularized_square_loss_gradient(X_test,y_test,theta,lambda_reg)\n",
    "        theta = theta-step_size*grad.T\n",
    "        loss_i = compute_square_loss(X,y,theta)+np.dot(theta,theta)*lambda_reg\n",
    "        loss_hist[i] = loss_i\n",
    "        theta_hist[i,] = theta\n",
    "    return loss_hist,theta_hist"
   ]
  },
  {
   "cell_type": "markdown",
   "metadata": {},
   "source": [
    "3)"
   ]
  },
  {
   "cell_type": "markdown",
   "metadata": {},
   "source": [
    "#### Fix steps\n",
    "First We experiment with fix steps size where $\\lambda = 0.05$ or $0.005$ "
   ]
  },
  {
   "cell_type": "code",
   "execution_count": 75,
   "metadata": {
    "collapsed": false
   },
   "outputs": [
    {
     "data": {
      "image/png": "[encoded data removed]",
      "text/plain": [
       "<matplotlib.figure.Figure at 0x1e3b32081d0>"
      ]
     },
     "metadata": {},
     "output_type": "display_data"
    }
   ],
   "source": [
    "for step_size in [0.05,0.005]:\n",
    "    loss_hist_SGD,theta_hist_SGD = stochastic_grad_descent(X_train,y_train,lambda_reg=1e-5,alpha=step_size)\n",
    "    #print(loss_hist_SGD)\n",
    "    plt.plot(range(len(loss_hist_SGD)),np.log(loss_hist_SGD),label='lambda:'+str(step_size))\n",
    "plt.xlabel(\"step\")\n",
    "plt.ylabel(\"log(l2 regularized sqaure loss)\")\n",
    "plt.legend()\n",
    "plt.show()"
   ]
  },
  {
   "cell_type": "markdown",
   "metadata": {},
   "source": [
    "#### Decreasing steps size"
   ]
  },
  {
   "cell_type": "code",
   "execution_count": 47,
   "metadata": {
    "collapsed": false
   },
   "outputs": [
    {
     "name": "stdout",
     "output_type": "stream",
     "text": [
      "[  2.23350875e+07   2.98227737e+11   1.62628303e+15 ...,   4.50207640e+86\n",
      "   4.49952639e+86   4.49698028e+86]\n",
      "[  2.23350875e+07   6.37124716e+10   2.70364689e+13 ...,   3.11739502e+12\n",
      "   3.11726338e+12   3.11713190e+12]\n"
     ]
    },
    {
     "data": {
      "image/png": "[encoded data removed]",
      "text/plain": [
       "<matplotlib.figure.Figure at 0x1e3b4650a90>"
      ]
     },
     "metadata": {},
     "output_type": "display_data"
    }
   ],
   "source": [
    "for step_size in ['1/sqrt(t)','1/t']:\n",
    "    loss_hist_SGD,theta_hist_SGD = stochastic_grad_descent(X_train,y_train,lambda_reg=1e-5,alpha=step_size)\n",
    "    #print(loss_hist_SGD)\n",
    "    plt.plot(range(len(loss_hist_SGD)),np.log(loss_hist_SGD),label='lambda:'+str(step_size))\n",
    "plt.xlabel(\"step\")\n",
    "plt.ylabel(\"log(l2 regularized sqaure loss)\")\n",
    "plt.legend()\n",
    "plt.show()"
   ]
  },
  {
   "cell_type": "markdown",
   "metadata": {},
   "source": [
    "#### Compare different steps size\n",
    "In my experiment both decreasing steps attemt will cause the gradient to diverge. With fix step-size, I discovered that a step size of 0.05 converges significantly faster than a step size of 0.005 in 1000 steps."
   ]
  },
  {
   "cell_type": "markdown",
   "metadata": {},
   "source": [
    "4) Runtime estimation"
   ]
  },
  {
   "cell_type": "markdown",
   "metadata": {},
   "source": [
    "First estimate the time to run one epochs of a stochastic gradient descent."
   ]
  },
  {
   "cell_type": "code",
   "execution_count": 69,
   "metadata": {
    "collapsed": false
   },
   "outputs": [
    {
     "name": "stdout",
     "output_type": "stream",
     "text": [
      "0.0017580025196075439\n"
     ]
    }
   ],
   "source": [
    "import time\n",
    "start_time = time.time()\n",
    "SGD_forComparison,_ = stochastic_grad_descent(X_train,y_train,lambda_reg=1e-5,alpha=0.1)\n",
    "runtime_SGD = time.time()-start_time\n",
    "print(runtime_SGD/1000)"
   ]
  },
  {
   "cell_type": "markdown",
   "metadata": {},
   "source": [
    "compare this to GD runtime:"
   ]
  },
  {
   "cell_type": "code",
   "execution_count": 70,
   "metadata": {
    "collapsed": false
   },
   "outputs": [
    {
     "name": "stdout",
     "output_type": "stream",
     "text": [
      "5.541682243347168e-05\n"
     ]
    }
   ],
   "source": [
    "import time\n",
    "start_time = time.time()\n",
    "GD_forComparison,_ = regularized_grad_descent(X_train,y_train,lambda_reg=1e-5,alpha = 0.1)\n",
    "print((time.time()-start_time)/1000)"
   ]
  },
  {
   "cell_type": "markdown",
   "metadata": {},
   "source": [
    "It shows that SGD takes longer to run."
   ]
  },
  {
   "cell_type": "markdown",
   "metadata": {},
   "source": [
    "5) Comparison of GD and SGD"
   ]
  },
  {
   "cell_type": "code",
   "execution_count": 73,
   "metadata": {
    "collapsed": false
   },
   "outputs": [
    {
     "data": {
      "image/png": "[encoded data removed]",
      "text/plain": [
       "<matplotlib.figure.Figure at 0x1e3b31f17b8>"
      ]
     },
     "metadata": {},
     "output_type": "display_data"
    }
   ],
   "source": [
    "plt.plot(range(len(GD_forComparison)),np.log(GD_forComparison),label='GD')\n",
    "plt.plot(range(len(SGD_forComparison)),np.log(SGD_forComparison),label='SGD')\n",
    "plt.xlabel(\"step\")\n",
    "plt.ylabel(\"log(l2 regularized sqaure loss)\")\n",
    "plt.legend()\n",
    "plt.show()"
   ]
  },
  {
   "cell_type": "markdown",
   "metadata": {},
   "source": [
    "Conclusions: SGD converges within fewer steps while GD converges faster in terms of running time."
   ]
  },
  {
   "cell_type": "markdown",
   "metadata": {},
   "source": [
    "## Risk Estimation\n",
    "### 3.1 Square Loss\n",
    "1)"
   ]
  },
  {
   "cell_type": "markdown",
   "metadata": {},
   "source": [
    "Since $f(x) = a$ is a deterministic function. We must have $\\mathbf{E}[a] = a$ and $Var(a) = 0$.\n",
    "For any random variable $X$, we must have $Var(X)=\\mathbf{E}[x^2] - \\mathbf{E}[x]^2$, then $\\mathbf{E}[x^2] = Var(x) + \\mathbf{E}[x]^2$ \n",
    "\n",
    "Then we have:\n",
    "$$\n",
    "\\begin{split}\n",
    "\\mathbf{E}[(a-y)^2] &= \\mathbf{E}[a^2 - 2ay + y^2] \\\\\n",
    "&= \\mathbf{E}[a^2] +\\mathbf{E}[y^2] - \\mathbf{E}[2ay]\\\\\n",
    "&= Var(a) + Var(y) +\\mathbf{E}[a]^2 + \\mathbf{E}[y]^2 - 2a\\mathbf{E}[y]\\\\\n",
    "&= Var(y) + (a - \\mathbf{E}[y])^2\n",
    "\\end{split}\n",
    "$$\n"
   ]
  },
  {
   "cell_type": "markdown",
   "metadata": {},
   "source": [
    "We can see that $E[(a-y)^2]$ reaches minimun when $a=\\mathbf{E}[y]$ with Bayes risk of $Var(y)$"
   ]
  },
  {
   "cell_type": "markdown",
   "metadata": {
    "collapsed": true
   },
   "source": [
    "2-a) Similar to part 1 , we have $\\mathbf{E}[a|x] = a$ and $Var(a|x) = 0$ since a is a deterministic function of x.\n",
    "\n",
    "We have $\\mathbf{E}[(a-y)^2|x]=Var(y|x)+(a-\\mathbf{E}[y|x])^2$. With $Var(y|x)$ being independent of $a$, we should predict $a = \\mathbf{E}[y|x])$"
   ]
  },
  {
   "cell_type": "markdown",
   "metadata": {},
   "source": [
    "2-b) $\\mathbf{E}[(a-y)^2]=\\mathbf{E}[\\mathbf{E}[(a-y)^2|x]]=\\mathbf{E}[Var(y|x)]+\\mathbf{E}[(a-\\mathbf{E}[y|x])^2]$\n",
    "The first term is independent of a, since all $(a-\\mathbf{E}[y])^2$ must be greater than zero, the minimun of $\\mathbf{E}[(a-\\mathbf{E}[y|x])^2]$ must be 0. And when $a=\\mathbf{E}[y|x]$, the second term is zero which is the minimun value."
   ]
  }
 ],
 "metadata": {
  "anaconda-cloud": {},
  "kernelspec": {
   "display_name": "Python [conda root]",
   "language": "python",
   "name": "conda-root-py"
  },
  "language_info": {
   "codemirror_mode": {
    "name": "ipython",
    "version": 2
   },
   "file_extension": ".py",
   "mimetype": "text/x-python",
   "name": "python",
   "nbconvert_exporter": "python",
   "pygments_lexer": "ipython2",
   "version": "2.7.12"
  }
 },
 "nbformat": 4,
 "nbformat_minor": 1
}
