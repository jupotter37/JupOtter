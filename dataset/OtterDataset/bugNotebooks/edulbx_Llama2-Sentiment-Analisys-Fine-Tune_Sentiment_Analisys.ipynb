{
  "nbformat": 4,
  "nbformat_minor": 0,
  "metadata": {
    "colab": {
      "provenance": [],
      "gpuType": "T4"
    },
    "kernelspec": {
      "name": "python3",
      "display_name": "Python 3"
    },
    "language_info": {
      "name": "python"
    },
    "accelerator": "GPU",
    "widgets": {
      "application/vnd.jupyter.widget-state+json": {
        "bb4c58bd4b6e4f4c8ae19256a5d439bf": {
          "model_module": "@jupyter-widgets/controls",
          "model_name": "HBoxModel",
          "model_module_version": "1.5.0",
          "state": {
            "_dom_classes": [],
            "_model_module": "@jupyter-widgets/controls",
            "_model_module_version": "1.5.0",
            "_model_name": "HBoxModel",
            "_view_count": null,
            "_view_module": "@jupyter-widgets/controls",
            "_view_module_version": "1.5.0",
            "_view_name": "HBoxView",
            "box_style": "",
            "children": [
              "IPY_MODEL_e0b9beafbe834330afec83d5a72696c0",
              "IPY_MODEL_1be48a0644704bd8831006bad32ea122",
              "IPY_MODEL_eba849b0ae4a46e1be9854874a5e032b"
            ],
            "layout": "IPY_MODEL_385526551b3f4139a4ca10d8f715b7f5"
          }
        },
        "e0b9beafbe834330afec83d5a72696c0": {
          "model_module": "@jupyter-widgets/controls",
          "model_name": "HTMLModel",
          "model_module_version": "1.5.0",
          "state": {
            "_dom_classes": [],
            "_model_module": "@jupyter-widgets/controls",
            "_model_module_version": "1.5.0",
            "_model_name": "HTMLModel",
            "_view_count": null,
            "_view_module": "@jupyter-widgets/controls",
            "_view_module_version": "1.5.0",
            "_view_name": "HTMLView",
            "description": "",
            "description_tooltip": null,
            "layout": "IPY_MODEL_f29472587a834447bd8d3cb60ddd3704",
            "placeholder": "​",
            "style": "IPY_MODEL_6a0abab6a8a54e3e814dec853d886063",
            "value": "Generating train split: "
          }
        },
        "1be48a0644704bd8831006bad32ea122": {
          "model_module": "@jupyter-widgets/controls",
          "model_name": "FloatProgressModel",
          "model_module_version": "1.5.0",
          "state": {
            "_dom_classes": [],
            "_model_module": "@jupyter-widgets/controls",
            "_model_module_version": "1.5.0",
            "_model_name": "FloatProgressModel",
            "_view_count": null,
            "_view_module": "@jupyter-widgets/controls",
            "_view_module_version": "1.5.0",
            "_view_name": "ProgressView",
            "bar_style": "success",
            "description": "",
            "description_tooltip": null,
            "layout": "IPY_MODEL_a3eba29c3bc3497faaf0433861ad9d8e",
            "max": 1,
            "min": 0,
            "orientation": "horizontal",
            "style": "IPY_MODEL_e9369db47903453fbfdd340c7df7d383",
            "value": 1
          }
        },
        "eba849b0ae4a46e1be9854874a5e032b": {
          "model_module": "@jupyter-widgets/controls",
          "model_name": "HTMLModel",
          "model_module_version": "1.5.0",
          "state": {
            "_dom_classes": [],
            "_model_module": "@jupyter-widgets/controls",
            "_model_module_version": "1.5.0",
            "_model_name": "HTMLModel",
            "_view_count": null,
            "_view_module": "@jupyter-widgets/controls",
            "_view_module_version": "1.5.0",
            "_view_name": "HTMLView",
            "description": "",
            "description_tooltip": null,
            "layout": "IPY_MODEL_e4070888c59a423c82d26d131f6e5100",
            "placeholder": "​",
            "style": "IPY_MODEL_2bc086ead372464e8599ab5f392fef53",
            "value": " 17057/0 [00:00&lt;00:00, 70072.42 examples/s]"
          }
        },
        "385526551b3f4139a4ca10d8f715b7f5": {
          "model_module": "@jupyter-widgets/base",
          "model_name": "LayoutModel",
          "model_module_version": "1.2.0",
          "state": {
            "_model_module": "@jupyter-widgets/base",
            "_model_module_version": "1.2.0",
            "_model_name": "LayoutModel",
            "_view_count": null,
            "_view_module": "@jupyter-widgets/base",
            "_view_module_version": "1.2.0",
            "_view_name": "LayoutView",
            "align_content": null,
            "align_items": null,
            "align_self": null,
            "border": null,
            "bottom": null,
            "display": null,
            "flex": null,
            "flex_flow": null,
            "grid_area": null,
            "grid_auto_columns": null,
            "grid_auto_flow": null,
            "grid_auto_rows": null,
            "grid_column": null,
            "grid_gap": null,
            "grid_row": null,
            "grid_template_areas": null,
            "grid_template_columns": null,
            "grid_template_rows": null,
            "height": null,
            "justify_content": null,
            "justify_items": null,
            "left": null,
            "margin": null,
            "max_height": null,
            "max_width": null,
            "min_height": null,
            "min_width": null,
            "object_fit": null,
            "object_position": null,
            "order": null,
            "overflow": null,
            "overflow_x": null,
            "overflow_y": null,
            "padding": null,
            "right": null,
            "top": null,
            "visibility": null,
            "width": null
          }
        },
        "f29472587a834447bd8d3cb60ddd3704": {
          "model_module": "@jupyter-widgets/base",
          "model_name": "LayoutModel",
          "model_module_version": "1.2.0",
          "state": {
            "_model_module": "@jupyter-widgets/base",
            "_model_module_version": "1.2.0",
            "_model_name": "LayoutModel",
            "_view_count": null,
            "_view_module": "@jupyter-widgets/base",
            "_view_module_version": "1.2.0",
            "_view_name": "LayoutView",
            "align_content": null,
            "align_items": null,
            "align_self": null,
            "border": null,
            "bottom": null,
            "display": null,
            "flex": null,
            "flex_flow": null,
            "grid_area": null,
            "grid_auto_columns": null,
            "grid_auto_flow": null,
            "grid_auto_rows": null,
            "grid_column": null,
            "grid_gap": null,
            "grid_row": null,
            "grid_template_areas": null,
            "grid_template_columns": null,
            "grid_template_rows": null,
            "height": null,
            "justify_content": null,
            "justify_items": null,
            "left": null,
            "margin": null,
            "max_height": null,
            "max_width": null,
            "min_height": null,
            "min_width": null,
            "object_fit": null,
            "object_position": null,
            "order": null,
            "overflow": null,
            "overflow_x": null,
            "overflow_y": null,
            "padding": null,
            "right": null,
            "top": null,
            "visibility": null,
            "width": null
          }
        },
        "6a0abab6a8a54e3e814dec853d886063": {
          "model_module": "@jupyter-widgets/controls",
          "model_name": "DescriptionStyleModel",
          "model_module_version": "1.5.0",
          "state": {
            "_model_module": "@jupyter-widgets/controls",
            "_model_module_version": "1.5.0",
            "_model_name": "DescriptionStyleModel",
            "_view_count": null,
            "_view_module": "@jupyter-widgets/base",
            "_view_module_version": "1.2.0",
            "_view_name": "StyleView",
            "description_width": ""
          }
        },
        "a3eba29c3bc3497faaf0433861ad9d8e": {
          "model_module": "@jupyter-widgets/base",
          "model_name": "LayoutModel",
          "model_module_version": "1.2.0",
          "state": {
            "_model_module": "@jupyter-widgets/base",
            "_model_module_version": "1.2.0",
            "_model_name": "LayoutModel",
            "_view_count": null,
            "_view_module": "@jupyter-widgets/base",
            "_view_module_version": "1.2.0",
            "_view_name": "LayoutView",
            "align_content": null,
            "align_items": null,
            "align_self": null,
            "border": null,
            "bottom": null,
            "display": null,
            "flex": null,
            "flex_flow": null,
            "grid_area": null,
            "grid_auto_columns": null,
            "grid_auto_flow": null,
            "grid_auto_rows": null,
            "grid_column": null,
            "grid_gap": null,
            "grid_row": null,
            "grid_template_areas": null,
            "grid_template_columns": null,
            "grid_template_rows": null,
            "height": null,
            "justify_content": null,
            "justify_items": null,
            "left": null,
            "margin": null,
            "max_height": null,
            "max_width": null,
            "min_height": null,
            "min_width": null,
            "object_fit": null,
            "object_position": null,
            "order": null,
            "overflow": null,
            "overflow_x": null,
            "overflow_y": null,
            "padding": null,
            "right": null,
            "top": null,
            "visibility": null,
            "width": "20px"
          }
        },
        "e9369db47903453fbfdd340c7df7d383": {
          "model_module": "@jupyter-widgets/controls",
          "model_name": "ProgressStyleModel",
          "model_module_version": "1.5.0",
          "state": {
            "_model_module": "@jupyter-widgets/controls",
            "_model_module_version": "1.5.0",
            "_model_name": "ProgressStyleModel",
            "_view_count": null,
            "_view_module": "@jupyter-widgets/base",
            "_view_module_version": "1.2.0",
            "_view_name": "StyleView",
            "bar_color": null,
            "description_width": ""
          }
        },
        "e4070888c59a423c82d26d131f6e5100": {
          "model_module": "@jupyter-widgets/base",
          "model_name": "LayoutModel",
          "model_module_version": "1.2.0",
          "state": {
            "_model_module": "@jupyter-widgets/base",
            "_model_module_version": "1.2.0",
            "_model_name": "LayoutModel",
            "_view_count": null,
            "_view_module": "@jupyter-widgets/base",
            "_view_module_version": "1.2.0",
            "_view_name": "LayoutView",
            "align_content": null,
            "align_items": null,
            "align_self": null,
            "border": null,
            "bottom": null,
            "display": null,
            "flex": null,
            "flex_flow": null,
            "grid_area": null,
            "grid_auto_columns": null,
            "grid_auto_flow": null,
            "grid_auto_rows": null,
            "grid_column": null,
            "grid_gap": null,
            "grid_row": null,
            "grid_template_areas": null,
            "grid_template_columns": null,
            "grid_template_rows": null,
            "height": null,
            "justify_content": null,
            "justify_items": null,
            "left": null,
            "margin": null,
            "max_height": null,
            "max_width": null,
            "min_height": null,
            "min_width": null,
            "object_fit": null,
            "object_position": null,
            "order": null,
            "overflow": null,
            "overflow_x": null,
            "overflow_y": null,
            "padding": null,
            "right": null,
            "top": null,
            "visibility": null,
            "width": null
          }
        },
        "2bc086ead372464e8599ab5f392fef53": {
          "model_module": "@jupyter-widgets/controls",
          "model_name": "DescriptionStyleModel",
          "model_module_version": "1.5.0",
          "state": {
            "_model_module": "@jupyter-widgets/controls",
            "_model_module_version": "1.5.0",
            "_model_name": "DescriptionStyleModel",
            "_view_count": null,
            "_view_module": "@jupyter-widgets/base",
            "_view_module_version": "1.2.0",
            "_view_name": "StyleView",
            "description_width": ""
          }
        }
      }
    }
  },
  "cells": [
    {
      "cell_type": "markdown",
      "source": [
        "### 1. Project for making an Sentiment Analisys\n"
      ],
      "metadata": {
        "id": "GF1x-qYEg-1f"
      }
    },
    {
      "cell_type": "code",
      "source": [
        "# @title ####1.1 Installs {\"form-width\":\" 1px\"}\n",
        "# some conflicts are soloved just by letting pip deal with some dependencies.\n",
        "# The way to do that is calling pip just one time with all the packs needed.\n",
        "!pip install -q accelerate==0.21.0 peft==0.4.0 bitsandbytes==0.40.2 transformers==4.31.0 trl==0.4.7 gradio==3.37.0 protobuf==3.20.3 scipy==1.11.1 sentencepiece==0.1.99 tokenizers==0.13.3 datasets==2.16.1"
      ],
      "metadata": {
        "cellView": "form",
        "id": "CMNwpJ7Sh4z7"
      },
      "execution_count": null,
      "outputs": []
    },
    {
      "cell_type": "code",
      "source": [
        "# @title #### 1.2 Imports\n",
        "import pandas as pd\n",
        "import numpy as np\n",
        "import matplotlib.pyplot as plt\n",
        "import seaborn as sns\n",
        "from transformers import (AutoModelForCausalLM,\n",
        "                          AutoTokenizer,\n",
        "                          BitsAndBytesConfig,\n",
        "                          HfArgumentParser,\n",
        "                          TrainingArguments,\n",
        "                          pipeline,\n",
        "                          logging)\n",
        "from peft import LoraConfig, PeftModel\n",
        "from trl import SFTTrainer\n",
        "import warnings\n",
        "warnings.filterwarnings('ignore')\n",
        "import torch\n",
        "import os\n",
        "import torch\n",
        "import datasets\n",
        "from datasets import load_dataset"
      ],
      "metadata": {
        "id": "riIMSnHohME8"
      },
      "execution_count": null,
      "outputs": []
    },
    {
      "cell_type": "markdown",
      "source": [
        "### 2. We start by making some configurations\n"
      ],
      "metadata": {
        "id": "8VrC9BTnjwuI"
      }
    },
    {
      "cell_type": "code",
      "source": [
        "# @title ####2.1 logging level to Critical and verifying GPU\n",
        "# defining logging level to Critical\n",
        "logging.set_verbosity(logging.CRITICAL)\n",
        "# verifing GPU\n",
        "if torch.cuda.is_available(): #this func pratically writes itself on colab, is just for verifying the GPU\n",
        "    print('Numbers of GPUs:', torch.cuda.device_count())\n",
        "    print('GPU Model:', torch.cuda.get_device_name(0))\n",
        "    print('Total Memory [GB] of GPU:',torch.cuda.get_device_properties(0).total_memory / 1e9)"
      ],
      "metadata": {
        "colab": {
          "base_uri": "https://localhost:8080/"
        },
        "cellView": "form",
        "id": "zG7hWCgdhfG3",
        "outputId": "1d80aae1-0651-43d4-e7ae-9c04d1e56717"
      },
      "execution_count": null,
      "outputs": [
        {
          "output_type": "stream",
          "name": "stdout",
          "text": [
            "Numbers of GPUs: 1\n",
            "GPU Model: Tesla T4\n",
            "Total Memory [GB] of GPU: 15.835660288\n"
          ]
        }
      ]
    },
    {
      "cell_type": "code",
      "source": [
        "# @title ####2.2 Reset of Vram - GPU\n",
        "#Reset of Vram - GPU - here's a link for you know more about ram and Vram - https://www.techtarget.com/searchstorage/definition/video-RAM#:~:text=In%20simplest%20terms%2C%20VRAM%20is,to%20processing%20graphics%2Drelated%20tasks.\n",
        "#from numba import cuda\n",
        "#device = cuda.get_current_device()\n",
        "#device.reset()"
      ],
      "metadata": {
        "id": "5veJg7b2kpea",
        "cellView": "form"
      },
      "execution_count": null,
      "outputs": []
    },
    {
      "cell_type": "markdown",
      "source": [
        "###3. Now we load the data"
      ],
      "metadata": {
        "id": "tPl-Vyzizlwo"
      }
    },
    {
      "cell_type": "code",
      "source": [
        "# Define o nome do dataset\n",
        "dataset = \"dataset.csv\"\n",
        "# Load the dataset with the fun load_dataset, arg are type of file, name of dataset, and delimiter.\n",
        "dataset_loaded = load_dataset('csv', data_files = dataset, delimiter = ',')\n",
        "\n",
        "dataset_loaded\n",
        "# This function will deliver the dataset and dic format, take a look:\n",
        "## DatasetDict({                        a tuple ()\n",
        " ##    train: Dataset({                 inside is a dictnary {}\n",
        "  ##       features: ['train'],         inside we have a list\n",
        "   ##      num_rows: 17057\n",
        "    ##})\n",
        "  ##})\n",
        "\n",
        "# it's just an approximation for you to realize what's happening with python structures."
      ],
      "metadata": {
        "colab": {
          "base_uri": "https://localhost:8080/",
          "height": 153,
          "referenced_widgets": [
            "bb4c58bd4b6e4f4c8ae19256a5d439bf",
            "e0b9beafbe834330afec83d5a72696c0",
            "1be48a0644704bd8831006bad32ea122",
            "eba849b0ae4a46e1be9854874a5e032b",
            "385526551b3f4139a4ca10d8f715b7f5",
            "f29472587a834447bd8d3cb60ddd3704",
            "6a0abab6a8a54e3e814dec853d886063",
            "a3eba29c3bc3497faaf0433861ad9d8e",
            "e9369db47903453fbfdd340c7df7d383",
            "e4070888c59a423c82d26d131f6e5100",
            "2bc086ead372464e8599ab5f392fef53"
          ]
        },
        "id": "fZ-avtpKzwvb",
        "outputId": "4a5e72ca-a2ce-4219-e330-5c863f08af2e"
      },
      "execution_count": null,
      "outputs": [
        {
          "output_type": "display_data",
          "data": {
            "text/plain": [
              "Generating train split: 0 examples [00:00, ? examples/s]"
            ],
            "application/vnd.jupyter.widget-view+json": {
              "version_major": 2,
              "version_minor": 0,
              "model_id": "bb4c58bd4b6e4f4c8ae19256a5d439bf"
            }
          },
          "metadata": {}
        },
        {
          "output_type": "execute_result",
          "data": {
            "text/plain": [
              "DatasetDict({\n",
              "    train: Dataset({\n",
              "        features: ['train'],\n",
              "        num_rows: 17057\n",
              "    })\n",
              "})"
            ]
          },
          "metadata": {},
          "execution_count": 8
        }
      ]
    },
    {
      "cell_type": "markdown",
      "source": [
        "#### 4. Now we import the model"
      ],
      "metadata": {
        "id": "kFYRoMgo2dsQ"
      }
    },
    {
      "cell_type": "code",
      "source": [
        "\n",
        "#we get it from the hf repo\n",
        "\n",
        "hf_repo = \"NousResearch/Llama-2-7b-chat-hf\"\n",
        "\n",
        "#defining the name for the new model (after fine tuning)\n",
        "model = \"model_fine_tuned\""
      ],
      "metadata": {
        "id": "1p9A7bTzx-YV"
      },
      "execution_count": null,
      "outputs": []
    },
    {
      "cell_type": "markdown",
      "source": [
        "#### 5. Now we set the fine tune arguments"
      ],
      "metadata": {
        "id": "yRE75N_2sROc"
      }
    },
    {
      "cell_type": "code",
      "source": [
        "#Lora:\n",
        "\n",
        "lora_r = 32\n",
        "lora_alpha = 16\n",
        "lora_dropout = 0.1\n",
        "\n",
        "#BitsAndBytes(Qlora) - quantization:\n",
        "#by using the quantization method\n",
        "#with the lora arguments we are making\n",
        "#the Qlora technique\n",
        "\n",
        "use_4bit = True\n",
        "bnb_4bit_compute_dtype = \"float16\"\n",
        "bnb_4bit_quant_type = \"nf4\" # specific type created by BitsandBytes\n",
        "use_nested_quant = False\n",
        "\n",
        "#fine tune configuration for training:\n",
        "output_directory = \"output\"\n",
        "train_epochs = 1\n",
        "fp16 = True #if set to true the bf16 must be false\n",
        "bf16 = False\n",
        "per_device_train_batch_size = 4\n",
        "per_device_evaluation_batch_size = 4\n",
        "gradient_acumulation_steps = 1\n",
        "gradient_checkpoint = True\n",
        "max_grad_norm = 0.3\n",
        "lr = 2e-4\n",
        "weight_decay = 0.001\n",
        "optimizer = \"Paged_Adamw_32bit\"\n",
        "lr_schedule_type = \"cosine\"\n",
        "max_steps = 1\n",
        "warmup_ratio = 0.03\n",
        "\n",
        "#grouping sequences by length:\n",
        "group_by_length = True\n",
        "save_steps = 0\n",
        "logging_steps = 400\n",
        "\n",
        "#data type for computation during the training using the Pytorch library\n",
        "#you remember that we defined the bnb_4bit_compute_dtype above as float16\n",
        "#and the torch is a ref to the Pytorch library:\n",
        "compute_dtype = getattr(torch, bnb_4bit_compute_dtype)"
      ],
      "metadata": {
        "id": "QrtsprOh23Eg"
      },
      "execution_count": null,
      "outputs": []
    },
    {
      "cell_type": "markdown",
      "source": [
        "#### 6. Now we initialize the body of the code with the functions receiving our previously defined arguments.\n",
        "\n"
      ],
      "metadata": {
        "id": "o9B9XWDG2n6q"
      }
    },
    {
      "cell_type": "code",
      "source": [
        "#BitsAndBytes func\n",
        "bnb_config = BitsAndBytesConfig(\n",
        "    load_in_4bit = use_4bit,\n",
        "    bnb_4bit_quant_type = bnb_4bit_quant_type,\n",
        "    bnb_4bit_compute_dtype = compute_dtype,\n",
        "    bnb_4bit_use_double_quant = use_nested_quant)\n",
        "\n",
        "#loading the model and using the func above\n",
        "model = AutoModelForCausalLM.from_pretrained(\n",
        "    hf_repo,\n",
        "    quantization_config = bnb_config,\n",
        "    device_map = \"auto\")\n",
        "\n",
        "#definig the we wont use cache\n",
        "model.config.use_cache = False\n",
        "model.config.pretrainig_tp = 1\n",
        "\n",
        "#loading the tokenizer\n",
        "tokenizer = AutoTokenizer.from_pretrained(hf_repo, trust_remote_code = True)\n",
        "tokenizer.pad_token = tokenizer.eos_token\n",
        "tokenizer.padding_side = \"right\"\n",
        "\n",
        "#loading the peft config\n",
        "peft_config = LoraConfig(\n",
        "    lora_alpha = lora_alpha,\n",
        "    lora_dropout = lora_dropout,\n",
        "    r = lora_r,\n",
        "    bias = \"none\",\n",
        "    task_type = \"CAUSAL_LM\")\n",
        "\n",
        "#the function for the trainig args defined above:\n",
        "training_args = TrainingArguments(\n",
        "    output_dir = output_directory,\n",
        "    num_train_epochs = train_epochs,\n",
        "    per_device_train_batch_size = per_device_train_batch_size,\n",
        "    gradient_accumulation_steps = gradient_acumulation_steps,\n",
        "    optim = optimizer,\n",
        "    save_steps = save_steps,\n",
        "    logging_steps = logging_steps,\n",
        "    learning_rate = lr,\n",
        "    weight_decay = weight_decay,\n",
        "    fp16 = fp16,\n",
        "    bf16 = bf16\n",
        "    max_grad_norm = max_grad_norm,\n",
        "    max_steps = max_steps,\n",
        "    warmup_ratio = warmup_ratio,\n",
        "    group_by_length = group_by_length,\n",
        "    lr_scheduler_type = lr_schedule_type)  #Yeah I know it's many arguments but hey are need don't get confuse,\n",
        "    #use a good text editor for coding or some good IDE and you be able to review more easly those arguments above.\n",
        "\n",
        "# now we define the arguments for the supervised fine-tunig:\n",
        "\n",
        "trainer = SFTTrainer( #we imported this package for this purpose\n",
        "    model = model,\n",
        "    train_dataset = dataset_loaded[\"train\"], #defined in nº 3\n",
        "    peft_config = peft_config, #function above\n",
        "    dataset_info_text_field = \"train\" #used to identify the column in the dataset that contains the text for the model to learn from\n",
        "    max_seq_length = None,\n",
        "    tokenizer = tokenizer,\n",
        "    args = training_args\n",
        "    packing = False)"
      ],
      "metadata": {
        "id": "YN9wwe0CtWAJ"
      },
      "execution_count": null,
      "outputs": []
    },
    {
      "cell_type": "markdown",
      "source": [
        "#### 7. Now to finally begin the trainig and save the model"
      ],
      "metadata": {
        "id": "GEsF1x3Fy2Fv"
      }
    },
    {
      "cell_type": "code",
      "source": [
        "#\"%%time\" measure the execution time\n",
        "%%time\n",
        "trainer.train() #this will call our function and the method .train to begin the training"
      ],
      "metadata": {
        "id": "RzMrHplzx2Go"
      },
      "execution_count": null,
      "outputs": []
    },
    {
      "cell_type": "code",
      "source": [
        "trainer.model.save_pretrained(model)"
      ],
      "metadata": {
        "id": "bXJoc9FozFF8"
      },
      "execution_count": null,
      "outputs": []
    },
    {
      "cell_type": "markdown",
      "source": [
        "#### 8. Testing for deploy and creating a pipeline"
      ],
      "metadata": {
        "id": "CyVEJW6yzMns"
      }
    },
    {
      "cell_type": "code",
      "source": [
        "#new prompt to be used\n",
        "prompt = \"It's rare that a movie lives up to its hype, even rarer that the hype is transcended by the actual achievement\""
      ],
      "metadata": {
        "id": "hmii0AwNzQoL"
      },
      "execution_count": null,
      "outputs": []
    },
    {
      "cell_type": "code",
      "source": [
        "#pipeline for the Sentiment Analisys with the fine-tuned model\n",
        "pipe = pipeline(task = \"text-generation\", model = model, tokenizer = tokenizer, max_length = 200) #you can adjust the max_length\n",
        "\n",
        "#result\n",
        "result  = pipe(f\"<s>[INST] {prompt} [INST] \")\n",
        "\n",
        "print(result)\n",
        "print(result[0]['generated_text'])\n",
        "\n"
      ],
      "metadata": {
        "id": "n61YbAbCzarn"
      },
      "execution_count": null,
      "outputs": []
    },
    {
      "cell_type": "code",
      "source": [
        "#to clear the mem\n",
        "del model\n",
        "del pipe\n",
        "del trainer\n",
        "import gc\n",
        "gc.collect()"
      ],
      "metadata": {
        "id": "GFESayWG0o3Y"
      },
      "execution_count": null,
      "outputs": []
    },
    {
      "cell_type": "markdown",
      "source": [
        "#### 9. Merging the base model with the new LoRA weigth"
      ],
      "metadata": {
        "id": "VSUhxMugFmkt"
      }
    },
    {
      "cell_type": "code",
      "source": [
        "#first we load the base model with fp16 and merge with LORA\n",
        "base_model = AutoModelForCausalLM.from_pretrained(\n",
        "    hf_repo,\n",
        "    low_cpu_mem_usage = True,\n",
        "    return_dict = True,\n",
        "    torch_dtype = torch.float16,\n",
        "    device_map = \"auto\",\n",
        ")\n",
        "\n",
        "#now we creat the final model\n",
        "final_model = PeftModel.from_pretrained(base_model, model) #we passing the base model and our model\n",
        "#now we merge and unload\n",
        "final_model = final_model.merge_and_unload() #we are merging the models above\n",
        "\n",
        "#we will need the tokenizer once again\n",
        "tokenizer = AutoTokenizer.from_pretrained(hf_repo, trust_remote_code = True)\n",
        "tokenizer.pad_token = tokenizer.eos_token\n",
        "tokenizer.padding_side = \"right\"\n",
        "\n",
        "#we save the model\n",
        "final_model.save_pretrained(\"new_model\")\n",
        "tokenizer.save_pretrained(\"new_model\")\n"
      ],
      "metadata": {
        "id": "wWAiPAsqF8YF"
      },
      "execution_count": null,
      "outputs": []
    },
    {
      "cell_type": "code",
      "source": [
        "#we teste again:\n",
        "prompt = \"It's rare that a movie lives up to its hype, even rarer that the hype is transcended by the actual achievement\"\n",
        "pipe = pipeline(task = \"text-generation\",\n",
        "                model = final_model,\n",
        "                tokenizer = tokenizer,\n",
        "                max_length = 200)\n",
        "result = pipe(f\"<s>[INST] {prompt} [INST] \")\n",
        "print(result)\n",
        "print(result[0]['generated_text'])"
      ],
      "metadata": {
        "id": "yyQNsqhAHVds"
      },
      "execution_count": null,
      "outputs": []
    },
    {
      "cell_type": "code",
      "source": [
        "#just for cleaning the GPU mem\n",
        "from numba import cuda\n",
        "device = cuda.get_current_device()\n",
        "device.reset()"
      ],
      "metadata": {
        "id": "Y9cuKVziH5ll"
      },
      "execution_count": null,
      "outputs": []
    },
    {
      "cell_type": "markdown",
      "source": [
        "**### And we are done, thank you**"
      ],
      "metadata": {
        "id": "wLnGlB3-ICkx"
      }
    },
    {
      "cell_type": "code",
      "source": [
        "!jupyter nbconvert --to markdown Sentiment_Analisys.ipynb"
      ],
      "metadata": {
        "colab": {
          "base_uri": "https://localhost:8080/"
        },
        "id": "gJ-s63mmI602",
        "outputId": "9c347031-b5af-4d71-fb60-d2cbdf29fc55"
      },
      "execution_count": 3,
      "outputs": [
        {
          "output_type": "stream",
          "name": "stdout",
          "text": [
            "[NbConvertApp] WARNING | pattern 'Sentiment_Analisys.ipynb' matched no files\n",
            "This application is used to convert notebook files (*.ipynb)\n",
            "        to various other formats.\n",
            "\n",
            "        WARNING: THE COMMANDLINE INTERFACE MAY CHANGE IN FUTURE RELEASES.\n",
            "\n",
            "Options\n",
            "=======\n",
            "The options below are convenience aliases to configurable class-options,\n",
            "as listed in the \"Equivalent to\" description-line of the aliases.\n",
            "To see all configurable class-options for some <cmd>, use:\n",
            "    <cmd> --help-all\n",
            "\n",
            "--debug\n",
            "    set log level to logging.DEBUG (maximize logging output)\n",
            "    Equivalent to: [--Application.log_level=10]\n",
            "--show-config\n",
            "    Show the application's configuration (human-readable format)\n",
            "    Equivalent to: [--Application.show_config=True]\n",
            "--show-config-json\n",
            "    Show the application's configuration (json format)\n",
            "    Equivalent to: [--Application.show_config_json=True]\n",
            "--generate-config\n",
            "    generate default config file\n",
            "    Equivalent to: [--JupyterApp.generate_config=True]\n",
            "-y\n",
            "    Answer yes to any questions instead of prompting.\n",
            "    Equivalent to: [--JupyterApp.answer_yes=True]\n",
            "--execute\n",
            "    Execute the notebook prior to export.\n",
            "    Equivalent to: [--ExecutePreprocessor.enabled=True]\n",
            "--allow-errors\n",
            "    Continue notebook execution even if one of the cells throws an error and include the error message in the cell output (the default behaviour is to abort conversion). This flag is only relevant if '--execute' was specified, too.\n",
            "    Equivalent to: [--ExecutePreprocessor.allow_errors=True]\n",
            "--stdin\n",
            "    read a single notebook file from stdin. Write the resulting notebook with default basename 'notebook.*'\n",
            "    Equivalent to: [--NbConvertApp.from_stdin=True]\n",
            "--stdout\n",
            "    Write notebook output to stdout instead of files.\n",
            "    Equivalent to: [--NbConvertApp.writer_class=StdoutWriter]\n",
            "--inplace\n",
            "    Run nbconvert in place, overwriting the existing notebook (only\n",
            "            relevant when converting to notebook format)\n",
            "    Equivalent to: [--NbConvertApp.use_output_suffix=False --NbConvertApp.export_format=notebook --FilesWriter.build_directory=]\n",
            "--clear-output\n",
            "    Clear output of current file and save in place,\n",
            "            overwriting the existing notebook.\n",
            "    Equivalent to: [--NbConvertApp.use_output_suffix=False --NbConvertApp.export_format=notebook --FilesWriter.build_directory= --ClearOutputPreprocessor.enabled=True]\n",
            "--no-prompt\n",
            "    Exclude input and output prompts from converted document.\n",
            "    Equivalent to: [--TemplateExporter.exclude_input_prompt=True --TemplateExporter.exclude_output_prompt=True]\n",
            "--no-input\n",
            "    Exclude input cells and output prompts from converted document.\n",
            "            This mode is ideal for generating code-free reports.\n",
            "    Equivalent to: [--TemplateExporter.exclude_output_prompt=True --TemplateExporter.exclude_input=True --TemplateExporter.exclude_input_prompt=True]\n",
            "--allow-chromium-download\n",
            "    Whether to allow downloading chromium if no suitable version is found on the system.\n",
            "    Equivalent to: [--WebPDFExporter.allow_chromium_download=True]\n",
            "--disable-chromium-sandbox\n",
            "    Disable chromium security sandbox when converting to PDF..\n",
            "    Equivalent to: [--WebPDFExporter.disable_sandbox=True]\n",
            "--show-input\n",
            "    Shows code input. This flag is only useful for dejavu users.\n",
            "    Equivalent to: [--TemplateExporter.exclude_input=False]\n",
            "--embed-images\n",
            "    Embed the images as base64 dataurls in the output. This flag is only useful for the HTML/WebPDF/Slides exports.\n",
            "    Equivalent to: [--HTMLExporter.embed_images=True]\n",
            "--sanitize-html\n",
            "    Whether the HTML in Markdown cells and cell outputs should be sanitized..\n",
            "    Equivalent to: [--HTMLExporter.sanitize_html=True]\n",
            "--log-level=<Enum>\n",
            "    Set the log level by value or name.\n",
            "    Choices: any of [0, 10, 20, 30, 40, 50, 'DEBUG', 'INFO', 'WARN', 'ERROR', 'CRITICAL']\n",
            "    Default: 30\n",
            "    Equivalent to: [--Application.log_level]\n",
            "--config=<Unicode>\n",
            "    Full path of a config file.\n",
            "    Default: ''\n",
            "    Equivalent to: [--JupyterApp.config_file]\n",
            "--to=<Unicode>\n",
            "    The export format to be used, either one of the built-in formats\n",
            "            ['asciidoc', 'custom', 'html', 'latex', 'markdown', 'notebook', 'pdf', 'python', 'rst', 'script', 'slides', 'webpdf']\n",
            "            or a dotted object name that represents the import path for an\n",
            "            ``Exporter`` class\n",
            "    Default: ''\n",
            "    Equivalent to: [--NbConvertApp.export_format]\n",
            "--template=<Unicode>\n",
            "    Name of the template to use\n",
            "    Default: ''\n",
            "    Equivalent to: [--TemplateExporter.template_name]\n",
            "--template-file=<Unicode>\n",
            "    Name of the template file to use\n",
            "    Default: None\n",
            "    Equivalent to: [--TemplateExporter.template_file]\n",
            "--theme=<Unicode>\n",
            "    Template specific theme(e.g. the name of a JupyterLab CSS theme distributed\n",
            "    as prebuilt extension for the lab template)\n",
            "    Default: 'light'\n",
            "    Equivalent to: [--HTMLExporter.theme]\n",
            "--sanitize_html=<Bool>\n",
            "    Whether the HTML in Markdown cells and cell outputs should be sanitized.This\n",
            "    should be set to True by nbviewer or similar tools.\n",
            "    Default: False\n",
            "    Equivalent to: [--HTMLExporter.sanitize_html]\n",
            "--writer=<DottedObjectName>\n",
            "    Writer class used to write the\n",
            "                                        results of the conversion\n",
            "    Default: 'FilesWriter'\n",
            "    Equivalent to: [--NbConvertApp.writer_class]\n",
            "--post=<DottedOrNone>\n",
            "    PostProcessor class used to write the\n",
            "                                        results of the conversion\n",
            "    Default: ''\n",
            "    Equivalent to: [--NbConvertApp.postprocessor_class]\n",
            "--output=<Unicode>\n",
            "    overwrite base name use for output files.\n",
            "                can only be used when converting one notebook at a time.\n",
            "    Default: ''\n",
            "    Equivalent to: [--NbConvertApp.output_base]\n",
            "--output-dir=<Unicode>\n",
            "    Directory to write output(s) to. Defaults\n",
            "                                  to output to the directory of each notebook. To recover\n",
            "                                  previous default behaviour (outputting to the current\n",
            "                                  working directory) use . as the flag value.\n",
            "    Default: ''\n",
            "    Equivalent to: [--FilesWriter.build_directory]\n",
            "--reveal-prefix=<Unicode>\n",
            "    The URL prefix for reveal.js (version 3.x).\n",
            "            This defaults to the reveal CDN, but can be any url pointing to a copy\n",
            "            of reveal.js.\n",
            "            For speaker notes to work, this must be a relative path to a local\n",
            "            copy of reveal.js: e.g., \"reveal.js\".\n",
            "            If a relative path is given, it must be a subdirectory of the\n",
            "            current directory (from which the server is run).\n",
            "            See the usage documentation\n",
            "            (https://nbconvert.readthedocs.io/en/latest/usage.html#reveal-js-html-slideshow)\n",
            "            for more details.\n",
            "    Default: ''\n",
            "    Equivalent to: [--SlidesExporter.reveal_url_prefix]\n",
            "--nbformat=<Enum>\n",
            "    The nbformat version to write.\n",
            "            Use this to downgrade notebooks.\n",
            "    Choices: any of [1, 2, 3, 4]\n",
            "    Default: 4\n",
            "    Equivalent to: [--NotebookExporter.nbformat_version]\n",
            "\n",
            "Examples\n",
            "--------\n",
            "\n",
            "    The simplest way to use nbconvert is\n",
            "\n",
            "            > jupyter nbconvert mynotebook.ipynb --to html\n",
            "\n",
            "            Options include ['asciidoc', 'custom', 'html', 'latex', 'markdown', 'notebook', 'pdf', 'python', 'rst', 'script', 'slides', 'webpdf'].\n",
            "\n",
            "            > jupyter nbconvert --to latex mynotebook.ipynb\n",
            "\n",
            "            Both HTML and LaTeX support multiple output templates. LaTeX includes\n",
            "            'base', 'article' and 'report'.  HTML includes 'basic', 'lab' and\n",
            "            'classic'. You can specify the flavor of the format used.\n",
            "\n",
            "            > jupyter nbconvert --to html --template lab mynotebook.ipynb\n",
            "\n",
            "            You can also pipe the output to stdout, rather than a file\n",
            "\n",
            "            > jupyter nbconvert mynotebook.ipynb --stdout\n",
            "\n",
            "            PDF is generated via latex\n",
            "\n",
            "            > jupyter nbconvert mynotebook.ipynb --to pdf\n",
            "\n",
            "            You can get (and serve) a Reveal.js-powered slideshow\n",
            "\n",
            "            > jupyter nbconvert myslides.ipynb --to slides --post serve\n",
            "\n",
            "            Multiple notebooks can be given at the command line in a couple of\n",
            "            different ways:\n",
            "\n",
            "            > jupyter nbconvert notebook*.ipynb\n",
            "            > jupyter nbconvert notebook1.ipynb notebook2.ipynb\n",
            "\n",
            "            or you can specify the notebooks list in a config file, containing::\n",
            "\n",
            "                c.NbConvertApp.notebooks = [\"my_notebook.ipynb\"]\n",
            "\n",
            "            > jupyter nbconvert --config mycfg.py\n",
            "\n",
            "To see all available configurables, use `--help-all`.\n",
            "\n"
          ]
        }
      ]
    }
  ]
}