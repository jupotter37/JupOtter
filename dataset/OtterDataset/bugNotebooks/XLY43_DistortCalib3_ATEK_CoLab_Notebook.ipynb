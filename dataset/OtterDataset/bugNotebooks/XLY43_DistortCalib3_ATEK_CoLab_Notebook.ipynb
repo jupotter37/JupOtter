{
  "cells": [
    {
      "cell_type": "markdown",
      "metadata": {
        "id": "view-in-github",
        "colab_type": "text"
      },
      "source": [
        "<a href=\"https://colab.research.google.com/github/XLY43/DistortCalib3/blob/main/examples/ATEK_CoLab_Notebook.ipynb\" target=\"_parent\"><img src=\"https://colab.research.google.com/assets/colab-badge.svg\" alt=\"Open In Colab\"/></a>"
      ]
    },
    {
      "cell_type": "markdown",
      "metadata": {
        "id": "924Eqh3ErHWn"
      },
      "source": [
        "# ATEK CoLab Notebook\n",
        "\n",
        "Welcome to ATEK CoLab Notebook. This notebook\n",
        " will walk through the steps of preparing an Aria data sequence with annotations ([AriaDigitalTwin (ADT)](https://www.projectaria.com/datasets/adt/)), for use in a 3D object detection ML task.\n",
        "We will go through the following steps:\n",
        "1. downloading ADT sample data\n",
        "2. preprocess ADT sample data\n",
        "3. visualize the preprocessed data\n",
        "4. run model inference with ATEK preprocessed data\n",
        "5. evaluate model performance.\n",
        "\n",
        "## Environment set up\n",
        "Click restart session when being asked. Then run the following code block again."
      ]
    },
    {
      "cell_type": "code",
      "execution_count": 1,
      "metadata": {
        "collapsed": true,
        "id": "YygI9xSxQJen",
        "jupyter": {
          "outputs_hidden": true
        },
        "outputId": "0d72ab59-65c1-4629-d6ea-674db1001870",
        "colab": {
          "base_uri": "https://localhost:8080/"
        }
      },
      "outputs": [
        {
          "output_type": "stream",
          "name": "stdout",
          "text": [
            "Collecting git+https://github.com/YLouWashU/omni3d.git\n",
            "  Cloning https://github.com/YLouWashU/omni3d.git to /tmp/pip-req-build-xb2dr03_\n",
            "  Running command git clone --filter=blob:none --quiet https://github.com/YLouWashU/omni3d.git /tmp/pip-req-build-xb2dr03_\n",
            "  Resolved https://github.com/YLouWashU/omni3d.git to commit a5bcbf8fd45e9f69e7ec9de1cebea9e82226d6e2\n",
            "  Preparing metadata (setup.py) ... \u001b[?25l\u001b[?25hdone\n",
            "Requirement already satisfied: projectaria-atek==1.0.0 in /usr/local/lib/python3.10/dist-packages (1.0.0)\n",
            "Requirement already satisfied: pillow in /usr/local/lib/python3.10/dist-packages (from projectaria-atek==1.0.0) (10.4.0)\n",
            "Requirement already satisfied: torchmetrics==0.10.1 in /usr/local/lib/python3.10/dist-packages (from projectaria-atek==1.0.0) (0.10.1)\n",
            "Requirement already satisfied: fvcore in /usr/local/lib/python3.10/dist-packages (from projectaria-atek==1.0.0) (0.1.5.post20221221)\n",
            "Requirement already satisfied: fsspec in /usr/local/lib/python3.10/dist-packages (from projectaria-atek==1.0.0) (2024.6.1)\n",
            "Requirement already satisfied: iopath in /usr/local/lib/python3.10/dist-packages (from projectaria-atek==1.0.0) (0.1.10)\n",
            "Requirement already satisfied: pandas in /usr/local/lib/python3.10/dist-packages (from projectaria-atek==1.0.0) (2.2.2)\n",
            "Requirement already satisfied: tqdm in /usr/local/lib/python3.10/dist-packages (from projectaria-atek==1.0.0) (4.66.5)\n",
            "Requirement already satisfied: scipy in /usr/local/lib/python3.10/dist-packages (from projectaria-atek==1.0.0) (1.13.1)\n",
            "Requirement already satisfied: webdataset in /usr/local/lib/python3.10/dist-packages (from projectaria-atek==1.0.0) (0.2.100)\n",
            "Requirement already satisfied: trimesh in /usr/local/lib/python3.10/dist-packages (from projectaria-atek==1.0.0) (4.5.1)\n",
            "Requirement already satisfied: pybind11 in /usr/local/lib/python3.10/dist-packages (from projectaria-atek==1.0.0) (2.13.6)\n",
            "Requirement already satisfied: toolz in /usr/local/lib/python3.10/dist-packages (from projectaria-atek==1.0.0) (0.12.1)\n",
            "Requirement already satisfied: jupyter in /usr/local/lib/python3.10/dist-packages (from projectaria-atek==1.0.0) (1.1.1)\n",
            "Requirement already satisfied: notebook in /usr/local/lib/python3.10/dist-packages (from projectaria-atek==1.0.0) (6.5.5)\n",
            "Requirement already satisfied: opencv-python in /usr/local/lib/python3.10/dist-packages (from projectaria-atek==1.0.0) (4.10.0.84)\n",
            "Requirement already satisfied: projectaria-tools in /usr/local/lib/python3.10/dist-packages (from projectaria-atek==1.0.0) (1.5.5)\n",
            "Requirement already satisfied: omegaconf in /usr/local/lib/python3.10/dist-packages (from projectaria-atek==1.0.0) (2.3.0)\n",
            "Requirement already satisfied: numpy>=1.17.2 in /usr/local/lib/python3.10/dist-packages (from torchmetrics==0.10.1->projectaria-atek==1.0.0) (1.26.4)\n",
            "Requirement already satisfied: torch>=1.3.1 in /usr/local/lib/python3.10/dist-packages (from torchmetrics==0.10.1->projectaria-atek==1.0.0) (2.5.0+cu121)\n",
            "Requirement already satisfied: packaging in /usr/local/lib/python3.10/dist-packages (from torchmetrics==0.10.1->projectaria-atek==1.0.0) (24.1)\n",
            "Requirement already satisfied: yacs>=0.1.6 in /usr/local/lib/python3.10/dist-packages (from fvcore->projectaria-atek==1.0.0) (0.1.8)\n",
            "Requirement already satisfied: pyyaml>=5.1 in /usr/local/lib/python3.10/dist-packages (from fvcore->projectaria-atek==1.0.0) (6.0.2)\n",
            "Requirement already satisfied: termcolor>=1.1 in /usr/local/lib/python3.10/dist-packages (from fvcore->projectaria-atek==1.0.0) (2.5.0)\n",
            "Requirement already satisfied: tabulate in /usr/local/lib/python3.10/dist-packages (from fvcore->projectaria-atek==1.0.0) (0.9.0)\n",
            "Requirement already satisfied: typing-extensions in /usr/local/lib/python3.10/dist-packages (from iopath->projectaria-atek==1.0.0) (4.12.2)\n",
            "Requirement already satisfied: portalocker in /usr/local/lib/python3.10/dist-packages (from iopath->projectaria-atek==1.0.0) (2.10.1)\n",
            "Requirement already satisfied: jupyter-console in /usr/local/lib/python3.10/dist-packages (from jupyter->projectaria-atek==1.0.0) (6.1.0)\n",
            "Requirement already satisfied: nbconvert in /usr/local/lib/python3.10/dist-packages (from jupyter->projectaria-atek==1.0.0) (6.5.4)\n",
            "Requirement already satisfied: ipykernel in /usr/local/lib/python3.10/dist-packages (from jupyter->projectaria-atek==1.0.0) (6.29.5)\n",
            "Requirement already satisfied: ipywidgets in /usr/local/lib/python3.10/dist-packages (from jupyter->projectaria-atek==1.0.0) (7.7.1)\n",
            "Requirement already satisfied: jupyterlab in /usr/local/lib/python3.10/dist-packages (from jupyter->projectaria-atek==1.0.0) (4.2.5)\n",
            "Requirement already satisfied: jinja2 in /usr/local/lib/python3.10/dist-packages (from notebook->projectaria-atek==1.0.0) (3.1.4)\n",
            "Requirement already satisfied: tornado>=6.1 in /usr/local/lib/python3.10/dist-packages (from notebook->projectaria-atek==1.0.0) (6.3.3)\n",
            "Requirement already satisfied: pyzmq<25,>=17 in /usr/local/lib/python3.10/dist-packages (from notebook->projectaria-atek==1.0.0) (24.0.1)\n",
            "Requirement already satisfied: argon2-cffi in /usr/local/lib/python3.10/dist-packages (from notebook->projectaria-atek==1.0.0) (23.1.0)\n",
            "Requirement already satisfied: traitlets>=4.2.1 in /usr/local/lib/python3.10/dist-packages (from notebook->projectaria-atek==1.0.0) (5.7.1)\n",
            "Requirement already satisfied: jupyter-core>=4.6.1 in /usr/local/lib/python3.10/dist-packages (from notebook->projectaria-atek==1.0.0) (5.7.2)\n",
            "Requirement already satisfied: jupyter-client<8,>=5.3.4 in /usr/local/lib/python3.10/dist-packages (from notebook->projectaria-atek==1.0.0) (7.4.9)\n",
            "Requirement already satisfied: ipython-genutils in /usr/local/lib/python3.10/dist-packages (from notebook->projectaria-atek==1.0.0) (0.2.0)\n",
            "Requirement already satisfied: nbformat in /usr/local/lib/python3.10/dist-packages (from notebook->projectaria-atek==1.0.0) (5.10.4)\n",
            "Requirement already satisfied: nest-asyncio>=1.5 in /usr/local/lib/python3.10/dist-packages (from notebook->projectaria-atek==1.0.0) (1.6.0)\n",
            "Requirement already satisfied: Send2Trash>=1.8.0 in /usr/local/lib/python3.10/dist-packages (from notebook->projectaria-atek==1.0.0) (1.8.3)\n",
            "Requirement already satisfied: terminado>=0.8.3 in /usr/local/lib/python3.10/dist-packages (from notebook->projectaria-atek==1.0.0) (0.18.1)\n",
            "Requirement already satisfied: prometheus-client in /usr/local/lib/python3.10/dist-packages (from notebook->projectaria-atek==1.0.0) (0.21.0)\n",
            "Requirement already satisfied: nbclassic>=0.4.7 in /usr/local/lib/python3.10/dist-packages (from notebook->projectaria-atek==1.0.0) (1.1.0)\n",
            "Requirement already satisfied: antlr4-python3-runtime==4.9.* in /usr/local/lib/python3.10/dist-packages (from omegaconf->projectaria-atek==1.0.0) (4.9.3)\n",
            "Requirement already satisfied: python-dateutil>=2.8.2 in /usr/local/lib/python3.10/dist-packages (from pandas->projectaria-atek==1.0.0) (2.8.2)\n",
            "Requirement already satisfied: pytz>=2020.1 in /usr/local/lib/python3.10/dist-packages (from pandas->projectaria-atek==1.0.0) (2024.2)\n",
            "Requirement already satisfied: tzdata>=2022.7 in /usr/local/lib/python3.10/dist-packages (from pandas->projectaria-atek==1.0.0) (2024.2)\n",
            "Requirement already satisfied: rerun-sdk>=0.12.0 in /usr/local/lib/python3.10/dist-packages (from projectaria-tools->projectaria-atek==1.0.0) (0.19.0)\n",
            "Requirement already satisfied: braceexpand in /usr/local/lib/python3.10/dist-packages (from webdataset->projectaria-atek==1.0.0) (0.1.7)\n",
            "Requirement already satisfied: entrypoints in /usr/local/lib/python3.10/dist-packages (from jupyter-client<8,>=5.3.4->notebook->projectaria-atek==1.0.0) (0.4)\n",
            "Requirement already satisfied: platformdirs>=2.5 in /usr/local/lib/python3.10/dist-packages (from jupyter-core>=4.6.1->notebook->projectaria-atek==1.0.0) (4.3.6)\n",
            "Requirement already satisfied: notebook-shim>=0.2.3 in /usr/local/lib/python3.10/dist-packages (from nbclassic>=0.4.7->notebook->projectaria-atek==1.0.0) (0.2.4)\n",
            "Requirement already satisfied: lxml in /usr/local/lib/python3.10/dist-packages (from nbconvert->jupyter->projectaria-atek==1.0.0) (4.9.4)\n",
            "Requirement already satisfied: beautifulsoup4 in /usr/local/lib/python3.10/dist-packages (from nbconvert->jupyter->projectaria-atek==1.0.0) (4.12.3)\n",
            "Requirement already satisfied: bleach in /usr/local/lib/python3.10/dist-packages (from nbconvert->jupyter->projectaria-atek==1.0.0) (6.1.0)\n",
            "Requirement already satisfied: defusedxml in /usr/local/lib/python3.10/dist-packages (from nbconvert->jupyter->projectaria-atek==1.0.0) (0.7.1)\n",
            "Requirement already satisfied: jupyterlab-pygments in /usr/local/lib/python3.10/dist-packages (from nbconvert->jupyter->projectaria-atek==1.0.0) (0.3.0)\n",
            "Requirement already satisfied: MarkupSafe>=2.0 in /usr/local/lib/python3.10/dist-packages (from nbconvert->jupyter->projectaria-atek==1.0.0) (3.0.2)\n",
            "Requirement already satisfied: mistune<2,>=0.8.1 in /usr/local/lib/python3.10/dist-packages (from nbconvert->jupyter->projectaria-atek==1.0.0) (0.8.4)\n",
            "Requirement already satisfied: nbclient>=0.5.0 in /usr/local/lib/python3.10/dist-packages (from nbconvert->jupyter->projectaria-atek==1.0.0) (0.10.0)\n",
            "Requirement already satisfied: pandocfilters>=1.4.1 in /usr/local/lib/python3.10/dist-packages (from nbconvert->jupyter->projectaria-atek==1.0.0) (1.5.1)\n",
            "Requirement already satisfied: pygments>=2.4.1 in /usr/local/lib/python3.10/dist-packages (from nbconvert->jupyter->projectaria-atek==1.0.0) (2.18.0)\n",
            "Requirement already satisfied: tinycss2 in /usr/local/lib/python3.10/dist-packages (from nbconvert->jupyter->projectaria-atek==1.0.0) (1.3.0)\n",
            "Requirement already satisfied: fastjsonschema>=2.15 in /usr/local/lib/python3.10/dist-packages (from nbformat->notebook->projectaria-atek==1.0.0) (2.20.0)\n",
            "Requirement already satisfied: jsonschema>=2.6 in /usr/local/lib/python3.10/dist-packages (from nbformat->notebook->projectaria-atek==1.0.0) (4.23.0)\n",
            "Requirement already satisfied: six>=1.5 in /usr/local/lib/python3.10/dist-packages (from python-dateutil>=2.8.2->pandas->projectaria-atek==1.0.0) (1.16.0)\n",
            "Requirement already satisfied: attrs>=23.1.0 in /usr/local/lib/python3.10/dist-packages (from rerun-sdk>=0.12.0->projectaria-tools->projectaria-atek==1.0.0) (24.2.0)\n",
            "Requirement already satisfied: pyarrow>=14.0.2 in /usr/local/lib/python3.10/dist-packages (from rerun-sdk>=0.12.0->projectaria-tools->projectaria-atek==1.0.0) (16.1.0)\n",
            "Requirement already satisfied: ptyprocess in /usr/local/lib/python3.10/dist-packages (from terminado>=0.8.3->notebook->projectaria-atek==1.0.0) (0.7.0)\n",
            "Requirement already satisfied: filelock in /usr/local/lib/python3.10/dist-packages (from torch>=1.3.1->torchmetrics==0.10.1->projectaria-atek==1.0.0) (3.16.1)\n",
            "Requirement already satisfied: networkx in /usr/local/lib/python3.10/dist-packages (from torch>=1.3.1->torchmetrics==0.10.1->projectaria-atek==1.0.0) (3.4.2)\n",
            "Requirement already satisfied: sympy==1.13.1 in /usr/local/lib/python3.10/dist-packages (from torch>=1.3.1->torchmetrics==0.10.1->projectaria-atek==1.0.0) (1.13.1)\n",
            "Requirement already satisfied: mpmath<1.4,>=1.1.0 in /usr/local/lib/python3.10/dist-packages (from sympy==1.13.1->torch>=1.3.1->torchmetrics==0.10.1->projectaria-atek==1.0.0) (1.3.0)\n",
            "Requirement already satisfied: argon2-cffi-bindings in /usr/local/lib/python3.10/dist-packages (from argon2-cffi->notebook->projectaria-atek==1.0.0) (21.2.0)\n",
            "Requirement already satisfied: comm>=0.1.1 in /usr/local/lib/python3.10/dist-packages (from ipykernel->jupyter->projectaria-atek==1.0.0) (0.2.2)\n",
            "Requirement already satisfied: debugpy>=1.6.5 in /usr/local/lib/python3.10/dist-packages (from ipykernel->jupyter->projectaria-atek==1.0.0) (1.6.6)\n",
            "Requirement already satisfied: ipython>=7.23.1 in /usr/local/lib/python3.10/dist-packages (from ipykernel->jupyter->projectaria-atek==1.0.0) (7.34.0)\n",
            "Requirement already satisfied: matplotlib-inline>=0.1 in /usr/local/lib/python3.10/dist-packages (from ipykernel->jupyter->projectaria-atek==1.0.0) (0.1.7)\n",
            "Requirement already satisfied: psutil in /usr/local/lib/python3.10/dist-packages (from ipykernel->jupyter->projectaria-atek==1.0.0) (5.9.5)\n",
            "Requirement already satisfied: widgetsnbextension~=3.6.0 in /usr/local/lib/python3.10/dist-packages (from ipywidgets->jupyter->projectaria-atek==1.0.0) (3.6.9)\n",
            "Requirement already satisfied: jupyterlab-widgets>=1.0.0 in /usr/local/lib/python3.10/dist-packages (from ipywidgets->jupyter->projectaria-atek==1.0.0) (3.0.13)\n",
            "Requirement already satisfied: prompt-toolkit!=3.0.0,!=3.0.1,<3.1.0,>=2.0.0 in /usr/local/lib/python3.10/dist-packages (from jupyter-console->jupyter->projectaria-atek==1.0.0) (3.0.48)\n",
            "Requirement already satisfied: async-lru>=1.0.0 in /usr/local/lib/python3.10/dist-packages (from jupyterlab->jupyter->projectaria-atek==1.0.0) (2.0.4)\n",
            "Requirement already satisfied: httpx>=0.25.0 in /usr/local/lib/python3.10/dist-packages (from jupyterlab->jupyter->projectaria-atek==1.0.0) (0.27.2)\n",
            "Requirement already satisfied: jupyter-lsp>=2.0.0 in /usr/local/lib/python3.10/dist-packages (from jupyterlab->jupyter->projectaria-atek==1.0.0) (2.2.5)\n",
            "Requirement already satisfied: jupyter-server<3,>=2.4.0 in /usr/local/lib/python3.10/dist-packages (from jupyterlab->jupyter->projectaria-atek==1.0.0) (2.14.2)\n",
            "Requirement already satisfied: jupyterlab-server<3,>=2.27.1 in /usr/local/lib/python3.10/dist-packages (from jupyterlab->jupyter->projectaria-atek==1.0.0) (2.27.3)\n",
            "Requirement already satisfied: setuptools>=40.1.0 in /usr/local/lib/python3.10/dist-packages (from jupyterlab->jupyter->projectaria-atek==1.0.0) (75.1.0)\n",
            "Requirement already satisfied: tomli>=1.2.2 in /usr/local/lib/python3.10/dist-packages (from jupyterlab->jupyter->projectaria-atek==1.0.0) (2.0.2)\n",
            "Requirement already satisfied: anyio in /usr/local/lib/python3.10/dist-packages (from httpx>=0.25.0->jupyterlab->jupyter->projectaria-atek==1.0.0) (3.7.1)\n",
            "Requirement already satisfied: certifi in /usr/local/lib/python3.10/dist-packages (from httpx>=0.25.0->jupyterlab->jupyter->projectaria-atek==1.0.0) (2024.8.30)\n",
            "Requirement already satisfied: httpcore==1.* in /usr/local/lib/python3.10/dist-packages (from httpx>=0.25.0->jupyterlab->jupyter->projectaria-atek==1.0.0) (1.0.6)\n",
            "Requirement already satisfied: idna in /usr/local/lib/python3.10/dist-packages (from httpx>=0.25.0->jupyterlab->jupyter->projectaria-atek==1.0.0) (3.10)\n",
            "Requirement already satisfied: sniffio in /usr/local/lib/python3.10/dist-packages (from httpx>=0.25.0->jupyterlab->jupyter->projectaria-atek==1.0.0) (1.3.1)\n",
            "Requirement already satisfied: h11<0.15,>=0.13 in /usr/local/lib/python3.10/dist-packages (from httpcore==1.*->httpx>=0.25.0->jupyterlab->jupyter->projectaria-atek==1.0.0) (0.14.0)\n",
            "Requirement already satisfied: jedi>=0.16 in /usr/local/lib/python3.10/dist-packages (from ipython>=7.23.1->ipykernel->jupyter->projectaria-atek==1.0.0) (0.19.1)\n",
            "Requirement already satisfied: decorator in /usr/local/lib/python3.10/dist-packages (from ipython>=7.23.1->ipykernel->jupyter->projectaria-atek==1.0.0) (4.4.2)\n",
            "Requirement already satisfied: pickleshare in /usr/local/lib/python3.10/dist-packages (from ipython>=7.23.1->ipykernel->jupyter->projectaria-atek==1.0.0) (0.7.5)\n",
            "Requirement already satisfied: backcall in /usr/local/lib/python3.10/dist-packages (from ipython>=7.23.1->ipykernel->jupyter->projectaria-atek==1.0.0) (0.2.0)\n",
            "Requirement already satisfied: pexpect>4.3 in /usr/local/lib/python3.10/dist-packages (from ipython>=7.23.1->ipykernel->jupyter->projectaria-atek==1.0.0) (4.9.0)\n",
            "Requirement already satisfied: jsonschema-specifications>=2023.03.6 in /usr/local/lib/python3.10/dist-packages (from jsonschema>=2.6->nbformat->notebook->projectaria-atek==1.0.0) (2024.10.1)\n",
            "Requirement already satisfied: referencing>=0.28.4 in /usr/local/lib/python3.10/dist-packages (from jsonschema>=2.6->nbformat->notebook->projectaria-atek==1.0.0) (0.35.1)\n",
            "Requirement already satisfied: rpds-py>=0.7.1 in /usr/local/lib/python3.10/dist-packages (from jsonschema>=2.6->nbformat->notebook->projectaria-atek==1.0.0) (0.20.0)\n",
            "Requirement already satisfied: jupyter-events>=0.9.0 in /usr/local/lib/python3.10/dist-packages (from jupyter-server<3,>=2.4.0->jupyterlab->jupyter->projectaria-atek==1.0.0) (0.10.0)\n",
            "Requirement already satisfied: jupyter-server-terminals>=0.4.4 in /usr/local/lib/python3.10/dist-packages (from jupyter-server<3,>=2.4.0->jupyterlab->jupyter->projectaria-atek==1.0.0) (0.5.3)\n",
            "Requirement already satisfied: overrides>=5.0 in /usr/local/lib/python3.10/dist-packages (from jupyter-server<3,>=2.4.0->jupyterlab->jupyter->projectaria-atek==1.0.0) (7.7.0)\n",
            "Requirement already satisfied: websocket-client>=1.7 in /usr/local/lib/python3.10/dist-packages (from jupyter-server<3,>=2.4.0->jupyterlab->jupyter->projectaria-atek==1.0.0) (1.8.0)\n",
            "Requirement already satisfied: babel>=2.10 in /usr/local/lib/python3.10/dist-packages (from jupyterlab-server<3,>=2.27.1->jupyterlab->jupyter->projectaria-atek==1.0.0) (2.16.0)\n",
            "Requirement already satisfied: json5>=0.9.0 in /usr/local/lib/python3.10/dist-packages (from jupyterlab-server<3,>=2.27.1->jupyterlab->jupyter->projectaria-atek==1.0.0) (0.9.25)\n",
            "Requirement already satisfied: requests>=2.31 in /usr/local/lib/python3.10/dist-packages (from jupyterlab-server<3,>=2.27.1->jupyterlab->jupyter->projectaria-atek==1.0.0) (2.32.3)\n",
            "Requirement already satisfied: wcwidth in /usr/local/lib/python3.10/dist-packages (from prompt-toolkit!=3.0.0,!=3.0.1,<3.1.0,>=2.0.0->jupyter-console->jupyter->projectaria-atek==1.0.0) (0.2.13)\n",
            "Requirement already satisfied: cffi>=1.0.1 in /usr/local/lib/python3.10/dist-packages (from argon2-cffi-bindings->argon2-cffi->notebook->projectaria-atek==1.0.0) (1.17.1)\n",
            "Requirement already satisfied: soupsieve>1.2 in /usr/local/lib/python3.10/dist-packages (from beautifulsoup4->nbconvert->jupyter->projectaria-atek==1.0.0) (2.6)\n",
            "Requirement already satisfied: webencodings in /usr/local/lib/python3.10/dist-packages (from bleach->nbconvert->jupyter->projectaria-atek==1.0.0) (0.5.1)\n",
            "Requirement already satisfied: exceptiongroup in /usr/local/lib/python3.10/dist-packages (from anyio->httpx>=0.25.0->jupyterlab->jupyter->projectaria-atek==1.0.0) (1.2.2)\n",
            "Requirement already satisfied: pycparser in /usr/local/lib/python3.10/dist-packages (from cffi>=1.0.1->argon2-cffi-bindings->argon2-cffi->notebook->projectaria-atek==1.0.0) (2.22)\n",
            "Requirement already satisfied: parso<0.9.0,>=0.8.3 in /usr/local/lib/python3.10/dist-packages (from jedi>=0.16->ipython>=7.23.1->ipykernel->jupyter->projectaria-atek==1.0.0) (0.8.4)\n",
            "Requirement already satisfied: python-json-logger>=2.0.4 in /usr/local/lib/python3.10/dist-packages (from jupyter-events>=0.9.0->jupyter-server<3,>=2.4.0->jupyterlab->jupyter->projectaria-atek==1.0.0) (2.0.7)\n",
            "Requirement already satisfied: rfc3339-validator in /usr/local/lib/python3.10/dist-packages (from jupyter-events>=0.9.0->jupyter-server<3,>=2.4.0->jupyterlab->jupyter->projectaria-atek==1.0.0) (0.1.4)\n",
            "Requirement already satisfied: rfc3986-validator>=0.1.1 in /usr/local/lib/python3.10/dist-packages (from jupyter-events>=0.9.0->jupyter-server<3,>=2.4.0->jupyterlab->jupyter->projectaria-atek==1.0.0) (0.1.1)\n",
            "Requirement already satisfied: charset-normalizer<4,>=2 in /usr/local/lib/python3.10/dist-packages (from requests>=2.31->jupyterlab-server<3,>=2.27.1->jupyterlab->jupyter->projectaria-atek==1.0.0) (3.4.0)\n",
            "Requirement already satisfied: urllib3<3,>=1.21.1 in /usr/local/lib/python3.10/dist-packages (from requests>=2.31->jupyterlab-server<3,>=2.27.1->jupyterlab->jupyter->projectaria-atek==1.0.0) (2.2.3)\n",
            "Requirement already satisfied: fqdn in /usr/local/lib/python3.10/dist-packages (from jsonschema[format-nongpl]>=4.18.0->jupyter-events>=0.9.0->jupyter-server<3,>=2.4.0->jupyterlab->jupyter->projectaria-atek==1.0.0) (1.5.1)\n",
            "Requirement already satisfied: isoduration in /usr/local/lib/python3.10/dist-packages (from jsonschema[format-nongpl]>=4.18.0->jupyter-events>=0.9.0->jupyter-server<3,>=2.4.0->jupyterlab->jupyter->projectaria-atek==1.0.0) (20.11.0)\n",
            "Requirement already satisfied: jsonpointer>1.13 in /usr/local/lib/python3.10/dist-packages (from jsonschema[format-nongpl]>=4.18.0->jupyter-events>=0.9.0->jupyter-server<3,>=2.4.0->jupyterlab->jupyter->projectaria-atek==1.0.0) (3.0.0)\n",
            "Requirement already satisfied: uri-template in /usr/local/lib/python3.10/dist-packages (from jsonschema[format-nongpl]>=4.18.0->jupyter-events>=0.9.0->jupyter-server<3,>=2.4.0->jupyterlab->jupyter->projectaria-atek==1.0.0) (1.3.0)\n",
            "Requirement already satisfied: webcolors>=24.6.0 in /usr/local/lib/python3.10/dist-packages (from jsonschema[format-nongpl]>=4.18.0->jupyter-events>=0.9.0->jupyter-server<3,>=2.4.0->jupyterlab->jupyter->projectaria-atek==1.0.0) (24.8.0)\n",
            "Requirement already satisfied: arrow>=0.15.0 in /usr/local/lib/python3.10/dist-packages (from isoduration->jsonschema[format-nongpl]>=4.18.0->jupyter-events>=0.9.0->jupyter-server<3,>=2.4.0->jupyterlab->jupyter->projectaria-atek==1.0.0) (1.3.0)\n",
            "Requirement already satisfied: types-python-dateutil>=2.8.10 in /usr/local/lib/python3.10/dist-packages (from arrow>=0.15.0->isoduration->jsonschema[format-nongpl]>=4.18.0->jupyter-events>=0.9.0->jupyter-server<3,>=2.4.0->jupyterlab->jupyter->projectaria-atek==1.0.0) (2.9.0.20241003)\n",
            "Collecting git+https://github.com/facebookresearch/detectron2.git\n",
            "  Cloning https://github.com/facebookresearch/detectron2.git to /tmp/pip-req-build-6fkccc4n\n",
            "  Running command git clone --filter=blob:none --quiet https://github.com/facebookresearch/detectron2.git /tmp/pip-req-build-6fkccc4n\n",
            "  Resolved https://github.com/facebookresearch/detectron2.git to commit 8d85329aed8506ea3672e3e208971345973ea761\n",
            "  Preparing metadata (setup.py) ... \u001b[?25l\u001b[?25hdone\n",
            "Requirement already satisfied: Pillow>=7.1 in /usr/local/lib/python3.10/dist-packages (from detectron2==0.6) (10.4.0)\n",
            "Requirement already satisfied: matplotlib in /usr/local/lib/python3.10/dist-packages (from detectron2==0.6) (3.7.1)\n",
            "Requirement already satisfied: pycocotools>=2.0.2 in /usr/local/lib/python3.10/dist-packages (from detectron2==0.6) (2.0.8)\n",
            "Requirement already satisfied: termcolor>=1.1 in /usr/local/lib/python3.10/dist-packages (from detectron2==0.6) (2.5.0)\n",
            "Requirement already satisfied: yacs>=0.1.8 in /usr/local/lib/python3.10/dist-packages (from detectron2==0.6) (0.1.8)\n",
            "Requirement already satisfied: tabulate in /usr/local/lib/python3.10/dist-packages (from detectron2==0.6) (0.9.0)\n",
            "Requirement already satisfied: cloudpickle in /usr/local/lib/python3.10/dist-packages (from detectron2==0.6) (3.1.0)\n",
            "Requirement already satisfied: tqdm>4.29.0 in /usr/local/lib/python3.10/dist-packages (from detectron2==0.6) (4.66.5)\n",
            "Requirement already satisfied: tensorboard in /usr/local/lib/python3.10/dist-packages (from detectron2==0.6) (2.17.0)\n",
            "Requirement already satisfied: fvcore<0.1.6,>=0.1.5 in /usr/local/lib/python3.10/dist-packages (from detectron2==0.6) (0.1.5.post20221221)\n",
            "Collecting iopath<0.1.10,>=0.1.7 (from detectron2==0.6)\n",
            "  Downloading iopath-0.1.9-py3-none-any.whl.metadata (370 bytes)\n",
            "Requirement already satisfied: omegaconf<2.4,>=2.1 in /usr/local/lib/python3.10/dist-packages (from detectron2==0.6) (2.3.0)\n",
            "Collecting hydra-core>=1.1 (from detectron2==0.6)\n",
            "  Downloading hydra_core-1.3.2-py3-none-any.whl.metadata (5.5 kB)\n",
            "Collecting black (from detectron2==0.6)\n",
            "  Downloading black-24.10.0-cp310-cp310-manylinux_2_17_x86_64.manylinux2014_x86_64.manylinux_2_28_x86_64.whl.metadata (79 kB)\n",
            "\u001b[2K     \u001b[90m━━━━━━━━━━━━━━━━━━━━━━━━━━━━━━━━━━━━━━━━\u001b[0m \u001b[32m79.2/79.2 kB\u001b[0m \u001b[31m3.2 MB/s\u001b[0m eta \u001b[36m0:00:00\u001b[0m\n",
            "\u001b[?25hRequirement already satisfied: packaging in /usr/local/lib/python3.10/dist-packages (from detectron2==0.6) (24.1)\n",
            "Requirement already satisfied: numpy in /usr/local/lib/python3.10/dist-packages (from fvcore<0.1.6,>=0.1.5->detectron2==0.6) (1.26.4)\n",
            "Requirement already satisfied: pyyaml>=5.1 in /usr/local/lib/python3.10/dist-packages (from fvcore<0.1.6,>=0.1.5->detectron2==0.6) (6.0.2)\n",
            "Requirement already satisfied: antlr4-python3-runtime==4.9.* in /usr/local/lib/python3.10/dist-packages (from hydra-core>=1.1->detectron2==0.6) (4.9.3)\n",
            "Requirement already satisfied: portalocker in /usr/local/lib/python3.10/dist-packages (from iopath<0.1.10,>=0.1.7->detectron2==0.6) (2.10.1)\n",
            "Requirement already satisfied: contourpy>=1.0.1 in /usr/local/lib/python3.10/dist-packages (from matplotlib->detectron2==0.6) (1.3.0)\n",
            "Requirement already satisfied: cycler>=0.10 in /usr/local/lib/python3.10/dist-packages (from matplotlib->detectron2==0.6) (0.12.1)\n",
            "Requirement already satisfied: fonttools>=4.22.0 in /usr/local/lib/python3.10/dist-packages (from matplotlib->detectron2==0.6) (4.54.1)\n",
            "Requirement already satisfied: kiwisolver>=1.0.1 in /usr/local/lib/python3.10/dist-packages (from matplotlib->detectron2==0.6) (1.4.7)\n",
            "Requirement already satisfied: pyparsing>=2.3.1 in /usr/local/lib/python3.10/dist-packages (from matplotlib->detectron2==0.6) (3.2.0)\n",
            "Requirement already satisfied: python-dateutil>=2.7 in /usr/local/lib/python3.10/dist-packages (from matplotlib->detectron2==0.6) (2.8.2)\n",
            "Requirement already satisfied: click>=8.0.0 in /usr/local/lib/python3.10/dist-packages (from black->detectron2==0.6) (8.1.7)\n",
            "Collecting mypy-extensions>=0.4.3 (from black->detectron2==0.6)\n",
            "  Downloading mypy_extensions-1.0.0-py3-none-any.whl.metadata (1.1 kB)\n",
            "Collecting pathspec>=0.9.0 (from black->detectron2==0.6)\n",
            "  Downloading pathspec-0.12.1-py3-none-any.whl.metadata (21 kB)\n",
            "Requirement already satisfied: platformdirs>=2 in /usr/local/lib/python3.10/dist-packages (from black->detectron2==0.6) (4.3.6)\n",
            "Requirement already satisfied: tomli>=1.1.0 in /usr/local/lib/python3.10/dist-packages (from black->detectron2==0.6) (2.0.2)\n",
            "Requirement already satisfied: typing-extensions>=4.0.1 in /usr/local/lib/python3.10/dist-packages (from black->detectron2==0.6) (4.12.2)\n",
            "Requirement already satisfied: absl-py>=0.4 in /usr/local/lib/python3.10/dist-packages (from tensorboard->detectron2==0.6) (1.4.0)\n",
            "Requirement already satisfied: grpcio>=1.48.2 in /usr/local/lib/python3.10/dist-packages (from tensorboard->detectron2==0.6) (1.64.1)\n",
            "Requirement already satisfied: markdown>=2.6.8 in /usr/local/lib/python3.10/dist-packages (from tensorboard->detectron2==0.6) (3.7)\n",
            "Requirement already satisfied: protobuf!=4.24.0,<5.0.0,>=3.19.6 in /usr/local/lib/python3.10/dist-packages (from tensorboard->detectron2==0.6) (3.20.3)\n",
            "Requirement already satisfied: setuptools>=41.0.0 in /usr/local/lib/python3.10/dist-packages (from tensorboard->detectron2==0.6) (75.1.0)\n",
            "Requirement already satisfied: six>1.9 in /usr/local/lib/python3.10/dist-packages (from tensorboard->detectron2==0.6) (1.16.0)\n",
            "Requirement already satisfied: tensorboard-data-server<0.8.0,>=0.7.0 in /usr/local/lib/python3.10/dist-packages (from tensorboard->detectron2==0.6) (0.7.2)\n",
            "Requirement already satisfied: werkzeug>=1.0.1 in /usr/local/lib/python3.10/dist-packages (from tensorboard->detectron2==0.6) (3.0.4)\n",
            "Requirement already satisfied: MarkupSafe>=2.1.1 in /usr/local/lib/python3.10/dist-packages (from werkzeug>=1.0.1->tensorboard->detectron2==0.6) (3.0.2)\n",
            "Downloading hydra_core-1.3.2-py3-none-any.whl (154 kB)\n",
            "\u001b[2K   \u001b[90m━━━━━━━━━━━━━━━━━━━━━━━━━━━━━━━━━━━━━━━━\u001b[0m \u001b[32m154.5/154.5 kB\u001b[0m \u001b[31m9.7 MB/s\u001b[0m eta \u001b[36m0:00:00\u001b[0m\n",
            "\u001b[?25hDownloading iopath-0.1.9-py3-none-any.whl (27 kB)\n",
            "Downloading black-24.10.0-cp310-cp310-manylinux_2_17_x86_64.manylinux2014_x86_64.manylinux_2_28_x86_64.whl (1.8 MB)\n",
            "\u001b[2K   \u001b[90m━━━━━━━━━━━━━━━━━━━━━━━━━━━━━━━━━━━━━━━━\u001b[0m \u001b[32m1.8/1.8 MB\u001b[0m \u001b[31m46.5 MB/s\u001b[0m eta \u001b[36m0:00:00\u001b[0m\n",
            "\u001b[?25hDownloading mypy_extensions-1.0.0-py3-none-any.whl (4.7 kB)\n",
            "Downloading pathspec-0.12.1-py3-none-any.whl (31 kB)\n",
            "Building wheels for collected packages: detectron2\n",
            "  Building wheel for detectron2 (setup.py) ... \u001b[?25l\u001b[?25hdone\n",
            "  Created wheel for detectron2: filename=detectron2-0.6-cp310-cp310-linux_x86_64.whl size=6355055 sha256=d7733b3afca9cc3025f768e163ce544b58b3b07caca98421e605ac594d695a27\n",
            "  Stored in directory: /tmp/pip-ephem-wheel-cache-wa8y7h53/wheels/47/e5/15/94c80df2ba85500c5d76599cc307c0a7079d0e221bb6fc4375\n",
            "Successfully built detectron2\n",
            "Installing collected packages: pathspec, mypy-extensions, iopath, hydra-core, black, detectron2\n",
            "  Attempting uninstall: iopath\n",
            "    Found existing installation: iopath 0.1.10\n",
            "    Uninstalling iopath-0.1.10:\n",
            "      Successfully uninstalled iopath-0.1.10\n",
            "Successfully installed black-24.10.0 detectron2-0.6 hydra-core-1.3.2 iopath-0.1.9 mypy-extensions-1.0.0 pathspec-0.12.1\n",
            "Requirement already satisfied: iopath in /usr/local/lib/python3.10/dist-packages (0.1.9)\n",
            "Requirement already satisfied: tqdm in /usr/local/lib/python3.10/dist-packages (from iopath) (4.66.5)\n",
            "Requirement already satisfied: portalocker in /usr/local/lib/python3.10/dist-packages (from iopath) (2.10.1)\n",
            "Looking in links: https://dl.fbaipublicfiles.com/pytorch3d/packaging/wheels/py310_cu121_pyt250/download.html\n",
            "\u001b[31mERROR: Could not find a version that satisfies the requirement pytorch3d (from versions: none)\u001b[0m\u001b[31m\n",
            "\u001b[0m\u001b[31mERROR: No matching distribution found for pytorch3d\u001b[0m\u001b[31m\n",
            "\u001b[0mRequirement already satisfied: rerun-sdk[notebook] in /usr/local/lib/python3.10/dist-packages (0.19.0)\n",
            "Requirement already satisfied: attrs>=23.1.0 in /usr/local/lib/python3.10/dist-packages (from rerun-sdk[notebook]) (24.2.0)\n",
            "Requirement already satisfied: numpy<2,>=1.23 in /usr/local/lib/python3.10/dist-packages (from rerun-sdk[notebook]) (1.26.4)\n",
            "Requirement already satisfied: pillow>=8.0.0 in /usr/local/lib/python3.10/dist-packages (from rerun-sdk[notebook]) (10.4.0)\n",
            "Requirement already satisfied: pyarrow>=14.0.2 in /usr/local/lib/python3.10/dist-packages (from rerun-sdk[notebook]) (16.1.0)\n",
            "Requirement already satisfied: typing-extensions>=4.5 in /usr/local/lib/python3.10/dist-packages (from rerun-sdk[notebook]) (4.12.2)\n",
            "Collecting rerun-notebook==0.19.0 (from rerun-sdk[notebook])\n",
            "  Downloading rerun_notebook-0.19.0-py2.py3-none-any.whl.metadata (4.3 kB)\n",
            "Collecting anywidget (from rerun-notebook==0.19.0->rerun-sdk[notebook])\n",
            "  Downloading anywidget-0.9.13-py3-none-any.whl.metadata (7.2 kB)\n",
            "Collecting jupyter-ui-poll (from rerun-notebook==0.19.0->rerun-sdk[notebook])\n",
            "  Downloading jupyter_ui_poll-1.0.0-py2.py3-none-any.whl.metadata (7.3 kB)\n",
            "Requirement already satisfied: ipywidgets>=7.6.0 in /usr/local/lib/python3.10/dist-packages (from anywidget->rerun-notebook==0.19.0->rerun-sdk[notebook]) (7.7.1)\n",
            "Collecting psygnal>=0.8.1 (from anywidget->rerun-notebook==0.19.0->rerun-sdk[notebook])\n",
            "  Downloading psygnal-0.11.1-cp310-cp310-manylinux_2_17_x86_64.manylinux2014_x86_64.whl.metadata (7.2 kB)\n",
            "Requirement already satisfied: ipython in /usr/local/lib/python3.10/dist-packages (from jupyter-ui-poll->rerun-notebook==0.19.0->rerun-sdk[notebook]) (7.34.0)\n",
            "Requirement already satisfied: ipykernel>=4.5.1 in /usr/local/lib/python3.10/dist-packages (from ipywidgets>=7.6.0->anywidget->rerun-notebook==0.19.0->rerun-sdk[notebook]) (6.29.5)\n",
            "Requirement already satisfied: ipython-genutils~=0.2.0 in /usr/local/lib/python3.10/dist-packages (from ipywidgets>=7.6.0->anywidget->rerun-notebook==0.19.0->rerun-sdk[notebook]) (0.2.0)\n",
            "Requirement already satisfied: traitlets>=4.3.1 in /usr/local/lib/python3.10/dist-packages (from ipywidgets>=7.6.0->anywidget->rerun-notebook==0.19.0->rerun-sdk[notebook]) (5.7.1)\n",
            "Requirement already satisfied: widgetsnbextension~=3.6.0 in /usr/local/lib/python3.10/dist-packages (from ipywidgets>=7.6.0->anywidget->rerun-notebook==0.19.0->rerun-sdk[notebook]) (3.6.9)\n",
            "Requirement already satisfied: jupyterlab-widgets>=1.0.0 in /usr/local/lib/python3.10/dist-packages (from ipywidgets>=7.6.0->anywidget->rerun-notebook==0.19.0->rerun-sdk[notebook]) (3.0.13)\n",
            "Requirement already satisfied: setuptools>=18.5 in /usr/local/lib/python3.10/dist-packages (from ipython->jupyter-ui-poll->rerun-notebook==0.19.0->rerun-sdk[notebook]) (75.1.0)\n",
            "Requirement already satisfied: jedi>=0.16 in /usr/local/lib/python3.10/dist-packages (from ipython->jupyter-ui-poll->rerun-notebook==0.19.0->rerun-sdk[notebook]) (0.19.1)\n",
            "Requirement already satisfied: decorator in /usr/local/lib/python3.10/dist-packages (from ipython->jupyter-ui-poll->rerun-notebook==0.19.0->rerun-sdk[notebook]) (4.4.2)\n",
            "Requirement already satisfied: pickleshare in /usr/local/lib/python3.10/dist-packages (from ipython->jupyter-ui-poll->rerun-notebook==0.19.0->rerun-sdk[notebook]) (0.7.5)\n",
            "Requirement already satisfied: prompt-toolkit!=3.0.0,!=3.0.1,<3.1.0,>=2.0.0 in /usr/local/lib/python3.10/dist-packages (from ipython->jupyter-ui-poll->rerun-notebook==0.19.0->rerun-sdk[notebook]) (3.0.48)\n",
            "Requirement already satisfied: pygments in /usr/local/lib/python3.10/dist-packages (from ipython->jupyter-ui-poll->rerun-notebook==0.19.0->rerun-sdk[notebook]) (2.18.0)\n",
            "Requirement already satisfied: backcall in /usr/local/lib/python3.10/dist-packages (from ipython->jupyter-ui-poll->rerun-notebook==0.19.0->rerun-sdk[notebook]) (0.2.0)\n",
            "Requirement already satisfied: matplotlib-inline in /usr/local/lib/python3.10/dist-packages (from ipython->jupyter-ui-poll->rerun-notebook==0.19.0->rerun-sdk[notebook]) (0.1.7)\n",
            "Requirement already satisfied: pexpect>4.3 in /usr/local/lib/python3.10/dist-packages (from ipython->jupyter-ui-poll->rerun-notebook==0.19.0->rerun-sdk[notebook]) (4.9.0)\n",
            "Requirement already satisfied: comm>=0.1.1 in /usr/local/lib/python3.10/dist-packages (from ipykernel>=4.5.1->ipywidgets>=7.6.0->anywidget->rerun-notebook==0.19.0->rerun-sdk[notebook]) (0.2.2)\n",
            "Requirement already satisfied: debugpy>=1.6.5 in /usr/local/lib/python3.10/dist-packages (from ipykernel>=4.5.1->ipywidgets>=7.6.0->anywidget->rerun-notebook==0.19.0->rerun-sdk[notebook]) (1.6.6)\n",
            "Requirement already satisfied: jupyter-client>=6.1.12 in /usr/local/lib/python3.10/dist-packages (from ipykernel>=4.5.1->ipywidgets>=7.6.0->anywidget->rerun-notebook==0.19.0->rerun-sdk[notebook]) (7.4.9)\n",
            "Requirement already satisfied: jupyter-core!=5.0.*,>=4.12 in /usr/local/lib/python3.10/dist-packages (from ipykernel>=4.5.1->ipywidgets>=7.6.0->anywidget->rerun-notebook==0.19.0->rerun-sdk[notebook]) (5.7.2)\n",
            "Requirement already satisfied: nest-asyncio in /usr/local/lib/python3.10/dist-packages (from ipykernel>=4.5.1->ipywidgets>=7.6.0->anywidget->rerun-notebook==0.19.0->rerun-sdk[notebook]) (1.6.0)\n",
            "Requirement already satisfied: packaging in /usr/local/lib/python3.10/dist-packages (from ipykernel>=4.5.1->ipywidgets>=7.6.0->anywidget->rerun-notebook==0.19.0->rerun-sdk[notebook]) (24.1)\n",
            "Requirement already satisfied: psutil in /usr/local/lib/python3.10/dist-packages (from ipykernel>=4.5.1->ipywidgets>=7.6.0->anywidget->rerun-notebook==0.19.0->rerun-sdk[notebook]) (5.9.5)\n",
            "Requirement already satisfied: pyzmq>=24 in /usr/local/lib/python3.10/dist-packages (from ipykernel>=4.5.1->ipywidgets>=7.6.0->anywidget->rerun-notebook==0.19.0->rerun-sdk[notebook]) (24.0.1)\n",
            "Requirement already satisfied: tornado>=6.1 in /usr/local/lib/python3.10/dist-packages (from ipykernel>=4.5.1->ipywidgets>=7.6.0->anywidget->rerun-notebook==0.19.0->rerun-sdk[notebook]) (6.3.3)\n",
            "Requirement already satisfied: parso<0.9.0,>=0.8.3 in /usr/local/lib/python3.10/dist-packages (from jedi>=0.16->ipython->jupyter-ui-poll->rerun-notebook==0.19.0->rerun-sdk[notebook]) (0.8.4)\n",
            "Requirement already satisfied: ptyprocess>=0.5 in /usr/local/lib/python3.10/dist-packages (from pexpect>4.3->ipython->jupyter-ui-poll->rerun-notebook==0.19.0->rerun-sdk[notebook]) (0.7.0)\n",
            "Requirement already satisfied: wcwidth in /usr/local/lib/python3.10/dist-packages (from prompt-toolkit!=3.0.0,!=3.0.1,<3.1.0,>=2.0.0->ipython->jupyter-ui-poll->rerun-notebook==0.19.0->rerun-sdk[notebook]) (0.2.13)\n",
            "Requirement already satisfied: notebook>=4.4.1 in /usr/local/lib/python3.10/dist-packages (from widgetsnbextension~=3.6.0->ipywidgets>=7.6.0->anywidget->rerun-notebook==0.19.0->rerun-sdk[notebook]) (6.5.5)\n",
            "Requirement already satisfied: entrypoints in /usr/local/lib/python3.10/dist-packages (from jupyter-client>=6.1.12->ipykernel>=4.5.1->ipywidgets>=7.6.0->anywidget->rerun-notebook==0.19.0->rerun-sdk[notebook]) (0.4)\n",
            "Requirement already satisfied: python-dateutil>=2.8.2 in /usr/local/lib/python3.10/dist-packages (from jupyter-client>=6.1.12->ipykernel>=4.5.1->ipywidgets>=7.6.0->anywidget->rerun-notebook==0.19.0->rerun-sdk[notebook]) (2.8.2)\n",
            "Requirement already satisfied: platformdirs>=2.5 in /usr/local/lib/python3.10/dist-packages (from jupyter-core!=5.0.*,>=4.12->ipykernel>=4.5.1->ipywidgets>=7.6.0->anywidget->rerun-notebook==0.19.0->rerun-sdk[notebook]) (4.3.6)\n",
            "Requirement already satisfied: jinja2 in /usr/local/lib/python3.10/dist-packages (from notebook>=4.4.1->widgetsnbextension~=3.6.0->ipywidgets>=7.6.0->anywidget->rerun-notebook==0.19.0->rerun-sdk[notebook]) (3.1.4)\n",
            "Requirement already satisfied: argon2-cffi in /usr/local/lib/python3.10/dist-packages (from notebook>=4.4.1->widgetsnbextension~=3.6.0->ipywidgets>=7.6.0->anywidget->rerun-notebook==0.19.0->rerun-sdk[notebook]) (23.1.0)\n",
            "Requirement already satisfied: nbformat in /usr/local/lib/python3.10/dist-packages (from notebook>=4.4.1->widgetsnbextension~=3.6.0->ipywidgets>=7.6.0->anywidget->rerun-notebook==0.19.0->rerun-sdk[notebook]) (5.10.4)\n",
            "Requirement already satisfied: nbconvert>=5 in /usr/local/lib/python3.10/dist-packages (from notebook>=4.4.1->widgetsnbextension~=3.6.0->ipywidgets>=7.6.0->anywidget->rerun-notebook==0.19.0->rerun-sdk[notebook]) (6.5.4)\n",
            "Requirement already satisfied: Send2Trash>=1.8.0 in /usr/local/lib/python3.10/dist-packages (from notebook>=4.4.1->widgetsnbextension~=3.6.0->ipywidgets>=7.6.0->anywidget->rerun-notebook==0.19.0->rerun-sdk[notebook]) (1.8.3)\n",
            "Requirement already satisfied: terminado>=0.8.3 in /usr/local/lib/python3.10/dist-packages (from notebook>=4.4.1->widgetsnbextension~=3.6.0->ipywidgets>=7.6.0->anywidget->rerun-notebook==0.19.0->rerun-sdk[notebook]) (0.18.1)\n",
            "Requirement already satisfied: prometheus-client in /usr/local/lib/python3.10/dist-packages (from notebook>=4.4.1->widgetsnbextension~=3.6.0->ipywidgets>=7.6.0->anywidget->rerun-notebook==0.19.0->rerun-sdk[notebook]) (0.21.0)\n",
            "Requirement already satisfied: nbclassic>=0.4.7 in /usr/local/lib/python3.10/dist-packages (from notebook>=4.4.1->widgetsnbextension~=3.6.0->ipywidgets>=7.6.0->anywidget->rerun-notebook==0.19.0->rerun-sdk[notebook]) (1.1.0)\n",
            "Requirement already satisfied: notebook-shim>=0.2.3 in /usr/local/lib/python3.10/dist-packages (from nbclassic>=0.4.7->notebook>=4.4.1->widgetsnbextension~=3.6.0->ipywidgets>=7.6.0->anywidget->rerun-notebook==0.19.0->rerun-sdk[notebook]) (0.2.4)\n",
            "Requirement already satisfied: lxml in /usr/local/lib/python3.10/dist-packages (from nbconvert>=5->notebook>=4.4.1->widgetsnbextension~=3.6.0->ipywidgets>=7.6.0->anywidget->rerun-notebook==0.19.0->rerun-sdk[notebook]) (4.9.4)\n",
            "Requirement already satisfied: beautifulsoup4 in /usr/local/lib/python3.10/dist-packages (from nbconvert>=5->notebook>=4.4.1->widgetsnbextension~=3.6.0->ipywidgets>=7.6.0->anywidget->rerun-notebook==0.19.0->rerun-sdk[notebook]) (4.12.3)\n",
            "Requirement already satisfied: bleach in /usr/local/lib/python3.10/dist-packages (from nbconvert>=5->notebook>=4.4.1->widgetsnbextension~=3.6.0->ipywidgets>=7.6.0->anywidget->rerun-notebook==0.19.0->rerun-sdk[notebook]) (6.1.0)\n",
            "Requirement already satisfied: defusedxml in /usr/local/lib/python3.10/dist-packages (from nbconvert>=5->notebook>=4.4.1->widgetsnbextension~=3.6.0->ipywidgets>=7.6.0->anywidget->rerun-notebook==0.19.0->rerun-sdk[notebook]) (0.7.1)\n",
            "Requirement already satisfied: jupyterlab-pygments in /usr/local/lib/python3.10/dist-packages (from nbconvert>=5->notebook>=4.4.1->widgetsnbextension~=3.6.0->ipywidgets>=7.6.0->anywidget->rerun-notebook==0.19.0->rerun-sdk[notebook]) (0.3.0)\n",
            "Requirement already satisfied: MarkupSafe>=2.0 in /usr/local/lib/python3.10/dist-packages (from nbconvert>=5->notebook>=4.4.1->widgetsnbextension~=3.6.0->ipywidgets>=7.6.0->anywidget->rerun-notebook==0.19.0->rerun-sdk[notebook]) (3.0.2)\n",
            "Requirement already satisfied: mistune<2,>=0.8.1 in /usr/local/lib/python3.10/dist-packages (from nbconvert>=5->notebook>=4.4.1->widgetsnbextension~=3.6.0->ipywidgets>=7.6.0->anywidget->rerun-notebook==0.19.0->rerun-sdk[notebook]) (0.8.4)\n",
            "Requirement already satisfied: nbclient>=0.5.0 in /usr/local/lib/python3.10/dist-packages (from nbconvert>=5->notebook>=4.4.1->widgetsnbextension~=3.6.0->ipywidgets>=7.6.0->anywidget->rerun-notebook==0.19.0->rerun-sdk[notebook]) (0.10.0)\n",
            "Requirement already satisfied: pandocfilters>=1.4.1 in /usr/local/lib/python3.10/dist-packages (from nbconvert>=5->notebook>=4.4.1->widgetsnbextension~=3.6.0->ipywidgets>=7.6.0->anywidget->rerun-notebook==0.19.0->rerun-sdk[notebook]) (1.5.1)\n",
            "Requirement already satisfied: tinycss2 in /usr/local/lib/python3.10/dist-packages (from nbconvert>=5->notebook>=4.4.1->widgetsnbextension~=3.6.0->ipywidgets>=7.6.0->anywidget->rerun-notebook==0.19.0->rerun-sdk[notebook]) (1.3.0)\n",
            "Requirement already satisfied: fastjsonschema>=2.15 in /usr/local/lib/python3.10/dist-packages (from nbformat->notebook>=4.4.1->widgetsnbextension~=3.6.0->ipywidgets>=7.6.0->anywidget->rerun-notebook==0.19.0->rerun-sdk[notebook]) (2.20.0)\n",
            "Requirement already satisfied: jsonschema>=2.6 in /usr/local/lib/python3.10/dist-packages (from nbformat->notebook>=4.4.1->widgetsnbextension~=3.6.0->ipywidgets>=7.6.0->anywidget->rerun-notebook==0.19.0->rerun-sdk[notebook]) (4.23.0)\n",
            "Requirement already satisfied: six>=1.5 in /usr/local/lib/python3.10/dist-packages (from python-dateutil>=2.8.2->jupyter-client>=6.1.12->ipykernel>=4.5.1->ipywidgets>=7.6.0->anywidget->rerun-notebook==0.19.0->rerun-sdk[notebook]) (1.16.0)\n",
            "Requirement already satisfied: argon2-cffi-bindings in /usr/local/lib/python3.10/dist-packages (from argon2-cffi->notebook>=4.4.1->widgetsnbextension~=3.6.0->ipywidgets>=7.6.0->anywidget->rerun-notebook==0.19.0->rerun-sdk[notebook]) (21.2.0)\n",
            "Requirement already satisfied: jsonschema-specifications>=2023.03.6 in /usr/local/lib/python3.10/dist-packages (from jsonschema>=2.6->nbformat->notebook>=4.4.1->widgetsnbextension~=3.6.0->ipywidgets>=7.6.0->anywidget->rerun-notebook==0.19.0->rerun-sdk[notebook]) (2024.10.1)\n",
            "Requirement already satisfied: referencing>=0.28.4 in /usr/local/lib/python3.10/dist-packages (from jsonschema>=2.6->nbformat->notebook>=4.4.1->widgetsnbextension~=3.6.0->ipywidgets>=7.6.0->anywidget->rerun-notebook==0.19.0->rerun-sdk[notebook]) (0.35.1)\n",
            "Requirement already satisfied: rpds-py>=0.7.1 in /usr/local/lib/python3.10/dist-packages (from jsonschema>=2.6->nbformat->notebook>=4.4.1->widgetsnbextension~=3.6.0->ipywidgets>=7.6.0->anywidget->rerun-notebook==0.19.0->rerun-sdk[notebook]) (0.20.0)\n",
            "Requirement already satisfied: jupyter-server<3,>=1.8 in /usr/local/lib/python3.10/dist-packages (from notebook-shim>=0.2.3->nbclassic>=0.4.7->notebook>=4.4.1->widgetsnbextension~=3.6.0->ipywidgets>=7.6.0->anywidget->rerun-notebook==0.19.0->rerun-sdk[notebook]) (2.14.2)\n",
            "Requirement already satisfied: cffi>=1.0.1 in /usr/local/lib/python3.10/dist-packages (from argon2-cffi-bindings->argon2-cffi->notebook>=4.4.1->widgetsnbextension~=3.6.0->ipywidgets>=7.6.0->anywidget->rerun-notebook==0.19.0->rerun-sdk[notebook]) (1.17.1)\n",
            "Requirement already satisfied: soupsieve>1.2 in /usr/local/lib/python3.10/dist-packages (from beautifulsoup4->nbconvert>=5->notebook>=4.4.1->widgetsnbextension~=3.6.0->ipywidgets>=7.6.0->anywidget->rerun-notebook==0.19.0->rerun-sdk[notebook]) (2.6)\n",
            "Requirement already satisfied: webencodings in /usr/local/lib/python3.10/dist-packages (from bleach->nbconvert>=5->notebook>=4.4.1->widgetsnbextension~=3.6.0->ipywidgets>=7.6.0->anywidget->rerun-notebook==0.19.0->rerun-sdk[notebook]) (0.5.1)\n",
            "Requirement already satisfied: pycparser in /usr/local/lib/python3.10/dist-packages (from cffi>=1.0.1->argon2-cffi-bindings->argon2-cffi->notebook>=4.4.1->widgetsnbextension~=3.6.0->ipywidgets>=7.6.0->anywidget->rerun-notebook==0.19.0->rerun-sdk[notebook]) (2.22)\n",
            "Requirement already satisfied: anyio>=3.1.0 in /usr/local/lib/python3.10/dist-packages (from jupyter-server<3,>=1.8->notebook-shim>=0.2.3->nbclassic>=0.4.7->notebook>=4.4.1->widgetsnbextension~=3.6.0->ipywidgets>=7.6.0->anywidget->rerun-notebook==0.19.0->rerun-sdk[notebook]) (3.7.1)\n",
            "Requirement already satisfied: jupyter-events>=0.9.0 in /usr/local/lib/python3.10/dist-packages (from jupyter-server<3,>=1.8->notebook-shim>=0.2.3->nbclassic>=0.4.7->notebook>=4.4.1->widgetsnbextension~=3.6.0->ipywidgets>=7.6.0->anywidget->rerun-notebook==0.19.0->rerun-sdk[notebook]) (0.10.0)\n",
            "Requirement already satisfied: jupyter-server-terminals>=0.4.4 in /usr/local/lib/python3.10/dist-packages (from jupyter-server<3,>=1.8->notebook-shim>=0.2.3->nbclassic>=0.4.7->notebook>=4.4.1->widgetsnbextension~=3.6.0->ipywidgets>=7.6.0->anywidget->rerun-notebook==0.19.0->rerun-sdk[notebook]) (0.5.3)\n",
            "Requirement already satisfied: overrides>=5.0 in /usr/local/lib/python3.10/dist-packages (from jupyter-server<3,>=1.8->notebook-shim>=0.2.3->nbclassic>=0.4.7->notebook>=4.4.1->widgetsnbextension~=3.6.0->ipywidgets>=7.6.0->anywidget->rerun-notebook==0.19.0->rerun-sdk[notebook]) (7.7.0)\n",
            "Requirement already satisfied: websocket-client>=1.7 in /usr/local/lib/python3.10/dist-packages (from jupyter-server<3,>=1.8->notebook-shim>=0.2.3->nbclassic>=0.4.7->notebook>=4.4.1->widgetsnbextension~=3.6.0->ipywidgets>=7.6.0->anywidget->rerun-notebook==0.19.0->rerun-sdk[notebook]) (1.8.0)\n",
            "Requirement already satisfied: idna>=2.8 in /usr/local/lib/python3.10/dist-packages (from anyio>=3.1.0->jupyter-server<3,>=1.8->notebook-shim>=0.2.3->nbclassic>=0.4.7->notebook>=4.4.1->widgetsnbextension~=3.6.0->ipywidgets>=7.6.0->anywidget->rerun-notebook==0.19.0->rerun-sdk[notebook]) (3.10)\n",
            "Requirement already satisfied: sniffio>=1.1 in /usr/local/lib/python3.10/dist-packages (from anyio>=3.1.0->jupyter-server<3,>=1.8->notebook-shim>=0.2.3->nbclassic>=0.4.7->notebook>=4.4.1->widgetsnbextension~=3.6.0->ipywidgets>=7.6.0->anywidget->rerun-notebook==0.19.0->rerun-sdk[notebook]) (1.3.1)\n",
            "Requirement already satisfied: exceptiongroup in /usr/local/lib/python3.10/dist-packages (from anyio>=3.1.0->jupyter-server<3,>=1.8->notebook-shim>=0.2.3->nbclassic>=0.4.7->notebook>=4.4.1->widgetsnbextension~=3.6.0->ipywidgets>=7.6.0->anywidget->rerun-notebook==0.19.0->rerun-sdk[notebook]) (1.2.2)\n",
            "Requirement already satisfied: python-json-logger>=2.0.4 in /usr/local/lib/python3.10/dist-packages (from jupyter-events>=0.9.0->jupyter-server<3,>=1.8->notebook-shim>=0.2.3->nbclassic>=0.4.7->notebook>=4.4.1->widgetsnbextension~=3.6.0->ipywidgets>=7.6.0->anywidget->rerun-notebook==0.19.0->rerun-sdk[notebook]) (2.0.7)\n",
            "Requirement already satisfied: pyyaml>=5.3 in /usr/local/lib/python3.10/dist-packages (from jupyter-events>=0.9.0->jupyter-server<3,>=1.8->notebook-shim>=0.2.3->nbclassic>=0.4.7->notebook>=4.4.1->widgetsnbextension~=3.6.0->ipywidgets>=7.6.0->anywidget->rerun-notebook==0.19.0->rerun-sdk[notebook]) (6.0.2)\n",
            "Requirement already satisfied: rfc3339-validator in /usr/local/lib/python3.10/dist-packages (from jupyter-events>=0.9.0->jupyter-server<3,>=1.8->notebook-shim>=0.2.3->nbclassic>=0.4.7->notebook>=4.4.1->widgetsnbextension~=3.6.0->ipywidgets>=7.6.0->anywidget->rerun-notebook==0.19.0->rerun-sdk[notebook]) (0.1.4)\n",
            "Requirement already satisfied: rfc3986-validator>=0.1.1 in /usr/local/lib/python3.10/dist-packages (from jupyter-events>=0.9.0->jupyter-server<3,>=1.8->notebook-shim>=0.2.3->nbclassic>=0.4.7->notebook>=4.4.1->widgetsnbextension~=3.6.0->ipywidgets>=7.6.0->anywidget->rerun-notebook==0.19.0->rerun-sdk[notebook]) (0.1.1)\n",
            "Requirement already satisfied: fqdn in /usr/local/lib/python3.10/dist-packages (from jsonschema[format-nongpl]>=4.18.0->jupyter-events>=0.9.0->jupyter-server<3,>=1.8->notebook-shim>=0.2.3->nbclassic>=0.4.7->notebook>=4.4.1->widgetsnbextension~=3.6.0->ipywidgets>=7.6.0->anywidget->rerun-notebook==0.19.0->rerun-sdk[notebook]) (1.5.1)\n",
            "Requirement already satisfied: isoduration in /usr/local/lib/python3.10/dist-packages (from jsonschema[format-nongpl]>=4.18.0->jupyter-events>=0.9.0->jupyter-server<3,>=1.8->notebook-shim>=0.2.3->nbclassic>=0.4.7->notebook>=4.4.1->widgetsnbextension~=3.6.0->ipywidgets>=7.6.0->anywidget->rerun-notebook==0.19.0->rerun-sdk[notebook]) (20.11.0)\n",
            "Requirement already satisfied: jsonpointer>1.13 in /usr/local/lib/python3.10/dist-packages (from jsonschema[format-nongpl]>=4.18.0->jupyter-events>=0.9.0->jupyter-server<3,>=1.8->notebook-shim>=0.2.3->nbclassic>=0.4.7->notebook>=4.4.1->widgetsnbextension~=3.6.0->ipywidgets>=7.6.0->anywidget->rerun-notebook==0.19.0->rerun-sdk[notebook]) (3.0.0)\n",
            "Requirement already satisfied: uri-template in /usr/local/lib/python3.10/dist-packages (from jsonschema[format-nongpl]>=4.18.0->jupyter-events>=0.9.0->jupyter-server<3,>=1.8->notebook-shim>=0.2.3->nbclassic>=0.4.7->notebook>=4.4.1->widgetsnbextension~=3.6.0->ipywidgets>=7.6.0->anywidget->rerun-notebook==0.19.0->rerun-sdk[notebook]) (1.3.0)\n",
            "Requirement already satisfied: webcolors>=24.6.0 in /usr/local/lib/python3.10/dist-packages (from jsonschema[format-nongpl]>=4.18.0->jupyter-events>=0.9.0->jupyter-server<3,>=1.8->notebook-shim>=0.2.3->nbclassic>=0.4.7->notebook>=4.4.1->widgetsnbextension~=3.6.0->ipywidgets>=7.6.0->anywidget->rerun-notebook==0.19.0->rerun-sdk[notebook]) (24.8.0)\n",
            "Requirement already satisfied: arrow>=0.15.0 in /usr/local/lib/python3.10/dist-packages (from isoduration->jsonschema[format-nongpl]>=4.18.0->jupyter-events>=0.9.0->jupyter-server<3,>=1.8->notebook-shim>=0.2.3->nbclassic>=0.4.7->notebook>=4.4.1->widgetsnbextension~=3.6.0->ipywidgets>=7.6.0->anywidget->rerun-notebook==0.19.0->rerun-sdk[notebook]) (1.3.0)\n",
            "Requirement already satisfied: types-python-dateutil>=2.8.10 in /usr/local/lib/python3.10/dist-packages (from arrow>=0.15.0->isoduration->jsonschema[format-nongpl]>=4.18.0->jupyter-events>=0.9.0->jupyter-server<3,>=1.8->notebook-shim>=0.2.3->nbclassic>=0.4.7->notebook>=4.4.1->widgetsnbextension~=3.6.0->ipywidgets>=7.6.0->anywidget->rerun-notebook==0.19.0->rerun-sdk[notebook]) (2.9.0.20241003)\n",
            "Downloading rerun_notebook-0.19.0-py2.py3-none-any.whl (11.5 MB)\n",
            "\u001b[2K   \u001b[90m━━━━━━━━━━━━━━━━━━━━━━━━━━━━━━━━━━━━━━━━\u001b[0m \u001b[32m11.5/11.5 MB\u001b[0m \u001b[31m82.8 MB/s\u001b[0m eta \u001b[36m0:00:00\u001b[0m\n",
            "\u001b[?25hDownloading anywidget-0.9.13-py3-none-any.whl (213 kB)\n",
            "\u001b[2K   \u001b[90m━━━━━━━━━━━━━━━━━━━━━━━━━━━━━━━━━━━━━━━━\u001b[0m \u001b[32m213.7/213.7 kB\u001b[0m \u001b[31m18.4 MB/s\u001b[0m eta \u001b[36m0:00:00\u001b[0m\n",
            "\u001b[?25hDownloading jupyter_ui_poll-1.0.0-py2.py3-none-any.whl (9.1 kB)\n",
            "Downloading psygnal-0.11.1-cp310-cp310-manylinux_2_17_x86_64.manylinux2014_x86_64.whl (727 kB)\n",
            "\u001b[2K   \u001b[90m━━━━━━━━━━━━━━━━━━━━━━━━━━━━━━━━━━━━━━━━\u001b[0m \u001b[32m727.4/727.4 kB\u001b[0m \u001b[31m46.2 MB/s\u001b[0m eta \u001b[36m0:00:00\u001b[0m\n",
            "\u001b[?25hInstalling collected packages: psygnal, jupyter-ui-poll, anywidget, rerun-notebook\n",
            "Successfully installed anywidget-0.9.13 jupyter-ui-poll-1.0.0 psygnal-0.11.1 rerun-notebook-0.19.0\n"
          ]
        }
      ],
      "source": [
        "!pip install 'git+https://github.com/YLouWashU/omni3d.git'\n",
        "!pip install projectaria-atek==1.0.0\n",
        "!pip install 'git+https://github.com/facebookresearch/detectron2.git'\n",
        "!pip install iopath\n",
        "import sys\n",
        "import torch\n",
        "pyt_version_str=torch.__version__.split(\"+\")[0].replace(\".\", \"\")\n",
        "version_str=\"\".join([\n",
        "    f\"py3{sys.version_info.minor}_cu\",\n",
        "    torch.version.cuda.replace(\".\",\"\"),\n",
        "    f\"_pyt{pyt_version_str}\"\n",
        "])\n",
        "!pip install --no-index --no-cache-dir pytorch3d -f https://dl.fbaipublicfiles.com/pytorch3d/packaging/wheels/{version_str}/download.html\n",
        "!pip install rerun-sdk[notebook]"
      ]
    },
    {
      "cell_type": "code",
      "source": [
        "version_str"
      ],
      "metadata": {
        "id": "-31DdZxCCrQu",
        "outputId": "9792f4b9-32f5-484e-feb4-e32104ea5aef",
        "colab": {
          "base_uri": "https://localhost:8080/",
          "height": 35
        }
      },
      "execution_count": 3,
      "outputs": [
        {
          "output_type": "execute_result",
          "data": {
            "text/plain": [
              "'py310_cu121_pyt250'"
            ],
            "application/vnd.google.colaboratory.intrinsic+json": {
              "type": "string"
            }
          },
          "metadata": {},
          "execution_count": 3
        }
      ]
    },
    {
      "cell_type": "code",
      "source": [
        "!pip install --no-index --no-cache-dir pytorch3d -f https://dl.fbaipublicfiles.com/pytorch3d/packaging/wheels/py310_cu121_pyt210/download.html\n",
        "!pip install rerun-sdk[notebook]"
      ],
      "metadata": {
        "id": "hfGeR30w_aQg",
        "outputId": "311a7758-8e7d-4172-d88c-cfdb8070b79d",
        "colab": {
          "base_uri": "https://localhost:8080/"
        }
      },
      "execution_count": 4,
      "outputs": [
        {
          "output_type": "stream",
          "name": "stdout",
          "text": [
            "Looking in links: https://dl.fbaipublicfiles.com/pytorch3d/packaging/wheels/py310_cu121_pyt210/download.html\n",
            "Collecting pytorch3d\n",
            "  Downloading https://dl.fbaipublicfiles.com/pytorch3d/packaging/wheels/py310_cu121_pyt210/pytorch3d-0.7.5-cp310-cp310-linux_x86_64.whl (20.3 MB)\n",
            "\u001b[2K     \u001b[90m━━━━━━━━━━━━━━━━━━━━━━━━━━━━━━━━━━━━━━━━\u001b[0m \u001b[32m20.3/20.3 MB\u001b[0m \u001b[31m15.4 MB/s\u001b[0m eta \u001b[36m0:00:00\u001b[0m\n",
            "\u001b[?25hRequirement already satisfied: fvcore in /usr/local/lib/python3.10/dist-packages (from pytorch3d) (0.1.5.post20221221)\n",
            "Requirement already satisfied: iopath in /usr/local/lib/python3.10/dist-packages (from pytorch3d) (0.1.9)\n",
            "Requirement already satisfied: numpy in /usr/local/lib/python3.10/dist-packages (from fvcore->pytorch3d) (1.26.4)\n",
            "Requirement already satisfied: yacs>=0.1.6 in /usr/local/lib/python3.10/dist-packages (from fvcore->pytorch3d) (0.1.8)\n",
            "Requirement already satisfied: pyyaml>=5.1 in /usr/local/lib/python3.10/dist-packages (from fvcore->pytorch3d) (6.0.2)\n",
            "Requirement already satisfied: tqdm in /usr/local/lib/python3.10/dist-packages (from fvcore->pytorch3d) (4.66.5)\n",
            "Requirement already satisfied: termcolor>=1.1 in /usr/local/lib/python3.10/dist-packages (from fvcore->pytorch3d) (2.5.0)\n",
            "Requirement already satisfied: Pillow in /usr/local/lib/python3.10/dist-packages (from fvcore->pytorch3d) (10.4.0)\n",
            "Requirement already satisfied: tabulate in /usr/local/lib/python3.10/dist-packages (from fvcore->pytorch3d) (0.9.0)\n",
            "Requirement already satisfied: portalocker in /usr/local/lib/python3.10/dist-packages (from iopath->pytorch3d) (2.10.1)\n",
            "Installing collected packages: pytorch3d\n",
            "Successfully installed pytorch3d-0.7.5\n",
            "Requirement already satisfied: rerun-sdk[notebook] in /usr/local/lib/python3.10/dist-packages (0.19.0)\n",
            "Requirement already satisfied: attrs>=23.1.0 in /usr/local/lib/python3.10/dist-packages (from rerun-sdk[notebook]) (24.2.0)\n",
            "Requirement already satisfied: numpy<2,>=1.23 in /usr/local/lib/python3.10/dist-packages (from rerun-sdk[notebook]) (1.26.4)\n",
            "Requirement already satisfied: pillow>=8.0.0 in /usr/local/lib/python3.10/dist-packages (from rerun-sdk[notebook]) (10.4.0)\n",
            "Requirement already satisfied: pyarrow>=14.0.2 in /usr/local/lib/python3.10/dist-packages (from rerun-sdk[notebook]) (16.1.0)\n",
            "Requirement already satisfied: typing-extensions>=4.5 in /usr/local/lib/python3.10/dist-packages (from rerun-sdk[notebook]) (4.12.2)\n",
            "Requirement already satisfied: rerun-notebook==0.19.0 in /usr/local/lib/python3.10/dist-packages (from rerun-sdk[notebook]) (0.19.0)\n",
            "Requirement already satisfied: anywidget in /usr/local/lib/python3.10/dist-packages (from rerun-notebook==0.19.0->rerun-sdk[notebook]) (0.9.13)\n",
            "Requirement already satisfied: jupyter-ui-poll in /usr/local/lib/python3.10/dist-packages (from rerun-notebook==0.19.0->rerun-sdk[notebook]) (1.0.0)\n",
            "Requirement already satisfied: ipywidgets>=7.6.0 in /usr/local/lib/python3.10/dist-packages (from anywidget->rerun-notebook==0.19.0->rerun-sdk[notebook]) (7.7.1)\n",
            "Requirement already satisfied: psygnal>=0.8.1 in /usr/local/lib/python3.10/dist-packages (from anywidget->rerun-notebook==0.19.0->rerun-sdk[notebook]) (0.11.1)\n",
            "Requirement already satisfied: ipython in /usr/local/lib/python3.10/dist-packages (from jupyter-ui-poll->rerun-notebook==0.19.0->rerun-sdk[notebook]) (7.34.0)\n",
            "Requirement already satisfied: ipykernel>=4.5.1 in /usr/local/lib/python3.10/dist-packages (from ipywidgets>=7.6.0->anywidget->rerun-notebook==0.19.0->rerun-sdk[notebook]) (6.29.5)\n",
            "Requirement already satisfied: ipython-genutils~=0.2.0 in /usr/local/lib/python3.10/dist-packages (from ipywidgets>=7.6.0->anywidget->rerun-notebook==0.19.0->rerun-sdk[notebook]) (0.2.0)\n",
            "Requirement already satisfied: traitlets>=4.3.1 in /usr/local/lib/python3.10/dist-packages (from ipywidgets>=7.6.0->anywidget->rerun-notebook==0.19.0->rerun-sdk[notebook]) (5.7.1)\n",
            "Requirement already satisfied: widgetsnbextension~=3.6.0 in /usr/local/lib/python3.10/dist-packages (from ipywidgets>=7.6.0->anywidget->rerun-notebook==0.19.0->rerun-sdk[notebook]) (3.6.9)\n",
            "Requirement already satisfied: jupyterlab-widgets>=1.0.0 in /usr/local/lib/python3.10/dist-packages (from ipywidgets>=7.6.0->anywidget->rerun-notebook==0.19.0->rerun-sdk[notebook]) (3.0.13)\n",
            "Requirement already satisfied: setuptools>=18.5 in /usr/local/lib/python3.10/dist-packages (from ipython->jupyter-ui-poll->rerun-notebook==0.19.0->rerun-sdk[notebook]) (75.1.0)\n",
            "Requirement already satisfied: jedi>=0.16 in /usr/local/lib/python3.10/dist-packages (from ipython->jupyter-ui-poll->rerun-notebook==0.19.0->rerun-sdk[notebook]) (0.19.1)\n",
            "Requirement already satisfied: decorator in /usr/local/lib/python3.10/dist-packages (from ipython->jupyter-ui-poll->rerun-notebook==0.19.0->rerun-sdk[notebook]) (4.4.2)\n",
            "Requirement already satisfied: pickleshare in /usr/local/lib/python3.10/dist-packages (from ipython->jupyter-ui-poll->rerun-notebook==0.19.0->rerun-sdk[notebook]) (0.7.5)\n",
            "Requirement already satisfied: prompt-toolkit!=3.0.0,!=3.0.1,<3.1.0,>=2.0.0 in /usr/local/lib/python3.10/dist-packages (from ipython->jupyter-ui-poll->rerun-notebook==0.19.0->rerun-sdk[notebook]) (3.0.48)\n",
            "Requirement already satisfied: pygments in /usr/local/lib/python3.10/dist-packages (from ipython->jupyter-ui-poll->rerun-notebook==0.19.0->rerun-sdk[notebook]) (2.18.0)\n",
            "Requirement already satisfied: backcall in /usr/local/lib/python3.10/dist-packages (from ipython->jupyter-ui-poll->rerun-notebook==0.19.0->rerun-sdk[notebook]) (0.2.0)\n",
            "Requirement already satisfied: matplotlib-inline in /usr/local/lib/python3.10/dist-packages (from ipython->jupyter-ui-poll->rerun-notebook==0.19.0->rerun-sdk[notebook]) (0.1.7)\n",
            "Requirement already satisfied: pexpect>4.3 in /usr/local/lib/python3.10/dist-packages (from ipython->jupyter-ui-poll->rerun-notebook==0.19.0->rerun-sdk[notebook]) (4.9.0)\n",
            "Requirement already satisfied: comm>=0.1.1 in /usr/local/lib/python3.10/dist-packages (from ipykernel>=4.5.1->ipywidgets>=7.6.0->anywidget->rerun-notebook==0.19.0->rerun-sdk[notebook]) (0.2.2)\n",
            "Requirement already satisfied: debugpy>=1.6.5 in /usr/local/lib/python3.10/dist-packages (from ipykernel>=4.5.1->ipywidgets>=7.6.0->anywidget->rerun-notebook==0.19.0->rerun-sdk[notebook]) (1.6.6)\n",
            "Requirement already satisfied: jupyter-client>=6.1.12 in /usr/local/lib/python3.10/dist-packages (from ipykernel>=4.5.1->ipywidgets>=7.6.0->anywidget->rerun-notebook==0.19.0->rerun-sdk[notebook]) (7.4.9)\n",
            "Requirement already satisfied: jupyter-core!=5.0.*,>=4.12 in /usr/local/lib/python3.10/dist-packages (from ipykernel>=4.5.1->ipywidgets>=7.6.0->anywidget->rerun-notebook==0.19.0->rerun-sdk[notebook]) (5.7.2)\n",
            "Requirement already satisfied: nest-asyncio in /usr/local/lib/python3.10/dist-packages (from ipykernel>=4.5.1->ipywidgets>=7.6.0->anywidget->rerun-notebook==0.19.0->rerun-sdk[notebook]) (1.6.0)\n",
            "Requirement already satisfied: packaging in /usr/local/lib/python3.10/dist-packages (from ipykernel>=4.5.1->ipywidgets>=7.6.0->anywidget->rerun-notebook==0.19.0->rerun-sdk[notebook]) (24.1)\n",
            "Requirement already satisfied: psutil in /usr/local/lib/python3.10/dist-packages (from ipykernel>=4.5.1->ipywidgets>=7.6.0->anywidget->rerun-notebook==0.19.0->rerun-sdk[notebook]) (5.9.5)\n",
            "Requirement already satisfied: pyzmq>=24 in /usr/local/lib/python3.10/dist-packages (from ipykernel>=4.5.1->ipywidgets>=7.6.0->anywidget->rerun-notebook==0.19.0->rerun-sdk[notebook]) (24.0.1)\n",
            "Requirement already satisfied: tornado>=6.1 in /usr/local/lib/python3.10/dist-packages (from ipykernel>=4.5.1->ipywidgets>=7.6.0->anywidget->rerun-notebook==0.19.0->rerun-sdk[notebook]) (6.3.3)\n",
            "Requirement already satisfied: parso<0.9.0,>=0.8.3 in /usr/local/lib/python3.10/dist-packages (from jedi>=0.16->ipython->jupyter-ui-poll->rerun-notebook==0.19.0->rerun-sdk[notebook]) (0.8.4)\n",
            "Requirement already satisfied: ptyprocess>=0.5 in /usr/local/lib/python3.10/dist-packages (from pexpect>4.3->ipython->jupyter-ui-poll->rerun-notebook==0.19.0->rerun-sdk[notebook]) (0.7.0)\n",
            "Requirement already satisfied: wcwidth in /usr/local/lib/python3.10/dist-packages (from prompt-toolkit!=3.0.0,!=3.0.1,<3.1.0,>=2.0.0->ipython->jupyter-ui-poll->rerun-notebook==0.19.0->rerun-sdk[notebook]) (0.2.13)\n",
            "Requirement already satisfied: notebook>=4.4.1 in /usr/local/lib/python3.10/dist-packages (from widgetsnbextension~=3.6.0->ipywidgets>=7.6.0->anywidget->rerun-notebook==0.19.0->rerun-sdk[notebook]) (6.5.5)\n",
            "Requirement already satisfied: entrypoints in /usr/local/lib/python3.10/dist-packages (from jupyter-client>=6.1.12->ipykernel>=4.5.1->ipywidgets>=7.6.0->anywidget->rerun-notebook==0.19.0->rerun-sdk[notebook]) (0.4)\n",
            "Requirement already satisfied: python-dateutil>=2.8.2 in /usr/local/lib/python3.10/dist-packages (from jupyter-client>=6.1.12->ipykernel>=4.5.1->ipywidgets>=7.6.0->anywidget->rerun-notebook==0.19.0->rerun-sdk[notebook]) (2.8.2)\n",
            "Requirement already satisfied: platformdirs>=2.5 in /usr/local/lib/python3.10/dist-packages (from jupyter-core!=5.0.*,>=4.12->ipykernel>=4.5.1->ipywidgets>=7.6.0->anywidget->rerun-notebook==0.19.0->rerun-sdk[notebook]) (4.3.6)\n",
            "Requirement already satisfied: jinja2 in /usr/local/lib/python3.10/dist-packages (from notebook>=4.4.1->widgetsnbextension~=3.6.0->ipywidgets>=7.6.0->anywidget->rerun-notebook==0.19.0->rerun-sdk[notebook]) (3.1.4)\n",
            "Requirement already satisfied: argon2-cffi in /usr/local/lib/python3.10/dist-packages (from notebook>=4.4.1->widgetsnbextension~=3.6.0->ipywidgets>=7.6.0->anywidget->rerun-notebook==0.19.0->rerun-sdk[notebook]) (23.1.0)\n",
            "Requirement already satisfied: nbformat in /usr/local/lib/python3.10/dist-packages (from notebook>=4.4.1->widgetsnbextension~=3.6.0->ipywidgets>=7.6.0->anywidget->rerun-notebook==0.19.0->rerun-sdk[notebook]) (5.10.4)\n",
            "Requirement already satisfied: nbconvert>=5 in /usr/local/lib/python3.10/dist-packages (from notebook>=4.4.1->widgetsnbextension~=3.6.0->ipywidgets>=7.6.0->anywidget->rerun-notebook==0.19.0->rerun-sdk[notebook]) (6.5.4)\n",
            "Requirement already satisfied: Send2Trash>=1.8.0 in /usr/local/lib/python3.10/dist-packages (from notebook>=4.4.1->widgetsnbextension~=3.6.0->ipywidgets>=7.6.0->anywidget->rerun-notebook==0.19.0->rerun-sdk[notebook]) (1.8.3)\n",
            "Requirement already satisfied: terminado>=0.8.3 in /usr/local/lib/python3.10/dist-packages (from notebook>=4.4.1->widgetsnbextension~=3.6.0->ipywidgets>=7.6.0->anywidget->rerun-notebook==0.19.0->rerun-sdk[notebook]) (0.18.1)\n",
            "Requirement already satisfied: prometheus-client in /usr/local/lib/python3.10/dist-packages (from notebook>=4.4.1->widgetsnbextension~=3.6.0->ipywidgets>=7.6.0->anywidget->rerun-notebook==0.19.0->rerun-sdk[notebook]) (0.21.0)\n",
            "Requirement already satisfied: nbclassic>=0.4.7 in /usr/local/lib/python3.10/dist-packages (from notebook>=4.4.1->widgetsnbextension~=3.6.0->ipywidgets>=7.6.0->anywidget->rerun-notebook==0.19.0->rerun-sdk[notebook]) (1.1.0)\n",
            "Requirement already satisfied: notebook-shim>=0.2.3 in /usr/local/lib/python3.10/dist-packages (from nbclassic>=0.4.7->notebook>=4.4.1->widgetsnbextension~=3.6.0->ipywidgets>=7.6.0->anywidget->rerun-notebook==0.19.0->rerun-sdk[notebook]) (0.2.4)\n",
            "Requirement already satisfied: lxml in /usr/local/lib/python3.10/dist-packages (from nbconvert>=5->notebook>=4.4.1->widgetsnbextension~=3.6.0->ipywidgets>=7.6.0->anywidget->rerun-notebook==0.19.0->rerun-sdk[notebook]) (4.9.4)\n",
            "Requirement already satisfied: beautifulsoup4 in /usr/local/lib/python3.10/dist-packages (from nbconvert>=5->notebook>=4.4.1->widgetsnbextension~=3.6.0->ipywidgets>=7.6.0->anywidget->rerun-notebook==0.19.0->rerun-sdk[notebook]) (4.12.3)\n",
            "Requirement already satisfied: bleach in /usr/local/lib/python3.10/dist-packages (from nbconvert>=5->notebook>=4.4.1->widgetsnbextension~=3.6.0->ipywidgets>=7.6.0->anywidget->rerun-notebook==0.19.0->rerun-sdk[notebook]) (6.1.0)\n",
            "Requirement already satisfied: defusedxml in /usr/local/lib/python3.10/dist-packages (from nbconvert>=5->notebook>=4.4.1->widgetsnbextension~=3.6.0->ipywidgets>=7.6.0->anywidget->rerun-notebook==0.19.0->rerun-sdk[notebook]) (0.7.1)\n",
            "Requirement already satisfied: jupyterlab-pygments in /usr/local/lib/python3.10/dist-packages (from nbconvert>=5->notebook>=4.4.1->widgetsnbextension~=3.6.0->ipywidgets>=7.6.0->anywidget->rerun-notebook==0.19.0->rerun-sdk[notebook]) (0.3.0)\n",
            "Requirement already satisfied: MarkupSafe>=2.0 in /usr/local/lib/python3.10/dist-packages (from nbconvert>=5->notebook>=4.4.1->widgetsnbextension~=3.6.0->ipywidgets>=7.6.0->anywidget->rerun-notebook==0.19.0->rerun-sdk[notebook]) (3.0.2)\n",
            "Requirement already satisfied: mistune<2,>=0.8.1 in /usr/local/lib/python3.10/dist-packages (from nbconvert>=5->notebook>=4.4.1->widgetsnbextension~=3.6.0->ipywidgets>=7.6.0->anywidget->rerun-notebook==0.19.0->rerun-sdk[notebook]) (0.8.4)\n",
            "Requirement already satisfied: nbclient>=0.5.0 in /usr/local/lib/python3.10/dist-packages (from nbconvert>=5->notebook>=4.4.1->widgetsnbextension~=3.6.0->ipywidgets>=7.6.0->anywidget->rerun-notebook==0.19.0->rerun-sdk[notebook]) (0.10.0)\n",
            "Requirement already satisfied: pandocfilters>=1.4.1 in /usr/local/lib/python3.10/dist-packages (from nbconvert>=5->notebook>=4.4.1->widgetsnbextension~=3.6.0->ipywidgets>=7.6.0->anywidget->rerun-notebook==0.19.0->rerun-sdk[notebook]) (1.5.1)\n",
            "Requirement already satisfied: tinycss2 in /usr/local/lib/python3.10/dist-packages (from nbconvert>=5->notebook>=4.4.1->widgetsnbextension~=3.6.0->ipywidgets>=7.6.0->anywidget->rerun-notebook==0.19.0->rerun-sdk[notebook]) (1.3.0)\n",
            "Requirement already satisfied: fastjsonschema>=2.15 in /usr/local/lib/python3.10/dist-packages (from nbformat->notebook>=4.4.1->widgetsnbextension~=3.6.0->ipywidgets>=7.6.0->anywidget->rerun-notebook==0.19.0->rerun-sdk[notebook]) (2.20.0)\n",
            "Requirement already satisfied: jsonschema>=2.6 in /usr/local/lib/python3.10/dist-packages (from nbformat->notebook>=4.4.1->widgetsnbextension~=3.6.0->ipywidgets>=7.6.0->anywidget->rerun-notebook==0.19.0->rerun-sdk[notebook]) (4.23.0)\n",
            "Requirement already satisfied: six>=1.5 in /usr/local/lib/python3.10/dist-packages (from python-dateutil>=2.8.2->jupyter-client>=6.1.12->ipykernel>=4.5.1->ipywidgets>=7.6.0->anywidget->rerun-notebook==0.19.0->rerun-sdk[notebook]) (1.16.0)\n",
            "Requirement already satisfied: argon2-cffi-bindings in /usr/local/lib/python3.10/dist-packages (from argon2-cffi->notebook>=4.4.1->widgetsnbextension~=3.6.0->ipywidgets>=7.6.0->anywidget->rerun-notebook==0.19.0->rerun-sdk[notebook]) (21.2.0)\n",
            "Requirement already satisfied: jsonschema-specifications>=2023.03.6 in /usr/local/lib/python3.10/dist-packages (from jsonschema>=2.6->nbformat->notebook>=4.4.1->widgetsnbextension~=3.6.0->ipywidgets>=7.6.0->anywidget->rerun-notebook==0.19.0->rerun-sdk[notebook]) (2024.10.1)\n",
            "Requirement already satisfied: referencing>=0.28.4 in /usr/local/lib/python3.10/dist-packages (from jsonschema>=2.6->nbformat->notebook>=4.4.1->widgetsnbextension~=3.6.0->ipywidgets>=7.6.0->anywidget->rerun-notebook==0.19.0->rerun-sdk[notebook]) (0.35.1)\n",
            "Requirement already satisfied: rpds-py>=0.7.1 in /usr/local/lib/python3.10/dist-packages (from jsonschema>=2.6->nbformat->notebook>=4.4.1->widgetsnbextension~=3.6.0->ipywidgets>=7.6.0->anywidget->rerun-notebook==0.19.0->rerun-sdk[notebook]) (0.20.0)\n",
            "Requirement already satisfied: jupyter-server<3,>=1.8 in /usr/local/lib/python3.10/dist-packages (from notebook-shim>=0.2.3->nbclassic>=0.4.7->notebook>=4.4.1->widgetsnbextension~=3.6.0->ipywidgets>=7.6.0->anywidget->rerun-notebook==0.19.0->rerun-sdk[notebook]) (2.14.2)\n",
            "Requirement already satisfied: cffi>=1.0.1 in /usr/local/lib/python3.10/dist-packages (from argon2-cffi-bindings->argon2-cffi->notebook>=4.4.1->widgetsnbextension~=3.6.0->ipywidgets>=7.6.0->anywidget->rerun-notebook==0.19.0->rerun-sdk[notebook]) (1.17.1)\n",
            "Requirement already satisfied: soupsieve>1.2 in /usr/local/lib/python3.10/dist-packages (from beautifulsoup4->nbconvert>=5->notebook>=4.4.1->widgetsnbextension~=3.6.0->ipywidgets>=7.6.0->anywidget->rerun-notebook==0.19.0->rerun-sdk[notebook]) (2.6)\n",
            "Requirement already satisfied: webencodings in /usr/local/lib/python3.10/dist-packages (from bleach->nbconvert>=5->notebook>=4.4.1->widgetsnbextension~=3.6.0->ipywidgets>=7.6.0->anywidget->rerun-notebook==0.19.0->rerun-sdk[notebook]) (0.5.1)\n",
            "Requirement already satisfied: pycparser in /usr/local/lib/python3.10/dist-packages (from cffi>=1.0.1->argon2-cffi-bindings->argon2-cffi->notebook>=4.4.1->widgetsnbextension~=3.6.0->ipywidgets>=7.6.0->anywidget->rerun-notebook==0.19.0->rerun-sdk[notebook]) (2.22)\n",
            "Requirement already satisfied: anyio>=3.1.0 in /usr/local/lib/python3.10/dist-packages (from jupyter-server<3,>=1.8->notebook-shim>=0.2.3->nbclassic>=0.4.7->notebook>=4.4.1->widgetsnbextension~=3.6.0->ipywidgets>=7.6.0->anywidget->rerun-notebook==0.19.0->rerun-sdk[notebook]) (3.7.1)\n",
            "Requirement already satisfied: jupyter-events>=0.9.0 in /usr/local/lib/python3.10/dist-packages (from jupyter-server<3,>=1.8->notebook-shim>=0.2.3->nbclassic>=0.4.7->notebook>=4.4.1->widgetsnbextension~=3.6.0->ipywidgets>=7.6.0->anywidget->rerun-notebook==0.19.0->rerun-sdk[notebook]) (0.10.0)\n",
            "Requirement already satisfied: jupyter-server-terminals>=0.4.4 in /usr/local/lib/python3.10/dist-packages (from jupyter-server<3,>=1.8->notebook-shim>=0.2.3->nbclassic>=0.4.7->notebook>=4.4.1->widgetsnbextension~=3.6.0->ipywidgets>=7.6.0->anywidget->rerun-notebook==0.19.0->rerun-sdk[notebook]) (0.5.3)\n",
            "Requirement already satisfied: overrides>=5.0 in /usr/local/lib/python3.10/dist-packages (from jupyter-server<3,>=1.8->notebook-shim>=0.2.3->nbclassic>=0.4.7->notebook>=4.4.1->widgetsnbextension~=3.6.0->ipywidgets>=7.6.0->anywidget->rerun-notebook==0.19.0->rerun-sdk[notebook]) (7.7.0)\n",
            "Requirement already satisfied: websocket-client>=1.7 in /usr/local/lib/python3.10/dist-packages (from jupyter-server<3,>=1.8->notebook-shim>=0.2.3->nbclassic>=0.4.7->notebook>=4.4.1->widgetsnbextension~=3.6.0->ipywidgets>=7.6.0->anywidget->rerun-notebook==0.19.0->rerun-sdk[notebook]) (1.8.0)\n",
            "Requirement already satisfied: idna>=2.8 in /usr/local/lib/python3.10/dist-packages (from anyio>=3.1.0->jupyter-server<3,>=1.8->notebook-shim>=0.2.3->nbclassic>=0.4.7->notebook>=4.4.1->widgetsnbextension~=3.6.0->ipywidgets>=7.6.0->anywidget->rerun-notebook==0.19.0->rerun-sdk[notebook]) (3.10)\n",
            "Requirement already satisfied: sniffio>=1.1 in /usr/local/lib/python3.10/dist-packages (from anyio>=3.1.0->jupyter-server<3,>=1.8->notebook-shim>=0.2.3->nbclassic>=0.4.7->notebook>=4.4.1->widgetsnbextension~=3.6.0->ipywidgets>=7.6.0->anywidget->rerun-notebook==0.19.0->rerun-sdk[notebook]) (1.3.1)\n",
            "Requirement already satisfied: exceptiongroup in /usr/local/lib/python3.10/dist-packages (from anyio>=3.1.0->jupyter-server<3,>=1.8->notebook-shim>=0.2.3->nbclassic>=0.4.7->notebook>=4.4.1->widgetsnbextension~=3.6.0->ipywidgets>=7.6.0->anywidget->rerun-notebook==0.19.0->rerun-sdk[notebook]) (1.2.2)\n",
            "Requirement already satisfied: python-json-logger>=2.0.4 in /usr/local/lib/python3.10/dist-packages (from jupyter-events>=0.9.0->jupyter-server<3,>=1.8->notebook-shim>=0.2.3->nbclassic>=0.4.7->notebook>=4.4.1->widgetsnbextension~=3.6.0->ipywidgets>=7.6.0->anywidget->rerun-notebook==0.19.0->rerun-sdk[notebook]) (2.0.7)\n",
            "Requirement already satisfied: pyyaml>=5.3 in /usr/local/lib/python3.10/dist-packages (from jupyter-events>=0.9.0->jupyter-server<3,>=1.8->notebook-shim>=0.2.3->nbclassic>=0.4.7->notebook>=4.4.1->widgetsnbextension~=3.6.0->ipywidgets>=7.6.0->anywidget->rerun-notebook==0.19.0->rerun-sdk[notebook]) (6.0.2)\n",
            "Requirement already satisfied: rfc3339-validator in /usr/local/lib/python3.10/dist-packages (from jupyter-events>=0.9.0->jupyter-server<3,>=1.8->notebook-shim>=0.2.3->nbclassic>=0.4.7->notebook>=4.4.1->widgetsnbextension~=3.6.0->ipywidgets>=7.6.0->anywidget->rerun-notebook==0.19.0->rerun-sdk[notebook]) (0.1.4)\n",
            "Requirement already satisfied: rfc3986-validator>=0.1.1 in /usr/local/lib/python3.10/dist-packages (from jupyter-events>=0.9.0->jupyter-server<3,>=1.8->notebook-shim>=0.2.3->nbclassic>=0.4.7->notebook>=4.4.1->widgetsnbextension~=3.6.0->ipywidgets>=7.6.0->anywidget->rerun-notebook==0.19.0->rerun-sdk[notebook]) (0.1.1)\n",
            "Requirement already satisfied: fqdn in /usr/local/lib/python3.10/dist-packages (from jsonschema[format-nongpl]>=4.18.0->jupyter-events>=0.9.0->jupyter-server<3,>=1.8->notebook-shim>=0.2.3->nbclassic>=0.4.7->notebook>=4.4.1->widgetsnbextension~=3.6.0->ipywidgets>=7.6.0->anywidget->rerun-notebook==0.19.0->rerun-sdk[notebook]) (1.5.1)\n",
            "Requirement already satisfied: isoduration in /usr/local/lib/python3.10/dist-packages (from jsonschema[format-nongpl]>=4.18.0->jupyter-events>=0.9.0->jupyter-server<3,>=1.8->notebook-shim>=0.2.3->nbclassic>=0.4.7->notebook>=4.4.1->widgetsnbextension~=3.6.0->ipywidgets>=7.6.0->anywidget->rerun-notebook==0.19.0->rerun-sdk[notebook]) (20.11.0)\n",
            "Requirement already satisfied: jsonpointer>1.13 in /usr/local/lib/python3.10/dist-packages (from jsonschema[format-nongpl]>=4.18.0->jupyter-events>=0.9.0->jupyter-server<3,>=1.8->notebook-shim>=0.2.3->nbclassic>=0.4.7->notebook>=4.4.1->widgetsnbextension~=3.6.0->ipywidgets>=7.6.0->anywidget->rerun-notebook==0.19.0->rerun-sdk[notebook]) (3.0.0)\n",
            "Requirement already satisfied: uri-template in /usr/local/lib/python3.10/dist-packages (from jsonschema[format-nongpl]>=4.18.0->jupyter-events>=0.9.0->jupyter-server<3,>=1.8->notebook-shim>=0.2.3->nbclassic>=0.4.7->notebook>=4.4.1->widgetsnbextension~=3.6.0->ipywidgets>=7.6.0->anywidget->rerun-notebook==0.19.0->rerun-sdk[notebook]) (1.3.0)\n",
            "Requirement already satisfied: webcolors>=24.6.0 in /usr/local/lib/python3.10/dist-packages (from jsonschema[format-nongpl]>=4.18.0->jupyter-events>=0.9.0->jupyter-server<3,>=1.8->notebook-shim>=0.2.3->nbclassic>=0.4.7->notebook>=4.4.1->widgetsnbextension~=3.6.0->ipywidgets>=7.6.0->anywidget->rerun-notebook==0.19.0->rerun-sdk[notebook]) (24.8.0)\n",
            "Requirement already satisfied: arrow>=0.15.0 in /usr/local/lib/python3.10/dist-packages (from isoduration->jsonschema[format-nongpl]>=4.18.0->jupyter-events>=0.9.0->jupyter-server<3,>=1.8->notebook-shim>=0.2.3->nbclassic>=0.4.7->notebook>=4.4.1->widgetsnbextension~=3.6.0->ipywidgets>=7.6.0->anywidget->rerun-notebook==0.19.0->rerun-sdk[notebook]) (1.3.0)\n",
            "Requirement already satisfied: types-python-dateutil>=2.8.10 in /usr/local/lib/python3.10/dist-packages (from arrow>=0.15.0->isoduration->jsonschema[format-nongpl]>=4.18.0->jupyter-events>=0.9.0->jupyter-server<3,>=1.8->notebook-shim>=0.2.3->nbclassic>=0.4.7->notebook>=4.4.1->widgetsnbextension~=3.6.0->ipywidgets>=7.6.0->anywidget->rerun-notebook==0.19.0->rerun-sdk[notebook]) (2.9.0.20241003)\n"
          ]
        }
      ]
    },
    {
      "cell_type": "code",
      "execution_count": 5,
      "metadata": {
        "id": "mejA1LJYoqny"
      },
      "outputs": [],
      "source": [
        "import requests\n",
        "\n",
        "url = \"https://www.projectaria.com/async/sample/download/?bucket=atek&filename=ATEK_example_model_weights.tar\"\n",
        "response = requests.get(url)\n",
        "\n",
        "# Specify the path where you want to save the file\n",
        "file_path = \"/content/ATEK_example_model_weights.tar\"\n",
        "\n",
        "# Open the file in binary write mode and write the contents of the response\n",
        "with open(file_path, \"wb\") as file:\n",
        "    file.write(response.content)"
      ]
    },
    {
      "cell_type": "code",
      "execution_count": 6,
      "metadata": {
        "collapsed": true,
        "id": "s2-IjOuiBsim",
        "jupyter": {
          "outputs_hidden": true
        },
        "outputId": "7b54f4f3-5714-47db-adf0-caf0e4a95fc9",
        "colab": {
          "base_uri": "https://localhost:8080/"
        }
      },
      "outputs": [
        {
          "output_type": "stream",
          "name": "stdout",
          "text": [
            "./model_weights/\n",
            "./model_weights/LICENSE\n",
            "./model_weights/ATEK_example_cubercnn_weights_trained_on_ADT/\n",
            "./model_weights/ATEK_example_cubercnn_weights_trained_on_ADT/config.yaml\n",
            "./model_weights/ATEK_example_cubercnn_weights_trained_on_ADT/metrics.json\n",
            "./model_weights/ATEK_example_cubercnn_weights_trained_on_ADT/model_final.pth\n",
            "./model_weights/ATEK_example_cubercnn_weights_trained_on_ADT/last_checkpoint\n",
            "./model_weights/ATEK_example_cubercnn_weights_trained_on_ASE/\n",
            "./model_weights/ATEK_example_cubercnn_weights_trained_on_ASE/config.yaml\n",
            "./model_weights/ATEK_example_cubercnn_weights_trained_on_ASE/metrics.json\n",
            "./model_weights/ATEK_example_cubercnn_weights_trained_on_ASE/last_checkpoint\n",
            "./model_weights/ATEK_example_cubercnn_weights_trained_on_ASE/model_recent.pth\n"
          ]
        }
      ],
      "source": [
        "!mkdir -p /content/data\n",
        "!tar -xvf /content/ATEK_example_model_weights.tar -C /content/data"
      ]
    },
    {
      "cell_type": "code",
      "execution_count": 7,
      "metadata": {
        "collapsed": true,
        "id": "EUZA4zzGfrdJ",
        "jupyter": {
          "outputs_hidden": true
        },
        "outputId": "2a94793b-70ec-4b26-fb35-9594c59956b6",
        "colab": {
          "base_uri": "https://localhost:8080/"
        }
      },
      "outputs": [
        {
          "output_type": "stream",
          "name": "stdout",
          "text": [
            "Cloning into 'ATEK'...\n",
            "remote: Enumerating objects: 184, done.\u001b[K\n",
            "remote: Counting objects: 100% (137/137), done.\u001b[K\n",
            "remote: Compressing objects: 100% (112/112), done.\u001b[K\n",
            "remote: Total 184 (delta 42), reused 64 (delta 25), pack-reused 47 (from 1)\u001b[K\n",
            "Receiving objects: 100% (184/184), 8.53 MiB | 13.97 MiB/s, done.\n",
            "Resolving deltas: 100% (50/50), done.\n"
          ]
        }
      ],
      "source": [
        "!git clone https://github.com/facebookresearch/ATEK.git"
      ]
    },
    {
      "cell_type": "markdown",
      "metadata": {
        "id": "tTp3xS-Ggpe4"
      },
      "source": [
        "## Part1: Data proprocessing\n",
        "\n",
        "###  Data preprocessing requirements\n",
        "ADT sequence has:\n",
        "1. Aria recording (VRS).\n",
        "2. MPS trajectory file (CSV).\n",
        "3. Object detection annotation files (3 csv files + 1 json file).\n",
        "\n",
        "CubeRCNN model needs synchronized data frame containing:\n",
        "1. Upright RGB camera image.\n",
        "2. Linear camera calibration matrix.\n",
        "3. Object bounding box annotations in 2D + 3D.\n",
        "4. Camera-to-object poses.\n",
        "\n",
        "**Before ATEK**, users need to implement all the followings to prepare ADT sequence into CubeRCNN model:\n",
        "1. Parse in ADT sequence data using `projectaria_tools` lib.   \n",
        "2. Properly synchronize sensor + annotation data into training samples.\n",
        "3. Perform additional image & data processing:\n",
        "    1. Undistort image + camera calibration.\n",
        "    2. Rescale camera resolution.\n",
        "    3. Rotate image + camera calibration.\n",
        "    4. Undistort + rescale + rotate object 2D bounding boxes accordingly."
      ]
    },
    {
      "cell_type": "code",
      "execution_count": 9,
      "metadata": {
        "collapsed": true,
        "id": "Yy79EFR8UZMS",
        "jupyter": {
          "outputs_hidden": true
        }
      },
      "outputs": [],
      "source": [
        "import faulthandler\n",
        "import logging\n",
        "import os\n",
        "from logging import StreamHandler\n",
        "import numpy as np\n",
        "from typing import Dict, List, Optional\n",
        "import torch\n",
        "import sys\n",
        "from itertools import islice\n",
        "from tqdm import tqdm\n",
        "\n",
        "from atek.data_preprocess.genera_atek_preprocessor_factory import (\n",
        "    create_general_atek_preprocessor_from_conf,\n",
        ")\n",
        "from atek.viz.atek_visualizer import NativeAtekSampleVisualizer\n",
        "from atek.data_preprocess.general_atek_preprocessor import GeneralAtekPreprocessor\n",
        "from atek.data_loaders.atek_wds_dataloader import (\n",
        "    create_native_atek_dataloader\n",
        ")\n",
        "\n",
        "from atek.data_loaders.cubercnn_model_adaptor import (\n",
        "    cubercnn_collation_fn,\n",
        "    create_atek_dataloader_as_cubercnn\n",
        ")\n",
        "from atek.evaluation.static_object_detection.obb3_csv_io import AtekObb3CsvWriter\n",
        "\n",
        "from atek.data_preprocess.atek_data_sample import (\n",
        "    create_atek_data_sample_from_flatten_dict,\n",
        ")\n",
        "from cubercnn.config import get_cfg_defaults\n",
        "from cubercnn.modeling.backbone import build_dla_from_vision_fpn_backbone\n",
        "# from cubercnn.modeling.meta_arch import build_model\n",
        "\n",
        "from detectron2.checkpoint import DetectionCheckpointer\n",
        "from detectron2.config import get_cfg\n",
        "from omegaconf import OmegaConf\n",
        "import subprocess"
      ]
    },
    {
      "cell_type": "markdown",
      "metadata": {
        "id": "YJNAP3W2g_CL"
      },
      "source": [
        "## Download ADT sequences from projectaria.com"
      ]
    },
    {
      "cell_type": "code",
      "execution_count": 10,
      "metadata": {
        "collapsed": true,
        "id": "Fy-pj5ejrMn8",
        "jupyter": {
          "outputs_hidden": true
        },
        "outputId": "e04c7e03-c6fc-4b62-d4ad-53f811d13766",
        "colab": {
          "base_uri": "https://localhost:8080/"
        }
      },
      "outputs": [
        {
          "output_type": "stream",
          "name": "stderr",
          "text": [
            "  % Total    % Received % Xferd  Average Speed   Time    Time     Time  Current\n",
            "                                 Dload  Upload   Total   Spent    Left  Speed\n",
            "  0     0    0     0    0     0      0      0 --:--:-- --:--:-- --:--:--     0\n",
            "100  638M  100  638M    0     0  57.4M      0  0:00:11  0:00:11 --:--:-- 63.1M\n",
            "Warning: Got more output options than URLs\n"
          ]
        },
        {
          "output_type": "stream",
          "name": "stdout",
          "text": [
            "Archive:  ./adt_sample_data/adt_sample_data.zip\n",
            "   creating: ./adt_sample_data/Apartment_release_golden_skeleton_seq100_10s_sample_M1292/\n",
            "  inflating: ./adt_sample_data/Apartment_release_golden_skeleton_seq100_10s_sample_M1292/video.vrs  \n",
            "   creating: ./adt_sample_data/Apartment_release_golden_skeleton_seq100_10s_sample_M1292/mps/\n",
            "   creating: ./adt_sample_data/Apartment_release_golden_skeleton_seq100_10s_sample_M1292/mps/slam/\n",
            "  inflating: ./adt_sample_data/Apartment_release_golden_skeleton_seq100_10s_sample_M1292/mps/slam/closed_loop_trajectory.csv  \n",
            "  inflating: ./adt_sample_data/Apartment_release_golden_skeleton_seq100_10s_sample_M1292/mps/slam/open_loop_trajectory.csv  \n",
            "  inflating: ./adt_sample_data/Apartment_release_golden_skeleton_seq100_10s_sample_M1292/mps/slam/online_calibration.jsonl  \n",
            "  inflating: ./adt_sample_data/Apartment_release_golden_skeleton_seq100_10s_sample_M1292/mps/slam/semidense_observations.csv.gz  \n",
            "  inflating: ./adt_sample_data/Apartment_release_golden_skeleton_seq100_10s_sample_M1292/mps/slam/semidense_points.csv.gz  \n",
            "  inflating: ./adt_sample_data/Apartment_release_golden_skeleton_seq100_10s_sample_M1292/mps/slam/summary.json  \n",
            "   creating: ./adt_sample_data/Apartment_release_golden_skeleton_seq100_10s_sample_M1292/mps/eye_gaze/\n",
            "  inflating: ./adt_sample_data/Apartment_release_golden_skeleton_seq100_10s_sample_M1292/mps/eye_gaze/general_eye_gaze.csv  \n",
            "  inflating: ./adt_sample_data/Apartment_release_golden_skeleton_seq100_10s_sample_M1292/mps/eye_gaze/summary.json  \n",
            "  inflating: ./adt_sample_data/Apartment_release_golden_skeleton_seq100_10s_sample_M1292/2d_bounding_box.csv  \n",
            "  inflating: ./adt_sample_data/Apartment_release_golden_skeleton_seq100_10s_sample_M1292/2d_bounding_box_with_skeleton.csv  \n",
            "  inflating: ./adt_sample_data/Apartment_release_golden_skeleton_seq100_10s_sample_M1292/3d_bounding_box.csv  \n",
            "  inflating: ./adt_sample_data/Apartment_release_golden_skeleton_seq100_10s_sample_M1292/Skeleton_T.json  \n",
            "  inflating: ./adt_sample_data/Apartment_release_golden_skeleton_seq100_10s_sample_M1292/aria_trajectory.csv  \n",
            "  inflating: ./adt_sample_data/Apartment_release_golden_skeleton_seq100_10s_sample_M1292/eyegaze.csv  \n",
            "  inflating: ./adt_sample_data/Apartment_release_golden_skeleton_seq100_10s_sample_M1292/instances.json  \n",
            "  inflating: ./adt_sample_data/Apartment_release_golden_skeleton_seq100_10s_sample_M1292/metadata.json  \n",
            "  inflating: ./adt_sample_data/Apartment_release_golden_skeleton_seq100_10s_sample_M1292/scene_objects.csv  \n",
            "  inflating: ./adt_sample_data/Apartment_release_golden_skeleton_seq100_10s_sample_M1292/skeleton_aria_association.json  \n",
            "  inflating: ./adt_sample_data/Apartment_release_golden_skeleton_seq100_10s_sample_M1292/segmentations.vrs  \n",
            "  inflating: ./adt_sample_data/Apartment_release_golden_skeleton_seq100_10s_sample_M1292/depth_images.vrs  \n",
            "  inflating: ./adt_sample_data/Apartment_release_golden_skeleton_seq100_10s_sample_M1292/synthetic_video.vrs  \n",
            "  inflating: ./adt_sample_data/Apartment_release_golden_skeleton_seq100_10s_sample_M1292/.download_status.json  \n"
          ]
        }
      ],
      "source": [
        "adt_sample_path = \"./adt_sample_data\"\n",
        "data_sequence_url = \"https://www.projectaria.com/async/sample/download/?bucket=adt&filename=aria_digital_twin_test_data_v2.zip\"\n",
        "command_list = [\n",
        "    f\"mkdir -p {adt_sample_path}\",\n",
        "    # Download sample data\n",
        "    f'curl -o {adt_sample_path}/adt_sample_data.zip -C - -O -L \"{data_sequence_url}\"',\n",
        "    # Unzip the sample data\n",
        "    f\"unzip -o {adt_sample_path}/adt_sample_data.zip -d {adt_sample_path}\"\n",
        "]\n",
        "sequence_path = f\"{adt_sample_path}/Apartment_release_golden_skeleton_seq100_10s_sample_M1292\"\n",
        "\n",
        "# Execute the commands for downloading dataset\n",
        "for command in command_list:\n",
        "    subprocess.run(command, shell=True, check=True)"
      ]
    },
    {
      "cell_type": "markdown",
      "metadata": {
        "id": "mGJc-2B_hF03"
      },
      "source": [
        "###  Set up data and code paths"
      ]
    },
    {
      "cell_type": "code",
      "execution_count": 16,
      "metadata": {
        "id": "KGaKsE5IEol8"
      },
      "outputs": [],
      "source": [
        "example_adt_data_dir = f\"{adt_sample_path}/Apartment_release_golden_skeleton_seq100_10s_sample_M1292\"\n",
        "sequence_name = \"Apartment_release_golden_skeleton_seq100_10s_sample_M1292\"\n",
        "atek_src_path = \"/content/ATEK\"\n",
        "category_mapping_file = f\"{atek_src_path}/data/adt_prototype_to_atek.csv\"\n",
        "atek_preprocess_config_path = f\"{atek_src_path}/examples/data/adt_cubercnn_preprocess_config.yaml\"\n",
        "preprocess_conf = OmegaConf.load(atek_preprocess_config_path)\n",
        "# Take viz conf out of preprocess conf\n",
        "viz_conf = preprocess_conf.visualizer\n",
        "del preprocess_conf.visualizer\n",
        "\n",
        "# Create viz conf for inference viewer\n",
        "infer_viz_config_path = f\"{atek_src_path}/examples/data/infer_viz_conf.yaml\"\n",
        "infer_viz_conf = OmegaConf.load(infer_viz_config_path)\n",
        "\n",
        "output_wds_path = f\"{atek_src_path}/examples/data/wds_output\""
      ]
    },
    {
      "cell_type": "markdown",
      "metadata": {
        "id": "nBcS5GTahgx5"
      },
      "source": [
        "### Helper functions"
      ]
    },
    {
      "cell_type": "code",
      "execution_count": 12,
      "metadata": {
        "id": "uw-Yzp1pjyJd"
      },
      "outputs": [],
      "source": [
        "faulthandler.enable()\n",
        "\n",
        "# Configure logging to display the log messages in the notebook\n",
        "logging.basicConfig(\n",
        "    level=logging.INFO,\n",
        "    format='%(asctime)s - %(levelname)s - %(message)s',\n",
        "    handlers=[\n",
        "        logging.StreamHandler(sys.stdout)\n",
        "    ]\n",
        ")\n",
        "\n",
        "logger = logging.getLogger()\n",
        "\n",
        "\n",
        "# -------------------- Helper functions --------------------#\n",
        "def print_data_sample_dict_content(data_sample, if_pretty: bool = False):\n",
        "    \"\"\"\n",
        "    A helper function to print the content of data sample dict\n",
        "    \"\"\"\n",
        "    logger.info(\"Printing the content in a ATEK data sample dict: \")\n",
        "    for key, val in data_sample.items():\n",
        "        if if_pretty and \"#\" in key:\n",
        "            key = key.split(\"#\", 1)[1]\n",
        "\n",
        "        msg = f\"\\t {key}: is a {type(val)}, \"\n",
        "        if isinstance(val, torch.Tensor):\n",
        "            msg += f\"\\n \\t\\t\\t\\t with tensor dtype of {val.dtype}, and shape of : {val.shape}\"\n",
        "        elif isinstance(val, list):\n",
        "            msg += f\"with len of : {len(val)}\"\n",
        "        elif isinstance(val, str):\n",
        "            msg += f\"value is {val}\"\n",
        "        else:\n",
        "            pass\n",
        "        logger.info(msg)\n",
        "\n",
        "def run_command_and_display_output(command):\n",
        "    # Start the process\n",
        "    process = subprocess.Popen(command, stdout=subprocess.PIPE, stderr=subprocess.STDOUT, text=True)\n",
        "\n",
        "    # Poll process.stdout to show stdout live\n",
        "    while True:\n",
        "        output = process.stdout.readline()\n",
        "        if output == '' and process.poll() is not None:\n",
        "            break\n",
        "        if output:\n",
        "            print(output.strip())\n",
        "    rc = process.poll()\n",
        "    return rc\n",
        "\n",
        "# def create_inference_model(config_file, ckpt_dir, use_cpu_only=False):\n",
        "#     \"\"\"\n",
        "#     Create the model for inference pipeline, with the model config.\n",
        "#     \"\"\"\n",
        "#     # Create default model configuration\n",
        "#     model_config = get_cfg()\n",
        "#     model_config.set_new_allowed(True)\n",
        "#     get_cfg_defaults(model_config)\n",
        "\n",
        "#     # add extra configs for data\n",
        "#     model_config.MAX_TRAINING_ATTEMPTS = 3\n",
        "#     model_config.TRAIN_LIST = \"\"\n",
        "#     model_config.TEST_LIST = \"\"\n",
        "#     model_config.TRAIN_WDS_DIR = \"\"\n",
        "#     model_config.TEST_WDS_DIR = \"\"\n",
        "#     model_config.ID_MAP_JSON = \"\"\n",
        "#     model_config.OBJ_PROP_JSON = \"\"\n",
        "#     model_config.CATEGORY_JSON = \"\"\n",
        "#     model_config.DATASETS.OBJECT_DETECTION_MODE = \"\"\n",
        "#     model_config.SOLVER.VAL_MAX_ITER = 0\n",
        "#     model_config.SOLVER.MAX_EPOCH = 0\n",
        "\n",
        "#     model_config.merge_from_file(config_file)\n",
        "#     if use_cpu_only:\n",
        "#         model_config.MODEL.DEVICE = \"cpu\"\n",
        "#     model_config.freeze()\n",
        "\n",
        "#     model = build_model(model_config, priors=None)\n",
        "\n",
        "#     _ = DetectionCheckpointer(model, save_dir=ckpt_dir).resume_or_load(\n",
        "#         model_config.MODEL.WEIGHTS, resume=True\n",
        "#     )\n",
        "#     model.eval()\n",
        "\n",
        "#     return model_config, model"
      ]
    },
    {
      "cell_type": "markdown",
      "metadata": {
        "id": "rvdmyAIrhngs"
      },
      "source": [
        "### Set up and run ATEK data preprocessor"
      ]
    },
    {
      "cell_type": "code",
      "execution_count": 17,
      "metadata": {
        "collapsed": true,
        "id": "Ua3oo2TSsYm0",
        "jupyter": {
          "outputs_hidden": true
        },
        "outputId": "1f4c6bda-2d98-4de9-ff28-9429481d1faa",
        "colab": {
          "base_uri": "https://localhost:8080/"
        }
      },
      "outputs": [
        {
          "output_type": "stream",
          "name": "stderr",
          "text": [
            "INFO:atek.data_preprocess.sample_builders.atek_data_paths_provider:Located ATEK data paths: {'video_vrs_file': './adt_sample_data/Apartment_release_golden_skeleton_seq100_10s_sample_M1292/video.vrs', 'mps_closedloop_traj_file': './adt_sample_data/Apartment_release_golden_skeleton_seq100_10s_sample_M1292/aria_trajectory.csv', 'mps_semidense_points_file': './adt_sample_data/Apartment_release_golden_skeleton_seq100_10s_sample_M1292/mps/slam/semidense_points.csv.gz', 'mps_semidense_observations_file': './adt_sample_data/Apartment_release_golden_skeleton_seq100_10s_sample_M1292/mps/slam/semidense_observations.csv.gz', 'mps_online_calib_file': './adt_sample_data/Apartment_release_golden_skeleton_seq100_10s_sample_M1292/mps/slam/online_calibration.jsonl', 'depth_vrs_file': './adt_sample_data/Apartment_release_golden_skeleton_seq100_10s_sample_M1292/depth_images.vrs', 'gt_obb3_file': './adt_sample_data/Apartment_release_golden_skeleton_seq100_10s_sample_M1292/3d_bounding_box.csv', 'gt_obb3_traj_file': './adt_sample_data/Apartment_release_golden_skeleton_seq100_10s_sample_M1292/scene_objects.csv', 'gt_obb2_file': './adt_sample_data/Apartment_release_golden_skeleton_seq100_10s_sample_M1292/2d_bounding_box.csv', 'gt_instance_json_file': './adt_sample_data/Apartment_release_golden_skeleton_seq100_10s_sample_M1292/instances.json'}\n",
            "\u001b[38;2;000;000;255m[ProgressLogger][INFO]: 2024-10-24 01:08:07: Opening ./adt_sample_data/Apartment_release_golden_skeleton_seq100_10s_sample_M1292/video.vrs...\u001b[0m\n",
            "\u001b[0m\u001b[38;2;000;128;000m[MultiRecordFileReader][DEBUG]: Opened file './adt_sample_data/Apartment_release_golden_skeleton_seq100_10s_sample_M1292/video.vrs' and assigned to reader #0\u001b[0m\n",
            "\u001b[0m\u001b[38;2;000;000;255m[VrsDataProvider][INFO]: streamId 211-1/camera-et activated\u001b[0m\n",
            "\u001b[0m\u001b[38;2;000;000;255m[VrsDataProvider][INFO]: streamId 214-1/camera-rgb activated\u001b[0m\n",
            "\u001b[0m\u001b[38;2;000;000;255m[VrsDataProvider][INFO]: streamId 247-1/baro0 activated\u001b[0m\n",
            "\u001b[0m\u001b[38;2;255;165;000m[VrsDataProvider][WARNING]: Unsupported TimeSync mode: APP, ignoring.\u001b[0m\n",
            "\u001b[0m\u001b[38;2;000;000;255m[VrsDataProvider][INFO]: Timecode stream found: 285-2\u001b[0m\n",
            "\u001b[0m\u001b[38;2;000;000;255m[VrsDataProvider][INFO]: streamId 1201-1/camera-slam-left activated\u001b[0m\n",
            "\u001b[0m\u001b[38;2;000;000;255m[VrsDataProvider][INFO]: streamId 1201-2/camera-slam-right activated\u001b[0m\n",
            "\u001b[0m\u001b[38;2;000;000;255m[VrsDataProvider][INFO]: streamId 1202-1/imu-right activated\u001b[0m\n",
            "\u001b[0m\u001b[38;2;000;000;255m[VrsDataProvider][INFO]: streamId 1202-2/imu-left activated\u001b[0m\n",
            "\u001b[0m\u001b[38;2;000;000;255m[VrsDataProvider][INFO]: streamId 1203-1/mag0 activated\u001b[0m\n",
            "\u001b[0m\u001b[38;2;000;000;255m[AriaDigitalTwinDataProvider][INFO]: skip loading VRS data because the data path is empty\u001b[0m\n",
            "\u001b[0m\u001b[38;2;255;165;000m[AriaDigitalTwinDataProvider][WARNING]: No metadata file provided to data provider, setting the dataset version to Unknown.\u001b[0m\n",
            "\u001b[0m\u001b[38;2;255;165;000m[AriaDigitalTwinDataProvider][WARNING]: Unknown dataset version, we recommend loading with the metadata file to validate the dataset version is compatible with this version of the data provider.\u001b[0m\n",
            "\u001b[0m\u001b[38;2;000;000;255m[AriaDigitalTwinDataProvider][INFO]: loading instance info from json file ./adt_sample_data/Apartment_release_golden_skeleton_seq100_10s_sample_M1292/instances.json\u001b[0m\n",
            "\u001b[0m\u001b[38;2;000;000;255m[AriaDigitalTwinDataProvider][INFO]: skip loading fileAriaTraj because the data path is empty\u001b[0m\n",
            "\u001b[0m\u001b[38;2;000;000;255m[AriaDigitalTwinDataProvider][INFO]: skip loading fileSegmentation because the data path is empty\u001b[0m\n",
            "\u001b[0m\u001b[38;2;000;000;255m[AriaDigitalTwinDataProvider][INFO]: skip loading fileDepth because the data path is empty\u001b[0m\n",
            "\u001b[0m\u001b[38;2;000;000;255m[AriaDigitalTwinDataProvider][INFO]: skip loading fileSynthetic because the data path is empty\u001b[0m\n",
            "\u001b[0m\u001b[38;2;000;000;255m[AriaDigitalTwinDataProvider][INFO]: skip loading skeletonMetaDataFilePath because the data path is empty\u001b[0m\n",
            "\u001b[0m\u001b[38;2;000;000;255m[AriaDigitalTwinDataProvider][INFO]: skip loading skeletonsFilePaths because the data path is empty\u001b[0m\n",
            "\u001b[0m\u001b[38;2;000;000;255m[AriaDigitalTwinDataProvider][INFO]: skip loading eyeGazesFilePath because the data path is empty\u001b[0m\n",
            "\u001b[0m\u001b[38;2;000;000;255m[AriaDigitalTwinDataProvider][INFO]: skip loading VRS data because the data path is empty\u001b[0m\n",
            "\u001b[0m\u001b[38;2;255;165;000m[AriaDigitalTwinDataProvider][WARNING]: No metadata file provided to data provider, setting the dataset version to Unknown.\u001b[0m\n",
            "\u001b[0m\u001b[38;2;255;165;000m[AriaDigitalTwinDataProvider][WARNING]: Unknown dataset version, we recommend loading with the metadata file to validate the dataset version is compatible with this version of the data provider.\u001b[0m\n",
            "\u001b[0m\u001b[38;2;000;000;255m[AriaDigitalTwinDataProvider][INFO]: loading instance info from json file ./adt_sample_data/Apartment_release_golden_skeleton_seq100_10s_sample_M1292/instances.json\u001b[0m\n",
            "\u001b[0m\u001b[38;2;000;000;255m[AriaDigitalTwinDataProvider][INFO]: skip loading file3dBox because the data path is empty\u001b[0m\n",
            "\u001b[0m\u001b[38;2;000;000;255m[AriaDigitalTwinDataProvider][INFO]: skip loading fileAriaTraj because the data path is empty\u001b[0m\n",
            "\u001b[0m\u001b[38;2;000;000;255m[AriaDigitalTwinDataProvider][INFO]: skip loading fileObjectTraj because the data path is empty\u001b[0m\n",
            "\u001b[0m\u001b[38;2;000;000;255m[AriaDigitalTwinDataProvider][INFO]: skip loading fileSegmentation because the data path is empty\u001b[0m\n",
            "\u001b[0m\u001b[38;2;000;000;255m[AriaDigitalTwinDataProvider][INFO]: skip loading fileDepth because the data path is empty\u001b[0m\n",
            "\u001b[0m\u001b[38;2;000;000;255m[AriaDigitalTwinDataProvider][INFO]: skip loading fileSynthetic because the data path is empty\u001b[0m\n",
            "\u001b[0m\u001b[38;2;000;000;255m[AriaDigitalTwinDataProvider][INFO]: skip loading skeletonMetaDataFilePath because the data path is empty\u001b[0m\n",
            "\u001b[0m\u001b[38;2;000;000;255m[AriaDigitalTwinDataProvider][INFO]: skip loading skeletonsFilePaths because the data path is empty\u001b[0m\n",
            "\u001b[0m\u001b[38;2;000;000;255m[AriaDigitalTwinDataProvider][INFO]: skip loading eyeGazesFilePath because the data path is empty\u001b[0m\n",
            "\u001b[0m\u001b[38;2;000;000;255m[ProgressLogger][INFO]: 2024-10-24 01:08:08: Opening ./adt_sample_data/Apartment_release_golden_skeleton_seq100_10s_sample_M1292/video.vrs...\u001b[0m\n",
            "\u001b[0m\u001b[38;2;000;128;000m[MultiRecordFileReader][DEBUG]: Opened file './adt_sample_data/Apartment_release_golden_skeleton_seq100_10s_sample_M1292/video.vrs' and assigned to reader #0\u001b[0m\n",
            "\u001b[0m\u001b[38;2;000;000;255m[VrsDataProvider][INFO]: streamId 211-1/camera-et activated\u001b[0m\n",
            "\u001b[0m\u001b[38;2;000;000;255m[VrsDataProvider][INFO]: streamId 214-1/camera-rgb activated\u001b[0m\n",
            "\u001b[0m\u001b[38;2;000;000;255m[VrsDataProvider][INFO]: streamId 247-1/baro0 activated\u001b[0m\n",
            "\u001b[0m\u001b[38;2;255;165;000m[VrsDataProvider][WARNING]: Unsupported TimeSync mode: APP, ignoring.\u001b[0m\n",
            "\u001b[0m\u001b[38;2;000;000;255m[VrsDataProvider][INFO]: Timecode stream found: 285-2\u001b[0m\n",
            "\u001b[0m\u001b[38;2;000;000;255m[VrsDataProvider][INFO]: streamId 1201-1/camera-slam-left activated\u001b[0m\n",
            "\u001b[0m\u001b[38;2;000;000;255m[VrsDataProvider][INFO]: streamId 1201-2/camera-slam-right activated\u001b[0m\n",
            "\u001b[0m\u001b[38;2;000;000;255m[VrsDataProvider][INFO]: streamId 1202-1/imu-right activated\u001b[0m\n",
            "\u001b[0m\u001b[38;2;000;000;255m[VrsDataProvider][INFO]: streamId 1202-2/imu-left activated\u001b[0m\n",
            "\u001b[0m\u001b[38;2;000;000;255m[VrsDataProvider][INFO]: streamId 1203-1/mag0 activated\u001b[0m\n",
            "\u001b[0m"
          ]
        }
      ],
      "source": [
        "# Create ATEK preprocessor from conf. It will automatically choose which type of sample to build.\n",
        "atek_preprocessor = create_general_atek_preprocessor_from_conf(\n",
        "    # [required]\n",
        "    conf=preprocess_conf,\n",
        "    raw_data_folder = example_adt_data_dir,\n",
        "    sequence_name = sequence_name,\n",
        "    # [optional]\n",
        "    output_wds_folder=output_wds_path,\n",
        "    output_viz_file=os.path.join(example_adt_data_dir, \"atek_preprocess_viz.rrd\"),\n",
        "    category_mapping_file=category_mapping_file,\n",
        ")"
      ]
    },
    {
      "cell_type": "code",
      "source": [
        "preprocess_conf"
      ],
      "metadata": {
        "id": "jGbC8G-kEBxK",
        "outputId": "4de6fa6e-ccdb-4aec-988e-5946cbca2d9e",
        "colab": {
          "base_uri": "https://localhost:8080/"
        }
      },
      "execution_count": 18,
      "outputs": [
        {
          "output_type": "execute_result",
          "data": {
            "text/plain": [
              "{'atek_config_name': 'cubercnn', 'camera_temporal_subsampler': {'main_camera_label': 'camera-rgb', 'time_domain': 'DEVICE_TIME', 'main_camera_target_freq_hz': 10.0, 'sample_length_in_num_frames': 1, 'stride_length_in_num_frames': 2}, 'processors': {'rgb': {'selected': True, 'sensor_label': 'camera-rgb', 'time_domain': 'DEVICE_TIME', 'tolerance_ns': 10000000, 'undistort_to_linear_camera': False, 'target_camera_resolution': [1024, 1024], 'rescale_antialias': True, 'rotate_image_cw90deg': True}, 'slam_left': {'selected': False, 'sensor_label': 'camera-slam-left', 'tolerance_ns': 10000000, 'time_domain': 'DEVICE_TIME', 'rotate_image_cw90deg': True}, 'slam_right': {'selected': False, 'sensor_label': 'camera-slam-right', 'tolerance_ns': 10000000, 'time_domain': 'DEVICE_TIME', 'rotate_image_cw90deg': True}, 'mps_traj': {'selected': True, 'tolerance_ns': 10000000}, 'mps_semidense': {'selected': False}, 'mps_online_calib': {'tolerance_ns': 10000000}, 'obb_gt': {'selected': True, 'tolerance_ns': 10000000, 'category_mapping_field_name': 'prototype_name', 'bbox2d_num_samples_on_edge': 10}}, 'wds_writer': {'prefix_string': '', 'max_samples_per_shard': 32, 'remove_last_tar_if_not_full': False}}"
            ]
          },
          "metadata": {},
          "execution_count": 18
        }
      ]
    },
    {
      "cell_type": "markdown",
      "metadata": {
        "id": "cxgiEJAFiDDH"
      },
      "source": [
        "## Preprocessed ATEK data sample content\n",
        "* Preprocessing input: VRS + csv + jsons\n",
        "* Preprocessing output (in memory): ATEK data samples: `Dict[torch.Tensor, str, or Dict]`\n",
        "* Preprocessing output (on local disk): WebDataset (WDS) tar files."
      ]
    },
    {
      "cell_type": "code",
      "execution_count": 19,
      "metadata": {
        "collapsed": true,
        "id": "BS-OuwW9scUP",
        "jupyter": {
          "outputs_hidden": true
        },
        "outputId": "943d670d-5b41-404f-ff2c-8e4d43c785a3",
        "colab": {
          "base_uri": "https://localhost:8080/"
        }
      },
      "outputs": [
        {
          "output_type": "stream",
          "name": "stdout",
          "text": [
            "Loaded #closed loop trajectory poses records: 300\n",
            "# writing /content/ATEK/examples/data/wds_output/shards-0000.tar 0 0.0 GB 0\n",
            "# writing /content/ATEK/examples/data/wds_output/shards-0001.tar 32 0.0 GB 32\n"
          ]
        },
        {
          "output_type": "stream",
          "name": "stderr",
          "text": [
            "INFO:atek.data_preprocess.general_atek_preprocessor:ATEK has processed 50 valid samples in total.\n"
          ]
        },
        {
          "output_type": "execute_result",
          "data": {
            "text/plain": [
              "50"
            ]
          },
          "metadata": {},
          "execution_count": 19
        }
      ],
      "source": [
        "atek_data_sample = atek_preprocessor[0]\n",
        "atek_data_sample_dict = atek_data_sample.to_flatten_dict()\n",
        "print_data_sample_dict_content(atek_data_sample_dict)\n",
        "\n",
        "# Loop over all samples, and write valid ones to local tar files.\n",
        "atek_preprocessor.process_all_samples(write_to_wds_flag=True, viz_flag=False)"
      ]
    },
    {
      "cell_type": "markdown",
      "metadata": {
        "id": "qDUCTF0gs48Y"
      },
      "source": [
        "## Visualize preprocessed ATEK data sample"
      ]
    },
    {
      "cell_type": "markdown",
      "source": [
        "If you did not see the visualization, please run the following code block again. Sometimes rerun visualization on colab notebook is not stable."
      ],
      "metadata": {
        "id": "WgVjAj4giJ4g"
      }
    },
    {
      "cell_type": "code",
      "execution_count": 20,
      "metadata": {
        "id": "cVCo0il9abVi",
        "outputId": "d318a99e-39c9-4f10-f178-ee3139ffb6c1",
        "colab": {
          "base_uri": "https://localhost:8080/",
          "height": 608,
          "referenced_widgets": [
            "44e1162397464822bc28adca27db0fbe",
            "08719fd3084b4db8a8488287e356d9be"
          ]
        }
      },
      "outputs": [
        {
          "output_type": "stream",
          "name": "stderr",
          "text": [
            "/usr/local/lib/python3.10/dist-packages/webdataset/compat.py:136: UserWarning: WebDataset(shardshuffle=...) is None; set explicitly to False or a number\n",
            "  warnings.warn(\"WebDataset(shardshuffle=...) is None; set explicitly to False or a number\")\n"
          ]
        },
        {
          "output_type": "display_data",
          "data": {
            "text/plain": [
              "Viewer()"
            ],
            "application/vnd.jupyter.widget-view+json": {
              "version_major": 2,
              "version_minor": 0,
              "model_id": "44e1162397464822bc28adca27db0fbe"
            }
          },
          "metadata": {
            "application/vnd.jupyter.widget-view+json": {
              "colab": {
                "custom_widget_manager": {
                  "url": "https://ssl.gstatic.com/colaboratory-static/widgets/colab-cdn-widget-manager/2b70e893a8ba7c0f/manager.min.js"
                }
              }
            }
          }
        },
        {
          "output_type": "stream",
          "name": "stderr",
          "text": [
            "\r0it [00:00, ?it/s]/usr/local/lib/python3.10/dist-packages/webdataset/autodecode.py:121: FutureWarning: You are using `torch.load` with `weights_only=False` (the current default value), which uses the default pickle module implicitly. It is possible to construct malicious pickle data which will execute arbitrary code during unpickling (See https://github.com/pytorch/pytorch/blob/main/SECURITY.md#untrusted-models for more details). In a future release, the default value for `weights_only` will be flipped to `True`. This limits the functions that could be executed during unpickling. Arbitrary objects will no longer be allowed to be loaded via this mode unless they are explicitly allowlisted by the user via `torch.serialization.add_safe_globals`. We recommend you start setting `weights_only=True` for any use case where you don't have full control of the loaded file. Please open an issue on GitHub for any issues related to this experimental feature.\n",
            "  return torch.load(stream)\n",
            "10it [00:14,  1.45s/it]\n"
          ]
        }
      ],
      "source": [
        "tar_file_urls = [os.path.join(output_wds_path, f\"shards-000{i}.tar\") for i in range(2)]\n",
        "atek_dataloader = create_native_atek_dataloader(urls = tar_file_urls, batch_size = None, num_workers = 1)\n",
        "atek_viz = NativeAtekSampleVisualizer(viz_prefix = \"notebook atek viz\", show_on_notebook = True, conf = viz_conf)\n",
        "for atek_sample in tqdm(islice(atek_dataloader, 10)):\n",
        "    atek_viz.plot_atek_sample_as_dict(atek_sample)"
      ]
    },
    {
      "cell_type": "code",
      "source": [
        "atek_sample.keys()"
      ],
      "metadata": {
        "id": "-kQo97VIJfxM",
        "outputId": "ba3bc809-6f16-4f77-f88f-77a5b5b14f30",
        "colab": {
          "base_uri": "https://localhost:8080/"
        }
      },
      "execution_count": 23,
      "outputs": [
        {
          "output_type": "execute_result",
          "data": {
            "text/plain": [
              "dict_keys(['__key__', '__url__', '__local_path__', 'gt_data', 'mfcd#camera-rgb+camera_label', 'mfcd#camera-rgb+camera_model_name', 'mfcd#camera-rgb+capture_timestamps_ns', 'mfcd#camera-rgb+exposure_durations_s', 'mfcd#camera-rgb+frame_ids', 'mfcd#camera-rgb+gains', 'mfcd#camera-rgb+origin_camera_label', 'mfcd#camera-rgb+projection_params', 'mfcd#camera-rgb+t_device_camera', 'mtd#capture_timestamps_ns', 'mtd#gravity_in_world', 'mtd#ts_world_device', 'sequence_name', 'mfcd#camera-rgb+images'])"
            ]
          },
          "metadata": {},
          "execution_count": 23
        }
      ]
    },
    {
      "cell_type": "code",
      "source": [
        "atek_sample[\"mfcd#camera-rgb+camera_model_name\"]"
      ],
      "metadata": {
        "id": "cNUxxj7qJ5yF",
        "outputId": "a384ba93-a99e-41d3-cebf-72376d6dc041",
        "colab": {
          "base_uri": "https://localhost:8080/",
          "height": 35
        }
      },
      "execution_count": 28,
      "outputs": [
        {
          "output_type": "execute_result",
          "data": {
            "text/plain": [
              "'CameraModelType.FISHEYE624'"
            ],
            "application/vnd.google.colaboratory.intrinsic+json": {
              "type": "string"
            }
          },
          "metadata": {},
          "execution_count": 28
        }
      ]
    },
    {
      "cell_type": "code",
      "source": [
        "atek_sample[\"mfcd#camera-rgb+projection_params\"].shape"
      ],
      "metadata": {
        "id": "qv4k2qRcJtwf",
        "outputId": "40208ead-1959-4853-9849-bda3c88d415e",
        "colab": {
          "base_uri": "https://localhost:8080/"
        }
      },
      "execution_count": 26,
      "outputs": [
        {
          "output_type": "execute_result",
          "data": {
            "text/plain": [
              "torch.Size([15])"
            ]
          },
          "metadata": {},
          "execution_count": 26
        }
      ]
    },
    {
      "cell_type": "code",
      "source": [
        "# [f c_u c_v {k_0 ... k_5} {p_0 p_1} {s_0 s_1 s_2 s_3}]"
      ],
      "metadata": {
        "id": "Voxb59HnKJi2"
      },
      "execution_count": null,
      "outputs": []
    },
    {
      "cell_type": "markdown",
      "metadata": {
        "id": "LVbIgzI6jciw"
      },
      "source": [
        "# Part 2: Run Object detection inference using pre-trained CubeRCNN model\n",
        "In this example, we demonstrate how to run model inference with preprocessed ATEK data streamed from Data Store."
      ]
    },
    {
      "cell_type": "markdown",
      "metadata": {
        "id": "J2tOwBZ8k4cp"
      },
      "source": [
        "### Create PyTorch DataLoader, converted to CubeRCNN format\n",
        "User can add a data transform function from ATEK format -> CubeRCNN format:\n",
        "1. Dict key remapping.\n",
        "2. Tensor reshaping & reordering.\n",
        "3. Other data transformations.\n",
        "\n",
        "Example data transform function for CubeRCNN model: [src code](https://www.internalfb.com/code/fbsource/[a5c3831c045bc718862d1c512e84d4ed6f79d722]/fbcode/surreal/data_services/atek/atek/data_loaders/cubercnn_model_adaptor.py?lines=44-74)"
      ]
    },
    {
      "cell_type": "code",
      "execution_count": 21,
      "metadata": {
        "collapsed": true,
        "id": "i7GgyyaWZvFB",
        "jupyter": {
          "outputs_hidden": true
        },
        "outputId": "e45db235-a6c3-40d2-cd0f-50b5223e7519",
        "colab": {
          "base_uri": "https://localhost:8080/",
          "height": 637
        }
      },
      "outputs": [
        {
          "output_type": "stream",
          "name": "stderr",
          "text": [
            "/usr/local/lib/python3.10/dist-packages/webdataset/autodecode.py:121: FutureWarning: You are using `torch.load` with `weights_only=False` (the current default value), which uses the default pickle module implicitly. It is possible to construct malicious pickle data which will execute arbitrary code during unpickling (See https://github.com/pytorch/pytorch/blob/main/SECURITY.md#untrusted-models for more details). In a future release, the default value for `weights_only` will be flipped to `True`. This limits the functions that could be executed during unpickling. Arbitrary objects will no longer be allowed to be loaded via this mode unless they are explicitly allowlisted by the user via `torch.serialization.add_safe_globals`. We recommend you start setting `weights_only=True` for any use case where you don't have full control of the loaded file. Please open an issue on GitHub for any issues related to this experimental feature.\n",
            "  return torch.load(stream)\n"
          ]
        },
        {
          "output_type": "error",
          "ename": "AssertionError",
          "evalue": "Caught AssertionError in DataLoader worker process 0.\nOriginal Traceback (most recent call last):\n  File \"/usr/local/lib/python3.10/dist-packages/torch/utils/data/_utils/worker.py\", line 351, in _worker_loop\n    data = fetcher.fetch(index)  # type: ignore[possibly-undefined]\n  File \"/usr/local/lib/python3.10/dist-packages/torch/utils/data/_utils/fetch.py\", line 42, in fetch\n    data = next(self.dataset_iter)\n  File \"/usr/local/lib/python3.10/dist-packages/webdataset/pipeline.py\", line 71, in iterator\n    for sample in self.iterator1():\n  File \"/usr/local/lib/python3.10/dist-packages/webdataset/filters.py\", line 490, in _batched\n    for sample in data:\n  File \"/usr/local/lib/python3.10/dist-packages/atek/data_loaders/cubercnn_model_adaptor.py\", line 65, in atek_to_cubercnn\n    self._update_camera_data_in_sample(atek_wds_sample, sample)\n  File \"/usr/local/lib/python3.10/dist-packages/atek/data_loaders/cubercnn_model_adaptor.py\", line 85, in _update_camera_data_in_sample\n    camera_model == \"CameraModelType.LINEAR\"\nAssertionError: Only linear camera model supported in CubeRCNN model, this data has CameraModelType.FISHEYE624 instead.\n",
          "traceback": [
            "\u001b[0;31m---------------------------------------------------------------------------\u001b[0m",
            "\u001b[0;31mAssertionError\u001b[0m                            Traceback (most recent call last)",
            "\u001b[0;32m/tmp/ipykernel_1817/804070372.py\u001b[0m in \u001b[0;36m<cell line: 8>\u001b[0;34m()\u001b[0m\n\u001b[1;32m      6\u001b[0m \u001b[0;31m# The CubeRCNN ModelAdaptor class is wrapped in this function\u001b[0m\u001b[0;34m\u001b[0m\u001b[0;34m\u001b[0m\u001b[0m\n\u001b[1;32m      7\u001b[0m \u001b[0mcubercnn_dataloader\u001b[0m \u001b[0;34m=\u001b[0m \u001b[0mcreate_atek_dataloader_as_cubercnn\u001b[0m\u001b[0;34m(\u001b[0m\u001b[0murls\u001b[0m \u001b[0;34m=\u001b[0m \u001b[0mtar_file_urls\u001b[0m\u001b[0;34m,\u001b[0m \u001b[0mbatch_size\u001b[0m \u001b[0;34m=\u001b[0m \u001b[0;36m1\u001b[0m\u001b[0;34m,\u001b[0m \u001b[0mnum_workers\u001b[0m \u001b[0;34m=\u001b[0m \u001b[0;36m1\u001b[0m\u001b[0;34m)\u001b[0m\u001b[0;34m\u001b[0m\u001b[0;34m\u001b[0m\u001b[0m\n\u001b[0;32m----> 8\u001b[0;31m \u001b[0mfirst_cubercnn_sample\u001b[0m \u001b[0;34m=\u001b[0m \u001b[0mnext\u001b[0m\u001b[0;34m(\u001b[0m\u001b[0miter\u001b[0m\u001b[0;34m(\u001b[0m\u001b[0mcubercnn_dataloader\u001b[0m\u001b[0;34m)\u001b[0m\u001b[0;34m)\u001b[0m\u001b[0;34m\u001b[0m\u001b[0;34m\u001b[0m\u001b[0m\n\u001b[0m\u001b[1;32m      9\u001b[0m \u001b[0mlogger\u001b[0m\u001b[0;34m.\u001b[0m\u001b[0minfo\u001b[0m\u001b[0;34m(\u001b[0m\u001b[0;34mf\"Loading WDS into CubeRCNN format, each sample contains the following keys: {first_cubercnn_sample[0].keys()}\"\u001b[0m\u001b[0;34m)\u001b[0m\u001b[0;34m\u001b[0m\u001b[0;34m\u001b[0m\u001b[0m\n",
            "\u001b[0;32m/usr/local/lib/python3.10/dist-packages/torch/utils/data/dataloader.py\u001b[0m in \u001b[0;36m__next__\u001b[0;34m(self)\u001b[0m\n\u001b[1;32m    699\u001b[0m                 \u001b[0;31m# TODO(https://github.com/pytorch/pytorch/issues/76750)\u001b[0m\u001b[0;34m\u001b[0m\u001b[0;34m\u001b[0m\u001b[0m\n\u001b[1;32m    700\u001b[0m                 \u001b[0mself\u001b[0m\u001b[0;34m.\u001b[0m\u001b[0m_reset\u001b[0m\u001b[0;34m(\u001b[0m\u001b[0;34m)\u001b[0m  \u001b[0;31m# type: ignore[call-arg]\u001b[0m\u001b[0;34m\u001b[0m\u001b[0;34m\u001b[0m\u001b[0m\n\u001b[0;32m--> 701\u001b[0;31m             \u001b[0mdata\u001b[0m \u001b[0;34m=\u001b[0m \u001b[0mself\u001b[0m\u001b[0;34m.\u001b[0m\u001b[0m_next_data\u001b[0m\u001b[0;34m(\u001b[0m\u001b[0;34m)\u001b[0m\u001b[0;34m\u001b[0m\u001b[0;34m\u001b[0m\u001b[0m\n\u001b[0m\u001b[1;32m    702\u001b[0m             \u001b[0mself\u001b[0m\u001b[0;34m.\u001b[0m\u001b[0m_num_yielded\u001b[0m \u001b[0;34m+=\u001b[0m \u001b[0;36m1\u001b[0m\u001b[0;34m\u001b[0m\u001b[0;34m\u001b[0m\u001b[0m\n\u001b[1;32m    703\u001b[0m             if (\n",
            "\u001b[0;32m/usr/local/lib/python3.10/dist-packages/torch/utils/data/dataloader.py\u001b[0m in \u001b[0;36m_next_data\u001b[0;34m(self)\u001b[0m\n\u001b[1;32m   1463\u001b[0m             \u001b[0;32melse\u001b[0m\u001b[0;34m:\u001b[0m\u001b[0;34m\u001b[0m\u001b[0;34m\u001b[0m\u001b[0m\n\u001b[1;32m   1464\u001b[0m                 \u001b[0;32mdel\u001b[0m \u001b[0mself\u001b[0m\u001b[0;34m.\u001b[0m\u001b[0m_task_info\u001b[0m\u001b[0;34m[\u001b[0m\u001b[0midx\u001b[0m\u001b[0;34m]\u001b[0m\u001b[0;34m\u001b[0m\u001b[0;34m\u001b[0m\u001b[0m\n\u001b[0;32m-> 1465\u001b[0;31m                 \u001b[0;32mreturn\u001b[0m \u001b[0mself\u001b[0m\u001b[0;34m.\u001b[0m\u001b[0m_process_data\u001b[0m\u001b[0;34m(\u001b[0m\u001b[0mdata\u001b[0m\u001b[0;34m)\u001b[0m\u001b[0;34m\u001b[0m\u001b[0;34m\u001b[0m\u001b[0m\n\u001b[0m\u001b[1;32m   1466\u001b[0m \u001b[0;34m\u001b[0m\u001b[0m\n\u001b[1;32m   1467\u001b[0m     \u001b[0;32mdef\u001b[0m \u001b[0m_try_put_index\u001b[0m\u001b[0;34m(\u001b[0m\u001b[0mself\u001b[0m\u001b[0;34m)\u001b[0m\u001b[0;34m:\u001b[0m\u001b[0;34m\u001b[0m\u001b[0;34m\u001b[0m\u001b[0m\n",
            "\u001b[0;32m/usr/local/lib/python3.10/dist-packages/torch/utils/data/dataloader.py\u001b[0m in \u001b[0;36m_process_data\u001b[0;34m(self, data)\u001b[0m\n\u001b[1;32m   1489\u001b[0m         \u001b[0mself\u001b[0m\u001b[0;34m.\u001b[0m\u001b[0m_try_put_index\u001b[0m\u001b[0;34m(\u001b[0m\u001b[0;34m)\u001b[0m\u001b[0;34m\u001b[0m\u001b[0;34m\u001b[0m\u001b[0m\n\u001b[1;32m   1490\u001b[0m         \u001b[0;32mif\u001b[0m \u001b[0misinstance\u001b[0m\u001b[0;34m(\u001b[0m\u001b[0mdata\u001b[0m\u001b[0;34m,\u001b[0m \u001b[0mExceptionWrapper\u001b[0m\u001b[0;34m)\u001b[0m\u001b[0;34m:\u001b[0m\u001b[0;34m\u001b[0m\u001b[0;34m\u001b[0m\u001b[0m\n\u001b[0;32m-> 1491\u001b[0;31m             \u001b[0mdata\u001b[0m\u001b[0;34m.\u001b[0m\u001b[0mreraise\u001b[0m\u001b[0;34m(\u001b[0m\u001b[0;34m)\u001b[0m\u001b[0;34m\u001b[0m\u001b[0;34m\u001b[0m\u001b[0m\n\u001b[0m\u001b[1;32m   1492\u001b[0m         \u001b[0;32mreturn\u001b[0m \u001b[0mdata\u001b[0m\u001b[0;34m\u001b[0m\u001b[0;34m\u001b[0m\u001b[0m\n\u001b[1;32m   1493\u001b[0m \u001b[0;34m\u001b[0m\u001b[0m\n",
            "\u001b[0;32m/usr/local/lib/python3.10/dist-packages/torch/_utils.py\u001b[0m in \u001b[0;36mreraise\u001b[0;34m(self)\u001b[0m\n\u001b[1;32m    713\u001b[0m             \u001b[0;31m# instantiate since we don't know how to\u001b[0m\u001b[0;34m\u001b[0m\u001b[0;34m\u001b[0m\u001b[0m\n\u001b[1;32m    714\u001b[0m             \u001b[0;32mraise\u001b[0m \u001b[0mRuntimeError\u001b[0m\u001b[0;34m(\u001b[0m\u001b[0mmsg\u001b[0m\u001b[0;34m)\u001b[0m \u001b[0;32mfrom\u001b[0m \u001b[0;32mNone\u001b[0m\u001b[0;34m\u001b[0m\u001b[0;34m\u001b[0m\u001b[0m\n\u001b[0;32m--> 715\u001b[0;31m         \u001b[0;32mraise\u001b[0m \u001b[0mexception\u001b[0m\u001b[0;34m\u001b[0m\u001b[0;34m\u001b[0m\u001b[0m\n\u001b[0m\u001b[1;32m    716\u001b[0m \u001b[0;34m\u001b[0m\u001b[0m\n\u001b[1;32m    717\u001b[0m \u001b[0;34m\u001b[0m\u001b[0m\n",
            "\u001b[0;31mAssertionError\u001b[0m: Caught AssertionError in DataLoader worker process 0.\nOriginal Traceback (most recent call last):\n  File \"/usr/local/lib/python3.10/dist-packages/torch/utils/data/_utils/worker.py\", line 351, in _worker_loop\n    data = fetcher.fetch(index)  # type: ignore[possibly-undefined]\n  File \"/usr/local/lib/python3.10/dist-packages/torch/utils/data/_utils/fetch.py\", line 42, in fetch\n    data = next(self.dataset_iter)\n  File \"/usr/local/lib/python3.10/dist-packages/webdataset/pipeline.py\", line 71, in iterator\n    for sample in self.iterator1():\n  File \"/usr/local/lib/python3.10/dist-packages/webdataset/filters.py\", line 490, in _batched\n    for sample in data:\n  File \"/usr/local/lib/python3.10/dist-packages/atek/data_loaders/cubercnn_model_adaptor.py\", line 65, in atek_to_cubercnn\n    self._update_camera_data_in_sample(atek_wds_sample, sample)\n  File \"/usr/local/lib/python3.10/dist-packages/atek/data_loaders/cubercnn_model_adaptor.py\", line 85, in _update_camera_data_in_sample\n    camera_model == \"CameraModelType.LINEAR\"\nAssertionError: Only linear camera model supported in CubeRCNN model, this data has CameraModelType.FISHEYE624 instead.\n"
          ]
        }
      ],
      "source": [
        "import logging\n",
        "logger = logging.getLogger()\n",
        "logger.info(\n",
        "    \"-------------------- ATEK WDS data can loaded into Model-specific format --------------- \"\n",
        ")\n",
        "# The CubeRCNN ModelAdaptor class is wrapped in this function\n",
        "cubercnn_dataloader = create_atek_dataloader_as_cubercnn(urls = tar_file_urls, batch_size = 1, num_workers = 1)\n",
        "first_cubercnn_sample = next(iter(cubercnn_dataloader))\n",
        "logger.info(f\"Loading WDS into CubeRCNN format, each sample contains the following keys: {first_cubercnn_sample[0].keys()}\")"
      ]
    },
    {
      "cell_type": "markdown",
      "metadata": {
        "id": "pWyaUUQPk6Te"
      },
      "source": [
        "### Run model inference"
      ]
    },
    {
      "cell_type": "code",
      "execution_count": null,
      "metadata": {
        "id": "-0RWOhlrjaKE"
      },
      "outputs": [],
      "source": [
        "from tqdm import tqdm\n",
        "model_ckpt_path = \"/content/data/model_weights/ATEK_example_cubercnn_weights_trained_on_ADT\"\n",
        "# load pre-trained CubeRCNN model\n",
        "model_config_file = os.path.join(model_ckpt_path, \"config.yaml\")\n",
        "conf = OmegaConf.load(model_config_file)\n",
        "\n",
        "# setup config and model\n",
        "model_config, model = create_inference_model(\n",
        "    model_config_file, model_ckpt_path, use_cpu_only = True\n",
        ")\n",
        "\n",
        "# Cache inference results for visualization\n",
        "input_output_data_pairs = []\n",
        "\n",
        "# Loop over created Pytorch Dataloader, only 5 batches for demonstration\n",
        "with torch.no_grad():\n",
        "    for cubercnn_input_data in tqdm(\n",
        "       islice(cubercnn_dataloader, 5),\n",
        "        desc=\"Inference progress: \",\n",
        "    ):\n",
        "        cubercnn_model_output = model(cubercnn_input_data)\n",
        "\n",
        "        # cache inference results for visualization\n",
        "        input_output_data_pairs.append((cubercnn_input_data, cubercnn_model_output))\n",
        "\n",
        "logger.info(\"Inference completed.\")"
      ]
    },
    {
      "cell_type": "markdown",
      "metadata": {
        "id": "uKegL5oFtEK-"
      },
      "source": [
        "## Visualize inference result\n",
        "\n",
        "If you did not see the visualization, please run the following code block again. Sometimes rerun visualization on colab notebook is not stable."
      ]
    },
    {
      "cell_type": "code",
      "execution_count": null,
      "metadata": {
        "collapsed": true,
        "id": "SHTdX-AxkZR_",
        "jupyter": {
          "outputs_hidden": true
        }
      },
      "outputs": [],
      "source": [
        "from atek.viz.cubercnn_visualizer import CubercnnVisualizer\n",
        "\n",
        "# Visualize cached inference results\n",
        "logger.info(\"Visualizing inference results.\")\n",
        "cubercnn_visualizer = CubercnnVisualizer(viz_prefix = \"inference_visualizer\", show_on_notebook = True, conf = viz_conf)\n",
        "for input_data_as_list, output_data_as_list in input_output_data_pairs:\n",
        "    for single_cubercnn_input, single_cubercnn_output in zip(input_data_as_list, output_data_as_list):\n",
        "        timestamp_ns = single_cubercnn_input[\"timestamp_ns\"]\n",
        "        # Plot RGB image\n",
        "        cubercnn_visualizer.plot_cubercnn_img(single_cubercnn_input[\"image\"], timestamp_ns = timestamp_ns)\n",
        "\n",
        "        # Plot GT and prediction in different colors\n",
        "        single_cubercnn_output[\"T_world_camera\"] = single_cubercnn_input[\"T_world_camera\"] # This patch is needed for visualization\n",
        "        cubercnn_visualizer.plot_cubercnn_dict(cubercnn_dict = single_cubercnn_input, timestamp_ns = timestamp_ns, plot_color = cubercnn_visualizer.COLOR_GREEN, suffix = \"_model_input\")\n",
        "        cubercnn_visualizer.plot_cubercnn_dict(cubercnn_dict = single_cubercnn_output, timestamp_ns = timestamp_ns, plot_color = cubercnn_visualizer.COLOR_RED, suffix = \"_model_output\")"
      ]
    },
    {
      "cell_type": "markdown",
      "metadata": {
        "id": "Ttd-XYROmW1E"
      },
      "source": [
        "## Part 3: Evaluate model performance\n",
        "ATEK provides **per-task**:\n",
        "1. Standardized prediction file formats.\n",
        "2. Lib for common eval metrics.\n",
        "3. Benchmarking scripts.\n",
        "\n",
        "Example prediction file format for 3D object detection:\n",
        "\n",
        "| time_ns       | tx_world_object | ty_world_object | tz_world_object | qw_world_object | qx_world_object | qy_world_object | qz_world_object | scale_x | scale_y | scale_z | name    | instance | sem_id | prob    |\n",
        "|---------------|-----------------|-----------------|-----------------|-----------------|-----------------|-----------------|-----------------|---------|---------|---------|---------|----------|--------|--------|\n",
        "| 14588033546600| -4.119894       | 0.986124        | 2.796770        | 0.008052        | -0.022706       | -0.010150       | 0.999658        | 0.190   | 2.146   | 0.900   | door    | -1       | 32     | 0.994462|\n",
        "| 14588033546600| -3.875954       | 0.837941        | 4.056602        | 0.009215        | -0.015670       | 0.999661        | -0.018645       | 0.325   | 1.697   | 0.964   | display | -1       | 37     | 0.994381|"
      ]
    },
    {
      "cell_type": "markdown",
      "metadata": {
        "id": "ISxm_8RqmdIt"
      },
      "source": [
        "### Write inference results into ATEK-format csv files\n"
      ]
    },
    {
      "cell_type": "code",
      "execution_count": null,
      "metadata": {
        "id": "AU9azyidmVUG"
      },
      "outputs": [],
      "source": [
        "from atek.evaluation.static_object_detection.obb3_csv_io import AtekObb3CsvWriter\n",
        "data_dir = \"/content/data\"\n",
        "os.makedirs(data_dir, exist_ok = True)\n",
        "\n",
        "gt_writer = AtekObb3CsvWriter(output_filename = os.path.join(data_dir, \"gt_obbs.csv\"))\n",
        "prediction_writer = AtekObb3CsvWriter(output_filename = os.path.join(data_dir, \"prediction_obbs.csv\"))\n",
        "\n",
        "for input_data_as_list, output_data_as_list in input_output_data_pairs:\n",
        "    for single_cubercnn_input, single_cubercnn_output in zip(input_data_as_list, output_data_as_list):\n",
        "        timestamp_ns = single_cubercnn_input[\"timestamp_ns\"]\n",
        "        single_cubercnn_output[\"T_world_camera\"] = single_cubercnn_input[\"T_world_camera\"]\n",
        "\n",
        "        gt_writer.write_from_cubercnn_dict(cubercnn_dict = single_cubercnn_input, timestamp_ns = timestamp_ns)\n",
        "        prediction_writer.write_from_cubercnn_dict(cubercnn_dict = single_cubercnn_output, timestamp_ns = timestamp_ns)\n",
        "logger.info(\"Finished writing obb csv files\")"
      ]
    },
    {
      "cell_type": "markdown",
      "metadata": {
        "id": "oUmOT3t8mq2n"
      },
      "source": [
        "### Call ATEK's benchmarking script to evaluate the results"
      ]
    },
    {
      "cell_type": "code",
      "execution_count": null,
      "metadata": {
        "id": "6snS7A2NmVEW"
      },
      "outputs": [],
      "source": [
        "benchmarking_command = [\n",
        "    \"python3\", f\"{atek_src_path}/tools/benchmarking_static_object_detection.py\",\n",
        "    \"--pred-csv\", f\"{data_dir}/prediction_obbs.csv\",\n",
        "    \"--gt-csv\", f\"{data_dir}/gt_obbs.csv\",\n",
        "    \"--output-file\", f\"{data_dir}/atek_metrics.json\"\n",
        "]\n",
        "return_code = run_command_and_display_output(benchmarking_command)"
      ]
    }
  ],
  "metadata": {
    "colab": {
      "provenance": [],
      "gpuType": "T4",
      "include_colab_link": true
    },
    "kernelspec": {
      "display_name": "Python 3",
      "name": "python3"
    },
    "language_info": {
      "codemirror_mode": {
        "name": "ipython",
        "version": 3
      },
      "file_extension": ".py",
      "mimetype": "text/x-python",
      "name": "python",
      "nbconvert_exporter": "python",
      "pygments_lexer": "ipython3",
      "version": "3.9.19"
    },
    "accelerator": "GPU",
    "widgets": {
      "application/vnd.jupyter.widget-state+json": {
        "44e1162397464822bc28adca27db0fbe": {
          "model_module": "anywidget",
          "model_name": "AnyModel",
          "model_module_version": "~0.9.*",
          "state": {
            "_anywidget_id": "rerun_notebook.Viewer",
            "_css": "/* src/js/widget.css */\n.rerun_notebook canvas {\n  width: 100%;\n  height: 100%;\n  min-width: 200px;\n  min-height: 400px;\n  max-width: 960px;\n  max-height: 720px;\n}\n.rerun_notebook {\n  margin: 0;\n  padding: 0;\n  width: 100%;\n  height: 100%;\n  background: transparent !important;\n}\ndiv.cell-output-ipywidget-background {\n  margin: 0;\n  padding: 0;\n  background: transparent !important;\n}\n",
            "_dom_classes": [],
            "_esm": "https://app.rerun.io/version/0.19.0/widget.js",
            "_height": 480,
            "_model_module": "anywidget",
            "_model_module_version": "~0.9.*",
            "_model_name": "AnyModel",
            "_panel_states": null,
            "_url": null,
            "_view_count": null,
            "_view_module": "anywidget",
            "_view_module_version": "~0.9.*",
            "_view_name": "AnyView",
            "_width": 640,
            "layout": "IPY_MODEL_08719fd3084b4db8a8488287e356d9be"
          }
        },
        "08719fd3084b4db8a8488287e356d9be": {
          "model_module": "@jupyter-widgets/base",
          "model_name": "LayoutModel",
          "model_module_version": "1.2.0",
          "state": {
            "_model_module": "@jupyter-widgets/base",
            "_model_module_version": "1.2.0",
            "_model_name": "LayoutModel",
            "_view_count": null,
            "_view_module": "@jupyter-widgets/base",
            "_view_module_version": "1.2.0",
            "_view_name": "LayoutView",
            "align_content": null,
            "align_items": null,
            "align_self": null,
            "border": null,
            "bottom": null,
            "display": null,
            "flex": null,
            "flex_flow": null,
            "grid_area": null,
            "grid_auto_columns": null,
            "grid_auto_flow": null,
            "grid_auto_rows": null,
            "grid_column": null,
            "grid_gap": null,
            "grid_row": null,
            "grid_template_areas": null,
            "grid_template_columns": null,
            "grid_template_rows": null,
            "height": null,
            "justify_content": null,
            "justify_items": null,
            "left": null,
            "margin": null,
            "max_height": null,
            "max_width": null,
            "min_height": null,
            "min_width": null,
            "object_fit": null,
            "object_position": null,
            "order": null,
            "overflow": null,
            "overflow_x": null,
            "overflow_y": null,
            "padding": null,
            "right": null,
            "top": null,
            "visibility": null,
            "width": null
          }
        }
      }
    }
  },
  "nbformat": 4,
  "nbformat_minor": 0
}