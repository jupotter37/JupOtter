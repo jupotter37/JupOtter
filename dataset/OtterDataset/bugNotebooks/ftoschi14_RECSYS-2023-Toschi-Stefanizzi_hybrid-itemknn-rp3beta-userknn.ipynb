{
 "cells": [
  {
   "cell_type": "markdown",
   "metadata": {},
   "source": [
    "# Setting-up environment"
   ]
  },
  {
   "cell_type": "code",
   "execution_count": 1,
   "metadata": {
    "execution": {
     "iopub.execute_input": "2023-11-30T14:24:10.882346Z",
     "iopub.status.busy": "2023-11-30T14:24:10.881740Z",
     "iopub.status.idle": "2023-11-30T14:24:18.971784Z",
     "shell.execute_reply": "2023-11-30T14:24:18.970230Z",
     "shell.execute_reply.started": "2023-11-30T14:24:10.882220Z"
    }
   },
   "outputs": [
    {
     "name": "stdout",
     "output_type": "stream",
     "text": [
      "Cloning into 'RecSys_Course_AT_PoliMi'...\n",
      "remote: Enumerating objects: 1499, done.\u001b[K\n",
      "remote: Counting objects: 100% (244/244), done.\u001b[K\n",
      "remote: Compressing objects: 100% (142/142), done.\u001b[K\n",
      "remote: Total 1499 (delta 113), reused 231 (delta 100), pack-reused 1255\u001b[K\n",
      "Receiving objects: 100% (1499/1499), 50.98 MiB | 12.26 MiB/s, done.\n",
      "Resolving deltas: 100% (844/844), done.\n"
     ]
    }
   ],
   "source": [
    "!git clone https://github.com/MaurizioFD/RecSys_Course_AT_PoliMi"
   ]
  },
  {
   "cell_type": "code",
   "execution_count": 2,
   "metadata": {
    "execution": {
     "iopub.execute_input": "2023-11-30T14:24:20.125863Z",
     "iopub.status.busy": "2023-11-30T14:24:20.125390Z",
     "iopub.status.idle": "2023-11-30T14:24:21.236616Z",
     "shell.execute_reply": "2023-11-30T14:24:21.235296Z",
     "shell.execute_reply.started": "2023-11-30T14:24:20.125822Z"
    }
   },
   "outputs": [],
   "source": [
    "!mv RecSys_Course_AT_PoliMi/* /kaggle/working/"
   ]
  },
  {
   "cell_type": "code",
   "execution_count": 3,
   "metadata": {
    "execution": {
     "iopub.execute_input": "2023-11-30T14:24:21.239793Z",
     "iopub.status.busy": "2023-11-30T14:24:21.239378Z",
     "iopub.status.idle": "2023-11-30T14:27:43.609927Z",
     "shell.execute_reply": "2023-11-30T14:27:43.607588Z",
     "shell.execute_reply.started": "2023-11-30T14:24:21.239753Z"
    },
    "scrolled": true
   },
   "outputs": [
    {
     "name": "stdout",
     "output_type": "stream",
     "text": [
      "Collecting Cython==0.29.23\n",
      "  Downloading Cython-0.29.23-cp37-cp37m-manylinux1_x86_64.whl (2.0 MB)\n",
      "\u001b[2K     \u001b[90m━━━━━━━━━━━━━━━━━━━━━━━━━━━━━━━━━━━━━━━━\u001b[0m \u001b[32m2.0/2.0 MB\u001b[0m \u001b[31m35.8 MB/s\u001b[0m eta \u001b[36m0:00:00\u001b[0m00:01\u001b[0m\n",
      "\u001b[?25hCollecting h5py==3.1.0\n",
      "  Downloading h5py-3.1.0-cp37-cp37m-manylinux1_x86_64.whl (4.0 MB)\n",
      "\u001b[2K     \u001b[90m━━━━━━━━━━━━━━━━━━━━━━━━━━━━━━━━━━━━━━━━\u001b[0m \u001b[32m4.0/4.0 MB\u001b[0m \u001b[31m58.7 MB/s\u001b[0m eta \u001b[36m0:00:00\u001b[0m:00:01\u001b[0m\n",
      "\u001b[?25hCollecting nltk==3.6.1\n",
      "  Downloading nltk-3.6.1-py3-none-any.whl (1.5 MB)\n",
      "\u001b[2K     \u001b[90m━━━━━━━━━━━━━━━━━━━━━━━━━━━━━━━━━━━━━━━━\u001b[0m \u001b[32m1.5/1.5 MB\u001b[0m \u001b[31m51.1 MB/s\u001b[0m eta \u001b[36m0:00:00\u001b[0m\n",
      "\u001b[?25hRequirement already satisfied: nose==1.3.7 in /opt/conda/lib/python3.7/site-packages (from -r requirements.txt (line 4)) (1.3.7)\n",
      "Requirement already satisfied: numpy>=1.19 in /opt/conda/lib/python3.7/site-packages (from -r requirements.txt (line 5)) (1.21.6)\n",
      "Collecting pandas==1.2.4\n",
      "  Downloading pandas-1.2.4-cp37-cp37m-manylinux1_x86_64.whl (9.9 MB)\n",
      "\u001b[2K     \u001b[90m━━━━━━━━━━━━━━━━━━━━━━━━━━━━━━━━━━━━━━━━\u001b[0m \u001b[32m9.9/9.9 MB\u001b[0m \u001b[31m62.2 MB/s\u001b[0m eta \u001b[36m0:00:00\u001b[0m:00:01\u001b[0m00:01\u001b[0m\n",
      "\u001b[?25hCollecting scikit-learn==0.24.1\n",
      "  Downloading scikit_learn-0.24.1-cp37-cp37m-manylinux2010_x86_64.whl (22.3 MB)\n",
      "\u001b[2K     \u001b[90m━━━━━━━━━━━━━━━━━━━━━━━━━━━━━━━━━━━━━━━━\u001b[0m \u001b[32m22.3/22.3 MB\u001b[0m \u001b[31m43.7 MB/s\u001b[0m eta \u001b[36m0:00:00\u001b[0m00:01\u001b[0m00:01\u001b[0m\n",
      "\u001b[?25hCollecting scikit-optimize==0.8.1\n",
      "  Downloading scikit_optimize-0.8.1-py2.py3-none-any.whl (101 kB)\n",
      "\u001b[2K     \u001b[90m━━━━━━━━━━━━━━━━━━━━━━━━━━━━━━━━━━━━━━━\u001b[0m \u001b[32m101.2/101.2 kB\u001b[0m \u001b[31m9.6 MB/s\u001b[0m eta \u001b[36m0:00:00\u001b[0m\n",
      "\u001b[?25hCollecting scipy==1.6.2\n",
      "  Downloading scipy-1.6.2-cp37-cp37m-manylinux1_x86_64.whl (27.4 MB)\n",
      "\u001b[2K     \u001b[90m━━━━━━━━━━━━━━━━━━━━━━━━━━━━━━━━━━━━━━━━\u001b[0m \u001b[32m27.4/27.4 MB\u001b[0m \u001b[31m36.6 MB/s\u001b[0m eta \u001b[36m0:00:00\u001b[0m00:01\u001b[0m00:01\u001b[0m\n",
      "\u001b[?25hCollecting tqdm==4.59.0\n",
      "  Downloading tqdm-4.59.0-py2.py3-none-any.whl (74 kB)\n",
      "\u001b[2K     \u001b[90m━━━━━━━━━━━━━━━━━━━━━━━━━━━━━━━━━━━━━━━━\u001b[0m \u001b[32m74.1/74.1 kB\u001b[0m \u001b[31m7.2 MB/s\u001b[0m eta \u001b[36m0:00:00\u001b[0m\n",
      "\u001b[?25hRequirement already satisfied: lightfm==1.16 in /opt/conda/lib/python3.7/site-packages (from -r requirements.txt (line 11)) (1.16)\n",
      "Collecting RISE==5.6.1\n",
      "  Downloading rise-5.6.1-py2.py3-none-any.whl (4.0 MB)\n",
      "\u001b[2K     \u001b[90m━━━━━━━━━━━━━━━━━━━━━━━━━━━━━━━━━━━━━━━━\u001b[0m \u001b[32m4.0/4.0 MB\u001b[0m \u001b[31m12.5 MB/s\u001b[0m eta \u001b[36m0:00:00\u001b[0ma \u001b[36m0:00:01\u001b[0mm\n",
      "\u001b[?25hCollecting torch==1.7.0\n",
      "  Downloading torch-1.7.0-cp37-cp37m-manylinux1_x86_64.whl (776.7 MB)\n",
      "\u001b[2K     \u001b[90m━━━━━━━━━━━━━━━━━━━━━━━━━━━━━━━━━━━━━━━\u001b[0m \u001b[32m776.7/776.7 MB\u001b[0m \u001b[31m1.4 MB/s\u001b[0m eta \u001b[36m0:00:00\u001b[0m00:01\u001b[0m00:01\u001b[0m\n",
      "\u001b[?25hCollecting jupyter-contrib-nbextensions==0.5.1\n",
      "  Downloading jupyter_contrib_nbextensions-0.5.1-py2.py3-none-any.whl (20.9 MB)\n",
      "\u001b[2K     \u001b[90m━━━━━━━━━━━━━━━━━━━━━━━━━━━━━━━━━━━━━━━━\u001b[0m \u001b[32m20.9/20.9 MB\u001b[0m \u001b[31m48.0 MB/s\u001b[0m eta \u001b[36m0:00:00\u001b[0m00:01\u001b[0m00:01\u001b[0m\n",
      "\u001b[?25hCollecting tensorflow==2.8.0\n",
      "  Downloading tensorflow-2.8.0-cp37-cp37m-manylinux2010_x86_64.whl (497.5 MB)\n",
      "\u001b[2K     \u001b[90m━━━━━━━━━━━━━━━━━━━━━━━━━━━━━━━━━━━━━━━\u001b[0m \u001b[32m497.5/497.5 MB\u001b[0m \u001b[31m1.4 MB/s\u001b[0m eta \u001b[36m0:00:00\u001b[0m00:01\u001b[0m00:01\u001b[0m\n",
      "\u001b[?25hRequirement already satisfied: tables==3.7.0 in /opt/conda/lib/python3.7/site-packages (from -r requirements.txt (line 16)) (3.7.0)\n",
      "Requirement already satisfied: cached-property in /opt/conda/lib/python3.7/site-packages (from h5py==3.1.0->-r requirements.txt (line 2)) (1.5.2)\n",
      "Requirement already satisfied: joblib in /opt/conda/lib/python3.7/site-packages (from nltk==3.6.1->-r requirements.txt (line 3)) (1.0.1)\n",
      "Requirement already satisfied: click in /opt/conda/lib/python3.7/site-packages (from nltk==3.6.1->-r requirements.txt (line 3)) (8.0.4)\n",
      "Requirement already satisfied: regex in /opt/conda/lib/python3.7/site-packages (from nltk==3.6.1->-r requirements.txt (line 3)) (2021.11.10)\n",
      "Requirement already satisfied: pytz>=2017.3 in /opt/conda/lib/python3.7/site-packages (from pandas==1.2.4->-r requirements.txt (line 6)) (2022.1)\n",
      "Requirement already satisfied: python-dateutil>=2.7.3 in /opt/conda/lib/python3.7/site-packages (from pandas==1.2.4->-r requirements.txt (line 6)) (2.8.2)\n",
      "Requirement already satisfied: threadpoolctl>=2.0.0 in /opt/conda/lib/python3.7/site-packages (from scikit-learn==0.24.1->-r requirements.txt (line 7)) (3.1.0)\n",
      "Requirement already satisfied: pyaml>=16.9 in /opt/conda/lib/python3.7/site-packages (from scikit-optimize==0.8.1->-r requirements.txt (line 8)) (21.10.1)\n",
      "Requirement already satisfied: requests in /opt/conda/lib/python3.7/site-packages (from lightfm==1.16->-r requirements.txt (line 11)) (2.28.1)\n",
      "Requirement already satisfied: notebook>=5.5.0 in /opt/conda/lib/python3.7/site-packages (from RISE==5.6.1->-r requirements.txt (line 12)) (6.4.12)\n",
      "Requirement already satisfied: typing-extensions in /opt/conda/lib/python3.7/site-packages (from torch==1.7.0->-r requirements.txt (line 13)) (4.1.1)\n",
      "Requirement already satisfied: dataclasses in /opt/conda/lib/python3.7/site-packages (from torch==1.7.0->-r requirements.txt (line 13)) (0.8)\n",
      "Requirement already satisfied: future in /opt/conda/lib/python3.7/site-packages (from torch==1.7.0->-r requirements.txt (line 13)) (0.18.2)\n",
      "Requirement already satisfied: jupyter-core in /opt/conda/lib/python3.7/site-packages (from jupyter-contrib-nbextensions==0.5.1->-r requirements.txt (line 14)) (4.10.0)\n",
      "Requirement already satisfied: nbconvert>=4.2 in /opt/conda/lib/python3.7/site-packages (from jupyter-contrib-nbextensions==0.5.1->-r requirements.txt (line 14)) (6.4.5)\n",
      "Collecting jupyter-contrib-core>=0.3.3\n",
      "  Downloading jupyter_contrib_core-0.4.2.tar.gz (17 kB)\n",
      "  Preparing metadata (setup.py) ... \u001b[?25ldone\n",
      "\u001b[?25hCollecting jupyter-highlight-selected-word>=0.1.1\n",
      "  Downloading jupyter_highlight_selected_word-0.2.0-py2.py3-none-any.whl (11 kB)\n",
      "Requirement already satisfied: pyyaml in /opt/conda/lib/python3.7/site-packages (from jupyter-contrib-nbextensions==0.5.1->-r requirements.txt (line 14)) (6.0)\n",
      "Requirement already satisfied: traitlets>=4.1 in /opt/conda/lib/python3.7/site-packages (from jupyter-contrib-nbextensions==0.5.1->-r requirements.txt (line 14)) (5.3.0)\n",
      "Requirement already satisfied: ipython-genutils in /opt/conda/lib/python3.7/site-packages (from jupyter-contrib-nbextensions==0.5.1->-r requirements.txt (line 14)) (0.2.0)\n",
      "Collecting jupyter-latex-envs>=1.3.8\n",
      "  Downloading jupyter_latex_envs-1.4.6.tar.gz (861 kB)\n",
      "\u001b[2K     \u001b[90m━━━━━━━━━━━━━━━━━━━━━━━━━━━━━━━━━━━━━━\u001b[0m \u001b[32m861.7/861.7 kB\u001b[0m \u001b[31m38.0 MB/s\u001b[0m eta \u001b[36m0:00:00\u001b[0m\n",
      "\u001b[?25h  Preparing metadata (setup.py) ... \u001b[?25ldone\n",
      "\u001b[?25hRequirement already satisfied: tornado in /opt/conda/lib/python3.7/site-packages (from jupyter-contrib-nbextensions==0.5.1->-r requirements.txt (line 14)) (6.1)\n",
      "Collecting jupyter-nbextensions-configurator>=0.4.0\n",
      "  Downloading jupyter_nbextensions_configurator-0.6.3-py2.py3-none-any.whl (466 kB)\n",
      "\u001b[2K     \u001b[90m━━━━━━━━━━━━━━━━━━━━━━━━━━━━━━━━━━━━━━\u001b[0m \u001b[32m466.9/466.9 kB\u001b[0m \u001b[31m31.6 MB/s\u001b[0m eta \u001b[36m0:00:00\u001b[0m\n",
      "\u001b[?25hRequirement already satisfied: lxml in /opt/conda/lib/python3.7/site-packages (from jupyter-contrib-nbextensions==0.5.1->-r requirements.txt (line 14)) (4.9.1)\n",
      "Requirement already satisfied: absl-py>=0.4.0 in /opt/conda/lib/python3.7/site-packages (from tensorflow==2.8.0->-r requirements.txt (line 15)) (0.15.0)\n",
      "Requirement already satisfied: keras-preprocessing>=1.1.1 in /opt/conda/lib/python3.7/site-packages (from tensorflow==2.8.0->-r requirements.txt (line 15)) (1.1.2)\n",
      "Requirement already satisfied: setuptools in /opt/conda/lib/python3.7/site-packages (from tensorflow==2.8.0->-r requirements.txt (line 15)) (59.8.0)\n",
      "Collecting tensorboard<2.9,>=2.8\n",
      "  Downloading tensorboard-2.8.0-py3-none-any.whl (5.8 MB)\n",
      "\u001b[2K     \u001b[90m━━━━━━━━━━━━━━━━━━━━━━━━━━━━━━━━━━━━━━━━\u001b[0m \u001b[32m5.8/5.8 MB\u001b[0m \u001b[31m66.3 MB/s\u001b[0m eta \u001b[36m0:00:00\u001b[0m:00:01\u001b[0m00:01\u001b[0m\n",
      "\u001b[?25hRequirement already satisfied: opt-einsum>=2.3.2 in /opt/conda/lib/python3.7/site-packages (from tensorflow==2.8.0->-r requirements.txt (line 15)) (3.3.0)\n",
      "Requirement already satisfied: protobuf>=3.9.2 in /opt/conda/lib/python3.7/site-packages (from tensorflow==2.8.0->-r requirements.txt (line 15)) (3.19.4)\n",
      "Requirement already satisfied: google-pasta>=0.1.1 in /opt/conda/lib/python3.7/site-packages (from tensorflow==2.8.0->-r requirements.txt (line 15)) (0.2.0)\n",
      "Collecting tensorflow-io-gcs-filesystem>=0.23.1\n",
      "  Downloading tensorflow_io_gcs_filesystem-0.34.0-cp37-cp37m-manylinux_2_12_x86_64.manylinux2010_x86_64.whl (2.4 MB)\n",
      "\u001b[2K     \u001b[90m━━━━━━━━━━━━━━━━━━━━━━━━━━━━━━━━━━━━━━━━\u001b[0m \u001b[32m2.4/2.4 MB\u001b[0m \u001b[31m64.1 MB/s\u001b[0m eta \u001b[36m0:00:00\u001b[0m:00:01\u001b[0m\n",
      "\u001b[?25hRequirement already satisfied: six>=1.12.0 in /opt/conda/lib/python3.7/site-packages (from tensorflow==2.8.0->-r requirements.txt (line 15)) (1.15.0)\n",
      "Requirement already satisfied: wrapt>=1.11.0 in /opt/conda/lib/python3.7/site-packages (from tensorflow==2.8.0->-r requirements.txt (line 15)) (1.12.1)\n",
      "Requirement already satisfied: termcolor>=1.1.0 in /opt/conda/lib/python3.7/site-packages (from tensorflow==2.8.0->-r requirements.txt (line 15)) (1.1.0)\n",
      "Requirement already satisfied: astunparse>=1.6.0 in /opt/conda/lib/python3.7/site-packages (from tensorflow==2.8.0->-r requirements.txt (line 15)) (1.6.3)\n",
      "Collecting keras<2.9,>=2.8.0rc0\n",
      "  Downloading keras-2.8.0-py2.py3-none-any.whl (1.4 MB)\n",
      "\u001b[2K     \u001b[90m━━━━━━━━━━━━━━━━━━━━━━━━━━━━━━━━━━━━━━━━\u001b[0m \u001b[32m1.4/1.4 MB\u001b[0m \u001b[31m56.3 MB/s\u001b[0m eta \u001b[36m0:00:00\u001b[0m\n",
      "\u001b[?25hRequirement already satisfied: gast>=0.2.1 in /opt/conda/lib/python3.7/site-packages (from tensorflow==2.8.0->-r requirements.txt (line 15)) (0.4.0)\n",
      "Requirement already satisfied: flatbuffers>=1.12 in /opt/conda/lib/python3.7/site-packages (from tensorflow==2.8.0->-r requirements.txt (line 15)) (1.12)\n",
      "Collecting libclang>=9.0.1\n",
      "  Downloading libclang-16.0.6-py2.py3-none-manylinux2010_x86_64.whl (22.9 MB)\n",
      "\u001b[2K     \u001b[90m━━━━━━━━━━━━━━━━━━━━━━━━━━━━━━━━━━━━━━━━\u001b[0m \u001b[32m22.9/22.9 MB\u001b[0m \u001b[31m50.2 MB/s\u001b[0m eta \u001b[36m0:00:00\u001b[0m00:01\u001b[0m00:01\u001b[0m\n",
      "\u001b[?25hCollecting tf-estimator-nightly==2.8.0.dev2021122109\n",
      "  Downloading tf_estimator_nightly-2.8.0.dev2021122109-py2.py3-none-any.whl (462 kB)\n",
      "\u001b[2K     \u001b[90m━━━━━━━━━━━━━━━━━━━━━━━━━━━━━━━━━━━━━━\u001b[0m \u001b[32m462.5/462.5 kB\u001b[0m \u001b[31m32.9 MB/s\u001b[0m eta \u001b[36m0:00:00\u001b[0m\n",
      "\u001b[?25hRequirement already satisfied: grpcio<2.0,>=1.24.3 in /opt/conda/lib/python3.7/site-packages (from tensorflow==2.8.0->-r requirements.txt (line 15)) (1.47.0)\n",
      "Requirement already satisfied: packaging in /opt/conda/lib/python3.7/site-packages (from tables==3.7.0->-r requirements.txt (line 16)) (21.3)\n",
      "Requirement already satisfied: numexpr>=2.6.2 in /opt/conda/lib/python3.7/site-packages (from tables==3.7.0->-r requirements.txt (line 16)) (2.8.4)\n",
      "Requirement already satisfied: wheel<1.0,>=0.23.0 in /opt/conda/lib/python3.7/site-packages (from astunparse>=1.6.0->tensorflow==2.8.0->-r requirements.txt (line 15)) (0.37.1)\n",
      "Requirement already satisfied: ipython in /opt/conda/lib/python3.7/site-packages (from jupyter-latex-envs>=1.3.8->jupyter-contrib-nbextensions==0.5.1->-r requirements.txt (line 14)) (7.33.0)\n",
      "Requirement already satisfied: beautifulsoup4 in /opt/conda/lib/python3.7/site-packages (from nbconvert>=4.2->jupyter-contrib-nbextensions==0.5.1->-r requirements.txt (line 14)) (4.11.1)\n",
      "Requirement already satisfied: jupyterlab-pygments in /opt/conda/lib/python3.7/site-packages (from nbconvert>=4.2->jupyter-contrib-nbextensions==0.5.1->-r requirements.txt (line 14)) (0.2.2)\n",
      "Requirement already satisfied: pygments>=2.4.1 in /opt/conda/lib/python3.7/site-packages (from nbconvert>=4.2->jupyter-contrib-nbextensions==0.5.1->-r requirements.txt (line 14)) (2.12.0)\n",
      "Requirement already satisfied: nbformat>=4.4 in /opt/conda/lib/python3.7/site-packages (from nbconvert>=4.2->jupyter-contrib-nbextensions==0.5.1->-r requirements.txt (line 14)) (5.4.0)\n",
      "Requirement already satisfied: entrypoints>=0.2.2 in /opt/conda/lib/python3.7/site-packages (from nbconvert>=4.2->jupyter-contrib-nbextensions==0.5.1->-r requirements.txt (line 14)) (0.4)\n",
      "Requirement already satisfied: testpath in /opt/conda/lib/python3.7/site-packages (from nbconvert>=4.2->jupyter-contrib-nbextensions==0.5.1->-r requirements.txt (line 14)) (0.6.0)\n",
      "Requirement already satisfied: bleach in /opt/conda/lib/python3.7/site-packages (from nbconvert>=4.2->jupyter-contrib-nbextensions==0.5.1->-r requirements.txt (line 14)) (5.0.1)\n",
      "Requirement already satisfied: MarkupSafe>=2.0 in /opt/conda/lib/python3.7/site-packages (from nbconvert>=4.2->jupyter-contrib-nbextensions==0.5.1->-r requirements.txt (line 14)) (2.1.1)\n",
      "Requirement already satisfied: mistune<2,>=0.8.1 in /opt/conda/lib/python3.7/site-packages (from nbconvert>=4.2->jupyter-contrib-nbextensions==0.5.1->-r requirements.txt (line 14)) (0.8.4)\n",
      "Requirement already satisfied: nbclient<0.6.0,>=0.5.0 in /opt/conda/lib/python3.7/site-packages (from nbconvert>=4.2->jupyter-contrib-nbextensions==0.5.1->-r requirements.txt (line 14)) (0.5.13)\n",
      "Requirement already satisfied: defusedxml in /opt/conda/lib/python3.7/site-packages (from nbconvert>=4.2->jupyter-contrib-nbextensions==0.5.1->-r requirements.txt (line 14)) (0.7.1)\n",
      "Requirement already satisfied: pandocfilters>=1.4.1 in /opt/conda/lib/python3.7/site-packages (from nbconvert>=4.2->jupyter-contrib-nbextensions==0.5.1->-r requirements.txt (line 14)) (1.5.0)\n",
      "Requirement already satisfied: jinja2>=2.4 in /opt/conda/lib/python3.7/site-packages (from nbconvert>=4.2->jupyter-contrib-nbextensions==0.5.1->-r requirements.txt (line 14)) (3.1.2)\n",
      "Requirement already satisfied: nest-asyncio>=1.5 in /opt/conda/lib/python3.7/site-packages (from notebook>=5.5.0->RISE==5.6.1->-r requirements.txt (line 12)) (1.5.5)\n",
      "Requirement already satisfied: argon2-cffi in /opt/conda/lib/python3.7/site-packages (from notebook>=5.5.0->RISE==5.6.1->-r requirements.txt (line 12)) (21.3.0)\n",
      "Requirement already satisfied: prometheus-client in /opt/conda/lib/python3.7/site-packages (from notebook>=5.5.0->RISE==5.6.1->-r requirements.txt (line 12)) (0.14.1)\n",
      "Requirement already satisfied: ipykernel in /opt/conda/lib/python3.7/site-packages (from notebook>=5.5.0->RISE==5.6.1->-r requirements.txt (line 12)) (6.15.0)\n",
      "Requirement already satisfied: terminado>=0.8.3 in /opt/conda/lib/python3.7/site-packages (from notebook>=5.5.0->RISE==5.6.1->-r requirements.txt (line 12)) (0.15.0)\n",
      "Requirement already satisfied: jupyter-client>=5.3.4 in /opt/conda/lib/python3.7/site-packages (from notebook>=5.5.0->RISE==5.6.1->-r requirements.txt (line 12)) (7.3.4)\n",
      "Requirement already satisfied: Send2Trash>=1.8.0 in /opt/conda/lib/python3.7/site-packages (from notebook>=5.5.0->RISE==5.6.1->-r requirements.txt (line 12)) (1.8.0)\n",
      "Requirement already satisfied: pyzmq>=17 in /opt/conda/lib/python3.7/site-packages (from notebook>=5.5.0->RISE==5.6.1->-r requirements.txt (line 12)) (23.2.0)\n",
      "Requirement already satisfied: tensorboard-data-server<0.7.0,>=0.6.0 in /opt/conda/lib/python3.7/site-packages (from tensorboard<2.9,>=2.8->tensorflow==2.8.0->-r requirements.txt (line 15)) (0.6.1)\n",
      "Requirement already satisfied: tensorboard-plugin-wit>=1.6.0 in /opt/conda/lib/python3.7/site-packages (from tensorboard<2.9,>=2.8->tensorflow==2.8.0->-r requirements.txt (line 15)) (1.8.1)\n",
      "Requirement already satisfied: werkzeug>=0.11.15 in /opt/conda/lib/python3.7/site-packages (from tensorboard<2.9,>=2.8->tensorflow==2.8.0->-r requirements.txt (line 15)) (2.2.2)\n",
      "Requirement already satisfied: google-auth<3,>=1.6.3 in /opt/conda/lib/python3.7/site-packages (from tensorboard<2.9,>=2.8->tensorflow==2.8.0->-r requirements.txt (line 15)) (1.35.0)\n",
      "Requirement already satisfied: google-auth-oauthlib<0.5,>=0.4.1 in /opt/conda/lib/python3.7/site-packages (from tensorboard<2.9,>=2.8->tensorflow==2.8.0->-r requirements.txt (line 15)) (0.4.6)\n",
      "Requirement already satisfied: markdown>=2.6.8 in /opt/conda/lib/python3.7/site-packages (from tensorboard<2.9,>=2.8->tensorflow==2.8.0->-r requirements.txt (line 15)) (3.3.7)\n",
      "Requirement already satisfied: urllib3<1.27,>=1.21.1 in /opt/conda/lib/python3.7/site-packages (from requests->lightfm==1.16->-r requirements.txt (line 11)) (1.26.13)\n",
      "Requirement already satisfied: certifi>=2017.4.17 in /opt/conda/lib/python3.7/site-packages (from requests->lightfm==1.16->-r requirements.txt (line 11)) (2022.9.24)\n",
      "Requirement already satisfied: charset-normalizer<3,>=2 in /opt/conda/lib/python3.7/site-packages (from requests->lightfm==1.16->-r requirements.txt (line 11)) (2.1.0)\n",
      "Requirement already satisfied: idna<4,>=2.5 in /opt/conda/lib/python3.7/site-packages (from requests->lightfm==1.16->-r requirements.txt (line 11)) (3.3)\n",
      "Requirement already satisfied: importlib-metadata in /opt/conda/lib/python3.7/site-packages (from click->nltk==3.6.1->-r requirements.txt (line 3)) (4.13.0)\n",
      "Requirement already satisfied: pyparsing!=3.0.5,>=2.0.2 in /opt/conda/lib/python3.7/site-packages (from packaging->tables==3.7.0->-r requirements.txt (line 16)) (3.0.9)\n",
      "Requirement already satisfied: rsa<5,>=3.1.4 in /opt/conda/lib/python3.7/site-packages (from google-auth<3,>=1.6.3->tensorboard<2.9,>=2.8->tensorflow==2.8.0->-r requirements.txt (line 15)) (4.8)\n",
      "Requirement already satisfied: pyasn1-modules>=0.2.1 in /opt/conda/lib/python3.7/site-packages (from google-auth<3,>=1.6.3->tensorboard<2.9,>=2.8->tensorflow==2.8.0->-r requirements.txt (line 15)) (0.2.7)\n",
      "Requirement already satisfied: cachetools<5.0,>=2.0.0 in /opt/conda/lib/python3.7/site-packages (from google-auth<3,>=1.6.3->tensorboard<2.9,>=2.8->tensorflow==2.8.0->-r requirements.txt (line 15)) (4.2.4)\n",
      "Requirement already satisfied: requests-oauthlib>=0.7.0 in /opt/conda/lib/python3.7/site-packages (from google-auth-oauthlib<0.5,>=0.4.1->tensorboard<2.9,>=2.8->tensorflow==2.8.0->-r requirements.txt (line 15)) (1.3.1)\n",
      "Requirement already satisfied: zipp>=0.5 in /opt/conda/lib/python3.7/site-packages (from importlib-metadata->click->nltk==3.6.1->-r requirements.txt (line 3)) (3.8.0)\n",
      "Requirement already satisfied: jsonschema>=2.6 in /opt/conda/lib/python3.7/site-packages (from nbformat>=4.4->nbconvert>=4.2->jupyter-contrib-nbextensions==0.5.1->-r requirements.txt (line 14)) (4.6.1)\n",
      "Requirement already satisfied: fastjsonschema in /opt/conda/lib/python3.7/site-packages (from nbformat>=4.4->nbconvert>=4.2->jupyter-contrib-nbextensions==0.5.1->-r requirements.txt (line 14)) (2.15.3)\n",
      "Requirement already satisfied: ptyprocess in /opt/conda/lib/python3.7/site-packages (from terminado>=0.8.3->notebook>=5.5.0->RISE==5.6.1->-r requirements.txt (line 12)) (0.7.0)\n",
      "Requirement already satisfied: argon2-cffi-bindings in /opt/conda/lib/python3.7/site-packages (from argon2-cffi->notebook>=5.5.0->RISE==5.6.1->-r requirements.txt (line 12)) (21.2.0)\n",
      "Requirement already satisfied: soupsieve>1.2 in /opt/conda/lib/python3.7/site-packages (from beautifulsoup4->nbconvert>=4.2->jupyter-contrib-nbextensions==0.5.1->-r requirements.txt (line 14)) (2.3.1)\n",
      "Requirement already satisfied: webencodings in /opt/conda/lib/python3.7/site-packages (from bleach->nbconvert>=4.2->jupyter-contrib-nbextensions==0.5.1->-r requirements.txt (line 14)) (0.5.1)\n",
      "Requirement already satisfied: debugpy>=1.0 in /opt/conda/lib/python3.7/site-packages (from ipykernel->notebook>=5.5.0->RISE==5.6.1->-r requirements.txt (line 12)) (1.6.0)\n",
      "Requirement already satisfied: psutil in /opt/conda/lib/python3.7/site-packages (from ipykernel->notebook>=5.5.0->RISE==5.6.1->-r requirements.txt (line 12)) (5.9.1)\n",
      "Requirement already satisfied: matplotlib-inline>=0.1 in /opt/conda/lib/python3.7/site-packages (from ipykernel->notebook>=5.5.0->RISE==5.6.1->-r requirements.txt (line 12)) (0.1.3)\n",
      "Requirement already satisfied: decorator in /opt/conda/lib/python3.7/site-packages (from ipython->jupyter-latex-envs>=1.3.8->jupyter-contrib-nbextensions==0.5.1->-r requirements.txt (line 14)) (5.1.1)\n",
      "Requirement already satisfied: backcall in /opt/conda/lib/python3.7/site-packages (from ipython->jupyter-latex-envs>=1.3.8->jupyter-contrib-nbextensions==0.5.1->-r requirements.txt (line 14)) (0.2.0)\n",
      "Requirement already satisfied: pickleshare in /opt/conda/lib/python3.7/site-packages (from ipython->jupyter-latex-envs>=1.3.8->jupyter-contrib-nbextensions==0.5.1->-r requirements.txt (line 14)) (0.7.5)\n",
      "Requirement already satisfied: prompt-toolkit!=3.0.0,!=3.0.1,<3.1.0,>=2.0.0 in /opt/conda/lib/python3.7/site-packages (from ipython->jupyter-latex-envs>=1.3.8->jupyter-contrib-nbextensions==0.5.1->-r requirements.txt (line 14)) (3.0.30)\n",
      "Requirement already satisfied: pexpect>4.3 in /opt/conda/lib/python3.7/site-packages (from ipython->jupyter-latex-envs>=1.3.8->jupyter-contrib-nbextensions==0.5.1->-r requirements.txt (line 14)) (4.8.0)\n",
      "Requirement already satisfied: jedi>=0.16 in /opt/conda/lib/python3.7/site-packages (from ipython->jupyter-latex-envs>=1.3.8->jupyter-contrib-nbextensions==0.5.1->-r requirements.txt (line 14)) (0.18.1)\n",
      "Requirement already satisfied: parso<0.9.0,>=0.8.0 in /opt/conda/lib/python3.7/site-packages (from jedi>=0.16->ipython->jupyter-latex-envs>=1.3.8->jupyter-contrib-nbextensions==0.5.1->-r requirements.txt (line 14)) (0.8.3)\n",
      "Requirement already satisfied: pyrsistent!=0.17.0,!=0.17.1,!=0.17.2,>=0.14.0 in /opt/conda/lib/python3.7/site-packages (from jsonschema>=2.6->nbformat>=4.4->nbconvert>=4.2->jupyter-contrib-nbextensions==0.5.1->-r requirements.txt (line 14)) (0.18.1)\n",
      "Requirement already satisfied: attrs>=17.4.0 in /opt/conda/lib/python3.7/site-packages (from jsonschema>=2.6->nbformat>=4.4->nbconvert>=4.2->jupyter-contrib-nbextensions==0.5.1->-r requirements.txt (line 14)) (21.4.0)\n",
      "Requirement already satisfied: importlib-resources>=1.4.0 in /opt/conda/lib/python3.7/site-packages (from jsonschema>=2.6->nbformat>=4.4->nbconvert>=4.2->jupyter-contrib-nbextensions==0.5.1->-r requirements.txt (line 14)) (5.8.0)\n",
      "Requirement already satisfied: wcwidth in /opt/conda/lib/python3.7/site-packages (from prompt-toolkit!=3.0.0,!=3.0.1,<3.1.0,>=2.0.0->ipython->jupyter-latex-envs>=1.3.8->jupyter-contrib-nbextensions==0.5.1->-r requirements.txt (line 14)) (0.2.5)\n",
      "Requirement already satisfied: pyasn1<0.5.0,>=0.4.6 in /opt/conda/lib/python3.7/site-packages (from pyasn1-modules>=0.2.1->google-auth<3,>=1.6.3->tensorboard<2.9,>=2.8->tensorflow==2.8.0->-r requirements.txt (line 15)) (0.4.8)\n",
      "Requirement already satisfied: oauthlib>=3.0.0 in /opt/conda/lib/python3.7/site-packages (from requests-oauthlib>=0.7.0->google-auth-oauthlib<0.5,>=0.4.1->tensorboard<2.9,>=2.8->tensorflow==2.8.0->-r requirements.txt (line 15)) (3.2.0)\n",
      "Requirement already satisfied: cffi>=1.0.1 in /opt/conda/lib/python3.7/site-packages (from argon2-cffi-bindings->argon2-cffi->notebook>=5.5.0->RISE==5.6.1->-r requirements.txt (line 12)) (1.15.0)\n",
      "Requirement already satisfied: pycparser in /opt/conda/lib/python3.7/site-packages (from cffi>=1.0.1->argon2-cffi-bindings->argon2-cffi->notebook>=5.5.0->RISE==5.6.1->-r requirements.txt (line 12)) (2.21)\n",
      "Building wheels for collected packages: jupyter-contrib-core, jupyter-latex-envs\n",
      "  Building wheel for jupyter-contrib-core (setup.py) ... \u001b[?25ldone\n",
      "\u001b[?25h  Created wheel for jupyter-contrib-core: filename=jupyter_contrib_core-0.4.2-py2.py3-none-any.whl size=17490 sha256=0a29b42f28e9d38fa63e56c143c166ed3c9bd7e5b9686f703c41184f5dec89b1\n",
      "  Stored in directory: /root/.cache/pip/wheels/79/cf/67/d2c1aab9313f1ac5f23e30485ff8cccbb062b3a77c00df2b2d\n",
      "  Building wheel for jupyter-latex-envs (setup.py) ... \u001b[?25ldone\n",
      "\u001b[?25h  Created wheel for jupyter-latex-envs: filename=jupyter_latex_envs-1.4.6-py2.py3-none-any.whl size=963415 sha256=09e7dcac3a8e0ea6a9d220e60ef2bd4defb1aa205d0d04d82655cebfb3bb142c\n",
      "  Stored in directory: /root/.cache/pip/wheels/a0/95/26/4cf34fb92765c95fb7851fd447511594bcc3a50e504bd09af9\n",
      "Successfully built jupyter-contrib-core jupyter-latex-envs\n",
      "Installing collected packages: tf-estimator-nightly, libclang, keras, jupyter-highlight-selected-word, tqdm, torch, tensorflow-io-gcs-filesystem, scipy, h5py, Cython, scikit-learn, pandas, scikit-optimize, nltk, tensorboard, tensorflow, RISE, jupyter-latex-envs, jupyter-contrib-core, jupyter-nbextensions-configurator, jupyter-contrib-nbextensions\n",
      "  Attempting uninstall: keras\n",
      "    Found existing installation: keras 2.6.0\n",
      "    Uninstalling keras-2.6.0:\n",
      "      Successfully uninstalled keras-2.6.0\n",
      "  Attempting uninstall: tqdm\n",
      "    Found existing installation: tqdm 4.64.0\n",
      "    Uninstalling tqdm-4.64.0:\n",
      "      Successfully uninstalled tqdm-4.64.0\n",
      "  Attempting uninstall: torch\n",
      "    Found existing installation: torch 1.11.0+cpu\n",
      "    Uninstalling torch-1.11.0+cpu:\n",
      "      Successfully uninstalled torch-1.11.0+cpu\n",
      "  Attempting uninstall: scipy\n",
      "    Found existing installation: scipy 1.7.3\n",
      "    Uninstalling scipy-1.7.3:\n",
      "      Successfully uninstalled scipy-1.7.3\n",
      "  Attempting uninstall: h5py\n",
      "    Found existing installation: h5py 3.7.0\n",
      "    Uninstalling h5py-3.7.0:\n",
      "      Successfully uninstalled h5py-3.7.0\n",
      "  Attempting uninstall: Cython\n",
      "    Found existing installation: Cython 0.29.32\n",
      "    Uninstalling Cython-0.29.32:\n",
      "      Successfully uninstalled Cython-0.29.32\n",
      "  Attempting uninstall: scikit-learn\n",
      "    Found existing installation: scikit-learn 1.0.2\n",
      "    Uninstalling scikit-learn-1.0.2:\n",
      "      Successfully uninstalled scikit-learn-1.0.2\n",
      "  Attempting uninstall: pandas\n",
      "    Found existing installation: pandas 1.3.5\n",
      "    Uninstalling pandas-1.3.5:\n",
      "      Successfully uninstalled pandas-1.3.5\n",
      "  Attempting uninstall: scikit-optimize\n",
      "    Found existing installation: scikit-optimize 0.9.0\n",
      "    Uninstalling scikit-optimize-0.9.0:\n",
      "      Successfully uninstalled scikit-optimize-0.9.0\n",
      "  Attempting uninstall: nltk\n",
      "    Found existing installation: nltk 3.7\n",
      "    Uninstalling nltk-3.7:\n",
      "      Successfully uninstalled nltk-3.7\n",
      "  Attempting uninstall: tensorboard\n",
      "    Found existing installation: tensorboard 2.6.0\n",
      "    Uninstalling tensorboard-2.6.0:\n",
      "      Successfully uninstalled tensorboard-2.6.0\n",
      "  Attempting uninstall: tensorflow\n",
      "    Found existing installation: tensorflow 2.6.4\n",
      "    Uninstalling tensorflow-2.6.4:\n",
      "      Successfully uninstalled tensorflow-2.6.4\n",
      "\u001b[31mERROR: pip's dependency resolver does not currently take into account all the packages that are installed. This behaviour is the source of the following dependency conflicts.\n",
      "beatrix-jupyterlab 3.1.7 requires google-cloud-bigquery-storage, which is not installed.\n",
      "yellowbrick 1.5 requires scikit-learn>=1.0.0, but you have scikit-learn 0.24.1 which is incompatible.\n",
      "woodwork 0.16.4 requires pandas<1.4.2,>=1.3.0, but you have pandas 1.2.4 which is incompatible.\n",
      "torchvision 0.12.0+cpu requires torch==1.11.0, but you have torch 1.7.0 which is incompatible.\n",
      "torchtext 0.12.0 requires torch==1.11.0, but you have torch 1.7.0 which is incompatible.\n",
      "torchmetrics 0.11.0 requires torch>=1.8.1, but you have torch 1.7.0 which is incompatible.\n",
      "torchaudio 0.11.0+cpu requires torch==1.11.0, but you have torch 1.7.0 which is incompatible.\n",
      "tfx-bsl 1.9.0 requires google-api-python-client<2,>=1.7.11, but you have google-api-python-client 2.52.0 which is incompatible.\n",
      "tfx-bsl 1.9.0 requires pyarrow<6,>=1, but you have pyarrow 8.0.0 which is incompatible.\n",
      "tfx-bsl 1.9.0 requires tensorflow!=2.0.*,!=2.1.*,!=2.2.*,!=2.3.*,!=2.4.*,!=2.5.*,!=2.6.*,!=2.7.*,!=2.8.*,<3,>=1.15.5, but you have tensorflow 2.8.0 which is incompatible.\n",
      "tensorflow-transform 1.9.0 requires pyarrow<6,>=1, but you have pyarrow 8.0.0 which is incompatible.\n",
      "tensorflow-transform 1.9.0 requires tensorflow!=2.0.*,!=2.1.*,!=2.2.*,!=2.3.*,!=2.4.*,!=2.5.*,!=2.6.*,!=2.7.*,!=2.8.*,<2.10,>=1.15.5, but you have tensorflow 2.8.0 which is incompatible.\n",
      "tensorflow-serving-api 2.9.0 requires tensorflow<3,>=2.9.0, but you have tensorflow 2.8.0 which is incompatible.\n",
      "tensorflow-io 0.21.0 requires tensorflow<2.7.0,>=2.6.0, but you have tensorflow 2.8.0 which is incompatible.\n",
      "tensorflow-io 0.21.0 requires tensorflow-io-gcs-filesystem==0.21.0, but you have tensorflow-io-gcs-filesystem 0.34.0 which is incompatible.\n",
      "pytorch-lightning 1.8.3.post1 requires torch>=1.9.*, but you have torch 1.7.0 which is incompatible.\n",
      "pymc3 3.11.5 requires scipy<1.8.0,>=1.7.3, but you have scipy 1.6.2 which is incompatible.\n",
      "preprocessing 0.1.13 requires nltk==3.2.4, but you have nltk 3.6.1 which is incompatible.\n",
      "pdpbox 0.2.1 requires matplotlib==3.1.1, but you have matplotlib 3.5.3 which is incompatible.\n",
      "pandas-profiling 3.1.0 requires markupsafe~=2.0.1, but you have markupsafe 2.1.1 which is incompatible.\n",
      "optuna 3.0.4 requires scipy<1.9.0,>=1.7.0, but you have scipy 1.6.2 which is incompatible.\n",
      "mlxtend 0.21.0 requires scikit-learn>=1.0.2, but you have scikit-learn 0.24.1 which is incompatible.\n",
      "imbalanced-learn 0.9.0 requires scikit-learn>=1.0.1, but you have scikit-learn 0.24.1 which is incompatible.\n",
      "ibis-framework 2.1.1 requires pandas<2,>=1.2.5, but you have pandas 1.2.4 which is incompatible.\n",
      "gplearn 0.4.2 requires scikit-learn>=1.0.2, but you have scikit-learn 0.24.1 which is incompatible.\n",
      "featuretools 1.11.1 requires pandas>=1.3.0, but you have pandas 1.2.4 which is incompatible.\n",
      "fairscale 0.4.6 requires torch>=1.8.0, but you have torch 1.7.0 which is incompatible.\n",
      "datasets 2.1.0 requires tqdm>=4.62.1, but you have tqdm 4.59.0 which is incompatible.\n",
      "allennlp 2.10.1 requires h5py>=3.6.0, but you have h5py 3.1.0 which is incompatible.\n",
      "allennlp 2.10.1 requires nltk>=3.6.5, but you have nltk 3.6.1 which is incompatible.\n",
      "allennlp 2.10.1 requires scikit-learn>=1.0.1, but you have scikit-learn 0.24.1 which is incompatible.\n",
      "allennlp 2.10.1 requires scipy>=1.7.3, but you have scipy 1.6.2 which is incompatible.\n",
      "allennlp 2.10.1 requires torch<1.13.0,>=1.10.0, but you have torch 1.7.0 which is incompatible.\n",
      "allennlp 2.10.1 requires tqdm>=4.62, but you have tqdm 4.59.0 which is incompatible.\u001b[0m\u001b[31m\n",
      "\u001b[0mSuccessfully installed Cython-0.29.23 RISE-5.6.1 h5py-3.1.0 jupyter-contrib-core-0.4.2 jupyter-contrib-nbextensions-0.5.1 jupyter-highlight-selected-word-0.2.0 jupyter-latex-envs-1.4.6 jupyter-nbextensions-configurator-0.6.3 keras-2.8.0 libclang-16.0.6 nltk-3.6.1 pandas-1.2.4 scikit-learn-0.24.1 scikit-optimize-0.8.1 scipy-1.6.2 tensorboard-2.8.0 tensorflow-2.8.0 tensorflow-io-gcs-filesystem-0.34.0 tf-estimator-nightly-2.8.0.dev2021122109 torch-1.7.0 tqdm-4.59.0\n",
      "\u001b[33mWARNING: Running pip as the 'root' user can result in broken permissions and conflicting behaviour with the system package manager. It is recommended to use a virtual environment instead: https://pip.pypa.io/warnings/venv\u001b[0m\u001b[33m\n",
      "\u001b[0m"
     ]
    }
   ],
   "source": [
    "!pip install -r requirements.txt"
   ]
  },
  {
   "cell_type": "code",
   "execution_count": 4,
   "metadata": {
    "execution": {
     "iopub.execute_input": "2023-11-30T14:27:43.614368Z",
     "iopub.status.busy": "2023-11-30T14:27:43.613012Z",
     "iopub.status.idle": "2023-11-30T14:31:15.477981Z",
     "shell.execute_reply": "2023-11-30T14:31:15.476401Z",
     "shell.execute_reply.started": "2023-11-30T14:27:43.614309Z"
    },
    "scrolled": true
   },
   "outputs": [
    {
     "name": "stdout",
     "output_type": "stream",
     "text": [
      "run_compile_all_cython: Found 10 Cython files in 4 folders...\n",
      "run_compile_all_cython: All files will be compiled using your current python environment: '/opt/conda/bin/python'\n",
      "Compiling [1/10]: MatrixFactorizationImpressions_Cython_Epoch.pyx... \n",
      "In file included from \u001b[01m\u001b[K/opt/conda/lib/python3.7/site-packages/numpy/core/include/numpy/ndarraytypes.h:1969\u001b[m\u001b[K,\n",
      "                 from \u001b[01m\u001b[K/opt/conda/lib/python3.7/site-packages/numpy/core/include/numpy/ndarrayobject.h:12\u001b[m\u001b[K,\n",
      "                 from \u001b[01m\u001b[K/opt/conda/lib/python3.7/site-packages/numpy/core/include/numpy/arrayobject.h:4\u001b[m\u001b[K,\n",
      "                 from \u001b[01m\u001b[KMatrixFactorizationImpressions_Cython_Epoch.c:612\u001b[m\u001b[K:\n",
      "\u001b[01m\u001b[K/opt/conda/lib/python3.7/site-packages/numpy/core/include/numpy/npy_1_7_deprecated_api.h:17:2:\u001b[m\u001b[K \u001b[01;35m\u001b[Kwarning: \u001b[m\u001b[K#warning \"Using deprecated NumPy API, disable it with \" \"#define NPY_NO_DEPRECATED_API NPY_1_7_API_VERSION\" [\u001b[01;35m\u001b[K-Wcpp\u001b[m\u001b[K]\n",
      "   17 | #\u001b[01;35m\u001b[Kwarning\u001b[m\u001b[K \"Using deprecated NumPy API, disable it with \" \\\n",
      "      |  \u001b[01;35m\u001b[K^~~~~~~\u001b[m\u001b[K\n",
      "\u001b[01m\u001b[KMatrixFactorizationImpressions_Cython_Epoch.c:\u001b[m\u001b[K In function ‘\u001b[01m\u001b[K__pyx_f_43MatrixFactorizationImpressions_Cython_Epoch_32MatrixFactorization_Cython_Epoch_sampleBPR_Cython\u001b[m\u001b[K’:\n",
      "\u001b[01m\u001b[KMatrixFactorizationImpressions_Cython_Epoch.c:12613:17:\u001b[m\u001b[K \u001b[01;35m\u001b[Kwarning: \u001b[m\u001b[K‘\u001b[01m\u001b[K__pyx_v_start_pos_impression_items\u001b[m\u001b[K’ may be used uninitialized in this function [\u001b[01;35m\u001b[K-Wmaybe-uninitialized\u001b[m\u001b[K]\n",
      "12613 |       \u001b[01;35m\u001b[K__pyx_t_4 = (__pyx_v_start_pos_impression_items + __pyx_v_index)\u001b[m\u001b[K;\n",
      "      |       \u001b[01;35m\u001b[K~~~~~~~~~~^~~~~~~~~~~~~~~~~~~~~~~~~~~~~~~~~~~~~~~~~~~~~~~~~~~~~~\u001b[m\u001b[K\n",
      "\u001b[01m\u001b[KMatrixFactorizationImpressions_Cython_Epoch.c:\u001b[m\u001b[K In function ‘\u001b[01m\u001b[K__pyx_pf_43MatrixFactorizationImpressions_Cython_Epoch_32MatrixFactorization_Cython_Epoch_10epochIteration_Cython_ASY_SVD_SGD\u001b[m\u001b[K’:\n",
      "\u001b[01m\u001b[KMatrixFactorizationImpressions_Cython_Epoch.c:8591:7:\u001b[m\u001b[K \u001b[01;35m\u001b[Kwarning: \u001b[m\u001b[K‘\u001b[01m\u001b[K__pyx_v_end_pos_seen_items\u001b[m\u001b[K’ may be used uninitialized in this function [\u001b[01;35m\u001b[K-Wmaybe-uninitialized\u001b[m\u001b[K]\n",
      " 8591 |       \u001b[01;35m\u001b[Kfor\u001b[m\u001b[K (__pyx_t_19 = __pyx_v_start_pos_seen_items; __pyx_t_19 < __pyx_t_18; __pyx_t_19+=1) {\n",
      "      |       \u001b[01;35m\u001b[K^~~\u001b[m\u001b[K\n",
      "\u001b[01m\u001b[KMatrixFactorizationImpressions_Cython_Epoch.c:8591:7:\u001b[m\u001b[K \u001b[01;35m\u001b[Kwarning: \u001b[m\u001b[K‘\u001b[01m\u001b[K__pyx_v_start_pos_seen_items\u001b[m\u001b[K’ may be used uninitialized in this function [\u001b[01;35m\u001b[K-Wmaybe-uninitialized\u001b[m\u001b[K]\n",
      "/opt/conda/lib/python3.7/site-packages/Cython/Compiler/Main.py:369: FutureWarning: Cython directive 'language_level' not set, using 2 for now (Py2). This will change in a later release! File: /kaggle/working/Recommenders/MatrixFactorization/Cython/MatrixFactorizationImpressions_Cython_Epoch.pyx\n",
      "  tree = Parsing.p_module(s, pxd, full_module_name)\n",
      "Compiling [1/10]: MatrixFactorizationImpressions_Cython_Epoch.pyx... PASS\n",
      "\n",
      "Compiling [2/10]: MatrixFactorization_Cython_Epoch.pyx... \n",
      "In file included from \u001b[01m\u001b[K/opt/conda/lib/python3.7/site-packages/numpy/core/include/numpy/ndarraytypes.h:1969\u001b[m\u001b[K,\n",
      "                 from \u001b[01m\u001b[K/opt/conda/lib/python3.7/site-packages/numpy/core/include/numpy/ndarrayobject.h:12\u001b[m\u001b[K,\n",
      "                 from \u001b[01m\u001b[K/opt/conda/lib/python3.7/site-packages/numpy/core/include/numpy/arrayobject.h:4\u001b[m\u001b[K,\n",
      "                 from \u001b[01m\u001b[KMatrixFactorization_Cython_Epoch.c:612\u001b[m\u001b[K:\n",
      "\u001b[01m\u001b[K/opt/conda/lib/python3.7/site-packages/numpy/core/include/numpy/npy_1_7_deprecated_api.h:17:2:\u001b[m\u001b[K \u001b[01;35m\u001b[Kwarning: \u001b[m\u001b[K#warning \"Using deprecated NumPy API, disable it with \" \"#define NPY_NO_DEPRECATED_API NPY_1_7_API_VERSION\" [\u001b[01;35m\u001b[K-Wcpp\u001b[m\u001b[K]\n",
      "   17 | #\u001b[01;35m\u001b[Kwarning\u001b[m\u001b[K \"Using deprecated NumPy API, disable it with \" \\\n",
      "      |  \u001b[01;35m\u001b[K^~~~~~~\u001b[m\u001b[K\n",
      "\u001b[01m\u001b[KMatrixFactorization_Cython_Epoch.c:\u001b[m\u001b[K In function ‘\u001b[01m\u001b[K__pyx_pf_32MatrixFactorization_Cython_Epoch_32MatrixFactorization_Cython_Epoch_10epochIteration_Cython_ASY_SVD_SGD\u001b[m\u001b[K’:\n",
      "\u001b[01m\u001b[KMatrixFactorization_Cython_Epoch.c:8640:9:\u001b[m\u001b[K \u001b[01;35m\u001b[Kwarning: \u001b[m\u001b[K‘\u001b[01m\u001b[K__pyx_v_end_pos_seen_items\u001b[m\u001b[K’ may be used uninitialized in this function [\u001b[01;35m\u001b[K-Wmaybe-uninitialized\u001b[m\u001b[K]\n",
      " 8640 |         \u001b[01;35m\u001b[Kfor\u001b[m\u001b[K (__pyx_t_19 = __pyx_v_start_pos_seen_items; __pyx_t_19 < __pyx_t_18; __pyx_t_19+=1) {\n",
      "      |         \u001b[01;35m\u001b[K^~~\u001b[m\u001b[K\n",
      "\u001b[01m\u001b[KMatrixFactorization_Cython_Epoch.c:8640:9:\u001b[m\u001b[K \u001b[01;35m\u001b[Kwarning: \u001b[m\u001b[K‘\u001b[01m\u001b[K__pyx_v_start_pos_seen_items\u001b[m\u001b[K’ may be used uninitialized in this function [\u001b[01;35m\u001b[K-Wmaybe-uninitialized\u001b[m\u001b[K]\n",
      "/opt/conda/lib/python3.7/site-packages/Cython/Compiler/Main.py:369: FutureWarning: Cython directive 'language_level' not set, using 2 for now (Py2). This will change in a later release! File: /kaggle/working/Recommenders/MatrixFactorization/Cython/MatrixFactorization_Cython_Epoch.pyx\n",
      "  tree = Parsing.p_module(s, pxd, full_module_name)\n",
      "Compiling [2/10]: MatrixFactorization_Cython_Epoch.pyx... PASS\n",
      "\n",
      "Compiling [3/10]: Compute_Similarity_Cython.pyx... \n",
      "In file included from \u001b[01m\u001b[K/opt/conda/lib/python3.7/site-packages/numpy/core/include/numpy/ndarraytypes.h:1969\u001b[m\u001b[K,\n",
      "                 from \u001b[01m\u001b[K/opt/conda/lib/python3.7/site-packages/numpy/core/include/numpy/ndarrayobject.h:12\u001b[m\u001b[K,\n",
      "                 from \u001b[01m\u001b[K/opt/conda/lib/python3.7/site-packages/numpy/core/include/numpy/arrayobject.h:4\u001b[m\u001b[K,\n",
      "                 from \u001b[01m\u001b[KCompute_Similarity_Cython.c:612\u001b[m\u001b[K:\n",
      "\u001b[01m\u001b[K/opt/conda/lib/python3.7/site-packages/numpy/core/include/numpy/npy_1_7_deprecated_api.h:17:2:\u001b[m\u001b[K \u001b[01;35m\u001b[Kwarning: \u001b[m\u001b[K#warning \"Using deprecated NumPy API, disable it with \" \"#define NPY_NO_DEPRECATED_API NPY_1_7_API_VERSION\" [\u001b[01;35m\u001b[K-Wcpp\u001b[m\u001b[K]\n",
      "   17 | #\u001b[01;35m\u001b[Kwarning\u001b[m\u001b[K \"Using deprecated NumPy API, disable it with \" \\\n",
      "      |  \u001b[01;35m\u001b[K^~~~~~~\u001b[m\u001b[K\n",
      "/opt/conda/lib/python3.7/site-packages/Cython/Compiler/Main.py:369: FutureWarning: Cython directive 'language_level' not set, using 2 for now (Py2). This will change in a later release! File: /kaggle/working/Recommenders/Similarity/Cython/Compute_Similarity_Cython.pyx\n",
      "  tree = Parsing.p_module(s, pxd, full_module_name)\n",
      "Compiling [3/10]: Compute_Similarity_Cython.pyx... PASS\n",
      "\n",
      "Compiling [4/10]: SLIM_BPR_Cython_Epoch.pyx... \n",
      "warning: SLIM_BPR_Cython_Epoch.pyx:632:34: Non-trivial type declarators in shared declaration (e.g. mix of pointers and values). Each pointer declaration should be on its own line.\n",
      "warning: SLIM_BPR_Cython_Epoch.pyx:632:66: Non-trivial type declarators in shared declaration (e.g. mix of pointers and values). Each pointer declaration should be on its own line.\n",
      "warning: SLIM_BPR_Cython_Epoch.pyx:817:35: Non-trivial type declarators in shared declaration (e.g. mix of pointers and values). Each pointer declaration should be on its own line.\n",
      "warning: SLIM_BPR_Cython_Epoch.pyx:817:52: Non-trivial type declarators in shared declaration (e.g. mix of pointers and values). Each pointer declaration should be on its own line.\n",
      "warning: SLIM_BPR_Cython_Epoch.pyx:916:35: Non-trivial type declarators in shared declaration (e.g. mix of pointers and values). Each pointer declaration should be on its own line.\n",
      "warning: SLIM_BPR_Cython_Epoch.pyx:916:53: Non-trivial type declarators in shared declaration (e.g. mix of pointers and values). Each pointer declaration should be on its own line.\n",
      "warning: SLIM_BPR_Cython_Epoch.pyx:916:69: Non-trivial type declarators in shared declaration (e.g. mix of pointers and values). Each pointer declaration should be on its own line.\n",
      "warning: SLIM_BPR_Cython_Epoch.pyx:1051:35: Non-trivial type declarators in shared declaration (e.g. mix of pointers and values). Each pointer declaration should be on its own line.\n",
      "warning: SLIM_BPR_Cython_Epoch.pyx:1051:42: Non-trivial type declarators in shared declaration (e.g. mix of pointers and values). Each pointer declaration should be on its own line.\n",
      "warning: SLIM_BPR_Cython_Epoch.pyx:1052:35: Non-trivial type declarators in shared declaration (e.g. mix of pointers and values). Each pointer declaration should be on its own line.\n",
      "warning: SLIM_BPR_Cython_Epoch.pyx:1052:53: Non-trivial type declarators in shared declaration (e.g. mix of pointers and values). Each pointer declaration should be on its own line.\n",
      "In file included from \u001b[01m\u001b[K/opt/conda/lib/python3.7/site-packages/numpy/core/include/numpy/ndarraytypes.h:1969\u001b[m\u001b[K,\n",
      "                 from \u001b[01m\u001b[K/opt/conda/lib/python3.7/site-packages/numpy/core/include/numpy/ndarrayobject.h:12\u001b[m\u001b[K,\n",
      "                 from \u001b[01m\u001b[K/opt/conda/lib/python3.7/site-packages/numpy/core/include/numpy/arrayobject.h:4\u001b[m\u001b[K,\n",
      "                 from \u001b[01m\u001b[KSLIM_BPR_Cython_Epoch.c:612\u001b[m\u001b[K:\n",
      "\u001b[01m\u001b[K/opt/conda/lib/python3.7/site-packages/numpy/core/include/numpy/npy_1_7_deprecated_api.h:17:2:\u001b[m\u001b[K \u001b[01;35m\u001b[Kwarning: \u001b[m\u001b[K#warning \"Using deprecated NumPy API, disable it with \" \"#define NPY_NO_DEPRECATED_API NPY_1_7_API_VERSION\" [\u001b[01;35m\u001b[K-Wcpp\u001b[m\u001b[K]\n",
      "   17 | #\u001b[01;35m\u001b[Kwarning\u001b[m\u001b[K \"Using deprecated NumPy API, disable it with \" \\\n",
      "      |  \u001b[01;35m\u001b[K^~~~~~~\u001b[m\u001b[K\n",
      "\u001b[01m\u001b[KSLIM_BPR_Cython_Epoch.c:\u001b[m\u001b[K In function ‘\u001b[01m\u001b[K__pyx_f_21SLIM_BPR_Cython_Epoch_22Sparse_Matrix_Tree_CSR_test_list_tee_conversion\u001b[m\u001b[K’:\n",
      "\u001b[01m\u001b[KSLIM_BPR_Cython_Epoch.c:10703:15:\u001b[m\u001b[K \u001b[01;35m\u001b[Kwarning: \u001b[m\u001b[K‘\u001b[01m\u001b[K__pyx_v_previous_element\u001b[m\u001b[K’ may be used uninitialized in this function [\u001b[01;35m\u001b[K-Wmaybe-uninitialized\u001b[m\u001b[K]\n",
      "10703 |     \u001b[01;35m\u001b[K__pyx_t_7 = __pyx_v_current_element->lower\u001b[m\u001b[K;\n",
      "      |     \u001b[01;35m\u001b[K~~~~~~~~~~^~~~~~~~~~~~~~~~~~~~~~~~~~~~~~~~\u001b[m\u001b[K\n",
      "/opt/conda/lib/python3.7/site-packages/Cython/Compiler/Main.py:369: FutureWarning: Cython directive 'language_level' not set, using 2 for now (Py2). This will change in a later release! File: /kaggle/working/Recommenders/SLIM/Cython/SLIM_BPR_Cython_Epoch.pyx\n",
      "  tree = Parsing.p_module(s, pxd, full_module_name)\n",
      "warning: SLIM_BPR_Cython_Epoch.pyx:632:34: Non-trivial type declarators in shared declaration (e.g. mix of pointers and values). Each pointer declaration should be on its own line.\n",
      "warning: SLIM_BPR_Cython_Epoch.pyx:632:66: Non-trivial type declarators in shared declaration (e.g. mix of pointers and values). Each pointer declaration should be on its own line.\n",
      "warning: SLIM_BPR_Cython_Epoch.pyx:817:35: Non-trivial type declarators in shared declaration (e.g. mix of pointers and values). Each pointer declaration should be on its own line.\n",
      "warning: SLIM_BPR_Cython_Epoch.pyx:817:52: Non-trivial type declarators in shared declaration (e.g. mix of pointers and values). Each pointer declaration should be on its own line.\n",
      "warning: SLIM_BPR_Cython_Epoch.pyx:916:35: Non-trivial type declarators in shared declaration (e.g. mix of pointers and values). Each pointer declaration should be on its own line.\n",
      "warning: SLIM_BPR_Cython_Epoch.pyx:916:53: Non-trivial type declarators in shared declaration (e.g. mix of pointers and values). Each pointer declaration should be on its own line.\n",
      "warning: SLIM_BPR_Cython_Epoch.pyx:916:69: Non-trivial type declarators in shared declaration (e.g. mix of pointers and values). Each pointer declaration should be on its own line.\n",
      "warning: SLIM_BPR_Cython_Epoch.pyx:1051:35: Non-trivial type declarators in shared declaration (e.g. mix of pointers and values). Each pointer declaration should be on its own line.\n",
      "warning: SLIM_BPR_Cython_Epoch.pyx:1051:42: Non-trivial type declarators in shared declaration (e.g. mix of pointers and values). Each pointer declaration should be on its own line.\n",
      "warning: SLIM_BPR_Cython_Epoch.pyx:1052:35: Non-trivial type declarators in shared declaration (e.g. mix of pointers and values). Each pointer declaration should be on its own line.\n",
      "warning: SLIM_BPR_Cython_Epoch.pyx:1052:53: Non-trivial type declarators in shared declaration (e.g. mix of pointers and values). Each pointer declaration should be on its own line.\n",
      "Compiling [4/10]: SLIM_BPR_Cython_Epoch.pyx... PASS\n",
      "\n",
      "Compiling [5/10]: Triangular_Matrix.pyx... \n",
      "In file included from \u001b[01m\u001b[K/opt/conda/lib/python3.7/site-packages/numpy/core/include/numpy/ndarraytypes.h:1969\u001b[m\u001b[K,\n",
      "                 from \u001b[01m\u001b[K/opt/conda/lib/python3.7/site-packages/numpy/core/include/numpy/ndarrayobject.h:12\u001b[m\u001b[K,\n",
      "                 from \u001b[01m\u001b[K/opt/conda/lib/python3.7/site-packages/numpy/core/include/numpy/arrayobject.h:4\u001b[m\u001b[K,\n",
      "                 from \u001b[01m\u001b[KTriangular_Matrix.c:612\u001b[m\u001b[K:\n",
      "\u001b[01m\u001b[K/opt/conda/lib/python3.7/site-packages/numpy/core/include/numpy/npy_1_7_deprecated_api.h:17:2:\u001b[m\u001b[K \u001b[01;35m\u001b[Kwarning: \u001b[m\u001b[K#warning \"Using deprecated NumPy API, disable it with \" \"#define NPY_NO_DEPRECATED_API NPY_1_7_API_VERSION\" [\u001b[01;35m\u001b[K-Wcpp\u001b[m\u001b[K]\n",
      "   17 | #\u001b[01;35m\u001b[Kwarning\u001b[m\u001b[K \"Using deprecated NumPy API, disable it with \" \\\n",
      "      |  \u001b[01;35m\u001b[K^~~~~~~\u001b[m\u001b[K\n",
      "/opt/conda/lib/python3.7/site-packages/Cython/Compiler/Main.py:369: FutureWarning: Cython directive 'language_level' not set, using 2 for now (Py2). This will change in a later release! File: /kaggle/working/Recommenders/SLIM/Cython/Triangular_Matrix.pyx\n",
      "  tree = Parsing.p_module(s, pxd, full_module_name)\n",
      "Compiling [5/10]: Triangular_Matrix.pyx... PASS\n",
      "\n",
      "Compiling [6/10]: Sparse_Matrix_Tree_CSR.pyx... \n",
      "warning: Sparse_Matrix_Tree_CSR.pyx:132:34: Non-trivial type declarators in shared declaration (e.g. mix of pointers and values). Each pointer declaration should be on its own line.\n",
      "warning: Sparse_Matrix_Tree_CSR.pyx:132:66: Non-trivial type declarators in shared declaration (e.g. mix of pointers and values). Each pointer declaration should be on its own line.\n",
      "warning: Sparse_Matrix_Tree_CSR.pyx:343:35: Non-trivial type declarators in shared declaration (e.g. mix of pointers and values). Each pointer declaration should be on its own line.\n",
      "warning: Sparse_Matrix_Tree_CSR.pyx:343:52: Non-trivial type declarators in shared declaration (e.g. mix of pointers and values). Each pointer declaration should be on its own line.\n",
      "warning: Sparse_Matrix_Tree_CSR.pyx:442:35: Non-trivial type declarators in shared declaration (e.g. mix of pointers and values). Each pointer declaration should be on its own line.\n",
      "warning: Sparse_Matrix_Tree_CSR.pyx:442:53: Non-trivial type declarators in shared declaration (e.g. mix of pointers and values). Each pointer declaration should be on its own line.\n",
      "warning: Sparse_Matrix_Tree_CSR.pyx:442:69: Non-trivial type declarators in shared declaration (e.g. mix of pointers and values). Each pointer declaration should be on its own line.\n",
      "warning: Sparse_Matrix_Tree_CSR.pyx:577:35: Non-trivial type declarators in shared declaration (e.g. mix of pointers and values). Each pointer declaration should be on its own line.\n",
      "warning: Sparse_Matrix_Tree_CSR.pyx:577:42: Non-trivial type declarators in shared declaration (e.g. mix of pointers and values). Each pointer declaration should be on its own line.\n",
      "warning: Sparse_Matrix_Tree_CSR.pyx:578:35: Non-trivial type declarators in shared declaration (e.g. mix of pointers and values). Each pointer declaration should be on its own line.\n",
      "warning: Sparse_Matrix_Tree_CSR.pyx:578:53: Non-trivial type declarators in shared declaration (e.g. mix of pointers and values). Each pointer declaration should be on its own line.\n",
      "In file included from \u001b[01m\u001b[K/opt/conda/lib/python3.7/site-packages/numpy/core/include/numpy/ndarraytypes.h:1969\u001b[m\u001b[K,\n",
      "                 from \u001b[01m\u001b[K/opt/conda/lib/python3.7/site-packages/numpy/core/include/numpy/ndarrayobject.h:12\u001b[m\u001b[K,\n",
      "                 from \u001b[01m\u001b[K/opt/conda/lib/python3.7/site-packages/numpy/core/include/numpy/arrayobject.h:4\u001b[m\u001b[K,\n",
      "                 from \u001b[01m\u001b[KSparse_Matrix_Tree_CSR.c:612\u001b[m\u001b[K:\n",
      "\u001b[01m\u001b[K/opt/conda/lib/python3.7/site-packages/numpy/core/include/numpy/npy_1_7_deprecated_api.h:17:2:\u001b[m\u001b[K \u001b[01;35m\u001b[Kwarning: \u001b[m\u001b[K#warning \"Using deprecated NumPy API, disable it with \" \"#define NPY_NO_DEPRECATED_API NPY_1_7_API_VERSION\" [\u001b[01;35m\u001b[K-Wcpp\u001b[m\u001b[K]\n",
      "   17 | #\u001b[01;35m\u001b[Kwarning\u001b[m\u001b[K \"Using deprecated NumPy API, disable it with \" \\\n",
      "      |  \u001b[01;35m\u001b[K^~~~~~~\u001b[m\u001b[K\n",
      "\u001b[01m\u001b[KSparse_Matrix_Tree_CSR.c:\u001b[m\u001b[K In function ‘\u001b[01m\u001b[K__pyx_f_22Sparse_Matrix_Tree_CSR_22Sparse_Matrix_Tree_CSR_test_list_tree_conversion\u001b[m\u001b[K’:\n",
      "\u001b[01m\u001b[KSparse_Matrix_Tree_CSR.c:5701:15:\u001b[m\u001b[K \u001b[01;35m\u001b[Kwarning: \u001b[m\u001b[K‘\u001b[01m\u001b[K__pyx_v_previous_element\u001b[m\u001b[K’ may be used uninitialized in this function [\u001b[01;35m\u001b[K-Wmaybe-uninitialized\u001b[m\u001b[K]\n",
      " 5701 |     \u001b[01;35m\u001b[K__pyx_t_7 = __pyx_v_current_element->lower\u001b[m\u001b[K;\n",
      "      |     \u001b[01;35m\u001b[K~~~~~~~~~~^~~~~~~~~~~~~~~~~~~~~~~~~~~~~~~~\u001b[m\u001b[K\n",
      "/opt/conda/lib/python3.7/site-packages/Cython/Compiler/Main.py:369: FutureWarning: Cython directive 'language_level' not set, using 2 for now (Py2). This will change in a later release! File: /kaggle/working/Recommenders/SLIM/Cython/Sparse_Matrix_Tree_CSR.pyx\n",
      "  tree = Parsing.p_module(s, pxd, full_module_name)\n",
      "warning: Sparse_Matrix_Tree_CSR.pyx:132:34: Non-trivial type declarators in shared declaration (e.g. mix of pointers and values). Each pointer declaration should be on its own line.\n",
      "warning: Sparse_Matrix_Tree_CSR.pyx:132:66: Non-trivial type declarators in shared declaration (e.g. mix of pointers and values). Each pointer declaration should be on its own line.\n",
      "warning: Sparse_Matrix_Tree_CSR.pyx:343:35: Non-trivial type declarators in shared declaration (e.g. mix of pointers and values). Each pointer declaration should be on its own line.\n",
      "warning: Sparse_Matrix_Tree_CSR.pyx:343:52: Non-trivial type declarators in shared declaration (e.g. mix of pointers and values). Each pointer declaration should be on its own line.\n",
      "warning: Sparse_Matrix_Tree_CSR.pyx:442:35: Non-trivial type declarators in shared declaration (e.g. mix of pointers and values). Each pointer declaration should be on its own line.\n",
      "warning: Sparse_Matrix_Tree_CSR.pyx:442:53: Non-trivial type declarators in shared declaration (e.g. mix of pointers and values). Each pointer declaration should be on its own line.\n",
      "warning: Sparse_Matrix_Tree_CSR.pyx:442:69: Non-trivial type declarators in shared declaration (e.g. mix of pointers and values). Each pointer declaration should be on its own line.\n",
      "warning: Sparse_Matrix_Tree_CSR.pyx:577:35: Non-trivial type declarators in shared declaration (e.g. mix of pointers and values). Each pointer declaration should be on its own line.\n",
      "warning: Sparse_Matrix_Tree_CSR.pyx:577:42: Non-trivial type declarators in shared declaration (e.g. mix of pointers and values). Each pointer declaration should be on its own line.\n",
      "warning: Sparse_Matrix_Tree_CSR.pyx:578:35: Non-trivial type declarators in shared declaration (e.g. mix of pointers and values). Each pointer declaration should be on its own line.\n",
      "warning: Sparse_Matrix_Tree_CSR.pyx:578:53: Non-trivial type declarators in shared declaration (e.g. mix of pointers and values). Each pointer declaration should be on its own line.\n",
      "Compiling [6/10]: Sparse_Matrix_Tree_CSR.pyx... PASS\n",
      "\n",
      "Compiling [7/10]: HP3_Similarity_Cython_SGD.pyx... \n",
      "warning: HP3_Similarity_Cython_SGD.pyx:113:40: Index should be typed for more efficient access\n",
      "In file included from \u001b[01m\u001b[K/opt/conda/lib/python3.7/site-packages/numpy/core/include/numpy/ndarraytypes.h:1969\u001b[m\u001b[K,\n",
      "                 from \u001b[01m\u001b[K/opt/conda/lib/python3.7/site-packages/numpy/core/include/numpy/ndarrayobject.h:12\u001b[m\u001b[K,\n",
      "                 from \u001b[01m\u001b[K/opt/conda/lib/python3.7/site-packages/numpy/core/include/numpy/arrayobject.h:4\u001b[m\u001b[K,\n",
      "                 from \u001b[01m\u001b[KHP3_Similarity_Cython_SGD.c:612\u001b[m\u001b[K:\n",
      "\u001b[01m\u001b[K/opt/conda/lib/python3.7/site-packages/numpy/core/include/numpy/npy_1_7_deprecated_api.h:17:2:\u001b[m\u001b[K \u001b[01;35m\u001b[Kwarning: \u001b[m\u001b[K#warning \"Using deprecated NumPy API, disable it with \" \"#define NPY_NO_DEPRECATED_API NPY_1_7_API_VERSION\" [\u001b[01;35m\u001b[K-Wcpp\u001b[m\u001b[K]\n",
      "   17 | #\u001b[01;35m\u001b[Kwarning\u001b[m\u001b[K \"Using deprecated NumPy API, disable it with \" \\\n",
      "      |  \u001b[01;35m\u001b[K^~~~~~~\u001b[m\u001b[K\n",
      "\u001b[01m\u001b[KHP3_Similarity_Cython_SGD.c:\u001b[m\u001b[K In function ‘\u001b[01m\u001b[K__pyx_pf_25HP3_Similarity_Cython_SGD_25HP3_Similarity_Cython_SGD_4fit\u001b[m\u001b[K’:\n",
      "\u001b[01m\u001b[KHP3_Similarity_Cython_SGD.c:6152:55:\u001b[m\u001b[K \u001b[01;35m\u001b[Kwarning: \u001b[m\u001b[K‘\u001b[01m\u001b[K__pyx_v_sample_num\u001b[m\u001b[K’ may be used uninitialized in this function [\u001b[01;35m\u001b[K-Wmaybe-uninitialized\u001b[m\u001b[K]\n",
      " 6152 |   __pyx_t_1 = PyFloat_FromDouble((__pyx_v_cum_loss / \u001b[01;35m\u001b[K((double)__pyx_v_sample_num)\u001b[m\u001b[K)); if (unlikely(!__pyx_t_1)) __PYX_ERR(0, 291, __pyx_L1_error)\n",
      "      |                                                      \u001b[01;35m\u001b[K~^~~~~~~~~~~~~~~~~~~~~~~~~~~\u001b[m\u001b[K\n",
      "/opt/conda/lib/python3.7/site-packages/Cython/Compiler/Main.py:369: FutureWarning: Cython directive 'language_level' not set, using 2 for now (Py2). This will change in a later release! File: /kaggle/working/Recommenders/FeatureWeighting/Cython/HP3_Similarity_Cython_SGD.pyx\n",
      "  tree = Parsing.p_module(s, pxd, full_module_name)\n",
      "warning: HP3_Similarity_Cython_SGD.pyx:113:40: Index should be typed for more efficient access\n",
      "Compiling [7/10]: HP3_Similarity_Cython_SGD.pyx... PASS\n",
      "\n",
      "Compiling [8/10]: CFW_DVV_Similarity_Cython_SGD.pyx... \n",
      "In file included from \u001b[01m\u001b[K/opt/conda/lib/python3.7/site-packages/numpy/core/include/numpy/ndarraytypes.h:1969\u001b[m\u001b[K,\n",
      "                 from \u001b[01m\u001b[K/opt/conda/lib/python3.7/site-packages/numpy/core/include/numpy/ndarrayobject.h:12\u001b[m\u001b[K,\n",
      "                 from \u001b[01m\u001b[K/opt/conda/lib/python3.7/site-packages/numpy/core/include/numpy/arrayobject.h:4\u001b[m\u001b[K,\n",
      "                 from \u001b[01m\u001b[KCFW_DVV_Similarity_Cython_SGD.c:612\u001b[m\u001b[K:\n",
      "\u001b[01m\u001b[K/opt/conda/lib/python3.7/site-packages/numpy/core/include/numpy/npy_1_7_deprecated_api.h:17:2:\u001b[m\u001b[K \u001b[01;35m\u001b[Kwarning: \u001b[m\u001b[K#warning \"Using deprecated NumPy API, disable it with \" \"#define NPY_NO_DEPRECATED_API NPY_1_7_API_VERSION\" [\u001b[01;35m\u001b[K-Wcpp\u001b[m\u001b[K]\n",
      "   17 | #\u001b[01;35m\u001b[Kwarning\u001b[m\u001b[K \"Using deprecated NumPy API, disable it with \" \\\n",
      "      |  \u001b[01;35m\u001b[K^~~~~~~\u001b[m\u001b[K\n",
      "/opt/conda/lib/python3.7/site-packages/Cython/Compiler/Main.py:369: FutureWarning: Cython directive 'language_level' not set, using 2 for now (Py2). This will change in a later release! File: /kaggle/working/Recommenders/FeatureWeighting/Cython/CFW_DVV_Similarity_Cython_SGD.pyx\n",
      "  tree = Parsing.p_module(s, pxd, full_module_name)\n",
      "Compiling [8/10]: CFW_DVV_Similarity_Cython_SGD.pyx... PASS\n",
      "\n",
      "Compiling [9/10]: CFW_D_Similarity_Cython_SGD.pyx... \n",
      "In file included from \u001b[01m\u001b[K/opt/conda/lib/python3.7/site-packages/numpy/core/include/numpy/ndarraytypes.h:1969\u001b[m\u001b[K,\n",
      "                 from \u001b[01m\u001b[K/opt/conda/lib/python3.7/site-packages/numpy/core/include/numpy/ndarrayobject.h:12\u001b[m\u001b[K,\n",
      "                 from \u001b[01m\u001b[K/opt/conda/lib/python3.7/site-packages/numpy/core/include/numpy/arrayobject.h:4\u001b[m\u001b[K,\n",
      "                 from \u001b[01m\u001b[KCFW_D_Similarity_Cython_SGD.c:612\u001b[m\u001b[K:\n",
      "\u001b[01m\u001b[K/opt/conda/lib/python3.7/site-packages/numpy/core/include/numpy/npy_1_7_deprecated_api.h:17:2:\u001b[m\u001b[K \u001b[01;35m\u001b[Kwarning: \u001b[m\u001b[K#warning \"Using deprecated NumPy API, disable it with \" \"#define NPY_NO_DEPRECATED_API NPY_1_7_API_VERSION\" [\u001b[01;35m\u001b[K-Wcpp\u001b[m\u001b[K]\n",
      "   17 | #\u001b[01;35m\u001b[Kwarning\u001b[m\u001b[K \"Using deprecated NumPy API, disable it with \" \\\n",
      "      |  \u001b[01;35m\u001b[K^~~~~~~\u001b[m\u001b[K\n",
      "\u001b[01m\u001b[KCFW_D_Similarity_Cython_SGD.c:\u001b[m\u001b[K In function ‘\u001b[01m\u001b[K__pyx_pf_27CFW_D_Similarity_Cython_SGD_27CFW_D_Similarity_Cython_SGD_6fit\u001b[m\u001b[K’:\n",
      "\u001b[01m\u001b[KCFW_D_Similarity_Cython_SGD.c:5905:55:\u001b[m\u001b[K \u001b[01;35m\u001b[Kwarning: \u001b[m\u001b[K‘\u001b[01m\u001b[K__pyx_v_sample_num\u001b[m\u001b[K’ may be used uninitialized in this function [\u001b[01;35m\u001b[K-Wmaybe-uninitialized\u001b[m\u001b[K]\n",
      " 5905 |   __pyx_t_3 = PyFloat_FromDouble((__pyx_v_cum_loss / \u001b[01;35m\u001b[K((double)__pyx_v_sample_num)\u001b[m\u001b[K)); if (unlikely(!__pyx_t_3)) __PYX_ERR(0, 290, __pyx_L1_error)\n",
      "      |                                                      \u001b[01;35m\u001b[K~^~~~~~~~~~~~~~~~~~~~~~~~~~~\u001b[m\u001b[K\n",
      "/opt/conda/lib/python3.7/site-packages/Cython/Compiler/Main.py:369: FutureWarning: Cython directive 'language_level' not set, using 2 for now (Py2). This will change in a later release! File: /kaggle/working/Recommenders/FeatureWeighting/Cython/CFW_D_Similarity_Cython_SGD.pyx\n",
      "  tree = Parsing.p_module(s, pxd, full_module_name)\n",
      "Compiling [9/10]: CFW_D_Similarity_Cython_SGD.pyx... PASS\n",
      "\n",
      "Compiling [10/10]: FBSM_Rating_Cython_SGD.pyx... \n",
      "In file included from \u001b[01m\u001b[K/opt/conda/lib/python3.7/site-packages/numpy/core/include/numpy/ndarraytypes.h:1969\u001b[m\u001b[K,\n",
      "                 from \u001b[01m\u001b[K/opt/conda/lib/python3.7/site-packages/numpy/core/include/numpy/ndarrayobject.h:12\u001b[m\u001b[K,\n",
      "                 from \u001b[01m\u001b[K/opt/conda/lib/python3.7/site-packages/numpy/core/include/numpy/arrayobject.h:4\u001b[m\u001b[K,\n",
      "                 from \u001b[01m\u001b[KFBSM_Rating_Cython_SGD.c:612\u001b[m\u001b[K:\n",
      "\u001b[01m\u001b[K/opt/conda/lib/python3.7/site-packages/numpy/core/include/numpy/npy_1_7_deprecated_api.h:17:2:\u001b[m\u001b[K \u001b[01;35m\u001b[Kwarning: \u001b[m\u001b[K#warning \"Using deprecated NumPy API, disable it with \" \"#define NPY_NO_DEPRECATED_API NPY_1_7_API_VERSION\" [\u001b[01;35m\u001b[K-Wcpp\u001b[m\u001b[K]\n",
      "   17 | #\u001b[01;35m\u001b[Kwarning\u001b[m\u001b[K \"Using deprecated NumPy API, disable it with \" \\\n",
      "      |  \u001b[01;35m\u001b[K^~~~~~~\u001b[m\u001b[K\n",
      "\u001b[01m\u001b[KFBSM_Rating_Cython_SGD.c:\u001b[m\u001b[K In function ‘\u001b[01m\u001b[K__pyx_pf_22FBSM_Rating_Cython_SGD_22FBSM_Rating_Cython_SGD_2fit\u001b[m\u001b[K’:\n",
      "\u001b[01m\u001b[KFBSM_Rating_Cython_SGD.c:8880:55:\u001b[m\u001b[K \u001b[01;35m\u001b[Kwarning: \u001b[m\u001b[K‘\u001b[01m\u001b[K__pyx_v_num_sample\u001b[m\u001b[K’ may be used uninitialized in this function [\u001b[01;35m\u001b[K-Wmaybe-uninitialized\u001b[m\u001b[K]\n",
      " 8880 |   __pyx_t_5 = PyFloat_FromDouble((__pyx_v_cum_loss / \u001b[01;35m\u001b[K((double)__pyx_v_num_sample)\u001b[m\u001b[K)); if (unlikely(!__pyx_t_5)) __PYX_ERR(0, 551, __pyx_L1_error)\n",
      "      |                                                      \u001b[01;35m\u001b[K~^~~~~~~~~~~~~~~~~~~~~~~~~~~\u001b[m\u001b[K\n",
      "/opt/conda/lib/python3.7/site-packages/Cython/Compiler/Main.py:369: FutureWarning: Cython directive 'language_level' not set, using 2 for now (Py2). This will change in a later release! File: /kaggle/working/Recommenders/FeatureWeighting/Cython/FBSM_Rating_Cython_SGD.pyx\n",
      "  tree = Parsing.p_module(s, pxd, full_module_name)\n",
      "Compiling [10/10]: FBSM_Rating_Cython_SGD.pyx... PASS\n",
      "\n",
      "run_compile_all_cython: Compilation finished. SUCCESS.\n",
      "Compilation log can be found here: './result_experiments/run_compile_all_cython.txt'\n"
     ]
    }
   ],
   "source": [
    "!python run_compile_all_cython.py"
   ]
  },
  {
   "cell_type": "markdown",
   "metadata": {},
   "source": [
    "# Imports"
   ]
  },
  {
   "cell_type": "code",
   "execution_count": 5,
   "metadata": {
    "execution": {
     "iopub.execute_input": "2023-11-30T14:31:15.482559Z",
     "iopub.status.busy": "2023-11-30T14:31:15.482083Z",
     "iopub.status.idle": "2023-11-30T14:31:36.759434Z",
     "shell.execute_reply": "2023-11-30T14:31:36.758046Z",
     "shell.execute_reply.started": "2023-11-30T14:31:15.482516Z"
    },
    "scrolled": true
   },
   "outputs": [
    {
     "name": "stdout",
     "output_type": "stream",
     "text": [
      "Requirement already satisfied: lightfm in /opt/conda/lib/python3.7/site-packages (1.16)\n",
      "Requirement already satisfied: tqdm in /opt/conda/lib/python3.7/site-packages (4.59.0)\n",
      "Requirement already satisfied: optuna in /opt/conda/lib/python3.7/site-packages (3.0.4)\n",
      "Requirement already satisfied: ipykernel in /opt/conda/lib/python3.7/site-packages (6.15.0)\n",
      "Requirement already satisfied: matplotlib in /opt/conda/lib/python3.7/site-packages (3.5.3)\n",
      "Requirement already satisfied: requests in /opt/conda/lib/python3.7/site-packages (from lightfm) (2.28.1)\n",
      "Requirement already satisfied: scipy>=0.17.0 in /opt/conda/lib/python3.7/site-packages (from lightfm) (1.6.2)\n",
      "Requirement already satisfied: scikit-learn in /opt/conda/lib/python3.7/site-packages (from lightfm) (0.24.1)\n",
      "Requirement already satisfied: numpy in /opt/conda/lib/python3.7/site-packages (from lightfm) (1.21.6)\n",
      "Requirement already satisfied: importlib-metadata<5.0.0 in /opt/conda/lib/python3.7/site-packages (from optuna) (4.13.0)\n",
      "Requirement already satisfied: alembic>=1.5.0 in /opt/conda/lib/python3.7/site-packages (from optuna) (1.8.1)\n",
      "Requirement already satisfied: cmaes>=0.8.2 in /opt/conda/lib/python3.7/site-packages (from optuna) (0.9.0)\n",
      "Collecting scipy>=0.17.0\n",
      "  Downloading scipy-1.7.3-cp37-cp37m-manylinux_2_12_x86_64.manylinux2010_x86_64.whl (38.1 MB)\n",
      "\u001b[2K     \u001b[90m━━━━━━━━━━━━━━━━━━━━━━━━━━━━━━━━━━━━━━━━\u001b[0m \u001b[32m38.1/38.1 MB\u001b[0m \u001b[31m27.0 MB/s\u001b[0m eta \u001b[36m0:00:00\u001b[0m00:01\u001b[0m00:01\u001b[0m\n",
      "\u001b[?25hRequirement already satisfied: cliff in /opt/conda/lib/python3.7/site-packages (from optuna) (3.10.1)\n",
      "Requirement already satisfied: colorlog in /opt/conda/lib/python3.7/site-packages (from optuna) (6.7.0)\n",
      "Requirement already satisfied: sqlalchemy>=1.3.0 in /opt/conda/lib/python3.7/site-packages (from optuna) (1.4.39)\n",
      "Requirement already satisfied: PyYAML in /opt/conda/lib/python3.7/site-packages (from optuna) (6.0)\n",
      "Requirement already satisfied: packaging>=20.0 in /opt/conda/lib/python3.7/site-packages (from optuna) (21.3)\n",
      "Requirement already satisfied: debugpy>=1.0 in /opt/conda/lib/python3.7/site-packages (from ipykernel) (1.6.0)\n",
      "Requirement already satisfied: nest-asyncio in /opt/conda/lib/python3.7/site-packages (from ipykernel) (1.5.5)\n",
      "Requirement already satisfied: matplotlib-inline>=0.1 in /opt/conda/lib/python3.7/site-packages (from ipykernel) (0.1.3)\n",
      "Requirement already satisfied: psutil in /opt/conda/lib/python3.7/site-packages (from ipykernel) (5.9.1)\n",
      "Requirement already satisfied: tornado>=6.1 in /opt/conda/lib/python3.7/site-packages (from ipykernel) (6.1)\n",
      "Requirement already satisfied: jupyter-client>=6.1.12 in /opt/conda/lib/python3.7/site-packages (from ipykernel) (7.3.4)\n",
      "Requirement already satisfied: ipython>=7.23.1 in /opt/conda/lib/python3.7/site-packages (from ipykernel) (7.33.0)\n",
      "Requirement already satisfied: traitlets>=5.1.0 in /opt/conda/lib/python3.7/site-packages (from ipykernel) (5.3.0)\n",
      "Requirement already satisfied: pyzmq>=17 in /opt/conda/lib/python3.7/site-packages (from ipykernel) (23.2.0)\n",
      "Requirement already satisfied: pillow>=6.2.0 in /opt/conda/lib/python3.7/site-packages (from matplotlib) (9.1.1)\n",
      "Requirement already satisfied: cycler>=0.10 in /opt/conda/lib/python3.7/site-packages (from matplotlib) (0.11.0)\n",
      "Requirement already satisfied: python-dateutil>=2.7 in /opt/conda/lib/python3.7/site-packages (from matplotlib) (2.8.2)\n",
      "Requirement already satisfied: pyparsing>=2.2.1 in /opt/conda/lib/python3.7/site-packages (from matplotlib) (3.0.9)\n",
      "Requirement already satisfied: fonttools>=4.22.0 in /opt/conda/lib/python3.7/site-packages (from matplotlib) (4.33.3)\n",
      "Requirement already satisfied: kiwisolver>=1.0.1 in /opt/conda/lib/python3.7/site-packages (from matplotlib) (1.4.3)\n",
      "Requirement already satisfied: Mako in /opt/conda/lib/python3.7/site-packages (from alembic>=1.5.0->optuna) (1.2.4)\n",
      "Requirement already satisfied: importlib-resources in /opt/conda/lib/python3.7/site-packages (from alembic>=1.5.0->optuna) (5.8.0)\n",
      "Requirement already satisfied: zipp>=0.5 in /opt/conda/lib/python3.7/site-packages (from importlib-metadata<5.0.0->optuna) (3.8.0)\n",
      "Requirement already satisfied: typing-extensions>=3.6.4 in /opt/conda/lib/python3.7/site-packages (from importlib-metadata<5.0.0->optuna) (4.1.1)\n",
      "Requirement already satisfied: jedi>=0.16 in /opt/conda/lib/python3.7/site-packages (from ipython>=7.23.1->ipykernel) (0.18.1)\n",
      "Requirement already satisfied: prompt-toolkit!=3.0.0,!=3.0.1,<3.1.0,>=2.0.0 in /opt/conda/lib/python3.7/site-packages (from ipython>=7.23.1->ipykernel) (3.0.30)\n",
      "Requirement already satisfied: pexpect>4.3 in /opt/conda/lib/python3.7/site-packages (from ipython>=7.23.1->ipykernel) (4.8.0)\n",
      "Requirement already satisfied: decorator in /opt/conda/lib/python3.7/site-packages (from ipython>=7.23.1->ipykernel) (5.1.1)\n",
      "Requirement already satisfied: pickleshare in /opt/conda/lib/python3.7/site-packages (from ipython>=7.23.1->ipykernel) (0.7.5)\n",
      "Requirement already satisfied: backcall in /opt/conda/lib/python3.7/site-packages (from ipython>=7.23.1->ipykernel) (0.2.0)\n",
      "Requirement already satisfied: setuptools>=18.5 in /opt/conda/lib/python3.7/site-packages (from ipython>=7.23.1->ipykernel) (59.8.0)\n",
      "Requirement already satisfied: pygments in /opt/conda/lib/python3.7/site-packages (from ipython>=7.23.1->ipykernel) (2.12.0)\n",
      "Requirement already satisfied: entrypoints in /opt/conda/lib/python3.7/site-packages (from jupyter-client>=6.1.12->ipykernel) (0.4)\n",
      "Requirement already satisfied: jupyter-core>=4.9.2 in /opt/conda/lib/python3.7/site-packages (from jupyter-client>=6.1.12->ipykernel) (4.10.0)\n",
      "Requirement already satisfied: six>=1.5 in /opt/conda/lib/python3.7/site-packages (from python-dateutil>=2.7->matplotlib) (1.15.0)\n",
      "Requirement already satisfied: greenlet!=0.4.17 in /opt/conda/lib/python3.7/site-packages (from sqlalchemy>=1.3.0->optuna) (1.1.2)\n",
      "Requirement already satisfied: stevedore>=2.0.1 in /opt/conda/lib/python3.7/site-packages (from cliff->optuna) (3.5.2)\n",
      "Requirement already satisfied: pbr!=2.1.0,>=2.0.0 in /opt/conda/lib/python3.7/site-packages (from cliff->optuna) (5.11.0)\n",
      "Requirement already satisfied: PrettyTable>=0.7.2 in /opt/conda/lib/python3.7/site-packages (from cliff->optuna) (3.3.0)\n",
      "Requirement already satisfied: autopage>=0.4.0 in /opt/conda/lib/python3.7/site-packages (from cliff->optuna) (0.5.1)\n",
      "Requirement already satisfied: cmd2>=1.0.0 in /opt/conda/lib/python3.7/site-packages (from cliff->optuna) (2.4.2)\n",
      "Requirement already satisfied: idna<4,>=2.5 in /opt/conda/lib/python3.7/site-packages (from requests->lightfm) (3.3)\n",
      "Requirement already satisfied: urllib3<1.27,>=1.21.1 in /opt/conda/lib/python3.7/site-packages (from requests->lightfm) (1.26.13)\n",
      "Requirement already satisfied: certifi>=2017.4.17 in /opt/conda/lib/python3.7/site-packages (from requests->lightfm) (2022.9.24)\n",
      "Requirement already satisfied: charset-normalizer<3,>=2 in /opt/conda/lib/python3.7/site-packages (from requests->lightfm) (2.1.0)\n",
      "Requirement already satisfied: joblib>=0.11 in /opt/conda/lib/python3.7/site-packages (from scikit-learn->lightfm) (1.0.1)\n",
      "Requirement already satisfied: threadpoolctl>=2.0.0 in /opt/conda/lib/python3.7/site-packages (from scikit-learn->lightfm) (3.1.0)\n",
      "Requirement already satisfied: wcwidth>=0.1.7 in /opt/conda/lib/python3.7/site-packages (from cmd2>=1.0.0->cliff->optuna) (0.2.5)\n",
      "Requirement already satisfied: pyperclip>=1.6 in /opt/conda/lib/python3.7/site-packages (from cmd2>=1.0.0->cliff->optuna) (1.8.2)\n",
      "Requirement already satisfied: attrs>=16.3.0 in /opt/conda/lib/python3.7/site-packages (from cmd2>=1.0.0->cliff->optuna) (21.4.0)\n",
      "Requirement already satisfied: parso<0.9.0,>=0.8.0 in /opt/conda/lib/python3.7/site-packages (from jedi>=0.16->ipython>=7.23.1->ipykernel) (0.8.3)\n",
      "Requirement already satisfied: ptyprocess>=0.5 in /opt/conda/lib/python3.7/site-packages (from pexpect>4.3->ipython>=7.23.1->ipykernel) (0.7.0)\n",
      "Requirement already satisfied: MarkupSafe>=0.9.2 in /opt/conda/lib/python3.7/site-packages (from Mako->alembic>=1.5.0->optuna) (2.1.1)\n",
      "Installing collected packages: scipy\n",
      "  Attempting uninstall: scipy\n",
      "    Found existing installation: scipy 1.6.2\n",
      "    Uninstalling scipy-1.6.2:\n",
      "      Successfully uninstalled scipy-1.6.2\n",
      "\u001b[31mERROR: pip's dependency resolver does not currently take into account all the packages that are installed. This behaviour is the source of the following dependency conflicts.\n",
      "yellowbrick 1.5 requires scikit-learn>=1.0.0, but you have scikit-learn 0.24.1 which is incompatible.\n",
      "woodwork 0.16.4 requires pandas<1.4.2,>=1.3.0, but you have pandas 1.2.4 which is incompatible.\n",
      "pdpbox 0.2.1 requires matplotlib==3.1.1, but you have matplotlib 3.5.3 which is incompatible.\n",
      "pandas-profiling 3.1.0 requires markupsafe~=2.0.1, but you have markupsafe 2.1.1 which is incompatible.\n",
      "mlxtend 0.21.0 requires scikit-learn>=1.0.2, but you have scikit-learn 0.24.1 which is incompatible.\n",
      "imbalanced-learn 0.9.0 requires scikit-learn>=1.0.1, but you have scikit-learn 0.24.1 which is incompatible.\n",
      "gplearn 0.4.2 requires scikit-learn>=1.0.2, but you have scikit-learn 0.24.1 which is incompatible.\n",
      "featuretools 1.11.1 requires pandas>=1.3.0, but you have pandas 1.2.4 which is incompatible.\n",
      "allennlp 2.10.1 requires h5py>=3.6.0, but you have h5py 3.1.0 which is incompatible.\n",
      "allennlp 2.10.1 requires nltk>=3.6.5, but you have nltk 3.6.1 which is incompatible.\n",
      "allennlp 2.10.1 requires scikit-learn>=1.0.1, but you have scikit-learn 0.24.1 which is incompatible.\n",
      "allennlp 2.10.1 requires torch<1.13.0,>=1.10.0, but you have torch 1.7.0 which is incompatible.\n",
      "allennlp 2.10.1 requires tqdm>=4.62, but you have tqdm 4.59.0 which is incompatible.\u001b[0m\u001b[31m\n",
      "\u001b[0mSuccessfully installed scipy-1.7.3\n",
      "\u001b[33mWARNING: Running pip as the 'root' user can result in broken permissions and conflicting behaviour with the system package manager. It is recommended to use a virtual environment instead: https://pip.pypa.io/warnings/venv\u001b[0m\u001b[33m\n",
      "\u001b[0m"
     ]
    }
   ],
   "source": [
    "!pip install lightfm tqdm optuna ipykernel matplotlib"
   ]
  },
  {
   "cell_type": "code",
   "execution_count": 6,
   "metadata": {
    "execution": {
     "iopub.execute_input": "2023-11-30T14:31:36.761933Z",
     "iopub.status.busy": "2023-11-30T14:31:36.761382Z",
     "iopub.status.idle": "2023-11-30T14:31:37.752669Z",
     "shell.execute_reply": "2023-11-30T14:31:37.751660Z",
     "shell.execute_reply.started": "2023-11-30T14:31:36.761881Z"
    }
   },
   "outputs": [],
   "source": [
    "import numpy as np\n",
    "import matplotlib.pyplot as pyplot\n",
    "import pandas as pd\n",
    "import scipy.sparse as sps\n",
    "import matplotlib.pyplot as plt\n",
    "from scipy.stats import loguniform\n",
    "from lightfm import LightFM\n",
    "from lightfm.evaluation import auc_score, precision_at_k\n",
    "import time\n",
    "import optuna"
   ]
  },
  {
   "cell_type": "code",
   "execution_count": 40,
   "metadata": {
    "execution": {
     "iopub.execute_input": "2023-11-30T14:56:17.050666Z",
     "iopub.status.busy": "2023-11-30T14:56:17.050187Z",
     "iopub.status.idle": "2023-11-30T14:56:17.061663Z",
     "shell.execute_reply": "2023-11-30T14:56:17.059949Z",
     "shell.execute_reply.started": "2023-11-30T14:56:17.050626Z"
    }
   },
   "outputs": [],
   "source": [
    "from Data_manager.split_functions.split_train_validation_random_holdout import split_train_in_two_percentage_global_sample\n",
    "from Recommenders.Similarity.Compute_Similarity_Python import Compute_Similarity_Python\n",
    "from Recommenders.KNN.ItemKNNCFRecommender import ItemKNNCFRecommender\n",
    "from Recommenders.NonPersonalizedRecommender import TopPop\n",
    "from Recommenders.KNN.UserKNNCFRecommender import UserKNNCFRecommender\n",
    "from Recommenders.GraphBased.RP3betaRecommender import RP3betaRecommender\n",
    "from Recommenders.BaseRecommender import BaseRecommender\n",
    "from Evaluation.Evaluator import EvaluatorHoldout\n",
    "from Recommenders.KNN.UserKNNCFRecommender import UserKNNCFRecommender\n",
    "from Recommenders.KNN.ItemKNNCFRecommender import ItemKNNCFRecommender\n",
    "from Recommenders.KNN.ItemKNNCustomSimilarityRecommender import ItemKNNCustomSimilarityRecommender\n",
    "#----remove"
   ]
  },
  {
   "cell_type": "code",
   "execution_count": 8,
   "metadata": {
    "execution": {
     "iopub.execute_input": "2023-11-30T14:31:38.017059Z",
     "iopub.status.busy": "2023-11-30T14:31:38.016639Z",
     "iopub.status.idle": "2023-11-30T14:31:38.024323Z",
     "shell.execute_reply": "2023-11-30T14:31:38.022814Z",
     "shell.execute_reply.started": "2023-11-30T14:31:38.017020Z"
    }
   },
   "outputs": [],
   "source": [
    "seed = 69\n",
    "np.random.seed(seed)"
   ]
  },
  {
   "cell_type": "markdown",
   "metadata": {},
   "source": [
    "# Preprocessing"
   ]
  },
  {
   "cell_type": "code",
   "execution_count": 9,
   "metadata": {
    "execution": {
     "iopub.execute_input": "2023-11-30T14:31:38.027243Z",
     "iopub.status.busy": "2023-11-30T14:31:38.026737Z",
     "iopub.status.idle": "2023-11-30T14:31:41.384384Z",
     "shell.execute_reply": "2023-11-30T14:31:41.382923Z",
     "shell.execute_reply.started": "2023-11-30T14:31:38.027203Z"
    }
   },
   "outputs": [],
   "source": [
    "# Import training data\n",
    "URM_path = \"../input/data-books/data_train.csv\"\n",
    "URM_all_dataframe = pd.read_csv(filepath_or_buffer=URM_path,\n",
    "                                header=0,\n",
    "                                dtype={0:int, 1:int, 2:int},\n",
    "                                engine='python')\n",
    "\n",
    "URM_all_dataframe.columns = [\"user_id\", \"item_id\", \"interaction\"]"
   ]
  },
  {
   "cell_type": "code",
   "execution_count": 10,
   "metadata": {
    "execution": {
     "iopub.execute_input": "2023-11-30T14:31:41.386575Z",
     "iopub.status.busy": "2023-11-30T14:31:41.386039Z",
     "iopub.status.idle": "2023-11-30T14:31:41.457564Z",
     "shell.execute_reply": "2023-11-30T14:31:41.456642Z",
     "shell.execute_reply.started": "2023-11-30T14:31:41.386533Z"
    }
   },
   "outputs": [
    {
     "data": {
      "text/html": [
       "<div>\n",
       "<style scoped>\n",
       "    .dataframe tbody tr th:only-of-type {\n",
       "        vertical-align: middle;\n",
       "    }\n",
       "\n",
       "    .dataframe tbody tr th {\n",
       "        vertical-align: top;\n",
       "    }\n",
       "\n",
       "    .dataframe thead th {\n",
       "        text-align: right;\n",
       "    }\n",
       "</style>\n",
       "<table border=\"1\" class=\"dataframe\">\n",
       "  <thead>\n",
       "    <tr style=\"text-align: right;\">\n",
       "      <th></th>\n",
       "      <th>user_id</th>\n",
       "    </tr>\n",
       "  </thead>\n",
       "  <tbody>\n",
       "    <tr>\n",
       "      <th>0</th>\n",
       "      <td>1</td>\n",
       "    </tr>\n",
       "    <tr>\n",
       "      <th>1</th>\n",
       "      <td>2</td>\n",
       "    </tr>\n",
       "    <tr>\n",
       "      <th>2</th>\n",
       "      <td>3</td>\n",
       "    </tr>\n",
       "    <tr>\n",
       "      <th>3</th>\n",
       "      <td>4</td>\n",
       "    </tr>\n",
       "    <tr>\n",
       "      <th>4</th>\n",
       "      <td>5</td>\n",
       "    </tr>\n",
       "    <tr>\n",
       "      <th>...</th>\n",
       "      <td>...</td>\n",
       "    </tr>\n",
       "    <tr>\n",
       "      <th>10877</th>\n",
       "      <td>13020</td>\n",
       "    </tr>\n",
       "    <tr>\n",
       "      <th>10878</th>\n",
       "      <td>13021</td>\n",
       "    </tr>\n",
       "    <tr>\n",
       "      <th>10879</th>\n",
       "      <td>13022</td>\n",
       "    </tr>\n",
       "    <tr>\n",
       "      <th>10880</th>\n",
       "      <td>13023</td>\n",
       "    </tr>\n",
       "    <tr>\n",
       "      <th>10881</th>\n",
       "      <td>13024</td>\n",
       "    </tr>\n",
       "  </tbody>\n",
       "</table>\n",
       "<p>10882 rows × 1 columns</p>\n",
       "</div>"
      ],
      "text/plain": [
       "       user_id\n",
       "0            1\n",
       "1            2\n",
       "2            3\n",
       "3            4\n",
       "4            5\n",
       "...        ...\n",
       "10877    13020\n",
       "10878    13021\n",
       "10879    13022\n",
       "10880    13023\n",
       "10881    13024\n",
       "\n",
       "[10882 rows x 1 columns]"
      ]
     },
     "execution_count": 10,
     "metadata": {},
     "output_type": "execute_result"
    }
   ],
   "source": [
    "# Import target users\n",
    "target_path = \"../input/data-books/data_target_users_test.csv\"\n",
    "target_dataframe= pd.read_csv(filepath_or_buffer=target_path,\n",
    "                                header=0,\n",
    "                                dtype={0:int},\n",
    "                                engine='python')\n",
    "target_dataframe.columns = [\"user_id\"]\n",
    "target_dataframe"
   ]
  },
  {
   "cell_type": "code",
   "execution_count": 11,
   "metadata": {
    "execution": {
     "iopub.execute_input": "2023-11-30T14:31:41.463047Z",
     "iopub.status.busy": "2023-11-30T14:31:41.462302Z",
     "iopub.status.idle": "2023-11-30T14:31:41.474863Z",
     "shell.execute_reply": "2023-11-30T14:31:41.473511Z",
     "shell.execute_reply.started": "2023-11-30T14:31:41.463005Z"
    }
   },
   "outputs": [],
   "source": [
    "def preprocess_data(ratings: pd.DataFrame):\n",
    "    unique_users = ratings.user_id.unique()\n",
    "    unique_items = ratings.item_id.unique()\n",
    "\n",
    "    num_users, min_user_id, max_user_id = unique_users.size, unique_users.min(), unique_users.max()\n",
    "    num_items, min_item_id, max_item_id = unique_items.size, unique_items.min(), unique_items.max()\n",
    "\n",
    "    print(num_users, min_user_id, max_user_id)\n",
    "    print(num_items, min_item_id, max_item_id)\n",
    "\n",
    "    mapping_user_id = pd.DataFrame({\"mapped_user_id\": np.arange(num_users), \"user_id\": unique_users})\n",
    "    mapping_item_id = pd.DataFrame({\"mapped_item_id\": np.arange(num_items), \"item_id\": unique_items})\n",
    "\n",
    "    ratings = pd.merge(left=ratings,\n",
    "                       right=mapping_user_id,\n",
    "                       how=\"inner\",\n",
    "                       on=\"user_id\")\n",
    "\n",
    "    ratings = pd.merge(left=ratings,\n",
    "                       right=mapping_item_id,\n",
    "                       how=\"inner\",\n",
    "                       on=\"item_id\")\n",
    "\n",
    "    return ratings"
   ]
  },
  {
   "cell_type": "code",
   "execution_count": 12,
   "metadata": {
    "execution": {
     "iopub.execute_input": "2023-11-30T14:31:41.477431Z",
     "iopub.status.busy": "2023-11-30T14:31:41.477006Z",
     "iopub.status.idle": "2023-11-30T14:31:41.669701Z",
     "shell.execute_reply": "2023-11-30T14:31:41.668094Z",
     "shell.execute_reply.started": "2023-11-30T14:31:41.477395Z"
    }
   },
   "outputs": [
    {
     "name": "stdout",
     "output_type": "stream",
     "text": [
      "12638 1 13024\n",
      "22222 1 22347\n"
     ]
    }
   ],
   "source": [
    "# Call preprocess data function\n",
    "ratings = preprocess_data(URM_all_dataframe)"
   ]
  },
  {
   "cell_type": "markdown",
   "metadata": {},
   "source": [
    "## From DF to Sparse matrix"
   ]
  },
  {
   "cell_type": "code",
   "execution_count": 13,
   "metadata": {
    "execution": {
     "iopub.execute_input": "2023-11-30T14:31:41.672517Z",
     "iopub.status.busy": "2023-11-30T14:31:41.672000Z",
     "iopub.status.idle": "2023-11-30T14:31:41.687070Z",
     "shell.execute_reply": "2023-11-30T14:31:41.685477Z",
     "shell.execute_reply.started": "2023-11-30T14:31:41.672469Z"
    }
   },
   "outputs": [],
   "source": [
    "URM = sps.coo_matrix((ratings.interaction.values, (ratings.mapped_user_id.values, ratings.mapped_item_id.values)))"
   ]
  },
  {
   "cell_type": "markdown",
   "metadata": {},
   "source": [
    "## Data Splitting"
   ]
  },
  {
   "cell_type": "code",
   "execution_count": 14,
   "metadata": {
    "execution": {
     "iopub.execute_input": "2023-11-30T14:31:41.689736Z",
     "iopub.status.busy": "2023-11-30T14:31:41.689197Z",
     "iopub.status.idle": "2023-11-30T14:31:44.225015Z",
     "shell.execute_reply": "2023-11-30T14:31:44.223650Z",
     "shell.execute_reply.started": "2023-11-30T14:31:41.689676Z"
    }
   },
   "outputs": [
    {
     "name": "stdout",
     "output_type": "stream",
     "text": [
      "Warning: 240 (1.90 %) of 12638 users have no train items\n",
      "Warning: 2127 (16.83 %) of 12638 users have no sampled items\n",
      "Warning: 462 (3.66 %) of 12638 users have no train items\n",
      "Warning: 2630 (20.81 %) of 12638 users have no sampled items\n",
      "EvaluatorHoldout: Ignoring 2630 (20.8%) Users that have less than 1 test interactions\n",
      "EvaluatorHoldout: Ignoring 2127 (16.8%) Users that have less than 1 test interactions\n"
     ]
    }
   ],
   "source": [
    "urm_train, urm_test = split_train_in_two_percentage_global_sample(URM, train_percentage = 0.80)\n",
    "urm_train, urm_validation = split_train_in_two_percentage_global_sample(urm_train, train_percentage = 0.80)\n",
    "\n",
    "evaluator_validation = EvaluatorHoldout(urm_validation, cutoff_list=[10])\n",
    "evaluator_test = EvaluatorHoldout(urm_test, cutoff_list=[10])"
   ]
  },
  {
   "cell_type": "markdown",
   "metadata": {},
   "source": [
    "# Model"
   ]
  },
  {
   "cell_type": "code",
   "execution_count": 64,
   "metadata": {
    "execution": {
     "iopub.execute_input": "2023-11-30T15:28:13.403083Z",
     "iopub.status.busy": "2023-11-30T15:28:13.402535Z",
     "iopub.status.idle": "2023-11-30T15:28:13.413751Z",
     "shell.execute_reply": "2023-11-30T15:28:13.412449Z",
     "shell.execute_reply.started": "2023-11-30T15:28:13.403039Z"
    }
   },
   "outputs": [],
   "source": [
    "class ScoresHybridRecommender(BaseRecommender):\n",
    "    \"\"\" ScoresHybridRecommender\n",
    "    Hybrid of two prediction scores R = R1*alpha + R2*(1-alpha)\n",
    "\n",
    "    \"\"\"\n",
    "\n",
    "    RECOMMENDER_NAME = \"ScoresHybridRecommender\"\n",
    "\n",
    "    def __init__(self, URM_train, recommender_1, recommender_2):\n",
    "        super(ScoresHybridRecommender, self).__init__(URM_train)\n",
    "\n",
    "        self.URM_train = sps.csr_matrix(URM_train)\n",
    "        self.recommender_1 = recommender_1\n",
    "        self.recommender_2 = recommender_2\n",
    "\n",
    "\n",
    "    def fit(self, alpha=0.5):\n",
    "        self.alpha = alpha\n",
    "\n",
    "    def _compute_item_score(self, user_id_array, items_to_compute):\n",
    "\n",
    "        # In a simple extension this could be a loop over a list of pretrained recommender objects\n",
    "        item_weights_1 = self.recommender_1._compute_item_score(user_id_array)\n",
    "        item_weights_2 = self.recommender_2._compute_item_score(user_id_array)\n",
    "\n",
    "        item_weights = item_weights_1*self.alpha + item_weights_2*(1-self.alpha)\n",
    "\n",
    "        return item_weights"
   ]
  },
  {
   "cell_type": "markdown",
   "metadata": {},
   "source": [
    "# Hyperparameter Tuning"
   ]
  },
  {
   "cell_type": "code",
   "execution_count": 16,
   "metadata": {
    "execution": {
     "iopub.execute_input": "2023-11-30T14:31:44.240908Z",
     "iopub.status.busy": "2023-11-30T14:31:44.240329Z",
     "iopub.status.idle": "2023-11-30T14:31:44.259800Z",
     "shell.execute_reply": "2023-11-30T14:31:44.258185Z",
     "shell.execute_reply.started": "2023-11-30T14:31:44.240857Z"
    }
   },
   "outputs": [],
   "source": [
    "class SaveResults(object):\n",
    "\n",
    "    def __init__(self):\n",
    "        self.results_df = pd.DataFrame(columns=[\"result\"])\n",
    "\n",
    "    def __call__(self, optuna_study, optuna_trial):\n",
    "        hyperparam_dict = optuna_trial.params.copy()\n",
    "        hyperparam_dict[\"result\"] = optuna_trial.values[0]\n",
    "\n",
    "        # Create a DataFrame from the current trial's results\n",
    "        trial_df = pd.DataFrame([hyperparam_dict])\n",
    "\n",
    "        # Use concat instead of append\n",
    "        self.results_df = pd.concat([self.results_df, trial_df], ignore_index=True)"
   ]
  },
  {
   "cell_type": "markdown",
   "metadata": {},
   "source": [
    "## ItemKNNCF Tuning"
   ]
  },
  {
   "cell_type": "code",
   "execution_count": 17,
   "metadata": {
    "execution": {
     "iopub.execute_input": "2023-11-30T14:31:44.263382Z",
     "iopub.status.busy": "2023-11-30T14:31:44.262362Z",
     "iopub.status.idle": "2023-11-30T14:31:44.274111Z",
     "shell.execute_reply": "2023-11-30T14:31:44.272886Z",
     "shell.execute_reply.started": "2023-11-30T14:31:44.263325Z"
    }
   },
   "outputs": [],
   "source": [
    "import os\n",
    "os.chdir('/kaggle/working/')"
   ]
  },
  {
   "cell_type": "code",
   "execution_count": 18,
   "metadata": {
    "execution": {
     "iopub.execute_input": "2023-11-30T14:31:44.277061Z",
     "iopub.status.busy": "2023-11-30T14:31:44.275797Z",
     "iopub.status.idle": "2023-11-30T14:31:44.290178Z",
     "shell.execute_reply": "2023-11-30T14:31:44.288819Z",
     "shell.execute_reply.started": "2023-11-30T14:31:44.277016Z"
    }
   },
   "outputs": [],
   "source": [
    "from Recommenders.Similarity.Cython.Compute_Similarity_Cython import Compute_Similarity_Cython"
   ]
  },
  {
   "cell_type": "code",
   "execution_count": 22,
   "metadata": {
    "execution": {
     "iopub.execute_input": "2023-11-30T14:35:44.211540Z",
     "iopub.status.busy": "2023-11-30T14:35:44.210825Z",
     "iopub.status.idle": "2023-11-30T14:38:34.108132Z",
     "shell.execute_reply": "2023-11-30T14:38:34.106766Z",
     "shell.execute_reply.started": "2023-11-30T14:35:44.211491Z"
    }
   },
   "outputs": [
    {
     "name": "stdout",
     "output_type": "stream",
     "text": [
      "ItemKNNCFRecommender: URM Detected 462 ( 3.7%) users with no interactions.\n",
      "ItemKNNCFRecommender: URM Detected 344 ( 1.5%) items with no interactions.\n",
      "Similarity column 22222 (100.0%), 4698.87 column/sec. Elapsed time 4.73 sec\n",
      "EvaluatorHoldout: Processed 10008 (100.0%) in 8.22 sec. Users per second: 1218\n",
      "ItemKNNCFRecommender: URM Detected 462 ( 3.7%) users with no interactions.\n",
      "ItemKNNCFRecommender: URM Detected 344 ( 1.5%) items with no interactions.\n",
      "Similarity column 22222 (100.0%), 4643.88 column/sec. Elapsed time 4.79 sec\n",
      "EvaluatorHoldout: Processed 10008 (100.0%) in 8.34 sec. Users per second: 1200\n",
      "ItemKNNCFRecommender: URM Detected 462 ( 3.7%) users with no interactions.\n",
      "ItemKNNCFRecommender: URM Detected 344 ( 1.5%) items with no interactions.\n",
      "Similarity column 22222 (100.0%), 4715.54 column/sec. Elapsed time 4.71 sec\n",
      "EvaluatorHoldout: Processed 10008 (100.0%) in 8.52 sec. Users per second: 1175\n",
      "ItemKNNCFRecommender: URM Detected 462 ( 3.7%) users with no interactions.\n",
      "ItemKNNCFRecommender: URM Detected 344 ( 1.5%) items with no interactions.\n",
      "Similarity column 22222 (100.0%), 4696.97 column/sec. Elapsed time 4.73 sec\n",
      "EvaluatorHoldout: Processed 10008 (100.0%) in 12.00 sec. Users per second: 834\n",
      "ItemKNNCFRecommender: URM Detected 462 ( 3.7%) users with no interactions.\n",
      "ItemKNNCFRecommender: URM Detected 344 ( 1.5%) items with no interactions.\n",
      "Similarity column 22222 (100.0%), 4423.36 column/sec. Elapsed time 5.02 sec\n",
      "EvaluatorHoldout: Processed 10008 (100.0%) in 13.46 sec. Users per second: 743\n",
      "ItemKNNCFRecommender: URM Detected 462 ( 3.7%) users with no interactions.\n",
      "ItemKNNCFRecommender: URM Detected 344 ( 1.5%) items with no interactions.\n",
      "Similarity column 22222 (100.0%), 4631.19 column/sec. Elapsed time 4.80 sec\n",
      "EvaluatorHoldout: Processed 10008 (100.0%) in 9.29 sec. Users per second: 1077\n",
      "ItemKNNCFRecommender: URM Detected 462 ( 3.7%) users with no interactions.\n",
      "ItemKNNCFRecommender: URM Detected 344 ( 1.5%) items with no interactions.\n",
      "Similarity column 22222 (100.0%), 4664.55 column/sec. Elapsed time 4.76 sec\n",
      "EvaluatorHoldout: Processed 10008 (100.0%) in 9.36 sec. Users per second: 1069\n",
      "ItemKNNCFRecommender: URM Detected 462 ( 3.7%) users with no interactions.\n",
      "ItemKNNCFRecommender: URM Detected 344 ( 1.5%) items with no interactions.\n",
      "Similarity column 22222 (100.0%), 4588.72 column/sec. Elapsed time 4.84 sec\n",
      "EvaluatorHoldout: Processed 10008 (100.0%) in 10.03 sec. Users per second: 998\n",
      "ItemKNNCFRecommender: URM Detected 462 ( 3.7%) users with no interactions.\n",
      "ItemKNNCFRecommender: URM Detected 344 ( 1.5%) items with no interactions.\n",
      "Similarity column 22222 (100.0%), 4614.95 column/sec. Elapsed time 4.82 sec\n",
      "EvaluatorHoldout: Processed 10008 (100.0%) in 10.04 sec. Users per second: 997\n",
      "ItemKNNCFRecommender: URM Detected 462 ( 3.7%) users with no interactions.\n",
      "ItemKNNCFRecommender: URM Detected 344 ( 1.5%) items with no interactions.\n",
      "Similarity column 22222 (100.0%), 4495.78 column/sec. Elapsed time 4.94 sec\n",
      "EvaluatorHoldout: Processed 10008 (100.0%) in 12.51 sec. Users per second: 800\n",
      "ItemKNNCFRecommender: URM Detected 462 ( 3.7%) users with no interactions.\n",
      "ItemKNNCFRecommender: URM Detected 344 ( 1.5%) items with no interactions.\n",
      "Similarity column 22222 (100.0%), 4463.88 column/sec. Elapsed time 4.98 sec\n",
      "EvaluatorHoldout: Processed 10008 (100.0%) in 13.49 sec. Users per second: 742\n"
     ]
    }
   ],
   "source": [
    "hyperparameter_search_rnd = pd.DataFrame(columns = [\"k\", \"MAP\"])\n",
    "hyperparameter_search_rnd[\"k\"] = loguniform.rvs(10, 1000, size=11).astype(int) # Generate a list of k's following a loguniform distribution to search for the best performing value\n",
    "hyperparameter_search_rnd = hyperparameter_search_rnd.sort_values(by=\"k\") # Sort the values to test incrementally\n",
    "\n",
    "for index in hyperparameter_search_rnd.index: # Loop over k values\n",
    "\n",
    "    recommender = ItemKNNCFRecommender(urm_train)\n",
    "    recommender.fit(shrink=0.0, topK=hyperparameter_search_rnd.loc[index,\"k\"]) # Fit with collected k value\n",
    "\n",
    "    result_df, _ = evaluator_validation.evaluateRecommender(recommender)\n",
    "\n",
    "    hyperparameter_search_rnd.loc[index,\"MAP\"] = result_df.loc[10][\"MAP\"] # Save MAP evaluation result in the dataframe, for later plotting"
   ]
  },
  {
   "cell_type": "code",
   "execution_count": 23,
   "metadata": {
    "execution": {
     "iopub.execute_input": "2023-11-30T14:38:34.111117Z",
     "iopub.status.busy": "2023-11-30T14:38:34.110711Z",
     "iopub.status.idle": "2023-11-30T14:38:34.262799Z",
     "shell.execute_reply": "2023-11-30T14:38:34.261753Z",
     "shell.execute_reply.started": "2023-11-30T14:38:34.111078Z"
    }
   },
   "outputs": [
    {
     "data": {
      "image/png": "[encoded data removed]",
      "text/plain": [
       "<Figure size 432x288 with 1 Axes>"
      ]
     },
     "metadata": {
      "needs_background": "light"
     },
     "output_type": "display_data"
    }
   ],
   "source": [
    "pyplot.plot(hyperparameter_search_rnd[\"k\"].values, hyperparameter_search_rnd[\"MAP\"].values) # Plot MAP/K graph\n",
    "pyplot.ylabel('MAP')\n",
    "pyplot.xlabel('TopK')\n",
    "pyplot.show()"
   ]
  },
  {
   "cell_type": "code",
   "execution_count": 24,
   "metadata": {
    "execution": {
     "iopub.execute_input": "2023-11-30T14:38:34.265694Z",
     "iopub.status.busy": "2023-11-30T14:38:34.264422Z",
     "iopub.status.idle": "2023-11-30T14:38:34.274051Z",
     "shell.execute_reply": "2023-11-30T14:38:34.272667Z",
     "shell.execute_reply.started": "2023-11-30T14:38:34.265642Z"
    }
   },
   "outputs": [],
   "source": [
    "item_cf_best_k_value = hyperparameter_search_rnd.loc[hyperparameter_search_rnd[\"MAP\"].astype(float).idxmax()]"
   ]
  },
  {
   "cell_type": "code",
   "execution_count": 25,
   "metadata": {
    "execution": {
     "iopub.execute_input": "2023-11-30T14:38:34.278951Z",
     "iopub.status.busy": "2023-11-30T14:38:34.278384Z",
     "iopub.status.idle": "2023-11-30T14:41:02.442879Z",
     "shell.execute_reply": "2023-11-30T14:41:02.441517Z",
     "shell.execute_reply.started": "2023-11-30T14:38:34.278898Z"
    }
   },
   "outputs": [
    {
     "name": "stdout",
     "output_type": "stream",
     "text": [
      "ItemKNNCFRecommender: URM Detected 462 ( 3.7%) users with no interactions.\n",
      "ItemKNNCFRecommender: URM Detected 344 ( 1.5%) items with no interactions.\n",
      "Similarity column 22222 (100.0%), 4645.36 column/sec. Elapsed time 4.78 sec\n",
      "EvaluatorHoldout: Processed 10008 (100.0%) in 8.42 sec. Users per second: 1188\n",
      "ItemKNNCFRecommender: URM Detected 462 ( 3.7%) users with no interactions.\n",
      "ItemKNNCFRecommender: URM Detected 344 ( 1.5%) items with no interactions.\n",
      "Similarity column 22222 (100.0%), 4641.08 column/sec. Elapsed time 4.79 sec\n",
      "EvaluatorHoldout: Processed 10008 (100.0%) in 8.31 sec. Users per second: 1205\n",
      "ItemKNNCFRecommender: URM Detected 462 ( 3.7%) users with no interactions.\n",
      "ItemKNNCFRecommender: URM Detected 344 ( 1.5%) items with no interactions.\n",
      "Similarity column 22222 (100.0%), 4694.29 column/sec. Elapsed time 4.73 sec\n",
      "EvaluatorHoldout: Processed 10008 (100.0%) in 8.31 sec. Users per second: 1204\n",
      "ItemKNNCFRecommender: URM Detected 462 ( 3.7%) users with no interactions.\n",
      "ItemKNNCFRecommender: URM Detected 344 ( 1.5%) items with no interactions.\n",
      "Similarity column 22222 (100.0%), 4631.21 column/sec. Elapsed time 4.80 sec\n",
      "EvaluatorHoldout: Processed 10008 (100.0%) in 8.32 sec. Users per second: 1203\n",
      "ItemKNNCFRecommender: URM Detected 462 ( 3.7%) users with no interactions.\n",
      "ItemKNNCFRecommender: URM Detected 344 ( 1.5%) items with no interactions.\n",
      "Similarity column 22222 (100.0%), 4635.15 column/sec. Elapsed time 4.79 sec\n",
      "EvaluatorHoldout: Processed 10008 (100.0%) in 8.35 sec. Users per second: 1199\n",
      "ItemKNNCFRecommender: URM Detected 462 ( 3.7%) users with no interactions.\n",
      "ItemKNNCFRecommender: URM Detected 344 ( 1.5%) items with no interactions.\n",
      "Similarity column 22222 (100.0%), 4710.70 column/sec. Elapsed time 4.72 sec\n",
      "EvaluatorHoldout: Processed 10008 (100.0%) in 8.37 sec. Users per second: 1196\n",
      "ItemKNNCFRecommender: URM Detected 462 ( 3.7%) users with no interactions.\n",
      "ItemKNNCFRecommender: URM Detected 344 ( 1.5%) items with no interactions.\n",
      "Similarity column 22222 (100.0%), 4693.97 column/sec. Elapsed time 4.73 sec\n",
      "EvaluatorHoldout: Processed 10008 (100.0%) in 8.45 sec. Users per second: 1184\n",
      "ItemKNNCFRecommender: URM Detected 462 ( 3.7%) users with no interactions.\n",
      "ItemKNNCFRecommender: URM Detected 344 ( 1.5%) items with no interactions.\n",
      "Similarity column 22222 (100.0%), 4663.70 column/sec. Elapsed time 4.76 sec\n",
      "EvaluatorHoldout: Processed 10008 (100.0%) in 8.77 sec. Users per second: 1141\n",
      "ItemKNNCFRecommender: URM Detected 462 ( 3.7%) users with no interactions.\n",
      "ItemKNNCFRecommender: URM Detected 344 ( 1.5%) items with no interactions.\n",
      "Similarity column 22222 (100.0%), 4694.25 column/sec. Elapsed time 4.73 sec\n",
      "EvaluatorHoldout: Processed 10008 (100.0%) in 8.86 sec. Users per second: 1130\n",
      "ItemKNNCFRecommender: URM Detected 462 ( 3.7%) users with no interactions.\n",
      "ItemKNNCFRecommender: URM Detected 344 ( 1.5%) items with no interactions.\n",
      "Similarity column 22222 (100.0%), 4684.17 column/sec. Elapsed time 4.74 sec\n",
      "EvaluatorHoldout: Processed 10008 (100.0%) in 9.00 sec. Users per second: 1112\n",
      "ItemKNNCFRecommender: URM Detected 462 ( 3.7%) users with no interactions.\n",
      "ItemKNNCFRecommender: URM Detected 344 ( 1.5%) items with no interactions.\n",
      "Similarity column 22222 (100.0%), 4549.62 column/sec. Elapsed time 4.88 sec\n",
      "EvaluatorHoldout: Processed 10008 (100.0%) in 10.00 sec. Users per second: 1001\n"
     ]
    }
   ],
   "source": [
    "# Same procedure but with the shrink value\n",
    "hyperparameter_search_rnd = pd.DataFrame(columns = [\"k\", \"shrink\", \"MAP\"])\n",
    "hyperparameter_search_rnd[\"shrink\"] = loguniform.rvs(0.1, 1000, size=11).astype(int)\n",
    "hyperparameter_search_rnd = hyperparameter_search_rnd.sort_values(by=\"shrink\")\n",
    "hyperparameter_search_rnd[\"k\"] = item_cf_best_k_value[\"k\"]\n",
    "\n",
    "for index in hyperparameter_search_rnd.index:\n",
    "\n",
    "    recommender = ItemKNNCFRecommender(urm_train)\n",
    "    recommender.fit(shrink=hyperparameter_search_rnd.loc[index,\"shrink\"],\n",
    "                    topK=hyperparameter_search_rnd.loc[index,\"k\"])\n",
    "\n",
    "    result_df, _ = evaluator_validation.evaluateRecommender(recommender)\n",
    "\n",
    "    hyperparameter_search_rnd.loc[index, \"MAP\"] = result_df.loc[10][\"MAP\"]"
   ]
  },
  {
   "cell_type": "code",
   "execution_count": 26,
   "metadata": {
    "execution": {
     "iopub.execute_input": "2023-11-30T14:41:02.445583Z",
     "iopub.status.busy": "2023-11-30T14:41:02.444942Z",
     "iopub.status.idle": "2023-11-30T14:41:02.606986Z",
     "shell.execute_reply": "2023-11-30T14:41:02.605499Z",
     "shell.execute_reply.started": "2023-11-30T14:41:02.445521Z"
    }
   },
   "outputs": [
    {
     "data": {
      "image/png": "[encoded data removed]",
      "text/plain": [
       "<Figure size 432x288 with 1 Axes>"
      ]
     },
     "metadata": {
      "needs_background": "light"
     },
     "output_type": "display_data"
    }
   ],
   "source": [
    "pyplot.plot(hyperparameter_search_rnd[\"shrink\"].values, hyperparameter_search_rnd[\"MAP\"].values)\n",
    "pyplot.ylabel('MAP')\n",
    "pyplot.xlabel('Shrinkage')\n",
    "pyplot.show()"
   ]
  },
  {
   "cell_type": "code",
   "execution_count": 27,
   "metadata": {
    "execution": {
     "iopub.execute_input": "2023-11-30T14:41:02.610518Z",
     "iopub.status.busy": "2023-11-30T14:41:02.608826Z",
     "iopub.status.idle": "2023-11-30T14:41:02.623079Z",
     "shell.execute_reply": "2023-11-30T14:41:02.621624Z",
     "shell.execute_reply.started": "2023-11-30T14:41:02.610465Z"
    }
   },
   "outputs": [
    {
     "data": {
      "text/plain": [
       "11"
      ]
     },
     "execution_count": 27,
     "metadata": {},
     "output_type": "execute_result"
    }
   ],
   "source": [
    "item_cf_best_k_value = hyperparameter_search_rnd.loc[hyperparameter_search_rnd[\"MAP\"].astype(float).idxmax()]['k']\n",
    "item_cf_best_k_value"
   ]
  },
  {
   "cell_type": "code",
   "execution_count": 28,
   "metadata": {
    "execution": {
     "iopub.execute_input": "2023-11-30T14:41:02.625198Z",
     "iopub.status.busy": "2023-11-30T14:41:02.624744Z",
     "iopub.status.idle": "2023-11-30T14:41:02.642446Z",
     "shell.execute_reply": "2023-11-30T14:41:02.641253Z",
     "shell.execute_reply.started": "2023-11-30T14:41:02.625109Z"
    }
   },
   "outputs": [
    {
     "data": {
      "text/plain": [
       "4"
      ]
     },
     "execution_count": 28,
     "metadata": {},
     "output_type": "execute_result"
    }
   ],
   "source": [
    "item_cf_best_shrink_value = hyperparameter_search_rnd.loc[hyperparameter_search_rnd[\"MAP\"].astype(float).idxmax()]['shrink']\n",
    "item_cf_best_shrink_value"
   ]
  },
  {
   "cell_type": "markdown",
   "metadata": {},
   "source": [
    "## RP3Beta"
   ]
  },
  {
   "cell_type": "code",
   "execution_count": 31,
   "metadata": {
    "execution": {
     "iopub.execute_input": "2023-11-30T14:45:44.373497Z",
     "iopub.status.busy": "2023-11-30T14:45:44.372569Z",
     "iopub.status.idle": "2023-11-30T14:45:44.383800Z",
     "shell.execute_reply": "2023-11-30T14:45:44.382022Z",
     "shell.execute_reply.started": "2023-11-30T14:45:44.373409Z"
    }
   },
   "outputs": [],
   "source": [
    "#alpha=1., beta=0.6, min_rating=0, topK=100, implicit=False, normalize_similarity=True\n",
    "def objective_function_rp3beta(optuna_trial):\n",
    "\n",
    "    recommender_instance = RP3betaRecommender(urm_train)\n",
    "    recommender_instance.fit(\n",
    "                             beta = optuna_trial.suggest_float(\"beta\", 0.3, 0.65),\n",
    "                             topK = optuna_trial.suggest_int(\"topK\", 80, 140),\n",
    "                             implicit=True,\n",
    "                             normalize_similarity = optuna_trial.suggest_categorical(\"normalize_similarity\", [True, False]),\n",
    "                            )\n",
    "\n",
    "    result_df, _ = evaluator_validation.evaluateRecommender(recommender_instance)\n",
    "\n",
    "    return result_df.loc[10][\"MAP\"]"
   ]
  },
  {
   "cell_type": "code",
   "execution_count": 32,
   "metadata": {
    "execution": {
     "iopub.execute_input": "2023-11-30T14:45:44.473965Z",
     "iopub.status.busy": "2023-11-30T14:45:44.473400Z",
     "iopub.status.idle": "2023-11-30T14:55:10.275354Z",
     "shell.execute_reply": "2023-11-30T14:55:10.274002Z",
     "shell.execute_reply.started": "2023-11-30T14:45:44.473796Z"
    }
   },
   "outputs": [
    {
     "name": "stderr",
     "output_type": "stream",
     "text": [
      "\u001b[32m[I 2023-11-30 14:45:44,476]\u001b[0m A new study created in memory with name: no-name-0bfecc04-04a3-4843-a361-cdd351dd1f69\u001b[0m\n"
     ]
    },
    {
     "name": "stdout",
     "output_type": "stream",
     "text": [
      "RP3betaRecommender: URM Detected 462 ( 3.7%) users with no interactions.\n",
      "RP3betaRecommender: URM Detected 344 ( 1.5%) items with no interactions.\n",
      "RP3betaRecommender: Similarity column 22222 (100.0%), 1831.96 column/sec. Elapsed time 12.13 sec\n",
      "EvaluatorHoldout: Processed 10008 (100.0%) in 9.17 sec. Users per second: 1091\n"
     ]
    },
    {
     "name": "stderr",
     "output_type": "stream",
     "text": [
      "\u001b[32m[I 2023-11-30 14:46:10,756]\u001b[0m Trial 0 finished with value: 0.006310745054749851 and parameters: {'beta': 0.31574418198102516, 'topK': 103, 'normalize_similarity': False}. Best is trial 0 with value: 0.006310745054749851.\u001b[0m\n"
     ]
    },
    {
     "name": "stdout",
     "output_type": "stream",
     "text": [
      "RP3betaRecommender: URM Detected 462 ( 3.7%) users with no interactions.\n",
      "RP3betaRecommender: URM Detected 344 ( 1.5%) items with no interactions.\n",
      "RP3betaRecommender: Similarity column 22222 (100.0%), 1653.52 column/sec. Elapsed time 13.44 sec\n",
      "EvaluatorHoldout: Processed 10008 (100.0%) in 8.97 sec. Users per second: 1116\n"
     ]
    },
    {
     "name": "stderr",
     "output_type": "stream",
     "text": [
      "\u001b[32m[I 2023-11-30 14:46:39,177]\u001b[0m Trial 1 finished with value: 0.022201306415185355 and parameters: {'beta': 0.33685327901078443, 'topK': 127, 'normalize_similarity': True}. Best is trial 1 with value: 0.022201306415185355.\u001b[0m\n"
     ]
    },
    {
     "name": "stdout",
     "output_type": "stream",
     "text": [
      "RP3betaRecommender: URM Detected 462 ( 3.7%) users with no interactions.\n",
      "RP3betaRecommender: URM Detected 344 ( 1.5%) items with no interactions.\n",
      "RP3betaRecommender: Similarity column 22222 (100.0%), 1578.58 column/sec. Elapsed time 14.08 sec\n",
      "EvaluatorHoldout: Processed 10008 (100.0%) in 17.86 sec. Users per second: 560\n"
     ]
    },
    {
     "name": "stderr",
     "output_type": "stream",
     "text": [
      "\u001b[32m[I 2023-11-30 14:47:19,326]\u001b[0m Trial 2 finished with value: 0.00925289926788728 and parameters: {'beta': 0.59460342713999, 'topK': 136, 'normalize_similarity': True}. Best is trial 1 with value: 0.022201306415185355.\u001b[0m\n"
     ]
    },
    {
     "name": "stdout",
     "output_type": "stream",
     "text": [
      "RP3betaRecommender: URM Detected 462 ( 3.7%) users with no interactions.\n",
      "RP3betaRecommender: URM Detected 344 ( 1.5%) items with no interactions.\n",
      "RP3betaRecommender: Similarity column 22222 (100.0%), 1747.41 column/sec. Elapsed time 12.72 sec\n",
      "EvaluatorHoldout: Processed 10008 (100.0%) in 9.66 sec. Users per second: 1036\n"
     ]
    },
    {
     "name": "stderr",
     "output_type": "stream",
     "text": [
      "\u001b[32m[I 2023-11-30 14:47:46,684]\u001b[0m Trial 3 finished with value: 0.004331221530711955 and parameters: {'beta': 0.4920736514655447, 'topK': 91, 'normalize_similarity': False}. Best is trial 1 with value: 0.022201306415185355.\u001b[0m\n"
     ]
    },
    {
     "name": "stdout",
     "output_type": "stream",
     "text": [
      "RP3betaRecommender: URM Detected 462 ( 3.7%) users with no interactions.\n",
      "RP3betaRecommender: URM Detected 344 ( 1.5%) items with no interactions.\n",
      "RP3betaRecommender: Similarity column 22222 (100.0%), 1669.01 column/sec. Elapsed time 13.31 sec\n",
      "EvaluatorHoldout: Processed 10008 (100.0%) in 9.64 sec. Users per second: 1038\n"
     ]
    },
    {
     "name": "stderr",
     "output_type": "stream",
     "text": [
      "\u001b[32m[I 2023-11-30 14:48:16,470]\u001b[0m Trial 4 finished with value: 0.0034988675726085926 and parameters: {'beta': 0.6117100664772752, 'topK': 126, 'normalize_similarity': False}. Best is trial 1 with value: 0.022201306415185355.\u001b[0m\n"
     ]
    },
    {
     "name": "stdout",
     "output_type": "stream",
     "text": [
      "RP3betaRecommender: URM Detected 462 ( 3.7%) users with no interactions.\n",
      "RP3betaRecommender: URM Detected 344 ( 1.5%) items with no interactions.\n",
      "RP3betaRecommender: Similarity column 22222 (100.0%), 1619.02 column/sec. Elapsed time 13.73 sec\n",
      "EvaluatorHoldout: Processed 10008 (100.0%) in 9.99 sec. Users per second: 1002\n"
     ]
    },
    {
     "name": "stderr",
     "output_type": "stream",
     "text": [
      "\u001b[32m[I 2023-11-30 14:48:47,227]\u001b[0m Trial 5 finished with value: 0.011995954823442805 and parameters: {'beta': 0.5539450294511704, 'topK': 135, 'normalize_similarity': True}. Best is trial 1 with value: 0.022201306415185355.\u001b[0m\n"
     ]
    },
    {
     "name": "stdout",
     "output_type": "stream",
     "text": [
      "RP3betaRecommender: URM Detected 462 ( 3.7%) users with no interactions.\n",
      "RP3betaRecommender: URM Detected 344 ( 1.5%) items with no interactions.\n",
      "RP3betaRecommender: Similarity column 22222 (100.0%), 1951.33 column/sec. Elapsed time 11.39 sec\n",
      "EvaluatorHoldout: Processed 10008 (100.0%) in 9.57 sec. Users per second: 1046\n"
     ]
    },
    {
     "name": "stderr",
     "output_type": "stream",
     "text": [
      "\u001b[32m[I 2023-11-30 14:49:13,324]\u001b[0m Trial 6 finished with value: 0.01614983806605506 and parameters: {'beta': 0.49266731213631054, 'topK': 93, 'normalize_similarity': True}. Best is trial 1 with value: 0.022201306415185355.\u001b[0m\n"
     ]
    },
    {
     "name": "stdout",
     "output_type": "stream",
     "text": [
      "RP3betaRecommender: URM Detected 462 ( 3.7%) users with no interactions.\n",
      "RP3betaRecommender: URM Detected 344 ( 1.5%) items with no interactions.\n",
      "RP3betaRecommender: Similarity column 22222 (100.0%), 1623.31 column/sec. Elapsed time 13.69 sec\n",
      "EvaluatorHoldout: Processed 10008 (100.0%) in 9.88 sec. Users per second: 1013\n"
     ]
    },
    {
     "name": "stderr",
     "output_type": "stream",
     "text": [
      "\u001b[32m[I 2023-11-30 14:49:43,871]\u001b[0m Trial 7 finished with value: 0.009578484038166305 and parameters: {'beta': 0.5905100883840748, 'topK': 130, 'normalize_similarity': True}. Best is trial 1 with value: 0.022201306415185355.\u001b[0m\n"
     ]
    },
    {
     "name": "stdout",
     "output_type": "stream",
     "text": [
      "RP3betaRecommender: URM Detected 462 ( 3.7%) users with no interactions.\n",
      "RP3betaRecommender: URM Detected 344 ( 1.5%) items with no interactions.\n",
      "RP3betaRecommender: Similarity column 22222 (100.0%), 1690.80 column/sec. Elapsed time 13.14 sec\n",
      "EvaluatorHoldout: Processed 10008 (100.0%) in 9.76 sec. Users per second: 1026\n"
     ]
    },
    {
     "name": "stderr",
     "output_type": "stream",
     "text": [
      "\u001b[32m[I 2023-11-30 14:50:13,312]\u001b[0m Trial 8 finished with value: 0.00917195212084302 and parameters: {'beta': 0.5969139533773096, 'topK': 119, 'normalize_similarity': True}. Best is trial 1 with value: 0.022201306415185355.\u001b[0m\n"
     ]
    },
    {
     "name": "stdout",
     "output_type": "stream",
     "text": [
      "RP3betaRecommender: URM Detected 462 ( 3.7%) users with no interactions.\n",
      "RP3betaRecommender: URM Detected 344 ( 1.5%) items with no interactions.\n",
      "RP3betaRecommender: Similarity column 22222 (100.0%), 1627.77 column/sec. Elapsed time 13.65 sec\n",
      "EvaluatorHoldout: Processed 10008 (100.0%) in 9.11 sec. Users per second: 1099\n"
     ]
    },
    {
     "name": "stderr",
     "output_type": "stream",
     "text": [
      "\u001b[32m[I 2023-11-30 14:50:42,111]\u001b[0m Trial 9 finished with value: 0.021582107330009023 and parameters: {'beta': 0.35870595802689176, 'topK': 127, 'normalize_similarity': True}. Best is trial 1 with value: 0.022201306415185355.\u001b[0m\n"
     ]
    },
    {
     "name": "stdout",
     "output_type": "stream",
     "text": [
      "RP3betaRecommender: URM Detected 462 ( 3.7%) users with no interactions.\n",
      "RP3betaRecommender: URM Detected 344 ( 1.5%) items with no interactions.\n",
      "RP3betaRecommender: Similarity column 22222 (100.0%), 1745.53 column/sec. Elapsed time 12.73 sec\n",
      "EvaluatorHoldout: Processed 10008 (100.0%) in 9.30 sec. Users per second: 1077\n"
     ]
    },
    {
     "name": "stderr",
     "output_type": "stream",
     "text": [
      "\u001b[32m[I 2023-11-30 14:51:09,722]\u001b[0m Trial 10 finished with value: 0.005343625892936448 and parameters: {'beta': 0.40420136302477905, 'topK': 110, 'normalize_similarity': False}. Best is trial 1 with value: 0.022201306415185355.\u001b[0m\n"
     ]
    },
    {
     "name": "stdout",
     "output_type": "stream",
     "text": [
      "RP3betaRecommender: URM Detected 462 ( 3.7%) users with no interactions.\n",
      "RP3betaRecommender: URM Detected 344 ( 1.5%) items with no interactions.\n",
      "RP3betaRecommender: Similarity column 22222 (100.0%), 1706.28 column/sec. Elapsed time 13.02 sec\n",
      "EvaluatorHoldout: Processed 10008 (100.0%) in 9.53 sec. Users per second: 1050\n"
     ]
    },
    {
     "name": "stderr",
     "output_type": "stream",
     "text": [
      "\u001b[32m[I 2023-11-30 14:51:37,901]\u001b[0m Trial 11 finished with value: 0.023139769930087706 and parameters: {'beta': 0.30104305036039913, 'topK': 120, 'normalize_similarity': True}. Best is trial 11 with value: 0.023139769930087706.\u001b[0m\n"
     ]
    },
    {
     "name": "stdout",
     "output_type": "stream",
     "text": [
      "RP3betaRecommender: URM Detected 462 ( 3.7%) users with no interactions.\n",
      "RP3betaRecommender: URM Detected 344 ( 1.5%) items with no interactions.\n",
      "RP3betaRecommender: Similarity column 22222 (100.0%), 1669.37 column/sec. Elapsed time 13.31 sec\n",
      "EvaluatorHoldout: Processed 10008 (100.0%) in 9.58 sec. Users per second: 1044\n"
     ]
    },
    {
     "name": "stderr",
     "output_type": "stream",
     "text": [
      "\u001b[32m[I 2023-11-30 14:52:06,820]\u001b[0m Trial 12 finished with value: 0.022994505189499262 and parameters: {'beta': 0.308396603076521, 'topK': 117, 'normalize_similarity': True}. Best is trial 11 with value: 0.023139769930087706.\u001b[0m\n"
     ]
    },
    {
     "name": "stdout",
     "output_type": "stream",
     "text": [
      "RP3betaRecommender: URM Detected 462 ( 3.7%) users with no interactions.\n",
      "RP3betaRecommender: URM Detected 344 ( 1.5%) items with no interactions.\n",
      "RP3betaRecommender: Similarity column 22222 (100.0%), 1751.29 column/sec. Elapsed time 12.69 sec\n",
      "EvaluatorHoldout: Processed 10008 (100.0%) in 9.66 sec. Users per second: 1036\n"
     ]
    },
    {
     "name": "stderr",
     "output_type": "stream",
     "text": [
      "\u001b[32m[I 2023-11-30 14:52:34,994]\u001b[0m Trial 13 finished with value: 0.020040205930493736 and parameters: {'beta': 0.4087784364643959, 'topK': 111, 'normalize_similarity': True}. Best is trial 11 with value: 0.023139769930087706.\u001b[0m\n"
     ]
    },
    {
     "name": "stdout",
     "output_type": "stream",
     "text": [
      "RP3betaRecommender: URM Detected 462 ( 3.7%) users with no interactions.\n",
      "RP3betaRecommender: URM Detected 344 ( 1.5%) items with no interactions.\n",
      "RP3betaRecommender: Similarity column 22222 (100.0%), 1684.56 column/sec. Elapsed time 13.19 sec\n",
      "EvaluatorHoldout: Processed 10008 (100.0%) in 9.70 sec. Users per second: 1032\n"
     ]
    },
    {
     "name": "stderr",
     "output_type": "stream",
     "text": [
      "\u001b[32m[I 2023-11-30 14:53:03,682]\u001b[0m Trial 14 finished with value: 0.02069650232195202 and parameters: {'beta': 0.3910286002197572, 'topK': 117, 'normalize_similarity': True}. Best is trial 11 with value: 0.023139769930087706.\u001b[0m\n"
     ]
    },
    {
     "name": "stdout",
     "output_type": "stream",
     "text": [
      "RP3betaRecommender: URM Detected 462 ( 3.7%) users with no interactions.\n",
      "RP3betaRecommender: URM Detected 344 ( 1.5%) items with no interactions.\n",
      "RP3betaRecommender: Similarity column 22222 (100.0%), 1837.27 column/sec. Elapsed time 12.10 sec\n",
      "EvaluatorHoldout: Processed 10008 (100.0%) in 9.65 sec. Users per second: 1037\n"
     ]
    },
    {
     "name": "stderr",
     "output_type": "stream",
     "text": [
      "\u001b[32m[I 2023-11-30 14:53:30,912]\u001b[0m Trial 15 finished with value: 0.01883348083438011 and parameters: {'beta': 0.43967551507283315, 'topK': 104, 'normalize_similarity': True}. Best is trial 11 with value: 0.023139769930087706.\u001b[0m\n"
     ]
    },
    {
     "name": "stdout",
     "output_type": "stream",
     "text": [
      "RP3betaRecommender: URM Detected 462 ( 3.7%) users with no interactions.\n",
      "RP3betaRecommender: URM Detected 344 ( 1.5%) items with no interactions.\n",
      "RP3betaRecommender: Similarity column 22222 (100.0%), 2114.02 column/sec. Elapsed time 10.51 sec\n",
      "EvaluatorHoldout: Processed 10008 (100.0%) in 9.25 sec. Users per second: 1082\n"
     ]
    },
    {
     "name": "stderr",
     "output_type": "stream",
     "text": [
      "\u001b[32m[I 2023-11-30 14:53:54,708]\u001b[0m Trial 16 finished with value: 0.023145336905079163 and parameters: {'beta': 0.30002883785816453, 'topK': 81, 'normalize_similarity': True}. Best is trial 16 with value: 0.023145336905079163.\u001b[0m\n"
     ]
    },
    {
     "name": "stdout",
     "output_type": "stream",
     "text": [
      "RP3betaRecommender: URM Detected 462 ( 3.7%) users with no interactions.\n",
      "RP3betaRecommender: URM Detected 344 ( 1.5%) items with no interactions.\n",
      "RP3betaRecommender: Similarity column 22222 (100.0%), 2072.57 column/sec. Elapsed time 10.72 sec\n",
      "EvaluatorHoldout: Processed 10008 (100.0%) in 9.46 sec. Users per second: 1058\n"
     ]
    },
    {
     "name": "stderr",
     "output_type": "stream",
     "text": [
      "\u001b[32m[I 2023-11-30 14:54:19,321]\u001b[0m Trial 17 finished with value: 0.02166947790973575 and parameters: {'beta': 0.3612998091695362, 'topK': 82, 'normalize_similarity': True}. Best is trial 16 with value: 0.023145336905079163.\u001b[0m\n"
     ]
    },
    {
     "name": "stdout",
     "output_type": "stream",
     "text": [
      "RP3betaRecommender: URM Detected 462 ( 3.7%) users with no interactions.\n",
      "RP3betaRecommender: URM Detected 344 ( 1.5%) items with no interactions.\n",
      "RP3betaRecommender: Similarity column 22222 (100.0%), 2003.64 column/sec. Elapsed time 11.09 sec\n",
      "EvaluatorHoldout: Processed 10008 (100.0%) in 9.02 sec. Users per second: 1109\n"
     ]
    },
    {
     "name": "stderr",
     "output_type": "stream",
     "text": [
      "\u001b[32m[I 2023-11-30 14:54:43,558]\u001b[0m Trial 18 finished with value: 0.006255824705315114 and parameters: {'beta': 0.30129338301642955, 'topK': 82, 'normalize_similarity': False}. Best is trial 16 with value: 0.023145336905079163.\u001b[0m\n"
     ]
    },
    {
     "name": "stdout",
     "output_type": "stream",
     "text": [
      "RP3betaRecommender: URM Detected 462 ( 3.7%) users with no interactions.\n",
      "RP3betaRecommender: URM Detected 344 ( 1.5%) items with no interactions.\n",
      "RP3betaRecommender: Similarity column 22222 (100.0%), 1888.44 column/sec. Elapsed time 11.77 sec\n",
      "EvaluatorHoldout: Processed 10008 (100.0%) in 9.74 sec. Users per second: 1028\n"
     ]
    },
    {
     "name": "stderr",
     "output_type": "stream",
     "text": [
      "\u001b[32m[I 2023-11-30 14:55:10,266]\u001b[0m Trial 19 finished with value: 0.01830533192493619 and parameters: {'beta': 0.45222363340237315, 'topK': 98, 'normalize_similarity': True}. Best is trial 16 with value: 0.023145336905079163.\u001b[0m\n"
     ]
    }
   ],
   "source": [
    "optuna_study_rp3beta = optuna.create_study(direction=\"maximize\")\n",
    "\n",
    "save_results_rp3beta = SaveResults()\n",
    "\n",
    "optuna_study_rp3beta.optimize(objective_function_rp3beta,\n",
    "                      callbacks=[save_results_rp3beta],\n",
    "                      n_trials = 20)"
   ]
  },
  {
   "cell_type": "code",
   "execution_count": 33,
   "metadata": {
    "execution": {
     "iopub.execute_input": "2023-11-30T14:55:10.279302Z",
     "iopub.status.busy": "2023-11-30T14:55:10.278225Z",
     "iopub.status.idle": "2023-11-30T14:55:10.300924Z",
     "shell.execute_reply": "2023-11-30T14:55:10.299565Z",
     "shell.execute_reply.started": "2023-11-30T14:55:10.279246Z"
    }
   },
   "outputs": [
    {
     "name": "stdout",
     "output_type": "stream",
     "text": [
      "Study statistics: \n",
      "  Number of finished trials:  20\n",
      "  Number of pruned trials:  0\n",
      "  Number of complete trials:  20\n",
      "Best trial:\n",
      "  Value Validation:  0.023145336905079163\n",
      "Best params:\n",
      "{'beta': 0.30002883785816453, 'topK': 81, 'normalize_similarity': True}\n"
     ]
    }
   ],
   "source": [
    "pruned_trials = [t for t in optuna_study_rp3beta.trials if t.state == optuna.trial.TrialState.PRUNED]\n",
    "complete_trials = [t for t in optuna_study_rp3beta.trials if t.state == optuna.trial.TrialState.COMPLETE]\n",
    "\n",
    "print(\"Study statistics: \")\n",
    "print(\"  Number of finished trials: \", len(optuna_study_rp3beta.trials))\n",
    "print(\"  Number of pruned trials: \", len(pruned_trials))\n",
    "print(\"  Number of complete trials: \", len(complete_trials))\n",
    "\n",
    "print(\"Best trial:\")\n",
    "print(\"  Value Validation: \", optuna_study_rp3beta.best_trial.value)\n",
    "\n",
    "print(\"Best params:\")\n",
    "print(optuna_study_rp3beta.best_trial.params)"
   ]
  },
  {
   "cell_type": "markdown",
   "metadata": {},
   "source": [
    "## Alpha [ItemKNN + P3Beta]"
   ]
  },
  {
   "cell_type": "code",
   "execution_count": 34,
   "metadata": {
    "execution": {
     "iopub.execute_input": "2023-11-30T14:55:10.304104Z",
     "iopub.status.busy": "2023-11-30T14:55:10.303226Z",
     "iopub.status.idle": "2023-11-30T14:55:15.090621Z",
     "shell.execute_reply": "2023-11-30T14:55:15.089524Z",
     "shell.execute_reply.started": "2023-11-30T14:55:10.304044Z"
    }
   },
   "outputs": [
    {
     "name": "stdout",
     "output_type": "stream",
     "text": [
      "ItemKNNCFRecommender: URM Detected 462 ( 3.7%) users with no interactions.\n",
      "ItemKNNCFRecommender: URM Detected 344 ( 1.5%) items with no interactions.\n",
      "Similarity column 22222 (100.0%), 4688.24 column/sec. Elapsed time 4.74 sec\n"
     ]
    }
   ],
   "source": [
    "itemKNNCF = ItemKNNCFRecommender(urm_train)\n",
    "itemKNNCF.fit(shrink=item_cf_best_shrink_value, topK=item_cf_best_k_value)"
   ]
  },
  {
   "cell_type": "code",
   "execution_count": 35,
   "metadata": {
    "execution": {
     "iopub.execute_input": "2023-11-30T14:55:15.093827Z",
     "iopub.status.busy": "2023-11-30T14:55:15.093070Z",
     "iopub.status.idle": "2023-11-30T14:55:29.976775Z",
     "shell.execute_reply": "2023-11-30T14:55:29.975612Z",
     "shell.execute_reply.started": "2023-11-30T14:55:15.093785Z"
    }
   },
   "outputs": [
    {
     "name": "stdout",
     "output_type": "stream",
     "text": [
      "RP3betaRecommender: URM Detected 462 ( 3.7%) users with no interactions.\n",
      "RP3betaRecommender: URM Detected 344 ( 1.5%) items with no interactions.\n",
      "RP3betaRecommender: Similarity column 22222 (100.0%), 2043.26 column/sec. Elapsed time 10.88 sec\n"
     ]
    }
   ],
   "source": [
    "p3beta = RP3betaRecommender(urm_train)\n",
    "p3beta.fit(\n",
    "                         beta = optuna_study_rp3beta.best_trial.params['beta'],\n",
    "                         topK = optuna_study_rp3beta.best_trial.params['topK'],\n",
    "                         implicit=True,\n",
    "                         normalize_similarity = optuna_study_rp3beta.best_trial.params['normalize_similarity'],\n",
    "                        )"
   ]
  },
  {
   "cell_type": "code",
   "execution_count": 41,
   "metadata": {
    "execution": {
     "iopub.execute_input": "2023-11-30T14:56:25.839479Z",
     "iopub.status.busy": "2023-11-30T14:56:25.838996Z",
     "iopub.status.idle": "2023-11-30T14:56:25.847481Z",
     "shell.execute_reply": "2023-11-30T14:56:25.845994Z",
     "shell.execute_reply.started": "2023-11-30T14:56:25.839440Z"
    }
   },
   "outputs": [],
   "source": [
    "def objective_function_customCF(optuna_trial):\n",
    "    alpha = optuna_trial.suggest_float(\"alpha\", 0.1, 0.9)\n",
    "    new_similarity = (1 - alpha) * itemKNNCF.W_sparse + alpha * p3beta.W_sparse\n",
    "    \n",
    "    recommender_instance = ItemKNNCustomSimilarityRecommender(urm_train)\n",
    "    recommender_instance.fit(new_similarity)\n",
    "\n",
    "    result_df, _ = evaluator_validation.evaluateRecommender(recommender_instance)\n",
    "\n",
    "    return result_df.loc[10][\"MAP\"]"
   ]
  },
  {
   "cell_type": "code",
   "execution_count": 42,
   "metadata": {
    "execution": {
     "iopub.execute_input": "2023-11-30T14:56:26.073861Z",
     "iopub.status.busy": "2023-11-30T14:56:26.073397Z",
     "iopub.status.idle": "2023-11-30T14:59:33.710843Z",
     "shell.execute_reply": "2023-11-30T14:59:33.709473Z",
     "shell.execute_reply.started": "2023-11-30T14:56:26.073823Z"
    }
   },
   "outputs": [
    {
     "name": "stderr",
     "output_type": "stream",
     "text": [
      "\u001b[32m[I 2023-11-30 14:56:26,076]\u001b[0m A new study created in memory with name: no-name-46a0bb17-ac5b-4699-b3bd-232ecd6e3717\u001b[0m\n"
     ]
    },
    {
     "name": "stdout",
     "output_type": "stream",
     "text": [
      "ItemKNNCustomSimilarityRecommender: URM Detected 462 ( 3.7%) users with no interactions.\n",
      "ItemKNNCustomSimilarityRecommender: URM Detected 344 ( 1.5%) items with no interactions.\n",
      "EvaluatorHoldout: Processed 10008 (100.0%) in 9.46 sec. Users per second: 1058\n"
     ]
    },
    {
     "name": "stderr",
     "output_type": "stream",
     "text": [
      "\u001b[32m[I 2023-11-30 14:56:35,583]\u001b[0m Trial 0 finished with value: 0.028946009858779743 and parameters: {'alpha': 0.5125938522469833}. Best is trial 0 with value: 0.028946009858779743.\u001b[0m\n"
     ]
    },
    {
     "name": "stdout",
     "output_type": "stream",
     "text": [
      "ItemKNNCustomSimilarityRecommender: URM Detected 462 ( 3.7%) users with no interactions.\n",
      "ItemKNNCustomSimilarityRecommender: URM Detected 344 ( 1.5%) items with no interactions.\n",
      "EvaluatorHoldout: Processed 10008 (100.0%) in 9.60 sec. Users per second: 1042\n"
     ]
    },
    {
     "name": "stderr",
     "output_type": "stream",
     "text": [
      "\u001b[32m[I 2023-11-30 14:56:45,226]\u001b[0m Trial 1 finished with value: 0.02922083365054 and parameters: {'alpha': 0.6132488512900939}. Best is trial 1 with value: 0.02922083365054.\u001b[0m\n"
     ]
    },
    {
     "name": "stdout",
     "output_type": "stream",
     "text": [
      "ItemKNNCustomSimilarityRecommender: URM Detected 462 ( 3.7%) users with no interactions.\n",
      "ItemKNNCustomSimilarityRecommender: URM Detected 344 ( 1.5%) items with no interactions.\n",
      "EvaluatorHoldout: Processed 10008 (100.0%) in 9.38 sec. Users per second: 1067\n"
     ]
    },
    {
     "name": "stderr",
     "output_type": "stream",
     "text": [
      "\u001b[32m[I 2023-11-30 14:56:54,648]\u001b[0m Trial 2 finished with value: 0.02865386658926839 and parameters: {'alpha': 0.31217700983177354}. Best is trial 1 with value: 0.02922083365054.\u001b[0m\n"
     ]
    },
    {
     "name": "stdout",
     "output_type": "stream",
     "text": [
      "ItemKNNCustomSimilarityRecommender: URM Detected 462 ( 3.7%) users with no interactions.\n",
      "ItemKNNCustomSimilarityRecommender: URM Detected 344 ( 1.5%) items with no interactions.\n",
      "EvaluatorHoldout: Processed 10008 (100.0%) in 9.28 sec. Users per second: 1078\n"
     ]
    },
    {
     "name": "stderr",
     "output_type": "stream",
     "text": [
      "\u001b[32m[I 2023-11-30 14:57:03,969]\u001b[0m Trial 3 finished with value: 0.029469638574854563 and parameters: {'alpha': 0.6998816553458816}. Best is trial 3 with value: 0.029469638574854563.\u001b[0m\n"
     ]
    },
    {
     "name": "stdout",
     "output_type": "stream",
     "text": [
      "ItemKNNCustomSimilarityRecommender: URM Detected 462 ( 3.7%) users with no interactions.\n",
      "ItemKNNCustomSimilarityRecommender: URM Detected 344 ( 1.5%) items with no interactions.\n",
      "EvaluatorHoldout: Processed 10008 (100.0%) in 9.34 sec. Users per second: 1071\n"
     ]
    },
    {
     "name": "stderr",
     "output_type": "stream",
     "text": [
      "\u001b[32m[I 2023-11-30 14:57:13,352]\u001b[0m Trial 4 finished with value: 0.029479709882887475 and parameters: {'alpha': 0.7507153373279152}. Best is trial 4 with value: 0.029479709882887475.\u001b[0m\n"
     ]
    },
    {
     "name": "stdout",
     "output_type": "stream",
     "text": [
      "ItemKNNCustomSimilarityRecommender: URM Detected 462 ( 3.7%) users with no interactions.\n",
      "ItemKNNCustomSimilarityRecommender: URM Detected 344 ( 1.5%) items with no interactions.\n",
      "EvaluatorHoldout: Processed 10008 (100.0%) in 9.30 sec. Users per second: 1077\n"
     ]
    },
    {
     "name": "stderr",
     "output_type": "stream",
     "text": [
      "\u001b[32m[I 2023-11-30 14:57:22,688]\u001b[0m Trial 5 finished with value: 0.02831357136513022 and parameters: {'alpha': 0.126580142485214}. Best is trial 4 with value: 0.029479709882887475.\u001b[0m\n"
     ]
    },
    {
     "name": "stdout",
     "output_type": "stream",
     "text": [
      "ItemKNNCustomSimilarityRecommender: URM Detected 462 ( 3.7%) users with no interactions.\n",
      "ItemKNNCustomSimilarityRecommender: URM Detected 344 ( 1.5%) items with no interactions.\n",
      "EvaluatorHoldout: Processed 10008 (100.0%) in 9.28 sec. Users per second: 1078\n"
     ]
    },
    {
     "name": "stderr",
     "output_type": "stream",
     "text": [
      "\u001b[32m[I 2023-11-30 14:57:32,011]\u001b[0m Trial 6 finished with value: 0.02933288686511125 and parameters: {'alpha': 0.8109573465883024}. Best is trial 4 with value: 0.029479709882887475.\u001b[0m\n"
     ]
    },
    {
     "name": "stdout",
     "output_type": "stream",
     "text": [
      "ItemKNNCustomSimilarityRecommender: URM Detected 462 ( 3.7%) users with no interactions.\n",
      "ItemKNNCustomSimilarityRecommender: URM Detected 344 ( 1.5%) items with no interactions.\n",
      "EvaluatorHoldout: Processed 10008 (100.0%) in 9.37 sec. Users per second: 1068\n"
     ]
    },
    {
     "name": "stderr",
     "output_type": "stream",
     "text": [
      "\u001b[32m[I 2023-11-30 14:59:15,033]\u001b[0m Trial 17 finished with value: 0.02821499149886457 and parameters: {'alpha': 0.8939465208325379}. Best is trial 12 with value: 0.02954696956720352.\u001b[0m\n"
     ]
    },
    {
     "name": "stdout",
     "output_type": "stream",
     "text": [
      "ItemKNNCustomSimilarityRecommender: URM Detected 462 ( 3.7%) users with no interactions.\n",
      "ItemKNNCustomSimilarityRecommender: URM Detected 344 ( 1.5%) items with no interactions.\n",
      "EvaluatorHoldout: Processed 10008 (100.0%) in 9.34 sec. Users per second: 1071\n"
     ]
    },
    {
     "name": "stderr",
     "output_type": "stream",
     "text": [
      "\u001b[32m[I 2023-11-30 14:59:24,423]\u001b[0m Trial 18 finished with value: 0.028653727811401797 and parameters: {'alpha': 0.31820795547939357}. Best is trial 12 with value: 0.02954696956720352.\u001b[0m\n"
     ]
    },
    {
     "name": "stdout",
     "output_type": "stream",
     "text": [
      "ItemKNNCustomSimilarityRecommender: URM Detected 462 ( 3.7%) users with no interactions.\n",
      "ItemKNNCustomSimilarityRecommender: URM Detected 344 ( 1.5%) items with no interactions.\n",
      "EvaluatorHoldout: Processed 10008 (100.0%) in 9.24 sec. Users per second: 1084\n"
     ]
    },
    {
     "name": "stderr",
     "output_type": "stream",
     "text": [
      "\u001b[32m[I 2023-11-30 14:59:33,703]\u001b[0m Trial 19 finished with value: 0.029379016627967602 and parameters: {'alpha': 0.6622844943966981}. Best is trial 12 with value: 0.02954696956720352.\u001b[0m\n"
     ]
    }
   ],
   "source": [
    "optuna_study_customCF = optuna.create_study(direction=\"maximize\")\n",
    "\n",
    "save_results_customCF = SaveResults()\n",
    "\n",
    "optuna_study_customCF.optimize(objective_function_customCF,\n",
    "                      callbacks=[save_results_customCF],\n",
    "                      n_trials = 20)"
   ]
  },
  {
   "cell_type": "code",
   "execution_count": 43,
   "metadata": {
    "execution": {
     "iopub.execute_input": "2023-11-30T14:59:33.713668Z",
     "iopub.status.busy": "2023-11-30T14:59:33.713240Z",
     "iopub.status.idle": "2023-11-30T14:59:33.732473Z",
     "shell.execute_reply": "2023-11-30T14:59:33.730987Z",
     "shell.execute_reply.started": "2023-11-30T14:59:33.713631Z"
    }
   },
   "outputs": [
    {
     "name": "stdout",
     "output_type": "stream",
     "text": [
      "Study statistics: \n",
      "  Number of finished trials:  20\n",
      "  Number of pruned trials:  0\n",
      "  Number of complete trials:  20\n",
      "Best trial:\n",
      "  Value Validation:  0.02954696956720352\n",
      "Best params:\n",
      "{'alpha': 0.7218066605716578}\n"
     ]
    }
   ],
   "source": [
    "pruned_trials = [t for t in optuna_study_customCF.trials if t.state == optuna.trial.TrialState.PRUNED]\n",
    "complete_trials = [t for t in optuna_study_customCF.trials if t.state == optuna.trial.TrialState.COMPLETE]\n",
    "\n",
    "print(\"Study statistics: \")\n",
    "print(\"  Number of finished trials: \", len(optuna_study_customCF.trials))\n",
    "print(\"  Number of pruned trials: \", len(pruned_trials))\n",
    "print(\"  Number of complete trials: \", len(complete_trials))\n",
    "\n",
    "print(\"Best trial:\")\n",
    "print(\"  Value Validation: \", optuna_study_customCF.best_trial.value)\n",
    "\n",
    "print(\"Best params:\")\n",
    "print(optuna_study_customCF.best_trial.params)"
   ]
  },
  {
   "cell_type": "markdown",
   "metadata": {},
   "source": [
    "# UserKNN"
   ]
  },
  {
   "cell_type": "code",
   "execution_count": 48,
   "metadata": {
    "execution": {
     "iopub.execute_input": "2023-11-30T15:13:22.474542Z",
     "iopub.status.busy": "2023-11-30T15:13:22.474025Z",
     "iopub.status.idle": "2023-11-30T15:15:43.726609Z",
     "shell.execute_reply": "2023-11-30T15:15:43.725041Z",
     "shell.execute_reply.started": "2023-11-30T15:13:22.474501Z"
    }
   },
   "outputs": [
    {
     "name": "stdout",
     "output_type": "stream",
     "text": [
      "UserKNNCFRecommender: URM Detected 462 ( 3.7%) users with no interactions.\n",
      "UserKNNCFRecommender: URM Detected 344 ( 1.5%) items with no interactions.\n",
      "Similarity column 12638 (100.0%), 5778.33 column/sec. Elapsed time 2.19 sec\n",
      "EvaluatorHoldout: Processed 10008 (100.0%) in 8.19 sec. Users per second: 1223\n",
      "UserKNNCFRecommender: URM Detected 462 ( 3.7%) users with no interactions.\n",
      "UserKNNCFRecommender: URM Detected 344 ( 1.5%) items with no interactions.\n",
      "Similarity column 12638 (100.0%), 5720.66 column/sec. Elapsed time 2.21 sec\n",
      "EvaluatorHoldout: Processed 10008 (100.0%) in 8.31 sec. Users per second: 1205\n",
      "UserKNNCFRecommender: URM Detected 462 ( 3.7%) users with no interactions.\n",
      "UserKNNCFRecommender: URM Detected 344 ( 1.5%) items with no interactions.\n",
      "Similarity column 12638 (100.0%), 5699.50 column/sec. Elapsed time 2.22 sec\n",
      "EvaluatorHoldout: Processed 10008 (100.0%) in 9.17 sec. Users per second: 1091\n",
      "UserKNNCFRecommender: URM Detected 462 ( 3.7%) users with no interactions.\n",
      "UserKNNCFRecommender: URM Detected 344 ( 1.5%) items with no interactions.\n",
      "Similarity column 12638 (100.0%), 5706.26 column/sec. Elapsed time 2.21 sec\n",
      "EvaluatorHoldout: Processed 10008 (100.0%) in 9.43 sec. Users per second: 1061\n",
      "UserKNNCFRecommender: URM Detected 462 ( 3.7%) users with no interactions.\n",
      "UserKNNCFRecommender: URM Detected 344 ( 1.5%) items with no interactions.\n",
      "Similarity column 12638 (100.0%), 5661.22 column/sec. Elapsed time 2.23 sec\n",
      "EvaluatorHoldout: Processed 10008 (100.0%) in 9.83 sec. Users per second: 1018\n",
      "UserKNNCFRecommender: URM Detected 462 ( 3.7%) users with no interactions.\n",
      "UserKNNCFRecommender: URM Detected 344 ( 1.5%) items with no interactions.\n",
      "Similarity column 12638 (100.0%), 5526.72 column/sec. Elapsed time 2.29 sec\n",
      "EvaluatorHoldout: Processed 10008 (100.0%) in 10.69 sec. Users per second: 936\n",
      "UserKNNCFRecommender: URM Detected 462 ( 3.7%) users with no interactions.\n",
      "UserKNNCFRecommender: URM Detected 344 ( 1.5%) items with no interactions.\n",
      "Similarity column 12638 (100.0%), 5518.27 column/sec. Elapsed time 2.29 sec\n",
      "EvaluatorHoldout: Processed 10008 (100.0%) in 11.33 sec. Users per second: 884\n",
      "UserKNNCFRecommender: URM Detected 462 ( 3.7%) users with no interactions.\n",
      "UserKNNCFRecommender: URM Detected 344 ( 1.5%) items with no interactions.\n",
      "Similarity column 12638 (100.0%), 5519.45 column/sec. Elapsed time 2.29 sec\n",
      "EvaluatorHoldout: Processed 10008 (100.0%) in 11.51 sec. Users per second: 870\n",
      "UserKNNCFRecommender: URM Detected 462 ( 3.7%) users with no interactions.\n",
      "UserKNNCFRecommender: URM Detected 344 ( 1.5%) items with no interactions.\n",
      "Similarity column 12638 (100.0%), 5407.58 column/sec. Elapsed time 2.34 sec\n",
      "EvaluatorHoldout: Processed 10008 (100.0%) in 11.57 sec. Users per second: 865\n",
      "UserKNNCFRecommender: URM Detected 462 ( 3.7%) users with no interactions.\n",
      "UserKNNCFRecommender: URM Detected 344 ( 1.5%) items with no interactions.\n",
      "Similarity column 12638 (100.0%), 5329.32 column/sec. Elapsed time 2.37 sec\n",
      "EvaluatorHoldout: Processed 10008 (100.0%) in 12.08 sec. Users per second: 829\n",
      "UserKNNCFRecommender: URM Detected 462 ( 3.7%) users with no interactions.\n",
      "UserKNNCFRecommender: URM Detected 344 ( 1.5%) items with no interactions.\n",
      "Similarity column 12638 (100.0%), 5218.47 column/sec. Elapsed time 2.42 sec\n",
      "EvaluatorHoldout: Processed 10008 (100.0%) in 12.44 sec. Users per second: 805\n"
     ]
    }
   ],
   "source": [
    "hyperparameter_search_rnd = pd.DataFrame(columns = [\"k\", \"MAP\"])\n",
    "hyperparameter_search_rnd[\"k\"] = loguniform.rvs(10, 1000, size=11).astype(int) # Generate a list of k's following a loguniform distribution to search for the best performing value\n",
    "hyperparameter_search_rnd = hyperparameter_search_rnd.sort_values(by=\"k\") # Sort the values to test incrementally\n",
    "\n",
    "for index in hyperparameter_search_rnd.index: # Loop over k values\n",
    "\n",
    "    recommender = UserKNNCFRecommender(urm_train)\n",
    "    recommender.fit(shrink=0.0, topK=hyperparameter_search_rnd.loc[index,\"k\"]) # Fit with collected k value\n",
    "\n",
    "    result_df, _ = evaluator_validation.evaluateRecommender(recommender)\n",
    "\n",
    "    hyperparameter_search_rnd.loc[index,\"MAP\"] = result_df.loc[10][\"MAP\"] # Save MAP evaluation result in the dataframe, for later plotting"
   ]
  },
  {
   "cell_type": "code",
   "execution_count": 49,
   "metadata": {
    "execution": {
     "iopub.execute_input": "2023-11-30T15:15:43.729652Z",
     "iopub.status.busy": "2023-11-30T15:15:43.729230Z",
     "iopub.status.idle": "2023-11-30T15:15:43.950873Z",
     "shell.execute_reply": "2023-11-30T15:15:43.949681Z",
     "shell.execute_reply.started": "2023-11-30T15:15:43.729616Z"
    }
   },
   "outputs": [
    {
     "data": {
      "image/png": "[encoded data removed]",
      "text/plain": [
       "<Figure size 432x288 with 1 Axes>"
      ]
     },
     "metadata": {
      "needs_background": "light"
     },
     "output_type": "display_data"
    }
   ],
   "source": [
    "pyplot.plot(hyperparameter_search_rnd[\"k\"].values, hyperparameter_search_rnd[\"MAP\"].values) # Plot MAP/K graph\n",
    "pyplot.ylabel('MAP')\n",
    "pyplot.xlabel('TopK')\n",
    "pyplot.show()"
   ]
  },
  {
   "cell_type": "code",
   "execution_count": 50,
   "metadata": {
    "execution": {
     "iopub.execute_input": "2023-11-30T15:15:43.952561Z",
     "iopub.status.busy": "2023-11-30T15:15:43.952177Z",
     "iopub.status.idle": "2023-11-30T15:15:43.960482Z",
     "shell.execute_reply": "2023-11-30T15:15:43.958684Z",
     "shell.execute_reply.started": "2023-11-30T15:15:43.952526Z"
    }
   },
   "outputs": [],
   "source": [
    "user_cf_best_k_value = hyperparameter_search_rnd.loc[hyperparameter_search_rnd[\"MAP\"].astype(float).idxmax()]"
   ]
  },
  {
   "cell_type": "code",
   "execution_count": 51,
   "metadata": {
    "execution": {
     "iopub.execute_input": "2023-11-30T15:15:43.965237Z",
     "iopub.status.busy": "2023-11-30T15:15:43.964343Z",
     "iopub.status.idle": "2023-11-30T15:18:18.054936Z",
     "shell.execute_reply": "2023-11-30T15:18:18.053553Z",
     "shell.execute_reply.started": "2023-11-30T15:15:43.965071Z"
    },
    "scrolled": true
   },
   "outputs": [
    {
     "name": "stdout",
     "output_type": "stream",
     "text": [
      "UserKNNCFRecommender: URM Detected 462 ( 3.7%) users with no interactions.\n",
      "UserKNNCFRecommender: URM Detected 344 ( 1.5%) items with no interactions.\n",
      "Similarity column 12638 (100.0%), 5454.81 column/sec. Elapsed time 2.32 sec\n",
      "EvaluatorHoldout: Processed 10008 (100.0%) in 11.44 sec. Users per second: 875\n",
      "UserKNNCFRecommender: URM Detected 462 ( 3.7%) users with no interactions.\n",
      "UserKNNCFRecommender: URM Detected 344 ( 1.5%) items with no interactions.\n",
      "Similarity column 12638 (100.0%), 5455.87 column/sec. Elapsed time 2.32 sec\n",
      "EvaluatorHoldout: Processed 10008 (100.0%) in 11.51 sec. Users per second: 869\n",
      "UserKNNCFRecommender: URM Detected 462 ( 3.7%) users with no interactions.\n",
      "UserKNNCFRecommender: URM Detected 344 ( 1.5%) items with no interactions.\n",
      "Similarity column 12638 (100.0%), 5546.07 column/sec. Elapsed time 2.28 sec\n",
      "EvaluatorHoldout: Processed 10008 (100.0%) in 11.52 sec. Users per second: 869\n",
      "UserKNNCFRecommender: URM Detected 462 ( 3.7%) users with no interactions.\n",
      "UserKNNCFRecommender: URM Detected 344 ( 1.5%) items with no interactions.\n",
      "Similarity column 12638 (100.0%), 5533.01 column/sec. Elapsed time 2.28 sec\n",
      "EvaluatorHoldout: Processed 10008 (100.0%) in 11.58 sec. Users per second: 864\n",
      "UserKNNCFRecommender: URM Detected 462 ( 3.7%) users with no interactions.\n",
      "UserKNNCFRecommender: URM Detected 344 ( 1.5%) items with no interactions.\n",
      "Similarity column 12638 (100.0%), 5513.43 column/sec. Elapsed time 2.29 sec\n",
      "EvaluatorHoldout: Processed 10008 (100.0%) in 11.48 sec. Users per second: 872\n",
      "UserKNNCFRecommender: URM Detected 462 ( 3.7%) users with no interactions.\n",
      "UserKNNCFRecommender: URM Detected 344 ( 1.5%) items with no interactions.\n",
      "Similarity column 12638 (100.0%), 5537.27 column/sec. Elapsed time 2.28 sec\n",
      "EvaluatorHoldout: Processed 10008 (100.0%) in 11.48 sec. Users per second: 872\n",
      "UserKNNCFRecommender: URM Detected 462 ( 3.7%) users with no interactions.\n",
      "UserKNNCFRecommender: URM Detected 344 ( 1.5%) items with no interactions.\n",
      "Similarity column 12638 (100.0%), 5310.51 column/sec. Elapsed time 2.38 sec\n",
      "EvaluatorHoldout: Processed 10008 (100.0%) in 11.54 sec. Users per second: 868\n",
      "UserKNNCFRecommender: URM Detected 462 ( 3.7%) users with no interactions.\n",
      "UserKNNCFRecommender: URM Detected 344 ( 1.5%) items with no interactions.\n",
      "Similarity column 12638 (100.0%), 5524.94 column/sec. Elapsed time 2.29 sec\n",
      "EvaluatorHoldout: Processed 10008 (100.0%) in 11.51 sec. Users per second: 869\n",
      "UserKNNCFRecommender: URM Detected 462 ( 3.7%) users with no interactions.\n",
      "UserKNNCFRecommender: URM Detected 344 ( 1.5%) items with no interactions.\n",
      "Similarity column 12638 (100.0%), 5554.65 column/sec. Elapsed time 2.28 sec\n",
      "EvaluatorHoldout: Processed 10008 (100.0%) in 11.61 sec. Users per second: 862\n",
      "UserKNNCFRecommender: URM Detected 462 ( 3.7%) users with no interactions.\n",
      "UserKNNCFRecommender: URM Detected 344 ( 1.5%) items with no interactions.\n",
      "Similarity column 12638 (100.0%), 5573.12 column/sec. Elapsed time 2.27 sec\n",
      "EvaluatorHoldout: Processed 10008 (100.0%) in 11.58 sec. Users per second: 864\n",
      "UserKNNCFRecommender: URM Detected 462 ( 3.7%) users with no interactions.\n",
      "UserKNNCFRecommender: URM Detected 344 ( 1.5%) items with no interactions.\n",
      "Similarity column 12638 (100.0%), 5406.45 column/sec. Elapsed time 2.34 sec\n",
      "EvaluatorHoldout: Processed 10008 (100.0%) in 11.32 sec. Users per second: 884\n"
     ]
    }
   ],
   "source": [
    "# Same procedure but with the shrink value\n",
    "hyperparameter_search_rnd = pd.DataFrame(columns = [\"k\", \"shrink\", \"MAP\"])\n",
    "hyperparameter_search_rnd[\"shrink\"] = loguniform.rvs(0.1, 1000, size=11).astype(int)\n",
    "hyperparameter_search_rnd = hyperparameter_search_rnd.sort_values(by=\"shrink\")\n",
    "hyperparameter_search_rnd[\"k\"] = user_cf_best_k_value[\"k\"]\n",
    "\n",
    "for index in hyperparameter_search_rnd.index:\n",
    "\n",
    "    recommender = UserKNNCFRecommender(urm_train)\n",
    "    recommender.fit(shrink=hyperparameter_search_rnd.loc[index,\"shrink\"],\n",
    "                    topK=hyperparameter_search_rnd.loc[index,\"k\"])\n",
    "\n",
    "    result_df, _ = evaluator_validation.evaluateRecommender(recommender)\n",
    "\n",
    "    hyperparameter_search_rnd.loc[index, \"MAP\"] = result_df.loc[10][\"MAP\"]"
   ]
  },
  {
   "cell_type": "code",
   "execution_count": 52,
   "metadata": {
    "execution": {
     "iopub.execute_input": "2023-11-30T15:18:18.057304Z",
     "iopub.status.busy": "2023-11-30T15:18:18.056819Z",
     "iopub.status.idle": "2023-11-30T15:18:18.300775Z",
     "shell.execute_reply": "2023-11-30T15:18:18.299446Z",
     "shell.execute_reply.started": "2023-11-30T15:18:18.057263Z"
    }
   },
   "outputs": [
    {
     "data": {
      "image/png": "[encoded data removed]",
      "text/plain": [
       "<Figure size 432x288 with 1 Axes>"
      ]
     },
     "metadata": {
      "needs_background": "light"
     },
     "output_type": "display_data"
    }
   ],
   "source": [
    "pyplot.plot(hyperparameter_search_rnd[\"shrink\"].values, hyperparameter_search_rnd[\"MAP\"].values)\n",
    "pyplot.ylabel('MAP')\n",
    "pyplot.xlabel('Shrinkage')\n",
    "pyplot.show()"
   ]
  },
  {
   "cell_type": "code",
   "execution_count": 53,
   "metadata": {
    "execution": {
     "iopub.execute_input": "2023-11-30T15:18:18.303513Z",
     "iopub.status.busy": "2023-11-30T15:18:18.302953Z",
     "iopub.status.idle": "2023-11-30T15:18:18.314558Z",
     "shell.execute_reply": "2023-11-30T15:18:18.313221Z",
     "shell.execute_reply.started": "2023-11-30T15:18:18.303462Z"
    }
   },
   "outputs": [
    {
     "data": {
      "text/plain": [
       "402"
      ]
     },
     "execution_count": 53,
     "metadata": {},
     "output_type": "execute_result"
    }
   ],
   "source": [
    "user_cf_best_k_value = hyperparameter_search_rnd.loc[hyperparameter_search_rnd[\"MAP\"].astype(float).idxmax()]['k']\n",
    "user_cf_best_k_value"
   ]
  },
  {
   "cell_type": "code",
   "execution_count": 54,
   "metadata": {
    "execution": {
     "iopub.execute_input": "2023-11-30T15:18:18.316734Z",
     "iopub.status.busy": "2023-11-30T15:18:18.316359Z",
     "iopub.status.idle": "2023-11-30T15:18:18.336101Z",
     "shell.execute_reply": "2023-11-30T15:18:18.334699Z",
     "shell.execute_reply.started": "2023-11-30T15:18:18.316701Z"
    }
   },
   "outputs": [
    {
     "data": {
      "text/plain": [
       "0"
      ]
     },
     "execution_count": 54,
     "metadata": {},
     "output_type": "execute_result"
    }
   ],
   "source": [
    "user_cf_best_shrink_value = hyperparameter_search_rnd.loc[hyperparameter_search_rnd[\"MAP\"].astype(float).idxmax()]['shrink']\n",
    "user_cf_best_shrink_value"
   ]
  },
  {
   "cell_type": "markdown",
   "metadata": {},
   "source": [
    "# Alpha [Full Hybrid]"
   ]
  },
  {
   "cell_type": "code",
   "execution_count": 59,
   "metadata": {
    "execution": {
     "iopub.execute_input": "2023-11-30T15:19:11.710204Z",
     "iopub.status.busy": "2023-11-30T15:19:11.709743Z",
     "iopub.status.idle": "2023-11-30T15:19:11.748644Z",
     "shell.execute_reply": "2023-11-30T15:19:11.747256Z",
     "shell.execute_reply.started": "2023-11-30T15:19:11.710165Z"
    }
   },
   "outputs": [
    {
     "name": "stdout",
     "output_type": "stream",
     "text": [
      "ItemKNNCustomSimilarityRecommender: URM Detected 462 ( 3.7%) users with no interactions.\n",
      "ItemKNNCustomSimilarityRecommender: URM Detected 344 ( 1.5%) items with no interactions.\n"
     ]
    }
   ],
   "source": [
    "new_similarity = (1 - optuna_study_customCF.best_trial.params['alpha']) * itemKNNCF.W_sparse + optuna_study_customCF.best_trial.params['alpha'] * p3beta.W_sparse\n",
    "itemknn_custom = ItemKNNCustomSimilarityRecommender(urm_train)\n",
    "itemknn_custom.fit(new_similarity)"
   ]
  },
  {
   "cell_type": "code",
   "execution_count": 58,
   "metadata": {
    "execution": {
     "iopub.execute_input": "2023-11-30T15:19:04.998220Z",
     "iopub.status.busy": "2023-11-30T15:19:04.997746Z",
     "iopub.status.idle": "2023-11-30T15:19:07.506949Z",
     "shell.execute_reply": "2023-11-30T15:19:07.505759Z",
     "shell.execute_reply.started": "2023-11-30T15:19:04.998182Z"
    }
   },
   "outputs": [
    {
     "name": "stdout",
     "output_type": "stream",
     "text": [
      "UserKNNCFRecommender: URM Detected 462 ( 3.7%) users with no interactions.\n",
      "UserKNNCFRecommender: URM Detected 344 ( 1.5%) items with no interactions.\n",
      "Similarity column 12638 (100.0%), 5471.71 column/sec. Elapsed time 2.31 sec\n"
     ]
    }
   ],
   "source": [
    "userknn = UserKNNCFRecommender(urm_train)\n",
    "userknn.fit(shrink=user_cf_best_shrink_value,\n",
    "                topK=user_cf_best_k_value)"
   ]
  },
  {
   "cell_type": "code",
   "execution_count": 60,
   "metadata": {
    "execution": {
     "iopub.execute_input": "2023-11-30T15:19:15.955615Z",
     "iopub.status.busy": "2023-11-30T15:19:15.955036Z",
     "iopub.status.idle": "2023-11-30T15:19:15.965741Z",
     "shell.execute_reply": "2023-11-30T15:19:15.964695Z",
     "shell.execute_reply.started": "2023-11-30T15:19:15.955569Z"
    }
   },
   "outputs": [],
   "source": [
    "def objective_function_hybrid(optuna_trial):\n",
    "    alpha = optuna_trial.suggest_float(\"alpha\", 0.2, 0.8)\n",
    "    \n",
    "    recommender_instance = ScoresHybridRecommender(urm_train, itemknn_custom, userknn)\n",
    "    recommender_instance.fit(alpha)\n",
    "\n",
    "    result_df, _ = evaluator_validation.evaluateRecommender(recommender_instance)\n",
    "\n",
    "    return result_df.loc[10][\"MAP\"]"
   ]
  },
  {
   "cell_type": "code",
   "execution_count": 61,
   "metadata": {
    "execution": {
     "iopub.execute_input": "2023-11-30T15:19:19.499615Z",
     "iopub.status.busy": "2023-11-30T15:19:19.499090Z",
     "iopub.status.idle": "2023-11-30T15:24:00.342176Z",
     "shell.execute_reply": "2023-11-30T15:24:00.340876Z",
     "shell.execute_reply.started": "2023-11-30T15:19:19.499574Z"
    }
   },
   "outputs": [
    {
     "name": "stderr",
     "output_type": "stream",
     "text": [
      "\u001b[32m[I 2023-11-30 15:19:19,502]\u001b[0m A new study created in memory with name: no-name-5452b923-9d07-4180-89f0-ef0e696e581c\u001b[0m\n"
     ]
    },
    {
     "name": "stdout",
     "output_type": "stream",
     "text": [
      "ScoresHybridRecommender: URM Detected 462 ( 3.7%) users with no interactions.\n",
      "ScoresHybridRecommender: URM Detected 344 ( 1.5%) items with no interactions.\n",
      "EvaluatorHoldout: Processed 10008 (100.0%) in 14.11 sec. Users per second: 709\n"
     ]
    },
    {
     "name": "stderr",
     "output_type": "stream",
     "text": [
      "\u001b[32m[I 2023-11-30 15:19:33,646]\u001b[0m Trial 0 finished with value: 0.02432356892263967 and parameters: {'alpha': 0.2654320273308662}. Best is trial 0 with value: 0.02432356892263967.\u001b[0m\n"
     ]
    },
    {
     "name": "stdout",
     "output_type": "stream",
     "text": [
      "ScoresHybridRecommender: URM Detected 462 ( 3.7%) users with no interactions.\n",
      "ScoresHybridRecommender: URM Detected 344 ( 1.5%) items with no interactions.\n",
      "EvaluatorHoldout: Processed 10008 (100.0%) in 14.00 sec. Users per second: 715\n"
     ]
    },
    {
     "name": "stderr",
     "output_type": "stream",
     "text": [
      "\u001b[32m[I 2023-11-30 15:19:47,676]\u001b[0m Trial 1 finished with value: 0.02450930525420934 and parameters: {'alpha': 0.3267247226243558}. Best is trial 1 with value: 0.02450930525420934.\u001b[0m\n"
     ]
    },
    {
     "name": "stdout",
     "output_type": "stream",
     "text": [
      "ScoresHybridRecommender: URM Detected 462 ( 3.7%) users with no interactions.\n",
      "ScoresHybridRecommender: URM Detected 344 ( 1.5%) items with no interactions.\n",
      "EvaluatorHoldout: Processed 10008 (100.0%) in 14.23 sec. Users per second: 703\n"
     ]
    },
    {
     "name": "stderr",
     "output_type": "stream",
     "text": [
      "\u001b[32m[I 2023-11-30 15:20:01,929]\u001b[0m Trial 2 finished with value: 0.0247164926788728 and parameters: {'alpha': 0.36930260914200763}. Best is trial 2 with value: 0.0247164926788728.\u001b[0m\n"
     ]
    },
    {
     "name": "stdout",
     "output_type": "stream",
     "text": [
      "ScoresHybridRecommender: URM Detected 462 ( 3.7%) users with no interactions.\n",
      "ScoresHybridRecommender: URM Detected 344 ( 1.5%) items with no interactions.\n",
      "EvaluatorHoldout: Processed 10008 (100.0%) in 14.00 sec. Users per second: 715\n"
     ]
    },
    {
     "name": "stderr",
     "output_type": "stream",
     "text": [
      "\u001b[32m[I 2023-11-30 15:20:15,955]\u001b[0m Trial 3 finished with value: 0.027853538597693475 and parameters: {'alpha': 0.7687338507435619}. Best is trial 3 with value: 0.027853538597693475.\u001b[0m\n"
     ]
    },
    {
     "name": "stdout",
     "output_type": "stream",
     "text": [
      "ScoresHybridRecommender: URM Detected 462 ( 3.7%) users with no interactions.\n",
      "ScoresHybridRecommender: URM Detected 344 ( 1.5%) items with no interactions.\n",
      "EvaluatorHoldout: Processed 10008 (100.0%) in 14.06 sec. Users per second: 712\n"
     ]
    },
    {
     "name": "stderr",
     "output_type": "stream",
     "text": [
      "\u001b[32m[I 2023-11-30 15:20:30,037]\u001b[0m Trial 4 finished with value: 0.024797927530991127 and parameters: {'alpha': 0.3898883476479059}. Best is trial 3 with value: 0.027853538597693475.\u001b[0m\n"
     ]
    },
    {
     "name": "stdout",
     "output_type": "stream",
     "text": [
      "ScoresHybridRecommender: URM Detected 462 ( 3.7%) users with no interactions.\n",
      "ScoresHybridRecommender: URM Detected 344 ( 1.5%) items with no interactions.\n",
      "EvaluatorHoldout: Processed 10008 (100.0%) in 14.07 sec. Users per second: 711\n"
     ]
    },
    {
     "name": "stderr",
     "output_type": "stream",
     "text": [
      "\u001b[32m[I 2023-11-30 15:20:44,133]\u001b[0m Trial 5 finished with value: 0.027100747973050256 and parameters: {'alpha': 0.6953439408524252}. Best is trial 3 with value: 0.027853538597693475.\u001b[0m\n"
     ]
    },
    {
     "name": "stdout",
     "output_type": "stream",
     "text": [
      "ScoresHybridRecommender: URM Detected 462 ( 3.7%) users with no interactions.\n",
      "ScoresHybridRecommender: URM Detected 344 ( 1.5%) items with no interactions.\n",
      "EvaluatorHoldout: Processed 10008 (100.0%) in 14.04 sec. Users per second: 713\n"
     ]
    },
    {
     "name": "stderr",
     "output_type": "stream",
     "text": [
      "\u001b[32m[I 2023-11-30 15:20:58,195]\u001b[0m Trial 6 finished with value: 0.026809818018601075 and parameters: {'alpha': 0.6650178722679807}. Best is trial 3 with value: 0.027853538597693475.\u001b[0m\n"
     ]
    },
    {
     "name": "stdout",
     "output_type": "stream",
     "text": [
      "ScoresHybridRecommender: URM Detected 462 ( 3.7%) users with no interactions.\n",
      "ScoresHybridRecommender: URM Detected 344 ( 1.5%) items with no interactions.\n",
      "EvaluatorHoldout: Processed 10008 (100.0%) in 13.99 sec. Users per second: 715\n"
     ]
    },
    {
     "name": "stderr",
     "output_type": "stream",
     "text": [
      "\u001b[32m[I 2023-11-30 15:21:12,212]\u001b[0m Trial 7 finished with value: 0.0279597948625229 and parameters: {'alpha': 0.7777063202585701}. Best is trial 7 with value: 0.0279597948625229.\u001b[0m\n"
     ]
    },
    {
     "name": "stdout",
     "output_type": "stream",
     "text": [
      "ScoresHybridRecommender: URM Detected 462 ( 3.7%) users with no interactions.\n",
      "ScoresHybridRecommender: URM Detected 344 ( 1.5%) items with no interactions.\n",
      "EvaluatorHoldout: Processed 10008 (100.0%) in 13.97 sec. Users per second: 716\n"
     ]
    },
    {
     "name": "stderr",
     "output_type": "stream",
     "text": [
      "\u001b[32m[I 2023-11-30 15:21:26,206]\u001b[0m Trial 8 finished with value: 0.02584319449202546 and parameters: {'alpha': 0.5625947814985729}. Best is trial 7 with value: 0.0279597948625229.\u001b[0m\n"
     ]
    },
    {
     "name": "stdout",
     "output_type": "stream",
     "text": [
      "ScoresHybridRecommender: URM Detected 462 ( 3.7%) users with no interactions.\n",
      "ScoresHybridRecommender: URM Detected 344 ( 1.5%) items with no interactions.\n",
      "EvaluatorHoldout: Processed 10008 (100.0%) in 13.90 sec. Users per second: 720\n"
     ]
    },
    {
     "name": "stderr",
     "output_type": "stream",
     "text": [
      "\u001b[32m[I 2023-11-30 15:21:40,137]\u001b[0m Trial 9 finished with value: 0.024842023206831397 and parameters: {'alpha': 0.4101300248627005}. Best is trial 7 with value: 0.0279597948625229.\u001b[0m\n"
     ]
    },
    {
     "name": "stdout",
     "output_type": "stream",
     "text": [
      "ScoresHybridRecommender: URM Detected 462 ( 3.7%) users with no interactions.\n",
      "ScoresHybridRecommender: URM Detected 344 ( 1.5%) items with no interactions.\n",
      "EvaluatorHoldout: Processed 10008 (100.0%) in 14.00 sec. Users per second: 715\n"
     ]
    },
    {
     "name": "stderr",
     "output_type": "stream",
     "text": [
      "\u001b[32m[I 2023-11-30 15:21:54,169]\u001b[0m Trial 10 finished with value: 0.02588310700645835 and parameters: {'alpha': 0.5669726115799243}. Best is trial 7 with value: 0.0279597948625229.\u001b[0m\n"
     ]
    },
    {
     "name": "stdout",
     "output_type": "stream",
     "text": [
      "ScoresHybridRecommender: URM Detected 462 ( 3.7%) users with no interactions.\n",
      "ScoresHybridRecommender: URM Detected 344 ( 1.5%) items with no interactions.\n",
      "EvaluatorHoldout: Processed 10008 (100.0%) in 14.06 sec. Users per second: 712\n"
     ]
    },
    {
     "name": "stderr",
     "output_type": "stream",
     "text": [
      "\u001b[32m[I 2023-11-30 15:22:08,260]\u001b[0m Trial 11 finished with value: 0.02821572900409855 and parameters: {'alpha': 0.798326158583829}. Best is trial 11 with value: 0.02821572900409855.\u001b[0m\n"
     ]
    },
    {
     "name": "stdout",
     "output_type": "stream",
     "text": [
      "ScoresHybridRecommender: URM Detected 462 ( 3.7%) users with no interactions.\n",
      "ScoresHybridRecommender: URM Detected 344 ( 1.5%) items with no interactions.\n",
      "EvaluatorHoldout: Processed 10008 (100.0%) in 13.98 sec. Users per second: 716\n"
     ]
    },
    {
     "name": "stderr",
     "output_type": "stream",
     "text": [
      "\u001b[32m[I 2023-11-30 15:22:22,270]\u001b[0m Trial 12 finished with value: 0.028086713169147428 and parameters: {'alpha': 0.7882667408213189}. Best is trial 11 with value: 0.02821572900409855.\u001b[0m\n"
     ]
    },
    {
     "name": "stdout",
     "output_type": "stream",
     "text": [
      "ScoresHybridRecommender: URM Detected 462 ( 3.7%) users with no interactions.\n",
      "ScoresHybridRecommender: URM Detected 344 ( 1.5%) items with no interactions.\n",
      "EvaluatorHoldout: Processed 10008 (100.0%) in 14.01 sec. Users per second: 714\n"
     ]
    },
    {
     "name": "stderr",
     "output_type": "stream",
     "text": [
      "\u001b[32m[I 2023-11-30 15:22:36,313]\u001b[0m Trial 13 finished with value: 0.02677503235506842 and parameters: {'alpha': 0.6631242994664618}. Best is trial 11 with value: 0.02821572900409855.\u001b[0m\n"
     ]
    },
    {
     "name": "stdout",
     "output_type": "stream",
     "text": [
      "ScoresHybridRecommender: URM Detected 462 ( 3.7%) users with no interactions.\n",
      "ScoresHybridRecommender: URM Detected 344 ( 1.5%) items with no interactions.\n",
      "EvaluatorHoldout: Processed 10008 (100.0%) in 13.95 sec. Users per second: 717\n"
     ]
    },
    {
     "name": "stderr",
     "output_type": "stream",
     "text": [
      "\u001b[32m[I 2023-11-30 15:22:50,293]\u001b[0m Trial 14 finished with value: 0.02812570974966081 and parameters: {'alpha': 0.7926767820308558}. Best is trial 11 with value: 0.02821572900409855.\u001b[0m\n"
     ]
    },
    {
     "name": "stdout",
     "output_type": "stream",
     "text": [
      "ScoresHybridRecommender: URM Detected 462 ( 3.7%) users with no interactions.\n",
      "ScoresHybridRecommender: URM Detected 344 ( 1.5%) items with no interactions.\n",
      "EvaluatorHoldout: Processed 10008 (100.0%) in 13.96 sec. Users per second: 717\n"
     ]
    },
    {
     "name": "stderr",
     "output_type": "stream",
     "text": [
      "\u001b[32m[I 2023-11-30 15:23:04,280]\u001b[0m Trial 15 finished with value: 0.025457522870592438 and parameters: {'alpha': 0.5208592168752624}. Best is trial 11 with value: 0.02821572900409855.\u001b[0m\n"
     ]
    },
    {
     "name": "stdout",
     "output_type": "stream",
     "text": [
      "ScoresHybridRecommender: URM Detected 462 ( 3.7%) users with no interactions.\n",
      "ScoresHybridRecommender: URM Detected 344 ( 1.5%) items with no interactions.\n",
      "EvaluatorHoldout: Processed 10008 (100.0%) in 13.90 sec. Users per second: 720\n"
     ]
    },
    {
     "name": "stderr",
     "output_type": "stream",
     "text": [
      "\u001b[32m[I 2023-11-30 15:23:18,211]\u001b[0m Trial 16 finished with value: 0.026399884061005185 and parameters: {'alpha': 0.6233633514994753}. Best is trial 11 with value: 0.02821572900409855.\u001b[0m\n"
     ]
    },
    {
     "name": "stdout",
     "output_type": "stream",
     "text": [
      "ScoresHybridRecommender: URM Detected 462 ( 3.7%) users with no interactions.\n",
      "ScoresHybridRecommender: URM Detected 344 ( 1.5%) items with no interactions.\n",
      "EvaluatorHoldout: Processed 10008 (100.0%) in 14.01 sec. Users per second: 714\n"
     ]
    },
    {
     "name": "stderr",
     "output_type": "stream",
     "text": [
      "\u001b[32m[I 2023-11-30 15:23:32,256]\u001b[0m Trial 17 finished with value: 0.027389497132452936 and parameters: {'alpha': 0.7267577424978344}. Best is trial 11 with value: 0.02821572900409855.\u001b[0m\n"
     ]
    },
    {
     "name": "stdout",
     "output_type": "stream",
     "text": [
      "ScoresHybridRecommender: URM Detected 462 ( 3.7%) users with no interactions.\n",
      "ScoresHybridRecommender: URM Detected 344 ( 1.5%) items with no interactions.\n",
      "EvaluatorHoldout: Processed 10008 (100.0%) in 13.98 sec. Users per second: 716\n"
     ]
    },
    {
     "name": "stderr",
     "output_type": "stream",
     "text": [
      "\u001b[32m[I 2023-11-30 15:23:46,267]\u001b[0m Trial 18 finished with value: 0.025120958788524755 and parameters: {'alpha': 0.4578190027715744}. Best is trial 11 with value: 0.02821572900409855.\u001b[0m\n"
     ]
    },
    {
     "name": "stdout",
     "output_type": "stream",
     "text": [
      "ScoresHybridRecommender: URM Detected 462 ( 3.7%) users with no interactions.\n",
      "ScoresHybridRecommender: URM Detected 344 ( 1.5%) items with no interactions.\n",
      "EvaluatorHoldout: Processed 10008 (100.0%) in 14.03 sec. Users per second: 713\n"
     ]
    },
    {
     "name": "stderr",
     "output_type": "stream",
     "text": [
      "\u001b[32m[I 2023-11-30 15:24:00,333]\u001b[0m Trial 19 finished with value: 0.024085124757336998 and parameters: {'alpha': 0.20263645578993578}. Best is trial 11 with value: 0.02821572900409855.\u001b[0m\n"
     ]
    }
   ],
   "source": [
    "optuna_study_hybrid = optuna.create_study(direction=\"maximize\")\n",
    "\n",
    "save_results_hybrid = SaveResults()\n",
    "\n",
    "optuna_study_hybrid.optimize(objective_function_hybrid,\n",
    "                      callbacks=[save_results_hybrid],\n",
    "                      n_trials = 20)"
   ]
  },
  {
   "cell_type": "code",
   "execution_count": 62,
   "metadata": {
    "execution": {
     "iopub.execute_input": "2023-11-30T15:24:00.344724Z",
     "iopub.status.busy": "2023-11-30T15:24:00.344370Z",
     "iopub.status.idle": "2023-11-30T15:24:00.362129Z",
     "shell.execute_reply": "2023-11-30T15:24:00.360806Z",
     "shell.execute_reply.started": "2023-11-30T15:24:00.344692Z"
    }
   },
   "outputs": [
    {
     "name": "stdout",
     "output_type": "stream",
     "text": [
      "Study statistics: \n",
      "  Number of finished trials:  20\n",
      "  Number of pruned trials:  0\n",
      "  Number of complete trials:  20\n",
      "Best trial:\n",
      "  Value Validation:  0.02821572900409855\n",
      "Best params:\n",
      "{'alpha': 0.798326158583829}\n"
     ]
    }
   ],
   "source": [
    "pruned_trials = [t for t in optuna_study_hybrid.trials if t.state == optuna.trial.TrialState.PRUNED]\n",
    "complete_trials = [t for t in optuna_study_hybrid.trials if t.state == optuna.trial.TrialState.COMPLETE]\n",
    "\n",
    "print(\"Study statistics: \")\n",
    "print(\"  Number of finished trials: \", len(optuna_study_hybrid.trials))\n",
    "print(\"  Number of pruned trials: \", len(pruned_trials))\n",
    "print(\"  Number of complete trials: \", len(complete_trials))\n",
    "\n",
    "print(\"Best trial:\")\n",
    "print(\"  Value Validation: \", optuna_study_hybrid.best_trial.value)\n",
    "\n",
    "print(\"Best params:\")\n",
    "print(optuna_study_hybrid.best_trial.params)"
   ]
  },
  {
   "cell_type": "markdown",
   "metadata": {},
   "source": [
    "# Model Evaluation"
   ]
  },
  {
   "cell_type": "code",
   "execution_count": 67,
   "metadata": {
    "execution": {
     "iopub.execute_input": "2023-11-30T15:28:58.526249Z",
     "iopub.status.busy": "2023-11-30T15:28:58.524889Z",
     "iopub.status.idle": "2023-11-30T15:28:58.546560Z",
     "shell.execute_reply": "2023-11-30T15:28:58.545318Z",
     "shell.execute_reply.started": "2023-11-30T15:28:58.526206Z"
    }
   },
   "outputs": [
    {
     "name": "stdout",
     "output_type": "stream",
     "text": [
      "ScoresHybridRecommender: URM Detected 240 ( 1.9%) users with no interactions.\n",
      "ScoresHybridRecommender: URM Detected 123 ( 0.6%) items with no interactions.\n"
     ]
    }
   ],
   "source": [
    "hybrid = ScoresHybridRecommender(URM_train=urm_train+urm_validation, recommender_1=itemknn_custom, recommender_2=userknn)\n",
    "hybrid.fit(alpha=optuna_study_hybrid.best_trial.params['alpha']) # TODO fix here if change fit function"
   ]
  },
  {
   "cell_type": "code",
   "execution_count": 68,
   "metadata": {
    "execution": {
     "iopub.execute_input": "2023-11-30T15:29:00.587801Z",
     "iopub.status.busy": "2023-11-30T15:29:00.586600Z",
     "iopub.status.idle": "2023-11-30T15:29:15.351508Z",
     "shell.execute_reply": "2023-11-30T15:29:15.350229Z",
     "shell.execute_reply.started": "2023-11-30T15:29:00.587755Z"
    }
   },
   "outputs": [
    {
     "name": "stdout",
     "output_type": "stream",
     "text": [
      "EvaluatorHoldout: Processed 10511 (100.0%) in 14.72 sec. Users per second: 714\n"
     ]
    },
    {
     "data": {
      "text/html": [
       "<div>\n",
       "<style scoped>\n",
       "    .dataframe tbody tr th:only-of-type {\n",
       "        vertical-align: middle;\n",
       "    }\n",
       "\n",
       "    .dataframe tbody tr th {\n",
       "        vertical-align: top;\n",
       "    }\n",
       "\n",
       "    .dataframe thead th {\n",
       "        text-align: right;\n",
       "    }\n",
       "</style>\n",
       "<table border=\"1\" class=\"dataframe\">\n",
       "  <thead>\n",
       "    <tr style=\"text-align: right;\">\n",
       "      <th></th>\n",
       "      <th>PRECISION</th>\n",
       "      <th>PRECISION_RECALL_MIN_DEN</th>\n",
       "      <th>RECALL</th>\n",
       "      <th>MAP</th>\n",
       "      <th>MAP_MIN_DEN</th>\n",
       "      <th>MRR</th>\n",
       "      <th>NDCG</th>\n",
       "      <th>F1</th>\n",
       "      <th>HIT_RATE</th>\n",
       "      <th>ARHR_ALL_HITS</th>\n",
       "      <th>...</th>\n",
       "      <th>COVERAGE_USER</th>\n",
       "      <th>COVERAGE_USER_HIT</th>\n",
       "      <th>USERS_IN_GT</th>\n",
       "      <th>DIVERSITY_GINI</th>\n",
       "      <th>SHANNON_ENTROPY</th>\n",
       "      <th>RATIO_DIVERSITY_HERFINDAHL</th>\n",
       "      <th>RATIO_DIVERSITY_GINI</th>\n",
       "      <th>RATIO_SHANNON_ENTROPY</th>\n",
       "      <th>RATIO_AVERAGE_POPULARITY</th>\n",
       "      <th>RATIO_NOVELTY</th>\n",
       "    </tr>\n",
       "    <tr>\n",
       "      <th>cutoff</th>\n",
       "      <th></th>\n",
       "      <th></th>\n",
       "      <th></th>\n",
       "      <th></th>\n",
       "      <th></th>\n",
       "      <th></th>\n",
       "      <th></th>\n",
       "      <th></th>\n",
       "      <th></th>\n",
       "      <th></th>\n",
       "      <th></th>\n",
       "      <th></th>\n",
       "      <th></th>\n",
       "      <th></th>\n",
       "      <th></th>\n",
       "      <th></th>\n",
       "      <th></th>\n",
       "      <th></th>\n",
       "      <th></th>\n",
       "      <th></th>\n",
       "      <th></th>\n",
       "    </tr>\n",
       "  </thead>\n",
       "  <tbody>\n",
       "    <tr>\n",
       "      <th>10</th>\n",
       "      <td>0.078194</td>\n",
       "      <td>0.133347</td>\n",
       "      <td>0.111098</td>\n",
       "      <td>0.039091</td>\n",
       "      <td>0.065483</td>\n",
       "      <td>0.227507</td>\n",
       "      <td>0.121836</td>\n",
       "      <td>0.091787</td>\n",
       "      <td>0.454096</td>\n",
       "      <td>0.2945</td>\n",
       "      <td>...</td>\n",
       "      <td>0.831698</td>\n",
       "      <td>0.377671</td>\n",
       "      <td>0.831698</td>\n",
       "      <td>0.032856</td>\n",
       "      <td>8.701137</td>\n",
       "      <td>0.990401</td>\n",
       "      <td>0.09423</td>\n",
       "      <td>0.670241</td>\n",
       "      <td>2.985555</td>\n",
       "      <td>0.266147</td>\n",
       "    </tr>\n",
       "  </tbody>\n",
       "</table>\n",
       "<p>1 rows × 27 columns</p>\n",
       "</div>"
      ],
      "text/plain": [
       "       PRECISION PRECISION_RECALL_MIN_DEN    RECALL       MAP MAP_MIN_DEN  \\\n",
       "cutoff                                                                      \n",
       "10      0.078194                 0.133347  0.111098  0.039091    0.065483   \n",
       "\n",
       "             MRR      NDCG        F1  HIT_RATE ARHR_ALL_HITS  ...  \\\n",
       "cutoff                                                        ...   \n",
       "10      0.227507  0.121836  0.091787  0.454096        0.2945  ...   \n",
       "\n",
       "       COVERAGE_USER COVERAGE_USER_HIT USERS_IN_GT DIVERSITY_GINI  \\\n",
       "cutoff                                                              \n",
       "10          0.831698          0.377671    0.831698       0.032856   \n",
       "\n",
       "       SHANNON_ENTROPY RATIO_DIVERSITY_HERFINDAHL RATIO_DIVERSITY_GINI  \\\n",
       "cutoff                                                                   \n",
       "10            8.701137                   0.990401              0.09423   \n",
       "\n",
       "       RATIO_SHANNON_ENTROPY RATIO_AVERAGE_POPULARITY RATIO_NOVELTY  \n",
       "cutoff                                                               \n",
       "10                  0.670241                 2.985555      0.266147  \n",
       "\n",
       "[1 rows x 27 columns]"
      ]
     },
     "execution_count": 68,
     "metadata": {},
     "output_type": "execute_result"
    }
   ],
   "source": [
    "result_df, _ = evaluator_test.evaluateRecommender(hybrid)\n",
    "result_df"
   ]
  },
  {
   "cell_type": "code",
   "execution_count": null,
   "metadata": {},
   "outputs": [],
   "source": []
  }
 ],
 "metadata": {
  "kaggle": {
   "accelerator": "none",
   "dataSources": [],
   "dockerImageVersionId": 30350,
   "isGpuEnabled": false,
   "isInternetEnabled": true,
   "language": "python",
   "sourceType": "notebook"
  },
  "kernelspec": {
   "display_name": "Python 3 (ipykernel)",
   "language": "python",
   "name": "python3"
  },
  "language_info": {
   "codemirror_mode": {
    "name": "ipython",
    "version": 3
   },
   "file_extension": ".py",
   "mimetype": "text/x-python",
   "name": "python",
   "nbconvert_exporter": "python",
   "pygments_lexer": "ipython3",
   "version": "3.9.13"
  }
 },
 "nbformat": 4,
 "nbformat_minor": 4
}
