{
 "cells": [
  {
   "cell_type": "markdown",
   "id": "eeb82a69-4217-4dcb-962c-399408794d50",
   "metadata": {},
   "source": [
    "# Finding Edge Cases\n",
    "\n",
    "This notebook illustrates the detection and mitigation of certain edge cases in the `specprod` database.\n",
    "\n",
    "## Imports"
   ]
  },
  {
   "cell_type": "code",
   "execution_count": null,
   "id": "5fee8e1f-c2bf-491c-a50f-7040f2b62450",
   "metadata": {},
   "outputs": [],
   "source": [
    "#\n",
    "# Imports\n",
    "#\n",
    "import os\n",
    "import sys\n",
    "sys.path.insert(0, os.path.join(os.environ['HOME'], 'Documents', 'Code', 'git', 'desihub', 'specprod-db', 'py'))\n",
    "import itertools\n",
    "from sqlalchemy import __version__ as sqlalchemy_version\n",
    "from sqlalchemy import and_\n",
    "from sqlalchemy.sql import func\n",
    "from sqlalchemy.exc import ProgrammingError\n",
    "\n",
    "#\n",
    "# DESI software\n",
    "#\n",
    "from desiutil.log import get_logger, DEBUG\n",
    "from specprodDB import __version__ as specprodDB_version\n",
    "import specprodDB.load as db\n",
    "#\n",
    "# Set the spectroscopic production run.\n",
    "#\n",
    "specprod = os.environ['SPECPROD'] = 'fuji'  # Change this to 'guadalupe' if needed.\n",
    "#\n",
    "# Working directory.\n",
    "#\n",
    "workingdir = os.getcwd()\n",
    "print(f'sqlalchemy=={sqlalchemy_version}')\n",
    "print(f'specprodDB=={specprodDB_version}')"
   ]
  },
  {
   "cell_type": "markdown",
   "id": "803f0053-202d-4df2-ae8e-87358d2bcffd",
   "metadata": {},
   "source": [
    "## Connect to database"
   ]
  },
  {
   "cell_type": "code",
   "execution_count": null,
   "id": "e6028734-47b1-4e08-a3ff-50061dd4fb78",
   "metadata": {},
   "outputs": [],
   "source": [
    "#\n",
    "# For much more output, use DEBUG/verbose mode.\n",
    "#\n",
    "# db.log = get_logger(DEBUG)\n",
    "# postgresql = db.setup_db(schema=specprod, hostname='specprod-db.desi.lbl.gov', username='desi', verbose=True)\n",
    "db.log = get_logger()\n",
    "postgresql = db.setup_db(schema='fuji_test', hostname='specprod-db.desi.lbl.gov', username='desi')"
   ]
  },
  {
   "cell_type": "markdown",
   "id": "48a2bc20-f7d0-4067-b73b-0bdbdef0d2f8",
   "metadata": {},
   "source": [
    "## Useful Configuration"
   ]
  },
  {
   "cell_type": "code",
   "execution_count": null,
   "id": "64d29a75-0111-4d1b-bd6d-d7754b27cb49",
   "metadata": {},
   "outputs": [],
   "source": [
    "specprod_survey_program = {'fuji': {'cmx': ('other', ),\n",
    "                                    'special': ('dark', ),\n",
    "                                    'sv1': ('backup', 'bright', 'dark', 'other'),\n",
    "                                    'sv2': ('backup', 'bright', 'dark'),\n",
    "                                    'sv3': ('backup', 'bright', 'dark')},\n",
    "                           'guadalupe': {'special': ('bright', 'dark'),\n",
    "                                         'main': ('bright', 'dark')},\n",
    "                           'iron': {'cmx': ('other', ),\n",
    "                                    'main': ('backup', 'bright', 'dark'),\n",
    "                                    'special': ('backup', 'bright', 'dark', 'other'),\n",
    "                                    'sv1': ('backup', 'bright', 'dark', 'other'),\n",
    "                                    'sv2': ('backup', 'bright', 'dark'),\n",
    "                                    'sv3': ('backup', 'bright', 'dark')},}\n",
    "target_bits = {'cmx': {'cmx': db.Target.cmx_target},\n",
    "               'sv1': {'desi': db.Target.sv1_desi_target, 'bgs': db.Target.sv1_bgs_target, 'mws': db.Target.sv1_mws_target},\n",
    "               'sv2': {'desi': db.Target.sv2_desi_target, 'bgs': db.Target.sv2_bgs_target, 'mws': db.Target.sv2_mws_target},\n",
    "               'sv3': {'desi': db.Target.sv3_desi_target, 'bgs': db.Target.sv3_bgs_target, 'mws': db.Target.sv3_mws_target},\n",
    "               'main': {'desi': db.Target.desi_target, 'bgs': db.Target.bgs_target, 'mws': db.Target.mws_target},\n",
    "               'special': {'desi': db.Target.desi_target, 'bgs': db.Target.bgs_target, 'mws': db.Target.mws_target},}"
   ]
  },
  {
   "cell_type": "markdown",
   "id": "25889c31-896f-4c4e-8526-deeba43fcc5c",
   "metadata": {},
   "source": [
    "## Finding Anomalous Targeting\n",
    "\n",
    "We are trying to identify objects that appear on multiple tiles that have the same `targetid` and `survey`, but different targeting bits on different tiles. However, in principle, we don't care about cases where the `targetid`, `tileid` only appears as a potential target.\n",
    "\n",
    "Let's get the set of `targetid` for a particular `survey` and `program` that appear on more than one tile:\n",
    "\n",
    "```sql\n",
    "SELECT t.targetid\n",
    "    FROM fuji.target AS t JOIN fuji.fiberassign AS f ON t.targetid = f.targetid AND t.tileid = f.tileid\n",
    "    WHERE t.survey = 'sv1' AND t.program = 'dark'\n",
    "    GROUP BY t.targetid HAVING COUNT(t.tileid) > 1;\n",
    "```"
   ]
  },
  {
   "cell_type": "code",
   "execution_count": null,
   "id": "b112e9e1-10fd-44e8-ae5a-8929dfd37fa6",
   "metadata": {},
   "outputs": [],
   "source": [
    "assigned_multiple_tiles = dict()\n",
    "for survey in specprod_survey_program[specprod]:\n",
    "    assigned_multiple_tiles[survey] = dict()\n",
    "    for program in specprod_survey_program[specprod][survey]:\n",
    "        assigned_multiple_tiles[survey][program] = db.dbSession.query(db.Target.targetid).join(db.Fiberassign, and_(db.Target.targetid == db.Fiberassign.targetid, db.Target.tileid == db.Fiberassign.tileid)).filter(db.Target.survey == survey).filter(db.Target.program == program).group_by(db.Target.targetid).having(func.count(db.Target.tileid) > 1)\n",
    "print(assigned_multiple_tiles['sv1']['dark'])"
   ]
  },
  {
   "cell_type": "markdown",
   "id": "c63a0f57-ab57-4c03-ad29-d0d44cb70e3c",
   "metadata": {},
   "source": [
    "We will call the result of this query `assigned_multiple_tiles`. Now let's find the distinct pairs of `targetid`, `sv1_desi_target` from this set:\n",
    "\n",
    "```sql\n",
    "SELECT DISTINCT targetid, sv1_desi_target\n",
    "    FROM fuji.target WHERE targetid IN (assigned_multiple_tiles) AND survey = 'sv1' AND program = 'dark';\n",
    "```\n",
    "\n",
    "and check `sv1_desi_target` and `sv1_mws_target` as well."
   ]
  },
  {
   "cell_type": "code",
   "execution_count": null,
   "id": "14e67d09-5ddb-4755-8760-47323ca58118",
   "metadata": {},
   "outputs": [],
   "source": [
    "distinct_target = dict()\n",
    "for survey in assigned_multiple_tiles:\n",
    "    distinct_target[survey] = dict()\n",
    "    for program in assigned_multiple_tiles[survey]:\n",
    "        distinct_target[survey][program] = dict()\n",
    "        for bits in target_bits[survey]:\n",
    "            distinct_target[survey][program][bits] = db.dbSession.query(db.Target.targetid, target_bits[survey][bits]).filter(db.Target.targetid.in_(assigned_multiple_tiles[survey][program])).filter(db.Target.survey == survey).filter(db.Target.program == program).distinct().subquery()\n",
    "print(distinct_target['sv1']['dark']['desi'])"
   ]
  },
  {
   "cell_type": "markdown",
   "id": "a358b502-49e1-4a59-a141-2194cb0ac547",
   "metadata": {},
   "source": [
    "We will call the result of this query `distinct_target`.  Next we eliminate cases where targetid only appears once in distinct_target:\n",
    "\n",
    "```sql\n",
    "SELECT targetid\n",
    "    FROM (distinct_target) AS dt GROUP BY targetid HAVING COUNT(sv1_desi_target) > 1;\n",
    "```"
   ]
  },
  {
   "cell_type": "code",
   "execution_count": null,
   "id": "037fe752-fb19-4df6-9ea8-001aabe7fbdb",
   "metadata": {},
   "outputs": [],
   "source": [
    "multiple_target = dict()\n",
    "for survey in distinct_target:\n",
    "    multiple_target[survey] = dict()\n",
    "    for program in distinct_target[survey]:\n",
    "        multiple_target[survey][program] = dict()\n",
    "        for bits in distinct_target[survey][program]:\n",
    "            if survey.startswith('sv'):\n",
    "                column = getattr(distinct_target[survey][program][bits].c, f\"{survey}_{bits}_target\")\n",
    "            elif survey == 'cmx':\n",
    "                column = distinct_target[survey][program][bits].c.cmx_target\n",
    "            else:\n",
    "                column = getattr(distinct_target[survey][program][bits].c, f\"{bits}_target\")\n",
    "            multiple_target[survey][program][bits] = [row[0] for row in db.dbSession.query(distinct_target[survey][program][bits].c.targetid).group_by(distinct_target[survey][program][bits].c.targetid).having(func.count(column) > 1).all()]\n",
    "multiple_target"
   ]
  },
  {
   "cell_type": "markdown",
   "id": "9b1022c4-4681-47c8-9316-a5e79b41306f",
   "metadata": {},
   "source": [
    "Do these sets of targetid overlap?"
   ]
  },
  {
   "cell_type": "code",
   "execution_count": null,
   "id": "5fb8e958-cace-4e78-a410-62c65b0ff2a7",
   "metadata": {},
   "outputs": [],
   "source": [
    "for targetid in multiple_target['sv1']['dark']['mws']:\n",
    "    print(targetid, targetid in multiple_target['sv1']['dark']['desi'])"
   ]
  },
  {
   "cell_type": "markdown",
   "id": "89a701f5-b098-4ba6-9186-fc2d88adaa7c",
   "metadata": {},
   "source": [
    "Yes, so there are actually only 3 additional, unique targetids that have differences in `sv1_mws_target`."
   ]
  },
  {
   "cell_type": "markdown",
   "id": "01a07b2b-9f12-41ec-9002-8b4b10498ca0",
   "metadata": {},
   "source": [
    "We will call the result of this query `multiple_target`. If we only want to know the number of objects, we're actually done at this stage: the answer is the number of rows of `multiple_target`.  But we can easily get more complete information:\n",
    "\n",
    "```sql\n",
    "SELECT t.targetid, t.survey, t.tileid, t.program, t.obsconditions, t.numobs_init, t.priority_init, t.subpriority, t.sv1_desi_target, t.sv1_bgs_target, t.sv1_mws_target, t.sv1_scnd_target, p.ra, p.dec\n",
    "    FROM fuji.target AS t JOIN fuji.photometry AS p ON t.targetid = p.targetid\n",
    "    WHERE t.survey = 'sv1' AND t.program = 'dark' AND t.targetid IN (multiple_target) ORDER BY t.targetid, t.tileid;\n",
    "```"
   ]
  },
  {
   "cell_type": "code",
   "execution_count": null,
   "id": "54eb0356-af6d-4f1f-838c-d4a9775a0e0d",
   "metadata": {},
   "outputs": [],
   "source": [
    "for survey in multiple_target:\n",
    "    for program in multiple_target[survey]:\n",
    "        for bits in multiple_target[survey][program]:\n",
    "            if multiple_target[survey][program][bits]:\n",
    "                print(survey, program, bits)\n",
    "                q = db.dbSession.query(db.Target.targetid, db.Target.survey, db.Target.tileid, db.Target.program, db.Target.obsconditions, db.Target.numobs_init, db.Target.priority_init, db.Target.subpriority, db.Target.sv1_desi_target, db.Target.sv1_bgs_target, db.Target.sv1_mws_target, db.Target.sv1_scnd_target, db.Photometry.ra, db.Photometry.dec).join(db.Photometry).filter(db.Target.survey == survey).filter(db.Target.program == program).filter(db.Target.targetid.in_(multiple_target[survey][program][bits])).order_by(db.Target.targetid, db.Target.tileid)\n",
    "                # print(q)\n",
    "                print(q.all())"
   ]
  },
  {
   "cell_type": "markdown",
   "id": "e1a716dd-3c0e-4441-a67b-9fe4ba52ce5a",
   "metadata": {},
   "source": [
    "Now let's find corresponding rows in the `zpix` table. We can reuse the `multiple_target` data from above.\n",
    "\n",
    "```sql\n",
    "SELECT id, targetid, z, zwarn\n",
    "    FROM fuji.zpix\n",
    "    WHERE targetid IN (multiple_target) AND survey = 'sv1' AND program = 'dark';\n",
    "```"
   ]
  },
  {
   "cell_type": "code",
   "execution_count": null,
   "id": "8f3350de-6f6a-403d-b1e7-3ac8770a1847",
   "metadata": {},
   "outputs": [],
   "source": [
    "multiple_zpix = dict()\n",
    "for survey in multiple_target:\n",
    "    multiple_zpix[survey] = dict()\n",
    "    for program in multiple_target[survey]:\n",
    "        multiple_zpix[survey][program] = dict()\n",
    "        for bits in multiple_target[survey][program]:\n",
    "            if multiple_target[survey][program][bits]:\n",
    "                print(survey, program, bits)\n",
    "                multiple_zpix[survey][program][bits] = db.dbSession.query(db.Zpix).filter(db.Zpix.targetid.in_(multiple_target[survey][program][bits])).filter(db.Zpix.survey == survey).filter(db.Zpix.program == program).all()\n",
    "multiple_zpix"
   ]
  },
  {
   "cell_type": "markdown",
   "id": "178ac574-62fe-4093-85ef-6bb8f76002db",
   "metadata": {},
   "source": [
    "### Did some anomalous targets not get observed?\n",
    "\n",
    "We know that the targetids above were *assigned* -- they are not just potential targets -- but it is possible in principle that some did not actually get observed."
   ]
  },
  {
   "cell_type": "code",
   "execution_count": null,
   "id": "b0a26281-6fc9-4de4-a13d-e96bc94a6210",
   "metadata": {},
   "outputs": [],
   "source": [
    "multiple_set = set(multiple_target['sv1']['dark']['desi'] + multiple_target['sv1']['dark']['mws'])\n",
    "multiple_tiles = db.dbSession.query(db.Target.tileid).filter(db.Target.targetid.in_(multiple_set)).filter(db.Target.survey == 'sv1').filter(db.Target.program == 'dark').distinct()\n",
    "ztile_check = db.dbSession.query(db.Ztile).filter(db.Ztile.tileid.in_(multiple_tiles)).filter(db.Ztile.targetid.in_(multiple_set)).order_by(db.Ztile.targetid, db.Ztile.tileid)"
   ]
  },
  {
   "cell_type": "code",
   "execution_count": null,
   "id": "2107b523-3ff6-4bc7-8ca1-9ec7a156a983",
   "metadata": {},
   "outputs": [],
   "source": [
    "ztiles = ztile_check.all()\n",
    "for targetid in multiple_set:\n",
    "    matching_ztiles = [z for z in ztiles if z.targetid == targetid]\n",
    "    print(targetid, [z.tileid for z in matching_ztiles])"
   ]
  },
  {
   "cell_type": "code",
   "execution_count": null,
   "id": "467fef6e-e746-452d-b701-744f5c60936f",
   "metadata": {},
   "outputs": [],
   "source": [
    "exposures = db.dbSession.query(db.Exposure).filter(db.Exposure.tileid.in_([80690, 80691])).order_by(db.Exposure.tileid, db.Exposure.night, db.Exposure.expid).all()"
   ]
  },
  {
   "cell_type": "code",
   "execution_count": null,
   "id": "2599df0e-134a-433f-a6e2-e154a7693dac",
   "metadata": {},
   "outputs": [],
   "source": [
    "all_cameras = set([f\"{a}{b:d}\" for a, b in itertools.product('brz', range(10))])"
   ]
  },
  {
   "cell_type": "code",
   "execution_count": null,
   "id": "834c176b-adf4-404b-86c0-9b67eb6e2d51",
   "metadata": {},
   "outputs": [],
   "source": [
    "for e in exposures:\n",
    "    print(e.tileid, set([f.camera for f in e.frames]) ^ all_cameras)"
   ]
  },
  {
   "cell_type": "code",
   "execution_count": null,
   "id": "6d25ff78-2776-4230-93f5-c49e86464915",
   "metadata": {},
   "outputs": [],
   "source": [
    "[(e.tileid, e.frames) for e in exposures]"
   ]
  },
  {
   "cell_type": "markdown",
   "id": "14e8ae8f-fd08-43ac-a12c-a91ef7f05839",
   "metadata": {},
   "source": [
    "## ToO With Zero Target Bits\n",
    "\n",
    "Due to a [known issue](https://github.com/desihub/fiberassign/pull/342), some ToO objects had targeting zeroed out. This was subsequently fixed in the fiberassign files and propagated forward to the lsdr9-photometry, but in some cases the fix was not retroactively applied to the individual redshift catalog files. Therefore when the final zcatalog files were assembled, they still had the targeting bits zeroed out. Let's find the ToOs in `fuji`.\n",
    "```sql\n",
    "SELECT targetid, survey, program, sv3_desi_target, sv3_bgs_target, sv3_mws_target, sv3_scnd_target\n",
    "    FROM fuji_test.zpix WHERE ((targetid & (CAST((2^16 - 1) AS bigint) << 42)) >> 42) = 9999;\n",
    "```"
   ]
  },
  {
   "cell_type": "code",
   "execution_count": null,
   "id": "880bb030-0b3d-4686-9e63-d647de578619",
   "metadata": {},
   "outputs": [],
   "source": [
    "zero_ToO = dict()\n",
    "for survey in specprod_survey_program[specprod]:\n",
    "    zero_ToO[survey] = dict()\n",
    "    for program in specprod_survey_program[specprod][survey]:\n",
    "        zero_ToO[survey][program] = [row[0] for row in db.dbSession.query(db.Zpix.targetid).filter((db.Zpix.targetid.op('&')((2**16 - 1) << 42)).op('>>')(42) == 9999).filter(db.Zpix.survey == survey).filter(db.Zpix.program == program).all()]\n",
    "zero_ToO"
   ]
  },
  {
   "cell_type": "markdown",
   "id": "f8d331f6-2a89-4824-adf1-cccfedfbd473",
   "metadata": {},
   "source": [
    "## Correcting Anomalous Targeting\n",
    "\n",
    "Now that we know exactly which objects are anomalous, we can try to fix their targeting bits. We want to take the bitwise `OR` of the targeting bits for these objects. We can reuse objects returned by the `multiple_target` query above. First though, let's compress the list of `targetid` by removing duplicates."
   ]
  },
  {
   "cell_type": "code",
   "execution_count": null,
   "id": "4a7e1445-8eef-473d-95a9-94dd27438cde",
   "metadata": {},
   "outputs": [],
   "source": [
    "targetids_to_fix = dict()\n",
    "for survey in multiple_target:\n",
    "    for program in multiple_target[survey]:\n",
    "        for bits in multiple_target[survey][program]:\n",
    "            if multiple_target[survey][program][bits]:\n",
    "                if survey not in targetids_to_fix:\n",
    "                    targetids_to_fix[survey] = dict()\n",
    "                if program in targetids_to_fix[survey]:\n",
    "                    print(f\"targetids_to_fix['{survey}']['{program}'] += multiple_target['{survey}']['{program}']['{bits}']\")\n",
    "                    targetids_to_fix[survey][program] += multiple_target[survey][program][bits]\n",
    "                else:\n",
    "                    print(f\"targetids_to_fix['{survey}']['{program}'] = multiple_target['{survey}']['{program}']['{bits}']\")\n",
    "                    targetids_to_fix[survey][program] = multiple_target[survey][program][bits]\n",
    "for survey in zero_ToO:\n",
    "    for program in zero_ToO[survey]:\n",
    "        if zero_ToO[survey][program]:\n",
    "            if survey not in targetids_to_fix:\n",
    "                targetids_to_fix[survey] = dict()\n",
    "            if program in targetids_to_fix[survey]:\n",
    "                print(f\"targetids_to_fix['{survey}']['{program}'] += zero_ToO['{survey}']['{program}']\")\n",
    "                targetids_to_fix[survey][program] += zero_ToO[survey][program]\n",
    "            else:\n",
    "                print(f\"targetids_to_fix['{survey}']['{program}'] = zero_ToO['{survey}']['{program}']\")\n",
    "                targetids_to_fix[survey][program] = zero_ToO[survey][program]\n",
    "targetids_to_fix"
   ]
  },
  {
   "cell_type": "code",
   "execution_count": null,
   "id": "dddde1b9-5d79-4222-9f82-4099f345a871",
   "metadata": {},
   "outputs": [],
   "source": [
    "len(set(targetids_to_fix['sv1']['dark']))"
   ]
  },
  {
   "cell_type": "markdown",
   "id": "accfc40d-4e90-4d7c-95d1-90d84c585a8e",
   "metadata": {},
   "source": [
    "There are a lot of targeting bits, so it's easier to generate the full list programmatically. We're doing metaprogramming!\n",
    "\n",
    "```sql\n",
    "SELECT t.targetid, BIT_OR(t.cmx_target) AS cmx_target, BIT_OR(desi_target) AS desi_target, ...\n",
    "    FROM fuji.target AS t WHERE t.targetid IN (targetids_to_fix) AND t.survey = 'sv1' AND t.program = 'dark' GROUP BY t.targetid;\n",
    "```"
   ]
  },
  {
   "cell_type": "code",
   "execution_count": null,
   "id": "0c13592e-2a52-4456-8120-53eb4dcc8a26",
   "metadata": {},
   "outputs": [],
   "source": [
    "table = 'zpix'\n",
    "surveys = ('', 'sv1', 'sv2', 'sv3')\n",
    "programs = ('desi', 'bgs', 'mws', 'scnd')\n",
    "masks = ['cmx_target'] + [('_'.join(p) if p[0] else p[1]) + '_target'\n",
    "                          for p in itertools.product(surveys, programs)]\n",
    "bit_or_query = dict()\n",
    "for survey in targetids_to_fix:\n",
    "    bit_or_query[survey] = dict()\n",
    "    for program in targetids_to_fix[survey]:\n",
    "        print(\"SELECT t.targetid, \" + \n",
    "              ', '.join([f\"BIT_OR(t.{m}) AS {m}\" for m in masks]) +\n",
    "              f\" FROM {specprod}.target AS t WHERE t.targetid IN ({', '.join(map(str, set(targetids_to_fix[survey][program])))}) AND t.survey = '{survey}' AND t.program = '{program}' GROUP BY t.targetid;\")\n",
    "        bq = (\"db.dbSession.query(db.Target.targetid, \" +\n",
    "              ', '.join([f\"func.bit_or(db.Target.{m}).label('{m}')\" for m in masks]) +\n",
    "              f\").filter(db.Target.targetid.in_([{', '.join(map(str, set(targetids_to_fix[survey][program])))}])).filter(db.Target.survey == '{survey}').filter(db.Target.program == '{program}').group_by(db.Target.targetid)\")\n",
    "        print(bq)\n",
    "        bit_or_query[survey][program] = eval(bq)"
   ]
  },
  {
   "cell_type": "code",
   "execution_count": null,
   "id": "b659169c-2306-45ba-b498-80bbad3aa999",
   "metadata": {},
   "outputs": [],
   "source": [
    "print(bit_or_query['sv1']['dark'])\n",
    "bit_or_query['sv1']['dark'].count()"
   ]
  },
  {
   "cell_type": "markdown",
   "id": "13dfc57a-547f-4858-81a6-a147ec0561cd",
   "metadata": {},
   "source": [
    "Even with several different categories, there are a small number of these, so we can just loop over each one, ensuring that only one row in the `zpix` table is updated at a time."
   ]
  },
  {
   "cell_type": "code",
   "execution_count": null,
   "id": "f7d5afd1-fadf-469d-a887-820df5db593c",
   "metadata": {},
   "outputs": [],
   "source": [
    "update = ', '.join([f\"db.Zpix.{m}: {{0.{m}:d}}\" for m in masks])\n",
    "for survey in bit_or_query:\n",
    "    for program in bit_or_query[survey]:\n",
    "        for row in bit_or_query[survey][program].all():\n",
    "            zpix_match = db.dbSession.query(db.Zpix).filter(db.Zpix.targetid == row.targetid).filter(db.Zpix.survey == survey).filter(db.Zpix.program == program).one()\n",
    "            print(f\"{zpix_match}.update({{ {update.format(row)} }})\")\n",
    "            # try:\n",
    "            #     zpix_update = db.dbSession.query(db.Zpix).filter(db.Zpix.targetid == row.targetid).filter(db.Zpix.survey == survey).filter(db.Zpix.program == program).update({db.Zpix.z: row.cmx_target})\n",
    "            # except ProgrammingError as e:\n",
    "            #     print(e)\n",
    "            #     db.dbSession.rollback()"
   ]
  },
  {
   "cell_type": "code",
   "execution_count": null,
   "id": "8daf3e84-87f1-4c53-9627-d6d6c85ac382",
   "metadata": {},
   "outputs": [],
   "source": [
    "db.dbSession.rollback()"
   ]
  },
  {
   "cell_type": "markdown",
   "id": "d7983fa9-17d9-40bc-9ab7-adc68f209f28",
   "metadata": {},
   "source": [
    "## QSO \"Bump\""
   ]
  },
  {
   "cell_type": "code",
   "execution_count": null,
   "id": "ec1dce18-5418-4ea1-8091-e6bb89a6bc74",
   "metadata": {},
   "outputs": [],
   "source": [
    "from desitarget.sv1.sv1_targetmask import desi_mask as sv1_desi_mask\n",
    "from desitarget.sv3.sv3_targetmask import desi_mask as sv3_desi_mask"
   ]
  },
  {
   "cell_type": "code",
   "execution_count": null,
   "id": "24438c83-63db-4d8a-8614-fbff407c411a",
   "metadata": {},
   "outputs": [],
   "source": [
    "qso_bump = db.dbSession.query(db.Zpix, db.Target).join(db.Target, and_(db.Zpix.targetid == db.Target.targetid, db.Zpix.survey == db.Target.survey, db.Zpix.program == db.Target.program)).filter(db.Zpix.z < 0.5).filter(db.Zpix.spectype == 'QSO').filter(db.Zpix.zwarn == 0).filter(db.Zpix.sv1_desi_target.op('&')(sv1_desi_mask.QSO) == 0).filter(db.Zpix.sv3_desi_target.op('&')(sv3_desi_mask.QSO) == 0).distinct().order_by(db.Zpix.survey, db.Zpix.program, db.Zpix.targetid)\n",
    "print(qso_bump)\n",
    "print(qso_bump.count())"
   ]
  },
  {
   "cell_type": "code",
   "execution_count": null,
   "id": "66bc6ba2-b5ff-4ab8-a1aa-5ea99507efff",
   "metadata": {},
   "outputs": [],
   "source": [
    "lines = [\"targetid,survey,program,cmx_target,desi_target,bgs_target,mws_target,scnd_target,sv1_desi_target,sv1_bgs_target,sv1_mws_target,sv1_scnd_target,sv2_desi_target,sv2_bgs_target,sv2_mws_target,sv2_scnd_target,sv3_desi_target,sv3_bgs_target,sv3_mws_target,sv3_scnd_target\"]\n",
    "for row in qso_bump.all():\n",
    "    # print(row)\n",
    "    lines.append(f\"{row[0].targetid:d},{row[0].survey},{row[0].program},{row[1].cmx_target:d},{row[1].desi_target:d},{row[1].bgs_target:d},{row[1].mws_target:d},{row[1].scnd_target:d},{row[1].sv1_desi_target:d},{row[1].sv1_bgs_target:d},{row[1].sv1_mws_target:d},{row[1].sv1_scnd_target:d},{row[1].sv2_desi_target:d},{row[1].sv2_bgs_target:d},{row[1].sv2_mws_target:d},{row[1].sv2_scnd_target:d},{row[1].sv3_desi_target:d},{row[1].sv3_bgs_target:d},{row[1].sv3_mws_target:d},{row[1].sv3_scnd_target:d}\")\n",
    "\n",
    "    "
   ]
  },
  {
   "cell_type": "code",
   "execution_count": null,
   "id": "7a3cf9b8-50c9-4400-bb98-3545d0bbb47f",
   "metadata": {},
   "outputs": [],
   "source": [
    "with open('/global/cfs/cdirs/desi/users/bweaver/qso_bump.csv', 'w') as f:\n",
    "    f.write('\\n'.join(lines) + '\\n')"
   ]
  },
  {
   "cell_type": "code",
   "execution_count": null,
   "id": "6495ac8e-1613-4e00-ad78-a41ea9ae00fc",
   "metadata": {},
   "outputs": [],
   "source": []
  }
 ],
 "metadata": {
  "kernelspec": {
   "display_name": "DESI 23.1",
   "language": "python",
   "name": "desi-23.1"
  },
  "language_info": {
   "codemirror_mode": {
    "name": "ipython",
    "version": 3
   },
   "file_extension": ".py",
   "mimetype": "text/x-python",
   "name": "python",
   "nbconvert_exporter": "python",
   "pygments_lexer": "ipython3",
   "version": "3.9.7"
  }
 },
 "nbformat": 4,
 "nbformat_minor": 5
}
