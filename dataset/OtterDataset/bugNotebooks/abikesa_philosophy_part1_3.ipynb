{
 "cells": [
  {
   "cell_type": "markdown",
   "metadata": {},
   "source": [
    "# Chapter 3\n",
    "\n",
    "<iframe width=\"560\" height=\"315\" src=\"https://www.youtube.com/embed/jO8ZLWYg71M\" frameborder=\"0\" allow=\"accelerometer; autoplay; clipboard-write; encrypted-media; gyroscope; picture-in-picture\" allowfullscreen></iframe>\n",
    "\n",
    "```{figure} ../../figures/blanche.*\n",
    "---\n",
    "width: 1\n",
    "height: 1\n",
    "---\n",
    "_Will to Power more than Will to Survive_. Thus Spake Nietzsche. But critics find this very upsetting. And this is where Dante's Allegory, laced with Game Theory, comes to the rescue. We can idealize _Paradiso_ as a cooperative game with `complete` information and a very clear dominant Übermensch. Introduce treachery, betrayal, and schemes and you descend right down to _Inferno_ where you have an [adversarial game](https://www.youtube.com/watch?v=BzHwJyU8-_o) with `incomplete` information. Between these two extremes we are in _Limbo_, where the game is iterative and strategies are frequently updated based on `latest` information. And thus Yuval Noah betrays a complete blindness to Game Theory in his latest \"gospel\": \"Information isn't truth\". I'm exhausted by the 1:23:18 long discussion, since the conversation lacks the vocabulary necessary for brevity & precision. They do encounter the \"arms race\" to AGI in silicon valley, but ask naive questions. Silicon Valley, or any industry, can be viewed through the lens of `game` theory, processed through the allegory of `commedia`, and forecasts will fit the archetypes of cooperative, iterative, or adversarial games -- dynamic equilibria. Yuval believes the problem is ignorance not evil. He is wrong. Evil is the allegory. Ignorance is the game where information is asymmetrical by strategy.\n",
    "```\n",
    "\n",
    "Here’s the full table with all the circles for *Inferno*, all the terraces for *Purgatorio*, and all the spheres for *Paradiso*:\n",
    "\n",
    "| **Inferno**               | **Limbo**                     | **Paradiso**                        |\n",
    "|-----------------------------------|------------------------------------------------|----------------------------------------------|\n",
    "| **1st Circle - Limbo**: Virtuous pagans and unbaptized infants. They suffer no physical torment but live in longing. | **1st Terrace - Pride**: The prideful carry heavy stones on their backs to humble themselves. | **1st Sphere - The Moon**: Souls who were inconstant in their vows, reflecting the changeability of the moon. |\n",
    "| **2nd Circle - Lust**: The lustful are buffeted by violent winds, symbolizing their uncontrolled passions. | **2nd Terrace - Envy**: The envious wear cloaks of lead and have their eyes sewn shut to prevent envy. | **2nd Sphere - Mercury**: Souls who pursued earthly fame and ambition over divine will. |\n",
    "| **3rd Circle - Gluttony**: The gluttonous are forced to lie in a vile slush made by icy rain, symbolizing their overindulgence. | **3rd Terrace - Wrath**: The wrathful are surrounded by thick smoke that represents their anger. | **3rd Sphere - Venus**: Souls who were lovers on Earth and are rewarded for their loving nature. |\n",
    "| **4th Circle - Greed**: The greedy and prodigal push heavy weights in opposite directions, symbolizing their obsession with wealth. | **4th Terrace - Sloth**: The slothful are condemned to ceaseless running, reflecting their past laziness. | **4th Sphere - The Sun**: Souls of the wise and learned who illuminated the world with their knowledge. |\n",
    "| **5th Circle - Wrath**: The wrathful fight each other in the muddy waters of the river Styx. The sullen are submerged beneath it. | **5th Terrace - Avarice**: The greedy are forced to lie face down on the ground, reflecting their attachment to earthly things. | **5th Sphere - Mars**: Souls of warriors who died for a righteous cause. |\n",
    "| **6th Circle - Heresy**: Heretics are trapped in flaming tombs for eternity. | **6th Terrace - Gluttony**: The gluttonous are tormented by hunger and thirst while surrounded by food and drink they can’t consume. | **6th Sphere - Jupiter**: Souls of just rulers who embodied justice on Earth. |\n",
    "| **7th Circle - Violence**: Split into three rings: (1) Violence against others (murderers), submerged in boiling blood. (2) Violence against self (suicides), turned into trees. (3) Violence against God (blasphemers), lying on burning sand under a rain of fire. | **7th Terrace - Lust**: The lustful walk through flames, purging their excessive desire. | **7th Sphere - Saturn**: Contemplatives who lived a life of deep meditation and prayer. |\n",
    "| **8th Circle - Fraud**: Called Malebolge (Evil Pockets), it is divided into ten ditches, each punishing a different type of fraud, from seducers and flatterers to corrupt politicians and counterfeiters. | **8th Sphere - The Fixed Stars**: Souls of those who exemplified faith, hope, and love, including the Apostles and saints. |\n",
    "| **9th Circle - Treachery**: Divided into four zones based on the severity of betrayal: (1) Caina (betrayers of kin), (2) Antenora (betrayers of country), (3) Ptolomea (betrayers of guests), and (4) Judecca (betrayers of lords or benefactors). Satan is at the center, chewing on Judas, Brutus, and Cassius. | **9th Sphere - Primum Mobile**: The movers of the heavens, the angelic order that directs the universe. |\n",
    "|                                       |                                                  | **10th Sphere - Empyrean**: The realm of God and the angels, pure light and bliss beyond human comprehension. |\n",
    "\n",
    "### **Notes on each realm:**\n",
    "- **Inferno**: The punishments grow increasingly severe as you descend, moving from sins of incontinence (lack of self-control) to violence and treachery, the worst offenses in Dante's moral vision.\n",
    "- **Purgatorio**: The terraces of Purgatory reflect the seven deadly sins, with souls purging their sinful tendencies in a process of purification.\n",
    "- **Paradiso**: The spheres represent different virtues, with souls dwelling in spheres based on the level of divine grace they achieved in life. The closer to God, the more perfected the soul.\n",
    "\n"
   ]
  },
  {
   "cell_type": "code",
   "execution_count": 17,
   "metadata": {
    "tags": [
     "hide-input"
    ]
   },
   "outputs": [
    {
     "name": "stdout",
     "output_type": "stream",
     "text": [
      "Found title: Why so many people dislike Yuval Noah Harary?\n",
      "Found content: \n",
      "              Discussion of science, technology, philosophy, history, politics, music, art, etc. Fo...\n",
      "No comments found.\n",
      "PDF summary with comments saved as /Users/apollo/Documents/Rhythm/philosophy/kitabo/ensi/pdfs/noah.pdf\n"
     ]
    },
    {
     "data": {
      "text/html": [
       "<a href='/Users/apollo/Documents/Rhythm/philosophy/kitabo/ensi/pdfs/noah.pdf' target='_blank'>/Users/apollo/Documents/Rhythm/philosophy/kitabo/ensi/pdfs/noah.pdf</a><br>"
      ],
      "text/plain": [
       "/Users/apollo/Documents/Rhythm/philosophy/kitabo/ensi/pdfs/noah.pdf"
      ]
     },
     "metadata": {},
     "output_type": "display_data"
    }
   ],
   "source": [
    "import requests\n",
    "from bs4 import BeautifulSoup\n",
    "from fpdf import FPDF\n",
    "from IPython.display import display, FileLink\n",
    "import os\n",
    "\n",
    "# Define the Reddit post URL\n",
    "url = 'https://www.reddit.com/r/lexfridman/comments/152b7zb/why_so_many_people_dislike_yuval_noah_harary/'\n",
    "\n",
    "# Set headers to mimic a browser request (to avoid being blocked by Reddit)\n",
    "headers = {'User-Agent': 'Mozilla/5.0 (Macintosh; Intel Mac OS X 10_15_7) AppleWebKit/537.36 (KHTML, like Gecko) Chrome/91.0.4472.114 Safari/537.36'}\n",
    "\n",
    "# Fetch the page content\n",
    "response = requests.get(url, headers=headers)\n",
    "\n",
    "# Check if the request was successful\n",
    "if response.status_code != 200:\n",
    "    raise Exception(f\"Error: Unable to fetch the page (status code: {response.status_code})\")\n",
    "\n",
    "soup = BeautifulSoup(response.content, 'html.parser')\n",
    "\n",
    "# Create a PDF object\n",
    "pdf = FPDF()\n",
    "pdf.set_auto_page_break(auto=True, margin=15)\n",
    "pdf.add_page()\n",
    "pdf.set_font(\"Arial\", size=12)\n",
    "\n",
    "# Extract the post title\n",
    "title = soup.find('h1')\n",
    "if title:\n",
    "    print(f\"Found title: {title.get_text().strip()}\")\n",
    "    pdf.cell(200, 10, txt=title.get_text().strip(), ln=True, align='C')\n",
    "else:\n",
    "    print(\"Title not found\")\n",
    "    pdf.cell(200, 10, txt=\"Title not found\", ln=True, align='C')\n",
    "\n",
    "# Try to extract the post content\n",
    "content = soup.find('div', {'data-test-id': 'post-content'})\n",
    "if not content:\n",
    "    # Try another selector (for example, paragraphs in the post)\n",
    "    content = soup.find_all('p')\n",
    "    content_text = \"\\n\".join([para.get_text() for para in content]) if content else None\n",
    "else:\n",
    "    content_text = content.get_text()\n",
    "\n",
    "# Check if we found the content\n",
    "if content_text:\n",
    "    print(f\"Found content: {content_text[:100]}...\")  # Print first 100 characters for debugging\n",
    "    pdf.multi_cell(0, 10, txt=content_text)\n",
    "else:\n",
    "    print(\"Content not found\")\n",
    "    pdf.multi_cell(0, 10, txt=\"Content not found\")\n",
    "\n",
    "# Extract comments (divs containing class '_1qeIAgB0cPwnLhDF9XSiJM' are typically Reddit comments)\n",
    "comments = soup.find_all('div', class_='_1qeIAgB0cPwnLhDF9XSiJM')\n",
    "if comments:\n",
    "    for idx, comment in enumerate(comments, start=1):\n",
    "        comment_text = comment.get_text(strip=True)\n",
    "        print(f\"Found comment {idx}: {comment_text[:100]}...\")  # Print first 100 chars for debugging\n",
    "        pdf.multi_cell(0, 10, txt=f\"Comment {idx}: {comment_text}\")\n",
    "else:\n",
    "    print(\"No comments found.\")\n",
    "    pdf.multi_cell(0, 10, txt=\"No comments found\")\n",
    "\n",
    "# Save the PDF\n",
    "pdf_output = os.path.expanduser('~/Documents/Rhythm/philosophy/kitabo/ensi/pdfs/noah.pdf')\n",
    "pdf.output(pdf_output)\n",
    "\n",
    "# Display the PDF file link in Jupyter\n",
    "print(f\"PDF summary with comments saved as {pdf_output}\")\n",
    "display(FileLink(pdf_output))\n"
   ]
  },
  {
   "cell_type": "markdown",
   "metadata": {},
   "source": [
    "<iframe src=\"../../pdfs/noah.pdf\" width=\"100%\" height=\"500px\"></iframe>\n",
    "\n",
    "\n",
    "He kinda falls in the Malcolm Gladwell bucket for me - his writing seems well researched and thought out until he starts talking about something you know about, and then everything he says is incredibly speculative, misleading, and unfounded."
   ]
  }
 ],
 "metadata": {
  "kernelspec": {
   "display_name": "Python 3",
   "language": "python",
   "name": "python3"
  },
  "language_info": {
   "codemirror_mode": {
    "name": "ipython",
    "version": 3
   },
   "file_extension": ".py",
   "mimetype": "text/x-python",
   "name": "python",
   "nbconvert_exporter": "python",
   "pygments_lexer": "ipython3",
   "version": "3.12.4"
  },
  "widgets": {
   "application/vnd.jupyter.widget-state+json": {
    "state": {},
    "version_major": 2,
    "version_minor": 0
   }
  }
 },
 "nbformat": 4,
 "nbformat_minor": 4
}
