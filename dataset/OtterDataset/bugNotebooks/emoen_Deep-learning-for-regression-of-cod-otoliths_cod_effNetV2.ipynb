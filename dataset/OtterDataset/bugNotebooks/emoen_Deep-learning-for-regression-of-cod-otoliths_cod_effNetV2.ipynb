{
 "cells": [
  {
   "cell_type": "code",
   "execution_count": 1,
   "metadata": {},
   "outputs": [],
   "source": [
    "import pandas as pd\n",
    "import numpy as np\n",
    "import glob\n",
    "import os\n",
    "from pathlib import Path\n",
    "from PIL import Image, ExifTags\n",
    "\n",
    "from sklearn.model_selection import train_test_split\n",
    "from sklearn import preprocessing\n",
    "from sklearn.utils import compute_class_weight\n",
    "from sklearn.metrics import classification_report, confusion_matrix\n",
    "from sklearn.model_selection import KFold\n",
    "from sklearn.preprocessing import StandardScaler\n",
    "\n",
    "from sklearn.metrics import mean_squared_error, accuracy_score\n",
    "import scipy\n",
    "\n",
    "import matplotlib.pyplot as plt\n",
    "\n",
    "import os\n",
    "import gc\n",
    "import copy\n",
    "import time\n",
    "import random\n",
    "\n",
    "import numpy as np\n",
    "import pandas as pd\n",
    "\n",
    "import torch\n",
    "import torch.nn as nn\n",
    "import torch.optim as optim\n",
    "from torch.optim import lr_scheduler\n",
    "from torch.utils.data import Dataset, DataLoader\n",
    "from torch.cuda import amp\n",
    "\n",
    "from tqdm import tqdm\n",
    "from collections import defaultdict\n",
    "\n",
    "from loguru import logger\n",
    "\n",
    "from sklearn.metrics import roc_auc_score\n",
    "from sklearn.model_selection import StratifiedKFold\n",
    "\n",
    "import timm\n",
    "import albumentations as A\n",
    "from albumentations.pytorch import ToTensorV2\n",
    "\n",
    "from colorama import Fore\n",
    "b_ = Fore.BLUE\n",
    "\n",
    "from train_val_test_split import train_validate_test_split"
   ]
  },
  {
   "cell_type": "markdown",
   "metadata": {},
   "source": [
    "### Train Configuration"
   ]
  },
  {
   "cell_type": "code",
   "execution_count": 3,
   "metadata": {},
   "outputs": [],
   "source": [
    "class CONFIG:\n",
    "    seed = 42\n",
    "    model_name = 'tf_efficientnetv2_l_in21k'  #V2-l with all weights\n",
    "    train_batch_size = 8\n",
    "    valid_batch_size = 8\n",
    "    img_size = 384\n",
    "    val_img_size = 384 #480\n",
    "    learning_rate = 1e-5\n",
    "    min_lr = 1e-6\n",
    "    weight_decay = 1e-6\n",
    "    T_max = 10\n",
    "    scheduler = 'CosineAnnealingLR'\n",
    "    n_accumulate = 1\n",
    "    n_fold = 10 #5\n",
    "    target_size = 1\n",
    "    device = torch.device(\"cuda:0\" if torch.cuda.is_available() else \"cpu\")\n",
    "    debugging = False\n",
    "    which_exposure =  \"max\" #\"middle\" #{min, middle, max}\n",
    "    in_chans = 3 # number of channels for model - either 3 (RGB) or 9 - 3 images\n",
    "    CHANNELS = \"channels_first\"\n",
    "    KERAS_TRAIN_TEST_SEED = 2021\n",
    "    #ROOTDIR = \"./EFFNetV2_l_MLP/\"\n",
    "    #ROOTDIR = \"./REXNET_middle/\"\n",
    "    #ROOTDIR = \"./EFFNetV2_l_MLP_all/\"\n",
    "    ROOTDIR = \"./EFFNetV2_l_max_mse/\"\n",
    "    CUDA_VISIBLE_DEVICE = \"0\"\n",
    "    #tensorboard_path = 'tensorboard_test2'\n",
    "    #checkpoint_path = 'checkpoints_test2/cod_oto_efficientnetBBB.{epoch:03d}-{val_loss:.2f}.hdf5'\n",
    "    input_shape = (3, img_size, img_size)\n",
    "    test_size = 0.1 #0.15\n",
    "    test_split_seed = 8\n",
    "    steps_per_epoch = 1600\n",
    "    epochs = 450\n",
    "    early_stopping_patience = 14\n",
    "    reduceLROnPlateau_factor = 0.2\n",
    "    reduceLROnPlateau_patience = 7\n",
    "    early_stopping = 40\n",
    "    base_dir = '/gpfs/gpfs0/deep/data/Savannah_Professional_Practice2021_08_12_2021/CodOtholiths-MachineLearning/Savannah_Professional_Practice'\n",
    "    \n",
    "    \n",
    "def set_seed(seed = 42):\n",
    "    '''Sets the seed of the entire notebook so results are the same every time we run.\n",
    "    This is for REPRODUCIBILITY.'''\n",
    "    np.random.seed(seed)\n",
    "    random.seed(seed)\n",
    "    torch.manual_seed(seed)\n",
    "    torch.cuda.manual_seed(seed)\n",
    "    # When running on the CuDNN backend, two further options must be set\n",
    "    torch.backends.cudnn.deterministic = True\n",
    "    torch.backends.cudnn.benchmark = False\n",
    "    # Set a fixed value for the hash seed\n",
    "    os.environ['PYTHONHASHSEED'] = str(seed)\n",
    "    \n",
    "set_seed(CONFIG.seed)    "
   ]
  },
  {
   "cell_type": "code",
   "execution_count": 4,
   "metadata": {},
   "outputs": [],
   "source": [
    "import json\n",
    "\n",
    "config_dict = CONFIG.__dict__\n",
    "config_dict = dict(config_dict)\n",
    "config_dict.pop('device', None)\n",
    "config_dict.pop('__dict__', None)\n",
    "config_dict.pop('__weakref__', None)\n",
    "config_dict.pop('__doc__', None)\n",
    "\n",
    "with open(CONFIG.ROOTDIR+'config.json', 'w', encoding='utf-8') as f:\n",
    "    json.dump(config_dict, f, ensure_ascii=False, indent=4)"
   ]
  },
  {
   "cell_type": "code",
   "execution_count": 5,
   "metadata": {},
   "outputs": [
    {
     "name": "stdout",
     "output_type": "stream",
     "text": [
      "error_count:226\n",
      "add_count:5150\n"
     ]
    }
   ],
   "source": [
    "from utils.read_jpg_cods import read_jpg_cods\n",
    "from utils.train_val_test_split import *\n",
    "from utils.train_test_split import *\n",
    "\n",
    "df = read_jpg_cods( CONFIG ) "
   ]
  },
  {
   "cell_type": "code",
   "execution_count": 6,
   "metadata": {},
   "outputs": [
    {
     "name": "stdout",
     "output_type": "stream",
     "text": [
      "error_count:226\n",
      "add_count:5150\n"
     ]
    }
   ],
   "source": [
    "CONFIG.img_size = CONFIG.val_img_size\n",
    "df_test = read_jpg_cods( CONFIG ) "
   ]
  },
  {
   "cell_type": "markdown",
   "metadata": {},
   "source": [
    "### Train/Test split"
   ]
  },
  {
   "cell_type": "code",
   "execution_count": 7,
   "metadata": {},
   "outputs": [
    {
     "name": "stdout",
     "output_type": "stream",
     "text": [
      "len age:5150\n",
      "True\n",
      "True\n",
      "(515, 3, 384, 384)\n",
      "(4635, 3, 384, 384)\n",
      "4635\n",
      "(515, 3, 384, 384)\n",
      "515\n",
      "5150\n",
      "5150\n"
     ]
    }
   ],
   "source": [
    "print(\"len age:\"+str( len(df.age) ) ) #len age:5090, error_count:205\n",
    "train_imgs, train_age, test_imgs, test_age, test_path = train_test_split(df, CONFIG, test_size=CONFIG.test_size, a_seed=CONFIG.test_split_seed)\n",
    "test_path.to_csv( CONFIG.ROOTDIR+\"test_set_files.csv\", index=False)\n",
    "train_imgs2, train_age2, test_imgs2, test_age2, test_path2 = train_test_split(df_test, CONFIG, test_size=CONFIG.test_size, a_seed=CONFIG.test_split_seed)\n",
    "\n",
    "print(np.any(test_path2==test_path))\n",
    "print(np.any(test_age==test_age2))\n",
    "test_imgs = test_imgs2\n",
    "\n",
    "del train_imgs2\n",
    "del test_imgs2\n",
    "del train_age2\n",
    "del test_age2\n",
    "print(test_imgs.shape)\n",
    "\n",
    "#df1 = pd.DataFrame(list(zip(train_imgs, train_age)), columns=['image', 'age'])\n",
    "\n",
    "print(train_imgs.shape)\n",
    "print(len(train_age))\n",
    "print(test_imgs.shape)\n",
    "print(len(test_age))\n",
    "print(len(train_age)+len(test_age))\n",
    "print(len(df))\n",
    "#print(len(df1))"
   ]
  },
  {
   "cell_type": "markdown",
   "metadata": {},
   "source": [
    "### Dataset class"
   ]
  },
  {
   "cell_type": "code",
   "execution_count": 8,
   "metadata": {},
   "outputs": [],
   "source": [
    "class codDataset(Dataset):\n",
    "    def __init__(self, imgs, age, transform=None): \n",
    "        self.labels = age \n",
    "        self.image = imgs #np.stack( df['image'].values , axis=0) # make 4D-array (num_imgs, channels, width, height)\n",
    "        self.transform = transform\n",
    "        \n",
    "    def __len__(self):\n",
    "        return len(self.labels)\n",
    "    \n",
    "    def __getitem__(self, index):\n",
    "        image = self.image[index]\n",
    "        label = torch.tensor(self.labels[index]).float()\n",
    "        \n",
    "        if self.transform:\n",
    "            #print(\"1\"+str(image.shape)) \n",
    "            tmp = image.transpose(1,2,0) # convert to channel last\n",
    "            #print(\"2\"+str(tmp.shape))\n",
    "            image = self.transform(image=tmp)[\"image\"] \n",
    "            #print(\"3\"+str(image.shape))\n",
    "            image = image.transpose(2,0,1)\n",
    "            #print(\"4\"+str(image.shape))\n",
    "        \n",
    "        return image, label"
   ]
  },
  {
   "cell_type": "markdown",
   "metadata": {},
   "source": [
    "### Augmentation"
   ]
  },
  {
   "cell_type": "markdown",
   "metadata": {},
   "source": [
    "#### This one"
   ]
  },
  {
   "cell_type": "code",
   "execution_count": 9,
   "metadata": {},
   "outputs": [],
   "source": [
    "data_transforms = {\n",
    "    \"train\": A.Compose([A.Rotate((-90, 90), p=1.0)], p=0.99),\n",
    "    \"valid\": A.Compose([], p=1.)\n",
    "}"
   ]
  },
  {
   "cell_type": "markdown",
   "metadata": {},
   "source": [
    "### Cod Model"
   ]
  },
  {
   "cell_type": "code",
   "execution_count": 10,
   "metadata": {},
   "outputs": [
    {
     "name": "stdout",
     "output_type": "stream",
     "text": [
      "model self:Sequential(\n",
      "  (0): Linear(in_features=1280, out_features=256, bias=True)\n",
      "  (1): LeakyReLU(negative_slope=0.01)\n",
      "  (2): Linear(in_features=256, out_features=32, bias=True)\n",
      "  (3): LeakyReLU(negative_slope=0.01)\n",
      "  (4): Linear(in_features=32, out_features=1, bias=True)\n",
      ")\n"
     ]
    }
   ],
   "source": [
    "class codModel(nn.Module):\n",
    "\n",
    "    def __init__(self, model_name, pretrained=True):\n",
    "        super(codModel, self).__init__()\n",
    "        self.model = timm.create_model(CONFIG.model_name, pretrained=pretrained, in_chans=CONFIG.in_chans, num_classes=1) #model_name\n",
    "        self.n_features = self.model.classifier.in_features\n",
    "        self.model.classifier = nn.Linear(self.n_features, CONFIG.target_size)\n",
    "        lastLayer = nn.Sequential(nn.Linear(self.n_features, 256),\n",
    "              nn.LeakyReLU(),\n",
    "              nn.Linear(256, 32),\n",
    "              nn.LeakyReLU(),\n",
    "              nn.Linear(32, CONFIG.target_size))\n",
    "        self.model.classifier = lastLayer\n",
    "        print(\"model self:\"+str(self.model.classifier))\n",
    "\n",
    "    def forward(self, x):\n",
    "        output = self.model(x)\n",
    "        return output\n",
    "    \n",
    "model = codModel(CONFIG.model_name)\n",
    "model.to(CONFIG.device);"
   ]
  },
  {
   "cell_type": "code",
   "execution_count": 20,
   "metadata": {},
   "outputs": [],
   "source": [
    "#model.eval()"
   ]
  },
  {
   "cell_type": "markdown",
   "metadata": {},
   "source": [
    "### Training function"
   ]
  },
  {
   "cell_type": "code",
   "execution_count": 11,
   "metadata": {},
   "outputs": [],
   "source": [
    "def train_one_epoch(model, optimizer, scheduler, dataloader, device, epoch):\n",
    "    model.train()\n",
    "    scaler = amp.GradScaler()\n",
    "    \n",
    "    dataset_size = 0\n",
    "    running_loss = 0.0\n",
    "    \n",
    "    optimizer.zero_grad()\n",
    "    loss_fn = nn.MSELoss()\n",
    "    bar = tqdm(enumerate(dataloader), total=len(dataloader))\n",
    "    for step, (images, labels) in bar:  \n",
    "        #optimizer.zero_grad()\n",
    "        \n",
    "        images = images.to(device, dtype=torch.float)\n",
    "        labels = labels.to(device, dtype=torch.float)\n",
    "        labels = torch.unsqueeze(labels, 1)\n",
    "        \n",
    "        batch_size = images.size(0)\n",
    "        \n",
    "        with amp.autocast(enabled=True):\n",
    "            outputs = model(images)\n",
    "            #print(\"outputs:+\"+str(outputs))\n",
    "            #print(\"labels:\"+str(labels))\n",
    "            #print(\"mse:\"+str(mean_squared_error(labels.cpu().data.numpy(), outputs.cpu().data.numpy())))\n",
    "            loss = loss_fn(outputs, labels)\n",
    "         \n",
    "        \n",
    "        scaler.scale(loss).backward() # Scales loss.  Calls backward() on scaled loss to create scaled gradients\n",
    "        #model.print_debug() #model.classifier.weight[0:10,0]\n",
    "        \n",
    "        # scaler.step() first unscales the gradients of the optimizer's assigned params.\n",
    "        # If these gradients do not contain infs or NaNs, optimizer.step() is then called,\n",
    "        # otherwise, optimizer.step() is skipped.        \n",
    "        scaler.step(optimizer)\n",
    "        scaler.update() # Updates the scale for next iteration.\n",
    "            \n",
    "        # zero the parameter gradients\n",
    "        optimizer.zero_grad() # set_to_none=True here can modestly improve performance\n",
    "                \n",
    "        running_loss += loss.item() #(loss.item() * batch_size)\n",
    "        dataset_size += batch_size\n",
    "        \n",
    "        epoch_loss = running_loss/dataset_size\n",
    "        \n",
    "        bar.set_postfix(Epoch=epoch, Train_Loss=epoch_loss, LR=optimizer.param_groups[0]['lr'])\n",
    "    gc.collect()\n",
    "    \n",
    "    return epoch_loss"
   ]
  },
  {
   "cell_type": "markdown",
   "metadata": {},
   "source": [
    "### Validation function"
   ]
  },
  {
   "cell_type": "code",
   "execution_count": 12,
   "metadata": {},
   "outputs": [],
   "source": [
    "from sklearn.metrics import accuracy_score, mean_squared_error\n",
    "\n",
    "@torch.no_grad()\n",
    "def valid_one_epoch(model, optimizer, scheduler, dataloader, device, epoch):\n",
    "    model.eval()\n",
    "    \n",
    "    dataset_size = 0\n",
    "    running_loss = 0.0\n",
    "    \n",
    "    TARGETS = []\n",
    "    PREDS = []\n",
    "    \n",
    "    bar = tqdm(enumerate(dataloader), total=len(dataloader))\n",
    "    for step, (images, labels) in bar: \n",
    "        images = images.to(device)\n",
    "        labels = labels.to(device)\n",
    "        labels = torch.unsqueeze(labels, 1)\n",
    "        outputs = model(images)\n",
    "        loss = nn.MSELoss()(outputs, labels)\n",
    "        \n",
    "        batch_size = images.size(0)\n",
    "        running_loss += (loss.item() * batch_size)\n",
    "        dataset_size += batch_size\n",
    "        \n",
    "        epoch_loss = running_loss/dataset_size\n",
    "        \n",
    "        PREDS.append(outputs.cpu().detach().numpy())\n",
    "        TARGETS.append(labels.view(-1).cpu().detach().numpy())\n",
    "        \n",
    "        bar.set_postfix(Epoch=epoch, Valid_Loss=epoch_loss,\n",
    "                        LR=optimizer.param_groups[0]['lr'])   \n",
    "    \n",
    "    TARGETS = np.concatenate(TARGETS)\n",
    "    PREDS = np.concatenate(PREDS)\n",
    "    PREDS = np.squeeze(PREDS)\n",
    "    \n",
    "    print(\"max:\"+str(np.max( PREDS )))\n",
    "    print(\"mean:\"+str(np.mean( PREDS )))\n",
    "    print(\"min:\"+str(np.min( PREDS )))\n",
    "    \n",
    "    PREDS = PREDS.round()\n",
    "    val_auc = accuracy_score(TARGETS, PREDS) #roc_auc_score(TARGETS, PREDS)\n",
    "    mse_score = mean_squared_error(TARGETS, PREDS)\n",
    "    print(\"acc:\"+str( val_auc ) )\n",
    "    print(\"mse:\"+str( mse_score ) )\n",
    "    gc.collect()\n",
    "    \n",
    "    return epoch_loss , val_auc, mse_score"
   ]
  },
  {
   "cell_type": "markdown",
   "metadata": {},
   "source": [
    "### Run"
   ]
  },
  {
   "cell_type": "code",
   "execution_count": 13,
   "metadata": {},
   "outputs": [],
   "source": [
    "@logger.catch\n",
    "def run(model, optimizer, scheduler, train_loader, valid_loader, fold_i, test_imgs):   \n",
    "    device=CONFIG.device\n",
    "    num_epochs=CONFIG.epochs\n",
    "    patience = CONFIG.early_stopping\n",
    "    \n",
    "    start = time.time()\n",
    "    best_model_wts = copy.deepcopy(model.state_dict())\n",
    "    #best_epoch_auc = 0\n",
    "    best_epoch_auc = 1.0\n",
    "    best_epoch = 0\n",
    "    history = defaultdict(list)\n",
    "    \n",
    "    for epoch in range(1, num_epochs + 1): \n",
    "        gc.collect()\n",
    "        train_epoch_loss = train_one_epoch(model, optimizer, scheduler, \n",
    "                                           dataloader=train_loader, \n",
    "                                           device=CONFIG.device, epoch=epoch)\n",
    "        \n",
    "        valid_epoch_loss, acc_score, mse_score = valid_one_epoch(model, optimizer, scheduler,\n",
    "                                                            dataloader=valid_loader, \n",
    "                                                            device=CONFIG.device, epoch=epoch)\n",
    "    \n",
    "        history['Train Loss'].append(train_epoch_loss)\n",
    "        history['Valid Loss'].append(valid_epoch_loss)\n",
    "        \n",
    "        #history['Valid AUC'].append(acc_score) #valid_epoch_auc)\n",
    "        history['Valid AUC'].append(mse_score) #valid_epoch_auc)\n",
    "        \n",
    "        #print(f'Valid AUC: {valid_epoch_auc}')\n",
    "        \n",
    "        if scheduler is not None:\n",
    "            scheduler.step()\n",
    "        \n",
    "        ############## predict on test-set ################\n",
    "        PREDS_TEST  = []\n",
    "        ceil_step = int(test_imgs.shape[0] / 2) + int(test_imgs.shape[0] % 2 > 0)\n",
    "        for i in range(0, ceil_step):\n",
    "            start_step = i * 2\n",
    "            preds = model( torch.Tensor(test_imgs[start_step:start_step+2]).to(CONFIG.device) )\n",
    "            preds = preds.cpu().detach().numpy()\n",
    "            preds = preds.flatten()\n",
    "            PREDS_TEST.extend(preds.tolist())\n",
    "            \n",
    "        print(\"max:\"+str(np.max( PREDS_TEST )))\n",
    "        print(\"mean:\"+str(np.mean( PREDS_TEST )))\n",
    "        print(\"min:\"+str(np.min( PREDS_TEST )))\n",
    "        ROUNDED_PREDS_TEST = np.asarray(PREDS_TEST).round().astype('int')\n",
    "        print(\"test mse:\"+str( mean_squared_error(PREDS_TEST, test_age) )) \n",
    "        print(\"test acc:\"+str( accuracy_score(ROUNDED_PREDS_TEST.tolist(), test_age.tolist() ) )) \n",
    "        print(\"PREDS TYPE:\"+str(type(PREDS_TEST)))     \n",
    "        ############## END: predict on test-set ################            \n",
    "        \n",
    "        # deep copy the model\n",
    "        #if acc_score >= best_epoch_auc:\n",
    "        if mse_score <= best_epoch_auc:            \n",
    "            #print(f\"{b_}Validation AUC Improved ({best_epoch_auc} ---> {acc_score})\")\n",
    "            #best_epoch_auc = acc_score\n",
    "            print(f\"{b_}Validation AUC Improved ({best_epoch_auc} ---> {mse_score})\")\n",
    "            best_epoch_auc = mse_score\n",
    "            best_epoch = epoch\n",
    "            best_model_wts = copy.deepcopy(model.state_dict())\n",
    "            PATH = CONFIG.ROOTDIR +\"AUC{:.4f}_epoch{:.0f}_fold_{:.0f}.bin\".format(best_epoch_auc, epoch, fold_i)\n",
    "            torch.save(model.state_dict(), PATH)\n",
    "            print(\"Model Saved\")\n",
    "            \n",
    "        print()\n",
    "        if best_epoch < epoch - patience and epoch > 150:\n",
    "            break\n",
    "    \n",
    "    end = time.time()\n",
    "    time_elapsed = end - start\n",
    "    print('Training complete in {:.0f}h {:.0f}m {:.0f}s'.format(\n",
    "        time_elapsed // 3600, (time_elapsed % 3600) // 60, (time_elapsed % 3600) % 60))\n",
    "    print(\"Best AUC: {:.4f}\".format(best_epoch_auc))\n",
    "    \n",
    "    # load best model weights\n",
    "    model.load_state_dict(best_model_wts)\n",
    "    #print(model.classifier.weight[0:10,0])\n",
    "    \n",
    "    return model, history, best_model_wts"
   ]
  },
  {
   "cell_type": "markdown",
   "metadata": {},
   "source": [
    "### Train fold 0 to 5"
   ]
  },
  {
   "cell_type": "markdown",
   "metadata": {},
   "source": [
    "#CONFIG.n_fold\n",
    "CONFIG.epochs"
   ]
  },
  {
   "cell_type": "code",
   "execution_count": null,
   "metadata": {},
   "outputs": [
    {
     "name": "stdout",
     "output_type": "stream",
     "text": [
      "cuda:0\n",
      "450\n",
      "<class 'numpy.ndarray'>\n",
      "(515, 3, 384, 384)\n",
      "<class 'numpy.ndarray'>\n",
      "#########\n",
      "<class 'numpy.ndarray'>\n",
      "(4635, 3, 384, 384)\n",
      "test_img shape:(515, 3, 384, 384)\n",
      "test_img[0].shape:(3, 384, 384)\n",
      "max test_imgs0 value:1.0\n",
      "min test_imgs0 value:0.0\n"
     ]
    },
    {
     "name": "stderr",
     "output_type": "stream",
     "text": [
      "100%|██████████| 522/522 [06:31<00:00,  1.33it/s, Epoch=1, LR=1e-5, Train_Loss=1.48]\n",
      "100%|██████████| 58/58 [00:11<00:00,  5.16it/s, Epoch=1, LR=1e-5, Valid_Loss=0.906]\n"
     ]
    },
    {
     "name": "stdout",
     "output_type": "stream",
     "text": [
      "max:11.537515\n",
      "mean:5.2081857\n",
      "min:0.3440044\n",
      "acc:0.5366379310344828\n",
      "mse:1.0150862\n",
      "max:1583.4896240234375\n",
      "mean:7.980442760609886\n",
      "min:0.2155412882566452\n",
      "test mse:4820.371748654712\n",
      "test acc:0.5611650485436893\n",
      "PREDS TYPE:<class 'list'>\n",
      "\n"
     ]
    },
    {
     "name": "stderr",
     "output_type": "stream",
     "text": [
      "100%|██████████| 522/522 [09:02<00:00,  1.04s/it, Epoch=2, LR=9.78e-6, Train_Loss=0.14] \n",
      "100%|██████████| 58/58 [00:10<00:00,  5.37it/s, Epoch=2, LR=9.78e-6, Valid_Loss=0.954]\n"
     ]
    },
    {
     "name": "stdout",
     "output_type": "stream",
     "text": [
      "max:11.147516\n",
      "mean:5.0554905\n",
      "min:0.16665378\n",
      "acc:0.49353448275862066\n",
      "mse:1.0452586\n",
      "max:5063.423828125\n",
      "mean:14.657744854240162\n",
      "min:0.1226435974240303\n",
      "test mse:49626.52315648035\n",
      "test acc:0.5106796116504855\n",
      "PREDS TYPE:<class 'list'>\n",
      "\n"
     ]
    },
    {
     "name": "stderr",
     "output_type": "stream",
     "text": [
      "100%|██████████| 522/522 [09:01<00:00,  1.04s/it, Epoch=3, LR=9.14e-6, Train_Loss=0.081] \n",
      "100%|██████████| 58/58 [00:10<00:00,  5.38it/s, Epoch=3, LR=9.14e-6, Valid_Loss=0.8]  \n"
     ]
    },
    {
     "name": "stdout",
     "output_type": "stream",
     "text": [
      "max:12.130356\n",
      "mean:5.012448\n",
      "min:0.26565546\n",
      "acc:0.5021551724137931\n",
      "mse:0.8728448\n",
      "max:168.383544921875\n",
      "mean:5.079117118212783\n",
      "min:0.3057878911495209\n",
      "test mse:50.54513738734388\n",
      "test acc:0.537864077669903\n",
      "PREDS TYPE:<class 'list'>\n",
      "\u001b[34mValidation AUC Improved (1.0 ---> 0.8728448152542114)\n",
      "Model Saved\n",
      "\n"
     ]
    },
    {
     "name": "stderr",
     "output_type": "stream",
     "text": [
      "100%|██████████| 522/522 [09:06<00:00,  1.05s/it, Epoch=4, LR=8.15e-6, Train_Loss=0.0593]\n",
      "100%|██████████| 58/58 [00:10<00:00,  5.40it/s, Epoch=4, LR=8.15e-6, Valid_Loss=0.682]\n"
     ]
    },
    {
     "name": "stdout",
     "output_type": "stream",
     "text": [
      "max:11.808687\n",
      "mean:5.2196555\n",
      "min:0.18700646\n",
      "acc:0.5905172413793104\n",
      "mse:0.7844828\n",
      "max:351.6725158691406\n",
      "mean:5.648606435390352\n",
      "min:0.14967845380306244\n",
      "test mse:229.80182767243173\n",
      "test acc:0.596116504854369\n",
      "PREDS TYPE:<class 'list'>\n",
      "\u001b[34mValidation AUC Improved (0.8728448152542114 ---> 0.7844827771186829)\n",
      "Model Saved\n",
      "\n"
     ]
    },
    {
     "name": "stderr",
     "output_type": "stream",
     "text": [
      "100%|██████████| 522/522 [09:01<00:00,  1.04s/it, Epoch=5, LR=6.89e-6, Train_Loss=0.0486]\n",
      "100%|██████████| 58/58 [00:10<00:00,  5.40it/s, Epoch=5, LR=6.89e-6, Valid_Loss=0.689]\n"
     ]
    },
    {
     "name": "stdout",
     "output_type": "stream",
     "text": [
      "max:11.848451\n",
      "mean:5.149036\n",
      "min:0.23695223\n",
      "acc:0.5689655172413793\n",
      "mse:0.7521552\n",
      "max:662.437744140625\n",
      "mean:6.178098948314352\n",
      "min:0.21885621547698975\n",
      "test mse:832.1195337352597\n",
      "test acc:0.5902912621359223\n",
      "PREDS TYPE:<class 'list'>\n",
      "\u001b[34mValidation AUC Improved (0.7844827771186829 ---> 0.7521551847457886)\n",
      "Model Saved\n",
      "\n"
     ]
    },
    {
     "name": "stderr",
     "output_type": "stream",
     "text": [
      "100%|██████████| 522/522 [09:01<00:00,  1.04s/it, Epoch=6, LR=5.5e-6, Train_Loss=0.0473]\n",
      "100%|██████████| 58/58 [00:10<00:00,  5.40it/s, Epoch=6, LR=5.5e-6, Valid_Loss=0.569]\n"
     ]
    },
    {
     "name": "stdout",
     "output_type": "stream",
     "text": [
      "max:12.147211\n",
      "mean:5.468054\n",
      "min:0.36907887\n",
      "acc:0.6702586206896551\n",
      "mse:0.5991379\n",
      "max:27.380611419677734\n",
      "mean:5.249055933373645\n",
      "min:0.26340824365615845\n",
      "test mse:1.10606873000249\n",
      "test acc:0.6504854368932039\n",
      "PREDS TYPE:<class 'list'>\n",
      "\u001b[34mValidation AUC Improved (0.7521551847457886 ---> 0.5991379022598267)\n",
      "Model Saved\n",
      "\n"
     ]
    },
    {
     "name": "stderr",
     "output_type": "stream",
     "text": [
      "100%|██████████| 522/522 [09:00<00:00,  1.04s/it, Epoch=7, LR=4.11e-6, Train_Loss=0.0441]\n",
      "100%|██████████| 58/58 [00:10<00:00,  5.41it/s, Epoch=7, LR=4.11e-6, Valid_Loss=0.703]\n"
     ]
    },
    {
     "name": "stdout",
     "output_type": "stream",
     "text": [
      "max:11.917574\n",
      "mean:5.219601\n",
      "min:0.21293953\n",
      "acc:0.5991379310344828\n",
      "mse:0.8038793\n",
      "max:465.296875\n",
      "mean:5.892493821521407\n",
      "min:0.22149693965911865\n",
      "test mse:406.5207980584095\n",
      "test acc:0.629126213592233\n",
      "PREDS TYPE:<class 'list'>\n",
      "\n"
     ]
    },
    {
     "name": "stderr",
     "output_type": "stream",
     "text": [
      "100%|██████████| 522/522 [09:01<00:00,  1.04s/it, Epoch=8, LR=2.85e-6, Train_Loss=0.0397]\n",
      "100%|██████████| 58/58 [00:10<00:00,  5.40it/s, Epoch=8, LR=2.85e-6, Valid_Loss=0.601]\n"
     ]
    },
    {
     "name": "stdout",
     "output_type": "stream",
     "text": [
      "max:11.947964\n",
      "mean:5.197972\n",
      "min:0.23847738\n",
      "acc:0.6142241379310345\n",
      "mse:0.67456895\n",
      "max:12.376323699951172\n",
      "mean:4.962304240928113\n",
      "min:0.20250415802001953\n",
      "test mse:0.45969474006724304\n",
      "test acc:0.6427184466019418\n",
      "PREDS TYPE:<class 'list'>\n",
      "\n"
     ]
    },
    {
     "name": "stderr",
     "output_type": "stream",
     "text": [
      "100%|██████████| 522/522 [09:01<00:00,  1.04s/it, Epoch=9, LR=1.86e-6, Train_Loss=0.0362]\n",
      "100%|██████████| 58/58 [00:10<00:00,  5.40it/s, Epoch=9, LR=1.86e-6, Valid_Loss=0.72] \n"
     ]
    },
    {
     "name": "stdout",
     "output_type": "stream",
     "text": [
      "max:12.118975\n",
      "mean:5.0693045\n",
      "min:0.23209359\n",
      "acc:0.5495689655172413\n",
      "mse:0.8060345\n",
      "max:12.686986923217773\n",
      "mean:4.840239595498853\n",
      "min:0.22207185626029968\n",
      "test mse:0.5733924967312737\n",
      "test acc:0.5689320388349515\n",
      "PREDS TYPE:<class 'list'>\n",
      "\n"
     ]
    },
    {
     "name": "stderr",
     "output_type": "stream",
     "text": [
      "100%|██████████| 522/522 [09:03<00:00,  1.04s/it, Epoch=10, LR=1.22e-6, Train_Loss=0.0347]\n",
      "100%|██████████| 58/58 [00:10<00:00,  5.41it/s, Epoch=10, LR=1.22e-6, Valid_Loss=0.592]\n"
     ]
    },
    {
     "name": "stdout",
     "output_type": "stream",
     "text": [
      "max:12.000341\n",
      "mean:5.2271414\n",
      "min:0.1957289\n",
      "acc:0.6163793103448276\n",
      "mse:0.6659483\n",
      "max:12.401878356933594\n",
      "mean:4.9882442713651844\n",
      "min:0.1821415275335312\n",
      "test mse:0.4560919492652359\n",
      "test acc:0.6330097087378641\n",
      "PREDS TYPE:<class 'list'>\n",
      "\n"
     ]
    },
    {
     "name": "stderr",
     "output_type": "stream",
     "text": [
      "100%|██████████| 522/522 [09:12<00:00,  1.06s/it, Epoch=11, LR=1e-6, Train_Loss=0.0353]\n",
      "100%|██████████| 58/58 [00:10<00:00,  5.40it/s, Epoch=11, LR=1e-6, Valid_Loss=0.677]\n"
     ]
    },
    {
     "name": "stdout",
     "output_type": "stream",
     "text": [
      "max:11.7996025\n",
      "mean:5.1690135\n",
      "min:0.23593847\n",
      "acc:0.6012931034482759\n",
      "mse:0.7435345\n",
      "max:16.491056442260742\n",
      "mean:4.962724033055953\n",
      "min:0.2417871505022049\n",
      "test mse:0.6186251242239122\n",
      "test acc:0.6427184466019418\n",
      "PREDS TYPE:<class 'list'>\n",
      "\n"
     ]
    },
    {
     "name": "stderr",
     "output_type": "stream",
     "text": [
      "100%|██████████| 522/522 [09:01<00:00,  1.04s/it, Epoch=12, LR=1.22e-6, Train_Loss=0.0336]\n",
      "100%|██████████| 58/58 [00:10<00:00,  5.40it/s, Epoch=12, LR=1.22e-6, Valid_Loss=0.604]\n"
     ]
    },
    {
     "name": "stdout",
     "output_type": "stream",
     "text": [
      "max:11.985389\n",
      "mean:5.2564445\n",
      "min:0.2634003\n",
      "acc:0.625\n",
      "mse:0.6637931\n",
      "max:12.201362609863281\n",
      "mean:5.030333902014112\n",
      "min:0.22413790225982666\n",
      "test mse:0.4470799352718446\n",
      "test acc:0.6601941747572816\n",
      "PREDS TYPE:<class 'list'>\n",
      "\n"
     ]
    },
    {
     "name": "stderr",
     "output_type": "stream",
     "text": [
      "100%|██████████| 522/522 [09:00<00:00,  1.04s/it, Epoch=13, LR=1.86e-6, Train_Loss=0.0333]\n",
      "100%|██████████| 58/58 [00:10<00:00,  5.39it/s, Epoch=13, LR=1.86e-6, Valid_Loss=0.723]\n"
     ]
    },
    {
     "name": "stdout",
     "output_type": "stream",
     "text": [
      "max:12.057572\n",
      "mean:5.191518\n",
      "min:0.19690664\n",
      "acc:0.6142241379310345\n",
      "mse:0.8125\n",
      "max:101.2216567993164\n",
      "mean:5.154306402310584\n",
      "min:0.1884407103061676\n",
      "test mse:17.359871601390903\n",
      "test acc:0.6427184466019418\n",
      "PREDS TYPE:<class 'list'>\n",
      "\n"
     ]
    },
    {
     "name": "stderr",
     "output_type": "stream",
     "text": [
      "100%|██████████| 522/522 [09:03<00:00,  1.04s/it, Epoch=14, LR=2.85e-6, Train_Loss=0.0348]\n",
      "100%|██████████| 58/58 [00:10<00:00,  5.39it/s, Epoch=14, LR=2.85e-6, Valid_Loss=0.665]\n"
     ]
    },
    {
     "name": "stdout",
     "output_type": "stream",
     "text": [
      "max:12.062668\n",
      "mean:5.2502074\n",
      "min:0.29074976\n",
      "acc:0.6314655172413793\n",
      "mse:0.73491377\n",
      "max:12.018448829650879\n",
      "mean:5.021642539686369\n",
      "min:0.27154481410980225\n",
      "test mse:0.5002866055588182\n",
      "test acc:0.6466019417475728\n",
      "PREDS TYPE:<class 'list'>\n",
      "\n"
     ]
    },
    {
     "name": "stderr",
     "output_type": "stream",
     "text": [
      "100%|██████████| 522/522 [09:00<00:00,  1.04s/it, Epoch=15, LR=4.11e-6, Train_Loss=0.0342]\n",
      "100%|██████████| 58/58 [00:10<00:00,  5.40it/s, Epoch=15, LR=4.11e-6, Valid_Loss=0.638]\n"
     ]
    },
    {
     "name": "stdout",
     "output_type": "stream",
     "text": [
      "max:11.935811\n",
      "mean:5.1619954\n",
      "min:0.45492834\n",
      "acc:0.5818965517241379\n",
      "mse:0.67456895\n",
      "max:11.659210205078125\n",
      "mean:4.9221271682132794\n",
      "min:0.33255496621131897\n",
      "test mse:0.5018959617749934\n",
      "test acc:0.6135922330097088\n",
      "PREDS TYPE:<class 'list'>\n",
      "\n"
     ]
    },
    {
     "name": "stderr",
     "output_type": "stream",
     "text": [
      "100%|██████████| 522/522 [09:01<00:00,  1.04s/it, Epoch=16, LR=5.5e-6, Train_Loss=0.0348]\n",
      "100%|██████████| 58/58 [00:10<00:00,  5.39it/s, Epoch=16, LR=5.5e-6, Valid_Loss=0.87] \n"
     ]
    },
    {
     "name": "stdout",
     "output_type": "stream",
     "text": [
      "max:11.746701\n",
      "mean:4.95814\n",
      "min:0.37503925\n",
      "acc:0.5086206896551724\n",
      "mse:0.9159483\n",
      "max:11.54699993133545\n",
      "mean:4.725175582957499\n",
      "min:0.3268858790397644\n",
      "test mse:0.6870471962024701\n",
      "test acc:0.5320388349514563\n",
      "PREDS TYPE:<class 'list'>\n",
      "\n"
     ]
    },
    {
     "name": "stderr",
     "output_type": "stream",
     "text": [
      "100%|██████████| 522/522 [08:59<00:00,  1.03s/it, Epoch=17, LR=6.89e-6, Train_Loss=0.0356]\n",
      "100%|██████████| 58/58 [00:10<00:00,  5.40it/s, Epoch=17, LR=6.89e-6, Valid_Loss=0.625]\n"
     ]
    },
    {
     "name": "stdout",
     "output_type": "stream",
     "text": [
      "max:11.987356\n",
      "mean:5.359936\n",
      "min:0.58088535\n",
      "acc:0.6185344827586207\n",
      "mse:0.7090517\n",
      "max:12.600683212280273\n",
      "mean:5.135608196605756\n",
      "min:0.6047987937927246\n",
      "test mse:0.43187570943682935\n",
      "test acc:0.6660194174757281\n",
      "PREDS TYPE:<class 'list'>\n",
      "\n"
     ]
    },
    {
     "name": "stderr",
     "output_type": "stream",
     "text": [
      "100%|██████████| 522/522 [09:01<00:00,  1.04s/it, Epoch=18, LR=8.15e-6, Train_Loss=0.0327]\n",
      "100%|██████████| 58/58 [00:10<00:00,  5.39it/s, Epoch=18, LR=8.15e-6, Valid_Loss=0.601]\n"
     ]
    },
    {
     "name": "stdout",
     "output_type": "stream",
     "text": [
      "max:12.433943\n",
      "mean:5.231186\n",
      "min:0.47760892\n",
      "acc:0.6185344827586207\n",
      "mse:0.6573276\n",
      "max:12.016908645629883\n",
      "mean:4.970535891785205\n",
      "min:0.44441476464271545\n",
      "test mse:0.49787784595530477\n",
      "test acc:0.6116504854368932\n",
      "PREDS TYPE:<class 'list'>\n",
      "\n"
     ]
    },
    {
     "name": "stderr",
     "output_type": "stream",
     "text": [
      "100%|██████████| 522/522 [09:02<00:00,  1.04s/it, Epoch=19, LR=9.14e-6, Train_Loss=0.0317]\n",
      "100%|██████████| 58/58 [00:10<00:00,  5.39it/s, Epoch=19, LR=9.14e-6, Valid_Loss=0.868]\n"
     ]
    },
    {
     "name": "stdout",
     "output_type": "stream",
     "text": [
      "max:11.769185\n",
      "mean:4.9862723\n",
      "min:0.42392772\n",
      "acc:0.5150862068965517\n",
      "mse:0.95689654\n",
      "max:11.63342571258545\n",
      "mean:4.763635107498724\n",
      "min:0.5069341063499451\n",
      "test mse:0.6526551959398856\n",
      "test acc:0.5689320388349515\n",
      "PREDS TYPE:<class 'list'>\n",
      "\n"
     ]
    },
    {
     "name": "stderr",
     "output_type": "stream",
     "text": [
      "100%|██████████| 522/522 [09:02<00:00,  1.04s/it, Epoch=20, LR=9.78e-6, Train_Loss=0.0324]\n",
      "100%|██████████| 58/58 [00:10<00:00,  5.39it/s, Epoch=20, LR=9.78e-6, Valid_Loss=0.601]\n"
     ]
    },
    {
     "name": "stdout",
     "output_type": "stream",
     "text": [
      "max:11.618679\n",
      "mean:5.3213873\n",
      "min:0.50184387\n",
      "acc:0.6271551724137931\n",
      "mse:0.6616379\n",
      "max:11.53116226196289\n",
      "mean:5.0503938033742815\n",
      "min:0.5539616942405701\n",
      "test mse:0.5254618907287473\n",
      "test acc:0.6349514563106796\n",
      "PREDS TYPE:<class 'list'>\n",
      "\n"
     ]
    },
    {
     "name": "stderr",
     "output_type": "stream",
     "text": [
      "100%|██████████| 522/522 [09:02<00:00,  1.04s/it, Epoch=21, LR=1e-5, Train_Loss=0.0286]\n",
      "100%|██████████| 58/58 [00:10<00:00,  5.40it/s, Epoch=21, LR=1e-5, Valid_Loss=0.687]\n"
     ]
    },
    {
     "name": "stdout",
     "output_type": "stream",
     "text": [
      "max:11.708297\n",
      "mean:5.30622\n",
      "min:0.4090797\n",
      "acc:0.665948275862069\n",
      "mse:0.7176724\n",
      "max:11.662683486938477\n",
      "mean:5.06260619337119\n",
      "min:0.49551767110824585\n",
      "test mse:0.563168799680544\n",
      "test acc:0.6640776699029126\n",
      "PREDS TYPE:<class 'list'>\n",
      "\n"
     ]
    },
    {
     "name": "stderr",
     "output_type": "stream",
     "text": [
      "100%|██████████| 522/522 [09:01<00:00,  1.04s/it, Epoch=22, LR=9.78e-6, Train_Loss=0.0276]\n",
      "100%|██████████| 58/58 [00:10<00:00,  5.39it/s, Epoch=22, LR=9.78e-6, Valid_Loss=0.679]\n"
     ]
    },
    {
     "name": "stdout",
     "output_type": "stream",
     "text": [
      "max:11.917766\n",
      "mean:5.05071\n",
      "min:0.5231779\n",
      "acc:0.5495689655172413\n",
      "mse:0.7155172\n",
      "max:11.970606803894043\n",
      "mean:4.808977335170635\n",
      "min:0.44806116819381714\n",
      "test mse:0.59405651604647\n",
      "test acc:0.5902912621359223\n",
      "PREDS TYPE:<class 'list'>\n",
      "\n"
     ]
    },
    {
     "name": "stderr",
     "output_type": "stream",
     "text": [
      "100%|██████████| 522/522 [09:02<00:00,  1.04s/it, Epoch=23, LR=9.14e-6, Train_Loss=0.025] \n",
      "100%|██████████| 58/58 [00:10<00:00,  5.39it/s, Epoch=23, LR=9.14e-6, Valid_Loss=0.681]\n"
     ]
    },
    {
     "name": "stdout",
     "output_type": "stream",
     "text": [
      "max:11.756112\n",
      "mean:5.1433816\n",
      "min:0.5920757\n",
      "acc:0.6163793103448276\n",
      "mse:0.73060346\n",
      "max:11.176054000854492\n",
      "mean:4.895148402683943\n",
      "min:0.4778163731098175\n",
      "test mse:0.5438869144828183\n",
      "test acc:0.625242718446602\n",
      "PREDS TYPE:<class 'list'>\n",
      "\n"
     ]
    },
    {
     "name": "stderr",
     "output_type": "stream",
     "text": [
      "100%|██████████| 522/522 [09:02<00:00,  1.04s/it, Epoch=24, LR=8.15e-6, Train_Loss=0.0227]\n",
      "100%|██████████| 58/58 [00:10<00:00,  5.39it/s, Epoch=24, LR=8.15e-6, Valid_Loss=0.702]\n"
     ]
    },
    {
     "name": "stdout",
     "output_type": "stream",
     "text": [
      "max:11.719213\n",
      "mean:5.1932287\n",
      "min:0.6763249\n",
      "acc:0.5862068965517241\n",
      "mse:0.74568963\n",
      "max:11.696817398071289\n",
      "mean:4.964949709987177\n",
      "min:0.4660283625125885\n",
      "test mse:0.5452070565921713\n",
      "test acc:0.6233009708737864\n",
      "PREDS TYPE:<class 'list'>\n",
      "\n"
     ]
    },
    {
     "name": "stderr",
     "output_type": "stream",
     "text": [
      "100%|██████████| 522/522 [09:02<00:00,  1.04s/it, Epoch=25, LR=6.89e-6, Train_Loss=0.0205]\n",
      "100%|██████████| 58/58 [00:10<00:00,  5.39it/s, Epoch=25, LR=6.89e-6, Valid_Loss=0.65] \n"
     ]
    },
    {
     "name": "stdout",
     "output_type": "stream",
     "text": [
      "max:12.136801\n",
      "mean:5.137649\n",
      "min:0.7104788\n",
      "acc:0.5905172413793104\n",
      "mse:0.67456895\n",
      "max:11.995576858520508\n",
      "mean:4.912292248299979\n",
      "min:0.6153683662414551\n",
      "test mse:0.4986264182302278\n",
      "test acc:0.625242718446602\n",
      "PREDS TYPE:<class 'list'>\n",
      "\n"
     ]
    },
    {
     "name": "stderr",
     "output_type": "stream",
     "text": [
      "100%|██████████| 522/522 [09:03<00:00,  1.04s/it, Epoch=26, LR=5.5e-6, Train_Loss=0.019] \n",
      "100%|██████████| 58/58 [00:10<00:00,  5.40it/s, Epoch=26, LR=5.5e-6, Valid_Loss=0.639]\n"
     ]
    },
    {
     "name": "stdout",
     "output_type": "stream",
     "text": [
      "max:11.607624\n",
      "mean:5.1213326\n",
      "min:0.7813966\n",
      "acc:0.5797413793103449\n",
      "mse:0.6939655\n",
      "max:11.672014236450195\n",
      "mean:4.8918672302394235\n",
      "min:0.6747590899467468\n",
      "test mse:0.4956058706366119\n",
      "test acc:0.6155339805825243\n",
      "PREDS TYPE:<class 'list'>\n",
      "\n"
     ]
    },
    {
     "name": "stderr",
     "output_type": "stream",
     "text": [
      "100%|██████████| 522/522 [09:02<00:00,  1.04s/it, Epoch=27, LR=4.11e-6, Train_Loss=0.0181]\n",
      "100%|██████████| 58/58 [00:10<00:00,  5.40it/s, Epoch=27, LR=4.11e-6, Valid_Loss=0.613]\n"
     ]
    },
    {
     "name": "stdout",
     "output_type": "stream",
     "text": [
      "max:11.774588\n",
      "mean:5.250447\n",
      "min:0.5923016\n",
      "acc:0.6185344827586207\n",
      "mse:0.6573276\n",
      "max:11.697900772094727\n",
      "mean:5.006060359778913\n",
      "min:0.5356383919715881\n",
      "test mse:0.4984035111862728\n",
      "test acc:0.6601941747572816\n",
      "PREDS TYPE:<class 'list'>\n",
      "\n"
     ]
    },
    {
     "name": "stderr",
     "output_type": "stream",
     "text": [
      "100%|██████████| 522/522 [09:03<00:00,  1.04s/it, Epoch=28, LR=2.85e-6, Train_Loss=0.0169]\n",
      "100%|██████████| 58/58 [00:10<00:00,  5.39it/s, Epoch=28, LR=2.85e-6, Valid_Loss=0.618]\n"
     ]
    },
    {
     "name": "stdout",
     "output_type": "stream",
     "text": [
      "max:11.902654\n",
      "mean:5.250108\n",
      "min:0.5091528\n",
      "acc:0.5991379310344828\n",
      "mse:0.6530172\n",
      "max:11.81144905090332\n",
      "mean:5.009177924707098\n",
      "min:0.5389946103096008\n",
      "test mse:0.5011013440648662\n",
      "test acc:0.6640776699029126\n",
      "PREDS TYPE:<class 'list'>\n",
      "\n"
     ]
    },
    {
     "name": "stderr",
     "output_type": "stream",
     "text": [
      "100%|██████████| 522/522 [09:03<00:00,  1.04s/it, Epoch=29, LR=1.86e-6, Train_Loss=0.0147]\n",
      "100%|██████████| 58/58 [00:10<00:00,  5.38it/s, Epoch=29, LR=1.86e-6, Valid_Loss=0.575]\n"
     ]
    },
    {
     "name": "stdout",
     "output_type": "stream",
     "text": [
      "max:11.787171\n",
      "mean:5.2330637\n",
      "min:0.8485504\n",
      "acc:0.5991379310344828\n",
      "mse:0.6314655\n",
      "max:11.757660865783691\n",
      "mean:4.986218331392529\n",
      "min:0.6708959937095642\n",
      "test mse:0.44346667495379444\n",
      "test acc:0.6563106796116505\n",
      "PREDS TYPE:<class 'list'>\n",
      "\n"
     ]
    },
    {
     "name": "stderr",
     "output_type": "stream",
     "text": [
      "100%|██████████| 522/522 [09:03<00:00,  1.04s/it, Epoch=30, LR=1.22e-6, Train_Loss=0.0151]\n",
      "100%|██████████| 58/58 [00:10<00:00,  5.40it/s, Epoch=30, LR=1.22e-6, Valid_Loss=0.576]\n"
     ]
    },
    {
     "name": "stdout",
     "output_type": "stream",
     "text": [
      "max:11.877734\n",
      "mean:5.2849774\n",
      "min:0.68562853\n",
      "acc:0.625\n",
      "mse:0.625\n",
      "max:11.777641296386719\n",
      "mean:5.0316173300002385\n",
      "min:0.6348224878311157\n",
      "test mse:0.47789613640420536\n",
      "test acc:0.6679611650485436\n",
      "PREDS TYPE:<class 'list'>\n",
      "\n"
     ]
    },
    {
     "name": "stderr",
     "output_type": "stream",
     "text": [
      "100%|██████████| 522/522 [09:03<00:00,  1.04s/it, Epoch=31, LR=1e-6, Train_Loss=0.014] \n",
      "100%|██████████| 58/58 [00:10<00:00,  5.39it/s, Epoch=31, LR=1e-6, Valid_Loss=0.591]\n"
     ]
    },
    {
     "name": "stdout",
     "output_type": "stream",
     "text": [
      "max:11.864779\n",
      "mean:5.290177\n",
      "min:0.72293997\n",
      "acc:0.6314655172413793\n",
      "mse:0.64439654\n",
      "max:11.651240348815918\n",
      "mean:5.035738882740724\n",
      "min:0.6461036801338196\n",
      "test mse:0.4806214859026097\n",
      "test acc:0.6699029126213593\n",
      "PREDS TYPE:<class 'list'>\n",
      "\n"
     ]
    },
    {
     "name": "stderr",
     "output_type": "stream",
     "text": [
      "100%|██████████| 522/522 [09:03<00:00,  1.04s/it, Epoch=32, LR=1.22e-6, Train_Loss=0.0142]\n",
      "100%|██████████| 58/58 [00:10<00:00,  5.40it/s, Epoch=32, LR=1.22e-6, Valid_Loss=0.591]\n"
     ]
    },
    {
     "name": "stdout",
     "output_type": "stream",
     "text": [
      "max:12.139031\n",
      "mean:5.226554\n",
      "min:0.7172847\n",
      "acc:0.6099137931034483\n",
      "mse:0.6487069\n",
      "max:11.944933891296387\n",
      "mean:4.979542009228641\n",
      "min:0.6304068565368652\n",
      "test mse:0.48536365977634116\n",
      "test acc:0.6601941747572816\n",
      "PREDS TYPE:<class 'list'>\n",
      "\n"
     ]
    },
    {
     "name": "stderr",
     "output_type": "stream",
     "text": [
      "100%|██████████| 522/522 [09:02<00:00,  1.04s/it, Epoch=33, LR=1.86e-6, Train_Loss=0.0141]\n",
      "100%|██████████| 58/58 [00:10<00:00,  5.41it/s, Epoch=33, LR=1.86e-6, Valid_Loss=0.643]\n"
     ]
    },
    {
     "name": "stdout",
     "output_type": "stream",
     "text": [
      "max:11.880178\n",
      "mean:5.248474\n",
      "min:0.679151\n",
      "acc:0.6077586206896551\n",
      "mse:0.70474136\n",
      "max:11.802704811096191\n",
      "mean:4.994304137553984\n",
      "min:0.6189709901809692\n",
      "test mse:0.5191225879637289\n",
      "test acc:0.6563106796116505\n",
      "PREDS TYPE:<class 'list'>\n",
      "\n"
     ]
    },
    {
     "name": "stderr",
     "output_type": "stream",
     "text": [
      "100%|██████████| 522/522 [09:02<00:00,  1.04s/it, Epoch=34, LR=2.85e-6, Train_Loss=0.0144]\n",
      "100%|██████████| 58/58 [00:10<00:00,  5.36it/s, Epoch=34, LR=2.85e-6, Valid_Loss=0.58] \n"
     ]
    },
    {
     "name": "stdout",
     "output_type": "stream",
     "text": [
      "max:11.993299\n",
      "mean:5.260876\n",
      "min:0.66124105\n",
      "acc:0.6099137931034483\n",
      "mse:0.6551724\n",
      "max:11.972762107849121\n",
      "mean:5.007329884663369\n",
      "min:0.6389718055725098\n",
      "test mse:0.4776954423905597\n",
      "test acc:0.658252427184466\n",
      "PREDS TYPE:<class 'list'>\n",
      "\n"
     ]
    },
    {
     "name": "stderr",
     "output_type": "stream",
     "text": [
      "100%|██████████| 522/522 [09:02<00:00,  1.04s/it, Epoch=35, LR=4.11e-6, Train_Loss=0.0146]\n",
      "100%|██████████| 58/58 [00:11<00:00,  5.27it/s, Epoch=35, LR=4.11e-6, Valid_Loss=0.559]\n"
     ]
    },
    {
     "name": "stdout",
     "output_type": "stream",
     "text": [
      "max:11.919531\n",
      "mean:5.3003097\n",
      "min:0.6917115\n",
      "acc:0.603448275862069\n",
      "mse:0.6271552\n",
      "max:11.732341766357422\n",
      "mean:5.060272424197891\n",
      "min:0.5733299851417542\n",
      "test mse:0.4223370004757566\n",
      "test acc:0.658252427184466\n",
      "PREDS TYPE:<class 'list'>\n",
      "\n"
     ]
    },
    {
     "name": "stderr",
     "output_type": "stream",
     "text": [
      "100%|██████████| 522/522 [09:04<00:00,  1.04s/it, Epoch=36, LR=5.5e-6, Train_Loss=0.016] \n",
      "100%|██████████| 58/58 [00:10<00:00,  5.38it/s, Epoch=36, LR=5.5e-6, Valid_Loss=0.574]\n"
     ]
    },
    {
     "name": "stdout",
     "output_type": "stream",
     "text": [
      "max:12.039278\n",
      "mean:5.249961\n",
      "min:0.7205916\n",
      "acc:0.6142241379310345\n",
      "mse:0.6314655\n",
      "max:12.172591209411621\n",
      "mean:4.9803008839922045\n",
      "min:0.5446096658706665\n",
      "test mse:0.4598778440731635\n",
      "test acc:0.6330097087378641\n",
      "PREDS TYPE:<class 'list'>\n",
      "\n"
     ]
    },
    {
     "name": "stderr",
     "output_type": "stream",
     "text": [
      "100%|██████████| 522/522 [09:03<00:00,  1.04s/it, Epoch=37, LR=6.89e-6, Train_Loss=0.0167]\n",
      "100%|██████████| 58/58 [00:10<00:00,  5.40it/s, Epoch=37, LR=6.89e-6, Valid_Loss=0.57] \n"
     ]
    },
    {
     "name": "stdout",
     "output_type": "stream",
     "text": [
      "max:12.1446\n",
      "mean:5.267649\n",
      "min:0.5784086\n",
      "acc:0.625\n",
      "mse:0.6314655\n",
      "max:11.99796199798584\n",
      "mean:5.015457792883938\n",
      "min:0.5493481755256653\n",
      "test mse:0.47289751143787184\n",
      "test acc:0.6699029126213593\n",
      "PREDS TYPE:<class 'list'>\n",
      "\n"
     ]
    },
    {
     "name": "stderr",
     "output_type": "stream",
     "text": [
      "100%|██████████| 522/522 [09:04<00:00,  1.04s/it, Epoch=38, LR=8.15e-6, Train_Loss=0.0162]\n",
      "100%|██████████| 58/58 [00:10<00:00,  5.39it/s, Epoch=38, LR=8.15e-6, Valid_Loss=0.695]\n"
     ]
    },
    {
     "name": "stdout",
     "output_type": "stream",
     "text": [
      "max:11.706077\n",
      "mean:5.0105653\n",
      "min:0.71283156\n",
      "acc:0.5538793103448276\n",
      "mse:0.7586207\n",
      "max:11.670461654663086\n",
      "mean:4.762836948991979\n",
      "min:0.6847115755081177\n",
      "test mse:0.6135979929071447\n",
      "test acc:0.574757281553398\n",
      "PREDS TYPE:<class 'list'>\n",
      "\n"
     ]
    },
    {
     "name": "stderr",
     "output_type": "stream",
     "text": [
      "100%|██████████| 522/522 [09:04<00:00,  1.04s/it, Epoch=39, LR=9.14e-6, Train_Loss=0.0157]\n",
      "100%|██████████| 58/58 [00:10<00:00,  5.41it/s, Epoch=39, LR=9.14e-6, Valid_Loss=0.618]\n"
     ]
    },
    {
     "name": "stdout",
     "output_type": "stream",
     "text": [
      "max:12.038739\n",
      "mean:5.199401\n",
      "min:0.7066306\n",
      "acc:0.5948275862068966\n",
      "mse:0.6853448\n",
      "max:12.188764572143555\n",
      "mean:4.945189987687232\n",
      "min:0.6921132802963257\n",
      "test mse:0.5602298421237326\n",
      "test acc:0.6427184466019418\n",
      "PREDS TYPE:<class 'list'>\n",
      "\n"
     ]
    },
    {
     "name": "stderr",
     "output_type": "stream",
     "text": [
      "100%|██████████| 522/522 [09:03<00:00,  1.04s/it, Epoch=40, LR=9.78e-6, Train_Loss=0.0166]\n",
      "100%|██████████| 58/58 [00:10<00:00,  5.37it/s, Epoch=40, LR=9.78e-6, Valid_Loss=0.763]\n"
     ]
    },
    {
     "name": "stdout",
     "output_type": "stream",
     "text": [
      "max:11.48039\n",
      "mean:5.0199094\n",
      "min:0.33421454\n",
      "acc:0.5538793103448276\n",
      "mse:0.8211207\n",
      "max:11.188154220581055\n",
      "mean:4.797253792204903\n",
      "min:0.28425419330596924\n",
      "test mse:0.7025045016939083\n",
      "test acc:0.5650485436893203\n",
      "PREDS TYPE:<class 'list'>\n",
      "\n"
     ]
    },
    {
     "name": "stderr",
     "output_type": "stream",
     "text": [
      "100%|██████████| 522/522 [09:03<00:00,  1.04s/it, Epoch=41, LR=1e-5, Train_Loss=0.0169]\n",
      "100%|██████████| 58/58 [00:10<00:00,  5.40it/s, Epoch=41, LR=1e-5, Valid_Loss=0.562]\n"
     ]
    },
    {
     "name": "stdout",
     "output_type": "stream",
     "text": [
      "max:11.6379175\n",
      "mean:5.287156\n",
      "min:0.696227\n",
      "acc:0.6357758620689655\n",
      "mse:0.6012931\n",
      "max:11.538963317871094\n",
      "mean:5.031372719598048\n",
      "min:0.5224887132644653\n",
      "test mse:0.5176955328460378\n",
      "test acc:0.6873786407766991\n",
      "PREDS TYPE:<class 'list'>\n",
      "\n"
     ]
    },
    {
     "name": "stderr",
     "output_type": "stream",
     "text": [
      "100%|██████████| 522/522 [09:04<00:00,  1.04s/it, Epoch=42, LR=9.78e-6, Train_Loss=0.0146]\n",
      "100%|██████████| 58/58 [00:10<00:00,  5.40it/s, Epoch=42, LR=9.78e-6, Valid_Loss=0.562]\n"
     ]
    },
    {
     "name": "stdout",
     "output_type": "stream",
     "text": [
      "max:11.615998\n",
      "mean:5.3061314\n",
      "min:0.7673678\n",
      "acc:0.6422413793103449\n",
      "mse:0.62068963\n",
      "max:11.292341232299805\n",
      "mean:5.035682381588279\n",
      "min:0.6260035037994385\n",
      "test mse:0.4950028261180991\n",
      "test acc:0.6757281553398058\n",
      "PREDS TYPE:<class 'list'>\n",
      "\n"
     ]
    },
    {
     "name": "stderr",
     "output_type": "stream",
     "text": [
      "100%|██████████| 522/522 [09:02<00:00,  1.04s/it, Epoch=43, LR=9.14e-6, Train_Loss=0.0141]\n",
      "100%|██████████| 58/58 [00:10<00:00,  5.40it/s, Epoch=43, LR=9.14e-6, Valid_Loss=0.517]\n"
     ]
    },
    {
     "name": "stdout",
     "output_type": "stream",
     "text": [
      "max:12.218314\n",
      "mean:5.323684\n",
      "min:0.86742723\n",
      "acc:0.6206896551724138\n",
      "mse:0.5926724\n",
      "max:11.955134391784668\n",
      "mean:5.054172580450484\n",
      "min:0.6697312593460083\n",
      "test mse:0.4471882478506656\n",
      "test acc:0.6640776699029126\n",
      "PREDS TYPE:<class 'list'>\n",
      "\u001b[34mValidation AUC Improved (0.5991379022598267 ---> 0.5926724076271057)\n",
      "Model Saved\n",
      "\n"
     ]
    },
    {
     "name": "stderr",
     "output_type": "stream",
     "text": [
      "100%|██████████| 522/522 [09:03<00:00,  1.04s/it, Epoch=44, LR=8.15e-6, Train_Loss=0.0127]\n",
      "100%|██████████| 58/58 [00:10<00:00,  5.39it/s, Epoch=44, LR=8.15e-6, Valid_Loss=0.542]\n"
     ]
    },
    {
     "name": "stdout",
     "output_type": "stream",
     "text": [
      "max:11.743755\n",
      "mean:5.3038874\n",
      "min:0.9476932\n",
      "acc:0.646551724137931\n",
      "mse:0.6034483\n",
      "max:11.77523136138916\n",
      "mean:5.051401974969697\n",
      "min:0.7593499422073364\n",
      "test mse:0.4822376255416635\n",
      "test acc:0.6699029126213593\n",
      "PREDS TYPE:<class 'list'>\n",
      "\n"
     ]
    },
    {
     "name": "stderr",
     "output_type": "stream",
     "text": [
      "100%|██████████| 522/522 [09:03<00:00,  1.04s/it, Epoch=45, LR=6.89e-6, Train_Loss=0.0125]\n",
      "100%|██████████| 58/58 [00:10<00:00,  5.41it/s, Epoch=45, LR=6.89e-6, Valid_Loss=0.508]\n"
     ]
    },
    {
     "name": "stdout",
     "output_type": "stream",
     "text": [
      "max:12.143879\n",
      "mean:5.3281364\n",
      "min:0.9519061\n",
      "acc:0.6271551724137931\n",
      "mse:0.6034483\n",
      "max:12.397011756896973\n",
      "mean:5.08915297163343\n",
      "min:0.8792476654052734\n",
      "test mse:0.41500058205577356\n",
      "test acc:0.6504854368932039\n",
      "PREDS TYPE:<class 'list'>\n",
      "\n"
     ]
    },
    {
     "name": "stderr",
     "output_type": "stream",
     "text": [
      "100%|██████████| 522/522 [09:04<00:00,  1.04s/it, Epoch=46, LR=5.5e-6, Train_Loss=0.0112]\n",
      "100%|██████████| 58/58 [00:10<00:00,  5.38it/s, Epoch=46, LR=5.5e-6, Valid_Loss=0.536]\n"
     ]
    },
    {
     "name": "stdout",
     "output_type": "stream",
     "text": [
      "max:12.148119\n",
      "mean:5.2400527\n",
      "min:0.8600601\n",
      "acc:0.6206896551724138\n",
      "mse:0.6163793\n",
      "max:12.068682670593262\n",
      "mean:4.992620435501765\n",
      "min:0.6672229766845703\n",
      "test mse:0.41586349466122546\n",
      "test acc:0.654368932038835\n",
      "PREDS TYPE:<class 'list'>\n",
      "\n"
     ]
    },
    {
     "name": "stderr",
     "output_type": "stream",
     "text": [
      "100%|██████████| 522/522 [09:04<00:00,  1.04s/it, Epoch=47, LR=4.11e-6, Train_Loss=0.00998]\n",
      "100%|██████████| 58/58 [00:10<00:00,  5.38it/s, Epoch=47, LR=4.11e-6, Valid_Loss=0.513]\n"
     ]
    },
    {
     "name": "stdout",
     "output_type": "stream",
     "text": [
      "max:12.262521\n",
      "mean:5.346593\n",
      "min:0.88439184\n",
      "acc:0.6637931034482759\n",
      "mse:0.5625\n",
      "max:12.340256690979004\n",
      "mean:5.0975393985081645\n",
      "min:0.7346401810646057\n",
      "test mse:0.41699488868986867\n",
      "test acc:0.6796116504854369\n",
      "PREDS TYPE:<class 'list'>\n",
      "\u001b[34mValidation AUC Improved (0.5926724076271057 ---> 0.5625)\n",
      "Model Saved\n",
      "\n"
     ]
    },
    {
     "name": "stderr",
     "output_type": "stream",
     "text": [
      "100%|██████████| 522/522 [09:04<00:00,  1.04s/it, Epoch=48, LR=2.85e-6, Train_Loss=0.00932]\n",
      "100%|██████████| 58/58 [00:10<00:00,  5.39it/s, Epoch=48, LR=2.85e-6, Valid_Loss=0.537]\n"
     ]
    },
    {
     "name": "stdout",
     "output_type": "stream",
     "text": [
      "max:12.354268\n",
      "mean:5.3018537\n",
      "min:0.72267425\n",
      "acc:0.6530172413793104\n",
      "mse:0.5991379\n",
      "max:12.438714981079102\n",
      "mean:5.045995176764368\n",
      "min:0.7713582515716553\n",
      "test mse:0.4689475029833403\n",
      "test acc:0.6563106796116505\n",
      "PREDS TYPE:<class 'list'>\n",
      "\n"
     ]
    },
    {
     "name": "stderr",
     "output_type": "stream",
     "text": [
      "100%|██████████| 522/522 [09:03<00:00,  1.04s/it, Epoch=49, LR=1.86e-6, Train_Loss=0.0087] \n",
      "100%|██████████| 58/58 [00:10<00:00,  5.38it/s, Epoch=49, LR=1.86e-6, Valid_Loss=0.604]\n"
     ]
    },
    {
     "name": "stdout",
     "output_type": "stream",
     "text": [
      "max:11.971146\n",
      "mean:5.1473327\n",
      "min:0.6372945\n",
      "acc:0.5991379310344828\n",
      "mse:0.6594828\n",
      "max:12.075873374938965\n",
      "mean:4.901297140815883\n",
      "min:0.6208590865135193\n",
      "test mse:0.5515085459321976\n",
      "test acc:0.6407766990291263\n",
      "PREDS TYPE:<class 'list'>\n",
      "\n"
     ]
    },
    {
     "name": "stderr",
     "output_type": "stream",
     "text": [
      "100%|██████████| 522/522 [09:04<00:00,  1.04s/it, Epoch=50, LR=1.22e-6, Train_Loss=0.00797]\n",
      "100%|██████████| 58/58 [00:10<00:00,  5.40it/s, Epoch=50, LR=1.22e-6, Valid_Loss=0.525]\n"
     ]
    },
    {
     "name": "stdout",
     "output_type": "stream",
     "text": [
      "max:12.039673\n",
      "mean:5.246317\n",
      "min:0.8232039\n",
      "acc:0.6185344827586207\n",
      "mse:0.6034483\n",
      "max:12.1929931640625\n",
      "mean:5.013862800135196\n",
      "min:0.623220682144165\n",
      "test mse:0.3924828571935977\n",
      "test acc:0.6640776699029126\n",
      "PREDS TYPE:<class 'list'>\n",
      "\n"
     ]
    },
    {
     "name": "stderr",
     "output_type": "stream",
     "text": [
      "100%|██████████| 522/522 [09:04<00:00,  1.04s/it, Epoch=51, LR=1e-6, Train_Loss=0.008]  \n",
      "100%|██████████| 58/58 [00:10<00:00,  5.40it/s, Epoch=51, LR=1e-6, Valid_Loss=0.505]\n"
     ]
    },
    {
     "name": "stdout",
     "output_type": "stream",
     "text": [
      "max:12.16527\n",
      "mean:5.2715516\n",
      "min:0.8249734\n",
      "acc:0.6400862068965517\n",
      "mse:0.5646552\n",
      "max:12.169626235961914\n",
      "mean:5.033007097591474\n",
      "min:0.6815328001976013\n",
      "test mse:0.3827623978040983\n",
      "test acc:0.6621359223300971\n",
      "PREDS TYPE:<class 'list'>\n",
      "\n"
     ]
    },
    {
     "name": "stderr",
     "output_type": "stream",
     "text": [
      "100%|██████████| 522/522 [09:04<00:00,  1.04s/it, Epoch=52, LR=1.22e-6, Train_Loss=0.00795]\n",
      "100%|██████████| 58/58 [00:10<00:00,  5.37it/s, Epoch=52, LR=1.22e-6, Valid_Loss=0.579]\n"
     ]
    },
    {
     "name": "stdout",
     "output_type": "stream",
     "text": [
      "max:12.325457\n",
      "mean:5.334457\n",
      "min:0.75228465\n",
      "acc:0.6508620689655172\n",
      "mse:0.6573276\n",
      "max:12.349211692810059\n",
      "mean:5.079416320509123\n",
      "min:0.7849023342132568\n",
      "test mse:0.49737100524018\n",
      "test acc:0.658252427184466\n",
      "PREDS TYPE:<class 'list'>\n",
      "\n"
     ]
    },
    {
     "name": "stderr",
     "output_type": "stream",
     "text": [
      "100%|██████████| 522/522 [09:03<00:00,  1.04s/it, Epoch=53, LR=1.86e-6, Train_Loss=0.00798]\n",
      "100%|██████████| 58/58 [00:10<00:00,  5.34it/s, Epoch=53, LR=1.86e-6, Valid_Loss=0.548]\n"
     ]
    },
    {
     "name": "stdout",
     "output_type": "stream",
     "text": [
      "max:12.18849\n",
      "mean:5.298039\n",
      "min:0.73045176\n",
      "acc:0.6422413793103449\n",
      "mse:0.5969828\n",
      "max:12.260740280151367\n",
      "mean:5.047535256043221\n",
      "min:0.7401249408721924\n",
      "test mse:0.48498700942213163\n",
      "test acc:0.6737864077669903\n",
      "PREDS TYPE:<class 'list'>\n",
      "\n"
     ]
    },
    {
     "name": "stderr",
     "output_type": "stream",
     "text": [
      "100%|██████████| 522/522 [09:04<00:00,  1.04s/it, Epoch=54, LR=2.85e-6, Train_Loss=0.00802]\n",
      "100%|██████████| 58/58 [00:10<00:00,  5.38it/s, Epoch=54, LR=2.85e-6, Valid_Loss=0.536]\n"
     ]
    },
    {
     "name": "stdout",
     "output_type": "stream",
     "text": [
      "max:12.543477\n",
      "mean:5.334249\n",
      "min:0.8988647\n",
      "acc:0.6379310344827587\n",
      "mse:0.60775864\n",
      "max:12.489432334899902\n",
      "mean:5.075675121673102\n",
      "min:0.8108726739883423\n",
      "test mse:0.4800490836900211\n",
      "test acc:0.6737864077669903\n",
      "PREDS TYPE:<class 'list'>\n",
      "\n"
     ]
    },
    {
     "name": "stderr",
     "output_type": "stream",
     "text": [
      "100%|██████████| 522/522 [09:02<00:00,  1.04s/it, Epoch=55, LR=4.11e-6, Train_Loss=0.00864]\n",
      "100%|██████████| 58/58 [00:10<00:00,  5.39it/s, Epoch=55, LR=4.11e-6, Valid_Loss=0.511]\n"
     ]
    },
    {
     "name": "stdout",
     "output_type": "stream",
     "text": [
      "max:12.163724\n",
      "mean:5.297954\n",
      "min:0.89642346\n",
      "acc:0.646551724137931\n",
      "mse:0.5840517\n",
      "max:12.299798011779785\n",
      "mean:5.053898590166592\n",
      "min:0.8016839623451233\n",
      "test mse:0.42436979231360833\n",
      "test acc:0.6601941747572816\n",
      "PREDS TYPE:<class 'list'>\n",
      "\n"
     ]
    },
    {
     "name": "stderr",
     "output_type": "stream",
     "text": [
      "100%|██████████| 522/522 [09:03<00:00,  1.04s/it, Epoch=56, LR=5.5e-6, Train_Loss=0.0094] \n",
      "100%|██████████| 58/58 [00:10<00:00,  5.34it/s, Epoch=56, LR=5.5e-6, Valid_Loss=0.641]\n"
     ]
    },
    {
     "name": "stdout",
     "output_type": "stream",
     "text": [
      "max:11.8005\n",
      "mean:5.105657\n",
      "min:0.6013616\n",
      "acc:0.5689655172413793\n",
      "mse:0.70689654\n",
      "max:12.015277862548828\n",
      "mean:4.865918953210405\n",
      "min:0.6387331485748291\n",
      "test mse:0.5649969493429119\n",
      "test acc:0.6368932038834951\n",
      "PREDS TYPE:<class 'list'>\n",
      "\n"
     ]
    },
    {
     "name": "stderr",
     "output_type": "stream",
     "text": [
      "100%|██████████| 522/522 [09:04<00:00,  1.04s/it, Epoch=57, LR=6.89e-6, Train_Loss=0.00948]\n",
      "100%|██████████| 58/58 [00:10<00:00,  5.33it/s, Epoch=57, LR=6.89e-6, Valid_Loss=0.519]\n"
     ]
    },
    {
     "name": "stdout",
     "output_type": "stream",
     "text": [
      "max:11.976511\n",
      "mean:5.3404427\n",
      "min:0.76644593\n",
      "acc:0.6185344827586207\n",
      "mse:0.625\n",
      "max:12.046429634094238\n",
      "mean:5.084871801705036\n",
      "min:0.7023352980613708\n",
      "test mse:0.46636703507923527\n",
      "test acc:0.6718446601941748\n",
      "PREDS TYPE:<class 'list'>\n",
      "\n"
     ]
    },
    {
     "name": "stderr",
     "output_type": "stream",
     "text": [
      "100%|██████████| 522/522 [09:04<00:00,  1.04s/it, Epoch=58, LR=8.15e-6, Train_Loss=0.0103] \n",
      "100%|██████████| 58/58 [00:10<00:00,  5.39it/s, Epoch=58, LR=8.15e-6, Valid_Loss=0.579]\n"
     ]
    },
    {
     "name": "stdout",
     "output_type": "stream",
     "text": [
      "max:12.070963\n",
      "mean:5.149\n",
      "min:0.9166682\n",
      "acc:0.5905172413793104\n",
      "mse:0.6530172\n",
      "max:11.902825355529785\n",
      "mean:4.893526345086329\n",
      "min:0.686618447303772\n",
      "test mse:0.4988784896956507\n",
      "test acc:0.6135922330097088\n",
      "PREDS TYPE:<class 'list'>\n",
      "\n"
     ]
    },
    {
     "name": "stderr",
     "output_type": "stream",
     "text": [
      "100%|██████████| 522/522 [09:03<00:00,  1.04s/it, Epoch=59, LR=9.14e-6, Train_Loss=0.0109]\n",
      "100%|██████████| 58/58 [00:10<00:00,  5.39it/s, Epoch=59, LR=9.14e-6, Valid_Loss=0.486]\n"
     ]
    },
    {
     "name": "stdout",
     "output_type": "stream",
     "text": [
      "max:12.103564\n",
      "mean:5.3931613\n",
      "min:1.0477704\n",
      "acc:0.6573275862068966\n",
      "mse:0.5862069\n",
      "max:12.183110237121582\n",
      "mean:5.147172234590771\n",
      "min:0.8520796298980713\n",
      "test mse:0.4541489635159475\n",
      "test acc:0.6660194174757281\n",
      "PREDS TYPE:<class 'list'>\n",
      "\n"
     ]
    },
    {
     "name": "stderr",
     "output_type": "stream",
     "text": [
      "100%|██████████| 522/522 [09:04<00:00,  1.04s/it, Epoch=60, LR=9.78e-6, Train_Loss=0.0105] \n",
      "100%|██████████| 58/58 [00:10<00:00,  5.39it/s, Epoch=60, LR=9.78e-6, Valid_Loss=0.498]\n"
     ]
    },
    {
     "name": "stdout",
     "output_type": "stream",
     "text": [
      "max:12.140675\n",
      "mean:5.3739963\n",
      "min:0.8355335\n",
      "acc:0.6831896551724138\n",
      "mse:0.5409483\n",
      "max:11.729094505310059\n",
      "mean:5.122329339934784\n",
      "min:0.8063450455665588\n",
      "test mse:0.4393981071258626\n",
      "test acc:0.6912621359223301\n",
      "PREDS TYPE:<class 'list'>\n",
      "\u001b[34mValidation AUC Improved (0.5625 ---> 0.5409482717514038)\n",
      "Model Saved\n",
      "\n"
     ]
    },
    {
     "name": "stderr",
     "output_type": "stream",
     "text": [
      "100%|██████████| 522/522 [09:03<00:00,  1.04s/it, Epoch=61, LR=1e-5, Train_Loss=0.0101] \n",
      "100%|██████████| 58/58 [00:10<00:00,  5.38it/s, Epoch=61, LR=1e-5, Valid_Loss=0.486]\n"
     ]
    },
    {
     "name": "stdout",
     "output_type": "stream",
     "text": [
      "max:12.135213\n",
      "mean:5.3063464\n",
      "min:0.71856904\n",
      "acc:0.6702586206896551\n",
      "mse:0.5215517\n",
      "max:11.873208999633789\n",
      "mean:5.051047995831203\n",
      "min:0.7265917062759399\n",
      "test mse:0.41250409984003555\n",
      "test acc:0.6757281553398058\n",
      "PREDS TYPE:<class 'list'>\n",
      "\u001b[34mValidation AUC Improved (0.5409482717514038 ---> 0.5215517282485962)\n",
      "Model Saved\n",
      "\n"
     ]
    },
    {
     "name": "stderr",
     "output_type": "stream",
     "text": [
      "100%|██████████| 522/522 [09:03<00:00,  1.04s/it, Epoch=62, LR=9.78e-6, Train_Loss=0.00916]\n",
      "100%|██████████| 58/58 [00:10<00:00,  5.28it/s, Epoch=62, LR=9.78e-6, Valid_Loss=0.498]\n"
     ]
    },
    {
     "name": "stdout",
     "output_type": "stream",
     "text": [
      "max:12.302184\n",
      "mean:5.274986\n",
      "min:0.90862316\n",
      "acc:0.6228448275862069\n",
      "mse:0.57327586\n",
      "max:11.57192611694336\n",
      "mean:5.027288193031422\n",
      "min:0.7917044162750244\n",
      "test mse:0.4321112630003901\n",
      "test acc:0.629126213592233\n",
      "PREDS TYPE:<class 'list'>\n",
      "\n"
     ]
    },
    {
     "name": "stderr",
     "output_type": "stream",
     "text": [
      "100%|██████████| 522/522 [09:04<00:00,  1.04s/it, Epoch=63, LR=9.14e-6, Train_Loss=0.00959]\n",
      "100%|██████████| 58/58 [00:10<00:00,  5.39it/s, Epoch=63, LR=9.14e-6, Valid_Loss=0.484]\n"
     ]
    },
    {
     "name": "stdout",
     "output_type": "stream",
     "text": [
      "max:12.0344305\n",
      "mean:5.4789433\n",
      "min:0.87155855\n",
      "acc:0.6702586206896551\n",
      "mse:0.57327586\n",
      "max:11.694894790649414\n",
      "mean:5.237977199299822\n",
      "min:0.8620774149894714\n",
      "test mse:0.4094809217539351\n",
      "test acc:0.6796116504854369\n",
      "PREDS TYPE:<class 'list'>\n",
      "\n"
     ]
    },
    {
     "name": "stderr",
     "output_type": "stream",
     "text": [
      "100%|██████████| 522/522 [09:04<00:00,  1.04s/it, Epoch=64, LR=8.15e-6, Train_Loss=0.00919]\n",
      "100%|██████████| 58/58 [00:10<00:00,  5.36it/s, Epoch=64, LR=8.15e-6, Valid_Loss=0.486]\n"
     ]
    },
    {
     "name": "stdout",
     "output_type": "stream",
     "text": [
      "max:12.061065\n",
      "mean:5.342695\n",
      "min:0.9302596\n",
      "acc:0.6616379310344828\n",
      "mse:0.55172414\n",
      "max:11.777460098266602\n",
      "mean:5.109495094794672\n",
      "min:0.8729056119918823\n",
      "test mse:0.4020691378507982\n",
      "test acc:0.6854368932038835\n",
      "PREDS TYPE:<class 'list'>\n",
      "\n"
     ]
    },
    {
     "name": "stderr",
     "output_type": "stream",
     "text": [
      "100%|██████████| 522/522 [09:04<00:00,  1.04s/it, Epoch=65, LR=6.89e-6, Train_Loss=0.0093] \n",
      "100%|██████████| 58/58 [00:10<00:00,  5.38it/s, Epoch=65, LR=6.89e-6, Valid_Loss=0.479]\n"
     ]
    },
    {
     "name": "stdout",
     "output_type": "stream",
     "text": [
      "max:12.321377\n",
      "mean:5.2548776\n",
      "min:0.84954315\n",
      "acc:0.6637931034482759\n",
      "mse:0.5280172\n",
      "max:12.376893043518066\n",
      "mean:5.002819369603129\n",
      "min:0.7504616379737854\n",
      "test mse:0.3943914563845216\n",
      "test acc:0.6621359223300971\n",
      "PREDS TYPE:<class 'list'>\n",
      "\n"
     ]
    },
    {
     "name": "stderr",
     "output_type": "stream",
     "text": [
      "100%|██████████| 522/522 [09:03<00:00,  1.04s/it, Epoch=66, LR=5.5e-6, Train_Loss=0.00761]\n",
      "100%|██████████| 58/58 [00:10<00:00,  5.38it/s, Epoch=66, LR=5.5e-6, Valid_Loss=0.455]\n"
     ]
    },
    {
     "name": "stdout",
     "output_type": "stream",
     "text": [
      "max:12.4942465\n",
      "mean:5.4097533\n",
      "min:0.7782841\n",
      "acc:0.6853448275862069\n",
      "mse:0.51293105\n",
      "max:12.586809158325195\n",
      "mean:5.148471216437886\n",
      "min:0.7106111645698547\n",
      "test mse:0.38072327051106375\n",
      "test acc:0.7087378640776699\n",
      "PREDS TYPE:<class 'list'>\n",
      "\u001b[34mValidation AUC Improved (0.5215517282485962 ---> 0.5129310488700867)\n",
      "Model Saved\n",
      "\n"
     ]
    },
    {
     "name": "stderr",
     "output_type": "stream",
     "text": [
      "100%|██████████| 522/522 [09:04<00:00,  1.04s/it, Epoch=67, LR=4.11e-6, Train_Loss=0.00655]\n",
      "100%|██████████| 58/58 [00:10<00:00,  5.29it/s, Epoch=67, LR=4.11e-6, Valid_Loss=0.483]\n"
     ]
    },
    {
     "name": "stdout",
     "output_type": "stream",
     "text": [
      "max:11.9162655\n",
      "mean:5.2844596\n",
      "min:0.8778627\n",
      "acc:0.6616379310344828\n",
      "mse:0.55172414\n",
      "max:11.948575973510742\n",
      "mean:5.0326344786338435\n",
      "min:0.7712448835372925\n",
      "test mse:0.4230282002711428\n",
      "test acc:0.6893203883495146\n",
      "PREDS TYPE:<class 'list'>\n",
      "\n"
     ]
    },
    {
     "name": "stderr",
     "output_type": "stream",
     "text": [
      "100%|██████████| 522/522 [09:03<00:00,  1.04s/it, Epoch=68, LR=2.85e-6, Train_Loss=0.00649]\n",
      "100%|██████████| 58/58 [00:10<00:00,  5.41it/s, Epoch=68, LR=2.85e-6, Valid_Loss=0.473]\n"
     ]
    },
    {
     "name": "stdout",
     "output_type": "stream",
     "text": [
      "max:11.981642\n",
      "mean:5.303328\n",
      "min:0.8764893\n",
      "acc:0.6681034482758621\n",
      "mse:0.54525864\n",
      "max:11.961118698120117\n",
      "mean:5.058973594313686\n",
      "min:0.758133590221405\n",
      "test mse:0.40796719264869435\n",
      "test acc:0.6893203883495146\n",
      "PREDS TYPE:<class 'list'>\n",
      "\n"
     ]
    },
    {
     "name": "stderr",
     "output_type": "stream",
     "text": [
      "100%|██████████| 522/522 [09:03<00:00,  1.04s/it, Epoch=69, LR=1.86e-6, Train_Loss=0.00553]\n",
      "100%|██████████| 58/58 [00:10<00:00,  5.40it/s, Epoch=69, LR=1.86e-6, Valid_Loss=0.445]\n"
     ]
    },
    {
     "name": "stdout",
     "output_type": "stream",
     "text": [
      "max:12.19726\n",
      "mean:5.370241\n",
      "min:0.9225869\n",
      "acc:0.6853448275862069\n",
      "mse:0.5\n",
      "max:12.245821952819824\n",
      "mean:5.124863797252618\n",
      "min:0.779972493648529\n",
      "test mse:0.35382775876995254\n",
      "test acc:0.6951456310679611\n",
      "PREDS TYPE:<class 'list'>\n",
      "\u001b[34mValidation AUC Improved (0.5129310488700867 ---> 0.5)\n",
      "Model Saved\n",
      "\n"
     ]
    },
    {
     "name": "stderr",
     "output_type": "stream",
     "text": [
      "100%|██████████| 522/522 [09:04<00:00,  1.04s/it, Epoch=70, LR=1.22e-6, Train_Loss=0.00514]\n",
      "100%|██████████| 58/58 [00:10<00:00,  5.37it/s, Epoch=70, LR=1.22e-6, Valid_Loss=0.459]\n"
     ]
    },
    {
     "name": "stdout",
     "output_type": "stream",
     "text": [
      "max:12.125656\n",
      "mean:5.3345094\n",
      "min:0.85081077\n",
      "acc:0.6831896551724138\n",
      "mse:0.5086207\n",
      "max:12.07105541229248\n",
      "mean:5.086927989732872\n",
      "min:0.7065542340278625\n",
      "test mse:0.3770504249205902\n",
      "test acc:0.6893203883495146\n",
      "PREDS TYPE:<class 'list'>\n",
      "\n"
     ]
    },
    {
     "name": "stderr",
     "output_type": "stream",
     "text": [
      "100%|██████████| 522/522 [09:04<00:00,  1.04s/it, Epoch=71, LR=1e-6, Train_Loss=0.00529]\n",
      "100%|██████████| 58/58 [00:11<00:00,  5.26it/s, Epoch=71, LR=1e-6, Valid_Loss=0.454]\n"
     ]
    },
    {
     "name": "stdout",
     "output_type": "stream",
     "text": [
      "max:12.128255\n",
      "mean:5.338375\n",
      "min:0.9178609\n",
      "acc:0.6702586206896551\n",
      "mse:0.5280172\n",
      "max:12.202248573303223\n",
      "mean:5.090030304899494\n",
      "min:0.8007396459579468\n",
      "test mse:0.36672455766014167\n",
      "test acc:0.6854368932038835\n",
      "PREDS TYPE:<class 'list'>\n",
      "\n"
     ]
    },
    {
     "name": "stderr",
     "output_type": "stream",
     "text": [
      "100%|██████████| 522/522 [09:03<00:00,  1.04s/it, Epoch=72, LR=1.22e-6, Train_Loss=0.0053] \n",
      "100%|██████████| 58/58 [00:10<00:00,  5.34it/s, Epoch=72, LR=1.22e-6, Valid_Loss=0.457]\n"
     ]
    },
    {
     "name": "stdout",
     "output_type": "stream",
     "text": [
      "max:12.268907\n",
      "mean:5.327961\n",
      "min:0.8646258\n",
      "acc:0.6745689655172413\n",
      "mse:0.5237069\n",
      "max:12.290687561035156\n",
      "mean:5.082496752669511\n",
      "min:0.7482869029045105\n",
      "test mse:0.36930767981335183\n",
      "test acc:0.6796116504854369\n",
      "PREDS TYPE:<class 'list'>\n",
      "\n"
     ]
    },
    {
     "name": "stderr",
     "output_type": "stream",
     "text": [
      "100%|██████████| 522/522 [09:05<00:00,  1.04s/it, Epoch=73, LR=1.86e-6, Train_Loss=0.00522]\n",
      "100%|██████████| 58/58 [00:10<00:00,  5.32it/s, Epoch=73, LR=1.86e-6, Valid_Loss=0.466]\n"
     ]
    },
    {
     "name": "stdout",
     "output_type": "stream",
     "text": [
      "max:12.159219\n",
      "mean:5.3047986\n",
      "min:0.88771915\n",
      "acc:0.6616379310344828\n",
      "mse:0.55172414\n",
      "max:12.12724494934082\n",
      "mean:5.060178570492754\n",
      "min:0.782819390296936\n",
      "test mse:0.39630078206631186\n",
      "test acc:0.6796116504854369\n",
      "PREDS TYPE:<class 'list'>\n",
      "\n"
     ]
    },
    {
     "name": "stderr",
     "output_type": "stream",
     "text": [
      "100%|██████████| 522/522 [09:03<00:00,  1.04s/it, Epoch=74, LR=2.85e-6, Train_Loss=0.0054] \n",
      "100%|██████████| 58/58 [00:11<00:00,  5.22it/s, Epoch=74, LR=2.85e-6, Valid_Loss=0.461]\n"
     ]
    },
    {
     "name": "stdout",
     "output_type": "stream",
     "text": [
      "max:12.227467\n",
      "mean:5.335728\n",
      "min:0.87986326\n",
      "acc:0.6681034482758621\n",
      "mse:0.5387931\n",
      "max:12.385061264038086\n",
      "mean:5.086331638664875\n",
      "min:0.8011013269424438\n",
      "test mse:0.3844321570745528\n",
      "test acc:0.6873786407766991\n",
      "PREDS TYPE:<class 'list'>\n",
      "\n"
     ]
    },
    {
     "name": "stderr",
     "output_type": "stream",
     "text": [
      "100%|██████████| 522/522 [09:04<00:00,  1.04s/it, Epoch=75, LR=4.11e-6, Train_Loss=0.0058] \n",
      "100%|██████████| 58/58 [00:10<00:00,  5.41it/s, Epoch=75, LR=4.11e-6, Valid_Loss=0.479]\n"
     ]
    },
    {
     "name": "stdout",
     "output_type": "stream",
     "text": [
      "max:12.113904\n",
      "mean:5.317661\n",
      "min:0.87533325\n",
      "acc:0.6724137931034483\n",
      "mse:0.5344828\n",
      "max:12.27181625366211\n",
      "mean:5.069838233017227\n",
      "min:0.7690887451171875\n",
      "test mse:0.4276631660603784\n",
      "test acc:0.6699029126213593\n",
      "PREDS TYPE:<class 'list'>\n",
      "\n"
     ]
    },
    {
     "name": "stderr",
     "output_type": "stream",
     "text": [
      "100%|██████████| 522/522 [09:03<00:00,  1.04s/it, Epoch=76, LR=5.5e-6, Train_Loss=0.006]  \n",
      "100%|██████████| 58/58 [00:10<00:00,  5.39it/s, Epoch=76, LR=5.5e-6, Valid_Loss=0.477]\n"
     ]
    },
    {
     "name": "stdout",
     "output_type": "stream",
     "text": [
      "max:11.847669\n",
      "mean:5.27716\n",
      "min:0.8386419\n",
      "acc:0.6336206896551724\n",
      "mse:0.55818963\n",
      "max:12.102049827575684\n",
      "mean:5.038378659729819\n",
      "min:0.7516199350357056\n",
      "test mse:0.3873358978741979\n",
      "test acc:0.6776699029126214\n",
      "PREDS TYPE:<class 'list'>\n",
      "\n"
     ]
    },
    {
     "name": "stderr",
     "output_type": "stream",
     "text": [
      "100%|██████████| 522/522 [09:03<00:00,  1.04s/it, Epoch=77, LR=6.89e-6, Train_Loss=0.00658]\n",
      "100%|██████████| 58/58 [00:10<00:00,  5.40it/s, Epoch=77, LR=6.89e-6, Valid_Loss=0.5]  \n"
     ]
    },
    {
     "name": "stdout",
     "output_type": "stream",
     "text": [
      "max:11.772642\n",
      "mean:5.2692037\n",
      "min:0.65596646\n",
      "acc:0.646551724137931\n",
      "mse:0.5711207\n",
      "max:11.860651016235352\n",
      "mean:5.0199396136894965\n",
      "min:0.5351275205612183\n",
      "test mse:0.4223066170637183\n",
      "test acc:0.6912621359223301\n",
      "PREDS TYPE:<class 'list'>\n",
      "\n"
     ]
    },
    {
     "name": "stderr",
     "output_type": "stream",
     "text": [
      "100%|██████████| 522/522 [09:03<00:00,  1.04s/it, Epoch=78, LR=8.15e-6, Train_Loss=0.00701]\n",
      "100%|██████████| 58/58 [00:10<00:00,  5.41it/s, Epoch=78, LR=8.15e-6, Valid_Loss=0.531]\n"
     ]
    },
    {
     "name": "stdout",
     "output_type": "stream",
     "text": [
      "max:11.698833\n",
      "mean:5.283202\n",
      "min:0.7590599\n",
      "acc:0.6379310344827587\n",
      "mse:0.57543105\n",
      "max:11.910100936889648\n",
      "mean:5.029592455127864\n",
      "min:0.7410232424736023\n",
      "test mse:0.46467032720581614\n",
      "test acc:0.6854368932038835\n",
      "PREDS TYPE:<class 'list'>\n",
      "\n"
     ]
    },
    {
     "name": "stderr",
     "output_type": "stream",
     "text": [
      "100%|██████████| 522/522 [09:03<00:00,  1.04s/it, Epoch=79, LR=9.14e-6, Train_Loss=0.00728]\n",
      "100%|██████████| 58/58 [00:10<00:00,  5.40it/s, Epoch=79, LR=9.14e-6, Valid_Loss=0.49] \n"
     ]
    },
    {
     "name": "stdout",
     "output_type": "stream",
     "text": [
      "max:11.90246\n",
      "mean:5.2692866\n",
      "min:0.68810475\n",
      "acc:0.646551724137931\n",
      "mse:0.55172414\n",
      "max:11.825691223144531\n",
      "mean:5.010847187042236\n",
      "min:0.5821214318275452\n",
      "test mse:0.4323519766180037\n",
      "test acc:0.6601941747572816\n",
      "PREDS TYPE:<class 'list'>\n",
      "\n"
     ]
    },
    {
     "name": "stderr",
     "output_type": "stream",
     "text": [
      "100%|██████████| 522/522 [09:04<00:00,  1.04s/it, Epoch=80, LR=9.78e-6, Train_Loss=0.00796]\n",
      "100%|██████████| 58/58 [00:10<00:00,  5.34it/s, Epoch=80, LR=9.78e-6, Valid_Loss=0.488]\n"
     ]
    },
    {
     "name": "stdout",
     "output_type": "stream",
     "text": [
      "max:12.279379\n",
      "mean:5.4082127\n",
      "min:0.84796417\n",
      "acc:0.6745689655172413\n",
      "mse:0.5258621\n",
      "max:12.525993347167969\n",
      "mean:5.146757271683332\n",
      "min:0.780944287776947\n",
      "test mse:0.4205875028258252\n",
      "test acc:0.6912621359223301\n",
      "PREDS TYPE:<class 'list'>\n",
      "\n"
     ]
    },
    {
     "name": "stderr",
     "output_type": "stream",
     "text": [
      "100%|██████████| 522/522 [09:03<00:00,  1.04s/it, Epoch=81, LR=1e-5, Train_Loss=0.00744]\n",
      "100%|██████████| 58/58 [00:10<00:00,  5.35it/s, Epoch=81, LR=1e-5, Valid_Loss=0.509]\n"
     ]
    },
    {
     "name": "stdout",
     "output_type": "stream",
     "text": [
      "max:11.83524\n",
      "mean:5.218414\n",
      "min:0.8161634\n",
      "acc:0.6293103448275862\n",
      "mse:0.57758623\n",
      "max:12.014888763427734\n",
      "mean:4.986128542376953\n",
      "min:0.8012810349464417\n",
      "test mse:0.41933523303849274\n",
      "test acc:0.6601941747572816\n",
      "PREDS TYPE:<class 'list'>\n",
      "\n"
     ]
    },
    {
     "name": "stderr",
     "output_type": "stream",
     "text": [
      "100%|██████████| 522/522 [09:03<00:00,  1.04s/it, Epoch=82, LR=9.78e-6, Train_Loss=0.00758]\n",
      "100%|██████████| 58/58 [00:10<00:00,  5.40it/s, Epoch=82, LR=9.78e-6, Valid_Loss=0.472]\n"
     ]
    },
    {
     "name": "stdout",
     "output_type": "stream",
     "text": [
      "max:11.996199\n",
      "mean:5.369949\n",
      "min:0.86019385\n",
      "acc:0.6767241379310345\n",
      "mse:0.5301724\n",
      "max:11.934677124023438\n",
      "mean:5.135220291313616\n",
      "min:0.8681551218032837\n",
      "test mse:0.3535298626396963\n",
      "test acc:0.7126213592233009\n",
      "PREDS TYPE:<class 'list'>\n",
      "\n"
     ]
    },
    {
     "name": "stderr",
     "output_type": "stream",
     "text": [
      "100%|██████████| 522/522 [09:04<00:00,  1.04s/it, Epoch=83, LR=9.14e-6, Train_Loss=0.00736]\n",
      "100%|██████████| 58/58 [00:10<00:00,  5.36it/s, Epoch=83, LR=9.14e-6, Valid_Loss=0.496]\n"
     ]
    },
    {
     "name": "stdout",
     "output_type": "stream",
     "text": [
      "max:12.091815\n",
      "mean:5.2231145\n",
      "min:0.81186265\n",
      "acc:0.6400862068965517\n",
      "mse:0.54525864\n",
      "max:12.225162506103516\n",
      "mean:4.9797715875708946\n",
      "min:0.7220614552497864\n",
      "test mse:0.4249677801253503\n",
      "test acc:0.6757281553398058\n",
      "PREDS TYPE:<class 'list'>\n",
      "\n"
     ]
    },
    {
     "name": "stderr",
     "output_type": "stream",
     "text": [
      "100%|██████████| 522/522 [09:03<00:00,  1.04s/it, Epoch=84, LR=8.15e-6, Train_Loss=0.00722]\n",
      "100%|██████████| 58/58 [00:10<00:00,  5.38it/s, Epoch=84, LR=8.15e-6, Valid_Loss=0.465]\n"
     ]
    },
    {
     "name": "stdout",
     "output_type": "stream",
     "text": [
      "max:12.136267\n",
      "mean:5.354909\n",
      "min:0.7792887\n",
      "acc:0.6724137931034483\n",
      "mse:0.54525864\n",
      "max:12.481051445007324\n",
      "mean:5.1230292672092475\n",
      "min:0.6823213696479797\n",
      "test mse:0.4242685603073396\n",
      "test acc:0.6776699029126214\n",
      "PREDS TYPE:<class 'list'>\n",
      "\n"
     ]
    },
    {
     "name": "stderr",
     "output_type": "stream",
     "text": [
      "100%|██████████| 522/522 [09:03<00:00,  1.04s/it, Epoch=85, LR=6.89e-6, Train_Loss=0.00615]\n",
      "100%|██████████| 58/58 [00:10<00:00,  5.28it/s, Epoch=85, LR=6.89e-6, Valid_Loss=0.449]\n"
     ]
    },
    {
     "name": "stdout",
     "output_type": "stream",
     "text": [
      "max:12.638556\n",
      "mean:5.439951\n",
      "min:0.83425474\n",
      "acc:0.6831896551724138\n",
      "mse:0.5021552\n",
      "max:12.837166786193848\n",
      "mean:5.208608395382039\n",
      "min:0.8007835149765015\n",
      "test mse:0.40322586218855105\n",
      "test acc:0.7029126213592233\n",
      "PREDS TYPE:<class 'list'>\n",
      "\n"
     ]
    },
    {
     "name": "stderr",
     "output_type": "stream",
     "text": [
      "100%|██████████| 522/522 [09:03<00:00,  1.04s/it, Epoch=86, LR=5.5e-6, Train_Loss=0.00561]\n",
      "100%|██████████| 58/58 [00:10<00:00,  5.35it/s, Epoch=86, LR=5.5e-6, Valid_Loss=0.487]\n"
     ]
    },
    {
     "name": "stdout",
     "output_type": "stream",
     "text": [
      "max:12.2180395\n",
      "mean:5.35079\n",
      "min:0.77819294\n",
      "acc:0.6788793103448276\n",
      "mse:0.5538793\n",
      "max:12.437970161437988\n",
      "mean:5.108016992309718\n",
      "min:0.8499922156333923\n",
      "test mse:0.4300307541807708\n",
      "test acc:0.6893203883495146\n",
      "PREDS TYPE:<class 'list'>\n",
      "\n"
     ]
    },
    {
     "name": "stderr",
     "output_type": "stream",
     "text": [
      "100%|██████████| 522/522 [09:03<00:00,  1.04s/it, Epoch=87, LR=4.11e-6, Train_Loss=0.00484]\n",
      "100%|██████████| 58/58 [00:10<00:00,  5.33it/s, Epoch=87, LR=4.11e-6, Valid_Loss=0.46] \n"
     ]
    },
    {
     "name": "stdout",
     "output_type": "stream",
     "text": [
      "max:12.20248\n",
      "mean:5.3597465\n",
      "min:0.77758896\n",
      "acc:0.6702586206896551\n",
      "mse:0.5280172\n",
      "max:12.354399681091309\n",
      "mean:5.12488175769454\n",
      "min:0.8346304297447205\n",
      "test mse:0.367414739811489\n",
      "test acc:0.7009708737864078\n",
      "PREDS TYPE:<class 'list'>\n",
      "\n"
     ]
    },
    {
     "name": "stderr",
     "output_type": "stream",
     "text": [
      "100%|██████████| 522/522 [09:03<00:00,  1.04s/it, Epoch=88, LR=2.85e-6, Train_Loss=0.00446]\n",
      "100%|██████████| 58/58 [00:10<00:00,  5.38it/s, Epoch=88, LR=2.85e-6, Valid_Loss=0.459]\n"
     ]
    },
    {
     "name": "stdout",
     "output_type": "stream",
     "text": [
      "max:12.478959\n",
      "mean:5.39376\n",
      "min:0.85734695\n",
      "acc:0.6918103448275862\n",
      "mse:0.51508623\n",
      "max:12.608231544494629\n",
      "mean:5.152336252545847\n",
      "min:0.8374620676040649\n",
      "test mse:0.3839296864060127\n",
      "test acc:0.6970873786407767\n",
      "PREDS TYPE:<class 'list'>\n",
      "\n"
     ]
    },
    {
     "name": "stderr",
     "output_type": "stream",
     "text": [
      "100%|██████████| 522/522 [09:04<00:00,  1.04s/it, Epoch=89, LR=1.86e-6, Train_Loss=0.00427]\n",
      "100%|██████████| 58/58 [00:10<00:00,  5.37it/s, Epoch=89, LR=1.86e-6, Valid_Loss=0.469]\n"
     ]
    },
    {
     "name": "stdout",
     "output_type": "stream",
     "text": [
      "max:12.288538\n",
      "mean:5.347739\n",
      "min:0.7677149\n",
      "acc:0.6810344827586207\n",
      "mse:0.5323276\n",
      "max:12.495087623596191\n",
      "mean:5.103577415572786\n",
      "min:0.7947229146957397\n",
      "test mse:0.41692868406800876\n",
      "test acc:0.6970873786407767\n",
      "PREDS TYPE:<class 'list'>\n",
      "\n"
     ]
    },
    {
     "name": "stderr",
     "output_type": "stream",
     "text": [
      "100%|██████████| 522/522 [09:04<00:00,  1.04s/it, Epoch=90, LR=1.22e-6, Train_Loss=0.00385]\n",
      "100%|██████████| 58/58 [00:10<00:00,  5.39it/s, Epoch=90, LR=1.22e-6, Valid_Loss=0.46] \n"
     ]
    },
    {
     "name": "stdout",
     "output_type": "stream",
     "text": [
      "max:12.332311\n",
      "mean:5.354889\n",
      "min:0.841002\n",
      "acc:0.6767241379310345\n",
      "mse:0.5301724\n",
      "max:12.474820137023926\n",
      "mean:5.116080402633519\n",
      "min:0.8280465006828308\n",
      "test mse:0.39739163323017906\n",
      "test acc:0.7067961165048544\n",
      "PREDS TYPE:<class 'list'>\n",
      "\n"
     ]
    },
    {
     "name": "stderr",
     "output_type": "stream",
     "text": [
      "100%|██████████| 522/522 [09:04<00:00,  1.04s/it, Epoch=91, LR=1e-6, Train_Loss=0.00375]\n",
      "100%|██████████| 58/58 [00:10<00:00,  5.40it/s, Epoch=91, LR=1e-6, Valid_Loss=0.478]\n"
     ]
    },
    {
     "name": "stdout",
     "output_type": "stream",
     "text": [
      "max:12.348096\n",
      "mean:5.360707\n",
      "min:0.7490797\n",
      "acc:0.6853448275862069\n",
      "mse:0.5280172\n",
      "max:12.387250900268555\n",
      "mean:5.11577266234796\n",
      "min:0.7992268204689026\n",
      "test mse:0.43787482973362746\n",
      "test acc:0.6932038834951456\n",
      "PREDS TYPE:<class 'list'>\n",
      "\n"
     ]
    },
    {
     "name": "stderr",
     "output_type": "stream",
     "text": [
      "100%|██████████| 522/522 [09:03<00:00,  1.04s/it, Epoch=92, LR=1.22e-6, Train_Loss=0.00398]\n",
      "100%|██████████| 58/58 [00:10<00:00,  5.32it/s, Epoch=92, LR=1.22e-6, Valid_Loss=0.478]\n"
     ]
    },
    {
     "name": "stdout",
     "output_type": "stream",
     "text": [
      "max:12.218779\n",
      "mean:5.2793016\n",
      "min:0.7566762\n",
      "acc:0.665948275862069\n",
      "mse:0.5344828\n",
      "max:12.262736320495605\n",
      "mean:5.0416662715013745\n",
      "min:0.7508171200752258\n",
      "test mse:0.41399569718959617\n",
      "test acc:0.6932038834951456\n",
      "PREDS TYPE:<class 'list'>\n",
      "\n"
     ]
    },
    {
     "name": "stderr",
     "output_type": "stream",
     "text": [
      "100%|██████████| 522/522 [09:03<00:00,  1.04s/it, Epoch=93, LR=1.86e-6, Train_Loss=0.00378]\n",
      "100%|██████████| 58/58 [00:10<00:00,  5.40it/s, Epoch=93, LR=1.86e-6, Valid_Loss=0.468]\n"
     ]
    },
    {
     "name": "stdout",
     "output_type": "stream",
     "text": [
      "max:12.298345\n",
      "mean:5.3325257\n",
      "min:0.76741934\n",
      "acc:0.6853448275862069\n",
      "mse:0.5215517\n",
      "max:12.295026779174805\n",
      "mean:5.084983909708782\n",
      "min:0.7802725434303284\n",
      "test mse:0.40818798952088187\n",
      "test acc:0.6912621359223301\n",
      "PREDS TYPE:<class 'list'>\n",
      "\n"
     ]
    },
    {
     "name": "stderr",
     "output_type": "stream",
     "text": [
      "100%|██████████| 522/522 [09:03<00:00,  1.04s/it, Epoch=94, LR=2.85e-6, Train_Loss=0.00396]\n",
      "100%|██████████| 58/58 [00:10<00:00,  5.32it/s, Epoch=94, LR=2.85e-6, Valid_Loss=0.439]\n"
     ]
    },
    {
     "name": "stdout",
     "output_type": "stream",
     "text": [
      "max:12.246803\n",
      "mean:5.3634286\n",
      "min:0.80191624\n",
      "acc:0.6853448275862069\n",
      "mse:0.5064655\n",
      "max:12.406743049621582\n",
      "mean:5.126430888430586\n",
      "min:0.7787510752677917\n",
      "test mse:0.35127004719576516\n",
      "test acc:0.6854368932038835\n",
      "PREDS TYPE:<class 'list'>\n",
      "\n"
     ]
    },
    {
     "name": "stderr",
     "output_type": "stream",
     "text": [
      "100%|██████████| 522/522 [09:04<00:00,  1.04s/it, Epoch=95, LR=4.11e-6, Train_Loss=0.0043] \n",
      "100%|██████████| 58/58 [00:10<00:00,  5.36it/s, Epoch=95, LR=4.11e-6, Valid_Loss=0.452]\n"
     ]
    },
    {
     "name": "stdout",
     "output_type": "stream",
     "text": [
      "max:12.350904\n",
      "mean:5.449752\n",
      "min:0.8673297\n",
      "acc:0.7004310344827587\n",
      "mse:0.49784482\n",
      "max:12.465350151062012\n",
      "mean:5.205474951545011\n",
      "min:0.7633821368217468\n",
      "test mse:0.38418504203008164\n",
      "test acc:0.7048543689320388\n",
      "PREDS TYPE:<class 'list'>\n",
      "\u001b[34mValidation AUC Improved (0.5 ---> 0.4978448152542114)\n",
      "Model Saved\n",
      "\n"
     ]
    },
    {
     "name": "stderr",
     "output_type": "stream",
     "text": [
      "100%|██████████| 522/522 [09:03<00:00,  1.04s/it, Epoch=96, LR=5.5e-6, Train_Loss=0.00432]\n",
      "100%|██████████| 58/58 [00:10<00:00,  5.37it/s, Epoch=96, LR=5.5e-6, Valid_Loss=0.462]\n"
     ]
    },
    {
     "name": "stdout",
     "output_type": "stream",
     "text": [
      "max:12.348252\n",
      "mean:5.3681684\n",
      "min:0.81742364\n",
      "acc:0.6918103448275862\n",
      "mse:0.5086207\n",
      "max:12.557373046875\n",
      "mean:5.123733965054299\n",
      "min:0.7348190546035767\n",
      "test mse:0.3965613510034232\n",
      "test acc:0.6951456310679611\n",
      "PREDS TYPE:<class 'list'>\n",
      "\n"
     ]
    },
    {
     "name": "stderr",
     "output_type": "stream",
     "text": [
      "100%|██████████| 522/522 [09:03<00:00,  1.04s/it, Epoch=97, LR=6.89e-6, Train_Loss=0.00464]\n",
      "100%|██████████| 58/58 [00:10<00:00,  5.39it/s, Epoch=97, LR=6.89e-6, Valid_Loss=0.466]\n"
     ]
    },
    {
     "name": "stdout",
     "output_type": "stream",
     "text": [
      "max:12.112937\n",
      "mean:5.385661\n",
      "min:0.7301742\n",
      "acc:0.6875\n",
      "mse:0.5366379\n",
      "max:12.18596363067627\n",
      "mean:5.1374533162533655\n",
      "min:0.746257483959198\n",
      "test mse:0.4075796240225194\n",
      "test acc:0.7009708737864078\n",
      "PREDS TYPE:<class 'list'>\n",
      "\n"
     ]
    },
    {
     "name": "stderr",
     "output_type": "stream",
     "text": [
      "100%|██████████| 522/522 [09:03<00:00,  1.04s/it, Epoch=98, LR=8.15e-6, Train_Loss=0.00504]\n",
      "100%|██████████| 58/58 [00:10<00:00,  5.39it/s, Epoch=98, LR=8.15e-6, Valid_Loss=0.466]\n"
     ]
    },
    {
     "name": "stdout",
     "output_type": "stream",
     "text": [
      "max:12.152939\n",
      "mean:5.3524084\n",
      "min:0.76362497\n",
      "acc:0.6702586206896551\n",
      "mse:0.54741377\n",
      "max:12.399526596069336\n",
      "mean:5.108893170981731\n",
      "min:0.7919406294822693\n",
      "test mse:0.3878457231756962\n",
      "test acc:0.6757281553398058\n",
      "PREDS TYPE:<class 'list'>\n",
      "\n"
     ]
    },
    {
     "name": "stderr",
     "output_type": "stream",
     "text": [
      "100%|██████████| 522/522 [09:04<00:00,  1.04s/it, Epoch=99, LR=9.14e-6, Train_Loss=0.00578]\n",
      "100%|██████████| 58/58 [00:10<00:00,  5.41it/s, Epoch=99, LR=9.14e-6, Valid_Loss=0.504]\n"
     ]
    },
    {
     "name": "stdout",
     "output_type": "stream",
     "text": [
      "max:12.389231\n",
      "mean:5.348353\n",
      "min:0.67877424\n",
      "acc:0.7004310344827587\n",
      "mse:0.54956895\n",
      "max:12.377482414245605\n",
      "mean:5.097841126247517\n",
      "min:0.6952719688415527\n",
      "test mse:0.44930796614926216\n",
      "test acc:0.6970873786407767\n",
      "PREDS TYPE:<class 'list'>\n",
      "\n"
     ]
    },
    {
     "name": "stderr",
     "output_type": "stream",
     "text": [
      "100%|██████████| 522/522 [09:03<00:00,  1.04s/it, Epoch=100, LR=9.78e-6, Train_Loss=0.00601]\n",
      "100%|██████████| 58/58 [00:10<00:00,  5.41it/s, Epoch=100, LR=9.78e-6, Valid_Loss=0.459]\n"
     ]
    },
    {
     "name": "stdout",
     "output_type": "stream",
     "text": [
      "max:12.347521\n",
      "mean:5.325102\n",
      "min:0.8111232\n",
      "acc:0.6724137931034483\n",
      "mse:0.51293105\n",
      "max:12.636479377746582\n",
      "mean:5.095941383398852\n",
      "min:0.8516519069671631\n",
      "test mse:0.35085530549317684\n",
      "test acc:0.7048543689320388\n",
      "PREDS TYPE:<class 'list'>\n",
      "\n"
     ]
    },
    {
     "name": "stderr",
     "output_type": "stream",
     "text": [
      "100%|██████████| 522/522 [09:03<00:00,  1.04s/it, Epoch=101, LR=1e-5, Train_Loss=0.0057] \n",
      "100%|██████████| 58/58 [00:10<00:00,  5.39it/s, Epoch=101, LR=1e-5, Valid_Loss=0.454]\n"
     ]
    },
    {
     "name": "stdout",
     "output_type": "stream",
     "text": [
      "max:12.435667\n",
      "mean:5.357777\n",
      "min:0.7583535\n",
      "acc:0.6788793103448276\n",
      "mse:0.5\n",
      "max:12.08241081237793\n",
      "mean:5.127101410824118\n",
      "min:0.7392323017120361\n",
      "test mse:0.3622703396675365\n",
      "test acc:0.6951456310679611\n",
      "PREDS TYPE:<class 'list'>\n",
      "\n"
     ]
    },
    {
     "name": "stderr",
     "output_type": "stream",
     "text": [
      "100%|██████████| 522/522 [09:04<00:00,  1.04s/it, Epoch=102, LR=9.78e-6, Train_Loss=0.00595]\n",
      "100%|██████████| 58/58 [00:10<00:00,  5.31it/s, Epoch=102, LR=9.78e-6, Valid_Loss=0.427]\n"
     ]
    },
    {
     "name": "stdout",
     "output_type": "stream",
     "text": [
      "max:12.636169\n",
      "mean:5.4578185\n",
      "min:0.84953564\n",
      "acc:0.7025862068965517\n",
      "mse:0.49568966\n",
      "max:12.17491340637207\n",
      "mean:5.208982376566211\n",
      "min:0.8408966660499573\n",
      "test mse:0.314702640888469\n",
      "test acc:0.7106796116504854\n",
      "PREDS TYPE:<class 'list'>\n",
      "\u001b[34mValidation AUC Improved (0.4978448152542114 ---> 0.49568966031074524)\n",
      "Model Saved\n",
      "\n"
     ]
    },
    {
     "name": "stderr",
     "output_type": "stream",
     "text": [
      "100%|██████████| 522/522 [09:04<00:00,  1.04s/it, Epoch=103, LR=9.14e-6, Train_Loss=0.0056] \n",
      "100%|██████████| 58/58 [00:10<00:00,  5.36it/s, Epoch=103, LR=9.14e-6, Valid_Loss=0.441]\n"
     ]
    },
    {
     "name": "stdout",
     "output_type": "stream",
     "text": [
      "max:12.335284\n",
      "mean:5.372644\n",
      "min:0.8439369\n",
      "acc:0.7047413793103449\n",
      "mse:0.49784482\n",
      "max:12.274825096130371\n",
      "mean:5.1184069495756646\n",
      "min:0.8903166651725769\n",
      "test mse:0.34733928508065204\n",
      "test acc:0.7067961165048544\n",
      "PREDS TYPE:<class 'list'>\n",
      "\n"
     ]
    },
    {
     "name": "stderr",
     "output_type": "stream",
     "text": [
      "100%|██████████| 522/522 [09:03<00:00,  1.04s/it, Epoch=104, LR=8.15e-6, Train_Loss=0.00528]\n",
      "100%|██████████| 58/58 [00:10<00:00,  5.41it/s, Epoch=104, LR=8.15e-6, Valid_Loss=0.467]\n"
     ]
    },
    {
     "name": "stdout",
     "output_type": "stream",
     "text": [
      "max:12.482994\n",
      "mean:5.2897506\n",
      "min:0.885385\n",
      "acc:0.6724137931034483\n",
      "mse:0.54310346\n",
      "max:12.243648529052734\n",
      "mean:5.046047724219202\n",
      "min:0.9442321062088013\n",
      "test mse:0.3804473588233142\n",
      "test acc:0.6932038834951456\n",
      "PREDS TYPE:<class 'list'>\n",
      "\n"
     ]
    },
    {
     "name": "stderr",
     "output_type": "stream",
     "text": [
      "100%|██████████| 522/522 [09:03<00:00,  1.04s/it, Epoch=105, LR=6.89e-6, Train_Loss=0.00473]\n",
      "100%|██████████| 58/58 [00:10<00:00,  5.39it/s, Epoch=105, LR=6.89e-6, Valid_Loss=0.446]\n"
     ]
    },
    {
     "name": "stdout",
     "output_type": "stream",
     "text": [
      "max:12.440785\n",
      "mean:5.3738794\n",
      "min:0.8072137\n",
      "acc:0.709051724137931\n",
      "mse:0.48922414\n",
      "max:12.351492881774902\n",
      "mean:5.124764084121556\n",
      "min:0.8280435800552368\n",
      "test mse:0.33474811037617347\n",
      "test acc:0.7145631067961165\n",
      "PREDS TYPE:<class 'list'>\n",
      "\u001b[34mValidation AUC Improved (0.49568966031074524 ---> 0.4892241358757019)\n",
      "Model Saved\n",
      "\n"
     ]
    },
    {
     "name": "stderr",
     "output_type": "stream",
     "text": [
      "100%|██████████| 522/522 [09:03<00:00,  1.04s/it, Epoch=106, LR=5.5e-6, Train_Loss=0.0043] \n",
      "100%|██████████| 58/58 [00:10<00:00,  5.40it/s, Epoch=106, LR=5.5e-6, Valid_Loss=0.471]\n"
     ]
    },
    {
     "name": "stdout",
     "output_type": "stream",
     "text": [
      "max:12.20601\n",
      "mean:5.3192945\n",
      "min:0.871124\n",
      "acc:0.7004310344827587\n",
      "mse:0.5064655\n",
      "max:11.881309509277344\n",
      "mean:5.074746866365081\n",
      "min:0.8808313012123108\n",
      "test mse:0.37197072114633317\n",
      "test acc:0.7087378640776699\n",
      "PREDS TYPE:<class 'list'>\n",
      "\n"
     ]
    },
    {
     "name": "stderr",
     "output_type": "stream",
     "text": [
      "100%|██████████| 522/522 [09:03<00:00,  1.04s/it, Epoch=107, LR=4.11e-6, Train_Loss=0.00391]\n",
      "100%|██████████| 58/58 [00:10<00:00,  5.35it/s, Epoch=107, LR=4.11e-6, Valid_Loss=0.447]\n"
     ]
    },
    {
     "name": "stdout",
     "output_type": "stream",
     "text": [
      "max:12.260621\n",
      "mean:5.3519096\n",
      "min:0.8629703\n",
      "acc:0.7025862068965517\n",
      "mse:0.48922414\n",
      "max:12.175222396850586\n",
      "mean:5.103793092607295\n",
      "min:0.8416261672973633\n",
      "test mse:0.3535067813913676\n",
      "test acc:0.7106796116504854\n",
      "PREDS TYPE:<class 'list'>\n",
      "\u001b[34mValidation AUC Improved (0.4892241358757019 ---> 0.4892241358757019)\n",
      "Model Saved\n",
      "\n"
     ]
    },
    {
     "name": "stderr",
     "output_type": "stream",
     "text": [
      "100%|██████████| 522/522 [09:03<00:00,  1.04s/it, Epoch=108, LR=2.85e-6, Train_Loss=0.00368]\n",
      "100%|██████████| 58/58 [00:10<00:00,  5.40it/s, Epoch=108, LR=2.85e-6, Valid_Loss=0.463]\n"
     ]
    },
    {
     "name": "stdout",
     "output_type": "stream",
     "text": [
      "max:12.253301\n",
      "mean:5.398228\n",
      "min:0.86404145\n",
      "acc:0.7025862068965517\n",
      "mse:0.51508623\n",
      "max:12.040681838989258\n",
      "mean:5.152263940769492\n",
      "min:0.9222890734672546\n",
      "test mse:0.36569241388825213\n",
      "test acc:0.7184466019417476\n",
      "PREDS TYPE:<class 'list'>\n",
      "\n"
     ]
    },
    {
     "name": "stderr",
     "output_type": "stream",
     "text": [
      "100%|██████████| 522/522 [09:03<00:00,  1.04s/it, Epoch=109, LR=1.86e-6, Train_Loss=0.00318]\n",
      "100%|██████████| 58/58 [00:10<00:00,  5.37it/s, Epoch=109, LR=1.86e-6, Valid_Loss=0.433]\n"
     ]
    },
    {
     "name": "stdout",
     "output_type": "stream",
     "text": [
      "max:12.4666815\n",
      "mean:5.421229\n",
      "min:0.9087433\n",
      "acc:0.7198275862068966\n",
      "mse:0.4827586\n",
      "max:12.403308868408203\n",
      "mean:5.180221672312728\n",
      "min:0.9065356850624084\n",
      "test mse:0.3322114972349517\n",
      "test acc:0.7281553398058253\n",
      "PREDS TYPE:<class 'list'>\n",
      "\u001b[34mValidation AUC Improved (0.4892241358757019 ---> 0.48275861144065857)\n",
      "Model Saved\n",
      "\n"
     ]
    },
    {
     "name": "stderr",
     "output_type": "stream",
     "text": [
      "100%|██████████| 522/522 [09:03<00:00,  1.04s/it, Epoch=110, LR=1.22e-6, Train_Loss=0.00288]\n",
      "100%|██████████| 58/58 [00:10<00:00,  5.40it/s, Epoch=110, LR=1.22e-6, Valid_Loss=0.435]\n"
     ]
    },
    {
     "name": "stdout",
     "output_type": "stream",
     "text": [
      "max:12.294892\n",
      "mean:5.388803\n",
      "min:0.8860574\n",
      "acc:0.7176724137931034\n",
      "mse:0.47413793\n",
      "max:12.356775283813477\n",
      "mean:5.138374008599994\n",
      "min:0.8977012634277344\n",
      "test mse:0.3381765833817813\n",
      "test acc:0.7145631067961165\n",
      "PREDS TYPE:<class 'list'>\n",
      "\u001b[34mValidation AUC Improved (0.48275861144065857 ---> 0.47413793206214905)\n",
      "Model Saved\n",
      "\n"
     ]
    },
    {
     "name": "stderr",
     "output_type": "stream",
     "text": [
      "100%|██████████| 522/522 [09:04<00:00,  1.04s/it, Epoch=111, LR=1e-6, Train_Loss=0.00288]\n",
      "100%|██████████| 58/58 [00:10<00:00,  5.30it/s, Epoch=111, LR=1e-6, Valid_Loss=0.446]\n"
     ]
    },
    {
     "name": "stdout",
     "output_type": "stream",
     "text": [
      "max:12.2846575\n",
      "mean:5.353706\n",
      "min:0.8612586\n",
      "acc:0.7004310344827587\n",
      "mse:0.49784482\n",
      "max:12.165318489074707\n",
      "mean:5.104234566503358\n",
      "min:0.8500387072563171\n",
      "test mse:0.350372645601669\n",
      "test acc:0.7048543689320388\n",
      "PREDS TYPE:<class 'list'>\n",
      "\n"
     ]
    },
    {
     "name": "stderr",
     "output_type": "stream",
     "text": [
      "100%|██████████| 522/522 [09:03<00:00,  1.04s/it, Epoch=112, LR=1.22e-6, Train_Loss=0.00309]\n",
      "100%|██████████| 58/58 [00:10<00:00,  5.39it/s, Epoch=112, LR=1.22e-6, Valid_Loss=0.448]\n"
     ]
    },
    {
     "name": "stdout",
     "output_type": "stream",
     "text": [
      "max:12.134234\n",
      "mean:5.3137913\n",
      "min:0.89667475\n",
      "acc:0.6875\n",
      "mse:0.49784482\n",
      "max:12.034490585327148\n",
      "mean:5.070071088110359\n",
      "min:0.9129275679588318\n",
      "test mse:0.3517421531392961\n",
      "test acc:0.6912621359223301\n",
      "PREDS TYPE:<class 'list'>\n",
      "\n"
     ]
    },
    {
     "name": "stderr",
     "output_type": "stream",
     "text": [
      "100%|██████████| 522/522 [09:03<00:00,  1.04s/it, Epoch=113, LR=1.86e-6, Train_Loss=0.00306]\n",
      "100%|██████████| 58/58 [00:10<00:00,  5.34it/s, Epoch=113, LR=1.86e-6, Valid_Loss=0.445]\n"
     ]
    },
    {
     "name": "stdout",
     "output_type": "stream",
     "text": [
      "max:12.237744\n",
      "mean:5.3126545\n",
      "min:0.87689114\n",
      "acc:0.6939655172413793\n",
      "mse:0.49784482\n",
      "max:12.17585563659668\n",
      "mean:5.068037952034219\n",
      "min:0.9100242257118225\n",
      "test mse:0.34841174412989734\n",
      "test acc:0.6932038834951456\n",
      "PREDS TYPE:<class 'list'>\n",
      "\n"
     ]
    },
    {
     "name": "stderr",
     "output_type": "stream",
     "text": [
      "100%|██████████| 522/522 [09:04<00:00,  1.04s/it, Epoch=114, LR=2.85e-6, Train_Loss=0.00305]\n",
      "100%|██████████| 58/58 [00:10<00:00,  5.38it/s, Epoch=114, LR=2.85e-6, Valid_Loss=0.432]\n"
     ]
    },
    {
     "name": "stdout",
     "output_type": "stream",
     "text": [
      "max:12.361979\n",
      "mean:5.3805985\n",
      "min:0.86325514\n",
      "acc:0.7047413793103449\n",
      "mse:0.48706895\n",
      "max:12.334471702575684\n",
      "mean:5.130996976662608\n",
      "min:0.8842840790748596\n",
      "test mse:0.33327692591833363\n",
      "test acc:0.7126213592233009\n",
      "PREDS TYPE:<class 'list'>\n",
      "\n"
     ]
    },
    {
     "name": "stderr",
     "output_type": "stream",
     "text": [
      "100%|██████████| 522/522 [09:04<00:00,  1.04s/it, Epoch=115, LR=4.11e-6, Train_Loss=0.00323]\n",
      "100%|██████████| 58/58 [00:10<00:00,  5.41it/s, Epoch=115, LR=4.11e-6, Valid_Loss=0.453]\n"
     ]
    },
    {
     "name": "stdout",
     "output_type": "stream",
     "text": [
      "max:12.421453\n",
      "mean:5.360546\n",
      "min:0.8776769\n",
      "acc:0.6939655172413793\n",
      "mse:0.51293105\n",
      "max:12.050012588500977\n",
      "mean:5.117198504984957\n",
      "min:0.8994649648666382\n",
      "test mse:0.35162856406760906\n",
      "test acc:0.7067961165048544\n",
      "PREDS TYPE:<class 'list'>\n",
      "\n"
     ]
    },
    {
     "name": "stderr",
     "output_type": "stream",
     "text": [
      "100%|██████████| 522/522 [09:03<00:00,  1.04s/it, Epoch=116, LR=5.5e-6, Train_Loss=0.00371]\n",
      "100%|██████████| 58/58 [00:10<00:00,  5.36it/s, Epoch=116, LR=5.5e-6, Valid_Loss=0.485]\n"
     ]
    },
    {
     "name": "stdout",
     "output_type": "stream",
     "text": [
      "max:12.034612\n",
      "mean:5.232806\n",
      "min:0.8108001\n",
      "acc:0.646551724137931\n",
      "mse:0.54956895\n",
      "max:11.643367767333984\n",
      "mean:5.002637288408372\n",
      "min:0.8966474533081055\n",
      "test mse:0.3682730873693504\n",
      "test acc:0.6873786407766991\n",
      "PREDS TYPE:<class 'list'>\n",
      "\n"
     ]
    },
    {
     "name": "stderr",
     "output_type": "stream",
     "text": [
      "100%|██████████| 522/522 [09:03<00:00,  1.04s/it, Epoch=117, LR=6.89e-6, Train_Loss=0.00416]\n",
      "100%|██████████| 58/58 [00:10<00:00,  5.40it/s, Epoch=117, LR=6.89e-6, Valid_Loss=0.45] \n"
     ]
    },
    {
     "name": "stdout",
     "output_type": "stream",
     "text": [
      "max:12.666126\n",
      "mean:5.4581532\n",
      "min:0.7918772\n",
      "acc:0.7176724137931034\n",
      "mse:0.49784482\n",
      "max:12.420016288757324\n",
      "mean:5.211385299164115\n",
      "min:0.8178344368934631\n",
      "test mse:0.33000892333767873\n",
      "test acc:0.7145631067961165\n",
      "PREDS TYPE:<class 'list'>\n",
      "\n"
     ]
    },
    {
     "name": "stderr",
     "output_type": "stream",
     "text": [
      "100%|██████████| 522/522 [09:03<00:00,  1.04s/it, Epoch=118, LR=8.15e-6, Train_Loss=0.00406]\n",
      "100%|██████████| 58/58 [00:10<00:00,  5.40it/s, Epoch=118, LR=8.15e-6, Valid_Loss=0.453]\n"
     ]
    },
    {
     "name": "stdout",
     "output_type": "stream",
     "text": [
      "max:12.399888\n",
      "mean:5.297983\n",
      "min:0.72991645\n",
      "acc:0.6745689655172413\n",
      "mse:0.51077586\n",
      "max:12.381567001342773\n",
      "mean:5.052939797373651\n",
      "min:0.7731801867485046\n",
      "test mse:0.3623159366761778\n",
      "test acc:0.6970873786407767\n",
      "PREDS TYPE:<class 'list'>\n",
      "\n"
     ]
    },
    {
     "name": "stderr",
     "output_type": "stream",
     "text": [
      "100%|██████████| 522/522 [09:03<00:00,  1.04s/it, Epoch=119, LR=9.14e-6, Train_Loss=0.00476]\n",
      "100%|██████████| 58/58 [00:10<00:00,  5.34it/s, Epoch=119, LR=9.14e-6, Valid_Loss=0.444]\n"
     ]
    },
    {
     "name": "stdout",
     "output_type": "stream",
     "text": [
      "max:12.623198\n",
      "mean:5.366857\n",
      "min:0.8169881\n",
      "acc:0.7068965517241379\n",
      "mse:0.5\n",
      "max:12.580066680908203\n",
      "mean:5.10834625195531\n",
      "min:0.8067651391029358\n",
      "test mse:0.4025215048609299\n",
      "test acc:0.7145631067961165\n",
      "PREDS TYPE:<class 'list'>\n",
      "\n"
     ]
    },
    {
     "name": "stderr",
     "output_type": "stream",
     "text": [
      "100%|██████████| 522/522 [09:03<00:00,  1.04s/it, Epoch=120, LR=9.78e-6, Train_Loss=0.0048] \n",
      "100%|██████████| 58/58 [00:10<00:00,  5.41it/s, Epoch=120, LR=9.78e-6, Valid_Loss=0.457]\n"
     ]
    },
    {
     "name": "stdout",
     "output_type": "stream",
     "text": [
      "max:11.87243\n",
      "mean:5.3259625\n",
      "min:0.7846905\n",
      "acc:0.6896551724137931\n",
      "mse:0.51293105\n",
      "max:11.875669479370117\n",
      "mean:5.081957527040278\n",
      "min:0.7452484965324402\n",
      "test mse:0.3763384235224806\n",
      "test acc:0.7029126213592233\n",
      "PREDS TYPE:<class 'list'>\n",
      "\n"
     ]
    },
    {
     "name": "stderr",
     "output_type": "stream",
     "text": [
      "100%|██████████| 522/522 [09:03<00:00,  1.04s/it, Epoch=121, LR=1e-5, Train_Loss=0.00509]\n",
      "100%|██████████| 58/58 [00:10<00:00,  5.38it/s, Epoch=121, LR=1e-5, Valid_Loss=0.45] \n"
     ]
    },
    {
     "name": "stdout",
     "output_type": "stream",
     "text": [
      "max:12.572779\n",
      "mean:5.5400634\n",
      "min:0.86539686\n",
      "acc:0.709051724137931\n",
      "mse:0.51293105\n",
      "max:12.408578872680664\n",
      "mean:5.287002498085059\n",
      "min:0.8345490097999573\n",
      "test mse:0.3647209637353824\n",
      "test acc:0.6990291262135923\n",
      "PREDS TYPE:<class 'list'>\n",
      "\n"
     ]
    },
    {
     "name": "stderr",
     "output_type": "stream",
     "text": [
      "100%|██████████| 522/522 [09:04<00:00,  1.04s/it, Epoch=122, LR=9.78e-6, Train_Loss=0.0047] \n",
      "100%|██████████| 58/58 [00:10<00:00,  5.41it/s, Epoch=122, LR=9.78e-6, Valid_Loss=0.473]\n"
     ]
    },
    {
     "name": "stdout",
     "output_type": "stream",
     "text": [
      "max:12.004083\n",
      "mean:5.2530174\n",
      "min:0.8472291\n",
      "acc:0.6724137931034483\n",
      "mse:0.51293105\n",
      "max:11.991205215454102\n",
      "mean:5.006036435284661\n",
      "min:0.8449222445487976\n",
      "test mse:0.3681784373164342\n",
      "test acc:0.6776699029126214\n",
      "PREDS TYPE:<class 'list'>\n",
      "\n"
     ]
    },
    {
     "name": "stderr",
     "output_type": "stream",
     "text": [
      "100%|██████████| 522/522 [09:03<00:00,  1.04s/it, Epoch=123, LR=9.14e-6, Train_Loss=0.00463]\n",
      "100%|██████████| 58/58 [00:10<00:00,  5.40it/s, Epoch=123, LR=9.14e-6, Valid_Loss=0.453]\n"
     ]
    },
    {
     "name": "stdout",
     "output_type": "stream",
     "text": [
      "max:12.431902\n",
      "mean:5.2900057\n",
      "min:0.76462734\n",
      "acc:0.6724137931034483\n",
      "mse:0.5344828\n",
      "max:12.316658973693848\n",
      "mean:5.039744734764099\n",
      "min:0.7558799386024475\n",
      "test mse:0.3835292554743063\n",
      "test acc:0.6951456310679611\n",
      "PREDS TYPE:<class 'list'>\n",
      "\n"
     ]
    },
    {
     "name": "stderr",
     "output_type": "stream",
     "text": [
      "100%|██████████| 522/522 [09:03<00:00,  1.04s/it, Epoch=124, LR=8.15e-6, Train_Loss=0.00447]\n",
      "100%|██████████| 58/58 [00:10<00:00,  5.34it/s, Epoch=124, LR=8.15e-6, Valid_Loss=0.427]\n"
     ]
    },
    {
     "name": "stdout",
     "output_type": "stream",
     "text": [
      "max:12.526703\n",
      "mean:5.425647\n",
      "min:0.8478159\n",
      "acc:0.7155172413793104\n",
      "mse:0.4676724\n",
      "max:12.731526374816895\n",
      "mean:5.171549180641915\n",
      "min:0.8631687760353088\n",
      "test mse:0.35623491085989945\n",
      "test acc:0.7165048543689321\n",
      "PREDS TYPE:<class 'list'>\n",
      "\u001b[34mValidation AUC Improved (0.47413793206214905 ---> 0.4676724076271057)\n",
      "Model Saved\n",
      "\n"
     ]
    },
    {
     "name": "stderr",
     "output_type": "stream",
     "text": [
      "100%|██████████| 522/522 [09:03<00:00,  1.04s/it, Epoch=125, LR=6.89e-6, Train_Loss=0.0042] \n",
      "100%|██████████| 58/58 [00:10<00:00,  5.40it/s, Epoch=125, LR=6.89e-6, Valid_Loss=0.473]\n"
     ]
    },
    {
     "name": "stdout",
     "output_type": "stream",
     "text": [
      "max:12.293752\n",
      "mean:5.263434\n",
      "min:0.75319016\n",
      "acc:0.6767241379310345\n",
      "mse:0.5237069\n",
      "max:12.237019538879395\n",
      "mean:5.009092772932886\n",
      "min:0.7623983025550842\n",
      "test mse:0.4087420689444261\n",
      "test acc:0.7048543689320388\n",
      "PREDS TYPE:<class 'list'>\n",
      "\n"
     ]
    },
    {
     "name": "stderr",
     "output_type": "stream",
     "text": [
      "100%|██████████| 522/522 [09:03<00:00,  1.04s/it, Epoch=126, LR=5.5e-6, Train_Loss=0.00339]\n",
      "100%|██████████| 58/58 [00:10<00:00,  5.37it/s, Epoch=126, LR=5.5e-6, Valid_Loss=0.428]\n"
     ]
    },
    {
     "name": "stdout",
     "output_type": "stream",
     "text": [
      "max:12.183749\n",
      "mean:5.3662043\n",
      "min:0.812087\n",
      "acc:0.7047413793103449\n",
      "mse:0.48060346\n",
      "max:12.315583229064941\n",
      "mean:5.103856812055828\n",
      "min:0.7989647388458252\n",
      "test mse:0.36498403168810417\n",
      "test acc:0.7145631067961165\n",
      "PREDS TYPE:<class 'list'>\n",
      "\n"
     ]
    },
    {
     "name": "stderr",
     "output_type": "stream",
     "text": [
      "100%|██████████| 522/522 [09:04<00:00,  1.04s/it, Epoch=127, LR=4.11e-6, Train_Loss=0.00324]\n",
      "100%|██████████| 58/58 [00:10<00:00,  5.39it/s, Epoch=127, LR=4.11e-6, Valid_Loss=0.427]\n"
     ]
    },
    {
     "name": "stdout",
     "output_type": "stream",
     "text": [
      "max:12.415022\n",
      "mean:5.415219\n",
      "min:0.84273505\n",
      "acc:0.7155172413793104\n",
      "mse:0.48706895\n",
      "max:12.47091293334961\n",
      "mean:5.161842463896113\n",
      "min:0.7479671835899353\n",
      "test mse:0.3396699121660544\n",
      "test acc:0.7320388349514563\n",
      "PREDS TYPE:<class 'list'>\n",
      "\n"
     ]
    },
    {
     "name": "stderr",
     "output_type": "stream",
     "text": [
      "100%|██████████| 522/522 [09:03<00:00,  1.04s/it, Epoch=128, LR=2.85e-6, Train_Loss=0.00283]\n",
      "100%|██████████| 58/58 [00:10<00:00,  5.38it/s, Epoch=128, LR=2.85e-6, Valid_Loss=0.436]\n"
     ]
    },
    {
     "name": "stdout",
     "output_type": "stream",
     "text": [
      "max:12.191212\n",
      "mean:5.404007\n",
      "min:0.8540252\n",
      "acc:0.7047413793103449\n",
      "mse:0.49784482\n",
      "max:12.453184127807617\n",
      "mean:5.160481075175758\n",
      "min:0.7810812592506409\n",
      "test mse:0.33220409409626933\n",
      "test acc:0.7281553398058253\n",
      "PREDS TYPE:<class 'list'>\n",
      "\n"
     ]
    },
    {
     "name": "stderr",
     "output_type": "stream",
     "text": [
      "100%|██████████| 522/522 [09:03<00:00,  1.04s/it, Epoch=129, LR=1.86e-6, Train_Loss=0.0027] \n",
      "100%|██████████| 58/58 [00:10<00:00,  5.38it/s, Epoch=129, LR=1.86e-6, Valid_Loss=0.433]\n"
     ]
    },
    {
     "name": "stdout",
     "output_type": "stream",
     "text": [
      "max:12.188132\n",
      "mean:5.3522034\n",
      "min:0.8286578\n",
      "acc:0.7047413793103449\n",
      "mse:0.48706895\n",
      "max:12.305130004882812\n",
      "mean:5.1052084698260405\n",
      "min:0.7092759609222412\n",
      "test mse:0.33950908932680135\n",
      "test acc:0.7203883495145631\n",
      "PREDS TYPE:<class 'list'>\n",
      "\n"
     ]
    },
    {
     "name": "stderr",
     "output_type": "stream",
     "text": [
      "100%|██████████| 522/522 [09:03<00:00,  1.04s/it, Epoch=130, LR=1.22e-6, Train_Loss=0.00242]\n",
      "100%|██████████| 58/58 [00:10<00:00,  5.38it/s, Epoch=130, LR=1.22e-6, Valid_Loss=0.427]\n"
     ]
    },
    {
     "name": "stdout",
     "output_type": "stream",
     "text": [
      "max:12.325894\n",
      "mean:5.3403664\n",
      "min:0.8537284\n",
      "acc:0.7047413793103449\n",
      "mse:0.48706895\n",
      "max:12.361579895019531\n",
      "mean:5.088941629303312\n",
      "min:0.8386838436126709\n",
      "test mse:0.335781971386201\n",
      "test acc:0.7029126213592233\n",
      "PREDS TYPE:<class 'list'>\n",
      "\n"
     ]
    },
    {
     "name": "stderr",
     "output_type": "stream",
     "text": [
      "100%|██████████| 522/522 [09:03<00:00,  1.04s/it, Epoch=131, LR=1e-6, Train_Loss=0.00249]\n",
      "100%|██████████| 58/58 [00:10<00:00,  5.39it/s, Epoch=131, LR=1e-6, Valid_Loss=0.429]\n"
     ]
    },
    {
     "name": "stdout",
     "output_type": "stream",
     "text": [
      "max:12.084973\n",
      "mean:5.348878\n",
      "min:0.8476041\n",
      "acc:0.6939655172413793\n",
      "mse:0.48706895\n",
      "max:12.209283828735352\n",
      "mean:5.104390304875605\n",
      "min:0.7920193672180176\n",
      "test mse:0.32407394160716335\n",
      "test acc:0.7203883495145631\n",
      "PREDS TYPE:<class 'list'>\n",
      "\n"
     ]
    },
    {
     "name": "stderr",
     "output_type": "stream",
     "text": [
      "100%|██████████| 522/522 [09:03<00:00,  1.04s/it, Epoch=132, LR=1.22e-6, Train_Loss=0.00244]\n",
      "100%|██████████| 58/58 [00:10<00:00,  5.40it/s, Epoch=132, LR=1.22e-6, Valid_Loss=0.445]\n"
     ]
    },
    {
     "name": "stdout",
     "output_type": "stream",
     "text": [
      "max:12.162314\n",
      "mean:5.356375\n",
      "min:0.81624126\n",
      "acc:0.6982758620689655\n",
      "mse:0.50431037\n",
      "max:12.252570152282715\n",
      "mean:5.104220509413377\n",
      "min:0.7723768949508667\n",
      "test mse:0.3603826016057323\n",
      "test acc:0.7126213592233009\n",
      "PREDS TYPE:<class 'list'>\n",
      "\n"
     ]
    },
    {
     "name": "stderr",
     "output_type": "stream",
     "text": [
      "100%|██████████| 522/522 [09:03<00:00,  1.04s/it, Epoch=133, LR=1.86e-6, Train_Loss=0.00254]\n",
      "100%|██████████| 58/58 [00:10<00:00,  5.39it/s, Epoch=133, LR=1.86e-6, Valid_Loss=0.445]\n"
     ]
    },
    {
     "name": "stdout",
     "output_type": "stream",
     "text": [
      "max:11.959714\n",
      "mean:5.288786\n",
      "min:0.81968915\n",
      "acc:0.6810344827586207\n",
      "mse:0.49353448\n",
      "max:12.101461410522461\n",
      "mean:5.050499718166092\n",
      "min:0.803810715675354\n",
      "test mse:0.33167856186641476\n",
      "test acc:0.7029126213592233\n",
      "PREDS TYPE:<class 'list'>\n",
      "\n"
     ]
    },
    {
     "name": "stderr",
     "output_type": "stream",
     "text": [
      "100%|██████████| 522/522 [09:04<00:00,  1.04s/it, Epoch=134, LR=2.85e-6, Train_Loss=0.00259]\n",
      "100%|██████████| 58/58 [00:10<00:00,  5.38it/s, Epoch=134, LR=2.85e-6, Valid_Loss=0.434]\n"
     ]
    },
    {
     "name": "stdout",
     "output_type": "stream",
     "text": [
      "max:12.114279\n",
      "mean:5.338845\n",
      "min:0.83658755\n",
      "acc:0.6961206896551724\n",
      "mse:0.5021552\n",
      "max:12.194236755371094\n",
      "mean:5.0911901244839415\n",
      "min:0.7752518057823181\n",
      "test mse:0.3365779822227797\n",
      "test acc:0.7145631067961165\n",
      "PREDS TYPE:<class 'list'>\n",
      "\n"
     ]
    },
    {
     "name": "stderr",
     "output_type": "stream",
     "text": [
      "100%|██████████| 522/522 [09:03<00:00,  1.04s/it, Epoch=135, LR=4.11e-6, Train_Loss=0.00279]\n",
      "100%|██████████| 58/58 [00:10<00:00,  5.40it/s, Epoch=135, LR=4.11e-6, Valid_Loss=0.446]\n"
     ]
    },
    {
     "name": "stdout",
     "output_type": "stream",
     "text": [
      "max:12.341051\n",
      "mean:5.483014\n",
      "min:0.85270524\n",
      "acc:0.7133620689655172\n",
      "mse:0.5021552\n",
      "max:12.373331069946289\n",
      "mean:5.236796485683293\n",
      "min:0.8332657217979431\n",
      "test mse:0.35340333040297556\n",
      "test acc:0.7242718446601941\n",
      "PREDS TYPE:<class 'list'>\n",
      "\n"
     ]
    },
    {
     "name": "stderr",
     "output_type": "stream",
     "text": [
      "100%|██████████| 522/522 [09:04<00:00,  1.04s/it, Epoch=136, LR=5.5e-6, Train_Loss=0.00291]\n",
      "100%|██████████| 58/58 [00:10<00:00,  5.37it/s, Epoch=136, LR=5.5e-6, Valid_Loss=0.445]\n"
     ]
    },
    {
     "name": "stdout",
     "output_type": "stream",
     "text": [
      "max:12.225355\n",
      "mean:5.326065\n",
      "min:0.8520318\n",
      "acc:0.709051724137931\n",
      "mse:0.49784482\n",
      "max:12.288883209228516\n",
      "mean:5.075294277043018\n",
      "min:0.8530467748641968\n",
      "test mse:0.36977344510176124\n",
      "test acc:0.7145631067961165\n",
      "PREDS TYPE:<class 'list'>\n",
      "\n"
     ]
    },
    {
     "name": "stderr",
     "output_type": "stream",
     "text": [
      "100%|██████████| 522/522 [09:04<00:00,  1.04s/it, Epoch=137, LR=6.89e-6, Train_Loss=0.00317]\n",
      "100%|██████████| 58/58 [00:10<00:00,  5.39it/s, Epoch=137, LR=6.89e-6, Valid_Loss=0.468]\n"
     ]
    },
    {
     "name": "stdout",
     "output_type": "stream",
     "text": [
      "max:12.095566\n",
      "mean:5.2378097\n",
      "min:0.7820914\n",
      "acc:0.6724137931034483\n",
      "mse:0.51939654\n",
      "max:12.064764976501465\n",
      "mean:4.985736899237031\n",
      "min:0.707771897315979\n",
      "test mse:0.3879425734692297\n",
      "test acc:0.7029126213592233\n",
      "PREDS TYPE:<class 'list'>\n",
      "\n"
     ]
    },
    {
     "name": "stderr",
     "output_type": "stream",
     "text": [
      "100%|██████████| 522/522 [09:03<00:00,  1.04s/it, Epoch=138, LR=8.15e-6, Train_Loss=0.00401]\n",
      "100%|██████████| 58/58 [00:11<00:00,  5.27it/s, Epoch=138, LR=8.15e-6, Valid_Loss=0.426]\n"
     ]
    },
    {
     "name": "stdout",
     "output_type": "stream",
     "text": [
      "max:12.51649\n",
      "mean:5.3634067\n",
      "min:0.76675177\n",
      "acc:0.7004310344827587\n",
      "mse:0.5086207\n",
      "max:12.556534767150879\n",
      "mean:5.111080730077132\n",
      "min:0.8331464529037476\n",
      "test mse:0.333514470938659\n",
      "test acc:0.7009708737864078\n",
      "PREDS TYPE:<class 'list'>\n",
      "\n"
     ]
    },
    {
     "name": "stderr",
     "output_type": "stream",
     "text": [
      "100%|██████████| 522/522 [09:03<00:00,  1.04s/it, Epoch=139, LR=9.14e-6, Train_Loss=0.00371]\n",
      "100%|██████████| 58/58 [00:10<00:00,  5.39it/s, Epoch=139, LR=9.14e-6, Valid_Loss=0.443]\n"
     ]
    },
    {
     "name": "stdout",
     "output_type": "stream",
     "text": [
      "max:12.170219\n",
      "mean:5.40446\n",
      "min:0.7442309\n",
      "acc:0.7133620689655172\n",
      "mse:0.47844827\n",
      "max:12.294418334960938\n",
      "mean:5.156660010745225\n",
      "min:0.7556368112564087\n",
      "test mse:0.3439436382522076\n",
      "test acc:0.7184466019417476\n",
      "PREDS TYPE:<class 'list'>\n",
      "\n"
     ]
    },
    {
     "name": "stderr",
     "output_type": "stream",
     "text": [
      "100%|██████████| 522/522 [09:04<00:00,  1.04s/it, Epoch=140, LR=9.78e-6, Train_Loss=0.00401]\n",
      "100%|██████████| 58/58 [00:10<00:00,  5.39it/s, Epoch=140, LR=9.78e-6, Valid_Loss=0.455]\n"
     ]
    },
    {
     "name": "stdout",
     "output_type": "stream",
     "text": [
      "max:12.201921\n",
      "mean:5.332246\n",
      "min:0.688946\n",
      "acc:0.6982758620689655\n",
      "mse:0.51508623\n",
      "max:12.206077575683594\n",
      "mean:5.085795097675138\n",
      "min:0.644898533821106\n",
      "test mse:0.3753333166537003\n",
      "test acc:0.7048543689320388\n",
      "PREDS TYPE:<class 'list'>\n",
      "\n"
     ]
    },
    {
     "name": "stderr",
     "output_type": "stream",
     "text": [
      "100%|██████████| 522/522 [09:04<00:00,  1.04s/it, Epoch=141, LR=1e-5, Train_Loss=0.00418]\n",
      "100%|██████████| 58/58 [00:10<00:00,  5.37it/s, Epoch=141, LR=1e-5, Valid_Loss=0.431]\n"
     ]
    },
    {
     "name": "stdout",
     "output_type": "stream",
     "text": [
      "max:12.308914\n",
      "mean:5.449142\n",
      "min:0.87149763\n",
      "acc:0.7219827586206896\n",
      "mse:0.4698276\n",
      "max:12.204584121704102\n",
      "mean:5.190869892106472\n",
      "min:0.8310298919677734\n",
      "test mse:0.35327304946002064\n",
      "test acc:0.7145631067961165\n",
      "PREDS TYPE:<class 'list'>\n",
      "\n"
     ]
    },
    {
     "name": "stderr",
     "output_type": "stream",
     "text": [
      "100%|██████████| 522/522 [09:03<00:00,  1.04s/it, Epoch=142, LR=9.78e-6, Train_Loss=0.00428]\n",
      "100%|██████████| 58/58 [00:11<00:00,  5.24it/s, Epoch=142, LR=9.78e-6, Valid_Loss=0.471]\n"
     ]
    },
    {
     "name": "stdout",
     "output_type": "stream",
     "text": [
      "max:12.150783\n",
      "mean:5.24467\n",
      "min:0.82705486\n",
      "acc:0.6982758620689655\n",
      "mse:0.51077586\n",
      "max:12.291836738586426\n",
      "mean:4.997391198908241\n",
      "min:0.7555664777755737\n",
      "test mse:0.43227538135224186\n",
      "test acc:0.6951456310679611\n",
      "PREDS TYPE:<class 'list'>\n",
      "\n"
     ]
    },
    {
     "name": "stderr",
     "output_type": "stream",
     "text": [
      "100%|██████████| 522/522 [09:02<00:00,  1.04s/it, Epoch=143, LR=9.14e-6, Train_Loss=0.00405]\n",
      "100%|██████████| 58/58 [00:10<00:00,  5.35it/s, Epoch=143, LR=9.14e-6, Valid_Loss=0.435]\n"
     ]
    },
    {
     "name": "stdout",
     "output_type": "stream",
     "text": [
      "max:12.090115\n",
      "mean:5.3649526\n",
      "min:0.8485177\n",
      "acc:0.7068965517241379\n",
      "mse:0.49568966\n",
      "max:12.194592475891113\n",
      "mean:5.126859679847088\n",
      "min:0.7815988063812256\n",
      "test mse:0.44312057126181026\n",
      "test acc:0.7048543689320388\n",
      "PREDS TYPE:<class 'list'>\n",
      "\n"
     ]
    },
    {
     "name": "stderr",
     "output_type": "stream",
     "text": [
      "100%|██████████| 522/522 [09:02<00:00,  1.04s/it, Epoch=144, LR=8.15e-6, Train_Loss=0.00357]\n",
      "100%|██████████| 58/58 [00:10<00:00,  5.41it/s, Epoch=144, LR=8.15e-6, Valid_Loss=0.446]\n"
     ]
    },
    {
     "name": "stdout",
     "output_type": "stream",
     "text": [
      "max:12.226731\n",
      "mean:5.2859006\n",
      "min:0.79621077\n",
      "acc:0.6939655172413793\n",
      "mse:0.49784482\n",
      "max:12.275547981262207\n",
      "mean:5.0460565379522375\n",
      "min:0.7221391797065735\n",
      "test mse:0.39053643793206677\n",
      "test acc:0.7009708737864078\n",
      "PREDS TYPE:<class 'list'>\n",
      "\n"
     ]
    },
    {
     "name": "stderr",
     "output_type": "stream",
     "text": [
      "100%|██████████| 522/522 [09:03<00:00,  1.04s/it, Epoch=145, LR=6.89e-6, Train_Loss=0.00341]\n",
      "100%|██████████| 58/58 [00:10<00:00,  5.35it/s, Epoch=145, LR=6.89e-6, Valid_Loss=0.449]\n"
     ]
    },
    {
     "name": "stdout",
     "output_type": "stream",
     "text": [
      "max:12.155915\n",
      "mean:5.275858\n",
      "min:0.8406209\n",
      "acc:0.6961206896551724\n",
      "mse:0.49568966\n",
      "max:12.05178165435791\n",
      "mean:5.047630357626573\n",
      "min:0.7953659296035767\n",
      "test mse:0.42006513265174206\n",
      "test acc:0.7126213592233009\n",
      "PREDS TYPE:<class 'list'>\n",
      "\n"
     ]
    },
    {
     "name": "stderr",
     "output_type": "stream",
     "text": [
      "100%|██████████| 522/522 [09:03<00:00,  1.04s/it, Epoch=146, LR=5.5e-6, Train_Loss=0.00297]\n",
      "100%|██████████| 58/58 [00:10<00:00,  5.31it/s, Epoch=146, LR=5.5e-6, Valid_Loss=0.429]\n"
     ]
    },
    {
     "name": "stdout",
     "output_type": "stream",
     "text": [
      "max:12.1501255\n",
      "mean:5.35573\n",
      "min:0.8460284\n",
      "acc:0.7219827586206896\n",
      "mse:0.4698276\n",
      "max:12.10616683959961\n",
      "mean:5.116186583157882\n",
      "min:0.810073733329773\n",
      "test mse:0.3732760539266583\n",
      "test acc:0.7029126213592233\n",
      "PREDS TYPE:<class 'list'>\n",
      "\n"
     ]
    },
    {
     "name": "stderr",
     "output_type": "stream",
     "text": [
      "100%|██████████| 522/522 [09:02<00:00,  1.04s/it, Epoch=147, LR=4.11e-6, Train_Loss=0.00281]\n",
      "100%|██████████| 58/58 [00:10<00:00,  5.40it/s, Epoch=147, LR=4.11e-6, Valid_Loss=0.421]\n"
     ]
    },
    {
     "name": "stdout",
     "output_type": "stream",
     "text": [
      "max:12.378272\n",
      "mean:5.3481374\n",
      "min:0.7992753\n",
      "acc:0.7176724137931034\n",
      "mse:0.46336207\n",
      "max:12.22364330291748\n",
      "mean:5.114259399951083\n",
      "min:0.7926304340362549\n",
      "test mse:0.3808327902683236\n",
      "test acc:0.7067961165048544\n",
      "PREDS TYPE:<class 'list'>\n",
      "\u001b[34mValidation AUC Improved (0.4676724076271057 ---> 0.46336206793785095)\n",
      "Model Saved\n",
      "\n"
     ]
    },
    {
     "name": "stderr",
     "output_type": "stream",
     "text": [
      "100%|██████████| 522/522 [09:03<00:00,  1.04s/it, Epoch=148, LR=2.85e-6, Train_Loss=0.00252]\n",
      "100%|██████████| 58/58 [00:10<00:00,  5.37it/s, Epoch=148, LR=2.85e-6, Valid_Loss=0.429]\n"
     ]
    },
    {
     "name": "stdout",
     "output_type": "stream",
     "text": [
      "max:12.242857\n",
      "mean:5.3463626\n",
      "min:0.8310713\n",
      "acc:0.7112068965517241\n",
      "mse:0.48060346\n",
      "max:12.030179023742676\n",
      "mean:5.106485194141425\n",
      "min:0.8176922798156738\n",
      "test mse:0.3633939599079187\n",
      "test acc:0.7087378640776699\n",
      "PREDS TYPE:<class 'list'>\n",
      "\n"
     ]
    },
    {
     "name": "stderr",
     "output_type": "stream",
     "text": [
      "100%|██████████| 522/522 [09:02<00:00,  1.04s/it, Epoch=149, LR=1.86e-6, Train_Loss=0.00236]\n",
      "100%|██████████| 58/58 [00:10<00:00,  5.40it/s, Epoch=149, LR=1.86e-6, Valid_Loss=0.418]\n"
     ]
    },
    {
     "name": "stdout",
     "output_type": "stream",
     "text": [
      "max:12.37499\n",
      "mean:5.3785977\n",
      "min:0.81571335\n",
      "acc:0.7112068965517241\n",
      "mse:0.48060346\n",
      "max:12.261574745178223\n",
      "mean:5.136827928927338\n",
      "min:0.8317228555679321\n",
      "test mse:0.3525567820198193\n",
      "test acc:0.7145631067961165\n",
      "PREDS TYPE:<class 'list'>\n",
      "\n"
     ]
    },
    {
     "name": "stderr",
     "output_type": "stream",
     "text": [
      "100%|██████████| 522/522 [09:02<00:00,  1.04s/it, Epoch=150, LR=1.22e-6, Train_Loss=0.00209]\n",
      "100%|██████████| 58/58 [00:10<00:00,  5.35it/s, Epoch=150, LR=1.22e-6, Valid_Loss=0.417]\n"
     ]
    },
    {
     "name": "stdout",
     "output_type": "stream",
     "text": [
      "max:12.390925\n",
      "mean:5.3547354\n",
      "min:0.7942812\n",
      "acc:0.709051724137931\n",
      "mse:0.47198275\n",
      "max:12.244719505310059\n",
      "mean:5.114278649357916\n",
      "min:0.7738094925880432\n",
      "test mse:0.3421938653440934\n",
      "test acc:0.7087378640776699\n",
      "PREDS TYPE:<class 'list'>\n",
      "\n"
     ]
    },
    {
     "name": "stderr",
     "output_type": "stream",
     "text": [
      "100%|██████████| 522/522 [09:02<00:00,  1.04s/it, Epoch=151, LR=1e-6, Train_Loss=0.00207]\n",
      "100%|██████████| 58/58 [00:10<00:00,  5.38it/s, Epoch=151, LR=1e-6, Valid_Loss=0.428]\n"
     ]
    },
    {
     "name": "stdout",
     "output_type": "stream",
     "text": [
      "max:12.322118\n",
      "mean:5.351932\n",
      "min:0.8320198\n",
      "acc:0.7155172413793104\n",
      "mse:0.48706895\n",
      "max:12.316566467285156\n",
      "mean:5.1091207890834625\n",
      "min:0.7943648099899292\n",
      "test mse:0.3749456928692684\n",
      "test acc:0.7165048543689321\n",
      "PREDS TYPE:<class 'list'>\n",
      "\n"
     ]
    },
    {
     "name": "stderr",
     "output_type": "stream",
     "text": [
      "100%|██████████| 522/522 [09:03<00:00,  1.04s/it, Epoch=152, LR=1.22e-6, Train_Loss=0.00213]\n",
      "100%|██████████| 58/58 [00:10<00:00,  5.38it/s, Epoch=152, LR=1.22e-6, Valid_Loss=0.421]\n"
     ]
    },
    {
     "name": "stdout",
     "output_type": "stream",
     "text": [
      "max:12.406384\n",
      "mean:5.351374\n",
      "min:0.83890176\n",
      "acc:0.7112068965517241\n",
      "mse:0.48060346\n",
      "max:12.327987670898438\n",
      "mean:5.104920378009092\n",
      "min:0.8309170007705688\n",
      "test mse:0.3620547737067491\n",
      "test acc:0.7009708737864078\n",
      "PREDS TYPE:<class 'list'>\n",
      "\n"
     ]
    },
    {
     "name": "stderr",
     "output_type": "stream",
     "text": [
      "100%|██████████| 522/522 [09:03<00:00,  1.04s/it, Epoch=153, LR=1.86e-6, Train_Loss=0.00209]\n",
      "100%|██████████| 58/58 [00:10<00:00,  5.40it/s, Epoch=153, LR=1.86e-6, Valid_Loss=0.425]\n"
     ]
    },
    {
     "name": "stdout",
     "output_type": "stream",
     "text": [
      "max:12.341254\n",
      "mean:5.3317204\n",
      "min:0.82155687\n",
      "acc:0.7133620689655172\n",
      "mse:0.4849138\n",
      "max:12.24599552154541\n",
      "mean:5.090549042386916\n",
      "min:0.7879732251167297\n",
      "test mse:0.37282036506597804\n",
      "test acc:0.6970873786407767\n",
      "PREDS TYPE:<class 'list'>\n",
      "\n"
     ]
    },
    {
     "name": "stderr",
     "output_type": "stream",
     "text": [
      "100%|██████████| 522/522 [09:03<00:00,  1.04s/it, Epoch=154, LR=2.85e-6, Train_Loss=0.00218]\n",
      "100%|██████████| 58/58 [00:10<00:00,  5.33it/s, Epoch=154, LR=2.85e-6, Valid_Loss=0.419]\n"
     ]
    },
    {
     "name": "stdout",
     "output_type": "stream",
     "text": [
      "max:12.303976\n",
      "mean:5.3530717\n",
      "min:0.8567763\n",
      "acc:0.7133620689655172\n",
      "mse:0.4676724\n",
      "max:12.176576614379883\n",
      "mean:5.117788712723741\n",
      "min:0.7984459400177002\n",
      "test mse:0.36598941134413093\n",
      "test acc:0.7048543689320388\n",
      "PREDS TYPE:<class 'list'>\n",
      "\n"
     ]
    },
    {
     "name": "stderr",
     "output_type": "stream",
     "text": [
      "100%|██████████| 522/522 [09:03<00:00,  1.04s/it, Epoch=155, LR=4.11e-6, Train_Loss=0.00236]\n",
      "100%|██████████| 58/58 [00:10<00:00,  5.30it/s, Epoch=155, LR=4.11e-6, Valid_Loss=0.449]\n"
     ]
    },
    {
     "name": "stdout",
     "output_type": "stream",
     "text": [
      "max:12.158021\n",
      "mean:5.3398204\n",
      "min:0.8513036\n",
      "acc:0.7047413793103449\n",
      "mse:0.51293105\n",
      "max:11.845756530761719\n",
      "mean:5.0969665891915845\n",
      "min:0.8310561776161194\n",
      "test mse:0.37803884461401577\n",
      "test acc:0.6951456310679611\n",
      "PREDS TYPE:<class 'list'>\n",
      "\n"
     ]
    },
    {
     "name": "stderr",
     "output_type": "stream",
     "text": [
      "100%|██████████| 522/522 [09:03<00:00,  1.04s/it, Epoch=156, LR=5.5e-6, Train_Loss=0.00269]\n",
      "100%|██████████| 58/58 [00:10<00:00,  5.39it/s, Epoch=156, LR=5.5e-6, Valid_Loss=0.428]\n"
     ]
    },
    {
     "name": "stdout",
     "output_type": "stream",
     "text": [
      "max:12.119841\n",
      "mean:5.3637357\n",
      "min:0.82457477\n",
      "acc:0.7219827586206896\n",
      "mse:0.45905173\n",
      "max:12.168438911437988\n",
      "mean:5.125035946346023\n",
      "min:0.8062036633491516\n",
      "test mse:0.33476989362630794\n",
      "test acc:0.7048543689320388\n",
      "PREDS TYPE:<class 'list'>\n",
      "\u001b[34mValidation AUC Improved (0.46336206793785095 ---> 0.4590517282485962)\n",
      "Model Saved\n",
      "\n"
     ]
    },
    {
     "name": "stderr",
     "output_type": "stream",
     "text": [
      "100%|██████████| 522/522 [09:03<00:00,  1.04s/it, Epoch=157, LR=6.89e-6, Train_Loss=0.003]  \n",
      "100%|██████████| 58/58 [00:10<00:00,  5.40it/s, Epoch=157, LR=6.89e-6, Valid_Loss=0.428]\n"
     ]
    },
    {
     "name": "stdout",
     "output_type": "stream",
     "text": [
      "max:12.615285\n",
      "mean:5.3500295\n",
      "min:0.80662924\n",
      "acc:0.7068965517241379\n",
      "mse:0.47844827\n",
      "max:12.616998672485352\n",
      "mean:5.108726416050809\n",
      "min:0.8224177956581116\n",
      "test mse:0.34202338322682835\n",
      "test acc:0.7106796116504854\n",
      "PREDS TYPE:<class 'list'>\n",
      "\n"
     ]
    },
    {
     "name": "stderr",
     "output_type": "stream",
     "text": [
      "100%|██████████| 522/522 [09:04<00:00,  1.04s/it, Epoch=158, LR=8.15e-6, Train_Loss=0.00299]\n",
      "100%|██████████| 58/58 [00:10<00:00,  5.39it/s, Epoch=158, LR=8.15e-6, Valid_Loss=0.441]\n"
     ]
    },
    {
     "name": "stdout",
     "output_type": "stream",
     "text": [
      "max:12.500465\n",
      "mean:5.401771\n",
      "min:0.7899225\n",
      "acc:0.7327586206896551\n",
      "mse:0.4676724\n",
      "max:12.540635108947754\n",
      "mean:5.1404503883667365\n",
      "min:0.7890689373016357\n",
      "test mse:0.3715652645808429\n",
      "test acc:0.7126213592233009\n",
      "PREDS TYPE:<class 'list'>\n",
      "\n"
     ]
    },
    {
     "name": "stderr",
     "output_type": "stream",
     "text": [
      "100%|██████████| 522/522 [09:02<00:00,  1.04s/it, Epoch=159, LR=9.14e-6, Train_Loss=0.00338]\n",
      "100%|██████████| 58/58 [00:10<00:00,  5.41it/s, Epoch=159, LR=9.14e-6, Valid_Loss=0.428]\n"
     ]
    },
    {
     "name": "stdout",
     "output_type": "stream",
     "text": [
      "max:12.271923\n",
      "mean:5.354\n",
      "min:0.8893551\n",
      "acc:0.6939655172413793\n",
      "mse:0.48706895\n",
      "max:12.2681245803833\n",
      "mean:5.119750202975227\n",
      "min:0.838771402835846\n",
      "test mse:0.3255755210688473\n",
      "test acc:0.7048543689320388\n",
      "PREDS TYPE:<class 'list'>\n",
      "\n"
     ]
    },
    {
     "name": "stderr",
     "output_type": "stream",
     "text": [
      " 62%|██████▏   | 326/522 [05:40<03:24,  1.04s/it, Epoch=160, LR=9.78e-6, Train_Loss=0.00331]"
     ]
    }
   ],
   "source": [
    "from sklearn.metrics import accuracy_score, mean_squared_error\n",
    "\n",
    "plt.rcParams['figure.dpi'] = 150\n",
    "\n",
    "def fetch_scheduler(optimizer):\n",
    "    if CONFIG.scheduler == 'CosineAnnealingLR':\n",
    "        scheduler = lr_scheduler.CosineAnnealingLR(optimizer, T_max=CONFIG.T_max, eta_min=CONFIG.min_lr)\n",
    "    elif CONFIG.scheduler == 'CosineAnnealingWarmRestarts':\n",
    "        scheduler = lr_scheduler.CosineAnnealingWarmRestarts(optimizer, T_0=CONFIG.T_0, T_mult=1, eta_min=CONFIG.min_lr)\n",
    "    elif CONFIG.scheduler == None:\n",
    "        return None\n",
    "    \n",
    "        \n",
    "    return scheduler\n",
    "\n",
    "optimizer = optim.Adam(model.parameters(), lr=CONFIG.learning_rate, weight_decay=CONFIG.weight_decay)\n",
    "scheduler = fetch_scheduler(optimizer)\n",
    "\n",
    "print(CONFIG.device)\n",
    "print(CONFIG.epochs)\n",
    "#test_img = np.stack(df_test['image'].values  , axis=0)\n",
    "#test_img = test_img * 1.0/255.0\n",
    "print(type(test_imgs))\n",
    "print(test_imgs.shape)\n",
    "print(type(test_age))\n",
    "print(\"#########\")\n",
    "print(type(train_imgs))\n",
    "print(train_imgs.shape)\n",
    "\n",
    "test_img = torch.from_numpy(test_imgs)\n",
    "print(\"test_img shape:\"+str( test_imgs.shape) )\n",
    "print(\"test_img[0].shape:\"+str( test_imgs[0].shape))\n",
    "#test_img.to(CONFIG.device)\n",
    "print(\"max test_imgs0 value:\"+str( np.max(test_imgs[0]) ) )\n",
    "print(\"min test_imgs0 value:\"+str( np.min(test_imgs[0]) ) )\n",
    "\n",
    "a_seed = CONFIG.KERAS_TRAIN_TEST_SEED #2021\n",
    "numberOfFolds = CONFIG.n_fold #5\n",
    "kfold = StratifiedKFold(n_splits=numberOfFolds, random_state=a_seed, shuffle=True)\n",
    "#for i in range(0,5):\n",
    "#CONFIG.epochs=5\n",
    "test_15 = pd.DataFrame()\n",
    "for fold, (train_idx, val_idx) in enumerate(kfold.split(train_imgs, train_age.tolist())):\n",
    "    #train_loader, valid_loader = prepare_data(fold=i)\n",
    "    ######## K-FOLD Start #################\n",
    "    train_imgs_new = train_imgs[train_idx]\n",
    "    train_age_new = train_age[train_idx]\n",
    "    val_imgs_new = train_imgs[val_idx]\n",
    "    val_age_new = train_age[val_idx]\n",
    "    \n",
    "    train_dataset = codDataset(train_imgs_new, train_age_new, data_transforms[\"train\"])\n",
    "    valid_dataset = codDataset(val_imgs_new, val_age_new, data_transforms[\"valid\"])\n",
    "\n",
    "    train_loader = DataLoader(train_dataset, batch_size=CONFIG.train_batch_size, \n",
    "                              num_workers=0, shuffle=True, pin_memory=True)\n",
    "    valid_loader = DataLoader(valid_dataset, batch_size=CONFIG.valid_batch_size, \n",
    "                              num_workers=0, shuffle=False, pin_memory=True)\n",
    "    ######################### K-FOLD End #########################\n",
    "    model, history, best_model_wts = run(model, optimizer, scheduler, train_loader, valid_loader, fold, test_imgs)\n",
    "\n",
    "    fig = plt.figure(figsize=(5, 5))\n",
    "    with torch.no_grad():\n",
    "        PREDS_TEST  = []\n",
    "        \n",
    "        ceil_step = int(test_imgs.shape[0] / 25) + int(test_imgs.shape[0] % 25 > 0)\n",
    "        for i in range(0, ceil_step):\n",
    "            start_step = i * 25\n",
    "            preds = model( torch.Tensor(test_imgs[start_step:start_step+25]).to(CONFIG.device) )\n",
    "            preds = preds.cpu().detach().numpy()\n",
    "            preds = preds.flatten()\n",
    "            PREDS_TEST.extend(preds.tolist())\n",
    "            \n",
    "            if i == 0 :\n",
    "                fig = plt.figure(figsize=(5, 5))\n",
    "                plt.subplots_adjust(hspace = 2.0)\n",
    "                #test_imgs.shape[0]\n",
    "                for j in range(0, 25):\n",
    "                    fig.add_subplot(5, 5, j+1)\n",
    "                    \n",
    "                    tmp = test_imgs[j]\n",
    "                    channel1 = tmp[0:9:3,:,:]\n",
    "                    channel2 = tmp[1:9:3,:,:]\n",
    "                    channel3 = tmp[2:9:3,:,:]\n",
    "                    channel1 = np.mean(channel1, axis=0 )\n",
    "                    channel2 = np.mean(channel2, axis=0 )\n",
    "                    channel3 = np.mean(channel3, axis=0 )\n",
    "                    d3_img = np.stack((channel1, channel2, channel3), axis=0)\n",
    "                    plt.imshow( d3_img.transpose(1,2,0) )\n",
    "                    \n",
    "                    #plt.imshow( test_imgs[j].transpose(1,2,0) )\n",
    "                    plt.title(f'{preds[j]:.2f} ,{test_age[j]}')\n",
    "                    plt.xticks([])\n",
    "                    plt.yticks([])\n",
    "                plt.tight_layout()\n",
    "                plt.show()\n",
    "\n",
    "        print(\"max:\"+str(np.max( PREDS_TEST )))\n",
    "        print(\"mean:\"+str(np.mean( PREDS_TEST )))\n",
    "        print(\"min:\"+str(np.min( PREDS_TEST )))\n",
    "\n",
    "        ROUNDED_PREDS_TEST = np.asarray(PREDS_TEST).round().astype('int')\n",
    "        #print(ROUNDED_PREDS_TEST ) \n",
    "        #print(type(ROUNDED_PREDS_TEST))\n",
    "        #print(ROUNDED_PREDS_TEST.shape)\n",
    "\n",
    "        print(\"test mse:\"+str( mean_squared_error(PREDS_TEST, test_age) )) \n",
    "        print(\"test acc:\"+str( accuracy_score(ROUNDED_PREDS_TEST.tolist(), test_age.tolist() ) )) \n",
    "        print(\"PREDS TYPE:\"+str(type(PREDS_TEST)))\n",
    "        #print(PREDS_TEST.shape) ##list\n",
    "        #print(\"PREDS:\"+str(ROUNDED_PREDS_TEST))\n",
    "        #print(\"TRUE:\"+str(test_age))\n",
    "\n",
    "        del model\n",
    "        model = codModel(CONFIG.model_name)\n",
    "        model.to(CONFIG.device);\n",
    "        \n",
    "        optimizer = optim.Adam(model.parameters(), lr=CONFIG.learning_rate, weight_decay=CONFIG.weight_decay)\n",
    "        scheduler = fetch_scheduler(optimizer)\n",
    "        test_15[str(fold)] = PREDS_TEST\n",
    "        test_15.to_csv(CONFIG.ROOTDIR+'preds_'+str(fold)+'.csv', index=False)\n",
    "        \n",
    "test_15.to_csv(CONFIG.ROOTDIR+'preds.csv', index=False)"
   ]
  }
 ],
 "metadata": {
  "kernelspec": {
   "display_name": "Python 3",
   "language": "python",
   "name": "python3"
  },
  "language_info": {
   "codemirror_mode": {
    "name": "ipython",
    "version": 3
   },
   "file_extension": ".py",
   "mimetype": "text/x-python",
   "name": "python",
   "nbconvert_exporter": "python",
   "pygments_lexer": "ipython3",
   "version": "3.8.5"
  }
 },
 "nbformat": 4,
 "nbformat_minor": 5
}
