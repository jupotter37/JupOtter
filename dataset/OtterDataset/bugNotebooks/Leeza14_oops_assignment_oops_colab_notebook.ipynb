{
  "nbformat": 4,
  "nbformat_minor": 0,
  "metadata": {
    "colab": {
      "provenance": []
    },
    "kernelspec": {
      "name": "python3",
      "display_name": "Python 3"
    },
    "language_info": {
      "name": "python"
    }
  },
  "cells": [
    {
      "cell_type": "markdown",
      "source": [
        "Q1>  **What are the five key concepts of Object-Oriented Programming (OOP)?**\n",
        "\n",
        "***1.   Encapsulation--***\n",
        "      The idea of wrapping data and the methods that work on it within a single unit.This restricts direct access to variables and methods, which can prevent accidental data modification.\n",
        "\n",
        "***2.   Abstraction--***\n",
        "The process of handling an object's complexity by abstracting certain details and presenting a concrete model.\n",
        "\n",
        "***3. Inheritance--***\n",
        "The process of acquring attributes and methods from a base class to a derived class.\n",
        "\n",
        "***4. Polymorphism--***\n",
        "The process of promoting dynamic inheritance of child classes from their parent class.\n",
        "\n",
        "***5. Classes and objects--***\n",
        "Classes are blueprints or templates that specify the characteristics and actions of things. An object is an instance of a class.\n",
        "\n",
        "**NOTE->** These features make code flexible, reusable, extensible and easy to understand.\n",
        "\n",
        "\n"
      ],
      "metadata": {
        "id": "y5Qi2zC4h0C6"
      }
    },
    {
      "cell_type": "markdown",
      "source": [
        "***Q2> Write a Python class for a `Car` with attributes for `make`, `model`, and `year`. Include a method to display the car's information.***\n",
        "\n",
        "***ANS.>***"
      ],
      "metadata": {
        "id": "hil_If3gRT-V"
      }
    },
    {
      "cell_type": "code",
      "source": [
        " # code for a car with attributes for make, model, year\n",
        " class Car :\n",
        "  def __init__(self, make, model, year):\n",
        "    self.make = make\n",
        "    self.model = model\n",
        "    self.year = year\n",
        "  def accelarate (self):\n",
        "    print('The car is accelarating.')\n",
        "  def brake (self):\n",
        "    print('The car has stopped.')"
      ],
      "metadata": {
        "id": "u9YWoqlblKHn"
      },
      "execution_count": 76,
      "outputs": []
    },
    {
      "cell_type": "code",
      "source": [
        "object = Car('Honda', 'Brezza', '2022')"
      ],
      "metadata": {
        "id": "PwHyMzkJloch"
      },
      "execution_count": 36,
      "outputs": []
    },
    {
      "cell_type": "code",
      "source": [
        "object.brake()"
      ],
      "metadata": {
        "colab": {
          "base_uri": "https://localhost:8080/"
        },
        "id": "Ndw66kTgqw5X",
        "outputId": "5592df79-7d0d-4bde-d6bc-a04b7905840d"
      },
      "execution_count": 37,
      "outputs": [
        {
          "output_type": "stream",
          "name": "stdout",
          "text": [
            "The car has stopped.\n"
          ]
        }
      ]
    },
    {
      "cell_type": "code",
      "source": [
        "object.accelarate()"
      ],
      "metadata": {
        "colab": {
          "base_uri": "https://localhost:8080/"
        },
        "id": "vTaYxWkSsKzp",
        "outputId": "1ff0086d-332b-48a6-fccc-d4b345a19e5b"
      },
      "execution_count": 38,
      "outputs": [
        {
          "output_type": "stream",
          "name": "stdout",
          "text": [
            "The car is accelarating.\n"
          ]
        }
      ]
    },
    {
      "cell_type": "code",
      "source": [
        "object.make"
      ],
      "metadata": {
        "colab": {
          "base_uri": "https://localhost:8080/",
          "height": 35
        },
        "id": "Lv0DvoPQsULR",
        "outputId": "8693c303-3b30-41fc-b4c9-0341a8f41d9f"
      },
      "execution_count": 39,
      "outputs": [
        {
          "output_type": "execute_result",
          "data": {
            "text/plain": [
              "'Honda'"
            ],
            "application/vnd.google.colaboratory.intrinsic+json": {
              "type": "string"
            }
          },
          "metadata": {},
          "execution_count": 39
        }
      ]
    },
    {
      "cell_type": "code",
      "source": [
        "object.model"
      ],
      "metadata": {
        "colab": {
          "base_uri": "https://localhost:8080/",
          "height": 35
        },
        "id": "7zmMwjaWsaFj",
        "outputId": "4a4f24a8-e23f-4a97-b837-eebf4fc0c157"
      },
      "execution_count": 40,
      "outputs": [
        {
          "output_type": "execute_result",
          "data": {
            "text/plain": [
              "'Brezza'"
            ],
            "application/vnd.google.colaboratory.intrinsic+json": {
              "type": "string"
            }
          },
          "metadata": {},
          "execution_count": 40
        }
      ]
    },
    {
      "cell_type": "code",
      "source": [
        "object.year"
      ],
      "metadata": {
        "colab": {
          "base_uri": "https://localhost:8080/",
          "height": 35
        },
        "id": "8DUqmGX4sdRy",
        "outputId": "b7f92e90-a7aa-4a72-9389-9680e5f34852"
      },
      "execution_count": 41,
      "outputs": [
        {
          "output_type": "execute_result",
          "data": {
            "text/plain": [
              "'2022'"
            ],
            "application/vnd.google.colaboratory.intrinsic+json": {
              "type": "string"
            }
          },
          "metadata": {},
          "execution_count": 41
        }
      ]
    },
    {
      "cell_type": "markdown",
      "source": [
        "**Q3>  Explain the difference between instance methods and class methods. Provide an example of each.**\n",
        "\n",
        "**ANS.>** Each method serves a distinct purpose and contributes to the overall flexibility and functionality of object-oriented programming in Python.\n",
        "\n",
        "***INSTANCE METHOD--***\n",
        "These are the most common type of methods in Python classes. They are associated with instances of a class and operate on the instance’s data. When defining an instance method, the method’s first parameter is typically named self, which refers to the instance calling the method. This allows the method to access and manipulate the instance’s attributes.\n",
        "\n",
        "***CLASS METHOD--***\n",
        "Class methods are associated with the class rather than instances. They are defined using the @classmethod decorator and take the class itself as the first parameter, usually named cls. Class methods are useful for tasks that involve the class rather than the instance, such as creating class-specific behaviors or modifying class-level attributes.\n"
      ],
      "metadata": {
        "id": "DN_qHpLts0jO"
      }
    },
    {
      "cell_type": "code",
      "source": [
        "# example of instance method--\n",
        "class Person:\n",
        "    def __init__(self, name, age):\n",
        "        self.name = name\n",
        "        self.age = age\n",
        "\n",
        "    def introduce(self):\n",
        "        return f\"Hi, I'm {self.name} and I'm {self.age} years old.\""
      ],
      "metadata": {
        "id": "gRa6FJSUu9Ky"
      },
      "execution_count": null,
      "outputs": []
    },
    {
      "cell_type": "code",
      "source": [
        "# creating an instance of the class\n",
        "person1 = Person(\"Leeza\", 22)\n",
        "#calling the instance method\n",
        "print(person1.introduce())"
      ],
      "metadata": {
        "colab": {
          "base_uri": "https://localhost:8080/"
        },
        "id": "_XspPp9FvTR_",
        "outputId": "241a391f-bc18-4158-c678-74493377883f"
      },
      "execution_count": null,
      "outputs": [
        {
          "output_type": "stream",
          "name": "stdout",
          "text": [
            "Hi, I'm Leeza and I'm 22 years old.\n"
          ]
        }
      ]
    },
    {
      "cell_type": "code",
      "source": [
        "# example of class method--\n",
        "class Student:\n",
        "    def __init__(self, name):\n",
        "        self.name = name\n",
        "\n",
        "    @classmethod\n",
        "    def student_details(cls, name1):\n",
        "        return cls(name1)"
      ],
      "metadata": {
        "id": "klz7SMrGv09y"
      },
      "execution_count": null,
      "outputs": []
    },
    {
      "cell_type": "code",
      "source": [
        "# creating an instance of class\n",
        "stud = Student.student_details(\"Preeti\")\n"
      ],
      "metadata": {
        "id": "bNoPuAdIxOvR"
      },
      "execution_count": null,
      "outputs": []
    },
    {
      "cell_type": "code",
      "source": [
        "stud.name"
      ],
      "metadata": {
        "colab": {
          "base_uri": "https://localhost:8080/",
          "height": 35
        },
        "id": "4I26gu61xmEI",
        "outputId": "991ccbb5-a7d1-4f41-e320-6dbbc18def9e"
      },
      "execution_count": null,
      "outputs": [
        {
          "output_type": "execute_result",
          "data": {
            "text/plain": [
              "'Preeti'"
            ],
            "application/vnd.google.colaboratory.intrinsic+json": {
              "type": "string"
            }
          },
          "metadata": {},
          "execution_count": 24
        }
      ]
    },
    {
      "cell_type": "markdown",
      "source": [
        "***Q4> How does Python implement method overloading? Give an example.***\n",
        "   \n",
        "  **ANS.>** Method overloading is a feature of object-oriented programming where a class can have multiple methods with the same name but different parameters. To overload method, we must change the number of parameters or the type of parameters, or both.\n",
        "\n",
        "*   Method overloading is the class having methods that are the same name with different arguments.\n",
        "*   Argumets difference will be based on number of arguments and type of arguments.\n",
        "*   It is used in a single class.\n",
        "\n"
      ],
      "metadata": {
        "id": "g8FDnHVlyOmT"
      }
    },
    {
      "cell_type": "code",
      "source": [
        "# example of method overloading--\n",
        "class Student:\n",
        "    def student(self):\n",
        "        print(\"Wecome to the class\")\n",
        "    def student(self, name = \"\"):\n",
        "        print(\"Wecome to class\", name)\n",
        "    def student(self, name = \"\", course = \"\"):\n",
        "        print(\"Wecome to class\", name, course)"
      ],
      "metadata": {
        "id": "JnmUJijh0xHC"
      },
      "execution_count": 42,
      "outputs": []
    },
    {
      "cell_type": "code",
      "source": [
        "stud = Student()"
      ],
      "metadata": {
        "id": "vtwIGxF43Xyt"
      },
      "execution_count": 43,
      "outputs": []
    },
    {
      "cell_type": "code",
      "source": [
        "stud.student()"
      ],
      "metadata": {
        "colab": {
          "base_uri": "https://localhost:8080/"
        },
        "id": "R4AiAoxL3qQT",
        "outputId": "2727c9a6-58f7-4a36-f39e-8156a6a6bd22"
      },
      "execution_count": 44,
      "outputs": [
        {
          "output_type": "stream",
          "name": "stdout",
          "text": [
            "Wecome to class  \n"
          ]
        }
      ]
    },
    {
      "cell_type": "code",
      "source": [
        "stud.student(\"Leeza\")"
      ],
      "metadata": {
        "colab": {
          "base_uri": "https://localhost:8080/"
        },
        "id": "4a1zZA8m3zFn",
        "outputId": "5d29b76c-ca74-44e1-f43d-2e26b3642488"
      },
      "execution_count": 45,
      "outputs": [
        {
          "output_type": "stream",
          "name": "stdout",
          "text": [
            "Wecome to class Leeza \n"
          ]
        }
      ]
    },
    {
      "cell_type": "code",
      "source": [
        "stud.student(\"Leeza\",\"Data_Analytics\")"
      ],
      "metadata": {
        "colab": {
          "base_uri": "https://localhost:8080/"
        },
        "id": "9VP7BRxN4MIQ",
        "outputId": "cc43fdad-e6e8-4c45-de7e-80d52ce9288f"
      },
      "execution_count": 46,
      "outputs": [
        {
          "output_type": "stream",
          "name": "stdout",
          "text": [
            "Wecome to class Leeza Data_Analytics\n"
          ]
        }
      ]
    },
    {
      "cell_type": "markdown",
      "source": [
        "***Q5> What are the three types of access modifiers in Python? How are they denoted?***\n",
        "\n",
        " **ANS.>** Python supports three types of access modifiers which are public,private and protected. These access modifiers provide restrictions on the access of member variables and methods of the class from any object outside the class.\n",
        "\n",
        "***1.  PUBLIC ACCESS MODIFIER--***\n",
        "By default the member variables and methods are public which means they can be accessed from anywhere outside or inside the class. No public keyword is required to make the class or methods and properties public.\n",
        "\n",
        "***2.  PRIVATE ACCESS MODIFIER--***\n",
        "Class properties and methods with private access modifier can only be accessed within the class where they are defined and cannot be accessed outside the class. In Python private properties and methods are declared by adding a prefix with two underscores(‘__’) before their declaration.\n",
        "\n",
        "***3.  PROTECTED ACCESS MODIFIER--***\n",
        "Class properties and methods with protected access modifier can be accessed within the class and from the class that inherits the protected class. In python, protected members and methods are declared using single underscore(‘_’) as prefix before their names.\n"
      ],
      "metadata": {
        "id": "U1PBhvJa8U15"
      }
    },
    {
      "cell_type": "code",
      "source": [
        "# Example of public access modifier--\n",
        "class Student:\n",
        "   def __init__(self, name, age):\n",
        "      self.name = name\n",
        "      self.age = age\n",
        "\n",
        "   def display(self):\n",
        "      print(\"Name:\", self.name)\n",
        "      print(\"Age:\", self.age)\n",
        "\n",
        "s = Student(\"John\", 20)\n",
        "s.display()\n"
      ],
      "metadata": {
        "id": "kXE52DSa4aGx",
        "colab": {
          "base_uri": "https://localhost:8080/"
        },
        "outputId": "ecee156e-3f99-4797-a888-8e4f921d1ae5"
      },
      "execution_count": 50,
      "outputs": [
        {
          "output_type": "stream",
          "name": "stdout",
          "text": [
            "Name: John\n",
            "Age: 20\n"
          ]
        }
      ]
    },
    {
      "cell_type": "code",
      "source": [
        "# Example of private access modifier--\n",
        "class BankAccount:\n",
        "   def __init__(self, account_number, balance):\n",
        "      self.__account_number = account_number\n",
        "      self.__balance = balance\n",
        "\n",
        "   def __display_balance(self):\n",
        "      print(\"Balance:\", self.__balance)\n",
        "\n"
      ],
      "metadata": {
        "id": "7Uwex--C_hNQ"
      },
      "execution_count": 51,
      "outputs": []
    },
    {
      "cell_type": "code",
      "source": [
        "# to call private method put name of class with underscore before it, otherwise it will throw an error.\n",
        "b = BankAccount(1234567890, 5000)\n",
        "b._BankAccount__display_balance()"
      ],
      "metadata": {
        "colab": {
          "base_uri": "https://localhost:8080/"
        },
        "id": "f-47NbI9AbzE",
        "outputId": "88b46f6b-e051-4ed5-a141-2d0c56dbb800"
      },
      "execution_count": 54,
      "outputs": [
        {
          "output_type": "stream",
          "name": "stdout",
          "text": [
            "Balance: 5000\n"
          ]
        }
      ]
    },
    {
      "cell_type": "code",
      "source": [
        "# example of protected access modifier--\n",
        "class Person:\n",
        "   def __init__(self, name, age):\n",
        "      self._name = name\n",
        "      self._age = age\n",
        "\n",
        "   def _display(self):\n",
        "      print(\"Name:\", self._name)\n",
        "      print(\"Age:\", self._age)\n",
        "\n",
        "class Student(Person):\n",
        "   def __init__(self, name, age, roll_number):\n",
        "      super().__init__(name, age)\n",
        "      self._roll_number = roll_number\n",
        "\n",
        "   def display(self):\n",
        "      self._display()\n",
        "      print(\"Roll Number:\", self._roll_number)\n"
      ],
      "metadata": {
        "id": "bKnvcv3QBL6B"
      },
      "execution_count": 55,
      "outputs": []
    },
    {
      "cell_type": "code",
      "source": [
        "s = Student(\"Meghna\", 24, 324)\n",
        "s.display()"
      ],
      "metadata": {
        "colab": {
          "base_uri": "https://localhost:8080/"
        },
        "id": "RuBEXDBGB5hZ",
        "outputId": "ea25ab32-da59-4162-fc67-c9a4944a0f9c"
      },
      "execution_count": 56,
      "outputs": [
        {
          "output_type": "stream",
          "name": "stdout",
          "text": [
            "Name: Meghna\n",
            "Age: 24\n",
            "Roll Number: 324\n"
          ]
        }
      ]
    },
    {
      "cell_type": "markdown",
      "source": [
        "***Q6> Describe the five types of inheritance in Python. Provide a simple example of multiple inheritance.***\n",
        "\n",
        "**ANS.>** Types of Inheritance depend upon the number of child and parent classes involved.\n",
        "\n",
        "1.   ***SINGLE INHERITENCE--*** Single inheritance enables a derived class to inherit properties from a single parent class, thus enabling code reusability and the addition of new features to existing code.\n",
        "\n",
        "2.   ***MULTIPLE INHERITANCE--*** When a class can be derived from more than one base class this type of inheritance is called multiple inheritances. In multiple inheritances, all the features of the base classes are inherited into the derived class.\n",
        "\n",
        "3.  ***MULTILEVEL INHERITENCE--*** In multilevel inheritance, features of the base class and the derived class are further inherited into the new derived class. This is similar to a relationship representing a child and a grandfather.\n",
        "\n",
        "4.  ***HIERARCHIAL INHERITENCE--***  When more than one derived class are created from a single base this type of inheritance is called hierarchical inheritance. In this program, we have a parent (base) class and two child (derived) classes.\n",
        "\n",
        "5. ***HYBRID INHERITENCE--***  Inheritance consisting of multiple types of inheritance is called hybrid inheritance.\n",
        "\n",
        "\n",
        "\n"
      ],
      "metadata": {
        "id": "am3nqEkQC_f_"
      }
    },
    {
      "cell_type": "code",
      "source": [
        "# Example of multiple inheritence--\n",
        "# Base class1\n",
        "class Mother:\n",
        "    mothername = \"\"\n",
        "\n",
        "    def mother(self):\n",
        "        print(self.mothername)\n",
        "\n",
        "# Base class2\n",
        "\n",
        "\n",
        "class Father:\n",
        "    fathername = \"\"\n",
        "\n",
        "    def father(self):\n",
        "        print(self.fathername)\n",
        "\n",
        "# Derived class\n",
        "\n",
        "\n",
        "class Son(Mother, Father):\n",
        "    def parents(self):\n",
        "        print(\"Father :\", self.fathername)\n",
        "        print(\"Mother :\", self.mothername)"
      ],
      "metadata": {
        "id": "yKKtWZLEKocR"
      },
      "execution_count": 57,
      "outputs": []
    },
    {
      "cell_type": "code",
      "source": [
        "s1 = Son()\n",
        "s1.fathername = \"RAM\"\n",
        "s1.mothername = \"SITA\"\n",
        "s1.parents()"
      ],
      "metadata": {
        "colab": {
          "base_uri": "https://localhost:8080/"
        },
        "id": "pyPVUFB-K-e3",
        "outputId": "5caba429-ded4-45e5-f92b-f07ef8463617"
      },
      "execution_count": 58,
      "outputs": [
        {
          "output_type": "stream",
          "name": "stdout",
          "text": [
            "Father : RAM\n",
            "Mother : SITA\n"
          ]
        }
      ]
    },
    {
      "cell_type": "markdown",
      "source": [
        "***Q7>  What is the Method Resolution Order (MRO) in Python? How can you retrieve it programmatically?***\n",
        "\n",
        "***ANS.>*** In python, method resolution order defines the order in which the base classes are searched when executing a method. First, the method or attribute is searched within a class and then it follows the order we specified while inheriting. This order is also called Linearization of a class and set of rules are called MRO(Method Resolution Order). While inheriting from another class, the interpreter needs a way to resolve the methods that are being called via an instance. Thus we need the method resolution order.\n"
      ],
      "metadata": {
        "id": "15180aWNLnLV"
      }
    },
    {
      "cell_type": "code",
      "source": [
        "class A:\n",
        "    def myname(self):\n",
        "        print(\"I am a class A\")\n",
        "\n",
        "class B(A):\n",
        "    def myname(self):\n",
        "        print(\"I am a class B\")\n",
        "\n",
        "class C(A):\n",
        "    def myname(self):\n",
        "        print(\"I am a class C\")\n"
      ],
      "metadata": {
        "id": "cpUiGQHQLC_d"
      },
      "execution_count": 59,
      "outputs": []
    },
    {
      "cell_type": "code",
      "source": [
        "c = C()\n",
        "print(c.myname())\n",
        "# There is a multiple inheritance in the above code. We have defined three-class called A, B, and C, and these classes have the same name method called myname(). We created an object class C. The object invoked class C, not the class, while class C inherited the class A method.\n",
        "#The order is followed in the above code is class B - > class A. This technique is known as MRO (method resolution order)."
      ],
      "metadata": {
        "colab": {
          "base_uri": "https://localhost:8080/"
        },
        "id": "3XMMVwy9ODYC",
        "outputId": "528ed4bf-af25-4d68-9c27-a4bfe172b7da"
      },
      "execution_count": 64,
      "outputs": [
        {
          "output_type": "stream",
          "name": "stdout",
          "text": [
            "I am a class C\n",
            "None\n"
          ]
        }
      ]
    },
    {
      "cell_type": "markdown",
      "source": [
        "***Q8> Create an abstract base class `Shape` with an abstract method `area()`. Then create two subclasses\n",
        "`Circle` and `Rectangle` that implement the `area()` method.***\n",
        "\n",
        "ANS"
      ],
      "metadata": {
        "id": "ez691qZ5OtV9"
      }
    },
    {
      "cell_type": "code",
      "source": [
        "class Shape:\n",
        "    import abc\n",
        "    @abc.abstractmethod\n",
        "    def calculate_area(self):\n",
        "        pass\n",
        "class Rectangle(Shape):\n",
        "    def calculate_area(self):\n",
        "        return \"Area of rectange is len*breadth\"\n",
        "class Circle(Shape):\n",
        "    def calculate_area(self):\n",
        "        return \"area of circle is pi r **2\""
      ],
      "metadata": {
        "id": "cbr-K-QgOEJF"
      },
      "execution_count": 66,
      "outputs": []
    },
    {
      "cell_type": "code",
      "source": [
        "rect = Rectangle()\n",
        "rect.calculate_area()"
      ],
      "metadata": {
        "colab": {
          "base_uri": "https://localhost:8080/",
          "height": 35
        },
        "id": "eMn1Q7u3P1cw",
        "outputId": "ffe1e5e1-3739-4d36-f032-902f81d90b18"
      },
      "execution_count": 67,
      "outputs": [
        {
          "output_type": "execute_result",
          "data": {
            "text/plain": [
              "'Area of rectange is len*breadth'"
            ],
            "application/vnd.google.colaboratory.intrinsic+json": {
              "type": "string"
            }
          },
          "metadata": {},
          "execution_count": 67
        }
      ]
    },
    {
      "cell_type": "code",
      "source": [
        "c = Circle()\n",
        "c.calculate_area()"
      ],
      "metadata": {
        "colab": {
          "base_uri": "https://localhost:8080/",
          "height": 35
        },
        "id": "DG6xZRFgQSk8",
        "outputId": "5ca8d075-b4f7-47b8-f543-06e253cfe725"
      },
      "execution_count": 68,
      "outputs": [
        {
          "output_type": "execute_result",
          "data": {
            "text/plain": [
              "'area of circle is pi r **2'"
            ],
            "application/vnd.google.colaboratory.intrinsic+json": {
              "type": "string"
            }
          },
          "metadata": {},
          "execution_count": 68
        }
      ]
    },
    {
      "cell_type": "markdown",
      "source": [
        "***Q9>  Demonstrate polymorphism by creating a function that can work with different shape objects to calculate\n",
        "and print their areas.***\n",
        "\n",
        "***ANS.>***"
      ],
      "metadata": {
        "id": "HhhR9paURJXw"
      }
    },
    {
      "cell_type": "code",
      "source": [
        "class Shape:\n",
        "  def __init__(self, name):\n",
        "    self.name = name\n",
        "\n",
        "class Circle(Shape):\n",
        "  def __init__(self, name, radius):\n",
        "    super().__init__(name)\n",
        "    self.radius = radius\n",
        "\n",
        "class Rectangle(Shape):\n",
        "  def __init__(self, name, width, height):\n",
        "    super().__init__(name)\n",
        "    self.width = width\n",
        "    self.height = height\n",
        "\n",
        "def calculate_area(shape):\n",
        "  if isinstance(shape, Circle):\n",
        "    return shape.radius ** 2 * 3.14\n",
        "  elif isinstance(shape, Rectangle):\n",
        "    return shape.width * shape.height\n"
      ],
      "metadata": {
        "id": "XM1U3IeqQdGm"
      },
      "execution_count": 77,
      "outputs": []
    },
    {
      "cell_type": "code",
      "source": [
        "circle = Circle(\"Circle\", 10)\n",
        "rectangle = Rectangle(\"Rectangle\", 20, 30)\n",
        "\n",
        "print(calculate_area(circle))\n",
        "print(calculate_area(rectangle))"
      ],
      "metadata": {
        "colab": {
          "base_uri": "https://localhost:8080/"
        },
        "id": "__4F0CR8UdSd",
        "outputId": "e4edbc83-872b-446a-e350-678191648bc5"
      },
      "execution_count": 78,
      "outputs": [
        {
          "output_type": "stream",
          "name": "stdout",
          "text": [
            "314.0\n",
            "600\n"
          ]
        }
      ]
    },
    {
      "cell_type": "markdown",
      "source": [
        "***Q10> Implement encapsulation in a `BankAccount` class with private attributes for `balance` and\n",
        "`account_number`. Include methods for deposit, withdrawal, and balance inquiry.***\n",
        "\n",
        "***ANS.>***"
      ],
      "metadata": {
        "id": "6Qp0Ui-oU3tt"
      }
    },
    {
      "cell_type": "code",
      "source": [
        "class BankAccount:\n",
        "    def __init__(self, account_number, balance):\n",
        "        # Encapsulated attributes\n",
        "        self.__account_number = account_number\n",
        "        self.__balance = balance\n",
        "\n",
        "    def deposit(self, amount):\n",
        "        # Internal implementation details\n",
        "        self.__balance += amount\n",
        "\n",
        "    def withdraw(self, amount):\n",
        "        # Internal implementation details\n",
        "        if amount <= self.__balance:\n",
        "            self.__balance -= amount\n",
        "        else:\n",
        "            print(\"Insufficient funds.\")\n",
        "\n",
        "    def get_balance(self):\n",
        "        # Interface method\n",
        "        return self.__balance\n",
        "\n",
        "class Customer:\n",
        "    def __init__(self, name, account):\n",
        "        # Encapsulated attributes\n",
        "        self.__name = name\n",
        "        self.__account = account\n",
        "\n",
        "    def display_balance(self):\n",
        "        # Accessing balance through the encapsulated interface\n",
        "        print(f\"Account balance for {self.__name}: {self.__account.get_balance()}\")\n"
      ],
      "metadata": {
        "id": "n8rOzl5hUhik"
      },
      "execution_count": 79,
      "outputs": []
    },
    {
      "cell_type": "code",
      "source": [
        "account1 = BankAccount(\"123456789\", 1000)\n",
        "customer1 = Customer(\"Leeza Rizvi\", account1)"
      ],
      "metadata": {
        "id": "lMusOOwlV1NR"
      },
      "execution_count": 80,
      "outputs": []
    },
    {
      "cell_type": "code",
      "source": [
        "customer1.display_balance()"
      ],
      "metadata": {
        "colab": {
          "base_uri": "https://localhost:8080/"
        },
        "id": "p6Bq4DbPWAFt",
        "outputId": "08ca6ff9-1844-499d-deb6-0e8fe72b9902"
      },
      "execution_count": 81,
      "outputs": [
        {
          "output_type": "stream",
          "name": "stdout",
          "text": [
            "Account balance for Leeza Rizvi: 1000\n"
          ]
        }
      ]
    },
    {
      "cell_type": "code",
      "source": [
        "account1.deposit(500)"
      ],
      "metadata": {
        "id": "Sau9FwbZWFxQ"
      },
      "execution_count": 82,
      "outputs": []
    },
    {
      "cell_type": "code",
      "source": [
        "customer1.display_balance()"
      ],
      "metadata": {
        "colab": {
          "base_uri": "https://localhost:8080/"
        },
        "id": "iENYVZ0yWOh5",
        "outputId": "72fe92d2-3448-4ae9-f5fe-9e93d90df488"
      },
      "execution_count": 83,
      "outputs": [
        {
          "output_type": "stream",
          "name": "stdout",
          "text": [
            "Account balance for Leeza Rizvi: 1500\n"
          ]
        }
      ]
    },
    {
      "cell_type": "markdown",
      "source": [
        "***Q11>  Write a class that overrides the `__str__` and `__add__` magic methods. What will these methods allow\n",
        "you to do?***\n",
        "\n",
        "***ANS.>***  Python Magic methods are the methods starting and ending with double underscores ‘__’. They are defined by built-in classes in Python and commonly used for operator overloading.\n",
        "\n",
        "They are also called Dunder methods, Dunder here means “Double Under (Underscores)”.\n",
        "\n",
        "*   ***String representation with __str__ --***\n",
        "\n",
        " The `__str__` method allows you to define a human-readable string representation for an object. This is helpful for debugging and improving the user experience when working with custom objects.\n",
        "\n",
        "*   ***Arithmetic operations with __add__--***\n",
        "\n",
        "   __add__ method in Python defines how the objects of a class will be added together. It is also known as overloaded addition operator.\n",
        "\n"
      ],
      "metadata": {
        "id": "kqwrkMTqW6Ep"
      }
    },
    {
      "cell_type": "code",
      "source": [
        "#example of __str__\n",
        "class Student:\n",
        "    def __init__(self):\n",
        "        self.phone = 999999999\n",
        "    def __str__(self): #__str__  will return a string representation of object\n",
        "        return \"This method overloads the print statement of object\""
      ],
      "metadata": {
        "id": "LzqPqMgHWSZ3"
      },
      "execution_count": 84,
      "outputs": []
    },
    {
      "cell_type": "code",
      "source": [
        "Student()"
      ],
      "metadata": {
        "colab": {
          "base_uri": "https://localhost:8080/"
        },
        "id": "EFVT8vzlapWj",
        "outputId": "4a6c4d4a-a775-40a6-b759-72ebd3c8ff58"
      },
      "execution_count": 87,
      "outputs": [
        {
          "output_type": "execute_result",
          "data": {
            "text/plain": [
              "<__main__.Student at 0x7a858635ff40>"
            ]
          },
          "metadata": {},
          "execution_count": 87
        }
      ]
    },
    {
      "cell_type": "code",
      "source": [
        "print(Student())"
      ],
      "metadata": {
        "colab": {
          "base_uri": "https://localhost:8080/"
        },
        "id": "ifvHo9yOauGK",
        "outputId": "4fab473b-d050-45c7-fbf1-3c583f1f7e53"
      },
      "execution_count": 88,
      "outputs": [
        {
          "output_type": "stream",
          "name": "stdout",
          "text": [
            "This method overloads the print statement of object\n"
          ]
        }
      ]
    },
    {
      "cell_type": "code",
      "source": [
        "#example of __add__\n",
        "class Point:\n",
        "    def __init__(self, x, y):\n",
        "        self.x = x\n",
        "        self.y = y\n",
        "    def __add__(self, other):\n",
        "        return Point(self.x + other.x,  self.y + other.y)"
      ],
      "metadata": {
        "id": "Am1D-zP4bG8G"
      },
      "execution_count": 89,
      "outputs": []
    },
    {
      "cell_type": "code",
      "source": [
        "p1 = Point(1, 2)\n",
        "p2 = Point(1, 2)\n",
        "p3 = p1+p2 #when you are using + operator with point Objects, python internally calls __add__\n",
        "print(p3.x, p3.y)"
      ],
      "metadata": {
        "colab": {
          "base_uri": "https://localhost:8080/"
        },
        "id": "z0Z8twV1b379",
        "outputId": "48ea710e-c28f-421d-e3b2-bf12a40c0d7c"
      },
      "execution_count": 90,
      "outputs": [
        {
          "output_type": "stream",
          "name": "stdout",
          "text": [
            "2 4\n"
          ]
        }
      ]
    },
    {
      "cell_type": "markdown",
      "source": [
        "***Q12> Create a decorator that measures and prints the execution time of a function.***\n",
        "\n",
        "***ANS.>***\n"
      ],
      "metadata": {
        "id": "ch9jJm9acjWp"
      }
    },
    {
      "cell_type": "code",
      "source": [
        "from functools import wraps\n",
        "import time\n",
        "\n",
        "\n",
        "def timeit(func):\n",
        "    @wraps(func)\n",
        "    def timeit_wrapper(*args, **kwargs):\n",
        "        start_time = time.perf_counter()\n",
        "        result = func(*args, **kwargs)\n",
        "        end_time = time.perf_counter()\n",
        "        total_time = end_time - start_time\n",
        "        print(f'Function {func.__name__}{args} {kwargs} Took {total_time:.4f} seconds')\n",
        "        return result\n",
        "    return timeit_wrapper\n",
        "\n",
        "\n",
        "@timeit\n",
        "def calculate_something(num):\n",
        "    \"\"\"\n",
        "    Simple function that returns sum of all numbers up to the square of num.\n",
        "    \"\"\"\n",
        "    total = sum((x for x in range(0, num**2)))\n",
        "    return total\n",
        "\n",
        "if __name__ == '__main__':\n",
        "    calculate_something(10)\n",
        "    calculate_something(100)\n",
        "    calculate_something(1000)\n",
        "    calculate_something(5000)\n",
        "    calculate_something(10000)"
      ],
      "metadata": {
        "colab": {
          "base_uri": "https://localhost:8080/"
        },
        "id": "JDoKjcWydqdF",
        "outputId": "101b8806-4248-4e60-81c8-391d164977b3"
      },
      "execution_count": 92,
      "outputs": [
        {
          "output_type": "stream",
          "name": "stdout",
          "text": [
            "Function calculate_something(10,) {} Took 0.0000 seconds\n",
            "Function calculate_something(100,) {} Took 0.0006 seconds\n",
            "Function calculate_something(1000,) {} Took 0.0698 seconds\n",
            "Function calculate_something(5000,) {} Took 2.8752 seconds\n",
            "Function calculate_something(10000,) {} Took 6.3825 seconds\n"
          ]
        }
      ]
    },
    {
      "cell_type": "markdown",
      "source": [
        "***Q13> Explain the concept of the Diamond Problem in multiple inheritance. How does Python resolve it?***\n",
        "\n",
        "***ANS.>***   The diamond problem is a typical problem that is faced in multiple inheritance in Python. It is essentially an ambiguity that is arisen when there are two classes say B and C that inherit / are derived from a single class A, and there is another class D, that is a class derived from multiple inheritance and inherits from B as well as C."
      ],
      "metadata": {
        "id": "wQja6mtEekNZ"
      }
    },
    {
      "cell_type": "code",
      "source": [
        "class A:\n",
        "    def method(self):\n",
        "        print(\"Method of class A\")\n",
        "class B(A):\n",
        "    def method(self):\n",
        "        print(\"Method of class B\")\n",
        "class C(A):\n",
        "    def method(self):\n",
        "        print(\"Method of class C\")\n",
        "class D(B, C):\n",
        "    pass"
      ],
      "metadata": {
        "id": "R8d2wki9hho7"
      },
      "execution_count": 95,
      "outputs": []
    },
    {
      "cell_type": "code",
      "source": [
        "d = D()\n",
        "d.method()"
      ],
      "metadata": {
        "colab": {
          "base_uri": "https://localhost:8080/"
        },
        "id": "Jbfi4bTlh5xV",
        "outputId": "b78e3991-c335-40ef-e65d-a9015788c3ab"
      },
      "execution_count": 96,
      "outputs": [
        {
          "output_type": "stream",
          "name": "stdout",
          "text": [
            "Method of class B\n"
          ]
        }
      ]
    },
    {
      "cell_type": "markdown",
      "source": [
        "***Q14> . Write a class method that keeps track of the number of instances created from a class.***\n",
        "\n",
        "***ANS.>***"
      ],
      "metadata": {
        "id": "dqV9M49zjVUx"
      }
    },
    {
      "cell_type": "code",
      "source": [
        "class Student:\n",
        "\n",
        "    total_students = 0 #class variable\n",
        "    def __init__(self, name):#instance method\n",
        "        self.name = name #instance variable\n",
        "        Student.total_students = Student.total_students+1 #total_student is the class variable associated with all the instances\n",
        "\n",
        "    @classmethod\n",
        "    def get_total_students(cls):\n",
        "        return cls.total_students"
      ],
      "metadata": {
        "id": "YEADAzmah89w"
      },
      "execution_count": 97,
      "outputs": []
    },
    {
      "cell_type": "code",
      "source": [
        "std1 = Student(\"Leeza\")\n",
        "std2 = Student(\"Diksha\")"
      ],
      "metadata": {
        "id": "sBAFqbddjaId"
      },
      "execution_count": 100,
      "outputs": []
    },
    {
      "cell_type": "code",
      "source": [
        "Student.total_students"
      ],
      "metadata": {
        "colab": {
          "base_uri": "https://localhost:8080/"
        },
        "id": "R4lyKqVKjfx_",
        "outputId": "ffd4d5d8-6192-49d7-e030-a98568a48d4e"
      },
      "execution_count": 99,
      "outputs": [
        {
          "output_type": "execute_result",
          "data": {
            "text/plain": [
              "2"
            ]
          },
          "metadata": {},
          "execution_count": 99
        }
      ]
    },
    {
      "cell_type": "markdown",
      "source": [
        "***Q15> . Implement a static method in a class that checks if a given year is a leap year.***\n",
        "\n",
        "***ANS.>***"
      ],
      "metadata": {
        "id": "Jprm9O0XkDaT"
      }
    },
    {
      "cell_type": "code",
      "source": [
        "class YearUtils:\n",
        "    @staticmethod\n",
        "    def is_leap_year(year):\n",
        "        \"\"\"\n",
        "        Determine if the given year is a leap year.\n",
        "\n",
        "        :param year: int, the year to check\n",
        "        :return: bool, True if the year is a leap year, False otherwise\n",
        "        \"\"\"\n",
        "        if (year % 4 == 0):\n",
        "            if (year % 100 == 0):\n",
        "                if (year % 400 == 0):\n",
        "                    return True\n",
        "                else:\n",
        "                    return False\n",
        "            else:\n",
        "                return True\n",
        "        else:\n",
        "            return False\n"
      ],
      "metadata": {
        "id": "Yp5VhnYijjcQ"
      },
      "execution_count": 106,
      "outputs": []
    },
    {
      "cell_type": "code",
      "source": [
        "year = 2024\n",
        "print(f\"Is {year} a leap year? {YearUtils.is_leap_year(year)}\")"
      ],
      "metadata": {
        "colab": {
          "base_uri": "https://localhost:8080/"
        },
        "id": "B6wpKTFdlzX1",
        "outputId": "6d8e9451-4e82-4203-c8b3-139742b71558"
      },
      "execution_count": 107,
      "outputs": [
        {
          "output_type": "stream",
          "name": "stdout",
          "text": [
            "Is 2024 a leap year? True\n"
          ]
        }
      ]
    },
    {
      "cell_type": "code",
      "source": [],
      "metadata": {
        "id": "0EirLGHZmAF5"
      },
      "execution_count": null,
      "outputs": []
    }
  ]
}