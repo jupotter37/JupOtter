{
 "metadata": {
  "name": "",
  "signature": "sha256:c9ca0ef0cb2f96573ee796a4276f00fd56c10c6be9ab076fa16204e4fdf1e929"
 },
 "nbformat": 3,
 "nbformat_minor": 0,
 "worksheets": [
  {
   "cells": [
    {
     "cell_type": "heading",
     "level": 1,
     "metadata": {},
     "source": [
      "Homework #8: Debugging"
     ]
    },
    {
     "cell_type": "markdown",
     "metadata": {},
     "source": [
      "**In this notebook, you will find a debugging summary, a revised benchmark procedure, and an example session. Two bugs were found; an iterator was being consumed and then reused again after it was already empty, and an integer was being stored inside a 1-element tuple but was not accessed properly.**"
     ]
    },
    {
     "cell_type": "heading",
     "level": 3,
     "metadata": {},
     "source": [
      "Debugging Summary"
     ]
    },
    {
     "cell_type": "markdown",
     "metadata": {},
     "source": [
      "The following is an explanation of the procedure I used to debug the program. Initially, when running the script, we receive the following runtime error:\n",
      "\n",
      "```\n",
      "Benching 1D root-finder optimizers from scipy.optimize:\n",
      "---------------------------------------------------------------------------\n",
      "TypeError                                 Traceback (most recent call last)\n",
      "<ipython-input-2-7c78d3c0dd2a> in <module>()\n",
      "----> 1 benchmark.compare_optimizers(benchmark.OPTIMIZERS)\n",
      "\n",
      "/Users/cosmo/2014_Astr599_HW/cosmoharrigan/benchmark.py in compare_optimizers(optimizers)\n",
      "     55     print(\"Benching 1D root-finder optimizers from scipy.optimize:\")\n",
      "     56     for optimizer in OPTIMIZERS:\n",
      "---> 57         ncalls = bench_optimizer(optimizer, param_grid)\n",
      "     58         print('{name}: {ncalls} total function calls'.format(\n",
      "     59             name=optimizer.__name__, ncalls=ncalls))\n",
      "\n",
      "/Users/cosmo/2014_Astr599_HW/cosmoharrigan/benchmark.py in bench_optimizer(optimizer, param_grid)\n",
      "     42     return sum(apply_optimizer(optimizer, func, a, b)\n",
      "---> 43                for func, a, b in param_grid)\n",
      "     44\n",
      "     \n",
      "TypeError: unsupported operand type(s) for +: 'int' and 'tuple'\n",
      "```\n",
      "\n",
      "I started by using **pdb**, but I quickly wanted autocomplete to investigate the properties of objects like\n",
      "**param_grid**, so I switched to injecting an instance of IPython into the script.\n",
      "\n",
      "I found that you can use the magic function **%who** to list objects that have been created in the current namespace.\n",
      "\n",
      "Using **?product** I found that it returns a generator of the cartesian product of input iterables. Thus it returns\n",
      "ordered pairs.\n",
      "\n",
      "I noticed that the error message was:\n",
      "```\n",
      "TypeError: unsupported operand type(s) for +: 'int' and 'tuple'\n",
      "```\n",
      "\n",
      "I started by converting the list comprehension to a for loop for the purpose of debugging, so\n",
      "```\n",
      "return sum(apply_optimizer(optimizer, func, a, b)\n",
      "    for func, a, b in param_grid)\n",
      "```\n",
      "became:\n",
      "```\n",
      "total = 0\n",
      "for func, a, b in param_grid:\n",
      "    total += apply_optimizer(optimizer, func, a, b)\n",
      "return total\n",
      "```\n",
      "Now we get a similar error:\n",
      "```\n",
      "TypeError: unsupported operand type(s) for +=: 'int' and 'tuple'\n",
      "```\n",
      "Ok, let's add another line and insert an instance of IPython for debugging:\n",
      "```\n",
      "result = apply_optimizer(optimizer, FUNCTIONS[0], a, b)\n",
      "import IPython; IPython.embed()\n",
      "total += result\n",
      "```\n",
      "Now we can inspect the value of result, and find that it contains a tuple:\n",
      "```\n",
      "In [1]: result\n",
      "Out[1]: (9,)\n",
      "```\n",
      "\n",
      "Let's see what happens if we work with result[0] instead of result. We find that it works, as follows:\n",
      "```\n",
      "Benching 1D root-finder optimizers from scipy.optimize:\n",
      "brenth: 602123 total function calls\n",
      "brentq: 0 total function calls\n",
      "ridder: 0 total function calls\n",
      "bisect: 0 total function calls\n",
      "```\n",
      "But we can see that only the first case returns a non-zero result. Since param_grid is an iterator, it was probably\n",
      "already consumed, so that there is nothing left to iterate over on subsequent attempts.\n",
      "\n",
      "We could reconstruct the iterator for each optimizer; alternatively, we could use a list instead. So,\n",
      "```\n",
      "param_grid = product(FUNCTIONS, random_a, random_b)\n",
      "```\n",
      "becomes\n",
      "```\n",
      "param_grid = list(product(FUNCTIONS, random_a, random_b))\n",
      "```\n",
      "Let's convert the for loop back into a list comprehension:\n",
      "```\n",
      "return sum(apply_optimizer(optimizer, func, a, b)[0]\n",
      "    for func, a, b in param_grid)\n",
      "```\n",
      "Now we re-run it, and obtain the following output, which looks sensible:\n",
      "```\n",
      "$ python benchmark.py\n",
      "Benching 1D root-finder optimizers from scipy.optimize:\n",
      "brenth: 608180 total function calls\n",
      "brentq: 598121 total function calls\n",
      "ridder: 777978 total function calls\n",
      "bisect: 2152210 total function calls\n",
      "```"
     ]
    },
    {
     "cell_type": "heading",
     "level": 3,
     "metadata": {},
     "source": [
      "Define the revised benchmark:"
     ]
    },
    {
     "cell_type": "code",
     "collapsed": false,
     "input": [
      "\"\"\"\n",
      "A script to compare different root-finding algorithms.\n",
      "\n",
      "This version of the script is buggy and does not execute. It is your task\n",
      "to find and fix these bugs.\n",
      "\n",
      "The output of the script sould look like:\n",
      "\n",
      "    Benching 1D root-finder optimizers from scipy.optimize:\n",
      "                brenth:   604678 total function calls\n",
      "                brentq:   594454 total function calls\n",
      "                ridder:   778394 total function calls\n",
      "                bisect:  2148380 total function calls\n",
      "\"\"\"\n",
      "from itertools import product\n",
      "\n",
      "import numpy as np\n",
      "from scipy import optimize\n",
      "\n",
      "FUNCTIONS = (np.tan,   # Dilating map\n",
      "             np.tanh,  # Contracting map\n",
      "             lambda x: x**3 + 1e-4*x,  # Almost null gradient at the root\n",
      "             lambda x: x+np.sin(2*x),  # Non monotonous function\n",
      "             lambda x: 1.1*x+np.sin(4*x),  # Function with several local maxima\n",
      "             )\n",
      "\n",
      "OPTIMIZERS = (optimize.brenth, optimize.brentq,\n",
      "              optimize.ridder, optimize.bisect)\n",
      "\n",
      "\n",
      "def apply_optimizer(optimizer, func, a, b):\n",
      "    \"\"\" Return the number of function calls given an root-finding optimizer, \n",
      "        a function and upper and lower bounds.\n",
      "    \"\"\"\n",
      "    return optimizer(func, a, b, full_output=True)[1].function_calls,\n",
      "\n",
      "\n",
      "def bench_optimizer(optimizer, param_grid):\n",
      "    \"\"\" Find roots for all the functions, and upper and lower bounds\n",
      "        given and return the total number of function calls.\n",
      "    \"\"\"\n",
      "    return sum(apply_optimizer(optimizer, func, a, b)[0]\n",
      "               for func, a, b in param_grid)\n",
      "\n",
      "\n",
      "def compare_optimizers(optimizers):\n",
      "    \"\"\" Compare all the optimizers given on a grid of a few different\n",
      "        functions all admitting a single root in zero and an upper and\n",
      "        lower bounds.\n",
      "    \"\"\"\n",
      "    random_a = -1.3 + np.random.random(size=100)\n",
      "    random_b = .3 + np.random.random(size=100)\n",
      "    param_grid = list(product(FUNCTIONS, random_a, random_b))\n",
      "    print(\"Benching 1D root-finder optimizers from scipy.optimize:\")\n",
      "    for optimizer in OPTIMIZERS:\n",
      "        ncalls = bench_optimizer(optimizer, param_grid)\n",
      "        print('{name}: {ncalls} total function calls'.format(\n",
      "            name=optimizer.__name__, ncalls=ncalls))\n",
      "\n",
      "\n",
      "if __name__ == '__main__':\n",
      "    compare_optimizers(OPTIMIZERS)"
     ],
     "language": "python",
     "metadata": {},
     "outputs": [
      {
       "output_type": "stream",
       "stream": "stdout",
       "text": [
        "Benching 1D root-finder optimizers from scipy.optimize:\n",
        "brenth: 601735 total function calls"
       ]
      },
      {
       "output_type": "stream",
       "stream": "stdout",
       "text": [
        "\n",
        "brentq: 590764 total function calls"
       ]
      },
      {
       "output_type": "stream",
       "stream": "stdout",
       "text": [
        "\n",
        "ridder: 769494 total function calls"
       ]
      },
      {
       "output_type": "stream",
       "stream": "stdout",
       "text": [
        "\n",
        "bisect: 2147220 total function calls"
       ]
      },
      {
       "output_type": "stream",
       "stream": "stdout",
       "text": [
        "\n"
       ]
      }
     ],
     "prompt_number": 1
    }
   ],
   "metadata": {}
  }
 ]
}