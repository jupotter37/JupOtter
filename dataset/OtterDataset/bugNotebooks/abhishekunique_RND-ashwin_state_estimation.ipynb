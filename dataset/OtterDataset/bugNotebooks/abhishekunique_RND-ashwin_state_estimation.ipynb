{
 "cells": [
  {
   "cell_type": "code",
   "execution_count": null,
   "metadata": {},
   "outputs": [],
   "source": [
    "import numpy as np\n",
    "import imageio\n",
    "from softlearning.models.state_estimation import (\n",
    "    state_estimator_model, get_dumped_pkl_data, get_seed_data)\n",
    "import tensorflow as tf\n",
    "import matplotlib.pyplot as plt\n",
    "import gzip\n",
    "import os\n",
    "import pickle\n",
    "%matplotlib inline"
   ]
  },
  {
   "cell_type": "code",
   "execution_count": null,
   "metadata": {},
   "outputs": [],
   "source": [
    "from IPython.display import clear_output"
   ]
  },
  {
   "cell_type": "code",
   "execution_count": null,
   "metadata": {},
   "outputs": [],
   "source": [
    "image_shape = (32, 32, 3)\n",
    "\n",
    "model = state_estimator_model(\n",
    "    input_shape=image_shape,\n",
    "#     num_hidden_units=256,\n",
    "    num_hidden_units=512,\n",
    "#     num_hidden_layers=2,\n",
    "    num_hidden_layers=4,\n",
    ")\n",
    "\n",
    "model.summary()\n",
    "model.compile(\n",
    "    optimizer=tf.keras.optimizers.Adam(learning_rate=1e-4),\n",
    "    loss='mean_squared_error')"
   ]
  },
  {
   "cell_type": "code",
   "execution_count": null,
   "metadata": {},
   "outputs": [],
   "source": [
    "for layer in model.layers:\n",
    "    print(layer.name)\n",
    "    if 'input' in layer.name:\n",
    "        continue\n",
    "    layer.summary()"
   ]
  },
  {
   "cell_type": "code",
   "execution_count": null,
   "metadata": {},
   "outputs": [],
   "source": [
    "with gzip.open(os.path.join('/home/justinvyu/dev/softlearning-vice/goal_classifier/free_screw_state_estimator_data_invisible_claw', 'more_data.pkl'), 'rb') as f:\n",
    "    data = pickle.load(f)"
   ]
  },
  {
   "cell_type": "code",
   "execution_count": null,
   "metadata": {},
   "outputs": [],
   "source": [
    "data['pixels'].shape, data['states'].shape"
   ]
  },
  {
   "cell_type": "code",
   "execution_count": null,
   "metadata": {},
   "outputs": [],
   "source": [
    "def train(model, data, save_path, n_epochs=50):\n",
    "    assert 'pixels' in data and 'states' in data, 'Invalid training data'\n",
    "    pixels, states = data['pixels'], data['states']\n",
    "    history = model.fit(\n",
    "        x=pixels,\n",
    "        y=states,\n",
    "        batch_size=128,\n",
    "        epochs=n_epochs,\n",
    "        validation_split=0.05\n",
    "    )\n",
    "    \n",
    "    model.save_weights(save_path)\n",
    "    return history\n",
    "\n",
    "history = train(model, data, './state_estimator_fixed_antialias_test.h5', n_epochs=50)"
   ]
  },
  {
   "cell_type": "code",
   "execution_count": null,
   "metadata": {},
   "outputs": [],
   "source": [
    "# weights_path = './state_estimator_random_data_50_epochs.h5'\n",
    "# weights_path = './state_estimator_invisible_claw.h5'\n",
    "# weights_path = '/home/justinvyu/dev/softlearning-vice/softlearning/models/state_estimators/state_estimator_fixed_antialias.h5'\n",
    "weights_path = '/home/justinvyu/dev/softlearning-vice/softlearning/models/state_estimators/state_estimator_antialias_larger_network.h5'\n",
    "model.load_weights(weights_path)"
   ]
  },
  {
   "cell_type": "code",
   "execution_count": null,
   "metadata": {},
   "outputs": [],
   "source": [
    "# Aliased, random, invisible\n",
    "training_pools_base_path = '/home/justinvyu/dev/softlearning-vice/goal_classifier/free_screw_state_estimator_data_invisible_claw/data.pkl'\n",
    "images, labels = get_dumped_pkl_data(training_pools_base_path)"
   ]
  },
  {
   "cell_type": "code",
   "execution_count": null,
   "metadata": {},
   "outputs": [],
   "source": [
    "# Aliased, on policy, invisible\n",
    "training_pools_base_path = '/root/softlearning-vice/goal_classifier/free_screw_state_estimator_data_invisible_claw_test/data.pkl'\n",
    "images, labels = get_dumped_pkl_data(training_pools_base_path)"
   ]
  },
  {
   "cell_type": "code",
   "execution_count": null,
   "metadata": {},
   "outputs": [],
   "source": [
    "# Anti-aliased, random, invisible\n",
    "training_pools_base_path = '/home/justinvyu/dev/softlearning-vice/goal_classifier/free_screw_state_estimator_data_invisible_claw/data.pkl'\n",
    "images, labels = get_dumped_pkl_data(training_pools_base_path)"
   ]
  },
  {
   "cell_type": "code",
   "execution_count": null,
   "metadata": {},
   "outputs": [],
   "source": [
    "with gzip.open('/nfs/kun1/users/justinvyu/data/data.pkl', 'rb') as f:\n",
    "    data_0 = pickle.load(f)"
   ]
  },
  {
   "cell_type": "code",
   "execution_count": null,
   "metadata": {},
   "outputs": [],
   "source": [
    "import skimage\n",
    "\n",
    "first_half = data_0['pixels'][:300000]\n",
    "second_half = data_0['pixels'][300000:]\n",
    "\n",
    "first_half = skimage.util.img_as_ubyte(first_half)\n",
    "second_half = second_half.astype(np.uint8)\n",
    "\n",
    "new_data = {\n",
    "    'pixels': np.concatenate([first_half, second_half]),\n",
    "    'states': data_0['states']\n",
    "}"
   ]
  },
  {
   "cell_type": "code",
   "execution_count": null,
   "metadata": {},
   "outputs": [],
   "source": [
    "with gzip.open('/nfs/kun1/users/justinvyu/data/invisible_claw_antialiased_data.pkl', 'wb') as f:\n",
    "    pickle.dump(new_data, f)"
   ]
  },
  {
   "cell_type": "code",
   "execution_count": null,
   "metadata": {},
   "outputs": [],
   "source": [
    "print(data_0['pixels'][300003])\n",
    "plt.imshow((data_0['pixels'][300003]).astype(np.uint8))"
   ]
  },
  {
   "cell_type": "code",
   "execution_count": null,
   "metadata": {},
   "outputs": [],
   "source": [
    "images, labels = new_data['pixels'], new_data['states']"
   ]
  },
  {
   "cell_type": "code",
   "execution_count": null,
   "metadata": {},
   "outputs": [],
   "source": [
    "# Show some photos\n",
    "plt.axis('off')\n",
    "test_index = 6957\n",
    "plt.imshow(test_images[test_index])\n",
    "print(images[test_index])\n",
    "print(labels[test_index])"
   ]
  },
  {
   "cell_type": "code",
   "execution_count": null,
   "metadata": {},
   "outputs": [],
   "source": [
    "for i in range(10000):\n",
    "    plt.imshow(images[i])\n",
    "    plt.show()\n",
    "    if i % 1000 == 0:\n",
    "        clear_output()"
   ]
  },
  {
   "cell_type": "code",
   "execution_count": null,
   "metadata": {},
   "outputs": [],
   "source": [
    "# Get samples to calculate metrics on\n",
    "random_indices = np.random.choice(images.shape[0], size=10000)\n",
    "test_images = images[random_indices]\n",
    "test_labels = labels[random_indices]\n",
    "preds = model.predict(test_images)"
   ]
  },
  {
   "cell_type": "code",
   "execution_count": null,
   "metadata": {},
   "outputs": [],
   "source": [
    "pos_errors = []\n",
    "angle_errors = []\n",
    "\n",
    "degrees = lambda x: x * 180 / np.pi\n",
    "def angle_distance(deg1, deg2):\n",
    "    phi = np.abs(deg1 - deg2) % 360\n",
    "    distance = 360 - phi if phi > 180 else phi\n",
    "    return distance\n",
    "\n",
    "for i, (test_img, label, pred) in enumerate(zip(test_images, test_labels, preds)):\n",
    "    pos_error_xy = np.abs(label[:2] - pred[:2])\n",
    "    pos_error = np.linalg.norm(pos_error_xy)\n",
    "    pos_error = 15 * pos_error # free box is 30 cm, 15 on each side (-1 -> 1 --> -15 -> 15)\n",
    "    \n",
    "    true_angle = np.arctan2(label[3], label[2])\n",
    "    true_angle = degrees(true_angle)\n",
    "    pred_angle = np.arctan2(pred[3], pred[2])\n",
    "    pred_angle = degrees(pred_angle)\n",
    "    \n",
    "    angle_error = angle_distance(true_angle, pred_angle)\n",
    "\n",
    "    pos_errors.append(pos_error)\n",
    "    angle_errors.append(angle_error)\n",
    "\n",
    "#     print('\\n========== IMAGE #', i, '=========')\n",
    "#     print('POS ERROR (cm):', pos_error, 'true xy: {}'.format(label[:2]), 'pred xy: {}'.format(pred[:2]))\n",
    "#     print('ANGLE ERROR (degrees):', angle_error, 'true angle: {}'.format(true_angle), 'pred angle: {}'.format(pred_angle))\n",
    "#     imageio.imwrite(f'/root/imgs/test{i}.jpg', test_img)\n",
    "\n",
    "mean_pos_error = np.mean(pos_errors)\n",
    "mean_angle_error = np.mean(angle_errors)\n",
    "print('MEAN POS ERROR (CM):', mean_pos_error)\n",
    "print('MEAN ANGLE ERROR (degrees):', mean_angle_error)"
   ]
  },
  {
   "cell_type": "code",
   "execution_count": null,
   "metadata": {},
   "outputs": [],
   "source": [
    "def display_top_errors(errors, label_str=\"\"):\n",
    "    errors = np.array(errors)\n",
    "    ind = np.argpartition(errors, -20)[-20:]\n",
    "    ind = ind[np.argsort(errors[ind])]\n",
    "    ind = np.flip(ind) # Order descending\n",
    "    print(ind)\n",
    "    top_errors = errors[ind]\n",
    "    \n",
    "    top_error_imgs, top_error_labels, top_error_preds = test_images[ind], test_labels[ind], preds[ind]\n",
    "    for i, (error, img, label, pred) in enumerate(zip(top_errors,\n",
    "                                                      top_error_imgs,\n",
    "                                                      top_error_labels,\n",
    "                                                      top_error_preds)):\n",
    "        print('\\n========== IMAGE #', i, '=========')\n",
    "        plt.axis('off')\n",
    "        plt.imshow(img)\n",
    "        print('{} ERROR: {}\\n\\ntrue: {}\\npred: {}'.format(label_str, error, label, pred))\n",
    "        plt.show()\n",
    "    \n",
    "display_top_errors(pos_errors, label_str=\"POS (cm)\")"
   ]
  },
  {
   "cell_type": "code",
   "execution_count": null,
   "metadata": {},
   "outputs": [],
   "source": [
    "display_top_errors(angle_errors, label_str=\"ANGLE (degrees)\")"
   ]
  },
  {
   "cell_type": "code",
   "execution_count": null,
   "metadata": {},
   "outputs": [],
   "source": [
    "first = np.arctan2(-0.23606753, -0.97173665)\n",
    "second = np.arctan2(0.17438738, -0.9635754)\n",
    "rad_to_deg = lambda x: 180 * x / np.pi\n",
    "rad_to_deg(first), rad_to_deg(second)"
   ]
  },
  {
   "cell_type": "code",
   "execution_count": null,
   "metadata": {},
   "outputs": [],
   "source": [
    "def plot_histograms(pos_errors, angle_errors):\n",
    "    plt.figure(figsize=(10, 5))\n",
    "    plt.subplot(1, 2, 1)\n",
    "    plt.title('Position Errors (cm)')\n",
    "    plt.hist(pos_errors, bins=30)\n",
    "    plt.subplot(1, 2, 2)\n",
    "    plt.title('Angle Errors (deg)')\n",
    "    plt.hist(angle_errors, bins=30)\n",
    "    plt.show()\n",
    "    \n",
    "plot_histograms(pos_errors, angle_errors)"
   ]
  },
  {
   "cell_type": "code",
   "execution_count": null,
   "metadata": {},
   "outputs": [],
   "source": [
    "def plot_pos_support():\n",
    "    plt.figure(figsize=(5, 5))\n",
    "    plt.scatter(test_labels[:, 0], test_labels[:, 1], alpha=0.1, s=5)\n",
    "    plt.show()\n",
    "    \n",
    "plot_pos_support()\n",
    "\n",
    "def plot_angle_support():\n",
    "    plt.figure(figsize=(5,5))\n",
    "    angles = np.arctan2(test_labels[:, 3], test_labels[:, 2])\n",
    "    plt.hist(angles, bins=50)\n",
    "    plt.show()\n",
    "    \n",
    "plot_angle_support()"
   ]
  },
  {
   "cell_type": "code",
   "execution_count": null,
   "metadata": {},
   "outputs": [],
   "source": [
    "# for label, pred in zip(test_labels, preds):\n",
    "#     labels_x, labels_y = test_labels[:, 0], test_labels[:, 1]\n",
    "#     preds_x, preds_y = preds[:, 0], preds[:, 1]\n",
    "#     print(preds_x.shape, preds_y.shape)\n",
    "#     dxs, dys = preds_x - labels_x, preds_y - labels_y\n",
    "#     print(dxs.shape, dys.shape)\n",
    "\n",
    "import seaborn as sns\n",
    "sns.set()\n",
    "def get_noise(size, loc=0, scale=0.02):\n",
    "    return np.random.normal(loc=loc, scale=scale, size=size)\n",
    "\n",
    "labels_x, labels_y = test_labels[:, 0], test_labels[:, 1]\n",
    "\n",
    "# noisy_x, noisy_y = (\n",
    "#     test_labels[:, 0] + get_noise(test_labels[:, 0].shape),\n",
    "#     test_labels[:, 1] + get_noise(test_labels[:, 1].shape),\n",
    "# )\n",
    "# dxs_noise, dys_noise = noisy_x - labels_x, noisy_y - labels_y\n",
    "# plt.figure(figsize=(20, 20))\n",
    "# plt.quiver(labels_x, labels_y, dxs_noise, dys_noise, angles='xy', scale_units='xy', scale=1, width=0.001, alpha=0.5)\n",
    "\n",
    "preds_x, preds_y = preds[:, 0], preds[:, 1]\n",
    "dxs, dys = preds_x - labels_x, preds_y - labels_y\n",
    "plt.figure(figsize=(20, 20))\n",
    "plt.title('State estimator errors (xy)')\n",
    "\n",
    "plt.scatter(labels_x, labels_y, c='blue', s=2, label='labels (blue)')\n",
    "plt.scatter(preds_x, preds_y, c='green', s=2, label='preds (green)')\n",
    "plt.legend()\n",
    "plt.quiver(labels_x, labels_y, dxs, dys, angles='xy', scale_units='xy', scale=1, width=0.001, alpha=0.6)\n",
    "\n",
    "plt.figure(figsize=(10, 10))\n",
    "plt.title('Position errors')\n",
    "plt.xlabel('label')\n",
    "plt.ylabel('predicted')\n",
    "\n",
    "plt.scatter(labels_x, preds_x, s=0.5, alpha=0.2, label='x')\n",
    "plt.scatter(labels_y, preds_y, s=0.5, alpha=0.2, label='y')\n",
    "plt.legend()\n"
   ]
  },
  {
   "cell_type": "code",
   "execution_count": null,
   "metadata": {},
   "outputs": [],
   "source": [
    "labels_z_cos, labels_z_sin = test_labels[:, 2], test_labels[:, 3]\n",
    "preds_z_cos, preds_z_sin = preds[:, 2], preds[:, 3]\n",
    "dzs_cos, dzs_sin = preds_z_cos - labels_z_cos, preds_z_sin - labels_z_sin\n",
    "\n",
    "# plt.figure(figsize=(20, 20))\n",
    "# plt.title('State estimator errors (angle)')\n",
    "# plt.scatter(labels_z_cos, labels_z_sin, c='blue', s=2, label='labels (blue)')\n",
    "# plt.scatter(preds_z_cos, preds_z_sin, c='green', s=2, label='preds (green)')\n",
    "# plt.legend()\n",
    "# # circle = plt.Circle((0, 0), 1, color='black', alpha=.5, fill=False)\n",
    "# # plt.gcf().gca().add_artist(circle)\n",
    "# plt.quiver(labels_z_cos, labels_z_sin, dzs_cos, dzs_sin, angles='xy', scale_units='xy', scale=1, width=0.001, alpha=0.6)\n",
    "\n",
    "labels_angle, preds_angle = (\n",
    "    np.arctan2(labels_z_sin, labels_z_cos),\n",
    "    np.arctan2(preds_z_sin, preds_z_cos)\n",
    ")\n",
    "print(labels_angle, labels_angle)\n",
    "plt.figure(figsize=(10, 10))\n",
    "plt.title('Angle errors')\n",
    "plt.xlabel('label angle (radians)')\n",
    "plt.ylabel('predicted angle (radians)')\n",
    "plt.scatter(labels_angle, preds_angle, s=0.4, alpha=0.25)\n"
   ]
  },
  {
   "cell_type": "markdown",
   "metadata": {},
   "source": [
    "## Collected data aggregation"
   ]
  },
  {
   "cell_type": "code",
   "execution_count": null,
   "metadata": {},
   "outputs": [],
   "source": [
    "# Aggregate many data pools together\n",
    "\n",
    "import glob\n",
    "import os\n",
    "import pickle\n",
    "import gzip\n",
    "import numpy as np\n",
    "\n",
    "path = '/home/justinvyu/dev/softlearning-vice/goal_classifier'\n",
    "\n",
    "aggregated = {}\n",
    "for data_dir in glob.iglob(os.path.join(path, 'free_screw_state_estimator*')):\n",
    "    print(data_dir)\n",
    "    data_fn = os.path.join(data_dir, 'data.pkl')\n",
    "    try:\n",
    "        with gzip.open(data_fn, 'rb') as f:\n",
    "            try:\n",
    "                data = pickle.load(f)\n",
    "                print(data.keys())\n",
    "            except:\n",
    "                continue\n",
    "    except:\n",
    "        continue\n",
    "        \n",
    "    for k, v in data.items():\n",
    "        print(k, v.shape)\n",
    "        if k in aggregated:\n",
    "            aggregated[k] = np.concatenate([\n",
    "                aggregated.get(k), v])\n",
    "        else:\n",
    "            aggregated[k] = v\n",
    "        print(aggregated[k].shape)\n",
    "        \n",
    "aggregated['pixels'].shape, aggregated['states']\n",
    "# Save to another file if needed..."
   ]
  },
  {
   "cell_type": "code",
   "execution_count": null,
   "metadata": {},
   "outputs": [],
   "source": [
    "# Testing if loading the file recovers the data\n",
    "with gzip.open(os.path.join('/home/justinvyu/dev/softlearning-vice/goal_classifier/free_screw_state_estimator_data_invisible_claw', 'more_data.pkl'), 'wb') as f:\n",
    "    pickle.dump(aggregated, f, protocol=4)"
   ]
  },
  {
   "cell_type": "markdown",
   "metadata": {},
   "source": [
    "# Debugging\n",
    "\n",
    "Check trajectories in a reset-free rollout."
   ]
  },
  {
   "cell_type": "code",
   "execution_count": null,
   "metadata": {},
   "outputs": [],
   "source": [
    "episodes_path = '/home/justinvyu/dev/softlearning-vice/goal_classifier/free_screw_state_estimator_data_invisible_claw_trajectories/data.pkl'\n",
    "episode_path_length = 50\n",
    "pixels, states = get_dumped_pkl_data(episodes_path)"
   ]
  },
  {
   "cell_type": "code",
   "execution_count": null,
   "metadata": {},
   "outputs": [],
   "source": [
    "pixels.shape, states.shape"
   ]
  },
  {
   "cell_type": "code",
   "execution_count": null,
   "metadata": {},
   "outputs": [],
   "source": [
    "pixels"
   ]
  },
  {
   "cell_type": "code",
   "execution_count": null,
   "metadata": {},
   "outputs": [],
   "source": [
    "import seaborn as sns\n",
    "\n",
    "def get_state_deltas(states):\n",
    "#     x, y = states[:, 0], states[:, 1]\n",
    "    next_states = states[1:]\n",
    "    next_states = np.concatenate([\n",
    "        next_states,\n",
    "        next_states[-1][None]\n",
    "    ])\n",
    "    return next_states - states\n",
    "\n",
    "i = 0\n",
    "\n",
    "while i < pixels.shape[0]:\n",
    "    episode_pixels, episode_states = (\n",
    "        pixels[i:i+episode_path_length],\n",
    "        states[i:i+episode_path_length])\n",
    "    episode_preds = model.predict(episode_pixels)\n",
    "    delta_states = get_state_deltas(episode_states)\n",
    "    delta_preds = get_state_deltas(episode_preds)\n",
    "    \n",
    "    plt.figure(figsize=(5,5))\n",
    "    plt.xlim(-1, 1)\n",
    "    plt.ylim(-1, 1)\n",
    "    plt.scatter(episode_states[:-1, 0], episode_states[:-1, 1], c='b', s=10)\n",
    "    plt.scatter(episode_states[-1, 0], episode_states[-1, 1], c='red', s=100)\n",
    "    plt.scatter(episode_preds[:-1, 0], episode_preds[:-1, 1], c='g', s=10)\n",
    "    plt.scatter(episode_preds[-1, 0], episode_preds[-1, 1], c='purple', s=100)\n",
    "    plt.quiver(episode_states[:, 0],\n",
    "               episode_states[:, 1],\n",
    "               delta_states[:, 0],\n",
    "               delta_states[:, 1],\n",
    "               angles='xy',\n",
    "               scale_units='xy',\n",
    "               scale=1,\n",
    "               width=0.004,\n",
    "               alpha=0.5,\n",
    "               color='b')\n",
    "    plt.quiver(episode_preds[:, 0],\n",
    "               episode_preds[:, 1],\n",
    "               delta_preds[:, 0],\n",
    "               delta_preds[:, 1],\n",
    "               angles='xy',\n",
    "               scale_units='xy',\n",
    "               scale=1,\n",
    "               width=0.004,\n",
    "               alpha=0.5,\n",
    "               color='g')\n",
    "    \n",
    "    plt.show()\n",
    "    i += episode_path_length\n"
   ]
  },
  {
   "cell_type": "code",
   "execution_count": null,
   "metadata": {},
   "outputs": [],
   "source": [
    "aggregated['pixels'].shape, data['pixels'].shape"
   ]
  },
  {
   "cell_type": "code",
   "execution_count": null,
   "metadata": {},
   "outputs": [],
   "source": [
    "all_data = {\n",
    "    'pixels': np.concatenate([aggregated['pixels'], data['pixels']]),\n",
    "    'states': np.concatenate([aggregated['states'], data['states']])\n",
    "}"
   ]
  },
  {
   "cell_type": "code",
   "execution_count": null,
   "metadata": {},
   "outputs": [],
   "source": [
    "# Testing if loading the file recovers the data\n",
    "with gzip.open(os.path.join('/home/justinvyu/dev/softlearning-vice/goal_classifier/free_screw_state_estimator_data_invisible_claw', 'data.pkl'), 'wb') as f:\n",
    "    pickle.dump(all_data, f, protocol=4)"
   ]
  }
 ],
 "metadata": {
  "kernelspec": {
   "display_name": "Python 3",
   "language": "python",
   "name": "python3"
  },
  "language_info": {
   "codemirror_mode": {
    "name": "ipython",
    "version": 3
   },
   "file_extension": ".py",
   "mimetype": "text/x-python",
   "name": "python",
   "nbconvert_exporter": "python",
   "pygments_lexer": "ipython3",
   "version": "3.7.3"
  }
 },
 "nbformat": 4,
 "nbformat_minor": 2
}
