{
 "cells": [
  {
   "cell_type": "markdown",
   "metadata": {},
   "source": [
    "# Combining AIS data\n",
    "\n",
    "AIS data record ship location information; we have acquired two years of ship location information from Spire Inc.\n",
    "\n",
    "The two years of data are stored on the GOST team's S3 bucket, but we will look at other opportunities to store the data, probably on DDH."
   ]
  },
  {
   "cell_type": "code",
   "execution_count": 1,
   "metadata": {},
   "outputs": [],
   "source": [
    "import sys, os, json, time, multiprocessing\n",
    "import rasterio, boto3, pygeohash, pyarrow\n",
    "\n",
    "import geopandas as gpd\n",
    "import pandas as pd\n",
    "import pyarrow.feather as feather\n",
    "\n",
    "from shapely.geometry import Point, LineString\n",
    "\n",
    "sys.path.append(\"../../gostrocks/src/\")\n",
    "\n",
    "import GOSTRocks.rasterMisc as rMisc\n",
    "\n",
    "def tPrint(s):\n",
    "    print(\"%s\\t%s\" % (time.strftime(\"%H:%M:%S\"), s))"
   ]
  },
  {
   "cell_type": "code",
   "execution_count": 2,
   "metadata": {},
   "outputs": [],
   "source": [
    "aws_bucket = \"wbgdecinternal-ntl\"\n",
    "path = \"AIS\"\n",
    "out_folder = \"/home/wb411133/data/Global/AIS\"\n",
    "docs_folder = \"../references\"\n",
    "ship_types_file = os.path.join(docs_folder, 'ship_types.json')\n",
    "with open(ship_types_file, 'r') as ship_file: # https://faq.spire.com/determining-ais-ship-type\n",
    "    ship_types = json.load(ship_file)\n",
    "\n",
    "ship_status_file = os.path.join(docs_folder, 'ship_statuses.json')\n",
    "with open(ship_status_file, 'r') as ship_status: \n",
    "    ship_status = json.load(ship_status)"
   ]
  },
  {
   "cell_type": "code",
   "execution_count": null,
   "metadata": {},
   "outputs": [],
   "source": [
    "ship_status"
   ]
  },
  {
   "cell_type": "code",
   "execution_count": null,
   "metadata": {},
   "outputs": [],
   "source": [
    "ship_types"
   ]
  },
  {
   "cell_type": "code",
   "execution_count": 3,
   "metadata": {},
   "outputs": [],
   "source": [
    "# List all the AIS files on the S3 bucket\n",
    "client = boto3.client('s3')\n",
    "ais_file_list = client.list_objects_v2(Bucket=aws_bucket, Prefix='AIS', MaxKeys=5000)\n",
    "\n",
    "keep_processing = True\n",
    "continuation_token = ''\n",
    "try:\n",
    "    del final\n",
    "except:\n",
    "    pass\n",
    "loop_cnt = 0\n",
    "\n",
    "# Generate a list of all the files, using the continuation_token \n",
    "while keep_processing:\n",
    "    loop_cnt = loop_cnt + 1    \n",
    "    try:\n",
    "        ais_file_list = client.list_objects_v2(Bucket=aws_bucket, Prefix='AIS', ContinuationToken=continuation_token)\n",
    "    except:\n",
    "        ais_file_list = client.list_objects_v2(Bucket=aws_bucket, Prefix='AIS')\n",
    "    keep_processing = ais_file_list['IsTruncated']\n",
    "    try:\n",
    "        continuation_token = ais_file_list['NextContinuationToken']\n",
    "    except:\n",
    "        pass\n",
    "    try:\n",
    "        final = final + ais_file_list['Contents']\n",
    "    except:\n",
    "        final = ais_file_list['Contents']"
   ]
  },
  {
   "cell_type": "code",
   "execution_count": 4,
   "metadata": {},
   "outputs": [
    {
     "data": {
      "text/plain": [
       "{'Key': 'AIS/WorldBank_SAIS_globalAOI_20190101_20201231_000000000000.csv',\n",
       " 'LastModified': datetime.datetime(2021, 6, 23, 13, 25, 35, tzinfo=tzutc()),\n",
       " 'ETag': '\"223aeec2df6a341bcefbd1dce9997f0c-37\"',\n",
       " 'Size': 303449488,\n",
       " 'StorageClass': 'STANDARD'}"
      ]
     },
     "execution_count": 4,
     "metadata": {},
     "output_type": "execute_result"
    }
   ],
   "source": [
    "final[0]"
   ]
  },
  {
   "cell_type": "code",
   "execution_count": null,
   "metadata": {},
   "outputs": [],
   "source": [
    "def read_process(path):\n",
    "    good_cols = ['timestamp','mmsi','status','ship_and_cargo_type','latitude','longitude']\n",
    "    res = pd.read_csv(path)\n",
    "    tPrint(os.path.basename(path))\n",
    "    return(res.loc[:,good_cols])\n",
    "\n",
    "def driver_func(file_list):\n",
    "    n_processes = round(multiprocessing.cpu_count() * 0.8)\n",
    "    with multiprocessing.Pool(n_processes) as pool:\n",
    "        res = pool.map(read_process, file_list)\n",
    "    return(res)"
   ]
  },
  {
   "cell_type": "code",
   "execution_count": null,
   "metadata": {
    "scrolled": true
   },
   "outputs": [],
   "source": [
    "startIdx = 0\n",
    "step = 10\n",
    "for endIdx in range(step, len(final) + 1, step):\n",
    "    sel_files = []\n",
    "    for ais_file in final:\n",
    "        file_idx = int(ais_file['Key'].split(\"_\")[-1][:-4])\n",
    "        if file_idx >= startIdx and file_idx < endIdx:\n",
    "            sel_files.append(os.path.join(\"s3://\", aws_bucket, ais_file['Key']))\n",
    "    res = driver_func(sel_files)\n",
    "    try:\n",
    "        del all_data\n",
    "    except:\n",
    "        pass\n",
    "\n",
    "    for r in res:\n",
    "        try:\n",
    "            all_data = all_data.append(r)\n",
    "        except:\n",
    "            all_data = r\n",
    "    break\n",
    "    feather.write_feather(all_data, os.path.join(out_folder, f\"AIS_Combined_2019_2020_{startIdx}_{endIdx}.feather\"))\n",
    "    startIdx = endIdx\n",
    "    "
   ]
  },
  {
   "cell_type": "code",
   "execution_count": null,
   "metadata": {},
   "outputs": [],
   "source": [
    "ship_status"
   ]
  },
  {
   "cell_type": "code",
   "execution_count": null,
   "metadata": {},
   "outputs": [],
   "source": []
  },
  {
   "cell_type": "markdown",
   "metadata": {},
   "source": [
    "# DEBUGGING"
   ]
  },
  {
   "cell_type": "code",
   "execution_count": null,
   "metadata": {},
   "outputs": [],
   "source": [
    "inData = read_process(sel_files[0])"
   ]
  },
  {
   "cell_type": "code",
   "execution_count": null,
   "metadata": {},
   "outputs": [],
   "source": [
    "geom = [Point(x['longitude'], x['latitude']) for idx, x in inData.iterrows()]\n",
    "all_data_geom = gpd.GeoDataFrame(inData, geometry=geom, crs=\"epsg:4326\")\n",
    "all_data_geom.to_file(os.path.join(out_folder, \"AIS_data_0.shp\"))"
   ]
  },
  {
   "cell_type": "code",
   "execution_count": null,
   "metadata": {},
   "outputs": [],
   "source": [
    "# The geohash bit is cool but didn't shrink size at all\n",
    "# curD['geohash'] = curD.apply(lambda x: pygeohash.encode(x['latitude'], x['longitude']), axis=1)"
   ]
  },
  {
   "cell_type": "code",
   "execution_count": null,
   "metadata": {},
   "outputs": [],
   "source": [
    "\n",
    "feather.write_feather(curD.loc[:,['timestamp','mmsi','status','ship_and_cargo_type','latitude','longitude']], \n",
    "                      os.path.join(out_folder, ais_file_info['Key'].replace(\".csv\", \".feather\")))"
   ]
  },
  {
   "cell_type": "code",
   "execution_count": null,
   "metadata": {},
   "outputs": [],
   "source": [
    "feather.write_feather(curD, \n",
    "                      os.path.join(out_folder, ais_file_info['Key'].replace(\".csv\", \"_full.feather\")))"
   ]
  },
  {
   "cell_type": "code",
   "execution_count": null,
   "metadata": {},
   "outputs": [],
   "source": [
    "feather.write_feather(curD.loc[:,['timestamp','geohash']], \n",
    "                      os.path.join(out_folder, ais_file_info['Key'].replace(\".csv\", \"_small.feather\")))"
   ]
  },
  {
   "cell_type": "code",
   "execution_count": null,
   "metadata": {},
   "outputs": [],
   "source": [
    "curD.columns"
   ]
  },
  {
   "cell_type": "markdown",
   "metadata": {},
   "source": [
    "# Rasterize results"
   ]
  },
  {
   "cell_type": "code",
   "execution_count": null,
   "metadata": {
    "scrolled": true
   },
   "outputs": [],
   "source": [
    "# rasterize data based on ship type and month.\n",
    "global_pop = \"/home/public/Data/GLOBAL/Population/WorldPop_PPP_2020/ppp_2020_1km_Aggregated.tif\"\n",
    "inD = all_data_geom\n",
    "inD['yr_month'] = inD['timestamp'].apply(lambda x: x[:7])"
   ]
  },
  {
   "cell_type": "code",
   "execution_count": null,
   "metadata": {},
   "outputs": [],
   "source": [
    "def generate_raster(xD, templateRaster):\n",
    "    return(rMisc.rasterizeDataFrame(xD, '', templateRaster=templateRaster, mergeAlg='ADD'))\n",
    "\n",
    "def write_rasters(res, out_folder, prefix='C'):\n",
    "    for idx, row in res.iteritems():\n",
    "        out_file = os.path.join(out_folder, f'{prefix}_{idx}.tif')\n",
    "        if not os.path.exists(out_file):\n",
    "            profile = row['meta'].copy()            \n",
    "            data = row['vals']\n",
    "            #data[data < 0] = 0\n",
    "            #data = data.astype('byte')\n",
    "            profile.update(dtype=data.dtype, compress='lzw')\n",
    "            #profile['compress'] = 'JPEG'\n",
    "            with rasterio.open(out_file, 'w', **profile) as outR:\n",
    "                outR.write_band(1, data)\n",
    "            del profile\n",
    "                "
   ]
  },
  {
   "cell_type": "code",
   "execution_count": null,
   "metadata": {
    "scrolled": true
   },
   "outputs": [],
   "source": [
    "inD_grouped = inD.groupby([\"yr_month\"])\n",
    "inD_rasters = inD_grouped.apply(lambda x: generate_raster(x, global_pop))"
   ]
  },
  {
   "cell_type": "code",
   "execution_count": null,
   "metadata": {},
   "outputs": [],
   "source": [
    "write_rasters(inD_rasters[:1], out_folder)"
   ]
  },
  {
   "cell_type": "markdown",
   "metadata": {},
   "source": [
    "# Generating vector paths"
   ]
  },
  {
   "cell_type": "code",
   "execution_count": null,
   "metadata": {},
   "outputs": [],
   "source": [
    "inD.loc[inD['mmsi'] == 231356000].sort_values(['timestamp'])"
   ]
  },
  {
   "cell_type": "code",
   "execution_count": null,
   "metadata": {},
   "outputs": [],
   "source": [
    "LineString(inD.loc[inD['mmsi'] == 231356000,'geometry'].values)"
   ]
  },
  {
   "cell_type": "code",
   "execution_count": null,
   "metadata": {},
   "outputs": [],
   "source": [
    "selD = inD.loc[~inD['latitude'].isna()]\n",
    "inD_mmsi = selD.groupby('mmsi')\n",
    "all_vals = []\n",
    "for idx, row in inD_mmsi:\n",
    "    if row.shape[0] > 1:\n",
    "        row = row.sort_values('timestamp')\n",
    "        shp = LineString(row.loc[:,'geometry'].values)                      \n",
    "        all_vals.append([idx, shp])"
   ]
  },
  {
   "cell_type": "code",
   "execution_count": null,
   "metadata": {},
   "outputs": [],
   "source": [
    "row.longitude.min()"
   ]
  },
  {
   "cell_type": "code",
   "execution_count": null,
   "metadata": {},
   "outputs": [],
   "source": [
    "row.longitude.max()"
   ]
  },
  {
   "cell_type": "code",
   "execution_count": null,
   "metadata": {},
   "outputs": [],
   "source": [
    "lineD = pd.DataFrame(all_vals, columns=['ID','geometry'])\n",
    "#lineD['geometry'] = lineD['geometry'].apply(lambda x: x.buffer(0))\n",
    "linD_geom = gpd.GeoDataFrame(lineD, geometry='geometry', crs='epsg:4326')"
   ]
  },
  {
   "cell_type": "code",
   "execution_count": null,
   "metadata": {},
   "outputs": [],
   "source": [
    "linD_geom.to_file(os.path.join(out_folder, \"AIS_Routes.shp\"))"
   ]
  },
  {
   "cell_type": "code",
   "execution_count": null,
   "metadata": {},
   "outputs": [],
   "source": [
    "linD_geom.head()"
   ]
  },
  {
   "cell_type": "code",
   "execution_count": null,
   "metadata": {},
   "outputs": [],
   "source": []
  },
  {
   "cell_type": "code",
   "execution_count": null,
   "metadata": {},
   "outputs": [],
   "source": []
  },
  {
   "cell_type": "code",
   "execution_count": 5,
   "metadata": {},
   "outputs": [
    {
     "ename": "NameError",
     "evalue": "name 'misc' is not defined",
     "output_type": "error",
     "traceback": [
      "\u001b[0;31m---------------------------------------------------------------------------\u001b[0m",
      "\u001b[0;31mNameError\u001b[0m                                 Traceback (most recent call last)",
      "\u001b[0;32m<ipython-input-5-10cadd580254>\u001b[0m in \u001b[0;36m<module>\u001b[0;34m\u001b[0m\n\u001b[0;32m----> 1\u001b[0;31m \u001b[0mmisc\u001b[0m\u001b[0;34m\u001b[0m\u001b[0;34m\u001b[0m\u001b[0m\n\u001b[0m",
      "\u001b[0;31mNameError\u001b[0m: name 'misc' is not defined"
     ]
    }
   ],
   "source": [
    "misc"
   ]
  },
  {
   "cell_type": "code",
   "execution_count": 6,
   "metadata": {},
   "outputs": [],
   "source": [
    "import GOSTRocks.misc as misc"
   ]
  },
  {
   "cell_type": "code",
   "execution_count": 133,
   "metadata": {},
   "outputs": [],
   "source": [
    "inShp = \"/home/public/Data/COUNTRY/BDI/training_areas_plus_KPG.shp\"\n",
    "inD = gpd.read_file(inShp)\n",
    "raster_file = \"/home/public/Data/COUNTRY/BDI/North/IMG_PHR1B_MS_002/TEST/IMG_PHR1B_MS_201602260834109_ORT_69f9d6e3-e511-4d36-cd41-cd7487f13a10-002_R1C1__BD1_BK4_SC4-8_TRdmp-fourier-gabor-grad-hog-lac-lbpm-lsr-mean-orb-pantex-saliency-seg-sfs-evi.vrt\"\n",
    "inR = rasterio.open(raster_file)\n",
    "inD = inD.to_crs(f'epsg:{inR.crs.to_epsg()}')"
   ]
  },
  {
   "cell_type": "code",
   "execution_count": 110,
   "metadata": {},
   "outputs": [],
   "source": [
    "inD2 = misc.explodeGDF(inD)\n"
   ]
  },
  {
   "cell_type": "code",
   "execution_count": 25,
   "metadata": {},
   "outputs": [],
   "source": [
    "inD2.to_file('/home/wb411133/temp/training_areas_plus_KPG.shp')"
   ]
  },
  {
   "cell_type": "code",
   "execution_count": 111,
   "metadata": {},
   "outputs": [],
   "source": [
    "out_points = '/home/wb411133/temp/training_areas_plus_KPG_points.shp'"
   ]
  },
  {
   "cell_type": "code",
   "execution_count": 85,
   "metadata": {},
   "outputs": [],
   "source": [
    "import importlib\n",
    "\n",
    "from math import ceil\n",
    "from shapely.geometry import Point, Polygon"
   ]
  },
  {
   "cell_type": "code",
   "execution_count": 117,
   "metadata": {},
   "outputs": [],
   "source": [
    "importlib.reload(misc)\n",
    "try: \n",
    "    del final\n",
    "except:\n",
    "    pass\n",
    "idField = 'ClassID'\n",
    "\n",
    "for idx, row in inD2.iterrows():\n",
    "    b = row['geometry'].bounds\n",
    "    res = misc.createFishnet(b[0],b[2],b[1],b[3],inR.res[0],inR.res[0],'POINT',inR.crs.to_epsg(),'')\n",
    "    resIdx = res.intersects(row['geometry'])\n",
    "    res = res.loc[resIdx]\n",
    "    res['ID'] = row[idField]\n",
    "    try:\n",
    "        final = final.append(res)\n",
    "    except:\n",
    "        final = res"
   ]
  },
  {
   "cell_type": "code",
   "execution_count": 118,
   "metadata": {},
   "outputs": [],
   "source": [
    "final.to_file(out_points)"
   ]
  },
  {
   "cell_type": "code",
   "execution_count": 137,
   "metadata": {},
   "outputs": [],
   "source": [
    "from shapely.geometry import box\n",
    "final_idx = final.intersects(box(*inR.bounds))"
   ]
  },
  {
   "cell_type": "code",
   "execution_count": 139,
   "metadata": {},
   "outputs": [],
   "source": [
    "final_intersect = final.loc[final_idx]\n",
    "final_intersect.to_file(out_points)"
   ]
  },
  {
   "cell_type": "code",
   "execution_count": null,
   "metadata": {},
   "outputs": [],
   "source": [
    "inR = rasterio.open()"
   ]
  },
  {
   "cell_type": "code",
   "execution_count": 125,
   "metadata": {},
   "outputs": [],
   "source": [
    "xx = inR.read(1)"
   ]
  },
  {
   "cell_type": "code",
   "execution_count": 126,
   "metadata": {},
   "outputs": [
    {
     "data": {
      "text/plain": [
       "(1399, 1223)"
      ]
     },
     "execution_count": 126,
     "metadata": {},
     "output_type": "execute_result"
    }
   ],
   "source": [
    "xx.shape"
   ]
  },
  {
   "cell_type": "code",
   "execution_count": 129,
   "metadata": {},
   "outputs": [
    {
     "data": {
      "text/plain": [
       "0.0"
      ]
     },
     "execution_count": 129,
     "metadata": {},
     "output_type": "execute_result"
    }
   ],
   "source": [
    "xx.min()"
   ]
  },
  {
   "cell_type": "code",
   "execution_count": 140,
   "metadata": {},
   "outputs": [
    {
     "data": {
      "text/html": [
       "<div>\n",
       "<style scoped>\n",
       "    .dataframe tbody tr th:only-of-type {\n",
       "        vertical-align: middle;\n",
       "    }\n",
       "\n",
       "    .dataframe tbody tr th {\n",
       "        vertical-align: top;\n",
       "    }\n",
       "\n",
       "    .dataframe thead th {\n",
       "        text-align: right;\n",
       "    }\n",
       "</style>\n",
       "<table border=\"1\" class=\"dataframe\">\n",
       "  <thead>\n",
       "    <tr style=\"text-align: right;\">\n",
       "      <th></th>\n",
       "      <th>Id</th>\n",
       "      <th>X</th>\n",
       "      <th>Y</th>\n",
       "      <th>IMG_PHR1B_MS_201602260834109_ORT_69f9d6e3-e511-4d36-cd41-cd7487f13a10-002_R1C1__BD1_BK4_SC8-16_TRmean.1</th>\n",
       "      <th>IMG_PHR1B_MS_201602260834109_ORT_69f9d6e3-e511-4d36-cd41-cd7487f13a10-002_R1C1__BD1_BK4_SC8-16_TRmean.2</th>\n",
       "      <th>IMG_PHR1B_MS_201602260834109_ORT_69f9d6e3-e511-4d36-cd41-cd7487f13a10-002_R1C1__BD1_BK4_SC8-16_TRmean.3</th>\n",
       "      <th>IMG_PHR1B_MS_201602260834109_ORT_69f9d6e3-e511-4d36-cd41-cd7487f13a10-002_R1C1__BD1_BK4_SC8-16_TRmean.4</th>\n",
       "      <th>response</th>\n",
       "    </tr>\n",
       "  </thead>\n",
       "  <tbody>\n",
       "    <tr>\n",
       "      <th>0</th>\n",
       "      <td>0.0</td>\n",
       "      <td>29.353466</td>\n",
       "      <td>-3.392174</td>\n",
       "      <td>9.2413</td>\n",
       "      <td>281.4936</td>\n",
       "      <td>5.3620</td>\n",
       "      <td>515.3516</td>\n",
       "      <td>3.0</td>\n",
       "    </tr>\n",
       "    <tr>\n",
       "      <th>1</th>\n",
       "      <td>1.0</td>\n",
       "      <td>29.353540</td>\n",
       "      <td>-3.392174</td>\n",
       "      <td>8.7982</td>\n",
       "      <td>282.7966</td>\n",
       "      <td>5.2390</td>\n",
       "      <td>506.9937</td>\n",
       "      <td>3.0</td>\n",
       "    </tr>\n",
       "    <tr>\n",
       "      <th>2</th>\n",
       "      <td>2.0</td>\n",
       "      <td>29.353615</td>\n",
       "      <td>-3.392174</td>\n",
       "      <td>8.5744</td>\n",
       "      <td>247.7385</td>\n",
       "      <td>5.0478</td>\n",
       "      <td>496.9581</td>\n",
       "      <td>3.0</td>\n",
       "    </tr>\n",
       "    <tr>\n",
       "      <th>3</th>\n",
       "      <td>3.0</td>\n",
       "      <td>29.353687</td>\n",
       "      <td>-3.392174</td>\n",
       "      <td>8.5860</td>\n",
       "      <td>233.9749</td>\n",
       "      <td>4.6859</td>\n",
       "      <td>391.9447</td>\n",
       "      <td>3.0</td>\n",
       "    </tr>\n",
       "    <tr>\n",
       "      <th>4</th>\n",
       "      <td>4.0</td>\n",
       "      <td>29.353762</td>\n",
       "      <td>-3.392174</td>\n",
       "      <td>8.7685</td>\n",
       "      <td>252.9411</td>\n",
       "      <td>4.6205</td>\n",
       "      <td>350.3257</td>\n",
       "      <td>3.0</td>\n",
       "    </tr>\n",
       "  </tbody>\n",
       "</table>\n",
       "</div>"
      ],
      "text/plain": [
       "    Id          X         Y  \\\n",
       "0  0.0  29.353466 -3.392174   \n",
       "1  1.0  29.353540 -3.392174   \n",
       "2  2.0  29.353615 -3.392174   \n",
       "3  3.0  29.353687 -3.392174   \n",
       "4  4.0  29.353762 -3.392174   \n",
       "\n",
       "   IMG_PHR1B_MS_201602260834109_ORT_69f9d6e3-e511-4d36-cd41-cd7487f13a10-002_R1C1__BD1_BK4_SC8-16_TRmean.1  \\\n",
       "0                                             9.2413                                                         \n",
       "1                                             8.7982                                                         \n",
       "2                                             8.5744                                                         \n",
       "3                                             8.5860                                                         \n",
       "4                                             8.7685                                                         \n",
       "\n",
       "   IMG_PHR1B_MS_201602260834109_ORT_69f9d6e3-e511-4d36-cd41-cd7487f13a10-002_R1C1__BD1_BK4_SC8-16_TRmean.2  \\\n",
       "0                                           281.4936                                                         \n",
       "1                                           282.7966                                                         \n",
       "2                                           247.7385                                                         \n",
       "3                                           233.9749                                                         \n",
       "4                                           252.9411                                                         \n",
       "\n",
       "   IMG_PHR1B_MS_201602260834109_ORT_69f9d6e3-e511-4d36-cd41-cd7487f13a10-002_R1C1__BD1_BK4_SC8-16_TRmean.3  \\\n",
       "0                                             5.3620                                                         \n",
       "1                                             5.2390                                                         \n",
       "2                                             5.0478                                                         \n",
       "3                                             4.6859                                                         \n",
       "4                                             4.6205                                                         \n",
       "\n",
       "   IMG_PHR1B_MS_201602260834109_ORT_69f9d6e3-e511-4d36-cd41-cd7487f13a10-002_R1C1__BD1_BK4_SC8-16_TRmean.4  \\\n",
       "0                                           515.3516                                                         \n",
       "1                                           506.9937                                                         \n",
       "2                                           496.9581                                                         \n",
       "3                                           391.9447                                                         \n",
       "4                                           350.3257                                                         \n",
       "\n",
       "   response  \n",
       "0       3.0  \n",
       "1       3.0  \n",
       "2       3.0  \n",
       "3       3.0  \n",
       "4       3.0  "
      ]
     },
     "execution_count": 140,
     "metadata": {},
     "output_type": "execute_result"
    }
   ],
   "source": [
    "s_file = '/home/public/Data/COUNTRY/BDI/North/spfeas/training/training_areas_plus_KPG_points__IMG_PHR1B_MS_201602260834109_ORT_69f9d6e3-e511-4d36-cd41-cd7487f13a10-002_R1C1__BD1_BK4_SC8-16_TRmean_SAMPLES.txt'\n",
    "xx = pd.read_csv(s_file)\n",
    "xx.head()"
   ]
  },
  {
   "cell_type": "code",
   "execution_count": 141,
   "metadata": {},
   "outputs": [
    {
     "data": {
      "text/plain": [
       "7.0     16573\n",
       "3.0      4746\n",
       "0.0      4708\n",
       "6.0      3560\n",
       "2.0      1853\n",
       "8.0       782\n",
       "10.0      365\n",
       "1.0        39\n",
       "Name: response, dtype: int64"
      ]
     },
     "execution_count": 141,
     "metadata": {},
     "output_type": "execute_result"
    }
   ],
   "source": [
    "xx['response'].value_counts()"
   ]
  },
  {
   "cell_type": "code",
   "execution_count": 143,
   "metadata": {},
   "outputs": [
    {
     "data": {
      "text/html": [
       "<div>\n",
       "<style scoped>\n",
       "    .dataframe tbody tr th:only-of-type {\n",
       "        vertical-align: middle;\n",
       "    }\n",
       "\n",
       "    .dataframe tbody tr th {\n",
       "        vertical-align: top;\n",
       "    }\n",
       "\n",
       "    .dataframe thead th {\n",
       "        text-align: right;\n",
       "    }\n",
       "</style>\n",
       "<table border=\"1\" class=\"dataframe\">\n",
       "  <thead>\n",
       "    <tr style=\"text-align: right;\">\n",
       "      <th></th>\n",
       "      <th>id</th>\n",
       "      <th>Class</th>\n",
       "      <th>Location</th>\n",
       "      <th>classvalue</th>\n",
       "      <th>geometry</th>\n",
       "    </tr>\n",
       "    <tr>\n",
       "      <th>ClassID</th>\n",
       "      <th></th>\n",
       "      <th></th>\n",
       "      <th></th>\n",
       "      <th></th>\n",
       "      <th></th>\n",
       "    </tr>\n",
       "  </thead>\n",
       "  <tbody>\n",
       "    <tr>\n",
       "      <th>0</th>\n",
       "      <td>0</td>\n",
       "      <td>informal</td>\n",
       "      <td>sororezo</td>\n",
       "      <td>0</td>\n",
       "      <td>POLYGON ((29.40098 -3.38828, 29.40118 -3.38828...</td>\n",
       "    </tr>\n",
       "    <tr>\n",
       "      <th>1</th>\n",
       "      <td>0</td>\n",
       "      <td>low income</td>\n",
       "      <td>kanyosha</td>\n",
       "      <td>1</td>\n",
       "      <td>POLYGON ((29.36000 -3.43610, 29.36028 -3.43600...</td>\n",
       "    </tr>\n",
       "    <tr>\n",
       "      <th>2</th>\n",
       "      <td>0</td>\n",
       "      <td>middle income</td>\n",
       "      <td>kibenga</td>\n",
       "      <td>2</td>\n",
       "      <td>POLYGON ((29.34249 -3.41715, 29.34340 -3.41741...</td>\n",
       "    </tr>\n",
       "    <tr>\n",
       "      <th>3</th>\n",
       "      <td>0</td>\n",
       "      <td>high income</td>\n",
       "      <td>rohero</td>\n",
       "      <td>3</td>\n",
       "      <td>POLYGON ((29.35328 -3.39219, 29.35379 -3.39214...</td>\n",
       "    </tr>\n",
       "    <tr>\n",
       "      <th>4</th>\n",
       "      <td>0</td>\n",
       "      <td>commercial</td>\n",
       "      <td>rohero</td>\n",
       "      <td>4</td>\n",
       "      <td>POLYGON ((29.36207 -3.38177, 29.36269 -3.38204...</td>\n",
       "    </tr>\n",
       "    <tr>\n",
       "      <th>5</th>\n",
       "      <td>0</td>\n",
       "      <td>industrial</td>\n",
       "      <td>rohero</td>\n",
       "      <td>5</td>\n",
       "      <td>POLYGON ((29.35010 -3.37597, 29.35114 -3.37576...</td>\n",
       "    </tr>\n",
       "    <tr>\n",
       "      <th>6</th>\n",
       "      <td>0</td>\n",
       "      <td>Agriculture</td>\n",
       "      <td>None</td>\n",
       "      <td>6</td>\n",
       "      <td>POLYGON ((29.36934 -3.43715, 29.36930 -3.43685...</td>\n",
       "    </tr>\n",
       "    <tr>\n",
       "      <th>7</th>\n",
       "      <td>0</td>\n",
       "      <td>OpenWater</td>\n",
       "      <td>None</td>\n",
       "      <td>7</td>\n",
       "      <td>POLYGON ((29.32382 -3.43749, 29.32519 -3.43466...</td>\n",
       "    </tr>\n",
       "    <tr>\n",
       "      <th>8</th>\n",
       "      <td>0</td>\n",
       "      <td>RiverWater</td>\n",
       "      <td>None</td>\n",
       "      <td>8</td>\n",
       "      <td>POLYGON ((29.34033 -3.43187, 29.34036 -3.43180...</td>\n",
       "    </tr>\n",
       "    <tr>\n",
       "      <th>10</th>\n",
       "      <td>0</td>\n",
       "      <td>Forest</td>\n",
       "      <td>None</td>\n",
       "      <td>10</td>\n",
       "      <td>POLYGON ((29.40283 -3.41837, 29.40278 -3.41822...</td>\n",
       "    </tr>\n",
       "  </tbody>\n",
       "</table>\n",
       "</div>"
      ],
      "text/plain": [
       "         id          Class  Location  classvalue  \\\n",
       "ClassID                                            \n",
       "0         0       informal  sororezo           0   \n",
       "1         0     low income  kanyosha           1   \n",
       "2         0  middle income   kibenga           2   \n",
       "3         0    high income    rohero           3   \n",
       "4         0     commercial    rohero           4   \n",
       "5         0     industrial    rohero           5   \n",
       "6         0    Agriculture      None           6   \n",
       "7         0      OpenWater      None           7   \n",
       "8         0     RiverWater      None           8   \n",
       "10        0         Forest      None          10   \n",
       "\n",
       "                                                  geometry  \n",
       "ClassID                                                     \n",
       "0        POLYGON ((29.40098 -3.38828, 29.40118 -3.38828...  \n",
       "1        POLYGON ((29.36000 -3.43610, 29.36028 -3.43600...  \n",
       "2        POLYGON ((29.34249 -3.41715, 29.34340 -3.41741...  \n",
       "3        POLYGON ((29.35328 -3.39219, 29.35379 -3.39214...  \n",
       "4        POLYGON ((29.36207 -3.38177, 29.36269 -3.38204...  \n",
       "5        POLYGON ((29.35010 -3.37597, 29.35114 -3.37576...  \n",
       "6        POLYGON ((29.36934 -3.43715, 29.36930 -3.43685...  \n",
       "7        POLYGON ((29.32382 -3.43749, 29.32519 -3.43466...  \n",
       "8        POLYGON ((29.34033 -3.43187, 29.34036 -3.43180...  \n",
       "10       POLYGON ((29.40283 -3.41837, 29.40278 -3.41822...  "
      ]
     },
     "execution_count": 143,
     "metadata": {},
     "output_type": "execute_result"
    }
   ],
   "source": [
    "inD2.groupby(['ClassID']).first()"
   ]
  },
  {
   "cell_type": "code",
   "execution_count": null,
   "metadata": {},
   "outputs": [],
   "source": []
  }
 ],
 "metadata": {
  "kernelspec": {
   "display_name": "Earth Engine",
   "language": "python",
   "name": "ee"
  },
  "language_info": {
   "codemirror_mode": {
    "name": "ipython",
    "version": 3
   },
   "file_extension": ".py",
   "mimetype": "text/x-python",
   "name": "python",
   "nbconvert_exporter": "python",
   "pygments_lexer": "ipython3",
   "version": "3.9.4"
  }
 },
 "nbformat": 4,
 "nbformat_minor": 5
}
