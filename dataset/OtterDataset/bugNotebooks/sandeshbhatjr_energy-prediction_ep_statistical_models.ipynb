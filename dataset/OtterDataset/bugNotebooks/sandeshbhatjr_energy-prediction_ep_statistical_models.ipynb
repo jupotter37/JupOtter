{
  "nbformat": 4,
  "nbformat_minor": 0,
  "metadata": {
    "colab": {
      "name": "ep_statistical_models",
      "provenance": [],
      "collapsed_sections": [],
      "toc_visible": true
    },
    "kernelspec": {
      "name": "python3",
      "display_name": "Python 3"
    }
  },
  "cells": [
    {
      "cell_type": "markdown",
      "metadata": {
        "id": "O_aU9e5WJwaW",
        "colab_type": "text"
      },
      "source": [
        "Part 2 of **time series forecasting with energy**\n",
        "\n",
        "In this section, I will investigate the problem at hand, formalising it, outlining methods for interpreting error, and setup a baseline using standard statistical methods for time-series analysis. The library `statsmodels` will come in handy for this task."
      ]
    },
    {
      "cell_type": "code",
      "metadata": {
        "id": "haBUkdRBIziF",
        "colab_type": "code",
        "colab": {
          "base_uri": "https://localhost:8080/",
          "height": 34
        },
        "outputId": "8cdbba75-fe58-4b16-9120-918dc7d50589"
      },
      "source": [
        "# LOAD THE REPOSITORY\n",
        "# if you are working from outside the repository\n",
        "# this happens if you use colab like I do\n",
        "!git clone https://github.com/sandeshbhatjr/energy-prediction.git\n",
        "!pip install -U --quiet pandas statsmodels tables numpy"
      ],
      "execution_count": 3,
      "outputs": [
        {
          "output_type": "stream",
          "text": [
            "fatal: destination path 'energy-prediction' already exists and is not an empty directory.\n"
          ],
          "name": "stdout"
        }
      ]
    },
    {
      "cell_type": "code",
      "metadata": {
        "id": "oRXzaf6uM2NU",
        "colab_type": "code",
        "colab": {}
      },
      "source": [
        "import datetime as dt\n",
        "import numpy as np\n",
        "import pandas as pd\n",
        "\n",
        "import matplotlib.pyplot as plt\n",
        "import matplotlib as mpl\n",
        "import seaborn as sns\n",
        "\n",
        "df = pd.read_hdf('energy-prediction/data/clean_german_df', key='df_with_load_and_gen')"
      ],
      "execution_count": 0,
      "outputs": []
    },
    {
      "cell_type": "markdown",
      "metadata": {
        "id": "z-Ef_MEHTfQI",
        "colab_type": "text"
      },
      "source": [
        "If the `pd.read_hdf` throws an error, then it's probably because the version of `pyTables`, or `numpy`, or their combination that you are using is the wrong one. This is a known bug, updating should fix it: see https://stackoverflow.com/questions/54210073/pd-read-hdf-throws-cannot-set-writable-flag-to-true-of-this-array for details."
      ]
    },
    {
      "cell_type": "markdown",
      "metadata": {
        "id": "8hN3GD0GIe9K",
        "colab_type": "text"
      },
      "source": [
        "# Predictive models\n",
        "\n",
        "The purpose is to explore SOTA models for time-series forecasting, specifically in terms of their applicability to forecasting *day-ahead prices*. This will involve both traditional statistical methods, as well as ML methods such as gradient boosting and deep recurrent NNs. In this notebook, I will restrict myself to exploring the traditional techniques, leaving NN based algorithms, and tree-based ones for later notebooks. That said, the general scheme of the problem that we set up here will serve as a basis for the rest of the analysis.  \n",
        "The heuristics of the problem we approach is as follows: we have access to a history of recorded day-ahead prices (2015 to present day, to be more precise) and we are interested in forecasting the day-ahead prices for (at least) the following day. Additionally, we have access to the consumption and load forecast that is released before the day ahead price is set. Depending on the forecast window that you are aiming for, it is possible to use this as an exogenous series, so models accounting for both datasets should be considered.  \n",
        "**Problem formulation**:  \n",
        "Let $\\{t^{\\alpha_1}_1, t^{\\alpha_2}_2 ..\\} \\in \\mathfrak{T} \\times \\mathfrak{D}$ represent a time-ordered sequence with timestep of an hour; here the indexing is as follows: for $t^{\\alpha_j}_i$, $i$ represents date, while $j \\in \\mathbb{R}^{24}$ represents the hour of the day. We are given some historic day-ahead prices $p^{\\alpha_1}_{t_1}, p^{\\alpha_2}_{t_1}, ... ,p_{t_k}^{\\alpha_{24}}$, and in addition, we have a collection of exogenous time series- $d^{\\alpha}_{t_1},d^{\\alpha}_{t_2}, ..., d^{\\alpha}_{t_k}$ indexed by $\\alpha$, which includes the generation and consumption forecasts. Finally for each $t\\in {t_1, ..., t_{k+h'}}, h'>> h$, we have some associated features $f^{\\beta}_t$, where the features are known well into future (for example, if the day is a holiday or not).\n",
        "The problem can be formulated in one of two ways.  \n",
        "1. **The univariate approach:** \n",
        "2. **The multivariate approach:** You can consider the series as a multivariate one with a timestep of one day. forecast the future day-ahead prices $p_{t_{k+1}}, ..., p_{t_{k+h}}$ in a certain future window-size of $h \\in \\mathbb{N}$. \n",
        "\n",
        "As for the multivariate strategy, the following function does the necessary manipulation to our dataset."
      ]
    },
    {
      "cell_type": "code",
      "metadata": {
        "id": "X8j275Z-IjbF",
        "colab_type": "code",
        "colab": {
          "base_uri": "https://localhost:8080/",
          "height": 403
        },
        "outputId": "ccb5236a-764a-4e94-c8e3-ce20a1f3a6ec"
      },
      "source": [
        "def convert_to_multivariate_series(df, data_columns, daily_columns=['Daylight Savings Time']): \n",
        "  multi_df = df[data_columns].groupby(by=[df.index.date, df.index.time]).mean().unstack(-1)\n",
        "  multi_df[daily_columns] = df[daily_columns]\n",
        "  return multi_df\n",
        "\n",
        "convert_to_multivariate_series(df, \n",
        "  ['Day Ahead Price', \n",
        "   'Wind onshore Generation',\n",
        "   'Wind offshore Generation',\n",
        "   'Photovoltaics Generation',\n",
        "   'Total Load'],\n",
        "   daily_columns=['Daylight Savings Time', 'Bidding Zone', 'Holidays']\n",
        ").sample(5)"
      ],
      "execution_count": 5,
      "outputs": [
        {
          "output_type": "execute_result",
          "data": {
            "text/html": [
              "<div>\n",
              "<style scoped>\n",
              "    .dataframe tbody tr th:only-of-type {\n",
              "        vertical-align: middle;\n",
              "    }\n",
              "\n",
              "    .dataframe tbody tr th {\n",
              "        vertical-align: top;\n",
              "    }\n",
              "\n",
              "    .dataframe thead tr th {\n",
              "        text-align: left;\n",
              "    }\n",
              "</style>\n",
              "<table border=\"1\" class=\"dataframe\">\n",
              "  <thead>\n",
              "    <tr>\n",
              "      <th></th>\n",
              "      <th colspan=\"24\" halign=\"left\">Day Ahead Price</th>\n",
              "      <th colspan=\"16\" halign=\"left\">Wind onshore Generation</th>\n",
              "      <th>...</th>\n",
              "      <th colspan=\"13\" halign=\"left\">Photovoltaics Generation</th>\n",
              "      <th colspan=\"24\" halign=\"left\">Total Load</th>\n",
              "      <th>Daylight Savings Time</th>\n",
              "      <th>Bidding Zone</th>\n",
              "      <th>Holidays</th>\n",
              "    </tr>\n",
              "    <tr>\n",
              "      <th></th>\n",
              "      <th>00:00:00</th>\n",
              "      <th>01:00:00</th>\n",
              "      <th>02:00:00</th>\n",
              "      <th>03:00:00</th>\n",
              "      <th>04:00:00</th>\n",
              "      <th>05:00:00</th>\n",
              "      <th>06:00:00</th>\n",
              "      <th>07:00:00</th>\n",
              "      <th>08:00:00</th>\n",
              "      <th>09:00:00</th>\n",
              "      <th>10:00:00</th>\n",
              "      <th>11:00:00</th>\n",
              "      <th>12:00:00</th>\n",
              "      <th>13:00:00</th>\n",
              "      <th>14:00:00</th>\n",
              "      <th>15:00:00</th>\n",
              "      <th>16:00:00</th>\n",
              "      <th>17:00:00</th>\n",
              "      <th>18:00:00</th>\n",
              "      <th>19:00:00</th>\n",
              "      <th>20:00:00</th>\n",
              "      <th>21:00:00</th>\n",
              "      <th>22:00:00</th>\n",
              "      <th>23:00:00</th>\n",
              "      <th>00:00:00</th>\n",
              "      <th>01:00:00</th>\n",
              "      <th>02:00:00</th>\n",
              "      <th>03:00:00</th>\n",
              "      <th>04:00:00</th>\n",
              "      <th>05:00:00</th>\n",
              "      <th>06:00:00</th>\n",
              "      <th>07:00:00</th>\n",
              "      <th>08:00:00</th>\n",
              "      <th>09:00:00</th>\n",
              "      <th>10:00:00</th>\n",
              "      <th>11:00:00</th>\n",
              "      <th>12:00:00</th>\n",
              "      <th>13:00:00</th>\n",
              "      <th>14:00:00</th>\n",
              "      <th>15:00:00</th>\n",
              "      <th>...</th>\n",
              "      <th>11:00:00</th>\n",
              "      <th>12:00:00</th>\n",
              "      <th>13:00:00</th>\n",
              "      <th>14:00:00</th>\n",
              "      <th>15:00:00</th>\n",
              "      <th>16:00:00</th>\n",
              "      <th>17:00:00</th>\n",
              "      <th>18:00:00</th>\n",
              "      <th>19:00:00</th>\n",
              "      <th>20:00:00</th>\n",
              "      <th>21:00:00</th>\n",
              "      <th>22:00:00</th>\n",
              "      <th>23:00:00</th>\n",
              "      <th>00:00:00</th>\n",
              "      <th>01:00:00</th>\n",
              "      <th>02:00:00</th>\n",
              "      <th>03:00:00</th>\n",
              "      <th>04:00:00</th>\n",
              "      <th>05:00:00</th>\n",
              "      <th>06:00:00</th>\n",
              "      <th>07:00:00</th>\n",
              "      <th>08:00:00</th>\n",
              "      <th>09:00:00</th>\n",
              "      <th>10:00:00</th>\n",
              "      <th>11:00:00</th>\n",
              "      <th>12:00:00</th>\n",
              "      <th>13:00:00</th>\n",
              "      <th>14:00:00</th>\n",
              "      <th>15:00:00</th>\n",
              "      <th>16:00:00</th>\n",
              "      <th>17:00:00</th>\n",
              "      <th>18:00:00</th>\n",
              "      <th>19:00:00</th>\n",
              "      <th>20:00:00</th>\n",
              "      <th>21:00:00</th>\n",
              "      <th>22:00:00</th>\n",
              "      <th>23:00:00</th>\n",
              "      <th></th>\n",
              "      <th></th>\n",
              "      <th></th>\n",
              "    </tr>\n",
              "  </thead>\n",
              "  <tbody>\n",
              "    <tr>\n",
              "      <th>2016-09-18</th>\n",
              "      <td>22.39</td>\n",
              "      <td>21.22</td>\n",
              "      <td>20.00</td>\n",
              "      <td>18.43</td>\n",
              "      <td>19.53</td>\n",
              "      <td>20.43</td>\n",
              "      <td>20.73</td>\n",
              "      <td>22.77</td>\n",
              "      <td>24.78</td>\n",
              "      <td>24.56</td>\n",
              "      <td>24.98</td>\n",
              "      <td>24.00</td>\n",
              "      <td>24.10</td>\n",
              "      <td>23.15</td>\n",
              "      <td>22.93</td>\n",
              "      <td>23.20</td>\n",
              "      <td>27.16</td>\n",
              "      <td>32.54</td>\n",
              "      <td>36.11</td>\n",
              "      <td>34.94</td>\n",
              "      <td>31.10</td>\n",
              "      <td>27.94</td>\n",
              "      <td>25.46</td>\n",
              "      <td>24.56</td>\n",
              "      <td>2390.25</td>\n",
              "      <td>2317.25</td>\n",
              "      <td>2286.50</td>\n",
              "      <td>2271.75</td>\n",
              "      <td>2267.25</td>\n",
              "      <td>2233.00</td>\n",
              "      <td>2144.75</td>\n",
              "      <td>2025.25</td>\n",
              "      <td>1941.25</td>\n",
              "      <td>1913.75</td>\n",
              "      <td>1872.00</td>\n",
              "      <td>1787.00</td>\n",
              "      <td>1696.00</td>\n",
              "      <td>1603.25</td>\n",
              "      <td>1535.25</td>\n",
              "      <td>1481.25</td>\n",
              "      <td>...</td>\n",
              "      <td>2663.00</td>\n",
              "      <td>2697.25</td>\n",
              "      <td>2504.00</td>\n",
              "      <td>2111.00</td>\n",
              "      <td>1532.25</td>\n",
              "      <td>860.25</td>\n",
              "      <td>269.25</td>\n",
              "      <td>19.0</td>\n",
              "      <td>0.0</td>\n",
              "      <td>0.0</td>\n",
              "      <td>0.0</td>\n",
              "      <td>0.0</td>\n",
              "      <td>0.0</td>\n",
              "      <td>9290.4375</td>\n",
              "      <td>9034.3125</td>\n",
              "      <td>8931.0000</td>\n",
              "      <td>8969.9375</td>\n",
              "      <td>9101.5000</td>\n",
              "      <td>9383.0625</td>\n",
              "      <td>9886.8125</td>\n",
              "      <td>10766.1875</td>\n",
              "      <td>11451.2500</td>\n",
              "      <td>11975.0000</td>\n",
              "      <td>12466.8750</td>\n",
              "      <td>12394.0625</td>\n",
              "      <td>11926.9375</td>\n",
              "      <td>11542.3750</td>\n",
              "      <td>11439.1875</td>\n",
              "      <td>11406.8125</td>\n",
              "      <td>11657.1875</td>\n",
              "      <td>12049.3125</td>\n",
              "      <td>12340.1250</td>\n",
              "      <td>12405.3750</td>\n",
              "      <td>11925.3125</td>\n",
              "      <td>11553.4375</td>\n",
              "      <td>10703.9375</td>\n",
              "      <td>10087.9375</td>\n",
              "      <td>1</td>\n",
              "      <td>DE-AT-LU</td>\n",
              "      <td>None</td>\n",
              "    </tr>\n",
              "    <tr>\n",
              "      <th>2015-02-23</th>\n",
              "      <td>18.62</td>\n",
              "      <td>16.53</td>\n",
              "      <td>14.09</td>\n",
              "      <td>11.90</td>\n",
              "      <td>12.25</td>\n",
              "      <td>18.18</td>\n",
              "      <td>29.06</td>\n",
              "      <td>32.19</td>\n",
              "      <td>30.65</td>\n",
              "      <td>35.01</td>\n",
              "      <td>35.79</td>\n",
              "      <td>38.58</td>\n",
              "      <td>39.94</td>\n",
              "      <td>40.84</td>\n",
              "      <td>39.99</td>\n",
              "      <td>40.98</td>\n",
              "      <td>40.66</td>\n",
              "      <td>42.56</td>\n",
              "      <td>53.00</td>\n",
              "      <td>46.18</td>\n",
              "      <td>37.32</td>\n",
              "      <td>30.98</td>\n",
              "      <td>30.08</td>\n",
              "      <td>24.93</td>\n",
              "      <td>4141.00</td>\n",
              "      <td>4534.75</td>\n",
              "      <td>4904.00</td>\n",
              "      <td>5146.25</td>\n",
              "      <td>5300.75</td>\n",
              "      <td>5357.75</td>\n",
              "      <td>5316.00</td>\n",
              "      <td>5130.25</td>\n",
              "      <td>4823.50</td>\n",
              "      <td>4427.50</td>\n",
              "      <td>3965.25</td>\n",
              "      <td>3591.50</td>\n",
              "      <td>3346.75</td>\n",
              "      <td>3113.25</td>\n",
              "      <td>2910.75</td>\n",
              "      <td>2735.25</td>\n",
              "      <td>...</td>\n",
              "      <td>995.00</td>\n",
              "      <td>992.25</td>\n",
              "      <td>849.00</td>\n",
              "      <td>659.75</td>\n",
              "      <td>433.75</td>\n",
              "      <td>181.75</td>\n",
              "      <td>28.50</td>\n",
              "      <td>0.0</td>\n",
              "      <td>0.0</td>\n",
              "      <td>0.0</td>\n",
              "      <td>0.0</td>\n",
              "      <td>0.0</td>\n",
              "      <td>0.0</td>\n",
              "      <td>11701.6875</td>\n",
              "      <td>11236.5000</td>\n",
              "      <td>11057.0625</td>\n",
              "      <td>11130.1875</td>\n",
              "      <td>11497.4375</td>\n",
              "      <td>12398.3750</td>\n",
              "      <td>14251.6875</td>\n",
              "      <td>15743.5625</td>\n",
              "      <td>16356.1875</td>\n",
              "      <td>16425.1875</td>\n",
              "      <td>16829.2500</td>\n",
              "      <td>17119.3750</td>\n",
              "      <td>16908.3125</td>\n",
              "      <td>16689.4375</td>\n",
              "      <td>16493.1250</td>\n",
              "      <td>16302.0000</td>\n",
              "      <td>16115.5625</td>\n",
              "      <td>16285.3750</td>\n",
              "      <td>17072.2500</td>\n",
              "      <td>16903.1875</td>\n",
              "      <td>15891.5625</td>\n",
              "      <td>15053.7500</td>\n",
              "      <td>14443.5000</td>\n",
              "      <td>13052.3125</td>\n",
              "      <td>0</td>\n",
              "      <td>DE-AT-LU</td>\n",
              "      <td>None</td>\n",
              "    </tr>\n",
              "    <tr>\n",
              "      <th>2017-12-01</th>\n",
              "      <td>35.82</td>\n",
              "      <td>38.59</td>\n",
              "      <td>37.18</td>\n",
              "      <td>37.00</td>\n",
              "      <td>37.42</td>\n",
              "      <td>36.14</td>\n",
              "      <td>55.97</td>\n",
              "      <td>81.69</td>\n",
              "      <td>75.01</td>\n",
              "      <td>72.89</td>\n",
              "      <td>70.38</td>\n",
              "      <td>74.87</td>\n",
              "      <td>74.91</td>\n",
              "      <td>73.18</td>\n",
              "      <td>72.50</td>\n",
              "      <td>74.42</td>\n",
              "      <td>76.60</td>\n",
              "      <td>85.69</td>\n",
              "      <td>82.57</td>\n",
              "      <td>77.38</td>\n",
              "      <td>61.95</td>\n",
              "      <td>52.93</td>\n",
              "      <td>41.58</td>\n",
              "      <td>37.94</td>\n",
              "      <td>513.25</td>\n",
              "      <td>499.25</td>\n",
              "      <td>497.50</td>\n",
              "      <td>515.75</td>\n",
              "      <td>545.75</td>\n",
              "      <td>579.75</td>\n",
              "      <td>615.25</td>\n",
              "      <td>641.50</td>\n",
              "      <td>632.50</td>\n",
              "      <td>602.75</td>\n",
              "      <td>570.25</td>\n",
              "      <td>530.50</td>\n",
              "      <td>496.00</td>\n",
              "      <td>481.50</td>\n",
              "      <td>489.75</td>\n",
              "      <td>519.00</td>\n",
              "      <td>...</td>\n",
              "      <td>1360.25</td>\n",
              "      <td>1364.25</td>\n",
              "      <td>1121.25</td>\n",
              "      <td>699.75</td>\n",
              "      <td>231.75</td>\n",
              "      <td>11.50</td>\n",
              "      <td>0.00</td>\n",
              "      <td>0.0</td>\n",
              "      <td>0.0</td>\n",
              "      <td>0.0</td>\n",
              "      <td>0.0</td>\n",
              "      <td>0.0</td>\n",
              "      <td>0.0</td>\n",
              "      <td>13264.5625</td>\n",
              "      <td>12768.5625</td>\n",
              "      <td>12544.5625</td>\n",
              "      <td>12615.5625</td>\n",
              "      <td>12944.3750</td>\n",
              "      <td>13690.9375</td>\n",
              "      <td>15553.8125</td>\n",
              "      <td>17172.8125</td>\n",
              "      <td>17755.6875</td>\n",
              "      <td>17723.9375</td>\n",
              "      <td>17849.9375</td>\n",
              "      <td>17980.5625</td>\n",
              "      <td>17823.8125</td>\n",
              "      <td>17589.6250</td>\n",
              "      <td>17254.7500</td>\n",
              "      <td>17068.2500</td>\n",
              "      <td>17235.2500</td>\n",
              "      <td>17815.1875</td>\n",
              "      <td>17596.7500</td>\n",
              "      <td>17165.6875</td>\n",
              "      <td>16209.9375</td>\n",
              "      <td>15340.6875</td>\n",
              "      <td>14792.0000</td>\n",
              "      <td>13717.1250</td>\n",
              "      <td>0</td>\n",
              "      <td>DE-AT-LU</td>\n",
              "      <td>None</td>\n",
              "    </tr>\n",
              "    <tr>\n",
              "      <th>2018-02-06</th>\n",
              "      <td>36.12</td>\n",
              "      <td>35.00</td>\n",
              "      <td>34.76</td>\n",
              "      <td>35.38</td>\n",
              "      <td>36.25</td>\n",
              "      <td>37.36</td>\n",
              "      <td>43.95</td>\n",
              "      <td>56.77</td>\n",
              "      <td>62.51</td>\n",
              "      <td>61.61</td>\n",
              "      <td>54.94</td>\n",
              "      <td>47.96</td>\n",
              "      <td>44.95</td>\n",
              "      <td>44.61</td>\n",
              "      <td>46.92</td>\n",
              "      <td>49.45</td>\n",
              "      <td>53.75</td>\n",
              "      <td>60.21</td>\n",
              "      <td>65.50</td>\n",
              "      <td>58.08</td>\n",
              "      <td>47.91</td>\n",
              "      <td>40.67</td>\n",
              "      <td>38.14</td>\n",
              "      <td>38.03</td>\n",
              "      <td>1480.00</td>\n",
              "      <td>1354.50</td>\n",
              "      <td>1231.25</td>\n",
              "      <td>1133.25</td>\n",
              "      <td>1050.25</td>\n",
              "      <td>995.75</td>\n",
              "      <td>950.25</td>\n",
              "      <td>893.00</td>\n",
              "      <td>807.25</td>\n",
              "      <td>691.00</td>\n",
              "      <td>552.75</td>\n",
              "      <td>467.25</td>\n",
              "      <td>420.75</td>\n",
              "      <td>390.00</td>\n",
              "      <td>376.00</td>\n",
              "      <td>356.25</td>\n",
              "      <td>...</td>\n",
              "      <td>3046.75</td>\n",
              "      <td>3282.00</td>\n",
              "      <td>3091.25</td>\n",
              "      <td>2500.75</td>\n",
              "      <td>1578.50</td>\n",
              "      <td>554.50</td>\n",
              "      <td>15.75</td>\n",
              "      <td>0.0</td>\n",
              "      <td>0.0</td>\n",
              "      <td>0.0</td>\n",
              "      <td>0.0</td>\n",
              "      <td>0.0</td>\n",
              "      <td>0.0</td>\n",
              "      <td>13774.0625</td>\n",
              "      <td>13311.2500</td>\n",
              "      <td>13118.8125</td>\n",
              "      <td>13199.6250</td>\n",
              "      <td>13495.0625</td>\n",
              "      <td>14193.5625</td>\n",
              "      <td>15957.2500</td>\n",
              "      <td>17523.9375</td>\n",
              "      <td>18101.2500</td>\n",
              "      <td>18164.3125</td>\n",
              "      <td>18389.1250</td>\n",
              "      <td>18556.1875</td>\n",
              "      <td>18512.4375</td>\n",
              "      <td>18422.3750</td>\n",
              "      <td>18069.0625</td>\n",
              "      <td>17871.9375</td>\n",
              "      <td>17660.0625</td>\n",
              "      <td>18108.9375</td>\n",
              "      <td>18395.6875</td>\n",
              "      <td>18089.6250</td>\n",
              "      <td>17102.0625</td>\n",
              "      <td>16293.2500</td>\n",
              "      <td>15691.5625</td>\n",
              "      <td>14552.5625</td>\n",
              "      <td>0</td>\n",
              "      <td>DE-AT-LU</td>\n",
              "      <td>None</td>\n",
              "    </tr>\n",
              "    <tr>\n",
              "      <th>2020-01-17</th>\n",
              "      <td>27.36</td>\n",
              "      <td>27.16</td>\n",
              "      <td>26.58</td>\n",
              "      <td>25.71</td>\n",
              "      <td>26.01</td>\n",
              "      <td>27.97</td>\n",
              "      <td>31.09</td>\n",
              "      <td>40.20</td>\n",
              "      <td>43.80</td>\n",
              "      <td>42.94</td>\n",
              "      <td>42.34</td>\n",
              "      <td>40.79</td>\n",
              "      <td>41.04</td>\n",
              "      <td>39.94</td>\n",
              "      <td>39.02</td>\n",
              "      <td>43.01</td>\n",
              "      <td>42.80</td>\n",
              "      <td>45.79</td>\n",
              "      <td>46.00</td>\n",
              "      <td>44.66</td>\n",
              "      <td>40.99</td>\n",
              "      <td>33.90</td>\n",
              "      <td>33.38</td>\n",
              "      <td>33.00</td>\n",
              "      <td>5028.50</td>\n",
              "      <td>4996.50</td>\n",
              "      <td>4938.25</td>\n",
              "      <td>4835.25</td>\n",
              "      <td>4721.25</td>\n",
              "      <td>4671.25</td>\n",
              "      <td>4728.50</td>\n",
              "      <td>4739.75</td>\n",
              "      <td>4668.00</td>\n",
              "      <td>4618.50</td>\n",
              "      <td>4241.00</td>\n",
              "      <td>3678.75</td>\n",
              "      <td>3200.75</td>\n",
              "      <td>2913.00</td>\n",
              "      <td>2812.75</td>\n",
              "      <td>2821.25</td>\n",
              "      <td>...</td>\n",
              "      <td>2684.50</td>\n",
              "      <td>2873.75</td>\n",
              "      <td>2534.75</td>\n",
              "      <td>1770.00</td>\n",
              "      <td>814.75</td>\n",
              "      <td>123.00</td>\n",
              "      <td>0.00</td>\n",
              "      <td>0.0</td>\n",
              "      <td>0.0</td>\n",
              "      <td>0.0</td>\n",
              "      <td>0.0</td>\n",
              "      <td>0.0</td>\n",
              "      <td>0.0</td>\n",
              "      <td>13291.7500</td>\n",
              "      <td>12669.7500</td>\n",
              "      <td>12557.0000</td>\n",
              "      <td>12656.0000</td>\n",
              "      <td>12972.5000</td>\n",
              "      <td>13626.5000</td>\n",
              "      <td>15461.7500</td>\n",
              "      <td>17064.0000</td>\n",
              "      <td>17539.0000</td>\n",
              "      <td>17581.2500</td>\n",
              "      <td>17691.2500</td>\n",
              "      <td>17977.5000</td>\n",
              "      <td>17705.7500</td>\n",
              "      <td>17497.2500</td>\n",
              "      <td>17101.0000</td>\n",
              "      <td>16782.0000</td>\n",
              "      <td>16743.2500</td>\n",
              "      <td>17166.2500</td>\n",
              "      <td>17278.0000</td>\n",
              "      <td>16800.2500</td>\n",
              "      <td>15896.7500</td>\n",
              "      <td>15082.5000</td>\n",
              "      <td>14695.0000</td>\n",
              "      <td>13860.2500</td>\n",
              "      <td>0</td>\n",
              "      <td>DE-LU</td>\n",
              "      <td>None</td>\n",
              "    </tr>\n",
              "  </tbody>\n",
              "</table>\n",
              "<p>5 rows × 123 columns</p>\n",
              "</div>"
            ],
            "text/plain": [
              "           Day Ahead Price           ... Bidding Zone Holidays\n",
              "                  00:00:00 01:00:00  ...                      \n",
              "2016-09-18           22.39    21.22  ...     DE-AT-LU     None\n",
              "2015-02-23           18.62    16.53  ...     DE-AT-LU     None\n",
              "2017-12-01           35.82    38.59  ...     DE-AT-LU     None\n",
              "2018-02-06           36.12    35.00  ...     DE-AT-LU     None\n",
              "2020-01-17           27.36    27.16  ...        DE-LU     None\n",
              "\n",
              "[5 rows x 123 columns]"
            ]
          },
          "metadata": {
            "tags": []
          },
          "execution_count": 5
        }
      ]
    },
    {
      "cell_type": "code",
      "metadata": {
        "id": "QOQkDdkPH6N9",
        "colab_type": "code",
        "colab": {}
      },
      "source": [
        "def convert_to_univariate_series(multi_df, multi_column):\n",
        "  uni_df = multi_df[multi_column].stack(-1)\n",
        "  combined_index = uni_df.index.map(lambda x: dt.datetime.combine(x[0], x[1]))\n",
        "  return uni_df.set_index(combined_index)"
      ],
      "execution_count": 0,
      "outputs": []
    },
    {
      "cell_type": "code",
      "metadata": {
        "id": "aNvo0PCjx3LC",
        "colab_type": "code",
        "colab": {}
      },
      "source": [
        "multi_df = convert_to_multivariate_series(\n",
        "    df, \n",
        "    ['Day Ahead Price', \n",
        "     'Wind onshore Generation', \n",
        "     'Wind offshore Generation', \n",
        "     'Photovoltaics Generation', \n",
        "     'Total Load'], \n",
        "    daily_columns=['Daylight Savings Time', 'Holidays', 'Bidding Zone']\n",
        "  )"
      ],
      "execution_count": 0,
      "outputs": []
    },
    {
      "cell_type": "markdown",
      "metadata": {
        "id": "q7NuEz3EKOTV",
        "colab_type": "text"
      },
      "source": [
        "**Windowed dataset using Keras Timeseries generator**\n",
        "\n",
        "Most models will work not on the entire time series, but on a windowed subset of the time series. Keras has an inbuilt windowed dataset generator, but it helps to know a few things before we use that. It is primarily meant for use with Keras, so it produces a generator that outputs the dataset in batches as a list $[b_1, b_2, ...]$. Each batch $b_i$ consists of $[X,y]$, with each being a numpy array. The format here is as follows: each $X$ is a windowed dataset with following indices: `(sample, timestep, feature)`, while $y$ is of the form `(sample, value)`. The assumption here is that `y` consists of a single timestep, which works fine in our case."
      ]
    },
    {
      "cell_type": "code",
      "metadata": {
        "id": "KTIeAIoDKOw2",
        "colab_type": "code",
        "colab": {}
      },
      "source": [
        "%tensorflow_version 2.x\n",
        "from tensorflow.keras.preprocessing.sequence import TimeseriesGenerator\n",
        "\n",
        "def get_windowed_dataset(df, X_cols, y_cols, window_size, return_generator=False, **kwargs):\n",
        "  # use batch size if defined, else return the whole dataset in one batch\n",
        "  try:\n",
        "    batch_size = kwargs['batch_size']\n",
        "  except KeyError as e:\n",
        "    batch_size = len(df.index)\n",
        "  X_data = df[X_cols].to_numpy()\n",
        "  y_data = df[y_cols].to_numpy()\n",
        "  generator = TimeseriesGenerator(\n",
        "      X_data,\n",
        "      y_data,\n",
        "      length = window_size, \n",
        "      sampling_rate = 1,\n",
        "      batch_size = batch_size)\n",
        "  if return_generator:\n",
        "    return generator\n",
        "  else:\n",
        "    X_batches = [X for (X, y) in generator]\n",
        "    y_batches = [y for (X, y) in generator]\n",
        "    return X_batches, y_batches"
      ],
      "execution_count": 0,
      "outputs": []
    },
    {
      "cell_type": "markdown",
      "metadata": {
        "id": "ZrUDKYQGTceQ",
        "colab_type": "text"
      },
      "source": [
        "Just a quick check to see if the generator works as expected:"
      ]
    },
    {
      "cell_type": "code",
      "metadata": {
        "id": "kp4U3qYrTbzw",
        "colab_type": "code",
        "colab": {
          "base_uri": "https://localhost:8080/",
          "height": 34
        },
        "outputId": "2d1714dc-4ef1-4e6e-fbce-60db6faee9a1"
      },
      "source": [
        "generator = get_windowed_dataset(\n",
        "    df, \n",
        "    ['Day Ahead Price', 'Wind onshore Generation', 'Wind offshore Generation'], \n",
        "    ['Day Ahead Price'], \n",
        "    1, \n",
        "    return_generator = True,\n",
        "    with_index = True\n",
        ")\n",
        "\n",
        "generator[0][0].shape, generator[0][1].shape"
      ],
      "execution_count": 33,
      "outputs": [
        {
          "output_type": "execute_result",
          "data": {
            "text/plain": [
              "((44567, 1, 3), (44567, 1))"
            ]
          },
          "metadata": {
            "tags": []
          },
          "execution_count": 33
        }
      ]
    },
    {
      "cell_type": "markdown",
      "metadata": {
        "id": "T2_xqE4uiQJg",
        "colab_type": "text"
      },
      "source": [
        "Check again for the $(X, y)$ windowed dataset generation."
      ]
    },
    {
      "cell_type": "code",
      "metadata": {
        "id": "UF1IxyK6hLm3",
        "colab_type": "code",
        "colab": {
          "base_uri": "https://localhost:8080/",
          "height": 34
        },
        "outputId": "7388d551-fcb6-49a4-8e5d-0add51e2bc51"
      },
      "source": [
        "X, y = get_windowed_dataset(\n",
        "    df, \n",
        "    ['Day Ahead Price', 'Wind offshore Generation'], \n",
        "    ['Day Ahead Price'], \n",
        "    1\n",
        ")\n",
        "\n",
        "X[0].shape, y[0].shape"
      ],
      "execution_count": 10,
      "outputs": [
        {
          "output_type": "execute_result",
          "data": {
            "text/plain": [
              "((44567, 1, 2), (44567, 1))"
            ]
          },
          "metadata": {
            "tags": []
          },
          "execution_count": 10
        }
      ]
    },
    {
      "cell_type": "markdown",
      "metadata": {
        "id": "mYPdFTX4iXIy",
        "colab_type": "text"
      },
      "source": [
        "Everything looks in order."
      ]
    },
    {
      "cell_type": "markdown",
      "metadata": {
        "id": "E9NgiOPfTfxL",
        "colab_type": "text"
      },
      "source": [
        "Before proceeding to investigate our models, it is important to figure out a cross-validation strategy and testing strategy using a metric to assess the performance of each of our models. There are two points to keep in mind.  \n",
        "\n",
        "1. The cross-validation strategy for temporal data is a bit different from randomly choosing a subset of the dataset. Since the goal of our analysis is to forecast future values using present data, we will likewise train on a dataset from the past, and validate it against a subset to the future of it. This simulates the actual situation at hand. The textbook technique on this even places a buffer between the training and test set, but since we do not have a lot of data, I will not do this; see [SE11, TAS00] for further details.\n",
        "2. For a simple criterion to do a quick comparison of algorithms as a first step in model evaluation, the sMAPE suffices:\n",
        "$$s = \\frac{|y-\\hat{y}|}{2(|y| + |\\hat{y}|)} $$ This should be sufficient for a first-order estimate of how well our models are doing; later on, we can perform more sophisticated forms of tests for our analysis.\n",
        "\n",
        "To cover pt. 1, we create a function to split the dataset into a train and test sets chronologically separated as described. We also create a GridsearchCV equivalent for time series for hyperparameter search in ML models."
      ]
    },
    {
      "cell_type": "code",
      "metadata": {
        "id": "NF5vGQvcUKmd",
        "colab_type": "code",
        "colab": {}
      },
      "source": [
        "def test_train_timesplit(df, train_size=0.9, test_size=0.1):\n",
        "  \"\"\"\n",
        "    Returns test-train split data based on date with test chronologically later than train data.\n",
        "  \"\"\"\n",
        "  min_date = df.index.min()\n",
        "  max_date = df.index.max()\n",
        "  train_split_date = min_date + (train_size*(max_date - min_date))\n",
        "  test_split_date = train_split_date + (test_size*(max_date - min_date))\n",
        "  train_df = df[df.index < train_split_date]\n",
        "  test_df = df[(df.index > train_split_date) & (df.index < test_split_date)]\n",
        "  return train_df, test_df\n",
        "\n",
        "def day_forward_chaining(df, date_col_name='Date', k=10):\n",
        "  for i in range(1,k):\n",
        "    yield test_train_timesplit(df, train_size=(i/k), test_size=(1/k))\n",
        "\n",
        "# The above function is the time-series equivalent of gridsearch CV\n",
        "# Example use-case:\n",
        "# for train_df, test_df in day_forward_chaining(german_df):\n",
        "#   <<< do your model training and tuning here >>>"
      ],
      "execution_count": 0,
      "outputs": []
    },
    {
      "cell_type": "markdown",
      "metadata": {
        "id": "9YxvlQ3lry9F",
        "colab_type": "text"
      },
      "source": [
        "For the second part, to compute sMAPE for model evaluation, the following class is defined. This will isolate all the error analysis tools in one class that we can use across models."
      ]
    },
    {
      "cell_type": "code",
      "metadata": {
        "id": "O6GGCx1JTiXz",
        "colab_type": "code",
        "colab": {}
      },
      "source": [
        "class error_analysis:\n",
        "  def __init__(self, y, yhat, verbose=False):\n",
        "    # prediction_df needs to be a dataframe of predictions in column yhat with a datetime index\n",
        "    # original_df needs to be a dataframe of actual values in column y with a datetime index\n",
        "    if verbose:\n",
        "      print(dates_considered)\n",
        "    dates_considered = set(y.index.to_list()).intersection(set(yhat.index.to_list()))\n",
        "    self.y = y.loc[dates_considered]\n",
        "    self.yhat = yhat.loc[dates_considered]\n",
        "  def residuals(self):\n",
        "    residual_series = np.absolute(self.y - self.yhat)\n",
        "    smape_series = (2*residual_series)/(self.yhat + self.y)\n",
        "    return residual_series, smape_series\n",
        "  def smape_by_hour(self):\n",
        "    _, smape_series = self.residuals()\n",
        "    smape_series.replace(np.inf, 0) # remove infinite values\n",
        "    smape_df = smape_series.groupby([smape_series.index.date, smape_series.index.time]).mean().unstack(-1)\n",
        "    return smape_df.mean(axis=0, skipna=True)*100\n",
        "  def total_smape(self):\n",
        "    smape_by_hour = self.smape_by_hour()\n",
        "    return smape_by_hour.mean(skipna=True)"
      ],
      "execution_count": 0,
      "outputs": []
    },
    {
      "cell_type": "markdown",
      "metadata": {
        "id": "1G_afRkMM-Cl",
        "colab_type": "text"
      },
      "source": [
        "**Naive model and the baseline**\n",
        "\n",
        "A naive model is as follows: $p_{t+h} = p_t $ for all $h$ in the future window. This allows us to setup a baseline which any meaningful model should be able to outperform, hence is useful in debugging complex models (especially deep ones, later on)."
      ]
    },
    {
      "cell_type": "code",
      "metadata": {
        "id": "8rGGBwVqTOPE",
        "colab_type": "code",
        "colab": {
          "base_uri": "https://localhost:8080/",
          "height": 34
        },
        "outputId": "76f10e58-a79e-4ec0-aad1-913b27009d53"
      },
      "source": [
        "def naive_model(df, y_column):\n",
        "  shifted_index = df.index + pd.Timedelta(1, unit='D')\n",
        "  yhat = df.set_index(shifted_index)[y_column]\n",
        "  return yhat\n",
        "\n",
        "_, test_df = test_train_timesplit(df)\n",
        "yhat = naive_model(test_df, 'Day Ahead Price')\n",
        "y = test_df['Day Ahead Price']\n",
        "\n",
        "naive_error = error_analysis(yhat, y)\n",
        "naive_error.total_smape()"
      ],
      "execution_count": 35,
      "outputs": [
        {
          "output_type": "execute_result",
          "data": {
            "text/plain": [
              "29.620433589742245"
            ]
          },
          "metadata": {
            "tags": []
          },
          "execution_count": 35
        }
      ]
    },
    {
      "cell_type": "markdown",
      "metadata": {
        "id": "w8lg9F7UsI5D",
        "colab_type": "text"
      },
      "source": [
        "So, there's our baseline. Anything that performs worse usually means that we are doing something wrong.  \n",
        "\n",
        "Another simple baseline is to simply take the weighted average of the previous values."
      ]
    },
    {
      "cell_type": "code",
      "metadata": {
        "id": "oEAwcicoCa35",
        "colab_type": "code",
        "colab": {}
      },
      "source": [
        "def mamodel(X, alpha=0.1):\n",
        "  window_size = X.shape[1]\n",
        "  weight = np.array([pow(alpha, i) for i in reversed(range(window_size))])\n",
        "  return np.tensordot(weight, X, axes=(0,1)) / np.sum(weight)"
      ],
      "execution_count": 0,
      "outputs": []
    },
    {
      "cell_type": "markdown",
      "metadata": {
        "id": "jxKxylBJN9mc",
        "colab_type": "text"
      },
      "source": [
        "# Regression and autoregressive models\n",
        "\n",
        "For time-series data, regression usually presents itself in the form of auto-regression, i.e. regression in terms of previous time-step variable. A very simple example would be the $AR(k)$ models, where the hypothesis is as follows:\n",
        "$$p_{t+h}=\\sum_{i=0}^k\\alpha_ip_{t-i}+\\epsilon$$ where $\\epsilon$ is random white noise."
      ]
    },
    {
      "cell_type": "code",
      "metadata": {
        "id": "BUYzrgu_N_aI",
        "colab_type": "code",
        "colab": {}
      },
      "source": [
        ""
      ],
      "execution_count": 0,
      "outputs": []
    },
    {
      "cell_type": "markdown",
      "metadata": {
        "id": "Vz8K_FDnWRyu",
        "colab_type": "text"
      },
      "source": [
        "The above technique is a very simple one; there are far more sophistical statistical techniques available. We will pursue them here through the use of `statsmodels` library. I will not explore the algorithms themselves in detail (though it will make for a good series of blog posts sometime in the near future; for now refer to [HA18] for details)."
      ]
    },
    {
      "cell_type": "markdown",
      "metadata": {
        "id": "fr2-kQl8Dxe8",
        "colab_type": "text"
      },
      "source": [
        "## On detrending/deseasonalising the dataset"
      ]
    },
    {
      "cell_type": "code",
      "metadata": {
        "id": "DaCrfWPsD5yK",
        "colab_type": "code",
        "colab": {}
      },
      "source": [
        "from statsmodels.tsa.seasonal import STL\n",
        "\n",
        "stl = STL(multi_df_at_0, period=2, seasonal=21)"
      ],
      "execution_count": 0,
      "outputs": []
    },
    {
      "cell_type": "markdown",
      "metadata": {
        "id": "Sq8bl3eYi4cx",
        "colab_type": "text"
      },
      "source": [
        "## Univariate AR(k) with time trend\n",
        "\n",
        "A simple way to approach the problem is to consider each hourly day-ahead price as a separate time-series. This lets us use the AR(k) and ARMA(p,q) models on them directly."
      ]
    },
    {
      "cell_type": "code",
      "metadata": {
        "id": "DIfxAmgJiq4D",
        "colab_type": "code",
        "colab": {}
      },
      "source": [
        "from statsmodels.tsa.ar_model import AutoReg, ar_select_order\n",
        "from statsmodels.tsa.api import acf, pacf, graphics\n",
        "\n",
        "train_df, test_df = test_train_timesplit(df)\n",
        "AR_model = AutoReg(train_df['Day Ahead Price'], 180, seasonal=True, trend='ct')\n",
        "AR_res = AR_model.fit()"
      ],
      "execution_count": 0,
      "outputs": []
    },
    {
      "cell_type": "code",
      "metadata": {
        "id": "UeX2O_KrCRsg",
        "colab_type": "code",
        "colab": {
          "base_uri": "https://localhost:8080/",
          "height": 748
        },
        "outputId": "2e2c4189-01dc-4fbb-9d85-a7115bc282b8"
      },
      "source": [
        "sns.set_style('darkgrid')\n",
        "sns.mpl.rc('figure', figsize=(16,6))\n",
        "AR_res.plot_predict(dt.datetime(2019,1,1), dt.datetime(2019,1,10), dynamic=True)"
      ],
      "execution_count": 18,
      "outputs": [
        {
          "output_type": "stream",
          "text": [
            "No handles with labels found to put in legend.\n"
          ],
          "name": "stderr"
        },
        {
          "output_type": "execute_result",
          "data": {
            "image/png": "[encoded data removed]",
            "text/plain": [
              "<Figure size 1152x432 with 1 Axes>"
            ]
          },
          "metadata": {
            "tags": []
          },
          "execution_count": 18
        },
        {
          "output_type": "display_data",
          "data": {
            "image/png": "[encoded data removed]",
            "text/plain": [
              "<Figure size 1152x432 with 1 Axes>"
            ]
          },
          "metadata": {
            "tags": []
          }
        }
      ]
    },
    {
      "cell_type": "markdown",
      "metadata": {
        "id": "-Q3h344Q0MIx",
        "colab_type": "text"
      },
      "source": [
        "**Cross-validation**"
      ]
    },
    {
      "cell_type": "code",
      "metadata": {
        "id": "mj1jP7zSvyet",
        "colab_type": "code",
        "colab": {}
      },
      "source": [
        "prediction_window = 1\n",
        "predict_from = test_df.index.min()\n",
        "predict_until = predict_from + dt.timedelta(days=prediction_window)\n",
        "predicted_series = AR_res.predict(start=predict_from, end=predict_until)"
      ],
      "execution_count": 0,
      "outputs": []
    },
    {
      "cell_type": "code",
      "metadata": {
        "id": "fdy_uR_U9ftT",
        "colab_type": "code",
        "colab": {
          "base_uri": "https://localhost:8080/",
          "height": 71
        },
        "outputId": "db6f04f6-7c7e-45d5-a2bf-d9d4b95082cd"
      },
      "source": [
        "error_analysis(test_df['Day Ahead Price'], predicted_series)"
      ],
      "execution_count": 39,
      "outputs": [
        {
          "output_type": "stream",
          "text": [
            "{Timestamp('2019-08-05 19:00:00', freq='H'), Timestamp('2019-08-05 18:00:00', freq='H'), Timestamp('2019-08-05 17:00:00', freq='H'), Timestamp('2019-08-05 12:00:00', freq='H'), Timestamp('2019-08-06 05:00:00', freq='H'), Timestamp('2019-08-06 07:00:00', freq='H'), Timestamp('2019-08-05 08:00:00', freq='H'), Timestamp('2019-08-05 22:00:00', freq='H'), Timestamp('2019-08-06 03:00:00', freq='H'), Timestamp('2019-08-05 23:00:00', freq='H'), Timestamp('2019-08-05 20:00:00', freq='H'), Timestamp('2019-08-06 04:00:00', freq='H'), Timestamp('2019-08-05 16:00:00', freq='H'), Timestamp('2019-08-06 02:00:00', freq='H'), Timestamp('2019-08-05 14:00:00', freq='H'), Timestamp('2019-08-05 15:00:00', freq='H'), Timestamp('2019-08-05 09:00:00', freq='H'), Timestamp('2019-08-06 00:00:00', freq='H'), Timestamp('2019-08-05 13:00:00', freq='H'), Timestamp('2019-08-05 11:00:00', freq='H'), Timestamp('2019-08-06 06:00:00', freq='H'), Timestamp('2019-08-05 07:00:00', freq='H'), Timestamp('2019-08-05 10:00:00', freq='H'), Timestamp('2019-08-06 01:00:00', freq='H'), Timestamp('2019-08-05 21:00:00', freq='H')}\n"
          ],
          "name": "stdout"
        },
        {
          "output_type": "execute_result",
          "data": {
            "text/plain": [
              "<__main__.error_analysis at 0x7f917b6657b8>"
            ]
          },
          "metadata": {
            "tags": []
          },
          "execution_count": 39
        }
      ]
    },
    {
      "cell_type": "markdown",
      "metadata": {
        "id": "TVQoWhaZn6n_",
        "colab_type": "text"
      },
      "source": [
        "## Multivariate: VAR(k) and VECM\n",
        "\n",
        "Instead of treating our series as a univariate time series for each hour, one can expect an improvement by considering it proper as a multivariate time series analysis. The relevant algorithms are the vector autoregressive model (VAR) and the vector error correction model (VECM)."
      ]
    },
    {
      "cell_type": "code",
      "metadata": {
        "id": "yt7TBAFuHsIV",
        "colab_type": "code",
        "colab": {}
      },
      "source": [
        "from statsmodels.tsa.api import VAR\n",
        "\n",
        "# 0.9/0.1-train/val split\n",
        "train_df, val_df = test_train_timesplit(multi_df)\n",
        "\n",
        "VAR_model = VAR(train_df, freq='D')\n",
        "VAR_res = VAR_model.fit()"
      ],
      "execution_count": 0,
      "outputs": []
    },
    {
      "cell_type": "code",
      "metadata": {
        "id": "hjKRfgsku3Sh",
        "colab_type": "code",
        "colab": {
          "base_uri": "https://localhost:8080/",
          "height": 1000
        },
        "outputId": "b259a2bc-21f1-43e3-e70c-0860100cbcc2"
      },
      "source": [
        "get_windowed_dataset(multi_df, ['Day Ahead Price'], ['Day Ahead Price'], 7)"
      ],
      "execution_count": 36,
      "outputs": [
        {
          "output_type": "execute_result",
          "data": {
            "text/plain": [
              "([array([[[ 2.4970e+01,  2.4650e+01,  2.4680e+01, ...,  2.7420e+01,\n",
              "            2.7020e+01,  2.2110e+01],\n",
              "          [ 2.1920e+01,  1.9350e+01,  1.6110e+01, ...,  2.8620e+01,\n",
              "            2.6710e+01,  1.5930e+01],\n",
              "          [ 1.1550e+01,  1.3470e+01,  1.1230e+01, ...,  2.6690e+01,\n",
              "            2.1640e+01,  1.4720e+01],\n",
              "          ...,\n",
              "          [ 5.0000e-02, -2.0600e+00, -4.1100e+00, ...,  9.2900e+00,\n",
              "            1.0180e+01, -2.0000e+00],\n",
              "          [ 9.3000e+00,  2.8700e+00,  9.0000e-02, ...,  1.5550e+01,\n",
              "            1.4910e+01,  9.1000e+00],\n",
              "          [ 9.2700e+00,  1.0420e+01,  1.1160e+01, ...,  2.9910e+01,\n",
              "            2.7020e+01,  1.8360e+01]],\n",
              "  \n",
              "         [[ 2.1920e+01,  1.9350e+01,  1.6110e+01, ...,  2.8620e+01,\n",
              "            2.6710e+01,  1.5930e+01],\n",
              "          [ 1.1550e+01,  1.3470e+01,  1.1230e+01, ...,  2.6690e+01,\n",
              "            2.1640e+01,  1.4720e+01],\n",
              "          [ 1.7100e+01,  1.2930e+01,  1.3700e+01, ...,  1.1510e+01,\n",
              "            1.1810e+01,  5.0800e+00],\n",
              "          ...,\n",
              "          [ 9.3000e+00,  2.8700e+00,  9.0000e-02, ...,  1.5550e+01,\n",
              "            1.4910e+01,  9.1000e+00],\n",
              "          [ 9.2700e+00,  1.0420e+01,  1.1160e+01, ...,  2.9910e+01,\n",
              "            2.7020e+01,  1.8360e+01],\n",
              "          [ 1.3250e+01,  1.5020e+01,  1.1990e+01, ...,  2.7960e+01,\n",
              "            2.3730e+01,  1.6290e+01]],\n",
              "  \n",
              "         [[ 1.1550e+01,  1.3470e+01,  1.1230e+01, ...,  2.6690e+01,\n",
              "            2.1640e+01,  1.4720e+01],\n",
              "          [ 1.7100e+01,  1.2930e+01,  1.3700e+01, ...,  1.1510e+01,\n",
              "            1.1810e+01,  5.0800e+00],\n",
              "          [ 5.0000e-02, -2.0600e+00, -4.1100e+00, ...,  9.2900e+00,\n",
              "            1.0180e+01, -2.0000e+00],\n",
              "          ...,\n",
              "          [ 9.2700e+00,  1.0420e+01,  1.1160e+01, ...,  2.9910e+01,\n",
              "            2.7020e+01,  1.8360e+01],\n",
              "          [ 1.3250e+01,  1.5020e+01,  1.1990e+01, ...,  2.7960e+01,\n",
              "            2.3730e+01,  1.6290e+01],\n",
              "          [ 2.4360e+01,  2.1590e+01,  1.5460e+01, ...,  2.2050e+01,\n",
              "            1.9010e+01,  1.2010e+01]],\n",
              "  \n",
              "         ...,\n",
              "  \n",
              "         [[ 2.7540e+01,  2.6840e+01,  2.5640e+01, ...,  2.5420e+01,\n",
              "            2.5040e+01,  2.0080e+01],\n",
              "          [ 2.0440e+01,  1.9580e+01,  1.9160e+01, ...,  3.3020e+01,\n",
              "            2.9630e+01,  2.7330e+01],\n",
              "          [ 2.8970e+01,  2.7430e+01,  2.5150e+01, ...,  2.9040e+01,\n",
              "            2.7300e+01,  2.0040e+01],\n",
              "          ...,\n",
              "          [ 7.0000e-02,  2.0000e-02, -7.0000e-01, ..., -8.0000e-01,\n",
              "            0.0000e+00, -1.1160e+01],\n",
              "          [-4.9700e+00, -1.0100e+01, -1.6950e+01, ...,  2.1990e+01,\n",
              "            2.3870e+01,  1.7380e+01],\n",
              "          [ 1.5920e+01,  1.5550e+01,  1.4380e+01, ...,  2.7160e+01,\n",
              "            2.7130e+01,  2.4760e+01]],\n",
              "  \n",
              "         [[ 2.0440e+01,  1.9580e+01,  1.9160e+01, ...,  3.3020e+01,\n",
              "            2.9630e+01,  2.7330e+01],\n",
              "          [ 2.8970e+01,  2.7430e+01,  2.5150e+01, ...,  2.9040e+01,\n",
              "            2.7300e+01,  2.0040e+01],\n",
              "          [ 1.4520e+01,  1.3725e+01,  1.2225e+01, ...,  1.4120e+01,\n",
              "            1.3650e+01,  4.4400e+00],\n",
              "          ...,\n",
              "          [-4.9700e+00, -1.0100e+01, -1.6950e+01, ...,  2.1990e+01,\n",
              "            2.3870e+01,  1.7380e+01],\n",
              "          [ 1.5920e+01,  1.5550e+01,  1.4380e+01, ...,  2.7160e+01,\n",
              "            2.7130e+01,  2.4760e+01],\n",
              "          [ 2.0790e+01,  1.7410e+01,  1.6240e+01, ...,  3.0130e+01,\n",
              "            3.0360e+01,  2.6940e+01]],\n",
              "  \n",
              "         [[ 2.8970e+01,  2.7430e+01,  2.5150e+01, ...,  2.9040e+01,\n",
              "            2.7300e+01,  2.0040e+01],\n",
              "          [ 1.4520e+01,  1.3725e+01,  1.2225e+01, ...,  1.4120e+01,\n",
              "            1.3650e+01,  4.4400e+00],\n",
              "          [ 7.0000e-02,  2.0000e-02, -7.0000e-01, ..., -8.0000e-01,\n",
              "            0.0000e+00, -1.1160e+01],\n",
              "          ...,\n",
              "          [ 1.5920e+01,  1.5550e+01,  1.4380e+01, ...,  2.7160e+01,\n",
              "            2.7130e+01,  2.4760e+01],\n",
              "          [ 2.0790e+01,  1.7410e+01,  1.6240e+01, ...,  3.0130e+01,\n",
              "            3.0360e+01,  2.6940e+01],\n",
              "          [ 2.5440e+01,  2.5000e+01,  2.4430e+01, ...,  3.5920e+01,\n",
              "            3.1990e+01,  2.9700e+01]]])],\n",
              " [array([[13.25, 15.02, 11.99, ..., 27.96, 23.73, 16.29],\n",
              "         [24.36, 21.59, 15.46, ..., 22.05, 19.01, 12.01],\n",
              "         [ 9.78, 11.64,  9.72, ..., 37.92, 35.64, 28.79],\n",
              "         ...,\n",
              "         [20.79, 17.41, 16.24, ..., 30.13, 30.36, 26.94],\n",
              "         [25.44, 25.  , 24.43, ..., 35.92, 31.99, 29.7 ],\n",
              "         [26.51, 25.35, 24.47, ..., 37.98, 37.66, 33.58]])])"
            ]
          },
          "metadata": {
            "tags": []
          },
          "execution_count": 36
        }
      ]
    },
    {
      "cell_type": "code",
      "metadata": {
        "id": "4NHuoguyKSdn",
        "colab_type": "code",
        "colab": {
          "base_uri": "https://localhost:8080/",
          "height": 391
        },
        "outputId": "3cf1a8c8-efe0-4d38-c6ae-38a38018bb74"
      },
      "source": [
        "plt.plot(VAR_res.forecast(multi_df.tail(7).to_numpy(), 10)[0,:])"
      ],
      "execution_count": 129,
      "outputs": [
        {
          "output_type": "execute_result",
          "data": {
            "text/plain": [
              "[<matplotlib.lines.Line2D at 0x7ff6c8571358>]"
            ]
          },
          "metadata": {
            "tags": []
          },
          "execution_count": 129
        },
        {
          "output_type": "display_data",
          "data": {
            "image/png": "[encoded data removed]",
            "text/plain": [
              "<Figure size 1152x432 with 1 Axes>"
            ]
          },
          "metadata": {
            "tags": []
          }
        }
      ]
    },
    {
      "cell_type": "markdown",
      "metadata": {
        "id": "5U4VJOsxO6Nw",
        "colab_type": "text"
      },
      "source": [
        "# Exponential Smoothing and Holtz-Winter models\n",
        "\n",
        "Another popular approach to time-series problems are the ETS class of techniques. The ETS class of techniques derive inspiration from the mean average model, and instead take a weighted average of previous values along with the error in the forecast. In effect, it models the actual value dragging the prediction as it differs from the forecast.  \n",
        "$$y_{t+h} = l_t +h b_t + s_{t+h-m(k+1)}$$\n",
        "$$l_t = \\alpha \\frac{y_t}{s_{t-m}} + (1-\\alpha)(l_{t-1} + b_{t-1})$$\n",
        "$$b_t = \\beta^*(l_t - l_{t-1}) + (1-\\beta^*)b_{t-1}$$\n",
        "$$s_t = \\gamma \\frac{y_t}{(l_{t-1} + b_{t-1})} + (1-\\gamma)s_{t-m}$$\n",
        "The simplest version is the simple exponential smoothing model (with $\\beta = 0, \\gamma =0$):\n",
        "$$y_{t+h} = y_{t} + \\alpha (y_{t} - \\hat{y}_{t})$$"
      ]
    },
    {
      "cell_type": "code",
      "metadata": {
        "id": "v65p83Wno7Df",
        "colab_type": "code",
        "colab": {}
      },
      "source": [
        "from statsmodels.tsa.api import SimpleExpSmoothing\n",
        "\n",
        "ets_model1 = SimpleExpSmoothing(df['Day Ahead Price'])\n",
        "res = ets_model1.fit()"
      ],
      "execution_count": 0,
      "outputs": []
    },
    {
      "cell_type": "code",
      "metadata": {
        "id": "OGP3Awg6TZAl",
        "colab_type": "code",
        "colab": {
          "base_uri": "https://localhost:8080/",
          "height": 403
        },
        "outputId": "b3c9ef92-2529-426b-95d5-f04a0ca86e41"
      },
      "source": [
        "res.forecast(24).plot()"
      ],
      "execution_count": 50,
      "outputs": [
        {
          "output_type": "execute_result",
          "data": {
            "text/plain": [
              "<matplotlib.axes._subplots.AxesSubplot at 0x7ff746135278>"
            ]
          },
          "metadata": {
            "tags": []
          },
          "execution_count": 50
        },
        {
          "output_type": "display_data",
          "data": {
            "image/png": "[encoded data removed]",
            "text/plain": [
              "<Figure size 1152x432 with 1 Axes>"
            ]
          },
          "metadata": {
            "tags": []
          }
        }
      ]
    },
    {
      "cell_type": "markdown",
      "metadata": {
        "id": "lh12O1RCZ30o",
        "colab_type": "text"
      },
      "source": [
        "Try the multivariate version here instead."
      ]
    },
    {
      "cell_type": "code",
      "metadata": {
        "id": "NFP7lDgtZ-Ky",
        "colab_type": "code",
        "colab": {}
      },
      "source": [
        ""
      ],
      "execution_count": 0,
      "outputs": []
    },
    {
      "cell_type": "markdown",
      "metadata": {
        "id": "RbcplWTMCD7r",
        "colab_type": "text"
      },
      "source": [
        "**ETS with trend and seasonality: Holtz-Winter model**. "
      ]
    },
    {
      "cell_type": "code",
      "metadata": {
        "id": "jWw8aLSsO9b6",
        "colab_type": "code",
        "colab": {
          "base_uri": "https://localhost:8080/",
          "height": 403
        },
        "outputId": "7053177d-aa6c-473e-c7ae-fc593fe52b24"
      },
      "source": [
        "from statsmodels.tsa.api import Holt\n",
        "\n",
        "ets_model3 = Holt(df['Day Ahead Price'], damped=True)\n",
        "res = ets_model3.fit()\n",
        "res.forecast(24).plot()"
      ],
      "execution_count": 51,
      "outputs": [
        {
          "output_type": "execute_result",
          "data": {
            "text/plain": [
              "<matplotlib.axes._subplots.AxesSubplot at 0x7ff7460a6748>"
            ]
          },
          "metadata": {
            "tags": []
          },
          "execution_count": 51
        },
        {
          "output_type": "display_data",
          "data": {
            "image/png": "[encoded data removed]",
            "text/plain": [
              "<Figure size 1152x432 with 1 Axes>"
            ]
          },
          "metadata": {
            "tags": []
          }
        }
      ]
    },
    {
      "cell_type": "markdown",
      "metadata": {
        "id": "FB4twMe_WHm0",
        "colab_type": "text"
      },
      "source": [
        "# Markov switching regression"
      ]
    },
    {
      "cell_type": "code",
      "metadata": {
        "id": "pLDQ3w4wWNXQ",
        "colab_type": "code",
        "colab": {}
      },
      "source": [
        ""
      ],
      "execution_count": 0,
      "outputs": []
    },
    {
      "cell_type": "markdown",
      "metadata": {
        "id": "woxv6ti6kMbM",
        "colab_type": "text"
      },
      "source": [
        "# Bibliography\n",
        "\n",
        "**[HA18]** R. J. Hyndman, and G. Athanasopoulos, Forecasting: Principles and Practice, https://otexts.com/fpp2/index.html \n",
        "\n",
        "**[HWL15]**. R. J. Hyndman, E. Wang, N. Laptev, *Large-Scale Unusual Time Series Detection*,  [https://robjhyndman.com/papers/icdm2015.pdf]\n",
        "\n",
        "**[SE11]** More on the different approaches to the validation strategies for a time series here: https://stats.stackexchange.com/questions/14099/using-k-fold-cross-validation-for-time-series-model-selection\n",
        "\n",
        "**[Tas00]** L. J. Tashman, *Out-of-sample tests of forecasting accuracy: an analysis and review*, International Journal of Forecasting, 2000, vol. 16, issue 4, 437-450 [https://econpapers.repec.org/article/eeeintfor/v_3a16_3ay_3a2000_3ai_3a4_3ap_3a437-450.htm]."
      ]
    },
    {
      "cell_type": "markdown",
      "metadata": {
        "id": "9m1CXDz1x7GX",
        "colab_type": "text"
      },
      "source": [
        "Supplements:  \n",
        "[Using Facebook's forecast engine: Prophet]()  \n",
        "[GluonTS]()\n",
        "\n",
        "Next part: [Deep Models]()"
      ]
    }
  ]
}