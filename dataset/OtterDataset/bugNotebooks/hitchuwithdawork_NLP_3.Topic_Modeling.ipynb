{
  "nbformat": 4,
  "nbformat_minor": 0,
  "metadata": {
    "kernelspec": {
      "display_name": "Python 3",
      "language": "python",
      "name": "python3"
    },
    "language_info": {
      "codemirror_mode": {
        "name": "ipython",
        "version": 3
      },
      "file_extension": ".py",
      "mimetype": "text/x-python",
      "name": "python",
      "nbconvert_exporter": "python",
      "pygments_lexer": "ipython3",
      "version": "3.7.3"
    },
    "colab": {
      "name": "[HW25_Problem] Topic Modeling.ipynb의 사본",
      "provenance": [],
      "collapsed_sections": []
    }
  },
  "cells": [
    {
      "cell_type": "markdown",
      "metadata": {
        "id": "pUEqzkNmnyYH"
      },
      "source": [
        "# [HW2] Topic Modeling\n",
        "1. Crawling News\n",
        "2. Preprocessing\n",
        "3. Build Term-Document Matrix\n",
        "4. Topic modeling\n",
        "5. Visualization\n",
        "\n",
        "```\n",
        "🔥 이번 시간에는 Topic Modeling를 직접 크롤링한 뉴스 데이터에 대해서 수행해보는 시간을 갖겠습니다. \n",
        "\n",
        "먼저 네이버에서 뉴스 기사를 간단하게 크롤링합니다.\n",
        "기본적인 전처리 이후 Term-document Matrix를 만들고 이를 non-negative factorization을 이용해 행렬 분해를 하여 Topic modeling을 수행합니다.\n",
        "\n",
        "t-distributed stochastic neighbor embedding(T-SNE) 기법을 이용해 Topic별 시각화를 진행합니다.\n",
        "```"
      ]
    },
    {
      "cell_type": "code",
      "metadata": {
        "id": "NIARcrg_oNMN",
        "colab": {
          "base_uri": "https://localhost:8080/"
        },
        "outputId": "3980f935-7e52-4279-e918-5f07d288975e"
      },
      "source": [
        "!pip install newspaper3k\n",
        "!pip install konlpy"
      ],
      "execution_count": 1,
      "outputs": [
        {
          "output_type": "stream",
          "name": "stdout",
          "text": [
            "Looking in indexes: https://pypi.org/simple, https://us-python.pkg.dev/colab-wheels/public/simple/\n",
            "Collecting newspaper3k\n",
            "  Downloading newspaper3k-0.2.8-py3-none-any.whl (211 kB)\n",
            "\u001b[K     |████████████████████████████████| 211 kB 5.0 MB/s \n",
            "\u001b[?25hRequirement already satisfied: PyYAML>=3.11 in /usr/local/lib/python3.7/dist-packages (from newspaper3k) (6.0)\n",
            "Collecting jieba3k>=0.35.1\n",
            "  Downloading jieba3k-0.35.1.zip (7.4 MB)\n",
            "\u001b[K     |████████████████████████████████| 7.4 MB 40.5 MB/s \n",
            "\u001b[?25hCollecting cssselect>=0.9.2\n",
            "  Downloading cssselect-1.1.0-py2.py3-none-any.whl (16 kB)\n",
            "Requirement already satisfied: lxml>=3.6.0 in /usr/local/lib/python3.7/dist-packages (from newspaper3k) (4.9.1)\n",
            "Collecting tinysegmenter==0.3\n",
            "  Downloading tinysegmenter-0.3.tar.gz (16 kB)\n",
            "Requirement already satisfied: python-dateutil>=2.5.3 in /usr/local/lib/python3.7/dist-packages (from newspaper3k) (2.8.2)\n",
            "Requirement already satisfied: Pillow>=3.3.0 in /usr/local/lib/python3.7/dist-packages (from newspaper3k) (7.1.2)\n",
            "Requirement already satisfied: requests>=2.10.0 in /usr/local/lib/python3.7/dist-packages (from newspaper3k) (2.23.0)\n",
            "Collecting feedparser>=5.2.1\n",
            "  Downloading feedparser-6.0.10-py3-none-any.whl (81 kB)\n",
            "\u001b[K     |████████████████████████████████| 81 kB 2.7 MB/s \n",
            "\u001b[?25hCollecting tldextract>=2.0.1\n",
            "  Downloading tldextract-3.3.1-py3-none-any.whl (93 kB)\n",
            "\u001b[K     |████████████████████████████████| 93 kB 111 kB/s \n",
            "\u001b[?25hRequirement already satisfied: beautifulsoup4>=4.4.1 in /usr/local/lib/python3.7/dist-packages (from newspaper3k) (4.6.3)\n",
            "Collecting feedfinder2>=0.0.4\n",
            "  Downloading feedfinder2-0.0.4.tar.gz (3.3 kB)\n",
            "Requirement already satisfied: nltk>=3.2.1 in /usr/local/lib/python3.7/dist-packages (from newspaper3k) (3.7)\n",
            "Requirement already satisfied: six in /usr/local/lib/python3.7/dist-packages (from feedfinder2>=0.0.4->newspaper3k) (1.15.0)\n",
            "Collecting sgmllib3k\n",
            "  Downloading sgmllib3k-1.0.0.tar.gz (5.8 kB)\n",
            "Requirement already satisfied: joblib in /usr/local/lib/python3.7/dist-packages (from nltk>=3.2.1->newspaper3k) (1.1.0)\n",
            "Requirement already satisfied: click in /usr/local/lib/python3.7/dist-packages (from nltk>=3.2.1->newspaper3k) (7.1.2)\n",
            "Requirement already satisfied: tqdm in /usr/local/lib/python3.7/dist-packages (from nltk>=3.2.1->newspaper3k) (4.64.0)\n",
            "Requirement already satisfied: regex>=2021.8.3 in /usr/local/lib/python3.7/dist-packages (from nltk>=3.2.1->newspaper3k) (2022.6.2)\n",
            "Requirement already satisfied: idna<3,>=2.5 in /usr/local/lib/python3.7/dist-packages (from requests>=2.10.0->newspaper3k) (2.10)\n",
            "Requirement already satisfied: urllib3!=1.25.0,!=1.25.1,<1.26,>=1.21.1 in /usr/local/lib/python3.7/dist-packages (from requests>=2.10.0->newspaper3k) (1.24.3)\n",
            "Requirement already satisfied: chardet<4,>=3.0.2 in /usr/local/lib/python3.7/dist-packages (from requests>=2.10.0->newspaper3k) (3.0.4)\n",
            "Requirement already satisfied: certifi>=2017.4.17 in /usr/local/lib/python3.7/dist-packages (from requests>=2.10.0->newspaper3k) (2022.6.15)\n",
            "Requirement already satisfied: filelock>=3.0.8 in /usr/local/lib/python3.7/dist-packages (from tldextract>=2.0.1->newspaper3k) (3.8.0)\n",
            "Collecting requests-file>=1.4\n",
            "  Downloading requests_file-1.5.1-py2.py3-none-any.whl (3.7 kB)\n",
            "Building wheels for collected packages: tinysegmenter, feedfinder2, jieba3k, sgmllib3k\n",
            "  Building wheel for tinysegmenter (setup.py) ... \u001b[?25l\u001b[?25hdone\n",
            "  Created wheel for tinysegmenter: filename=tinysegmenter-0.3-py3-none-any.whl size=13553 sha256=3fe16792bcc77918b9ef0c8bc80501fc7ce1e2674a0bec45d0b470a6c229bd4a\n",
            "  Stored in directory: /root/.cache/pip/wheels/df/67/41/faca10fa501ca010be41b49d40360c2959e1c4f09bcbfa37fa\n",
            "  Building wheel for feedfinder2 (setup.py) ... \u001b[?25l\u001b[?25hdone\n",
            "  Created wheel for feedfinder2: filename=feedfinder2-0.0.4-py3-none-any.whl size=3357 sha256=6ecde599f8a239ed6361f31c88d025731fcc9d04446ee6d914b309eac6978ff2\n",
            "  Stored in directory: /root/.cache/pip/wheels/7f/d4/8f/6e2ca54744c9d7292d88ddb8d42876bcdab5e6d84a21c10346\n",
            "  Building wheel for jieba3k (setup.py) ... \u001b[?25l\u001b[?25hdone\n",
            "  Created wheel for jieba3k: filename=jieba3k-0.35.1-py3-none-any.whl size=7398404 sha256=bd766eba81da50dfb775d7d95c38a2c59a79ab2abd7fff74941ce0b296a4bd57\n",
            "  Stored in directory: /root/.cache/pip/wheels/4c/91/46/3c208287b726df325a5979574324878b679116e4baae1af3c3\n",
            "  Building wheel for sgmllib3k (setup.py) ... \u001b[?25l\u001b[?25hdone\n",
            "  Created wheel for sgmllib3k: filename=sgmllib3k-1.0.0-py3-none-any.whl size=6066 sha256=36fde38555c93a053a317630d93645d21f3592b0e05305cdf4a7e033aa6ad9be\n",
            "  Stored in directory: /root/.cache/pip/wheels/73/ad/a4/0dff4a6ef231fc0dfa12ffbac2a36cebfdddfe059f50e019aa\n",
            "Successfully built tinysegmenter feedfinder2 jieba3k sgmllib3k\n",
            "Installing collected packages: sgmllib3k, requests-file, tldextract, tinysegmenter, jieba3k, feedparser, feedfinder2, cssselect, newspaper3k\n",
            "Successfully installed cssselect-1.1.0 feedfinder2-0.0.4 feedparser-6.0.10 jieba3k-0.35.1 newspaper3k-0.2.8 requests-file-1.5.1 sgmllib3k-1.0.0 tinysegmenter-0.3 tldextract-3.3.1\n",
            "Looking in indexes: https://pypi.org/simple, https://us-python.pkg.dev/colab-wheels/public/simple/\n",
            "Collecting konlpy\n",
            "  Downloading konlpy-0.6.0-py2.py3-none-any.whl (19.4 MB)\n",
            "\u001b[K     |████████████████████████████████| 19.4 MB 1.8 MB/s \n",
            "\u001b[?25hCollecting JPype1>=0.7.0\n",
            "  Downloading JPype1-1.4.0-cp37-cp37m-manylinux_2_5_x86_64.manylinux1_x86_64.whl (453 kB)\n",
            "\u001b[K     |████████████████████████████████| 453 kB 59.4 MB/s \n",
            "\u001b[?25hRequirement already satisfied: numpy>=1.6 in /usr/local/lib/python3.7/dist-packages (from konlpy) (1.21.6)\n",
            "Requirement already satisfied: lxml>=4.1.0 in /usr/local/lib/python3.7/dist-packages (from konlpy) (4.9.1)\n",
            "Requirement already satisfied: typing-extensions in /usr/local/lib/python3.7/dist-packages (from JPype1>=0.7.0->konlpy) (4.1.1)\n",
            "Installing collected packages: JPype1, konlpy\n",
            "Successfully installed JPype1-1.4.0 konlpy-0.6.0\n"
          ]
        }
      ]
    },
    {
      "cell_type": "code",
      "metadata": {
        "id": "aPu9TCFEoK_m"
      },
      "source": [
        "# 크롤링에 필요한 패키지 설치\n",
        "from bs4 import BeautifulSoup\n",
        "from newspaper import Article\n",
        "from time import sleep\n",
        "from time import time\n",
        "from dateutil.relativedelta import relativedelta\n",
        "from datetime import datetime\n",
        "from multiprocessing import Pool\n",
        "import json\n",
        "import requests\n",
        "import re\n",
        "import sys"
      ],
      "execution_count": 2,
      "outputs": []
    },
    {
      "cell_type": "markdown",
      "metadata": {
        "id": "oU2ipk6ZvZXf"
      },
      "source": [
        "```\n",
        "💡 Crawling(크롤링)이란?\n",
        "\n",
        "크롤링은 웹 페이지에서 필요한 데이터를 추출해내는 작업을 말합니다.\n",
        "이번 시간에는 정적 페이지인 네이버의 뉴스 신문 기사 웹페이지를 크롤링합니다.\n",
        "\n",
        "HTML은 설명되어 있는 자료가 많기 때문에 생략하도록 하겠습니다.\n",
        "HTML 구조 파악 및 태그에 대한 설명은 아래 참고자료를 살펴봐주세요 !\n",
        "```\n",
        "\n",
        "참고: [위키피디아: 정적페이지](https://ko.wikipedia.org/wiki/%EC%A0%95%EC%A0%81_%EC%9B%B9_%ED%8E%98%EC%9D%B4%EC%A7%80)\n",
        "\n",
        "참고: [생활코딩: HTML](https://opentutorials.org/course/2039)"
      ]
    },
    {
      "cell_type": "code",
      "metadata": {
        "id": "c0UYQWmsnHTF"
      },
      "source": [
        "def crawl_news(query: str=None, crawl_num: int=1000, workers: int=4):\n",
        "    '''뉴스 기사 텍스트가 담긴 list를 반환합니다.\n",
        "\n",
        "    Keyword arguments:\n",
        "    query -- 검색어 (default None)\n",
        "    crawl_num -- 수집할 뉴스 기사의 개수 (defualt 1000)\n",
        "    workers -- multi-processing시 사용할 thread의 개수 (default 4)\n",
        "    '''\n",
        "\n",
        "    url = 'https://search.naver.com/search.naver?where=news&sm=tab_jum&query={}'\n",
        "    articleList = []\n",
        "    crawled_url = set()\n",
        "    keyboard_interrupt = False\n",
        "    t = time()\n",
        "    idx = 0\n",
        "    page = 1\n",
        "\n",
        "    \n",
        "    # 서버에 url 요청의 결과를 선언\n",
        "    res = requests.get(url.format(query))\n",
        "    sleep(0.5)\n",
        "    # res를 parsing할 parser를 선언\n",
        "    bs = BeautifulSoup(res.text, 'html.parser')\n",
        "    \n",
        "    with Pool(workers) as p:\n",
        "        while idx < crawl_num:            \n",
        "            table = bs.find('ul', {'class': 'list_news'})\n",
        "            li_list = table.find_all('li', {'id': re.compile('sp_nws.*')})\n",
        "            area_list = [li.find('div', {'class':'news_area'}) for li in li_list]\n",
        "            a_list = [area.find('a', {'class':'news_tit'}) for area in area_list]\n",
        "            \n",
        "            for n in a_list[:min(len(a_list), crawl_num-idx)]:\n",
        "                articleList.append(n.get('title'))\n",
        "                idx += 1\n",
        "            page += 1\n",
        "\n",
        "            pages = bs.find('div', {'class': 'sc_page_inner'})\n",
        "            next_page_url = [p for p in pages.find_all('a') if p.text == str(page)][0].get('href')\n",
        "\n",
        "            req = requests.get('https://search.naver.com/search.naver' + next_page_url)\n",
        "            bs = BeautifulSoup(req.text, 'html.parser')\n",
        "    return articleList"
      ],
      "execution_count": 3,
      "outputs": []
    },
    {
      "cell_type": "markdown",
      "metadata": {
        "id": "8ln1Wih0XVnt"
      },
      "source": [
        "```\n",
        "🔥 이제 '구글'이라는 이름으로 뉴스 기사 1000개의 제목을 크롤링하겠습니다.\n",
        "```"
      ]
    },
    {
      "cell_type": "code",
      "metadata": {
        "id": "G6CAFa6J56yJ"
      },
      "source": [
        "query = '구글'\n",
        "\n",
        "articleList = crawl_news(query)"
      ],
      "execution_count": 4,
      "outputs": []
    },
    {
      "cell_type": "code",
      "metadata": {
        "id": "UDIS5V1yAcRT",
        "colab": {
          "base_uri": "https://localhost:8080/"
        },
        "outputId": "064d1dff-ff43-4478-c257-9cd5f58bcabe"
      },
      "source": [
        "articleList[:10]"
      ],
      "execution_count": 5,
      "outputs": [
        {
          "output_type": "execute_result",
          "data": {
            "text/plain": [
              "['‘3나노 전쟁 본격화’ 구글, 대만 TSMC 대신 삼성전자 택했다',\n",
              " \"사무실 출근하라면서 '사내 확진자 ○명' 매일 공지…구글 직원들 거부반응\",\n",
              " '넥슨 히트2, 구글 매출 3위...단기 흥행 성공',\n",
              " '구글이 뉴욕캠퍼스에 레고방 만든 이유는?',\n",
              " 'K스타트업 동행자 자처하는 빅테크…구글, AWS 이어 MS도 본격 지원',\n",
              " '이노스, 23년형 구글 OS 탑재 QLED 스마트TV 출시 예정',\n",
              " '삼성전자-구글, 픽셀8용 3세대 텐서 프로세서 개발 중',\n",
              " '구글, 크로스 디바이스 앱 개발 환경 확산 시동...SDK 공개',\n",
              " '야당, 구글·넷플릭스 겨냥 법개정 속도···ICT 손놓은 여당',\n",
              " '넥슨 \\'히트2\\' 구글 매출 2위 … \"리니지M 섯거라!\"']"
            ]
          },
          "metadata": {},
          "execution_count": 5
        }
      ]
    },
    {
      "cell_type": "markdown",
      "metadata": {
        "id": "J9HG4LxOaa1r"
      },
      "source": [
        "```\n",
        "🔥 태거(tagger)를 이용해 한글 명사와 알파벳만을 추출해서 term-document matrix (tdm)을 만들겠습니다.\n",
        "\n",
        "태거(tagger)는 tokenization에서 조금 더 자세히 다루도록 하겠습니다.\n",
        "```\n",
        "\n",
        "참고: [konlpy: morph analyzer](https://konlpy-ko.readthedocs.io/ko/v0.4.3/morph/)"
      ]
    },
    {
      "cell_type": "markdown",
      "metadata": {
        "ExecuteTime": {
          "end_time": "2019-05-15T06:17:04.018304Z",
          "start_time": "2019-05-15T06:09:10.729214Z"
        },
        "id": "Mdr-aTytaCLr"
      },
      "source": [
        "## Preprocessing"
      ]
    },
    {
      "cell_type": "code",
      "metadata": {
        "ExecuteTime": {
          "end_time": "2019-05-29T08:48:53.790086Z",
          "start_time": "2019-05-29T08:46:38.984818Z"
        },
        "id": "HUN9k5DXaCLs",
        "colab": {
          "base_uri": "https://localhost:8080/"
        },
        "outputId": "182e316a-0f0d-4996-9823-aac121b77cde"
      },
      "source": [
        "from konlpy.tag import Okt\n",
        "from collections import Counter\n",
        "import json\n",
        "\n",
        "# Okt 형태소 분석기 선언\n",
        "t = Okt()\n",
        "\n",
        "words_list_ = []\n",
        "vocab = Counter()\n",
        "tag_set = set(['Noun', 'Alpha'])\n",
        "stopwords = set(['글자'])\n",
        "\n",
        "for i, article in enumerate(articleList):\n",
        "    if i % 100 == 0:\n",
        "        print(i)\n",
        "    \n",
        "    # tagger를 이용한 품사 태깅\n",
        "    words = t.pos(article, norm=True, stem=True)\n",
        "\n",
        "    ############################ ANSWER HERE ################################\n",
        "    # TODO: 다음의 조건을 만족하는 단어의 리스트를 완성하세요.\n",
        "    # 조건 1: 명사와 알파벳 tag를 가진 단어\n",
        "    # 조건 2: 철자 길이가 2이상인 단어 \n",
        "    # 조건 3: stopwords에 포함되지 않는 단어\n",
        "    #########################################################################\n",
        "    words = [w for w, t in words if t in tag_set and len(w) > 1 and w not in stopwords]        \n",
        "\n",
        "    vocab.update(words)\n",
        "    words_list_.append((words, article))\n",
        "    \n",
        "vocab = sorted([w for w, freq in vocab.most_common(10000)])\n",
        "word2id = {w: i for i, w in enumerate(vocab)}\n",
        "words_list = []\n",
        "for words, article in words_list_:\n",
        "    words = [w for w in words if w in word2id]\n",
        "    if len(words) > 10:\n",
        "        words_list.append((words, article))\n",
        "        \n",
        "del words_list_"
      ],
      "execution_count": 6,
      "outputs": [
        {
          "output_type": "stream",
          "name": "stdout",
          "text": [
            "0\n",
            "100\n",
            "200\n",
            "300\n",
            "400\n",
            "500\n",
            "600\n",
            "700\n",
            "800\n",
            "900\n"
          ]
        }
      ]
    },
    {
      "cell_type": "markdown",
      "metadata": {
        "id": "5L1BkQeaaCLv"
      },
      "source": [
        "## Build document-term matrix"
      ]
    },
    {
      "cell_type": "markdown",
      "metadata": {
        "id": "r5YfokxJf86R"
      },
      "source": [
        "```\n",
        "🔥 이제 document-term matrix를 만들어보겠습니다.\n",
        "document-term matrix는 (문서 개수 x 단어 개수)의 Matrix입니다.\n",
        "```\n",
        "\n",
        "참고: [Document-Term Matrix](https://wikidocs.net/24559)"
      ]
    },
    {
      "cell_type": "code",
      "metadata": {
        "ExecuteTime": {
          "end_time": "2019-05-29T08:48:56.005889Z",
          "start_time": "2019-05-29T08:48:53.792571Z"
        },
        "id": "MI5weWREaCLv"
      },
      "source": [
        "from sklearn.feature_extraction.text import TfidfTransformer\n",
        "import numpy as np\n",
        "\n",
        "dtm = np.zeros((len(words_list), len(vocab)), dtype=np.float32)\n",
        "for i, (words, article) in enumerate(words_list):\n",
        "    for word in words:\n",
        "        dtm[i, word2id[word]] += 1\n",
        "        \n",
        "dtm = TfidfTransformer().fit_transform(dtm)"
      ],
      "execution_count": 7,
      "outputs": []
    },
    {
      "cell_type": "markdown",
      "metadata": {
        "id": "I0xYqpVtmgoL"
      },
      "source": [
        "```\n",
        "🔥 document-term matrix를 non-negative factorization(NMF)을 이용해 행렬 분해를 해보겠습니다.\n",
        "\n",
        "💡 Non-negative Factorization이란?\n",
        "\n",
        "NMF는 주어진 행렬 non-negative matrix X를 non-negative matrix W와 H로 행렬 분해하는 알고리즘입니다.\n",
        "이어지는 코드를 통해 W와 H의 의미에 대해 파악해봅시다.\n",
        "```\n",
        "참고: [Non-negative Matrix Factorization](https://angeloyeo.github.io/2020/10/15/NMF.html)"
      ]
    },
    {
      "cell_type": "markdown",
      "metadata": {
        "id": "zRWNuIguaCLy"
      },
      "source": [
        "## Topic modeling"
      ]
    },
    {
      "cell_type": "code",
      "metadata": {
        "id": "erhwS2ntQBSD"
      },
      "source": [
        "# Non-negative Matrix Factorization\n",
        "from sklearn.decomposition import NMF\n",
        "\n",
        "K=5\n",
        "nmf = NMF(n_components=K, alpha=0.1)"
      ],
      "execution_count": 8,
      "outputs": []
    },
    {
      "cell_type": "markdown",
      "metadata": {
        "id": "5I24Y78G3VvO"
      },
      "source": [
        "```\n",
        "🔥 sklearn의 NMF를 이용해 W와 H matrix를 구해봅시다.\n",
        "W는 document length x K, H는 K x term length의 차원을 갖고 있습니다.\n",
        "W의 하나의 row는 각각의 feature에 얼만큼의 가중치를 줄 지에 대한 weight입니다.\n",
        "H의 하나의 row는 하나의 feature를 나타냅니다.\n",
        "\n",
        "우선 하나의 Topic (H의 n번째 row)에 접근해서 해당 topic에 대해 값이 가장 높은 20개의 단어를 출력해보겠습니다.\n",
        "```"
      ]
    },
    {
      "cell_type": "code",
      "metadata": {
        "id": "v2TY6gu4QH1o",
        "colab": {
          "base_uri": "https://localhost:8080/"
        },
        "outputId": "085e5916-cb18-4841-e984-83c8c6d9955a"
      },
      "source": [
        "W = nmf.fit_transform(dtm)\n",
        "H = nmf.components_"
      ],
      "execution_count": 9,
      "outputs": [
        {
          "output_type": "stream",
          "name": "stderr",
          "text": [
            "/usr/local/lib/python3.7/dist-packages/sklearn/decomposition/_nmf.py:1425: FutureWarning: `alpha` was deprecated in version 1.0 and will be removed in 1.2. Use `alpha_W` and `alpha_H` instead\n",
            "  FutureWarning,\n",
            "/usr/local/lib/python3.7/dist-packages/sklearn/decomposition/_nmf.py:294: FutureWarning: The 'init' value, when 'init=None' and n_components is less than n_samples and n_features, will be changed from 'nndsvd' to 'nndsvda' in 1.1 (renaming of 0.26).\n",
            "  FutureWarning,\n"
          ]
        }
      ]
    },
    {
      "cell_type": "markdown",
      "metadata": {
        "id": "kbNWlTAv5Zn2"
      },
      "source": [
        "```\n",
        "🔥 우선 하나의 Topic (H의 n번째 row)에 접근해서 해당 topic에 대해 값이 가장 높은 20개의 단어를 출력해보겠습니다.\n",
        "```"
      ]
    },
    {
      "cell_type": "code",
      "metadata": {
        "ExecuteTime": {
          "end_time": "2019-05-29T08:48:58.523062Z",
          "start_time": "2019-05-29T08:48:58.500171Z"
        },
        "id": "uSzB5PBuaCL2",
        "colab": {
          "base_uri": "https://localhost:8080/"
        },
        "outputId": "961edf1f-8f02-42b0-dab7-f82793aaa986"
      },
      "source": [
        "\n",
        "for k in range(K):\n",
        "    print(f\"{k}th topic\")\n",
        "    for index in H[k].argsort()[::-1][:20]:\n",
        "        print(vocab[index], end=' ')\n",
        "    print()"
      ],
      "execution_count": 22,
      "outputs": [
        {
          "output_type": "stream",
          "name": "stdout",
          "text": [
            "0th topic\n",
            "AI 클라우드 제공 의료 스케 킷헬 기반 플랫폼 프린팅 융합 구글 바이오 국가 스마트 혁신 파트너 분야 민관 싱가포르 위해 \n",
            "1th topic\n",
            "매출 스토어 TOP 진입 리니지 크로니클 서머 컴투스 구글플레이 플레이 순위 넥슨 히트 레볼루션 세븐 넷마블 나이 상승세 달성 신작 \n",
            "2th topic\n",
            "결제 인앱 돋보기 IT 업계 구글 강제 방통위 정책 수수료 정산 애플 불만 콘텐츠 음악 변경 인상 스트리밍 저작권 방식 \n",
            "3th topic\n",
            "전자 갤럭시 삼성 테스트 글래스 행사 증권 주목 하나 공개 AR 구글 사용 프레임워크 옵트포머 파라미터 트랜스포머 최적화 하이퍼 마인드 \n",
            "4th topic\n",
            "인공 지능 경찰 사진 발진 탐지 의사 때문 아들 성기 신고 클라우드 구글 교수 최초 과정 학습 프라이버시 유민수 KAIST \n"
          ]
        }
      ]
    },
    {
      "cell_type": "markdown",
      "metadata": {
        "id": "PTP6lUft5C4j"
      },
      "source": [
        "```\n",
        "🔥 이번에는 W에서 하나의 Topic (W의 n번째 column)에 접근해서 해당 topic에 대해 값이 가장 높은 3개의 뉴스 기사 제목을 출력해보겠습니다.\n",
        "```"
      ]
    },
    {
      "cell_type": "code",
      "metadata": {
        "ExecuteTime": {
          "end_time": "2019-05-29T08:48:58.553639Z",
          "start_time": "2019-05-29T08:48:58.525169Z"
        },
        "scrolled": false,
        "id": "K1CniIn7aCL5",
        "colab": {
          "base_uri": "https://localhost:8080/"
        },
        "outputId": "da923dc2-b692-49d0-bd5f-068d777659d2"
      },
      "source": [
        "for k in range(K):\n",
        "    print(f\"==={k}th topic===\")\n",
        "    for index in W[:, k].argsort()[::-1][:3]:\n",
        "        print(words_list[index][1])\n",
        "    print('\\n')"
      ],
      "execution_count": 23,
      "outputs": [
        {
          "output_type": "stream",
          "name": "stdout",
          "text": [
            "===0th topic===\n",
            "로킷헬스케어, 구글 클라우드 기반 AI·3D프린팅 융합 의료 플랫폼 제공\n",
            "로킷헬스케어, 구글 클라우드 기반 AI·3D프린팅 융합 의료 플랫폼 제공\n",
            "로킷헬스케어, 구글 클라우드 기반 AI‧3D 바이오프린팅 융합 의료 플랫폼 제공\n",
            "\n",
            "\n",
            "===1th topic===\n",
            "컴투스 신작 '서머너즈 워 크로니클', 구글플레이스토어 매출 TOP10 달성... 원스토어 매출도 상승세\n",
            "컴투스 신작 '서머너즈 워 크로니클', 구글플레이스토어 매출 TOP10 달성... 원스토어 매출도 상승세\n",
            "넥슨 기대작 '히트2' 구글 플레이 매출 3위 매출 TOP3 진입, '리니지M'과 '원신'도 업데이트로 순위 상승\n",
            "\n",
            "\n",
            "===2th topic===\n",
            "[인앱결제 A-Z] ④ 구글 신고 잇따라 접수…공정위, '인앱결제' 재검 [IT돋보기]\n",
            "'구글 인앱결제' 음원 스트리밍 인상 원인…\"저작권 정산방식 변경해야\" [IT돋보기]\n",
            "'구글 인앱결제' 음원 스트리밍 인상 원인…\"저작권 정산방식 변경해야\" [IT돋보기]\n",
            "\n",
            "\n",
            "===3th topic===\n",
            "하나증권 \"8월 구글 AR글래스 테스트와 삼성전자 갤럭시 공개행사 주목\"\n",
            "하나증권 \"8월 구글 AR글래스 테스트와 삼성전자 갤럭시 공개행사 주목\"\n",
            "하나증권 \"8월 구글 AR글래스 테스트와 삼성전자 갤럭시 공개행사 주목\"\n",
            "\n",
            "\n",
            "===4th topic===\n",
            "아들 성기 발진 때문에 의사에게 찍어 보낸 사진 탐지해 경찰에 신고한 '구글 클라우드' 인공지능\n",
            "아들 성기 발진 때문에 의사에게 찍어 보낸 사진 탐지해 경찰에 신고한 '구글 클라우드' 인공지능\n",
            "아들 성기 발진 때문에 의사에게 찍어 보낸 사진 탐지해 경찰에 신고한 '구글 클라우드' 인공지능\n",
            "\n",
            "\n"
          ]
        }
      ]
    },
    {
      "cell_type": "markdown",
      "metadata": {
        "id": "yLOplJlO5tFi"
      },
      "source": [
        "```\n",
        "❓ 2번째 토픽에 대해 가장 높은 가중치를 갖는 제목 5개를 출력해볼까요?\n",
        "```"
      ]
    },
    {
      "cell_type": "code",
      "metadata": {
        "ExecuteTime": {
          "end_time": "2019-05-29T08:48:58.574010Z",
          "start_time": "2019-05-29T08:48:58.567122Z"
        },
        "id": "Jfm4fK4jaCL9",
        "colab": {
          "base_uri": "https://localhost:8080/"
        },
        "outputId": "5ae27ef1-cc15-406d-b53b-42b11dcc6b9b"
      },
      "source": [
        "#TODO\n",
        "index_list = W[:, 1].argsort()[::-1][:5]\n",
        "for index in index_list:\n",
        "    print(words_list[index][1])"
      ],
      "execution_count": 27,
      "outputs": [
        {
          "output_type": "stream",
          "name": "stdout",
          "text": [
            "컴투스 신작 '서머너즈 워 크로니클', 구글플레이스토어 매출 TOP10 달성... 원스토어 매출도 상승세\n",
            "컴투스 신작 '서머너즈 워 크로니클', 구글플레이스토어 매출 TOP10 달성... 원스토어 매출도 상승세\n",
            "넥슨 기대작 '히트2' 구글 플레이 매출 3위 매출 TOP3 진입, '리니지M'과 '원신'도 업데이트로 순위 상승\n",
            "넥슨 기대작 '히트2' 구글 플레이 매출 3위 매출 TOP3 진입, '리니지M'과 '원신'도 업데이트로 순위 상승\n",
            "넷마블 '세븐나이츠 레볼루션' 구글 플레이 TOP 5 진입, 엔씨소프트 '리니지M' 매출 1위 탈환\n"
          ]
        }
      ]
    },
    {
      "cell_type": "markdown",
      "metadata": {
        "id": "b7AZ3SyS6Y5L"
      },
      "source": [
        "```\n",
        "🔥 이번에는 t-SNE를 이용해 Topic별 시각화를 진행해보겠습니다.\n",
        "\n",
        "💡 t-SNE는 무엇인가요?\n",
        "\n",
        "t-Stochastic Neighbor Embedding(t-SNE)은 고차원의 벡터를 \n",
        "저차원(2~3차원) 벡터로 데이터간 구조적 특징을 유지하며 축소를 하는 방법 중 하나입니다.\n",
        "\n",
        "주로 고차원 데이터의 시각화를 위해 사용됩니다.\n",
        "```\n",
        "\n",
        "참고: [lovit: t-SNE](https://lovit.github.io/nlp/representation/2018/09/28/tsne/#:~:text=t%2DSNE%20%EB%8A%94%20%EA%B3%A0%EC%B0%A8%EC%9B%90%EC%9D%98,%EC%9D%98%20%EC%A7%80%EB%8F%84%EB%A1%9C%20%ED%91%9C%ED%98%84%ED%95%A9%EB%8B%88%EB%8B%A4.)\n",
        "\n",
        "참고: [ratsgo: t-SNE](https://ratsgo.github.io/machine%20learning/2017/04/28/tSNE/)"
      ]
    },
    {
      "cell_type": "markdown",
      "metadata": {
        "id": "H1HlyoakaCMA"
      },
      "source": [
        "## Visualization"
      ]
    },
    {
      "cell_type": "code",
      "metadata": {
        "ExecuteTime": {
          "end_time": "2019-05-29T08:49:22.529080Z",
          "start_time": "2019-05-29T08:48:58.612549Z"
        },
        "id": "rqajA3lDaCMB",
        "colab": {
          "base_uri": "https://localhost:8080/"
        },
        "outputId": "72a22450-9fc8-42db-ab21-104ec930ea3c"
      },
      "source": [
        "from sklearn.manifold import TSNE\n",
        "\n",
        "# n_components = 차원 수\n",
        "tsne = TSNE(n_components=2, init='pca', verbose=1)\n",
        "\n",
        "# W matrix에 대해 t-sne를 수행합니다.\n",
        "W2d = tsne.fit_transform(W)\n",
        "\n",
        "# 각 뉴스 기사 제목마다 가중치가 가장 높은 topic을 저장합니다.\n",
        "topicIndex = [v.argmax() for v in W]"
      ],
      "execution_count": 13,
      "outputs": [
        {
          "output_type": "stream",
          "name": "stderr",
          "text": [
            "/usr/local/lib/python3.7/dist-packages/sklearn/manifold/_t_sne.py:793: FutureWarning: The default learning rate in TSNE will change from 200.0 to 'auto' in 1.2.\n",
            "  FutureWarning,\n",
            "/usr/local/lib/python3.7/dist-packages/sklearn/manifold/_t_sne.py:986: FutureWarning: The PCA initialization in TSNE will change to have the standard deviation of PC1 equal to 1e-4 in 1.2. This will ensure better convergence.\n",
            "  FutureWarning,\n"
          ]
        },
        {
          "output_type": "stream",
          "name": "stdout",
          "text": [
            "[t-SNE] Computing 83 nearest neighbors...\n",
            "[t-SNE] Indexed 84 samples in 0.000s...\n",
            "[t-SNE] Computed neighbors for 84 samples in 0.002s...\n",
            "[t-SNE] Computed conditional probabilities for sample 84 / 84\n",
            "[t-SNE] Mean sigma: 0.098523\n",
            "[t-SNE] KL divergence after 250 iterations with early exaggeration: 50.152016\n",
            "[t-SNE] KL divergence after 1000 iterations: -0.287082\n"
          ]
        }
      ]
    },
    {
      "cell_type": "code",
      "metadata": {
        "ExecuteTime": {
          "end_time": "2019-05-16T08:24:10.840813Z",
          "start_time": "2019-05-16T08:24:10.695706Z"
        },
        "scrolled": true,
        "id": "pc76X-jSaCME",
        "colab": {
          "base_uri": "https://localhost:8080/",
          "height": 635
        },
        "outputId": "5364b7a8-00aa-45d5-ad23-d6ceef67e3ed"
      },
      "source": [
        "from bokeh.models import HoverTool\n",
        "from bokeh.palettes import Category20\n",
        "from bokeh.io import show, output_notebook\n",
        "from bokeh.plotting import figure, ColumnDataSource\n",
        "output_notebook()\n",
        "\n",
        "# 사용할 툴들\n",
        "tools_to_show = 'hover,box_zoom,pan,save,reset,wheel_zoom'\n",
        "p = figure(plot_width=720, plot_height=580, tools=tools_to_show)\n",
        "\n",
        "source = ColumnDataSource(data={\n",
        "    'x': W2d[:, 0],\n",
        "    'y': W2d[:, 1],\n",
        "    'id': [i for i in range(W.shape[0])],\n",
        "    'document': [article for words, article in words_list],\n",
        "    'topic': [str(i) for i in topicIndex],  # 토픽 번호\n",
        "    'color': [Category20[K][i] for i in topicIndex]\n",
        "})\n",
        "p.circle(\n",
        "    'x', 'y',\n",
        "    source=source,\n",
        "    legend='topic',\n",
        "    color='color'\n",
        ")\n",
        "\n",
        "# interaction\n",
        "p.legend.location = \"top_left\"\n",
        "hover = p.select({'type': HoverTool})\n",
        "hover.tooltips = [(\"Topic\", \"@topic\"), ('id', '@id'), (\"Article\", \"@document\")]\n",
        "hover.mode = 'mouse'\n",
        "\n",
        "show(p)"
      ],
      "execution_count": 14,
      "outputs": [
        {
          "output_type": "stream",
          "name": "stderr",
          "text": [
            "BokehDeprecationWarning: 'legend' keyword is deprecated, use explicit 'legend_label', 'legend_field', or 'legend_group' keywords instead\n"
          ]
        },
        {
          "output_type": "display_data",
          "data": {
            "application/javascript": [
              "\n",
              "(function(root) {\n",
              "  function now() {\n",
              "    return new Date();\n",
              "  }\n",
              "\n",
              "  var force = true;\n",
              "\n",
              "  if (typeof root._bokeh_onload_callbacks === \"undefined\" || force === true) {\n",
              "    root._bokeh_onload_callbacks = [];\n",
              "    root._bokeh_is_loading = undefined;\n",
              "  }\n",
              "\n",
              "  var JS_MIME_TYPE = 'application/javascript';\n",
              "  var HTML_MIME_TYPE = 'text/html';\n",
              "  var EXEC_MIME_TYPE = 'application/vnd.bokehjs_exec.v0+json';\n",
              "  var CLASS_NAME = 'output_bokeh rendered_html';\n",
              "\n",
              "  /**\n",
              "   * Render data to the DOM node\n",
              "   */\n",
              "  function render(props, node) {\n",
              "    var script = document.createElement(\"script\");\n",
              "    node.appendChild(script);\n",
              "  }\n",
              "\n",
              "  /**\n",
              "   * Handle when an output is cleared or removed\n",
              "   */\n",
              "  function handleClearOutput(event, handle) {\n",
              "    var cell = handle.cell;\n",
              "\n",
              "    var id = cell.output_area._bokeh_element_id;\n",
              "    var server_id = cell.output_area._bokeh_server_id;\n",
              "    // Clean up Bokeh references\n",
              "    if (id != null && id in Bokeh.index) {\n",
              "      Bokeh.index[id].model.document.clear();\n",
              "      delete Bokeh.index[id];\n",
              "    }\n",
              "\n",
              "    if (server_id !== undefined) {\n",
              "      // Clean up Bokeh references\n",
              "      var cmd = \"from bokeh.io.state import curstate; print(curstate().uuid_to_server['\" + server_id + \"'].get_sessions()[0].document.roots[0]._id)\";\n",
              "      cell.notebook.kernel.execute(cmd, {\n",
              "        iopub: {\n",
              "          output: function(msg) {\n",
              "            var id = msg.content.text.trim();\n",
              "            if (id in Bokeh.index) {\n",
              "              Bokeh.index[id].model.document.clear();\n",
              "              delete Bokeh.index[id];\n",
              "            }\n",
              "          }\n",
              "        }\n",
              "      });\n",
              "      // Destroy server and session\n",
              "      var cmd = \"import bokeh.io.notebook as ion; ion.destroy_server('\" + server_id + \"')\";\n",
              "      cell.notebook.kernel.execute(cmd);\n",
              "    }\n",
              "  }\n",
              "\n",
              "  /**\n",
              "   * Handle when a new output is added\n",
              "   */\n",
              "  function handleAddOutput(event, handle) {\n",
              "    var output_area = handle.output_area;\n",
              "    var output = handle.output;\n",
              "\n",
              "    // limit handleAddOutput to display_data with EXEC_MIME_TYPE content only\n",
              "    if ((output.output_type != \"display_data\") || (!Object.prototype.hasOwnProperty.call(output.data, EXEC_MIME_TYPE))) {\n",
              "      return\n",
              "    }\n",
              "\n",
              "    var toinsert = output_area.element.find(\".\" + CLASS_NAME.split(' ')[0]);\n",
              "\n",
              "    if (output.metadata[EXEC_MIME_TYPE][\"id\"] !== undefined) {\n",
              "      toinsert[toinsert.length - 1].firstChild.textContent = output.data[JS_MIME_TYPE];\n",
              "      // store reference to embed id on output_area\n",
              "      output_area._bokeh_element_id = output.metadata[EXEC_MIME_TYPE][\"id\"];\n",
              "    }\n",
              "    if (output.metadata[EXEC_MIME_TYPE][\"server_id\"] !== undefined) {\n",
              "      var bk_div = document.createElement(\"div\");\n",
              "      bk_div.innerHTML = output.data[HTML_MIME_TYPE];\n",
              "      var script_attrs = bk_div.children[0].attributes;\n",
              "      for (var i = 0; i < script_attrs.length; i++) {\n",
              "        toinsert[toinsert.length - 1].firstChild.setAttribute(script_attrs[i].name, script_attrs[i].value);\n",
              "        toinsert[toinsert.length - 1].firstChild.textContent = bk_div.children[0].textContent\n",
              "      }\n",
              "      // store reference to server id on output_area\n",
              "      output_area._bokeh_server_id = output.metadata[EXEC_MIME_TYPE][\"server_id\"];\n",
              "    }\n",
              "  }\n",
              "\n",
              "  function register_renderer(events, OutputArea) {\n",
              "\n",
              "    function append_mime(data, metadata, element) {\n",
              "      // create a DOM node to render to\n",
              "      var toinsert = this.create_output_subarea(\n",
              "        metadata,\n",
              "        CLASS_NAME,\n",
              "        EXEC_MIME_TYPE\n",
              "      );\n",
              "      this.keyboard_manager.register_events(toinsert);\n",
              "      // Render to node\n",
              "      var props = {data: data, metadata: metadata[EXEC_MIME_TYPE]};\n",
              "      render(props, toinsert[toinsert.length - 1]);\n",
              "      element.append(toinsert);\n",
              "      return toinsert\n",
              "    }\n",
              "\n",
              "    /* Handle when an output is cleared or removed */\n",
              "    events.on('clear_output.CodeCell', handleClearOutput);\n",
              "    events.on('delete.Cell', handleClearOutput);\n",
              "\n",
              "    /* Handle when a new output is added */\n",
              "    events.on('output_added.OutputArea', handleAddOutput);\n",
              "\n",
              "    /**\n",
              "     * Register the mime type and append_mime function with output_area\n",
              "     */\n",
              "    OutputArea.prototype.register_mime_type(EXEC_MIME_TYPE, append_mime, {\n",
              "      /* Is output safe? */\n",
              "      safe: true,\n",
              "      /* Index of renderer in `output_area.display_order` */\n",
              "      index: 0\n",
              "    });\n",
              "  }\n",
              "\n",
              "  // register the mime type if in Jupyter Notebook environment and previously unregistered\n",
              "  if (root.Jupyter !== undefined) {\n",
              "    var events = require('base/js/events');\n",
              "    var OutputArea = require('notebook/js/outputarea').OutputArea;\n",
              "\n",
              "    if (OutputArea.prototype.mime_types().indexOf(EXEC_MIME_TYPE) == -1) {\n",
              "      register_renderer(events, OutputArea);\n",
              "    }\n",
              "  }\n",
              "\n",
              "  \n",
              "  if (typeof (root._bokeh_timeout) === \"undefined\" || force === true) {\n",
              "    root._bokeh_timeout = Date.now() + 5000;\n",
              "    root._bokeh_failed_load = false;\n",
              "  }\n",
              "\n",
              "  var NB_LOAD_WARNING = {'data': {'text/html':\n",
              "     \"<div style='background-color: #fdd'>\\n\"+\n",
              "     \"<p>\\n\"+\n",
              "     \"BokehJS does not appear to have successfully loaded. If loading BokehJS from CDN, this \\n\"+\n",
              "     \"may be due to a slow or bad network connection. Possible fixes:\\n\"+\n",
              "     \"</p>\\n\"+\n",
              "     \"<ul>\\n\"+\n",
              "     \"<li>re-rerun `output_notebook()` to attempt to load from CDN again, or</li>\\n\"+\n",
              "     \"<li>use INLINE resources instead, as so:</li>\\n\"+\n",
              "     \"</ul>\\n\"+\n",
              "     \"<code>\\n\"+\n",
              "     \"from bokeh.resources import INLINE\\n\"+\n",
              "     \"output_notebook(resources=INLINE)\\n\"+\n",
              "     \"</code>\\n\"+\n",
              "     \"</div>\"}};\n",
              "\n",
              "  function display_loaded() {\n",
              "    var el = document.getElementById(null);\n",
              "    if (el != null) {\n",
              "      el.textContent = \"BokehJS is loading...\";\n",
              "    }\n",
              "    if (root.Bokeh !== undefined) {\n",
              "      if (el != null) {\n",
              "        el.textContent = \"BokehJS \" + root.Bokeh.version + \" successfully loaded.\";\n",
              "      }\n",
              "    } else if (Date.now() < root._bokeh_timeout) {\n",
              "      setTimeout(display_loaded, 100)\n",
              "    }\n",
              "  }\n",
              "\n",
              "\n",
              "  function run_callbacks() {\n",
              "    try {\n",
              "      root._bokeh_onload_callbacks.forEach(function(callback) {\n",
              "        if (callback != null)\n",
              "          callback();\n",
              "      });\n",
              "    } finally {\n",
              "      delete root._bokeh_onload_callbacks\n",
              "    }\n",
              "    console.debug(\"Bokeh: all callbacks have finished\");\n",
              "  }\n",
              "\n",
              "  function load_libs(css_urls, js_urls, callback) {\n",
              "    if (css_urls == null) css_urls = [];\n",
              "    if (js_urls == null) js_urls = [];\n",
              "\n",
              "    root._bokeh_onload_callbacks.push(callback);\n",
              "    if (root._bokeh_is_loading > 0) {\n",
              "      console.debug(\"Bokeh: BokehJS is being loaded, scheduling callback at\", now());\n",
              "      return null;\n",
              "    }\n",
              "    if (js_urls == null || js_urls.length === 0) {\n",
              "      run_callbacks();\n",
              "      return null;\n",
              "    }\n",
              "    console.debug(\"Bokeh: BokehJS not loaded, scheduling load and callback at\", now());\n",
              "    root._bokeh_is_loading = css_urls.length + js_urls.length;\n",
              "\n",
              "    function on_load() {\n",
              "      root._bokeh_is_loading--;\n",
              "      if (root._bokeh_is_loading === 0) {\n",
              "        console.debug(\"Bokeh: all BokehJS libraries/stylesheets loaded\");\n",
              "        run_callbacks()\n",
              "      }\n",
              "    }\n",
              "\n",
              "    function on_error(url) {\n",
              "      console.error(\"failed to load \" + url);\n",
              "    }\n",
              "\n",
              "    for (let i = 0; i < css_urls.length; i++) {\n",
              "      const url = css_urls[i];\n",
              "      const element = document.createElement(\"link\");\n",
              "      element.onload = on_load;\n",
              "      element.onerror = on_error.bind(null, url);\n",
              "      element.rel = \"stylesheet\";\n",
              "      element.type = \"text/css\";\n",
              "      element.href = url;\n",
              "      console.debug(\"Bokeh: injecting link tag for BokehJS stylesheet: \", url);\n",
              "      document.body.appendChild(element);\n",
              "    }\n",
              "\n",
              "    const hashes = {\"https://cdn.bokeh.org/bokeh/release/bokeh-2.3.3.min.js\": \"dM3QQsP+wXdHg42wTqW85BjZQdLNNIXqlPw/BgKoExPmTG7ZLML4EGqLMfqHT6ON\", \"https://cdn.bokeh.org/bokeh/release/bokeh-tables-2.3.3.min.js\": \"8x57I4YuIfu8XyZfFo0XVr2WAT8EK4rh/uDe3wF7YuW2FNUSNEpJbsPaB1nJ2fz2\", \"https://cdn.bokeh.org/bokeh/release/bokeh-widgets-2.3.3.min.js\": \"3QTqdz9LyAm2i0sG5XTePsHec3UHWwVsrOL68SYRoAXsafvfAyqtQ+h440+qIBhS\"};\n",
              "\n",
              "    for (let i = 0; i < js_urls.length; i++) {\n",
              "      const url = js_urls[i];\n",
              "      const element = document.createElement('script');\n",
              "      element.onload = on_load;\n",
              "      element.onerror = on_error.bind(null, url);\n",
              "      element.async = false;\n",
              "      element.src = url;\n",
              "      if (url in hashes) {\n",
              "        element.crossOrigin = \"anonymous\";\n",
              "        element.integrity = \"sha384-\" + hashes[url];\n",
              "      }\n",
              "      console.debug(\"Bokeh: injecting script tag for BokehJS library: \", url);\n",
              "      document.head.appendChild(element);\n",
              "    }\n",
              "  };\n",
              "\n",
              "  function inject_raw_css(css) {\n",
              "    const element = document.createElement(\"style\");\n",
              "    element.appendChild(document.createTextNode(css));\n",
              "    document.body.appendChild(element);\n",
              "  }\n",
              "\n",
              "  \n",
              "  var js_urls = [\"https://cdn.bokeh.org/bokeh/release/bokeh-2.3.3.min.js\", \"https://cdn.bokeh.org/bokeh/release/bokeh-widgets-2.3.3.min.js\", \"https://cdn.bokeh.org/bokeh/release/bokeh-tables-2.3.3.min.js\"];\n",
              "  var css_urls = [];\n",
              "  \n",
              "\n",
              "  var inline_js = [\n",
              "    function(Bokeh) {\n",
              "      Bokeh.set_log_level(\"info\");\n",
              "    },\n",
              "    function(Bokeh) {\n",
              "    \n",
              "    \n",
              "    }\n",
              "  ];\n",
              "\n",
              "  function run_inline_js() {\n",
              "    \n",
              "    if (root.Bokeh !== undefined || force === true) {\n",
              "      \n",
              "    for (var i = 0; i < inline_js.length; i++) {\n",
              "      inline_js[i].call(root, root.Bokeh);\n",
              "    }\n",
              "    } else if (Date.now() < root._bokeh_timeout) {\n",
              "      setTimeout(run_inline_js, 100);\n",
              "    } else if (!root._bokeh_failed_load) {\n",
              "      console.log(\"Bokeh: BokehJS failed to load within specified timeout.\");\n",
              "      root._bokeh_failed_load = true;\n",
              "    } else if (force !== true) {\n",
              "      var cell = $(document.getElementById(null)).parents('.cell').data().cell;\n",
              "      cell.output_area.append_execute_result(NB_LOAD_WARNING)\n",
              "    }\n",
              "\n",
              "  }\n",
              "\n",
              "  if (root._bokeh_is_loading === 0) {\n",
              "    console.debug(\"Bokeh: BokehJS loaded, going straight to plotting\");\n",
              "    run_inline_js();\n",
              "  } else {\n",
              "    load_libs(css_urls, js_urls, function() {\n",
              "      console.debug(\"Bokeh: BokehJS plotting callback run at\", now());\n",
              "      run_inline_js();\n",
              "    });\n",
              "  }\n",
              "}(window));"
            ],
            "application/vnd.bokehjs_load.v0+json": "\n(function(root) {\n  function now() {\n    return new Date();\n  }\n\n  var force = true;\n\n  if (typeof root._bokeh_onload_callbacks === \"undefined\" || force === true) {\n    root._bokeh_onload_callbacks = [];\n    root._bokeh_is_loading = undefined;\n  }\n\n  \n\n  \n  if (typeof (root._bokeh_timeout) === \"undefined\" || force === true) {\n    root._bokeh_timeout = Date.now() + 5000;\n    root._bokeh_failed_load = false;\n  }\n\n  var NB_LOAD_WARNING = {'data': {'text/html':\n     \"<div style='background-color: #fdd'>\\n\"+\n     \"<p>\\n\"+\n     \"BokehJS does not appear to have successfully loaded. If loading BokehJS from CDN, this \\n\"+\n     \"may be due to a slow or bad network connection. Possible fixes:\\n\"+\n     \"</p>\\n\"+\n     \"<ul>\\n\"+\n     \"<li>re-rerun `output_notebook()` to attempt to load from CDN again, or</li>\\n\"+\n     \"<li>use INLINE resources instead, as so:</li>\\n\"+\n     \"</ul>\\n\"+\n     \"<code>\\n\"+\n     \"from bokeh.resources import INLINE\\n\"+\n     \"output_notebook(resources=INLINE)\\n\"+\n     \"</code>\\n\"+\n     \"</div>\"}};\n\n  function display_loaded() {\n    var el = document.getElementById(null);\n    if (el != null) {\n      el.textContent = \"BokehJS is loading...\";\n    }\n    if (root.Bokeh !== undefined) {\n      if (el != null) {\n        el.textContent = \"BokehJS \" + root.Bokeh.version + \" successfully loaded.\";\n      }\n    } else if (Date.now() < root._bokeh_timeout) {\n      setTimeout(display_loaded, 100)\n    }\n  }\n\n\n  function run_callbacks() {\n    try {\n      root._bokeh_onload_callbacks.forEach(function(callback) {\n        if (callback != null)\n          callback();\n      });\n    } finally {\n      delete root._bokeh_onload_callbacks\n    }\n    console.debug(\"Bokeh: all callbacks have finished\");\n  }\n\n  function load_libs(css_urls, js_urls, callback) {\n    if (css_urls == null) css_urls = [];\n    if (js_urls == null) js_urls = [];\n\n    root._bokeh_onload_callbacks.push(callback);\n    if (root._bokeh_is_loading > 0) {\n      console.debug(\"Bokeh: BokehJS is being loaded, scheduling callback at\", now());\n      return null;\n    }\n    if (js_urls == null || js_urls.length === 0) {\n      run_callbacks();\n      return null;\n    }\n    console.debug(\"Bokeh: BokehJS not loaded, scheduling load and callback at\", now());\n    root._bokeh_is_loading = css_urls.length + js_urls.length;\n\n    function on_load() {\n      root._bokeh_is_loading--;\n      if (root._bokeh_is_loading === 0) {\n        console.debug(\"Bokeh: all BokehJS libraries/stylesheets loaded\");\n        run_callbacks()\n      }\n    }\n\n    function on_error(url) {\n      console.error(\"failed to load \" + url);\n    }\n\n    for (let i = 0; i < css_urls.length; i++) {\n      const url = css_urls[i];\n      const element = document.createElement(\"link\");\n      element.onload = on_load;\n      element.onerror = on_error.bind(null, url);\n      element.rel = \"stylesheet\";\n      element.type = \"text/css\";\n      element.href = url;\n      console.debug(\"Bokeh: injecting link tag for BokehJS stylesheet: \", url);\n      document.body.appendChild(element);\n    }\n\n    const hashes = {\"https://cdn.bokeh.org/bokeh/release/bokeh-2.3.3.min.js\": \"dM3QQsP+wXdHg42wTqW85BjZQdLNNIXqlPw/BgKoExPmTG7ZLML4EGqLMfqHT6ON\", \"https://cdn.bokeh.org/bokeh/release/bokeh-tables-2.3.3.min.js\": \"8x57I4YuIfu8XyZfFo0XVr2WAT8EK4rh/uDe3wF7YuW2FNUSNEpJbsPaB1nJ2fz2\", \"https://cdn.bokeh.org/bokeh/release/bokeh-widgets-2.3.3.min.js\": \"3QTqdz9LyAm2i0sG5XTePsHec3UHWwVsrOL68SYRoAXsafvfAyqtQ+h440+qIBhS\"};\n\n    for (let i = 0; i < js_urls.length; i++) {\n      const url = js_urls[i];\n      const element = document.createElement('script');\n      element.onload = on_load;\n      element.onerror = on_error.bind(null, url);\n      element.async = false;\n      element.src = url;\n      if (url in hashes) {\n        element.crossOrigin = \"anonymous\";\n        element.integrity = \"sha384-\" + hashes[url];\n      }\n      console.debug(\"Bokeh: injecting script tag for BokehJS library: \", url);\n      document.head.appendChild(element);\n    }\n  };\n\n  function inject_raw_css(css) {\n    const element = document.createElement(\"style\");\n    element.appendChild(document.createTextNode(css));\n    document.body.appendChild(element);\n  }\n\n  \n  var js_urls = [\"https://cdn.bokeh.org/bokeh/release/bokeh-2.3.3.min.js\", \"https://cdn.bokeh.org/bokeh/release/bokeh-widgets-2.3.3.min.js\", \"https://cdn.bokeh.org/bokeh/release/bokeh-tables-2.3.3.min.js\"];\n  var css_urls = [];\n  \n\n  var inline_js = [\n    function(Bokeh) {\n      Bokeh.set_log_level(\"info\");\n    },\n    function(Bokeh) {\n    \n    \n    }\n  ];\n\n  function run_inline_js() {\n    \n    if (root.Bokeh !== undefined || force === true) {\n      \n    for (var i = 0; i < inline_js.length; i++) {\n      inline_js[i].call(root, root.Bokeh);\n    }\n    } else if (Date.now() < root._bokeh_timeout) {\n      setTimeout(run_inline_js, 100);\n    } else if (!root._bokeh_failed_load) {\n      console.log(\"Bokeh: BokehJS failed to load within specified timeout.\");\n      root._bokeh_failed_load = true;\n    } else if (force !== true) {\n      var cell = $(document.getElementById(null)).parents('.cell').data().cell;\n      cell.output_area.append_execute_result(NB_LOAD_WARNING)\n    }\n\n  }\n\n  if (root._bokeh_is_loading === 0) {\n    console.debug(\"Bokeh: BokehJS loaded, going straight to plotting\");\n    run_inline_js();\n  } else {\n    load_libs(css_urls, js_urls, function() {\n      console.debug(\"Bokeh: BokehJS plotting callback run at\", now());\n      run_inline_js();\n    });\n  }\n}(window));"
          },
          "metadata": {}
        },
        {
          "output_type": "display_data",
          "data": {
            "text/html": [
              "\n",
              "\n",
              "\n",
              "\n",
              "\n",
              "\n",
              "  <div class=\"bk-root\" id=\"d00ecc25-b28d-4b55-94d5-c22a6606e567\" data-root-id=\"1002\"></div>\n"
            ]
          },
          "metadata": {}
        },
        {
          "output_type": "display_data",
          "data": {
            "application/javascript": [
              "(function(root) {\n",
              "  function embed_document(root) {\n",
              "    \n",
              "  var docs_json = {\"ec15ab43-d7e7-4416-995c-402cc91d1185\":{\"defs\":[],\"roots\":{\"references\":[{\"attributes\":{\"below\":[{\"id\":\"1011\"}],\"center\":[{\"id\":\"1014\"},{\"id\":\"1018\"},{\"id\":\"1050\"}],\"height\":580,\"left\":[{\"id\":\"1015\"}],\"renderers\":[{\"id\":\"1037\"}],\"title\":{\"id\":\"1040\"},\"toolbar\":{\"id\":\"1026\"},\"width\":720,\"x_range\":{\"id\":\"1003\"},\"x_scale\":{\"id\":\"1007\"},\"y_range\":{\"id\":\"1005\"},\"y_scale\":{\"id\":\"1009\"}},\"id\":\"1002\",\"subtype\":\"Figure\",\"type\":\"Plot\"},{\"attributes\":{},\"id\":\"1021\",\"type\":\"PanTool\"},{\"attributes\":{},\"id\":\"1047\",\"type\":\"Selection\"},{\"attributes\":{},\"id\":\"1022\",\"type\":\"SaveTool\"},{\"attributes\":{},\"id\":\"1048\",\"type\":\"UnionRenderers\"},{\"attributes\":{},\"id\":\"1007\",\"type\":\"LinearScale\"},{\"attributes\":{},\"id\":\"1023\",\"type\":\"ResetTool\"},{\"attributes\":{},\"id\":\"1046\",\"type\":\"AllLabels\"},{\"attributes\":{},\"id\":\"1024\",\"type\":\"WheelZoomTool\"},{\"attributes\":{},\"id\":\"1003\",\"type\":\"DataRange1d\"},{\"attributes\":{},\"id\":\"1009\",\"type\":\"LinearScale\"},{\"attributes\":{\"fill_alpha\":{\"value\":0.1},\"fill_color\":{\"field\":\"color\"},\"line_alpha\":{\"value\":0.1},\"line_color\":{\"field\":\"color\"},\"x\":{\"field\":\"x\"},\"y\":{\"field\":\"y\"}},\"id\":\"1036\",\"type\":\"Circle\"},{\"attributes\":{\"formatter\":{\"id\":\"1041\"},\"major_label_policy\":{\"id\":\"1043\"},\"ticker\":{\"id\":\"1012\"}},\"id\":\"1011\",\"type\":\"LinearAxis\"},{\"attributes\":{\"axis\":{\"id\":\"1015\"},\"dimension\":1,\"ticker\":null},\"id\":\"1018\",\"type\":\"Grid\"},{\"attributes\":{},\"id\":\"1012\",\"type\":\"BasicTicker\"},{\"attributes\":{\"source\":{\"id\":\"1033\"}},\"id\":\"1038\",\"type\":\"CDSView\"},{\"attributes\":{\"formatter\":{\"id\":\"1044\"},\"major_label_policy\":{\"id\":\"1046\"},\"ticker\":{\"id\":\"1016\"}},\"id\":\"1015\",\"type\":\"LinearAxis\"},{\"attributes\":{},\"id\":\"1016\",\"type\":\"BasicTicker\"},{\"attributes\":{\"axis\":{\"id\":\"1011\"},\"ticker\":null},\"id\":\"1014\",\"type\":\"Grid\"},{\"attributes\":{\"overlay\":{\"id\":\"1025\"}},\"id\":\"1020\",\"type\":\"BoxZoomTool\"},{\"attributes\":{\"data_source\":{\"id\":\"1033\"},\"glyph\":{\"id\":\"1035\"},\"hover_glyph\":null,\"muted_glyph\":null,\"nonselection_glyph\":{\"id\":\"1036\"},\"view\":{\"id\":\"1038\"}},\"id\":\"1037\",\"type\":\"GlyphRenderer\"},{\"attributes\":{\"fill_color\":{\"field\":\"color\"},\"line_color\":{\"field\":\"color\"},\"x\":{\"field\":\"x\"},\"y\":{\"field\":\"y\"}},\"id\":\"1035\",\"type\":\"Circle\"},{\"attributes\":{},\"id\":\"1040\",\"type\":\"Title\"},{\"attributes\":{\"items\":[{\"id\":\"1051\"}],\"location\":\"top_left\"},\"id\":\"1050\",\"type\":\"Legend\"},{\"attributes\":{\"active_multi\":null,\"tools\":[{\"id\":\"1019\"},{\"id\":\"1020\"},{\"id\":\"1021\"},{\"id\":\"1022\"},{\"id\":\"1023\"},{\"id\":\"1024\"}]},\"id\":\"1026\",\"type\":\"Toolbar\"},{\"attributes\":{\"bottom_units\":\"screen\",\"fill_alpha\":0.5,\"fill_color\":\"lightgrey\",\"left_units\":\"screen\",\"level\":\"overlay\",\"line_alpha\":1.0,\"line_color\":\"black\",\"line_dash\":[4,4],\"line_width\":2,\"right_units\":\"screen\",\"syncable\":false,\"top_units\":\"screen\"},\"id\":\"1025\",\"type\":\"BoxAnnotation\"},{\"attributes\":{},\"id\":\"1043\",\"type\":\"AllLabels\"},{\"attributes\":{\"label\":{\"field\":\"topic\"},\"renderers\":[{\"id\":\"1037\"}]},\"id\":\"1051\",\"type\":\"LegendItem\"},{\"attributes\":{},\"id\":\"1041\",\"type\":\"BasicTickFormatter\"},{\"attributes\":{\"callback\":null,\"tooltips\":[[\"Topic\",\"@topic\"],[\"id\",\"@id\"],[\"Article\",\"@document\"]]},\"id\":\"1019\",\"type\":\"HoverTool\"},{\"attributes\":{},\"id\":\"1044\",\"type\":\"BasicTickFormatter\"},{\"attributes\":{\"data\":{\"color\":[\"#ff7f0e\",\"#ffbb78\",\"#aec7e8\",\"#ff7f0e\",\"#aec7e8\",\"#1f77b4\",\"#2ca02c\",\"#2ca02c\",\"#ff7f0e\",\"#ff7f0e\",\"#aec7e8\",\"#2ca02c\",\"#1f77b4\",\"#1f77b4\",\"#2ca02c\",\"#ff7f0e\",\"#2ca02c\",\"#aec7e8\",\"#2ca02c\",\"#2ca02c\",\"#ff7f0e\",\"#ff7f0e\",\"#aec7e8\",\"#aec7e8\",\"#ff7f0e\",\"#aec7e8\",\"#ff7f0e\",\"#ff7f0e\",\"#ff7f0e\",\"#1f77b4\",\"#1f77b4\",\"#1f77b4\",\"#ffbb78\",\"#ffbb78\",\"#ffbb78\",\"#ff7f0e\",\"#ff7f0e\",\"#ff7f0e\",\"#ff7f0e\",\"#ff7f0e\",\"#aec7e8\",\"#ff7f0e\",\"#2ca02c\",\"#2ca02c\",\"#1f77b4\",\"#ff7f0e\",\"#ffbb78\",\"#1f77b4\",\"#ff7f0e\",\"#ff7f0e\",\"#ff7f0e\",\"#ffbb78\",\"#1f77b4\",\"#1f77b4\",\"#1f77b4\",\"#ff7f0e\",\"#1f77b4\",\"#ff7f0e\",\"#ff7f0e\",\"#aec7e8\",\"#ff7f0e\",\"#aec7e8\",\"#ff7f0e\",\"#ff7f0e\",\"#ff7f0e\",\"#1f77b4\",\"#aec7e8\",\"#aec7e8\",\"#aec7e8\",\"#aec7e8\",\"#ffbb78\",\"#2ca02c\",\"#ff7f0e\",\"#1f77b4\",\"#aec7e8\",\"#ff7f0e\",\"#1f77b4\",\"#ff7f0e\",\"#ffbb78\",\"#ffbb78\",\"#ffbb78\",\"#ffbb78\",\"#ffbb78\",\"#ff7f0e\"],\"document\":[\"\\uc0ac\\ubb34\\uc2e4 \\ucd9c\\uadfc\\ud558\\ub77c\\uba74\\uc11c '\\uc0ac\\ub0b4 \\ud655\\uc9c4\\uc790 \\u25cb\\uba85' \\ub9e4\\uc77c \\uacf5\\uc9c0\\u2026\\uad6c\\uae00 \\uc9c1\\uc6d0\\ub4e4 \\uac70\\ubd80\\ubc18\\uc751\",\"\\uc544\\uc774\\ud3f0 \\uc0ac\\ud30c\\ub9ac vs \\uac24\\ub7ed\\uc2dc \\uc0bc\\uc131 \\uc778\\ud130\\ub137\\u2026\\u2018\\ub4a4\\uc9d1\\ud78c\\u2019 \\uc560\\ud50c\\u00b7\\uc0bc\\uc804 \\uc21c\\uc704, \\uad6c\\uae00 \\ud06c\\ub86c\\uc740 \\uc6c3\\uc5c8\\ub2e4\",\"\\uc9c4\\uaca9\\uc758 \\ub125\\uc2a8\\uac8c\\uc784\\uc988 '\\ud788\\ud2b82' \\uad6c\\uae00 \\ub9e4\\ucd9c 2\\uc704\\ub85c \\uaed1\\ucda9...\\ub9ac\\ub2c8\\uc9c0M \\ud131\\ubc11 \\ucd94\\uaca9\",\"['\\uc624\\ud034\\uc988' \\uc885\\ud569] 8\\uc6d4 29\\uc77c \\uc624\\ud6c4 7\\uc2dc '\\ub204\\uc7a0 \\uc219\\uba74\\ud15c \\ub9e4\\ud2b8\\ub9ac\\uc2a4', '\\uc774\\uc2a4\\ud2b8\\ub77c \\uad6c\\uae00 TV' \\ub4f1 2\\uac74 \\ubb38\\uc81c\\uc758 \\uc815\\ub2f5\\uc740?\",\"\\ub125\\uc2a8 \\uae30\\ub300\\uc791 '\\ud788\\ud2b82' \\uad6c\\uae00 \\ud50c\\ub808\\uc774 \\ub9e4\\ucd9c 3\\uc704 \\ub9e4\\ucd9c TOP3 \\uc9c4\\uc785, '\\ub9ac\\ub2c8\\uc9c0M'\\uacfc '\\uc6d0\\uc2e0'\\ub3c4 \\uc5c5\\ub370\\uc774\\ud2b8\\ub85c \\uc21c\\uc704 \\uc0c1\\uc2b9\",\"\\uc2f1\\uac00\\ud3ec\\ub974 \\uc815\\ubd80, \\uc2a4\\ub9c8\\ud2b8 \\uad6d\\uac00 'AI \\ud601\\uc2e0' \\uc704\\ud574...\\uad6c\\uae00\\ud074\\ub77c\\uc6b0\\ub4dc\\uc640 AI \\ubd84\\uc57c \\ucd5c\\ucd08\\uc758 \\ubbfc\\uad00 \\ud30c\\ud2b8\\ub108\\uc2ed\",\"\\uc138\\uc885\\ub300 \\ud56d\\uacf5\\uc6b0\\uc8fc\\uacf5\\ud559\\uacfc \\ubc15\\ubcd1\\uc6b4 \\uad50\\uc218 \\uc5f0\\uad6c\\ud300, \\uad6c\\uae00 \\uc8fc\\uad00 \\ub300\\ud68c\\uc11c \\uae08\\uba54\\ub2ec \\uc218\\uc0c1\",\"\\uc544\\ub4e4 \\uc131\\uae30 \\ubc1c\\uc9c4 \\ub54c\\ubb38\\uc5d0 \\uc758\\uc0ac\\uc5d0\\uac8c \\ucc0d\\uc5b4 \\ubcf4\\ub0b8 \\uc0ac\\uc9c4 \\ud0d0\\uc9c0\\ud574 \\uacbd\\ucc30\\uc5d0 \\uc2e0\\uace0\\ud55c '\\uad6c\\uae00 \\ud074\\ub77c\\uc6b0\\ub4dc' \\uc778\\uacf5\\uc9c0\\ub2a5\",\"\\ubd88\\uacbd\\uae30\\uc5d0\\ub3c4 \\uae30\\ucd08\\ud22c\\uc790 \\uac15\\uc870\\ud55c \\uad6c\\uae00\\u2026\\ub525\\ub7ec\\ub2dd \\ub300\\ubd80\\uac00 \\ub9d0\\ud558\\ub294 '\\uc54c\\ud30c\\uace0'\\uc774\\ud6c4[\\uc815\\ud61c\\uc9c4\\uc758 Whynot \\uc2e4\\ub9ac\\ucf58\\ubc38\\ub9ac]\",\"'\\uad6c\\uae00 \\uc778\\uc571\\uacb0\\uc81c' \\uc74c\\uc6d0 \\uc2a4\\ud2b8\\ub9ac\\ubc0d \\uc778\\uc0c1 \\uc6d0\\uc778\\u2026\\\"\\uc800\\uc791\\uad8c \\uc815\\uc0b0\\ubc29\\uc2dd \\ubcc0\\uacbd\\ud574\\uc57c\\\" [IT\\ub3cb\\ubcf4\\uae30]\",\"\\ub125\\uc2a8 \\uae30\\ub300\\uc791 '\\ud788\\ud2b82' \\uad6c\\uae00 \\ud50c\\ub808\\uc774 \\ub9e4\\ucd9c 3\\uc704 \\ub9e4\\ucd9c TOP3 \\uc9c4\\uc785, '\\ub9ac\\ub2c8\\uc9c0M'\\uacfc '\\uc6d0\\uc2e0'\\ub3c4 \\uc5c5\\ub370\\uc774\\ud2b8\\ub85c \\uc21c\\uc704 \\uc0c1\\uc2b9\",\"\\ubc15\\ubcd1\\uc6b4 \\uc138\\uc885\\ub300 \\uad50\\uc218 \\uc5f0\\uad6c\\ud300, \\uad6c\\uae00 \\uc8fc\\ucd5c 'Google Smartphone Decimeter Challenge 2022'\\uc5d0\\uc11c \\uae08\\uba54\\ub2ec \\uc218\\uc0c1\",\"\\uc2f1\\uac00\\ud3ec\\ub974 \\uc815\\ubd80, \\uc2a4\\ub9c8\\ud2b8 \\uad6d\\uac00 'AI \\ud601\\uc2e0' \\uc704\\ud574...\\uad6c\\uae00\\ud074\\ub77c\\uc6b0\\ub4dc\\uc640 AI \\ubd84\\uc57c \\ucd5c\\ucd08\\uc758 \\ubbfc\\uad00 \\ud30c\\ud2b8\\ub108\\uc2ed\",\"\\uc2f1\\uac00\\ud3ec\\ub974 \\uc815\\ubd80, \\uc2a4\\ub9c8\\ud2b8 \\uad6d\\uac00 'AI \\ud601\\uc2e0' \\uc704\\ud574...\\uad6c\\uae00\\ud074\\ub77c\\uc6b0\\ub4dc\\uc640 AI \\ubd84\\uc57c \\ucd5c\\ucd08\\uc758 \\ubbfc\\uad00 \\ud30c\\ud2b8\\ub108\\uc2ed\",\"\\uc138\\uc885\\ub300 \\ud56d\\uacf5\\uc6b0\\uc8fc\\uacf5\\ud559\\uacfc \\ubc15\\ubcd1\\uc6b4 \\uad50\\uc218 \\uc5f0\\uad6c\\ud300, \\uad6c\\uae00 \\uc8fc\\uad00 \\ub300\\ud68c\\uc11c \\uae08\\uba54\\ub2ec \\uc218\\uc0c1\",\"\\ubc15\\uc724\\uaddc \\uacfc\\uae30 2\\ucc28\\uad00, \\uad6c\\uae00\\uc5d0 \\u2018\\ud2b8\\ub798\\ud53d \\uc720\\ubc1c\\u00b7\\uc778\\uc571\\uacb0\\uc81c\\u2019 \\ubb38\\uc81c \\ud574\\uacb0 \\ub2f9\\ubd80\",\"\\uad6c\\uae00, \\uc9c4\\ub8cc \\uc704\\ud574 \\uc720\\uc544 \\uc544\\ub4e4 \\uc131\\uae30 \\ucd2c\\uc601\\ud55c \\uc544\\ube60 '\\uc131\\ubc94\\uc8c4\\uc790'\\ub85c \\ubab0\\uc544... \\ubb34\\ud610\\uc758\\uc5d0\\ub3c4 \\uacc4\\uc815 \\uc815\\uc9c0 \\uc870\\uce58 \\ucca0\\ud68c \\uac70\\ubd80!\",\"\\\"\\ubaa8\\ubc14\\uc77c \\uac8c\\uc784\\uc744 PC\\uc5d0\\uc11c\\\" \\uad6c\\uae00\\ud50c\\ub808\\uc774 \\uac8c\\uc784\\uc988, \\uc624\\ud508\\ubca0\\ud0c0...\\uc5c5\\uacc4 \\\"\\uad6c\\uae00 PC\\uc2dc\\uc7a5 \\uacf5\\ub7b5 \\ucd9c\\uc0ac\\ud45c\\ub85c \\uc9c0\\uac01\\ubcc0\\ub3d9 \\ubd88\\uac00\\ud53c\\\"\",\"\\uc544\\ub4e4 \\uc131\\uae30 \\ubc1c\\uc9c4 \\ub54c\\ubb38\\uc5d0 \\uc758\\uc0ac\\uc5d0\\uac8c \\ucc0d\\uc5b4 \\ubcf4\\ub0b8 \\uc0ac\\uc9c4 \\ud0d0\\uc9c0\\ud574 \\uacbd\\ucc30\\uc5d0 \\uc2e0\\uace0\\ud55c '\\uad6c\\uae00 \\ud074\\ub77c\\uc6b0\\ub4dc' \\uc778\\uacf5\\uc9c0\\ub2a5\",\"\\uc544\\ub4e4 \\uc131\\uae30 \\ubc1c\\uc9c4 \\ub54c\\ubb38\\uc5d0 \\uc758\\uc0ac\\uc5d0\\uac8c \\ucc0d\\uc5b4 \\ubcf4\\ub0b8 \\uc0ac\\uc9c4 \\ud0d0\\uc9c0\\ud574 \\uacbd\\ucc30\\uc5d0 \\uc2e0\\uace0\\ud55c '\\uad6c\\uae00 \\ud074\\ub77c\\uc6b0\\ub4dc' \\uc778\\uacf5\\uc9c0\\ub2a5\",\"\\uad6c\\uae00\\ucf54\\ub9ac\\uc544 \\\"\\ud55c\\uad6d \\uae30\\uc5c5, \\uad6c\\uae00 \\ud1b5\\ud55c \\uc218\\ucd9c \\uc774\\uc775 8.5\\uc870\\\"\\u2026\\uc81c2\\ud68c \\u2018\\uad6c\\uae00 \\ud3ec \\ucf54\\ub9ac\\uc544\\u2019 \\uac1c\\ucd5c\",\"\\ubd88\\uacbd\\uae30\\uc5d0\\ub3c4 \\uae30\\ucd08\\ud22c\\uc790 \\uac15\\uc870\\ud55c \\uad6c\\uae00\\u2026\\ub525\\ub7ec\\ub2dd \\ub300\\ubd80\\uac00 \\ub9d0\\ud558\\ub294 '\\uc54c\\ud30c\\uace0'\\uc774\\ud6c4[\\uc815\\ud61c\\uc9c4\\uc758 Whynot \\uc2e4\\ub9ac\\ucf58\\ubc38\\ub9ac]\",\"\\ucef4\\ud22c\\uc2a4 \\uc2e0\\uc791 '\\uc11c\\uba38\\ub108\\uc988 \\uc6cc \\ud06c\\ub85c\\ub2c8\\ud074', \\uad6c\\uae00\\ud50c\\ub808\\uc774\\uc2a4\\ud1a0\\uc5b4 \\ub9e4\\ucd9c TOP10 \\ub2ec\\uc131... \\uc6d0\\uc2a4\\ud1a0\\uc5b4 \\ub9e4\\ucd9c\\ub3c4 \\uc0c1\\uc2b9\\uc138\",\"\\ucef4\\ud22c\\uc2a4 \\uc2e0\\uc791 '\\uc11c\\uba38\\ub108\\uc988 \\uc6cc \\ud06c\\ub85c\\ub2c8\\ud074', \\uad6c\\uae00\\ud50c\\ub808\\uc774\\uc2a4\\ud1a0\\uc5b4 \\ub9e4\\ucd9c TOP10 \\ub2ec\\uc131... \\uc6d0\\uc2a4\\ud1a0\\uc5b4 \\ub9e4\\ucd9c\\ub3c4 \\uc0c1\\uc2b9\\uc138\",\"'\\uad6c\\uae00 \\uc778\\uc571\\uacb0\\uc81c' \\uc74c\\uc6d0 \\uc2a4\\ud2b8\\ub9ac\\ubc0d \\uc778\\uc0c1 \\uc6d0\\uc778\\u2026\\\"\\uc800\\uc791\\uad8c \\uc815\\uc0b0\\ubc29\\uc2dd \\ubcc0\\uacbd\\ud574\\uc57c\\\" [IT\\ub3cb\\ubcf4\\uae30]\",\"\\ucef4\\ud22c\\uc2a4 \\uc11c\\uba38\\ub108\\uc988 \\uc6cc:\\ud06c\\ub85c\\ub2c8\\ud074, \\uad6c\\uae00\\ud50c\\ub808\\uc774\\uc2a4\\ud1a0\\uc5b4 \\uac8c\\uc784 \\ub9e4\\ucd9c \\uc21c\\uc704 Top10 \\uc62c\\ub77c\\u2026\\uc720\\uc800 \\ub9cc\\uc871\\ub3c4\\u2191\",\"\\\"\\uc778\\uc571\\uacb0\\uc81c \\uac15\\uc81c\\ub294 \\uc704\\ubc95\\\"\\u2026\\ubc29\\ud1b5\\uc704, \\uad6c\\uae00\\u00b7\\uc560\\ud50c\\u00b7\\uc6d0\\uc2a4\\ud1a0\\uc5b4 \\uc0ac\\uc2e4\\uc870\\uc0ac \\ucc29\\uc218(\\uc885\\ud569)\",\"'\\uad6c\\uae00\\uc758 \\uc778\\uc571\\uacb0\\uc81c \\uc555\\ubc15' \\uc18d \\uac8c\\uc784 \\u00b7 \\ucf58\\ud150\\uce20 \\uc5c5\\uccb4\\ub4e4, \\ud1a0\\uc885 \\uc571 \\uc6d0\\uc2a4\\ud1a0\\uc5b4 \\uc785\\uc810 \\ubd07\\ubb3c\",\"\\ubc29\\ud1b5\\uc704, \\uc778\\uc571\\uacb0\\uc81c \\uac15\\uc81c \\uad6c\\uae00\\u00b7\\uc560\\ud50c '\\uc0ac\\uc2e4 \\uc870\\uc0ac'\\ub85c \\uc804\\ud658...\\uc81c\\uc7ac \\uac00\\ub2a5\\uc131 \\ub192\\uc544\\uc84c\\ub2e4\",\"\\ub85c\\ud0b7\\ud5ec\\uc2a4\\ucf00\\uc5b4, \\uad6c\\uae00 \\ud074\\ub77c\\uc6b0\\ub4dc \\uae30\\ubc18 AI\\u00b73D\\ud504\\ub9b0\\ud305 \\uc735\\ud569 \\uc758\\ub8cc \\ud50c\\ub7ab\\ud3fc \\uc81c\\uacf5\",\"\\ub85c\\ud0b7\\ud5ec\\uc2a4\\ucf00\\uc5b4, \\uad6c\\uae00 \\ud074\\ub77c\\uc6b0\\ub4dc \\uae30\\ubc18 AI\\u00b73D\\ud504\\ub9b0\\ud305 \\uc735\\ud569 \\uc758\\ub8cc \\ud50c\\ub7ab\\ud3fc \\uc81c\\uacf5\",\"\\ub85c\\ud0b7\\ud5ec\\uc2a4\\ucf00\\uc5b4, \\uad6c\\uae00 AI\\ud074\\ub77c\\uc6b0\\ub4dc \\uae30\\ubc18 3D \\ubc14\\uc774\\uc624\\ud504\\ub9c1\\ud305 \\uc758\\ub8cc \\ud50c\\ub7ab\\ud3fc \\uc81c\\uacf5\",\"[\\ud2b9\\uc9d5\\uc8fc]\\uc2e0\\ud654\\uc778\\ud130\\ud14d, \\u7f8e\\uc815\\ubd80 200\\uc870 \\uad6d\\ubc29\\ube44 \\uad6c\\uae00\\u00b7MS \\ubc29\\uc0b0 \\ub9e1\\uae34\\ub2e4..\\uad6c\\uae00 AR\\uae00\\ub77c\\uc2a4 \\uac1c\\ubc1c\\u2191\",\"\\ub525\\ub9c8\\uc778\\ub4dc-\\uad6c\\uae00 AI \\uacf5\\ub3d9\\uc5f0\\uad6c\\ud300, \\ud2b8\\ub79c\\uc2a4\\ud3ec\\uba38 \\uc0ac\\uc6a9\\ud55c \\ubc94\\uc6a9 \\ud558\\uc774\\ud37c\\ud30c\\ub77c\\ubbf8\\ud130 \\ucd5c\\uc801\\ud654 \\ud504\\ub808\\uc784\\uc6cc\\ud06c\\u00a0'\\uc635\\ud2b8\\ud3ec\\uba38(OptFormer)' \\uacf5\\uac1c\",\"\\ub525\\ub9c8\\uc778\\ub4dc-\\uad6c\\uae00 AI \\uacf5\\ub3d9\\uc5f0\\uad6c\\ud300, \\ud2b8\\ub79c\\uc2a4\\ud3ec\\uba38 \\uc0ac\\uc6a9\\ud55c \\ubc94\\uc6a9 \\ud558\\uc774\\ud37c\\ud30c\\ub77c\\ubbf8\\ud130 \\ucd5c\\uc801\\ud654 \\ud504\\ub808\\uc784\\uc6cc\\ud06c\\u00a0'\\uc635\\ud2b8\\ud3ec\\uba38(OptFormer)' \\uacf5\\uac1c\",\"\\uc77c\\ubd80 \\ud53d\\uc140 \\uc0ac\\uc6a9\\uc790, \\uc548\\ub4dc\\ub85c\\uc774\\ub4dc 13 \\uc124\\uce58 \\ud6c4 RCS \\uba54\\uc2dc\\uc9d5 \\ubc84\\uadf8.. \\uad6c\\uae00 \\uc870\\uc0ac \\ucc29\\uc218\",\"\\uc74c\\ucf58\\ud611, \\uc778\\uc571\\uacb0\\uc81c \\uc218\\uc218\\ub8cc \\uc815\\uc0b0 \\uc774\\uc288 \\ud574\\uacb0 \\uc704\\ud55c \\ud1a0\\ub860\\ud68c \\uac1c\\ucd5c \\\"\\uad6c\\uae00 \\uc815\\ucc45 \\uacf5\\uc815\\uc2dc\\uc7a5 \\ud574\\uccd0\\\"\",\"\\uc74c\\uc545\\uc5c5\\uacc4, \\u201c\\uad6c\\uae00 \\uc778\\uc571\\uacb0\\uc81c \\uc218\\uc218\\ub8cc \\uc815\\ucc45 \\uc2dc\\uc7a5 \\ubb34\\ub108\\ub728\\ub9b4 \\uc218 \\uc788\\ub2e4\\u201d\\u2026\\ubb38\\uccb4\\ubd80 \\u201c\\ud569\\uc758 \\uc548\\ub418\\uba74 \\uc801\\uadf9\\uc801 \\uc218\\ub2e8\\ub3c4 \\uac80\\ud1a0\\u201d\",\"Sh\\uc218\\ud611\\uc740\\ud589 \\ubcf8\\uc810\\uc11c \\uad6c\\uae00\\ucf54\\ub9ac\\uc544 \\uae40\\ud0dc\\uc6d0 \\uc804\\ubb34 '\\uc81c4\\ud68c \\ub0b4\\uc77c\\uc744 \\ubc14\\uafb8\\ub294 \\uac15\\uc5f0' \\uc9c4\\ud589\",\"\\ub300\\ubc95 \\u201c\\uc555\\uc218\\ubb3c\\uacfc \\uc5f0\\ub3d9\\ub41c \\uad6c\\uae00 \\uacc4\\uc815\\uc5d0\\uc11c \\ucc3e\\uc740 \\ubd88\\ubc95 \\ucd2c\\uc601\\ubb3c\\u2026\\uc704\\ubc95\\uc218\\uc9d1\\uc99d\\uac70 \\ubc30\\uc81c\\u201d\",\"\\ucef4\\ud22c\\uc2a4 \\u2018\\uc11c\\uba38\\ub108\\uc988 \\uc6cc: \\ud06c\\ub85c\\ub2c8\\ud074\\u2019, 16\\uc77c \\uad6c\\uae00\\ud50c\\ub808\\uc774\\u2219\\uc560\\ud50c\\uc571\\uc2a4\\ud1a0\\uc5b4\\u2219\\uc6d0\\uc2a4\\ud1a0\\uc5b4 \\ubc0f PC\\ubc84\\uc804 \\ub3d9\\uc2dc \\ucd9c\\uc2dc\",\"Sh\\uc218\\ud611\\uc740\\ud589, \\uae40\\ud0dc\\uc6d0 \\uad6c\\uae00\\ucf54\\ub9ac\\uc544 \\uc804\\ubb34 \\ucd08\\uccad '\\ucc3d\\uc758\\uc801 \\uc778\\uc7ac \\uc870\\uac74 \\uc18c\\uac1c' \\ud2b9\\uac15 \\uac1c\\ucd5c\",\"\\uc138\\uacc4 \\ucd5c\\ucd08 \\uac1c\\uc778\\uc815\\ubcf4 \\ubcf4\\ud638 \\uc801\\uc6a9\\ub41c \\uc778\\uacf5\\uc9c0\\ub2a5 \\ubc18\\ub3c4\\uccb4 \\uac1c\\ubc1c...KAIST \\uc720\\ubbfc\\uc218 \\uad50\\uc218\\ud300, \\uad6c\\uae00 TPUv3 \\ub300\\ube44 \\ucc28\\ub4f1 \\ud504\\ub77c\\uc774\\ubc84\\uc2dc \\ud559\\uc2b5 \\uacfc\\uc815\\uc744 3.6 \\ubc30 \\ube60\\ub974\\uac8c\",\"\\uc138\\uacc4 \\ucd5c\\ucd08 \\uac1c\\uc778\\uc815\\ubcf4 \\ubcf4\\ud638 \\uc801\\uc6a9\\ub41c \\uc778\\uacf5\\uc9c0\\ub2a5 \\ubc18\\ub3c4\\uccb4 \\uac1c\\ubc1c...KAIST \\uc720\\ubbfc\\uc218 \\uad50\\uc218\\ud300, \\uad6c\\uae00 TPUv3 \\ub300\\ube44 \\ucc28\\ub4f1 \\ud504\\ub77c\\uc774\\ubc84\\uc2dc \\ud559\\uc2b5 \\uacfc\\uc815\\uc744 3.6 \\ubc30 \\ube60\\ub974\\uac8c\",\"\\ub85c\\ud0b7\\ud5ec\\uc2a4\\ucf00\\uc5b4, \\uc138\\uacc4 \\ucd5c\\ub300 AI\\uae30\\uc5c5 '\\uad6c\\uae00'\\uacfc \\uc758\\ub8cc \\ud50c\\ub7ab\\ud3fc \\ud611\\ub825...\\\"\\uad6c\\uae00 \\ud074\\ub77c\\uc6b0\\ub4dc \\uae30\\ubc18 \\uc548\\uc804\\ud55c 3D\\ubc14\\uc774\\uc624\\ud504\\ub9b0\\ud305 \\uc81c\\uacf5\\\"\",\"\\uc74c\\uc545\\uc5c5\\uacc4, \\uad6c\\uae00 \\uc778\\uc571\\uacb0\\uc81c \\uc218\\uc218\\ub8cc\\uc815\\ucc45...\\\"\\uad8c\\ub825\\uc774\\uc6a9 \\uc5c5\\uacc4\\uac08\\ub4f1 \\uc720\\ubc1c\\\" \\ube44\\ud310\",\"[\\uc0bc\\uc131 \\uac24\\ub7ed\\uc2dc \\uc5b8\\ud329]\\uc591\\ud0dc\\uc885 \\ubd80\\uc0ac\\uc7a5 \\\"\\uad6c\\uae00 \\ud611\\uc5c5 '\\ud5ec\\uc2a4\\ucee4\\ub125\\ud2b8' SDC\\uc11c \\uc0dd\\ud0dc\\uacc4 \\ud655\\uc7a5\\\"\",\"\\ub85c\\ud0b7\\ud5ec\\uc2a4\\ucf00\\uc5b4, \\uad6c\\uae00 \\ud074\\ub77c\\uc6b0\\ub4dc \\uae30\\ubc18 AI\\u20273D \\ubc14\\uc774\\uc624\\ud504\\ub9b0\\ud305 \\uc735\\ud569 \\uc758\\ub8cc \\ud50c\\ub7ab\\ud3fc \\uc81c\\uacf5\",\"\\uc62c\\ud574\\ub3c4 '\\ud50c\\ub7ab\\ud3fc' \\uad6d\\uac10 \\uc608\\uace0\\u2026\\uc790\\uc728\\uaddc\\uc81c\\u00b7\\uad6c\\uae00 \\uc778\\uc571\\uacb0\\uc81c \\ud654\\ub450 [IT\\ub3cb\\ubcf4\\uae30]\",\"\\uad6c\\uae00, '\\uc778\\uc564\\uacb0\\uc81c' \\uac15\\uc81c\\ub85c \\ucf58\\ud150\\uce20 \\uac00\\uaca9 17% \\uc62c\\ub790\\ub2e4!... \\\"\\ub3c5\\uc810\\uc801 \\uc9c0\\uc704 \\uc545\\uc6a9, \\ubd88\\ub9cc \\ud3ed\\uc99d\\\"\",\"\\uad6c\\uae00, '\\uc778\\uc564\\uacb0\\uc81c' \\uac15\\uc81c\\ub85c \\ucf58\\ud150\\uce20 \\uac00\\uaca9 17% \\uc62c\\ub790\\ub2e4!... \\\"\\ub3c5\\uc810\\uc801 \\uc9c0\\uc704 \\uc545\\uc6a9, \\ubd88\\ub9cc \\ud3ed\\uc99d\\\"\",\"\\uad6c\\uae00, \\ub85c\\ubd07\\uc758 \\uc5b8\\uc5b4 \\uc774\\ud574 \\ub2a5\\ub825 \\ub354\\ud560 \\ub300\\uaddc\\ubaa8 \\uc5b8\\uc5b4 \\ubaa8\\ub378 'PaLM-SayCan' \\uacf5\\uac1c\",\"[\\ud2b9\\uc9d5\\uc8fc]DSC\\uc778\\ubca0\\uc2a4\\ud2b8 \\ud22c\\uc790\\uc0ac, \\uc138\\uacc4\\ucd5c\\ub300 AI\\uae30\\uc5c5 \\uad6c\\uae00\\uacfc \\uc758\\ub8cc \\ud50c\\ub7ab\\ud3fc \\ud611\\ub825..\\ub9cc\\uc131\\uc9c8\\ud658 \\uce58\\ub8cc \\uc194\\ub8e8\\uc158 \\uc81c\\uacf5\\u2191\",\"KT, \\uc2f1\\uac00\\ud3ec\\ub974\\uc11c '\\ubbf8\\ub798 \\ub124\\ud2b8\\uc6cc\\ud06c \\uc9c0\\uc18d \\uc131\\uc7a5' \\ub17c\\uc758\\u2026KT\\u00b7\\uba54\\ud0c0\\u00b7\\uad6c\\uae00 \\ucc38\\uc11d\",\"KT, \\uc2f1\\uac00\\ud3ec\\ub974\\uc11c '\\ubbf8\\ub798 \\ub124\\ud2b8\\uc6cc\\ud06c \\uc9c0\\uc18d \\uc131\\uc7a5' \\ub17c\\uc758\\u2026KT\\u00b7\\uba54\\ud0c0\\u00b7\\uad6c\\uae00 \\ucc38\\uc11d\",\"\\ud1b5\\uc2e04\\uc0ac, \\uc7ac\\ud574 \\uacf5\\ub3d9 \\ub300\\uc751 \\uc2dc\\uc124 \\uad6c\\ucd95\\u2026KT, \\uad6c\\uae00\\u00b7\\uba54\\ud0c0\\uc5d0 '\\ub9dd \\ud22c\\uc790 \\ubd84\\ub2f4' \\uc694\\uad6c [IT\\uc624\\ub298]\",\"[K\\ubc14\\uc774\\uc624\\ub9ac\\ub354] \\uae38\\uc601\\uc900 \\ud734\\uc774\\ub178 \\ub300\\ud45c \\u201c\\uc6e8\\uc5b4\\ub7ec\\ube14 AI \\uc2ec\\uc804\\ub3c4 \\uce21\\uc815\\uae30 \\u2018\\uba54\\ubaa8\\ud328\\uce58\\u2019 \\uc0bc\\uc131\\u22c5\\uad6c\\uae00\\u22c5\\uc560\\ud50c\\ub3c4 \\uad00\\uc2ec\\u201d\",\"\\ud55c\\uad6d\\ucd95\\uc0b0\\ub370\\uc774\\ud130, \\uad6c\\uae00 \\ucd9c\\uc2e0 \\uc774\\uc7ac\\ucca0 CTO \\uc601\\uc785...\\ud31c\\uc2a4\\ud50c\\ub79c \\uace0\\ub3c4\\ud654 \\ucd94\\uc9c4\",\"\\uc74c\\uc545\\uc5c5\\uacc4, \\uad6c\\uae00\\uc758 \\uc778\\uc571\\uacb0\\uc81c \\uc218\\uc218\\ub8cc \\uc815\\ucc45\\uc5d0 \\ub300\\ud574 \\\"\\uacf5\\uc815\\uc2dc\\uc7a5\\uc744 \\ud574\\uce58\\ub294 \\ud589\\uc704\\\" \\ube44\\ud310\",\"\\uad6c\\uae00 \\uc2e0\\ud615 \\uc640\\uc774\\ud30c\\uc774 \\ub77c\\uc6b0\\ud130 '\\ub124\\uc2a4\\ud2b8 \\uc640\\uc774\\ud30c\\uc774' \\ucd9c\\uc2dc \\uc804\\ub9dd.. \\u7f8e FCC \\uc778\\uc99d \\ud1b5\\uacfc\",\"\\ud55c\\uad6d\\ucd95\\uc0b0\\ub370\\uc774\\ud130, \\uad6c\\uae00\\u2219\\uc6e8\\uc774\\ube0c \\ucd9c\\uc2e0 \\uc774\\uc7ac\\ucca0 CTO \\uc601\\uc785...\\ud31c\\uc2a4\\ud50c\\ub79c \\uae30\\uc220\\ub825 \\uac15\\ud654 '\\ubc15\\ucc28'\",\"\\uad6d\\ub0b4 \\uccab \\ubb34\\uacfc\\uae08 \\ubaa8\\ubc14\\uc77c MMORPG, \\uc5d4\\ud2b8\\ub7f0\\uc2a4 'DK\\ubaa8\\ubc14\\uc77c: \\ub514 \\uc624\\ub9ac\\uc9c4' \\uad6c\\uae00 \\ud50c\\ub808\\uc778 \\uc778\\uae30 \\uc21c\\uc704 1\\uc704 \\ub4f1\\uadf9\",\"[\\uc774\\uc288] \\uacc4\\uc18d\\ub418\\ub294 \\ud64d\\uc218\\uc640 \\ud3ed\\uc5fc\\u2026'\\uae30\\ud6c4 \\ubcc0\\ud654' \\uad00\\ub828 \\uad6c\\uae00 \\uac80\\uc0c9, \\ubbf8\\uad6d \\uc5ed\\ub300 \\ucd5c\\ub2e4 \\uae30\\ub85d\",\"\\uc804\\ud22c\\uc5d0\\uc120 \\uc84c\\uc9c0\\ub9cc \\uc804\\uc7c1\\uc5d0\\uc11c \\uc774\\uae34 \\uce74\\uce74\\uc624... \\ubc29\\ud1b5\\uc704, \\uc778\\uc571\\uacb0\\uc81c \\uac15\\uc81c\\ud55c \\uad6c\\uae00\\u00b7\\uc560\\ud50c \\ub4f1 \\uc0ac\\uc2e4\\uc870\\uc0ac \\ucc29\\uc218\",\"\\uad6c\\uae00, \\uad6d\\uc601 \\ub7ec\\uc2dc\\uc544 \\ubc29\\uc0b0\\uc5c5\\uccb4 '\\ub85c\\uc2a4\\ud14d' \\uc720\\ud29c\\ube0c \\ucc44\\ub110 \\ucc28\\ub2e8... \\uad6c\\uae00 VS \\ub7ec\\uc2dc\\uc544 \\ub300\\ub9bd\\uc740 \\ud604\\uc7ac \\uc9c4\\ud589\\ud615!\",\"\\uad6c\\uae00 AI, '\\uc720\\ub2c8\\ubc84\\uc124 \\uc774\\ubbf8\\uc9c0 \\uc784\\ubca0\\ub529 \\ucc4c\\ub9b0\\uc9c0' \\uac1c\\ucd5c...\\ucd1d \\uc0c1\\uae08 5\\ub9cc\\ub2ec\\ub7ec, \\uc6b0\\uc2b9\\ud300 'ECCV 2022 \\uc6cc\\ud06c\\uc20d' \\ucd08\\uccad \\ubc1c\\ud45c\",\"\\ub137\\ub9c8\\ube14 '\\uc138\\ube10\\ub098\\uc774\\uce20 \\ub808\\ubcfc\\ub8e8\\uc158' \\uad6c\\uae00 \\ud50c\\ub808\\uc774 TOP 5 \\uc9c4\\uc785, \\uc5d4\\uc528\\uc18c\\ud504\\ud2b8 '\\ub9ac\\ub2c8\\uc9c0M' \\ub9e4\\ucd9c 1\\uc704 \\ud0c8\\ud658\",\"\\uc544\\uc774\\ub514\\uc544\\uc774\\ub514, \\uc18c\\uc15c \\uc5d4\\ud130\\ud14c\\uc778\\uba3c\\ud2b8 \\ud50c\\ub7ab\\ud3fc \\ubc14\\uc6b4\\ub4dc(Baund) \\uad6c\\uae00 \\ud50c\\ub808\\uc774 \\ubca0\\ud0c0 \\ubc84\\uc804 \\ucd9c\\uc2dc\",\"\\ub137\\ub9c8\\ube14 '\\uc138\\ube10\\ub098\\uc774\\uce20 \\ub808\\ubcfc\\ub8e8\\uc158' \\uad6c\\uae00 \\ub9e4\\ucd9c 7\\uc704, 10\\uc704\\uad8c \\uc9c4\\uc785\\uc73c\\ub85c \\ubcf8\\uaca9\\uc801\\uc778 \\ud765\\ud589 \\uc870\\uc9d0 \\ub208\\uae38\",\"\\ub137\\ub9c8\\ube14 '\\uc138\\ube10\\ub098\\uc774\\uce20 \\ub808\\ubcfc\\ub8e8\\uc158' \\uad6c\\uae00 \\ub9e4\\ucd9c 7\\uc704, 10\\uc704\\uad8c \\uc9c4\\uc785\\uc73c\\ub85c \\ubcf8\\uaca9\\uc801\\uc778 \\ud765\\ud589 \\uc870\\uc9d0 \\ub208\\uae38\",\"[\\uac15\\uc0ac\\uc758 \\uc11c\\uc7ac] \\\"\\uad6c\\uae00\\u00b7\\uc0bc\\uc131\\uc804\\uc790\\u00b7LG\\uc804\\uc790\\u00b7\\ud604\\ub300\\uc790\\ub3d9\\ucc28\\u00b7\\uc81c\\uc77c\\uae30\\ud68d \\ud654\\uc81c\\uc758 \\uba85\\uac15\\uc758\\\" \\ubc15\\uc131\\uc5f0\\uc758 \\u300e\\ud0ac\\ub7ec \\uc53d\\ud0b9\\u300f\",\"\\uc131\\ub3d9\\uad6c, '\\uad6c\\uae00 \\uacf5\\uc778 \\uad50\\uc721\\uc804\\ubb38\\uac00 \\uc790\\uaca9 \\ucde8\\ub4dd \\uacfc\\uc815' \\ub4f1 \\ub9de\\ucda4\\ud615 \\ud3c9\\uc0dd\\ud559\\uc2b5 \\uac15\\uc88c \\uc6b4\\uc601\",\"\\ubc29\\ud1b5\\uc704 '\\uad6c\\uae00 \\uc778\\uc571\\uacb0\\uc81c' \\ub300\\ucc98 \\uc5c5\\uacc4 \\ubd88\\ub9cc \\u2191\\u2026\\uc704\\uc6d0\\uc7a5 \\uace0\\ubc1c \\uc6c0\\uc9c1\\uc784\\ub3c4 [IT\\ub3cb\\ubcf4\\uae30]\",\"\\uc2a4\\ud3ec\\uce20 \\uc2a4\\ud0c0 NFT \\ud50c\\ub7ab\\ud3fc \\ud32c\\ud22c\\uace0, \\uad6c\\uae00\\ud50c\\ub808\\uc774\\uc2a4\\ud1a0\\uc5b4\\uc5d0 \\uc6f93.0\\uae30\\ubc18 \\ube14\\ub85d\\uccb4\\uc778 \\uc9c0\\uac11 \\uc571 \\ub4f1\\uc7ac\",\"2\\ubd84\\uae30 \\uad11\\uace0 \\ub9e4\\ucd9c \\uc804\\ub9dd\\uce58 \\uc6c3\\ub3c8 \\uad6c\\uae00 \\\"\\uc778\\ud50c\\ub808 \\ud68c\\ubcf5\\ub825 \\ubcf4\\uc5ec\\uc92c\\ub2e4\\\"\\ud3c9\\uac00 [\\uc11c\\ud559\\uac1c\\ubbf8 \\ub9ac\\ud3ec\\ud2b8]\",\"\\uc6f9\\ud230\\uc5c5\\uacc4 \\\"\\uc288\\ud37c\\uac11 \\uad6c\\uae00, \\ucf58\\ud150\\uce20 \\uc0dd\\ud0dc\\uacc4 \\uc800\\ud574\\\"\\u2026\\uc815\\ubd80 \\ub2a6\\uc7a5\\ub300\\uc751 \\ud1a0\\ub85c [IT\\ub3cb\\ubcf4\\uae30]\",\"\\uad6c\\uae00, \\uc790\\uccb4 \\uac1c\\ubc1c AI\\uc5d0 \\\"\\uc778\\uac04 \\uc218\\uc900 \\uc9c0\\uac01 \\ub2a5\\ub825 \\uc788\\ub2e4\\\" \\uc8fc\\uc7a5\\ud55c \\uc5d4\\uc9c0\\ub2c8\\uc5b4 \\ud574\\uace0... \\\"\\ubcf4\\uc548 \\uc720\\uc9c0 \\ucc45\\uc784 \\ub2e4 \\ud558\\uc9c0 \\uc54a\\uc544 \\uc720\\uac10\\\"\",\"\\uad6c\\uae00 \\ud3f4\\ub354\\ube14 \\uc2a4\\ub9c8\\ud2b8\\ud3f0 \\uce74\\uba54\\ub77c \\uc0ac\\uc591 \\uc720\\ucd9c.. \\uad6c\\ud615 '\\uc544\\uc774\\uc18c\\uc140 GN1' \\uba54\\uc778 \\uc13c\\uc11c \\ud0d1\\uc7ac?\",\"\\ud558\\ub098\\uc99d\\uad8c \\\"8\\uc6d4 \\uad6c\\uae00 AR\\uae00\\ub798\\uc2a4 \\ud14c\\uc2a4\\ud2b8\\uc640 \\uc0bc\\uc131\\uc804\\uc790 \\uac24\\ub7ed\\uc2dc \\uacf5\\uac1c\\ud589\\uc0ac \\uc8fc\\ubaa9\\\"\",\"\\ud558\\ub098\\uc99d\\uad8c \\\"8\\uc6d4 \\uad6c\\uae00 AR\\uae00\\ub798\\uc2a4 \\ud14c\\uc2a4\\ud2b8\\uc640 \\uc0bc\\uc131\\uc804\\uc790 \\uac24\\ub7ed\\uc2dc \\uacf5\\uac1c\\ud589\\uc0ac \\uc8fc\\ubaa9\\\"\",\"\\ud558\\ub098\\uc99d\\uad8c \\\"8\\uc6d4 \\uad6c\\uae00 AR\\uae00\\ub798\\uc2a4 \\ud14c\\uc2a4\\ud2b8\\uc640 \\uc0bc\\uc131\\uc804\\uc790 \\uac24\\ub7ed\\uc2dc \\uacf5\\uac1c\\ud589\\uc0ac \\uc8fc\\ubaa9\\\"\",\"\\ucd9c\\ubc94 10\\uc8fc\\ub144 \\uad6c\\uae00 '\\uc544\\ud2b8\\uc564\\uceec\\ucc98'\\u2026AR\\u00b7VR \\ud65c\\uc6a9\\ud55c 'BTS \\ub514\\uc9c0\\ud138 \\uac24\\ub7ec\\ub9ac' \\ub4f1 \\uc120\\ubd2c\",\"\\uc0ac\\uac00 \\uc0ac\\ube14\\ub77c \\uad6c\\uae00 \\ub9e4\\ub2c8\\uc800 \\\"\\uc2e4\\uc2dc\\uac04 \\ub300\\ud654\\ub3c4 \\ubc1b\\uc544\\uc4f0\\uae30 \\ucc99\\ucc99\\u2026\\uc5f0\\ub9d0\\uc5d4 \\uc778\\ud130\\ub137 \\uc5c6\\uc774 \\uc0ac\\uc6a9\\uac00\\ub2a5\\\"\",\"[\\uc778\\uc571\\uacb0\\uc81c A-Z] \\u2463 \\uad6c\\uae00 \\uc2e0\\uace0 \\uc787\\ub530\\ub77c \\uc811\\uc218\\u2026\\uacf5\\uc815\\uc704, '\\uc778\\uc571\\uacb0\\uc81c' \\uc7ac\\uac80 [IT\\ub3cb\\ubcf4\\uae30]\"],\"id\":[0,1,2,3,4,5,6,7,8,9,10,11,12,13,14,15,16,17,18,19,20,21,22,23,24,25,26,27,28,29,30,31,32,33,34,35,36,37,38,39,40,41,42,43,44,45,46,47,48,49,50,51,52,53,54,55,56,57,58,59,60,61,62,63,64,65,66,67,68,69,70,71,72,73,74,75,76,77,78,79,80,81,82,83],\"topic\":[\"2\",\"3\",\"1\",\"2\",\"1\",\"0\",\"4\",\"4\",\"2\",\"2\",\"1\",\"4\",\"0\",\"0\",\"4\",\"2\",\"4\",\"1\",\"4\",\"4\",\"2\",\"2\",\"1\",\"1\",\"2\",\"1\",\"2\",\"2\",\"2\",\"0\",\"0\",\"0\",\"3\",\"3\",\"3\",\"2\",\"2\",\"2\",\"2\",\"2\",\"1\",\"2\",\"4\",\"4\",\"0\",\"2\",\"3\",\"0\",\"2\",\"2\",\"2\",\"3\",\"0\",\"0\",\"0\",\"2\",\"0\",\"2\",\"2\",\"1\",\"2\",\"1\",\"2\",\"2\",\"2\",\"0\",\"1\",\"1\",\"1\",\"1\",\"3\",\"4\",\"2\",\"0\",\"1\",\"2\",\"0\",\"2\",\"3\",\"3\",\"3\",\"3\",\"3\",\"2\"],\"x\":{\"__ndarray__\":\"rYtAQytdVsMIfB7DjiUUwmCvg8PaeKVDntkoQ+qUvUOHllJBNgutwmCvg8PQEihD2nilQ9p4pUOe2ShDzBYgw3AMRUNJiMTC6pS9Q+qUvUMnkK3Bh5ZSQRgcR8MYHEfDNgutwh/NZMNANSPD1oXGwt/W4MH0D5pD9A+aQxgRkUMUwg/DJgs/wyYLP8NK441C1Hf9QZw+D0El8qpC13wDQ30f+sKaapBCzNuEQ8zbhEN41a5DfPK8QRDOdcMQknpDOwdMwvXAs8L1wLPCqGbQwrh6iUMMQg9CDEIPQn4HkkCov6hC6t7JQpku08LQpULCloI9Qn0mmMK5psBCNDcRwsp5ykEtyhNDWH2Hw1cS78ApGUXDKRlFwxcgicOCrxXC2HZjwazAVUBn4pbCMJv8wVrPOkLeijfBCIqrwwiKq8MIiqvDD/AYw5k51ELlFhnD\",\"dtype\":\"float32\",\"order\":\"little\",\"shape\":[84]},\"y\":{\"__ndarray__\":\"sHZfQg0LNkJ5NI9DZbZ5wlgbx0Mg2qjC3Qb7QpsiG0N5hllC2o7kw1gbx0NiA9w+INqowiDaqMLdBvtC2F2vwzMwU0O66DZDmyIbQ5siG0NjfxxDeYZZQukl1EPpJdRD2o7kwyjWkkOP1I7DXCd0w7iKr8OVoWDDlaFgw1WBGsPh+gZC65n5weuZ+cEP98rCp5+vwy5llMPCGiXCFmhjQsTkpEMkbU5Cg55TQ4OeU0PmqzDDCsXNw8KHu0Jlk0nDeoiVw93iuMPd4rjDqNGgQs8UWsIfeexCH3nsQhnh6MIPvXJDaa4aQ+nbm8MamShCekkuQN5XK8ELSsRCt7PLw0l6QsIAO4jCrQWnQ7UDYENUA69DVAOvQ6JL9kHqV8hCfUrqw3qhkUOm3ndDlcprw5ctOUNPbYjAxR2bwsUdm8LFHZvCkBTQQioP9UCnUdfD\",\"dtype\":\"float32\",\"order\":\"little\",\"shape\":[84]}},\"selected\":{\"id\":\"1047\"},\"selection_policy\":{\"id\":\"1048\"}},\"id\":\"1033\",\"type\":\"ColumnDataSource\"},{\"attributes\":{},\"id\":\"1005\",\"type\":\"DataRange1d\"}],\"root_ids\":[\"1002\"]},\"title\":\"Bokeh Application\",\"version\":\"2.3.3\"}};\n",
              "  var render_items = [{\"docid\":\"ec15ab43-d7e7-4416-995c-402cc91d1185\",\"root_ids\":[\"1002\"],\"roots\":{\"1002\":\"d00ecc25-b28d-4b55-94d5-c22a6606e567\"}}];\n",
              "  root.Bokeh.embed.embed_items_notebook(docs_json, render_items);\n",
              "\n",
              "  }\n",
              "  if (root.Bokeh !== undefined) {\n",
              "    embed_document(root);\n",
              "  } else {\n",
              "    var attempts = 0;\n",
              "    var timer = setInterval(function(root) {\n",
              "      if (root.Bokeh !== undefined) {\n",
              "        clearInterval(timer);\n",
              "        embed_document(root);\n",
              "      } else {\n",
              "        attempts++;\n",
              "        if (attempts > 100) {\n",
              "          clearInterval(timer);\n",
              "          console.log(\"Bokeh: ERROR: Unable to run BokehJS code because BokehJS library is missing\");\n",
              "        }\n",
              "      }\n",
              "    }, 10, root)\n",
              "  }\n",
              "})(window);"
            ],
            "application/vnd.bokehjs_exec.v0+json": ""
          },
          "metadata": {
            "application/vnd.bokehjs_exec.v0+json": {
              "id": "1002"
            }
          }
        }
      ]
    }
  ]
}