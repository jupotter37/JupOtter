{
 "cells": [
  {
   "cell_type": "markdown",
   "metadata": {},
   "source": [
    "# Intro Python"
   ]
  },
  {
   "cell_type": "markdown",
   "metadata": {},
   "source": [
    "![elgif](https://media.giphy.com/media/coxQHKASG60HrHtvkt/giphy.gif)"
   ]
  },
  {
   "cell_type": "markdown",
   "metadata": {},
   "source": [
    "En este curso utilizaremos cuadernos Jupyter para escribir y ejecutar código Python, por lo que el primer paso será aprender a utilizarlos.\n",
    "Los documentos de cuaderno (o \"notebooks\", todo en minúsculas) son documentos creados por la aplicación Jupyter Notebook, que contienen tanto código informático (por ejemplo, python) como elementos de texto enriquecido (párrafos, ecuaciones, figuras, enlaces, etc...).\n",
    "Los cuadernos están formados por celdas, que son bloques de código o texto enriquecido. Cada una de estas es editable, aunque principalmente estarás modificando las celdas de código para responder a las preguntas.\n",
    "\n",
    "### Descripción técnica de un cuaderno Jupyter\n",
    "\n",
    "La aplicación Jupyter Notebook es una aplicación servidor-cliente que permite editar y ejecutar documentos de cuaderno a través de un navegador web. La versión de IBM de la aplicación Jupyter Notebook está instalada en un servidor remoto y se accede a ella a través de internet.\n",
    "\n",
    "Un kernel de cuaderno es un \"motor computacional\" que ejecuta el código contenido en un documento de cuaderno. El kernel de ipython, mencionado en esta guía, ejecuta código Python. Existen kernels para muchos otros lenguajes (consulta el menú Kernels más arriba).\n",
    "\n",
    "Cuando abres un documento de cuaderno, el kernel asociado se inicia automáticamente. Al ejecutar el cuaderno (ya sea celda por celda o mediante el menú Celda -> Ejecutar todo), el kernel realiza los cálculos y produce los resultados. Dependiendo del tipo de cálculos, el kernel puede consumir una cantidad significativa de CPU y RAM. Ten en cuenta que la RAM no se libera hasta que el kernel se cierra."
   ]
  },
  {
   "cell_type": "markdown",
   "metadata": {},
   "source": [
    "### Introducción a PEP-8 y `import this`\n",
    "\n",
    "#### PEP-8\n",
    "\n",
    "[PEP-8](https://peps.python.org/pep-0008/), también conocido como \"Python Enhancement Proposal 8\", es la guía de estilo para escribir código en Python. Fue concebido para facilitar la lectura y comprensión del código, promoviendo la consistencia en la forma en que los programadores de Python escriben su código. Algunos de los principios clave de PEP-8 incluyen la utilización de sangrías con cuatro espacios, líneas que no excedan los 79 caracteres y la definición de funciones y variables en nombres en minúsculas separados por guiones bajos. Es altamente recomendable adherirse a PEP-8 para mantener un código Python limpio y legible.\n",
    "\n",
    "#### `import this`\n",
    "\n",
    "El comando `import this` o [PEP-20](https://peps.python.org/pep-0020/) en Python es una pequeña \"huevito de pascua\" (easter egg) incluido en el lenguaje, que cuando se ejecuta, muestra el **\"Zen de Python\"**. El \"Zen de Python\" es una colección de 19 aforismos que expresan la filosofía de diseño del lenguaje Python. Algunos de estos aforismos hacen hincapié en la importancia de la legibilidad del código y la simplicidad sobre la complejidad. Puedes ver estos aforismos en cualquier momento mientras programas en Python ejecutando el comando `import this` en tu consola o script de Python.\n",
    "\n",
    "Para utilizarlo, simplemente escribe el siguiente comando en tu intérprete de Python:"
   ]
  },
  {
   "cell_type": "code",
   "execution_count": 2,
   "metadata": {},
   "outputs": [],
   "source": [
    "import this"
   ]
  },
  {
   "cell_type": "markdown",
   "metadata": {},
   "source": [
    "![otrogif](https://media.giphy.com/media/MT5UUV1d4CXE2A37Dg/giphy.gif)"
   ]
  },
  {
   "cell_type": "markdown",
   "metadata": {
    "toc": true
   },
   "source": [
    "<h1>Table of Contents<span class=\"tocSkip\"></span></h1>\n",
    "<div class=\"toc\"><ul class=\"toc-item\"><li><span><a href=\"#Cell-types-in-Jupyter-Notebook\" data-toc-modified-id=\"Cell-types-in-Jupyter-Notebook-1\"><span class=\"toc-item-num\">1&nbsp;&nbsp;</span>Cell types in Jupyter Notebook</a></span></li><li><span><a href=\"#Sub-título\" data-toc-modified-id=\"Sub-título-2\"><span class=\"toc-item-num\">2&nbsp;&nbsp;</span>Sub-título</a></span><ul class=\"toc-item\"><li><span><a href=\"#Sub-título\" data-toc-modified-id=\"Sub-título-2.1\"><span class=\"toc-item-num\">2.1&nbsp;&nbsp;</span>Sub título</a></span></li><li><span><a href=\"#Code\" data-toc-modified-id=\"Code-2.2\"><span class=\"toc-item-num\">2.2&nbsp;&nbsp;</span>Code</a></span></li><li><span><a href=\"#Shortcuts\" data-toc-modified-id=\"Shortcuts-2.3\"><span class=\"toc-item-num\">2.3&nbsp;&nbsp;</span>Shortcuts</a></span></li></ul></li><li><span><a href=\"#Integer-numbers\" data-toc-modified-id=\"Integer-numbers-3\"><span class=\"toc-item-num\">3&nbsp;&nbsp;</span>Integer numbers</a></span></li><li><span><a href=\"#Real-numbers-(floats)\" data-toc-modified-id=\"Real-numbers-(floats)-4\"><span class=\"toc-item-num\">4&nbsp;&nbsp;</span>Real numbers (floats)</a></span></li><li><span><a href=\"#Basic-operations\" data-toc-modified-id=\"Basic-operations-5\"><span class=\"toc-item-num\">5&nbsp;&nbsp;</span>Basic operations</a></span><ul class=\"toc-item\"><li><span><a href=\"#built-in-and-imported-things\" data-toc-modified-id=\"built-in-and-imported-things-5.1\"><span class=\"toc-item-num\">5.1&nbsp;&nbsp;</span>built-in and imported things</a></span></li></ul></li><li><span><a href=\"#Strings-(character-strings)\" data-toc-modified-id=\"Strings-(character-strings)-6\"><span class=\"toc-item-num\">6&nbsp;&nbsp;</span>Strings (character strings)</a></span><ul class=\"toc-item\"><li><ul class=\"toc-item\"><li><span><a href=\"#icons\" data-toc-modified-id=\"icons-6.0.1\"><span class=\"toc-item-num\">6.0.1&nbsp;&nbsp;</span>icons</a></span></li></ul></li></ul></li><li><span><a href=\"#Casting-in-Python\" data-toc-modified-id=\"Casting-in-Python-7\"><span class=\"toc-item-num\">7&nbsp;&nbsp;</span>Casting in Python</a></span><ul class=\"toc-item\"><li><span><a href=\"#Implicit-conversion\" data-toc-modified-id=\"Implicit-conversion-7.1\"><span class=\"toc-item-num\">7.1&nbsp;&nbsp;</span>Implicit conversion</a></span></li><li><span><a href=\"#explicit-conversion\" data-toc-modified-id=\"explicit-conversion-7.2\"><span class=\"toc-item-num\">7.2&nbsp;&nbsp;</span>explicit conversion</a></span><ul class=\"toc-item\"><li><span><a href=\"#Convert-float-to-int\" data-toc-modified-id=\"Convert-float-to-int-7.2.1\"><span class=\"toc-item-num\">7.2.1&nbsp;&nbsp;</span>Convert float to int</a></span></li><li><span><a href=\"#Convert-a-float-to-a-string\" data-toc-modified-id=\"Convert-a-float-to-a-string-7.2.2\"><span class=\"toc-item-num\">7.2.2&nbsp;&nbsp;</span>Convert a float to a string</a></span></li><li><span><a href=\"#Convert-int-to-str\" data-toc-modified-id=\"Convert-int-to-str-7.2.3\"><span class=\"toc-item-num\">7.2.3&nbsp;&nbsp;</span>Convert int to str</a></span></li></ul></li></ul></li><li><span><a href=\"#Input-and-output-data\" data-toc-modified-id=\"Input-and-output-data-8\"><span class=\"toc-item-num\">8&nbsp;&nbsp;</span>Input and output data</a></span><ul class=\"toc-item\"><li><span><a href=\"#Input\" data-toc-modified-id=\"Input-8.1\"><span class=\"toc-item-num\">8.1&nbsp;&nbsp;</span>Input</a></span></li><li><span><a href=\"#Print\" data-toc-modified-id=\"Print-8.2\"><span class=\"toc-item-num\">8.2&nbsp;&nbsp;</span>Print</a></span></li></ul></li><li><span><a href=\"#Format\" data-toc-modified-id=\"Format-9\"><span class=\"toc-item-num\">9&nbsp;&nbsp;</span>Format</a></span><ul class=\"toc-item\"><li><span><a href=\"#Format---1\" data-toc-modified-id=\"Format---1-9.1\"><span class=\"toc-item-num\">9.1&nbsp;&nbsp;</span>Format - 1</a></span></li><li><span><a href=\"#Format---2\" data-toc-modified-id=\"Format---2-9.2\"><span class=\"toc-item-num\">9.2&nbsp;&nbsp;</span>Format - 2</a></span></li></ul></li><li><span><a href=\"#Strings\" data-toc-modified-id=\"Strings-10\"><span class=\"toc-item-num\">10&nbsp;&nbsp;</span>Strings</a></span><ul class=\"toc-item\"><li><span><a href=\"#String-methods\" data-toc-modified-id=\"String-methods-10.1\"><span class=\"toc-item-num\">10.1&nbsp;&nbsp;</span>String methods</a></span></li></ul></li><li><span><a href=\"#Data-structures\" data-toc-modified-id=\"Data-structures-11\"><span class=\"toc-item-num\">11&nbsp;&nbsp;</span>Data structures</a></span><ul class=\"toc-item\"><li><span><a href=\"#Lists\" data-toc-modified-id=\"Lists-11.1\"><span class=\"toc-item-num\">11.1&nbsp;&nbsp;</span>Lists</a></span><ul class=\"toc-item\"><li><span><a href=\"#list-methods\" data-toc-modified-id=\"list-methods-11.1.1\"><span class=\"toc-item-num\">11.1.1&nbsp;&nbsp;</span>list methods</a></span></li></ul></li><li><span><a href=\"#Tuples\" data-toc-modified-id=\"Tuples-11.2\"><span class=\"toc-item-num\">11.2&nbsp;&nbsp;</span>Tuples</a></span></li><li><span><a href=\"#sets\" data-toc-modified-id=\"sets-11.3\"><span class=\"toc-item-num\">11.3&nbsp;&nbsp;</span>sets</a></span></li><li><span><a href=\"#Dictionaries\" data-toc-modified-id=\"Dictionaries-11.4\"><span class=\"toc-item-num\">11.4&nbsp;&nbsp;</span>Dictionaries</a></span></li></ul></li><li><span><a href=\"#Summary\" data-toc-modified-id=\"Summary-12\"><span class=\"toc-item-num\">12&nbsp;&nbsp;</span>Summary</a></span></li></ul></div>"
   ]
  },
  {
   "cell_type": "markdown",
   "metadata": {
    "lang": "en"
   },
   "source": [
    "## 1. Cell types in Jupyter Notebook"
   ]
  },
  {
   "cell_type": "markdown",
   "metadata": {},
   "source": [
    "`ctrl-enter`: ejecuta la celda activa y permanece en esa celda\n",
    "\n",
    "`shift-enter`: ejecuta la celda activa y se desplaza a la siguiente celda\n",
    "\n",
    "*Pruébalo* Ejecuta las siguientes celdas:"
   ]
  },
  {
   "cell_type": "code",
   "execution_count": 3,
   "metadata": {},
   "outputs": [
    {
     "name": "stdout",
     "output_type": "stream",
     "text": [
      "Hola Mundo\n"
     ]
    }
   ],
   "source": [
    "print (\"Hola Mundo\")"
   ]
  },
  {
   "cell_type": "code",
   "execution_count": 4,
   "metadata": {
    "scrolled": true
   },
   "outputs": [
    {
     "name": "stdout",
     "output_type": "stream",
     "text": [
      "Segunda línea\n"
     ]
    }
   ],
   "source": [
    "print (\"Segunda línea\")"
   ]
  },
  {
   "cell_type": "markdown",
   "metadata": {},
   "source": [
    "**Insertando nuevas celdas:**\n",
    "Cuando una celda está seleccionada en azul (haz clic en el margen izquierdo de la celda) o, si estás editando la celda, pulsa la tecla de escape, se muestra un cuadro azul alrededor.\n",
    "\n",
    "Escribe:\n",
    "- `a` (above/arriba) para crear una nueva celda vacía encima de la celda activa en ese momento\n",
    "- `b` (below/abajo) para crear una nueva celda vacía debajo de la celda activa en ese momento\n",
    "\n",
    "*Pruébalo: Añade una celda debajo y luego una celda encima*"
   ]
  },
  {
   "cell_type": "markdown",
   "metadata": {},
   "source": [
    "**Código de Markdown**:\n",
    "El atajo `m` (con la selección azul) cambia la celda de computación a markdown. Esto permite crear elementos de texto enriquecido para documentar el código.\n",
    "Recíprocamente, puedes convertir una celda en una celda de código utilizando el atajo `y`.\n",
    "\n",
    "*Pruébalo: Convierte la primera celda de abajo en una celda de código y ejecútala, y la celda de abajo en una celda de markdown*"
   ]
  },
  {
   "cell_type": "markdown",
   "metadata": {},
   "source": [
    "#### **No es una celda de codigo ahora mismo:**\n",
    "print(\"Ahora si que es una celda de codigo :)\")"
   ]
  },
  {
   "cell_type": "code",
   "execution_count": 5,
   "metadata": {},
   "outputs": [],
   "source": [
    "#### **Es una celda de codigo ahora mismo**"
   ]
  },
  {
   "cell_type": "markdown",
   "metadata": {},
   "source": [
    "#### **Ejercicio: Convertir Códigos a Markdown**\n",
    "\n",
    "En este ejercicio, tu tarea será convertir las siguientes celdas de código que contienen encabezados (headings) y texto enriquecido a celdas de markdown. De esta manera, en lugar de verse como un bloque de código, se visualizarán como texto con formato.\n",
    "\n",
    "1. Selecciona la primera celda que contiene los encabezados y el texto enriquecido escrito como código.\n",
    "2. Utiliza el atajo `m` (asegurándote de que la celda está resaltada en azul) para convertir la celda de código a una celda de markdown.\n",
    "3. Presiona `Shift+Enter` o `Ctrl+Enter` para ejecutar la celda y ver el resultado.\n",
    "4. Si has realizado el paso correctamente, deberías ver los encabezados y el texto enriquecido (negritas, cursivas, etc.) aplicados en lugar de como un bloque de código.\n",
    "\n",
    "*Inténtalo: Convierte las celdas con los encabezados y el texto enriquecido de código a markdown y ejecútalas para ver el resultado.*\n",
    "\n",
    "Recuerda, las celdas deben verse igual que las celdas de ejemplo proporcionadas más abajo.\n",
    "\n",
    "¡Buena suerte!\n"
   ]
  },
  {
   "cell_type": "markdown",
   "metadata": {
    "scrolled": true
   },
   "source": [
    "# Encabezado 1\n",
    "## Encabezado 2\n",
    "### Encabezado 3\n",
    "#### Encabezado 4\n",
    "\n",
    "**negrita**\n",
    "\n",
    "*cursiva*\n",
    "\n",
    "\"una línea vacía es un párrafo\"\n",
    "\n",
    "\"esto es un nuevo párrafo\""
   ]
  },
  {
   "cell_type": "markdown",
   "metadata": {},
   "source": []
  },
  {
   "cell_type": "markdown",
   "metadata": {},
   "source": [
    "Si has convertido la celda a una celda de markdown con éxito, debería mostrarse igual que la celda de abajo."
   ]
  },
  {
   "cell_type": "markdown",
   "metadata": {},
   "source": [
    "# Encabezado 1\n",
    "## Encabezado 2\n",
    "### Encabezado 3\n",
    "#### Encabezado 4\n",
    "\n",
    "**negrita**\n",
    "\n",
    "*cursiva*\n",
    "\n",
    "una línea vacía es un párrafo\n",
    "\n",
    "esto es un nuevo párrafo"
   ]
  },
  {
   "cell_type": "markdown",
   "metadata": {},
   "source": [
    "### Explicación de Elementos Markdown\n",
    "\n",
    "En el ejemplo proporcionado, hay dos tipos de elementos Markdown muy útiles y comunes: enlaces y imágenes.\n",
    "\n",
    "1. **Enlace**\n",
    "   La primera línea `[nomre](url)` es un enlace. La sintaxis para crear un enlace es colocar el texto del enlace entre corchetes `[]` y la URL entre paréntesis `()`. Al hacer clic en el texto \"Esto es Google\", te llevará a la página web de Google España.\n",
    "\n",
    "2. **Imagen**\n",
    "   La segunda línea `![nombre](url image)` es una imagen. La sintaxis para insertar una imagen es muy similar a la de un enlace, pero lleva un signo de exclamación `!` al principio. El texto entre corchetes `[]` sirve como descripción alternativa para la imagen, que se muestra si la imagen no puede renderizarse por cualquier motivo. En este caso, al ejecutar la celda, verás el texto \"Esto es una imagen (que no se va a renderizar)\" si la imagen no se puede cargar desde la URL proporcionada.\n",
    "\n",
    "Puedes probar estos elementos por ti mismo en cualquier celda de markdown. ¡Inténtalo!"
   ]
  },
  {
   "cell_type": "markdown",
   "metadata": {},
   "source": [
    "**Enlace**\n",
    "[Esto es google](https://www.google.es)"
   ]
  },
  {
   "cell_type": "markdown",
   "metadata": {},
   "source": [
    "**Image**:\n",
    "![Esto es una imagen (que no se va a renderizar)](https://m.facebook.com/IronhackSpain/photos/a.644771729221628/1108169482881848/?type=3&source=44&ref=py_c)"
   ]
  },
  {
   "cell_type": "markdown",
   "metadata": {},
   "source": [
    "### Shortcuts"
   ]
  },
  {
   "cell_type": "markdown",
   "metadata": {},
   "source": [
    "**Recordatorio Final de Atajos de Teclado**\n",
    "\n",
    "Para ejecutar la celda:\n",
    "\n",
    "- `ctrl + enter`\n",
    "- `shift + enter` # este ejecuta la celda y pasa a la siguiente\n",
    "\n",
    "Para insertar nuevas celdas:\n",
    "\n",
    "- `a` para nueva celda arriba\n",
    "- `b` para nueva celda abajo\n",
    "- `d + d` para modo de atajo (elimina la celda seleccionada)\n",
    "\n",
    "Para alternar entre markdown y código:\n",
    "\n",
    "- `m` o `y` para cambiar entre markdown y código"
   ]
  },
  {
   "cell_type": "markdown",
   "metadata": {
    "lang": "en"
   },
   "source": [
    "# Type of data\n",
    "En esta sección, exploraremos diferentes tipos de datos que puedes encontrar y utilizar en Python. Comprender los diferentes tipos de datos es fundamental para trabajar eficazmente con Python.\n",
    "\n",
    "- **Números enteros (Integer)**: Son números sin decimales, pueden ser tanto positivos como negativos. Por ejemplo, -3, 0, 42 son todos números enteros.\n",
    "\n",
    "- **Números reales (Float)**: Son números que contienen puntos decimales o están escritos en notación científica. Incluyen valores como 3.14, -0.001 o 2.5e2.\n",
    "\n",
    "- **Cadenas de caracteres (Strings)**: Las cadenas son secuencias de caracteres (letras, números, símbolos, emojis) encerrados entre comillas simples (`'`) o dobles (`\"`). Por ejemplo, \"Hola, Mundo\" o 'Python3' son cadenas.\n",
    "\n",
    "- **Booleanos (Boolean)**: Los valores booleanos solo pueden ser `True` (verdadero) o `False` (falso), y representan el resultado de operaciones lógicas.\n",
    "\n",
    "Recuerda que Python es un lenguaje de programación dinámico y de tipado fuerte, lo que significa que no necesitas declarar el tipo de datos de una variable explícitamente; Python lo inferirá por ti.\n",
    "\n",
    "\n",
    "## Integer numbers\n",
    "Los números enteros, también conocidos como \"integers\" en inglés, son un tipo de datos que representa números enteros, es decir, sin decimales. Pueden ser tanto positivos como negativos. En Python, puedes asignar un valor entero a una variable simplemente escribiendo el número sin ningún decimal o comillas. Por ejemplo:"
   ]
  },
  {
   "cell_type": "code",
   "execution_count": 6,
   "metadata": {},
   "outputs": [],
   "source": [
    "un_entero = 4"
   ]
  },
  {
   "cell_type": "markdown",
   "metadata": {},
   "source": [
    "En esta celda, estamos declarando una variable llamada `un_entero` y le asignamos el valor 4, que es un número entero."
   ]
  },
  {
   "cell_type": "code",
   "execution_count": 7,
   "metadata": {
    "scrolled": true
   },
   "outputs": [
    {
     "data": {
      "text/plain": [
       "4"
      ]
     },
     "execution_count": 7,
     "metadata": {},
     "output_type": "execute_result"
    }
   ],
   "source": [
    "un_entero"
   ]
  },
  {
   "cell_type": "markdown",
   "metadata": {},
   "source": [
    "Aquí, simplemente estamos escribiendo el nombre de la variable. Esto hará que el cuaderno Jupyter imprima su valor, que es 4."
   ]
  },
  {
   "cell_type": "code",
   "execution_count": 8,
   "metadata": {
    "scrolled": true
   },
   "outputs": [
    {
     "name": "stdout",
     "output_type": "stream",
     "text": [
      "4\n"
     ]
    }
   ],
   "source": [
    "print(un_entero)"
   ]
  },
  {
   "cell_type": "markdown",
   "metadata": {},
   "source": [
    "En esta celda, estamos utilizando la función `print()` para imprimir el valor de la variable `un_entero`. También verás 4 como salida aquí, pero a diferencia de la celda anterior, estás utilizando específicamente una función para imprimir el valor."
   ]
  },
  {
   "cell_type": "code",
   "execution_count": 9,
   "metadata": {},
   "outputs": [
    {
     "data": {
      "text/plain": [
       "20"
      ]
     },
     "execution_count": 9,
     "metadata": {},
     "output_type": "execute_result"
    }
   ],
   "source": [
    "a = 10\n",
    "b = 20\n",
    "a\n",
    "b # Notebook imprime el último valor"
   ]
  },
  {
   "cell_type": "markdown",
   "metadata": {},
   "source": [
    "En este conjunto de líneas, primero asignamos 10 a `a` y 20 a `b`. Luego, escribimos `a` y `b` en líneas separadas, pero el cuaderno Jupyter solo imprimirá el valor de `b`, ya que es el último en la celda. Esto se indica con el comentario # Notebook imprime el último valor."
   ]
  },
  {
   "cell_type": "code",
   "execution_count": 10,
   "metadata": {
    "scrolled": true
   },
   "outputs": [
    {
     "name": "stdout",
     "output_type": "stream",
     "text": [
      "10\n"
     ]
    },
    {
     "data": {
      "text/plain": [
       "20"
      ]
     },
     "execution_count": 10,
     "metadata": {},
     "output_type": "execute_result"
    }
   ],
   "source": [
    "a = 10\n",
    "b = 20\n",
    "print(a)\n",
    "b # Notebook imprime el último valor"
   ]
  },
  {
   "cell_type": "markdown",
   "metadata": {},
   "source": [
    "Aquí, es similar a la celda anterior, pero esta vez estamos utilizando la función `print()` para imprimir el valor de `a` antes de escribir simplemente `b`. Verás tanto 10 (la salida de `print(a)`) como 20 (el valor de `b`) en la salida."
   ]
  },
  {
   "cell_type": "code",
   "execution_count": 11,
   "metadata": {},
   "outputs": [
    {
     "data": {
      "text/plain": [
       "int"
      ]
     },
     "execution_count": 11,
     "metadata": {},
     "output_type": "execute_result"
    }
   ],
   "source": [
    "type(a)"
   ]
  },
  {
   "cell_type": "markdown",
   "metadata": {},
   "source": [
    "Finalmente, estamos utilizando la función `type()` para imprimir el tipo de datos de la variable `a`, que en este caso es `<class 'int'>`, indicando que es un número entero."
   ]
  },
  {
   "cell_type": "markdown",
   "metadata": {
    "lang": "en"
   },
   "source": [
    "## Real numbers (floats)\n",
    "En esta sección, vamos a explorar otro tipo de datos en Python: los números reales, también conocidos como \"flotantes\" o \"floats\" en inglés. Los números flotantes pueden representar números fraccionarios, es decir, números que tienen tanto una parte entera como una parte decimal. Pueden ser tanto positivos como negativos.\n",
    "\n",
    "En Python, puedes crear un número flotante simplemente incluyendo un punto decimal en el número, o utilizando notación científica para números muy grandes o muy pequeños. Aquí hay algunos ejemplos:\n",
    "\n",
    "x = 5.67\n",
    "\n",
    "y = -0.23\n",
    "\n",
    "z = 3.0e8\n",
    "\n",
    "En este código:\n",
    "- `x` es un número flotante que representa el número 5.67.\n",
    "- `y` es un número flotante que representa el número -0.23.\n",
    "- `z` es un número flotante que representa el número 300,000,000 (o 3.0 × 10^8, utilizando notación científica).\n",
    "\n",
    "Al igual que con los números enteros, puedes usar la función `type()` para verificar el tipo de datos de una variable. Por ejemplo, `type(x)` devolverá `<class 'float'>`, indicando que `x` es un número flotante.\n",
    "\n",
    "Los números flotantes son útiles cuando necesitas realizar cálculos que requieren precisión decimal. Ahora, vamos a practicar trabajando con números flotantes en Python con algunos ejercicios.\n"
   ]
  },
  {
   "cell_type": "code",
   "execution_count": 12,
   "metadata": {},
   "outputs": [],
   "source": [
    "a = 12.34"
   ]
  },
  {
   "cell_type": "markdown",
   "metadata": {},
   "source": [
    "En la celda anterior, hemos asignado el número float 12.34 a la variable `a`. Ahora, vamos a imprimir el valor de `a` para verificarlo."
   ]
  },
  {
   "cell_type": "code",
   "execution_count": 13,
   "metadata": {},
   "outputs": [
    {
     "name": "stdout",
     "output_type": "stream",
     "text": [
      "12.34\n"
     ]
    }
   ],
   "source": [
    "print(a)"
   ]
  },
  {
   "cell_type": "markdown",
   "metadata": {},
   "source": [
    "Ahora, vamos a usar la función `type()` para verificar el tipo de datos de la variable `a`. Esto debería confirmar que es un número flotante."
   ]
  },
  {
   "cell_type": "code",
   "execution_count": 14,
   "metadata": {},
   "outputs": [
    {
     "data": {
      "text/plain": [
       "float"
      ]
     },
     "execution_count": 14,
     "metadata": {},
     "output_type": "execute_result"
    }
   ],
   "source": [
    "type(a)"
   ]
  },
  {
   "cell_type": "code",
   "execution_count": 15,
   "metadata": {},
   "outputs": [],
   "source": [
    "b = 12.0"
   ]
  },
  {
   "cell_type": "markdown",
   "metadata": {},
   "source": [
    "Ahora, intenta predecir el tipo de dato de la variable `b` antes de verificarlo con la función `type()`. ¿Crees que es:\n",
    "- **int?** \n",
    "- **float?**"
   ]
  },
  {
   "cell_type": "code",
   "execution_count": 16,
   "metadata": {
    "scrolled": true
   },
   "outputs": [
    {
     "data": {
      "text/plain": [
       "float"
      ]
     },
     "execution_count": 16,
     "metadata": {},
     "output_type": "execute_result"
    }
   ],
   "source": [
    "type(b)"
   ]
  },
  {
   "cell_type": "markdown",
   "metadata": {},
   "source": [
    "En esta última celda, verificamos el tipo de datos de `b` usando la función `type()`. Aunque `b` tiene un valor que podría ser un entero, se considera un float porque incluye un punto decimal.\n"
   ]
  },
  {
   "cell_type": "markdown",
   "metadata": {
    "lang": "en"
   },
   "source": [
    "## Basic operations\n",
    "En esta sección, exploraremos algunas operaciones básicas en Python. Aprenderemos a realizar sumas, restas, divisiones, y cómo obtener el módulo y la floor division. También veremos cómo podemos usar el módulo para determinar si un número es par o impar. ¡Empecemos con algunos ejercicios prácticos!"
   ]
  },
  {
   "cell_type": "code",
   "execution_count": 17,
   "metadata": {},
   "outputs": [],
   "source": [
    "a = 10\n",
    "b = 3"
   ]
  },
  {
   "cell_type": "code",
   "execution_count": 18,
   "metadata": {
    "scrolled": true
   },
   "outputs": [
    {
     "data": {
      "text/plain": [
       "13"
      ]
     },
     "execution_count": 18,
     "metadata": {},
     "output_type": "execute_result"
    }
   ],
   "source": [
    "10 + 3"
   ]
  },
  {
   "cell_type": "markdown",
   "metadata": {},
   "source": [
    "En la celda anterior, simplemente hemos sumado 10 y 3 directamente en una celda de código. Ahora, haremos lo mismo, pero utilizando las variables `a` y `b` que hemos definido previamente."
   ]
  },
  {
   "cell_type": "code",
   "execution_count": 19,
   "metadata": {
    "scrolled": true
   },
   "outputs": [
    {
     "data": {
      "text/plain": [
       "13"
      ]
     },
     "execution_count": 19,
     "metadata": {},
     "output_type": "execute_result"
    }
   ],
   "source": [
    "# Suma\n",
    "a + b"
   ]
  },
  {
   "cell_type": "markdown",
   "metadata": {},
   "source": [
    "Ahora procederemos a realizar una resta utilizando las mismas variables, `a` y `b`."
   ]
  },
  {
   "cell_type": "code",
   "execution_count": 20,
   "metadata": {},
   "outputs": [
    {
     "data": {
      "text/plain": [
       "7"
      ]
     },
     "execution_count": 20,
     "metadata": {},
     "output_type": "execute_result"
    }
   ],
   "source": [
    "# resta\n",
    "\n",
    "a - b"
   ]
  },
  {
   "cell_type": "markdown",
   "metadata": {},
   "source": [
    "A continuación, exploraremos cómo hacer divisiones en Python. Primero, realizaremos una división normal y luego verificararemos el tipo de dato del resultado."
   ]
  },
  {
   "cell_type": "code",
   "execution_count": 21,
   "metadata": {},
   "outputs": [],
   "source": [
    "# divisiones \n",
    "\n",
    "division = a / b"
   ]
  },
  {
   "cell_type": "code",
   "execution_count": 22,
   "metadata": {},
   "outputs": [
    {
     "name": "stdout",
     "output_type": "stream",
     "text": [
      "3.3333333333333335\n"
     ]
    }
   ],
   "source": [
    "type(division)\n",
    "print(division)"
   ]
  },
  {
   "cell_type": "markdown",
   "metadata": {},
   "source": [
    "Ahora, vamos a aprender sobre la \"floor division\", que redondea el resultado de la división hacia abajo al número entero más cercano. También comprobaremos el tipo de dato del resultado."
   ]
  },
  {
   "cell_type": "code",
   "execution_count": 23,
   "metadata": {},
   "outputs": [
    {
     "name": "stdout",
     "output_type": "stream",
     "text": [
      "3.3333333333333335\n",
      "3\n"
     ]
    }
   ],
   "source": [
    "# divisiones: floor division: división redondeada hacia abajo\n",
    "\n",
    "floor_division = a // b\n",
    "print(division)\n",
    "print(floor_division)\n"
   ]
  },
  {
   "cell_type": "code",
   "execution_count": 24,
   "metadata": {},
   "outputs": [
    {
     "data": {
      "text/plain": [
       "int"
      ]
     },
     "execution_count": 24,
     "metadata": {},
     "output_type": "execute_result"
    }
   ],
   "source": [
    "type(floor_division)"
   ]
  },
  {
   "cell_type": "markdown",
   "metadata": {},
   "source": [
    "A continuación, exploraremos el operador módulo (`%`), que nos da el resto de una división. Primero, encontraremos el módulo de `a` dividido por `b`."
   ]
  },
  {
   "cell_type": "code",
   "execution_count": 25,
   "metadata": {},
   "outputs": [
    {
     "data": {
      "text/plain": [
       "1"
      ]
     },
     "execution_count": 25,
     "metadata": {},
     "output_type": "execute_result"
    }
   ],
   "source": [
    "#Módulo: resto de la división\n",
    "\n",
    "a % b"
   ]
  },
  {
   "cell_type": "markdown",
   "metadata": {},
   "source": [
    "Para comprender mejor cómo funcionan las divisiones y el operador módulo, imprimiremos los valores de `a` y `b`."
   ]
  },
  {
   "cell_type": "code",
   "execution_count": 26,
   "metadata": {},
   "outputs": [
    {
     "data": {
      "text/plain": [
       "10"
      ]
     },
     "execution_count": 26,
     "metadata": {},
     "output_type": "execute_result"
    }
   ],
   "source": [
    "a"
   ]
  },
  {
   "cell_type": "code",
   "execution_count": 27,
   "metadata": {},
   "outputs": [
    {
     "data": {
      "text/plain": [
       "3"
      ]
     },
     "execution_count": 27,
     "metadata": {},
     "output_type": "execute_result"
    }
   ],
   "source": [
    "b"
   ]
  },
  {
   "cell_type": "markdown",
   "metadata": {},
   "source": [
    "A continuación, utilizaremos el operador módulo para determinar si los números en una lista son pares o impares. Si un número dividido por 2 da un resto de 0, entonces es par. Vamos a crear un bucle que recorra una lista de números y nos indique si cada número es par o impar."
   ]
  },
  {
   "cell_type": "code",
   "execution_count": 28,
   "metadata": {},
   "outputs": [
    {
     "name": "stdout",
     "output_type": "stream",
     "text": [
      "El numero 1 NO es par\n",
      "El numero 2 es par\n",
      "El numero 3 NO es par\n",
      "El numero 4 es par\n",
      "El numero 5 NO es par\n",
      "El numero 6 es par\n"
     ]
    }
   ],
   "source": [
    "# Par / impar -> módulo (resto)\n",
    "# Si el resto de una división entre dos es cero: par\n",
    "\n",
    "list_ = [1, 2, 3, 4, 5, 6]\n",
    "\n",
    "for i in list_:\n",
    "    if i % 2 == 0:\n",
    "        print(f\"El numero {i} es par\")\n",
    "    else:\n",
    "        print(f\"El numero {i} NO es par\")"
   ]
  },
  {
   "cell_type": "markdown",
   "metadata": {},
   "source": [
    "### Ejercicio Práctico\n",
    "Ahora que hemos explorado algunas operaciones básicas en Python, es tu turno de intentarlo. \n",
    "\n",
    "**Instrucciones:**\n",
    "1. Crea dos nuevas variables, `x` e `y`, y asigna cualquier número entero a cada una de ellas.\n",
    "2. Realiza las siguientes operaciones usando estas variables:\n",
    "   - Suma\n",
    "   - Resta\n",
    "   - Multiplicación\n",
    "   - División y comprobar el tipo de resultado\n",
    "   - floor division y comprobar el tipo de resultado\n",
    "   - Encuentra el módulo (resto de la división)\n",
    "3. Usa un bucle `for` para iterar sobre una lista de números del 1 al 10 e imprime si cada número es par o impar.\n",
    "\n",
    "No olvides imprimir los resultados para verificar tus soluciones."
   ]
  },
  {
   "cell_type": "code",
   "execution_count": 44,
   "metadata": {},
   "outputs": [
    {
     "name": "stdout",
     "output_type": "stream",
     "text": [
      "[1, 2, 3, 4, 5, 6, 7, 8, 9, 10]\n"
     ]
    }
   ],
   "source": [
    "# x = 3\n",
    "# y = 4\n",
    "\n",
    "# print(x + y)\n",
    "# print(x - y)\n",
    "# print(x * y)\n",
    "# print(x / y)\n",
    "# print(x // y)\n",
    "\n",
    "# list = [1,2,3,4,5,6,7,8,9,10]\n",
    "\n",
    "list = [k for k in range(1,11)]\n",
    "\n",
    "# for k in range(1,11):\n",
    "#     list.append(k)\n",
    "    \n",
    "print(list)\n",
    "    \n",
    "    \n",
    "\n",
    "# for i in list:\n",
    "#     if i % 2 == 0:\n",
    "#         print(f\"El numero {i} es par\")\n",
    "#     else:\n",
    "#         print(f\"El numero {i} es impar\")\n",
    "        \n",
    "        "
   ]
  },
  {
   "cell_type": "markdown",
   "metadata": {},
   "source": [
    "### built-in and imported things\n",
    "\n",
    "En el mundo de Python, a menudo trabajarás con diferentes métodos y funciones para realizar tareas específicas en tu código. Los \"métodos\" y las \"funciones\" son esencialmente cosas que realizan acciones (o, como decimos coloquialmente, \"cosas que hacen cosas\"). A continuación, vamos a explorar dos categorías principales de estos: las cosas incorporadas y las cosas importadas (*resumen methods = functions = things that do things*).\n",
    "\n",
    "- **Métodos incorporados (built-in methods):**\n",
    "Son funciones o cosas que ya están incluidas en Python cuando lo instalas. No necesitas instalar nada extra para usarlos. Algunos ejemplos son los métodos `print` y `sum`.\n",
    "\n",
    "- **Cosas importadas (imported things):**\n",
    "A veces, podrías necesitar usar funciones o cosas que no están incorporadas directamente en Python. En estos casos, necesitarás importarlos desde una biblioteca externa. Antes de poder usar estas funciones, deberás instalar la biblioteca correspondiente con un comando `pip install` o `conda install`, y luego importarla en tu script.\n",
    "\n",
    "A continuación, exploraremos algunos ejemplos de ambos tipos de \"cosas\":"
   ]
  },
  {
   "cell_type": "code",
   "execution_count": 30,
   "metadata": {},
   "outputs": [
    {
     "name": "stdout",
     "output_type": "stream",
     "text": [
      "Se llama built-in\n"
     ]
    }
   ],
   "source": [
    "# Primero, vamos a explorar un método incorporado: print\n",
    "# El método print nos permite imprimir mensajes en la consola.\n",
    "print(\"Se llama built-in\")"
   ]
  },
  {
   "cell_type": "code",
   "execution_count": 31,
   "metadata": {},
   "outputs": [
    {
     "data": {
      "text/plain": [
       "'ESTO ES UNA STRING'"
      ]
     },
     "execution_count": 31,
     "metadata": {},
     "output_type": "execute_result"
    }
   ],
   "source": [
    "# Otro ejemplo de un método incorporado es upper.\n",
    "# Este método convierte una cadena de texto (string) en mayúsculas.\n",
    "\"Esto es una string\".upper()"
   ]
  },
  {
   "cell_type": "code",
   "execution_count": 32,
   "metadata": {},
   "outputs": [],
   "source": [
    "# Ahora, vamos a explorar cómo importar y usar cosas de una biblioteca externa.\n",
    "# Primero, necesitamos importar la biblioteca. En este caso, estamos importando la biblioteca math.\n",
    "import math"
   ]
  },
  {
   "cell_type": "code",
   "execution_count": 33,
   "metadata": {},
   "outputs": [
    {
     "data": {
      "text/plain": [
       "8789"
      ]
     },
     "execution_count": 33,
     "metadata": {},
     "output_type": "execute_result"
    }
   ],
   "source": [
    "# A continuación, usamos una función de la biblioteca math: floor.\n",
    "# La función floor redondea un número hacia abajo al entero más cercano.\n",
    "math.floor(8789.098767)"
   ]
  },
  {
   "cell_type": "markdown",
   "metadata": {
    "lang": "en"
   },
   "source": [
    "## Strings (character strings)\n",
    "\n",
    "Las cadenas de caracteres, también conocidas como \"strings\", son una secuencia de caracteres, que pueden incluir letras, números, símbolos, y hasta emojis. Las cadenas pueden estar encerradas en comillas dobles o simples, y podemos incluso definir cadenas de varias líneas utilizando comillas triples. A continuación, vamos a explorar varios ejemplos y características de las cadenas en Python.\n",
    "\n",
    "Ejemplos de cómo definir una cadena con diferentes tipos de comillas:"
   ]
  },
  {
   "cell_type": "code",
   "execution_count": 34,
   "metadata": {
    "scrolled": true
   },
   "outputs": [
    {
     "data": {
      "text/plain": [
       "'Esto es una string'"
      ]
     },
     "execution_count": 34,
     "metadata": {},
     "output_type": "execute_result"
    }
   ],
   "source": [
    "\"Esto es una string\""
   ]
  },
  {
   "cell_type": "code",
   "execution_count": 35,
   "metadata": {},
   "outputs": [
    {
     "data": {
      "text/plain": [
       "'Esto es una string con comillas simples'"
      ]
     },
     "execution_count": 35,
     "metadata": {},
     "output_type": "execute_result"
    }
   ],
   "source": [
    "'Esto es una string con comillas simples'"
   ]
  },
  {
   "cell_type": "code",
   "execution_count": 36,
   "metadata": {
    "scrolled": true
   },
   "outputs": [
    {
     "data": {
      "text/plain": [
       "'Esto es una string con comillas simples'"
      ]
     },
     "execution_count": 36,
     "metadata": {},
     "output_type": "execute_result"
    }
   ],
   "source": [
    "\"Esto es una string con comillas simples\" #End Of Line"
   ]
  },
  {
   "cell_type": "markdown",
   "metadata": {},
   "source": [
    "Podemos asignar un `string` a una variable, como se muestra aquí:"
   ]
  },
  {
   "cell_type": "code",
   "execution_count": 37,
   "metadata": {},
   "outputs": [
    {
     "data": {
      "text/plain": [
       "'4'"
      ]
     },
     "execution_count": 37,
     "metadata": {},
     "output_type": "execute_result"
    }
   ],
   "source": [
    "esto_es_string_tambien = \"4\"\n",
    "esto_es_string_tambien"
   ]
  },
  {
   "cell_type": "markdown",
   "metadata": {},
   "source": [
    "Podemos verificar el tipo de una variable utilizando la función `type`:"
   ]
  },
  {
   "cell_type": "code",
   "execution_count": 38,
   "metadata": {},
   "outputs": [
    {
     "data": {
      "text/plain": [
       "str"
      ]
     },
     "execution_count": 38,
     "metadata": {},
     "output_type": "execute_result"
    }
   ],
   "source": [
    "type(esto_es_string_tambien)"
   ]
  },
  {
   "cell_type": "markdown",
   "metadata": {},
   "source": [
    "Intentando crear un `string` de varias líneas sin comillas triples resultará en un error:"
   ]
  },
  {
   "cell_type": "code",
   "execution_count": 39,
   "metadata": {},
   "outputs": [
    {
     "ename": "SyntaxError",
     "evalue": "unterminated string literal (detected at line 1) (3033280629.py, line 1)",
     "output_type": "error",
     "traceback": [
      "\u001b[1;36m  Cell \u001b[1;32mIn[39], line 1\u001b[1;36m\u001b[0m\n\u001b[1;33m    \"Esto es una string\u001b[0m\n\u001b[1;37m    ^\u001b[0m\n\u001b[1;31mSyntaxError\u001b[0m\u001b[1;31m:\u001b[0m unterminated string literal (detected at line 1)\n"
     ]
    }
   ],
   "source": [
    "\"Esto es una string \n",
    "con varias lineas\""
   ]
  },
  {
   "cell_type": "markdown",
   "metadata": {},
   "source": [
    "Para crear un `string` de varias líneas correctamente, debemos usar comillas triples:"
   ]
  },
  {
   "cell_type": "code",
   "execution_count": null,
   "metadata": {},
   "outputs": [],
   "source": [
    "\"\"\"\n",
    "Esto es una string\n",
    "con varias lineas\"\"\""
   ]
  },
  {
   "cell_type": "markdown",
   "metadata": {},
   "source": [
    "También podemos imprimir un `string` de varias líneas usando la función print y comillas triples:"
   ]
  },
  {
   "cell_type": "code",
   "execution_count": 40,
   "metadata": {},
   "outputs": [
    {
     "name": "stdout",
     "output_type": "stream",
     "text": [
      "\n",
      "Esto es una string\n",
      "con varias lineas\n",
      "\n"
     ]
    }
   ],
   "source": [
    "print(\"\"\"\n",
    "Esto es una string\n",
    "con varias lineas\n",
    "\"\"\")"
   ]
  },
  {
   "cell_type": "markdown",
   "metadata": {},
   "source": [
    "#### icons\n",
    "Laos strings pueden contener emojis, como se muestra aquí:"
   ]
  },
  {
   "cell_type": "code",
   "execution_count": null,
   "metadata": {},
   "outputs": [],
   "source": [
    "\"😍\" #emojis -> son strings"
   ]
  },
  {
   "cell_type": "code",
   "execution_count": 2,
   "metadata": {},
   "outputs": [],
   "source": [
    "cara_corazones = \"😍\""
   ]
  },
  {
   "cell_type": "code",
   "execution_count": null,
   "metadata": {},
   "outputs": [],
   "source": [
    "cara_corazones"
   ]
  },
  {
   "cell_type": "code",
   "execution_count": null,
   "metadata": {},
   "outputs": [],
   "source": [
    "type(cara_corazones)"
   ]
  },
  {
   "cell_type": "markdown",
   "metadata": {
    "lang": "en"
   },
   "source": [
    "## Casting in Python\n",
    "\n",
    "La conversión de tipos, también conocida como \"casting\", se refiere al proceso de convertir un tipo de dato a otro. Previamente hemos visto tipos de datos como `int`, `string` o `float`. Bueno, resulta que es posible convertir de un tipo a otro. Pero antes que nada, veamos los diferentes tipos de conversiones o transformaciones de tipo que se pueden realizar. Existen dos:\n",
    "\n",
    "**Conversión implícita:** Esto es realizado automáticamente por Python. Ocurre cuando realizamos ciertas operaciones con dos tipos diferentes, Python hace la conversión en el fondo sin necesidad de que el programador lo indique explícitamente.\n",
    "\n",
    "**Conversión explícita:** Nosotros realizamos esto de manera explícita, como convertir un `str` a `int` con `int()` o a `float` con `float()`. Este tipo de conversión es realizado mediante el uso de funciones predefinidas de Python.\n",
    "\n",
    "Es importante tener en cuenta que no todos los tipos de datos pueden convertirse entre sí de forma segura. Por ejemplo, intentar convertir una cadena de texto que contiene letras a un entero producirá un error. Por lo tanto, siempre es una buena práctica manejar posibles errores usando estructuras de control de excepciones, lo que veremos más adelante en el curso.\n",
    "\n",
    "¡Vamos a ver algunos ejemplos de cada uno para entender mejor cómo funcionan!\n"
   ]
  },
  {
   "cell_type": "markdown",
   "metadata": {
    "lang": "en"
   },
   "source": [
    "### Implicit conversion\n",
    "Este tipo de conversión es realizado automáticamente por Python, prácticamente sin que nos demos cuenta. Aún así, es importante conocer lo que está sucediendo debajo del capó para evitar problemas futuros.\n",
    "\n",
    "El ejemplo más sencillo donde podemos ver este comportamiento es el siguiente:\n",
    "- `a` es un `int`\n",
    "- `b` es un `float`\n",
    "\n",
    "Pero si sumamos `a` y `b` y almacenamos el resultado en `a`, podemos ver cómo internamente Python ha convertido el `int` a `float` para realizar la operación, y la variable resultante es `float`. Sin embargo, hay otros casos donde Python no es tan inteligente y no es capaz de realizar la conversión. Si intentamos añadir un `int` a una `string`, obtendremos un `TypeError`."
   ]
  },
  {
   "cell_type": "code",
   "execution_count": 102,
   "metadata": {},
   "outputs": [],
   "source": [
    "a = 5       # Esto es un int\n",
    "b = 4.5     # Esto es un float"
   ]
  },
  {
   "cell_type": "code",
   "execution_count": null,
   "metadata": {},
   "outputs": [],
   "source": [
    "c = a + b   # Python convierte automáticamente a a float para realizar la operación\n",
    "print(c)    # El resultado, 9.5, es un float"
   ]
  },
  {
   "cell_type": "code",
   "execution_count": null,
   "metadata": {},
   "outputs": [],
   "source": [
    "# Pero, si intentamos hacer una operación entre un string y un entero:\n",
    "d = \"Hola\" + a  # Esto provocará un TypeError"
   ]
  },
  {
   "cell_type": "markdown",
   "metadata": {
    "lang": "en"
   },
   "source": [
    "### explicit conversion\n",
    "Por otro lado, podemos realizar conversiones entre tipos o castings de manera explícita utilizando diferentes funciones que Python proporciona. Las más utilizadas son las siguientes:\n",
    "\n",
    "`float()`, `str()`, `int()`, `list()`, `set()`"
   ]
  },
  {
   "cell_type": "markdown",
   "metadata": {},
   "source": [
    "#### Convert float to int\n",
    "Para convertir de float a int debemos usar `int()`. Pero cuidado, porque el tipo entero no puede almacenar decimales, así que perderemos lo que esté después del punto decimal."
   ]
  },
  {
   "cell_type": "code",
   "execution_count": null,
   "metadata": {},
   "outputs": [],
   "source": [
    "# Ejemplo de conversión explícita\n",
    "numero_float = 5.7\n",
    "numero_int = int(numero_float)"
   ]
  },
  {
   "cell_type": "code",
   "execution_count": null,
   "metadata": {},
   "outputs": [],
   "source": [
    "print(numero_int)  # El resultado será 5, perdiendo la parte decimal."
   ]
  },
  {
   "cell_type": "markdown",
   "metadata": {
    "lang": "en"
   },
   "source": [
    "#### Convert a float to a string\n",
    "Podemos convertir un float a un string de texto utilizando `str()`. Podemos ver en el siguiente código cómo cambia el tipo de `a` después de la conversión."
   ]
  },
  {
   "cell_type": "code",
   "execution_count": null,
   "metadata": {},
   "outputs": [],
   "source": [
    "# Ejemplo de convertir un float a un string\n",
    "a = 3.14159\n",
    "print(type(a))  # Esto imprimirá: <class 'float'>"
   ]
  },
  {
   "cell_type": "code",
   "execution_count": null,
   "metadata": {},
   "outputs": [],
   "source": [
    "a = str(a)\n",
    "print(type(a))  # Esto imprimirá: <class 'str'>\n",
    "print(a)        # Esto imprimirá: 3.14159, pero ahora como una cadena de texto."
   ]
  },
  {
   "cell_type": "markdown",
   "metadata": {
    "lang": "en"
   },
   "source": [
    "#### Convert int to str\n",
    "Al igual que la conversión a float que vimos anteriormente, podemos convertir de int a str utilizando `str()`. Veamos un ejemplo a continuación:"
   ]
  },
  {
   "cell_type": "code",
   "execution_count": null,
   "metadata": {},
   "outputs": [],
   "source": [
    "# Ejemplo de convertir un entero a una cadena de texto\n",
    "a = 42\n",
    "print(type(a))  # Esto imprimirá: <class 'int'>"
   ]
  },
  {
   "cell_type": "code",
   "execution_count": null,
   "metadata": {
    "scrolled": true
   },
   "outputs": [],
   "source": [
    "a = str(a)\n",
    "print(type(a))  # Esto imprimirá: <class 'str'>\n",
    "print(a)        # Esto imprimirá: \"42\", pero ahora como una cadena de texto."
   ]
  },
  {
   "cell_type": "markdown",
   "metadata": {},
   "source": [
    "#### Ejercicio\n",
    "Ahora es tu turno de probar la conversión de int a str. Realiza las siguientes tareas:\n",
    "\n",
    "1. Crea una variable `edad` y asígnale tu edad como un entero.\n",
    "2. Convierte la variable `edad` a un string utilizando la función `str()`.\n",
    "3. Concatena la cadena \"Mi edad es: \" con la variable `edad` (ahora una cadena) y almacena el resultado en una nueva variable llamada `mensaje`.\n",
    "4. Imprime la variable `mensaje` en la consola.\n",
    "\n",
    "A continuación, te dejo un esquema básico que puedes utilizar:"
   ]
  },
  {
   "cell_type": "code",
   "execution_count": 45,
   "metadata": {},
   "outputs": [
    {
     "name": "stdout",
     "output_type": "stream",
     "text": [
      "mi edad es: 30\n"
     ]
    }
   ],
   "source": [
    "# Paso 1: Crea una variable edad con tu edad como un entero\n",
    "edad = 30\n",
    "\n",
    "# Paso 2: Convierte la variable edad a un string\n",
    "edad = str(edad)\n",
    "\n",
    "# Paso 3: Concatena \"Mi edad es: \" con la variable edad y almacena el resultado en una nueva variable llamada mensaje\n",
    "mensaje = f\"mi edad es: {edad}\"\n",
    "\n",
    "# Paso 4: Imprime la variable mensaje\n",
    "print(mensaje)"
   ]
  },
  {
   "cell_type": "markdown",
   "metadata": {
    "lang": "en"
   },
   "source": [
    "## Input and output data\n",
    "En el desarrollo de programas, a menudo necesitamos interactuar con los usuarios permitiéndoles introducir datos (input) y mostrándoles resultados o mensajes (output). Python proporciona métodos sencillos y directos para lograr esto, facilitando la creación de scripts interactivos y amigables. A continuación, exploraremos cómo podemos lograr esto utilizando Python.\n",
    "\n",
    "### Input\n",
    "\n",
    "Para asignar una variable a un valor ingresado por el usuario desde la consola, utilizamos la función `input()`. Esta función puede llevar un argumento opcional: el mensaje o la indicación que se desea mostrar en pantalla para guiar al usuario sobre qué tipo de información se espera que ingrese. Es fundamental tener en cuenta que, independientemente del tipo de datos que el usuario ingrese, la función `input()` siempre devolverá un string. Aquí está el esquema básico de cómo funciona:\n",
    "\n",
    "`input(message)` : Muestra el mensaje en la terminal y devuelve una cadena con la entrada del usuario.\n",
    "\n",
    "A menudo, puede ser necesario convertir esta cadena a un tipo de datos diferente, dependiendo de cómo planeas usar el valor ingresado en tu script. Esto lo podríamos hacer utilizando técnicas de conversión de tipos, o \"casting\", que discutimos en secciones anteriores. "
   ]
  },
  {
   "cell_type": "code",
   "execution_count": 46,
   "metadata": {},
   "outputs": [
    {
     "data": {
      "text/plain": [
       "'Hola'"
      ]
     },
     "execution_count": 46,
     "metadata": {},
     "output_type": "execute_result"
    }
   ],
   "source": [
    "saludo = input()\n",
    "saludo"
   ]
  },
  {
   "cell_type": "markdown",
   "metadata": {},
   "source": []
  },
  {
   "cell_type": "markdown",
   "metadata": {},
   "source": [
    "Ahora, vamos a personalizar el mensaje que aparece cuando pedimos una entrada al usuario utilizando el argumento `prompt` de la función `input()`."
   ]
  },
  {
   "cell_type": "code",
   "execution_count": 47,
   "metadata": {},
   "outputs": [],
   "source": [
    "saludo = input(prompt = \"Esto es el prompt\")"
   ]
  },
  {
   "cell_type": "markdown",
   "metadata": {},
   "source": [
    "Continuemos solicitando más información al usuario, como su nombre y un número. Luego, experimentaremos con las operaciones que podemos realizar con estas entradas."
   ]
  },
  {
   "cell_type": "code",
   "execution_count": null,
   "metadata": {},
   "outputs": [],
   "source": [
    "nombre = input(\"Escribe aquí tu nombre: \")\n",
    "nombre"
   ]
  },
  {
   "cell_type": "code",
   "execution_count": null,
   "metadata": {},
   "outputs": [],
   "source": [
    "number = input(\"Escribe aquí tu número: \")\n",
    "number"
   ]
  },
  {
   "cell_type": "markdown",
   "metadata": {},
   "source": [
    "Al intentar operar con un string que representa un número, veremos que no se comporta como un número real. Por ejemplo, si intentamos multiplicarlo por 10 o dividirlo por 2, obtendremos errores o comportamientos no deseados."
   ]
  },
  {
   "cell_type": "code",
   "execution_count": null,
   "metadata": {},
   "outputs": [],
   "source": [
    "number * 10"
   ]
  },
  {
   "cell_type": "code",
   "execution_count": 3,
   "metadata": {},
   "outputs": [],
   "source": [
    "prompt = \"hola mundo\""
   ]
  },
  {
   "cell_type": "code",
   "execution_count": null,
   "metadata": {},
   "outputs": [],
   "source": [
    "# Esto generará un error porque estamos intentando dividir un string\n",
    "number / 2"
   ]
  },
  {
   "cell_type": "markdown",
   "metadata": {},
   "source": [
    "Para evitar estos problemas, podemos convertir la entrada a un número utilizando la función `int()`. Una vez que la entrada es un entero, podemos realizar operaciones numéricas con ella."
   ]
  },
  {
   "cell_type": "code",
   "execution_count": null,
   "metadata": {},
   "outputs": [],
   "source": [
    "numero = int(input(\"Escribe aquí tu número: \"))\n",
    "numero"
   ]
  },
  {
   "cell_type": "code",
   "execution_count": null,
   "metadata": {},
   "outputs": [],
   "source": [
    "type(numero)"
   ]
  },
  {
   "cell_type": "code",
   "execution_count": null,
   "metadata": {},
   "outputs": [],
   "source": [
    "int(numero / 2)"
   ]
  },
  {
   "cell_type": "markdown",
   "metadata": {},
   "source": [
    "**Reflexiones Finales**\n",
    "\n",
    "Es importante anticipar posibles problemas en las entradas de los usuarios y gestionarlos adecuadamente para evitar errores durante la ejecución. Una forma de hacerlo es a través de la programación defensiva, donde se verifica la validez de las entradas antes de proceder con las operaciones. Además, podemos utilizar estructuras de control de flujo, como `if/else`, y gestión de errores con `try/except` para manejar situaciones inesperadas de manera más elegante.\n",
    "\n",
    "A Considerar:\n",
    "- Anticipar un posible problema -> Programación defensiva.\n",
    "- Asegurarse de que el número es un entero antes de realizar operaciones que requieren enteros.\n",
    "- Utilizar lógica condicional (`if/else`) para gestionar diferentes casos.\n",
    "- Manejar errores de forma proactiva utilizando `try/except` para prevenir fallos durante la ejecución.\n"
   ]
  },
  {
   "cell_type": "markdown",
   "metadata": {
    "lang": "en"
   },
   "source": [
    "### Print\n",
    "\n",
    "La función `print()` se utiliza para escribir el mensaje especificado en la pantalla o en otro dispositivo de salida estándar.\n",
    "\n",
    "El mensaje puede ser una cadena (string) o cualquier otro objeto; el objeto se convertirá en un string antes de ser escrito en la pantalla. A continuación, vamos a explorar algunas de las funcionalidades y particularidades de la función `print()`.\n",
    "\n",
    "**Observaciones**:\n",
    "\n",
    "- **NUESTRO AMIGO**: La función `print()` es una herramienta fundamental para la depuración de código. Nos permite visualizar los valores de diferentes variables en varios puntos de nuestro código, lo que facilita la identificación de errores o \"bugs\".\n",
    "- **Depuración**: Es el proceso de identificar y corregir errores en el código. Utilizar `print()` es una de las formas más simples de \"debuggear\", es decir, buscar y corregir errores en el código.\n",
    "\n",
    "Vamos a ver cómo funciona en el siguiente fragmento de código:\n"
   ]
  },
  {
   "cell_type": "code",
   "execution_count": null,
   "metadata": {},
   "outputs": [],
   "source": [
    "greeting = \"Hellooooo\"\n",
    "type(greeting)"
   ]
  },
  {
   "cell_type": "code",
   "execution_count": null,
   "metadata": {},
   "outputs": [],
   "source": [
    "type(print(greeting))"
   ]
  },
  {
   "cell_type": "code",
   "execution_count": null,
   "metadata": {},
   "outputs": [],
   "source": [
    "type(greeting)"
   ]
  },
  {
   "cell_type": "markdown",
   "metadata": {},
   "source": [
    "#### Reflexiones\n",
    "Notarás que cuando utilizamos `print()`, el tipo que devuelve es `NoneType`. Esto es porque `print()` es una función que realiza una acción (imprimir algo en la consola) pero no devuelve ningún valor (su retorno es `None`). Esta es una distinción importante, especialmente cuando se compara con funciones que sí devuelven valores.\n",
    "\n",
    "#### Advertencia\n",
    "- Es fundamental recordar que `print()` imprime en la consola pero no retorna un valor que pueda ser utilizado en operaciones subsecuentes en el código. "
   ]
  },
  {
   "cell_type": "markdown",
   "metadata": {},
   "source": [
    "## Format\n",
    "En esta sección, exploraremos diferentes formas de formatear strings en Python, lo que puede ser especialmente útil cuando queremos incluir valores variables dentro de un string. Existen varias formas de hacer esto en Python, incluyendo la concatenación de strings usando `+`, usando una coma `,`, utilizando el método `.format()` o a través de las f-strings. A continuación, veremos ejemplos de cada uno de estos métodos y analizaremos los tipos de datos resultantes."
   ]
  },
  {
   "cell_type": "markdown",
   "metadata": {},
   "source": [
    "### Format - 1"
   ]
  },
  {
   "cell_type": "code",
   "execution_count": 5,
   "metadata": {},
   "outputs": [],
   "source": [
    "# Primer caso: esto podría ser un caso de uso para las funciones input y output\n",
    "name = \"Santi\"\n",
    "age = 24"
   ]
  },
  {
   "cell_type": "code",
   "execution_count": 6,
   "metadata": {},
   "outputs": [
    {
     "data": {
      "text/plain": [
       "'Hello my name is Santi and my age is 24'"
      ]
     },
     "execution_count": 6,
     "metadata": {},
     "output_type": "execute_result"
    }
   ],
   "source": [
    "# Usando concatenación con '+'\n",
    "greeting = \"Hello my name is \" + name + \" and my age is \" + str(age)\n",
    "greeting"
   ]
  },
  {
   "cell_type": "code",
   "execution_count": 7,
   "metadata": {},
   "outputs": [
    {
     "data": {
      "text/plain": [
       "('Hello my name is ', 'Santi', ' and my age is ', '24')"
      ]
     },
     "execution_count": 7,
     "metadata": {},
     "output_type": "execute_result"
    }
   ],
   "source": [
    "# Usando coma para concatenar\n",
    "greeting = \"Hello my name is \", name, \" and my age is \", str(age)\n",
    "greeting"
   ]
  },
  {
   "cell_type": "code",
   "execution_count": 8,
   "metadata": {},
   "outputs": [
    {
     "data": {
      "text/plain": [
       "tuple"
      ]
     },
     "execution_count": 8,
     "metadata": {},
     "output_type": "execute_result"
    }
   ],
   "source": [
    "# Verificando el tipo de la variable greeting\n",
    "type(greeting)"
   ]
  },
  {
   "cell_type": "code",
   "execution_count": null,
   "metadata": {},
   "outputs": [],
   "source": [
    "# Añadiendo algunas opciones para reflexionar sobre qué tipo de datos tenemos aquí:\n",
    "# 1. String\n",
    "# 2. List\n",
    "# 3. Tuple\n",
    "# 4. CSV: comma separated values?"
   ]
  },
  {
   "cell_type": "code",
   "execution_count": 9,
   "metadata": {},
   "outputs": [
    {
     "data": {
      "text/plain": [
       "'Hello my name is Santi and my age is 24'"
      ]
     },
     "execution_count": 9,
     "metadata": {},
     "output_type": "execute_result"
    }
   ],
   "source": [
    "# Utilizando f-strings para una formateación más limpia\n",
    "greeting = f\"Hello my name is {name} and my age is {age}\"\n",
    "greeting"
   ]
  },
  {
   "cell_type": "markdown",
   "metadata": {},
   "source": [
    "### Format - 2"
   ]
  },
  {
   "cell_type": "code",
   "execution_count": 10,
   "metadata": {},
   "outputs": [],
   "source": [
    "# Segundo caso: \n",
    "name = \"Laura\"\n",
    "age = 30"
   ]
  },
  {
   "cell_type": "code",
   "execution_count": 11,
   "metadata": {},
   "outputs": [
    {
     "data": {
      "text/plain": [
       "'Hello my name is Laura and my age is 30'"
      ]
     },
     "execution_count": 11,
     "metadata": {},
     "output_type": "execute_result"
    }
   ],
   "source": [
    "# Usando el método .format() para insertar valores en un string\n",
    "greeting = \"Hello my name is {} and my age is {}\".format(name, age)\n",
    "greeting"
   ]
  },
  {
   "cell_type": "markdown",
   "metadata": {},
   "source": [
    "**Ejercicio**\n",
    "\n",
    "Ahora que hemos aprendido varias formas de formatear strings en Python, es momento de poner en práctica lo aprendido. En este ejercicio, te pediremos que utilices la función `input()` para solicitar cierta información al usuario y luego formatea esa información utilizando al menos dos de los métodos que hemos discutido anteriormente (concatenación con '+', usando comas, f-strings o el método `.format()`).\n",
    "\n",
    "Instrucciones:\n",
    "1. Pide al usuario que ingrese su nombre y su edad utilizando la función `input()`.\n",
    "2. Crea un mensaje de saludo que incluya el nombre y la edad del usuario, utilizando dos métodos diferentes de formateo de strings.\n",
    "3. Imprime ambos mensajes en la consola para verificar tu trabajo.\n"
   ]
  },
  {
   "cell_type": "code",
   "execution_count": 67,
   "metadata": {},
   "outputs": [
    {
     "name": "stdout",
     "output_type": "stream",
     "text": [
      "Mi nombre es Fer y tengo 0 años\n",
      "Mi nombre es Fer y tengo 0 año\n"
     ]
    }
   ],
   "source": [
    "# 1. Pide al usuario que ingrese su nombre y su edad utilizando la función `input()`.\n",
    "\n",
    "nombre, edad = str(input(\"Ingrese su nombre\")), int(input(\"Ingrese su edad\"))\n",
    "\n",
    "\n",
    "# 2. Crea un mensaje de saludo que incluya el nombre y la edad del usuario, utilizando dos métodos diferentes de formateo de strings.\n",
    "\n",
    "print(f\"Mi nombre es {nombre} y tengo {edad} {\"año\" if edad == 1 else \"años\"}\")\n",
    "\n"
   ]
  },
  {
   "cell_type": "markdown",
   "metadata": {
    "lang": "es"
   },
   "source": [
    "## Strings\n",
    "\n",
    "En Python, como ya hemos visto antes, un string, es una secuencia de caracteres encerrada entre comillas simples (`'`), dobles (`\"`) o triples (`'''` o `\"\"\"`). Los strings son inmutables, lo que significa que una vez creadas, no podemos modificar su contenido directamente, aunque sí podemos crear nuevas cadenas a partir de manipulaciones de la original mediante varios métodos y operaciones. Estas pueden contener letras, números, caracteres especiales, espacios o una combinación de todos ellos."
   ]
  },
  {
   "cell_type": "markdown",
   "metadata": {
    "lang": "en"
   },
   "source": [
    "### String methods\n",
    "\n",
    "Los métodos son acciones o funciones que un objeto puede realizar. Al igual que Python nos ofrece una serie de funciones \"integradas\", también nos brinda una serie de métodos ya creados. Estos métodos dependen del tipo de objeto con el que estemos trabajando, y en el caso de las cadenas, nos permiten realizar una variedad de operaciones para manipular e inspeccionarlas.\n",
    "\n",
    "En esta sección, vamos a explorar algunos de los métodos de cadena más utilizados durante el bootcamp, utilizando un`sample_string` para demostrar su funcionalidad. A medida que avanzamos en el bootcamp, es esencial familiarizarse con estos métodos, ya que pueden facilitar considerablemente tu proceso de codigo.\n",
    "\n",
    "Para obtener una visión más completa de los métodos para string, no dudes en consultar la [documentación de Python](https://docs.python.org/3/library/stdtypes.html#string-methods). Yo siempre uso Google :)\n"
   ]
  },
  {
   "cell_type": "code",
   "execution_count": null,
   "metadata": {},
   "outputs": [],
   "source": [
    "sample_string = \"this is a string\""
   ]
  },
  {
   "cell_type": "markdown",
   "metadata": {},
   "source": [
    "- `capitalize` Devuelve una copia de la cadena con su primer carácter en mayúsculas y el resto en minúsculas. Es ideal para cuando queremos que una oración o título comience con un toque más formal. ¡Probémoslo con el ejemplo!"
   ]
  },
  {
   "cell_type": "code",
   "execution_count": null,
   "metadata": {},
   "outputs": [],
   "source": [
    "sample_string.capitalize()"
   ]
  },
  {
   "cell_type": "markdown",
   "metadata": {},
   "source": [
    "- `upper` Nos devuelve una copia de la cadena pero con todos los caracteres en mayúsculas. Es perfecto para destacar algo con fuerza o simplemente para igualar el formato de diferentes textos. ¡Vamos a ponerlo a prueba con una cadena que tenemos por aquí!"
   ]
  },
  {
   "cell_type": "code",
   "execution_count": null,
   "metadata": {},
   "outputs": [],
   "source": [
    "sample_string.upper()"
   ]
  },
  {
   "cell_type": "code",
   "execution_count": null,
   "metadata": {
    "scrolled": true
   },
   "outputs": [],
   "source": [
    "# También podemos comprobar si el string está en formato upper (letras mayúsculas)\n",
    "sample_string.upper().isupper()"
   ]
  },
  {
   "cell_type": "markdown",
   "metadata": {},
   "source": [
    "- `lower` Te devuelve una copia de la string pero con todos los caracteres en minúsculas. Este método es genial para cuando queremos mantener la uniformidad en nuestro texto o simplemente para evitar \"GRITAR\" en una conversación digital. ¡Veamos cómo funciona con un ejemplo práctico!"
   ]
  },
  {
   "cell_type": "code",
   "execution_count": null,
   "metadata": {},
   "outputs": [],
   "source": [
    "sample_string.lower()"
   ]
  },
  {
   "cell_type": "code",
   "execution_count": null,
   "metadata": {
    "scrolled": false
   },
   "outputs": [],
   "source": [
    "sample_string.lower().islower()"
   ]
  },
  {
   "cell_type": "markdown",
   "metadata": {},
   "source": [
    "- `swapcase` Este método es como el intercambio de ropas en una fiesta de disfraces: convierte todos los caracteres en mayúsculas a minúsculas y viceversa en la string. Es especialmente útil si queremos invertir la capitalización de un string de texto rápidamente. ¡Probémoslo con un ejemplo!"
   ]
  },
  {
   "cell_type": "code",
   "execution_count": null,
   "metadata": {},
   "outputs": [],
   "source": [
    "sample_string.swapcase()"
   ]
  },
  {
   "cell_type": "markdown",
   "metadata": {},
   "source": [
    "- `title` Este método devuelve una versión de la string donde cada palabra comienza con un carácter en mayúscula, y el resto de los caracteres están en minúscula. Es como si convirtiera la string en un título de un libro o una película, otorgándole un aspecto más formal y cuidado. ¡Vamos a ver cómo funciona con un ejemplo práctico!"
   ]
  },
  {
   "cell_type": "code",
   "execution_count": null,
   "metadata": {},
   "outputs": [],
   "source": [
    "sample_string.title()"
   ]
  },
  {
   "cell_type": "markdown",
   "metadata": {},
   "source": [
    "- `join(iterable)`Este método devuelve una string que es la concatenación de las strings en el iterable. Cabe señalar que se generará un TypeError si hay valores no string en el iterable, incluidos los objetos bytes. El separador entre los elementos es la string proporcionada por este método. Es una forma efectiva de unir múltiples strings en una sola, utilizando un separador específico que define la propia string. ¡Observemos cómo lo podemos utilizar con algunos ejemplos!"
   ]
  },
  {
   "cell_type": "code",
   "execution_count": 68,
   "metadata": {},
   "outputs": [
    {
     "data": {
      "text/plain": [
       "'Santi 🥸 Clara 🥸 Laura 🥸 Albert'"
      ]
     },
     "execution_count": 68,
     "metadata": {},
     "output_type": "execute_result"
    }
   ],
   "source": [
    "# Nuevo ejemplo\n",
    "list_of_strings = [\"Santi\", \"Clara\", \"Laura\", \"Albert\"]\n",
    "\" 🥸 \".join(list_of_strings)"
   ]
  },
  {
   "cell_type": "markdown",
   "metadata": {},
   "source": [
    "- `startswith` Este método devuelve `True` si la string comienza con el prefijo especificado; de lo contrario, devuelve `False`. Es interesante mencionar que el prefijo también puede ser una tupla de prefijos para buscar. Además, cuenta con dos parámetros opcionales: `start`, que permite especificar desde qué posición de la string empezar a comprobar, y `end`, que indica dónde detener la comprobación. Veamos algunos ejemplos para entender mejor su funcionamiento:\n"
   ]
  },
  {
   "cell_type": "code",
   "execution_count": null,
   "metadata": {},
   "outputs": [],
   "source": [
    "number = \"3434567\""
   ]
  },
  {
   "cell_type": "code",
   "execution_count": null,
   "metadata": {},
   "outputs": [],
   "source": [
    "number.startswith(\"+\")"
   ]
  },
  {
   "cell_type": "code",
   "execution_count": null,
   "metadata": {},
   "outputs": [],
   "source": [
    "number.startswith(\"34\")"
   ]
  },
  {
   "cell_type": "markdown",
   "metadata": {},
   "source": [
    "- `endswith` Este método funciona de manera similar al método `startswith`, pero en este caso verifica si la string termina con el sufijo especificado. Si es así, devuelve `True`; de lo contrario, devuelve `False`. Al igual que `startswith`, este método permite especificar los parámetros opcionales `start` y `end` para definir el rango de la string donde realizar la comprobación. A continuación, te presentamos algunos ejemplos para ilustrar cómo funciona:"
   ]
  },
  {
   "cell_type": "code",
   "execution_count": null,
   "metadata": {},
   "outputs": [],
   "source": [
    "number.endswith(\"67\")"
   ]
  },
  {
   "cell_type": "markdown",
   "metadata": {},
   "source": [
    "- `str.lstrip([chars])` Este método retorna una copia de la string original pero sin los caracteres especificados en el argumento `chars` que se encuentren al inicio de la misma. Si no se especifica ningún argumento (o sea, se omite o no hay ninguno presente), se eliminarán los espacios en blanco por defecto. Es importante tener en cuenta que el argumento `chars` no actúa como un prefijo; en lugar de ello, elimina todas las combinaciones posibles de los valores que se encuentren dentro de él. Aquí te mostramos algunos ejemplos para entender mejor cómo funciona este método:"
   ]
  },
  {
   "cell_type": "code",
   "execution_count": null,
   "metadata": {},
   "outputs": [],
   "source": [
    "# Definimos una string con algunos espacios y caracteres al inicio\n",
    "cadena_original = \"   ##Este es un ejemplo.\"\n",
    "\n",
    "# Usamos el método lstrip para remover los espacios en blanco al inicio\n",
    "cadena_modificada = cadena_original.lstrip()\n",
    "print(cadena_modificada)\n",
    "# Salida: \"##Este es un ejemplo.\""
   ]
  },
  {
   "cell_type": "code",
   "execution_count": null,
   "metadata": {},
   "outputs": [],
   "source": [
    "# También podemos utilizar lstrip para remover otros caracteres especificando un argumento\n",
    "cadena_modificada2 = cadena_original.lstrip(\" #\")\n",
    "print(cadena_modificada2)\n",
    "# Salida: \"Este es un ejemplo.\""
   ]
  },
  {
   "cell_type": "markdown",
   "metadata": {},
   "source": [
    "- `lstrip` El método `lstrip` en Python es utilizado para eliminar caracteres no deseados que se encuentran al principio de una string. Puedes usarlo de dos maneras: sin argumentos, lo que eliminará todos los espacios en blanco al inicio de la string; o con un conjunto de caracteres específicos como argumento (indicados entre paréntesis), lo que eliminará todas las instancias de esos caracteres que encuentre al principio de la string.\n",
    "\n",
    "- `rstrip` De forma análoga, el método `rstrip` se utiliza para eliminar caracteres al final de una string. Funciona de la misma manera que `lstrip`, pero afecta al final de la string en lugar del principio. Si no se especifica ningún conjunto de caracteres, eliminará todos los espacios en blanco que se encuentren al final de la string.\n",
    "\n",
    "- `replace` El método `replace` es utilizado para reemplazar todas las ocurrencias de una subcadena específica (`old`) por una nueva subcadena (`new`). Puedes usarlo de dos maneras: sin el argumento opcional `count`, lo que reemplazará todas las ocurrencias encontradas en la string; o especificando el argumento `count`, lo que limitará el número de reemplazos a la cantidad indicada. Este método devuelve una copia de la string original con las sustituciones realizadas, dejando la string original intacta."
   ]
  },
  {
   "cell_type": "code",
   "execution_count": null,
   "metadata": {},
   "outputs": [],
   "source": [
    "cadena_original.replace(\"#\", \"\")"
   ]
  },
  {
   "cell_type": "markdown",
   "metadata": {},
   "source": [
    "- `split` El método `split` se utiliza para dividir una string en una lista de palabras basándose en un delimitador especificado (el parámetro `sep`). Si no se especifica ningún delimitador (o se establece como `None`), se utilizarán espacios en blanco (espacios, tabulaciones, nuevas líneas, etc.) como delimitadores predeterminados. Este método es especialmente útil cuando deseas descomponer una string en componentes más pequeños para realizar operaciones adicionales o análisis en cada fragmento individual."
   ]
  },
  {
   "cell_type": "code",
   "execution_count": null,
   "metadata": {},
   "outputs": [],
   "source": [
    "sentence = \"Hello my name is Santo\"\n",
    "sentence.split(\" \")"
   ]
  },
  {
   "cell_type": "code",
   "execution_count": null,
   "metadata": {},
   "outputs": [],
   "source": [
    "sentence.split(\"e\")"
   ]
  },
  {
   "cell_type": "markdown",
   "metadata": {
    "lang": "en"
   },
   "source": [
    "## Data structures\n",
    "\n",
    "En Python, disponemos de cuatro estructuras principales para almacenar colecciones de datos, cada una con sus propias características y utilidades. Estas estructuras nos facilitan la organización y manipulación de los datos de una manera más eficiente. A continuación, te presentamos las cuatro estructuras de datos fundamentales en Python:\n",
    "\n",
    "- **Listas (Lists)**: Colecciones ordenadas y modificables que pueden almacenar una variedad de tipos de datos, incluyendo otras listas. **usamos -> []**\n",
    "- **Tuplas (Tuples)**: Colecciones ordenadas e inmutables, similares a las listas, pero que no pueden ser modificadas una vez creadas. **usamos -> ()**\n",
    "- **Conjuntos (Sets)**: Colecciones desordenadas y sin índices, que no permiten elementos duplicados, lo que las hace ideales para almacenar conjuntos únicos de datos. **usamos -> {}**\n",
    "- **Diccionarios (Dictionaries)**: Colecciones desordenadas, modificables e indexadas, donde los datos se almacenan en pares clave-valor, facilitando la organización y recuperación de información compleja. **usamos -> {key:values, key2:value2}**\n",
    "\n",
    "A lo largo de esta sección, exploraremos cada una de estas estructuras de datos en detalle, descubriendo cómo pueden ayudarnos a trabajar con datos de manera más efectiva en Python."
   ]
  },
  {
   "cell_type": "markdown",
   "metadata": {},
   "source": [
    "### Lists\n",
    "Las listas en Python son estructuras de datos que pueden contener diferentes tipos de datos, desde números hasta cadenas de texto, e incluso otras listas. Esto las convierte en herramientas extremadamente versátiles y útiles en la programación. Los elementos en una lista están ordenados y tienen un índice específico, lo que nos permite acceder, modificar, añadir o eliminar elementos de manera sencilla. A continuación, presentamos varios ejemplos de listas junto con la sintaxis para acceder a los datos dentro de ellas."
   ]
  },
  {
   "cell_type": "code",
   "execution_count": 69,
   "metadata": {},
   "outputs": [],
   "source": [
    "# 1. Lista de números enteros\n",
    "numeros = [1, 2, 3, 4, 5]\n",
    "\n",
    "# 2. Lista de cadenas de texto (strings)\n",
    "frutas = [\"manzana\", \"banana\", \"cereza\"]\n",
    "\n",
    "# 3. Lista mixta (conteniendo diferentes tipos de datos)\n",
    "mixta = [1, \"Hola\", 3.14, True]\n",
    "\n",
    "# 4. Lista anidada (una lista dentro de otra lista)\n",
    "anidada = [[1, 2, 3], [\"a\", \"b\", \"c\"]]"
   ]
  },
  {
   "cell_type": "code",
   "execution_count": 70,
   "metadata": {},
   "outputs": [
    {
     "data": {
      "text/plain": [
       "1"
      ]
     },
     "execution_count": 70,
     "metadata": {},
     "output_type": "execute_result"
    }
   ],
   "source": [
    "# Acceder a los datos dentro de una lista\n",
    "# Accediendo al primer elemento de la lista de números\n",
    "numeros[0]"
   ]
  },
  {
   "cell_type": "code",
   "execution_count": 71,
   "metadata": {},
   "outputs": [
    {
     "data": {
      "text/plain": [
       "'cereza'"
      ]
     },
     "execution_count": 71,
     "metadata": {},
     "output_type": "execute_result"
    }
   ],
   "source": [
    "# Accediendo al último elemento de la lista de frutas\n",
    "frutas[-1]"
   ]
  },
  {
   "cell_type": "code",
   "execution_count": 72,
   "metadata": {},
   "outputs": [
    {
     "data": {
      "text/plain": [
       "'c'"
      ]
     },
     "execution_count": 72,
     "metadata": {},
     "output_type": "execute_result"
    }
   ],
   "source": [
    "# Accediendo a un elemento de una lista dentro de otra lista (lista anidada)\n",
    "anidada[1][2]"
   ]
  },
  {
   "cell_type": "code",
   "execution_count": 5,
   "metadata": {},
   "outputs": [
    {
     "data": {
      "text/plain": [
       "4"
      ]
     },
     "execution_count": 5,
     "metadata": {},
     "output_type": "execute_result"
    }
   ],
   "source": [
    "# Para saber el tamaño de una lista\n",
    "len(mixta)"
   ]
  },
  {
   "cell_type": "markdown",
   "metadata": {
    "lang": "en"
   },
   "source": [
    "#### list methods\n",
    "\n",
    "A continuación, describiremos algunos de los métodos más comunes que puedes utilizar para manipular listas. Además, te invitamos a consultar la [documentación oficial](https://docs.python.org/3/tutorial/datastructures.html) para una guía completa de todos los métodos disponibles.\n",
    "\n",
    "Existen varios métodos que facilitan la gestión de las listas, aquí te presentamos algunos de los más utilizados:"
   ]
  },
  {
   "cell_type": "markdown",
   "metadata": {},
   "source": [
    "- `append()`: Añade un elemento al final de la lista."
   ]
  },
  {
   "cell_type": "code",
   "execution_count": 6,
   "metadata": {},
   "outputs": [
    {
     "name": "stdout",
     "output_type": "stream",
     "text": [
      "['A']\n"
     ]
    }
   ],
   "source": [
    "# 1. append()\n",
    "lista = []\n",
    "lista.append('A')\n",
    "print(lista) "
   ]
  },
  {
   "cell_type": "markdown",
   "metadata": {},
   "source": [
    "- `extend()`: Extiende la lista agregando todos los elementos de la lista dada."
   ]
  },
  {
   "cell_type": "code",
   "execution_count": 7,
   "metadata": {},
   "outputs": [
    {
     "name": "stdout",
     "output_type": "stream",
     "text": [
      "[1, 2, 3, 4, 5, 6]\n"
     ]
    }
   ],
   "source": [
    "# 2. extend()\n",
    "lista1 = [1, 2, 3]\n",
    "lista2 = [4, 5, 6]\n",
    "lista1.extend(lista2)\n",
    "print(lista1) "
   ]
  },
  {
   "cell_type": "markdown",
   "metadata": {},
   "source": [
    "- `insert()`: Inserta un elemento en la lista en el índice especificado."
   ]
  },
  {
   "cell_type": "code",
   "execution_count": 8,
   "metadata": {},
   "outputs": [
    {
     "name": "stdout",
     "output_type": "stream",
     "text": [
      "[1, 'B', 2, 3]\n"
     ]
    }
   ],
   "source": [
    "# 3. insert()\n",
    "lista = [1, 2, 3]\n",
    "lista.insert(1, 'B')\n",
    "print(lista)"
   ]
  },
  {
   "cell_type": "markdown",
   "metadata": {},
   "source": [
    "- `remove()`: Elimina el primer elemento de la lista cuyo valor sea igual al valor especificado."
   ]
  },
  {
   "cell_type": "code",
   "execution_count": 9,
   "metadata": {},
   "outputs": [
    {
     "name": "stdout",
     "output_type": "stream",
     "text": [
      "[1, 3, 2]\n"
     ]
    }
   ],
   "source": [
    "# 4. remove()\n",
    "lista = [1, 2, 3, 2]\n",
    "lista.remove(2)\n",
    "print(lista) "
   ]
  },
  {
   "cell_type": "markdown",
   "metadata": {},
   "source": [
    "- `pop()`: Elimina el elemento en la posición dada de la lista, y lo devuelve."
   ]
  },
  {
   "cell_type": "code",
   "execution_count": 10,
   "metadata": {},
   "outputs": [
    {
     "name": "stdout",
     "output_type": "stream",
     "text": [
      "[1, 3]\n"
     ]
    }
   ],
   "source": [
    "# 5. pop()\n",
    "lista = [1, 2, 3]\n",
    "lista.pop(1)\n",
    "print(lista)"
   ]
  },
  {
   "cell_type": "markdown",
   "metadata": {},
   "source": [
    "- `clear()`: Elimina todos los elementos de la lista."
   ]
  },
  {
   "cell_type": "code",
   "execution_count": 11,
   "metadata": {},
   "outputs": [
    {
     "name": "stdout",
     "output_type": "stream",
     "text": [
      "[]\n"
     ]
    }
   ],
   "source": [
    "# 6. clear()\n",
    "lista = [1, 2, 3]\n",
    "lista.clear()\n",
    "print(lista)"
   ]
  },
  {
   "cell_type": "markdown",
   "metadata": {},
   "source": [
    "- `index()`: Devuelve el índice del primer elemento con el valor especificado."
   ]
  },
  {
   "cell_type": "code",
   "execution_count": 12,
   "metadata": {},
   "outputs": [
    {
     "name": "stdout",
     "output_type": "stream",
     "text": [
      "1\n"
     ]
    }
   ],
   "source": [
    "# 7. index()\n",
    "lista = [1, 2, 3, 2]\n",
    "print(lista.index(2))"
   ]
  },
  {
   "cell_type": "markdown",
   "metadata": {},
   "source": [
    "- `count()`: Devuelve el número de veces que el valor especificado aparece en la lista."
   ]
  },
  {
   "cell_type": "code",
   "execution_count": 13,
   "metadata": {},
   "outputs": [
    {
     "name": "stdout",
     "output_type": "stream",
     "text": [
      "2\n"
     ]
    }
   ],
   "source": [
    "# 8. count()\n",
    "lista = [1, 2, 3, 2]\n",
    "print(lista.count(2))"
   ]
  },
  {
   "cell_type": "markdown",
   "metadata": {},
   "source": [
    "- `sort()`: Ordena los elementos de la lista."
   ]
  },
  {
   "cell_type": "code",
   "execution_count": 14,
   "metadata": {},
   "outputs": [
    {
     "name": "stdout",
     "output_type": "stream",
     "text": [
      "[1, 2, 3]\n"
     ]
    }
   ],
   "source": [
    "# 9. sort()\n",
    "lista = [3, 1, 2]\n",
    "lista.sort()\n",
    "print(lista)"
   ]
  },
  {
   "cell_type": "markdown",
   "metadata": {},
   "source": [
    "-  `reverse()`: Invierte el orden de los elementos de la lista."
   ]
  },
  {
   "cell_type": "code",
   "execution_count": 15,
   "metadata": {},
   "outputs": [
    {
     "name": "stdout",
     "output_type": "stream",
     "text": [
      "[3, 2, 1]\n"
     ]
    }
   ],
   "source": [
    "# 10. reverse()\n",
    "lista = [1, 2, 3]\n",
    "lista.reverse()\n",
    "print(lista)"
   ]
  },
  {
   "cell_type": "markdown",
   "metadata": {},
   "source": [
    "- `copy()`: Devuelve una copia de la lista."
   ]
  },
  {
   "cell_type": "code",
   "execution_count": 74,
   "metadata": {},
   "outputs": [
    {
     "name": "stdout",
     "output_type": "stream",
     "text": [
      "[1, 2, 3]\n"
     ]
    }
   ],
   "source": [
    "# 11. copy()\n",
    "lista1 = [1, 2, 3]\n",
    "# lista2 = lista1.copy()\n",
    "lista2 = lista1\n",
    "print(lista2) "
   ]
  },
  {
   "cell_type": "markdown",
   "metadata": {},
   "source": [
    "**Slicing y Start, Stop, Step en Listas**\n",
    "\n",
    "El \"slicing\", no es un método como tal, pero nos permite jugar con los elementos de las listas y sus posiciones. Esencialmente, nos permite seleccionar una \"rebanada\" de la lista utilizando tres parámetros: inicio (start), fin (stop) y paso (step). La sintaxis para esto es `lista[start:stop:step]`, donde:\n",
    "\n",
    "- **start**: representa el índice del primer elemento que queremos incluir en nuestra selección. Es importante recordar que los índices en Python comienzan en 0.\n",
    "- **stop**: representa el índice del primer elemento que NO queremos incluir en nuestra selección. La selección incluirá elementos hasta el índice `stop`-1.\n",
    "- **step**: define el incremento entre los índices seleccionados. Si se omite, el valor predeterminado será 1, lo que significa que se seleccionarán todos los elementos desde `start` hasta `stop`-1.\n",
    "\n",
    "A continuación, veremos ejemplos prácticos de cómo utilizar estos parámetros para seleccionar diferentes segmentos de una lista en Python."
   ]
  },
  {
   "cell_type": "code",
   "execution_count": 17,
   "metadata": {},
   "outputs": [
    {
     "name": "stdout",
     "output_type": "stream",
     "text": [
      "['Carla', 'David', 'Elena', 'Fernando']\n"
     ]
    }
   ],
   "source": [
    "nombres = [\"Ana\", \"Beto\", \"Carla\", \"David\", \"Elena\", \"Fernando\"]\n",
    "\n",
    "# Seleccionar elementos desde el índice 2 hasta el final\n",
    "print(nombres[2:])"
   ]
  },
  {
   "cell_type": "code",
   "execution_count": 18,
   "metadata": {},
   "outputs": [
    {
     "name": "stdout",
     "output_type": "stream",
     "text": [
      "['Elena', 'Fernando']\n"
     ]
    }
   ],
   "source": [
    "# Seleccionar elementos desde el índice 4 hasta el final\n",
    "print(nombres[4:])"
   ]
  },
  {
   "cell_type": "code",
   "execution_count": 19,
   "metadata": {},
   "outputs": [
    {
     "name": "stdout",
     "output_type": "stream",
     "text": [
      "['Fernando', 'Elena', 'David', 'Carla', 'Beto', 'Ana']\n"
     ]
    }
   ],
   "source": [
    "# Invertir el orden de los elementos en la lista\n",
    "print(nombres[::-1])"
   ]
  },
  {
   "cell_type": "code",
   "execution_count": 20,
   "metadata": {
    "scrolled": true
   },
   "outputs": [
    {
     "name": "stdout",
     "output_type": "stream",
     "text": [
      "[0, 2, 4, 6, 8]\n"
     ]
    }
   ],
   "source": [
    "lista_numeros = [0, 1, 2, 3, 4, 5, 6, 7, 8, 9, 10]\n",
    "\n",
    "# Seleccionar elementos desde el índice 0 hasta el 10, saltando 2 elementos cada vez\n",
    "print(lista_numeros[0:10:2])"
   ]
  },
  {
   "cell_type": "markdown",
   "metadata": {},
   "source": [
    "**Ejercicio: Trabajando con Listas**\n",
    "\n",
    "1. Crea una lista llamada `meses` que contenga los nombres de todos los meses del año.\n",
    "2. Utiliza el método `append` para añadir un elemento extra en la lista que sea \"Fin de año\".\n",
    "3. Utiliza el método `remove` para eliminar este último elemento que has añadido.\n",
    "4. Usando `slicing`, crea una nueva lista que contenga solo los meses del segundo trimestre (abril, mayo y junio).\n",
    "5. Usa el método `reverse` para invertir el orden de los elementos en la lista original de meses.\n",
    "6. Encuentra el método apropiado para ordenar la lista de meses en orden alfabético y aplícalo.\n",
    "7. Utiliza el método `index` para encontrar la posición de tu mes de nacimiento en la lista ordenada alfabéticamente.\n",
    "\n",
    "**Extra**:\n",
    "\n",
    "- Crea una lista de listas, donde cada sublista contenga los meses de cada trimestre.\n",
    "- Utiliza un bucle `for` para imprimir cada mes de cada trimestre, formateando la salida de la siguiente manera: \"El {número de mes}° mes del año es {nombre del mes}\".\n",
    "\n",
    "Recuerda revisar la [documentación de Python](https://docs.python.org/3/tutorial/datastructures.html#more-on-lists) o usar la función `help()` para obtener detalles sobre cómo usar cada uno de los métodos de la lista."
   ]
  },
  {
   "cell_type": "code",
   "execution_count": 30,
   "metadata": {},
   "outputs": [
    {
     "name": "stdout",
     "output_type": "stream",
     "text": [
      "['Enero', 'Febrero', 'Marzo', 'Abril', 'Mayo', 'Junio', 'Julio', 'Agosto', 'Septiembre', 'Octubre', 'Noviembre', 'Diciembre']\n",
      "['Enero', 'Febrero', 'Marzo', 'Abril', 'Mayo', 'Junio', 'Julio', 'Agosto', 'Septiembre', 'Octubre', 'Noviembre', 'Diciembre', 'Fin de año']\n",
      "['Enero', 'Febrero', 'Marzo', 'Abril', 'Mayo', 'Junio', 'Julio', 'Agosto', 'Septiembre', 'Octubre', 'Noviembre', 'Diciembre']\n"
     ]
    }
   ],
   "source": [
    "meses = [\"Enero\", \"Febrero\", \"Marzo\", \"Abril\", \"Mayo\", \"Junio\",\"Julio\", \"Agosto\", \"Septiembre\", \"Octubre\", \"Noviembre\", \"Diciembre\"]\n",
    "print(meses)\n",
    "meses.append('Fin de año')\n",
    "print(meses)\n",
    "meses.remove('Fin de año')\n",
    "print(meses)\n"
   ]
  },
  {
   "cell_type": "markdown",
   "metadata": {},
   "source": [
    "### Tuples\n",
    "\n",
    "Las tuplas son una estructura de datos muy similar a las listas, con la principal diferencia de que son inmutables. Lo que significa que no puedes cambiar los elementos de una tupla una vez que ha sido creada. A pesar de esta característica, las tuplas son bastante flexibles y pueden almacenar diferentes tipos de datos, incluyendo otros contenedores como listas o diccionarios. Al igual que las listas, las tuplas permiten la indexación y el desempaquetado, facilitando así el acceso y la manipulación de los datos contenidos en ellas.\n",
    "\n",
    "Las tuplas se definen utilizando paréntesis `()` y los elementos se separan por comas. Vamos a explorar algunos ejemplos y métodos asociados con las tuplas."
   ]
  },
  {
   "cell_type": "code",
   "execution_count": 75,
   "metadata": {},
   "outputs": [],
   "source": [
    "# Crear una tupla\n",
    "mi_tupla = (1, 2, 3, \"Hola\", True)"
   ]
  },
  {
   "cell_type": "code",
   "execution_count": 32,
   "metadata": {},
   "outputs": [
    {
     "data": {
      "text/plain": [
       "1"
      ]
     },
     "execution_count": 32,
     "metadata": {},
     "output_type": "execute_result"
    }
   ],
   "source": [
    "# Acceder a elementos de una tupla\n",
    "mi_tupla[0]"
   ]
  },
  {
   "cell_type": "code",
   "execution_count": 33,
   "metadata": {},
   "outputs": [
    {
     "data": {
      "text/plain": [
       "True"
      ]
     },
     "execution_count": 33,
     "metadata": {},
     "output_type": "execute_result"
    }
   ],
   "source": [
    "# Acceder al ultimo elemento\n",
    "mi_tupla[-1]"
   ]
  },
  {
   "cell_type": "code",
   "execution_count": 77,
   "metadata": {},
   "outputs": [
    {
     "data": {
      "text/plain": [
       "3"
      ]
     },
     "execution_count": 77,
     "metadata": {},
     "output_type": "execute_result"
    }
   ],
   "source": [
    "# Desempaquetar una tupla\n",
    "a, b, c, d, e = mi_tupla\n",
    "c\n",
    "# mi_tupla\n"
   ]
  },
  {
   "cell_type": "code",
   "execution_count": 36,
   "metadata": {},
   "outputs": [
    {
     "data": {
      "text/plain": [
       "1"
      ]
     },
     "execution_count": 36,
     "metadata": {},
     "output_type": "execute_result"
    }
   ],
   "source": [
    "# Métodos disponibles en una tupla\n",
    "# Contar la cantidad de veces que aparece un elemento\n",
    "mi_tupla.count(2)"
   ]
  },
  {
   "cell_type": "code",
   "execution_count": 37,
   "metadata": {},
   "outputs": [
    {
     "data": {
      "text/plain": [
       "3"
      ]
     },
     "execution_count": 37,
     "metadata": {},
     "output_type": "execute_result"
    }
   ],
   "source": [
    "# Encontrar el índice de un elemento\n",
    "mi_tupla.index(\"Hola\")"
   ]
  },
  {
   "cell_type": "code",
   "execution_count": 38,
   "metadata": {},
   "outputs": [
    {
     "name": "stdout",
     "output_type": "stream",
     "text": [
      "Error: 'tuple' object does not support item assignment\n",
      "(1, 2, 3, 'Hola', True)\n"
     ]
    }
   ],
   "source": [
    "# Intentando modificar un elemento de la tupla (esto generará un error, porque las tuplas son inmutables)\n",
    "try:\n",
    "    mi_tupla[1] = 10\n",
    "except TypeError as e:\n",
    "    print(f\"Error: {e}\")\n",
    "\n",
    "# Mostrando que la tupla no ha cambiado\n",
    "print(mi_tupla)"
   ]
  },
  {
   "cell_type": "markdown",
   "metadata": {},
   "source": [
    "**Métodos de las Tuplas**: Las tuplas, a diferencia de las listas, son inmutables, lo que significa que no podemos agregar, modificar o eliminar elementos una vez que la tupla ha sido definida. Sin embargo, las tuplas cuentan con varios métodos que pueden resultar muy útiles. A continuación, te presento algunos de ellos:"
   ]
  },
  {
   "cell_type": "markdown",
   "metadata": {},
   "source": [
    "- `tuple.index(x)`: Este método devuelve el índice del primer elemento igual a x."
   ]
  },
  {
   "cell_type": "code",
   "execution_count": 39,
   "metadata": {},
   "outputs": [
    {
     "name": "stdout",
     "output_type": "stream",
     "text": [
      "El índice del primer elemento igual a 3 es: 2\n"
     ]
    }
   ],
   "source": [
    "# Creación de una tupla\n",
    "mi_tupla = (1, 2, 3, 4, 3, 2, 1)\n",
    "\n",
    "# Uso del método index\n",
    "indice = mi_tupla.index(3)\n",
    "print(f\"El índice del primer elemento igual a 3 es: {indice}\")"
   ]
  },
  {
   "cell_type": "markdown",
   "metadata": {},
   "source": [
    "- `tuple.count(x)`: Este método cuenta el número de veces que x aparece en la tupla."
   ]
  },
  {
   "cell_type": "code",
   "execution_count": 40,
   "metadata": {},
   "outputs": [
    {
     "name": "stdout",
     "output_type": "stream",
     "text": [
      "El número 2 aparece 2 veces en la tupla\n"
     ]
    }
   ],
   "source": [
    "# Uso del método count\n",
    "conteo = mi_tupla.count(2)\n",
    "print(f\"El número 2 aparece {conteo} veces en la tupla\")"
   ]
  },
  {
   "cell_type": "markdown",
   "metadata": {},
   "source": [
    "- `tuple.__len__()`: Este método devuelve la longitud de la tupla."
   ]
  },
  {
   "cell_type": "code",
   "execution_count": 78,
   "metadata": {},
   "outputs": [
    {
     "name": "stdout",
     "output_type": "stream",
     "text": [
      "La longitud de la tupla es: 5\n"
     ]
    }
   ],
   "source": [
    "# Uso del método len para obtener la longitud\n",
    "longitud = len(mi_tupla)\n",
    "print(f\"La longitud de la tupla es: {longitud}\")"
   ]
  },
  {
   "cell_type": "markdown",
   "metadata": {},
   "source": [
    "- `tuple.__contains__(x)`: Este método verifica si un elemento x está presente en la tupla."
   ]
  },
  {
   "cell_type": "code",
   "execution_count": 42,
   "metadata": {},
   "outputs": [
    {
     "name": "stdout",
     "output_type": "stream",
     "text": [
      "El número 5 no está en la tupla.\n"
     ]
    }
   ],
   "source": [
    "# Verificar si un elemento está en la tupla\n",
    "if 5 in mi_tupla:\n",
    "    print(\"El número 5 está en la tupla.\")\n",
    "else:\n",
    "    print(\"El número 5 no está en la tupla.\")"
   ]
  },
  {
   "cell_type": "markdown",
   "metadata": {},
   "source": [
    "- `tuple.__getitem__(i)`: Este método permite acceder a un elemento de la tupla mediante su índice i."
   ]
  },
  {
   "cell_type": "code",
   "execution_count": 43,
   "metadata": {},
   "outputs": [
    {
     "name": "stdout",
     "output_type": "stream",
     "text": [
      "El elemento en el índice 3 es: 4\n"
     ]
    }
   ],
   "source": [
    "# Acceder a un elemento por índice\n",
    "elemento = mi_tupla[3]\n",
    "print(f\"El elemento en el índice 3 es: {elemento}\")"
   ]
  },
  {
   "cell_type": "markdown",
   "metadata": {},
   "source": [
    "- `tuple.__reversed__()`: Este método devuelve una versión invertida de la tupla."
   ]
  },
  {
   "cell_type": "code",
   "execution_count": 46,
   "metadata": {},
   "outputs": [
    {
     "name": "stdout",
     "output_type": "stream",
     "text": [
      "Tupla invertida: (1, 2, 3, 4, 3, 2, 1)\n"
     ]
    }
   ],
   "source": [
    "# Obtener una versión invertida de la tupla\n",
    "tupla_invertida = tuple(reversed(mi_tupla))\n",
    "print(f\"Tupla invertida: {tupla_invertida}\")"
   ]
  },
  {
   "cell_type": "markdown",
   "metadata": {},
   "source": [
    "Puedes aprender más sobre los métodos de tuplas en la [documentación oficial](https://docs.python.org/3/tutorial/datastructures.html#tuples-and-sequences)."
   ]
  },
  {
   "cell_type": "markdown",
   "metadata": {
    "lang": "en"
   },
   "source": [
    "### sets\n",
    "\n",
    "En Python, un conjunto (set) es una colección desordenada de elementos únicos. A diferencia de las listas y las tuplas, los conjuntos no permiten elementos duplicados. Los conjuntos son útiles cuando necesitas almacenar elementos en los que el orden no es importante y quieres asegurarte de que no haya duplicados.\n",
    "\n",
    "Los conjuntos se definen utilizando llaves `{}` o la función `set()`, y los elementos se separan por comas. A lo largo de esta sección, exploraremos cómo trabajar con conjuntos en Python y algunos de los métodos disponibles para ellos.\n"
   ]
  },
  {
   "cell_type": "code",
   "execution_count": 80,
   "metadata": {},
   "outputs": [
    {
     "data": {
      "text/plain": [
       "{1, 2, 3, 4, 5}"
      ]
     },
     "execution_count": 80,
     "metadata": {},
     "output_type": "execute_result"
    }
   ],
   "source": [
    "# Creación de un conjunto\n",
    "# mi_conjunto = {1, 2, 3, 4, 5}\n",
    "\n",
    "mi_conjunto = {i for i in range(1,6)}\n",
    "mi_conjunto"
   ]
  },
  {
   "cell_type": "code",
   "execution_count": 48,
   "metadata": {},
   "outputs": [
    {
     "name": "stdout",
     "output_type": "stream",
     "text": [
      "{1, 2, 3, 4, 5}\n"
     ]
    }
   ],
   "source": [
    "# Mostrar el conjunto\n",
    "print(mi_conjunto) "
   ]
  },
  {
   "cell_type": "code",
   "execution_count": 85,
   "metadata": {
    "scrolled": true
   },
   "outputs": [
    {
     "name": "stdout",
     "output_type": "stream",
     "text": [
      "(1, 2, 3, 3, 4, 5)\n",
      "2\n"
     ]
    }
   ],
   "source": [
    "# Los conjuntos no permiten elementos duplicados\n",
    "mi_conjunto = (1, 2, 3, 3, 4, 5)\n",
    "print(mi_conjunto)  # Salida: {1, 2, 3, 4, 5}\n",
    "\n",
    "print(mi_conjunto[1])"
   ]
  },
  {
   "cell_type": "markdown",
   "metadata": {},
   "source": [
    "El constructor `set()` en Python se utiliza para crear un conjunto vacío o para convertir otros objetos iterables (como listas o tuplas) en conjuntos. Aquí tienes algunos ejemplos de cómo funciona:"
   ]
  },
  {
   "cell_type": "code",
   "execution_count": null,
   "metadata": {},
   "outputs": [],
   "source": [
    "# También puedes crear un conjunto vacío con set()\n",
    "conjunto_vacio = set()\n",
    "print(conjunto_vacio)  # Salida: set()"
   ]
  },
  {
   "cell_type": "code",
   "execution_count": null,
   "metadata": {},
   "outputs": [],
   "source": [
    "# Convertir una lista en un conjunto:\n",
    "mi_lista = [1, 2, 2, 3, 4, 4]\n",
    "mi_conjunto = set(mi_lista)\n",
    "print(mi_conjunto)  # Salida: {1, 2, 3, 4}"
   ]
  },
  {
   "cell_type": "code",
   "execution_count": null,
   "metadata": {},
   "outputs": [],
   "source": [
    "# Convertir una tupla en un conjunto:\n",
    "mi_tupla = (1, 2, 3, 3, 4, 5)\n",
    "mi_conjunto = set(mi_tupla)\n",
    "print(mi_conjunto)  # Salida: {1, 2, 3, 4, 5}"
   ]
  },
  {
   "cell_type": "markdown",
   "metadata": {},
   "source": [
    "**Operaciones de Conjunto en Python**: Los conjuntos (sets) en Python no solo son útiles para almacenar elementos únicos, sino que también permiten realizar diversas operaciones de conjunto, como la unión, la intersección y la diferencia. Estas operaciones son muy útiles para trabajar con conjuntos de datos y realizar análisis.\n",
    "\n",
    "A continuación, exploraremos tres de las operaciones de conjunto más comunes en Python: la unión, la intersección y la diferencia. A través de ejemplos prácticos, veremos cómo realizar estas operaciones y cómo pueden ser beneficiosas en diferentes situaciones.\n",
    "\n",
    "![sets are venn diagrams](https://mathworld.wolfram.com/images/eps-svg/VennDiagram_900.svg)"
   ]
  },
  {
   "cell_type": "code",
   "execution_count": 50,
   "metadata": {},
   "outputs": [],
   "source": [
    "# Operaciones de conjunto: unión, intersección y diferencia\n",
    "conjunto1 = {1, 2, 3, 4, 5}\n",
    "conjunto2 = {3, 4, 5, 6, 7}"
   ]
  },
  {
   "cell_type": "code",
   "execution_count": 51,
   "metadata": {},
   "outputs": [
    {
     "name": "stdout",
     "output_type": "stream",
     "text": [
      "{1, 2, 3, 4, 5, 6, 7}\n"
     ]
    }
   ],
   "source": [
    "# Unión\n",
    "union = conjunto1 | conjunto2\n",
    "print(union)"
   ]
  },
  {
   "cell_type": "code",
   "execution_count": 52,
   "metadata": {},
   "outputs": [
    {
     "name": "stdout",
     "output_type": "stream",
     "text": [
      "{3, 4, 5}\n"
     ]
    }
   ],
   "source": [
    "# Intersección\n",
    "interseccion = conjunto1 & conjunto2\n",
    "print(interseccion)"
   ]
  },
  {
   "cell_type": "code",
   "execution_count": 53,
   "metadata": {},
   "outputs": [
    {
     "name": "stdout",
     "output_type": "stream",
     "text": [
      "{1, 2}\n"
     ]
    }
   ],
   "source": [
    "# Diferencia\n",
    "diferencia = conjunto1 - conjunto2\n",
    "print(diferencia)  # Salida: {1, 2}"
   ]
  },
  {
   "cell_type": "markdown",
   "metadata": {},
   "source": [
    "**Métodos Disponibles para Conjuntos en Python** :En Python, los conjuntos (sets) son una estructura de datos útil que proporciona una serie de métodos incorporados para realizar operaciones y manipulaciones. Aquí hay algunos de los métodos más comunes que puedes utilizar con conjuntos:\n",
    "\n",
    "- `add(elemento)`: Agrega un elemento al conjunto."
   ]
  },
  {
   "cell_type": "code",
   "execution_count": null,
   "metadata": {},
   "outputs": [],
   "source": [
    "mi_conjunto = {1, 2, 3}\n",
    "mi_conjunto.add(4)\n",
    "print(mi_conjunto)"
   ]
  },
  {
   "cell_type": "markdown",
   "metadata": {},
   "source": [
    "- `remove(elemento)`: Elimina un elemento específico del conjunto. Genera un error si el elemento no está presente."
   ]
  },
  {
   "cell_type": "code",
   "execution_count": null,
   "metadata": {},
   "outputs": [],
   "source": [
    "mi_conjunto = {1, 2, 3}\n",
    "mi_conjunto.remove(2)\n",
    "print(mi_conjunto)"
   ]
  },
  {
   "cell_type": "markdown",
   "metadata": {},
   "source": [
    "- `discard(elemento)`: Elimina un elemento del conjunto si está presente, pero no genera un error si el elemento no existe."
   ]
  },
  {
   "cell_type": "code",
   "execution_count": null,
   "metadata": {},
   "outputs": [],
   "source": [
    "mi_conjunto = {1, 2, 3}\n",
    "mi_conjunto.discard(4)\n",
    "print(mi_conjunto)"
   ]
  },
  {
   "cell_type": "markdown",
   "metadata": {},
   "source": [
    "- `pop()`: Elimina y devuelve un elemento aleatorio del conjunto."
   ]
  },
  {
   "cell_type": "code",
   "execution_count": null,
   "metadata": {},
   "outputs": [],
   "source": [
    "mi_conjunto = {1, 2, 3}\n",
    "elemento = mi_conjunto.pop()\n",
    "print(elemento)"
   ]
  },
  {
   "cell_type": "markdown",
   "metadata": {},
   "source": [
    "-`clear()`: Elimina todos los elementos del conjunto, dejándolo vacío."
   ]
  },
  {
   "cell_type": "code",
   "execution_count": null,
   "metadata": {},
   "outputs": [],
   "source": [
    "mi_conjunto = {1, 2, 3}\n",
    "mi_conjunto.clear()\n",
    "print(mi_conjunto)"
   ]
  },
  {
   "cell_type": "markdown",
   "metadata": {},
   "source": [
    "- `union(otro_conjunto)`: Devuelve un nuevo conjunto que es la unión de dos conjuntos."
   ]
  },
  {
   "cell_type": "code",
   "execution_count": null,
   "metadata": {},
   "outputs": [],
   "source": [
    "conjunto1 = {1, 2, 3}\n",
    "conjunto2 = {3, 4, 5}\n",
    "union = conjunto1.union(conjunto2)\n",
    "print(union)"
   ]
  },
  {
   "cell_type": "markdown",
   "metadata": {},
   "source": [
    "- `intersection(otro_conjunto)`: Devuelve un nuevo conjunto que es la intersección de dos conjuntos."
   ]
  },
  {
   "cell_type": "code",
   "execution_count": null,
   "metadata": {},
   "outputs": [],
   "source": [
    "conjunto1 = {1, 2, 3}\n",
    "conjunto2 = {3, 4, 5}\n",
    "interseccion = conjunto1.intersection(conjunto2)\n",
    "print(interseccion)"
   ]
  },
  {
   "cell_type": "markdown",
   "metadata": {},
   "source": [
    "- `difference(otro_conjunto)`: Devuelve un nuevo conjunto que es la diferencia entre dos conjuntos."
   ]
  },
  {
   "cell_type": "code",
   "execution_count": null,
   "metadata": {},
   "outputs": [],
   "source": [
    "conjunto1 = {1, 2, 3}\n",
    "conjunto2 = {3, 4, 5}\n",
    "diferencia = conjunto1.difference(conjunto2)\n",
    "print(diferencia)"
   ]
  },
  {
   "cell_type": "markdown",
   "metadata": {},
   "source": [
    "- `issubset(otro_conjunto)`: Verifica si el conjunto es un subconjunto de otro conjunto."
   ]
  },
  {
   "cell_type": "code",
   "execution_count": null,
   "metadata": {},
   "outputs": [],
   "source": [
    "conjunto1 = {1, 2}\n",
    "conjunto2 = {1, 2, 3, 4}\n",
    "es_subconjunto = conjunto1.issubset(conjunto2)\n",
    "print(es_subconjunto)"
   ]
  },
  {
   "cell_type": "markdown",
   "metadata": {},
   "source": [
    "- `issuperset(otro_conjunto)`: Verifica si el conjunto es un superconjunto de otro conjunto."
   ]
  },
  {
   "cell_type": "code",
   "execution_count": null,
   "metadata": {},
   "outputs": [],
   "source": [
    "conjunto1 = {1, 2, 3, 4}\n",
    "conjunto2 = {1, 2}\n",
    "es_superconjunto = conjunto1.issuperset(conjunto2)\n",
    "print(es_superconjunto)  # Salida: True\n"
   ]
  },
  {
   "cell_type": "markdown",
   "metadata": {},
   "source": [
    "Estos son solo algunos de los métodos disponibles para trabajar con conjuntos en Python. Puedes utilizarlos para realizar una variedad de operaciones y manipulaciones en tus datos."
   ]
  },
  {
   "cell_type": "markdown",
   "metadata": {
    "lang": "en"
   },
   "source": [
    "### Dictionaries\n",
    "\n",
    "En Python, los diccionarios son una estructura de datos que permite almacenar pares clave-valor. Cada elemento en un diccionario consiste en una clave única asociada a un valor correspondiente. Los diccionarios son extremadamente flexibles y versátiles, y se utilizan para representar datos estructurados en forma de tabla de búsqueda.\n",
    "\n",
    "En un diccionario:\n",
    "- Las claves son únicas y no pueden repetirse.\n",
    "- Los valores pueden ser de cualquier tipo de datos, como enteros, cadenas, listas u otros diccionarios.\n",
    "- Los diccionarios son desordenados, lo que significa que no mantienen un orden específico de los elementos.\n",
    "\n",
    "Los diccionarios se definen utilizando llaves `{}` y cada par clave-valor se separa con `:`. Por ejemplo:"
   ]
  },
  {
   "cell_type": "code",
   "execution_count": 86,
   "metadata": {},
   "outputs": [
    {
     "data": {
      "text/plain": [
       "{'nombre': 'Juan',\n",
       " 'edad': 22,\n",
       " 'asignaturas': ['Matemáticas', 'Ciencias', 'Lengua']}"
      ]
     },
     "execution_count": 86,
     "metadata": {},
     "output_type": "execute_result"
    }
   ],
   "source": [
    "# Creación de un diccionario\n",
    "informacion_estudiante = {\n",
    "    \"nombre\": \"Juan\",\n",
    "    \"edad\": 22,\n",
    "    \"asignaturas\": [\"Matemáticas\", \"Ciencias\", \"Lengua\"],\n",
    "}\n",
    "informacion_estudiante"
   ]
  },
  {
   "cell_type": "code",
   "execution_count": 88,
   "metadata": {},
   "outputs": [
    {
     "name": "stdout",
     "output_type": "stream",
     "text": [
      "Juan Ciencias\n"
     ]
    }
   ],
   "source": [
    "# Accediendo a elementos en el diccionario\n",
    "# print(informacion_estudiante[\"nombre\"])\n",
    "# print(informacion_estudiante[\"asignaturas\"])\n",
    "\n",
    "print(informacion_estudiante[\"nombre\"], informacion_estudiante[\"asignaturas\"][1])\n"
   ]
  },
  {
   "cell_type": "code",
   "execution_count": 56,
   "metadata": {},
   "outputs": [
    {
     "data": {
      "text/plain": [
       "{'nombre': 'Juan',\n",
       " 'edad': 23,\n",
       " 'asignaturas': ['Matemáticas', 'Ciencias', 'Lengua']}"
      ]
     },
     "execution_count": 56,
     "metadata": {},
     "output_type": "execute_result"
    }
   ],
   "source": [
    "# Modificando un valor en el diccionario\n",
    "informacion_estudiante[\"edad\"] = 23\n",
    "informacion_estudiante"
   ]
  },
  {
   "cell_type": "code",
   "execution_count": 57,
   "metadata": {},
   "outputs": [
    {
     "data": {
      "text/plain": [
       "{'nombre': 'Juan',\n",
       " 'edad': 23,\n",
       " 'asignaturas': ['Matemáticas', 'Ciencias', 'Lengua'],\n",
       " 'graduacion': 2023}"
      ]
     },
     "execution_count": 57,
     "metadata": {},
     "output_type": "execute_result"
    }
   ],
   "source": [
    "# Añadiendo un nuevo par clave-valor al diccionario\n",
    "informacion_estudiante[\"graduacion\"] = 2023\n",
    "informacion_estudiante"
   ]
  },
  {
   "cell_type": "code",
   "execution_count": 58,
   "metadata": {},
   "outputs": [
    {
     "data": {
      "text/plain": [
       "{'nombre': 'Juan', 'edad': 23, 'graduacion': 2023}"
      ]
     },
     "execution_count": 58,
     "metadata": {},
     "output_type": "execute_result"
    }
   ],
   "source": [
    "# Eliminando un par clave-valor del diccionario\n",
    "del informacion_estudiante[\"asignaturas\"]\n",
    "informacion_estudiante"
   ]
  },
  {
   "cell_type": "markdown",
   "metadata": {},
   "source": [
    "- El método `get()` se utiliza para obtener el valor asociado con una clave específica en el diccionario. Si la clave no existe, devuelve un valor predeterminado opcional."
   ]
  },
  {
   "cell_type": "code",
   "execution_count": 94,
   "metadata": {
    "scrolled": true
   },
   "outputs": [
    {
     "name": "stdout",
     "output_type": "stream",
     "text": [
      "Ana\n"
     ]
    }
   ],
   "source": [
    "clave = str(input(\"Ingrese el texto a buscar\"))\n",
    "\n",
    "diccionario = {'nombre': 'Ana', 'edad': 25}\n",
    "# valor1 = diccionario.get(clave)\n",
    "# valor2 = diccionario[\"nombre\"]\n",
    "# print(valor1)\n",
    "# print(valor2)\n",
    "\n",
    "print(diccionario.get(clave))\n"
   ]
  },
  {
   "cell_type": "markdown",
   "metadata": {},
   "source": [
    "- El método `keys()` devuelve una vista de todas las claves presentes en el diccionario."
   ]
  },
  {
   "cell_type": "code",
   "execution_count": 60,
   "metadata": {},
   "outputs": [
    {
     "name": "stdout",
     "output_type": "stream",
     "text": [
      "dict_keys(['nombre', 'edad'])\n"
     ]
    }
   ],
   "source": [
    "diccionario = {'nombre': 'Ana', 'edad': 25}\n",
    "claves = diccionario.keys()\n",
    "print(claves)"
   ]
  },
  {
   "cell_type": "markdown",
   "metadata": {},
   "source": [
    "- El método `values()` devuelve una vista de todos los valores presentes en el diccionario."
   ]
  },
  {
   "cell_type": "code",
   "execution_count": 61,
   "metadata": {},
   "outputs": [
    {
     "name": "stdout",
     "output_type": "stream",
     "text": [
      "dict_values(['Ana', 25])\n"
     ]
    }
   ],
   "source": [
    "diccionario = {'nombre': 'Ana', 'edad': 25}\n",
    "valores = diccionario.values()\n",
    "print(valores)"
   ]
  },
  {
   "cell_type": "markdown",
   "metadata": {},
   "source": [
    "- El método `items()` devuelve una vista de todos los pares clave-valor presentes en el diccionario."
   ]
  },
  {
   "cell_type": "code",
   "execution_count": 62,
   "metadata": {},
   "outputs": [
    {
     "name": "stdout",
     "output_type": "stream",
     "text": [
      "dict_items([('nombre', 'Ana'), ('edad', 25)])\n"
     ]
    }
   ],
   "source": [
    "diccionario = {'nombre': 'Ana', 'edad': 25}\n",
    "items = diccionario.items()\n",
    "print(items)"
   ]
  },
  {
   "cell_type": "markdown",
   "metadata": {},
   "source": [
    "- El método `update()` se utiliza para actualizar el diccionario con los pares clave-valor de otro diccionario o con pares clave-valor especificados.\n",
    "\n"
   ]
  },
  {
   "cell_type": "code",
   "execution_count": 63,
   "metadata": {},
   "outputs": [
    {
     "name": "stdout",
     "output_type": "stream",
     "text": [
      "{'nombre': 'Ana', 'edad': 26}\n"
     ]
    }
   ],
   "source": [
    "diccionario = {'nombre': 'Ana', 'edad': 25}\n",
    "diccionario.update({'edad': 26})\n",
    "print(diccionario)"
   ]
  },
  {
   "cell_type": "markdown",
   "metadata": {},
   "source": [
    "Puedes leer más sobre estos y otros métodos de diccionarios en la [documentación oficial de Python](https://docs.python.org/3/library/stdtypes.html#dict)."
   ]
  },
  {
   "cell_type": "markdown",
   "metadata": {},
   "source": [
    "## Comparativa de Estructuras de Datos en Python\n",
    "\n",
    "En Python, tienes varias estructuras de datos disponibles para almacenar y manipular información. A continuación, haremos una comparativa entre las listas, las tuplas, los conjuntos y los diccionarios, destacando sus diferencias y cuándo es apropiado usar cada uno:\n",
    "\n",
    "### Listas (Lists):\n",
    "- **Uso**: Utiliza una lista cuando necesites una colección ordenada y mutable de elementos.\n",
    "- **Sintaxis**: Se definen con corchetes `[]`.\n",
    "- **Características Principales**:\n",
    "  - Pueden contener elementos de diferentes tipos.\n",
    "  - Los elementos se pueden cambiar (mutable).\n",
    "  - Se accede a los elementos por índice.\n",
    "  - Pueden contener duplicados.\n",
    "\n",
    "### Tuplas (Tuples):\n",
    "- **Uso**: Utiliza una tupla cuando necesites una colección ordenada e inmutable de elementos.\n",
    "- **Sintaxis**: Se definen con paréntesis `()`.\n",
    "- **Características Principales**:\n",
    "  - Pueden contener elementos de diferentes tipos.\n",
    "  - Los elementos no se pueden cambiar (inmutable).\n",
    "  - Se accede a los elementos por índice.\n",
    "  - Pueden contener duplicados.\n",
    "\n",
    "### Conjuntos (Sets):\n",
    "- **Uso**: Utiliza un conjunto cuando necesites una colección no ordenada y no duplicada de elementos.\n",
    "- **Sintaxis**: Se definen con llaves `{}`.\n",
    "- **Características Principales**:\n",
    "  - Contienen elementos únicos (sin duplicados).\n",
    "  - No son indexables ni ordenados.\n",
    "  - Son útiles para realizar operaciones de conjunto como unión e intersección.\n",
    "\n",
    "### Diccionarios (Dictionaries):\n",
    "- **Uso**: Utiliza un diccionario cuando necesites una colección de pares clave-valor.\n",
    "- **Sintaxis**: Se definen con llaves `{}` y cada par clave-valor se separa por `:`. Ejemplo: `{\"clave\": valor}`.\n",
    "- **Características Principales**:\n",
    "  - Almacenan datos en forma de pares clave-valor.\n",
    "  - Las claves son únicas y no pueden duplicarse.\n",
    "  - Los valores pueden ser de cualquier tipo.\n",
    "  - Son eficientes para búsquedas basadas en claves."
   ]
  },
  {
   "cell_type": "markdown",
   "metadata": {},
   "source": [
    "## Ejercicio final"
   ]
  },
  {
   "cell_type": "markdown",
   "metadata": {},
   "source": [
    "Vas a crear un programa que simule un sistema de inventario simple para una tienda. Deberás utilizar variables, tipos de datos, operaciones básicas, listas, tuplas, conjuntos, diccionarios, métodos de cadenas, y operaciones de conjuntos para desarrollar este programa. Aquí están las tareas específicas que debes realizar:\n",
    "\n",
    "Tareas\n",
    "\n",
    "- **Paso 1**: Crea un diccionario que represente el inventario de la tienda. El diccionario debe contener productos como claves y tuplas como valores, donde cada tupla contiene la cantidad de unidades disponibles y el precio por unidad. Por ejemplo:"
   ]
  },
  {
   "cell_type": "code",
   "execution_count": null,
   "metadata": {},
   "outputs": [],
   "source": [
    "# Ejemplo\n",
    "inventario = {\n",
    "    \"Producto A\": (30, 20.50),\n",
    "    \"Producto B\": (20, 30.00)\n",
    "}"
   ]
  },
  {
   "cell_type": "markdown",
   "metadata": {},
   "source": [
    "- **Paso 2**: Usa la función input() para solicitar al usuario que introduzca el nombre de un producto, la cantidad de unidades vendidas y el precio de venta. Utiliza un metodo string para el input().\n",
    "\n",
    "- **Paso 3:** Usa operaciones básicas para actualizar el inventario después de una venta, y calcula el total de ingresos generados por la venta.\n",
    "\n",
    "- **Paso 4:** Utiliza métodos string para formatear y mostrar un recibo de venta que incluya el nombre del producto, la cantidad vendida, el precio por unidad y el total de la venta.\n",
    "\n",
    "- **Paso 5:** Crea una lista que contenga los nombres de todos los productos en el inventario y utiliza operaciones de conjuntos para identificar cualquier producto nuevo que no estaba previamente en el inventario.\n",
    "\n",
    "**Instrucciones Adicionales**:\n",
    "\n",
    "- Utiliza comentarios para documentar tu código de forma clara.\n",
    "- Asegúrate de que tu programa puede manejar múltiples tipos de datos (como strings y números) e implementa conversiones de tipos cuando sea necesario.\n",
    "- Trata de incorporar al menos un ejemplo de cada uno de los métodos de cadenas mencionados en la sección de resumen."
   ]
  },
  {
   "cell_type": "code",
   "execution_count": 110,
   "metadata": {},
   "outputs": [],
   "source": [
    "# Paso 1\n",
    "\n",
    "inventario = {\"Manzana\": (30, 20.50),\"Pera\": (20, 30.00),\"Uva\": (25, 35.00),\"Banana\" : (45, 35)}\n",
    "\n",
    "# Paso 2\n",
    "\n",
    "i = True\n",
    "\n",
    "while True:\n",
    "    i = str(input(\"¿Quieres agregar un producto a tu inventario? Si/No\"))\n",
    "    if i == \"Si\":\n",
    "        item = str(input(\"Ingresa el nombre del producto\"))\n",
    "        inventario[item] = (int(input(\"Ingresa la cantidad de unidades vendidas\")),float(input(\"Ingresa el precio de venta\")))\n",
    "\n",
    "    elif i == \"No\":\n",
    "        break\n",
    "\n",
    "# item = str(input(\"Ingresa el nombre del producto\"))\n",
    "# inventario[item] = (int(input(\"Ingresa la cantidad de unidades vendidas\")),float(input(\"Ingresa el precio de venta\")))\n",
    "\n",
    "\n",
    "\n",
    "\n",
    "\n",
    "\n"
   ]
  },
  {
   "cell_type": "code",
   "execution_count": 111,
   "metadata": {},
   "outputs": [
    {
     "name": "stdout",
     "output_type": "stream",
     "text": [
      "{'Manzana': (30, 20.5), 'Pera': (20, 30.0), 'Uva': (25, 35.0), 'Banana': (45, 35), 'Kiwi': (21, 25.3), 'Hoja': (12, 365.2), 'poo': (25, 3.2)}\n"
     ]
    }
   ],
   "source": [
    "print(inventario)"
   ]
  },
  {
   "cell_type": "code",
   "execution_count": 96,
   "metadata": {},
   "outputs": [
    {
     "data": {
      "text/plain": [
       "{'color': 'green', 'points': 5, 'x': 0, 'y': 25, 'speed': 1.5}"
      ]
     },
     "execution_count": 96,
     "metadata": {},
     "output_type": "execute_result"
    }
   ],
   "source": [
    "alien_0 = {'color': 'green', 'points': 5}\n",
    "alien_0['x'] = 0\n",
    "alien_0['y'] = 25\n",
    "alien_0['speed'] = 1.5\n",
    "alien_0"
   ]
  },
  {
   "cell_type": "code",
   "execution_count": null,
   "metadata": {},
   "outputs": [],
   "source": [
    "# PASO 1: Crear un diccionario que represente el inventario inicial de la tienda\n",
    "# Cada clave es un nombre de producto y cada valor es una lista que contiene la \n",
    "# cantidad de unidades disponibles y el precio por unidad.\n",
    "inventario = {\n",
    "    \"Producto A\": [30, 20.50],\n",
    "    \"Producto B\": [20, 30.00]\n",
    "}\n",
    "\n",
    "# PASO 2: Solicitar al usuario que introduzca los detalles de la venta\n",
    "# Utilizamos el método title() para asegurar que la primera letra de cada palabra en el nombre del producto esté en mayúscula.\n",
    "nombre_producto = input(\"Por favor, introduce el nombre del producto: \").title()\n",
    "# Convertimos la entrada de la cantidad vendida a un entero.\n",
    "cantidad_vendida = int(input(\"Por favor, introduce la cantidad de unidades vendidas: \"))\n",
    "\n",
    "\n",
    "# PASO 3: Actualizar el inventario después de una venta y calcular los ingresos generados por la venta\n",
    "# Obtenemos el precio por unidad del producto del inventario.\n",
    "precio_venta = inventario[nombre_producto][1]\n",
    "\n",
    "# Ajustamos la cantidad de unidades disponibles.\n",
    "inventario[nombre_producto][0] = inventario[nombre_producto][0] - cantidad_vendida\n",
    "\n",
    "# Calculamos el total de ingresos generados por la venta.\n",
    "ingresos_generados = cantidad_vendida * precio_venta\n",
    "\n",
    "# PASO 4: Formatear y mostrar un recibo de venta\n",
    "# Creamos un recibo formateado con los detalles de la venta.\n",
    "recibo = f\"\"\"\n",
    "Recibo de Venta\n",
    "Producto: {nombre_producto}\n",
    "Cantidad Vendida: {cantidad_vendida}\n",
    "Precio por Unidad: €{precio_venta:.2f}\n",
    "Total Venta: €{ingresos_generados:.2f}\n",
    "\"\"\"\n",
    "\n",
    "# Mostramos el recibo.\n",
    "print(recibo)\n",
    "\n",
    "# PASO 5: Crear una lista con los nombres de todos los productos en el inventario y identificar productos nuevos\n",
    "# Creamos una lista con los nombres de todos los productos en el inventario.\n",
    "lista_productos = list(inventario.keys())\n",
    "\n",
    "# Mostramos el inventario actualizado.\n",
    "print(\"Inventario actualizado:\", inventario)"
   ]
  },
  {
   "cell_type": "markdown",
   "metadata": {
    "lang": "en"
   },
   "source": [
    "## Summary\n",
    "\n",
    "En este cuaderno de Jupyter, hemos explorado los conceptos fundamentales de Python para principiantes. Aquí hay un resumen de lo que hemos aprendido:\n",
    "\n",
    "#### Variables y Tipos de Datos\n",
    "- Aprendimos cómo declarar variables y explorar tipos de datos como enteros, flotantes, cadenas y booleanos.\n",
    "- Conocimos las conversiones de tipos implícitas y explícitas.\n",
    "\n",
    "#### Operaciones Básicas\n",
    "- Realizamos operaciones aritméticas básicas como suma, resta, multiplicación, división y módulo.\n",
    "- Comprendimos la diferencia entre la división normal y la división entera.\n",
    "\n",
    "#### Entrada y Salida de Datos\n",
    "- Utilizamos `input()` para recibir datos del usuario y `print()` para mostrar información en la consola.\n",
    "\n",
    "#### Listas, Tuplas y Conjuntos\n",
    "- Exploramos listas, tuplas y conjuntos como estructuras de datos para almacenar colecciones de elementos.\n",
    "- Aprendimos a acceder a elementos dentro de estas estructuras y a realizar operaciones comunes.\n",
    "\n",
    "#### Diccionarios\n",
    "- Introducimos los diccionarios como estructuras de datos clave-valor y cómo usarlos para almacenar y recuperar información relacionada.\n",
    "\n",
    "#### Operaciones de Conjuntos\n",
    "- Aprendimos sobre operaciones de conjuntos como unión, intersección y diferencia.\n",
    "\n",
    "#### Métodos string\n",
    "- Exploramos varios métodos para manipular cadenas de texto, incluyendo `capitalize()`, `upper()`, `lower()`, `swapcase()`, `title()`, `join()`, `startswith()`, `endswith()`, `lstrip()`, `rstrip()`, `replace()`, y `split()`.\n",
    "\n",
    "Este cuaderno proporciona una base sólida para principiantes en Python y servirá como referencia útil a medida que continúes aprendiendo y trabajando con el lenguaje."
   ]
  }
 ],
 "metadata": {
  "kernelspec": {
   "display_name": "Python 3 (ipykernel)",
   "language": "python",
   "name": "python3"
  },
  "language_info": {
   "codemirror_mode": {
    "name": "ipython",
    "version": 3
   },
   "file_extension": ".py",
   "mimetype": "text/x-python",
   "name": "python",
   "nbconvert_exporter": "python",
   "pygments_lexer": "ipython3",
   "version": "3.12.4"
  },
  "nbTranslate": {
   "displayLangs": [
    "en",
    "es"
   ],
   "hotkey": "alt-a",
   "langInMainMenu": true,
   "sourceLang": "es",
   "targetLang": "en",
   "useGoogleTranslate": true
  },
  "toc": {
   "base_numbering": 1,
   "nav_menu": {},
   "number_sections": true,
   "sideBar": true,
   "skip_h1_title": true,
   "title_cell": "Table of Contents",
   "title_sidebar": "Contents",
   "toc_cell": true,
   "toc_position": {
    "height": "calc(100% - 180px)",
    "left": "10px",
    "top": "150px",
    "width": "222.891px"
   },
   "toc_section_display": true,
   "toc_window_display": false
  },
  "varInspector": {
   "cols": {
    "lenName": 16,
    "lenType": 16,
    "lenVar": 40
   },
   "kernels_config": {
    "python": {
     "delete_cmd_postfix": "",
     "delete_cmd_prefix": "del ",
     "library": "var_list.py",
     "varRefreshCmd": "print(var_dic_list())"
    },
    "r": {
     "delete_cmd_postfix": ") ",
     "delete_cmd_prefix": "rm(",
     "library": "var_list.r",
     "varRefreshCmd": "cat(var_dic_list()) "
    }
   },
   "types_to_exclude": [
    "module",
    "function",
    "builtin_function_or_method",
    "instance",
    "_Feature"
   ],
   "window_display": false
  }
 },
 "nbformat": 4,
 "nbformat_minor": 4
}
