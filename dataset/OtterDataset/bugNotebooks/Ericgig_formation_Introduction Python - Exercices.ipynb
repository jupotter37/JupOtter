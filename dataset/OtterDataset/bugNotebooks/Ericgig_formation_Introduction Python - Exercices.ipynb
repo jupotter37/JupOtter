{
 "cells": [
  {
   "cell_type": "code",
   "execution_count": null,
   "metadata": {
    "collapsed": true
   },
   "outputs": [],
   "source": [
    "import numpy\n",
    "import glob\n",
    "import matplotlib"
   ]
  },
  {
   "cell_type": "markdown",
   "metadata": {},
   "source": [
    "## Variable"
   ]
  },
  {
   "cell_type": "code",
   "execution_count": null,
   "metadata": {},
   "outputs": [],
   "source": [
    "# 1 Échange de valeur\n",
    "a = 1\n",
    "b = 2\n",
    "a,b = b,a\n",
    "#Que vallent a et b maintenant?"
   ]
  },
  {
   "cell_type": "code",
   "execution_count": null,
   "metadata": {
    "collapsed": true
   },
   "outputs": [],
   "source": [
    "# 2 Slicing avec des indices négatives\n",
    "atome = \"Oxygène\"\n",
    "# Que donne atome[-3], atome[:-3], atome[-3:]?"
   ]
  },
  {
   "cell_type": "code",
   "execution_count": null,
   "metadata": {
    "collapsed": true
   },
   "outputs": [],
   "source": [
    "# 3 Slicing \n",
    "primes = [2, 3, 5, 7, 11, 13, 17, 19, 23, 29, 31, 37]\n",
    "# Si primes[0:12:3] = [2, 7, 17, 29]\n",
    "# et primes[2:12:3] = [5, 13, 23, 37]\n",
    "\n",
    "# Comment obtenir \"I notpssgre ntesae\" à partir de\n",
    "beatles = \"In an octopus's garden in the shade\""
   ]
  },
  {
   "cell_type": "code",
   "execution_count": null,
   "metadata": {
    "collapsed": true
   },
   "outputs": [],
   "source": [
    "# 4 différence entre list et array\n",
    "une_liste = list(range(5))\n",
    "un_array = numpy.arange(5)\n",
    "\n",
    "# Quel est la différence entre ces 2 types de données pour les \n",
    "# opérations mathematique?\n",
    "# une_liste + une_liste?  une_liste*2?\n",
    "\n"
   ]
  },
  {
   "cell_type": "markdown",
   "metadata": {},
   "source": [
    "## Boucle"
   ]
  },
  {
   "cell_type": "code",
   "execution_count": null,
   "metadata": {
    "collapsed": true
   },
   "outputs": [],
   "source": [
    "# 1 Utilisez \"range\" pour créer une loop qui écire 1,2,3\n",
    "\n",
    "print(list(range(5)))\n",
    "print(list(range(2,6)))\n",
    "print(list(range(0,10,2)))\n",
    "\n",
    "for i in range(???):\n",
    "    print(i)"
   ]
  },
  {
   "cell_type": "code",
   "execution_count": null,
   "metadata": {
    "collapsed": true
   },
   "outputs": [],
   "source": [
    "# 2 Utilisez une loop pour tranformer un mot en list\n",
    "# \"Hello\" -> ['H','e','l','l','o']\n",
    "\n",
    "mot = \"python\"\n",
    "list_mot = []\n",
    "for lettre in mot:\n",
    "    list_mot ??? lettre ???\n",
    "print(list_mot)"
   ]
  },
  {
   "cell_type": "code",
   "execution_count": null,
   "metadata": {
    "collapsed": true
   },
   "outputs": [],
   "source": [
    "# 3 Créez une loop qui inverse un mot\n",
    "# python -> nohtyp\n",
    "# indice \"a\" + \"b\"\n",
    "\n",
    "mot = \"python\"\n",
    "reverse = \"\"\n",
    "for lettre in mot:\n",
    "    reverse ??? lettre ???\n",
    "print(reverse)"
   ]
  },
  {
   "cell_type": "code",
   "execution_count": null,
   "metadata": {
    "collapsed": true
   },
   "outputs": [],
   "source": [
    "# 4 Calcul de puissanse\n",
    "# Caluler 5^3 avec une loop (sans **)\n",
    "\n",
    "print(5**3)\n",
    "power = ???\n",
    "for i in ???:\n",
    "    power = ??? * 5\n",
    "print(power)"
   ]
  },
  {
   "cell_type": "code",
   "execution_count": null,
   "metadata": {
    "collapsed": true
   },
   "outputs": [],
   "source": [
    "# 4 Calcul de polynomial\n",
    "# y = cc[0] * x**0 + cc[1] * x**1 + cc[2] * x**2 \n",
    "\n",
    "# a)\n",
    "x = 5\n",
    "cc = [2, 4, 3]\n",
    "\n",
    "# b)\n",
    "# x = 5\n",
    "# cc = [2, 4, 3, 1, 5, 7]\n",
    "\n",
    "poly = 0\n",
    "for i in ???:\n",
    "    poly += ???\n",
    "print(poly)"
   ]
  },
  {
   "cell_type": "code",
   "execution_count": null,
   "metadata": {
    "collapsed": true
   },
   "outputs": [],
   "source": [
    "# 5 Calcul de factorial\n",
    "# 5! = 1 * 2 * 3 * 4 * 5\n",
    "\n",
    "N = 5 # -> 120\n",
    "N = 10 # -> 3628800"
   ]
  },
  {
   "cell_type": "code",
   "execution_count": null,
   "metadata": {
    "collapsed": true
   },
   "outputs": [],
   "source": [
    "# 6 Calcul de Fibonacci\n",
    "# 0 1 1 2 3 5 8 13 21 34 55\n",
    "# F(N) = F(N-1) + F(N-2)\n",
    "# F(0) = 0\n",
    "# F(1) = 1\n",
    "\n",
    "N = 5 # -> 5\n",
    "N = 10 # -> 55"
   ]
  },
  {
   "cell_type": "markdown",
   "metadata": {
    "collapsed": true
   },
   "source": [
    "## Analyzing Data from Multiple Files"
   ]
  },
  {
   "cell_type": "code",
   "execution_count": null,
   "metadata": {
    "collapsed": true
   },
   "outputs": [],
   "source": [
    "# 1 Faites les graphiques des statistique de tous les 720 patients"
   ]
  },
  {
   "cell_type": "markdown",
   "metadata": {
    "collapsed": true
   },
   "source": [
    "## Making Choices"
   ]
  },
  {
   "cell_type": "code",
   "execution_count": null,
   "metadata": {
    "collapsed": true
   },
   "outputs": [],
   "source": [
    "# 1 Es-ce vrai?\n",
    "if True: \n",
    "    print('True')\n",
    "0\n",
    "1\n",
    "2\n",
    "None\n",
    "[]\n",
    "[0]\n",
    "[False]\n",
    "\"\"\n",
    "\"False\"\n",
    "not True\n",
    "not not True\n",
    "# Bonus: faire un test avec une loop"
   ]
  },
  {
   "cell_type": "code",
   "execution_count": null,
   "metadata": {
    "collapsed": true
   },
   "outputs": [],
   "source": [
    "# 2 Close Enough\n",
    "# Faire une condition qui donne vrai si a et b sont = à 10% près\n",
    "\n",
    "# A = 40, B = 80, -> False\n",
    "# A = 90, B = 90, -> True\n",
    "# A = 69, B = 70, -> True\n",
    "# A = 45, B = 51, -> False\n",
    "# A = 46, B = 50, -> True\n",
    "\n",
    "A = 40\n",
    "B = 80\n",
    "\n",
    "if ???:\n",
    "    print(\"True\")\n",
    "else:\n",
    "    print(\"False\")"
   ]
  },
  {
   "cell_type": "code",
   "execution_count": null,
   "metadata": {
    "collapsed": true
   },
   "outputs": [],
   "source": [
    "# 3 Combien y a-t'il de voyelles et consonnes dans \"The Zen of Python\"\n",
    "# hint: \"a\" in \"aiueo\" -> True\n",
    "# avoir les 2 valeurs dans une boucle\n",
    "\n",
    "#The Zen of Python, by Tim Peters\n",
    "\n",
    "Zen = \\\n",
    "\"\"\"Beautiful is better than ugly.\n",
    "Explicit is better than implicit.\n",
    "Simple is better than complex.\n",
    "Complex is better than complicated.\n",
    "Flat is better than nested.\n",
    "Sparse is better than dense.\n",
    "Readability counts.\n",
    "Special cases aren't special enough to break the rules.\n",
    "Although practicality beats purity.\n",
    "Errors should never pass silently.\n",
    "Unless explicitly silenced.\n",
    "In the face of ambiguity, refuse the temptation to guess.\n",
    "There should be one-- and preferably only one --obvious way to do it.\n",
    "Although that way may not be obvious at first unless you're Dutch.\n",
    "Now is better than never.\n",
    "Although never is often better than *right* now.\n",
    "If the implementation is hard to explain, it's a bad idea.\n",
    "If the implementation is easy to explain, it may be a good idea.\n",
    "Namespaces are one honking great idea -- let's do more of those!\"\"\"\n",
    "\n"
   ]
  },
  {
   "cell_type": "markdown",
   "metadata": {
    "collapsed": true
   },
   "source": [
    "## Creating Functions"
   ]
  },
  {
   "cell_type": "code",
   "execution_count": null,
   "metadata": {},
   "outputs": [],
   "source": [
    "# 1 Choix multiple\n",
    "\n",
    "# 1.1 Code:\n",
    "f = 0\n",
    "k = 0\n",
    "\n",
    "def f2k(f):\n",
    "    k = ((f-32)*(5.0/9.0)) + 273.15\n",
    "    return k\n",
    "\n",
    "f2k(8)\n",
    "f2k(41)\n",
    "f2k(32)\n",
    "\n",
    "# Que donne print(k)\n",
    "\n",
    "#a 259.81666666666666\n",
    "#b 287.15\n",
    "#c 273.15\n",
    "#d 0\n",
    "\n",
    "# 1.2 Code:\n",
    "a = 3\n",
    "b = 7\n",
    "\n",
    "def swap(a, b):\n",
    "    temp = a\n",
    "    a = b\n",
    "    b = temp\n",
    "\n",
    "swap(a, b)\n",
    "\n",
    "#print(a, b) ?\n",
    "#a 7 3\n",
    "#b 3 7\n",
    "#c 3 3\n",
    "#d 7 7\n",
    "\n",
    "# 1.3 Code:\n",
    "def numbers(one, two=2, three, four=4):\n",
    "    n = str(one) + str(two) + str(three) + str(four)\n",
    "    return n\n",
    "\n",
    "# print(numbers(1, three=3)) ?\n",
    "#a 1234\n",
    "#b one2three4\n",
    "#c 1239\n",
    "#d SyntaxError\n",
    "\n",
    "# 1.4 Code:\n",
    "def func(a, b = 3, c = 6):\n",
    "  print('a: ', a, 'b: ', b,'c:', c)\n",
    "\n",
    "func(-1, 2)\n",
    "#a a: b: 3 c: 6\n",
    "#b a: -1 b: 3 c: 6\n",
    "#c a: -1 b: 2 c: 6\n",
    "#d a: b: -1 c: 2"
   ]
  },
  {
   "cell_type": "code",
   "execution_count": null,
   "metadata": {
    "collapsed": true
   },
   "outputs": [],
   "source": [
    "# 2 Créez les fonctions suivantes:\n",
    "fence('name', '*') -> *name*\n",
    "\n",
    "def fence(var, border):\n",
    "    return ???"
   ]
  },
  {
   "cell_type": "code",
   "execution_count": null,
   "metadata": {
    "collapsed": true
   },
   "outputs": [],
   "source": [
    "outer('helium') -> hm\n",
    "\n",
    "def outer(var):\n",
    "    return ???"
   ]
  },
  {
   "cell_type": "code",
   "execution_count": null,
   "metadata": {
    "collapsed": true
   },
   "outputs": [],
   "source": [
    "arr = numpy.array([4,6,8,7,4])\n",
    "rescale(arr) -> [0,0.5,1,0.75,0.25]\n",
    "#rescale retourne un array avec les valeurs entre 0 et 1 de façon à ce que max(arr)->1, min(arr)->0\n",
    "def rescale(arr):\n",
    "    minimum = ???\n",
    "    maximum = ???\n",
    "    rescaled = ???\n",
    "    return rescaled"
   ]
  },
  {
   "cell_type": "code",
   "execution_count": null,
   "metadata": {
    "collapsed": true
   },
   "outputs": [],
   "source": [
    "rescale(arr,low = 1, high = 3) -> [1,2,3,2.5,1.5]\n",
    "#rescale retourne un array avec les valeurs entre low et high "
   ]
  },
  {
   "cell_type": "code",
   "execution_count": null,
   "metadata": {
    "collapsed": true
   },
   "outputs": [],
   "source": [
    "#Documentez rescale\n",
    "help(rescale)"
   ]
  },
  {
   "cell_type": "code",
   "execution_count": null,
   "metadata": {
    "collapsed": true
   },
   "outputs": [],
   "source": []
  },
  {
   "cell_type": "markdown",
   "metadata": {
    "collapsed": true
   },
   "source": [
    "## Errors and Exceptions\n",
    "\n",
    "Coriger les codes suivants"
   ]
  },
  {
   "cell_type": "code",
   "execution_count": null,
   "metadata": {
    "collapsed": true
   },
   "outputs": [],
   "source": [
    "def another_function\n",
    "    print(\"Syntax errors are annoying.\")\n",
    "     print(\"But at least python tells us about them!\")\n",
    "    print(\"So they are usually not too hard to fix.\")"
   ]
  },
  {
   "cell_type": "code",
   "execution_count": null,
   "metadata": {
    "collapsed": true
   },
   "outputs": [],
   "source": [
    "for number in range(10):\n",
    "    # use a if the number is a multiple of 3, otherwise use b\n",
    "    if (Number % 3) == 0:\n",
    "        message = message + a\n",
    "    else:\n",
    "        message = message + \"b\"\n",
    "print(message)"
   ]
  },
  {
   "cell_type": "code",
   "execution_count": null,
   "metadata": {
    "collapsed": true
   },
   "outputs": [],
   "source": [
    "seasons = ['Spring', 'Summer', 'Fall', 'Winter']\n",
    "print('My favorite season is ', seasons[4])"
   ]
  },
  {
   "cell_type": "code",
   "execution_count": null,
   "metadata": {
    "collapsed": true
   },
   "outputs": [],
   "source": [
    "# This code has an intentional error. Do not type it directly;\n",
    "# use it for reference to understand the error message below.\n",
    "def print_message(day):\n",
    "    messages = {\n",
    "        \"monday\": \"Hello, world!\",\n",
    "        \"tuesday\": \"Today is tuesday!\",\n",
    "        \"wednesday\": \"It is the middle of the week.\",\n",
    "        \"thursday\": \"Today is Donnerstag in German!\",\n",
    "        \"friday\": \"Last day of the week!\",\n",
    "        \"saturday\": \"Hooray for the weekend!\",\n",
    "        \"sunday\": \"Aw, the weekend is almost over.\"\n",
    "    }\n",
    "    print(messages[day])\n",
    "\n",
    "def print_friday_message():\n",
    "    print_message(\"Friday\")\n",
    "\n",
    "print_friday_message()"
   ]
  },
  {
   "cell_type": "markdown",
   "metadata": {
    "collapsed": true
   },
   "source": [
    "## Defensive Programming"
   ]
  },
  {
   "cell_type": "code",
   "execution_count": null,
   "metadata": {
    "collapsed": true
   },
   "outputs": [],
   "source": [
    "# Correct range_overlap and rerun test_range_overlap\n",
    "def range_overlap(ranges):\n",
    "    '''Return common overlap among a set of [low, high] ranges.'''\n",
    "    lowest = 0.0\n",
    "    highest = 1.0\n",
    "    for (low, high) in ranges:\n",
    "        lowest = max(lowest, low)\n",
    "        highest = min(highest, high)\n",
    "    return (lowest, highest)"
   ]
  },
  {
   "cell_type": "code",
   "execution_count": null,
   "metadata": {
    "collapsed": true
   },
   "outputs": [],
   "source": [
    "def test_range_overlap():\n",
    "    assert range_overlap([ (0.0, 1.0), (5.0, 6.0) ]) == None\n",
    "    assert range_overlap([ (0.0, 1.0), (1.0, 2.0) ]) == None\n",
    "    assert range_overlap([ (0.0, 1.0) ]) == (0.0, 1.0)\n",
    "    assert range_overlap([ (2.0, 3.0), (2.0, 4.0) ]) == (2.0, 3.0)\n",
    "    assert range_overlap([ (0.0, 1.0), (0.0, 2.0), (-1.0, 1.0) ]) == (0.0, 1.0)"
   ]
  },
  {
   "cell_type": "markdown",
   "metadata": {
    "collapsed": true
   },
   "source": [
    "## Debugging"
   ]
  },
  {
   "cell_type": "markdown",
   "metadata": {
    "collapsed": true
   },
   "source": [
    "Take a function that you have written today, and introduce a tricky bug. Your function should still run, but will give the wrong output. Switch seats with your neighbor and attempt to debug the bug that they introduced into their function. Which of the principles discussed above did you find helpful?"
   ]
  },
  {
   "cell_type": "markdown",
   "metadata": {
    "collapsed": true
   },
   "source": [
    "## Command-Line Programs"
   ]
  },
  {
   "cell_type": "code",
   "execution_count": null,
   "metadata": {
    "collapsed": true
   },
   "outputs": [],
   "source": [
    "%writefile(\"readings.py\")\n",
    "\n",
    "import sys\n",
    "import numpy\n",
    "\n",
    "def main():\n",
    "    script = sys.argv[0]\n",
    "    action = sys.argv[1]\n",
    "    filenames = sys.argv[2:]\n",
    "    assert action in ['--min', '--mean', '--max'], \\\n",
    "           'Action is not one of --min, --mean, or --max: ' + action\n",
    "    if len(filenames) == 0:\n",
    "        process(sys.stdin, action)\n",
    "    else:\n",
    "        for f in filenames:\n",
    "            process(f, action)\n",
    "\n",
    "def process(filename, action):\n",
    "    data = numpy.loadtxt(filename, delimiter=',')\n",
    "\n",
    "    if action == '--min':\n",
    "        values = numpy.min(data, axis=1)\n",
    "    elif action == '--mean':\n",
    "        values = numpy.mean(data, axis=1)\n",
    "    elif action == '--max':\n",
    "        values = numpy.max(data, axis=1)\n",
    "\n",
    "    for m in values:\n",
    "        print(m)\n",
    "\n",
    "if __name__ == '__main__':\n",
    "   main()"
   ]
  },
  {
   "cell_type": "markdown",
   "metadata": {
    "collapsed": true
   },
   "source": [
    "1 Rewrite readings.py so that it uses -n, -m, and -x instead of --min, --mean, and --max respectively. Is the code easier to read? Is the program easier to understand?"
   ]
  },
  {
   "cell_type": "markdown",
   "metadata": {
    "collapsed": true
   },
   "source": [
    "2 Separately, modify readings.py so that if no parameters are given (i.e., no action is specified and no filenames are given), it prints a message explaining how it should be used."
   ]
  },
  {
   "cell_type": "markdown",
   "metadata": {
    "collapsed": true
   },
   "source": [
    "3 Write a program called check.py that takes the names of one or more inflammation data files as arguments and checks that all the files have the same number of rows and columns. What is the best way to test your program?"
   ]
  }
 ],
 "metadata": {
  "kernelspec": {
   "display_name": "Python 3",
   "language": "python",
   "name": "python3"
  },
  "language_info": {
   "codemirror_mode": {
    "name": "ipython",
    "version": 3
   },
   "file_extension": ".py",
   "mimetype": "text/x-python",
   "name": "python",
   "nbconvert_exporter": "python",
   "pygments_lexer": "ipython3",
   "version": "3.7.3"
  }
 },
 "nbformat": 4,
 "nbformat_minor": 2
}
