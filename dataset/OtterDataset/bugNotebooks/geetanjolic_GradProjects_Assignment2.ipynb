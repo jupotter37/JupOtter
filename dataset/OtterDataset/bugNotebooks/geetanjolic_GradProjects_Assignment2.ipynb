{
 "cells": [
  {
   "cell_type": "code",
   "execution_count": 6882,
   "metadata": {},
   "outputs": [],
   "source": [
    "#Using Pandas as the data processing package\n",
    "import pandas as pd\n",
    "import xlrd\n",
    "\n",
    "#Using plotly as the visualization package\n",
    "import plotly.express as px\n",
    "import plotly.graph_objects as go\n",
    "\n",
    "#Using Dash coponents for building the app\n",
    "from dash import Dash, dcc, html, Input, Output, callback\n",
    "\n",
    "#Using the dash bootstrap components for formatting\n",
    "import dash_bootstrap_components as dbc;\n",
    "import numpy as np\n"
   ]
  },
  {
   "cell_type": "code",
   "execution_count": 6883,
   "metadata": {},
   "outputs": [],
   "source": [
    "# Import all the datasets into dataframes\n",
    "StateGdp = pd.read_excel('4.GDP_NY_TX_OH.xlsx')\n",
    "UsEmp = pd.read_excel(\"Employment_US.xlsx\")\n",
    "StateEmp = pd.read_excel(\"Employment_States.xlsx\")\n",
    "StateHousing = pd.read_excel(\"Housing_data.xlsx\")\n",
    "UsHousing = pd.read_excel(\"Mortgage_Delinquency.xlsx\")\n",
    "DiffSect = pd.read_excel(\"DifferentialSectors.xlsx\")\n",
    "\n",
    "# Correct the number into thousands in the datasets\n",
    "StateEmp['TotalNonFarm'] = StateEmp['TotalNonFarm'].apply(lambda x:x*1000)\n",
    "\n",
    "# Adjustments to the DiffSect dataframe.\n",
    "# Calculate the annual job growth rate by state in differential sectors\n",
    "DiffSect['Year'] = DiffSect['Date'].dt.year\n",
    "AvgDiffSect = DiffSect.groupby(['Year','State']).agg(\n",
    "    RetailEmp=('RetailEmployees', 'mean'),\n",
    "    RAEmp=('RealEstateEmployees', 'mean'),\n",
    ").reset_index()\n",
    "AvgDiffSect['RetailGrowth'] = AvgDiffSect['RetailEmp'].pct_change(periods=1).mul(100)\n",
    "AvgDiffSect['RealEstateGrowth'] = AvgDiffSect['RAEmp'].pct_change(periods=1).mul(100)\n",
    "AvgDiffSect['Year']=pd.to_datetime(AvgDiffSect.Year, format='%Y')\n",
    "\n",
    "# Adjustments to the UsEmp dataframe\n",
    "# Calculate the annual averages for the variables in the dataframe.\n",
    "UsEmp['Year'] = UsEmp['Date'].dt.year\n",
    "UsEmp = UsEmp.groupby(['Year']).agg(\n",
    "    JobOpeningRate=('JobOpeningRate', 'mean'),\n",
    "    UnemploymentRate=('UnemploymentRate', 'mean'),\n",
    "    PermanentJobLosers = ('PermanentJobLosses', 'mean')\n",
    ").round(1).reset_index()\n",
    "UsEmp['PermanentJobLosers'] = UsEmp['PermanentJobLosers'].apply(lambda x:x*1000)\n",
    "UsEmp['Year']=pd.to_datetime(UsEmp.Year, format='%Y')"
   ]
  },
  {
   "cell_type": "code",
   "execution_count": 6884,
   "metadata": {},
   "outputs": [],
   "source": [
    "# Define TimePeriod function for Recession, Normality and COVID depending on year\n",
    "def TimePeriod(year):\n",
    "    \n",
    "    period = \"\"    \n",
    "    \n",
    "    if (year <= pd.Timestamp('2009-12-31')):  \n",
    "        period = \"Recession\"\n",
    "    elif(year >=  pd.Timestamp('2020-01-01')):\n",
    "        period = \"COVID\"\n",
    "    else:\n",
    "        period = \"Normality\"\n",
    "\n",
    "    return period\n",
    "   \n",
    "   \n",
    "# Add the Period column to StateGdp, StateEmp and StateHousing dataframes based on the year of each row\n",
    "StateGdp['Period'] = StateGdp[\"Date\"].apply(lambda theYear: TimePeriod(theYear));\n",
    "StateEmp['Period'] = StateEmp[\"Date\"].apply(lambda theYear: TimePeriod(theYear));\n",
    "StateHousing['Period'] = StateHousing[\"Date\"].apply(lambda theYear: TimePeriod(theYear));"
   ]
  },
  {
   "cell_type": "code",
   "execution_count": 6885,
   "metadata": {},
   "outputs": [],
   "source": [
    "# Store the three unique states\n",
    "States = sorted(StateGdp.State.unique())\n",
    "firstState = States[0];\n",
    "\n",
    "# Store the unique periods \n",
    "Period = sorted(StateGdp.Period.unique());"
   ]
  },
  {
   "cell_type": "code",
   "execution_count": 6886,
   "metadata": {},
   "outputs": [],
   "source": [
    "# Initialize the app and set a app title\n",
    "dbc_css = \"https://cdn.jsdelivr.net/gh/AnnMarieW/dash-bootstrap-templates/dbc.min.css\"\n",
    "app = Dash(__name__, external_stylesheets=[dbc.themes.BOOTSTRAP, dbc_css],  suppress_callback_exceptions=True)\n",
    "app.title = \"Impact of Recession and COVID\""
   ]
  },
  {
   "cell_type": "code",
   "execution_count": 6887,
   "metadata": {},
   "outputs": [],
   "source": [
    "# Define variable Introtabcontent to store the intoduction tab content\n",
    "Introtabcontent =  html.Div([\n",
    "    html.P(\"The Great Recession in 2008 and the COVID-19 pandemic are two significnt events that caused severe economic downturns. \" \n",
    "                        \"This visual analysis aims to reveal the effects of these events on employment and the housing market at both the \"\n",
    "                        \"national level and within the states of New York, Ohio, and Texas. Multiple indicators in both sectors are explored \"\n",
    "                        \"against the timeline to understand the widespread repercussions of the economic strain experienced during these crises.\", \n",
    "                        className=\"card-text\")\n",
    "],className=\"col-10\")"
   ]
  },
  {
   "cell_type": "code",
   "execution_count": 6888,
   "metadata": {},
   "outputs": [],
   "source": [
    "# Define the dropdown component for states\n",
    "dropdown = dcc.Dropdown(\n",
    "    \n",
    "    options=States,\n",
    "    value=firstState,\n",
    "    clearable=False\n",
    ")\n",
    "\n",
    "#State wise Job opening, Initial Claims, Total non farm employess Charts and Callback\n",
    "JobOpStateChart = dcc.Graph()\n",
    "ICalimsStateChart = dcc.Graph()\n",
    "NonFarmEmpSatesChart = dcc.Graph()\n",
    "\n",
    "#Callback for Job opening Chart\n",
    "@callback(\n",
    "        Output(JobOpStateChart, \"figure\"), \n",
    "        Input(dropdown, \"value\")\n",
    ")\n",
    "\n",
    "def updateStateJobOpChart(selectedState):\n",
    "    \n",
    "    mask = StateEmp[\"State\"] == selectedState; \n",
    "    Title = \"Number of Job Openings in: \" + selectedState;\n",
    "\n",
    "    JobOpFig = px.area(\n",
    "        StateEmp[mask],\n",
    "        x=\"Date\",\n",
    "        y=\"JobOpenings\",\n",
    "        template=\"simple_white\",\n",
    "        title=Title,\n",
    "        labels=dict(Date = \"Year\", JobOpenings = \"Average Job Openings(Thousands)\",)\n",
    "    )\n",
    "    JobOpFig.add_vrect(\n",
    "        x0=\"2007-12-01\", x1=\"2009-07-30\",\n",
    "        fillcolor=\"linen\", opacity=0.5,\n",
    "        layer=\"below\", line_width=0,\n",
    "        label=dict(text=\"Recession\", textposition=\"top center\", font=dict(size=8, color=\"gray\")),\n",
    "    )\n",
    "\n",
    "    JobOpFig.add_vrect(\n",
    "        x0=\"2020-01-01\", x1=\"2020-12-31\",\n",
    "        fillcolor=\"linen\", opacity=0.5,\n",
    "        layer=\"below\", line_width=0,\n",
    "        label=dict(text=\"COVID\", textposition=\"top center\", font=dict(size=8, color=\"gray\")),\n",
    "    )\n",
    "\n",
    "    JobOpFig.update_layout(\n",
    "        legend = dict(font=dict(size=8, color=\"gray\")),\n",
    "        xaxis = dict(nticks=10,\n",
    "        tickformat=\"%Y\",\n",
    "        linecolor=\"lightgray\"\n",
    "        ),\n",
    "        \n",
    "        yaxis =dict(linecolor=\"lightgray\")\n",
    "    )\n",
    "    # JobOpFig.update_traces(mode='lines', fill='tozeroy', fillcolor='lightblue')\n",
    "    return JobOpFig\n",
    "\n",
    "\n",
    "\n",
    "#Callback for Initial Claims Chart\n",
    "@callback(\n",
    "        Output(ICalimsStateChart, \"figure\"), \n",
    "        Input(dropdown, \"value\")\n",
    ")\n",
    "\n",
    "def updateStateICalimsChart(selectedState):\n",
    "    \n",
    "    mask = StateEmp[\"State\"] == selectedState; \n",
    "    Title = \"Initial Unemployment Claims in: \" + selectedState;\n",
    "         \n",
    "    ICalimsFig = px.line(\n",
    "        StateEmp[mask],\n",
    "        x=\"Date\",\n",
    "        y=\"InitialClaims\",\n",
    "        template=\"simple_white\",\n",
    "        line_shape=\"spline\",\n",
    "        title=Title,\n",
    "        markers=True,\n",
    "        labels=dict(Date = \"Year\", InitialClaims = \"Average Initial Claims (Thousands)\",)\n",
    "    )\n",
    "    ICalimsFig.add_vrect(\n",
    "        x0=\"2007-12-01\", x1=\"2009-07-30\",\n",
    "        fillcolor=\"linen\", opacity=0.5,\n",
    "        layer=\"below\", line_width=0,\n",
    "        label=dict(text=\"Recession\", textposition=\"top center\", font=dict(size=8, color=\"gray\")),\n",
    "    )\n",
    "\n",
    "    ICalimsFig.add_vrect(\n",
    "        x0=\"2020-01-01\", x1=\"2020-12-31\",\n",
    "        fillcolor=\"linen\", opacity=0.5,\n",
    "        layer=\"below\", line_width=0,\n",
    "        label=dict(text=\"COVID\", textposition=\"top center\", font=dict(size=8, color=\"gray\")),\n",
    "    )\n",
    "\n",
    "    ICalimsFig.update_layout(\n",
    "        legend = dict(font=dict(size=8, color=\"gray\")),\n",
    "        xaxis = dict(nticks=10,\n",
    "        tickformat=\"%Y\",\n",
    "        linecolor=\"lightgray\"\n",
    "        ),\n",
    "        \n",
    "        yaxis =dict(linecolor=\"lightgray\",\n",
    "                    range=[0,110000])      \n",
    "    )\n",
    "    \n",
    "    ICalimsFig.update_traces(line_color='steelblue', \n",
    "                            line_width=2,\n",
    "                            marker = dict(color=\"darkblue\", size = 8)\n",
    "    )\n",
    "    return ICalimsFig\n",
    "\n",
    "\n",
    "#Callback for Total nonfarm employess Chart\n",
    "@callback(\n",
    "        Output(NonFarmEmpSatesChart, \"figure\"), \n",
    "        Input(dropdown, \"value\")\n",
    ")\n",
    "\n",
    "def updateNonFarmChart(selectedState):\n",
    "    \n",
    "    mask = StateEmp[\"State\"] == selectedState; \n",
    "    Title = \"Number of NonFarm Employees in: \" + selectedState;\n",
    "\n",
    "    NonFarmFig = px.line(\n",
    "        StateEmp[mask],\n",
    "        x=\"Date\",\n",
    "        y=\"TotalNonFarm\",\n",
    "        template=\"simple_white\",\n",
    "        line_shape=\"spline\",\n",
    "        markers=True,\n",
    "        title=Title,\n",
    "        labels=dict(Date = \"Year\", TotalNonFarm = \"NonFarm Employees (Millions)\",)\n",
    "    )\n",
    "    NonFarmFig.add_vrect(\n",
    "        x0=\"2007-12-01\", x1=\"2009-07-30\",\n",
    "        fillcolor=\"linen\", opacity=0.5,\n",
    "        layer=\"below\", line_width=0,\n",
    "        label=dict(text=\"Recession\", textposition=\"top center\", font=dict(size=8, color=\"gray\")),\n",
    "    )\n",
    "\n",
    "    NonFarmFig.add_vrect(\n",
    "        x0=\"2020-01-01\", x1=\"2020-12-31\",\n",
    "        fillcolor=\"linen\", opacity=0.5,\n",
    "        layer=\"below\", line_width=0,\n",
    "        label=dict(text=\"COVID\", textposition=\"top center\", font=dict(size=8, color=\"gray\")),\n",
    "    )\n",
    "\n",
    "    NonFarmFig.update_layout(\n",
    "        legend = dict(font=dict(size=8, color=\"gray\")),\n",
    "        xaxis = dict(nticks=10,\n",
    "        tickformat=\"%Y\",\n",
    "        linecolor=\"lightgray\"\n",
    "        ),\n",
    "        \n",
    "        yaxis =dict(linecolor=\"lightgray\")\n",
    "    )\n",
    "    \n",
    "    NonFarmFig.update_traces(line_color='steelblue', \n",
    "                            line_width=2,\n",
    "                            marker = dict(color=\"darkblue\", size = 8)\n",
    "    )\n",
    "    return NonFarmFig    "
   ]
  },
  {
   "cell_type": "code",
   "execution_count": 6889,
   "metadata": {},
   "outputs": [],
   "source": [
    "# declare a variable called UnemploymentTabContent1 to hold the content (html, input and output components) of this tab in the page.\n",
    "UnemploymentTabContent1 = html.Div([\n",
    "    html.H2(\n",
    "        \"Annual Job Openings, NonFarm Employees & Initial Unemployment Claims\", \n",
    "        className=\"mt-4 px-4 align-center\"), \n",
    "\n",
    "    dbc.Row([\n",
    "        dbc.Col([\n",
    "            html.Div([\n",
    "                dbc.Label(\"Select a State\", className=\"pl-4\"),\n",
    "                dropdown,\n",
    "            ], className=\"col-3\")\n",
    "        ], className=\"my-4\"),\n",
    "    ]),\n",
    "        \n",
    "    dbc.Row([\n",
    "        dbc.Col([\n",
    "            html.Div([\n",
    "                html.H4(\"Annual Job Openings\", className=\"card-title\"),\n",
    "                html.P(\n",
    "                    \"The average annual Job Openings fell across the three states in both the Great Recession and COVID. \"\n",
    "                    \"While the recovery during recession was slow, it was much faster after COVID.\",\n",
    "                    className=\"card-text\",\n",
    "                )\n",
    "            ], className=\"mt-4\")\n",
    "        ],className=\"col-4\"),\n",
    "    \n",
    "        dbc.Col([\n",
    "            JobOpStateChart\n",
    "        ],className=\"col-8\")\n",
    "    ]),\n",
    "        \n",
    "    dbc.Row([\n",
    "        dbc.Col([\n",
    "            html.Div([\n",
    "                html.H4(\"Initial Unemployment Claims\", className=\"card-title\"),\n",
    "                html.P(\n",
    "                    \"The number of initial unemployment claims increased during both the recession and the COVID-19 pandemic. \"\n",
    "                    \"The numbers were significantly higher during the COVID-19 period, mainly due to a shorter timeframe available for \"\n",
    "                    \"addressing the economic challenges posed by the pandemic.\",\n",
    "                    className=\"card-text\",\n",
    "                )\n",
    "            ], className=\"mt-4\")\n",
    "        ],className=\"col-4\"),\n",
    "          \n",
    "        dbc.Col([\n",
    "            ICalimsStateChart\n",
    "        ],className=\"col-8\")\n",
    "    ]),\n",
    "        \n",
    "    dbc.Row([\n",
    "        dbc.Col([\n",
    "            html.Div([\n",
    "                html.H4(\"Number of NonFarm Employees\", className=\"card-title\"),\n",
    "                html.P(\n",
    "                    \"The total number of nonfarm employees declined steadily across all three states during the recession. \"\n",
    "                    \"However, the downturn was more pronounced during COVID, yet it swiftly rebounded to pre-pandemic levels.\",\n",
    "                    className=\"card-text\",\n",
    "                )\n",
    "            ], className=\"mt-4\")\n",
    "        ],className=\"col-4\"),\n",
    "    \n",
    "        dbc.Col([\n",
    "            NonFarmEmpSatesChart\n",
    "        ],className=\"col-8\")\n",
    "    ])\n",
    "])"
   ]
  },
  {
   "cell_type": "code",
   "execution_count": 6890,
   "metadata": {},
   "outputs": [],
   "source": [
    "# Define the dropdown component for states\n",
    "dropdown = dcc.Dropdown(\n",
    "    \n",
    "    options=States,\n",
    "    value=firstState,\n",
    "    clearable=False\n",
    ")\n",
    "\n",
    "#State wise Median Income, Continued Unemployment claims and Poverty rate charts and Callback\n",
    "MedianIncomeChart = dcc.Graph()\n",
    "CClaimsStateChart = dcc.Graph()\n",
    "PovertyStateChart = dcc.Graph()\n",
    "\n",
    "#Callback for State median income Chart\n",
    "@callback(\n",
    "        Output(MedianIncomeChart, \"figure\"), \n",
    "        Input(dropdown, \"value\")\n",
    ")\n",
    "\n",
    "def updateStateMedianIncomeChart(selectedState):\n",
    "    \n",
    "    mask = StateEmp[\"State\"] == selectedState;\n",
    "    Title = \"Median Income in: \" + selectedState;\n",
    "    \n",
    "    MedianIncomeFig = px.line(\n",
    "        StateEmp[mask],\n",
    "        x=\"Date\",\n",
    "        y=\"MedianIncome\",\n",
    "        template=\"simple_white\",\n",
    "        title=Title,\n",
    "        markers=True,\n",
    "        line_shape=\"spline\",\n",
    "        labels=dict(Date = \"Year\", MedianIncome = \"Median Income ($)\",)\n",
    "    )\n",
    "    MedianIncomeFig.add_vrect(\n",
    "        x0=\"2007-12-01\", x1=\"2009-07-30\",\n",
    "        fillcolor=\"linen\", opacity=0.5,\n",
    "        layer=\"below\", line_width=0,\n",
    "        label=dict(text=\"Recession\", textposition=\"top center\", font=dict(size=8, color=\"gray\")),\n",
    "    )\n",
    "\n",
    "    MedianIncomeFig.add_vrect(\n",
    "        x0=\"2020-01-01\", x1=\"2020-12-31\",\n",
    "        fillcolor=\"linen\", opacity=0.5,\n",
    "        layer=\"below\", line_width=0,\n",
    "        label=dict(text=\"COVID\", textposition=\"top center\", font=dict(size=8, color=\"gray\")),\n",
    "    )\n",
    "\n",
    "    MedianIncomeFig.update_layout(\n",
    "        legend = dict(font=dict(size=8, color=\"gray\")),\n",
    "        xaxis = dict(nticks=10,\n",
    "        tickformat=\"%Y\",\n",
    "        linecolor=\"lightgray\"\n",
    "        ),\n",
    "        \n",
    "        yaxis =dict(linecolor=\"lightgray\")\n",
    "        \n",
    "    )\n",
    "    MedianIncomeFig.update_traces(line_color='steelblue', \n",
    "                                line_width=2,\n",
    "                                marker = dict(color=\"darkblue\", size = 10),\n",
    "    )\n",
    "    return MedianIncomeFig\n",
    "\n",
    "#Callback for State continued claims Chart\n",
    "@callback(\n",
    "        Output(CClaimsStateChart, \"figure\"), \n",
    "        Input(dropdown, \"value\")\n",
    ")\n",
    "\n",
    "def updateStateCClaimsChart(selectedState):\n",
    "    \n",
    "    mask = StateEmp[\"State\"] == selectedState; \n",
    "    Title = \"Continued Unemployment Claims in: \" + selectedState;\n",
    "         \n",
    "    CClaimsFig = px.bar(\n",
    "        StateEmp[mask],\n",
    "        x=\"Date\",\n",
    "        y=\"ContinuedClaims\",\n",
    "        color=\"ContinuedClaims\",\n",
    "        template=\"simple_white\",\n",
    "        color_continuous_scale=[\"lightblue\", \"darkblue\"],\n",
    "        title=Title,\n",
    "       # markers=True,\n",
    "        labels=dict(Date = \"Year\", InitialClaims = \"Average Continued Claims (Millions)\",)\n",
    "    )\n",
    "    CClaimsFig.add_vrect(\n",
    "        x0=\"2007-12-01\", x1=\"2009-07-30\",\n",
    "        fillcolor=\"linen\", opacity=0.5,\n",
    "        layer=\"below\", line_width=0,\n",
    "        label=dict(text=\"Recession\", textposition=\"top center\", font=dict(size=8, color=\"gray\")),\n",
    "    )\n",
    "\n",
    "    CClaimsFig.add_vrect(\n",
    "        x0=\"2020-01-01\", x1=\"2020-12-31\",\n",
    "        fillcolor=\"linen\", opacity=0.5,\n",
    "        layer=\"below\", line_width=0,\n",
    "        label=dict(text=\"COVID\", textposition=\"top center\", font=dict(size=8, color=\"gray\")),\n",
    "    )\n",
    "\n",
    "    CClaimsFig.update_layout(\n",
    "        bargap=0.40,\n",
    "        legend = dict(font=dict(size=8, color=\"gray\")),\n",
    "        xaxis = dict(nticks=10,\n",
    "        tickformat=\"%Y\",\n",
    "        linecolor=\"lightgray\"\n",
    "        ),\n",
    "        \n",
    "        yaxis =dict(linecolor=\"lightgray\")\n",
    "        \n",
    "    )\n",
    "    return CClaimsFig\n",
    "\n",
    "#Callback for State poverty rate Chart\n",
    "@callback(\n",
    "        Output(PovertyStateChart, \"figure\"), \n",
    "        Input(dropdown, \"value\")\n",
    ")\n",
    "\n",
    "def updateStatePovertyChart(selectedState):\n",
    "    \n",
    "    mask = StateEmp[\"State\"] == selectedState;\n",
    "    Title = \"Poverty Rate in: \" + selectedState;\n",
    "         \n",
    "    PovertyFig = px.bar(\n",
    "        StateEmp[mask],\n",
    "        x=\"Date\",\n",
    "        y=\"PovertyRate\",\n",
    "        color=\"PovertyRate\",\n",
    "        template=\"simple_white\",\n",
    "        color_continuous_scale=[\"lightblue\", \"darkblue\"],\n",
    "        title=Title,\n",
    "       # markers=True,\n",
    "        labels=dict(Date = \"Year\", PovertyRate = \"Poverty Rate (%)\",)\n",
    "    )\n",
    "    PovertyFig.add_vrect(\n",
    "        x0=\"2007-12-01\", x1=\"2009-07-30\",\n",
    "        fillcolor=\"linen\", opacity=0.5,\n",
    "        layer=\"below\", line_width=0,\n",
    "        label=dict(text=\"Recession\", textposition=\"top center\", font=dict(size=8, color=\"gray\")),\n",
    "    )\n",
    "\n",
    "    PovertyFig.add_vrect(\n",
    "        x0=\"2020-01-01\", x1=\"2020-12-31\",\n",
    "        fillcolor=\"linen\", opacity=0.5,\n",
    "        layer=\"below\", line_width=0,\n",
    "        label=dict(text=\"COVID\", textposition=\"top center\", font=dict(size=8, color=\"gray\")),\n",
    "    )\n",
    "\n",
    "    PovertyFig.update_layout(\n",
    "        bargap=0.40,\n",
    "        legend = dict(font=dict(size=8, color=\"gray\")),\n",
    "        xaxis = dict(nticks=10,\n",
    "        tickformat=\"%Y\",\n",
    "        linecolor=\"lightgray\"\n",
    "        ),\n",
    "        \n",
    "        yaxis =dict(linecolor=\"lightgray\")\n",
    "        \n",
    "    )\n",
    "    return PovertyFig"
   ]
  },
  {
   "cell_type": "code",
   "execution_count": 6891,
   "metadata": {},
   "outputs": [],
   "source": [
    "# declare a variable called UnemploymentTabContent2 to hold the content (html, input and output components) of this tab in the page.\n",
    "UnemploymentTabContent2 = html.Div([\n",
    "    html.H2(\n",
    "        \"Continued Unemployment Claims, Poverty Rate and Median Income by State\", \n",
    "        className=\"mt-4 px-4 align-center\"), \n",
    "\n",
    "    dbc.Row([\n",
    "        dbc.Col([\n",
    "            html.Div([\n",
    "                dbc.Label(\"Select a State\", className=\"pl-4\"),\n",
    "                dropdown,\n",
    "            ], className=\"col-3\")\n",
    "        ], className=\"my-4\"),\n",
    "    ]),\n",
    "        \n",
    "    dbc.Row([\n",
    "        dbc.Col([\n",
    "            html.Div([\n",
    "                html.H4(\"Continued Unemployment Claims\", className=\"card-title\"),\n",
    "                html.P(\n",
    "                    \"The number of continued unemployment claims followed the trend of initial \"\n",
    "                    \"claims during both the recession and the COVID-19 pandemic. \" \n",
    "                    \"These numbers were much larger as more people started experiencing job loss as the events progressed. \" \n",
    "                    \"All three states experienced the same but New York had the highest numbers.\",\n",
    "                    className=\"card-text\",\n",
    "                )\n",
    "            ], className=\"mt-4\")\n",
    "        ],className=\"col-4\"),\n",
    "    \n",
    "        dbc.Col([\n",
    "            CClaimsStateChart\n",
    "        ],className=\"col-8\")\n",
    "    ]),\n",
    "        \n",
    "    dbc.Row([\n",
    "        dbc.Col([\n",
    "            html.Div([\n",
    "                html.H4(\"Poverty Rate\", className=\"card-title\"),\n",
    "                html.P(\n",
    "                    \"For all three states the poverty rate increased as the Great recession progressed. \" \n",
    "                    \"During COVID, Texas and Ohio saw a slight decline in poverty rate.\",\n",
    "                    className=\"card-text\",\n",
    "                )\n",
    "            ], className=\"mt-4\")\n",
    "        ],className=\"col-4\"),\n",
    "          \n",
    "        dbc.Col([\n",
    "            PovertyStateChart\n",
    "        ],className=\"col-8\")\n",
    "    ]),\n",
    "        \n",
    "    dbc.Row([\n",
    "        dbc.Col([\n",
    "            html.Div([\n",
    "                html.H4(\"Median Income\", className=\"card-title\"),\n",
    "                html.P(\n",
    "                    \"The median income fell during both recession and COVID in the three states. \"\n",
    "                    \"The recovery after recession took many years.\",\n",
    "                    className=\"card-text\",\n",
    "                )\n",
    "            ], className=\"mt-4\")\n",
    "        ],className=\"col-4\"),\n",
    "    \n",
    "        dbc.Col([\n",
    "            MedianIncomeChart\n",
    "        ],className=\"col-8\")\n",
    "    ])\n",
    "])"
   ]
  },
  {
   "cell_type": "code",
   "execution_count": 6892,
   "metadata": {},
   "outputs": [
    {
     "data": {
      "application/vnd.plotly.v1+json": {
       "config": {
        "plotlyServerURL": "https://plot.ly"
       },
       "data": [
        {
         "alignmentgroup": "True",
         "hovertemplate": "Year=%{x}<br>Permanent Job Losers (Millions)=%{marker.color}<extra></extra>",
         "legendgroup": "",
         "marker": {
          "color": [
           1953500,
           1687400,
           1786200,
           2685500,
           6143600,
           6393900,
           5477000,
           4443600,
           3714600,
           2805900,
           2178800,
           1963500,
           1766400,
           1454400,
           1341700,
           2655000,
           2799100,
           1359200
          ],
          "coloraxis": "coloraxis",
          "pattern": {
           "shape": ""
          }
         },
         "name": "",
         "offsetgroup": "",
         "orientation": "v",
         "showlegend": false,
         "textposition": "auto",
         "type": "bar",
         "x": [
          "2005-01-01T00:00:00",
          "2006-01-01T00:00:00",
          "2007-01-01T00:00:00",
          "2008-01-01T00:00:00",
          "2009-01-01T00:00:00",
          "2010-01-01T00:00:00",
          "2011-01-01T00:00:00",
          "2012-01-01T00:00:00",
          "2013-01-01T00:00:00",
          "2014-01-01T00:00:00",
          "2015-01-01T00:00:00",
          "2016-01-01T00:00:00",
          "2017-01-01T00:00:00",
          "2018-01-01T00:00:00",
          "2019-01-01T00:00:00",
          "2020-01-01T00:00:00",
          "2021-01-01T00:00:00",
          "2022-01-01T00:00:00"
         ],
         "xaxis": "x",
         "y": [
          1953500,
          1687400,
          1786200,
          2685500,
          6143600,
          6393900,
          5477000,
          4443600,
          3714600,
          2805900,
          2178800,
          1963500,
          1766400,
          1454400,
          1341700,
          2655000,
          2799100,
          1359200
         ],
         "yaxis": "y"
        }
       ],
       "layout": {
        "bargap": 0.4,
        "barmode": "relative",
        "coloraxis": {
         "colorbar": {
          "title": {
           "text": "Permanent Job Losers (Millions)"
          }
         },
         "colorscale": [
          [
           0,
           "lightblue"
          ],
          [
           1,
           "darkblue"
          ]
         ]
        },
        "legend": {
         "font": {
          "color": "gray",
          "size": 8
         },
         "tracegroupgap": 0
        },
        "shapes": [
         {
          "fillcolor": "linen",
          "label": {
           "font": {
            "color": "gray",
            "size": 8
           },
           "text": "Recession",
           "textposition": "top center"
          },
          "layer": "below",
          "line": {
           "width": 0
          },
          "opacity": 0.7,
          "type": "rect",
          "x0": "2007-12-01",
          "x1": "2009-07-30",
          "xref": "x",
          "y0": 0,
          "y1": 1,
          "yref": "y domain"
         },
         {
          "fillcolor": "linen",
          "label": {
           "font": {
            "color": "gray",
            "size": 8
           },
           "text": "COVID",
           "textposition": "top center"
          },
          "layer": "below",
          "line": {
           "width": 0
          },
          "opacity": 0.7,
          "type": "rect",
          "x0": "2020-01-01",
          "x1": "2020-12-31",
          "xref": "x",
          "y0": 0,
          "y1": 1,
          "yref": "y domain"
         }
        ],
        "template": {
         "data": {
          "bar": [
           {
            "error_x": {
             "color": "rgb(36,36,36)"
            },
            "error_y": {
             "color": "rgb(36,36,36)"
            },
            "marker": {
             "line": {
              "color": "white",
              "width": 0.5
             },
             "pattern": {
              "fillmode": "overlay",
              "size": 10,
              "solidity": 0.2
             }
            },
            "type": "bar"
           }
          ],
          "barpolar": [
           {
            "marker": {
             "line": {
              "color": "white",
              "width": 0.5
             },
             "pattern": {
              "fillmode": "overlay",
              "size": 10,
              "solidity": 0.2
             }
            },
            "type": "barpolar"
           }
          ],
          "carpet": [
           {
            "aaxis": {
             "endlinecolor": "rgb(36,36,36)",
             "gridcolor": "white",
             "linecolor": "white",
             "minorgridcolor": "white",
             "startlinecolor": "rgb(36,36,36)"
            },
            "baxis": {
             "endlinecolor": "rgb(36,36,36)",
             "gridcolor": "white",
             "linecolor": "white",
             "minorgridcolor": "white",
             "startlinecolor": "rgb(36,36,36)"
            },
            "type": "carpet"
           }
          ],
          "choropleth": [
           {
            "colorbar": {
             "outlinewidth": 1,
             "tickcolor": "rgb(36,36,36)",
             "ticks": "outside"
            },
            "type": "choropleth"
           }
          ],
          "contour": [
           {
            "colorbar": {
             "outlinewidth": 1,
             "tickcolor": "rgb(36,36,36)",
             "ticks": "outside"
            },
            "colorscale": [
             [
              0,
              "#440154"
             ],
             [
              0.1111111111111111,
              "#482878"
             ],
             [
              0.2222222222222222,
              "#3e4989"
             ],
             [
              0.3333333333333333,
              "#31688e"
             ],
             [
              0.4444444444444444,
              "#26828e"
             ],
             [
              0.5555555555555556,
              "#1f9e89"
             ],
             [
              0.6666666666666666,
              "#35b779"
             ],
             [
              0.7777777777777778,
              "#6ece58"
             ],
             [
              0.8888888888888888,
              "#b5de2b"
             ],
             [
              1,
              "#fde725"
             ]
            ],
            "type": "contour"
           }
          ],
          "contourcarpet": [
           {
            "colorbar": {
             "outlinewidth": 1,
             "tickcolor": "rgb(36,36,36)",
             "ticks": "outside"
            },
            "type": "contourcarpet"
           }
          ],
          "heatmap": [
           {
            "colorbar": {
             "outlinewidth": 1,
             "tickcolor": "rgb(36,36,36)",
             "ticks": "outside"
            },
            "colorscale": [
             [
              0,
              "#440154"
             ],
             [
              0.1111111111111111,
              "#482878"
             ],
             [
              0.2222222222222222,
              "#3e4989"
             ],
             [
              0.3333333333333333,
              "#31688e"
             ],
             [
              0.4444444444444444,
              "#26828e"
             ],
             [
              0.5555555555555556,
              "#1f9e89"
             ],
             [
              0.6666666666666666,
              "#35b779"
             ],
             [
              0.7777777777777778,
              "#6ece58"
             ],
             [
              0.8888888888888888,
              "#b5de2b"
             ],
             [
              1,
              "#fde725"
             ]
            ],
            "type": "heatmap"
           }
          ],
          "heatmapgl": [
           {
            "colorbar": {
             "outlinewidth": 1,
             "tickcolor": "rgb(36,36,36)",
             "ticks": "outside"
            },
            "colorscale": [
             [
              0,
              "#440154"
             ],
             [
              0.1111111111111111,
              "#482878"
             ],
             [
              0.2222222222222222,
              "#3e4989"
             ],
             [
              0.3333333333333333,
              "#31688e"
             ],
             [
              0.4444444444444444,
              "#26828e"
             ],
             [
              0.5555555555555556,
              "#1f9e89"
             ],
             [
              0.6666666666666666,
              "#35b779"
             ],
             [
              0.7777777777777778,
              "#6ece58"
             ],
             [
              0.8888888888888888,
              "#b5de2b"
             ],
             [
              1,
              "#fde725"
             ]
            ],
            "type": "heatmapgl"
           }
          ],
          "histogram": [
           {
            "marker": {
             "line": {
              "color": "white",
              "width": 0.6
             }
            },
            "type": "histogram"
           }
          ],
          "histogram2d": [
           {
            "colorbar": {
             "outlinewidth": 1,
             "tickcolor": "rgb(36,36,36)",
             "ticks": "outside"
            },
            "colorscale": [
             [
              0,
              "#440154"
             ],
             [
              0.1111111111111111,
              "#482878"
             ],
             [
              0.2222222222222222,
              "#3e4989"
             ],
             [
              0.3333333333333333,
              "#31688e"
             ],
             [
              0.4444444444444444,
              "#26828e"
             ],
             [
              0.5555555555555556,
              "#1f9e89"
             ],
             [
              0.6666666666666666,
              "#35b779"
             ],
             [
              0.7777777777777778,
              "#6ece58"
             ],
             [
              0.8888888888888888,
              "#b5de2b"
             ],
             [
              1,
              "#fde725"
             ]
            ],
            "type": "histogram2d"
           }
          ],
          "histogram2dcontour": [
           {
            "colorbar": {
             "outlinewidth": 1,
             "tickcolor": "rgb(36,36,36)",
             "ticks": "outside"
            },
            "colorscale": [
             [
              0,
              "#440154"
             ],
             [
              0.1111111111111111,
              "#482878"
             ],
             [
              0.2222222222222222,
              "#3e4989"
             ],
             [
              0.3333333333333333,
              "#31688e"
             ],
             [
              0.4444444444444444,
              "#26828e"
             ],
             [
              0.5555555555555556,
              "#1f9e89"
             ],
             [
              0.6666666666666666,
              "#35b779"
             ],
             [
              0.7777777777777778,
              "#6ece58"
             ],
             [
              0.8888888888888888,
              "#b5de2b"
             ],
             [
              1,
              "#fde725"
             ]
            ],
            "type": "histogram2dcontour"
           }
          ],
          "mesh3d": [
           {
            "colorbar": {
             "outlinewidth": 1,
             "tickcolor": "rgb(36,36,36)",
             "ticks": "outside"
            },
            "type": "mesh3d"
           }
          ],
          "parcoords": [
           {
            "line": {
             "colorbar": {
              "outlinewidth": 1,
              "tickcolor": "rgb(36,36,36)",
              "ticks": "outside"
             }
            },
            "type": "parcoords"
           }
          ],
          "pie": [
           {
            "automargin": true,
            "type": "pie"
           }
          ],
          "scatter": [
           {
            "fillpattern": {
             "fillmode": "overlay",
             "size": 10,
             "solidity": 0.2
            },
            "type": "scatter"
           }
          ],
          "scatter3d": [
           {
            "line": {
             "colorbar": {
              "outlinewidth": 1,
              "tickcolor": "rgb(36,36,36)",
              "ticks": "outside"
             }
            },
            "marker": {
             "colorbar": {
              "outlinewidth": 1,
              "tickcolor": "rgb(36,36,36)",
              "ticks": "outside"
             }
            },
            "type": "scatter3d"
           }
          ],
          "scattercarpet": [
           {
            "marker": {
             "colorbar": {
              "outlinewidth": 1,
              "tickcolor": "rgb(36,36,36)",
              "ticks": "outside"
             }
            },
            "type": "scattercarpet"
           }
          ],
          "scattergeo": [
           {
            "marker": {
             "colorbar": {
              "outlinewidth": 1,
              "tickcolor": "rgb(36,36,36)",
              "ticks": "outside"
             }
            },
            "type": "scattergeo"
           }
          ],
          "scattergl": [
           {
            "marker": {
             "colorbar": {
              "outlinewidth": 1,
              "tickcolor": "rgb(36,36,36)",
              "ticks": "outside"
             }
            },
            "type": "scattergl"
           }
          ],
          "scattermapbox": [
           {
            "marker": {
             "colorbar": {
              "outlinewidth": 1,
              "tickcolor": "rgb(36,36,36)",
              "ticks": "outside"
             }
            },
            "type": "scattermapbox"
           }
          ],
          "scatterpolar": [
           {
            "marker": {
             "colorbar": {
              "outlinewidth": 1,
              "tickcolor": "rgb(36,36,36)",
              "ticks": "outside"
             }
            },
            "type": "scatterpolar"
           }
          ],
          "scatterpolargl": [
           {
            "marker": {
             "colorbar": {
              "outlinewidth": 1,
              "tickcolor": "rgb(36,36,36)",
              "ticks": "outside"
             }
            },
            "type": "scatterpolargl"
           }
          ],
          "scatterternary": [
           {
            "marker": {
             "colorbar": {
              "outlinewidth": 1,
              "tickcolor": "rgb(36,36,36)",
              "ticks": "outside"
             }
            },
            "type": "scatterternary"
           }
          ],
          "surface": [
           {
            "colorbar": {
             "outlinewidth": 1,
             "tickcolor": "rgb(36,36,36)",
             "ticks": "outside"
            },
            "colorscale": [
             [
              0,
              "#440154"
             ],
             [
              0.1111111111111111,
              "#482878"
             ],
             [
              0.2222222222222222,
              "#3e4989"
             ],
             [
              0.3333333333333333,
              "#31688e"
             ],
             [
              0.4444444444444444,
              "#26828e"
             ],
             [
              0.5555555555555556,
              "#1f9e89"
             ],
             [
              0.6666666666666666,
              "#35b779"
             ],
             [
              0.7777777777777778,
              "#6ece58"
             ],
             [
              0.8888888888888888,
              "#b5de2b"
             ],
             [
              1,
              "#fde725"
             ]
            ],
            "type": "surface"
           }
          ],
          "table": [
           {
            "cells": {
             "fill": {
              "color": "rgb(237,237,237)"
             },
             "line": {
              "color": "white"
             }
            },
            "header": {
             "fill": {
              "color": "rgb(217,217,217)"
             },
             "line": {
              "color": "white"
             }
            },
            "type": "table"
           }
          ]
         },
         "layout": {
          "annotationdefaults": {
           "arrowhead": 0,
           "arrowwidth": 1
          },
          "autotypenumbers": "strict",
          "coloraxis": {
           "colorbar": {
            "outlinewidth": 1,
            "tickcolor": "rgb(36,36,36)",
            "ticks": "outside"
           }
          },
          "colorscale": {
           "diverging": [
            [
             0,
             "rgb(103,0,31)"
            ],
            [
             0.1,
             "rgb(178,24,43)"
            ],
            [
             0.2,
             "rgb(214,96,77)"
            ],
            [
             0.3,
             "rgb(244,165,130)"
            ],
            [
             0.4,
             "rgb(253,219,199)"
            ],
            [
             0.5,
             "rgb(247,247,247)"
            ],
            [
             0.6,
             "rgb(209,229,240)"
            ],
            [
             0.7,
             "rgb(146,197,222)"
            ],
            [
             0.8,
             "rgb(67,147,195)"
            ],
            [
             0.9,
             "rgb(33,102,172)"
            ],
            [
             1,
             "rgb(5,48,97)"
            ]
           ],
           "sequential": [
            [
             0,
             "#440154"
            ],
            [
             0.1111111111111111,
             "#482878"
            ],
            [
             0.2222222222222222,
             "#3e4989"
            ],
            [
             0.3333333333333333,
             "#31688e"
            ],
            [
             0.4444444444444444,
             "#26828e"
            ],
            [
             0.5555555555555556,
             "#1f9e89"
            ],
            [
             0.6666666666666666,
             "#35b779"
            ],
            [
             0.7777777777777778,
             "#6ece58"
            ],
            [
             0.8888888888888888,
             "#b5de2b"
            ],
            [
             1,
             "#fde725"
            ]
           ],
           "sequentialminus": [
            [
             0,
             "#440154"
            ],
            [
             0.1111111111111111,
             "#482878"
            ],
            [
             0.2222222222222222,
             "#3e4989"
            ],
            [
             0.3333333333333333,
             "#31688e"
            ],
            [
             0.4444444444444444,
             "#26828e"
            ],
            [
             0.5555555555555556,
             "#1f9e89"
            ],
            [
             0.6666666666666666,
             "#35b779"
            ],
            [
             0.7777777777777778,
             "#6ece58"
            ],
            [
             0.8888888888888888,
             "#b5de2b"
            ],
            [
             1,
             "#fde725"
            ]
           ]
          },
          "colorway": [
           "#1F77B4",
           "#FF7F0E",
           "#2CA02C",
           "#D62728",
           "#9467BD",
           "#8C564B",
           "#E377C2",
           "#7F7F7F",
           "#BCBD22",
           "#17BECF"
          ],
          "font": {
           "color": "rgb(36,36,36)"
          },
          "geo": {
           "bgcolor": "white",
           "lakecolor": "white",
           "landcolor": "white",
           "showlakes": true,
           "showland": true,
           "subunitcolor": "white"
          },
          "hoverlabel": {
           "align": "left"
          },
          "hovermode": "closest",
          "mapbox": {
           "style": "light"
          },
          "paper_bgcolor": "white",
          "plot_bgcolor": "white",
          "polar": {
           "angularaxis": {
            "gridcolor": "rgb(232,232,232)",
            "linecolor": "rgb(36,36,36)",
            "showgrid": false,
            "showline": true,
            "ticks": "outside"
           },
           "bgcolor": "white",
           "radialaxis": {
            "gridcolor": "rgb(232,232,232)",
            "linecolor": "rgb(36,36,36)",
            "showgrid": false,
            "showline": true,
            "ticks": "outside"
           }
          },
          "scene": {
           "xaxis": {
            "backgroundcolor": "white",
            "gridcolor": "rgb(232,232,232)",
            "gridwidth": 2,
            "linecolor": "rgb(36,36,36)",
            "showbackground": true,
            "showgrid": false,
            "showline": true,
            "ticks": "outside",
            "zeroline": false,
            "zerolinecolor": "rgb(36,36,36)"
           },
           "yaxis": {
            "backgroundcolor": "white",
            "gridcolor": "rgb(232,232,232)",
            "gridwidth": 2,
            "linecolor": "rgb(36,36,36)",
            "showbackground": true,
            "showgrid": false,
            "showline": true,
            "ticks": "outside",
            "zeroline": false,
            "zerolinecolor": "rgb(36,36,36)"
           },
           "zaxis": {
            "backgroundcolor": "white",
            "gridcolor": "rgb(232,232,232)",
            "gridwidth": 2,
            "linecolor": "rgb(36,36,36)",
            "showbackground": true,
            "showgrid": false,
            "showline": true,
            "ticks": "outside",
            "zeroline": false,
            "zerolinecolor": "rgb(36,36,36)"
           }
          },
          "shapedefaults": {
           "fillcolor": "black",
           "line": {
            "width": 0
           },
           "opacity": 0.3
          },
          "ternary": {
           "aaxis": {
            "gridcolor": "rgb(232,232,232)",
            "linecolor": "rgb(36,36,36)",
            "showgrid": false,
            "showline": true,
            "ticks": "outside"
           },
           "baxis": {
            "gridcolor": "rgb(232,232,232)",
            "linecolor": "rgb(36,36,36)",
            "showgrid": false,
            "showline": true,
            "ticks": "outside"
           },
           "bgcolor": "white",
           "caxis": {
            "gridcolor": "rgb(232,232,232)",
            "linecolor": "rgb(36,36,36)",
            "showgrid": false,
            "showline": true,
            "ticks": "outside"
           }
          },
          "title": {
           "x": 0.05
          },
          "xaxis": {
           "automargin": true,
           "gridcolor": "rgb(232,232,232)",
           "linecolor": "rgb(36,36,36)",
           "showgrid": false,
           "showline": true,
           "ticks": "outside",
           "title": {
            "standoff": 15
           },
           "zeroline": false,
           "zerolinecolor": "rgb(36,36,36)"
          },
          "yaxis": {
           "automargin": true,
           "gridcolor": "rgb(232,232,232)",
           "linecolor": "rgb(36,36,36)",
           "showgrid": false,
           "showline": true,
           "ticks": "outside",
           "title": {
            "standoff": 15
           },
           "zeroline": false,
           "zerolinecolor": "rgb(36,36,36)"
          }
         }
        },
        "title": {
         "text": "Permanent Job Losers (16 yaers and over) - US"
        },
        "xaxis": {
         "anchor": "y",
         "domain": [
          0,
          1
         ],
         "linecolor": "lightgray",
         "nticks": 10,
         "tickformat": "%Y",
         "title": {
          "text": "Year"
         }
        },
        "yaxis": {
         "anchor": "x",
         "domain": [
          0,
          1
         ],
         "linecolor": "lightgray",
         "title": {
          "text": "Permanent Job Losers (Millions)"
         }
        }
       }
      }
     },
     "metadata": {},
     "output_type": "display_data"
    }
   ],
   "source": [
    "# US Job opening rate and unemployment rate chart\n",
    "UsEmpFig = px.bar(\n",
    "    UsEmp,\n",
    "    x=\"Year\",\n",
    "    y=[\"JobOpeningRate\", \"UnemploymentRate\"],\n",
    "    template=\"simple_white\",\n",
    "    title=\"Job Opening Rate, Unemployment Rate - US\"     \n",
    ")\n",
    "\n",
    "UsEmpFig.add_vrect(\n",
    "    x0=\"2007-12-01\", x1=\"2009-07-30\",\n",
    "    fillcolor=\"linen\", opacity=0.7,\n",
    "    layer=\"below\", line_width=0,\n",
    "    label=dict(text=\"Recession\", textposition=\"top center\", font=dict(size=8, color=\"gray\")),\n",
    ")\n",
    "\n",
    "UsEmpFig.add_vrect(\n",
    "    x0=\"2020-01-01\", x1=\"2020-12-31\",\n",
    "    fillcolor=\"linen\", opacity=0.7,\n",
    "    layer=\"below\", line_width=0,\n",
    "    label=dict(text=\"COVID\", textposition=\"top center\", font=dict(size=8, color=\"gray\")),\n",
    ")\n",
    "\n",
    "UsEmpFig.update_layout(\n",
    "    xaxis_title=\"Year\",\n",
    "    yaxis_title=\"Rate in %\",\n",
    "    legend_title=\"Measure Name\",\n",
    "    barmode= \"group\",\n",
    "    bargap=0.40,\n",
    "    legend = dict(font=dict(size=10, color=\"gray\")),\n",
    "    xaxis = dict(nticks=10,\n",
    "    tickformat=\"%Y\",\n",
    "    linecolor=\"lightgray\"\n",
    "    ),\n",
    "    \n",
    "    yaxis =dict(linecolor=\"lightgray\"),\n",
    ")\n",
    "UsEmpFig.update_traces(hovertemplate=None)\n",
    "#UsEmpFig.update_traces(mode=\"lines+markers\", hovertemplate=None)\n",
    "UsEmpFig.update_layout(hovermode=\"x unified\")\n",
    "\n",
    "\n",
    "# US permanent job losers chart\n",
    "UsJobLossFig = px.bar(\n",
    "    UsEmp,\n",
    "    x=\"Year\",\n",
    "    y=\"PermanentJobLosers\",\n",
    "    color=\"PermanentJobLosers\",\n",
    "    template=\"simple_white\",\n",
    "    color_continuous_scale=[\"lightblue\", \"darkblue\"],\n",
    "    title=\"Permanent Job Losers (16 yaers and over) - US\",\n",
    "    labels=dict(Date = \"Year\", PermanentJobLosers = \"Permanent Job Losers (Millions)\",),\n",
    ")\n",
    "UsJobLossFig.add_vrect(\n",
    "    x0=\"2007-12-01\", x1=\"2009-07-30\",\n",
    "    fillcolor=\"linen\", opacity=0.7,\n",
    "    layer=\"below\", line_width=0,\n",
    "    label=dict(text=\"Recession\", textposition=\"top center\", font=dict(size=8, color=\"gray\")),\n",
    ")\n",
    "\n",
    "UsJobLossFig.add_vrect(\n",
    "    x0=\"2020-01-01\", x1=\"2020-12-31\",\n",
    "    fillcolor=\"linen\", opacity=0.7,\n",
    "    layer=\"below\", line_width=0,\n",
    "    label=dict(text=\"COVID\", textposition=\"top center\", font=dict(size=8, color=\"gray\")),\n",
    ")\n",
    "\n",
    "UsJobLossFig.update_layout(\n",
    "    bargap=0.40,\n",
    "    legend = dict(font=dict(size=8, color=\"gray\")),\n",
    "    xaxis = dict(nticks=10,\n",
    "    tickformat=\"%Y\",\n",
    "    linecolor=\"lightgray\"\n",
    "    ),\n",
    "    \n",
    "    yaxis =dict(linecolor=\"lightgray\")\n",
    ")"
   ]
  },
  {
   "cell_type": "code",
   "execution_count": 6893,
   "metadata": {},
   "outputs": [],
   "source": [
    "# declare a variable called UnemploymentTabContent4 to hold the content (html, input and output components) of this tab in the page.\n",
    "UnemploymentTabContent4 = html.Div([\n",
    "    html.H2(\n",
    "        \"Unemployment Rate, Job Opening Rate and Number of Permanent Job Losers in the USA\", \n",
    "        className=\"mt-4 px-4 align-center\"), \n",
    "        \n",
    "    dbc.Row([\n",
    "        dbc.Col([\n",
    "            html.Div([\n",
    "                html.H4(\"Unemployment Rate and Job Opening Rate\", className=\"card-title\"),\n",
    "                html.P(\n",
    "                    \"The unemployment rate and the job opening rate follow an inverse trend, as expected. \" \n",
    "                    \"On both of them, the impact of the recession was sharper, and the recovery was much slower compared to COVID.\",\n",
    "                    className=\"card-text\",\n",
    "                )\n",
    "            ], className=\"mt-4\")\n",
    "        ],className=\"col-4\"),\n",
    "    \n",
    "        dbc.Col([\n",
    "            dcc.Graph(figure=UsEmpFig)\n",
    "        ],className=\"col-8\")\n",
    "    ]),\n",
    "        \n",
    "    dbc.Row([\n",
    "        dbc.Col([\n",
    "            html.Div([\n",
    "                html.H4(\"Permanent Job Losers\", className=\"card-title\"),\n",
    "                html.P(\n",
    "                    \"The number of permanent job losers (16 years and over) was much higher during the recession and took years to decline.\",\n",
    "                    className=\"card-text\",\n",
    "                )\n",
    "            ], className=\"mt-4\")\n",
    "        ],className=\"col-4\"),\n",
    "          \n",
    "        dbc.Col([\n",
    "            dcc.Graph(figure=UsJobLossFig)\n",
    "        ],className=\"col-8\")\n",
    "    ]),\n",
    "])"
   ]
  },
  {
   "cell_type": "code",
   "execution_count": 6894,
   "metadata": {},
   "outputs": [],
   "source": [
    "# Define the dropdown component for states\n",
    "dropdown = dcc.Dropdown(\n",
    "    \n",
    "    options=States,\n",
    "    value=firstState,\n",
    "    clearable=False\n",
    ")\n",
    "\n",
    "#State wise Home value, home owenership rate and new building permits Charts and Callback\n",
    "HomeValueStateChart = dcc.Graph()\n",
    "HomeOwnRateStateChart = dcc.Graph()\n",
    "NewPermitsStateChart = dcc.Graph()\n",
    "\n",
    "# Callback for State home value chart\n",
    "@callback(\n",
    "        Output(HomeValueStateChart, \"figure\"), \n",
    "        Input(dropdown, \"value\")\n",
    ")\n",
    "\n",
    "def updateStateHomeValueChart(selectedState):\n",
    "    \n",
    "    mask = StateHousing[\"State\"] == selectedState;\n",
    "    Title = \"Average Home Value Index (Zillow) in: \" + selectedState;\n",
    "    \n",
    "    HomeValueFig = px.line(\n",
    "        StateHousing[mask],\n",
    "        x=\"Date\",\n",
    "        y=\"AvgHomeValue\",\n",
    "        template=\"simple_white\",\n",
    "        title=Title,\n",
    "        markers=True,\n",
    "        line_shape=\"spline\",\n",
    "        labels=dict(Date = \"Year\", AvgHomeValue = \"Average Home Value ($)\",)\n",
    "    )\n",
    "    HomeValueFig.add_vrect(\n",
    "        x0=\"2007-12-01\", x1=\"2009-07-30\",\n",
    "        fillcolor=\"linen\", opacity=0.5,\n",
    "        layer=\"below\", line_width=0,\n",
    "        label=dict(text=\"Recession\", textposition=\"top center\", font=dict(size=8, color=\"gray\")),\n",
    "    )\n",
    "\n",
    "    HomeValueFig.add_vrect(\n",
    "        x0=\"2020-01-01\", x1=\"2020-12-31\",\n",
    "        fillcolor=\"linen\", opacity=0.5,\n",
    "        layer=\"below\", line_width=0,\n",
    "        label=dict(text=\"COVID\", textposition=\"top center\", font=dict(size=8, color=\"gray\")),\n",
    "    )\n",
    "\n",
    "    HomeValueFig.update_layout(\n",
    "        legend = dict(font=dict(size=8, color=\"gray\")),\n",
    "        xaxis = dict(nticks=10,\n",
    "        tickformat=\"%Y\",\n",
    "        linecolor=\"lightgray\"\n",
    "        ),\n",
    "        \n",
    "        yaxis =dict(linecolor=\"lightgray\")    \n",
    "    )\n",
    "    \n",
    "    HomeValueFig.update_traces(line_color='steelblue', \n",
    "                                line_width=2,\n",
    "                                marker = dict(color=\"darkblue\", size = 10),\n",
    "    )\n",
    "    \n",
    "    HomeValueFig.update_traces(mode=\"lines+markers\", hovertemplate=None)\n",
    "    HomeValueFig.update_layout(hovermode=\"x unified\")\n",
    "    return HomeValueFig\n",
    "\n",
    "# Callback for state homeownership rate\n",
    "@callback(\n",
    "        Output(HomeOwnRateStateChart, \"figure\"), \n",
    "        Input(dropdown, \"value\")\n",
    ")\n",
    "\n",
    "def updateStateHomeOwnRateChart(selectedState):\n",
    "    \n",
    "    mask = StateHousing[\"State\"] == selectedState;\n",
    "    Title = \"Homeownership Rate in: \" + selectedState;\n",
    "         \n",
    "    HomeOwnFig = px.bar(\n",
    "        StateHousing[mask],\n",
    "        x=\"Date\",\n",
    "        y=\"HomeownershipRate\",\n",
    "        color=\"HomeownershipRate\",\n",
    "        template=\"simple_white\",\n",
    "        color_continuous_scale=[\"lightblue\", \"darkblue\"],\n",
    "        title=Title,\n",
    "        labels=dict(Date = \"Year\", HomeownershipRate = \"Homeownership Rate (%)\",)\n",
    "    )\n",
    "    \n",
    "    HomeOwnFig.add_vrect(\n",
    "        x0=\"2007-12-01\", x1=\"2009-07-30\",\n",
    "        fillcolor=\"linen\", opacity=0.5,\n",
    "        layer=\"below\", line_width=0,\n",
    "        label=dict(text=\"Recession\", textposition=\"top center\", font=dict(size=8, color=\"gray\")),\n",
    "    )\n",
    "\n",
    "    HomeOwnFig.add_vrect(\n",
    "        x0=\"2020-01-01\", x1=\"2020-12-31\",\n",
    "        fillcolor=\"linen\", opacity=0.5,\n",
    "        layer=\"below\", line_width=0,\n",
    "        label=dict(text=\"COVID\", textposition=\"top center\", font=dict(size=8, color=\"gray\")),\n",
    "    )\n",
    "\n",
    "    HomeOwnFig.update_layout(\n",
    "        bargap=0.40,\n",
    "        legend = dict(font=dict(size=8, color=\"gray\")),\n",
    "        xaxis = dict(nticks=10,\n",
    "        tickformat=\"%Y\",\n",
    "        linecolor=\"lightgray\"\n",
    "        ),\n",
    "        \n",
    "        yaxis =dict(linecolor=\"lightgray\")\n",
    "        \n",
    "    )\n",
    "    \n",
    "    return HomeOwnFig\n",
    "\n",
    "\n",
    "# Callback for new building permits chart\n",
    "@callback(\n",
    "        Output(NewPermitsStateChart, \"figure\"), \n",
    "        Input(dropdown, \"value\")\n",
    ")\n",
    "\n",
    "def updateStateNewPermitsChart(selectedState):\n",
    "    \n",
    "    mask = StateHousing[\"State\"] == selectedState;\n",
    "    Title = \"New Building Permits issued in: \" + selectedState;\n",
    "         \n",
    "    PermitsFig = px.bar(\n",
    "        StateHousing[mask],\n",
    "        x=\"Date\",\n",
    "        y=\"PermitsHousing\",\n",
    "        color=\"PermitsHousing\",\n",
    "        template=\"simple_white\",\n",
    "        color_continuous_scale=[\"lightblue\", \"darkblue\"],\n",
    "        title=Title,\n",
    "        labels=dict(Date = \"Year\", PermitsHousing = \"Average Units (Thousands)\",)\n",
    "    )\n",
    "    PermitsFig.add_vrect(\n",
    "        x0=\"2007-12-01\", x1=\"2009-07-30\",\n",
    "        fillcolor=\"linen\", opacity=0.5,\n",
    "        layer=\"below\", line_width=0,\n",
    "        label=dict(text=\"Recession\", textposition=\"top center\", font=dict(size=8, color=\"gray\")),\n",
    "    )\n",
    "\n",
    "    PermitsFig.add_vrect(\n",
    "        x0=\"2020-01-01\", x1=\"2020-12-31\",\n",
    "        fillcolor=\"linen\", opacity=0.5,\n",
    "        layer=\"below\", line_width=0,\n",
    "        label=dict(text=\"COVID\", textposition=\"top center\", font=dict(size=8, color=\"gray\")),\n",
    "    )\n",
    "\n",
    "    PermitsFig.update_layout(\n",
    "        bargap=0.40,\n",
    "        legend = dict(font=dict(size=8, color=\"gray\")),\n",
    "        xaxis = dict(nticks=10,\n",
    "        tickformat=\"%Y\",\n",
    "        linecolor=\"lightgray\"\n",
    "        ),\n",
    "        \n",
    "        yaxis =dict(linecolor=\"lightgray\")\n",
    "    )\n",
    "\n",
    "    return PermitsFig"
   ]
  },
  {
   "cell_type": "code",
   "execution_count": 6895,
   "metadata": {},
   "outputs": [],
   "source": [
    "# declare a variable called HousingTabContent1 to hold the content (html, input and output components) of this tab in the page.\n",
    "HousingTabContent1 = html.Div([\n",
    "    html.H2(\n",
    "        \"Home Value Index, Homeownership Rate and New Building Permits Issued\", \n",
    "        className=\"mt-4 px-4 align-center\"), \n",
    "\n",
    "    dbc.Row([\n",
    "        dbc.Col([\n",
    "            html.Div([\n",
    "                dbc.Label(\"Select a State\", className=\"pl-4\"),\n",
    "                dropdown,\n",
    "            ], className=\"col-3\")\n",
    "        ], className=\"my-4\"),\n",
    "    ]),\n",
    "        \n",
    "    dbc.Row([\n",
    "        dbc.Col([\n",
    "            html.Div([\n",
    "                html.H4(\"Home Value Index (Zillow)\", className=\"card-title\"),\n",
    "                html.P(\n",
    "                    \"The burst of the housing bubble during the recession caused a sharp drop in home \" \n",
    "                    \"values across the states. However, COVID saw a steady increase in home value \"\n",
    "                    \"as housing inventory fell and mortgage rates came down to historical lows.\",\n",
    "                    className=\"card-text\",\n",
    "                )\n",
    "            ], className=\"mt-4\")\n",
    "        ],className=\"col-4\"),\n",
    "    \n",
    "        dbc.Col([\n",
    "            HomeValueStateChart\n",
    "        ],className=\"col-8\")\n",
    "    ]),\n",
    "        \n",
    "    dbc.Row([\n",
    "        dbc.Col([\n",
    "            html.Div([\n",
    "                html.H4(\"Homeownership Rate\", className=\"card-title\"),\n",
    "                html.P(\n",
    "                    \"The struggles in keeping homes led to a decline in homeownership rate during the recession. \"\n",
    "                    \"However, COVID restrictions and low mortgage rates increased homeownership rates \",\n",
    "                    className=\"card-text\",\n",
    "                )\n",
    "            ], className=\"mt-4\")\n",
    "        ],className=\"col-4\"),\n",
    "          \n",
    "        dbc.Col([\n",
    "            HomeOwnRateStateChart\n",
    "        ],className=\"col-8\")\n",
    "    ]),\n",
    "        \n",
    "    dbc.Row([\n",
    "        dbc.Col([\n",
    "            html.Div([\n",
    "                html.H4(\"Building Permits\", className=\"card-title\"),\n",
    "                html.P(\n",
    "                    \"The housing crisis during the recession led to fewer number of new buidling permits. \"\n",
    "                    \"During COVID, the permits issued saw an uptick\",\n",
    "                    className=\"card-text\",\n",
    "                )\n",
    "            ], className=\"mt-4\")\n",
    "        ],className=\"col-4\"),\n",
    "    \n",
    "        dbc.Col([\n",
    "            NewPermitsStateChart\n",
    "        ],className=\"col-8\")\n",
    "    ])\n",
    "])"
   ]
  },
  {
   "cell_type": "code",
   "execution_count": 6896,
   "metadata": {},
   "outputs": [],
   "source": [
    "# Define the dropdown component for states\n",
    "dropdown = dcc.Dropdown(\n",
    "    \n",
    "    options=States,\n",
    "    value=firstState,\n",
    "    clearable=False\n",
    ")\n",
    "\n",
    "#State wise Rental vacancy rate and home vacancy rate Charts and Callback\n",
    "RentVacRateStateChart = dcc.Graph()\n",
    "HomeVacRateStateChart = dcc.Graph()\n",
    "\n",
    "# Callback for rental vacancy rate chart\n",
    "@callback(\n",
    "        Output(RentVacRateStateChart, \"figure\"), \n",
    "        Input(dropdown, \"value\")\n",
    ")\n",
    "\n",
    "def updateStateRentVacRateChart(selectedState):\n",
    "    \n",
    "    mask = StateHousing[\"State\"] == selectedState;\n",
    "    Title = \"Rental Vacancy Rate in: \" + selectedState;\n",
    "         \n",
    "    RentVacFig = px.bar(\n",
    "        StateHousing[mask],\n",
    "        x=\"Date\",\n",
    "        y=\"RentalVacancyRate\",\n",
    "        color=\"RentalVacancyRate\",\n",
    "        template=\"simple_white\",\n",
    "        color_continuous_scale=[\"lightblue\", \"darkblue\"],\n",
    "        title=Title,\n",
    "        labels=dict(Date = \"Year\", RentalVacancyRate = \"Rental Vacancy Rate (%)\",)\n",
    "    )\n",
    "    RentVacFig.add_vrect(\n",
    "        x0=\"2007-12-01\", x1=\"2009-07-30\",\n",
    "        fillcolor=\"linen\", opacity=0.5,\n",
    "        layer=\"below\", line_width=0,\n",
    "        label=dict(text=\"Recession\", textposition=\"top center\", font=dict(size=8, color=\"gray\")),\n",
    "    )\n",
    "\n",
    "    RentVacFig.add_vrect(\n",
    "        x0=\"2020-01-01\", x1=\"2020-12-31\",\n",
    "        fillcolor=\"linen\", opacity=0.5,\n",
    "        layer=\"below\", line_width=0,\n",
    "        label=dict(text=\"COVID\", textposition=\"top center\", font=dict(size=8, color=\"gray\")),\n",
    "    )\n",
    "\n",
    "    RentVacFig.update_layout(\n",
    "        bargap=0.40,\n",
    "        legend = dict(font=dict(size=8, color=\"gray\")),\n",
    "        xaxis = dict(nticks=10,\n",
    "        tickformat=\"%Y\",\n",
    "        linecolor=\"lightgray\"\n",
    "        ),\n",
    "        \n",
    "        yaxis =dict(linecolor=\"lightgray\")\n",
    "    )\n",
    "    \n",
    "    return RentVacFig\n",
    "\n",
    "# Callback for home vacancy rate chart\n",
    "@callback(\n",
    "        Output(HomeVacRateStateChart, \"figure\"), \n",
    "        Input(dropdown, \"value\")\n",
    ")\n",
    "\n",
    "def updateStateHomeVacRateChart(selectedState):\n",
    "    \n",
    "    mask = StateHousing[\"State\"] == selectedState;\n",
    "    Title = \"Home Vacancy Rate in: \" + selectedState;\n",
    "         \n",
    "    HomeVacFig = px.bar(\n",
    "        StateHousing[mask],\n",
    "        x=\"Date\",\n",
    "        y=\"HomeVacancyRate\",\n",
    "        color=\"HomeVacancyRate\",\n",
    "        template=\"simple_white\",\n",
    "        color_continuous_scale=[\"lightblue\", \"darkblue\"],\n",
    "        title=Title,\n",
    "        labels=dict(Date = \"Year\", HomeVacancyRate = \"Home Vacancy Rate (%)\",)\n",
    "    )\n",
    "    HomeVacFig.add_vrect(\n",
    "        x0=\"2007-12-01\", x1=\"2009-07-30\",\n",
    "        fillcolor=\"linen\", opacity=0.7,\n",
    "        layer=\"below\", line_width=0,\n",
    "        label=dict(text=\"Recession\", textposition=\"top center\", font=dict(size=8, color=\"gray\")),\n",
    "    )\n",
    "\n",
    "    HomeVacFig.add_vrect(\n",
    "        x0=\"2020-01-01\", x1=\"2020-12-31\",\n",
    "        fillcolor=\"linen\", opacity=0.7,\n",
    "        layer=\"below\", line_width=0,\n",
    "        label=dict(text=\"COVID\", textposition=\"top center\", font=dict(size=8, color=\"gray\")),\n",
    "    )\n",
    "\n",
    "    HomeVacFig.update_layout(\n",
    "        bargap=0.40,\n",
    "        legend = dict(font=dict(size=8, color=\"gray\")),\n",
    "        xaxis = dict(nticks=10,\n",
    "        tickformat=\"%Y\",\n",
    "        linecolor=\"lightgray\"\n",
    "        ),\n",
    "        \n",
    "        yaxis =dict(linecolor=\"lightgray\")\n",
    "    )\n",
    "    return HomeVacFig"
   ]
  },
  {
   "cell_type": "code",
   "execution_count": 6897,
   "metadata": {},
   "outputs": [],
   "source": [
    "# declare a variable called HousingTabContent2 to hold the content (html, input and output components) of this tab in the page.\n",
    "HousingTabContent2 = html.Div([\n",
    "    html.H2(\n",
    "        \"Rental Vacancy Rate and Home Vacancy Rate\", \n",
    "        className=\"mt-4 px-4 align-center\"), \n",
    "\n",
    "    dbc.Row([\n",
    "        dbc.Col([\n",
    "            html.Div([\n",
    "                dbc.Label(\"Select a State\", className=\"pl-4\"),\n",
    "                dropdown,\n",
    "            ], className=\"col-3\")\n",
    "        ], className=\"my-4\"),\n",
    "    ]),\n",
    "        \n",
    "    dbc.Row([\n",
    "        dbc.Col([\n",
    "            html.Div([\n",
    "                html.H4(\"Rental Vacancy Rate\", className=\"card-title\"),\n",
    "                html.P(\n",
    "                    \"The rental vacancy rates grew during recession. During covid, \" \n",
    "                    \"it decreased steadily in all three states because of shortage of rentals.\",\n",
    "                    className=\"card-text\",\n",
    "                )\n",
    "            ], className=\"mt-4\")\n",
    "        ],className=\"col-4\"),\n",
    "    \n",
    "        dbc.Col([\n",
    "            RentVacRateStateChart\n",
    "        ],className=\"col-8\")\n",
    "    ]),\n",
    "        \n",
    "    dbc.Row([\n",
    "        dbc.Col([\n",
    "            html.Div([\n",
    "                html.H4(\"Home Vacancy Rate\", className=\"card-title\"),\n",
    "                html.P(\n",
    "                    \"The home vacancy rates grew during recession. During covid, \" \n",
    "                    \"it decreased steadily in all three states because of lower inventory and increased demand of homes.\",\n",
    "                    className=\"card-text\",\n",
    "                )\n",
    "            ], className=\"mt-4\")\n",
    "        ],className=\"col-4\"),\n",
    "          \n",
    "        dbc.Col([\n",
    "            HomeVacRateStateChart\n",
    "        ],className=\"col-8\")\n",
    "    ]),\n",
    "])"
   ]
  },
  {
   "cell_type": "code",
   "execution_count": 6898,
   "metadata": {},
   "outputs": [
    {
     "data": {
      "application/vnd.plotly.v1+json": {
       "config": {
        "plotlyServerURL": "https://plot.ly"
       },
       "data": [
        {
         "alignmentgroup": "True",
         "hovertemplate": "Year=%{x}<br>Delinquency Rate (%)=%{marker.color}<extra></extra>",
         "legendgroup": "",
         "marker": {
          "color": [
           1.42,
           1.55,
           1.59,
           1.64,
           1.61,
           1.62,
           1.74,
           1.92,
           2.08,
           2.29,
           2.71,
           3.1,
           3.68,
           4.36,
           5.28,
           6.58,
           8.01,
           8.57,
           9.48,
           10.4,
           11.48,
           11.08,
           10.66,
           10.33,
           10.36,
           10.55,
           10.51,
           10.26,
           10.33,
           10.45,
           10.47,
           10.02,
           9.74,
           9.32,
           8.66,
           8.3,
           7.77,
           7.43,
           7.06,
           6.5,
           6.24,
           5.82,
           5.39,
           5.11,
           4.78,
           4.59,
           4.38,
           4.14,
           3.9,
           3.68,
           3.64,
           3.57,
           3.48,
           3.22,
           2.99,
           2.83,
           2.7,
           2.6,
           2.44,
           2.34,
           2.35,
           2.54,
           2.83,
           2.74,
           2.68,
           2.48,
           2.3,
           2.28,
           2.09,
           1.96,
           1.85,
           1.78
          ],
          "coloraxis": "coloraxis",
          "pattern": {
           "shape": ""
          }
         },
         "name": "",
         "offsetgroup": "",
         "orientation": "v",
         "showlegend": false,
         "textposition": "auto",
         "type": "bar",
         "x": [
          "2005-01-01T00:00:00",
          "2005-04-01T00:00:00",
          "2005-07-01T00:00:00",
          "2005-10-01T00:00:00",
          "2006-01-01T00:00:00",
          "2006-04-01T00:00:00",
          "2006-07-01T00:00:00",
          "2006-10-01T00:00:00",
          "2007-01-01T00:00:00",
          "2007-04-01T00:00:00",
          "2007-07-01T00:00:00",
          "2007-10-01T00:00:00",
          "2008-01-01T00:00:00",
          "2008-04-01T00:00:00",
          "2008-07-01T00:00:00",
          "2008-10-01T00:00:00",
          "2009-01-01T00:00:00",
          "2009-04-01T00:00:00",
          "2009-07-01T00:00:00",
          "2009-10-01T00:00:00",
          "2010-01-01T00:00:00",
          "2010-04-01T00:00:00",
          "2010-07-01T00:00:00",
          "2010-10-01T00:00:00",
          "2011-01-01T00:00:00",
          "2011-04-01T00:00:00",
          "2011-07-01T00:00:00",
          "2011-10-01T00:00:00",
          "2012-01-01T00:00:00",
          "2012-04-01T00:00:00",
          "2012-07-01T00:00:00",
          "2012-10-01T00:00:00",
          "2013-01-01T00:00:00",
          "2013-04-01T00:00:00",
          "2013-07-01T00:00:00",
          "2013-10-01T00:00:00",
          "2014-01-01T00:00:00",
          "2014-04-01T00:00:00",
          "2014-07-01T00:00:00",
          "2014-10-01T00:00:00",
          "2015-01-01T00:00:00",
          "2015-04-01T00:00:00",
          "2015-07-01T00:00:00",
          "2015-10-01T00:00:00",
          "2016-01-01T00:00:00",
          "2016-04-01T00:00:00",
          "2016-07-01T00:00:00",
          "2016-10-01T00:00:00",
          "2017-01-01T00:00:00",
          "2017-04-01T00:00:00",
          "2017-07-01T00:00:00",
          "2017-10-01T00:00:00",
          "2018-01-01T00:00:00",
          "2018-04-01T00:00:00",
          "2018-07-01T00:00:00",
          "2018-10-01T00:00:00",
          "2019-01-01T00:00:00",
          "2019-04-01T00:00:00",
          "2019-07-01T00:00:00",
          "2019-10-01T00:00:00",
          "2020-01-01T00:00:00",
          "2020-04-01T00:00:00",
          "2020-07-01T00:00:00",
          "2020-10-01T00:00:00",
          "2021-01-01T00:00:00",
          "2021-04-01T00:00:00",
          "2021-07-01T00:00:00",
          "2021-10-01T00:00:00",
          "2022-01-01T00:00:00",
          "2022-04-01T00:00:00",
          "2022-07-01T00:00:00",
          "2022-10-01T00:00:00"
         ],
         "xaxis": "x",
         "y": [
          1.42,
          1.55,
          1.59,
          1.64,
          1.61,
          1.62,
          1.74,
          1.92,
          2.08,
          2.29,
          2.71,
          3.1,
          3.68,
          4.36,
          5.28,
          6.58,
          8.01,
          8.57,
          9.48,
          10.4,
          11.48,
          11.08,
          10.66,
          10.33,
          10.36,
          10.55,
          10.51,
          10.26,
          10.33,
          10.45,
          10.47,
          10.02,
          9.74,
          9.32,
          8.66,
          8.3,
          7.77,
          7.43,
          7.06,
          6.5,
          6.24,
          5.82,
          5.39,
          5.11,
          4.78,
          4.59,
          4.38,
          4.14,
          3.9,
          3.68,
          3.64,
          3.57,
          3.48,
          3.22,
          2.99,
          2.83,
          2.7,
          2.6,
          2.44,
          2.34,
          2.35,
          2.54,
          2.83,
          2.74,
          2.68,
          2.48,
          2.3,
          2.28,
          2.09,
          1.96,
          1.85,
          1.78
         ],
         "yaxis": "y"
        }
       ],
       "layout": {
        "bargap": 0.4,
        "barmode": "relative",
        "coloraxis": {
         "colorbar": {
          "title": {
           "text": "Delinquency Rate (%)"
          }
         },
         "colorscale": [
          [
           0,
           "lightblue"
          ],
          [
           1,
           "darkblue"
          ]
         ]
        },
        "legend": {
         "font": {
          "color": "gray",
          "size": 8
         },
         "tracegroupgap": 0
        },
        "shapes": [
         {
          "fillcolor": "linen",
          "label": {
           "font": {
            "color": "gray",
            "size": 8
           },
           "text": "Recession",
           "textposition": "top center"
          },
          "layer": "below",
          "line": {
           "width": 0
          },
          "opacity": 0.7,
          "type": "rect",
          "x0": "2007-12-01",
          "x1": "2009-07-30",
          "xref": "x",
          "y0": 0,
          "y1": 1,
          "yref": "y domain"
         },
         {
          "fillcolor": "linen",
          "label": {
           "font": {
            "color": "gray",
            "size": 8
           },
           "text": "COVID",
           "textposition": "top center"
          },
          "layer": "below",
          "line": {
           "width": 0
          },
          "opacity": 0.7,
          "type": "rect",
          "x0": "2020-01-01",
          "x1": "2020-12-31",
          "xref": "x",
          "y0": 0,
          "y1": 1,
          "yref": "y domain"
         }
        ],
        "template": {
         "data": {
          "bar": [
           {
            "error_x": {
             "color": "rgb(36,36,36)"
            },
            "error_y": {
             "color": "rgb(36,36,36)"
            },
            "marker": {
             "line": {
              "color": "white",
              "width": 0.5
             },
             "pattern": {
              "fillmode": "overlay",
              "size": 10,
              "solidity": 0.2
             }
            },
            "type": "bar"
           }
          ],
          "barpolar": [
           {
            "marker": {
             "line": {
              "color": "white",
              "width": 0.5
             },
             "pattern": {
              "fillmode": "overlay",
              "size": 10,
              "solidity": 0.2
             }
            },
            "type": "barpolar"
           }
          ],
          "carpet": [
           {
            "aaxis": {
             "endlinecolor": "rgb(36,36,36)",
             "gridcolor": "white",
             "linecolor": "white",
             "minorgridcolor": "white",
             "startlinecolor": "rgb(36,36,36)"
            },
            "baxis": {
             "endlinecolor": "rgb(36,36,36)",
             "gridcolor": "white",
             "linecolor": "white",
             "minorgridcolor": "white",
             "startlinecolor": "rgb(36,36,36)"
            },
            "type": "carpet"
           }
          ],
          "choropleth": [
           {
            "colorbar": {
             "outlinewidth": 1,
             "tickcolor": "rgb(36,36,36)",
             "ticks": "outside"
            },
            "type": "choropleth"
           }
          ],
          "contour": [
           {
            "colorbar": {
             "outlinewidth": 1,
             "tickcolor": "rgb(36,36,36)",
             "ticks": "outside"
            },
            "colorscale": [
             [
              0,
              "#440154"
             ],
             [
              0.1111111111111111,
              "#482878"
             ],
             [
              0.2222222222222222,
              "#3e4989"
             ],
             [
              0.3333333333333333,
              "#31688e"
             ],
             [
              0.4444444444444444,
              "#26828e"
             ],
             [
              0.5555555555555556,
              "#1f9e89"
             ],
             [
              0.6666666666666666,
              "#35b779"
             ],
             [
              0.7777777777777778,
              "#6ece58"
             ],
             [
              0.8888888888888888,
              "#b5de2b"
             ],
             [
              1,
              "#fde725"
             ]
            ],
            "type": "contour"
           }
          ],
          "contourcarpet": [
           {
            "colorbar": {
             "outlinewidth": 1,
             "tickcolor": "rgb(36,36,36)",
             "ticks": "outside"
            },
            "type": "contourcarpet"
           }
          ],
          "heatmap": [
           {
            "colorbar": {
             "outlinewidth": 1,
             "tickcolor": "rgb(36,36,36)",
             "ticks": "outside"
            },
            "colorscale": [
             [
              0,
              "#440154"
             ],
             [
              0.1111111111111111,
              "#482878"
             ],
             [
              0.2222222222222222,
              "#3e4989"
             ],
             [
              0.3333333333333333,
              "#31688e"
             ],
             [
              0.4444444444444444,
              "#26828e"
             ],
             [
              0.5555555555555556,
              "#1f9e89"
             ],
             [
              0.6666666666666666,
              "#35b779"
             ],
             [
              0.7777777777777778,
              "#6ece58"
             ],
             [
              0.8888888888888888,
              "#b5de2b"
             ],
             [
              1,
              "#fde725"
             ]
            ],
            "type": "heatmap"
           }
          ],
          "heatmapgl": [
           {
            "colorbar": {
             "outlinewidth": 1,
             "tickcolor": "rgb(36,36,36)",
             "ticks": "outside"
            },
            "colorscale": [
             [
              0,
              "#440154"
             ],
             [
              0.1111111111111111,
              "#482878"
             ],
             [
              0.2222222222222222,
              "#3e4989"
             ],
             [
              0.3333333333333333,
              "#31688e"
             ],
             [
              0.4444444444444444,
              "#26828e"
             ],
             [
              0.5555555555555556,
              "#1f9e89"
             ],
             [
              0.6666666666666666,
              "#35b779"
             ],
             [
              0.7777777777777778,
              "#6ece58"
             ],
             [
              0.8888888888888888,
              "#b5de2b"
             ],
             [
              1,
              "#fde725"
             ]
            ],
            "type": "heatmapgl"
           }
          ],
          "histogram": [
           {
            "marker": {
             "line": {
              "color": "white",
              "width": 0.6
             }
            },
            "type": "histogram"
           }
          ],
          "histogram2d": [
           {
            "colorbar": {
             "outlinewidth": 1,
             "tickcolor": "rgb(36,36,36)",
             "ticks": "outside"
            },
            "colorscale": [
             [
              0,
              "#440154"
             ],
             [
              0.1111111111111111,
              "#482878"
             ],
             [
              0.2222222222222222,
              "#3e4989"
             ],
             [
              0.3333333333333333,
              "#31688e"
             ],
             [
              0.4444444444444444,
              "#26828e"
             ],
             [
              0.5555555555555556,
              "#1f9e89"
             ],
             [
              0.6666666666666666,
              "#35b779"
             ],
             [
              0.7777777777777778,
              "#6ece58"
             ],
             [
              0.8888888888888888,
              "#b5de2b"
             ],
             [
              1,
              "#fde725"
             ]
            ],
            "type": "histogram2d"
           }
          ],
          "histogram2dcontour": [
           {
            "colorbar": {
             "outlinewidth": 1,
             "tickcolor": "rgb(36,36,36)",
             "ticks": "outside"
            },
            "colorscale": [
             [
              0,
              "#440154"
             ],
             [
              0.1111111111111111,
              "#482878"
             ],
             [
              0.2222222222222222,
              "#3e4989"
             ],
             [
              0.3333333333333333,
              "#31688e"
             ],
             [
              0.4444444444444444,
              "#26828e"
             ],
             [
              0.5555555555555556,
              "#1f9e89"
             ],
             [
              0.6666666666666666,
              "#35b779"
             ],
             [
              0.7777777777777778,
              "#6ece58"
             ],
             [
              0.8888888888888888,
              "#b5de2b"
             ],
             [
              1,
              "#fde725"
             ]
            ],
            "type": "histogram2dcontour"
           }
          ],
          "mesh3d": [
           {
            "colorbar": {
             "outlinewidth": 1,
             "tickcolor": "rgb(36,36,36)",
             "ticks": "outside"
            },
            "type": "mesh3d"
           }
          ],
          "parcoords": [
           {
            "line": {
             "colorbar": {
              "outlinewidth": 1,
              "tickcolor": "rgb(36,36,36)",
              "ticks": "outside"
             }
            },
            "type": "parcoords"
           }
          ],
          "pie": [
           {
            "automargin": true,
            "type": "pie"
           }
          ],
          "scatter": [
           {
            "fillpattern": {
             "fillmode": "overlay",
             "size": 10,
             "solidity": 0.2
            },
            "type": "scatter"
           }
          ],
          "scatter3d": [
           {
            "line": {
             "colorbar": {
              "outlinewidth": 1,
              "tickcolor": "rgb(36,36,36)",
              "ticks": "outside"
             }
            },
            "marker": {
             "colorbar": {
              "outlinewidth": 1,
              "tickcolor": "rgb(36,36,36)",
              "ticks": "outside"
             }
            },
            "type": "scatter3d"
           }
          ],
          "scattercarpet": [
           {
            "marker": {
             "colorbar": {
              "outlinewidth": 1,
              "tickcolor": "rgb(36,36,36)",
              "ticks": "outside"
             }
            },
            "type": "scattercarpet"
           }
          ],
          "scattergeo": [
           {
            "marker": {
             "colorbar": {
              "outlinewidth": 1,
              "tickcolor": "rgb(36,36,36)",
              "ticks": "outside"
             }
            },
            "type": "scattergeo"
           }
          ],
          "scattergl": [
           {
            "marker": {
             "colorbar": {
              "outlinewidth": 1,
              "tickcolor": "rgb(36,36,36)",
              "ticks": "outside"
             }
            },
            "type": "scattergl"
           }
          ],
          "scattermapbox": [
           {
            "marker": {
             "colorbar": {
              "outlinewidth": 1,
              "tickcolor": "rgb(36,36,36)",
              "ticks": "outside"
             }
            },
            "type": "scattermapbox"
           }
          ],
          "scatterpolar": [
           {
            "marker": {
             "colorbar": {
              "outlinewidth": 1,
              "tickcolor": "rgb(36,36,36)",
              "ticks": "outside"
             }
            },
            "type": "scatterpolar"
           }
          ],
          "scatterpolargl": [
           {
            "marker": {
             "colorbar": {
              "outlinewidth": 1,
              "tickcolor": "rgb(36,36,36)",
              "ticks": "outside"
             }
            },
            "type": "scatterpolargl"
           }
          ],
          "scatterternary": [
           {
            "marker": {
             "colorbar": {
              "outlinewidth": 1,
              "tickcolor": "rgb(36,36,36)",
              "ticks": "outside"
             }
            },
            "type": "scatterternary"
           }
          ],
          "surface": [
           {
            "colorbar": {
             "outlinewidth": 1,
             "tickcolor": "rgb(36,36,36)",
             "ticks": "outside"
            },
            "colorscale": [
             [
              0,
              "#440154"
             ],
             [
              0.1111111111111111,
              "#482878"
             ],
             [
              0.2222222222222222,
              "#3e4989"
             ],
             [
              0.3333333333333333,
              "#31688e"
             ],
             [
              0.4444444444444444,
              "#26828e"
             ],
             [
              0.5555555555555556,
              "#1f9e89"
             ],
             [
              0.6666666666666666,
              "#35b779"
             ],
             [
              0.7777777777777778,
              "#6ece58"
             ],
             [
              0.8888888888888888,
              "#b5de2b"
             ],
             [
              1,
              "#fde725"
             ]
            ],
            "type": "surface"
           }
          ],
          "table": [
           {
            "cells": {
             "fill": {
              "color": "rgb(237,237,237)"
             },
             "line": {
              "color": "white"
             }
            },
            "header": {
             "fill": {
              "color": "rgb(217,217,217)"
             },
             "line": {
              "color": "white"
             }
            },
            "type": "table"
           }
          ]
         },
         "layout": {
          "annotationdefaults": {
           "arrowhead": 0,
           "arrowwidth": 1
          },
          "autotypenumbers": "strict",
          "coloraxis": {
           "colorbar": {
            "outlinewidth": 1,
            "tickcolor": "rgb(36,36,36)",
            "ticks": "outside"
           }
          },
          "colorscale": {
           "diverging": [
            [
             0,
             "rgb(103,0,31)"
            ],
            [
             0.1,
             "rgb(178,24,43)"
            ],
            [
             0.2,
             "rgb(214,96,77)"
            ],
            [
             0.3,
             "rgb(244,165,130)"
            ],
            [
             0.4,
             "rgb(253,219,199)"
            ],
            [
             0.5,
             "rgb(247,247,247)"
            ],
            [
             0.6,
             "rgb(209,229,240)"
            ],
            [
             0.7,
             "rgb(146,197,222)"
            ],
            [
             0.8,
             "rgb(67,147,195)"
            ],
            [
             0.9,
             "rgb(33,102,172)"
            ],
            [
             1,
             "rgb(5,48,97)"
            ]
           ],
           "sequential": [
            [
             0,
             "#440154"
            ],
            [
             0.1111111111111111,
             "#482878"
            ],
            [
             0.2222222222222222,
             "#3e4989"
            ],
            [
             0.3333333333333333,
             "#31688e"
            ],
            [
             0.4444444444444444,
             "#26828e"
            ],
            [
             0.5555555555555556,
             "#1f9e89"
            ],
            [
             0.6666666666666666,
             "#35b779"
            ],
            [
             0.7777777777777778,
             "#6ece58"
            ],
            [
             0.8888888888888888,
             "#b5de2b"
            ],
            [
             1,
             "#fde725"
            ]
           ],
           "sequentialminus": [
            [
             0,
             "#440154"
            ],
            [
             0.1111111111111111,
             "#482878"
            ],
            [
             0.2222222222222222,
             "#3e4989"
            ],
            [
             0.3333333333333333,
             "#31688e"
            ],
            [
             0.4444444444444444,
             "#26828e"
            ],
            [
             0.5555555555555556,
             "#1f9e89"
            ],
            [
             0.6666666666666666,
             "#35b779"
            ],
            [
             0.7777777777777778,
             "#6ece58"
            ],
            [
             0.8888888888888888,
             "#b5de2b"
            ],
            [
             1,
             "#fde725"
            ]
           ]
          },
          "colorway": [
           "#1F77B4",
           "#FF7F0E",
           "#2CA02C",
           "#D62728",
           "#9467BD",
           "#8C564B",
           "#E377C2",
           "#7F7F7F",
           "#BCBD22",
           "#17BECF"
          ],
          "font": {
           "color": "rgb(36,36,36)"
          },
          "geo": {
           "bgcolor": "white",
           "lakecolor": "white",
           "landcolor": "white",
           "showlakes": true,
           "showland": true,
           "subunitcolor": "white"
          },
          "hoverlabel": {
           "align": "left"
          },
          "hovermode": "closest",
          "mapbox": {
           "style": "light"
          },
          "paper_bgcolor": "white",
          "plot_bgcolor": "white",
          "polar": {
           "angularaxis": {
            "gridcolor": "rgb(232,232,232)",
            "linecolor": "rgb(36,36,36)",
            "showgrid": false,
            "showline": true,
            "ticks": "outside"
           },
           "bgcolor": "white",
           "radialaxis": {
            "gridcolor": "rgb(232,232,232)",
            "linecolor": "rgb(36,36,36)",
            "showgrid": false,
            "showline": true,
            "ticks": "outside"
           }
          },
          "scene": {
           "xaxis": {
            "backgroundcolor": "white",
            "gridcolor": "rgb(232,232,232)",
            "gridwidth": 2,
            "linecolor": "rgb(36,36,36)",
            "showbackground": true,
            "showgrid": false,
            "showline": true,
            "ticks": "outside",
            "zeroline": false,
            "zerolinecolor": "rgb(36,36,36)"
           },
           "yaxis": {
            "backgroundcolor": "white",
            "gridcolor": "rgb(232,232,232)",
            "gridwidth": 2,
            "linecolor": "rgb(36,36,36)",
            "showbackground": true,
            "showgrid": false,
            "showline": true,
            "ticks": "outside",
            "zeroline": false,
            "zerolinecolor": "rgb(36,36,36)"
           },
           "zaxis": {
            "backgroundcolor": "white",
            "gridcolor": "rgb(232,232,232)",
            "gridwidth": 2,
            "linecolor": "rgb(36,36,36)",
            "showbackground": true,
            "showgrid": false,
            "showline": true,
            "ticks": "outside",
            "zeroline": false,
            "zerolinecolor": "rgb(36,36,36)"
           }
          },
          "shapedefaults": {
           "fillcolor": "black",
           "line": {
            "width": 0
           },
           "opacity": 0.3
          },
          "ternary": {
           "aaxis": {
            "gridcolor": "rgb(232,232,232)",
            "linecolor": "rgb(36,36,36)",
            "showgrid": false,
            "showline": true,
            "ticks": "outside"
           },
           "baxis": {
            "gridcolor": "rgb(232,232,232)",
            "linecolor": "rgb(36,36,36)",
            "showgrid": false,
            "showline": true,
            "ticks": "outside"
           },
           "bgcolor": "white",
           "caxis": {
            "gridcolor": "rgb(232,232,232)",
            "linecolor": "rgb(36,36,36)",
            "showgrid": false,
            "showline": true,
            "ticks": "outside"
           }
          },
          "title": {
           "x": 0.05
          },
          "xaxis": {
           "automargin": true,
           "gridcolor": "rgb(232,232,232)",
           "linecolor": "rgb(36,36,36)",
           "showgrid": false,
           "showline": true,
           "ticks": "outside",
           "title": {
            "standoff": 15
           },
           "zeroline": false,
           "zerolinecolor": "rgb(36,36,36)"
          },
          "yaxis": {
           "automargin": true,
           "gridcolor": "rgb(232,232,232)",
           "linecolor": "rgb(36,36,36)",
           "showgrid": false,
           "showline": true,
           "ticks": "outside",
           "title": {
            "standoff": 15
           },
           "zeroline": false,
           "zerolinecolor": "rgb(36,36,36)"
          }
         }
        },
        "title": {
         "text": "Delinquency Rate - US"
        },
        "xaxis": {
         "anchor": "y",
         "domain": [
          0,
          1
         ],
         "linecolor": "lightgray",
         "nticks": 10,
         "tickformat": "%Y",
         "title": {
          "text": "Year"
         }
        },
        "yaxis": {
         "anchor": "x",
         "domain": [
          0,
          1
         ],
         "linecolor": "lightgray",
         "title": {
          "text": "Delinquency Rate (%)"
         }
        }
       }
      }
     },
     "metadata": {},
     "output_type": "display_data"
    }
   ],
   "source": [
    "#US 30 year fixed mortgage rate chart\n",
    "UsMortgageFig = px.line(\n",
    "    UsHousing,\n",
    "    x=\"Date\",\n",
    "    y=\"MortgageRate\",\n",
    "    template=\"simple_white\",\n",
    "    markers=True,\n",
    "    line_shape=\"spline\",\n",
    "    title=\"30 Year Fixed Mortgage Rate - US\",\n",
    "    labels=dict(Date = \"Year\", MortgageRate = \"Mortgage Rate (%)\",)  \n",
    ")\n",
    "\n",
    "UsMortgageFig.add_vrect(\n",
    "    x0=\"2007-12-01\", x1=\"2009-07-30\",\n",
    "    fillcolor=\"linen\", opacity=0.7,\n",
    "    layer=\"below\", line_width=0,\n",
    "    label=dict(text=\"Recession\", textposition=\"top center\", font=dict(size=8, color=\"gray\")),\n",
    ")\n",
    "\n",
    "UsMortgageFig.add_vrect(\n",
    "    x0=\"2020-01-01\", x1=\"2020-12-31\",\n",
    "    fillcolor=\"linen\", opacity=0.7,\n",
    "    layer=\"below\", line_width=0,\n",
    "    label=dict(text=\"COVID\", textposition=\"top center\", font=dict(size=8, color=\"gray\")),\n",
    ")\n",
    "\n",
    "UsMortgageFig.update_layout(\n",
    "    legend = dict(font=dict(size=8, color=\"gray\")),\n",
    "    xaxis = dict(nticks=10,\n",
    "    tickformat=\"%Y\",\n",
    "    linecolor=\"lightgray\"\n",
    "    ),\n",
    "    \n",
    "    yaxis =dict(linecolor=\"lightgray\")\n",
    ")\n",
    "\n",
    "UsMortgageFig.update_traces(line_color='steelblue', \n",
    "                            line_width=2,\n",
    "                            marker = dict(color=\"darkblue\", size = 8)\n",
    ")\n",
    "\n",
    "\n",
    "# US Delinquency rate chart\n",
    "UsDelinquencyRateFig = px.bar(\n",
    "    UsHousing,\n",
    "    x=\"Date\",\n",
    "    y=\"DelinquencyRate\",\n",
    "    color=\"DelinquencyRate\",\n",
    "    template=\"simple_white\",\n",
    "    color_continuous_scale=[\"lightblue\", \"darkblue\"],\n",
    "    title=\"Delinquency Rate - US\",\n",
    "    labels=dict(Date = \"Year\", DelinquencyRate = \"Delinquency Rate (%)\",),\n",
    ")\n",
    "\n",
    "UsDelinquencyRateFig.add_vrect(\n",
    "    x0=\"2007-12-01\", x1=\"2009-07-30\",\n",
    "    fillcolor=\"linen\", opacity=0.7,\n",
    "    layer=\"below\", line_width=0,\n",
    "    label=dict(text=\"Recession\", textposition=\"top center\", font=dict(size=8, color=\"gray\")),\n",
    ")\n",
    "\n",
    "UsDelinquencyRateFig.add_vrect(\n",
    "    x0=\"2020-01-01\", x1=\"2020-12-31\",\n",
    "    fillcolor=\"linen\", opacity=0.7,\n",
    "    layer=\"below\", line_width=0,\n",
    "    label=dict(text=\"COVID\", textposition=\"top center\", font=dict(size=8, color=\"gray\")),\n",
    ")\n",
    "\n",
    "UsDelinquencyRateFig.update_layout(\n",
    "    bargap=0.40,\n",
    "    legend = dict(font=dict(size=8, color=\"gray\")),\n",
    "    xaxis = dict(nticks=10,\n",
    "    tickformat=\"%Y\",\n",
    "    linecolor=\"lightgray\"\n",
    "    ),\n",
    "    \n",
    "    yaxis =dict(linecolor=\"lightgray\")\n",
    ")"
   ]
  },
  {
   "cell_type": "code",
   "execution_count": 6899,
   "metadata": {},
   "outputs": [],
   "source": [
    "# declare a variable called HousingTabContent3 to hold the content (html, input and output components) of this tab in the page.\n",
    "HousingTabContent3 = html.Div([\n",
    "    html.H2(\n",
    "        \"30 Year Fixed Mortgage Rate and Delinquency Rate in the USA\", \n",
    "        className=\"mt-4 px-4 align-center\"), \n",
    "        \n",
    "    dbc.Row([\n",
    "        dbc.Col([\n",
    "            html.Div([\n",
    "                html.H4(\"30 Year Fixed Mortgage Rate\", className=\"card-title\"),\n",
    "                html.P(\n",
    "                    \"Mortgage rates spiked during the recession. \" \n",
    "                    \"It took years for the rates to come down to the lowest of the period in 2012. \"\n",
    "                    \"Covid saw the lowest mortgage rate in December 2020. This led to a increased \" \n",
    "                    \"demand for homes. The rates started to spike soon after the pandemic.\",\n",
    "                    className=\"card-text\",\n",
    "                )\n",
    "            ], className=\"mt-4\")\n",
    "        ],className=\"col-4\"),\n",
    "    \n",
    "        dbc.Col([\n",
    "            dcc.Graph(figure=UsMortgageFig)\n",
    "        ],className=\"col-8\")\n",
    "    ]),\n",
    "        \n",
    "    dbc.Row([\n",
    "        dbc.Col([\n",
    "            html.Div([\n",
    "                html.H4(\"Delinquency Rate\", className=\"card-title\"),\n",
    "                html.P(\n",
    "                    \"Delinquency rates during recession rose significantly due to loan defaults and foreclosures. \"\n",
    "                    \"During Covid the rates declined steadily due to low mortgage rates and a renewed \" \n",
    "                    \"interest in home ownership. \",\n",
    "                    className=\"card-text\",\n",
    "                )\n",
    "            ], className=\"mt-4\")\n",
    "        ],className=\"col-4\"),\n",
    "          \n",
    "        dbc.Col([\n",
    "            dcc.Graph(figure=UsDelinquencyRateFig)\n",
    "        ],className=\"col-8\")\n",
    "    ]),\n",
    "])"
   ]
  },
  {
   "cell_type": "code",
   "execution_count": 6900,
   "metadata": {},
   "outputs": [],
   "source": [
    "# Define the dropdown component for states\n",
    "dropdown = dcc.Dropdown(\n",
    "    \n",
    "    options=States,\n",
    "    value=firstState,\n",
    "    clearable=False\n",
    ")\n",
    "\n",
    "#State wise GDP, unemployment rate and homeownership rate Charts and Callback\n",
    "GdpStateChart = dcc.Graph()\n",
    "UnempRateStateChart = dcc.Graph()\n",
    "HomeOwnRateStateChart1 = dcc.Graph()\n",
    "\n",
    "#Callback for state GDP chart\n",
    "@callback(\n",
    "        Output(GdpStateChart, \"figure\"), \n",
    "        Input(dropdown, \"value\")\n",
    ")\n",
    "\n",
    "def updateStateGdpChart(selectedState):\n",
    "    \n",
    "    mask = StateGdp[\"State\"] == selectedState;\n",
    "    Title = \"GDP in: \" + selectedState;\n",
    "    \n",
    "    GdpStateFig = px.area(\n",
    "        StateGdp[mask],\n",
    "        x=\"Date\",\n",
    "        y=\"GDP\",\n",
    "        template=\"simple_white\",\n",
    "        title=Title,\n",
    "        labels=dict(Date = \"Year\", GDP = \"GDP($)\",)\n",
    "    )\n",
    "    GdpStateFig.add_vrect(\n",
    "        x0=\"2007-12-01\", x1=\"2009-07-30\",\n",
    "        fillcolor=\"linen\", opacity=0.7,\n",
    "        layer=\"below\", line_width=0,\n",
    "        label=dict(text=\"Recession\", textposition=\"top center\", font=dict(size=8, color=\"gray\")),\n",
    "    )\n",
    "\n",
    "    GdpStateFig.add_vrect(\n",
    "        x0=\"2020-01-01\", x1=\"2020-12-31\",\n",
    "        fillcolor=\"linen\", opacity=0.7,\n",
    "        layer=\"below\", line_width=0,\n",
    "        label=dict(text=\"COVID\", textposition=\"top center\", font=dict(size=8, color=\"gray\")),\n",
    "    )\n",
    "\n",
    "    GdpStateFig.update_layout(\n",
    "        legend = dict(font=dict(size=8, color=\"gray\")),\n",
    "        xaxis = dict(nticks=10,\n",
    "        tickformat=\"%Y\",\n",
    "        linecolor=\"lightgray\"\n",
    "        ),\n",
    "        \n",
    "        yaxis =dict(linecolor=\"lightgray\")\n",
    "    )\n",
    "    \n",
    "    return GdpStateFig\n",
    "\n",
    "\n",
    "# Callback for state unemployment rate chart\n",
    "@callback(\n",
    "        Output(UnempRateStateChart, \"figure\"), \n",
    "        Input(dropdown, \"value\")\n",
    ")\n",
    "\n",
    "def updateStateURateChart(selectedState):\n",
    "    \n",
    "    mask = StateEmp[\"State\"] == selectedState;\n",
    "    Title = \"Unemployment Rate in: \" + selectedState;\n",
    "    \n",
    "    URateStateFig = px.bar(\n",
    "        StateEmp[mask],\n",
    "        x=\"Date\",\n",
    "        y=\"UnemploymentRate\",\n",
    "        template=\"simple_white\",\n",
    "        color= \"UnemploymentRate\",\n",
    "        color_continuous_scale=[\"lightblue\", \"darkblue\"],\n",
    "        title=Title,\n",
    "        labels=dict(Date = \"Year\", UnemploymentRate = \"Unemployment Rate (%)\",)\n",
    "    )\n",
    "    \n",
    "    URateStateFig.add_vrect(\n",
    "        x0=\"2007-12-01\", x1=\"2009-07-30\",\n",
    "        fillcolor=\"linen\", opacity=0.7,\n",
    "        layer=\"below\", line_width=0,\n",
    "        label=dict(text=\"Recession\", textposition=\"top center\", font=dict(size=8, color=\"gray\")),\n",
    "    )\n",
    "\n",
    "    URateStateFig.add_vrect(\n",
    "        x0=\"2020-01-01\", x1=\"2020-12-31\",\n",
    "        fillcolor=\"linen\", opacity=0.7,\n",
    "        layer=\"below\", line_width=0,\n",
    "        label=dict(text=\"COVID\", textposition=\"top center\", font=dict(size=8, color=\"gray\")),\n",
    "    )\n",
    "\n",
    "    URateStateFig.update_layout(\n",
    "        bargap=0.40,\n",
    "        legend = dict(font=dict(size=8, color=\"gray\")),\n",
    "        xaxis = dict(nticks=10,\n",
    "        tickformat=\"%Y\",\n",
    "        linecolor=\"lightgray\"\n",
    "        ),\n",
    "\n",
    "        yaxis =dict(linecolor=\"lightgray\")\n",
    "    )\n",
    "    return URateStateFig\n",
    "\n",
    "\n",
    "# Callback for state homeownership rate\n",
    "@callback(\n",
    "        Output(HomeOwnRateStateChart1, \"figure\"), \n",
    "        Input(dropdown, \"value\")\n",
    ")\n",
    "\n",
    "def updateStateHomeOwnRateChart1(selectedState):\n",
    "    \n",
    "    mask = StateHousing[\"State\"] == selectedState;\n",
    "    Title = \"Homeownership Rate in: \" + selectedState;\n",
    "         \n",
    "    HomeOwnFig = px.line(\n",
    "        StateHousing[mask],\n",
    "        x=\"Date\",\n",
    "        y=\"HomeownershipRate\",\n",
    "        line_shape=\"spline\",\n",
    "        template=\"simple_white\",\n",
    "        markers=True,\n",
    "        title=Title,\n",
    "        labels=dict(Date = \"Year\", HomeownershipRate = \"Homeownership Rate (%)\",)\n",
    "    )\n",
    "    \n",
    "    HomeOwnFig.add_vrect(\n",
    "        x0=\"2007-12-01\", x1=\"2009-07-30\",\n",
    "        fillcolor=\"linen\", opacity=0.5,\n",
    "        layer=\"below\", line_width=0,\n",
    "        label=dict(text=\"Recession\", textposition=\"top center\", font=dict(size=8, color=\"gray\")),\n",
    "    )\n",
    "\n",
    "    HomeOwnFig.add_vrect(\n",
    "        x0=\"2020-01-01\", x1=\"2020-12-31\",\n",
    "        fillcolor=\"linen\", opacity=0.5,\n",
    "        layer=\"below\", line_width=0,\n",
    "        label=dict(text=\"COVID\", textposition=\"top center\", font=dict(size=8, color=\"gray\")),\n",
    "    )\n",
    "\n",
    "    HomeOwnFig.update_layout(\n",
    "       # bargap=0.40,\n",
    "        legend = dict(font=dict(size=8, color=\"gray\")),\n",
    "        xaxis = dict(nticks=10,\n",
    "        tickformat=\"%Y\",\n",
    "        linecolor=\"lightgray\"\n",
    "        ),\n",
    "        \n",
    "        yaxis =dict(linecolor=\"lightgray\")\n",
    "        \n",
    "    )\n",
    "    \n",
    "    HomeOwnFig.update_traces(line_color='steelblue', \n",
    "                            line_width=2,\n",
    "                            marker = dict(color=\"darkblue\", size = 8)\n",
    "    )   \n",
    "    \n",
    "    return HomeOwnFig"
   ]
  },
  {
   "cell_type": "code",
   "execution_count": 6901,
   "metadata": {},
   "outputs": [],
   "source": [
    "# declare a variable called LeadLagTabContent to hold the content (html, input and output components) of this tab in the page.\n",
    "LeadLagTabContent = html.Div([\n",
    "    html.H2(\n",
    "        \"GDP and Unemployment Rate\", \n",
    "        className=\"mt-4 px-4 align-center\"), \n",
    "\n",
    "    dbc.Row([\n",
    "        dbc.Col([\n",
    "            html.Div([\n",
    "                dbc.Label(\"Select a State\", className=\"pl-4\"),\n",
    "                dropdown,\n",
    "            ], className=\"col-3\")\n",
    "        ], className=\"my-4\"),\n",
    "    ]),\n",
    "        \n",
    "    dbc.Row([\n",
    "        dbc.Col([\n",
    "            html.Div([\n",
    "                html.H4(\"GDP\", className=\"card-title\"),\n",
    "                html.P(\n",
    "                    \"The GDP decreased slightly accross the three states during the recession and COVID. \" \n",
    "                    \"GDP was a leading indicator for both recession and COVID.\",\n",
    "                    className=\"card-text\",\n",
    "                )\n",
    "            ], className=\"mt-4\")\n",
    "        ],className=\"col-4\"),\n",
    "    \n",
    "        dbc.Col([\n",
    "            GdpStateChart\n",
    "        ],className=\"col-8\")\n",
    "    ]),\n",
    "        \n",
    "    dbc.Row([\n",
    "        dbc.Col([\n",
    "            html.Div([\n",
    "                html.H4(\"Unemployment Rate\", className=\"card-title\"),\n",
    "                html.P(\n",
    "                    \"Unemployment rate rose sharply leading to recession making it a leading indicator. On the other hand, \" \n",
    "                    \"during COVID, it saw a sharp increase due to mass job losses which made it a lagging indicator.\",\n",
    "                    className=\"card-text\",\n",
    "                )\n",
    "            ], className=\"mt-4\")\n",
    "        ],className=\"col-4\"),\n",
    "          \n",
    "        dbc.Col([\n",
    "            UnempRateStateChart\n",
    "        ],className=\"col-8\")\n",
    "    ]),\n",
    "    \n",
    "    dbc.Row([\n",
    "        dbc.Col([\n",
    "            html.Div([\n",
    "                html.H4(\"Homeownership Rate\", className=\"card-title\"),\n",
    "                html.P(\n",
    "                    \"The homeownership rate showed steady decline leading upto the recession. It was a leading indicator \"\n",
    "                    \"for the Great recession as the housing crisis was unfolding. But for COVID, the decline started after \" \n",
    "                    \"the pandemic due to shortage of inventory and higher demand, making it a lagging indicator. \",\n",
    "                    className=\"card-text\",\n",
    "                )\n",
    "            ], className=\"mt-4\")\n",
    "        ],className=\"col-4\"),\n",
    "    \n",
    "        dbc.Col([\n",
    "            HomeOwnRateStateChart1\n",
    "        ],className=\"col-8\")\n",
    "    ])\n",
    "])"
   ]
  },
  {
   "cell_type": "code",
   "execution_count": 6902,
   "metadata": {},
   "outputs": [],
   "source": [
    "# Define the dropdown component for states\n",
    "dropdown = dcc.Dropdown(\n",
    "    \n",
    "    options=States,\n",
    "    value=firstState,\n",
    "    clearable=False\n",
    ")\n",
    "\n",
    "#State wise Retail job growth rate and real estate job growth rate Charts and Callback\n",
    "RetailGrowthChart = dcc.Graph()\n",
    "RealEstateGrowthChart = dcc.Graph()\n",
    "\n",
    "\n",
    "# Callback for state Retail job growth rate chart\n",
    "@callback(\n",
    "        Output(RetailGrowthChart, \"figure\"), \n",
    "        Input(dropdown, \"value\")\n",
    ")\n",
    "\n",
    "def updateStateRetailGrowthChart(selectedState):\n",
    "    \n",
    "    mask = AvgDiffSect[\"State\"] == selectedState;\n",
    "    Title = \"Retail Job Growth Rate in: \" + selectedState;\n",
    "    \n",
    "    RetailGrowthFig = px.line(\n",
    "        AvgDiffSect[mask],\n",
    "        x=\"Year\",\n",
    "        y=\"RetailGrowth\",\n",
    "        template=\"simple_white\",\n",
    "        title=Title,\n",
    "        markers=True,\n",
    "        line_shape=\"spline\",\n",
    "        labels=dict(Year = \"Year\", RetailGrowth = \"Retail Job Growth Rate (%)\",)\n",
    "    )\n",
    "    RetailGrowthFig.add_vrect(\n",
    "        x0=\"2007-12-01\", x1=\"2009-07-30\",\n",
    "        fillcolor=\"linen\", opacity=0.7,\n",
    "        layer=\"below\", line_width=0,\n",
    "        label=dict(text=\"Recession\", textposition=\"top center\", font=dict(size=8, color=\"gray\")),\n",
    "    )\n",
    "\n",
    "    RetailGrowthFig.add_vrect(\n",
    "        x0=\"2020-01-01\", x1=\"2020-12-31\",\n",
    "        fillcolor=\"linen\", opacity=0.7,\n",
    "        layer=\"below\", line_width=0,\n",
    "        label=dict(text=\"COVID\", textposition=\"top center\", font=dict(size=8, color=\"gray\")),\n",
    "    )\n",
    "\n",
    "    RetailGrowthFig.update_layout(\n",
    "        legend = dict(font=dict(size=8, color=\"gray\")),\n",
    "        xaxis = dict(nticks=10,\n",
    "        tickformat=\"%Y\",\n",
    "        linecolor=\"lightgray\"\n",
    "        ),\n",
    "        \n",
    "        yaxis =dict(linecolor=\"lightgray\")\n",
    "    )\n",
    "    \n",
    "    RetailGrowthFig.update_traces(marker = dict(color=\"darkblue\", symbol=\"diamond\", size = 12),\n",
    "    )\n",
    "    \n",
    "    return RetailGrowthFig\n",
    "\n",
    "\n",
    "# Callback for real estate job growth rate Chart\n",
    "@callback(\n",
    "        Output(RealEstateGrowthChart, \"figure\"), \n",
    "        Input(dropdown, \"value\")\n",
    ")\n",
    "\n",
    "def updateStateRealEstateGrowthChart(selectedState):\n",
    "    \n",
    "    mask = AvgDiffSect[\"State\"] == selectedState;\n",
    "    Title = \"Real Estate Job Growth Rate in: \" + selectedState;\n",
    "    \n",
    "    RealEstateGrowthFig = px.line(\n",
    "        AvgDiffSect[mask],\n",
    "        x=\"Year\",\n",
    "        y=\"RealEstateGrowth\",\n",
    "        template=\"simple_white\",\n",
    "        title=Title,\n",
    "        markers=True,\n",
    "        line_shape=\"spline\",\n",
    "        labels=dict(Year = \"Year\", RealEstateGrowth = \"Real Estate Job Growth Rate (%)\",)\n",
    "    )\n",
    "    RealEstateGrowthFig.add_vrect(\n",
    "        x0=\"2007-12-01\", x1=\"2009-07-30\",\n",
    "        fillcolor=\"linen\", opacity=0.7,\n",
    "        layer=\"below\", line_width=0,\n",
    "        label=dict(text=\"Recession\", textposition=\"top center\", font=dict(size=8, color=\"gray\")),\n",
    "    )\n",
    "    \n",
    "    RealEstateGrowthFig.add_vrect(\n",
    "        x0=\"2020-01-01\", x1=\"2020-12-31\",\n",
    "        fillcolor=\"linen\", opacity=0.7,\n",
    "        layer=\"below\", line_width=0,\n",
    "        label=dict(text=\"COVID\", textposition=\"top center\", font=dict(size=8, color=\"gray\")),\n",
    "    )\n",
    "\n",
    "    RealEstateGrowthFig.update_layout(\n",
    "        legend = dict(font=dict(size=8, color=\"gray\")),\n",
    "        xaxis = dict(nticks=10,\n",
    "        tickformat=\"%Y\",\n",
    "        linecolor=\"lightgray\"\n",
    "        ),\n",
    "        \n",
    "        yaxis =dict(linecolor=\"lightgray\")\n",
    "    )\n",
    "    \n",
    "    RealEstateGrowthFig.update_traces(marker = dict(color=\"darkblue\", symbol=\"diamond\", size = 12),\n",
    "    )\n",
    "    \n",
    "    return RealEstateGrowthFig"
   ]
  },
  {
   "cell_type": "code",
   "execution_count": 6903,
   "metadata": {},
   "outputs": [],
   "source": [
    "# declare a variable called DiffSectTabContent to hold the content (html, input and output components) of this tab in the page.\n",
    "DiffSectTabContent = html.Div([\n",
    "    html.H2(\n",
    "        \"Differentiaal Sectors in States\", \n",
    "        className=\"mt-4 px-4 align-center\"), \n",
    "\n",
    "    dbc.Row([\n",
    "        dbc.Col([\n",
    "            html.Div([\n",
    "                dbc.Label(\"Select a State\", className=\"pl-4\"),\n",
    "                dropdown,\n",
    "            ], className=\"col-3\")\n",
    "        ], className=\"my-4\"),\n",
    "    ]),\n",
    "        \n",
    "    dbc.Row([\n",
    "        dbc.Col([\n",
    "            html.Div([\n",
    "                html.H4(\"Retail Growth Rate\", className=\"card-title\"),\n",
    "                html.P(\n",
    "                    \"The retail job growth rate experienced a decline during both the Great Recession and COVID. \" \n",
    "                    \"Texas was the least impacted state, showing a minor slowdown during these events, \" \n",
    "                    \"after which it continued its upward trend.\",\n",
    "                    className=\"card-text\",\n",
    "                )\n",
    "            ], className=\"mt-4\")\n",
    "        ],className=\"col-4\"),\n",
    "    \n",
    "        dbc.Col([\n",
    "            RetailGrowthChart\n",
    "        ],className=\"col-8\")\n",
    "    ]),\n",
    "        \n",
    "    dbc.Row([\n",
    "        dbc.Col([\n",
    "            html.Div([\n",
    "                html.H4(\"Real Estate Growth Rate\", className=\"card-title\"),\n",
    "                html.P(\n",
    "                    \"The Real Estate job growth rate experienced a decline during both the Great Recession and COVID. \" \n",
    "                    \"Texas was the least impacted state, showing a minor slowdown during these events, \" \n",
    "                    \"after which it continued its upward trend.\",\n",
    "                    className=\"card-text\",\n",
    "                )\n",
    "            ], className=\"mt-4\")\n",
    "        ],className=\"col-4\"),\n",
    "          \n",
    "        dbc.Col([\n",
    "            RealEstateGrowthChart\n",
    "        ],className=\"col-8\")\n",
    "    ]),\n",
    "])"
   ]
  },
  {
   "cell_type": "code",
   "execution_count": 6904,
   "metadata": {},
   "outputs": [],
   "source": [
    "# Define the Header for the dashboard\n",
    "header = dbc.Navbar(\n",
    "    dbc.Container(\n",
    "        [\n",
    "            dbc.Row(\n",
    "                [\n",
    "                    dbc.Col(\n",
    "                        [\n",
    "                            html.Div(\n",
    "                                [\n",
    "                                    html.H3(\"Comparing the impact of the Great Recession and the COVID-19 Pandemic\", style={\"color\": \"#fff\"}),\n",
    "                                    html.P(\"Employment and Housing Sector\", style={\"color\": \"#fff\"}),\n",
    "                                ],\n",
    "                                id=\"app-title\",\n",
    "                            ),\n",
    "                        ],\n",
    "                        md=\"auto\",\n",
    "                    )\n",
    "                ],\n",
    "                align=\"center\",\n",
    "            ),\n",
    "        ],\n",
    "        fluid=True,\n",
    "    ),\n",
    "    # dark=True,\n",
    "    color=\"dark\",\n",
    "    sticky=\"top\",\n",
    ")\n",
    "\n",
    "# The card header consists of the list of tabs with individual label and tab id\n",
    "# The card body contains a callback to id card-content\n",
    "card = dbc.Card(\n",
    "    [\n",
    "        dbc.CardHeader(\n",
    "            dbc.Tabs(\n",
    "                [\n",
    "                    dbc.Tab(\n",
    "                        label =\"Introduction\", \n",
    "                        tab_id=\"tab-1\",\n",
    "                    )  ,\n",
    "                    dbc.Tab(\n",
    "                        label=\"Employment: Beginning of Events\",\n",
    "                        tab_id=\"tab-2\",\n",
    "                    ),\n",
    "                    dbc.Tab(\n",
    "                        label=\"Employment: Continued Impacts\",\n",
    "                        tab_id=\"tab-3\",\n",
    "                    ),\n",
    "                    dbc.Tab(\n",
    "                        label=\"Employment: US\",\n",
    "                        tab_id=\"tab-4\",\n",
    "                    ),\n",
    "                    dbc.Tab(\n",
    "                        label=\"Housing: Multi Dimensions\",\n",
    "                        tab_id=\"tab-5\",\n",
    "                    ),\n",
    "                    dbc.Tab(\n",
    "                        label=\"Housing: Vacancy Rates\",\n",
    "                        tab_id=\"tab-6\",\n",
    "                    ),\n",
    "                    dbc.Tab(\n",
    "                        label=\"Housing: US \",\n",
    "                        tab_id=\"tab-7\",\n",
    "                    ),\n",
    "                    dbc.Tab(\n",
    "                        label=\"Differential Impacts\",\n",
    "                        tab_id=\"tab-8\",\n",
    "                    ),\n",
    "                    dbc.Tab(\n",
    "                        label=\"Leaders & Laggards\",\n",
    "                        tab_id=\"tab-9\",\n",
    "                    )\n",
    "                ],\n",
    "                id=\"card-tabs\",\n",
    "                active_tab=\"tab-1\",\n",
    "            )\n",
    "        ),\n",
    "        dbc.CardBody(id=\"card-content\"),\n",
    "    ]\n",
    ")\n",
    "\n",
    "# Callback to the tabs in the card body.\n",
    "@app.callback(\n",
    "    Output(\"card-content\", \"children\"), [Input(\"card-tabs\", \"active_tab\")]\n",
    ")\n",
    "\n",
    "def tab_content(active_tab):\n",
    "    if active_tab == 'tab-1':\n",
    "        return Introtabcontent\n",
    "    elif active_tab == 'tab-2':\n",
    "        return UnemploymentTabContent1\n",
    "    elif active_tab == 'tab-3':\n",
    "        return UnemploymentTabContent2\n",
    "    elif active_tab == 'tab-4':\n",
    "        return UnemploymentTabContent4\n",
    "    elif active_tab == 'tab-5':\n",
    "        return HousingTabContent1\n",
    "    elif active_tab == 'tab-6':\n",
    "        return HousingTabContent2\n",
    "    elif active_tab == 'tab-7':\n",
    "        return HousingTabContent3\n",
    "    elif active_tab == 'tab-8':\n",
    "        return DiffSectTabContent\n",
    "    elif active_tab == 'tab-9':\n",
    "        return LeadLagTabContent\n",
    "\n",
    "# App Layout\n",
    "app.layout = html.Div([\n",
    "    header,\n",
    "    dbc.Container(\n",
    "        [\n",
    "            html.Div(card, className=\"my-4\"),\n",
    "        \n",
    "        ],\n",
    "        fluid=True,\n",
    "    )\n",
    "]);"
   ]
  },
  {
   "cell_type": "code",
   "execution_count": 6905,
   "metadata": {},
   "outputs": [
    {
     "data": {
      "text/html": [
       "\n",
       "        <iframe\n",
       "            width=\"100%\"\n",
       "            height=\"650\"\n",
       "            src=\"http://127.0.0.1:8052/\"\n",
       "            frameborder=\"0\"\n",
       "            allowfullscreen\n",
       "            \n",
       "        ></iframe>\n",
       "        "
      ],
      "text/plain": [
       "<IPython.lib.display.IFrame at 0x1f1aa430170>"
      ]
     },
     "metadata": {},
     "output_type": "display_data"
    }
   ],
   "source": [
    "# Run the app at http://127.0.0.1:8052/ when running locally\n",
    "if __name__ == \"__main__\":\n",
    "    app.run_server(\n",
    "        debug=True,\n",
    "        port=8052\n",
    "    )"
   ]
  }
 ],
 "metadata": {
  "kernelspec": {
   "display_name": "Python 3",
   "language": "python",
   "name": "python3"
  },
  "language_info": {
   "codemirror_mode": {
    "name": "ipython",
    "version": 3
   },
   "file_extension": ".py",
   "mimetype": "text/x-python",
   "name": "python",
   "nbconvert_exporter": "python",
   "pygments_lexer": "ipython3",
   "version": "3.12.2"
  }
 },
 "nbformat": 4,
 "nbformat_minor": 2
}
