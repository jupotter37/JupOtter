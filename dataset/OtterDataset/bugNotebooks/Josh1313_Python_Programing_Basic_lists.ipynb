{
 "cells": [
  {
   "cell_type": "markdown",
   "metadata": {},
   "source": [
    "trabajar con indices tambien tener encuenta que se empieza de 0 y tambien si sales fuera de rango dara error"
   ]
  },
  {
   "cell_type": "code",
   "execution_count": 3,
   "metadata": {},
   "outputs": [],
   "source": [
    "lista_fruta = ['Avocados','Sweet', 'corn','Pineapples','Cabbages','Onions','Sweet' 'peas (frozen)']\n"
   ]
  },
  {
   "cell_type": "code",
   "execution_count": 4,
   "metadata": {},
   "outputs": [
    {
     "data": {
      "text/plain": [
       "'Avocados'"
      ]
     },
     "execution_count": 4,
     "metadata": {},
     "output_type": "execute_result"
    }
   ],
   "source": [
    "filtrar_por_posicion = lista_fruta[0]\n",
    "filtrar_por_posicion"
   ]
  },
  {
   "cell_type": "code",
   "execution_count": 5,
   "metadata": {},
   "outputs": [
    {
     "ename": "IndexError",
     "evalue": "list index out of range",
     "output_type": "error",
     "traceback": [
      "\u001b[1;31m---------------------------------------------------------------------------\u001b[0m",
      "\u001b[1;31mIndexError\u001b[0m                                Traceback (most recent call last)",
      "Cell \u001b[1;32mIn[5], line 1\u001b[0m\n\u001b[1;32m----> 1\u001b[0m filtrar_por_posicion \u001b[38;5;241m=\u001b[39m \u001b[43mlista_fruta\u001b[49m\u001b[43m[\u001b[49m\u001b[38;5;241;43m50\u001b[39;49m\u001b[43m]\u001b[49m\n\u001b[0;32m      2\u001b[0m filtrar_por_posicion\n",
      "\u001b[1;31mIndexError\u001b[0m: list index out of range"
     ]
    }
   ],
   "source": [
    "filtrar_por_posicion = lista_fruta[50]\n",
    "filtrar_por_posicion"
   ]
  },
  {
   "cell_type": "markdown",
   "metadata": {},
   "source": [
    "Nested list"
   ]
  },
  {
   "cell_type": "code",
   "execution_count": 6,
   "metadata": {},
   "outputs": [],
   "source": [
    "fruta = ['Avocados','Sweet', 'corn','Pineapples']\n",
    "vegetales =['Cabbages','Onions','Sweet' 'peas (frozen)']"
   ]
  },
  {
   "cell_type": "code",
   "execution_count": 8,
   "metadata": {},
   "outputs": [],
   "source": [
    "lista_fruta = [fruta,vegetales]"
   ]
  },
  {
   "cell_type": "code",
   "execution_count": 9,
   "metadata": {},
   "outputs": [
    {
     "data": {
      "text/plain": [
       "[['Avocados', 'Sweet', 'corn', 'Pineapples'],\n",
       " ['Cabbages', 'Onions', 'Sweetpeas (frozen)']]"
      ]
     },
     "execution_count": 9,
     "metadata": {},
     "output_type": "execute_result"
    }
   ],
   "source": [
    "lista_fruta "
   ]
  },
  {
   "cell_type": "code",
   "execution_count": 10,
   "metadata": {},
   "outputs": [
    {
     "name": "stdout",
     "output_type": "stream",
     "text": [
      "Kale\n"
     ]
    }
   ],
   "source": [
    "\n",
    "\n",
    "fruits = [\"Strawberries\", \"Nectarines\", \"Apples\", \"Grapes\", \"Peaches\", \"Cherries\", \"Pears\"]\n",
    "vegetables = [\"Spinach\", \"Kale\", \"Tomatoes\", \"Celery\", \"Potatoes\"]\n",
    " \n",
    "dirty_dozen = [fruits, vegetables]\n",
    " \n",
    "print(dirty_dozen[1][1])"
   ]
  },
  {
   "cell_type": "code",
   "execution_count": 11,
   "metadata": {},
   "outputs": [
    {
     "name": "stdout",
     "output_type": "stream",
     "text": [
      "[['Strawberries', 'Nectarines', 'Apples', 'Grapes', 'Peaches', 'Cherries', 'Pears'], ['Spinach', 'Kale', 'Tomatoes', 'Celery', 'Potatoes']]\n",
      "['Strawberries', 'Nectarines', 'Apples', 'Grapes', 'Peaches', 'Cherries', 'Pears']\n",
      "['Spinach', 'Kale', 'Tomatoes', 'Celery', 'Potatoes']\n",
      "Tomatoes\n",
      "Celery\n"
     ]
    }
   ],
   "source": [
    "print(dirty_dozen)\n",
    "\n",
    "\n",
    "print(dirty_dozen[0])\n",
    "print(dirty_dozen[1])\n",
    "\n",
    "\n",
    "print(dirty_dozen[1][2])\n",
    "print(dirty_dozen[1][3])"
   ]
  },
  {
   "cell_type": "code",
   "execution_count": 13,
   "metadata": {},
   "outputs": [
    {
     "name": "stdout",
     "output_type": "stream",
     "text": [
      "['Spinach', 'Kale', 'Tomatoes', 'Celery', 'Potatoes']\n"
     ]
    }
   ],
   "source": [
    "print(dirty_dozen[1])"
   ]
  },
  {
   "cell_type": "code",
   "execution_count": 14,
   "metadata": {},
   "outputs": [
    {
     "name": "stdout",
     "output_type": "stream",
     "text": [
      "Tomatoes\n"
     ]
    }
   ],
   "source": [
    "print(dirty_dozen[1][2])"
   ]
  },
  {
   "cell_type": "code",
   "execution_count": 15,
   "metadata": {},
   "outputs": [
    {
     "name": "stdout",
     "output_type": "stream",
     "text": [
      "Celery\n"
     ]
    }
   ],
   "source": [
    "print(dirty_dozen[1][3])"
   ]
  },
  {
   "cell_type": "code",
   "execution_count": 17,
   "metadata": {},
   "outputs": [
    {
     "name": "stdout",
     "output_type": "stream",
     "text": [
      "Hiding your treasure! X marks the spot.\n",
      "['⬜️', '️⬜️', '️⬜️']\n",
      "['⬜️', '⬜️', '️⬜️']\n",
      "['⬜️️', 'X', '⬜️️']\n"
     ]
    }
   ],
   "source": [
    "line1 = [\"⬜️\",\"️⬜️\",\"️⬜️\"]\n",
    "line2 = [\"⬜️\",\"⬜️\",\"️⬜️\"]\n",
    "line3 = [\"⬜️️\",\"⬜️️\",\"⬜️️\"]\n",
    "map = [line1, line2, line3]\n",
    "print(\"Hiding your treasure! X marks the spot.\")\n",
    "position = input() # Where do you want to put the treasure?\n",
    "# 🚨 Don't change the code above 👆\n",
    "# Write your code below this row 👇\n",
    "letter = position[0].lower()\n",
    "abc = [\"a\",\"b\",\"c\"]\n",
    "letter_index = abc.index(letter)\n",
    "number_index = int(position[1]) -1\n",
    "map[number_index][letter_index] = \"X\"\n",
    "\n",
    "\n",
    "# Write your code above this row 👆\n",
    "# 🚨 Don't change the code below 👇\n",
    "print(f\"{line1}\\n{line2}\\n{line3}\")"
   ]
  },
  {
   "cell_type": "code",
   "execution_count": 33,
   "metadata": {},
   "outputs": [
    {
     "name": "stdout",
     "output_type": "stream",
     "text": [
      "\n",
      "    _______\n",
      "---'   ____)\n",
      "      (_____)\n",
      "      (_____)\n",
      "      (____)\n",
      "---.__(___)\n",
      "\n",
      "Computer chose:\n",
      "\n",
      "    _______\n",
      "---'   ____)\n",
      "      (_____)\n",
      "      (_____)\n",
      "      (____)\n",
      "---.__(___)\n",
      "\n",
      "It's a draw\n"
     ]
    }
   ],
   "source": [
    "import random\n",
    "\n",
    "rock = '''\n",
    "    _______\n",
    "---'   ____)\n",
    "      (_____)\n",
    "      (_____)\n",
    "      (____)\n",
    "---.__(___)\n",
    "'''\n",
    "\n",
    "paper = '''\n",
    "    _______\n",
    "---'   ____)____\n",
    "          ______)\n",
    "          _______)\n",
    "         _______)\n",
    "---.__________)\n",
    "'''\n",
    "\n",
    "scissors = '''\n",
    "    _______\n",
    "---'   ____)____\n",
    "          ______)\n",
    "       __________)\n",
    "      (____)\n",
    "---.__(___)\n",
    "'''\n",
    "\n",
    "game_images = [rock, paper, scissors]\n",
    "\n",
    "user_choice = int(input(\"What do you choose? Type 0 for Rock, 1 for Paper or 2 for Scissors.\\n\"))\n",
    "\n",
    "if user_choice >= 3 or user_choice < 0:\n",
    "    print(\"You typed an invalid number, you lose!\")\n",
    "else:\n",
    "    print(game_images[user_choice])\n",
    "\n",
    "    computer_choice = random.randint(0, 2)\n",
    "    print(\"Computer chose:\")\n",
    "    print(game_images[computer_choice])\n",
    "\n",
    "    if user_choice == 0 and computer_choice == 2:\n",
    "       print(\"You win!\")\n",
    "    elif computer_choice == 0 and user_choice == 2:\n",
    "        print(\"You lose\")\n",
    "    elif computer_choice > user_choice:\n",
    "        print(\"You lose\")\n",
    "    elif user_choice > computer_choice:\n",
    "        print(\"You win!\")\n",
    "    elif computer_choice == user_choice:\n",
    "        print(\"It's a draw\")\n",
    "\n",
    "####### Debugging challenge: #########\n",
    "#Try running this code and type 5.\n",
    "#It will give you an IndexError and point to line 32 as the issue.\n",
    "#But on line 38 we are trying to prevent a crash by detecting\n",
    "#any numbers great than or equal to 3 or less than 0.\n",
    "#So what's going on?\n",
    "#Can you debug the code and fix it?\n",
    "#Solution: https://repl.it/@appbrewery/rock-paper-scissors-debugged-end"
   ]
  },
  {
   "cell_type": "code",
   "execution_count": 43,
   "metadata": {},
   "outputs": [
    {
     "name": "stdout",
     "output_type": "stream",
     "text": [
      "Hiding your treasure! X marks the spot.\n",
      "['⬜️', '️⬜️', '️⬜️']\n",
      "['⬜️', '⬜️', '️⬜️']\n",
      "['⬜️️', '⬜️️', 'x']\n"
     ]
    }
   ],
   "source": [
    "line1 = [\"⬜️\",\"️⬜️\",\"️⬜️\"]\n",
    "line2 = [\"⬜️\",\"⬜️\",\"️⬜️\"]\n",
    "line3 = [\"⬜️️\",\"⬜️️\",\"⬜️️\"]\n",
    "map = [line1, line2, line3]\n",
    "print(\"Hiding your treasure! X marks the spot.\")\n",
    "position = input() # Where do you want to put the treasure?\n",
    "# 🚨 Don't change the code above 👆\n",
    "# Write your code below this row 👇\n",
    "letter = position[0].lower()\n",
    "abc = [\"a\", 'b', \"z\"]\n",
    "letter_index = abc.index(letter)\n",
    "number_index = int(position[1])-1\n",
    "map[number_index][letter_index] = \"x\"\n",
    "\n",
    "\n",
    "\n",
    "# Write your code above this row 👆\n",
    "# 🚨 Don't change the code below 👇\n",
    "print(f\"{line1}\\n{line2}\\n{line3}\")"
   ]
  },
  {
   "cell_type": "code",
   "execution_count": 56,
   "metadata": {},
   "outputs": [
    {
     "name": "stdout",
     "output_type": "stream",
     "text": [
      "tu escoje:\n",
      "\n",
      "    _______\n",
      "---'   ____)____\n",
      "          ______)\n",
      "          _______)\n",
      "         _______)\n",
      "---.__________)\n",
      "\n",
      "compu escoje:\n",
      "\n",
      "    _______\n",
      "---'   ____)____\n",
      "          ______)\n",
      "       __________)\n",
      "      (____)\n",
      "---.__(___)\n",
      "\n",
      "perdiste\n"
     ]
    }
   ],
   "source": [
    "import random\n",
    "\n",
    "rock = '''\n",
    "    _______\n",
    "---'   ____)\n",
    "      (_____)\n",
    "      (_____)\n",
    "      (____)\n",
    "---.__(___)\n",
    "'''\n",
    "\n",
    "paper = '''\n",
    "    _______\n",
    "---'   ____)____\n",
    "          ______)\n",
    "          _______)\n",
    "         _______)\n",
    "---.__________)\n",
    "'''\n",
    "\n",
    "scissors = '''\n",
    "    _______\n",
    "---'   ____)____\n",
    "          ______)\n",
    "       __________)\n",
    "      (____)\n",
    "---.__(___)\n",
    "'''\n",
    "imagenes_de_juego = [rock, paper, scissors]\n",
    "user_choice = int(input(\"que escojes? tipo 0 es roca,1 es papel, 2 es tijera\"))\n",
    "if user_choice >= 3 or user_choice < 0:\n",
    "    print(\"numero invalido perdiste\")\n",
    "else:\n",
    "    print(\"tu escoje:\") \n",
    "    print(imagenes_de_juego[user_choice]) \n",
    "    \n",
    "    computer_choice = random.randint(0,2)  \n",
    "    print(\"compu escoje:\") \n",
    "    print(imagenes_de_juego[computer_choice]) \n",
    "    \n",
    "    if user_choice == 0 and computer_choice == 2:\n",
    "        print(\"ganaste\")\n",
    "    elif computer_choice == 0 and user_choice == 2:\n",
    "        print(\"perdiste\") \n",
    "    elif computer_choice > user_choice:\n",
    "        print(\"perdiste\")\n",
    "    elif user_choice > computer_choice:\n",
    "        print(\"ganaste!\")\n",
    "    elif computer_choice == user_choice:\n",
    "        print(\"empate\")       \n",
    "\n",
    "  \n",
    "####### Debugging challenge: #########\n",
    "#Try running this code and type 5.\n",
    "#It will give you an IndexError and point to line 32 as the issue.\n",
    "#But on line 38 we are trying to prevent a crash by detecting\n",
    "#any numbers great than or equal to 3 or less than 0.\n",
    "#So what's going on?\n",
    "#Can you debug the code and fix it?\n",
    "#Solution: https://repl.it/@appbrewery/rock-paper-scissors-debugged-end"
   ]
  }
 ],
 "metadata": {
  "kernelspec": {
   "display_name": "Python 3",
   "language": "python",
   "name": "python3"
  },
  "language_info": {
   "codemirror_mode": {
    "name": "ipython",
    "version": 3
   },
   "file_extension": ".py",
   "mimetype": "text/x-python",
   "name": "python",
   "nbconvert_exporter": "python",
   "pygments_lexer": "ipython3",
   "version": "3.12.2"
  }
 },
 "nbformat": 4,
 "nbformat_minor": 2
}
