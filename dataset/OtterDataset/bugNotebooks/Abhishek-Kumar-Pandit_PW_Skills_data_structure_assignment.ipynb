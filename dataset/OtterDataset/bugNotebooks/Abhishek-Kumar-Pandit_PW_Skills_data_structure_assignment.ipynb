{
  "nbformat": 4,
  "nbformat_minor": 0,
  "metadata": {
    "colab": {
      "provenance": []
    },
    "kernelspec": {
      "name": "python3",
      "display_name": "Python 3"
    },
    "language_info": {
      "name": "python"
    }
  },
  "cells": [
    {
      "cell_type": "markdown",
      "source": [
        "1. Discuss string slicing and provide examples.\n",
        "\n",
        "Ans :\n",
        "\n",
        "String slicing is a way to access parts (or \"slices\") of a string using indices. In Python, strings are indexed starting from 0, which means each character has a unique position number. You can extract a substring using the slice notation:\n",
        "\n",
        "string[start:end:step]\n",
        "\n",
        "\n",
        "*   start: The starting index of the slice (inclusive).\n",
        "*   end: The ending index of the slice (exclusive).\n",
        "*   step: The step size, which determines how many characters to skip.\n",
        "\n",
        "\n",
        "Examples\n",
        "\n",
        "a. Basic Slicing\n",
        "\n"
      ],
      "metadata": {
        "id": "soMlk_4X6HwF"
      }
    },
    {
      "cell_type": "code",
      "source": [
        "text = \"Hello, World!\"\n",
        "print(text[0:5])\n"
      ],
      "metadata": {
        "colab": {
          "base_uri": "https://localhost:8080/"
        },
        "id": "vzwQOA9T7rcx",
        "outputId": "0e535767-f44b-4bdb-cc9b-bd8d169e8aac"
      },
      "execution_count": null,
      "outputs": [
        {
          "output_type": "stream",
          "name": "stdout",
          "text": [
            "Hello\n"
          ]
        }
      ]
    },
    {
      "cell_type": "markdown",
      "source": [
        "b. Omitting start or end\n",
        "\n",
        "If you omit the start or end indices, Python will assume you mean the start or end of the string:"
      ],
      "metadata": {
        "id": "8zcl99iz789O"
      }
    },
    {
      "cell_type": "code",
      "source": [
        "text = \"Hello, World!\"\n",
        "print(text[:5])\n",
        "print(text[7:])\n"
      ],
      "metadata": {
        "colab": {
          "base_uri": "https://localhost:8080/"
        },
        "id": "CqFDlgy98Ctm",
        "outputId": "d8095a6f-c402-4806-823b-30651a3921ce"
      },
      "execution_count": null,
      "outputs": [
        {
          "output_type": "stream",
          "name": "stdout",
          "text": [
            "Hello\n",
            "World!\n"
          ]
        }
      ]
    },
    {
      "cell_type": "markdown",
      "source": [
        "c. Negative Indices\n",
        "\n",
        "Negative indices count from the end of the string:"
      ],
      "metadata": {
        "id": "wodE3QAn8POo"
      }
    },
    {
      "cell_type": "code",
      "source": [
        "text = \"Hello, World!\"\n",
        "print(text[-6:-1])\n"
      ],
      "metadata": {
        "colab": {
          "base_uri": "https://localhost:8080/"
        },
        "id": "hhzfpJNU8gYb",
        "outputId": "9ec2fab7-0b5c-431a-d3f9-d5cb6c10f5b5"
      },
      "execution_count": null,
      "outputs": [
        {
          "output_type": "stream",
          "name": "stdout",
          "text": [
            "World\n"
          ]
        }
      ]
    },
    {
      "cell_type": "markdown",
      "source": [
        "d. Using step\n",
        "\n",
        "The step allows you to control the interval of characters you want to extract:"
      ],
      "metadata": {
        "id": "FWgNH29k8ttv"
      }
    },
    {
      "cell_type": "code",
      "source": [
        "text = \"Hello, World!\"\n",
        "print(text[0:13:2])\n"
      ],
      "metadata": {
        "colab": {
          "base_uri": "https://localhost:8080/"
        },
        "id": "oQCZaOSB8xan",
        "outputId": "8d8954b2-629d-47a2-a256-5b0326736862"
      },
      "execution_count": null,
      "outputs": [
        {
          "output_type": "stream",
          "name": "stdout",
          "text": [
            "Hlo ol!\n"
          ]
        }
      ]
    },
    {
      "cell_type": "markdown",
      "source": [
        "e. Reversing a String\n",
        "\n",
        "You can reverse a string using slicing:"
      ],
      "metadata": {
        "id": "8ckrGwHg831-"
      }
    },
    {
      "cell_type": "code",
      "source": [
        "text = \"Hello, World!\"\n",
        "print(text[::-1])\n"
      ],
      "metadata": {
        "colab": {
          "base_uri": "https://localhost:8080/"
        },
        "id": "1Xdif2nG8_ZY",
        "outputId": "5eb7e78a-379f-4e2a-ef31-9048156819e3"
      },
      "execution_count": null,
      "outputs": [
        {
          "output_type": "stream",
          "name": "stdout",
          "text": [
            "!dlroW ,olleH\n"
          ]
        }
      ]
    },
    {
      "cell_type": "markdown",
      "source": [
        "2. Exaplain the key features of lists in Python.\n",
        "\n",
        "Ans :\n",
        "\n",
        "A list in Python is a versatile, ordered collection of elements that can be of any data type. Lists are one of the most commonly used data structures in Python due to their flexibility and ease of use.\n",
        "\n",
        "The key features of lists in Python are as followed :    \n",
        "\n",
        "a. Ordered Collection\n",
        "\n",
        "*   Lists maintain the order of elements. Each element in a list has a specific index starting from 0 for the first item, 1 for the second, and so on.\n",
        "\n",
        "*   This means the position of items is fixed unless you explicitly change it.\n"
      ],
      "metadata": {
        "id": "JV1RDxJK9Mbm"
      }
    },
    {
      "cell_type": "code",
      "source": [
        "fruits = ['apple', 'banana', 'cherry']\n",
        "print(fruits[0])\n"
      ],
      "metadata": {
        "colab": {
          "base_uri": "https://localhost:8080/"
        },
        "id": "EXePPXXLXBGI",
        "outputId": "06a91298-e77f-497a-8c42-ebf187b76a27"
      },
      "execution_count": null,
      "outputs": [
        {
          "output_type": "stream",
          "name": "stdout",
          "text": [
            "apple\n"
          ]
        }
      ]
    },
    {
      "cell_type": "markdown",
      "source": [
        "b. Mutable (Changeable)\n",
        "\n",
        "*   Lists are mutable, which means you can change, add, or remove elements after the list is created.\n",
        "\n",
        "*   You can modify an element by accessing its index and assigning a new value.\n",
        "\n"
      ],
      "metadata": {
        "id": "Mf0RWuGyXHHc"
      }
    },
    {
      "cell_type": "code",
      "source": [
        "numbers = [1, 2, 3, 4]\n",
        "numbers[2] = 10\n",
        "print(numbers)\n"
      ],
      "metadata": {
        "colab": {
          "base_uri": "https://localhost:8080/"
        },
        "id": "diy3ZVh2XVeM",
        "outputId": "4b513bd5-155e-465f-f610-6cabe6088a76"
      },
      "execution_count": null,
      "outputs": [
        {
          "output_type": "stream",
          "name": "stdout",
          "text": [
            "[1, 2, 10, 4]\n"
          ]
        }
      ]
    },
    {
      "cell_type": "markdown",
      "source": [
        "c. Dynamic Size\n",
        "\n",
        "Lists can grow and shrink in size as needed. You can add elements using methods like append() or extend(), and remove elements using remove(), pop(), or del."
      ],
      "metadata": {
        "id": "eTQwDJMkXeaJ"
      }
    },
    {
      "cell_type": "code",
      "source": [
        "data = [10, 20, 30]\n",
        "data.append(40)\n",
        "print(data)\n"
      ],
      "metadata": {
        "colab": {
          "base_uri": "https://localhost:8080/"
        },
        "id": "27zzlOt3XlZ5",
        "outputId": "a6df65eb-3d62-47d2-f728-ede18d8bd483"
      },
      "execution_count": null,
      "outputs": [
        {
          "output_type": "stream",
          "name": "stdout",
          "text": [
            "[10, 20, 30, 40]\n"
          ]
        }
      ]
    },
    {
      "cell_type": "markdown",
      "source": [
        "d. Heterogeneous Elements\n",
        "\n",
        "A list can contain elements of different data types, such as integers, strings, floats, or even other lists (nested lists)."
      ],
      "metadata": {
        "id": "fHlCNzvtXulW"
      }
    },
    {
      "cell_type": "code",
      "source": [
        "mixed_list = [1, 'hello', 3.14, [5, 6, 7]]\n",
        "print(mixed_list)\n"
      ],
      "metadata": {
        "colab": {
          "base_uri": "https://localhost:8080/"
        },
        "id": "yLvfWhs5X5NP",
        "outputId": "c99296b6-86fe-414a-ffdd-2649c6e01977"
      },
      "execution_count": null,
      "outputs": [
        {
          "output_type": "stream",
          "name": "stdout",
          "text": [
            "[1, 'hello', 3.14, [5, 6, 7]]\n"
          ]
        }
      ]
    },
    {
      "cell_type": "markdown",
      "source": [
        "e. Indexing and Slicing\n",
        "\n",
        "You can access individual elements using their index and extract sublists (slices) using slice notation"
      ],
      "metadata": {
        "id": "GH54iUgrX-7J"
      }
    },
    {
      "cell_type": "code",
      "source": [
        "colors = ['red', 'green', 'blue', 'yellow']\n",
        "print(colors[1])\n",
        "print(colors[1:3])\n"
      ],
      "metadata": {
        "colab": {
          "base_uri": "https://localhost:8080/"
        },
        "id": "YMAHaK_4YWVd",
        "outputId": "6a618fac-6e68-4d67-d2fe-5211a3064bb3"
      },
      "execution_count": null,
      "outputs": [
        {
          "output_type": "stream",
          "name": "stdout",
          "text": [
            "green\n",
            "['green', 'blue']\n"
          ]
        }
      ]
    },
    {
      "cell_type": "markdown",
      "source": [
        "f. Built-in Functions and Methods\n",
        "\n",
        "Python provides a wide range of built-in functions and methods to work with lists, such as:\n",
        "\n",
        "*   len(): Returns the number of elements in a list.\n",
        "*   min(), max(): Returns the minimum or maximum value.\n",
        "*   sum(): Calculates the sum of numeric elements.\n",
        "*   sort(): Sorts the list in ascending or descending order.\n",
        "*   reverse(): Reverses the order of elements in the list.\n",
        "*   count(): Counts the occurrences of a specific element.\n",
        "*   index(): Returns the first index of a specified value."
      ],
      "metadata": {
        "id": "B_835V4qYlNK"
      }
    },
    {
      "cell_type": "code",
      "source": [
        "numbers = [5, 2, 9, 1, 5]\n",
        "print(len(numbers))\n",
        "print(max(numbers))\n",
        "numbers.sort()\n",
        "print(numbers)\n",
        "\n"
      ],
      "metadata": {
        "colab": {
          "base_uri": "https://localhost:8080/"
        },
        "id": "lokyP9r-ZRq_",
        "outputId": "4ccbc29b-b7d8-4687-e042-26a9f86b5ebc"
      },
      "execution_count": null,
      "outputs": [
        {
          "output_type": "stream",
          "name": "stdout",
          "text": [
            "5\n",
            "9\n",
            "[1, 2, 5, 5, 9]\n"
          ]
        }
      ]
    },
    {
      "cell_type": "markdown",
      "source": [
        "g. List Comprehension\n",
        "\n",
        "*   Python supports list comprehensions, a concise way to create lists using a single line of code.\n",
        "*   It's useful for creating a new list by applying an expression to each element of an existing list.\n"
      ],
      "metadata": {
        "id": "EXvOcm3WZkDa"
      }
    },
    {
      "cell_type": "code",
      "source": [
        "squares = [x**2 for x in range(1, 6)]\n",
        "print(squares)\n"
      ],
      "metadata": {
        "colab": {
          "base_uri": "https://localhost:8080/"
        },
        "id": "wdA08vW7aGYv",
        "outputId": "ce052b45-6bbf-45d5-80cf-7859d31edc81"
      },
      "execution_count": null,
      "outputs": [
        {
          "output_type": "stream",
          "name": "stdout",
          "text": [
            "[1, 4, 9, 16, 25]\n"
          ]
        }
      ]
    },
    {
      "cell_type": "markdown",
      "source": [
        "h. Nested Lists (Multidimensional Lists)\n",
        "\n",
        "Lists can contain other lists, allowing the creation of multidimensional arrays.\n",
        "This is useful for representing matrices or tables."
      ],
      "metadata": {
        "id": "iD9j2fYFa6uT"
      }
    },
    {
      "cell_type": "code",
      "source": [
        "matrix = [[1, 2, 3], [4, 5, 6], [7, 8, 9]]\n",
        "print(matrix[1])\n",
        "print(matrix[1][2])\n"
      ],
      "metadata": {
        "colab": {
          "base_uri": "https://localhost:8080/"
        },
        "id": "QtGnc0AKbEXo",
        "outputId": "7bed0609-efe2-443e-c9a5-88cb5204113c"
      },
      "execution_count": null,
      "outputs": [
        {
          "output_type": "stream",
          "name": "stdout",
          "text": [
            "[4, 5, 6]\n",
            "6\n"
          ]
        }
      ]
    },
    {
      "cell_type": "markdown",
      "source": [
        "i. Iteration Over Lists\n",
        "\n",
        "You can iterate over a list using loops, such as for or while, making it easy to process each element."
      ],
      "metadata": {
        "id": "bWAVg3-UbOER"
      }
    },
    {
      "cell_type": "code",
      "source": [
        "names = ['Alice', 'Bob', 'Charlie']\n",
        "for name in names:\n",
        "    print(name)\n"
      ],
      "metadata": {
        "colab": {
          "base_uri": "https://localhost:8080/"
        },
        "id": "lgWaDBNPbfi0",
        "outputId": "01d34539-e73b-4ba6-d4b3-793d120e1287"
      },
      "execution_count": null,
      "outputs": [
        {
          "output_type": "stream",
          "name": "stdout",
          "text": [
            "Alice\n",
            "Bob\n",
            "Charlie\n"
          ]
        }
      ]
    },
    {
      "cell_type": "markdown",
      "source": [
        "j. Common List Operations\n",
        "\n",
        "*   Concatenation: You can concatenate lists using the + operator.\n",
        "*   Repetition: You can repeat a list using the * operator.\n",
        "*   Membership: You can check if an item exists in a list using the in keyword."
      ],
      "metadata": {
        "id": "8Z-W9Azebqq9"
      }
    },
    {
      "cell_type": "code",
      "source": [
        "a = [1, 2, 3]\n",
        "b = [4, 5, 6]\n",
        "print(a + b)\n",
        "print(a * 2)\n",
        "print(3 in a)\n"
      ],
      "metadata": {
        "colab": {
          "base_uri": "https://localhost:8080/"
        },
        "id": "wqTsGEsWcFsE",
        "outputId": "8e657a33-bed7-4ff9-d49a-080be679a180"
      },
      "execution_count": null,
      "outputs": [
        {
          "output_type": "stream",
          "name": "stdout",
          "text": [
            "[1, 2, 3, 4, 5, 6]\n",
            "[1, 2, 3, 1, 2, 3]\n",
            "True\n"
          ]
        }
      ]
    },
    {
      "cell_type": "markdown",
      "source": [
        "3. Describe how to access, modify, and delete elements in a list with examples.\n",
        "\n",
        "Ans :    \n",
        "\n",
        "a. Accessing Elements in a List\n",
        "\n",
        "You can access elements in a list using their index. In Python, indexing starts from 0 for the first element. You can also use negative indices to access elements from the end of the list.\n",
        "\n",
        "Example\n"
      ],
      "metadata": {
        "id": "ffL7GQmGcbBU"
      }
    },
    {
      "cell_type": "code",
      "source": [
        "fruits = ['apple', 'banana', 'cherry', 'date', 'elderberry']\n",
        "\n",
        "# Accessing positive indices\n",
        "print(fruits[0])\n",
        "print(fruits[2])\n",
        "\n",
        "# Accessing negative indices\n",
        "print(fruits[-1])\n",
        "print(fruits[-3])\n",
        "\n",
        "# Accessing a slice (sub-list)\n",
        "print(fruits[1:4])\n"
      ],
      "metadata": {
        "colab": {
          "base_uri": "https://localhost:8080/"
        },
        "id": "ZqYwK4OQdNW3",
        "outputId": "8f06b4b2-ea23-458e-c864-445ee0f86eac"
      },
      "execution_count": null,
      "outputs": [
        {
          "output_type": "stream",
          "name": "stdout",
          "text": [
            "apple\n",
            "cherry\n",
            "elderberry\n",
            "cherry\n",
            "['banana', 'cherry', 'date']\n"
          ]
        }
      ]
    },
    {
      "cell_type": "markdown",
      "source": [
        "b. Modifying Elements in a List\n",
        "\n",
        "Since lists are mutable, you can change the value of any element by accessing it with its index and assigning a new value.\n",
        "\n",
        "Example\n",
        "\n"
      ],
      "metadata": {
        "id": "ATsGo5lwdm8W"
      }
    },
    {
      "cell_type": "code",
      "source": [
        "numbers = [10, 20, 30, 40, 50]\n",
        "\n",
        "# Modifying a single element\n",
        "numbers[2] = 99\n",
        "print(numbers)\n",
        "\n",
        "# Modifying a slice of elements\n",
        "numbers[1:3] = [21, 31]\n",
        "print(numbers)\n",
        "\n",
        "# Inserting elements in between by modifying a slice\n",
        "numbers[2:2] = [15, 25]\n",
        "print(numbers)\n"
      ],
      "metadata": {
        "colab": {
          "base_uri": "https://localhost:8080/"
        },
        "id": "rPpzBhMndzYU",
        "outputId": "8019afec-e715-46be-d954-9373067a6f06"
      },
      "execution_count": null,
      "outputs": [
        {
          "output_type": "stream",
          "name": "stdout",
          "text": [
            "[10, 20, 99, 40, 50]\n",
            "[10, 21, 31, 40, 50]\n",
            "[10, 21, 15, 25, 31, 40, 50]\n"
          ]
        }
      ]
    },
    {
      "cell_type": "markdown",
      "source": [
        "c. Deleting Elements from a List\n",
        "*   del statement: Remove an element by its index.\n",
        "*   remove() method: Remove the first occurrence of a specific value.\n",
        "*   pop() method: Remove an element by its index and return it.\n",
        "*   clear() method: Remove all elements from the list."
      ],
      "metadata": {
        "id": "tKpKGyDIeGiX"
      }
    },
    {
      "cell_type": "code",
      "source": [
        "numbers = [10, 20, 30, 40, 50, 60, 70]\n",
        "\n",
        "# Deleting a single element by index using 'del'\n",
        "del numbers[2]\n",
        "print(\"After deleting index 2:\", numbers)\n",
        "\n",
        "# Deleting multiple elements using slicing\n",
        "del numbers[1:3]\n",
        "print(\"After deleting a slice:\", numbers)\n",
        "\n",
        "# Removing an element by value using 'remove()'\n",
        "numbers.remove(50)\n",
        "print(\"After removing 50:\", numbers)\n",
        "\n",
        "# Removing and getting the last element using 'pop()'\n",
        "last_element = numbers.pop()\n",
        "print(\"After popping the last element:\", numbers)\n",
        "print(\"Popped element:\", last_element)\n",
        "\n",
        "# 'pop(index)'\n",
        "specific_element = numbers.pop(0)\n",
        "print(\"After popping index 0:\", numbers)\n",
        "print(\"Popped element:\", specific_element)\n",
        "\n",
        "# 'clear()'\n",
        "numbers.clear()\n",
        "print(\"After clearing the list:\", numbers)\n",
        "\n"
      ],
      "metadata": {
        "colab": {
          "base_uri": "https://localhost:8080/"
        },
        "id": "6MKTz1cbFWDt",
        "outputId": "9467ba3f-a8af-4cd2-ee4f-9796317986ce"
      },
      "execution_count": 6,
      "outputs": [
        {
          "output_type": "stream",
          "name": "stdout",
          "text": [
            "After deleting index 2: [10, 20, 40, 50, 60, 70]\n",
            "After deleting a slice: [10, 50, 60, 70]\n",
            "After removing 50: [10, 60, 70]\n",
            "After popping the last element: [10, 60]\n",
            "Popped element: 70\n",
            "After popping index 0: [60]\n",
            "Popped element: 10\n",
            "After clearing the list: []\n"
          ]
        }
      ]
    },
    {
      "cell_type": "markdown",
      "source": [
        "4. Compare and contrast tuples and list with example.\n",
        "\n",
        "Ans :\n",
        "\n",
        "a. Definition:\n",
        "\n",
        "*   Tuple: A tuple is an immutable sequence of elements. It is often used for data that should not change.\n",
        "*   List: A list is a mutable sequence of elements, which means its contents can be modified."
      ],
      "metadata": {
        "id": "ulorjdskIqpC"
      }
    },
    {
      "cell_type": "markdown",
      "source": [
        "b. Syntax:\n",
        "*   Tuples are defined using parentheses () or by separating elements with commas.\n",
        "\n",
        "Example:\n",
        "\n"
      ],
      "metadata": {
        "id": "rKeKmVHGKRXO"
      }
    },
    {
      "cell_type": "code",
      "source": [
        "my_tuple = (1, 2, 3)\n"
      ],
      "metadata": {
        "id": "QN-yrLD8Kc1M"
      },
      "execution_count": 8,
      "outputs": []
    },
    {
      "cell_type": "markdown",
      "source": [
        "\n",
        "\n",
        "*   Lists are defined using square brackets [].\n",
        "\n",
        "Example:\n"
      ],
      "metadata": {
        "id": "DMMHICvuKn3z"
      }
    },
    {
      "cell_type": "code",
      "source": [
        "my_list = [1, 2, 3]\n"
      ],
      "metadata": {
        "id": "xU_J5dJAK3gR"
      },
      "execution_count": null,
      "outputs": []
    },
    {
      "cell_type": "markdown",
      "source": [
        "c. Mutability:\n",
        "\n",
        "\n",
        "*   Tuples are immutable; once created, their elements cannot be changed.\n",
        "\n",
        "Example:\n"
      ],
      "metadata": {
        "id": "8XYljHWiLEWU"
      }
    },
    {
      "cell_type": "code",
      "source": [
        "my_tuple = (1, 2, 3)\n",
        "# my_tuple[1] = 10  # Raises TypeError\n"
      ],
      "metadata": {
        "id": "4A3bYzY_Lnpt"
      },
      "execution_count": 10,
      "outputs": []
    },
    {
      "cell_type": "markdown",
      "source": [
        "\n",
        "\n",
        "*   Lists are mutable; their elements can be modified, added, or removed.\n",
        "\n",
        "Example\n",
        "\n"
      ],
      "metadata": {
        "id": "NQhWvd5pMNTK"
      }
    },
    {
      "cell_type": "code",
      "source": [
        "my_list = [1, 2, 3]\n",
        "my_list[1] = 10\n",
        "print(my_list)\n"
      ],
      "metadata": {
        "colab": {
          "base_uri": "https://localhost:8080/"
        },
        "id": "6W48B5p4MSPz",
        "outputId": "5c1495a9-b3b8-4d82-8d6e-6bd7e80dbd52"
      },
      "execution_count": 11,
      "outputs": [
        {
          "output_type": "stream",
          "name": "stdout",
          "text": [
            "[1, 10, 3]\n"
          ]
        }
      ]
    },
    {
      "cell_type": "markdown",
      "source": [
        "d. Methods:\n",
        "\n",
        "\n",
        "*  Tuples support only a few methods, such as count() and index().\n",
        "\n",
        "Example:\n",
        "\n",
        "\n"
      ],
      "metadata": {
        "id": "xL4lP9bPMlIL"
      }
    },
    {
      "cell_type": "code",
      "source": [
        "my_tuple = (1, 2, 3, 2)\n",
        "print(my_tuple.count(2))\n",
        "print(my_tuple.index(3))\n"
      ],
      "metadata": {
        "colab": {
          "base_uri": "https://localhost:8080/"
        },
        "id": "ci78HUmpMuI5",
        "outputId": "fb0e15a6-c7df-47ef-c3b9-50d16f8f5815"
      },
      "execution_count": 12,
      "outputs": [
        {
          "output_type": "stream",
          "name": "stdout",
          "text": [
            "2\n",
            "2\n"
          ]
        }
      ]
    },
    {
      "cell_type": "markdown",
      "source": [
        "* Lists provide many methods for manipulation, such as append(), remove(), pop(), sort(), and more.\n",
        "\n",
        "Example"
      ],
      "metadata": {
        "id": "i_HEYJd4M5v9"
      }
    },
    {
      "cell_type": "code",
      "source": [
        "my_list = [1, 2, 3]\n",
        "my_list.append(4)\n",
        "print(my_list)"
      ],
      "metadata": {
        "colab": {
          "base_uri": "https://localhost:8080/"
        },
        "id": "9lHXgxSkM92q",
        "outputId": "ad1c3413-3a17-4ed3-cab6-953fbb06359a"
      },
      "execution_count": 13,
      "outputs": [
        {
          "output_type": "stream",
          "name": "stdout",
          "text": [
            "[1, 2, 3, 4]\n"
          ]
        }
      ]
    },
    {
      "cell_type": "markdown",
      "source": [
        "e. Performance and Memory:\n",
        "\n",
        "* Tuples are more memory-efficient and faster than lists due to their immutability.\n",
        "\n",
        "* Lists consume more memory and are slower since they support dynamic operations."
      ],
      "metadata": {
        "id": "q9ZlBJZ-NKB4"
      }
    },
    {
      "cell_type": "markdown",
      "source": [
        "f. Usage:\n",
        "\n",
        "* Use tuples when the data is fixed and should not change, such as coordinates or days of the week.\n",
        "\n",
        "Example:"
      ],
      "metadata": {
        "id": "x1s8jD8tNYGZ"
      }
    },
    {
      "cell_type": "code",
      "source": [
        "days = (\"Monday\", \"Tuesday\", \"Wednesday\")\n"
      ],
      "metadata": {
        "id": "IbQY0kCSNpZF"
      },
      "execution_count": 14,
      "outputs": []
    },
    {
      "cell_type": "markdown",
      "source": [
        "* Use lists when the data may need to be modified, such as a shopping cart or to-do list.\n",
        "\n",
        "Example:"
      ],
      "metadata": {
        "id": "YJZ-yJHrNxxc"
      }
    },
    {
      "cell_type": "code",
      "source": [
        "shopping_list = [\"milk\", \"bread\", \"eggs\"]\n",
        "shopping_list.append(\"butter\")\n",
        "print(shopping_list)\n"
      ],
      "metadata": {
        "colab": {
          "base_uri": "https://localhost:8080/"
        },
        "id": "ss037jrVN1V-",
        "outputId": "1148a091-a9d7-445a-ece5-345d1bc8494e"
      },
      "execution_count": 15,
      "outputs": [
        {
          "output_type": "stream",
          "name": "stdout",
          "text": [
            "['milk', 'bread', 'eggs', 'butter']\n"
          ]
        }
      ]
    },
    {
      "cell_type": "markdown",
      "source": [
        "5. Describe the key features of set and provide examples of their use.\n",
        "\n",
        "Ans :    \n",
        "\n",
        "A set in Python is an unordered collection of unique and immutable elements. It is particularly useful for operations involving membership tests, deduplication, and mathematical operations like unions and intersections.\n",
        "\n",
        "Key Features:\n",
        "\n",
        "a. Unordered Collection\n",
        "* Sets do not maintain the order of elements.\n",
        "* Example: {3, 1, 2} is equivalent to {1, 2, 3}.\n",
        "\n",
        "b. Unique Elements\n",
        "* A set automatically removes duplicate elements.\n",
        "* Example: {1, 2, 2, 3} becomes {1, 2, 3}.\n",
        "\n",
        "c. Mutable\n",
        "* A set can be modified after creation by adding or removing elements.\n",
        "\n",
        "d. Immutable Elements\n",
        "* Elements within a set must be immutable (e.g., numbers, strings, tuples).\n",
        "* Example: You can have (1, 2) in a set, but not [1, 2].\n",
        "\n",
        "e. Efficient Membership Testing\n",
        "* Checking if an element is in a set is very fast (average O(1) time complexity).\n",
        "\n",
        "f. Mathematical Set Operations\n",
        "* Supports union, intersection, difference, and symmetric difference.\n",
        "\n",
        "g. No Indexing or Slicing\n",
        "* Since sets are unordered, you cannot access elements by index.\n",
        "\n",
        "Examples of Using Sets :    \n",
        "\n",
        "a. Creating a Set"
      ],
      "metadata": {
        "id": "0RCHNr3POtGm"
      }
    },
    {
      "cell_type": "code",
      "source": [
        "my_set = {1, 2, 3}\n",
        "print(my_set)\n",
        "\n",
        "# Using the `set()` constructor\n",
        "another_set = set([4, 5, 6])\n",
        "print(another_set)\n"
      ],
      "metadata": {
        "colab": {
          "base_uri": "https://localhost:8080/"
        },
        "id": "0unJGYmnQwWI",
        "outputId": "9b68040d-8cc6-4a6b-bf16-9b9e305d73fa"
      },
      "execution_count": 16,
      "outputs": [
        {
          "output_type": "stream",
          "name": "stdout",
          "text": [
            "{1, 2, 3}\n",
            "{4, 5, 6}\n"
          ]
        }
      ]
    },
    {
      "cell_type": "markdown",
      "source": [
        "b. Removing Duplicates from a List"
      ],
      "metadata": {
        "id": "4nIA419DQ3Tk"
      }
    },
    {
      "cell_type": "code",
      "source": [
        "numbers = [1, 2, 2, 3, 4, 4, 5]\n",
        "unique_numbers = set(numbers)\n",
        "print(unique_numbers)\n"
      ],
      "metadata": {
        "colab": {
          "base_uri": "https://localhost:8080/"
        },
        "id": "ErqvWp_hQ6-z",
        "outputId": "2d44b28d-5868-4d17-c632-1c12478db981"
      },
      "execution_count": 17,
      "outputs": [
        {
          "output_type": "stream",
          "name": "stdout",
          "text": [
            "{1, 2, 3, 4, 5}\n"
          ]
        }
      ]
    },
    {
      "cell_type": "markdown",
      "source": [
        "c. Membership Testing"
      ],
      "metadata": {
        "id": "U_XvoWhVQ_h7"
      }
    },
    {
      "cell_type": "code",
      "source": [
        "fruits = {\"apple\", \"banana\", \"cherry\"}\n",
        "print(\"apple\" in fruits)\n",
        "print(\"grape\" in fruits)\n"
      ],
      "metadata": {
        "colab": {
          "base_uri": "https://localhost:8080/"
        },
        "id": "qQWvDFlfREVB",
        "outputId": "5763583a-a113-4f79-eed6-abf5b5c64ed8"
      },
      "execution_count": 18,
      "outputs": [
        {
          "output_type": "stream",
          "name": "stdout",
          "text": [
            "True\n",
            "False\n"
          ]
        }
      ]
    },
    {
      "cell_type": "markdown",
      "source": [
        "d. Adding and Removing Elements"
      ],
      "metadata": {
        "id": "jv0OJZfTRKpA"
      }
    },
    {
      "cell_type": "code",
      "source": [
        "my_set = {1, 2, 3}\n",
        "my_set.add(4)  # Adds an element\n",
        "print(my_set)\n",
        "\n",
        "my_set.discard(2)  # Removes an element if it exists\n",
        "print(my_set)\n"
      ],
      "metadata": {
        "colab": {
          "base_uri": "https://localhost:8080/"
        },
        "id": "BB_gvbQCRPW_",
        "outputId": "b3c6b4cd-c554-41b0-8341-d0d6ce531eec"
      },
      "execution_count": 19,
      "outputs": [
        {
          "output_type": "stream",
          "name": "stdout",
          "text": [
            "{1, 2, 3, 4}\n",
            "{1, 3, 4}\n"
          ]
        }
      ]
    },
    {
      "cell_type": "markdown",
      "source": [
        "e. Mathematical Operations\n"
      ],
      "metadata": {
        "id": "5yLpVug-RZvE"
      }
    },
    {
      "cell_type": "code",
      "source": [
        "set_a = {1, 2, 3, 4}\n",
        "set_b = {3, 4, 5, 6}\n",
        "\n",
        "# Union\n",
        "print(set_a | set_b)\n",
        "\n",
        "# Intersection\n",
        "print(set_a & set_b)\n",
        "\n",
        "# Difference\n",
        "print(set_a - set_b)\n",
        "\n",
        "# Symmetric Difference\n",
        "print(set_a ^ set_b)\n"
      ],
      "metadata": {
        "colab": {
          "base_uri": "https://localhost:8080/"
        },
        "id": "Y0dSjWPERcCh",
        "outputId": "cbb82851-686b-4ac4-9700-08f83195f7d8"
      },
      "execution_count": 20,
      "outputs": [
        {
          "output_type": "stream",
          "name": "stdout",
          "text": [
            "{1, 2, 3, 4, 5, 6}\n",
            "{3, 4}\n",
            "{1, 2}\n",
            "{1, 2, 5, 6}\n"
          ]
        }
      ]
    },
    {
      "cell_type": "markdown",
      "source": [
        "f. Frozenset\n",
        "\n",
        "An immutable version of a set.\n",
        "\n",
        "Example:"
      ],
      "metadata": {
        "id": "6-Xmp_I7Rt8R"
      }
    },
    {
      "cell_type": "code",
      "source": [
        "frozen = frozenset([1, 2, 3])\n",
        "print(frozen)\n"
      ],
      "metadata": {
        "colab": {
          "base_uri": "https://localhost:8080/"
        },
        "id": "8hF3kaqYRyPW",
        "outputId": "85f011c7-62a8-41b9-c3a9-4460dcc29c8a"
      },
      "execution_count": 21,
      "outputs": [
        {
          "output_type": "stream",
          "name": "stdout",
          "text": [
            "frozenset({1, 2, 3})\n"
          ]
        }
      ]
    },
    {
      "cell_type": "markdown",
      "source": [
        "6. Discuss the use cases of tuples and set in python programming.\n",
        "\n",
        "Ans :    \n",
        "\n",
        "Use Cases of Tuples in Python\n",
        "\n",
        "Tuples are immutable, ordered collections that are particularly useful when you want to group related data that shouldn't change.\n",
        "\n",
        "Cases:\n",
        "\n",
        "a. Data Integrity\n",
        "* Use tuples to store data that should remain constant throughout the program.\n",
        "\n",
        "Example:"
      ],
      "metadata": {
        "id": "Avzz5BfIR6Wd"
      }
    },
    {
      "cell_type": "code",
      "source": [
        "coordinates = (10.5, 20.2)  # Representing a fixed location\n"
      ],
      "metadata": {
        "id": "_Jtqvh5CS-YS"
      },
      "execution_count": 22,
      "outputs": []
    },
    {
      "cell_type": "markdown",
      "source": [
        "b. Return Multiple Values from a Function\n",
        "* Functions can return multiple values conveniently using a tuple.\n",
        "\n",
        "Example:"
      ],
      "metadata": {
        "id": "OSPraXbdTBej"
      }
    },
    {
      "cell_type": "code",
      "source": [
        "def get_user_info():\n",
        "    return \"Abhishek\", 25  # Tuple returned\n",
        "\n",
        "name, age = get_user_info()\n",
        "print(name)\n",
        "print(age)\n"
      ],
      "metadata": {
        "colab": {
          "base_uri": "https://localhost:8080/"
        },
        "id": "rgnpAIDCTLog",
        "outputId": "fe02a8b6-24e6-497d-8b2b-2c0bcf3a70b4"
      },
      "execution_count": 23,
      "outputs": [
        {
          "output_type": "stream",
          "name": "stdout",
          "text": [
            "Abhishek\n",
            "25\n"
          ]
        }
      ]
    },
    {
      "cell_type": "markdown",
      "source": [
        "c. Unpacking Values\n",
        "* Tuples allow easy unpacking of data.\n",
        "\n",
        "Example:"
      ],
      "metadata": {
        "id": "faKxuIZhTS8u"
      }
    },
    {
      "cell_type": "code",
      "source": [
        "data = (1, 2, 3)\n",
        "a, b, c = data\n",
        "print(a, b, c)\n"
      ],
      "metadata": {
        "id": "N_n3D5gaTbcS"
      },
      "execution_count": null,
      "outputs": []
    },
    {
      "cell_type": "markdown",
      "source": [
        "d. Using as Dictionary Keys\n",
        "* Since tuples are hashable, they can be used as keys in dictionaries.\n",
        "\n",
        "Example:"
      ],
      "metadata": {
        "id": "Ay_2PMYFTgcy"
      }
    },
    {
      "cell_type": "code",
      "source": [
        "location = {(40.7128, -74.0060): \"New York\"}\n",
        "print(location[(40.7128, -74.0060)])\n"
      ],
      "metadata": {
        "colab": {
          "base_uri": "https://localhost:8080/"
        },
        "id": "Y9mCeaGoTkVg",
        "outputId": "c440f3d6-b55d-40c1-d176-689ec0afe6c7"
      },
      "execution_count": 24,
      "outputs": [
        {
          "output_type": "stream",
          "name": "stdout",
          "text": [
            "New York\n"
          ]
        }
      ]
    },
    {
      "cell_type": "markdown",
      "source": [
        "e. Efficient Iteration\n",
        "* Use tuples when you need faster iteration compared to lists in scenarios where immutability is desired."
      ],
      "metadata": {
        "id": "nUJ_LmNOTtSp"
      }
    },
    {
      "cell_type": "markdown",
      "source": [
        "Use Cases of Sets in Python\n",
        "\n",
        "Sets are unordered collections of unique elements. They are particularly useful for operations involving membership tests, deduplication, and mathematical operations.\n",
        "\n",
        "Cases:\n",
        "\n",
        "a. Removing Duplicates\n",
        "* Use sets to eliminate duplicate elements from a list or collection.\n",
        "\n",
        "Example:"
      ],
      "metadata": {
        "id": "44Gsu4mfTyY8"
      }
    },
    {
      "cell_type": "code",
      "source": [
        "numbers = [1, 2, 2, 3, 4, 4, 5]\n",
        "unique_numbers = set(numbers)\n",
        "print(unique_numbers)\n"
      ],
      "metadata": {
        "colab": {
          "base_uri": "https://localhost:8080/"
        },
        "id": "hNRNuWKEVjdH",
        "outputId": "9b0a3e17-9927-45e1-be15-65172db6aa4a"
      },
      "execution_count": 25,
      "outputs": [
        {
          "output_type": "stream",
          "name": "stdout",
          "text": [
            "{1, 2, 3, 4, 5}\n"
          ]
        }
      ]
    },
    {
      "cell_type": "markdown",
      "source": [
        "b. Membership Testing\n",
        "* Sets provide efficient membership testing with O(1) average time complexity.\n",
        "\n",
        "Example:"
      ],
      "metadata": {
        "id": "6P-vi36mVr5z"
      }
    },
    {
      "cell_type": "code",
      "source": [
        "fruits = {\"apple\", \"banana\", \"cherry\"}\n",
        "print(\"apple\" in fruits)\n"
      ],
      "metadata": {
        "colab": {
          "base_uri": "https://localhost:8080/"
        },
        "id": "gsioYljoVwbD",
        "outputId": "76ab6d24-7516-4385-b2c7-7580cf6fca41"
      },
      "execution_count": 26,
      "outputs": [
        {
          "output_type": "stream",
          "name": "stdout",
          "text": [
            "True\n"
          ]
        }
      ]
    },
    {
      "cell_type": "markdown",
      "source": [
        "c. Mathematical Operations\n",
        "* Perform union, intersection, difference, and symmetric difference operations.\n",
        "\n",
        "Example:"
      ],
      "metadata": {
        "id": "eoVBr0IuV4pD"
      }
    },
    {
      "cell_type": "code",
      "source": [
        "set_a = {1, 2, 3}\n",
        "set_b = {3, 4, 5}\n",
        "print(set_a | set_b)  # Union: {1, 2, 3, 4, 5}\n",
        "print(set_a & set_b)  # Intersection: {3}\n",
        "print(set_a - set_b)  # Difference: {1, 2}\n"
      ],
      "metadata": {
        "colab": {
          "base_uri": "https://localhost:8080/"
        },
        "id": "CcMQuKOyV-R9",
        "outputId": "5a4851cf-e878-41ea-9365-62b723e7e727"
      },
      "execution_count": 27,
      "outputs": [
        {
          "output_type": "stream",
          "name": "stdout",
          "text": [
            "{1, 2, 3, 4, 5}\n",
            "{3}\n",
            "{1, 2}\n"
          ]
        }
      ]
    },
    {
      "cell_type": "markdown",
      "source": [
        "d. Finding Common or Unique Elements\n",
        "* Useful in scenarios like finding common friends, shared interests, or non-overlapping data.\n",
        "\n",
        "Example:\n"
      ],
      "metadata": {
        "id": "N6n1-INPWGxm"
      }
    },
    {
      "cell_type": "code",
      "source": [
        "team_a = {\"Alice\", \"Bob\", \"Charlie\"}\n",
        "team_b = {\"Bob\", \"David\", \"Eve\"}\n",
        "common = team_a & team_b\n",
        "print(common)\n"
      ],
      "metadata": {
        "colab": {
          "base_uri": "https://localhost:8080/"
        },
        "id": "0FXMkeiwWNYk",
        "outputId": "7e92029b-69e8-4549-95ba-de15b53cab3b"
      },
      "execution_count": 28,
      "outputs": [
        {
          "output_type": "stream",
          "name": "stdout",
          "text": [
            "{'Bob'}\n"
          ]
        }
      ]
    },
    {
      "cell_type": "markdown",
      "source": [
        "e. Tracking Unique Items in Large Data\n",
        "* Sets are ideal for keeping track of unique values in massive datasets.\n",
        "\n",
        "Example:"
      ],
      "metadata": {
        "id": "U7mS0ZG9Wb5g"
      }
    },
    {
      "cell_type": "code",
      "source": [
        "log_data = [\"user1\", \"user2\", \"user1\", \"user3\"]\n",
        "unique_users = set(log_data)\n",
        "print(unique_users)\n"
      ],
      "metadata": {
        "colab": {
          "base_uri": "https://localhost:8080/"
        },
        "id": "6UlW9zy8WgWI",
        "outputId": "d46ddfd3-aef3-4006-b3c6-caf98185b4b6"
      },
      "execution_count": 29,
      "outputs": [
        {
          "output_type": "stream",
          "name": "stdout",
          "text": [
            "{'user1', 'user2', 'user3'}\n"
          ]
        }
      ]
    },
    {
      "cell_type": "markdown",
      "source": [
        "f. Efficient Filtering\n",
        "* Use sets to filter elements based on inclusion or exclusion.\n",
        "\n",
        "Example:"
      ],
      "metadata": {
        "id": "E-qgcrdcW4NL"
      }
    },
    {
      "cell_type": "code",
      "source": [
        "data = {1, 2, 3, 4, 5}\n",
        "exclude = {2, 4}\n",
        "filtered = data - exclude\n",
        "print(filtered)\n"
      ],
      "metadata": {
        "colab": {
          "base_uri": "https://localhost:8080/"
        },
        "id": "Jy35SGTQW-63",
        "outputId": "b5b3a7ff-6409-4bcd-e129-a5496a706fd8"
      },
      "execution_count": 30,
      "outputs": [
        {
          "output_type": "stream",
          "name": "stdout",
          "text": [
            "{1, 3, 5}\n"
          ]
        }
      ]
    },
    {
      "cell_type": "markdown",
      "source": [
        "7. Describe how to add, modify, and delete items in a dictionary with example.\n",
        "\n",
        "Ans :    \n",
        "\n",
        "Adding Items to a Dictionary\n",
        "\n",
        "To add items to a dictionary, use the key assignment operator (=) or the update() method.\n",
        "\n",
        "Example:"
      ],
      "metadata": {
        "id": "8VJKrXkaXH0V"
      }
    },
    {
      "cell_type": "code",
      "source": [
        "# Initial dictionary\n",
        "person = {\"name\": \"Alice\", \"age\": 25}\n",
        "\n",
        "# Add a new key-value pair\n",
        "person[\"city\"] = \"New York\"\n",
        "print(person)\n",
        "\n",
        "# Using update() to add multiple items\n",
        "person.update({\"gender\": \"female\", \"profession\": \"Engineer\"})\n",
        "print(person)\n"
      ],
      "metadata": {
        "colab": {
          "base_uri": "https://localhost:8080/"
        },
        "id": "OyIV7xfAX46W",
        "outputId": "8e69cad4-0487-465b-f066-873951044ca9"
      },
      "execution_count": 31,
      "outputs": [
        {
          "output_type": "stream",
          "name": "stdout",
          "text": [
            "{'name': 'Alice', 'age': 25, 'city': 'New York'}\n",
            "{'name': 'Alice', 'age': 25, 'city': 'New York', 'gender': 'female', 'profession': 'Engineer'}\n"
          ]
        }
      ]
    },
    {
      "cell_type": "markdown",
      "source": [
        "Modifying Items in a Dictionary\n",
        "\n",
        "To modify the value of an existing key, reassign a new value to that key.\n",
        "\n",
        "Example:"
      ],
      "metadata": {
        "id": "GTYErM1wYDHd"
      }
    },
    {
      "cell_type": "code",
      "source": [
        "# Modify an existing key\n",
        "person[\"age\"] = 30\n",
        "print(person)\n",
        "\n",
        "# Modify multiple items using update()\n",
        "person.update({\"city\": \"Los Angeles\", \"profession\": \"Designer\"})\n",
        "print(person)\n"
      ],
      "metadata": {
        "colab": {
          "base_uri": "https://localhost:8080/"
        },
        "id": "RUmtblQHYL--",
        "outputId": "0ed3e06e-b421-48f0-81bd-dcc1bfa9088c"
      },
      "execution_count": 32,
      "outputs": [
        {
          "output_type": "stream",
          "name": "stdout",
          "text": [
            "{'name': 'Alice', 'age': 30, 'city': 'New York', 'gender': 'female', 'profession': 'Engineer'}\n",
            "{'name': 'Alice', 'age': 30, 'city': 'Los Angeles', 'gender': 'female', 'profession': 'Designer'}\n"
          ]
        }
      ]
    },
    {
      "cell_type": "markdown",
      "source": [
        "Deleting Items in a Dictionary\n",
        "\n",
        "You can delete items using the following methods:\n",
        "\n",
        "* del Statement: Removes a specific key-value pair.\n",
        "* pop() Method: Removes a key-value pair and returns the value.\n",
        "* popitem() Method: Removes and returns the last inserted key-value pair.\n",
        "* clear() Method: Removes all items from the dictionary.\n",
        "\n",
        "Example:"
      ],
      "metadata": {
        "id": "o3ndrq7WYbOQ"
      }
    },
    {
      "cell_type": "code",
      "source": [
        "# Deleting a specific key-value pair using del\n",
        "del person[\"gender\"]\n",
        "print(person)\n",
        "\n",
        "# Deleting and retrieving a value using pop()\n",
        "profession = person.pop(\"profession\")\n",
        "print(profession)\n",
        "print(person)\n",
        "\n",
        "# Deleting the last inserted key-value pair using popitem()\n",
        "last_item = person.popitem()\n",
        "print(last_item)\n",
        "print(person)\n",
        "\n",
        "# Clearing the dictionary\n",
        "person.clear()\n",
        "print(person)\n"
      ],
      "metadata": {
        "colab": {
          "base_uri": "https://localhost:8080/"
        },
        "id": "zbSBlAVWYqn2",
        "outputId": "4e8c9afd-f9e2-4e09-955e-eb19d6d1c688"
      },
      "execution_count": 33,
      "outputs": [
        {
          "output_type": "stream",
          "name": "stdout",
          "text": [
            "{'name': 'Alice', 'age': 30, 'city': 'Los Angeles', 'profession': 'Designer'}\n",
            "Designer\n",
            "{'name': 'Alice', 'age': 30, 'city': 'Los Angeles'}\n",
            "('city', 'Los Angeles')\n",
            "{'name': 'Alice', 'age': 30}\n",
            "{}\n"
          ]
        }
      ]
    },
    {
      "cell_type": "markdown",
      "source": [
        "8. Discuss the importance of dictionary key being immutable and provide examples.\n",
        "\n",
        "Ans :    \n",
        "\n",
        "In Python, dictionary keys must be immutable. This restriction is crucial because dictionaries are implemented as hash tables, and the keys are hashed to determine where to store or retrieve values. If a key were mutable, its hash value could change, leading to unpredictable behavior or errors when accessing values.\n",
        "\n",
        "Why Dictionary Keys Must Be Immutable\n",
        "\n",
        "a. Ensures Hash Stability\n",
        "\n",
        "* The hash value of a key is calculated when the key-value pair is added to the dictionary. For efficient lookups, the key's hash must remain consistent. Immutable keys like strings, numbers, and tuples guarantee this.\n",
        "\n",
        "b. Prevents Data Corruption\n",
        "\n",
        "* If a key could change after being added, the dictionary would no longer be able to locate the value associated with that key, potentially corrupting the data structure.\n",
        "\n",
        "c. Optimizes Performance\n",
        "\n",
        "* Dictionaries rely on hashing for fast average-case lookup times (O(1)). Mutable keys would make hashing unreliable, degrading performance and increasing complexity.\n",
        "\n",
        "d. Avoids Logical Errors\n",
        "\n",
        "* Allowing mutable keys could result in subtle bugs that are hard to debug, especially when keys are accidentally modified after being added\n",
        "\n",
        "Examples of Why Keys Must Be Immutable\n",
        "\n",
        "a. Immutable Keys Work Perfectly:\n",
        "* Immutable types like strings, numbers, and tuples are valid keys because their content cannot change:"
      ],
      "metadata": {
        "id": "25HjPRaLY62R"
      }
    },
    {
      "cell_type": "code",
      "source": [
        "my_dict = {\"name\": \"Alice\", 42: \"Answer\", (1, 2): \"Point\"}\n",
        "print(my_dict[\"name\"])\n",
        "print(my_dict[42])\n",
        "print(my_dict[(1, 2)])\n"
      ],
      "metadata": {
        "colab": {
          "base_uri": "https://localhost:8080/"
        },
        "id": "9eYy95iPbpoU",
        "outputId": "e4fdf77d-7551-436c-b300-a6571e3c4f41"
      },
      "execution_count": 34,
      "outputs": [
        {
          "output_type": "stream",
          "name": "stdout",
          "text": [
            "Alice\n",
            "Answer\n",
            "Point\n"
          ]
        }
      ]
    },
    {
      "cell_type": "markdown",
      "source": [
        "b. Mutable Keys Cause Issues:\n",
        "\n",
        "* Lists and other mutable objects cannot be used as keys:"
      ],
      "metadata": {
        "id": "_lRJN_39bxY_"
      }
    },
    {
      "cell_type": "code",
      "source": [
        "key = [1, 2, 3]\n",
        "my_dict = {key: \"value\"}  # Raises TypeError: unhashable type: 'list'\n"
      ],
      "metadata": {
        "colab": {
          "base_uri": "https://localhost:8080/",
          "height": 158
        },
        "id": "p7VH2fHfb5Y6",
        "outputId": "f4b7770f-bebc-4ab7-a0b3-4df45eef52f0"
      },
      "execution_count": 35,
      "outputs": [
        {
          "output_type": "error",
          "ename": "TypeError",
          "evalue": "unhashable type: 'list'",
          "traceback": [
            "\u001b[0;31m---------------------------------------------------------------------------\u001b[0m",
            "\u001b[0;31mTypeError\u001b[0m                                 Traceback (most recent call last)",
            "\u001b[0;32m<ipython-input-35-526084dc5305>\u001b[0m in \u001b[0;36m<cell line: 2>\u001b[0;34m()\u001b[0m\n\u001b[1;32m      1\u001b[0m \u001b[0mkey\u001b[0m \u001b[0;34m=\u001b[0m \u001b[0;34m[\u001b[0m\u001b[0;36m1\u001b[0m\u001b[0;34m,\u001b[0m \u001b[0;36m2\u001b[0m\u001b[0;34m,\u001b[0m \u001b[0;36m3\u001b[0m\u001b[0;34m]\u001b[0m\u001b[0;34m\u001b[0m\u001b[0;34m\u001b[0m\u001b[0m\n\u001b[0;32m----> 2\u001b[0;31m \u001b[0mmy_dict\u001b[0m \u001b[0;34m=\u001b[0m \u001b[0;34m{\u001b[0m\u001b[0mkey\u001b[0m\u001b[0;34m:\u001b[0m \u001b[0;34m\"value\"\u001b[0m\u001b[0;34m}\u001b[0m  \u001b[0;31m# Raises TypeError: unhashable type: 'list'\u001b[0m\u001b[0;34m\u001b[0m\u001b[0;34m\u001b[0m\u001b[0m\n\u001b[0m",
            "\u001b[0;31mTypeError\u001b[0m: unhashable type: 'list'"
          ]
        }
      ]
    },
    {
      "cell_type": "markdown",
      "source": [
        "* If mutable keys were allowed and modified, the hash table would fail:"
      ],
      "metadata": {
        "id": "N95gO05-cBWf"
      }
    },
    {
      "cell_type": "code",
      "source": [
        "key = [1, 2, 3]\n",
        "my_dict = {}\n",
        "my_dict[key] = \"value\"  # Suppose this worked\n",
        "key.append(4)           # Changes the key\n",
        "\n"
      ],
      "metadata": {
        "colab": {
          "base_uri": "https://localhost:8080/",
          "height": 211
        },
        "id": "zHXm5x4AcEa4",
        "outputId": "b7835b14-2708-4b50-8520-5644402a6a25"
      },
      "execution_count": 36,
      "outputs": [
        {
          "output_type": "error",
          "ename": "TypeError",
          "evalue": "unhashable type: 'list'",
          "traceback": [
            "\u001b[0;31m---------------------------------------------------------------------------\u001b[0m",
            "\u001b[0;31mTypeError\u001b[0m                                 Traceback (most recent call last)",
            "\u001b[0;32m<ipython-input-36-221aa2acd231>\u001b[0m in \u001b[0;36m<cell line: 3>\u001b[0;34m()\u001b[0m\n\u001b[1;32m      1\u001b[0m \u001b[0mkey\u001b[0m \u001b[0;34m=\u001b[0m \u001b[0;34m[\u001b[0m\u001b[0;36m1\u001b[0m\u001b[0;34m,\u001b[0m \u001b[0;36m2\u001b[0m\u001b[0;34m,\u001b[0m \u001b[0;36m3\u001b[0m\u001b[0;34m]\u001b[0m\u001b[0;34m\u001b[0m\u001b[0;34m\u001b[0m\u001b[0m\n\u001b[1;32m      2\u001b[0m \u001b[0mmy_dict\u001b[0m \u001b[0;34m=\u001b[0m \u001b[0;34m{\u001b[0m\u001b[0;34m}\u001b[0m\u001b[0;34m\u001b[0m\u001b[0;34m\u001b[0m\u001b[0m\n\u001b[0;32m----> 3\u001b[0;31m \u001b[0mmy_dict\u001b[0m\u001b[0;34m[\u001b[0m\u001b[0mkey\u001b[0m\u001b[0;34m]\u001b[0m \u001b[0;34m=\u001b[0m \u001b[0;34m\"value\"\u001b[0m  \u001b[0;31m# Suppose this worked\u001b[0m\u001b[0;34m\u001b[0m\u001b[0;34m\u001b[0m\u001b[0m\n\u001b[0m\u001b[1;32m      4\u001b[0m \u001b[0mkey\u001b[0m\u001b[0;34m.\u001b[0m\u001b[0mappend\u001b[0m\u001b[0;34m(\u001b[0m\u001b[0;36m4\u001b[0m\u001b[0;34m)\u001b[0m           \u001b[0;31m# Changes the key\u001b[0m\u001b[0;34m\u001b[0m\u001b[0;34m\u001b[0m\u001b[0m\n\u001b[1;32m      5\u001b[0m \u001b[0;34m\u001b[0m\u001b[0m\n",
            "\u001b[0;31mTypeError\u001b[0m: unhashable type: 'list'"
          ]
        }
      ]
    },
    {
      "cell_type": "markdown",
      "source": [
        "c. Hashable Tuples Are Valid Keys:\n",
        "\n",
        "A tuple containing immutable elements works seamlessly as a dictionary key:"
      ],
      "metadata": {
        "id": "c7kbHvJTcXrA"
      }
    },
    {
      "cell_type": "code",
      "source": [
        "coordinates = {(40.7128, -74.0060): \"New York\"}\n",
        "print(coordinates[(40.7128, -74.0060)])\n"
      ],
      "metadata": {
        "colab": {
          "base_uri": "https://localhost:8080/"
        },
        "id": "DV06HQpWcfbU",
        "outputId": "095f6d19-a9bb-4721-fc8b-c8dbcf91fc2b"
      },
      "execution_count": 37,
      "outputs": [
        {
          "output_type": "stream",
          "name": "stdout",
          "text": [
            "New York\n"
          ]
        }
      ]
    }
  ]
}