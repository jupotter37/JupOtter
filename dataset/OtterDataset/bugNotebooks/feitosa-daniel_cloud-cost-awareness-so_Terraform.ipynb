{
 "cells": [
  {
   "cell_type": "markdown",
   "id": "a40ad097-4837-45c9-9ae9-b92ec1122320",
   "metadata": {},
   "source": [
    "# Analysis of Stack Overflow Terraform Questions "
   ]
  },
  {
   "cell_type": "markdown",
   "id": "a07ded00-546e-4881-be73-a2052b93d999",
   "metadata": {},
   "source": [
    "## Helpers"
   ]
  },
  {
   "cell_type": "markdown",
   "id": "9cf28ab0-87aa-43f3-a074-12be1cd78ae5",
   "metadata": {},
   "source": [
    "### Suppress Warnings"
   ]
  },
  {
   "cell_type": "code",
   "execution_count": 29,
   "id": "2b6a7a28-d4b9-41f0-bc0f-ddd18de0e822",
   "metadata": {},
   "outputs": [],
   "source": [
    "import warnings\n",
    "\n",
    "warnings.filterwarnings(\"ignore\")\n",
    "# warnings.resetwarnings()"
   ]
  },
  {
   "cell_type": "markdown",
   "id": "99f75602-f362-49a5-b20f-f9eb4187d0ee",
   "metadata": {},
   "source": [
    "### Post GUI"
   ]
  },
  {
   "cell_type": "code",
   "execution_count": 30,
   "id": "7449adab-f2f4-48ab-ad0e-17e89bd4d556",
   "metadata": {},
   "outputs": [],
   "source": [
    "import ipywidgets as widgets\n",
    "from IPython.display import display, HTML, clear_output\n",
    "\n",
    "\n",
    "def generate_filtered_sentences_table(post_data):\n",
    "    def generate_table_recursive(data, location):\n",
    "        filtered_sentences = data.get(\"filtered-sentences\", [])\n",
    "        html_table = \"\"\n",
    "        for sentence in filtered_sentences:\n",
    "            source = location+\":\"+sentence.get(\"source\", \"\")\n",
    "            text = sentence.get(\"text\", \"\")\n",
    "            keywords = \", \".join(sentence.get(\"keywords\", []))\n",
    "            row = f\"<tr><td>{source}</td><td>{text}</td><td>{keywords}</td></tr>\"\n",
    "            html_table += row\n",
    "\n",
    "        if \"comments\" in data:\n",
    "            for comment in data[\"comments\"]:\n",
    "                html_table += generate_table_recursive(comment, location+\">comment\")\n",
    "        if \"history\" in data:\n",
    "            for history_entry in data[\"history\"]:\n",
    "                html_table += generate_table_recursive(history_entry, location+\">history\")\n",
    "        if \"answers\" in data:\n",
    "            for answer in data[\"answers\"]:\n",
    "                html_table += generate_table_recursive(answer, location+\">answer\")\n",
    "\n",
    "        # Close the HTML table for the current data\n",
    "\n",
    "        return html_table\n",
    "\n",
    "    # Call the recursive function to generate the HTML table\n",
    "    html_table = \"<table>\"\n",
    "    html_table += \"<tr><th>Source</th><th>Text</th><th>Keywords</th></tr>\"\n",
    "    html_table += generate_table_recursive(post_data, \"\")\n",
    "    html_table += \"</table>\"\n",
    "\n",
    "    return html_table\n",
    "\n",
    "\n",
    "\n",
    "def display_question(question_post):\n",
    "    global component_outputs\n",
    "    component_outputs[\"Id\"].value = str(question_post.get(\"Id\", \"\"))\n",
    "    component_outputs[\"Title\"].value = str(question_post.get(\"Title\", \"\"))\n",
    "    component_outputs[\"Tags\"].value = str(question_post.get(\"Tags\", \"\"))\n",
    "    component_outputs[\"Body\"].value = question_post.get(\"Body\", \"\")\n",
    "    component_outputs[\"Filtered Sentences\"].value = generate_filtered_sentences_table(question_post)\n",
    "\n",
    "    comments_text = \"\\n-----\\n\".join([comment[\"Text\"].strip() for comment in question_post.get(\"comments\", [])])\n",
    "    component_outputs[\"Comments\"].value = comments_text\n",
    "    \n",
    "    history_text = \"\\n-----\\n\".join([hist.get(\"Text\", hist.get(\"Comment\", \"\")).strip() for hist in question_post.get(\"history\", [])])\n",
    "    component_outputs[\"History\"].value = history_text\n",
    "\n",
    "def go_next(button):\n",
    "    global questions, index\n",
    "    index = index + 1 if index < len(questions) else index\n",
    "    display_question(questions[index])\n",
    "\n",
    "def go_prev(button):\n",
    "    global questions, index\n",
    "    index = index - 1 if index > 0 else 0\n",
    "    display_question(questions[index])\n",
    "\n",
    "def display_gui():\n",
    "    global component_outputs\n",
    "    # Navigation buttons\n",
    "    next_button = widgets.Button(description=\"Next\")\n",
    "    prev_button = widgets.Button(description=\"Previous\")\n",
    "    next_button.on_click(go_next)\n",
    "    prev_button.on_click(go_prev)\n",
    "    next_prev_buttons = widgets.HBox([prev_button, next_button])\n",
    "\n",
    "    toggle_widgets = [\n",
    "        widgets.ToggleButton(value=False, description=\"Body\"),\n",
    "        widgets.ToggleButton(value=False, description=\"Comments\"),\n",
    "        widgets.ToggleButton(value=False, description=\"History\"),\n",
    "        widgets.ToggleButton(value=False, description=\"Filtered Sentences\"),\n",
    "    ]\n",
    "    toggle_buttons = widgets.HBox(toggle_widgets)\n",
    "\n",
    "    component_outputs = {\n",
    "        \"Id\": widgets.Textarea(description=\"Id\", disabled=True, layout={'width': '90%', 'height': '20px'}),\n",
    "        \"Title\": widgets.Textarea(description=\"Title\", disabled=True, layout={'width': '90%', 'height': '20px'}),\n",
    "        \"Tags\": widgets.Textarea(description=\"Tags\", disabled=True, layout={'width': '90%', 'height': '20px'}),\n",
    "        \"Body\": widgets.HTML(description=\"Body\", disabled=True, layout={'width': '90%', 'display': 'none'}),\n",
    "        \"Comments\": widgets.Textarea(description=\"Comments\", disabled=True, layout={'width': '90%', 'display': 'none', 'height': '40px'}),\n",
    "        \"History\": widgets.Textarea(description=\"History\", disabled=True, layout={'width': '90%', 'display': 'none', 'height': '40px'}),\n",
    "        \"Filtered Sentences\": widgets.HTML(description=\"Filtered Sentences\", disabled=True, layout={'width': '90%', 'display': 'none'}),\n",
    "    }\n",
    "\n",
    "    gui = widgets.Output()\n",
    "\n",
    "    @gui.capture()\n",
    "    def toggle_visibility(change):\n",
    "        if change['new']:\n",
    "            component_outputs[change['owner'].description].layout.display = 'block'\n",
    "        else:\n",
    "            component_outputs[change['owner'].description].layout.display = 'none'\n",
    "\n",
    "    for b in toggle_widgets:\n",
    "        # b.on_click(toggle_visibility)\n",
    "        b.observe(toggle_visibility, names='value')\n",
    "    \n",
    "    # Display everything initially\n",
    "    with gui:\n",
    "        display(next_prev_buttons)\n",
    "        display(toggle_buttons)\n",
    "        for d, w in component_outputs.items():\n",
    "            display(w)\n",
    "    display(gui)"
   ]
  },
  {
   "cell_type": "markdown",
   "id": "db40686f-8c7f-45a3-a253-59aaee4bf679",
   "metadata": {
    "editable": true,
    "slideshow": {
     "slide_type": ""
    },
    "tags": []
   },
   "source": [
    "### Bokeh Export"
   ]
  },
  {
   "cell_type": "code",
   "execution_count": 31,
   "id": "3fecd65e-7548-47c6-9259-c9dc12be5821",
   "metadata": {},
   "outputs": [],
   "source": [
    "from bokeh.io import export_svgs\n",
    "from reportlab.graphics import renderPDF\n",
    "from selenium import webdriver\n",
    "from selenium.webdriver.firefox.service import Service as FirefoxService\n",
    "from webdriver_manager.firefox import GeckoDriverManager\n",
    "import svglib.svglib as svglib\n",
    "\n",
    "class FirefoxWebdriver(object):\n",
    "    def __new__(cls):\n",
    "        if not hasattr(cls, 'instance'):\n",
    "            cls.instance = super(FirefoxWebdriver, cls).__new__(cls)\n",
    "\n",
    "            opts = webdriver.FirefoxOptions()\n",
    "            opts.add_argument(\"--headless\")\n",
    "            cls.driver = webdriver.Firefox(service=FirefoxService(GeckoDriverManager().install()), options=opts)\n",
    "            \n",
    "        return cls.instance\n",
    "\n",
    "def export_pdf(bokeh_plot, filename):\n",
    "    bokeh_plot.output_backend = \"svg\"\n",
    "    filename = re.sub(r'\\.pdf$','',filename)\n",
    "    svg_name = filename+'.svg'\n",
    "    pdf_name = filename+'.pdf'\n",
    "    \n",
    "    export_svgs(bokeh_plot, filename=svg_name, webdriver=FirefoxWebdriver().driver)\n",
    "    svg = svglib.svg2rlg(svg_name)\n",
    "    renderPDF.drawToFile(svg, pdf_name)\n",
    "    os.remove(svg_name)"
   ]
  },
  {
   "cell_type": "markdown",
   "id": "e0620f2b-dac1-41d2-bedb-ee4e2394175f",
   "metadata": {},
   "source": [
    "### Question Filtering"
   ]
  },
  {
   "cell_type": "code",
   "execution_count": 32,
   "id": "6668cd0c-23b3-4276-8dce-cca073b6f480",
   "metadata": {},
   "outputs": [],
   "source": [
    "import os\n",
    "import json\n",
    "\n",
    "def post_content(post):\n",
    "    return {\n",
    "        \"body\" : post[\"Body\"],\n",
    "        \"title\" : post[\"Title\"],\n",
    "        \"comments\" : \" | \".join([i[\"Text\"] for i in post.get(\"comments\", [])]),\n",
    "        \"answers\" : \" | \".join([i[\"Body\"] for i in post.get(\"answers\", [])]),\n",
    "        \"answers_comments\" : \" | \".join([i[\"Text\"] for p in post.get(\"answers\", []) for i in p.get(\"comments\", []) ]),\n",
    "        \"history\" : \" | \".join([i.get(\"Text\",\"\") + \" \" + i.get(\"Comment\",\"\") for i in post.get(\"history\", [])]),\n",
    "    }\n",
    "\n",
    "\n",
    "def filter_posts_with(post_dir, filter_func):\n",
    "    for fn in os.listdir(post_dir):\n",
    "        if fn.startswith(\"post-\") and fn.endswith(\".json\"):\n",
    "            with open(os.path.join(post_dir, fn), 'r') as f:\n",
    "                post = json.load(f)\n",
    "                content = post_content(post)\n",
    "                for location, text in content.items():\n",
    "                    if filter_func(text):\n",
    "                        yield (post,location)\n",
    "                        break\n",
    "\n",
    "\n",
    "def filter_posts_with_strings(post_dir, strs):\n",
    "    yield from filter_posts_with(post_dir, lambda x: any(s in x for s in strs))\n",
    "\n",
    "\n",
    "def filter_posts_with_patterns(post_dir, pattern_list):\n",
    "    patterns = [re.compile(p) for p in pattern_list]\n",
    "    yield from filter_posts_with(post_dir, lambda x: any(p.search(x) for p in patterns))"
   ]
  },
  {
   "cell_type": "markdown",
   "id": "470edbb1-1e6f-4278-99da-893ea75cb538",
   "metadata": {},
   "source": [
    "### Keyword Search in Sentences"
   ]
  },
  {
   "cell_type": "code",
   "execution_count": 5,
   "id": "f8b5f978-2960-4b2d-aa1f-5d1cfe2c352d",
   "metadata": {},
   "outputs": [],
   "source": [
    "# Consider using ONNX if you have the hardware\n",
    "# !pip install onnxruntime-gpu # GPUs with CUDA\n",
    "# !pip install onnxruntime-silicon # Apple M1/M2"
   ]
  },
  {
   "cell_type": "code",
   "execution_count": 6,
   "id": "d99677ff-e154-4ef4-a009-de6143b54084",
   "metadata": {},
   "outputs": [
    {
     "name": "stderr",
     "output_type": "stream",
     "text": [
      "2023-10-01 16:11:12.472776 [W:onnxruntime:, helper.cc:66 IsInputSupported] Dynamic shape is not supported for now, for input:/embeddings/HashBucketCodepointEmbedder_0/Gather_output_0\n",
      "2023-10-01 16:11:12.472794 [W:onnxruntime:, helper.cc:66 IsInputSupported] Dynamic shape is not supported for now, for input:/embeddings/Concat_1_output_0\n",
      "2023-10-01 16:11:12.472800 [W:onnxruntime:, helper.cc:66 IsInputSupported] Dynamic shape is not supported for now, for input:/embeddings/Add_output_0\n",
      "2023-10-01 16:11:12.472808 [W:onnxruntime:, helper.cc:66 IsInputSupported] Dynamic shape is not supported for now, for input:attention_mask\n",
      "2023-10-01 16:11:12.475071 [W:onnxruntime:, helper.cc:66 IsInputSupported] Dynamic shape is not supported for now, for input:/embeddings/HashBucketCodepointEmbedder_0/Gather_output_0\n",
      "2023-10-01 16:11:12.475082 [W:onnxruntime:, helper.cc:66 IsInputSupported] Dynamic shape is not supported for now, for input:/embeddings/Concat_1_output_0\n",
      "2023-10-01 16:11:12.475089 [W:onnxruntime:, helper.cc:66 IsInputSupported] Dynamic shape is not supported for now, for input:/embeddings/Add_output_0\n",
      "2023-10-01 16:11:12.475097 [W:onnxruntime:, helper.cc:66 IsInputSupported] Dynamic shape is not supported for now, for input:attention_mask\n",
      "2023-10-01 16:11:12.475116 [W:onnxruntime:, helper.cc:66 IsInputSupported] Dynamic shape is not supported for now, for input:_0x1377163b0_PrefixShape\n",
      "2023-10-01 16:11:12.475130 [W:onnxruntime:, helper.cc:66 IsInputSupported] Dynamic shape is not supported for now, for input:_0x137718a50_PrefixShape\n"
     ]
    }
   ],
   "source": [
    "from bs4 import BeautifulSoup\n",
    "from wtpsplit import WtP\n",
    "\n",
    "# SENTER = WtP(\"wtp-bert-mini\") # CPU\n",
    "# SENTER = WtP(\"wtp-bert-mini\", ort_providers=[\"CUDAExecutionProvider\"]) # GPU with CUDA\n",
    "SENTER = WtP(\"wtp-bert-mini\", ort_providers=[\"CoreMLExecutionProvider\"]) # Apple M1/M2\n",
    "\n",
    "\n",
    "def htmlbody_to_text(html_string):\n",
    "    # Parse the HTML using BeautifulSoup\n",
    "    soup = BeautifulSoup(html_string, 'html.parser')\n",
    "\n",
    "    # Remove code blocks\n",
    "    for code_block in soup.find_all(['pre']):\n",
    "        code_block.extract()\n",
    "\n",
    "    # Extract text from links and replace them in the soup with their text content\n",
    "    for link_tag in soup.find_all('a'):\n",
    "        link_tag.string = link_tag.get_text()\n",
    "\n",
    "    # Get the text from the modified soup\n",
    "    text = soup.get_text()\n",
    "\n",
    "    # Remove extra whitespace and return the cleaned text\n",
    "    return ' '.join(text.split()).strip()\n",
    "\n",
    "\n",
    "def split_sentences(text):\n",
    "    yield from SENTER.split(text, lang_code=\"en\", style='ersatz')\n",
    "\n",
    "\n",
    "def find_keywords(texts, pattern_dict):\n",
    "    for t in texts:\n",
    "        kws = [n for n,p in pattern_dict.items() if p.search(t)]\n",
    "        if kws:\n",
    "            yield {'text': t, 'keywords': kws}"
   ]
  },
  {
   "cell_type": "markdown",
   "id": "f1605530-52b9-41bd-b50c-1db61b627f18",
   "metadata": {},
   "source": [
    "## Analysis"
   ]
  },
  {
   "cell_type": "code",
   "execution_count": 12,
   "id": "737f79f8-6671-44c2-a10a-36f559e61980",
   "metadata": {},
   "outputs": [],
   "source": [
    "step1output_dir = \"../step-1-output/\"\n",
    "step1questions_dir = step1output_dir+\"questions/\"\n",
    "\n",
    "step2output_dir = \"../step-2-output/\"\n",
    "step2questions_dir = step2output_dir+\"questions/\"\n",
    "os.makedirs(step2questions_dir, exist_ok=True)"
   ]
  },
  {
   "cell_type": "markdown",
   "id": "5fd50303-c013-4d5b-a06a-6fd719deaadb",
   "metadata": {},
   "source": [
    "### Filter Cost-Related Questions"
   ]
  },
  {
   "cell_type": "markdown",
   "id": "952b4dd1-dc94-4950-a355-0abeb30ea88a",
   "metadata": {},
   "source": [
    "Filter questions that contain one of the cost-related keywords"
   ]
  },
  {
   "cell_type": "code",
   "execution_count": 19,
   "id": "7c79f06c-924e-4e7f-99be-a54d08e7baae",
   "metadata": {},
   "outputs": [],
   "source": [
    "import re\n",
    "\n",
    "cost_patterns = {i[0]: re.compile(i[1]) for i in [\n",
    "        (\"bill\", r\"\\bb[iI][lL][lL]\\w*\\b\"),\n",
    "        (\"cheap\", r\"\\b[cC][hH][eE][aA][pP]\\w*\\b\"),\n",
    "        (\"cost\", r\"\\b[cC][oO][sS][tT]\\b\"),\n",
    "        (\"efficient\", r\"\\b[eE][fF][fF][iI][cC][iI][eE][nN][tT]\\b\"),\n",
    "        (\"expense\", r\"\\b[eE][xX][pP][eE][nN][sS]\\w*\\b\"),\n",
    "        (\"pay\", r\"\\b[pP][aA][yY]\\b\"),\n",
    "]}"
   ]
  },
  {
   "cell_type": "code",
   "execution_count": null,
   "id": "a21dc86b-e62d-4cb3-8c4d-c4efd74c0c56",
   "metadata": {},
   "outputs": [],
   "source": [
    "questions = [p[0] for p in filter_posts_with_patterns(step1questions_dir, cost_patterns.values())]\n",
    "# questions = [p[0] for p in filter_posts_with_strings(step1questions_dir, cost_patterns.keys())]"
   ]
  },
  {
   "cell_type": "markdown",
   "id": "f3c73b2c-ab0d-43c6-8dca-308cf75aec09",
   "metadata": {},
   "source": [
    "### Enrich Questions with Topic-Related Insights "
   ]
  },
  {
   "cell_type": "markdown",
   "id": "d686bdea-da01-478e-94d1-2c0aca5f753d",
   "metadata": {},
   "source": [
    "Flag questions as containing topics or not"
   ]
  },
  {
   "cell_type": "code",
   "execution_count": 20,
   "id": "830ff1c8-5524-45fa-a649-2dd9308a63d2",
   "metadata": {},
   "outputs": [],
   "source": [
    "import re\n",
    "\n",
    "topic_patterns = {i[0]: re.compile(i[1], re.IGNORECASE) for i in [\n",
    "        (\"networking\", r\"\\bnetworking\\b\"), (\"nat\", r\"\\bnat\\b\"), (\"vpn\", r\"\\bvpn\\b\"), \n",
    "        (\"instance\", r\"\\binstance\\b\"), (\"storage\", r\"\\bstorage\\b\"), (\"cpu\", r\"\\bcpu\\b\"), (\"ram\", r\"\\bram\\b\"),\n",
    "        (\"domain\", r\"\\bdomain\\b\"), (\"area\", r\"\\barea\\b\"), (\"provider\", r\"\\bprovider\\b\"),\n",
    "        (\"feature\", r\"\\bfeature\\b\"), (\"billing mode\", r\"\\bmode\\b\"), (\"policy\", r\"\\bpolicy\\b\"), \n",
    "        (\"cluster\", r\"\\bcluster\\b\"), (\"change\", r\"\\bchang\\w+\\b\"), (\"test\", r\"\\btest\\w*\\b\"),\n",
    "]}"
   ]
  },
  {
   "cell_type": "code",
   "execution_count": null,
   "id": "d303bd24-c6b9-478d-8e4c-9dfed60962fe",
   "metadata": {},
   "outputs": [],
   "source": [
    "for q in questions:\n",
    "    q['contains-topic'] = any(kw.search(\" \".join(post_content(q).values())) for kw in topic_patterns.values())\n",
    "    # q['contains-topic'] = any(kw in \" \".join(post_content(q).values()).lower() for kw in topic_patterns.keys())]\n",
    "\n",
    "print(len(questions), \"|\", \n",
    "      len([q for q in questions if q['contains-topic']]), \n",
    "      len([q for q in questions if not q['contains-topic']]))"
   ]
  },
  {
   "cell_type": "markdown",
   "id": "dec1e43d-bd28-4749-af2c-8e61a9d23e0d",
   "metadata": {},
   "source": [
    "Highlight sentences that contain keywords.\n",
    "\n",
    "They are added to **'filtered-sentences'** in the object where they are found, e.g.,:\n",
    "- question post (if in **'Title'** or **'Body'**)\n",
    "- answer post (if in the answer's **'Title'** or **'Body'**)\n",
    "- comment (of either question or answer)\n",
    "- history entry (of either question or answer)\n"
   ]
  },
  {
   "cell_type": "code",
   "execution_count": 10,
   "id": "8c3d1eee-358b-4e90-86be-64a4f02f6b67",
   "metadata": {},
   "outputs": [
    {
     "name": "stdout",
     "output_type": "stream",
     "text": [
      "CPU times: user 45min, sys: 4.89 s, total: 45min 5s\n",
      "Wall time: 9min 10s\n"
     ]
    }
   ],
   "source": [
    "%%time\n",
    "all_patterns = {**cost_patterns, **topic_patterns}\n",
    "\n",
    "def process_post_items(item, fields):\n",
    "    try:\n",
    "        item['filtered-sentences'] = [\n",
    "            {'source': f, **res} for f in fields if item.get(f) and htmlbody_to_text(item[f])\n",
    "                                    for res in find_keywords(split_sentences(htmlbody_to_text(item[f])), all_patterns)\n",
    "        ]\n",
    "    except Exception as e:\n",
    "        for f in fields:\n",
    "            if item.get(f):\n",
    "                print(f, item[f], htmlbody_to_text(item[f]))\n",
    "        raise e\n",
    "\n",
    "def process_post(post):\n",
    "    try:\n",
    "        process_post_items(post, ['Title', 'Body'])\n",
    "        for c in post.get(\"comments\", []):\n",
    "            process_post_items(c, ['Text'])\n",
    "        for h in post.get(\"history\", []):\n",
    "            process_post_items(h, ['Text', 'Comment'])\n",
    "        for a in post.get(\"answers\", []):\n",
    "            process_post(a)\n",
    "    except Exception as e:\n",
    "        print(e)\n",
    "        \n",
    "for q in questions:\n",
    "    process_post(q)"
   ]
  },
  {
   "cell_type": "markdown",
   "id": "9986b9e0-3942-4674-8917-8c76c3bc2ea4",
   "metadata": {},
   "source": [
    "### Save Data"
   ]
  },
  {
   "cell_type": "code",
   "execution_count": 13,
   "id": "2d09f2f6-db95-42ee-b720-344377143629",
   "metadata": {},
   "outputs": [],
   "source": [
    "for q in questions:\n",
    "    filename = f'post-{q[\"Id\"]}.json'\n",
    "    with open(os.path.join(step2questions_dir, filename), 'w') as f:\n",
    "        json.dump(q, f)"
   ]
  },
  {
   "cell_type": "markdown",
   "id": "a57bc98e-1ded-417d-ab73-152524db1c4c",
   "metadata": {},
   "source": [
    "### Explore Questions"
   ]
  },
  {
   "cell_type": "markdown",
   "id": "c58640c9-fd5c-4514-9a4a-4f1979c0a29a",
   "metadata": {},
   "source": [
    "Load questions (if resuming work)"
   ]
  },
  {
   "cell_type": "code",
   "execution_count": 1,
   "id": "8e74413d-8f0c-41af-ac31-e36919f6374d",
   "metadata": {},
   "outputs": [],
   "source": [
    "import os\n",
    "import json\n",
    "step2output_dir = \"../step-2-output/\"\n",
    "step2questions_dir = step2output_dir+\"questions/\"\n",
    "questions = []\n",
    "for fn in os.listdir(step2questions_dir):\n",
    "    if fn.startswith(\"post-\") and fn.endswith(\".json\"):\n",
    "        with open(os.path.join(step2questions_dir, fn), 'r') as f:\n",
    "            questions.append(json.load(f))"
   ]
  },
  {
   "cell_type": "markdown",
   "id": "f597902b-f990-42a1-a534-e14132b0fe93",
   "metadata": {},
   "source": [
    "Display questions"
   ]
  },
  {
   "cell_type": "code",
   "execution_count": 13,
   "id": "85a08aff-87d4-432a-9bc9-c3b0efbad7a8",
   "metadata": {},
   "outputs": [
    {
     "data": {
      "application/vnd.jupyter.widget-view+json": {
       "model_id": "cd4d352d20e249a9b47319b995038357",
       "version_major": 2,
       "version_minor": 0
      },
      "text/plain": [
       "Output()"
      ]
     },
     "metadata": {},
     "output_type": "display_data"
    }
   ],
   "source": [
    "index = 0\n",
    "display_gui()\n",
    "display_question(questions[index])"
   ]
  },
  {
   "cell_type": "markdown",
   "id": "59a08011-c5c7-44a4-8186-916fbf2b40b0",
   "metadata": {},
   "source": [
    "### Distribution of Topic Words"
   ]
  },
  {
   "cell_type": "code",
   "execution_count": 23,
   "id": "02c68959-986c-4d66-a274-dec61da2c342",
   "metadata": {},
   "outputs": [],
   "source": [
    "step2output_dir = \"../step-2-output/\""
   ]
  },
  {
   "cell_type": "code",
   "execution_count": 24,
   "id": "190c51e0-bc51-417e-a1ef-2d6cad26edbc",
   "metadata": {},
   "outputs": [
    {
     "data": {
      "text/html": [
       "<style>\n",
       "        .bk-notebook-logo {\n",
       "            display: block;\n",
       "            width: 20px;\n",
       "            height: 20px;\n",
       "            background-image: url(data:image/png;base64,iVBORw0KGgoAAAANSUhEUgAAABQAAAAUCAYAAACNiR0NAAAABHNCSVQICAgIfAhkiAAAAAlwSFlzAAALEgAACxIB0t1+/AAAABx0RVh0U29mdHdhcmUAQWRvYmUgRmlyZXdvcmtzIENTNui8sowAAAOkSURBVDiNjZRtaJVlGMd/1/08zzln5zjP1LWcU9N0NkN8m2CYjpgQYQXqSs0I84OLIC0hkEKoPtiH3gmKoiJDU7QpLgoLjLIQCpEsNJ1vqUOdO7ppbuec5+V+rj4ctwzd8IIbbi6u+8f1539dt3A78eXC7QizUF7gyV1fD1Yqg4JWz84yffhm0qkFqBogB9rM8tZdtwVsPUhWhGcFJngGeWrPzHm5oaMmkfEg1usvLFyc8jLRqDOMru7AyC8saQr7GG7f5fvDeH7Ej8CM66nIF+8yngt6HWaKh7k49Soy9nXurCi1o3qUbS3zWfrYeQDTB/Qj6kX6Ybhw4B+bOYoLKCC9H3Nu/leUTZ1JdRWkkn2ldcCamzrcf47KKXdAJllSlxAOkRgyHsGC/zRday5Qld9DyoM4/q/rUoy/CXh3jzOu3bHUVZeU+DEn8FInkPBFlu3+nW3Nw0mk6vCDiWg8CeJaxEwuHS3+z5RgY+YBR6V1Z1nxSOfoaPa4LASWxxdNp+VWTk7+4vzaou8v8PN+xo+KY2xsw6une2frhw05CTYOmQvsEhjhWjn0bmXPjpE1+kplmmkP3suftwTubK9Vq22qKmrBhpY4jvd5afdRA3wGjFAgcnTK2s4hY0/GPNIb0nErGMCRxWOOX64Z8RAC4oCXdklmEvcL8o0BfkNK4lUg9HTl+oPlQxdNo3Mg4Nv175e/1LDGzZen30MEjRUtmXSfiTVu1kK8W4txyV6BMKlbgk3lMwYCiusNy9fVfvvwMxv8Ynl6vxoByANLTWplvuj/nF9m2+PDtt1eiHPBr1oIfhCChQMBw6Aw0UulqTKZdfVvfG7VcfIqLG9bcldL/+pdWTLxLUy8Qq38heUIjh4XlzZxzQm19lLFlr8vdQ97rjZVOLf8nclzckbcD4wxXMidpX30sFd37Fv/GtwwhzhxGVAprjbg0gCAEeIgwCZyTV2Z1REEW8O4py0wsjeloKoMr6iCY6dP92H6Vw/oTyICIthibxjm/DfN9lVz8IqtqKYLUXfoKVMVQVVJOElGjrnnUt9T9wbgp8AyYKaGlqingHZU/uG2NTZSVqwHQTWkx9hxjkpWDaCg6Ckj5qebgBVbT3V3NNXMSiWSDdGV3hrtzla7J+duwPOToIg42ChPQOQjspnSlp1V+Gjdged7+8UN5CRAV7a5EdFNwCjEaBR27b3W890TE7g24NAP/mMDXRWrGoFPQI9ls/MWO2dWFAar/xcOIImbbpA3zgAAAABJRU5ErkJggg==);\n",
       "        }\n",
       "    </style>\n",
       "    <div>\n",
       "        <a href=\"https://bokeh.org\" target=\"_blank\" class=\"bk-notebook-logo\"></a>\n",
       "        <span id=\"e0315495-3dde-4fd1-b8bb-0661ed4993d1\">Loading BokehJS ...</span>\n",
       "    </div>\n"
      ]
     },
     "metadata": {},
     "output_type": "display_data"
    },
    {
     "data": {
      "application/javascript": [
       "(function(root) {\n",
       "  function now() {\n",
       "    return new Date();\n",
       "  }\n",
       "\n",
       "  const force = true;\n",
       "\n",
       "  if (typeof root._bokeh_onload_callbacks === \"undefined\" || force === true) {\n",
       "    root._bokeh_onload_callbacks = [];\n",
       "    root._bokeh_is_loading = undefined;\n",
       "  }\n",
       "\n",
       "const JS_MIME_TYPE = 'application/javascript';\n",
       "  const HTML_MIME_TYPE = 'text/html';\n",
       "  const EXEC_MIME_TYPE = 'application/vnd.bokehjs_exec.v0+json';\n",
       "  const CLASS_NAME = 'output_bokeh rendered_html';\n",
       "\n",
       "  /**\n",
       "   * Render data to the DOM node\n",
       "   */\n",
       "  function render(props, node) {\n",
       "    const script = document.createElement(\"script\");\n",
       "    node.appendChild(script);\n",
       "  }\n",
       "\n",
       "  /**\n",
       "   * Handle when an output is cleared or removed\n",
       "   */\n",
       "  function handleClearOutput(event, handle) {\n",
       "    const cell = handle.cell;\n",
       "\n",
       "    const id = cell.output_area._bokeh_element_id;\n",
       "    const server_id = cell.output_area._bokeh_server_id;\n",
       "    // Clean up Bokeh references\n",
       "    if (id != null && id in Bokeh.index) {\n",
       "      Bokeh.index[id].model.document.clear();\n",
       "      delete Bokeh.index[id];\n",
       "    }\n",
       "\n",
       "    if (server_id !== undefined) {\n",
       "      // Clean up Bokeh references\n",
       "      const cmd_clean = \"from bokeh.io.state import curstate; print(curstate().uuid_to_server['\" + server_id + \"'].get_sessions()[0].document.roots[0]._id)\";\n",
       "      cell.notebook.kernel.execute(cmd_clean, {\n",
       "        iopub: {\n",
       "          output: function(msg) {\n",
       "            const id = msg.content.text.trim();\n",
       "            if (id in Bokeh.index) {\n",
       "              Bokeh.index[id].model.document.clear();\n",
       "              delete Bokeh.index[id];\n",
       "            }\n",
       "          }\n",
       "        }\n",
       "      });\n",
       "      // Destroy server and session\n",
       "      const cmd_destroy = \"import bokeh.io.notebook as ion; ion.destroy_server('\" + server_id + \"')\";\n",
       "      cell.notebook.kernel.execute(cmd_destroy);\n",
       "    }\n",
       "  }\n",
       "\n",
       "  /**\n",
       "   * Handle when a new output is added\n",
       "   */\n",
       "  function handleAddOutput(event, handle) {\n",
       "    const output_area = handle.output_area;\n",
       "    const output = handle.output;\n",
       "\n",
       "    // limit handleAddOutput to display_data with EXEC_MIME_TYPE content only\n",
       "    if ((output.output_type != \"display_data\") || (!Object.prototype.hasOwnProperty.call(output.data, EXEC_MIME_TYPE))) {\n",
       "      return\n",
       "    }\n",
       "\n",
       "    const toinsert = output_area.element.find(\".\" + CLASS_NAME.split(' ')[0]);\n",
       "\n",
       "    if (output.metadata[EXEC_MIME_TYPE][\"id\"] !== undefined) {\n",
       "      toinsert[toinsert.length - 1].firstChild.textContent = output.data[JS_MIME_TYPE];\n",
       "      // store reference to embed id on output_area\n",
       "      output_area._bokeh_element_id = output.metadata[EXEC_MIME_TYPE][\"id\"];\n",
       "    }\n",
       "    if (output.metadata[EXEC_MIME_TYPE][\"server_id\"] !== undefined) {\n",
       "      const bk_div = document.createElement(\"div\");\n",
       "      bk_div.innerHTML = output.data[HTML_MIME_TYPE];\n",
       "      const script_attrs = bk_div.children[0].attributes;\n",
       "      for (let i = 0; i < script_attrs.length; i++) {\n",
       "        toinsert[toinsert.length - 1].firstChild.setAttribute(script_attrs[i].name, script_attrs[i].value);\n",
       "        toinsert[toinsert.length - 1].firstChild.textContent = bk_div.children[0].textContent\n",
       "      }\n",
       "      // store reference to server id on output_area\n",
       "      output_area._bokeh_server_id = output.metadata[EXEC_MIME_TYPE][\"server_id\"];\n",
       "    }\n",
       "  }\n",
       "\n",
       "  function register_renderer(events, OutputArea) {\n",
       "\n",
       "    function append_mime(data, metadata, element) {\n",
       "      // create a DOM node to render to\n",
       "      const toinsert = this.create_output_subarea(\n",
       "        metadata,\n",
       "        CLASS_NAME,\n",
       "        EXEC_MIME_TYPE\n",
       "      );\n",
       "      this.keyboard_manager.register_events(toinsert);\n",
       "      // Render to node\n",
       "      const props = {data: data, metadata: metadata[EXEC_MIME_TYPE]};\n",
       "      render(props, toinsert[toinsert.length - 1]);\n",
       "      element.append(toinsert);\n",
       "      return toinsert\n",
       "    }\n",
       "\n",
       "    /* Handle when an output is cleared or removed */\n",
       "    events.on('clear_output.CodeCell', handleClearOutput);\n",
       "    events.on('delete.Cell', handleClearOutput);\n",
       "\n",
       "    /* Handle when a new output is added */\n",
       "    events.on('output_added.OutputArea', handleAddOutput);\n",
       "\n",
       "    /**\n",
       "     * Register the mime type and append_mime function with output_area\n",
       "     */\n",
       "    OutputArea.prototype.register_mime_type(EXEC_MIME_TYPE, append_mime, {\n",
       "      /* Is output safe? */\n",
       "      safe: true,\n",
       "      /* Index of renderer in `output_area.display_order` */\n",
       "      index: 0\n",
       "    });\n",
       "  }\n",
       "\n",
       "  // register the mime type if in Jupyter Notebook environment and previously unregistered\n",
       "  if (root.Jupyter !== undefined) {\n",
       "    const events = require('base/js/events');\n",
       "    const OutputArea = require('notebook/js/outputarea').OutputArea;\n",
       "\n",
       "    if (OutputArea.prototype.mime_types().indexOf(EXEC_MIME_TYPE) == -1) {\n",
       "      register_renderer(events, OutputArea);\n",
       "    }\n",
       "  }\n",
       "  if (typeof (root._bokeh_timeout) === \"undefined\" || force === true) {\n",
       "    root._bokeh_timeout = Date.now() + 5000;\n",
       "    root._bokeh_failed_load = false;\n",
       "  }\n",
       "\n",
       "  const NB_LOAD_WARNING = {'data': {'text/html':\n",
       "     \"<div style='background-color: #fdd'>\\n\"+\n",
       "     \"<p>\\n\"+\n",
       "     \"BokehJS does not appear to have successfully loaded. If loading BokehJS from CDN, this \\n\"+\n",
       "     \"may be due to a slow or bad network connection. Possible fixes:\\n\"+\n",
       "     \"</p>\\n\"+\n",
       "     \"<ul>\\n\"+\n",
       "     \"<li>re-rerun `output_notebook()` to attempt to load from CDN again, or</li>\\n\"+\n",
       "     \"<li>use INLINE resources instead, as so:</li>\\n\"+\n",
       "     \"</ul>\\n\"+\n",
       "     \"<code>\\n\"+\n",
       "     \"from bokeh.resources import INLINE\\n\"+\n",
       "     \"output_notebook(resources=INLINE)\\n\"+\n",
       "     \"</code>\\n\"+\n",
       "     \"</div>\"}};\n",
       "\n",
       "  function display_loaded() {\n",
       "    const el = document.getElementById(\"e0315495-3dde-4fd1-b8bb-0661ed4993d1\");\n",
       "    if (el != null) {\n",
       "      el.textContent = \"BokehJS is loading...\";\n",
       "    }\n",
       "    if (root.Bokeh !== undefined) {\n",
       "      if (el != null) {\n",
       "        el.textContent = \"BokehJS \" + root.Bokeh.version + \" successfully loaded.\";\n",
       "      }\n",
       "    } else if (Date.now() < root._bokeh_timeout) {\n",
       "      setTimeout(display_loaded, 100)\n",
       "    }\n",
       "  }\n",
       "\n",
       "  function run_callbacks() {\n",
       "    try {\n",
       "      root._bokeh_onload_callbacks.forEach(function(callback) {\n",
       "        if (callback != null)\n",
       "          callback();\n",
       "      });\n",
       "    } finally {\n",
       "      delete root._bokeh_onload_callbacks\n",
       "    }\n",
       "    console.debug(\"Bokeh: all callbacks have finished\");\n",
       "  }\n",
       "\n",
       "  function load_libs(css_urls, js_urls, callback) {\n",
       "    if (css_urls == null) css_urls = [];\n",
       "    if (js_urls == null) js_urls = [];\n",
       "\n",
       "    root._bokeh_onload_callbacks.push(callback);\n",
       "    if (root._bokeh_is_loading > 0) {\n",
       "      console.debug(\"Bokeh: BokehJS is being loaded, scheduling callback at\", now());\n",
       "      return null;\n",
       "    }\n",
       "    if (js_urls == null || js_urls.length === 0) {\n",
       "      run_callbacks();\n",
       "      return null;\n",
       "    }\n",
       "    console.debug(\"Bokeh: BokehJS not loaded, scheduling load and callback at\", now());\n",
       "    root._bokeh_is_loading = css_urls.length + js_urls.length;\n",
       "\n",
       "    function on_load() {\n",
       "      root._bokeh_is_loading--;\n",
       "      if (root._bokeh_is_loading === 0) {\n",
       "        console.debug(\"Bokeh: all BokehJS libraries/stylesheets loaded\");\n",
       "        run_callbacks()\n",
       "      }\n",
       "    }\n",
       "\n",
       "    function on_error(url) {\n",
       "      console.error(\"failed to load \" + url);\n",
       "    }\n",
       "\n",
       "    for (let i = 0; i < css_urls.length; i++) {\n",
       "      const url = css_urls[i];\n",
       "      const element = document.createElement(\"link\");\n",
       "      element.onload = on_load;\n",
       "      element.onerror = on_error.bind(null, url);\n",
       "      element.rel = \"stylesheet\";\n",
       "      element.type = \"text/css\";\n",
       "      element.href = url;\n",
       "      console.debug(\"Bokeh: injecting link tag for BokehJS stylesheet: \", url);\n",
       "      document.body.appendChild(element);\n",
       "    }\n",
       "\n",
       "    for (let i = 0; i < js_urls.length; i++) {\n",
       "      const url = js_urls[i];\n",
       "      const element = document.createElement('script');\n",
       "      element.onload = on_load;\n",
       "      element.onerror = on_error.bind(null, url);\n",
       "      element.async = false;\n",
       "      element.src = url;\n",
       "      console.debug(\"Bokeh: injecting script tag for BokehJS library: \", url);\n",
       "      document.head.appendChild(element);\n",
       "    }\n",
       "  };\n",
       "\n",
       "  function inject_raw_css(css) {\n",
       "    const element = document.createElement(\"style\");\n",
       "    element.appendChild(document.createTextNode(css));\n",
       "    document.body.appendChild(element);\n",
       "  }\n",
       "\n",
       "  const js_urls = [\"https://cdn.bokeh.org/bokeh/release/bokeh-3.2.2.min.js\", \"https://cdn.bokeh.org/bokeh/release/bokeh-gl-3.2.2.min.js\", \"https://cdn.bokeh.org/bokeh/release/bokeh-widgets-3.2.2.min.js\", \"https://cdn.bokeh.org/bokeh/release/bokeh-tables-3.2.2.min.js\", \"https://cdn.bokeh.org/bokeh/release/bokeh-mathjax-3.2.2.min.js\"];\n",
       "  const css_urls = [];\n",
       "\n",
       "  const inline_js = [    function(Bokeh) {\n",
       "      Bokeh.set_log_level(\"info\");\n",
       "    },\n",
       "function(Bokeh) {\n",
       "    }\n",
       "  ];\n",
       "\n",
       "  function run_inline_js() {\n",
       "    if (root.Bokeh !== undefined || force === true) {\n",
       "          for (let i = 0; i < inline_js.length; i++) {\n",
       "      inline_js[i].call(root, root.Bokeh);\n",
       "    }\n",
       "if (force === true) {\n",
       "        display_loaded();\n",
       "      }} else if (Date.now() < root._bokeh_timeout) {\n",
       "      setTimeout(run_inline_js, 100);\n",
       "    } else if (!root._bokeh_failed_load) {\n",
       "      console.log(\"Bokeh: BokehJS failed to load within specified timeout.\");\n",
       "      root._bokeh_failed_load = true;\n",
       "    } else if (force !== true) {\n",
       "      const cell = $(document.getElementById(\"e0315495-3dde-4fd1-b8bb-0661ed4993d1\")).parents('.cell').data().cell;\n",
       "      cell.output_area.append_execute_result(NB_LOAD_WARNING)\n",
       "    }\n",
       "  }\n",
       "\n",
       "  if (root._bokeh_is_loading === 0) {\n",
       "    console.debug(\"Bokeh: BokehJS loaded, going straight to plotting\");\n",
       "    run_inline_js();\n",
       "  } else {\n",
       "    load_libs(css_urls, js_urls, function() {\n",
       "      console.debug(\"Bokeh: BokehJS plotting callback run at\", now());\n",
       "      run_inline_js();\n",
       "    });\n",
       "  }\n",
       "}(window));"
      ],
      "application/vnd.bokehjs_load.v0+json": "(function(root) {\n  function now() {\n    return new Date();\n  }\n\n  const force = true;\n\n  if (typeof root._bokeh_onload_callbacks === \"undefined\" || force === true) {\n    root._bokeh_onload_callbacks = [];\n    root._bokeh_is_loading = undefined;\n  }\n\n\n  if (typeof (root._bokeh_timeout) === \"undefined\" || force === true) {\n    root._bokeh_timeout = Date.now() + 5000;\n    root._bokeh_failed_load = false;\n  }\n\n  const NB_LOAD_WARNING = {'data': {'text/html':\n     \"<div style='background-color: #fdd'>\\n\"+\n     \"<p>\\n\"+\n     \"BokehJS does not appear to have successfully loaded. If loading BokehJS from CDN, this \\n\"+\n     \"may be due to a slow or bad network connection. Possible fixes:\\n\"+\n     \"</p>\\n\"+\n     \"<ul>\\n\"+\n     \"<li>re-rerun `output_notebook()` to attempt to load from CDN again, or</li>\\n\"+\n     \"<li>use INLINE resources instead, as so:</li>\\n\"+\n     \"</ul>\\n\"+\n     \"<code>\\n\"+\n     \"from bokeh.resources import INLINE\\n\"+\n     \"output_notebook(resources=INLINE)\\n\"+\n     \"</code>\\n\"+\n     \"</div>\"}};\n\n  function display_loaded() {\n    const el = document.getElementById(\"e0315495-3dde-4fd1-b8bb-0661ed4993d1\");\n    if (el != null) {\n      el.textContent = \"BokehJS is loading...\";\n    }\n    if (root.Bokeh !== undefined) {\n      if (el != null) {\n        el.textContent = \"BokehJS \" + root.Bokeh.version + \" successfully loaded.\";\n      }\n    } else if (Date.now() < root._bokeh_timeout) {\n      setTimeout(display_loaded, 100)\n    }\n  }\n\n  function run_callbacks() {\n    try {\n      root._bokeh_onload_callbacks.forEach(function(callback) {\n        if (callback != null)\n          callback();\n      });\n    } finally {\n      delete root._bokeh_onload_callbacks\n    }\n    console.debug(\"Bokeh: all callbacks have finished\");\n  }\n\n  function load_libs(css_urls, js_urls, callback) {\n    if (css_urls == null) css_urls = [];\n    if (js_urls == null) js_urls = [];\n\n    root._bokeh_onload_callbacks.push(callback);\n    if (root._bokeh_is_loading > 0) {\n      console.debug(\"Bokeh: BokehJS is being loaded, scheduling callback at\", now());\n      return null;\n    }\n    if (js_urls == null || js_urls.length === 0) {\n      run_callbacks();\n      return null;\n    }\n    console.debug(\"Bokeh: BokehJS not loaded, scheduling load and callback at\", now());\n    root._bokeh_is_loading = css_urls.length + js_urls.length;\n\n    function on_load() {\n      root._bokeh_is_loading--;\n      if (root._bokeh_is_loading === 0) {\n        console.debug(\"Bokeh: all BokehJS libraries/stylesheets loaded\");\n        run_callbacks()\n      }\n    }\n\n    function on_error(url) {\n      console.error(\"failed to load \" + url);\n    }\n\n    for (let i = 0; i < css_urls.length; i++) {\n      const url = css_urls[i];\n      const element = document.createElement(\"link\");\n      element.onload = on_load;\n      element.onerror = on_error.bind(null, url);\n      element.rel = \"stylesheet\";\n      element.type = \"text/css\";\n      element.href = url;\n      console.debug(\"Bokeh: injecting link tag for BokehJS stylesheet: \", url);\n      document.body.appendChild(element);\n    }\n\n    for (let i = 0; i < js_urls.length; i++) {\n      const url = js_urls[i];\n      const element = document.createElement('script');\n      element.onload = on_load;\n      element.onerror = on_error.bind(null, url);\n      element.async = false;\n      element.src = url;\n      console.debug(\"Bokeh: injecting script tag for BokehJS library: \", url);\n      document.head.appendChild(element);\n    }\n  };\n\n  function inject_raw_css(css) {\n    const element = document.createElement(\"style\");\n    element.appendChild(document.createTextNode(css));\n    document.body.appendChild(element);\n  }\n\n  const js_urls = [\"https://cdn.bokeh.org/bokeh/release/bokeh-3.2.2.min.js\", \"https://cdn.bokeh.org/bokeh/release/bokeh-gl-3.2.2.min.js\", \"https://cdn.bokeh.org/bokeh/release/bokeh-widgets-3.2.2.min.js\", \"https://cdn.bokeh.org/bokeh/release/bokeh-tables-3.2.2.min.js\", \"https://cdn.bokeh.org/bokeh/release/bokeh-mathjax-3.2.2.min.js\"];\n  const css_urls = [];\n\n  const inline_js = [    function(Bokeh) {\n      Bokeh.set_log_level(\"info\");\n    },\nfunction(Bokeh) {\n    }\n  ];\n\n  function run_inline_js() {\n    if (root.Bokeh !== undefined || force === true) {\n          for (let i = 0; i < inline_js.length; i++) {\n      inline_js[i].call(root, root.Bokeh);\n    }\nif (force === true) {\n        display_loaded();\n      }} else if (Date.now() < root._bokeh_timeout) {\n      setTimeout(run_inline_js, 100);\n    } else if (!root._bokeh_failed_load) {\n      console.log(\"Bokeh: BokehJS failed to load within specified timeout.\");\n      root._bokeh_failed_load = true;\n    } else if (force !== true) {\n      const cell = $(document.getElementById(\"e0315495-3dde-4fd1-b8bb-0661ed4993d1\")).parents('.cell').data().cell;\n      cell.output_area.append_execute_result(NB_LOAD_WARNING)\n    }\n  }\n\n  if (root._bokeh_is_loading === 0) {\n    console.debug(\"Bokeh: BokehJS loaded, going straight to plotting\");\n    run_inline_js();\n  } else {\n    load_libs(css_urls, js_urls, function() {\n      console.debug(\"Bokeh: BokehJS plotting callback run at\", now());\n      run_inline_js();\n    });\n  }\n}(window));"
     },
     "metadata": {},
     "output_type": "display_data"
    }
   ],
   "source": [
    "import math\n",
    "from bokeh.io import output_notebook\n",
    "from bokeh.models import ColumnDataSource\n",
    "from bokeh.plotting import figure, show\n",
    "from bokeh.transform import dodge\n",
    "output_notebook()"
   ]
  },
  {
   "cell_type": "code",
   "execution_count": 35,
   "id": "67c165f5-a498-4490-a0e5-cd8a1783e60a",
   "metadata": {},
   "outputs": [
    {
     "data": {
      "text/html": [
       "\n",
       "  <div id=\"f39095a2-64fd-4c24-9b4f-ceee8fcdbd4d\" data-root-id=\"p1043\" style=\"display: contents;\"></div>\n"
      ]
     },
     "metadata": {},
     "output_type": "display_data"
    },
    {
     "data": {
      "application/javascript": [
       "(function(root) {\n",
       "  function embed_document(root) {\n",
       "  const docs_json = {\"16f3bc68-bc0b-4684-897a-704186b924b9\":{\"version\":\"3.2.2\",\"title\":\"Bokeh Application\",\"roots\":[{\"type\":\"object\",\"name\":\"Figure\",\"id\":\"p1043\",\"attributes\":{\"height\":350,\"x_range\":{\"type\":\"object\",\"name\":\"FactorRange\",\"id\":\"p1052\",\"attributes\":{\"factors\":[\"provider\",\"change\",\"test\",\"instance\",\"policy\",\"storage\",\"cluster\",\"feature\",\"domain\",\"nat\",\"billing mode\",\"networking\",\"cpu\",\"ram\",\"vpn\",\"area\"],\"range_padding\":0.1}},\"y_range\":{\"type\":\"object\",\"name\":\"Range1d\",\"id\":\"p1053\",\"attributes\":{\"end\":300}},\"x_scale\":{\"type\":\"object\",\"name\":\"CategoricalScale\",\"id\":\"p1054\"},\"y_scale\":{\"type\":\"object\",\"name\":\"LinearScale\",\"id\":\"p1055\"},\"title\":{\"type\":\"object\",\"name\":\"Title\",\"id\":\"p1050\"},\"renderers\":[{\"type\":\"object\",\"name\":\"GlyphRenderer\",\"id\":\"p1073\",\"attributes\":{\"data_source\":{\"type\":\"object\",\"name\":\"ColumnDataSource\",\"id\":\"p1040\",\"attributes\":{\"selected\":{\"type\":\"object\",\"name\":\"Selection\",\"id\":\"p1041\",\"attributes\":{\"indices\":[],\"line_indices\":[]}},\"selection_policy\":{\"type\":\"object\",\"name\":\"UnionRenderers\",\"id\":\"p1042\"},\"data\":{\"type\":\"map\",\"entries\":[[\"kws\",[\"provider\",\"change\",\"test\",\"instance\",\"policy\",\"storage\",\"cluster\",\"feature\",\"domain\",\"nat\",\"billing mode\",\"networking\",\"cpu\",\"ram\",\"vpn\",\"area\"]],[\"#questions\",[301,200,154,138,82,62,46,41,33,19,18,17,14,6,5,1]]]}}},\"view\":{\"type\":\"object\",\"name\":\"CDSView\",\"id\":\"p1074\",\"attributes\":{\"filter\":{\"type\":\"object\",\"name\":\"AllIndices\",\"id\":\"p1075\"}}},\"glyph\":{\"type\":\"object\",\"name\":\"VBar\",\"id\":\"p1070\",\"attributes\":{\"x\":{\"type\":\"field\",\"field\":\"kws\",\"transform\":{\"type\":\"object\",\"name\":\"Dodge\",\"id\":\"p1066\",\"attributes\":{\"range\":{\"id\":\"p1052\"}}}},\"width\":{\"type\":\"value\",\"value\":0.2},\"top\":{\"type\":\"field\",\"field\":\"#questions\"},\"line_color\":{\"type\":\"value\",\"value\":\"#abc3c9\"},\"fill_color\":{\"type\":\"value\",\"value\":\"#abc3c9\"},\"hatch_color\":{\"type\":\"value\",\"value\":\"#abc3c9\"}}},\"nonselection_glyph\":{\"type\":\"object\",\"name\":\"VBar\",\"id\":\"p1071\",\"attributes\":{\"x\":{\"type\":\"field\",\"field\":\"kws\",\"transform\":{\"id\":\"p1066\"}},\"width\":{\"type\":\"value\",\"value\":0.2},\"top\":{\"type\":\"field\",\"field\":\"#questions\"},\"line_color\":{\"type\":\"value\",\"value\":\"#abc3c9\"},\"line_alpha\":{\"type\":\"value\",\"value\":0.1},\"fill_color\":{\"type\":\"value\",\"value\":\"#abc3c9\"},\"fill_alpha\":{\"type\":\"value\",\"value\":0.1},\"hatch_color\":{\"type\":\"value\",\"value\":\"#abc3c9\"},\"hatch_alpha\":{\"type\":\"value\",\"value\":0.1}}},\"muted_glyph\":{\"type\":\"object\",\"name\":\"VBar\",\"id\":\"p1072\",\"attributes\":{\"x\":{\"type\":\"field\",\"field\":\"kws\",\"transform\":{\"id\":\"p1066\"}},\"width\":{\"type\":\"value\",\"value\":0.2},\"top\":{\"type\":\"field\",\"field\":\"#questions\"},\"line_color\":{\"type\":\"value\",\"value\":\"#abc3c9\"},\"line_alpha\":{\"type\":\"value\",\"value\":0.2},\"fill_color\":{\"type\":\"value\",\"value\":\"#abc3c9\"},\"fill_alpha\":{\"type\":\"value\",\"value\":0.2},\"hatch_color\":{\"type\":\"value\",\"value\":\"#abc3c9\"},\"hatch_alpha\":{\"type\":\"value\",\"value\":0.2}}}}}],\"toolbar\":{\"type\":\"object\",\"name\":\"Toolbar\",\"id\":\"p1051\"},\"toolbar_location\":null,\"left\":[{\"type\":\"object\",\"name\":\"LinearAxis\",\"id\":\"p1061\",\"attributes\":{\"ticker\":{\"type\":\"object\",\"name\":\"BasicTicker\",\"id\":\"p1062\",\"attributes\":{\"mantissas\":[1,2,5]}},\"formatter\":{\"type\":\"object\",\"name\":\"BasicTickFormatter\",\"id\":\"p1063\"},\"major_label_policy\":{\"type\":\"object\",\"name\":\"AllLabels\",\"id\":\"p1064\"},\"major_label_text_font_size\":\"14px\"}}],\"below\":[{\"type\":\"object\",\"name\":\"CategoricalAxis\",\"id\":\"p1056\",\"attributes\":{\"ticker\":{\"type\":\"object\",\"name\":\"CategoricalTicker\",\"id\":\"p1057\"},\"formatter\":{\"type\":\"object\",\"name\":\"CategoricalTickFormatter\",\"id\":\"p1058\"},\"major_label_orientation\":0.7853981633974483,\"major_label_policy\":{\"type\":\"object\",\"name\":\"AllLabels\",\"id\":\"p1059\"},\"major_label_text_font_size\":\"14px\"}}],\"center\":[{\"type\":\"object\",\"name\":\"Grid\",\"id\":\"p1060\",\"attributes\":{\"axis\":{\"id\":\"p1056\"},\"grid_line_color\":null}},{\"type\":\"object\",\"name\":\"Grid\",\"id\":\"p1065\",\"attributes\":{\"dimension\":1,\"axis\":{\"id\":\"p1061\"}}},{\"type\":\"object\",\"name\":\"Legend\",\"id\":\"p1076\",\"attributes\":{\"items\":[{\"type\":\"object\",\"name\":\"LegendItem\",\"id\":\"p1077\",\"attributes\":{\"label\":{\"type\":\"value\",\"value\":\"number of distinct cost-related questions\"},\"renderers\":[{\"id\":\"p1073\"}]}}]}}]}}]}};\n",
       "  const render_items = [{\"docid\":\"16f3bc68-bc0b-4684-897a-704186b924b9\",\"roots\":{\"p1043\":\"f39095a2-64fd-4c24-9b4f-ceee8fcdbd4d\"},\"root_ids\":[\"p1043\"]}];\n",
       "  root.Bokeh.embed.embed_items_notebook(docs_json, render_items);\n",
       "  }\n",
       "  if (root.Bokeh !== undefined) {\n",
       "    embed_document(root);\n",
       "  } else {\n",
       "    let attempts = 0;\n",
       "    const timer = setInterval(function(root) {\n",
       "      if (root.Bokeh !== undefined) {\n",
       "        clearInterval(timer);\n",
       "        embed_document(root);\n",
       "      } else {\n",
       "        attempts++;\n",
       "        if (attempts > 100) {\n",
       "          clearInterval(timer);\n",
       "          console.log(\"Bokeh: ERROR: Unable to run BokehJS code because BokehJS library is missing\");\n",
       "        }\n",
       "      }\n",
       "    }, 10, root)\n",
       "  }\n",
       "})(window);"
      ],
      "application/vnd.bokehjs_exec.v0+json": ""
     },
     "metadata": {
      "application/vnd.bokehjs_exec.v0+json": {
       "id": "p1043"
      }
     },
     "output_type": "display_data"
    }
   ],
   "source": [
    "p_kws = list(topic_patterns.keys())\n",
    "p_questions = [len([q['Id'] for q in questions if kw.search(\" \".join(post_content(q).values()))]) for kw in topic_patterns.values()]\n",
    "p_questions, p_kws = zip(*sorted(zip(p_questions, p_kws),reverse=True))\n",
    "\n",
    "chart_source = ColumnDataSource(data={'kws':p_kws, '#questions':p_questions})\n",
    "\n",
    "p = figure(x_range=p_kws, y_range=(0, 300), #title=\"Data distribution\",\n",
    "           height=350, width=600, toolbar_location=None, tools='')\n",
    "\n",
    "p.vbar(x=dodge('kws',  0,   range=p.x_range), top='#questions', source=chart_source,\n",
    "       width=0.2, color=\"#abc3c9\", legend_label=\"number of distinct cost-related questions\")\n",
    "\n",
    "p.x_range.range_padding = 0.1\n",
    "p.xgrid.grid_line_color = None\n",
    "p.xaxis.major_label_orientation = math.pi/4\n",
    "p.xaxis.major_label_text_font_size = '14px'\n",
    "p.yaxis.major_label_text_font_size = '14px'\n",
    "p.legend.location = \"top_right\"\n",
    "p.legend.orientation = \"vertical\"\n",
    "\n",
    "show(p)\n",
    "export_pdf(p, step2output_dir+'so-questions-concepts')"
   ]
  }
 ],
 "metadata": {
  "kernelspec": {
   "display_name": "Python 3 (ipykernel)",
   "language": "python",
   "name": "python3"
  },
  "language_info": {
   "codemirror_mode": {
    "name": "ipython",
    "version": 3
   },
   "file_extension": ".py",
   "mimetype": "text/x-python",
   "name": "python",
   "nbconvert_exporter": "python",
   "pygments_lexer": "ipython3",
   "version": "3.10.0"
  }
 },
 "nbformat": 4,
 "nbformat_minor": 5
}
