{
  "nbformat": 4,
  "nbformat_minor": 0,
  "metadata": {
    "colab": {
      "name": "[homework]embeddings_EZ2_14.10.ipynb",
      "provenance": [],
      "collapsed_sections": [],
      "machine_shape": "hm"
    },
    "kernelspec": {
      "display_name": "Python 3",
      "language": "python",
      "name": "python3"
    },
    "language_info": {
      "codemirror_mode": {
        "name": "ipython",
        "version": 3
      },
      "file_extension": ".py",
      "mimetype": "text/x-python",
      "name": "python",
      "nbconvert_exporter": "python",
      "pygments_lexer": "ipython3",
      "version": "3.8.5"
    },
    "widgets": {
      "application/vnd.jupyter.widget-state+json": {
        "d96d36cac1ea434b9e0fdd1bf71203b6": {
          "model_module": "@jupyter-widgets/controls",
          "model_name": "HBoxModel",
          "model_module_version": "1.5.0",
          "state": {
            "_view_name": "HBoxView",
            "_dom_classes": [],
            "_model_name": "HBoxModel",
            "_view_module": "@jupyter-widgets/controls",
            "_model_module_version": "1.5.0",
            "_view_count": null,
            "_view_module_version": "1.5.0",
            "box_style": "",
            "layout": "IPY_MODEL_b0e9dbe71add4a819f7ba2871529f073",
            "_model_module": "@jupyter-widgets/controls",
            "children": [
              "IPY_MODEL_9a4ed4b3d0ea4ea9b8637578bcdb19c1",
              "IPY_MODEL_cc20ddf44a88431890c4c2703c533ac9",
              "IPY_MODEL_0fbf04c4b84a477a85571ca487479612"
            ]
          }
        },
        "b0e9dbe71add4a819f7ba2871529f073": {
          "model_module": "@jupyter-widgets/base",
          "model_name": "LayoutModel",
          "model_module_version": "1.2.0",
          "state": {
            "_view_name": "LayoutView",
            "grid_template_rows": null,
            "right": null,
            "justify_content": null,
            "_view_module": "@jupyter-widgets/base",
            "overflow": null,
            "_model_module_version": "1.2.0",
            "_view_count": null,
            "flex_flow": null,
            "width": null,
            "min_width": null,
            "border": null,
            "align_items": null,
            "bottom": null,
            "_model_module": "@jupyter-widgets/base",
            "top": null,
            "grid_column": null,
            "overflow_y": null,
            "overflow_x": null,
            "grid_auto_flow": null,
            "grid_area": null,
            "grid_template_columns": null,
            "flex": null,
            "_model_name": "LayoutModel",
            "justify_items": null,
            "grid_row": null,
            "max_height": null,
            "align_content": null,
            "visibility": null,
            "align_self": null,
            "height": null,
            "min_height": null,
            "padding": null,
            "grid_auto_rows": null,
            "grid_gap": null,
            "max_width": null,
            "order": null,
            "_view_module_version": "1.2.0",
            "grid_template_areas": null,
            "object_position": null,
            "object_fit": null,
            "grid_auto_columns": null,
            "margin": null,
            "display": null,
            "left": null
          }
        },
        "9a4ed4b3d0ea4ea9b8637578bcdb19c1": {
          "model_module": "@jupyter-widgets/controls",
          "model_name": "HTMLModel",
          "model_module_version": "1.5.0",
          "state": {
            "_view_name": "HTMLView",
            "style": "IPY_MODEL_beca2f2d0a7d48118059fad9b69ca6b2",
            "_dom_classes": [],
            "description": "",
            "_model_name": "HTMLModel",
            "placeholder": "​",
            "_view_module": "@jupyter-widgets/controls",
            "_model_module_version": "1.5.0",
            "value": "Epoch 1. Train Loss: 0.4882: 100%",
            "_view_count": null,
            "_view_module_version": "1.5.0",
            "description_tooltip": null,
            "_model_module": "@jupyter-widgets/controls",
            "layout": "IPY_MODEL_f0710381c6544f88b27577edb91df409"
          }
        },
        "cc20ddf44a88431890c4c2703c533ac9": {
          "model_module": "@jupyter-widgets/controls",
          "model_name": "FloatProgressModel",
          "model_module_version": "1.5.0",
          "state": {
            "_view_name": "ProgressView",
            "style": "IPY_MODEL_8f81ce09b8e243929d5179d69562d799",
            "_dom_classes": [],
            "description": "",
            "_model_name": "FloatProgressModel",
            "bar_style": "success",
            "max": 1000,
            "_view_module": "@jupyter-widgets/controls",
            "_model_module_version": "1.5.0",
            "value": 1000,
            "_view_count": null,
            "_view_module_version": "1.5.0",
            "orientation": "horizontal",
            "min": 0,
            "description_tooltip": null,
            "_model_module": "@jupyter-widgets/controls",
            "layout": "IPY_MODEL_519a75647290464fbac0354594c40691"
          }
        },
        "0fbf04c4b84a477a85571ca487479612": {
          "model_module": "@jupyter-widgets/controls",
          "model_name": "HTMLModel",
          "model_module_version": "1.5.0",
          "state": {
            "_view_name": "HTMLView",
            "style": "IPY_MODEL_c7b1fead93f04569ae82804d9af92e57",
            "_dom_classes": [],
            "description": "",
            "_model_name": "HTMLModel",
            "placeholder": "​",
            "_view_module": "@jupyter-widgets/controls",
            "_model_module_version": "1.5.0",
            "value": " 1000/1000 [03:17&lt;00:00,  5.17it/s]",
            "_view_count": null,
            "_view_module_version": "1.5.0",
            "description_tooltip": null,
            "_model_module": "@jupyter-widgets/controls",
            "layout": "IPY_MODEL_375e7011a7d44fea9da932dc53e58746"
          }
        },
        "beca2f2d0a7d48118059fad9b69ca6b2": {
          "model_module": "@jupyter-widgets/controls",
          "model_name": "DescriptionStyleModel",
          "model_module_version": "1.5.0",
          "state": {
            "_view_name": "StyleView",
            "_model_name": "DescriptionStyleModel",
            "description_width": "",
            "_view_module": "@jupyter-widgets/base",
            "_model_module_version": "1.5.0",
            "_view_count": null,
            "_view_module_version": "1.2.0",
            "_model_module": "@jupyter-widgets/controls"
          }
        },
        "f0710381c6544f88b27577edb91df409": {
          "model_module": "@jupyter-widgets/base",
          "model_name": "LayoutModel",
          "model_module_version": "1.2.0",
          "state": {
            "_view_name": "LayoutView",
            "grid_template_rows": null,
            "right": null,
            "justify_content": null,
            "_view_module": "@jupyter-widgets/base",
            "overflow": null,
            "_model_module_version": "1.2.0",
            "_view_count": null,
            "flex_flow": null,
            "width": null,
            "min_width": null,
            "border": null,
            "align_items": null,
            "bottom": null,
            "_model_module": "@jupyter-widgets/base",
            "top": null,
            "grid_column": null,
            "overflow_y": null,
            "overflow_x": null,
            "grid_auto_flow": null,
            "grid_area": null,
            "grid_template_columns": null,
            "flex": null,
            "_model_name": "LayoutModel",
            "justify_items": null,
            "grid_row": null,
            "max_height": null,
            "align_content": null,
            "visibility": null,
            "align_self": null,
            "height": null,
            "min_height": null,
            "padding": null,
            "grid_auto_rows": null,
            "grid_gap": null,
            "max_width": null,
            "order": null,
            "_view_module_version": "1.2.0",
            "grid_template_areas": null,
            "object_position": null,
            "object_fit": null,
            "grid_auto_columns": null,
            "margin": null,
            "display": null,
            "left": null
          }
        },
        "8f81ce09b8e243929d5179d69562d799": {
          "model_module": "@jupyter-widgets/controls",
          "model_name": "ProgressStyleModel",
          "model_module_version": "1.5.0",
          "state": {
            "_view_name": "StyleView",
            "_model_name": "ProgressStyleModel",
            "description_width": "",
            "_view_module": "@jupyter-widgets/base",
            "_model_module_version": "1.5.0",
            "_view_count": null,
            "_view_module_version": "1.2.0",
            "bar_color": null,
            "_model_module": "@jupyter-widgets/controls"
          }
        },
        "519a75647290464fbac0354594c40691": {
          "model_module": "@jupyter-widgets/base",
          "model_name": "LayoutModel",
          "model_module_version": "1.2.0",
          "state": {
            "_view_name": "LayoutView",
            "grid_template_rows": null,
            "right": null,
            "justify_content": null,
            "_view_module": "@jupyter-widgets/base",
            "overflow": null,
            "_model_module_version": "1.2.0",
            "_view_count": null,
            "flex_flow": null,
            "width": null,
            "min_width": null,
            "border": null,
            "align_items": null,
            "bottom": null,
            "_model_module": "@jupyter-widgets/base",
            "top": null,
            "grid_column": null,
            "overflow_y": null,
            "overflow_x": null,
            "grid_auto_flow": null,
            "grid_area": null,
            "grid_template_columns": null,
            "flex": null,
            "_model_name": "LayoutModel",
            "justify_items": null,
            "grid_row": null,
            "max_height": null,
            "align_content": null,
            "visibility": null,
            "align_self": null,
            "height": null,
            "min_height": null,
            "padding": null,
            "grid_auto_rows": null,
            "grid_gap": null,
            "max_width": null,
            "order": null,
            "_view_module_version": "1.2.0",
            "grid_template_areas": null,
            "object_position": null,
            "object_fit": null,
            "grid_auto_columns": null,
            "margin": null,
            "display": null,
            "left": null
          }
        },
        "c7b1fead93f04569ae82804d9af92e57": {
          "model_module": "@jupyter-widgets/controls",
          "model_name": "DescriptionStyleModel",
          "model_module_version": "1.5.0",
          "state": {
            "_view_name": "StyleView",
            "_model_name": "DescriptionStyleModel",
            "description_width": "",
            "_view_module": "@jupyter-widgets/base",
            "_model_module_version": "1.5.0",
            "_view_count": null,
            "_view_module_version": "1.2.0",
            "_model_module": "@jupyter-widgets/controls"
          }
        },
        "375e7011a7d44fea9da932dc53e58746": {
          "model_module": "@jupyter-widgets/base",
          "model_name": "LayoutModel",
          "model_module_version": "1.2.0",
          "state": {
            "_view_name": "LayoutView",
            "grid_template_rows": null,
            "right": null,
            "justify_content": null,
            "_view_module": "@jupyter-widgets/base",
            "overflow": null,
            "_model_module_version": "1.2.0",
            "_view_count": null,
            "flex_flow": null,
            "width": null,
            "min_width": null,
            "border": null,
            "align_items": null,
            "bottom": null,
            "_model_module": "@jupyter-widgets/base",
            "top": null,
            "grid_column": null,
            "overflow_y": null,
            "overflow_x": null,
            "grid_auto_flow": null,
            "grid_area": null,
            "grid_template_columns": null,
            "flex": null,
            "_model_name": "LayoutModel",
            "justify_items": null,
            "grid_row": null,
            "max_height": null,
            "align_content": null,
            "visibility": null,
            "align_self": null,
            "height": null,
            "min_height": null,
            "padding": null,
            "grid_auto_rows": null,
            "grid_gap": null,
            "max_width": null,
            "order": null,
            "_view_module_version": "1.2.0",
            "grid_template_areas": null,
            "object_position": null,
            "object_fit": null,
            "grid_auto_columns": null,
            "margin": null,
            "display": null,
            "left": null
          }
        },
        "a8db98e95a414c118e8449b5ca35b7c4": {
          "model_module": "@jupyter-widgets/controls",
          "model_name": "HBoxModel",
          "model_module_version": "1.5.0",
          "state": {
            "_view_name": "HBoxView",
            "_dom_classes": [],
            "_model_name": "HBoxModel",
            "_view_module": "@jupyter-widgets/controls",
            "_model_module_version": "1.5.0",
            "_view_count": null,
            "_view_module_version": "1.5.0",
            "box_style": "",
            "layout": "IPY_MODEL_f9edff489c8e418c8db1aaeb060ec69c",
            "_model_module": "@jupyter-widgets/controls",
            "children": [
              "IPY_MODEL_48024b8c8be44770831b2fe46ab6f89f",
              "IPY_MODEL_45424d9d61284ce59700cb9826f9803f",
              "IPY_MODEL_71dcf86db86641ab9b661bed3334ecb3"
            ]
          }
        },
        "f9edff489c8e418c8db1aaeb060ec69c": {
          "model_module": "@jupyter-widgets/base",
          "model_name": "LayoutModel",
          "model_module_version": "1.2.0",
          "state": {
            "_view_name": "LayoutView",
            "grid_template_rows": null,
            "right": null,
            "justify_content": null,
            "_view_module": "@jupyter-widgets/base",
            "overflow": null,
            "_model_module_version": "1.2.0",
            "_view_count": null,
            "flex_flow": null,
            "width": null,
            "min_width": null,
            "border": null,
            "align_items": null,
            "bottom": null,
            "_model_module": "@jupyter-widgets/base",
            "top": null,
            "grid_column": null,
            "overflow_y": null,
            "overflow_x": null,
            "grid_auto_flow": null,
            "grid_area": null,
            "grid_template_columns": null,
            "flex": null,
            "_model_name": "LayoutModel",
            "justify_items": null,
            "grid_row": null,
            "max_height": null,
            "align_content": null,
            "visibility": null,
            "align_self": null,
            "height": null,
            "min_height": null,
            "padding": null,
            "grid_auto_rows": null,
            "grid_gap": null,
            "max_width": null,
            "order": null,
            "_view_module_version": "1.2.0",
            "grid_template_areas": null,
            "object_position": null,
            "object_fit": null,
            "grid_auto_columns": null,
            "margin": null,
            "display": null,
            "left": null
          }
        },
        "48024b8c8be44770831b2fe46ab6f89f": {
          "model_module": "@jupyter-widgets/controls",
          "model_name": "HTMLModel",
          "model_module_version": "1.5.0",
          "state": {
            "_view_name": "HTMLView",
            "style": "IPY_MODEL_b4f233e2e06049409445c4fef177920c",
            "_dom_classes": [],
            "description": "",
            "_model_name": "HTMLModel",
            "placeholder": "​",
            "_view_module": "@jupyter-widgets/controls",
            "_model_module_version": "1.5.0",
            "value": "Test Loss: 0.5006, Test Acc: 0.748: 100%",
            "_view_count": null,
            "_view_module_version": "1.5.0",
            "description_tooltip": null,
            "_model_module": "@jupyter-widgets/controls",
            "layout": "IPY_MODEL_e9eef4c15824480ab83898e9cd82e909"
          }
        },
        "45424d9d61284ce59700cb9826f9803f": {
          "model_module": "@jupyter-widgets/controls",
          "model_name": "FloatProgressModel",
          "model_module_version": "1.5.0",
          "state": {
            "_view_name": "ProgressView",
            "style": "IPY_MODEL_5ec890bedb39465a908061dada27914f",
            "_dom_classes": [],
            "description": "",
            "_model_name": "FloatProgressModel",
            "bar_style": "success",
            "max": 313,
            "_view_module": "@jupyter-widgets/controls",
            "_model_module_version": "1.5.0",
            "value": 313,
            "_view_count": null,
            "_view_module_version": "1.5.0",
            "orientation": "horizontal",
            "min": 0,
            "description_tooltip": null,
            "_model_module": "@jupyter-widgets/controls",
            "layout": "IPY_MODEL_f5deb5a0127f44f493d72d47c25d8b50"
          }
        },
        "71dcf86db86641ab9b661bed3334ecb3": {
          "model_module": "@jupyter-widgets/controls",
          "model_name": "HTMLModel",
          "model_module_version": "1.5.0",
          "state": {
            "_view_name": "HTMLView",
            "style": "IPY_MODEL_4ec96a4fd87240cd95ed3e1220e3d15d",
            "_dom_classes": [],
            "description": "",
            "_model_name": "HTMLModel",
            "placeholder": "​",
            "_view_module": "@jupyter-widgets/controls",
            "_model_module_version": "1.5.0",
            "value": " 313/313 [01:02&lt;00:00,  6.24it/s]",
            "_view_count": null,
            "_view_module_version": "1.5.0",
            "description_tooltip": null,
            "_model_module": "@jupyter-widgets/controls",
            "layout": "IPY_MODEL_53d28a04444e40038362272137108e57"
          }
        },
        "b4f233e2e06049409445c4fef177920c": {
          "model_module": "@jupyter-widgets/controls",
          "model_name": "DescriptionStyleModel",
          "model_module_version": "1.5.0",
          "state": {
            "_view_name": "StyleView",
            "_model_name": "DescriptionStyleModel",
            "description_width": "",
            "_view_module": "@jupyter-widgets/base",
            "_model_module_version": "1.5.0",
            "_view_count": null,
            "_view_module_version": "1.2.0",
            "_model_module": "@jupyter-widgets/controls"
          }
        },
        "e9eef4c15824480ab83898e9cd82e909": {
          "model_module": "@jupyter-widgets/base",
          "model_name": "LayoutModel",
          "model_module_version": "1.2.0",
          "state": {
            "_view_name": "LayoutView",
            "grid_template_rows": null,
            "right": null,
            "justify_content": null,
            "_view_module": "@jupyter-widgets/base",
            "overflow": null,
            "_model_module_version": "1.2.0",
            "_view_count": null,
            "flex_flow": null,
            "width": null,
            "min_width": null,
            "border": null,
            "align_items": null,
            "bottom": null,
            "_model_module": "@jupyter-widgets/base",
            "top": null,
            "grid_column": null,
            "overflow_y": null,
            "overflow_x": null,
            "grid_auto_flow": null,
            "grid_area": null,
            "grid_template_columns": null,
            "flex": null,
            "_model_name": "LayoutModel",
            "justify_items": null,
            "grid_row": null,
            "max_height": null,
            "align_content": null,
            "visibility": null,
            "align_self": null,
            "height": null,
            "min_height": null,
            "padding": null,
            "grid_auto_rows": null,
            "grid_gap": null,
            "max_width": null,
            "order": null,
            "_view_module_version": "1.2.0",
            "grid_template_areas": null,
            "object_position": null,
            "object_fit": null,
            "grid_auto_columns": null,
            "margin": null,
            "display": null,
            "left": null
          }
        },
        "5ec890bedb39465a908061dada27914f": {
          "model_module": "@jupyter-widgets/controls",
          "model_name": "ProgressStyleModel",
          "model_module_version": "1.5.0",
          "state": {
            "_view_name": "StyleView",
            "_model_name": "ProgressStyleModel",
            "description_width": "",
            "_view_module": "@jupyter-widgets/base",
            "_model_module_version": "1.5.0",
            "_view_count": null,
            "_view_module_version": "1.2.0",
            "bar_color": null,
            "_model_module": "@jupyter-widgets/controls"
          }
        },
        "f5deb5a0127f44f493d72d47c25d8b50": {
          "model_module": "@jupyter-widgets/base",
          "model_name": "LayoutModel",
          "model_module_version": "1.2.0",
          "state": {
            "_view_name": "LayoutView",
            "grid_template_rows": null,
            "right": null,
            "justify_content": null,
            "_view_module": "@jupyter-widgets/base",
            "overflow": null,
            "_model_module_version": "1.2.0",
            "_view_count": null,
            "flex_flow": null,
            "width": null,
            "min_width": null,
            "border": null,
            "align_items": null,
            "bottom": null,
            "_model_module": "@jupyter-widgets/base",
            "top": null,
            "grid_column": null,
            "overflow_y": null,
            "overflow_x": null,
            "grid_auto_flow": null,
            "grid_area": null,
            "grid_template_columns": null,
            "flex": null,
            "_model_name": "LayoutModel",
            "justify_items": null,
            "grid_row": null,
            "max_height": null,
            "align_content": null,
            "visibility": null,
            "align_self": null,
            "height": null,
            "min_height": null,
            "padding": null,
            "grid_auto_rows": null,
            "grid_gap": null,
            "max_width": null,
            "order": null,
            "_view_module_version": "1.2.0",
            "grid_template_areas": null,
            "object_position": null,
            "object_fit": null,
            "grid_auto_columns": null,
            "margin": null,
            "display": null,
            "left": null
          }
        },
        "4ec96a4fd87240cd95ed3e1220e3d15d": {
          "model_module": "@jupyter-widgets/controls",
          "model_name": "DescriptionStyleModel",
          "model_module_version": "1.5.0",
          "state": {
            "_view_name": "StyleView",
            "_model_name": "DescriptionStyleModel",
            "description_width": "",
            "_view_module": "@jupyter-widgets/base",
            "_model_module_version": "1.5.0",
            "_view_count": null,
            "_view_module_version": "1.2.0",
            "_model_module": "@jupyter-widgets/controls"
          }
        },
        "53d28a04444e40038362272137108e57": {
          "model_module": "@jupyter-widgets/base",
          "model_name": "LayoutModel",
          "model_module_version": "1.2.0",
          "state": {
            "_view_name": "LayoutView",
            "grid_template_rows": null,
            "right": null,
            "justify_content": null,
            "_view_module": "@jupyter-widgets/base",
            "overflow": null,
            "_model_module_version": "1.2.0",
            "_view_count": null,
            "flex_flow": null,
            "width": null,
            "min_width": null,
            "border": null,
            "align_items": null,
            "bottom": null,
            "_model_module": "@jupyter-widgets/base",
            "top": null,
            "grid_column": null,
            "overflow_y": null,
            "overflow_x": null,
            "grid_auto_flow": null,
            "grid_area": null,
            "grid_template_columns": null,
            "flex": null,
            "_model_name": "LayoutModel",
            "justify_items": null,
            "grid_row": null,
            "max_height": null,
            "align_content": null,
            "visibility": null,
            "align_self": null,
            "height": null,
            "min_height": null,
            "padding": null,
            "grid_auto_rows": null,
            "grid_gap": null,
            "max_width": null,
            "order": null,
            "_view_module_version": "1.2.0",
            "grid_template_areas": null,
            "object_position": null,
            "object_fit": null,
            "grid_auto_columns": null,
            "margin": null,
            "display": null,
            "left": null
          }
        },
        "71e67e31f5b54ef493a146da2aaa141d": {
          "model_module": "@jupyter-widgets/controls",
          "model_name": "HBoxModel",
          "model_module_version": "1.5.0",
          "state": {
            "_view_name": "HBoxView",
            "_dom_classes": [],
            "_model_name": "HBoxModel",
            "_view_module": "@jupyter-widgets/controls",
            "_model_module_version": "1.5.0",
            "_view_count": null,
            "_view_module_version": "1.5.0",
            "box_style": "",
            "layout": "IPY_MODEL_54cb34f0987841a38d3471eb6ba39297",
            "_model_module": "@jupyter-widgets/controls",
            "children": [
              "IPY_MODEL_9f70d89fe93540c1ba5f57b360a9d748",
              "IPY_MODEL_ff5b9d6669674008a6be492e298b517d",
              "IPY_MODEL_fffce64c628a41319e19bbde8dbdc0fe"
            ]
          }
        },
        "54cb34f0987841a38d3471eb6ba39297": {
          "model_module": "@jupyter-widgets/base",
          "model_name": "LayoutModel",
          "model_module_version": "1.2.0",
          "state": {
            "_view_name": "LayoutView",
            "grid_template_rows": null,
            "right": null,
            "justify_content": null,
            "_view_module": "@jupyter-widgets/base",
            "overflow": null,
            "_model_module_version": "1.2.0",
            "_view_count": null,
            "flex_flow": null,
            "width": null,
            "min_width": null,
            "border": null,
            "align_items": null,
            "bottom": null,
            "_model_module": "@jupyter-widgets/base",
            "top": null,
            "grid_column": null,
            "overflow_y": null,
            "overflow_x": null,
            "grid_auto_flow": null,
            "grid_area": null,
            "grid_template_columns": null,
            "flex": null,
            "_model_name": "LayoutModel",
            "justify_items": null,
            "grid_row": null,
            "max_height": null,
            "align_content": null,
            "visibility": null,
            "align_self": null,
            "height": null,
            "min_height": null,
            "padding": null,
            "grid_auto_rows": null,
            "grid_gap": null,
            "max_width": null,
            "order": null,
            "_view_module_version": "1.2.0",
            "grid_template_areas": null,
            "object_position": null,
            "object_fit": null,
            "grid_auto_columns": null,
            "margin": null,
            "display": null,
            "left": null
          }
        },
        "9f70d89fe93540c1ba5f57b360a9d748": {
          "model_module": "@jupyter-widgets/controls",
          "model_name": "HTMLModel",
          "model_module_version": "1.5.0",
          "state": {
            "_view_name": "HTMLView",
            "style": "IPY_MODEL_f664490fe35d41d99174318ebd944c09",
            "_dom_classes": [],
            "description": "",
            "_model_name": "HTMLModel",
            "placeholder": "​",
            "_view_module": "@jupyter-widgets/controls",
            "_model_module_version": "1.5.0",
            "value": "Epoch 1. Train Loss: 0.4935: 100%",
            "_view_count": null,
            "_view_module_version": "1.5.0",
            "description_tooltip": null,
            "_model_module": "@jupyter-widgets/controls",
            "layout": "IPY_MODEL_6619b3fbcc3345648e4f2f0ca362276a"
          }
        },
        "ff5b9d6669674008a6be492e298b517d": {
          "model_module": "@jupyter-widgets/controls",
          "model_name": "FloatProgressModel",
          "model_module_version": "1.5.0",
          "state": {
            "_view_name": "ProgressView",
            "style": "IPY_MODEL_9d53abba22df43db9bdfbb5c875ae68c",
            "_dom_classes": [],
            "description": "",
            "_model_name": "FloatProgressModel",
            "bar_style": "success",
            "max": 1000,
            "_view_module": "@jupyter-widgets/controls",
            "_model_module_version": "1.5.0",
            "value": 1000,
            "_view_count": null,
            "_view_module_version": "1.5.0",
            "orientation": "horizontal",
            "min": 0,
            "description_tooltip": null,
            "_model_module": "@jupyter-widgets/controls",
            "layout": "IPY_MODEL_da8ca118174446d5a67f26ce58556ac6"
          }
        },
        "fffce64c628a41319e19bbde8dbdc0fe": {
          "model_module": "@jupyter-widgets/controls",
          "model_name": "HTMLModel",
          "model_module_version": "1.5.0",
          "state": {
            "_view_name": "HTMLView",
            "style": "IPY_MODEL_f1192a5317764d638499eb54f7f7e775",
            "_dom_classes": [],
            "description": "",
            "_model_name": "HTMLModel",
            "placeholder": "​",
            "_view_module": "@jupyter-widgets/controls",
            "_model_module_version": "1.5.0",
            "value": " 1000/1000 [03:33&lt;00:00,  6.15it/s]",
            "_view_count": null,
            "_view_module_version": "1.5.0",
            "description_tooltip": null,
            "_model_module": "@jupyter-widgets/controls",
            "layout": "IPY_MODEL_4ecc39f8d12c4649b03166404f193b3f"
          }
        },
        "f664490fe35d41d99174318ebd944c09": {
          "model_module": "@jupyter-widgets/controls",
          "model_name": "DescriptionStyleModel",
          "model_module_version": "1.5.0",
          "state": {
            "_view_name": "StyleView",
            "_model_name": "DescriptionStyleModel",
            "description_width": "",
            "_view_module": "@jupyter-widgets/base",
            "_model_module_version": "1.5.0",
            "_view_count": null,
            "_view_module_version": "1.2.0",
            "_model_module": "@jupyter-widgets/controls"
          }
        },
        "6619b3fbcc3345648e4f2f0ca362276a": {
          "model_module": "@jupyter-widgets/base",
          "model_name": "LayoutModel",
          "model_module_version": "1.2.0",
          "state": {
            "_view_name": "LayoutView",
            "grid_template_rows": null,
            "right": null,
            "justify_content": null,
            "_view_module": "@jupyter-widgets/base",
            "overflow": null,
            "_model_module_version": "1.2.0",
            "_view_count": null,
            "flex_flow": null,
            "width": null,
            "min_width": null,
            "border": null,
            "align_items": null,
            "bottom": null,
            "_model_module": "@jupyter-widgets/base",
            "top": null,
            "grid_column": null,
            "overflow_y": null,
            "overflow_x": null,
            "grid_auto_flow": null,
            "grid_area": null,
            "grid_template_columns": null,
            "flex": null,
            "_model_name": "LayoutModel",
            "justify_items": null,
            "grid_row": null,
            "max_height": null,
            "align_content": null,
            "visibility": null,
            "align_self": null,
            "height": null,
            "min_height": null,
            "padding": null,
            "grid_auto_rows": null,
            "grid_gap": null,
            "max_width": null,
            "order": null,
            "_view_module_version": "1.2.0",
            "grid_template_areas": null,
            "object_position": null,
            "object_fit": null,
            "grid_auto_columns": null,
            "margin": null,
            "display": null,
            "left": null
          }
        },
        "9d53abba22df43db9bdfbb5c875ae68c": {
          "model_module": "@jupyter-widgets/controls",
          "model_name": "ProgressStyleModel",
          "model_module_version": "1.5.0",
          "state": {
            "_view_name": "StyleView",
            "_model_name": "ProgressStyleModel",
            "description_width": "",
            "_view_module": "@jupyter-widgets/base",
            "_model_module_version": "1.5.0",
            "_view_count": null,
            "_view_module_version": "1.2.0",
            "bar_color": null,
            "_model_module": "@jupyter-widgets/controls"
          }
        },
        "da8ca118174446d5a67f26ce58556ac6": {
          "model_module": "@jupyter-widgets/base",
          "model_name": "LayoutModel",
          "model_module_version": "1.2.0",
          "state": {
            "_view_name": "LayoutView",
            "grid_template_rows": null,
            "right": null,
            "justify_content": null,
            "_view_module": "@jupyter-widgets/base",
            "overflow": null,
            "_model_module_version": "1.2.0",
            "_view_count": null,
            "flex_flow": null,
            "width": null,
            "min_width": null,
            "border": null,
            "align_items": null,
            "bottom": null,
            "_model_module": "@jupyter-widgets/base",
            "top": null,
            "grid_column": null,
            "overflow_y": null,
            "overflow_x": null,
            "grid_auto_flow": null,
            "grid_area": null,
            "grid_template_columns": null,
            "flex": null,
            "_model_name": "LayoutModel",
            "justify_items": null,
            "grid_row": null,
            "max_height": null,
            "align_content": null,
            "visibility": null,
            "align_self": null,
            "height": null,
            "min_height": null,
            "padding": null,
            "grid_auto_rows": null,
            "grid_gap": null,
            "max_width": null,
            "order": null,
            "_view_module_version": "1.2.0",
            "grid_template_areas": null,
            "object_position": null,
            "object_fit": null,
            "grid_auto_columns": null,
            "margin": null,
            "display": null,
            "left": null
          }
        },
        "f1192a5317764d638499eb54f7f7e775": {
          "model_module": "@jupyter-widgets/controls",
          "model_name": "DescriptionStyleModel",
          "model_module_version": "1.5.0",
          "state": {
            "_view_name": "StyleView",
            "_model_name": "DescriptionStyleModel",
            "description_width": "",
            "_view_module": "@jupyter-widgets/base",
            "_model_module_version": "1.5.0",
            "_view_count": null,
            "_view_module_version": "1.2.0",
            "_model_module": "@jupyter-widgets/controls"
          }
        },
        "4ecc39f8d12c4649b03166404f193b3f": {
          "model_module": "@jupyter-widgets/base",
          "model_name": "LayoutModel",
          "model_module_version": "1.2.0",
          "state": {
            "_view_name": "LayoutView",
            "grid_template_rows": null,
            "right": null,
            "justify_content": null,
            "_view_module": "@jupyter-widgets/base",
            "overflow": null,
            "_model_module_version": "1.2.0",
            "_view_count": null,
            "flex_flow": null,
            "width": null,
            "min_width": null,
            "border": null,
            "align_items": null,
            "bottom": null,
            "_model_module": "@jupyter-widgets/base",
            "top": null,
            "grid_column": null,
            "overflow_y": null,
            "overflow_x": null,
            "grid_auto_flow": null,
            "grid_area": null,
            "grid_template_columns": null,
            "flex": null,
            "_model_name": "LayoutModel",
            "justify_items": null,
            "grid_row": null,
            "max_height": null,
            "align_content": null,
            "visibility": null,
            "align_self": null,
            "height": null,
            "min_height": null,
            "padding": null,
            "grid_auto_rows": null,
            "grid_gap": null,
            "max_width": null,
            "order": null,
            "_view_module_version": "1.2.0",
            "grid_template_areas": null,
            "object_position": null,
            "object_fit": null,
            "grid_auto_columns": null,
            "margin": null,
            "display": null,
            "left": null
          }
        },
        "1b0e320034794753ad4e9bfc430ede5d": {
          "model_module": "@jupyter-widgets/controls",
          "model_name": "HBoxModel",
          "model_module_version": "1.5.0",
          "state": {
            "_view_name": "HBoxView",
            "_dom_classes": [],
            "_model_name": "HBoxModel",
            "_view_module": "@jupyter-widgets/controls",
            "_model_module_version": "1.5.0",
            "_view_count": null,
            "_view_module_version": "1.5.0",
            "box_style": "",
            "layout": "IPY_MODEL_9609f642e20c4c56a334cb47b9c5d4ac",
            "_model_module": "@jupyter-widgets/controls",
            "children": [
              "IPY_MODEL_55464034b98d46c5868eb0b1969274b7",
              "IPY_MODEL_bcebe951f64f42d4a05079434783e2db",
              "IPY_MODEL_8973e41ed3b2439e8562706e3eed761c"
            ]
          }
        },
        "9609f642e20c4c56a334cb47b9c5d4ac": {
          "model_module": "@jupyter-widgets/base",
          "model_name": "LayoutModel",
          "model_module_version": "1.2.0",
          "state": {
            "_view_name": "LayoutView",
            "grid_template_rows": null,
            "right": null,
            "justify_content": null,
            "_view_module": "@jupyter-widgets/base",
            "overflow": null,
            "_model_module_version": "1.2.0",
            "_view_count": null,
            "flex_flow": null,
            "width": null,
            "min_width": null,
            "border": null,
            "align_items": null,
            "bottom": null,
            "_model_module": "@jupyter-widgets/base",
            "top": null,
            "grid_column": null,
            "overflow_y": null,
            "overflow_x": null,
            "grid_auto_flow": null,
            "grid_area": null,
            "grid_template_columns": null,
            "flex": null,
            "_model_name": "LayoutModel",
            "justify_items": null,
            "grid_row": null,
            "max_height": null,
            "align_content": null,
            "visibility": null,
            "align_self": null,
            "height": null,
            "min_height": null,
            "padding": null,
            "grid_auto_rows": null,
            "grid_gap": null,
            "max_width": null,
            "order": null,
            "_view_module_version": "1.2.0",
            "grid_template_areas": null,
            "object_position": null,
            "object_fit": null,
            "grid_auto_columns": null,
            "margin": null,
            "display": null,
            "left": null
          }
        },
        "55464034b98d46c5868eb0b1969274b7": {
          "model_module": "@jupyter-widgets/controls",
          "model_name": "HTMLModel",
          "model_module_version": "1.5.0",
          "state": {
            "_view_name": "HTMLView",
            "style": "IPY_MODEL_75911a2819344ae8b414ee6e8f3815a3",
            "_dom_classes": [],
            "description": "",
            "_model_name": "HTMLModel",
            "placeholder": "​",
            "_view_module": "@jupyter-widgets/controls",
            "_model_module_version": "1.5.0",
            "value": "Test Loss: 0.4213, Test Acc: 0.7988: 100%",
            "_view_count": null,
            "_view_module_version": "1.5.0",
            "description_tooltip": null,
            "_model_module": "@jupyter-widgets/controls",
            "layout": "IPY_MODEL_2680dcc4d85c4bfca102578ed336b0fc"
          }
        },
        "bcebe951f64f42d4a05079434783e2db": {
          "model_module": "@jupyter-widgets/controls",
          "model_name": "FloatProgressModel",
          "model_module_version": "1.5.0",
          "state": {
            "_view_name": "ProgressView",
            "style": "IPY_MODEL_69f0fff30599442ebeca2e80c0c099ac",
            "_dom_classes": [],
            "description": "",
            "_model_name": "FloatProgressModel",
            "bar_style": "success",
            "max": 313,
            "_view_module": "@jupyter-widgets/controls",
            "_model_module_version": "1.5.0",
            "value": 313,
            "_view_count": null,
            "_view_module_version": "1.5.0",
            "orientation": "horizontal",
            "min": 0,
            "description_tooltip": null,
            "_model_module": "@jupyter-widgets/controls",
            "layout": "IPY_MODEL_922bc8a8c45c4d68b639498345a7d28e"
          }
        },
        "8973e41ed3b2439e8562706e3eed761c": {
          "model_module": "@jupyter-widgets/controls",
          "model_name": "HTMLModel",
          "model_module_version": "1.5.0",
          "state": {
            "_view_name": "HTMLView",
            "style": "IPY_MODEL_3f462e024076422fa88a3afa8e281c2d",
            "_dom_classes": [],
            "description": "",
            "_model_name": "HTMLModel",
            "placeholder": "​",
            "_view_module": "@jupyter-widgets/controls",
            "_model_module_version": "1.5.0",
            "value": " 313/313 [01:06&lt;00:00,  6.03it/s]",
            "_view_count": null,
            "_view_module_version": "1.5.0",
            "description_tooltip": null,
            "_model_module": "@jupyter-widgets/controls",
            "layout": "IPY_MODEL_767e883cd8c943af8b0cb37bb14fb90c"
          }
        },
        "75911a2819344ae8b414ee6e8f3815a3": {
          "model_module": "@jupyter-widgets/controls",
          "model_name": "DescriptionStyleModel",
          "model_module_version": "1.5.0",
          "state": {
            "_view_name": "StyleView",
            "_model_name": "DescriptionStyleModel",
            "description_width": "",
            "_view_module": "@jupyter-widgets/base",
            "_model_module_version": "1.5.0",
            "_view_count": null,
            "_view_module_version": "1.2.0",
            "_model_module": "@jupyter-widgets/controls"
          }
        },
        "2680dcc4d85c4bfca102578ed336b0fc": {
          "model_module": "@jupyter-widgets/base",
          "model_name": "LayoutModel",
          "model_module_version": "1.2.0",
          "state": {
            "_view_name": "LayoutView",
            "grid_template_rows": null,
            "right": null,
            "justify_content": null,
            "_view_module": "@jupyter-widgets/base",
            "overflow": null,
            "_model_module_version": "1.2.0",
            "_view_count": null,
            "flex_flow": null,
            "width": null,
            "min_width": null,
            "border": null,
            "align_items": null,
            "bottom": null,
            "_model_module": "@jupyter-widgets/base",
            "top": null,
            "grid_column": null,
            "overflow_y": null,
            "overflow_x": null,
            "grid_auto_flow": null,
            "grid_area": null,
            "grid_template_columns": null,
            "flex": null,
            "_model_name": "LayoutModel",
            "justify_items": null,
            "grid_row": null,
            "max_height": null,
            "align_content": null,
            "visibility": null,
            "align_self": null,
            "height": null,
            "min_height": null,
            "padding": null,
            "grid_auto_rows": null,
            "grid_gap": null,
            "max_width": null,
            "order": null,
            "_view_module_version": "1.2.0",
            "grid_template_areas": null,
            "object_position": null,
            "object_fit": null,
            "grid_auto_columns": null,
            "margin": null,
            "display": null,
            "left": null
          }
        },
        "69f0fff30599442ebeca2e80c0c099ac": {
          "model_module": "@jupyter-widgets/controls",
          "model_name": "ProgressStyleModel",
          "model_module_version": "1.5.0",
          "state": {
            "_view_name": "StyleView",
            "_model_name": "ProgressStyleModel",
            "description_width": "",
            "_view_module": "@jupyter-widgets/base",
            "_model_module_version": "1.5.0",
            "_view_count": null,
            "_view_module_version": "1.2.0",
            "bar_color": null,
            "_model_module": "@jupyter-widgets/controls"
          }
        },
        "922bc8a8c45c4d68b639498345a7d28e": {
          "model_module": "@jupyter-widgets/base",
          "model_name": "LayoutModel",
          "model_module_version": "1.2.0",
          "state": {
            "_view_name": "LayoutView",
            "grid_template_rows": null,
            "right": null,
            "justify_content": null,
            "_view_module": "@jupyter-widgets/base",
            "overflow": null,
            "_model_module_version": "1.2.0",
            "_view_count": null,
            "flex_flow": null,
            "width": null,
            "min_width": null,
            "border": null,
            "align_items": null,
            "bottom": null,
            "_model_module": "@jupyter-widgets/base",
            "top": null,
            "grid_column": null,
            "overflow_y": null,
            "overflow_x": null,
            "grid_auto_flow": null,
            "grid_area": null,
            "grid_template_columns": null,
            "flex": null,
            "_model_name": "LayoutModel",
            "justify_items": null,
            "grid_row": null,
            "max_height": null,
            "align_content": null,
            "visibility": null,
            "align_self": null,
            "height": null,
            "min_height": null,
            "padding": null,
            "grid_auto_rows": null,
            "grid_gap": null,
            "max_width": null,
            "order": null,
            "_view_module_version": "1.2.0",
            "grid_template_areas": null,
            "object_position": null,
            "object_fit": null,
            "grid_auto_columns": null,
            "margin": null,
            "display": null,
            "left": null
          }
        },
        "3f462e024076422fa88a3afa8e281c2d": {
          "model_module": "@jupyter-widgets/controls",
          "model_name": "DescriptionStyleModel",
          "model_module_version": "1.5.0",
          "state": {
            "_view_name": "StyleView",
            "_model_name": "DescriptionStyleModel",
            "description_width": "",
            "_view_module": "@jupyter-widgets/base",
            "_model_module_version": "1.5.0",
            "_view_count": null,
            "_view_module_version": "1.2.0",
            "_model_module": "@jupyter-widgets/controls"
          }
        },
        "767e883cd8c943af8b0cb37bb14fb90c": {
          "model_module": "@jupyter-widgets/base",
          "model_name": "LayoutModel",
          "model_module_version": "1.2.0",
          "state": {
            "_view_name": "LayoutView",
            "grid_template_rows": null,
            "right": null,
            "justify_content": null,
            "_view_module": "@jupyter-widgets/base",
            "overflow": null,
            "_model_module_version": "1.2.0",
            "_view_count": null,
            "flex_flow": null,
            "width": null,
            "min_width": null,
            "border": null,
            "align_items": null,
            "bottom": null,
            "_model_module": "@jupyter-widgets/base",
            "top": null,
            "grid_column": null,
            "overflow_y": null,
            "overflow_x": null,
            "grid_auto_flow": null,
            "grid_area": null,
            "grid_template_columns": null,
            "flex": null,
            "_model_name": "LayoutModel",
            "justify_items": null,
            "grid_row": null,
            "max_height": null,
            "align_content": null,
            "visibility": null,
            "align_self": null,
            "height": null,
            "min_height": null,
            "padding": null,
            "grid_auto_rows": null,
            "grid_gap": null,
            "max_width": null,
            "order": null,
            "_view_module_version": "1.2.0",
            "grid_template_areas": null,
            "object_position": null,
            "object_fit": null,
            "grid_auto_columns": null,
            "margin": null,
            "display": null,
            "left": null
          }
        },
        "b421a61c28f642d78888928779d353b1": {
          "model_module": "@jupyter-widgets/controls",
          "model_name": "HBoxModel",
          "model_module_version": "1.5.0",
          "state": {
            "_view_name": "HBoxView",
            "_dom_classes": [],
            "_model_name": "HBoxModel",
            "_view_module": "@jupyter-widgets/controls",
            "_model_module_version": "1.5.0",
            "_view_count": null,
            "_view_module_version": "1.5.0",
            "box_style": "",
            "layout": "IPY_MODEL_3036bc983a0b44e195a0b33e81563423",
            "_model_module": "@jupyter-widgets/controls",
            "children": [
              "IPY_MODEL_c2c6318cc628447ab49b9d987eb66b16",
              "IPY_MODEL_b204761d3cca448da617873c04373dd8",
              "IPY_MODEL_3d816b167b7042f5b0920412943368c3"
            ]
          }
        },
        "3036bc983a0b44e195a0b33e81563423": {
          "model_module": "@jupyter-widgets/base",
          "model_name": "LayoutModel",
          "model_module_version": "1.2.0",
          "state": {
            "_view_name": "LayoutView",
            "grid_template_rows": null,
            "right": null,
            "justify_content": null,
            "_view_module": "@jupyter-widgets/base",
            "overflow": null,
            "_model_module_version": "1.2.0",
            "_view_count": null,
            "flex_flow": null,
            "width": null,
            "min_width": null,
            "border": null,
            "align_items": null,
            "bottom": null,
            "_model_module": "@jupyter-widgets/base",
            "top": null,
            "grid_column": null,
            "overflow_y": null,
            "overflow_x": null,
            "grid_auto_flow": null,
            "grid_area": null,
            "grid_template_columns": null,
            "flex": null,
            "_model_name": "LayoutModel",
            "justify_items": null,
            "grid_row": null,
            "max_height": null,
            "align_content": null,
            "visibility": null,
            "align_self": null,
            "height": null,
            "min_height": null,
            "padding": null,
            "grid_auto_rows": null,
            "grid_gap": null,
            "max_width": null,
            "order": null,
            "_view_module_version": "1.2.0",
            "grid_template_areas": null,
            "object_position": null,
            "object_fit": null,
            "grid_auto_columns": null,
            "margin": null,
            "display": null,
            "left": null
          }
        },
        "c2c6318cc628447ab49b9d987eb66b16": {
          "model_module": "@jupyter-widgets/controls",
          "model_name": "HTMLModel",
          "model_module_version": "1.5.0",
          "state": {
            "_view_name": "HTMLView",
            "style": "IPY_MODEL_7446fe364121492c8ad00139167c75c6",
            "_dom_classes": [],
            "description": "",
            "_model_name": "HTMLModel",
            "placeholder": "​",
            "_view_module": "@jupyter-widgets/controls",
            "_model_module_version": "1.5.0",
            "value": "Epoch 1. Train Loss: 0.4854: 100%",
            "_view_count": null,
            "_view_module_version": "1.5.0",
            "description_tooltip": null,
            "_model_module": "@jupyter-widgets/controls",
            "layout": "IPY_MODEL_2a5f88e8658346bb8ffd3a31a30e29f6"
          }
        },
        "b204761d3cca448da617873c04373dd8": {
          "model_module": "@jupyter-widgets/controls",
          "model_name": "FloatProgressModel",
          "model_module_version": "1.5.0",
          "state": {
            "_view_name": "ProgressView",
            "style": "IPY_MODEL_af455f06a1d54cf9bba3f1e6274a4efb",
            "_dom_classes": [],
            "description": "",
            "_model_name": "FloatProgressModel",
            "bar_style": "success",
            "max": 1000,
            "_view_module": "@jupyter-widgets/controls",
            "_model_module_version": "1.5.0",
            "value": 1000,
            "_view_count": null,
            "_view_module_version": "1.5.0",
            "orientation": "horizontal",
            "min": 0,
            "description_tooltip": null,
            "_model_module": "@jupyter-widgets/controls",
            "layout": "IPY_MODEL_af1a633e7a984c4fb6239e6589d4de0c"
          }
        },
        "3d816b167b7042f5b0920412943368c3": {
          "model_module": "@jupyter-widgets/controls",
          "model_name": "HTMLModel",
          "model_module_version": "1.5.0",
          "state": {
            "_view_name": "HTMLView",
            "style": "IPY_MODEL_d8e81414124c42ff83cfb00a1a7d4e49",
            "_dom_classes": [],
            "description": "",
            "_model_name": "HTMLModel",
            "placeholder": "​",
            "_view_module": "@jupyter-widgets/controls",
            "_model_module_version": "1.5.0",
            "value": " 1000/1000 [03:33&lt;00:00,  4.41it/s]",
            "_view_count": null,
            "_view_module_version": "1.5.0",
            "description_tooltip": null,
            "_model_module": "@jupyter-widgets/controls",
            "layout": "IPY_MODEL_f8e9d479a4d5436896c5f6851cfdd02b"
          }
        },
        "7446fe364121492c8ad00139167c75c6": {
          "model_module": "@jupyter-widgets/controls",
          "model_name": "DescriptionStyleModel",
          "model_module_version": "1.5.0",
          "state": {
            "_view_name": "StyleView",
            "_model_name": "DescriptionStyleModel",
            "description_width": "",
            "_view_module": "@jupyter-widgets/base",
            "_model_module_version": "1.5.0",
            "_view_count": null,
            "_view_module_version": "1.2.0",
            "_model_module": "@jupyter-widgets/controls"
          }
        },
        "2a5f88e8658346bb8ffd3a31a30e29f6": {
          "model_module": "@jupyter-widgets/base",
          "model_name": "LayoutModel",
          "model_module_version": "1.2.0",
          "state": {
            "_view_name": "LayoutView",
            "grid_template_rows": null,
            "right": null,
            "justify_content": null,
            "_view_module": "@jupyter-widgets/base",
            "overflow": null,
            "_model_module_version": "1.2.0",
            "_view_count": null,
            "flex_flow": null,
            "width": null,
            "min_width": null,
            "border": null,
            "align_items": null,
            "bottom": null,
            "_model_module": "@jupyter-widgets/base",
            "top": null,
            "grid_column": null,
            "overflow_y": null,
            "overflow_x": null,
            "grid_auto_flow": null,
            "grid_area": null,
            "grid_template_columns": null,
            "flex": null,
            "_model_name": "LayoutModel",
            "justify_items": null,
            "grid_row": null,
            "max_height": null,
            "align_content": null,
            "visibility": null,
            "align_self": null,
            "height": null,
            "min_height": null,
            "padding": null,
            "grid_auto_rows": null,
            "grid_gap": null,
            "max_width": null,
            "order": null,
            "_view_module_version": "1.2.0",
            "grid_template_areas": null,
            "object_position": null,
            "object_fit": null,
            "grid_auto_columns": null,
            "margin": null,
            "display": null,
            "left": null
          }
        },
        "af455f06a1d54cf9bba3f1e6274a4efb": {
          "model_module": "@jupyter-widgets/controls",
          "model_name": "ProgressStyleModel",
          "model_module_version": "1.5.0",
          "state": {
            "_view_name": "StyleView",
            "_model_name": "ProgressStyleModel",
            "description_width": "",
            "_view_module": "@jupyter-widgets/base",
            "_model_module_version": "1.5.0",
            "_view_count": null,
            "_view_module_version": "1.2.0",
            "bar_color": null,
            "_model_module": "@jupyter-widgets/controls"
          }
        },
        "af1a633e7a984c4fb6239e6589d4de0c": {
          "model_module": "@jupyter-widgets/base",
          "model_name": "LayoutModel",
          "model_module_version": "1.2.0",
          "state": {
            "_view_name": "LayoutView",
            "grid_template_rows": null,
            "right": null,
            "justify_content": null,
            "_view_module": "@jupyter-widgets/base",
            "overflow": null,
            "_model_module_version": "1.2.0",
            "_view_count": null,
            "flex_flow": null,
            "width": null,
            "min_width": null,
            "border": null,
            "align_items": null,
            "bottom": null,
            "_model_module": "@jupyter-widgets/base",
            "top": null,
            "grid_column": null,
            "overflow_y": null,
            "overflow_x": null,
            "grid_auto_flow": null,
            "grid_area": null,
            "grid_template_columns": null,
            "flex": null,
            "_model_name": "LayoutModel",
            "justify_items": null,
            "grid_row": null,
            "max_height": null,
            "align_content": null,
            "visibility": null,
            "align_self": null,
            "height": null,
            "min_height": null,
            "padding": null,
            "grid_auto_rows": null,
            "grid_gap": null,
            "max_width": null,
            "order": null,
            "_view_module_version": "1.2.0",
            "grid_template_areas": null,
            "object_position": null,
            "object_fit": null,
            "grid_auto_columns": null,
            "margin": null,
            "display": null,
            "left": null
          }
        },
        "d8e81414124c42ff83cfb00a1a7d4e49": {
          "model_module": "@jupyter-widgets/controls",
          "model_name": "DescriptionStyleModel",
          "model_module_version": "1.5.0",
          "state": {
            "_view_name": "StyleView",
            "_model_name": "DescriptionStyleModel",
            "description_width": "",
            "_view_module": "@jupyter-widgets/base",
            "_model_module_version": "1.5.0",
            "_view_count": null,
            "_view_module_version": "1.2.0",
            "_model_module": "@jupyter-widgets/controls"
          }
        },
        "f8e9d479a4d5436896c5f6851cfdd02b": {
          "model_module": "@jupyter-widgets/base",
          "model_name": "LayoutModel",
          "model_module_version": "1.2.0",
          "state": {
            "_view_name": "LayoutView",
            "grid_template_rows": null,
            "right": null,
            "justify_content": null,
            "_view_module": "@jupyter-widgets/base",
            "overflow": null,
            "_model_module_version": "1.2.0",
            "_view_count": null,
            "flex_flow": null,
            "width": null,
            "min_width": null,
            "border": null,
            "align_items": null,
            "bottom": null,
            "_model_module": "@jupyter-widgets/base",
            "top": null,
            "grid_column": null,
            "overflow_y": null,
            "overflow_x": null,
            "grid_auto_flow": null,
            "grid_area": null,
            "grid_template_columns": null,
            "flex": null,
            "_model_name": "LayoutModel",
            "justify_items": null,
            "grid_row": null,
            "max_height": null,
            "align_content": null,
            "visibility": null,
            "align_self": null,
            "height": null,
            "min_height": null,
            "padding": null,
            "grid_auto_rows": null,
            "grid_gap": null,
            "max_width": null,
            "order": null,
            "_view_module_version": "1.2.0",
            "grid_template_areas": null,
            "object_position": null,
            "object_fit": null,
            "grid_auto_columns": null,
            "margin": null,
            "display": null,
            "left": null
          }
        },
        "2c26f27f39c142e48bdee1b558c9da6b": {
          "model_module": "@jupyter-widgets/controls",
          "model_name": "HBoxModel",
          "model_module_version": "1.5.0",
          "state": {
            "_view_name": "HBoxView",
            "_dom_classes": [],
            "_model_name": "HBoxModel",
            "_view_module": "@jupyter-widgets/controls",
            "_model_module_version": "1.5.0",
            "_view_count": null,
            "_view_module_version": "1.5.0",
            "box_style": "",
            "layout": "IPY_MODEL_7ad351a9b62f4da59f2f10e8c3e47450",
            "_model_module": "@jupyter-widgets/controls",
            "children": [
              "IPY_MODEL_e9dbb9abfa8441868983feec74f71c43",
              "IPY_MODEL_630d321153784036908fb2e7cfdc465e",
              "IPY_MODEL_cbf8184b683344f681f25696578ad7cb"
            ]
          }
        },
        "7ad351a9b62f4da59f2f10e8c3e47450": {
          "model_module": "@jupyter-widgets/base",
          "model_name": "LayoutModel",
          "model_module_version": "1.2.0",
          "state": {
            "_view_name": "LayoutView",
            "grid_template_rows": null,
            "right": null,
            "justify_content": null,
            "_view_module": "@jupyter-widgets/base",
            "overflow": null,
            "_model_module_version": "1.2.0",
            "_view_count": null,
            "flex_flow": null,
            "width": null,
            "min_width": null,
            "border": null,
            "align_items": null,
            "bottom": null,
            "_model_module": "@jupyter-widgets/base",
            "top": null,
            "grid_column": null,
            "overflow_y": null,
            "overflow_x": null,
            "grid_auto_flow": null,
            "grid_area": null,
            "grid_template_columns": null,
            "flex": null,
            "_model_name": "LayoutModel",
            "justify_items": null,
            "grid_row": null,
            "max_height": null,
            "align_content": null,
            "visibility": null,
            "align_self": null,
            "height": null,
            "min_height": null,
            "padding": null,
            "grid_auto_rows": null,
            "grid_gap": null,
            "max_width": null,
            "order": null,
            "_view_module_version": "1.2.0",
            "grid_template_areas": null,
            "object_position": null,
            "object_fit": null,
            "grid_auto_columns": null,
            "margin": null,
            "display": null,
            "left": null
          }
        },
        "e9dbb9abfa8441868983feec74f71c43": {
          "model_module": "@jupyter-widgets/controls",
          "model_name": "HTMLModel",
          "model_module_version": "1.5.0",
          "state": {
            "_view_name": "HTMLView",
            "style": "IPY_MODEL_99a240753c4e4f049ac46b3630a9ae28",
            "_dom_classes": [],
            "description": "",
            "_model_name": "HTMLModel",
            "placeholder": "​",
            "_view_module": "@jupyter-widgets/controls",
            "_model_module_version": "1.5.0",
            "value": "Epoch 1. Train Loss: 0.4688: 100%",
            "_view_count": null,
            "_view_module_version": "1.5.0",
            "description_tooltip": null,
            "_model_module": "@jupyter-widgets/controls",
            "layout": "IPY_MODEL_0ae39cd684a74e4dafe85d8edf86768b"
          }
        },
        "630d321153784036908fb2e7cfdc465e": {
          "model_module": "@jupyter-widgets/controls",
          "model_name": "FloatProgressModel",
          "model_module_version": "1.5.0",
          "state": {
            "_view_name": "ProgressView",
            "style": "IPY_MODEL_b72f622c9a25484f90a6120c36f65142",
            "_dom_classes": [],
            "description": "",
            "_model_name": "FloatProgressModel",
            "bar_style": "success",
            "max": 1000,
            "_view_module": "@jupyter-widgets/controls",
            "_model_module_version": "1.5.0",
            "value": 1000,
            "_view_count": null,
            "_view_module_version": "1.5.0",
            "orientation": "horizontal",
            "min": 0,
            "description_tooltip": null,
            "_model_module": "@jupyter-widgets/controls",
            "layout": "IPY_MODEL_27ba25bb04ac4a88a655e9fb7f1596d1"
          }
        },
        "cbf8184b683344f681f25696578ad7cb": {
          "model_module": "@jupyter-widgets/controls",
          "model_name": "HTMLModel",
          "model_module_version": "1.5.0",
          "state": {
            "_view_name": "HTMLView",
            "style": "IPY_MODEL_eaaf4eb00f384dd68c55ea707021ed5b",
            "_dom_classes": [],
            "description": "",
            "_model_name": "HTMLModel",
            "placeholder": "​",
            "_view_module": "@jupyter-widgets/controls",
            "_model_module_version": "1.5.0",
            "value": " 1000/1000 [05:24&lt;00:00,  3.71it/s]",
            "_view_count": null,
            "_view_module_version": "1.5.0",
            "description_tooltip": null,
            "_model_module": "@jupyter-widgets/controls",
            "layout": "IPY_MODEL_356adaab49034907b6a79bc4de18fe25"
          }
        },
        "99a240753c4e4f049ac46b3630a9ae28": {
          "model_module": "@jupyter-widgets/controls",
          "model_name": "DescriptionStyleModel",
          "model_module_version": "1.5.0",
          "state": {
            "_view_name": "StyleView",
            "_model_name": "DescriptionStyleModel",
            "description_width": "",
            "_view_module": "@jupyter-widgets/base",
            "_model_module_version": "1.5.0",
            "_view_count": null,
            "_view_module_version": "1.2.0",
            "_model_module": "@jupyter-widgets/controls"
          }
        },
        "0ae39cd684a74e4dafe85d8edf86768b": {
          "model_module": "@jupyter-widgets/base",
          "model_name": "LayoutModel",
          "model_module_version": "1.2.0",
          "state": {
            "_view_name": "LayoutView",
            "grid_template_rows": null,
            "right": null,
            "justify_content": null,
            "_view_module": "@jupyter-widgets/base",
            "overflow": null,
            "_model_module_version": "1.2.0",
            "_view_count": null,
            "flex_flow": null,
            "width": null,
            "min_width": null,
            "border": null,
            "align_items": null,
            "bottom": null,
            "_model_module": "@jupyter-widgets/base",
            "top": null,
            "grid_column": null,
            "overflow_y": null,
            "overflow_x": null,
            "grid_auto_flow": null,
            "grid_area": null,
            "grid_template_columns": null,
            "flex": null,
            "_model_name": "LayoutModel",
            "justify_items": null,
            "grid_row": null,
            "max_height": null,
            "align_content": null,
            "visibility": null,
            "align_self": null,
            "height": null,
            "min_height": null,
            "padding": null,
            "grid_auto_rows": null,
            "grid_gap": null,
            "max_width": null,
            "order": null,
            "_view_module_version": "1.2.0",
            "grid_template_areas": null,
            "object_position": null,
            "object_fit": null,
            "grid_auto_columns": null,
            "margin": null,
            "display": null,
            "left": null
          }
        },
        "b72f622c9a25484f90a6120c36f65142": {
          "model_module": "@jupyter-widgets/controls",
          "model_name": "ProgressStyleModel",
          "model_module_version": "1.5.0",
          "state": {
            "_view_name": "StyleView",
            "_model_name": "ProgressStyleModel",
            "description_width": "",
            "_view_module": "@jupyter-widgets/base",
            "_model_module_version": "1.5.0",
            "_view_count": null,
            "_view_module_version": "1.2.0",
            "bar_color": null,
            "_model_module": "@jupyter-widgets/controls"
          }
        },
        "27ba25bb04ac4a88a655e9fb7f1596d1": {
          "model_module": "@jupyter-widgets/base",
          "model_name": "LayoutModel",
          "model_module_version": "1.2.0",
          "state": {
            "_view_name": "LayoutView",
            "grid_template_rows": null,
            "right": null,
            "justify_content": null,
            "_view_module": "@jupyter-widgets/base",
            "overflow": null,
            "_model_module_version": "1.2.0",
            "_view_count": null,
            "flex_flow": null,
            "width": null,
            "min_width": null,
            "border": null,
            "align_items": null,
            "bottom": null,
            "_model_module": "@jupyter-widgets/base",
            "top": null,
            "grid_column": null,
            "overflow_y": null,
            "overflow_x": null,
            "grid_auto_flow": null,
            "grid_area": null,
            "grid_template_columns": null,
            "flex": null,
            "_model_name": "LayoutModel",
            "justify_items": null,
            "grid_row": null,
            "max_height": null,
            "align_content": null,
            "visibility": null,
            "align_self": null,
            "height": null,
            "min_height": null,
            "padding": null,
            "grid_auto_rows": null,
            "grid_gap": null,
            "max_width": null,
            "order": null,
            "_view_module_version": "1.2.0",
            "grid_template_areas": null,
            "object_position": null,
            "object_fit": null,
            "grid_auto_columns": null,
            "margin": null,
            "display": null,
            "left": null
          }
        },
        "eaaf4eb00f384dd68c55ea707021ed5b": {
          "model_module": "@jupyter-widgets/controls",
          "model_name": "DescriptionStyleModel",
          "model_module_version": "1.5.0",
          "state": {
            "_view_name": "StyleView",
            "_model_name": "DescriptionStyleModel",
            "description_width": "",
            "_view_module": "@jupyter-widgets/base",
            "_model_module_version": "1.5.0",
            "_view_count": null,
            "_view_module_version": "1.2.0",
            "_model_module": "@jupyter-widgets/controls"
          }
        },
        "356adaab49034907b6a79bc4de18fe25": {
          "model_module": "@jupyter-widgets/base",
          "model_name": "LayoutModel",
          "model_module_version": "1.2.0",
          "state": {
            "_view_name": "LayoutView",
            "grid_template_rows": null,
            "right": null,
            "justify_content": null,
            "_view_module": "@jupyter-widgets/base",
            "overflow": null,
            "_model_module_version": "1.2.0",
            "_view_count": null,
            "flex_flow": null,
            "width": null,
            "min_width": null,
            "border": null,
            "align_items": null,
            "bottom": null,
            "_model_module": "@jupyter-widgets/base",
            "top": null,
            "grid_column": null,
            "overflow_y": null,
            "overflow_x": null,
            "grid_auto_flow": null,
            "grid_area": null,
            "grid_template_columns": null,
            "flex": null,
            "_model_name": "LayoutModel",
            "justify_items": null,
            "grid_row": null,
            "max_height": null,
            "align_content": null,
            "visibility": null,
            "align_self": null,
            "height": null,
            "min_height": null,
            "padding": null,
            "grid_auto_rows": null,
            "grid_gap": null,
            "max_width": null,
            "order": null,
            "_view_module_version": "1.2.0",
            "grid_template_areas": null,
            "object_position": null,
            "object_fit": null,
            "grid_auto_columns": null,
            "margin": null,
            "display": null,
            "left": null
          }
        },
        "3e573b0c4b024e25a5dd00bbe06cdf30": {
          "model_module": "@jupyter-widgets/controls",
          "model_name": "HBoxModel",
          "model_module_version": "1.5.0",
          "state": {
            "_view_name": "HBoxView",
            "_dom_classes": [],
            "_model_name": "HBoxModel",
            "_view_module": "@jupyter-widgets/controls",
            "_model_module_version": "1.5.0",
            "_view_count": null,
            "_view_module_version": "1.5.0",
            "box_style": "",
            "layout": "IPY_MODEL_da5a4394367646718bc43cb0f40310d1",
            "_model_module": "@jupyter-widgets/controls",
            "children": [
              "IPY_MODEL_9cec0ac6a2ee4f598f04e23d2af117ce",
              "IPY_MODEL_5f88c26093c84ef882a7c22617853928",
              "IPY_MODEL_d184e95378934019ab5ed576495a70ba"
            ]
          }
        },
        "da5a4394367646718bc43cb0f40310d1": {
          "model_module": "@jupyter-widgets/base",
          "model_name": "LayoutModel",
          "model_module_version": "1.2.0",
          "state": {
            "_view_name": "LayoutView",
            "grid_template_rows": null,
            "right": null,
            "justify_content": null,
            "_view_module": "@jupyter-widgets/base",
            "overflow": null,
            "_model_module_version": "1.2.0",
            "_view_count": null,
            "flex_flow": null,
            "width": null,
            "min_width": null,
            "border": null,
            "align_items": null,
            "bottom": null,
            "_model_module": "@jupyter-widgets/base",
            "top": null,
            "grid_column": null,
            "overflow_y": null,
            "overflow_x": null,
            "grid_auto_flow": null,
            "grid_area": null,
            "grid_template_columns": null,
            "flex": null,
            "_model_name": "LayoutModel",
            "justify_items": null,
            "grid_row": null,
            "max_height": null,
            "align_content": null,
            "visibility": null,
            "align_self": null,
            "height": null,
            "min_height": null,
            "padding": null,
            "grid_auto_rows": null,
            "grid_gap": null,
            "max_width": null,
            "order": null,
            "_view_module_version": "1.2.0",
            "grid_template_areas": null,
            "object_position": null,
            "object_fit": null,
            "grid_auto_columns": null,
            "margin": null,
            "display": null,
            "left": null
          }
        },
        "9cec0ac6a2ee4f598f04e23d2af117ce": {
          "model_module": "@jupyter-widgets/controls",
          "model_name": "HTMLModel",
          "model_module_version": "1.5.0",
          "state": {
            "_view_name": "HTMLView",
            "style": "IPY_MODEL_5ac4226307414e6c9a9616c63ed51cdb",
            "_dom_classes": [],
            "description": "",
            "_model_name": "HTMLModel",
            "placeholder": "​",
            "_view_module": "@jupyter-widgets/controls",
            "_model_module_version": "1.5.0",
            "value": "Epoch 1. Train Loss: 0.4764: 100%",
            "_view_count": null,
            "_view_module_version": "1.5.0",
            "description_tooltip": null,
            "_model_module": "@jupyter-widgets/controls",
            "layout": "IPY_MODEL_e9462750a5eb4c168f0d52d0feac3ca3"
          }
        },
        "5f88c26093c84ef882a7c22617853928": {
          "model_module": "@jupyter-widgets/controls",
          "model_name": "FloatProgressModel",
          "model_module_version": "1.5.0",
          "state": {
            "_view_name": "ProgressView",
            "style": "IPY_MODEL_3a41badacc2e434497972b8b53dad6ed",
            "_dom_classes": [],
            "description": "",
            "_model_name": "FloatProgressModel",
            "bar_style": "success",
            "max": 1000,
            "_view_module": "@jupyter-widgets/controls",
            "_model_module_version": "1.5.0",
            "value": 1000,
            "_view_count": null,
            "_view_module_version": "1.5.0",
            "orientation": "horizontal",
            "min": 0,
            "description_tooltip": null,
            "_model_module": "@jupyter-widgets/controls",
            "layout": "IPY_MODEL_e310f4d846124a768d08f7edd9f62045"
          }
        },
        "d184e95378934019ab5ed576495a70ba": {
          "model_module": "@jupyter-widgets/controls",
          "model_name": "HTMLModel",
          "model_module_version": "1.5.0",
          "state": {
            "_view_name": "HTMLView",
            "style": "IPY_MODEL_87428e3a6e184068be72bbc4e988b410",
            "_dom_classes": [],
            "description": "",
            "_model_name": "HTMLModel",
            "placeholder": "​",
            "_view_module": "@jupyter-widgets/controls",
            "_model_module_version": "1.5.0",
            "value": " 1000/1000 [02:36&lt;00:00,  6.72it/s]",
            "_view_count": null,
            "_view_module_version": "1.5.0",
            "description_tooltip": null,
            "_model_module": "@jupyter-widgets/controls",
            "layout": "IPY_MODEL_157fb224042543609e98706e67dad1bf"
          }
        },
        "5ac4226307414e6c9a9616c63ed51cdb": {
          "model_module": "@jupyter-widgets/controls",
          "model_name": "DescriptionStyleModel",
          "model_module_version": "1.5.0",
          "state": {
            "_view_name": "StyleView",
            "_model_name": "DescriptionStyleModel",
            "description_width": "",
            "_view_module": "@jupyter-widgets/base",
            "_model_module_version": "1.5.0",
            "_view_count": null,
            "_view_module_version": "1.2.0",
            "_model_module": "@jupyter-widgets/controls"
          }
        },
        "e9462750a5eb4c168f0d52d0feac3ca3": {
          "model_module": "@jupyter-widgets/base",
          "model_name": "LayoutModel",
          "model_module_version": "1.2.0",
          "state": {
            "_view_name": "LayoutView",
            "grid_template_rows": null,
            "right": null,
            "justify_content": null,
            "_view_module": "@jupyter-widgets/base",
            "overflow": null,
            "_model_module_version": "1.2.0",
            "_view_count": null,
            "flex_flow": null,
            "width": null,
            "min_width": null,
            "border": null,
            "align_items": null,
            "bottom": null,
            "_model_module": "@jupyter-widgets/base",
            "top": null,
            "grid_column": null,
            "overflow_y": null,
            "overflow_x": null,
            "grid_auto_flow": null,
            "grid_area": null,
            "grid_template_columns": null,
            "flex": null,
            "_model_name": "LayoutModel",
            "justify_items": null,
            "grid_row": null,
            "max_height": null,
            "align_content": null,
            "visibility": null,
            "align_self": null,
            "height": null,
            "min_height": null,
            "padding": null,
            "grid_auto_rows": null,
            "grid_gap": null,
            "max_width": null,
            "order": null,
            "_view_module_version": "1.2.0",
            "grid_template_areas": null,
            "object_position": null,
            "object_fit": null,
            "grid_auto_columns": null,
            "margin": null,
            "display": null,
            "left": null
          }
        },
        "3a41badacc2e434497972b8b53dad6ed": {
          "model_module": "@jupyter-widgets/controls",
          "model_name": "ProgressStyleModel",
          "model_module_version": "1.5.0",
          "state": {
            "_view_name": "StyleView",
            "_model_name": "ProgressStyleModel",
            "description_width": "",
            "_view_module": "@jupyter-widgets/base",
            "_model_module_version": "1.5.0",
            "_view_count": null,
            "_view_module_version": "1.2.0",
            "bar_color": null,
            "_model_module": "@jupyter-widgets/controls"
          }
        },
        "e310f4d846124a768d08f7edd9f62045": {
          "model_module": "@jupyter-widgets/base",
          "model_name": "LayoutModel",
          "model_module_version": "1.2.0",
          "state": {
            "_view_name": "LayoutView",
            "grid_template_rows": null,
            "right": null,
            "justify_content": null,
            "_view_module": "@jupyter-widgets/base",
            "overflow": null,
            "_model_module_version": "1.2.0",
            "_view_count": null,
            "flex_flow": null,
            "width": null,
            "min_width": null,
            "border": null,
            "align_items": null,
            "bottom": null,
            "_model_module": "@jupyter-widgets/base",
            "top": null,
            "grid_column": null,
            "overflow_y": null,
            "overflow_x": null,
            "grid_auto_flow": null,
            "grid_area": null,
            "grid_template_columns": null,
            "flex": null,
            "_model_name": "LayoutModel",
            "justify_items": null,
            "grid_row": null,
            "max_height": null,
            "align_content": null,
            "visibility": null,
            "align_self": null,
            "height": null,
            "min_height": null,
            "padding": null,
            "grid_auto_rows": null,
            "grid_gap": null,
            "max_width": null,
            "order": null,
            "_view_module_version": "1.2.0",
            "grid_template_areas": null,
            "object_position": null,
            "object_fit": null,
            "grid_auto_columns": null,
            "margin": null,
            "display": null,
            "left": null
          }
        },
        "87428e3a6e184068be72bbc4e988b410": {
          "model_module": "@jupyter-widgets/controls",
          "model_name": "DescriptionStyleModel",
          "model_module_version": "1.5.0",
          "state": {
            "_view_name": "StyleView",
            "_model_name": "DescriptionStyleModel",
            "description_width": "",
            "_view_module": "@jupyter-widgets/base",
            "_model_module_version": "1.5.0",
            "_view_count": null,
            "_view_module_version": "1.2.0",
            "_model_module": "@jupyter-widgets/controls"
          }
        },
        "157fb224042543609e98706e67dad1bf": {
          "model_module": "@jupyter-widgets/base",
          "model_name": "LayoutModel",
          "model_module_version": "1.2.0",
          "state": {
            "_view_name": "LayoutView",
            "grid_template_rows": null,
            "right": null,
            "justify_content": null,
            "_view_module": "@jupyter-widgets/base",
            "overflow": null,
            "_model_module_version": "1.2.0",
            "_view_count": null,
            "flex_flow": null,
            "width": null,
            "min_width": null,
            "border": null,
            "align_items": null,
            "bottom": null,
            "_model_module": "@jupyter-widgets/base",
            "top": null,
            "grid_column": null,
            "overflow_y": null,
            "overflow_x": null,
            "grid_auto_flow": null,
            "grid_area": null,
            "grid_template_columns": null,
            "flex": null,
            "_model_name": "LayoutModel",
            "justify_items": null,
            "grid_row": null,
            "max_height": null,
            "align_content": null,
            "visibility": null,
            "align_self": null,
            "height": null,
            "min_height": null,
            "padding": null,
            "grid_auto_rows": null,
            "grid_gap": null,
            "max_width": null,
            "order": null,
            "_view_module_version": "1.2.0",
            "grid_template_areas": null,
            "object_position": null,
            "object_fit": null,
            "grid_auto_columns": null,
            "margin": null,
            "display": null,
            "left": null
          }
        }
      }
    },
    "accelerator": "GPU"
  },
  "cells": [
    {
      "cell_type": "markdown",
      "metadata": {
        "id": "Ot3c4fjZwC4T"
      },
      "source": [
        "<img src=\"https://s8.hostingkartinok.com/uploads/images/2018/08/308b49fcfbc619d629fe4604bceb67ac.jpg\" width=500, height=450>\n",
        "<h3 style=\"text-align: center;\"><b>Физтех-Школа Прикладной математики и информатики (ФПМИ) МФТИ</b></h3>"
      ]
    },
    {
      "cell_type": "markdown",
      "metadata": {
        "id": "P2JdzEXmwRU5"
      },
      "source": [
        "---"
      ]
    },
    {
      "cell_type": "markdown",
      "metadata": {
        "id": "eYtJxkhKpYK2"
      },
      "source": [
        "# Embeddings\n",
        "\n",
        "Привет! В этом домашнем задании мы с помощью эмбеддингов решим задачу семантической классификации твитов.\n",
        "\n",
        "Для этого мы воспользуемся предобученными эмбеддингами word2vec."
      ]
    },
    {
      "cell_type": "markdown",
      "metadata": {
        "id": "jBOdoFS8AdpP"
      },
      "source": [
        "Для начала скачаем датасет для семантической классификации твитов:"
      ]
    },
    {
      "cell_type": "code",
      "metadata": {
        "colab": {
          "base_uri": "https://localhost:8080/"
        },
        "id": "wXjhtsfF_gBK",
        "outputId": "c1564099-cd32-4335-9e17-433da670c46d"
      },
      "source": [
        "!gdown https://drive.google.com/uc?id=1eE1FiUkXkcbw0McId4i7qY-L8hH-_Qph&export=download\n",
        "!unzip archive.zip"
      ],
      "execution_count": 1,
      "outputs": [
        {
          "output_type": "stream",
          "name": "stdout",
          "text": [
            "Downloading...\n",
            "From: https://drive.google.com/uc?id=1eE1FiUkXkcbw0McId4i7qY-L8hH-_Qph\n",
            "To: /content/archive.zip\n",
            "100% 84.9M/84.9M [00:00<00:00, 138MB/s] \n",
            "Archive:  archive.zip\n",
            "  inflating: training.1600000.processed.noemoticon.csv  \n"
          ]
        }
      ]
    },
    {
      "cell_type": "markdown",
      "metadata": {
        "id": "Sh6wW-K53Mle"
      },
      "source": [
        "Импортируем нужные библиотеки:"
      ]
    },
    {
      "cell_type": "code",
      "metadata": {
        "id": "A2Y5CHRm6NFe"
      },
      "source": [
        "import math\n",
        "import random\n",
        "import string\n",
        "\n",
        "import numpy as np\n",
        "import pandas as pd\n",
        "import seaborn as sns\n",
        "\n",
        "import torch\n",
        "import nltk\n",
        "import gensim\n",
        "import gensim.downloader as api"
      ],
      "execution_count": 2,
      "outputs": []
    },
    {
      "cell_type": "code",
      "metadata": {
        "id": "73Lb0wbESrgQ"
      },
      "source": [
        "random.seed(42)\n",
        "np.random.seed(42)\n",
        "torch.random.manual_seed(42)\n",
        "torch.cuda.random.manual_seed(42)\n",
        "torch.cuda.random.manual_seed_all(42)\n",
        "\n",
        "device = \"cuda\" if torch.cuda.is_available() else \"cpu\""
      ],
      "execution_count": 3,
      "outputs": []
    },
    {
      "cell_type": "code",
      "metadata": {
        "id": "L_Wv-4bu83Fl"
      },
      "source": [
        "data = pd.read_csv(\"training.1600000.processed.noemoticon.csv\", \n",
        "                   encoding=\"latin\", \n",
        "                   header=None, \n",
        "                   names=[\"emotion\", \"id\", \"date\", \"flag\", \"user\", \"text\"])"
      ],
      "execution_count": 4,
      "outputs": []
    },
    {
      "cell_type": "markdown",
      "metadata": {
        "id": "RY1pvYDS3Yuj"
      },
      "source": [
        "Посмотрим на данные:"
      ]
    },
    {
      "cell_type": "code",
      "metadata": {
        "colab": {
          "base_uri": "https://localhost:8080/",
          "height": 204
        },
        "id": "jST2tjgjCTWD",
        "outputId": "ef6c6f30-ce83-4017-ec75-c6d552906f8a"
      },
      "source": [
        "data.head()"
      ],
      "execution_count": null,
      "outputs": [
        {
          "output_type": "execute_result",
          "data": {
            "text/html": [
              "<div>\n",
              "<style scoped>\n",
              "    .dataframe tbody tr th:only-of-type {\n",
              "        vertical-align: middle;\n",
              "    }\n",
              "\n",
              "    .dataframe tbody tr th {\n",
              "        vertical-align: top;\n",
              "    }\n",
              "\n",
              "    .dataframe thead th {\n",
              "        text-align: right;\n",
              "    }\n",
              "</style>\n",
              "<table border=\"1\" class=\"dataframe\">\n",
              "  <thead>\n",
              "    <tr style=\"text-align: right;\">\n",
              "      <th></th>\n",
              "      <th>emotion</th>\n",
              "      <th>id</th>\n",
              "      <th>date</th>\n",
              "      <th>flag</th>\n",
              "      <th>user</th>\n",
              "      <th>text</th>\n",
              "    </tr>\n",
              "  </thead>\n",
              "  <tbody>\n",
              "    <tr>\n",
              "      <th>0</th>\n",
              "      <td>0</td>\n",
              "      <td>1467810369</td>\n",
              "      <td>Mon Apr 06 22:19:45 PDT 2009</td>\n",
              "      <td>NO_QUERY</td>\n",
              "      <td>_TheSpecialOne_</td>\n",
              "      <td>@switchfoot http://twitpic.com/2y1zl - Awww, t...</td>\n",
              "    </tr>\n",
              "    <tr>\n",
              "      <th>1</th>\n",
              "      <td>0</td>\n",
              "      <td>1467810672</td>\n",
              "      <td>Mon Apr 06 22:19:49 PDT 2009</td>\n",
              "      <td>NO_QUERY</td>\n",
              "      <td>scotthamilton</td>\n",
              "      <td>is upset that he can't update his Facebook by ...</td>\n",
              "    </tr>\n",
              "    <tr>\n",
              "      <th>2</th>\n",
              "      <td>0</td>\n",
              "      <td>1467810917</td>\n",
              "      <td>Mon Apr 06 22:19:53 PDT 2009</td>\n",
              "      <td>NO_QUERY</td>\n",
              "      <td>mattycus</td>\n",
              "      <td>@Kenichan I dived many times for the ball. Man...</td>\n",
              "    </tr>\n",
              "    <tr>\n",
              "      <th>3</th>\n",
              "      <td>0</td>\n",
              "      <td>1467811184</td>\n",
              "      <td>Mon Apr 06 22:19:57 PDT 2009</td>\n",
              "      <td>NO_QUERY</td>\n",
              "      <td>ElleCTF</td>\n",
              "      <td>my whole body feels itchy and like its on fire</td>\n",
              "    </tr>\n",
              "    <tr>\n",
              "      <th>4</th>\n",
              "      <td>0</td>\n",
              "      <td>1467811193</td>\n",
              "      <td>Mon Apr 06 22:19:57 PDT 2009</td>\n",
              "      <td>NO_QUERY</td>\n",
              "      <td>Karoli</td>\n",
              "      <td>@nationwideclass no, it's not behaving at all....</td>\n",
              "    </tr>\n",
              "  </tbody>\n",
              "</table>\n",
              "</div>"
            ],
            "text/plain": [
              "   emotion  ...                                               text\n",
              "0        0  ...  @switchfoot http://twitpic.com/2y1zl - Awww, t...\n",
              "1        0  ...  is upset that he can't update his Facebook by ...\n",
              "2        0  ...  @Kenichan I dived many times for the ball. Man...\n",
              "3        0  ...    my whole body feels itchy and like its on fire \n",
              "4        0  ...  @nationwideclass no, it's not behaving at all....\n",
              "\n",
              "[5 rows x 6 columns]"
            ]
          },
          "metadata": {},
          "execution_count": 5
        }
      ]
    },
    {
      "cell_type": "code",
      "metadata": {
        "colab": {
          "base_uri": "https://localhost:8080/"
        },
        "id": "yjUcp2uQsQwl",
        "outputId": "abe09025-d1c6-4a32-cfce-caa3b54db9f5"
      },
      "source": [
        "data.shape"
      ],
      "execution_count": null,
      "outputs": [
        {
          "output_type": "execute_result",
          "data": {
            "text/plain": [
              "(1600000, 6)"
            ]
          },
          "metadata": {},
          "execution_count": 6
        }
      ]
    },
    {
      "cell_type": "markdown",
      "metadata": {
        "id": "OhbR5JJyA2VW"
      },
      "source": [
        "Выведем несколько примеров твитов, чтобы понимать, с чем мы имеем дело:"
      ]
    },
    {
      "cell_type": "code",
      "metadata": {
        "colab": {
          "base_uri": "https://localhost:8080/"
        },
        "id": "kCBwe0wR83C2",
        "outputId": "58cf118d-06e9-4207-cd0c-d7bb27016102"
      },
      "source": [
        "examples = data[\"text\"].sample(10)\n",
        "print(\"\\n\".join(examples))"
      ],
      "execution_count": null,
      "outputs": [
        {
          "output_type": "stream",
          "name": "stdout",
          "text": [
            "@chrishasboobs AHHH I HOPE YOUR OK!!! \n",
            "@misstoriblack cool , i have no tweet apps  for my razr 2\n",
            "@TiannaChaos i know  just family drama. its lame.hey next time u hang out with kim n u guys like have a sleepover or whatever, ill call u\n",
            "School email won't open  and I have geography stuff on there to revise! *Stupid School* :'(\n",
            "upper airways problem \n",
            "Going to miss Pastor's sermon on Faith... \n",
            "on lunch....dj should come eat with me \n",
            "@piginthepoke oh why are you feeling like that? \n",
            "gahh noo!peyton needs to live!this is horrible \n",
            "@mrstessyman thank you glad you like it! There is a product review bit on the site  Enjoy knitting it!\n"
          ]
        }
      ]
    },
    {
      "cell_type": "markdown",
      "metadata": {
        "id": "GvcYW8aX3mKt"
      },
      "source": [
        "Как видим, тексты твитов очень \"грязные\". Нужно предобработать датасет, прежде чем строить для него модель классификации.\n",
        "\n",
        "Чтобы сравнивать различные методы обработки текста/модели/прочее, разделим датасет на dev(для обучения модели) и test(для получения качества модели)."
      ]
    },
    {
      "cell_type": "code",
      "metadata": {
        "id": "f8hUK-jnQg6O"
      },
      "source": [
        "indexes = np.arange(data.shape[0])\n",
        "np.random.shuffle(indexes)\n",
        "dev_size = math.ceil(data.shape[0] * 0.8) # округление вверх\n",
        "\n",
        "dev_indexes = indexes[:dev_size]\n",
        "test_indexes = indexes[dev_size:]\n",
        "\n",
        "dev_data = data.iloc[dev_indexes]\n",
        "test_data = data.iloc[test_indexes]\n",
        "\n",
        "dev_data.reset_index(drop=True, inplace=True)\n",
        "test_data.reset_index(drop=True, inplace=True)"
      ],
      "execution_count": 5,
      "outputs": []
    },
    {
      "cell_type": "markdown",
      "metadata": {
        "id": "6ivcpeFoCnZA"
      },
      "source": [
        "## Обработка текста"
      ]
    },
    {
      "cell_type": "markdown",
      "metadata": {
        "id": "Df4nca285Dar"
      },
      "source": [
        "Токенизируем текст, избавимся от знаков пунктуации и выкинем все слова, состоящие менее чем из 4 букв:"
      ]
    },
    {
      "cell_type": "code",
      "metadata": {
        "colab": {
          "base_uri": "https://localhost:8080/"
        },
        "id": "D6a4_HCbRxZN",
        "outputId": "ec550ba6-676a-42fb-e3cc-cd25e6b9a2f7"
      },
      "source": [
        "nltk.download('stopwords')\n",
        "from nltk.corpus import stopwords\n",
        "stopWords = set(stopwords.words('english'))\n",
        "\n",
        "import re\n",
        "\n",
        "nltk.download('wordnet')"
      ],
      "execution_count": 6,
      "outputs": [
        {
          "output_type": "stream",
          "name": "stdout",
          "text": [
            "[nltk_data] Downloading package stopwords to /root/nltk_data...\n",
            "[nltk_data]   Unzipping corpora/stopwords.zip.\n",
            "[nltk_data] Downloading package wordnet to /root/nltk_data...\n",
            "[nltk_data]   Unzipping corpora/wordnet.zip.\n"
          ]
        },
        {
          "output_type": "execute_result",
          "data": {
            "text/plain": [
              "True"
            ]
          },
          "metadata": {},
          "execution_count": 6
        }
      ]
    },
    {
      "cell_type": "code",
      "metadata": {
        "colab": {
          "base_uri": "https://localhost:8080/",
          "height": 36
        },
        "id": "cOfFaRPES5Rn",
        "outputId": "194dbb0a-b624-4572-bfa3-532be41d1ccd"
      },
      "source": [
        "dev_data[\"text\"][333]"
      ],
      "execution_count": null,
      "outputs": [
        {
          "output_type": "execute_result",
          "data": {
            "application/vnd.google.colaboratory.intrinsic+json": {
              "type": "string"
            },
            "text/plain": [
              "\"@newcastleblog this is a brilliant idea, can't wait til its all up and running \""
            ]
          },
          "metadata": {},
          "execution_count": 13
        }
      ]
    },
    {
      "cell_type": "markdown",
      "metadata": {
        "id": "5-IF0FWWL6PU"
      },
      "source": [
        "Попробуем разные виды токенизации, чтобы сравнить, какая лучше работает в данном случае."
      ]
    },
    {
      "cell_type": "markdown",
      "metadata": {
        "id": "C4JNKIrx9bTA"
      },
      "source": [
        "Токенизация с nltk.WordPunctTokenizer()"
      ]
    },
    {
      "cell_type": "code",
      "metadata": {
        "colab": {
          "base_uri": "https://localhost:8080/"
        },
        "id": "nsNHNDES9ZVF",
        "outputId": "893253ad-ddb3-46ac-8b9f-4949d7a17d35"
      },
      "source": [
        "tokenizer = nltk.WordPunctTokenizer()\n",
        "line = tokenizer.tokenize(dev_data[\"text\"][333].lower())\n",
        "print(\" \".join(line))"
      ],
      "execution_count": null,
      "outputs": [
        {
          "output_type": "stream",
          "name": "stdout",
          "text": [
            "@ newcastleblog this is a brilliant idea , can ' t wait til its all up and running\n"
          ]
        }
      ]
    },
    {
      "cell_type": "code",
      "metadata": {
        "colab": {
          "base_uri": "https://localhost:8080/"
        },
        "id": "GcBS_u_hTuxp",
        "outputId": "c666f782-aa54-46a7-e270-c6c27ef58602"
      },
      "source": [
        "# string.punctuation = !\"#$%&'()*+, -./:;<=>?@[\\]^_`{|}~\n",
        "\n",
        "filtered_line = [w for w in line if all(c not in string.punctuation for c in w) and len(w) > 2]\n",
        "print(\" \".join(filtered_line))"
      ],
      "execution_count": null,
      "outputs": [
        {
          "output_type": "stream",
          "name": "stdout",
          "text": [
            "newcastleblog this brilliant idea can wait til its all and running\n"
          ]
        }
      ]
    },
    {
      "cell_type": "markdown",
      "metadata": {
        "id": "HQ5HIdOE9jQr"
      },
      "source": [
        "Токенизация через регулярные выражения"
      ]
    },
    {
      "cell_type": "code",
      "metadata": {
        "colab": {
          "base_uri": "https://localhost:8080/"
        },
        "id": "uJ0LRGqsSd7i",
        "outputId": "63f1842f-f54c-45d0-d62f-bc52072b2a65"
      },
      "source": [
        "line = re.findall('[a-zA-Z]+', dev_data[\"text\"][333].lower())\n",
        "filtered_line = [w for w in line if len(w) > 2]\n",
        "print(\" \".join(filtered_line))"
      ],
      "execution_count": null,
      "outputs": [
        {
          "output_type": "stream",
          "name": "stdout",
          "text": [
            "newcastleblog this brilliant idea can wait til its all and running\n"
          ]
        }
      ]
    },
    {
      "cell_type": "markdown",
      "metadata": {
        "id": "4XdX2oe4Mgsj"
      },
      "source": [
        "Лемматизация"
      ]
    },
    {
      "cell_type": "code",
      "metadata": {
        "colab": {
          "base_uri": "https://localhost:8080/"
        },
        "id": "eCHpRlDITofa",
        "outputId": "1206d848-9a31-444a-adfd-b446389b309a"
      },
      "source": [
        "wnl = nltk.WordNetLemmatizer()\n",
        "\n",
        "filtered_line = [wnl.lemmatize(word) for word in line if word not in stopWords]\n",
        "filtered_line"
      ],
      "execution_count": null,
      "outputs": [
        {
          "output_type": "execute_result",
          "data": {
            "text/plain": [
              "['newcastleblog', 'brilliant', 'idea', 'wait', 'til', 'running']"
            ]
          },
          "metadata": {},
          "execution_count": 23
        }
      ]
    },
    {
      "cell_type": "markdown",
      "metadata": {
        "id": "cuFmlXkC6E7X"
      },
      "source": [
        "Загрузим предобученную модель эмбеддингов. \n",
        "\n",
        "Если хотите, можно попробовать другую. Полный список можно найти здесь: https://github.com/RaRe-Technologies/gensim-data.\n",
        "\n",
        "Данная модель выдает эмбеддинги для **слов**. Строить по эмбеддингам слов эмбеддинги предложений мы будем ниже."
      ]
    },
    {
      "cell_type": "code",
      "metadata": {
        "colab": {
          "base_uri": "https://localhost:8080/"
        },
        "id": "cACJpje2T5bc",
        "outputId": "1f8c3ed6-ddbf-4b88-83a2-c178ed601df6"
      },
      "source": [
        "word2vec = api.load(\"word2vec-google-news-300\")"
      ],
      "execution_count": 7,
      "outputs": [
        {
          "output_type": "stream",
          "name": "stdout",
          "text": [
            "[==================================================] 100.0% 1662.8/1662.8MB downloaded\n"
          ]
        }
      ]
    },
    {
      "cell_type": "code",
      "metadata": {
        "colab": {
          "base_uri": "https://localhost:8080/"
        },
        "id": "NafmYHrkT5YD",
        "outputId": "348fc1bd-310d-4262-e714-dbce3b22d037"
      },
      "source": [
        "emb_line = [word2vec.get_vector(w) for w in filtered_line if w in word2vec and len(w) > 3]\n",
        "print(sum(emb_line).shape)"
      ],
      "execution_count": null,
      "outputs": [
        {
          "output_type": "stream",
          "name": "stdout",
          "text": [
            "(300,)\n"
          ]
        }
      ]
    },
    {
      "cell_type": "markdown",
      "metadata": {
        "id": "LTS6LCkd6_E7"
      },
      "source": [
        "Нормализуем эмбеддинги, прежде чем обучать на них сеть. \n",
        "(наверное, вы помните, что нейронные сети гораздо лучше обучаются на нормализованных данных)"
      ]
    },
    {
      "cell_type": "code",
      "metadata": {
        "colab": {
          "base_uri": "https://localhost:8080/"
        },
        "id": "3PyLTZ6xf3Oq",
        "outputId": "e530b6fa-eaab-4e94-abdf-7533ce2c813e"
      },
      "source": [
        "mean = np.mean(word2vec.vectors, 0)\n",
        "std = np.std(word2vec.vectors, 0)\n",
        "norm_emb_line = [(word2vec.get_vector(w) - mean) / std for w in filtered_line \\\n",
        "                 if w in word2vec and len(w) > 3]\n",
        "print(sum(norm_emb_line).shape)\n",
        "print([all(norm_emb_line[i] == emb_line[i]) for i in range(len(emb_line))])"
      ],
      "execution_count": null,
      "outputs": [
        {
          "output_type": "stream",
          "name": "stdout",
          "text": [
            "(300,)\n",
            "[False, False, False, False, False, False, False, False, False, False, False]\n"
          ]
        }
      ]
    },
    {
      "cell_type": "markdown",
      "metadata": {
        "id": "q7vm6Ppd7Ubw"
      },
      "source": [
        "Сделаем датасет, который будет по запросу возвращать подготовленные данные."
      ]
    },
    {
      "cell_type": "code",
      "metadata": {
        "id": "b4eZajF7pZ1X"
      },
      "source": [
        "from torch.utils.data import Dataset, random_split\n",
        "\n",
        "class TwitterDataset(Dataset):\n",
        "    def __init__(self, data: pd.DataFrame, feature_column: str, \n",
        "                 target_column: str, word2vec: gensim.models.Word2Vec):\n",
        "        self.tokenizer = nltk.WordPunctTokenizer()\n",
        "        # self.tokenizer = re\n",
        "        # self.lemmatizer = nltk.WordNetLemmatizer()\n",
        "        # self.stopwords = set(stopwords.words('english'))\n",
        "        \n",
        "        self.data = data\n",
        "\n",
        "        self.feature_column = feature_column\n",
        "        self.target_column = target_column\n",
        "\n",
        "        self.word2vec = word2vec\n",
        "\n",
        "        self.label2num = lambda label: 0 if label == 0 else 1\n",
        "        self.mean = np.mean(word2vec.vectors, axis=0)\n",
        "        self.std = np.std(word2vec.vectors, axis=0)\n",
        "\n",
        "    def __getitem__(self, item):\n",
        "        text = self.data[self.feature_column][item]\n",
        "        label = self.label2num(self.data[self.target_column][item])\n",
        "\n",
        "        tokens = self.get_tokens_(text)\n",
        "        embeddings = self.get_embeddings_(tokens)\n",
        "\n",
        "        return {\"feature\": embeddings, \"target\": label}\n",
        "\n",
        "    def get_tokens_(self, text):\n",
        "\n",
        "        # Получи все токены из текста и профильтруй их\n",
        "        line = self.tokenizer.tokenize(text.lower())\n",
        "        # tokens = self.tokenizer.findall('[a-zA-Z]+', text.lower())\n",
        "\n",
        "        оставила слова в 3 буквы, т.к. они распространены в английском, и это дает качество чуть лучше, чем слова от 4 букв\n",
        "        tokens = [w for w in line if all(c not in string.punctuation for c in w)]\n",
        "        tokens = [w for w in tokens if len(w) > 2] \n",
        "        # tokens = [w for w in tokens if w not in self.stopwords and len(w) > 2] \n",
        "        # tokens = [self.lemmatizer.lemmatize(w) for w in tokens] \n",
        " \n",
        "        return tokens\n",
        "\n",
        "    def get_embeddings_(self, tokens):\n",
        "        # Получи эмбеддинги слов и усредни их\n",
        "        embeddings = [(self.word2vec.get_vector(w) - self.mean) / self.std \\\n",
        "                      for w in tokens if w in self.word2vec]                                                                               \n",
        "                                                                                                        \n",
        "        if len(embeddings) == 0:\n",
        "            embeddings = np.zeros((1, self.word2vec.vector_size))\n",
        "        else:\n",
        "            embeddings = np.array(embeddings)\n",
        "            if len(embeddings.shape) == 1:\n",
        "                embeddings = embeddings.reshape(1, -1)\n",
        "\n",
        "        return embeddings\n",
        "\n",
        "    def __len__(self):\n",
        "        return self.data.shape[0]"
      ],
      "execution_count": null,
      "outputs": []
    },
    {
      "cell_type": "code",
      "metadata": {
        "id": "IZJpttbXpZyz"
      },
      "source": [
        "dev = TwitterDataset(dev_data, \"text\", \"emotion\", word2vec)"
      ],
      "execution_count": null,
      "outputs": []
    },
    {
      "cell_type": "markdown",
      "metadata": {
        "id": "Sr-aetH0_LH1"
      },
      "source": [
        "Отлично, мы готовы с помощью эмбеддингов слов превращать твиты в векторы и обучать нейронную сеть.\n",
        "\n",
        "Превращать твиты в векторы, используя эмбеддинги слов, можно несколькими способами. А именно такими:"
      ]
    },
    {
      "cell_type": "markdown",
      "metadata": {
        "id": "4AhHrWa196Yc"
      },
      "source": [
        "## Average embedding (2 балла)\n",
        "---\n",
        "Это самый простой вариант, как получить вектор предложения, используя векторные представления слов в предложении. А именно: вектор предложения есть средний вектор всех слов в предложении (которые остались после токенизации и удаления коротких слов, конечно). "
      ]
    },
    {
      "cell_type": "code",
      "metadata": {
        "colab": {
          "base_uri": "https://localhost:8080/"
        },
        "id": "ScdokSW-994t",
        "outputId": "38c1c5a4-df34-4bb9-abc1-bbc3dafec5e1"
      },
      "source": [
        "indexes = np.arange(len(dev))\n",
        "np.random.shuffle(indexes)\n",
        "# Взяли все индексы (:) и поделили их число на 1000 (:1000), осталось 1280 вместо 1280000\n",
        "example_indexes = indexes[::1000] \n",
        "\n",
        "examples = {\"features\": [np.mean(dev[i][\"feature\"], axis=0) for i in example_indexes],     \n",
        "            \"targets\": [dev[i][\"target\"] for i in example_indexes]}\n",
        "print(len(examples[\"features\"]))"
      ],
      "execution_count": null,
      "outputs": [
        {
          "output_type": "stream",
          "name": "stdout",
          "text": [
            "1280\n"
          ]
        }
      ]
    },
    {
      "cell_type": "markdown",
      "metadata": {
        "id": "1yGQ_lOx_1NL"
      },
      "source": [
        "Давайте сделаем визуализацию полученных векторов твитов тренировочного (dev) датасета. Так мы увидим, насколько хорошо твиты с разными target значениями отделяются друг от друга, т.е. насколько хорошо усреднение эмбеддингов слов предложения передает информацию о предложении."
      ]
    },
    {
      "cell_type": "markdown",
      "metadata": {
        "id": "LZwFksd_8uYO"
      },
      "source": [
        "Для визуализации векторов надо получить их проекцию на плоскость. Сделаем это с помощью `PCA`. Если хотите, можете вместо PCA использовать TSNE: так у вас получится более точная проекция на плоскость (а значит, более информативная, т.е. отражающая реальное положение векторов твитов в пространстве). Но TSNE будет работать намного дольше."
      ]
    },
    {
      "cell_type": "code",
      "metadata": {
        "id": "aKFZRSHdtIac"
      },
      "source": [
        "from sklearn.decomposition import PCA\n",
        "\n",
        "pca = PCA(n_components=2)\n",
        "# Обучи PCA на эмбеддингах слов\n",
        "examples[\"transformed_features\"] = pca.fit_transform(examples[\"features\"]) "
      ],
      "execution_count": null,
      "outputs": []
    },
    {
      "cell_type": "code",
      "metadata": {
        "id": "szEOWdiNtIX8"
      },
      "source": [
        "import bokeh.models as bm, bokeh.plotting as pl\n",
        "from bokeh.io import output_notebook\n",
        "output_notebook()\n",
        "\n",
        "def draw_vectors(x, y, radius=10, alpha=0.25, color='blue',\n",
        "                 width=600, height=400, show=True, **kwargs):\n",
        "    \"\"\" draws an interactive plot for data points with auxilirary info on hover \"\"\"\n",
        "    data_source = bm.ColumnDataSource({ 'x' : x, 'y' : y, 'color': color, **kwargs })\n",
        "\n",
        "    fig = pl.figure(active_scroll='wheel_zoom', width=width, height=height)\n",
        "    fig.scatter('x', 'y', size=radius, color='color', alpha=alpha, source=data_source)\n",
        "\n",
        "    fig.add_tools(bm.HoverTool(tooltips=[(key, \"@\" + key) for key in kwargs.keys()]))\n",
        "    if show: pl.show(fig)\n",
        "    return fig"
      ],
      "execution_count": null,
      "outputs": []
    },
    {
      "cell_type": "code",
      "metadata": {
        "colab": {
          "base_uri": "https://localhost:8080/",
          "height": 434
        },
        "id": "7OONK8ldtIWe",
        "outputId": "cc522572-2806-4eb6-8b63-d15c37b52627"
      },
      "source": [
        "draw_vectors(\n",
        "    examples[\"transformed_features\"][:, 0], \n",
        "    examples[\"transformed_features\"][:, 1], \n",
        "    color=[[\"red\", \"blue\"][t] for t in examples[\"targets\"]]\n",
        "    )"
      ],
      "execution_count": null,
      "outputs": [
        {
          "output_type": "display_data",
          "data": {
            "application/javascript": [
              "\n",
              "(function(root) {\n",
              "  function now() {\n",
              "    return new Date();\n",
              "  }\n",
              "\n",
              "  var force = true;\n",
              "\n",
              "  if (typeof root._bokeh_onload_callbacks === \"undefined\" || force === true) {\n",
              "    root._bokeh_onload_callbacks = [];\n",
              "    root._bokeh_is_loading = undefined;\n",
              "  }\n",
              "\n",
              "  var JS_MIME_TYPE = 'application/javascript';\n",
              "  var HTML_MIME_TYPE = 'text/html';\n",
              "  var EXEC_MIME_TYPE = 'application/vnd.bokehjs_exec.v0+json';\n",
              "  var CLASS_NAME = 'output_bokeh rendered_html';\n",
              "\n",
              "  /**\n",
              "   * Render data to the DOM node\n",
              "   */\n",
              "  function render(props, node) {\n",
              "    var script = document.createElement(\"script\");\n",
              "    node.appendChild(script);\n",
              "  }\n",
              "\n",
              "  /**\n",
              "   * Handle when an output is cleared or removed\n",
              "   */\n",
              "  function handleClearOutput(event, handle) {\n",
              "    var cell = handle.cell;\n",
              "\n",
              "    var id = cell.output_area._bokeh_element_id;\n",
              "    var server_id = cell.output_area._bokeh_server_id;\n",
              "    // Clean up Bokeh references\n",
              "    if (id != null && id in Bokeh.index) {\n",
              "      Bokeh.index[id].model.document.clear();\n",
              "      delete Bokeh.index[id];\n",
              "    }\n",
              "\n",
              "    if (server_id !== undefined) {\n",
              "      // Clean up Bokeh references\n",
              "      var cmd = \"from bokeh.io.state import curstate; print(curstate().uuid_to_server['\" + server_id + \"'].get_sessions()[0].document.roots[0]._id)\";\n",
              "      cell.notebook.kernel.execute(cmd, {\n",
              "        iopub: {\n",
              "          output: function(msg) {\n",
              "            var id = msg.content.text.trim();\n",
              "            if (id in Bokeh.index) {\n",
              "              Bokeh.index[id].model.document.clear();\n",
              "              delete Bokeh.index[id];\n",
              "            }\n",
              "          }\n",
              "        }\n",
              "      });\n",
              "      // Destroy server and session\n",
              "      var cmd = \"import bokeh.io.notebook as ion; ion.destroy_server('\" + server_id + \"')\";\n",
              "      cell.notebook.kernel.execute(cmd);\n",
              "    }\n",
              "  }\n",
              "\n",
              "  /**\n",
              "   * Handle when a new output is added\n",
              "   */\n",
              "  function handleAddOutput(event, handle) {\n",
              "    var output_area = handle.output_area;\n",
              "    var output = handle.output;\n",
              "\n",
              "    // limit handleAddOutput to display_data with EXEC_MIME_TYPE content only\n",
              "    if ((output.output_type != \"display_data\") || (!Object.prototype.hasOwnProperty.call(output.data, EXEC_MIME_TYPE))) {\n",
              "      return\n",
              "    }\n",
              "\n",
              "    var toinsert = output_area.element.find(\".\" + CLASS_NAME.split(' ')[0]);\n",
              "\n",
              "    if (output.metadata[EXEC_MIME_TYPE][\"id\"] !== undefined) {\n",
              "      toinsert[toinsert.length - 1].firstChild.textContent = output.data[JS_MIME_TYPE];\n",
              "      // store reference to embed id on output_area\n",
              "      output_area._bokeh_element_id = output.metadata[EXEC_MIME_TYPE][\"id\"];\n",
              "    }\n",
              "    if (output.metadata[EXEC_MIME_TYPE][\"server_id\"] !== undefined) {\n",
              "      var bk_div = document.createElement(\"div\");\n",
              "      bk_div.innerHTML = output.data[HTML_MIME_TYPE];\n",
              "      var script_attrs = bk_div.children[0].attributes;\n",
              "      for (var i = 0; i < script_attrs.length; i++) {\n",
              "        toinsert[toinsert.length - 1].firstChild.setAttribute(script_attrs[i].name, script_attrs[i].value);\n",
              "        toinsert[toinsert.length - 1].firstChild.textContent = bk_div.children[0].textContent\n",
              "      }\n",
              "      // store reference to server id on output_area\n",
              "      output_area._bokeh_server_id = output.metadata[EXEC_MIME_TYPE][\"server_id\"];\n",
              "    }\n",
              "  }\n",
              "\n",
              "  function register_renderer(events, OutputArea) {\n",
              "\n",
              "    function append_mime(data, metadata, element) {\n",
              "      // create a DOM node to render to\n",
              "      var toinsert = this.create_output_subarea(\n",
              "        metadata,\n",
              "        CLASS_NAME,\n",
              "        EXEC_MIME_TYPE\n",
              "      );\n",
              "      this.keyboard_manager.register_events(toinsert);\n",
              "      // Render to node\n",
              "      var props = {data: data, metadata: metadata[EXEC_MIME_TYPE]};\n",
              "      render(props, toinsert[toinsert.length - 1]);\n",
              "      element.append(toinsert);\n",
              "      return toinsert\n",
              "    }\n",
              "\n",
              "    /* Handle when an output is cleared or removed */\n",
              "    events.on('clear_output.CodeCell', handleClearOutput);\n",
              "    events.on('delete.Cell', handleClearOutput);\n",
              "\n",
              "    /* Handle when a new output is added */\n",
              "    events.on('output_added.OutputArea', handleAddOutput);\n",
              "\n",
              "    /**\n",
              "     * Register the mime type and append_mime function with output_area\n",
              "     */\n",
              "    OutputArea.prototype.register_mime_type(EXEC_MIME_TYPE, append_mime, {\n",
              "      /* Is output safe? */\n",
              "      safe: true,\n",
              "      /* Index of renderer in `output_area.display_order` */\n",
              "      index: 0\n",
              "    });\n",
              "  }\n",
              "\n",
              "  // register the mime type if in Jupyter Notebook environment and previously unregistered\n",
              "  if (root.Jupyter !== undefined) {\n",
              "    var events = require('base/js/events');\n",
              "    var OutputArea = require('notebook/js/outputarea').OutputArea;\n",
              "\n",
              "    if (OutputArea.prototype.mime_types().indexOf(EXEC_MIME_TYPE) == -1) {\n",
              "      register_renderer(events, OutputArea);\n",
              "    }\n",
              "  }\n",
              "\n",
              "  \n",
              "  if (typeof (root._bokeh_timeout) === \"undefined\" || force === true) {\n",
              "    root._bokeh_timeout = Date.now() + 5000;\n",
              "    root._bokeh_failed_load = false;\n",
              "  }\n",
              "\n",
              "  var NB_LOAD_WARNING = {'data': {'text/html':\n",
              "     \"<div style='background-color: #fdd'>\\n\"+\n",
              "     \"<p>\\n\"+\n",
              "     \"BokehJS does not appear to have successfully loaded. If loading BokehJS from CDN, this \\n\"+\n",
              "     \"may be due to a slow or bad network connection. Possible fixes:\\n\"+\n",
              "     \"</p>\\n\"+\n",
              "     \"<ul>\\n\"+\n",
              "     \"<li>re-rerun `output_notebook()` to attempt to load from CDN again, or</li>\\n\"+\n",
              "     \"<li>use INLINE resources instead, as so:</li>\\n\"+\n",
              "     \"</ul>\\n\"+\n",
              "     \"<code>\\n\"+\n",
              "     \"from bokeh.resources import INLINE\\n\"+\n",
              "     \"output_notebook(resources=INLINE)\\n\"+\n",
              "     \"</code>\\n\"+\n",
              "     \"</div>\"}};\n",
              "\n",
              "  function display_loaded() {\n",
              "    var el = document.getElementById(null);\n",
              "    if (el != null) {\n",
              "      el.textContent = \"BokehJS is loading...\";\n",
              "    }\n",
              "    if (root.Bokeh !== undefined) {\n",
              "      if (el != null) {\n",
              "        el.textContent = \"BokehJS \" + root.Bokeh.version + \" successfully loaded.\";\n",
              "      }\n",
              "    } else if (Date.now() < root._bokeh_timeout) {\n",
              "      setTimeout(display_loaded, 100)\n",
              "    }\n",
              "  }\n",
              "\n",
              "\n",
              "  function run_callbacks() {\n",
              "    try {\n",
              "      root._bokeh_onload_callbacks.forEach(function(callback) {\n",
              "        if (callback != null)\n",
              "          callback();\n",
              "      });\n",
              "    } finally {\n",
              "      delete root._bokeh_onload_callbacks\n",
              "    }\n",
              "    console.debug(\"Bokeh: all callbacks have finished\");\n",
              "  }\n",
              "\n",
              "  function load_libs(css_urls, js_urls, callback) {\n",
              "    if (css_urls == null) css_urls = [];\n",
              "    if (js_urls == null) js_urls = [];\n",
              "\n",
              "    root._bokeh_onload_callbacks.push(callback);\n",
              "    if (root._bokeh_is_loading > 0) {\n",
              "      console.debug(\"Bokeh: BokehJS is being loaded, scheduling callback at\", now());\n",
              "      return null;\n",
              "    }\n",
              "    if (js_urls == null || js_urls.length === 0) {\n",
              "      run_callbacks();\n",
              "      return null;\n",
              "    }\n",
              "    console.debug(\"Bokeh: BokehJS not loaded, scheduling load and callback at\", now());\n",
              "    root._bokeh_is_loading = css_urls.length + js_urls.length;\n",
              "\n",
              "    function on_load() {\n",
              "      root._bokeh_is_loading--;\n",
              "      if (root._bokeh_is_loading === 0) {\n",
              "        console.debug(\"Bokeh: all BokehJS libraries/stylesheets loaded\");\n",
              "        run_callbacks()\n",
              "      }\n",
              "    }\n",
              "\n",
              "    function on_error(url) {\n",
              "      console.error(\"failed to load \" + url);\n",
              "    }\n",
              "\n",
              "    for (let i = 0; i < css_urls.length; i++) {\n",
              "      const url = css_urls[i];\n",
              "      const element = document.createElement(\"link\");\n",
              "      element.onload = on_load;\n",
              "      element.onerror = on_error.bind(null, url);\n",
              "      element.rel = \"stylesheet\";\n",
              "      element.type = \"text/css\";\n",
              "      element.href = url;\n",
              "      console.debug(\"Bokeh: injecting link tag for BokehJS stylesheet: \", url);\n",
              "      document.body.appendChild(element);\n",
              "    }\n",
              "\n",
              "    const hashes = {\"https://cdn.bokeh.org/bokeh/release/bokeh-2.3.3.min.js\": \"dM3QQsP+wXdHg42wTqW85BjZQdLNNIXqlPw/BgKoExPmTG7ZLML4EGqLMfqHT6ON\", \"https://cdn.bokeh.org/bokeh/release/bokeh-tables-2.3.3.min.js\": \"8x57I4YuIfu8XyZfFo0XVr2WAT8EK4rh/uDe3wF7YuW2FNUSNEpJbsPaB1nJ2fz2\", \"https://cdn.bokeh.org/bokeh/release/bokeh-widgets-2.3.3.min.js\": \"3QTqdz9LyAm2i0sG5XTePsHec3UHWwVsrOL68SYRoAXsafvfAyqtQ+h440+qIBhS\"};\n",
              "\n",
              "    for (let i = 0; i < js_urls.length; i++) {\n",
              "      const url = js_urls[i];\n",
              "      const element = document.createElement('script');\n",
              "      element.onload = on_load;\n",
              "      element.onerror = on_error.bind(null, url);\n",
              "      element.async = false;\n",
              "      element.src = url;\n",
              "      if (url in hashes) {\n",
              "        element.crossOrigin = \"anonymous\";\n",
              "        element.integrity = \"sha384-\" + hashes[url];\n",
              "      }\n",
              "      console.debug(\"Bokeh: injecting script tag for BokehJS library: \", url);\n",
              "      document.head.appendChild(element);\n",
              "    }\n",
              "  };\n",
              "\n",
              "  function inject_raw_css(css) {\n",
              "    const element = document.createElement(\"style\");\n",
              "    element.appendChild(document.createTextNode(css));\n",
              "    document.body.appendChild(element);\n",
              "  }\n",
              "\n",
              "  \n",
              "  var js_urls = [\"https://cdn.bokeh.org/bokeh/release/bokeh-2.3.3.min.js\", \"https://cdn.bokeh.org/bokeh/release/bokeh-widgets-2.3.3.min.js\", \"https://cdn.bokeh.org/bokeh/release/bokeh-tables-2.3.3.min.js\"];\n",
              "  var css_urls = [];\n",
              "  \n",
              "\n",
              "  var inline_js = [\n",
              "    function(Bokeh) {\n",
              "      Bokeh.set_log_level(\"info\");\n",
              "    },\n",
              "    function(Bokeh) {\n",
              "    \n",
              "    \n",
              "    }\n",
              "  ];\n",
              "\n",
              "  function run_inline_js() {\n",
              "    \n",
              "    if (root.Bokeh !== undefined || force === true) {\n",
              "      \n",
              "    for (var i = 0; i < inline_js.length; i++) {\n",
              "      inline_js[i].call(root, root.Bokeh);\n",
              "    }\n",
              "    } else if (Date.now() < root._bokeh_timeout) {\n",
              "      setTimeout(run_inline_js, 100);\n",
              "    } else if (!root._bokeh_failed_load) {\n",
              "      console.log(\"Bokeh: BokehJS failed to load within specified timeout.\");\n",
              "      root._bokeh_failed_load = true;\n",
              "    } else if (force !== true) {\n",
              "      var cell = $(document.getElementById(null)).parents('.cell').data().cell;\n",
              "      cell.output_area.append_execute_result(NB_LOAD_WARNING)\n",
              "    }\n",
              "\n",
              "  }\n",
              "\n",
              "  if (root._bokeh_is_loading === 0) {\n",
              "    console.debug(\"Bokeh: BokehJS loaded, going straight to plotting\");\n",
              "    run_inline_js();\n",
              "  } else {\n",
              "    load_libs(css_urls, js_urls, function() {\n",
              "      console.debug(\"Bokeh: BokehJS plotting callback run at\", now());\n",
              "      run_inline_js();\n",
              "    });\n",
              "  }\n",
              "}(window));"
            ],
            "application/vnd.bokehjs_load.v0+json": "\n(function(root) {\n  function now() {\n    return new Date();\n  }\n\n  var force = true;\n\n  if (typeof root._bokeh_onload_callbacks === \"undefined\" || force === true) {\n    root._bokeh_onload_callbacks = [];\n    root._bokeh_is_loading = undefined;\n  }\n\n  \n\n  \n  if (typeof (root._bokeh_timeout) === \"undefined\" || force === true) {\n    root._bokeh_timeout = Date.now() + 5000;\n    root._bokeh_failed_load = false;\n  }\n\n  var NB_LOAD_WARNING = {'data': {'text/html':\n     \"<div style='background-color: #fdd'>\\n\"+\n     \"<p>\\n\"+\n     \"BokehJS does not appear to have successfully loaded. If loading BokehJS from CDN, this \\n\"+\n     \"may be due to a slow or bad network connection. Possible fixes:\\n\"+\n     \"</p>\\n\"+\n     \"<ul>\\n\"+\n     \"<li>re-rerun `output_notebook()` to attempt to load from CDN again, or</li>\\n\"+\n     \"<li>use INLINE resources instead, as so:</li>\\n\"+\n     \"</ul>\\n\"+\n     \"<code>\\n\"+\n     \"from bokeh.resources import INLINE\\n\"+\n     \"output_notebook(resources=INLINE)\\n\"+\n     \"</code>\\n\"+\n     \"</div>\"}};\n\n  function display_loaded() {\n    var el = document.getElementById(null);\n    if (el != null) {\n      el.textContent = \"BokehJS is loading...\";\n    }\n    if (root.Bokeh !== undefined) {\n      if (el != null) {\n        el.textContent = \"BokehJS \" + root.Bokeh.version + \" successfully loaded.\";\n      }\n    } else if (Date.now() < root._bokeh_timeout) {\n      setTimeout(display_loaded, 100)\n    }\n  }\n\n\n  function run_callbacks() {\n    try {\n      root._bokeh_onload_callbacks.forEach(function(callback) {\n        if (callback != null)\n          callback();\n      });\n    } finally {\n      delete root._bokeh_onload_callbacks\n    }\n    console.debug(\"Bokeh: all callbacks have finished\");\n  }\n\n  function load_libs(css_urls, js_urls, callback) {\n    if (css_urls == null) css_urls = [];\n    if (js_urls == null) js_urls = [];\n\n    root._bokeh_onload_callbacks.push(callback);\n    if (root._bokeh_is_loading > 0) {\n      console.debug(\"Bokeh: BokehJS is being loaded, scheduling callback at\", now());\n      return null;\n    }\n    if (js_urls == null || js_urls.length === 0) {\n      run_callbacks();\n      return null;\n    }\n    console.debug(\"Bokeh: BokehJS not loaded, scheduling load and callback at\", now());\n    root._bokeh_is_loading = css_urls.length + js_urls.length;\n\n    function on_load() {\n      root._bokeh_is_loading--;\n      if (root._bokeh_is_loading === 0) {\n        console.debug(\"Bokeh: all BokehJS libraries/stylesheets loaded\");\n        run_callbacks()\n      }\n    }\n\n    function on_error(url) {\n      console.error(\"failed to load \" + url);\n    }\n\n    for (let i = 0; i < css_urls.length; i++) {\n      const url = css_urls[i];\n      const element = document.createElement(\"link\");\n      element.onload = on_load;\n      element.onerror = on_error.bind(null, url);\n      element.rel = \"stylesheet\";\n      element.type = \"text/css\";\n      element.href = url;\n      console.debug(\"Bokeh: injecting link tag for BokehJS stylesheet: \", url);\n      document.body.appendChild(element);\n    }\n\n    const hashes = {\"https://cdn.bokeh.org/bokeh/release/bokeh-2.3.3.min.js\": \"dM3QQsP+wXdHg42wTqW85BjZQdLNNIXqlPw/BgKoExPmTG7ZLML4EGqLMfqHT6ON\", \"https://cdn.bokeh.org/bokeh/release/bokeh-tables-2.3.3.min.js\": \"8x57I4YuIfu8XyZfFo0XVr2WAT8EK4rh/uDe3wF7YuW2FNUSNEpJbsPaB1nJ2fz2\", \"https://cdn.bokeh.org/bokeh/release/bokeh-widgets-2.3.3.min.js\": \"3QTqdz9LyAm2i0sG5XTePsHec3UHWwVsrOL68SYRoAXsafvfAyqtQ+h440+qIBhS\"};\n\n    for (let i = 0; i < js_urls.length; i++) {\n      const url = js_urls[i];\n      const element = document.createElement('script');\n      element.onload = on_load;\n      element.onerror = on_error.bind(null, url);\n      element.async = false;\n      element.src = url;\n      if (url in hashes) {\n        element.crossOrigin = \"anonymous\";\n        element.integrity = \"sha384-\" + hashes[url];\n      }\n      console.debug(\"Bokeh: injecting script tag for BokehJS library: \", url);\n      document.head.appendChild(element);\n    }\n  };\n\n  function inject_raw_css(css) {\n    const element = document.createElement(\"style\");\n    element.appendChild(document.createTextNode(css));\n    document.body.appendChild(element);\n  }\n\n  \n  var js_urls = [\"https://cdn.bokeh.org/bokeh/release/bokeh-2.3.3.min.js\", \"https://cdn.bokeh.org/bokeh/release/bokeh-widgets-2.3.3.min.js\", \"https://cdn.bokeh.org/bokeh/release/bokeh-tables-2.3.3.min.js\"];\n  var css_urls = [];\n  \n\n  var inline_js = [\n    function(Bokeh) {\n      Bokeh.set_log_level(\"info\");\n    },\n    function(Bokeh) {\n    \n    \n    }\n  ];\n\n  function run_inline_js() {\n    \n    if (root.Bokeh !== undefined || force === true) {\n      \n    for (var i = 0; i < inline_js.length; i++) {\n      inline_js[i].call(root, root.Bokeh);\n    }\n    } else if (Date.now() < root._bokeh_timeout) {\n      setTimeout(run_inline_js, 100);\n    } else if (!root._bokeh_failed_load) {\n      console.log(\"Bokeh: BokehJS failed to load within specified timeout.\");\n      root._bokeh_failed_load = true;\n    } else if (force !== true) {\n      var cell = $(document.getElementById(null)).parents('.cell').data().cell;\n      cell.output_area.append_execute_result(NB_LOAD_WARNING)\n    }\n\n  }\n\n  if (root._bokeh_is_loading === 0) {\n    console.debug(\"Bokeh: BokehJS loaded, going straight to plotting\");\n    run_inline_js();\n  } else {\n    load_libs(css_urls, js_urls, function() {\n      console.debug(\"Bokeh: BokehJS plotting callback run at\", now());\n      run_inline_js();\n    });\n  }\n}(window));"
          },
          "metadata": {}
        },
        {
          "output_type": "display_data",
          "data": {
            "text/html": [
              "\n",
              "\n",
              "\n",
              "\n",
              "\n",
              "\n",
              "  <div class=\"bk-root\" id=\"2c54146a-f570-4dfc-9930-3e63a9f0c451\" data-root-id=\"1003\"></div>\n"
            ]
          },
          "metadata": {}
        },
        {
          "output_type": "display_data",
          "data": {
            "application/javascript": [
              "(function(root) {\n",
              "  function embed_document(root) {\n",
              "    \n",
              "  var docs_json = {\"d5326b71-d347-43fd-8c4b-12b1b5995aea\":{\"defs\":[],\"roots\":{\"references\":[{\"attributes\":{\"below\":[{\"id\":\"1012\"}],\"center\":[{\"id\":\"1015\"},{\"id\":\"1019\"}],\"height\":400,\"left\":[{\"id\":\"1016\"}],\"renderers\":[{\"id\":\"1037\"}],\"title\":{\"id\":\"1041\"},\"toolbar\":{\"id\":\"1027\"},\"x_range\":{\"id\":\"1004\"},\"x_scale\":{\"id\":\"1008\"},\"y_range\":{\"id\":\"1006\"},\"y_scale\":{\"id\":\"1010\"}},\"id\":\"1003\",\"subtype\":\"Figure\",\"type\":\"Plot\"},{\"attributes\":{},\"id\":\"1045\",\"type\":\"BasicTickFormatter\"},{\"attributes\":{},\"id\":\"1004\",\"type\":\"DataRange1d\"},{\"attributes\":{\"formatter\":{\"id\":\"1048\"},\"major_label_policy\":{\"id\":\"1046\"},\"ticker\":{\"id\":\"1013\"}},\"id\":\"1012\",\"type\":\"LinearAxis\"},{\"attributes\":{\"source\":{\"id\":\"1002\"}},\"id\":\"1038\",\"type\":\"CDSView\"},{\"attributes\":{},\"id\":\"1006\",\"type\":\"DataRange1d\"},{\"attributes\":{},\"id\":\"1021\",\"type\":\"WheelZoomTool\"},{\"attributes\":{\"bottom_units\":\"screen\",\"fill_alpha\":0.5,\"fill_color\":\"lightgrey\",\"left_units\":\"screen\",\"level\":\"overlay\",\"line_alpha\":1.0,\"line_color\":\"black\",\"line_dash\":[4,4],\"line_width\":2,\"right_units\":\"screen\",\"syncable\":false,\"top_units\":\"screen\"},\"id\":\"1026\",\"type\":\"BoxAnnotation\"},{\"attributes\":{},\"id\":\"1023\",\"type\":\"SaveTool\"},{\"attributes\":{},\"id\":\"1013\",\"type\":\"BasicTicker\"},{\"attributes\":{\"axis\":{\"id\":\"1012\"},\"ticker\":null},\"id\":\"1015\",\"type\":\"Grid\"},{\"attributes\":{\"active_multi\":null,\"active_scroll\":{\"id\":\"1021\"},\"tools\":[{\"id\":\"1020\"},{\"id\":\"1021\"},{\"id\":\"1022\"},{\"id\":\"1023\"},{\"id\":\"1024\"},{\"id\":\"1025\"},{\"id\":\"1039\"}]},\"id\":\"1027\",\"type\":\"Toolbar\"},{\"attributes\":{\"data_source\":{\"id\":\"1002\"},\"glyph\":{\"id\":\"1035\"},\"hover_glyph\":null,\"muted_glyph\":null,\"nonselection_glyph\":{\"id\":\"1036\"},\"view\":{\"id\":\"1038\"}},\"id\":\"1037\",\"type\":\"GlyphRenderer\"},{\"attributes\":{\"callback\":null,\"tooltips\":[]},\"id\":\"1039\",\"type\":\"HoverTool\"},{\"attributes\":{},\"id\":\"1041\",\"type\":\"Title\"},{\"attributes\":{},\"id\":\"1025\",\"type\":\"HelpTool\"},{\"attributes\":{},\"id\":\"1010\",\"type\":\"LinearScale\"},{\"attributes\":{},\"id\":\"1024\",\"type\":\"ResetTool\"},{\"attributes\":{},\"id\":\"1017\",\"type\":\"BasicTicker\"},{\"attributes\":{\"fill_alpha\":{\"value\":0.25},\"fill_color\":{\"field\":\"color\"},\"line_alpha\":{\"value\":0.25},\"line_color\":{\"field\":\"color\"},\"size\":{\"value\":10},\"x\":{\"field\":\"x\"},\"y\":{\"field\":\"y\"}},\"id\":\"1035\",\"type\":\"Scatter\"},{\"attributes\":{},\"id\":\"1043\",\"type\":\"AllLabels\"},{\"attributes\":{\"overlay\":{\"id\":\"1026\"}},\"id\":\"1022\",\"type\":\"BoxZoomTool\"},{\"attributes\":{},\"id\":\"1020\",\"type\":\"PanTool\"},{\"attributes\":{\"formatter\":{\"id\":\"1045\"},\"major_label_policy\":{\"id\":\"1043\"},\"ticker\":{\"id\":\"1017\"}},\"id\":\"1016\",\"type\":\"LinearAxis\"},{\"attributes\":{\"data\":{\"color\":[\"red\",\"red\",\"red\",\"blue\",\"red\",\"blue\",\"blue\",\"blue\",\"blue\",\"blue\",\"blue\",\"blue\",\"blue\",\"red\",\"red\",\"blue\",\"blue\",\"blue\",\"red\",\"blue\",\"blue\",\"blue\",\"blue\",\"red\",\"blue\",\"blue\",\"red\",\"red\",\"blue\",\"red\",\"blue\",\"red\",\"red\",\"blue\",\"red\",\"red\",\"blue\",\"red\",\"blue\",\"blue\",\"red\",\"blue\",\"blue\",\"blue\",\"red\",\"red\",\"red\",\"red\",\"blue\",\"red\",\"blue\",\"blue\",\"blue\",\"red\",\"blue\",\"red\",\"blue\",\"blue\",\"red\",\"red\",\"red\",\"blue\",\"blue\",\"red\",\"red\",\"blue\",\"blue\",\"red\",\"blue\",\"blue\",\"blue\",\"blue\",\"red\",\"red\",\"red\",\"red\",\"red\",\"blue\",\"red\",\"red\",\"blue\",\"blue\",\"red\",\"red\",\"blue\",\"red\",\"red\",\"red\",\"blue\",\"red\",\"red\",\"red\",\"red\",\"blue\",\"blue\",\"red\",\"red\",\"blue\",\"red\",\"red\",\"blue\",\"red\",\"blue\",\"red\",\"red\",\"red\",\"red\",\"blue\",\"red\",\"blue\",\"blue\",\"blue\",\"blue\",\"red\",\"red\",\"blue\",\"blue\",\"blue\",\"red\",\"blue\",\"red\",\"red\",\"red\",\"red\",\"blue\",\"blue\",\"red\",\"blue\",\"red\",\"blue\",\"blue\",\"blue\",\"red\",\"blue\",\"red\",\"blue\",\"red\",\"red\",\"blue\",\"red\",\"red\",\"blue\",\"red\",\"red\",\"blue\",\"red\",\"red\",\"blue\",\"blue\",\"blue\",\"blue\",\"red\",\"red\",\"red\",\"blue\",\"red\",\"red\",\"red\",\"blue\",\"red\",\"red\",\"red\",\"red\",\"red\",\"red\",\"blue\",\"blue\",\"red\",\"blue\",\"blue\",\"red\",\"red\",\"red\",\"blue\",\"red\",\"red\",\"blue\",\"red\",\"blue\",\"blue\",\"red\",\"blue\",\"red\",\"red\",\"blue\",\"blue\",\"blue\",\"blue\",\"blue\",\"red\",\"red\",\"red\",\"blue\",\"blue\",\"blue\",\"red\",\"red\",\"blue\",\"blue\",\"blue\",\"blue\",\"blue\",\"blue\",\"red\",\"red\",\"red\",\"red\",\"red\",\"red\",\"red\",\"red\",\"red\",\"blue\",\"blue\",\"blue\",\"red\",\"blue\",\"red\",\"blue\",\"blue\",\"red\",\"blue\",\"red\",\"blue\",\"blue\",\"red\",\"blue\",\"blue\",\"blue\",\"blue\",\"red\",\"blue\",\"red\",\"red\",\"red\",\"blue\",\"red\",\"blue\",\"red\",\"red\",\"red\",\"blue\",\"red\",\"blue\",\"red\",\"blue\",\"red\",\"blue\",\"red\",\"blue\",\"blue\",\"blue\",\"blue\",\"blue\",\"blue\",\"blue\",\"red\",\"red\",\"red\",\"red\",\"blue\",\"red\",\"red\",\"blue\",\"blue\",\"blue\",\"red\",\"red\",\"red\",\"red\",\"blue\",\"blue\",\"blue\",\"blue\",\"blue\",\"blue\",\"blue\",\"red\",\"blue\",\"red\",\"red\",\"red\",\"blue\",\"red\",\"red\",\"blue\",\"blue\",\"red\",\"blue\",\"blue\",\"red\",\"red\",\"blue\",\"red\",\"red\",\"blue\",\"blue\",\"red\",\"blue\",\"red\",\"red\",\"blue\",\"red\",\"red\",\"blue\",\"red\",\"blue\",\"blue\",\"red\",\"red\",\"blue\",\"blue\",\"blue\",\"red\",\"blue\",\"blue\",\"red\",\"red\",\"red\",\"blue\",\"blue\",\"red\",\"blue\",\"red\",\"red\",\"red\",\"red\",\"red\",\"blue\",\"blue\",\"red\",\"red\",\"red\",\"red\",\"red\",\"blue\",\"red\",\"red\",\"red\",\"blue\",\"blue\",\"blue\",\"blue\",\"blue\",\"red\",\"blue\",\"blue\",\"red\",\"red\",\"blue\",\"blue\",\"blue\",\"blue\",\"red\",\"blue\",\"blue\",\"blue\",\"blue\",\"red\",\"blue\",\"red\",\"blue\",\"red\",\"red\",\"blue\",\"blue\",\"blue\",\"red\",\"red\",\"blue\",\"red\",\"red\",\"red\",\"blue\",\"red\",\"blue\",\"blue\",\"blue\",\"red\",\"red\",\"red\",\"blue\",\"blue\",\"red\",\"blue\",\"blue\",\"red\",\"blue\",\"blue\",\"red\",\"blue\",\"blue\",\"red\",\"blue\",\"red\",\"red\",\"blue\",\"blue\",\"blue\",\"red\",\"blue\",\"blue\",\"blue\",\"red\",\"red\",\"blue\",\"blue\",\"blue\",\"red\",\"blue\",\"blue\",\"blue\",\"red\",\"blue\",\"blue\",\"blue\",\"blue\",\"red\",\"blue\",\"blue\",\"red\",\"red\",\"red\",\"blue\",\"blue\",\"blue\",\"red\",\"red\",\"blue\",\"blue\",\"blue\",\"red\",\"blue\",\"blue\",\"blue\",\"blue\",\"blue\",\"red\",\"red\",\"blue\",\"blue\",\"blue\",\"red\",\"red\",\"blue\",\"red\",\"red\",\"red\",\"blue\",\"red\",\"red\",\"blue\",\"red\",\"blue\",\"blue\",\"red\",\"blue\",\"blue\",\"red\",\"red\",\"blue\",\"blue\",\"blue\",\"blue\",\"red\",\"red\",\"red\",\"red\",\"blue\",\"blue\",\"blue\",\"red\",\"blue\",\"blue\",\"red\",\"blue\",\"red\",\"red\",\"blue\",\"red\",\"blue\",\"red\",\"red\",\"blue\",\"red\",\"blue\",\"blue\",\"blue\",\"red\",\"blue\",\"red\",\"blue\",\"blue\",\"blue\",\"blue\",\"blue\",\"red\",\"blue\",\"blue\",\"red\",\"blue\",\"red\",\"blue\",\"red\",\"blue\",\"red\",\"red\",\"red\",\"red\",\"red\",\"red\",\"blue\",\"blue\",\"blue\",\"red\",\"blue\",\"red\",\"red\",\"blue\",\"red\",\"red\",\"red\",\"red\",\"red\",\"red\",\"blue\",\"blue\",\"blue\",\"red\",\"blue\",\"red\",\"blue\",\"blue\",\"red\",\"red\",\"red\",\"blue\",\"red\",\"blue\",\"blue\",\"blue\",\"red\",\"blue\",\"blue\",\"red\",\"blue\",\"blue\",\"blue\",\"blue\",\"blue\",\"blue\",\"red\",\"red\",\"red\",\"blue\",\"blue\",\"red\",\"blue\",\"blue\",\"blue\",\"red\",\"blue\",\"red\",\"blue\",\"blue\",\"red\",\"red\",\"blue\",\"red\",\"red\",\"red\",\"blue\",\"red\",\"red\",\"blue\",\"red\",\"red\",\"blue\",\"blue\",\"blue\",\"red\",\"red\",\"red\",\"blue\",\"blue\",\"blue\",\"red\",\"red\",\"red\",\"red\",\"blue\",\"blue\",\"red\",\"red\",\"red\",\"red\",\"red\",\"red\",\"blue\",\"blue\",\"red\",\"red\",\"red\",\"blue\",\"red\",\"red\",\"red\",\"blue\",\"red\",\"red\",\"blue\",\"red\",\"red\",\"blue\",\"blue\",\"blue\",\"red\",\"blue\",\"blue\",\"blue\",\"red\",\"red\",\"red\",\"blue\",\"blue\",\"red\",\"red\",\"blue\",\"red\",\"blue\",\"blue\",\"blue\",\"red\",\"red\",\"blue\",\"red\",\"red\",\"blue\",\"red\",\"blue\",\"blue\",\"red\",\"red\",\"red\",\"red\",\"red\",\"red\",\"red\",\"red\",\"red\",\"blue\",\"blue\",\"blue\",\"red\",\"red\",\"blue\",\"blue\",\"blue\",\"red\",\"blue\",\"blue\",\"blue\",\"blue\",\"red\",\"blue\",\"red\",\"blue\",\"red\",\"red\",\"red\",\"blue\",\"red\",\"red\",\"red\",\"blue\",\"red\",\"blue\",\"blue\",\"blue\",\"red\",\"red\",\"red\",\"blue\",\"blue\",\"blue\",\"red\",\"red\",\"red\",\"blue\",\"red\",\"red\",\"red\",\"blue\",\"red\",\"blue\",\"red\",\"red\",\"blue\",\"red\",\"blue\",\"blue\",\"red\",\"red\",\"blue\",\"blue\",\"blue\",\"blue\",\"red\",\"blue\",\"blue\",\"red\",\"red\",\"red\",\"red\",\"blue\",\"blue\",\"red\",\"red\",\"red\",\"red\",\"red\",\"blue\",\"blue\",\"red\",\"red\",\"red\",\"blue\",\"blue\",\"blue\",\"blue\",\"blue\",\"red\",\"red\",\"red\",\"blue\",\"blue\",\"red\",\"red\",\"red\",\"red\",\"red\",\"blue\",\"blue\",\"blue\",\"red\",\"red\",\"red\",\"red\",\"red\",\"blue\",\"red\",\"red\",\"red\",\"blue\",\"red\",\"red\",\"red\",\"red\",\"red\",\"red\",\"red\",\"red\",\"red\",\"blue\",\"blue\",\"blue\",\"blue\",\"blue\",\"red\",\"blue\",\"blue\",\"red\",\"blue\",\"red\",\"red\",\"blue\",\"red\",\"red\",\"blue\",\"red\",\"blue\",\"red\",\"red\",\"red\",\"blue\",\"red\",\"blue\",\"blue\",\"blue\",\"red\",\"blue\",\"blue\",\"red\",\"blue\",\"blue\",\"blue\",\"blue\",\"red\",\"blue\",\"red\",\"red\",\"red\",\"red\",\"blue\",\"blue\",\"red\",\"red\",\"blue\",\"red\",\"red\",\"blue\",\"red\",\"blue\",\"red\",\"blue\",\"blue\",\"red\",\"blue\",\"blue\",\"blue\",\"red\",\"blue\",\"red\",\"blue\",\"blue\",\"red\",\"red\",\"red\",\"blue\",\"blue\",\"blue\",\"red\",\"blue\",\"red\",\"blue\",\"blue\",\"red\",\"blue\",\"blue\",\"blue\",\"red\",\"red\",\"red\",\"blue\",\"red\",\"red\",\"red\",\"blue\",\"red\",\"red\",\"blue\",\"red\",\"blue\",\"blue\",\"blue\",\"red\",\"blue\",\"blue\",\"red\",\"red\",\"red\",\"blue\",\"blue\",\"blue\",\"red\",\"blue\",\"red\",\"blue\",\"red\",\"red\",\"blue\",\"red\",\"red\",\"red\",\"blue\",\"blue\",\"blue\",\"red\",\"red\",\"red\",\"red\",\"red\",\"red\",\"blue\",\"red\",\"red\",\"blue\",\"red\",\"red\",\"blue\",\"red\",\"blue\",\"blue\",\"blue\",\"blue\",\"red\",\"blue\",\"blue\",\"blue\",\"blue\",\"red\",\"red\",\"blue\",\"blue\",\"red\",\"red\",\"red\",\"blue\",\"red\",\"red\",\"blue\",\"blue\",\"red\",\"red\",\"blue\",\"red\",\"red\",\"blue\",\"red\",\"red\",\"red\",\"blue\",\"blue\",\"red\",\"red\",\"red\",\"blue\",\"red\",\"blue\",\"red\",\"blue\",\"red\",\"blue\",\"red\",\"blue\",\"red\",\"red\",\"blue\",\"blue\",\"blue\",\"red\",\"red\",\"red\",\"red\",\"red\",\"red\",\"blue\",\"red\",\"blue\",\"red\",\"blue\",\"red\",\"blue\",\"blue\",\"blue\",\"red\",\"blue\",\"blue\",\"red\",\"blue\",\"blue\",\"blue\",\"red\",\"red\",\"red\",\"blue\",\"blue\",\"blue\",\"red\",\"red\",\"blue\",\"red\",\"red\",\"red\",\"red\",\"blue\",\"red\",\"red\",\"red\",\"red\",\"blue\",\"blue\",\"blue\",\"red\",\"blue\",\"red\",\"red\",\"blue\",\"red\",\"blue\",\"blue\",\"red\",\"red\",\"red\",\"blue\",\"blue\",\"blue\",\"blue\",\"red\",\"red\",\"blue\",\"blue\",\"red\",\"blue\",\"blue\",\"blue\",\"blue\",\"red\",\"blue\",\"red\",\"red\",\"blue\",\"blue\",\"blue\",\"blue\",\"blue\",\"red\",\"red\",\"red\",\"red\",\"blue\",\"red\",\"blue\",\"red\",\"blue\",\"red\",\"blue\",\"red\",\"blue\",\"red\",\"blue\",\"blue\",\"red\",\"blue\",\"red\",\"blue\",\"red\",\"blue\",\"blue\",\"blue\",\"red\",\"red\",\"blue\",\"red\",\"red\",\"blue\",\"blue\",\"blue\",\"red\",\"blue\",\"blue\",\"red\",\"red\",\"red\",\"blue\",\"red\",\"blue\",\"blue\",\"red\",\"red\",\"red\",\"blue\",\"red\",\"blue\",\"blue\",\"blue\",\"red\",\"blue\",\"red\",\"red\",\"red\",\"red\",\"red\",\"red\",\"blue\",\"red\",\"blue\",\"blue\",\"blue\",\"red\",\"blue\",\"red\",\"red\",\"blue\",\"blue\",\"red\",\"red\",\"blue\",\"red\",\"blue\",\"red\",\"red\",\"blue\",\"red\",\"red\",\"blue\",\"red\",\"red\",\"red\",\"blue\",\"blue\",\"blue\",\"red\",\"blue\",\"blue\",\"blue\",\"red\",\"blue\",\"red\",\"red\",\"blue\",\"red\",\"blue\",\"blue\",\"red\",\"blue\",\"red\",\"blue\",\"blue\",\"red\",\"blue\",\"blue\",\"red\",\"blue\",\"blue\",\"blue\",\"red\",\"red\",\"blue\",\"blue\",\"red\",\"blue\",\"red\",\"red\",\"red\",\"blue\",\"blue\",\"blue\",\"red\",\"blue\",\"blue\",\"blue\",\"red\",\"blue\",\"blue\",\"blue\",\"blue\",\"blue\",\"red\",\"blue\",\"blue\",\"red\",\"red\",\"blue\",\"red\",\"red\",\"red\",\"blue\",\"blue\",\"blue\",\"red\",\"blue\",\"blue\",\"blue\",\"red\",\"red\",\"red\",\"red\",\"red\",\"blue\",\"blue\",\"red\",\"blue\",\"red\",\"blue\",\"blue\",\"blue\",\"red\",\"red\",\"red\",\"blue\",\"blue\",\"red\",\"red\",\"blue\",\"red\",\"blue\",\"blue\",\"red\",\"blue\",\"blue\",\"red\",\"red\",\"red\",\"red\",\"red\",\"red\",\"blue\",\"red\",\"red\",\"blue\",\"blue\",\"red\",\"blue\",\"blue\",\"blue\",\"red\",\"blue\",\"blue\",\"blue\",\"blue\",\"blue\",\"red\",\"red\",\"red\",\"red\",\"red\",\"red\",\"blue\",\"blue\",\"red\",\"red\",\"red\",\"blue\",\"red\",\"blue\",\"blue\",\"red\",\"blue\",\"blue\",\"red\",\"blue\",\"red\",\"red\",\"blue\",\"red\",\"red\",\"blue\",\"blue\",\"blue\",\"red\",\"red\",\"red\",\"blue\",\"blue\",\"red\",\"blue\",\"blue\",\"blue\",\"red\",\"red\",\"red\",\"blue\",\"red\",\"red\",\"red\",\"blue\",\"blue\",\"red\",\"blue\",\"blue\",\"blue\",\"blue\",\"blue\",\"blue\",\"blue\",\"blue\",\"blue\",\"red\",\"blue\",\"red\",\"red\",\"blue\",\"blue\",\"red\",\"red\",\"blue\",\"blue\",\"blue\",\"red\"],\"x\":{\"__ndarray__\":\"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\",\"dtype\":\"float64\",\"order\":\"little\",\"shape\":[1280]},\"y\":{\"__ndarray__\":\"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\",\"dtype\":\"float64\",\"order\":\"little\",\"shape\":[1280]}},\"selected\":{\"id\":\"1051\"},\"selection_policy\":{\"id\":\"1050\"}},\"id\":\"1002\",\"type\":\"ColumnDataSource\"},{\"attributes\":{},\"id\":\"1008\",\"type\":\"LinearScale\"},{\"attributes\":{},\"id\":\"1050\",\"type\":\"UnionRenderers\"},{\"attributes\":{\"fill_alpha\":{\"value\":0.1},\"fill_color\":{\"field\":\"color\"},\"line_alpha\":{\"value\":0.1},\"line_color\":{\"field\":\"color\"},\"size\":{\"value\":10},\"x\":{\"field\":\"x\"},\"y\":{\"field\":\"y\"}},\"id\":\"1036\",\"type\":\"Scatter\"},{\"attributes\":{},\"id\":\"1048\",\"type\":\"BasicTickFormatter\"},{\"attributes\":{\"axis\":{\"id\":\"1016\"},\"dimension\":1,\"ticker\":null},\"id\":\"1019\",\"type\":\"Grid\"},{\"attributes\":{},\"id\":\"1051\",\"type\":\"Selection\"},{\"attributes\":{},\"id\":\"1046\",\"type\":\"AllLabels\"}],\"root_ids\":[\"1003\"]},\"title\":\"Bokeh Application\",\"version\":\"2.3.3\"}};\n",
              "  var render_items = [{\"docid\":\"d5326b71-d347-43fd-8c4b-12b1b5995aea\",\"root_ids\":[\"1003\"],\"roots\":{\"1003\":\"2c54146a-f570-4dfc-9930-3e63a9f0c451\"}}];\n",
              "  root.Bokeh.embed.embed_items_notebook(docs_json, render_items);\n",
              "\n",
              "  }\n",
              "  if (root.Bokeh !== undefined) {\n",
              "    embed_document(root);\n",
              "  } else {\n",
              "    var attempts = 0;\n",
              "    var timer = setInterval(function(root) {\n",
              "      if (root.Bokeh !== undefined) {\n",
              "        clearInterval(timer);\n",
              "        embed_document(root);\n",
              "      } else {\n",
              "        attempts++;\n",
              "        if (attempts > 100) {\n",
              "          clearInterval(timer);\n",
              "          console.log(\"Bokeh: ERROR: Unable to run BokehJS code because BokehJS library is missing\");\n",
              "        }\n",
              "      }\n",
              "    }, 10, root)\n",
              "  }\n",
              "})(window);"
            ],
            "application/vnd.bokehjs_exec.v0+json": ""
          },
          "metadata": {
            "application/vnd.bokehjs_exec.v0+json": {
              "id": "1003"
            }
          }
        },
        {
          "output_type": "execute_result",
          "data": {
            "text/html": [
              "<div style=\"display: table;\"><div style=\"display: table-row;\"><div style=\"display: table-cell;\"><b title=\"bokeh.plotting.figure.Figure\">Figure</b>(</div><div style=\"display: table-cell;\">id&nbsp;=&nbsp;'1003', <span id=\"1108\" style=\"cursor: pointer;\">&hellip;)</span></div></div><div class=\"1107\" style=\"display: none;\"><div style=\"display: table-cell;\"></div><div style=\"display: table-cell;\">above&nbsp;=&nbsp;[],</div></div><div class=\"1107\" style=\"display: none;\"><div style=\"display: table-cell;\"></div><div style=\"display: table-cell;\">align&nbsp;=&nbsp;'start',</div></div><div class=\"1107\" style=\"display: none;\"><div style=\"display: table-cell;\"></div><div style=\"display: table-cell;\">aspect_ratio&nbsp;=&nbsp;None,</div></div><div class=\"1107\" style=\"display: none;\"><div style=\"display: table-cell;\"></div><div style=\"display: table-cell;\">aspect_scale&nbsp;=&nbsp;1,</div></div><div class=\"1107\" style=\"display: none;\"><div style=\"display: table-cell;\"></div><div style=\"display: table-cell;\">background&nbsp;=&nbsp;None,</div></div><div class=\"1107\" style=\"display: none;\"><div style=\"display: table-cell;\"></div><div style=\"display: table-cell;\">background_fill_alpha&nbsp;=&nbsp;1.0,</div></div><div class=\"1107\" style=\"display: none;\"><div style=\"display: table-cell;\"></div><div style=\"display: table-cell;\">background_fill_color&nbsp;=&nbsp;'#ffffff',</div></div><div class=\"1107\" style=\"display: none;\"><div style=\"display: table-cell;\"></div><div style=\"display: table-cell;\">below&nbsp;=&nbsp;[LinearAxis(id='1012', ...)],</div></div><div class=\"1107\" style=\"display: none;\"><div style=\"display: table-cell;\"></div><div style=\"display: table-cell;\">border_fill_alpha&nbsp;=&nbsp;1.0,</div></div><div class=\"1107\" style=\"display: none;\"><div style=\"display: table-cell;\"></div><div style=\"display: table-cell;\">border_fill_color&nbsp;=&nbsp;'#ffffff',</div></div><div class=\"1107\" style=\"display: none;\"><div style=\"display: table-cell;\"></div><div style=\"display: table-cell;\">center&nbsp;=&nbsp;[Grid(id='1015', ...), Grid(id='1019', ...)],</div></div><div class=\"1107\" style=\"display: none;\"><div style=\"display: table-cell;\"></div><div style=\"display: table-cell;\">css_classes&nbsp;=&nbsp;[],</div></div><div class=\"1107\" style=\"display: none;\"><div style=\"display: table-cell;\"></div><div style=\"display: table-cell;\">disabled&nbsp;=&nbsp;False,</div></div><div class=\"1107\" style=\"display: none;\"><div style=\"display: table-cell;\"></div><div style=\"display: table-cell;\">extra_x_ranges&nbsp;=&nbsp;{},</div></div><div class=\"1107\" style=\"display: none;\"><div style=\"display: table-cell;\"></div><div style=\"display: table-cell;\">extra_y_ranges&nbsp;=&nbsp;{},</div></div><div class=\"1107\" style=\"display: none;\"><div style=\"display: table-cell;\"></div><div style=\"display: table-cell;\">frame_height&nbsp;=&nbsp;None,</div></div><div class=\"1107\" style=\"display: none;\"><div style=\"display: table-cell;\"></div><div style=\"display: table-cell;\">frame_width&nbsp;=&nbsp;None,</div></div><div class=\"1107\" style=\"display: none;\"><div style=\"display: table-cell;\"></div><div style=\"display: table-cell;\">height&nbsp;=&nbsp;400,</div></div><div class=\"1107\" style=\"display: none;\"><div style=\"display: table-cell;\"></div><div style=\"display: table-cell;\">height_policy&nbsp;=&nbsp;'auto',</div></div><div class=\"1107\" style=\"display: none;\"><div style=\"display: table-cell;\"></div><div style=\"display: table-cell;\">hidpi&nbsp;=&nbsp;True,</div></div><div class=\"1107\" style=\"display: none;\"><div style=\"display: table-cell;\"></div><div style=\"display: table-cell;\">inner_height&nbsp;=&nbsp;0,</div></div><div class=\"1107\" style=\"display: none;\"><div style=\"display: table-cell;\"></div><div style=\"display: table-cell;\">inner_width&nbsp;=&nbsp;0,</div></div><div class=\"1107\" style=\"display: none;\"><div style=\"display: table-cell;\"></div><div style=\"display: table-cell;\">js_event_callbacks&nbsp;=&nbsp;{},</div></div><div class=\"1107\" style=\"display: none;\"><div style=\"display: table-cell;\"></div><div style=\"display: table-cell;\">js_property_callbacks&nbsp;=&nbsp;{},</div></div><div class=\"1107\" style=\"display: none;\"><div style=\"display: table-cell;\"></div><div style=\"display: table-cell;\">left&nbsp;=&nbsp;[LinearAxis(id='1016', ...)],</div></div><div class=\"1107\" style=\"display: none;\"><div style=\"display: table-cell;\"></div><div style=\"display: table-cell;\">lod_factor&nbsp;=&nbsp;10,</div></div><div class=\"1107\" style=\"display: none;\"><div style=\"display: table-cell;\"></div><div style=\"display: table-cell;\">lod_interval&nbsp;=&nbsp;300,</div></div><div class=\"1107\" style=\"display: none;\"><div style=\"display: table-cell;\"></div><div style=\"display: table-cell;\">lod_threshold&nbsp;=&nbsp;2000,</div></div><div class=\"1107\" style=\"display: none;\"><div style=\"display: table-cell;\"></div><div style=\"display: table-cell;\">lod_timeout&nbsp;=&nbsp;500,</div></div><div class=\"1107\" style=\"display: none;\"><div style=\"display: table-cell;\"></div><div style=\"display: table-cell;\">margin&nbsp;=&nbsp;(0, 0, 0, 0),</div></div><div class=\"1107\" style=\"display: none;\"><div style=\"display: table-cell;\"></div><div style=\"display: table-cell;\">match_aspect&nbsp;=&nbsp;False,</div></div><div class=\"1107\" style=\"display: none;\"><div style=\"display: table-cell;\"></div><div style=\"display: table-cell;\">max_height&nbsp;=&nbsp;None,</div></div><div class=\"1107\" style=\"display: none;\"><div style=\"display: table-cell;\"></div><div style=\"display: table-cell;\">max_width&nbsp;=&nbsp;None,</div></div><div class=\"1107\" style=\"display: none;\"><div style=\"display: table-cell;\"></div><div style=\"display: table-cell;\">min_border&nbsp;=&nbsp;5,</div></div><div class=\"1107\" style=\"display: none;\"><div style=\"display: table-cell;\"></div><div style=\"display: table-cell;\">min_border_bottom&nbsp;=&nbsp;None,</div></div><div class=\"1107\" style=\"display: none;\"><div style=\"display: table-cell;\"></div><div style=\"display: table-cell;\">min_border_left&nbsp;=&nbsp;None,</div></div><div class=\"1107\" style=\"display: none;\"><div style=\"display: table-cell;\"></div><div style=\"display: table-cell;\">min_border_right&nbsp;=&nbsp;None,</div></div><div class=\"1107\" style=\"display: none;\"><div style=\"display: table-cell;\"></div><div style=\"display: table-cell;\">min_border_top&nbsp;=&nbsp;None,</div></div><div class=\"1107\" style=\"display: none;\"><div style=\"display: table-cell;\"></div><div style=\"display: table-cell;\">min_height&nbsp;=&nbsp;None,</div></div><div class=\"1107\" style=\"display: none;\"><div style=\"display: table-cell;\"></div><div style=\"display: table-cell;\">min_width&nbsp;=&nbsp;None,</div></div><div class=\"1107\" style=\"display: none;\"><div style=\"display: table-cell;\"></div><div style=\"display: table-cell;\">name&nbsp;=&nbsp;None,</div></div><div class=\"1107\" style=\"display: none;\"><div style=\"display: table-cell;\"></div><div style=\"display: table-cell;\">outer_height&nbsp;=&nbsp;0,</div></div><div class=\"1107\" style=\"display: none;\"><div style=\"display: table-cell;\"></div><div style=\"display: table-cell;\">outer_width&nbsp;=&nbsp;0,</div></div><div class=\"1107\" style=\"display: none;\"><div style=\"display: table-cell;\"></div><div style=\"display: table-cell;\">outline_line_alpha&nbsp;=&nbsp;1.0,</div></div><div class=\"1107\" style=\"display: none;\"><div style=\"display: table-cell;\"></div><div style=\"display: table-cell;\">outline_line_cap&nbsp;=&nbsp;'butt',</div></div><div class=\"1107\" style=\"display: none;\"><div style=\"display: table-cell;\"></div><div style=\"display: table-cell;\">outline_line_color&nbsp;=&nbsp;'#e5e5e5',</div></div><div class=\"1107\" style=\"display: none;\"><div style=\"display: table-cell;\"></div><div style=\"display: table-cell;\">outline_line_dash&nbsp;=&nbsp;[],</div></div><div class=\"1107\" style=\"display: none;\"><div style=\"display: table-cell;\"></div><div style=\"display: table-cell;\">outline_line_dash_offset&nbsp;=&nbsp;0,</div></div><div class=\"1107\" style=\"display: none;\"><div style=\"display: table-cell;\"></div><div style=\"display: table-cell;\">outline_line_join&nbsp;=&nbsp;'bevel',</div></div><div class=\"1107\" style=\"display: none;\"><div style=\"display: table-cell;\"></div><div style=\"display: table-cell;\">outline_line_width&nbsp;=&nbsp;1,</div></div><div class=\"1107\" style=\"display: none;\"><div style=\"display: table-cell;\"></div><div style=\"display: table-cell;\">output_backend&nbsp;=&nbsp;'canvas',</div></div><div class=\"1107\" style=\"display: none;\"><div style=\"display: table-cell;\"></div><div style=\"display: table-cell;\">renderers&nbsp;=&nbsp;[GlyphRenderer(id='1037', ...)],</div></div><div class=\"1107\" style=\"display: none;\"><div style=\"display: table-cell;\"></div><div style=\"display: table-cell;\">reset_policy&nbsp;=&nbsp;'standard',</div></div><div class=\"1107\" style=\"display: none;\"><div style=\"display: table-cell;\"></div><div style=\"display: table-cell;\">right&nbsp;=&nbsp;[],</div></div><div class=\"1107\" style=\"display: none;\"><div style=\"display: table-cell;\"></div><div style=\"display: table-cell;\">sizing_mode&nbsp;=&nbsp;None,</div></div><div class=\"1107\" style=\"display: none;\"><div style=\"display: table-cell;\"></div><div style=\"display: table-cell;\">subscribed_events&nbsp;=&nbsp;[],</div></div><div class=\"1107\" style=\"display: none;\"><div style=\"display: table-cell;\"></div><div style=\"display: table-cell;\">syncable&nbsp;=&nbsp;True,</div></div><div class=\"1107\" style=\"display: none;\"><div style=\"display: table-cell;\"></div><div style=\"display: table-cell;\">tags&nbsp;=&nbsp;[],</div></div><div class=\"1107\" style=\"display: none;\"><div style=\"display: table-cell;\"></div><div style=\"display: table-cell;\">title&nbsp;=&nbsp;Title(id='1041', ...),</div></div><div class=\"1107\" style=\"display: none;\"><div style=\"display: table-cell;\"></div><div style=\"display: table-cell;\">title_location&nbsp;=&nbsp;'above',</div></div><div class=\"1107\" style=\"display: none;\"><div style=\"display: table-cell;\"></div><div style=\"display: table-cell;\">toolbar&nbsp;=&nbsp;Toolbar(id='1027', ...),</div></div><div class=\"1107\" style=\"display: none;\"><div style=\"display: table-cell;\"></div><div style=\"display: table-cell;\">toolbar_location&nbsp;=&nbsp;'right',</div></div><div class=\"1107\" style=\"display: none;\"><div style=\"display: table-cell;\"></div><div style=\"display: table-cell;\">toolbar_sticky&nbsp;=&nbsp;True,</div></div><div class=\"1107\" style=\"display: none;\"><div style=\"display: table-cell;\"></div><div style=\"display: table-cell;\">visible&nbsp;=&nbsp;True,</div></div><div class=\"1107\" style=\"display: none;\"><div style=\"display: table-cell;\"></div><div style=\"display: table-cell;\">width&nbsp;=&nbsp;600,</div></div><div class=\"1107\" style=\"display: none;\"><div style=\"display: table-cell;\"></div><div style=\"display: table-cell;\">width_policy&nbsp;=&nbsp;'auto',</div></div><div class=\"1107\" style=\"display: none;\"><div style=\"display: table-cell;\"></div><div style=\"display: table-cell;\">x_range&nbsp;=&nbsp;DataRange1d(id='1004', ...),</div></div><div class=\"1107\" style=\"display: none;\"><div style=\"display: table-cell;\"></div><div style=\"display: table-cell;\">x_scale&nbsp;=&nbsp;LinearScale(id='1008', ...),</div></div><div class=\"1107\" style=\"display: none;\"><div style=\"display: table-cell;\"></div><div style=\"display: table-cell;\">y_range&nbsp;=&nbsp;DataRange1d(id='1006', ...),</div></div><div class=\"1107\" style=\"display: none;\"><div style=\"display: table-cell;\"></div><div style=\"display: table-cell;\">y_scale&nbsp;=&nbsp;LinearScale(id='1010', ...))</div></div></div>\n",
              "<script>\n",
              "(function() {\n",
              "  var expanded = false;\n",
              "  var ellipsis = document.getElementById(\"1108\");\n",
              "  ellipsis.addEventListener(\"click\", function() {\n",
              "    var rows = document.getElementsByClassName(\"1107\");\n",
              "    for (var i = 0; i < rows.length; i++) {\n",
              "      var el = rows[i];\n",
              "      el.style.display = expanded ? \"none\" : \"table-row\";\n",
              "    }\n",
              "    ellipsis.innerHTML = expanded ? \"&hellip;)\" : \"&lsaquo;&lsaquo;&lsaquo;\";\n",
              "    expanded = !expanded;\n",
              "  });\n",
              "})();\n",
              "</script>\n"
            ],
            "text/plain": [
              "Figure(id='1003', ...)"
            ]
          },
          "metadata": {},
          "execution_count": 25
        }
      ]
    },
    {
      "cell_type": "markdown",
      "metadata": {
        "id": "0fNF6LRQ9MPI"
      },
      "source": [
        "Скорее всего, на визуализации нет четкого разделения твитов между классами. Это значит, что по полученным нами векторам твитов не так-то просто определить, к какому классу твит пренадлежит. Значит, обычный линейный классификатор не очень хорошо справится с задачей. Надо будет делать глубокую (хотя бы два слоя) нейронную сеть.\n",
        "\n",
        "Подготовим загрузчики данных.\n",
        "Усреднение векторов будем делать в \"батчевалке\"(`collate_fn`). Она используется для того, чтобы собирать из данных `torch.Tensor` батчи, которые можно отправлять в модель.\n"
      ]
    },
    {
      "cell_type": "code",
      "metadata": {
        "id": "y1XapsADtITv"
      },
      "source": [
        "from torch.utils.data import DataLoader\n",
        "\n",
        "batch_size = 1024\n",
        "num_workers = 2\n",
        "\n",
        "def average_emb(batch):\n",
        "    features = [np.mean(b[\"feature\"], axis=0) for b in batch]\n",
        "    targets = [b[\"target\"] for b in batch]\n",
        "\n",
        "    # return {\"features\": torch.FloatTensor(features), \n",
        "    #         \"targets\": torch.LongTensor(targets)}\n",
        "    # заменила Long на Float, иначе ошибка при обучении\n",
        "    return {\"features\": torch.FloatTensor(features), \n",
        "            \"targets\": torch.FloatTensor(targets)} \n",
        "\n",
        "train_size = math.ceil(len(dev) * 0.8)\n",
        "\n",
        "train, valid = random_split(dev, [train_size, len(dev) - train_size])\n",
        "\n",
        "train_loader = DataLoader(train, batch_size=batch_size, num_workers=num_workers,\n",
        "                          shuffle=True, drop_last=True, collate_fn=average_emb)\n",
        "valid_loader = DataLoader(valid, batch_size=batch_size, num_workers=num_workers, \n",
        "                          shuffle=False, drop_last=False, collate_fn=average_emb)"
      ],
      "execution_count": null,
      "outputs": []
    },
    {
      "cell_type": "code",
      "metadata": {
        "colab": {
          "base_uri": "https://localhost:8080/"
        },
        "id": "fEY6D3QP3Fl8",
        "outputId": "75e9986f-a20b-4dac-e60e-201720c8869c"
      },
      "source": [
        "len(train)"
      ],
      "execution_count": null,
      "outputs": [
        {
          "output_type": "execute_result",
          "data": {
            "text/plain": [
              "1024000"
            ]
          },
          "metadata": {},
          "execution_count": 28
        }
      ]
    },
    {
      "cell_type": "markdown",
      "metadata": {
        "id": "p-zs0WEK-Vkt"
      },
      "source": [
        "Определим функции для тренировки и теста модели:"
      ]
    },
    {
      "cell_type": "code",
      "metadata": {
        "id": "U--T2Gjw1r27"
      },
      "source": [
        "from tqdm.notebook import tqdm\n",
        "\n",
        "def training(model, optimizer, criterion, train_loader, epoch, device=\"cpu\"):\n",
        "\n",
        "    # e - это из \"for e in range(num_epochs):\", см. код дальше\n",
        "    pbar = tqdm(train_loader, desc=f\"Epoch {e + 1}. Train Loss: {0}\") \n",
        "    model.train()\n",
        "    for batch in pbar:\n",
        "        features = batch[\"features\"].to(device)\n",
        "        targets = batch[\"targets\"].to(device)\n",
        "        targets = targets.reshape(-1, 1)\n",
        "\n",
        "        # set parameter gradients to zero\n",
        "        optimizer.zero_grad()\n",
        "\n",
        "        # Получи предсказания модели\n",
        "        Y_pred = model(features)\n",
        "        loss = criterion(Y_pred, targets) # Посчитай лосс\n",
        "        loss.backward()\n",
        "        optimizer.step()  # Обнови параметры модели\n",
        "\n",
        "        pbar.set_description(f\"Epoch {e + 1}. Train Loss: {loss:.4}\")\n",
        "    \n",
        "\n",
        "def testing(model, criterion, test_loader, device=\"cpu\"): \n",
        "    pbar = tqdm(test_loader, desc=f\"Test Loss: {0}, Test Acc: {0}\")\n",
        "    mean_loss = 0\n",
        "    mean_acc = 0\n",
        "    model.eval()\n",
        "    with torch.no_grad():\n",
        "        for batch in pbar:\n",
        "            features = batch[\"features\"].to(device)\n",
        "            targets = batch[\"targets\"].to(device)\n",
        "            targets = targets.reshape(-1, 1)\n",
        "\n",
        "            # Получи предсказания модели\n",
        "            Y_hat = model(features)\n",
        "            loss = criterion(Y_hat, targets) # Посчитай лосс\n",
        "\n",
        "            Y_hat = torch.sigmoid(Y_hat)\n",
        "            Y_hat = (Y_hat>0.5).type(torch.long)\n",
        "            \n",
        "            # Посчитай точность модели\n",
        "            acc = torch.sum(Y_hat == targets) / len(targets)\n",
        "\n",
        "            # mean_loss += loss.item()\n",
        "            # mean_acc += acc.item()\n",
        "            mean_loss += loss.cpu().detach()\n",
        "            mean_acc += acc.cpu().detach()\n",
        "\n",
        "            pbar.set_description(f\"Test Loss: {loss:.4}, Test Acc: {acc:.4}\")\n",
        "\n",
        "    pbar.set_description(f\"Test Loss: {mean_loss / len(test_loader):.4}, \\\n",
        "                           Test Acc: {mean_acc / len(test_loader):.4}\")\n",
        "\n",
        "    return {\"Test Loss\": mean_loss / len(test_loader), \n",
        "            \"Test Acc\": mean_acc / len(test_loader)}"
      ],
      "execution_count": 21,
      "outputs": []
    },
    {
      "cell_type": "markdown",
      "metadata": {
        "id": "oVg_XBBb-YBH"
      },
      "source": [
        "Создадим модель, оптимизатор и целевую функцию. Вы можете сами выбрать количество слоев в нейронной сети, ваш любимый оптимизатор и целевую функцию.\n"
      ]
    },
    {
      "cell_type": "code",
      "metadata": {
        "id": "EBoZ4F3Fx1Hm"
      },
      "source": [
        "import torch.nn as nn\n",
        "from torch.optim import Adam\n",
        "\n",
        "# Не забудь поиграться с параметрами ;)\n",
        "vector_size = dev.word2vec.vector_size\n",
        "# lr = 2e-2\n",
        "lr = 3e-2\n",
        "num_epochs = 8\n",
        "\n",
        "model = nn.Sequential(\n",
        "  nn.Linear(vector_size, 128),\n",
        "  nn.ELU(), #nn.ReLU(),\n",
        "  nn.Linear(128, 64),\n",
        "  nn.ELU(),  #nn.ReLU(),\n",
        "  nn.Linear(64, 32),\n",
        "  nn.ELU(),  #nn.ReLU(),\n",
        "  nn.Linear(32, 1)\n",
        ")\n",
        "\n",
        "model = model.to(device)\n",
        "criterion = nn.BCEWithLogitsLoss()\n",
        "optimizer = Adam(model.parameters(), lr=lr)# Твой оптимайзер\n",
        "scheduler = torch.optim.lr_scheduler.StepLR(optimizer, 2, 0.5)"
      ],
      "execution_count": null,
      "outputs": []
    },
    {
      "cell_type": "markdown",
      "metadata": {
        "id": "-AitU8AR-zBj"
      },
      "source": [
        "Наконец, обучим модель и протестируем её.\n",
        "\n",
        "После каждой эпохи будем проверять качество модели на валидационной части датасета. Если метрика стала лучше, будем сохранять модель. **Подумайте, какая метрика (точность или лосс) будет лучше работать в этой задаче?** "
      ]
    },
    {
      "cell_type": "code",
      "metadata": {
        "colab": {
          "base_uri": "https://localhost:8080/",
          "height": 671,
          "referenced_widgets": [
            "d96d36cac1ea434b9e0fdd1bf71203b6",
            "b0e9dbe71add4a819f7ba2871529f073",
            "9a4ed4b3d0ea4ea9b8637578bcdb19c1",
            "cc20ddf44a88431890c4c2703c533ac9",
            "0fbf04c4b84a477a85571ca487479612",
            "beca2f2d0a7d48118059fad9b69ca6b2",
            "f0710381c6544f88b27577edb91df409",
            "8f81ce09b8e243929d5179d69562d799",
            "519a75647290464fbac0354594c40691",
            "c7b1fead93f04569ae82804d9af92e57",
            "375e7011a7d44fea9da932dc53e58746",
            "d867651072c441d2a6f87c62a186c8fd",
            "e3e2f91dd9a34012835e3a72a137cb2b",
            "59ede8b267fd42b79bf099011419554d",
            "a8c015ea07e54dce9eb6f852d97d1507",
            "d0ecf7e69d9c4242be4d1ed53e138b99",
            "2e54ea2990de4804a705a1b36d13ca72",
            "f6c5ee777c804b00b8222baca10a03f9",
            "c670348943c24336beb1886b280a2c3b",
            "c90ee71a50ac47c9aee3a57a96dbf8b3",
            "9ad430fc9afe49198d1eaa6136f97738",
            "b2a60b78de6f47ee9b7a3f346d5502dd",
            "959606716da84c8f817d9f4a7b0e255b",
            "57a4b317872442a58f7da2ecdead598f",
            "d528e6480d4a42729c8796d91eee759b",
            "6c83c56a5b12418596e9d45325eb1beb"
          ]
        },
        "id": "gKhk71Pmx1F1",
        "outputId": "7172ab2f-48dc-4c28-c16a-4ff9a3f42d49"
      },
      "source": [
        "best_metric = np.inf\n",
        "for e in range(num_epochs):\n",
        "    training(model, optimizer, criterion, train_loader, e, device)\n",
        "    log = testing(model, criterion, valid_loader, device)\n",
        "    scheduler.step()\n",
        "    print(log)\n",
        "    if log[\"Test Loss\"] < best_metric:\n",
        "        torch.save(model.state_dict(), \"model.pt\")\n",
        "        best_metric = log[\"Test Loss\"]\n",
        "\n",
        "# 1 эпоха\n",
        "\n",
        "# {'Test Loss': 0.5086260961294174, 'Test Acc': 0.74740234375}    nltk.WordPunctTokenizer() + токены от 4 букв\n",
        "# {'Test Loss': 0.4792954614162445, 'Test Acc': 0.76518359375}    nltk.WordPunctTokenizer() + токены от 3 букв \n",
        "# {'Test Loss': 0.5027369836568832, 'Test Acc': 0.75190625}       re - слова и цифры + лемматизация\n",
        "# {'Test Loss': 0.5026048966646195, 'Test Acc': 0.7523671875}     re - только слова + лемматизация\n",
        "# {'Test Loss': 0.5023029655218124, 'Test Acc': 0.75173828125}    nltk.WordPunctTokenizer() + токены от 3 букв + лемматизация + стопслова\n",
        "# {'Test Loss': 0.5050759416818619, 'Test Acc': 0.74971484375}    nltk.WordPunctTokenizer() + токены от 3 букв + стопслова\n",
        "\n",
        "# 7 эпох без scheduler\n",
        "# {'Test Loss': 0.471956852555275, 'Test Acc': 0.77211328125}     nn.ReLU(), nltk.WordPunctTokenizer() + токены от 3 букв \n",
        "# {'Test Loss': 0.47200359892845156, 'Test Acc': 0.77148828125}   nn.Sigmoid(), nltk.WordPunctTokenizer() + токены от 3 букв \n",
        "# {'Test Loss': 0.4656857228279114, 'Test Acc': 0.77419140625}    nn.ELU(), nltk.WordPunctTokenizer() + токены от 3 букв \n",
        "\n",
        "# 7 эпох + scheduler, lr = 3e-2, StepLR(optimizer, 2, 0.5)\n",
        "# {'Test Loss': 0.464349937081337, 'Test Acc': 0.775546875}       nn.ELU(), nltk.WordPunctTokenizer() + токены от 3 букв \n",
        "\n",
        "# 8 эпох + scheduler, lr = 4e-2, StepLR(optimizer, 2, 0.5)\n",
        "# {'Test Loss': 0.4670651023387909, 'Test Acc': 0.7745859375}     nn.ELU(), nltk.WordPunctTokenizer() + токены от 3 букв \n",
        "# {'Test Loss': tensor(0.4896), 'Test Acc': tensor(0.7607)}       nn.ELU(), re - только слова + токены от 3 букв + лемматизация + стопслова\n",
        "\n",
        "# 5 эпох + scheduler\n",
        "# {'Test Loss': 0.46883220064640047, 'Test Acc': 0.77308984375}   nltk.WordPunctTokenizer() + токены от 3 букв "
      ],
      "execution_count": null,
      "outputs": [
        {
          "output_type": "display_data",
          "data": {
            "application/vnd.jupyter.widget-view+json": {
              "model_id": "d96d36cac1ea434b9e0fdd1bf71203b6",
              "version_minor": 0,
              "version_major": 2
            },
            "text/plain": [
              "Epoch 1. Train Loss: 0:   0%|          | 0/1000 [00:00<?, ?it/s]"
            ]
          },
          "metadata": {}
        },
        {
          "output_type": "display_data",
          "data": {
            "application/vnd.jupyter.widget-view+json": {
              "model_id": "d867651072c441d2a6f87c62a186c8fd",
              "version_minor": 0,
              "version_major": 2
            },
            "text/plain": [
              "Test Loss: 0, Test Acc: 0:   0%|          | 0/250 [00:00<?, ?it/s]"
            ]
          },
          "metadata": {}
        },
        {
          "output_type": "stream",
          "name": "stdout",
          "text": [
            "{'Test Loss': tensor(0.5064), 'Test Acc': tensor(0.7483)}\n"
          ]
        },
        {
          "output_type": "display_data",
          "data": {
            "application/vnd.jupyter.widget-view+json": {
              "model_id": "e3e2f91dd9a34012835e3a72a137cb2b",
              "version_minor": 0,
              "version_major": 2
            },
            "text/plain": [
              "Epoch 2. Train Loss: 0:   0%|          | 0/1000 [00:00<?, ?it/s]"
            ]
          },
          "metadata": {}
        },
        {
          "output_type": "display_data",
          "data": {
            "application/vnd.jupyter.widget-view+json": {
              "model_id": "59ede8b267fd42b79bf099011419554d",
              "version_minor": 0,
              "version_major": 2
            },
            "text/plain": [
              "Test Loss: 0, Test Acc: 0:   0%|          | 0/250 [00:00<?, ?it/s]"
            ]
          },
          "metadata": {}
        },
        {
          "output_type": "stream",
          "name": "stdout",
          "text": [
            "{'Test Loss': tensor(0.5081), 'Test Acc': tensor(0.7449)}\n"
          ]
        },
        {
          "output_type": "display_data",
          "data": {
            "application/vnd.jupyter.widget-view+json": {
              "model_id": "a8c015ea07e54dce9eb6f852d97d1507",
              "version_minor": 0,
              "version_major": 2
            },
            "text/plain": [
              "Epoch 3. Train Loss: 0:   0%|          | 0/1000 [00:00<?, ?it/s]"
            ]
          },
          "metadata": {}
        },
        {
          "output_type": "display_data",
          "data": {
            "application/vnd.jupyter.widget-view+json": {
              "model_id": "d0ecf7e69d9c4242be4d1ed53e138b99",
              "version_minor": 0,
              "version_major": 2
            },
            "text/plain": [
              "Test Loss: 0, Test Acc: 0:   0%|          | 0/250 [00:00<?, ?it/s]"
            ]
          },
          "metadata": {}
        },
        {
          "output_type": "stream",
          "name": "stdout",
          "text": [
            "{'Test Loss': tensor(0.4966), 'Test Acc': tensor(0.7541)}\n"
          ]
        },
        {
          "output_type": "display_data",
          "data": {
            "application/vnd.jupyter.widget-view+json": {
              "model_id": "2e54ea2990de4804a705a1b36d13ca72",
              "version_minor": 0,
              "version_major": 2
            },
            "text/plain": [
              "Epoch 4. Train Loss: 0:   0%|          | 0/1000 [00:00<?, ?it/s]"
            ]
          },
          "metadata": {}
        },
        {
          "output_type": "display_data",
          "data": {
            "application/vnd.jupyter.widget-view+json": {
              "model_id": "f6c5ee777c804b00b8222baca10a03f9",
              "version_minor": 0,
              "version_major": 2
            },
            "text/plain": [
              "Test Loss: 0, Test Acc: 0:   0%|          | 0/250 [00:00<?, ?it/s]"
            ]
          },
          "metadata": {}
        },
        {
          "output_type": "stream",
          "name": "stdout",
          "text": [
            "{'Test Loss': tensor(0.4965), 'Test Acc': tensor(0.7550)}\n"
          ]
        },
        {
          "output_type": "display_data",
          "data": {
            "application/vnd.jupyter.widget-view+json": {
              "model_id": "c670348943c24336beb1886b280a2c3b",
              "version_minor": 0,
              "version_major": 2
            },
            "text/plain": [
              "Epoch 5. Train Loss: 0:   0%|          | 0/1000 [00:00<?, ?it/s]"
            ]
          },
          "metadata": {}
        },
        {
          "output_type": "display_data",
          "data": {
            "application/vnd.jupyter.widget-view+json": {
              "model_id": "c90ee71a50ac47c9aee3a57a96dbf8b3",
              "version_minor": 0,
              "version_major": 2
            },
            "text/plain": [
              "Test Loss: 0, Test Acc: 0:   0%|          | 0/250 [00:00<?, ?it/s]"
            ]
          },
          "metadata": {}
        },
        {
          "output_type": "stream",
          "name": "stdout",
          "text": [
            "{'Test Loss': tensor(0.4907), 'Test Acc': tensor(0.7606)}\n"
          ]
        },
        {
          "output_type": "display_data",
          "data": {
            "application/vnd.jupyter.widget-view+json": {
              "model_id": "9ad430fc9afe49198d1eaa6136f97738",
              "version_minor": 0,
              "version_major": 2
            },
            "text/plain": [
              "Epoch 6. Train Loss: 0:   0%|          | 0/1000 [00:00<?, ?it/s]"
            ]
          },
          "metadata": {}
        },
        {
          "output_type": "display_data",
          "data": {
            "application/vnd.jupyter.widget-view+json": {
              "model_id": "b2a60b78de6f47ee9b7a3f346d5502dd",
              "version_minor": 0,
              "version_major": 2
            },
            "text/plain": [
              "Test Loss: 0, Test Acc: 0:   0%|          | 0/250 [00:00<?, ?it/s]"
            ]
          },
          "metadata": {}
        },
        {
          "output_type": "stream",
          "name": "stdout",
          "text": [
            "{'Test Loss': tensor(0.4899), 'Test Acc': tensor(0.7600)}\n"
          ]
        },
        {
          "output_type": "display_data",
          "data": {
            "application/vnd.jupyter.widget-view+json": {
              "model_id": "959606716da84c8f817d9f4a7b0e255b",
              "version_minor": 0,
              "version_major": 2
            },
            "text/plain": [
              "Epoch 7. Train Loss: 0:   0%|          | 0/1000 [00:00<?, ?it/s]"
            ]
          },
          "metadata": {}
        },
        {
          "output_type": "display_data",
          "data": {
            "application/vnd.jupyter.widget-view+json": {
              "model_id": "57a4b317872442a58f7da2ecdead598f",
              "version_minor": 0,
              "version_major": 2
            },
            "text/plain": [
              "Test Loss: 0, Test Acc: 0:   0%|          | 0/250 [00:00<?, ?it/s]"
            ]
          },
          "metadata": {}
        },
        {
          "output_type": "stream",
          "name": "stdout",
          "text": [
            "{'Test Loss': tensor(0.4895), 'Test Acc': tensor(0.7606)}\n"
          ]
        },
        {
          "output_type": "display_data",
          "data": {
            "application/vnd.jupyter.widget-view+json": {
              "model_id": "d528e6480d4a42729c8796d91eee759b",
              "version_minor": 0,
              "version_major": 2
            },
            "text/plain": [
              "Epoch 8. Train Loss: 0:   0%|          | 0/1000 [00:00<?, ?it/s]"
            ]
          },
          "metadata": {}
        },
        {
          "output_type": "display_data",
          "data": {
            "application/vnd.jupyter.widget-view+json": {
              "model_id": "6c83c56a5b12418596e9d45325eb1beb",
              "version_minor": 0,
              "version_major": 2
            },
            "text/plain": [
              "Test Loss: 0, Test Acc: 0:   0%|          | 0/250 [00:00<?, ?it/s]"
            ]
          },
          "metadata": {}
        },
        {
          "output_type": "stream",
          "name": "stdout",
          "text": [
            "{'Test Loss': tensor(0.4896), 'Test Acc': tensor(0.7607)}\n"
          ]
        }
      ]
    },
    {
      "cell_type": "code",
      "metadata": {
        "colab": {
          "base_uri": "https://localhost:8080/",
          "height": 67,
          "referenced_widgets": [
            "a8db98e95a414c118e8449b5ca35b7c4",
            "f9edff489c8e418c8db1aaeb060ec69c",
            "48024b8c8be44770831b2fe46ab6f89f",
            "45424d9d61284ce59700cb9826f9803f",
            "71dcf86db86641ab9b661bed3334ecb3",
            "b4f233e2e06049409445c4fef177920c",
            "e9eef4c15824480ab83898e9cd82e909",
            "5ec890bedb39465a908061dada27914f",
            "f5deb5a0127f44f493d72d47c25d8b50",
            "4ec96a4fd87240cd95ed3e1220e3d15d",
            "53d28a04444e40038362272137108e57"
          ]
        },
        "id": "di4dGwD4x1Dt",
        "outputId": "0e1527dd-d3bd-4a8c-e61f-e8dae1cb85b0"
      },
      "source": [
        "test_loader = DataLoader(\n",
        "    TwitterDataset(test_data, \"text\", \"emotion\", word2vec), \n",
        "    batch_size=batch_size, \n",
        "    num_workers=num_workers, \n",
        "    shuffle=False,\n",
        "    drop_last=False, \n",
        "    collate_fn=average_emb)\n",
        "\n",
        "model.load_state_dict(torch.load(\"model.pt\", map_location=device))\n",
        "\n",
        "print(testing(model, criterion, test_loader, device=device))\n",
        "\n",
        "# 1 эпоха без scheduler, nn.ReLU()\n",
        "\n",
        "# {'Test Loss': 0.5124567241523974, 'Test Acc': 0.7442467052715654}   nltk.WordPunctTokenizer() + токены от 4 букв\n",
        "# {'Test Loss': 0.4773869004112463, 'Test Acc': 0.7667887629792333}   nltk.WordPunctTokenizer() + токены от 3 букв  \n",
        "# {'Test Loss': 0.5021114643579855, 'Test Acc': 0.753113767971246}    re - слова и цифры + лемматизация\n",
        "# {'Test Loss': 0.5022929027057684, 'Test Acc': 0.7525116064297125}   re - только слова + лемматизация\n",
        "# {'Test Loss': 0.501444010879285, 'Test Acc': 0.7527331269968051}    nltk.WordPunctTokenizer() + токены от 3 букв + лемматизация\n",
        "\n",
        "# 7 эпох без scheduler\n",
        "# {'Test Loss': 0.4706440739357433, 'Test Acc': 0.7737557408146964}   nn.ReLU(), nltk.WordPunctTokenizer() + токены от 3 букв \n",
        "# {'Test Loss': 0.4713793450270217, 'Test Acc': 0.7721458166932907}   nn.Sigmoid(), nltk.WordPunctTokenizer() + токены от 3 букв \n",
        "# {'Test Loss': 0.46437684644144567, 'Test Acc': 0.7772938298722045}  nn.ELU(), nltk.WordPunctTokenizer() + токены от 3 букв \n",
        "\n",
        "# 7 эпох + scheduler, lr = 3e-2, StepLR(optimizer, 2, 0.5)\n",
        "# {'Test Loss': 0.46412132513789706, 'Test Acc': 0.7779396715255591}  nn.ELU(), nltk.WordPunctTokenizer() + токены от 3 букв !!!\n",
        "\n",
        "# 8 эпох + scheduler, lr = 4e-2, StepLR(optimizer, 2, 0.5)\n",
        "# {'Test Loss': 0.4666594393527546, 'Test Acc': 0.775814946086262}    nn.ELU(), nltk.WordPunctTokenizer() + токены от 3 букв \n",
        "\n",
        "# 8 эпох + scheduler, lr = 3e-2, StepLR(optimizer, 2, 0.5)\n",
        "# {'Test Loss': tensor(0.4892), 'Test Acc': tensor(0.7603)}          nn.ELU(), re - только слова + токены от 3 букв + лемматизация + стопслова"
      ],
      "execution_count": null,
      "outputs": [
        {
          "output_type": "display_data",
          "data": {
            "application/vnd.jupyter.widget-view+json": {
              "model_id": "a8db98e95a414c118e8449b5ca35b7c4",
              "version_minor": 0,
              "version_major": 2
            },
            "text/plain": [
              "Test Loss: 0, Test Acc: 0:   0%|          | 0/313 [00:00<?, ?it/s]"
            ]
          },
          "metadata": {}
        },
        {
          "output_type": "stream",
          "name": "stdout",
          "text": [
            "{'Test Loss': tensor(0.4892), 'Test Acc': tensor(0.7603)}\n"
          ]
        }
      ]
    },
    {
      "cell_type": "markdown",
      "metadata": {
        "id": "pQD_TFa8FmfG"
      },
      "source": [
        "Токенайзер nltk.WordPunctTokenizer() + токены от 3 букв выигрывает по качеству, дальше будем использовать его.  \n",
        "Сеть с функцией ошибки nn.ELU() показывает лучше качество, по сравнению с nn.ReLU() и nn.Sigmoid(). Использование scheduler повышает качество лишь в четвертом знаке после запятой. Итак, наилучшая базовая точность - 0.7779, дальше будем пробовать увеличить ее. "
      ]
    },
    {
      "cell_type": "markdown",
      "metadata": {
        "id": "ZRvzpldHSAu0"
      },
      "source": [
        "## Embeddings for unknown words (8 баллов)\n",
        "\n",
        "Пока что использовалась не вся информация из текста. Часть информации фильтровалось – если слова не было в словаре эмбеддингов, то мы просто превращали слово в нулевой вектор. Хочется использовать информацию по-максимуму. Поэтому рассмотрим другие способы обработки слов, которых нет в словаре. А именно:\n",
        "\n",
        "- Для каждого незнакомого слова будем запоминать его контекст(слова слева и справа от этого слова). Эмбеддингом нашего незнакомого слова будет сумма эмбеддингов всех слов из его контекста. (4 балла)\n",
        "- Для каждого слова текста получим его эмбеддинг из Tfidf с помощью ```TfidfVectorizer``` из [sklearn](https://scikit-learn.org/stable/modules/generated/sklearn.feature_extraction.text.TfidfVectorizer.html#sklearn.feature_extraction.text.TfidfVectorizer). Итоговым эмбеддингом для каждого слова будет сумма двух эмбеддингов: предобученного и Tfidf-ного. Для слов, которых нет в словаре предобученных эмбеддингов, результирующий эмбеддинг будет просто полученный из Tfidf. (4 балла)\n",
        "\n",
        "Реализуйте оба варианта **ниже**. Напишите, какой способ сработал лучше и ваши мысли, почему так получилось."
      ]
    },
    {
      "cell_type": "markdown",
      "metadata": {
        "id": "3W6YJUkVcAaf"
      },
      "source": [
        "1. Для каждого незнакомого слова будем запоминать его контекст(слова слева и справа от этого слова). Эмбеддингом нашего незнакомого слова будет сумма эмбеддингов всех слов из его контекста. (4 балла)"
      ]
    },
    {
      "cell_type": "markdown",
      "metadata": {
        "id": "eqkVRax1PEO0"
      },
      "source": [
        "# Без весов на дальность слова"
      ]
    },
    {
      "cell_type": "code",
      "metadata": {
        "id": "kKqTVusbREii"
      },
      "source": [
        "from torch.utils.data import Dataset, random_split\n",
        "\n",
        "class TwitterDataset_Context(Dataset):\n",
        "    def __init__(self, data: pd.DataFrame, feature_column: str, \n",
        "                 target_column: str, word2vec: gensim.models.Word2Vec, window: int):\n",
        "        self.tokenizer = nltk.WordPunctTokenizer()\n",
        "        \n",
        "        self.data = data\n",
        "\n",
        "        self.feature_column = feature_column\n",
        "        self.target_column = target_column\n",
        "\n",
        "        self.word2vec = word2vec\n",
        "        self.window =  window # ширина окна\n",
        "\n",
        "        self.label2num = lambda label: 0 if label == 0 else 1\n",
        "        self.mean = np.mean(word2vec.vectors, axis=0)\n",
        "        self.std = np.std(word2vec.vectors, axis=0)\n",
        "\n",
        "    def __getitem__(self, item):\n",
        "        text = self.data[self.feature_column][item]\n",
        "        label = self.label2num(self.data[self.target_column][item])\n",
        "\n",
        "        tokens = self.get_tokens_(text)\n",
        "        embeddings = self.get_embeddings_(tokens)\n",
        "\n",
        "        return {\"feature\": embeddings, \"target\": label}\n",
        "\n",
        "    def get_tokens_(self, text):\n",
        "        # Получи все токены из текста и профильтруй их\n",
        "        line = self.tokenizer.tokenize(text.lower())\n",
        "        tokens = [w for w in line if all(c not in string.punctuation for c in w)]\n",
        "        tokens = [w for w in tokens if len(w) > 2] \n",
        "        return tokens\n",
        "\n",
        "    def get_embeddings_(self, tokens):\n",
        "        # пустой шаблон - число токенов в твите на 300(W2V)\n",
        "        embeddings = np.zeros((len(tokens), self.word2vec.vector_size))  \n",
        "\n",
        "        for i in range(len(tokens)):\n",
        "\n",
        "          if tokens[i] in self.word2vec:\n",
        "              # Получи эмбеддинги слов и усредни их\n",
        "              embeddings[i] = (self.word2vec.get_vector(tokens[i]) - self.mean) \\\n",
        "                               / self.std \n",
        "\n",
        "          else:\n",
        "            # определяем левую границу контекста\n",
        "            left = max(i - self.window, 0)\n",
        "            if i == 0:\n",
        "              left = 1\n",
        "\n",
        "            # определяем правую границу контекста\n",
        "            right = min(i + self.window + 1, len(tokens))\n",
        "            \n",
        "            num = 0\n",
        "            for e in range(left, right):\n",
        "                if tokens[e] in self.word2vec:\n",
        "                   embeddings[i] += (self.word2vec.get_vector(tokens[e]) - self.mean) \\\n",
        "                                    / self.std\n",
        "                   num += 1 \n",
        "                   # tokens[i], если i попадает в  range(left, right) все равно\n",
        "                   # не будет учитываться в num, т.к. его нет в self.word2vec\n",
        "            if num != 0:      \n",
        "              # усредняем вектор неизвестного слова по числу известных слов из контекста   \n",
        "              embeddings[i] = embeddings[i] / num   \n",
        "\n",
        "        if len(embeddings) == 0:\n",
        "            embeddings = np.zeros((1, self.word2vec.vector_size))\n",
        "        else:\n",
        "          embeddings = np.array(embeddings)\n",
        "          if len(embeddings.shape) == 1:\n",
        "              embeddings = embeddings.reshape(1, -1)\n",
        "\n",
        "        return embeddings\n",
        "\n",
        "    def __len__(self):\n",
        "        return self.data.shape[0]"
      ],
      "execution_count": null,
      "outputs": []
    },
    {
      "cell_type": "code",
      "metadata": {
        "id": "6QPFvkrKcEAQ"
      },
      "source": [
        "dev_Context = TwitterDataset_Context(dev_data, \"text\", \"emotion\", word2vec, 3)"
      ],
      "execution_count": null,
      "outputs": []
    },
    {
      "cell_type": "code",
      "metadata": {
        "id": "P8ImUv4Cd4bQ"
      },
      "source": [
        "# from torch.utils.data import DataLoader\n",
        "\n",
        "batch_size = 1024\n",
        "num_workers = 2\n",
        "\n",
        "train_size = math.ceil(len(dev_Context) * 0.8)\n",
        "\n",
        "train, valid = random_split(dev_Context, [train_size, len(dev_Context) - train_size])\n",
        "\n",
        "train_loader = DataLoader(train, batch_size=batch_size, num_workers=num_workers, \n",
        "                          shuffle=True, drop_last=True, collate_fn=average_emb)\n",
        "valid_loader = DataLoader(valid, batch_size=batch_size, num_workers=num_workers, \n",
        "                          shuffle=False, drop_last=False, collate_fn=average_emb)"
      ],
      "execution_count": null,
      "outputs": []
    },
    {
      "cell_type": "code",
      "metadata": {
        "id": "Do3cT_wSd4gV"
      },
      "source": [
        "# import torch.nn as nn\n",
        "# from torch.optim import Adam\n",
        "\n",
        "vector_size = dev.word2vec.vector_size\n",
        "# lr = 2e-2\n",
        "lr = 3e-2\n",
        "num_epochs = 8\n",
        "\n",
        "model = nn.Sequential(\n",
        "  nn.Linear(vector_size, 128),\n",
        "  nn.ELU(), #nn.ReLU(),\n",
        "  nn.Linear(128, 64),\n",
        "  nn.ELU(),  #nn.ReLU(),\n",
        "  nn.Linear(64, 32),\n",
        "  nn.ELU(),  #nn.ReLU(),\n",
        "  nn.Linear(32, 1)\n",
        ")\n",
        "\n",
        "model = model.to(device)\n",
        "criterion = nn.BCEWithLogitsLoss()\n",
        "optimizer = Adam(model.parameters(), lr=lr)# Твой оптимайзер\n",
        "scheduler = torch.optim.lr_scheduler.StepLR(optimizer, 2, 0.5)"
      ],
      "execution_count": null,
      "outputs": []
    },
    {
      "cell_type": "code",
      "metadata": {
        "colab": {
          "base_uri": "https://localhost:8080/",
          "height": 671,
          "referenced_widgets": [
            "71e67e31f5b54ef493a146da2aaa141d",
            "54cb34f0987841a38d3471eb6ba39297",
            "9f70d89fe93540c1ba5f57b360a9d748",
            "ff5b9d6669674008a6be492e298b517d",
            "fffce64c628a41319e19bbde8dbdc0fe",
            "f664490fe35d41d99174318ebd944c09",
            "6619b3fbcc3345648e4f2f0ca362276a",
            "9d53abba22df43db9bdfbb5c875ae68c",
            "da8ca118174446d5a67f26ce58556ac6",
            "f1192a5317764d638499eb54f7f7e775",
            "4ecc39f8d12c4649b03166404f193b3f",
            "1cea62727a65467b8b6a4f78a00e126b",
            "0298709fb73f42b0adec307f2696ebdc",
            "0a1befe098fa40e0a4c48ecab12f6181",
            "001a0f2a4b3e46628b5544b8a13f494d",
            "744427ac09784842bfec37b41d534993",
            "456b82a3559e481ab97c071dbc5ac634",
            "01ec88101a6442159ccd3b45d962f8e1",
            "bedc92bb0ac545cfa63982b418e72829",
            "e197e5b91509454198a929500bd36d29",
            "bdfa8ae4f035489996b8ca950c977f94",
            "207ed1efcfef4fe19ffdcbd35e62b559",
            "91a2333a09fd48c899565e95c74807e2",
            "be947cc131dc4fa59351365e293f3e72",
            "4c8af7a948b34bd88e67bc39e08b135d",
            "3583862541c24011bce8973164fbe8f6"
          ]
        },
        "id": "ntnvtMVxd4iw",
        "outputId": "eb04a76e-b44c-4fb5-8504-7406f93bcc64"
      },
      "source": [
        "best_metric = np.inf\n",
        "for e in range(num_epochs):\n",
        "    training(model, optimizer, criterion, train_loader, e, device)\n",
        "    log = testing(model, criterion, valid_loader, device)\n",
        "    scheduler.step()\n",
        "    print(log)\n",
        "    if log[\"Test Loss\"] < best_metric:\n",
        "        torch.save(model.state_dict(), \"model.pt\")\n",
        "        best_metric = log[\"Test Loss\"]\n",
        "\n",
        "# 5 эпох + scheduler, , #nn.ReLU(),\n",
        "# {'Test Loss': 0.4674265706539154, 'Test Acc': 0.77584765625} - window=3    \n",
        "\n",
        "# 7 эпох + scheduler, , #nn.ReLU(),\n",
        "# {'Test Loss': 0.4705249682664871, 'Test Acc': 0.7741484375} - window=5, lr = 2e-2\n",
        "# {'Test Loss': 0.48140932369232176, 'Test Acc': 0.7675} - window=5, lr = 5e-2\n",
        "\n",
        "# 8 эпох + scheduler, lr = 3e-2, StepLR(optimizer, 2, 0.5), nn.ELU()\n",
        "# {'Test Loss': 0.4623195480108261, 'Test Acc': 0.77742578125} - window=5\n",
        "# {'Test Loss': 0.46589837050437927, 'Test Acc': 0.7765078125}- window=3"
      ],
      "execution_count": null,
      "outputs": [
        {
          "output_type": "display_data",
          "data": {
            "application/vnd.jupyter.widget-view+json": {
              "model_id": "71e67e31f5b54ef493a146da2aaa141d",
              "version_minor": 0,
              "version_major": 2
            },
            "text/plain": [
              "Epoch 1. Train Loss: 0:   0%|          | 0/1000 [00:00<?, ?it/s]"
            ]
          },
          "metadata": {}
        },
        {
          "output_type": "display_data",
          "data": {
            "application/vnd.jupyter.widget-view+json": {
              "model_id": "1cea62727a65467b8b6a4f78a00e126b",
              "version_minor": 0,
              "version_major": 2
            },
            "text/plain": [
              "Test Loss: 0, Test Acc: 0:   0%|          | 0/250 [00:00<?, ?it/s]"
            ]
          },
          "metadata": {}
        },
        {
          "output_type": "stream",
          "name": "stdout",
          "text": [
            "{'Test Loss': 0.48776157426834105, 'Test Acc': 0.76229296875}\n"
          ]
        },
        {
          "output_type": "display_data",
          "data": {
            "application/vnd.jupyter.widget-view+json": {
              "model_id": "0298709fb73f42b0adec307f2696ebdc",
              "version_minor": 0,
              "version_major": 2
            },
            "text/plain": [
              "Epoch 2. Train Loss: 0:   0%|          | 0/1000 [00:00<?, ?it/s]"
            ]
          },
          "metadata": {}
        },
        {
          "output_type": "display_data",
          "data": {
            "application/vnd.jupyter.widget-view+json": {
              "model_id": "0a1befe098fa40e0a4c48ecab12f6181",
              "version_minor": 0,
              "version_major": 2
            },
            "text/plain": [
              "Test Loss: 0, Test Acc: 0:   0%|          | 0/250 [00:00<?, ?it/s]"
            ]
          },
          "metadata": {}
        },
        {
          "output_type": "stream",
          "name": "stdout",
          "text": [
            "{'Test Loss': 0.48389662671089173, 'Test Acc': 0.76411328125}\n"
          ]
        },
        {
          "output_type": "display_data",
          "data": {
            "application/vnd.jupyter.widget-view+json": {
              "model_id": "001a0f2a4b3e46628b5544b8a13f494d",
              "version_minor": 0,
              "version_major": 2
            },
            "text/plain": [
              "Epoch 3. Train Loss: 0:   0%|          | 0/1000 [00:00<?, ?it/s]"
            ]
          },
          "metadata": {}
        },
        {
          "output_type": "display_data",
          "data": {
            "application/vnd.jupyter.widget-view+json": {
              "model_id": "744427ac09784842bfec37b41d534993",
              "version_minor": 0,
              "version_major": 2
            },
            "text/plain": [
              "Test Loss: 0, Test Acc: 0:   0%|          | 0/250 [00:00<?, ?it/s]"
            ]
          },
          "metadata": {}
        },
        {
          "output_type": "stream",
          "name": "stdout",
          "text": [
            "{'Test Loss': 0.47676617789268494, 'Test Acc': 0.77030078125}\n"
          ]
        },
        {
          "output_type": "display_data",
          "data": {
            "application/vnd.jupyter.widget-view+json": {
              "model_id": "456b82a3559e481ab97c071dbc5ac634",
              "version_minor": 0,
              "version_major": 2
            },
            "text/plain": [
              "Epoch 4. Train Loss: 0:   0%|          | 0/1000 [00:00<?, ?it/s]"
            ]
          },
          "metadata": {}
        },
        {
          "output_type": "display_data",
          "data": {
            "application/vnd.jupyter.widget-view+json": {
              "model_id": "01ec88101a6442159ccd3b45d962f8e1",
              "version_minor": 0,
              "version_major": 2
            },
            "text/plain": [
              "Test Loss: 0, Test Acc: 0:   0%|          | 0/250 [00:00<?, ?it/s]"
            ]
          },
          "metadata": {}
        },
        {
          "output_type": "stream",
          "name": "stdout",
          "text": [
            "{'Test Loss': 0.4730994801521301, 'Test Acc': 0.77021484375}\n"
          ]
        },
        {
          "output_type": "display_data",
          "data": {
            "application/vnd.jupyter.widget-view+json": {
              "model_id": "bedc92bb0ac545cfa63982b418e72829",
              "version_minor": 0,
              "version_major": 2
            },
            "text/plain": [
              "Epoch 5. Train Loss: 0:   0%|          | 0/1000 [00:00<?, ?it/s]"
            ]
          },
          "metadata": {}
        },
        {
          "output_type": "display_data",
          "data": {
            "application/vnd.jupyter.widget-view+json": {
              "model_id": "e197e5b91509454198a929500bd36d29",
              "version_minor": 0,
              "version_major": 2
            },
            "text/plain": [
              "Test Loss: 0, Test Acc: 0:   0%|          | 0/250 [00:00<?, ?it/s]"
            ]
          },
          "metadata": {}
        },
        {
          "output_type": "stream",
          "name": "stdout",
          "text": [
            "{'Test Loss': 0.46867103791236875, 'Test Acc': 0.77396484375}\n"
          ]
        },
        {
          "output_type": "display_data",
          "data": {
            "application/vnd.jupyter.widget-view+json": {
              "model_id": "bdfa8ae4f035489996b8ca950c977f94",
              "version_minor": 0,
              "version_major": 2
            },
            "text/plain": [
              "Epoch 6. Train Loss: 0:   0%|          | 0/1000 [00:00<?, ?it/s]"
            ]
          },
          "metadata": {}
        },
        {
          "output_type": "display_data",
          "data": {
            "application/vnd.jupyter.widget-view+json": {
              "model_id": "207ed1efcfef4fe19ffdcbd35e62b559",
              "version_minor": 0,
              "version_major": 2
            },
            "text/plain": [
              "Test Loss: 0, Test Acc: 0:   0%|          | 0/250 [00:00<?, ?it/s]"
            ]
          },
          "metadata": {}
        },
        {
          "output_type": "stream",
          "name": "stdout",
          "text": [
            "{'Test Loss': 0.46764500057697295, 'Test Acc': 0.77483984375}\n"
          ]
        },
        {
          "output_type": "display_data",
          "data": {
            "application/vnd.jupyter.widget-view+json": {
              "model_id": "91a2333a09fd48c899565e95c74807e2",
              "version_minor": 0,
              "version_major": 2
            },
            "text/plain": [
              "Epoch 7. Train Loss: 0:   0%|          | 0/1000 [00:00<?, ?it/s]"
            ]
          },
          "metadata": {}
        },
        {
          "output_type": "display_data",
          "data": {
            "application/vnd.jupyter.widget-view+json": {
              "model_id": "be947cc131dc4fa59351365e293f3e72",
              "version_minor": 0,
              "version_major": 2
            },
            "text/plain": [
              "Test Loss: 0, Test Acc: 0:   0%|          | 0/250 [00:00<?, ?it/s]"
            ]
          },
          "metadata": {}
        },
        {
          "output_type": "stream",
          "name": "stdout",
          "text": [
            "{'Test Loss': 0.4662439662218094, 'Test Acc': 0.776046875}\n"
          ]
        },
        {
          "output_type": "display_data",
          "data": {
            "application/vnd.jupyter.widget-view+json": {
              "model_id": "4c8af7a948b34bd88e67bc39e08b135d",
              "version_minor": 0,
              "version_major": 2
            },
            "text/plain": [
              "Epoch 8. Train Loss: 0:   0%|          | 0/1000 [00:00<?, ?it/s]"
            ]
          },
          "metadata": {}
        },
        {
          "output_type": "display_data",
          "data": {
            "application/vnd.jupyter.widget-view+json": {
              "model_id": "3583862541c24011bce8973164fbe8f6",
              "version_minor": 0,
              "version_major": 2
            },
            "text/plain": [
              "Test Loss: 0, Test Acc: 0:   0%|          | 0/250 [00:00<?, ?it/s]"
            ]
          },
          "metadata": {}
        },
        {
          "output_type": "stream",
          "name": "stdout",
          "text": [
            "{'Test Loss': 0.46589837050437927, 'Test Acc': 0.7765078125}\n"
          ]
        }
      ]
    },
    {
      "cell_type": "code",
      "metadata": {
        "colab": {
          "base_uri": "https://localhost:8080/",
          "height": 67,
          "referenced_widgets": [
            "1b0e320034794753ad4e9bfc430ede5d",
            "9609f642e20c4c56a334cb47b9c5d4ac",
            "55464034b98d46c5868eb0b1969274b7",
            "bcebe951f64f42d4a05079434783e2db",
            "8973e41ed3b2439e8562706e3eed761c",
            "75911a2819344ae8b414ee6e8f3815a3",
            "2680dcc4d85c4bfca102578ed336b0fc",
            "69f0fff30599442ebeca2e80c0c099ac",
            "922bc8a8c45c4d68b639498345a7d28e",
            "3f462e024076422fa88a3afa8e281c2d",
            "767e883cd8c943af8b0cb37bb14fb90c"
          ]
        },
        "id": "oWBErN9ld4lS",
        "outputId": "0038154a-c380-4021-f383-d92fa67add15"
      },
      "source": [
        "test_loader = DataLoader(\n",
        "    TwitterDataset_Context(test_data, \"text\", \"emotion\", word2vec, 3), \n",
        "    batch_size=batch_size, \n",
        "    num_workers=num_workers, \n",
        "    shuffle=False,\n",
        "    drop_last=False, \n",
        "    collate_fn=average_emb)\n",
        "\n",
        "model.load_state_dict(torch.load(\"model.pt\", map_location=device))\n",
        "\n",
        "print(testing(model, criterion, test_loader, device=device))\n",
        "\n",
        "# 5 эпох + scheduler, , #nn.ReLU(),\n",
        "# {'Test Loss': 0.4656584684650738, 'Test Acc': 0.7767135083865815} - window=3 \n",
        "\n",
        "# 7 эпох + scheduler, , #nn.ReLU(),\n",
        "# {'Test Loss': 0.4820092097638895, 'Test Acc': 0.7667201228035144} - window=5, lr = 1e-1\n",
        "# {'Test Loss': 0.4682667100201019, 'Test Acc': 0.7753095047923323} - window=5, lr = 2e-2\n",
        "\n",
        "# 8 эпох + scheduler, lr = 3e-2, StepLR(optimizer, 2, 0.5), #nn.ЕLU()\n",
        "# {'Test Loss': 0.46233990359991883, 'Test Acc': 0.7784014327076677} - window=5\n",
        "# {'Test Loss': 0.4642895699118654, 'Test Acc': 0.7770442292332268} - window=3"
      ],
      "execution_count": null,
      "outputs": [
        {
          "output_type": "display_data",
          "data": {
            "application/vnd.jupyter.widget-view+json": {
              "model_id": "1b0e320034794753ad4e9bfc430ede5d",
              "version_minor": 0,
              "version_major": 2
            },
            "text/plain": [
              "Test Loss: 0, Test Acc: 0:   0%|          | 0/313 [00:00<?, ?it/s]"
            ]
          },
          "metadata": {}
        },
        {
          "output_type": "stream",
          "name": "stdout",
          "text": [
            "{'Test Loss': 0.4642895699118654, 'Test Acc': 0.7770442292332268}\n"
          ]
        }
      ]
    },
    {
      "cell_type": "markdown",
      "metadata": {
        "id": "o66kLkbm290X"
      },
      "source": [
        "При использовании эмбеддингов незнакомых слов как сумму эмбеддингов всех слов из их контекста (без весов на дальность слова), на тесте получаем результат 0.7784  - почти также, как когда мы не учитываем незнакомые для word2vec слова. Там результат был - 0.7779, разница в 0.0005\n",
        "\n",
        "Увеличение окна контекста с 3 до 5 с каждой стороны почти не влияет на результат - изменение на 0.001"
      ]
    },
    {
      "cell_type": "markdown",
      "metadata": {
        "id": "4FW_WkZyPNay"
      },
      "source": [
        "# С весами на дальность слова"
      ]
    },
    {
      "cell_type": "code",
      "metadata": {
        "id": "o8N9TOLyd4n2"
      },
      "source": [
        "from torch.utils.data import Dataset, random_split\n",
        "\n",
        "class TwitterDataset_Context_Weigts(Dataset):\n",
        "    def __init__(self, data: pd.DataFrame, feature_column: str,\n",
        "                 target_column: str, word2vec: gensim.models.Word2Vec, window: int):\n",
        "        self.tokenizer = nltk.WordPunctTokenizer()\n",
        "        \n",
        "        self.data = data\n",
        "\n",
        "        self.feature_column = feature_column\n",
        "        self.target_column = target_column\n",
        "\n",
        "        self.word2vec = word2vec\n",
        "        self.window =  window\n",
        "\n",
        "        self.label2num = lambda label: 0 if label == 0 else 1\n",
        "        self.mean = np.mean(word2vec.vectors, axis=0)\n",
        "        self.std = np.std(word2vec.vectors, axis=0)\n",
        "\n",
        "    def __getitem__(self, item):\n",
        "        text = self.data[self.feature_column][item]\n",
        "        label = self.label2num(self.data[self.target_column][item])\n",
        "\n",
        "        tokens = self.get_tokens_(text)\n",
        "        embeddings = self.get_embeddings_(tokens)\n",
        "\n",
        "        return {\"feature\": embeddings, \"target\": label}\n",
        "\n",
        "    def get_tokens_(self, text):\n",
        "        # Получи все токены из текста и профильтруй их\n",
        "        line = self.tokenizer.tokenize(text.lower())\n",
        "        tokens = [w for w in line if all(c not in string.punctuation for c in w)]\n",
        "        tokens = [w for w in tokens if len(w) > 2] \n",
        "        return tokens\n",
        "\n",
        "    def get_embeddings_(self, tokens):\n",
        "\n",
        "        embeddings = np.zeros((len(tokens), self.word2vec.vector_size))    \n",
        "\n",
        "        for i in range(len(tokens)):\n",
        "\n",
        "          if tokens[i] in self.word2vec:\n",
        "              embeddings[i] = (self.word2vec.get_vector(tokens[i]) - self.mean) \\\n",
        "                              / self.std # Получи эмбеддинги слов и усредни их\n",
        "\n",
        "          else:\n",
        "            # определяем левую границу контекста\n",
        "            left = max(i - self.window, 0)\n",
        "            if i == 0:\n",
        "              left = 1\n",
        "\n",
        "            # определяем правую границу контекста\n",
        "            right = min(i + self.window + 1, len(tokens))\n",
        "            \n",
        "            num = 0\n",
        "            for e in range(left, right):\n",
        "\n",
        "                if tokens[e] in self.word2vec: \n",
        "                  #  num += 1\n",
        "\n",
        "                   if abs(i-e) == 1:\n",
        "                    embeddings[i] += ((self.word2vec.get_vector(tokens[e]) - \\\n",
        "                                     self.mean) / self.std) * 1.5\n",
        "                   elif abs(i-e) == 2:\n",
        "                    embeddings[i] += ((self.word2vec.get_vector(tokens[e]) - \\\n",
        "                                     self.mean) / self.std) \n",
        "                   else: \n",
        "                    embeddings[i] +=((self.word2vec.get_vector(tokens[e]) - \\\n",
        "                                     self.mean) / self.std) * 0.5\n",
        "\n",
        "                  #  if abs(i-e) == 1:\n",
        "                  #   embeddings[i] += ((self.word2vec.get_vector(tokens[e]) - \\\n",
        "                  #                      self.mean) / self.std) * 0.3\n",
        "                  #  elif abs(i-e) == 2:\n",
        "                  #   embeddings[i] += ((self.word2vec.get_vector(tokens[e]) - \\\n",
        "                  #                      self.mean) / self.std) * 0.2\n",
        "                  #  else: \n",
        "                  #   embeddings[i] +=((self.word2vec.get_vector(tokens[e]) - \\\n",
        "                  #                     self.mean) / self.std) * 0.1\n",
        "\n",
        "  # Я взяла коэффициенты, которые для window=3  в сумме дают 6 (при наличии всех слов в контексте): (1.5+1+0.5)*2 = 6 (коэф.с двух сторон),\n",
        "  # чтобы при делении потом на num получить вектор, имеющий смысл в этом пространстве\n",
        "  # Но скорее всего в контексте не будет всех 6 слов, тогда такой выбор имеет мало смысла...\n",
        "  # Или алгоритм подбора коэффициентов иной, например, в чате говорили про коэф., которые в сумме дают 1: (0.3 + 0.2 + 0.1)*2 = 1 ?\n",
        "            \n",
        "                # if num != 0:       \n",
        "                #   embeddings[i] = embeddings[i] / num # усредняем вектор неизвестного слова по числу известных слов из контекста      \n",
        "\n",
        "        if len(embeddings) == 0:\n",
        "            embeddings = np.zeros((1, self.word2vec.vector_size))\n",
        "        else:\n",
        "          embeddings = np.array(embeddings)\n",
        "          if len(embeddings.shape) == 1:\n",
        "              embeddings = embeddings.reshape(-1, 1)\n",
        "\n",
        "        return embeddings\n",
        "\n",
        "    def __len__(self):\n",
        "        return self.data.shape[0]"
      ],
      "execution_count": null,
      "outputs": []
    },
    {
      "cell_type": "code",
      "metadata": {
        "id": "QJHKhV_TPRKQ"
      },
      "source": [
        "dev_Context = TwitterDataset_Context_Weigts(dev_data, \"text\", \"emotion\", word2vec, 3)"
      ],
      "execution_count": null,
      "outputs": []
    },
    {
      "cell_type": "code",
      "metadata": {
        "id": "UnFzM-tuPRNK"
      },
      "source": [
        "from torch.utils.data import DataLoader\n",
        "\n",
        "batch_size = 1024\n",
        "num_workers = 2\n",
        "\n",
        "def average_emb(batch):\n",
        "    features = [np.mean(b[\"feature\"], axis=0) for b in batch]\n",
        "    targets = [b[\"target\"] for b in batch]\n",
        "    return {\"features\": torch.FloatTensor(features), \n",
        "            \"targets\": torch.FloatTensor(targets)} \n",
        "\n",
        "train_size = math.ceil(len(dev_Context) * 0.8)\n",
        "\n",
        "train, valid = random_split(dev_Context, [train_size, len(dev_Context) - train_size])\n",
        "\n",
        "train_loader = DataLoader(train, batch_size=batch_size, num_workers=num_workers,\n",
        "                          shuffle=True, drop_last=True, collate_fn=average_emb)\n",
        "valid_loader = DataLoader(valid, batch_size=batch_size, num_workers=num_workers,\n",
        "                          shuffle=False, drop_last=False, collate_fn=average_emb)"
      ],
      "execution_count": null,
      "outputs": []
    },
    {
      "cell_type": "code",
      "metadata": {
        "id": "EkDTK96mPRQT"
      },
      "source": [
        "# import torch.nn as nn\n",
        "# from torch.optim import Adam\n",
        "\n",
        "vector_size = dev_Context.word2vec.vector_size\n",
        "# lr = 2e-2\n",
        "lr = 3e-2\n",
        "num_epochs = 8\n",
        "\n",
        "model = nn.Sequential(\n",
        "  nn.Linear(vector_size, 128),\n",
        "  nn.ELU(), #nn.ReLU(),\n",
        "  nn.Linear(128, 64),\n",
        "  nn.ELU(),  #nn.ReLU(),\n",
        "  nn.Linear(64, 32),\n",
        "  nn.ELU(),  #nn.ReLU(),\n",
        "  nn.Linear(32, 1)\n",
        ")\n",
        "\n",
        "model = model.to(device)\n",
        "criterion = nn.BCEWithLogitsLoss()\n",
        "optimizer = Adam(model.parameters(), lr=lr)# Твой оптимайзер\n",
        "scheduler = torch.optim.lr_scheduler.StepLR(optimizer, 2, 0.5)"
      ],
      "execution_count": null,
      "outputs": []
    },
    {
      "cell_type": "code",
      "metadata": {
        "colab": {
          "base_uri": "https://localhost:8080/",
          "height": 671,
          "referenced_widgets": [
            "b421a61c28f642d78888928779d353b1",
            "3036bc983a0b44e195a0b33e81563423",
            "c2c6318cc628447ab49b9d987eb66b16",
            "b204761d3cca448da617873c04373dd8",
            "3d816b167b7042f5b0920412943368c3",
            "7446fe364121492c8ad00139167c75c6",
            "2a5f88e8658346bb8ffd3a31a30e29f6",
            "af455f06a1d54cf9bba3f1e6274a4efb",
            "af1a633e7a984c4fb6239e6589d4de0c",
            "d8e81414124c42ff83cfb00a1a7d4e49",
            "f8e9d479a4d5436896c5f6851cfdd02b",
            "0a2114339a6d4672b7f3c23deeaebe55",
            "22c1a13cbb114845a866b85ad3f41f19",
            "3855808380ef40a0bc79ed9a041cde8c",
            "d2a3b2763538496d8f09d944128eff5c",
            "2057842739524d68937ce65d7321f68d",
            "1970508806584a409a99cd570251b5f4",
            "1040b6a924c84705b5914c35507c2fe5",
            "63718c91e0c24c9f974fccb7ebf0bdda",
            "c9212c431b1747cdbd41329d5a8eeefc",
            "0111504518d54978a1a0f798f87f5137",
            "4c445613787048ee97df74a47cfbdfb2",
            "ddf365335141451f8b65e9e84eefb9e2",
            "025abaa9a3bf4e93a6dc94988c29aad0",
            "8fcbce035b58447bbb69ca9d6aa03696",
            "e42fd050f3cb4a8392b1efe2ad422f0c"
          ]
        },
        "id": "J-oioqkAPRSj",
        "outputId": "7769fa0d-1ea9-41c4-d37a-f760d3f9fa61"
      },
      "source": [
        "best_metric = np.inf\n",
        "for e in range(num_epochs):\n",
        "    training(model, optimizer, criterion, train_loader, e, device)\n",
        "    log = testing(model, criterion, valid_loader, device)\n",
        "    scheduler.step()\n",
        "    print(log)\n",
        "    if log[\"Test Loss\"] < best_metric:\n",
        "        torch.save(model.state_dict(), \"model.pt\")\n",
        "        best_metric = log[\"Test Loss\"]\n",
        "\n",
        "# 7 эпох + scheduler,lr = 2e-2,  nn.ReLU()\n",
        "\n",
        "# {'Test Loss': 0.4624526057243347, 'Test Acc': 0.77936328125} - коэф. 0.3, 0.2, 0.1\n",
        "# {'Test Loss': 0.46603463792800903, 'Test Acc': 0.77541796875} - коэф. 1.5, 1, 0.5\n",
        "\n",
        "# 8 эпох + scheduler, lr = 3e-2, StepLR(optimizer, 2, 0.5), #nn.ЕLU()\n",
        "# {'Test Loss': 0.4622484767436981, 'Test Acc': 0.77739453125} - коэф. 0.3, 0.2, 0.1 \n",
        "# {'Test Loss': 0.47111975026130676, 'Test Acc': 0.77212890625} - коэф. 1.5, 1, 0.5"
      ],
      "execution_count": null,
      "outputs": [
        {
          "output_type": "display_data",
          "data": {
            "application/vnd.jupyter.widget-view+json": {
              "model_id": "b421a61c28f642d78888928779d353b1",
              "version_minor": 0,
              "version_major": 2
            },
            "text/plain": [
              "Epoch 1. Train Loss: 0:   0%|          | 0/1000 [00:00<?, ?it/s]"
            ]
          },
          "metadata": {}
        },
        {
          "output_type": "display_data",
          "data": {
            "application/vnd.jupyter.widget-view+json": {
              "model_id": "0a2114339a6d4672b7f3c23deeaebe55",
              "version_minor": 0,
              "version_major": 2
            },
            "text/plain": [
              "Test Loss: 0, Test Acc: 0:   0%|          | 0/250 [00:00<?, ?it/s]"
            ]
          },
          "metadata": {}
        },
        {
          "output_type": "stream",
          "name": "stdout",
          "text": [
            "{'Test Loss': 0.4927191686630249, 'Test Acc': 0.76034375}\n"
          ]
        },
        {
          "output_type": "display_data",
          "data": {
            "application/vnd.jupyter.widget-view+json": {
              "model_id": "22c1a13cbb114845a866b85ad3f41f19",
              "version_minor": 0,
              "version_major": 2
            },
            "text/plain": [
              "Epoch 2. Train Loss: 0:   0%|          | 0/1000 [00:00<?, ?it/s]"
            ]
          },
          "metadata": {}
        },
        {
          "output_type": "display_data",
          "data": {
            "application/vnd.jupyter.widget-view+json": {
              "model_id": "3855808380ef40a0bc79ed9a041cde8c",
              "version_minor": 0,
              "version_major": 2
            },
            "text/plain": [
              "Test Loss: 0, Test Acc: 0:   0%|          | 0/250 [00:00<?, ?it/s]"
            ]
          },
          "metadata": {}
        },
        {
          "output_type": "stream",
          "name": "stdout",
          "text": [
            "{'Test Loss': 0.5008166189193726, 'Test Acc': 0.75391015625}\n"
          ]
        },
        {
          "output_type": "display_data",
          "data": {
            "application/vnd.jupyter.widget-view+json": {
              "model_id": "d2a3b2763538496d8f09d944128eff5c",
              "version_minor": 0,
              "version_major": 2
            },
            "text/plain": [
              "Epoch 3. Train Loss: 0:   0%|          | 0/1000 [00:00<?, ?it/s]"
            ]
          },
          "metadata": {}
        },
        {
          "output_type": "display_data",
          "data": {
            "application/vnd.jupyter.widget-view+json": {
              "model_id": "2057842739524d68937ce65d7321f68d",
              "version_minor": 0,
              "version_major": 2
            },
            "text/plain": [
              "Test Loss: 0, Test Acc: 0:   0%|          | 0/250 [00:00<?, ?it/s]"
            ]
          },
          "metadata": {}
        },
        {
          "output_type": "stream",
          "name": "stdout",
          "text": [
            "{'Test Loss': 0.47886186647415163, 'Test Acc': 0.76791015625}\n"
          ]
        },
        {
          "output_type": "display_data",
          "data": {
            "application/vnd.jupyter.widget-view+json": {
              "model_id": "1970508806584a409a99cd570251b5f4",
              "version_minor": 0,
              "version_major": 2
            },
            "text/plain": [
              "Epoch 4. Train Loss: 0:   0%|          | 0/1000 [00:00<?, ?it/s]"
            ]
          },
          "metadata": {}
        },
        {
          "output_type": "display_data",
          "data": {
            "application/vnd.jupyter.widget-view+json": {
              "model_id": "1040b6a924c84705b5914c35507c2fe5",
              "version_minor": 0,
              "version_major": 2
            },
            "text/plain": [
              "Test Loss: 0, Test Acc: 0:   0%|          | 0/250 [00:00<?, ?it/s]"
            ]
          },
          "metadata": {}
        },
        {
          "output_type": "stream",
          "name": "stdout",
          "text": [
            "{'Test Loss': 0.47811977005004885, 'Test Acc': 0.76876171875}\n"
          ]
        },
        {
          "output_type": "display_data",
          "data": {
            "application/vnd.jupyter.widget-view+json": {
              "model_id": "63718c91e0c24c9f974fccb7ebf0bdda",
              "version_minor": 0,
              "version_major": 2
            },
            "text/plain": [
              "Epoch 5. Train Loss: 0:   0%|          | 0/1000 [00:00<?, ?it/s]"
            ]
          },
          "metadata": {}
        },
        {
          "output_type": "display_data",
          "data": {
            "application/vnd.jupyter.widget-view+json": {
              "model_id": "c9212c431b1747cdbd41329d5a8eeefc",
              "version_minor": 0,
              "version_major": 2
            },
            "text/plain": [
              "Test Loss: 0, Test Acc: 0:   0%|          | 0/250 [00:00<?, ?it/s]"
            ]
          },
          "metadata": {}
        },
        {
          "output_type": "stream",
          "name": "stdout",
          "text": [
            "{'Test Loss': 0.4744333028793335, 'Test Acc': 0.77002734375}\n"
          ]
        },
        {
          "output_type": "display_data",
          "data": {
            "application/vnd.jupyter.widget-view+json": {
              "model_id": "0111504518d54978a1a0f798f87f5137",
              "version_minor": 0,
              "version_major": 2
            },
            "text/plain": [
              "Epoch 6. Train Loss: 0:   0%|          | 0/1000 [00:00<?, ?it/s]"
            ]
          },
          "metadata": {}
        },
        {
          "output_type": "display_data",
          "data": {
            "application/vnd.jupyter.widget-view+json": {
              "model_id": "4c445613787048ee97df74a47cfbdfb2",
              "version_minor": 0,
              "version_major": 2
            },
            "text/plain": [
              "Test Loss: 0, Test Acc: 0:   0%|          | 0/250 [00:00<?, ?it/s]"
            ]
          },
          "metadata": {}
        },
        {
          "output_type": "stream",
          "name": "stdout",
          "text": [
            "{'Test Loss': 0.4730231112241745, 'Test Acc': 0.7704375}\n"
          ]
        },
        {
          "output_type": "display_data",
          "data": {
            "application/vnd.jupyter.widget-view+json": {
              "model_id": "ddf365335141451f8b65e9e84eefb9e2",
              "version_minor": 0,
              "version_major": 2
            },
            "text/plain": [
              "Epoch 7. Train Loss: 0:   0%|          | 0/1000 [00:00<?, ?it/s]"
            ]
          },
          "metadata": {}
        },
        {
          "output_type": "display_data",
          "data": {
            "application/vnd.jupyter.widget-view+json": {
              "model_id": "025abaa9a3bf4e93a6dc94988c29aad0",
              "version_minor": 0,
              "version_major": 2
            },
            "text/plain": [
              "Test Loss: 0, Test Acc: 0:   0%|          | 0/250 [00:00<?, ?it/s]"
            ]
          },
          "metadata": {}
        },
        {
          "output_type": "stream",
          "name": "stdout",
          "text": [
            "{'Test Loss': 0.47198832607269287, 'Test Acc': 0.77191015625}\n"
          ]
        },
        {
          "output_type": "display_data",
          "data": {
            "application/vnd.jupyter.widget-view+json": {
              "model_id": "8fcbce035b58447bbb69ca9d6aa03696",
              "version_minor": 0,
              "version_major": 2
            },
            "text/plain": [
              "Epoch 8. Train Loss: 0:   0%|          | 0/1000 [00:00<?, ?it/s]"
            ]
          },
          "metadata": {}
        },
        {
          "output_type": "display_data",
          "data": {
            "application/vnd.jupyter.widget-view+json": {
              "model_id": "e42fd050f3cb4a8392b1efe2ad422f0c",
              "version_minor": 0,
              "version_major": 2
            },
            "text/plain": [
              "Test Loss: 0, Test Acc: 0:   0%|          | 0/250 [00:00<?, ?it/s]"
            ]
          },
          "metadata": {}
        },
        {
          "output_type": "stream",
          "name": "stdout",
          "text": [
            "{'Test Loss': 0.47111975026130676, 'Test Acc': 0.77212890625}\n"
          ]
        }
      ]
    },
    {
      "cell_type": "code",
      "metadata": {
        "id": "Fylm21yiPRVt",
        "colab": {
          "base_uri": "https://localhost:8080/",
          "height": 67,
          "referenced_widgets": [
            "5b64ac202cc945b2913ea3e42aebc44b"
          ]
        },
        "outputId": "8ce331d0-72c9-4a56-ed89-d45daebf1619"
      },
      "source": [
        "test_loader = DataLoader(\n",
        "    TwitterDataset_Context_Weigts(test_data, \"text\", \"emotion\", word2vec, 3), \n",
        "    batch_size=batch_size, \n",
        "    num_workers=num_workers, \n",
        "    shuffle=False,\n",
        "    drop_last=False, \n",
        "    collate_fn=average_emb)\n",
        "\n",
        "model.load_state_dict(torch.load(\"model.pt\", map_location=device))\n",
        "\n",
        "print(testing(model, criterion, test_loader, device=device))\n",
        "\n",
        "# {'Test Loss': 0.4634655432198375, 'Test Acc': 0.7786978334664537} - коэф. 0.3, 0.2, 0.1\n",
        "# {'Test Loss': 0.46694658682369194, 'Test Acc': 0.775474865215655} - коэф. 1.5, 1, 0.5\n",
        "\n",
        "# 8 эпох + scheduler, lr = 3e-2, StepLR(optimizer, 2, 0.5), #nn.ЕLU()\n",
        "# {'Test Loss': 0.46043733466928377, 'Test Acc': 0.7793967152555911} - коэф. 0.3, 0.2, 0.1\n",
        "# {'Test Loss': 0.47134417828660424, 'Test Acc': 0.7724359774361023} - коэф. 1.5, 1, 0.5"
      ],
      "execution_count": null,
      "outputs": [
        {
          "output_type": "display_data",
          "data": {
            "application/vnd.jupyter.widget-view+json": {
              "model_id": "5b64ac202cc945b2913ea3e42aebc44b",
              "version_minor": 0,
              "version_major": 2
            },
            "text/plain": [
              "Test Loss: 0, Test Acc: 0:   0%|          | 0/313 [00:00<?, ?it/s]"
            ]
          },
          "metadata": {}
        },
        {
          "output_type": "stream",
          "name": "stdout",
          "text": [
            "{'Test Loss': 0.47134417828660424, 'Test Acc': 0.7724359774361023}\n"
          ]
        }
      ]
    },
    {
      "cell_type": "markdown",
      "metadata": {
        "id": "-3stL3wVKc0r"
      },
      "source": [
        "Добавление весов на дальность слова в контексте с коэффициентами  0.3, 0.2, 0.1 сработало чуть лучшее (0.779), чем с коэффициентами  1.5, 1, 0.5 (0.772), но примерно на том же уровне, что и без весов. И снова почти не изменилось качество по сравнению с тем, когда мы не учитываем незнакомые для word2vec слова."
      ]
    },
    {
      "cell_type": "markdown",
      "metadata": {
        "id": "DlQMTmssJlGw"
      },
      "source": [
        "2. Для каждого слова текста получим его эмбеддинг из Tfidf с помощью TfidfVectorizer из sklearn. Итоговым эмбеддингом для каждого слова будет сумма двух эмбеддингов: предобученного и Tfidf-ного. Для слов, которых нет в словаре предобученных эмбеддингов, результирующий эмбеддинг будет просто полученный из Tfidf. (4 балла)"
      ]
    },
    {
      "cell_type": "markdown",
      "metadata": {
        "id": "N_8-By-jeJ1C"
      },
      "source": [
        "Я выбрала идею с конкатенацией вектора tfidf в конец вектора w2v "
      ]
    },
    {
      "cell_type": "code",
      "metadata": {
        "id": "ekOd7IwK9J71"
      },
      "source": [
        "from sklearn.feature_extraction.text import TfidfVectorizer\n",
        "from scipy.sparse.linalg import svds"
      ],
      "execution_count": null,
      "outputs": []
    },
    {
      "cell_type": "code",
      "metadata": {
        "id": "p3sm_0wWEvoL"
      },
      "source": [
        "tokenizer = nltk.WordPunctTokenizer()\n",
        "data_tokens = []\n",
        "\n",
        "for text in dev_data[\"text\"]:\n",
        "    line = tokenizer.tokenize(text.lower())\n",
        "    tokens = [w for w in line if all(c not in string.punctuation for c in w)]\n",
        "    tokens = [w for w in tokens if len(w) > 2] \n",
        "    tokens = ' '.join(tokens)\n",
        "    data_tokens.append(tokens)"
      ],
      "execution_count": null,
      "outputs": []
    },
    {
      "cell_type": "code",
      "metadata": {
        "colab": {
          "base_uri": "https://localhost:8080/"
        },
        "id": "q0bR3nIKFtPI",
        "outputId": "c16f4b38-ec23-4fcf-c765-f49bf25c1402"
      },
      "source": [
        "len(data_tokens)"
      ],
      "execution_count": null,
      "outputs": [
        {
          "output_type": "execute_result",
          "data": {
            "text/plain": [
              "1280000"
            ]
          },
          "metadata": {},
          "execution_count": 41
        }
      ]
    },
    {
      "cell_type": "code",
      "metadata": {
        "id": "qVXwHo0RBxvG"
      },
      "source": [
        "vectorizer = TfidfVectorizer(stop_words='english', min_df=5, max_df=0.9) # не будем считать самые редкие и самые частые слова, уберем стоп-слова\n",
        "vectorizer.fit(data_tokens) \n",
        "vectors = vectorizer.transform(data_tokens) "
      ],
      "execution_count": null,
      "outputs": []
    },
    {
      "cell_type": "code",
      "metadata": {
        "colab": {
          "base_uri": "https://localhost:8080/"
        },
        "id": "j9qAqDfcDKsh",
        "outputId": "bf9766aa-bb89-4c83-a882-d22dd51cf2e9"
      },
      "source": [
        "# транспонируем из (твиты на слова) в (слова на твиты) \n",
        "# для удобства дальнейшего svd разложения\n",
        "\n",
        "vectors_T = vectors.T \n",
        "vectors_T.shape\n",
        "\n",
        "# (479782, 1024000) TfidfVectorizer()\n",
        "# (92941, 1024000) TfidfVectorizer(min_df=3)\n",
        "# (54800, 1024000) TfidfVectorizer(min_df=5)\n",
        "# (111217, 1280000) TfidfVectorizer(min_df=3, max_df=0.9)\n",
        "# (65016, 1280000) TfidfVectorizer(stop_words='english', min_df=5, max_df=0.9)"
      ],
      "execution_count": null,
      "outputs": [
        {
          "output_type": "execute_result",
          "data": {
            "text/plain": [
              "(65016, 1280000)"
            ]
          },
          "metadata": {},
          "execution_count": 43
        }
      ]
    },
    {
      "cell_type": "code",
      "metadata": {
        "colab": {
          "base_uri": "https://localhost:8080/"
        },
        "id": "yd3xiunBXaZT",
        "outputId": "573faf87-023a-444b-ccd4-e9abb8a7daee"
      },
      "source": [
        "U_100, *_ = svds(vectors_T, k = 100)\n",
        "vectors_T.shape, U_100.shape # размерность - число слов на 100"
      ],
      "execution_count": null,
      "outputs": [
        {
          "output_type": "execute_result",
          "data": {
            "text/plain": [
              "((65016, 1280000), (65016, 100))"
            ]
          },
          "metadata": {},
          "execution_count": 51
        }
      ]
    },
    {
      "cell_type": "code",
      "metadata": {
        "id": "4DPaFiuDlrsA"
      },
      "source": [
        "# # Нормализуем U_100 - закомментировала эту строку, так как выяснилось, \n",
        "# что в TfidfVectorizer() применяется нормализация ‘l2’: Sum of squares of vector elements is 1.  \n",
        "\n",
        "# mean_tfidf = np.mean(U_100, 0)\n",
        "# std_tfidf = np.std(U_100, 0)\n",
        "# U_100_norm = (U_100 - mean_tfidf) / std_tfidf"
      ],
      "execution_count": null,
      "outputs": []
    },
    {
      "cell_type": "code",
      "metadata": {
        "id": "6Fod1eaZXPSp"
      },
      "source": [
        "# Создадим словарь {токен: его нормализованный вектор tfidf размерности 100}\n",
        "\n",
        "# tfidf_dict = dict(zip(vectorizer.get_feature_names(), U_100_norm))  \n",
        "tfidf_dict = dict(zip(vectorizer.get_feature_names(), U_100))  "
      ],
      "execution_count": null,
      "outputs": []
    },
    {
      "cell_type": "code",
      "metadata": {
        "id": "-jtZ8CgNJm1I"
      },
      "source": [
        "from torch.utils.data import Dataset, random_split\n",
        "\n",
        "class TwitterDataset_TFIDF_plus_W2V(Dataset):\n",
        "    def __init__(self, data: pd.DataFrame, feature_column: str, \n",
        "                 target_column: str, word2vec: gensim.models.Word2Vec, tfidf_dict):\n",
        "        self.tokenizer = nltk.WordPunctTokenizer()\n",
        "\n",
        "        self.data = data\n",
        "\n",
        "        self.feature_column = feature_column\n",
        "        self.target_column = target_column\n",
        "\n",
        "        self.word2vec = word2vec\n",
        "        self.tfidf_dict = tfidf_dict\n",
        "\n",
        "        self.label2num = lambda label: 0 if label == 0 else 1\n",
        "        self.mean = np.mean(word2vec.vectors, axis=0)\n",
        "        self.std = np.std(word2vec.vectors, axis=0)\n",
        "\n",
        "    def __getitem__(self, item):\n",
        "        text = self.data[self.feature_column][item]\n",
        "        label = self.label2num(self.data[self.target_column][item])\n",
        "\n",
        "        tokens = self.get_tokens_(text)\n",
        "        embeddings = self.get_embeddings_(tokens)\n",
        "\n",
        "        return {\"feature\": embeddings, \"target\": label}\n",
        "\n",
        "    def get_tokens_(self, text):\n",
        "        # Получи все токены из текста и профильтруй их\n",
        "        line = self.tokenizer.tokenize(text.lower())\n",
        "        tokens = [w for w in line if all(c not in string.punctuation for c in w)]\n",
        "        tokens = [w for w in tokens if len(w) > 2] \n",
        "        return tokens\n",
        "\n",
        "    def get_embeddings_(self, tokens):\n",
        "        \n",
        "        # пустой шаблон - число токенов в твите на 400\n",
        "        embeddings = np.zeros((len(tokens), self.word2vec.vector_size + 100))    \n",
        "\n",
        "        for i in range(len(tokens)):\n",
        "\n",
        "          if tokens[i] in self.word2vec:\n",
        "              embeddings_w2v = (self.word2vec.get_vector(tokens[i]) - self.mean) / self.std \n",
        "          else:    \n",
        "              embeddings_w2v = np.zeros(self.word2vec.vector_size)\n",
        "\n",
        "          if tokens[i] in self.tfidf_dict.keys():\n",
        "              # Вектор матрицы TFIDF, соответствующий токену \n",
        "              embeddings_tfidf = self.tfidf_dict[tokens[i]]\n",
        "          else:\n",
        "              embeddings_tfidf = np.zeros(100)\n",
        "\n",
        "          embeddings[i] += np.concatenate((embeddings_w2v, embeddings_tfidf), axis=None)\n",
        "\n",
        "        if len(embeddings) == 0:\n",
        "            embeddings = np.zeros((1, self.word2vec.vector_size + 100))\n",
        "        else:\n",
        "            embeddings = np.array(embeddings)\n",
        "            if len(embeddings.shape) == 1:\n",
        "                embeddings = embeddings.reshape(1, -1)\n",
        "\n",
        "        return embeddings\n",
        "\n",
        "    def __len__(self):\n",
        "        return self.data.shape[0]"
      ],
      "execution_count": null,
      "outputs": []
    },
    {
      "cell_type": "code",
      "metadata": {
        "id": "M_DSU_TM9L-n"
      },
      "source": [
        "dev_TFIDF_plus_W2V = TwitterDataset_TFIDF_plus_W2V(dev_data, \"text\", \"emotion\", word2vec, tfidf_dict) "
      ],
      "execution_count": null,
      "outputs": []
    },
    {
      "cell_type": "code",
      "metadata": {
        "id": "TE7J3HXy_tLZ"
      },
      "source": [
        "from torch.utils.data import DataLoader\n",
        "\n",
        "batch_size = 1024\n",
        "num_workers = 2\n",
        "\n",
        "def average_emb(batch):\n",
        "    features = [np.mean(b[\"feature\"], axis=0) for b in batch]\n",
        "    targets = [b[\"target\"] for b in batch]\n",
        "\n",
        "    return {\"features\": torch.FloatTensor(features), \"targets\": torch.FloatTensor(targets)}\n",
        "\n",
        "train_size = math.ceil(len(dev_TFIDF_plus_W2V) * 0.8) \n",
        "\n",
        "train, valid = random_split(dev_TFIDF_plus_W2V, \n",
        "                            [train_size, len(dev_TFIDF_plus_W2V) - train_size],\n",
        "                            generator=torch.Generator().manual_seed(42))\n",
        "\n",
        "train_loader = DataLoader(train, batch_size=batch_size, num_workers=num_workers,\n",
        "                          shuffle=True, drop_last=True, collate_fn=average_emb)\n",
        "valid_loader = DataLoader(valid, batch_size=batch_size, num_workers=num_workers,\n",
        "                          shuffle=False, drop_last=False, collate_fn=average_emb)"
      ],
      "execution_count": null,
      "outputs": []
    },
    {
      "cell_type": "code",
      "metadata": {
        "id": "x9oR0PZ6_tOn"
      },
      "source": [
        "import torch.nn as nn\n",
        "from torch.optim import Adam\n",
        "\n",
        "vector_size = dev_TFIDF_plus_W2V.word2vec.vector_size + 100\n",
        "# vector_size = dev_TFIDF_plus_W2V.word2vec.vector_size\n",
        "# lr = 2e-2\n",
        "lr = 3e-2\n",
        "num_epochs = 8\n",
        "\n",
        "model = nn.Sequential(\n",
        "  nn.Linear(vector_size, 128),\n",
        "  nn.ELU(), #nn.ReLU(),\n",
        "  nn.Linear(128, 64),\n",
        "  nn.ELU(),  #nn.ReLU(),\n",
        "  nn.Linear(64, 32),\n",
        "  nn.ELU(),  #nn.ReLU(),\n",
        "  nn.Linear(32, 1)\n",
        ")\n",
        "\n",
        "model = model.to(device)\n",
        "criterion = nn.BCEWithLogitsLoss()\n",
        "optimizer = Adam(model.parameters(), lr=lr)# Твой оптимайзер\n",
        "scheduler = torch.optim.lr_scheduler.StepLR(optimizer, 2, 0.5)"
      ],
      "execution_count": null,
      "outputs": []
    },
    {
      "cell_type": "code",
      "metadata": {
        "colab": {
          "base_uri": "https://localhost:8080/",
          "height": 671,
          "referenced_widgets": [
            "2c26f27f39c142e48bdee1b558c9da6b",
            "7ad351a9b62f4da59f2f10e8c3e47450",
            "e9dbb9abfa8441868983feec74f71c43",
            "630d321153784036908fb2e7cfdc465e",
            "cbf8184b683344f681f25696578ad7cb",
            "99a240753c4e4f049ac46b3630a9ae28",
            "0ae39cd684a74e4dafe85d8edf86768b",
            "b72f622c9a25484f90a6120c36f65142",
            "27ba25bb04ac4a88a655e9fb7f1596d1",
            "eaaf4eb00f384dd68c55ea707021ed5b",
            "356adaab49034907b6a79bc4de18fe25",
            "aa7ba142ab7c4e9185c8fb1a07424733",
            "dab85e89828d4d37ba1519da46dd6655",
            "d668b04af42a4dbfaa2266222c66f9d9",
            "77e054516f8042f18a09e4bb45d0f26b",
            "96fa8ee575464a1a97c04d44fea93168",
            "6d73b9277c0d46d2a32badc9b5d6af64",
            "6260e13c880a4b6a818587b275d65fd5",
            "b10e7244e5d74a9ab426037953fb558d",
            "e7fd36fb2da34b21973cf66e9cce1a8f",
            "d943150b6d754bd38392dc97a41c091f",
            "927ec4f7202a4223931b959be88a115d",
            "b8b49b9626334339b057a5d0f3a4ed57",
            "e0a8fa4cd28e46e6986d3bf2c52e4c8e",
            "36f3921f496240139434adbcba72bebd",
            "e0500fbc0442461fa996f9c098a84eb0"
          ]
        },
        "id": "a-kex5J6bsBA",
        "outputId": "5c16056a-a242-4342-a6a7-549305042ca0"
      },
      "source": [
        "best_metric = np.inf\n",
        "for e in range(num_epochs):\n",
        "    training(model, optimizer, criterion, train_loader, e, device)\n",
        "    log = testing(model, criterion, valid_loader, device)\n",
        "    scheduler.step()\n",
        "    print(log)\n",
        "    if log[\"Test Loss\"] < best_metric:\n",
        "        torch.save(model.state_dict(), \"model.pt\")\n",
        "        best_metric = log[\"Test Loss\"]\n",
        "\n",
        "# 8 эпох + scheduler, lr = 3e-2, StepLR(optimizer, 2, 0.5), #nn.ЕLU(), TfidfVectorizer(min_df=3, max_df=0.9)\n",
        "# {'Test Loss': 0.4551361359357834, 'Test Acc': 0.78358984375}\n",
        "\n",
        "# 8 эпох + scheduler, lr = 3e-2, StepLR(optimizer, 2, 0.5), #nn.ЕLU(), без нормализации векторов, TfidfVectorizer(stop_words='english', min_df=5, max_df=0.9)\n",
        "# {'Test Loss': tensor(0.4517), 'Test Acc': tensor(0.7851)}"
      ],
      "execution_count": null,
      "outputs": [
        {
          "output_type": "display_data",
          "data": {
            "application/vnd.jupyter.widget-view+json": {
              "model_id": "2c26f27f39c142e48bdee1b558c9da6b",
              "version_minor": 0,
              "version_major": 2
            },
            "text/plain": [
              "Epoch 1. Train Loss: 0:   0%|          | 0/1000 [00:00<?, ?it/s]"
            ]
          },
          "metadata": {}
        },
        {
          "output_type": "display_data",
          "data": {
            "application/vnd.jupyter.widget-view+json": {
              "model_id": "aa7ba142ab7c4e9185c8fb1a07424733",
              "version_minor": 0,
              "version_major": 2
            },
            "text/plain": [
              "Test Loss: 0, Test Acc: 0:   0%|          | 0/250 [00:00<?, ?it/s]"
            ]
          },
          "metadata": {}
        },
        {
          "output_type": "stream",
          "name": "stdout",
          "text": [
            "{'Test Loss': tensor(0.4823), 'Test Acc': tensor(0.7659)}\n"
          ]
        },
        {
          "output_type": "display_data",
          "data": {
            "application/vnd.jupyter.widget-view+json": {
              "model_id": "dab85e89828d4d37ba1519da46dd6655",
              "version_minor": 0,
              "version_major": 2
            },
            "text/plain": [
              "Epoch 2. Train Loss: 0:   0%|          | 0/1000 [00:00<?, ?it/s]"
            ]
          },
          "metadata": {}
        },
        {
          "output_type": "display_data",
          "data": {
            "application/vnd.jupyter.widget-view+json": {
              "model_id": "d668b04af42a4dbfaa2266222c66f9d9",
              "version_minor": 0,
              "version_major": 2
            },
            "text/plain": [
              "Test Loss: 0, Test Acc: 0:   0%|          | 0/250 [00:00<?, ?it/s]"
            ]
          },
          "metadata": {}
        },
        {
          "output_type": "stream",
          "name": "stdout",
          "text": [
            "{'Test Loss': tensor(0.4682), 'Test Acc': tensor(0.7757)}\n"
          ]
        },
        {
          "output_type": "display_data",
          "data": {
            "application/vnd.jupyter.widget-view+json": {
              "model_id": "77e054516f8042f18a09e4bb45d0f26b",
              "version_minor": 0,
              "version_major": 2
            },
            "text/plain": [
              "Epoch 3. Train Loss: 0:   0%|          | 0/1000 [00:00<?, ?it/s]"
            ]
          },
          "metadata": {}
        },
        {
          "output_type": "display_data",
          "data": {
            "application/vnd.jupyter.widget-view+json": {
              "model_id": "96fa8ee575464a1a97c04d44fea93168",
              "version_minor": 0,
              "version_major": 2
            },
            "text/plain": [
              "Test Loss: 0, Test Acc: 0:   0%|          | 0/250 [00:00<?, ?it/s]"
            ]
          },
          "metadata": {}
        },
        {
          "output_type": "stream",
          "name": "stdout",
          "text": [
            "{'Test Loss': tensor(0.4614), 'Test Acc': tensor(0.7786)}\n"
          ]
        },
        {
          "output_type": "display_data",
          "data": {
            "application/vnd.jupyter.widget-view+json": {
              "model_id": "6d73b9277c0d46d2a32badc9b5d6af64",
              "version_minor": 0,
              "version_major": 2
            },
            "text/plain": [
              "Epoch 4. Train Loss: 0:   0%|          | 0/1000 [00:00<?, ?it/s]"
            ]
          },
          "metadata": {}
        },
        {
          "output_type": "display_data",
          "data": {
            "application/vnd.jupyter.widget-view+json": {
              "model_id": "6260e13c880a4b6a818587b275d65fd5",
              "version_minor": 0,
              "version_major": 2
            },
            "text/plain": [
              "Test Loss: 0, Test Acc: 0:   0%|          | 0/250 [00:00<?, ?it/s]"
            ]
          },
          "metadata": {}
        },
        {
          "output_type": "stream",
          "name": "stdout",
          "text": [
            "{'Test Loss': tensor(0.4578), 'Test Acc': tensor(0.7809)}\n"
          ]
        },
        {
          "output_type": "display_data",
          "data": {
            "application/vnd.jupyter.widget-view+json": {
              "model_id": "b10e7244e5d74a9ab426037953fb558d",
              "version_minor": 0,
              "version_major": 2
            },
            "text/plain": [
              "Epoch 5. Train Loss: 0:   0%|          | 0/1000 [00:00<?, ?it/s]"
            ]
          },
          "metadata": {}
        },
        {
          "output_type": "display_data",
          "data": {
            "application/vnd.jupyter.widget-view+json": {
              "model_id": "e7fd36fb2da34b21973cf66e9cce1a8f",
              "version_minor": 0,
              "version_major": 2
            },
            "text/plain": [
              "Test Loss: 0, Test Acc: 0:   0%|          | 0/250 [00:00<?, ?it/s]"
            ]
          },
          "metadata": {}
        },
        {
          "output_type": "stream",
          "name": "stdout",
          "text": [
            "{'Test Loss': tensor(0.4551), 'Test Acc': tensor(0.7829)}\n"
          ]
        },
        {
          "output_type": "display_data",
          "data": {
            "application/vnd.jupyter.widget-view+json": {
              "model_id": "d943150b6d754bd38392dc97a41c091f",
              "version_minor": 0,
              "version_major": 2
            },
            "text/plain": [
              "Epoch 6. Train Loss: 0:   0%|          | 0/1000 [00:00<?, ?it/s]"
            ]
          },
          "metadata": {}
        },
        {
          "output_type": "display_data",
          "data": {
            "application/vnd.jupyter.widget-view+json": {
              "model_id": "927ec4f7202a4223931b959be88a115d",
              "version_minor": 0,
              "version_major": 2
            },
            "text/plain": [
              "Test Loss: 0, Test Acc: 0:   0%|          | 0/250 [00:00<?, ?it/s]"
            ]
          },
          "metadata": {}
        },
        {
          "output_type": "stream",
          "name": "stdout",
          "text": [
            "{'Test Loss': tensor(0.4529), 'Test Acc': tensor(0.7842)}\n"
          ]
        },
        {
          "output_type": "display_data",
          "data": {
            "application/vnd.jupyter.widget-view+json": {
              "model_id": "b8b49b9626334339b057a5d0f3a4ed57",
              "version_minor": 0,
              "version_major": 2
            },
            "text/plain": [
              "Epoch 7. Train Loss: 0:   0%|          | 0/1000 [00:00<?, ?it/s]"
            ]
          },
          "metadata": {}
        },
        {
          "output_type": "display_data",
          "data": {
            "application/vnd.jupyter.widget-view+json": {
              "model_id": "e0a8fa4cd28e46e6986d3bf2c52e4c8e",
              "version_minor": 0,
              "version_major": 2
            },
            "text/plain": [
              "Test Loss: 0, Test Acc: 0:   0%|          | 0/250 [00:00<?, ?it/s]"
            ]
          },
          "metadata": {}
        },
        {
          "output_type": "stream",
          "name": "stdout",
          "text": [
            "{'Test Loss': tensor(0.4529), 'Test Acc': tensor(0.7841)}\n"
          ]
        },
        {
          "output_type": "display_data",
          "data": {
            "application/vnd.jupyter.widget-view+json": {
              "model_id": "36f3921f496240139434adbcba72bebd",
              "version_minor": 0,
              "version_major": 2
            },
            "text/plain": [
              "Epoch 8. Train Loss: 0:   0%|          | 0/1000 [00:00<?, ?it/s]"
            ]
          },
          "metadata": {}
        },
        {
          "output_type": "display_data",
          "data": {
            "application/vnd.jupyter.widget-view+json": {
              "model_id": "e0500fbc0442461fa996f9c098a84eb0",
              "version_minor": 0,
              "version_major": 2
            },
            "text/plain": [
              "Test Loss: 0, Test Acc: 0:   0%|          | 0/250 [00:00<?, ?it/s]"
            ]
          },
          "metadata": {}
        },
        {
          "output_type": "stream",
          "name": "stdout",
          "text": [
            "{'Test Loss': tensor(0.4517), 'Test Acc': tensor(0.7851)}\n"
          ]
        }
      ]
    },
    {
      "cell_type": "code",
      "metadata": {
        "colab": {
          "base_uri": "https://localhost:8080/"
        },
        "id": "71XEdjv3oGX_",
        "outputId": "1be7f28f-0239-4ec0-d6f2-e14bdbd338af"
      },
      "source": [
        "# проверка на тестовом датасете\n",
        "# для этого получим tf-idf матрицу для тестовых данных\n",
        "\n",
        "test_tokens = []\n",
        "\n",
        "for text in test_data[\"text\"]:\n",
        "    line = tokenizer.tokenize(text.lower())\n",
        "    tokens = [w for w in line if all(c not in string.punctuation for c in w)]\n",
        "    tokens = [w for w in tokens if len(w) > 2] \n",
        "    tokens = ' '.join(tokens)\n",
        "    test_tokens.append(tokens)\n",
        "  \n",
        "test_vectors = vectorizer.transform(test_tokens) \n",
        "test_vectors_T = test_vectors.T \n",
        "test_vectors_T.shape"
      ],
      "execution_count": null,
      "outputs": [
        {
          "output_type": "execute_result",
          "data": {
            "text/plain": [
              "(65016, 320000)"
            ]
          },
          "metadata": {},
          "execution_count": 61
        }
      ]
    },
    {
      "cell_type": "code",
      "metadata": {
        "colab": {
          "base_uri": "https://localhost:8080/"
        },
        "id": "khJlGAqZoGsH",
        "outputId": "d5e0f6fa-fae1-4179-999d-5206e0a1af08"
      },
      "source": [
        "test_U_100, *_ = svds(test_vectors_T, k = 100)\n",
        "test_vectors_T.shape, test_U_100.shape # размерность - число слов на 100"
      ],
      "execution_count": null,
      "outputs": [
        {
          "output_type": "execute_result",
          "data": {
            "text/plain": [
              "((65016, 320000), (65016, 100))"
            ]
          },
          "metadata": {},
          "execution_count": 62
        }
      ]
    },
    {
      "cell_type": "code",
      "metadata": {
        "id": "f9BUlYCQqvPl"
      },
      "source": [
        "# # Нормализуем U_100\n",
        "\n",
        "# test_mean_tfidf = np.mean(test_U_100, 0)\n",
        "# test_std_tfidf = np.std(test_U_100, 0)\n",
        "# test_U_100_norm = (test_U_100 - test_mean_tfidf) / test_std_tfidf"
      ],
      "execution_count": null,
      "outputs": []
    },
    {
      "cell_type": "code",
      "metadata": {
        "id": "yl_49hjdrEEz"
      },
      "source": [
        "# Создадим словарь {токен: его нормализованный вектор tfidf размерности 100}\n",
        "\n",
        "# test_tfidf_dict = dict(zip(vectorizer.get_feature_names(), test_U_100_norm))\n",
        "test_tfidf_dict = dict(zip(vectorizer.get_feature_names(), test_U_100))"
      ],
      "execution_count": null,
      "outputs": []
    },
    {
      "cell_type": "code",
      "metadata": {
        "colab": {
          "base_uri": "https://localhost:8080/",
          "height": 67,
          "referenced_widgets": [
            "0f264b22c4744a65b4b4726735879d40"
          ]
        },
        "id": "FbNo67jwJnN4",
        "outputId": "2b158ca4-9167-4f80-d1f3-3c34f55e756f"
      },
      "source": [
        "test_loader = DataLoader(\n",
        "    TwitterDataset_TFIDF_plus_W2V(test_data, \"text\", \"emotion\", word2vec, test_tfidf_dict),\n",
        "    batch_size=batch_size, \n",
        "    num_workers=num_workers, \n",
        "    shuffle=False,\n",
        "    drop_last=False, \n",
        "    collate_fn=average_emb)\n",
        "\n",
        "model.load_state_dict(torch.load(\"model.pt\", map_location=device))\n",
        "\n",
        "print(testing(model, criterion, test_loader, device=device))\n",
        "\n",
        "# 8 эпох + scheduler, lr = 3e-2, StepLR(optimizer, 2, 0.5), #nn.ЕLU(), TfidfVectorizer(min_df=3, max_df=0.9)\n",
        "# {'Test Loss': 0.7500607986419726, 'Test Acc': 0.638699955071885}\n",
        "\n",
        "# 8 эпох + scheduler, lr = 3e-2, StepLR(optimizer, 2, 0.5), #nn.ЕLU(), без нормализации векторов, TfidfVectorizer(stop_words='english', min_df=5, max_df=0.9)\n",
        "# {'Test Loss': tensor(0.5362), 'Test Acc': tensor(0.7340)}"
      ],
      "execution_count": null,
      "outputs": [
        {
          "output_type": "display_data",
          "data": {
            "application/vnd.jupyter.widget-view+json": {
              "model_id": "0f264b22c4744a65b4b4726735879d40",
              "version_minor": 0,
              "version_major": 2
            },
            "text/plain": [
              "Test Loss: 0, Test Acc: 0:   0%|          | 0/313 [00:00<?, ?it/s]"
            ]
          },
          "metadata": {}
        },
        {
          "output_type": "stream",
          "name": "stdout",
          "text": [
            "{'Test Loss': tensor(0.5362), 'Test Acc': tensor(0.7340)}\n"
          ]
        }
      ]
    },
    {
      "cell_type": "markdown",
      "metadata": {
        "id": "Ttlpc6RUrc6Z"
      },
      "source": [
        "Использование tf-idf как добавление в конец к вектора w2v ситуацию не улучшило, качество на тесте упало - 0.7340. Теперь попробуем складывать вектора, возможно это улучшит качество, хотя есть сомнения, поскольку пространство векторов W2V осмысленное, а прибавление к нему других векторов может эту осмысленность нарушить."
      ]
    },
    {
      "cell_type": "code",
      "metadata": {
        "colab": {
          "base_uri": "https://localhost:8080/"
        },
        "id": "_8C7qJB34nIf",
        "outputId": "cc089d3a-42b4-4af8-e8af-7e9af2e157be"
      },
      "source": [
        "!pip install sparsesvd"
      ],
      "execution_count": 8,
      "outputs": [
        {
          "output_type": "stream",
          "name": "stdout",
          "text": [
            "Collecting sparsesvd\n",
            "  Downloading sparsesvd-0.2.2.tar.gz (36 kB)\n",
            "Requirement already satisfied: scipy>=0.6.0 in /usr/local/lib/python3.7/dist-packages (from sparsesvd) (1.4.1)\n",
            "Requirement already satisfied: cython in /usr/local/lib/python3.7/dist-packages (from sparsesvd) (0.29.24)\n",
            "Requirement already satisfied: numpy>=1.13.3 in /usr/local/lib/python3.7/dist-packages (from scipy>=0.6.0->sparsesvd) (1.19.5)\n",
            "Building wheels for collected packages: sparsesvd\n",
            "  Building wheel for sparsesvd (setup.py) ... \u001b[?25l\u001b[?25hdone\n",
            "  Created wheel for sparsesvd: filename=sparsesvd-0.2.2-cp37-cp37m-linux_x86_64.whl size=295910 sha256=fa3d32d2cce2f00f2fc8d0b2d34335b67c779976c2a8b52862dccc11a1b46688\n",
            "  Stored in directory: /root/.cache/pip/wheels/4f/e5/2e/50014c1a0983cb8a0738d8c672ef890ef29262779c0259f1e3\n",
            "Successfully built sparsesvd\n",
            "Installing collected packages: sparsesvd\n",
            "Successfully installed sparsesvd-0.2.2\n"
          ]
        }
      ]
    },
    {
      "cell_type": "code",
      "metadata": {
        "id": "Oc7IoqjrJmLA"
      },
      "source": [
        "from sklearn.feature_extraction.text import TfidfVectorizer\n",
        "from sparsesvd import sparsesvd # За идею со sparsesvd спасибо @vaaliferov"
      ],
      "execution_count": 9,
      "outputs": []
    },
    {
      "cell_type": "code",
      "metadata": {
        "id": "NM_v4OEgDod9"
      },
      "source": [
        "# Повторяем операции с tf-idf, т.к. нельзя воспользоваться предыдущими данными из-за нового запуска среды\n",
        "\n",
        "tokenizer = nltk.WordPunctTokenizer()\n",
        "data_tokens = []\n",
        "\n",
        "for text in dev_data[\"text\"]:\n",
        "    line = tokenizer.tokenize(text.lower())\n",
        "    tokens = [w for w in line if all(c not in string.punctuation for c in w)]\n",
        "    tokens = [w for w in tokens if len(w) > 2] \n",
        "    tokens = ' '.join(tokens)\n",
        "    data_tokens.append(tokens)"
      ],
      "execution_count": 10,
      "outputs": []
    },
    {
      "cell_type": "code",
      "metadata": {
        "id": "G3CXzPeFECgE"
      },
      "source": [
        "vectorizer = TfidfVectorizer(stop_words='english', min_df=5, max_df=0.9) # не будем считать самые редкие и самые частые слова, уберем стоп-слова\n",
        "vectorizer.fit(data_tokens) \n",
        "vectors = vectorizer.transform(data_tokens) "
      ],
      "execution_count": 11,
      "outputs": []
    },
    {
      "cell_type": "code",
      "metadata": {
        "colab": {
          "base_uri": "https://localhost:8080/"
        },
        "id": "cG5nUbGMEFOZ",
        "outputId": "91fbc8bb-bcd0-48cc-f1a2-edf572c123f2"
      },
      "source": [
        "vectors_T = vectors.T \n",
        "vectors_T.shape # 65040 вместо 65016 как при предыдущем запуске, как так?"
      ],
      "execution_count": 12,
      "outputs": [
        {
          "output_type": "execute_result",
          "data": {
            "text/plain": [
              "(65040, 1280000)"
            ]
          },
          "metadata": {},
          "execution_count": 12
        }
      ]
    },
    {
      "cell_type": "code",
      "metadata": {
        "colab": {
          "base_uri": "https://localhost:8080/"
        },
        "id": "PXqHd7eiEFR4",
        "outputId": "1db76a6f-7761-42a7-f73c-a558c0078440"
      },
      "source": [
        "U_300, *_ = sparsesvd(vectors_T.tocsc(), 300)\n",
        "print(U_300.shape) # (300, 65040) почему переворачивает размерности?"
      ],
      "execution_count": 13,
      "outputs": [
        {
          "output_type": "stream",
          "name": "stdout",
          "text": [
            "(300, 65040)\n"
          ]
        }
      ]
    },
    {
      "cell_type": "code",
      "metadata": {
        "colab": {
          "base_uri": "https://localhost:8080/"
        },
        "id": "kI6rLj2RFLch",
        "outputId": "4c48436e-e5b2-4224-def0-aa08cd7256e4"
      },
      "source": [
        "U_300_T = U_300.T \n",
        "print(U_300_T.shape)"
      ],
      "execution_count": 14,
      "outputs": [
        {
          "output_type": "stream",
          "name": "stdout",
          "text": [
            "(65040, 300)\n"
          ]
        }
      ]
    },
    {
      "cell_type": "code",
      "metadata": {
        "id": "cr4O5eR8FLiO"
      },
      "source": [
        "tfidf_dict = dict(zip(vectorizer.get_feature_names(), U_300_T))"
      ],
      "execution_count": 15,
      "outputs": []
    },
    {
      "cell_type": "code",
      "metadata": {
        "id": "P5lhBkXM7XKv"
      },
      "source": [
        "from torch.utils.data import Dataset, random_split\n",
        "\n",
        "class TwitterDataset_TFIDF_plus_W2V_300(Dataset):\n",
        "    def __init__(self, data: pd.DataFrame, feature_column: str, \n",
        "                 target_column: str, word2vec: gensim.models.Word2Vec, tfidf_dict):\n",
        "        self.tokenizer = nltk.WordPunctTokenizer()\n",
        "\n",
        "        self.data = data\n",
        "\n",
        "        self.feature_column = feature_column\n",
        "        self.target_column = target_column\n",
        "\n",
        "        self.word2vec = word2vec\n",
        "        self.tfidf_dict = tfidf_dict\n",
        "\n",
        "        self.label2num = lambda label: 0 if label == 0 else 1\n",
        "        self.mean = np.mean(word2vec.vectors, axis=0)\n",
        "        self.std = np.std(word2vec.vectors, axis=0)\n",
        "\n",
        "    def __getitem__(self, item):\n",
        "        text = self.data[self.feature_column][item]\n",
        "        label = self.label2num(self.data[self.target_column][item])\n",
        "\n",
        "        tokens = self.get_tokens_(text)\n",
        "        embeddings = self.get_embeddings_(tokens)\n",
        "\n",
        "        return {\"feature\": embeddings, \"target\": label}\n",
        "\n",
        "    def get_tokens_(self, text):\n",
        "        # Получи все токены из текста и профильтруй их\n",
        "        line = self.tokenizer.tokenize(text.lower())\n",
        "        tokens = [w for w in line if all(c not in string.punctuation for c in w)]\n",
        "        tokens = [w for w in tokens if len(w) > 2] \n",
        "        return tokens\n",
        "\n",
        "    def get_embeddings_(self, tokens):\n",
        "        \n",
        "        # пустой шаблон - число токенов в твите на 300\n",
        "        embeddings = np.zeros((len(tokens), self.word2vec.vector_size))    \n",
        "\n",
        "        for i in range(len(tokens)):\n",
        "\n",
        "          if tokens[i] in self.word2vec:\n",
        "              embeddings[i] += (self.word2vec.get_vector(tokens[i]) - self.mean) / self.std \n",
        "\n",
        "          if tokens[i] in self.tfidf_dict.keys():\n",
        "              # Вектор матрицы TFIDF, соответствующий токену \n",
        "              embeddings[i] += self.tfidf_dict[tokens[i]]\n",
        "\n",
        "        if len(embeddings) == 0:\n",
        "            embeddings = np.zeros((1, self.word2vec.vector_size))\n",
        "        else:\n",
        "            embeddings = np.array(embeddings)\n",
        "            if len(embeddings.shape) == 1:\n",
        "                embeddings = embeddings.reshape(1, -1)\n",
        "\n",
        "        return embeddings\n",
        "\n",
        "    def __len__(self):\n",
        "        return self.data.shape[0]"
      ],
      "execution_count": 16,
      "outputs": []
    },
    {
      "cell_type": "code",
      "metadata": {
        "id": "nUgkiLMeJm34"
      },
      "source": [
        "dev_TFIDF_plus_W2V = TwitterDataset_TFIDF_plus_W2V_300(dev_data, \"text\", \"emotion\", word2vec, tfidf_dict) "
      ],
      "execution_count": 17,
      "outputs": []
    },
    {
      "cell_type": "code",
      "metadata": {
        "id": "34tjtLrAbrw2"
      },
      "source": [
        "from torch.utils.data import DataLoader\n",
        "\n",
        "batch_size = 1024\n",
        "num_workers = 2\n",
        "\n",
        "def average_emb(batch):\n",
        "    features = [np.mean(b[\"feature\"], axis=0) for b in batch]\n",
        "    targets = [b[\"target\"] for b in batch]\n",
        "\n",
        "    return {\"features\": torch.FloatTensor(features), \"targets\": torch.FloatTensor(targets)}\n",
        "\n",
        "train_size = math.ceil(len(dev_TFIDF_plus_W2V) * 0.8) \n",
        "\n",
        "train, valid = random_split(dev_TFIDF_plus_W2V, \n",
        "                            [train_size, len(dev_TFIDF_plus_W2V) - train_size],\n",
        "                            generator=torch.Generator().manual_seed(42))\n",
        "\n",
        "train_loader = DataLoader(train, batch_size=batch_size, num_workers=num_workers,\n",
        "                          shuffle=True, drop_last=True, collate_fn=average_emb)\n",
        "valid_loader = DataLoader(valid, batch_size=batch_size, num_workers=num_workers,\n",
        "                          shuffle=False, drop_last=False, collate_fn=average_emb)"
      ],
      "execution_count": 18,
      "outputs": []
    },
    {
      "cell_type": "code",
      "metadata": {
        "id": "HQzKNr8Cbr2K"
      },
      "source": [
        "import torch.nn as nn\n",
        "from torch.optim import Adam\n",
        "\n",
        "# vector_size = dev_TFIDF_plus_W2V.word2vec.vector_size + 100\n",
        "vector_size = dev_TFIDF_plus_W2V.word2vec.vector_size\n",
        "# lr = 2e-2\n",
        "lr = 3e-2\n",
        "num_epochs = 8\n",
        "\n",
        "model = nn.Sequential(\n",
        "  nn.Linear(vector_size, 128),\n",
        "  nn.ELU(), #nn.ReLU(),\n",
        "  nn.Linear(128, 64),\n",
        "  nn.ELU(),  #nn.ReLU(),\n",
        "  nn.Linear(64, 32),\n",
        "  nn.ELU(),  #nn.ReLU(),\n",
        "  nn.Linear(32, 1)\n",
        ")\n",
        "\n",
        "model = model.to(device)\n",
        "criterion = nn.BCEWithLogitsLoss()\n",
        "optimizer = Adam(model.parameters(), lr=lr)# Твой оптимайзер\n",
        "scheduler = torch.optim.lr_scheduler.StepLR(optimizer, 2, 0.5)"
      ],
      "execution_count": 19,
      "outputs": []
    },
    {
      "cell_type": "code",
      "metadata": {
        "colab": {
          "base_uri": "https://localhost:8080/",
          "height": 671,
          "referenced_widgets": [
            "3e573b0c4b024e25a5dd00bbe06cdf30",
            "da5a4394367646718bc43cb0f40310d1",
            "9cec0ac6a2ee4f598f04e23d2af117ce",
            "5f88c26093c84ef882a7c22617853928",
            "d184e95378934019ab5ed576495a70ba",
            "5ac4226307414e6c9a9616c63ed51cdb",
            "e9462750a5eb4c168f0d52d0feac3ca3",
            "3a41badacc2e434497972b8b53dad6ed",
            "e310f4d846124a768d08f7edd9f62045",
            "87428e3a6e184068be72bbc4e988b410",
            "157fb224042543609e98706e67dad1bf"
          ]
        },
        "id": "rN8s5BzM7N1T",
        "outputId": "54f0f584-a014-4798-edd9-dd67692ff2b9"
      },
      "source": [
        "best_metric = np.inf\n",
        "for e in range(num_epochs):\n",
        "    training(model, optimizer, criterion, train_loader, e, device)\n",
        "    log = testing(model, criterion, valid_loader, device)\n",
        "    scheduler.step()\n",
        "    print(log)\n",
        "    if log[\"Test Loss\"] < best_metric:\n",
        "        torch.save(model.state_dict(), \"model.pt\")\n",
        "        best_metric = log[\"Test Loss\"]\n",
        "\n",
        "# 8 эпох + scheduler, lr = 3e-2, StepLR(optimizer, 2, 0.5), #nn.ЕLU(), без нормализации векторов, TfidfVectorizer(stop_words='english', min_df=5, max_df=0.9) \n",
        "# {'Test Loss': tensor(0.4581), 'Test Acc': tensor(0.7802)}"
      ],
      "execution_count": 22,
      "outputs": [
        {
          "output_type": "display_data",
          "data": {
            "application/vnd.jupyter.widget-view+json": {
              "model_id": "3e573b0c4b024e25a5dd00bbe06cdf30",
              "version_minor": 0,
              "version_major": 2
            },
            "text/plain": [
              "Epoch 1. Train Loss: 0:   0%|          | 0/1000 [00:00<?, ?it/s]"
            ]
          },
          "metadata": {}
        },
        {
          "output_type": "display_data",
          "data": {
            "application/vnd.jupyter.widget-view+json": {
              "model_id": "0f206b87fd984accadfa8afbe05ce6e2",
              "version_minor": 0,
              "version_major": 2
            },
            "text/plain": [
              "Test Loss: 0, Test Acc: 0:   0%|          | 0/250 [00:00<?, ?it/s]"
            ]
          },
          "metadata": {}
        },
        {
          "output_type": "stream",
          "name": "stdout",
          "text": [
            "{'Test Loss': tensor(0.5068), 'Test Acc': tensor(0.7517)}\n"
          ]
        },
        {
          "output_type": "display_data",
          "data": {
            "application/vnd.jupyter.widget-view+json": {
              "model_id": "0c861d86d4b242db9671e830978406fa",
              "version_minor": 0,
              "version_major": 2
            },
            "text/plain": [
              "Epoch 2. Train Loss: 0:   0%|          | 0/1000 [00:00<?, ?it/s]"
            ]
          },
          "metadata": {}
        },
        {
          "output_type": "display_data",
          "data": {
            "application/vnd.jupyter.widget-view+json": {
              "model_id": "f200a80c44f945e9b48c558d42c74ada",
              "version_minor": 0,
              "version_major": 2
            },
            "text/plain": [
              "Test Loss: 0, Test Acc: 0:   0%|          | 0/250 [00:00<?, ?it/s]"
            ]
          },
          "metadata": {}
        },
        {
          "output_type": "stream",
          "name": "stdout",
          "text": [
            "{'Test Loss': tensor(0.4798), 'Test Acc': tensor(0.7681)}\n"
          ]
        },
        {
          "output_type": "display_data",
          "data": {
            "application/vnd.jupyter.widget-view+json": {
              "model_id": "e9e927a8d1ba47818b4ba1a6eecf190a",
              "version_minor": 0,
              "version_major": 2
            },
            "text/plain": [
              "Epoch 3. Train Loss: 0:   0%|          | 0/1000 [00:00<?, ?it/s]"
            ]
          },
          "metadata": {}
        },
        {
          "output_type": "display_data",
          "data": {
            "application/vnd.jupyter.widget-view+json": {
              "model_id": "8a1da3a35a5f480c8359866123765fa0",
              "version_minor": 0,
              "version_major": 2
            },
            "text/plain": [
              "Test Loss: 0, Test Acc: 0:   0%|          | 0/250 [00:00<?, ?it/s]"
            ]
          },
          "metadata": {}
        },
        {
          "output_type": "stream",
          "name": "stdout",
          "text": [
            "{'Test Loss': tensor(0.4666), 'Test Acc': tensor(0.7750)}\n"
          ]
        },
        {
          "output_type": "display_data",
          "data": {
            "application/vnd.jupyter.widget-view+json": {
              "model_id": "bd8f88d7c10048138b41bb40572deb2f",
              "version_minor": 0,
              "version_major": 2
            },
            "text/plain": [
              "Epoch 4. Train Loss: 0:   0%|          | 0/1000 [00:00<?, ?it/s]"
            ]
          },
          "metadata": {}
        },
        {
          "output_type": "display_data",
          "data": {
            "application/vnd.jupyter.widget-view+json": {
              "model_id": "571755137b8f43958de74130fe955cb1",
              "version_minor": 0,
              "version_major": 2
            },
            "text/plain": [
              "Test Loss: 0, Test Acc: 0:   0%|          | 0/250 [00:00<?, ?it/s]"
            ]
          },
          "metadata": {}
        },
        {
          "output_type": "stream",
          "name": "stdout",
          "text": [
            "{'Test Loss': tensor(0.4635), 'Test Acc': tensor(0.7771)}\n"
          ]
        },
        {
          "output_type": "display_data",
          "data": {
            "application/vnd.jupyter.widget-view+json": {
              "model_id": "e9a90d86689e440b967dab154588ea3a",
              "version_minor": 0,
              "version_major": 2
            },
            "text/plain": [
              "Epoch 5. Train Loss: 0:   0%|          | 0/1000 [00:00<?, ?it/s]"
            ]
          },
          "metadata": {}
        },
        {
          "output_type": "display_data",
          "data": {
            "application/vnd.jupyter.widget-view+json": {
              "model_id": "97e820c4022947d8ba15fd7adb2aa78e",
              "version_minor": 0,
              "version_major": 2
            },
            "text/plain": [
              "Test Loss: 0, Test Acc: 0:   0%|          | 0/250 [00:00<?, ?it/s]"
            ]
          },
          "metadata": {}
        },
        {
          "output_type": "stream",
          "name": "stdout",
          "text": [
            "{'Test Loss': tensor(0.4625), 'Test Acc': tensor(0.7779)}\n"
          ]
        },
        {
          "output_type": "display_data",
          "data": {
            "application/vnd.jupyter.widget-view+json": {
              "model_id": "ae13b70db25a4edcb6f054f731f0da5f",
              "version_minor": 0,
              "version_major": 2
            },
            "text/plain": [
              "Epoch 6. Train Loss: 0:   0%|          | 0/1000 [00:00<?, ?it/s]"
            ]
          },
          "metadata": {}
        },
        {
          "output_type": "display_data",
          "data": {
            "application/vnd.jupyter.widget-view+json": {
              "model_id": "b59563ad3b144cb1906ca839c54ec960",
              "version_minor": 0,
              "version_major": 2
            },
            "text/plain": [
              "Test Loss: 0, Test Acc: 0:   0%|          | 0/250 [00:00<?, ?it/s]"
            ]
          },
          "metadata": {}
        },
        {
          "output_type": "stream",
          "name": "stdout",
          "text": [
            "{'Test Loss': tensor(0.4600), 'Test Acc': tensor(0.7795)}\n"
          ]
        },
        {
          "output_type": "display_data",
          "data": {
            "application/vnd.jupyter.widget-view+json": {
              "model_id": "0ab2c59d13ea4419a4ccc622c004906f",
              "version_minor": 0,
              "version_major": 2
            },
            "text/plain": [
              "Epoch 7. Train Loss: 0:   0%|          | 0/1000 [00:00<?, ?it/s]"
            ]
          },
          "metadata": {}
        },
        {
          "output_type": "display_data",
          "data": {
            "application/vnd.jupyter.widget-view+json": {
              "model_id": "8deb94b2aa1842aeacb164fd5ce2e683",
              "version_minor": 0,
              "version_major": 2
            },
            "text/plain": [
              "Test Loss: 0, Test Acc: 0:   0%|          | 0/250 [00:00<?, ?it/s]"
            ]
          },
          "metadata": {}
        },
        {
          "output_type": "stream",
          "name": "stdout",
          "text": [
            "{'Test Loss': tensor(0.4584), 'Test Acc': tensor(0.7801)}\n"
          ]
        },
        {
          "output_type": "display_data",
          "data": {
            "application/vnd.jupyter.widget-view+json": {
              "model_id": "1934770f1a874d8a9c12620deff99c2a",
              "version_minor": 0,
              "version_major": 2
            },
            "text/plain": [
              "Epoch 8. Train Loss: 0:   0%|          | 0/1000 [00:00<?, ?it/s]"
            ]
          },
          "metadata": {}
        },
        {
          "output_type": "display_data",
          "data": {
            "application/vnd.jupyter.widget-view+json": {
              "model_id": "129e588b570542a4b4bd791645a8a2df",
              "version_minor": 0,
              "version_major": 2
            },
            "text/plain": [
              "Test Loss: 0, Test Acc: 0:   0%|          | 0/250 [00:00<?, ?it/s]"
            ]
          },
          "metadata": {}
        },
        {
          "output_type": "stream",
          "name": "stdout",
          "text": [
            "{'Test Loss': tensor(0.4581), 'Test Acc': tensor(0.7802)}\n"
          ]
        }
      ]
    },
    {
      "cell_type": "code",
      "metadata": {
        "id": "4blzGwXQ7SIP",
        "colab": {
          "base_uri": "https://localhost:8080/"
        },
        "outputId": "abfea03a-65e4-499b-dd17-a6875478c7ee"
      },
      "source": [
        "# проверка на тестовом датасете\n",
        "\n",
        "test_tokens = []\n",
        "\n",
        "for text in test_data[\"text\"]:\n",
        "    line = tokenizer.tokenize(text.lower())\n",
        "    tokens = [w for w in line if all(c not in string.punctuation for c in w)]\n",
        "    tokens = [w for w in tokens if len(w) > 2] \n",
        "    tokens = ' '.join(tokens)\n",
        "    test_tokens.append(tokens)\n",
        "  \n",
        "test_vectors = vectorizer.transform(test_tokens) \n",
        "test_vectors_T = test_vectors.T \n",
        "test_vectors_T.shape"
      ],
      "execution_count": 23,
      "outputs": [
        {
          "output_type": "execute_result",
          "data": {
            "text/plain": [
              "(65040, 320000)"
            ]
          },
          "metadata": {},
          "execution_count": 23
        }
      ]
    },
    {
      "cell_type": "code",
      "metadata": {
        "colab": {
          "base_uri": "https://localhost:8080/"
        },
        "id": "CQ__ctSOPir9",
        "outputId": "d125ab39-e80b-4ced-8430-aa2a490f0bf3"
      },
      "source": [
        "U_300_test, *_ = sparsesvd(test_vectors_T.tocsc(), 300)\n",
        "print(U_300_test.shape) # (300, 65040) почему переворачивает размерности?"
      ],
      "execution_count": 24,
      "outputs": [
        {
          "output_type": "stream",
          "name": "stdout",
          "text": [
            "(300, 65040)\n"
          ]
        }
      ]
    },
    {
      "cell_type": "code",
      "metadata": {
        "colab": {
          "base_uri": "https://localhost:8080/"
        },
        "id": "AycBB-o1Pivj",
        "outputId": "03c249b9-bdf4-420d-de9e-ae5abb10fc51"
      },
      "source": [
        "U_300_test_T = U_300_test.T \n",
        "print(U_300_test_T.shape)"
      ],
      "execution_count": 25,
      "outputs": [
        {
          "output_type": "stream",
          "name": "stdout",
          "text": [
            "(65040, 300)\n"
          ]
        }
      ]
    },
    {
      "cell_type": "code",
      "metadata": {
        "id": "nTebeZqLPi6l"
      },
      "source": [
        "test_tfidf_dict = dict(zip(vectorizer.get_feature_names(), U_300_test_T))"
      ],
      "execution_count": 26,
      "outputs": []
    },
    {
      "cell_type": "code",
      "metadata": {
        "id": "OWkQWFke7SKr",
        "colab": {
          "base_uri": "https://localhost:8080/",
          "height": 67
        },
        "outputId": "10e03304-347c-4a12-fab2-458ba7cf040c"
      },
      "source": [
        "test_loader = DataLoader(\n",
        "    TwitterDataset_TFIDF_plus_W2V_300(test_data, \"text\", \"emotion\", word2vec, test_tfidf_dict),\n",
        "    batch_size=batch_size, \n",
        "    num_workers=num_workers, \n",
        "    shuffle=False,\n",
        "    drop_last=False, \n",
        "    collate_fn=average_emb)\n",
        "\n",
        "model.load_state_dict(torch.load(\"model.pt\", map_location=device))\n",
        "\n",
        "print(testing(model, criterion, test_loader, device=device))\n",
        "\n",
        "# 8 эпох + scheduler, lr = 3e-2, StepLR(optimizer, 2, 0.5), #nn.ЕLU(), без нормализации векторов, TfidfVectorizer(stop_words='english', min_df=5, max_df=0.9) \n",
        "# {'Test Loss': tensor(0.4582), 'Test Acc': tensor(0.7808)}"
      ],
      "execution_count": 27,
      "outputs": [
        {
          "output_type": "display_data",
          "data": {
            "application/vnd.jupyter.widget-view+json": {
              "model_id": "7060f97ef57448379c25e1e2e805019b",
              "version_minor": 0,
              "version_major": 2
            },
            "text/plain": [
              "Test Loss: 0, Test Acc: 0:   0%|          | 0/313 [00:00<?, ?it/s]"
            ]
          },
          "metadata": {}
        },
        {
          "output_type": "stream",
          "name": "stdout",
          "text": [
            "{'Test Loss': tensor(0.4582), 'Test Acc': tensor(0.7808)}\n"
          ]
        }
      ]
    },
    {
      "cell_type": "markdown",
      "metadata": {
        "id": "G1mfaZoNdz4K"
      },
      "source": [
        "Суммирование векторов tf-idf и W2V улучшило качество на 0.0029 (было 0.7779, стало 0.7808) Хотя это и самый большой прирост качества к базовой точности, но все же незначительный, на мой взгляд, так что можно говорить, что различные способы замены эмбедингов неизвестных слов в данном случае большой роли не играют. Можно использовать только базовый алгоритм, не усложняя предобработку данных."
      ]
    }
  ]
}