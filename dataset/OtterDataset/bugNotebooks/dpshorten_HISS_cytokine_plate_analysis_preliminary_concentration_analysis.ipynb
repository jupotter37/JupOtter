{
 "cells": [
  {
   "cell_type": "code",
   "execution_count": null,
   "id": "initial_id",
   "metadata": {
    "ExecuteTime": {
     "end_time": "2024-12-05T02:56:35.650816Z",
     "start_time": "2024-12-05T02:56:34.943057Z"
    }
   },
   "outputs": [],
   "source": [
    "import sys\n",
    "import os\n",
    "import yaml\n",
    "import dash\n",
    "from dash import dcc, html\n",
    "from dash.dependencies import Input, Output\n",
    "import plotly.express as px\n",
    "import plotly.graph_objects as go\n",
    "import sklearn.preprocessing\n",
    "import sklearn.cluster\n",
    "\n",
    "import pandas as pd\n",
    "pd.options.mode.chained_assignment = None\n",
    "\n",
    "sys.path.append('../python/')\n",
    "from analysis_util import separate_concentrations_into_cohorts_and_clean\n",
    "\n",
    "# Plotly Dash doesn't display error messages well, so we use logging \n",
    "import logging\n",
    "logging.basicConfig(level=logging.DEBUG, filename=\"dash_logs.log\")\n",
    "\n",
    "LIST_COHORT_NAMES = [\"Melbourne\", \"Adelaide\"]"
   ]
  },
  {
   "cell_type": "code",
   "execution_count": null,
   "id": "96eddea996b6e73",
   "metadata": {
    "ExecuteTime": {
     "end_time": "2024-12-05T02:56:35.662898Z",
     "start_time": "2024-12-05T02:56:35.651898Z"
    }
   },
   "outputs": [],
   "source": [
    "dict_parameters = yaml.safe_load(open(\"../parameters/july_2024_data_parameters.yaml\", \"r\"))"
   ]
  },
  {
   "cell_type": "code",
   "execution_count": null,
   "id": "449798204b14c8a8",
   "metadata": {
    "ExecuteTime": {
     "end_time": "2024-12-05T02:56:35.992413Z",
     "start_time": "2024-12-05T02:56:35.934966Z"
    }
   },
   "outputs": [],
   "source": [
    "pd_df_estimated_concentrations = pd.read_csv(\n",
    "    open(\n",
    "        os.path.join(\n",
    "            dict_parameters[\"base directory path\"],\n",
    "            dict_parameters[\"output directory\"],\n",
    "            dict_parameters[\"estimated concentrations file name\"]\n",
    "        ),\n",
    "        \"rb\"\n",
    "    )\n",
    ")"
   ]
  },
  {
   "cell_type": "code",
   "execution_count": null,
   "id": "f64825b8536902a",
   "metadata": {
    "ExecuteTime": {
     "end_time": "2024-12-05T02:56:36.949952Z",
     "start_time": "2024-12-05T02:56:36.434100Z"
    }
   },
   "outputs": [],
   "source": [
    "dict_pd_df_cohort_tables = separate_concentrations_into_cohorts_and_clean(\n",
    "    dict_parameters,\n",
    "    pd_df_estimated_concentrations\n",
    ")"
   ]
  },
  {
   "cell_type": "code",
   "execution_count": null,
   "id": "189a3dc9f5cd7e6",
   "metadata": {
    "ExecuteTime": {
     "end_time": "2024-12-05T02:56:36.954224Z",
     "start_time": "2024-12-05T02:56:36.950980Z"
    }
   },
   "outputs": [],
   "source": [
    "#TODO: remove the extra index column\n",
    "pd_df_adelaide = dict_pd_df_cohort_tables[\"Adelaide\"].copy()"
   ]
  },
  {
   "cell_type": "code",
   "execution_count": null,
   "id": "867a6dc18dffbde",
   "metadata": {
    "ExecuteTime": {
     "end_time": "2024-12-05T02:56:37.421918Z",
     "start_time": "2024-12-05T02:56:37.387975Z"
    }
   },
   "outputs": [],
   "source": [
    "pd_df_adelaide"
   ]
  },
  {
   "cell_type": "code",
   "execution_count": null,
   "id": "12db9e5aac9540ec",
   "metadata": {
    "ExecuteTime": {
     "end_time": "2024-12-05T02:56:38.363427Z",
     "start_time": "2024-12-05T02:56:38.346593Z"
    }
   },
   "outputs": [],
   "source": [
    "pd_df_adelaide[\"day\"] = 1\n",
    "pd_df_adelaide[\"patient number\"] = pd_df_adelaide[\"patient number\"].astype(str)\n",
    "pd_df_adelaide.loc[pd_df_adelaide[\"patient number\"].str.endswith(\"D2\"), \"day\"] = 2\n",
    "pd_df_adelaide"
   ]
  },
  {
   "cell_type": "code",
   "execution_count": null,
   "id": "544dc3c74dfe8050",
   "metadata": {
    "ExecuteTime": {
     "end_time": "2024-12-05T02:56:39.676245Z",
     "start_time": "2024-12-05T02:56:39.668444Z"
    }
   },
   "outputs": [],
   "source": [
    "pd_df_adelaide[\"patient number\"] = (\n",
    "    pd_df_adelaide[\"patient number\"].str.replace('-D2', '')\n",
    ")"
   ]
  },
  {
   "cell_type": "code",
   "execution_count": null,
   "id": "c03b5af932cd446a",
   "metadata": {
    "ExecuteTime": {
     "end_time": "2024-12-05T02:56:40.761764Z",
     "start_time": "2024-12-05T02:56:40.733444Z"
    }
   },
   "outputs": [],
   "source": [
    "pd_df_adelaide_day_one = pd_df_adelaide[pd_df_adelaide[\"day\"] == 1].set_index([\"patient number\", \"time code\", \"time int\"], drop=True)\n",
    "pd_df_adelaide_day_two = pd_df_adelaide[pd_df_adelaide[\"day\"] == 2].set_index([\"patient number\", \"time code\", \"time int\"], drop=True)\n",
    "pd_df_adelaide_day_two"
   ]
  },
  {
   "cell_type": "code",
   "execution_count": null,
   "id": "9ff0b4a05400f8ac",
   "metadata": {
    "ExecuteTime": {
     "end_time": "2024-12-05T02:57:01.214719Z",
     "start_time": "2024-12-05T02:57:01.191374Z"
    }
   },
   "outputs": [],
   "source": [
    "pd_df_adelaide_differences = (pd_df_adelaide_day_two - pd_df_adelaide_day_one).abs().reset_index()\n",
    "pd_df_adelaide_differences"
   ]
  },
  {
   "cell_type": "markdown",
   "id": "6711707ef2ad20ed",
   "metadata": {},
   "source": [
    "Do some clustering on the Melbourne patients"
   ]
  },
  {
   "cell_type": "code",
   "execution_count": null,
   "id": "8d37a62563f62f69",
   "metadata": {
    "ExecuteTime": {
     "end_time": "2024-09-21T21:37:07.482556Z",
     "start_time": "2024-09-21T21:37:07.474785Z"
    }
   },
   "outputs": [],
   "source": [
    "list_pivot_values_columns = [\n",
    "    str_column_name for str_column_name in dict_pd_df_cohort_tables[\"Melbourne\"].columns\n",
    "    if str_column_name not in list_first_columns + [\"time int\"]\n",
    "]\n",
    "pd_df_melbourne_concentrations_pivoted = (\n",
    "    dict_pd_df_cohort_tables[\"Melbourne\"].pivot(\n",
    "        index=\"patient number\", \n",
    "        columns=\"time code\", \n",
    "        values=list_pivot_values_columns\n",
    "    )\n",
    ")\n",
    "pd_df_melbourne_concentrations_pivoted.columns = [\n",
    "    '_'.join(col).strip() if isinstance(col, tuple) else col for col in pd_df_melbourne_concentrations_pivoted.columns.values\n",
    "]\n",
    "pd_df_melbourne_concentrations_pivoted = pd_df_melbourne_concentrations_pivoted.reset_index()"
   ]
  },
  {
   "cell_type": "code",
   "execution_count": null,
   "id": "82620e37f6bfef00",
   "metadata": {
    "ExecuteTime": {
     "end_time": "2024-09-21T21:37:07.503900Z",
     "start_time": "2024-09-21T21:37:07.484103Z"
    }
   },
   "outputs": [],
   "source": [
    "pd_df_melbourne_concentrations_pivoted"
   ]
  },
  {
   "cell_type": "code",
   "execution_count": null,
   "id": "4dc1259d0d4b9819",
   "metadata": {
    "ExecuteTime": {
     "end_time": "2024-09-21T21:37:07.520801Z",
     "start_time": "2024-09-21T21:37:07.505318Z"
    }
   },
   "outputs": [],
   "source": [
    "list_time_codes_for_clustering = ['C', 'D', 'E']\n",
    "list_columns_to_cluster = []\n",
    "for str_time_code in list_time_codes_for_clustering:\n",
    "    list_columns_to_cluster += [\n",
    "        \"IP-10 diff_\" + str_time_code, \n",
    "        \"TNF-a diff_\" + str_time_code, \n",
    "        \"IFN-gamma diff_\" + str_time_code, \n",
    "        \"IL-6 diff_\" + str_time_code, \n",
    "    ]\n",
    "\n",
    "scaler_object = sklearn.preprocessing.StandardScaler()\n",
    "np_arr_scaled_data = scaler_object.fit_transform(pd_df_melbourne_concentrations_pivoted[list_columns_to_cluster])\n",
    "\n",
    "num_clusters = 5\n",
    "kmeans_object = sklearn.cluster.KMeans(n_clusters=num_clusters, random_state=42)\n",
    "np_arr_cluster_labels = kmeans_object.fit_predict(np_arr_scaled_data)\n",
    "\n",
    "pd_df_melbourne_concentrations_pivoted['cluster'] = np_arr_cluster_labels"
   ]
  },
  {
   "cell_type": "code",
   "execution_count": null,
   "id": "bc781233596e598d",
   "metadata": {
    "ExecuteTime": {
     "end_time": "2024-09-21T21:37:07.530398Z",
     "start_time": "2024-09-21T21:37:07.522254Z"
    }
   },
   "outputs": [],
   "source": [
    "dict_pd_df_cohort_tables[\"Melbourne\"] = dict_pd_df_cohort_tables[\"Melbourne\"].merge(\n",
    "    pd_df_melbourne_concentrations_pivoted[[\"patient number\", \"cluster\"]],\n",
    "    on = \"patient number\",\n",
    "    how = \"left\"\n",
    ")\n",
    "dict_pd_df_cohort_tables[\"Adelaide\"][\"cluster\"] = 1\n",
    "dict_pd_df_cohort_tables[\"Melbourne\"][\"cluster\"] = 1"
   ]
  },
  {
   "cell_type": "code",
   "execution_count": null,
   "id": "27be5f8f09766f90",
   "metadata": {
    "ExecuteTime": {
     "end_time": "2024-09-21T21:37:07.556443Z",
     "start_time": "2024-09-21T21:37:07.531955Z"
    }
   },
   "outputs": [],
   "source": [
    "dict_pd_df_cohort_tables[\"Melbourne\"]"
   ]
  },
  {
   "cell_type": "code",
   "execution_count": null,
   "id": "80317b9f36919bfc",
   "metadata": {
    "ExecuteTime": {
     "end_time": "2024-09-21T21:37:07.618655Z",
     "start_time": "2024-09-21T21:37:07.557759Z"
    }
   },
   "outputs": [],
   "source": [
    "dash_app_object_boxes = dash.Dash(__name__)\n",
    "\n",
    "# Define the layout\n",
    "dash_app_object_boxes.layout = html.Div([\n",
    "    html.H1(\"Plots of estimated concentrations\"),\n",
    "\n",
    "    html.Div([\n",
    "        html.Label(\"Cohort:\"),\n",
    "        dcc.Dropdown(\n",
    "            id='cohort-dropdown',\n",
    "            options=[{'label': col, 'value': col} for col in LIST_COHORT_NAMES],\n",
    "            value=LIST_COHORT_NAMES[0]\n",
    "        ),\n",
    "    ], style={'width': '20%', 'display': 'inline-block'}),\n",
    "    \n",
    "\n",
    "    html.Div([\n",
    "        html.Label(\"Plot type:\"),\n",
    "        dcc.Dropdown(\n",
    "            id='plot-type-dropdown',\n",
    "            options=[\n",
    "                {'label': 'box', 'value': 'box'},\n",
    "                {'label': 'strip', 'value': 'strip'},\n",
    "            ],\n",
    "            value='box',\n",
    "        ),\n",
    "    ], style={'width': '20%', 'display': 'inline-block'}),\n",
    "    \n",
    "    html.Div([\n",
    "        html.Label(\"Data type:\"),\n",
    "        dcc.Dropdown(\n",
    "            id='data-type-dropdown',\n",
    "            options=[\n",
    "                {'label': 'raw estimates', 'value': 'raw estimates'},\n",
    "                {'label': 'differences', 'value': 'differences'},\n",
    "            ],\n",
    "            value='raw estimates',\n",
    "        ),\n",
    "    ], style={'width': '20%', 'display': 'inline-block'}),\n",
    "\n",
    "    html.Div([\n",
    "        html.Label(\"Analyte:\"),\n",
    "        dcc.Dropdown(\n",
    "            id='analyte-dropdown',\n",
    "            options=[{'label': col, 'value': col} for col in dict_parameters[\"list of analytes\"]],\n",
    "            value=dict_parameters[\"list of analytes\"][0]\n",
    "        ),\n",
    "    ], style={'width': '20%', 'display': 'inline-block'}),\n",
    "    \n",
    "    dcc.Graph(id='scatter-plot')\n",
    "], style={'backgroundColor': 'white', 'padding': '20px'})\n",
    "\n",
    "\n",
    "@dash_app_object_boxes.callback(\n",
    "    Output('scatter-plot', 'figure'),\n",
    "    Input('cohort-dropdown', 'value'),\n",
    "    Input('analyte-dropdown', 'value'),\n",
    "    Input('data-type-dropdown', 'value'),\n",
    "    Input('plot-type-dropdown', 'value'),\n",
    ")\n",
    "def update_graph(str_cohort_name, str_analyte, str_data_type, str_plot_type):\n",
    "    \n",
    "    if str_data_type == \"raw estimates\":\n",
    "        str_column_name = dict_parameters[\"column name prefix for estimated concentrations\"] + str_analyte\n",
    "    elif str_data_type == \"differences\":\n",
    "        str_column_name = str_analyte + \" diff\"\n",
    "    \n",
    "    if str_plot_type == \"box\":\n",
    "        fig = px.box(\n",
    "            dict_pd_df_cohort_tables[str_cohort_name], \n",
    "            x = \"time code\", \n",
    "            y = str_column_name,\n",
    "            color=\"cluster\",\n",
    "        )\n",
    "    elif str_plot_type == \"strip\":\n",
    "        fig = px.strip(\n",
    "            dict_pd_df_cohort_tables[str_cohort_name], \n",
    "            x = \"time code\", \n",
    "            y = str_column_name,\n",
    "            hover_name = \"patient number\",\n",
    "            color=\"cluster\",\n",
    "        )    \n",
    "        fig.update_traces(marker = dict(opacity = 0.75))\n",
    "    \n",
    "    if str_data_type == \"raw estimates\":\n",
    "        str_y_label = \"concentration\"\n",
    "    elif str_data_type == \"differences\":\n",
    "        str_y_label = \"diff. in concentration\"\n",
    "    fig.update_layout(\n",
    "        plot_bgcolor='white',\n",
    "        paper_bgcolor='white',\n",
    "        xaxis_title=\"time\",\n",
    "        # xaxis=dict(\n",
    "        #     tickmode='array',\n",
    "        #     tickvals=['A', 'B', 'C', 'D', 'E'],\n",
    "        #     ticktext=['minus 1wk', 'minus 1hr', 'plus 3hr', 'plus 7hr', 'plus 25hr'],\n",
    "        # ),\n",
    "        yaxis_title=str_y_label,\n",
    "        font=dict(\n",
    "            family=\"Arial\",\n",
    "            size=16,\n",
    "            color=\"black\"\n",
    "        )\n",
    "    )\n",
    "    return fig\n",
    "\n",
    "# Run the app\n",
    "if __name__ == '__main__':\n",
    "    dash_app_object_boxes.run(jupyter_mode=\"inline\", debug = True, port=3312)"
   ]
  },
  {
   "cell_type": "code",
   "execution_count": null,
   "id": "3de01372c957b16c",
   "metadata": {
    "ExecuteTime": {
     "end_time": "2024-09-21T21:37:08.119225Z",
     "start_time": "2024-09-21T21:37:07.620801Z"
    }
   },
   "outputs": [],
   "source": [
    "dash_app_object_lines = dash.Dash(__name__)\n",
    "\n",
    "list_patient_ids_melbourne = list(dict_pd_df_cohort_tables[\"Melbourne\"][\"patient number\"].unique())\n",
    "list_patient_ids_adelaide = list(dict_pd_df_cohort_tables[\"Adelaide\"][\"patient number\"].unique())\n",
    "list_patient_id_dropdown_dicts = [\n",
    "    {'label': str_patient_id, 'value': str_patient_id} for str_patient_id in list_patient_ids_adelaide + list_patient_ids_melbourne\n",
    "]\n",
    "\n",
    "# Define the layout\n",
    "dash_app_object_lines.layout = html.Div([\n",
    "    html.H1(\"Line plots by patient number\"),\n",
    "\n",
    "    html.Div([\n",
    "        html.Label(\"Patient number:\"),\n",
    "        dcc.Dropdown(\n",
    "            id='patient-number-dropdown',\n",
    "            options=list_patient_id_dropdown_dicts,\n",
    "            value=list_patient_id_dropdown_dicts[0][\"value\"],\n",
    "        ),\n",
    "    ], style={'width': '20%', 'display': 'inline-block'}),\n",
    "    \n",
    "    html.Div([\n",
    "        html.Label(\"Data type:\"),\n",
    "        dcc.Dropdown(\n",
    "            id='data-type-dropdown',\n",
    "            options=[\n",
    "                {'label': 'raw estimates', 'value': 'raw estimates'},\n",
    "                {'label': 'normalised raw estimates', 'value': 'normalised raw estimates'},\n",
    "                {'label': 'differences', 'value': 'differences'},\n",
    "            ],\n",
    "            value='raw estimates',\n",
    "        ),\n",
    "    ], style={'width': '20%', 'display': 'inline-block'}),\n",
    "\n",
    "    dcc.Graph(id='line-plot')\n",
    "], style={'backgroundColor': 'white', 'padding': '20px'})\n",
    "\n",
    "\n",
    "@dash_app_object_lines.callback(\n",
    "    Output('line-plot', 'figure'),\n",
    "    Input('patient-number-dropdown', 'value'),\n",
    "    Input('data-type-dropdown', 'value'),\n",
    ")\n",
    "def update_graph(str_patient_number, str_data_type):\n",
    "    \n",
    "    fig = go.Figure()\n",
    "    if str_patient_number in list_patient_ids_melbourne:\n",
    "        pd_df_patients_data = (\n",
    "            dict_pd_df_cohort_tables[\"Melbourne\"][dict_pd_df_cohort_tables[\"Melbourne\"][\"patient number\"] == str_patient_number]\n",
    "        )\n",
    "    elif str_patient_number in list_patient_ids_adelaide:\n",
    "        pd_df_patients_data = (\n",
    "            dict_pd_df_cohort_tables[\"Adelaide\"][dict_pd_df_cohort_tables[\"Adelaide\"][\"patient number\"] == str_patient_number]\n",
    "        )\n",
    "\n",
    "    for str_analyte in [\"IP-10\", \"IFN-gamma\", \"IL-6\", \"TNF-a\"]:\n",
    "        \n",
    "        if str_data_type in [\"raw estimates\", \"normalised raw estimates\"]:\n",
    "            str_column_name = dict_parameters[\"column name prefix for estimated concentrations\"] + str_analyte\n",
    "        elif str_data_type == \"differences\":\n",
    "            str_column_name = str_analyte + \" diff\"\n",
    "        pd_series_y = pd_df_patients_data[str_column_name]\n",
    "        if str_data_type == \"normalised raw estimates\":\n",
    "            pd_series_y = (pd_series_y - pd_series_y.mean()) / (pd_series_y.max() - pd_series_y.min())\n",
    "        fig.add_trace(go.Scatter(x=pd_df_patients_data[\"time int\"], y=pd_series_y, mode='lines', name=str_analyte))\n",
    "    \n",
    "    if str_data_type == \"raw estimates\":\n",
    "        str_y_label = \"concentration (pg/ml)\"\n",
    "    if str_data_type == \"normalised raw estimates\":\n",
    "        str_y_label = \"normalised concentration\"\n",
    "    elif str_data_type == \"differences\":\n",
    "        str_y_label = \"diff. in concentration (pg/ml)\"\n",
    "        \n",
    "    if str_patient_number in list_patient_ids_melbourne:\n",
    "        dict_x_ticks = dict(\n",
    "            tickmode='array',\n",
    "            tickvals=[1, 2, 3, 4, 5],\n",
    "            ticktext=['minus 1wk', 'minus 1hr', 'plus 3hr', 'plus 7hr', 'plus 25hr'],\n",
    "        )\n",
    "    elif str_patient_number in list_patient_ids_adelaide:\n",
    "        dict_x_ticks = dict(\n",
    "            tickmode='array',\n",
    "            tickvals=[1, 2, 3, 4, 5, 6, 7],\n",
    "            ticktext=['minus 1hr', 'plus 15min', 'plus 30min', 'plus 1hr', 'plus 2hr', 'plus 4hr', 'plus 8hr'],\n",
    "        )\n",
    "        \n",
    "    fig.update_layout(\n",
    "        plot_bgcolor='white',\n",
    "        paper_bgcolor='white',\n",
    "        xaxis_title=\"time\",\n",
    "        # title={\n",
    "        #      'text': f'Concentrations for Patient {str_patient_number}',\n",
    "        #      'y':0.95,\n",
    "        #      'x':0.5,\n",
    "        #      'xanchor': 'center',\n",
    "        #      'yanchor': 'top',\n",
    "        #      'font': {'size': 24}\n",
    "        # },\n",
    "        xaxis=dict_x_ticks,\n",
    "        yaxis_title=str_y_label,\n",
    "        font=dict(\n",
    "            family=\"Arial\",\n",
    "            size=16,\n",
    "            color=\"black\"\n",
    "        )\n",
    "    )\n",
    "    return fig\n",
    "\n",
    "# Run the app\n",
    "if __name__ == '__main__':\n",
    "    dash_app_object_lines.run(jupyter_mode=\"inline\", debug = True, port=3311)"
   ]
  },
  {
   "cell_type": "code",
   "execution_count": null,
   "id": "2e84f79acf0d5d36",
   "metadata": {
    "ExecuteTime": {
     "end_time": "2024-09-21T21:37:08.123007Z",
     "start_time": "2024-09-21T21:37:08.120574Z"
    }
   },
   "outputs": [],
   "source": []
  }
 ],
 "metadata": {
  "kernelspec": {
   "display_name": "Python 3 (ipykernel)",
   "language": "python",
   "name": "python3"
  },
  "language_info": {
   "codemirror_mode": {
    "name": "ipython",
    "version": 3
   },
   "file_extension": ".py",
   "mimetype": "text/x-python",
   "name": "python",
   "nbconvert_exporter": "python",
   "pygments_lexer": "ipython3",
   "version": "3.11.9"
  }
 },
 "nbformat": 4,
 "nbformat_minor": 5
}
