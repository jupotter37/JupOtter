{
  "nbformat": 4,
  "nbformat_minor": 0,
  "metadata": {
    "colab": {
      "provenance": []
    },
    "kernelspec": {
      "name": "python3",
      "display_name": "Python 3"
    },
    "language_info": {
      "name": "python"
    }
  },
  "cells": [
    {
      "cell_type": "markdown",
      "source": [
        "## 6  Writing Custom Functions\n",
        "### 6.1 Introduction\n",
        "\n",
        "A function is a set of actions that we group together and name. Throughout this course, you’ve already used a bunch of different functions in python that are built into the language or added through packages: mean, ggplot, merge, etc. In this chapter, we’ll be writing our own functions.\n",
        "\n",
        "### 6.2 Defining a function\n",
        "\n",
        "### 6.2.1 When to write a function?\n",
        "\n",
        "If you’ve written the same code (with a few minor changes, like variable names) more than twice, you should probably write a function instead of copy pasting. The motivation behind this is the “don’t repeat yourself” (DRY) principle. There are a few benefits to this rule:\n",
        "\n",
        "1. Your code stays neater (and shorter), so it is easier to read, understand, and maintain.\n",
        "\n",
        "2. If you need to fix the code because of errors, you only have to do it in one place.\n",
        "\n",
        "3. You can re-use code in other files by keeping functions you need regularly in a file (or if you’re really awesome, in your own package!)\n",
        "\n",
        "4. If you name your functions well, your code becomes easier to understand thanks to grouping a set of actions under a descriptive function name.\n",
        "\n",
        "Consider the following data analysis task done in python:\n",
        "\n",
        "\n",
        "\n"
      ],
      "metadata": {
        "id": "ksklvxXWqJoe"
      }
    },
    {
      "cell_type": "code",
      "source": [
        "import pandas as pd\n",
        "import numpy as np"
      ],
      "metadata": {
        "id": "7qgb65AtrUih"
      },
      "execution_count": 6,
      "outputs": []
    },
    {
      "cell_type": "code",
      "source": [
        "df = pd.DataFrame({'a':np.random.normal(1,1,10), 'b':np.random.normal(2,2,10), 'c':np.random.normal(3,3,10), 'd':np.random.normal(4,4,10)})\n",
        "\n",
        "df['a'] = (df['a'] - min(df['a']))/(max(df['a']) - min(df['a']))\n",
        "\n",
        "df['b'] = (df['b'] - min(df['a']))/(max(df['b']) - min(df['b']))\n",
        "\n",
        "df['c'] = (df['c'] - min(df['c']))/(max(df['c']) - min(df['c']))\n",
        "\n",
        "df['d'] = (df['d'] - min(df['d']))/(max(df['d']) - min(df['d']))"
      ],
      "metadata": {
        "id": "s8XEOa3RqlW_"
      },
      "execution_count": 7,
      "outputs": []
    },
    {
      "cell_type": "markdown",
      "source": [
        "\n",
        "In theory, the code rescales a set of variables to have a range from 0 to 1. But, because of the copy-pasting, the code’s author made a mistake and forgot to change an a to b!\n",
        "\n",
        "Writing a function will help us avoid these subtle copy-paste errors."
      ],
      "metadata": {
        "id": "uWVKn269qtPZ"
      }
    },
    {
      "cell_type": "markdown",
      "source": [
        "### 6.2.2 Building up the function\n",
        "\n",
        "To write a function, we first analyze the code to determine how many inputs it has"
      ],
      "metadata": {
        "id": "mRbTjdtAqvE4"
      }
    },
    {
      "cell_type": "code",
      "source": [
        "df['a'] = (df['a'] - min(df['a']))/(max(df['a']) - min(df['a']))"
      ],
      "metadata": {
        "id": "W23LXu3VqyNV"
      },
      "execution_count": 8,
      "outputs": []
    },
    {
      "cell_type": "markdown",
      "source": [
        "This code has only one input: df['a'].\n",
        "\n"
      ],
      "metadata": {
        "id": "SW-MvsZYqz4X"
      }
    },
    {
      "cell_type": "markdown",
      "source": [
        "Check In\n",
        "\n",
        "What is the object structure of this input?\n",
        "\n",
        "\n",
        "* `df` is a Pandas DataFrame.\n",
        "* `df['a']` selects a single column named 'a' from the DataFrame.\n",
        "* A single column in a Pandas DataFrame is represented as a Pandas Series object, which is essentially a one-dimensional labeled array capable of holding data of any type."
      ],
      "metadata": {
        "id": "frbhg5otq0-t"
      }
    },
    {
      "cell_type": "markdown",
      "source": [
        "Now we choose an **argument name** for our new input. It’s nice if the argument name reminds the user of what type or structure of object is expected.\n",
        "\n"
      ],
      "metadata": {
        "id": "ruR416Hwq_Sm"
      }
    },
    {
      "cell_type": "markdown",
      "source": [
        "In this case, it might help to replace `df$a `with `vec`.\n",
        "\n"
      ],
      "metadata": {
        "id": "OOitNrQLrCJ8"
      }
    },
    {
      "cell_type": "code",
      "source": [
        "vec = df['a']\n",
        "\n",
        "(vec - min(vec))/(max(vec) - min(vec))"
      ],
      "metadata": {
        "colab": {
          "base_uri": "https://localhost:8080/",
          "height": 397
        },
        "id": "sDSvUu9frEGK",
        "outputId": "0bce99cd-0575-4826-cb25-bbc19e1fbbe7"
      },
      "execution_count": 9,
      "outputs": [
        {
          "output_type": "execute_result",
          "data": {
            "text/plain": [
              "0    0.492985\n",
              "1    0.610924\n",
              "2    0.000000\n",
              "3    0.688249\n",
              "4    0.274932\n",
              "5    0.402888\n",
              "6    0.686881\n",
              "7    0.791483\n",
              "8    1.000000\n",
              "9    0.488076\n",
              "Name: a, dtype: float64"
            ],
            "text/html": [
              "<div>\n",
              "<style scoped>\n",
              "    .dataframe tbody tr th:only-of-type {\n",
              "        vertical-align: middle;\n",
              "    }\n",
              "\n",
              "    .dataframe tbody tr th {\n",
              "        vertical-align: top;\n",
              "    }\n",
              "\n",
              "    .dataframe thead th {\n",
              "        text-align: right;\n",
              "    }\n",
              "</style>\n",
              "<table border=\"1\" class=\"dataframe\">\n",
              "  <thead>\n",
              "    <tr style=\"text-align: right;\">\n",
              "      <th></th>\n",
              "      <th>a</th>\n",
              "    </tr>\n",
              "  </thead>\n",
              "  <tbody>\n",
              "    <tr>\n",
              "      <th>0</th>\n",
              "      <td>0.492985</td>\n",
              "    </tr>\n",
              "    <tr>\n",
              "      <th>1</th>\n",
              "      <td>0.610924</td>\n",
              "    </tr>\n",
              "    <tr>\n",
              "      <th>2</th>\n",
              "      <td>0.000000</td>\n",
              "    </tr>\n",
              "    <tr>\n",
              "      <th>3</th>\n",
              "      <td>0.688249</td>\n",
              "    </tr>\n",
              "    <tr>\n",
              "      <th>4</th>\n",
              "      <td>0.274932</td>\n",
              "    </tr>\n",
              "    <tr>\n",
              "      <th>5</th>\n",
              "      <td>0.402888</td>\n",
              "    </tr>\n",
              "    <tr>\n",
              "      <th>6</th>\n",
              "      <td>0.686881</td>\n",
              "    </tr>\n",
              "    <tr>\n",
              "      <th>7</th>\n",
              "      <td>0.791483</td>\n",
              "    </tr>\n",
              "    <tr>\n",
              "      <th>8</th>\n",
              "      <td>1.000000</td>\n",
              "    </tr>\n",
              "    <tr>\n",
              "      <th>9</th>\n",
              "      <td>0.488076</td>\n",
              "    </tr>\n",
              "  </tbody>\n",
              "</table>\n",
              "</div><br><label><b>dtype:</b> float64</label>"
            ]
          },
          "metadata": {},
          "execution_count": 9
        }
      ]
    },
    {
      "cell_type": "markdown",
      "source": [
        "Then, we make it a bit easier to read, removing duplicate computations if possible (for instance, computing `min` two times) or separating steps to avoid nested parentheses (for instance, computing `max` first).\n",
        "\n"
      ],
      "metadata": {
        "id": "fWjQYuw4rZ3q"
      }
    },
    {
      "cell_type": "code",
      "source": [
        "vec = df['a']\n",
        "min_vec = min(vec)\n",
        "max_vec = max(vec)\n",
        "\n",
        "(vec - min_vec)/(max_vec - min_vec)"
      ],
      "metadata": {
        "colab": {
          "base_uri": "https://localhost:8080/",
          "height": 397
        },
        "id": "qC48hMLLrcpD",
        "outputId": "8da8b7aa-1a12-4b28-ad38-21009ef39c75"
      },
      "execution_count": 10,
      "outputs": [
        {
          "output_type": "execute_result",
          "data": {
            "text/plain": [
              "0    0.492985\n",
              "1    0.610924\n",
              "2    0.000000\n",
              "3    0.688249\n",
              "4    0.274932\n",
              "5    0.402888\n",
              "6    0.686881\n",
              "7    0.791483\n",
              "8    1.000000\n",
              "9    0.488076\n",
              "Name: a, dtype: float64"
            ],
            "text/html": [
              "<div>\n",
              "<style scoped>\n",
              "    .dataframe tbody tr th:only-of-type {\n",
              "        vertical-align: middle;\n",
              "    }\n",
              "\n",
              "    .dataframe tbody tr th {\n",
              "        vertical-align: top;\n",
              "    }\n",
              "\n",
              "    .dataframe thead th {\n",
              "        text-align: right;\n",
              "    }\n",
              "</style>\n",
              "<table border=\"1\" class=\"dataframe\">\n",
              "  <thead>\n",
              "    <tr style=\"text-align: right;\">\n",
              "      <th></th>\n",
              "      <th>a</th>\n",
              "    </tr>\n",
              "  </thead>\n",
              "  <tbody>\n",
              "    <tr>\n",
              "      <th>0</th>\n",
              "      <td>0.492985</td>\n",
              "    </tr>\n",
              "    <tr>\n",
              "      <th>1</th>\n",
              "      <td>0.610924</td>\n",
              "    </tr>\n",
              "    <tr>\n",
              "      <th>2</th>\n",
              "      <td>0.000000</td>\n",
              "    </tr>\n",
              "    <tr>\n",
              "      <th>3</th>\n",
              "      <td>0.688249</td>\n",
              "    </tr>\n",
              "    <tr>\n",
              "      <th>4</th>\n",
              "      <td>0.274932</td>\n",
              "    </tr>\n",
              "    <tr>\n",
              "      <th>5</th>\n",
              "      <td>0.402888</td>\n",
              "    </tr>\n",
              "    <tr>\n",
              "      <th>6</th>\n",
              "      <td>0.686881</td>\n",
              "    </tr>\n",
              "    <tr>\n",
              "      <th>7</th>\n",
              "      <td>0.791483</td>\n",
              "    </tr>\n",
              "    <tr>\n",
              "      <th>8</th>\n",
              "      <td>1.000000</td>\n",
              "    </tr>\n",
              "    <tr>\n",
              "      <th>9</th>\n",
              "      <td>0.488076</td>\n",
              "    </tr>\n",
              "  </tbody>\n",
              "</table>\n",
              "</div><br><label><b>dtype:</b> float64</label>"
            ]
          },
          "metadata": {},
          "execution_count": 10
        }
      ]
    },
    {
      "cell_type": "markdown",
      "source": [
        "Finally, we turn this code into a function with the `def` command:\n",
        "\n"
      ],
      "metadata": {
        "id": "OIlKKZXwrdwX"
      }
    },
    {
      "cell_type": "code",
      "source": [
        "def rescale_vector(vec):\n",
        "\n",
        "  min_vec = min(vec)\n",
        "  max_vec = max(vec)\n",
        "\n",
        "  rescaled_vec = (vec - min_vec)/(max_vec - min_vec)\n",
        "\n",
        "  return rescaled_vec"
      ],
      "metadata": {
        "id": "OjvuEUcwrfry"
      },
      "execution_count": 11,
      "outputs": []
    },
    {
      "cell_type": "markdown",
      "source": [
        "* The name of the function, rescale_vector, describes what the function does - it rescales a vector (pandas Series or numpy array).\n",
        "\n",
        "* The function takes one **argument**, named vec; any references to this value within the function will use vec as the name.\n",
        "\n",
        "* The code that actually does what your function is supposed to do goes in the body of the function, after the :. It is important for the **body** of the function to be *indented*.\n",
        "\n",
        "* The function **returns** the computed object you want to hand back to the user: in this case, *rescaled_vec*."
      ],
      "metadata": {
        "id": "rZZYRapvri3s"
      }
    },
    {
      "cell_type": "markdown",
      "source": [
        "##### Note\n",
        "\n",
        "Some people prefer to create a final object and then return: that object, as we have done above with rescaled_vec.\n",
        "\n",
        "Others prefer fewer objects and longer lines of code, i.e.,\n",
        "\n",
        "\n",
        "\n",
        "```\n",
        "def rescale_vector(vec):\n",
        "  \n",
        "  min_vec = min(vec)\n",
        "  max_vec = max(vec)\n",
        "  \n",
        "  return (vec - min_vec)/(max_vec - min_vec)\n",
        "```\n",
        "These two approaches will work identically; it’s a matter of personal preference.\n"
      ],
      "metadata": {
        "id": "ai7hLk3QrvNk"
      }
    },
    {
      "cell_type": "markdown",
      "source": [
        "The process for creating a function is important: first, you figure out how to do the thing you want to do. Then, you simplify the code as much as possible. Only at the end of that process do you create an actual function.\n",
        "\n"
      ],
      "metadata": {
        "id": "tzW8fbH5r3Gg"
      }
    },
    {
      "cell_type": "markdown",
      "source": [
        "Now, we are able to use our function to avoid the repetition:\n",
        "\n"
      ],
      "metadata": {
        "id": "9o5ufcW2r4fB"
      }
    },
    {
      "cell_type": "code",
      "source": [
        "df['a'] = rescale_vector(df['a'])\n",
        "df['b'] = rescale_vector(df['b'])\n",
        "df['c'] = rescale_vector(df['c'])\n",
        "df['d'] = rescale_vector(df['d'])"
      ],
      "metadata": {
        "id": "6XvbsxJgriaB"
      },
      "execution_count": 12,
      "outputs": []
    },
    {
      "cell_type": "markdown",
      "source": [
        "You probably notice there is still a little bit of repetition here, with df['a'] appearing on both the left and right side of the =. But this is good repetition! When we assign or reassign an object or column, we want that to be an obvious and deliberate choice.\n",
        "\n",
        "It’s also possible that you might have preferred to keep your original column untouched, and to make new columns for the rescaled data:"
      ],
      "metadata": {
        "id": "aEe3SBjnr7d8"
      }
    },
    {
      "cell_type": "code",
      "source": [
        "df['a_scaled'] = rescale_vector(df['a'])\n",
        "df['b_scaled'] = rescale_vector(df['b'])\n",
        "df['c_scaled'] = rescale_vector(df['c'])\n",
        "df['d_scaled'] = rescale_vector(df['d'])"
      ],
      "metadata": {
        "id": "24HGPZPGr8z3"
      },
      "execution_count": 13,
      "outputs": []
    },
    {
      "cell_type": "markdown",
      "source": [
        "### 6.2.3 Documenting your function\n",
        "\n",
        "When you want to use a function in `python`, but you can’t quite remember exactly how it works, you might be in the habit of typing ?`fun_name` or `help(fun_name)` to be able to see the **documentation** for that function.\n",
        "\n",
        "When you write your own function - whether for yourself or for others - it’s important to provide reminders of what the function is for and how it works.\n",
        "\n",
        "We do this by adding text in a very specific structure into the body of our function:"
      ],
      "metadata": {
        "id": "_Ut7kLklr-Y5"
      }
    },
    {
      "cell_type": "code",
      "source": [
        "def rescale_vector(vec):\n",
        "\n",
        "  \"\"\"\n",
        "  Rescales a numeric vector to have a max of 1 and min of 0\n",
        "\n",
        "  Parameter\n",
        "  ---------\n",
        "  vec : num\n",
        "    A list, numpy array, or pandas Series of numeric data.\n",
        "\n",
        "  Returns\n",
        "  -------\n",
        "  array\n",
        "    A numpy array containing the rescaled values.\n",
        "  \"\"\"\n",
        "\n",
        "  min_vec = min(vec)\n",
        "  max_vec = max(vec)\n",
        "\n",
        "  rescaled_vec = (vec - min_vec)/(max_vec - min_vec)\n",
        "\n",
        "  return rescaled_vec"
      ],
      "metadata": {
        "id": "L4DvjesRsFut"
      },
      "execution_count": 14,
      "outputs": []
    },
    {
      "cell_type": "markdown",
      "source": [
        "A few important aspects of the above to note:\n",
        "\n",
        "* The use of three quotation marks, \"\"\" is necessary for this text to be recognized as official documentation.\n",
        "\n",
        "* The exact structure of the Parameters and Returns sections, with underlines, is important for consistency with other documentation. There are a few other formatting styles that are generally accepted; we’ll stick with the one in this example in this course.\n",
        "\n",
        "* When listing the arguments, a.k.a. parameters of our function, we specify the name of the argument, the data type that is expected, and a brief description.\n",
        "\n",
        "* When listing the returns of our function, we specify what object structure is being returned, and a brief description.\n",
        "\n",
        "* The blank line after the final \"\"\" is important!"
      ],
      "metadata": {
        "id": "peRysTPisJFT"
      }
    },
    {
      "cell_type": "code",
      "source": [
        "help(rescale_vector)"
      ],
      "metadata": {
        "colab": {
          "base_uri": "https://localhost:8080/"
        },
        "id": "17NJKXBRsIkv",
        "outputId": "39edf3be-1f49-4d40-a26f-c2f86682ac59"
      },
      "execution_count": 15,
      "outputs": [
        {
          "output_type": "stream",
          "name": "stdout",
          "text": [
            "Help on function rescale_vector in module __main__:\n",
            "\n",
            "rescale_vector(vec)\n",
            "    Rescales a numeric vector to have a max of 1 and min of 0\n",
            "    \n",
            "    Parameter\n",
            "    ---------\n",
            "    vec : num\n",
            "      A list, numpy array, or pandas Series of numeric data.\n",
            "    \n",
            "    Returns\n",
            "    -------\n",
            "    array \n",
            "      A numpy array containing the rescaled values.\n",
            "\n"
          ]
        }
      ]
    },
    {
      "cell_type": "markdown",
      "source": [
        "### 6.3 Scope\n",
        "In the previous example, you might have expected\n",
        "\n"
      ],
      "metadata": {
        "id": "3xpM9RvosRub"
      }
    },
    {
      "cell_type": "code",
      "source": [
        "rescale_vector(df['a'])"
      ],
      "metadata": {
        "colab": {
          "base_uri": "https://localhost:8080/",
          "height": 397
        },
        "id": "smOyrnXZsQ_C",
        "outputId": "b7d07a60-9c1a-4e3f-9e5a-77ec16bce2da"
      },
      "execution_count": 16,
      "outputs": [
        {
          "output_type": "execute_result",
          "data": {
            "text/plain": [
              "0    0.492985\n",
              "1    0.610924\n",
              "2    0.000000\n",
              "3    0.688249\n",
              "4    0.274932\n",
              "5    0.402888\n",
              "6    0.686881\n",
              "7    0.791483\n",
              "8    1.000000\n",
              "9    0.488076\n",
              "Name: a, dtype: float64"
            ],
            "text/html": [
              "<div>\n",
              "<style scoped>\n",
              "    .dataframe tbody tr th:only-of-type {\n",
              "        vertical-align: middle;\n",
              "    }\n",
              "\n",
              "    .dataframe tbody tr th {\n",
              "        vertical-align: top;\n",
              "    }\n",
              "\n",
              "    .dataframe thead th {\n",
              "        text-align: right;\n",
              "    }\n",
              "</style>\n",
              "<table border=\"1\" class=\"dataframe\">\n",
              "  <thead>\n",
              "    <tr style=\"text-align: right;\">\n",
              "      <th></th>\n",
              "      <th>a</th>\n",
              "    </tr>\n",
              "  </thead>\n",
              "  <tbody>\n",
              "    <tr>\n",
              "      <th>0</th>\n",
              "      <td>0.492985</td>\n",
              "    </tr>\n",
              "    <tr>\n",
              "      <th>1</th>\n",
              "      <td>0.610924</td>\n",
              "    </tr>\n",
              "    <tr>\n",
              "      <th>2</th>\n",
              "      <td>0.000000</td>\n",
              "    </tr>\n",
              "    <tr>\n",
              "      <th>3</th>\n",
              "      <td>0.688249</td>\n",
              "    </tr>\n",
              "    <tr>\n",
              "      <th>4</th>\n",
              "      <td>0.274932</td>\n",
              "    </tr>\n",
              "    <tr>\n",
              "      <th>5</th>\n",
              "      <td>0.402888</td>\n",
              "    </tr>\n",
              "    <tr>\n",
              "      <th>6</th>\n",
              "      <td>0.686881</td>\n",
              "    </tr>\n",
              "    <tr>\n",
              "      <th>7</th>\n",
              "      <td>0.791483</td>\n",
              "    </tr>\n",
              "    <tr>\n",
              "      <th>8</th>\n",
              "      <td>1.000000</td>\n",
              "    </tr>\n",
              "    <tr>\n",
              "      <th>9</th>\n",
              "      <td>0.488076</td>\n",
              "    </tr>\n",
              "  </tbody>\n",
              "</table>\n",
              "</div><br><label><b>dtype:</b> float64</label>"
            ]
          },
          "metadata": {},
          "execution_count": 16
        }
      ]
    },
    {
      "cell_type": "markdown",
      "source": [
        "to change the column of the df object automatically - but it does not, unless you explicitly reassign the results! This is because everything that happens “inside” the function cannot change the status of objects outside the function.\n",
        "\n",
        "This critical programming concept - determining when objects are changed and when they can be accessed - is called scope.\n",
        "\n",
        "In general, an object is only available within the environment where it was created. Right now, as you work in your Jupyter notebook or Quarto document, you are interacting with your global environment. Run the globals() function to see all the objects you have created and libraries you have loaded so far.\n",
        "\n",
        "Just as someone sitting next to you on a different computer can’t access an object in your own global environment, the body of a function is its own function environment.\n",
        "\n",
        "Anything that is created or altered in the function environment does not impact the global environment - locally, you only “see” what the function returns."
      ],
      "metadata": {
        "id": "h4rWGXC7sUq-"
      }
    },
    {
      "cell_type": "markdown",
      "source": [
        "#### 6.3.1 Name Masking\n",
        "\n",
        "Scope is most clearly demonstrated when we use the same variable name inside and outside a function.\n",
        "\n",
        "Note that this is 1) bad programming practice, and 2) fairly easily avoided if you can make your names even slightly more creative than a, b, and so on. But, for the purposes of demonstration, I hope you’ll forgive my lack of creativity in this area so that you can see how name masking works.\n",
        "\n",
        "Consider the following code:"
      ],
      "metadata": {
        "id": "zs4XnMtnsX3J"
      }
    },
    {
      "cell_type": "code",
      "source": [
        "a = 10\n",
        "\n",
        "def myfun(a):\n",
        "\n",
        "  a = a + 10\n",
        "\n",
        "  return a\n",
        "\n",
        "\n",
        "myfun(a)\n",
        "\n",
        "a + 5"
      ],
      "metadata": {
        "colab": {
          "base_uri": "https://localhost:8080/"
        },
        "id": "IW018pOAsabw",
        "outputId": "a8ca9877-a217-43e2-8ece-23d2e079c8dd"
      },
      "execution_count": 17,
      "outputs": [
        {
          "output_type": "execute_result",
          "data": {
            "text/plain": [
              "15"
            ]
          },
          "metadata": {},
          "execution_count": 17
        }
      ]
    },
    {
      "cell_type": "markdown",
      "source": [
        "#### 6.3.2 Nested environments and scope\n",
        "\n",
        "One thing to notice is that each time the function is run, it creates a new local environment. That is, previous running of a function can’t impact future runs of that function.\n",
        "\n",
        "For example, this code gives the same answer over and over; it does not continue to add 10 to a copy of a, because it never alters the object a in the global environment or the parameters of the other functions’ local environments.\n",
        "\n"
      ],
      "metadata": {
        "id": "5U2EC15esfDC"
      }
    },
    {
      "cell_type": "code",
      "source": [
        "def myfun(a):\n",
        "\n",
        "  a = a + 10\n",
        "\n",
        "  return a\n",
        "\n",
        "myfun(a)\n",
        "myfun(a)\n",
        "myfun(a)"
      ],
      "metadata": {
        "colab": {
          "base_uri": "https://localhost:8080/"
        },
        "id": "kOfQZkwdsh7b",
        "outputId": "5fe5a640-8c1f-46e5-a72e-29ff2e75fe21"
      },
      "execution_count": 18,
      "outputs": [
        {
          "output_type": "execute_result",
          "data": {
            "text/plain": [
              "20"
            ]
          },
          "metadata": {},
          "execution_count": 18
        }
      ]
    },
    {
      "cell_type": "markdown",
      "source": [
        "NameError: name 'a' is not defined\n",
        "However, all of the local environments are considered to be inside of your global environment. That is, while they cannot change objects in the global environment, they can “see” those objects.\n",
        "\n",
        "Notice in the below code that we don’t pass any arguments to myfun(). But it is still able to compute b + 1 and return an answer!"
      ],
      "metadata": {
        "id": "w-qDmZ4ssj5N"
      }
    },
    {
      "cell_type": "code",
      "source": [
        "b = 10\n",
        "\n",
        "def myfun():\n",
        "  return b + 1\n",
        "\n",
        "myfun()"
      ],
      "metadata": {
        "colab": {
          "base_uri": "https://localhost:8080/"
        },
        "id": "0L78NxnaslCH",
        "outputId": "d4f4ed8d-9d45-498e-df63-470dd85cec19"
      },
      "execution_count": 19,
      "outputs": [
        {
          "output_type": "execute_result",
          "data": {
            "text/plain": [
              "11"
            ]
          },
          "metadata": {},
          "execution_count": 19
        }
      ]
    },
    {
      "cell_type": "markdown",
      "source": [
        "A function will always look in its local environment first; then check the global for backups:\n",
        "\n"
      ],
      "metadata": {
        "id": "jaApuSpssmRl"
      }
    },
    {
      "cell_type": "code",
      "source": [
        "b = 10\n",
        "\n",
        "def myfun():\n",
        "  b = 20\n",
        "  return b + 1\n",
        "\n",
        "myfun()"
      ],
      "metadata": {
        "colab": {
          "base_uri": "https://localhost:8080/"
        },
        "id": "5N0mhw_BsnF3",
        "outputId": "e7c1c7ff-1aa7-44c3-ab80-05f7f41cdb2b"
      },
      "execution_count": 20,
      "outputs": [
        {
          "output_type": "execute_result",
          "data": {
            "text/plain": [
              "21"
            ]
          },
          "metadata": {},
          "execution_count": 20
        }
      ]
    },
    {
      "cell_type": "markdown",
      "source": [
        "Alas, although this is bad practice, we quite often “cheat” in Data Science and use global references to our dataset in function shortcuts, e.g.\n",
        "\n"
      ],
      "metadata": {
        "id": "AAR71AgVspkQ"
      }
    },
    {
      "cell_type": "code",
      "source": [
        "import pandas as pd\n",
        "!pip install palmerpenguins\n",
        "\n",
        "from palmerpenguins import load_penguins\n",
        "from plotnine import *\n",
        "penguins = load_penguins()\n",
        "\n",
        "def plot_my_data(cat_var):\n",
        "\n",
        "  plot = (ggplot(penguins, aes(x = cat_var)) + geom_bar())\n",
        "\n",
        "  return plot\n",
        "\n",
        "\n",
        "plot_my_data('species')"
      ],
      "metadata": {
        "colab": {
          "base_uri": "https://localhost:8080/",
          "height": 638
        },
        "id": "TApV7fuWsrWi",
        "outputId": "24caf015-b15e-4623-d957-c7620fa7e69e"
      },
      "execution_count": 28,
      "outputs": [
        {
          "output_type": "stream",
          "name": "stdout",
          "text": [
            "Requirement already satisfied: palmerpenguins in /usr/local/lib/python3.10/dist-packages (0.1.4)\n",
            "Requirement already satisfied: pandas in /usr/local/lib/python3.10/dist-packages (from palmerpenguins) (2.2.2)\n",
            "Requirement already satisfied: numpy in /usr/local/lib/python3.10/dist-packages (from palmerpenguins) (1.26.4)\n",
            "Requirement already satisfied: python-dateutil>=2.8.2 in /usr/local/lib/python3.10/dist-packages (from pandas->palmerpenguins) (2.8.2)\n",
            "Requirement already satisfied: pytz>=2020.1 in /usr/local/lib/python3.10/dist-packages (from pandas->palmerpenguins) (2024.2)\n",
            "Requirement already satisfied: tzdata>=2022.7 in /usr/local/lib/python3.10/dist-packages (from pandas->palmerpenguins) (2024.2)\n",
            "Requirement already satisfied: six>=1.5 in /usr/local/lib/python3.10/dist-packages (from python-dateutil>=2.8.2->pandas->palmerpenguins) (1.16.0)\n"
          ]
        },
        {
          "output_type": "display_data",
          "data": {
            "image/png": "[encoded data removed]"
          },
          "metadata": {
            "image/png": {
              "width": 640,
              "height": 480
            }
          }
        }
      ]
    },
    {
      "cell_type": "markdown",
      "source": [
        "This “trick” is sometimes called Dynamic Lookup. You should mostly avoid it; but when you use it carefully and deliberately in the context of a specific data analysis, it can be a convenient approach.\n",
        "\n"
      ],
      "metadata": {
        "id": "V1X0fn-ttCrh"
      }
    },
    {
      "cell_type": "markdown",
      "source": [
        "Check In\n",
        "\n",
        "\n",
        "Write a custom function that does the following:\n",
        "\n",
        "1. Limit the penguins dataset to a user-chosen species and/or island.\n",
        "2. Makes a scatterplot of the penguin bill length and depth.\n",
        "\n",
        "Try writing a version of this function using dynamic lookup, and a version where everything the function needs is passed in directly."
      ],
      "metadata": {
        "id": "It-VZSV3tE6f"
      }
    },
    {
      "cell_type": "code",
      "source": [
        "\n",
        "\n",
        "def plot_penguins_dynamic(species=None, island=None):\n",
        "  \"\"\"\n",
        "  Plots a scatterplot of penguin bill length and depth, optionally filtering by species and/or island.\n",
        "\n",
        "  Parameters\n",
        "  ----------\n",
        "  species : str, optional\n",
        "    The species of penguin to include in the plot.\n",
        "  island : str, optional\n",
        "    The island to include in the plot.\n",
        "\n",
        "  Returns\n",
        "  -------\n",
        "  plotnine.ggplot\n",
        "    A scatterplot of bill length vs. bill depth for the specified penguins.\n",
        "  \"\"\"\n",
        "  global penguins  # Using dynamic lookup, accessing the penguins DataFrame from the global environment\n",
        "\n",
        "  if species:\n",
        "    penguins_subset = penguins[penguins['species'] == species]\n",
        "  else:\n",
        "    penguins_subset = penguins\n",
        "\n",
        "  if island:\n",
        "    penguins_subset = penguins_subset[penguins_subset['island'] == island]\n",
        "\n",
        "\n",
        "  plot = (ggplot(penguins_subset, aes(x='bill_length_mm', y='bill_depth_mm')) +\n",
        "          geom_point() +\n",
        "          labs(x='Bill Length (mm)', y='Bill Depth (mm)', title='Penguin Bill Dimensions'))\n",
        "  return plot\n",
        "\n",
        "\n",
        "\n"
      ],
      "metadata": {
        "id": "4vZZIYWetJCR"
      },
      "execution_count": 32,
      "outputs": []
    },
    {
      "cell_type": "code",
      "source": [
        "def plot_penguins_direct(penguins_df, species=None, island=None):\n",
        "  \"\"\"\n",
        "  Plots a scatterplot of penguin bill length and depth, optionally filtering by species and/or island.\n",
        "\n",
        "  Parameters\n",
        "  ----------\n",
        "  penguins_df : pandas.DataFrame\n",
        "    The penguins DataFrame.\n",
        "  species : str, optional\n",
        "    The species of penguin to include in the plot.\n",
        "  island : str, optional\n",
        "    The island to include in the plot.\n",
        "\n",
        "  Returns\n",
        "  -------\n",
        "  plotnine.ggplot\n",
        "    A scatterplot of bill length vs. bill depth for the specified penguins.\n",
        "  \"\"\"\n",
        "\n",
        "  if species:\n",
        "    penguins_subset = penguins_df[penguins_df['species'] == species]\n",
        "  else:\n",
        "    penguins_subset = penguins_df\n",
        "\n",
        "  if island:\n",
        "    penguins_subset = penguins_subset[penguins_subset['island'] == island]\n",
        "\n",
        "\n",
        "  plot = (ggplot(penguins_subset, aes(x='bill_length_mm', y='bill_depth_mm')) +\n",
        "          geom_point() +\n",
        "          labs(x='Bill Length (mm)', y='Bill Depth (mm)', title='Penguin Bill Dimensions'))\n",
        "  return plot"
      ],
      "metadata": {
        "id": "RmlZGUnTtTct"
      },
      "execution_count": 33,
      "outputs": []
    },
    {
      "cell_type": "markdown",
      "source": [
        "But what if someone tried to enter the name of a variable that is not categorical? Or a variable that doesn’t exist in the penguins dataset? Or an input that is not a variable name (string)? Or no input at all?\n",
        "\n"
      ],
      "metadata": {
        "id": "RK82EzTltVIy"
      }
    },
    {
      "cell_type": "code",
      "source": [
        "plot_my_data('bill_length_mm')\n",
        "\n",
        "plot_my_data('name')\n",
        "\n",
        "plot_my_data(5)\n",
        "\n",
        "plot_my_data(True)\n",
        "\n",
        "plot_my_data()"
      ],
      "metadata": {
        "colab": {
          "base_uri": "https://localhost:8080/",
          "height": 176
        },
        "id": "-umh1oXrtV3Y",
        "outputId": "7d4e2288-d945-48b9-8d9d-e97e79586d50"
      },
      "execution_count": 34,
      "outputs": [
        {
          "output_type": "error",
          "ename": "TypeError",
          "evalue": "plot_my_data() missing 1 required positional argument: 'cat_var'",
          "traceback": [
            "\u001b[0;31m---------------------------------------------------------------------------\u001b[0m",
            "\u001b[0;31mTypeError\u001b[0m                                 Traceback (most recent call last)",
            "\u001b[0;32m<ipython-input-34-c4fda1c4cc08>\u001b[0m in \u001b[0;36m<cell line: 9>\u001b[0;34m()\u001b[0m\n\u001b[1;32m      7\u001b[0m \u001b[0mplot_my_data\u001b[0m\u001b[0;34m(\u001b[0m\u001b[0;32mTrue\u001b[0m\u001b[0;34m)\u001b[0m\u001b[0;34m\u001b[0m\u001b[0;34m\u001b[0m\u001b[0m\n\u001b[1;32m      8\u001b[0m \u001b[0;34m\u001b[0m\u001b[0m\n\u001b[0;32m----> 9\u001b[0;31m \u001b[0mplot_my_data\u001b[0m\u001b[0;34m(\u001b[0m\u001b[0;34m)\u001b[0m\u001b[0;34m\u001b[0m\u001b[0;34m\u001b[0m\u001b[0m\n\u001b[0m",
            "\u001b[0;31mTypeError\u001b[0m: plot_my_data() missing 1 required positional argument: 'cat_var'"
          ]
        }
      ]
    },
    {
      "cell_type": "markdown",
      "source": [
        "#### 6.4.2 Input Validation\n",
        "\n",
        "\n",
        "When you write a function, you often assume that your parameters will be of a certain type. But as we saw above, you can’t guarantee that the person using your function knows that they need a certain type of input, and they might be confused by how your function handles that input. In these cases, it’s best to validate your function input.\n",
        "\n"
      ],
      "metadata": {
        "id": "sGaZaMp0tXmE"
      }
    },
    {
      "cell_type": "markdown",
      "source": [
        "#### 6.4.2.1 if-else and sys.exit\n",
        "\n",
        "Generally your approach to validation will be to check some conditions, and exit the function if they are not met. The function exit() from the sys library is a good approach. You want to make sure you write an informative error statement in your exit, so that the user knows how to fix what went wrong.\n",
        "\n",
        "\n",
        "The most common condition checking is to make sure the object type is correct - i.e., that the user inputs a string, and that the string refers to a categorical (a.k.a. “object”) variable in the penguins dataset.\n",
        "\n",
        "Recall that you can “reverse” a boolean (True or False) value using the not statement. Sometimes, it is easier to check if a condition is not met than to list all the “good” conditions.\n",
        "\n",
        "Putting these together, we can check if our user input to plot_my_data is what we expect:"
      ],
      "metadata": {
        "id": "q4Uxk5xytbA2"
      }
    },
    {
      "cell_type": "code",
      "source": [
        "from sys import exit\n",
        "\n",
        "def plot_my_data(cat_var):\n",
        "\n",
        "  if not isinstance(cat_var, str):\n",
        "    exit(\"Please provide a variable name in the form of a string.\")\n",
        "\n",
        "  if not (cat_var in penguins.columns):\n",
        "    exit(\"The variable provided is not found in the penguins dataset.\")\n",
        "\n",
        "  if not penguins[cat_var].dtypes == 'object':\n",
        "    exit(\"Please provide the name of a categorical (object type) variable.\")\n",
        "\n",
        "  plot = (ggplot(penguins, aes(x = cat_var)) + geom_bar())\n",
        "\n",
        "  return plot"
      ],
      "metadata": {
        "id": "2PAxqEeste9K"
      },
      "execution_count": 35,
      "outputs": []
    },
    {
      "cell_type": "markdown",
      "source": [
        "Notice that we have used the isinstance base python function to check that the user inputted a string; but we have used the dtype method to check the data type of the column of data in a pandas dataframe.\n",
        "\n",
        "When checking types and structures, be careful about “special” object types from packages, like pandas data frames or numpy arrays - they each unfortunately have their own type checking functions and their own names for types."
      ],
      "metadata": {
        "id": "gMLf0UhLthX5"
      }
    },
    {
      "cell_type": "markdown",
      "source": [
        "Now, let’s retry our unit tests:\n",
        "\n"
      ],
      "metadata": {
        "id": "W3agTgcmtif_"
      }
    },
    {
      "cell_type": "code",
      "source": [
        "plot_my_data('bill_length_mm')\n",
        "\n",
        "plot_my_data('name')\n",
        "\n",
        "plot_my_data(5)\n",
        "\n",
        "plot_my_data(True)\n",
        "\n",
        "plot_my_data()"
      ],
      "metadata": {
        "colab": {
          "base_uri": "https://localhost:8080/",
          "height": 126
        },
        "id": "FzgA3CDytjao",
        "outputId": "e97175ef-ecdc-4d71-ece4-25066c3fa485"
      },
      "execution_count": 36,
      "outputs": [
        {
          "output_type": "error",
          "ename": "SystemExit",
          "evalue": "Please provide the name of a categorical (object type) variable.",
          "traceback": [
            "An exception has occurred, use %tb to see the full traceback.\n",
            "\u001b[0;31mSystemExit\u001b[0m\u001b[0;31m:\u001b[0m Please provide the name of a categorical (object type) variable.\n"
          ]
        },
        {
          "output_type": "stream",
          "name": "stderr",
          "text": [
            "/usr/local/lib/python3.10/dist-packages/IPython/core/interactiveshell.py:3561: UserWarning: To exit: use 'exit', 'quit', or Ctrl-D.\n"
          ]
        }
      ]
    },
    {
      "cell_type": "markdown",
      "source": [
        "Input validation is one aspect of defensive programming - programming in such a way that you try to ensure that your programs don’t error out due to unexpected bugs by anticipating ways your programs might be misunderstood or misused. If you’re interested, Wikipedia has more about defensive programming."
      ],
      "metadata": {
        "id": "qvkeOlvqtlJB"
      }
    },
    {
      "cell_type": "markdown",
      "source": [
        "#### 6.5 Debugging\n",
        "\n",
        "Now that you’re writing functions, it’s time to talk a bit about debugging techniques. This is a lifelong topic - as you become a more advanced programmer, you will need to develop more advanced debugging skills as well (because you’ll find newer and more exciting ways to break your code!).\n",
        "\n"
      ],
      "metadata": {
        "id": "I-0vm8Uytm8H"
      }
    },
    {
      "cell_type": "markdown",
      "source": [
        "Let’s start with the basics: print debugging.\n",
        "\n"
      ],
      "metadata": {
        "id": "5AzXsRPLtpxo"
      }
    },
    {
      "cell_type": "markdown",
      "source": [
        "#### 6.5.1 Print Debugging\n",
        "\n",
        "This technique is basically exactly what it sounds like. You insert a ton of print statements to give you an idea of what is happening at each step of the function.\n",
        "\n",
        "Let’s try it out on the rescale_vector function."
      ],
      "metadata": {
        "id": "w5ccxRdLtrN3"
      }
    },
    {
      "cell_type": "code",
      "source": [
        "def rescale_vector(vec):\n",
        "\n",
        "  min_vec = min(vec)\n",
        "  max_vec = max(vec)\n",
        "\n",
        "  rescaled = (vec - min_vec)/(max_vec - min_vec)\n",
        "\n",
        "  return rescaled"
      ],
      "metadata": {
        "id": "RE2Uh9nPtvKs"
      },
      "execution_count": 37,
      "outputs": []
    },
    {
      "cell_type": "markdown",
      "source": [
        "Suppose we try the following:\n",
        "\n"
      ],
      "metadata": {
        "id": "m0NIbKN3twH2"
      }
    },
    {
      "cell_type": "code",
      "source": [
        "my_vec = [-1,0,1,2,3]\n",
        "\n",
        "my_vec = np.sqrt(my_vec)\n",
        "\n",
        "rescale_vector(my_vec)"
      ],
      "metadata": {
        "colab": {
          "base_uri": "https://localhost:8080/"
        },
        "id": "sU67Bk58txPy",
        "outputId": "ad958b94-d9c3-4819-d4d8-5676b64dfd5f"
      },
      "execution_count": 38,
      "outputs": [
        {
          "output_type": "stream",
          "name": "stderr",
          "text": [
            "<ipython-input-38-948044cab140>:3: RuntimeWarning: invalid value encountered in sqrt\n"
          ]
        },
        {
          "output_type": "execute_result",
          "data": {
            "text/plain": [
              "array([nan, nan, nan, nan, nan])"
            ]
          },
          "metadata": {},
          "execution_count": 38
        }
      ]
    },
    {
      "cell_type": "markdown",
      "source": [
        "You probably have spotted the issue here, but what if it wasn’t obvious, and we wanted to know why our function was returning an array of nan values.\n",
        "\n",
        "Is the culprit the min? The max?\n",
        "\n"
      ],
      "metadata": {
        "id": "wrncvYdcty00"
      }
    },
    {
      "cell_type": "code",
      "source": [
        "def rescale_vector(vec):\n",
        "\n",
        "  min_vec = min(vec)\n",
        "  print(\"min: \" + str(min_vec))\n",
        "\n",
        "  max_vec = max(vec)\n",
        "  print(\"max: \" + str(max_vec))\n",
        "\n",
        "  rescaled = (vec - min_vec)/(max_vec - min_vec)\n",
        "\n",
        "  return rescaled"
      ],
      "metadata": {
        "id": "ucEGlj7Tt0SD"
      },
      "execution_count": 39,
      "outputs": []
    },
    {
      "cell_type": "code",
      "source": [
        "rescale_vector(my_vec)"
      ],
      "metadata": {
        "colab": {
          "base_uri": "https://localhost:8080/"
        },
        "id": "EyuvZBUFt1wj",
        "outputId": "51bc99d1-770d-4c1a-c86d-3cd881be387f"
      },
      "execution_count": 40,
      "outputs": [
        {
          "output_type": "stream",
          "name": "stdout",
          "text": [
            "min: nan\n",
            "max: nan\n"
          ]
        },
        {
          "output_type": "execute_result",
          "data": {
            "text/plain": [
              "array([nan, nan, nan, nan, nan])"
            ]
          },
          "metadata": {},
          "execution_count": 40
        }
      ]
    },
    {
      "cell_type": "markdown",
      "source": [
        "Notice how the print() statements cause information to get printed out as the function ran, but did not change the return value of the function!"
      ],
      "metadata": {
        "id": "HN-f3KHCt4Hm"
      }
    },
    {
      "cell_type": "markdown",
      "source": [
        "Hmmm, both the min and the max were nan. This explains why our rescaling introduced all missing values!\n",
        "\n",
        "So, the issue must be with the user input itself. Let’s rewrite our function to take a look at that."
      ],
      "metadata": {
        "id": "MOD7mRezt6NA"
      }
    },
    {
      "cell_type": "code",
      "source": [
        "def rescale_vector(vec):\n",
        "\n",
        "  print(vec)\n",
        "\n",
        "  min_vec = min(vec)\n",
        "  max_vec = max(vec)\n",
        "\n",
        "  rescaled = (vec - min_vec)/(max_vec - min_vec)\n",
        "\n",
        "  return rescaled"
      ],
      "metadata": {
        "id": "NdxXPuhSt3rQ"
      },
      "execution_count": 41,
      "outputs": []
    },
    {
      "cell_type": "code",
      "source": [
        "rescale_vector(my_vec)"
      ],
      "metadata": {
        "colab": {
          "base_uri": "https://localhost:8080/"
        },
        "id": "BHSlIsBut9yX",
        "outputId": "805a33be-e7f0-4465-e872-b4cb169bcc89"
      },
      "execution_count": 42,
      "outputs": [
        {
          "output_type": "stream",
          "name": "stdout",
          "text": [
            "[       nan 0.         1.         1.41421356 1.73205081]\n"
          ]
        },
        {
          "output_type": "execute_result",
          "data": {
            "text/plain": [
              "array([nan, nan, nan, nan, nan])"
            ]
          },
          "metadata": {},
          "execution_count": 42
        }
      ]
    },
    {
      "cell_type": "markdown",
      "source": [
        "Ah-ha! The first value of the input vector is a nan.\n",
        "\n",
        "Ideally, the user would not input a vector with missing values. But it’s our job to make sure the function is prepared to handle them."
      ],
      "metadata": {
        "id": "DAp8YpTouBGm"
      }
    },
    {
      "cell_type": "markdown",
      "source": [
        "### 6.5.2 Beyond print statements: breakpoints\n",
        "\n",
        "While print() statements work fine as a quick-and-dirty debugging strategy, you will soon get tired of using them, since you have to change your function and reload it every time you want to check something.\n",
        "\n",
        "A more elegant - and ultimately easier - approach is to “dive in” to the environment of the function itself, where you can interact with the parameters in the local environment the same way you might interact with your global environment.\n",
        "\n",
        "To do this, we will set a breakpoint in our function. This will cause the function to run until that point, and then stop and let us play around in the environment."
      ],
      "metadata": {
        "id": "0Qb6C_C3uJXR"
      }
    },
    {
      "cell_type": "code",
      "source": [
        "def rescale_vector(vec):\n",
        "\n",
        "  breakpoint()\n",
        "\n",
        "  min_vec = min(vec)\n",
        "  max_vec = max(vec)\n",
        "\n",
        "  rescaled = (vec - min_vec)/(max_vec - min_vec)\n",
        "\n",
        "  return rescaled"
      ],
      "metadata": {
        "id": "DX858LgUuMq-"
      },
      "execution_count": 43,
      "outputs": []
    },
    {
      "cell_type": "markdown",
      "source": [
        "### 6.5.3 pdb (“python de-bugger”)\n",
        "\n",
        "Although setting breakpoints can be much cleaner and more convenient than several print() statements, using breakpoint() still required us to modify and reload the function.\n",
        "\n",
        "The most advanced and clean approach to debugging is to use the pdb library to dive straight in to the local environment."
      ],
      "metadata": {
        "id": "cuyZlaI4uVuq"
      }
    },
    {
      "cell_type": "code",
      "source": [
        "def rescale_vector(vec):\n",
        "\n",
        "  min_vec = min(vec)\n",
        "  max_vec = max(vec)\n",
        "\n",
        "  rescaled = (vec - min_vec)/(max_vec - min_vec)\n",
        "\n",
        "  return rescaled"
      ],
      "metadata": {
        "id": "JmmgHXqVuYwa"
      },
      "execution_count": 45,
      "outputs": []
    },
    {
      "cell_type": "code",
      "source": [
        "import pdb\n",
        "pdb.run(\"rescale_vector(my_vec)\")"
      ],
      "metadata": {
        "colab": {
          "base_uri": "https://localhost:8080/",
          "height": 877
        },
        "id": "X_lfAI-SuZ5F",
        "outputId": "b40bfd27-2cbf-4a11-99bc-cdaea874fdcf"
      },
      "execution_count": 46,
      "outputs": [
        {
          "output_type": "stream",
          "name": "stderr",
          "text": [
            "\n",
            "PYDEV DEBUGGER WARNING:\n",
            "sys.settrace() should not be used when the debugger is being used.\n",
            "This may cause the debugger to stop working correctly.\n",
            "If this is needed, please check: \n",
            "http://pydev.blogspot.com/2007/06/why-cant-pydev-debugger-work-with.html\n",
            "to see how to restore the debug tracing back correctly.\n",
            "Call Location:\n",
            "  File \"/usr/lib/python3.10/bdb.py\", line 596, in run\n",
            "    sys.settrace(self.trace_dispatch)\n",
            "\n"
          ]
        },
        {
          "output_type": "stream",
          "name": "stdout",
          "text": [
            "> \u001b[0;32m<string>\u001b[0m(1)\u001b[0;36m<module>\u001b[0;34m()\u001b[0m\n",
            "\n",
            "ipdb> 3\n",
            "3\n",
            "ipdb> stop\n",
            "*** NameError: name 'stop' is not defined\n"
          ]
        },
        {
          "output_type": "stream",
          "name": "stderr",
          "text": [
            "\n",
            "PYDEV DEBUGGER WARNING:\n",
            "sys.settrace() should not be used when the debugger is being used.\n",
            "This may cause the debugger to stop working correctly.\n",
            "If this is needed, please check: \n",
            "http://pydev.blogspot.com/2007/06/why-cant-pydev-debugger-work-with.html\n",
            "to see how to restore the debug tracing back correctly.\n",
            "Call Location:\n",
            "  File \"/usr/lib/python3.10/bdb.py\", line 603, in run\n",
            "    sys.settrace(None)\n",
            "\n"
          ]
        },
        {
          "output_type": "stream",
          "name": "stdout",
          "text": [
            "--KeyboardInterrupt--\n",
            "\n",
            "KeyboardInterrupt: Interrupted by user\n"
          ]
        },
        {
          "output_type": "error",
          "ename": "TypeError",
          "evalue": "unsupported operand type(s) for -: 'list' and 'int'",
          "traceback": [
            "\u001b[0;31m---------------------------------------------------------------------------\u001b[0m",
            "\u001b[0;31mTypeError\u001b[0m                                 Traceback (most recent call last)",
            "\u001b[0;32m<ipython-input-46-714a3a81e27a>\u001b[0m in \u001b[0;36m<cell line: 2>\u001b[0;34m()\u001b[0m\n\u001b[1;32m      1\u001b[0m \u001b[0;32mimport\u001b[0m \u001b[0mpdb\u001b[0m\u001b[0;34m\u001b[0m\u001b[0;34m\u001b[0m\u001b[0m\n\u001b[0;32m----> 2\u001b[0;31m \u001b[0mpdb\u001b[0m\u001b[0;34m.\u001b[0m\u001b[0mrun\u001b[0m\u001b[0;34m(\u001b[0m\u001b[0;34m\"rescale_vector(my_vec)\"\u001b[0m\u001b[0;34m)\u001b[0m\u001b[0;34m\u001b[0m\u001b[0;34m\u001b[0m\u001b[0m\n\u001b[0m",
            "\u001b[0;32m/usr/lib/python3.10/pdb.py\u001b[0m in \u001b[0;36mrun\u001b[0;34m(statement, globals, locals)\u001b[0m\n\u001b[1;32m   1605\u001b[0m \u001b[0;34m\u001b[0m\u001b[0m\n\u001b[1;32m   1606\u001b[0m \u001b[0;32mdef\u001b[0m \u001b[0mrun\u001b[0m\u001b[0;34m(\u001b[0m\u001b[0mstatement\u001b[0m\u001b[0;34m,\u001b[0m \u001b[0mglobals\u001b[0m\u001b[0;34m=\u001b[0m\u001b[0;32mNone\u001b[0m\u001b[0;34m,\u001b[0m \u001b[0mlocals\u001b[0m\u001b[0;34m=\u001b[0m\u001b[0;32mNone\u001b[0m\u001b[0;34m)\u001b[0m\u001b[0;34m:\u001b[0m\u001b[0;34m\u001b[0m\u001b[0;34m\u001b[0m\u001b[0m\n\u001b[0;32m-> 1607\u001b[0;31m     \u001b[0mPdb\u001b[0m\u001b[0;34m(\u001b[0m\u001b[0;34m)\u001b[0m\u001b[0;34m.\u001b[0m\u001b[0mrun\u001b[0m\u001b[0;34m(\u001b[0m\u001b[0mstatement\u001b[0m\u001b[0;34m,\u001b[0m \u001b[0mglobals\u001b[0m\u001b[0;34m,\u001b[0m \u001b[0mlocals\u001b[0m\u001b[0;34m)\u001b[0m\u001b[0;34m\u001b[0m\u001b[0;34m\u001b[0m\u001b[0m\n\u001b[0m\u001b[1;32m   1608\u001b[0m \u001b[0;34m\u001b[0m\u001b[0m\n\u001b[1;32m   1609\u001b[0m \u001b[0;32mdef\u001b[0m \u001b[0mruneval\u001b[0m\u001b[0;34m(\u001b[0m\u001b[0mexpression\u001b[0m\u001b[0;34m,\u001b[0m \u001b[0mglobals\u001b[0m\u001b[0;34m=\u001b[0m\u001b[0;32mNone\u001b[0m\u001b[0;34m,\u001b[0m \u001b[0mlocals\u001b[0m\u001b[0;34m=\u001b[0m\u001b[0;32mNone\u001b[0m\u001b[0;34m)\u001b[0m\u001b[0;34m:\u001b[0m\u001b[0;34m\u001b[0m\u001b[0;34m\u001b[0m\u001b[0m\n",
            "\u001b[0;32m/usr/lib/python3.10/bdb.py\u001b[0m in \u001b[0;36mrun\u001b[0;34m(self, cmd, globals, locals)\u001b[0m\n\u001b[1;32m    596\u001b[0m         \u001b[0msys\u001b[0m\u001b[0;34m.\u001b[0m\u001b[0msettrace\u001b[0m\u001b[0;34m(\u001b[0m\u001b[0mself\u001b[0m\u001b[0;34m.\u001b[0m\u001b[0mtrace_dispatch\u001b[0m\u001b[0;34m)\u001b[0m\u001b[0;34m\u001b[0m\u001b[0;34m\u001b[0m\u001b[0m\n\u001b[1;32m    597\u001b[0m         \u001b[0;32mtry\u001b[0m\u001b[0;34m:\u001b[0m\u001b[0;34m\u001b[0m\u001b[0;34m\u001b[0m\u001b[0m\n\u001b[0;32m--> 598\u001b[0;31m             \u001b[0mexec\u001b[0m\u001b[0;34m(\u001b[0m\u001b[0mcmd\u001b[0m\u001b[0;34m,\u001b[0m \u001b[0mglobals\u001b[0m\u001b[0;34m,\u001b[0m \u001b[0mlocals\u001b[0m\u001b[0;34m)\u001b[0m\u001b[0;34m\u001b[0m\u001b[0;34m\u001b[0m\u001b[0m\n\u001b[0m\u001b[1;32m    599\u001b[0m         \u001b[0;32mexcept\u001b[0m \u001b[0mBdbQuit\u001b[0m\u001b[0;34m:\u001b[0m\u001b[0;34m\u001b[0m\u001b[0;34m\u001b[0m\u001b[0m\n\u001b[1;32m    600\u001b[0m             \u001b[0;32mpass\u001b[0m\u001b[0;34m\u001b[0m\u001b[0;34m\u001b[0m\u001b[0m\n",
            "\u001b[0;32m<string>\u001b[0m in \u001b[0;36m<module>\u001b[0;34m\u001b[0m\n",
            "\u001b[0;32m<ipython-input-45-df30af4004b8>\u001b[0m in \u001b[0;36mrescale_vector\u001b[0;34m(vec)\u001b[0m\n\u001b[1;32m      4\u001b[0m   \u001b[0mmax_vec\u001b[0m \u001b[0;34m=\u001b[0m \u001b[0mmax\u001b[0m\u001b[0;34m(\u001b[0m\u001b[0mvec\u001b[0m\u001b[0;34m)\u001b[0m\u001b[0;34m\u001b[0m\u001b[0;34m\u001b[0m\u001b[0m\n\u001b[1;32m      5\u001b[0m \u001b[0;34m\u001b[0m\u001b[0m\n\u001b[0;32m----> 6\u001b[0;31m   \u001b[0mrescaled\u001b[0m \u001b[0;34m=\u001b[0m \u001b[0;34m(\u001b[0m\u001b[0mvec\u001b[0m \u001b[0;34m-\u001b[0m \u001b[0mmin_vec\u001b[0m\u001b[0;34m)\u001b[0m\u001b[0;34m/\u001b[0m\u001b[0;34m(\u001b[0m\u001b[0mmax_vec\u001b[0m \u001b[0;34m-\u001b[0m \u001b[0mmin_vec\u001b[0m\u001b[0;34m)\u001b[0m\u001b[0;34m\u001b[0m\u001b[0;34m\u001b[0m\u001b[0m\n\u001b[0m\u001b[1;32m      7\u001b[0m \u001b[0;34m\u001b[0m\u001b[0m\n\u001b[1;32m      8\u001b[0m   \u001b[0;32mreturn\u001b[0m \u001b[0mrescaled\u001b[0m\u001b[0;34m\u001b[0m\u001b[0;34m\u001b[0m\u001b[0m\n",
            "\u001b[0;31mTypeError\u001b[0m: unsupported operand type(s) for -: 'list' and 'int'"
          ]
        }
      ]
    },
    {
      "cell_type": "markdown",
      "source": [
        "#### 6.6 General Debugging Strategies\n",
        "\n",
        "Debugging: Being the detective in a crime movie where you are also the murderer.\n",
        "\n",
        "The overall process of addressing a bug is:\n",
        "\n",
        "Realize that you have a bug\n",
        "\n",
        "1. Google! Generally Googling the error + the programming language + any packages you think are causing the issue is a good strategy.\n",
        "\n",
        "2. Make the error repeatable: This makes it easier to figure out what the error is, faster to re-try to see if you fixed it, and easier to ask for help. Unit tests are perfect for this.\n",
        "\n",
        "3. Figure out where it is. Print statements and debuggers help you dig into the function to find the problem area.\n",
        "\n",
        "4. Fix it and test it. The goal with tests is to ensure that the same error doesn’t pop back up in a future version of your code. Generate an example that will test for the error, and add it to your documentation.\n",
        "\n"
      ],
      "metadata": {
        "id": "EKL5e8uHufWR"
      }
    },
    {
      "cell_type": "markdown",
      "source": [
        "#### 6.6.1 Rubber Duck debugging\n",
        "\n",
        "Have you ever called a friend or teacher over for help with an issue, only to find that by explaining it to them, you solved it yourself?\n",
        "\n",
        "Talking through your code out loud is an extremely effective way to spot problems. In programming, we call this Rubber Duck Debugging, because coders will sometimes keep a small toy like a rubber duck by their computer, and talk to it while they are alone.\n",
        "\n"
      ],
      "metadata": {
        "id": "tL5km-cauqFi"
      }
    },
    {
      "cell_type": "markdown",
      "source": [
        "#### 6.6.2 Refactoring your code\n",
        "\n",
        "In programming, as in life, big, general problems are very hard to solve effectively. Instead, the goal is to break a problem down into smaller pieces that may actually be solveable.\n",
        "\n",
        "When we redesign our functions to consist of many smaller functions, this is called refactoring. Consider the following function:\n"
      ],
      "metadata": {
        "id": "W6CousxTuuef"
      }
    },
    {
      "cell_type": "code",
      "source": [
        "def rescale_all_variables(df):\n",
        "\n",
        "  for col in df.columns:\n",
        "\n",
        "    min_vec = min(df[col])\n",
        "    max_vec = max(df[col])\n",
        "\n",
        "    df[col] = (df[col] - min_vec)/(max_vec - min_vec)\n",
        "\n",
        "\n",
        "  return df"
      ],
      "metadata": {
        "id": "Hr5vz6MRuc14"
      },
      "execution_count": null,
      "outputs": []
    },
    {
      "cell_type": "markdown",
      "source": [
        "A much cleaner and easier to read way to use this function would be to use the smaller function rescale_vector inside of rescale_all_variables"
      ],
      "metadata": {
        "id": "ryOgQP8tu1Gd"
      }
    },
    {
      "cell_type": "code",
      "source": [
        "def rescale_all_variables(df):\n",
        "\n",
        "  for col in df.columns:\n",
        "    df[col] = rescale_vector(df[col])\n",
        "\n",
        "  return df"
      ],
      "metadata": {
        "id": "L1LZc6nau2yB"
      },
      "execution_count": 47,
      "outputs": []
    },
    {
      "cell_type": "markdown",
      "source": [
        "This not only makes the code more readable to humans, it also helps us track down whether the error is happening in the outside function (rescale_all_variables) or the inside one (rescale_vector)\n",
        "\n"
      ],
      "metadata": {
        "id": "AjIsz7Oru4SH"
      }
    },
    {
      "cell_type": "markdown",
      "source": [
        "#### 6.6.3 Taking a break!\n",
        "\n",
        "Do not be surprised if, in the process of debugging, you encounter new bugs. This is a problem that’s so well-known it has an xkcd comic.\n",
        "\n",
        "At some point, getting up and going for a walk may help!\n"
      ],
      "metadata": {
        "id": "Qo2d9yS8u5iC"
      }
    },
    {
      "cell_type": "markdown",
      "source": [
        "\n",
        "\n",
        "---\n",
        "\n"
      ],
      "metadata": {
        "id": "tMIBZYoovFeG"
      }
    },
    {
      "cell_type": "markdown",
      "source": [
        "#### Practice Activity: Writing Functions"
      ],
      "metadata": {
        "id": "LfEUngiVvHMl"
      }
    },
    {
      "cell_type": "code",
      "source": [
        "!pip install palmerpenguins"
      ],
      "metadata": {
        "colab": {
          "base_uri": "https://localhost:8080/"
        },
        "id": "UqLPlQcAvKIC",
        "outputId": "8e9b9a6f-a74f-41cb-f97c-4874ed9edfdf"
      },
      "execution_count": 48,
      "outputs": [
        {
          "output_type": "stream",
          "name": "stdout",
          "text": [
            "Requirement already satisfied: palmerpenguins in /usr/local/lib/python3.10/dist-packages (0.1.4)\n",
            "Requirement already satisfied: pandas in /usr/local/lib/python3.10/dist-packages (from palmerpenguins) (2.2.2)\n",
            "Requirement already satisfied: numpy in /usr/local/lib/python3.10/dist-packages (from palmerpenguins) (1.26.4)\n",
            "Requirement already satisfied: python-dateutil>=2.8.2 in /usr/local/lib/python3.10/dist-packages (from pandas->palmerpenguins) (2.8.2)\n",
            "Requirement already satisfied: pytz>=2020.1 in /usr/local/lib/python3.10/dist-packages (from pandas->palmerpenguins) (2024.2)\n",
            "Requirement already satisfied: tzdata>=2022.7 in /usr/local/lib/python3.10/dist-packages (from pandas->palmerpenguins) (2024.2)\n",
            "Requirement already satisfied: six>=1.5 in /usr/local/lib/python3.10/dist-packages (from python-dateutil>=2.8.2->pandas->palmerpenguins) (1.16.0)\n"
          ]
        }
      ]
    },
    {
      "cell_type": "code",
      "source": [
        "import numpy as np\n",
        "import pandas as pd\n",
        "from sys import exit\n",
        "from palmerpenguins import load_penguins\n",
        "from plotnine import *"
      ],
      "metadata": {
        "id": "JxRdB2tGvMER"
      },
      "execution_count": 49,
      "outputs": []
    },
    {
      "cell_type": "markdown",
      "source": [
        "1. Fill in the necessary code to write a function called `times_seven()`. The function should take a single argument (`x`) and multiply the input by 7.\n",
        "  + This function should check that the argument is numeric.\n",
        "  + This function should also excitedly announce (print) *“I love sevens!”* if the argument to the function is a 7."
      ],
      "metadata": {
        "id": "97_HU8u5vPFv"
      }
    },
    {
      "cell_type": "code",
      "source": [
        "def times_seven(x):\n",
        "    if not isinstance(x, (int, float)):\n",
        "        exit(\"Input must be a number.\")\n",
        "\n",
        "    if x == 7:\n",
        "        print(\"I love sevens!\")\n",
        "\n",
        "    return x * 7"
      ],
      "metadata": {
        "id": "iMGq2_F3vO0D"
      },
      "execution_count": 50,
      "outputs": []
    },
    {
      "cell_type": "markdown",
      "source": [
        "2. Write and run some *unit tests* for your `times_seven` function.  What happens if the input to the function is `[1, 3, 5, 7]`?"
      ],
      "metadata": {
        "id": "kW_4vpoRvUkB"
      }
    },
    {
      "cell_type": "code",
      "source": [
        "print(times_seven(1))\n",
        "print(times_seven(3))\n",
        "print(times_seven(5))\n",
        "print(times_seven(7))"
      ],
      "metadata": {
        "colab": {
          "base_uri": "https://localhost:8080/"
        },
        "id": "2nTqVQB3vWC0",
        "outputId": "566a2275-ad1a-4a51-ae54-34358d090cea"
      },
      "execution_count": 51,
      "outputs": [
        {
          "output_type": "stream",
          "name": "stdout",
          "text": [
            "7\n",
            "21\n",
            "35\n",
            "I love sevens!\n",
            "49\n"
          ]
        }
      ]
    },
    {
      "cell_type": "markdown",
      "source": [
        " If the input function is [1, 3, 5, 7]"
      ],
      "metadata": {
        "id": "6wi4uaXWvYqh"
      }
    },
    {
      "cell_type": "code",
      "source": [
        "print(times_seven([1, 3, 5, 7]))"
      ],
      "metadata": {
        "colab": {
          "base_uri": "https://localhost:8080/",
          "height": 126
        },
        "id": "oVhizSd9vbPp",
        "outputId": "da6db8d9-fe0b-4b92-ebbd-f1c712678eca"
      },
      "execution_count": 52,
      "outputs": [
        {
          "output_type": "error",
          "ename": "SystemExit",
          "evalue": "Input must be a number.",
          "traceback": [
            "An exception has occurred, use %tb to see the full traceback.\n",
            "\u001b[0;31mSystemExit\u001b[0m\u001b[0;31m:\u001b[0m Input must be a number.\n"
          ]
        },
        {
          "output_type": "stream",
          "name": "stderr",
          "text": [
            "/usr/local/lib/python3.10/dist-packages/IPython/core/interactiveshell.py:3561: UserWarning: To exit: use 'exit', 'quit', or Ctrl-D.\n"
          ]
        }
      ]
    },
    {
      "cell_type": "markdown",
      "source": [
        "The input function [1,3,5,7] returns an error because the function only accepts numeric types like integers or floats. Since lists are not numeric, it results in the system exiting stating that the input must be a number."
      ],
      "metadata": {
        "id": "SuScSC05vdC_"
      }
    },
    {
      "cell_type": "markdown",
      "source": [
        "3. Consider the following function:"
      ],
      "metadata": {
        "id": "xhQwVSlWvfZi"
      }
    },
    {
      "cell_type": "code",
      "source": [
        "def add_or_subtract(first_num, second_num = 2, type = \"add\"):\n",
        "\n",
        "  if (type == \"add\"):\n",
        "    res = first_num + second_num\n",
        "  elif (type == \"subtract\"):\n",
        "    res = first_num - second_num\n",
        "  else:\n",
        "    exit(\"Please choose `add` or `subtract` as the type.\")\n",
        "\n",
        "    return res"
      ],
      "metadata": {
        "id": "t_1O60T2ve0h"
      },
      "execution_count": 53,
      "outputs": []
    },
    {
      "cell_type": "markdown",
      "source": [
        "**Without running the code**, predict if the following will produce:\n",
        "\n",
        "a. 1\n",
        "\n",
        "b. -1\n",
        "\n",
        "c. 30\n",
        "\n",
        "d. An error defined by the function `add_or_subtract()`\n",
        "\n",
        "e. An error defined in a different function, which is called inside the `add_or_subtract()` function"
      ],
      "metadata": {
        "id": "8C-0x2ebvyZe"
      }
    },
    {
      "cell_type": "markdown",
      "source": [
        " Predictions for the cases:\n",
        "\n",
        "   add_or_subtract(5, 6, type = \"subtract\")\n",
        "   - Type: \"subtract\"\n",
        "   - First argument = 5 \"subtract\" Second Argument = 6\n",
        "   - 5-6 = -1\n",
        "   - The function will perform subtraction: 5 - 6, which equals -1.\n",
        "  - Prediction: b. -1\n",
        "\n",
        "\n",
        "\n",
        "add_or_subtract(\"orange\")\n",
        "  - Type: defaults to \"add\"\n",
        "  - Since \"orange\" is a string and not a number, attempting to add it to 2 will result in a TypeError\n",
        "  \n",
        "    - Prediction: e. An error defined in a different function, which is called inside the add_or_subtract() function\n",
        "\n",
        "   \n",
        "add_or_subtract(5, 6, type = \"multiply\")\n",
        "   -  Type: \"multiply\"\n",
        "   - Since \"multiply\" is not \"add\" or \"subtract\", the else condition will be triggered, and the function will call exit(\"Please choose addorsubtract as the type.\"), causing the program to exit with an error message.\n",
        "   \n",
        "    - Prediction: d. An error defined by the function add_or_subtract()"
      ],
      "metadata": {
        "id": "FLR3D96zv5qP"
      }
    },
    {
      "cell_type": "markdown",
      "source": [
        "4. Consider the following code:"
      ],
      "metadata": {
        "id": "QlcRD76ev7d7"
      }
    },
    {
      "cell_type": "code",
      "source": [
        "first_num  = 5\n",
        "second_num = 3\n",
        "\n",
        "result = 8\n",
        "\n",
        "result = add_or_subtract(first_num, second_num = 4)\n",
        "\n",
        "result_2 = add_or_subtract(first_num)"
      ],
      "metadata": {
        "id": "xWeUadBOv92e"
      },
      "execution_count": null,
      "outputs": []
    },
    {
      "cell_type": "code",
      "source": [
        "\n",
        "In your Global Environment, what is the value of...\n",
        "\n",
        "a. `first_num`\n",
        "\n",
        "5\n",
        "\n",
        "b. `second_num`\n",
        "\n",
        "3\n",
        "\n",
        "c. `result`\n",
        "\n",
        "9\n",
        "\n",
        "d. `result_2`\n",
        "\n",
        "7"
      ],
      "metadata": {
        "colab": {
          "base_uri": "https://localhost:8080/",
          "height": 106
        },
        "id": "3CymkQ7iv_S7",
        "outputId": "527ea10e-0aae-4179-c592-8c412b361219"
      },
      "execution_count": 54,
      "outputs": [
        {
          "output_type": "error",
          "ename": "SyntaxError",
          "evalue": "invalid syntax (<ipython-input-54-718891d868a1>, line 1)",
          "traceback": [
            "\u001b[0;36m  File \u001b[0;32m\"<ipython-input-54-718891d868a1>\"\u001b[0;36m, line \u001b[0;32m1\u001b[0m\n\u001b[0;31m    In your Global Environment, what is the value of...\u001b[0m\n\u001b[0m       ^\u001b[0m\n\u001b[0;31mSyntaxError\u001b[0m\u001b[0;31m:\u001b[0m invalid syntax\n"
          ]
        }
      ]
    },
    {
      "cell_type": "markdown",
      "source": [
        "\n",
        "\n",
        "---\n",
        "\n"
      ],
      "metadata": {
        "id": "dvxGJ-RswNdt"
      }
    },
    {
      "cell_type": "markdown",
      "source": [
        "## 7 Iteration\n",
        "\n",
        "### 7.1 Introduction\n",
        "\n",
        "In this chapter, we will learn strategies for iteration, or performing a repeated task over many values.\n",
        "\n",
        "Consider the following task: Suppose I want to get a computer to print out the lyrics to the song 99 Bottles of Beer on the Wall.\n",
        "\n",
        "Now, we could certainly simply type up all the lyrics ourselves:\n",
        "\n"
      ],
      "metadata": {
        "id": "QtU6gIUuwPug"
      }
    },
    {
      "cell_type": "code",
      "source": [
        "print(\n",
        "  \"99 Bottles of beer on the wall, 99 Bottles of beer. Take one down, pass it around, 98 Bottles of beer on the wall. 98 Bottles of beer on the wall, 98 Bottles of beer. Take one down, pass it around, 97 Bottles of beer on the wall.\" #... etc etc etc\n",
        ")"
      ],
      "metadata": {
        "colab": {
          "base_uri": "https://localhost:8080/"
        },
        "id": "XMDNU-qWwTyI",
        "outputId": "15792651-eaf5-4bb8-d138-8264629889aa"
      },
      "execution_count": 55,
      "outputs": [
        {
          "output_type": "stream",
          "name": "stdout",
          "text": [
            "99 Bottles of beer on the wall, 99 Bottles of beer. Take one down, pass it around, 98 Bottles of beer on the wall. 98 Bottles of beer on the wall, 98 Bottles of beer. Take one down, pass it around, 97 Bottles of beer on the wall.\n"
          ]
        }
      ]
    },
    {
      "cell_type": "markdown",
      "source": [
        "That sounds like… not much fun to do.\n",
        "\n",
        "But we notice that in the song, there is a ton of repetition! Every verse is almost identical, except for the number of bottles of beer.\n",
        "\n",
        "This is a great time for some iteration."
      ],
      "metadata": {
        "id": "sJ4vXerswVmB"
      }
    },
    {
      "cell_type": "markdown",
      "source": [
        "### 7.2 For loops\n",
        "\n",
        "The most basic approach to iteration is a simple for loop. At each step of the loop the value of our placeholder, i, changes to the next step in the provided list, range(100,97,-1).\n",
        "\n"
      ],
      "metadata": {
        "id": "jh2wPONswX8h"
      }
    },
    {
      "cell_type": "code",
      "source": [
        "for i in range(100,97,-1):\n",
        "  print(str(i) + \" bottles of beer on the wall\")\n",
        "  print(str(i) + \" bottles of beer\")\n",
        "  print(\" take one down, pass it around,\")\n",
        "  print(str(i-1) + \" bottles of beer on the wall\")"
      ],
      "metadata": {
        "colab": {
          "base_uri": "https://localhost:8080/"
        },
        "id": "O3GsK62RwdgA",
        "outputId": "eb17ec12-b603-4a96-f326-7cc74c601a7b"
      },
      "execution_count": 56,
      "outputs": [
        {
          "output_type": "stream",
          "name": "stdout",
          "text": [
            "100 bottles of beer on the wall\n",
            "100 bottles of beer\n",
            " take one down, pass it around,\n",
            "99 bottles of beer on the wall\n",
            "99 bottles of beer on the wall\n",
            "99 bottles of beer\n",
            " take one down, pass it around,\n",
            "98 bottles of beer on the wall\n",
            "98 bottles of beer on the wall\n",
            "98 bottles of beer\n",
            " take one down, pass it around,\n",
            "97 bottles of beer on the wall\n"
          ]
        }
      ]
    },
    {
      "cell_type": "markdown",
      "source": [
        "Check In\n",
        "\n",
        "After last chapter, hopefully we immediately see that this is a great opportunity to write a function, to make our code clearer and avoid repetition.\n",
        "\n",
        "Write a function called sing_verse() to replace the body of the for loop."
      ],
      "metadata": {
        "id": "MDQcc0tAwhLb"
      }
    },
    {
      "cell_type": "code",
      "source": [
        "\n",
        "\n",
        "def sing_verse(num_bottles):\n",
        "  \"\"\"\n",
        "  Prints a verse of the \"99 Bottles of Beer\" song.\n",
        "\n",
        "  Args:\n",
        "    num_bottles: The number of bottles in the current verse.\n",
        "  \"\"\"\n",
        "  print(f\"{num_bottles} bottles of beer on the wall, {num_bottles} bottles of beer.\")\n",
        "  print(\"Take one down, pass it around,\")\n",
        "  print(f\"{num_bottles - 1} bottles of beer on the wall.\")\n",
        "\n",
        "\n",
        "for i in range(99, 0, -1):\n",
        "  sing_verse(i)"
      ],
      "metadata": {
        "colab": {
          "base_uri": "https://localhost:8080/"
        },
        "id": "uf1cFQQDwiU3",
        "outputId": "31f3891c-5422-424c-8992-0b99cd6b3771"
      },
      "execution_count": 57,
      "outputs": [
        {
          "output_type": "stream",
          "name": "stdout",
          "text": [
            "99 bottles of beer on the wall, 99 bottles of beer.\n",
            "Take one down, pass it around,\n",
            "98 bottles of beer on the wall.\n",
            "98 bottles of beer on the wall, 98 bottles of beer.\n",
            "Take one down, pass it around,\n",
            "97 bottles of beer on the wall.\n",
            "97 bottles of beer on the wall, 97 bottles of beer.\n",
            "Take one down, pass it around,\n",
            "96 bottles of beer on the wall.\n",
            "96 bottles of beer on the wall, 96 bottles of beer.\n",
            "Take one down, pass it around,\n",
            "95 bottles of beer on the wall.\n",
            "95 bottles of beer on the wall, 95 bottles of beer.\n",
            "Take one down, pass it around,\n",
            "94 bottles of beer on the wall.\n",
            "94 bottles of beer on the wall, 94 bottles of beer.\n",
            "Take one down, pass it around,\n",
            "93 bottles of beer on the wall.\n",
            "93 bottles of beer on the wall, 93 bottles of beer.\n",
            "Take one down, pass it around,\n",
            "92 bottles of beer on the wall.\n",
            "92 bottles of beer on the wall, 92 bottles of beer.\n",
            "Take one down, pass it around,\n",
            "91 bottles of beer on the wall.\n",
            "91 bottles of beer on the wall, 91 bottles of beer.\n",
            "Take one down, pass it around,\n",
            "90 bottles of beer on the wall.\n",
            "90 bottles of beer on the wall, 90 bottles of beer.\n",
            "Take one down, pass it around,\n",
            "89 bottles of beer on the wall.\n",
            "89 bottles of beer on the wall, 89 bottles of beer.\n",
            "Take one down, pass it around,\n",
            "88 bottles of beer on the wall.\n",
            "88 bottles of beer on the wall, 88 bottles of beer.\n",
            "Take one down, pass it around,\n",
            "87 bottles of beer on the wall.\n",
            "87 bottles of beer on the wall, 87 bottles of beer.\n",
            "Take one down, pass it around,\n",
            "86 bottles of beer on the wall.\n",
            "86 bottles of beer on the wall, 86 bottles of beer.\n",
            "Take one down, pass it around,\n",
            "85 bottles of beer on the wall.\n",
            "85 bottles of beer on the wall, 85 bottles of beer.\n",
            "Take one down, pass it around,\n",
            "84 bottles of beer on the wall.\n",
            "84 bottles of beer on the wall, 84 bottles of beer.\n",
            "Take one down, pass it around,\n",
            "83 bottles of beer on the wall.\n",
            "83 bottles of beer on the wall, 83 bottles of beer.\n",
            "Take one down, pass it around,\n",
            "82 bottles of beer on the wall.\n",
            "82 bottles of beer on the wall, 82 bottles of beer.\n",
            "Take one down, pass it around,\n",
            "81 bottles of beer on the wall.\n",
            "81 bottles of beer on the wall, 81 bottles of beer.\n",
            "Take one down, pass it around,\n",
            "80 bottles of beer on the wall.\n",
            "80 bottles of beer on the wall, 80 bottles of beer.\n",
            "Take one down, pass it around,\n",
            "79 bottles of beer on the wall.\n",
            "79 bottles of beer on the wall, 79 bottles of beer.\n",
            "Take one down, pass it around,\n",
            "78 bottles of beer on the wall.\n",
            "78 bottles of beer on the wall, 78 bottles of beer.\n",
            "Take one down, pass it around,\n",
            "77 bottles of beer on the wall.\n",
            "77 bottles of beer on the wall, 77 bottles of beer.\n",
            "Take one down, pass it around,\n",
            "76 bottles of beer on the wall.\n",
            "76 bottles of beer on the wall, 76 bottles of beer.\n",
            "Take one down, pass it around,\n",
            "75 bottles of beer on the wall.\n",
            "75 bottles of beer on the wall, 75 bottles of beer.\n",
            "Take one down, pass it around,\n",
            "74 bottles of beer on the wall.\n",
            "74 bottles of beer on the wall, 74 bottles of beer.\n",
            "Take one down, pass it around,\n",
            "73 bottles of beer on the wall.\n",
            "73 bottles of beer on the wall, 73 bottles of beer.\n",
            "Take one down, pass it around,\n",
            "72 bottles of beer on the wall.\n",
            "72 bottles of beer on the wall, 72 bottles of beer.\n",
            "Take one down, pass it around,\n",
            "71 bottles of beer on the wall.\n",
            "71 bottles of beer on the wall, 71 bottles of beer.\n",
            "Take one down, pass it around,\n",
            "70 bottles of beer on the wall.\n",
            "70 bottles of beer on the wall, 70 bottles of beer.\n",
            "Take one down, pass it around,\n",
            "69 bottles of beer on the wall.\n",
            "69 bottles of beer on the wall, 69 bottles of beer.\n",
            "Take one down, pass it around,\n",
            "68 bottles of beer on the wall.\n",
            "68 bottles of beer on the wall, 68 bottles of beer.\n",
            "Take one down, pass it around,\n",
            "67 bottles of beer on the wall.\n",
            "67 bottles of beer on the wall, 67 bottles of beer.\n",
            "Take one down, pass it around,\n",
            "66 bottles of beer on the wall.\n",
            "66 bottles of beer on the wall, 66 bottles of beer.\n",
            "Take one down, pass it around,\n",
            "65 bottles of beer on the wall.\n",
            "65 bottles of beer on the wall, 65 bottles of beer.\n",
            "Take one down, pass it around,\n",
            "64 bottles of beer on the wall.\n",
            "64 bottles of beer on the wall, 64 bottles of beer.\n",
            "Take one down, pass it around,\n",
            "63 bottles of beer on the wall.\n",
            "63 bottles of beer on the wall, 63 bottles of beer.\n",
            "Take one down, pass it around,\n",
            "62 bottles of beer on the wall.\n",
            "62 bottles of beer on the wall, 62 bottles of beer.\n",
            "Take one down, pass it around,\n",
            "61 bottles of beer on the wall.\n",
            "61 bottles of beer on the wall, 61 bottles of beer.\n",
            "Take one down, pass it around,\n",
            "60 bottles of beer on the wall.\n",
            "60 bottles of beer on the wall, 60 bottles of beer.\n",
            "Take one down, pass it around,\n",
            "59 bottles of beer on the wall.\n",
            "59 bottles of beer on the wall, 59 bottles of beer.\n",
            "Take one down, pass it around,\n",
            "58 bottles of beer on the wall.\n",
            "58 bottles of beer on the wall, 58 bottles of beer.\n",
            "Take one down, pass it around,\n",
            "57 bottles of beer on the wall.\n",
            "57 bottles of beer on the wall, 57 bottles of beer.\n",
            "Take one down, pass it around,\n",
            "56 bottles of beer on the wall.\n",
            "56 bottles of beer on the wall, 56 bottles of beer.\n",
            "Take one down, pass it around,\n",
            "55 bottles of beer on the wall.\n",
            "55 bottles of beer on the wall, 55 bottles of beer.\n",
            "Take one down, pass it around,\n",
            "54 bottles of beer on the wall.\n",
            "54 bottles of beer on the wall, 54 bottles of beer.\n",
            "Take one down, pass it around,\n",
            "53 bottles of beer on the wall.\n",
            "53 bottles of beer on the wall, 53 bottles of beer.\n",
            "Take one down, pass it around,\n",
            "52 bottles of beer on the wall.\n",
            "52 bottles of beer on the wall, 52 bottles of beer.\n",
            "Take one down, pass it around,\n",
            "51 bottles of beer on the wall.\n",
            "51 bottles of beer on the wall, 51 bottles of beer.\n",
            "Take one down, pass it around,\n",
            "50 bottles of beer on the wall.\n",
            "50 bottles of beer on the wall, 50 bottles of beer.\n",
            "Take one down, pass it around,\n",
            "49 bottles of beer on the wall.\n",
            "49 bottles of beer on the wall, 49 bottles of beer.\n",
            "Take one down, pass it around,\n",
            "48 bottles of beer on the wall.\n",
            "48 bottles of beer on the wall, 48 bottles of beer.\n",
            "Take one down, pass it around,\n",
            "47 bottles of beer on the wall.\n",
            "47 bottles of beer on the wall, 47 bottles of beer.\n",
            "Take one down, pass it around,\n",
            "46 bottles of beer on the wall.\n",
            "46 bottles of beer on the wall, 46 bottles of beer.\n",
            "Take one down, pass it around,\n",
            "45 bottles of beer on the wall.\n",
            "45 bottles of beer on the wall, 45 bottles of beer.\n",
            "Take one down, pass it around,\n",
            "44 bottles of beer on the wall.\n",
            "44 bottles of beer on the wall, 44 bottles of beer.\n",
            "Take one down, pass it around,\n",
            "43 bottles of beer on the wall.\n",
            "43 bottles of beer on the wall, 43 bottles of beer.\n",
            "Take one down, pass it around,\n",
            "42 bottles of beer on the wall.\n",
            "42 bottles of beer on the wall, 42 bottles of beer.\n",
            "Take one down, pass it around,\n",
            "41 bottles of beer on the wall.\n",
            "41 bottles of beer on the wall, 41 bottles of beer.\n",
            "Take one down, pass it around,\n",
            "40 bottles of beer on the wall.\n",
            "40 bottles of beer on the wall, 40 bottles of beer.\n",
            "Take one down, pass it around,\n",
            "39 bottles of beer on the wall.\n",
            "39 bottles of beer on the wall, 39 bottles of beer.\n",
            "Take one down, pass it around,\n",
            "38 bottles of beer on the wall.\n",
            "38 bottles of beer on the wall, 38 bottles of beer.\n",
            "Take one down, pass it around,\n",
            "37 bottles of beer on the wall.\n",
            "37 bottles of beer on the wall, 37 bottles of beer.\n",
            "Take one down, pass it around,\n",
            "36 bottles of beer on the wall.\n",
            "36 bottles of beer on the wall, 36 bottles of beer.\n",
            "Take one down, pass it around,\n",
            "35 bottles of beer on the wall.\n",
            "35 bottles of beer on the wall, 35 bottles of beer.\n",
            "Take one down, pass it around,\n",
            "34 bottles of beer on the wall.\n",
            "34 bottles of beer on the wall, 34 bottles of beer.\n",
            "Take one down, pass it around,\n",
            "33 bottles of beer on the wall.\n",
            "33 bottles of beer on the wall, 33 bottles of beer.\n",
            "Take one down, pass it around,\n",
            "32 bottles of beer on the wall.\n",
            "32 bottles of beer on the wall, 32 bottles of beer.\n",
            "Take one down, pass it around,\n",
            "31 bottles of beer on the wall.\n",
            "31 bottles of beer on the wall, 31 bottles of beer.\n",
            "Take one down, pass it around,\n",
            "30 bottles of beer on the wall.\n",
            "30 bottles of beer on the wall, 30 bottles of beer.\n",
            "Take one down, pass it around,\n",
            "29 bottles of beer on the wall.\n",
            "29 bottles of beer on the wall, 29 bottles of beer.\n",
            "Take one down, pass it around,\n",
            "28 bottles of beer on the wall.\n",
            "28 bottles of beer on the wall, 28 bottles of beer.\n",
            "Take one down, pass it around,\n",
            "27 bottles of beer on the wall.\n",
            "27 bottles of beer on the wall, 27 bottles of beer.\n",
            "Take one down, pass it around,\n",
            "26 bottles of beer on the wall.\n",
            "26 bottles of beer on the wall, 26 bottles of beer.\n",
            "Take one down, pass it around,\n",
            "25 bottles of beer on the wall.\n",
            "25 bottles of beer on the wall, 25 bottles of beer.\n",
            "Take one down, pass it around,\n",
            "24 bottles of beer on the wall.\n",
            "24 bottles of beer on the wall, 24 bottles of beer.\n",
            "Take one down, pass it around,\n",
            "23 bottles of beer on the wall.\n",
            "23 bottles of beer on the wall, 23 bottles of beer.\n",
            "Take one down, pass it around,\n",
            "22 bottles of beer on the wall.\n",
            "22 bottles of beer on the wall, 22 bottles of beer.\n",
            "Take one down, pass it around,\n",
            "21 bottles of beer on the wall.\n",
            "21 bottles of beer on the wall, 21 bottles of beer.\n",
            "Take one down, pass it around,\n",
            "20 bottles of beer on the wall.\n",
            "20 bottles of beer on the wall, 20 bottles of beer.\n",
            "Take one down, pass it around,\n",
            "19 bottles of beer on the wall.\n",
            "19 bottles of beer on the wall, 19 bottles of beer.\n",
            "Take one down, pass it around,\n",
            "18 bottles of beer on the wall.\n",
            "18 bottles of beer on the wall, 18 bottles of beer.\n",
            "Take one down, pass it around,\n",
            "17 bottles of beer on the wall.\n",
            "17 bottles of beer on the wall, 17 bottles of beer.\n",
            "Take one down, pass it around,\n",
            "16 bottles of beer on the wall.\n",
            "16 bottles of beer on the wall, 16 bottles of beer.\n",
            "Take one down, pass it around,\n",
            "15 bottles of beer on the wall.\n",
            "15 bottles of beer on the wall, 15 bottles of beer.\n",
            "Take one down, pass it around,\n",
            "14 bottles of beer on the wall.\n",
            "14 bottles of beer on the wall, 14 bottles of beer.\n",
            "Take one down, pass it around,\n",
            "13 bottles of beer on the wall.\n",
            "13 bottles of beer on the wall, 13 bottles of beer.\n",
            "Take one down, pass it around,\n",
            "12 bottles of beer on the wall.\n",
            "12 bottles of beer on the wall, 12 bottles of beer.\n",
            "Take one down, pass it around,\n",
            "11 bottles of beer on the wall.\n",
            "11 bottles of beer on the wall, 11 bottles of beer.\n",
            "Take one down, pass it around,\n",
            "10 bottles of beer on the wall.\n",
            "10 bottles of beer on the wall, 10 bottles of beer.\n",
            "Take one down, pass it around,\n",
            "9 bottles of beer on the wall.\n",
            "9 bottles of beer on the wall, 9 bottles of beer.\n",
            "Take one down, pass it around,\n",
            "8 bottles of beer on the wall.\n",
            "8 bottles of beer on the wall, 8 bottles of beer.\n",
            "Take one down, pass it around,\n",
            "7 bottles of beer on the wall.\n",
            "7 bottles of beer on the wall, 7 bottles of beer.\n",
            "Take one down, pass it around,\n",
            "6 bottles of beer on the wall.\n",
            "6 bottles of beer on the wall, 6 bottles of beer.\n",
            "Take one down, pass it around,\n",
            "5 bottles of beer on the wall.\n",
            "5 bottles of beer on the wall, 5 bottles of beer.\n",
            "Take one down, pass it around,\n",
            "4 bottles of beer on the wall.\n",
            "4 bottles of beer on the wall, 4 bottles of beer.\n",
            "Take one down, pass it around,\n",
            "3 bottles of beer on the wall.\n",
            "3 bottles of beer on the wall, 3 bottles of beer.\n",
            "Take one down, pass it around,\n",
            "2 bottles of beer on the wall.\n",
            "2 bottles of beer on the wall, 2 bottles of beer.\n",
            "Take one down, pass it around,\n",
            "1 bottles of beer on the wall.\n",
            "1 bottles of beer on the wall, 1 bottles of beer.\n",
            "Take one down, pass it around,\n",
            "0 bottles of beer on the wall.\n"
          ]
        }
      ]
    },
    {
      "cell_type": "code",
      "source": [
        "def sing_verse(num):\n",
        "  song = str(num) + \" bottles of beer on the wall \\n\" + str(num) + \" bottles of beer \\n\" + \" take one down, pass it around, \\n\" + str(num-1) + \" bottles of beer on the wall \\n\"\n",
        "\n",
        "  return song"
      ],
      "metadata": {
        "id": "cJADvMmMwmxQ"
      },
      "execution_count": 58,
      "outputs": []
    },
    {
      "cell_type": "markdown",
      "source": [
        "Notice that in this function, instead of print-ing out the lines of the song, we return the an object consisting as one long string.\n",
        "\n",
        "Often, when running a for loop, you want to end the loop process with a single object. To do this, we start with an empty object, and then add to it at each loop."
      ],
      "metadata": {
        "id": "OF-ALUgHwoVg"
      }
    },
    {
      "cell_type": "code",
      "source": [
        "song = \"\"\n",
        "\n",
        "for i in range(100,97,-1):\n",
        "  song = song + sing_verse(i)\n",
        "\n",
        "print(song)"
      ],
      "metadata": {
        "colab": {
          "base_uri": "https://localhost:8080/"
        },
        "id": "zHP3SQk6wpVC",
        "outputId": "8a46f585-9b61-46a0-8174-85b415aa06b2"
      },
      "execution_count": 59,
      "outputs": [
        {
          "output_type": "stream",
          "name": "stdout",
          "text": [
            "100 bottles of beer on the wall \n",
            "100 bottles of beer \n",
            " take one down, pass it around, \n",
            "99 bottles of beer on the wall \n",
            "99 bottles of beer on the wall \n",
            "99 bottles of beer \n",
            " take one down, pass it around, \n",
            "98 bottles of beer on the wall \n",
            "98 bottles of beer on the wall \n",
            "98 bottles of beer \n",
            " take one down, pass it around, \n",
            "97 bottles of beer on the wall \n",
            "\n"
          ]
        }
      ]
    },
    {
      "cell_type": "markdown",
      "source": [
        "\n",
        "Check In\n",
        "\n",
        "Modify the code above so that instead of creating one long string, we create a list, where each element is one of the verses of the song."
      ],
      "metadata": {
        "id": "twOTVq3Awt7D"
      }
    },
    {
      "cell_type": "code",
      "source": [
        "# prompt: Check In\n",
        "# Modify the code above so that instead of creating one long string, we create a list, where each element is one of the verses of the song.\n",
        "\n",
        "def sing_verse(num):\n",
        "  song = [\n",
        "      str(num) + \" bottles of beer on the wall\",\n",
        "      str(num) + \" bottles of beer\",\n",
        "      \" take one down, pass it around,\",\n",
        "      str(num-1) + \" bottles of beer on the wall\"\n",
        "  ]\n",
        "  return song\n",
        "\n",
        "song_list = []\n",
        "\n",
        "for i in range(100, 97, -1):\n",
        "  song_list.extend(sing_verse(i))\n",
        "\n",
        "song_list"
      ],
      "metadata": {
        "colab": {
          "base_uri": "https://localhost:8080/"
        },
        "id": "fXVzLiipwrp_",
        "outputId": "877e9cec-9f5c-40f5-8dbe-d43603319b81"
      },
      "execution_count": 60,
      "outputs": [
        {
          "output_type": "execute_result",
          "data": {
            "text/plain": [
              "['100 bottles of beer on the wall',\n",
              " '100 bottles of beer',\n",
              " ' take one down, pass it around,',\n",
              " '99 bottles of beer on the wall',\n",
              " '99 bottles of beer on the wall',\n",
              " '99 bottles of beer',\n",
              " ' take one down, pass it around,',\n",
              " '98 bottles of beer on the wall',\n",
              " '98 bottles of beer on the wall',\n",
              " '98 bottles of beer',\n",
              " ' take one down, pass it around,',\n",
              " '97 bottles of beer on the wall']"
            ]
          },
          "metadata": {},
          "execution_count": 60
        }
      ]
    },
    {
      "cell_type": "markdown",
      "source": [
        "### 7.2.1 Vectorized functions\n",
        "\n",
        "The function that we wrote above can be described as not vectorized. What we mean by that it is designed to only take one value, num. If we instead try to input a list or vector of numbers, we get an error:"
      ],
      "metadata": {
        "id": "B73O4sjRwwUt"
      }
    },
    {
      "cell_type": "code",
      "source": [
        "sing_verse([100,99,98])"
      ],
      "metadata": {
        "colab": {
          "base_uri": "https://localhost:8080/",
          "height": 263
        },
        "id": "QmRGtkbUw1iC",
        "outputId": "c35dfda1-3fc1-4360-9145-db268033e9ec"
      },
      "execution_count": 61,
      "outputs": [
        {
          "output_type": "error",
          "ename": "TypeError",
          "evalue": "unsupported operand type(s) for -: 'list' and 'int'",
          "traceback": [
            "\u001b[0;31m---------------------------------------------------------------------------\u001b[0m",
            "\u001b[0;31mTypeError\u001b[0m                                 Traceback (most recent call last)",
            "\u001b[0;32m<ipython-input-61-aefd7b69cc7e>\u001b[0m in \u001b[0;36m<cell line: 1>\u001b[0;34m()\u001b[0m\n\u001b[0;32m----> 1\u001b[0;31m \u001b[0msing_verse\u001b[0m\u001b[0;34m(\u001b[0m\u001b[0;34m[\u001b[0m\u001b[0;36m100\u001b[0m\u001b[0;34m,\u001b[0m\u001b[0;36m99\u001b[0m\u001b[0;34m,\u001b[0m\u001b[0;36m98\u001b[0m\u001b[0;34m]\u001b[0m\u001b[0;34m)\u001b[0m\u001b[0;34m\u001b[0m\u001b[0;34m\u001b[0m\u001b[0m\n\u001b[0m",
            "\u001b[0;32m<ipython-input-60-55f9dcfa4fd9>\u001b[0m in \u001b[0;36msing_verse\u001b[0;34m(num)\u001b[0m\n\u001b[1;32m      7\u001b[0m       \u001b[0mstr\u001b[0m\u001b[0;34m(\u001b[0m\u001b[0mnum\u001b[0m\u001b[0;34m)\u001b[0m \u001b[0;34m+\u001b[0m \u001b[0;34m\" bottles of beer\"\u001b[0m\u001b[0;34m,\u001b[0m\u001b[0;34m\u001b[0m\u001b[0;34m\u001b[0m\u001b[0m\n\u001b[1;32m      8\u001b[0m       \u001b[0;34m\" take one down, pass it around,\"\u001b[0m\u001b[0;34m,\u001b[0m\u001b[0;34m\u001b[0m\u001b[0;34m\u001b[0m\u001b[0m\n\u001b[0;32m----> 9\u001b[0;31m       \u001b[0mstr\u001b[0m\u001b[0;34m(\u001b[0m\u001b[0mnum\u001b[0m\u001b[0;34m-\u001b[0m\u001b[0;36m1\u001b[0m\u001b[0;34m)\u001b[0m \u001b[0;34m+\u001b[0m \u001b[0;34m\" bottles of beer on the wall\"\u001b[0m\u001b[0;34m\u001b[0m\u001b[0;34m\u001b[0m\u001b[0m\n\u001b[0m\u001b[1;32m     10\u001b[0m   ]\n\u001b[1;32m     11\u001b[0m   \u001b[0;32mreturn\u001b[0m \u001b[0msong\u001b[0m\u001b[0;34m\u001b[0m\u001b[0;34m\u001b[0m\u001b[0m\n",
            "\u001b[0;31mTypeError\u001b[0m: unsupported operand type(s) for -: 'list' and 'int'"
          ]
        }
      ]
    },
    {
      "cell_type": "markdown",
      "source": [
        "This is why, in order to get results for a list of number, we needed to iterate.\n",
        "\n",
        "However, plenty of functions are designed to work well for single numbers or lists and vectors. For example:"
      ],
      "metadata": {
        "id": "tlsUaqhRw4x2"
      }
    },
    {
      "cell_type": "code",
      "source": [
        "a_num = 5\n",
        "a_vec = [1,3,5,7]\n",
        "\n",
        "np.sqrt(a_num)\n",
        "np.sqrt(a_vec)"
      ],
      "metadata": {
        "colab": {
          "base_uri": "https://localhost:8080/"
        },
        "id": "EmM1l06Ow6I2",
        "outputId": "663d8637-c89a-47bd-87f4-8d51a3e078cc"
      },
      "execution_count": 62,
      "outputs": [
        {
          "output_type": "execute_result",
          "data": {
            "text/plain": [
              "array([1.        , 1.73205081, 2.23606798, 2.64575131])"
            ]
          },
          "metadata": {},
          "execution_count": 62
        }
      ]
    },
    {
      "cell_type": "markdown",
      "source": [
        "When we want to perform a function over many values - whether it’s one we wrote or not - we first need to ask ourselves if the function is vectorized or not. Using a for loop over a vectorized function is unnecessarily complicated and computationally slow!"
      ],
      "metadata": {
        "id": "bM1biAQbw7tn"
      }
    },
    {
      "cell_type": "code",
      "source": [
        "result = []\n",
        "for i in a_vec:\n",
        "  result = result + [np.sqrt(i)]\n",
        "\n",
        "result"
      ],
      "metadata": {
        "colab": {
          "base_uri": "https://localhost:8080/"
        },
        "id": "rf2tulPTw8ta",
        "outputId": "8182545f-52ef-4674-e8e7-e2f198eb888c"
      },
      "execution_count": 63,
      "outputs": [
        {
          "output_type": "execute_result",
          "data": {
            "text/plain": [
              "[1.0, 1.7320508075688772, 2.23606797749979, 2.6457513110645907]"
            ]
          },
          "metadata": {},
          "execution_count": 63
        }
      ]
    },
    {
      "cell_type": "markdown",
      "source": [
        "#### 7.2.2 Vectorizing and booleans\n"
      ],
      "metadata": {
        "id": "j9ilcyQ_w98n"
      }
    },
    {
      "cell_type": "markdown",
      "source": [
        "A common reason why a custom function is written in an unvectorized way is that it makes use of if statements. For example, consider the task of taking the square root of only the positive numbers in a list.\n",
        "\n",
        "Here is an approach that does not work:"
      ],
      "metadata": {
        "id": "XVjPv9tyxAOs"
      }
    },
    {
      "cell_type": "code",
      "source": [
        "a_vec = np.array([-2, 1, -3, -9, 7])\n",
        "\n",
        "if a_vec > 0:\n",
        "  a_vec = np.sqrt(a_vec)\n",
        "\n",
        "a_vec"
      ],
      "metadata": {
        "colab": {
          "base_uri": "https://localhost:8080/",
          "height": 228
        },
        "id": "X-C8VY6Dw_4B",
        "outputId": "046bd386-d3d8-40ea-a41d-243b278aa30a"
      },
      "execution_count": 64,
      "outputs": [
        {
          "output_type": "error",
          "ename": "ValueError",
          "evalue": "The truth value of an array with more than one element is ambiguous. Use a.any() or a.all()",
          "traceback": [
            "\u001b[0;31m---------------------------------------------------------------------------\u001b[0m",
            "\u001b[0;31mValueError\u001b[0m                                Traceback (most recent call last)",
            "\u001b[0;32m<ipython-input-64-794512e7b8b1>\u001b[0m in \u001b[0;36m<cell line: 3>\u001b[0;34m()\u001b[0m\n\u001b[1;32m      1\u001b[0m \u001b[0ma_vec\u001b[0m \u001b[0;34m=\u001b[0m \u001b[0mnp\u001b[0m\u001b[0;34m.\u001b[0m\u001b[0marray\u001b[0m\u001b[0;34m(\u001b[0m\u001b[0;34m[\u001b[0m\u001b[0;34m-\u001b[0m\u001b[0;36m2\u001b[0m\u001b[0;34m,\u001b[0m \u001b[0;36m1\u001b[0m\u001b[0;34m,\u001b[0m \u001b[0;34m-\u001b[0m\u001b[0;36m3\u001b[0m\u001b[0;34m,\u001b[0m \u001b[0;34m-\u001b[0m\u001b[0;36m9\u001b[0m\u001b[0;34m,\u001b[0m \u001b[0;36m7\u001b[0m\u001b[0;34m]\u001b[0m\u001b[0;34m)\u001b[0m\u001b[0;34m\u001b[0m\u001b[0;34m\u001b[0m\u001b[0m\n\u001b[1;32m      2\u001b[0m \u001b[0;34m\u001b[0m\u001b[0m\n\u001b[0;32m----> 3\u001b[0;31m \u001b[0;32mif\u001b[0m \u001b[0ma_vec\u001b[0m \u001b[0;34m>\u001b[0m \u001b[0;36m0\u001b[0m\u001b[0;34m:\u001b[0m\u001b[0;34m\u001b[0m\u001b[0;34m\u001b[0m\u001b[0m\n\u001b[0m\u001b[1;32m      4\u001b[0m   \u001b[0ma_vec\u001b[0m \u001b[0;34m=\u001b[0m \u001b[0mnp\u001b[0m\u001b[0;34m.\u001b[0m\u001b[0msqrt\u001b[0m\u001b[0;34m(\u001b[0m\u001b[0ma_vec\u001b[0m\u001b[0;34m)\u001b[0m\u001b[0;34m\u001b[0m\u001b[0;34m\u001b[0m\u001b[0m\n\u001b[1;32m      5\u001b[0m \u001b[0;34m\u001b[0m\u001b[0m\n",
            "\u001b[0;31mValueError\u001b[0m: The truth value of an array with more than one element is ambiguous. Use a.any() or a.all()"
          ]
        }
      ]
    },
    {
      "cell_type": "markdown",
      "source": [
        "The statement if a_vec > 0 makes no sense for a vector! The if statement needs either a single True or a single False to determine if the subsequent code will be run - but a_vec > 0 returns a list of five booleans.\n",
        "\n",
        "Instead, we would need to iterate over the values:"
      ],
      "metadata": {
        "id": "Oh0GwaDKxDHU"
      }
    },
    {
      "cell_type": "code",
      "source": [
        "a_vec = np.array([-2, 1, -3, -9, 7])\n",
        "\n",
        "for val in a_vec:\n",
        "  if val > 0:\n",
        "    val = np.sqrt(val)\n",
        "  print(val)"
      ],
      "metadata": {
        "colab": {
          "base_uri": "https://localhost:8080/"
        },
        "id": "Y_P5L_WhxEXR",
        "outputId": "1eb0a473-2fda-46e8-fe57-56c2385f4520"
      },
      "execution_count": 65,
      "outputs": [
        {
          "output_type": "stream",
          "name": "stdout",
          "text": [
            "-2\n",
            "1.0\n",
            "-3\n",
            "-9\n",
            "2.6457513110645907\n"
          ]
        }
      ]
    },
    {
      "cell_type": "markdown",
      "source": [
        "However, there is a nicer approach to this variety of problem, which is to use boolean masking:\n",
        "\n"
      ],
      "metadata": {
        "id": "skXlQ79ixFv0"
      }
    },
    {
      "cell_type": "code",
      "source": [
        "is_pos = a_vec > 0\n",
        "\n",
        "a_vec[is_pos] = np.sqrt(a_vec[is_pos])\n",
        "\n",
        "a_vec"
      ],
      "metadata": {
        "colab": {
          "base_uri": "https://localhost:8080/"
        },
        "id": "F-FYqVu1xG9K",
        "outputId": "abca7d16-68ad-401c-e5a5-5b971b063fb9"
      },
      "execution_count": 66,
      "outputs": [
        {
          "output_type": "execute_result",
          "data": {
            "text/plain": [
              "array([-2,  1, -3, -9,  2])"
            ]
          },
          "metadata": {},
          "execution_count": 66
        }
      ]
    },
    {
      "cell_type": "markdown",
      "source": [
        "#### 7.3 Iterable functions\n",
        "\n",
        "Although for loops are a clear and basic procedure, it can become very tedious to use them frequently. This is especially true if you want to save the results of the iteration as a new object.\n",
        "\n",
        "However, it will not be possible or convenient to write every function in a vectorized way.\n",
        "\n",
        "Instead, we can use iterable functions, which perform the same iteration as a for loop in shorter and more elegant code.\n",
        "\n"
      ],
      "metadata": {
        "id": "xow8UYKqxJ6N"
      }
    },
    {
      "cell_type": "markdown",
      "source": [
        "### 7.3.1 map()\n",
        "\n",
        "The map() function requires the same information as a for loop: what values we want to iterate over, and what we want to do with each value.\n",
        "\n"
      ],
      "metadata": {
        "id": "upa5U5cmxNiP"
      }
    },
    {
      "cell_type": "code",
      "source": [
        "song = map(sing_verse, range(100, 97, -1))\n",
        "song = list(song)\n",
        "print(\"\".join(song))"
      ],
      "metadata": {
        "colab": {
          "base_uri": "https://localhost:8080/",
          "height": 176
        },
        "id": "wx1RKtsSxNUb",
        "outputId": "b50792c9-8c58-4543-e77c-88e7ef6ca98b"
      },
      "execution_count": 67,
      "outputs": [
        {
          "output_type": "error",
          "ename": "TypeError",
          "evalue": "sequence item 0: expected str instance, list found",
          "traceback": [
            "\u001b[0;31m---------------------------------------------------------------------------\u001b[0m",
            "\u001b[0;31mTypeError\u001b[0m                                 Traceback (most recent call last)",
            "\u001b[0;32m<ipython-input-67-6e2491de04c9>\u001b[0m in \u001b[0;36m<cell line: 3>\u001b[0;34m()\u001b[0m\n\u001b[1;32m      1\u001b[0m \u001b[0msong\u001b[0m \u001b[0;34m=\u001b[0m \u001b[0mmap\u001b[0m\u001b[0;34m(\u001b[0m\u001b[0msing_verse\u001b[0m\u001b[0;34m,\u001b[0m \u001b[0mrange\u001b[0m\u001b[0;34m(\u001b[0m\u001b[0;36m100\u001b[0m\u001b[0;34m,\u001b[0m \u001b[0;36m97\u001b[0m\u001b[0;34m,\u001b[0m \u001b[0;34m-\u001b[0m\u001b[0;36m1\u001b[0m\u001b[0;34m)\u001b[0m\u001b[0;34m)\u001b[0m\u001b[0;34m\u001b[0m\u001b[0;34m\u001b[0m\u001b[0m\n\u001b[1;32m      2\u001b[0m \u001b[0msong\u001b[0m \u001b[0;34m=\u001b[0m \u001b[0mlist\u001b[0m\u001b[0;34m(\u001b[0m\u001b[0msong\u001b[0m\u001b[0;34m)\u001b[0m\u001b[0;34m\u001b[0m\u001b[0;34m\u001b[0m\u001b[0m\n\u001b[0;32m----> 3\u001b[0;31m \u001b[0mprint\u001b[0m\u001b[0;34m(\u001b[0m\u001b[0;34m\"\"\u001b[0m\u001b[0;34m.\u001b[0m\u001b[0mjoin\u001b[0m\u001b[0;34m(\u001b[0m\u001b[0msong\u001b[0m\u001b[0;34m)\u001b[0m\u001b[0;34m)\u001b[0m\u001b[0;34m\u001b[0m\u001b[0;34m\u001b[0m\u001b[0m\n\u001b[0m",
            "\u001b[0;31mTypeError\u001b[0m: sequence item 0: expected str instance, list found"
          ]
        }
      ]
    },
    {
      "cell_type": "markdown",
      "source": [
        "Notice that the output of the map() function is a special object structure, of the type “map object”. We automatically convert this to a list with the list() function.\n",
        "\n",
        "Then, we make use of the join() string method to turn the list into one long string. Finally, we print() our final string out so that it looks nice."
      ],
      "metadata": {
        "id": "IfZzhS_exTX8"
      }
    },
    {
      "cell_type": "markdown",
      "source": [
        "#### 7.3.1.1 Double mapping\n",
        "\n",
        "Sometimes, we want to loop through multiple sets of values at once. The map() function has the ability to take as many iterables, or lists of values, as you want.\n",
        "\n",
        "Suppose we want to change our sing_verse() function so that it has two arguments, the number of bottles and the type of drink.\n",
        "\n"
      ],
      "metadata": {
        "id": "NdW67YuixWFp"
      }
    },
    {
      "cell_type": "code",
      "source": [
        "def sing_verse_2(num, drink):\n",
        "  song = str(num) + \" bottles of \" + drink + \" on the wall \\n\"\n",
        "  song = song + str(num) + \" bottles of \" + drink + \"\\n\"\n",
        "  song = song + \" take one down, pass it around, \\n\"\n",
        "  song = song + str(num-1) + \" bottles of \" + drink + \" on the wall \\n\"\n",
        "\n",
        "  return song"
      ],
      "metadata": {
        "id": "4YoDiDq4xYbH"
      },
      "execution_count": 68,
      "outputs": []
    },
    {
      "cell_type": "markdown",
      "source": [
        "Now, we use map() to switch the number and the drink at each iteration:\n",
        "\n"
      ],
      "metadata": {
        "id": "AV8DfXRGxZxF"
      }
    },
    {
      "cell_type": "code",
      "source": [
        "nums = range(100, 97, -1)\n",
        "drinks = [\"beer\", \"milk\", \"lemonade\"]\n",
        "song = map(sing_verse_2, nums, drinks)\n",
        "print(\"\".join(list(song)))"
      ],
      "metadata": {
        "colab": {
          "base_uri": "https://localhost:8080/"
        },
        "id": "riUHtYcuxaxq",
        "outputId": "bef92e73-79c0-47d0-9b51-d91ab5b789cd"
      },
      "execution_count": 69,
      "outputs": [
        {
          "output_type": "stream",
          "name": "stdout",
          "text": [
            "100 bottles of beer on the wall \n",
            "100 bottles of beer\n",
            " take one down, pass it around, \n",
            "99 bottles of beer on the wall \n",
            "99 bottles of milk on the wall \n",
            "99 bottles of milk\n",
            " take one down, pass it around, \n",
            "98 bottles of milk on the wall \n",
            "98 bottles of lemonade on the wall \n",
            "98 bottles of lemonade\n",
            " take one down, pass it around, \n",
            "97 bottles of lemonade on the wall \n",
            "\n"
          ]
        }
      ]
    },
    {
      "cell_type": "markdown",
      "source": [
        "Write a sing_verse_3() function that also lets us change the container (e.g. bottle, can, …) at each step of the loop.\n",
        "\n",
        "Use map() to sing a few verses.\n",
        "\n",
        "What happens if you supply three different drinks, but only two different types of containers?"
      ],
      "metadata": {
        "id": "MSzhDiZmxdNI"
      }
    },
    {
      "cell_type": "markdown",
      "source": [
        "#### 7.4 Lambda functions\n"
      ],
      "metadata": {
        "id": "1nW1BTsixej4"
      }
    },
    {
      "cell_type": "markdown",
      "source": [
        "What would you do if you still wanted to count down the number of bottles, but you wanted them all to be lemonade?\n",
        "\n",
        "In this case, we want one of the arguments of our function to be iterated over many values, and the other one to stay consistent.\n",
        "\n",
        "One rather inelegant way we could accomplish this is with a new function:\n",
        "\n"
      ],
      "metadata": {
        "id": "iBC6jUCuxh8z"
      }
    },
    {
      "cell_type": "code",
      "source": [
        "def sing_verse_lemonade(num):\n",
        "  return sing_verse_2(num, \"lemonade\")\n",
        "\n",
        "song = map(sing_verse_lemonade, nums)\n",
        "print(\"\".join(list(song)))"
      ],
      "metadata": {
        "colab": {
          "base_uri": "https://localhost:8080/"
        },
        "id": "YD0rZx7Jxi7k",
        "outputId": "2a1fa17f-6ffa-4a5a-bdef-6465d95aea76"
      },
      "execution_count": 70,
      "outputs": [
        {
          "output_type": "stream",
          "name": "stdout",
          "text": [
            "100 bottles of lemonade on the wall \n",
            "100 bottles of lemonade\n",
            " take one down, pass it around, \n",
            "99 bottles of lemonade on the wall \n",
            "99 bottles of lemonade on the wall \n",
            "99 bottles of lemonade\n",
            " take one down, pass it around, \n",
            "98 bottles of lemonade on the wall \n",
            "98 bottles of lemonade on the wall \n",
            "98 bottles of lemonade\n",
            " take one down, pass it around, \n",
            "97 bottles of lemonade on the wall \n",
            "\n"
          ]
        }
      ]
    },
    {
      "cell_type": "markdown",
      "source": [
        "This is a lot of extra lines of code, though, for a task that should be straightforward - and we’ll probably never use sing_verse_lemonade() again, so it’s a bit of a waste to create it.\n",
        "\n",
        "Instead, we will use what is called a lambda function, which is like making a new sing_verse_lemonade wrapper function for temporary use:"
      ],
      "metadata": {
        "id": "lZun2sscxl9j"
      }
    },
    {
      "cell_type": "code",
      "source": [
        "song = map(lambda i: sing_verse_2(i, \"lemonade\"), nums)\n",
        "print(\"\".join(list(song)))"
      ],
      "metadata": {
        "colab": {
          "base_uri": "https://localhost:8080/"
        },
        "id": "72z-wH6sxm9F",
        "outputId": "e8ebb149-7fe1-4f25-99d4-dc8f3d7d1e73"
      },
      "execution_count": 71,
      "outputs": [
        {
          "output_type": "stream",
          "name": "stdout",
          "text": [
            "100 bottles of lemonade on the wall \n",
            "100 bottles of lemonade\n",
            " take one down, pass it around, \n",
            "99 bottles of lemonade on the wall \n",
            "99 bottles of lemonade on the wall \n",
            "99 bottles of lemonade\n",
            " take one down, pass it around, \n",
            "98 bottles of lemonade on the wall \n",
            "98 bottles of lemonade on the wall \n",
            "98 bottles of lemonade\n",
            " take one down, pass it around, \n",
            "97 bottles of lemonade on the wall \n",
            "\n"
          ]
        }
      ]
    },
    {
      "cell_type": "markdown",
      "source": [
        "The code lambda i: sing_verse_2(i, \"lemonade\") made a new anonymous function - sometimes called a headless function - that takes in one argument, i, and sends that argument into sing_verse_2."
      ],
      "metadata": {
        "id": "gdYy-0-yxorg"
      }
    },
    {
      "cell_type": "markdown",
      "source": [
        "#### 7.5 Iterating on datasets\n",
        "\n",
        "This task of repeating a calculation with many inputs has a natural application area: datasets!\n",
        "\n",
        "It is extremely common that we want to perform some calculation involving many variables of the dataset, and we want to repeat that same calculation over the values in each row.\n",
        "\n",
        "For this situation, we use an iterable function that is very similar to map(): the .apply() method from pandas.\n",
        "\n",
        "At its core, the .apply() method is meant for repeating a calculation over columns:"
      ],
      "metadata": {
        "id": "28JX6Kxtxp6L"
      }
    },
    {
      "cell_type": "code",
      "source": [
        "dat = pd.DataFrame({\"x\": [99, 50, 2], \"y\": [1, 2, 3]})\n",
        "\n",
        "dat.apply(np.sqrt)"
      ],
      "metadata": {
        "colab": {
          "base_uri": "https://localhost:8080/",
          "height": 143
        },
        "id": "7GScEScDxslP",
        "outputId": "2c18dc48-42a2-4167-c8c4-f5ecd29459c5"
      },
      "execution_count": 72,
      "outputs": [
        {
          "output_type": "execute_result",
          "data": {
            "text/plain": [
              "          x         y\n",
              "0  9.949874  1.000000\n",
              "1  7.071068  1.414214\n",
              "2  1.414214  1.732051"
            ],
            "text/html": [
              "\n",
              "  <div id=\"df-ff1f911d-b60d-4648-9951-b0bf53ddb542\" class=\"colab-df-container\">\n",
              "    <div>\n",
              "<style scoped>\n",
              "    .dataframe tbody tr th:only-of-type {\n",
              "        vertical-align: middle;\n",
              "    }\n",
              "\n",
              "    .dataframe tbody tr th {\n",
              "        vertical-align: top;\n",
              "    }\n",
              "\n",
              "    .dataframe thead th {\n",
              "        text-align: right;\n",
              "    }\n",
              "</style>\n",
              "<table border=\"1\" class=\"dataframe\">\n",
              "  <thead>\n",
              "    <tr style=\"text-align: right;\">\n",
              "      <th></th>\n",
              "      <th>x</th>\n",
              "      <th>y</th>\n",
              "    </tr>\n",
              "  </thead>\n",
              "  <tbody>\n",
              "    <tr>\n",
              "      <th>0</th>\n",
              "      <td>9.949874</td>\n",
              "      <td>1.000000</td>\n",
              "    </tr>\n",
              "    <tr>\n",
              "      <th>1</th>\n",
              "      <td>7.071068</td>\n",
              "      <td>1.414214</td>\n",
              "    </tr>\n",
              "    <tr>\n",
              "      <th>2</th>\n",
              "      <td>1.414214</td>\n",
              "      <td>1.732051</td>\n",
              "    </tr>\n",
              "  </tbody>\n",
              "</table>\n",
              "</div>\n",
              "    <div class=\"colab-df-buttons\">\n",
              "\n",
              "  <div class=\"colab-df-container\">\n",
              "    <button class=\"colab-df-convert\" onclick=\"convertToInteractive('df-ff1f911d-b60d-4648-9951-b0bf53ddb542')\"\n",
              "            title=\"Convert this dataframe to an interactive table.\"\n",
              "            style=\"display:none;\">\n",
              "\n",
              "  <svg xmlns=\"http://www.w3.org/2000/svg\" height=\"24px\" viewBox=\"0 -960 960 960\">\n",
              "    <path d=\"M120-120v-720h720v720H120Zm60-500h600v-160H180v160Zm220 220h160v-160H400v160Zm0 220h160v-160H400v160ZM180-400h160v-160H180v160Zm440 0h160v-160H620v160ZM180-180h160v-160H180v160Zm440 0h160v-160H620v160Z\"/>\n",
              "  </svg>\n",
              "    </button>\n",
              "\n",
              "  <style>\n",
              "    .colab-df-container {\n",
              "      display:flex;\n",
              "      gap: 12px;\n",
              "    }\n",
              "\n",
              "    .colab-df-convert {\n",
              "      background-color: #E8F0FE;\n",
              "      border: none;\n",
              "      border-radius: 50%;\n",
              "      cursor: pointer;\n",
              "      display: none;\n",
              "      fill: #1967D2;\n",
              "      height: 32px;\n",
              "      padding: 0 0 0 0;\n",
              "      width: 32px;\n",
              "    }\n",
              "\n",
              "    .colab-df-convert:hover {\n",
              "      background-color: #E2EBFA;\n",
              "      box-shadow: 0px 1px 2px rgba(60, 64, 67, 0.3), 0px 1px 3px 1px rgba(60, 64, 67, 0.15);\n",
              "      fill: #174EA6;\n",
              "    }\n",
              "\n",
              "    .colab-df-buttons div {\n",
              "      margin-bottom: 4px;\n",
              "    }\n",
              "\n",
              "    [theme=dark] .colab-df-convert {\n",
              "      background-color: #3B4455;\n",
              "      fill: #D2E3FC;\n",
              "    }\n",
              "\n",
              "    [theme=dark] .colab-df-convert:hover {\n",
              "      background-color: #434B5C;\n",
              "      box-shadow: 0px 1px 3px 1px rgba(0, 0, 0, 0.15);\n",
              "      filter: drop-shadow(0px 1px 2px rgba(0, 0, 0, 0.3));\n",
              "      fill: #FFFFFF;\n",
              "    }\n",
              "  </style>\n",
              "\n",
              "    <script>\n",
              "      const buttonEl =\n",
              "        document.querySelector('#df-ff1f911d-b60d-4648-9951-b0bf53ddb542 button.colab-df-convert');\n",
              "      buttonEl.style.display =\n",
              "        google.colab.kernel.accessAllowed ? 'block' : 'none';\n",
              "\n",
              "      async function convertToInteractive(key) {\n",
              "        const element = document.querySelector('#df-ff1f911d-b60d-4648-9951-b0bf53ddb542');\n",
              "        const dataTable =\n",
              "          await google.colab.kernel.invokeFunction('convertToInteractive',\n",
              "                                                    [key], {});\n",
              "        if (!dataTable) return;\n",
              "\n",
              "        const docLinkHtml = 'Like what you see? Visit the ' +\n",
              "          '<a target=\"_blank\" href=https://colab.research.google.com/notebooks/data_table.ipynb>data table notebook</a>'\n",
              "          + ' to learn more about interactive tables.';\n",
              "        element.innerHTML = '';\n",
              "        dataTable['output_type'] = 'display_data';\n",
              "        await google.colab.output.renderOutput(dataTable, element);\n",
              "        const docLink = document.createElement('div');\n",
              "        docLink.innerHTML = docLinkHtml;\n",
              "        element.appendChild(docLink);\n",
              "      }\n",
              "    </script>\n",
              "  </div>\n",
              "\n",
              "\n",
              "<div id=\"df-5ca2520b-a8f4-435e-aba4-00988137599e\">\n",
              "  <button class=\"colab-df-quickchart\" onclick=\"quickchart('df-5ca2520b-a8f4-435e-aba4-00988137599e')\"\n",
              "            title=\"Suggest charts\"\n",
              "            style=\"display:none;\">\n",
              "\n",
              "<svg xmlns=\"http://www.w3.org/2000/svg\" height=\"24px\"viewBox=\"0 0 24 24\"\n",
              "     width=\"24px\">\n",
              "    <g>\n",
              "        <path d=\"M19 3H5c-1.1 0-2 .9-2 2v14c0 1.1.9 2 2 2h14c1.1 0 2-.9 2-2V5c0-1.1-.9-2-2-2zM9 17H7v-7h2v7zm4 0h-2V7h2v10zm4 0h-2v-4h2v4z\"/>\n",
              "    </g>\n",
              "</svg>\n",
              "  </button>\n",
              "\n",
              "<style>\n",
              "  .colab-df-quickchart {\n",
              "      --bg-color: #E8F0FE;\n",
              "      --fill-color: #1967D2;\n",
              "      --hover-bg-color: #E2EBFA;\n",
              "      --hover-fill-color: #174EA6;\n",
              "      --disabled-fill-color: #AAA;\n",
              "      --disabled-bg-color: #DDD;\n",
              "  }\n",
              "\n",
              "  [theme=dark] .colab-df-quickchart {\n",
              "      --bg-color: #3B4455;\n",
              "      --fill-color: #D2E3FC;\n",
              "      --hover-bg-color: #434B5C;\n",
              "      --hover-fill-color: #FFFFFF;\n",
              "      --disabled-bg-color: #3B4455;\n",
              "      --disabled-fill-color: #666;\n",
              "  }\n",
              "\n",
              "  .colab-df-quickchart {\n",
              "    background-color: var(--bg-color);\n",
              "    border: none;\n",
              "    border-radius: 50%;\n",
              "    cursor: pointer;\n",
              "    display: none;\n",
              "    fill: var(--fill-color);\n",
              "    height: 32px;\n",
              "    padding: 0;\n",
              "    width: 32px;\n",
              "  }\n",
              "\n",
              "  .colab-df-quickchart:hover {\n",
              "    background-color: var(--hover-bg-color);\n",
              "    box-shadow: 0 1px 2px rgba(60, 64, 67, 0.3), 0 1px 3px 1px rgba(60, 64, 67, 0.15);\n",
              "    fill: var(--button-hover-fill-color);\n",
              "  }\n",
              "\n",
              "  .colab-df-quickchart-complete:disabled,\n",
              "  .colab-df-quickchart-complete:disabled:hover {\n",
              "    background-color: var(--disabled-bg-color);\n",
              "    fill: var(--disabled-fill-color);\n",
              "    box-shadow: none;\n",
              "  }\n",
              "\n",
              "  .colab-df-spinner {\n",
              "    border: 2px solid var(--fill-color);\n",
              "    border-color: transparent;\n",
              "    border-bottom-color: var(--fill-color);\n",
              "    animation:\n",
              "      spin 1s steps(1) infinite;\n",
              "  }\n",
              "\n",
              "  @keyframes spin {\n",
              "    0% {\n",
              "      border-color: transparent;\n",
              "      border-bottom-color: var(--fill-color);\n",
              "      border-left-color: var(--fill-color);\n",
              "    }\n",
              "    20% {\n",
              "      border-color: transparent;\n",
              "      border-left-color: var(--fill-color);\n",
              "      border-top-color: var(--fill-color);\n",
              "    }\n",
              "    30% {\n",
              "      border-color: transparent;\n",
              "      border-left-color: var(--fill-color);\n",
              "      border-top-color: var(--fill-color);\n",
              "      border-right-color: var(--fill-color);\n",
              "    }\n",
              "    40% {\n",
              "      border-color: transparent;\n",
              "      border-right-color: var(--fill-color);\n",
              "      border-top-color: var(--fill-color);\n",
              "    }\n",
              "    60% {\n",
              "      border-color: transparent;\n",
              "      border-right-color: var(--fill-color);\n",
              "    }\n",
              "    80% {\n",
              "      border-color: transparent;\n",
              "      border-right-color: var(--fill-color);\n",
              "      border-bottom-color: var(--fill-color);\n",
              "    }\n",
              "    90% {\n",
              "      border-color: transparent;\n",
              "      border-bottom-color: var(--fill-color);\n",
              "    }\n",
              "  }\n",
              "</style>\n",
              "\n",
              "  <script>\n",
              "    async function quickchart(key) {\n",
              "      const quickchartButtonEl =\n",
              "        document.querySelector('#' + key + ' button');\n",
              "      quickchartButtonEl.disabled = true;  // To prevent multiple clicks.\n",
              "      quickchartButtonEl.classList.add('colab-df-spinner');\n",
              "      try {\n",
              "        const charts = await google.colab.kernel.invokeFunction(\n",
              "            'suggestCharts', [key], {});\n",
              "      } catch (error) {\n",
              "        console.error('Error during call to suggestCharts:', error);\n",
              "      }\n",
              "      quickchartButtonEl.classList.remove('colab-df-spinner');\n",
              "      quickchartButtonEl.classList.add('colab-df-quickchart-complete');\n",
              "    }\n",
              "    (() => {\n",
              "      let quickchartButtonEl =\n",
              "        document.querySelector('#df-5ca2520b-a8f4-435e-aba4-00988137599e button');\n",
              "      quickchartButtonEl.style.display =\n",
              "        google.colab.kernel.accessAllowed ? 'block' : 'none';\n",
              "    })();\n",
              "  </script>\n",
              "</div>\n",
              "\n",
              "    </div>\n",
              "  </div>\n"
            ],
            "application/vnd.google.colaboratory.intrinsic+json": {
              "type": "dataframe",
              "summary": "{\n  \"name\": \"dat\",\n  \"rows\": 3,\n  \"fields\": [\n    {\n      \"column\": \"x\",\n      \"properties\": {\n        \"dtype\": \"number\",\n        \"std\": 4.342522935006725,\n        \"min\": 1.4142135623730951,\n        \"max\": 9.9498743710662,\n        \"num_unique_values\": 3,\n        \"samples\": [\n          9.9498743710662,\n          7.0710678118654755,\n          1.4142135623730951\n        ],\n        \"semantic_type\": \"\",\n        \"description\": \"\"\n      }\n    },\n    {\n      \"column\": \"y\",\n      \"properties\": {\n        \"dtype\": \"number\",\n        \"std\": 0.36708122955500805,\n        \"min\": 1.0,\n        \"max\": 1.7320508075688772,\n        \"num_unique_values\": 3,\n        \"samples\": [\n          1.0,\n          1.4142135623730951,\n          1.7320508075688772\n        ],\n        \"semantic_type\": \"\",\n        \"description\": \"\"\n      }\n    }\n  ]\n}"
            }
          },
          "metadata": {},
          "execution_count": 72
        }
      ]
    },
    {
      "cell_type": "markdown",
      "source": [
        "In this chapter, though, we are more interested in using it to repeat a function, using each row as input:"
      ],
      "metadata": {
        "id": "48x9JfTCxt2P"
      }
    },
    {
      "cell_type": "code",
      "source": [
        "dat.apply(np.sum, axis=1)"
      ],
      "metadata": {
        "colab": {
          "base_uri": "https://localhost:8080/",
          "height": 178
        },
        "id": "1YCdjDJUxuw3",
        "outputId": "52f2a3b6-6697-4e9d-d4be-1a54697ee3f8"
      },
      "execution_count": 73,
      "outputs": [
        {
          "output_type": "execute_result",
          "data": {
            "text/plain": [
              "0    100\n",
              "1     52\n",
              "2      5\n",
              "dtype: int64"
            ],
            "text/html": [
              "<div>\n",
              "<style scoped>\n",
              "    .dataframe tbody tr th:only-of-type {\n",
              "        vertical-align: middle;\n",
              "    }\n",
              "\n",
              "    .dataframe tbody tr th {\n",
              "        vertical-align: top;\n",
              "    }\n",
              "\n",
              "    .dataframe thead th {\n",
              "        text-align: right;\n",
              "    }\n",
              "</style>\n",
              "<table border=\"1\" class=\"dataframe\">\n",
              "  <thead>\n",
              "    <tr style=\"text-align: right;\">\n",
              "      <th></th>\n",
              "      <th>0</th>\n",
              "    </tr>\n",
              "  </thead>\n",
              "  <tbody>\n",
              "    <tr>\n",
              "      <th>0</th>\n",
              "      <td>100</td>\n",
              "    </tr>\n",
              "    <tr>\n",
              "      <th>1</th>\n",
              "      <td>52</td>\n",
              "    </tr>\n",
              "    <tr>\n",
              "      <th>2</th>\n",
              "      <td>5</td>\n",
              "    </tr>\n",
              "  </tbody>\n",
              "</table>\n",
              "</div><br><label><b>dtype:</b> int64</label>"
            ]
          },
          "metadata": {},
          "execution_count": 73
        }
      ]
    },
    {
      "cell_type": "markdown",
      "source": [
        "Suppose we have a pandas dataframe consisting of all the numbers, drinks, and containers that we are interested in singing about:"
      ],
      "metadata": {
        "id": "9qimQQUpxwDX"
      }
    },
    {
      "cell_type": "code",
      "source": [
        "dat = pd.DataFrame({\"num\": [99, 50, 2], \"drink\": [\"beer\", \"soda\", \"Capri Sun\"], \"container\": [\"bottles\", \"cans\", \"pouches\"]})\n",
        "\n",
        "dat"
      ],
      "metadata": {
        "colab": {
          "base_uri": "https://localhost:8080/",
          "height": 143
        },
        "id": "tOYbzQ-zxxEO",
        "outputId": "03c5e994-57d1-4ecc-eef3-bfe6a8a6dd05"
      },
      "execution_count": 74,
      "outputs": [
        {
          "output_type": "execute_result",
          "data": {
            "text/plain": [
              "   num      drink container\n",
              "0   99       beer   bottles\n",
              "1   50       soda      cans\n",
              "2    2  Capri Sun   pouches"
            ],
            "text/html": [
              "\n",
              "  <div id=\"df-aec4f1ad-fa9a-483f-aee8-42ee7bffc151\" class=\"colab-df-container\">\n",
              "    <div>\n",
              "<style scoped>\n",
              "    .dataframe tbody tr th:only-of-type {\n",
              "        vertical-align: middle;\n",
              "    }\n",
              "\n",
              "    .dataframe tbody tr th {\n",
              "        vertical-align: top;\n",
              "    }\n",
              "\n",
              "    .dataframe thead th {\n",
              "        text-align: right;\n",
              "    }\n",
              "</style>\n",
              "<table border=\"1\" class=\"dataframe\">\n",
              "  <thead>\n",
              "    <tr style=\"text-align: right;\">\n",
              "      <th></th>\n",
              "      <th>num</th>\n",
              "      <th>drink</th>\n",
              "      <th>container</th>\n",
              "    </tr>\n",
              "  </thead>\n",
              "  <tbody>\n",
              "    <tr>\n",
              "      <th>0</th>\n",
              "      <td>99</td>\n",
              "      <td>beer</td>\n",
              "      <td>bottles</td>\n",
              "    </tr>\n",
              "    <tr>\n",
              "      <th>1</th>\n",
              "      <td>50</td>\n",
              "      <td>soda</td>\n",
              "      <td>cans</td>\n",
              "    </tr>\n",
              "    <tr>\n",
              "      <th>2</th>\n",
              "      <td>2</td>\n",
              "      <td>Capri Sun</td>\n",
              "      <td>pouches</td>\n",
              "    </tr>\n",
              "  </tbody>\n",
              "</table>\n",
              "</div>\n",
              "    <div class=\"colab-df-buttons\">\n",
              "\n",
              "  <div class=\"colab-df-container\">\n",
              "    <button class=\"colab-df-convert\" onclick=\"convertToInteractive('df-aec4f1ad-fa9a-483f-aee8-42ee7bffc151')\"\n",
              "            title=\"Convert this dataframe to an interactive table.\"\n",
              "            style=\"display:none;\">\n",
              "\n",
              "  <svg xmlns=\"http://www.w3.org/2000/svg\" height=\"24px\" viewBox=\"0 -960 960 960\">\n",
              "    <path d=\"M120-120v-720h720v720H120Zm60-500h600v-160H180v160Zm220 220h160v-160H400v160Zm0 220h160v-160H400v160ZM180-400h160v-160H180v160Zm440 0h160v-160H620v160ZM180-180h160v-160H180v160Zm440 0h160v-160H620v160Z\"/>\n",
              "  </svg>\n",
              "    </button>\n",
              "\n",
              "  <style>\n",
              "    .colab-df-container {\n",
              "      display:flex;\n",
              "      gap: 12px;\n",
              "    }\n",
              "\n",
              "    .colab-df-convert {\n",
              "      background-color: #E8F0FE;\n",
              "      border: none;\n",
              "      border-radius: 50%;\n",
              "      cursor: pointer;\n",
              "      display: none;\n",
              "      fill: #1967D2;\n",
              "      height: 32px;\n",
              "      padding: 0 0 0 0;\n",
              "      width: 32px;\n",
              "    }\n",
              "\n",
              "    .colab-df-convert:hover {\n",
              "      background-color: #E2EBFA;\n",
              "      box-shadow: 0px 1px 2px rgba(60, 64, 67, 0.3), 0px 1px 3px 1px rgba(60, 64, 67, 0.15);\n",
              "      fill: #174EA6;\n",
              "    }\n",
              "\n",
              "    .colab-df-buttons div {\n",
              "      margin-bottom: 4px;\n",
              "    }\n",
              "\n",
              "    [theme=dark] .colab-df-convert {\n",
              "      background-color: #3B4455;\n",
              "      fill: #D2E3FC;\n",
              "    }\n",
              "\n",
              "    [theme=dark] .colab-df-convert:hover {\n",
              "      background-color: #434B5C;\n",
              "      box-shadow: 0px 1px 3px 1px rgba(0, 0, 0, 0.15);\n",
              "      filter: drop-shadow(0px 1px 2px rgba(0, 0, 0, 0.3));\n",
              "      fill: #FFFFFF;\n",
              "    }\n",
              "  </style>\n",
              "\n",
              "    <script>\n",
              "      const buttonEl =\n",
              "        document.querySelector('#df-aec4f1ad-fa9a-483f-aee8-42ee7bffc151 button.colab-df-convert');\n",
              "      buttonEl.style.display =\n",
              "        google.colab.kernel.accessAllowed ? 'block' : 'none';\n",
              "\n",
              "      async function convertToInteractive(key) {\n",
              "        const element = document.querySelector('#df-aec4f1ad-fa9a-483f-aee8-42ee7bffc151');\n",
              "        const dataTable =\n",
              "          await google.colab.kernel.invokeFunction('convertToInteractive',\n",
              "                                                    [key], {});\n",
              "        if (!dataTable) return;\n",
              "\n",
              "        const docLinkHtml = 'Like what you see? Visit the ' +\n",
              "          '<a target=\"_blank\" href=https://colab.research.google.com/notebooks/data_table.ipynb>data table notebook</a>'\n",
              "          + ' to learn more about interactive tables.';\n",
              "        element.innerHTML = '';\n",
              "        dataTable['output_type'] = 'display_data';\n",
              "        await google.colab.output.renderOutput(dataTable, element);\n",
              "        const docLink = document.createElement('div');\n",
              "        docLink.innerHTML = docLinkHtml;\n",
              "        element.appendChild(docLink);\n",
              "      }\n",
              "    </script>\n",
              "  </div>\n",
              "\n",
              "\n",
              "<div id=\"df-88557188-277c-4073-a620-cf0d3e749e54\">\n",
              "  <button class=\"colab-df-quickchart\" onclick=\"quickchart('df-88557188-277c-4073-a620-cf0d3e749e54')\"\n",
              "            title=\"Suggest charts\"\n",
              "            style=\"display:none;\">\n",
              "\n",
              "<svg xmlns=\"http://www.w3.org/2000/svg\" height=\"24px\"viewBox=\"0 0 24 24\"\n",
              "     width=\"24px\">\n",
              "    <g>\n",
              "        <path d=\"M19 3H5c-1.1 0-2 .9-2 2v14c0 1.1.9 2 2 2h14c1.1 0 2-.9 2-2V5c0-1.1-.9-2-2-2zM9 17H7v-7h2v7zm4 0h-2V7h2v10zm4 0h-2v-4h2v4z\"/>\n",
              "    </g>\n",
              "</svg>\n",
              "  </button>\n",
              "\n",
              "<style>\n",
              "  .colab-df-quickchart {\n",
              "      --bg-color: #E8F0FE;\n",
              "      --fill-color: #1967D2;\n",
              "      --hover-bg-color: #E2EBFA;\n",
              "      --hover-fill-color: #174EA6;\n",
              "      --disabled-fill-color: #AAA;\n",
              "      --disabled-bg-color: #DDD;\n",
              "  }\n",
              "\n",
              "  [theme=dark] .colab-df-quickchart {\n",
              "      --bg-color: #3B4455;\n",
              "      --fill-color: #D2E3FC;\n",
              "      --hover-bg-color: #434B5C;\n",
              "      --hover-fill-color: #FFFFFF;\n",
              "      --disabled-bg-color: #3B4455;\n",
              "      --disabled-fill-color: #666;\n",
              "  }\n",
              "\n",
              "  .colab-df-quickchart {\n",
              "    background-color: var(--bg-color);\n",
              "    border: none;\n",
              "    border-radius: 50%;\n",
              "    cursor: pointer;\n",
              "    display: none;\n",
              "    fill: var(--fill-color);\n",
              "    height: 32px;\n",
              "    padding: 0;\n",
              "    width: 32px;\n",
              "  }\n",
              "\n",
              "  .colab-df-quickchart:hover {\n",
              "    background-color: var(--hover-bg-color);\n",
              "    box-shadow: 0 1px 2px rgba(60, 64, 67, 0.3), 0 1px 3px 1px rgba(60, 64, 67, 0.15);\n",
              "    fill: var(--button-hover-fill-color);\n",
              "  }\n",
              "\n",
              "  .colab-df-quickchart-complete:disabled,\n",
              "  .colab-df-quickchart-complete:disabled:hover {\n",
              "    background-color: var(--disabled-bg-color);\n",
              "    fill: var(--disabled-fill-color);\n",
              "    box-shadow: none;\n",
              "  }\n",
              "\n",
              "  .colab-df-spinner {\n",
              "    border: 2px solid var(--fill-color);\n",
              "    border-color: transparent;\n",
              "    border-bottom-color: var(--fill-color);\n",
              "    animation:\n",
              "      spin 1s steps(1) infinite;\n",
              "  }\n",
              "\n",
              "  @keyframes spin {\n",
              "    0% {\n",
              "      border-color: transparent;\n",
              "      border-bottom-color: var(--fill-color);\n",
              "      border-left-color: var(--fill-color);\n",
              "    }\n",
              "    20% {\n",
              "      border-color: transparent;\n",
              "      border-left-color: var(--fill-color);\n",
              "      border-top-color: var(--fill-color);\n",
              "    }\n",
              "    30% {\n",
              "      border-color: transparent;\n",
              "      border-left-color: var(--fill-color);\n",
              "      border-top-color: var(--fill-color);\n",
              "      border-right-color: var(--fill-color);\n",
              "    }\n",
              "    40% {\n",
              "      border-color: transparent;\n",
              "      border-right-color: var(--fill-color);\n",
              "      border-top-color: var(--fill-color);\n",
              "    }\n",
              "    60% {\n",
              "      border-color: transparent;\n",
              "      border-right-color: var(--fill-color);\n",
              "    }\n",
              "    80% {\n",
              "      border-color: transparent;\n",
              "      border-right-color: var(--fill-color);\n",
              "      border-bottom-color: var(--fill-color);\n",
              "    }\n",
              "    90% {\n",
              "      border-color: transparent;\n",
              "      border-bottom-color: var(--fill-color);\n",
              "    }\n",
              "  }\n",
              "</style>\n",
              "\n",
              "  <script>\n",
              "    async function quickchart(key) {\n",
              "      const quickchartButtonEl =\n",
              "        document.querySelector('#' + key + ' button');\n",
              "      quickchartButtonEl.disabled = true;  // To prevent multiple clicks.\n",
              "      quickchartButtonEl.classList.add('colab-df-spinner');\n",
              "      try {\n",
              "        const charts = await google.colab.kernel.invokeFunction(\n",
              "            'suggestCharts', [key], {});\n",
              "      } catch (error) {\n",
              "        console.error('Error during call to suggestCharts:', error);\n",
              "      }\n",
              "      quickchartButtonEl.classList.remove('colab-df-spinner');\n",
              "      quickchartButtonEl.classList.add('colab-df-quickchart-complete');\n",
              "    }\n",
              "    (() => {\n",
              "      let quickchartButtonEl =\n",
              "        document.querySelector('#df-88557188-277c-4073-a620-cf0d3e749e54 button');\n",
              "      quickchartButtonEl.style.display =\n",
              "        google.colab.kernel.accessAllowed ? 'block' : 'none';\n",
              "    })();\n",
              "  </script>\n",
              "</div>\n",
              "\n",
              "  <div id=\"id_6c7c2e3a-69c3-4c53-b08b-94d550e0d420\">\n",
              "    <style>\n",
              "      .colab-df-generate {\n",
              "        background-color: #E8F0FE;\n",
              "        border: none;\n",
              "        border-radius: 50%;\n",
              "        cursor: pointer;\n",
              "        display: none;\n",
              "        fill: #1967D2;\n",
              "        height: 32px;\n",
              "        padding: 0 0 0 0;\n",
              "        width: 32px;\n",
              "      }\n",
              "\n",
              "      .colab-df-generate:hover {\n",
              "        background-color: #E2EBFA;\n",
              "        box-shadow: 0px 1px 2px rgba(60, 64, 67, 0.3), 0px 1px 3px 1px rgba(60, 64, 67, 0.15);\n",
              "        fill: #174EA6;\n",
              "      }\n",
              "\n",
              "      [theme=dark] .colab-df-generate {\n",
              "        background-color: #3B4455;\n",
              "        fill: #D2E3FC;\n",
              "      }\n",
              "\n",
              "      [theme=dark] .colab-df-generate:hover {\n",
              "        background-color: #434B5C;\n",
              "        box-shadow: 0px 1px 3px 1px rgba(0, 0, 0, 0.15);\n",
              "        filter: drop-shadow(0px 1px 2px rgba(0, 0, 0, 0.3));\n",
              "        fill: #FFFFFF;\n",
              "      }\n",
              "    </style>\n",
              "    <button class=\"colab-df-generate\" onclick=\"generateWithVariable('dat')\"\n",
              "            title=\"Generate code using this dataframe.\"\n",
              "            style=\"display:none;\">\n",
              "\n",
              "  <svg xmlns=\"http://www.w3.org/2000/svg\" height=\"24px\"viewBox=\"0 0 24 24\"\n",
              "       width=\"24px\">\n",
              "    <path d=\"M7,19H8.4L18.45,9,17,7.55,7,17.6ZM5,21V16.75L18.45,3.32a2,2,0,0,1,2.83,0l1.4,1.43a1.91,1.91,0,0,1,.58,1.4,1.91,1.91,0,0,1-.58,1.4L9.25,21ZM18.45,9,17,7.55Zm-12,3A5.31,5.31,0,0,0,4.9,8.1,5.31,5.31,0,0,0,1,6.5,5.31,5.31,0,0,0,4.9,4.9,5.31,5.31,0,0,0,6.5,1,5.31,5.31,0,0,0,8.1,4.9,5.31,5.31,0,0,0,12,6.5,5.46,5.46,0,0,0,6.5,12Z\"/>\n",
              "  </svg>\n",
              "    </button>\n",
              "    <script>\n",
              "      (() => {\n",
              "      const buttonEl =\n",
              "        document.querySelector('#id_6c7c2e3a-69c3-4c53-b08b-94d550e0d420 button.colab-df-generate');\n",
              "      buttonEl.style.display =\n",
              "        google.colab.kernel.accessAllowed ? 'block' : 'none';\n",
              "\n",
              "      buttonEl.onclick = () => {\n",
              "        google.colab.notebook.generateWithVariable('dat');\n",
              "      }\n",
              "      })();\n",
              "    </script>\n",
              "  </div>\n",
              "\n",
              "    </div>\n",
              "  </div>\n"
            ],
            "application/vnd.google.colaboratory.intrinsic+json": {
              "type": "dataframe",
              "variable_name": "dat",
              "summary": "{\n  \"name\": \"dat\",\n  \"rows\": 3,\n  \"fields\": [\n    {\n      \"column\": \"num\",\n      \"properties\": {\n        \"dtype\": \"number\",\n        \"std\": 48,\n        \"min\": 2,\n        \"max\": 99,\n        \"num_unique_values\": 3,\n        \"samples\": [\n          99,\n          50,\n          2\n        ],\n        \"semantic_type\": \"\",\n        \"description\": \"\"\n      }\n    },\n    {\n      \"column\": \"drink\",\n      \"properties\": {\n        \"dtype\": \"string\",\n        \"num_unique_values\": 3,\n        \"samples\": [\n          \"beer\",\n          \"soda\",\n          \"Capri Sun\"\n        ],\n        \"semantic_type\": \"\",\n        \"description\": \"\"\n      }\n    },\n    {\n      \"column\": \"container\",\n      \"properties\": {\n        \"dtype\": \"string\",\n        \"num_unique_values\": 3,\n        \"samples\": [\n          \"bottles\",\n          \"cans\",\n          \"pouches\"\n        ],\n        \"semantic_type\": \"\",\n        \"description\": \"\"\n      }\n    }\n  ]\n}"
            }
          },
          "metadata": {},
          "execution_count": 74
        }
      ]
    },
    {
      "cell_type": "markdown",
      "source": [
        "Our goal is to apply the sing_verse_3 function over all these combinations of values.\n",
        "\n",
        "Unfortunately, this doesn’t happen automatically:\n",
        "\n"
      ],
      "metadata": {
        "id": "rBLZZHKLxyfY"
      }
    },
    {
      "cell_type": "markdown",
      "source": [
        "This is because .apply doesn’t “know” which columns below with which arguments of the sing_verse_3 function. We’ll need to use a lambda function to help it out:"
      ],
      "metadata": {
        "id": "nARDSzjPx0e-"
      }
    },
    {
      "cell_type": "code",
      "source": [
        "dat.apply(lambda x: sing_verse_3(x['num'], x['drink'], x['container']), axis=1)"
      ],
      "metadata": {
        "colab": {
          "base_uri": "https://localhost:8080/",
          "height": 217
        },
        "id": "ciM50FRfx1bI",
        "outputId": "f96068e3-9043-4f8e-de94-034d7d0305b5"
      },
      "execution_count": 75,
      "outputs": [
        {
          "output_type": "error",
          "ename": "NameError",
          "evalue": "name 'sing_verse_3' is not defined",
          "traceback": [
            "\u001b[0;31m---------------------------------------------------------------------------\u001b[0m",
            "\u001b[0;31mNameError\u001b[0m                                 Traceback (most recent call last)",
            "\u001b[0;32m<ipython-input-75-a8f60527c13f>\u001b[0m in \u001b[0;36m<cell line: 1>\u001b[0;34m()\u001b[0m\n\u001b[0;32m----> 1\u001b[0;31m \u001b[0mdat\u001b[0m\u001b[0;34m.\u001b[0m\u001b[0mapply\u001b[0m\u001b[0;34m(\u001b[0m\u001b[0;32mlambda\u001b[0m \u001b[0mx\u001b[0m\u001b[0;34m:\u001b[0m \u001b[0msing_verse_3\u001b[0m\u001b[0;34m(\u001b[0m\u001b[0mx\u001b[0m\u001b[0;34m[\u001b[0m\u001b[0;34m'num'\u001b[0m\u001b[0;34m]\u001b[0m\u001b[0;34m,\u001b[0m \u001b[0mx\u001b[0m\u001b[0;34m[\u001b[0m\u001b[0;34m'drink'\u001b[0m\u001b[0;34m]\u001b[0m\u001b[0;34m,\u001b[0m \u001b[0mx\u001b[0m\u001b[0;34m[\u001b[0m\u001b[0;34m'container'\u001b[0m\u001b[0;34m]\u001b[0m\u001b[0;34m)\u001b[0m\u001b[0;34m,\u001b[0m \u001b[0maxis\u001b[0m\u001b[0;34m=\u001b[0m\u001b[0;36m1\u001b[0m\u001b[0;34m)\u001b[0m\u001b[0;34m\u001b[0m\u001b[0;34m\u001b[0m\u001b[0m\n\u001b[0m",
            "\u001b[0;32m/usr/local/lib/python3.10/dist-packages/pandas/core/frame.py\u001b[0m in \u001b[0;36mapply\u001b[0;34m(self, func, axis, raw, result_type, args, by_row, engine, engine_kwargs, **kwargs)\u001b[0m\n\u001b[1;32m  10372\u001b[0m             \u001b[0mkwargs\u001b[0m\u001b[0;34m=\u001b[0m\u001b[0mkwargs\u001b[0m\u001b[0;34m,\u001b[0m\u001b[0;34m\u001b[0m\u001b[0;34m\u001b[0m\u001b[0m\n\u001b[1;32m  10373\u001b[0m         )\n\u001b[0;32m> 10374\u001b[0;31m         \u001b[0;32mreturn\u001b[0m \u001b[0mop\u001b[0m\u001b[0;34m.\u001b[0m\u001b[0mapply\u001b[0m\u001b[0;34m(\u001b[0m\u001b[0;34m)\u001b[0m\u001b[0;34m.\u001b[0m\u001b[0m__finalize__\u001b[0m\u001b[0;34m(\u001b[0m\u001b[0mself\u001b[0m\u001b[0;34m,\u001b[0m \u001b[0mmethod\u001b[0m\u001b[0;34m=\u001b[0m\u001b[0;34m\"apply\"\u001b[0m\u001b[0;34m)\u001b[0m\u001b[0;34m\u001b[0m\u001b[0;34m\u001b[0m\u001b[0m\n\u001b[0m\u001b[1;32m  10375\u001b[0m \u001b[0;34m\u001b[0m\u001b[0m\n\u001b[1;32m  10376\u001b[0m     def map(\n",
            "\u001b[0;32m/usr/local/lib/python3.10/dist-packages/pandas/core/apply.py\u001b[0m in \u001b[0;36mapply\u001b[0;34m(self)\u001b[0m\n\u001b[1;32m    914\u001b[0m             \u001b[0;32mreturn\u001b[0m \u001b[0mself\u001b[0m\u001b[0;34m.\u001b[0m\u001b[0mapply_raw\u001b[0m\u001b[0;34m(\u001b[0m\u001b[0mengine\u001b[0m\u001b[0;34m=\u001b[0m\u001b[0mself\u001b[0m\u001b[0;34m.\u001b[0m\u001b[0mengine\u001b[0m\u001b[0;34m,\u001b[0m \u001b[0mengine_kwargs\u001b[0m\u001b[0;34m=\u001b[0m\u001b[0mself\u001b[0m\u001b[0;34m.\u001b[0m\u001b[0mengine_kwargs\u001b[0m\u001b[0;34m)\u001b[0m\u001b[0;34m\u001b[0m\u001b[0;34m\u001b[0m\u001b[0m\n\u001b[1;32m    915\u001b[0m \u001b[0;34m\u001b[0m\u001b[0m\n\u001b[0;32m--> 916\u001b[0;31m         \u001b[0;32mreturn\u001b[0m \u001b[0mself\u001b[0m\u001b[0;34m.\u001b[0m\u001b[0mapply_standard\u001b[0m\u001b[0;34m(\u001b[0m\u001b[0;34m)\u001b[0m\u001b[0;34m\u001b[0m\u001b[0;34m\u001b[0m\u001b[0m\n\u001b[0m\u001b[1;32m    917\u001b[0m \u001b[0;34m\u001b[0m\u001b[0m\n\u001b[1;32m    918\u001b[0m     \u001b[0;32mdef\u001b[0m \u001b[0magg\u001b[0m\u001b[0;34m(\u001b[0m\u001b[0mself\u001b[0m\u001b[0;34m)\u001b[0m\u001b[0;34m:\u001b[0m\u001b[0;34m\u001b[0m\u001b[0;34m\u001b[0m\u001b[0m\n",
            "\u001b[0;32m/usr/local/lib/python3.10/dist-packages/pandas/core/apply.py\u001b[0m in \u001b[0;36mapply_standard\u001b[0;34m(self)\u001b[0m\n\u001b[1;32m   1061\u001b[0m     \u001b[0;32mdef\u001b[0m \u001b[0mapply_standard\u001b[0m\u001b[0;34m(\u001b[0m\u001b[0mself\u001b[0m\u001b[0;34m)\u001b[0m\u001b[0;34m:\u001b[0m\u001b[0;34m\u001b[0m\u001b[0;34m\u001b[0m\u001b[0m\n\u001b[1;32m   1062\u001b[0m         \u001b[0;32mif\u001b[0m \u001b[0mself\u001b[0m\u001b[0;34m.\u001b[0m\u001b[0mengine\u001b[0m \u001b[0;34m==\u001b[0m \u001b[0;34m\"python\"\u001b[0m\u001b[0;34m:\u001b[0m\u001b[0;34m\u001b[0m\u001b[0;34m\u001b[0m\u001b[0m\n\u001b[0;32m-> 1063\u001b[0;31m             \u001b[0mresults\u001b[0m\u001b[0;34m,\u001b[0m \u001b[0mres_index\u001b[0m \u001b[0;34m=\u001b[0m \u001b[0mself\u001b[0m\u001b[0;34m.\u001b[0m\u001b[0mapply_series_generator\u001b[0m\u001b[0;34m(\u001b[0m\u001b[0;34m)\u001b[0m\u001b[0;34m\u001b[0m\u001b[0;34m\u001b[0m\u001b[0m\n\u001b[0m\u001b[1;32m   1064\u001b[0m         \u001b[0;32melse\u001b[0m\u001b[0;34m:\u001b[0m\u001b[0;34m\u001b[0m\u001b[0;34m\u001b[0m\u001b[0m\n\u001b[1;32m   1065\u001b[0m             \u001b[0mresults\u001b[0m\u001b[0;34m,\u001b[0m \u001b[0mres_index\u001b[0m \u001b[0;34m=\u001b[0m \u001b[0mself\u001b[0m\u001b[0;34m.\u001b[0m\u001b[0mapply_series_numba\u001b[0m\u001b[0;34m(\u001b[0m\u001b[0;34m)\u001b[0m\u001b[0;34m\u001b[0m\u001b[0;34m\u001b[0m\u001b[0m\n",
            "\u001b[0;32m/usr/local/lib/python3.10/dist-packages/pandas/core/apply.py\u001b[0m in \u001b[0;36mapply_series_generator\u001b[0;34m(self)\u001b[0m\n\u001b[1;32m   1079\u001b[0m             \u001b[0;32mfor\u001b[0m \u001b[0mi\u001b[0m\u001b[0;34m,\u001b[0m \u001b[0mv\u001b[0m \u001b[0;32min\u001b[0m \u001b[0menumerate\u001b[0m\u001b[0;34m(\u001b[0m\u001b[0mseries_gen\u001b[0m\u001b[0;34m)\u001b[0m\u001b[0;34m:\u001b[0m\u001b[0;34m\u001b[0m\u001b[0;34m\u001b[0m\u001b[0m\n\u001b[1;32m   1080\u001b[0m                 \u001b[0;31m# ignore SettingWithCopy here in case the user mutates\u001b[0m\u001b[0;34m\u001b[0m\u001b[0;34m\u001b[0m\u001b[0m\n\u001b[0;32m-> 1081\u001b[0;31m                 \u001b[0mresults\u001b[0m\u001b[0;34m[\u001b[0m\u001b[0mi\u001b[0m\u001b[0;34m]\u001b[0m \u001b[0;34m=\u001b[0m \u001b[0mself\u001b[0m\u001b[0;34m.\u001b[0m\u001b[0mfunc\u001b[0m\u001b[0;34m(\u001b[0m\u001b[0mv\u001b[0m\u001b[0;34m,\u001b[0m \u001b[0;34m*\u001b[0m\u001b[0mself\u001b[0m\u001b[0;34m.\u001b[0m\u001b[0margs\u001b[0m\u001b[0;34m,\u001b[0m \u001b[0;34m**\u001b[0m\u001b[0mself\u001b[0m\u001b[0;34m.\u001b[0m\u001b[0mkwargs\u001b[0m\u001b[0;34m)\u001b[0m\u001b[0;34m\u001b[0m\u001b[0;34m\u001b[0m\u001b[0m\n\u001b[0m\u001b[1;32m   1082\u001b[0m                 \u001b[0;32mif\u001b[0m \u001b[0misinstance\u001b[0m\u001b[0;34m(\u001b[0m\u001b[0mresults\u001b[0m\u001b[0;34m[\u001b[0m\u001b[0mi\u001b[0m\u001b[0;34m]\u001b[0m\u001b[0;34m,\u001b[0m \u001b[0mABCSeries\u001b[0m\u001b[0;34m)\u001b[0m\u001b[0;34m:\u001b[0m\u001b[0;34m\u001b[0m\u001b[0;34m\u001b[0m\u001b[0m\n\u001b[1;32m   1083\u001b[0m                     \u001b[0;31m# If we have a view on v, we need to make a copy because\u001b[0m\u001b[0;34m\u001b[0m\u001b[0;34m\u001b[0m\u001b[0m\n",
            "\u001b[0;32m<ipython-input-75-a8f60527c13f>\u001b[0m in \u001b[0;36m<lambda>\u001b[0;34m(x)\u001b[0m\n\u001b[0;32m----> 1\u001b[0;31m \u001b[0mdat\u001b[0m\u001b[0;34m.\u001b[0m\u001b[0mapply\u001b[0m\u001b[0;34m(\u001b[0m\u001b[0;32mlambda\u001b[0m \u001b[0mx\u001b[0m\u001b[0;34m:\u001b[0m \u001b[0msing_verse_3\u001b[0m\u001b[0;34m(\u001b[0m\u001b[0mx\u001b[0m\u001b[0;34m[\u001b[0m\u001b[0;34m'num'\u001b[0m\u001b[0;34m]\u001b[0m\u001b[0;34m,\u001b[0m \u001b[0mx\u001b[0m\u001b[0;34m[\u001b[0m\u001b[0;34m'drink'\u001b[0m\u001b[0;34m]\u001b[0m\u001b[0;34m,\u001b[0m \u001b[0mx\u001b[0m\u001b[0;34m[\u001b[0m\u001b[0;34m'container'\u001b[0m\u001b[0;34m]\u001b[0m\u001b[0;34m)\u001b[0m\u001b[0;34m,\u001b[0m \u001b[0maxis\u001b[0m\u001b[0;34m=\u001b[0m\u001b[0;36m1\u001b[0m\u001b[0;34m)\u001b[0m\u001b[0;34m\u001b[0m\u001b[0;34m\u001b[0m\u001b[0m\n\u001b[0m",
            "\u001b[0;31mNameError\u001b[0m: name 'sing_verse_3' is not defined"
          ]
        }
      ]
    },
    {
      "cell_type": "markdown",
      "source": [
        "\n",
        "\n",
        "---\n",
        "\n"
      ],
      "metadata": {
        "id": "h2l6R7tsx4Qp"
      }
    },
    {
      "cell_type": "markdown",
      "source": [
        "# Practice Activity: Iteration\n",
        "\n",
        "0. Load the `penguins` dataset from the `palmerpenguins` library, as well as any other libraries you need."
      ],
      "metadata": {
        "id": "8IcYkLczx5Vr"
      }
    },
    {
      "cell_type": "code",
      "source": [
        "!pip install palmerpenguins\n",
        "\n",
        "import pandas as pd\n",
        "from palmerpenguins import load_penguins\n",
        "from plotnine import *\n",
        "\n",
        "penguins = load_penguins()\n"
      ],
      "metadata": {
        "colab": {
          "base_uri": "https://localhost:8080/"
        },
        "id": "n9Y2KO4Ix-Qv",
        "outputId": "1f2c2748-e160-4692-9e1f-8023898d72df"
      },
      "execution_count": 77,
      "outputs": [
        {
          "output_type": "stream",
          "name": "stdout",
          "text": [
            "Requirement already satisfied: palmerpenguins in /usr/local/lib/python3.10/dist-packages (0.1.4)\n",
            "Requirement already satisfied: pandas in /usr/local/lib/python3.10/dist-packages (from palmerpenguins) (2.2.2)\n",
            "Requirement already satisfied: numpy in /usr/local/lib/python3.10/dist-packages (from palmerpenguins) (1.26.4)\n",
            "Requirement already satisfied: python-dateutil>=2.8.2 in /usr/local/lib/python3.10/dist-packages (from pandas->palmerpenguins) (2.8.2)\n",
            "Requirement already satisfied: pytz>=2020.1 in /usr/local/lib/python3.10/dist-packages (from pandas->palmerpenguins) (2024.2)\n",
            "Requirement already satisfied: tzdata>=2022.7 in /usr/local/lib/python3.10/dist-packages (from pandas->palmerpenguins) (2024.2)\n",
            "Requirement already satisfied: six>=1.5 in /usr/local/lib/python3.10/dist-packages (from python-dateutil>=2.8.2->pandas->palmerpenguins) (1.16.0)\n"
          ]
        }
      ]
    },
    {
      "cell_type": "markdown",
      "source": [
        "1. Write a function that takes in information about a penguin, and returns one of the following definitions:\n",
        "\n",
        "*   \"Big Mouth Billy\": Male penguins with bill length times bill depth greater than 800.\n",
        "*   \"Dainty Daisy\": Female penguins with flipper length less than 5% of body mass.\n",
        "*   \"Average Adelie:\" Any Adelie penguins that do not fall into either category.\n",
        "*   \"Other\": Any penguins that do not fall into any of the categories."
      ],
      "metadata": {
        "id": "aV6FA_m_yEv5"
      }
    },
    {
      "cell_type": "code",
      "source": [
        "\n",
        "def categorize_penguin(row):\n",
        "  \"\"\"Categorizes a penguin based on its characteristics.\"\"\"\n",
        "\n",
        "  if row['sex'] == 'male' and row['bill_length_mm'] * row['bill_depth_mm'] > 800:\n",
        "    return \"Big Mouth Billy\"\n",
        "  elif row['sex'] == 'female' and row['flipper_length_mm'] < 0.05 * row['body_mass_g']:\n",
        "    return \"Dainty Daisy\"\n",
        "  elif row['species'] == 'Adelie' and not (row['sex'] == 'male' and row['bill_length_mm'] * row['bill_depth_mm'] > 800) and not (row['sex'] == 'female' and row['flipper_length_mm'] < 0.05 * row['body_mass_g']):\n",
        "    return \"Average Adelie\"\n",
        "  else:\n",
        "    return \"Other\""
      ],
      "metadata": {
        "id": "LKraZK2uyEW3"
      },
      "execution_count": 78,
      "outputs": []
    },
    {
      "cell_type": "markdown",
      "source": [
        "2. Use an iterable function to create a new variable called `category_name` that adds these labels."
      ],
      "metadata": {
        "id": "LjcghKklyIwq"
      }
    },
    {
      "cell_type": "code",
      "source": [
        "penguins['category_name'] = penguins.apply(categorize_penguin, axis=1)"
      ],
      "metadata": {
        "id": "CyYIsP7OyLow"
      },
      "execution_count": 82,
      "outputs": []
    },
    {
      "cell_type": "markdown",
      "source": [
        "3. Run the following code to find the counts for each type."
      ],
      "metadata": {
        "id": "_TJYUbATyNxN"
      }
    },
    {
      "cell_type": "code",
      "source": [
        "penguins.value_counts(\"category_name\")"
      ],
      "metadata": {
        "colab": {
          "base_uri": "https://localhost:8080/",
          "height": 241
        },
        "id": "3Q_v5m-9yOWb",
        "outputId": "faa46706-38cd-4b2e-8156-8d422a528214"
      },
      "execution_count": 83,
      "outputs": [
        {
          "output_type": "execute_result",
          "data": {
            "text/plain": [
              "category_name\n",
              "Average Adelie     127\n",
              "Other               84\n",
              "Big Mouth Billy     71\n",
              "Dainty Daisy        62\n",
              "Name: count, dtype: int64"
            ],
            "text/html": [
              "<div>\n",
              "<style scoped>\n",
              "    .dataframe tbody tr th:only-of-type {\n",
              "        vertical-align: middle;\n",
              "    }\n",
              "\n",
              "    .dataframe tbody tr th {\n",
              "        vertical-align: top;\n",
              "    }\n",
              "\n",
              "    .dataframe thead th {\n",
              "        text-align: right;\n",
              "    }\n",
              "</style>\n",
              "<table border=\"1\" class=\"dataframe\">\n",
              "  <thead>\n",
              "    <tr style=\"text-align: right;\">\n",
              "      <th></th>\n",
              "      <th>count</th>\n",
              "    </tr>\n",
              "    <tr>\n",
              "      <th>category_name</th>\n",
              "      <th></th>\n",
              "    </tr>\n",
              "  </thead>\n",
              "  <tbody>\n",
              "    <tr>\n",
              "      <th>Average Adelie</th>\n",
              "      <td>127</td>\n",
              "    </tr>\n",
              "    <tr>\n",
              "      <th>Other</th>\n",
              "      <td>84</td>\n",
              "    </tr>\n",
              "    <tr>\n",
              "      <th>Big Mouth Billy</th>\n",
              "      <td>71</td>\n",
              "    </tr>\n",
              "    <tr>\n",
              "      <th>Dainty Daisy</th>\n",
              "      <td>62</td>\n",
              "    </tr>\n",
              "  </tbody>\n",
              "</table>\n",
              "</div><br><label><b>dtype:</b> int64</label>"
            ]
          },
          "metadata": {},
          "execution_count": 83
        }
      ]
    }
  ]
}