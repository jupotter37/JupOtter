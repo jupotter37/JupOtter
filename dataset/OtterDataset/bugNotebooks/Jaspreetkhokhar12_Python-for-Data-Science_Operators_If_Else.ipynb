{
  "nbformat": 4,
  "nbformat_minor": 0,
  "metadata": {
    "colab": {
      "provenance": []
    },
    "kernelspec": {
      "name": "python3",
      "display_name": "Python 3"
    },
    "language_info": {
      "name": "python"
    }
  },
  "cells": [
    {
      "cell_type": "markdown",
      "source": [
        "# Operators in Python\n"
      ],
      "metadata": {
        "id": "y5QI0XeHiRZ_"
      }
    },
    {
      "cell_type": "code",
      "source": [
        "# Aritmetic Operators\n",
        "\n",
        "## Adition\n",
        "print(3+5)\n",
        "\n",
        "## Subtraction\n",
        "print(25-8)\n",
        "\n",
        "## Multiplication\n",
        "print(3*5)\n",
        "\n",
        "## Division\n",
        "print(5/2)\n",
        "\n",
        "## Floor Division\n",
        "print(5//2)\n",
        "\n",
        "## Modulus\n",
        "print(5%2)\n",
        "\n",
        "## Exponentiation\n",
        "print(5**2)"
      ],
      "metadata": {
        "colab": {
          "base_uri": "https://localhost:8080/"
        },
        "id": "ojDSmVAsiSCg",
        "outputId": "8bea2f87-dd50-4076-98c3-1e8a03ac8426"
      },
      "execution_count": null,
      "outputs": [
        {
          "output_type": "stream",
          "name": "stdout",
          "text": [
            "8\n",
            "17\n",
            "15\n",
            "2.5\n",
            "2\n",
            "1\n",
            "25\n"
          ]
        }
      ]
    },
    {
      "cell_type": "code",
      "source": [
        "# Comparison Operators\n",
        "\n",
        "## Greater than\n",
        "print(4>5)\n",
        "\n",
        "## Less than\n",
        "print(4<5)\n",
        "\n",
        "## Greater than and equal to\n",
        "print(4>=4)\n",
        "\n",
        "## Less than and equal to\n",
        "print(4<=4)\n",
        "\n",
        "## Equal\n",
        "print(4==4)\n",
        "\n",
        "# Not equal to\n",
        "print(4!=4)"
      ],
      "metadata": {
        "colab": {
          "base_uri": "https://localhost:8080/"
        },
        "id": "vENwM2rZkKXB",
        "outputId": "7510822f-d67b-4c86-efd9-5626b9634481"
      },
      "execution_count": null,
      "outputs": [
        {
          "output_type": "stream",
          "name": "stdout",
          "text": [
            "False\n",
            "True\n",
            "True\n",
            "True\n",
            "True\n",
            "False\n"
          ]
        }
      ]
    },
    {
      "cell_type": "code",
      "source": [
        "# Logical Operators\n",
        "## and \tReturns True if both statements are true\n",
        "print(1 and 0)\n",
        "\n",
        "## or\tReturns True if one of the statements is true\n",
        "print(1 or 0)\n",
        "\n",
        "## not\tReverse the result, returns False if the result is true\n",
        "print(not 1)"
      ],
      "metadata": {
        "colab": {
          "base_uri": "https://localhost:8080/"
        },
        "id": "KFjZLSfIkugz",
        "outputId": "f30b3f7e-74d9-4098-b506-fbe9f3e482e2"
      },
      "execution_count": null,
      "outputs": [
        {
          "output_type": "stream",
          "name": "stdout",
          "text": [
            "0\n",
            "1\n",
            "False\n"
          ]
        }
      ]
    },
    {
      "cell_type": "code",
      "source": [
        "# Bitwise Operators\n",
        "\n",
        "# Decimal numbers and their binary values:\n",
        "# 0 = 0000000000000000\n",
        "# 1 = 0000000000000001\n",
        "# 2 = 0000000000000010\n",
        "# 3 = 0000000000000011\n",
        "# 4 = 0000000000000100\n",
        "# 5 = 0000000000000101\n",
        "# 6 = 0000000000000110\n",
        "# 7 = 0000000000000111\n",
        "\n",
        "## AND:\tSets each bit to 1 if both bits are 1\n",
        "print(6 & 3)\n",
        "\n",
        "## OR: Sets each bit to 1 if one of two bits is 1\n",
        "print(6 | 3)\n",
        "\n",
        "## XOR:\tSets each bit to 1 if only one of two bits is 1\n",
        "print(6 ^ 3)\n",
        "\n",
        "## NOT:\tInverts all the bits\n",
        "print(~ 3)\n",
        "\n",
        "## Zero fill left shift:\tShift left by pushing zeros in from the right and let the leftmost bits fall off\n",
        "print(3 << 2)\n",
        "\n",
        "## \tSigned right shift\tShift right by pushing copies of the leftmost bit in from the left, and let the rightmost bits fall off\n",
        "print(3 >> 2)"
      ],
      "metadata": {
        "colab": {
          "base_uri": "https://localhost:8080/"
        },
        "id": "tpew7-QFmbaT",
        "outputId": "ca1b1f79-d848-4406-f06f-c22dfc7e2008"
      },
      "execution_count": null,
      "outputs": [
        {
          "output_type": "stream",
          "name": "stdout",
          "text": [
            "2\n",
            "7\n",
            "5\n",
            "-4\n",
            "12\n",
            "0\n"
          ]
        }
      ]
    },
    {
      "cell_type": "code",
      "source": [
        "## Assignment Operators\n",
        "\n",
        "x = 5\n",
        "\n",
        "## x = x+3\n",
        "x += 3\n",
        "\n",
        "print(x)"
      ],
      "metadata": {
        "colab": {
          "base_uri": "https://localhost:8080/"
        },
        "id": "paHfz8vdncGA",
        "outputId": "12bd1764-cb82-48ae-b16d-79a3c9e0f9ed"
      },
      "execution_count": null,
      "outputs": [
        {
          "output_type": "stream",
          "name": "stdout",
          "text": [
            "8\n"
          ]
        }
      ]
    },
    {
      "cell_type": "code",
      "source": [
        "# Membership Operators\n",
        "\n",
        "## not in: Returns True if a sequence with the specified value is not present in the object\n",
        "print('A' not in 'Australia')\n",
        "\n",
        "## in: Returns True if a sequence with the specified value is present in the object\n",
        "print(1 in [2,3,4,5,6])"
      ],
      "metadata": {
        "colab": {
          "base_uri": "https://localhost:8080/"
        },
        "id": "2kHaaLB1pDjt",
        "outputId": "e5505ce4-7ed1-4a30-d0b8-4ce7e3467f76"
      },
      "execution_count": null,
      "outputs": [
        {
          "output_type": "stream",
          "name": "stdout",
          "text": [
            "False\n",
            "False\n"
          ]
        }
      ]
    },
    {
      "cell_type": "code",
      "source": [
        "# Challenge: Find the sum of a 3 digit number entered by the user\n",
        "\n",
        "number = int(input('Enter a 3 digit number: '))\n",
        "\n",
        "# 345%10 -> 5\n",
        "a = number%10\n",
        "\n",
        "number=number//10\n",
        "\n",
        "# 345%10 -> 4\n",
        "b = number%10\n",
        "\n",
        "number=number//10\n",
        "\n",
        "# 345%10 -> 3\n",
        "c = number%10\n",
        "\n",
        "print(a + b + c)"
      ],
      "metadata": {
        "colab": {
          "base_uri": "https://localhost:8080/"
        },
        "id": "-kybsIdwqkhK",
        "outputId": "36c96c6b-b582-461f-86d0-ed7ddae519ac"
      },
      "execution_count": null,
      "outputs": [
        {
          "output_type": "stream",
          "name": "stdout",
          "text": [
            "Enter a 3 digit number: 345\n",
            "12\n"
          ]
        }
      ]
    },
    {
      "cell_type": "markdown",
      "source": [
        "# If... Else\n"
      ],
      "metadata": {
        "id": "8ysdJx9qQbkT"
      }
    },
    {
      "cell_type": "code",
      "source": [
        "# An \"if statement\" is written by using the if keyword.\n",
        "\n",
        "a = 33\n",
        "b = 200\n",
        "if b > a:\n",
        "  print(\"b is greater than a\")"
      ],
      "metadata": {
        "colab": {
          "base_uri": "https://localhost:8080/"
        },
        "id": "K2oSqzb_SQFW",
        "outputId": "5ab5de18-ae9d-4463-b963-f9e945c13e06"
      },
      "execution_count": null,
      "outputs": [
        {
          "output_type": "stream",
          "name": "stdout",
          "text": [
            "b is greater than a\n"
          ]
        }
      ]
    },
    {
      "cell_type": "code",
      "source": [
        "# The elif keyword is Python's way of saying \"if the previous conditions were not true, then try this condition\".\n",
        "\n",
        "a = 33\n",
        "b = 33\n",
        "if b > a:\n",
        "  print(\"b is greater than a\")\n",
        "elif a == b:\n",
        "  print(\"a and b are equal\")"
      ],
      "metadata": {
        "colab": {
          "base_uri": "https://localhost:8080/"
        },
        "id": "xuvh6Fn0Sa74",
        "outputId": "96cb0f8e-09aa-4897-f85b-b439bd149909"
      },
      "execution_count": null,
      "outputs": [
        {
          "output_type": "stream",
          "name": "stdout",
          "text": [
            "a and b are equal\n"
          ]
        }
      ]
    },
    {
      "cell_type": "code",
      "source": [
        "# The else keyword catches anything which isn't caught by the preceding conditions.\n",
        "a = 200\n",
        "b = 33\n",
        "if b > a:\n",
        "  print(\"b is greater than a\")\n",
        "elif a == b:\n",
        "  print(\"a and b are equal\")\n",
        "else:\n",
        "  print(\"a is greater than b\")"
      ],
      "metadata": {
        "colab": {
          "base_uri": "https://localhost:8080/"
        },
        "id": "1xBV2VswSg08",
        "outputId": "2b56b81b-1831-4303-f3e9-dc635fd37d7c"
      },
      "execution_count": null,
      "outputs": [
        {
          "output_type": "stream",
          "name": "stdout",
          "text": [
            "a is greater than b\n"
          ]
        }
      ]
    },
    {
      "cell_type": "code",
      "source": [
        "# Nested If statements: You can have if statements inside if statements.\n",
        "\n",
        "x = 50\n",
        "\n",
        "if x > 10:\n",
        "  print(\"Above ten,\")\n",
        "  if x > 20:\n",
        "    print(\"and also above 20!\")\n",
        "  else:\n",
        "    print(\"but not above 20.\")\n"
      ],
      "metadata": {
        "id": "nZjn5Pw5TXoy",
        "colab": {
          "base_uri": "https://localhost:8080/"
        },
        "outputId": "9128b920-36e1-4aee-f565-73fd13d46645"
      },
      "execution_count": 4,
      "outputs": [
        {
          "output_type": "stream",
          "name": "stdout",
          "text": [
            "Above ten,\n",
            "and also above 20!\n"
          ]
        }
      ]
    },
    {
      "cell_type": "markdown",
      "source": [
        "### Find the minimum of 3 given numbers(given by user)"
      ],
      "metadata": {
        "id": "Wiv4oj25W557"
      }
    },
    {
      "cell_type": "code",
      "source": [
        "# min of 3 number\n",
        "\n",
        "a = int(input('Enter the first number: '))\n",
        "b = int(input('Enter the second number: '))\n",
        "c = int(input('Enter the third number: '))\n",
        "\n",
        "if a<b and a<c:\n",
        "  print('Smallest number is ',a)\n",
        "elif b<c:\n",
        "  print('Smallest number is ',b)\n",
        "else:\n",
        "  print('Smallest number is ',c)"
      ],
      "metadata": {
        "id": "ihszODXYW5Nq"
      },
      "execution_count": null,
      "outputs": []
    },
    {
      "cell_type": "markdown",
      "source": [
        "### Menu Driven Calculator\n"
      ],
      "metadata": {
        "id": "4fu10rGIXign"
      }
    },
    {
      "cell_type": "code",
      "source": [
        "fnum = int(input(\"Enter the first number: \"))\n",
        "snum = int(input(\"Enter the second number: \"))\n",
        "\n",
        "op = input(\"Enter the operation: \")\n",
        "\n",
        "if op == \"+\":\n",
        "  print(fnum+snum)\n",
        "elif op == \"-\":\n",
        "  print(fnum-snum)\n",
        "elif op == \"*\":\n",
        "  print(fnum*snum)\n",
        "else:\n",
        "  print(fnum/snum)"
      ],
      "metadata": {
        "id": "DqwQZYp1Qf65",
        "colab": {
          "base_uri": "https://localhost:8080/"
        },
        "outputId": "04a0a176-d9d0-4838-cb9d-4c6d8aa50d00"
      },
      "execution_count": 5,
      "outputs": [
        {
          "output_type": "stream",
          "name": "stdout",
          "text": [
            "Enter the first number: 5\n",
            "Enter the second number: 2\n",
            "Enter the operation: /\n",
            "2.5\n"
          ]
        }
      ]
    },
    {
      "cell_type": "markdown",
      "source": [
        "# Module\n",
        "\n",
        "Consider a module to be the same as a code library. Basically, it is a file containing a set of functions you want to include in your application."
      ],
      "metadata": {
        "id": "KTMBh3MVHgnV"
      }
    },
    {
      "cell_type": "code",
      "source": [
        "# Math Module\n",
        "# Python has a set of built-in math functions, including an extensive math module, that allows you to perform mathematical tasks on numbers\n",
        "\n",
        "import math\n",
        "print(math.sqrt(196))"
      ],
      "metadata": {
        "colab": {
          "base_uri": "https://localhost:8080/"
        },
        "id": "Gr0IlKYMYSjY",
        "outputId": "8742205a-5a80-4bad-e8de-8e642062d752"
      },
      "execution_count": 1,
      "outputs": [
        {
          "output_type": "stream",
          "name": "stdout",
          "text": [
            "14.0\n"
          ]
        }
      ]
    },
    {
      "cell_type": "code",
      "source": [
        "# keyword\n",
        "import keyword\n",
        "print(keyword.kwlist)"
      ],
      "metadata": {
        "colab": {
          "base_uri": "https://localhost:8080/"
        },
        "id": "EW-KAHTSIerC",
        "outputId": "780f56cd-d895-470b-eb4c-93dac00e7024"
      },
      "execution_count": 2,
      "outputs": [
        {
          "output_type": "stream",
          "name": "stdout",
          "text": [
            "['False', 'None', 'True', 'and', 'as', 'assert', 'async', 'await', 'break', 'class', 'continue', 'def', 'del', 'elif', 'else', 'except', 'finally', 'for', 'from', 'global', 'if', 'import', 'in', 'is', 'lambda', 'nonlocal', 'not', 'or', 'pass', 'raise', 'return', 'try', 'while', 'with', 'yield']\n"
          ]
        }
      ]
    },
    {
      "cell_type": "code",
      "source": [
        "# random\n",
        "import random\n",
        "print(random.randint(1,100))"
      ],
      "metadata": {
        "colab": {
          "base_uri": "https://localhost:8080/"
        },
        "id": "f2MCAsUFIoiK",
        "outputId": "96586e5e-1bcc-4bee-cf4e-56668f378c9c"
      },
      "execution_count": 3,
      "outputs": [
        {
          "output_type": "stream",
          "name": "stdout",
          "text": [
            "95\n"
          ]
        }
      ]
    },
    {
      "cell_type": "code",
      "source": [
        "# datetime\n",
        "import datetime\n",
        "\n",
        "x = datetime.datetime.now()\n",
        "print(x)"
      ],
      "metadata": {
        "colab": {
          "base_uri": "https://localhost:8080/"
        },
        "id": "PbNn-JzoI1HW",
        "outputId": "f13d13b6-cc12-4f3e-87dd-6368eeef1e29"
      },
      "execution_count": 4,
      "outputs": [
        {
          "output_type": "stream",
          "name": "stdout",
          "text": [
            "2024-08-26 05:23:34.906982\n"
          ]
        }
      ]
    },
    {
      "cell_type": "code",
      "source": [
        "help('modules')"
      ],
      "metadata": {
        "colab": {
          "base_uri": "https://localhost:8080/",
          "height": 1000
        },
        "id": "AcQ9iQoKJAqh",
        "outputId": "5daaeaad-b02c-45a2-b2ac-05863fc950d7"
      },
      "execution_count": 8,
      "outputs": [
        {
          "output_type": "stream",
          "name": "stderr",
          "text": [
            "/usr/local/lib/python3.10/dist-packages/ipykernel/ipkernel.py:283: DeprecationWarning: `should_run_async` will not call `transform_cell` automatically in the future. Please pass the result to `transformed_cell` argument and any exception that happen during thetransform in `preprocessing_exc_tuple` in IPython 7.17 and above.\n"
          ]
        },
        {
          "output_type": "display_data",
          "data": {
            "text/plain": [
              "<IPython.core.display.HTML object>"
            ],
            "text/html": [
              "\n",
              "            <style>\n",
              "                .geemap-dark {\n",
              "                    --jp-widgets-color: white;\n",
              "                    --jp-widgets-label-color: white;\n",
              "                    --jp-ui-font-color1: white;\n",
              "                    --jp-layout-color2: #454545;\n",
              "                    background-color: #383838;\n",
              "                }\n",
              "\n",
              "                .geemap-dark .jupyter-button {\n",
              "                    --jp-layout-color3: #383838;\n",
              "                }\n",
              "\n",
              "                .geemap-colab {\n",
              "                    background-color: var(--colab-primary-surface-color, white);\n",
              "                }\n",
              "\n",
              "                .geemap-colab .jupyter-button {\n",
              "                    --jp-layout-color3: var(--colab-primary-surface-color, white);\n",
              "                }\n",
              "            </style>\n",
              "            "
            ]
          },
          "metadata": {}
        },
        {
          "output_type": "stream",
          "name": "stdout",
          "text": [
            "\n",
            "Please wait a moment while I gather a list of all available modules...\n",
            "\n"
          ]
        },
        {
          "output_type": "stream",
          "name": "stderr",
          "text": [
            "/usr/local/lib/python3.10/dist-packages/cudf/utils/_ptxcompiler.py:61: UserWarning: Error getting driver and runtime versions:\n",
            "\n",
            "stdout:\n",
            "\n",
            "\n",
            "\n",
            "stderr:\n",
            "\n",
            "Traceback (most recent call last):\n",
            "  File \"<string>\", line 4, in <module>\n",
            "  File \"/usr/local/lib/python3.10/dist-packages/numba/cuda/cudadrv/driver.py\", line 295, in __getattr__\n",
            "    raise CudaSupportError(\"Error at driver init: \\n%s:\" %\n",
            "numba.cuda.cudadrv.error.CudaSupportError: Error at driver init: \n",
            "\n",
            "CUDA driver library cannot be found.\n",
            "If you are sure that a CUDA driver is installed,\n",
            "try setting environment variable NUMBA_CUDA_DRIVER\n",
            "with the file path of the CUDA driver shared library.\n",
            ":\n",
            "\n",
            "\n",
            "Not patching Numba\n",
            "/usr/local/lib/python3.10/dist-packages/cudf/utils/gpu_utils.py:62: UserWarning: Function \"cuInit\" not found\n",
            "/usr/lib/python3.10/pkgutil.py:107: VisibleDeprecationWarning: zmq.eventloop.minitornado is deprecated in pyzmq 14.0 and will be removed.\n",
            "    Install tornado itself to use zmq with the tornado IOLoop.\n",
            "    \n"
          ]
        },
        {
          "output_type": "stream",
          "name": "stdout",
          "text": [
            "Cython              community           jwt                 rmagic\n",
            "IPython             compileall          kaggle              rmm\n",
            "OpenGL              concurrent          kagglehub           rpds\n",
            "OpenSSL             confection          kanren              rpy2\n",
            "PIL                 configparser        keras               rsa\n",
            "__future__          cons                key                 run_tests__tests\n",
            "__main__            constants           key_test            runpy\n",
            "__pyinstaller       constants_test      keyring             rwobject\n",
            "_abc                contextlib          keyword             rwobject_test\n",
            "_aix_support        contextlib2         kiwisolver          safetensors\n",
            "_argon2_cffi_bindings contextvars         langcodes           sched\n",
            "_ast                contourpy           language_data       scipy\n",
            "_asyncio            controller_test     launchpadlib        scooby\n",
            "_bisect             copy                lazy_loader         scrap\n",
            "_blake2             copyreg             lib2to3             scrap_tags\n",
            "_bootsubprocess     cpuinfo             libfuturize         scrap_test\n",
            "_bz2                crypt               libpasteurize       scs\n",
            "_camera             cryptography        librosa             seaborn\n",
            "_camera_opencv      csv                 lightgbm            secrets\n",
            "_camera_vidcapture  ctypes              linecache           secretstorage\n",
            "_cffi_backend       cuda                linkify_it          select\n",
            "_codecs             cudf                llvmlite            selectors\n",
            "_codecs_cn          cufflinks           locale              send2trash\n",
            "_codecs_hk          cupy                locals              sentencepiece\n",
            "_codecs_iso2022     cupy_backends       locals_test         setup\n",
            "_codecs_jp          cupyx               locket              setuptools\n",
            "_codecs_kr          curses              logging             shapefile\n",
            "_codecs_tw          cursors             lsb_release         shapely\n",
            "_collections        cursors_test        lxml                shellingham\n",
            "_collections_abc    cv2                 lzma                shelve\n",
            "_compat_pickle      cvxopt              macosx              shlex\n",
            "_compression        cvxpy               mailbox             shutil\n",
            "_contextvars        cycler              mailcap             signal\n",
            "_crypt              cymem               malloy              simple_parsing\n",
            "_csv                cython              marisa_trie         site\n",
            "_ctypes             cythonmagic         markdown            sitecustomize\n",
            "_ctypes_test        dask                markdown_it         six\n",
            "_curses             dataclasses         markupsafe          skimage\n",
            "_curses_panel       datascience         marshal             sklearn\n",
            "_cvxcore            datetime            mask                sklearn_pandas\n",
            "_cvxpy_sparsecholesky dateutil            mask_test           slugify\n",
            "_datetime           db_dtypes           math                smart_open\n",
            "_dbm                dbm                 math_test           smtpd\n",
            "_dbus_bindings      dbus                matplotlib          smtplib\n",
            "_dbus_glib_bindings debugpy             matplotlib_inline   sndarray\n",
            "_decimal            decimal             matplotlib_venn     sndarray_tags\n",
            "_distutils_hack     decorator           mdit_py_plugins     sndarray_test\n",
            "_distutils_system_mod defusedxml          mdurl               sndhdr\n",
            "_dlib_pybind11      difflib             midi                sniffio\n",
            "_ecos               dis                 midi_test           snowballstemmer\n",
            "_elementtree        display             mimetypes           socket\n",
            "_freetype           display_test        missingno           socketserver\n",
            "_functools          distributed         mistune             socks\n",
            "_hashlib            distro              mixer               sockshandler\n",
            "_heapq              distutils           mixer_music         softwareproperties\n",
            "_hypothesis_ftz_detector dlib                mixer_music_tags    sortedcontainers\n",
            "_hypothesis_globals docs_test           mixer_music_test    soundfile\n",
            "_hypothesis_pytestplugin docstring_parser    mixer_tags          soupsieve\n",
            "_imp                doctest             mixer_test          soxr\n",
            "_io                 docutils            mizani              spacy\n",
            "_json               dopamine            ml_dtypes           spacy_legacy\n",
            "_locale             dot_parser          mlxtend             spacy_loggers\n",
            "_lsprof             draw                mmap                sphinx\n",
            "_lzma               draw_py             modulefinder        sprite\n",
            "_markupbase         draw_test           more_itertools      sprite_test\n",
            "_md5                duckdb              mouse               spwd\n",
            "_multibytecodec     easydict            mouse_test          sql\n",
            "_multiprocessing    ecos                moviepy             sqlalchemy\n",
            "_opcode             editdistance        mpmath              sqlglot\n",
            "_operator           ee                  msgpack             sqlite3\n",
            "_osx_support        eerepr              multidict           sqlparse\n",
            "_pickle             einops              multipledispatch    sre_compile\n",
            "_plotly_future_     email               multiprocessing     sre_constants\n",
            "_plotly_utils       en_core_web_sm      multitasking        sre_parse\n",
            "_posixshmem         encodings           murmurhash          srsly\n",
            "_posixsubprocess    entrypoints         music21             ssl\n",
            "_py_abc             enum                namex               stanio\n",
            "_pydecimal          erfa                natsort             stat\n",
            "_pyio               errno               nbclassic           statistics\n",
            "_pytest             et_xmlfile          nbclient            statsmodels\n",
            "_queue              etils               nbconvert           storemagic\n",
            "_random             etuples             nbformat            strenum\n",
            "_remote_module_non_scriptable eval_type_backport  nest_asyncio        string\n",
            "_rinterface_cffi_abi event               netrc               stringprep\n",
            "_rinterface_cffi_api event_test          networkx            struct\n",
            "_scs_direct         examples            newbuffer           subprocess\n",
            "_scs_indirect       exceptiongroup      nibabel             sunau\n",
            "_sdl2               fastai              nis                 surface\n",
            "_sha1               fastcore            nisext              surface_test\n",
            "_sha256             fastdownload        nltk                surfarray\n",
            "_sha3               fastevent           nntplib             surfarray_tags\n",
            "_sha512             fastjsonschema      notebook            surfarray_test\n",
            "_signal             fastprogress        notebook_shim       surflock\n",
            "_sitebuiltins       fastrlock           ntpath              surflock_test\n",
            "_socket             faulthandler        nturl2path          sympy\n",
            "_soundfile          fcntl               numba               sympyprinting\n",
            "_soundfile_data     filecmp             numbergen           symtable\n",
            "_sprite             fileinput           numbers             sys\n",
            "_sqlite3            filelock            numexpr             sysconfig\n",
            "_sre                fiona               numpy               sysfont\n",
            "_ssl                firebase_admin      nvtx                sysfont_test\n",
            "_stat               flask               oauth2client        syslog\n",
            "_statistics         flatbuffers         oauthlib            tables\n",
            "_string             flax                opcode              tabnanny\n",
            "_strptime           fnmatch             openpyxl            tabulate\n",
            "_struct             folium              operator            tarfile\n",
            "_symtable           font                opt_einsum          tblib\n",
            "_sysconfigdata__linux_x86_64-linux-gnu fontTools           optax               telnetlib\n",
            "_sysconfigdata__x86_64-linux-gnu font_test           optparse            tempfile\n",
            "_testbuffer         fractions           optree              tenacity\n",
            "_testcapi           freetype            ordered_set         tensorboard\n",
            "_testclinic         freetype_tags       os                  tensorboard_data_server\n",
            "_testimportmultiple freetype_test       osgeo               tensorflow\n",
            "_testinternalcapi   frozendict          osgeo_utils         tensorflow_datasets\n",
            "_testmultiphase     frozenlist          osqp                tensorflow_hub\n",
            "_thread             fsspec              osqppurepy          tensorflow_io_gcs_filesystem\n",
            "_threading_local    ftfont              ossaudiodev         tensorflow_metadata\n",
            "_tkinter            ftfont_tags         packaging           tensorflow_probability\n",
            "_tracemalloc        ftfont_test         pandas              tensorstore\n",
            "_uuid               ftplib              pandas_datareader   termcolor\n",
            "_warnings           functools           pandas_gbq          terminado\n",
            "_weakref            functorch           pandocfilters       termios\n",
            "_weakrefset         future              panel               test\n",
            "_xxsubinterpreters  gast                param               test_utils\n",
            "_xxtestfuzz         gc                  parso               tests\n",
            "_yaml               gcsfs               parsy               text_unidecode\n",
            "_zoneinfo           gdown               partd               textblob\n",
            "abc                 geemap              past                textwrap\n",
            "absl                genericpath         pasta               tf_keras\n",
            "accelerate          gensim              pathlib             tf_slim\n",
            "adbc_driver_duckdb  geocoder            patsy               thinc\n",
            "aifc                geographiclib       pdb                 this\n",
            "aiohappyeyeballs    geopandas           peewee              threading\n",
            "aiohttp             geopy               pexpect             threadpoolctl\n",
            "aiosignal           getopt              pickle              threads\n",
            "alabaster           getpass             pickleshare         threads_test\n",
            "albucore            gettext             pickletools         tifffile\n",
            "albumentations      gfxdraw             pip                 time\n",
            "altair              gfxdraw_test        pipes               time_test\n",
            "annotated_types     gi                  piptools            timeit\n",
            "antigravity         gin                 pixelarray          tinycss2\n",
            "anyio               glob                pixelarray_test     tkinter\n",
            "apiclient           glob2               pixelcopy           tlz\n",
            "apt                 google              pixelcopy_test      token\n",
            "apt_inst            google_auth_httplib2 pkg_resources       tokenize\n",
            "apt_pkg             google_auth_oauthlib pkgdata             tokenizers\n",
            "aptsources          google_crc32c       pkgutil             toml\n",
            "argon2              google_drive_downloader platform            tomli\n",
            "argparse            googleapiclient     platformdirs        tomlkit\n",
            "array               googlesearch        playhouse           toolz\n",
            "array_record        graphlib            plistlib            torch\n",
            "arviz               graphviz            plotly              torchaudio\n",
            "asn1crypto          greenlet            plotnine            torchgen\n",
            "ast                 grp                 pluggy              torchsummary\n",
            "astropy             grpc                polars              torchtext\n",
            "astropy_iers_data   grpc_status         pooch               torchvision\n",
            "astunparse          gspread             poplib              torio\n",
            "async_timeout       gspread_dataframe   portpicker          tornado\n",
            "asynchat            gym                 posix               touch_test\n",
            "asyncio             gym_notices         posixpath           tqdm\n",
            "asyncore            gzip                pprint              trace\n",
            "atexit              h5netcdf            prefetch_generator  traceback\n",
            "attr                h5py                preshed             tracemalloc\n",
            "attrs               hashlib             prettytable         traitlets\n",
            "audioop             heapq               profile             traittypes\n",
            "audioread           hmac                proglog             transform\n",
            "autocommand         holidays            progressbar         transform_test\n",
            "autograd            holoviews           prometheus_client   transformers\n",
            "autoreload          html                promise             tree\n",
            "babel               html5lib            prompt_toolkit      triton\n",
            "backcall            http                prophet             tty\n",
            "backports           httpimport          proto               turtle\n",
            "base                httplib2            pstats              tweepy\n",
            "base64              huggingface_hub     psutil              typeguard\n",
            "base_test           humanize            psycopg2            typer\n",
            "bdb                 hyperopt            pty                 types\n",
            "bidict              hypothesis          ptyprocess          typing\n",
            "bigframes           ibis                public              typing_extensions\n",
            "bigframes_vendored  idna                pwd                 tzdata\n",
            "bin                 image               pwiz                tzlocal\n",
            "binascii            image__save_gl_surface_test py                  uc_micro\n",
            "binhex              image_tags          py4j                unicodedata\n",
            "bisect              image_test          py_compile          unification\n",
            "bleach              imageext            pyarrow             unittest\n",
            "blinker             imageext_tags       pyarrow_hotfix      uritemplate\n",
            "blis                imageext_test       pyasn1              urllib\n",
            "blit_test           imageio             pyasn1_modules      urllib3\n",
            "blosc2              imageio_ffmpeg      pyclbr              uu\n",
            "bokeh               imagesize           pycocotools         uuid\n",
            "boost               imaplib             pycparser           vega_datasets\n",
            "box                 imblearn            pydantic            venv\n",
            "bqplot              imgaug              pydantic_core       version\n",
            "branca              imghdr              pydata_google_auth  version_test\n",
            "bs4                 immutabledict       pydoc               vertex_ray\n",
            "bufferproxy         imp                 pydoc_data          vertexai\n",
            "bufferproxy_test    importlib           pydot               video_test\n",
            "build               importlib_metadata  pydot_ng            wadllib\n",
            "builtins            importlib_resources pydotplus           warnings\n",
            "bz2                 imutils             pydrive             wasabi\n",
            "cProfile            inflect             pydrive2            wave\n",
            "cachecontrol        iniconfig           pyexpat             wcwidth\n",
            "cachetools          inspect             pygame              weakref\n",
            "calendar            io                  pygments            weasel\n",
            "camera              ipaddress           pygtkcompat         webbrowser\n",
            "camera_test         ipyevents           pylab               webcolors\n",
            "catalogue           ipyfilechooser      pymc                webencodings\n",
            "certifi             ipykernel           pymystem3           websocket\n",
            "cffi                ipykernel_launcher  pynvjitlink         werkzeug\n",
            "cgi                 ipyleaflet          pyparsing           wheel\n",
            "cgitb               ipyparallel         pyperclip           widgetsnbextension\n",
            "chardet             ipython_genutils    pypm                wordcloud\n",
            "charset_normalizer  ipytree             pyproj              wrapt\n",
            "chex                ipywidgets          pyproject_hooks     wsgiref\n",
            "chunk               isympy              pytensor            xarray\n",
            "clang               itertools           pytest              xarray_einstats\n",
            "clarabel            itsdangerous        python_utils        xdrlib\n",
            "click               jax                 pytz                xgboost\n",
            "click_plugins       jaxlib              pyviz_comms         xlrd\n",
            "cligj               jeepney             pyximport           xml\n",
            "cloudpathlib        jellyfish           qdldl               xmlrpc\n",
            "cloudpickle         jieba               queue               xxlimited\n",
            "cmake               jinja2              quopri              xxlimited_35\n",
            "cmath               joblib              random              xxsubtype\n",
            "cmd                 joystick            ratelim             xyzservices\n",
            "cmdstanpy           joystick_test       re                  yaml\n",
            "code                json                readline            yarl\n",
            "codecs              jsonpickle          rect                yellowbrick\n",
            "codeop              jsonschema          rect_test           yfinance\n",
            "colab_kernel_launcher jsonschema_specifications referencing         zict\n",
            "collections         jupyter             regex               zipapp\n",
            "color               jupyter_client      reprlib             zipfile\n",
            "color_test          jupyter_console     requests            zipimport\n",
            "colorcet            jupyter_core        requests_oauthlib   zipp\n",
            "colordict           jupyter_server      requirements        zlib\n",
            "colorlover          jupyterlab_plotly   resource            zmq\n",
            "colorsys            jupyterlab_pygments rich                zoneinfo\n",
            "colour              jupyterlab_widgets  rlcompleter         \n",
            "\n",
            "Enter any module name to get more help.  Or, type \"modules spam\" to search\n",
            "for modules whose name or summary contain the string \"spam\".\n",
            "\n"
          ]
        }
      ]
    },
    {
      "cell_type": "markdown",
      "source": [
        "# While loops\n",
        "With the while loop we can execute a set of statements as long as a condition is true."
      ],
      "metadata": {
        "id": "riJ8HPnn0ENo"
      }
    },
    {
      "cell_type": "code",
      "source": [
        "# The while loop requires relevant variables to be ready, in this we need to define an indexing variable, i, which we set to 1.\n",
        "i = 1\n",
        "\n",
        "# remember to increment i, or else the loop will continue forever.\n",
        "while i < 6:\n",
        "  print(i)\n",
        "  i += 1"
      ],
      "metadata": {
        "colab": {
          "base_uri": "https://localhost:8080/"
        },
        "id": "jUtWKrbzKSNT",
        "outputId": "c0596684-cb85-4d00-c1ac-639ef9f38bde"
      },
      "execution_count": 1,
      "outputs": [
        {
          "output_type": "stream",
          "name": "stdout",
          "text": [
            "1\n",
            "2\n",
            "3\n",
            "4\n",
            "5\n"
          ]
        }
      ]
    },
    {
      "cell_type": "code",
      "source": [
        "## Write a program to print the table of the number, entered by user\n",
        "\n",
        "number = int(input('Enter the number: '))\n",
        "\n",
        "i = 1\n",
        "\n",
        "while i<11:\n",
        "  print(number,'*',i,'=',number * i)\n",
        "  i += 1"
      ],
      "metadata": {
        "colab": {
          "base_uri": "https://localhost:8080/"
        },
        "id": "X5OwkM0a1QL2",
        "outputId": "577cdcb8-6d81-4b6f-941c-3ba7f1a654db"
      },
      "execution_count": 3,
      "outputs": [
        {
          "output_type": "stream",
          "name": "stdout",
          "text": [
            "Enter the number: 14\n",
            "14 * 1 = 14\n",
            "14 * 2 = 28\n",
            "14 * 3 = 42\n",
            "14 * 4 = 56\n",
            "14 * 5 = 70\n",
            "14 * 6 = 84\n",
            "14 * 7 = 98\n",
            "14 * 8 = 112\n",
            "14 * 9 = 126\n",
            "14 * 10 = 140\n"
          ]
        }
      ]
    },
    {
      "cell_type": "code",
      "source": [
        "# While loop with else.\n",
        "\n",
        "i = 1\n",
        "while i < 4:\n",
        "  print(i)\n",
        "  i += 1\n",
        "else:\n",
        "  print(\"i is no longer less than 4\")"
      ],
      "metadata": {
        "colab": {
          "base_uri": "https://localhost:8080/"
        },
        "id": "olyKGE0r16UO",
        "outputId": "10347a11-0b77-4a9b-c397-77c0c03eb54e"
      },
      "execution_count": 4,
      "outputs": [
        {
          "output_type": "stream",
          "name": "stdout",
          "text": [
            "1\n",
            "2\n",
            "3\n",
            "i is no longer less than 4\n"
          ]
        }
      ]
    },
    {
      "cell_type": "code",
      "source": [
        "## Number guessing game\n",
        "\n",
        "import random\n",
        "lucky_num = random.randint(1,100)\n",
        "\n",
        "guess_num = int(input(\"Guess the number: \"))\n",
        "count_attempts = 1\n",
        "\n",
        "while lucky_num != guess_num:\n",
        "  if lucky_num < guess_num:\n",
        "    print(\"It's wrong! Guess LOWER\")\n",
        "  else:\n",
        "    print(\"It's wrong! Guess HIGHER\")\n",
        "\n",
        "  guess_num = int(input(\"Guess the number: \"))\n",
        "  count_attempts += 1\n",
        "\n",
        "else:\n",
        "  print(\"Yeah! You are right\")\n",
        "  print(\"No. of attempts: \", count_attempts)\n"
      ],
      "metadata": {
        "colab": {
          "base_uri": "https://localhost:8080/"
        },
        "id": "3xy5v7D_2GyX",
        "outputId": "70724ed5-7238-4158-9948-c5711a7f2505"
      },
      "execution_count": 8,
      "outputs": [
        {
          "output_type": "stream",
          "name": "stdout",
          "text": [
            "Guess the number: 45\n",
            "It's wrong! Guess HIGHER\n",
            "Guess the number: 60\n",
            "It's wrong! Guess HIGHER\n",
            "Guess the number: 70\n",
            "It's wrong! Guess LOWER\n",
            "Guess the number: 65\n",
            "Yeah! You are right\n",
            "No. of attempts:  4\n"
          ]
        }
      ]
    },
    {
      "cell_type": "markdown",
      "source": [
        "# For loop\n",
        "\n",
        "A for loop is used for iterating over a sequence (that is either a list, a tuple, a dictionary, a set, or a string).\n",
        "\n"
      ],
      "metadata": {
        "id": "I0gKUygT5R1D"
      }
    },
    {
      "cell_type": "code",
      "source": [
        "fruits = [\"apple\", \"banana\", \"cherry\"]\n",
        "for x in fruits:\n",
        "  print(x)"
      ],
      "metadata": {
        "colab": {
          "base_uri": "https://localhost:8080/"
        },
        "id": "nQtefN7C5UcM",
        "outputId": "074b2f3d-4578-43df-d820-eb90da5c9c08"
      },
      "execution_count": 9,
      "outputs": [
        {
          "output_type": "stream",
          "name": "stdout",
          "text": [
            "apple\n",
            "banana\n",
            "cherry\n"
          ]
        }
      ]
    },
    {
      "cell_type": "code",
      "source": [
        "for i in range(1,10):\n",
        "  print(i)"
      ],
      "metadata": {
        "colab": {
          "base_uri": "https://localhost:8080/"
        },
        "id": "Lnf16L7c5dEl",
        "outputId": "91f4bde4-0949-4ea4-d960-a66ecd71b515"
      },
      "execution_count": 10,
      "outputs": [
        {
          "output_type": "stream",
          "name": "stdout",
          "text": [
            "1\n",
            "2\n",
            "3\n",
            "4\n",
            "5\n",
            "6\n",
            "7\n",
            "8\n",
            "9\n"
          ]
        }
      ]
    },
    {
      "cell_type": "code",
      "source": [
        "for i in \"apple\":\n",
        "  print(i)"
      ],
      "metadata": {
        "colab": {
          "base_uri": "https://localhost:8080/"
        },
        "id": "IPsQl0-J5hfB",
        "outputId": "4a325ebc-bc56-4dd8-a136-8141146980b1"
      },
      "execution_count": 11,
      "outputs": [
        {
          "output_type": "stream",
          "name": "stdout",
          "text": [
            "a\n",
            "p\n",
            "p\n",
            "l\n",
            "e\n"
          ]
        }
      ]
    },
    {
      "cell_type": "markdown",
      "source": [
        "#### Write a program. The current population of a town is 10000. The population of the town is increasing at the rate of 10% per year. You have to write a program to find out the population at the end of each of the last 10 years."
      ],
      "metadata": {
        "id": "s3I9kiqZ9hme"
      }
    },
    {
      "cell_type": "code",
      "source": [
        "curr_pop = 10000\n",
        "\n",
        "for i in range(10,0,-1):\n",
        "  print(\"The population in year\", i, \"is\",curr_pop)\n",
        "  curr_pop = curr_pop - 0.1*curr_pop"
      ],
      "metadata": {
        "colab": {
          "base_uri": "https://localhost:8080/"
        },
        "id": "veNbZdEN50Vp",
        "outputId": "5c5b0f92-3ef3-4102-807f-889b0e48a7ea"
      },
      "execution_count": 14,
      "outputs": [
        {
          "output_type": "stream",
          "name": "stdout",
          "text": [
            "The population in year 10 is 10000\n",
            "The population in year 9 is 9000.0\n",
            "The population in year 8 is 8100.0\n",
            "The population in year 7 is 7290.0\n",
            "The population in year 6 is 6561.0\n",
            "The population in year 5 is 5904.9\n",
            "The population in year 4 is 5314.41\n",
            "The population in year 3 is 4782.969\n",
            "The population in year 2 is 4304.6721\n",
            "The population in year 1 is 3874.20489\n"
          ]
        }
      ]
    }
  ]
}