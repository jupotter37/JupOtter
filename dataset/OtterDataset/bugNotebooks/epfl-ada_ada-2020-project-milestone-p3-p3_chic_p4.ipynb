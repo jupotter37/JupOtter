{
 "cells": [
  {
   "cell_type": "markdown",
   "metadata": {},
   "source": [
    "# An analysis of friendships and betrayals using the online game \"Diplomacy\"\n",
    "\n",
    "> Arthur Bricq, Dianne Marquette, Taavet Kangur\n",
    "\n",
    "This notebook presents the work done on a big dataset of about 22'000 Diplomacy games. It contains the following sections :\n",
    "- **I**. Introduction to Diplomacy\n",
    "- **II**. Discovering the dataset\n",
    "- **III**. A little data pre-processing won't hurt us\n",
    "- **IV**. Friendships and Betrayals\n",
    "- **V**. Data Generation for later analysis\n",
    "- **VI**. Machine Learning Analysis: can we predict betrayals using game features and a simple classifier ?\n",
    "- **VII**. Data story plots "
   ]
  },
  {
   "cell_type": "markdown",
   "metadata": {},
   "source": [
    "## 0. Reading the data\n",
    "\n",
    "In this section, we explain how to read the dataset. \n",
    "\n",
    "Our dataset can be found [here](https://data.world/maxstrange/diplomacyboardgame).\n",
    "\n",
    "During our analysis, we realized that 'units' have a duplication problem. For several games, all units were replicated. Hence, we remove those. By precaution, we also remove duplicates for orders and for turns. "
   ]
  },
  {
   "cell_type": "code",
   "execution_count": 1,
   "metadata": {},
   "outputs": [],
   "source": [
    "import pandas as pd\n",
    "import time\n",
    "from collections import deque\n",
    "import numpy as np\n",
    "import matplotlib.pyplot as plt\n",
    "pd.options.mode.chained_assignment = None\n",
    "\n",
    "# constant to save plots\n",
    "SAVE_PLOT = True"
   ]
  },
  {
   "cell_type": "code",
   "execution_count": 2,
   "metadata": {},
   "outputs": [],
   "source": [
    "# read dataframes\n",
    "all_games = pd.read_pickle(\"data/games.pkl\")\n",
    "all_orders = pd.read_pickle(\"data/orders.pkl\")\n",
    "all_players = pd.read_pickle(\"data/players.pkl\")\n",
    "all_turns = pd.read_pickle(\"data/turns.pkl\")\n",
    "all_units = pd.read_pickle(\"data/units.pkl\")\n",
    "\n",
    "# remove duplicates\n",
    "all_units = all_units.drop_duplicates()"
   ]
  },
  {
   "cell_type": "code",
   "execution_count": 3,
   "metadata": {},
   "outputs": [
    {
     "data": {
      "text/html": [
       "<div>\n",
       "<style scoped>\n",
       "    .dataframe tbody tr th:only-of-type {\n",
       "        vertical-align: middle;\n",
       "    }\n",
       "\n",
       "    .dataframe tbody tr th {\n",
       "        vertical-align: top;\n",
       "    }\n",
       "\n",
       "    .dataframe thead th {\n",
       "        text-align: right;\n",
       "    }\n",
       "</style>\n",
       "<table border=\"1\" class=\"dataframe\">\n",
       "  <thead>\n",
       "    <tr style=\"text-align: right;\">\n",
       "      <th></th>\n",
       "      <th>id</th>\n",
       "      <th>num_turns</th>\n",
       "      <th>num_players</th>\n",
       "    </tr>\n",
       "  </thead>\n",
       "  <tbody>\n",
       "    <tr>\n",
       "      <th>0</th>\n",
       "      <td>37317</td>\n",
       "      <td>166</td>\n",
       "      <td>7</td>\n",
       "    </tr>\n",
       "    <tr>\n",
       "      <th>1</th>\n",
       "      <td>37604</td>\n",
       "      <td>51</td>\n",
       "      <td>7</td>\n",
       "    </tr>\n",
       "    <tr>\n",
       "      <th>2</th>\n",
       "      <td>39337</td>\n",
       "      <td>101</td>\n",
       "      <td>7</td>\n",
       "    </tr>\n",
       "  </tbody>\n",
       "</table>\n",
       "</div>"
      ],
      "text/plain": [
       "      id  num_turns  num_players\n",
       "0  37317        166            7\n",
       "1  37604         51            7\n",
       "2  39337        101            7"
      ]
     },
     "execution_count": 3,
     "metadata": {},
     "output_type": "execute_result"
    }
   ],
   "source": [
    "all_games.head(3)"
   ]
  },
  {
   "cell_type": "markdown",
   "metadata": {},
   "source": [
    "# I. Introduction to Diplomacy.\n",
    "\n",
    "What we want to do here is **to detect betrayals within a game**, using the same definitions as in the paper we have studied. Let's recall a few things, and we will explore the dataset based on those definitions.\n",
    "\n",
    "## What are game actions ? \n",
    "\n",
    "Each player has **units** (one per each city a player controls) and those are moved using **orders**. There are two kinds of orders: \n",
    "- **support** : two units join to form a bigger (i.e. stronger) one. One player can support another.\n",
    "- **move**: move a unit somewhere. If it meets another player's unit, it will be a **battle**\n",
    "\n",
    "## How to define relationships ? \n",
    "\n",
    "Let's follow the definitions given by the paper.\n",
    "\n",
    "**Act of friendship**: when a player supports another.\n",
    "\n",
    "**Act of hostility**: When a player invades another, or supports an invasion to the other player's territory.\n",
    "\n",
    "**Friendship**: a relationship between two players spanning over **three** seasons containing at least **two consecutive and reciprocated** acts of friendship.\n",
    "\n",
    "**Betrayal** / **Broken friendship**: When, after being in a friendship, two players engage in at least 2 acts of hostility. \n",
    "\n",
    "## Additional information\n",
    "\n",
    "It is important to understand the [rules of the game](https://www.playdiplomacy.com/help.php?sub_page=Game_Rules).\n",
    "\n",
    "Here is a list of points, obtained from looking at the rules, we want to raise before starting programming.\n",
    "- Each **year** is broken down into two **seasons**: {'Spring', 'Fall'}.\n",
    "- Each **season** is itself divided into several phases, called **turns** (therefore, a year is made of at least two turns, and not more than five):\n",
    "    - **orders**: each player submit orders to all of his/her units (that can be **hold**, **move**, **support** or **convoy**)\n",
    "    - **retreats**: a phase that happens when some units (called **disloged units**) need to retreat. If they can't, they are destroyed\n",
    "    - **builds**: only happens after the *fall retreat*. Players gain control of **supply centers**  they are occupying.\n",
    "- Geographically, the game is divided into **provinces**.\n",
    "- Some provinces are called **supply centers** (SCS) and to win, a **player** must control 18 supply centers.\n",
    "- Each **unit** belongs to a **player** and there can be **only one unit** in a province at a time, however **units** can join their force with the **support** order.\n",
    "- There are two types of **units**:  {'F' or 'A'} for {Fleet, Army}.\n",
    "- Each **player** is characterized by his/her country, encoded by a letter: {E,F,I,G,A,T,R} standing for {England, France, Italy, Germany, Austria, Turkey, Russia}.\n",
    "\n",
    "We also give a clarification for the rows of 'all_orders' (i.e. the proper orders) because we will be using those quite a lot, and it can be hard to understand. \n",
    "- Orders are defined by a **game_id**, a **unit_id** and a **turn_number** (which makes sense, considering all the above points). \n",
    "- Each order has a field **location** which is the province of origin of the unit.\n",
    "- Depending on the **unit_order**, here is the description of the fields.\n",
    "\n",
    "| unit_order | location                 | target                            | target_dest     |\n",
    "| ---------- | ------------------------ | --------------------------------- | --------------- |\n",
    "| MOVE       | initial loc. of the unit | loc. to move to                   | null            |\n",
    "| HOLD       | initial loc. of the unit | null                              | null            |\n",
    "| CONVOY     | initial loc. of the unit | initial loc.                      | end goal loc.   |\n",
    "| SUPPORT    | initial loc. of the unit | loc. of unit to be supported      | its target loc. |\n",
    "| BUILD      | initial loc. of the unit | encoded string like 'army Berlin' |                 |\n",
    "| RETREAT    | initial loc. of the unit | target loc                        |                 |\n",
    "| DESTROY    | initial loc. of the unit |                                   |                 |"
   ]
  },
  {
   "cell_type": "markdown",
   "metadata": {},
   "source": [
    "It is also interesting to look at the map which contains all the **locations** where **units** can move. \n",
    "\n",
    "<img src=\"img/map.png\" width=\"700\">"
   ]
  },
  {
   "cell_type": "markdown",
   "metadata": {},
   "source": [
    "# II. Discovering the Dataset\n",
    "\n",
    "Now that all of this is well-defined, let's see what we can achieve in the code. As it can be quite hard to see how to do this, let's break this down and look at one game."
   ]
  },
  {
   "cell_type": "code",
   "execution_count": 4,
   "metadata": {},
   "outputs": [
    {
     "data": {
      "text/html": [
       "<div>\n",
       "<style scoped>\n",
       "    .dataframe tbody tr th:only-of-type {\n",
       "        vertical-align: middle;\n",
       "    }\n",
       "\n",
       "    .dataframe tbody tr th {\n",
       "        vertical-align: top;\n",
       "    }\n",
       "\n",
       "    .dataframe thead th {\n",
       "        text-align: right;\n",
       "    }\n",
       "</style>\n",
       "<table border=\"1\" class=\"dataframe\">\n",
       "  <thead>\n",
       "    <tr style=\"text-align: right;\">\n",
       "      <th></th>\n",
       "      <th>id</th>\n",
       "      <th>num_turns</th>\n",
       "      <th>num_players</th>\n",
       "    </tr>\n",
       "  </thead>\n",
       "  <tbody>\n",
       "    <tr>\n",
       "      <th>0</th>\n",
       "      <td>37317</td>\n",
       "      <td>166</td>\n",
       "      <td>7</td>\n",
       "    </tr>\n",
       "  </tbody>\n",
       "</table>\n",
       "</div>"
      ],
      "text/plain": [
       "      id  num_turns  num_players\n",
       "0  37317        166            7"
      ]
     },
     "execution_count": 4,
     "metadata": {},
     "output_type": "execute_result"
    }
   ],
   "source": [
    "# extract one game\n",
    "# 37317\n",
    "# 120600\n",
    "game = all_games.query(\"id == 37317\")\n",
    "game_id = game.iloc[0,0]\n",
    "game"
   ]
  },
  {
   "cell_type": "code",
   "execution_count": 5,
   "metadata": {},
   "outputs": [
    {
     "data": {
      "text/html": [
       "<div>\n",
       "<style scoped>\n",
       "    .dataframe tbody tr th:only-of-type {\n",
       "        vertical-align: middle;\n",
       "    }\n",
       "\n",
       "    .dataframe tbody tr th {\n",
       "        vertical-align: top;\n",
       "    }\n",
       "\n",
       "    .dataframe thead th {\n",
       "        text-align: right;\n",
       "    }\n",
       "</style>\n",
       "<table border=\"1\" class=\"dataframe\">\n",
       "  <thead>\n",
       "    <tr style=\"text-align: right;\">\n",
       "      <th></th>\n",
       "      <th>game_id</th>\n",
       "      <th>unit_id</th>\n",
       "      <th>unit_order</th>\n",
       "      <th>location</th>\n",
       "      <th>target</th>\n",
       "      <th>target_dest</th>\n",
       "      <th>success</th>\n",
       "      <th>reason</th>\n",
       "      <th>turn_num</th>\n",
       "    </tr>\n",
       "  </thead>\n",
       "  <tbody>\n",
       "    <tr>\n",
       "      <th>11451415</th>\n",
       "      <td>37317</td>\n",
       "      <td>0</td>\n",
       "      <td>MOVE</td>\n",
       "      <td>Edinburgh</td>\n",
       "      <td>North Sea</td>\n",
       "      <td>None</td>\n",
       "      <td>1</td>\n",
       "      <td>None</td>\n",
       "      <td>1</td>\n",
       "    </tr>\n",
       "    <tr>\n",
       "      <th>11451416</th>\n",
       "      <td>37317</td>\n",
       "      <td>1</td>\n",
       "      <td>MOVE</td>\n",
       "      <td>Liverpool</td>\n",
       "      <td>Belgium</td>\n",
       "      <td>None</td>\n",
       "      <td>0</td>\n",
       "      <td>Illegal order replaced with Hold order</td>\n",
       "      <td>1</td>\n",
       "    </tr>\n",
       "    <tr>\n",
       "      <th>11451417</th>\n",
       "      <td>37317</td>\n",
       "      <td>2</td>\n",
       "      <td>HOLD</td>\n",
       "      <td>London</td>\n",
       "      <td>None</td>\n",
       "      <td>None</td>\n",
       "      <td>1</td>\n",
       "      <td>None</td>\n",
       "      <td>1</td>\n",
       "    </tr>\n",
       "    <tr>\n",
       "      <th>11451418</th>\n",
       "      <td>37317</td>\n",
       "      <td>3</td>\n",
       "      <td>MOVE</td>\n",
       "      <td>Marseilles</td>\n",
       "      <td>Spain</td>\n",
       "      <td>None</td>\n",
       "      <td>1</td>\n",
       "      <td>None</td>\n",
       "      <td>1</td>\n",
       "    </tr>\n",
       "    <tr>\n",
       "      <th>11451419</th>\n",
       "      <td>37317</td>\n",
       "      <td>4</td>\n",
       "      <td>MOVE</td>\n",
       "      <td>Paris</td>\n",
       "      <td>Burgundy</td>\n",
       "      <td>None</td>\n",
       "      <td>0</td>\n",
       "      <td>Bounced</td>\n",
       "      <td>1</td>\n",
       "    </tr>\n",
       "  </tbody>\n",
       "</table>\n",
       "</div>"
      ],
      "text/plain": [
       "          game_id  unit_id unit_order    location     target target_dest  \\\n",
       "11451415    37317        0       MOVE   Edinburgh  North Sea        None   \n",
       "11451416    37317        1       MOVE   Liverpool    Belgium        None   \n",
       "11451417    37317        2       HOLD      London       None        None   \n",
       "11451418    37317        3       MOVE  Marseilles      Spain        None   \n",
       "11451419    37317        4       MOVE       Paris   Burgundy        None   \n",
       "\n",
       "          success                                  reason  turn_num  \n",
       "11451415        1                                    None         1  \n",
       "11451416        0  Illegal order replaced with Hold order         1  \n",
       "11451417        1                                    None         1  \n",
       "11451418        1                                    None         1  \n",
       "11451419        0                                 Bounced         1  "
      ]
     },
     "execution_count": 5,
     "metadata": {},
     "output_type": "execute_result"
    }
   ],
   "source": [
    "# for this game, extract turns, orders and units\n",
    "turns = all_turns.query(\"game_id == {}\".format(game_id))\n",
    "orders = all_orders.query(\"game_id == {}\".format(game_id))\n",
    "units = all_units.query(\"game_id == {}\".format(game_id))\n",
    "orders.head()"
   ]
  },
  {
   "cell_type": "markdown",
   "metadata": {},
   "source": [
    "## Can we find **acts of friendship** ?\n",
    "\n",
    "It's firstly defined by a support. However, it is not enough: a player could support himself/herself (and that's not a friendship). So we must also look at the **last previous orders** asking to **MOVE** the unit towards the support's **target** destination. This will link to a 'unit_id' (the one that followed this order) and therefore giving access to the country that made the call."
   ]
  },
  {
   "cell_type": "code",
   "execution_count": 6,
   "metadata": {},
   "outputs": [
    {
     "data": {
      "text/html": [
       "<div>\n",
       "<style scoped>\n",
       "    .dataframe tbody tr th:only-of-type {\n",
       "        vertical-align: middle;\n",
       "    }\n",
       "\n",
       "    .dataframe tbody tr th {\n",
       "        vertical-align: top;\n",
       "    }\n",
       "\n",
       "    .dataframe thead th {\n",
       "        text-align: right;\n",
       "    }\n",
       "</style>\n",
       "<table border=\"1\" class=\"dataframe\">\n",
       "  <thead>\n",
       "    <tr style=\"text-align: right;\">\n",
       "      <th></th>\n",
       "      <th>game_id</th>\n",
       "      <th>unit_id</th>\n",
       "      <th>unit_order</th>\n",
       "      <th>location</th>\n",
       "      <th>target</th>\n",
       "      <th>target_dest</th>\n",
       "      <th>success</th>\n",
       "      <th>reason</th>\n",
       "      <th>turn_num</th>\n",
       "    </tr>\n",
       "  </thead>\n",
       "  <tbody>\n",
       "    <tr>\n",
       "      <th>11452781</th>\n",
       "      <td>37317</td>\n",
       "      <td>36</td>\n",
       "      <td>SUPPORT</td>\n",
       "      <td>Gulf of Lyons</td>\n",
       "      <td>Marseilles</td>\n",
       "      <td>Spain</td>\n",
       "      <td>1</td>\n",
       "      <td>None</td>\n",
       "      <td>31</td>\n",
       "    </tr>\n",
       "    <tr>\n",
       "      <th>11452939</th>\n",
       "      <td>37317</td>\n",
       "      <td>30</td>\n",
       "      <td>SUPPORT</td>\n",
       "      <td>Kiel</td>\n",
       "      <td>Munich</td>\n",
       "      <td>Munich</td>\n",
       "      <td>1</td>\n",
       "      <td>None</td>\n",
       "      <td>33</td>\n",
       "    </tr>\n",
       "    <tr>\n",
       "      <th>11452610</th>\n",
       "      <td>37317</td>\n",
       "      <td>20</td>\n",
       "      <td>SUPPORT</td>\n",
       "      <td>Berlin</td>\n",
       "      <td>Silesia</td>\n",
       "      <td>Silesia</td>\n",
       "      <td>1</td>\n",
       "      <td>None</td>\n",
       "      <td>26</td>\n",
       "    </tr>\n",
       "  </tbody>\n",
       "</table>\n",
       "</div>"
      ],
      "text/plain": [
       "          game_id  unit_id unit_order       location      target target_dest  \\\n",
       "11452781    37317       36    SUPPORT  Gulf of Lyons  Marseilles       Spain   \n",
       "11452939    37317       30    SUPPORT           Kiel      Munich      Munich   \n",
       "11452610    37317       20    SUPPORT         Berlin     Silesia     Silesia   \n",
       "\n",
       "          success reason  turn_num  \n",
       "11452781        1   None        31  \n",
       "11452939        1   None        33  \n",
       "11452610        1   None        26  "
      ]
     },
     "execution_count": 6,
     "metadata": {},
     "output_type": "execute_result"
    }
   ],
   "source": [
    "# first we must look at the supports that happened in this game.\n",
    "supports = orders.unit_order == \"SUPPORT\"\n",
    "orders_w_supports = orders[supports]\n",
    "orders_w_supports.sample(3)"
   ]
  },
  {
   "cell_type": "code",
   "execution_count": 7,
   "metadata": {},
   "outputs": [
    {
     "data": {
      "text/plain": [
       "game_id                             37317\n",
       "unit_id                                12\n",
       "unit_order                        SUPPORT\n",
       "location                          Galicia\n",
       "target                             Vienna\n",
       "target_dest                       Bohemia\n",
       "success                                 0\n",
       "reason         Support cut by a war - gal\n",
       "turn_num                               33\n",
       "Name: 11452914, dtype: object"
      ]
     },
     "execution_count": 7,
     "metadata": {},
     "output_type": "execute_result"
    }
   ],
   "source": [
    "# we want to find the countries of the supported units\n",
    "# let's take one and see what we can do\n",
    "support_order = orders_w_supports.iloc[-4]\n",
    "# support_order = orders_w_supports.head(3).tail(1)\n",
    "support_order"
   ]
  },
  {
   "cell_type": "code",
   "execution_count": 8,
   "metadata": {},
   "outputs": [
    {
     "data": {
      "text/html": [
       "<div>\n",
       "<style scoped>\n",
       "    .dataframe tbody tr th:only-of-type {\n",
       "        vertical-align: middle;\n",
       "    }\n",
       "\n",
       "    .dataframe tbody tr th {\n",
       "        vertical-align: top;\n",
       "    }\n",
       "\n",
       "    .dataframe thead th {\n",
       "        text-align: right;\n",
       "    }\n",
       "</style>\n",
       "<table border=\"1\" class=\"dataframe\">\n",
       "  <thead>\n",
       "    <tr style=\"text-align: right;\">\n",
       "      <th></th>\n",
       "      <th>game_id</th>\n",
       "      <th>unit_id</th>\n",
       "      <th>unit_order</th>\n",
       "      <th>location</th>\n",
       "      <th>target</th>\n",
       "      <th>target_dest</th>\n",
       "      <th>success</th>\n",
       "      <th>reason</th>\n",
       "      <th>turn_num</th>\n",
       "    </tr>\n",
       "  </thead>\n",
       "  <tbody>\n",
       "    <tr>\n",
       "      <th>11451517</th>\n",
       "      <td>37317</td>\n",
       "      <td>20</td>\n",
       "      <td>MOVE</td>\n",
       "      <td>Galicia</td>\n",
       "      <td>Vienna</td>\n",
       "      <td>None</td>\n",
       "      <td>0</td>\n",
       "      <td>Bounced</td>\n",
       "      <td>3</td>\n",
       "    </tr>\n",
       "  </tbody>\n",
       "</table>\n",
       "</div>"
      ],
      "text/plain": [
       "          game_id  unit_id unit_order location  target target_dest  success  \\\n",
       "11451517    37317       20       MOVE  Galicia  Vienna        None        0   \n",
       "\n",
       "           reason  turn_num  \n",
       "11451517  Bounced         3  "
      ]
     },
     "execution_count": 8,
     "metadata": {},
     "output_type": "execute_result"
    }
   ],
   "source": [
    "# Example: there is a support from 'Vienna' to 'Bohemia' \n",
    "# we know that in one of the previous orders, someone made a move with 'Vienna' as the destination\n",
    "target = support_order.target#.values[0]\n",
    "turn_number = support_order.turn_num#.values[0]\n",
    "move_order = orders.query(\"unit_order == 'MOVE' & target == '{}' & turn_num < {}\".format(target, turn_number)).tail(1)\n",
    "move_order"
   ]
  },
  {
   "cell_type": "code",
   "execution_count": 9,
   "metadata": {},
   "outputs": [
    {
     "data": {
      "text/html": [
       "<div>\n",
       "<style scoped>\n",
       "    .dataframe tbody tr th:only-of-type {\n",
       "        vertical-align: middle;\n",
       "    }\n",
       "\n",
       "    .dataframe tbody tr th {\n",
       "        vertical-align: top;\n",
       "    }\n",
       "\n",
       "    .dataframe thead th {\n",
       "        text-align: right;\n",
       "    }\n",
       "</style>\n",
       "<table border=\"1\" class=\"dataframe\">\n",
       "  <thead>\n",
       "    <tr style=\"text-align: right;\">\n",
       "      <th></th>\n",
       "      <th>game_id</th>\n",
       "      <th>country</th>\n",
       "      <th>type</th>\n",
       "      <th>start_turn</th>\n",
       "      <th>end_turn</th>\n",
       "      <th>unit_id</th>\n",
       "    </tr>\n",
       "  </thead>\n",
       "  <tbody>\n",
       "    <tr>\n",
       "      <th>1035275</th>\n",
       "      <td>37317</td>\n",
       "      <td>R</td>\n",
       "      <td>A</td>\n",
       "      <td>0</td>\n",
       "      <td>45</td>\n",
       "      <td>20</td>\n",
       "    </tr>\n",
       "  </tbody>\n",
       "</table>\n",
       "</div>"
      ],
      "text/plain": [
       "         game_id country type  start_turn  end_turn  unit_id\n",
       "1035275    37317       R    A           0        45       20"
      ]
     },
     "execution_count": 9,
     "metadata": {},
     "output_type": "execute_result"
    }
   ],
   "source": [
    "unit_id = move_order.unit_id.values[0]\n",
    "move_unit = units.query(\"unit_id == {}\".format(unit_id))\n",
    "move_unit"
   ]
  },
  {
   "cell_type": "markdown",
   "metadata": {},
   "source": [
    "We see that Russia was the country that had moved its army there the last time before a support happened. Hence, 'Russia is the supported country'."
   ]
  },
  {
   "cell_type": "code",
   "execution_count": 10,
   "metadata": {},
   "outputs": [
    {
     "data": {
      "text/html": [
       "<div>\n",
       "<style scoped>\n",
       "    .dataframe tbody tr th:only-of-type {\n",
       "        vertical-align: middle;\n",
       "    }\n",
       "\n",
       "    .dataframe tbody tr th {\n",
       "        vertical-align: top;\n",
       "    }\n",
       "\n",
       "    .dataframe thead th {\n",
       "        text-align: right;\n",
       "    }\n",
       "</style>\n",
       "<table border=\"1\" class=\"dataframe\">\n",
       "  <thead>\n",
       "    <tr style=\"text-align: right;\">\n",
       "      <th></th>\n",
       "      <th>game_id</th>\n",
       "      <th>country</th>\n",
       "      <th>type</th>\n",
       "      <th>start_turn</th>\n",
       "      <th>end_turn</th>\n",
       "      <th>unit_id</th>\n",
       "    </tr>\n",
       "  </thead>\n",
       "  <tbody>\n",
       "    <tr>\n",
       "      <th>1035256</th>\n",
       "      <td>37317</td>\n",
       "      <td>A</td>\n",
       "      <td>A</td>\n",
       "      <td>0</td>\n",
       "      <td>110</td>\n",
       "      <td>12</td>\n",
       "    </tr>\n",
       "  </tbody>\n",
       "</table>\n",
       "</div>"
      ],
      "text/plain": [
       "         game_id country type  start_turn  end_turn  unit_id\n",
       "1035256    37317       A    A           0       110       12"
      ]
     },
     "execution_count": 10,
     "metadata": {},
     "output_type": "execute_result"
    }
   ],
   "source": [
    "# Let's look at the country who did the support\n",
    "unit_id = support_order.unit_id# .values[0]\n",
    "support_unit = units.query(\"unit_id == {}\".format(unit_id))\n",
    "support_unit"
   ]
  },
  {
   "cell_type": "markdown",
   "metadata": {},
   "source": [
    "It turns out that this **is** an act of friendship: Russia was supported by Austria, when it moved from Vienna to Bohemia, by Austrian soldiers who were in Galicia. As we can see on the map, this is perfectly coherent with the geographical position of provinces."
   ]
  },
  {
   "cell_type": "markdown",
   "metadata": {},
   "source": [
    "# III. Some data pre-processing won't hurt us\n",
    "\n",
    "Now is when we realize it would be nice to have extra information about orders. This can be seen as a pre-processing step since it will be computed only once. Once we have a more 'understandable' dataset, we will first compute some descriptive statistics and then try to train a classifier.\n",
    "\n",
    "## Required additional fields\n",
    "\n",
    "The first thing that we want is to know is **what country passed which order** and also **the year and the season at which each order was passed**, in order to find friendships with more precision than if we use only 'year' as an indicator of when an order occurs. Here is how we encode seasons using *yearly indication*: \n",
    "- the spring of a year is written as the year; for instance, 'Spring 1904' = 1904\n",
    "- the fall of the same year is written as the year + 0.5; for instance, 'Fall 1904' = 1904.5\n",
    "\n",
    "Also, let's note that there is sometimes a problem with the data. Order with id == 89268, for instance, has the 'units' that are duplicated. A  possible way to solve this is to run `units.drop_duplicates()`. It's not the only potential problem with the 'unit' array. Indeed sometimes we encounter duplicates that are almost exactly the same, but not exactly. The end turn would be slightly different. The solution to this problem is simply to expect an error and, if one is caught, to skip this game."
   ]
  },
  {
   "cell_type": "code",
   "execution_count": 11,
   "metadata": {},
   "outputs": [],
   "source": [
    "try: \n",
    "    # 1. compute the country who emitted each order \n",
    "    countries = orders.unit_id.apply(lambda x: units.query(\"unit_id == {}\".format(x)).country.item())\n",
    "    # compute the 'encoded year' in which each order was passed\n",
    "    turns[\"season_encoded\"] = turns[\"year\"] + 0.5 * (turns[\"season\"] == \"Fall\")\n",
    "    years = orders.turn_num.apply(lambda x: turns.query(\"turn_num == {}\".format(x)).season_encoded.item())\n",
    "    # update the orders\n",
    "    orders[\"country\"] = countries\n",
    "    orders[\"year\"] = years\n",
    "except ValueError:\n",
    "    print(\"Data is corrupted and execution was aborted\")"
   ]
  },
  {
   "cell_type": "markdown",
   "metadata": {},
   "source": [
    "Finally, the last piece of information that we need (and that is harder to obtain) is **the 'target country': towards which player (if any) was this action intended ?**. When an order is passed, there is often another country located at the order's target. This information is essential for us. Let's find it here."
   ]
  },
  {
   "cell_type": "code",
   "execution_count": 12,
   "metadata": {},
   "outputs": [],
   "source": [
    "def get_target_country(order, orders):\n",
    "    \"\"\"\n",
    "    Given an order MOVE or SUPPORT, it returns the country that controls the targeted province.\n",
    "    The function looks at 'the last successful move towards the targeted province'.\n",
    "    If none is found, it returns None.\n",
    "    If order is not MOVE or SUPPORT, it returns an empty string.\n",
    "    \"\"\"\n",
    "    if order.unit_order not in [\"MOVE\", \"SUPPORT\"]: return \"\"\n",
    "    # get the last move orders to this province\n",
    "    q = \"(unit_order in ('MOVE' ,'RETREAT', 'HOLD')) & success == 1 & target == '{}' & turn_num < {}\".format(order.target, order.turn_num)\n",
    "    last_move_orders = orders.query(q)\n",
    "    if len(last_move_orders):\n",
    "        # extract the order\n",
    "        last_move_order = last_move_orders.iloc[-1]\n",
    "        return last_move_order.country\n",
    "    else:\n",
    "        # this is when there never was a successful move toward this province\n",
    "        return \"None\""
   ]
  },
  {
   "cell_type": "code",
   "execution_count": 13,
   "metadata": {},
   "outputs": [
    {
     "data": {
      "text/html": [
       "<div>\n",
       "<style scoped>\n",
       "    .dataframe tbody tr th:only-of-type {\n",
       "        vertical-align: middle;\n",
       "    }\n",
       "\n",
       "    .dataframe tbody tr th {\n",
       "        vertical-align: top;\n",
       "    }\n",
       "\n",
       "    .dataframe thead th {\n",
       "        text-align: right;\n",
       "    }\n",
       "</style>\n",
       "<table border=\"1\" class=\"dataframe\">\n",
       "  <thead>\n",
       "    <tr style=\"text-align: right;\">\n",
       "      <th></th>\n",
       "      <th>game_id</th>\n",
       "      <th>unit_id</th>\n",
       "      <th>unit_order</th>\n",
       "      <th>location</th>\n",
       "      <th>target</th>\n",
       "      <th>target_dest</th>\n",
       "      <th>success</th>\n",
       "      <th>reason</th>\n",
       "      <th>turn_num</th>\n",
       "      <th>country</th>\n",
       "      <th>year</th>\n",
       "      <th>target_country</th>\n",
       "    </tr>\n",
       "  </thead>\n",
       "  <tbody>\n",
       "    <tr>\n",
       "      <th>11452268</th>\n",
       "      <td>37317</td>\n",
       "      <td>33</td>\n",
       "      <td>RETREAT</td>\n",
       "      <td>Galicia</td>\n",
       "      <td>Ukraine</td>\n",
       "      <td>None</td>\n",
       "      <td>1</td>\n",
       "      <td>None</td>\n",
       "      <td>19</td>\n",
       "      <td>A</td>\n",
       "      <td>1904.5</td>\n",
       "      <td></td>\n",
       "    </tr>\n",
       "    <tr>\n",
       "      <th>11451870</th>\n",
       "      <td>37317</td>\n",
       "      <td>28</td>\n",
       "      <td>MOVE</td>\n",
       "      <td>Vienna</td>\n",
       "      <td>Galicia</td>\n",
       "      <td>None</td>\n",
       "      <td>0</td>\n",
       "      <td>Bounced</td>\n",
       "      <td>11</td>\n",
       "      <td>A</td>\n",
       "      <td>1903.0</td>\n",
       "      <td>R</td>\n",
       "    </tr>\n",
       "    <tr>\n",
       "      <th>11452629</th>\n",
       "      <td>37317</td>\n",
       "      <td>43</td>\n",
       "      <td>MOVE</td>\n",
       "      <td>St. Petersburg</td>\n",
       "      <td>Norway</td>\n",
       "      <td>None</td>\n",
       "      <td>1</td>\n",
       "      <td>None</td>\n",
       "      <td>26</td>\n",
       "      <td>R</td>\n",
       "      <td>1906.0</td>\n",
       "      <td>R</td>\n",
       "    </tr>\n",
       "    <tr>\n",
       "      <th>11452797</th>\n",
       "      <td>37317</td>\n",
       "      <td>38</td>\n",
       "      <td>HOLD</td>\n",
       "      <td>Vienna</td>\n",
       "      <td>None</td>\n",
       "      <td>None</td>\n",
       "      <td>1</td>\n",
       "      <td>None</td>\n",
       "      <td>31</td>\n",
       "      <td>A</td>\n",
       "      <td>1907.0</td>\n",
       "      <td></td>\n",
       "    </tr>\n",
       "    <tr>\n",
       "      <th>11452887</th>\n",
       "      <td>37317</td>\n",
       "      <td>37</td>\n",
       "      <td>MOVE</td>\n",
       "      <td>Spain</td>\n",
       "      <td>Marseilles</td>\n",
       "      <td>None</td>\n",
       "      <td>1</td>\n",
       "      <td>None</td>\n",
       "      <td>33</td>\n",
       "      <td>I</td>\n",
       "      <td>1907.5</td>\n",
       "      <td>F</td>\n",
       "    </tr>\n",
       "  </tbody>\n",
       "</table>\n",
       "</div>"
      ],
      "text/plain": [
       "          game_id  unit_id unit_order        location      target target_dest  \\\n",
       "11452268    37317       33    RETREAT         Galicia     Ukraine        None   \n",
       "11451870    37317       28       MOVE          Vienna     Galicia        None   \n",
       "11452629    37317       43       MOVE  St. Petersburg      Norway        None   \n",
       "11452797    37317       38       HOLD          Vienna        None        None   \n",
       "11452887    37317       37       MOVE           Spain  Marseilles        None   \n",
       "\n",
       "          success   reason  turn_num country    year target_country  \n",
       "11452268        1     None        19       A  1904.5                 \n",
       "11451870        0  Bounced        11       A  1903.0              R  \n",
       "11452629        1     None        26       R  1906.0              R  \n",
       "11452797        1     None        31       A  1907.0                 \n",
       "11452887        1     None        33       I  1907.5              F  "
      ]
     },
     "execution_count": 13,
     "metadata": {},
     "output_type": "execute_result"
    }
   ],
   "source": [
    "# get the target country\n",
    "targets = orders.apply(lambda o: get_target_country(o, orders), axis = 1)\n",
    "orders[\"target_country\"] = targets\n",
    "orders.sample(5)"
   ]
  },
  {
   "cell_type": "markdown",
   "metadata": {},
   "source": [
    "# IV. Friendships and Betrayals\n",
    "\n",
    "Now that we have a good dataframe that is a lot nicer to work with, let's start the actual data-processing to find friendships and betrayals. As one will see, it turns out to be harder than expected. \n",
    "\n",
    "## Finding **acts of friendship**\n",
    "\n",
    "This function is just a rewriting of all the code which was presented above.\n",
    "\n",
    "Note that we don't add the query criteria 'success == 1' because it's not the result that defines the act's intention. You can plan to attack someone and fail; you will still have performed a hostile action towards the other player."
   ]
  },
  {
   "cell_type": "code",
   "execution_count": 14,
   "metadata": {},
   "outputs": [],
   "source": [
    "def is_order_act_of_friendship(support_order):\n",
    "    # only interested in SUPPORT orders to other countries\n",
    "    if support_order.unit_order != \"SUPPORT\": return False\n",
    "    if support_order.target_country == \"None\": return False\n",
    "    return support_order.country != support_order.target_country"
   ]
  },
  {
   "cell_type": "code",
   "execution_count": 15,
   "metadata": {},
   "outputs": [
    {
     "data": {
      "text/plain": [
       "False    461\n",
       "True      21\n",
       "dtype: int64"
      ]
     },
     "execution_count": 15,
     "metadata": {},
     "output_type": "execute_result"
    }
   ],
   "source": [
    "# so we may add this to the orders dataframe\n",
    "acts_of_friendships = orders.apply(is_order_act_of_friendship, axis = 1)\n",
    "acts_of_friendships.value_counts()"
   ]
  },
  {
   "cell_type": "markdown",
   "metadata": {},
   "source": [
    "Good news : it's working. As we see, there is another column 'acts_friendships' which tell if this order was an act of friendships-\n",
    "\n",
    "## Finding **acts of hostility**\n",
    "\n",
    "The code is very similar, only the logic is a little tweaked. \n",
    "\n",
    "We are looking at all **orders** with **unit_order** that is **MOVE** (*this is how an attack starts*), where the **target** is a province with a unit of another player. Again, the tricky part is to see if another player's unit is located in this province. We must look at all the **previous orders** with the same **target** done by a unit from **another country**."
   ]
  },
  {
   "cell_type": "code",
   "execution_count": 16,
   "metadata": {},
   "outputs": [],
   "source": [
    "def is_move_act_of_hostility(move_order):\n",
    "    if move_order.unit_order != \"MOVE\": return False\n",
    "    if move_order.target_country == \"None\": return False\n",
    "    return move_order.country != move_order.target_country"
   ]
  },
  {
   "cell_type": "code",
   "execution_count": 17,
   "metadata": {},
   "outputs": [
    {
     "data": {
      "text/plain": [
       "False    410\n",
       "True      72\n",
       "dtype: int64"
      ]
     },
     "execution_count": 17,
     "metadata": {},
     "output_type": "execute_result"
    }
   ],
   "source": [
    "acts_of_hostility = orders.apply(is_move_act_of_hostility, axis = 1)\n",
    "acts_of_hostility.value_counts()"
   ]
  },
  {
   "cell_type": "markdown",
   "metadata": {},
   "source": [
    "## Who is friends with who\n",
    "\n",
    "Now that we have classified our orders, let's find friends within our game. Coming back to our definition:\n",
    "\n",
    "> Friendship is a relationship between two players spanning over 3 seasons containing at least 2 consecutives and reciprocated acts of friendships.\n"
   ]
  },
  {
   "cell_type": "code",
   "execution_count": 18,
   "metadata": {},
   "outputs": [],
   "source": [
    "friendly_orders = orders[acts_of_friendships]\n",
    "hostile_orders = orders[acts_of_hostility]"
   ]
  },
  {
   "cell_type": "markdown",
   "metadata": {},
   "source": [
    "For each order in the above set, assuming the 'supporting country' is X and the 'supported country' is Y, we must look if there exists in the last 2 years: \n",
    "- at least 2 previous orders with 'X supports Y'\n",
    "- at least 2 previous orders with 'Y supports X'\n",
    "\n",
    "If those criteria are met, the concerned acts of friendship are part of an actual **friendship**.\n",
    "\n",
    "Let's create a table that will recap all friendships and potential betrayals, and then let's fill it up with the data already extracted. Those tables are called the **friendship matrix**, and they are crucial for our analysis. They contain:\n",
    "- 21 columns, as for the 21 possible friendships between the 7 players (friendships are reciprocal: 'XY' = 'YX')\n",
    "- the rows correspond to seasons within a game\n",
    "- 1s when 2 players are engaged in a friendship and 0s if there are no longer friends\n",
    "- a letter, designing one of the 2 players who committed the betrayal (we must add a non-binary indication here because the friendship XY is the same as YX, and we want to know who committed the betrayal)"
   ]
  },
  {
   "cell_type": "code",
   "execution_count": 19,
   "metadata": {},
   "outputs": [],
   "source": [
    "def get_countries_code(x,y):\n",
    "    \"\"\"Given two countries, it returns another string being their letters sorted alphabetically.\n",
    "    This string is the 'encoded friendship name'.\"\"\"\n",
    "    return ''.join(sorted(x + y))"
   ]
  },
  {
   "cell_type": "code",
   "execution_count": 20,
   "metadata": {},
   "outputs": [
    {
     "data": {
      "text/html": [
       "<div>\n",
       "<style scoped>\n",
       "    .dataframe tbody tr th:only-of-type {\n",
       "        vertical-align: middle;\n",
       "    }\n",
       "\n",
       "    .dataframe tbody tr th {\n",
       "        vertical-align: top;\n",
       "    }\n",
       "\n",
       "    .dataframe thead th {\n",
       "        text-align: right;\n",
       "    }\n",
       "</style>\n",
       "<table border=\"1\" class=\"dataframe\">\n",
       "  <thead>\n",
       "    <tr style=\"text-align: right;\">\n",
       "      <th></th>\n",
       "      <th>AE</th>\n",
       "      <th>AF</th>\n",
       "      <th>AG</th>\n",
       "      <th>AI</th>\n",
       "      <th>AR</th>\n",
       "      <th>AT</th>\n",
       "      <th>EF</th>\n",
       "      <th>EG</th>\n",
       "      <th>EI</th>\n",
       "      <th>ER</th>\n",
       "      <th>...</th>\n",
       "      <th>FG</th>\n",
       "      <th>FI</th>\n",
       "      <th>FR</th>\n",
       "      <th>FT</th>\n",
       "      <th>GI</th>\n",
       "      <th>GR</th>\n",
       "      <th>GT</th>\n",
       "      <th>IR</th>\n",
       "      <th>IT</th>\n",
       "      <th>RT</th>\n",
       "    </tr>\n",
       "  </thead>\n",
       "  <tbody>\n",
       "    <tr>\n",
       "      <th>1901.0</th>\n",
       "      <td>0.0</td>\n",
       "      <td>0.0</td>\n",
       "      <td>0.0</td>\n",
       "      <td>0.0</td>\n",
       "      <td>0.0</td>\n",
       "      <td>0.0</td>\n",
       "      <td>0.0</td>\n",
       "      <td>0.0</td>\n",
       "      <td>0.0</td>\n",
       "      <td>0.0</td>\n",
       "      <td>...</td>\n",
       "      <td>0.0</td>\n",
       "      <td>0.0</td>\n",
       "      <td>0.0</td>\n",
       "      <td>0.0</td>\n",
       "      <td>0.0</td>\n",
       "      <td>0.0</td>\n",
       "      <td>0.0</td>\n",
       "      <td>0.0</td>\n",
       "      <td>0.0</td>\n",
       "      <td>0.0</td>\n",
       "    </tr>\n",
       "    <tr>\n",
       "      <th>1901.5</th>\n",
       "      <td>0.0</td>\n",
       "      <td>0.0</td>\n",
       "      <td>0.0</td>\n",
       "      <td>0.0</td>\n",
       "      <td>0.0</td>\n",
       "      <td>0.0</td>\n",
       "      <td>0.0</td>\n",
       "      <td>0.0</td>\n",
       "      <td>0.0</td>\n",
       "      <td>0.0</td>\n",
       "      <td>...</td>\n",
       "      <td>0.0</td>\n",
       "      <td>0.0</td>\n",
       "      <td>0.0</td>\n",
       "      <td>0.0</td>\n",
       "      <td>0.0</td>\n",
       "      <td>0.0</td>\n",
       "      <td>0.0</td>\n",
       "      <td>0.0</td>\n",
       "      <td>0.0</td>\n",
       "      <td>0.0</td>\n",
       "    </tr>\n",
       "    <tr>\n",
       "      <th>1902.0</th>\n",
       "      <td>0.0</td>\n",
       "      <td>0.0</td>\n",
       "      <td>0.0</td>\n",
       "      <td>0.0</td>\n",
       "      <td>0.0</td>\n",
       "      <td>0.0</td>\n",
       "      <td>0.0</td>\n",
       "      <td>0.0</td>\n",
       "      <td>0.0</td>\n",
       "      <td>0.0</td>\n",
       "      <td>...</td>\n",
       "      <td>0.0</td>\n",
       "      <td>0.0</td>\n",
       "      <td>0.0</td>\n",
       "      <td>0.0</td>\n",
       "      <td>0.0</td>\n",
       "      <td>0.0</td>\n",
       "      <td>0.0</td>\n",
       "      <td>0.0</td>\n",
       "      <td>0.0</td>\n",
       "      <td>0.0</td>\n",
       "    </tr>\n",
       "  </tbody>\n",
       "</table>\n",
       "<p>3 rows × 21 columns</p>\n",
       "</div>"
      ],
      "text/plain": [
       "         AE   AF   AG   AI   AR   AT   EF   EG   EI   ER  ...   FG   FI   FR  \\\n",
       "1901.0  0.0  0.0  0.0  0.0  0.0  0.0  0.0  0.0  0.0  0.0  ...  0.0  0.0  0.0   \n",
       "1901.5  0.0  0.0  0.0  0.0  0.0  0.0  0.0  0.0  0.0  0.0  ...  0.0  0.0  0.0   \n",
       "1902.0  0.0  0.0  0.0  0.0  0.0  0.0  0.0  0.0  0.0  0.0  ...  0.0  0.0  0.0   \n",
       "\n",
       "         FT   GI   GR   GT   IR   IT   RT  \n",
       "1901.0  0.0  0.0  0.0  0.0  0.0  0.0  0.0  \n",
       "1901.5  0.0  0.0  0.0  0.0  0.0  0.0  0.0  \n",
       "1902.0  0.0  0.0  0.0  0.0  0.0  0.0  0.0  \n",
       "\n",
       "[3 rows x 21 columns]"
      ]
     },
     "execution_count": 20,
     "metadata": {},
     "output_type": "execute_result"
    }
   ],
   "source": [
    "countries = ['A', 'E', 'F', 'G', 'I', 'R', 'T']\n",
    "pairs = [x+y for x in countries for y in countries if y > x]\n",
    "years = np.arange(1901, max(friendly_orders.year.max(), hostile_orders.year.max()) + 0.5, 0.5)\n",
    "# create a dataframe each possible friendships and each years\n",
    "friendships = pd.DataFrame(columns=pairs, index = years, dtype = np.int8).fillna(0)\n",
    "friendships.head(3)"
   ]
  },
  {
   "cell_type": "markdown",
   "metadata": {},
   "source": [
    "Let's also do a little function to make some prints about a friendship matrix of 1 game. It is used for debugging."
   ]
  },
  {
   "cell_type": "code",
   "execution_count": 21,
   "metadata": {},
   "outputs": [],
   "source": [
    "def analyse_friendships(df):\n",
    "    \"\"\"Given the friendship dataframe, it will extract insights out of it\"\"\"\n",
    "    # get columns where something happened\n",
    "    cols = [col for col in df.columns if np.count_nonzero(friendships[col] != 0)]\n",
    "    if len(cols):\n",
    "        print(\"- friendships:\", cols)\n",
    "        for c in cols: \n",
    "            tmp = df.loc[:,c]\n",
    "            pos = tmp[tmp != 0].values\n",
    "            # print(pos)\n",
    "            if type(pos[-1]) is str: \n",
    "                print(\"    * length of friendship \",c,\" is \", len(pos) - 1)\n",
    "                print(\"        ->\",c,\" ends betrayed by \",pos[-1],\"\") \n",
    "            else: \n",
    "                print(\"    * length of friendship: \", len(pos))\n",
    "\n",
    "    else:\n",
    "        print(\"- No friendships were found\")"
   ]
  },
  {
   "cell_type": "markdown",
   "metadata": {},
   "source": [
    "Our first attempt to find friendships and betrayals led us to write those 2 functions. They work rather often, but not always. The problem with those functions is that friendships and betrayals are more linked than one could think at first. However, we decided to include them in this notebook as they were really helpful until we found the real solution. "
   ]
  },
  {
   "cell_type": "code",
   "execution_count": 22,
   "metadata": {},
   "outputs": [],
   "source": [
    "def find_friendships(friendships, friendly_orders, hostile_orders, length_year = 1.5):\n",
    "    \"\"\"Will fill the 'friendships' dataframe by adding '1's to signify that a pair of players engaged in a \n",
    "    reciprocal friendships\n",
    "    \n",
    "    Careful, the function doesn't return anything - instead it changes the 'friendship' dataframe\n",
    "    \n",
    "    Parameters\n",
    "    friendships (pd.DataFrame): df with rows as 'encoded seasons' and columns as 'encoded friendship names'.\n",
    "    friendly_orders (pd.DataFrame): df with all orders corresponding to 'acts of friendship'\n",
    "    length_year (int): minimum amount of time that must elapse between the first AOF and the last one.\n",
    "    \n",
    "    Discussion\n",
    "    For each order with an AOF, it will query all the other ones that \n",
    "    - happened before\n",
    "    - involving exactly the same 2 countries\n",
    "    Then it makes sure that among all those orders\n",
    "    - each player originated at least 2 of them\n",
    "    - that the time elapsed between the first one and the last one was longer than `length_year` \n",
    "    Those orders are the ones defining a friendship.\n",
    "    \"\"\"\n",
    "    # for each friendly order, finds those that define a friendship\n",
    "    for i, o in friendly_orders.iterrows():\n",
    "        x, y, year = o.country, o.target_country,  o.year\n",
    "        # this line doesn't remove frienships because we are only looking at reciprocal ones\n",
    "        if y > x: continue\n",
    "        # make a query over others friendly orders from the past (including this one !)\n",
    "        q = \"year <= @year & ( (country == @x & target_country == @y) | (country == @y & target_country == @x) )\"\n",
    "        query = friendly_orders.query(q)\n",
    "        # extract number of mutual supports between these 2 countries\n",
    "        n_x = np.count_nonzero(query.country == x)\n",
    "        n_y = len(query) - n_x\n",
    "        y_min = query.year.min()\n",
    "        y_max = query.year.max()\n",
    "        # print(\"output of query: \",get_countries_code(x,y), y_min, y_max)\n",
    "        if n_x >= 2 and n_y >= 2 and (y_max - y_min) >= length_year:\n",
    "            # they meet all criteria about 'being nice to each other'\n",
    "            code = get_countries_code(x,y)\n",
    "            friendships.loc[query.year.min():o.year, code] = 1\n",
    "            # we just want to make sure they are not 'being not nice' as well ! \n",
    "            # each time we find an AOH, we must break the friendship at this year\n",
    "            q = \"year < @y_max & year > @y_min & country in (@x, @y) & target_country in (@x, @y)\"\n",
    "            query = hostile_orders.query(q)\n",
    "            for i, hostile_order in query.iterrows(): \n",
    "                # print(\"   hostile act detected \", code, hostile_order.year, hostile_order.unit_id)\n",
    "                friendships.loc[hostile_order.year, code] = 0            \n",
    "    "
   ]
  },
  {
   "cell_type": "code",
   "execution_count": 23,
   "metadata": {},
   "outputs": [],
   "source": [
    "def find_betrayals(friendships, hostile_orders, N_hostile_min = 2):\n",
    "    \"\"\"Will fill the 'friendships' dataframe by removing '1' when a friendship was broken and if a \n",
    "    betrayal is detected, it will add its country letter to the frame. \n",
    "    \n",
    "    Careful, the function doesn't return anything - instead it changes the 'friendship' dataframe\n",
    "    \n",
    "    Parameters\n",
    "    friendships (pd.DataFrame): df with rows as 'encoded seasons' and columns as 'encoded friendship names'.\n",
    "    hostile_orders (pd.DataFrame): df with all orders corresponding to 'acts of hostility'\n",
    "    N_hostile_min (int): minimum number of hostile actions to consider this event as a betrayal\n",
    "    \n",
    "    Discussion\n",
    "    For each order, if the players were engaged in a friendship, it will first end the friendship and \n",
    "    then verifiy that this event is considered a betrayal by our definition.\n",
    "    \"\"\"\n",
    "    for i, o in hostile_orders.iterrows():\n",
    "        x = o.country\n",
    "        y = o.target_country\n",
    "        code = get_countries_code(x,y)\n",
    "        if friendships.loc[o.year, code]:\n",
    "            # 1. it breaks the friendship\n",
    "            friendships.loc[o.year+0.5:, code] = 0 \n",
    "            # 2. did a betrayal happened ? \n",
    "            # we must just verify that another hostile action happened after this\n",
    "            q = \"year >= {}  & ((country == @x & target_country == @y) | (country == @y & target_country == @x) )\".format(o.year, x, y)\n",
    "            query = hostile_orders.query(q)\n",
    "            if len(query) >= N_hostile_min: \n",
    "                # print(\"   - betrayal happened for \", code)\n",
    "                friendships.loc[o.year, code] = x "
   ]
  },
  {
   "cell_type": "code",
   "execution_count": 24,
   "metadata": {},
   "outputs": [
    {
     "name": "stdout",
     "output_type": "stream",
     "text": [
      "         AI\n",
      "1901.0  0.0\n",
      "1901.5  0.0\n",
      "1902.0  0.0\n",
      "1902.5  0.0\n",
      "1903.0  0.0\n",
      "1903.5  0.0\n",
      "1904.0  0.0\n",
      "1904.5  1.0\n",
      "1905.0  0.0\n",
      "1905.5  1.0\n",
      "1906.0  1.0\n",
      "1906.5  1.0\n",
      "1907.0  1.0\n",
      "1907.5  1.0\n",
      "- friendships: ['AI']\n",
      "    * length of friendship:  6\n"
     ]
    }
   ],
   "source": [
    "# let's test those functions\n",
    "years = np.arange(1901, max(friendly_orders.year.max(), hostile_orders.year.max()) + 0.5, 0.5)\n",
    "friendships = pd.DataFrame(columns=pairs, index = years, dtype = np.int8).fillna(0)\n",
    "find_friendships(friendships, friendly_orders, hostile_orders)\n",
    "find_betrayals(friendships, hostile_orders)\n",
    "print(friendships[[c for c in friendships.columns if np.count_nonzero(friendships[c])]])\n",
    "analyse_friendships(friendships)"
   ]
  },
  {
   "cell_type": "markdown",
   "metadata": {},
   "source": [
    "As we can see here, there is something wrong with this code (*this example was selected to illustrate a game not working*). In this friendship (game 37317), there is a problem in the year 1904 for the friendship 'AI'. It is hard to fix this problem with the current approach, and we had to leave it behind. Let's show our better approach to solve the **friendship identification problem**.\n",
    "\n",
    "### Finding Friendships Algorithm\n",
    "\n",
    "The final algorithm to find friendships and betrayals is rather complex, so here is a high-level explanation of what it does.\n",
    "\n",
    "*Abbreviations used recurrently in the code*\n",
    "- AoF = \"Act of friendship\"\n",
    "- AoH = \"Act of hostility\"\n",
    "\n",
    "The algorithm's main idea is to consider a series of AoFs that we call '**bags of AoF**'. Those bags, with what separates them, is what must be analyzed. Let's define 2 criteria: one internal criterion and one external criterion that 'bags of AoF' must verify in order to be part of an actual friendship.\n",
    "\n",
    "a. **Internal criteria** that a bag of AOFs must verify (*internal* because it only depends on the AoFs)\n",
    "- more than 2 acts emitted by the 2 countries\n",
    "- the overall time elapsed is longer than 1.5 years\n",
    "\n",
    "b. **External criterion** that a bag of AoFs must verify (*external* because the criterion depends on the AoHs that happened at the same time)\n",
    "- no AoH in the same time range\n",
    "\n",
    "\n",
    "The algorithm includes the following steps:\n",
    "\n",
    "**For each pair of countries** (*their friendship is represented by a column of the 'friendships' dataframe*): \n",
    "1. Find all AoFs that happened between them. Consider them like a bag of AoFs. \n",
    "2. Verify that this 'bag of acts of friendships' (BAOF) verifies the *internal criteria* mentioned above. If so, fill all cells between the first season and the last season with '1's. Else, make sure '0's are placed at the seasons of interest. \n",
    "3. Find acts of hostility that happened between the same time range as the bag of words. Split the bag of words (*actually, it's the seasons array that is split*) for every act of hostility so that we obtain \n",
    "4. For each bag of AoF (hence, uninterrupted by hostility, so external validity is verified !) verify internal validity again. If not verified, replace '1's with zeros.\n",
    "5. Find betrayal, as the event:  \"breaking a bags of AoFs with more than 1 hostile action\".\n",
    "\n",
    "\n",
    "Let's note that since step 3 doesn't need to be repeated, it is not a recursive algorithm. Recursive approaches were also tried, but they turned out to be a lot harder than this. \n",
    "\n",
    "Before implementing this algorithm, we need a 'splitting' function that is also a little tricky to find. There are several ways to do this splitting properly (recursive splitting would be one way) but we will use a vectorized approach. **We want to split a list of 'ones' divided by zeros into a list of 'bags' of ones**. Let's just show how one can do that here using the power of **numpy**. "
   ]
  },
  {
   "cell_type": "code",
   "execution_count": 25,
   "metadata": {},
   "outputs": [
    {
     "data": {
      "text/plain": [
       "[array([1.]),\n",
       " array([0., 0.]),\n",
       " array([1., 1., 1.]),\n",
       " array([0., 0., 0., 0., 0., 0.]),\n",
       " array([1.])]"
      ]
     },
     "execution_count": 25,
     "metadata": {},
     "output_type": "execute_result"
    }
   ],
   "source": [
    "# illustration of the splitting algorithm \n",
    "ones = np.array([1., 0., 0., 1., 1., 1., 0., 0., 0., 0., 0., 0., 1.])\n",
    "delta = ones[1:] - ones[:-1]\n",
    "idcs = np.where(delta != 0)[0]+1\n",
    "bags = np.split(ones, idcs)\n",
    "bags"
   ]
  },
  {
   "cell_type": "markdown",
   "metadata": {},
   "source": [
    "As we can see, it works well ! Let's just write a few functions for those tasks, and then we can implement the overall algorithm safely."
   ]
  },
  {
   "cell_type": "code",
   "execution_count": 26,
   "metadata": {},
   "outputs": [],
   "source": [
    "length_year = 1.5\n",
    "countries = ['A', 'E', 'F', 'G', 'I', 'R', 'T']\n",
    "pairs_tuple = [(x,y) for x in countries for y in countries if y > x]\n",
    "\n",
    "def are_AOFs_friendship(AOFs, x, y, length_year = 1.0, n_xy_min = 2, n_min = 4):\n",
    "    \"\"\"Internal validity criteria:\n",
    "    Given a dataframe of 'AoF's, and the 2 countries of interest, \n",
    "    it returns the validity of this series of friendly actions. \n",
    "    \"\"\"\n",
    "    if not len(AOFs): return False, None, None\n",
    "    # extract number of mutual supports between these 2 countries\n",
    "    n_x = np.count_nonzero(AOFs.country == x)\n",
    "    n_y = len(AOFs) - n_x\n",
    "    # extract information about the year\n",
    "    y_min = AOFs.year.min()\n",
    "    y_max = AOFs.year.max()\n",
    "    # print(get_countries_code(x,y), y_min, y_max)\n",
    "    return (n_x >= n_xy_min and n_y >= n_xy_min and (n_x + n_y) >= n_min and (y_max - y_min) >= length_year), y_min, y_max\n",
    "\n",
    "def get_bags_of_ones_idcs(ones):\n",
    "    \"\"\"Given a numpy array of ones, returns the indices where to split the array \n",
    "    so that all ones are together and all zeros are together, in sub arrays, once split.\"\"\"\n",
    "    delta = ones[1:] - ones[:-1]\n",
    "    idcs = np.where(delta != 0)[0]+1\n",
    "    return idcs"
   ]
  },
  {
   "cell_type": "markdown",
   "metadata": {},
   "source": [
    "Here is the infamous function. Readers can now note the last parameter of the code: N_hostile_min (*is often referred to as N later on*), which is **the minimum number of acts of hostility required so that a broken friendship becomes a betrayal**. Intuitively, one would say that N = 1 is the best candidate (at least, it seems to us). However, the original paper suggested using N = 2, probably to only select betrayals that are **harder** in terms of consequences over the friendship. Since we were not sure about this parameter, we decided to declare it as a hyperparameter in our analysis, and later a graph will analyze its effect."
   ]
  },
  {
   "cell_type": "code",
   "execution_count": 27,
   "metadata": {},
   "outputs": [],
   "source": [
    "def find_friendships_and_betrayals(friendships, friendly_orders, hostile_orders, N_hostile_min = 2, ):\n",
    "    \"\"\"Fills the 'friendships' dataframe by adding '1's to signify that a pair of players engaged in a \n",
    "    reciprocal friendship.\n",
    "    \n",
    "    Careful, the function doesn't return anything - instead it changes the 'friendships' dataframe\n",
    "    which is the friendship matrix of the provided game. \n",
    "    \n",
    "    Parameters\n",
    "    friendships (pd.DataFrame): df with rows as 'encoded seasons' and columns as 'encoded friendship names'.\n",
    "    friendly_orders (pd.DataFrame): df with all orders corresponding to 'acts of friendship'\n",
    "    length_year (int): minimum amount of time that must elapse between the first AoF and the last one.\n",
    "    N_hostile_min (int): min number of AoH so that a broken friendship is considered a betrayal. \n",
    "    \"\"\"\n",
    "    for pair in pairs:\n",
    "        # 1. make a query for all acts of support of this pair of countries    \n",
    "        x, y = pair\n",
    "        q = \"country in (@x, @y) & target_country in (@x, @y)\"\n",
    "        query1 = friendly_orders.query(q)\n",
    "        # 2. verify internal validity of AoFs\n",
    "        is_valid, y_min, y_max = are_AOFs_friendship(AOFs = query1, x = x, y = y)\n",
    "        if is_valid:\n",
    "            # Fill with '1' everywhere\n",
    "            code = get_countries_code(x,y)\n",
    "            friendships.loc[y_min:y_max, code] = 1\n",
    "            # Look for acts of hostility\n",
    "            q = \"year < @y_max & year > @y_min & country in (@x, @y) & target_country in (@x, @y)\"\n",
    "            query2 = hostile_orders.query(q)\n",
    "            # Each time we find an AoH, break the friendship at this season\n",
    "            for i, hostile_order in query2.iterrows(): \n",
    "                friendships.loc[hostile_order.year, code] = 0    \n",
    "            # Verify again that each small bag of AoFs is valid or not\n",
    "            # a. get the indices using the values \n",
    "            idcs = get_bags_of_ones_idcs(friendships.loc[y_min:y_max, code].values)\n",
    "            # b. and make the split using the indices of the dataframe\n",
    "            bags_of_years = np.split(friendships.loc[y_min:y_max, code].index.values, idcs)\n",
    "            # c. loop inside even (not odd) bags of years (the other ones are those with betrayals)\n",
    "            # we know the first one '0' will be containing a friendship, that's why we can do this\n",
    "            for years in bags_of_years[::2]: \n",
    "                AoFs = query1.query(\"year in @years\")\n",
    "                # print(AoFs[[\"year\",\"unit_order\", \"country\", \"target_country\"]], \"\\n\")\n",
    "                is_valid, _, _ = are_AOFs_friendship(AOFs= AoFs, x = x, y = y, n_xy_min = 1, n_min = 3)\n",
    "                if not is_valid:\n",
    "                    # this friendship is cancelled\n",
    "                    friendships.loc[years, code] = 0  \n",
    "            # Final step: find betrayals inside odd bags of years\n",
    "            for years in bags_of_years[1::2]:\n",
    "                # first, verify it's coming after a friendship\n",
    "                if friendships.loc[years[0]-0.5, code]:   \n",
    "                    # get the hostile orders in the desired time interval \n",
    "                    AoHs = query2.query(\"year in @years\")\n",
    "                    if len(AoHs) >= N_hostile_min:\n",
    "                        # betrayal happened here ! \n",
    "                        betrayal = AoHs.iloc[0]\n",
    "                        friendships.loc[betrayal.year, code] = betrayal.country"
   ]
  },
  {
   "cell_type": "code",
   "execution_count": 28,
   "metadata": {},
   "outputs": [
    {
     "name": "stdout",
     "output_type": "stream",
     "text": [
      "         AI\n",
      "1901.0  0.0\n",
      "1901.5  0.0\n",
      "1902.0  0.0\n",
      "1902.5  0.0\n",
      "1903.0  0.0\n",
      "1903.5  0.0\n",
      "1904.0  0.0\n",
      "1904.5  0.0\n",
      "1905.0  0.0\n",
      "1905.5  1.0\n",
      "1906.0  1.0\n",
      "1906.5  1.0\n",
      "1907.0  1.0\n",
      "1907.5  1.0\n",
      "- friendships: ['AI']\n",
      "    * length of friendship:  5\n"
     ]
    }
   ],
   "source": [
    "# let's test this function\n",
    "years = np.arange(1901, max(friendly_orders.year.max(), hostile_orders.year.max()) + 0.5, 0.5)\n",
    "friendships = pd.DataFrame(columns=pairs, index = years, dtype = np.int8).fillna(0)\n",
    "find_friendships_and_betrayals(friendships, friendly_orders, hostile_orders, N_hostile_min=1)\n",
    "print(friendships[[c for c in friendships.columns if np.count_nonzero(friendships[c])]])\n",
    "analyse_friendships(friendships)"
   ]
  },
  {
   "cell_type": "markdown",
   "metadata": {},
   "source": [
    "Good news: the detection of friendships is finally working, and everything is done inside one function. \n",
    "\n",
    "**Note for debugging**: *it is possible to nicely visualize in a terminal the 'friendships' dataframe and the orders with the following commands**\n",
    "- to display the acts of friendship: `friendly_orders[[\"year\", \"country\", \"target_country\"]]`\n",
    "- same by filtering for 2 countries: `friendly_orders[[\"year\", \"country\", \"target_country\"]].query(\"country in ('E', 'G')\")`\n",
    "- or even the more complete `friendly_orders[[\"year\", \"country\", \"target_country\"]].query(\"country in ('E', 'G') and target_country in ('E', 'G')\")` \n",
    "- to display friendships that matter: `friendships[[c for c in friendships.columns if np.count_nonzero(friendships[c])]]`"
   ]
  },
  {
   "cell_type": "markdown",
   "metadata": {},
   "source": [
    "## Scaling to several games\n",
    "\n",
    "Until now, we have only been looking at a single game. We must start to scale our analysis to gain a broader perspective. Let's see what we can do. The first thing to do is make the process a little more functional by defining methods for each step of the process."
   ]
  },
  {
   "cell_type": "code",
   "execution_count": 29,
   "metadata": {},
   "outputs": [],
   "source": [
    "def get_dataframes(game_id):\n",
    "    orders = all_orders.query(\"game_id == {}\".format(game_id))\n",
    "    turns = all_turns.query(\"game_id == {}\".format(game_id))\n",
    "    units = all_units.query(\"game_id == {}\".format(game_id))\n",
    "    return orders, turns, units"
   ]
  },
  {
   "cell_type": "code",
   "execution_count": 30,
   "metadata": {},
   "outputs": [],
   "source": [
    "def get_empty_friendships(max_year):\n",
    "    countries = ['A', 'E', 'F', 'G', 'I', 'R', 'T']\n",
    "    pairs = [x+y for x in countries for y in countries if y > x]\n",
    "    years = np.arange(1901, max_year + 0.5, 0.5)\n",
    "    # create a dataframe with each possible friendship as columns and each year as rows\n",
    "    return pd.DataFrame(columns=pairs, index = years, dtype = np.int8).fillna(0)"
   ]
  },
  {
   "cell_type": "code",
   "execution_count": 31,
   "metadata": {},
   "outputs": [],
   "source": [
    "def process_orders(orders, turns, units):\n",
    "    try:\n",
    "        # 1. find the country that emitted each order \n",
    "        countries = orders.unit_id.apply(lambda x: units[[\"unit_id\", \"country\"]].query(\"unit_id == {}\".format(x)).country.item())\n",
    "        orders[\"country\"] = countries\n",
    "        # 2. compute the 'encoded year' at which each order was passed\n",
    "        turns[\"season_encoded\"] = turns[\"year\"] + 0.5 * (turns[\"season\"] == \"Fall\")\n",
    "        years = orders.turn_num.apply(lambda x: turns.query(\"turn_num == {}\".format(x)).season_encoded.item())\n",
    "        orders[\"year\"] = years\n",
    "        # 3. get the target countries\n",
    "        targets = orders.apply(lambda o: get_target_country(o, orders), axis = 1)\n",
    "        orders[\"target_country\"] = targets\n",
    "        return True\n",
    "    except ValueError:\n",
    "        print(\"Data is corrupted, and execution was aborted\")\n",
    "        return False"
   ]
  },
  {
   "cell_type": "code",
   "execution_count": 32,
   "metadata": {},
   "outputs": [],
   "source": [
    "def analyse_game(game, verbose = False):\n",
    "    # get the dataframes and process them\n",
    "    orders, turns, units = get_dataframes(game_id = game.id.item())\n",
    "    has_succeeded = process_orders(orders, turns, units)\n",
    "    if not has_succeeded: return None, None, None\n",
    "    \n",
    "    # find the acts of friendships / hostility\n",
    "    acts_of_friendships = orders.apply(is_order_act_of_friendship, axis = 1)\n",
    "    acts_of_hostility = orders.apply(is_move_act_of_hostility, axis = 1)\n",
    "    friendly_orders = orders[acts_of_friendships]\n",
    "    hostile_orders = orders[acts_of_hostility]\n",
    "    if verbose:\n",
    "        print(\"- {} acts of friendship and {} acts of hostility over {} orders \".format(len(friendly_orders), len(hostile_orders), len(orders)))\n",
    "    \n",
    "    # construct the friendship matrix\n",
    "    if len(friendly_orders) and len(hostile_orders):\n",
    "        friendships = get_empty_friendships(max_year = max(friendly_orders.year.max(), hostile_orders.year.max()))\n",
    "        find_friendships_and_betrayals(friendships, friendly_orders, hostile_orders, N_hostile_min=1)\n",
    "        return friendships, friendly_orders, hostile_orders\n",
    "    else: \n",
    "        return None, None, None"
   ]
  },
  {
   "cell_type": "markdown",
   "metadata": {},
   "source": [
    "Now that we have all our functions, we can verify that we obtain the same results as before (and the answer is \"yes we do\")"
   ]
  },
  {
   "cell_type": "code",
   "execution_count": 33,
   "metadata": {},
   "outputs": [
    {
     "name": "stdout",
     "output_type": "stream",
     "text": [
      "- friendships: ['AI']\n",
      "    * length of friendship:  5\n"
     ]
    }
   ],
   "source": [
    "game = all_games.query(\"id == 37317\")\n",
    "friendships, _, _ = analyse_game(game)\n",
    "if friendships is not None:\n",
    "    analyse_friendships(friendships)\n",
    "else:\n",
    "    print(\"No acts of friendship or no acts of hostility\")"
   ]
  },
  {
   "cell_type": "markdown",
   "metadata": {},
   "source": [
    "We may now try to use those functions to process more games ! "
   ]
  },
  {
   "cell_type": "code",
   "execution_count": 34,
   "metadata": {},
   "outputs": [
    {
     "name": "stdout",
     "output_type": "stream",
     "text": [
      "\n",
      "*** Game 107143 ***\n",
      "- friendships: ['AI', 'GR']\n",
      "    * length of friendship:  14\n",
      "    * length of friendship:  23\n",
      "\n",
      "*** Game 58972 ***\n",
      "- friendships: ['EF']\n",
      "    * length of friendship  EF  is  20\n",
      "        -> EF  ends betrayed by  E \n",
      "\n",
      "*** Game 90995 ***\n",
      "- friendships: ['ER', 'IT', 'RT']\n",
      "    * length of friendship  ER  is  7\n",
      "        -> ER  ends betrayed by  R \n",
      "    * length of friendship:  3\n",
      "    * length of friendship:  5\n",
      "\n",
      "*** Game 121448 ***\n",
      "- friendships: ['EG']\n",
      "    * length of friendship  EG  is  6\n",
      "        -> EG  ends betrayed by  E \n",
      "\n",
      "*** Game 97223 ***\n",
      "- friendships: ['AT']\n",
      "    * length of friendship:  17\n"
     ]
    }
   ],
   "source": [
    "# let's run this function N times\n",
    "N = 5\n",
    "games_sample = all_games.query(\"num_turns >= 60\").sample(N)\n",
    "for i, game in games_sample.iterrows(): \n",
    "    print(\"\\n*** Game {} ***\".format(game.id.item()))\n",
    "    friendships, _, _ = analyse_game(game)\n",
    "    if friendships is not None:\n",
    "        analyse_friendships(friendships)"
   ]
  },
  {
   "cell_type": "markdown",
   "metadata": {},
   "source": [
    "By doing so, one observes that according to our definition, **not all games contain friendships** and that **most friendships end with a betrayal**. This makes sense with the 'game's mindset'. Here is a quote from the creators of the game. No wonder we observe a lot of betrayals.\n",
    "\n",
    "> \"Luck plays no part in Diplomacy. Cunning and cleverness honesty and perfectly-timed betrayal are the tools needed to outwit your fellow players. The most skillful negotiator will climb to victory over the backs of both enemies and friends. Who do you trust?\"\n",
    "\n",
    "We also notice that, in many games, there are very few acts of friendship (at least, there are many more acts of hostility than acts of friendship). For instance, the game '91 843' includes 1002 orders, and only '2' of them were considered acts of friendship. We guess that there are two types of games: those with many alliances and betrayals, and those with more personal strategies where players do not coordinate a lot. **We are only interested in this first type of games**, so we will filter the games to only keep the relevant ones for our analysis. The next section of this notebook will go through the procedure to generate the datasets used for further statistical analysis.\n",
    "\n",
    "# V. Dataset Generation \n",
    "\n",
    "As the dataset is massive and the data-processing is computationally very expensive, we decided to generate smaller datasets only containing the data we care about. We generate two different datasets:\n",
    "1. A subset of the initial dataset that can be filtered to only include games with friendships.\n",
    "2. A dataset with 'season features' that is used by our classifier (everything is explained below).\n",
    "\n",
    "## 1. Subset from the original dataset\n",
    "\n",
    "The next block of code generates a portion of the dataset as NumPy objects to analyze them more easily later down the road. It randomly samples games that have more than 50 turns, because longer games tend to have more friendships (that's about half of all games, as one can see with the .describe function), and if the game has a friendship, it's going to save (i) its game_id and (ii) the generated friendship array as a NumPy array (.npy file)."
   ]
  },
  {
   "cell_type": "code",
   "execution_count": 35,
   "metadata": {},
   "outputs": [
    {
     "data": {
      "text/plain": [
       "count    21197.000000\n",
       "mean        47.029391\n",
       "std         16.776897\n",
       "min          2.000000\n",
       "25%         36.000000\n",
       "50%         46.000000\n",
       "75%         56.000000\n",
       "max        467.000000\n",
       "Name: num_turns, dtype: float64"
      ]
     },
     "execution_count": 35,
     "metadata": {},
     "output_type": "execute_result"
    }
   ],
   "source": [
    "# we see that the median number of turns per game is 46\n",
    "all_games.num_turns.describe()"
   ]
  },
  {
   "cell_type": "code",
   "execution_count": 36,
   "metadata": {},
   "outputs": [
    {
     "name": "stdout",
     "output_type": "stream",
     "text": [
      "#games to find:  5\n",
      "#games to find:  4\n",
      "#games to find:  3\n",
      "#games to find:  2\n",
      "#games to find:  1\n",
      "elapsed:  15.812840938568115\n"
     ]
    }
   ],
   "source": [
    "# hyper-parameters\n",
    "N = 5\n",
    "num_turns_min = 0 \n",
    "game_should_have_friendships = False\n",
    "verbose = False\n",
    "\n",
    "# code starts here\n",
    "n_games = N\n",
    "game_ids = []\n",
    "all_friendships = []\n",
    "games_feature = []\n",
    "\n",
    "s = time.time()\n",
    "games = all_games.query(\"num_turns >= @num_turns_min\")\n",
    "while n_games:\n",
    "    game = games.query(\"id not in @game_ids\").sample(1)\n",
    "    game_id = game.id.item()\n",
    "    friendships, friendly, hostile = analyse_game(game, verbose = verbose)\n",
    "    if friendships is not None:\n",
    "        cols = [col for col in friendships.columns if np.count_nonzero(friendships[col] != 0)]\n",
    "        # create a boolean condition depending on the hyperparameters \n",
    "        condition = len(cols) if game_should_have_friendships else True\n",
    "        if condition:\n",
    "            print(\"#games to find: \", n_games)\n",
    "            n_games -= 1\n",
    "            game_ids.append(game_id)\n",
    "            all_friendships.append(friendships.values)\n",
    "            games_feature.append((len(friendly), len(hostile), game.num_turns.item()))\n",
    "            \n",
    "            if verbose:\n",
    "                print(\"A valid GAME was found: \", game_id)\n",
    "                analyse_friendships(friendships)\n",
    "                print(\"\")\n",
    "e = time.time()\n",
    "\n",
    "print(\"elapsed: \", e-s)\n",
    "\n",
    "## TO SAVE:  UNCOMMENT THIS\n",
    "#np.save(\"data/subset_T{}_N1_unfiltered/games_id.npy\".format(N), np.array(game_ids))\n",
    "#np.save(\"data/subset_T{}_N1_unfiltered/games_features_id.npy\".format(N), np.array(games_feature, dtype=object))\n",
    "#np.save(\"data/subset_T{}_N1_unfiltered/friendships.npy\".format(N), np.array(all_friendships, dtype=object))"
   ]
  },
  {
   "cell_type": "markdown",
   "metadata": {},
   "source": [
    "## 2. Feature generation for machine learning analysis\n",
    "\n",
    "Let's generate some features that we can later analyze using machine learning methods. \n",
    "\n",
    "We want to have 250 betrayals and 250 lasting friendships. However, it is not the friendships that we care about, but it is rather the seasons of each friendship. Indeed, we want to detect if a player will betray his/her ally during the next season, hence, the 'input' of the classifier will be each season of each of those games.\n",
    "\n",
    "The first thing to do is write a function `get_features` which, given a friendship and its context (hence the actions of the involved players), returns the inputs of the machine learning classifier (either to train or to test). The classifier that we want to train must take as input a season and return as output **if a betrayal happens during the next season**.\n",
    "\n",
    "**Feature selection is hard**, and unfortunately, we couldn't find a set of features that yield good results, partly because of lack of time. Here is the list of features that we used:\n",
    "- length of the friendship at this season\n",
    "- number of acts of \\textbf{hostility} of each of the two involved players towards all other players at this season\n",
    "- number of acts of \\textbf{support} of each of the two involved players towards all other players at this season\n",
    "- average number of mutual supports of the two involved players towards each other for the last three seasons\n",
    "\n",
    "This is a total of 8 features for each game season. "
   ]
  },
  {
   "cell_type": "code",
   "execution_count": 37,
   "metadata": {},
   "outputs": [],
   "source": [
    "def get_xy(code, seasons): \n",
    "    \"\"\"Given a friendship code and an array of seasons, it will return the betrayer and the victim.\n",
    "    If no betrayal occurred, it picks randomly who is what. \n",
    "    \"\"\"\n",
    "    # find x and y\n",
    "    xy = list(code)\n",
    "    if type(seasons[-1]) == str: \n",
    "        x = seasons[-1]\n",
    "    else:\n",
    "        x = xy[np.random.randint(2)]\n",
    "    xy.remove(x)\n",
    "    y = xy[0]\n",
    "    return x,y"
   ]
  },
  {
   "cell_type": "code",
   "execution_count": 38,
   "metadata": {},
   "outputs": [],
   "source": [
    "# features as an array\n",
    "columns = [\"game_id\", \"has_betrayal\", \"length\", \"outcome\" ,\"n_aoh_x\", \"n_aoh_y\", \"n_aos_x\", \"n_aos_y\", \"supports_xy\" , \"supports_yx\"]\n",
    "\n",
    "\n",
    "def get_features(game_id, has_betrayal, friendship, friendly_orders, hostile_orders):\n",
    "    \"\"\"\n",
    "    Given the friendships' column representing 1 friendship and several other parameters about the context,\n",
    "    it will create all the feature vectors for each season, and will return them all together \n",
    "    as a Pandas dataframe. \n",
    "    \n",
    "    Parameters\n",
    "    game_id (int)\n",
    "    has_betrayal (bool)\n",
    "    friendship (pd.Serie): column representing the friendship in the friendships dataframe\n",
    "    friendly_orders: all the friendly orders of this game\n",
    "    hostile_orders: all the hostile orders of this game\n",
    "    \n",
    "    Notations\n",
    "    X = 'betrayer'\n",
    "    Y = 'betrayed' = 'victim'\n",
    "    \"\"\"\n",
    "    # n = len(friendship[friendship != 0])\n",
    "    n = len(friendship[friendship == 1])\n",
    "    features = pd.DataFrame(data=np.zeros(shape=(n, len(columns))),columns = columns)\n",
    "        \n",
    "    \n",
    "    # find the betrayals inside this friendship\n",
    "    betrayals = [type(s) == str for s in friendship]\n",
    "    code = friendship.name\n",
    "    # some very rare games have more than 1 betrayal: 90346\n",
    "    # hence we split the friendship into its sub-components\n",
    "    splitted = np.split(friendship.values, np.where(betrayals)[0]+1)    \n",
    "\n",
    "    # i: iterator over rows inside the features dataframe\n",
    "    # j: iterator inside the splitted array we are using\n",
    "    # s: iterator over each splitted array we are using\n",
    "    i,j,s = 0,0,0\n",
    "    for year, season in friendship.iteritems():\n",
    "        if not season: continue\n",
    "            \n",
    "        if type(season) == str: \n",
    "            # a betrayal occurred --> let's pass to the next splitted\n",
    "            features.loc[i-1,\"outcome\"] = 1\n",
    "            s += 1\n",
    "            j = 0\n",
    "        else:\n",
    "            # it means this is a season where: \n",
    "            # - the 2 playes are engaged in a friendship\n",
    "            # - there is no betrayal (yet...)\n",
    "            x,y = get_xy(code, splitted[s])\n",
    "            # 1. Easy features\n",
    "            features.loc[i,\"game_id\"] = game_id\n",
    "            features.loc[i,\"has_betrayal\"] = has_betrayal\n",
    "            features.loc[i,\"length\"] = j+1\n",
    "            features.loc[i,\"outcome\"] = 0\n",
    "            # 2. number of acts of hostility\n",
    "            # a. n_aoh_x\n",
    "            h_query = hostile_orders.query(\"country == @x & year == @year\")\n",
    "            features.loc[i,\"n_aoh_x\"] = len(h_query)\n",
    "            # b. n_aoh_y\n",
    "            h_query = hostile_orders.query(\"country == @y & year == @year\")\n",
    "            features.loc[i,\"n_aoh_y\"] = len(h_query)\n",
    "            # 3. number of AoS emitted towards other players \n",
    "            # a. n_aos_x\n",
    "            f_query = friendly_orders.query(\"country == @x & target_country != @y & year == @year\")\n",
    "            features.loc[i,\"n_aos_x\"] = len(f_query)\n",
    "            # a. n_aos_y\n",
    "            f_query = friendly_orders.query(\"country == @y & target_country != @x & year == @year\")\n",
    "            features.loc[i,\"n_aos_y\"] = len(f_query)\n",
    "            # 4. Average number of mutual supports during the last 3 seasons\n",
    "            # y to x\n",
    "            supports_yx = friendly_orders.query(\"country == @y & target_country == @x & year <= @year & year > (@year-1.5)\"\n",
    "                                               ).groupby(\"year\").apply(len)\n",
    "            if len(supports_yx): features.loc[i,\"supports_yx\"] = supports_yx.mean()\n",
    "            # x to y \n",
    "            supports_xy = friendly_orders.query(\"country == @x & target_country == @y & year <= @year & year > (@year-1.5)\"\n",
    "                                               ).groupby(\"year\").apply(len)\n",
    "            if len(supports_xy):features.loc[i,\"supports_xy\"] = supports_xy.mean()\n",
    "            # last. increment steppers\n",
    "            i += 1 \n",
    "            j += 1\n",
    "            \n",
    "    return features    "
   ]
  },
  {
   "cell_type": "markdown",
   "metadata": {},
   "source": [
    "This block of code is only used for debugging (we want to verify that we compute good features). It only creates the variables required to test the `get_features`, as shown below."
   ]
  },
  {
   "cell_type": "code",
   "execution_count": 39,
   "metadata": {},
   "outputs": [
    {
     "name": "stdout",
     "output_type": "stream",
     "text": [
      "- 41 acts of friendship and 239 acts of hostility over 1077 orders \n"
     ]
    },
    {
     "data": {
      "text/html": [
       "<div>\n",
       "<style scoped>\n",
       "    .dataframe tbody tr th:only-of-type {\n",
       "        vertical-align: middle;\n",
       "    }\n",
       "\n",
       "    .dataframe tbody tr th {\n",
       "        vertical-align: top;\n",
       "    }\n",
       "\n",
       "    .dataframe thead th {\n",
       "        text-align: right;\n",
       "    }\n",
       "</style>\n",
       "<table border=\"1\" class=\"dataframe\">\n",
       "  <thead>\n",
       "    <tr style=\"text-align: right;\">\n",
       "      <th></th>\n",
       "      <th>game_id</th>\n",
       "      <th>has_betrayal</th>\n",
       "      <th>length</th>\n",
       "      <th>outcome</th>\n",
       "      <th>n_aoh_x</th>\n",
       "      <th>n_aoh_y</th>\n",
       "      <th>n_aos_x</th>\n",
       "      <th>n_aos_y</th>\n",
       "      <th>supports_xy</th>\n",
       "      <th>supports_yx</th>\n",
       "    </tr>\n",
       "  </thead>\n",
       "  <tbody>\n",
       "    <tr>\n",
       "      <th>0</th>\n",
       "      <td>86785.0</td>\n",
       "      <td>True</td>\n",
       "      <td>1.0</td>\n",
       "      <td>0.0</td>\n",
       "      <td>2.0</td>\n",
       "      <td>1.0</td>\n",
       "      <td>0.0</td>\n",
       "      <td>0.0</td>\n",
       "      <td>0.0</td>\n",
       "      <td>0.0</td>\n",
       "    </tr>\n",
       "    <tr>\n",
       "      <th>1</th>\n",
       "      <td>86785.0</td>\n",
       "      <td>True</td>\n",
       "      <td>2.0</td>\n",
       "      <td>0.0</td>\n",
       "      <td>3.0</td>\n",
       "      <td>1.0</td>\n",
       "      <td>0.0</td>\n",
       "      <td>1.0</td>\n",
       "      <td>1.0</td>\n",
       "      <td>0.0</td>\n",
       "    </tr>\n",
       "    <tr>\n",
       "      <th>2</th>\n",
       "      <td>86785.0</td>\n",
       "      <td>True</td>\n",
       "      <td>3.0</td>\n",
       "      <td>0.0</td>\n",
       "      <td>3.0</td>\n",
       "      <td>2.0</td>\n",
       "      <td>0.0</td>\n",
       "      <td>0.0</td>\n",
       "      <td>1.0</td>\n",
       "      <td>0.0</td>\n",
       "    </tr>\n",
       "    <tr>\n",
       "      <th>3</th>\n",
       "      <td>86785.0</td>\n",
       "      <td>True</td>\n",
       "      <td>4.0</td>\n",
       "      <td>0.0</td>\n",
       "      <td>2.0</td>\n",
       "      <td>0.0</td>\n",
       "      <td>0.0</td>\n",
       "      <td>0.0</td>\n",
       "      <td>1.0</td>\n",
       "      <td>0.0</td>\n",
       "    </tr>\n",
       "    <tr>\n",
       "      <th>4</th>\n",
       "      <td>86785.0</td>\n",
       "      <td>True</td>\n",
       "      <td>5.0</td>\n",
       "      <td>1.0</td>\n",
       "      <td>2.0</td>\n",
       "      <td>2.0</td>\n",
       "      <td>0.0</td>\n",
       "      <td>0.0</td>\n",
       "      <td>1.0</td>\n",
       "      <td>1.0</td>\n",
       "    </tr>\n",
       "  </tbody>\n",
       "</table>\n",
       "</div>"
      ],
      "text/plain": [
       "   game_id has_betrayal  length  outcome  n_aoh_x  n_aoh_y  n_aos_x  n_aos_y  \\\n",
       "0  86785.0         True     1.0      0.0      2.0      1.0      0.0      0.0   \n",
       "1  86785.0         True     2.0      0.0      3.0      1.0      0.0      1.0   \n",
       "2  86785.0         True     3.0      0.0      3.0      2.0      0.0      0.0   \n",
       "3  86785.0         True     4.0      0.0      2.0      0.0      0.0      0.0   \n",
       "4  86785.0         True     5.0      1.0      2.0      2.0      0.0      0.0   \n",
       "\n",
       "   supports_xy  supports_yx  \n",
       "0          0.0          0.0  \n",
       "1          1.0          0.0  \n",
       "2          1.0          0.0  \n",
       "3          1.0          0.0  \n",
       "4          1.0          1.0  "
      ]
     },
     "execution_count": 39,
     "metadata": {},
     "output_type": "execute_result"
    }
   ],
   "source": [
    "# try this fonction with one game in particular \n",
    "# IDs with several betrayals: 90346, 86785, 103566, 100325\n",
    "game = all_games.query(\"id == 86785\")\n",
    "game_id = game.id.item()\n",
    "friendships, friendly_orders, hostile_orders = analyse_game(game, verbose = True)\n",
    "cols = [col for col in friendships.columns if np.count_nonzero(friendships[col] != 0)]\n",
    "c = cols[0]\n",
    "friendship = friendships[c]\n",
    "get_features(game_id,True , friendship, friendly_orders, hostile_orders)"
   ]
  },
  {
   "cell_type": "markdown",
   "metadata": {},
   "source": [
    "Now that we know what features to extract and how to do so, let's do that many times over 2N games. We then save the results into the pickle format to later use this data for training and testing our classifier. "
   ]
  },
  {
   "cell_type": "code",
   "execution_count": 40,
   "metadata": {},
   "outputs": [
    {
     "name": "stdout",
     "output_type": "stream",
     "text": [
      "#games still to find:  2 with betrayals and 1 without betrayals\n",
      "#games still to find:  0 with betrayals and 1 without betrayals\n",
      "#games still to find:  0 with betrayals and 1 without betrayals\n",
      "#games still to find:  0 with betrayals and 0 without betrayals\n",
      "elapsed:  29.65506625175476\n"
     ]
    },
    {
     "data": {
      "text/html": [
       "<div>\n",
       "<style scoped>\n",
       "    .dataframe tbody tr th:only-of-type {\n",
       "        vertical-align: middle;\n",
       "    }\n",
       "\n",
       "    .dataframe tbody tr th {\n",
       "        vertical-align: top;\n",
       "    }\n",
       "\n",
       "    .dataframe thead th {\n",
       "        text-align: right;\n",
       "    }\n",
       "</style>\n",
       "<table border=\"1\" class=\"dataframe\">\n",
       "  <thead>\n",
       "    <tr style=\"text-align: right;\">\n",
       "      <th></th>\n",
       "      <th>game_id</th>\n",
       "      <th>has_betrayal</th>\n",
       "      <th>length</th>\n",
       "      <th>outcome</th>\n",
       "      <th>n_aoh_x</th>\n",
       "      <th>n_aoh_y</th>\n",
       "      <th>n_aos_x</th>\n",
       "      <th>n_aos_y</th>\n",
       "      <th>supports_xy</th>\n",
       "      <th>supports_yx</th>\n",
       "    </tr>\n",
       "  </thead>\n",
       "  <tbody>\n",
       "    <tr>\n",
       "      <th>0</th>\n",
       "      <td>76749.0</td>\n",
       "      <td>False</td>\n",
       "      <td>1.0</td>\n",
       "      <td>0.0</td>\n",
       "      <td>0.0</td>\n",
       "      <td>4.0</td>\n",
       "      <td>0.0</td>\n",
       "      <td>0.0</td>\n",
       "      <td>2.0</td>\n",
       "      <td>0.0</td>\n",
       "    </tr>\n",
       "    <tr>\n",
       "      <th>1</th>\n",
       "      <td>76749.0</td>\n",
       "      <td>False</td>\n",
       "      <td>2.0</td>\n",
       "      <td>0.0</td>\n",
       "      <td>2.0</td>\n",
       "      <td>2.0</td>\n",
       "      <td>0.0</td>\n",
       "      <td>2.0</td>\n",
       "      <td>2.0</td>\n",
       "      <td>3.0</td>\n",
       "    </tr>\n",
       "    <tr>\n",
       "      <th>2</th>\n",
       "      <td>76749.0</td>\n",
       "      <td>False</td>\n",
       "      <td>3.0</td>\n",
       "      <td>0.0</td>\n",
       "      <td>2.0</td>\n",
       "      <td>0.0</td>\n",
       "      <td>1.0</td>\n",
       "      <td>0.0</td>\n",
       "      <td>2.5</td>\n",
       "      <td>2.0</td>\n",
       "    </tr>\n",
       "    <tr>\n",
       "      <th>0</th>\n",
       "      <td>95173.0</td>\n",
       "      <td>True</td>\n",
       "      <td>1.0</td>\n",
       "      <td>0.0</td>\n",
       "      <td>0.0</td>\n",
       "      <td>0.0</td>\n",
       "      <td>0.0</td>\n",
       "      <td>0.0</td>\n",
       "      <td>1.0</td>\n",
       "      <td>0.0</td>\n",
       "    </tr>\n",
       "    <tr>\n",
       "      <th>1</th>\n",
       "      <td>95173.0</td>\n",
       "      <td>True</td>\n",
       "      <td>2.0</td>\n",
       "      <td>0.0</td>\n",
       "      <td>0.0</td>\n",
       "      <td>0.0</td>\n",
       "      <td>0.0</td>\n",
       "      <td>0.0</td>\n",
       "      <td>1.0</td>\n",
       "      <td>1.0</td>\n",
       "    </tr>\n",
       "  </tbody>\n",
       "</table>\n",
       "</div>"
      ],
      "text/plain": [
       "   game_id has_betrayal  length  outcome  n_aoh_x  n_aoh_y  n_aos_x  n_aos_y  \\\n",
       "0  76749.0        False     1.0      0.0      0.0      4.0      0.0      0.0   \n",
       "1  76749.0        False     2.0      0.0      2.0      2.0      0.0      2.0   \n",
       "2  76749.0        False     3.0      0.0      2.0      0.0      1.0      0.0   \n",
       "0  95173.0         True     1.0      0.0      0.0      0.0      0.0      0.0   \n",
       "1  95173.0         True     2.0      0.0      0.0      0.0      0.0      0.0   \n",
       "\n",
       "   supports_xy  supports_yx  \n",
       "0          2.0          0.0  \n",
       "1          2.0          3.0  \n",
       "2          2.5          2.0  \n",
       "0          1.0          0.0  \n",
       "1          1.0          1.0  "
      ]
     },
     "execution_count": 40,
     "metadata": {},
     "output_type": "execute_result"
    }
   ],
   "source": [
    "### Code to generate our machine learning dataset\n",
    "# HYPERPARAMETERS\n",
    "N = 2\n",
    "verbose = False\n",
    "\n",
    "# code starts here\n",
    "visited_ids = []\n",
    "n_betrayal, n_no_betrayal = N,N\n",
    "features = pd.DataFrame(data=np.zeros(shape=(0, len(columns))),columns = columns)\n",
    "\n",
    "s = time.time()\n",
    "games = all_games.query(\"num_turns >= 50\")\n",
    "while n_betrayal or n_no_betrayal:\n",
    "    # get one game\n",
    "    game = games.query(\"id not in @visited_ids\").sample(1)\n",
    "    game_id = game.id.item()\n",
    "    visited_ids.append(game_id)\n",
    "    \n",
    "    # perform our analysis on this game, and test for skip condition\n",
    "    friendships, friendly_orders, hostile_orders = analyse_game(game, verbose = verbose)\n",
    "    if friendships is None: continue\n",
    "        \n",
    "    # extract the columns that matters, and test for skip condition\n",
    "    cols = [col for col in friendships.columns if np.count_nonzero(friendships[col] != 0)]\n",
    "    if not len(cols): continue\n",
    "    \n",
    "    # for each friendship:\n",
    "    for c in cols:\n",
    "        friendship = friendships[c]\n",
    "        # 1. check if there is a betrayal\n",
    "        if type(friendship[friendship != 0].iloc[-1]) == str:\n",
    "            # there is a betrayal\n",
    "            if n_betrayal: \n",
    "                # 2. get the features\n",
    "                game_features = get_features(game_id, True, friendship, friendly_orders, hostile_orders)\n",
    "                features = pd.concat([features, game_features])\n",
    "                n_betrayal -= 1\n",
    "                # todo: find features\n",
    "        else:\n",
    "            # there is no betrayal\n",
    "            if n_no_betrayal:\n",
    "                # 2. get the features\n",
    "                game_features = get_features(game_id, False, friendship, friendly_orders, hostile_orders)\n",
    "                features = pd.concat([features, game_features])\n",
    "                # there wasn't a betrayal\n",
    "                n_no_betrayal -= 1    \n",
    "            \n",
    "    print(\"#games still to find:  {} with betrayals and {} without betrayals\".format(n_betrayal, n_no_betrayal))\n",
    "    if verbose:\n",
    "        print(\"A valid GAME was found: \", game_id)\n",
    "        analyse_friendships(friendships)\n",
    "        print(\"\")\n",
    "e = time.time()\n",
    "\n",
    "print(\"elapsed: \", e-s)\n",
    "\n",
    "## UNCOMMENT to save\n",
    "# features.to_pickle(\"data/features_B10_V10_N1/features.pkl\")\n",
    "features.head()"
   ]
  },
  {
   "cell_type": "markdown",
   "metadata": {},
   "source": [
    "# VI. Machine Learning Analysis: can we predict betrayals using game features ? \n",
    "\n",
    "As explained above, we collected some features from the game seasons of many friendships, and we now want to create **a classifier in order to predict if a betrayal will happen in the next season**. We try to perform logistic regression with our collected features.\n",
    "\n",
    "To train the data, we use a dataset of 200 games with a betrayal. Let's note that even if we only select games with a betrayal, most of the seasons are not labeled with `outcome = 1`. Indeed, for most seasons during a friendship, a betrayal doesn't occur during the following season. What we want to classify is not if a betrayal will happen at some point in the game, but it is if a betrayal will occur during **the next season**. "
   ]
  },
  {
   "cell_type": "code",
   "execution_count": 41,
   "metadata": {},
   "outputs": [
    {
     "data": {
      "text/html": [
       "<div>\n",
       "<style scoped>\n",
       "    .dataframe tbody tr th:only-of-type {\n",
       "        vertical-align: middle;\n",
       "    }\n",
       "\n",
       "    .dataframe tbody tr th {\n",
       "        vertical-align: top;\n",
       "    }\n",
       "\n",
       "    .dataframe thead th {\n",
       "        text-align: right;\n",
       "    }\n",
       "</style>\n",
       "<table border=\"1\" class=\"dataframe\">\n",
       "  <thead>\n",
       "    <tr style=\"text-align: right;\">\n",
       "      <th></th>\n",
       "      <th>game_id</th>\n",
       "      <th>has_betrayal</th>\n",
       "      <th>length</th>\n",
       "      <th>outcome</th>\n",
       "      <th>n_aoh_x</th>\n",
       "      <th>n_aoh_y</th>\n",
       "      <th>n_aos_x</th>\n",
       "      <th>n_aos_y</th>\n",
       "      <th>supports_xy</th>\n",
       "      <th>supports_yx</th>\n",
       "    </tr>\n",
       "  </thead>\n",
       "  <tbody>\n",
       "    <tr>\n",
       "      <th>0</th>\n",
       "      <td>54754.0</td>\n",
       "      <td>True</td>\n",
       "      <td>1.0</td>\n",
       "      <td>0.0</td>\n",
       "      <td>2.0</td>\n",
       "      <td>1.0</td>\n",
       "      <td>0.0</td>\n",
       "      <td>0.0</td>\n",
       "      <td>0.0</td>\n",
       "      <td>1.0</td>\n",
       "    </tr>\n",
       "    <tr>\n",
       "      <th>1</th>\n",
       "      <td>54754.0</td>\n",
       "      <td>True</td>\n",
       "      <td>2.0</td>\n",
       "      <td>0.0</td>\n",
       "      <td>1.0</td>\n",
       "      <td>4.0</td>\n",
       "      <td>0.0</td>\n",
       "      <td>0.0</td>\n",
       "      <td>1.0</td>\n",
       "      <td>1.0</td>\n",
       "    </tr>\n",
       "  </tbody>\n",
       "</table>\n",
       "</div>"
      ],
      "text/plain": [
       "   game_id has_betrayal  length  outcome  n_aoh_x  n_aoh_y  n_aos_x  n_aos_y  \\\n",
       "0  54754.0         True     1.0      0.0      2.0      1.0      0.0      0.0   \n",
       "1  54754.0         True     2.0      0.0      1.0      4.0      0.0      0.0   \n",
       "\n",
       "   supports_xy  supports_yx  \n",
       "0          0.0          1.0  \n",
       "1          1.0          1.0  "
      ]
     },
     "execution_count": 41,
     "metadata": {},
     "output_type": "execute_result"
    }
   ],
   "source": [
    "import statsmodels.formula.api as smf\n",
    "from sklearn.metrics import (confusion_matrix, accuracy_score, plot_confusion_matrix) \n",
    "\n",
    "features = pd.read_pickle(\"data/features_B200_V0_N1/features.pkl\")\n",
    "features.head(2)"
   ]
  },
  {
   "cell_type": "markdown",
   "metadata": {},
   "source": [
    "We must normalize our predictors before classifying the seasons. We must also keep track of the mean and standard deviations of each of the predictors of the training dataset to reuse them later when normalizing the testing set that we generated separately (and therefore doesn't have the same means/variances)."
   ]
  },
  {
   "cell_type": "code",
   "execution_count": 42,
   "metadata": {},
   "outputs": [],
   "source": [
    "# 1. Normalisation of the features. \n",
    "predictors = [\"length\", \"n_aoh_x\", \"n_aoh_y\",\"n_aos_x\", \"n_aos_y\", \"supports_xy\", \"supports_yx\"]\n",
    "features = features[predictors + [\"outcome\"]]\n",
    "\n",
    "def get_means_and_stds(features, predictors):\n",
    "    \"\"\"Given the features and the predictors, returns all the means and stds for the provided predictors\"\"\"\n",
    "    means = []\n",
    "    stds = []\n",
    "    for p in predictors: \n",
    "        means.append(features[p].mean())\n",
    "        stds.append(features[p].std())\n",
    "    return means, stds\n",
    "\n",
    "def normalise_preds(features, predictors, means, stds):\n",
    "    \"\"\"Features normalisation with a provided mean and stds for each predictor\"\"\"\n",
    "    for i, p in enumerate(predictors): \n",
    "        features[p] = (features[p] - means[i]) / stds[i]\n",
    "        \n",
    "        \n",
    "means, stds = get_means_and_stds(features, predictors)\n",
    "normalise_preds(features, predictors, means, stds)"
   ]
  },
  {
   "cell_type": "code",
   "execution_count": 43,
   "metadata": {},
   "outputs": [
    {
     "data": {
      "text/plain": [
       "'outcome ~ length + n_aoh_x + n_aoh_y + n_aos_x + n_aos_y + supports_xy + supports_yx'"
      ]
     },
     "execution_count": 43,
     "metadata": {},
     "output_type": "execute_result"
    }
   ],
   "source": [
    "# 2. Create the regression formula\n",
    "formula = \"outcome ~ \" + ' + '.join(predictors)\n",
    "formula"
   ]
  },
  {
   "cell_type": "code",
   "execution_count": 44,
   "metadata": {},
   "outputs": [
    {
     "name": "stdout",
     "output_type": "stream",
     "text": [
      "Optimization terminated successfully.\n",
      "         Current function value: 0.370756\n",
      "         Iterations 6\n",
      "                           Logit Regression Results                           \n",
      "==============================================================================\n",
      "Dep. Variable:                outcome   No. Observations:                 1580\n",
      "Model:                          Logit   Df Residuals:                     1572\n",
      "Method:                           MLE   Df Model:                            7\n",
      "Date:                Fri, 18 Dec 2020   Pseudo R-squ.:                 0.07336\n",
      "Time:                        23:02:06   Log-Likelihood:                -585.79\n",
      "converged:                       True   LL-Null:                       -632.17\n",
      "Covariance Type:            nonrobust   LLR p-value:                 3.359e-17\n",
      "===============================================================================\n",
      "                  coef    std err          z      P>|z|      [0.025      0.975]\n",
      "-------------------------------------------------------------------------------\n",
      "Intercept      -2.0005      0.083    -24.208      0.000      -2.162      -1.839\n",
      "length          0.5082      0.068      7.431      0.000       0.374       0.642\n",
      "n_aoh_x         0.0500      0.075      0.662      0.508      -0.098       0.198\n",
      "n_aoh_y         0.1750      0.073      2.401      0.016       0.032       0.318\n",
      "n_aos_x         0.1160      0.067      1.738      0.082      -0.015       0.247\n",
      "n_aos_y        -0.1092      0.083     -1.317      0.188      -0.272       0.053\n",
      "supports_xy     0.3878      0.074      5.247      0.000       0.243       0.533\n",
      "supports_yx     0.2970      0.077      3.876      0.000       0.147       0.447\n",
      "===============================================================================\n"
     ]
    }
   ],
   "source": [
    "# 3. Make the regression\n",
    "mod = smf.logit(formula = formula, data = features)\n",
    "res = mod.fit()\n",
    "print(res.summary())"
   ]
  },
  {
   "cell_type": "markdown",
   "metadata": {},
   "source": [
    "## Classification Assessment\n",
    "\n",
    "The best pseudo-R-squared we could achieve was 7%.\n",
    "\n",
    "Now that we have fitted a regression model, it is quite hard to interpret the summary. However, we can use additional metrics to see if our model behaves as we want. For this purpose, we generated another set of points: the testing dataset, which only included 20 games where at least one betrayal happens. We want to see if we can detect those betrayals at the right season.\n",
    "\n",
    "Let's also focus our attention on the seasons where a real betrayal occurred, and let's see if this classifier worked properly. For this reason, we evaluate our model results for the seasons of the testing set with betrayals."
   ]
  },
  {
   "cell_type": "markdown",
   "metadata": {},
   "source": [
    "The first metric we can look at is the [accuracy score](https://scikit-learn.org/stable/modules/model_evaluation.html#accuracy-score)."
   ]
  },
  {
   "cell_type": "code",
   "execution_count": 45,
   "metadata": {},
   "outputs": [
    {
     "data": {
      "text/plain": [
       "0.8465909090909091"
      ]
     },
     "execution_count": 45,
     "metadata": {},
     "output_type": "execute_result"
    }
   ],
   "source": [
    "\n",
    "# 1. read the test dataset\n",
    "features_test = pd.read_pickle(\"data/features_B20_V0_N1/features.pkl\")\n",
    "normalise_preds(features_test, predictors, means, stds)\n",
    "\n",
    "\n",
    "X_test = features_test[predictors]\n",
    "y_test = features_test[\"outcome\"]\n",
    "\n",
    "\n",
    "# 2. predict the values and get the binary output\n",
    "predictions = res.predict(X_test)\n",
    "binaries = (predictions.values >= 0.5).astype(float)\n",
    "accuracy_score(y_test, binaries)\n"
   ]
  },
  {
   "cell_type": "markdown",
   "metadata": {},
   "source": [
    "We see that we obtain about 85% of accuracy on the test set, and about 86% on the train set. It looks good, No ? **Wait !** Is it really that good ? Well, not so much... It is possible to compare this result with **dummy estimators** to see if our models performs better than stupid ones. Here, there are some possibilities.\n",
    "- The dumbest estimator will perform worse than this one. Indeed, guessing uniformly between either zero or one will give a 50% chance level to detect betrayals, when only trying to detect betrayals. So when looking dumbly at this task, it looks like what we have isn't that bad. However, such a result isn't so useful: indeed, **there is a strong imbalance in the class labels** and if a classifier says that only 50% of seasons are betrayal, it's a really bad. The reason it performs better here is because we selected only seasons where a betrayal happened.\n",
    "- Another dummy estimator is a stratified one: it generates random predictions by respecting the training set class distribution. Such an estimator gets 77% of accuracy, meaning that our estimator is better than this too. \n",
    "- However, it's also possible to have a classifier that will always predict the **most-frequent** class of the training set (hence always 'no betrayal will happen') and this one gets 87.5% of accuracy, which is better than ours, even when seeing on the training set. "
   ]
  },
  {
   "cell_type": "code",
   "execution_count": 46,
   "metadata": {},
   "outputs": [
    {
     "data": {
      "text/plain": [
       "0.7613636363636364"
      ]
     },
     "execution_count": 46,
     "metadata": {},
     "output_type": "execute_result"
    }
   ],
   "source": [
    "from sklearn.dummy import DummyClassifier\n",
    "\n",
    "clf = DummyClassifier(strategy='stratified')\n",
    "X_train = features[predictors]\n",
    "y_train = features[\"outcome\"]\n",
    "\n",
    "clf.fit(X_train, y_train)\n",
    "clf.score(X_test, y_test)"
   ]
  },
  {
   "cell_type": "markdown",
   "metadata": {},
   "source": [
    "So let's ask the reverse question: **how bad is it ?**. We can try to understand more using the **confusion matrix**. Here, betrayals are marked as negatives. The rows represent the actual classes (first row means no betrayal, second row means betrayal) and the columns represent the predicted class (first row means predicted as no betrayals, second row means predicted as betrayal)."
   ]
  },
  {
   "cell_type": "code",
   "execution_count": 47,
   "metadata": {},
   "outputs": [
    {
     "data": {
      "text/plain": [
       "array([[148,   6],\n",
       "       [ 21,   1]])"
      ]
     },
     "execution_count": 47,
     "metadata": {},
     "output_type": "execute_result"
    },
    {
     "data": {
      "image/png": "[encoded data removed]",
      "text/plain": [
       "<Figure size 432x288 with 2 Axes>"
      ]
     },
     "metadata": {
      "needs_background": "light"
     },
     "output_type": "display_data"
    },
    {
     "data": {
      "image/png": "[encoded data removed]",
      "text/plain": [
       "<Figure size 432x288 with 2 Axes>"
      ]
     },
     "metadata": {
      "needs_background": "light"
     },
     "output_type": "display_data"
    }
   ],
   "source": [
    "m = confusion_matrix(y_test, binaries)\n",
    "\n",
    "titles_options = [(\"Confusion matrix, without normalization\", None),\n",
    "                  (\"Normalized confusion matrix\", 'true')]\n",
    "\n",
    "training_matrix = plot_confusion_matrix(clf, X_train, y_train)\n",
    "training_matrix = plt.title(\"Confusion matrix training\")\n",
    "\n",
    "if SAVE_PLOT:\n",
    "    plt.savefig(\"plots/confusion_matrix_train.jpg\")\n",
    "    \n",
    "testing_matrix = plot_confusion_matrix(clf, X_test, y_test)\n",
    "testing_matrix = plt.title(\"Confusion matrix testing\")\n",
    "\n",
    "if SAVE_PLOT:\n",
    "    plt.savefig(\"plots/confusion_matrix_test.jpg\")\n",
    "m"
   ]
  },
  {
   "cell_type": "markdown",
   "metadata": {},
   "source": [
    "What do we observe ? The predictor has an overall accuracy of 85%: **this is better than random guess, however it is less than a most-frequent choice** . Because of the **strong class imbalance**, the accuracy isn't enough to determine, but we can look at the confusion matrix $C$ and see where does our classifier do the mistakes. \n",
    "- The second column of $C$ reveals that the accuracy of detecting betrayer is really low. Only one betrayal is detected on the test set, which is really not good at all. \n",
    "- The first row shows that $148 / 154 \\approx 0.96 \\%$ of non betrayal seasons are classifed as so. \n",
    "- We notice that 6 seasons that are non betrayal are detected as betrayals.\n",
    "\n",
    "## Possible improvement\n",
    "\n",
    "We believe that given more time, we could have found better results. At least, we really could have tried a lot more. Indeed, the data-processing to find betrayals was extremely time consuming and since we also had to invest time writing the data story and the report, we really didn't have many days working on the classifier. Here is a list of 'future plans' that we would have liked to do:\n",
    "- Ask ourself the question, like what the authors of the paper did,: **is it the case because some betrayals are detected too early ?** (*Actually, looking at the data we realize that it is probably not the case...*)\n",
    "- After looking at the prediction results, we noticed that, for a few games, many betrayals are detected, so we must answer to the question: **how can we enforce that there's only one betrayal per game ?** Adding this constraint is likely to increase the learning of the classifier. \n",
    "- Design better features\n",
    "- Perform cross-validation for feature selection\n",
    "- Have a more complex classifier. After all, humans are not able to perform well at this task, so it would not be suprising that even after doing all the previous steps and investing a lot of time on them, we realize that a linear classifier isn't able to do that. "
   ]
  },
  {
   "cell_type": "markdown",
   "metadata": {},
   "source": [
    "# VII. Datastory plots generation\n",
    "\n",
    "From now on, the rest of the notebook is dedicated to generating plots and numbers for the datastory. "
   ]
  },
  {
   "cell_type": "markdown",
   "metadata": {},
   "source": [
    "## Descriptive statistics\n",
    "\n",
    "We look at the **outcome** (binary) considering the **treatment**, which can be:\n",
    "- engaged: player who was engaged in a friendship\n",
    "- single: player who was not engaged in a friendship\n",
    "\n",
    "And for engaged player, there is an additional treatment: \n",
    "- betrayer: player who betrayed another one\n",
    "- betrayed: player who ended up betrayed by another\n",
    "- neutral: player who was not engaged in a *broken* friendship\n",
    "\n",
    "In order to answer this question, let's define a few functions that we will use in the later analysis."
   ]
  },
  {
   "cell_type": "code",
   "execution_count": 48,
   "metadata": {},
   "outputs": [],
   "source": [
    "countries = ['A', 'E', 'F', 'G', 'I', 'R', 'T']\n",
    "pairs = [x+y for x in countries for y in countries if y > x]"
   ]
  },
  {
   "cell_type": "code",
   "execution_count": 49,
   "metadata": {},
   "outputs": [],
   "source": [
    "def get_engageds(friendships):\n",
    "    \"\"\"Returns the players engaged in a friendship\"\"\"\n",
    "    cols = [col for col in friendships.columns if np.count_nonzero(friendships[col] != 0)]\n",
    "    return list(set(''.join(cols)))\n",
    "\n",
    "def get_singles(engageds):\n",
    "    \"\"\"Returns players not engaged in a friendship\"\"\"\n",
    "    singles = countries.copy()\n",
    "    for engaged in engageds:\n",
    "        singles.remove(engaged)\n",
    "    return singles"
   ]
  },
  {
   "cell_type": "code",
   "execution_count": 50,
   "metadata": {},
   "outputs": [],
   "source": [
    "def get_betrayers_and_betrayed(friendships):\n",
    "    \"\"\"Given the Friendships dataframe as defined in our analysis, returns all the players who commited \n",
    "    betrayals and all players who ended up betrayed\"\"\"\n",
    "    cols = [col for col in friendships.columns if np.count_nonzero(friendships[col] != 0)]\n",
    "    betrayers = []\n",
    "    betrayeds = []\n",
    "    for c in cols: \n",
    "        tmp = friendships[c]\n",
    "        values = tmp[tmp != 0].values\n",
    "        if type(values[-1]) == str: \n",
    "            betrayer = values[-1]\n",
    "            betrayers.append(betrayer)\n",
    "            tmp = list(c)\n",
    "            tmp.remove(betrayer)\n",
    "            betrayeds.append(tmp[0])\n",
    "            \n",
    "    return betrayers, betrayeds\n",
    "\n",
    "def get_neutrals(betrayers, betrayeds):\n",
    "    \"\"\"Given betrayers and betrayeds players of a game, returns the list of players\n",
    "    who were not involved in a broken friendship\n",
    "    \n",
    "    Required: player must be 'engaged'\n",
    "    \"\"\"\n",
    "    neutrals = countries.copy()\n",
    "    for b in betrayers: \n",
    "        if b in neutrals: neutrals.remove(b)\n",
    "    for b in betrayeds: \n",
    "        if b in neutrals: neutrals.remove(b)\n",
    "    return neutrals"
   ]
  },
  {
   "cell_type": "code",
   "execution_count": 51,
   "metadata": {},
   "outputs": [],
   "source": [
    "def get_winners(game_id):\n",
    "    winner = all_players.query(\"game_id == @game_id & won == 1\")\n",
    "    return winner.country.values\n",
    "\n",
    "def get_losers(winners):\n",
    "    loosers = countries.copy()\n",
    "    for w in winners: loosers.remove(w)\n",
    "    return loosers"
   ]
  },
  {
   "cell_type": "code",
   "execution_count": 52,
   "metadata": {},
   "outputs": [],
   "source": [
    "# load the data to analyse\n",
    "games_id = np.load(\"data/subset_T500_N1/games_id.npy\")\n",
    "all_friendships = np.load(\"data/subset_T500_N1/friendships.npy\", allow_pickle=True)\n",
    "verbose = False\n",
    "\n",
    "data_overall = np.zeros(shape = (2,2))\n",
    "data_engaged = np.zeros(shape = (3,2))\n",
    "\n",
    "treatments_overall = [\"single\", \"engaged\"]\n",
    "treatments_engaged = [\"betrayer\", \"betrayed\", \"neutral\"]\n",
    "outcomes = [\"winner\", \"loser\"]\n",
    "\n",
    "stats_overall = pd.DataFrame(data_overall, index = treatments_overall, columns = outcomes )\n",
    "stats_engageds = pd.DataFrame(data_engaged, index = treatments_engaged, columns = outcomes )\n",
    "\n",
    "N = len(games_id)\n",
    "for i, game_id in enumerate(games_id):\n",
    "    # reconstruct the obtained data\n",
    "    data = all_friendships[i]\n",
    "    years = np.arange(1901, 1901 + data.shape[0] * 0.5, 0.5)\n",
    "    friendships = pd.DataFrame(data = all_friendships[i], columns = pairs, index = years)\n",
    "    \n",
    "    # get outcomes\n",
    "    winners = get_winners(game_id)\n",
    "    losers = get_losers(winners)\n",
    "    \n",
    "    # get treatment 1 \n",
    "    engageds = get_engageds(friendships)\n",
    "    singles = get_singles(engageds)\n",
    "    \n",
    "    # get treatment 2\n",
    "    betrayers, betrayeds = get_betrayers_and_betrayed(friendships)\n",
    "    neutrals = get_neutrals(betrayers, betrayeds)\n",
    "    \n",
    "    # overal statistics\n",
    "    for w in winners:\n",
    "        if w in singles: stats_overall.loc[\"single\", \"winner\"] += 1\n",
    "        if w in engageds: stats_overall.loc[\"engaged\", \"winner\"] += 1\n",
    "    for l in losers:\n",
    "        if l in singles: stats_overall.loc[\"single\", \"loser\"] += 1\n",
    "        if l in engageds: stats_overall.loc[\"engaged\", \"loser\"] += 1\n",
    "    \n",
    "    # statistics about betrayers: \n",
    "    for winner in winners: \n",
    "        if winner in engageds: \n",
    "            if winner in betrayers: stats_engageds.loc[\"betrayer\", \"winner\"] += 1\n",
    "            if winner in betrayeds: stats_engageds.loc[\"betrayed\", \"winner\"] += 1\n",
    "            if winner in neutrals: stats_engageds.loc[\"neutral\", \"winner\"] += 1\n",
    "    for loser in losers: \n",
    "        if winner in engageds:\n",
    "            if loser in betrayers: stats_engageds.loc[\"betrayer\", \"loser\"] += 1\n",
    "            if loser in betrayeds: stats_engageds.loc[\"betrayed\", \"loser\"] += 1\n",
    "            if loser in neutrals: stats_engageds.loc[\"neutral\", \"loser\"] += 1\n",
    "            \n",
    "    if verbose:\n",
    "        print(\"\\nGame\",i)\n",
    "        print(\"Winners: \", winners, \" and Losers\", losers)\n",
    "        print(\"Betrayers: \", betrayers, \" and Betrayed\", betrayeds)\n",
    "        print(\"Neutrals: \", neutrals)\n",
    "\n"
   ]
  },
  {
   "cell_type": "code",
   "execution_count": 53,
   "metadata": {},
   "outputs": [
    {
     "name": "stdout",
     "output_type": "stream",
     "text": [
      "Statistics over all dataset\n"
     ]
    },
    {
     "data": {
      "text/html": [
       "<div>\n",
       "<style scoped>\n",
       "    .dataframe tbody tr th:only-of-type {\n",
       "        vertical-align: middle;\n",
       "    }\n",
       "\n",
       "    .dataframe tbody tr th {\n",
       "        vertical-align: top;\n",
       "    }\n",
       "\n",
       "    .dataframe thead th {\n",
       "        text-align: right;\n",
       "    }\n",
       "</style>\n",
       "<table border=\"1\" class=\"dataframe\">\n",
       "  <thead>\n",
       "    <tr style=\"text-align: right;\">\n",
       "      <th></th>\n",
       "      <th>winner</th>\n",
       "      <th>loser</th>\n",
       "      <th>win_ratio</th>\n",
       "    </tr>\n",
       "  </thead>\n",
       "  <tbody>\n",
       "    <tr>\n",
       "      <th>single</th>\n",
       "      <td>186.0</td>\n",
       "      <td>1947.0</td>\n",
       "      <td>0.087201</td>\n",
       "    </tr>\n",
       "    <tr>\n",
       "      <th>engaged</th>\n",
       "      <td>371.0</td>\n",
       "      <td>996.0</td>\n",
       "      <td>0.271397</td>\n",
       "    </tr>\n",
       "  </tbody>\n",
       "</table>\n",
       "</div>"
      ],
      "text/plain": [
       "         winner   loser  win_ratio\n",
       "single    186.0  1947.0   0.087201\n",
       "engaged   371.0   996.0   0.271397"
      ]
     },
     "execution_count": 53,
     "metadata": {},
     "output_type": "execute_result"
    }
   ],
   "source": [
    "win_ratio = stats_overall.winner / (stats_overall.loser + stats_overall.winner)\n",
    "stats_overall[\"win_ratio\"] = win_ratio\n",
    "print(\"Statistics over all dataset\")\n",
    "stats_overall"
   ]
  },
  {
   "cell_type": "code",
   "execution_count": 54,
   "metadata": {},
   "outputs": [
    {
     "data": {
      "image/png": "[encoded data removed]",
      "text/plain": [
       "<Figure size 864x432 with 1 Axes>"
      ]
     },
     "metadata": {
      "needs_background": "light"
     },
     "output_type": "display_data"
    }
   ],
   "source": [
    "from matplotlib.colors import ListedColormap\n",
    "import seaborn as sns\n",
    "\n",
    "plot_stats_overall = stats_overall.drop(columns = 'win_ratio')\n",
    "plot_stats_overall.index.set_names('relationship', inplace = True)\n",
    "\n",
    "plot_stats_overall\\\n",
    "  .reindex(plot_stats_overall.sum().sort_values().index, axis=1)\\\n",
    "  .T.plot(kind='bar', stacked=True, rot=1,\n",
    "          colormap=ListedColormap(sns.color_palette('tab20c', n_colors=2)), \n",
    "          figsize=(12,6));\n",
    "\n",
    "\n",
    "if SAVE_PLOT:\n",
    "    plt.savefig('plots/barplot_win_ratio_category_single_engaged.jpg')"
   ]
  },
  {
   "cell_type": "code",
   "execution_count": 55,
   "metadata": {},
   "outputs": [
    {
     "name": "stdout",
     "output_type": "stream",
     "text": [
      "Statistics over players engaged in a friendship\n"
     ]
    },
    {
     "data": {
      "text/html": [
       "<div>\n",
       "<style scoped>\n",
       "    .dataframe tbody tr th:only-of-type {\n",
       "        vertical-align: middle;\n",
       "    }\n",
       "\n",
       "    .dataframe tbody tr th {\n",
       "        vertical-align: top;\n",
       "    }\n",
       "\n",
       "    .dataframe thead th {\n",
       "        text-align: right;\n",
       "    }\n",
       "</style>\n",
       "<table border=\"1\" class=\"dataframe\">\n",
       "  <thead>\n",
       "    <tr style=\"text-align: right;\">\n",
       "      <th></th>\n",
       "      <th>winner</th>\n",
       "      <th>loser</th>\n",
       "      <th>win_ratio</th>\n",
       "    </tr>\n",
       "  </thead>\n",
       "  <tbody>\n",
       "    <tr>\n",
       "      <th>betrayer</th>\n",
       "      <td>133.0</td>\n",
       "      <td>126.0</td>\n",
       "      <td>0.513514</td>\n",
       "    </tr>\n",
       "    <tr>\n",
       "      <th>betrayed</th>\n",
       "      <td>70.0</td>\n",
       "      <td>189.0</td>\n",
       "      <td>0.270270</td>\n",
       "    </tr>\n",
       "    <tr>\n",
       "      <th>neutral</th>\n",
       "      <td>171.0</td>\n",
       "      <td>1610.0</td>\n",
       "      <td>0.096013</td>\n",
       "    </tr>\n",
       "  </tbody>\n",
       "</table>\n",
       "</div>"
      ],
      "text/plain": [
       "          winner   loser  win_ratio\n",
       "betrayer   133.0   126.0   0.513514\n",
       "betrayed    70.0   189.0   0.270270\n",
       "neutral    171.0  1610.0   0.096013"
      ]
     },
     "execution_count": 55,
     "metadata": {},
     "output_type": "execute_result"
    }
   ],
   "source": [
    "win_ratio = stats_engageds.winner / (stats_engageds.loser + stats_engageds.winner)\n",
    "stats_engageds[\"win_ratio\"] = win_ratio\n",
    "print(\"Statistics over players engaged in a friendship\")\n",
    "stats_engageds\n"
   ]
  },
  {
   "cell_type": "code",
   "execution_count": 56,
   "metadata": {},
   "outputs": [
    {
     "data": {
      "image/png": "[encoded data removed]",
      "text/plain": [
       "<Figure size 864x432 with 1 Axes>"
      ]
     },
     "metadata": {
      "needs_background": "light"
     },
     "output_type": "display_data"
    }
   ],
   "source": [
    "plot_stats_engageds = stats_engageds.drop(columns = 'win_ratio')\n",
    "plot_stats_engageds.index.set_names('relationship', inplace = True)\n",
    "\n",
    "\n",
    "plot_stats_engageds\\\n",
    "  .reindex(plot_stats_engageds.sum().sort_values().index, axis=1)\\\n",
    "  .T.plot(kind='bar', stacked=True, rot=1, \n",
    "          colormap=ListedColormap(sns.color_palette('tab20c', n_colors=3)),\n",
    "          figsize=(12,6));\n",
    "\n",
    "if SAVE_PLOT:\n",
    "    plt.savefig('plots/barplot_win_ratio_category_fused.jpg')"
   ]
  },
  {
   "cell_type": "code",
   "execution_count": 57,
   "metadata": {},
   "outputs": [
    {
     "data": {
      "image/png": "[encoded data removed]",
      "text/plain": [
       "<Figure size 432x288 with 1 Axes>"
      ]
     },
     "metadata": {
      "needs_background": "light"
     },
     "output_type": "display_data"
    }
   ],
   "source": [
    "win_ratio_plot = pd.concat([stats_overall, stats_engageds])\n",
    "win_ratio_plot.index.set_names('relationship', inplace = True)\n",
    "win_ratio_plot\n",
    "\n",
    "sns.barplot(data=win_ratio_plot.drop(index='engaged').reset_index(), \n",
    "            x='relationship', y='win_ratio',\n",
    "           palette=\"tab20c\");\n",
    "\n",
    "if SAVE_PLOT:\n",
    "    plt.savefig('plots/barplot_win_ratio_category.jpg')"
   ]
  },
  {
   "cell_type": "markdown",
   "metadata": {},
   "source": [
    "What can we see here ? \n",
    "- among all players that were involved in a broken friendship (either *betrayer* or *betrayed*) the chances of winning go towards the betrayer. Betrayed players have much higher chances of loosing and about 5 times less chances of winning. . .. \n",
    "- the neutral players represent the majority of players, however their chances of winning are not much higher than the chances of betrayed players. \n",
    "\n",
    "These results make us strongly believe that **betrayals strongly influence the outcome of the game**. \n",
    "\n",
    "What can we do next ? \n",
    "\n",
    "- select 250 games with and without betrayals (and all with friendships), then do a matching based on the games properties, and look at what differs once a betrayal happened for the players who were engaged in a friendship !\n",
    "\n",
    "- quantify agressivity of players towards others, and using the same dataset as before, try to see what happens to a player that was betrayed"
   ]
  },
  {
   "cell_type": "markdown",
   "metadata": {},
   "source": [
    "## Difference between N1 and N2 for betrayals and for friendships counts\n",
    "\n"
   ]
  },
  {
   "cell_type": "code",
   "execution_count": 58,
   "metadata": {},
   "outputs": [],
   "source": [
    "# 1. get the data\n",
    "all_friendships_N1 = np.load(\"data/subset_T500_N1/friendships.npy\", allow_pickle=True)\n",
    "all_friendships_N2 = np.load(\"data/subset_T500_N2/friendships.npy\", allow_pickle=True)"
   ]
  },
  {
   "cell_type": "code",
   "execution_count": 59,
   "metadata": {},
   "outputs": [],
   "source": [
    "def get_number_betrayals_friendships(friendship): \n",
    "    cols = [col for col in range(21) if np.count_nonzero(friendship[:, col] != 0)]\n",
    "    n_friendships = len(cols)\n",
    "    n_betrayals = np.count_nonzero([type(e) == str for col in friendship for e in col])\n",
    "    return n_friendships, n_betrayals\n",
    "\n",
    "N = 500\n",
    "frame = pd.DataFrame(data = np.zeros(shape = (4*N, 3)), columns = [\"N\", \"type\", \"number\",])\n",
    "\n",
    "for i in range(N):\n",
    "    n_friendships_n1, n_betrayals_n1 = get_number_betrayals_friendships(all_friendships_N1[i])\n",
    "    n_friendships_n2, n_betrayals_n2 = get_number_betrayals_friendships(all_friendships_N2[i])\n",
    "    frame.loc[4*i, :] = [\"1\", \"friendships\", n_friendships_n1]\n",
    "    frame.loc[4*i+1, :] = [\"1\", \"betrayals\", n_betrayals_n1]\n",
    "    frame.loc[4*i+2, :] = [\"2\", \"friendships\", n_friendships_n2]\n",
    "    frame.loc[4*i+3, :] = [\"2\",  \"betrayals\", n_betrayals_n2]"
   ]
  },
  {
   "cell_type": "code",
   "execution_count": 60,
   "metadata": {},
   "outputs": [
    {
     "data": {
      "image/png": "[encoded data removed]",
      "text/plain": [
       "<Figure size 762.375x360 with 2 Axes>"
      ]
     },
     "metadata": {
      "needs_background": "light"
     },
     "output_type": "display_data"
    }
   ],
   "source": [
    "# make required the plot \n",
    "import seaborn as sns\n",
    "\n",
    "g = sns.displot(data = frame, x = \"number\", hue = \"N\", kind = \"hist\", col = \"type\") ;\n",
    "g.set_titles(\"{col_name}\") ; \n",
    "g.fig.subplots_adjust(top=0.8)\n",
    "g.fig.suptitle(\"Distribution of number of friendships and of betrayals over sample of filtered dataset (only games with at least 1 friendship)\") ; \n",
    "\n",
    "if SAVE_PLOT:\n",
    "    plt.savefig('plots/distribution_friendships_filtered.jpg')\n"
   ]
  },
  {
   "cell_type": "markdown",
   "metadata": {},
   "source": [
    "Increasing the requirement of a betrayal to two hostile acts considerabily reduce the number of games with betrayal from 300 to about 180 games. "
   ]
  },
  {
   "cell_type": "markdown",
   "metadata": {},
   "source": [
    "## Distribution of number of friendships and betrayals on the real dataset (without filtering) using N=1\n",
    "\n",
    "This plot is quite like the previous plot, only difference is in the dataset. Here, we use the **unfiltered dataset**, meaning that we don't select games so that they have 1 friendship. "
   ]
  },
  {
   "cell_type": "code",
   "execution_count": 61,
   "metadata": {},
   "outputs": [],
   "source": [
    "# 1. get the data\n",
    "all_friendships_unfiltered = np.load(\"data/subset_T500_N1_unfiltered/friendships.npy\", allow_pickle=True)"
   ]
  },
  {
   "cell_type": "code",
   "execution_count": 62,
   "metadata": {},
   "outputs": [],
   "source": [
    "N = 500\n",
    "frame = pd.DataFrame(data = np.zeros(shape = (2*N, 2)), columns = [\"type\", \"number\",])\n",
    "for i in range(N):\n",
    "    n_friendships, n_betrayals = get_number_betrayals_friendships(all_friendships_unfiltered[i])\n",
    "    frame.loc[2*i, :] = [\"friendships\", n_friendships]\n",
    "    frame.loc[2*i+1, :] = [\"betrayals\", n_betrayals]"
   ]
  },
  {
   "cell_type": "code",
   "execution_count": 63,
   "metadata": {},
   "outputs": [
    {
     "data": {
      "image/png": "[encoded data removed]",
      "text/plain": [
       "<Figure size 720x360 with 2 Axes>"
      ]
     },
     "metadata": {
      "needs_background": "light"
     },
     "output_type": "display_data"
    }
   ],
   "source": [
    "# make required the plot \n",
    "import seaborn as sns\n",
    "g = sns.displot(data = frame, x = \"number\", kind = \"hist\", col = \"type\") ;\n",
    "g.fig.subplots_adjust(top=0.8)\n",
    "g.fig.suptitle(\"Distribution of number of friendships and of betrayals over sample of original dataset\") ; \n",
    "g.set_titles(\"{col_name}\") ; \n",
    "\n",
    "if SAVE_PLOT:\n",
    "    plt.savefig('plots/distribution_friendships.jpg')\n"
   ]
  },
  {
   "cell_type": "markdown",
   "metadata": {},
   "source": [
    "## Final score plot\n",
    "\n",
    "For each game, we want to have the final score of the betrayers, the victims and the neutrals."
   ]
  },
  {
   "cell_type": "code",
   "execution_count": 64,
   "metadata": {},
   "outputs": [],
   "source": [
    "# load the data to analyse\n",
    "games_id = np.load(\"data/subset_T500_N1/games_id.npy\")\n",
    "all_friendships = np.load(\"data/subset_T500_N1/friendships.npy\", allow_pickle=True)\n",
    "\n",
    "scores = []\n",
    "\n",
    "N = len(games_id)\n",
    "for i in range(500):\n",
    "    game_id = games_id[i]\n",
    "    \n",
    "    # reconstruct the obtained data\n",
    "    data = all_friendships[i]\n",
    "    years = np.arange(1901, 1901 + data.shape[0] * 0.5, 0.5)\n",
    "    friendships = pd.DataFrame(data = all_friendships[i], columns = pairs, index = years)\n",
    "    \n",
    "    # get treatment 1 \n",
    "    engageds = get_engageds(friendships)\n",
    "    singles = get_singles(engageds)\n",
    "    \n",
    "    # get treatment 2\n",
    "    betrayers, betrayeds = get_betrayers_and_betrayed(friendships)\n",
    "    neutrals = get_neutrals(betrayers, betrayeds)\n",
    "    \n",
    "    # compute statistics\n",
    "    for player in betrayers: \n",
    "        scores.append((\"betrayer\", all_players.query(\"game_id == @game_id & country == @player\").num_supply_centers.item()))\n",
    "    for player in betrayeds: \n",
    "        scores.append((\"victim\", all_players.query(\"game_id == @game_id & country == @player\").num_supply_centers.item()))\n",
    "    for player in neutrals: \n",
    "        scores.append((\"neutral\", all_players.query(\"game_id == @game_id & country == @player\").num_supply_centers.item()))\n",
    "        \n",
    "frame = pd.DataFrame(data = scores, columns = [\"status\", \"final_score\"])"
   ]
  },
  {
   "cell_type": "code",
   "execution_count": 65,
   "metadata": {},
   "outputs": [
    {
     "data": {
      "image/png": "[encoded data removed]",
      "text/plain": [
       "<Figure size 360x360 with 1 Axes>"
      ]
     },
     "metadata": {
      "needs_background": "light"
     },
     "output_type": "display_data"
    }
   ],
   "source": [
    "# make a plot using this \n",
    "g = sns.catplot(data = frame, y = \"final_score\", kind = \"box\", x = \"status\").set(\n",
    "                xlabel='Status', \n",
    "                ylabel='Final score') ;  # , col = \"status\")\n",
    "g.fig.subplots_adjust(top=0.9)\n",
    "g.fig.suptitle(\"Distributions of final score of engaged players\") ; \n",
    "\n",
    "if SAVE_PLOT:\n",
    "    plt.savefig('plots/distribution_score.jpg')\n"
   ]
  },
  {
   "cell_type": "markdown",
   "metadata": {},
   "source": [
    "We can see that, on average, engaging in a friendship and being betrayed lead to a better score than never being engaged in a friendship. "
   ]
  },
  {
   "cell_type": "markdown",
   "metadata": {},
   "source": [
    "## Games length distribution"
   ]
  },
  {
   "cell_type": "code",
   "execution_count": 66,
   "metadata": {},
   "outputs": [
    {
     "data": {
      "image/png": "[encoded data removed]",
      "text/plain": [
       "<Figure size 1152x576 with 1 Axes>"
      ]
     },
     "metadata": {
      "needs_background": "light"
     },
     "output_type": "display_data"
    }
   ],
   "source": [
    "# Histogram of game lengths for the average player and for the winner\n",
    "\n",
    "plt.figure(figsize=(16,8))                             \n",
    "# winner_game_lengths =  all_players.sort_values('end_turn', ascending=False).drop_duplicates(['game_id'])\n",
    "game_lengths = all_players.end_turn - all_players.start_turn\n",
    "\n",
    "sns.histplot(game_lengths,\n",
    "             alpha=0.5, \n",
    "             binwidth=3,\n",
    "             color=\"blue\")\n",
    "# sns.histplot(winner_game_lengths[\"end_turn\"], \n",
    "#              alpha=0.5, \n",
    "#              binwidth=3, \n",
    "#              color = \"orange\")\n",
    "# plt.legend([\"player\",\"winner\"])\n",
    "\n",
    "\n",
    "plt.title(\"Histogram of game lengths\", fontsize=15)\n",
    "plt.xlabel(\"Number of turns\")\n",
    "plt.ylabel(\"Number of games\")\n",
    "plt.yscale(\"log\")\n",
    "plt.xlim(0,370 )\n",
    "plt.grid(True)\n",
    "\n",
    "if SAVE_PLOT:\n",
    "    plt.savefig('plots/game_length_histogram.jpg')\n",
    "plt.show()\n",
    "\n"
   ]
  },
  {
   "cell_type": "markdown",
   "metadata": {},
   "source": [
    "Out of the 21,197 games, most of them last for about 30 turns but some can go up to 300 turns. "
   ]
  },
  {
   "cell_type": "markdown",
   "metadata": {},
   "source": [
    "## Distribution of friendly acts vs hostile acts"
   ]
  },
  {
   "cell_type": "code",
   "execution_count": 67,
   "metadata": {},
   "outputs": [
    {
     "data": {
      "text/html": [
       "<div>\n",
       "<style scoped>\n",
       "    .dataframe tbody tr th:only-of-type {\n",
       "        vertical-align: middle;\n",
       "    }\n",
       "\n",
       "    .dataframe tbody tr th {\n",
       "        vertical-align: top;\n",
       "    }\n",
       "\n",
       "    .dataframe thead th {\n",
       "        text-align: right;\n",
       "    }\n",
       "</style>\n",
       "<table border=\"1\" class=\"dataframe\">\n",
       "  <thead>\n",
       "    <tr style=\"text-align: right;\">\n",
       "      <th></th>\n",
       "      <th>FriendlyActs</th>\n",
       "      <th>HostileActs</th>\n",
       "    </tr>\n",
       "  </thead>\n",
       "  <tbody>\n",
       "    <tr>\n",
       "      <th>0</th>\n",
       "      <td>20</td>\n",
       "      <td>77</td>\n",
       "    </tr>\n",
       "    <tr>\n",
       "      <th>1</th>\n",
       "      <td>33</td>\n",
       "      <td>172</td>\n",
       "    </tr>\n",
       "    <tr>\n",
       "      <th>2</th>\n",
       "      <td>10</td>\n",
       "      <td>36</td>\n",
       "    </tr>\n",
       "    <tr>\n",
       "      <th>3</th>\n",
       "      <td>15</td>\n",
       "      <td>147</td>\n",
       "    </tr>\n",
       "    <tr>\n",
       "      <th>4</th>\n",
       "      <td>19</td>\n",
       "      <td>192</td>\n",
       "    </tr>\n",
       "  </tbody>\n",
       "</table>\n",
       "</div>"
      ],
      "text/plain": [
       "  FriendlyActs HostileActs\n",
       "0           20          77\n",
       "1           33         172\n",
       "2           10          36\n",
       "3           15         147\n",
       "4           19         192"
      ]
     },
     "execution_count": 67,
     "metadata": {},
     "output_type": "execute_result"
    }
   ],
   "source": [
    "# sample of 500 games picked randomly from the original dataset\n",
    "games_features = np.load(\"data/subset_T500_N1_unfiltered/games_features_id.npy\", allow_pickle=True)\n",
    "unfiltered_games_features = pd.DataFrame({'FriendlyActs': games_features[:, 0], 'HostileActs': games_features[:, 1]})\n",
    "unfiltered_games_features.head()"
   ]
  },
  {
   "cell_type": "code",
   "execution_count": 68,
   "metadata": {},
   "outputs": [
    {
     "name": "stderr",
     "output_type": "stream",
     "text": [
      "/Users/dianemarquette/opt/anaconda3/envs/ada/lib/python3.8/site-packages/seaborn/axisgrid.py:1629: UserWarning: Tight layout not applied. tight_layout cannot make axes width small enough to accommodate all axes decorations\n",
      "  f.tight_layout()\n"
     ]
    },
    {
     "data": {
      "image/png": "[encoded data removed]",
      "text/plain": [
       "<Figure size 432x432 with 3 Axes>"
      ]
     },
     "metadata": {
      "needs_background": "light"
     },
     "output_type": "display_data"
    }
   ],
   "source": [
    "g = sns.JointGrid(data=unfiltered_games_features, x=\"FriendlyActs\", y=\"HostileActs\", space=0, ratio=17);\n",
    "g.plot_joint(sns.scatterplot, sizes=(30, 120),\n",
    "             palette=\"tab20c\", alpha=.6, legend=False)\n",
    "g.set_axis_labels('Friendly acts', 'Hostile acts', fontsize=12)\n",
    "\n",
    "g.plot_marginals(sns.rugplot, height=1, palette=\"tab20c\", alpha=.6);\n",
    "plt.suptitle(\"Number of friendly act vs hostile act in a game\")\n",
    "\n",
    "if SAVE_PLOT:\n",
    "    plt.savefig(\"plots/joint_distribution_friendact_hostilact.jpg\")"
   ]
  },
  {
   "cell_type": "code",
   "execution_count": 69,
   "metadata": {},
   "outputs": [
    {
     "data": {
      "text/html": [
       "<div>\n",
       "<style scoped>\n",
       "    .dataframe tbody tr th:only-of-type {\n",
       "        vertical-align: middle;\n",
       "    }\n",
       "\n",
       "    .dataframe tbody tr th {\n",
       "        vertical-align: top;\n",
       "    }\n",
       "\n",
       "    .dataframe thead th {\n",
       "        text-align: right;\n",
       "    }\n",
       "</style>\n",
       "<table border=\"1\" class=\"dataframe\">\n",
       "  <thead>\n",
       "    <tr style=\"text-align: right;\">\n",
       "      <th></th>\n",
       "      <th>act_type</th>\n",
       "      <th>act_nb</th>\n",
       "    </tr>\n",
       "  </thead>\n",
       "  <tbody>\n",
       "    <tr>\n",
       "      <th>0</th>\n",
       "      <td>FriendlyActs</td>\n",
       "      <td>20</td>\n",
       "    </tr>\n",
       "    <tr>\n",
       "      <th>1</th>\n",
       "      <td>FriendlyActs</td>\n",
       "      <td>33</td>\n",
       "    </tr>\n",
       "    <tr>\n",
       "      <th>2</th>\n",
       "      <td>FriendlyActs</td>\n",
       "      <td>10</td>\n",
       "    </tr>\n",
       "    <tr>\n",
       "      <th>3</th>\n",
       "      <td>FriendlyActs</td>\n",
       "      <td>15</td>\n",
       "    </tr>\n",
       "    <tr>\n",
       "      <th>4</th>\n",
       "      <td>FriendlyActs</td>\n",
       "      <td>19</td>\n",
       "    </tr>\n",
       "  </tbody>\n",
       "</table>\n",
       "</div>"
      ],
      "text/plain": [
       "       act_type act_nb\n",
       "0  FriendlyActs     20\n",
       "1  FriendlyActs     33\n",
       "2  FriendlyActs     10\n",
       "3  FriendlyActs     15\n",
       "4  FriendlyActs     19"
      ]
     },
     "execution_count": 69,
     "metadata": {},
     "output_type": "execute_result"
    }
   ],
   "source": [
    "games_features_melt = pd.melt(unfiltered_games_features, value_vars =['FriendlyActs', 'HostileActs'],\n",
    "                             var_name='act_type', value_name='act_nb') \n",
    "games_features_melt.head()"
   ]
  },
  {
   "cell_type": "code",
   "execution_count": 70,
   "metadata": {},
   "outputs": [
    {
     "data": {
      "image/png": "[encoded data removed]",
      "text/plain": [
       "<Figure size 432x288 with 1 Axes>"
      ]
     },
     "metadata": {
      "needs_background": "light"
     },
     "output_type": "display_data"
    }
   ],
   "source": [
    "sns.boxplot(x=\"act_type\", y=\"act_nb\", palette=\"tab20c\",\n",
    "            data=games_features_melt).set(\n",
    "                ylabel='Number of acts', \n",
    "                xlabel='Type of acts')\n",
    "plt.suptitle(\"Number of friendly act vs hostile act in a game\")\n",
    "\n",
    "if SAVE_PLOT:\n",
    "    plt.savefig(\"plots/joint_distribution_friendships_betrayals_boxplot.jpg\")"
   ]
  },
  {
   "cell_type": "markdown",
   "metadata": {},
   "source": [
    "## Serial betrayers"
   ]
  },
  {
   "cell_type": "code",
   "execution_count": 71,
   "metadata": {},
   "outputs": [
    {
     "name": "stdout",
     "output_type": "stream",
     "text": [
      "Analysis of serial betraying\n",
      "106950 - serial betrayers ['F', 'F'] winners :  ['F']\n",
      "106794 - serial betrayers ['E', 'E'] winners :  ['T']\n",
      "89613 - serial betrayers ['I', 'I'] winners :  ['I' 'A']\n",
      "97720 - serial betrayers ['E', 'E', 'G', 'G'] winners :  ['T']\n",
      "106058 - serial betrayers ['I', 'A', 'F', 'F'] winners :  ['F']\n",
      "84945 - serial betrayers ['A', 'A'] winners :  ['E']\n",
      "113564 - serial betrayers ['T', 'T'] winners :  ['F']\n",
      "100109 - serial betrayers ['A', 'E', 'E'] winners :  ['F' 'T']\n",
      "89658 - serial betrayers ['A', 'A'] winners :  ['A' 'T']\n"
     ]
    }
   ],
   "source": [
    "# load the data to analyse\n",
    "games_id = np.load(\"data/subset_T500_N1/games_id.npy\")\n",
    "all_friendships = np.load(\"data/subset_T500_N1/friendships.npy\", allow_pickle=True)\n",
    "\n",
    "number_of_game_with_betrayals= 0\n",
    "\n",
    "N = len(games_id)\n",
    "print(\"Analysis of serial betraying\")\n",
    "for i, game_id in enumerate(games_id):\n",
    "    # reconstruct the obtained data\n",
    "    data = all_friendships[i]\n",
    "    years = np.arange(1901, 1901 + data.shape[0] * 0.5, 0.5)\n",
    "    friendships = pd.DataFrame(data = all_friendships[i], columns = pairs, index = years)\n",
    "   \n",
    "    # get treatment 2\n",
    "    betrayers, _ = get_betrayers_and_betrayed(friendships)\n",
    "    winners = get_winners(game_id)\n",
    "    \n",
    "    has_to_skip = False\n",
    "    \n",
    "    if len(betrayers) > 1:\n",
    "        number_of_game_with_betrayals+=1\n",
    "        for b in betrayers:\n",
    "            if has_to_skip:\n",
    "                continue\n",
    "#             if np.count_nonzero([player == b for player in betrayers]) > 0: \n",
    "#                 print(game_id, \"-  betrayers\", betrayers, \"winners : \", winners)\n",
    "#                 has_to_skip = True\n",
    "#                 number_of_game_with_betrayals += 1\n",
    "            if np.count_nonzero([player == b for player in betrayers]) > 1: \n",
    "                print(game_id, \"- serial betrayers\", betrayers, \"winners : \", winners)\n",
    "                has_to_skip = True"
   ]
  },
  {
   "cell_type": "markdown",
   "metadata": {},
   "source": [
    "We can see here than on the 500 games we analysed. Only nine games contained a serial betrayer making it a rare occurence. Although the betrayer won in four out of the nine game, this sample size it too small to make any conclusion in regard to the win ratio of serial betrayers. In the most commun game, the betrayer one betrays once. "
   ]
  },
  {
   "cell_type": "markdown",
   "metadata": {},
   "source": [
    "## Games where a betrayer is betrayed"
   ]
  },
  {
   "cell_type": "code",
   "execution_count": 72,
   "metadata": {},
   "outputs": [
    {
     "name": "stdout",
     "output_type": "stream",
     "text": [
      "78412 -  betrayers ['A', 'E', 'R']  - victims:  ['R', 'R', 'T']  - winners :  ['E' 'R']\n"
     ]
    }
   ],
   "source": [
    "# load the data to analyse\n",
    "games_id = np.load(\"data/subset_T500_N1/games_id.npy\")\n",
    "all_friendships = np.load(\"data/subset_T500_N1/friendships.npy\", allow_pickle=True)\n",
    "\n",
    "N = len(games_id)\n",
    "for i, game_id in enumerate(games_id):\n",
    "    # reconstruct the obtained data\n",
    "    data = all_friendships[i]\n",
    "    years = np.arange(1901, 1901 + data.shape[0] * 0.5, 0.5)\n",
    "    friendships = pd.DataFrame(data = all_friendships[i], columns = pairs, index = years)\n",
    "   \n",
    "    # get treatment 2\n",
    "    betrayers, betrayeds = get_betrayers_and_betrayed(friendships)\n",
    "    winners = get_winners(game_id)\n",
    "    \n",
    "    \n",
    "    if len(betrayers) > 1:\n",
    "        for b in betrayers:\n",
    "            if np.count_nonzero([player == b for player in betrayeds]) > 1: \n",
    "                print(game_id, \"-  betrayers\", betrayers, \" - victims: \", betrayeds , \" - winners : \", winners)"
   ]
  },
  {
   "cell_type": "markdown",
   "metadata": {},
   "source": [
    "Out of the 500 games analysed, there is only one game where a betrayer is betrayed. "
   ]
  },
  {
   "cell_type": "code",
   "execution_count": null,
   "metadata": {},
   "outputs": [],
   "source": []
  }
 ],
 "metadata": {
  "kernelspec": {
   "display_name": "ada",
   "language": "python",
   "name": "ada"
  },
  "language_info": {
   "codemirror_mode": {
    "name": "ipython",
    "version": 3
   },
   "file_extension": ".py",
   "mimetype": "text/x-python",
   "name": "python",
   "nbconvert_exporter": "python",
   "pygments_lexer": "ipython3",
   "version": "3.8.5"
  }
 },
 "nbformat": 4,
 "nbformat_minor": 4
}
