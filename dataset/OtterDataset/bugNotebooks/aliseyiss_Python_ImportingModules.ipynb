{
 "cells": [
  {
   "cell_type": "code",
   "execution_count": 1,
   "id": "52ad8425",
   "metadata": {},
   "outputs": [
    {
     "name": "stdout",
     "output_type": "stream",
     "text": [
      "\n",
      "Please wait a moment while I gather a list of all available modules...\n",
      "\n"
     ]
    },
    {
     "name": "stderr",
     "output_type": "stream",
     "text": [
      "WARNING: AstropyDeprecationWarning: The private astropy._erfa module has been made into its own package, pyerfa, which is a dependency of astropy and can be imported directly using \"import erfa\" [astropy._erfa]\n",
      "C:\\Users\\Lehrgang\\anaconda3\\Lib\\site-packages\\paramiko\\transport.py:219: CryptographyDeprecationWarning: Blowfish has been deprecated\n",
      "  \"class\": algorithms.Blowfish,\n",
      "C:\\Users\\Lehrgang\\anaconda3\\Lib\\site-packages\\nltk\\twitter\\__init__.py:20: UserWarning: The twython library has not been installed. Some functionality from the twitter package will not be available.\n",
      "  warnings.warn(\n",
      "C:\\Users\\Lehrgang\\anaconda3\\Lib\\pkgutil.py:92: NumbaPendingDeprecationWarning: \u001b[1mThe 'pycc' module is pending deprecation. Replacement technology is being developed.\n",
      "\n",
      "Pending Deprecation in Numba 0.57.0. For more information please see: https://numba.readthedocs.io/en/stable/reference/deprecation.html#deprecation-of-the-numba-pycc-module\u001b[0m\n",
      "  __import__(info.name)\n",
      "C:\\Users\\Lehrgang\\anaconda3\\Lib\\pkgutil.py:92: UserWarning: The numpy.array_api submodule is still experimental. See NEP 47.\n",
      "  __import__(info.name)\n",
      "C:\\Users\\Lehrgang\\anaconda3\\Lib\\site-packages\\_distutils_hack\\__init__.py:33: UserWarning: Setuptools is replacing distutils.\n",
      "  warnings.warn(\"Setuptools is replacing distutils.\")\n",
      "No QCoreApplication instance found. Application patches not applied. You have to call load_stylesheet function after instantiation of QApplication to take effect. \n",
      "None of PyTorch, TensorFlow >= 2.0, or Flax have been found. Models won't be available and only tokenizers, configuration and file/data utilities can be used.\n",
      "C:\\Users\\Lehrgang\\anaconda3\\Lib\\pkgutil.py:107: VisibleDeprecationWarning:\n",
      "\n",
      "zmq.eventloop.minitornado is deprecated in pyzmq 14.0 and will be removed.\n",
      "    Install tornado itself to use zmq with the tornado IOLoop.\n",
      "    \n",
      "\n"
     ]
    },
    {
     "name": "stdout",
     "output_type": "stream",
     "text": [
      "IPython             concurrent          mdurl               smtplib\n",
      "OpenSSL             conda               menuinst            snappy\n",
      "PIL                 conda_build         mimetypes           sndhdr\n",
      "PyQt5               conda_content_trust mistune             sniffio\n",
      "TBB                 conda_env           mkl                 snowballstemmer\n",
      "__future__          conda_index         mkl_fft             socket\n",
      "__hello__           conda_libmamba_solver mmap                socketserver\n",
      "__phello__          conda_pack          mmapfile            socks\n",
      "_abc                conda_package_handling mmsystem            sockshandler\n",
      "_aix_support        conda_package_streaming modulefinder        sortedcontainers\n",
      "_argon2_cffi_bindings conda_token         more_itertools      soupsieve\n",
      "_ast                conda_verify        mpmath              sphinx\n",
      "_asyncio            configparser        msgpack             spyder\n",
      "_bisect             constantly          msilib              spyder_kernels\n",
      "_black_version      contextlib          msvcrt              sqlalchemy\n",
      "_blake2             contextvars         multidict           sqlite3\n",
      "_bootsubprocess     contourpy           multipledispatch    sre_compile\n",
      "_bz2                cookiecutter        multiprocess        sre_constants\n",
      "_cffi_backend       copy                multiprocessing     sre_parse\n",
      "_codecs             copyreg             munkres             ssl\n",
      "_codecs_cn          cpuinfo             mypy_extensions     sspi\n",
      "_codecs_hk          crypt               nacl                sspicon\n",
      "_codecs_iso2022     cryptography        navigator_updater   stack_data\n",
      "_codecs_jp          cssselect           nbclassic           stat\n",
      "_codecs_kr          csv                 nbclient            statistics\n",
      "_codecs_tw          ctypes              nbconvert           statsmodels\n",
      "_collections        curl                nbformat            string\n",
      "_collections_abc    curses              nest_asyncio        stringprep\n",
      "_compat_pickle      cwp                 netbios             struct\n",
      "_compression        cycler              netrc               subprocess\n",
      "_contextvars        cytoolz             networkx            sunau\n",
      "_csv                daal4py             nltk                sympy\n",
      "_ctypes             dask                nntplib             symtable\n",
      "_ctypes_test        dataclasses         notebook            sys\n",
      "_datetime           datasets            notebook_shim       sysconfig\n",
      "_decimal            datashader          nt                  tables\n",
      "_distutils_hack     datashape           ntpath              tabnanny\n",
      "_elementtree        datetime            ntsecuritycon       tabulate\n",
      "_functools          dateutil            nturl2path          tarfile\n",
      "_hashlib            dbi                 numba               tbb\n",
      "_heapq              dbm                 numbergen           tblib\n",
      "_imp                dde                 numbers             telnetlib\n",
      "_io                 debugpy             numexpr             tempfile\n",
      "_json               decimal             numpy               tenacity\n",
      "_locale             decorator           numpydoc            terminado\n",
      "_lsprof             defusedxml          odbc                test\n",
      "_lzma               diff_match_patch    onedal              test_pycosat\n",
      "_markupbase         difflib             opcode              text_unidecode\n",
      "_md5                dill                openpyxl            textdistance\n",
      "_msi                dis                 operator            textwrap\n",
      "_multibytecodec     distributed         optparse            this\n",
      "_multiprocess       distutils           os                  threading\n",
      "_multiprocessing    docstring_to_markdown packaging           threadpoolctl\n",
      "_nsis               doctest             pandas              three_merge\n",
      "_opcode             docutils            pandocfilters       tifffile\n",
      "_operator           dotenv              panel               time\n",
      "_osx_support        email               param               timeit\n",
      "_overlapped         encodings           paramiko            timer\n",
      "_pickle             ensurepip           parsel              tinycss2\n",
      "_plotly_future_     entrypoints         parso               tkinter\n",
      "_plotly_utils       enum                partd               tldextract\n",
      "_py_abc             erfa                past                tlz\n",
      "_pydecimal          errno               pathlib             token\n",
      "_pyio               et_xmlfile          pathspec            tokenize\n",
      "_pyrsistent_version executing           patsy               tokenizers\n",
      "_pytest             fastjsonschema      pdb                 toml\n",
      "_queue              faulthandler        pep8                tomlkit\n",
      "_random             filecmp             perfmon             tomllib\n",
      "_sha1               fileinput           pexpect             toolz\n",
      "_sha256             filelock            pickle              tornado\n",
      "_sha3               flake8              pickleshare         tqdm\n",
      "_sha512             flask               pickletools         trace\n",
      "_signal             fnmatch             pip                 traceback\n",
      "_sitebuiltins       fontTools           pipes               tracemalloc\n",
      "_socket             fractions           pkce                traitlets\n",
      "_sqlite3            frozenlist          pkg_resources       transformers\n",
      "_sre                fsspec              pkginfo             tty\n",
      "_ssl                ftplib              pkgutil             turtle\n",
      "_stat               functools           platform            turtledemo\n",
      "_statistics         future              platformdirs        twisted\n",
      "_string             gc                  plistlib            types\n",
      "_strptime           genericpath         plotly              typing\n",
      "_struct             gensim              pluggy              typing_extensions\n",
      "_symtable           getopt              ply                 tzdata\n",
      "_system_path        getpass             poplib              uc_micro\n",
      "_testbuffer         gettext             posixpath           ujson\n",
      "_testcapi           glob                poyo                unicodedata\n",
      "_testconsole        glob2               pprint              unidecode\n",
      "_testimportmultiple graphlib            profile             unittest\n",
      "_testinternalcapi   greenlet            prometheus_client   urllib\n",
      "_testmultiphase     gzip                prompt_toolkit      urllib3\n",
      "_thread             h5py                protego             uu\n",
      "_threading_local    hashlib             pstats              uuid\n",
      "_tkinter            heapdict            psutil              venv\n",
      "_tokenize           heapq               pty                 w3lib\n",
      "_tracemalloc        hmac                ptyprocess          warnings\n",
      "_typing             holoviews           pure_eval           watchdog\n",
      "_uuid               html                pvectorc            wave\n",
      "_warnings           http                py                  wcwidth\n",
      "_weakref            huggingface_hub     py_compile          weakref\n",
      "_weakrefset         hvplot              pyarrow             webbrowser\n",
      "_win32sysloader     hyperlink           pyasn1              webencodings\n",
      "_winapi             idlelib             pyasn1_modules      websocket\n",
      "_winxptheme         idna                pyclbr              werkzeug\n",
      "_xxsubinterpreters  imagecodecs         pycodestyle         whatthepatch\n",
      "_yaml               imageio             pycosat             wheel\n",
      "_zoneinfo           imagesize           pycparser           widgetsnbextension\n",
      "abc                 imaplib             pyct                win2kras\n",
      "adodbapi            imblearn            pycurl              win32api\n",
      "afxres              imghdr              pydantic            win32clipboard\n",
      "aifc                imp                 pydispatch          win32com\n",
      "aiobotocore         importlib           pydoc               win32con\n",
      "aiofiles            importlib_metadata  pydoc_data          win32console\n",
      "aiohttp             incremental         pydocstyle          win32cred\n",
      "aioitertools        inflection          pyexpat             win32crypt\n",
      "aiosignal           iniconfig           pyflakes            win32cryptcon\n",
      "aiosqlite           inspect             pygments            win32ctypes\n",
      "alabaster           intake              pylab               win32event\n",
      "anaconda_anon_usage intervaltree        pylint              win32evtlog\n",
      "anaconda_catalogs   io                  pylint_venv         win32evtlogutil\n",
      "anaconda_cloud_auth ipaddress           pyls_spyder         win32file\n",
      "anaconda_navigator  ipykernel           pylsp               win32gui\n",
      "anaconda_project    ipykernel_launcher  pylsp_black         win32gui_struct\n",
      "antigravity         ipython_genutils    pylsp_jsonrpc       win32help\n",
      "anyio               ipywidgets          pyodbc              win32inet\n",
      "appdirs             isapi               pyparsing           win32inetcon\n",
      "argon2              isort               pyrsistent          win32job\n",
      "argparse            isympy              pytest              win32lz\n",
      "array               itemadapter         pythoncom           win32net\n",
      "arrow               itemloaders         pythonjsonlogger    win32netcon\n",
      "ast                 itertools           pytoolconfig        win32pdh\n",
      "astroid             itsdangerous        pytz                win32pdhquery\n",
      "astropy             jedi                pyviz_comms         win32pdhutil\n",
      "asttokens           jellyfish           pywin               win32pipe\n",
      "async_timeout       jinja2              pywin32_bootstrap   win32print\n",
      "asynchat            jinja2_time         pywin32_testutil    win32process\n",
      "asyncio             jmespath            pywintypes          win32profile\n",
      "asyncore            joblib              pywt                win32ras\n",
      "atexit              json                qdarkstyle          win32rcparser\n",
      "atomicwrites        json5               qstylizer           win32security\n",
      "attr                jsonpatch           qtawesome           win32service\n",
      "attrs               jsonpointer         qtconsole           win32serviceutil\n",
      "audioop             jsonschema          qtpy                win32timezone\n",
      "automat             jupyter             queue               win32trace\n",
      "autopep8            jupyter_client      queuelib            win32traceutil\n",
      "babel               jupyter_console     quopri              win32transaction\n",
      "backcall            jupyter_core        random              win32ts\n",
      "backports           jupyter_events      rasutil             win32ui\n",
      "base64              jupyter_server      re                  win32uiole\n",
      "bcrypt              jupyter_server_fileid regcheck            win32verstamp\n",
      "bdb                 jupyter_server_ydoc regex               win32wnet\n",
      "binaryornot         jupyter_ydoc        regutil             win_inet_pton\n",
      "binascii            jupyterlab          repo_cli            winerror\n",
      "binstar_client      jupyterlab_plotly   reprlib             winioctlcon\n",
      "bisect              jupyterlab_pygments requests            winnt\n",
      "black               jupyterlab_server   requests_file       winperf\n",
      "blackd              jupyterlab_widgets  requests_toolbelt   winpty\n",
      "bleach              jwt                 responses           winreg\n",
      "blib2to3            kaleido             rfc3339_validator   winsound\n",
      "bokeh               keyring             rfc3986_validator   winxpgui\n",
      "boltons             keyword             rlcompleter         winxptheme\n",
      "botocore            kiwisolver          rope                wrapt\n",
      "bottleneck          lazy_loader         rtree               wsgiref\n",
      "brotli              lazy_object_proxy   ruamel_yaml         xarray\n",
      "bs4                 lib2to3             runpy               xdrlib\n",
      "builtins            libarchive          s3fs                xlwings\n",
      "bz2                 libfuturize         safetensors         xml\n",
      "cProfile            libmambapy          sched               xmlrpc\n",
      "calendar            libpasteurize       scipy               xxhash\n",
      "certifi             lief                scrapy              xxlimited\n",
      "cffi                linecache           seaborn             xxlimited_35\n",
      "cgi                 linkify_it          secrets             xxsubtype\n",
      "cgitb               llvmlite            select              xyzservices\n",
      "chardet             lmdb                selectors           y_py\n",
      "charset_normalizer  locale              send2trash          yaml\n",
      "chunk               locket              service_identity    yapf\n",
      "click               logging             servicemanager      yapftests\n",
      "cloudpickle         lxml                setuptools          yarl\n",
      "clyent              lz4                 shelve              ypy_websocket\n",
      "cmath               lzma                shlex               zict\n",
      "cmd                 mailbox             shutil              zipapp\n",
      "code                mailcap             signal              zipfile\n",
      "codecs              markdown            sipbuild            zipimport\n",
      "codeop              markdown_it         site                zipp\n",
      "collections         markupsafe          six                 zlib\n",
      "colorama            marshal             skimage             zmq\n",
      "colorcet            math                sklearn             zoneinfo\n",
      "colorsys            matplotlib          sklearnex           zope\n",
      "comm                matplotlib_inline   slugify             zstandard\n",
      "commctrl            mccabe              smart_open          \n",
      "compileall          mdit_py_plugins     smtpd               \n",
      "\n",
      "Enter any module name to get more help.  Or, type \"modules spam\" to search\n",
      "for modules whose name or summary contain the string \"spam\".\n",
      "\n"
     ]
    }
   ],
   "source": [
    "help(\"modules\")"
   ]
  },
  {
   "cell_type": "code",
   "execution_count": 2,
   "id": "ac86e9de",
   "metadata": {},
   "outputs": [],
   "source": [
    "import math"
   ]
  },
  {
   "cell_type": "code",
   "execution_count": 4,
   "id": "70b20b9c",
   "metadata": {},
   "outputs": [
    {
     "name": "stdout",
     "output_type": "stream",
     "text": [
      "Pi:  3.141592653589793\n"
     ]
    }
   ],
   "source": [
    "print(\"Pi: \", math.pi)"
   ]
  },
  {
   "cell_type": "code",
   "execution_count": 7,
   "id": "ab930442",
   "metadata": {},
   "outputs": [
    {
     "name": "stdout",
     "output_type": "stream",
     "text": [
      "e:  2.718281828459045\n"
     ]
    }
   ],
   "source": [
    "print(\"e: \", math.e)"
   ]
  },
  {
   "cell_type": "code",
   "execution_count": 9,
   "id": "55f6f9cf",
   "metadata": {},
   "outputs": [
    {
     "data": {
      "text/plain": [
       "9"
      ]
     },
     "execution_count": 9,
     "metadata": {},
     "output_type": "execute_result"
    }
   ],
   "source": [
    "math.ceil(8.1)"
   ]
  },
  {
   "cell_type": "code",
   "execution_count": 10,
   "id": "76f7c4fa",
   "metadata": {},
   "outputs": [
    {
     "data": {
      "text/plain": [
       "16.0"
      ]
     },
     "execution_count": 10,
     "metadata": {},
     "output_type": "execute_result"
    }
   ],
   "source": [
    "math.pow(2, 4)"
   ]
  },
  {
   "cell_type": "code",
   "execution_count": 13,
   "id": "50ec89c8",
   "metadata": {},
   "outputs": [
    {
     "data": {
      "text/plain": [
       "4.898979485566356"
      ]
     },
     "execution_count": 13,
     "metadata": {},
     "output_type": "execute_result"
    }
   ],
   "source": [
    "math.sqrt(24)"
   ]
  },
  {
   "cell_type": "markdown",
   "id": "7d59d5e7",
   "metadata": {},
   "source": [
    "math.factorial(6"
   ]
  },
  {
   "cell_type": "code",
   "execution_count": 16,
   "id": "c2b4934c",
   "metadata": {},
   "outputs": [
    {
     "data": {
      "text/plain": [
       "6"
      ]
     },
     "execution_count": 16,
     "metadata": {},
     "output_type": "execute_result"
    }
   ],
   "source": [
    "math.factorial(3)"
   ]
  },
  {
   "cell_type": "code",
   "execution_count": 17,
   "id": "4ccd031c",
   "metadata": {},
   "outputs": [],
   "source": [
    "import os"
   ]
  },
  {
   "cell_type": "code",
   "execution_count": 18,
   "id": "f373514d",
   "metadata": {},
   "outputs": [
    {
     "data": {
      "text/plain": [
       "'C:\\\\Users\\\\Lehrgang\\\\Demos\\\\Functions\\\\Deeper Functions'"
      ]
     },
     "execution_count": 18,
     "metadata": {},
     "output_type": "execute_result"
    }
   ],
   "source": [
    "os.getcwd()"
   ]
  },
  {
   "cell_type": "code",
   "execution_count": 19,
   "id": "ab960c58",
   "metadata": {},
   "outputs": [
    {
     "data": {
      "text/plain": [
       "environ{'ALLUSERSPROFILE': 'C:\\\\ProgramData',\n",
       "        'APPDATA': 'C:\\\\Users\\\\Lehrgang\\\\AppData\\\\Roaming',\n",
       "        'COMMONPROGRAMFILES': 'C:\\\\Program Files\\\\Common Files',\n",
       "        'COMMONPROGRAMFILES(X86)': 'C:\\\\Program Files (x86)\\\\Common Files',\n",
       "        'COMMONPROGRAMW6432': 'C:\\\\Program Files\\\\Common Files',\n",
       "        'COMPUTERNAME': 'SCHULUNG',\n",
       "        'COMSPEC': 'C:\\\\Windows\\\\system32\\\\cmd.exe',\n",
       "        'CONDA_DEFAULT_ENV': 'base',\n",
       "        'CONDA_EXE': 'C:\\\\Users\\\\Lehrgang\\\\anaconda3\\\\Scripts\\\\conda.exe',\n",
       "        'CONDA_PREFIX': 'C:\\\\Users\\\\Lehrgang\\\\anaconda3',\n",
       "        'CONDA_PROMPT_MODIFIER': '(base) ',\n",
       "        'CONDA_PYTHON_EXE': 'C:\\\\Users\\\\Lehrgang\\\\anaconda3\\\\python.exe',\n",
       "        'CONDA_SHLVL': '1',\n",
       "        'DRIVERDATA': 'C:\\\\Windows\\\\System32\\\\Drivers\\\\DriverData',\n",
       "        'FPS_BROWSER_APP_PROFILE_STRING': 'Internet Explorer',\n",
       "        'FPS_BROWSER_USER_PROFILE_STRING': 'Default',\n",
       "        'HOMEDRIVE': 'C:',\n",
       "        'HOMEPATH': '\\\\Users\\\\Lehrgang',\n",
       "        'LOCALAPPDATA': 'C:\\\\Users\\\\Lehrgang\\\\AppData\\\\Local',\n",
       "        'LOGONSERVER': '\\\\\\\\SCHULUNG',\n",
       "        'NUMBER_OF_PROCESSORS': '4',\n",
       "        'ONEDRIVE': 'C:\\\\Users\\\\Lehrgang\\\\OneDrive',\n",
       "        'OS': 'Windows_NT',\n",
       "        'PATH': 'C:\\\\Users\\\\Lehrgang\\\\anaconda3\\\\Library\\\\bin;C:\\\\Users\\\\Lehrgang\\\\anaconda3\\\\Lib\\\\site-packages\\\\daal4py\\\\oneapi;C:\\\\Users\\\\Lehrgang\\\\anaconda3\\\\Lib\\\\site-packages\\\\daal4py\\\\oneapi;C:\\\\Users\\\\Lehrgang\\\\anaconda3\\\\Lib\\\\site-packages\\\\daal4py\\\\oneapi;C:\\\\Users\\\\Lehrgang\\\\anaconda3\\\\Lib\\\\site-packages\\\\daal4py\\\\oneapi;C:\\\\Users\\\\Lehrgang\\\\anaconda3\\\\Library\\\\bin;C:\\\\Users\\\\Lehrgang\\\\anaconda3;C:\\\\Users\\\\Lehrgang\\\\anaconda3\\\\Library\\\\mingw-w64\\\\bin;C:\\\\Users\\\\Lehrgang\\\\anaconda3\\\\Library\\\\usr\\\\bin;C:\\\\Users\\\\Lehrgang\\\\anaconda3\\\\Library\\\\bin;C:\\\\Users\\\\Lehrgang\\\\anaconda3\\\\Scripts;C:\\\\Users\\\\Lehrgang\\\\anaconda3\\\\bin;C:\\\\Users\\\\Lehrgang\\\\anaconda3\\\\condabin;C:\\\\Windows\\\\system32;C:\\\\Windows;C:\\\\Windows\\\\System32\\\\Wbem;C:\\\\Windows\\\\System32\\\\WindowsPowerShell\\\\v1.0;C:\\\\Windows\\\\System32\\\\OpenSSH;C:\\\\Users\\\\Lehrgang\\\\AppData\\\\Local\\\\Microsoft\\\\WindowsApps;.;C:\\\\Users\\\\Lehrgang\\\\AppData\\\\Local\\\\Programs\\\\Microsoft VS Code\\\\bin;C:\\\\Users\\\\Lehrgang\\\\AppData\\\\Local\\\\Programs\\\\Azure Data Studio\\\\bin;C:\\\\Users\\\\Lehrgang\\\\anaconda3\\\\Library\\\\bin',\n",
       "        'PATHEXT': '.COM;.EXE;.BAT;.CMD;.VBS;.VBE;.JS;.JSE;.WSF;.WSH;.MSC',\n",
       "        'PROCESSOR_ARCHITECTURE': 'AMD64',\n",
       "        'PROCESSOR_IDENTIFIER': 'Intel64 Family 6 Model 142 Stepping 9, GenuineIntel',\n",
       "        'PROCESSOR_LEVEL': '6',\n",
       "        'PROCESSOR_REVISION': '8e09',\n",
       "        'PROGRAMDATA': 'C:\\\\ProgramData',\n",
       "        'PROGRAMFILES': 'C:\\\\Program Files',\n",
       "        'PROGRAMFILES(X86)': 'C:\\\\Program Files (x86)',\n",
       "        'PROGRAMW6432': 'C:\\\\Program Files',\n",
       "        'PROMPT': '(base) $P$G',\n",
       "        'PSMODULEPATH': 'C:\\\\Program Files\\\\WindowsPowerShell\\\\Modules;C:\\\\Windows\\\\system32\\\\WindowsPowerShell\\\\v1.0\\\\Modules',\n",
       "        'PUBLIC': 'C:\\\\Users\\\\Public',\n",
       "        'SESSIONNAME': 'Console',\n",
       "        'SSL_CERT_FILE': 'C:\\\\Users\\\\Lehrgang\\\\anaconda3\\\\Library\\\\ssl\\\\cacert.pem',\n",
       "        'SYSTEMDRIVE': 'C:',\n",
       "        'SYSTEMROOT': 'C:\\\\Windows',\n",
       "        'TEMP': 'C:\\\\Users\\\\Lehrgang\\\\AppData\\\\Local\\\\Temp',\n",
       "        'TMP': 'C:\\\\Users\\\\Lehrgang\\\\AppData\\\\Local\\\\Temp',\n",
       "        'USERDOMAIN': 'SCHULUNG',\n",
       "        'USERDOMAIN_ROAMINGPROFILE': 'SCHULUNG',\n",
       "        'USERNAME': 'Lehrgang',\n",
       "        'USERPROFILE': 'C:\\\\Users\\\\Lehrgang',\n",
       "        'WINDIR': 'C:\\\\Windows',\n",
       "        '__CONDA_OPENSLL_CERT_FILE_SET': '\"1\"',\n",
       "        'PYDEVD_USE_FRAME_EVAL': 'NO',\n",
       "        'JPY_INTERRUPT_EVENT': '4528',\n",
       "        'IPY_INTERRUPT_EVENT': '4528',\n",
       "        'JPY_PARENT_PID': '4476',\n",
       "        'TERM': 'xterm-color',\n",
       "        'CLICOLOR': '1',\n",
       "        'FORCE_COLOR': '1',\n",
       "        'CLICOLOR_FORCE': '1',\n",
       "        'PAGER': 'cat',\n",
       "        'GIT_PAGER': 'cat',\n",
       "        'MPLBACKEND': 'module://matplotlib_inline.backend_inline',\n",
       "        'QT_API': 'pyqt5',\n",
       "        'CONDA_ROOT': 'C:\\\\Users\\\\Lehrgang\\\\anaconda3',\n",
       "        'KMP_DUPLICATE_LIB_OK': 'True',\n",
       "        'KMP_INIT_AT_FORK': 'FALSE',\n",
       "        'LANG': 'en'}"
      ]
     },
     "execution_count": 19,
     "metadata": {},
     "output_type": "execute_result"
    }
   ],
   "source": [
    "os.environ"
   ]
  },
  {
   "cell_type": "code",
   "execution_count": 21,
   "id": "ddbde130",
   "metadata": {},
   "outputs": [
    {
     "ename": "KeyError",
     "evalue": "'USER'",
     "output_type": "error",
     "traceback": [
      "\u001b[1;31m---------------------------------------------------------------------------\u001b[0m",
      "\u001b[1;31mKeyError\u001b[0m                                  Traceback (most recent call last)",
      "Cell \u001b[1;32mIn[21], line 1\u001b[0m\n\u001b[1;32m----> 1\u001b[0m user \u001b[38;5;241m=\u001b[39m os\u001b[38;5;241m.\u001b[39menviron[\u001b[38;5;124m\"\u001b[39m\u001b[38;5;124mUSER\u001b[39m\u001b[38;5;124m\"\u001b[39m]\n\u001b[0;32m      2\u001b[0m \u001b[38;5;28mprint\u001b[39m(\u001b[38;5;124m\"\u001b[39m\u001b[38;5;124mUser: \u001b[39m\u001b[38;5;124m\"\u001b[39m, user)\n",
      "File \u001b[1;32m<frozen os>:679\u001b[0m, in \u001b[0;36m__getitem__\u001b[1;34m(self, key)\u001b[0m\n",
      "\u001b[1;31mKeyError\u001b[0m: 'USER'"
     ]
    }
   ],
   "source": [
    "user = os.environ[\"USER\"]\n",
    "print(\"User: \", user)"
   ]
  },
  {
   "cell_type": "code",
   "execution_count": 22,
   "id": "8dc73044",
   "metadata": {},
   "outputs": [
    {
     "name": "stdout",
     "output_type": "stream",
     "text": [
      "Path:  C:\\Users\\Lehrgang\\anaconda3\\Library\\bin;C:\\Users\\Lehrgang\\anaconda3\\Lib\\site-packages\\daal4py\\oneapi;C:\\Users\\Lehrgang\\anaconda3\\Lib\\site-packages\\daal4py\\oneapi;C:\\Users\\Lehrgang\\anaconda3\\Lib\\site-packages\\daal4py\\oneapi;C:\\Users\\Lehrgang\\anaconda3\\Lib\\site-packages\\daal4py\\oneapi;C:\\Users\\Lehrgang\\anaconda3\\Library\\bin;C:\\Users\\Lehrgang\\anaconda3;C:\\Users\\Lehrgang\\anaconda3\\Library\\mingw-w64\\bin;C:\\Users\\Lehrgang\\anaconda3\\Library\\usr\\bin;C:\\Users\\Lehrgang\\anaconda3\\Library\\bin;C:\\Users\\Lehrgang\\anaconda3\\Scripts;C:\\Users\\Lehrgang\\anaconda3\\bin;C:\\Users\\Lehrgang\\anaconda3\\condabin;C:\\Windows\\system32;C:\\Windows;C:\\Windows\\System32\\Wbem;C:\\Windows\\System32\\WindowsPowerShell\\v1.0;C:\\Windows\\System32\\OpenSSH;C:\\Users\\Lehrgang\\AppData\\Local\\Microsoft\\WindowsApps;.;C:\\Users\\Lehrgang\\AppData\\Local\\Programs\\Microsoft VS Code\\bin;C:\\Users\\Lehrgang\\AppData\\Local\\Programs\\Azure Data Studio\\bin;C:\\Users\\Lehrgang\\anaconda3\\Library\\bin\n"
     ]
    }
   ],
   "source": [
    "path = os.environ[\"PATH\"]\n",
    "print(\"Path: \", path)"
   ]
  },
  {
   "cell_type": "code",
   "execution_count": 24,
   "id": "9127cc60",
   "metadata": {},
   "outputs": [
    {
     "data": {
      "text/plain": [
       "['.ipynb_checkpoints',\n",
       " 'ArgumentPassingByReference.ipynb',\n",
       " 'ArgumentPassingByValue.ipynb',\n",
       " 'ImportingModules.ipynb',\n",
       " 'LocalUndGlobakVariables.ipynb']"
      ]
     },
     "execution_count": 24,
     "metadata": {},
     "output_type": "execute_result"
    }
   ],
   "source": [
    "os.listdir()"
   ]
  },
  {
   "cell_type": "code",
   "execution_count": 26,
   "id": "27d403ff",
   "metadata": {},
   "outputs": [],
   "source": [
    "os.mkdir(\"./my_temp_dir\")"
   ]
  },
  {
   "cell_type": "code",
   "execution_count": 27,
   "id": "cea6cbfa",
   "metadata": {},
   "outputs": [
    {
     "data": {
      "text/plain": [
       "['.ipynb_checkpoints',\n",
       " 'ArgumentPassingByReference.ipynb',\n",
       " 'ArgumentPassingByValue.ipynb',\n",
       " 'ImportingModules.ipynb',\n",
       " 'LocalUndGlobakVariables.ipynb',\n",
       " 'my_temp-dir',\n",
       " 'my_temp_dir']"
      ]
     },
     "execution_count": 27,
     "metadata": {},
     "output_type": "execute_result"
    }
   ],
   "source": [
    "os.listdir()"
   ]
  },
  {
   "cell_type": "code",
   "execution_count": 29,
   "id": "dac9fbae",
   "metadata": {},
   "outputs": [],
   "source": [
    "os.rename(\"my_temp-dir\", \"my_new_dir\")"
   ]
  },
  {
   "cell_type": "code",
   "execution_count": 31,
   "id": "e8d957fd",
   "metadata": {},
   "outputs": [
    {
     "data": {
      "text/plain": [
       "['.ipynb_checkpoints',\n",
       " 'ArgumentPassingByReference.ipynb',\n",
       " 'ArgumentPassingByValue.ipynb',\n",
       " 'ImportingModules.ipynb',\n",
       " 'LocalUndGlobakVariables.ipynb',\n",
       " 'my_new_dir',\n",
       " 'my_temp_dir']"
      ]
     },
     "execution_count": 31,
     "metadata": {},
     "output_type": "execute_result"
    }
   ],
   "source": [
    "os.listdir()"
   ]
  },
  {
   "cell_type": "code",
   "execution_count": 33,
   "id": "fc64a974",
   "metadata": {},
   "outputs": [
    {
     "data": {
      "text/plain": [
       "['.ipynb_checkpoints',\n",
       " 'ArgumentPassingByReference.ipynb',\n",
       " 'ArgumentPassingByValue.ipynb',\n",
       " 'ImportingModules.ipynb',\n",
       " 'LocalUndGlobakVariables.ipynb',\n",
       " 'my_new_dir',\n",
       " 'my_temp_dir']"
      ]
     },
     "execution_count": 33,
     "metadata": {},
     "output_type": "execute_result"
    }
   ],
   "source": [
    "os.listdir(\".\")"
   ]
  },
  {
   "cell_type": "code",
   "execution_count": 34,
   "id": "a8ab099d",
   "metadata": {},
   "outputs": [],
   "source": [
    "os.rmdir(\"my_new_dir\")"
   ]
  },
  {
   "cell_type": "code",
   "execution_count": 35,
   "id": "46a1f1aa",
   "metadata": {},
   "outputs": [
    {
     "data": {
      "text/plain": [
       "['.ipynb_checkpoints',\n",
       " 'ArgumentPassingByReference.ipynb',\n",
       " 'ArgumentPassingByValue.ipynb',\n",
       " 'ImportingModules.ipynb',\n",
       " 'LocalUndGlobakVariables.ipynb',\n",
       " 'my_temp_dir']"
      ]
     },
     "execution_count": 35,
     "metadata": {},
     "output_type": "execute_result"
    }
   ],
   "source": [
    "os.listdir(\".\")"
   ]
  },
  {
   "cell_type": "code",
   "execution_count": 37,
   "id": "27d3b77a",
   "metadata": {},
   "outputs": [],
   "source": [
    "os.mkdir(\"./my_dir\")"
   ]
  },
  {
   "cell_type": "code",
   "execution_count": 39,
   "id": "edd2be8b",
   "metadata": {},
   "outputs": [
    {
     "data": {
      "text/plain": [
       "['.ipynb_checkpoints',\n",
       " 'ArgumentPassingByReference.ipynb',\n",
       " 'ArgumentPassingByValue.ipynb',\n",
       " 'ImportingModules.ipynb',\n",
       " 'LocalUndGlobakVariables.ipynb',\n",
       " 'my_dir',\n",
       " 'my_temp_dir']"
      ]
     },
     "execution_count": 39,
     "metadata": {},
     "output_type": "execute_result"
    }
   ],
   "source": [
    "os.listdir(\".\")"
   ]
  },
  {
   "cell_type": "code",
   "execution_count": 40,
   "id": "7fc2564e",
   "metadata": {},
   "outputs": [
    {
     "data": {
      "text/plain": [
       "'C:\\\\Users\\\\Lehrgang\\\\Demos\\\\Functions\\\\Deeper Functions'"
      ]
     },
     "execution_count": 40,
     "metadata": {},
     "output_type": "execute_result"
    }
   ],
   "source": [
    "cwd = os.getcwd()\n",
    "cwd"
   ]
  },
  {
   "cell_type": "code",
   "execution_count": 41,
   "id": "e6d31613",
   "metadata": {},
   "outputs": [
    {
     "data": {
      "text/plain": [
       "True"
      ]
     },
     "execution_count": 41,
     "metadata": {},
     "output_type": "execute_result"
    }
   ],
   "source": [
    "os.path.isdir(cwd)"
   ]
  },
  {
   "cell_type": "code",
   "execution_count": 42,
   "id": "08325384",
   "metadata": {},
   "outputs": [
    {
     "data": {
      "text/plain": [
       "False"
      ]
     },
     "execution_count": 42,
     "metadata": {},
     "output_type": "execute_result"
    }
   ],
   "source": [
    "os.path.isfile(cwd)"
   ]
  },
  {
   "cell_type": "code",
   "execution_count": 43,
   "id": "df6a318a",
   "metadata": {},
   "outputs": [],
   "source": [
    "from os import path"
   ]
  },
  {
   "cell_type": "code",
   "execution_count": 44,
   "id": "dfdcc6a9",
   "metadata": {},
   "outputs": [
    {
     "data": {
      "text/plain": [
       "True"
      ]
     },
     "execution_count": 44,
     "metadata": {},
     "output_type": "execute_result"
    }
   ],
   "source": [
    "path.isdir(cwd)"
   ]
  },
  {
   "cell_type": "code",
   "execution_count": 45,
   "id": "0d9ac447",
   "metadata": {},
   "outputs": [
    {
     "data": {
      "text/plain": [
       "False"
      ]
     },
     "execution_count": 45,
     "metadata": {},
     "output_type": "execute_result"
    }
   ],
   "source": [
    "path.isfile(cwd)"
   ]
  },
  {
   "cell_type": "code",
   "execution_count": 47,
   "id": "d0c95ea6",
   "metadata": {},
   "outputs": [
    {
     "data": {
      "text/plain": [
       "True"
      ]
     },
     "execution_count": 47,
     "metadata": {},
     "output_type": "execute_result"
    }
   ],
   "source": [
    "path.exists(\"my_temp_dir\")"
   ]
  },
  {
   "cell_type": "code",
   "execution_count": 48,
   "id": "70eb3815",
   "metadata": {},
   "outputs": [],
   "source": [
    "import random"
   ]
  },
  {
   "cell_type": "code",
   "execution_count": 49,
   "id": "1f910dbb",
   "metadata": {},
   "outputs": [
    {
     "data": {
      "text/plain": [
       "0.5792808532255087"
      ]
     },
     "execution_count": 49,
     "metadata": {},
     "output_type": "execute_result"
    }
   ],
   "source": [
    "random.random()"
   ]
  },
  {
   "cell_type": "code",
   "execution_count": 52,
   "id": "7d7113f1",
   "metadata": {},
   "outputs": [
    {
     "data": {
      "text/plain": [
       "9"
      ]
     },
     "execution_count": 52,
     "metadata": {},
     "output_type": "execute_result"
    }
   ],
   "source": [
    "random.randint(0,10)"
   ]
  },
  {
   "cell_type": "code",
   "execution_count": 53,
   "id": "7831197f",
   "metadata": {},
   "outputs": [],
   "source": [
    "my_list = [\"John\", \"Roy\", True, 5, \"Rose\", 56]"
   ]
  },
  {
   "cell_type": "code",
   "execution_count": 55,
   "id": "2665a34f",
   "metadata": {},
   "outputs": [
    {
     "data": {
      "text/plain": [
       "56"
      ]
     },
     "execution_count": 55,
     "metadata": {},
     "output_type": "execute_result"
    }
   ],
   "source": [
    "random.choice(my_list)"
   ]
  },
  {
   "cell_type": "code",
   "execution_count": 56,
   "id": "f6181f60",
   "metadata": {},
   "outputs": [],
   "source": [
    "import datetime"
   ]
  },
  {
   "cell_type": "code",
   "execution_count": 57,
   "id": "23642609",
   "metadata": {},
   "outputs": [
    {
     "data": {
      "text/plain": [
       "datetime.date(2024, 2, 9)"
      ]
     },
     "execution_count": 57,
     "metadata": {},
     "output_type": "execute_result"
    }
   ],
   "source": [
    "datetime.date.today()"
   ]
  },
  {
   "cell_type": "code",
   "execution_count": 58,
   "id": "73b8d166",
   "metadata": {},
   "outputs": [
    {
     "data": {
      "text/plain": [
       "datetime.datetime(2024, 2, 9, 16, 54, 11, 623520)"
      ]
     },
     "execution_count": 58,
     "metadata": {},
     "output_type": "execute_result"
    }
   ],
   "source": [
    "datetime.datetime.now()"
   ]
  },
  {
   "cell_type": "code",
   "execution_count": 59,
   "id": "806ef8e6",
   "metadata": {},
   "outputs": [],
   "source": [
    "from datetime import datetime"
   ]
  },
  {
   "cell_type": "code",
   "execution_count": 60,
   "id": "bb4f6937",
   "metadata": {},
   "outputs": [
    {
     "data": {
      "text/plain": [
       "datetime.datetime(2024, 2, 9, 16, 55, 25, 168339)"
      ]
     },
     "execution_count": 60,
     "metadata": {},
     "output_type": "execute_result"
    }
   ],
   "source": [
    "datetime.today()"
   ]
  },
  {
   "cell_type": "code",
   "execution_count": 61,
   "id": "aee550fe",
   "metadata": {},
   "outputs": [
    {
     "ename": "NameError",
     "evalue": "name 'today' is not defined",
     "output_type": "error",
     "traceback": [
      "\u001b[1;31m---------------------------------------------------------------------------\u001b[0m",
      "\u001b[1;31mNameError\u001b[0m                                 Traceback (most recent call last)",
      "Cell \u001b[1;32mIn[61], line 1\u001b[0m\n\u001b[1;32m----> 1\u001b[0m today()\n",
      "\u001b[1;31mNameError\u001b[0m: name 'today' is not defined"
     ]
    }
   ],
   "source": [
    "today()"
   ]
  },
  {
   "cell_type": "code",
   "execution_count": null,
   "id": "a7ad4d64",
   "metadata": {},
   "outputs": [],
   "source": []
  }
 ],
 "metadata": {
  "kernelspec": {
   "display_name": "Python 3 (ipykernel)",
   "language": "python",
   "name": "python3"
  },
  "language_info": {
   "codemirror_mode": {
    "name": "ipython",
    "version": 3
   },
   "file_extension": ".py",
   "mimetype": "text/x-python",
   "name": "python",
   "nbconvert_exporter": "python",
   "pygments_lexer": "ipython3",
   "version": "3.11.5"
  }
 },
 "nbformat": 4,
 "nbformat_minor": 5
}
