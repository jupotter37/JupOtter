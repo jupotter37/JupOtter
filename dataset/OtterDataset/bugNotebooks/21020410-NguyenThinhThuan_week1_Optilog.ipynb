{
  "cells": [
    {
      "cell_type": "markdown",
      "metadata": {
        "id": "view-in-github",
        "colab_type": "text"
      },
      "source": [
        "<a href=\"https://colab.research.google.com/github/21020410-NguyenThinhThuan/week1/blob/main/Optilog.ipynb\" target=\"_parent\"><img src=\"https://colab.research.google.com/assets/colab-badge.svg\" alt=\"Open In Colab\"/></a>"
      ]
    },
    {
      "cell_type": "markdown",
      "metadata": {
        "id": "zxSN779CPIEK"
      },
      "source": [
        "#cài đặt\n"
      ]
    },
    {
      "cell_type": "code",
      "execution_count": null,
      "metadata": {
        "colab": {
          "base_uri": "https://localhost:8080/"
        },
        "id": "67Cp1RnlPVis",
        "outputId": "0a4acf34-ba8d-4add-bf07-060fcda6a79a"
      },
      "outputs": [
        {
          "output_type": "stream",
          "name": "stdout",
          "text": [
            "Collecting optilog\n",
            "  Downloading optilog-0.6.1-cp310-cp310-manylinux_2_17_x86_64.manylinux2014_x86_64.whl.metadata (13 kB)\n",
            "Collecting pypblib>=0.0.4 (from optilog)\n",
            "  Downloading pypblib-0.0.4.tar.gz (74 kB)\n",
            "\u001b[2K     \u001b[90m━━━━━━━━━━━━━━━━━━━━━━━━━━━━━━━━━━━━━━━━\u001b[0m \u001b[32m74.0/74.0 kB\u001b[0m \u001b[31m2.7 MB/s\u001b[0m eta \u001b[36m0:00:00\u001b[0m\n",
            "\u001b[?25h  Preparing metadata (setup.py) ... \u001b[?25l\u001b[?25hdone\n",
            "Collecting pandas<2.2.2,>=1.1.5 (from optilog)\n",
            "  Downloading pandas-2.2.1-cp310-cp310-manylinux_2_17_x86_64.manylinux2014_x86_64.whl.metadata (19 kB)\n",
            "Requirement already satisfied: tabulate>=0.8.9 in /usr/local/lib/python3.10/dist-packages (from optilog) (0.9.0)\n",
            "Collecting sly==0.4 (from optilog)\n",
            "  Downloading sly-0.4.tar.gz (60 kB)\n",
            "\u001b[2K     \u001b[90m━━━━━━━━━━━━━━━━━━━━━━━━━━━━━━━━━━━━━━━━\u001b[0m \u001b[32m60.6/60.6 kB\u001b[0m \u001b[31m2.5 MB/s\u001b[0m eta \u001b[36m0:00:00\u001b[0m\n",
            "\u001b[?25h  Preparing metadata (setup.py) ... \u001b[?25l\u001b[?25hdone\n",
            "Collecting appdirs (from optilog)\n",
            "  Downloading appdirs-1.4.4-py2.py3-none-any.whl.metadata (9.0 kB)\n",
            "Requirement already satisfied: termcolor in /usr/local/lib/python3.10/dist-packages (from optilog) (2.4.0)\n",
            "Requirement already satisfied: numpy<2,>=1.22.4 in /usr/local/lib/python3.10/dist-packages (from pandas<2.2.2,>=1.1.5->optilog) (1.26.4)\n",
            "Requirement already satisfied: python-dateutil>=2.8.2 in /usr/local/lib/python3.10/dist-packages (from pandas<2.2.2,>=1.1.5->optilog) (2.8.2)\n",
            "Requirement already satisfied: pytz>=2020.1 in /usr/local/lib/python3.10/dist-packages (from pandas<2.2.2,>=1.1.5->optilog) (2024.2)\n",
            "Requirement already satisfied: tzdata>=2022.7 in /usr/local/lib/python3.10/dist-packages (from pandas<2.2.2,>=1.1.5->optilog) (2024.2)\n",
            "Requirement already satisfied: six>=1.5 in /usr/local/lib/python3.10/dist-packages (from python-dateutil>=2.8.2->pandas<2.2.2,>=1.1.5->optilog) (1.16.0)\n",
            "Downloading optilog-0.6.1-cp310-cp310-manylinux_2_17_x86_64.manylinux2014_x86_64.whl (4.2 MB)\n",
            "\u001b[2K   \u001b[90m━━━━━━━━━━━━━━━━━━━━━━━━━━━━━━━━━━━━━━━━\u001b[0m \u001b[32m4.2/4.2 MB\u001b[0m \u001b[31m14.3 MB/s\u001b[0m eta \u001b[36m0:00:00\u001b[0m\n",
            "\u001b[?25hDownloading pandas-2.2.1-cp310-cp310-manylinux_2_17_x86_64.manylinux2014_x86_64.whl (13.0 MB)\n",
            "\u001b[2K   \u001b[90m━━━━━━━━━━━━━━━━━━━━━━━━━━━━━━━━━━━━━━━━\u001b[0m \u001b[32m13.0/13.0 MB\u001b[0m \u001b[31m53.6 MB/s\u001b[0m eta \u001b[36m0:00:00\u001b[0m\n",
            "\u001b[?25hDownloading appdirs-1.4.4-py2.py3-none-any.whl (9.6 kB)\n",
            "Building wheels for collected packages: sly, pypblib\n",
            "  Building wheel for sly (setup.py) ... \u001b[?25l\u001b[?25hdone\n",
            "  Created wheel for sly: filename=sly-0.4-py3-none-any.whl size=27338 sha256=d137d8677e10f8904efdd95785abeb25e20a7d502a982f0c5241115cd96185ae\n",
            "  Stored in directory: /root/.cache/pip/wheels/a2/23/4a/6a84282a0d2c29f003012dc565b3126e427972e8b8157ea51f\n",
            "  Building wheel for pypblib (setup.py) ... \u001b[?25l\u001b[?25hdone\n",
            "  Created wheel for pypblib: filename=pypblib-0.0.4-cp310-cp310-linux_x86_64.whl size=2973436 sha256=570f872d46489be6fd2851915601829054f042c82da94e6666b931c621fb46b8\n",
            "  Stored in directory: /root/.cache/pip/wheels/a8/3d/9c/b980a09d6084eaeb9b336edbe20371c53c2550226daeee2025\n",
            "Successfully built sly pypblib\n",
            "Installing collected packages: sly, pypblib, appdirs, pandas, optilog\n",
            "  Attempting uninstall: pandas\n",
            "    Found existing installation: pandas 2.2.2\n",
            "    Uninstalling pandas-2.2.2:\n",
            "      Successfully uninstalled pandas-2.2.2\n",
            "\u001b[31mERROR: pip's dependency resolver does not currently take into account all the packages that are installed. This behaviour is the source of the following dependency conflicts.\n",
            "google-colab 1.0.0 requires pandas==2.2.2, but you have pandas 2.2.1 which is incompatible.\u001b[0m\u001b[31m\n",
            "\u001b[0mSuccessfully installed appdirs-1.4.4 optilog-0.6.1 pandas-2.2.1 pypblib-0.0.4 sly-0.4\n"
          ]
        }
      ],
      "source": [
        "!pip install optilog"
      ]
    },
    {
      "cell_type": "code",
      "execution_count": null,
      "metadata": {
        "colab": {
          "base_uri": "https://localhost:8080/"
        },
        "id": "TW8qPjQvPIEa",
        "outputId": "54a9fd5a-3199-4cb9-f239-d742f1d64ed0"
      },
      "outputs": [
        {
          "output_type": "stream",
          "name": "stdout",
          "text": [
            "Reading package lists... Done\n",
            "Building dependency tree... Done\n",
            "Reading state information... Done\n",
            "E: Unable to locate package RunSolver\n"
          ]
        }
      ],
      "source": [
        "!apt-get install RunSolver"
      ]
    },
    {
      "cell_type": "code",
      "execution_count": null,
      "metadata": {
        "colab": {
          "base_uri": "https://localhost:8080/"
        },
        "id": "zPmcMv-uPIEb",
        "outputId": "7007d659-375e-4231-9979-f6bfb4bfccc2"
      },
      "outputs": [
        {
          "output_type": "stream",
          "name": "stdout",
          "text": [
            "--2024-10-04 08:34:35--  http://www.cril.univ-artois.fr/~roussel/runsolver/runsolver-3.4.1.tar.bz2\n",
            "Resolving www.cril.univ-artois.fr (www.cril.univ-artois.fr)... 193.49.115.72\n",
            "Connecting to www.cril.univ-artois.fr (www.cril.univ-artois.fr)|193.49.115.72|:80... connected.\n",
            "HTTP request sent, awaiting response... 200 OK\n",
            "Length: 40612 (40K) [application/x-bzip2]\n",
            "Saving to: ‘runsolver-3.4.1.tar.bz2’\n",
            "\n",
            "runsolver-3.4.1.tar 100%[===================>]  39.66K   213KB/s    in 0.2s    \n",
            "\n",
            "2024-10-04 08:34:36 (213 KB/s) - ‘runsolver-3.4.1.tar.bz2’ saved [40612/40612]\n",
            "\n"
          ]
        }
      ],
      "source": [
        "!wget http://www.cril.univ-artois.fr/~roussel/runsolver/runsolver-3.4.1.tar.bz2"
      ]
    },
    {
      "cell_type": "code",
      "execution_count": null,
      "metadata": {
        "id": "IH--QBm-PIEb"
      },
      "outputs": [],
      "source": [
        "!tar -xjf runsolver-3.4.1.tar.bz2\n"
      ]
    },
    {
      "cell_type": "code",
      "execution_count": null,
      "metadata": {
        "colab": {
          "base_uri": "https://localhost:8080/"
        },
        "id": "XwseLq6DPIEc",
        "outputId": "d60ad7df-528b-4e79-f55d-e8c3f0153fd7"
      },
      "outputs": [
        {
          "output_type": "stream",
          "name": "stdout",
          "text": [
            "/content/runsolver/src\n"
          ]
        }
      ],
      "source": [
        "%cd /content/runsolver/src\n"
      ]
    },
    {
      "cell_type": "code",
      "execution_count": null,
      "metadata": {
        "colab": {
          "base_uri": "https://localhost:8080/"
        },
        "id": "8sdsF0RfPIEc",
        "outputId": "6372cd86-5152-4de1-8d83-6902e2c6aaab"
      },
      "outputs": [
        {
          "output_type": "stream",
          "name": "stdout",
          "text": [
            "/bin/sh -ec 'cc -MM -std=c++11 -DWITH_NUMA -Dtmpdebug -Wall -DVERSION=\\\"3.4.1\\\" -DSVNVERSION=\\\"4412\\\" -DWSIZE=64 SignalNames.cc \\\n",
            "| sed -e '\\''s/SignalNames\\.o[ :]*/SignalNames.d &/g'\\'' > SignalNames.d'\n",
            "/bin/sh -ec 'cc -MM -std=c++11 -DWITH_NUMA -Dtmpdebug -Wall -DVERSION=\\\"3.4.1\\\" -DSVNVERSION=\\\"4412\\\" -DWSIZE=64 runsolver.cc \\\n",
            "| sed -e '\\''s/runsolver\\.o[ :]*/runsolver.d &/g'\\'' > runsolver.d'\n",
            "g++ -std=c++11 -DWITH_NUMA -Dtmpdebug -Wall -DVERSION=\\\"3.4.1\\\" -DSVNVERSION=\\\"4412\\\" -DWSIZE=64 -O3 -g -c runsolver.cc\n",
            "g++ -std=c++11 -DWITH_NUMA -Dtmpdebug -Wall -DVERSION=\\\"3.4.1\\\" -DSVNVERSION=\\\"4412\\\" -DWSIZE=64 -O3 -g -c SignalNames.cc\n",
            "In file included from \u001b[01m\u001b[KProcessTree.hh:36\u001b[m\u001b[K,\n",
            "                 from \u001b[01m\u001b[KWatcher.hh:25\u001b[m\u001b[K,\n",
            "                 from \u001b[01m\u001b[Krunsolver.cc:90\u001b[m\u001b[K:\n",
            "\u001b[01m\u001b[KProcessData.hh:426:2:\u001b[m\u001b[K \u001b[01;35m\u001b[Kwarning: \u001b[m\u001b[K#warning \"don't waste time converting to a vector, just keep the cpu_set_t\" [\u001b[01;35m\u001b[K\u001b]8;;https://gcc.gnu.org/onlinedocs/gcc/Warning-Options.html#index-Wcpp\u0007-Wcpp\u001b]8;;\u0007\u001b[m\u001b[K]\n",
            "  426 | #\u001b[01;35m\u001b[Kwarning\u001b[m\u001b[K \"don't waste time converting to a vector, just keep the cpu_set_t\"\n",
            "      |  \u001b[01;35m\u001b[K^~~~~~~\u001b[m\u001b[K\n",
            "In file included from \u001b[01m\u001b[Krunsolver.cc:90\u001b[m\u001b[K:\n",
            "\u001b[01m\u001b[KWatcher.hh:295:2:\u001b[m\u001b[K \u001b[01;35m\u001b[Kwarning: \u001b[m\u001b[K#warning print the last history? [\u001b[01;35m\u001b[K\u001b]8;;https://gcc.gnu.org/onlinedocs/gcc/Warning-Options.html#index-Wcpp\u0007-Wcpp\u001b]8;;\u0007\u001b[m\u001b[K]\n",
            "  295 | #\u001b[01;35m\u001b[Kwarning\u001b[m\u001b[K print the last history?\n",
            "      |  \u001b[01;35m\u001b[K^~~~~~~\u001b[m\u001b[K\n",
            "\u001b[01m\u001b[KWatcher.hh:715:2:\u001b[m\u001b[K \u001b[01;35m\u001b[Kwarning: \u001b[m\u001b[K#warning do we need a mutex or volatile or something? [\u001b[01;35m\u001b[K\u001b]8;;https://gcc.gnu.org/onlinedocs/gcc/Warning-Options.html#index-Wcpp\u0007-Wcpp\u001b]8;;\u0007\u001b[m\u001b[K]\n",
            "  715 | #\u001b[01;35m\u001b[Kwarning\u001b[m\u001b[K do we need a mutex or volatile or something?\n",
            "      |  \u001b[01;35m\u001b[K^~~~~~~\u001b[m\u001b[K\n",
            "\u001b[01m\u001b[Krunsolver.cc:\u001b[m\u001b[K In member function ‘\u001b[01m\u001b[Kvoid RunSolver::run(char**)\u001b[m\u001b[K’:\n",
            "\u001b[01m\u001b[Krunsolver.cc:756:13:\u001b[m\u001b[K \u001b[01;35m\u001b[Kwarning: \u001b[m\u001b[Kignoring return value of ‘\u001b[01m\u001b[Kint pipe(int*)\u001b[m\u001b[K’ declared with attribute ‘\u001b[01m\u001b[Kwarn_unused_result\u001b[m\u001b[K’ [\u001b[01;35m\u001b[K\u001b]8;;https://gcc.gnu.org/onlinedocs/gcc/Warning-Options.html#index-Wunused-result\u0007-Wunused-result\u001b]8;;\u0007\u001b[m\u001b[K]\n",
            "  756 |         \u001b[01;35m\u001b[Kpipe(stdoutRedirFD)\u001b[m\u001b[K;\n",
            "      |         \u001b[01;35m\u001b[K~~~~^~~~~~~~~~~~~~~\u001b[m\u001b[K\n",
            "g++   -Wl,--build-id -O3 -g -o runsolver runsolver.o SignalNames.o -pthread -lnuma\n"
          ]
        }
      ],
      "source": [
        "!make -j `nproc`\n"
      ]
    },
    {
      "cell_type": "code",
      "execution_count": null,
      "metadata": {
        "colab": {
          "base_uri": "https://localhost:8080/"
        },
        "id": "z0rOBZAQPIEd",
        "outputId": "b70c8969-e7b1-4ad2-a111-473621aabf20"
      },
      "outputs": [
        {
          "output_type": "stream",
          "name": "stdout",
          "text": [
            "cp runsolver /usr/bin\n"
          ]
        }
      ],
      "source": [
        "!sudo make install"
      ]
    },
    {
      "cell_type": "code",
      "execution_count": null,
      "metadata": {
        "colab": {
          "base_uri": "https://localhost:8080/"
        },
        "id": "vC8nl7LFPIEd",
        "outputId": "776da70a-0841-49f1-c885-654a7ca5b742"
      },
      "outputs": [
        {
          "output_type": "stream",
          "name": "stdout",
          "text": [
            "Get:1 https://cloud.r-project.org/bin/linux/ubuntu jammy-cran40/ InRelease [3,626 B]\n",
            "Hit:2 https://developer.download.nvidia.com/compute/cuda/repos/ubuntu2204/x86_64  InRelease\n",
            "Get:3 http://security.ubuntu.com/ubuntu jammy-security InRelease [129 kB]\n",
            "Ign:4 https://r2u.stat.illinois.edu/ubuntu jammy InRelease\n",
            "Get:5 https://r2u.stat.illinois.edu/ubuntu jammy Release [5,713 B]\n",
            "Hit:6 http://archive.ubuntu.com/ubuntu jammy InRelease\n",
            "Get:7 https://r2u.stat.illinois.edu/ubuntu jammy Release.gpg [793 B]\n",
            "Get:8 http://archive.ubuntu.com/ubuntu jammy-updates InRelease [128 kB]\n",
            "Hit:9 https://ppa.launchpadcontent.net/deadsnakes/ppa/ubuntu jammy InRelease\n",
            "Get:10 https://ppa.launchpadcontent.net/graphics-drivers/ppa/ubuntu jammy InRelease [24.3 kB]\n",
            "Hit:11 https://ppa.launchpadcontent.net/ubuntugis/ppa/ubuntu jammy InRelease\n",
            "Hit:12 http://archive.ubuntu.com/ubuntu jammy-backports InRelease\n",
            "Get:13 https://r2u.stat.illinois.edu/ubuntu jammy/main amd64 Packages [2,593 kB]\n",
            "Get:14 https://r2u.stat.illinois.edu/ubuntu jammy/main all Packages [8,370 kB]\n",
            "Get:15 http://security.ubuntu.com/ubuntu jammy-security/universe amd64 Packages [1,159 kB]\n",
            "Get:16 http://security.ubuntu.com/ubuntu jammy-security/main amd64 Packages [2,318 kB]\n",
            "Get:17 https://ppa.launchpadcontent.net/graphics-drivers/ppa/ubuntu jammy/main amd64 Packages [54.3 kB]\n",
            "Get:18 http://archive.ubuntu.com/ubuntu jammy-updates/universe amd64 Packages [1,447 kB]\n",
            "Get:19 http://archive.ubuntu.com/ubuntu jammy-updates/main amd64 Packages [2,596 kB]\n",
            "Fetched 18.8 MB in 4s (4,616 kB/s)\n",
            "Reading package lists... Done\n",
            "W: Skipping acquire of configured file 'main/source/Sources' as repository 'https://r2u.stat.illinois.edu/ubuntu jammy InRelease' does not seem to provide it (sources.list entry misspelt?)\n",
            "Reading package lists... Done\n",
            "Building dependency tree... Done\n",
            "Reading state information... Done\n",
            "gcc is already the newest version (4:11.2.0-1ubuntu1).\n",
            "gcc set to manually installed.\n",
            "make is already the newest version (4.3-4.1build1).\n",
            "make set to manually installed.\n",
            "0 upgraded, 0 newly installed, 0 to remove and 49 not upgraded.\n"
          ]
        }
      ],
      "source": [
        "!apt-get update\n",
        "!apt-get install -y gcc make"
      ]
    },
    {
      "cell_type": "code",
      "execution_count": null,
      "metadata": {
        "colab": {
          "base_uri": "https://localhost:8080/"
        },
        "id": "XFIdH3WCPIEd",
        "outputId": "556fb3f1-085f-447e-f8c3-0506845683bd"
      },
      "outputs": [
        {
          "output_type": "stream",
          "name": "stdout",
          "text": [
            "\u001b[01m\u001b[Kgcc:\u001b[m\u001b[K \u001b[01;31m\u001b[Kfatal error: \u001b[m\u001b[Kno input files\n",
            "compilation terminated.\n"
          ]
        }
      ],
      "source": [
        "!gcc -o content/runsolver/src/runsolver.c\n"
      ]
    },
    {
      "cell_type": "code",
      "execution_count": null,
      "metadata": {
        "id": "oxufmdDXPIEe"
      },
      "outputs": [],
      "source": []
    },
    {
      "cell_type": "code",
      "execution_count": null,
      "metadata": {
        "id": "PkVmytrgPIEe"
      },
      "outputs": [],
      "source": []
    },
    {
      "cell_type": "code",
      "execution_count": null,
      "metadata": {
        "id": "PTykIN2xPIEe"
      },
      "outputs": [],
      "source": []
    },
    {
      "cell_type": "markdown",
      "metadata": {
        "id": "CRnHXr35PIEf"
      },
      "source": []
    },
    {
      "cell_type": "markdown",
      "metadata": {
        "id": "ONiLZ4TbNZiO"
      },
      "source": [
        "#Modelling Module"
      ]
    },
    {
      "cell_type": "code",
      "execution_count": null,
      "metadata": {
        "id": "EQAQil5s8RdO"
      },
      "outputs": [],
      "source": []
    },
    {
      "cell_type": "markdown",
      "metadata": {
        "id": "GlX48jGObsGQ"
      },
      "source": [
        "\n",
        "\n",
        "1.   Basic Problem Modelling\n",
        "\n",
        "2.   Operators and parsing options\n",
        "\n",
        "3.   Equivalence of Python operators, Expression classes, and textual description\n",
        "\n",
        "4.   Solving a Problem with a SAT solver\n",
        "\n",
        "5.   Encoding Pseudo Boolean Expressions\n",
        "\n"
      ]
    },
    {
      "cell_type": "code",
      "execution_count": null,
      "metadata": {
        "colab": {
          "base_uri": "https://localhost:8080/"
        },
        "id": "aKxtTbPHMpYO",
        "outputId": "dcdb5672-ecef-403c-e941-517be41b4e15"
      },
      "outputs": [
        {
          "output_type": "stream",
          "name": "stdout",
          "text": [
            "~a & b & c | z\n"
          ]
        }
      ],
      "source": [
        "from optilog.modelling import *\n",
        "\n",
        "a = Bool('a')\n",
        "b = Bool('b')\n",
        "c = Bool('c')\n",
        "z = Bool('z')\n",
        "expr1 = ~a & b & c | z\n",
        "print(expr1)"
      ]
    },
    {
      "cell_type": "code",
      "execution_count": null,
      "metadata": {
        "colab": {
          "base_uri": "https://localhost:8080/"
        },
        "id": "3Wj8AzBRcD9n",
        "outputId": "d90637c8-62df-4800-8636-22be466324cf"
      },
      "outputs": [
        {
          "output_type": "execute_result",
          "data": {
            "text/plain": [
              "c & (a | b)"
            ]
          },
          "metadata": {},
          "execution_count": 11
        }
      ],
      "source": [
        "e1 = a | b\n",
        "e2 = c & e1\n",
        "e2"
      ]
    },
    {
      "cell_type": "code",
      "execution_count": null,
      "metadata": {
        "colab": {
          "base_uri": "https://localhost:8080/"
        },
        "id": "gs7DLSVncENC",
        "outputId": "a8601c42-5551-463b-e5ed-676b447194e8"
      },
      "outputs": [
        {
          "output_type": "stream",
          "name": "stdout",
          "text": [
            "((~a & b & c) | z)\n"
          ]
        }
      ],
      "source": [
        "print(expr1.represent(parenthesis='force')) # ((~a & b & c) | z)\n"
      ]
    },
    {
      "cell_type": "code",
      "execution_count": null,
      "metadata": {
        "colab": {
          "base_uri": "https://localhost:8080/"
        },
        "id": "ugxTxmoMcJkj",
        "outputId": "d88f7690-75f0-43dd-a68c-92bf078014f8"
      },
      "outputs": [
        {
          "output_type": "execute_result",
          "data": {
            "text/plain": [
              "~a & b & c | z"
            ]
          },
          "metadata": {},
          "execution_count": 13
        }
      ],
      "source": [
        "p = Problem()\n",
        "p.add_constr(expr1)"
      ]
    },
    {
      "cell_type": "code",
      "execution_count": null,
      "metadata": {
        "colab": {
          "base_uri": "https://localhost:8080/"
        },
        "id": "PsjUtbyxN1N-",
        "outputId": "73877550-389b-4cea-f4e8-f2947631bb9b"
      },
      "outputs": [
        {
          "output_type": "execute_result",
          "data": {
            "text/plain": [
              "a | b"
            ]
          },
          "metadata": {},
          "execution_count": 14
        }
      ],
      "source": [
        "p.add_constr(a | b)\n"
      ]
    },
    {
      "cell_type": "code",
      "execution_count": null,
      "metadata": {
        "colab": {
          "base_uri": "https://localhost:8080/"
        },
        "id": "pcxis8IvoJA_",
        "outputId": "d1fb2600-6e2a-45d1-f52a-a1f194ca545c"
      },
      "outputs": [
        {
          "output_type": "stream",
          "name": "stdout",
          "text": [
            "| z | b | c | a | (~a & b & c | z) & (a | b) |\n",
            "+---+---+---+---+----------------------------+\n",
            "| 0 | 0 | 0 | 0 |             0              |\n",
            "| 0 | 0 | 0 | 1 |             0              |\n",
            "| 0 | 0 | 1 | 0 |             0              |\n",
            "| 0 | 0 | 1 | 1 |             0              |\n",
            "| 0 | 1 | 0 | 0 |             0              |\n",
            "| 0 | 1 | 0 | 1 |             0              |\n",
            "| 0 | 1 | 1 | 0 |             1              |\n",
            "| 0 | 1 | 1 | 1 |             0              |\n",
            "| 1 | 0 | 0 | 0 |             0              |\n",
            "| 1 | 0 | 0 | 1 |             1              |\n",
            "| 1 | 0 | 1 | 0 |             0              |\n",
            "| 1 | 0 | 1 | 1 |             1              |\n",
            "| 1 | 1 | 0 | 0 |             1              |\n",
            "| 1 | 1 | 0 | 1 |             1              |\n",
            "| 1 | 1 | 1 | 0 |             1              |\n",
            "| 1 | 1 | 1 | 1 |             1              |\n"
          ]
        }
      ],
      "source": [
        "t = TruthTable(p)\n",
        "t.print()"
      ]
    },
    {
      "cell_type": "code",
      "execution_count": null,
      "metadata": {
        "colab": {
          "base_uri": "https://localhost:8080/"
        },
        "id": "wAmJvzDjoJDb",
        "outputId": "402366e9-4324-4d72-c98e-9451051e23d0"
      },
      "outputs": [
        {
          "output_type": "stream",
          "name": "stdout",
          "text": [
            "| a | b | c | z | (~a & b & c | z) & (a | b) |\n",
            "+---+---+---+---+----------------------------+\n",
            "| 0 | 0 | 0 | 0 |             0              |\n",
            "| 0 | 0 | 0 | 1 |             0              |\n",
            "| 0 | 0 | 1 | 0 |             0              |\n",
            "| 0 | 0 | 1 | 1 |             0              |\n",
            "| 0 | 1 | 0 | 0 |             0              |\n",
            "| 0 | 1 | 0 | 1 |             1              |\n",
            "| 0 | 1 | 1 | 0 |             1              |\n",
            "| 0 | 1 | 1 | 1 |             1              |\n",
            "| 1 | 0 | 0 | 0 |             0              |\n",
            "| 1 | 0 | 0 | 1 |             1              |\n",
            "| 1 | 0 | 1 | 0 |             0              |\n",
            "| 1 | 0 | 1 | 1 |             1              |\n",
            "| 1 | 1 | 0 | 0 |             0              |\n",
            "| 1 | 1 | 0 | 1 |             1              |\n",
            "| 1 | 1 | 1 | 0 |             0              |\n",
            "| 1 | 1 | 1 | 1 |             1              |\n"
          ]
        }
      ],
      "source": [
        "t.print(variable_order=[a,b,c,z])\n"
      ]
    },
    {
      "cell_type": "code",
      "execution_count": null,
      "metadata": {
        "colab": {
          "base_uri": "https://localhost:8080/"
        },
        "id": "XtDxOLSZN9E1",
        "outputId": "22057d8b-ca8e-4ccb-f8c6-bef4ea59e75e"
      },
      "outputs": [
        {
          "output_type": "stream",
          "name": "stdout",
          "text": [
            "False\n"
          ]
        }
      ],
      "source": [
        "res = p.evaluate({\n",
        "    'a': True,\n",
        "    'b': False,\n",
        "    'c': False,\n",
        "    'z': False\n",
        "})\n",
        "print(res) # False"
      ]
    },
    {
      "cell_type": "code",
      "execution_count": null,
      "metadata": {
        "id": "3EjxCN8VsO8i"
      },
      "outputs": [],
      "source": [
        "expr = ~a & b & c | z\n",
        "expr = And(~a,b,c) | z\n",
        "expr = Or(And(~a,b,c),z)\n",
        "expr = Or(And(Not(a),b,c),z)"
      ]
    },
    {
      "cell_type": "code",
      "execution_count": null,
      "metadata": {
        "id": "e9gxf8sDsPCn"
      },
      "outputs": [],
      "source": [
        "expr = If(a, b) # a -> b\n",
        "expr = Iff(a, b) # a <-> b"
      ]
    },
    {
      "cell_type": "code",
      "execution_count": null,
      "metadata": {
        "colab": {
          "base_uri": "https://localhost:8080/"
        },
        "id": "XQREe4grsPHA",
        "outputId": "cb47fe4e-8a8a-48a5-b295-d0e2b0ce0f90"
      },
      "outputs": [
        {
          "output_type": "stream",
          "name": "stdout",
          "text": [
            "a -> b & c | d\n",
            "(a -> ((b & c) | d))\n"
          ]
        }
      ],
      "source": [
        "expr = Bool.parse('a -> b & c | d')\n",
        "print(expr) # a -> b & c | d\n",
        "print(expr.represent(parenthesis='force')) # (a -> ((b & c) | d))"
      ]
    },
    {
      "cell_type": "code",
      "execution_count": null,
      "metadata": {
        "colab": {
          "base_uri": "https://localhost:8080/"
        },
        "id": "juBO_k2YsWj4",
        "outputId": "b0575553-d52c-46a8-be6e-a23a3b3661e6"
      },
      "outputs": [
        {
          "output_type": "stream",
          "name": "stdout",
          "text": [
            "a -> ((b & c) | d)\n",
            "a -> b & c | d\n"
          ]
        }
      ],
      "source": [
        "expr = Bool.parse('a -> ((b & c) | d)')\n",
        "print(expr) # a -> ((b & c) | d)\n",
        "print(expr.represent(parenthesis='simplify')) # a -> b & c | d\n"
      ]
    },
    {
      "cell_type": "code",
      "execution_count": null,
      "metadata": {
        "id": "GSTyYe53sfD4"
      },
      "outputs": [],
      "source": [
        "p = Problem()\n",
        "p.add_constr(~a & b & c | z)\n",
        "p.add_constr(a | b)\n",
        "cnf = p.to_cnf_dimacs()"
      ]
    },
    {
      "cell_type": "code",
      "execution_count": null,
      "metadata": {
        "colab": {
          "base_uri": "https://localhost:8080/"
        },
        "id": "FVvhhxRBsfHA",
        "outputId": "7e988286-95a3-4ab4-f9fb-803107b2b9d6"
      },
      "outputs": [
        {
          "output_type": "stream",
          "name": "stdout",
          "text": [
            "Interpretation: [~z, b, c, ~a]\n"
          ]
        }
      ],
      "source": [
        "from optilog.solvers.sat import Glucose41\n",
        "s = Glucose41()\n",
        "s.add_clauses(cnf.clauses)\n",
        "s.solve()\n",
        "interpretation = cnf.decode_dimacs(s.model())\n",
        "print('Interpretation:', interpretation) # [~z, b, c, ~a]"
      ]
    },
    {
      "cell_type": "code",
      "execution_count": null,
      "metadata": {
        "colab": {
          "base_uri": "https://localhost:8080/"
        },
        "id": "f-r7N6GKsfJ1",
        "outputId": "f1d02a96-dd86-4fc6-ea56-51c95ba2725d"
      },
      "outputs": [
        {
          "output_type": "stream",
          "name": "stdout",
          "text": [
            "| a | b | c | cardinality |\n",
            "+---+---+---+-------------+\n",
            "| 0 | 0 | 0 |      1      |\n",
            "| 0 | 0 | 1 |      1      |\n",
            "| 0 | 1 | 0 |      1      |\n",
            "| 0 | 1 | 1 |      0      |\n",
            "| 1 | 0 | 0 |      1      |\n",
            "| 1 | 0 | 1 |      0      |\n",
            "| 1 | 1 | 0 |      0      |\n",
            "| 1 | 1 | 1 |      0      |\n"
          ]
        }
      ],
      "source": [
        "a = Bool('a')\n",
        "b = Bool('b')\n",
        "c = Bool('c')\n",
        "p = Problem(a + b + c < 2, name='cardinality')\n",
        "t = TruthTable(p)\n",
        "t.print()"
      ]
    },
    {
      "cell_type": "code",
      "execution_count": null,
      "metadata": {
        "colab": {
          "base_uri": "https://localhost:8080/"
        },
        "id": "8O3IzfgDsoyD",
        "outputId": "1e8afb7d-f112-40bc-dc70-eb9193a41985"
      },
      "outputs": [
        {
          "output_type": "stream",
          "name": "stdout",
          "text": [
            "| a | c | b | a + b * 2 + c <= ~b + 3 |\n",
            "+---+---+---+-------------------------+\n",
            "| 0 | 0 | 0 |            1            |\n",
            "| 0 | 0 | 1 |            1            |\n",
            "| 0 | 1 | 0 |            1            |\n",
            "| 0 | 1 | 1 |            1            |\n",
            "| 1 | 0 | 0 |            1            |\n",
            "| 1 | 0 | 1 |            1            |\n",
            "| 1 | 1 | 0 |            1            |\n",
            "| 1 | 1 | 1 |            0            |\n"
          ]
        }
      ],
      "source": [
        "p = Problem(a + b * 2 + c <= ~b + 3)\n",
        "t = TruthTable(p)\n",
        "t.print()"
      ]
    },
    {
      "cell_type": "code",
      "execution_count": null,
      "metadata": {
        "colab": {
          "base_uri": "https://localhost:8080/"
        },
        "id": "OdmA5lYwsrwo",
        "outputId": "ce93fa6b-0305-41df-c9ae-880fdf42e4a7"
      },
      "outputs": [
        {
          "output_type": "execute_result",
          "data": {
            "text/plain": [
              "p cnf 6 4\n",
              "4 0\n",
              "-1 -2 -5 0\n",
              "5 -3 -6 0\n",
              "6 0"
            ]
          },
          "metadata": {},
          "execution_count": 26
        }
      ],
      "source": [
        "from optilog.modelling import *\n",
        "problem = Problem(a + b * 2 + c <= ~ b + 3)\n",
        "problem.to_cnf_dimacs()"
      ]
    },
    {
      "cell_type": "code",
      "execution_count": null,
      "metadata": {
        "colab": {
          "base_uri": "https://localhost:8080/"
        },
        "id": "gukTimE8OHtr",
        "outputId": "e9c8b941-a4d9-44a6-d3b5-4d8c8fc72373"
      },
      "outputs": [
        {
          "output_type": "stream",
          "name": "stdout",
          "text": [
            "| a | c | b | a + b * 2 + c <= ~b + 3 |\n",
            "+---+---+---+-------------------------+\n",
            "| 0 | 0 | 0 |            1            |\n",
            "| 0 | 0 | 1 |            1            |\n",
            "| 0 | 1 | 0 |            1            |\n",
            "| 0 | 1 | 1 |            1            |\n",
            "| 1 | 0 | 0 |            1            |\n",
            "| 1 | 0 | 1 |            1            |\n",
            "| 1 | 1 | 0 |            1            |\n",
            "| 1 | 1 | 1 |            0            |\n"
          ]
        }
      ],
      "source": [
        "p = Problem(a + b * 2 + c <= ~b + 3)\n",
        "t = TruthTable(p)\n",
        "t.print()"
      ]
    },
    {
      "cell_type": "code",
      "execution_count": null,
      "metadata": {
        "id": "OPQrmZo2O6Kq"
      },
      "outputs": [],
      "source": []
    },
    {
      "cell_type": "code",
      "execution_count": null,
      "metadata": {
        "id": "Z-Ukycb4s7Zq"
      },
      "outputs": [],
      "source": []
    },
    {
      "cell_type": "markdown",
      "metadata": {
        "id": "2SV2--2Mvp9S"
      },
      "source": [
        "#Formulas module"
      ]
    },
    {
      "cell_type": "code",
      "execution_count": null,
      "metadata": {
        "colab": {
          "base_uri": "https://localhost:8080/"
        },
        "id": "2d8VC3JUvwxl",
        "outputId": "b54ddec1-7078-4fd7-b351-c4bfbf61fa66"
      },
      "outputs": [
        {
          "output_type": "execute_result",
          "data": {
            "text/plain": [
              "[[4, 2, 5], [4, 2], [4]]"
            ]
          },
          "metadata": {},
          "execution_count": 28
        }
      ],
      "source": [
        "from optilog.formulas import CNF\n",
        "c = CNF()\n",
        "c.add_clause([4,2,5])\n",
        "c.add_clause([4,2])\n",
        "c.add_clause([4])\n",
        "c.clauses"
      ]
    },
    {
      "cell_type": "code",
      "execution_count": null,
      "metadata": {
        "colab": {
          "base_uri": "https://localhost:8080/"
        },
        "id": "-gn973_IxjYD",
        "outputId": "7978ae6b-e076-4d4e-b648-4a02b0f58a4f"
      },
      "outputs": [
        {
          "output_type": "execute_result",
          "data": {
            "text/plain": [
              "[[1, 3, -4], [3, 1], [1]]"
            ]
          },
          "metadata": {},
          "execution_count": 29
        }
      ],
      "source": [
        "c.shuffle(vars = True, clauses = False)\n",
        "c.clauses"
      ]
    },
    {
      "cell_type": "code",
      "execution_count": null,
      "metadata": {
        "colab": {
          "base_uri": "https://localhost:8080/"
        },
        "id": "-G4y5_Yqxt1C",
        "outputId": "674ad55e-2f08-4650-e475-b5cffe7620da"
      },
      "outputs": [
        {
          "output_type": "execute_result",
          "data": {
            "text/plain": [
              "[[3, 1], [1, 3, -4], [1]]"
            ]
          },
          "metadata": {},
          "execution_count": 30
        }
      ],
      "source": [
        "c.shuffle(vars = False, clauses = True)\n",
        "c.clauses"
      ]
    },
    {
      "cell_type": "code",
      "execution_count": null,
      "metadata": {
        "colab": {
          "base_uri": "https://localhost:8080/"
        },
        "id": "fhktfdmex8rc",
        "outputId": "ff4d6efc-8ef1-4db6-97e6-a7319a3fb0b0"
      },
      "outputs": [
        {
          "output_type": "execute_result",
          "data": {
            "text/plain": [
              "{'n_vars': 5,\n",
              " 'max_var': 10,\n",
              " 'n_clauses': 2,\n",
              " 'clauses_by_size': [(3, 2)],\n",
              " 'frequency': [(1, 1, 0), (2, 1, 0), (3, 2, 0), (8, 1, 0), (10, 1, 0)],\n",
              " 'n_lits': 6}"
            ]
          },
          "metadata": {},
          "execution_count": 31
        }
      ],
      "source": [
        "from optilog.formulas import CNF\n",
        "c = CNF()\n",
        "c.add_clause([2,3,8])\n",
        "c.add_clause([10,3,1])\n",
        "c.statistics()"
      ]
    },
    {
      "cell_type": "code",
      "execution_count": null,
      "metadata": {
        "colab": {
          "base_uri": "https://localhost:8080/"
        },
        "id": "Q5oK47X4z6Ls",
        "outputId": "93fcbe12-bc11-45c3-aca3-5564f58ecb6c"
      },
      "outputs": [
        {
          "output_type": "execute_result",
          "data": {
            "text/plain": [
              "['a simple test formula']"
            ]
          },
          "metadata": {},
          "execution_count": 32
        }
      ],
      "source": [
        "c.extend_vars(2)\n",
        "c.add_comment('a simple test formula')\n",
        "c.header()"
      ]
    },
    {
      "cell_type": "code",
      "execution_count": null,
      "metadata": {
        "colab": {
          "base_uri": "https://localhost:8080/"
        },
        "id": "B4s9bA3q0hnX",
        "outputId": "9e1b69f7-95d2-4bd1-cfd6-b07b0c5e05bc"
      },
      "outputs": [
        {
          "output_type": "execute_result",
          "data": {
            "text/plain": [
              "[[2, 3, 8], [10, 3, 1]]"
            ]
          },
          "metadata": {},
          "execution_count": 33
        }
      ],
      "source": [
        "cnf2 = c.copy()\n",
        "cnf2.clauses"
      ]
    },
    {
      "cell_type": "code",
      "execution_count": null,
      "metadata": {
        "colab": {
          "base_uri": "https://localhost:8080/"
        },
        "id": "p73385pK0x9M",
        "outputId": "59c8ec56-70ca-4909-c85b-510db545f939"
      },
      "outputs": [
        {
          "output_type": "execute_result",
          "data": {
            "text/plain": [
              "False"
            ]
          },
          "metadata": {},
          "execution_count": 34
        }
      ],
      "source": [
        "from optilog.formulas import WCNF\n",
        "c = WCNF()\n",
        "c.add_clauses([[1,2,3],[-1,-2],[-1,-3],[-2,-3]])\n",
        "c.add_clauses([[-1],[-2]], weight = 1)\n",
        "c.feasible([-1,2,3])"
      ]
    },
    {
      "cell_type": "code",
      "execution_count": null,
      "metadata": {
        "colab": {
          "base_uri": "https://localhost:8080/"
        },
        "id": "F_ttSztR1jcS",
        "outputId": "5b643532-134b-4397-f76c-2cfb51f53967"
      },
      "outputs": [
        {
          "output_type": "execute_result",
          "data": {
            "text/plain": [
              "True"
            ]
          },
          "metadata": {},
          "execution_count": 35
        }
      ],
      "source": [
        "c.feasible([-1,-2,3])"
      ]
    },
    {
      "cell_type": "code",
      "execution_count": null,
      "metadata": {
        "id": "cGGY01771pxf"
      },
      "outputs": [],
      "source": [
        "c = WCNF()\n",
        "c.add_clauses([[1,2,3], [-1,-2]])\n",
        "c.add_clauses([[-1]], weight=1)\n",
        "c.feasible([3])"
      ]
    },
    {
      "cell_type": "code",
      "execution_count": null,
      "metadata": {
        "colab": {
          "base_uri": "https://localhost:8080/"
        },
        "id": "L2dy8eNI178X",
        "outputId": "372ae582-3797-41f3-d104-9e66d089a037"
      },
      "outputs": [
        {
          "output_type": "stream",
          "name": "stdout",
          "text": [
            "p wcnf 3 5 4\n",
            "4 1 2 0\n",
            "4 2 3 0\n",
            "1 -1 0\n",
            "1 -2 0\n",
            "1 -3 0\n"
          ]
        }
      ],
      "source": [
        "wcnf = WCNF()\n",
        "wcnf.add_clauses([[-1],[-2],[-3]], 1)\n",
        "wcnf.add_clauses([[1,2],[2,3]])\n",
        "print(wcnf)"
      ]
    },
    {
      "cell_type": "code",
      "execution_count": null,
      "metadata": {
        "colab": {
          "base_uri": "https://localhost:8080/"
        },
        "id": "EVkig1xDE7Q_",
        "outputId": "e78dfea9-2798-4440-eb75-c9209088942c"
      },
      "outputs": [
        {
          "output_type": "execute_result",
          "data": {
            "text/plain": [
              "[[4, 2, 5], [4, 5]]"
            ]
          },
          "metadata": {},
          "execution_count": 38
        }
      ],
      "source": [
        "w = WCNF()\n",
        "w.add_clause([4,2,5])\n",
        "w.add_clause([4,5])\n",
        "w.add_clause([4,-2,3], weight=3)\n",
        "w.add_clause([4,-2,5], weight=5)\n",
        "w.hard_clauses"
      ]
    },
    {
      "cell_type": "code",
      "execution_count": null,
      "metadata": {
        "colab": {
          "base_uri": "https://localhost:8080/"
        },
        "id": "OuZtrsKBE9Ws",
        "outputId": "8e91f11b-9344-43ad-eb98-babfc1dde2d8"
      },
      "outputs": [
        {
          "output_type": "execute_result",
          "data": {
            "text/plain": [
              "[(3, [4, -2, 3]), (5, [4, -2, 5])]"
            ]
          },
          "metadata": {},
          "execution_count": 39
        }
      ],
      "source": [
        "w.soft_clauses\n"
      ]
    },
    {
      "cell_type": "code",
      "execution_count": null,
      "metadata": {
        "colab": {
          "base_uri": "https://localhost:8080/"
        },
        "id": "v7jvSGTGFAC3",
        "outputId": "8c706624-f598-48f3-be93-56bf65eed2c8"
      },
      "outputs": [
        {
          "output_type": "execute_result",
          "data": {
            "text/plain": [
              "[[4, -3], [4, -5, -3]]"
            ]
          },
          "metadata": {},
          "execution_count": 40
        }
      ],
      "source": [
        "w.shuffle()\n",
        "w.hard_clauses\n"
      ]
    },
    {
      "cell_type": "code",
      "execution_count": null,
      "metadata": {
        "colab": {
          "base_uri": "https://localhost:8080/"
        },
        "id": "oZkNJ_W4FJ4n",
        "outputId": "8768f796-23cc-4dd3-fae9-010464af9bdd"
      },
      "outputs": [
        {
          "output_type": "execute_result",
          "data": {
            "text/plain": [
              "2"
            ]
          },
          "metadata": {},
          "execution_count": 41
        }
      ],
      "source": [
        "from optilog.formulas import WCNF\n",
        "wcnf = WCNF()\n",
        "wcnf.extend_vars(2)\n",
        "wcnf.max_var()"
      ]
    },
    {
      "cell_type": "code",
      "execution_count": null,
      "metadata": {
        "colab": {
          "base_uri": "https://localhost:8080/"
        },
        "id": "qxBJLNUIRxKp",
        "outputId": "1421410c-b8bc-431a-db20-19bbfb3fe45a"
      },
      "outputs": [
        {
          "output_type": "execute_result",
          "data": {
            "text/plain": [
              "['a simple WCNF test formula']"
            ]
          },
          "metadata": {},
          "execution_count": 42
        }
      ],
      "source": [
        "wcnf.add_comment('a simple WCNF test formula')\n",
        "wcnf.header()"
      ]
    },
    {
      "cell_type": "code",
      "execution_count": null,
      "metadata": {
        "colab": {
          "base_uri": "https://localhost:8080/"
        },
        "id": "XnHMqSFkpiMl",
        "outputId": "742dfa22-7cca-4196-9869-3a4519172be2"
      },
      "outputs": [
        {
          "output_type": "execute_result",
          "data": {
            "text/plain": [
              "2"
            ]
          },
          "metadata": {},
          "execution_count": 43
        }
      ],
      "source": [
        "from optilog.formulas import QCNF\n",
        "qcnf = QCNF()\n",
        "qcnf.extend_vars(2)\n",
        "qcnf.max_var()"
      ]
    },
    {
      "cell_type": "code",
      "execution_count": null,
      "metadata": {
        "colab": {
          "base_uri": "https://localhost:8080/"
        },
        "id": "8KiajumEFlU6",
        "outputId": "e1ec672e-3e48-4615-e7c4-3b141b4235f3"
      },
      "outputs": [
        {
          "output_type": "execute_result",
          "data": {
            "text/plain": [
              "4"
            ]
          },
          "metadata": {},
          "execution_count": 44
        }
      ],
      "source": [
        "qcnf.add_clauses([[1,2,3],[-1,-2],[-1,-3],[-2,-3]])\n",
        "qcnf.num_clauses()"
      ]
    },
    {
      "cell_type": "code",
      "execution_count": null,
      "metadata": {
        "colab": {
          "base_uri": "https://localhost:8080/"
        },
        "id": "IzuKoCd1FlgC",
        "outputId": "9e3da8e0-c5ee-406a-dd0c-f516b907217a"
      },
      "outputs": [
        {
          "output_type": "execute_result",
          "data": {
            "text/plain": [
              "['a simple QCNF formula']"
            ]
          },
          "metadata": {},
          "execution_count": 45
        }
      ],
      "source": [
        "qcnf.add_comment('a simple QCNF formula')\n",
        "qcnf.header()"
      ]
    },
    {
      "cell_type": "code",
      "execution_count": null,
      "metadata": {
        "colab": {
          "base_uri": "https://localhost:8080/"
        },
        "id": "qSWPJDOvFlpa",
        "outputId": "40c996c8-7303-4c8c-c41d-b4910f6f67dd"
      },
      "outputs": [
        {
          "output_type": "execute_result",
          "data": {
            "text/plain": [
              "4"
            ]
          },
          "metadata": {},
          "execution_count": 46
        }
      ],
      "source": [
        "qcnf2 = QCNF()\n",
        "qcnf2.clauses\n",
        "levels = [('a', [1, 2]), ('e', [3]), ('a', [4]), ('e', [5])]\n",
        "for quantifier, variables in levels:\n",
        "     qcnf2.append_quant_set(quantifier, variables)\n",
        "qcnf2.num_quant_levels()"
      ]
    },
    {
      "cell_type": "code",
      "execution_count": null,
      "metadata": {
        "colab": {
          "base_uri": "https://localhost:8080/"
        },
        "id": "IW9qtzLCppju",
        "outputId": "ab7b5d5d-88f7-4c82-df31-e099c75f13fa"
      },
      "outputs": [
        {
          "output_type": "execute_result",
          "data": {
            "text/plain": [
              "1"
            ]
          },
          "metadata": {},
          "execution_count": 47
        }
      ],
      "source": [
        "from optilog.formulas import VarManager, CNF\n",
        "v = VarManager()\n",
        "c1 = CNF(var_manager=v)\n",
        "c2 = CNF(var_manager=v)\n",
        "c1.new_var()"
      ]
    },
    {
      "cell_type": "code",
      "execution_count": null,
      "metadata": {
        "id": "-GyEXG8xHST6"
      },
      "outputs": [],
      "source": [
        "from optilog.modelling import *\n",
        "\n",
        "cnf_content = \"\"\"p cnf 3 2\n",
        "1 -3 0\n",
        "2 3 -1 0\n",
        "\"\"\"\n",
        "\n",
        "with open('example1.cnf', 'w') as cnf_file:\n",
        "    cnf_file.write(cnf_content)"
      ]
    },
    {
      "cell_type": "code",
      "execution_count": null,
      "metadata": {
        "id": "fl2KJ9kx455a"
      },
      "outputs": [],
      "source": [
        "from optilog.formulas.loaders import load_cnf\n",
        "cnf = load_cnf('example1.cnf')"
      ]
    },
    {
      "cell_type": "markdown",
      "metadata": {
        "id": "ZbllJi_45CoK"
      },
      "source": [
        "#Encoders Module\n"
      ]
    },
    {
      "cell_type": "code",
      "execution_count": null,
      "metadata": {
        "colab": {
          "base_uri": "https://localhost:8080/"
        },
        "id": "SfqghX3G5IH7",
        "outputId": "c95ee0c9-9442-4dff-83a8-3ed38ef90705"
      },
      "outputs": [
        {
          "output_type": "execute_result",
          "data": {
            "text/plain": [
              "['best', 'bdd', 'seqcounter', 'sortnetwork', 'adder', 'binarymerge']"
            ]
          },
          "metadata": {},
          "execution_count": 50
        }
      ],
      "source": [
        "from optilog.encoders.pb import Encoder\n",
        "Encoder.pb_encodings()"
      ]
    },
    {
      "cell_type": "code",
      "execution_count": null,
      "metadata": {
        "colab": {
          "base_uri": "https://localhost:8080/"
        },
        "id": "0TFnLC9I5LRx",
        "outputId": "2ed88212-79ba-4a8c-dd5b-fc554e7eec7b"
      },
      "outputs": [
        {
          "output_type": "execute_result",
          "data": {
            "text/plain": [
              "['best',\n",
              " 'pairwise',\n",
              " 'seqcounter',\n",
              " 'sortnetwrk',\n",
              " 'cardnetwrk',\n",
              " 'bitwise',\n",
              " 'ladder',\n",
              " 'totalizer',\n",
              " 'mtotalizer',\n",
              " 'kmtotalizer']"
            ]
          },
          "metadata": {},
          "execution_count": 51
        }
      ],
      "source": [
        "from optilog.encoders.pb import Encoder\n",
        "Encoder.card_encodings()"
      ]
    },
    {
      "cell_type": "code",
      "execution_count": null,
      "metadata": {
        "colab": {
          "base_uri": "https://localhost:8080/"
        },
        "id": "EIjgFnCV5QOS",
        "outputId": "1a15a14f-31db-4693-b8d8-99d0d5e2cb4b"
      },
      "outputs": [
        {
          "output_type": "execute_result",
          "data": {
            "text/plain": [
              "['best', 'seqcounter', 'adder']"
            ]
          },
          "metadata": {},
          "execution_count": 52
        }
      ],
      "source": [
        "from optilog.encoders.pb import Encoder\n",
        "Encoder.get_incremental_pb_encodings()"
      ]
    },
    {
      "cell_type": "code",
      "execution_count": null,
      "metadata": {
        "colab": {
          "base_uri": "https://localhost:8080/"
        },
        "id": "T-EdL_ag5TFD",
        "outputId": "553e8185-ffcd-4345-df22-238a5392010c"
      },
      "outputs": [
        {
          "output_type": "execute_result",
          "data": {
            "text/plain": [
              "(5, [[-1, 4], [-4, 5], [-2, -4], [-2, 5], [-3, -5]])"
            ]
          },
          "metadata": {},
          "execution_count": 53
        }
      ],
      "source": [
        "from optilog.encoders.pb import Encoder\n",
        "Encoder.at_most_one(literals=[1,2,3], weights=[1,2,1])\n",
        "Encoder.at_most_one(literals=[1,2,3])"
      ]
    },
    {
      "cell_type": "code",
      "execution_count": null,
      "metadata": {
        "colab": {
          "base_uri": "https://localhost:8080/"
        },
        "id": "f2CNztJ25X72",
        "outputId": "95dca266-0048-46a8-fb58-3a35b5da0f85"
      },
      "outputs": [
        {
          "output_type": "execute_result",
          "data": {
            "text/plain": [
              "(3, [[1, 2, 3], [-1, -2, -3]])"
            ]
          },
          "metadata": {},
          "execution_count": 54
        }
      ],
      "source": [
        "from optilog.encoders.pb import Encoder\n",
        "Encoder.range_k1_k2([1,2,3], 3, 2, weights=[2,1,1])\n",
        "Encoder.range_k1_k2([1,2,3], 2, 1)"
      ]
    },
    {
      "cell_type": "code",
      "execution_count": null,
      "metadata": {
        "colab": {
          "base_uri": "https://localhost:8080/"
        },
        "id": "bmQPdw4K5j3H",
        "outputId": "35071861-c79f-422e-c062-aaacc3be78b3"
      },
      "outputs": [
        {
          "output_type": "execute_result",
          "data": {
            "text/plain": [
              "(6,\n",
              " [[-3, 4],\n",
              "  [-2, 4],\n",
              "  [-3, -2, 5],\n",
              "  [-1, 4],\n",
              "  [-3, -1, 5],\n",
              "  [-2, -1, 5],\n",
              "  [-3, -2, -1, 6]])"
            ]
          },
          "metadata": {},
          "execution_count": 55
        }
      ],
      "source": [
        "from optilog.encoders.pb import IncrementalEncoder\n",
        "enc = IncrementalEncoder([1,2,3], 3)\n",
        "enc.get_init_clauses()"
      ]
    },
    {
      "cell_type": "code",
      "execution_count": null,
      "metadata": {
        "colab": {
          "base_uri": "https://localhost:8080/"
        },
        "id": "nDYy656E-R-c",
        "outputId": "b85b8ceb-6221-42af-e9ac-25397f760f4f"
      },
      "outputs": [
        {
          "output_type": "execute_result",
          "data": {
            "text/plain": [
              "['best',\n",
              " 'nested',\n",
              " 'bdd',\n",
              " 'bimander',\n",
              " 'commander',\n",
              " 'kproduct',\n",
              " 'binary',\n",
              " 'pairwise',\n",
              " 'totalizer']"
            ]
          },
          "metadata": {},
          "execution_count": 56
        }
      ],
      "source": [
        "from optilog.encoders.pb import IncrementalEncoder\n",
        "IncrementalEncoder.get_amo_encodings()"
      ]
    },
    {
      "cell_type": "code",
      "execution_count": null,
      "metadata": {
        "colab": {
          "base_uri": "https://localhost:8080/"
        },
        "id": "nWjYQr2U-Vxr",
        "outputId": "b35f953c-96d3-4122-f0ef-035c33e5389f"
      },
      "outputs": [
        {
          "output_type": "execute_result",
          "data": {
            "text/plain": [
              "['best', 'bdd', 'card', 'totalizer']"
            ]
          },
          "metadata": {},
          "execution_count": 57
        }
      ],
      "source": [
        "from optilog.encoders.pb import IncrementalEncoder\n",
        "IncrementalEncoder.card_encodings()\n"
      ]
    },
    {
      "cell_type": "markdown",
      "metadata": {
        "id": "4WopySbs--vV"
      },
      "source": []
    },
    {
      "cell_type": "markdown",
      "metadata": {
        "id": "td6EJYi9_EZe"
      },
      "source": [
        "#SAT slover"
      ]
    },
    {
      "cell_type": "code",
      "execution_count": null,
      "metadata": {
        "colab": {
          "base_uri": "https://localhost:8080/"
        },
        "id": "N9GoHY_Z_J9z",
        "outputId": "4aba11dd-721e-47c3-dbca-dfb014deeedd"
      },
      "outputs": [
        {
          "output_type": "execute_result",
          "data": {
            "text/plain": [
              "1.0"
            ]
          },
          "metadata": {},
          "execution_count": 60
        }
      ],
      "source": [
        "from optilog.solvers.sat import Glucose41\n",
        "solver = Glucose41(seed=1.0)\n",
        "solver.get('seed')"
      ]
    },
    {
      "cell_type": "code",
      "execution_count": null,
      "metadata": {
        "colab": {
          "base_uri": "https://localhost:8080/"
        },
        "id": "o3CSKwV0_QDE",
        "outputId": "3a44f6b7-a922-4b29-b515-b390c44f0296"
      },
      "outputs": [
        {
          "output_type": "execute_result",
          "data": {
            "text/plain": [
              "4"
            ]
          },
          "metadata": {},
          "execution_count": 61
        }
      ],
      "source": [
        "from optilog.solvers.sat import Glucose41\n",
        "solver = Glucose41()\n",
        "solver.add_clauses([[1,2,3],[-1,-2],[-1,-3],[-2,-3]])\n",
        "solver.new_var()"
      ]
    },
    {
      "cell_type": "code",
      "execution_count": null,
      "metadata": {
        "id": "Hz4mWA6uCBaI"
      },
      "outputs": [],
      "source": [
        "from optilog.solvers.sat import Glucose41\n",
        "solver = Glucose41()\n",
        "solver.set_prop_budget(5000)"
      ]
    },
    {
      "cell_type": "code",
      "execution_count": null,
      "metadata": {
        "id": "AIEJo1y5M6Pa"
      },
      "outputs": [],
      "source": [
        "from optilog.solvers.sat import Glucose41\n",
        "solver = Glucose41()\n",
        "solver.add_clauses([[1,2,3],[-1,-2],[-1,-3],[-2,-3]])\n",
        "solver.get_polarity(1)"
      ]
    },
    {
      "cell_type": "code",
      "execution_count": null,
      "metadata": {
        "colab": {
          "base_uri": "https://localhost:8080/"
        },
        "id": "Uo8OIhDvCEoC",
        "outputId": "0ebca30f-84ad-4113-c97f-e255a6c77145"
      },
      "outputs": [
        {
          "output_type": "execute_result",
          "data": {
            "text/plain": [
              "True"
            ]
          },
          "metadata": {},
          "execution_count": 64
        }
      ],
      "source": [
        "from optilog.solvers.sat import Glucose41\n",
        "solver = Glucose41()\n",
        "solver.add_clauses([[1,2,3],[-1,-2],[-1,-3],[-2,-3]])\n",
        "solver.solve([-2])"
      ]
    },
    {
      "cell_type": "code",
      "execution_count": null,
      "metadata": {
        "id": "5De7vkafLn5K"
      },
      "outputs": [],
      "source": [
        "solver.add_clause([4, 5])\n",
        "solver.set_decision_var(4, False)\n",
        "solver.set_decision_var(5, False)\n",
        "solver.solve()"
      ]
    },
    {
      "cell_type": "code",
      "execution_count": null,
      "metadata": {
        "colab": {
          "base_uri": "https://localhost:8080/"
        },
        "id": "YwNSWu9LLrZP",
        "outputId": "dddd0676-3ac1-40e4-992a-2a3d6194d1ce"
      },
      "outputs": [
        {
          "output_type": "execute_result",
          "data": {
            "text/plain": [
              "[-1, 2, -3]"
            ]
          },
          "metadata": {},
          "execution_count": 66
        }
      ],
      "source": [
        "from optilog.solvers.sat import Glucose41\n",
        "solver = Glucose41()\n",
        "solver.add_clauses([[1,2,3],[-1,-2],[-1,-3],[-2,-3]])\n",
        "solver.solve([-1])\n",
        "solver.model()"
      ]
    },
    {
      "cell_type": "code",
      "execution_count": null,
      "metadata": {
        "id": "Uc_QTLHcLwmA"
      },
      "outputs": [],
      "source": [
        "from optilog.solvers.sat import Glucose41\n",
        "solver = Glucose41()\n",
        "solver.add_clauses([[1,2,3],[-1,-2],[-1,-3],[-2,-3]])\n",
        "solver.get_polarity(1)"
      ]
    },
    {
      "cell_type": "code",
      "execution_count": null,
      "metadata": {
        "colab": {
          "base_uri": "https://localhost:8080/"
        },
        "id": "CoOFKMkRLziC",
        "outputId": "1a0b1424-7a54-4c3e-ebea-f5b73bb467dc"
      },
      "outputs": [
        {
          "output_type": "stream",
          "name": "stdout",
          "text": [
            "None\n"
          ]
        }
      ],
      "source": [
        "from optilog.solvers.sat import Glucose41\n",
        "solver = Glucose41()\n",
        "solver.add_clauses([[1,2,3],[-1,-2],[-1,-3],[-2,-3]])\n",
        "v = solver.value(1)\n",
        "print(v)"
      ]
    },
    {
      "cell_type": "code",
      "execution_count": null,
      "metadata": {
        "colab": {
          "base_uri": "https://localhost:8080/"
        },
        "id": "tEGINL9kL2bS",
        "outputId": "19421c69-64c1-45e2-e8e4-b40ffcb1cb46"
      },
      "outputs": [
        {
          "output_type": "execute_result",
          "data": {
            "text/plain": [
              "True"
            ]
          },
          "metadata": {},
          "execution_count": 69
        }
      ],
      "source": [
        "solver.solve()\n"
      ]
    },
    {
      "cell_type": "code",
      "execution_count": null,
      "metadata": {
        "colab": {
          "base_uri": "https://localhost:8080/"
        },
        "id": "mxGzT1OfL3LK",
        "outputId": "765e1747-8a0a-4979-f7ad-92b859314fcc"
      },
      "outputs": [
        {
          "output_type": "execute_result",
          "data": {
            "text/plain": [
              "[-1, 2, -3]"
            ]
          },
          "metadata": {},
          "execution_count": 70
        }
      ],
      "source": [
        "solver.model()\n"
      ]
    },
    {
      "cell_type": "code",
      "execution_count": null,
      "metadata": {
        "colab": {
          "base_uri": "https://localhost:8080/"
        },
        "id": "AwCB1jjLL5IS",
        "outputId": "f9898b01-c9fa-4122-b9a5-e875487cd3b5"
      },
      "outputs": [
        {
          "output_type": "execute_result",
          "data": {
            "text/plain": [
              "(False, True, False)"
            ]
          },
          "metadata": {},
          "execution_count": 71
        }
      ],
      "source": [
        "solver.value(1), solver.value(2), solver.value(3)\n"
      ]
    },
    {
      "cell_type": "code",
      "execution_count": null,
      "metadata": {
        "colab": {
          "base_uri": "https://localhost:8080/"
        },
        "id": "LT22csXIL7lG",
        "outputId": "30320a62-2d97-426a-e9f6-7687d58ad2c5"
      },
      "outputs": [
        {
          "output_type": "execute_result",
          "data": {
            "text/plain": [
              "{'params': {'forceunsat': {'type': 'bool',\n",
              "   'domain': [False, True],\n",
              "   'default': True},\n",
              "  'adapt': {'type': 'bool', 'domain': [False, True], 'default': True},\n",
              "  'fix-phas-rest': {'type': 'bool', 'domain': [False, True], 'default': False},\n",
              "  'luby': {'type': 'bool', 'domain': [False, True], 'default': False},\n",
              "  'gr': {'type': 'bool', 'domain': [False, True], 'default': True},\n",
              "  'rnd-init': {'type': 'bool', 'domain': [False, True], 'default': False},\n",
              "  'gc-frac': {'type': 'real', 'domain': [0.001, 3.4e+38], 'default': 0.2},\n",
              "  'rinc': {'type': 'integer', 'domain': [2, 2147483647], 'default': 2},\n",
              "  'rnd-freq': {'type': 'integer', 'domain': [0, 1], 'default': 0},\n",
              "  'cla-decay': {'type': 'real', 'domain': [0.001, 0.999], 'default': 0.999},\n",
              "  'max-var-decay': {'type': 'real', 'domain': [0.001, 0.999], 'default': 0.95},\n",
              "  'var-decay': {'type': 'real', 'domain': [0.001, 0.999], 'default': 0.8},\n",
              "  'phase-restart': {'type': 'bool', 'domain': [False, True], 'default': False},\n",
              "  'phase-saving': {'type': 'integer', 'domain': [0, 2], 'default': 2},\n",
              "  'ccmin-mode': {'type': 'integer', 'domain': [0, 2], 'default': 2},\n",
              "  'minLBDMinimizingClause': {'type': 'integer',\n",
              "   'domain': [3, 2147483647],\n",
              "   'default': 6},\n",
              "  'minSizeMinimizingClause': {'type': 'integer',\n",
              "   'domain': [3, 2147483647],\n",
              "   'default': 30},\n",
              "  'chanseok': {'type': 'bool', 'domain': [False, True], 'default': False},\n",
              "  'specialIncReduceDB': {'type': 'integer',\n",
              "   'domain': [0, 2147483647],\n",
              "   'default': 1000},\n",
              "  'minLBDFrozenClause': {'type': 'integer',\n",
              "   'domain': [0, 2147483647],\n",
              "   'default': 30},\n",
              "  'luby-factor': {'type': 'integer',\n",
              "   'domain': [1, 2147483647],\n",
              "   'default': 100},\n",
              "  'co': {'type': 'integer', 'domain': [2, 2147483647], 'default': 5},\n",
              "  'firstReduceDB': {'type': 'integer',\n",
              "   'domain': [0, 2147483647],\n",
              "   'default': 2000},\n",
              "  'incReduceDB': {'type': 'integer',\n",
              "   'domain': [0, 2147483647],\n",
              "   'default': 300},\n",
              "  'R': {'type': 'real', 'domain': [1.001, 4.999], 'default': 1.4},\n",
              "  'K': {'type': 'real', 'domain': [0.001, 0.999], 'default': 0.8},\n",
              "  'szTrailQueue': {'type': 'integer',\n",
              "   'domain': [10, 2147483647],\n",
              "   'default': 5000},\n",
              "  'szLBDQueue': {'type': 'integer',\n",
              "   'domain': [10, 2147483647],\n",
              "   'default': 50}}}"
            ]
          },
          "metadata": {},
          "execution_count": 72
        }
      ],
      "source": [
        "from optilog.solvers.sat import Glucose41\n",
        "config = Glucose41.get_config()\n",
        "config"
      ]
    },
    {
      "cell_type": "code",
      "execution_count": null,
      "metadata": {
        "colab": {
          "base_uri": "https://localhost:8080/"
        },
        "id": "-SNI6R35MC7J",
        "outputId": "d1140ea2-33a9-4ec8-cf4f-52f2d1c15bf3"
      },
      "outputs": [
        {
          "output_type": "execute_result",
          "data": {
            "text/plain": [
              "1.0"
            ]
          },
          "metadata": {},
          "execution_count": 73
        }
      ],
      "source": [
        "from optilog.solvers.sat import Glucose41\n",
        "solver = Glucose41()\n",
        "solver.set('seed', 1.0)\n",
        "solver.get('seed')"
      ]
    },
    {
      "cell_type": "code",
      "execution_count": null,
      "metadata": {
        "colab": {
          "base_uri": "https://localhost:8080/"
        },
        "id": "17k-ffrDE2hW",
        "outputId": "a25cbac5-78f9-4a9b-d3fa-17d809d20860"
      },
      "outputs": [
        {
          "output_type": "execute_result",
          "data": {
            "text/plain": [
              "p cnf 3 0"
            ]
          },
          "metadata": {},
          "execution_count": 74
        }
      ],
      "source": [
        "from optilog.solvers.sat import Glucose41\n",
        "solver = Glucose41()\n",
        "solver.load_cnf('example1.cnf')"
      ]
    },
    {
      "cell_type": "code",
      "execution_count": null,
      "metadata": {
        "id": "sxwd4TAHE2s2"
      },
      "outputs": [],
      "source": []
    },
    {
      "cell_type": "code",
      "execution_count": null,
      "metadata": {
        "id": "6xA3mgdyE24D"
      },
      "outputs": [],
      "source": []
    },
    {
      "cell_type": "markdown",
      "metadata": {
        "id": "HnooUGrOEqTi"
      },
      "source": [
        "##setup"
      ]
    },
    {
      "cell_type": "code",
      "execution_count": null,
      "metadata": {
        "colab": {
          "base_uri": "https://localhost:8080/"
        },
        "id": "Y6upozzGqsOu",
        "outputId": "743c5b86-90d8-4d1d-9067-154e0665d70a"
      },
      "outputs": [
        {
          "output_type": "stream",
          "name": "stdout",
          "text": [
            "Reading package lists... Done\n",
            "Building dependency tree... Done\n",
            "Reading state information... Done\n",
            "E: Unable to locate package RunSolver\n"
          ]
        }
      ],
      "source": [
        "!apt-get install RunSolver"
      ]
    },
    {
      "cell_type": "code",
      "execution_count": null,
      "metadata": {
        "colab": {
          "base_uri": "https://localhost:8080/"
        },
        "id": "x8PAPzsAE0pE",
        "outputId": "2eea2124-9cc2-452c-ad24-4024380dd6b5"
      },
      "outputs": [
        {
          "output_type": "stream",
          "name": "stdout",
          "text": [
            "--2024-09-19 12:19:11--  http://www.cril.univ-artois.fr/~roussel/runsolver/runsolver-3.4.1.tar.bz2\n",
            "Resolving www.cril.univ-artois.fr (www.cril.univ-artois.fr)... 193.49.115.72\n",
            "Connecting to www.cril.univ-artois.fr (www.cril.univ-artois.fr)|193.49.115.72|:80... connected.\n",
            "HTTP request sent, awaiting response... 200 OK\n",
            "Length: 40612 (40K) [application/x-bzip2]\n",
            "Saving to: ‘runsolver-3.4.1.tar.bz2’\n",
            "\n",
            "runsolver-3.4.1.tar 100%[===================>]  39.66K   208KB/s    in 0.2s    \n",
            "\n",
            "2024-09-19 12:19:12 (208 KB/s) - ‘runsolver-3.4.1.tar.bz2’ saved [40612/40612]\n",
            "\n"
          ]
        }
      ],
      "source": [
        "!wget http://www.cril.univ-artois.fr/~roussel/runsolver/runsolver-3.4.1.tar.bz2"
      ]
    },
    {
      "cell_type": "code",
      "execution_count": null,
      "metadata": {
        "id": "3WW4HApxkdVT",
        "colab": {
          "base_uri": "https://localhost:8080/"
        },
        "outputId": "41807c30-72b8-4d0e-b3f9-32bf196d68a8"
      },
      "outputs": [
        {
          "output_type": "stream",
          "name": "stdout",
          "text": [
            "tar: runsolver/src: Cannot mkdir: Not a directory\n",
            "tar: runsolver/src/CircularBufferFilter.hh: Cannot open: Not a directory\n",
            "tar: runsolver/src/Cores.hh: Cannot open: Not a directory\n",
            "tar: runsolver/src/LICENSE-GPL-3.0.txt: Cannot open: Not a directory\n",
            "tar: runsolver/src/Observer.hh: Cannot open: Not a directory\n",
            "tar: runsolver/src/ProcessHistory.hh: Cannot open: Not a directory\n",
            "tar: runsolver/src/ProcessList.hh: Cannot open: Not a directory\n",
            "tar: runsolver/src/README: Cannot open: Not a directory\n",
            "tar: runsolver/src/SignalNames.cc: Cannot open: Not a directory\n",
            "tar: runsolver/src/SignalNames.hh: Cannot open: Not a directory\n",
            "tar: runsolver/src/TimeStamper.hh: Cannot open: Not a directory\n",
            "tar: runsolver/src/vlineSplitter.cc: Cannot open: Not a directory\n",
            "tar: runsolver/src/Changelog: Cannot open: Not a directory\n",
            "tar: runsolver/src/ExecutionSummary.hh: Cannot open: Not a directory\n",
            "tar: runsolver/src/ProcessData.hh: Cannot open: Not a directory\n",
            "tar: runsolver/src/ProcessTree.hh: Cannot open: Not a directory\n",
            "tar: runsolver/src/Watcher.hh: Cannot open: Not a directory\n",
            "tar: runsolver/src/runsolver.cc: Cannot open: Not a directory\n",
            "tar: runsolver/src/Makefile: Cannot open: Not a directory\n",
            "tar: runsolver/src/runsolver.spec: Cannot open: Not a directory\n",
            "tar: Exiting with failure status due to previous errors\n"
          ]
        }
      ],
      "source": [
        "!tar -xjf runsolver-3.4.1.tar.bz2\n"
      ]
    },
    {
      "cell_type": "code",
      "execution_count": null,
      "metadata": {
        "colab": {
          "base_uri": "https://localhost:8080/"
        },
        "id": "fsxvwrxtkuoM",
        "outputId": "c9112389-4a3b-4b56-d422-98f212606213"
      },
      "outputs": [
        {
          "output_type": "stream",
          "name": "stdout",
          "text": [
            "/content/runsolver/src\n"
          ]
        }
      ],
      "source": [
        "%cd /content/runsolver/src\n"
      ]
    },
    {
      "cell_type": "code",
      "execution_count": null,
      "metadata": {
        "colab": {
          "base_uri": "https://localhost:8080/"
        },
        "id": "lOAiSDhGnIYb",
        "outputId": "652da80e-ac6f-4591-acf2-b64931492dc6"
      },
      "outputs": [
        {
          "output_type": "stream",
          "name": "stdout",
          "text": [
            "make: Nothing to be done for 'all'.\n"
          ]
        }
      ],
      "source": [
        "!make -j `nproc`\n"
      ]
    },
    {
      "cell_type": "code",
      "execution_count": null,
      "metadata": {
        "colab": {
          "base_uri": "https://localhost:8080/"
        },
        "id": "YgNwrbyrnbYn",
        "outputId": "ed765877-88da-470e-eea4-265d921f6d57"
      },
      "outputs": [
        {
          "output_type": "stream",
          "name": "stdout",
          "text": [
            "cp runsolver /usr/bin\n"
          ]
        }
      ],
      "source": [
        "!sudo make install"
      ]
    },
    {
      "cell_type": "code",
      "execution_count": null,
      "metadata": {
        "colab": {
          "base_uri": "https://localhost:8080/"
        },
        "id": "iZibf2umkuyJ",
        "outputId": "7e2e2b05-eec7-42bd-af4e-ab08e4b59e2a"
      },
      "outputs": [
        {
          "output_type": "stream",
          "name": "stdout",
          "text": [
            "\r0% [Working]\r            \rHit:1 http://security.ubuntu.com/ubuntu jammy-security InRelease\n",
            "\r0% [Waiting for headers] [Connected to cloud.r-project.org (108.139.15.85)] [Connecting to r2u.stat.\r                                                                                                    \rHit:2 http://archive.ubuntu.com/ubuntu jammy InRelease\n",
            "\r                                                                                                    \rHit:3 http://archive.ubuntu.com/ubuntu jammy-updates InRelease\n",
            "\r                                                                                                    \rHit:4 https://cloud.r-project.org/bin/linux/ubuntu jammy-cran40/ InRelease\n",
            "\r0% [Waiting for headers] [Connected to r2u.stat.illinois.edu (192.17.190.167)] [Waiting for headers]\r                                                                                                    \rHit:5 http://archive.ubuntu.com/ubuntu jammy-backports InRelease\n",
            "\r0% [Connected to r2u.stat.illinois.edu (192.17.190.167)] [Waiting for headers] [Connecting to ppa.la\r                                                                                                    \rHit:6 https://developer.download.nvidia.com/compute/cuda/repos/ubuntu2204/x86_64  InRelease\n",
            "\r                                                                                                    \r0% [Waiting for headers] [Connecting to ppa.launchpadcontent.net (185.125.190.80)]\r                                                                                  \rIgn:7 https://r2u.stat.illinois.edu/ubuntu jammy InRelease\n",
            "Hit:8 https://r2u.stat.illinois.edu/ubuntu jammy Release\n",
            "Hit:10 https://ppa.launchpadcontent.net/deadsnakes/ppa/ubuntu jammy InRelease\n",
            "Hit:11 https://ppa.launchpadcontent.net/graphics-drivers/ppa/ubuntu jammy InRelease\n",
            "Hit:12 https://ppa.launchpadcontent.net/ubuntugis/ppa/ubuntu jammy InRelease\n",
            "Reading package lists... Done\n",
            "W: Skipping acquire of configured file 'main/source/Sources' as repository 'https://r2u.stat.illinois.edu/ubuntu jammy InRelease' does not seem to provide it (sources.list entry misspelt?)\n",
            "Reading package lists... Done\n",
            "Building dependency tree... Done\n",
            "Reading state information... Done\n",
            "gcc is already the newest version (4:11.2.0-1ubuntu1).\n",
            "make is already the newest version (4.3-4.1build1).\n",
            "0 upgraded, 0 newly installed, 0 to remove and 53 not upgraded.\n"
          ]
        }
      ],
      "source": [
        "!apt-get update\n",
        "!apt-get install -y gcc make"
      ]
    },
    {
      "cell_type": "code",
      "execution_count": null,
      "metadata": {
        "colab": {
          "base_uri": "https://localhost:8080/"
        },
        "id": "FFHJ33hGlwp4",
        "outputId": "12269c57-0343-4cc0-b064-9ae852fb6e6b"
      },
      "outputs": [
        {
          "output_type": "stream",
          "name": "stdout",
          "text": [
            "\u001b[01m\u001b[Kgcc:\u001b[m\u001b[K \u001b[01;31m\u001b[Kfatal error: \u001b[m\u001b[Kno input files\n",
            "compilation terminated.\n"
          ]
        }
      ],
      "source": [
        "!gcc -o content/runsolver/src/runsolver.c\n"
      ]
    },
    {
      "cell_type": "code",
      "execution_count": null,
      "metadata": {
        "id": "db-11iu2n4Z0"
      },
      "outputs": [],
      "source": []
    },
    {
      "cell_type": "code",
      "execution_count": null,
      "metadata": {
        "id": "PJV5ywiL4TFZ"
      },
      "outputs": [],
      "source": []
    },
    {
      "cell_type": "code",
      "execution_count": null,
      "metadata": {
        "id": "K2gGbiNI4TTF"
      },
      "outputs": [],
      "source": []
    },
    {
      "cell_type": "markdown",
      "metadata": {
        "id": "D0CYSnLN_WeT"
      },
      "source": []
    },
    {
      "cell_type": "markdown",
      "metadata": {
        "id": "7gZdiYRtFWy7"
      },
      "source": [
        "#Tuning module"
      ]
    },
    {
      "cell_type": "code",
      "execution_count": null,
      "metadata": {
        "id": "Lb7-gftaFbzg"
      },
      "outputs": [],
      "source": [
        "from optilog.tuning import ac, Bool, Int, Real, Categorical\n",
        "\n",
        "@ac\n",
        "def func1(\n",
        "    data,\n",
        "    p1: Bool() = True, p2: Real(-1.3, 2) = 0,\n",
        "    p3: Int(-5, 5) = 0, p4: Categorical(\"A\", \"B\", \"C\") = \"A\"):\n",
        "    ...\n",
        "\n",
        "@ac\n",
        "def func(data, seed, p: Bool() = True):\n",
        "    ...\n",
        "\n",
        "@ac\n",
        "def func(data, seed, p: Int(-10, 10) = 0):\n",
        "    ...\n",
        "\n",
        "@ac\n",
        "def func(data, seed, p: Real(-1.3, 3.14) = 0.18):\n",
        "    ...\n",
        "\n",
        "@ac\n",
        "def func(data, seed, p: Categorical(\"A\", \"B\", \"C\") = \"A\"):\n",
        "    ..."
      ]
    },
    {
      "cell_type": "code",
      "execution_count": null,
      "metadata": {
        "id": "hsdRF5M1F4cu"
      },
      "outputs": [],
      "source": [
        "from optilog.tuning import ac, Int, Real, Choice, Dict\n",
        "\n",
        "@ac\n",
        "def func(\n",
        "    data, seed,\n",
        "    n: Choice(Int(-7, 8, default=3), Real(0.1, 4.8, default=1.0)) = Int(-7, 8, default=3),\n",
        "):\n",
        "    ...\n",
        "\n",
        "@ac\n",
        "def func(data, seed,\n",
        "         d: Dict({'height': Int(3,10, default=7), 'width': Int(1, 8, default=6)})):\n",
        "    ..."
      ]
    },
    {
      "cell_type": "code",
      "execution_count": null,
      "metadata": {
        "id": "bNE58dbmF-te"
      },
      "outputs": [],
      "source": [
        "from optilog.tuning import ac, CfgCall\n",
        "@ac\n",
        "def func2(\n",
        "    data, seed,\n",
        "    func1_call1: CfgCall(func1),\n",
        "    func1_call2: CfgCall(func1),\n",
        "):\n",
        "    ..."
      ]
    },
    {
      "cell_type": "code",
      "execution_count": null,
      "metadata": {
        "id": "BAzEUuKeF4k6"
      },
      "outputs": [],
      "source": [
        "from optilog.solvers.sat import Glucose41\n",
        "from optilog.tuning import ac, CfgCls, CfgObj\n",
        "@ac\n",
        "def func(\n",
        "    instance,\n",
        "    seed,\n",
        "    init_solver_fn: CfgCls(Glucose41),\n",
        "):\n",
        "    solver = init_solver_fn(seed=...)\n",
        "    ...\n",
        "\n",
        "@ac\n",
        "def func(\n",
        "    instance,\n",
        "    seed,\n",
        "    solver: CfgObj(Glucose41),\n",
        "):\n",
        "    ..."
      ]
    },
    {
      "cell_type": "code",
      "execution_count": null,
      "metadata": {
        "id": "75yteM7aGoYH"
      },
      "outputs": [],
      "source": [
        "from optilog.tuning import ac, Bool, Int, Real, Categorical\n",
        "import random\n",
        "\n",
        "@ac\n",
        "def func1(\n",
        "    x, data,\n",
        "    p1: Bool() = True, p2: Real(-1.3, 2) = 0,\n",
        "    p3: Int(-5, 5) = 0, p4: Categorical(\"A\", \"B\", \"C\") = \"A\"):\n",
        "    ...\n",
        "\n",
        "@ac\n",
        "def func2(\n",
        "    data, seed,\n",
        "    func1_call1: CfgCall(func1),\n",
        "    func1_call2: CfgCall(func1),\n",
        "    n: Int(0, 5) = 3\n",
        "):\n",
        "    random.seed(seed)\n",
        "    val1 = func1_call1(random.randint(10, 20), data)\n",
        "    val2 = func1_call2(random.randint(10, 20), data)\n",
        "    return val1 * val2 * n"
      ]
    },
    {
      "cell_type": "code",
      "execution_count": null,
      "metadata": {
        "id": "Z_WY5-7fGofk"
      },
      "outputs": [],
      "source": [
        "import random\n",
        "from optilog.tuning import ac, Int, CfgCall\n",
        "\n",
        "@ac\n",
        "def func2(\n",
        "    data, seed,\n",
        "    func1_call1: CfgCall(func1),\n",
        "    func1_call2: CfgCall(func1),\n",
        "    n: Int(0, 5) = 3\n",
        "):\n",
        "    random.seed(seed)\n",
        "    val1 = func1_call1(random.randint(10, 20), data)\n",
        "    val2 = func1_call2(random.randint(10, 20), data)\n",
        "    res = val1 * val2 * n\n",
        "    print(\"Result:\", res)\n",
        "    return res"
      ]
    },
    {
      "cell_type": "code",
      "execution_count": null,
      "metadata": {
        "id": "aqcqXLNWIAEB"
      },
      "outputs": [],
      "source": [
        "wcnf_content = \"\"\"p wcnf 3 2 3\n",
        "2  1 -2 0\n",
        "1 -1  3 0\n",
        "\"\"\"\n",
        "\n",
        "with open('example2.wcnf', 'w') as wcnf_file:\n",
        "    wcnf_file.write(wcnf_content)"
      ]
    },
    {
      "cell_type": "code",
      "execution_count": null,
      "metadata": {
        "colab": {
          "base_uri": "https://localhost:8080/"
        },
        "id": "y3qdx4PwIGr0",
        "outputId": "ce3b371a-aea8-4747-8f31-2abf6a3c7458"
      },
      "outputs": [
        {
          "name": "stdout",
          "output_type": "stream",
          "text": [
            "Writing run_config.py\n"
          ]
        }
      ],
      "source": [
        "%%writefile run_config.py\n",
        "\n",
        "from optilog.blackbox import SystemBlackBox, ExecutionConstraints, RunSolver\n",
        "from optilog.tuning import ac, Int, Real, Bool\n",
        "from optilog.tuning.configurators import GGAScenario\n",
        "\n",
        "class ExampleSolverBB(SystemBlackBox):\n",
        "\n",
        "    config = {\n",
        "        'incReduceDB': Int(0, 2147483647, default=300),\n",
        "        'R': Real(1.001, 4.999, default=1.4),\n",
        "        'C': Bool(default=False)\n",
        "    }\n",
        "\n",
        "    def __init__(self, *args, **kwargs):\n",
        "        sub_args = ['path/to/maxsat-solver', SystemBlackBox.Instance]\n",
        "        super().__init__(arguments=sub_args, *args, **kwargs)\n",
        "\n",
        "@ac\n",
        "def entrypoint(data, seed, n: Int(0, 5) = 3):\n",
        "    ...\n",
        "\n",
        "if __name__ == '__main__':\n",
        "    configurator = GGAScenario(\n",
        "        entrypoint,\n",
        "        global_cfg=[ExampleSolverBB],\n",
        "        data_kwarg='data',\n",
        "        seed_kwarg='seed',\n",
        "        input_data='example2.wcnf',\n",
        "        constraints=ExecutionConstraints(\n",
        "            s_wall_time=120,\n",
        "            s_real_memory=\"18G\",\n",
        "            enforcer=RunSolver()\n",
        "        ),\n",
        "        run_obj=\"quality\",\n",
        "        quality_regex=\"^o (\\d+)$\",\n",
        "        seed=1,\n",
        "        cost_min=0,\n",
        "        cost_max=(2 << 64) - 1,\n",
        "    )\n",
        "    configurator.generate_scenario('./gga-scenario')"
      ]
    },
    {
      "cell_type": "code",
      "execution_count": null,
      "metadata": {
        "colab": {
          "base_uri": "https://localhost:8080/"
        },
        "id": "HZmecrnNOA-Z",
        "outputId": "a02b9b57-f943-4869-c34f-fb096810c779"
      },
      "outputs": [
        {
          "name": "stdout",
          "output_type": "stream",
          "text": [
            "[INFO] Successfully created scenario on gga-scenario with 1 instances\n"
          ]
        }
      ],
      "source": [
        "!python run_config.py\n"
      ]
    },
    {
      "cell_type": "code",
      "execution_count": null,
      "metadata": {
        "id": "uZ4ozIq9IIVk"
      },
      "outputs": [],
      "source": []
    },
    {
      "cell_type": "code",
      "execution_count": null,
      "metadata": {
        "id": "ORh9ANEVL-u4"
      },
      "outputs": [],
      "source": []
    },
    {
      "cell_type": "code",
      "execution_count": null,
      "metadata": {
        "id": "hqBiJJXaFiLS"
      },
      "outputs": [],
      "source": []
    },
    {
      "cell_type": "code",
      "execution_count": null,
      "metadata": {
        "id": "C7h46qKBFiU2"
      },
      "outputs": [],
      "source": []
    },
    {
      "cell_type": "markdown",
      "metadata": {
        "id": "Suc794A8FjBs"
      },
      "source": [
        "#running module"
      ]
    },
    {
      "cell_type": "code",
      "execution_count": null,
      "metadata": {
        "id": "Lt-enQLiFkS6"
      },
      "outputs": [],
      "source": []
    },
    {
      "cell_type": "code",
      "execution_count": null,
      "metadata": {
        "id": "8oj_3mXVMj1y"
      },
      "outputs": [],
      "source": []
    },
    {
      "cell_type": "code",
      "execution_count": null,
      "metadata": {
        "id": "Tq4b2rCTMkBo"
      },
      "outputs": [],
      "source": []
    },
    {
      "cell_type": "markdown",
      "metadata": {
        "id": "F-at89ssnyci"
      },
      "source": [
        "#N queen"
      ]
    },
    {
      "cell_type": "code",
      "execution_count": null,
      "metadata": {
        "id": "W9ocYy735HnD"
      },
      "outputs": [],
      "source": [
        "import sys\n",
        "from optilog.solvers.sat import Glucose41\n",
        "\n",
        "N = 4\n",
        "\n",
        "def exactly_one(A):\n",
        "    return atleast_one(A) + atmost_one(A)\n",
        "\n",
        "def atleast_one(A):\n",
        "    return \" \".join(map(str, A)) + \" 0\\n\"\n",
        "\n",
        "def atmost_one(A):\n",
        "    temp = \"\"\n",
        "    for i in range(len(A)):\n",
        "        for j in range(i + 1, len(A)):\n",
        "            temp += f\" -{A[i]} -{A[j]} 0\\n\"\n",
        "    return temp\n",
        "\n",
        "def varmap(r, c, N):\n",
        "    return r * N + c + 1\n",
        "\n",
        "def parse_clauses(cnf_string):\n",
        "    clauses = []\n",
        "    for line in cnf_string.strip().split(\"\\n\"):\n",
        "        if line.startswith('p') or line.startswith('c'):\n",
        "            continue\n",
        "        clause = list(map(int, line.split()))\n",
        "        if clause:\n",
        "            clauses.append(clause[:-1])\n",
        "    return clauses\n",
        "\n",
        "if N < 1:\n",
        "    print(\"Error N<1\")\n",
        "    sys.exit(0)\n",
        "\n",
        "print(f\"c SAT Expression for N={N}\")\n",
        "spots = N * N\n",
        "print(f\"c Board has {spots} positions\")\n",
        "\n",
        "temp = \"\"\n",
        "for row in range(N):\n",
        "    A = [varmap(row, column, N) for column in range(N)]\n",
        "    temp += exactly_one(A)\n",
        "\n",
        "for column in range(N):\n",
        "    A = [varmap(row, column, N) for row in range(N)]\n",
        "    temp += exactly_one(A)\n",
        "\n",
        "for row in range(N - 1, -1, -1):\n",
        "    A = [varmap(row + x, x, N) for x in range(N - row)]\n",
        "    temp += atmost_one(A)\n",
        "\n",
        "for column in range(1, N):\n",
        "    A = [varmap(x, column + x, N) for x in range(N - column)]\n",
        "    temp += atmost_one(A)\n",
        "\n",
        "for row in range(N - 1, -1, -1):\n",
        "    A = [varmap(row + x, N - 1 - x, N) for x in range(N - row)]\n",
        "    temp += atmost_one(A)\n",
        "\n",
        "for column in range(N - 2, -1, -1):\n",
        "    A = [varmap(x, column - x, N) for x in range(column + 1)]\n",
        "    temp += atmost_one(A)\n",
        "\n",
        "num_clauses = temp.count('\\n')\n",
        "cnf_header = f'p cnf {N*N} {num_clauses}\\n'\n",
        "cnf_string = cnf_header + temp\n",
        "\n",
        "clauses = parse_clauses(cnf_string)\n",
        "\n",
        "solver = Glucose41()\n",
        "\n",
        "for clause in clauses:\n",
        "    solver.add_clause(clause)\n",
        "\n",
        "previous_solution = [1, -2, -3, 4, 5]\n",
        "negated_solution_clause = [-literal for literal in previous_solution]\n",
        "solver.add_clause(negated_solution_clause)\n",
        "\n",
        "solver.solve([-1])\n",
        "solver.model()\n"
      ]
    },
    {
      "cell_type": "markdown",
      "metadata": {
        "id": "mccqG_J4_Z-A"
      },
      "source": [
        "#Slitherlink"
      ]
    },
    {
      "cell_type": "code",
      "execution_count": null,
      "metadata": {
        "id": "yjNPIYER_evN"
      },
      "outputs": [],
      "source": [
        "def encode_slitherlink(sl):\n",
        "  p = Problem()\n",
        "  # Vertex Constraints: ensure the path is contiguous\n",
        "  for i in range(sl.m + 1):\n",
        "    for j in range(sl.n + 1):\n",
        "      edges = sl.vertex_edges(i, j) # edges that intersect at vertex i,j\n",
        "      p.add_constr((Add(edges) == 0) | (Add(edges) == 2))\n",
        "  # Cell Constraints\n",
        "  for j, row in enumerate(sl.cells):\n",
        "    for i, cell in enumerate(row):\n",
        "      if cell == None: continue\n",
        "      edges = sl.cell_edges(i, j)\n",
        "      p.add_constr(Add(edges) == cell)\n",
        "  return p.to_cnf_dimacs()\n"
      ]
    },
    {
      "cell_type": "code",
      "execution_count": null,
      "metadata": {
        "id": "NORbtRvL5FjW"
      },
      "outputs": [],
      "source": [
        "def solve_slitherlink(instance, seed):\n",
        "  sl = SlitherLink(instance)\n",
        "  cnf = encode_slitherlink(sl)\n",
        "  s = Cadical()\n",
        "  s.set('seed', seed)\n",
        "  s.add_clauses(cnf.clauses)\n",
        "  while s.solve() is True:\n",
        "    n_cycles = sl.manage_cycles(s, cnf)\n",
        "    if n_cycles > 1: continue\n",
        "    print('s YES', flush=True)\n",
        "    return cnf.decode_dimacs(s.model())\n",
        "  print('s NO', flush=True)\n",
        "\n",
        "def manage_cycles(self, solver, cnf):\n",
        "  model = solver.model()\n",
        "  cycles = self.find_cycles(cnf.decode_dimacs(model))\n",
        "  if len(cycles) > 1:\n",
        "    for cycle in cycles:\n",
        "      clause = [~edge for edge in cycle]\n",
        "      solver.add_clause(cnf.to_dimacs(clause))\n",
        "  return len(cycles)\n"
      ]
    },
    {
      "cell_type": "code",
      "execution_count": null,
      "metadata": {
        "id": "NW_q0_ot50gs",
        "colab": {
          "base_uri": "https://localhost:8080/"
        },
        "outputId": "8d5b1fc8-334f-4136-988c-eda47d5f42f1"
      },
      "outputs": [
        {
          "output_type": "stream",
          "name": "stdout",
          "text": [
            "/content/slitherlink\n"
          ]
        }
      ],
      "source": [
        "%cd /content/slitherlink/"
      ]
    },
    {
      "cell_type": "code",
      "source": [
        "%%writefile SlitherLink.py\n",
        "class SlitherLink:\n",
        "    def __init__(self, path):\n",
        "        with open(path) as f:\n",
        "            self.cells = [\n",
        "                [None if char in [\"-\", \".\"] else int(char) for char in line.strip()]\n",
        "                for line in f\n",
        "            ]\n",
        "        self.n = len(self.cells)\n",
        "        self.m = len(self.cells[0])\n",
        "\n",
        "    def edge(self, i, j, dir):\n",
        "        # We represent each edge using a boolean variable where:\n",
        "        #   - (i, j) is the position of its \"top-left\" vertex of the edge\n",
        "        #   - \"dir\" is the direction of the edge\n",
        "        return Bool(f\"Edge_{i}_{j}_{dir}\")\n",
        "\n",
        "    def vertex_edges(self, i, j):\n",
        "        intersection = []\n",
        "        if i > 0:\n",
        "            intersection += [self.edge(i - 1, j, \"right\")]\n",
        "        if j > 0:\n",
        "            intersection += [self.edge(i, j - 1, \"down\")]\n",
        "        if i < self.m:\n",
        "            intersection += [self.edge(i, j, \"right\")]\n",
        "        if j < self.n:\n",
        "            intersection += [self.edge(i, j, \"down\")]\n",
        "        return intersection\n",
        "\n",
        "    def cell_edges(self, i, j):\n",
        "        return [\n",
        "            self.edge(a, b, dir)\n",
        "            for a, b, dir in [\n",
        "                (i, j, \"right\"),\n",
        "                (i, j, \"down\"),\n",
        "                (i + 1, j, \"down\"),\n",
        "                (i, j + 1, \"right\"),\n",
        "            ]\n",
        "        ]\n",
        "\n",
        "def solve_slitherlink(instance, seed):\n",
        "  sl = SlitherLink(instance)\n",
        "  cnf = encode_slitherlink(sl)\n",
        "  s = Cadical()\n",
        "  s.set('seed', seed)\n",
        "  s.add_clauses(cnf.clauses)\n",
        "  while s.solve() is True:\n",
        "    n_cycles = sl.manage_cycles(s, cnf)\n",
        "    if n_cycles > 1: continue\n",
        "    print('s YES', flush=True)\n",
        "    return cnf.decode_dimacs(s.model())\n",
        "  print('s NO', flush=True)\n",
        "\n",
        "def manage_cycles(self, solver, cnf):\n",
        "  model = solver.model()\n",
        "  cycles = self.find_cycles(cnf.decode_dimacs(model))\n",
        "  if len(cycles) > 1:\n",
        "    for cycle in cycles:\n",
        "      clause = [~edge for edge in cycle]\n",
        "      solver.add_clause(cnf.to_dimacs(clause))\n",
        "  return len(cycles)\n",
        "\n",
        "def encode_slitherlink(sl):\n",
        "  p = Problem()\n",
        "  # Vertex Constraints: ensure the path is contiguous\n",
        "  for i in range(sl.m + 1):\n",
        "    for j in range(sl.n + 1):\n",
        "      edges = sl.vertex_edges(i, j) # edges that intersect at vertex i,j\n",
        "      p.add_constr((Add(edges) == 0) | (Add(edges) == 2))\n",
        "  # Cell Constraints\n",
        "  for j, row in enumerate(sl.cells):\n",
        "    for i, cell in enumerate(row):\n",
        "      if cell == None: continue\n",
        "      edges = sl.cell_edges(i, j)\n",
        "      p.add_constr(Add(edges) == cell)\n",
        "  return p.to_cnf_dimacs()\n"
      ],
      "metadata": {
        "id": "XVUdKhx3INBz",
        "colab": {
          "base_uri": "https://localhost:8080/"
        },
        "outputId": "0b2475f2-e8a0-47a9-8e8c-98bdd5810c7e"
      },
      "execution_count": null,
      "outputs": [
        {
          "output_type": "stream",
          "name": "stdout",
          "text": [
            "Writing SlitherLink.py\n"
          ]
        }
      ]
    },
    {
      "cell_type": "code",
      "source": [
        "!python SlitherLink.py"
      ],
      "metadata": {
        "id": "I4B3FpS5S2AG"
      },
      "execution_count": null,
      "outputs": []
    },
    {
      "cell_type": "code",
      "source": [],
      "metadata": {
        "id": "9qI8_Lt3PPV_"
      },
      "execution_count": null,
      "outputs": []
    },
    {
      "cell_type": "code",
      "source": [
        "%cd /content/\n"
      ],
      "metadata": {
        "colab": {
          "base_uri": "https://localhost:8080/"
        },
        "id": "RHCcpO9cSMLS",
        "outputId": "59d6143f-dc24-4b9e-c0be-212fb6655bf2"
      },
      "execution_count": null,
      "outputs": [
        {
          "output_type": "stream",
          "name": "stdout",
          "text": [
            "/content\n"
          ]
        }
      ]
    },
    {
      "cell_type": "code",
      "source": [],
      "metadata": {
        "colab": {
          "base_uri": "https://localhost:8080/"
        },
        "id": "v3yGIN1WSl6C",
        "outputId": "1962b936-0b01-4335-dc18-aea3da25148c"
      },
      "execution_count": null,
      "outputs": [
        {
          "output_type": "stream",
          "name": "stdout",
          "text": [
            "\u001b[31mERROR: Could not find a version that satisfies the requirement os (from versions: none)\u001b[0m\u001b[31m\n",
            "\u001b[0m\u001b[31mERROR: No matching distribution found for os\u001b[0m\u001b[31m\n",
            "\u001b[0m"
          ]
        }
      ]
    },
    {
      "cell_type": "code",
      "source": [
        "!apt-get install mazelib"
      ],
      "metadata": {
        "colab": {
          "base_uri": "https://localhost:8080/"
        },
        "id": "2VmdzPM1gAQu",
        "outputId": "7f9d7a52-a977-4d31-d6de-24c6f81b3a1e"
      },
      "execution_count": null,
      "outputs": [
        {
          "output_type": "stream",
          "name": "stdout",
          "text": [
            "Reading package lists... Done\n",
            "Building dependency tree... Done\n",
            "Reading state information... Done\n",
            "E: Unable to locate package mazelib\n"
          ]
        }
      ]
    },
    {
      "cell_type": "code",
      "source": [
        "!wget https://files.pythonhosted.org/packages/f9/b2/6baee3909db0f3ea9f74a2b37044ea9d1af1aa404c0fba2ffe43556a3fdb/mazelib-0.9.14.tar.gz"
      ],
      "metadata": {
        "colab": {
          "base_uri": "https://localhost:8080/"
        },
        "id": "VFjH8n-UhG2p",
        "outputId": "e659f54e-14f4-4bd0-93c0-e5b23b1d5263"
      },
      "execution_count": null,
      "outputs": [
        {
          "output_type": "stream",
          "name": "stdout",
          "text": [
            "--2024-10-04 09:01:28--  https://files.pythonhosted.org/packages/f9/b2/6baee3909db0f3ea9f74a2b37044ea9d1af1aa404c0fba2ffe43556a3fdb/mazelib-0.9.14.tar.gz\n",
            "Resolving files.pythonhosted.org (files.pythonhosted.org)... 151.101.52.223, 2a04:4e42:d::223\n",
            "Connecting to files.pythonhosted.org (files.pythonhosted.org)|151.101.52.223|:443... connected.\n",
            "HTTP request sent, awaiting response... 200 OK\n",
            "Length: 1664021 (1.6M) [application/octet-stream]\n",
            "Saving to: ‘mazelib-0.9.14.tar.gz’\n",
            "\n",
            "mazelib-0.9.14.tar. 100%[===================>]   1.59M  --.-KB/s    in 0.07s   \n",
            "\n",
            "2024-10-04 09:01:28 (22.8 MB/s) - ‘mazelib-0.9.14.tar.gz’ saved [1664021/1664021]\n",
            "\n"
          ]
        }
      ]
    },
    {
      "cell_type": "code",
      "source": [
        "!tar -xzf mazelib-0.9.14.tar.gz"
      ],
      "metadata": {
        "id": "lD8Ws_aKhG7F"
      },
      "execution_count": null,
      "outputs": []
    },
    {
      "cell_type": "code",
      "source": [
        "%cd mazelib-0.9.14"
      ],
      "metadata": {
        "colab": {
          "base_uri": "https://localhost:8080/"
        },
        "id": "hOQO8wOjhG_e",
        "outputId": "7395f476-1e62-4394-cb79-0a539dd635b7"
      },
      "execution_count": null,
      "outputs": [
        {
          "output_type": "stream",
          "name": "stdout",
          "text": [
            "/content/mazelib-0.9.14\n"
          ]
        }
      ]
    },
    {
      "cell_type": "code",
      "source": [
        "!pip install /content/mazelib-0.9.14\n"
      ],
      "metadata": {
        "colab": {
          "base_uri": "https://localhost:8080/"
        },
        "id": "EK_2yH-BQnjd",
        "outputId": "0bd04f2b-bd6b-4f9d-bead-960f9e8d2b3f"
      },
      "execution_count": null,
      "outputs": [
        {
          "output_type": "stream",
          "name": "stdout",
          "text": [
            "Processing /content/mazelib-0.9.14\n",
            "  \u001b[1;31merror\u001b[0m: \u001b[1msubprocess-exited-with-error\u001b[0m\n",
            "  \n",
            "  \u001b[31m×\u001b[0m \u001b[32mpython setup.py egg_info\u001b[0m did not run successfully.\n",
            "  \u001b[31m│\u001b[0m exit code: \u001b[1;36m1\u001b[0m\n",
            "  \u001b[31m╰─>\u001b[0m See above for output.\n",
            "  \n",
            "  \u001b[1;35mnote\u001b[0m: This error originates from a subprocess, and is likely not a problem with pip.\n",
            "  Preparing metadata (setup.py) ... \u001b[?25l\u001b[?25herror\n",
            "\u001b[1;31merror\u001b[0m: \u001b[1mmetadata-generation-failed\u001b[0m\n",
            "\n",
            "\u001b[31m×\u001b[0m Encountered error while generating package metadata.\n",
            "\u001b[31m╰─>\u001b[0m See above for output.\n",
            "\n",
            "\u001b[1;35mnote\u001b[0m: This is an issue with the package mentioned above, not pip.\n",
            "\u001b[1;36mhint\u001b[0m: See above for details.\n"
          ]
        }
      ]
    },
    {
      "cell_type": "code",
      "source": [
        "!pip list | grep mazelib\n"
      ],
      "metadata": {
        "id": "YSh1NisfhHFk"
      },
      "execution_count": null,
      "outputs": []
    },
    {
      "cell_type": "code",
      "source": [
        "%cd /content/"
      ],
      "metadata": {
        "colab": {
          "base_uri": "https://localhost:8080/"
        },
        "id": "bb-lOhP-w933",
        "outputId": "1d79594c-f800-43f6-c26c-f3098fcd9d30"
      },
      "execution_count": null,
      "outputs": [
        {
          "output_type": "stream",
          "name": "stdout",
          "text": [
            "/content\n"
          ]
        }
      ]
    },
    {
      "cell_type": "code",
      "source": [
        "!mkdir slitherlink"
      ],
      "metadata": {
        "id": "gsxaXyMmZkI7"
      },
      "execution_count": null,
      "outputs": []
    },
    {
      "cell_type": "code",
      "source": [
        "%cd /content/slitherlink"
      ],
      "metadata": {
        "id": "VA3cX59BZkRu",
        "colab": {
          "base_uri": "https://localhost:8080/"
        },
        "outputId": "849f8309-d179-4272-885c-842de6e326c6"
      },
      "execution_count": null,
      "outputs": [
        {
          "output_type": "stream",
          "name": "stdout",
          "text": [
            "/content/slitherlink\n"
          ]
        }
      ]
    },
    {
      "cell_type": "code",
      "source": [
        "submitter_script = \"\"\"\n",
        "#!/bin/bash\n",
        "\n",
        "cmd=$1\n",
        "name=$2\n",
        "slots=$3\n",
        "output=$4\n",
        "err=$5\n",
        "shift 5\n",
        "\n",
        "# Tạo thư mục logs nếu chưa tồn tại\n",
        "mkdir -p \"$logs\"\n",
        "\n",
        "# Xác định tệp nhật ký đầu ra và lỗi\n",
        "output=\"${logs}/output.log\"\n",
        "err=\"${logs}/error.log\"\n",
        "\n",
        "RQUEUE=<YOUR-QUEUE-NAME>\n",
        "\n",
        "EXECUTING_COMMAND=\"${cmd} ${@}\"\n",
        "\n",
        "echo \"${EXECUTING_COMMAND}\"     \\\n",
        "    | qsub -cwd -V -q ${RQUEUE} \\\n",
        "    -pe smp ${slots}            \\\n",
        "    -N $name -o $output -e $err\n",
        "\"\"\"\n",
        "\n",
        "with open('/content/slitherlink/enque.sh', 'w') as file:\n",
        "    file.write(submitter_script)\n",
        "\n",
        "!chmod +x /content/slitherlink/enque.sh\n"
      ],
      "metadata": {
        "id": "V1OvqDSURZOr"
      },
      "execution_count": null,
      "outputs": []
    },
    {
      "cell_type": "code",
      "source": [
        "!optilog-running default_running/ submit\n"
      ],
      "metadata": {
        "id": "UCs2K9zBUYOF"
      },
      "execution_count": null,
      "outputs": []
    },
    {
      "cell_type": "code",
      "source": [
        "!chmod +x /content/slitherlink/enque.sh\n"
      ],
      "metadata": {
        "id": "d79YUKSRRZUH"
      },
      "execution_count": null,
      "outputs": []
    },
    {
      "cell_type": "code",
      "source": [
        "%cd /content/mazelib-0.9.14/"
      ],
      "metadata": {
        "colab": {
          "base_uri": "https://localhost:8080/"
        },
        "id": "EqPZGax4-9GR",
        "outputId": "d84249d8-7f5f-429f-836f-f9ae10c852b3"
      },
      "execution_count": null,
      "outputs": [
        {
          "output_type": "stream",
          "name": "stdout",
          "text": [
            "/content/mazelib-0.9.14\n"
          ]
        }
      ]
    },
    {
      "cell_type": "code",
      "source": [
        "%%writefile generator.py\n",
        "import sys\n",
        "import random\n",
        "\n",
        "from mazelib import Maze\n",
        "from mazelib.generate.Prims import Prims\n",
        "from mazelib.solve.BacktrackingSolver import BacktrackingSolver\n",
        "\n",
        "max_horiz = 20\n",
        "max_verti = 20\n",
        "percent_number = 30\n",
        "percent_number /= 100\n",
        "seed = 42\n",
        "random.seed(seed)\n",
        "\n",
        "horiz = max_horiz\n",
        "verti = max_verti\n",
        "\n",
        "m = Maze(seed)\n",
        "m.solver = BacktrackingSolver()\n",
        "m.generator = Prims(horiz, verti)\n",
        "m.generate()\n",
        "\n",
        "grid = [list(row) for row in m.grid]\n",
        "\n",
        "verti = len(grid)\n",
        "horiz = len(grid[0])\n",
        "while True:\n",
        "    start_i = random.randint(1, horiz - 1)\n",
        "    start_j = 1\n",
        "    if grid[start_j + 1][start_i] == 0:\n",
        "        grid[start_j][start_i] = 0\n",
        "        break\n",
        "\n",
        "def count_different(i, j, cell):\n",
        "    around = [\n",
        "        (i + 1, j),\n",
        "        (i, j + 1),\n",
        "        (i - 1, j),\n",
        "        (i, j - 1),\n",
        "    ]\n",
        "    counter = 0\n",
        "    for pi, pj in around:\n",
        "        if 0 <= pi < horiz and 0 <= pj < verti:\n",
        "            if grid[pj][pi] != cell:\n",
        "                counter += 1\n",
        "    return counter\n",
        "\n",
        "for j, row in enumerate(grid):\n",
        "    for i, cell in enumerate(row):\n",
        "        if percent_number > random.random():\n",
        "            print(count_different(i, j, cell), end='')\n",
        "        else:\n",
        "            print('-', end='')\n",
        "    print()"
      ],
      "metadata": {
        "colab": {
          "base_uri": "https://localhost:8080/"
        },
        "id": "HzlY_8G6INEI",
        "outputId": "49fc91b9-3b28-4cc3-c82b-84fbac44f41c"
      },
      "execution_count": null,
      "outputs": [
        {
          "output_type": "stream",
          "name": "stdout",
          "text": [
            "Writing generator.py\n"
          ]
        }
      ]
    },
    {
      "cell_type": "code",
      "source": [
        "!python generator.py"
      ],
      "metadata": {
        "colab": {
          "base_uri": "https://localhost:8080/"
        },
        "id": "LQrX3qdsp5YZ",
        "outputId": "9d133101-4d61-47fb-d022-84bb5b3e290d"
      },
      "execution_count": null,
      "outputs": [
        {
          "output_type": "stream",
          "name": "stdout",
          "text": [
            "0--111----0-0--1-1-1---1--11---1---1-----\n",
            "----21-2-2-----32--2-3----2--32------1-3-\n",
            "-2-----2-22------2-----2------2---2----2-\n",
            "---------3--2-2--02---------2-----2-----1\n",
            "1-----------2----2--2--2--22-23---1----2-\n",
            "---0--------2------------3--23----2-----1\n",
            "-23-323--2-2--3-----1-------0--2------3--\n",
            "1-2------22---------2-2---------22----21-\n",
            "-2---22-1---------3-----3-3-----2---1232-\n",
            "--212---2-22---2--20-------1---0-2--232-1\n",
            "---232-212---2322232--------2------22---0\n",
            "----2--1-------32-----2321---3--2----2231\n",
            "--2----2-2-2--3-1-----12--32----22-------\n",
            "------2----------2-2--2-2-22--2-2--3-----\n",
            "----1-223---3232-2--1--23-----0-----1-2--\n",
            "1------2--2-2--1--------2-212---21-2-2-2-\n",
            "--3----22---1---3-1-----2-22--0----------\n",
            "----232-21-------------1-3-2-----32---21-\n",
            "-2---2----3---3----2-2---202-22----2-----\n",
            "-3---2----23-----1---2------------2---23-\n",
            "--32--------12-2-2----121---------32---20\n",
            "-3--2---2-----2-20----2--2----2-23---22--\n",
            "0-2-------3----2--3-----3--2--3-2--2----0\n",
            "1322-3------------------2-2-2--0-----3--1\n",
            "-------2-2---------2-----2---22-----1-2--\n",
            "-1----2--1----2-22---------12----2------1\n",
            "1---2-------12--2-----222---3--------23-1\n",
            "--23-------322----232--1------22--2------\n",
            "-2-2----12-2--3-------32--22-------2-2-2-\n",
            "1------2---32---222-2--2--------2----32--\n",
            "-23---32---21--2-23--2--2---1222--------0\n",
            "12--2-2--1-----3-0------2-2--3----2-----1\n",
            "-2--222-3--2---2----1-2--22--2----3----2-\n",
            "--2-------202-23--------21----2--3-12---1\n",
            "1222--12--3------22----2--32---2-2-------\n",
            "----2-2------3---12------2--2---2--------\n",
            "-----------2--12----------2------20-1---1\n",
            "-3-12-20-121---3--2-----232--1--2----1--1\n",
            "--321-------3-1-----2-3-0------2---2--3--\n",
            "-3-2--2--------3------------------2--3-3-\n",
            "------11-----10111---1---111--------0--1-\n"
          ]
        }
      ]
    },
    {
      "cell_type": "code",
      "source": [
        "%cd /content/slitherlink/"
      ],
      "metadata": {
        "colab": {
          "base_uri": "https://localhost:8080/"
        },
        "id": "SkX-Xe1W_r0O",
        "outputId": "cfb4851a-7481-4cd8-f241-e2e072cd4294"
      },
      "execution_count": null,
      "outputs": [
        {
          "output_type": "stream",
          "name": "stdout",
          "text": [
            "/content/slitherlink\n"
          ]
        }
      ]
    },
    {
      "cell_type": "code",
      "source": [
        "# Define the Slitherlink puzzle grid as a multi-line string\n",
        "puzzle_data = \"\"\"\n",
        "0--111----0-0--1-1-1---1--11---1---1-----\n",
        "----21-2-2-----32--2-3----2--32------1-3-\n",
        "-2-----2-22------2-----2------2---2----2-\n",
        "---------3--2-2--02---------2-----2-----1\n",
        "1-----------2----2--2--2--22-23---1----2-\n",
        "---0--------2------------3--23----2-----1\n",
        "-23-323--2-2--3-----1-------0--2------3--\n",
        "1-2------22---------2-2---------22----21-\n",
        "-2---22-1---------3-----3-3-----2---1232-\n",
        "--212---2-22---2--20-------1---0-2--232-1\n",
        "---232-212---2322232--------2------22---0\n",
        "----2--1-------32-----2321---3--2----2231\n",
        "--2----2-2-2--3-1-----12--32----22-------\n",
        "------2----------2-2--2-2-22--2-2--3-----\n",
        "----1-223---3232-2--1--23-----0-----1-2--\n",
        "1------2--2-2--1--------2-212---21-2-2-2-\n",
        "--3----22---1---3-1-----2-22--0----------\n",
        "----232-21-------------1-3-2-----32---21-\n",
        "-2---2----3---3----2-2---202-22----2-----\n",
        "-3---2----23-----1---2------------2---23-\n",
        "--32--------12-2-2----121---------32---20\n",
        "-3--2---2-----2-20----2--2----2-23---22--\n",
        "0-2-------3----2--3-----3--2--3-2--2----0\n",
        "1322-3------------------2-2-2--0-----3--1\n",
        "-------2-2---------2-----2---22-----1-2--\n",
        "-1----2--1----2-22---------12----2------1\n",
        "1---2-------12--2-----222---3--------23-1\n",
        "--23-------322----232--1------22--2------\n",
        "-2-2----12-2--3-------32--22-------2-2-2-\n",
        "1------2---32---222-2--2--------2----32--\n",
        "-23---32---21--2-23--2--2---1222--------0\n",
        "12--2-2--1-----3-0------2-2--3----2-----1\n",
        "-2--222-3--2---2----1-2--22--2----3----2-\n",
        "--2-------202-23--------21----2--3-12---1\n",
        "1222--12--3------22----2--32---2-2-------\n",
        "----2-2------3---12------2--2---2--------\n",
        "-----------2--12----------2------20-1---1\n",
        "-3-12-20-121---3--2-----232--1--2----1--1\n",
        "--321-------3-1-----2-3-0------2---2--3--\n",
        "-3-2--2--------3------------------2--3-3-\n",
        "------11-----10111---1---111--------0--1-\n",
        "\"\"\"\n",
        "\n",
        "# Write the puzzle data to a file\n",
        "with open('instances.txt', 'w') as file:\n",
        "    file.write(puzzle_data.strip())\n"
      ],
      "metadata": {
        "id": "N_2lZxoFdZAs"
      },
      "execution_count": null,
      "outputs": []
    },
    {
      "cell_type": "code",
      "source": [
        "%cd /content/slitherlink/"
      ],
      "metadata": {
        "id": "5Xr366D4fIo3",
        "colab": {
          "base_uri": "https://localhost:8080/"
        },
        "outputId": "0ea0edd6-c202-4144-a330-b2272cff9063"
      },
      "execution_count": null,
      "outputs": [
        {
          "output_type": "stream",
          "name": "stdout",
          "text": [
            "/content/slitherlink\n"
          ]
        }
      ]
    },
    {
      "cell_type": "code",
      "source": [
        "from optilog.tuning import CfgCls, ac, Bool as BoolParam\n",
        "from optilog.solvers.sat import Cadical\n",
        "\n",
        "@ac\n",
        "def solve_slitherlink(instance, seed, remove_unconstr_subcycles: BoolParam(True), Solver: CfgCls(Cadical)):\n",
        "    sl = SlitherLink(instance)\n",
        "    cnf = encode_slitherlink(sl)\n",
        "    s = Solver()\n",
        "    s.set(\"seed\", seed)\n",
        "    s.add_clauses(cnf.clauses)\n",
        "    (...)"
      ],
      "metadata": {
        "id": "93tN4kPxeMFw"
      },
      "execution_count": null,
      "outputs": []
    },
    {
      "cell_type": "code",
      "source": [],
      "metadata": {
        "id": "bDxPnXWvjzsp"
      },
      "execution_count": null,
      "outputs": []
    },
    {
      "cell_type": "code",
      "source": [
        "%%writefile tuning_slitherlink.py\n",
        "\n",
        "from optilog.blackbox import ExecutionConstraints, RunSolver\n",
        "from optilog.tuning.configurators import GGAScenario\n",
        "from SlitherLink import solve_slitherlink\n",
        "\n",
        "from optilog.tuning import CfgCls, ac, Bool as BoolParam\n",
        "from optilog.solvers.sat import Cadical\n",
        "\n",
        "@ac\n",
        "def solve_slitherlink(instance, seed, remove_unconstr_subcycles: BoolParam(True), Solver: CfgCls(Cadical)):\n",
        "    sl = SlitherLink(instance)\n",
        "    cnf = encode_slitherlink(sl)\n",
        "    s = Solver()\n",
        "    s.set(\"seed\", seed)\n",
        "    s.add_clauses(cnf.clauses)\n",
        "    (...)\n",
        "\n",
        "if __name__ == \"__main__\":\n",
        "    time_limit = 300\n",
        "    configurator = GGAScenario(\n",
        "        solve_slitherlink,\n",
        "        input_data=\"instances.txt\",\n",
        "        run_obj=\"runtime\",\n",
        "        data_kwarg=\"instance\",\n",
        "        seed_kwarg=\"seed\",\n",
        "        seed=1,\n",
        "        cost_min=0,\n",
        "        cost_max=10 * time_limit,\n",
        "        tuner_rt_limit=60 * 60 * 4,\n",
        "        instances_min=10,\n",
        "        instances_gen_max=-10,\n",
        "        constraints=ExecutionConstraints(\n",
        "            s_real_memory=\"6G\", s_wall_time=time_limit, enforcer=RunSolver()\n",
        "        ),\n",
        "    )\n",
        "\n",
        "    configurator.generate_scenario(\"./gga_scenario\")\n"
      ],
      "metadata": {
        "colab": {
          "base_uri": "https://localhost:8080/"
        },
        "id": "d6AljDXvWjfA",
        "outputId": "0e3e2095-2b06-447e-bf0d-f02278168bfd"
      },
      "execution_count": null,
      "outputs": [
        {
          "output_type": "stream",
          "name": "stdout",
          "text": [
            "Overwriting tuning_slitherlink.py\n"
          ]
        }
      ]
    },
    {
      "cell_type": "code",
      "source": [
        "!python tuning_slitherlink.py"
      ],
      "metadata": {
        "colab": {
          "base_uri": "https://localhost:8080/"
        },
        "id": "wKFBx6GqghPa",
        "outputId": "ee250ffd-bcb8-4458-b6e9-3a04e8fdb6dc"
      },
      "execution_count": null,
      "outputs": [
        {
          "output_type": "stream",
          "name": "stdout",
          "text": [
            "[INFO] Successfully created scenario on gga_scenario with 1 instances\n"
          ]
        }
      ]
    },
    {
      "cell_type": "code",
      "source": [
        "from optilog.tuning.configurators.utils import GGAParser\n",
        "\n",
        "parser = GGAParser(\"<GGA output log>\")\n",
        "parser.save_configs(\"./configs\", \"./gga_scenario\", name=\"best-conf\")"
      ],
      "metadata": {
        "id": "7BkBGOKBfuPL"
      },
      "execution_count": null,
      "outputs": []
    },
    {
      "cell_type": "code",
      "source": [
        "%%writefile running.py\n",
        "from optilog.running import RunningScenario\n",
        "from optilog.blackbox import ExecutionConstraints, RunSolver\n",
        "\n",
        "from SlitherLink import solve_slitherlink\n",
        "\n",
        "\n",
        "def solve_slitherlink_no_remove(instance, seed):\n",
        "    return solve_slitherlink(instance, seed, remove_unconstr_subcycles=False)\n",
        "\n",
        "\n",
        "if __name__ == \"__main__\":\n",
        "    runner = RunningScenario(\n",
        "        solvers={\n",
        "            \"default-remove-subcycles\": solve_slitherlink,\n",
        "            \"default-no-remove\": solve_slitherlink_no_remove,\n",
        "            \"gga\": \"./configs/best-conf.sh\",\n",
        "        },\n",
        "        tasks=\"./instances.txt\",\n",
        "        submit_file=\"./enque.sh\",\n",
        "        constraints=ExecutionConstraints(\n",
        "            s_virtual_memory=\"6G\",\n",
        "            s_wall_time=300,\n",
        "            enforcer=RunSolver(),\n",
        "        ),\n",
        "        slots=1,\n",
        "        seeds=[1, 2, 3],\n",
        "        unbuffer=False,\n",
        "    )\n",
        "\n",
        "    runner.generate_scenario(scenario_dir=\"./default_running\")\n"
      ],
      "metadata": {
        "colab": {
          "base_uri": "https://localhost:8080/"
        },
        "id": "RcE3w0pt3kE4",
        "outputId": "17779ae1-0aa3-472a-aeb5-c74ea6e46905"
      },
      "execution_count": null,
      "outputs": [
        {
          "output_type": "stream",
          "name": "stdout",
          "text": [
            "Writing running.py\n"
          ]
        }
      ]
    },
    {
      "cell_type": "code",
      "source": [
        "!python running.py"
      ],
      "metadata": {
        "colab": {
          "base_uri": "https://localhost:8080/"
        },
        "id": "IUz7ZTZX5oLW",
        "outputId": "1067c5f2-edda-4724-bd0e-3cab69bd02f9"
      },
      "execution_count": null,
      "outputs": [
        {
          "output_type": "stream",
          "name": "stdout",
          "text": [
            "[INFO] Successfully created scenario on /content/slitherlink/default_running with 3 solvers 3 seeds and 1 tasks\n"
          ]
        }
      ]
    },
    {
      "cell_type": "code",
      "source": [
        "from optilog.running import ParsingInfo, parse_scenario"
      ],
      "metadata": {
        "id": "JlFDUXxufv-i"
      },
      "execution_count": null,
      "outputs": []
    },
    {
      "cell_type": "code",
      "source": [
        "import os\n",
        "\n",
        "# List files in the directory\n",
        "files = os.listdir('./default_running')\n",
        "print(\"Files in directory:\", files)\n",
        "\n",
        "# Read the content of the first log file (example)\n",
        "if files:\n",
        "    with open(os.path.join('./default_running', files[0]), 'r') as file:\n",
        "        print(file.read())\n"
      ],
      "metadata": {
        "colab": {
          "base_uri": "https://localhost:8080/"
        },
        "id": "uZqjEkC3_rKu",
        "outputId": "d6c4e143-db0a-46b5-8d44-68a9413962f8"
      },
      "execution_count": null,
      "outputs": [
        {
          "output_type": "stream",
          "name": "stdout",
          "text": [
            "Files in directory: ['readme.md', 'python_entrypoint.py', 'abstract_scenario.json', 'abstract_scenario.pkl']\n",
            "Please run optilog-running ./relative/path/to/this/scenario/ in order to perform your desired actions.\n",
            "\n",
            "Examples:\n",
            "\n",
            "# Submit all jobs\n",
            "$ optilog-running path/to/scenario submit\n",
            "\n",
            "# Submit all instances (overwrite previous logs)\n",
            "$ optilog-running path/to/scenario submit --overwrite\n",
            "\n",
            "# Delete execution logs\n",
            "$ optilog-running path/to/scenario clean\n",
            "\n",
            "# List all tasks. This will print the task's instance path.\n",
            "$ optilog-running path/to/scenario list tasks\n",
            "\n",
            "# List all solvers. This will print the solver's names.\n",
            "$ optilog-running path/to/scenario list solvers\n",
            "\n",
            "# List all seeds. This will print the seed's values.\n",
            "$ optilog-running path/to/scenario list seeds\n",
            "\n",
            "# Submit a specific job, overwrite the logs and use a different seed\n",
            "$ optilog-running path/to/scenario submit --overwrite --tasks test1.txt --seeds 64\n",
            "\n",
            "# Submit a specific job, overwrite the logs and use multiple seeds\n",
            "$ optilog-running path/to/scenario submit --overwrite --tasks test1.txt --seeds 64,82\n",
            "\n",
            "# Submit multiple tasks, overwrite the logs and use multiple seeds\n",
            "$ optilog-running path/to/scenario submit --overwrite --tasks test1.txt,test2.txt --seeds 64,82\n",
            "\n",
            "# Submit multiple solvers, overwrite the logs\n",
            "$ optilog-running path/to/scenario submit --overwrite --solvers glucose41,cadical\n",
            "\n",
            "# Execute locally like it would submit:\n",
            "$ optilog-running path/to/scenario execute test1.txt 64 glucose41\n",
            "\n"
          ]
        }
      ]
    },
    {
      "cell_type": "code",
      "source": [],
      "metadata": {
        "id": "l45oK__tD9bz"
      },
      "execution_count": null,
      "outputs": []
    },
    {
      "cell_type": "code",
      "source": [
        "from optilog.running import ParsingInfo, parse_scenario\n",
        "\n",
        "pi = ParsingInfo()\n",
        "pi.add_filter(\"res\", r\"^s (.+)\", timestamp=True)\n",
        "\n",
        "df = parse_scenario(\"./default_running\", parsing_info=pi)\n",
        "print(df.head())\n",
        "\n",
        "\n",
        "def solved(col):\n",
        "    return (col == \"YES\").sum() / col.shape[0]\n",
        "\n",
        "\n",
        "def parK(col, k=10):\n",
        "    return col.fillna(1000 * 300 * k).mean()\n",
        "\n",
        "\n",
        "def stats(df, solver):\n",
        "    print(\"* Pctg solved:\", df[(solver, \"res\")].agg(solved))\n",
        "    print(\"* PAR10:\", df[(solver, \"time_res\")].agg(parK), end=\"\\n\\n\")\n",
        "\n",
        "\n",
        "print(\"DEFAULT (remove subcycles)\")\n",
        "stats(df, \"default-remove-subcycles\")\n",
        "print(\"DEFAULT (no remove subcycles)\")\n",
        "stats(df, \"default-no-remove\")\n",
        "print(\"GGA\")\n",
        "stats(df, \"gga\")"
      ],
      "metadata": {
        "id": "gqvx6HlTAAAP"
      },
      "execution_count": null,
      "outputs": []
    },
    {
      "cell_type": "code",
      "source": [],
      "metadata": {
        "id": "_r4Ky8sEWjul"
      },
      "execution_count": null,
      "outputs": []
    }
  ],
  "metadata": {
    "colab": {
      "collapsed_sections": [
        "zxSN779CPIEK",
        "ONiLZ4TbNZiO",
        "2SV2--2Mvp9S",
        "ZbllJi_45CoK",
        "td6EJYi9_EZe",
        "HnooUGrOEqTi",
        "7gZdiYRtFWy7",
        "Suc794A8FjBs",
        "F-at89ssnyci"
      ],
      "provenance": [],
      "toc_visible": true,
      "authorship_tag": "ABX9TyNsK/oLzPk/rtBxrLGgsMej",
      "include_colab_link": true
    },
    "kernelspec": {
      "display_name": "Python 3",
      "name": "python3"
    },
    "language_info": {
      "name": "python"
    }
  },
  "nbformat": 4,
  "nbformat_minor": 0
}