{
 "cells": [
  {
   "cell_type": "code",
   "execution_count": 1,
   "metadata": {},
   "outputs": [],
   "source": [
    "import sys\n",
    "import polars as pl\n",
    "sys.path.append('/Users/ianmcallister/tooling/lakeinterface')\n",
    "\n",
    "from lakeinterface.datalake import Datalake"
   ]
  },
  {
   "cell_type": "code",
   "execution_count": 2,
   "metadata": {},
   "outputs": [],
   "source": [
    "lake = Datalake(aws_profile='personal')"
   ]
  },
  {
   "cell_type": "markdown",
   "metadata": {},
   "source": [
    "#### fixing the get"
   ]
  },
  {
   "cell_type": "code",
   "execution_count": 2,
   "metadata": {},
   "outputs": [],
   "source": [
    "lake = Datalake(aws_profile='machinesp')"
   ]
  },
  {
   "cell_type": "code",
   "execution_count": 17,
   "metadata": {},
   "outputs": [
    {
     "data": {
      "text/plain": [
       "['msp-cmo/pipeline/prosup_parsing/output/AGENCY=FHL/5065/paydown/Group 1/20240729/data.json']"
      ]
     },
     "execution_count": 17,
     "metadata": {},
     "output_type": "execute_result"
    }
   ],
   "source": [
    "#pth = 'msp-cmo/pipeline/prosup_parsing/output/AGENCY=FHL/5065/paydown/Group 1'\n",
    "pth = 'msp-cmo/pipeline/prosup_parsing/output/AGENCY=FHL/5065/paydown/Group 1/20240729/data.json'\n",
    "lake.list_objects(pth)"
   ]
  },
  {
   "cell_type": "code",
   "execution_count": 6,
   "metadata": {},
   "outputs": [],
   "source": [
    "def parse_path(path):\n",
    "    if path[-1] == '/':\n",
    "        path = path[:-1]\n",
    "\n",
    "    parts = path.split('/')\n",
    "    if len(parts) == 2:\n",
    "        return parts[0], parts[1]\n",
    "    else:\n",
    "        return parts[0], '/'.join(parts[1:])\n"
   ]
  },
  {
   "cell_type": "code",
   "execution_count": 19,
   "metadata": {},
   "outputs": [],
   "source": [
    "bucket, prefix = parse_path(pth)"
   ]
  },
  {
   "cell_type": "code",
   "execution_count": 20,
   "metadata": {},
   "outputs": [],
   "source": [
    "paginator = lake.s3.s3.get_paginator('list_objects_v2')\n",
    "pages = paginator.paginate(Bucket=bucket, Prefix=prefix)"
   ]
  },
  {
   "cell_type": "code",
   "execution_count": 21,
   "metadata": {},
   "outputs": [],
   "source": [
    "all_objects = sum([[f\"{bucket}/{obj['Key']}\" for obj in page.get('Contents',[]) if obj['Size']>0] for page in pages], [])"
   ]
  },
  {
   "cell_type": "code",
   "execution_count": 22,
   "metadata": {},
   "outputs": [
    {
     "data": {
      "text/plain": [
       "['msp-cmo/pipeline/prosup_parsing/output/AGENCY=FHL/5065/paydown/Group 1/20240729/data.json']"
      ]
     },
     "execution_count": 22,
     "metadata": {},
     "output_type": "execute_result"
    }
   ],
   "source": [
    "all_objects"
   ]
  },
  {
   "cell_type": "code",
   "execution_count": 23,
   "metadata": {},
   "outputs": [
    {
     "data": {
      "text/plain": [
       "['msp-cmo/pipeline/prosup_parsing/output/AGENCY=FHL/5065/paydown/Group 1/20240729/data.json']"
      ]
     },
     "execution_count": 23,
     "metadata": {},
     "output_type": "execute_result"
    }
   ],
   "source": [
    "[o for o in all_objects if f'{bucket}/{prefix}/' in o or f'{bucket}/{prefix}' == o]"
   ]
  },
  {
   "cell_type": "markdown",
   "metadata": {},
   "source": [
    "#### checking get and list"
   ]
  },
  {
   "cell_type": "code",
   "execution_count": 8,
   "metadata": {},
   "outputs": [
    {
     "name": "stdout",
     "output_type": "stream",
     "text": [
      "Matched objects: ['machinesp-datasets/test/banks/call_reports/raw/20200331/data.parquet', 'machinesp-datasets/test/banks/call_reports/raw/20210331/data.parquet', 'machinesp-datasets/test/banks/call_reports/raw/20230630/data.parquet']\n",
      "Most recent: machinesp-datasets/test/banks/call_reports/raw/20230630/data.parquet\n"
     ]
    }
   ],
   "source": [
    "path = 'machinesp-datasets/test/banks/call_reports/raw'\n",
    "\n",
    "matched_objects = lake.s3.list_objects(path)\n",
    "most_recent = lake.s3.most_recent(path)\n",
    "\n",
    "print(f'Matched objects: {matched_objects}')\n",
    "print(f'Most recent: {most_recent}')"
   ]
  },
  {
   "cell_type": "code",
   "execution_count": 9,
   "metadata": {},
   "outputs": [
    {
     "data": {
      "text/html": [
       "<div><style>\n",
       ".dataframe > thead > tr > th,\n",
       ".dataframe > tbody > tr > td {\n",
       "  text-align: right;\n",
       "}\n",
       "</style>\n",
       "<small>shape: (5, 8)</small><table border=\"1\" class=\"dataframe\"><thead><tr><th>concept</th><th>idrssd</th><th>filing_date</th><th>context</th><th>namespace</th><th>unit</th><th>decimals</th><th>value</th></tr><tr><td>str</td><td>str</td><td>date</td><td>str</td><td>str</td><td>str</td><td>i64</td><td>str</td></tr></thead><tbody><tr><td>&quot;RCONA573&quot;</td><td>&quot;1000052&quot;</td><td>2023-06-30</td><td>&quot;CI_1000052_202…</td><td>&quot;www.ffiec.gov/…</td><td>&quot;USD&quot;</td><td>0</td><td>&quot;145046000&quot;</td></tr><tr><td>&quot;RIAD4356&quot;</td><td>&quot;1000052&quot;</td><td>2023-06-30</td><td>&quot;CD_1000052_202…</td><td>&quot;www.ffiec.gov/…</td><td>&quot;USD&quot;</td><td>0</td><td>&quot;0&quot;</td></tr><tr><td>&quot;RCONA571&quot;</td><td>&quot;1000052&quot;</td><td>2023-06-30</td><td>&quot;CI_1000052_202…</td><td>&quot;www.ffiec.gov/…</td><td>&quot;USD&quot;</td><td>0</td><td>&quot;51634000&quot;</td></tr><tr><td>&quot;RCONA570&quot;</td><td>&quot;1000052&quot;</td><td>2023-06-30</td><td>&quot;CI_1000052_202…</td><td>&quot;www.ffiec.gov/…</td><td>&quot;USD&quot;</td><td>0</td><td>&quot;76364000&quot;</td></tr><tr><td>&quot;RCONS498&quot;</td><td>&quot;1000052&quot;</td><td>2023-06-30</td><td>&quot;CI_1000052_202…</td><td>&quot;www.ffiec.gov/…</td><td>&quot;USD&quot;</td><td>0</td><td>&quot;0&quot;</td></tr></tbody></table></div>"
      ],
      "text/plain": [
       "shape: (5, 8)\n",
       "┌──────────┬─────────┬─────────────┬────────────────┬────────────────┬──────┬──────────┬───────────┐\n",
       "│ concept  ┆ idrssd  ┆ filing_date ┆ context        ┆ namespace      ┆ unit ┆ decimals ┆ value     │\n",
       "│ ---      ┆ ---     ┆ ---         ┆ ---            ┆ ---            ┆ ---  ┆ ---      ┆ ---       │\n",
       "│ str      ┆ str     ┆ date        ┆ str            ┆ str            ┆ str  ┆ i64      ┆ str       │\n",
       "╞══════════╪═════════╪═════════════╪════════════════╪════════════════╪══════╪══════════╪═══════════╡\n",
       "│ RCONA573 ┆ 1000052 ┆ 2023-06-30  ┆ CI_1000052_202 ┆ www.ffiec.gov/ ┆ USD  ┆ 0        ┆ 145046000 │\n",
       "│          ┆         ┆             ┆ 3-06-30        ┆ xbrl/call/conc ┆      ┆          ┆           │\n",
       "│          ┆         ┆             ┆                ┆ epts           ┆      ┆          ┆           │\n",
       "│ RIAD4356 ┆ 1000052 ┆ 2023-06-30  ┆ CD_1000052_202 ┆ www.ffiec.gov/ ┆ USD  ┆ 0        ┆ 0         │\n",
       "│          ┆         ┆             ┆ 3-06-30        ┆ xbrl/call/conc ┆      ┆          ┆           │\n",
       "│          ┆         ┆             ┆                ┆ epts           ┆      ┆          ┆           │\n",
       "│ RCONA571 ┆ 1000052 ┆ 2023-06-30  ┆ CI_1000052_202 ┆ www.ffiec.gov/ ┆ USD  ┆ 0        ┆ 51634000  │\n",
       "│          ┆         ┆             ┆ 3-06-30        ┆ xbrl/call/conc ┆      ┆          ┆           │\n",
       "│          ┆         ┆             ┆                ┆ epts           ┆      ┆          ┆           │\n",
       "│ RCONA570 ┆ 1000052 ┆ 2023-06-30  ┆ CI_1000052_202 ┆ www.ffiec.gov/ ┆ USD  ┆ 0        ┆ 76364000  │\n",
       "│          ┆         ┆             ┆ 3-06-30        ┆ xbrl/call/conc ┆      ┆          ┆           │\n",
       "│          ┆         ┆             ┆                ┆ epts           ┆      ┆          ┆           │\n",
       "│ RCONS498 ┆ 1000052 ┆ 2023-06-30  ┆ CI_1000052_202 ┆ www.ffiec.gov/ ┆ USD  ┆ 0        ┆ 0         │\n",
       "│          ┆         ┆             ┆ 3-06-30        ┆ xbrl/call/conc ┆      ┆          ┆           │\n",
       "│          ┆         ┆             ┆                ┆ epts           ┆      ┆          ┆           │\n",
       "└──────────┴─────────┴─────────────┴────────────────┴────────────────┴──────┴──────────┴───────────┘"
      ]
     },
     "execution_count": 9,
     "metadata": {},
     "output_type": "execute_result"
    }
   ],
   "source": [
    "lake.get(path).head()"
   ]
  },
  {
   "cell_type": "code",
   "execution_count": 13,
   "metadata": {},
   "outputs": [],
   "source": [
    "keys = lake.list_objects('machinesp-datasets/test/banks/call_reports/raw')"
   ]
  },
  {
   "cell_type": "code",
   "execution_count": 19,
   "metadata": {},
   "outputs": [
    {
     "data": {
      "text/plain": [
       "['test/banks/call_reports/raw/20200331/data.parquet',\n",
       " 'test/banks/call_reports/raw/20210331/data.parquet',\n",
       " 'test/banks/call_reports/raw/20230630/data.parquet']"
      ]
     },
     "execution_count": 19,
     "metadata": {},
     "output_type": "execute_result"
    }
   ],
   "source": [
    "keys"
   ]
  },
  {
   "cell_type": "code",
   "execution_count": 6,
   "metadata": {},
   "outputs": [
    {
     "data": {
      "text/plain": [
       "'machinesp-datasets/test/banks/call_reports/raw/20230630/data.parquet'"
      ]
     },
     "execution_count": 6,
     "metadata": {},
     "output_type": "execute_result"
    }
   ],
   "source": [
    "lake.most_recent('machinesp-datasets/test/banks/call_reports/raw')"
   ]
  },
  {
   "cell_type": "markdown",
   "metadata": {},
   "source": [
    "#### Testing put"
   ]
  },
  {
   "cell_type": "code",
   "execution_count": 12,
   "metadata": {},
   "outputs": [],
   "source": [
    "d = {'col1': [1, 2], 'col2': [3, 4]}\n",
    "df = pl.DataFrame(data=d)\n",
    "lake.put('machinesp-datasets/pytest/example1', df)"
   ]
  },
  {
   "cell_type": "code",
   "execution_count": 13,
   "metadata": {},
   "outputs": [
    {
     "data": {
      "text/plain": [
       "['machinesp-datasets/pytest/example1/data.parquet']"
      ]
     },
     "execution_count": 13,
     "metadata": {},
     "output_type": "execute_result"
    }
   ],
   "source": [
    "lake.list_objects('machinesp-datasets/pytest')"
   ]
  },
  {
   "cell_type": "code",
   "execution_count": 14,
   "metadata": {},
   "outputs": [
    {
     "data": {
      "text/html": [
       "<div><style>\n",
       ".dataframe > thead > tr > th,\n",
       ".dataframe > tbody > tr > td {\n",
       "  text-align: right;\n",
       "}\n",
       "</style>\n",
       "<small>shape: (2, 2)</small><table border=\"1\" class=\"dataframe\"><thead><tr><th>col1</th><th>col2</th></tr><tr><td>i64</td><td>i64</td></tr></thead><tbody><tr><td>1</td><td>3</td></tr><tr><td>2</td><td>4</td></tr></tbody></table></div>"
      ],
      "text/plain": [
       "shape: (2, 2)\n",
       "┌──────┬──────┐\n",
       "│ col1 ┆ col2 │\n",
       "│ ---  ┆ ---  │\n",
       "│ i64  ┆ i64  │\n",
       "╞══════╪══════╡\n",
       "│ 1    ┆ 3    │\n",
       "│ 2    ┆ 4    │\n",
       "└──────┴──────┘"
      ]
     },
     "execution_count": 14,
     "metadata": {},
     "output_type": "execute_result"
    }
   ],
   "source": [
    "lake.get('machinesp-datasets/pytest/example1')"
   ]
  },
  {
   "cell_type": "code",
   "execution_count": 16,
   "metadata": {},
   "outputs": [],
   "source": [
    "lake.put('machinesp-datasets/pytest/json_example', d)"
   ]
  },
  {
   "cell_type": "code",
   "execution_count": 17,
   "metadata": {},
   "outputs": [
    {
     "data": {
      "text/plain": [
       "{'col1': [1, 2], 'col2': [3, 4]}"
      ]
     },
     "execution_count": 17,
     "metadata": {},
     "output_type": "execute_result"
    }
   ],
   "source": [
    "lake.get('machinesp-datasets/pytest/json_example')"
   ]
  },
  {
   "cell_type": "code",
   "execution_count": 6,
   "metadata": {},
   "outputs": [
    {
     "data": {
      "text/plain": [
       "{'saved': '20231101', 'foo': 'bar'}"
      ]
     },
     "execution_count": 6,
     "metadata": {},
     "output_type": "execute_result"
    }
   ],
   "source": [
    "lake.s3.update_metadata('pytest/example1/data.parquet', {'saved': '20231101'})\n",
    "lake.s3.fetch_metadata('pytest/example1/data.parquet')"
   ]
  },
  {
   "cell_type": "code",
   "execution_count": 1,
   "metadata": {},
   "outputs": [],
   "source": [
    "from lakeinterface.logger import add_cloudwatch_handler, add_stream_handler\n",
    "import logging\n",
    "import json\n",
    "import watchtower\n",
    "\n",
    "from pythonjsonlogger import jsonlogger\n",
    "import boto3"
   ]
  },
  {
   "cell_type": "code",
   "execution_count": 2,
   "metadata": {},
   "outputs": [],
   "source": [
    "logger = logging.getLogger('machinesp-test')"
   ]
  },
  {
   "cell_type": "code",
   "execution_count": 3,
   "metadata": {},
   "outputs": [],
   "source": [
    "def clear_all_handlers(logger_name):\n",
    "    logger = logging.getLogger(logger_name)\n",
    "    while len(logger.handlers)>0:\n",
    "        logger.removeHandler(logger.handlers[0])\n"
   ]
  },
  {
   "cell_type": "code",
   "execution_count": 4,
   "metadata": {},
   "outputs": [],
   "source": [
    "clear_all_handlers('machinesp-test')"
   ]
  },
  {
   "cell_type": "code",
   "execution_count": 5,
   "metadata": {},
   "outputs": [],
   "source": [
    "import logging\n",
    "import watchtower\n",
    "\n",
    "from pythonjsonlogger import jsonlogger\n",
    "import boto3\n",
    "\n",
    "def _boto_filter(record):\n",
    "    # Filter log messages from botocore and its dependency, urllib3, in watchtower handler for CloudWatch.\n",
    "    # This is required to avoid an infinite loop when shutting down.\n",
    "    if record.name.startswith(\"botocore\"):\n",
    "        return False\n",
    "    if record.name.startswith(\"urllib3\"):\n",
    "        return False\n",
    "    return True\n",
    "\n",
    "\n",
    "wtower_handler = watchtower.CloudWatchLogHandler(\n",
    "    log_group_name='machinesp/test',\n",
    "    log_stream_name='json_lake_tester',\n",
    "    send_interval=5,\n",
    "    create_log_group=False,\n",
    "    boto3_profile_name='personal'\n",
    ")\n",
    "\n",
    "logger.addFilter(_boto_filter)\n",
    "\n",
    "formatter = jsonlogger.JsonFormatter()\n",
    "\n",
    "wtower_handler.setFormatter(formatter)\n",
    "logger.addHandler(wtower_handler)\n",
    "\n",
    "logger.setLevel(logging.DEBUG)"
   ]
  },
  {
   "cell_type": "code",
   "execution_count": 13,
   "metadata": {},
   "outputs": [],
   "source": [
    "logger.info('test message', extra={'foo': 'bar', 'tag': 'test2'})"
   ]
  },
  {
   "cell_type": "code",
   "execution_count": 17,
   "metadata": {},
   "outputs": [],
   "source": [
    "logger.info('test message', extra={'foo': 'bar', 'tag': 'test2'})\n",
    "logger.info({'a': 'foo', 'tag': 'test2', 'b': 'bar'})"
   ]
  },
  {
   "cell_type": "code",
   "execution_count": 14,
   "metadata": {},
   "outputs": [],
   "source": [
    "client = boto3.client('logs')"
   ]
  },
  {
   "cell_type": "code",
   "execution_count": 18,
   "metadata": {},
   "outputs": [],
   "source": [
    "client = boto3.client('logs')\n",
    "\n",
    "response = client.filter_log_events(\n",
    "    logGroupName='machinesp/test',\n",
    "    logStreamNames=['json_lake_tester'],\n",
    "    filterPattern='{$.tag=\"test2\"}'\n",
    ")"
   ]
  },
  {
   "cell_type": "code",
   "execution_count": 20,
   "metadata": {},
   "outputs": [
    {
     "data": {
      "text/plain": [
       "[{'logStreamName': 'json_lake_tester',\n",
       "  'timestamp': 1709390447232,\n",
       "  'message': '{\"message\": \"test message\", \"foo\": \"bar\", \"tag\": \"test2\"}',\n",
       "  'ingestionTime': 1709390452141,\n",
       "  'eventId': '38120680808523138523223916546780937155534035796132233216'},\n",
       " {'logStreamName': 'json_lake_tester',\n",
       "  'timestamp': 1709398127212,\n",
       "  'message': '{\"message\": \"\", \"a\": \"foo\", \"tag\": \"test2\", \"b\": \"bar\"}',\n",
       "  'ingestionTime': 1709398132285,\n",
       "  'eventId': '38120852077800248334439040362990969515684461698837446656'}]"
      ]
     },
     "execution_count": 20,
     "metadata": {},
     "output_type": "execute_result"
    }
   ],
   "source": [
    "response['events']"
   ]
  },
  {
   "cell_type": "code",
   "execution_count": 7,
   "metadata": {},
   "outputs": [],
   "source": [
    "logger.debug('test message 2', extra={'foo':'bar'})"
   ]
  },
  {
   "cell_type": "code",
   "execution_count": 2,
   "metadata": {},
   "outputs": [],
   "source": [
    "CLOUDWATCH_LOG_HANDLER = {\n",
    "    'handler_type': 'cloudwatch', \n",
    "    'log_group_name': 'machinesp/test', \n",
    "    'log_stream_name': 'lake_tester', \n",
    "    'level': logging.DEBUG, \n",
    "    'format': '%(levelname)s - %(message)s',\n",
    "    'aws_profile_name': 'personal'\n",
    "}\n",
    "\n",
    "CONSOLE_LOG_HANDLER = {\n",
    "    'handler_type': 'stream', \n",
    "    'level': logging.INFO, \n",
    "    'format': '%(name)s - %(levelname)s - %(message)s'\n",
    "}\n",
    "\n",
    "\n",
    "add_stream_handler('machinesp-test', CONSOLE_LOG_HANDLER)\n",
    "add_cloudwatch_handler('machinesp-test', CLOUDWATCH_LOG_HANDLER)"
   ]
  },
  {
   "cell_type": "code",
   "execution_count": 3,
   "metadata": {},
   "outputs": [],
   "source": [
    "logger = logging.getLogger('machinesp-test')\n",
    "logger.setLevel(logging.DEBUG)"
   ]
  },
  {
   "cell_type": "code",
   "execution_count": 13,
   "metadata": {},
   "outputs": [],
   "source": [
    "logger.setLevel(0)"
   ]
  },
  {
   "cell_type": "code",
   "execution_count": 14,
   "metadata": {},
   "outputs": [],
   "source": [
    "logger.debug('this is debug')"
   ]
  },
  {
   "cell_type": "code",
   "execution_count": 2,
   "metadata": {},
   "outputs": [
    {
     "name": "stderr",
     "output_type": "stream",
     "text": [
      "2024-03-01 21:46:50,017 192.168.0.1     fbloggs  Protocol problem: connection reset\n"
     ]
    }
   ],
   "source": [
    "import logging, watchtower\n",
    "FORMAT = '%(asctime)s %(clientip)-15s %(user)-8s %(message)s'\n",
    "logging.basicConfig(format=FORMAT)\n",
    "d = {'clientip': '192.168.0.1', 'user': 'fbloggs'}\n",
    "logger = logging.getLogger('tcpserver')\n",
    "logger.warning('Protocol problem: %s', 'connection reset', extra=d)\n"
   ]
  },
  {
   "cell_type": "code",
   "execution_count": 8,
   "metadata": {},
   "outputs": [],
   "source": [
    "d = {'clientip': '192.168.0.1', 'user': 'fbloggs'}\n",
    "\n",
    "wtower_handler = watchtower.CloudWatchLogHandler(\n",
    "    log_group_name=CLOUDWATCH_LOG_HANDLER.get('log_group_name'),\n",
    "    log_stream_name=CLOUDWATCH_LOG_HANDLER.get('log_stream_name'),\n",
    "    send_interval=10,\n",
    "    create_log_group=False,\n",
    "    boto3_profile_name=CLOUDWATCH_LOG_HANDLER.get('aws_profile_name')\n",
    ")\n",
    "wtower_handler.setLevel(CLOUDWATCH_LOG_HANDLER.get('level'))\n",
    "#logger.addFilter(_boto_filter)\n",
    "\n",
    "w_format = logging.Formatter(CLOUDWATCH_LOG_HANDLER.get('format'))\n",
    "wtower_handler.setFormatter(w_format)\n",
    "logger.addHandler(wtower_handler)"
   ]
  },
  {
   "cell_type": "code",
   "execution_count": 9,
   "metadata": {},
   "outputs": [
    {
     "name": "stderr",
     "output_type": "stream",
     "text": [
      "2024-03-01 21:49:12,701 192.168.0.1     fbloggs  test message\n"
     ]
    }
   ],
   "source": [
    "logger.error('test message', extra = {'clientip': '192.168.0.1', 'user': 'fbloggs'})"
   ]
  },
  {
   "cell_type": "code",
   "execution_count": 20,
   "metadata": {},
   "outputs": [
    {
     "name": "stderr",
     "output_type": "stream",
     "text": [
      "machinesp-test - WARNING - [{\"bar\": \"foo\"}, {\"bar\": \"celona\"}]\n"
     ]
    }
   ],
   "source": [
    "#json.dumps{'bar':'foo'}\n",
    "logger.warning(json.dumps(\n",
    "    [{'bar':'foo'},\n",
    "    {'bar': 'celona'}]\n",
    "))"
   ]
  },
  {
   "cell_type": "code",
   "execution_count": null,
   "metadata": {},
   "outputs": [],
   "source": []
  }
 ],
 "metadata": {
  "kernelspec": {
   "display_name": "lakeinterface-IOKJtR1A-py3.11",
   "language": "python",
   "name": "python3"
  },
  "language_info": {
   "codemirror_mode": {
    "name": "ipython",
    "version": 3
   },
   "file_extension": ".py",
   "mimetype": "text/x-python",
   "name": "python",
   "nbconvert_exporter": "python",
   "pygments_lexer": "ipython3",
   "version": "3.11.8"
  }
 },
 "nbformat": 4,
 "nbformat_minor": 2
}
