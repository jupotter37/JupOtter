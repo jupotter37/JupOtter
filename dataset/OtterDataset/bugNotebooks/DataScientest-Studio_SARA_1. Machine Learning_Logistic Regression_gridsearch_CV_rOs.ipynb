{
 "cells": [
  {
   "cell_type": "markdown",
   "id": "17a8dfa4",
   "metadata": {},
   "source": [
    "# LogisticRegression avec recherche des hyperparamètres optimaux (GridSearch), Cross Validation et Random Oversampling."
   ]
  },
  {
   "cell_type": "markdown",
   "id": "8e4b301e",
   "metadata": {},
   "source": [
    "## 1ère partie : Régression Logistique sans rééchantillonage"
   ]
  },
  {
   "cell_type": "markdown",
   "id": "35dbe2fc",
   "metadata": {},
   "source": [
    "##  Import des bibliothèques nécessaires"
   ]
  },
  {
   "cell_type": "code",
   "execution_count": 2,
   "id": "15cf0890",
   "metadata": {},
   "outputs": [],
   "source": [
    "import pandas as pd;\n",
    "import numpy as np\n",
    "from sklearn import linear_model\n",
    "from sklearn import preprocessing\n",
    "from sklearn.model_selection import train_test_split\n",
    "from sklearn.preprocessing import LabelEncoder\n",
    "\n",
    "from imblearn.metrics import geometric_mean_score \n",
    "from sklearn.metrics import f1_score, accuracy_score\n",
    "from sklearn.metrics import balanced_accuracy_score\n",
    "from sklearn.metrics import classification_report\n",
    "from sklearn.metrics import confusion_matrix\n",
    "\n",
    "import seaborn as sns\n",
    "import matplotlib.pyplot as plt\n",
    "%matplotlib inline"
   ]
  },
  {
   "cell_type": "code",
   "execution_count": 3,
   "id": "c5c179ed",
   "metadata": {},
   "outputs": [
    {
     "name": "stdout",
     "output_type": "stream",
     "text": [
      "Requirement already satisfied: missingno in c:\\users\\clevr\\anaconda3\\lib\\site-packages (0.5.2)\n",
      "Requirement already satisfied: scipy in c:\\users\\clevr\\anaconda3\\lib\\site-packages (from missingno) (1.9.1)\n",
      "Requirement already satisfied: seaborn in c:\\users\\clevr\\anaconda3\\lib\\site-packages (from missingno) (0.11.2)\n",
      "Requirement already satisfied: matplotlib in c:\\users\\clevr\\anaconda3\\lib\\site-packages (from missingno) (3.5.2)\n",
      "Requirement already satisfied: numpy in c:\\users\\clevr\\anaconda3\\lib\\site-packages (from missingno) (1.21.5)\n",
      "Requirement already satisfied: cycler>=0.10 in c:\\users\\clevr\\anaconda3\\lib\\site-packages (from matplotlib->missingno) (0.11.0)\n",
      "Requirement already satisfied: kiwisolver>=1.0.1 in c:\\users\\clevr\\anaconda3\\lib\\site-packages (from matplotlib->missingno) (1.4.2)\n",
      "Requirement already satisfied: python-dateutil>=2.7 in c:\\users\\clevr\\anaconda3\\lib\\site-packages (from matplotlib->missingno) (2.8.2)\n",
      "Requirement already satisfied: fonttools>=4.22.0 in c:\\users\\clevr\\anaconda3\\lib\\site-packages (from matplotlib->missingno) (4.25.0)\n",
      "Requirement already satisfied: pyparsing>=2.2.1 in c:\\users\\clevr\\anaconda3\\lib\\site-packages (from matplotlib->missingno) (3.0.9)\n",
      "Requirement already satisfied: packaging>=20.0 in c:\\users\\clevr\\anaconda3\\lib\\site-packages (from matplotlib->missingno) (21.3)\n",
      "Requirement already satisfied: pillow>=6.2.0 in c:\\users\\clevr\\anaconda3\\lib\\site-packages (from matplotlib->missingno) (9.2.0)\n",
      "Requirement already satisfied: pandas>=0.23 in c:\\users\\clevr\\anaconda3\\lib\\site-packages (from seaborn->missingno) (1.4.4)\n",
      "Requirement already satisfied: pytz>=2020.1 in c:\\users\\clevr\\anaconda3\\lib\\site-packages (from pandas>=0.23->seaborn->missingno) (2022.1)\n",
      "Requirement already satisfied: six>=1.5 in c:\\users\\clevr\\anaconda3\\lib\\site-packages (from python-dateutil>=2.7->matplotlib->missingno) (1.16.0)\n",
      "Note: you may need to restart the kernel to use updated packages.\n"
     ]
    }
   ],
   "source": [
    "pip install missingno"
   ]
  },
  {
   "cell_type": "markdown",
   "id": "08fb00a3",
   "metadata": {},
   "source": [
    "## import missingno as msno"
   ]
  },
  {
   "cell_type": "code",
   "execution_count": 4,
   "id": "26271865",
   "metadata": {},
   "outputs": [],
   "source": [
    "\"\"\"\n",
    "L'utilisation du dtype \"catégorie\" est un excellent moyen d'économiser de la mémoire et d'améliorer les performances. \n",
    "La spécification des dtypes réduira la quantité de mémoire nécessaire au chargement de l'ensemble de données. \n",
    "C'est très utile lorsque l'on a de grands ensembles de données.\n",
    "\n",
    "Création d'un dictionnaire avec les noms des colonnes comme clés et \"catégorie\" comme valeurs\n",
    "\n",
    "\"\"\"\n",
    "\n",
    "df_dtypes = {\n",
    "  \"catr\"       :\"category\", \n",
    "  \"circ\"       :\"category\", \n",
    "  \"prof\"       :\"category\",\n",
    "  \"plan\"       :\"category\",\n",
    "  \"surf\"       :\"category\",\n",
    "  \"situ\"       :\"category\",\n",
    "  \"lum\"        :\"category\",\n",
    "  \"agg\"        :\"category\",\n",
    "  \"int\"        :\"category\",\n",
    "  \"atm\"        :\"category\",\n",
    "  \"col\"        :\"category\",\n",
    "  \"infra\"      :\"category\",\n",
    "  \"obs\"        :\"category\",\n",
    "  \"obsm\"       :\"category\",\n",
    "  \"choc\"       :\"category\",\n",
    "  \"manv\"       :\"category\",\n",
    "  \"num_veh\"    :\"category\",\n",
    "  \"catv_Label\" :\"category\",\n",
    "  \"catu\"       :\"category\",\n",
    "  \"sexe\"       :\"category\",\n",
    "  \"trajet\"     :\"category\",\n",
    "  \"secuUn\"     :\"category\",\n",
    "  \"secuDeux\"   :\"category\",\n",
    "  \"tranches_ages\" :\"category\"\n",
    "  }\n",
    " "
   ]
  },
  {
   "cell_type": "markdown",
   "id": "8176703d",
   "metadata": {},
   "source": [
    "## Read in the CSV using the dtypes parameter"
   ]
  },
  {
   "cell_type": "code",
   "execution_count": 5,
   "id": "69d5f89d",
   "metadata": {},
   "outputs": [
    {
     "data": {
      "text/html": [
       "<div>\n",
       "<style scoped>\n",
       "    .dataframe tbody tr th:only-of-type {\n",
       "        vertical-align: middle;\n",
       "    }\n",
       "\n",
       "    .dataframe tbody tr th {\n",
       "        vertical-align: top;\n",
       "    }\n",
       "\n",
       "    .dataframe thead th {\n",
       "        text-align: right;\n",
       "    }\n",
       "</style>\n",
       "<table border=\"1\" class=\"dataframe\">\n",
       "  <thead>\n",
       "    <tr style=\"text-align: right;\">\n",
       "      <th></th>\n",
       "      <th>Unnamed: 0</th>\n",
       "      <th>num_acc</th>\n",
       "      <th>mois</th>\n",
       "      <th>jour</th>\n",
       "      <th>lum</th>\n",
       "      <th>agg</th>\n",
       "      <th>int</th>\n",
       "      <th>atm</th>\n",
       "      <th>col</th>\n",
       "      <th>com</th>\n",
       "      <th>...</th>\n",
       "      <th>actp</th>\n",
       "      <th>etatp</th>\n",
       "      <th>an_nais</th>\n",
       "      <th>secuUn</th>\n",
       "      <th>secuDeux</th>\n",
       "      <th>an_naiss</th>\n",
       "      <th>age_acc</th>\n",
       "      <th>age_acc_seconds</th>\n",
       "      <th>age_acc_an</th>\n",
       "      <th>tranches_ages</th>\n",
       "    </tr>\n",
       "  </thead>\n",
       "  <tbody>\n",
       "    <tr>\n",
       "      <th>0</th>\n",
       "      <td>0</td>\n",
       "      <td>200500000001</td>\n",
       "      <td>1</td>\n",
       "      <td>12</td>\n",
       "      <td>Nuit sans éclairage public</td>\n",
       "      <td>En agglomération</td>\n",
       "      <td>Hors intersection</td>\n",
       "      <td>Normale</td>\n",
       "      <td>Deux véhicules – par le coté</td>\n",
       "      <td>11</td>\n",
       "      <td>...</td>\n",
       "      <td>0</td>\n",
       "      <td>Non renseigné</td>\n",
       "      <td>1976-01-01</td>\n",
       "      <td>Ceinture</td>\n",
       "      <td>Ceinture</td>\n",
       "      <td>1976-01-01</td>\n",
       "      <td>10593 days</td>\n",
       "      <td>9.152352e+08</td>\n",
       "      <td>29.021918</td>\n",
       "      <td>23-31</td>\n",
       "    </tr>\n",
       "    <tr>\n",
       "      <th>1</th>\n",
       "      <td>1</td>\n",
       "      <td>200500000001</td>\n",
       "      <td>1</td>\n",
       "      <td>12</td>\n",
       "      <td>Nuit sans éclairage public</td>\n",
       "      <td>En agglomération</td>\n",
       "      <td>Hors intersection</td>\n",
       "      <td>Normale</td>\n",
       "      <td>Deux véhicules – par le coté</td>\n",
       "      <td>11</td>\n",
       "      <td>...</td>\n",
       "      <td>0</td>\n",
       "      <td>Non renseigné</td>\n",
       "      <td>1968-01-01</td>\n",
       "      <td>Ceinture</td>\n",
       "      <td>Ceinture</td>\n",
       "      <td>1968-01-01</td>\n",
       "      <td>13515 days</td>\n",
       "      <td>1.167696e+09</td>\n",
       "      <td>37.027397</td>\n",
       "      <td>32-40</td>\n",
       "    </tr>\n",
       "    <tr>\n",
       "      <th>2</th>\n",
       "      <td>2</td>\n",
       "      <td>200500000001</td>\n",
       "      <td>1</td>\n",
       "      <td>12</td>\n",
       "      <td>Nuit sans éclairage public</td>\n",
       "      <td>En agglomération</td>\n",
       "      <td>Hors intersection</td>\n",
       "      <td>Normale</td>\n",
       "      <td>Deux véhicules – par le coté</td>\n",
       "      <td>11</td>\n",
       "      <td>...</td>\n",
       "      <td>0</td>\n",
       "      <td>Non renseigné</td>\n",
       "      <td>1964-01-01</td>\n",
       "      <td>Ceinture</td>\n",
       "      <td>Ceinture</td>\n",
       "      <td>1964-01-01</td>\n",
       "      <td>14976 days</td>\n",
       "      <td>1.293926e+09</td>\n",
       "      <td>41.030137</td>\n",
       "      <td>41-50</td>\n",
       "    </tr>\n",
       "    <tr>\n",
       "      <th>3</th>\n",
       "      <td>3</td>\n",
       "      <td>200500000001</td>\n",
       "      <td>1</td>\n",
       "      <td>12</td>\n",
       "      <td>Nuit sans éclairage public</td>\n",
       "      <td>En agglomération</td>\n",
       "      <td>Hors intersection</td>\n",
       "      <td>Normale</td>\n",
       "      <td>Deux véhicules – par le coté</td>\n",
       "      <td>11</td>\n",
       "      <td>...</td>\n",
       "      <td>0</td>\n",
       "      <td>Non renseigné</td>\n",
       "      <td>2004-01-01</td>\n",
       "      <td>Dispositif enfants</td>\n",
       "      <td>Ceinture</td>\n",
       "      <td>2004-01-01</td>\n",
       "      <td>366 days</td>\n",
       "      <td>3.162240e+07</td>\n",
       "      <td>1.002740</td>\n",
       "      <td>0-11</td>\n",
       "    </tr>\n",
       "    <tr>\n",
       "      <th>4</th>\n",
       "      <td>4</td>\n",
       "      <td>200500000001</td>\n",
       "      <td>1</td>\n",
       "      <td>12</td>\n",
       "      <td>Nuit sans éclairage public</td>\n",
       "      <td>En agglomération</td>\n",
       "      <td>Hors intersection</td>\n",
       "      <td>Normale</td>\n",
       "      <td>Deux véhicules – par le coté</td>\n",
       "      <td>11</td>\n",
       "      <td>...</td>\n",
       "      <td>0</td>\n",
       "      <td>Non renseigné</td>\n",
       "      <td>1998-01-01</td>\n",
       "      <td>Ceinture</td>\n",
       "      <td>Ceinture</td>\n",
       "      <td>1998-01-01</td>\n",
       "      <td>2557 days</td>\n",
       "      <td>2.209248e+08</td>\n",
       "      <td>7.005479</td>\n",
       "      <td>0-11</td>\n",
       "    </tr>\n",
       "    <tr>\n",
       "      <th>5</th>\n",
       "      <td>5</td>\n",
       "      <td>200500000001</td>\n",
       "      <td>1</td>\n",
       "      <td>12</td>\n",
       "      <td>Nuit sans éclairage public</td>\n",
       "      <td>En agglomération</td>\n",
       "      <td>Hors intersection</td>\n",
       "      <td>Normale</td>\n",
       "      <td>Deux véhicules – par le coté</td>\n",
       "      <td>11</td>\n",
       "      <td>...</td>\n",
       "      <td>0</td>\n",
       "      <td>Non renseigné</td>\n",
       "      <td>1991-01-01</td>\n",
       "      <td>Ceinture</td>\n",
       "      <td>Ceinture</td>\n",
       "      <td>1991-01-01</td>\n",
       "      <td>5114 days</td>\n",
       "      <td>4.418496e+08</td>\n",
       "      <td>14.010959</td>\n",
       "      <td>12-22</td>\n",
       "    </tr>\n",
       "    <tr>\n",
       "      <th>6</th>\n",
       "      <td>6</td>\n",
       "      <td>200500000002</td>\n",
       "      <td>1</td>\n",
       "      <td>21</td>\n",
       "      <td>Plein jour</td>\n",
       "      <td>En agglomération</td>\n",
       "      <td>Hors intersection</td>\n",
       "      <td>Normale</td>\n",
       "      <td>Deux véhicules - frontale</td>\n",
       "      <td>51</td>\n",
       "      <td>...</td>\n",
       "      <td>0</td>\n",
       "      <td>Non renseigné</td>\n",
       "      <td>1955-01-01</td>\n",
       "      <td>Ceinture</td>\n",
       "      <td>Ceinture</td>\n",
       "      <td>1955-01-01</td>\n",
       "      <td>18263 days</td>\n",
       "      <td>1.577923e+09</td>\n",
       "      <td>50.035616</td>\n",
       "      <td>50+</td>\n",
       "    </tr>\n",
       "    <tr>\n",
       "      <th>7</th>\n",
       "      <td>7</td>\n",
       "      <td>200500000002</td>\n",
       "      <td>1</td>\n",
       "      <td>21</td>\n",
       "      <td>Plein jour</td>\n",
       "      <td>En agglomération</td>\n",
       "      <td>Hors intersection</td>\n",
       "      <td>Normale</td>\n",
       "      <td>Deux véhicules - frontale</td>\n",
       "      <td>51</td>\n",
       "      <td>...</td>\n",
       "      <td>0</td>\n",
       "      <td>Non renseigné</td>\n",
       "      <td>1979-01-01</td>\n",
       "      <td>Casque</td>\n",
       "      <td>Ceinture</td>\n",
       "      <td>1979-01-01</td>\n",
       "      <td>9497 days</td>\n",
       "      <td>8.205408e+08</td>\n",
       "      <td>26.019178</td>\n",
       "      <td>23-31</td>\n",
       "    </tr>\n",
       "    <tr>\n",
       "      <th>8</th>\n",
       "      <td>8</td>\n",
       "      <td>200500000003</td>\n",
       "      <td>1</td>\n",
       "      <td>21</td>\n",
       "      <td>Nuit sans éclairage public</td>\n",
       "      <td>Hors agglomération</td>\n",
       "      <td>Hors intersection</td>\n",
       "      <td>Pluie légère</td>\n",
       "      <td>Deux véhicules - frontale</td>\n",
       "      <td>51</td>\n",
       "      <td>...</td>\n",
       "      <td>0</td>\n",
       "      <td>Non renseigné</td>\n",
       "      <td>1983-01-01</td>\n",
       "      <td>Casque</td>\n",
       "      <td>Ceinture</td>\n",
       "      <td>1983-01-01</td>\n",
       "      <td>8036 days</td>\n",
       "      <td>6.943104e+08</td>\n",
       "      <td>22.016438</td>\n",
       "      <td>12-22</td>\n",
       "    </tr>\n",
       "    <tr>\n",
       "      <th>9</th>\n",
       "      <td>9</td>\n",
       "      <td>200500000003</td>\n",
       "      <td>1</td>\n",
       "      <td>21</td>\n",
       "      <td>Nuit sans éclairage public</td>\n",
       "      <td>Hors agglomération</td>\n",
       "      <td>Hors intersection</td>\n",
       "      <td>Pluie légère</td>\n",
       "      <td>Deux véhicules - frontale</td>\n",
       "      <td>51</td>\n",
       "      <td>...</td>\n",
       "      <td>0</td>\n",
       "      <td>Non renseigné</td>\n",
       "      <td>1956-01-01</td>\n",
       "      <td>Casque</td>\n",
       "      <td>Ceinture</td>\n",
       "      <td>1956-01-01</td>\n",
       "      <td>17898 days</td>\n",
       "      <td>1.546387e+09</td>\n",
       "      <td>49.035616</td>\n",
       "      <td>41-50</td>\n",
       "    </tr>\n",
       "  </tbody>\n",
       "</table>\n",
       "<p>10 rows × 48 columns</p>\n",
       "</div>"
      ],
      "text/plain": [
       "   Unnamed: 0       num_acc  mois  jour                         lum  \\\n",
       "0           0  200500000001     1    12  Nuit sans éclairage public   \n",
       "1           1  200500000001     1    12  Nuit sans éclairage public   \n",
       "2           2  200500000001     1    12  Nuit sans éclairage public   \n",
       "3           3  200500000001     1    12  Nuit sans éclairage public   \n",
       "4           4  200500000001     1    12  Nuit sans éclairage public   \n",
       "5           5  200500000001     1    12  Nuit sans éclairage public   \n",
       "6           6  200500000002     1    21                  Plein jour   \n",
       "7           7  200500000002     1    21                  Plein jour   \n",
       "8           8  200500000003     1    21  Nuit sans éclairage public   \n",
       "9           9  200500000003     1    21  Nuit sans éclairage public   \n",
       "\n",
       "                  agg                int           atm  \\\n",
       "0    En agglomération  Hors intersection       Normale   \n",
       "1    En agglomération  Hors intersection       Normale   \n",
       "2    En agglomération  Hors intersection       Normale   \n",
       "3    En agglomération  Hors intersection       Normale   \n",
       "4    En agglomération  Hors intersection       Normale   \n",
       "5    En agglomération  Hors intersection       Normale   \n",
       "6    En agglomération  Hors intersection       Normale   \n",
       "7    En agglomération  Hors intersection       Normale   \n",
       "8  Hors agglomération  Hors intersection  Pluie légère   \n",
       "9  Hors agglomération  Hors intersection  Pluie légère   \n",
       "\n",
       "                            col com  ... actp          etatp     an_nais  \\\n",
       "0  Deux véhicules – par le coté  11  ...    0  Non renseigné  1976-01-01   \n",
       "1  Deux véhicules – par le coté  11  ...    0  Non renseigné  1968-01-01   \n",
       "2  Deux véhicules – par le coté  11  ...    0  Non renseigné  1964-01-01   \n",
       "3  Deux véhicules – par le coté  11  ...    0  Non renseigné  2004-01-01   \n",
       "4  Deux véhicules – par le coté  11  ...    0  Non renseigné  1998-01-01   \n",
       "5  Deux véhicules – par le coté  11  ...    0  Non renseigné  1991-01-01   \n",
       "6     Deux véhicules - frontale  51  ...    0  Non renseigné  1955-01-01   \n",
       "7     Deux véhicules - frontale  51  ...    0  Non renseigné  1979-01-01   \n",
       "8     Deux véhicules - frontale  51  ...    0  Non renseigné  1983-01-01   \n",
       "9     Deux véhicules - frontale  51  ...    0  Non renseigné  1956-01-01   \n",
       "\n",
       "               secuUn  secuDeux    an_naiss     age_acc  age_acc_seconds  \\\n",
       "0            Ceinture  Ceinture  1976-01-01  10593 days     9.152352e+08   \n",
       "1            Ceinture  Ceinture  1968-01-01  13515 days     1.167696e+09   \n",
       "2            Ceinture  Ceinture  1964-01-01  14976 days     1.293926e+09   \n",
       "3  Dispositif enfants  Ceinture  2004-01-01    366 days     3.162240e+07   \n",
       "4            Ceinture  Ceinture  1998-01-01   2557 days     2.209248e+08   \n",
       "5            Ceinture  Ceinture  1991-01-01   5114 days     4.418496e+08   \n",
       "6            Ceinture  Ceinture  1955-01-01  18263 days     1.577923e+09   \n",
       "7              Casque  Ceinture  1979-01-01   9497 days     8.205408e+08   \n",
       "8              Casque  Ceinture  1983-01-01   8036 days     6.943104e+08   \n",
       "9              Casque  Ceinture  1956-01-01  17898 days     1.546387e+09   \n",
       "\n",
       "  age_acc_an tranches_ages  \n",
       "0  29.021918         23-31  \n",
       "1  37.027397         32-40  \n",
       "2  41.030137         41-50  \n",
       "3   1.002740          0-11  \n",
       "4   7.005479          0-11  \n",
       "5  14.010959         12-22  \n",
       "6  50.035616           50+  \n",
       "7  26.019178         23-31  \n",
       "8  22.016438         12-22  \n",
       "9  49.035616         41-50  \n",
       "\n",
       "[10 rows x 48 columns]"
      ]
     },
     "execution_count": 5,
     "metadata": {},
     "output_type": "execute_result"
    }
   ],
   "source": [
    "df = pd.read_csv('../data/fusion_def_clean.csv', dtype=df_dtypes, low_memory=False)\n",
    "df.head(10)"
   ]
  },
  {
   "cell_type": "markdown",
   "id": "96e3c2ad",
   "metadata": {},
   "source": [
    "## Nombre de lignes et de colonnes dans le dataframe"
   ]
  },
  {
   "cell_type": "code",
   "execution_count": 6,
   "id": "8675762b",
   "metadata": {},
   "outputs": [
    {
     "data": {
      "text/plain": [
       "(2192779, 48)"
      ]
     },
     "execution_count": 6,
     "metadata": {},
     "output_type": "execute_result"
    }
   ],
   "source": [
    "df.shape"
   ]
  },
  {
   "cell_type": "markdown",
   "id": "9ccd6303",
   "metadata": {},
   "source": [
    "## Affichage des informations du DataFrame"
   ]
  },
  {
   "cell_type": "code",
   "execution_count": 7,
   "id": "d097bb4c",
   "metadata": {},
   "outputs": [
    {
     "name": "stdout",
     "output_type": "stream",
     "text": [
      "<class 'pandas.core.frame.DataFrame'>\n",
      "RangeIndex: 2192779 entries, 0 to 2192778\n",
      "Data columns (total 48 columns):\n",
      " #   Column              Dtype   \n",
      "---  ------              -----   \n",
      " 0   Unnamed: 0          int64   \n",
      " 1   num_acc             int64   \n",
      " 2   mois                int64   \n",
      " 3   jour                int64   \n",
      " 4   lum                 category\n",
      " 5   agg                 category\n",
      " 6   int                 category\n",
      " 7   atm                 category\n",
      " 8   col                 category\n",
      " 9   com                 object  \n",
      " 10  dep                 object  \n",
      " 11  annee_x_x           int64   \n",
      " 12  date                object  \n",
      " 13  jour_de_la_semaine  int64   \n",
      " 14  heure               int64   \n",
      " 15  catr                category\n",
      " 16  circ                category\n",
      " 17  nbv                 float64 \n",
      " 18  vosp                object  \n",
      " 19  prof                category\n",
      " 20  plan                category\n",
      " 21  surf                category\n",
      " 22  infra               category\n",
      " 23  situ                category\n",
      " 24  senc                object  \n",
      " 25  obs                 category\n",
      " 26  obsm                category\n",
      " 27  choc                category\n",
      " 28  manv                category\n",
      " 29  num_veh             category\n",
      " 30  catv_Label          category\n",
      " 31  permis              object  \n",
      " 32  place               float64 \n",
      " 33  catu                category\n",
      " 34  grav                object  \n",
      " 35  sexe                category\n",
      " 36  trajet              category\n",
      " 37  locp                object  \n",
      " 38  actp                object  \n",
      " 39  etatp               object  \n",
      " 40  an_nais             object  \n",
      " 41  secuUn              category\n",
      " 42  secuDeux            category\n",
      " 43  an_naiss            object  \n",
      " 44  age_acc             object  \n",
      " 45  age_acc_seconds     float64 \n",
      " 46  age_acc_an          float64 \n",
      " 47  tranches_ages       category\n",
      "dtypes: category(24), float64(4), int64(7), object(13)\n",
      "memory usage: 453.8+ MB\n"
     ]
    }
   ],
   "source": [
    "df.info()"
   ]
  },
  {
   "cell_type": "markdown",
   "id": "db389f6f",
   "metadata": {},
   "source": [
    "## Préparation des données - Suppression des colonnes inutiles  "
   ]
  },
  {
   "cell_type": "code",
   "execution_count": 8,
   "id": "47318021",
   "metadata": {},
   "outputs": [
    {
     "data": {
      "text/html": [
       "<div>\n",
       "<style scoped>\n",
       "    .dataframe tbody tr th:only-of-type {\n",
       "        vertical-align: middle;\n",
       "    }\n",
       "\n",
       "    .dataframe tbody tr th {\n",
       "        vertical-align: top;\n",
       "    }\n",
       "\n",
       "    .dataframe thead th {\n",
       "        text-align: right;\n",
       "    }\n",
       "</style>\n",
       "<table border=\"1\" class=\"dataframe\">\n",
       "  <thead>\n",
       "    <tr style=\"text-align: right;\">\n",
       "      <th></th>\n",
       "      <th>num_acc</th>\n",
       "      <th>mois</th>\n",
       "      <th>jour</th>\n",
       "      <th>lum</th>\n",
       "      <th>agg</th>\n",
       "      <th>int</th>\n",
       "      <th>atm</th>\n",
       "      <th>col</th>\n",
       "      <th>com</th>\n",
       "      <th>dep</th>\n",
       "      <th>...</th>\n",
       "      <th>num_veh</th>\n",
       "      <th>catv_Label</th>\n",
       "      <th>place</th>\n",
       "      <th>catu</th>\n",
       "      <th>grav</th>\n",
       "      <th>sexe</th>\n",
       "      <th>trajet</th>\n",
       "      <th>secuUn</th>\n",
       "      <th>secuDeux</th>\n",
       "      <th>tranches_ages</th>\n",
       "    </tr>\n",
       "  </thead>\n",
       "  <tbody>\n",
       "    <tr>\n",
       "      <th>0</th>\n",
       "      <td>200500000001</td>\n",
       "      <td>1</td>\n",
       "      <td>12</td>\n",
       "      <td>Nuit sans éclairage public</td>\n",
       "      <td>En agglomération</td>\n",
       "      <td>Hors intersection</td>\n",
       "      <td>Normale</td>\n",
       "      <td>Deux véhicules – par le coté</td>\n",
       "      <td>11</td>\n",
       "      <td>59</td>\n",
       "      <td>...</td>\n",
       "      <td>A01</td>\n",
       "      <td>Voitures légères (VL) seule</td>\n",
       "      <td>1.0</td>\n",
       "      <td>Conducteur</td>\n",
       "      <td>Blessé léger</td>\n",
       "      <td>Masculin</td>\n",
       "      <td>Domicile – travail</td>\n",
       "      <td>Ceinture</td>\n",
       "      <td>Ceinture</td>\n",
       "      <td>23-31</td>\n",
       "    </tr>\n",
       "    <tr>\n",
       "      <th>1</th>\n",
       "      <td>200500000001</td>\n",
       "      <td>1</td>\n",
       "      <td>12</td>\n",
       "      <td>Nuit sans éclairage public</td>\n",
       "      <td>En agglomération</td>\n",
       "      <td>Hors intersection</td>\n",
       "      <td>Normale</td>\n",
       "      <td>Deux véhicules – par le coté</td>\n",
       "      <td>11</td>\n",
       "      <td>59</td>\n",
       "      <td>...</td>\n",
       "      <td>B02</td>\n",
       "      <td>Voitures légères (VL) seule</td>\n",
       "      <td>1.0</td>\n",
       "      <td>Conducteur</td>\n",
       "      <td>Blessé hospitalisé</td>\n",
       "      <td>Féminin</td>\n",
       "      <td>Courses – achats</td>\n",
       "      <td>Ceinture</td>\n",
       "      <td>Ceinture</td>\n",
       "      <td>32-40</td>\n",
       "    </tr>\n",
       "    <tr>\n",
       "      <th>2</th>\n",
       "      <td>200500000001</td>\n",
       "      <td>1</td>\n",
       "      <td>12</td>\n",
       "      <td>Nuit sans éclairage public</td>\n",
       "      <td>En agglomération</td>\n",
       "      <td>Hors intersection</td>\n",
       "      <td>Normale</td>\n",
       "      <td>Deux véhicules – par le coté</td>\n",
       "      <td>11</td>\n",
       "      <td>59</td>\n",
       "      <td>...</td>\n",
       "      <td>B02</td>\n",
       "      <td>Voitures légères (VL) seule</td>\n",
       "      <td>2.0</td>\n",
       "      <td>Passager</td>\n",
       "      <td>Indemne</td>\n",
       "      <td>Masculin</td>\n",
       "      <td>Non renseigné</td>\n",
       "      <td>Ceinture</td>\n",
       "      <td>Ceinture</td>\n",
       "      <td>41-50</td>\n",
       "    </tr>\n",
       "    <tr>\n",
       "      <th>3</th>\n",
       "      <td>200500000001</td>\n",
       "      <td>1</td>\n",
       "      <td>12</td>\n",
       "      <td>Nuit sans éclairage public</td>\n",
       "      <td>En agglomération</td>\n",
       "      <td>Hors intersection</td>\n",
       "      <td>Normale</td>\n",
       "      <td>Deux véhicules – par le coté</td>\n",
       "      <td>11</td>\n",
       "      <td>59</td>\n",
       "      <td>...</td>\n",
       "      <td>B02</td>\n",
       "      <td>Voitures légères (VL) seule</td>\n",
       "      <td>4.0</td>\n",
       "      <td>Passager</td>\n",
       "      <td>Indemne</td>\n",
       "      <td>Masculin</td>\n",
       "      <td>Non renseigné</td>\n",
       "      <td>Dispositif enfants</td>\n",
       "      <td>Ceinture</td>\n",
       "      <td>0-11</td>\n",
       "    </tr>\n",
       "    <tr>\n",
       "      <th>4</th>\n",
       "      <td>200500000001</td>\n",
       "      <td>1</td>\n",
       "      <td>12</td>\n",
       "      <td>Nuit sans éclairage public</td>\n",
       "      <td>En agglomération</td>\n",
       "      <td>Hors intersection</td>\n",
       "      <td>Normale</td>\n",
       "      <td>Deux véhicules – par le coté</td>\n",
       "      <td>11</td>\n",
       "      <td>59</td>\n",
       "      <td>...</td>\n",
       "      <td>B02</td>\n",
       "      <td>Voitures légères (VL) seule</td>\n",
       "      <td>5.0</td>\n",
       "      <td>Passager</td>\n",
       "      <td>Indemne</td>\n",
       "      <td>Masculin</td>\n",
       "      <td>Non renseigné</td>\n",
       "      <td>Ceinture</td>\n",
       "      <td>Ceinture</td>\n",
       "      <td>0-11</td>\n",
       "    </tr>\n",
       "    <tr>\n",
       "      <th>5</th>\n",
       "      <td>200500000001</td>\n",
       "      <td>1</td>\n",
       "      <td>12</td>\n",
       "      <td>Nuit sans éclairage public</td>\n",
       "      <td>En agglomération</td>\n",
       "      <td>Hors intersection</td>\n",
       "      <td>Normale</td>\n",
       "      <td>Deux véhicules – par le coté</td>\n",
       "      <td>11</td>\n",
       "      <td>59</td>\n",
       "      <td>...</td>\n",
       "      <td>B02</td>\n",
       "      <td>Voitures légères (VL) seule</td>\n",
       "      <td>3.0</td>\n",
       "      <td>Passager</td>\n",
       "      <td>Indemne</td>\n",
       "      <td>Féminin</td>\n",
       "      <td>Non renseigné</td>\n",
       "      <td>Ceinture</td>\n",
       "      <td>Ceinture</td>\n",
       "      <td>12-22</td>\n",
       "    </tr>\n",
       "    <tr>\n",
       "      <th>6</th>\n",
       "      <td>200500000002</td>\n",
       "      <td>1</td>\n",
       "      <td>21</td>\n",
       "      <td>Plein jour</td>\n",
       "      <td>En agglomération</td>\n",
       "      <td>Hors intersection</td>\n",
       "      <td>Normale</td>\n",
       "      <td>Deux véhicules - frontale</td>\n",
       "      <td>51</td>\n",
       "      <td>59</td>\n",
       "      <td>...</td>\n",
       "      <td>A01</td>\n",
       "      <td>Voitures légères (VL) seule</td>\n",
       "      <td>1.0</td>\n",
       "      <td>Conducteur</td>\n",
       "      <td>Indemne</td>\n",
       "      <td>Masculin</td>\n",
       "      <td>Promenade – loisirs</td>\n",
       "      <td>Ceinture</td>\n",
       "      <td>Ceinture</td>\n",
       "      <td>50+</td>\n",
       "    </tr>\n",
       "    <tr>\n",
       "      <th>7</th>\n",
       "      <td>200500000002</td>\n",
       "      <td>1</td>\n",
       "      <td>21</td>\n",
       "      <td>Plein jour</td>\n",
       "      <td>En agglomération</td>\n",
       "      <td>Hors intersection</td>\n",
       "      <td>Normale</td>\n",
       "      <td>Deux véhicules - frontale</td>\n",
       "      <td>51</td>\n",
       "      <td>59</td>\n",
       "      <td>...</td>\n",
       "      <td>B02</td>\n",
       "      <td>Deux ou trois roues de petite cylindrée (&lt;= 50...</td>\n",
       "      <td>1.0</td>\n",
       "      <td>Conducteur</td>\n",
       "      <td>Blessé hospitalisé</td>\n",
       "      <td>Masculin</td>\n",
       "      <td>Promenade – loisirs</td>\n",
       "      <td>Casque</td>\n",
       "      <td>Ceinture</td>\n",
       "      <td>23-31</td>\n",
       "    </tr>\n",
       "    <tr>\n",
       "      <th>8</th>\n",
       "      <td>200500000003</td>\n",
       "      <td>1</td>\n",
       "      <td>21</td>\n",
       "      <td>Nuit sans éclairage public</td>\n",
       "      <td>Hors agglomération</td>\n",
       "      <td>Hors intersection</td>\n",
       "      <td>Pluie légère</td>\n",
       "      <td>Deux véhicules - frontale</td>\n",
       "      <td>51</td>\n",
       "      <td>59</td>\n",
       "      <td>...</td>\n",
       "      <td>A01</td>\n",
       "      <td>Deux ou trois roues de petite cylindrée (&lt;= 50...</td>\n",
       "      <td>1.0</td>\n",
       "      <td>Conducteur</td>\n",
       "      <td>Indemne</td>\n",
       "      <td>Masculin</td>\n",
       "      <td>Domicile – travail</td>\n",
       "      <td>Casque</td>\n",
       "      <td>Ceinture</td>\n",
       "      <td>12-22</td>\n",
       "    </tr>\n",
       "    <tr>\n",
       "      <th>9</th>\n",
       "      <td>200500000003</td>\n",
       "      <td>1</td>\n",
       "      <td>21</td>\n",
       "      <td>Nuit sans éclairage public</td>\n",
       "      <td>Hors agglomération</td>\n",
       "      <td>Hors intersection</td>\n",
       "      <td>Pluie légère</td>\n",
       "      <td>Deux véhicules - frontale</td>\n",
       "      <td>51</td>\n",
       "      <td>59</td>\n",
       "      <td>...</td>\n",
       "      <td>B02</td>\n",
       "      <td>Deux ou trois roues de petite cylindrée (&lt;= 50...</td>\n",
       "      <td>1.0</td>\n",
       "      <td>Conducteur</td>\n",
       "      <td>Blessé hospitalisé</td>\n",
       "      <td>Masculin</td>\n",
       "      <td>Domicile – travail</td>\n",
       "      <td>Casque</td>\n",
       "      <td>Ceinture</td>\n",
       "      <td>41-50</td>\n",
       "    </tr>\n",
       "  </tbody>\n",
       "</table>\n",
       "<p>10 rows × 37 columns</p>\n",
       "</div>"
      ],
      "text/plain": [
       "        num_acc  mois  jour                         lum                 agg  \\\n",
       "0  200500000001     1    12  Nuit sans éclairage public    En agglomération   \n",
       "1  200500000001     1    12  Nuit sans éclairage public    En agglomération   \n",
       "2  200500000001     1    12  Nuit sans éclairage public    En agglomération   \n",
       "3  200500000001     1    12  Nuit sans éclairage public    En agglomération   \n",
       "4  200500000001     1    12  Nuit sans éclairage public    En agglomération   \n",
       "5  200500000001     1    12  Nuit sans éclairage public    En agglomération   \n",
       "6  200500000002     1    21                  Plein jour    En agglomération   \n",
       "7  200500000002     1    21                  Plein jour    En agglomération   \n",
       "8  200500000003     1    21  Nuit sans éclairage public  Hors agglomération   \n",
       "9  200500000003     1    21  Nuit sans éclairage public  Hors agglomération   \n",
       "\n",
       "                 int           atm                           col com dep  ...  \\\n",
       "0  Hors intersection       Normale  Deux véhicules – par le coté  11  59  ...   \n",
       "1  Hors intersection       Normale  Deux véhicules – par le coté  11  59  ...   \n",
       "2  Hors intersection       Normale  Deux véhicules – par le coté  11  59  ...   \n",
       "3  Hors intersection       Normale  Deux véhicules – par le coté  11  59  ...   \n",
       "4  Hors intersection       Normale  Deux véhicules – par le coté  11  59  ...   \n",
       "5  Hors intersection       Normale  Deux véhicules – par le coté  11  59  ...   \n",
       "6  Hors intersection       Normale     Deux véhicules - frontale  51  59  ...   \n",
       "7  Hors intersection       Normale     Deux véhicules - frontale  51  59  ...   \n",
       "8  Hors intersection  Pluie légère     Deux véhicules - frontale  51  59  ...   \n",
       "9  Hors intersection  Pluie légère     Deux véhicules - frontale  51  59  ...   \n",
       "\n",
       "   num_veh                                         catv_Label  place  \\\n",
       "0      A01                        Voitures légères (VL) seule    1.0   \n",
       "1      B02                        Voitures légères (VL) seule    1.0   \n",
       "2      B02                        Voitures légères (VL) seule    2.0   \n",
       "3      B02                        Voitures légères (VL) seule    4.0   \n",
       "4      B02                        Voitures légères (VL) seule    5.0   \n",
       "5      B02                        Voitures légères (VL) seule    3.0   \n",
       "6      A01                        Voitures légères (VL) seule    1.0   \n",
       "7      B02  Deux ou trois roues de petite cylindrée (<= 50...    1.0   \n",
       "8      A01  Deux ou trois roues de petite cylindrée (<= 50...    1.0   \n",
       "9      B02  Deux ou trois roues de petite cylindrée (<= 50...    1.0   \n",
       "\n",
       "         catu                grav      sexe               trajet  \\\n",
       "0  Conducteur        Blessé léger  Masculin   Domicile – travail   \n",
       "1  Conducteur  Blessé hospitalisé   Féminin     Courses – achats   \n",
       "2    Passager             Indemne  Masculin        Non renseigné   \n",
       "3    Passager             Indemne  Masculin        Non renseigné   \n",
       "4    Passager             Indemne  Masculin        Non renseigné   \n",
       "5    Passager             Indemne   Féminin        Non renseigné   \n",
       "6  Conducteur             Indemne  Masculin  Promenade – loisirs   \n",
       "7  Conducteur  Blessé hospitalisé  Masculin  Promenade – loisirs   \n",
       "8  Conducteur             Indemne  Masculin   Domicile – travail   \n",
       "9  Conducteur  Blessé hospitalisé  Masculin   Domicile – travail   \n",
       "\n",
       "               secuUn  secuDeux tranches_ages  \n",
       "0            Ceinture  Ceinture         23-31  \n",
       "1            Ceinture  Ceinture         32-40  \n",
       "2            Ceinture  Ceinture         41-50  \n",
       "3  Dispositif enfants  Ceinture          0-11  \n",
       "4            Ceinture  Ceinture          0-11  \n",
       "5            Ceinture  Ceinture         12-22  \n",
       "6            Ceinture  Ceinture           50+  \n",
       "7              Casque  Ceinture         23-31  \n",
       "8              Casque  Ceinture         12-22  \n",
       "9              Casque  Ceinture         41-50  \n",
       "\n",
       "[10 rows x 37 columns]"
      ]
     },
     "execution_count": 8,
     "metadata": {},
     "output_type": "execute_result"
    }
   ],
   "source": [
    "columns_to_drop = ['Unnamed: 0', 'senc', 'locp', 'actp', 'etatp', 'an_nais', 'an_naiss', 'age_acc', 'age_acc_seconds',\n",
    "                   'age_acc_an', \"permis\"]\n",
    "\n",
    "df1 = df.drop(columns=columns_to_drop, axis=1)\n",
    "df1.head(10)"
   ]
  },
  {
   "cell_type": "code",
   "execution_count": 9,
   "id": "9d422ba3",
   "metadata": {},
   "outputs": [
    {
     "name": "stdout",
     "output_type": "stream",
     "text": [
      "<class 'pandas.core.frame.DataFrame'>\n",
      "RangeIndex: 2192779 entries, 0 to 2192778\n",
      "Data columns (total 37 columns):\n",
      " #   Column              Dtype   \n",
      "---  ------              -----   \n",
      " 0   num_acc             int64   \n",
      " 1   mois                int64   \n",
      " 2   jour                int64   \n",
      " 3   lum                 category\n",
      " 4   agg                 category\n",
      " 5   int                 category\n",
      " 6   atm                 category\n",
      " 7   col                 category\n",
      " 8   com                 object  \n",
      " 9   dep                 object  \n",
      " 10  annee_x_x           int64   \n",
      " 11  date                object  \n",
      " 12  jour_de_la_semaine  int64   \n",
      " 13  heure               int64   \n",
      " 14  catr                category\n",
      " 15  circ                category\n",
      " 16  nbv                 float64 \n",
      " 17  vosp                object  \n",
      " 18  prof                category\n",
      " 19  plan                category\n",
      " 20  surf                category\n",
      " 21  infra               category\n",
      " 22  situ                category\n",
      " 23  obs                 category\n",
      " 24  obsm                category\n",
      " 25  choc                category\n",
      " 26  manv                category\n",
      " 27  num_veh             category\n",
      " 28  catv_Label          category\n",
      " 29  place               float64 \n",
      " 30  catu                category\n",
      " 31  grav                object  \n",
      " 32  sexe                category\n",
      " 33  trajet              category\n",
      " 34  secuUn              category\n",
      " 35  secuDeux            category\n",
      " 36  tranches_ages       category\n",
      "dtypes: category(24), float64(2), int64(6), object(5)\n",
      "memory usage: 269.8+ MB\n"
     ]
    }
   ],
   "source": [
    "df1.info()"
   ]
  },
  {
   "cell_type": "markdown",
   "id": "6cc022b2",
   "metadata": {},
   "source": [
    "## Transformation des variables catégorielles (qualitatives) en variables   quantitatives afin qu'elles puissent être interprétées par un modèle de machine learning"
   ]
  },
  {
   "cell_type": "markdown",
   "id": "75fc9f54",
   "metadata": {},
   "source": [
    "## Traitement des variables catégorielles nominales : One Hot Encoding (dichotomisation) sur les variables suivantes : \n",
    "'agg', 'int', 'atm', 'col', 'catr', 'circ', 'vosp', 'prof', 'plan', 'surf', 'infra', 'situ', 'obs', 'obsm',\n",
    "'choc', 'manv', 'catv_Label', 'catu', 'sexe', 'trajet', 'secuUn', 'secuDeux'"
   ]
  },
  {
   "cell_type": "code",
   "execution_count": 10,
   "id": "12d4d919",
   "metadata": {},
   "outputs": [],
   "source": [
    "vosp = df1['vosp']\n",
    "df1 = df1.join(pd.get_dummies(vosp, prefix='vosp'))"
   ]
  },
  {
   "cell_type": "code",
   "execution_count": 11,
   "id": "e5e052a4",
   "metadata": {},
   "outputs": [],
   "source": [
    "agg = df1['agg']\n",
    "df1 = df1.join(pd.get_dummies(agg, prefix='agg'))"
   ]
  },
  {
   "cell_type": "code",
   "execution_count": 12,
   "id": "d8862db5",
   "metadata": {},
   "outputs": [],
   "source": [
    "int = df1['int']\n",
    "df1 = df1.join(pd.get_dummies(int, prefix='int'))"
   ]
  },
  {
   "cell_type": "code",
   "execution_count": 13,
   "id": "78e1a0c1",
   "metadata": {},
   "outputs": [],
   "source": [
    "atm = df1['atm'] \n",
    "df1 = df1.join(pd.get_dummies(atm, prefix='atm'))"
   ]
  },
  {
   "cell_type": "code",
   "execution_count": 14,
   "id": "72878924",
   "metadata": {},
   "outputs": [],
   "source": [
    "col = df1['col'] \n",
    "df1 = df1.join(pd.get_dummies(col, prefix='col'))"
   ]
  },
  {
   "cell_type": "code",
   "execution_count": 15,
   "id": "d9a3f56f",
   "metadata": {},
   "outputs": [],
   "source": [
    "catr = df1['catr'] \n",
    "df1 = df1.join(pd.get_dummies(catr, prefix='catr'))"
   ]
  },
  {
   "cell_type": "code",
   "execution_count": 16,
   "id": "9969076c",
   "metadata": {},
   "outputs": [],
   "source": [
    "circ = df1['circ'] \n",
    "prof = df1['prof'] \n",
    "plan = df1['plan'] \n",
    "\n",
    "df1 = df1.join(pd.get_dummies(circ, prefix='circ'))\n",
    "df1 = df1.join(pd.get_dummies(prof, prefix='prof'))\n",
    "df1 = df1.join(pd.get_dummies(plan, prefix='plan'))"
   ]
  },
  {
   "cell_type": "code",
   "execution_count": 17,
   "id": "9048fcf1",
   "metadata": {},
   "outputs": [],
   "source": [
    "surf = df1['surf'] \n",
    "infra = df1['infra'] \n",
    "situ = df1['situ'] \n",
    "\n",
    "df1 = df1.join(pd.get_dummies(surf, prefix='surf'))\n",
    "df1 = df1.join(pd.get_dummies(infra, prefix='infra'))\n",
    "df1 = df1.join(pd.get_dummies(situ, prefix='situ'))"
   ]
  },
  {
   "cell_type": "code",
   "execution_count": 18,
   "id": "523e50f3",
   "metadata": {},
   "outputs": [],
   "source": [
    "obs = df1['obs'] \n",
    "obsm = df1['obsm'] \n",
    "choc = df1['choc']\n",
    "\n",
    "df1 = df1.join(pd.get_dummies(obs, prefix='obs'))\n",
    "df1 = df1.join(pd.get_dummies(obsm, prefix='obsm'))\n",
    "df1 = df1.join(pd.get_dummies(choc, prefix='choc'))"
   ]
  },
  {
   "cell_type": "code",
   "execution_count": 19,
   "id": "3d9ff9c2",
   "metadata": {},
   "outputs": [],
   "source": [
    "catu = df1['catu'] \n",
    "sexe = df1['sexe'] \n",
    "trajet = df1['trajet'] \n",
    "\n",
    "df1 = df1.join(pd.get_dummies(catu, prefix='catu'))\n",
    "df1 = df1.join(pd.get_dummies(sexe, prefix='sexe'))\n",
    "df1 = df1.join(pd.get_dummies(trajet, prefix='trajet'))"
   ]
  },
  {
   "cell_type": "code",
   "execution_count": 20,
   "id": "d747cc39",
   "metadata": {},
   "outputs": [],
   "source": [
    "secuUn = df1['secuUn'] \n",
    "secuDeux = df1['secuDeux'] \n",
    "\n",
    "df1 = df1.join(pd.get_dummies(secuUn, prefix='secuUn'))\n",
    "df1 = df1.join(pd.get_dummies(secuDeux, prefix='secuDeux'))"
   ]
  },
  {
   "cell_type": "code",
   "execution_count": 21,
   "id": "c790a4f4",
   "metadata": {},
   "outputs": [],
   "source": [
    "catv_Label = df1['catv_Label'] \n",
    "df1 = df1.join(pd.get_dummies(catv_Label, prefix='catv'))"
   ]
  },
  {
   "cell_type": "code",
   "execution_count": 22,
   "id": "d4ddeafa",
   "metadata": {},
   "outputs": [],
   "source": [
    "manv = df1['manv'] \n",
    "df1 = df1.join(pd.get_dummies(manv, prefix='manv'))"
   ]
  },
  {
   "cell_type": "code",
   "execution_count": 23,
   "id": "3b787c1a",
   "metadata": {},
   "outputs": [
    {
     "name": "stdout",
     "output_type": "stream",
     "text": [
      "<class 'pandas.core.frame.DataFrame'>\n",
      "RangeIndex: 2192779 entries, 0 to 2192778\n",
      "Columns: 244 entries, num_acc to manv_Traversant la chaussée\n",
      "dtypes: category(24), float64(2), int64(6), object(5), uint8(207)\n",
      "memory usage: 702.7+ MB\n"
     ]
    }
   ],
   "source": [
    "df1.info()"
   ]
  },
  {
   "cell_type": "markdown",
   "id": "2c710305",
   "metadata": {},
   "source": [
    "## Conservation des variables indicatrices correspondants aux différentes modalités des variables qualitatives dichotomisées et suppression des variables qualitatives concernées"
   ]
  },
  {
   "cell_type": "code",
   "execution_count": 24,
   "id": "6f8d4099",
   "metadata": {},
   "outputs": [],
   "source": [
    "df1 = df1.drop(['agg', 'int', 'atm', 'col', 'catr', 'circ', 'vosp', 'prof', 'plan', 'surf', 'infra', 'situ', 'obs', 'obsm', \n",
    "                'choc', 'manv', 'catv_Label', 'catu', 'sexe', 'trajet', 'secuUn', 'secuDeux'], axis=1)"
   ]
  },
  {
   "cell_type": "markdown",
   "id": "da294700",
   "metadata": {},
   "source": [
    "## Suppression de la variable date qui n'apporte aucune information supplémentaire par rapport aux variables 'jour', 'mois' et 'annee_x_x'"
   ]
  },
  {
   "cell_type": "code",
   "execution_count": 25,
   "id": "c42701a2",
   "metadata": {},
   "outputs": [],
   "source": [
    "df1 = df1.drop('date', axis=1)"
   ]
  },
  {
   "cell_type": "code",
   "execution_count": 26,
   "id": "687f764b",
   "metadata": {},
   "outputs": [
    {
     "data": {
      "text/html": [
       "<div>\n",
       "<style scoped>\n",
       "    .dataframe tbody tr th:only-of-type {\n",
       "        vertical-align: middle;\n",
       "    }\n",
       "\n",
       "    .dataframe tbody tr th {\n",
       "        vertical-align: top;\n",
       "    }\n",
       "\n",
       "    .dataframe thead th {\n",
       "        text-align: right;\n",
       "    }\n",
       "</style>\n",
       "<table border=\"1\" class=\"dataframe\">\n",
       "  <thead>\n",
       "    <tr style=\"text-align: right;\">\n",
       "      <th></th>\n",
       "      <th>num_acc</th>\n",
       "      <th>mois</th>\n",
       "      <th>jour</th>\n",
       "      <th>lum</th>\n",
       "      <th>com</th>\n",
       "      <th>dep</th>\n",
       "      <th>annee_x_x</th>\n",
       "      <th>jour_de_la_semaine</th>\n",
       "      <th>heure</th>\n",
       "      <th>nbv</th>\n",
       "      <th>...</th>\n",
       "      <th>manv_Inconnue</th>\n",
       "      <th>manv_Manœuvre de stationnement</th>\n",
       "      <th>manv_Manœuvre d’évitement</th>\n",
       "      <th>manv_Même sens, même file</th>\n",
       "      <th>manv_Non renseigné</th>\n",
       "      <th>manv_Ouverture de porte</th>\n",
       "      <th>manv_Sans changement de direction</th>\n",
       "      <th>manv_Tournant - A droite</th>\n",
       "      <th>manv_Tournant - A gauche</th>\n",
       "      <th>manv_Traversant la chaussée</th>\n",
       "    </tr>\n",
       "  </thead>\n",
       "  <tbody>\n",
       "    <tr>\n",
       "      <th>0</th>\n",
       "      <td>200500000001</td>\n",
       "      <td>1</td>\n",
       "      <td>12</td>\n",
       "      <td>Nuit sans éclairage public</td>\n",
       "      <td>11</td>\n",
       "      <td>59</td>\n",
       "      <td>2005</td>\n",
       "      <td>2</td>\n",
       "      <td>19</td>\n",
       "      <td>2.0</td>\n",
       "      <td>...</td>\n",
       "      <td>0</td>\n",
       "      <td>0</td>\n",
       "      <td>0</td>\n",
       "      <td>0</td>\n",
       "      <td>0</td>\n",
       "      <td>0</td>\n",
       "      <td>1</td>\n",
       "      <td>0</td>\n",
       "      <td>0</td>\n",
       "      <td>0</td>\n",
       "    </tr>\n",
       "    <tr>\n",
       "      <th>1</th>\n",
       "      <td>200500000001</td>\n",
       "      <td>1</td>\n",
       "      <td>12</td>\n",
       "      <td>Nuit sans éclairage public</td>\n",
       "      <td>11</td>\n",
       "      <td>59</td>\n",
       "      <td>2005</td>\n",
       "      <td>2</td>\n",
       "      <td>19</td>\n",
       "      <td>2.0</td>\n",
       "      <td>...</td>\n",
       "      <td>0</td>\n",
       "      <td>0</td>\n",
       "      <td>0</td>\n",
       "      <td>0</td>\n",
       "      <td>0</td>\n",
       "      <td>0</td>\n",
       "      <td>0</td>\n",
       "      <td>0</td>\n",
       "      <td>0</td>\n",
       "      <td>0</td>\n",
       "    </tr>\n",
       "    <tr>\n",
       "      <th>2</th>\n",
       "      <td>200500000001</td>\n",
       "      <td>1</td>\n",
       "      <td>12</td>\n",
       "      <td>Nuit sans éclairage public</td>\n",
       "      <td>11</td>\n",
       "      <td>59</td>\n",
       "      <td>2005</td>\n",
       "      <td>2</td>\n",
       "      <td>19</td>\n",
       "      <td>2.0</td>\n",
       "      <td>...</td>\n",
       "      <td>0</td>\n",
       "      <td>0</td>\n",
       "      <td>0</td>\n",
       "      <td>0</td>\n",
       "      <td>0</td>\n",
       "      <td>0</td>\n",
       "      <td>0</td>\n",
       "      <td>0</td>\n",
       "      <td>0</td>\n",
       "      <td>0</td>\n",
       "    </tr>\n",
       "    <tr>\n",
       "      <th>3</th>\n",
       "      <td>200500000001</td>\n",
       "      <td>1</td>\n",
       "      <td>12</td>\n",
       "      <td>Nuit sans éclairage public</td>\n",
       "      <td>11</td>\n",
       "      <td>59</td>\n",
       "      <td>2005</td>\n",
       "      <td>2</td>\n",
       "      <td>19</td>\n",
       "      <td>2.0</td>\n",
       "      <td>...</td>\n",
       "      <td>0</td>\n",
       "      <td>0</td>\n",
       "      <td>0</td>\n",
       "      <td>0</td>\n",
       "      <td>0</td>\n",
       "      <td>0</td>\n",
       "      <td>0</td>\n",
       "      <td>0</td>\n",
       "      <td>0</td>\n",
       "      <td>0</td>\n",
       "    </tr>\n",
       "    <tr>\n",
       "      <th>4</th>\n",
       "      <td>200500000001</td>\n",
       "      <td>1</td>\n",
       "      <td>12</td>\n",
       "      <td>Nuit sans éclairage public</td>\n",
       "      <td>11</td>\n",
       "      <td>59</td>\n",
       "      <td>2005</td>\n",
       "      <td>2</td>\n",
       "      <td>19</td>\n",
       "      <td>2.0</td>\n",
       "      <td>...</td>\n",
       "      <td>0</td>\n",
       "      <td>0</td>\n",
       "      <td>0</td>\n",
       "      <td>0</td>\n",
       "      <td>0</td>\n",
       "      <td>0</td>\n",
       "      <td>0</td>\n",
       "      <td>0</td>\n",
       "      <td>0</td>\n",
       "      <td>0</td>\n",
       "    </tr>\n",
       "  </tbody>\n",
       "</table>\n",
       "<p>5 rows × 221 columns</p>\n",
       "</div>"
      ],
      "text/plain": [
       "        num_acc  mois  jour                         lum com dep  annee_x_x  \\\n",
       "0  200500000001     1    12  Nuit sans éclairage public  11  59       2005   \n",
       "1  200500000001     1    12  Nuit sans éclairage public  11  59       2005   \n",
       "2  200500000001     1    12  Nuit sans éclairage public  11  59       2005   \n",
       "3  200500000001     1    12  Nuit sans éclairage public  11  59       2005   \n",
       "4  200500000001     1    12  Nuit sans éclairage public  11  59       2005   \n",
       "\n",
       "   jour_de_la_semaine  heure  nbv  ... manv_Inconnue  \\\n",
       "0                   2     19  2.0  ...             0   \n",
       "1                   2     19  2.0  ...             0   \n",
       "2                   2     19  2.0  ...             0   \n",
       "3                   2     19  2.0  ...             0   \n",
       "4                   2     19  2.0  ...             0   \n",
       "\n",
       "   manv_Manœuvre de stationnement manv_Manœuvre d’évitement  \\\n",
       "0                               0                         0   \n",
       "1                               0                         0   \n",
       "2                               0                         0   \n",
       "3                               0                         0   \n",
       "4                               0                         0   \n",
       "\n",
       "  manv_Même sens, même file  manv_Non renseigné  manv_Ouverture de porte  \\\n",
       "0                         0                   0                        0   \n",
       "1                         0                   0                        0   \n",
       "2                         0                   0                        0   \n",
       "3                         0                   0                        0   \n",
       "4                         0                   0                        0   \n",
       "\n",
       "   manv_Sans changement de direction  manv_Tournant - A droite  \\\n",
       "0                                  1                         0   \n",
       "1                                  0                         0   \n",
       "2                                  0                         0   \n",
       "3                                  0                         0   \n",
       "4                                  0                         0   \n",
       "\n",
       "   manv_Tournant - A gauche  manv_Traversant la chaussée  \n",
       "0                         0                            0  \n",
       "1                         0                            0  \n",
       "2                         0                            0  \n",
       "3                         0                            0  \n",
       "4                         0                            0  \n",
       "\n",
       "[5 rows x 221 columns]"
      ]
     },
     "execution_count": 26,
     "metadata": {},
     "output_type": "execute_result"
    }
   ],
   "source": [
    "df1.head()"
   ]
  },
  {
   "cell_type": "markdown",
   "id": "400e7bb7",
   "metadata": {},
   "source": [
    "## Conversion des variables catégorielles ordinales et de la variable cible en variables numériques"
   ]
  },
  {
   "cell_type": "code",
   "execution_count": 27,
   "id": "bbbd3ba7",
   "metadata": {},
   "outputs": [],
   "source": [
    "from sklearn.preprocessing import LabelEncoder"
   ]
  },
  {
   "cell_type": "code",
   "execution_count": 28,
   "id": "21dcda76",
   "metadata": {},
   "outputs": [],
   "source": [
    "le = LabelEncoder()\n",
    "df1['lum'] = le.fit_transform(df['lum'])\n",
    "df1['num_veh'] = le.fit_transform(df['num_veh'])\n",
    "df1['place'] = le.fit_transform(df['place'])\n",
    "df1['tranches_ages'] = le.fit_transform(df['tranches_ages'])\n",
    "df1['grav'] = le.fit_transform(df['grav'])"
   ]
  },
  {
   "cell_type": "code",
   "execution_count": 29,
   "id": "3f6f364d",
   "metadata": {},
   "outputs": [
    {
     "name": "stdout",
     "output_type": "stream",
     "text": [
      "<class 'pandas.core.frame.DataFrame'>\n",
      "RangeIndex: 2192779 entries, 0 to 2192778\n",
      "Columns: 221 entries, num_acc to manv_Traversant la chaussée\n",
      "dtypes: float64(1), int32(4), int64(7), object(2), uint8(207)\n",
      "memory usage: 633.6+ MB\n"
     ]
    }
   ],
   "source": [
    "df1.info()"
   ]
  },
  {
   "cell_type": "code",
   "execution_count": 30,
   "id": "14ce9e1c",
   "metadata": {},
   "outputs": [
    {
     "name": "stdout",
     "output_type": "stream",
     "text": [
      "num_acc int64\n",
      "mois int64\n",
      "jour int64\n",
      "lum int32\n",
      "com object\n",
      "dep object\n",
      "annee_x_x int64\n",
      "jour_de_la_semaine int64\n",
      "heure int64\n",
      "nbv float64\n",
      "num_veh int32\n",
      "place int64\n",
      "grav int32\n",
      "tranches_ages int32\n",
      "vosp_Bande cyclable(2) uint8\n",
      "vosp_Non renseigné(-1) uint8\n",
      "vosp_Piste cyclable(1) uint8\n",
      "vosp_Sans objet(0) uint8\n",
      "vosp_Voie réservée(3) uint8\n",
      "agg_En agglomération uint8\n",
      "agg_Hors agglomération uint8\n",
      "int_Autre intersection uint8\n",
      "int_Giratoire uint8\n",
      "int_Hors intersection uint8\n",
      "int_Intersection en T uint8\n",
      "int_Intersection en X uint8\n",
      "int_Intersection en Y uint8\n",
      "int_Intersection à plus de 4 branches uint8\n",
      "int_Passage à niveau uint8\n",
      "int_Place uint8\n",
      "atm_Autre uint8\n",
      "atm_Brouillard - fumée uint8\n",
      "atm_Neige - grêle uint8\n",
      "atm_Non renseigné uint8\n",
      "atm_Normale uint8\n",
      "atm_Pluie forte uint8\n",
      "atm_Pluie légère uint8\n",
      "atm_Temps couvert uint8\n",
      "atm_Temps éblouissant uint8\n",
      "atm_Vent fort - tempête uint8\n",
      "col_Autre collision uint8\n",
      "col_Deux véhicules - frontale uint8\n",
      "col_Deux véhicules – par le coté uint8\n",
      "col_Deux véhicules – par l’arrière uint8\n",
      "col_Non renseigné uint8\n",
      "col_Sans collision uint8\n",
      "col_Trois véhicules et plus - collisions multiples uint8\n",
      "col_Trois véhicules et plus – en chaîne uint8\n",
      "catr_1-Autoroute uint8\n",
      "catr_2-Route nationale uint8\n",
      "catr_3-Route Départementale uint8\n",
      "catr_4-Voie Communales uint8\n",
      "catr_5-Hors réseau public uint8\n",
      "catr_6-Parc de stationnement ouvert à la circulation publique uint8\n",
      "catr_7-Routes de métropole urbaine uint8\n",
      "catr_9-Autres uint8\n",
      "circ_A chaussées séparées(3) uint8\n",
      "circ_A sens unique(1) uint8\n",
      "circ_Avec voies d’affectation variable(4) uint8\n",
      "circ_Bidirectionnelle(2) uint8\n",
      "circ_Non renseigné(-1) uint8\n",
      "prof_Bas de côte(4) uint8\n",
      "prof_Non renseigné(-1) uint8\n",
      "prof_Pente(2) uint8\n",
      "prof_Plat(1) uint8\n",
      "prof_Sommet de côte(3) uint8\n",
      "plan_En courbe à droite(3) uint8\n",
      "plan_En courbe à gauche(2) uint8\n",
      "plan_En « S »(4) uint8\n",
      "plan_Non renseigné(-1) uint8\n",
      "plan_Partie rectiligne(1) uint8\n",
      "surf_Autre(9) uint8\n",
      "surf_Boue(6) uint8\n",
      "surf_Corps gras – huile(8) uint8\n",
      "surf_Enneigée(5) uint8\n",
      "surf_Flaques(3) uint8\n",
      "surf_Inondée(4) uint8\n",
      "surf_Mouillée(2) uint8\n",
      "surf_Non renseigné(-1) uint8\n",
      "surf_Normale(1) uint8\n",
      "surf_Verglacée(7) uint8\n",
      "infra_Aucun uint8\n",
      "infra_Autres uint8\n",
      "infra_Bretelle d’échangeur ou de raccordement uint8\n",
      "infra_Carrefour aménagé uint8\n",
      "infra_Chantier uint8\n",
      "infra_Non renseigné uint8\n",
      "infra_Pont - autopont uint8\n",
      "infra_Souterrain - tunnel uint8\n",
      "infra_Voie ferrée uint8\n",
      "infra_Zone de péage uint8\n",
      "infra_Zone piétonne uint8\n",
      "situ_Aucun(0) uint8\n",
      "situ_Autres(8) uint8\n",
      "situ_Non renseigné(-1) uint8\n",
      "situ_Sur accotement(3) uint8\n",
      "situ_Sur autre voie spéciale(6) uint8\n",
      "situ_Sur bande d’arrêt d’urgence(2) uint8\n",
      "situ_Sur chaussée(1) uint8\n",
      "situ_Sur piste cyclable(5) uint8\n",
      "situ_Sur trottoir(4) uint8\n",
      "obs_17.0 uint8\n",
      "obs_Autre glissière uint8\n",
      "obs_Autre obstacle fixe sur chaussée uint8\n",
      "obs_Autre obstacle fixe sur trottoir ou accotement uint8\n",
      "obs_Bordure de trottoir uint8\n",
      "obs_Buse – tête d’aqueduc uint8\n",
      "obs_Bâtiment, mur, pile de pont uint8\n",
      "obs_Fossé, talus, paroi rocheuse uint8\n",
      "obs_Glissière béton uint8\n",
      "obs_Glissière métallique uint8\n",
      "obs_Ilot, refuge, borne haute uint8\n",
      "obs_Mobilier urbain uint8\n",
      "obs_Non renseigné uint8\n",
      "obs_Parapet uint8\n",
      "obs_Poteau uint8\n",
      "obs_Sans objet uint8\n",
      "obs_Sortie de chaussée sans obstacle uint8\n",
      "obs_Support de signalisation verticale ou poste d’appel d’urgence uint8\n",
      "obs_Véhicule en stationnement, Arbre uint8\n",
      "obsm_Animal domestique uint8\n",
      "obsm_Animal sauvage uint8\n",
      "obsm_Aucun uint8\n",
      "obsm_Autre uint8\n",
      "obsm_Non renseigné uint8\n",
      "obsm_Piéton uint8\n",
      "obsm_Véhicule uint8\n",
      "obsm_Véhicule sur rail uint8\n",
      "choc_Arrière uint8\n",
      "choc_Arrière droit uint8\n",
      "choc_Arrière gauche uint8\n",
      "choc_Aucun uint8\n",
      "choc_Avant uint8\n",
      "choc_Avant droit uint8\n",
      "choc_Avant gauche uint8\n",
      "choc_Chocs multiples (tonneaux) uint8\n",
      "choc_Côté droit uint8\n",
      "choc_Côté gauche uint8\n",
      "choc_Non renseigné uint8\n",
      "catu_Conducteur uint8\n",
      "catu_Passager uint8\n",
      "catu_Piéton uint8\n",
      "sexe_Féminin uint8\n",
      "sexe_Masculin uint8\n",
      "trajet_Autre uint8\n",
      "trajet_Courses – achats uint8\n",
      "trajet_Domicile – travail uint8\n",
      "trajet_Domicile – école uint8\n",
      "trajet_Non renseigné uint8\n",
      "trajet_Promenade – loisirs uint8\n",
      "trajet_Utilisation professionnelle uint8\n",
      "secuUn_Airbag (2RM/3RM) uint8\n",
      "secuUn_Aucun équipement uint8\n",
      "secuUn_Autre uint8\n",
      "secuUn_Casque uint8\n",
      "secuUn_Ceinture uint8\n",
      "secuUn_Dispositif enfants uint8\n",
      "secuUn_Gants (2RM/3RM) uint8\n",
      "secuUn_Gilet réfléchissant uint8\n",
      "secuUn_Non déterminable uint8\n",
      "secuUn_Non renseigné uint8\n",
      "secuDeux_Airbag (2RM/3RM)(5) uint8\n",
      "secuDeux_Aucun équipement uint8\n",
      "secuDeux_Autre uint8\n",
      "secuDeux_Casque uint8\n",
      "secuDeux_Ceinture uint8\n",
      "secuDeux_Dispositif enfants uint8\n",
      "secuDeux_Gants (2RM/3RM)(6) uint8\n",
      "secuDeux_Gants + Airbag (2RM/3RM) uint8\n",
      "secuDeux_Gilet réfléchissant(4) uint8\n",
      "secuDeux_Non déterminable uint8\n",
      "secuDeux_Non renseigné uint8\n",
      "catv_Autobus et autocars uint8\n",
      "catv_Autre véhicule uint8\n",
      "catv_Bicyclette uint8\n",
      "catv_Deux ou trois roues de petite cylindrée (<= 50 cm3) uint8\n",
      "catv_Deux ou trois roues-motrices de grosse cylindrée (50 à 125 cm3) uint8\n",
      "catv_Deux ou trois roues-motrices de moyenne cylindrée (50 à 125 cm3) uint8\n",
      "catv_Engins de déplacement personnels (EDP) sans moteur (ex : skateboards, roller, trottinette) uint8\n",
      "catv_Engins de déplacement personnels (EDP) à moteur (ex: trotinette) uint8\n",
      "catv_Indéterminable uint8\n",
      "catv_Poids lourds (PL) et camions uint8\n",
      "catv_Quad uint8\n",
      "catv_Tracteurs agricoles et engins spéciaux uint8\n",
      "catv_Tracteurs routiers uint8\n",
      "catv_Train uint8\n",
      "catv_Tramway uint8\n",
      "catv_Voitures légères (VL) avec carane ou remorque tractée uint8\n",
      "catv_Voitures légères (VL) seule uint8\n",
      "catv_Voiturette uint8\n",
      "catv_Véhicules utilitaires légers (VU) uint8\n",
      "catv_Véhicules utilitaires légers (VU) avec carane ou remorque tractée uint8\n",
      "catv_Vélo avec assistance électrique (VAE) uint8\n",
      "manv_A contresens uint8\n",
      "manv_Arrêté (hors stationnement) uint8\n",
      "manv_Autres manœuvres uint8\n",
      "manv_Changeant de file - A droite uint8\n",
      "manv_Changeant de file - A gauche uint8\n",
      "manv_Circulant sur trottoir uint8\n",
      "manv_Dans le couloir bus, dans le même sens uint8\n",
      "manv_Dans le couloir bus, dans le sens inverse uint8\n",
      "manv_Dépassant - A gauche uint8\n",
      "manv_Dépassant A droite uint8\n",
      "manv_Déporté - A droite uint8\n",
      "manv_Déporté - A gauche uint8\n",
      "manv_En faisant demi-tour sur la chaussée uint8\n",
      "manv_En franchissant le terre-plein central uint8\n",
      "manv_En marche arrière uint8\n",
      "manv_En stationnement (avec occupants) uint8\n",
      "manv_En s’insérant uint8\n",
      "manv_Entre 2 files uint8\n",
      "manv_Inconnue uint8\n",
      "manv_Manœuvre de stationnement uint8\n",
      "manv_Manœuvre d’évitement uint8\n",
      "manv_Même sens, même file uint8\n",
      "manv_Non renseigné uint8\n",
      "manv_Ouverture de porte uint8\n",
      "manv_Sans changement de direction uint8\n",
      "manv_Tournant - A droite uint8\n",
      "manv_Tournant - A gauche uint8\n",
      "manv_Traversant la chaussée uint8\n"
     ]
    }
   ],
   "source": [
    "for col in df1.columns:\n",
    "    print(col, df1[col].dtype)    "
   ]
  },
  {
   "cell_type": "markdown",
   "id": "145497f5",
   "metadata": {},
   "source": [
    "## Conversion des variables 'com' et 'dep' (object/string) en float"
   ]
  },
  {
   "cell_type": "code",
   "execution_count": 31,
   "id": "b491fb86",
   "metadata": {},
   "outputs": [],
   "source": [
    "df1['com'] = df1['com'].str.replace(r'(2A)', '200', regex=True).replace(r'(2B)', '201', regex=True).astype('float')"
   ]
  },
  {
   "cell_type": "code",
   "execution_count": 32,
   "id": "8595e275",
   "metadata": {},
   "outputs": [
    {
     "data": {
      "text/plain": [
       "dtype('float64')"
      ]
     },
     "execution_count": 32,
     "metadata": {},
     "output_type": "execute_result"
    }
   ],
   "source": [
    "df1['com'].dtype"
   ]
  },
  {
   "cell_type": "code",
   "execution_count": 33,
   "id": "e55227e7",
   "metadata": {},
   "outputs": [],
   "source": [
    "df1['dep'] = df1['dep'].str.replace(r'(2A)', '200', regex=True).replace(r'(2B)', '201', regex=True).astype('float')"
   ]
  },
  {
   "cell_type": "code",
   "execution_count": 34,
   "id": "55e1d238",
   "metadata": {},
   "outputs": [
    {
     "data": {
      "text/plain": [
       "dtype('float64')"
      ]
     },
     "execution_count": 34,
     "metadata": {},
     "output_type": "execute_result"
    }
   ],
   "source": [
    "df1['dep'].dtype"
   ]
  },
  {
   "cell_type": "markdown",
   "id": "ec01d22e",
   "metadata": {},
   "source": [
    "## Affectation des \"features\" du dataset dans \"data\" et affectation de la variable cible dans \"target\" "
   ]
  },
  {
   "cell_type": "code",
   "execution_count": 35,
   "id": "577ac1a5",
   "metadata": {},
   "outputs": [],
   "source": [
    "data = df1.drop('grav', axis=1)"
   ]
  },
  {
   "cell_type": "code",
   "execution_count": 36,
   "id": "6dd61d1d",
   "metadata": {},
   "outputs": [],
   "source": [
    "target = df1['grav']"
   ]
  },
  {
   "cell_type": "markdown",
   "id": "ef70caa0",
   "metadata": {},
   "source": [
    "## Séparation des données en ensembles d'entraînement et de test"
   ]
  },
  {
   "cell_type": "code",
   "execution_count": 37,
   "id": "8c4454ca",
   "metadata": {},
   "outputs": [],
   "source": [
    "X_train, X_test, y_train, y_test = train_test_split(data, target, test_size=0.2, random_state=42)"
   ]
  },
  {
   "cell_type": "markdown",
   "id": "7dcecbf1",
   "metadata": {},
   "source": [
    "## Recherche des hyperparamètres optimaux avec GridSearch "
   ]
  },
  {
   "cell_type": "code",
   "execution_count": 39,
   "id": "09d241d9",
   "metadata": {},
   "outputs": [],
   "source": [
    "# Importation des packages\n",
    "from sklearn.linear_model import LogisticRegression\n",
    "from sklearn.model_selection import GridSearchCV, RandomizedSearchCV"
   ]
  },
  {
   "cell_type": "code",
   "execution_count": 45,
   "id": "c824e781",
   "metadata": {},
   "outputs": [
    {
     "name": "stderr",
     "output_type": "stream",
     "text": [
      "C:\\Users\\clevr\\anaconda3\\lib\\site-packages\\sklearn\\model_selection\\_validation.py:372: FitFailedWarning: \n",
      "70 fits failed out of a total of 140.\n",
      "The score on these train-test partitions for these parameters will be set to nan.\n",
      "If these failures are not expected, you can try to debug them by setting error_score='raise'.\n",
      "\n",
      "Below are more details about the failures:\n",
      "--------------------------------------------------------------------------------\n",
      "70 fits failed with the following error:\n",
      "Traceback (most recent call last):\n",
      "  File \"C:\\Users\\clevr\\anaconda3\\lib\\site-packages\\sklearn\\model_selection\\_validation.py\", line 680, in _fit_and_score\n",
      "    estimator.fit(X_train, y_train, **fit_params)\n",
      "  File \"C:\\Users\\clevr\\anaconda3\\lib\\site-packages\\sklearn\\linear_model\\_logistic.py\", line 1461, in fit\n",
      "    solver = _check_solver(self.solver, self.penalty, self.dual)\n",
      "  File \"C:\\Users\\clevr\\anaconda3\\lib\\site-packages\\sklearn\\linear_model\\_logistic.py\", line 447, in _check_solver\n",
      "    raise ValueError(\n",
      "ValueError: Solver lbfgs supports only 'l2' or 'none' penalties, got l1 penalty.\n",
      "\n",
      "  warnings.warn(some_fits_failed_message, FitFailedWarning)\n",
      "C:\\Users\\clevr\\anaconda3\\lib\\site-packages\\sklearn\\model_selection\\_search.py:969: UserWarning: One or more of the test scores are non-finite: [       nan 0.40887675        nan 0.40887675        nan 0.40887675\n",
      "        nan 0.40887675        nan 0.40887675        nan 0.40887675\n",
      "        nan 0.40887675]\n",
      "  warnings.warn(\n"
     ]
    },
    {
     "name": "stdout",
     "output_type": "stream",
     "text": [
      "tuned hyperparameters :(best parameters)  {'C': 0.001, 'penalty': 'l2'}\n",
      "accuracy : 0.4088767505618751\n"
     ]
    }
   ],
   "source": [
    "# Grid search cross validation\n",
    "\n",
    "logreg=LogisticRegression() # Construisons un modèle de base\n",
    "grid={\"C\":np.logspace(-3,3,7), \"penalty\":[\"l1\",\"l2\"]} # l1 lasso, l2 ridge\n",
    "logreg_cv=GridSearchCV(logreg, grid, cv=10)\n",
    "logreg_cv.fit(X_train,y_train)\n",
    "\n",
    "print(\"tuned hyperparameters :(best parameters) \",logreg_cv.best_params_)\n",
    "print(\"accuracy :\",logreg_cv.best_score_)"
   ]
  },
  {
   "cell_type": "code",
   "execution_count": 46,
   "id": "e3377111",
   "metadata": {},
   "outputs": [
    {
     "name": "stdout",
     "output_type": "stream",
     "text": [
      "tuned hyperparameters :(best parameters)  {'C': 0.001, 'penalty': 'l2'}\n",
      "accuracy : 0.4088767505618751\n"
     ]
    }
   ],
   "source": [
    "print(\"tuned hyperparameters :(best parameters) \",logreg_cv.best_params_)\n",
    "print(\"accuracy :\",logreg_cv.best_score_)"
   ]
  },
  {
   "cell_type": "code",
   "execution_count": null,
   "id": "9cbc7f36",
   "metadata": {},
   "outputs": [],
   "source": [
    "\"\"\"\n",
    "Synthèse des résultats :\n",
    "accuracy : 0.4088767505618751\n",
    "tuned hyperparameters :(best parameters)  {'C': 0.001, 'penalty': 'l2'}\n",
    "model = LogisticRegression(C=0.001, penalty=\"l2\")\n",
    "\n",
    "\"\"\""
   ]
  },
  {
   "cell_type": "markdown",
   "id": "fad5da2e",
   "metadata": {},
   "source": [
    "## Entrainement du modèle de classification optimisé sur les données d'entraînement"
   ]
  },
  {
   "cell_type": "code",
   "execution_count": 63,
   "id": "d6fd8a69",
   "metadata": {},
   "outputs": [
    {
     "name": "stdout",
     "output_type": "stream",
     "text": [
      "Entrainement réalisé en 61.586 secondes\n"
     ]
    }
   ],
   "source": [
    "logreg2=LogisticRegression(C=0.001, penalty=\"l2\")\n",
    "\n",
    "from time import time\n",
    "t0 = time()\n",
    "logreg2.fit(X_train, y_train)\n",
    "t1 = time() - t0\n",
    "print(\"Entrainement réalisé en {} secondes\".format(round(t1,3)))"
   ]
  },
  {
   "cell_type": "markdown",
   "id": "51175c4c",
   "metadata": {},
   "source": [
    "## Évaluation du modèle de classification optimisé"
   ]
  },
  {
   "cell_type": "code",
   "execution_count": 64,
   "id": "d374ff86",
   "metadata": {},
   "outputs": [],
   "source": [
    "# Affichage du score de prédiction sur l'ensemble d'entrainement et calcul du temps d'exécution"
   ]
  },
  {
   "cell_type": "code",
   "execution_count": 86,
   "id": "3f858b5a",
   "metadata": {},
   "outputs": [],
   "source": [
    "from sklearn.metrics import accuracy_score"
   ]
  },
  {
   "cell_type": "code",
   "execution_count": 85,
   "id": "fe1a140c",
   "metadata": {},
   "outputs": [
    {
     "name": "stdout",
     "output_type": "stream",
     "text": [
      "Score prédiction sur les données entrainement : 0.40887675056135964\n",
      "Réalisé en 3.831 secondes\n"
     ]
    }
   ],
   "source": [
    "t0 = time()\n",
    "\n",
    "predict_train = logreg2.predict(X_train)\n",
    "train_acc = accuracy_score(y_train, predict_train)\n",
    "print('Score prédiction sur les données entrainement :', train_acc)\n",
    "\n",
    "tt = time() - t0\n",
    "print(\"Réalisé en {} secondes\".format(round(tt,3)))\n"
   ]
  },
  {
   "cell_type": "code",
   "execution_count": 87,
   "id": "dff36c00",
   "metadata": {},
   "outputs": [],
   "source": [
    "# Affichage du score de prédiction sur l'ensemble de test et calcul du temps d'exécution"
   ]
  },
  {
   "cell_type": "code",
   "execution_count": 88,
   "id": "2855f03c",
   "metadata": {},
   "outputs": [
    {
     "name": "stdout",
     "output_type": "stream",
     "text": [
      "Score prédiction sur les données de test : 0.4101825080491431\n",
      "Réalisé en 0.924 secondes\n"
     ]
    }
   ],
   "source": [
    "t0 = time()\n",
    "\n",
    "predict_test = logreg2.predict(X_test)\n",
    "test_acc = accuracy_score(y_test, predict_test)\n",
    "print('Score prédiction sur les données de test :',test_acc)\n",
    "\n",
    "tt = time() - t0\n",
    "print(\"Réalisé en {} secondes\".format(round(tt,3)))"
   ]
  },
  {
   "cell_type": "markdown",
   "id": "d28c0a92",
   "metadata": {},
   "source": [
    "## Cross Validation avec le modèle de classification optimisé"
   ]
  },
  {
   "cell_type": "code",
   "execution_count": 52,
   "id": "799106bc",
   "metadata": {},
   "outputs": [
    {
     "data": {
      "text/plain": [
       "'\\ncross_val = KFold(n_splits=5, shuffle=True, random_state=42)\\n\\n'"
      ]
     },
     "execution_count": 52,
     "metadata": {},
     "output_type": "execute_result"
    }
   ],
   "source": [
    "from sklearn.model_selection import StratifiedKFold\n",
    "cross_val = StratifiedKFold(n_splits=5, shuffle=True, random_state=42)"
   ]
  },
  {
   "cell_type": "code",
   "execution_count": 53,
   "id": "8dbc0da8",
   "metadata": {},
   "outputs": [
    {
     "data": {
      "text/plain": [
       "['accuracy',\n",
       " 'adjusted_mutual_info_score',\n",
       " 'adjusted_rand_score',\n",
       " 'average_precision',\n",
       " 'balanced_accuracy',\n",
       " 'completeness_score',\n",
       " 'explained_variance',\n",
       " 'f1',\n",
       " 'f1_macro',\n",
       " 'f1_micro',\n",
       " 'f1_samples',\n",
       " 'f1_weighted',\n",
       " 'fowlkes_mallows_score',\n",
       " 'homogeneity_score',\n",
       " 'jaccard',\n",
       " 'jaccard_macro',\n",
       " 'jaccard_micro',\n",
       " 'jaccard_samples',\n",
       " 'jaccard_weighted',\n",
       " 'max_error',\n",
       " 'mutual_info_score',\n",
       " 'neg_brier_score',\n",
       " 'neg_log_loss',\n",
       " 'neg_mean_absolute_error',\n",
       " 'neg_mean_absolute_percentage_error',\n",
       " 'neg_mean_gamma_deviance',\n",
       " 'neg_mean_poisson_deviance',\n",
       " 'neg_mean_squared_error',\n",
       " 'neg_mean_squared_log_error',\n",
       " 'neg_median_absolute_error',\n",
       " 'neg_root_mean_squared_error',\n",
       " 'normalized_mutual_info_score',\n",
       " 'precision',\n",
       " 'precision_macro',\n",
       " 'precision_micro',\n",
       " 'precision_samples',\n",
       " 'precision_weighted',\n",
       " 'r2',\n",
       " 'rand_score',\n",
       " 'recall',\n",
       " 'recall_macro',\n",
       " 'recall_micro',\n",
       " 'recall_samples',\n",
       " 'recall_weighted',\n",
       " 'roc_auc',\n",
       " 'roc_auc_ovo',\n",
       " 'roc_auc_ovo_weighted',\n",
       " 'roc_auc_ovr',\n",
       " 'roc_auc_ovr_weighted',\n",
       " 'top_k_accuracy',\n",
       " 'v_measure_score']"
      ]
     },
     "execution_count": 53,
     "metadata": {},
     "output_type": "execute_result"
    }
   ],
   "source": [
    "import sklearn\n",
    "sorted(sklearn.metrics.SCORERS.keys())"
   ]
  },
  {
   "cell_type": "code",
   "execution_count": 68,
   "id": "363f45d3",
   "metadata": {},
   "outputs": [],
   "source": [
    "# Calcul du Mean AUC Score"
   ]
  },
  {
   "cell_type": "code",
   "execution_count": 56,
   "id": "3f3777ca",
   "metadata": {},
   "outputs": [],
   "source": [
    "from sklearn.model_selection import cross_val_score\n",
    "logreg2 = LogisticRegression(C=0.001, penalty=\"l2\")\n",
    "scores = cross_val_score(logreg2, X_train, y_train, cv=cross_val, scoring='roc_auc_ovo')"
   ]
  },
  {
   "cell_type": "code",
   "execution_count": 58,
   "id": "3fb1332a",
   "metadata": {},
   "outputs": [
    {
     "name": "stdout",
     "output_type": "stream",
     "text": [
      "Mean AUC Score - Logistic Regression:  0.5095779598449728\n"
     ]
    }
   ],
   "source": [
    "print(\"Mean AUC Score - Logistic Regression: \", scores.mean())"
   ]
  },
  {
   "cell_type": "code",
   "execution_count": 59,
   "id": "1bc84220",
   "metadata": {},
   "outputs": [],
   "source": [
    "# Calcul du balanced_accuracy "
   ]
  },
  {
   "cell_type": "code",
   "execution_count": 69,
   "id": "100df335",
   "metadata": {},
   "outputs": [
    {
     "name": "stdout",
     "output_type": "stream",
     "text": [
      "0.25\n"
     ]
    }
   ],
   "source": [
    "from sklearn.metrics import balanced_accuracy_score \n",
    "predict_test = logreg2.predict(X_test)\n",
    "balanced_accuracy = balanced_accuracy_score(y_test, predict_test)\n",
    "print(balanced_accuracy)"
   ]
  },
  {
   "cell_type": "code",
   "execution_count": 71,
   "id": "ac523b88",
   "metadata": {},
   "outputs": [],
   "source": [
    "# Calcul du geometric mean score"
   ]
  },
  {
   "cell_type": "code",
   "execution_count": 72,
   "id": "c9dd66dc",
   "metadata": {},
   "outputs": [
    {
     "name": "stdout",
     "output_type": "stream",
     "text": [
      "Geometric Mean Score : 0.0\n"
     ]
    }
   ],
   "source": [
    "from imblearn.metrics import geometric_mean_score\n",
    "geo_mean_score = geometric_mean_score(y_test, predict_test)\n",
    "print(\"Geometric Mean Score :\", geo_mean_score)"
   ]
  },
  {
   "cell_type": "code",
   "execution_count": 73,
   "id": "c634fe84",
   "metadata": {},
   "outputs": [],
   "source": [
    "## Calcul du balanced accuracy score"
   ]
  },
  {
   "cell_type": "code",
   "execution_count": 74,
   "id": "39bda68a",
   "metadata": {},
   "outputs": [
    {
     "name": "stdout",
     "output_type": "stream",
     "text": [
      "Balanced Accuracy Score : 0.25\n"
     ]
    }
   ],
   "source": [
    "balanced_accuracy_score = balanced_accuracy_score(y_test, predict_test)\n",
    "print(\"Balanced Accuracy Score :\", balanced_accuracy_score)"
   ]
  },
  {
   "cell_type": "code",
   "execution_count": 75,
   "id": "a8b6ec43",
   "metadata": {},
   "outputs": [
    {
     "name": "stdout",
     "output_type": "stream",
     "text": [
      "train score 0.40887675056135964\n"
     ]
    }
   ],
   "source": [
    "## Calcul du score de performance sur l'ensemble d'apprentissage \n",
    "\n",
    "print(\"train score\", logreg2.score(X_train, y_train))"
   ]
  },
  {
   "cell_type": "code",
   "execution_count": 76,
   "id": "48d32969",
   "metadata": {},
   "outputs": [
    {
     "name": "stdout",
     "output_type": "stream",
     "text": [
      "test score 0.4101825080491431\n"
     ]
    }
   ],
   "source": [
    "## Calcul du score de performance sur l'ensemble de test\n",
    "\n",
    "print(\"test score\", logreg2.score(X_test, y_test))"
   ]
  },
  {
   "cell_type": "markdown",
   "id": "9c22c400",
   "metadata": {},
   "source": [
    "## Calcul de la matrice de confusion - Méthode 1 : à l'aide de sklearn"
   ]
  },
  {
   "cell_type": "code",
   "execution_count": 77,
   "id": "0189b73d",
   "metadata": {},
   "outputs": [
    {
     "name": "stdout",
     "output_type": "stream",
     "text": [
      "[[     0      0  89903      0]\n",
      " [     0      0 157066      0]\n",
      " [     0      0 179888      0]\n",
      " [     0      0  11699      0]]\n"
     ]
    }
   ],
   "source": [
    "cm = confusion_matrix(y_test, predict_test)\n",
    "print(cm)"
   ]
  },
  {
   "cell_type": "markdown",
   "id": "3f5405aa",
   "metadata": {},
   "source": [
    "## Calcul de la matrice de confusion - Méthode 2 : à l'aide de pandas"
   ]
  },
  {
   "cell_type": "code",
   "execution_count": 78,
   "id": "5157c6a3",
   "metadata": {},
   "outputs": [
    {
     "data": {
      "text/html": [
       "<div>\n",
       "<style scoped>\n",
       "    .dataframe tbody tr th:only-of-type {\n",
       "        vertical-align: middle;\n",
       "    }\n",
       "\n",
       "    .dataframe tbody tr th {\n",
       "        vertical-align: top;\n",
       "    }\n",
       "\n",
       "    .dataframe thead th {\n",
       "        text-align: right;\n",
       "    }\n",
       "</style>\n",
       "<table border=\"1\" class=\"dataframe\">\n",
       "  <thead>\n",
       "    <tr style=\"text-align: right;\">\n",
       "      <th>Classe prédite</th>\n",
       "      <th>2</th>\n",
       "    </tr>\n",
       "    <tr>\n",
       "      <th>Classe réelle</th>\n",
       "      <th></th>\n",
       "    </tr>\n",
       "  </thead>\n",
       "  <tbody>\n",
       "    <tr>\n",
       "      <th>0</th>\n",
       "      <td>89903</td>\n",
       "    </tr>\n",
       "    <tr>\n",
       "      <th>1</th>\n",
       "      <td>157066</td>\n",
       "    </tr>\n",
       "    <tr>\n",
       "      <th>2</th>\n",
       "      <td>179888</td>\n",
       "    </tr>\n",
       "    <tr>\n",
       "      <th>3</th>\n",
       "      <td>11699</td>\n",
       "    </tr>\n",
       "  </tbody>\n",
       "</table>\n",
       "</div>"
      ],
      "text/plain": [
       "Classe prédite       2\n",
       "Classe réelle         \n",
       "0                89903\n",
       "1               157066\n",
       "2               179888\n",
       "3                11699"
      ]
     },
     "execution_count": 78,
     "metadata": {},
     "output_type": "execute_result"
    }
   ],
   "source": [
    "cm = pd.crosstab(y_test, predict_test, rownames=['Classe réelle'], colnames=['Classe prédite'])\n",
    "cm"
   ]
  },
  {
   "cell_type": "markdown",
   "id": "6118bb51",
   "metadata": {},
   "source": [
    "## Commentaires"
   ]
  },
  {
   "cell_type": "code",
   "execution_count": null,
   "id": "1532a1cd",
   "metadata": {},
   "outputs": [],
   "source": [
    "\"\"\"\n",
    "La matrice de confusion nous montre que la totalité des usagers accidentés de l'ensemble de test ont été classés\n",
    "comme appartenant à la classe 2 (blessé hospitalisé). Le taux de bonnes prédictions sur cette classe est de 41 %. \n",
    "\n",
    "Le déséquilibre des classes est toujours aussi flagrant. Notre modèle est trop entrainé sur la classe 2, \n",
    "il est par conséquent tout naturellement meilleur dans la reconnaissance de celle ci et est donc biaisé. \n",
    "\n",
    "Aucune amélioration par rapport à un modèle de régression logistique sans Grid Search ni Cross Validation.\n",
    "\n",
    "\"\"\""
   ]
  },
  {
   "cell_type": "markdown",
   "id": "2c06a2ed",
   "metadata": {},
   "source": [
    "## Affichage du rapport de classification pour évaluer les performances par classe"
   ]
  },
  {
   "cell_type": "code",
   "execution_count": 79,
   "id": "f79b9675",
   "metadata": {},
   "outputs": [
    {
     "name": "stderr",
     "output_type": "stream",
     "text": [
      "C:\\Users\\clevr\\anaconda3\\lib\\site-packages\\sklearn\\metrics\\_classification.py:1318: UndefinedMetricWarning: Precision and F-score are ill-defined and being set to 0.0 in labels with no predicted samples. Use `zero_division` parameter to control this behavior.\n",
      "  _warn_prf(average, modifier, msg_start, len(result))\n"
     ]
    },
    {
     "name": "stdout",
     "output_type": "stream",
     "text": [
      "Rapport de classification :\n",
      "               precision    recall  f1-score   support\n",
      "\n",
      "           0       0.00      0.00      0.00     89903\n",
      "           1       0.00      0.00      0.00    157066\n",
      "           2       0.41      1.00      0.58    179888\n",
      "           3       0.00      0.00      0.00     11699\n",
      "\n",
      "    accuracy                           0.41    438556\n",
      "   macro avg       0.10      0.25      0.15    438556\n",
      "weighted avg       0.17      0.41      0.24    438556\n",
      "\n"
     ]
    },
    {
     "name": "stderr",
     "output_type": "stream",
     "text": [
      "C:\\Users\\clevr\\anaconda3\\lib\\site-packages\\sklearn\\metrics\\_classification.py:1318: UndefinedMetricWarning: Precision and F-score are ill-defined and being set to 0.0 in labels with no predicted samples. Use `zero_division` parameter to control this behavior.\n",
      "  _warn_prf(average, modifier, msg_start, len(result))\n",
      "C:\\Users\\clevr\\anaconda3\\lib\\site-packages\\sklearn\\metrics\\_classification.py:1318: UndefinedMetricWarning: Precision and F-score are ill-defined and being set to 0.0 in labels with no predicted samples. Use `zero_division` parameter to control this behavior.\n",
      "  _warn_prf(average, modifier, msg_start, len(result))\n"
     ]
    }
   ],
   "source": [
    "print(\"Rapport de classification :\\n\", classification_report(y_test, predict_test))"
   ]
  },
  {
   "cell_type": "markdown",
   "id": "c6bf4113",
   "metadata": {},
   "source": [
    "## Commentaires "
   ]
  },
  {
   "cell_type": "code",
   "execution_count": null,
   "id": "d34f5946",
   "metadata": {},
   "outputs": [],
   "source": [
    "\"\"\"\n",
    "Le rapport de classification est rigoureusement identique à ce que nous avions obtenu avec un modèle\n",
    "de régression logistique sans Grid Search ni Cross Validation. Aucune amélioration pour le moment.\n",
    "\n",
    "Appliquons maintenant une méthode de rééchantillonnage : choix de la méthode Oversampling qui permet d'augmenter\n",
    "le nombre d'observations des classes minoritaires afin d'arriver à un ratio classes minoritaires / classe majoritaire\n",
    "satisfaisant.\n",
    "\n",
    "\"\"\""
   ]
  },
  {
   "cell_type": "markdown",
   "id": "a70bb9f9",
   "metadata": {},
   "source": [
    "# 2ème partie : Régression Logistique avec rééchantillonage"
   ]
  },
  {
   "cell_type": "code",
   "execution_count": 80,
   "id": "98ea54e9",
   "metadata": {},
   "outputs": [
    {
     "name": "stdout",
     "output_type": "stream",
     "text": [
      "Requirement already satisfied: imbalanced-learn in c:\\users\\clevr\\anaconda3\\lib\\site-packages (0.11.0)Note: you may need to restart the kernel to use updated packages.\n",
      "\n",
      "Requirement already satisfied: scipy>=1.5.0 in c:\\users\\clevr\\anaconda3\\lib\\site-packages (from imbalanced-learn) (1.9.1)\n",
      "Requirement already satisfied: threadpoolctl>=2.0.0 in c:\\users\\clevr\\anaconda3\\lib\\site-packages (from imbalanced-learn) (2.2.0)\n",
      "Requirement already satisfied: numpy>=1.17.3 in c:\\users\\clevr\\anaconda3\\lib\\site-packages (from imbalanced-learn) (1.21.5)\n",
      "Requirement already satisfied: scikit-learn>=1.0.2 in c:\\users\\clevr\\anaconda3\\lib\\site-packages (from imbalanced-learn) (1.0.2)\n",
      "Requirement already satisfied: joblib>=1.1.1 in c:\\users\\clevr\\anaconda3\\lib\\site-packages (from imbalanced-learn) (1.3.1)\n"
     ]
    }
   ],
   "source": [
    "pip install -U imbalanced-learn"
   ]
  },
  {
   "cell_type": "code",
   "execution_count": 81,
   "id": "fa7b16a1",
   "metadata": {},
   "outputs": [],
   "source": [
    "from imblearn.over_sampling import RandomOverSampler\n",
    "from imblearn.under_sampling import RandomUnderSampler\n",
    "from imblearn.metrics import classification_report_imbalanced, geometric_mean_score\n",
    "from sklearn.metrics import f1_score"
   ]
  },
  {
   "cell_type": "markdown",
   "id": "f7040e51",
   "metadata": {},
   "source": [
    "## Application de la méthode Random Oversampling"
   ]
  },
  {
   "cell_type": "code",
   "execution_count": 55,
   "id": "51b4642b",
   "metadata": {},
   "outputs": [
    {
     "name": "stdout",
     "output_type": "stream",
     "text": [
      "Classes échantillon oversampled : {1: 717261, 0: 717261, 2: 717261, 3: 717261}\n"
     ]
    }
   ],
   "source": [
    "# Random Oversampling\n",
    "\n",
    "rOs = RandomOverSampler()\n",
    "X_ro, y_ro = rOs.fit_resample(X_train, y_train)\n",
    "print('Classes échantillon oversampled :', dict(pd.Series(y_ro).value_counts()))"
   ]
  },
  {
   "cell_type": "markdown",
   "id": "c995fd22",
   "metadata": {},
   "source": [
    "## Entraînement du modèle sur l'ensemble issu du RandomOversampler"
   ]
  },
  {
   "cell_type": "code",
   "execution_count": 56,
   "id": "18ef85e0",
   "metadata": {},
   "outputs": [
    {
     "data": {
      "text/plain": [
       "LogisticRegression()"
      ]
     },
     "execution_count": 56,
     "metadata": {},
     "output_type": "execute_result"
    }
   ],
   "source": [
    "logreg2.fit(X_ro, y_ro)"
   ]
  },
  {
   "cell_type": "markdown",
   "id": "824a4fc2",
   "metadata": {},
   "source": [
    "## Évaluation du modèle sur l'ensemble issu du RandomOversampler"
   ]
  },
  {
   "cell_type": "code",
   "execution_count": 57,
   "id": "a17ec1d1",
   "metadata": {},
   "outputs": [
    {
     "name": "stdout",
     "output_type": "stream",
     "text": [
      "Score prédiction sur les données entrainement : 0.25\n",
      "Réalisé en 56.892 secondes\n"
     ]
    }
   ],
   "source": [
    "# Affichage du score de prédiction sur l'ensemble d'entrainement et calcul du temps d'exécution\n",
    "\n",
    "t0 = time()\n",
    "\n",
    "predict_train = logreg2.predict(X_ro)\n",
    "train_acc = accuracy_score(y_ro, predict_train)\n",
    "print('Score prédiction sur les données entrainement :',train_acc)\n",
    "\n",
    "tt = time() - t0\n",
    "print(\"Réalisé en {} secondes\".format(round(tt,3)))"
   ]
  },
  {
   "cell_type": "code",
   "execution_count": 58,
   "id": "34a57cec",
   "metadata": {},
   "outputs": [
    {
     "name": "stdout",
     "output_type": "stream",
     "text": [
      "Score prédiction sur les données de test : 0.3581435438119647\n",
      "Réalisé en 1.02 secondes\n"
     ]
    }
   ],
   "source": [
    "# Affichage du score de prédiction sur l'ensemble de test et calcul du temps d'exécution\n",
    "\n",
    "t0 = time()\n",
    "\n",
    "predict_test = logreg2.predict(X_test)\n",
    "test_acc = accuracy_score(y_test, predict_test)\n",
    "print('Score prédiction sur les données de test :',test_acc)\n",
    "\n",
    "tt = time() - t0\n",
    "print(\"Réalisé en {} secondes\".format(round(tt,3)))"
   ]
  },
  {
   "cell_type": "code",
   "execution_count": 59,
   "id": "32ca3587",
   "metadata": {},
   "outputs": [
    {
     "name": "stdout",
     "output_type": "stream",
     "text": [
      "Geometric Mean Score : 0.0\n"
     ]
    }
   ],
   "source": [
    "# Calcul du geometric mean score\n",
    "\n",
    "geometric_mean = geometric_mean_score(y_test, predict_test)\n",
    "print(\"Geometric Mean Score :\", geometric_mean)"
   ]
  },
  {
   "cell_type": "code",
   "execution_count": 60,
   "id": "a7075fe2",
   "metadata": {},
   "outputs": [
    {
     "name": "stdout",
     "output_type": "stream",
     "text": [
      "Balanced Accuracy Score : 0.25\n"
     ]
    }
   ],
   "source": [
    "## Calcul du balanced accuracy score\n",
    "\n",
    "balanced_accuracy = balanced_accuracy_score(y_test, predict_test)\n",
    "print(\"Balanced Accuracy Score :\", balanced_accuracy)"
   ]
  },
  {
   "cell_type": "code",
   "execution_count": 61,
   "id": "6108322f",
   "metadata": {},
   "outputs": [
    {
     "name": "stdout",
     "output_type": "stream",
     "text": [
      "Balanced Accuracy Score : 0.25\n"
     ]
    }
   ],
   "source": [
    "## Calcul du balanced accuracy score\n",
    "\n",
    "balanced_accuracy = balanced_accuracy_score(y_test, predict_test)\n",
    "print(\"Balanced Accuracy Score :\", balanced_accuracy)"
   ]
  },
  {
   "cell_type": "code",
   "execution_count": 62,
   "id": "65150e8f",
   "metadata": {},
   "outputs": [
    {
     "data": {
      "text/plain": [
       "0.3581682602496946"
      ]
     },
     "execution_count": 62,
     "metadata": {},
     "output_type": "execute_result"
    }
   ],
   "source": [
    "## Calcul du score sur l'ensemble d'apprentissage \n",
    "\n",
    "logreg2.score(X_train, y_train)"
   ]
  },
  {
   "cell_type": "code",
   "execution_count": 63,
   "id": "a06318af",
   "metadata": {},
   "outputs": [
    {
     "data": {
      "text/plain": [
       "0.3581435438119647"
      ]
     },
     "execution_count": 63,
     "metadata": {},
     "output_type": "execute_result"
    }
   ],
   "source": [
    "## Calcul du score sur l'ensemble de test\n",
    "\n",
    "logreg2.score(X_test, y_test)"
   ]
  },
  {
   "cell_type": "markdown",
   "id": "73d10eda",
   "metadata": {},
   "source": [
    "## Affichage de la matrice de confusion obtenue grâce aux prédictions sur l'ensemble de test"
   ]
  },
  {
   "cell_type": "code",
   "execution_count": 64,
   "id": "dc8bbe10",
   "metadata": {},
   "outputs": [
    {
     "data": {
      "text/html": [
       "<div>\n",
       "<style scoped>\n",
       "    .dataframe tbody tr th:only-of-type {\n",
       "        vertical-align: middle;\n",
       "    }\n",
       "\n",
       "    .dataframe tbody tr th {\n",
       "        vertical-align: top;\n",
       "    }\n",
       "\n",
       "    .dataframe thead th {\n",
       "        text-align: right;\n",
       "    }\n",
       "</style>\n",
       "<table border=\"1\" class=\"dataframe\">\n",
       "  <thead>\n",
       "    <tr style=\"text-align: right;\">\n",
       "      <th>Classe prédite</th>\n",
       "      <th>1</th>\n",
       "    </tr>\n",
       "    <tr>\n",
       "      <th>Classe réelle</th>\n",
       "      <th></th>\n",
       "    </tr>\n",
       "  </thead>\n",
       "  <tbody>\n",
       "    <tr>\n",
       "      <th>0</th>\n",
       "      <td>89903</td>\n",
       "    </tr>\n",
       "    <tr>\n",
       "      <th>1</th>\n",
       "      <td>157066</td>\n",
       "    </tr>\n",
       "    <tr>\n",
       "      <th>2</th>\n",
       "      <td>179888</td>\n",
       "    </tr>\n",
       "    <tr>\n",
       "      <th>3</th>\n",
       "      <td>11699</td>\n",
       "    </tr>\n",
       "  </tbody>\n",
       "</table>\n",
       "</div>"
      ],
      "text/plain": [
       "Classe prédite       1\n",
       "Classe réelle         \n",
       "0                89903\n",
       "1               157066\n",
       "2               179888\n",
       "3                11699"
      ]
     },
     "execution_count": 64,
     "metadata": {},
     "output_type": "execute_result"
    }
   ],
   "source": [
    "pd.crosstab(y_test, predict_test, rownames=['Classe réelle'], colnames=['Classe prédite'])"
   ]
  },
  {
   "cell_type": "markdown",
   "id": "da03dd36",
   "metadata": {},
   "source": [
    "## Commentaires"
   ]
  },
  {
   "cell_type": "code",
   "execution_count": 65,
   "id": "bc5b505e",
   "metadata": {},
   "outputs": [
    {
     "data": {
      "text/plain": [
       "\"\\nLa matrice de confusion nous montre que la totalité des usagers accidentés de l'ensemble de test ont été classés\\ncomme appartenant à la classe 1 (blessé léger) alors que cette classe ne concerne en réalité que 35.81 % des accidents.\\n\\nPar conséquent, notre modèle est encore aussi performant qu'un modèle purement aléatoire qui attribuerait une classe\\nen la choisissant au hasard uniformément.\\n\\n\""
      ]
     },
     "execution_count": 65,
     "metadata": {},
     "output_type": "execute_result"
    }
   ],
   "source": [
    "\"\"\"\n",
    "La matrice de confusion nous montre que la totalité des usagers accidentés de l'ensemble de test ont été classés\n",
    "comme appartenant à la classe 1 (blessé léger). Le taux de bonnes prédictions sur cette classe est de 35,81 %. \n",
    "\n",
    "Le déséquilibre des classes est toujours aussi flagrant. Notre modèle est trop entrainé sur la classe 1, \n",
    "il est par conséquent tout naturellement meilleur dans la reconnaissance de celle ci et est donc biaisé. \n",
    "\n",
    "Il n'y a aucune amélioration par rapport à un modèle de régression logistique sans Grid Search, ni Cross Validation\n",
    "et sans rééchantillonage. Le taux de bonnes prédictions sur cette classe 1 (35.81 %) est rigoureusement identique \n",
    "au taux de bonnes prédictions obtenu sur la classe 2 (35.81 %) du modèle précédent avec Random Oversampling. \n",
    "\n",
    "Encore une fois, notre modèle est aussi performant qu'un modèle purement aléatoire qui attribuerait une classe\n",
    "en la choisissant au hasard uniformément.\n",
    "\n",
    "\"\"\""
   ]
  },
  {
   "cell_type": "markdown",
   "id": "d27b76c9",
   "metadata": {},
   "source": [
    "## Rapport de résultat sur l'ensemble de test obtenu par classification_report_imbalanced"
   ]
  },
  {
   "cell_type": "code",
   "execution_count": 66,
   "id": "6481a8fa",
   "metadata": {},
   "outputs": [
    {
     "name": "stderr",
     "output_type": "stream",
     "text": [
      "C:\\Users\\clevr\\anaconda3\\lib\\site-packages\\sklearn\\metrics\\_classification.py:1318: UndefinedMetricWarning: Precision and F-score are ill-defined and being set to 0.0 in labels with no predicted samples. Use `zero_division` parameter to control this behavior.\n",
      "  _warn_prf(average, modifier, msg_start, len(result))\n"
     ]
    },
    {
     "name": "stdout",
     "output_type": "stream",
     "text": [
      "                   pre       rec       spe        f1       geo       iba       sup\n",
      "\n",
      "          0       0.00      0.00      1.00      0.00      0.00      0.00     89903\n",
      "          1       0.36      1.00      0.00      0.53      0.00      0.00    157066\n",
      "          2       0.00      0.00      1.00      0.00      0.00      0.00    179888\n",
      "          3       0.00      0.00      1.00      0.00      0.00      0.00     11699\n",
      "\n",
      "avg / total       0.13      0.36      0.64      0.19      0.00      0.00    438556\n",
      "\n"
     ]
    }
   ],
   "source": [
    "print(classification_report_imbalanced(y_test, predict_test))"
   ]
  },
  {
   "cell_type": "markdown",
   "id": "d5fd9128",
   "metadata": {},
   "source": [
    "## Commentaires "
   ]
  },
  {
   "cell_type": "code",
   "execution_count": null,
   "id": "efb42c63",
   "metadata": {},
   "outputs": [],
   "source": [
    "\"\"\"\n",
    "La précision et le rappel sont nuls pour les classes 0, 2 et 3. \n",
    "Ces classes n'ont pas du tout été bien gérées par le modèle.\n",
    "\n",
    "Concernant la classe 1 (blessé léger), la précision est de 36 %, toutefois le rappel est élevé (100 %).\n",
    "Cette fois-ci, la classe 1 a bien été gérée par le modèle, celle-ci a bien été détectée.\n",
    "\n",
    "Cependant, comme cela a été mentionné précedement, il faut relativiser ce résultat.\n",
    "Concernant le F1-score, celui-ci est de 53 %, mais la performance de bonnes prédictions sur cette classe \n",
    "est toute relative compte tenu du déséquilibre flagrant avec les autres classes.\n",
    "\n",
    "En conclusion, la méthode de rééchantillonage Random Oversampling n'a pas permis d'améliorer les performances\n",
    "de notre modèle. La majorité des classes n'étant pas bien gérées et la problématique de déséquilibre de classes\n",
    "est toujours bien présent.\n",
    "\n",
    "\"\"\""
   ]
  },
  {
   "cell_type": "markdown",
   "id": "95b3b900",
   "metadata": {},
   "source": [
    "## Conclusion générale"
   ]
  },
  {
   "cell_type": "code",
   "execution_count": null,
   "id": "fa0a75b0",
   "metadata": {},
   "outputs": [],
   "source": [
    "\"\"\"\n",
    "Les résultats obtenus ne sont toujours pas satisfaisants.\n",
    "\n",
    "Le Random Oversampling après l'étape Grid Search et CV n'a pas produit les résultats escomptés. \n",
    "Les performances de notre modèle Regression Logistic n'ont pas été améliorées. \n",
    "Notre modèle est aussi performant qu'un modèle purement aléatoire qui attribuerait une classe\n",
    "en la choisissant au hasard uniformément. \n",
    "\n",
    "Par ailleurs, nous avons calculé la moyenne géometrique (geometric mean) qui s'avère utile\n",
    "pour les problèmes de classification déséquilibrée : il s'agit de la racine du produit\n",
    "de la sensibilité et de la spécificité. Celle-ci est nulle, par conséquent le modèle\n",
    "n'est absolument pas acceptable pour notre problème.\n",
    "Il peut s’agir de l’algorithme utilisé qui ne convient pas à nos données. \n",
    "\n",
    "Puis par la suite, nous allons expérimenter un modèle RandomForestClassifier qui sera entrainé afin de comparer\n",
    "les performances obtenues avec le modèle Regression Logistic. Il s'avère que les modèles d’ensemble à base\n",
    "d’arbres comme les RandomForest sont généralement mieux adaptés aux données déséquilibrées.\n",
    "\n",
    "En parallèle, des modèles d’ensembles, comme le Boosting ou Bagging, seront entrainés par d'autres membres\n",
    "de notre équipe. \n",
    "Il s'avère que ces modèles sont entraînés à chaque étape de l’algorithme sur un échantillon rééquilibré automatiquement\n",
    "entre les différentes classes.\n",
    "\n",
    "\"\"\""
   ]
  }
 ],
 "metadata": {
  "kernelspec": {
   "display_name": "Python 3 (ipykernel)",
   "language": "python",
   "name": "python3"
  },
  "language_info": {
   "codemirror_mode": {
    "name": "ipython",
    "version": 3
   },
   "file_extension": ".py",
   "mimetype": "text/x-python",
   "name": "python",
   "nbconvert_exporter": "python",
   "pygments_lexer": "ipython3",
   "version": "3.9.13"
  }
 },
 "nbformat": 4,
 "nbformat_minor": 5
}
