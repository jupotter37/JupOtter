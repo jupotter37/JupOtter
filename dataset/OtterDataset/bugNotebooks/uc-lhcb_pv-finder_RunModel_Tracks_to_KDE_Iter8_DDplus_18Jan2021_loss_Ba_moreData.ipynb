{
 "cells": [
  {
   "cell_type": "code",
   "execution_count": 1,
   "metadata": {},
   "outputs": [],
   "source": [
    "##%matplotlib widget\n",
    "## with %matplotlib notebook: seems to require ipympl as part of environment, either\n",
    "## part of the conda environment or \"pip install ipympl\"\n",
    "## otherwise, does not show ANY plots in note\"book, plt.savefig() works\n",
    "%matplotlib notebook  \n",
    "##%matplotlib inline    ## --plt.savefig()  works, but re-sizing does NOT\n"
   ]
  },
  {
   "cell_type": "markdown",
   "metadata": {},
   "source": [
    "This notebook is the second attempt to read in track information and use it to predict the KDE used as input to PvFinder. This time, we are reading in poca KDEs rather than the original KDEs. \n",
    "\n",
    "collectdata_kde_C.py uses poca_z, poca_x, poca_y, major_axis_x, major_axis_y, and major_axis_z as the six track parameters (for the moment)\n"
   ]
  },
  {
   "cell_type": "markdown",
   "metadata": {},
   "source": [
    "Check the current GPU usage. Please try to be nice!"
   ]
  },
  {
   "cell_type": "code",
   "execution_count": 2,
   "metadata": {},
   "outputs": [
    {
     "name": "stdout",
     "output_type": "stream",
     "text": [
      "Tue Jan 19 00:20:30 2021       \r\n",
      "+-----------------------------------------------------------------------------+\r\n",
      "| NVIDIA-SMI 440.64.00    Driver Version: 440.64.00    CUDA Version: 10.2     |\r\n",
      "|-------------------------------+----------------------+----------------------+\r\n",
      "| GPU  Name        Persistence-M| Bus-Id        Disp.A | Volatile Uncorr. ECC |\r\n",
      "| Fan  Temp  Perf  Pwr:Usage/Cap|         Memory-Usage | GPU-Util  Compute M. |\r\n",
      "|===============================+======================+======================|\r\n",
      "|   0  TITAN V             Off  | 00000000:03:00.0 Off |                  N/A |\r\n",
      "| 46%   63C    P2   125W / 250W |  11777MiB / 12066MiB |    100%      Default |\r\n",
      "+-------------------------------+----------------------+----------------------+\r\n",
      "|   1  Tesla P100-PCIE...  Off  | 00000000:83:00.0 Off |                    0 |\r\n",
      "| N/A   32C    P0    27W / 250W |     10MiB / 16280MiB |      0%      Default |\r\n",
      "+-------------------------------+----------------------+----------------------+\r\n",
      "|   2  TITAN V             Off  | 00000000:84:00.0 Off |                  N/A |\r\n",
      "| 41%   49C    P8    29W / 250W |     12MiB / 12066MiB |      0%      Default |\r\n",
      "+-------------------------------+----------------------+----------------------+\r\n",
      "                                                                               \r\n",
      "+-----------------------------------------------------------------------------+\r\n",
      "| Processes:                                                       GPU Memory |\r\n",
      "|  GPU       PID   Type   Process name                             Usage      |\r\n",
      "|=============================================================================|\r\n",
      "|    0      4892      C   ...a/conda/envs/goofit-june2020/bin/python  2423MiB |\r\n",
      "|    0     30329      C   ...a/conda/envs/goofit-june2020/bin/python  1095MiB |\r\n",
      "|    0     47592      C   ...a/conda/envs/goofit-june2020/bin/python  8247MiB |\r\n",
      "+-----------------------------------------------------------------------------+\r\n"
     ]
    }
   ],
   "source": [
    "!nvidia-smi"
   ]
  },
  {
   "cell_type": "markdown",
   "metadata": {},
   "source": [
    "> **WARNING**: The card numbers here are *not* the same as in CUDA. You have been warned."
   ]
  },
  {
   "cell_type": "markdown",
   "metadata": {},
   "source": [
    "This notebook is first attempt to read in track information and use it to predict the KDE used as input to PvFinder.\n"
   ]
  },
  {
   "cell_type": "markdown",
   "metadata": {},
   "source": [
    "## Imports"
   ]
  },
  {
   "cell_type": "code",
   "execution_count": 3,
   "metadata": {},
   "outputs": [],
   "source": [
    "import matplotlib.pyplot as plt\n",
    "import numpy as np\n",
    "import time\n",
    "import torch\n",
    "import pandas as pd\n",
    "\n",
    "# Python 3 standard library\n",
    "from pathlib import Path\n",
    "\n",
    "##from torchsummary import summary"
   ]
  },
  {
   "cell_type": "markdown",
   "metadata": {},
   "source": [
    "### Set up local parameters"
   ]
  },
  {
   "cell_type": "code",
   "execution_count": 4,
   "metadata": {},
   "outputs": [],
   "source": [
    "n_epochs = 100\n",
    "\n",
    "# Name is the output file name\n",
    "\n",
    "\n",
    "##  201027 -- about to go to bed, so try 2500 epochs with lr = 1e55\n",
    "##  previous iteration had l4 = 3e-5 and cost dropped almost linearly\n",
    "##  for 100 epochs -- final training costs ~ 2.02, validation cost ~ 2.01\n",
    "\n",
    "## for iter 4, try 10 epochs with lr = 3e-6\n",
    "## usually have a big jump down at epoch 0; want to try a\n",
    "## small number of epochs per iteration and see what happens (iter4: 10 epochs gave\n",
    "## traiing cost dropping from 1.54 to 1.50 immediately, then dropping very slowly)\n",
    "folder = '18Jan_DDplus_loss_Ba_iter8_floatAll_100epochs_1em5_4xwill'\n",
    "name   = folder\n",
    "\n",
    "# Make an output folder named \"name\" (change if you want)\n",
    "\n",
    "## Special instructions for those working on goofy at UC\n",
    "## Please be very careful to make sure that your folder\n",
    "## does not live in a subdirectory of your home directory\n",
    "## this disk has very little capacity. Instead, use \n",
    "## a subdirectory in /share/lazy with a symbolic link to\n",
    "## it in this (the notebooks) subdirectory\n",
    "folder = 'ML/' + folder\n",
    "output = Path(folder)\n",
    "\n",
    "\n",
    "# Size of batches\n",
    "batch_size = 48 ## batch_size = 24 ---> 4763MiB / 12066MiB on Titan V\n",
    "# How fast to learn\n",
    "learning_rate = 1e-5"
   ]
  },
  {
   "cell_type": "markdown",
   "metadata": {},
   "source": [
    "Make the output directory if it does not exist:"
   ]
  },
  {
   "cell_type": "code",
   "execution_count": 5,
   "metadata": {},
   "outputs": [],
   "source": [
    "output.mkdir(exist_ok=True)"
   ]
  },
  {
   "cell_type": "markdown",
   "metadata": {},
   "source": [
    "## Get the helper functions\n",
    "\n",
    "Add the directory with the model\n",
    "definitions to the path so we can import from it:\n",
    "\n",
    "> When you type `import X`,\n",
    "Python searches `sys.path` for a python\n",
    "file named `X.py` to import. So we need to add the model directory to the path."
   ]
  },
  {
   "cell_type": "code",
   "execution_count": 6,
   "metadata": {
    "scrolled": true
   },
   "outputs": [],
   "source": [
    "# From model/collectdata.py\n",
    "##from model.collectdata_kde_B import collect_t2kde_data\n",
    "## collectdata_kde_C should use the new poca KDE rather than the original kernel KDE\n",
    "from model.collectdata_kde_Ellipsoids import collect_t2kde_data\n",
    "\n",
    "\n",
    "# From model/loss.py\n",
    "##from loss import Loss\n",
    "## kde_loss_D includes botha ratio term and a chisq term, 98% ave_chisq\n",
    "## kde_loss_E adds a chi^4 term to the kde_loss_D return value\n",
    "## this is intended to emphasize the importance of values significantly different than zero\n",
    "from model.kde_loss_Ba import Loss\n",
    "\n",
    "##  TracksToKDE_Ellipsoids_SevenLayerCake has 7 hidden layers producing the 4000-bin KDE historgram\n",
    "##  It takes 9 input features (pocca centers + (A,B,C,D,E,F) . \n",
    "from model.models_kde import TracksToKDE_Ellipsoids_DDplus as Model\n",
    "\n",
    "\n",
    "from model.training_kde import trainNet, select_gpu, Results\n",
    "from model.plots import dual_train_plots, replace_in_ax"
   ]
  },
  {
   "cell_type": "code",
   "execution_count": 7,
   "metadata": {},
   "outputs": [],
   "source": [
    "# This gets built up during the run - do not rerun this cell\n",
    "results = pd.DataFrame([], columns=Results._fields)"
   ]
  },
  {
   "cell_type": "markdown",
   "metadata": {},
   "source": [
    "Set up Torch device configuration. All tensors and model parameters need to know where to be put.\n",
    "This takes a BUS ID number: The BUS ID is the same as the listing at the top of this script."
   ]
  },
  {
   "cell_type": "code",
   "execution_count": 8,
   "metadata": {},
   "outputs": [
    {
     "name": "stdout",
     "output_type": "stream",
     "text": [
      "1 available GPUs (initially using device 0):\n",
      "  0 TITAN V\n"
     ]
    }
   ],
   "source": [
    "device = select_gpu(2)\n",
    "##device = \"cpu\""
   ]
  },
  {
   "cell_type": "markdown",
   "metadata": {},
   "source": [
    "## Loading data\n",
    "\n",
    "Load the dataset, split into parts, then move to device (see `collectdata.py` in the `../model` directory)"
   ]
  },
  {
   "cell_type": "markdown",
   "metadata": {},
   "source": [
    "# Preparing the model"
   ]
  },
  {
   "cell_type": "markdown",
   "metadata": {},
   "source": [
    "Prepare a model, use multiple GPUs if they are VISIBLE, and move the model to the device."
   ]
  },
  {
   "cell_type": "code",
   "execution_count": 9,
   "metadata": {
    "scrolled": true
   },
   "outputs": [],
   "source": [
    "##print(\"Let's use\", torch.cuda.device_count(), \"GPUs!\")\n",
    "##if torch.cuda.device_count() > 1:\n",
    "##    model = torch.nn.DataParallel(model)"
   ]
  },
  {
   "cell_type": "code",
   "execution_count": 10,
   "metadata": {},
   "outputs": [
    {
     "name": "stdout",
     "output_type": "stream",
     "text": [
      "ct, child =  0    Linear(in_features=9, out_features=50, bias=True)\n",
      "ct, child =  1    Linear(in_features=50, out_features=50, bias=True)\n",
      "ct, child =  2    Linear(in_features=50, out_features=50, bias=True)\n",
      "ct, child =  3    Linear(in_features=50, out_features=50, bias=True)\n",
      "ct, child =  4    Linear(in_features=50, out_features=50, bias=True)\n",
      "ct, child =  5    Linear(in_features=50, out_features=50, bias=True)\n",
      "ct, child =  6    Linear(in_features=50, out_features=50, bias=True)\n",
      "ct, child =  7    Linear(in_features=50, out_features=50, bias=True)\n",
      "ct, child =  8    Linear(in_features=50, out_features=50, bias=True)\n",
      "ct, child =  9    Linear(in_features=50, out_features=50, bias=True)\n",
      "ct, child =  10    Linear(in_features=50, out_features=50, bias=True)\n",
      "ct, child =  11    Linear(in_features=50, out_features=16000, bias=True)\n",
      "ct, child =  12    Conv1d(4, 25, kernel_size=(25,), stride=(1,), padding=(12,))\n",
      "ct, child =  13    Conv1d(25, 1, kernel_size=(5,), stride=(1,), padding=(2,))\n",
      "ct, child =  14    Linear(in_features=4000, out_features=4000, bias=True)\n",
      "ct, child =  15    Conv1d(25, 1, kernel_size=(15,), stride=(1,), padding=(7,))\n",
      "ct, child =  16    Dropout(p=0.15, inplace=False)\n",
      "ct, child =  17    Dropout(p=0.15, inplace=False)\n"
     ]
    }
   ],
   "source": [
    "## a comment on the web at https://pytorch.org/docs/stable/optim.html says\n",
    "\"\"\"\n",
    "If you need to move a model to GPU via .cuda(), please do so before constructing optimizers for it. \n",
    "Parameters of a model after .cuda() will be different objects with those before the call.\n",
    "\n",
    "In general, you should make sure that optimized parameters live in consistent locations when \n",
    "optimizers are constructed and used.\n",
    "\"\"\"\n",
    "## so move this here (although we are using model.to(device) not explicitly using .cuda()\n",
    "\n",
    "nOut1 = 50\n",
    "nOut2 = 50\n",
    "nOut3 = 50\n",
    "nOut4 = 50\n",
    "nOut5 = 50\n",
    "nOut6 = 50\n",
    "nOut7 = 50\n",
    "nOut8 = 50\n",
    "nOut9 = 50\n",
    "nOut10 = 50\n",
    "nOut11 = 50\n",
    "latentChannels = 4\n",
    "model = Model(nOut1,nOut2,nOut3,nOut4,nOut5,nOut6,nOut7,nOut8,nOut9,nOut10,nOut11,latentChannels)\n",
    "\n",
    "##summary(model, input_size=(4, 4000))\n",
    "##print(model.parameters)\n",
    "\n",
    "## add the following code to allow the user to freeze the some of the weights corresponding \n",
    "## to those taken from an earlier model trained with the original target histograms\n",
    "## presumably -- this leaves either the perturbative filter \"fixed\" and lets the \n",
    "## learning focus on the non-perturbative features, so get started faster, or vice versa\n",
    "ct = 0\n",
    "for child in model.children():\n",
    "  print('ct, child = ',ct, \"  \", child)\n",
    "  if ct < 0:\n",
    "    print(\"     About to set param.requires_grad=False for ct = \", ct, \"params\")\n",
    "    for param in child.parameters():\n",
    "        param.requires_grad = False \n",
    "  ct += 1\n",
    "##  mds 200121 loss = Loss(epsilon=1e-5,coefficient=1.0)\n",
    "##  loss = Loss(epsilon=1e-5,coefficient=2.5)\n",
    "##loss = Loss(epsilon=3e-5, debug=False)\n",
    "loss = Loss(epsilon=3e-5)"
   ]
  },
  {
   "cell_type": "markdown",
   "metadata": {},
   "source": [
    "Let's move the model's weight matricies to the GPU:"
   ]
  },
  {
   "cell_type": "code",
   "execution_count": 11,
   "metadata": {
    "scrolled": true
   },
   "outputs": [],
   "source": [
    "model = model.to(device)"
   ]
  },
  {
   "cell_type": "code",
   "execution_count": 12,
   "metadata": {
    "scrolled": true
   },
   "outputs": [],
   "source": [
    "optimizer = torch.optim.Adam(model.parameters(), lr=learning_rate)\n",
    "##optimizer = torch.optim.SGD(model.parameters(), lr=learning_rate)"
   ]
  },
  {
   "cell_type": "code",
   "execution_count": 13,
   "metadata": {
    "scrolled": false
   },
   "outputs": [
    {
     "name": "stdout",
     "output_type": "stream",
     "text": [
      "output =  ML/18Jan_DDplus_loss_Ba_iter8_floatAll_100epochs_1em5_4xwill\n",
      "for model_dict\n",
      "index, k =   0    layer1.weight\n",
      "index, k =   1    layer1.bias\n",
      "index, k =   2    layer2.weight\n",
      "index, k =   3    layer2.bias\n",
      "index, k =   4    layer3.weight\n",
      "index, k =   5    layer3.bias\n",
      "index, k =   6    layer4.weight\n",
      "index, k =   7    layer4.bias\n",
      "index, k =   8    layer5.weight\n",
      "index, k =   9    layer5.bias\n",
      "index, k =   10    layer6.weight\n",
      "index, k =   11    layer6.bias\n",
      "index, k =   12    layer7.weight\n",
      "index, k =   13    layer7.bias\n",
      "index, k =   14    layer8.weight\n",
      "index, k =   15    layer8.bias\n",
      "index, k =   16    layer9.weight\n",
      "index, k =   17    layer9.bias\n",
      "index, k =   18    layer10.weight\n",
      "index, k =   19    layer10.bias\n",
      "index, k =   20    layer11.weight\n",
      "index, k =   21    layer11.bias\n",
      "index, k =   22    layer12new.weight\n",
      "index, k =   23    layer12new.bias\n",
      "index, k =   24    conv1.weight\n",
      "index, k =   25    conv1.bias\n",
      "index, k =   26    conv2.weight\n",
      "index, k =   27    conv2.bias\n",
      "index, k =   28    fc1.weight\n",
      "index, k =   29    fc1.bias\n",
      "index, k =   30    finalFilter.weight\n",
      "index, k =   31    finalFilter.bias\n",
      "dict_name =  ML/25December__DDplus_loss_Ba_iter7_floatAll_800epochs_4em6/25December__DDplus_loss_Ba_iter7_floatAll_800epochs_4em6_final.pyt\n",
      " \n",
      "  for pretrained_dict\n",
      "index, k =   0    layer1.weight\n",
      "index, k =   1    layer1.bias\n",
      "index, k =   2    layer2.weight\n",
      "index, k =   3    layer2.bias\n",
      "index, k =   4    layer3.weight\n",
      "index, k =   5    layer3.bias\n",
      "index, k =   6    layer4.weight\n",
      "index, k =   7    layer4.bias\n",
      "index, k =   8    layer5.weight\n",
      "index, k =   9    layer5.bias\n",
      "index, k =   10    layer6.weight\n",
      "index, k =   11    layer6.bias\n",
      "index, k =   12    layer7.weight\n",
      "index, k =   13    layer7.bias\n",
      "index, k =   14    layer8.weight\n",
      "index, k =   15    layer8.bias\n",
      "index, k =   16    layer9.weight\n",
      "index, k =   17    layer9.bias\n",
      "index, k =   18    layer10.weight\n",
      "index, k =   19    layer10.bias\n",
      "index, k =   20    layer11.weight\n",
      "index, k =   21    layer11.bias\n",
      "index, k =   22    layer12new.weight\n",
      "index, k =   23    layer12new.bias\n",
      "index, k =   24    conv1.weight\n",
      "index, k =   25    conv1.bias\n",
      "index, k =   26    conv2.weight\n",
      "index, k =   27    conv2.bias\n",
      "index, k =   28    fc1.weight\n",
      "index, k =   29    fc1.bias\n",
      "index, k =   30    finalFilter.weight\n",
      "index, k =   31    finalFilter.bias\n",
      "pretrained_dict iterated\n"
     ]
    },
    {
     "data": {
      "text/plain": [
       "<All keys matched successfully>"
      ]
     },
     "execution_count": 13,
     "metadata": {},
     "output_type": "execute_result"
    }
   ],
   "source": [
    "print('output = ',output)\n",
    "##print('oldOutput = ',oldOutput)\n",
    "##  use the first four layers from a pre-existing model\n",
    "##  see example at https://discuss.pytorch.org/t/how-to-load-part-of-pre-trained-model/1113\n",
    "\n",
    "##   ML -> /share/lazy/sokoloff/ML\n",
    "model_dict = model.state_dict()\n",
    "## mds 190725 for debugging\n",
    "print(\"for model_dict\")\n",
    "index = 0\n",
    "for k,v in model_dict.items():\n",
    "    print(\"index, k =  \",index,\"  \",k)\n",
    "    index = index+1\n",
    "##    print(\"value = \", v)\n",
    " \n",
    "updated_dict = model_dict\n",
    "##print(\"updated_dict = \",updated_dict)\n",
    "## when starting \"ab initio\", reduce biases as the bias gets summed for each track\n",
    "## contributing to the predicted KDE\n",
    "updated_dict[\"layer1.bias\"] = 0.005*model_dict[\"layer1.bias\"]\n",
    "updated_dict[\"layer2.bias\"] = 0.005*model_dict[\"layer2.bias\"]\n",
    "updated_dict[\"layer3.bias\"] = 0.005*model_dict[\"layer3.bias\"]\n",
    "updated_dict[\"layer4.bias\"] = 0.005*model_dict[\"layer4.bias\"]\n",
    "updated_dict[\"layer5.bias\"] = 0.005*model_dict[\"layer5.bias\"]\n",
    "updated_dict[\"layer6.bias\"] = 0.005*model_dict[\"layer6.bias\"]\n",
    "updated_dict[\"layer7.bias\"] = 0.005*model_dict[\"layer7.bias\"]\n",
    "updated_dict[\"layer8.bias\"] = 0.005*model_dict[\"layer8.bias\"]\n",
    "updated_dict[\"layer9.bias\"] = 0.005*model_dict[\"layer9.bias\"]\n",
    "updated_dict[\"layer10.bias\"] = 0.005*model_dict[\"layer10.bias\"]\n",
    "updated_dict[\"layer11.bias\"] = 0.005*model_dict[\"layer11.bias\"]\n",
    "\n",
    "model.load_state_dict(updated_dict,strict=False)\n",
    "\n",
    "model_dict = model.state_dict()\n",
    "##print(\"updated model_dict = \",model_dict)\n",
    "\n",
    "## print(\" \\n\",\"  for pretrained_dict\")\n",
    "## index = 0\n",
    "##for k,v in pretrained_dict.items():\n",
    "##    print(\"index, k =  \",index,\"  \",k)\n",
    "##    index = index+1\n",
    "## mds  \n",
    "\n",
    "##pretrained_dict = torch.load('ML/29July2020_Trks_to_KDE_C_lossB_100epochs_b64_1m3_nOut_50x50/29July2020_Trks_to_KDE_C_lossB_100epochs_b64_1m3_nOut_50x50_final.pyt')\n",
    "##print(\"model_dict instantiated\")\n",
    "# 1. filter out unnecessary keys\n",
    "##pretrained_dict = {k: v for k, v in pretrained_dict.items() if k in model_dict}\n",
    "##print(\"pretrained_dict iterated\")\n",
    "# 2. overwrite entries in the existing state dict\n",
    "##model_dict.update(pretrained_dict) \n",
    "##\n",
    "#   when starting from a model with a fully connected last layer rather than a convolutional layer\n",
    "# 3. load the new state dict\n",
    "#   need to use strict=False as the two models state model attributes do not agree exactly\n",
    "#   see https://pytorch.org/docs/master/_modules/torch/nn/modules/module.html#Module.load_state_dict\n",
    "\n",
    "##model.load_state_dict(pretrained_dict,strict=False)\n",
    "\n",
    "## print('model_dict =    ', model_dict)\n",
    "\n",
    "## finished at training cost = 1.46, validation cost = 1.50\n",
    "d_folder = '25December__DDplus_loss_Ba_iter7_floatAll_800epochs_4em6'\n",
    "d_name = d_folder\n",
    "suffix = 'final'\n",
    "dict_name = 'ML/' + d_folder + '/' + d_name + '_'+ suffix + '.pyt'\n",
    "print('dict_name = ',dict_name)\n",
    "pretrained_dict = torch.load(dict_name)\n",
    "\n",
    "print(\" \")\n",
    "print(\"  for pretrained_dict\")\n",
    "index = 0\n",
    "for k,v in pretrained_dict.items():\n",
    "    print(\"index, k =  \",index,\"  \",k)\n",
    "    index = index+1\n",
    " \n",
    "\n",
    "##print(\"model_dict instantiated\")\n",
    "# 1. filter out unnecessary keys\n",
    "pretrained_dict = {k: v for k, v in pretrained_dict.items() if k in model_dict}\n",
    "print(\"pretrained_dict iterated\")\n",
    "# 2. overwrite entries in the existing state dict\n",
    "model_dict.update(pretrained_dict) \n",
    "##\n",
    "#   when starting from a model with a fully connected last layer rather than a convolutional layer\n",
    "# 3. load the new state dict\n",
    "#   need to use strict=False as the two models state model attributes do not agree exactly\n",
    "#   see https://pytorch.org/docs/master/_modules/torch/nn/modules/module.html#Module.load_state_dict\n",
    "\n",
    "model.load_state_dict(pretrained_dict,strict=False)\n",
    "\n"
   ]
  },
  {
   "cell_type": "code",
   "execution_count": 14,
   "metadata": {},
   "outputs": [],
   "source": [
    "##print('validation.dataset.tensors = ',validation.dataset.tensors)\n",
    "fig_size = plt.rcParams[\"figure.figsize\"]\n",
    "fig_size[0] = 10\n",
    "fig_size[1] = 4\n",
    "plt.rcParams[\"figure.figsize\"] = fig_size"
   ]
  },
  {
   "cell_type": "code",
   "execution_count": 15,
   "metadata": {
    "scrolled": false
   },
   "outputs": [
    {
     "name": "stdout",
     "output_type": "stream",
     "text": [
      "Loading data...\n",
      "pocaMx.shape =  (80000,)\n",
      "nEvts =  80000\n",
      "len(pocaMx[0]) =  199\n",
      "len(pocaMx[1]) =  25\n",
      "len(pocaMx[2]) =  369\n",
      "len(pocaMx[3]) =  143\n",
      "len(pocaMx[4]) =  160\n",
      "majorAxis.shape =  (80000, 3)\n",
      "minorAxis_1.shape =  (80000, 3)\n",
      "minorAxis_2.shape =  (80000, 3)\n",
      "have entered six_ellipsoid_parameters\n",
      "  \n",
      " \n",
      "  nEvts =  80000\n",
      " iEvt, nTrks =  0 199\n",
      " iEvt, nTrks =  1 25\n",
      " iEvt, nTrks =  2 369\n",
      " iEvt, nTrks =  3 143\n",
      " iEvt, nTrks =  4 160\n",
      " iEvt, nTrks =  5 260\n",
      " iEvt, nTrks =  6 237\n",
      " iEvt, nTrks =  7 327\n",
      " iEvt, nTrks =  8 178\n",
      " iEvt, nTrks =  9 106\n",
      "A.shape =  (80000,)\n",
      "majorAxis[iTrk][0][0] =  0.00045611936\n",
      "majorAxis[iTrk][1][0] =  -4.8292455e-05\n",
      "majorAxis[iTrk][2][0] =  0.090019904\n",
      "minorAxis_1[iTrk][0][0] =  -1.8602173\n",
      "minorAxis_1[iTrk][1][0] =  -17.569641\n",
      "minorAxis_1[iTrk][2][0] =  4.7891795e-08\n",
      "minorAxis_2[iTrk][0][0] =  -17.569414\n",
      "minorAxis_2[iTrk][1][0] =  1.8601931\n",
      "minorAxis_2[iTrk][2][0] =  0.0900199\n",
      "  \n",
      "majorAxis[iTrk][0][0] =  0.002360258\n",
      "majorAxis[iTrk][1][0] =  -0.007426616\n",
      "majorAxis[iTrk][2][0] =  0.3710108\n",
      "minorAxis_1[iTrk][0][0] =  -16.837948\n",
      "minorAxis_1[iTrk][1][0] =  -5.3512807\n",
      "minorAxis_1[iTrk][2][0] =  8.157131e-09\n",
      "minorAxis_2[iTrk][0][0] =  -5.3501005\n",
      "minorAxis_2[iTrk][1][0] =  16.834236\n",
      "minorAxis_2[iTrk][2][0] =  0.3710108\n",
      "  \n",
      "majorAxis[iTrk][0][0] =  6.220712e-05\n",
      "majorAxis[iTrk][1][0] =  -4.4594188e-05\n",
      "majorAxis[iTrk][2][0] =  0.036773544\n",
      "minorAxis_1[iTrk][0][0] =  10.293747\n",
      "minorAxis_1[iTrk][1][0] =  14.359369\n",
      "minorAxis_1[iTrk][2][0] =  1.571041e-06\n",
      "minorAxis_2[iTrk][0][0] =  14.359338\n",
      "minorAxis_2[iTrk][1][0] =  -10.293725\n",
      "minorAxis_2[iTrk][2][0] =  -0.03677354\n",
      "  \n",
      "majorAxis[iTrk][0][0] =  0.0033452737\n",
      "majorAxis[iTrk][1][0] =  0.00013028442\n",
      "majorAxis[iTrk][2][0] =  0.2431933\n",
      "minorAxis_1[iTrk][0][0] =  0.6875674\n",
      "minorAxis_1[iTrk][1][0] =  -17.65446\n",
      "minorAxis_1[iTrk][2][0] =  -6.6602626e-09\n",
      "minorAxis_2[iTrk][0][0] =  -17.652788\n",
      "minorAxis_2[iTrk][1][0] =  -0.68750226\n",
      "minorAxis_2[iTrk][2][0] =  0.2431933\n",
      "  \n",
      "majorAxis[iTrk][0][0] =  -0.00068196515\n",
      "majorAxis[iTrk][1][0] =  -0.00044562915\n",
      "majorAxis[iTrk][2][0] =  0.119970225\n",
      "minorAxis_1[iTrk][0][0] =  9.664597\n",
      "minorAxis_1[iTrk][1][0] =  -14.790141\n",
      "minorAxis_1[iTrk][2][0] =  1.9819232e-08\n",
      "minorAxis_2[iTrk][0][0] =  -14.789802\n",
      "minorAxis_2[iTrk][1][0] =  -9.664374\n",
      "minorAxis_2[iTrk][2][0] =  -0.11997023\n",
      "  \n",
      "majorAxis[iTrk][0][0] =  -8.245073e-05\n",
      "majorAxis[iTrk][1][0] =  0.00015860004\n",
      "majorAxis[iTrk][2][0] =  0.05619731\n",
      "minorAxis_1[iTrk][0][0] =  -15.676071\n",
      "minorAxis_1[iTrk][1][0] =  -8.149452\n",
      "minorAxis_1[iTrk][2][0] =  4.1105773e-07\n",
      "minorAxis_2[iTrk][0][0] =  -8.14941\n",
      "minorAxis_2[iTrk][1][0] =  15.675991\n",
      "minorAxis_2[iTrk][2][0] =  -0.056197315\n",
      "  \n",
      "majorAxis[iTrk][0][0] =  -0.00015151131\n",
      "majorAxis[iTrk][1][0] =  0.00067339616\n",
      "majorAxis[iTrk][2][0] =  0.11042937\n",
      "minorAxis_1[iTrk][0][0] =  17.236937\n",
      "minorAxis_1[iTrk][1][0] =  3.8782384\n",
      "minorAxis_1[iTrk][2][0] =  2.3217373e-08\n",
      "minorAxis_2[iTrk][0][0] =  3.8781626\n",
      "minorAxis_2[iTrk][1][0] =  -17.236599\n",
      "minorAxis_2[iTrk][2][0] =  0.11042936\n",
      "  \n",
      "majorAxis[iTrk][0][0] =  -7.577422e-05\n",
      "majorAxis[iTrk][1][0] =  -0.00036802414\n",
      "majorAxis[iTrk][2][0] =  0.08147708\n",
      "minorAxis_1[iTrk][0][0] =  -17.304853\n",
      "minorAxis_1[iTrk][1][0] =  3.5629773\n",
      "minorAxis_1[iTrk][2][0] =  5.80501e-09\n",
      "minorAxis_2[iTrk][0][0] =  3.5629392\n",
      "minorAxis_2[iTrk][1][0] =  17.304668\n",
      "minorAxis_2[iTrk][2][0] =  0.081477076\n",
      "  \n",
      "majorAxis[iTrk][0][0] =  0.00013397264\n",
      "majorAxis[iTrk][1][0] =  0.00094400026\n",
      "majorAxis[iTrk][2][0] =  0.12978876\n",
      "minorAxis_1[iTrk][0][0] =  17.492561\n",
      "minorAxis_1[iTrk][1][0] =  -2.4825466\n",
      "minorAxis_1[iTrk][2][0] =  1.1329301e-08\n",
      "minorAxis_2[iTrk][0][0] =  -2.4824798\n",
      "minorAxis_2[iTrk][1][0] =  -17.492088\n",
      "minorAxis_2[iTrk][2][0] =  0.12978874\n",
      "  \n",
      "majorAxis[iTrk][0][0] =  0.00043501743\n",
      "majorAxis[iTrk][1][0] =  -0.0016521378\n",
      "majorAxis[iTrk][2][0] =  0.17373301\n",
      "minorAxis_1[iTrk][0][0] =  -17.0855\n",
      "minorAxis_1[iTrk][1][0] =  -4.4987106\n",
      "minorAxis_1[iTrk][2][0] =  -7.7275175e-08\n",
      "minorAxis_2[iTrk][0][0] =  -4.4984937\n",
      "minorAxis_2[iTrk][1][0] =  17.084677\n",
      "minorAxis_2[iTrk][2][0] =  0.17373303\n",
      "  \n",
      "len(X) =  80000\n",
      "len(Xlist) =  1\n",
      "Loaded /share/lazy/will/data/June30_2020_80k_1.h5 in 161.9 s\n",
      "pocaMx.shape =  (80000,)\n",
      "nEvts =  80000\n",
      "len(pocaMx[0]) =  222\n",
      "len(pocaMx[1]) =  133\n",
      "len(pocaMx[2]) =  259\n",
      "len(pocaMx[3]) =  114\n",
      "len(pocaMx[4]) =  143\n",
      "majorAxis.shape =  (80000, 3)\n",
      "minorAxis_1.shape =  (80000, 3)\n",
      "minorAxis_2.shape =  (80000, 3)\n",
      "have entered six_ellipsoid_parameters\n",
      "  \n",
      " \n",
      "  nEvts =  80000\n",
      " iEvt, nTrks =  0 222\n",
      " iEvt, nTrks =  1 133\n",
      " iEvt, nTrks =  2 259\n",
      " iEvt, nTrks =  3 114\n",
      " iEvt, nTrks =  4 143\n",
      " iEvt, nTrks =  5 136\n",
      " iEvt, nTrks =  6 397\n",
      " iEvt, nTrks =  7 370\n",
      " iEvt, nTrks =  8 97\n",
      " iEvt, nTrks =  9 67\n",
      "A.shape =  (80000,)\n",
      "majorAxis[iTrk][0][0] =  -0.001036478\n",
      "majorAxis[iTrk][1][0] =  0.0009833863\n",
      "majorAxis[iTrk][2][0] =  0.15887721\n",
      "minorAxis_1[iTrk][0][0] =  -12.160475\n",
      "minorAxis_1[iTrk][1][0] =  -12.817002\n",
      "minorAxis_1[iTrk][2][0] =  0.0\n",
      "minorAxis_2[iTrk][0][0] =  -12.816484\n",
      "minorAxis_2[iTrk][1][0] =  12.159985\n",
      "minorAxis_2[iTrk][2][0] =  -0.15887721\n",
      "  \n",
      "majorAxis[iTrk][0][0] =  0.0016579849\n",
      "majorAxis[iTrk][1][0] =  0.0020989499\n",
      "majorAxis[iTrk][2][0] =  0.21738033\n",
      "minorAxis_1[iTrk][0][0] =  -13.864233\n",
      "minorAxis_1[iTrk][1][0] =  10.95152\n",
      "minorAxis_1[iTrk][2][0] =  -3.3017489e-09\n",
      "minorAxis_2[iTrk][0][0] =  10.95069\n",
      "minorAxis_2[iTrk][1][0] =  13.863184\n",
      "minorAxis_2[iTrk][2][0] =  -0.21738033\n",
      "  \n",
      "majorAxis[iTrk][0][0] =  0.00012481198\n",
      "majorAxis[iTrk][1][0] =  -0.00028747538\n",
      "majorAxis[iTrk][2][0] =  0.07441149\n",
      "minorAxis_1[iTrk][0][0] =  -16.206305\n",
      "minorAxis_1[iTrk][1][0] =  -7.036224\n",
      "minorAxis_1[iTrk][2][0] =  5.3456716e-08\n",
      "minorAxis_2[iTrk][0][0] =  -7.0361605\n",
      "minorAxis_2[iTrk][1][0] =  16.20616\n",
      "minorAxis_2[iTrk][2][0] =  0.07441148\n",
      "  \n",
      "majorAxis[iTrk][0][0] =  -0.007920195\n",
      "majorAxis[iTrk][1][0] =  -0.009694931\n",
      "majorAxis[iTrk][2][0] =  0.47021532\n",
      "minorAxis_1[iTrk][0][0] =  -13.682467\n",
      "minorAxis_1[iTrk][1][0] =  11.177781\n",
      "minorAxis_1[iTrk][2][0] =  1.8638048e-10\n",
      "minorAxis_2[iTrk][0][0] =  11.173822\n",
      "minorAxis_2[iTrk][1][0] =  13.677622\n",
      "minorAxis_2[iTrk][2][0] =  0.47021535\n",
      "  \n",
      "majorAxis[iTrk][0][0] =  0.00038854493\n",
      "majorAxis[iTrk][1][0] =  0.0009230774\n",
      "majorAxis[iTrk][2][0] =  0.13301943\n",
      "minorAxis_1[iTrk][0][0] =  -16.284061\n",
      "minorAxis_1[iTrk][1][0] =  6.854344\n",
      "minorAxis_1[iTrk][2][0] =  2.2469074e-07\n",
      "minorAxis_2[iTrk][0][0] =  6.8541493\n",
      "minorAxis_2[iTrk][1][0] =  16.283602\n",
      "minorAxis_2[iTrk][2][0] =  -0.13301945\n",
      "  \n",
      "majorAxis[iTrk][0][0] =  -5.6093595e-05\n",
      "majorAxis[iTrk][1][0] =  0.000114469876\n",
      "majorAxis[iTrk][2][0] =  0.04745733\n",
      "minorAxis_1[iTrk][0][0] =  15.865369\n",
      "minorAxis_1[iTrk][1][0] =  7.774496\n",
      "minorAxis_1[iTrk][2][0] =  1.8465234e-06\n",
      "minorAxis_2[iTrk][0][0] =  7.774468\n",
      "minorAxis_2[iTrk][1][0] =  -15.865313\n",
      "minorAxis_2[iTrk][2][0] =  0.04745733\n",
      "  \n",
      "majorAxis[iTrk][0][0] =  9.375396e-05\n",
      "majorAxis[iTrk][1][0] =  0.0002926058\n",
      "majorAxis[iTrk][2][0] =  0.07367872\n",
      "minorAxis_1[iTrk][0][0] =  -16.825275\n",
      "minorAxis_1[iTrk][1][0] =  5.390994\n",
      "minorAxis_1[iTrk][2][0] =  -2.1861728e-08\n",
      "minorAxis_2[iTrk][0][0] =  5.3909473\n",
      "minorAxis_2[iTrk][1][0] =  16.825129\n",
      "minorAxis_2[iTrk][2][0] =  -0.07367872\n",
      "  \n",
      "majorAxis[iTrk][0][0] =  -1.1543522e-06\n",
      "majorAxis[iTrk][1][0] =  2.8112001e-05\n",
      "majorAxis[iTrk][2][0] =  0.022295665\n",
      "minorAxis_1[iTrk][0][0] =  -17.652967\n",
      "minorAxis_1[iTrk][1][0] =  -0.7248769\n",
      "minorAxis_1[iTrk][2][0] =  1.7815448e-07\n",
      "minorAxis_2[iTrk][0][0] =  -0.7248763\n",
      "minorAxis_2[iTrk][1][0] =  17.652954\n",
      "minorAxis_2[iTrk][2][0] =  -0.022295661\n",
      "  \n",
      "majorAxis[iTrk][0][0] =  -0.2612214\n",
      "majorAxis[iTrk][1][0] =  0.83076316\n",
      "majorAxis[iTrk][2][0] =  3.8745012\n",
      "minorAxis_1[iTrk][0][0] =  -16.85429\n",
      "minorAxis_1[iTrk][1][0] =  -5.299587\n",
      "minorAxis_1[iTrk][2][0] =  2.0865195e-11\n",
      "minorAxis_2[iTrk][0][0] =  -5.1705856\n",
      "minorAxis_2[iTrk][1][0] =  16.444027\n",
      "minorAxis_2[iTrk][2][0] =  -3.874501\n",
      "  \n",
      "majorAxis[iTrk][0][0] =  -0.057592034\n",
      "majorAxis[iTrk][1][0] =  0.06503555\n",
      "majorAxis[iTrk][2][0] =  1.2373537\n",
      "minorAxis_1[iTrk][0][0] =  13.227038\n",
      "minorAxis_1[iTrk][1][0] =  11.713163\n",
      "minorAxis_1[iTrk][2][0] =  1.7679876e-10\n",
      "minorAxis_2[iTrk][0][0] =  11.684402\n",
      "minorAxis_2[iTrk][1][0] =  -13.194561\n",
      "minorAxis_2[iTrk][2][0] =  1.2373537\n",
      "  \n",
      "len(X) =  80000\n",
      "len(Xlist) =  2\n",
      "Loaded /share/lazy/will/data/June30_2020_80k_2.h5 in 160.9 s\n",
      "pocaMx.shape =  (80000,)\n"
     ]
    },
    {
     "name": "stdout",
     "output_type": "stream",
     "text": [
      "nEvts =  80000\n",
      "len(pocaMx[0]) =  196\n",
      "len(pocaMx[1]) =  35\n",
      "len(pocaMx[2]) =  265\n",
      "len(pocaMx[3]) =  128\n",
      "len(pocaMx[4]) =  124\n",
      "majorAxis.shape =  (80000, 3)\n",
      "minorAxis_1.shape =  (80000, 3)\n",
      "minorAxis_2.shape =  (80000, 3)\n",
      "have entered six_ellipsoid_parameters\n",
      "  \n",
      " \n",
      "  nEvts =  80000\n",
      " iEvt, nTrks =  0 196\n",
      " iEvt, nTrks =  1 35\n",
      " iEvt, nTrks =  2 265\n",
      " iEvt, nTrks =  3 128\n",
      " iEvt, nTrks =  4 124\n",
      " iEvt, nTrks =  5 122\n",
      " iEvt, nTrks =  6 300\n",
      " iEvt, nTrks =  7 179\n",
      " iEvt, nTrks =  8 243\n",
      " iEvt, nTrks =  9 112\n",
      "A.shape =  (80000,)\n",
      "majorAxis[iTrk][0][0] =  -2.440992e-05\n",
      "majorAxis[iTrk][1][0] =  -0.00038087237\n",
      "majorAxis[iTrk][2][0] =  0.08211532\n",
      "minorAxis_1[iTrk][0][0] =  -17.631672\n",
      "minorAxis_1[iTrk][1][0] =  1.130005\n",
      "minorAxis_1[iTrk][2][0] =  4.7444193e-08\n",
      "minorAxis_2[iTrk][0][0] =  1.1299927\n",
      "minorAxis_2[iTrk][1][0] =  17.631481\n",
      "minorAxis_2[iTrk][2][0] =  0.08211532\n",
      "  \n",
      "majorAxis[iTrk][0][0] =  -0.02277395\n",
      "majorAxis[iTrk][1][0] =  0.0014473597\n",
      "majorAxis[iTrk][2][0] =  0.6347583\n",
      "minorAxis_1[iTrk][0][0] =  -1.1205891\n",
      "minorAxis_1[iTrk][1][0] =  -17.632273\n",
      "minorAxis_1[iTrk][2][0] =  2.1543272e-09\n",
      "minorAxis_2[iTrk][0][0] =  -17.620888\n",
      "minorAxis_2[iTrk][1][0] =  1.1198657\n",
      "minorAxis_2[iTrk][2][0] =  -0.63475823\n",
      "  \n",
      "majorAxis[iTrk][0][0] =  0.0004024825\n",
      "majorAxis[iTrk][1][0] =  -0.00023784715\n",
      "majorAxis[iTrk][2][0] =  0.090883136\n",
      "minorAxis_1[iTrk][0][0] =  -8.988615\n",
      "minorAxis_1[iTrk][1][0] =  -15.210441\n",
      "minorAxis_1[iTrk][2][0] =  -6.56547e-08\n",
      "minorAxis_2[iTrk][0][0] =  -15.21024\n",
      "minorAxis_2[iTrk][1][0] =  8.988497\n",
      "minorAxis_2[iTrk][2][0] =  0.090883136\n",
      "  \n",
      "majorAxis[iTrk][0][0] =  0.0068744724\n",
      "majorAxis[iTrk][1][0] =  0.0017050834\n",
      "majorAxis[iTrk][2][0] =  0.3537121\n",
      "minorAxis_1[iTrk][0][0] =  4.2532983\n",
      "minorAxis_1[iTrk][1][0] =  -17.148241\n",
      "minorAxis_1[iTrk][2][0] =  1.1939819e-09\n",
      "minorAxis_2[iTrk][0][0] =  -17.144806\n",
      "minorAxis_2[iTrk][1][0] =  -4.252446\n",
      "minorAxis_2[iTrk][2][0] =  0.3537121\n",
      "  \n",
      "majorAxis[iTrk][0][0] =  -0.004920899\n",
      "majorAxis[iTrk][1][0] =  0.0009170567\n",
      "majorAxis[iTrk][2][0] =  0.2973651\n",
      "minorAxis_1[iTrk][0][0] =  -3.236844\n",
      "minorAxis_1[iTrk][1][0] =  -17.36881\n",
      "minorAxis_1[iTrk][2][0] =  -4.7397712e-09\n",
      "minorAxis_2[iTrk][0][0] =  -17.36635\n",
      "minorAxis_2[iTrk][1][0] =  3.2363856\n",
      "minorAxis_2[iTrk][2][0] =  -0.29736507\n",
      "  \n",
      "majorAxis[iTrk][0][0] =  -0.0001240533\n",
      "majorAxis[iTrk][1][0] =  0.00033394952\n",
      "majorAxis[iTrk][2][0] =  0.079335004\n",
      "minorAxis_1[iTrk][0][0] =  -16.562042\n",
      "minorAxis_1[iTrk][1][0] =  -6.1523557\n",
      "minorAxis_1[iTrk][2][0] =  3.1261713e-08\n",
      "minorAxis_2[iTrk][0][0] =  -6.1522937\n",
      "minorAxis_2[iTrk][1][0] =  16.561876\n",
      "minorAxis_2[iTrk][2][0] =  -0.079335004\n",
      "  \n",
      "majorAxis[iTrk][0][0] =  0.00010132754\n",
      "majorAxis[iTrk][1][0] =  6.684385e-05\n",
      "majorAxis[iTrk][2][0] =  0.046310693\n",
      "minorAxis_1[iTrk][0][0] =  -9.728917\n",
      "minorAxis_1[iTrk][1][0] =  14.747911\n",
      "minorAxis_1[iTrk][2][0] =  -2.3591362e-07\n",
      "minorAxis_2[iTrk][0][0] =  14.74786\n",
      "minorAxis_2[iTrk][1][0] =  9.728883\n",
      "minorAxis_2[iTrk][2][0] =  -0.04631069\n",
      "  \n",
      "majorAxis[iTrk][0][0] =  0.0042806785\n",
      "majorAxis[iTrk][1][0] =  0.004939851\n",
      "majorAxis[iTrk][2][0] =  0.3398017\n",
      "minorAxis_1[iTrk][0][0] =  13.3521\n",
      "minorAxis_1[iTrk][1][0] =  -11.5704\n",
      "minorAxis_1[iTrk][2][0] =  1.21654296e-08\n",
      "minorAxis_2[iTrk][0][0] =  -11.56826\n",
      "minorAxis_2[iTrk][1][0] =  -13.349631\n",
      "minorAxis_2[iTrk][2][0] =  0.33980173\n",
      "  \n",
      "majorAxis[iTrk][0][0] =  -0.00013103899\n",
      "majorAxis[iTrk][1][0] =  -0.0006021903\n",
      "majorAxis[iTrk][2][0] =  0.10434653\n",
      "minorAxis_1[iTrk][0][0] =  -17.26384\n",
      "minorAxis_1[iTrk][1][0] =  3.7566798\n",
      "minorAxis_1[iTrk][2][0] =  -9.616703e-08\n",
      "minorAxis_2[iTrk][0][0] =  3.7566135\n",
      "minorAxis_2[iTrk][1][0] =  17.263535\n",
      "minorAxis_2[iTrk][2][0] =  0.10434652\n",
      "  \n",
      "majorAxis[iTrk][0][0] =  0.0016481678\n",
      "majorAxis[iTrk][1][0] =  -0.0019788505\n",
      "majorAxis[iTrk][2][0] =  0.21330062\n",
      "minorAxis_1[iTrk][0][0] =  -13.575765\n",
      "minorAxis_1[iTrk][1][0] =  -11.307139\n",
      "minorAxis_1[iTrk][2][0] =  8.543098e-09\n",
      "minorAxis_2[iTrk][0][0] =  -11.306314\n",
      "minorAxis_2[iTrk][1][0] =  13.574774\n",
      "minorAxis_2[iTrk][2][0] =  0.21330062\n",
      "  \n",
      "len(X) =  80000\n",
      "len(Xlist) =  3\n",
      "Loaded /share/lazy/will/data/June30_2020_80k_3.h5 in 160.9 s\n",
      "pocaMx.shape =  (80000,)\n",
      "nEvts =  80000\n",
      "len(pocaMx[0]) =  204\n",
      "len(pocaMx[1]) =  33\n",
      "len(pocaMx[2]) =  206\n",
      "len(pocaMx[3]) =  150\n",
      "len(pocaMx[4]) =  96\n",
      "majorAxis.shape =  (80000, 3)\n",
      "minorAxis_1.shape =  (80000, 3)\n",
      "minorAxis_2.shape =  (80000, 3)\n",
      "have entered six_ellipsoid_parameters\n",
      "  \n",
      " \n",
      "  nEvts =  80000\n",
      " iEvt, nTrks =  0 204\n",
      " iEvt, nTrks =  1 33\n",
      " iEvt, nTrks =  2 206\n",
      " iEvt, nTrks =  3 150\n",
      " iEvt, nTrks =  4 96\n",
      " iEvt, nTrks =  5 10\n",
      " iEvt, nTrks =  6 174\n",
      " iEvt, nTrks =  7 320\n",
      " iEvt, nTrks =  8 164\n",
      " iEvt, nTrks =  9 119\n",
      "A.shape =  (80000,)\n",
      "majorAxis[iTrk][0][0] =  0.00057876867\n",
      "majorAxis[iTrk][1][0] =  0.00037603904\n",
      "majorAxis[iTrk][2][0] =  0.110427074\n",
      "minorAxis_1[iTrk][0][0] =  9.62588\n",
      "minorAxis_1[iTrk][1][0] =  -14.81537\n",
      "minorAxis_1[iTrk][2][0] =  8.391163e-09\n",
      "minorAxis_2[iTrk][0][0] =  -14.815081\n",
      "minorAxis_2[iTrk][1][0] =  -9.625692\n",
      "minorAxis_2[iTrk][2][0] =  0.11042709\n",
      "  \n",
      "majorAxis[iTrk][0][0] =  -7.687664e-05\n",
      "majorAxis[iTrk][1][0] =  -0.0017985329\n",
      "majorAxis[iTrk][2][0] =  0.17833562\n",
      "minorAxis_1[iTrk][0][0] =  -17.651728\n",
      "minorAxis_1[iTrk][1][0] =  0.7545069\n",
      "minorAxis_1[iTrk][2][0] =  -7.932265e-09\n",
      "minorAxis_2[iTrk][0][0] =  0.75446844\n",
      "minorAxis_2[iTrk][1][0] =  17.650827\n",
      "minorAxis_2[iTrk][2][0] =  0.17833562\n",
      "  \n",
      "majorAxis[iTrk][0][0] =  4.5855802e-05\n",
      "majorAxis[iTrk][1][0] =  -0.00054240844\n",
      "majorAxis[iTrk][2][0] =  0.098067455\n",
      "minorAxis_1[iTrk][0][0] =  17.605043\n",
      "minorAxis_1[iTrk][1][0] =  1.4883496\n",
      "minorAxis_1[iTrk][2][0] =  -2.7847218e-08\n",
      "minorAxis_2[iTrk][0][0] =  1.4883265\n",
      "minorAxis_2[iTrk][1][0] =  -17.604773\n",
      "minorAxis_2[iTrk][2][0] =  -0.098067455\n",
      "  \n",
      "majorAxis[iTrk][0][0] =  -0.0013144773\n",
      "majorAxis[iTrk][1][0] =  0.0008680699\n",
      "majorAxis[iTrk][2][0] =  0.16682307\n",
      "minorAxis_1[iTrk][0][0] =  -9.736217\n",
      "minorAxis_1[iTrk][1][0] =  -14.743094\n",
      "minorAxis_1[iTrk][2][0] =  -1.7552136e-08\n",
      "minorAxis_2[iTrk][0][0] =  -14.742435\n",
      "minorAxis_2[iTrk][1][0] =  9.735782\n",
      "minorAxis_2[iTrk][2][0] =  -0.16682304\n",
      "  \n",
      "majorAxis[iTrk][0][0] =  0.032227762\n",
      "majorAxis[iTrk][1][0] =  0.007741693\n",
      "majorAxis[iTrk][2][0] =  0.76488173\n",
      "minorAxis_1[iTrk][0][0] =  -4.1267405\n",
      "minorAxis_1[iTrk][1][0] =  17.179138\n",
      "minorAxis_1[iTrk][2][0] =  -2.3529467e-10\n",
      "minorAxis_2[iTrk][0][0] =  17.16303\n",
      "minorAxis_2[iTrk][1][0] =  4.122871\n",
      "minorAxis_2[iTrk][2][0] =  -0.7648817\n",
      "  \n",
      "majorAxis[iTrk][0][0] =  1.9753945\n",
      "majorAxis[iTrk][1][0] =  2.5669005\n",
      "majorAxis[iTrk][2][0] =  7.226382\n",
      "minorAxis_1[iTrk][0][0] =  14.0017\n",
      "minorAxis_1[iTrk][1][0] =  -10.7752075\n",
      "minorAxis_1[iTrk][2][0] =  5.3286344e-11\n",
      "minorAxis_2[iTrk][0][0] =  -9.832683\n",
      "minorAxis_2[iTrk][1][0] =  -12.776951\n",
      "minorAxis_2[iTrk][2][0] =  7.226381\n",
      "  \n",
      "majorAxis[iTrk][0][0] =  -0.0026900356\n",
      "majorAxis[iTrk][1][0] =  -0.0015841618\n",
      "majorAxis[iTrk][2][0] =  0.234843\n",
      "minorAxis_1[iTrk][0][0] =  -8.965469\n",
      "minorAxis_1[iTrk][1][0] =  15.224096\n",
      "minorAxis_1[iTrk][2][0] =  2.8236277e-08\n",
      "minorAxis_2[iTrk][0][0] =  15.222751\n",
      "minorAxis_2[iTrk][1][0] =  8.964677\n",
      "minorAxis_2[iTrk][2][0] =  0.234843\n",
      "  \n",
      "majorAxis[iTrk][0][0] =  -0.0001692281\n",
      "majorAxis[iTrk][1][0] =  0.0003505444\n",
      "majorAxis[iTrk][2][0] =  0.08292902\n",
      "minorAxis_1[iTrk][0][0] =  -15.910811\n",
      "minorAxis_1[iTrk][1][0] =  -7.68107\n",
      "minorAxis_1[iTrk][2][0] =  1.587002e-08\n",
      "minorAxis_2[iTrk][0][0] =  -7.680986\n",
      "minorAxis_2[iTrk][1][0] =  15.910635\n",
      "minorAxis_2[iTrk][2][0] =  -0.08292903\n",
      "  \n",
      "majorAxis[iTrk][0][0] =  0.0017714669\n",
      "majorAxis[iTrk][1][0] =  -0.001515166\n",
      "majorAxis[iTrk][2][0] =  0.20293355\n",
      "minorAxis_1[iTrk][0][0] =  11.483943\n",
      "minorAxis_1[iTrk][1][0] =  13.426532\n",
      "minorAxis_1[iTrk][2][0] =  -2.7840934e-09\n",
      "minorAxis_2[iTrk][0][0] =  13.425648\n",
      "minorAxis_2[iTrk][1][0] =  -11.483187\n",
      "minorAxis_2[iTrk][2][0] =  -0.20293356\n",
      "  \n",
      "majorAxis[iTrk][0][0] =  0.0006359923\n",
      "majorAxis[iTrk][1][0] =  -0.0003371759\n",
      "majorAxis[iTrk][2][0] =  0.112773284\n",
      "minorAxis_1[iTrk][0][0] =  8.275655\n",
      "minorAxis_1[iTrk][1][0] =  15.609813\n",
      "minorAxis_1[iTrk][2][0] =  -5.6373224e-08\n",
      "minorAxis_2[iTrk][0][0] =  15.609494\n",
      "minorAxis_2[iTrk][1][0] =  -8.275486\n",
      "minorAxis_2[iTrk][2][0] =  -0.11277328\n",
      "  \n",
      "len(X) =  80000\n",
      "len(Xlist) =  4\n",
      "Loaded /share/lazy/will/data/June30_2020_80k_4.h5 in 161.8 s\n",
      "outer loop X.shape =  (320000, 9, 600)\n",
      "Constructing 320000 event dataset took 3.208 s\n",
      "x_t.shape =  torch.Size([320000, 9, 600])\n",
      "x_t.shape[0] =  320000\n",
      "x_t.shape[1] =  9\n",
      "x_t.shape =  torch.Size([320000, 9, 600])\n"
     ]
    },
    {
     "name": "stdout",
     "output_type": "stream",
     "text": [
      "Loading data...\n",
      "pocaMx.shape =  (20000,)\n",
      "nEvts =  20000\n",
      "len(pocaMx[0]) =  211\n",
      "len(pocaMx[1]) =  21\n",
      "len(pocaMx[2]) =  20\n",
      "len(pocaMx[3]) =  198\n",
      "len(pocaMx[4]) =  233\n",
      "majorAxis.shape =  (20000, 3)\n",
      "minorAxis_1.shape =  (20000, 3)\n",
      "minorAxis_2.shape =  (20000, 3)\n",
      "have entered six_ellipsoid_parameters\n",
      "  \n",
      " \n",
      "  nEvts =  20000\n",
      " iEvt, nTrks =  0 211\n",
      " iEvt, nTrks =  1 21\n",
      " iEvt, nTrks =  2 20\n",
      " iEvt, nTrks =  3 198\n",
      " iEvt, nTrks =  4 233\n",
      " iEvt, nTrks =  5 85\n",
      " iEvt, nTrks =  6 223\n",
      " iEvt, nTrks =  7 425\n",
      " iEvt, nTrks =  8 252\n",
      " iEvt, nTrks =  9 169\n",
      "A.shape =  (20000,)\n",
      "majorAxis[iTrk][0][0] =  -0.00023452607\n",
      "majorAxis[iTrk][1][0] =  -0.00047206535\n",
      "majorAxis[iTrk][2][0] =  0.096502915\n",
      "minorAxis_1[iTrk][0][0] =  -15.822749\n",
      "minorAxis_1[iTrk][1][0] =  7.8608756\n",
      "minorAxis_1[iTrk][2][0] =  -2.6228399e-08\n",
      "minorAxis_2[iTrk][0][0] =  7.860759\n",
      "minorAxis_2[iTrk][1][0] =  15.822513\n",
      "minorAxis_2[iTrk][2][0] =  0.096502915\n",
      "  \n",
      "majorAxis[iTrk][0][0] =  -0.37655562\n",
      "majorAxis[iTrk][1][0] =  0.2768704\n",
      "majorAxis[iTrk][2][0] =  2.8546858\n",
      "minorAxis_1[iTrk][0][0] =  -10.466048\n",
      "minorAxis_1[iTrk][1][0] =  -14.234274\n",
      "minorAxis_1[iTrk][2][0] =  2.2974699e-11\n",
      "minorAxis_2[iTrk][0][0] =  -14.04724\n",
      "minorAxis_2[iTrk][1][0] =  10.328527\n",
      "minorAxis_2[iTrk][2][0] =  -2.8546853\n",
      "  \n",
      "majorAxis[iTrk][0][0] =  -0.024279848\n",
      "majorAxis[iTrk][1][0] =  0.0019689242\n",
      "majorAxis[iTrk][2][0] =  0.65580803\n",
      "minorAxis_1[iTrk][0][0] =  -1.4280497\n",
      "minorAxis_1[iTrk][1][0] =  -17.610037\n",
      "minorAxis_1[iTrk][2][0] =  -6.123401e-10\n",
      "minorAxis_2[iTrk][0][0] =  -17.597902\n",
      "minorAxis_2[iTrk][1][0] =  1.4270656\n",
      "minorAxis_2[iTrk][2][0] =  -0.6558081\n",
      "  \n",
      "majorAxis[iTrk][0][0] =  -0.007825993\n",
      "majorAxis[iTrk][1][0] =  0.004052097\n",
      "majorAxis[iTrk][2][0] =  0.3945435\n",
      "minorAxis_1[iTrk][0][0] =  8.123606\n",
      "minorAxis_1[iTrk][1][0] =  15.689478\n",
      "minorAxis_1[iTrk][2][0] =  -2.4940747e-10\n",
      "minorAxis_2[iTrk][0][0] =  15.685566\n",
      "minorAxis_2[iTrk][1][0] =  -8.12158\n",
      "minorAxis_2[iTrk][2][0] =  0.3945435\n",
      "  \n",
      "majorAxis[iTrk][0][0] =  0.0046102717\n",
      "majorAxis[iTrk][1][0] =  -0.0016007021\n",
      "majorAxis[iTrk][2][0] =  0.29361814\n",
      "minorAxis_1[iTrk][0][0] =  -5.794979\n",
      "minorAxis_1[iTrk][1][0] =  -16.690445\n",
      "minorAxis_1[iTrk][2][0] =  2.4897104e-09\n",
      "minorAxis_2[iTrk][0][0] =  -16.688139\n",
      "minorAxis_2[iTrk][1][0] =  5.794179\n",
      "minorAxis_2[iTrk][2][0] =  0.2936181\n",
      "  \n",
      "majorAxis[iTrk][0][0] =  -0.00020041714\n",
      "majorAxis[iTrk][1][0] =  0.00010468164\n",
      "majorAxis[iTrk][2][0] =  0.06320469\n",
      "minorAxis_1[iTrk][0][0] =  8.179679\n",
      "minorAxis_1[iTrk][1][0] =  15.660318\n",
      "minorAxis_1[iTrk][2][0] =  7.40176e-08\n",
      "minorAxis_2[iTrk][0][0] =  15.660218\n",
      "minorAxis_2[iTrk][1][0] =  -8.179626\n",
      "minorAxis_2[iTrk][2][0] =  0.06320469\n",
      "  \n",
      "majorAxis[iTrk][0][0] =  -0.00020603223\n",
      "majorAxis[iTrk][1][0] =  -0.0005662605\n",
      "majorAxis[iTrk][2][0] =  0.10317981\n",
      "minorAxis_1[iTrk][0][0] =  -16.603\n",
      "minorAxis_1[iTrk][1][0] =  6.040953\n",
      "minorAxis_1[iTrk][2][0] =  4.5812504e-07\n",
      "minorAxis_2[iTrk][0][0] =  6.0408506\n",
      "minorAxis_2[iTrk][1][0] =  16.602718\n",
      "minorAxis_2[iTrk][2][0] =  0.10317982\n",
      "  \n",
      "majorAxis[iTrk][0][0] =  -0.00040561036\n",
      "majorAxis[iTrk][1][0] =  0.00014461782\n",
      "majorAxis[iTrk][2][0] =  0.0872241\n",
      "minorAxis_1[iTrk][0][0] =  -5.933496\n",
      "minorAxis_1[iTrk][1][0] =  -16.641706\n",
      "minorAxis_1[iTrk][2][0] =  1.0720762e-08\n",
      "minorAxis_2[iTrk][0][0] =  -16.641502\n",
      "minorAxis_2[iTrk][1][0] =  5.9334235\n",
      "minorAxis_2[iTrk][2][0] =  -0.0872241\n",
      "  \n",
      "majorAxis[iTrk][0][0] =  0.00038461428\n",
      "majorAxis[iTrk][1][0] =  -3.4232737e-05\n",
      "majorAxis[iTrk][2][0] =  0.08259597\n",
      "minorAxis_1[iTrk][0][0] =  -1.5663412\n",
      "minorAxis_1[iTrk][1][0] =  -17.598276\n",
      "minorAxis_1[iTrk][2][0] =  3.2106848e-07\n",
      "minorAxis_2[iTrk][0][0] =  -17.598082\n",
      "minorAxis_2[iTrk][1][0] =  1.5663238\n",
      "minorAxis_2[iTrk][2][0] =  0.08259596\n",
      "  \n",
      "majorAxis[iTrk][0][0] =  -0.022277953\n",
      "majorAxis[iTrk][1][0] =  -0.0046837274\n",
      "majorAxis[iTrk][2][0] =  0.63399464\n",
      "minorAxis_1[iTrk][0][0] =  -3.6350286\n",
      "minorAxis_1[iTrk][1][0] =  17.289862\n",
      "minorAxis_1[iTrk][2][0] =  9.566169e-10\n",
      "minorAxis_2[iTrk][0][0] =  17.278727\n",
      "minorAxis_2[iTrk][1][0] =  3.6326876\n",
      "minorAxis_2[iTrk][2][0] =  0.6339946\n",
      "  \n",
      "len(X) =  20000\n",
      "len(Xlist) =  1\n",
      "Loaded dataAA/20K_POCA_kernel_evts_200926.h5 in 38.77 s\n",
      "outer loop X.shape =  (20000, 9, 600)\n",
      "Constructing 2000 event dataset took 0.01521 s\n",
      "x_t.shape =  torch.Size([2000, 9, 600])\n",
      "x_t.shape[0] =  2000\n",
      "x_t.shape[1] =  9\n",
      "x_t.shape =  torch.Size([2000, 9, 600])\n"
     ]
    }
   ],
   "source": [
    "\n",
    "## Training dataset. You can put as many files here as desired.\n",
    "\n",
    "##train_loader = collect_t2kde_data('/share/lazy/pv-finder/20k_evts_for_KDE_learning_200716.h5',\n",
    "train_loader = collect_t2kde_data('/share/lazy/will/data/June30_2020_80k_1.h5', \n",
    "                                    '/share/lazy/will/data/June30_2020_80k_2.h5',\n",
    "                                    '/share/lazy/will/data/June30_2020_80k_3.h5',\n",
    "                                    '/share/lazy/will/data/June30_2020_80k_4.h5',\n",
    "                             batch_size=batch_size,\n",
    "## if we are using a larger dataset (240K events, with the datasets above, and 11 GB  of GPU memory),\n",
    "## the dataset will overflow the GPU memory; device=device will allow the data to move back\n",
    "## and forth between the CPU and GPU memory. While this allows use of a larger dataset, it slows\n",
    "## down performance by about 10%.  So comment out when not needed.\n",
    "##                          device=device,\n",
    "##                           slice = slice(None,18000)\n",
    "                           )\n",
    "                            \n",
    "# Validation dataset. You can slice to reduce the size.\n",
    "## mds no separate validation set yet,\n",
    "val_loader = collect_t2kde_data('dataAA/20K_POCA_kernel_evts_200926.h5',\n",
    "                            batch_size=batch_size,\n",
    "##                            device=device,\n",
    "                            slice = slice(18000,None)\n",
    "                           )\n"
   ]
  },
  {
   "cell_type": "code",
   "execution_count": 16,
   "metadata": {
    "scrolled": false
   },
   "outputs": [
    {
     "data": {
      "application/javascript": [
       "/* Put everything inside the global mpl namespace */\n",
       "window.mpl = {};\n",
       "\n",
       "\n",
       "mpl.get_websocket_type = function() {\n",
       "    if (typeof(WebSocket) !== 'undefined') {\n",
       "        return WebSocket;\n",
       "    } else if (typeof(MozWebSocket) !== 'undefined') {\n",
       "        return MozWebSocket;\n",
       "    } else {\n",
       "        alert('Your browser does not have WebSocket support. ' +\n",
       "              'Please try Chrome, Safari or Firefox ≥ 6. ' +\n",
       "              'Firefox 4 and 5 are also supported but you ' +\n",
       "              'have to enable WebSockets in about:config.');\n",
       "    };\n",
       "}\n",
       "\n",
       "mpl.figure = function(figure_id, websocket, ondownload, parent_element) {\n",
       "    this.id = figure_id;\n",
       "\n",
       "    this.ws = websocket;\n",
       "\n",
       "    this.supports_binary = (this.ws.binaryType != undefined);\n",
       "\n",
       "    if (!this.supports_binary) {\n",
       "        var warnings = document.getElementById(\"mpl-warnings\");\n",
       "        if (warnings) {\n",
       "            warnings.style.display = 'block';\n",
       "            warnings.textContent = (\n",
       "                \"This browser does not support binary websocket messages. \" +\n",
       "                    \"Performance may be slow.\");\n",
       "        }\n",
       "    }\n",
       "\n",
       "    this.imageObj = new Image();\n",
       "\n",
       "    this.context = undefined;\n",
       "    this.message = undefined;\n",
       "    this.canvas = undefined;\n",
       "    this.rubberband_canvas = undefined;\n",
       "    this.rubberband_context = undefined;\n",
       "    this.format_dropdown = undefined;\n",
       "\n",
       "    this.image_mode = 'full';\n",
       "\n",
       "    this.root = $('<div/>');\n",
       "    this._root_extra_style(this.root)\n",
       "    this.root.attr('style', 'display: inline-block');\n",
       "\n",
       "    $(parent_element).append(this.root);\n",
       "\n",
       "    this._init_header(this);\n",
       "    this._init_canvas(this);\n",
       "    this._init_toolbar(this);\n",
       "\n",
       "    var fig = this;\n",
       "\n",
       "    this.waiting = false;\n",
       "\n",
       "    this.ws.onopen =  function () {\n",
       "            fig.send_message(\"supports_binary\", {value: fig.supports_binary});\n",
       "            fig.send_message(\"send_image_mode\", {});\n",
       "            if (mpl.ratio != 1) {\n",
       "                fig.send_message(\"set_dpi_ratio\", {'dpi_ratio': mpl.ratio});\n",
       "            }\n",
       "            fig.send_message(\"refresh\", {});\n",
       "        }\n",
       "\n",
       "    this.imageObj.onload = function() {\n",
       "            if (fig.image_mode == 'full') {\n",
       "                // Full images could contain transparency (where diff images\n",
       "                // almost always do), so we need to clear the canvas so that\n",
       "                // there is no ghosting.\n",
       "                fig.context.clearRect(0, 0, fig.canvas.width, fig.canvas.height);\n",
       "            }\n",
       "            fig.context.drawImage(fig.imageObj, 0, 0);\n",
       "        };\n",
       "\n",
       "    this.imageObj.onunload = function() {\n",
       "        fig.ws.close();\n",
       "    }\n",
       "\n",
       "    this.ws.onmessage = this._make_on_message_function(this);\n",
       "\n",
       "    this.ondownload = ondownload;\n",
       "}\n",
       "\n",
       "mpl.figure.prototype._init_header = function() {\n",
       "    var titlebar = $(\n",
       "        '<div class=\"ui-dialog-titlebar ui-widget-header ui-corner-all ' +\n",
       "        'ui-helper-clearfix\"/>');\n",
       "    var titletext = $(\n",
       "        '<div class=\"ui-dialog-title\" style=\"width: 100%; ' +\n",
       "        'text-align: center; padding: 3px;\"/>');\n",
       "    titlebar.append(titletext)\n",
       "    this.root.append(titlebar);\n",
       "    this.header = titletext[0];\n",
       "}\n",
       "\n",
       "\n",
       "\n",
       "mpl.figure.prototype._canvas_extra_style = function(canvas_div) {\n",
       "\n",
       "}\n",
       "\n",
       "\n",
       "mpl.figure.prototype._root_extra_style = function(canvas_div) {\n",
       "\n",
       "}\n",
       "\n",
       "mpl.figure.prototype._init_canvas = function() {\n",
       "    var fig = this;\n",
       "\n",
       "    var canvas_div = $('<div/>');\n",
       "\n",
       "    canvas_div.attr('style', 'position: relative; clear: both; outline: 0');\n",
       "\n",
       "    function canvas_keyboard_event(event) {\n",
       "        return fig.key_event(event, event['data']);\n",
       "    }\n",
       "\n",
       "    canvas_div.keydown('key_press', canvas_keyboard_event);\n",
       "    canvas_div.keyup('key_release', canvas_keyboard_event);\n",
       "    this.canvas_div = canvas_div\n",
       "    this._canvas_extra_style(canvas_div)\n",
       "    this.root.append(canvas_div);\n",
       "\n",
       "    var canvas = $('<canvas/>');\n",
       "    canvas.addClass('mpl-canvas');\n",
       "    canvas.attr('style', \"left: 0; top: 0; z-index: 0; outline: 0\")\n",
       "\n",
       "    this.canvas = canvas[0];\n",
       "    this.context = canvas[0].getContext(\"2d\");\n",
       "\n",
       "    var backingStore = this.context.backingStorePixelRatio ||\n",
       "\tthis.context.webkitBackingStorePixelRatio ||\n",
       "\tthis.context.mozBackingStorePixelRatio ||\n",
       "\tthis.context.msBackingStorePixelRatio ||\n",
       "\tthis.context.oBackingStorePixelRatio ||\n",
       "\tthis.context.backingStorePixelRatio || 1;\n",
       "\n",
       "    mpl.ratio = (window.devicePixelRatio || 1) / backingStore;\n",
       "\n",
       "    var rubberband = $('<canvas/>');\n",
       "    rubberband.attr('style', \"position: absolute; left: 0; top: 0; z-index: 1;\")\n",
       "\n",
       "    var pass_mouse_events = true;\n",
       "\n",
       "    canvas_div.resizable({\n",
       "        start: function(event, ui) {\n",
       "            pass_mouse_events = false;\n",
       "        },\n",
       "        resize: function(event, ui) {\n",
       "            fig.request_resize(ui.size.width, ui.size.height);\n",
       "        },\n",
       "        stop: function(event, ui) {\n",
       "            pass_mouse_events = true;\n",
       "            fig.request_resize(ui.size.width, ui.size.height);\n",
       "        },\n",
       "    });\n",
       "\n",
       "    function mouse_event_fn(event) {\n",
       "        if (pass_mouse_events)\n",
       "            return fig.mouse_event(event, event['data']);\n",
       "    }\n",
       "\n",
       "    rubberband.mousedown('button_press', mouse_event_fn);\n",
       "    rubberband.mouseup('button_release', mouse_event_fn);\n",
       "    // Throttle sequential mouse events to 1 every 20ms.\n",
       "    rubberband.mousemove('motion_notify', mouse_event_fn);\n",
       "\n",
       "    rubberband.mouseenter('figure_enter', mouse_event_fn);\n",
       "    rubberband.mouseleave('figure_leave', mouse_event_fn);\n",
       "\n",
       "    canvas_div.on(\"wheel\", function (event) {\n",
       "        event = event.originalEvent;\n",
       "        event['data'] = 'scroll'\n",
       "        if (event.deltaY < 0) {\n",
       "            event.step = 1;\n",
       "        } else {\n",
       "            event.step = -1;\n",
       "        }\n",
       "        mouse_event_fn(event);\n",
       "    });\n",
       "\n",
       "    canvas_div.append(canvas);\n",
       "    canvas_div.append(rubberband);\n",
       "\n",
       "    this.rubberband = rubberband;\n",
       "    this.rubberband_canvas = rubberband[0];\n",
       "    this.rubberband_context = rubberband[0].getContext(\"2d\");\n",
       "    this.rubberband_context.strokeStyle = \"#000000\";\n",
       "\n",
       "    this._resize_canvas = function(width, height) {\n",
       "        // Keep the size of the canvas, canvas container, and rubber band\n",
       "        // canvas in synch.\n",
       "        canvas_div.css('width', width)\n",
       "        canvas_div.css('height', height)\n",
       "\n",
       "        canvas.attr('width', width * mpl.ratio);\n",
       "        canvas.attr('height', height * mpl.ratio);\n",
       "        canvas.attr('style', 'width: ' + width + 'px; height: ' + height + 'px;');\n",
       "\n",
       "        rubberband.attr('width', width);\n",
       "        rubberband.attr('height', height);\n",
       "    }\n",
       "\n",
       "    // Set the figure to an initial 600x600px, this will subsequently be updated\n",
       "    // upon first draw.\n",
       "    this._resize_canvas(600, 600);\n",
       "\n",
       "    // Disable right mouse context menu.\n",
       "    $(this.rubberband_canvas).bind(\"contextmenu\",function(e){\n",
       "        return false;\n",
       "    });\n",
       "\n",
       "    function set_focus () {\n",
       "        canvas.focus();\n",
       "        canvas_div.focus();\n",
       "    }\n",
       "\n",
       "    window.setTimeout(set_focus, 100);\n",
       "}\n",
       "\n",
       "mpl.figure.prototype._init_toolbar = function() {\n",
       "    var fig = this;\n",
       "\n",
       "    var nav_element = $('<div/>');\n",
       "    nav_element.attr('style', 'width: 100%');\n",
       "    this.root.append(nav_element);\n",
       "\n",
       "    // Define a callback function for later on.\n",
       "    function toolbar_event(event) {\n",
       "        return fig.toolbar_button_onclick(event['data']);\n",
       "    }\n",
       "    function toolbar_mouse_event(event) {\n",
       "        return fig.toolbar_button_onmouseover(event['data']);\n",
       "    }\n",
       "\n",
       "    for(var toolbar_ind in mpl.toolbar_items) {\n",
       "        var name = mpl.toolbar_items[toolbar_ind][0];\n",
       "        var tooltip = mpl.toolbar_items[toolbar_ind][1];\n",
       "        var image = mpl.toolbar_items[toolbar_ind][2];\n",
       "        var method_name = mpl.toolbar_items[toolbar_ind][3];\n",
       "\n",
       "        if (!name) {\n",
       "            // put a spacer in here.\n",
       "            continue;\n",
       "        }\n",
       "        var button = $('<button/>');\n",
       "        button.addClass('ui-button ui-widget ui-state-default ui-corner-all ' +\n",
       "                        'ui-button-icon-only');\n",
       "        button.attr('role', 'button');\n",
       "        button.attr('aria-disabled', 'false');\n",
       "        button.click(method_name, toolbar_event);\n",
       "        button.mouseover(tooltip, toolbar_mouse_event);\n",
       "\n",
       "        var icon_img = $('<span/>');\n",
       "        icon_img.addClass('ui-button-icon-primary ui-icon');\n",
       "        icon_img.addClass(image);\n",
       "        icon_img.addClass('ui-corner-all');\n",
       "\n",
       "        var tooltip_span = $('<span/>');\n",
       "        tooltip_span.addClass('ui-button-text');\n",
       "        tooltip_span.html(tooltip);\n",
       "\n",
       "        button.append(icon_img);\n",
       "        button.append(tooltip_span);\n",
       "\n",
       "        nav_element.append(button);\n",
       "    }\n",
       "\n",
       "    var fmt_picker_span = $('<span/>');\n",
       "\n",
       "    var fmt_picker = $('<select/>');\n",
       "    fmt_picker.addClass('mpl-toolbar-option ui-widget ui-widget-content');\n",
       "    fmt_picker_span.append(fmt_picker);\n",
       "    nav_element.append(fmt_picker_span);\n",
       "    this.format_dropdown = fmt_picker[0];\n",
       "\n",
       "    for (var ind in mpl.extensions) {\n",
       "        var fmt = mpl.extensions[ind];\n",
       "        var option = $(\n",
       "            '<option/>', {selected: fmt === mpl.default_extension}).html(fmt);\n",
       "        fmt_picker.append(option);\n",
       "    }\n",
       "\n",
       "    // Add hover states to the ui-buttons\n",
       "    $( \".ui-button\" ).hover(\n",
       "        function() { $(this).addClass(\"ui-state-hover\");},\n",
       "        function() { $(this).removeClass(\"ui-state-hover\");}\n",
       "    );\n",
       "\n",
       "    var status_bar = $('<span class=\"mpl-message\"/>');\n",
       "    nav_element.append(status_bar);\n",
       "    this.message = status_bar[0];\n",
       "}\n",
       "\n",
       "mpl.figure.prototype.request_resize = function(x_pixels, y_pixels) {\n",
       "    // Request matplotlib to resize the figure. Matplotlib will then trigger a resize in the client,\n",
       "    // which will in turn request a refresh of the image.\n",
       "    this.send_message('resize', {'width': x_pixels, 'height': y_pixels});\n",
       "}\n",
       "\n",
       "mpl.figure.prototype.send_message = function(type, properties) {\n",
       "    properties['type'] = type;\n",
       "    properties['figure_id'] = this.id;\n",
       "    this.ws.send(JSON.stringify(properties));\n",
       "}\n",
       "\n",
       "mpl.figure.prototype.send_draw_message = function() {\n",
       "    if (!this.waiting) {\n",
       "        this.waiting = true;\n",
       "        this.ws.send(JSON.stringify({type: \"draw\", figure_id: this.id}));\n",
       "    }\n",
       "}\n",
       "\n",
       "\n",
       "mpl.figure.prototype.handle_save = function(fig, msg) {\n",
       "    var format_dropdown = fig.format_dropdown;\n",
       "    var format = format_dropdown.options[format_dropdown.selectedIndex].value;\n",
       "    fig.ondownload(fig, format);\n",
       "}\n",
       "\n",
       "\n",
       "mpl.figure.prototype.handle_resize = function(fig, msg) {\n",
       "    var size = msg['size'];\n",
       "    if (size[0] != fig.canvas.width || size[1] != fig.canvas.height) {\n",
       "        fig._resize_canvas(size[0], size[1]);\n",
       "        fig.send_message(\"refresh\", {});\n",
       "    };\n",
       "}\n",
       "\n",
       "mpl.figure.prototype.handle_rubberband = function(fig, msg) {\n",
       "    var x0 = msg['x0'] / mpl.ratio;\n",
       "    var y0 = (fig.canvas.height - msg['y0']) / mpl.ratio;\n",
       "    var x1 = msg['x1'] / mpl.ratio;\n",
       "    var y1 = (fig.canvas.height - msg['y1']) / mpl.ratio;\n",
       "    x0 = Math.floor(x0) + 0.5;\n",
       "    y0 = Math.floor(y0) + 0.5;\n",
       "    x1 = Math.floor(x1) + 0.5;\n",
       "    y1 = Math.floor(y1) + 0.5;\n",
       "    var min_x = Math.min(x0, x1);\n",
       "    var min_y = Math.min(y0, y1);\n",
       "    var width = Math.abs(x1 - x0);\n",
       "    var height = Math.abs(y1 - y0);\n",
       "\n",
       "    fig.rubberband_context.clearRect(\n",
       "        0, 0, fig.canvas.width / mpl.ratio, fig.canvas.height / mpl.ratio);\n",
       "\n",
       "    fig.rubberband_context.strokeRect(min_x, min_y, width, height);\n",
       "}\n",
       "\n",
       "mpl.figure.prototype.handle_figure_label = function(fig, msg) {\n",
       "    // Updates the figure title.\n",
       "    fig.header.textContent = msg['label'];\n",
       "}\n",
       "\n",
       "mpl.figure.prototype.handle_cursor = function(fig, msg) {\n",
       "    var cursor = msg['cursor'];\n",
       "    switch(cursor)\n",
       "    {\n",
       "    case 0:\n",
       "        cursor = 'pointer';\n",
       "        break;\n",
       "    case 1:\n",
       "        cursor = 'default';\n",
       "        break;\n",
       "    case 2:\n",
       "        cursor = 'crosshair';\n",
       "        break;\n",
       "    case 3:\n",
       "        cursor = 'move';\n",
       "        break;\n",
       "    }\n",
       "    fig.rubberband_canvas.style.cursor = cursor;\n",
       "}\n",
       "\n",
       "mpl.figure.prototype.handle_message = function(fig, msg) {\n",
       "    fig.message.textContent = msg['message'];\n",
       "}\n",
       "\n",
       "mpl.figure.prototype.handle_draw = function(fig, msg) {\n",
       "    // Request the server to send over a new figure.\n",
       "    fig.send_draw_message();\n",
       "}\n",
       "\n",
       "mpl.figure.prototype.handle_image_mode = function(fig, msg) {\n",
       "    fig.image_mode = msg['mode'];\n",
       "}\n",
       "\n",
       "mpl.figure.prototype.updated_canvas_event = function() {\n",
       "    // Called whenever the canvas gets updated.\n",
       "    this.send_message(\"ack\", {});\n",
       "}\n",
       "\n",
       "// A function to construct a web socket function for onmessage handling.\n",
       "// Called in the figure constructor.\n",
       "mpl.figure.prototype._make_on_message_function = function(fig) {\n",
       "    return function socket_on_message(evt) {\n",
       "        if (evt.data instanceof Blob) {\n",
       "            /* FIXME: We get \"Resource interpreted as Image but\n",
       "             * transferred with MIME type text/plain:\" errors on\n",
       "             * Chrome.  But how to set the MIME type?  It doesn't seem\n",
       "             * to be part of the websocket stream */\n",
       "            evt.data.type = \"image/png\";\n",
       "\n",
       "            /* Free the memory for the previous frames */\n",
       "            if (fig.imageObj.src) {\n",
       "                (window.URL || window.webkitURL).revokeObjectURL(\n",
       "                    fig.imageObj.src);\n",
       "            }\n",
       "\n",
       "            fig.imageObj.src = (window.URL || window.webkitURL).createObjectURL(\n",
       "                evt.data);\n",
       "            fig.updated_canvas_event();\n",
       "            fig.waiting = false;\n",
       "            return;\n",
       "        }\n",
       "        else if (typeof evt.data === 'string' && evt.data.slice(0, 21) == \"data:image/png;base64\") {\n",
       "            fig.imageObj.src = evt.data;\n",
       "            fig.updated_canvas_event();\n",
       "            fig.waiting = false;\n",
       "            return;\n",
       "        }\n",
       "\n",
       "        var msg = JSON.parse(evt.data);\n",
       "        var msg_type = msg['type'];\n",
       "\n",
       "        // Call the  \"handle_{type}\" callback, which takes\n",
       "        // the figure and JSON message as its only arguments.\n",
       "        try {\n",
       "            var callback = fig[\"handle_\" + msg_type];\n",
       "        } catch (e) {\n",
       "            console.log(\"No handler for the '\" + msg_type + \"' message type: \", msg);\n",
       "            return;\n",
       "        }\n",
       "\n",
       "        if (callback) {\n",
       "            try {\n",
       "                // console.log(\"Handling '\" + msg_type + \"' message: \", msg);\n",
       "                callback(fig, msg);\n",
       "            } catch (e) {\n",
       "                console.log(\"Exception inside the 'handler_\" + msg_type + \"' callback:\", e, e.stack, msg);\n",
       "            }\n",
       "        }\n",
       "    };\n",
       "}\n",
       "\n",
       "// from http://stackoverflow.com/questions/1114465/getting-mouse-location-in-canvas\n",
       "mpl.findpos = function(e) {\n",
       "    //this section is from http://www.quirksmode.org/js/events_properties.html\n",
       "    var targ;\n",
       "    if (!e)\n",
       "        e = window.event;\n",
       "    if (e.target)\n",
       "        targ = e.target;\n",
       "    else if (e.srcElement)\n",
       "        targ = e.srcElement;\n",
       "    if (targ.nodeType == 3) // defeat Safari bug\n",
       "        targ = targ.parentNode;\n",
       "\n",
       "    // jQuery normalizes the pageX and pageY\n",
       "    // pageX,Y are the mouse positions relative to the document\n",
       "    // offset() returns the position of the element relative to the document\n",
       "    var x = e.pageX - $(targ).offset().left;\n",
       "    var y = e.pageY - $(targ).offset().top;\n",
       "\n",
       "    return {\"x\": x, \"y\": y};\n",
       "};\n",
       "\n",
       "/*\n",
       " * return a copy of an object with only non-object keys\n",
       " * we need this to avoid circular references\n",
       " * http://stackoverflow.com/a/24161582/3208463\n",
       " */\n",
       "function simpleKeys (original) {\n",
       "  return Object.keys(original).reduce(function (obj, key) {\n",
       "    if (typeof original[key] !== 'object')\n",
       "        obj[key] = original[key]\n",
       "    return obj;\n",
       "  }, {});\n",
       "}\n",
       "\n",
       "mpl.figure.prototype.mouse_event = function(event, name) {\n",
       "    var canvas_pos = mpl.findpos(event)\n",
       "\n",
       "    if (name === 'button_press')\n",
       "    {\n",
       "        this.canvas.focus();\n",
       "        this.canvas_div.focus();\n",
       "    }\n",
       "\n",
       "    var x = canvas_pos.x * mpl.ratio;\n",
       "    var y = canvas_pos.y * mpl.ratio;\n",
       "\n",
       "    this.send_message(name, {x: x, y: y, button: event.button,\n",
       "                             step: event.step,\n",
       "                             guiEvent: simpleKeys(event)});\n",
       "\n",
       "    /* This prevents the web browser from automatically changing to\n",
       "     * the text insertion cursor when the button is pressed.  We want\n",
       "     * to control all of the cursor setting manually through the\n",
       "     * 'cursor' event from matplotlib */\n",
       "    event.preventDefault();\n",
       "    return false;\n",
       "}\n",
       "\n",
       "mpl.figure.prototype._key_event_extra = function(event, name) {\n",
       "    // Handle any extra behaviour associated with a key event\n",
       "}\n",
       "\n",
       "mpl.figure.prototype.key_event = function(event, name) {\n",
       "\n",
       "    // Prevent repeat events\n",
       "    if (name == 'key_press')\n",
       "    {\n",
       "        if (event.which === this._key)\n",
       "            return;\n",
       "        else\n",
       "            this._key = event.which;\n",
       "    }\n",
       "    if (name == 'key_release')\n",
       "        this._key = null;\n",
       "\n",
       "    var value = '';\n",
       "    if (event.ctrlKey && event.which != 17)\n",
       "        value += \"ctrl+\";\n",
       "    if (event.altKey && event.which != 18)\n",
       "        value += \"alt+\";\n",
       "    if (event.shiftKey && event.which != 16)\n",
       "        value += \"shift+\";\n",
       "\n",
       "    value += 'k';\n",
       "    value += event.which.toString();\n",
       "\n",
       "    this._key_event_extra(event, name);\n",
       "\n",
       "    this.send_message(name, {key: value,\n",
       "                             guiEvent: simpleKeys(event)});\n",
       "    return false;\n",
       "}\n",
       "\n",
       "mpl.figure.prototype.toolbar_button_onclick = function(name) {\n",
       "    if (name == 'download') {\n",
       "        this.handle_save(this, null);\n",
       "    } else {\n",
       "        this.send_message(\"toolbar_button\", {name: name});\n",
       "    }\n",
       "};\n",
       "\n",
       "mpl.figure.prototype.toolbar_button_onmouseover = function(tooltip) {\n",
       "    this.message.textContent = tooltip;\n",
       "};\n",
       "mpl.toolbar_items = [[\"Home\", \"Reset original view\", \"fa fa-home icon-home\", \"home\"], [\"Back\", \"Back to previous view\", \"fa fa-arrow-left icon-arrow-left\", \"back\"], [\"Forward\", \"Forward to next view\", \"fa fa-arrow-right icon-arrow-right\", \"forward\"], [\"\", \"\", \"\", \"\"], [\"Pan\", \"Pan axes with left mouse, zoom with right\", \"fa fa-arrows icon-move\", \"pan\"], [\"Zoom\", \"Zoom to rectangle\", \"fa fa-square-o icon-check-empty\", \"zoom\"], [\"\", \"\", \"\", \"\"], [\"Download\", \"Download plot\", \"fa fa-floppy-o icon-save\", \"download\"]];\n",
       "\n",
       "mpl.extensions = [\"eps\", \"jpeg\", \"pdf\", \"png\", \"ps\", \"raw\", \"svg\", \"tif\"];\n",
       "\n",
       "mpl.default_extension = \"png\";var comm_websocket_adapter = function(comm) {\n",
       "    // Create a \"websocket\"-like object which calls the given IPython comm\n",
       "    // object with the appropriate methods. Currently this is a non binary\n",
       "    // socket, so there is still some room for performance tuning.\n",
       "    var ws = {};\n",
       "\n",
       "    ws.close = function() {\n",
       "        comm.close()\n",
       "    };\n",
       "    ws.send = function(m) {\n",
       "        //console.log('sending', m);\n",
       "        comm.send(m);\n",
       "    };\n",
       "    // Register the callback with on_msg.\n",
       "    comm.on_msg(function(msg) {\n",
       "        //console.log('receiving', msg['content']['data'], msg);\n",
       "        // Pass the mpl event to the overridden (by mpl) onmessage function.\n",
       "        ws.onmessage(msg['content']['data'])\n",
       "    });\n",
       "    return ws;\n",
       "}\n",
       "\n",
       "mpl.mpl_figure_comm = function(comm, msg) {\n",
       "    // This is the function which gets called when the mpl process\n",
       "    // starts-up an IPython Comm through the \"matplotlib\" channel.\n",
       "\n",
       "    var id = msg.content.data.id;\n",
       "    // Get hold of the div created by the display call when the Comm\n",
       "    // socket was opened in Python.\n",
       "    var element = $(\"#\" + id);\n",
       "    var ws_proxy = comm_websocket_adapter(comm)\n",
       "\n",
       "    function ondownload(figure, format) {\n",
       "        window.open(figure.imageObj.src);\n",
       "    }\n",
       "\n",
       "    var fig = new mpl.figure(id, ws_proxy,\n",
       "                           ondownload,\n",
       "                           element.get(0));\n",
       "\n",
       "    // Call onopen now - mpl needs it, as it is assuming we've passed it a real\n",
       "    // web socket which is closed, not our websocket->open comm proxy.\n",
       "    ws_proxy.onopen();\n",
       "\n",
       "    fig.parent_element = element.get(0);\n",
       "    fig.cell_info = mpl.find_output_cell(\"<div id='\" + id + \"'></div>\");\n",
       "    if (!fig.cell_info) {\n",
       "        console.error(\"Failed to find cell for figure\", id, fig);\n",
       "        return;\n",
       "    }\n",
       "\n",
       "    var output_index = fig.cell_info[2]\n",
       "    var cell = fig.cell_info[0];\n",
       "\n",
       "};\n",
       "\n",
       "mpl.figure.prototype.handle_close = function(fig, msg) {\n",
       "    var width = fig.canvas.width/mpl.ratio\n",
       "    fig.root.unbind('remove')\n",
       "\n",
       "    // Update the output cell to use the data from the current canvas.\n",
       "    fig.push_to_output();\n",
       "    var dataURL = fig.canvas.toDataURL();\n",
       "    // Re-enable the keyboard manager in IPython - without this line, in FF,\n",
       "    // the notebook keyboard shortcuts fail.\n",
       "    IPython.keyboard_manager.enable()\n",
       "    $(fig.parent_element).html('<img src=\"' + dataURL + '\" width=\"' + width + '\">');\n",
       "    fig.close_ws(fig, msg);\n",
       "}\n",
       "\n",
       "mpl.figure.prototype.close_ws = function(fig, msg){\n",
       "    fig.send_message('closing', msg);\n",
       "    // fig.ws.close()\n",
       "}\n",
       "\n",
       "mpl.figure.prototype.push_to_output = function(remove_interactive) {\n",
       "    // Turn the data on the canvas into data in the output cell.\n",
       "    var width = this.canvas.width/mpl.ratio\n",
       "    var dataURL = this.canvas.toDataURL();\n",
       "    this.cell_info[1]['text/html'] = '<img src=\"' + dataURL + '\" width=\"' + width + '\">';\n",
       "}\n",
       "\n",
       "mpl.figure.prototype.updated_canvas_event = function() {\n",
       "    // Tell IPython that the notebook contents must change.\n",
       "    IPython.notebook.set_dirty(true);\n",
       "    this.send_message(\"ack\", {});\n",
       "    var fig = this;\n",
       "    // Wait a second, then push the new image to the DOM so\n",
       "    // that it is saved nicely (might be nice to debounce this).\n",
       "    setTimeout(function () { fig.push_to_output() }, 1000);\n",
       "}\n",
       "\n",
       "mpl.figure.prototype._init_toolbar = function() {\n",
       "    var fig = this;\n",
       "\n",
       "    var nav_element = $('<div/>');\n",
       "    nav_element.attr('style', 'width: 100%');\n",
       "    this.root.append(nav_element);\n",
       "\n",
       "    // Define a callback function for later on.\n",
       "    function toolbar_event(event) {\n",
       "        return fig.toolbar_button_onclick(event['data']);\n",
       "    }\n",
       "    function toolbar_mouse_event(event) {\n",
       "        return fig.toolbar_button_onmouseover(event['data']);\n",
       "    }\n",
       "\n",
       "    for(var toolbar_ind in mpl.toolbar_items){\n",
       "        var name = mpl.toolbar_items[toolbar_ind][0];\n",
       "        var tooltip = mpl.toolbar_items[toolbar_ind][1];\n",
       "        var image = mpl.toolbar_items[toolbar_ind][2];\n",
       "        var method_name = mpl.toolbar_items[toolbar_ind][3];\n",
       "\n",
       "        if (!name) { continue; };\n",
       "\n",
       "        var button = $('<button class=\"btn btn-default\" href=\"#\" title=\"' + name + '\"><i class=\"fa ' + image + ' fa-lg\"></i></button>');\n",
       "        button.click(method_name, toolbar_event);\n",
       "        button.mouseover(tooltip, toolbar_mouse_event);\n",
       "        nav_element.append(button);\n",
       "    }\n",
       "\n",
       "    // Add the status bar.\n",
       "    var status_bar = $('<span class=\"mpl-message\" style=\"text-align:right; float: right;\"/>');\n",
       "    nav_element.append(status_bar);\n",
       "    this.message = status_bar[0];\n",
       "\n",
       "    // Add the close button to the window.\n",
       "    var buttongrp = $('<div class=\"btn-group inline pull-right\"></div>');\n",
       "    var button = $('<button class=\"btn btn-mini btn-primary\" href=\"#\" title=\"Stop Interaction\"><i class=\"fa fa-power-off icon-remove icon-large\"></i></button>');\n",
       "    button.click(function (evt) { fig.handle_close(fig, {}); } );\n",
       "    button.mouseover('Stop Interaction', toolbar_mouse_event);\n",
       "    buttongrp.append(button);\n",
       "    var titlebar = this.root.find($('.ui-dialog-titlebar'));\n",
       "    titlebar.prepend(buttongrp);\n",
       "}\n",
       "\n",
       "mpl.figure.prototype._root_extra_style = function(el){\n",
       "    var fig = this\n",
       "    el.on(\"remove\", function(){\n",
       "\tfig.close_ws(fig, {});\n",
       "    });\n",
       "}\n",
       "\n",
       "mpl.figure.prototype._canvas_extra_style = function(el){\n",
       "    // this is important to make the div 'focusable\n",
       "    el.attr('tabindex', 0)\n",
       "    // reach out to IPython and tell the keyboard manager to turn it's self\n",
       "    // off when our div gets focus\n",
       "\n",
       "    // location in version 3\n",
       "    if (IPython.notebook.keyboard_manager) {\n",
       "        IPython.notebook.keyboard_manager.register_events(el);\n",
       "    }\n",
       "    else {\n",
       "        // location in version 2\n",
       "        IPython.keyboard_manager.register_events(el);\n",
       "    }\n",
       "\n",
       "}\n",
       "\n",
       "mpl.figure.prototype._key_event_extra = function(event, name) {\n",
       "    var manager = IPython.notebook.keyboard_manager;\n",
       "    if (!manager)\n",
       "        manager = IPython.keyboard_manager;\n",
       "\n",
       "    // Check for shift+enter\n",
       "    if (event.shiftKey && event.which == 13) {\n",
       "        this.canvas_div.blur();\n",
       "        // select the cell after this one\n",
       "        var index = IPython.notebook.find_cell_index(this.cell_info[0]);\n",
       "        IPython.notebook.select(index + 1);\n",
       "    }\n",
       "}\n",
       "\n",
       "mpl.figure.prototype.handle_save = function(fig, msg) {\n",
       "    fig.ondownload(fig, null);\n",
       "}\n",
       "\n",
       "\n",
       "mpl.find_output_cell = function(html_output) {\n",
       "    // Return the cell and output element which can be found *uniquely* in the notebook.\n",
       "    // Note - this is a bit hacky, but it is done because the \"notebook_saving.Notebook\"\n",
       "    // IPython event is triggered only after the cells have been serialised, which for\n",
       "    // our purposes (turning an active figure into a static one), is too late.\n",
       "    var cells = IPython.notebook.get_cells();\n",
       "    var ncells = cells.length;\n",
       "    for (var i=0; i<ncells; i++) {\n",
       "        var cell = cells[i];\n",
       "        if (cell.cell_type === 'code'){\n",
       "            for (var j=0; j<cell.output_area.outputs.length; j++) {\n",
       "                var data = cell.output_area.outputs[j];\n",
       "                if (data.data) {\n",
       "                    // IPython >= 3 moved mimebundle to data attribute of output\n",
       "                    data = data.data;\n",
       "                }\n",
       "                if (data['text/html'] == html_output) {\n",
       "                    return [cell, data, j];\n",
       "                }\n",
       "            }\n",
       "        }\n",
       "    }\n",
       "}\n",
       "\n",
       "// Register the function which deals with the matplotlib target/channel.\n",
       "// The kernel may be null if the page has been refreshed.\n",
       "if (IPython.notebook.kernel != null) {\n",
       "    IPython.notebook.kernel.comm_manager.register_target('matplotlib', mpl.mpl_figure_comm);\n",
       "}\n"
      ],
      "text/plain": [
       "<IPython.core.display.Javascript object>"
      ]
     },
     "metadata": {},
     "output_type": "display_data"
    },
    {
     "data": {
      "text/html": [
       "<img src=\"data:image/png;base64,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\" width=\"1000\">"
      ],
      "text/plain": [
       "<IPython.core.display.HTML object>"
      ]
     },
     "metadata": {},
     "output_type": "display_data"
    }
   ],
   "source": [
    "ax, tax, lax, lines = dual_train_plots()\n",
    "fig = ax.figure\n",
    "plt.tight_layout()"
   ]
  },
  {
   "cell_type": "code",
   "execution_count": 17,
   "metadata": {
    "scrolled": false
   },
   "outputs": [
    {
     "name": "stdout",
     "output_type": "stream",
     "text": [
      "Number of batches: train = 6667, val = 42\n"
     ]
    },
    {
     "data": {
      "application/vnd.jupyter.widget-view+json": {
       "model_id": "9f923961795844e1837bfd4e20f2a74f",
       "version_major": 2,
       "version_minor": 0
      },
      "text/plain": [
       "HBox(children=(FloatProgress(value=0.0, description='Epochs', layout=Layout(flex='2'), style=ProgressStyle(des…"
      ]
     },
     "metadata": {},
     "output_type": "display_data"
    },
    {
     "name": "stdout",
     "output_type": "stream",
     "text": [
      "Number of batches: train = 6667, val = 42\n"
     ]
    },
    {
     "data": {
      "application/vnd.jupyter.widget-view+json": {
       "model_id": "",
       "version_major": 2,
       "version_minor": 0
      },
      "text/plain": [
       "HBox(children=(FloatProgress(value=0.0, description='Training', layout=Layout(flex='2'), max=6667.0, style=Pro…"
      ]
     },
     "metadata": {},
     "output_type": "display_data"
    },
    {
     "name": "stdout",
     "output_type": "stream",
     "text": [
      "Epoch 0: train=1.22577, val=0.932796, took 603.85 s\n"
     ]
    },
    {
     "data": {
      "application/vnd.jupyter.widget-view+json": {
       "model_id": "",
       "version_major": 2,
       "version_minor": 0
      },
      "text/plain": [
       "HBox(children=(FloatProgress(value=0.0, description='Training', layout=Layout(flex='2'), max=6667.0, style=Pro…"
      ]
     },
     "metadata": {},
     "output_type": "display_data"
    },
    {
     "name": "stdout",
     "output_type": "stream",
     "text": [
      "Epoch 1: train=1.20659, val=0.945066, took 596.56 s\n"
     ]
    },
    {
     "data": {
      "application/vnd.jupyter.widget-view+json": {
       "model_id": "",
       "version_major": 2,
       "version_minor": 0
      },
      "text/plain": [
       "HBox(children=(FloatProgress(value=0.0, description='Training', layout=Layout(flex='2'), max=6667.0, style=Pro…"
      ]
     },
     "metadata": {},
     "output_type": "display_data"
    },
    {
     "name": "stdout",
     "output_type": "stream",
     "text": [
      "Epoch 2: train=1.19822, val=0.908713, took 597.79 s\n"
     ]
    },
    {
     "data": {
      "application/vnd.jupyter.widget-view+json": {
       "model_id": "",
       "version_major": 2,
       "version_minor": 0
      },
      "text/plain": [
       "HBox(children=(FloatProgress(value=0.0, description='Training', layout=Layout(flex='2'), max=6667.0, style=Pro…"
      ]
     },
     "metadata": {},
     "output_type": "display_data"
    },
    {
     "name": "stdout",
     "output_type": "stream",
     "text": [
      "Epoch 3: train=1.1913, val=0.907564, took 595.9 s\n"
     ]
    },
    {
     "data": {
      "application/vnd.jupyter.widget-view+json": {
       "model_id": "",
       "version_major": 2,
       "version_minor": 0
      },
      "text/plain": [
       "HBox(children=(FloatProgress(value=0.0, description='Training', layout=Layout(flex='2'), max=6667.0, style=Pro…"
      ]
     },
     "metadata": {},
     "output_type": "display_data"
    },
    {
     "name": "stdout",
     "output_type": "stream",
     "text": [
      "Epoch 4: train=1.18502, val=0.894089, took 594.29 s\n"
     ]
    },
    {
     "data": {
      "application/vnd.jupyter.widget-view+json": {
       "model_id": "",
       "version_major": 2,
       "version_minor": 0
      },
      "text/plain": [
       "HBox(children=(FloatProgress(value=0.0, description='Training', layout=Layout(flex='2'), max=6667.0, style=Pro…"
      ]
     },
     "metadata": {},
     "output_type": "display_data"
    },
    {
     "name": "stdout",
     "output_type": "stream",
     "text": [
      "Epoch 5: train=1.17983, val=0.894185, took 595.25 s\n"
     ]
    },
    {
     "data": {
      "application/vnd.jupyter.widget-view+json": {
       "model_id": "",
       "version_major": 2,
       "version_minor": 0
      },
      "text/plain": [
       "HBox(children=(FloatProgress(value=0.0, description='Training', layout=Layout(flex='2'), max=6667.0, style=Pro…"
      ]
     },
     "metadata": {},
     "output_type": "display_data"
    },
    {
     "name": "stdout",
     "output_type": "stream",
     "text": [
      "Epoch 6: train=1.17487, val=0.897326, took 594.53 s\n"
     ]
    },
    {
     "data": {
      "application/vnd.jupyter.widget-view+json": {
       "model_id": "",
       "version_major": 2,
       "version_minor": 0
      },
      "text/plain": [
       "HBox(children=(FloatProgress(value=0.0, description='Training', layout=Layout(flex='2'), max=6667.0, style=Pro…"
      ]
     },
     "metadata": {},
     "output_type": "display_data"
    },
    {
     "name": "stdout",
     "output_type": "stream",
     "text": [
      "Epoch 7: train=1.17169, val=0.884554, took 595.3 s\n"
     ]
    },
    {
     "data": {
      "application/vnd.jupyter.widget-view+json": {
       "model_id": "",
       "version_major": 2,
       "version_minor": 0
      },
      "text/plain": [
       "HBox(children=(FloatProgress(value=0.0, description='Training', layout=Layout(flex='2'), max=6667.0, style=Pro…"
      ]
     },
     "metadata": {},
     "output_type": "display_data"
    },
    {
     "name": "stdout",
     "output_type": "stream",
     "text": [
      "Epoch 8: train=1.16664, val=0.879884, took 595.72 s\n"
     ]
    },
    {
     "data": {
      "application/vnd.jupyter.widget-view+json": {
       "model_id": "",
       "version_major": 2,
       "version_minor": 0
      },
      "text/plain": [
       "HBox(children=(FloatProgress(value=0.0, description='Training', layout=Layout(flex='2'), max=6667.0, style=Pro…"
      ]
     },
     "metadata": {},
     "output_type": "display_data"
    },
    {
     "name": "stdout",
     "output_type": "stream",
     "text": [
      "Epoch 9: train=1.16536, val=0.881946, took 595.01 s\n"
     ]
    },
    {
     "data": {
      "application/vnd.jupyter.widget-view+json": {
       "model_id": "",
       "version_major": 2,
       "version_minor": 0
      },
      "text/plain": [
       "HBox(children=(FloatProgress(value=0.0, description='Training', layout=Layout(flex='2'), max=6667.0, style=Pro…"
      ]
     },
     "metadata": {},
     "output_type": "display_data"
    },
    {
     "name": "stdout",
     "output_type": "stream",
     "text": [
      "Epoch 10: train=1.1613, val=0.873425, took 594.7 s\n"
     ]
    },
    {
     "data": {
      "application/vnd.jupyter.widget-view+json": {
       "model_id": "",
       "version_major": 2,
       "version_minor": 0
      },
      "text/plain": [
       "HBox(children=(FloatProgress(value=0.0, description='Training', layout=Layout(flex='2'), max=6667.0, style=Pro…"
      ]
     },
     "metadata": {},
     "output_type": "display_data"
    },
    {
     "name": "stdout",
     "output_type": "stream",
     "text": [
      "Epoch 11: train=1.15818, val=0.875511, took 594.9 s\n"
     ]
    },
    {
     "data": {
      "application/vnd.jupyter.widget-view+json": {
       "model_id": "",
       "version_major": 2,
       "version_minor": 0
      },
      "text/plain": [
       "HBox(children=(FloatProgress(value=0.0, description='Training', layout=Layout(flex='2'), max=6667.0, style=Pro…"
      ]
     },
     "metadata": {},
     "output_type": "display_data"
    },
    {
     "name": "stdout",
     "output_type": "stream",
     "text": [
      "Epoch 12: train=1.15746, val=0.914494, took 595.99 s\n"
     ]
    },
    {
     "data": {
      "application/vnd.jupyter.widget-view+json": {
       "model_id": "",
       "version_major": 2,
       "version_minor": 0
      },
      "text/plain": [
       "HBox(children=(FloatProgress(value=0.0, description='Training', layout=Layout(flex='2'), max=6667.0, style=Pro…"
      ]
     },
     "metadata": {},
     "output_type": "display_data"
    },
    {
     "name": "stdout",
     "output_type": "stream",
     "text": [
      "Epoch 13: train=1.15374, val=0.868228, took 595.87 s\n"
     ]
    },
    {
     "data": {
      "application/vnd.jupyter.widget-view+json": {
       "model_id": "",
       "version_major": 2,
       "version_minor": 0
      },
      "text/plain": [
       "HBox(children=(FloatProgress(value=0.0, description='Training', layout=Layout(flex='2'), max=6667.0, style=Pro…"
      ]
     },
     "metadata": {},
     "output_type": "display_data"
    },
    {
     "name": "stdout",
     "output_type": "stream",
     "text": [
      "Epoch 14: train=1.15003, val=0.880213, took 594.99 s\n"
     ]
    },
    {
     "data": {
      "application/vnd.jupyter.widget-view+json": {
       "model_id": "",
       "version_major": 2,
       "version_minor": 0
      },
      "text/plain": [
       "HBox(children=(FloatProgress(value=0.0, description='Training', layout=Layout(flex='2'), max=6667.0, style=Pro…"
      ]
     },
     "metadata": {},
     "output_type": "display_data"
    },
    {
     "name": "stdout",
     "output_type": "stream",
     "text": [
      "Epoch 15: train=1.14779, val=0.857807, took 595.17 s\n"
     ]
    },
    {
     "data": {
      "application/vnd.jupyter.widget-view+json": {
       "model_id": "",
       "version_major": 2,
       "version_minor": 0
      },
      "text/plain": [
       "HBox(children=(FloatProgress(value=0.0, description='Training', layout=Layout(flex='2'), max=6667.0, style=Pro…"
      ]
     },
     "metadata": {},
     "output_type": "display_data"
    },
    {
     "name": "stdout",
     "output_type": "stream",
     "text": [
      "Epoch 16: train=1.1462, val=0.85653, took 595.72 s\n"
     ]
    },
    {
     "data": {
      "application/vnd.jupyter.widget-view+json": {
       "model_id": "",
       "version_major": 2,
       "version_minor": 0
      },
      "text/plain": [
       "HBox(children=(FloatProgress(value=0.0, description='Training', layout=Layout(flex='2'), max=6667.0, style=Pro…"
      ]
     },
     "metadata": {},
     "output_type": "display_data"
    },
    {
     "name": "stdout",
     "output_type": "stream",
     "text": [
      "Epoch 17: train=1.14407, val=0.865626, took 595.16 s\n"
     ]
    },
    {
     "data": {
      "application/vnd.jupyter.widget-view+json": {
       "model_id": "",
       "version_major": 2,
       "version_minor": 0
      },
      "text/plain": [
       "HBox(children=(FloatProgress(value=0.0, description='Training', layout=Layout(flex='2'), max=6667.0, style=Pro…"
      ]
     },
     "metadata": {},
     "output_type": "display_data"
    },
    {
     "name": "stdout",
     "output_type": "stream",
     "text": [
      "Epoch 18: train=1.14182, val=0.853799, took 593.79 s\n"
     ]
    },
    {
     "data": {
      "application/vnd.jupyter.widget-view+json": {
       "model_id": "",
       "version_major": 2,
       "version_minor": 0
      },
      "text/plain": [
       "HBox(children=(FloatProgress(value=0.0, description='Training', layout=Layout(flex='2'), max=6667.0, style=Pro…"
      ]
     },
     "metadata": {},
     "output_type": "display_data"
    },
    {
     "name": "stdout",
     "output_type": "stream",
     "text": [
      "Epoch 19: train=1.13832, val=0.858286, took 595.01 s\n"
     ]
    },
    {
     "data": {
      "application/vnd.jupyter.widget-view+json": {
       "model_id": "",
       "version_major": 2,
       "version_minor": 0
      },
      "text/plain": [
       "HBox(children=(FloatProgress(value=0.0, description='Training', layout=Layout(flex='2'), max=6667.0, style=Pro…"
      ]
     },
     "metadata": {},
     "output_type": "display_data"
    },
    {
     "name": "stdout",
     "output_type": "stream",
     "text": [
      "Epoch 20: train=1.13641, val=0.85014, took 595.27 s\n"
     ]
    },
    {
     "data": {
      "application/vnd.jupyter.widget-view+json": {
       "model_id": "",
       "version_major": 2,
       "version_minor": 0
      },
      "text/plain": [
       "HBox(children=(FloatProgress(value=0.0, description='Training', layout=Layout(flex='2'), max=6667.0, style=Pro…"
      ]
     },
     "metadata": {},
     "output_type": "display_data"
    },
    {
     "name": "stdout",
     "output_type": "stream",
     "text": [
      "Epoch 21: train=1.13294, val=0.845555, took 595.26 s\n"
     ]
    },
    {
     "data": {
      "application/vnd.jupyter.widget-view+json": {
       "model_id": "",
       "version_major": 2,
       "version_minor": 0
      },
      "text/plain": [
       "HBox(children=(FloatProgress(value=0.0, description='Training', layout=Layout(flex='2'), max=6667.0, style=Pro…"
      ]
     },
     "metadata": {},
     "output_type": "display_data"
    },
    {
     "name": "stdout",
     "output_type": "stream",
     "text": [
      "Epoch 22: train=1.13117, val=0.879903, took 593.18 s\n"
     ]
    },
    {
     "data": {
      "application/vnd.jupyter.widget-view+json": {
       "model_id": "",
       "version_major": 2,
       "version_minor": 0
      },
      "text/plain": [
       "HBox(children=(FloatProgress(value=0.0, description='Training', layout=Layout(flex='2'), max=6667.0, style=Pro…"
      ]
     },
     "metadata": {},
     "output_type": "display_data"
    },
    {
     "name": "stdout",
     "output_type": "stream",
     "text": [
      "Epoch 23: train=1.13077, val=0.851456, took 593.44 s\n"
     ]
    },
    {
     "data": {
      "application/vnd.jupyter.widget-view+json": {
       "model_id": "",
       "version_major": 2,
       "version_minor": 0
      },
      "text/plain": [
       "HBox(children=(FloatProgress(value=0.0, description='Training', layout=Layout(flex='2'), max=6667.0, style=Pro…"
      ]
     },
     "metadata": {},
     "output_type": "display_data"
    },
    {
     "name": "stdout",
     "output_type": "stream",
     "text": [
      "Epoch 24: train=1.1298, val=0.855611, took 592.74 s\n"
     ]
    },
    {
     "data": {
      "application/vnd.jupyter.widget-view+json": {
       "model_id": "",
       "version_major": 2,
       "version_minor": 0
      },
      "text/plain": [
       "HBox(children=(FloatProgress(value=0.0, description='Training', layout=Layout(flex='2'), max=6667.0, style=Pro…"
      ]
     },
     "metadata": {},
     "output_type": "display_data"
    },
    {
     "name": "stdout",
     "output_type": "stream",
     "text": [
      "Epoch 25: train=1.12592, val=0.85396, took 593.54 s\n"
     ]
    },
    {
     "data": {
      "application/vnd.jupyter.widget-view+json": {
       "model_id": "",
       "version_major": 2,
       "version_minor": 0
      },
      "text/plain": [
       "HBox(children=(FloatProgress(value=0.0, description='Training', layout=Layout(flex='2'), max=6667.0, style=Pro…"
      ]
     },
     "metadata": {},
     "output_type": "display_data"
    },
    {
     "name": "stdout",
     "output_type": "stream",
     "text": [
      "Epoch 26: train=1.12336, val=0.954648, took 592.89 s\n"
     ]
    },
    {
     "data": {
      "application/vnd.jupyter.widget-view+json": {
       "model_id": "",
       "version_major": 2,
       "version_minor": 0
      },
      "text/plain": [
       "HBox(children=(FloatProgress(value=0.0, description='Training', layout=Layout(flex='2'), max=6667.0, style=Pro…"
      ]
     },
     "metadata": {},
     "output_type": "display_data"
    },
    {
     "name": "stdout",
     "output_type": "stream",
     "text": [
      "Epoch 27: train=1.12349, val=1.07643, took 593.6 s\n"
     ]
    },
    {
     "data": {
      "application/vnd.jupyter.widget-view+json": {
       "model_id": "",
       "version_major": 2,
       "version_minor": 0
      },
      "text/plain": [
       "HBox(children=(FloatProgress(value=0.0, description='Training', layout=Layout(flex='2'), max=6667.0, style=Pro…"
      ]
     },
     "metadata": {},
     "output_type": "display_data"
    },
    {
     "name": "stdout",
     "output_type": "stream",
     "text": [
      "Epoch 28: train=1.1208, val=0.836294, took 593.33 s\n"
     ]
    },
    {
     "data": {
      "application/vnd.jupyter.widget-view+json": {
       "model_id": "",
       "version_major": 2,
       "version_minor": 0
      },
      "text/plain": [
       "HBox(children=(FloatProgress(value=0.0, description='Training', layout=Layout(flex='2'), max=6667.0, style=Pro…"
      ]
     },
     "metadata": {},
     "output_type": "display_data"
    },
    {
     "name": "stdout",
     "output_type": "stream",
     "text": [
      "Epoch 29: train=1.11893, val=0.846491, took 592.59 s\n"
     ]
    },
    {
     "data": {
      "application/vnd.jupyter.widget-view+json": {
       "model_id": "",
       "version_major": 2,
       "version_minor": 0
      },
      "text/plain": [
       "HBox(children=(FloatProgress(value=0.0, description='Training', layout=Layout(flex='2'), max=6667.0, style=Pro…"
      ]
     },
     "metadata": {},
     "output_type": "display_data"
    },
    {
     "name": "stdout",
     "output_type": "stream",
     "text": [
      "Epoch 30: train=1.11645, val=0.839343, took 593.86 s\n"
     ]
    },
    {
     "data": {
      "application/vnd.jupyter.widget-view+json": {
       "model_id": "",
       "version_major": 2,
       "version_minor": 0
      },
      "text/plain": [
       "HBox(children=(FloatProgress(value=0.0, description='Training', layout=Layout(flex='2'), max=6667.0, style=Pro…"
      ]
     },
     "metadata": {},
     "output_type": "display_data"
    },
    {
     "name": "stdout",
     "output_type": "stream",
     "text": [
      "Epoch 31: train=1.11507, val=0.838883, took 596.31 s\n"
     ]
    },
    {
     "data": {
      "application/vnd.jupyter.widget-view+json": {
       "model_id": "",
       "version_major": 2,
       "version_minor": 0
      },
      "text/plain": [
       "HBox(children=(FloatProgress(value=0.0, description='Training', layout=Layout(flex='2'), max=6667.0, style=Pro…"
      ]
     },
     "metadata": {},
     "output_type": "display_data"
    },
    {
     "name": "stdout",
     "output_type": "stream",
     "text": [
      "Epoch 32: train=1.1131, val=0.906023, took 595.71 s\n"
     ]
    },
    {
     "data": {
      "application/vnd.jupyter.widget-view+json": {
       "model_id": "",
       "version_major": 2,
       "version_minor": 0
      },
      "text/plain": [
       "HBox(children=(FloatProgress(value=0.0, description='Training', layout=Layout(flex='2'), max=6667.0, style=Pro…"
      ]
     },
     "metadata": {},
     "output_type": "display_data"
    },
    {
     "name": "stdout",
     "output_type": "stream",
     "text": [
      "Epoch 33: train=1.11165, val=0.835306, took 594.88 s\n"
     ]
    },
    {
     "data": {
      "application/vnd.jupyter.widget-view+json": {
       "model_id": "",
       "version_major": 2,
       "version_minor": 0
      },
      "text/plain": [
       "HBox(children=(FloatProgress(value=0.0, description='Training', layout=Layout(flex='2'), max=6667.0, style=Pro…"
      ]
     },
     "metadata": {},
     "output_type": "display_data"
    },
    {
     "name": "stdout",
     "output_type": "stream",
     "text": [
      "Epoch 34: train=1.11084, val=0.862361, took 593.38 s\n"
     ]
    },
    {
     "data": {
      "application/vnd.jupyter.widget-view+json": {
       "model_id": "",
       "version_major": 2,
       "version_minor": 0
      },
      "text/plain": [
       "HBox(children=(FloatProgress(value=0.0, description='Training', layout=Layout(flex='2'), max=6667.0, style=Pro…"
      ]
     },
     "metadata": {},
     "output_type": "display_data"
    },
    {
     "name": "stdout",
     "output_type": "stream",
     "text": [
      "Epoch 35: train=1.10918, val=0.846319, took 593.17 s\n"
     ]
    },
    {
     "data": {
      "application/vnd.jupyter.widget-view+json": {
       "model_id": "",
       "version_major": 2,
       "version_minor": 0
      },
      "text/plain": [
       "HBox(children=(FloatProgress(value=0.0, description='Training', layout=Layout(flex='2'), max=6667.0, style=Pro…"
      ]
     },
     "metadata": {},
     "output_type": "display_data"
    },
    {
     "name": "stdout",
     "output_type": "stream",
     "text": [
      "Epoch 36: train=1.10591, val=0.826611, took 595.12 s\n"
     ]
    },
    {
     "data": {
      "application/vnd.jupyter.widget-view+json": {
       "model_id": "",
       "version_major": 2,
       "version_minor": 0
      },
      "text/plain": [
       "HBox(children=(FloatProgress(value=0.0, description='Training', layout=Layout(flex='2'), max=6667.0, style=Pro…"
      ]
     },
     "metadata": {},
     "output_type": "display_data"
    },
    {
     "name": "stdout",
     "output_type": "stream",
     "text": [
      "Epoch 37: train=1.10488, val=0.851823, took 593.79 s\n"
     ]
    },
    {
     "data": {
      "application/vnd.jupyter.widget-view+json": {
       "model_id": "",
       "version_major": 2,
       "version_minor": 0
      },
      "text/plain": [
       "HBox(children=(FloatProgress(value=0.0, description='Training', layout=Layout(flex='2'), max=6667.0, style=Pro…"
      ]
     },
     "metadata": {},
     "output_type": "display_data"
    },
    {
     "name": "stdout",
     "output_type": "stream",
     "text": [
      "Epoch 38: train=1.10508, val=0.840295, took 594.47 s\n"
     ]
    },
    {
     "data": {
      "application/vnd.jupyter.widget-view+json": {
       "model_id": "",
       "version_major": 2,
       "version_minor": 0
      },
      "text/plain": [
       "HBox(children=(FloatProgress(value=0.0, description='Training', layout=Layout(flex='2'), max=6667.0, style=Pro…"
      ]
     },
     "metadata": {},
     "output_type": "display_data"
    },
    {
     "name": "stdout",
     "output_type": "stream",
     "text": [
      "Epoch 39: train=1.10376, val=0.819212, took 592.66 s\n"
     ]
    },
    {
     "data": {
      "application/vnd.jupyter.widget-view+json": {
       "model_id": "",
       "version_major": 2,
       "version_minor": 0
      },
      "text/plain": [
       "HBox(children=(FloatProgress(value=0.0, description='Training', layout=Layout(flex='2'), max=6667.0, style=Pro…"
      ]
     },
     "metadata": {},
     "output_type": "display_data"
    },
    {
     "name": "stdout",
     "output_type": "stream",
     "text": [
      "Epoch 40: train=1.10141, val=0.843289, took 594.84 s\n"
     ]
    },
    {
     "data": {
      "application/vnd.jupyter.widget-view+json": {
       "model_id": "",
       "version_major": 2,
       "version_minor": 0
      },
      "text/plain": [
       "HBox(children=(FloatProgress(value=0.0, description='Training', layout=Layout(flex='2'), max=6667.0, style=Pro…"
      ]
     },
     "metadata": {},
     "output_type": "display_data"
    },
    {
     "name": "stdout",
     "output_type": "stream",
     "text": [
      "Epoch 41: train=1.09897, val=0.834963, took 594.25 s\n"
     ]
    },
    {
     "data": {
      "application/vnd.jupyter.widget-view+json": {
       "model_id": "",
       "version_major": 2,
       "version_minor": 0
      },
      "text/plain": [
       "HBox(children=(FloatProgress(value=0.0, description='Training', layout=Layout(flex='2'), max=6667.0, style=Pro…"
      ]
     },
     "metadata": {},
     "output_type": "display_data"
    },
    {
     "name": "stdout",
     "output_type": "stream",
     "text": [
      "Epoch 42: train=1.09808, val=0.849186, took 593.48 s\n"
     ]
    },
    {
     "data": {
      "application/vnd.jupyter.widget-view+json": {
       "model_id": "",
       "version_major": 2,
       "version_minor": 0
      },
      "text/plain": [
       "HBox(children=(FloatProgress(value=0.0, description='Training', layout=Layout(flex='2'), max=6667.0, style=Pro…"
      ]
     },
     "metadata": {},
     "output_type": "display_data"
    },
    {
     "name": "stdout",
     "output_type": "stream",
     "text": [
      "Epoch 43: train=1.09581, val=0.825584, took 594.42 s\n"
     ]
    },
    {
     "data": {
      "application/vnd.jupyter.widget-view+json": {
       "model_id": "",
       "version_major": 2,
       "version_minor": 0
      },
      "text/plain": [
       "HBox(children=(FloatProgress(value=0.0, description='Training', layout=Layout(flex='2'), max=6667.0, style=Pro…"
      ]
     },
     "metadata": {},
     "output_type": "display_data"
    },
    {
     "name": "stdout",
     "output_type": "stream",
     "text": [
      "Epoch 44: train=1.09386, val=0.82306, took 594.17 s\n"
     ]
    },
    {
     "data": {
      "application/vnd.jupyter.widget-view+json": {
       "model_id": "",
       "version_major": 2,
       "version_minor": 0
      },
      "text/plain": [
       "HBox(children=(FloatProgress(value=0.0, description='Training', layout=Layout(flex='2'), max=6667.0, style=Pro…"
      ]
     },
     "metadata": {},
     "output_type": "display_data"
    },
    {
     "name": "stdout",
     "output_type": "stream",
     "text": [
      "Epoch 45: train=1.09234, val=0.825387, took 595.0 s\n"
     ]
    },
    {
     "data": {
      "application/vnd.jupyter.widget-view+json": {
       "model_id": "",
       "version_major": 2,
       "version_minor": 0
      },
      "text/plain": [
       "HBox(children=(FloatProgress(value=0.0, description='Training', layout=Layout(flex='2'), max=6667.0, style=Pro…"
      ]
     },
     "metadata": {},
     "output_type": "display_data"
    },
    {
     "name": "stdout",
     "output_type": "stream",
     "text": [
      "Epoch 46: train=1.09177, val=0.906662, took 593.97 s\n"
     ]
    },
    {
     "data": {
      "application/vnd.jupyter.widget-view+json": {
       "model_id": "",
       "version_major": 2,
       "version_minor": 0
      },
      "text/plain": [
       "HBox(children=(FloatProgress(value=0.0, description='Training', layout=Layout(flex='2'), max=6667.0, style=Pro…"
      ]
     },
     "metadata": {},
     "output_type": "display_data"
    },
    {
     "name": "stdout",
     "output_type": "stream",
     "text": [
      "Epoch 47: train=1.09073, val=0.808153, took 594.78 s\n"
     ]
    },
    {
     "data": {
      "application/vnd.jupyter.widget-view+json": {
       "model_id": "",
       "version_major": 2,
       "version_minor": 0
      },
      "text/plain": [
       "HBox(children=(FloatProgress(value=0.0, description='Training', layout=Layout(flex='2'), max=6667.0, style=Pro…"
      ]
     },
     "metadata": {},
     "output_type": "display_data"
    },
    {
     "name": "stdout",
     "output_type": "stream",
     "text": [
      "Epoch 48: train=1.08891, val=0.820464, took 593.83 s\n"
     ]
    },
    {
     "data": {
      "application/vnd.jupyter.widget-view+json": {
       "model_id": "",
       "version_major": 2,
       "version_minor": 0
      },
      "text/plain": [
       "HBox(children=(FloatProgress(value=0.0, description='Training', layout=Layout(flex='2'), max=6667.0, style=Pro…"
      ]
     },
     "metadata": {},
     "output_type": "display_data"
    },
    {
     "name": "stdout",
     "output_type": "stream",
     "text": [
      "Epoch 49: train=1.08804, val=0.812262, took 593.36 s\n"
     ]
    },
    {
     "data": {
      "application/vnd.jupyter.widget-view+json": {
       "model_id": "",
       "version_major": 2,
       "version_minor": 0
      },
      "text/plain": [
       "HBox(children=(FloatProgress(value=0.0, description='Training', layout=Layout(flex='2'), max=6667.0, style=Pro…"
      ]
     },
     "metadata": {},
     "output_type": "display_data"
    },
    {
     "name": "stdout",
     "output_type": "stream",
     "text": [
      "Epoch 50: train=1.08597, val=0.806449, took 593.55 s\n"
     ]
    },
    {
     "data": {
      "application/vnd.jupyter.widget-view+json": {
       "model_id": "",
       "version_major": 2,
       "version_minor": 0
      },
      "text/plain": [
       "HBox(children=(FloatProgress(value=0.0, description='Training', layout=Layout(flex='2'), max=6667.0, style=Pro…"
      ]
     },
     "metadata": {},
     "output_type": "display_data"
    },
    {
     "name": "stdout",
     "output_type": "stream",
     "text": [
      "Epoch 51: train=1.0858, val=0.813487, took 593.72 s\n"
     ]
    },
    {
     "data": {
      "application/vnd.jupyter.widget-view+json": {
       "model_id": "",
       "version_major": 2,
       "version_minor": 0
      },
      "text/plain": [
       "HBox(children=(FloatProgress(value=0.0, description='Training', layout=Layout(flex='2'), max=6667.0, style=Pro…"
      ]
     },
     "metadata": {},
     "output_type": "display_data"
    },
    {
     "name": "stdout",
     "output_type": "stream",
     "text": [
      "Epoch 52: train=1.08431, val=0.824814, took 592.97 s\n"
     ]
    },
    {
     "data": {
      "application/vnd.jupyter.widget-view+json": {
       "model_id": "",
       "version_major": 2,
       "version_minor": 0
      },
      "text/plain": [
       "HBox(children=(FloatProgress(value=0.0, description='Training', layout=Layout(flex='2'), max=6667.0, style=Pro…"
      ]
     },
     "metadata": {},
     "output_type": "display_data"
    },
    {
     "name": "stdout",
     "output_type": "stream",
     "text": [
      "Epoch 53: train=1.08197, val=0.83138, took 592.78 s\n"
     ]
    },
    {
     "data": {
      "application/vnd.jupyter.widget-view+json": {
       "model_id": "",
       "version_major": 2,
       "version_minor": 0
      },
      "text/plain": [
       "HBox(children=(FloatProgress(value=0.0, description='Training', layout=Layout(flex='2'), max=6667.0, style=Pro…"
      ]
     },
     "metadata": {},
     "output_type": "display_data"
    },
    {
     "name": "stdout",
     "output_type": "stream",
     "text": [
      "Epoch 54: train=1.0811, val=0.812285, took 592.8 s\n"
     ]
    },
    {
     "data": {
      "application/vnd.jupyter.widget-view+json": {
       "model_id": "",
       "version_major": 2,
       "version_minor": 0
      },
      "text/plain": [
       "HBox(children=(FloatProgress(value=0.0, description='Training', layout=Layout(flex='2'), max=6667.0, style=Pro…"
      ]
     },
     "metadata": {},
     "output_type": "display_data"
    },
    {
     "name": "stdout",
     "output_type": "stream",
     "text": [
      "Epoch 55: train=1.08023, val=0.81286, took 592.86 s\n"
     ]
    },
    {
     "data": {
      "application/vnd.jupyter.widget-view+json": {
       "model_id": "",
       "version_major": 2,
       "version_minor": 0
      },
      "text/plain": [
       "HBox(children=(FloatProgress(value=0.0, description='Training', layout=Layout(flex='2'), max=6667.0, style=Pro…"
      ]
     },
     "metadata": {},
     "output_type": "display_data"
    },
    {
     "name": "stdout",
     "output_type": "stream",
     "text": [
      "Epoch 56: train=1.0766, val=0.798128, took 592.38 s\n"
     ]
    },
    {
     "data": {
      "application/vnd.jupyter.widget-view+json": {
       "model_id": "",
       "version_major": 2,
       "version_minor": 0
      },
      "text/plain": [
       "HBox(children=(FloatProgress(value=0.0, description='Training', layout=Layout(flex='2'), max=6667.0, style=Pro…"
      ]
     },
     "metadata": {},
     "output_type": "display_data"
    },
    {
     "name": "stdout",
     "output_type": "stream",
     "text": [
      "Epoch 57: train=1.07648, val=0.829347, took 592.93 s\n"
     ]
    },
    {
     "data": {
      "application/vnd.jupyter.widget-view+json": {
       "model_id": "",
       "version_major": 2,
       "version_minor": 0
      },
      "text/plain": [
       "HBox(children=(FloatProgress(value=0.0, description='Training', layout=Layout(flex='2'), max=6667.0, style=Pro…"
      ]
     },
     "metadata": {},
     "output_type": "display_data"
    },
    {
     "name": "stdout",
     "output_type": "stream",
     "text": [
      "Epoch 58: train=1.07569, val=0.795986, took 592.8 s\n"
     ]
    },
    {
     "data": {
      "application/vnd.jupyter.widget-view+json": {
       "model_id": "",
       "version_major": 2,
       "version_minor": 0
      },
      "text/plain": [
       "HBox(children=(FloatProgress(value=0.0, description='Training', layout=Layout(flex='2'), max=6667.0, style=Pro…"
      ]
     },
     "metadata": {},
     "output_type": "display_data"
    },
    {
     "name": "stdout",
     "output_type": "stream",
     "text": [
      "Epoch 59: train=1.07491, val=0.804898, took 592.98 s\n"
     ]
    },
    {
     "data": {
      "application/vnd.jupyter.widget-view+json": {
       "model_id": "",
       "version_major": 2,
       "version_minor": 0
      },
      "text/plain": [
       "HBox(children=(FloatProgress(value=0.0, description='Training', layout=Layout(flex='2'), max=6667.0, style=Pro…"
      ]
     },
     "metadata": {},
     "output_type": "display_data"
    },
    {
     "name": "stdout",
     "output_type": "stream",
     "text": [
      "Epoch 60: train=1.07379, val=0.817399, took 592.52 s\n"
     ]
    },
    {
     "data": {
      "application/vnd.jupyter.widget-view+json": {
       "model_id": "",
       "version_major": 2,
       "version_minor": 0
      },
      "text/plain": [
       "HBox(children=(FloatProgress(value=0.0, description='Training', layout=Layout(flex='2'), max=6667.0, style=Pro…"
      ]
     },
     "metadata": {},
     "output_type": "display_data"
    },
    {
     "name": "stdout",
     "output_type": "stream",
     "text": [
      "Epoch 61: train=1.07203, val=0.794323, took 592.35 s\n"
     ]
    },
    {
     "data": {
      "application/vnd.jupyter.widget-view+json": {
       "model_id": "",
       "version_major": 2,
       "version_minor": 0
      },
      "text/plain": [
       "HBox(children=(FloatProgress(value=0.0, description='Training', layout=Layout(flex='2'), max=6667.0, style=Pro…"
      ]
     },
     "metadata": {},
     "output_type": "display_data"
    },
    {
     "name": "stdout",
     "output_type": "stream",
     "text": [
      "Epoch 62: train=1.07044, val=0.80116, took 592.64 s\n"
     ]
    },
    {
     "data": {
      "application/vnd.jupyter.widget-view+json": {
       "model_id": "",
       "version_major": 2,
       "version_minor": 0
      },
      "text/plain": [
       "HBox(children=(FloatProgress(value=0.0, description='Training', layout=Layout(flex='2'), max=6667.0, style=Pro…"
      ]
     },
     "metadata": {},
     "output_type": "display_data"
    },
    {
     "name": "stdout",
     "output_type": "stream",
     "text": [
      "Epoch 63: train=1.06879, val=0.82585, took 592.52 s\n"
     ]
    },
    {
     "data": {
      "application/vnd.jupyter.widget-view+json": {
       "model_id": "",
       "version_major": 2,
       "version_minor": 0
      },
      "text/plain": [
       "HBox(children=(FloatProgress(value=0.0, description='Training', layout=Layout(flex='2'), max=6667.0, style=Pro…"
      ]
     },
     "metadata": {},
     "output_type": "display_data"
    },
    {
     "name": "stdout",
     "output_type": "stream",
     "text": [
      "Epoch 64: train=1.06703, val=0.790882, took 592.65 s\n"
     ]
    },
    {
     "data": {
      "application/vnd.jupyter.widget-view+json": {
       "model_id": "",
       "version_major": 2,
       "version_minor": 0
      },
      "text/plain": [
       "HBox(children=(FloatProgress(value=0.0, description='Training', layout=Layout(flex='2'), max=6667.0, style=Pro…"
      ]
     },
     "metadata": {},
     "output_type": "display_data"
    },
    {
     "name": "stdout",
     "output_type": "stream",
     "text": [
      "Epoch 65: train=1.06732, val=0.801953, took 592.57 s\n"
     ]
    },
    {
     "data": {
      "application/vnd.jupyter.widget-view+json": {
       "model_id": "",
       "version_major": 2,
       "version_minor": 0
      },
      "text/plain": [
       "HBox(children=(FloatProgress(value=0.0, description='Training', layout=Layout(flex='2'), max=6667.0, style=Pro…"
      ]
     },
     "metadata": {},
     "output_type": "display_data"
    },
    {
     "name": "stdout",
     "output_type": "stream",
     "text": [
      "Epoch 66: train=1.06533, val=0.820882, took 593.13 s\n"
     ]
    },
    {
     "data": {
      "application/vnd.jupyter.widget-view+json": {
       "model_id": "",
       "version_major": 2,
       "version_minor": 0
      },
      "text/plain": [
       "HBox(children=(FloatProgress(value=0.0, description='Training', layout=Layout(flex='2'), max=6667.0, style=Pro…"
      ]
     },
     "metadata": {},
     "output_type": "display_data"
    },
    {
     "name": "stdout",
     "output_type": "stream",
     "text": [
      "Epoch 67: train=1.06446, val=0.827649, took 591.46 s\n"
     ]
    },
    {
     "data": {
      "application/vnd.jupyter.widget-view+json": {
       "model_id": "",
       "version_major": 2,
       "version_minor": 0
      },
      "text/plain": [
       "HBox(children=(FloatProgress(value=0.0, description='Training', layout=Layout(flex='2'), max=6667.0, style=Pro…"
      ]
     },
     "metadata": {},
     "output_type": "display_data"
    },
    {
     "name": "stdout",
     "output_type": "stream",
     "text": [
      "Epoch 68: train=1.06246, val=0.797154, took 592.16 s\n"
     ]
    },
    {
     "data": {
      "application/vnd.jupyter.widget-view+json": {
       "model_id": "",
       "version_major": 2,
       "version_minor": 0
      },
      "text/plain": [
       "HBox(children=(FloatProgress(value=0.0, description='Training', layout=Layout(flex='2'), max=6667.0, style=Pro…"
      ]
     },
     "metadata": {},
     "output_type": "display_data"
    },
    {
     "name": "stdout",
     "output_type": "stream",
     "text": [
      "Epoch 69: train=1.06109, val=0.795349, took 593.09 s\n"
     ]
    },
    {
     "data": {
      "application/vnd.jupyter.widget-view+json": {
       "model_id": "",
       "version_major": 2,
       "version_minor": 0
      },
      "text/plain": [
       "HBox(children=(FloatProgress(value=0.0, description='Training', layout=Layout(flex='2'), max=6667.0, style=Pro…"
      ]
     },
     "metadata": {},
     "output_type": "display_data"
    },
    {
     "name": "stdout",
     "output_type": "stream",
     "text": [
      "Epoch 70: train=1.0611, val=0.799688, took 592.68 s\n"
     ]
    },
    {
     "data": {
      "application/vnd.jupyter.widget-view+json": {
       "model_id": "",
       "version_major": 2,
       "version_minor": 0
      },
      "text/plain": [
       "HBox(children=(FloatProgress(value=0.0, description='Training', layout=Layout(flex='2'), max=6667.0, style=Pro…"
      ]
     },
     "metadata": {},
     "output_type": "display_data"
    },
    {
     "name": "stdout",
     "output_type": "stream",
     "text": [
      "Epoch 71: train=1.05909, val=0.783178, took 593.27 s\n"
     ]
    },
    {
     "data": {
      "application/vnd.jupyter.widget-view+json": {
       "model_id": "",
       "version_major": 2,
       "version_minor": 0
      },
      "text/plain": [
       "HBox(children=(FloatProgress(value=0.0, description='Training', layout=Layout(flex='2'), max=6667.0, style=Pro…"
      ]
     },
     "metadata": {},
     "output_type": "display_data"
    },
    {
     "name": "stdout",
     "output_type": "stream",
     "text": [
      "Epoch 72: train=1.05823, val=0.802088, took 592.93 s\n"
     ]
    },
    {
     "data": {
      "application/vnd.jupyter.widget-view+json": {
       "model_id": "",
       "version_major": 2,
       "version_minor": 0
      },
      "text/plain": [
       "HBox(children=(FloatProgress(value=0.0, description='Training', layout=Layout(flex='2'), max=6667.0, style=Pro…"
      ]
     },
     "metadata": {},
     "output_type": "display_data"
    },
    {
     "name": "stdout",
     "output_type": "stream",
     "text": [
      "Epoch 73: train=1.05783, val=0.800631, took 593.46 s\n"
     ]
    },
    {
     "data": {
      "application/vnd.jupyter.widget-view+json": {
       "model_id": "",
       "version_major": 2,
       "version_minor": 0
      },
      "text/plain": [
       "HBox(children=(FloatProgress(value=0.0, description='Training', layout=Layout(flex='2'), max=6667.0, style=Pro…"
      ]
     },
     "metadata": {},
     "output_type": "display_data"
    },
    {
     "name": "stdout",
     "output_type": "stream",
     "text": [
      "Epoch 74: train=1.05579, val=0.792048, took 593.4 s\n"
     ]
    },
    {
     "data": {
      "application/vnd.jupyter.widget-view+json": {
       "model_id": "",
       "version_major": 2,
       "version_minor": 0
      },
      "text/plain": [
       "HBox(children=(FloatProgress(value=0.0, description='Training', layout=Layout(flex='2'), max=6667.0, style=Pro…"
      ]
     },
     "metadata": {},
     "output_type": "display_data"
    },
    {
     "name": "stdout",
     "output_type": "stream",
     "text": [
      "Epoch 75: train=1.05489, val=0.784476, took 593.23 s\n"
     ]
    },
    {
     "data": {
      "application/vnd.jupyter.widget-view+json": {
       "model_id": "",
       "version_major": 2,
       "version_minor": 0
      },
      "text/plain": [
       "HBox(children=(FloatProgress(value=0.0, description='Training', layout=Layout(flex='2'), max=6667.0, style=Pro…"
      ]
     },
     "metadata": {},
     "output_type": "display_data"
    },
    {
     "name": "stdout",
     "output_type": "stream",
     "text": [
      "Epoch 76: train=1.05307, val=0.786339, took 592.21 s\n"
     ]
    },
    {
     "data": {
      "application/vnd.jupyter.widget-view+json": {
       "model_id": "",
       "version_major": 2,
       "version_minor": 0
      },
      "text/plain": [
       "HBox(children=(FloatProgress(value=0.0, description='Training', layout=Layout(flex='2'), max=6667.0, style=Pro…"
      ]
     },
     "metadata": {},
     "output_type": "display_data"
    },
    {
     "name": "stdout",
     "output_type": "stream",
     "text": [
      "Epoch 77: train=1.05084, val=0.788031, took 593.05 s\n"
     ]
    },
    {
     "data": {
      "application/vnd.jupyter.widget-view+json": {
       "model_id": "",
       "version_major": 2,
       "version_minor": 0
      },
      "text/plain": [
       "HBox(children=(FloatProgress(value=0.0, description='Training', layout=Layout(flex='2'), max=6667.0, style=Pro…"
      ]
     },
     "metadata": {},
     "output_type": "display_data"
    },
    {
     "name": "stdout",
     "output_type": "stream",
     "text": [
      "Epoch 78: train=1.05157, val=0.794938, took 593.91 s\n"
     ]
    },
    {
     "data": {
      "application/vnd.jupyter.widget-view+json": {
       "model_id": "",
       "version_major": 2,
       "version_minor": 0
      },
      "text/plain": [
       "HBox(children=(FloatProgress(value=0.0, description='Training', layout=Layout(flex='2'), max=6667.0, style=Pro…"
      ]
     },
     "metadata": {},
     "output_type": "display_data"
    },
    {
     "name": "stdout",
     "output_type": "stream",
     "text": [
      "Epoch 79: train=1.05096, val=0.785055, took 593.32 s\n"
     ]
    },
    {
     "data": {
      "application/vnd.jupyter.widget-view+json": {
       "model_id": "",
       "version_major": 2,
       "version_minor": 0
      },
      "text/plain": [
       "HBox(children=(FloatProgress(value=0.0, description='Training', layout=Layout(flex='2'), max=6667.0, style=Pro…"
      ]
     },
     "metadata": {},
     "output_type": "display_data"
    },
    {
     "name": "stdout",
     "output_type": "stream",
     "text": [
      "Epoch 80: train=1.04916, val=0.788648, took 593.64 s\n"
     ]
    },
    {
     "data": {
      "application/vnd.jupyter.widget-view+json": {
       "model_id": "",
       "version_major": 2,
       "version_minor": 0
      },
      "text/plain": [
       "HBox(children=(FloatProgress(value=0.0, description='Training', layout=Layout(flex='2'), max=6667.0, style=Pro…"
      ]
     },
     "metadata": {},
     "output_type": "display_data"
    },
    {
     "name": "stdout",
     "output_type": "stream",
     "text": [
      "Epoch 81: train=1.04798, val=0.778278, took 592.02 s\n"
     ]
    },
    {
     "data": {
      "application/vnd.jupyter.widget-view+json": {
       "model_id": "",
       "version_major": 2,
       "version_minor": 0
      },
      "text/plain": [
       "HBox(children=(FloatProgress(value=0.0, description='Training', layout=Layout(flex='2'), max=6667.0, style=Pro…"
      ]
     },
     "metadata": {},
     "output_type": "display_data"
    },
    {
     "name": "stdout",
     "output_type": "stream",
     "text": [
      "Epoch 82: train=1.04698, val=0.779934, took 593.11 s\n"
     ]
    },
    {
     "data": {
      "application/vnd.jupyter.widget-view+json": {
       "model_id": "",
       "version_major": 2,
       "version_minor": 0
      },
      "text/plain": [
       "HBox(children=(FloatProgress(value=0.0, description='Training', layout=Layout(flex='2'), max=6667.0, style=Pro…"
      ]
     },
     "metadata": {},
     "output_type": "display_data"
    },
    {
     "name": "stdout",
     "output_type": "stream",
     "text": [
      "Epoch 83: train=1.0454, val=0.822041, took 592.24 s\n"
     ]
    },
    {
     "data": {
      "application/vnd.jupyter.widget-view+json": {
       "model_id": "",
       "version_major": 2,
       "version_minor": 0
      },
      "text/plain": [
       "HBox(children=(FloatProgress(value=0.0, description='Training', layout=Layout(flex='2'), max=6667.0, style=Pro…"
      ]
     },
     "metadata": {},
     "output_type": "display_data"
    },
    {
     "name": "stdout",
     "output_type": "stream",
     "text": [
      "Epoch 84: train=1.0443, val=0.786121, took 593.99 s\n"
     ]
    },
    {
     "data": {
      "application/vnd.jupyter.widget-view+json": {
       "model_id": "",
       "version_major": 2,
       "version_minor": 0
      },
      "text/plain": [
       "HBox(children=(FloatProgress(value=0.0, description='Training', layout=Layout(flex='2'), max=6667.0, style=Pro…"
      ]
     },
     "metadata": {},
     "output_type": "display_data"
    },
    {
     "name": "stdout",
     "output_type": "stream",
     "text": [
      "Epoch 85: train=1.04356, val=0.769683, took 591.99 s\n"
     ]
    },
    {
     "data": {
      "application/vnd.jupyter.widget-view+json": {
       "model_id": "",
       "version_major": 2,
       "version_minor": 0
      },
      "text/plain": [
       "HBox(children=(FloatProgress(value=0.0, description='Training', layout=Layout(flex='2'), max=6667.0, style=Pro…"
      ]
     },
     "metadata": {},
     "output_type": "display_data"
    },
    {
     "name": "stdout",
     "output_type": "stream",
     "text": [
      "Epoch 86: train=1.04099, val=0.798915, took 592.96 s\n"
     ]
    },
    {
     "data": {
      "application/vnd.jupyter.widget-view+json": {
       "model_id": "",
       "version_major": 2,
       "version_minor": 0
      },
      "text/plain": [
       "HBox(children=(FloatProgress(value=0.0, description='Training', layout=Layout(flex='2'), max=6667.0, style=Pro…"
      ]
     },
     "metadata": {},
     "output_type": "display_data"
    },
    {
     "name": "stdout",
     "output_type": "stream",
     "text": [
      "Epoch 87: train=1.03987, val=0.766189, took 592.18 s\n"
     ]
    },
    {
     "data": {
      "application/vnd.jupyter.widget-view+json": {
       "model_id": "",
       "version_major": 2,
       "version_minor": 0
      },
      "text/plain": [
       "HBox(children=(FloatProgress(value=0.0, description='Training', layout=Layout(flex='2'), max=6667.0, style=Pro…"
      ]
     },
     "metadata": {},
     "output_type": "display_data"
    },
    {
     "name": "stdout",
     "output_type": "stream",
     "text": [
      "Epoch 88: train=1.03926, val=0.780376, took 592.97 s\n"
     ]
    },
    {
     "data": {
      "application/vnd.jupyter.widget-view+json": {
       "model_id": "",
       "version_major": 2,
       "version_minor": 0
      },
      "text/plain": [
       "HBox(children=(FloatProgress(value=0.0, description='Training', layout=Layout(flex='2'), max=6667.0, style=Pro…"
      ]
     },
     "metadata": {},
     "output_type": "display_data"
    },
    {
     "name": "stdout",
     "output_type": "stream",
     "text": [
      "Epoch 89: train=1.03877, val=0.776667, took 593.57 s\n"
     ]
    },
    {
     "data": {
      "application/vnd.jupyter.widget-view+json": {
       "model_id": "",
       "version_major": 2,
       "version_minor": 0
      },
      "text/plain": [
       "HBox(children=(FloatProgress(value=0.0, description='Training', layout=Layout(flex='2'), max=6667.0, style=Pro…"
      ]
     },
     "metadata": {},
     "output_type": "display_data"
    },
    {
     "name": "stdout",
     "output_type": "stream",
     "text": [
      "Epoch 90: train=1.03774, val=0.791276, took 592.27 s\n"
     ]
    },
    {
     "data": {
      "application/vnd.jupyter.widget-view+json": {
       "model_id": "",
       "version_major": 2,
       "version_minor": 0
      },
      "text/plain": [
       "HBox(children=(FloatProgress(value=0.0, description='Training', layout=Layout(flex='2'), max=6667.0, style=Pro…"
      ]
     },
     "metadata": {},
     "output_type": "display_data"
    },
    {
     "name": "stdout",
     "output_type": "stream",
     "text": [
      "Epoch 91: train=1.03571, val=0.765076, took 593.45 s\n"
     ]
    },
    {
     "data": {
      "application/vnd.jupyter.widget-view+json": {
       "model_id": "",
       "version_major": 2,
       "version_minor": 0
      },
      "text/plain": [
       "HBox(children=(FloatProgress(value=0.0, description='Training', layout=Layout(flex='2'), max=6667.0, style=Pro…"
      ]
     },
     "metadata": {},
     "output_type": "display_data"
    },
    {
     "name": "stdout",
     "output_type": "stream",
     "text": [
      "Epoch 92: train=1.03488, val=0.841886, took 593.15 s\n"
     ]
    },
    {
     "data": {
      "application/vnd.jupyter.widget-view+json": {
       "model_id": "",
       "version_major": 2,
       "version_minor": 0
      },
      "text/plain": [
       "HBox(children=(FloatProgress(value=0.0, description='Training', layout=Layout(flex='2'), max=6667.0, style=Pro…"
      ]
     },
     "metadata": {},
     "output_type": "display_data"
    },
    {
     "name": "stdout",
     "output_type": "stream",
     "text": [
      "Epoch 93: train=1.03573, val=0.78658, took 592.83 s\n"
     ]
    },
    {
     "data": {
      "application/vnd.jupyter.widget-view+json": {
       "model_id": "",
       "version_major": 2,
       "version_minor": 0
      },
      "text/plain": [
       "HBox(children=(FloatProgress(value=0.0, description='Training', layout=Layout(flex='2'), max=6667.0, style=Pro…"
      ]
     },
     "metadata": {},
     "output_type": "display_data"
    },
    {
     "name": "stdout",
     "output_type": "stream",
     "text": [
      "Epoch 94: train=1.03388, val=0.76964, took 592.22 s\n"
     ]
    },
    {
     "data": {
      "application/vnd.jupyter.widget-view+json": {
       "model_id": "",
       "version_major": 2,
       "version_minor": 0
      },
      "text/plain": [
       "HBox(children=(FloatProgress(value=0.0, description='Training', layout=Layout(flex='2'), max=6667.0, style=Pro…"
      ]
     },
     "metadata": {},
     "output_type": "display_data"
    },
    {
     "name": "stdout",
     "output_type": "stream",
     "text": [
      "Epoch 95: train=1.03179, val=0.770001, took 591.76 s\n"
     ]
    },
    {
     "data": {
      "application/vnd.jupyter.widget-view+json": {
       "model_id": "",
       "version_major": 2,
       "version_minor": 0
      },
      "text/plain": [
       "HBox(children=(FloatProgress(value=0.0, description='Training', layout=Layout(flex='2'), max=6667.0, style=Pro…"
      ]
     },
     "metadata": {},
     "output_type": "display_data"
    },
    {
     "name": "stdout",
     "output_type": "stream",
     "text": [
      "Epoch 96: train=1.03072, val=0.831354, took 592.68 s\n"
     ]
    },
    {
     "data": {
      "application/vnd.jupyter.widget-view+json": {
       "model_id": "",
       "version_major": 2,
       "version_minor": 0
      },
      "text/plain": [
       "HBox(children=(FloatProgress(value=0.0, description='Training', layout=Layout(flex='2'), max=6667.0, style=Pro…"
      ]
     },
     "metadata": {},
     "output_type": "display_data"
    },
    {
     "name": "stdout",
     "output_type": "stream",
     "text": [
      "Epoch 97: train=1.03122, val=0.760771, took 593.25 s\n"
     ]
    },
    {
     "data": {
      "application/vnd.jupyter.widget-view+json": {
       "model_id": "",
       "version_major": 2,
       "version_minor": 0
      },
      "text/plain": [
       "HBox(children=(FloatProgress(value=0.0, description='Training', layout=Layout(flex='2'), max=6667.0, style=Pro…"
      ]
     },
     "metadata": {},
     "output_type": "display_data"
    },
    {
     "name": "stdout",
     "output_type": "stream",
     "text": [
      "Epoch 98: train=1.02853, val=0.75783, took 592.84 s\n"
     ]
    },
    {
     "data": {
      "application/vnd.jupyter.widget-view+json": {
       "model_id": "",
       "version_major": 2,
       "version_minor": 0
      },
      "text/plain": [
       "HBox(children=(FloatProgress(value=0.0, description='Training', layout=Layout(flex='2'), max=6667.0, style=Pro…"
      ]
     },
     "metadata": {},
     "output_type": "display_data"
    },
    {
     "name": "stdout",
     "output_type": "stream",
     "text": [
      "Epoch 99: train=1.02873, val=0.765134, took 592.76 s\n",
      "\n"
     ]
    }
   ],
   "source": [
    "for result in trainNet(model, optimizer, loss,\n",
    "                        train_loader, val_loader,\n",
    "                        n_epochs, epoch_start=len(results),\n",
    "                        notebook=True):\n",
    "    \n",
    "    results = results.append(pd.Series(result._asdict()), ignore_index=True)\n",
    "    xs = results.index\n",
    "    \n",
    "    # Update the plot above\n",
    "    lines['train'].set_data(results.index,results.cost)\n",
    "    lines['val'].set_data(results.index,results.val)\n",
    "    \n",
    "    #filter first cost epoch (can be really large)\n",
    "    max_cost = max(max(results.cost if len(results.cost)<2 else results.cost[1:]), max(results.val))\n",
    "    min_cost = min(min(results.cost), min(results.val))\n",
    "    \n",
    "    # The plot limits need updating too\n",
    "    \n",
    "    \n",
    "    \n",
    "    ax.set_ylim(min_cost*.9, max_cost*1.1)  \n",
    "    ax.set_xlim(-.5, len(results.cost) - .5)\n",
    "\n",
    "    \n",
    "    # Redraw the figure\n",
    "    fig.canvas.draw()\n",
    "\n",
    "    # Save each model state dictionary\n",
    "    torch.save(model.state_dict(), output / f'{name}_{result.epoch}.pyt')"
   ]
  },
  {
   "cell_type": "markdown",
   "metadata": {},
   "source": [
    "Go ahead and save the final model (even though it was also saved above):"
   ]
  },
  {
   "cell_type": "code",
   "execution_count": 18,
   "metadata": {},
   "outputs": [],
   "source": [
    "torch.save(model.state_dict(), output / f'{name}_final.pyt')"
   ]
  },
  {
   "cell_type": "markdown",
   "metadata": {},
   "source": [
    "Save the output results:"
   ]
  },
  {
   "cell_type": "code",
   "execution_count": 19,
   "metadata": {},
   "outputs": [],
   "source": [
    "results.to_hdf(f'{name}_stats.hdf5', 'results')"
   ]
  },
  {
   "cell_type": "markdown",
   "metadata": {},
   "source": [
    "Save the plot above:"
   ]
  },
  {
   "cell_type": "code",
   "execution_count": 20,
   "metadata": {},
   "outputs": [
    {
     "data": {
      "application/javascript": [
       "/* Put everything inside the global mpl namespace */\n",
       "window.mpl = {};\n",
       "\n",
       "\n",
       "mpl.get_websocket_type = function() {\n",
       "    if (typeof(WebSocket) !== 'undefined') {\n",
       "        return WebSocket;\n",
       "    } else if (typeof(MozWebSocket) !== 'undefined') {\n",
       "        return MozWebSocket;\n",
       "    } else {\n",
       "        alert('Your browser does not have WebSocket support. ' +\n",
       "              'Please try Chrome, Safari or Firefox ≥ 6. ' +\n",
       "              'Firefox 4 and 5 are also supported but you ' +\n",
       "              'have to enable WebSockets in about:config.');\n",
       "    };\n",
       "}\n",
       "\n",
       "mpl.figure = function(figure_id, websocket, ondownload, parent_element) {\n",
       "    this.id = figure_id;\n",
       "\n",
       "    this.ws = websocket;\n",
       "\n",
       "    this.supports_binary = (this.ws.binaryType != undefined);\n",
       "\n",
       "    if (!this.supports_binary) {\n",
       "        var warnings = document.getElementById(\"mpl-warnings\");\n",
       "        if (warnings) {\n",
       "            warnings.style.display = 'block';\n",
       "            warnings.textContent = (\n",
       "                \"This browser does not support binary websocket messages. \" +\n",
       "                    \"Performance may be slow.\");\n",
       "        }\n",
       "    }\n",
       "\n",
       "    this.imageObj = new Image();\n",
       "\n",
       "    this.context = undefined;\n",
       "    this.message = undefined;\n",
       "    this.canvas = undefined;\n",
       "    this.rubberband_canvas = undefined;\n",
       "    this.rubberband_context = undefined;\n",
       "    this.format_dropdown = undefined;\n",
       "\n",
       "    this.image_mode = 'full';\n",
       "\n",
       "    this.root = $('<div/>');\n",
       "    this._root_extra_style(this.root)\n",
       "    this.root.attr('style', 'display: inline-block');\n",
       "\n",
       "    $(parent_element).append(this.root);\n",
       "\n",
       "    this._init_header(this);\n",
       "    this._init_canvas(this);\n",
       "    this._init_toolbar(this);\n",
       "\n",
       "    var fig = this;\n",
       "\n",
       "    this.waiting = false;\n",
       "\n",
       "    this.ws.onopen =  function () {\n",
       "            fig.send_message(\"supports_binary\", {value: fig.supports_binary});\n",
       "            fig.send_message(\"send_image_mode\", {});\n",
       "            if (mpl.ratio != 1) {\n",
       "                fig.send_message(\"set_dpi_ratio\", {'dpi_ratio': mpl.ratio});\n",
       "            }\n",
       "            fig.send_message(\"refresh\", {});\n",
       "        }\n",
       "\n",
       "    this.imageObj.onload = function() {\n",
       "            if (fig.image_mode == 'full') {\n",
       "                // Full images could contain transparency (where diff images\n",
       "                // almost always do), so we need to clear the canvas so that\n",
       "                // there is no ghosting.\n",
       "                fig.context.clearRect(0, 0, fig.canvas.width, fig.canvas.height);\n",
       "            }\n",
       "            fig.context.drawImage(fig.imageObj, 0, 0);\n",
       "        };\n",
       "\n",
       "    this.imageObj.onunload = function() {\n",
       "        fig.ws.close();\n",
       "    }\n",
       "\n",
       "    this.ws.onmessage = this._make_on_message_function(this);\n",
       "\n",
       "    this.ondownload = ondownload;\n",
       "}\n",
       "\n",
       "mpl.figure.prototype._init_header = function() {\n",
       "    var titlebar = $(\n",
       "        '<div class=\"ui-dialog-titlebar ui-widget-header ui-corner-all ' +\n",
       "        'ui-helper-clearfix\"/>');\n",
       "    var titletext = $(\n",
       "        '<div class=\"ui-dialog-title\" style=\"width: 100%; ' +\n",
       "        'text-align: center; padding: 3px;\"/>');\n",
       "    titlebar.append(titletext)\n",
       "    this.root.append(titlebar);\n",
       "    this.header = titletext[0];\n",
       "}\n",
       "\n",
       "\n",
       "\n",
       "mpl.figure.prototype._canvas_extra_style = function(canvas_div) {\n",
       "\n",
       "}\n",
       "\n",
       "\n",
       "mpl.figure.prototype._root_extra_style = function(canvas_div) {\n",
       "\n",
       "}\n",
       "\n",
       "mpl.figure.prototype._init_canvas = function() {\n",
       "    var fig = this;\n",
       "\n",
       "    var canvas_div = $('<div/>');\n",
       "\n",
       "    canvas_div.attr('style', 'position: relative; clear: both; outline: 0');\n",
       "\n",
       "    function canvas_keyboard_event(event) {\n",
       "        return fig.key_event(event, event['data']);\n",
       "    }\n",
       "\n",
       "    canvas_div.keydown('key_press', canvas_keyboard_event);\n",
       "    canvas_div.keyup('key_release', canvas_keyboard_event);\n",
       "    this.canvas_div = canvas_div\n",
       "    this._canvas_extra_style(canvas_div)\n",
       "    this.root.append(canvas_div);\n",
       "\n",
       "    var canvas = $('<canvas/>');\n",
       "    canvas.addClass('mpl-canvas');\n",
       "    canvas.attr('style', \"left: 0; top: 0; z-index: 0; outline: 0\")\n",
       "\n",
       "    this.canvas = canvas[0];\n",
       "    this.context = canvas[0].getContext(\"2d\");\n",
       "\n",
       "    var backingStore = this.context.backingStorePixelRatio ||\n",
       "\tthis.context.webkitBackingStorePixelRatio ||\n",
       "\tthis.context.mozBackingStorePixelRatio ||\n",
       "\tthis.context.msBackingStorePixelRatio ||\n",
       "\tthis.context.oBackingStorePixelRatio ||\n",
       "\tthis.context.backingStorePixelRatio || 1;\n",
       "\n",
       "    mpl.ratio = (window.devicePixelRatio || 1) / backingStore;\n",
       "\n",
       "    var rubberband = $('<canvas/>');\n",
       "    rubberband.attr('style', \"position: absolute; left: 0; top: 0; z-index: 1;\")\n",
       "\n",
       "    var pass_mouse_events = true;\n",
       "\n",
       "    canvas_div.resizable({\n",
       "        start: function(event, ui) {\n",
       "            pass_mouse_events = false;\n",
       "        },\n",
       "        resize: function(event, ui) {\n",
       "            fig.request_resize(ui.size.width, ui.size.height);\n",
       "        },\n",
       "        stop: function(event, ui) {\n",
       "            pass_mouse_events = true;\n",
       "            fig.request_resize(ui.size.width, ui.size.height);\n",
       "        },\n",
       "    });\n",
       "\n",
       "    function mouse_event_fn(event) {\n",
       "        if (pass_mouse_events)\n",
       "            return fig.mouse_event(event, event['data']);\n",
       "    }\n",
       "\n",
       "    rubberband.mousedown('button_press', mouse_event_fn);\n",
       "    rubberband.mouseup('button_release', mouse_event_fn);\n",
       "    // Throttle sequential mouse events to 1 every 20ms.\n",
       "    rubberband.mousemove('motion_notify', mouse_event_fn);\n",
       "\n",
       "    rubberband.mouseenter('figure_enter', mouse_event_fn);\n",
       "    rubberband.mouseleave('figure_leave', mouse_event_fn);\n",
       "\n",
       "    canvas_div.on(\"wheel\", function (event) {\n",
       "        event = event.originalEvent;\n",
       "        event['data'] = 'scroll'\n",
       "        if (event.deltaY < 0) {\n",
       "            event.step = 1;\n",
       "        } else {\n",
       "            event.step = -1;\n",
       "        }\n",
       "        mouse_event_fn(event);\n",
       "    });\n",
       "\n",
       "    canvas_div.append(canvas);\n",
       "    canvas_div.append(rubberband);\n",
       "\n",
       "    this.rubberband = rubberband;\n",
       "    this.rubberband_canvas = rubberband[0];\n",
       "    this.rubberband_context = rubberband[0].getContext(\"2d\");\n",
       "    this.rubberband_context.strokeStyle = \"#000000\";\n",
       "\n",
       "    this._resize_canvas = function(width, height) {\n",
       "        // Keep the size of the canvas, canvas container, and rubber band\n",
       "        // canvas in synch.\n",
       "        canvas_div.css('width', width)\n",
       "        canvas_div.css('height', height)\n",
       "\n",
       "        canvas.attr('width', width * mpl.ratio);\n",
       "        canvas.attr('height', height * mpl.ratio);\n",
       "        canvas.attr('style', 'width: ' + width + 'px; height: ' + height + 'px;');\n",
       "\n",
       "        rubberband.attr('width', width);\n",
       "        rubberband.attr('height', height);\n",
       "    }\n",
       "\n",
       "    // Set the figure to an initial 600x600px, this will subsequently be updated\n",
       "    // upon first draw.\n",
       "    this._resize_canvas(600, 600);\n",
       "\n",
       "    // Disable right mouse context menu.\n",
       "    $(this.rubberband_canvas).bind(\"contextmenu\",function(e){\n",
       "        return false;\n",
       "    });\n",
       "\n",
       "    function set_focus () {\n",
       "        canvas.focus();\n",
       "        canvas_div.focus();\n",
       "    }\n",
       "\n",
       "    window.setTimeout(set_focus, 100);\n",
       "}\n",
       "\n",
       "mpl.figure.prototype._init_toolbar = function() {\n",
       "    var fig = this;\n",
       "\n",
       "    var nav_element = $('<div/>');\n",
       "    nav_element.attr('style', 'width: 100%');\n",
       "    this.root.append(nav_element);\n",
       "\n",
       "    // Define a callback function for later on.\n",
       "    function toolbar_event(event) {\n",
       "        return fig.toolbar_button_onclick(event['data']);\n",
       "    }\n",
       "    function toolbar_mouse_event(event) {\n",
       "        return fig.toolbar_button_onmouseover(event['data']);\n",
       "    }\n",
       "\n",
       "    for(var toolbar_ind in mpl.toolbar_items) {\n",
       "        var name = mpl.toolbar_items[toolbar_ind][0];\n",
       "        var tooltip = mpl.toolbar_items[toolbar_ind][1];\n",
       "        var image = mpl.toolbar_items[toolbar_ind][2];\n",
       "        var method_name = mpl.toolbar_items[toolbar_ind][3];\n",
       "\n",
       "        if (!name) {\n",
       "            // put a spacer in here.\n",
       "            continue;\n",
       "        }\n",
       "        var button = $('<button/>');\n",
       "        button.addClass('ui-button ui-widget ui-state-default ui-corner-all ' +\n",
       "                        'ui-button-icon-only');\n",
       "        button.attr('role', 'button');\n",
       "        button.attr('aria-disabled', 'false');\n",
       "        button.click(method_name, toolbar_event);\n",
       "        button.mouseover(tooltip, toolbar_mouse_event);\n",
       "\n",
       "        var icon_img = $('<span/>');\n",
       "        icon_img.addClass('ui-button-icon-primary ui-icon');\n",
       "        icon_img.addClass(image);\n",
       "        icon_img.addClass('ui-corner-all');\n",
       "\n",
       "        var tooltip_span = $('<span/>');\n",
       "        tooltip_span.addClass('ui-button-text');\n",
       "        tooltip_span.html(tooltip);\n",
       "\n",
       "        button.append(icon_img);\n",
       "        button.append(tooltip_span);\n",
       "\n",
       "        nav_element.append(button);\n",
       "    }\n",
       "\n",
       "    var fmt_picker_span = $('<span/>');\n",
       "\n",
       "    var fmt_picker = $('<select/>');\n",
       "    fmt_picker.addClass('mpl-toolbar-option ui-widget ui-widget-content');\n",
       "    fmt_picker_span.append(fmt_picker);\n",
       "    nav_element.append(fmt_picker_span);\n",
       "    this.format_dropdown = fmt_picker[0];\n",
       "\n",
       "    for (var ind in mpl.extensions) {\n",
       "        var fmt = mpl.extensions[ind];\n",
       "        var option = $(\n",
       "            '<option/>', {selected: fmt === mpl.default_extension}).html(fmt);\n",
       "        fmt_picker.append(option);\n",
       "    }\n",
       "\n",
       "    // Add hover states to the ui-buttons\n",
       "    $( \".ui-button\" ).hover(\n",
       "        function() { $(this).addClass(\"ui-state-hover\");},\n",
       "        function() { $(this).removeClass(\"ui-state-hover\");}\n",
       "    );\n",
       "\n",
       "    var status_bar = $('<span class=\"mpl-message\"/>');\n",
       "    nav_element.append(status_bar);\n",
       "    this.message = status_bar[0];\n",
       "}\n",
       "\n",
       "mpl.figure.prototype.request_resize = function(x_pixels, y_pixels) {\n",
       "    // Request matplotlib to resize the figure. Matplotlib will then trigger a resize in the client,\n",
       "    // which will in turn request a refresh of the image.\n",
       "    this.send_message('resize', {'width': x_pixels, 'height': y_pixels});\n",
       "}\n",
       "\n",
       "mpl.figure.prototype.send_message = function(type, properties) {\n",
       "    properties['type'] = type;\n",
       "    properties['figure_id'] = this.id;\n",
       "    this.ws.send(JSON.stringify(properties));\n",
       "}\n",
       "\n",
       "mpl.figure.prototype.send_draw_message = function() {\n",
       "    if (!this.waiting) {\n",
       "        this.waiting = true;\n",
       "        this.ws.send(JSON.stringify({type: \"draw\", figure_id: this.id}));\n",
       "    }\n",
       "}\n",
       "\n",
       "\n",
       "mpl.figure.prototype.handle_save = function(fig, msg) {\n",
       "    var format_dropdown = fig.format_dropdown;\n",
       "    var format = format_dropdown.options[format_dropdown.selectedIndex].value;\n",
       "    fig.ondownload(fig, format);\n",
       "}\n",
       "\n",
       "\n",
       "mpl.figure.prototype.handle_resize = function(fig, msg) {\n",
       "    var size = msg['size'];\n",
       "    if (size[0] != fig.canvas.width || size[1] != fig.canvas.height) {\n",
       "        fig._resize_canvas(size[0], size[1]);\n",
       "        fig.send_message(\"refresh\", {});\n",
       "    };\n",
       "}\n",
       "\n",
       "mpl.figure.prototype.handle_rubberband = function(fig, msg) {\n",
       "    var x0 = msg['x0'] / mpl.ratio;\n",
       "    var y0 = (fig.canvas.height - msg['y0']) / mpl.ratio;\n",
       "    var x1 = msg['x1'] / mpl.ratio;\n",
       "    var y1 = (fig.canvas.height - msg['y1']) / mpl.ratio;\n",
       "    x0 = Math.floor(x0) + 0.5;\n",
       "    y0 = Math.floor(y0) + 0.5;\n",
       "    x1 = Math.floor(x1) + 0.5;\n",
       "    y1 = Math.floor(y1) + 0.5;\n",
       "    var min_x = Math.min(x0, x1);\n",
       "    var min_y = Math.min(y0, y1);\n",
       "    var width = Math.abs(x1 - x0);\n",
       "    var height = Math.abs(y1 - y0);\n",
       "\n",
       "    fig.rubberband_context.clearRect(\n",
       "        0, 0, fig.canvas.width / mpl.ratio, fig.canvas.height / mpl.ratio);\n",
       "\n",
       "    fig.rubberband_context.strokeRect(min_x, min_y, width, height);\n",
       "}\n",
       "\n",
       "mpl.figure.prototype.handle_figure_label = function(fig, msg) {\n",
       "    // Updates the figure title.\n",
       "    fig.header.textContent = msg['label'];\n",
       "}\n",
       "\n",
       "mpl.figure.prototype.handle_cursor = function(fig, msg) {\n",
       "    var cursor = msg['cursor'];\n",
       "    switch(cursor)\n",
       "    {\n",
       "    case 0:\n",
       "        cursor = 'pointer';\n",
       "        break;\n",
       "    case 1:\n",
       "        cursor = 'default';\n",
       "        break;\n",
       "    case 2:\n",
       "        cursor = 'crosshair';\n",
       "        break;\n",
       "    case 3:\n",
       "        cursor = 'move';\n",
       "        break;\n",
       "    }\n",
       "    fig.rubberband_canvas.style.cursor = cursor;\n",
       "}\n",
       "\n",
       "mpl.figure.prototype.handle_message = function(fig, msg) {\n",
       "    fig.message.textContent = msg['message'];\n",
       "}\n",
       "\n",
       "mpl.figure.prototype.handle_draw = function(fig, msg) {\n",
       "    // Request the server to send over a new figure.\n",
       "    fig.send_draw_message();\n",
       "}\n",
       "\n",
       "mpl.figure.prototype.handle_image_mode = function(fig, msg) {\n",
       "    fig.image_mode = msg['mode'];\n",
       "}\n",
       "\n",
       "mpl.figure.prototype.updated_canvas_event = function() {\n",
       "    // Called whenever the canvas gets updated.\n",
       "    this.send_message(\"ack\", {});\n",
       "}\n",
       "\n",
       "// A function to construct a web socket function for onmessage handling.\n",
       "// Called in the figure constructor.\n",
       "mpl.figure.prototype._make_on_message_function = function(fig) {\n",
       "    return function socket_on_message(evt) {\n",
       "        if (evt.data instanceof Blob) {\n",
       "            /* FIXME: We get \"Resource interpreted as Image but\n",
       "             * transferred with MIME type text/plain:\" errors on\n",
       "             * Chrome.  But how to set the MIME type?  It doesn't seem\n",
       "             * to be part of the websocket stream */\n",
       "            evt.data.type = \"image/png\";\n",
       "\n",
       "            /* Free the memory for the previous frames */\n",
       "            if (fig.imageObj.src) {\n",
       "                (window.URL || window.webkitURL).revokeObjectURL(\n",
       "                    fig.imageObj.src);\n",
       "            }\n",
       "\n",
       "            fig.imageObj.src = (window.URL || window.webkitURL).createObjectURL(\n",
       "                evt.data);\n",
       "            fig.updated_canvas_event();\n",
       "            fig.waiting = false;\n",
       "            return;\n",
       "        }\n",
       "        else if (typeof evt.data === 'string' && evt.data.slice(0, 21) == \"data:image/png;base64\") {\n",
       "            fig.imageObj.src = evt.data;\n",
       "            fig.updated_canvas_event();\n",
       "            fig.waiting = false;\n",
       "            return;\n",
       "        }\n",
       "\n",
       "        var msg = JSON.parse(evt.data);\n",
       "        var msg_type = msg['type'];\n",
       "\n",
       "        // Call the  \"handle_{type}\" callback, which takes\n",
       "        // the figure and JSON message as its only arguments.\n",
       "        try {\n",
       "            var callback = fig[\"handle_\" + msg_type];\n",
       "        } catch (e) {\n",
       "            console.log(\"No handler for the '\" + msg_type + \"' message type: \", msg);\n",
       "            return;\n",
       "        }\n",
       "\n",
       "        if (callback) {\n",
       "            try {\n",
       "                // console.log(\"Handling '\" + msg_type + \"' message: \", msg);\n",
       "                callback(fig, msg);\n",
       "            } catch (e) {\n",
       "                console.log(\"Exception inside the 'handler_\" + msg_type + \"' callback:\", e, e.stack, msg);\n",
       "            }\n",
       "        }\n",
       "    };\n",
       "}\n",
       "\n",
       "// from http://stackoverflow.com/questions/1114465/getting-mouse-location-in-canvas\n",
       "mpl.findpos = function(e) {\n",
       "    //this section is from http://www.quirksmode.org/js/events_properties.html\n",
       "    var targ;\n",
       "    if (!e)\n",
       "        e = window.event;\n",
       "    if (e.target)\n",
       "        targ = e.target;\n",
       "    else if (e.srcElement)\n",
       "        targ = e.srcElement;\n",
       "    if (targ.nodeType == 3) // defeat Safari bug\n",
       "        targ = targ.parentNode;\n",
       "\n",
       "    // jQuery normalizes the pageX and pageY\n",
       "    // pageX,Y are the mouse positions relative to the document\n",
       "    // offset() returns the position of the element relative to the document\n",
       "    var x = e.pageX - $(targ).offset().left;\n",
       "    var y = e.pageY - $(targ).offset().top;\n",
       "\n",
       "    return {\"x\": x, \"y\": y};\n",
       "};\n",
       "\n",
       "/*\n",
       " * return a copy of an object with only non-object keys\n",
       " * we need this to avoid circular references\n",
       " * http://stackoverflow.com/a/24161582/3208463\n",
       " */\n",
       "function simpleKeys (original) {\n",
       "  return Object.keys(original).reduce(function (obj, key) {\n",
       "    if (typeof original[key] !== 'object')\n",
       "        obj[key] = original[key]\n",
       "    return obj;\n",
       "  }, {});\n",
       "}\n",
       "\n",
       "mpl.figure.prototype.mouse_event = function(event, name) {\n",
       "    var canvas_pos = mpl.findpos(event)\n",
       "\n",
       "    if (name === 'button_press')\n",
       "    {\n",
       "        this.canvas.focus();\n",
       "        this.canvas_div.focus();\n",
       "    }\n",
       "\n",
       "    var x = canvas_pos.x * mpl.ratio;\n",
       "    var y = canvas_pos.y * mpl.ratio;\n",
       "\n",
       "    this.send_message(name, {x: x, y: y, button: event.button,\n",
       "                             step: event.step,\n",
       "                             guiEvent: simpleKeys(event)});\n",
       "\n",
       "    /* This prevents the web browser from automatically changing to\n",
       "     * the text insertion cursor when the button is pressed.  We want\n",
       "     * to control all of the cursor setting manually through the\n",
       "     * 'cursor' event from matplotlib */\n",
       "    event.preventDefault();\n",
       "    return false;\n",
       "}\n",
       "\n",
       "mpl.figure.prototype._key_event_extra = function(event, name) {\n",
       "    // Handle any extra behaviour associated with a key event\n",
       "}\n",
       "\n",
       "mpl.figure.prototype.key_event = function(event, name) {\n",
       "\n",
       "    // Prevent repeat events\n",
       "    if (name == 'key_press')\n",
       "    {\n",
       "        if (event.which === this._key)\n",
       "            return;\n",
       "        else\n",
       "            this._key = event.which;\n",
       "    }\n",
       "    if (name == 'key_release')\n",
       "        this._key = null;\n",
       "\n",
       "    var value = '';\n",
       "    if (event.ctrlKey && event.which != 17)\n",
       "        value += \"ctrl+\";\n",
       "    if (event.altKey && event.which != 18)\n",
       "        value += \"alt+\";\n",
       "    if (event.shiftKey && event.which != 16)\n",
       "        value += \"shift+\";\n",
       "\n",
       "    value += 'k';\n",
       "    value += event.which.toString();\n",
       "\n",
       "    this._key_event_extra(event, name);\n",
       "\n",
       "    this.send_message(name, {key: value,\n",
       "                             guiEvent: simpleKeys(event)});\n",
       "    return false;\n",
       "}\n",
       "\n",
       "mpl.figure.prototype.toolbar_button_onclick = function(name) {\n",
       "    if (name == 'download') {\n",
       "        this.handle_save(this, null);\n",
       "    } else {\n",
       "        this.send_message(\"toolbar_button\", {name: name});\n",
       "    }\n",
       "};\n",
       "\n",
       "mpl.figure.prototype.toolbar_button_onmouseover = function(tooltip) {\n",
       "    this.message.textContent = tooltip;\n",
       "};\n",
       "mpl.toolbar_items = [[\"Home\", \"Reset original view\", \"fa fa-home icon-home\", \"home\"], [\"Back\", \"Back to previous view\", \"fa fa-arrow-left icon-arrow-left\", \"back\"], [\"Forward\", \"Forward to next view\", \"fa fa-arrow-right icon-arrow-right\", \"forward\"], [\"\", \"\", \"\", \"\"], [\"Pan\", \"Pan axes with left mouse, zoom with right\", \"fa fa-arrows icon-move\", \"pan\"], [\"Zoom\", \"Zoom to rectangle\", \"fa fa-square-o icon-check-empty\", \"zoom\"], [\"\", \"\", \"\", \"\"], [\"Download\", \"Download plot\", \"fa fa-floppy-o icon-save\", \"download\"]];\n",
       "\n",
       "mpl.extensions = [\"eps\", \"jpeg\", \"pdf\", \"png\", \"ps\", \"raw\", \"svg\", \"tif\"];\n",
       "\n",
       "mpl.default_extension = \"png\";var comm_websocket_adapter = function(comm) {\n",
       "    // Create a \"websocket\"-like object which calls the given IPython comm\n",
       "    // object with the appropriate methods. Currently this is a non binary\n",
       "    // socket, so there is still some room for performance tuning.\n",
       "    var ws = {};\n",
       "\n",
       "    ws.close = function() {\n",
       "        comm.close()\n",
       "    };\n",
       "    ws.send = function(m) {\n",
       "        //console.log('sending', m);\n",
       "        comm.send(m);\n",
       "    };\n",
       "    // Register the callback with on_msg.\n",
       "    comm.on_msg(function(msg) {\n",
       "        //console.log('receiving', msg['content']['data'], msg);\n",
       "        // Pass the mpl event to the overridden (by mpl) onmessage function.\n",
       "        ws.onmessage(msg['content']['data'])\n",
       "    });\n",
       "    return ws;\n",
       "}\n",
       "\n",
       "mpl.mpl_figure_comm = function(comm, msg) {\n",
       "    // This is the function which gets called when the mpl process\n",
       "    // starts-up an IPython Comm through the \"matplotlib\" channel.\n",
       "\n",
       "    var id = msg.content.data.id;\n",
       "    // Get hold of the div created by the display call when the Comm\n",
       "    // socket was opened in Python.\n",
       "    var element = $(\"#\" + id);\n",
       "    var ws_proxy = comm_websocket_adapter(comm)\n",
       "\n",
       "    function ondownload(figure, format) {\n",
       "        window.open(figure.imageObj.src);\n",
       "    }\n",
       "\n",
       "    var fig = new mpl.figure(id, ws_proxy,\n",
       "                           ondownload,\n",
       "                           element.get(0));\n",
       "\n",
       "    // Call onopen now - mpl needs it, as it is assuming we've passed it a real\n",
       "    // web socket which is closed, not our websocket->open comm proxy.\n",
       "    ws_proxy.onopen();\n",
       "\n",
       "    fig.parent_element = element.get(0);\n",
       "    fig.cell_info = mpl.find_output_cell(\"<div id='\" + id + \"'></div>\");\n",
       "    if (!fig.cell_info) {\n",
       "        console.error(\"Failed to find cell for figure\", id, fig);\n",
       "        return;\n",
       "    }\n",
       "\n",
       "    var output_index = fig.cell_info[2]\n",
       "    var cell = fig.cell_info[0];\n",
       "\n",
       "};\n",
       "\n",
       "mpl.figure.prototype.handle_close = function(fig, msg) {\n",
       "    var width = fig.canvas.width/mpl.ratio\n",
       "    fig.root.unbind('remove')\n",
       "\n",
       "    // Update the output cell to use the data from the current canvas.\n",
       "    fig.push_to_output();\n",
       "    var dataURL = fig.canvas.toDataURL();\n",
       "    // Re-enable the keyboard manager in IPython - without this line, in FF,\n",
       "    // the notebook keyboard shortcuts fail.\n",
       "    IPython.keyboard_manager.enable()\n",
       "    $(fig.parent_element).html('<img src=\"' + dataURL + '\" width=\"' + width + '\">');\n",
       "    fig.close_ws(fig, msg);\n",
       "}\n",
       "\n",
       "mpl.figure.prototype.close_ws = function(fig, msg){\n",
       "    fig.send_message('closing', msg);\n",
       "    // fig.ws.close()\n",
       "}\n",
       "\n",
       "mpl.figure.prototype.push_to_output = function(remove_interactive) {\n",
       "    // Turn the data on the canvas into data in the output cell.\n",
       "    var width = this.canvas.width/mpl.ratio\n",
       "    var dataURL = this.canvas.toDataURL();\n",
       "    this.cell_info[1]['text/html'] = '<img src=\"' + dataURL + '\" width=\"' + width + '\">';\n",
       "}\n",
       "\n",
       "mpl.figure.prototype.updated_canvas_event = function() {\n",
       "    // Tell IPython that the notebook contents must change.\n",
       "    IPython.notebook.set_dirty(true);\n",
       "    this.send_message(\"ack\", {});\n",
       "    var fig = this;\n",
       "    // Wait a second, then push the new image to the DOM so\n",
       "    // that it is saved nicely (might be nice to debounce this).\n",
       "    setTimeout(function () { fig.push_to_output() }, 1000);\n",
       "}\n",
       "\n",
       "mpl.figure.prototype._init_toolbar = function() {\n",
       "    var fig = this;\n",
       "\n",
       "    var nav_element = $('<div/>');\n",
       "    nav_element.attr('style', 'width: 100%');\n",
       "    this.root.append(nav_element);\n",
       "\n",
       "    // Define a callback function for later on.\n",
       "    function toolbar_event(event) {\n",
       "        return fig.toolbar_button_onclick(event['data']);\n",
       "    }\n",
       "    function toolbar_mouse_event(event) {\n",
       "        return fig.toolbar_button_onmouseover(event['data']);\n",
       "    }\n",
       "\n",
       "    for(var toolbar_ind in mpl.toolbar_items){\n",
       "        var name = mpl.toolbar_items[toolbar_ind][0];\n",
       "        var tooltip = mpl.toolbar_items[toolbar_ind][1];\n",
       "        var image = mpl.toolbar_items[toolbar_ind][2];\n",
       "        var method_name = mpl.toolbar_items[toolbar_ind][3];\n",
       "\n",
       "        if (!name) { continue; };\n",
       "\n",
       "        var button = $('<button class=\"btn btn-default\" href=\"#\" title=\"' + name + '\"><i class=\"fa ' + image + ' fa-lg\"></i></button>');\n",
       "        button.click(method_name, toolbar_event);\n",
       "        button.mouseover(tooltip, toolbar_mouse_event);\n",
       "        nav_element.append(button);\n",
       "    }\n",
       "\n",
       "    // Add the status bar.\n",
       "    var status_bar = $('<span class=\"mpl-message\" style=\"text-align:right; float: right;\"/>');\n",
       "    nav_element.append(status_bar);\n",
       "    this.message = status_bar[0];\n",
       "\n",
       "    // Add the close button to the window.\n",
       "    var buttongrp = $('<div class=\"btn-group inline pull-right\"></div>');\n",
       "    var button = $('<button class=\"btn btn-mini btn-primary\" href=\"#\" title=\"Stop Interaction\"><i class=\"fa fa-power-off icon-remove icon-large\"></i></button>');\n",
       "    button.click(function (evt) { fig.handle_close(fig, {}); } );\n",
       "    button.mouseover('Stop Interaction', toolbar_mouse_event);\n",
       "    buttongrp.append(button);\n",
       "    var titlebar = this.root.find($('.ui-dialog-titlebar'));\n",
       "    titlebar.prepend(buttongrp);\n",
       "}\n",
       "\n",
       "mpl.figure.prototype._root_extra_style = function(el){\n",
       "    var fig = this\n",
       "    el.on(\"remove\", function(){\n",
       "\tfig.close_ws(fig, {});\n",
       "    });\n",
       "}\n",
       "\n",
       "mpl.figure.prototype._canvas_extra_style = function(el){\n",
       "    // this is important to make the div 'focusable\n",
       "    el.attr('tabindex', 0)\n",
       "    // reach out to IPython and tell the keyboard manager to turn it's self\n",
       "    // off when our div gets focus\n",
       "\n",
       "    // location in version 3\n",
       "    if (IPython.notebook.keyboard_manager) {\n",
       "        IPython.notebook.keyboard_manager.register_events(el);\n",
       "    }\n",
       "    else {\n",
       "        // location in version 2\n",
       "        IPython.keyboard_manager.register_events(el);\n",
       "    }\n",
       "\n",
       "}\n",
       "\n",
       "mpl.figure.prototype._key_event_extra = function(event, name) {\n",
       "    var manager = IPython.notebook.keyboard_manager;\n",
       "    if (!manager)\n",
       "        manager = IPython.keyboard_manager;\n",
       "\n",
       "    // Check for shift+enter\n",
       "    if (event.shiftKey && event.which == 13) {\n",
       "        this.canvas_div.blur();\n",
       "        // select the cell after this one\n",
       "        var index = IPython.notebook.find_cell_index(this.cell_info[0]);\n",
       "        IPython.notebook.select(index + 1);\n",
       "    }\n",
       "}\n",
       "\n",
       "mpl.figure.prototype.handle_save = function(fig, msg) {\n",
       "    fig.ondownload(fig, null);\n",
       "}\n",
       "\n",
       "\n",
       "mpl.find_output_cell = function(html_output) {\n",
       "    // Return the cell and output element which can be found *uniquely* in the notebook.\n",
       "    // Note - this is a bit hacky, but it is done because the \"notebook_saving.Notebook\"\n",
       "    // IPython event is triggered only after the cells have been serialised, which for\n",
       "    // our purposes (turning an active figure into a static one), is too late.\n",
       "    var cells = IPython.notebook.get_cells();\n",
       "    var ncells = cells.length;\n",
       "    for (var i=0; i<ncells; i++) {\n",
       "        var cell = cells[i];\n",
       "        if (cell.cell_type === 'code'){\n",
       "            for (var j=0; j<cell.output_area.outputs.length; j++) {\n",
       "                var data = cell.output_area.outputs[j];\n",
       "                if (data.data) {\n",
       "                    // IPython >= 3 moved mimebundle to data attribute of output\n",
       "                    data = data.data;\n",
       "                }\n",
       "                if (data['text/html'] == html_output) {\n",
       "                    return [cell, data, j];\n",
       "                }\n",
       "            }\n",
       "        }\n",
       "    }\n",
       "}\n",
       "\n",
       "// Register the function which deals with the matplotlib target/channel.\n",
       "// The kernel may be null if the page has been refreshed.\n",
       "if (IPython.notebook.kernel != null) {\n",
       "    IPython.notebook.kernel.comm_manager.register_target('matplotlib', mpl.mpl_figure_comm);\n",
       "}\n"
      ],
      "text/plain": [
       "<IPython.core.display.Javascript object>"
      ]
     },
     "metadata": {},
     "output_type": "display_data"
    },
    {
     "data": {
      "text/html": [
       "<img src=\"data:image/png;base64,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\" width=\"1000\">"
      ],
      "text/plain": [
       "<IPython.core.display.HTML object>"
      ]
     },
     "metadata": {},
     "output_type": "display_data"
    }
   ],
   "source": [
    "dual_train_plots(results.index,\n",
    "                 results.cost, results.val,\n",
    "                 results.cost, results.val)\n",
    "plt.tight_layout()\n",
    "plt.savefig(str(output / f'{name}_stats_a.png'))"
   ]
  },
  {
   "cell_type": "code",
   "execution_count": 22,
   "metadata": {},
   "outputs": [],
   "source": [
    "##quit()"
   ]
  },
  {
   "cell_type": "code",
   "execution_count": null,
   "metadata": {},
   "outputs": [],
   "source": []
  },
  {
   "cell_type": "code",
   "execution_count": null,
   "metadata": {},
   "outputs": [],
   "source": []
  }
 ],
 "metadata": {
  "kernelspec": {
   "display_name": "goofit-june2020",
   "language": "python",
   "name": "goofit-june2020"
  },
  "language_info": {
   "codemirror_mode": {
    "name": "ipython",
    "version": 3
   },
   "file_extension": ".py",
   "mimetype": "text/x-python",
   "name": "python",
   "nbconvert_exporter": "python",
   "pygments_lexer": "ipython3",
   "version": "3.7.6"
  }
 },
 "nbformat": 4,
 "nbformat_minor": 2
}
