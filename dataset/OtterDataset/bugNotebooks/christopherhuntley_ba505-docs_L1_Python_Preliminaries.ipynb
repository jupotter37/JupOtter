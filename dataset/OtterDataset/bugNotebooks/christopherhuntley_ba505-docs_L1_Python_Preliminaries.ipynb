{
 "cells": [
  {
   "cell_type": "markdown",
   "metadata": {
    "slideshow": {
     "slide_type": "slide"
    }
   },
   "source": [
    "![DSB Logo](img/Dolan.jpg)\n",
    "# Preliminaries\n",
    "\n",
    "## RSI Chapter 1 \n",
    "### Concepts you should know before your first program"
   ]
  },
  {
   "cell_type": "markdown",
   "metadata": {
    "slideshow": {
     "slide_type": "slide"
    }
   },
   "source": [
    "# Learning Objectives\n",
    "\n",
    "## Theory / Be able to explain ...\n",
    "- General programming terms like source code, interpreter, compiler, object code, comment, data type, etc.\n",
    "- The different types of errors that require debugging\n",
    "\n",
    "## Skills / Know how to  ...\n",
    "- Run Python statements in JupyterLab\n"
   ]
  },
  {
   "cell_type": "markdown",
   "metadata": {
    "slideshow": {
     "slide_type": "slide"
    }
   },
   "source": [
    "# The Python Programming Environment\n",
    "\n",
    "## A Tour with Examples in JupyterLab"
   ]
  },
  {
   "cell_type": "markdown",
   "metadata": {
    "slideshow": {
     "slide_type": "slide"
    }
   },
   "source": [
    "# Python Language Origins\n",
    "- Python is a high-level *scripting* language, originally intended for short programs that run from the command line.\n",
    "- Timeline:\n",
    "    - 1980’s: early development by Guido Van Rossum\n",
    "    - 1994: Python 1.0, the first complete release\n",
    "    - 2000: Python 2.0 added advanced data types and core object-orientation (‘everything is an object’)\n",
    "    - 2008: Python 3.0 broke backwards compatibility to streamline and unify language syntax and libraries\n"
   ]
  },
  {
   "cell_type": "markdown",
   "metadata": {
    "slideshow": {
     "slide_type": "slide"
    }
   },
   "source": [
    "# Python 2 vs Python 3\n",
    "\n",
    "- Plenty of Python libraries (reusable programs) in use today were originally written before 2008\n",
    "    - While most libraries have updated to Python 3, some remain stuck in Python 2\n",
    "- **We will be learning Python 3** in this class\n",
    "    - However, you may be asked to use Python 2 in some of your future analytics classes and on the job\n",
    "    - Fortunately, the switch is pretty easy once you know what you are doing\n"
   ]
  },
  {
   "cell_type": "markdown",
   "metadata": {
    "slideshow": {
     "slide_type": "slide"
    }
   },
   "source": [
    "# Source Code, Compilers, and Interpreters\n",
    "\n",
    "- Python is a high-level language like C, Java, or C# \n",
    "    - Written and read by humans as **source code** (scripts or programs)\n",
    "    - Has to be converted into low-level **object code** (not human-readable, like .exe files) that the computer uses natively\n",
    "- Two ways to convert from source code (programs) to object code (machine code):\n",
    "    - **Compilers** (used by C, Java, C#, etc.) convert it all at once, requiring all source code to be written in advance\n",
    "    - **Interpreters** convert the code one line at a time, allowing the source code to be written interactively\n",
    "- Python can work *either way*, compiled in advance (for speed) or interpretted as needed (for flexibility)"
   ]
  },
  {
   "cell_type": "markdown",
   "metadata": {
    "slideshow": {
     "slide_type": "slide"
    }
   },
   "source": [
    "# Python Interpreter Example\n",
    "\n",
    "- Most Python programs are executed via interpreter\n",
    "- JupyterLab supports the interpreter in three ways:\n",
    "    - Via Terminal session\n",
    "    - Via IPython console\n",
    "    - Via Notebook code cells\n",
    "- Here's an old-school terminal session from in 2006:\n",
    "  ![Terminal Session](img/L1_Terminal.png)"
   ]
  },
  {
   "cell_type": "markdown",
   "metadata": {
    "slideshow": {
     "slide_type": "slide"
    }
   },
   "source": [
    "# JupyterLab Terminal Session\n",
    "\n",
    "0. Fire up JupyterLab if you haven't already.\n",
    "1. In JupyterLab's \"Launcher\" panel, select \"Terminal\" in the \"Other\" menu at the bottom. \n",
    "2. A terminal shell will open on a new tab. \n",
    "    - On MacOS, the terminal will be `bash`\n",
    "    - On Windows, the terminal is likely to be `Command prompt`\n",
    "3. Enter `python` to get an old-fashioned python interpreter\n",
    "4. Type \n",
    "    ```python\n",
    "    print('Hello')\n",
    "    ``` \n",
    "and hit return.\n",
    "5. The interpreter will execute the line of code and then return the result."
   ]
  },
  {
   "cell_type": "markdown",
   "metadata": {
    "slideshow": {
     "slide_type": "subslide"
    }
   },
   "source": [
    "# Continued\n",
    "![Launching Terminal](img/L1_JupyterLab_Terminal1.png)"
   ]
  },
  {
   "cell_type": "markdown",
   "metadata": {
    "slideshow": {
     "slide_type": "subslide"
    }
   },
   "source": [
    "# Continued\n",
    "![Terminal Screenshot](img/L1_JupyterLab_Terminal2.png)"
   ]
  },
  {
   "cell_type": "markdown",
   "metadata": {
    "slideshow": {
     "slide_type": "slide"
    }
   },
   "source": [
    "# JupyterLab IPython Console\n",
    "1. In JupyterLab's \"Launcher\" panel, select \"Python 3\" in the \"Console\" menu. \n",
    "2. An IPython Console will launch in a new tab.\n",
    "3. Type the following into the text box at the bottom of the console.\n",
    "    ```python\n",
    "    print('Hello')\n",
    "    ``` \n",
    "4. Hit `Control+Enter` (or `Control+Return`) to execute the code.\n",
    "5. The console will display the code and the result."
   ]
  },
  {
   "cell_type": "markdown",
   "metadata": {
    "slideshow": {
     "slide_type": "subslide"
    }
   },
   "source": [
    "# Continued\n",
    "![Launching Console](img/L1_JupyterLab_Console1.png)"
   ]
  },
  {
   "cell_type": "markdown",
   "metadata": {
    "slideshow": {
     "slide_type": "subslide"
    }
   },
   "source": [
    "# Continued\n",
    "![Console Screenshot](img/L1_JupyterLab_Console2.png)"
   ]
  },
  {
   "cell_type": "markdown",
   "metadata": {
    "slideshow": {
     "slide_type": "slide"
    }
   },
   "source": [
    "# JupyterLab Notebook\n",
    "\n",
    "1. In JupyterLab's \"Launcher\" panel, select \"Python 3\" in the \"Notebook\" menu. \n",
    "2. A blank Notebook will appear in a new tab.\n",
    "3. Type the following into the blank code cell.\n",
    "    ```python\n",
    "    print('Hello')\n",
    "    ``` \n",
    "4. Hit the play button (triangle icon) to execute the code cell.\n",
    "5. The result will display immediately below the cell."
   ]
  },
  {
   "cell_type": "markdown",
   "metadata": {
    "slideshow": {
     "slide_type": "subslide"
    }
   },
   "source": [
    "# Continued\n",
    "![Launching Notebook](img/L1_JupyterLab_Notebook1.png)"
   ]
  },
  {
   "cell_type": "markdown",
   "metadata": {
    "slideshow": {
     "slide_type": "subslide"
    }
   },
   "source": [
    "# Continued\n",
    "![Launching Notebook](img/L1_JupyterLab_Notebook2.png)"
   ]
  },
  {
   "cell_type": "code",
   "execution_count": 4,
   "metadata": {
    "slideshow": {
     "slide_type": "fragment"
    }
   },
   "outputs": [
    {
     "name": "stdout",
     "output_type": "stream",
     "text": [
      "Hello\n"
     ]
    }
   ],
   "source": [
    "print('Hello')"
   ]
  },
  {
   "cell_type": "markdown",
   "metadata": {
    "slideshow": {
     "slide_type": "slide"
    }
   },
   "source": [
    "# What about Typos?\n",
    "When using the interpreter interactively, we are likely to have typos and other errors.  \n",
    "For example ...\n",
    "The example from 2006 used a Python 2.4 statement\n",
    "```python\n",
    "print ‘I love this course!’\n",
    "```\n",
    "That doesn't work in Python 3!  \n",
    "**If the interpreter cannot execute the statement, then it returns an error message.  \n",
    "Please read these carefully before asking for help.**"
   ]
  },
  {
   "cell_type": "markdown",
   "metadata": {
    "slideshow": {
     "slide_type": "slide"
    }
   },
   "source": [
    "# Debugging / Error Types\n",
    "\n",
    "Listed in increasing difficulty ...\n",
    "- **Syntax errors** in the source code are caught by the interpreter or compiler before trying to run it\n",
    "  - Fix: Look for broken Python statements or typos\n",
    "- **Runtime errors** happen when the computer tries to run a line of code\n",
    "  - Fix: Read the error message, which explains what caused the interpreter to break. Often you'll find that some assumption you've made about a resource being available or code being executed in advance are faulty. \n",
    "- Programs with **Semantic errors** (bad logic) run fine but do not produce the expected results\n",
    "  - Fix: Study the source code for **incorrect logic**. Since your are the source of the logic, the computer has no way to tell that it is faulty, leaving you on your own to locate the bug. "
   ]
  },
  {
   "cell_type": "markdown",
   "metadata": {
    "slideshow": {
     "slide_type": "slide"
    }
   },
   "source": [
    "# Code Comments\n",
    "```python \n",
    "# Compute the W2H ratio for one person\n",
    "```\n",
    "- Python statements are meant for the computer to execute\n",
    "- Sometimes we want to include explanatory comments for programmers to read\n",
    "  - Comments can be *especially* helpful with semantic errors\n",
    "- Comments always start with the # character\n",
    "  - Anything on a line after the # is ignored by the interpreter\n",
    "- **Comments are considered part of your code!**\n",
    "  - Leaving them out is considered *extremely* unprofessional (and in most of the companies you've heard of will result in a reprimand or worse). "
   ]
  },
  {
   "cell_type": "markdown",
   "metadata": {
    "slideshow": {
     "slide_type": "slide"
    }
   },
   "source": [
    "# Syntax Highlighting\n",
    "- Python is very strict about what kinds of statements it can execute\n",
    "- Every kind of statement has its own **syntax**, a pattern composed of keywords, expressions, and punctuation characters.\n",
    "  - The syntax of a print statement (in BNF grammar notation) is \n",
    "```python\n",
    "  print(<string expression>)\n",
    "```\n",
    "- **Keywords** like `print`, `if`, `or`, and `for` are **reserved** and cannot be used for variable names\n",
    "  - To help you identify reserved words in your code, JupyterLab will highlight them in green.\n",
    "- Pay attention to the color highlighting to see how Python parses out your code. \n",
    "  - Sometimes color can clue you into typos and other bugs. \n",
    "- Question: Why are ```<``` and ```>``` in a lighter color in the code snippet above?"
   ]
  },
  {
   "cell_type": "markdown",
   "metadata": {
    "slideshow": {
     "slide_type": "slide"
    }
   },
   "source": [
    "# Classwork (Start here in class)\n",
    "- Complete chapters 1 and 2 of the RSI *How to Think Like a Computer Scientist* e-book.\n",
    "  - Do not play the videos without headphones; reading and typing is enough\n",
    "- If time permits, start in on your homework. \n",
    "- Ask questions when you need help. Use this time to get help from the professor!\n",
    "\n",
    "# Homework (Do at home)\n",
    "The following is due before class next week:\n",
    "  - Any remaining classwork from tonight\n",
    "  - RSI Chapters 3 and 4\n",
    "  - Data Camp “Python Basics” assignment\n",
    "\n",
    "Note: All work on Data Camp is logged. Don't try to fake it!\n",
    "Please email chuntley@fairfield.edu if you have any problems or questions."
   ]
  },
  {
   "cell_type": "markdown",
   "metadata": {
    "slideshow": {
     "slide_type": "slide"
    }
   },
   "source": [
    "![DSB Logo](img/Dolan.jpg)\n",
    "# Preliminaries\n",
    "\n",
    "## RSI Chapter 1\n",
    "### Concepts you should know before your first program"
   ]
  }
 ],
 "metadata": {
  "kernelspec": {
   "display_name": "Python 3",
   "language": "python",
   "name": "python3"
  },
  "language_info": {
   "codemirror_mode": {
    "name": "ipython",
    "version": 3
   },
   "file_extension": ".py",
   "mimetype": "text/x-python",
   "name": "python",
   "nbconvert_exporter": "python",
   "pygments_lexer": "ipython3",
   "version": "3.6.6"
  }
 },
 "nbformat": 4,
 "nbformat_minor": 2
}
