{
 "cells": [
  {
   "cell_type": "code",
   "execution_count": 1,
   "metadata": {},
   "outputs": [],
   "source": [
    "import csv\n",
    "import requests\n",
    "from bs4 import BeautifulSoup"
   ]
  },
  {
   "cell_type": "code",
   "execution_count": 2,
   "metadata": {},
   "outputs": [],
   "source": [
    "def extract_mcqs(soup):\n",
    "    '''Trích xuất câu hỏi trắc nghiệm từ trang web và trả về dữ liệu dưới dạng dictionary'''\n",
    "    try:\n",
    "        # print(soup.contents)\n",
    "        # Trích xuất câu hỏi\n",
    "        question = soup.contents[0].strip()\n",
    "        # Tách số thứ tự câu hỏi từ nội dung câu hỏi\n",
    "        index = question.split('.')[0]\n",
    "        # Loại bỏ số thứ tự câu hỏi khỏi nội dung câu hỏi\n",
    "        question = question.split('.')[1].strip()\n",
    "\n",
    "        # Trích xuất các lựa chọn từ thẻ p\n",
    "        options = [str(option).strip() for option in soup.contents[1:-2] if str(option).strip()]\n",
    "        # print(f'Question: {index} - {question} - {options}')\n",
    "        # Loại bỏ các phần tử '<br/>' khỏi danh sách lựa chọn, chỉ giữ lại 4 phần tử đầu tiên sau khi đã loại bỏ\n",
    "        options = [option for option in options if option != '<br/>' and option != '<br>'][:4]\n",
    "\n",
    "        # Trích xuất câu trả lời và giải thích\n",
    "        answer_div = soup.find('div', {'class': 'collapseomatic_content'})\n",
    "        answer = answer_div.contents[0].split(':')[1].strip()\n",
    "        explanation = answer_div.contents[2].strip()\n",
    "        # Remove the 'Explanation:' prefix from the explanation\n",
    "        explanation = explanation.replace('Explanation:', '').strip()\n",
    "\n",
    "        if len(options) < 4:\n",
    "            return None\n",
    "\n",
    "        # Trả về dữ liệu câu hỏi và câu trả lời dưới dạng dictionary\n",
    "        # question, options, option1, option2, option3, option4, answer, explanation\n",
    "        return {\n",
    "            'index': index,\n",
    "            'question': question, \n",
    "            'options': options, \n",
    "            'option1': options[0], \n",
    "            'option2': options[1], \n",
    "            'option3': options[2], \n",
    "            'option4': options[3], \n",
    "            'answer': answer, \n",
    "            'explanation': explanation\n",
    "        }\n",
    "    except Exception as e:\n",
    "        print(e)\n",
    "        return None"
   ]
  },
  {
   "cell_type": "code",
   "execution_count": 3,
   "metadata": {},
   "outputs": [],
   "source": [
    "def getMCQS(url):\n",
    "\n",
    "    # Gửi một yêu cầu GET đến trang web, chờ đến khi nhận được phản hồi tất cả dữ liệu\n",
    "    response = requests.get(url, headers={'User-Agent': 'Mozilla/5.0'})\n",
    "\n",
    "    # Kiểm tra xem yêu cầu có thành công không\n",
    "    if response.status_code == 200:\n",
    "        # Replace all the <br> tags with <br/> tags \n",
    "        response_content = response.content.decode('utf-8').replace('<br>', '<br/>')\n",
    "\n",
    "        # Phân tích cú pháp nội dung HTML của trang\n",
    "        soup = BeautifulSoup(response_content, 'html.parser')\n",
    "\n",
    "        # find node có class='entry-content' và itemprop='text'\n",
    "        soup = soup.find('div', {'class': 'entry-content', 'itemprop': 'text'})\n",
    "\n",
    "        # delete các node script và style, node có class='sf-mobile-ads' và class='sf-desktop-ads' và class='sf-section'\n",
    "        for tag in soup(['script', 'style']):\n",
    "            tag.decompose()\n",
    "\n",
    "        for tag in soup.find_all('div', {'class': 'sf-mobile-ads'}):\n",
    "            tag.decompose()\n",
    "\n",
    "        for tag in soup.find_all('div', {'class': 'sf-desktop-ads'}):\n",
    "            tag.decompose()\n",
    "\n",
    "        for tag in soup.find_all('div', {'class': 'sf-section'}):\n",
    "            tag.decompose()\n",
    "\n",
    "        all_mcqs = soup.find_all('p')\n",
    "\n",
    "        # Lặp qua từng câu hỏi trắc nghiệm và trích xuất câu hỏi, các lựa chọn, câu trả lời và giải thích\n",
    "        \n",
    "        mcqs = []\n",
    "        for mcq in all_mcqs:\n",
    "            # print(mcq)\n",
    "            try:\n",
    "                # Nếu thẻ p không phải là câu hỏi trắc nghiệm thì bỏ qua\n",
    "                if 'View Answer' in mcq.text:\n",
    "                    question = extract_mcqs(mcq)\n",
    "                    if question:\n",
    "                        mcqs.append(question)\n",
    "            except Exception as e:\n",
    "                print(mcq)\n",
    "                print(f\"Lỗi: {e}\")\n",
    "\n",
    "        return mcqs\n",
    "\n",
    "    else:\n",
    "        print(f\"Không thể truy xuất trang web. Mã trạng thái: {response.status_code}\")\n",
    "        return None\n"
   ]
  },
  {
   "cell_type": "code",
   "execution_count": 4,
   "metadata": {},
   "outputs": [],
   "source": [
    "def export_csv(data, filename):\n",
    "    '''Xuất dữ liệu câu hỏi trắc nghiệm ra file CSV'''\n",
    "    # Tên các cột trong file CSV\n",
    "    fields = ['index', 'question', 'options', 'option1', 'option2', 'option3', 'option4', 'answer', 'explanation']\n",
    "\n",
    "    # Ghi dữ liệu vào file CSV\n",
    "    # print(f'Ghi {len(data)} dữ liệu vào file {filename}')\n",
    "    with open(filename, 'w', newline='') as file:\n",
    "        writer = csv.DictWriter(file, fieldnames=fields)\n",
    "        writer.writeheader()\n",
    "        writer.writerows(data)\n"
   ]
  },
  {
   "cell_type": "code",
   "execution_count": 16,
   "metadata": {},
   "outputs": [
    {
     "name": "stdout",
     "output_type": "stream",
     "text": [
      "URL: https://www.sanfoundry.com/distributed-operating-system-mcqs-file-system-1/\n",
      "Đã xuất dữ liệu thành công ra file CSV\n",
      "URL: https://www.sanfoundry.com/distributed-operating-system-mcqs-file-system-2/\n",
      "Đã xuất dữ liệu thành công ra file CSV\n",
      "URL: https://www.sanfoundry.com/distributed-operating-system-mcqs-file-system-3/\n",
      "Không thể truy xuất trang web. Mã trạng thái: 404\n",
      "URL: https://www.sanfoundry.com/distributed-opererating-system-mcqs-coordination/\n",
      "Đã xuất dữ liệu thành công ra file CSV\n",
      "URL: https://www.sanfoundry.com/operating-system-questions-answers-distributed-synchronization/\n",
      "Đã xuất dữ liệu thành công ra file CSV\n"
     ]
    }
   ],
   "source": [
    "list_url = [\n",
    "## Distributed File Systems\n",
    "'https://www.sanfoundry.com/distributed-operating-system-mcqs-file-system-1/',\n",
    "'https://www.sanfoundry.com/distributed-operating-system-mcqs-file-system-2/',\n",
    "'https://www.sanfoundry.com/distributed-operating-system-mcqs-file-system-3/',\n",
    "'https://www.sanfoundry.com/distributed-opererating-system-mcqs-coordination/',\n",
    "'https://www.sanfoundry.com/operating-system-questions-answers-distributed-synchronization/',\n",
    "]\n",
    "\n",
    "prefix = \"OS/Distributed File Systems/\"\n",
    "for url in list_url:\n",
    "    if url[-1] != '/': url += '/'\n",
    "    print(f'URL: {url}')\n",
    "\n",
    "    filename = prefix + url.split('/')[-2] + '.csv'\n",
    "\n",
    "    mcqs = getMCQS(url)\n",
    "    if mcqs:\n",
    "        export_csv(mcqs, filename=filename)\n",
    "        print(f\"Đã xuất dữ liệu thành công ra file CSV\")"
   ]
  },
  {
   "cell_type": "code",
   "execution_count": 39,
   "metadata": {},
   "outputs": [
    {
     "name": "stdout",
     "output_type": "stream",
     "text": [
      " * Serving Flask app '__main__'\n",
      " * Debug mode: off\n"
     ]
    },
    {
     "name": "stderr",
     "output_type": "stream",
     "text": [
      "WARNING: This is a development server. Do not use it in a production deployment. Use a production WSGI server instead.\n",
      " * Running on http://127.0.0.1:5000\n",
      "Press CTRL+C to quit\n"
     ]
    },
    {
     "name": "stdout",
     "output_type": "stream",
     "text": [
      "URL: https://www.sanfoundry.com/operating-system-mcqs-memory-management-swapping-1/\n"
     ]
    },
    {
     "name": "stderr",
     "output_type": "stream",
     "text": [
      "127.0.0.1 - - [07/Apr/2024 13:55:49] \"GET /mcqs/operating-system-mcqs-memory-management-swapping-1 HTTP/1.1\" 200 -\n"
     ]
    },
    {
     "name": "stdout",
     "output_type": "stream",
     "text": [
      "Question: 1 - What is Address Binding? - ['<br/>', 'a) going to an address in memory', '<br/>', 'b) locating an address with the help of another address', '<br/>', 'c) binding two addresses together to form a new address in a different memory space', '<br/>', 'd) a mapping from one address space to another', '<br/>', '<span class=\"collapseomatic\" id=\"id6611aade8a004\" tabindex=\"\" title=\"View Answer\">View Answer</span>', '<div class=\"collapseomatic_content\" id=\"target-id6611aade8a004\">Answer: d<br/>\\nExplanation: None.</div>']\n",
      "Question: 2 - Binding of instructions and data to memory addresses can be done at ____________ - ['<br/>', 'a) Compile time', '<br/>', 'b) Load time', '<br/>', 'c) Execution time', '<br/>', 'd) All of the mentioned', '<br/>', '<span class=\"collapseomatic\" id=\"id6611aade8a027\" tabindex=\"\" title=\"View Answer\">View Answer</span>', '<div class=\"collapseomatic_content\" id=\"target-id6611aade8a027\">Answer: d<br/>\\nExplanation: None.</div>']\n",
      "Question: 3 - If the process can be moved during its execution from one memory segment to another, then binding must be ____________ - ['<br/>', 'a) delayed until run time', '<br/>', 'b) preponed to compile time', '<br/>', 'c) preponed to load time', '<br/>', 'd) none of the mentioned', '<br/>', '<span class=\"collapseomatic\" id=\"id6611aade8a033\" tabindex=\"\" title=\"View Answer\">View Answer</span>', '<div class=\"collapseomatic_content\" id=\"target-id6611aade8a033\">Answer: a<br/>\\nExplanation: None.</div>']\n",
      "Question: 4 - What is Dynamic loading? - ['<br/>', 'a) loading multiple routines dynamically', '<br/>', 'b) loading a routine only when it is called', '<br/>', 'c) loading multiple routines randomly', '<br/>', 'd) none of the mentioned', '<br/>', '<span class=\"collapseomatic\" id=\"id6611aade8a03c\" tabindex=\"\" title=\"View Answer\">View Answer</span>', '<div class=\"collapseomatic_content\" id=\"target-id6611aade8a03c\">Answer: b<br/>\\nExplanation: None.</div>']\n",
      "Question: 5 - What is the advantage of dynamic loading? - ['<br/>', 'a) A used routine is used multiple times', '<br/>', 'b) An unused routine is never loaded', '<br/>', 'c) CPU utilization increases', '<br/>', 'd) All of the mentioned', '<br/>', '<span class=\"collapseomatic\" id=\"id6611aade8a044\" tabindex=\"\" title=\"View Answer\">View Answer</span>', '<div class=\"collapseomatic_content\" id=\"target-id6611aade8a044\">Answer: b<br/>\\nExplanation: None.</div>', '<div style=\"margin:30px 0px;\">\\n<div style=\"display:inline-block; padding:10px; font-weight:600; border: 1px solid #a9a9a9; background-color: #f4f4f4\">\\n    \\nSubscribe Now: <a href=\"javasript:;\" onclick=\"ml_account(\\'webforms\\', \\'5094326\\', \\'h7k1h7\\', \\'show\\')\">Operating System Newsletter</a> | <a href=\"https://www.sanfoundry.com/newsletter/\" target=\"_blank\">Important Subjects Newsletters</a><br/>\\n</div>\\n</div>']\n",
      "Question: 6 - The idea of overlays is to ____________ - ['<br/>', 'a) data that are needed at any given time', '<br/>', 'b) enable a process to be larger than the amount of memory allocated to it', '<br/>', 'c) keep in memory only those instructions', '<br/>', 'd) all of the mentioned', '<br/>', '<span class=\"collapseomatic\" id=\"id6611aade8a04b\" tabindex=\"\" title=\"View Answer\">View Answer</span>', '<div class=\"collapseomatic_content\" id=\"target-id6611aade8a04b\">Answer: d<br/>\\nExplanation: None.</div>']\n",
      "Question: 7 - The ___________ must design and program the overlay structure - ['<br/>', 'a) programmer', '<br/>', 'b) system architect', '<br/>', 'c) system designer', '<br/>', 'd) none of the mentioned', '<br/>', '<span class=\"collapseomatic\" id=\"id6611aade8a052\" tabindex=\"\" title=\"View Answer\">View Answer</span>', '<div class=\"collapseomatic_content\" id=\"target-id6611aade8a052\">Answer: a<br/>\\nExplanation: None.</div>']\n",
      "Question: 8 - The ___________ swaps processes in and out of the memory - ['<br/>', 'a) Memory manager', '<br/>', 'b) CPU', '<br/>', 'c) CPU manager', '<br/>', 'd) User', '<br/>', '<span class=\"collapseomatic\" id=\"id6611aade8a059\" tabindex=\"\" title=\"View Answer\">View Answer</span>', '<div class=\"collapseomatic_content\" id=\"target-id6611aade8a059\">Answer: a<br/>\\nExplanation: None.</div>']\n",
      "Question: 9 - If a higher priority process arrives and wants service, the memory manager can swap out the lower priority process to execute the higher priority process - ['<br/>', 'a) priority swapping', '<br/>', 'b) pull out, push in', '<br/>', 'c) roll out, roll in', '<br/>', 'd) none of the mentioned', '<br/>', '<span class=\"collapseomatic\" id=\"id6611aade8a060\" tabindex=\"\" title=\"View Answer\">View Answer</span>', '<div class=\"collapseomatic_content\" id=\"target-id6611aade8a060\">Answer: c<br/>\\nExplanation: None.</div>']\n",
      "Question: 10 - If binding is done at assembly or load time, then the process _____ be moved to different locations after being swapped out and in again - ['<br/>', 'a) can', '<br/>', 'b) must', '<br/>', 'c) can never', '<br/>', 'd) may', '<br/>', '<span class=\"collapseomatic\" id=\"id6611aade8a068\" tabindex=\"\" title=\"View Answer\">View Answer</span>', '<div class=\"collapseomatic_content\" id=\"target-id6611aade8a068\">Answer: c<br/>\\nExplanation: None.</div>']\n",
      "Question: 11 - In a system that does not support swapping ____________ - ['<br/>', 'a) the compiler normally binds symbolic addresses (variables) to relocatable addresses', '<br/>', 'b) the compiler normally binds symbolic addresses to physical addresses', '<br/>', 'c) the loader binds relocatable addresses to physical addresses', '<br/>', 'd) binding of symbolic addresses to physical addresses normally takes place during execution', '<br/>', '<span class=\"collapseomatic\" id=\"id6611aade8a06f\" tabindex=\"\" title=\"View Answer\">View Answer</span>', '<div class=\"collapseomatic_content\" id=\"target-id6611aade8a06f\">Answer: a<br/>\\nExplanation: None.</div>', '<p>12. Which of the following is TRUE?<br/>\\na) Overlays are used to increase the size of physical memory<br/>\\nb) Overlays are used to increase the logical address space<br/>\\nc) When overlays are used, the size of a process is not limited to the size of the physical memory<br/>\\nd) Overlays are used whenever the physical address space is smaller than the logical address space<br/>\\n<span class=\"collapseomatic\" id=\"id6611aade8a075\" tabindex=\"\" title=\"View Answer\">View Answer</span><div class=\"collapseomatic_content\" id=\"target-id6611aade8a075\">Answer: c<br/>\\nExplanation: None.</div>\\n<p><strong>More MCQs on Swapping Processes:</strong></p>\\n<ul>\\n<li><a href=\"https://www.sanfoundry.com/operating-system-mcqs-memory-management-swapping-2/\">Swapping Processes MCQ (Set 2)</a></li>\\n</ul>\\n<p><strong>Sanfoundry Global Education &amp; Learning Series – Operating System.</strong></p>\\n<div style=\"text-align:justify\">\\n<a href=\"https://www.sanfoundry.com/best-reference-books-operating-systems/\">Here’s the list of Best Books in Operating System</a>.</div></p>']\n",
      "Question: 12 - Which of the following is TRUE? - ['<br/>', 'a) Overlays are used to increase the size of physical memory', '<br/>', 'b) Overlays are used to increase the logical address space', '<br/>', 'c) When overlays are used, the size of a process is not limited to the size of the physical memory', '<br/>', 'd) Overlays are used whenever the physical address space is smaller than the logical address space', '<br/>', '<span class=\"collapseomatic\" id=\"id6611aade8a075\" tabindex=\"\" title=\"View Answer\">View Answer</span>', '<div class=\"collapseomatic_content\" id=\"target-id6611aade8a075\">Answer: c<br/>\\nExplanation: None.</div>', '<p><strong>More MCQs on Swapping Processes:</strong></p>', '<ul>\\n<li><a href=\"https://www.sanfoundry.com/operating-system-mcqs-memory-management-swapping-2/\">Swapping Processes MCQ (Set 2)</a></li>\\n</ul>', '<p><strong>Sanfoundry Global Education &amp; Learning Series – Operating System.</strong></p>']\n"
     ]
    }
   ],
   "source": [
    "# Dùng flask để tạo API trả về câu hỏi trắc nghiệm\n",
    "\n",
    "from flask import Flask, jsonify\n",
    "import datetime\n",
    "app = Flask(__name__)\n",
    "\n",
    "@app.route('/')\n",
    "def index():\n",
    "    current_time = datetime.now().strftime('%Y-%m-%d %H:%M:%S')\n",
    "    return f'[{current_time}] Hello, World! This is a MCQs API. Please use /mcqs/<url> to get MCQs from the URL.'\n",
    "\n",
    "@app.route('/mcqs/<url>', methods=['GET'])\n",
    "def get_mcqs(url):\n",
    "    if not url:\n",
    "        return jsonify({'error': 'URL không được trống'})\n",
    "    \n",
    "    url = f\"https://www.sanfoundry.com/{url}/\"\n",
    "    # print(f'URL: {url}')\n",
    "    \n",
    "    mcqs = getMCQS(url)\n",
    "    # export_csv(mcqs, 'mcqs.csv')\n",
    "    \n",
    "    return jsonify(mcqs)\n",
    "\n",
    "# if __name__ == '__main__':\n",
    "#     app.run()"
   ]
  }
 ],
 "metadata": {
  "kernelspec": {
   "display_name": "Python 3",
   "language": "python",
   "name": "python3"
  },
  "language_info": {
   "codemirror_mode": {
    "name": "ipython",
    "version": 3
   },
   "file_extension": ".py",
   "mimetype": "text/x-python",
   "name": "python",
   "nbconvert_exporter": "python",
   "pygments_lexer": "ipython3",
   "version": "3.10.11"
  }
 },
 "nbformat": 4,
 "nbformat_minor": 2
}
