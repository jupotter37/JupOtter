{
 "cells": [
  {
   "cell_type": "markdown",
   "metadata": {},
   "source": [
    "<h1 align=\"center\">Python for DATA SCIENCE</h1><Br/>\n",
    "<h2 align=\"center\">Dr Gabriel HARRIS</h2>\n",
    "\n",
    "<h5 align=\"center\"><a href=\"https://medium.com/@DrGabrielHarris\">Medium</a></h5>\n",
    "<h5 align=\"center\"><a href=\"https:/github.com/DrGabrielHarris\"> GitHub</a></h5>"
   ]
  },
  {
   "cell_type": "markdown",
   "metadata": {},
   "source": [
    "# 2- Variables and Data Types\n",
    "\n",
    "> ## [I- Assigning a value to a variable](#I)\n",
    "> ## [II- Basic data types](#II)\n",
    "> ## [III- Type casting (i.e. conversion)](#III)\n",
    "> ## [IV- Lists](#IV)\n",
    "\n",
    "> ### [- Exercises](#E)\n",
    "> ### [- Solutions](#S)"
   ]
  },
  {
   "cell_type": "markdown",
   "metadata": {},
   "source": [
    "***\n",
    "## I- Assigning a value to a variable <a id='I'></a>"
   ]
  },
  {
   "cell_type": "code",
   "execution_count": null,
   "metadata": {},
   "outputs": [],
   "source": [
    "width = 20\n",
    "height = 5\n",
    "area = width * height\n",
    "\n",
    "print(area)"
   ]
  },
  {
   "cell_type": "code",
   "execution_count": null,
   "metadata": {},
   "outputs": [],
   "source": [
    "print(x) # trying to use an undefined variable (i.e. wasn't assigned a value) will give an error"
   ]
  },
  {
   "cell_type": "markdown",
   "metadata": {},
   "source": [
    "***\n",
    "## II- Basic data types <a id='II'></a>\n",
    "\n",
    "> \"The type defines the operations that can be done on the data and the structure in which you want the data to be stored\"\n",
    "\n",
    "> ## [1. Numbers](#II-1)\n",
    "> ## [2. Strings](#II-2)\n",
    "> ## [3. Booleans arrays](#II-3)"
   ]
  },
  {
   "cell_type": "markdown",
   "metadata": {},
   "source": [
    "### 1- Numbers <a id='II-1'></a>\n",
    "\n",
    "* **Integers**: an integer (from the Latin word integer which means \"whole\") is a number that can be written without a fractional component\n",
    "* **Floats**: a number that has a fractional componen"
   ]
  },
  {
   "cell_type": "code",
   "execution_count": null,
   "metadata": {},
   "outputs": [],
   "source": [
    "a_int = -5\n",
    "b_float = -5.5"
   ]
  },
  {
   "cell_type": "code",
   "execution_count": null,
   "metadata": {},
   "outputs": [],
   "source": [
    "print(a_int, type(a_int))"
   ]
  },
  {
   "cell_type": "code",
   "execution_count": null,
   "metadata": {},
   "outputs": [],
   "source": [
    "print(b_float, type(b_float))"
   ]
  },
  {
   "cell_type": "markdown",
   "metadata": {},
   "source": [
    "* Classic division returns a float"
   ]
  },
  {
   "cell_type": "code",
   "execution_count": null,
   "metadata": {},
   "outputs": [],
   "source": [
    "c = 17 / 3\n",
    "print(c, type(c))"
   ]
  },
  {
   "cell_type": "markdown",
   "metadata": {},
   "source": [
    "* Floor division returns an int (discards the fractional part)"
   ]
  },
  {
   "cell_type": "code",
   "execution_count": null,
   "metadata": {},
   "outputs": [],
   "source": [
    "c = 17 // 3\n",
    "print(c, type(c))"
   ]
  },
  {
   "cell_type": "markdown",
   "metadata": {},
   "source": [
    "* The modulus operatror returns an int (the remainder of the division)"
   ]
  },
  {
   "cell_type": "code",
   "execution_count": null,
   "metadata": {},
   "outputs": [],
   "source": [
    "c = 17 % 3\n",
    "print(c, type(c))"
   ]
  },
  {
   "cell_type": "markdown",
   "metadata": {},
   "source": [
    "* The power operatror returns an int"
   ]
  },
  {
   "cell_type": "code",
   "execution_count": null,
   "metadata": {},
   "outputs": [],
   "source": [
    "c = 3 ** 2\n",
    "print(c, type(c))"
   ]
  },
  {
   "cell_type": "markdown",
   "metadata": {},
   "source": [
    "### 2- Strings <a id='II-2'></a>\n",
    "\n",
    "* A set of characters enclosed in single quotes '...', or double quotes \"...\" with the same result"
   ]
  },
  {
   "cell_type": "code",
   "execution_count": null,
   "metadata": {},
   "outputs": [],
   "source": [
    "example_str = 'spam eggs'\n",
    "print(example_str, type(example_str))"
   ]
  },
  {
   "cell_type": "markdown",
   "metadata": {},
   "source": [
    "* Double quotes are usually used to escape a single quote"
   ]
  },
  {
   "cell_type": "code",
   "execution_count": null,
   "metadata": {},
   "outputs": [],
   "source": [
    "print('doesn't')"
   ]
  },
  {
   "cell_type": "code",
   "execution_count": null,
   "metadata": {},
   "outputs": [],
   "source": [
    "print(\"doesn't\")"
   ]
  },
  {
   "cell_type": "markdown",
   "metadata": {},
   "source": [
    "* Another way to to escape quotes is to use the backslash **\\**"
   ]
  },
  {
   "cell_type": "code",
   "execution_count": null,
   "metadata": {},
   "outputs": [],
   "source": [
    "print('doesn\\'t')"
   ]
  },
  {
   "cell_type": "markdown",
   "metadata": {},
   "source": [
    "* Some characters prefaced by <b>\\</b> are interpreted as special characters\n",
    "* For example, when used with **print()**, **\\n** produces a new line, and **\\t** produces a tab"
   ]
  },
  {
   "cell_type": "code",
   "execution_count": null,
   "metadata": {},
   "outputs": [],
   "source": [
    "print('First line.\\nSecond line.')"
   ]
  },
  {
   "cell_type": "code",
   "execution_count": null,
   "metadata": {},
   "outputs": [],
   "source": [
    "print('First line.\\tSecond line.')"
   ]
  },
  {
   "cell_type": "markdown",
   "metadata": {},
   "source": [
    "* If you don’t want characters prefaced by \\ to be interpreted as special characters, you can use raw strings by adding an **r** before the first quote"
   ]
  },
  {
   "cell_type": "code",
   "execution_count": null,
   "metadata": {},
   "outputs": [],
   "source": [
    "print('C:\\some\\name')"
   ]
  },
  {
   "cell_type": "code",
   "execution_count": null,
   "metadata": {},
   "outputs": [],
   "source": [
    "print(r'C:\\some\\name')"
   ]
  },
  {
   "cell_type": "markdown",
   "metadata": {},
   "source": [
    "* If you want the string to span multiple lines, one way is to use triple-quotes"
   ]
  },
  {
   "cell_type": "code",
   "execution_count": null,
   "metadata": {},
   "outputs": [],
   "source": [
    "print(\"\"\"\n",
    "First line\n",
    "Second line\n",
    "\"\"\")"
   ]
  },
  {
   "cell_type": "markdown",
   "metadata": {},
   "source": [
    "* Strings can be concatenated (glued together) with the **+** operator, and repeated with *****"
   ]
  },
  {
   "cell_type": "code",
   "execution_count": null,
   "metadata": {},
   "outputs": [],
   "source": [
    "print(3 * 'un' + 'ium')"
   ]
  },
  {
   "cell_type": "markdown",
   "metadata": {},
   "source": [
    "* Two or more strings next to each other are automatically concatenated"
   ]
  },
  {
   "cell_type": "code",
   "execution_count": null,
   "metadata": {},
   "outputs": [],
   "source": [
    "print('Py' 'thon')"
   ]
  },
  {
   "cell_type": "markdown",
   "metadata": {},
   "source": [
    "* This is particularly useful when you want to break long strings"
   ]
  },
  {
   "cell_type": "code",
   "execution_count": null,
   "metadata": {},
   "outputs": [],
   "source": [
    "text = ('Put several strings within parentheses '\n",
    "        'to have them joined together.')\n",
    "\n",
    "print(text)"
   ]
  },
  {
   "cell_type": "markdown",
   "metadata": {},
   "source": [
    "* If you want to concatenate a variable and a literal, use **+** (also to concatenate variables)"
   ]
  },
  {
   "cell_type": "code",
   "execution_count": null,
   "metadata": {},
   "outputs": [],
   "source": [
    "prefix = 'Py'\n",
    "\n",
    "print(prefix + 'thon')"
   ]
  },
  {
   "cell_type": "markdown",
   "metadata": {},
   "source": [
    "* Strings can be indexed (subscripted) using **[ ]**, with the first character having index 0"
   ]
  },
  {
   "cell_type": "code",
   "execution_count": null,
   "metadata": {},
   "outputs": [],
   "source": [
    "word = 'Python'\n",
    "\n",
    "print(word[0])  # character in position 0\n",
    "print(word[5])  # character in position 5"
   ]
  },
  {
   "cell_type": "markdown",
   "metadata": {},
   "source": [
    "* Indices may also be negative numbers, to start counting from the right"
   ]
  },
  {
   "cell_type": "code",
   "execution_count": null,
   "metadata": {},
   "outputs": [],
   "source": [
    "word = 'Python'\n",
    "\n",
    "print(word[-1])  # last character\n",
    "print(word[-2])  # second-last character\n",
    "print(word[-6])"
   ]
  },
  {
   "cell_type": "markdown",
   "metadata": {},
   "source": [
    "* In addition to indexing, slicing is also supported. While indexing is used to obtain individual characters, slicing allows you to obtain substring"
   ]
  },
  {
   "cell_type": "code",
   "execution_count": null,
   "metadata": {},
   "outputs": [],
   "source": [
    "word = 'Python'\n",
    "\n",
    "print(word[0:2])  # characters from position 0 (included) to 2 (excluded)\n",
    "print(word[2:5])  # characters from position 2 (included) to 5 (excluded)"
   ]
  },
  {
   "cell_type": "markdown",
   "metadata": {},
   "source": [
    "* An omitted first index defaults to zero, an omitted second index defaults to the size of the string being sliced"
   ]
  },
  {
   "cell_type": "code",
   "execution_count": null,
   "metadata": {},
   "outputs": [],
   "source": [
    "word = 'Python'\n",
    "\n",
    "print(word[:2])   # character from the beginning to position 2 (excluded)\n",
    "print(word[4:])   # characters from position 4 (included) to the end\n",
    "print(word[-2:])  # characters from the second-last (included) to the end"
   ]
  },
  {
   "cell_type": "markdown",
   "metadata": {},
   "source": [
    "* Attempting to use an index that is too large will result in an error"
   ]
  },
  {
   "cell_type": "code",
   "execution_count": null,
   "metadata": {},
   "outputs": [],
   "source": [
    "word = 'Python'\n",
    "\n",
    "print(word[42])  # the word only has 6 characters"
   ]
  },
  {
   "cell_type": "markdown",
   "metadata": {},
   "source": [
    "* Trying to change a string will result in an error (strrings are immutable objects)"
   ]
  },
  {
   "cell_type": "code",
   "execution_count": null,
   "metadata": {},
   "outputs": [],
   "source": [
    "word = 'Python'\n",
    "\n",
    "word[0] = 'J'"
   ]
  },
  {
   "cell_type": "markdown",
   "metadata": {},
   "source": [
    "* The built-in function **len()** returns the length of a string"
   ]
  },
  {
   "cell_type": "code",
   "execution_count": null,
   "metadata": {},
   "outputs": [],
   "source": [
    "s = 'supercalifragilisticexpialidocious'\n",
    "print(len(s))"
   ]
  },
  {
   "cell_type": "markdown",
   "metadata": {},
   "source": [
    "* Useful string methods"
   ]
  },
  {
   "cell_type": "code",
   "execution_count": null,
   "metadata": {},
   "outputs": [],
   "source": [
    "print('hello world'.title())  # return a titlecased version of the string\n",
    "print('python'.capitalize())  # return a copy of the string with its first character capitalized and the rest lowercased\n",
    "print('PYTHON'.lower())  # return a copy of the string with all the cased characters converted to lowercase\n",
    "print('python'.upper())"
   ]
  },
  {
   "cell_type": "code",
   "execution_count": null,
   "metadata": {},
   "outputs": [],
   "source": [
    "print('  Python'.lstrip())  # return a copy of the string with leading whitespaces removed\n",
    "print('  Python  '.strip())  # return a copy of the string with the leading and trailing characters removed"
   ]
  },
  {
   "cell_type": "markdown",
   "metadata": {},
   "source": [
    "### 3- Booleans <a id='II-3'></a>\n",
    "\n",
    "* Used to represent/test truth values using the two constant objects False and True"
   ]
  },
  {
   "cell_type": "code",
   "execution_count": null,
   "metadata": {},
   "outputs": [],
   "source": [
    "example_bool = True\n",
    "\n",
    "print(example_bool, type(example_bool))"
   ]
  },
  {
   "cell_type": "markdown",
   "metadata": {},
   "source": [
    "* Testing for the truth value using logical operations"
   ]
  },
  {
   "cell_type": "code",
   "execution_count": null,
   "metadata": {
    "scrolled": true
   },
   "outputs": [],
   "source": [
    "x = True\n",
    "y = False\n",
    "\n",
    "print(x and y)  # true if all are true \n",
    "print(x or y)  # true if at least one is true\n",
    "print(not x)"
   ]
  },
  {
   "cell_type": "markdown",
   "metadata": {},
   "source": [
    "* Testing for the truth value using comparison operations"
   ]
  },
  {
   "cell_type": "code",
   "execution_count": null,
   "metadata": {},
   "outputs": [],
   "source": [
    "x = 5\n",
    "y = 6\n",
    "\n",
    "print(x == y)  # equal\n",
    "print(x != y)  # not equal\n",
    "print(x > y)  # greater than \n",
    "print(x >= y)  # greater than or equal\n",
    "print(x < y)  # less than\n",
    "print(x <= y)  # less than or equal"
   ]
  },
  {
   "cell_type": "markdown",
   "metadata": {},
   "source": [
    "* Testing for the truth value using identity operations"
   ]
  },
  {
   "cell_type": "code",
   "execution_count": null,
   "metadata": {},
   "outputs": [],
   "source": [
    "x = 5\n",
    "y = 6\n",
    "\n",
    "print(x is y)\n",
    "print(x is not y)"
   ]
  },
  {
   "cell_type": "markdown",
   "metadata": {},
   "source": [
    "* Testing for the truth value using membership operations"
   ]
  },
  {
   "cell_type": "code",
   "execution_count": null,
   "metadata": {},
   "outputs": [],
   "source": [
    "print('gg' in 'eggs')\n",
    "print('gg' not in 'eggs')"
   ]
  },
  {
   "cell_type": "markdown",
   "metadata": {},
   "source": [
    "* Testing for the truth value using string built-in methods"
   ]
  },
  {
   "cell_type": "code",
   "execution_count": null,
   "metadata": {},
   "outputs": [],
   "source": [
    "print('Python'.isalpha())  # return true if all characters in the string are alphabetic\n",
    "print('3'.isnumeric())  # return true if all characters in the string are numeric characters\n",
    "print('Python3'.isalnum())  # return true if all characters in the string are alphanumeric"
   ]
  },
  {
   "cell_type": "code",
   "execution_count": null,
   "metadata": {},
   "outputs": [],
   "source": [
    "print('PYTHON'.isupper())  # return true if all cased characters in the string are uppercase\n",
    "print('python'.islower())  # return true if all cased characters in the string are lowercase"
   ]
  },
  {
   "cell_type": "markdown",
   "metadata": {},
   "source": [
    "***\n",
    "## III- Type casting (i.e. conversion) <a id='III'></a>\n",
    " \n",
    "> Change the type of your data, so that it becomes easier to use and work with\n",
    "\n",
    "> ## [1. Implicit conversions](#III-1)\n",
    "> ## [2. Explicit conversions](#III-2)"
   ]
  },
  {
   "cell_type": "markdown",
   "metadata": {},
   "source": [
    "### 1- Implicit conversions <a id='III-1'></a>\n",
    "\n",
    "* **Python** convert a data type to some other type by itself implicitly"
   ]
  },
  {
   "cell_type": "code",
   "execution_count": null,
   "metadata": {},
   "outputs": [],
   "source": [
    "a_int = 10\n",
    "b_float = 3.0"
   ]
  },
  {
   "cell_type": "code",
   "execution_count": null,
   "metadata": {},
   "outputs": [],
   "source": [
    "c = a_int + b_float\n",
    "print(c, type(c))  # the result was automatically converted to a float value"
   ]
  },
  {
   "cell_type": "code",
   "execution_count": null,
   "metadata": {},
   "outputs": [],
   "source": [
    "c = a_int / b_float\n",
    "print(c, type(c))  # the result was automatically converted to a float value"
   ]
  },
  {
   "cell_type": "markdown",
   "metadata": {},
   "source": [
    "* The built-in **input()** function reads a line from input, converts it to a string, and returns that"
   ]
  },
  {
   "cell_type": "code",
   "execution_count": null,
   "metadata": {},
   "outputs": [],
   "source": [
    "name = input(\"Please enter your name: \")\n",
    "print(name, type(name))"
   ]
  },
  {
   "cell_type": "code",
   "execution_count": null,
   "metadata": {},
   "outputs": [],
   "source": [
    "age = input(\"Please enter your age: \")\n",
    "print(age, type(age))"
   ]
  },
  {
   "cell_type": "markdown",
   "metadata": {},
   "source": [
    "### 2- Explicit conversions <a id='III-2'></a>\n",
    "\n",
    "> **You** tell Python to convert a data type to some other type explicitly"
   ]
  },
  {
   "cell_type": "markdown",
   "metadata": {},
   "source": [
    "* Integer and float conversions"
   ]
  },
  {
   "cell_type": "code",
   "execution_count": null,
   "metadata": {},
   "outputs": [],
   "source": [
    "a_int = 3\n",
    "b_int = 2\n",
    "\n",
    "c = float(a_int + b_int)  # explicit type conversion from int to float\n",
    "print(c, type(c))"
   ]
  },
  {
   "cell_type": "code",
   "execution_count": null,
   "metadata": {},
   "outputs": [],
   "source": [
    "a_float = 3.3\n",
    "b_float = 2.0\n",
    "\n",
    "c = int(a_float + b_float)  # explicit type conversion from float to int\n",
    "print(c, type(c))"
   ]
  },
  {
   "cell_type": "markdown",
   "metadata": {},
   "source": [
    "* String conversions"
   ]
  },
  {
   "cell_type": "code",
   "execution_count": null,
   "metadata": {},
   "outputs": [],
   "source": [
    "a_int = 3\n",
    "b_int = 2\n",
    "\n",
    "c = a_int + b_int\n",
    "print('The sum result = ' + c)"
   ]
  },
  {
   "cell_type": "code",
   "execution_count": null,
   "metadata": {},
   "outputs": [],
   "source": [
    "a_int = 3\n",
    "b_int = 2\n",
    "\n",
    "c = a_int + b_int\n",
    "print('The sum result = ' + str(c))"
   ]
  },
  {
   "cell_type": "code",
   "execution_count": null,
   "metadata": {},
   "outputs": [],
   "source": [
    "width = int(input(\"Please enter width: \"))\n",
    "height = int(input(\"Please enter height: \"))\n",
    "area = width * height\n",
    "\n",
    "print(area)"
   ]
  },
  {
   "cell_type": "markdown",
   "metadata": {
    "collapsed": true
   },
   "source": [
    "***\n",
    "## IV- Lists <a id='IV'></a>\n",
    "\n",
    "> \"Used to group together a number of values (items), that might be of different types but usually items have the same type\"\n",
    "\n",
    "* A list is written as a sequence of comma-separated values enclosed between 2 brackets **[ ]**"
   ]
  },
  {
   "cell_type": "code",
   "execution_count": null,
   "metadata": {},
   "outputs": [],
   "source": [
    "squares = [1, 4, 9, 16, 25]\n",
    "print(squares, type(squares))\n",
    "\n",
    "letters = ['a', 'b', 'c', 'd']\n",
    "print(letters, type(letters))"
   ]
  },
  {
   "cell_type": "markdown",
   "metadata": {},
   "source": [
    "* We can create an empty list by using either empty brackets **[ ]**, or the built-in function **list()**"
   ]
  },
  {
   "cell_type": "code",
   "execution_count": null,
   "metadata": {},
   "outputs": [],
   "source": [
    "empty_l = []  # create an empty list\n",
    "empty_l = list()  # create an empty list\n",
    "\n",
    "print(empty_l, type(empty_l))"
   ]
  },
  {
   "cell_type": "markdown",
   "metadata": {},
   "source": [
    "* By calling **split()** on a string, it return a list of the substrings in the string, using space as the delimiter"
   ]
  },
  {
   "cell_type": "code",
   "execution_count": null,
   "metadata": {},
   "outputs": [],
   "source": [
    "split_result = 'hello world'.split() \n",
    "print(split_result, type(split_result))"
   ]
  },
  {
   "cell_type": "markdown",
   "metadata": {},
   "source": [
    "* Like strings, lists can be indexed and sliced"
   ]
  },
  {
   "cell_type": "code",
   "execution_count": null,
   "metadata": {},
   "outputs": [],
   "source": [
    "squares = [1, 4, 9, 16, 25]\n",
    "\n",
    "print(squares[0])  # indexing returns the item\n",
    "print(squares[-1])\n",
    "print(squares[-3:])  # slicing returns a new list"
   ]
  },
  {
   "cell_type": "markdown",
   "metadata": {},
   "source": [
    "* Lists also support operations like concatenation"
   ]
  },
  {
   "cell_type": "code",
   "execution_count": null,
   "metadata": {},
   "outputs": [],
   "source": [
    "squares = [1, 4, 9, 16, 25]\n",
    "new_squares = [36, 49, 64, 81, 100]\n",
    "print(squares + new_squares)"
   ]
  },
  {
   "cell_type": "markdown",
   "metadata": {},
   "source": [
    "* Unlike strings, lists can be changed (lists are mutable objects)"
   ]
  },
  {
   "cell_type": "code",
   "execution_count": null,
   "metadata": {},
   "outputs": [],
   "source": [
    "cubes = [1, 8, 27, 65, 125]  # something's wrong here\n",
    "\n",
    "print(4 ** 3)  # the cube of 4 is 64, not 65!\n",
    "\n",
    "cubes[3] = 64  # replace the wrong value\n",
    "\n",
    "print(cubes)"
   ]
  },
  {
   "cell_type": "markdown",
   "metadata": {},
   "source": [
    "* It is possible to nest lists (create lists containing other lists)"
   ]
  },
  {
   "cell_type": "code",
   "execution_count": null,
   "metadata": {},
   "outputs": [],
   "source": [
    "a = ['a', 'b', 'c']\n",
    "b = [1, 2, 3]\n",
    "c = [a, b]\n",
    "\n",
    "print(c)\n",
    "print(c[0])\n",
    "print(c[0][1])"
   ]
  },
  {
   "cell_type": "markdown",
   "metadata": {},
   "source": [
    "* Testing for the truth value using membership operations"
   ]
  },
  {
   "cell_type": "code",
   "execution_count": null,
   "metadata": {},
   "outputs": [],
   "source": [
    "print('a' in ['a', 'b', 'c', 'd'])\n",
    "print('e' not in ['a', 'b', 'c', 'd'])"
   ]
  },
  {
   "cell_type": "markdown",
   "metadata": {},
   "source": [
    "* You can also add new items at the end of the list, by using the **append()** method"
   ]
  },
  {
   "cell_type": "code",
   "execution_count": null,
   "metadata": {},
   "outputs": [],
   "source": [
    "cubes = [1, 8, 27, 64, 125]\n",
    "\n",
    "cubes.append(216)  # add the cube of 6\n",
    "cubes.append(7 ** 3)  # and the cube of 7\n",
    "\n",
    "print(cubes)"
   ]
  },
  {
   "cell_type": "markdown",
   "metadata": {},
   "source": [
    "* The **del** statement can be used to remove an item/slice from a list, or to clear the entire list"
   ]
  },
  {
   "cell_type": "code",
   "execution_count": null,
   "metadata": {},
   "outputs": [],
   "source": [
    "a = [-1, 1, 66.25, 333, 333, 1234.5]\n",
    "\n",
    "del a[0]\n",
    "print(a)\n",
    "\n",
    "del a[2:4]\n",
    "print(a)\n",
    "\n",
    "del a[:]\n",
    "print(a)"
   ]
  },
  {
   "cell_type": "markdown",
   "metadata": {},
   "source": [
    "* The built-in function **len()** also applies to lists"
   ]
  },
  {
   "cell_type": "code",
   "execution_count": null,
   "metadata": {},
   "outputs": [],
   "source": [
    "letters = ['a', 'b', 'c', 'd']\n",
    "\n",
    "print(len(letters))"
   ]
  },
  {
   "cell_type": "markdown",
   "metadata": {},
   "source": [
    "* You can unpack a list by using as many variables on the left side of the equals sign as there are elements in the list"
   ]
  },
  {
   "cell_type": "code",
   "execution_count": null,
   "metadata": {},
   "outputs": [],
   "source": [
    "a = [-1, 1]\n",
    "\n",
    "a1, a2 = a\n",
    "print(a1)\n",
    "print(a2)"
   ]
  },
  {
   "cell_type": "markdown",
   "metadata": {},
   "source": [
    "#### - Exercise <a id='E'></a>"
   ]
  },
  {
   "cell_type": "markdown",
   "metadata": {},
   "source": [
    "1. Write a program that askes the user for their full name. It should then print out a greeting with their full name included, and appropriately titlecased\n",
    "\n",
    "2. Modify the program so that it also asks the user for their year of birth. It should then print out their age in years\n",
    "\n",
    "3. Modify the program so that it can also calculate the user's body mass index (BMI). The equation is: $BMI=\\dfrac{mass}{height^2}$ where the mass is in kilograms and the height is in metre (both entered by the user)\n",
    "<br><br>\n",
    "Tip: you can use split(',') to get multiple values from the user using input()\n",
    "\n",
    "4. Modify the program so that it prints: name, age in years, BMI as one list\n",
    "\n",
    "5. Write a program that evaluates the result and remainder of the expression $(\\dfrac{2 + 3\\times3}{n})$, where n is an integer number entered by the user. The program should use floor division to compute the result and should print out both the result and the remainder\n",
    "\n",
    "6. The following program is intended to read a distance in miles from the user and display its equivalent in km. However, the program does not currently work correctly. Run the program and then debug it so that it performs\n",
    "the conversion correctly"
   ]
  },
  {
   "cell_type": "code",
   "execution_count": null,
   "metadata": {},
   "outputs": [],
   "source": [
    "# read distance in miles\n",
    "miles = float(input(\"Enter distance in  miles :\\n\"))\n",
    "\n",
    "# convert to km\n",
    "km_in_miles = (5//8)  # km in miles\n",
    "\n",
    "km = miles / km_in_miles\n",
    "\n",
    "# display in km\n",
    "print(\"This equates to: \" + str(km) + \"km\\n\")"
   ]
  },
  {
   "cell_type": "markdown",
   "metadata": {},
   "source": [
    "#### - Solutions <a id='S'></a>"
   ]
  },
  {
   "cell_type": "code",
   "execution_count": null,
   "metadata": {},
   "outputs": [],
   "source": [
    "# Exercise 1\n",
    "name = input(\"What's your name?:\\n\")\n",
    "print('Hello ' + name.title())"
   ]
  },
  {
   "cell_type": "code",
   "execution_count": null,
   "metadata": {},
   "outputs": [],
   "source": [
    "# Exercise 2\n",
    "yob = int(input(\"What's your date of birth <yyyy>?:\\n\"))\n",
    "age = 2018 - yob\n",
    "print(\"You're \" + str(age) + ' years old')"
   ]
  },
  {
   "cell_type": "code",
   "execution_count": null,
   "metadata": {},
   "outputs": [],
   "source": [
    "# Exercise 3\n",
    "weight_kg = float(input(\"What's your weight in KG?:\\n\"))\n",
    "height_meter = float(input(\"What's your height in meter?:\\n\"))\n",
    "bmi = weight_kg/(height_meter**2)\n",
    "print(\"Your BMI is \" + str(bmi) + ' KG/M2')"
   ]
  },
  {
   "cell_type": "code",
   "execution_count": null,
   "metadata": {},
   "outputs": [],
   "source": [
    "# Exercise 3 using split(',')\n",
    "weight_kg, height_meter = input(\"What's your weight in KG, and height in meter? <weight,height>\\n\").split(',')\n",
    "bmi = float(weight_kg)/(float(height_meter)**2)\n",
    "print(\"Your BMI is \" + str(bmi) + ' KG/M2')"
   ]
  },
  {
   "cell_type": "code",
   "execution_count": null,
   "metadata": {},
   "outputs": [],
   "source": [
    "# Exercise 4\n",
    "info = [name.title(), age, bmi]\n",
    "print(info)"
   ]
  },
  {
   "cell_type": "code",
   "execution_count": null,
   "metadata": {},
   "outputs": [],
   "source": [
    "# Exercise 5\n",
    "n = int(input(\"Enter a number:\\n\"))\n",
    "result = (2 + 3 * 3) // n\n",
    "remainder = (2 + 3 * 3) % n\n",
    "print(\"Result  = \", result)\n",
    "print(\"Remainder  = \", remainder)"
   ]
  },
  {
   "cell_type": "code",
   "execution_count": null,
   "metadata": {},
   "outputs": [],
   "source": [
    "# Exercise 6\n",
    "miles = float(input(\"Enter distance in  miles :\\n\"))\n",
    "km_in_miles = (5/8)  # km in miles\n",
    "km = int(miles) / km_in_miles\n",
    "print(\"This equates to: \" + str(Km) + \"km\\n\")"
   ]
  }
 ],
 "metadata": {
  "kernelspec": {
   "display_name": "Python 3",
   "language": "python",
   "name": "python3"
  },
  "language_info": {
   "codemirror_mode": {
    "name": "ipython",
    "version": 3
   },
   "file_extension": ".py",
   "mimetype": "text/x-python",
   "name": "python",
   "nbconvert_exporter": "python",
   "pygments_lexer": "ipython3",
   "version": "3.7.6"
  }
 },
 "nbformat": 4,
 "nbformat_minor": 2
}
