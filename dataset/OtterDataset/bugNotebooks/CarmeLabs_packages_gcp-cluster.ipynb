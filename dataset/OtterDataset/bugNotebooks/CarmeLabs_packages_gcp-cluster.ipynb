{
 "cells": [
  {
   "cell_type": "markdown",
   "metadata": {},
   "source": [
    "### Before you Begin. The '--dryrun' option and the '--yes' Option \n",
    "Do you want to run the commands or just see them?  \n",
    "Below we have set the carme option `dryrun` so that commands are printed and not executed. \n",
    "\n",
    "If executing carme commands from the command line, by default the CMD command and will print the command and ask you to confirm before executing it. In Jupyter notebooks, this interactivity isn't possible. Instead, just add the --yes flag.  "
   ]
  },
  {
   "cell_type": "code",
   "execution_count": 7,
   "metadata": {},
   "outputs": [],
   "source": [
    "#To run for real, just set dryrun=''\n",
    "#dryrun= '' to run or dryrun='--dryrun' to print. \n",
    "dryrun='--dryrun'\n",
    "yes = '--yes'"
   ]
  },
  {
   "cell_type": "markdown",
   "metadata": {},
   "source": [
    "### View Available Commands"
   ]
  },
  {
   "cell_type": "code",
   "execution_count": 8,
   "metadata": {},
   "outputs": [
    {
     "name": "stdout",
     "output_type": "stream",
     "text": [
      "carme: [INFO] All cmd commands issued from project root directory to ensure relative path consistency.\r\n",
      "carme: [INFO] These commands are currently installed:\r\n",
      "show_config: \"cat ./config/gcp-cluster.yaml\"\r\n",
      "create_all: ['create', 'create_cluster_roll']\r\n",
      "create_service_account: \"gcloud iam service-accounts create {service_account_name}\\\r\n",
      "  \\ --display-name {service_account_name}\"\r\n",
      "create_key: \"gcloud iam service-accounts keys create {cwd}/gcp/{authorization_file}\\\r\n",
      "  \\ --iam-account {service_account_name}@{project}.iam.gserviceaccount.com\"\r\n",
      "get_policy: \"gcloud iam service-accounts get-iam-policy {service_account_name}@{project}.iam.gserviceaccount.com\\\r\n",
      "  \\ --format json > {cwd}gcp/policy.json\"\r\n",
      "set_policy: \"gcloud iam service-accounts set-iam-policy {service_account_name}@{project}.iam.gserviceaccount.com\\\r\n",
      "  \\ {cwd}/gcp/policy.json\"\r\n",
      "login: \"gcloud auth login\"\r\n",
      "login_sa: \"gcloud auth activate-service-account --key-file {cwd}/gcp/{authorization_file}\"\r\n",
      "install_helm: [helm0, helm1, helm2, helm3]\r\n",
      "helm0: \"kubectl --namespace kube-system create serviceaccount tiller\"\r\n",
      "helm1: \"kubectl create clusterrolebinding tiller --clusterrole cluster-admin --serviceaccount=kube-system:tiller\"\r\n",
      "helm2: \"helm init --service-account tiller\"\r\n",
      "helm3: \"script: secure_helm.sh\"\r\n",
      "create_project: \"gcloud projects create {project} --set-as-default\"\r\n",
      "set_project: \"gcloud config set project {project}\"\r\n",
      "set_zone: \"gcloud config set compute/zone {zone}\"\r\n",
      "create: \"gcloud container clusters create {cluster_name} --num-nodes={num_nodes} --machine-type={machine_type}\\\r\n",
      "  \\ --zone={zone}\"\r\n",
      "create_cluster_roll: \"kubectl create clusterrolebinding cluster-admin-binding --clusterrole=cluster-admin\\\r\n",
      "  \\ --user={email}\"\r\n",
      "#create_gpu: \"gcloud container clusters create {cluster_name} --num-nodes={num_nodes} --machine-type={machine_type} --zone={zone} --cluster-version={cluster_version}\"\r\n",
      "get_credentials: \"gcloud container clusters get-credentials {cluster_name}\"\r\n",
      "stop_cluster: \"gcloud container clusters resize {cluster_name} --size=0 --quiet\"\r\n",
      "normal_size: \"gcloud container clusters resize {cluster_name} --size={num_nodes} --quiet\"\r\n",
      "class_size: \"gcloud container clusters resize {cluster_name} --size={num_nodes_class}\\\r\n",
      "  \\ --quiet\"\r\n",
      "delete_cluster: \"gcloud container clusters delete {cluster_name} --zone={zone} --quiet\"\r\n",
      "autoscale: \"gcloud alpha container clusters update {cluster_name} --enable-autoscaling\\\r\n",
      "  \\ --min-nodes={num_nodes} --max-nodes={max_nodes} --zone={zone} --node-pool=default-pool\"\r\n",
      "create_fixedip: \"gcloud compute addresses create {fixedip_namespace} --region={region}\"\r\n",
      "describe_fixedip: \"gcloud compute addresses describe {fixedip_namespace} --region={region}\"\r\n",
      "delete_forwarding_rule: \"gcloud compute forwarding-rules delete forwarding_rule --quiet\"\r\n",
      "delete_fixedip: \"gcloud compute addresses delete {fixedip_namespace} --region={region}\\\r\n",
      "  \\ --quiet\"\r\n",
      "describe_cluster: \"gcloud container clusters describe {cluster_name}\"\r\n",
      "rbac: \"kubectl create clusterrolebinding cluster-admin-binding --clusterrole=cluster-admin\\\r\n",
      "  \\ --user={email}\"\r\n",
      "#End of Google Cloud Platform Commands\r\n"
     ]
    }
   ],
   "source": [
    "!carme cmd gcp-cluster list"
   ]
  },
  {
   "cell_type": "markdown",
   "metadata": {},
   "source": [
    "### View the Configuration"
   ]
  },
  {
   "cell_type": "code",
   "execution_count": 9,
   "metadata": {},
   "outputs": [
    {
     "name": "stdout",
     "output_type": "stream",
     "text": [
      "carme: [INFO] All cmd commands issued from project root directory to ensure relative path consistency.\r\n",
      "carme: [INFO] Running the command: show_config\r\n",
      "carme: [INFO] Template: cat ./config/gcp-cluster.yaml\r\n",
      "carme: [INFO] Command: cat ./config/gcp-cluster.yaml\r\n",
      "Executing show_config:\r\n",
      " cat ./config/gcp-cluster.yaml\r\n",
      "#Start of Google Cluster Configuration\r\n",
      "project: techfunsp2018             #Google project name\r\n",
      "cluster_name: carmecli        #Name of your Google Cluster\r\n",
      "region: us-east1                 #Selection from gcloud compute regions list.\r\n",
      "zone: us-east1-b                  #Selection from gcloud compute regions list.\r\n",
      "machine_type: n1-standard-2        #Type of Server\r\n",
      "cluster_version: 1.8.4-gke.1\r\n",
      "authorization_file: auth.json     #Service account authorization file.\r\n",
      "service_account_name: carme  #Service account name.\r\n",
      "fixedip_namespace: jupyterhub-carme\r\n",
      "num_nodes: 1                      #The default number of nodes (servers)\r\n",
      "num_nodes_class: 3                #The number of nodes when class is in session.\r\n",
      "max_nodes: 4\r\n"
     ]
    }
   ],
   "source": [
    "!carme cmd gcp-cluster show_config $yes"
   ]
  },
  {
   "cell_type": "markdown",
   "metadata": {},
   "source": [
    "### Create Kubernetes Cluster on the Google Cloud Platform (GCP)\n",
    "\n",
    "This notebook can be used to launch a Kubernetes Cluster on the Google Cloud Platform(GCP) using the Google Container Engine (GKE) for Kubernetes.  \n",
    "\n",
    "This assumes you have already installed the carme gcp packages and have reviewed the carme-config.  \n",
    "\n",
    "\n",
    "    "
   ]
  },
  {
   "cell_type": "markdown",
   "metadata": {},
   "source": [
    "### Web Login\n",
    "\n",
    "In order to use the web login, you need to run the command below and then enter the code in the generated web link.  Careful not to commit this code to github repository. \n",
    "\n"
   ]
  },
  {
   "cell_type": "code",
   "execution_count": 10,
   "metadata": {},
   "outputs": [
    {
     "name": "stdout",
     "output_type": "stream",
     "text": [
      "carme: [INFO] All cmd commands issued from project root directory to ensure relative path consistency.\r\n",
      "carme: [INFO] Running the command: login\r\n",
      "carme: [INFO] Template: gcloud auth login\r\n",
      "carme: [INFO] Command: gcloud auth login\r\n"
     ]
    }
   ],
   "source": [
    "#For Google, you need to run this from the command line. \n",
    "!carme cmd gcp-cluster login $dryrun $yes\n"
   ]
  },
  {
   "cell_type": "markdown",
   "metadata": {},
   "source": [
    "### Create Project \n",
    "Google calls them projects.  Azure calles them resource groups. Either way you need one. This useful to track spending and also ensure you delete all resources at the end. \n"
   ]
  },
  {
   "cell_type": "code",
   "execution_count": 11,
   "metadata": {},
   "outputs": [
    {
     "name": "stdout",
     "output_type": "stream",
     "text": [
      "carme: [INFO] All cmd commands issued from project root directory to ensure relative path consistency.\r\n",
      "carme: [INFO] Running the command: create_project\r\n",
      "carme: [INFO] Template: gcloud projects create {project} --set-as-default\r\n",
      "carme: [INFO] Command: gcloud projects create techfunsp2018 --set-as-default\r\n"
     ]
    }
   ],
   "source": [
    "!carme cmd gcp-cluster create_project $dryrun $yes"
   ]
  },
  {
   "cell_type": "markdown",
   "metadata": {},
   "source": [
    "This will set the project. "
   ]
  },
  {
   "cell_type": "code",
   "execution_count": 12,
   "metadata": {},
   "outputs": [
    {
     "name": "stdout",
     "output_type": "stream",
     "text": [
      "carme: [INFO] All cmd commands issued from project root directory to ensure relative path consistency.\r\n",
      "carme: [INFO] Running the command: set_project\r\n",
      "carme: [INFO] Template: gcloud config set project {project}\r\n",
      "carme: [INFO] Command: gcloud config set project techfunsp2018\r\n"
     ]
    }
   ],
   "source": [
    "!carme cmd gcp-cluster set_project $dryrun $yes"
   ]
  },
  {
   "cell_type": "markdown",
   "metadata": {},
   "source": [
    "This will set the zone. "
   ]
  },
  {
   "cell_type": "code",
   "execution_count": 13,
   "metadata": {},
   "outputs": [
    {
     "name": "stdout",
     "output_type": "stream",
     "text": [
      "carme: [INFO] All cmd commands issued from project root directory to ensure relative path consistency.\r\n",
      "carme: [INFO] Running the command: set_zone\r\n",
      "carme: [INFO] Template: gcloud config set compute/zone {zone}\r\n",
      "carme: [INFO] Command: gcloud config set compute/zone us-east1-b\r\n"
     ]
    }
   ],
   "source": [
    "!carme cmd gcp-cluster set_zone $dryrun $yes\n"
   ]
  },
  {
   "cell_type": "markdown",
   "metadata": {},
   "source": [
    "### Create the Cluster\n",
    "This will create your Kubernetes Cluster. You have to wait for about 5 minutes before this finishes creating.\n"
   ]
  },
  {
   "cell_type": "code",
   "execution_count": 15,
   "metadata": {},
   "outputs": [
    {
     "name": "stdout",
     "output_type": "stream",
     "text": [
      "carme: [INFO] All cmd commands issued from project root directory to ensure relative path consistency.\r\n",
      "carme: [INFO] Running the command: create\r\n",
      "carme: [INFO] Template: gcloud container clusters create {cluster_name} --num-nodes={num_nodes} --machine-type={machine_type} --zone={zone}\r\n",
      "carme: [INFO] Command: gcloud container clusters create carmecli --num-nodes=1 --machine-type=n1-standard-2 --zone=us-east1-b\r\n"
     ]
    }
   ],
   "source": [
    "!carme cmd gcp-cluster create $dryrun $yes"
   ]
  },
  {
   "cell_type": "markdown",
   "metadata": {},
   "source": [
    "### WAIT FOR A WHILE\n",
    "This can take up to 10 minutes. \n",
    "\n",
    "If you get an error \".kube/config: No such file or directory\" just wait, it is likely still booting up. \n",
    "\n",
    "### Get Credentials for Kubectl\n",
    "We need to add the credentials for Kubectl to work. You need a bit of time for your Kubernetes to launch."
   ]
  },
  {
   "cell_type": "markdown",
   "metadata": {},
   "source": [
    "### Set Appropriate Permissions"
   ]
  },
  {
   "cell_type": "code",
   "execution_count": 16,
   "metadata": {},
   "outputs": [
    {
     "name": "stdout",
     "output_type": "stream",
     "text": [
      "carme: [INFO] All cmd commands issued from project root directory to ensure relative path consistency.\r\n",
      "carme: [INFO] Running the command: create_cluster_roll\r\n",
      "carme: [INFO] Template: kubectl create clusterrolebinding cluster-admin-binding --clusterrole=cluster-admin --user={email}\r\n",
      "carme: [ERROR] The Key=email is not set in the /config/<command>.yaml file. Please set the key and rerun the command.\r\n"
     ]
    }
   ],
   "source": [
    "!carme cmd gcp-cluster create_cluster_roll $dryrun $yes"
   ]
  },
  {
   "cell_type": "code",
   "execution_count": 3,
   "metadata": {},
   "outputs": [
    {
     "name": "stdout",
     "output_type": "stream",
     "text": [
      "carme: [INFO] Running the command: get_credentials\n",
      "carme: [INFO] Template: gcloud container clusters get-credentials {g_cluster_name}\n",
      "carme: [INFO] Values: gcloud container clusters get-credentials techfunsp2018v2\n",
      "Executing get_credentials:\n",
      " gcloud container clusters get-credentials techfunsp2018v2\n",
      "Fetching cluster endpoint and auth data.\n",
      "kubeconfig entry generated for techfunsp2018v2.\n"
     ]
    }
   ],
   "source": [
    "#gcloud container clusters get-credentials carme\n",
    "!carme cmd gcp-cluster get_credentials $dryrun $yes"
   ]
  },
  {
   "cell_type": "markdown",
   "metadata": {},
   "source": [
    "### Check your Cluster\n",
    "`kubectl` is the default kubernetes command you can use to check out lots of things on your cluster. Go ahead and trying the `cluster info` and `get node` commands below. "
   ]
  },
  {
   "cell_type": "code",
   "execution_count": 4,
   "metadata": {},
   "outputs": [
    {
     "name": "stdout",
     "output_type": "stream",
     "text": [
      "\u001b[0;32mKubernetes master\u001b[0m is running at \u001b[0;33mhttps://35.229.105.53\u001b[0m\n",
      "\u001b[0;32mGLBCDefaultBackend\u001b[0m is running at \u001b[0;33mhttps://35.229.105.53/api/v1/namespaces/kube-system/services/default-http-backend/proxy\u001b[0m\n",
      "\u001b[0;32mHeapster\u001b[0m is running at \u001b[0;33mhttps://35.229.105.53/api/v1/namespaces/kube-system/services/heapster/proxy\u001b[0m\n",
      "\u001b[0;32mKubeDNS\u001b[0m is running at \u001b[0;33mhttps://35.229.105.53/api/v1/namespaces/kube-system/services/kube-dns/proxy\u001b[0m\n",
      "\u001b[0;32mkubernetes-dashboard\u001b[0m is running at \u001b[0;33mhttps://35.229.105.53/api/v1/namespaces/kube-system/services/kubernetes-dashboard/proxy\u001b[0m\n",
      "\n",
      "To further debug and diagnose cluster problems, use 'kubectl cluster-info dump'.\n"
     ]
    }
   ],
   "source": [
    "#Check to see if we have Kubectl working. \n",
    "!kubectl cluster-info\n"
   ]
  },
  {
   "cell_type": "code",
   "execution_count": 13,
   "metadata": {},
   "outputs": [
    {
     "name": "stdout",
     "output_type": "stream",
     "text": [
      "NAME                                           STATUS    ROLES     AGE       VERSION\r\n",
      "gke-techfunsp2018-default-pool-a0e49821-ps26   Ready     <none>    2m        v1.8.8-gke.0\r\n"
     ]
    }
   ],
   "source": [
    "!kubectl get node\n"
   ]
  },
  {
   "cell_type": "markdown",
   "metadata": {},
   "source": [
    "### Helm Installation.  \n",
    "We are going to be utilizing Helm for  installations of a variety of analytics tools.  This command will install Tiller on your cluster.  As they say, \"Happy Helming!\" \n",
    "\n",
    "A critical factor for Helm is that you have the same version running locally and via your machine.  If you run helm version and you have the right version, then you should be fine.\n",
    "\n",
    "```\n",
    "Client: &version.Version{SemVer:\"v2.6.2\", GitCommit:\"be3ae4ea91b2960be98c07e8f73754e67e87963c\", GitTreeState:\"clean\"}\n",
    "Server: &version.Version{SemVer:\"v2.6.2\", GitCommit:\"be3ae4ea91b2960be98c07e8f73754e67e87963c\", GitTreeState:\"clean\"}\n",
    "```\n",
    "\n",
    "To install the appropriate version: \n",
    "\n",
    "```\n",
    "curl https://raw.githubusercontent.com/kubernetes/helm/master/scripts/get > get_helm.sh\n",
    "chmod 700 get_helm.sh\n",
    "RUN get_helm.sh --version v2.6.2\n",
    "\n",
    "```\n"
   ]
  },
  {
   "cell_type": "code",
   "execution_count": 5,
   "metadata": {},
   "outputs": [
    {
     "name": "stdout",
     "output_type": "stream",
     "text": [
      "carme: [INFO] Executing command block install_helm:\n",
      "carme: [INFO] Running the command: install_helm1\n",
      "carme: [INFO] Template: kubectl --namespace kube-system create serviceaccount tiller\n",
      "carme: [INFO] Values: kubectl --namespace kube-system create serviceaccount tiller\n",
      "Executing install_helm1:\n",
      " kubectl --namespace kube-system create serviceaccount tiller\n",
      "serviceaccount \"tiller\" created\n",
      "carme: [INFO] Running the command: install_helm2\n",
      "carme: [INFO] Template: helm init --service-account tiller\n",
      "carme: [INFO] Values: helm init --service-account tiller\n",
      "Executing install_helm2:\n",
      " helm init --service-account tiller\n",
      "$HELM_HOME has been configured at /Users/jasonkuruzovich/.helm.\n",
      "\n",
      "Tiller (the Helm server-side component) has been installed into your Kubernetes Cluster.\n",
      "\n",
      "Please note: by default, Tiller is deployed with an insecure 'allow unauthenticated users' policy.\n",
      "For more information on securing your installation see: https://docs.helm.sh/using_helm/#securing-your-helm-installation\n",
      "Happy Helming!\n",
      "carme: [INFO] Running the command: install_helm3\n",
      "carme: [INFO] Template: helm version\n",
      "carme: [INFO] Values: helm version\n",
      "Executing install_helm3:\n",
      " helm version\n",
      "Client: &version.Version{SemVer:\"v2.8.2\", GitCommit:\"a80231648a1473929271764b920a8e346f6de844\", GitTreeState:\"clean\"}\n",
      "Error: cannot connect to Tiller\n"
     ]
    }
   ],
   "source": [
    "#Verify Versions are equal\n",
    "!carme run install_helm"
   ]
  },
  {
   "cell_type": "markdown",
   "metadata": {},
   "source": [
    "A critical factor for Helm is that you have the same version running locally and via your machine. If you run helm version and you the same versions on the client and sever, you should be fine. \n",
    "\n",
    "*Client: &version.Version{SemVer:\"v2.6.2\", GitCommit:\"be3ae4ea91b2960be98c07e8f73754e67e87963c\", GitTreeState:\"clean\"}*\n",
    "\n",
    "*Server: &version.Version{SemVer:\"v2.6.2\", GitCommit:\"be3ae4ea91b2960be98c07e8f73754e67e87963c\", GitTreeState:\"clean\"}*\n",
    "\n",
    "To install an alternate version, use this: \n",
    "\n",
    "*curl https://raw.githubusercontent.com/kubernetes/helm/master/scripts/get > get_helm.sh*\n",
    "\n",
    "*chmod 700 get_helm.sh*\n",
    "\n",
    "*RUN get_helm.sh --version v2.6.2*"
   ]
  },
  {
   "cell_type": "code",
   "execution_count": 2,
   "metadata": {},
   "outputs": [
    {
     "name": "stdout",
     "output_type": "stream",
     "text": [
      "Client: &version.Version{SemVer:\"v2.8.2\", GitCommit:\"a80231648a1473929271764b920a8e346f6de844\", GitTreeState:\"clean\"}\n",
      "Server: &version.Version{SemVer:\"v2.8.2\", GitCommit:\"a80231648a1473929271764b920a8e346f6de844\", GitTreeState:\"clean\"}\n"
     ]
    }
   ],
   "source": [
    "!helm version\n"
   ]
  },
  {
   "cell_type": "markdown",
   "metadata": {},
   "source": [
    "### Secure Tiller"
   ]
  },
  {
   "cell_type": "code",
   "execution_count": null,
   "metadata": {},
   "outputs": [],
   "source": [
    "!kubectl --namespace=kube-system patch deployment tiller-deploy --type=json --patch='[{\"op\": \"add\", \"path\": \"/spec/template/spec/containers/0/command\", \"value\": [\"/tiller\", \"--listen=localhost:44134\"]}]'"
   ]
  },
  {
   "cell_type": "markdown",
   "metadata": {},
   "source": [
    "### Enabling Autoscaling (optional)\n",
    "\n",
    "This should launch a pod within your kubernetes cluster that will handle autoscaling of the cluster. Note that this seems to take a while and may even timeout. Consider opening and running in a terminal session. "
   ]
  },
  {
   "cell_type": "code",
   "execution_count": null,
   "metadata": {},
   "outputs": [],
   "source": [
    "!carme run autoscale"
   ]
  },
  {
   "cell_type": "code",
   "execution_count": 1,
   "metadata": {},
   "outputs": [
    {
     "name": "stdout",
     "output_type": "stream",
     "text": [
      "carme: [INFO] Running the command: create_fixedip\n",
      "carme: [INFO] Template: gcloud compute addresses create {g_fixedip_namespace} --region={g_region}\n",
      "carme: [INFO] Values: gcloud compute addresses create jupyterhub-kuberlytics --region=us-east1\n",
      "Executing create_fixedip:\n",
      " gcloud compute addresses create jupyterhub-kuberlytics --region=us-east1\n",
      "\u001b[1;31mERROR:\u001b[0m (gcloud.compute.addresses.create) Could not fetch resource:\n",
      " - The resource 'projects/techfunsp2018/regions/us-east1/addresses/jupyterhub-kuberlytics' already exists\n",
      "\n"
     ]
    }
   ],
   "source": [
    "!carme run create_fixedip"
   ]
  },
  {
   "cell_type": "code",
   "execution_count": 2,
   "metadata": {},
   "outputs": [
    {
     "name": "stdout",
     "output_type": "stream",
     "text": [
      "carme: [INFO] Running the command: describe_fixedip\n",
      "carme: [INFO] Template: gcloud compute addresses describe {g_fixedip_namespace} --region={g_region}\n",
      "carme: [INFO] Values: gcloud compute addresses describe jupyterhub-kuberlytics --region=us-east1\n",
      "Executing describe_fixedip:\n",
      " gcloud compute addresses describe jupyterhub-kuberlytics --region=us-east1\n",
      "address: 35.196.37.108\n",
      "creationTimestamp: '2018-04-18T19:56:15.143-07:00'\n",
      "description: ''\n",
      "id: '5136955220960852896'\n",
      "kind: compute#address\n",
      "name: jupyterhub-kuberlytics\n",
      "region: https://www.googleapis.com/compute/v1/projects/techfunsp2018/regions/us-east1\n",
      "selfLink: https://www.googleapis.com/compute/v1/projects/techfunsp2018/regions/us-east1/addresses/jupyterhub-kuberlytics\n",
      "status: RESERVED\n"
     ]
    }
   ],
   "source": [
    "!carme run describe_fixedip"
   ]
  },
  {
   "cell_type": "code",
   "execution_count": null,
   "metadata": {},
   "outputs": [],
   "source": [
    "!carme run describe_fixedip"
   ]
  },
  {
   "cell_type": "markdown",
   "metadata": {},
   "source": [
    "#### That is it! You now have your own Kubernetes cluster that is ready to go. "
   ]
  },
  {
   "cell_type": "markdown",
   "metadata": {},
   "source": [
    "### Resize a Cluster\n"
   ]
  },
  {
   "cell_type": "code",
   "execution_count": 7,
   "metadata": {},
   "outputs": [
    {
     "name": "stdout",
     "output_type": "stream",
     "text": [
      "carme: [INFO] Running the command: class_size\n",
      "carme: [INFO] Template: gcloud container clusters resize {g_cluster_name} --size={g_num_nodes_class} --quiet\n",
      "carme: [INFO] Values: gcloud container clusters resize techfunsp2018v2 --size=2 --quiet\n",
      "Executing class_size:\n",
      " gcloud container clusters resize techfunsp2018v2 --size=2 --quiet\n",
      "Resizing techfunsp2018v2...done.                                               \n",
      "Updated [https://container.googleapis.com/v1/projects/techfunsp2018/zones/us-east1-b/clusters/techfunsp2018v2].\n"
     ]
    }
   ],
   "source": [
    "#Scale the cluster \n",
    "!carme run class_size"
   ]
  },
  {
   "cell_type": "code",
   "execution_count": 4,
   "metadata": {},
   "outputs": [
    {
     "name": "stdout",
     "output_type": "stream",
     "text": [
      "carme: [INFO] Running the command: stop_cluster\n",
      "carme: [INFO] Template: gcloud container clusters resize {g_cluster_name} --size=0 --quiet\n",
      "carme: [INFO] Values: gcloud container clusters resize techfunsp2018 --size=0 --quiet\n",
      "Executing stop_cluster:\n",
      " gcloud container clusters resize techfunsp2018 --size=0 --quiet\n",
      "\u001b[1;31mERROR:\u001b[0m (gcloud.container.clusters.resize) ResponseError: code=404, message=The resource \"projects/techfunsp2018/zones/us-east1-b/clusters/techfunsp2018\" was not found.\n",
      "No cluster named 'techfunsp2018' in techfunsp2018.\n"
     ]
    }
   ],
   "source": [
    "#Stop the cluster, effectively setting the size to 0.\n",
    "!carme run stop_cluster"
   ]
  },
  {
   "cell_type": "code",
   "execution_count": 8,
   "metadata": {},
   "outputs": [
    {
     "name": "stdout",
     "output_type": "stream",
     "text": [
      "carme: [INFO] Running the command: normal_size\n",
      "carme: [INFO] Template: gcloud container clusters resize {g_cluster_name} --size={g_num_nodes} --quiet\n",
      "carme: [INFO] Values: gcloud container clusters resize techfunsp2018v2 --size=1 --quiet\n",
      "Executing normal_size:\n",
      " gcloud container clusters resize techfunsp2018v2 --size=1 --quiet\n",
      "Resizing techfunsp2018v2...done.                                               \n",
      "Updated [https://container.googleapis.com/v1/projects/techfunsp2018/zones/us-east1-b/clusters/techfunsp2018v2].\n"
     ]
    }
   ],
   "source": [
    "#Set the cluster to the normal size.\n",
    "!carme run normal_size"
   ]
  },
  {
   "cell_type": "code",
   "execution_count": 7,
   "metadata": {},
   "outputs": [
    {
     "name": "stdout",
     "output_type": "stream",
     "text": [
      "Resizing carmecli...done.                                                      \n",
      "Updated [https://container.googleapis.com/v1/projects/techfunsp2018/zones/us-east1-b/clusters/carmecli].\n"
     ]
    }
   ],
   "source": [
    "!gcloud container clusters resize carmecli --size=2 --quiet"
   ]
  },
  {
   "cell_type": "markdown",
   "metadata": {},
   "source": [
    "### Deleting a Kubernetes Cluster\n",
    "\n",
    "This will delete the Kubernetes cluster by deleting the entire project. This will prefent any future charges. "
   ]
  },
  {
   "cell_type": "code",
   "execution_count": null,
   "metadata": {},
   "outputs": [],
   "source": [
    "#Always delete the namespace first. \n",
    "!carme cmd delete"
   ]
  },
  {
   "cell_type": "code",
   "execution_count": null,
   "metadata": {},
   "outputs": [],
   "source": []
  }
 ],
 "metadata": {
  "anaconda-cloud": {},
  "kernelspec": {
   "display_name": "Python 3",
   "language": "python",
   "name": "python3"
  },
  "language_info": {
   "codemirror_mode": {
    "name": "ipython",
    "version": 3
   },
   "file_extension": ".py",
   "mimetype": "text/x-python",
   "name": "python",
   "nbconvert_exporter": "python",
   "pygments_lexer": "ipython3",
   "version": "3.6.3"
  }
 },
 "nbformat": 4,
 "nbformat_minor": 2
}
