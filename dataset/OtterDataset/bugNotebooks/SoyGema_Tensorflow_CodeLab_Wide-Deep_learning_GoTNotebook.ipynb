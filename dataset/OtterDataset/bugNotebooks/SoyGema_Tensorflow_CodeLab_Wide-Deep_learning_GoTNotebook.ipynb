{
 "cells": [
  {
   "cell_type": "markdown",
   "metadata": {},
   "source": [
    "Copyright 2016 The TF Codelab Contributors. All Rights Reserved.\n",
    "Copyright 2016 The TensorFlow Authors. All Rights Reserved.\n",
    "http://www.apache.org/licenses/LICENSE-2.0\n",
    "\n",
    "This code was originaflly presented at GDGSpain DevFest.\n",
    "Using character prediction from Tensorflow\n",
    "https://github.com/bigpress/gameofthrones/blob/master/character-predictions.csv\n",
    "\n",
    "Latest version is always available at: https://github.com/codelab-tf-got/code/\n",
    "Codelab test is available at: https://codelab-tf-cot.github.io\n"
   ]
  },
  {
   "cell_type": "markdown",
   "metadata": {},
   "source": [
    "#### Import Python 2-3 compatibility glue, ETL (pandas) and ML (TensorFlow/sklearn) libraries"
   ]
  },
  {
   "cell_type": "code",
   "execution_count": null,
   "metadata": {},
   "outputs": [],
   "source": [
    "from __future__ import absolute_import\n",
    "from __future__ import division\n",
    "from __future__ import print_function\n",
    "\n",
    "import argparse, sys, tempfile"
   ]
  },
  {
   "cell_type": "markdown",
   "metadata": {},
   "source": [
    "#### Import ETL tools (pandas)\n",
    "They can easily be installed following [this guide](https://pandas.pydata.org/pandas-docs/stable/install.html)."
   ]
  },
  {
   "cell_type": "code",
   "execution_count": null,
   "metadata": {},
   "outputs": [],
   "source": [
    "import numpy as np\n",
    "import pandas as pd"
   ]
  },
  {
   "cell_type": "markdown",
   "metadata": {},
   "source": [
    "#### Import Machine Learning tools (TensorFlow)\n",
    "This must be installed as is explained in the codelab"
   ]
  },
  {
   "cell_type": "code",
   "execution_count": null,
   "metadata": {},
   "outputs": [],
   "source": [
    "import tensorflow as tf\n",
    "from tensorflow.contrib.learn.python.learn import learn_runner\n",
    "from tensorflow.contrib.learn.python.learn.datasets import base\n",
    "from tensorflow.contrib.learn.python.learn.utils import input_fn_utils\n",
    "from tensorflow.contrib.learn.python.learn.utils import saved_model_export_utils\n"
   ]
  },
  {
   "cell_type": "markdown",
   "metadata": {},
   "source": [
    "#### Import Sklearn to split the train/test cases\n",
    "To install it, you can follow [this guide](https://www.scipy.org/install.html) (SciPy) and [this other](http://scikit-learn.org/stable/install.html) one (Scikit-Learn). You might have to restart Jupyter after this installation."
   ]
  },
  {
   "cell_type": "code",
   "execution_count": null,
   "metadata": {},
   "outputs": [],
   "source": [
    "from sklearn import model_selection "
   ]
  },
  {
   "cell_type": "markdown",
   "metadata": {},
   "source": [
    "#### Uncomment the logging lines to see logs in the console to get to know better what this code does."
   ]
  },
  {
   "cell_type": "code",
   "execution_count": null,
   "metadata": {},
   "outputs": [],
   "source": [
    "import logging\n",
    "logger = logging.getLogger('net_mk1')\n",
    "# logger.setLevel(logging.DEBUG)\n",
    "# ch = logging.StreamHandler()\n",
    "# ch.setLevel(logging.DEBUG)\n",
    "# formatter = logging.Formatter('%(asctime)s - %(name)s - %(levelname)s - %(message)s')\n",
    "# ch.setFormatter(formatter)\n",
    "# logger.addHandler(ch)\n",
    "## End set up logging\n",
    "\n",
    "\n",
    "# Stop tensorflow from getting chatty with us\n",
    "tf.logging.set_verbosity(tf.logging.ERROR)\n",
    "# tf.logging.set_verbosity(tf.logging.WARN)\n",
    "# tf.logging.set_verbosity(tf.logging.INFO)\n",
    "\n",
    "FLAGS = None"
   ]
  },
  {
   "cell_type": "markdown",
   "metadata": {},
   "source": [
    "#### Let's define some auxiliary functions:"
   ]
  },
  {
   "cell_type": "markdown",
   "metadata": {},
   "source": [
    "Helper to filter elements not already on the haystack in O(n)"
   ]
  },
  {
   "cell_type": "code",
   "execution_count": null,
   "metadata": {},
   "outputs": [],
   "source": [
    "def only_existing(l, haystack):\n",
    "  s = set(haystack)\n",
    "  return [item for item in l if item in s]"
   ]
  },
  {
   "cell_type": "markdown",
   "metadata": {},
   "source": [
    "Downloads a dataset for this codelab. Change the **local_path** if you want to store your dataset elsewhere from *'../dataset'* .The buckets here are managed by @ssice."
   ]
  },
  {
   "cell_type": "code",
   "execution_count": null,
   "metadata": {},
   "outputs": [],
   "source": [
    "def get_dataset(filename, local_path='../dataset'):    \n",
    "  gcs_base = 'https://storage.googleapis.com/'\n",
    "  gcs_path = 'codelab-got.appspot.com/dataset/'\n",
    "  return base.maybe_download(\n",
    "    filename, local_path, gcs_base + gcs_path + filename\n",
    "  )"
   ]
  },
  {
   "cell_type": "markdown",
   "metadata": {},
   "source": [
    "#### Download the dataset"
   ]
  },
  {
   "cell_type": "code",
   "execution_count": null,
   "metadata": {},
   "outputs": [],
   "source": [
    "dataset_file_name = get_dataset('character-predictions.csv', '../dataset')"
   ]
  },
  {
   "cell_type": "markdown",
   "metadata": {},
   "source": [
    "#### The columns in the dataset are the following:"
   ]
  },
  {
   "cell_type": "code",
   "execution_count": null,
   "metadata": {},
   "outputs": [],
   "source": [
    "\n",
    "COLUMNS = 'S.No,actual,pred,alive,plod,name,title,male,culture,dateOfBirth,mother,father,heir,house,spouse,book1,book2,book3,book4,book5,isAliveMother,isAliveFather,isAliveHeir,isAliveSpouse,isMarried,isNoble,age,numDeadRelations,boolDeadRelations,isPopular,popularity,isAlive'.split(',')"
   ]
  },
  {
   "cell_type": "markdown",
   "metadata": {},
   "source": [
    "#### Target column is the actual isAlive variable"
   ]
  },
  {
   "cell_type": "code",
   "execution_count": null,
   "metadata": {},
   "outputs": [],
   "source": [
    "LABEL_COLUMN = 'isAlive'"
   ]
  },
  {
   "cell_type": "markdown",
   "metadata": {},
   "source": [
    "#### We get the rest of columns and divide them in categorical, binary and continuous columns"
   ]
  },
  {
   "cell_type": "code",
   "execution_count": null,
   "metadata": {},
   "outputs": [],
   "source": [
    "CATEGORICAL_COLUMN_NAMES = only_existing([\n",
    "    'male',\n",
    "    'culture',\n",
    "    'mother',\n",
    "    'father',\n",
    "    'title',\n",
    "    'heir',\n",
    "    'house',\n",
    "    'spouse',\n",
    "    'numDeadRelations',\n",
    "    'boolDeadRelations',\n",
    "], COLUMNS)\n",
    "\n",
    "BINARY_COLUMNS = only_existing([\n",
    "    'book1',\n",
    "    'book2',\n",
    "    'book3',\n",
    "    'book4',\n",
    "    'book5',\n",
    "    'isAliveMother',\n",
    "    'isAliveFather',\n",
    "    'isAliveHeir',\n",
    "    'isAliveSpouse',\n",
    "    'isMarried',\n",
    "    'isNoble',\n",
    "    'isPopular',\n",
    "], COLUMNS)\n",
    "\n",
    "CONTINUOUS_COLUMNS = only_existing([\n",
    "  'age',\n",
    "  'popularity',\n",
    "  'dateOfBirth',\n",
    "], COLUMNS)"
   ]
  },
  {
   "cell_type": "markdown",
   "metadata": {},
   "source": [
    "#### We also divide the columns in features or just unused."
   ]
  },
  {
   "cell_type": "code",
   "execution_count": 31,
   "metadata": {
    "scrolled": true
   },
   "outputs": [
    {
     "name": "stdout",
     "output_type": "stream",
     "text": [
      "We are using the feature colums: ['title', 'male', 'culture', 'dateOfBirth', 'mother', 'father', 'heir', 'house', 'spouse', 'book1', 'book2', 'book3', 'book4', 'book5', 'isAliveMother', 'isAliveFather', 'isAliveHeir', 'isAliveSpouse', 'isMarried', 'isNoble', 'age', 'numDeadRelations', 'boolDeadRelations', 'isPopular', 'popularity'] \n",
      "\n",
      "We are not using columns: ['S.No', 'actual', 'pred', 'alive', 'plod', 'name']\n"
     ]
    }
   ],
   "source": [
    "FEATURE_COLUMNS = [\n",
    "  col for col in COLUMNS\n",
    "  if col in CONTINUOUS_COLUMNS \\\n",
    "  or col in BINARY_COLUMNS \\\n",
    "  or col in CATEGORICAL_COLUMN_NAMES\n",
    "]\n",
    "\n",
    "UNUSED_COLUMNS = [\n",
    "  col\n",
    "  for col in COLUMNS\n",
    "  if col != LABEL_COLUMN \\\n",
    "  and col not in FEATURE_COLUMNS\n",
    "]\n",
    "\n",
    "print(\"We are using the feature colums: %s \\n\" % FEATURE_COLUMNS)\n",
    "print(\"We are not using columns: %s\" % UNUSED_COLUMNS)"
   ]
  },
  {
   "cell_type": "markdown",
   "metadata": {},
   "source": [
    "#### Load the base dataframe"
   ]
  },
  {
   "cell_type": "code",
   "execution_count": 30,
   "metadata": {},
   "outputs": [
    {
     "data": {
      "text/html": [
       "<div>\n",
       "<style scoped>\n",
       "    .dataframe tbody tr th:only-of-type {\n",
       "        vertical-align: middle;\n",
       "    }\n",
       "\n",
       "    .dataframe tbody tr th {\n",
       "        vertical-align: top;\n",
       "    }\n",
       "\n",
       "    .dataframe thead th {\n",
       "        text-align: right;\n",
       "    }\n",
       "</style>\n",
       "<table border=\"1\" class=\"dataframe\">\n",
       "  <thead>\n",
       "    <tr style=\"text-align: right;\">\n",
       "      <th></th>\n",
       "      <th>S.No</th>\n",
       "      <th>actual</th>\n",
       "      <th>pred</th>\n",
       "      <th>alive</th>\n",
       "      <th>plod</th>\n",
       "      <th>name</th>\n",
       "      <th>title</th>\n",
       "      <th>male</th>\n",
       "      <th>culture</th>\n",
       "      <th>dateOfBirth</th>\n",
       "      <th>...</th>\n",
       "      <th>isAliveHeir</th>\n",
       "      <th>isAliveSpouse</th>\n",
       "      <th>isMarried</th>\n",
       "      <th>isNoble</th>\n",
       "      <th>age</th>\n",
       "      <th>numDeadRelations</th>\n",
       "      <th>boolDeadRelations</th>\n",
       "      <th>isPopular</th>\n",
       "      <th>popularity</th>\n",
       "      <th>isAlive</th>\n",
       "    </tr>\n",
       "  </thead>\n",
       "  <tbody>\n",
       "    <tr>\n",
       "      <th>1</th>\n",
       "      <td>0</td>\n",
       "      <td>0</td>\n",
       "      <td>0.054</td>\n",
       "      <td>0.946</td>\n",
       "      <td>Viserys II Targaryen</td>\n",
       "      <td>NaN</td>\n",
       "      <td>1</td>\n",
       "      <td>NaN</td>\n",
       "      <td>NaN</td>\n",
       "      <td>NaN</td>\n",
       "      <td>...</td>\n",
       "      <td>0.0</td>\n",
       "      <td>NaN</td>\n",
       "      <td>0</td>\n",
       "      <td>0</td>\n",
       "      <td>NaN</td>\n",
       "      <td>11</td>\n",
       "      <td>1</td>\n",
       "      <td>1</td>\n",
       "      <td>0.605351</td>\n",
       "      <td>0</td>\n",
       "    </tr>\n",
       "    <tr>\n",
       "      <th>2</th>\n",
       "      <td>1</td>\n",
       "      <td>0</td>\n",
       "      <td>0.387</td>\n",
       "      <td>0.613</td>\n",
       "      <td>Walder Frey</td>\n",
       "      <td>Lord of the Crossing</td>\n",
       "      <td>1</td>\n",
       "      <td>Rivermen</td>\n",
       "      <td>208.0</td>\n",
       "      <td>NaN</td>\n",
       "      <td>...</td>\n",
       "      <td>NaN</td>\n",
       "      <td>1.0</td>\n",
       "      <td>1</td>\n",
       "      <td>1</td>\n",
       "      <td>97.0</td>\n",
       "      <td>1</td>\n",
       "      <td>1</td>\n",
       "      <td>1</td>\n",
       "      <td>0.896321</td>\n",
       "      <td>1</td>\n",
       "    </tr>\n",
       "    <tr>\n",
       "      <th>3</th>\n",
       "      <td>1</td>\n",
       "      <td>0</td>\n",
       "      <td>0.493</td>\n",
       "      <td>0.507</td>\n",
       "      <td>Addison Hill</td>\n",
       "      <td>Ser</td>\n",
       "      <td>1</td>\n",
       "      <td>NaN</td>\n",
       "      <td>NaN</td>\n",
       "      <td>NaN</td>\n",
       "      <td>...</td>\n",
       "      <td>NaN</td>\n",
       "      <td>NaN</td>\n",
       "      <td>0</td>\n",
       "      <td>1</td>\n",
       "      <td>NaN</td>\n",
       "      <td>0</td>\n",
       "      <td>0</td>\n",
       "      <td>0</td>\n",
       "      <td>0.267559</td>\n",
       "      <td>1</td>\n",
       "    </tr>\n",
       "    <tr>\n",
       "      <th>4</th>\n",
       "      <td>0</td>\n",
       "      <td>0</td>\n",
       "      <td>0.076</td>\n",
       "      <td>0.924</td>\n",
       "      <td>Aemma Arryn</td>\n",
       "      <td>Queen</td>\n",
       "      <td>0</td>\n",
       "      <td>NaN</td>\n",
       "      <td>82.0</td>\n",
       "      <td>105.0</td>\n",
       "      <td>...</td>\n",
       "      <td>NaN</td>\n",
       "      <td>0.0</td>\n",
       "      <td>1</td>\n",
       "      <td>1</td>\n",
       "      <td>23.0</td>\n",
       "      <td>0</td>\n",
       "      <td>0</td>\n",
       "      <td>0</td>\n",
       "      <td>0.183946</td>\n",
       "      <td>0</td>\n",
       "    </tr>\n",
       "    <tr>\n",
       "      <th>5</th>\n",
       "      <td>1</td>\n",
       "      <td>1</td>\n",
       "      <td>0.617</td>\n",
       "      <td>0.383</td>\n",
       "      <td>Sylva Santagar</td>\n",
       "      <td>Greenstone</td>\n",
       "      <td>0</td>\n",
       "      <td>Dornish</td>\n",
       "      <td>276.0</td>\n",
       "      <td>NaN</td>\n",
       "      <td>...</td>\n",
       "      <td>NaN</td>\n",
       "      <td>1.0</td>\n",
       "      <td>1</td>\n",
       "      <td>1</td>\n",
       "      <td>29.0</td>\n",
       "      <td>0</td>\n",
       "      <td>0</td>\n",
       "      <td>0</td>\n",
       "      <td>0.043478</td>\n",
       "      <td>1</td>\n",
       "    </tr>\n",
       "  </tbody>\n",
       "</table>\n",
       "<p>5 rows × 32 columns</p>\n",
       "</div>"
      ],
      "text/plain": [
       "   S.No  actual   pred  alive                  plod                  name  \\\n",
       "1     0       0  0.054  0.946  Viserys II Targaryen                   NaN   \n",
       "2     1       0  0.387  0.613           Walder Frey  Lord of the Crossing   \n",
       "3     1       0  0.493  0.507          Addison Hill                   Ser   \n",
       "4     0       0  0.076  0.924           Aemma Arryn                 Queen   \n",
       "5     1       1  0.617  0.383        Sylva Santagar            Greenstone   \n",
       "\n",
       "   title      male  culture  dateOfBirth   ...    isAliveHeir isAliveSpouse  \\\n",
       "1      1       NaN      NaN          NaN   ...            0.0           NaN   \n",
       "2      1  Rivermen    208.0          NaN   ...            NaN           1.0   \n",
       "3      1       NaN      NaN          NaN   ...            NaN           NaN   \n",
       "4      0       NaN     82.0        105.0   ...            NaN           0.0   \n",
       "5      0   Dornish    276.0          NaN   ...            NaN           1.0   \n",
       "\n",
       "  isMarried isNoble   age  numDeadRelations  boolDeadRelations  isPopular  \\\n",
       "1         0       0   NaN                11                  1          1   \n",
       "2         1       1  97.0                 1                  1          1   \n",
       "3         0       1   NaN                 0                  0          0   \n",
       "4         1       1  23.0                 0                  0          0   \n",
       "5         1       1  29.0                 0                  0          0   \n",
       "\n",
       "   popularity  isAlive  \n",
       "1    0.605351        0  \n",
       "2    0.896321        1  \n",
       "3    0.267559        1  \n",
       "4    0.183946        0  \n",
       "5    0.043478        1  \n",
       "\n",
       "[5 rows x 32 columns]"
      ]
     },
     "execution_count": 30,
     "metadata": {},
     "output_type": "execute_result"
    }
   ],
   "source": [
    "# Load the base dataframe\n",
    "df_base = pd.read_csv(dataset_file_name, sep=',', names=COLUMNS, skipinitialspace=True, skiprows=1)\n",
    "df_base.head()"
   ]
  },
  {
   "cell_type": "markdown",
   "metadata": {},
   "source": [
    "#### We re-type the binary columns so that they are strings"
   ]
  },
  {
   "cell_type": "code",
   "execution_count": null,
   "metadata": {},
   "outputs": [],
   "source": [
    "# We re-type the binary columns so that they are strings\n",
    "for col in BINARY_COLUMNS:\n",
    "  df_base[col] = df_base[col].astype(str)"
   ]
  },
  {
   "cell_type": "markdown",
   "metadata": {},
   "source": [
    "#### We get, for each categorical column, the number of unique elements it has"
   ]
  },
  {
   "cell_type": "code",
   "execution_count": null,
   "metadata": {},
   "outputs": [],
   "source": [
    "# We get, for each categorical column, the number of unique elements\n",
    "# it has.\n",
    "CATEGORICAL_COLUMNS = {\n",
    "    col: len(df_base[col].unique()) + 1\n",
    "    for col in CATEGORICAL_COLUMN_NAMES\n",
    "}"
   ]
  },
  {
   "cell_type": "code",
   "execution_count": null,
   "metadata": {},
   "outputs": [],
   "source": [
    "# preset_deep_columns = [tf.contrib.layers.real_valued_column('age', ion=1, dtype=tf.int32)]\n",
    "preset_deep_columns = []"
   ]
  },
  {
   "cell_type": "markdown",
   "metadata": {},
   "source": [
    "#### Obtains the deep columns of the model. \n",
    "In our model, these are the binary columns (which are embedded with keys \"0\" and \"1\") and the categorical columns, which are embedded as 8-dimensional sparse columns in hash buckets."
   ]
  },
  {
   "cell_type": "code",
   "execution_count": null,
   "metadata": {},
   "outputs": [],
   "source": [
    "def get_deep_columns():\n",
    "\n",
    "  cc_input_var = {}\n",
    "  cc_embed_var = {}\n",
    "  cols = preset_deep_columns\n",
    "\n",
    "  for cc in BINARY_COLUMNS:\n",
    "    cols.append(\n",
    "      tf.contrib.layers.embedding_column(\n",
    "          tf.contrib.layers.sparse_column_with_keys(\n",
    "            column_name=cc,\n",
    "            keys=[\"0\", \"1\"],\n",
    "          ),\n",
    "        dimension=8)\n",
    "    )\n",
    "\n",
    "  for cc, cc_size in CATEGORICAL_COLUMNS.items():\n",
    "    cc_input_var[cc] = tf.contrib.layers.embedding_column(\n",
    "      tf.contrib.layers.sparse_column_with_hash_bucket(\n",
    "        cc,\n",
    "        hash_bucket_size=cc_size,\n",
    "      ),\n",
    "      dimension=8\n",
    "    )\n",
    "\n",
    "    cols.append(cc_input_var[cc])\n",
    "\n",
    "  for column in CONTINUOUS_COLUMNS:\n",
    "    cols.append(tf.contrib.layers.real_valued_column(column, dimension=1, dtype=tf.float32))\n",
    "\n",
    "  return cols"
   ]
  },
  {
   "cell_type": "markdown",
   "metadata": {},
   "source": [
    "#### Get wide columns for our model.\n",
    "In this case, wide columns are just the continuous columns."
   ]
  },
  {
   "cell_type": "code",
   "execution_count": null,
   "metadata": {},
   "outputs": [],
   "source": [
    "def get_wide_columns():\n",
    "  cols = []\n",
    "  for column in CONTINUOUS_COLUMNS:\n",
    "    cols.append(tf.contrib.layers.real_valued_column(column, dimension=1, dtype=tf.float32))\n",
    "\n",
    "  logger.info(\"Got wide columns %s\", cols)\n",
    "  return cols"
   ]
  },
  {
   "cell_type": "markdown",
   "metadata": {},
   "source": [
    "#### General estimator builder function.\n",
    "The wide/deep part construction is below. This gathers both parts and joins the model into a single classifier."
   ]
  },
  {
   "cell_type": "code",
   "execution_count": null,
   "metadata": {},
   "outputs": [],
   "source": [
    "def build_estimator(model_dir):\n",
    "  wide_columns = get_wide_columns()\n",
    "  deep_columns = get_deep_columns()\n",
    "\n",
    "  if FLAGS.model_type == \"wide\":\n",
    "    m = tf.contrib.learn.LinearClassifier(model_dir=model_dir,\n",
    "                                          feature_columns=wide_columns)\n",
    "  elif FLAGS.model_type == \"deep\":\n",
    "    m = tf.contrib.learn.DNNClassifier(model_dir=model_dir,\n",
    "                                       feature_columns=deep_columns,\n",
    "                                       hidden_units=[100, 50])\n",
    "  else:\n",
    "    m = tf.contrib.learn.DNNLinearCombinedClassifier(\n",
    "      model_dir=model_dir,\n",
    "      linear_feature_columns=wide_columns,\n",
    "      linear_optimizer=None, ## WATCH: Linear optimizer. By default, FTRL\n",
    "      dnn_feature_columns=deep_columns,\n",
    "      dnn_activation_fn=None, ## WATCH: Activation function for DNN (default: relu)\n",
    "      dnn_hidden_units=[100, 50], ## WATCH: Hidden units for the DNN part\n",
    "      dnn_dropout=None, ## WATCH: Dropout for the DNN\n",
    "      dnn_optimizer=None, ## WATCH: Optimizer for DNN (Adagrad by default)\n",
    "      fix_global_step_increment_bug = True,\n",
    "    )\n",
    "  return m"
   ]
  },
  {
   "cell_type": "markdown",
   "metadata": {},
   "source": [
    "  #### Input builder function"
   ]
  },
  {
   "cell_type": "code",
   "execution_count": null,
   "metadata": {},
   "outputs": [],
   "source": [
    "def generate_input_fn(df):\n",
    "  def _input_fn():\n",
    "    # Creates a dictionary mapping from each continuous feature column name (k) to\n",
    "    # the values of that column stored in a constant Tensor.\n",
    "    continuous_cols = {k: tf.constant(df[k].values) for k in CONTINUOUS_COLUMNS}\n",
    "\n",
    "    # Creates a dictionary mapping from each categorical feature column name (k)\n",
    "    # to the values of that column stored in a tf.SparseTensor.\n",
    "    categorical_cols = {\n",
    "      k: tf.SparseTensor(indices=[[i, 0] for i in range(df[k].size)],\n",
    "                         values=df[k].values,\n",
    "                         dense_shape=[df[k].size, 1])\n",
    "      for k in (list(CATEGORICAL_COLUMNS.keys()) + BINARY_COLUMNS)\n",
    "    }\n",
    "\n",
    "    # Merges the two dictionaries into one.\n",
    "    feature_cols = dict(continuous_cols)\n",
    "    feature_cols.update(categorical_cols)\n",
    "\n",
    "    # Converts the label column into a constant Tensor.\n",
    "    label = tf.constant(df[LABEL_COLUMN].values)\n",
    "\n",
    "    # Returns the feature columns and the label.\n",
    "    return feature_cols, label\n",
    "  return _input_fn"
   ]
  },
  {
   "cell_type": "markdown",
   "metadata": {},
   "source": [
    "#### Return the type of each column"
   ]
  },
  {
   "cell_type": "code",
   "execution_count": null,
   "metadata": {},
   "outputs": [],
   "source": [
    "def column_to_dtype(column):\n",
    "  if column == LABEL_COLUMN:\n",
    "    return tf.int32\n",
    "  if column in CATEGORICAL_COLUMNS \\\n",
    "     or column in BINARY_COLUMNS:\n",
    "    return tf.string\n",
    "  else:\n",
    "    return tf.float32"
   ]
  },
  {
   "cell_type": "code",
   "execution_count": null,
   "metadata": {},
   "outputs": [],
   "source": [
    "def serving_input_fn():\n",
    "  feature_placeholders = {\n",
    "    column: tf.placeholder(column_to_dtype(column), [None])\n",
    "    for column in FEATURE_COLUMNS\n",
    "  }\n",
    "\n",
    "  features = {\n",
    "    key: tf.expand_dims(tensor, -1)\n",
    "    for key, tensor in feature_placeholders.items()\n",
    "  }\n",
    "\n",
    "  return input_fn_utils.InputFnOps(\n",
    "    features,\n",
    "    None,\n",
    "    feature_placeholders\n",
    "  )"
   ]
  },
  {
   "cell_type": "code",
   "execution_count": null,
   "metadata": {},
   "outputs": [],
   "source": [
    "def generate_experiment(output_dir, df_train, df_test):\n",
    "  def _experiment_fn(output_dir):\n",
    "    my_model = build_estimator(output_dir)\n",
    "    experiment = tf.contrib.learn.Experiment(\n",
    "      my_model,\n",
    "      train_input_fn=generate_input_fn(df_train),\n",
    "      eval_input_fn=generate_input_fn(df_test),\n",
    "      train_steps=FLAGS.steps,\n",
    "      export_strategies=[saved_model_export_utils.make_export_strategy(\n",
    "        serving_input_fn,\n",
    "        default_output_alternative_key=None\n",
    "      )]\n",
    "    )\n",
    "    return experiment\n",
    "  return _experiment_fn\n",
    "      "
   ]
  },
  {
   "cell_type": "markdown",
   "metadata": {},
   "source": [
    "#### Fill with a NaN element of the correct type to have a valid label to use in the neuron pipeline"
   ]
  },
  {
   "cell_type": "code",
   "execution_count": null,
   "metadata": {},
   "outputs": [],
   "source": [
    "def fill_dataframe(df_base):\n",
    "  for col in CATEGORICAL_COLUMN_NAMES:\n",
    "    df_base[col] = np.where(df_base[col].isnull(), 'NULL', df_base[col])\n",
    "  for col in BINARY_COLUMNS:\n",
    "    df_base[col] = np.where(df_base[col].isnull(), \"0\", df_base[col])\n",
    "  for col in CONTINUOUS_COLUMNS:\n",
    "    df_base[col] = np.where(df_base[col].isnull(), 0., df_base[col])\n",
    "\n",
    "  for col in UNUSED_COLUMNS:\n",
    "    df_base[col] = np.where(df_base[col].isnull(), 0, df_base[col])"
   ]
  },
  {
   "cell_type": "markdown",
   "metadata": {},
   "source": [
    "#### Train and evaluate the model."
   ]
  },
  {
   "cell_type": "code",
   "execution_count": null,
   "metadata": {},
   "outputs": [],
   "source": [
    "def train_and_eval(job_dir=None):\n",
    "  fill_dataframe(df_base)\n",
    "  logger.debug(\"Number of columns after removing nulls: %d (before: %d)\",\n",
    "               len(df_base.dropna(how='any', axis=0)),\n",
    "               len(df_base))\n",
    "\n",
    "  df_base[LABEL_COLUMN] = (\n",
    "      df_base[LABEL_COLUMN].apply(lambda x: x)).astype(int)\n",
    "\n",
    "  df_train, df_test = model_selection.train_test_split(df_base, test_size=0.2, random_state=42)\n",
    "\n",
    "  model_dir = tempfile.mkdtemp() if not FLAGS.model_dir else FLAGS.model_dir\n",
    "  print(\"model directory = %s\" % model_dir)\n",
    "\n",
    "  if FLAGS.training_mode == 'manual':\n",
    "    m = build_estimator(model_dir)\n",
    "    m.fit(\n",
    "      input_fn=lambda: input_fn(df_train),\n",
    "      steps=FLAGS.steps\n",
    "    )\n",
    "    results = m.evaluate(input_fn=lambda: input_fn(df_test), steps=1)\n",
    "    for key in sorted(results):\n",
    "      print(\"%s: %s\" % (key, results[key]))\n",
    "\n",
    "  elif FLAGS.training_mode == 'learn_runner':\n",
    "    experiment_fn = generate_experiment(\n",
    "      model_dir, df_train, df_test\n",
    "    )\n",
    "\n",
    "    metrics, output_folder = learn_runner.run(experiment_fn, model_dir)\n",
    "    for key in sorted(metrics):\n",
    "      print(\"%s: %s\" % (key, metrics[key]))\n",
    "    print('Model exported to {}'.format(output_folder))"
   ]
  },
  {
   "cell_type": "markdown",
   "metadata": {},
   "source": [
    "#### Main function"
   ]
  },
  {
   "cell_type": "code",
   "execution_count": null,
   "metadata": {},
   "outputs": [],
   "source": [
    "def main(_):\n",
    "  train_and_eval()\n",
    "\n",
    "\n",
    "if __name__ == \"__main__\":\n",
    "  parser = argparse.ArgumentParser()\n",
    "  parser.add_argument(\n",
    "    \"--training_mode\",\n",
    "    type=str,\n",
    "    default=\"learn_runner\",\n",
    "    help=\"Mode to use for training (learn_runner or manual).\",\n",
    "  )\n",
    "  parser.add_argument(\n",
    "    \"--model_dir\",\n",
    "    type=str,\n",
    "    default=\"\",\n",
    "    help=\"Base directory for output models.\",\n",
    "  )\n",
    "  parser.add_argument(\n",
    "    \"--model_type\",\n",
    "    type=str,\n",
    "    default=\"wide_n_deep\",\n",
    "    help=\"Valid model types: {'wide', 'deep', 'wide_n_deep'}.\",\n",
    "  )\n",
    "  parser.add_argument(\n",
    "    \"--steps\",\n",
    "    type=int,\n",
    "    default=200,\n",
    "    help=\"Number of training steps.\",\n",
    "  )\n",
    "\n",
    "  FLAGS, unparsed = parser.parse_known_args()\n",
    "  tf.app.run(main=main, argv=[sys.argv[0]] + unparsed)"
   ]
  },
  {
   "cell_type": "code",
   "execution_count": null,
   "metadata": {},
   "outputs": [],
   "source": []
  }
 ],
 "metadata": {
  "kernelspec": {
   "display_name": "Python 3",
   "language": "python",
   "name": "python3"
  },
  "language_info": {
   "codemirror_mode": {
    "name": "ipython",
    "version": 2
   },
   "file_extension": ".py",
   "mimetype": "text/x-python",
   "name": "python",
   "nbconvert_exporter": "python",
   "pygments_lexer": "ipython2",
   "version": "2.7.12"
  }
 },
 "nbformat": 4,
 "nbformat_minor": 2
}
