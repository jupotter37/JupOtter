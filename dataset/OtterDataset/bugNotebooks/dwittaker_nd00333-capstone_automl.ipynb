{
  "cells": [
    {
      "cell_type": "markdown",
      "source": [
        "# Automated ML\n",
        "\n",
        "TODO: Import Dependencies. In the cell below, import all the dependencies that you will need to complete the project."
      ],
      "metadata": {}
    },
    {
      "cell_type": "code",
      "source": [
        "import logging\n",
        "import os\n",
        "import csv\n",
        "import json\n",
        "import requests\n",
        "import time\n",
        "import shutil\n",
        "\n",
        "from pprint import pprint\n",
        "\n",
        "from matplotlib import pyplot as plt\n",
        "import numpy as np\n",
        "import pandas as pd\n",
        "from sklearn import datasets\n",
        "import pkg_resources\n",
        "\n",
        "import azureml.core\n",
        "# Check core SDK version number\n",
        "print(\"SDK version:\", azureml.core.VERSION)\n",
        "\n",
        "from azureml.core.workspace import Workspace\n",
        "from azureml.core.dataset import Dataset\n",
        "\n",
        "from azureml.core.compute import AmlCompute\n",
        "from azureml.core.compute import ComputeTarget\n",
        "from azureml.core.compute_target import ComputeTargetException\n",
        "\n",
        "from azureml.core.experiment import Experiment\n",
        "from azureml.train.automl import AutoMLConfig\n",
        "from azureml.train.automl.run import AutoMLRun\n",
        "from azureml.pipeline.steps import AutoMLStep\n",
        "from azureml.widgets import RunDetails\n",
        "\n",
        "from azureml.interpret import ExplanationClient\n",
        "from azureml.core.environment import Environment\n",
        "from azureml.core.model import InferenceConfig, Model\n",
        "from azureml.core.webservice import AciWebservice, Webservice\n",
        "from azureml.core.conda_dependencies import CondaDependencies\n",
        "\n",
        "#Used to import kaggle data\n",
        "!pip install opendatasets\n",
        "import opendatasets as od\n"
      ],
      "outputs": [
        {
          "output_type": "stream",
          "name": "stdout",
          "text": "SDK version: 1.34.0\nRequirement already satisfied: opendatasets in /anaconda/envs/azureml_py36/lib/python3.6/site-packages (0.1.20)\nRequirement already satisfied: click in /anaconda/envs/azureml_py36/lib/python3.6/site-packages (from opendatasets) (8.0.1)\nRequirement already satisfied: tqdm in /anaconda/envs/azureml_py36/lib/python3.6/site-packages (from opendatasets) (4.62.2)\nRequirement already satisfied: kaggle in /anaconda/envs/azureml_py36/lib/python3.6/site-packages (from opendatasets) (1.5.12)\nRequirement already satisfied: importlib-metadata; python_version < \"3.8\" in /anaconda/envs/azureml_py36/lib/python3.6/site-packages (from click->opendatasets) (4.8.1)\nRequirement already satisfied: certifi in /anaconda/envs/azureml_py36/lib/python3.6/site-packages (from kaggle->opendatasets) (2021.5.30)\nRequirement already satisfied: requests in /anaconda/envs/azureml_py36/lib/python3.6/site-packages (from kaggle->opendatasets) (2.26.0)\nRequirement already satisfied: urllib3 in /anaconda/envs/azureml_py36/lib/python3.6/site-packages (from kaggle->opendatasets) (1.25.11)\nRequirement already satisfied: six>=1.10 in /anaconda/envs/azureml_py36/lib/python3.6/site-packages (from kaggle->opendatasets) (1.16.0)\nRequirement already satisfied: python-dateutil in /anaconda/envs/azureml_py36/lib/python3.6/site-packages (from kaggle->opendatasets) (2.8.2)\nRequirement already satisfied: python-slugify in /anaconda/envs/azureml_py36/lib/python3.6/site-packages (from kaggle->opendatasets) (5.0.2)\nRequirement already satisfied: typing-extensions>=3.6.4; python_version < \"3.8\" in /anaconda/envs/azureml_py36/lib/python3.6/site-packages (from importlib-metadata; python_version < \"3.8\"->click->opendatasets) (3.10.0.2)\nRequirement already satisfied: zipp>=0.5 in /anaconda/envs/azureml_py36/lib/python3.6/site-packages (from importlib-metadata; python_version < \"3.8\"->click->opendatasets) (3.5.0)\nRequirement already satisfied: idna<4,>=2.5; python_version >= \"3\" in /anaconda/envs/azureml_py36/lib/python3.6/site-packages (from requests->kaggle->opendatasets) (3.2)\nRequirement already satisfied: charset-normalizer~=2.0.0; python_version >= \"3\" in /anaconda/envs/azureml_py36/lib/python3.6/site-packages (from requests->kaggle->opendatasets) (2.0.4)\nRequirement already satisfied: text-unidecode>=1.3 in /anaconda/envs/azureml_py36/lib/python3.6/site-packages (from python-slugify->kaggle->opendatasets) (1.3)\n"
        }
      ],
      "execution_count": 1,
      "metadata": {
        "gather": {
          "logged": 1633502180802
        },
        "jupyter": {
          "outputs_hidden": false,
          "source_hidden": false
        },
        "nteract": {
          "transient": {
            "deleting": false
          }
        },
        "scrolled": true
      }
    },
    {
      "cell_type": "markdown",
      "source": [
        "## Dataset\n",
        "\n",
        "### Overview\n",
        "TODO: In this markdown cell, give an overview of the dataset you are using. Also mention the task you will be performing.\n",
        "\n",
        "\n",
        "TODO: Get data. In the cell below, write code to access the data you will be using in this project. Remember that the dataset needs to be external."
      ],
      "metadata": {}
    },
    {
      "cell_type": "code",
      "source": [
        "\n",
        "\n",
        "\n",
        "def download_data(url, dsname, downloadpath, file):\n",
        "    if not os.path.exists(downloadpath):\n",
        "        os.makedirs(downloadpath)\n",
        "\n",
        "    od.download(url)\n",
        "    data_downloadpath = os.path.join(dsname, file)\n",
        "    data_finalpath = os.path.join(downloadpath, file)\n",
        "    \n",
        "    os.rename(data_downloadpath, data_finalpath)\n",
        "    while not os.path.exists(data_finalpath):\n",
        "        time.sleep(1)\n",
        "    shutil.rmtree(f\"./{dsname}\")\n",
        "    \n",
        "    return data_finalpath\n",
        "\n",
        "ws = Workspace.from_config()\n",
        "dataurl = 'https://www.kaggle.com/rupeshraundal/marketcheck-automotive-data-us-canada/download'\n",
        "kaggledsname = 'marketcheck-automotive-data-us-canada'\n",
        "filenm = 'ca-dealers-used.csv'\n",
        "downloadpath = 'Data'\n",
        "dskey = 'UsedCarPrices'\n",
        "dsdesc = 'Used Car Price Training Data'\n",
        "found = False\n",
        "\n",
        "dataset = None\n",
        "if dskey in ws.datasets.keys(): \n",
        "    print(f\"Retrieving registered dataset with key {dskey}\")\n",
        "    found = True\n",
        "    dataset = ws.datasets[dskey] \n",
        "\n",
        "if not found:\n",
        "    print(\"Downloading Canadian used car prices dataset from Kaggle\")\n",
        "    filepath = downloadpath\n",
        "    \n",
        "    if not os.path.exists(os.path.join(downloadpath, filenm)):\n",
        "        datapath = download_data(dataurl, kaggledsname, downloadpath, filenm)\n",
        "    \n",
        "    \n",
        "    # get the datastore to upload prepared data\n",
        "    datastore = ws.get_default_datastore()\n",
        "    \n",
        "    \n",
        "    print(\"Uploading to azure storage\")\n",
        "    # upload the local file from src_dir to the target_path in datastore\n",
        "    datastore.upload(src_dir=downloadpath, target_path=downloadpath)\n",
        "    print(\"Converting to azure dataset\")\n",
        "    dataset = Dataset.Tabular.from_delimited_files(path=[(datastore, (os.path.join(filepath, filenm)))], separator=',', header=True, encoding='utf8')\n",
        "    \n",
        "    print(\"Registering dataset\")\n",
        "    dataset = dataset.register(workspace=ws,\n",
        "                                 name=dskey,\n",
        "                                 description=dsdesc)\n",
        "\n",
        "\n",
        "print(f'Dataset ID: {dataset.id}')\n",
        "print(f'Dataset name: {dataset.name}')\n",
        "print(f'Dataset description: {dataset.description}')\n"
      ],
      "outputs": [
        {
          "output_type": "stream",
          "name": "stdout",
          "text": "Retrieving registered dataset with key UsedCarPrices\nDataset ID: e6a4c78f-edc1-4525-a825-26267c0aaa84\nDataset name: UsedCarPrices\nDataset description: Used Car Price Training Data\n"
        }
      ],
      "execution_count": 2,
      "metadata": {
        "gather": {
          "logged": 1633502221077
        },
        "jupyter": {
          "outputs_hidden": false,
          "source_hidden": false
        },
        "nteract": {
          "transient": {
            "deleting": false
          }
        }
      }
    },
    {
      "cell_type": "code",
      "source": [
        "\n",
        "print(\"Configuring compute cluster\")\n",
        "experiment_name = 'PCAP_Exp_CarPrices_AutoML'\n",
        "experiment=Experiment(ws, experiment_name)\n",
        "\n",
        "\n",
        "amlcompute_cluster_name = \"PCAP-Clus-DS12v2\"\n",
        "try:\n",
        "    compute_target = ComputeTarget(workspace=ws, name=amlcompute_cluster_name)\n",
        "    print('Found existing cluster, use it.')\n",
        "except ComputeTargetException:\n",
        "    compute_config = AmlCompute.provisioning_configuration(vm_size='STANDARD_DS12_V2',# for GPU, use \"STANDARD_NC6\"\n",
        "                                                           #vm_priority = 'lowpriority', # optional\n",
        "                                                           min_nodes = 3, idle_seconds_before_scaledown = 600,\n",
        "                                                           max_nodes=6)\n",
        "    compute_target = ComputeTarget.create(ws, amlcompute_cluster_name, compute_config)\n",
        "\n",
        "compute_target.wait_for_completion(show_output=True)\n"
      ],
      "outputs": [
        {
          "output_type": "stream",
          "name": "stdout",
          "text": "Configuring compute cluster\nFound existing cluster, use it.\nSucceeded\nAmlCompute wait for completion finished\n\nMinimum number of nodes requested have been provisioned\n"
        }
      ],
      "execution_count": 3,
      "metadata": {
        "gather": {
          "logged": 1633502240622
        }
      }
    },
    {
      "cell_type": "markdown",
      "source": [
        "## AutoML Configuration\n",
        "\n",
        "TODO: Explain why you chose the automl settings and cofiguration you used below."
      ],
      "metadata": {}
    },
    {
      "cell_type": "code",
      "source": [
        "# https://docs.microsoft.com/en-us/azure/machine-learning/how-to-use-automlstep-in-pipelines\n",
        "# https://docs.microsoft.com/en-us/python/api/azureml-train-automl-client/azureml.train.automl.automlconfig.automlconfig?view=azure-ml-py\n",
        "# TODO: Put your automl settings here\n",
        "automl_settings = {\n",
        "    \"experiment_timeout_hours\": 0.25,\n",
        "    \"iteration_timeout_minutes\":10,\n",
        "    \"enable_early_stopping\": True,\n",
        "    \"early_stopping_n_iters\": 5,\n",
        "    \"max_concurrent_iterations\": 5,\n",
        "    \"primary_metric\" : 'r2_score',\n",
        "    \"verbosity\": logging.INFO,\n",
        "    \"n_cross_validations\": 5,\n",
        "    \"featurization\":'auto',\n",
        "    \"model_explainability\":True\n",
        "}\n",
        "# https://docs.microsoft.com/en-us/azure/machine-learning/how-to-configure-auto-train\n",
        "# Metrics like r2_score and spearman_correlation can better represent the quality of model when the scale of the value-to-predict covers many orders of magnitude. \n",
        "# https://docs.microsoft.com/en-us/azure/machine-learning/how-to-configure-auto-train\n",
        "# TODO: Put your automl config here\n",
        "automl_config = AutoMLConfig(\n",
        "    compute_target=compute_target,\n",
        "    task = \"regression\",\n",
        "    training_data=dataset,\n",
        "    label_column_name=\"price\",  \n",
        "    debug_log = \"automl_errors.log\",\n",
        "    **automl_settings\n",
        ")"
      ],
      "outputs": [],
      "execution_count": 6,
      "metadata": {
        "gather": {
          "logged": 1633502271785
        },
        "jupyter": {
          "outputs_hidden": false,
          "source_hidden": false
        },
        "nteract": {
          "transient": {
            "deleting": false
          }
        }
      }
    },
    {
      "cell_type": "code",
      "source": [
        "\n",
        "\n",
        "# TODO: Submit your experiment\n",
        "remote_run = experiment.submit(automl_config, show_output=False)\n"
      ],
      "outputs": [
        {
          "output_type": "stream",
          "name": "stdout",
          "text": "Submitting remote run.\n"
        },
        {
          "output_type": "display_data",
          "data": {
            "text/plain": "<IPython.core.display.HTML object>",
            "text/html": "<table style=\"width:100%\"><tr><th>Experiment</th><th>Id</th><th>Type</th><th>Status</th><th>Details Page</th><th>Docs Page</th></tr><tr><td>PCAP_Exp_CarPrices_AutoML</td><td>AutoML_c62ec8fa-12d0-476c-aa1a-1faeb55958e2</td><td>automl</td><td>NotStarted</td><td><a href=\"https://ml.azure.com/runs/AutoML_c62ec8fa-12d0-476c-aa1a-1faeb55958e2?wsid=/subscriptions/81cefad3-d2c9-4f77-a466-99a7f541c7bb/resourcegroups/aml-quickstarts-160132/workspaces/quick-starts-ws-160132&amp;tid=660b3398-b80e-49d2-bc5b-ac1dc93b5254\" target=\"_blank\" rel=\"noopener\">Link to Azure Machine Learning studio</a></td><td><a href=\"https://docs.microsoft.com/en-us/python/api/overview/azure/ml/intro?view=azure-ml-py\" target=\"_blank\" rel=\"noopener\">Link to Documentation</a></td></tr></table>"
          },
          "metadata": {}
        }
      ],
      "execution_count": 7,
      "metadata": {
        "gather": {
          "logged": 1633502279013
        },
        "jupyter": {
          "outputs_hidden": false,
          "source_hidden": false
        },
        "nteract": {
          "transient": {
            "deleting": false
          }
        }
      }
    },
    {
      "cell_type": "markdown",
      "source": [
        "## Run Details\n",
        "\n",
        "OPTIONAL: Write about the different models trained and their performance. Why do you think some models did better than others?\n",
        "\n",
        "TODO: In the cell below, use the `RunDetails` widget to show the different experiments."
      ],
      "metadata": {}
    },
    {
      "cell_type": "code",
      "source": [
        "\n",
        "RunDetails(remote_run).show()\n",
        "\n"
      ],
      "outputs": [
        {
          "output_type": "display_data",
          "data": {
            "text/plain": "_AutoMLWidget(widget_settings={'childWidgetDisplay': 'popup', 'send_telemetry': False, 'log_level': 'INFO', 's…",
            "application/vnd.jupyter.widget-view+json": {
              "version_major": 2,
              "version_minor": 0,
              "model_id": "3ce926046c374806b93f905615747059"
            }
          },
          "metadata": {}
        },
        {
          "output_type": "display_data",
          "data": {
            "application/aml.mini.widget.v1": "{\"status\": \"Completed\", \"workbench_run_details_uri\": \"https://ml.azure.com/runs/AutoML_c62ec8fa-12d0-476c-aa1a-1faeb55958e2?wsid=/subscriptions/81cefad3-d2c9-4f77-a466-99a7f541c7bb/resourcegroups/aml-quickstarts-160132/workspaces/quick-starts-ws-160132&tid=660b3398-b80e-49d2-bc5b-ac1dc93b5254\", \"run_id\": \"AutoML_c62ec8fa-12d0-476c-aa1a-1faeb55958e2\", \"run_properties\": {\"run_id\": \"AutoML_c62ec8fa-12d0-476c-aa1a-1faeb55958e2\", \"created_utc\": \"2021-10-06T06:37:58.786324Z\", \"properties\": {\"num_iterations\": \"1000\", \"training_type\": \"TrainFull\", \"acquisition_function\": \"EI\", \"primary_metric\": \"r2_score\", \"train_split\": \"0\", \"acquisition_parameter\": \"0\", \"num_cross_validation\": \"5\", \"target\": \"PCAP-Clus-DS12v2\", \"AMLSettingsJsonString\": \"{\\\"path\\\":null,\\\"name\\\":\\\"PCAP_Exp_CarPrices_AutoML\\\",\\\"subscription_id\\\":\\\"81cefad3-d2c9-4f77-a466-99a7f541c7bb\\\",\\\"resource_group\\\":\\\"aml-quickstarts-160132\\\",\\\"workspace_name\\\":\\\"quick-starts-ws-160132\\\",\\\"region\\\":\\\"southcentralus\\\",\\\"compute_target\\\":\\\"PCAP-Clus-DS12v2\\\",\\\"spark_service\\\":null,\\\"azure_service\\\":\\\"remote\\\",\\\"many_models\\\":false,\\\"pipeline_fetch_max_batch_size\\\":1,\\\"enable_batch_run\\\":false,\\\"enable_run_restructure\\\":false,\\\"start_auxiliary_runs_before_parent_complete\\\":false,\\\"enable_code_generation\\\":false,\\\"iterations\\\":1000,\\\"primary_metric\\\":\\\"r2_score\\\",\\\"task_type\\\":\\\"regression\\\",\\\"data_script\\\":null,\\\"test_size\\\":0.0,\\\"test_include_predictions_only\\\":false,\\\"validation_size\\\":0.0,\\\"n_cross_validations\\\":5,\\\"y_min\\\":null,\\\"y_max\\\":null,\\\"num_classes\\\":null,\\\"featurization\\\":\\\"auto\\\",\\\"_ignore_package_version_incompatibilities\\\":false,\\\"is_timeseries\\\":false,\\\"max_cores_per_iteration\\\":1,\\\"max_concurrent_iterations\\\":5,\\\"iteration_timeout_minutes\\\":10,\\\"mem_in_mb\\\":null,\\\"enforce_time_on_windows\\\":false,\\\"experiment_timeout_minutes\\\":15,\\\"experiment_exit_score\\\":null,\\\"whitelist_models\\\":null,\\\"blacklist_algos\\\":[\\\"TensorFlowDNN\\\",\\\"TensorFlowLinearRegressor\\\"],\\\"supported_models\\\":[\\\"OnlineGradientDescentRegressor\\\",\\\"KNN\\\",\\\"SGD\\\",\\\"ExtremeRandomTrees\\\",\\\"TensorFlowLinearRegressor\\\",\\\"GradientBoosting\\\",\\\"LightGBM\\\",\\\"XGBoostRegressor\\\",\\\"RandomForest\\\",\\\"LassoLars\\\",\\\"FastLinearRegressor\\\",\\\"DecisionTree\\\",\\\"ElasticNet\\\",\\\"TensorFlowDNN\\\"],\\\"private_models\\\":[],\\\"auto_blacklist\\\":true,\\\"blacklist_samples_reached\\\":false,\\\"exclude_nan_labels\\\":true,\\\"verbosity\\\":20,\\\"_debug_log\\\":\\\"azureml_automl.log\\\",\\\"show_warnings\\\":false,\\\"model_explainability\\\":true,\\\"service_url\\\":null,\\\"sdk_url\\\":null,\\\"sdk_packages\\\":null,\\\"enable_onnx_compatible_models\\\":false,\\\"enable_split_onnx_featurizer_estimator_models\\\":false,\\\"vm_type\\\":\\\"STANDARD_DS12_V2\\\",\\\"telemetry_verbosity\\\":20,\\\"send_telemetry\\\":true,\\\"enable_dnn\\\":false,\\\"scenario\\\":\\\"SDK-1.13.0\\\",\\\"environment_label\\\":null,\\\"save_mlflow\\\":false,\\\"force_text_dnn\\\":false,\\\"enable_feature_sweeping\\\":true,\\\"enable_early_stopping\\\":true,\\\"early_stopping_n_iters\\\":5,\\\"metrics\\\":null,\\\"enable_metric_confidence\\\":false,\\\"enable_ensembling\\\":true,\\\"enable_stack_ensembling\\\":true,\\\"ensemble_iterations\\\":15,\\\"enable_tf\\\":false,\\\"enable_subsampling\\\":null,\\\"subsample_seed\\\":null,\\\"enable_nimbusml\\\":false,\\\"enable_streaming\\\":false,\\\"force_streaming\\\":false,\\\"track_child_runs\\\":true,\\\"allowed_private_models\\\":[],\\\"label_column_name\\\":\\\"price\\\",\\\"weight_column_name\\\":null,\\\"cv_split_column_names\\\":null,\\\"positive_label\\\":null,\\\"enable_local_managed\\\":false,\\\"_local_managed_run_id\\\":null,\\\"cost_mode\\\":1,\\\"lag_length\\\":0,\\\"metric_operation\\\":\\\"maximize\\\",\\\"preprocess\\\":true}\", \"DataPrepJsonString\": \"{\\\\\\\"training_data\\\\\\\": {\\\\\\\"datasetId\\\\\\\": \\\\\\\"e6a4c78f-edc1-4525-a825-26267c0aaa84\\\\\\\"}, \\\\\\\"datasets\\\\\\\": 0}\", \"EnableSubsampling\": null, \"runTemplate\": \"AutoML\", \"azureml.runsource\": \"automl\", \"display_task_type\": \"regression\", \"dependencies_versions\": \"{\\\"azureml-widgets\\\": \\\"1.34.0\\\", \\\"azureml-train\\\": \\\"1.34.0\\\", \\\"azureml-train-restclients-hyperdrive\\\": \\\"1.34.0\\\", \\\"azureml-train-core\\\": \\\"1.34.0\\\", \\\"azureml-train-automl\\\": \\\"1.34.0\\\", \\\"azureml-train-automl-runtime\\\": \\\"1.34.0\\\", \\\"azureml-train-automl-client\\\": \\\"1.34.0\\\", \\\"azureml-tensorboard\\\": \\\"1.34.0\\\", \\\"azureml-telemetry\\\": \\\"1.34.0\\\", \\\"azureml-sdk\\\": \\\"1.34.0\\\", \\\"azureml-samples\\\": \\\"0+unknown\\\", \\\"azureml-responsibleai\\\": \\\"1.34.0\\\", \\\"azureml-pipeline\\\": \\\"1.34.0\\\", \\\"azureml-pipeline-steps\\\": \\\"1.34.0\\\", \\\"azureml-pipeline-core\\\": \\\"1.34.0\\\", \\\"azureml-opendatasets\\\": \\\"1.34.0\\\", \\\"azureml-mlflow\\\": \\\"1.34.0\\\", \\\"azureml-interpret\\\": \\\"1.34.0\\\", \\\"azureml-inference-server-http\\\": \\\"0.3.1\\\", \\\"azureml-explain-model\\\": \\\"1.34.0\\\", \\\"azureml-defaults\\\": \\\"1.34.0\\\", \\\"azureml-dataset-runtime\\\": \\\"1.34.0\\\", \\\"azureml-dataprep\\\": \\\"2.22.2\\\", \\\"azureml-dataprep-rslex\\\": \\\"1.20.1\\\", \\\"azureml-dataprep-native\\\": \\\"38.0.0\\\", \\\"azureml-datadrift\\\": \\\"1.34.0\\\", \\\"azureml-core\\\": \\\"1.34.0\\\", \\\"azureml-contrib-services\\\": \\\"1.34.0\\\", \\\"azureml-contrib-server\\\": \\\"1.34.0\\\", \\\"azureml-contrib-reinforcementlearning\\\": \\\"1.34.0\\\", \\\"azureml-contrib-pipeline-steps\\\": \\\"1.34.0\\\", \\\"azureml-contrib-notebook\\\": \\\"1.34.0\\\", \\\"azureml-contrib-fairness\\\": \\\"1.34.0\\\", \\\"azureml-contrib-dataset\\\": \\\"1.34.0\\\", \\\"azureml-contrib-automl-pipeline-steps\\\": \\\"1.34.0\\\", \\\"azureml-cli-common\\\": \\\"1.34.0\\\", \\\"azureml-automl-runtime\\\": \\\"1.34.0\\\", \\\"azureml-automl-dnn-nlp\\\": \\\"1.34.0\\\", \\\"azureml-automl-core\\\": \\\"1.34.0\\\", \\\"azureml-accel-models\\\": \\\"1.34.0\\\"}\", \"_aml_system_scenario_identification\": \"Remote.Parent\", \"ClientType\": \"SDK\", \"environment_cpu_name\": \"AzureML-AutoML\", \"environment_cpu_label\": \"prod\", \"environment_gpu_name\": \"AzureML-AutoML-GPU\", \"environment_gpu_label\": \"prod\", \"root_attribution\": \"automl\", \"attribution\": \"AutoML\", \"Orchestrator\": \"AutoML\", \"CancelUri\": \"https://southcentralus.api.azureml.ms/jasmine/v1.0/subscriptions/81cefad3-d2c9-4f77-a466-99a7f541c7bb/resourceGroups/aml-quickstarts-160132/providers/Microsoft.MachineLearningServices/workspaces/quick-starts-ws-160132/experimentids/6c92751a-0d4a-4fb4-90a0-cbf39ac24831/cancel/AutoML_c62ec8fa-12d0-476c-aa1a-1faeb55958e2\", \"ClientSdkVersion\": \"1.34.0.post1\", \"snapshotId\": \"00000000-0000-0000-0000-000000000000\", \"SetupRunId\": \"AutoML_c62ec8fa-12d0-476c-aa1a-1faeb55958e2_setup\", \"SetupRunContainerId\": \"dcid.AutoML_c62ec8fa-12d0-476c-aa1a-1faeb55958e2_setup\", \"FeaturizationRunJsonPath\": \"featurizer_container.json\", \"FeaturizationRunId\": \"AutoML_c62ec8fa-12d0-476c-aa1a-1faeb55958e2_featurize\", \"ProblemInfoJsonString\": \"{\\\"dataset_num_categorical\\\": 0, \\\"is_sparse\\\": true, \\\"subsampling\\\": false, \\\"has_extra_col\\\": true, \\\"dataset_classes\\\": 27979, \\\"dataset_features\\\": 12427, \\\"dataset_samples\\\": 358486, \\\"single_frequency_class_detected\\\": false}\", \"ModelExplainRunId\": \"AutoML_c62ec8fa-12d0-476c-aa1a-1faeb55958e2_ModelExplain\"}, \"tags\": {\"model_explain_run\": \"best_run\", \"_aml_system_azureml.automlComponent\": \"AutoML\", \"pipeline_id\": \"\", \"score\": \"\", \"predicted_cost\": \"\", \"fit_time\": \"\", \"training_percent\": \"\", \"iteration\": \"\", \"run_preprocessor\": \"\", \"run_algorithm\": \"\", \"automl_best_child_run_id\": \"AutoML_c62ec8fa-12d0-476c-aa1a-1faeb55958e2_15\"}, \"end_time_utc\": \"2021-10-06T07:02:48.318444Z\", \"status\": \"Completed\", \"log_files\": {}, \"log_groups\": [], \"run_duration\": \"0:24:49\", \"run_number\": \"1\", \"run_queued_details\": {\"status\": \"Completed\", \"details\": null}}, \"child_runs\": [{\"run_id\": \"AutoML_c62ec8fa-12d0-476c-aa1a-1faeb55958e2_0\", \"run_number\": 5, \"metric\": null, \"status\": \"Completed\", \"run_type\": \"azureml.scriptrun\", \"training_percent\": \"100\", \"start_time\": \"2021-10-06T06:44:28.011052Z\", \"end_time\": \"2021-10-06T06:46:07.525482Z\", \"created_time\": \"2021-10-06T06:44:15.948278Z\", \"created_time_dt\": \"2021-10-06T06:44:15.948278Z\", \"duration\": \"0:01:51\", \"iteration\": \"0\", \"goal\": \"r2_score_max\", \"run_name\": \"MaxAbsScaler, LightGBM\", \"run_properties\": \"copy=True\", \"primary_metric\": 0.8897589, \"best_metric\": 0.8897589}, {\"run_id\": \"AutoML_c62ec8fa-12d0-476c-aa1a-1faeb55958e2_1\", \"run_number\": 6, \"metric\": null, \"status\": \"Completed\", \"run_type\": \"azureml.scriptrun\", \"training_percent\": \"100\", \"start_time\": \"2021-10-06T06:46:22.19071Z\", \"end_time\": \"2021-10-06T06:49:41.579685Z\", \"created_time\": \"2021-10-06T06:44:15.97607Z\", \"created_time_dt\": \"2021-10-06T06:44:15.97607Z\", \"duration\": \"0:05:25\", \"iteration\": \"1\", \"goal\": \"r2_score_max\", \"run_name\": \"MaxAbsScaler, XGBoostRegressor\", \"run_properties\": \"copy=True\", \"primary_metric\": 0.83111938, \"best_metric\": 0.8897589}, {\"run_id\": \"AutoML_c62ec8fa-12d0-476c-aa1a-1faeb55958e2_2\", \"run_number\": 7, \"metric\": null, \"status\": \"Completed\", \"run_type\": \"azureml.scriptrun\", \"training_percent\": \"100\", \"start_time\": \"2021-10-06T06:46:54.888424Z\", \"end_time\": \"2021-10-06T06:52:34.579975Z\", \"created_time\": \"2021-10-06T06:44:15.984231Z\", \"created_time_dt\": \"2021-10-06T06:44:15.984231Z\", \"duration\": \"0:08:18\", \"iteration\": \"2\", \"goal\": \"r2_score_max\", \"run_name\": \"StandardScalerWrapper, XGBoostRegressor\", \"run_properties\": \"\\n    copy=True,\\n    with_mean=False,\\n    with_std=False\\n\", \"primary_metric\": 0.92450986, \"best_metric\": 0.92450986}, {\"run_id\": \"AutoML_c62ec8fa-12d0-476c-aa1a-1faeb55958e2_3\", \"run_number\": 8, \"metric\": null, \"status\": \"Failed\", \"run_type\": \"azureml.scriptrun\", \"training_percent\": \"100\", \"start_time\": \"2021-10-06T06:46:57.35899Z\", \"end_time\": \"2021-10-06T06:58:12.480538Z\", \"created_time\": \"2021-10-06T06:44:16.000917Z\", \"created_time_dt\": \"2021-10-06T06:44:16.000917Z\", \"duration\": \"0:13:56\", \"iteration\": \"3\", \"goal\": \"r2_score_max\", \"run_name\": \"MaxAbsScaler, ElasticNet\", \"run_properties\": null}, {\"run_id\": \"AutoML_c62ec8fa-12d0-476c-aa1a-1faeb55958e2_4\", \"run_number\": 9, \"metric\": null, \"status\": \"Completed\", \"run_type\": \"azureml.scriptrun\", \"training_percent\": \"100\", \"start_time\": \"2021-10-06T06:46:58.313038Z\", \"end_time\": \"2021-10-06T06:48:47.735936Z\", \"created_time\": \"2021-10-06T06:44:15.976626Z\", \"created_time_dt\": \"2021-10-06T06:44:15.976626Z\", \"duration\": \"0:04:31\", \"iteration\": \"4\", \"goal\": \"r2_score_max\", \"run_name\": \"MaxAbsScaler, LightGBM\", \"run_properties\": \"copy=True\", \"primary_metric\": 0.55107211, \"best_metric\": 0.92450986}, {\"run_id\": \"AutoML_c62ec8fa-12d0-476c-aa1a-1faeb55958e2_5\", \"run_number\": 10, \"metric\": null, \"status\": \"Completed\", \"run_type\": \"azureml.scriptrun\", \"training_percent\": \"100\", \"start_time\": \"2021-10-06T06:46:57.711808Z\", \"end_time\": \"2021-10-06T06:52:11.327957Z\", \"created_time\": \"2021-10-06T06:46:09.96214Z\", \"created_time_dt\": \"2021-10-06T06:46:09.96214Z\", \"duration\": \"0:06:01\", \"iteration\": \"5\", \"goal\": \"r2_score_max\", \"run_name\": \"SparseNormalizer, XGBoostRegressor\", \"run_properties\": \"copy=True, norm='l2'\", \"primary_metric\": 0.71607403, \"best_metric\": 0.92450986}, {\"run_id\": \"AutoML_c62ec8fa-12d0-476c-aa1a-1faeb55958e2_6\", \"run_number\": 11, \"metric\": null, \"status\": \"Completed\", \"run_type\": \"azureml.scriptrun\", \"training_percent\": \"100\", \"start_time\": \"2021-10-06T06:49:01.960646Z\", \"end_time\": \"2021-10-06T06:50:41.784137Z\", \"created_time\": \"2021-10-06T06:48:50.962789Z\", \"created_time_dt\": \"2021-10-06T06:48:50.962789Z\", \"duration\": \"0:01:50\", \"iteration\": \"6\", \"goal\": \"r2_score_max\", \"run_name\": \"MaxAbsScaler, RandomForest\", \"run_properties\": \"copy=True\", \"primary_metric\": 0.11175754, \"best_metric\": 0.92450986}, {\"run_id\": \"AutoML_c62ec8fa-12d0-476c-aa1a-1faeb55958e2_7\", \"run_number\": 12, \"metric\": null, \"status\": \"Completed\", \"run_type\": \"azureml.scriptrun\", \"training_percent\": \"100\", \"start_time\": \"2021-10-06T06:50:00.607839Z\", \"end_time\": \"2021-10-06T06:52:38.523481Z\", \"created_time\": \"2021-10-06T06:49:44.995884Z\", \"created_time_dt\": \"2021-10-06T06:49:44.995884Z\", \"duration\": \"0:02:53\", \"iteration\": \"7\", \"goal\": \"r2_score_max\", \"run_name\": \"MaxAbsScaler, RandomForest\", \"run_properties\": \"copy=True\", \"primary_metric\": 0.38801439, \"best_metric\": 0.92450986}, {\"run_id\": \"AutoML_c62ec8fa-12d0-476c-aa1a-1faeb55958e2_8\", \"run_number\": 13, \"metric\": null, \"status\": \"Canceled\", \"run_type\": \"azureml.scriptrun\", \"training_percent\": \"100\", \"start_time\": \"2021-10-06T06:50:59.65506Z\", \"end_time\": \"2021-10-06T07:00:53.073745Z\", \"created_time\": \"2021-10-06T06:50:45.073085Z\", \"created_time_dt\": \"2021-10-06T06:50:45.073085Z\", \"duration\": \"0:10:08\", \"iteration\": \"8\", \"goal\": null, \"run_name\": \"StandardScalerWrapper, ExtremeRandomTrees\", \"run_properties\": null}, {\"run_id\": \"AutoML_c62ec8fa-12d0-476c-aa1a-1faeb55958e2_9\", \"run_number\": 14, \"metric\": null, \"status\": \"Completed\", \"run_type\": \"azureml.scriptrun\", \"training_percent\": \"100\", \"start_time\": \"2021-10-06T06:52:27.642689Z\", \"end_time\": \"2021-10-06T07:00:51.831005Z\", \"created_time\": \"2021-10-06T06:52:14.929278Z\", \"created_time_dt\": \"2021-10-06T06:52:14.929278Z\", \"duration\": \"0:08:36\", \"iteration\": \"9\", \"goal\": \"r2_score_max\", \"run_name\": \"SparseNormalizer, XGBoostRegressor\", \"run_properties\": \"copy=True, norm='l2'\", \"primary_metric\": 0.80638213, \"best_metric\": 0.92450986}, {\"run_id\": \"AutoML_c62ec8fa-12d0-476c-aa1a-1faeb55958e2_10\", \"run_number\": 15, \"metric\": null, \"status\": \"Completed\", \"run_type\": \"azureml.scriptrun\", \"training_percent\": \"100\", \"start_time\": \"2021-10-06T06:52:51.877161Z\", \"end_time\": \"2021-10-06T06:57:14.812975Z\", \"created_time\": \"2021-10-06T06:52:38.39781Z\", \"created_time_dt\": \"2021-10-06T06:52:38.39781Z\", \"duration\": \"0:04:36\", \"iteration\": \"10\", \"goal\": \"r2_score_max\", \"run_name\": \"MaxAbsScaler, ExtremeRandomTrees\", \"run_properties\": \"copy=True\", \"primary_metric\": 0.46126804, \"best_metric\": 0.92450986}, {\"run_id\": \"AutoML_c62ec8fa-12d0-476c-aa1a-1faeb55958e2_11\", \"run_number\": 16, \"metric\": null, \"status\": \"Canceled\", \"run_type\": \"azureml.scriptrun\", \"training_percent\": \"100\", \"start_time\": \"2021-10-06T06:52:54.909733Z\", \"end_time\": \"2021-10-06T07:00:53.049239Z\", \"created_time\": \"2021-10-06T06:52:43.11114Z\", \"created_time_dt\": \"2021-10-06T06:52:43.11114Z\", \"duration\": \"0:08:09\", \"iteration\": \"11\", \"goal\": null, \"run_name\": \"MaxAbsScaler, ElasticNet\", \"run_properties\": null}, {\"run_id\": \"AutoML_c62ec8fa-12d0-476c-aa1a-1faeb55958e2_12\", \"run_number\": 17, \"metric\": null, \"status\": \"Canceled\", \"run_type\": \"azureml.scriptrun\", \"training_percent\": \"100\", \"start_time\": \"2021-10-06T06:57:30.513587Z\", \"end_time\": \"2021-10-06T07:00:53.263176Z\", \"created_time\": \"2021-10-06T06:57:18.521862Z\", \"created_time_dt\": \"2021-10-06T06:57:18.521862Z\", \"duration\": \"0:03:34\", \"iteration\": \"12\", \"goal\": null, \"run_name\": \"SparseNormalizer, XGBoostRegressor\", \"run_properties\": null}, {\"run_id\": \"AutoML_c62ec8fa-12d0-476c-aa1a-1faeb55958e2_13\", \"run_number\": 18, \"metric\": null, \"status\": \"Canceled\", \"run_type\": \"azureml.scriptrun\", \"training_percent\": \"100\", \"start_time\": \"2021-10-06T06:58:23.916918Z\", \"end_time\": \"2021-10-06T07:00:53.110509Z\", \"created_time\": \"2021-10-06T06:58:15.530646Z\", \"created_time_dt\": \"2021-10-06T06:58:15.530646Z\", \"duration\": \"0:02:37\", \"iteration\": \"13\", \"goal\": null, \"run_name\": \"MaxAbsScaler, RandomForest\", \"run_properties\": null}, {\"run_id\": \"AutoML_c62ec8fa-12d0-476c-aa1a-1faeb55958e2_14\", \"run_number\": 19, \"metric\": null, \"status\": \"Completed\", \"run_type\": \"azureml.scriptrun\", \"training_percent\": \"100\", \"start_time\": \"2021-10-06T07:01:08.572393Z\", \"end_time\": \"2021-10-06T07:02:35.296833Z\", \"created_time\": \"2021-10-06T07:00:54.407377Z\", \"created_time_dt\": \"2021-10-06T07:00:54.407377Z\", \"duration\": \"0:01:40\", \"iteration\": \"14\", \"goal\": \"r2_score_max\", \"run_name\": \"VotingEnsemble\", \"run_properties\": \"\\n    estimators=[('2', Pipeline(\\n        memory=None,\\n        steps=[('standardscalerwrapper', StandardScalerWrapper(\\n            copy=True,\\n            with_mean=False,\\n            with_std=False\\n        \", \"primary_metric\": 0.92411365, \"best_metric\": 0.92450986}, {\"run_id\": \"AutoML_c62ec8fa-12d0-476c-aa1a-1faeb55958e2_15\", \"run_number\": 20, \"metric\": null, \"status\": \"Completed\", \"run_type\": \"azureml.scriptrun\", \"training_percent\": \"100\", \"start_time\": \"2021-10-06T07:01:08.755203Z\", \"end_time\": \"2021-10-06T07:02:45.788775Z\", \"created_time\": \"2021-10-06T07:00:54.49406Z\", \"created_time_dt\": \"2021-10-06T07:00:54.49406Z\", \"duration\": \"0:01:51\", \"iteration\": \"15\", \"goal\": \"r2_score_max\", \"run_name\": \"StackEnsemble\", \"run_properties\": \"\\n    base_learners=[('2', Pipeline(\\n        memory=None,\\n        steps=[('standardscalerwrapper', StandardScalerWrapper(\\n            copy=True,\\n            with_mean=False,\\n            with_std=False\\n        \", \"primary_metric\": 0.92640015, \"best_metric\": 0.92640015}], \"children_metrics\": {\"categories\": [0], \"series\": {\"r2_score\": [{\"categories\": [\"0\", \"1\", \"2\", \"4\", \"5\", \"6\", \"7\", \"9\", \"10\", \"14\", \"15\"], \"mode\": \"markers\", \"name\": \"r2_score\", \"stepped\": false, \"type\": \"scatter\", \"data\": [0.8897589043440728, 0.831119382321981, 0.9245098603697608, 0.5510721098923839, 0.7160740284792437, 0.11175753832515334, 0.38801439208574856, 0.8063821314072067, 0.4612680351157888, 0.9241136495593227, 0.9264001544743874]}, {\"categories\": [\"0\", \"1\", \"2\", \"4\", \"5\", \"6\", \"7\", \"9\", \"10\", \"14\", \"15\"], \"mode\": \"lines\", \"name\": \"r2_score_max\", \"stepped\": true, \"type\": \"scatter\", \"data\": [0.8897589043440728, 0.8897589043440728, 0.9245098603697608, 0.9245098603697608, 0.9245098603697608, 0.9245098603697608, 0.9245098603697608, 0.9245098603697608, 0.9245098603697608, 0.9245098603697608, 0.9264001544743874]}], \"root_mean_squared_error\": [{\"categories\": [\"0\", \"1\", \"2\", \"4\", \"5\", \"6\", \"7\", \"9\", \"10\", \"14\", \"15\"], \"mode\": \"markers\", \"name\": \"root_mean_squared_error\", \"stepped\": false, \"type\": \"scatter\", \"data\": [6841.982013692279, 8478.716930817634, 5661.86344475009, 13829.042268611214, 10993.348680575928, 19449.16149330696, 16146.013879865752, 9075.029923919989, 15148.75889181288, 5675.860524021233, 5591.733060790884]}, {\"categories\": [\"0\", \"1\", \"2\", \"4\", \"5\", \"6\", \"7\", \"9\", \"10\", \"14\", \"15\"], \"mode\": \"lines\", \"name\": \"root_mean_squared_error_min\", \"stepped\": true, \"type\": \"scatter\", \"data\": [6841.982013692279, 6841.982013692279, 5661.86344475009, 5661.86344475009, 5661.86344475009, 5661.86344475009, 5661.86344475009, 5661.86344475009, 5661.86344475009, 5661.86344475009, 5591.733060790884]}], \"root_mean_squared_log_error\": [{\"categories\": [\"0\", \"1\", \"2\", \"4\", \"5\", \"6\", \"7\", \"9\", \"10\", \"14\", \"15\"], \"mode\": \"markers\", \"name\": \"root_mean_squared_log_error\", \"stepped\": false, \"type\": \"scatter\", \"data\": [0.20546482221855406, 0.2767745397869249, 0.19476103547614948, 0.2807596288865174, 0.36739393089503286, 0.5975636825606816, 0.37695339012437, 0.3241653201939671, 0.3580808456816357, 0.19428756920590556, 0.1947518374608283]}, {\"categories\": [\"0\", \"1\", \"2\", \"4\", \"5\", \"6\", \"7\", \"9\", \"10\", \"14\", \"15\"], \"mode\": \"lines\", \"name\": \"root_mean_squared_log_error_min\", \"stepped\": true, \"type\": \"scatter\", \"data\": [0.20546482221855406, 0.20546482221855406, 0.19476103547614948, 0.19476103547614948, 0.19476103547614948, 0.19476103547614948, 0.19476103547614948, 0.19476103547614948, 0.19476103547614948, 0.19428756920590556, 0.19428756920590556]}], \"median_absolute_error\": [{\"categories\": [\"0\", \"1\", \"2\", \"4\", \"5\", \"6\", \"7\", \"9\", \"10\", \"14\", \"15\"], \"mode\": \"markers\", \"name\": \"median_absolute_error\", \"stepped\": false, \"type\": \"scatter\", \"data\": [2121.266521908916, 3268.3064453125, 2064.103125, 2893.728356573709, 4421.78359375, 8344.582957756891, 4539.944306333191, 3823.8923828125, 3727.9862610786586, 2057.53437741971, 2063.5947140363637]}, {\"categories\": [\"0\", \"1\", \"2\", \"4\", \"5\", \"6\", \"7\", \"9\", \"10\", \"14\", \"15\"], \"mode\": \"lines\", \"name\": \"median_absolute_error_min\", \"stepped\": true, \"type\": \"scatter\", \"data\": [2121.266521908916, 2121.266521908916, 2064.103125, 2064.103125, 2064.103125, 2064.103125, 2064.103125, 2064.103125, 2064.103125, 2057.53437741971, 2057.53437741971]}], \"normalized_root_mean_squared_log_error\": [{\"categories\": [\"0\", \"1\", \"2\", \"4\", \"5\", \"6\", \"7\", \"9\", \"10\", \"14\", \"15\"], \"mode\": \"markers\", \"name\": \"normalized_root_mean_squared_log_error\", \"stepped\": false, \"type\": \"scatter\", \"data\": [0.014603779238747751, 0.019672244787746727, 0.013842988477016104, 0.01995549211363341, 0.026113179874361486, 0.042472906101301895, 0.026792635514113546, 0.02304062915419678, 0.025451235707863597, 0.013809336016156989, 0.013842334711647733]}, {\"categories\": [\"0\", \"1\", \"2\", \"4\", \"5\", \"6\", \"7\", \"9\", \"10\", \"14\", \"15\"], \"mode\": \"lines\", \"name\": \"normalized_root_mean_squared_log_error_min\", \"stepped\": true, \"type\": \"scatter\", \"data\": [0.014603779238747751, 0.014603779238747751, 0.013842988477016104, 0.013842988477016104, 0.013842988477016104, 0.013842988477016104, 0.013842988477016104, 0.013842988477016104, 0.013842988477016104, 0.013809336016156989, 0.013809336016156989]}], \"explained_variance\": [{\"categories\": [\"0\", \"1\", \"2\", \"4\", \"5\", \"6\", \"7\", \"9\", \"10\", \"14\", \"15\"], \"mode\": \"markers\", \"name\": \"explained_variance\", \"stepped\": false, \"type\": \"scatter\", \"data\": [0.889761855253434, 0.8311212365640397, 0.9245126235361212, 0.5510727227239706, 0.7160779878332366, 0.11176710652745851, 0.38801826967414355, 0.8063866394627468, 0.46126855711700865, 0.9241163715557136, 0.9264039456197122]}, {\"categories\": [\"0\", \"1\", \"2\", \"4\", \"5\", \"6\", \"7\", \"9\", \"10\", \"14\", \"15\"], \"mode\": \"lines\", \"name\": \"explained_variance_max\", \"stepped\": true, \"type\": \"scatter\", \"data\": [0.889761855253434, 0.889761855253434, 0.9245126235361212, 0.9245126235361212, 0.9245126235361212, 0.9245126235361212, 0.9245126235361212, 0.9245126235361212, 0.9245126235361212, 0.9245126235361212, 0.9264039456197122]}], \"normalized_root_mean_squared_error\": [{\"categories\": [\"0\", \"1\", \"2\", \"4\", \"5\", \"6\", \"7\", \"9\", \"10\", \"14\", \"15\"], \"mode\": \"markers\", \"name\": \"normalized_root_mean_squared_error\", \"stepped\": false, \"type\": \"scatter\", \"data\": [0.00530843798195986, 0.006578319396889129, 0.004392828115980667, 0.010729436745947837, 0.008529328134466243, 0.01508987708265339, 0.012527088373749893, 0.007040976348542299, 0.011753355521824146, 0.004403687926352975, 0.004338416573659531]}, {\"categories\": [\"0\", \"1\", \"2\", \"4\", \"5\", \"6\", \"7\", \"9\", \"10\", \"14\", \"15\"], \"mode\": \"lines\", \"name\": \"normalized_root_mean_squared_error_min\", \"stepped\": true, \"type\": \"scatter\", \"data\": [0.00530843798195986, 0.00530843798195986, 0.004392828115980667, 0.004392828115980667, 0.004392828115980667, 0.004392828115980667, 0.004392828115980667, 0.004392828115980667, 0.004392828115980667, 0.004392828115980667, 0.004338416573659531]}], \"spearman_correlation\": [{\"categories\": [\"0\", \"1\", \"2\", \"4\", \"5\", \"6\", \"7\", \"9\", \"10\", \"14\", \"15\"], \"mode\": \"markers\", \"name\": \"spearman_correlation\", \"stepped\": false, \"type\": \"scatter\", \"data\": [0.9537331909395463, 0.911005135863874, 0.9580212368705286, 0.9129267223215407, 0.8454350543326781, 0.7496463631378697, 0.8487835824966805, 0.875850560313056, 0.8673017480541041, 0.9582315809585374, 0.9580235840464137]}, {\"categories\": [\"0\", \"1\", \"2\", \"4\", \"5\", \"6\", \"7\", \"9\", \"10\", \"14\", \"15\"], \"mode\": \"lines\", \"name\": \"spearman_correlation_max\", \"stepped\": true, \"type\": \"scatter\", \"data\": [0.9537331909395463, 0.9537331909395463, 0.9580212368705286, 0.9580212368705286, 0.9580212368705286, 0.9580212368705286, 0.9580212368705286, 0.9580212368705286, 0.9580212368705286, 0.9582315809585374, 0.9582315809585374]}], \"normalized_median_absolute_error\": [{\"categories\": [\"0\", \"1\", \"2\", \"4\", \"5\", \"6\", \"7\", \"9\", \"10\", \"14\", \"15\"], \"mode\": \"markers\", \"name\": \"normalized_median_absolute_error\", \"stepped\": false, \"type\": \"scatter\", \"data\": [0.0016458113675578607, 0.00253575674947125, 0.0016014604255761556, 0.0022451356181248552, 0.003430696533562265, 0.006474249863259561, 0.0035223730117226563, 0.0029668151017097685, 0.002892405128357668, 0.0015963639799732095, 0.0016010659685219847]}, {\"categories\": [\"0\", \"1\", \"2\", \"4\", \"5\", \"6\", \"7\", \"9\", \"10\", \"14\", \"15\"], \"mode\": \"lines\", \"name\": \"normalized_median_absolute_error_min\", \"stepped\": true, \"type\": \"scatter\", \"data\": [0.0016458113675578607, 0.0016458113675578607, 0.0016014604255761556, 0.0016014604255761556, 0.0016014604255761556, 0.0016014604255761556, 0.0016014604255761556, 0.0016014604255761556, 0.0016014604255761556, 0.0015963639799732095, 0.0015963639799732095]}], \"mean_absolute_error\": [{\"categories\": [\"0\", \"1\", \"2\", \"4\", \"5\", \"6\", \"7\", \"9\", \"10\", \"14\", \"15\"], \"mode\": \"markers\", \"name\": \"mean_absolute_error\", \"stepped\": false, \"type\": \"scatter\", \"data\": [3272.7479335981825, 4839.8174932980855, 3077.498017503158, 5177.50201289963, 6355.64366884249, 10946.831480422261, 7120.896349993408, 5497.42824384468, 6121.910076516515, 3071.5593453896245, 3068.642628227193]}, {\"categories\": [\"0\", \"1\", \"2\", \"4\", \"5\", \"6\", \"7\", \"9\", \"10\", \"14\", \"15\"], \"mode\": \"lines\", \"name\": \"mean_absolute_error_min\", \"stepped\": true, \"type\": \"scatter\", \"data\": [3272.7479335981825, 3272.7479335981825, 3077.498017503158, 3077.498017503158, 3077.498017503158, 3077.498017503158, 3077.498017503158, 3077.498017503158, 3077.498017503158, 3071.5593453896245, 3068.642628227193]}], \"normalized_mean_absolute_error\": [{\"categories\": [\"0\", \"1\", \"2\", \"4\", \"5\", \"6\", \"7\", \"9\", \"10\", \"14\", \"15\"], \"mode\": \"markers\", \"name\": \"normalized_mean_absolute_error\", \"stepped\": false, \"type\": \"scatter\", \"data\": [0.0025392027341384067, 0.003755033403443965, 0.0023877156257977095, 0.004017030194167088, 0.004931106247278654, 0.008493237178422222, 0.005524837185227427, 0.004265248992809832, 0.004749761093684257, 0.0023831080321871445, 0.0023808450604142434]}, {\"categories\": [\"0\", \"1\", \"2\", \"4\", \"5\", \"6\", \"7\", \"9\", \"10\", \"14\", \"15\"], \"mode\": \"lines\", \"name\": \"normalized_mean_absolute_error_min\", \"stepped\": true, \"type\": \"scatter\", \"data\": [0.0025392027341384067, 0.0025392027341384067, 0.0023877156257977095, 0.0023877156257977095, 0.0023877156257977095, 0.0023877156257977095, 0.0023877156257977095, 0.0023877156257977095, 0.0023877156257977095, 0.0023831080321871445, 0.0023808450604142434]}], \"mean_absolute_percentage_error\": [{\"categories\": [\"0\", \"1\", \"2\", \"4\", \"5\", \"6\", \"7\", \"9\", \"10\", \"14\", \"15\"], \"mode\": \"markers\", \"name\": \"mean_absolute_percentage_error\", \"stepped\": false, \"type\": \"scatter\", \"data\": [14.596918642727806, 22.14575677236317, 13.982776740077167, 21.298280361394553, 31.972628572537864, 63.251205542106035, 31.95595659979518, 27.050396045417905, 29.56680191213805, 13.948486039315037, 13.625581946411518]}, {\"categories\": [\"0\", \"1\", \"2\", \"4\", \"5\", \"6\", \"7\", \"9\", \"10\", \"14\", \"15\"], \"mode\": \"lines\", \"name\": \"mean_absolute_percentage_error_min\", \"stepped\": true, \"type\": \"scatter\", \"data\": [14.596918642727806, 14.596918642727806, 13.982776740077167, 13.982776740077167, 13.982776740077167, 13.982776740077167, 13.982776740077167, 13.982776740077167, 13.982776740077167, 13.948486039315037, 13.625581946411518]}]}, \"metricName\": null, \"primaryMetricName\": \"r2_score\", \"showLegend\": false}, \"run_metrics\": [{\"name\": \"experiment_status\", \"run_id\": \"AutoML_c62ec8fa-12d0-476c-aa1a-1faeb55958e2\", \"categories\": [0, 1, 2, 3, 4, 5, 6, 7, 8], \"series\": [{\"data\": [\"DatasetEvaluation\", \"FeaturesGeneration\", \"DatasetFeaturization\", \"DatasetFeaturizationCompleted\", \"DatasetCrossValidationSplit\", \"ModelSelection\", \"BestRunExplainModel\", \"ModelExplanationDataSetSetup\", \"PickSurrogateModel\"]}]}, {\"name\": \"experiment_status_description\", \"run_id\": \"AutoML_c62ec8fa-12d0-476c-aa1a-1faeb55958e2\", \"categories\": [0, 1, 2, 3, 4, 5, 6, 7, 8], \"series\": [{\"data\": [\"Gathering dataset statistics.\", \"Generating features for the dataset.\", \"Beginning to fit featurizers and featurize the dataset.\", \"Completed fit featurizers and featurizing the dataset.\", \"Generating individually featurized CV splits.\", \"Beginning model selection.\", \"Best run model explanations started\", \"Model explanations data setup completed\", \"Choosing LinearModel as the surrogate model for explanations\"]}]}, {\"name\": \"normalized_median_absolute_error\", \"run_id\": \"AutoML_c62ec8fa-12d0-476c-aa1a-1faeb55958e2\", \"categories\": [0], \"series\": [{\"data\": [0.0016010659685219847]}]}, {\"name\": \"normalized_root_mean_squared_log_error\", \"run_id\": \"AutoML_c62ec8fa-12d0-476c-aa1a-1faeb55958e2\", \"categories\": [0], \"series\": [{\"data\": [0.013842334711647733]}]}, {\"name\": \"explained_variance\", \"run_id\": \"AutoML_c62ec8fa-12d0-476c-aa1a-1faeb55958e2\", \"categories\": [0], \"series\": [{\"data\": [0.9264039456197122]}]}, {\"name\": \"mean_absolute_percentage_error\", \"run_id\": \"AutoML_c62ec8fa-12d0-476c-aa1a-1faeb55958e2\", \"categories\": [0], \"series\": [{\"data\": [13.625581946411518]}]}, {\"name\": \"r2_score\", \"run_id\": \"AutoML_c62ec8fa-12d0-476c-aa1a-1faeb55958e2\", \"categories\": [0], \"series\": [{\"data\": [0.9264001544743874]}]}, {\"name\": \"normalized_mean_absolute_error\", \"run_id\": \"AutoML_c62ec8fa-12d0-476c-aa1a-1faeb55958e2\", \"categories\": [0], \"series\": [{\"data\": [0.0023808450604142434]}]}, {\"name\": \"normalized_root_mean_squared_error\", \"run_id\": \"AutoML_c62ec8fa-12d0-476c-aa1a-1faeb55958e2\", \"categories\": [0], \"series\": [{\"data\": [0.004338416573659531]}]}, {\"name\": \"mean_absolute_error\", \"run_id\": \"AutoML_c62ec8fa-12d0-476c-aa1a-1faeb55958e2\", \"categories\": [0], \"series\": [{\"data\": [3068.642628227193]}]}, {\"name\": \"root_mean_squared_error\", \"run_id\": \"AutoML_c62ec8fa-12d0-476c-aa1a-1faeb55958e2\", \"categories\": [0], \"series\": [{\"data\": [5591.733060790884]}]}, {\"name\": \"spearman_correlation\", \"run_id\": \"AutoML_c62ec8fa-12d0-476c-aa1a-1faeb55958e2\", \"categories\": [0], \"series\": [{\"data\": [0.9580235840464137]}]}, {\"name\": \"median_absolute_error\", \"run_id\": \"AutoML_c62ec8fa-12d0-476c-aa1a-1faeb55958e2\", \"categories\": [0], \"series\": [{\"data\": [2063.5947140363637]}]}, {\"name\": \"root_mean_squared_log_error\", \"run_id\": \"AutoML_c62ec8fa-12d0-476c-aa1a-1faeb55958e2\", \"categories\": [0], \"series\": [{\"data\": [0.1947518374608283]}]}], \"run_logs\": \"\\nRun is completed.\", \"graph\": {}, \"widget_settings\": {\"childWidgetDisplay\": \"popup\", \"send_telemetry\": false, \"log_level\": \"INFO\", \"sdk_version\": \"1.34.0\"}, \"loading\": false}"
          },
          "metadata": {}
        }
      ],
      "execution_count": 8,
      "metadata": {
        "gather": {
          "logged": 1633502338094
        },
        "jupyter": {
          "outputs_hidden": false,
          "source_hidden": false
        },
        "nteract": {
          "transient": {
            "deleting": false
          }
        }
      }
    },
    {
      "cell_type": "markdown",
      "source": [
        "## Best Model\n",
        "\n",
        "TODO: In the cell below, get the best model from the automl experiments and display all the properties of the model.\n",
        "\n"
      ],
      "metadata": {}
    },
    {
      "cell_type": "code",
      "source": [
        "# https://docs.microsoft.com/en-us/python/api/azureml-train-automl-client/azureml.train.automl.run.automlrun?view=azure-ml-py#get-output-iteration--typing-union-int--nonetype----none--metric--typing-union-str--nonetype----none--return-onnx-model--bool---false--return-split-onnx-model--typing-union-azureml-automl-core-onnx-convert-onnx-convert-constants-splitonnxmodelname--nonetype----none----kwargs--typing-any-----typing-tuple-azureml-core-run-run--typing-any-\n",
        "# If I decide to do the onnx models, use the get_output option of the automlrun in the link above to explain how\n",
        "\n",
        "remote_run.wait_for_completion()\n",
        "best_run, fitted_model = remote_run.get_output()\n",
        "print(\"Details of best run\")\n",
        "print(best_run)\n",
        "print(\"Fitted model\")\n",
        "print(fitted_model)\n",
        "print(\"Steps of fitted model\")\n",
        "print(fitted_model.steps)\n",
        "\n",
        "\n",
        "\n",
        "def print_model(model, prefix=\"\"):\n",
        "    for step in model.steps:\n",
        "        print(prefix + step[0])\n",
        "        if hasattr(step[1], 'estimators') and hasattr(step[1], 'weights'):\n",
        "            pprint({'estimators': list(e[0] for e in step[1].estimators), 'weights': step[1].weights})\n",
        "            print()\n",
        "            for estimator in step[1].estimators:\n",
        "                print_model(estimator[1], estimator[0]+ ' - ')\n",
        "        elif hasattr(step[1], '_base_learners') and hasattr(step[1], '_meta_learner'):\n",
        "            print(\"\\nMeta Learner\")\n",
        "            pprint(step[1]._meta_learner)\n",
        "            print()\n",
        "            for estimator in step[1]._base_learners:\n",
        "                print_model(estimator[1], estimator[0]+ ' - ')\n",
        "        else:\n",
        "            pprint(step[1].get_params())\n",
        "            print()   \n",
        "print(\"Details of fitted model\")\n",
        "print_model(fitted_model)\n",
        "\n",
        "# https://github.com/Azure/MachineLearningNotebooks/blob/master/how-to-use-azureml/explain-model/azure-integration/remote-explanation/explain-model-on-amlcompute.ipynb\n",
        "# https://docs.microsoft.com/en-us/azure/machine-learning/concept-onnx\n",
        "# https://docs.microsoft.com/en-us/azure/machine-learning/concept-automated-ml#automl--onnx\n",
        "# https://github.com/onnx/tutorials"
      ],
      "outputs": [
        {
          "output_type": "stream",
          "name": "stdout",
          "text": "Details of best run\nRun(Experiment: PCAP_Exp_CarPrices_AutoML,\nId: AutoML_c62ec8fa-12d0-476c-aa1a-1faeb55958e2_15,\nType: azureml.scriptrun,\nStatus: Completed)\nFitted model\nRegressionPipeline(pipeline=Pipeline(memory=None,\n                                     steps=[('datatransformer',\n                                             DataTransformer(enable_dnn=False, enable_feature_sweeping=True, feature_sweeping_config={}, feature_sweeping_timeout=86400, featurization_config=None, force_text_dnn=False, is_cross_validation=True, is_onnx_compatible=False, observer=None, task='regression', working_dir='/mnt/batch/ta...\n), random_state=None))], verbose=False))], meta_learner=ElasticNetCV(alphas=None, copy_X=True, cv=None, eps=0.001, fit_intercept=True, l1_ratio=0.5, max_iter=1000, n_alphas=100, n_jobs=None, normalize=False, positive=False, precompute='auto', random_state=None, selection='cyclic', tol=0.0001, verbose=0), training_cv_folds=5))],\n                                     verbose=False),\n                   stddev=[5607.772338865041])\nSteps of fitted model\n[('datatransformer', DataTransformer(\n    task='regression',\n    is_onnx_compatible=False,\n    enable_feature_sweeping=True,\n    enable_dnn=False,\n    force_text_dnn=False,\n    feature_sweeping_timeout=86400,\n    featurization_config=None,\n    is_cross_validation=True,\n    feature_sweeping_config={}\n)), ('stackensembleregressor', StackEnsembleRegressor(\n    base_learners=[('2', Pipeline(\n        memory=None,\n        steps=[('standardscalerwrapper', StandardScalerWrapper(\n            copy=True,\n            with_mean=False,\n            with_std=False\n        )), ('xgboostregressor', XGBoostRegressor(\n            random_state=0,\n            n_jobs=1,\n            problem_info=ProblemInfo(\n                gpu_training_param_dict={'processing_unit_type': 'cpu'}\n            ),\n            booster='gbtree',\n            colsample_bytree=0.5,\n            eta=0.001,\n            gamma=0,\n            max_depth=9,\n            max_leaves=63,\n            n_estimators=100,\n            objective='reg:linear',\n            reg_alpha=0,\n            reg_lambda=0.625,\n            subsample=0.7,\n            tree_method='auto'\n        ))],\n        verbose=False\n    )), ('0', Pipeline(\n        memory=None,\n        steps=[('maxabsscaler', MaxAbsScaler(\n            copy=True\n        )), ('lightgbmregressor', LightGBMRegressor(\n            min_data_in_leaf=20,\n            random_state=None,\n            n_jobs=1,\n            problem_info=ProblemInfo(\n                gpu_training_param_dict={'processing_unit_type': 'cpu'}\n            )\n        ))],\n        verbose=False\n    ))],\n    meta_learner=ElasticNetCV(\n        alphas=None,\n        copy_X=True,\n        cv=None,\n        eps=0.001,\n        fit_intercept=True,\n        l1_ratio=0.5,\n        max_iter=1000,\n        n_alphas=100,\n        n_jobs=None,\n        normalize=False,\n        positive=False,\n        precompute='auto',\n        random_state=None,\n        selection='cyclic',\n        tol=0.0001,\n        verbose=0\n    ),\n    training_cv_folds=5\n))]\nDetails of fitted model\ndatatransformer\n{'enable_dnn': False,\n 'enable_feature_sweeping': True,\n 'feature_sweeping_config': {},\n 'feature_sweeping_timeout': 86400,\n 'featurization_config': None,\n 'force_text_dnn': False,\n 'is_cross_validation': True,\n 'is_onnx_compatible': False,\n 'observer': None,\n 'task': 'regression',\n 'working_dir': '/mnt/batch/tasks/shared/LS_root/mounts/clusters/notebook160132/code/Users/odl_user_160132'}\n\nstackensembleregressor\n\nMeta Learner\nElasticNetCV(alphas=None, copy_X=True, cv=None, eps=0.001, fit_intercept=True,\n             l1_ratio=0.5, max_iter=1000, n_alphas=100, n_jobs=None,\n             normalize=False, positive=False, precompute='auto',\n             random_state=None, selection='cyclic', tol=0.0001, verbose=0)\n\n2 - standardscalerwrapper\n{'class_name': 'StandardScaler',\n 'copy': True,\n 'module_name': 'sklearn.preprocessing._data',\n 'with_mean': False,\n 'with_std': False}\n\n2 - xgboostregressor\n{'base_score': 0.5,\n 'booster': 'gbtree',\n 'colsample_bylevel': 1,\n 'colsample_bynode': 1,\n 'colsample_bytree': 0.5,\n 'eta': 0.001,\n 'gamma': 0,\n 'importance_type': 'gain',\n 'learning_rate': 0.1,\n 'max_delta_step': 0,\n 'max_depth': 9,\n 'max_leaves': 63,\n 'min_child_weight': 1,\n 'missing': nan,\n 'n_estimators': 100,\n 'n_jobs': 1,\n 'nthread': None,\n 'objective': 'reg:squarederror',\n 'random_state': 0,\n 'reg_alpha': 0,\n 'reg_lambda': 0.625,\n 'scale_pos_weight': 1,\n 'seed': None,\n 'silent': None,\n 'subsample': 0.7,\n 'tree_method': 'auto',\n 'verbose': -10,\n 'verbosity': 0}\n\n0 - maxabsscaler\n{'copy': True}\n\n0 - lightgbmregressor\n{'min_data_in_leaf': 20,\n 'n_jobs': 1,\n 'problem_info': ProblemInfo(\n    gpu_training_param_dict={'processing_unit_type': 'cpu'}\n),\n 'random_state': None}\n\n"
        }
      ],
      "execution_count": 9,
      "metadata": {
        "gather": {
          "logged": 1633504677722
        },
        "jupyter": {
          "outputs_hidden": false,
          "source_hidden": false
        },
        "nteract": {
          "transient": {
            "deleting": false
          }
        }
      }
    },
    {
      "cell_type": "code",
      "source": [
        "#This is from a previous run! Was just an experiment to see what it would print\n",
        "client = ExplanationClient.from_run(best_run)\n",
        "\n",
        "raw_explanations = client.download_model_explanation(raw=True)\n",
        "print(\"Explanations of raw feature importance\")\n",
        "print(raw_explanations.get_feature_importance_dict())\n",
        "\n",
        "engineered_explanations = client.download_model_explanation(raw=False)\n",
        "print(\"Explanations of engineered feature importance\")\n",
        "print(engineered_explanations .get_feature_importance_dict())"
      ],
      "outputs": [
        {
          "output_type": "stream",
          "name": "stderr",
          "text": "INFO:interpret_community.common.explanation_utils:Using default datastore for uploads\n"
        },
        {
          "output_type": "stream",
          "name": "stdout",
          "text": "Explanations of raw feature importance\n{'make': 5231.208014009412, 'year': 4586.179355115348, 'engine_size': 3641.9943364339865, 'miles': 2179.420158360328, 'model': 2019.1348045797881, 'body_type': 1765.052619310363, 'drivetrain': 1652.5170506806865, 'trim': 1408.8263900614154, 'fuel_type': 1163.86818154396, 'state': 834.937001754856, 'engine_block': 586.9135334878605, 'city': 150.75619377361465, 'zip': 149.425395406133, 'seller_name': 139.4658698779743, 'vehicle_type': 136.95199544572412, 'transmission': 60.93915061421192, 'street': 56.7292710620626, 'stock_no': 0.0, 'vin': 0.0, 'id': 0.0}\nExplanations of imputed feature importance\n{'year_MeanImputer': 4586.179355115616, 'engine_size_MeanImputer': 3449.7551830475495, 'miles_MeanImputer': 2189.6278557600394, 'drivetrain_CharGramCountVectorizer_fwd': 871.4660139863786, 'drivetrain_CharGramCountVectorizer_4wd': 796.6858296252691, 'make_CharGramCountVectorizer_nissan': 615.6758580467321, 'engine_size_ImputationMarker': 599.9917064687519, 'body_type_CharGramCountVectorizer_sedan': 560.9099625302733, 'engine_block_CharGramCountVectorizer_i': 550.0648503532361, 'fuel_type_CharGramCountVectorizer_premium unleaded': 497.83129618224115, 'body_type_CharGramCountVectorizer_pickup': 462.7311967680717, 'make_CharGramCountVectorizer_hyundai': 452.4832871368541, 'state_CharGramCountVectorizer_qc': 422.53566365716773, 'make_CharGramCountVectorizer_ford': 388.83993632673497, 'make_CharGramCountVectorizer_kia': 385.60441648615995, 'make_CharGramCountVectorizer_mercedes-benz': 318.0842591444204, 'make_CharGramCountVectorizer_jeep': 307.7692490049131, 'body_type_CharGramCountVectorizer_hatchback': 293.8977684960854, 'make_CharGramCountVectorizer_mazda': 251.1760168769396, 'fuel_type_CharGramCountVectorizer_e85 / unleaded': 219.02552612310998, 'fuel_type_CharGramCountVectorizer_unleaded': 212.06963571813344, 'make_CharGramCountVectorizer_toyota': 204.1334249346933, 'make_CharGramCountVectorizer_bmw': 197.74693864797277, 'model_HashOneHotEncoder_387': 189.69158504774967, 'state_CharGramCountVectorizer_bc': 186.59862341381256, 'make_CharGramCountVectorizer_chevrolet': 182.22980110890884, 'make_CharGramCountVectorizer_volkswagen': 173.7439297050953, 'make_CharGramCountVectorizer_honda': 169.5821579962749, 'body_type_CharGramCountVectorizer_suv': 163.55611018123545, 'fuel_type_CharGramCountVectorizer_diesel': 151.88589096318452, 'make_CharGramCountVectorizer_dodge': 148.92180255903463, 'make_CharGramCountVectorizer_porsche': 141.8474891298792, 'make_CharGramCountVectorizer_ferrari': 138.40268826925538, 'vehicle_type_ModeCatImputer_LabelEncoder': 136.95199544572736, 'make_CharGramCountVectorizer_mitsubishi': 124.91678102444762, 'make_CharGramCountVectorizer_audi': 119.13864894283566, 'make_CharGramCountVectorizer_mclaren': 118.00088401540769, 'make_CharGramCountVectorizer_subaru': 109.25538719870895, 'state_CharGramCountVectorizer_on': 100.61512794619172, 'trim_HashOneHotEncoder_548': 98.7341513002397, 'make_CharGramCountVectorizer_land rover': 89.01209384022665, 'state_CharGramCountVectorizer_ab': 85.33878011396385, 'body_type_CharGramCountVectorizer_none': 84.13057583244029, 'model_HashOneHotEncoder_337': 75.22014319152754, 'model_HashOneHotEncoder_155': 68.62074886526449, 'fuel_type_CharGramCountVectorizer_electric / premium unleaded': 63.215638639205096, 'make_CharGramCountVectorizer_jaguar': 62.75386494205035, 'model_HashOneHotEncoder_274': 62.5599599222858, 'body_type_CharGramCountVectorizer_coupe': 62.273313666104436, 'model_HashOneHotEncoder_217': 61.35869382644537, 'transmission_ModeCatImputer_LabelEncoder': 60.939150614212465, 'make_CharGramCountVectorizer_tesla': 56.002734091290954, 'body_type_CharGramCountVectorizer_convertible': 54.744518397139345, 'body_type_CharGramCountVectorizer_minivan': 50.57883081021003, 'trim_HashOneHotEncoder_602': 50.57767201773779, 'model_HashOneHotEncoder_14': 49.331500084345485, 'make_CharGramCountVectorizer_rolls-royce': 49.21475496793865, 'model_HashOneHotEncoder_160': 48.231596116154954, 'make_CharGramCountVectorizer_lamborghini': 45.62487059759719, 'model_HashOneHotEncoder_95': 45.55545650093548, 'model_HashOneHotEncoder_175': 45.39077776756902, 'make_CharGramCountVectorizer_smart': 44.271964817755446, 'fuel_type_CharGramCountVectorizer_electric / unleaded': 44.17752995303936, 'make_CharGramCountVectorizer_ram': 43.93688102656962, 'model_HashOneHotEncoder_498': 42.10138833816157, 'model_HashOneHotEncoder_246': 40.119409983067385, 'model_HashOneHotEncoder_394': 39.98788697375186, 'model_HashOneHotEncoder_25': 39.586329262981685, 'make_CharGramCountVectorizer_aston martin': 37.91029880981145, 'make_CharGramCountVectorizer_mini': 37.76470557909974, 'engine_block_CharGramCountVectorizer': 36.84868313463921, 'model_HashOneHotEncoder_77': 35.83280366593635, 'model_HashOneHotEncoder_397': 35.26717108293215, 'trim_HashOneHotEncoder_277': 34.575960349422516, 'model_HashOneHotEncoder_138': 34.226126726982535, 'make_CharGramCountVectorizer_infiniti': 34.198806172115766, 'trim_HashOneHotEncoder_315': 34.150859985634185, 'trim_HashOneHotEncoder_974': 33.23129039360837, 'trim_HashOneHotEncoder_491': 32.944808336942664, 'trim_HashOneHotEncoder_275': 31.90216602801262, 'model_HashOneHotEncoder_55': 31.518395937193443, 'zip_HashOneHotEncoder_1977': 30.581005759306652, 'trim_HashOneHotEncoder_370': 30.289569577465215, 'model_HashOneHotEncoder_294': 30.171728276013095, 'trim_HashOneHotEncoder_188': 29.928751195107367, 'model_HashOneHotEncoder_224': 29.459474963682286, 'trim_HashOneHotEncoder_76': 29.0320424535624, 'model_HashOneHotEncoder_247': 27.663266028995753, 'make_CharGramCountVectorizer_buick': 27.588567651671383, 'model_HashOneHotEncoder_282': 27.40794189920587, 'trim_HashOneHotEncoder_353': 27.375821601999025, 'trim_HashOneHotEncoder_751': 26.868024935064547, 'make_CharGramCountVectorizer_maserati': 26.311829023612724, 'trim_HashOneHotEncoder_192': 26.281506031100367, 'model_HashOneHotEncoder_320': 26.10709679442362, 'trim_HashOneHotEncoder_388': 26.05801580041229, 'trim_HashOneHotEncoder_112': 25.578627154517473, 'make_CharGramCountVectorizer_chrysler': 25.499742664349608, 'model_HashOneHotEncoder_426': 25.372331266998394, 'trim_HashOneHotEncoder_140': 25.170362731630828}\n"
        }
      ],
      "execution_count": 57,
      "metadata": {
        "gather": {
          "logged": 1633305225512
        },
        "jupyter": {
          "outputs_hidden": false,
          "source_hidden": false
        },
        "nteract": {
          "transient": {
            "deleting": false
          }
        }
      }
    },
    {
      "cell_type": "code",
      "source": [
        "#TODO: Save the best model\n",
        "bestAutoname = best_run.properties['model_name']\n",
        "bestAutofolder=\"model\"\n",
        "bestAutofolder2 = 'BestAutoMlModel'\n",
        "downloadtarget = f'./{bestAutofolder}/{bestAutofolder2}'\n",
        "print(f\"Saving best model with name: {bestAutoname} to: {downloadtarget}\")\n",
        "model = remote_run.register_model(model_name = bestAutoname, description = 'AutoML-AutoPrices')\n",
        "model.download(target_dir=downloadtarget, exist_ok = True)\n"
      ],
      "outputs": [
        {
          "output_type": "stream",
          "name": "stdout",
          "text": "Saving best model with name: AutoMLc62ec8fa115 to: ./model/BestAutoMlModel\n"
        },
        {
          "output_type": "execute_result",
          "execution_count": 10,
          "data": {
            "text/plain": "'model/BestAutoMlModel/model.pkl'"
          },
          "metadata": {}
        }
      ],
      "execution_count": 10,
      "metadata": {
        "gather": {
          "logged": 1633504951373
        },
        "jupyter": {
          "outputs_hidden": false,
          "source_hidden": false
        },
        "nteract": {
          "transient": {
            "deleting": false
          }
        }
      }
    },
    {
      "cell_type": "markdown",
      "source": [
        "## Model Deployment\n",
        "\n",
        "Remember you have to deploy only one of the two models you trained.. Perform the steps in the rest of this notebook only if you wish to deploy this model.\n",
        "\n",
        "TODO: In the cell below, register the model, create an inference config and deploy the model as a web service."
      ],
      "metadata": {}
    },
    {
      "cell_type": "code",
      "source": [],
      "outputs": [],
      "execution_count": null,
      "metadata": {
        "gather": {
          "logged": 1633302858671
        },
        "jupyter": {
          "outputs_hidden": false,
          "source_hidden": false
        },
        "nteract": {
          "transient": {
            "deleting": false
          }
        }
      }
    },
    {
      "cell_type": "markdown",
      "source": [
        "TODO: In the cell below, send a request to the web service you deployed to test it."
      ],
      "metadata": {
        "collapsed": true,
        "gather": {
          "logged": 1598431657736
        },
        "jupyter": {
          "outputs_hidden": false,
          "source_hidden": false
        },
        "nteract": {
          "transient": {
            "deleting": false
          }
        }
      }
    },
    {
      "cell_type": "code",
      "source": [],
      "outputs": [],
      "execution_count": null,
      "metadata": {
        "gather": {
          "logged": 1598432707604
        },
        "jupyter": {
          "outputs_hidden": false,
          "source_hidden": false
        },
        "nteract": {
          "transient": {
            "deleting": false
          }
        }
      }
    },
    {
      "cell_type": "markdown",
      "source": [
        "TODO: In the cell below, print the logs of the web service and delete the service"
      ],
      "metadata": {
        "collapsed": true,
        "gather": {
          "logged": 1598432765711
        },
        "jupyter": {
          "outputs_hidden": false,
          "source_hidden": false
        },
        "nteract": {
          "transient": {
            "deleting": false
          }
        }
      }
    },
    {
      "cell_type": "code",
      "source": [],
      "outputs": [],
      "execution_count": null,
      "metadata": {
        "jupyter": {
          "outputs_hidden": false,
          "source_hidden": false
        },
        "nteract": {
          "transient": {
            "deleting": false
          }
        }
      }
    },
    {
      "cell_type": "code",
      "source": [],
      "outputs": [],
      "execution_count": null,
      "metadata": {
        "jupyter": {
          "outputs_hidden": false,
          "source_hidden": false
        },
        "nteract": {
          "transient": {
            "deleting": false
          }
        }
      }
    }
  ],
  "metadata": {
    "kernel_info": {
      "name": "python3"
    },
    "kernelspec": {
      "name": "python3",
      "language": "python",
      "display_name": "Python 3"
    },
    "language_info": {
      "name": "python",
      "version": "3.6.9",
      "mimetype": "text/x-python",
      "codemirror_mode": {
        "name": "ipython",
        "version": 3
      },
      "pygments_lexer": "ipython3",
      "nbconvert_exporter": "python",
      "file_extension": ".py"
    },
    "microsoft": {
      "host": {
        "AzureML": {
          "notebookHasBeenCompleted": true
        }
      }
    },
    "nteract": {
      "version": "nteract-front-end@1.0.0"
    }
  },
  "nbformat": 4,
  "nbformat_minor": 2
}