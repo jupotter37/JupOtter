{
 "cells": [
  {
   "cell_type": "markdown",
   "metadata": {
    "id": "HcDI9XWwIZ48"
   },
   "source": [
    "### Solving the Generalized Poisson Equation using Self consistent iterative procedure."
   ]
  },
  {
   "cell_type": "markdown",
   "metadata": {},
   "source": [
    "* In this notebook, we show how to solve the Generalized Poisson equation (GPe) using the self consistent iterative procedure.\n",
    "\n",
    "* The GPe is defined as;\n",
    "$$ \\nabla \\cdot \\epsilon(r) \\nabla \\phi(r) = - 4 \\pi \\rho(r), $$\n",
    "\n",
    "where $\\epsilon(r)$ is the dielectric function, $\\phi(r)$ is the electrostatic potential and $\\rho(r)$ is the charge density.\n",
    "\n",
    "#### The Charge Density, $\\rho(r)$\n",
    "\n",
    "The general formula for a three-dimensional Gaussian function centered at a position vector $\\mathbf{p}$ with standard deviation $\\sigma$ and total charge $Q$ over the space is given by:\n",
    "\n",
    "$$\n",
    "f(\\mathbf{x}) = \\frac{Q}{(2\\pi \\sigma^2)^{3/2}} \\exp\\left(-\\frac{\\|\\mathbf{x} - \\mathbf{p}\\|^2}{2\\sigma^2}\\right)\n",
    "$$\n",
    "\n",
    "where:\n",
    "* $\\mathbf{x}$ is the position vector where the density is evaluated.\n",
    "* $\\mathbf{p}$ is the vector denoting the center of the Gaussian.\n",
    "* $\\sigma$ is the standard deviation of the Gaussian, reflecting its spread.\n",
    "* $Q$ is the total charge, which scales the height of the Gaussian such that its integral over all space equals $Q$.\n",
    "*  $|\\mathbf{x} - \\mathbf{p}|^2$ denotes the squared Euclidean distance between the point $\\mathbf{x}$ and the center $\\mathbf{p}$.\n",
    "\n",
    "\n",
    "This formulation applies to the scenario where the Gaussian function is symmetric in all three dimensions around the center $\\mathbf{p}$.\n",
    "\n",
    "* Two equal but opposite charges defined in form of gaussians are placed at the center of the cell to form a dipole. \n",
    "\n",
    "#### The Dielectric Funtion, $\\epsilon(r)$\n",
    "\n",
    "* The dielectric function is defined in terms of the interface function. The interface function is the defined in form of an error function\n",
    "\n",
    "#### Approach\n",
    "\n",
    "* Transform the GPe to the form \n",
    "\n",
    "$$\n",
    "\\nabla^2 \\phi(r) = -4 \\pi \\bigg[ \\frac{\\rho (r)}{\\epsilon(r)} + \\rho^{iter} (r) \\bigg],\n",
    "$$\n",
    "\n",
    "where \n",
    "$$ \\rho^{iter}. = \\frac{1}{4 \\pi} \\nabla ln \\epsilon(r) \\cdot \\nabla \\phi(r)$$\n",
    "\n",
    "\n",
    "* Since the $\\rho^{iter}$ depends on $\\phi(r)$, we employ Fast Fourier Transforms (FFTs) to calculate $\\phi$ and use to find $\\rho^{iter}$.\n",
    "\n",
    "### Validating the results\n",
    "\n",
    "The results were validated using the Onsager reaction field $E_{RF}$. This is defined as;\n",
    "\n",
    "$$ E_{RF} = \\frac{2 (\\epsilon - 1) \\bar{M}}{(2\\epsilon - 1) r^3},$$\n",
    "\n",
    "where $\\bar{M}$ is the total dipole moment, $r$ is the radius and $\\epsilon$ the dielectric function. \n"
   ]
  },
  {
   "cell_type": "markdown",
   "metadata": {},
   "source": [
    "### Dependencies\n",
    "\n",
    "* To run this code, install $DFTpy$, a python module. This is an orbital free- Density Functional Theory code based on plane wave expansion of the electron density. \n",
    "\n",
    "#### Installation\n",
    "The simplest way to install this would be through pip.\n",
    "\n",
    "Do `pip install dftpy`\n"
   ]
  },
  {
   "cell_type": "markdown",
   "metadata": {},
   "source": [
    "#### Importing necessary modules"
   ]
  },
  {
   "cell_type": "code",
   "execution_count": 16,
   "metadata": {
    "executionInfo": {
     "elapsed": 2354,
     "status": "ok",
     "timestamp": 1713291075821,
     "user": {
      "displayName": "Denis Mulumba",
      "userId": "05263152106356430195"
     },
     "user_tz": 360
    },
    "id": "_XDS0JEYGhZx"
   },
   "outputs": [],
   "source": [
    "import numpy as np\n",
    "from dftpy.ions import Ions\n",
    "from dftpy.field import DirectField\n",
    "from dftpy.grid import DirectGrid\n",
    "from dftpy.math_utils import ecut2nr\n",
    "from scipy.special import erf\n",
    "import matplotlib.pyplot as plt"
   ]
  },
  {
   "cell_type": "code",
   "execution_count": 17,
   "metadata": {
    "executionInfo": {
     "elapsed": 166,
     "status": "ok",
     "timestamp": 1713291086035,
     "user": {
      "displayName": "Denis Mulumba",
      "userId": "05263152106356430195"
     },
     "user_tz": 360
    },
    "id": "n84Ebwa3GxY-"
   },
   "outputs": [],
   "source": [
    "def mean_squared_density(density: DirectField):\n",
    "    \"\"\"\"\n",
    "    Compute the mean squared sum of a scalar density\n",
    "    \"\"\"\n",
    "    return np.sqrt(np.einsum(\"ijk->\", (density*density))/density.grid.nnr)"
   ]
  },
  {
   "cell_type": "code",
   "execution_count": 18,
   "metadata": {
    "executionInfo": {
     "elapsed": 166,
     "status": "ok",
     "timestamp": 1713291098868,
     "user": {
      "displayName": "Denis Mulumba",
      "userId": "05263152106356430195"
     },
     "user_tz": 360
    },
    "id": "AV4imuCLG0Zb"
   },
   "outputs": [],
   "source": [
    "def scalar_product(density1: DirectField, density2: DirectField):\n",
    "    \"\"\"\n",
    "    Compute the scalar product of the density\n",
    "    \"\"\"\n",
    "    return np.einsum(\"ijk->\", (density1*density2))/density1.grid.nnr\n"
   ]
  },
  {
   "cell_type": "markdown",
   "metadata": {},
   "source": [
    "### $\\rho(r)$ as a gaussian"
   ]
  },
  {
   "cell_type": "code",
   "execution_count": 19,
   "metadata": {
    "executionInfo": {
     "elapsed": 182,
     "status": "ok",
     "timestamp": 1713291108535,
     "user": {
      "displayName": "Denis Mulumba",
      "userId": "05263152106356430195"
     },
     "user_tz": 360
    },
    "id": "Y8KyBfuzG3jW"
   },
   "outputs": [],
   "source": [
    "def gaussian_density(grid: DirectField, position: np.ndarray(shape=(3,)), sigma: float=0.5, charge: float=1.0):\n",
    "    \"\"\"\n",
    "    Generate a scalar functions on a grid, the function is a Gaussian\n",
    "\n",
    "    Input arguments:\n",
    "        grid: DirectGrid with all the iformation on the cell\n",
    "        position: center of the Gaussian\n",
    "        sigma: spread of the Gaussian\n",
    "        charge: total integral of the Gaussian\n",
    "\n",
    "    Output:\n",
    "        density: a DirectField scalar density on the grid\n",
    "    \"\"\"\n",
    "    # Check the input values: sigma should be different from (greater than) zero\n",
    "    if sigma <= 0. :\n",
    "            raise ValueError(\"Gaussian spread should be positive\")\n",
    "    distance=np.einsum('ijkl->jkl',np.power(grid.r-np.broadcast_to(position,(grid.nr[2],grid.nr[1],grid.nr[0],3)).T,2))\n",
    "    density=charge/(2*np.pi*sigma**2)**(3/2)*np.exp(-distance/2)\n",
    "\n",
    "    return DirectField(grid=grid,data=density)"
   ]
  },
  {
   "cell_type": "markdown",
   "metadata": {},
   "source": [
    "### The error function \n",
    "\n",
    "Here we construct the error function and its gradient to later be used to construct the interface function"
   ]
  },
  {
   "cell_type": "code",
   "execution_count": 20,
   "metadata": {
    "executionInfo": {
     "elapsed": 181,
     "status": "ok",
     "timestamp": 1713291118833,
     "user": {
      "displayName": "Denis Mulumba",
      "userId": "05263152106356430195"
     },
     "user_tz": 360
    },
    "id": "CMQAeHcYG56K"
   },
   "outputs": [],
   "source": [
    "def erf_density(grid: DirectField, position: np.ndarray(shape=(3,)), delta: float=0.5, width: float=1.0):\n",
    "    \"\"\" home/denismulumba/trial/Environ/examples/programs/from_cube\n",
    "    Generate a scalar functions on a grid, the function is a shifted error function (goes from 0 to 1)\n",
    "\n",
    "    Input arguments:\n",
    "        grid: DirectGrid with all the information on the cell\n",
    "        position: center of the error function\n",
    "        delta: spread of the transition from 0 to 1\n",
    "        width: distance at which the function goes from 0 to 1\n",
    "\n",
    "    Output:\n",
    "        density: a DirectField scalar density on the grid\n",
    "    \"\"\"\n",
    "    # width should be greater than zero, delta should be greater than zero\n",
    "    if width <= 0. :\n",
    "            raise (\"Error function width should be positive\")\n",
    "    if delta <= 0. :\n",
    "            raise ValueError(\"Error function spread should be positive\")\n",
    "    distance=np.sqrt(np.einsum('ijkl->jkl',np.power(grid.r - center.reshape(3,1,1,1),2)))\n",
    "    density=(erf((distance-width)/delta)+1)*0.5\n",
    "    return DirectField(grid=grid,data=density)\n",
    "\n",
    "def erf_gradient(grid: DirectField, position: np.ndarray(shape=(3,)), delta: float=0.5, width: float=1.0):\n",
    "    \"\"\"\n",
    "    Generate a vector function on a grid, the function is the gradient of a shifted error function\n",
    "\n",
    "    Input arguments:\n",
    "        grid: DirectGrid with all the information on the cell\n",
    "        position: center of the error function\n",
    "        delta: spread of the transition from 0 to 1\n",
    "        width: distance at which the function goes from 0 to 1\n",
    "\n",
    "    Output:\n",
    "        gradient: a rank 1 (3 components) DirectField field on the grid\n",
    "    \"\"\"\n",
    "    # width should be greater than zero, delta should be greater than zero\n",
    "    if width <= 0. :\n",
    "            raise (\"Error function width should be positgrid.r - center.reshape(3,1,1,1)ive\")\n",
    "    if delta <= 0. :\n",
    "            raise ValueError(\"Error function spread should be positive\")\n",
    "    distance = grid.r - center.reshape(3,1,1,1)\n",
    "    abs_distance = np.sqrt(np.einsum('ijkl->jkl',np.power(distance,2)))\n",
    "    abs_distance [ abs_distance < 1.e-10 ] = 1.e-10\n",
    "    arg = (abs_distance-width)/delta\n",
    "    return DirectField(grid=grid,rank=3,data=(1./np.sqrt(np.pi))*np.exp(-arg**2)*distance*1/(abs_distance*delta))"
   ]
  },
  {
   "cell_type": "markdown",
   "metadata": {},
   "source": [
    "### Electrostatic field using FFTs"
   ]
  },
  {
   "cell_type": "code",
   "execution_count": 21,
   "metadata": {
    "executionInfo": {
     "elapsed": 287,
     "status": "ok",
     "timestamp": 1713291131678,
     "user": {
      "displayName": "Denis Mulumba",
      "userId": "05263152106356430195"
     },
     "user_tz": 360
    },
    "id": "thwZvfO-G8XV"
   },
   "outputs": [],
   "source": [
    "def calc_electrostatic_field(rho: DirectField):\n",
    "    \"\"\"\n",
    "    Calculate the electrostatic field from a charge density\n",
    "    Output: rho: DirectField with the charge density\n",
    "    Output: v_h: DirectField with the electrostatic field\n",
    "    \"\"\"\n",
    "    imag = 0 + 1j\n",
    "    rho_g = rho.fft()\n",
    "    grid_g = rho_g.grid\n",
    "    grid_g.gg[0,0,0] = 1.# get the grid\n",
    "    field_of_g = rho_g * 4 * np.pi * grid_g.g * imag / grid_g.gg\n",
    "    return field_of_g.ifft(force_real=True)# calculate the residual"
   ]
  },
  {
   "cell_type": "markdown",
   "metadata": {
    "id": "RRnF7LisHM0s"
   },
   "source": [
    "Generating the cell and grid. We will NOT be using the atoms or the electronic density from the quantum-mechanical simulation here"
   ]
  },
  {
   "cell_type": "code",
   "execution_count": 22,
   "metadata": {
    "executionInfo": {
     "elapsed": 4,
     "status": "ok",
     "timestamp": 1713291201107,
     "user": {
      "displayName": "Denis Mulumba",
      "userId": "05263152106356430195"
     },
     "user_tz": 360
    },
    "id": "dtUKaT-GHMcA"
   },
   "outputs": [],
   "source": [
    "from ase.build import bulk\n",
    "atoms = bulk('Al', 'sc', a=10.*0.52917745, cubic=True) # units in input are Angstrom, but the internal units are a.u.\n",
    "ions = Ions.from_ase(atoms)\n",
    "nr = ecut2nr(ecut=3000, lattice=ions.cell) # the cutoff is in Ry atomic units\n",
    "grid = DirectGrid(lattice=ions.cell, nr=nr)\n",
    "center=np.ones(3)*ions.cell.diagonal()*0.5 # assuming an orthorombic cell\n",
    "icenter=nr//2"
   ]
  },
  {
   "cell_type": "markdown",
   "metadata": {
    "id": "yUglUWjTHEnr"
   },
   "source": [
    "We generate a fictitious smooth density of charge at the center of the cell, using Gaussian functions."
   ]
  },
  {
   "cell_type": "code",
   "execution_count": 23,
   "metadata": {
    "executionInfo": {
     "elapsed": 6440,
     "status": "ok",
     "timestamp": 1713291209928,
     "user": {
      "displayName": "Denis Mulumba",
      "userId": "05263152106356430195"
     },
     "user_tz": 360
    },
    "id": "lUm8JdhVHHKT"
   },
   "outputs": [],
   "source": [
    "# Properties of the gaussians\n",
    "delta = 0.5\n",
    "sigma = 0.5\n",
    "# positive charge\n",
    "pos_plus=center.copy()\n",
    "pos_plus[0]+= delta\n",
    "rho = gaussian_density(grid,pos_plus,sigma,charge=1.0)\n",
    "# negative charge\n",
    "pos_minus=center.copy()\n",
    "pos_minus[0]-= delta\n",
    "# we need to sum two charges, DirectField is not good for this, convert to nparray\n",
    "rho += gaussian_density(grid,pos_minus,sigma,charge=-1.0)\n",
    "dipole=(rho*grid.r).integral()"
   ]
  },
  {
   "cell_type": "markdown",
   "metadata": {
    "id": "zPSflyEiHcLe"
   },
   "source": [
    "We generate the system-environment smooth interface interface functions, as a spherical region centered in the center of the cell"
   ]
  },
  {
   "cell_type": "code",
   "execution_count": 24,
   "metadata": {
    "colab": {
     "base_uri": "https://localhost:8080/",
     "height": 466
    },
    "executionInfo": {
     "elapsed": 40114,
     "status": "ok",
     "timestamp": 1713291299849,
     "user": {
      "displayName": "Denis Mulumba",
      "userId": "05263152106356430195"
     },
     "user_tz": 360
    },
    "id": "BpOh-cTnHJMS",
    "outputId": "f249691c-ef8b-4777-f291-372ba5b88586"
   },
   "outputs": [],
   "source": [
    "softness = 0.1\n",
    "radius=3.0\n",
    "interface=1-erf_density(grid,center,softness,radius)\n",
    "interface_gradient=-erf_gradient(grid,center,softness,radius)\n",
    "# plt.plot(interface[icenter[0],icenter[1],:]) # uncomment for debuggin and visualization\n",
    "# plt.plot(interface_gradient[2,icenter[0],icenter[1],:]) # uncomment for debuggin and visualization\n",
    "# print(interface.integral(),4/3*np.pi*radius**3) # check that the volume of the interface makes sense\n",
    "# print(DirectField(grid=grid,data=np.sqrt(np.einsum('i...,i...->...',interface.gradient(),interface.gradient()))).integral(),4*np.pi*radius**2) # the surface also makes sense"
   ]
  },
  {
   "cell_type": "markdown",
   "metadata": {
    "id": "h1oG58L0HqCo"
   },
   "source": [
    "From the interface function we can define the dielectric medium"
   ]
  },
  {
   "cell_type": "code",
   "execution_count": 25,
   "metadata": {
    "colab": {
     "base_uri": "https://localhost:8080/",
     "height": 448
    },
    "executionInfo": {
     "elapsed": 10232,
     "status": "ok",
     "timestamp": 1713291336456,
     "user": {
      "displayName": "Denis Mulumba",
      "userId": "05263152106356430195"
     },
     "user_tz": 360
    },
    "id": "NDUnnhuAHY7-",
    "outputId": "d727abb7-ed98-4d4c-ba8f-8072353a485c"
   },
   "outputs": [],
   "source": [
    "epsilon0=80.\n",
    "epsilon=(epsilon0-1.)*(1.-interface)+1.\n",
    "epsilon_gradient=(1.0-epsilon0)*interface_gradient\n",
    "grad_log_epsilon_analytical=epsilon_gradient/epsilon\n",
    "grad_log_epsilon_numerical=np.log(epsilon).gradient()\n",
    "# plt.plot(epsilon[icenter[0],icenter[1],:]) # uncomment for debuggin and visualization\n",
    "# plt.plot(epsilon_gradient[2,icenter[0],icenter[1],:]) # uncomment for debuggin and visualization"
   ]
  },
  {
   "cell_type": "markdown",
   "metadata": {
    "id": "VV3ymeaWHyZl"
   },
   "source": [
    "Implement the fixed-point interative algorithm on the polarization charge"
   ]
  },
  {
   "cell_type": "code",
   "execution_count": 26,
   "metadata": {
    "executionInfo": {
     "elapsed": 27,
     "status": "ok",
     "timestamp": 1713291356643,
     "user": {
      "displayName": "Denis Mulumba",
      "userId": "05263152106356430195"
     },
     "user_tz": 360
    },
    "id": "jRPD8LfQHvGn"
   },
   "outputs": [],
   "source": [
    "def fixed_point_solver( rho, epsilon, grad_log_epsilon, maxiter=100, tol=1.e-5, mixing=0.6 ):\n",
    "    \"\"\"\n",
    "    Fixed point iterative solver on polarization charge. Requires the system charge density, the dielectric permittivity and\n",
    "    the gradient of the logarithm of epsilon in input. Returns the polarization charge in output\n",
    "    \"\"\"\n",
    "    # initialize the iterative polarization charge to zero\n",
    "    pol_iter = DirectField(grid=rho.grid, data=np.zeros(rho.data.shape))\n",
    "    # compute the fixed polarization charge from the part of the system charge leaking in the dielectric\n",
    "    pol_fixed = (1.-epsilon)*rho/epsilon\n",
    "    pol_fixed_charge = pol_fixed.integral() # total fixed polarization\n",
    "    # compute the charge of the input density\n",
    "    rho_charge = rho.integral()\n",
    "    # start iterative solver\n",
    "    iteration =0\n",
    "    while iteration <  maxiter:\n",
    "        # compute total charge density, including polarization charges\n",
    "        rho_total = rho+pol_iter+pol_fixed\n",
    "        # compute the electrostatic field from total charge\n",
    "        field=calc_electrostatic_field(rho_total)\n",
    "        # compute the new iterative polarization charge\n",
    "        pol_new = np.einsum(\"lijk,lijk ->ijk\", grad_log_epsilon, field / (4 * np.pi))\n",
    "        pol_res=(mixing-1.)*(pol_iter-pol_new)\n",
    "        pol_iter = pol_iter + pol_res\n",
    "        pol_iter_charge = pol_iter.integral()\n",
    "        # convergence is defined in terms of the quadratic mean of the residuals\n",
    "        convergence=mean_squared_density(pol_res)\n",
    "        iteration +=1\n",
    "        print(iteration, convergence, rho_charge, pol_fixed_charge, pol_iter_charge)\n",
    "        if convergence <= tol :#To stop the loop when the necessary condition is attained.\n",
    "           return pol_fixed + pol_iter\n",
    "    print('WARNING: convergence not achieved within',maxiter,' iterations')\n",
    "    return pol_fixed + pol_iter"
   ]
  },
  {
   "cell_type": "code",
   "execution_count": 27,
   "metadata": {
    "colab": {
     "base_uri": "https://localhost:8080/"
    },
    "executionInfo": {
     "elapsed": 248763,
     "status": "ok",
     "timestamp": 1713291637194,
     "user": {
      "displayName": "Denis Mulumba",
      "userId": "05263152106356430195"
     },
     "user_tz": 360
    },
    "id": "I0ZoYlB0H1aO",
    "outputId": "480e589f-2184-4fdc-d109-2a3f19a03cb3",
    "scrolled": true
   },
   "outputs": [
    {
     "name": "stdout",
     "output_type": "stream",
     "text": [
      "1 0.028614289856649888 -5.08027873109028e-06 5.016775248931301e-06 -1.1614775725042362e-08\n",
      "2 0.014598167380765316 -5.08027873109028e-06 5.016775248931301e-06 -1.0987999802960061e-08\n",
      "3 0.01107250340797813 -5.08027873109028e-06 5.016775248931301e-06 -8.448697640148159e-09\n",
      "4 0.009303007463329474 -5.08027873109028e-06 5.016775248931301e-06 -7.275283060441341e-09\n",
      "5 0.006129813954855474 -5.08027873109028e-06 5.016775248931301e-06 -7.300164153972007e-09\n",
      "6 0.003765301004501747 -5.08027873109028e-06 5.016775248931301e-06 -7.68972320871446e-09\n",
      "7 0.002838462467265056 -5.08027873109028e-06 5.016775248931301e-06 -7.974612143471957e-09\n",
      "8 0.0020657658738114184 -5.08027873109028e-06 5.016775248931301e-06 -8.074534682604293e-09\n",
      "9 0.0012164763718856499 -5.08027873109028e-06 5.016775248931301e-06 -8.067496688651922e-09\n",
      "10 0.0007195077737756436 -5.08027873109028e-06 5.016775248931301e-06 -8.033156205643605e-09\n",
      "11 0.0005678850168414508 -5.08027873109028e-06 5.016775248931301e-06 -8.008204135848426e-09\n",
      "12 0.00041332766473628523 -5.08027873109028e-06 5.016775248931301e-06 -7.997839722724878e-09\n",
      "13 0.00024109072942623373 -5.08027873109028e-06 5.016775248931301e-06 -7.996032598934083e-09\n",
      "14 0.00015062734684781075 -5.08027873109028e-06 5.016775248931301e-06 -7.99698624687411e-09\n",
      "15 0.00012178212274026376 -5.08027873109028e-06 5.016775248931301e-06 -7.997959394725232e-09\n",
      "16 8.70826277060218e-05 -5.08027873109028e-06 5.016775248931301e-06 -7.99839584627991e-09\n",
      "17 5.2284407501674185e-05 -5.08027873109028e-06 5.016775248931301e-06 -7.998500545795176e-09\n",
      "18 3.536461980205797e-05 -5.08027873109028e-06 5.016775248931301e-06 -7.998518525121564e-09\n",
      "19 2.7659037378021807e-05 -5.08027873109028e-06 5.016775248931301e-06 -7.998550228275277e-09\n",
      "20 1.8796019070801966e-05 -5.08027873109028e-06 5.016775248931301e-06 -7.998594013693185e-09\n",
      "21 1.1524699356693903e-05 -5.08027873109028e-06 5.016775248931301e-06 -7.998636089768898e-09\n",
      "22 8.318363351502488e-06 -5.08027873109028e-06 5.016775248931301e-06 -7.99866752979141e-09\n"
     ]
    }
   ],
   "source": [
    "polarization = fixed_point_solver( rho, epsilon, grad_log_epsilon_numerical,tol=1e-5)"
   ]
  },
  {
   "cell_type": "markdown",
   "metadata": {},
   "source": [
    "### Calculating the polarization field and comparing it against the Onsager model"
   ]
  },
  {
   "cell_type": "code",
   "execution_count": 28,
   "metadata": {
    "colab": {
     "base_uri": "https://localhost:8080/"
    },
    "executionInfo": {
     "elapsed": 10913,
     "status": "ok",
     "timestamp": 1713291648091,
     "user": {
      "displayName": "Denis Mulumba",
      "userId": "05263152106356430195"
     },
     "user_tz": 360
    },
    "id": "pdW-9KftH3e6",
    "outputId": "f481610c-770b-4329-95cd-a9f89e2766de"
   },
   "outputs": [
    {
     "name": "stdout",
     "output_type": "stream",
     "text": [
      "[-2.89710573e-01 -1.52639989e-17 -1.30269221e-17]\n"
     ]
    }
   ],
   "source": [
    "polarization_field = calc_electrostatic_field(polarization)\n",
    "print(polarization_field[:,icenter[0],icenter[1],icenter[2]])"
   ]
  },
  {
   "cell_type": "code",
   "execution_count": 29,
   "metadata": {
    "colab": {
     "base_uri": "https://localhost:8080/"
    },
    "executionInfo": {
     "elapsed": 4,
     "status": "ok",
     "timestamp": 1713291648091,
     "user": {
      "displayName": "Denis Mulumba",
      "userId": "05263152106356430195"
     },
     "user_tz": 360
    },
    "id": "yPIGHhuZINtF",
    "outputId": "02bda5f0-7463-4805-bcd3-e3b0c4db307f"
   },
   "outputs": [
    {
     "name": "stdout",
     "output_type": "stream",
     "text": [
      "[-2.90763737e-01  9.23262428e-07  9.23262428e-07]\n"
     ]
    }
   ],
   "source": [
    "field_onsager = - 2 * (epsilon0 - 1.)/(2*epsilon0 + 1)/radius**3 * dipole # calculate the electrostatic field from the Onsager solution\n",
    "print(field_onsager)"
   ]
  }
 ],
 "metadata": {
  "colab": {
   "authorship_tag": "ABX9TyMrDd/83og6rums7rKcFInE",
   "provenance": []
  },
  "kernelspec": {
   "display_name": "Python 3 (ipykernel)",
   "language": "python",
   "name": "python3"
  },
  "language_info": {
   "codemirror_mode": {
    "name": "ipython",
    "version": 3
   },
   "file_extension": ".py",
   "mimetype": "text/x-python",
   "name": "python",
   "nbconvert_exporter": "python",
   "pygments_lexer": "ipython3",
   "version": "3.11.5"
  }
 },
 "nbformat": 4,
 "nbformat_minor": 1
}
