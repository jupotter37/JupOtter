{
 "cells": [
  {
   "cell_type": "markdown",
   "metadata": {},
   "source": [
    "---\n",
    "layout: post\n",
    "title: 1.4 Correcting errors\n",
    "description: Practice with identifying and correcting code blocks\n",
    "type: ccc\n",
    "author: Safin Singh and Rohan Juneja\n",
    "permalink: /basics/js-debug\n",
    "hide: True\n",
    "---"
   ]
  },
  {
   "cell_type": "markdown",
   "metadata": {},
   "source": [
    "{% include nav_basics.html %}"
   ]
  },
  {
   "cell_type": "markdown",
   "metadata": {},
   "source": [
    "[College Board Big Idea 1](https://apclassroom.collegeboard.org/103/home?unit=1)\n",
    "\n",
    "## Identifying and Correcting Errors (Unit 1.4)\n",
    "\n",
    "> Become familiar with types of errors and strategies for fixing them\n",
    "\n",
    "- Review CollegeBoard videos and take notes on blog\n",
    "- Complete assigned MCQ questions if applicable"
   ]
  },
  {
   "cell_type": "markdown",
   "metadata": {},
   "source": [
    "# Code Segments\n",
    "\n",
    "Practice fixing the following code segments!"
   ]
  },
  {
   "cell_type": "markdown",
   "metadata": {},
   "source": [
    "## Segment 1: Alphabet List\n",
    "\n",
    "Intended behavior: create a list of characters from the string contained in the variable `alphabet`\n",
    "\n",
    "### Code:"
   ]
  },
  {
   "cell_type": "code",
   "execution_count": 7,
   "metadata": {
    "vscode": {
     "languageId": "javascript"
    }
   },
   "outputs": [
    {
     "data": {
      "application/javascript": "\nvar alphabet = \"abcdefghijklmnopqrstuvwxyz\";\nvar alphabetList = [];\n\nfor (var i = 0; i < 26; i++) {\n\talphabetList.push(alphabet[i]);\n}\n\nconsole.log(alphabetList);\n",
      "text/plain": [
       "<IPython.core.display.Javascript object>"
      ]
     },
     "metadata": {},
     "output_type": "display_data"
    }
   ],
   "source": [
    "%%js\n",
    "\n",
    "var alphabet = \"abcdefghijklmnopqrstuvwxyz\";\n",
    "var alphabetList = [];\n",
    "\n",
    "for (var i = 0; i < 26; i++) {\n",
    "\talphabetList.push(alphabet[i]);\n",
    "}\n",
    "\n",
    "console.log(alphabetList);"
   ]
  },
  {
   "cell_type": "markdown",
   "metadata": {},
   "source": [
    "# What I Changed\n",
    "\n",
    "### When appending the values into alphabet list, the original code was only appending i with was te increment variable. I changed it by making the function append alphabetList[i] so that each value of the alphabet was pushed rather than its index. I also changed the max value of i to be less than 26 so that all 26 letters were appended rather than only 10"
   ]
  },
  {
   "cell_type": "markdown",
   "metadata": {},
   "source": [
    "## Segment 2: Numbered Alphabet\n",
    "\n",
    "Intended behavior: print the number of a given alphabet letter within the alphabet. For example:\n",
    "```\n",
    "\"_\" is letter number _ in the alphabet\n",
    "```\n",
    "\n",
    "Where the underscores (_) are replaced with the letter and the position of that letter within the alphabet (e.g. a=1, b=2, etc.)\n",
    "\n",
    "### Code:"
   ]
  },
  {
   "cell_type": "code",
   "execution_count": 13,
   "metadata": {
    "vscode": {
     "languageId": "javascript"
    }
   },
   "outputs": [
    {
     "data": {
      "application/javascript": "\nvar alphabet = \"abcdefghijklmnopqrstuvwxyz\";\nvar alphabetList = [];\n\nfor (var i = 0; i < 26; i++) {\n\talphabetList.push(alphabet[i]);\n}\n\nconsole.log(alphabetList);\n\nlet letterNumber = 5\n\nfor (var i = 0; i < alphabetList.length; i++) {\n\tif (i == letterNumber) {\n\t\tconsole.log(alphabetList[i-1] , \" is letter number 5 in the alphabet\")\n\t}\n}\n\n// Should output:\n// \"e\" is letter number 5 in the alphabet\n",
      "text/plain": [
       "<IPython.core.display.Javascript object>"
      ]
     },
     "metadata": {},
     "output_type": "display_data"
    }
   ],
   "source": [
    "%%js\n",
    "\n",
    "var alphabet = \"abcdefghijklmnopqrstuvwxyz\";\n",
    "var alphabetList = [];\n",
    "\n",
    "for (var i = 0; i < 26; i++) {\n",
    "\talphabetList.push(alphabet[i]);\n",
    "}\n",
    "\n",
    "console.log(alphabetList);\n",
    "\n",
    "let letterNumber = 5\n",
    "\n",
    "for (var i = 0; i < alphabetList.length; i++) {\n",
    "\tif (i == letterNumber) {\n",
    "\t\tconsole.log(alphabetList[i-1] , \" is letter number 5 in the alphabet\")\n",
    "\t}\n",
    "}\n",
    "\n",
    "// Should output:\n",
    "// \"e\" is letter number 5 in the alphabet"
   ]
  },
  {
   "cell_type": "markdown",
   "metadata": {},
   "source": [
    "# What I Changed\n",
    "## When the for loop was written i< alphabetList which is a list not a number. To fix it I changed it to alphabetList.length to add a number. I also changed alphabetList[i] to alphabetList[i-1] to prevent an indexing error since alphabetList index starts from 0 while letterNumber starts from 1.\n"
   ]
  },
  {
   "cell_type": "markdown",
   "metadata": {},
   "source": [
    "## Segment 3: Odd Numbers\n",
    "\n",
    "Intended behavior: print a list of all the odd numbers below 10\n",
    "\n",
    "### Code:"
   ]
  },
  {
   "cell_type": "code",
   "execution_count": 2,
   "metadata": {
    "vscode": {
     "languageId": "javascript"
    }
   },
   "outputs": [
    {
     "data": {
      "application/javascript": "\nlet odd = [];\nlet i = 1;\n\nwhile (i <= 10) {\n  odd.push(i);\n  i += 2;\n}\n\nconsole.log(odd);\n",
      "text/plain": [
       "<IPython.core.display.Javascript object>"
      ]
     },
     "metadata": {},
     "output_type": "display_data"
    }
   ],
   "source": [
    "%%js\n",
    "\n",
    "let odd = [];\n",
    "let i = 1;\n",
    "\n",
    "while (i <= 10) {\n",
    "  odd.push(i);\n",
    "  i += 2;\n",
    "}\n",
    "\n",
    "console.log(odd);"
   ]
  },
  {
   "cell_type": "markdown",
   "metadata": {},
   "source": [
    "# What I Changed\n",
    "\n",
    "## The whole program had the even list instead of the odd list so I replaced it with odd. I also made 1 the starting point as that was the first odd number for below 10."
   ]
  },
  {
   "cell_type": "markdown",
   "metadata": {},
   "source": [
    "# BELOW NOT EDITED"
   ]
  },
  {
   "cell_type": "markdown",
   "metadata": {},
   "source": [
    "The intended outcome is printing a number between 1 and 100 once, if it is a multiple of 2 or 5 \n",
    "- What values are outputted incorrectly. Why?\n",
    "- Make changes to get the intended outcome."
   ]
  },
  {
   "cell_type": "code",
   "execution_count": null,
   "metadata": {
    "vscode": {
     "languageId": "javascript"
    }
   },
   "outputs": [],
   "source": [
    "%%js\n",
    "\n",
    "var numbers = []\n",
    "var newNumbers = []\n",
    "var i = 0\n",
    "\n",
    "while (i < 100) {\n",
    "    numbers.push(i)\n",
    "    i += 1\n",
    "}\n",
    "for (var i of numbers) {\n",
    "    if (numbers[i] % 5 === 0)\n",
    "        newNumbers.push(numbers[i])\n",
    "    if (numbers[i] % 2 === 0)\n",
    "        newNumbers.push(numbers[i])\n",
    "}\n",
    "console.log(newNumbers) \n",
    "\n"
   ]
  },
  {
   "cell_type": "markdown",
   "metadata": {},
   "source": [
    "# Challenge\n",
    "\n",
    "This code segment is at a very early stage of implementation.\n",
    "- What are some ways to (user) error proof this code?\n",
    "- The code should be able to calculate the cost of the meal of the user\n",
    "\n",
    "Hint:\n",
    "- write a “single” test describing an expectation of the program of the program\n",
    "- test - input burger, expect output of burger price\n",
    "- run the test, which should fail because the program lacks that feature\n",
    "- write “just enough” code, the simplest possible, to make the test pass\n",
    "\n",
    "Then repeat this process until you get program working like you want it to work."
   ]
  },
  {
   "cell_type": "code",
   "execution_count": 5,
   "metadata": {
    "vscode": {
     "languageId": "javascript"
    }
   },
   "outputs": [
    {
     "data": {
      "application/javascript": "\nvar menu =  {\"burger\": 3.99,\n         \"fries\": 1.99,\n         \"drink\": 0.99}\nvar total = 0\n\n//shows the user the menu and prompts them to select an item\nconsole.log(\"Menu\")\nfor (var item in menu) {\n    console.log(item + \"  $\" + menu[item].toFixed(2)) //why is toFixed used?\n}\n//ideally the code should support mutliple items\nvar burger_count = prompt(\"How many Burgers\")\ntotal += menu.burger * burger_count\nvar fries_count = prompt(\"How many Fries\")\ntotal += menu.fries *fries_count\nvar drink_count = prompt(\"How many Drinks\")\ntotal += menu.drink * drink_count\n\n//code should add the price of the menu items selected by the user \nconsole.log(total)\n\n",
      "text/plain": [
       "<IPython.core.display.Javascript object>"
      ]
     },
     "metadata": {},
     "output_type": "display_data"
    }
   ],
   "source": [
    "%%js\n",
    "\n",
    "var menu =  {\"burger\": 3.99,\n",
    "         \"fries\": 1.99,\n",
    "         \"drink\": 0.99}\n",
    "var total = 0\n",
    "\n",
    "//shows the user the menu and prompts them to select an item\n",
    "console.log(\"Menu\")\n",
    "for (var item in menu) {\n",
    "    console.log(item + \"  $\" + menu[item].toFixed(2)) //why is toFixed used?\n",
    "}\n",
    "//ideally the code should support mutliple items\n",
    "var burger_count = prompt(\"How many Burgers\")\n",
    "total += menu.burger * burger_count\n",
    "var fries_count = prompt(\"How many Fries\")\n",
    "total += menu.fries *fries_count\n",
    "var drink_count = prompt(\"How many Drinks\")\n",
    "total += menu.drink * drink_count\n",
    "\n",
    "//code should add the price of the menu items selected by the user \n",
    "console.log(total)\n",
    "\n"
   ]
  },
  {
   "cell_type": "markdown",
   "metadata": {},
   "source": [
    "# What I did Hacks\n",
    "## I added a user input place where the user could input how many of each food on the menuthey wanted and I used it to find the total value"
   ]
  },
  {
   "cell_type": "markdown",
   "metadata": {},
   "source": []
  }
 ],
 "metadata": {
  "kernelspec": {
   "display_name": "Python 3.10.6 64-bit",
   "language": "python",
   "name": "python3"
  },
  "language_info": {
   "codemirror_mode": {
    "name": "ipython",
    "version": 3
   },
   "file_extension": ".py",
   "mimetype": "text/x-python",
   "name": "python",
   "nbconvert_exporter": "python",
   "pygments_lexer": "ipython3",
   "version": "3.8.10"
  },
  "orig_nbformat": 4,
  "vscode": {
   "interpreter": {
    "hash": "aee8b7b246df8f9039afb4144a1f6fd8d2ca17a180786b69acc140d282b71a49"
   }
  }
 },
 "nbformat": 4,
 "nbformat_minor": 2
}
