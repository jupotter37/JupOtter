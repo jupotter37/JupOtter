{
 "cells": [
  {
   "cell_type": "code",
   "execution_count": 1,
   "metadata": {},
   "outputs": [
    {
     "name": "stdout",
     "output_type": "stream",
     "text": [
      "Fri Apr  3 21:05:42 UTC 2020\n"
     ]
    }
   ],
   "source": [
    "date"
   ]
  },
  {
   "cell_type": "code",
   "execution_count": 2,
   "metadata": {},
   "outputs": [
    {
     "name": "stdout",
     "output_type": "stream",
     "text": [
      "/home/jupyter-orissim\n"
     ]
    }
   ],
   "source": [
    "pwd"
   ]
  },
  {
   "cell_type": "code",
   "execution_count": 3,
   "metadata": {},
   "outputs": [],
   "source": [
    "cd /"
   ]
  },
  {
   "cell_type": "code",
   "execution_count": 4,
   "metadata": {},
   "outputs": [
    {
     "name": "stdout",
     "output_type": "stream",
     "text": [
      "bin    etc             lib         mkdir  root  srv       usr\n",
      "boot   home            lib64       mnt    run   swap.img  var\n",
      "cdrom  initrd.img      lost+found  opt    sbin  sys       vmlinuz\n",
      "dev    initrd.img.old  media       proc   snap  tmp       vmlinuz.old\n"
     ]
    }
   ],
   "source": [
    "ls"
   ]
  },
  {
   "cell_type": "code",
   "execution_count": 5,
   "metadata": {},
   "outputs": [
    {
     "name": "stdout",
     "output_type": "stream",
     "text": [
      "total 4194404\n",
      "drwxr-xr-x   2 root root       4096 Mar  6 20:45 bin\n",
      "drwxr-xr-x   4 root root       4096 Mar 17 15:26 boot\n",
      "drwxr-xr-x   2 root root       4096 Mar  6 20:32 cdrom\n",
      "drwxr-xr-x  20 root root       4000 Mar 24 22:10 dev\n",
      "drwxr-xr-x 109 root root       4096 Apr  2 17:12 etc\n",
      "drwxr-xr-x  33 root root       4096 Apr  2 17:12 home\n",
      "lrwxrwxrwx   1 root root         33 Mar 17 15:25 initrd.img -> boot/initrd.img-4.15.0-91-generic\n",
      "lrwxrwxrwx   1 root root         33 Mar  6 20:33 initrd.img.old -> boot/initrd.img-4.15.0-88-generic\n",
      "drwxr-xr-x  22 root root       4096 Mar  6 20:55 lib\n",
      "drwxr-xr-x   2 root root       4096 Feb  3 18:22 lib64\n",
      "drwx------   2 root root      16384 Mar  6 20:31 lost+found\n",
      "drwxr-xr-x   2 root root       4096 Feb  3 18:22 media\n",
      "drwxr-xr-x   2 root root       4096 Mar 10 11:55 mkdir\n",
      "drwxr-xr-x   2 root root       4096 Feb  3 18:22 mnt\n",
      "drwxr-xr-x   3 root root       4096 Mar 17 17:06 opt\n",
      "dr-xr-xr-x 166 root root          0 Mar 24 22:09 proc\n",
      "drwx------   5 root root       4096 Mar 12 21:39 root\n",
      "drwxr-xr-x  26 root root        920 Apr  3 12:16 run\n",
      "drwxr-xr-x   2 root root      12288 Mar  6 20:43 sbin\n",
      "drwxr-xr-x   4 root root       4096 Mar 17 15:24 snap\n",
      "drwxr-xr-x   3 root root       4096 Mar 17 17:21 srv\n",
      "-rw-------   1 root root 4294967296 Mar  6 20:33 swap.img\n",
      "dr-xr-xr-x  13 root root          0 Apr  1 19:32 sys\n",
      "drwxrwxrwt  27 root root       4096 Apr  3 21:01 tmp\n",
      "drwxr-xr-x  10 root root       4096 Feb  3 18:22 usr\n",
      "drwxr-xr-x  13 root root       4096 Mar 13 11:04 var\n",
      "lrwxrwxrwx   1 root root         30 Mar 17 15:25 vmlinuz -> boot/vmlinuz-4.15.0-91-generic\n",
      "lrwxrwxrwx   1 root root         30 Mar  6 20:33 vmlinuz.old -> boot/vmlinuz-4.15.0-88-generic\n"
     ]
    }
   ],
   "source": [
    "ls -l"
   ]
  },
  {
   "cell_type": "code",
   "execution_count": 6,
   "metadata": {},
   "outputs": [],
   "source": [
    "cd bin"
   ]
  },
  {
   "cell_type": "code",
   "execution_count": 7,
   "metadata": {},
   "outputs": [
    {
     "name": "stdout",
     "output_type": "stream",
     "text": [
      "bash                egrep       nc.openbsd     ss\n",
      "btrfs               false       netcat         static-sh\n",
      "btrfsck             fgconsole   netstat        stty\n",
      "btrfs-debug-tree    fgrep       networkctl     su\n",
      "btrfs-find-root     findmnt     nisdomainname  sync\n",
      "btrfs-image         fsck.btrfs  ntfs-3g        systemctl\n",
      "btrfs-map-logical   fuser       ntfs-3g.probe  systemd\n",
      "btrfs-select-super  fusermount  ntfscat        systemd-ask-password\n",
      "btrfstune           getfacl     ntfscluster    systemd-escape\n",
      "btrfs-zero-log      grep        ntfscmp        systemd-hwdb\n",
      "bunzip2             gunzip      ntfsfallocate  systemd-inhibit\n",
      "busybox             gzexe       ntfsfix        systemd-machine-id-setup\n",
      "bzcat               gzip        ntfsinfo       systemd-notify\n",
      "bzcmp               hostname    ntfsls         systemd-sysusers\n",
      "bzdiff              ip          ntfsmove       systemd-tmpfiles\n",
      "bzegrep             journalctl  ntfsrecover    systemd-tty-ask-password-agent\n",
      "bzexe               kbd_mode    ntfssecaudit   tar\n",
      "bzfgrep             kill        ntfstruncate   tempfile\n",
      "bzgrep              kmod        ntfsusermap    touch\n",
      "bzip2               less        ntfswipe       true\n",
      "bzip2recover        lessecho    open           udevadm\n",
      "bzless              lessfile    openvt         ulockmgr_server\n",
      "bzmore              lesskey     pidof          umount\n",
      "cat                 lesspipe    ping           uname\n",
      "chacl               ln          ping4          uncompress\n",
      "chgrp               loadkeys    ping6          unicode_start\n",
      "chmod               login       plymouth       vdir\n",
      "chown               loginctl    ps             wdctl\n",
      "chvt                lowntfs-3g  pwd            which\n",
      "cp                  ls          rbash          whiptail\n",
      "cpio                lsblk       readlink       ypdomainname\n",
      "dash                lsmod       red            zcat\n",
      "date                mkdir       rm             zcmp\n",
      "dd                  mkfs.btrfs  rmdir          zdiff\n",
      "df                  mknod       rnano          zegrep\n",
      "dir                 mktemp      run-parts      zfgrep\n",
      "dmesg               more        rzsh           zforce\n",
      "dnsdomainname       mount       sed            zgrep\n",
      "domainname          mountpoint  setfacl        zless\n",
      "dumpkeys            mt          setfont        zmore\n",
      "echo                mt-gnu      setupcon       znew\n",
      "ed                  mv          sh             zsh\n",
      "efibootdump         nano        sh.distrib     zsh5\n",
      "efibootmgr          nc          sleep\n"
     ]
    }
   ],
   "source": [
    "ls"
   ]
  },
  {
   "cell_type": "code",
   "execution_count": 8,
   "metadata": {},
   "outputs": [
    {
     "name": "stdout",
     "output_type": "stream",
     "text": [
      "bash: cd: boot: No such file or directory\n"
     ]
    },
    {
     "ename": "",
     "evalue": "1",
     "output_type": "error",
     "traceback": []
    }
   ],
   "source": [
    "cd boot"
   ]
  },
  {
   "cell_type": "code",
   "execution_count": 9,
   "metadata": {},
   "outputs": [],
   "source": [
    "cd .."
   ]
  },
  {
   "cell_type": "code",
   "execution_count": 10,
   "metadata": {},
   "outputs": [],
   "source": [
    "cd boot"
   ]
  },
  {
   "cell_type": "code",
   "execution_count": 11,
   "metadata": {},
   "outputs": [
    {
     "name": "stdout",
     "output_type": "stream",
     "text": [
      "config-4.15.0-88-generic      initrd.img-4.15.0-91-generic\n",
      "config-4.15.0-91-generic      System.map-4.15.0-88-generic\n",
      "efi                           System.map-4.15.0-91-generic\n",
      "grub                          vmlinuz-4.15.0-88-generic\n",
      "initrd.img-4.15.0-88-generic  vmlinuz-4.15.0-91-generic\n"
     ]
    }
   ],
   "source": [
    "ls"
   ]
  },
  {
   "cell_type": "code",
   "execution_count": 12,
   "metadata": {},
   "outputs": [],
   "source": [
    "cd grub"
   ]
  },
  {
   "cell_type": "code",
   "execution_count": 13,
   "metadata": {},
   "outputs": [
    {
     "name": "stdout",
     "output_type": "stream",
     "text": [
      "default  grub.cfg  locale    menu.lst~    x86_64-efi\n",
      "fonts    grubenv   menu.lst  unicode.pf2\n"
     ]
    }
   ],
   "source": [
    "ls"
   ]
  },
  {
   "cell_type": "code",
   "execution_count": 14,
   "metadata": {},
   "outputs": [],
   "source": [
    "cd ./../.."
   ]
  },
  {
   "cell_type": "code",
   "execution_count": 15,
   "metadata": {},
   "outputs": [
    {
     "name": "stdout",
     "output_type": "stream",
     "text": [
      "bin    etc             lib         mkdir  root  srv       usr\n",
      "boot   home            lib64       mnt    run   swap.img  var\n",
      "cdrom  initrd.img      lost+found  opt    sbin  sys       vmlinuz\n",
      "dev    initrd.img.old  media       proc   snap  tmp       vmlinuz.old\n"
     ]
    }
   ],
   "source": [
    "ls"
   ]
  },
  {
   "cell_type": "code",
   "execution_count": 16,
   "metadata": {},
   "outputs": [],
   "source": [
    "cd etc"
   ]
  },
  {
   "cell_type": "code",
   "execution_count": 17,
   "metadata": {},
   "outputs": [
    {
     "name": "stdout",
     "output_type": "stream",
     "text": [
      "acpi                    inputrc                  protocols\n",
      "adduser.conf            iproute2                 python\n",
      "alternatives            iscsi                    python2.7\n",
      "apache2                 issue                    python3\n",
      "apm                     issue.net                python3.6\n",
      "apparmor                java-11-openjdk          python3.8\n",
      "apparmor.d              kernel                   rc0.d\n",
      "apport                  kernel-img.conf          rc1.d\n",
      "apt                     landscape                rc2.d\n",
      "at.deny                 ldap                     rc3.d\n",
      "bash.bashrc             ld.so.cache              rc4.d\n",
      "bash_completion         ld.so.conf               rc5.d\n",
      "bash_completion.d       ld.so.conf.d             rc6.d\n",
      "bindresvport.blacklist  legal                    rc.local\n",
      "binfmt.d                libaudit.conf            rcS.d\n",
      "byobu                   libnl-3                  resolv.conf\n",
      "ca-certificates         libpaper.d               rmt\n",
      "ca-certificates.conf    lighttpd                 rpc\n",
      "calendar                locale.alias             rsyslog.conf\n",
      "cloud                   locale.gen               rsyslog.d\n",
      "console-setup           localtime                screenrc\n",
      "cron.d                  logcheck                 securetty\n",
      "cron.daily              login.defs               security\n",
      "cron.hourly             logrotate.conf           selinux\n",
      "cron.monthly            logrotate.d              sensors3.conf\n",
      "crontab                 lsb-release              sensors.d\n",
      "cron.weekly             ltrace.conf              services\n",
      "cryptsetup-initramfs    lvm                      shadow\n",
      "crypttab                machine-id               shadow-\n",
      "dbus-1                  magic                    shells\n",
      "debconf.conf            magic.mime               skel\n",
      "debian_version          mailcap                  sos.conf\n",
      "default                 mailcap.order            ssh\n",
      "deluser.conf            manpath.config           ssl\n",
      "depmod.d                mdadm                    subgid\n",
      "dhcp                    mime.types               subgid-\n",
      "dnsmasq.d               mke2fs.conf              subuid\n",
      "dnsmasq.d-available     modprobe.d               subuid-\n",
      "dpkg                    modules                  sudoers\n",
      "environment             modules-load.d           sudoers.d\n",
      "ethertypes              mtab                     supervisord.conf\n",
      "fonts                   mysql                    sysctl.conf\n",
      "fstab                   nanorc                   sysctl.d\n",
      "fuse.conf               netplan                  systemd\n",
      "gai.conf                network                  terminfo\n",
      "ghostscript             networkd-dispatcher      texmf\n",
      "glvnd                   NetworkManager           thermald\n",
      "groff                   networks                 timezone\n",
      "group                   newt                     tmpfiles.d\n",
      "group-                  nsswitch.conf            ucf.conf\n",
      "grub.d                  octave.conf              udev\n",
      "gshadow                 opt                      ufw\n",
      "gshadow-                os-release               updatedb.conf\n",
      "gss                     overlayroot.conf         update-manager\n",
      "gtk-2.0                 pam.conf                 update-motd.d\n",
      "gtk-3.0                 pam.d                    update-notifier\n",
      "hdparm.conf             papersize                vim\n",
      "host.conf               passwd                   vmware-tools\n",
      "hostname                passwd-                  vtrgb\n",
      "hosts                   perl                     wgetrc\n",
      "hosts.allow             pm                       X11\n",
      "hosts.deny              polkit-1                 xdg\n",
      "ImageMagick-6           pollinate                zsh\n",
      "init                    popularity-contest.conf  zsh_command_not_found\n",
      "init.d                  profile\n",
      "initramfs-tools         profile.d\n"
     ]
    }
   ],
   "source": [
    "ls"
   ]
  },
  {
   "cell_type": "code",
   "execution_count": 18,
   "metadata": {},
   "outputs": [],
   "source": [
    "cd .."
   ]
  },
  {
   "cell_type": "code",
   "execution_count": 19,
   "metadata": {},
   "outputs": [
    {
     "name": "stdout",
     "output_type": "stream",
     "text": [
      "bin    etc             lib         mkdir  root  srv       usr\n",
      "boot   home            lib64       mnt    run   swap.img  var\n",
      "cdrom  initrd.img      lost+found  opt    sbin  sys       vmlinuz\n",
      "dev    initrd.img.old  media       proc   snap  tmp       vmlinuz.old\n"
     ]
    }
   ],
   "source": [
    "ls"
   ]
  },
  {
   "cell_type": "code",
   "execution_count": 20,
   "metadata": {},
   "outputs": [],
   "source": [
    "cd lib"
   ]
  },
  {
   "cell_type": "code",
   "execution_count": 21,
   "metadata": {},
   "outputs": [
    {
     "name": "stdout",
     "output_type": "stream",
     "text": [
      "apparmor       init                                  netplan\n",
      "console-setup  klibc-wBFLvVtxy4xJqEadIBJMa78iJz8.so  open-iscsi\n",
      "cpp            libhandle.so.1                        recovery-mode\n",
      "crda           libhandle.so.1.0.3                    systemd\n",
      "cryptsetup     lsb                                   terminfo\n",
      "ebtables       modprobe.d                            udev\n",
      "firmware       modules                               ufw\n",
      "hdparm         modules-load.d                        x86_64-linux-gnu\n"
     ]
    }
   ],
   "source": [
    "ls"
   ]
  },
  {
   "cell_type": "code",
   "execution_count": 22,
   "metadata": {},
   "outputs": [],
   "source": [
    "cd .."
   ]
  },
  {
   "cell_type": "code",
   "execution_count": 23,
   "metadata": {},
   "outputs": [],
   "source": [
    "cd usr"
   ]
  },
  {
   "cell_type": "code",
   "execution_count": 24,
   "metadata": {},
   "outputs": [
    {
     "name": "stdout",
     "output_type": "stream",
     "text": [
      "/usr\n"
     ]
    }
   ],
   "source": [
    "pwd"
   ]
  },
  {
   "cell_type": "code",
   "execution_count": 25,
   "metadata": {},
   "outputs": [
    {
     "name": "stdout",
     "output_type": "stream",
     "text": [
      "bin  games  include  lib  local  sbin  share  src\n"
     ]
    }
   ],
   "source": [
    "ls"
   ]
  },
  {
   "cell_type": "code",
   "execution_count": 26,
   "metadata": {},
   "outputs": [],
   "source": [
    "cd /"
   ]
  },
  {
   "cell_type": "code",
   "execution_count": 27,
   "metadata": {},
   "outputs": [
    {
     "name": "stdout",
     "output_type": "stream",
     "text": [
      "bin    etc             lib         mkdir  root  srv       usr\n",
      "boot   home            lib64       mnt    run   swap.img  var\n",
      "cdrom  initrd.img      lost+found  opt    sbin  sys       vmlinuz\n",
      "dev    initrd.img.old  media       proc   snap  tmp       vmlinuz.old\n"
     ]
    }
   ],
   "source": [
    "ls"
   ]
  },
  {
   "cell_type": "code",
   "execution_count": 28,
   "metadata": {},
   "outputs": [],
   "source": [
    "cd home"
   ]
  },
  {
   "cell_type": "code",
   "execution_count": 29,
   "metadata": {},
   "outputs": [
    {
     "name": "stdout",
     "output_type": "stream",
     "text": [
      "azat                   jupyter-cubefiction    jupyter-official-nanakai\n",
      "jupyter-admin          jupyter-danenok        jupyter-orissim\n",
      "jupyter-aiana178       jupyter-darganius      jupyter-tsagynysh\n",
      "jupyter-aigerimunisat  jupyter-ekdana         jupyter-unisat\n",
      "jupyter-aizadait       jupyter-inkar601       jupyter-unisatkz\n",
      "jupyter-amayakof       jupyter-kkenzh         jupyter-yeldana\n",
      "jupyter-amirkhan       jupyter-nazymungarova  jupyter-zhandos\n",
      "jupyter-arayka         jupyter-nuray.serkali  jupyter-zhanelbaltabay\n",
      "jupyter-aruzhan149     jupyter-nurike         jupyter-zhannaspace\n",
      "jupyter-aselleon       jupyter-nurlaura\n",
      "jupyter-azat           jupyter-nurlaura2\n"
     ]
    }
   ],
   "source": [
    "ls"
   ]
  },
  {
   "cell_type": "code",
   "execution_count": 30,
   "metadata": {},
   "outputs": [],
   "source": [
    "cd jupyter-orissim"
   ]
  },
  {
   "cell_type": "code",
   "execution_count": 31,
   "metadata": {},
   "outputs": [
    {
     "name": "stdout",
     "output_type": "stream",
     "text": [
      "orissim  Untitled1.ipynb  Untitled3.ipynb\n",
      "shared   Untitled2.ipynb  Untitled.ipynb\n"
     ]
    }
   ],
   "source": [
    "ls"
   ]
  },
  {
   "cell_type": "code",
   "execution_count": 32,
   "metadata": {},
   "outputs": [],
   "source": [
    "cd /"
   ]
  },
  {
   "cell_type": "code",
   "execution_count": 33,
   "metadata": {},
   "outputs": [
    {
     "name": "stdout",
     "output_type": "stream",
     "text": [
      "total 4194404\n",
      "drwxr-xr-x   2 root root       4096 Mar  6 20:45 bin\n",
      "drwxr-xr-x   4 root root       4096 Mar 17 15:26 boot\n",
      "drwxr-xr-x   2 root root       4096 Mar  6 20:32 cdrom\n",
      "drwxr-xr-x  20 root root       4000 Mar 24 22:10 dev\n",
      "drwxr-xr-x 109 root root       4096 Apr  2 17:12 etc\n",
      "drwxr-xr-x  33 root root       4096 Apr  2 17:12 home\n",
      "lrwxrwxrwx   1 root root         33 Mar 17 15:25 initrd.img -> boot/initrd.img-4.15.0-91-generic\n",
      "lrwxrwxrwx   1 root root         33 Mar  6 20:33 initrd.img.old -> boot/initrd.img-4.15.0-88-generic\n",
      "drwxr-xr-x  22 root root       4096 Mar  6 20:55 lib\n",
      "drwxr-xr-x   2 root root       4096 Feb  3 18:22 lib64\n",
      "drwx------   2 root root      16384 Mar  6 20:31 lost+found\n",
      "drwxr-xr-x   2 root root       4096 Feb  3 18:22 media\n",
      "drwxr-xr-x   2 root root       4096 Mar 10 11:55 mkdir\n",
      "drwxr-xr-x   2 root root       4096 Feb  3 18:22 mnt\n",
      "drwxr-xr-x   3 root root       4096 Mar 17 17:06 opt\n",
      "dr-xr-xr-x 167 root root          0 Mar 24 22:09 proc\n",
      "drwx------   5 root root       4096 Mar 12 21:39 root\n",
      "drwxr-xr-x  26 root root        920 Apr  3 12:16 run\n",
      "drwxr-xr-x   2 root root      12288 Mar  6 20:43 sbin\n",
      "drwxr-xr-x   4 root root       4096 Mar 17 15:24 snap\n",
      "drwxr-xr-x   3 root root       4096 Mar 17 17:21 srv\n",
      "-rw-------   1 root root 4294967296 Mar  6 20:33 swap.img\n",
      "dr-xr-xr-x  13 root root          0 Apr  1 19:32 sys\n",
      "drwxrwxrwt  27 root root       4096 Apr  3 21:01 tmp\n",
      "drwxr-xr-x  10 root root       4096 Feb  3 18:22 usr\n",
      "drwxr-xr-x  13 root root       4096 Mar 13 11:04 var\n",
      "lrwxrwxrwx   1 root root         30 Mar 17 15:25 vmlinuz -> boot/vmlinuz-4.15.0-91-generic\n",
      "lrwxrwxrwx   1 root root         30 Mar  6 20:33 vmlinuz.old -> boot/vmlinuz-4.15.0-88-generic\n"
     ]
    }
   ],
   "source": [
    "ls -l"
   ]
  },
  {
   "cell_type": "code",
   "execution_count": null,
   "metadata": {},
   "outputs": [],
   "source": []
  }
 ],
 "metadata": {
  "kernelspec": {
   "display_name": "Bash",
   "language": "bash",
   "name": "bash"
  },
  "language_info": {
   "codemirror_mode": "shell",
   "file_extension": ".sh",
   "mimetype": "text/x-sh",
   "name": "bash"
  }
 },
 "nbformat": 4,
 "nbformat_minor": 4
}
