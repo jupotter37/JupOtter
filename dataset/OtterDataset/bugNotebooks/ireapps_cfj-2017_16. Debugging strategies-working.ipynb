{
 "cells": [
  {
   "cell_type": "markdown",
   "metadata": {},
   "source": [
    "# Debugging strategies\n",
    "\n",
    "You will get errors in your scripts. This is not a bad thing! It's just part of the process -- the error messages will help guide you to the solution. The key is to not get discouraged.\n",
    "\n",
    "A typical development pattern: Write some code. Run it. See what errors break your script. Throw in some `print()` statements. Google around. Fix your errors. Rinse and repeat.\n",
    "\n",
    "n.b. Googling your error is _not_ \"cheating\" -- it's often the first step in resolving your problem. And if you get really stuck, don't be afraid to ask for help."
   ]
  },
  {
   "cell_type": "markdown",
   "metadata": {},
   "source": [
    "### Dissecting a Python error\n",
    "\n",
    "Let's step through an error and discuss strategies for resolving it.\n",
    "\n",
    "Run the code in the next cell."
   ]
  },
  {
   "cell_type": "code",
   "execution_count": null,
   "metadata": {
    "collapsed": true
   },
   "outputs": [],
   "source": [
    "x = 10\n",
    "\n",
    "if x > 20\n",
    "    print('x is greater than 20!')"
   ]
  },
  {
   "cell_type": "markdown",
   "metadata": {},
   "source": [
    "The \"traceback\" message shows you a couple of useful things:\n",
    "\n",
    "- What line the error is on: `line 3`\n",
    "- The class of error: `SyntaxError` (v common)\n",
    "- Exactly where the error occured -- see where the `^` symbol is pointing?\n",
    "\n",
    "What's the problem?"
   ]
  },
  {
   "cell_type": "markdown",
   "metadata": {},
   "source": [
    "#### Googling\n",
    "\n",
    "If it's not immediately clear what's wrong, I might start by Googling the error messsage, the word \"python\" and maybe some keywords for what I was trying to do when I got the error. Something like [`\"SyntaxError: invalid syntax\" python if statement`](https://www.google.com/search?q=%22SyntaxError%3A+invalid+syntax%22+python+if+statement)\n",
    "\n",
    "Click through the first couple of links -- you'll become _very_ familiar with StackOverflow -- and see if you spot the problem."
   ]
  },
  {
   "cell_type": "markdown",
   "metadata": {},
   "source": [
    "#### Read the docs\n",
    "\n",
    "If I'm still stuck, I might check out the documentation and examples for the thing I'm trying to do. [Here's the page outlining how to write an `if` statement in Python](https://docs.python.org/3/tutorial/controlflow.html). From there, I would copy the example code, run it, compare it line by line with my code and see what's different.\n",
    "\n",
    "If I'm _still_ stuck, I might see if there are other keywords to search on and take another run at Google."
   ]
  },
  {
   "cell_type": "markdown",
   "metadata": {},
   "source": [
    "#### Guess and check ¯\\&#95;(ツ)&#95;/¯\n",
    "\n",
    "\"Maybe if I changed _this thing_ ...\" -- the muttered spell that punctuates many a successful debugging session. Tinker with your script, try things out, see if something works.\n",
    "\n",
    "If you change something and suddenly your script runs without error, great! Your next step, if you have time, is to figure out _why_ that change worked. Google around, read the docs, ask a more experienced developer."
   ]
  },
  {
   "cell_type": "markdown",
   "metadata": {},
   "source": [
    "#### Use `print()` liberally\n",
    "\n",
    "Especially when you're iterating over data files, the `print()` function can be a lifesaver. Print the value before you do any operations on it -- that will show you whether the value is what you expect, and point you to the line of  data that's causing your script to fail. Here's an example:"
   ]
  },
  {
   "cell_type": "code",
   "execution_count": null,
   "metadata": {
    "collapsed": true
   },
   "outputs": [],
   "source": [
    "staff = [\n",
    "    {'name': 'Fran', 'age': 32, 'job': 'Reporter'},\n",
    "    {'name': 'John', 'age': ' 41', 'job': 'Managing Editor'},\n",
    "    {'name': 'Sue', 'age': 39, 'job': 'Executive Editor'}\n",
    "]\n",
    "\n"
   ]
  },
  {
   "cell_type": "markdown",
   "metadata": {},
   "source": [
    "Pretend, for a moment, that we were reading in this data from a file, so it's not immediately obvious what's causing the error. I'd start by adding a print statement to dump the entire value of the `person` variable at the beginning of the loop:"
   ]
  },
  {
   "cell_type": "code",
   "execution_count": null,
   "metadata": {
    "collapsed": true
   },
   "outputs": [],
   "source": []
  },
  {
   "cell_type": "markdown",
   "metadata": {},
   "source": [
    "Now I've isolated the line of data causing the problem, and I can see the cause: The value for John's age is a string with a leading space, not a number. Boom."
   ]
  },
  {
   "cell_type": "markdown",
   "metadata": {},
   "source": [
    "#### Ask for help\n",
    "\n",
    "If you're hopelessly stuck, it's time to ask for help. You have many skilled friends in journalism who want to help you succeed -- pick a venue you're comfortable with (see below) and ask for help.\n",
    "\n",
    "And of course feel free to contact me ([cody@ire.org](mailto:cody@ire.org)) or the rest of the training staff at IRE ([training@ire.org](mailto:training@ire.org)) for help."
   ]
  },
  {
   "cell_type": "markdown",
   "metadata": {},
   "source": [
    "### Get one thing to work at a time\n",
    "\n",
    "In general, if you're trying to get something to work for _all_ the data flowing through your script, it's a good idea to get it to work on _one thing_ first.\n",
    "\n",
    "For instance: Let's say you're processing data in a 30,000-line data file, and you want to reformat the dates from `m/m/yyyy` format to `yyyy-mm-dd` format. You've started work on a parsing function that currently looks like this:"
   ]
  },
  {
   "cell_type": "code",
   "execution_count": null,
   "metadata": {
    "collapsed": true
   },
   "outputs": [],
   "source": [
    "def parse_row(row):\n",
    "    age, booking_date, dob = row\n",
    "    # do something to reformat the date strings via Python date objects\n",
    "    return"
   ]
  },
  {
   "cell_type": "markdown",
   "metadata": {},
   "source": [
    "You need to figure out how to turn \"9/7/1985\" into \"1985-09-07\". Instead of calling that function on a \"real\" row of data inside the `with()` block where you're parsing your CSV file, however, start by doing something like this:"
   ]
  },
  {
   "cell_type": "code",
   "execution_count": null,
   "metadata": {
    "collapsed": true
   },
   "outputs": [],
   "source": [
    "from datetime import datetime\n",
    "\n",
    "test_date = '9/7/1985'\n",
    "\n",
    "parsed_date = datetime.strptime(test_date, '%m/%d/%Y').strftime('%Y-%m-%d')\n",
    "\n",
    "print(parsed_date)"
   ]
  },
  {
   "cell_type": "markdown",
   "metadata": {},
   "source": [
    "... and _then_ once you've got the pattern down, add it to your parsing function."
   ]
  },
  {
   "cell_type": "markdown",
   "metadata": {},
   "source": [
    "### Exercises: What's the prob, Bob?\n",
    "\n",
    "For each of these Python snippets, figure out what the problems are and solve them."
   ]
  },
  {
   "cell_type": "code",
   "execution_count": null,
   "metadata": {
    "collapsed": true
   },
   "outputs": [],
   "source": [
    "print(Hello, Minneapolis!)"
   ]
  },
  {
   "cell_type": "code",
   "execution_count": null,
   "metadata": {
    "collapsed": true
   },
   "outputs": [],
   "source": [
    "desk = {'wood': 'fir', 'color': 'black', 'height_in': 36, 'width_in': 48, 'length_in': 68}\n",
    "\n",
    "print(desk['drawer_count'])"
   ]
  },
  {
   "cell_type": "code",
   "execution_count": null,
   "metadata": {
    "collapsed": true
   },
   "outputs": [],
   "source": [
    "students = ['Kelly', 'Larry', 'José', 'Frank', 'Sarah', 'Sue']\n",
    "\n",
    "for student in students:\n",
    "    if student = 'Kelly':\n",
    "    print('It's Kelly!')\n",
    "    elif student == 'José':\n",
    "        print(\"It's José!\")"
   ]
  },
  {
   "cell_type": "code",
   "execution_count": null,
   "metadata": {
    "collapsed": true
   },
   "outputs": [],
   "source": [
    "import cvs\n",
    "\n",
    "with open('data/import-refusal-charge-codes.csv', r) as infile:\n",
    "    reader = csv.reader(infile)\n",
    "    \n",
    "for row in reader:\n",
    "    print(row)"
   ]
  },
  {
   "cell_type": "markdown",
   "metadata": {
    "collapsed": true
   },
   "source": [
    "### Resources\n",
    "\n",
    "- [ProPublica: How to ask programming questions](https://www.propublica.org/nerds/how-to-ask-programming-questions)\n",
    "- [PythonJournos](https://github.com/PythonJournos/LearningPython/wiki)\n",
    "- [NICAR-L](https://www.ire.org/resource-center/listservs/subscribe-nicar-l/)\n",
    "- [The NewsNerdery Slack team](http://newsnerdery.org/)\n",
    "- [The Lonely Coders Slack team](https://lcc-slack.herokuapp.com/)\n",
    "- [Python's \"Errors and Exceptions\" tutorial](https://docs.python.org/3/tutorial/errors.html)"
   ]
  }
 ],
 "metadata": {
  "kernelspec": {
   "display_name": "Python 3",
   "language": "python",
   "name": "python3"
  },
  "language_info": {
   "codemirror_mode": {
    "name": "ipython",
    "version": 3
   },
   "file_extension": ".py",
   "mimetype": "text/x-python",
   "name": "python",
   "nbconvert_exporter": "python",
   "pygments_lexer": "ipython3",
   "version": "3.6.2"
  }
 },
 "nbformat": 4,
 "nbformat_minor": 2
}
