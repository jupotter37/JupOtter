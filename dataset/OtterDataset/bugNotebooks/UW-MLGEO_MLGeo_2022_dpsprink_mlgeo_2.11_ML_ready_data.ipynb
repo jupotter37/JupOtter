{
 "cells": [
  {
   "cell_type": "markdown",
   "id": "650fc9be-9e37-4cb7-9006-2de1b822d8e2",
   "metadata": {},
   "source": [
    "# Design your ML project\n",
    "\n",
    "\n",
    "## 1. **Frame the project**\n",
    "\n",
    "* Motivate the need for Machine Learning in your scientific project. \n",
    "\n",
    "Perform litterature review of the scientific outstanding questions and solutions proposed in the literature. What would be the steps to solve the problem manually? What are the limitations of the current solutions? Will a new ML algorithm be generalizable enough to be applied to 10+ other research problems? What is the 5-10 year potential of the particular problem given new technology, new research facility, new societal relevance? Are there comparable problems for which the tools can be reused?\n",
    "\n",
    "* What is the state of the data?\n",
    "\n",
    "Is there a lot of data, and labeled data? Is there human expertise available? Will this be a supervised or unsupervised learning problem? Can the data be accessed from open-access archives that meet FAIR guidelines? what would be its DOI?\n",
    "\n",
    "\n",
    "## 2. **Organize the project**\n",
    "\n",
    "Start a github, a readme, create an environment with a YML file, human and machine readible files and folder.  Make sure the project name has not been used before.\n",
    "\n",
    "## 3. **Download the data**\n",
    "\n",
    "List the data, data information, data labels, data provenance (including accessibility from open access data archives)? How large is the data? What data format would be optimal to be read across languages (python, C, R, matlab, julia etc), can it store metadata, how does it perform with I/O?\n",
    "\n",
    "Is the data geospatial, or time series?\n",
    "\n",
    "Find appropriate compute platform to storage and I/O of the data (cloud computing, institutional linux cluster etc).\n",
    "\n",
    "Create a jupyter notebook to document data download and storage.\n",
    "\n",
    "## 4. **Data preparation**\n",
    "\n",
    "\n",
    "* **Explore the data**\n",
    "\n",
    "create a jupyter notebook to preliminary data exploration. Document:\n",
    "- The name, the data type\n",
    "- The noise: what is the type of noise (stochastic, outliers etc, data gaps)\n",
    "- Data distribution: gaussian, uniform, logarithmic etc.\n",
    "- Data labels (or target attributes)\n",
    "\n",
    "\n",
    "Visualize a subset of the data.\n",
    "\n",
    "Study basic data correlations between attributes.\n",
    "\n",
    "How would you solve the problem manually given this data.\n",
    "\n",
    "Identify transformation that may be useful (such as STFT, CWT, PCA etc...)\n",
    "\n",
    "Save preliminary plots and notebooks. Document finding.\n",
    "\n",
    "* **First data manipulation**\n",
    "\n",
    "Copy the data and work on these copies.\n",
    "\n",
    "Write functions for all data transformation so that they can be automatically called (and easily debugged). These functions will be used for training, validating, and test sets.\n",
    "\n",
    "**Clean data**: fix or remove outliers, fill missing values (zero, mean median) or drop data (when too many data gaps for instance).\n",
    "Save the clean copy of the data in a different file.\n",
    "\n",
    "Avoid using toy, simple synthetic data. Try and use dataset that are collected from the real-world. The behavior of the algorithm may be completely different.\n",
    "\n",
    "* **Feature preparation**\n",
    "\n",
    "**Drop** attributes that are not useful for the task.\n",
    "\n",
    "**Transform** features (such as STFT, ...)\n",
    "\n",
    "Explore quick and promising features (e.g. PGA for ground motions)\n",
    "\n",
    "**Scale** the feature to standardize or normalize. ML algorithms will not perform well in most cases without normalization of the input feature or data. Scaling is not a requirement but it tends to improve the training behavior.\n",
    "+ *Min-max scaling*: removes the minimal value, then normalize by the maximum value of the distribution so that the amplitudes range between 0 and 1. It is appropriate when the features are positive numbers. The scikit-learn built in function ``sklearn.preprocessing.MinMaxScaler()`` performs:\n",
    "\n",
    "<code>X_std = (X - X.min(axis=0)) / (X.max(axis=0) - X.min(axis=0))</code>\n",
    "\n",
    "<code>X_scaled = X_std * (max - min) + min</code>\n",
    "Scikit learn has built in functions to do the scaling."
   ]
  },
  {
   "cell_type": "code",
   "execution_count": 1,
   "id": "2110a6aa-ce39-4dbc-869e-acf82cd37457",
   "metadata": {},
   "outputs": [
    {
     "name": "stdout",
     "output_type": "stream",
     "text": [
      "<class 'list'>\n",
      "[[-1, 2], [-0.5, 6], [0, 10], [1, 18]]\n",
      "<class 'numpy.ndarray'>\n",
      "[[0.   0.  ]\n",
      " [0.25 0.25]\n",
      " [0.5  0.5 ]\n",
      " [1.   1.  ]]\n",
      "[[0.   0.  ]\n",
      " [0.25 0.25]\n",
      " [0.5  0.5 ]\n",
      " [1.   1.  ]]\n"
     ]
    }
   ],
   "source": [
    "from sklearn.preprocessing import MinMaxScaler\n",
    "import numpy as np\n",
    "import matplotlib.pyplot as plt\n",
    "data = [[-1, 2], [-0.5, 6], [0, 10], [1, 18]]\n",
    "scaler = MinMaxScaler()\n",
    "scaler.fit(data)# fit the model for data normalization\n",
    "newdata = scaler.transform(data) # transform the data. watch that data was converted to a numpy array\n",
    "print(type(data))\n",
    "print(data)\n",
    "print(type(newdata))\n",
    "print(newdata)\n",
    "print(newdata)"
   ]
  },
  {
   "cell_type": "code",
   "execution_count": 2,
   "id": "4b0234ad-b440-43ca-949b-6863560ac65b",
   "metadata": {},
   "outputs": [
    {
     "data": {
      "text/plain": [
       "(array([ 3.,  1.,  6., 18., 18., 15., 15., 13.,  6.,  5.]),\n",
       " array([0. , 0.1, 0.2, 0.3, 0.4, 0.5, 0.6, 0.7, 0.8, 0.9, 1. ]),\n",
       " <BarContainer object of 10 artists>)"
      ]
     },
     "execution_count": 2,
     "metadata": {},
     "output_type": "execute_result"
    },
    {
     "data": {
      "image/png": "[encoded data removed]",
      "text/plain": [
       "<Figure size 432x288 with 1 Axes>"
      ]
     },
     "metadata": {
      "needs_background": "light"
     },
     "output_type": "display_data"
    }
   ],
   "source": [
    "# another more direct way is to usee the fit_transform (instead of 2 successive functions)\n",
    "crap=10*np.random.randn(100)\n",
    "newdata = scaler.fit_transform(crap.reshape(-1, 1))\n",
    "plt.hist(crap)\n",
    "plt.hist(newdata)"
   ]
  },
  {
   "cell_type": "markdown",
   "id": "d6fc9ee9-7141-4d28-9030-5eea09221d6f",
   "metadata": {},
   "source": [
    "+ *Standardization*: removes the mean and divide by the standard deviation. Output distribution does not have bounds. More stable that minmax because it is less sensitive to outliers. The scikit-learn built-in function is ````sklearn.preprocessing.StandardScaler()````\n",
    "\n",
    "There are other ways to normalize the input feature/data.\n",
    "https://scikit-learn.org/stable/modules/preprocessing.html#preprocessing\n",
    "\n",
    "\n",
    "\n",
    "\n",
    "## 5.  **Dimensionality reduction**\n",
    "\n",
    "Explore possible ways to reduce the dimension of the data. PCA, ICA, ...\n",
    "\n",
    "Document the data transformation with notebooks. Reassign data attributes/labels in the new coordinates.\n",
    "\n",
    "## 6. **Model design**\n",
    "\n",
    "Find the ***baseline*** model that the ML project is supposed to beat. At the lease, your ML algorithm has to beat the *random* baseline or there are issues in the model design or in the input data.\n",
    "\n",
    "Try several model algorithms. *No free lunch theorem* (Worlpert 1995), there is not such thing as the best learning algorithm. Instead, there is a data set where it is very accurate.\n",
    "\n",
    "Separate the data in 3 sets:\n",
    "\n",
    "- The training set (< 66% of data): data set used for training the algorithm\n",
    "- The validation set (< 33% of data): data set used to tune the model hyperparameters or help design the model structure.\n",
    "The pair of training and validation sets can be generated using cross-validation for training. Training the same algorithm multiple times with different training-validation sets and with different initial conditions allows to calculate the *expected error* of the learning algorithm, an average of all model estimate errors.\n",
    "- The test set (~=33%): data set to test model performance of the algorithm.\n",
    "\n",
    "The model should have the **minimum complexity** that is required to **minimize the model expected error**.\n",
    "\n",
    "## 7. **Model Training**\n",
    "\n",
    "Save intermediate results when possible.\n",
    "Save seeds of the random number generator to be able to reproduce the results.\n",
    "\n",
    "Avoid writing your own homewgrown library of codes. Use reliable sources.\n",
    "\n",
    "Provide good documentation, especially when working in groups.\n",
    "\n",
    "Start smaller than the final run. It is suggested that no more than 25% of the available resources should be used in the first model design.\n",
    "\n",
    "Select a performance measure. For *regression*, performance measures are based on residuals between the prediction and the data values. For *classification*, we will see below that it's a bit more elaborate.\n",
    "\n",
    "\n",
    "We will explore in later chapters strategies for training.\n",
    "\n"
   ]
  },
  {
   "cell_type": "code",
   "execution_count": null,
   "id": "33b46b47-ce00-4d11-b059-aa1329da1267",
   "metadata": {},
   "outputs": [],
   "source": []
  }
 ],
 "metadata": {
  "kernelspec": {
   "display_name": "Python 3",
   "language": "python",
   "name": "python3"
  },
  "language_info": {
   "codemirror_mode": {
    "name": "ipython",
    "version": 3
   },
   "file_extension": ".py",
   "mimetype": "text/x-python",
   "name": "python",
   "nbconvert_exporter": "python",
   "pygments_lexer": "ipython3",
   "version": "3.9.2"
  }
 },
 "nbformat": 4,
 "nbformat_minor": 5
}
