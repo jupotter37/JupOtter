{
 "cells": [
  {
   "cell_type": "markdown",
   "metadata": {},
   "source": [
    "# Testing data pipelines"
   ]
  },
  {
   "cell_type": "markdown",
   "metadata": {},
   "source": [
    "Validating a data pipeline is one of the most important measures that a Data Engineer can take to ensure that a pipeline will perform as expected when deployed to production.\n",
    "\n",
    "Select all the benefits of validating a pipeline during and after development."
   ]
  },
  {
   "cell_type": "markdown",
   "metadata": {},
   "source": [
    "- Improves reliability and trust in pipelined data\n",
    "- Validate that data is extracted, transformed, and loaded as expected\n",
    "- Helps to identify and avoid data quality issues"
   ]
  },
  {
   "cell_type": "markdown",
   "metadata": {},
   "source": [
    "# Validating a data pipeline at \"checkpoints\""
   ]
  },
  {
   "cell_type": "markdown",
   "metadata": {},
   "source": [
    "In this exercise, you'll be working with a data pipeline that extracts tax data from a CSV file, creates a new column, filters out rows based on average taxable income, and persists the data to a parquet file."
   ]
  },
  {
   "cell_type": "code",
   "execution_count": 1,
   "metadata": {},
   "outputs": [],
   "source": [
    "# # Extract and transform tax_data\n",
    "# raw_tax_data = extract(\"raw_tax_data.csv\")\n",
    "# clean_tax_data = transform(raw_tax_data)\n",
    "\n",
    "# # Check the shape of the raw_tax_data DataFrame, compare to the clean_tax_data DataFrame\n",
    "# print(f\"Shape of raw_tax_data: {raw_tax_data.shape}\")\n",
    "# print(f\"Shape of clean_tax_data: {clean_tax_data.shape}\")\n",
    "\n",
    "\n",
    "# # Read in the loaded data, observe the head of each\n",
    "# to_validate = pd.read_parquet(\"clean_tax_data.parquet\")\n",
    "# print(clean_tax_data.head(3))\n",
    "# print(to_validate.head(3))\n",
    "\n",
    "\n",
    "# # Check that the DataFrames are equal\n",
    "# print(to_validate.equals(clean_tax_data))"
   ]
  },
  {
   "cell_type": "markdown",
   "metadata": {},
   "source": [
    "# Testing a data pipeline end-to-end"
   ]
  },
  {
   "cell_type": "markdown",
   "metadata": {},
   "source": [
    "In this exercise, you'll be working with the same data pipeline as before, which extracts, transforms, and loads tax data. You'll practice testing this pipeline end-to-end to ensure the solution can be run multiple times, without duplicating the transformed data in the parquet file."
   ]
  },
  {
   "cell_type": "code",
   "execution_count": 2,
   "metadata": {},
   "outputs": [],
   "source": [
    "def extract(file_path):\n",
    "    return pd.read_csv(file_path)\n",
    "\n",
    "\n",
    "def transform(raw_data):\n",
    "    # Find average taxable income for each business type.\n",
    "    raw_data[\"average_taxable_income\"] = raw_data[\"total_taxable_income\"] / \\\n",
    "        raw_data[\"number_of_firms\"]\n",
    "\n",
    "    # Only keep records with average_taxable_income > 100.\n",
    "    clean_data = raw_data.loc[raw_data[\"average_taxable_income\"] > 100, :]\n",
    "\n",
    "    # Set the index to the industry_name.\n",
    "    clean_data.set_index(\"industry_name\", inplace=True)\n",
    "\n",
    "    # Return the clean DataFrame.\n",
    "    return clean_data\n",
    "\n",
    "\n",
    "def load(clean_data, clean_data_path):\n",
    "    clean_data.to_parquet(clean_data_path)"
   ]
  },
  {
   "cell_type": "code",
   "execution_count": 3,
   "metadata": {},
   "outputs": [],
   "source": [
    "# # Trigger the data pipeline to run three times\n",
    "# for attempt in range(0, 3):\n",
    "# \tprint(f\"Attempt: {attempt}\")\n",
    "# \traw_tax_data = extract(\"raw_tax_data.csv\")\n",
    "# \tclean_tax_data = transform(raw_tax_data)\n",
    "# \tload(clean_tax_data, \"clean_tax_data.parquet\")\n",
    "\n",
    "# \t# Print the shape of the cleaned_tax_data DataFrame\n",
    "# \tprint(f\"Shape of clean_tax_data: {clean_tax_data.shape}\")\n",
    "\n",
    "# # Read in the loaded data, check the shape\n",
    "# to_validate = pd.read_parquet(\"clean_tax_data.parquet\")\n",
    "# print(f\"Final shape of cleaned data: {to_validate.shape}\")"
   ]
  },
  {
   "cell_type": "markdown",
   "metadata": {},
   "source": [
    "# Validating a data pipeline with assert"
   ]
  },
  {
   "cell_type": "markdown",
   "metadata": {},
   "source": [
    "To build unit tests for data pipelines, it's important to get familiar with the assert keyword, and the isinstance() function. In this exercise, you'll practice using these two tools to validate components of a data pipeline."
   ]
  },
  {
   "cell_type": "code",
   "execution_count": 4,
   "metadata": {},
   "outputs": [],
   "source": [
    "\n",
    "# raw_tax_data = extract(\"raw_tax_data.csv\")\n",
    "# clean_tax_data = transform(raw_tax_data)\n",
    "\n",
    "# # Validate the number of columns in the DataFrame\n",
    "# assert len(clean_tax_data.columns) == 5\n",
    "\n",
    "\n",
    "# # Determine if the clean_tax_data DataFrames take type pd.DataFrame\n",
    "# assert isinstance(clean_tax_data, pd.DataFrame)\n",
    "\n",
    "\n",
    "# # Assert that clean_tax_data takes is an instance of a string\n",
    "# try:\n",
    "# \tassert isinstance(clean_tax_data, str)\n",
    "# except Exception as e:\n",
    "# \tprint(e)"
   ]
  },
  {
   "cell_type": "markdown",
   "metadata": {},
   "source": [
    "# Writing unit tests with pytest"
   ]
  },
  {
   "cell_type": "markdown",
   "metadata": {},
   "source": [
    "In this exercise, you'll practice writing a unit test to validate a data pipeline. You'll use assert and other tools to build the tests, and determine if the data pipeline performs as it should."
   ]
  },
  {
   "cell_type": "code",
   "execution_count": 5,
   "metadata": {},
   "outputs": [],
   "source": [
    "# import pytest\n",
    "\n",
    "\n",
    "# def test_transformed_data():\n",
    "#     raw_tax_data = extract(\"raw_tax_data.csv\")\n",
    "#     clean_tax_data = transform(raw_tax_data)\n",
    "\n",
    "#     # Assert that the transform function returns a pd.DataFrame\n",
    "#     assert isinstance(clean_tax_data, pd.DataFrame)\n",
    "\n",
    "#     # Assert that the clean_tax_data DataFrame has more columns than the raw_tax_data DataFrame\n",
    "#     assert len(clean_tax_data.columns) > len(raw_tax_data.columns)"
   ]
  },
  {
   "cell_type": "markdown",
   "metadata": {},
   "source": [
    "# Creating fixtures with pytest"
   ]
  },
  {
   "cell_type": "markdown",
   "metadata": {},
   "source": [
    "When building unit tests, you'll sometimes have to do a bit of setup before testing can begin. Doing this setup within a unit test can make the tests more difficult to read, and may have to be repeated several times. Luckily, pytest offers a way to solve these problems, with fixtures."
   ]
  },
  {
   "cell_type": "code",
   "execution_count": 6,
   "metadata": {},
   "outputs": [],
   "source": [
    "# Import pytest\n",
    "import pytest\n",
    "\n",
    "# Create a pytest fixture\n",
    "\n",
    "\n",
    "@pytest.fixture()\n",
    "def raw_tax_data():\n",
    "    raw_data = extract(\"raw_tax_data.csv\")\n",
    "\n",
    "# Return the raw DataFrame\n",
    "    return raw_data"
   ]
  },
  {
   "cell_type": "markdown",
   "metadata": {},
   "source": [
    "# Unit testing a data pipeline with fixtures"
   ]
  },
  {
   "cell_type": "markdown",
   "metadata": {},
   "source": [
    "You've learned in the last video that unit testing can help to instill more trust in your data pipeline, and can even help to catch bugs throughout development. In this exercise, you'll practice writing both fixtures and unit tests, using the pytest library and assert."
   ]
  },
  {
   "cell_type": "code",
   "execution_count": 7,
   "metadata": {},
   "outputs": [],
   "source": [
    "# Define a pytest fixture\n",
    "@pytest.fixture()\n",
    "def clean_tax_data():\n",
    "    raw_data = pd.read_csv(\"raw_tax_data.csv\")\n",
    "\n",
    "    # Transform the raw_data, store in clean_data DataFrame, and return the variable\n",
    "    clean_data = transform(raw_data)\n",
    "    return clean_data\n",
    "\n",
    "# Pass the fixture to the function\n",
    "\n",
    "\n",
    "def test_tax_rate(clean_tax_data):\n",
    "    # Assert values are within the expected range\n",
    "    assert clean_tax_data[\"tax_rate\"].max(\n",
    "    ) <= 1 and clean_tax_data[\"tax_rate\"].min() >= 0"
   ]
  },
  {
   "cell_type": "markdown",
   "metadata": {},
   "source": [
    "# Orchestration and ETL tools"
   ]
  },
  {
   "cell_type": "markdown",
   "metadata": {},
   "source": [
    "When deploying data pipelines to production, Data Engineers need to make sure that their pipelines can run consistently on a schedule, have access to a flexible quantity of resources, and alert on failure. To do this, Data Engineers will often look outside of a Python script to an orchestration and ETL tool.\n",
    "\n",
    "What is the most popular orchestration tool for building, deploying, and monitoring data pipelines?"
   ]
  },
  {
   "cell_type": "markdown",
   "metadata": {},
   "source": [
    "- Airflow"
   ]
  },
  {
   "cell_type": "markdown",
   "metadata": {},
   "source": [
    "# Data pipeline architecture patterns"
   ]
  },
  {
   "cell_type": "markdown",
   "metadata": {},
   "source": [
    "When building data pipelines, it's best to separate the files where functions are being defined from where they are being run.\n",
    "\n",
    "In this exercise, you'll practice importing components of a pipeline into memory before using these functions to run the pipeline end-to-end. The project takes the following format, where pipeline_utils stores the extract(), transform(), and load() functions that will be used run the pipeline."
   ]
  },
  {
   "cell_type": "code",
   "execution_count": 8,
   "metadata": {},
   "outputs": [],
   "source": [
    "# # Import the extract, transform, and load functions from pipeline_utils\n",
    "# from pipeline_utils import extract, transform, load\n",
    "\n",
    "# # Run the pipeline end to end by extracting, transforming and loading the data\n",
    "# raw_tax_data = extract(\"raw_tax_data.csv\")\n",
    "# clean_tax_data = transform(raw_tax_data)\n",
    "# load(clean_tax_data, \"clean_tax_data.parquet\")"
   ]
  },
  {
   "cell_type": "markdown",
   "metadata": {},
   "source": [
    "# Running a data pipeline end-to-end"
   ]
  },
  {
   "cell_type": "markdown",
   "metadata": {},
   "source": [
    "It's important to monitor the performance of a pipeline when running in production. Earlier in the course, you explored tools such as exception handling and logging. In this last exercise, we'll practice running a pipeline end-to-end, while monitoring for exceptions and logging performance."
   ]
  },
  {
   "cell_type": "code",
   "execution_count": null,
   "metadata": {},
   "outputs": [],
   "source": [
    "# import logging\n",
    "\n",
    "# # Import extract, transform, and load functions from pipeline_utils\n",
    "# from pipeline_utils import extract, transform, load\n",
    "\n",
    "# logging.basicConfig(format='%(levelname)s: %(message)s', level=logging.DEBUG)\n",
    "# try:\n",
    "#     raw_tax_data = extract(\"raw_tax_data.csv\")\n",
    "#     clean_tax_data = transform(raw_tax_data)\n",
    "#     load(clean_tax_data, \"clean_tax_data.parquet\")\n",
    "\n",
    "#     # Log a success message.\n",
    "#     logging.info(\"Successfully extracted, transformed and loaded data.\")\n",
    "\n",
    "# except Exception as e:\n",
    "#     logging.error(f\"Pipeline failed with error: {e}\")  # Log failure message"
   ]
  }
 ],
 "metadata": {
  "kernelspec": {
   "display_name": "env_py",
   "language": "python",
   "name": "python3"
  },
  "language_info": {
   "codemirror_mode": {
    "name": "ipython",
    "version": 3
   },
   "file_extension": ".py",
   "mimetype": "text/x-python",
   "name": "python",
   "nbconvert_exporter": "python",
   "pygments_lexer": "ipython3",
   "version": "3.8.11"
  }
 },
 "nbformat": 4,
 "nbformat_minor": 2
}
