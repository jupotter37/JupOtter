{
 "metadata": {
  "name": "",
  "signature": "sha256:c6781e285707e24bc1e767ebfdfad42da78f56889c205d2fc46384253f1ec579"
 },
 "nbformat": 3,
 "nbformat_minor": 0,
 "worksheets": [
  {
   "cells": [
    {
     "cell_type": "markdown",
     "metadata": {
      "slideshow": {
       "slide_type": "slide"
      }
     },
     "source": [
      "# Debugging\n",
      "\n",
      "- bug\n",
      "\n",
      "![bug](files/images/bug.jpg)\n",
      "\n",
      "- [de](http://endic.naver.com/enkrEntry.nhn?sLn=kr&entryId=907af793f48f4581b6b498330124e0c1&query=de): '\ubc18\ub300'\ub97c \ub73b\ud558\ub294 \uc811\ub450\uc0ac"
     ]
    },
    {
     "cell_type": "markdown",
     "metadata": {
      "slideshow": {
       "slide_type": "subslide"
      }
     },
     "source": [
      "- debugging view in bio\n",
      "![debugging view in bio](files/images/debug.jpeg)"
     ]
    },
    {
     "cell_type": "markdown",
     "metadata": {
      "slideshow": {
       "slide_type": "subslide"
      }
     },
     "source": [
      "- debugging view in program\n",
      "![debugging view in program](files/images/debug_matrix.jpg)"
     ]
    },
    {
     "cell_type": "code",
     "collapsed": false,
     "input": [
      "from IPython.display import YouTubeVideo\n",
      "YouTubeVideo('EWOIf0_tCnk')"
     ],
     "language": "python",
     "metadata": {
      "slideshow": {
       "slide_type": "subslide"
      }
     },
     "outputs": [
      {
       "html": [
        "\n",
        "        <iframe\n",
        "            width=\"400\"\n",
        "            height=300\"\n",
        "            src=\"https://www.youtube.com/embed/EWOIf0_tCnk\"\n",
        "            frameborder=\"0\"\n",
        "            allowfullscreen\n",
        "        ></iframe>\n",
        "        "
       ],
       "metadata": {},
       "output_type": "pyout",
       "prompt_number": 1,
       "text": [
        "<IPython.lib.display.YouTubeVideo at 0x1058d6510>"
       ]
      }
     ],
     "prompt_number": 1
    },
    {
     "cell_type": "markdown",
     "metadata": {
      "slideshow": {
       "slide_type": "slide"
      }
     },
     "source": [
      "## 12.1 You will learn\n",
      "\n",
      "- What to do when your program does not work\n",
      "- How to find and fix typical Python errors\n",
      "- How to write programs where errors are easy to find\n",
      "- Who to ask for help\n",
      "\n",
      "## 12.2 STORY: When your program does not work\n",
      "\n",
      "### 12.2.1 Problem Description\n",
      "\n",
      "- syntax Errors: \ubb38\ubc95 \uc798\ubabb \uc500. \ucef4\ud4e8\ud130\uac00 \uc54c\uc544\ub4e3\uac8c \ub054 \uc368\ub77c!\n",
      "- runtime errors: \uc2e4\ud589\ud558\ub294 \ub3d9\uc548 \ubc1c\uc0dd\ud558\ub294 \uc5d0\ub7ec\n",
      "- logical errors: \uc774\uac8c \uac00\uc7a5 \ucc3e\uae30 \ud798\ub4ec. \ub09c \ub9de\ub2e4\uace0 \uc791\uc131\ud55c \ucf54\ub4dc\uac00 \uc804\ud600 \ub2e4\ub978 \ubc29\uc2dd\uc73c\ub85c \ub3d9\uc791\ud560 \ub54c. \ud55c\uc904 \ud55c\uc904 \ub514\ubc84\uae45 \ud574\uac00\uba74\uc11c \ucc3e\uc544\uc57c \ub428"
     ]
    },
    {
     "cell_type": "markdown",
     "metadata": {
      "slideshow": {
       "slide_type": "subslide"
      }
     },
     "source": [
      "### BOX 12.1 ASK FOR HELP\n",
      "\n",
      "- An experienced programmer: \uc5b4\ub824\uc6b4 \ubb38\uc81c\ub97c \ud574\uacb0\ud558\ub294 \uac83\uc744 \uc88b\uc544\ud55c\ub2e4.\n",
      "- A similarly experienced colleague to whom you can explain the program: \uc88b\uc740 \uc9c8\ubb38\uc744 \ud574\ub77c\n",
      "- A nonprogrammer: \ub124\uac00 \ubb34\uc5c7\uc744 \ud558\ub294\uc9c0 \uac04\ub2e8\ud788 \uc124\uba85\ud558\ub294\uac8c \ud544\uc694\ud558\ub2e4. \n",
      "- Yourself: \ud53c\uace4\ud558\uba74 \uc26c\uc5b4\ub77c. \ud53c\uace4\ud558\uba74 \uac04\ub2e8\ud55c \ubc84\uadf8\uc870\ucc28 \uc7a1\uc744 \uc218 \uc5c6\ub2e4.\n",
      "\n",
      "### 10.2.2 Example Python Session"
     ]
    },
    {
     "cell_type": "markdown",
     "metadata": {},
     "source": [
      "### \uc624\ub958 \ubc84\uc804"
     ]
    },
    {
     "cell_type": "code",
     "collapsed": false,
     "input": [
      "def evaluate_data(data, lower=100, upper=300):\n",
      "    '''Counts data points in three bins.'''\n",
      "    smaller = 0\n",
      "    between = 0\n",
      "    bigger = 0\n",
      "    \n",
      "    for length in data:\n",
      "        if length < lower:\n",
      "            smaller = smaller + 1\n",
      "        elif lower < length < upper:\n",
      "            between = between + 1\n",
      "        elif length > upper:\n",
      "            bigger = 1\n",
      "    return smaller, between, bigger\n",
      "\n",
      "def read_data(filename):\n",
      "    '''Reads neuron lengths from a text file.'''\n",
      "    primary, secondary = [], []\n",
      "    \n",
      "    with open(filename) as f:\n",
      "        for line in f:\n",
      "            category, length = line.split('\\t')\n",
      "            length = float(length)\n",
      "            if category == 'Primary':\n",
      "                primary.append(length)\n",
      "            elif category == 'Secondary':\n",
      "                secondary.append(length)\n",
      "    return primary, secondary\n",
      "\n",
      "def write_output(filename, count_pri, count_sec):\n",
      "    '''Writes counted values to a file.'''\n",
      "    with open(filename, 'w') as output:\n",
      "        output.write('category <100 100-300 >300\\n')\n",
      "        output.write('Primary : %5i %5i %5i\\n' % count_pri)\n",
      "        output.write('Secondary: %5i %5i %5i\\n' % count_sec)\n",
      "        output.close()\n",
      "        \n",
      "primary, secondary = read_data('12-debugging/neuron_data.txt')\n",
      "count_pri = evaluate_data(primary)\n",
      "count_sec = evaluate_data(secondary)\n",
      "write_output('12-debugging/results.txt', count_pri, count_sec)"
     ],
     "language": "python",
     "metadata": {},
     "outputs": [],
     "prompt_number": 7
    },
    {
     "cell_type": "markdown",
     "metadata": {},
     "source": [
      "## 12.3 What do the commands mean?\n",
      "\n",
      "![couple_promises](files/images/couple_promises.jpg)\n",
      "\n",
      "- [8. Errors and Exceptions \u2014 Python v2.7.8 documentation](https://docs.python.org/2/tutorial/errors.html)\n",
      "- [Warehouse B :: \\[Python\\] \uc608\uc678\ucc98\ub9ac (Exceptions)](http://agiantmind.tistory.com/39)\n",
      "\n",
      "### a list of error.\n",
      "\n",
      "1. SyntaxError: invalid syntax\n",
      "\n",
      "    ```python\n",
      "    File \"<ipython-input-9-5b4413ced60a>\", line 24\n",
      "        if category == 'Primary'\n",
      "                                ^\n",
      "    SyntaxError: invalid syntax\n",
      "    ```\n",
      "\n",
      "2. IOError: [Errno 2] No such file or directory: 'neuron_data1.txt'\n",
      "\n",
      "    ```python\n",
      "    ---------------------------------------------------------------------------\n",
      "    IOError                                   Traceback (most recent call last)\n",
      "    <ipython-input-14-f0f285f7761d> in <module>()\n",
      "         36         output.close()\n",
      "         37 \n",
      "    ---> 38 primary, secondary = read_data('12-debugging/neuron_data1.txt')\n",
      "         39 count_pri = evaluate_data(primary)\n",
      "         40 count_sec = evaluate_data(secondary)\n",
      "\n",
      "    <ipython-input-14-f0f285f7761d> in read_data(filename)\n",
      "         18     primary, secondary = [], []\n",
      "         19 \n",
      "    ---> 20     with open(filename) as f:\n",
      "         21         for line in f:\n",
      "         22             category, length = line.split('\\t')\n",
      "\n",
      "    IOError: [Errno 2] No such file or directory: '12-debugging/neuron_data1.txt'\n",
      "    ```\n",
      "\n",
      "3. NameError: name 'write_output_file' is not defined\n",
      "\n",
      "    ```python\n",
      "\n",
      "    ---------------------------------------------------------------------------\n",
      "    NameError                                 Traceback (most recent call last)\n",
      "    <ipython-input-10-e355adcef24f> in <module>()\n",
      "         39 count_pri = evaluate_data(primary)\n",
      "         40 count_sec = evaluate_data(secondary)\n",
      "    ---> 41 write_output_file('12-debugging/results.txt', count_pri, count_sec)\n",
      "\n",
      "    NameError: name 'write_output_file' is not defined\n",
      "    ```"
     ]
    },
    {
     "cell_type": "markdown",
     "metadata": {},
     "source": [
      "### 12.3.1 Syntax Errors\n",
      "\n",
      "- \ucef4\ud4e8\ud130\uc640 \uc18c\ud1b5\ud558\uae30 \uc704\ud574\uc11c\ub294 \uc9c0\ucf1c\uc57c \ud558\ub294 \uc57d\uc18d\n",
      "- python interpretr\uac00 \uba85\ub839\uc5b4\ub97c \ud574\uc11d\ud558\uc9c0 \ubabb\ud574\uc11c \uc5d0\ub7ec\ub97c \ubc49\uace0 \uba48\ucda4\n",
      "- \uc624\ud0c0\ub098 \uc798\ubabb\ub41c \uc704\uce58\n",
      "- print\uc778\ub370 prin\n",
      "- [1,2,3]\uc778\ub370 [1;2;3;]\n",
      "- \uac00\uc7a5 \uc26c\uc6b4 \ub2e8\uacc4\ub77c\uc11c \uc27d\uac8c \ucc3e\uc744 \uc218 \uc788\ub2e4.\n",
      "- \uc774\ub7f0 \uae30\ubcf8\uc801\uc778 \uc5d0\ub7ec\ub97c \ubc29\uc9c0\ud558\uae30 \uc704\ud574\uc11c\ub294 tab\ud0a4\ub97c \uc790\uc8fc \uc0ac\uc6a9\ud558\uc5ec auto completion \uae30\ub2a5\uc744 \uc790\uc8fc \uc0ac\uc6a9\ud558\uc790. \n",
      "\n",
      "#### \uc0ac\ub78c \ud574\uc11d\n",
      "\n",
      "```python\n",
      "File \"<ipython-input-9-5b4413ced60a>\", line 24\n",
      "    if category == 'Primary'\n",
      "                            ^(\uc774 symbole\uc774 \uc704\uce58\ub97c \ub098\ud0c0\ub0b8\ub2e4.)\n",
      "SyntaxError: invalid syntax\n",
      "```\n",
      "\n",
      "- \ubb54 \uadc0\uc2e0 \uc2e0\ub098\ub77d \uae4c\uba39\ub294 \uc18c\ub9ac\ub0d0...\n",
      "\n",
      "#### \ucef4\ud4e8\ud130 \ud574\uc11d\n",
      "\n",
      "- if \ub2e4\uc74c\uc5d0\ub294 :\uc774 \uaf2d \uc640\uc57c \ub418\ub294\ub370 \uc5b4\ub514\ub2e4\uac00 \ubc84\ub824\ub454\uac70\uc57c? \ub09c \uc774 \ubb38\uc7a5\uc744 \ud574\uc11d\ud560 \uc218 \uc5c6\uc73c\ub2c8 \uc7ac\uc8fc\uaecf \uace0\uccd0\ubd10!"
     ]
    },
    {
     "cell_type": "markdown",
     "metadata": {},
     "source": [
      "### BOX 12.2 How to tacke a SYNTAXERROR\n",
      "\n",
      "- syntax error message line\uc744 \uc0b4\ud3b4\ubd10\n",
      "- if, for, def \ubb38\uc790\uc5d0\ub294 \uaf2d :\uc774 \ubb38\uc7a5 \ub9c8\uc9c0\ub9c9\uc5d0 \uc640\uc57c \ud55c\ub2e4.\n",
      "- '''\ub85c \uc2dc\uc791\ud588\uc73c\uba74 \uc885\ub8cc \uc704\uce58\uc5d0\ub3c4 '''\uac00 \uc788\ub290\ub0d0?\n",
      "- list, dictionary, tuple \uc744 \uc0ac\uc6a9\ud588\uc744 \ub54c \ub2eb\ub294 \uae30\ud638\uac00 \uc788\ub290\ub0d0?\n",
      "- spaces, tabs\uac00 \uc11c\ub85c \uc11e\uc5ec \uc788\ub290\ub0d0? \uc11e\uc5ec \uc788\uc73c\uba74 \uacc4\uc18d \uc5d0\ub7ec\ub09c\ub2e4.(\uac00\uc7a5 \ucc98\uc74c\uc5d0 \uc811\ud560 \ub54c \uc774 \uc5d0\ub7ec\uac00 \uac00\uc7a5 \ub9ce\uc740\ub4ef. \ub09c \uc815\ud655\ud788 \uc18c\uc2a4\ub97c \uc9f0\ub294\ub370 \uc5d0\ub7ec\uac00 \ub0ac\ub2e4. \uc65c \uadf8\ub7f0\uac00 \uc0b4\ud3b4\ubd24\ub354\ub2c8 editor \uc124\uc815\uc740 space\uc774\uc5c8\uace0, \ub0b4\uac00 \uc218\uc815\ud55c\uac74 space \uc5ec\uc11c \uadf8\ub807\ub2e4. \uc11c\ub85c \uc11e\uc5b4 \uc4f0\uba74 \uc548\ub41c\ub2e4. space\ub4e0 tab\uc774\ub4e0 \ud558\ub098\ub85c \ud1b5\uc77c\ud558\uc790\n",
      "- \uc5d0\ub7ec\uac00 \ubc1c\uc0dd\ud55c \uacf3\uc5d0 \ub77c\uc778\uc774\ub098 \uc804\uccb4 \uc139\uc158\uc5d0 \uc8fc\uc11d\uc744 \ub2ec\uc544\ub193\uc790. \ub9cc\uc57d\uc5d0 syntax error\uac00 \uc544\ub2cc \ub2e4\ub978 \uba54\uc138\uc9c0\ub77c\uba74 \ub124 \ub85c\uceec \ubb38\uc81c\uc774\ub2e4.\n",
      "- \uc5d0\ub7ec\uac00 \ubc1c\uc0dd\ud55c \ub77c\uc778\uc774\ub098 \uc139\uc158\uc744 \uc0ad\uc81c\ud574 \ubcf4\uc790. \uc5d0\ub7ec\uac00 \uc5c6\uc5b4\uc84c\ub0d0?\n",
      "- python 2.7 \ubc84\uc804\uc73c\ub85c \uc791\uc131\ub41c \uac83\uc744 python 3.x \ubc84\uc804\uc73c\ub85c \uc2e4\ud589\uc2dc\ud0a8 \uac83 \uc544\ub2c8\ub0d0? 2.x\uc640 3.x\ub294 \ubb38\ubc95\uc774 \ub2ec\ub77c\uc84c\uc73c\ub2c8 \uc8fc\uc758\ud560 \uac83. \n",
      "- 2.7\uc740 print 'hi' \uc774\uc9c0\ub9cc 3.x\uc740 print('hi') \uc774\ub807\uac8c \ud574\uc57c\ud55c\ub2e4.\n",
      "\n",
      "#### \uc218\uc815\n",
      "\n",
      "```python\n",
      "if category == 'Primary'\n",
      "if category == 'Primary':\n",
      "```"
     ]
    },
    {
     "cell_type": "markdown",
     "metadata": {},
     "source": [
      "### 12.3.2 Runtime Errors\n",
      "\n",
      "- IOError: [Errno 2] No such file or directory: 'neuron_data1.txt'\n",
      "\n",
      "![IOError](files/images/intput_output.JPG)\n",
      "\n",
      "```python\n",
      "---------------------------------------------------------------------------\n",
      "IOError                                   Traceback (most recent call last)\n",
      "<ipython-input-14-f0f285f7761d> in <module>()\n",
      "     36         output.close()\n",
      "     37 \n",
      "---> 38 primary, secondary = read_data('12-debugging/neuron_data1.txt')\n",
      "     39 count_pri = evaluate_data(primary)\n",
      "     40 count_sec = evaluate_data(secondary)\n",
      "\n",
      "<ipython-input-14-f0f285f7761d> in read_data(filename)\n",
      "     18     primary, secondary = [], []\n",
      "     19 \n",
      "---> 20     with open(filename) as f:\n",
      "     21         for line in f:\n",
      "     22             category, length = line.split('\\t')\n",
      "\n",
      "IOError: [Errno 2] No such file or directory: '12-debugging/neuron_data1.txt'\n",
      "```\n",
      "\n",
      "- \ud30c\uc774\uc36c\uc774 \uc5b4\ub5bb\uac8c \uc5d0\ub7ec \ubc1c\uc0dd\ud55c \ubd80\ubd84\uc744 \uc815\ud655\ud788 \ucd94\uc801\ud574\uc11c \ubcf4\uc5ec\uc8fc\ub098 \ubd24\ub354\ub2c8 stack \uc5d0 \uc313\ub294\uac78 \uc0dd\uac01\ud558\uba74 \uc27d\uac8c \uc774\ud574\uac00 \ub41c\ub2e4. \uc608\uc804 \ucd08\ubcf4\ub54c\ub294 \uad49\uc7a5\ud788 \uc2e0\uae30\ud588\ub294\ub370 \uc9c0\uae08 \ubcf4\ub2c8\uae4c \ub2f9\uc5f0\ud788 \uc800\ub807\uac8c stack\uc5d0 \uc313\uc744 \uc218 \ubc16\uc5d0 \uc5c6\uaca0\uad6c\ub098 \uc2f6\ub2e4.\n",
      "\n",
      "- syntax \ubb38\uc81c\ub294 \uc5c6\uc5c8\uace0 \uc2e4\ud589\ud560 \ub54c \ubb38\uc81c\uac00 \ubc1c\uc0dd\ud588\ub2e4.\n",
      "- \ub9ce\uc740 \uacbd\uc6b0\uac00 \uc5ec\uae30\uc5d0 \uc18d\ud55c\ub2e4.\n",
      "- \ubcc0\uc218 \ud560\ub2f9\uc744 \ud558\uc9c0 \uc54a\uc558\uac70\ub098\n",
      "- \ud30c\uc77c\uc744 \ucc3e\uc9c0 \ubaa8\ud55c \uacbd\uc6b0\n",
      "- \uc774 \ubb38\uc81c\ub97c \ud574\uacb0\ud558\uae30 \uc704\ud574\uc11c \uc5b4\ub5a4 \uc77c\uc774 \ubc1c\uc0dd\ud558\ub294\uc9c0 \ubd84\uc11d\ud574\uc57c \ud55c\ub2e4.\n",
      "\n",
      "- IOError(Input Output Error): file, program or website \ub4f1\uacfc \ud1b5\uc2e0\ud560 \ub54c \ubc1c\uc0dd, \n",
      "  - \ub9ce\uc740 \uacbd\uc6b0 \ud30c\uc77c\uba85\uc774\ub098 \ub514\ub809\ud1a0\ub9ac\uba85\uc758 \uc624\ud0c0\uc5d0 \uc758\ud574\uc11c \ubc1c\uc0dd\n",
      "  - permission\uc774 \uc5c6\ub294 \uacbd\uc6b0\ub3c4 \uc788\uc74c\n",
      "  - \uc6f9\ud398\uc774\uc9c0 \uc811\uc18d\uc740 \uc778\ud130\ub137 \uc5f0\uacb0\uc774 \uc548\ub418\uc5b4 \uc788\uc73c\uba74 \ubc1c\uc0dd\n",
      "- 20\ubc88\uc9f8 \uc904\uc5d0\uc11c \ubc1c\uc0dd\n",
      "\n",
      "```python\n",
      "print filename\n",
      "for line in open(filename):\n",
      "```\n",
      "\n",
      "- \uacf5\ubc31, \ub300\ubb38\uc790, \uc18c\ubb38\uc790 \uc8fc\uc758\n",
      "- file \uac19\uc740 \uacbd\uc6b0 2\ubc88 \uccb4\ud06c(file browser\ub098 terminal \uc5d0\uc11c \ud30c\uc77c\uc774 \uc2e4\uc81c \uc874\uc7ac\ud558\ub294\uc9c0)\n",
      "- IOError\ub294 \uc27d\uac8c \uace0\uce60 \uc218 \uc788\ub2e4.\n",
      "\n",
      "### \uc218\uc815\n",
      "\n",
      "- neuron_data1.txt -> neuron_data.txt"
     ]
    },
    {
     "cell_type": "markdown",
     "metadata": {},
     "source": [
      "#### NameError\n",
      "\n",
      "```python\n",
      "\n",
      "---------------------------------------------------------------------------\n",
      "NameError                                 Traceback (most recent call last)\n",
      "<ipython-input-15-e355adcef24f> in <module>()\n",
      "     39 count_pri = evaluate_data(primary)\n",
      "     40 count_sec = evaluate_data(secondary)\n",
      "---> 41 write_output_file('12-debugging/results.txt', count_pri, count_sec)\n",
      "\n",
      "NameError: name 'write_output_file' is not defined\n",
      "```\n",
      "\n",
      "- \ubcc0\uc218 \uc774\ub984, \ud568\uc218 \uc774\ub984, \ub2e4\ub978 object\ub97c \uc54c \uc218 \uc5c6\uc744 \ub54c \ubc1c\uc0dd\n",
      "- error\uac00 \ubc1c\uc0dd\ud558\ub294 line\uc774 \uc911\uc694\ud558\ub2e4. \uc65c\ub0d0\ud558\uba74 namespace\uc640 \uad00\ub828\ub418\uc5b4 \uc788\uae30 \ub54c\ubb38\n",
      "- namespace: \ud604\uc7ac \ud30c\uc774\uc36c\uc5d0\uc11c \uc0ac\uc6a9\ud560 \uc218 \uc788\ub294 \ubcc0\uc218\uac00 \uc800\uc7a5\ub41c \uacf3\n",
      "- \uc0c8\ub85c\uc6b4 \ubcc0\uc218\ub098 \ud568\uc218\ub85c \ub4e4\uc5b4\uac14\ub2e4\uac00 \ub3cc\uc544\uc62c \ub54c \uc0c8\ub85c\uc6b4 \ud568\uc218\uc758 \uc704\uce58\uc5d0 \uc788\ub294 \ubcc0\uc218\ub97c \ucc38\uc870\ud558\ub824\uba74 NameError \ubc1c\uc0dd\n",
      "- A name was not imported\n",
      "    - import name\n",
      "- A variable has not been initialized\n",
      "    - counter = counter + 1\uc744 \ud558\uae30 \uc704\ud574\uc11c\ub294\n",
      "    - counter = 0 \uc774 \uba3c\uc800 \uc120\ud589\ub418\uc5b4\uc57c \ud568\n",
      "    - ```python\n",
      "      if a > 5:\n",
      "        counter = 0\n",
      "      counter = counter + 1\n",
      "      ```\n",
      "      - \uc774\ub807\uac8c \ubcc0\uc218\ub97c \ud560\ub2f9\ud558\uac8c \ub418\uba74 a\uac00 6\ubcf4\ub2e4 \ud06c\uac8c \ub418\uba74 counter \ubcc0\uc218\uac00 \ucd08\uae30\ud654\ub418\uc9c0 \uc54a\ub294\ub2e4. \uadf8\ub7ec\ubbc0\ub85c \ubcc0\uc218\ub97c \ud560\ub2f9\ud560 \ub54c\ub294 \uaf2d condition \uc774 \uc5c6\uc774 \ud560\ub2f9\ud558\ub77c.\n",
      "- A variable or function name is misspelled\n",
      "    - write_output_file \uac19\uc774 \uc624\ud0c0 \ubc1c\uc0dd\n",
      "    - write_output \uc774 \uc815\ud655\ud568"
     ]
    },
    {
     "cell_type": "markdown",
     "metadata": {},
     "source": [
      "### NameError\ub97c \ubd84\uc11d\ud560 \uc218 \uc788\ub294 \uc26c\uc6b4 \ubc29\ubc95\uc740\n",
      "\n",
      "```python\n",
      "print dir()\n",
      "```\n",
      "\n",
      "- \uc744 \ud558\uac8c \ub418\uba74 \ud604\uc7ac \uc0ac\uc6a9\ud560 \uc218 \uc788\ub294 \ubcc0\uc218\ub4e4\uc744 \uc27d\uac8c \uc54c \uc218 \uc788\ub2e4."
     ]
    },
    {
     "cell_type": "code",
     "collapsed": false,
     "input": [
      "help(dir)"
     ],
     "language": "python",
     "metadata": {},
     "outputs": [
      {
       "output_type": "stream",
       "stream": "stdout",
       "text": [
        "Help on built-in function dir in module __builtin__:\n",
        "\n",
        "dir(...)\n",
        "    dir([object]) -> list of strings\n",
        "    \n",
        "    If called without an argument, return the names in the current scope.\n",
        "    Else, return an alphabetized list of names comprising (some of) the attributes\n",
        "    of the given object, and of attributes reachable from it.\n",
        "    If the object supplies a method named __dir__, it will be used; otherwise\n",
        "    the default dir() logic is used and returns:\n",
        "      for a module object: the module's attributes.\n",
        "      for a class object:  its attributes, and recursively the attributes\n",
        "        of its bases.\n",
        "      for any other object: its attributes, its class's attributes, and\n",
        "        recursively the attributes of its class's base classes.\n",
        "\n"
       ]
      }
     ],
     "prompt_number": 17
    },
    {
     "cell_type": "code",
     "collapsed": false,
     "input": [
      "print dir()"
     ],
     "language": "python",
     "metadata": {},
     "outputs": [
      {
       "output_type": "stream",
       "stream": "stdout",
       "text": [
        "['ALLOW_THREADS', 'Annotation', 'Arrow', 'Artist', 'AutoLocator', 'Axes', 'BUFSIZE', 'Button', 'CLIP', 'Circle', 'ComplexWarning', 'DAILY', 'DataSource', 'DateFormatter', 'DateLocator', 'DayLocator', 'ERR_CALL', 'ERR_DEFAULT', 'ERR_DEFAULT2', 'ERR_IGNORE', 'ERR_LOG', 'ERR_PRINT', 'ERR_RAISE', 'ERR_WARN', 'FLOATING_POINT_SUPPORT', 'FPE_DIVIDEBYZERO', 'FPE_INVALID', 'FPE_OVERFLOW', 'FPE_UNDERFLOW', 'FR', 'False_', 'Figure', 'FigureCanvasBase', 'FixedFormatter', 'FixedLocator', 'FormatStrFormatter', 'Formatter', 'FuncFormatter', 'GridSpec', 'HOURLY', 'HourLocator', 'In', 'IndexDateFormatter', 'IndexLocator', 'Inf', 'Infinity', 'LinAlgError', 'Line2D', 'LinearLocator', 'Locator', 'LogFormatter', 'LogFormatterExponent', 'LogFormatterMathtext', 'LogLocator', 'MAXDIMS', 'MINUTELY', 'MO', 'MONTHLY', 'MachAr', 'MaxNLocator', 'MinuteLocator', 'ModuleDeprecationWarning', 'MonthLocator', 'MultipleLocator', 'NAN', 'NINF', 'NZERO', 'NaN', 'Normalize', 'NullFormatter', 'NullLocator', 'Out', 'PINF', 'PZERO', 'PackageLoader', 'PolarAxes', 'Polygon', 'RAISE', 'RRuleLocator', 'RankWarning', 'Rectangle', 'SA', 'SECONDLY', 'SHIFT_DIVIDEBYZERO', 'SHIFT_INVALID', 'SHIFT_OVERFLOW', 'SHIFT_UNDERFLOW', 'SU', 'ScalarFormatter', 'ScalarType', 'SecondLocator', 'Slider', 'Subplot', 'SubplotTool', 'TH', 'TU', 'Tester', 'Text', 'TickHelper', 'True_', 'UFUNC_BUFSIZE_DEFAULT', 'UFUNC_PYVALS_NAME', 'WE', 'WEEKLY', 'WRAP', 'WeekdayLocator', 'Widget', 'YEARLY', 'YearLocator', '_', '__', '___', '__builtin__', '__builtins__', '__doc__', '__name__', '__package__', '__version__', '_dh', '_exit_code', '_i', '_i1', '_i10', '_i11', '_i12', '_i13', '_i14', '_i15', '_i16', '_i2', '_i3', '_i4', '_i5', '_i6', '_i7', '_i8', '_i9', '_ih', '_ii', '_iii', '_oh', '_sh', 'absolute', 'absolute_import', 'acorr', 'add', 'add_docstring', 'add_newdoc', 'add_newdoc_ufunc', 'add_newdocs', 'alen', 'all', 'allclose', 'alltrue', 'alterdot', 'amap', 'amax', 'amin', 'angle', 'annotate', 'any', 'append', 'apply_along_axis', 'apply_over_axes', 'arange', 'arccos', 'arccosh', 'arcsin', 'arcsinh', 'arctan', 'arctan2', 'arctanh', 'argmax', 'argmin', 'argpartition', 'argsort', 'argwhere', 'around', 'array', 'array2string', 'array_equal', 'array_equiv', 'array_repr', 'array_split', 'array_str', 'arrow', 'asanyarray', 'asarray', 'asarray_chkfinite', 'ascontiguousarray', 'asfarray', 'asfortranarray', 'asmatrix', 'asscalar', 'atleast_1d', 'atleast_2d', 'atleast_3d', 'autoscale', 'autumn', 'average', 'axes', 'axhline', 'axhspan', 'axis', 'axvline', 'axvspan', 'bar', 'barbs', 'barh', 'bartlett', 'base_repr', 'bench', 'beta', 'binary_repr', 'bincount', 'binomial', 'bitwise_and', 'bitwise_not', 'bitwise_or', 'bitwise_xor', 'bivariate_normal', 'blackman', 'bmat', 'bone', 'bool8', 'bool_', 'box', 'boxplot', 'broadcast', 'broadcast_arrays', 'broken_barh', 'busday_count', 'busday_offset', 'busdaycalendar', 'byte', 'byte_bounds', 'bytes', 'bytes_', 'c_', 'can_cast', 'cast', 'cbook', 'cdouble', 'ceil', 'center_matrix', 'cfloat', 'char', 'character', 'chararray', 'chisquare', 'cholesky', 'choose', 'cla', 'clabel', 'clf', 'clim', 'clip', 'clongdouble', 'clongfloat', 'close', 'cm', 'cohere', 'colorbar', 'colormaps', 'colors', 'column_stack', 'common_type', 'compare_chararrays', 'complex128', 'complex256', 'complex64', 'complex_', 'complexfloating', 'compress', 'concatenate', 'cond', 'conj', 'conjugate', 'connect', 'contour', 'contourf', 'convolve', 'cool', 'copper', 'copy', 'copysign', 'copyto', 'corrcoef', 'correlate', 'cos', 'cosh', 'count_nonzero', 'count_pri', 'count_sec', 'cov', 'cross', 'csd', 'csingle', 'csv2rec', 'ctypeslib', 'cumprod', 'cumproduct', 'cumsum', 'date2num', 'datestr2num', 'datetime', 'datetime64', 'datetime_as_string', 'datetime_data', 'dedent', 'deg2rad', 'degrees', 'delaxes', 'delete', 'demean', 'deprecate', 'deprecate_with_doc', 'det', 'detrend', 'detrend_linear', 'detrend_mean', 'detrend_none', 'diag', 'diag_indices', 'diag_indices_from', 'diagflat', 'diagonal', 'diff', 'digitize', 'disconnect', 'disp', 'display', 'dist', 'dist_point_to_segment', 'distances_along_curve', 'divide', 'division', 'docstring', 'dot', 'double', 'drange', 'draw', 'draw_if_interactive', 'dsplit', 'dstack', 'dtype', 'e', 'ediff1d', 'eig', 'eigh', 'eigvals', 'eigvalsh', 'einsum', 'emath', 'empty', 'empty_like', 'entropy', 'epoch2num', 'equal', 'errorbar', 'errstate', 'euler_gamma', 'evaluate_data', 'eventplot', 'exception_to_str', 'exit', 'exp', 'exp2', 'exp_safe', 'expand_dims', 'expm1', 'exponential', 'extract', 'eye', 'f', 'fabs', 'fastCopyAndTranspose', 'fft', 'fft2', 'fftfreq', 'fftn', 'fftpack', 'fftpack_lite', 'fftshift', 'fftsurr', 'figaspect', 'figimage', 'figlegend', 'fignum_exists', 'figsize', 'figtext', 'figure', 'fill', 'fill_between', 'fill_betweenx', 'fill_diagonal', 'find', 'find_common_type', 'findobj', 'finfo', 'fix', 'flag', 'flatiter', 'flatnonzero', 'flatten', 'flexible', 'fliplr', 'flipud', 'float128', 'float16', 'float32', 'float64', 'float_', 'floating', 'floor', 'floor_divide', 'fmax', 'fmin', 'fmod', 'format_parser', 'frange', 'frexp', 'frombuffer', 'fromfile', 'fromfunction', 'fromiter', 'frompyfunc', 'fromregex', 'fromstring', 'full', 'full_like', 'fv', 'gamma', 'gca', 'gcf', 'gci', 'generic', 'genfromtxt', 'geometric', 'get', 'get_array_wrap', 'get_backend', 'get_cmap', 'get_current_fig_manager', 'get_figlabels', 'get_fignums', 'get_include', 'get_ipython', 'get_numarray_include', 'get_plot_commands', 'get_printoptions', 'get_scale_docs', 'get_scale_names', 'get_sparse_matrix', 'get_state', 'get_xyz_where', 'getbuffer', 'getbufsize', 'geterr', 'geterrcall', 'geterrobj', 'getfigs', 'getp', 'ginput', 'gradient', 'gray', 'greater', 'greater_equal', 'grid', 'griddata', 'gumbel', 'half', 'hamming', 'hanning', 'helper', 'hexbin', 'hfft', 'hist', 'hist2d', 'histogram', 'histogram2d', 'histogramdd', 'hlines', 'hold', 'hot', 'hsplit', 'hstack', 'hsv', 'hypergeometric', 'hypot', 'i0', 'identity', 'ifft', 'ifft2', 'ifftn', 'ifftshift', 'ihfft', 'iinfo', 'imag', 'imread', 'imsave', 'imshow', 'in1d', 'index_exp', 'indices', 'inexact', 'inf', 'info', 'infty', 'inner', 'insert', 'inside_poly', 'int0', 'int16', 'int32', 'int64', 'int8', 'int_', 'int_asbuffer', 'intc', 'integer', 'interactive', 'interp', 'intersect1d', 'intp', 'inv', 'invert', 'ioff', 'ion', 'ipmt', 'irfft', 'irfft2', 'irfftn', 'irr', 'is_busday', 'is_closed_polygon', 'is_numlike', 'is_string_like', 'isclose', 'iscomplex', 'iscomplexobj', 'isfinite', 'isfortran', 'ishold', 'isinf', 'isinteractive', 'isnan', 'isneginf', 'isposinf', 'ispower2', 'isreal', 'isrealobj', 'isscalar', 'issctype', 'issubclass_', 'issubdtype', 'issubsctype', 'isvector', 'iterable', 'ix_', 'jet', 'kaiser', 'kron', 'l1norm', 'l2norm', 'lapack_lite', 'laplace', 'ldexp', 'left_shift', 'legend', 'less', 'less_equal', 'levypdf', 'lexsort', 'linalg', 'linspace', 'little_endian', 'load', 'loads', 'loadtxt', 'locator_params', 'log', 'log10', 'log1p', 'log2', 'logaddexp', 'logaddexp2', 'logical_and', 'logical_not', 'logical_or', 'logical_xor', 'logistic', 'loglog', 'lognormal', 'logseries', 'logspace', 'longcomplex', 'longdouble', 'longest_contiguous_ones', 'longest_ones', 'longfloat', 'longlong', 'lookfor', 'lstsq', 'ma', 'mafromtxt', 'margins', 'mask_indices', 'mat', 'math', 'matplotlib', 'matrix', 'matrix_power', 'matrix_rank', 'matshow', 'maximum', 'maximum_sctype', 'may_share_memory', 'mean', 'median', 'memmap', 'meshgrid', 'mgrid', 'min_scalar_type', 'minimum', 'minorticks_off', 'minorticks_on', 'mintypecode', 'mirr', 'mlab', 'mod', 'modf', 'movavg', 'mpl', 'msort', 'multinomial', 'multiply', 'multivariate_normal', 'mx2num', 'nan', 'nan_to_num', 'nanargmax', 'nanargmin', 'nanmax', 'nanmean', 'nanmin', 'nanstd', 'nansum', 'nanvar', 'nbytes', 'ndarray', 'ndenumerate', 'ndfromtxt', 'ndim', 'ndindex', 'nditer', 'negative', 'negative_binomial', 'nested_iters', 'new_figure_manager', 'newaxis', 'newbuffer', 'nextafter', 'noncentral_chisquare', 'noncentral_f', 'nonzero', 'norm', 'norm_flat', 'normal', 'normalize', 'normpdf', 'not_equal', 'np', 'nper', 'npv', 'num2date', 'num2epoch', 'number', 'numpy', 'obj2sctype', 'object0', 'object_', 'ogrid', 'ones', 'ones_like', 'os', 'outer', 'over', 'packbits', 'pad', 'pareto', 'partition', 'path_length', 'pause', 'pcolor', 'pcolormesh', 'percentile', 'permutation', 'pi', 'pie', 'piecewise', 'pink', 'pinv', 'pkgload', 'place', 'plot', 'plot_date', 'plotfile', 'plotting', 'plt', 'pmt', 'poisson', 'polar', 'poly', 'poly1d', 'poly_below', 'poly_between', 'polyadd', 'polyder', 'polydiv', 'polyfit', 'polyint', 'polymul', 'polysub', 'polyval', 'power', 'ppmt', 'prctile', 'prctile_rank', 'prepca', 'primary', 'print_function', 'prism', 'prod', 'product', 'promote_types', 'psd', 'ptp', 'put', 'putmask', 'pv', 'pylab', 'pylab_setup', 'pyplot', 'qr', 'quit', 'quiver', 'quiverkey', 'r_', 'rad2deg', 'radians', 'rand', 'randint', 'randn', 'random', 'random_integers', 'random_sample', 'ranf', 'rank', 'rate', 'ravel', 'ravel_multi_index', 'rayleigh', 'rc', 'rcParams', 'rcParamsDefault', 'rc_context', 'rcdefaults', 'read_data', 'real', 'real_if_close', 'rec', 'rec2csv', 'rec_append_fields', 'rec_drop_fields', 'rec_join', 'recarray', 'recfromcsv', 'recfromtxt', 'reciprocal', 'record', 'register_cmap', 'relativedelta', 'remainder', 'repeat', 'require', 'reshape', 'resize', 'restoredot', 'result_type', 'rfft', 'rfft2', 'rfftfreq', 'rfftn', 'rgrids', 'right_shift', 'rint', 'rk4', 'rms_flat', 'roll', 'rollaxis', 'roots', 'rot90', 'round_', 'row_stack', 'rrule', 's_', 'safe_eval', 'sample', 'save', 'savefig', 'savetxt', 'savez', 'savez_compressed', 'sca', 'scatter', 'sci', 'sctype2char', 'sctypeDict', 'sctypeNA', 'sctypes', 'searchsorted', 'secondary', 'seed', 'segments_intersect', 'select', 'semilogx', 'semilogy', 'set_cmap', 'set_numeric_ops', 'set_printoptions', 'set_state', 'set_string_function', 'setbufsize', 'setdiff1d', 'seterr', 'seterrcall', 'seterrobj', 'setp', 'setxor1d', 'shape', 'short', 'show', 'show_config', 'shuffle', 'sign', 'signbit', 'signedinteger', 'silent_list', 'sin', 'sinc', 'single', 'singlecomplex', 'sinh', 'size', 'slogdet', 'slopes', 'solve', 'sometrue', 'sort', 'sort_complex', 'source', 'spacing', 'specgram', 'spectral', 'split', 'spring', 'spy', 'sqrt', 'square', 'squeeze', 'stackplot', 'standard_cauchy', 'standard_exponential', 'standard_gamma', 'standard_normal', 'standard_t', 'std', 'stem', 'step', 'stineman_interp', 'str_', 'streamplot', 'string0', 'string_', 'strpdate2num', 'subplot', 'subplot2grid', 'subplot_tool', 'subplots', 'subplots_adjust', 'subtract', 'sum', 'summer', 'suptitle', 'svd', 'swapaxes', 'switch_backend', 'sys', 'table', 'take', 'tan', 'tanh', 'tensordot', 'tensorinv', 'tensorsolve', 'test', 'text', 'thetagrids', 'tick_params', 'ticklabel_format', 'tight_layout', 'tile', 'timedelta64', 'title', 'trace', 'transpose', 'trapz', 'tri', 'triangular', 'tricontour', 'tricontourf', 'tril', 'tril_indices', 'tril_indices_from', 'trim_zeros', 'tripcolor', 'triplot', 'triu', 'triu_indices', 'triu_indices_from', 'true_divide', 'trunc', 'twinx', 'twiny', 'typeDict', 'typeNA', 'typecodes', 'typename', 'ubyte', 'ufunc', 'uint', 'uint0', 'uint16', 'uint32', 'uint64', 'uint8', 'uintc', 'uintp', 'ulonglong', 'unicode0', 'unicode_', 'uniform', 'union1d', 'unique', 'unpackbits', 'unravel_index', 'unsignedinteger', 'unwrap', 'use_fastnumpy', 'ushort', 'vander', 'var', 'vdot', 'vector_lengths', 'vectorize', 'vlines', 'void', 'void0', 'vonmises', 'vsplit', 'vstack', 'waitforbuttonpress', 'wald', 'warnings', 'weibull', 'where', 'who', 'window_hanning', 'window_none', 'winter', 'write_output', 'xcorr', 'xkcd', 'xlabel', 'xlim', 'xscale', 'xticks', 'ylabel', 'ylim', 'yscale', 'yticks', 'zeros', 'zeros_like', 'zipf']\n"
       ]
      }
     ],
     "prompt_number": 16
    },
    {
     "cell_type": "markdown",
     "metadata": {},
     "source": [
      "### \ucd5c\uc885 \uc218\uc815 \ubc84\uc804"
     ]
    },
    {
     "cell_type": "code",
     "collapsed": false,
     "input": [
      "def evaluate_data(data, lower=100, upper=300):\n",
      "    '''Counts data points in three bins.'''\n",
      "    smaller = 0\n",
      "    between = 0\n",
      "    bigger = 0\n",
      "    \n",
      "    for length in data:\n",
      "        if length < lower:\n",
      "            smaller = smaller + 1\n",
      "        elif lower < length < upper:\n",
      "            between = between + 1\n",
      "        elif length > upper:\n",
      "            bigger = 1\n",
      "    return smaller, between, bigger\n",
      "\n",
      "def read_data(filename):\n",
      "    '''Reads neuron lengths from a text file.'''\n",
      "    primary, secondary = [], []\n",
      "    \n",
      "    with open(filename) as f:\n",
      "        for line in f:\n",
      "            category, length = line.split('\\t')\n",
      "            length = float(length)\n",
      "            if category == 'Primary':\n",
      "                primary.append(length)\n",
      "            elif category == 'Secondary':\n",
      "                secondary.append(length)\n",
      "    return primary, secondary\n",
      "\n",
      "def write_output(filename, count_pri, count_sec):\n",
      "    '''Writes counted values to a file.'''\n",
      "    with open(filename, 'w') as output:\n",
      "        output.write('category <100 100-300 >300\\n')\n",
      "        output.write('Primary : %5i %5i %5i\\n' % count_pri)\n",
      "        output.write('Secondary: %5i %5i %5i\\n' % count_sec)\n",
      "        \n",
      "primary, secondary = read_data('12-debugging/neuron_data.txt')\n",
      "count_pri = evaluate_data(primary)\n",
      "print count_pri\n",
      "count_sec = evaluate_data(secondary)\n",
      "write_output('12-debugging/results.txt', count_pri, count_sec)\n",
      "        "
     ],
     "language": "python",
     "metadata": {},
     "outputs": [
      {
       "output_type": "stream",
       "stream": "stdout",
       "text": [
        "(2, 2, 1)\n"
       ]
      }
     ],
     "prompt_number": 13
    },
    {
     "cell_type": "code",
     "collapsed": false,
     "input": [
      "!head -n 9 12-debugging/neuron_data.txt"
     ],
     "language": "python",
     "metadata": {},
     "outputs": [
      {
       "output_type": "stream",
       "stream": "stdout",
       "text": [
        "Primary\t441.462\r",
        "\r\n",
        "Secondary\t29.031\r",
        "\r\n",
        "Secondary\t46.009\r",
        "\r\n",
        "Secondary\t40.932\r",
        "\r\n",
        "Secondary\t34.952\r",
        "\r\n",
        "Primary\t139.907\r",
        "\r\n",
        "Secondary\t82.248\r",
        "\r\n",
        "Secondary\t39.819\r",
        "\r\n",
        "Secondary\t144.143\r",
        "\r\n"
       ]
      }
     ],
     "prompt_number": 25
    },
    {
     "cell_type": "code",
     "collapsed": false,
     "input": [
      "!cat 12-debugging/results.txt"
     ],
     "language": "python",
     "metadata": {},
     "outputs": [
      {
       "output_type": "stream",
       "stream": "stdout",
       "text": [
        "category <100 100-300 >300\r\n",
        "Primary :     2     2     1\r\n",
        "Secondary:    12    11     1\r\n"
       ]
      }
     ],
     "prompt_number": 8
    },
    {
     "cell_type": "markdown",
     "metadata": {},
     "source": [
      "### 12.3.3 Handling Exceptions\n",
      "\n",
      "- [8. Errors and Exceptions \u2014 Python v2.7.8 documentation](https://docs.python.org/2/tutorial/errors.html)\n",
      "- [\uae08\uc9c0\ub41c \uc5d1\uc2dc\ub178\uc544\uc758 \ube44\uacf5\uc815 - \ud30c\uc774\uc36c \uac15\uc88c 11\ud3b8. \uc608\uc678 \ucc98\ub9ac(Exception Handling)](http://blog.eairship.kr/294)\n",
      "- \ubb38\uc81c\ub97c \uc608\uc0c1\ud560 \uc218 \uc788\ub2e4.\n",
      "- Exception \ucc98\ub9ac\ub97c \ud558\uc9c0 \uc54a\uc73c\uba74 \ub9e4\ubc88 \uc624\ub958\uac00 \ubc1c\uc0dd\ud560 \ub54c\ub9c8\ub2e4 \ub514\ubc84\uae45\uc744 \ud574\uc57c \ud55c\ub2e4.\n",
      "\n",
      "- try...except\n",
      "- try: \ub3c4\uc804\n",
      "- except: \uc608\uc678 \ucc98\ub9ac"
     ]
    },
    {
     "cell_type": "code",
     "collapsed": false,
     "input": [
      "try:\n",
      "    a = float(raw_input('Insert a number:'))\n",
      "    print a\n",
      "except ValueError:\n",
      "    print \"You haven't inserted a number. Please retry.\"\n",
      "except ArithmeticError, e:\n",
      "    print 'ArithmeticError', e\n",
      "except Exception as e:\n",
      "    print e"
     ],
     "language": "python",
     "metadata": {},
     "outputs": [
      {
       "name": "stdout",
       "output_type": "stream",
       "stream": "stdout",
       "text": [
        "Insert a number:aaa\n"
       ]
      },
      {
       "output_type": "stream",
       "stream": "stdout",
       "text": [
        "You haven't inserted a number. Please retry.\n"
       ]
      }
     ],
     "prompt_number": 15
    },
    {
     "cell_type": "code",
     "collapsed": false,
     "input": [
      "a = float(raw_input('Insert a number:'))"
     ],
     "language": "python",
     "metadata": {},
     "outputs": [
      {
       "name": "stdout",
       "output_type": "stream",
       "stream": "stdout",
       "text": [
        "Insert a number:AA\n"
       ]
      },
      {
       "ename": "ValueError",
       "evalue": "could not convert string to float: AA",
       "output_type": "pyerr",
       "traceback": [
        "\u001b[0;31m---------------------------------------------------------------------------\u001b[0m\n\u001b[0;31mValueError\u001b[0m                                Traceback (most recent call last)",
        "\u001b[0;32m<ipython-input-17-a808eed9f169>\u001b[0m in \u001b[0;36m<module>\u001b[0;34m()\u001b[0m\n\u001b[0;32m----> 1\u001b[0;31m \u001b[0ma\u001b[0m \u001b[0;34m=\u001b[0m \u001b[0mfloat\u001b[0m\u001b[0;34m(\u001b[0m\u001b[0mraw_input\u001b[0m\u001b[0;34m(\u001b[0m\u001b[0;34m'Insert a number:'\u001b[0m\u001b[0;34m)\u001b[0m\u001b[0;34m)\u001b[0m\u001b[0;34m\u001b[0m\u001b[0m\n\u001b[0m",
        "\u001b[0;31mValueError\u001b[0m: could not convert string to float: AA"
       ]
      }
     ],
     "prompt_number": 17
    },
    {
     "cell_type": "code",
     "collapsed": false,
     "input": [
      "try:\n",
      "    a = float(raw_input('Insert a number:'))\n",
      "    print a\n",
      "except ValueError as e:\n",
      "    print 'value error', e\n",
      "except Exception as e:\n",
      "    print e"
     ],
     "language": "python",
     "metadata": {},
     "outputs": [
      {
       "name": "stdout",
       "output_type": "stream",
       "stream": "stdout",
       "text": [
        "Insert a number:aaa\n"
       ]
      },
      {
       "output_type": "stream",
       "stream": "stdout",
       "text": [
        "value error could not convert string to float: aaa\n"
       ]
      }
     ],
     "prompt_number": 19
    },
    {
     "cell_type": "code",
     "collapsed": false,
     "input": [
      "try:\n",
      "    print '\uc608\uc678\ub97c \uc720\ubc1c\ud560 \uc218 \uc788\ub294 \uad6c\ubb38'\n",
      "except:\n",
      "    print '\uc608\uc678 \ucc98\ub9ac\ub97c \uc218\ud589\ud558\ub294 \uad6c\ubb38'\n",
      "else:\n",
      "    print '\uc608\uc678\uac00 \ubc1c\uc0dd\ud558\uc9c0 \uc54a\uc744 \uacbd\uc6b0 \uc218\ud589\ud560 \uad6c\ubb38'"
     ],
     "language": "python",
     "metadata": {},
     "outputs": [
      {
       "output_type": "stream",
       "stream": "stdout",
       "text": [
        "\uc608\uc678\ub97c \uc720\ubc1c\ud560 \uc218 \uc788\ub294 \uad6c\ubb38\n",
        "\uc608\uc678\uac00 \ubc1c\uc0dd\ud558\uc9c0 \uc54a\uc744 \uacbd\uc6b0 \uc218\ud589\ud560 \uad6c\ubb38\n"
       ]
      }
     ],
     "prompt_number": 21
    },
    {
     "cell_type": "code",
     "collapsed": false,
     "input": [
      "try:\n",
      "    f = open('ch10.ipynb', 'r')\n",
      "except IOError as e:\n",
      "    print e\n",
      "else:\n",
      "    print 'ok. file open success.\\n', f.read(100)"
     ],
     "language": "python",
     "metadata": {},
     "outputs": [
      {
       "output_type": "stream",
       "stream": "stdout",
       "text": [
        "ok. file open success.\n",
        "{\n",
        " \"metadata\": {\n",
        "  \"name\": \"\",\n",
        "  \"signature\": \"sha256:20a3a0e2c55488f434134048b0d78a86c0fe660d588f1b\n"
       ]
      }
     ],
     "prompt_number": 22
    },
    {
     "cell_type": "code",
     "collapsed": false,
     "input": [
      "try:\n",
      "    f = open('ch.ipynb', 'r')\n",
      "except IOError as e:\n",
      "    print e\n",
      "else:\n",
      "    print 'ok. file open success.\\n', f.read(100)"
     ],
     "language": "python",
     "metadata": {},
     "outputs": [
      {
       "output_type": "stream",
       "stream": "stdout",
       "text": [
        "[Errno 2] No such file or directory: 'ch.ipynb'\n"
       ]
      }
     ],
     "prompt_number": 26
    },
    {
     "cell_type": "code",
     "collapsed": false,
     "input": [
      "try:\n",
      "    filename = raw_input('Insert a filename:')\n",
      "    in_file = open(filename)\n",
      "except IOError:\n",
      "    print 'The filename %s has not been found.' % filename\n",
      "else:\n",
      "    for line in in_file:\n",
      "        print line\n",
      "    in_file.close()"
     ],
     "language": "python",
     "metadata": {},
     "outputs": [
      {
       "name": "stdout",
       "output_type": "stream",
       "stream": "stdout",
       "text": [
        "Insert a filename:12-debugging/results.txt\n"
       ]
      },
      {
       "output_type": "stream",
       "stream": "stdout",
       "text": [
        "category <100 100-300 >300\n",
        "\n",
        "Primary :     2     2     1\n",
        "\n",
        "Secondary:    12    11     1\n",
        "\n"
       ]
      }
     ],
     "prompt_number": 33
    },
    {
     "cell_type": "markdown",
     "metadata": {},
     "source": [
      "### 10.3.4 When There Is No Error Message\n",
      "\n",
      "#### \uc15c\ub85d\ud648\uc988\ub294 \uc5f0\uc5ed\uc801\uc778 \uc811\uadfc \ubc29\ubc95\uc744 \uc0ac\uc6a9\n",
      "\n",
      "1. collecting facts\n",
      "2. excludes possibilities\n",
      "3. draw logical conclusion\n",
      "\n",
      "#### How to investigate the program in programming\n",
      "\n",
      "- function A, function C: ok\n",
      "- problem: function B\n",
      "\n",
      "\n",
      "1. comparing input and output of your program\n",
      "2. adding print statements\n",
      "3. using the Python debugger.\n",
      "\n",
      "#### Comparing Input and Output\n",
      "\n",
      "\n",
      "\n",
      "----\n",
      "### \ucc45 \uc798 \ub9cc\ub4e4\uc5c8\ub124. \uad6c\uc131\uc774 \uc88b\ub2e4.\n",
      "\n",
      "- \uc5b4\ub5bb\uac8c \ud504\ub85c\uadf8\ub7a8\uc744 \ub514\ubc84\uae45\ud558\ub294\uc9c0?\n",
      "- \uc5b4\ub5bb\uac8c \uc88b\uc740 \ud504\ub85c\uadf8\ub7a8\uc744 \ub9cc\ub4dc\ub294\uc9c0?\n",
      "- \uc774\ub7f0\uac78 \uc124\uba85\ud574\uc8fc\ub294 \ucc45\ub4e4\uc774 \ub9ce\uc9c0 \uc54a\uc740\ub370.. \ucc38 \uc798 \uc124\uba85\ud574 \ub193\uc74c\n",
      "----"
     ]
    },
    {
     "cell_type": "code",
     "collapsed": false,
     "input": [
      "!cat 12-debugging/neuron_data.txt"
     ],
     "language": "python",
     "metadata": {},
     "outputs": [
      {
       "output_type": "stream",
       "stream": "stdout",
       "text": [
        "Primary\t441.462\r",
        "\r\n",
        "Secondary\t29.031\r",
        "\r\n",
        "Secondary\t46.009\r",
        "\r\n",
        "Secondary\t40.932\r",
        "\r\n",
        "Secondary\t34.952\r",
        "\r\n",
        "Primary\t139.907\r",
        "\r\n",
        "Secondary\t82.248\r",
        "\r\n",
        "Secondary\t39.819\r",
        "\r\n",
        "Secondary\t144.143\r",
        "\r\n",
        "Primary\t16.385\r",
        "\r\n",
        "Secondary\t74.495\r",
        "\r\n",
        "Secondary\t93.231\r",
        "\r\n",
        "Primary\t355.702\r",
        "\r\n",
        "Primary\t53.566\r",
        "\r\n",
        "Secondary\t202.075\r",
        "\r\n",
        "Secondary\t142.301\r",
        "\r\n",
        "Primary\t327.777\r",
        "\r\n",
        "Secondary\t99.782\r",
        "\r\n",
        "Secondary\t104.875\r",
        "\r\n",
        "Secondary\t118.54\r",
        "\r\n",
        "Secondary\t63.477\r",
        "\r\n",
        "Secondary\t76.063\r",
        "\r\n",
        "Secondary\t253.321\r",
        "\r\n",
        "Primary\t405.622\r",
        "\r\n",
        "Secondary\t125.41\r",
        "\r\n",
        "Secondary\t58.876\r",
        "\r\n",
        "Secondary\t226.57\r",
        "\r\n",
        "Secondary\t362.695\r",
        "\r\n",
        "Primary\t256.088\r",
        "\r\n",
        "Secondary\t149.753\r",
        "\r\n",
        "Secondary\t140.738\r",
        "\r\n",
        "Secondary\t214.723\r",
        "\r\n"
       ]
      }
     ],
     "prompt_number": 34
    },
    {
     "cell_type": "code",
     "collapsed": false,
     "input": [
      "!cat 12-debugging/results.txt"
     ],
     "language": "python",
     "metadata": {},
     "outputs": [
      {
       "output_type": "stream",
       "stream": "stdout",
       "text": [
        "category <100 100-300 >300\r\n",
        "Primary :     2     2     1\r\n",
        "Secondary:    12    11     1\r\n"
       ]
      }
     ],
     "prompt_number": 35
    },
    {
     "cell_type": "code",
     "collapsed": false,
     "input": [
      "primary, secondary = read_data('12-debugging/neuron_data.txt')"
     ],
     "language": "python",
     "metadata": {},
     "outputs": [],
     "prompt_number": 44
    },
    {
     "cell_type": "code",
     "collapsed": false,
     "input": [
      "print primary"
     ],
     "language": "python",
     "metadata": {},
     "outputs": [
      {
       "output_type": "stream",
       "stream": "stdout",
       "text": [
        "[441.462, 139.907, 16.385, 355.702, 53.566, 327.777, 405.622, 256.088]\n"
       ]
      }
     ],
     "prompt_number": 46
    },
    {
     "cell_type": "code",
     "collapsed": false,
     "input": [
      "print secondary"
     ],
     "language": "python",
     "metadata": {},
     "outputs": [
      {
       "output_type": "stream",
       "stream": "stdout",
       "text": [
        "[29.031, 46.009, 40.932, 34.952, 82.248, 39.819, 144.143, 74.495, 93.231, 202.075, 142.301, 99.782, 104.875, 118.54, 63.477, 76.063, 253.321, 125.41, 58.876, 226.57, 362.695, 149.753, 140.738, 214.723]\n"
       ]
      }
     ],
     "prompt_number": 45
    },
    {
     "cell_type": "code",
     "collapsed": false,
     "input": [
      "count_pri = evaluate_data(primary)"
     ],
     "language": "python",
     "metadata": {},
     "outputs": [],
     "prompt_number": 47
    },
    {
     "cell_type": "code",
     "collapsed": false,
     "input": [
      "count_sec = evaluate_data(secondary)"
     ],
     "language": "python",
     "metadata": {},
     "outputs": [],
     "prompt_number": 48
    },
    {
     "cell_type": "code",
     "collapsed": false,
     "input": [
      "count_pri"
     ],
     "language": "python",
     "metadata": {},
     "outputs": [
      {
       "metadata": {},
       "output_type": "pyout",
       "prompt_number": 49,
       "text": [
        "(2, 2, 1)"
       ]
      }
     ],
     "prompt_number": 49
    },
    {
     "cell_type": "code",
     "collapsed": false,
     "input": [
      "count_sec"
     ],
     "language": "python",
     "metadata": {},
     "outputs": [
      {
       "metadata": {},
       "output_type": "pyout",
       "prompt_number": 50,
       "text": [
        "(12, 11, 1)"
       ]
      }
     ],
     "prompt_number": 50
    },
    {
     "cell_type": "code",
     "collapsed": false,
     "input": [
      "print count_sec"
     ],
     "language": "python",
     "metadata": {},
     "outputs": [
      {
       "output_type": "stream",
       "stream": "stdout",
       "text": [
        "(12, 11, 1)\n"
       ]
      }
     ],
     "prompt_number": 54
    },
    {
     "cell_type": "code",
     "collapsed": false,
     "input": [
      "write_output('12-debugging/results.txt', count_pri, count_sec)"
     ],
     "language": "python",
     "metadata": {},
     "outputs": [],
     "prompt_number": 52
    },
    {
     "cell_type": "code",
     "collapsed": false,
     "input": [
      "!cat 12-debugging/results.txt"
     ],
     "language": "python",
     "metadata": {},
     "outputs": [
      {
       "output_type": "stream",
       "stream": "stdout",
       "text": [
        "category <100 100-300 >300\r\n",
        "Primary :     2     2     1\r\n",
        "Secondary:    12    11     1\r\n"
       ]
      }
     ],
     "prompt_number": 53
    },
    {
     "cell_type": "markdown",
     "metadata": {},
     "source": [
      "#### Using the Python Debugger\n",
      "\n",
      "- [IPython \uc18c\uac1c - pdb \ubd80\ubd84](http://nbviewer.ipython.org/urls/raw.github.com/re4lfl0w/ipython/master/books/python_data_analysis/ch03_Introduction%20IPython.ipynb)\n",
      "- \uac1c\uc778\uc801\uc73c\ub85c pdb \ubcf4\ub2e4\ub294 PyCharm\uc758 debug \uae30\ub2a5\uc744 \uc0ac\uc6a9\ud55c\ub2e4.\n",
      "- \uc65c\ub0d0\ud558\uba74 \uc77c\ub2e8 GUI\ub85c \ub418\uc5b4 \uc788\uc5b4\uc11c \uba85\ub839\uc5b4\uc5d0 \ub300\ud55c \ubd80\ub2f4\uac10\uc774 \uc5c6\uc73c\uba70 \ubcfc \uc218 \uc788\ub294 \uc815\ubcf4\uac00 \ud6e8\uc52c \ub9ce\ub2e4. "
     ]
    },
    {
     "cell_type": "markdown",
     "metadata": {},
     "source": [
      "## 12.4 EXAMPLES\n",
      "\n",
      "### Example 12.1 ImportError\n",
      "\n",
      "- Check the spelling of the module name.\n",
      "- verify the directory you started the program from\n",
      "- \uc6d0\ud558\ub294 \uacf3\uc5d0 \ubaa8\ub4c8\uc774 \uc874\uc7ac\ud558\ub0d0?"
     ]
    },
    {
     "cell_type": "code",
     "collapsed": false,
     "input": [
      "import sys\n",
      "from pprint import pprint\n",
      "pprint(sys.path)"
     ],
     "language": "python",
     "metadata": {},
     "outputs": [
      {
       "output_type": "stream",
       "stream": "stdout",
       "text": [
        "['',\n",
        " '/Applications/Canopy.app/appdata/canopy-1.3.0.1715.macosx-x86_64/Canopy.app/Contents/lib/python27.zip',\n",
        " '/Applications/Canopy.app/appdata/canopy-1.3.0.1715.macosx-x86_64/Canopy.app/Contents/lib/python2.7',\n",
        " '/Applications/Canopy.app/appdata/canopy-1.3.0.1715.macosx-x86_64/Canopy.app/Contents/lib/python2.7/plat-darwin',\n",
        " '/Applications/Canopy.app/appdata/canopy-1.3.0.1715.macosx-x86_64/Canopy.app/Contents/lib/python2.7/plat-mac',\n",
        " '/Applications/Canopy.app/appdata/canopy-1.3.0.1715.macosx-x86_64/Canopy.app/Contents/lib/python2.7/plat-mac/lib-scriptpackages',\n",
        " '/Applications/Canopy.app/appdata/canopy-1.3.0.1715.macosx-x86_64/Canopy.app/Contents/lib/python2.7/lib-tk',\n",
        " '/Applications/Canopy.app/appdata/canopy-1.3.0.1715.macosx-x86_64/Canopy.app/Contents/lib/python2.7/lib-old',\n",
        " '/Applications/Canopy.app/appdata/canopy-1.3.0.1715.macosx-x86_64/Canopy.app/Contents/lib/python2.7/lib-dynload',\n",
        " '/Users/re4lfl0w/Library/Enthought/Canopy_64bit/User/lib/python2.7/site-packages',\n",
        " '/Users/re4lfl0w/Library/Enthought/Canopy_64bit/User/lib/python2.7/site-packages/PIL',\n",
        " '/Applications/Canopy.app/appdata/canopy-1.3.0.1715.macosx-x86_64/Canopy.app/Contents/lib/python2.7/site-packages',\n",
        " '/Users/re4lfl0w/Library/Enthought/Canopy_64bit/User/lib/python2.7/site-packages/IPython/extensions',\n",
        " '/Users/re4lfl0w/.ipython',\n",
        " '/Users/re4lfl0w/Documents/ipython_private/scripts/']\n"
       ]
      }
     ],
     "prompt_number": 2
    },
    {
     "cell_type": "markdown",
     "metadata": {},
     "source": [
      "- \uc800 \ub9ac\uc2a4\ud2b8 \uc911\uc5d0 \ubaa8\ub4c8\uc774 \uc874\uc7ac\ud558\ub294 \uc704\uce58\uac00 \uc5c6\ub2e4\uba74 PYTHONPATH \ud658\uacbd\ubcc0\uc218\uc5d0 \ucd94\uac00\ud574 \uc918\uc57c \ud55c\ub2e4. \uc544\ub2c8\uba74 sys.path\uc5d0 \ucd94\uac00\ud574\uc8fc\ub358\uc9c0\n",
      "- Check whether you can import the module itself in the first place: import X.\n",
      "- Then try whether you can import variables and functions from within from X import Y.\n",
      "- subdirectory\uc5d0\uc11c import \ud558\ub824\uace0 \ud558\ub294\uac00? \uadf8 \ud3f4\ub354 \ubc11\uc5d0\ub294 \ubc18\ub4dc\uc2dc \\_\\_init\\_\\_.py \uac00 \uc874\uc7ac\ud574\uc57c subdirectory\ub85c \uc778\uc2dd\ud55c\ub2e4.\n",
      "- \uc911\ubcf5\ub41c \ubaa8\ub4c8 \uc774\ub984\uc744 \ud655\uc778\ud558\ub77c.\n",
      "  - import string\uc744 \ud588\ub294\ub370 \ub0b4\uac00 ipython\uc744 \uc2e4\ud589\uc2dc\ud0a8 \uc704\uce58\uc5d0 string.py \uac00 \uc874\uc7ac\ud55c\ub2e4\uba74 \ub0b4\uac00 \ub9cc\ub4e0 string.py\uac00 \uc2e4\ud589\ub41c\ub2e4. \ub0b4\uac00 \uc6d0\ub798 \uc6d0\ud588\ub358 \ubaa9\uc801\uc740 Standard Library\uc758 string\uc744 import \ud558\uace0 \uc2f6\uc5c8\ub358 \uac83\uc774\ub2e4. \uae30\ubcf8\uc740 sys.path\uc5d0 \uc788\ub294 \uac83\uc774 \uc2e4\ud589\ub418\uc9c0\ub9cc \uc790\uc2e0\uc758 \ud604\uc7ac \ub514\ub809\ud1a0\ub9ac\uc5d0 \uc788\ub294 \uac83\uc774 \ub098\uc911\uc5d0 \uc624\ubc84\ub77c\uc774\ub529\ub418\uc11c \uba3c\uc800 \uc800\uc7a5\ub418\uc5b4 \uc788\ub358 Standard Library\uc778 string\uc774 \uc0ad\uc81c\ub418\uace0 \ud604\uc7ac \ub514\ub809\ud1a0\ub9ac\uc5d0 \ub0b4\uac00 \ub9cc\ub4e0 string\uc774 \uc801\uc6a9\uc774 \ub418\uae30 \ub54c\ubb38\uc774\ub2e4.\n",
      "  - import \\*\ub294 \ube44\ucd94. \uc660\ub9cc\ud558\uba74 \ubaa8\ub450 \uba85\ud655\ud788 \ud568\uc218\uc774\ub984\uae4c\uc9c0 \uc368\uc8fc\uc790. \ub098\uc911\uc5d0 \uc5b4\ub514\uc5d0\uc11c \ubb38\uc81c\uac00 \ubc1c\uc0dd\ud588\ub294\uc9c0 \ucc3e\ub2e4\uac00 \uc2a4\ud2b8\ub808\uc2a4 \ubc1b\ub294\ub2e4.\n",
      "  \n",
      "### Example 12.2 ValueError\n",
      "\n",
      "- \uc5f0\uc0b0\uc744 \ud558\uae30 \uc704\ud55c 2\ubcc0\uc218 \uc911\uc5d0\uc11c \uc591\ub9bd\ud560 \uc218 \uc5c6\uc744 \uacbd\uc6b0 \ubc1c\uc0dd\n",
      "- integer + string \uac19\uc740 \uacbd\uc6b0\n",
      "- convert\ub97c \ud574\uc918\uc57c \ud55c\ub2e4. int()\ub098 float()\uc73c\ub85c."
     ]
    },
    {
     "cell_type": "code",
     "collapsed": false,
     "input": [
      "a = '1'\n",
      "b = '2'\n",
      "print a, b\n",
      "result = a + b"
     ],
     "language": "python",
     "metadata": {},
     "outputs": [
      {
       "output_type": "stream",
       "stream": "stdout",
       "text": [
        "1 2\n"
       ]
      }
     ],
     "prompt_number": 3
    },
    {
     "cell_type": "code",
     "collapsed": false,
     "input": [
      "print type(a), type(b)\n",
      "result = a + b"
     ],
     "language": "python",
     "metadata": {},
     "outputs": [
      {
       "output_type": "stream",
       "stream": "stdout",
       "text": [
        "<type 'str'> <type 'str'>\n"
       ]
      }
     ],
     "prompt_number": 5
    },
    {
     "cell_type": "code",
     "collapsed": false,
     "input": [
      "type([1,2,3])"
     ],
     "language": "python",
     "metadata": {},
     "outputs": [
      {
       "metadata": {},
       "output_type": "pyout",
       "prompt_number": 6,
       "text": [
        "list"
       ]
      }
     ],
     "prompt_number": 6
    },
    {
     "cell_type": "code",
     "collapsed": false,
     "input": [
      "type(4)"
     ],
     "language": "python",
     "metadata": {},
     "outputs": [
      {
       "metadata": {},
       "output_type": "pyout",
       "prompt_number": 7,
       "text": [
        "int"
       ]
      }
     ],
     "prompt_number": 7
    },
    {
     "cell_type": "markdown",
     "metadata": {},
     "source": [
      "### Example 12.3 IndexError\n",
      "\n",
      "- list\ub098 tuple, dictionary\uc5d0\uc11c \uc5d8\ub9ac\uba3c\ud2b8\ub97c \ucc3e\uc744 \uc218 \uc5c6\uc744 \ub54c\n",
      "- print\ub85c \uc804\uccb4 \ub370\uc774\ud130\ub97c \ud655\uc778\ud574\ub77c"
     ]
    },
    {
     "cell_type": "code",
     "collapsed": false,
     "input": [
      "data = [1,2,3]"
     ],
     "language": "python",
     "metadata": {},
     "outputs": [],
     "prompt_number": 23
    },
    {
     "cell_type": "code",
     "collapsed": false,
     "input": [
      "print data[3]"
     ],
     "language": "python",
     "metadata": {},
     "outputs": [
      {
       "ename": "IndexError",
       "evalue": "list index out of range",
       "output_type": "pyerr",
       "traceback": [
        "\u001b[0;31m---------------------------------------------------------------------------\u001b[0m\n\u001b[0;31mIndexError\u001b[0m                                Traceback (most recent call last)",
        "\u001b[0;32m<ipython-input-24-02a63bb515d5>\u001b[0m in \u001b[0;36m<module>\u001b[0;34m()\u001b[0m\n\u001b[0;32m----> 1\u001b[0;31m \u001b[0;32mprint\u001b[0m \u001b[0mdata\u001b[0m\u001b[0;34m[\u001b[0m\u001b[0;36m3\u001b[0m\u001b[0;34m]\u001b[0m\u001b[0;34m\u001b[0m\u001b[0m\n\u001b[0m",
        "\u001b[0;31mIndexError\u001b[0m: list index out of range"
       ]
      }
     ],
     "prompt_number": 24
    },
    {
     "cell_type": "markdown",
     "metadata": {},
     "source": [
      "- dictionary\uc778 \uacbd\uc6b0\ub294 keys()\ub97c \uc368\uc918\ub77c"
     ]
    },
    {
     "cell_type": "code",
     "collapsed": false,
     "input": [
      "print data"
     ],
     "language": "python",
     "metadata": {},
     "outputs": [
      {
       "output_type": "stream",
       "stream": "stdout",
       "text": [
        "[1, 2, 3]\n"
       ]
      }
     ],
     "prompt_number": 13
    },
    {
     "cell_type": "code",
     "collapsed": false,
     "input": [
      "d = {'name':'Jo',\n",
      "     'Age':20,\n",
      "     'Sex':'M'}"
     ],
     "language": "python",
     "metadata": {},
     "outputs": [],
     "prompt_number": 20
    },
    {
     "cell_type": "code",
     "collapsed": false,
     "input": [
      "print d"
     ],
     "language": "python",
     "metadata": {},
     "outputs": [
      {
       "output_type": "stream",
       "stream": "stdout",
       "text": [
        "{'Age': 20, 'name': 'Jo', 'Sex': 'M'}\n"
       ]
      }
     ],
     "prompt_number": 21
    },
    {
     "cell_type": "code",
     "collapsed": false,
     "input": [
      "print d.keys()"
     ],
     "language": "python",
     "metadata": {},
     "outputs": [
      {
       "output_type": "stream",
       "stream": "stdout",
       "text": [
        "['Age', 'name', 'Sex']\n"
       ]
      }
     ],
     "prompt_number": 22
    },
    {
     "cell_type": "markdown",
     "metadata": {},
     "source": [
      "### Example 12.4 Writing Readable Code\n",
      "\n",
      "- \ubcc0\uc218\uba85\uc774 \uae38\uc5b4\uc9c0\ub354\ub77c\ub3c4 \uc27d\uac8c \uc77d\uc744 \uc218 \uc788\uac8c \ub9cc\ub4e4\uc5b4\uc57c \ub098\uc911\uc5d0 \ucf54\ub4dc\ub97c \uc218\uc815\ud560 \ub54c \ud3b8\ud558\ub2e4.\n",
      "- Good code modularization: chapter10, 11\n",
      "- Good organization of a programming project: chapter15\n",
      "\n",
      "\n",
      "- Use descriptive names for variables and functions\n",
      "\n",
      "```python\n",
      "for line in sequence_file:\n",
      "\n",
      "for l in f:\n",
      "```\n",
      "\n",
      "- \ubcc0\uc218\ub294 \uc5b4\ub5a4 \ub370\uc774\ud130\uc778\uc9c0 \uba85\ud655\ud788 \uc124\uba85\ud560 \uc218 \uc788\uc5b4\uc57c \uc88b\ub2e4. text, seq_length\uac00 number \ubcf4\ub2e4 \uc88b\ub2e4.\n",
      "- \ud568\uc218\uba85\uc740 \ub3d9\uc0ac\ub85c: read_sequence_file\n",
      "- **Write comments**: \uc5b4\ub5a4 \ud568\uc218\uc758 \uc5ed\ud560\uc778\uc9c0 \uc8fc\uc11d\uc744 \ub2ec\uc544\ub77c. \uaf2d \ud544\uc694\ud55c \uacf3\uc5d0\ub9cc \ub2ec\uc790.\n",
      "- **Avoid the import * statement**: \n",
      "```python\n",
      "from math import *\n",
      "\n",
      "from math import pi, sin, cos\n",
      "```\n",
      "\n",
      "- \ubc11\uc758 \ud45c\ud604\uc774 \ud6e8\uc52c \uc88b\ub2e4. \uba85\ud655\ud788 \uc368\uc918\uc57c \ud55c\ub2e4. import \\*\ub97c \uc4f0\uac8c \ub418\uba74 \ub098\uc911\uc5d0 \uc758\ub3c4\uce58\uc54a\uc740 \ud568\uc815\uc5d0 \uac78\ub9ac\uac8c \ub41c\ub2e4.\n",
      "- PEP8 \ub9de\ucdb0\uc11c \uc368\ub77c(Chapter15)"
     ]
    },
    {
     "cell_type": "markdown",
     "metadata": {},
     "source": [
      "## 12.5 Testing yourself\n",
      "\n",
      "### Exercise 12.1 Debugging Python Session in Section 12.2.2\n",
      "\n",
      "### Exercise 12.2 Use of try...except statements\n",
      "\n",
      "### Exercise 12.3 Exception Handling in dealing with files and numbers\n",
      "\n",
      "### Exercise 12.4 Nested try...except statements\n",
      "\n",
      "### Exception Handling in dealing with standard input and numbers"
     ]
    },
    {
     "cell_type": "code",
     "collapsed": false,
     "input": [],
     "language": "python",
     "metadata": {},
     "outputs": []
    }
   ],
   "metadata": {}
  }
 ]
}