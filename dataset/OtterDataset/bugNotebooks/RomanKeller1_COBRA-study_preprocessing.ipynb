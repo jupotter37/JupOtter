{
 "cells": [
  {
   "cell_type": "markdown",
   "id": "656c01ff-205c-4773-92e9-7b438dd331fb",
   "metadata": {},
   "source": [
    "# Bare minimum "
   ]
  },
  {
   "cell_type": "markdown",
   "id": "8806771c-48c2-478c-b6d8-11576d62f2e8",
   "metadata": {},
   "source": [
    "## imports"
   ]
  },
  {
   "cell_type": "code",
   "execution_count": 1,
   "id": "2079c98a-9536-4a1e-838e-6e83a125cc11",
   "metadata": {},
   "outputs": [],
   "source": [
    "import pandas as pd\n",
    "from tqdm import tqdm\n",
    "import random\n",
    "from matplotlib import pyplot as plt \n",
    "import numpy as np\n",
    "from datetime import timedelta\n",
    "import squarify\n",
    "import openpyxl \n",
    "import seaborn as sns\n",
    "from sklearn.experimental import enable_iterative_imputer\n",
    "from sklearn.impute import IterativeImputer\n",
    "import pandas as pd\n",
    "\n",
    "\n",
    "# Add this line to remove column width limit"
   ]
  },
  {
   "cell_type": "markdown",
   "id": "5c804a00-f285-4129-bbe6-274bfb9aa1e3",
   "metadata": {
    "tags": []
   },
   "source": [
    "## Data Ingestion"
   ]
  },
  {
   "cell_type": "code",
   "execution_count": 2,
   "id": "29e06a28-755d-43d4-a146-c755b911c355",
   "metadata": {
    "tags": []
   },
   "outputs": [],
   "source": [
    "df_ema = pd.read_parquet('../data_ema/csv_processed.parquet')\n",
    "df_questionnaires = pd.read_excel('../data_questionnaire/2023006_COBRA_20230811.xlsx')\n",
    "df_id_mapping = pd.read_excel('../data_ema/COBRA ID Mapping for Roman.xlsx')\n",
    "pd.set_option('display.max_columns', None)"
   ]
  },
  {
   "cell_type": "markdown",
   "id": "859197f4-0d45-4120-a84e-c35898cf43a1",
   "metadata": {},
   "source": [
    "#### Joining the two dataframes"
   ]
  },
  {
   "cell_type": "code",
   "execution_count": 3,
   "id": "e1225491-5b9f-4dfe-ae30-f0064c6e6637",
   "metadata": {
    "tags": []
   },
   "outputs": [],
   "source": [
    "df_ema = df_ema.merge(df_id_mapping[['ID - Ethica EMA', 'Subject_ID_Roman']], \n",
    "                    left_on='ID - Ethica EMA', \n",
    "                    right_on='ID - Ethica EMA', \n",
    "                    how='left')"
   ]
  },
  {
   "cell_type": "code",
   "execution_count": null,
   "id": "e7e4d10d-24d6-435b-a482-55a2a6a36ca4",
   "metadata": {
    "tags": []
   },
   "outputs": [],
   "source": [
    "df_questionnaires.head()"
   ]
  },
  {
   "cell_type": "code",
   "execution_count": null,
   "id": "a53a60ad-169d-44bb-abd6-c1a0a510998d",
   "metadata": {
    "tags": []
   },
   "outputs": [],
   "source": [
    "questionnaires_unique = df_questionnaires['SubjectID'].unique()\n",
    "len(questionnaires_unique)"
   ]
  },
  {
   "cell_type": "code",
   "execution_count": null,
   "id": "7c569202-6d09-4324-8e92-672db1455a4f",
   "metadata": {
    "tags": []
   },
   "outputs": [],
   "source": [
    "ema_unique = df_ema['Subject_ID_Roman'].unique()\n",
    "len(ema_unique)"
   ]
  },
  {
   "cell_type": "code",
   "execution_count": null,
   "id": "324d21ba-985b-4db0-9ebf-fbfa41ec4e0b",
   "metadata": {
    "tags": []
   },
   "outputs": [],
   "source": [
    "# Find values unique to each dataframe\n",
    "unique_to_questionnaires = set(questionnaires_unique) - set(ema_unique)\n",
    "unique_to_ema = set(ema_unique) - set(questionnaires_unique)\n",
    "\n",
    "# Print values unique to each dataframe\n",
    "print(\"Values unique to df_questionnaires:\")\n",
    "print(unique_to_questionnaires)\n",
    "\n",
    "print(\"\\nValues unique to df_ema:\")\n",
    "print(unique_to_ema)"
   ]
  },
  {
   "cell_type": "code",
   "execution_count": 8,
   "id": "f8afde5b-c2fc-4757-8dd1-b9e3cde9b112",
   "metadata": {
    "tags": []
   },
   "outputs": [],
   "source": [
    "# MOve the subject ID to the left side of the dataframe\n",
    "subject_id_roman = df_ema['Subject_ID_Roman']\n",
    "\n",
    "# Drop the \"Subject_ID_Roman\" column from the original DataFrame\n",
    "df_ema = df_ema.drop('Subject_ID_Roman', axis=1)\n",
    "\n",
    "# Insert the \"Subject_ID_Roman\" column at the beginning (left) of the DataFrame\n",
    "df_ema.insert(0, 'Subject_ID_Roman', subject_id_roman)\n"
   ]
  },
  {
   "cell_type": "markdown",
   "id": "e8993cec-54a9-4cea-a519-0393007df712",
   "metadata": {},
   "source": [
    "##### Merge with the questionnaires dataframe"
   ]
  },
  {
   "cell_type": "code",
   "execution_count": 9,
   "id": "2482e631-7af8-49d6-98e7-74af6e0b1d1a",
   "metadata": {
    "tags": []
   },
   "outputs": [],
   "source": [
    "df_ema = df_ema.merge(df_id_mapping[['ID - Ethica EMA', 'Subject_ID_Roman']], \n",
    "                    left_on='ID - Ethica EMA', \n",
    "                    right_on='ID - Ethica EMA', \n",
    "                    how='left')"
   ]
  },
  {
   "cell_type": "markdown",
   "id": "efde84c3-1c05-4088-88f5-49a3404a77c5",
   "metadata": {},
   "source": [
    "#### Create initial index to join together with the independent variables"
   ]
  },
  {
   "cell_type": "code",
   "execution_count": 10,
   "id": "bfbd5aac-f6d5-4a37-b747-295d254c04de",
   "metadata": {},
   "outputs": [],
   "source": [
    "df_ema['initial_index_targets'] = range(len(df_ema))"
   ]
  },
  {
   "cell_type": "markdown",
   "id": "09a4d739-e5d9-4275-8901-9974b1db1e20",
   "metadata": {
    "tags": []
   },
   "source": [
    "## Filter out a single participant (ignore this section if you want to work with all participants)"
   ]
  },
  {
   "cell_type": "code",
   "execution_count": 11,
   "id": "2c26ae2a-6620-42f1-a4d5-98015817aafe",
   "metadata": {
    "tags": []
   },
   "outputs": [],
   "source": [
    "# unique_values = df_ema['Subject_ID_Roman_x'].unique()\n",
    "\n",
    "# # Randomly choose one value from the unique values\n",
    "# chosen_value = random.choice(unique_values)\n",
    "\n",
    "# # Filter out all rows with the chosen value\n",
    "# single_participant = df_ema[df_ema['Subject_ID_Roman_x'] == chosen_value]\n",
    "\n",
    "# # The filtered_df will now contain all rows with a different value in the \"Subject_ID_Roman_x\" column.\n",
    "# single_participant.head(20)\n",
    "\n",
    "# df_ema=single_participant.copy()"
   ]
  },
  {
   "cell_type": "markdown",
   "id": "590296be-a5c2-4c20-a2ae-e601a3fb8e04",
   "metadata": {},
   "source": [
    "#### Add new outcome features to the dataframe"
   ]
  },
  {
   "cell_type": "markdown",
   "id": "1698b5e5-320e-42b7-a82d-6262d8eee62c",
   "metadata": {
    "tags": []
   },
   "source": [
    "Enable the cell below as well to run everything"
   ]
  },
  {
   "cell_type": "code",
   "execution_count": 12,
   "id": "b14a2273-a54a-4e43-8d11-8320611c781a",
   "metadata": {
    "tags": []
   },
   "outputs": [],
   "source": [
    "# Split the string to remove the time zone\n",
    "df_ema['Scheduled Time'] = df_ema['Scheduled Time'].str.split().str[:-1].str.join(' ')\n",
    "\n",
    "# Convert the column to datetime\n",
    "df_ema['Scheduled Time'] = pd.to_datetime(df_ema['Scheduled Time'], format=\"%Y-%m-%d %H:%M:%S\")\n",
    "\n",
    "\n",
    "# Split the string to remove the time zone\n",
    "df_ema['Issued Time'] = df_ema['Issued Time'].str.split().str[:-1].str.join(' ')\n",
    "\n",
    "# Convert the column to datetime\n",
    "df_ema['Issued Time'] = pd.to_datetime(df_ema['Issued Time'], format=\"%Y-%m-%d %H:%M:%S\")\n",
    "\n",
    "\n",
    "# Split the string to remove the time zone\n",
    "df_ema['Response Time'] = df_ema['Response Time'].str.split().str[:-1].str.join(' ')\n",
    "\n",
    "# Convert the column to datetime\n",
    "df_ema['Response Time'] = pd.to_datetime(df_ema['Response Time'], format=\"%Y-%m-%d %H:%M:%S\")"
   ]
  },
  {
   "cell_type": "code",
   "execution_count": null,
   "id": "bacc1051-5c6d-4b06-9b3b-0987960d0940",
   "metadata": {},
   "outputs": [],
   "source": [
    "df_ema.head()"
   ]
  },
  {
   "cell_type": "markdown",
   "id": "486958fc-43a4-450d-94e7-721b8ea94837",
   "metadata": {},
   "source": [
    "#### Correct two time stamp errors:"
   ]
  },
  {
   "cell_type": "markdown",
   "id": "f74e919c-45ce-440f-af3c-30202af5780d",
   "metadata": {},
   "source": [
    "Thoss two rows above have minor errors: \n",
    "1) In the row with index 2902, the date in the response time column is the 2022-04-29 21:37:05instead of the 2022-04-28 21:37:05. Therefore, we recalculate the response time here to account for this.Recalculated, this should be 2028 seconds.\n",
    "2) In the row with the index 27418, the response delay should actually be 373 seconds, therefore the stamp should be 15:55:28\n",
    "\n",
    "--> Therefore I replace thos values in the response time column"
   ]
  },
  {
   "cell_type": "code",
   "execution_count": null,
   "id": "9637c368-8e9b-4af2-9a91-274e470bd413",
   "metadata": {
    "tags": []
   },
   "outputs": [],
   "source": [
    "selected_rows = df_ema.loc[[2902, 27418]]\n",
    "selected_rows.head()\n"
   ]
  },
  {
   "cell_type": "code",
   "execution_count": 15,
   "id": "b1c4d6fe-982d-4846-991c-1e0ee435452e",
   "metadata": {
    "tags": []
   },
   "outputs": [],
   "source": [
    "df_ema.at[2902, 'Response Time'] = '2022-04-20 21:37:05'  \n",
    "df_ema.at[2902, 'Duration (seconds) from scheduled to completion time'] = 2628  # Update Duration (seconds)\n",
    "df_ema.at[27418, 'Issued Time'] = '2022-09-02 15:55:28'  \n"
   ]
  },
  {
   "cell_type": "markdown",
   "id": "d6c10733-de62-4b1a-b4a0-864680316a12",
   "metadata": {},
   "source": [
    "#### Back to before"
   ]
  },
  {
   "cell_type": "code",
   "execution_count": 16,
   "id": "3cb2747c-89f7-40ad-8edc-cc748f57b3c6",
   "metadata": {
    "tags": []
   },
   "outputs": [],
   "source": [
    "df_ema['Issued_minus_scheduled_time'] = (df_ema['Issued Time'] - df_ema['Scheduled Time']).dt.total_seconds()\n",
    "filtered_df = df_ema[df_ema['Issued_minus_scheduled_time'] > 1.0]\n"
   ]
  },
  {
   "cell_type": "code",
   "execution_count": null,
   "id": "2ec197ca-9283-41c7-9fb5-bdb58731b8be",
   "metadata": {},
   "outputs": [],
   "source": [
    "df_ema.head(220).tail(10)"
   ]
  },
  {
   "cell_type": "markdown",
   "id": "0b6855be-7e6a-4764-9c93-a4eef9e7dddb",
   "metadata": {},
   "source": [
    "Enable cell below to run everything"
   ]
  },
  {
   "cell_type": "code",
   "execution_count": null,
   "id": "6254f312-4ba6-45ae-a6e9-1506503c5537",
   "metadata": {
    "tags": []
   },
   "outputs": [],
   "source": [
    "non_zero_count = (df_ema['Issued_minus_scheduled_time'] > 1).sum()\n",
    "non_zero_count"
   ]
  },
  {
   "cell_type": "code",
   "execution_count": null,
   "id": "93aeed98-aff7-4fda-ab7e-c64238db21dc",
   "metadata": {
    "tags": []
   },
   "outputs": [],
   "source": [
    "# Count the number of rows with values between -1.5 and 10 (around 0)\n",
    "count_around_0 = len(df_ema[(df_ema['Issued_minus_scheduled_time'] >= -1.5) & (df_ema['Issued_minus_scheduled_time'] <= 10)])\n",
    "\n",
    "# Count the number of rows with values between 598.5 and 610\n",
    "count_around_600 = len(df_ema[(df_ema['Issued_minus_scheduled_time'] >= 598.5) & (df_ema['Issued_minus_scheduled_time'] <= 610)])\n",
    "\n",
    "# Count the number of rows with values between 1198.5 and 1210\n",
    "count_around_1200 = len(df_ema[(df_ema['Issued_minus_scheduled_time'] >= 1198.5) & (df_ema['Issued_minus_scheduled_time'] <= 1210)])\n",
    "\n",
    "\n",
    "# Count the number of rows with values between 1198.5 and 1210\n",
    "count_around_1800 = len(df_ema[(df_ema['Issued_minus_scheduled_time'] >= 1798.5) & (df_ema['Issued_minus_scheduled_time'] <= 1810)])\n",
    "\n",
    "\n",
    "# Count the number of rows with values between 1198.5 and 1210\n",
    "count_around_2400 = len(df_ema[(df_ema['Issued_minus_scheduled_time'] >= 2398.5) & (df_ema['Issued_minus_scheduled_time'] <= 2410)])\n",
    "\n",
    "\n",
    "print(\"Number of rows with values around 0 mins:\", count_around_0)\n",
    "print(\"Number of rows with values around 10 mins:\", count_around_600)\n",
    "print(\"Number of rows with values around 20 mins:\", count_around_1200)\n",
    "print(\"Number of rows with values around 30 mins:\", count_around_1800)\n",
    "print(\"Number of rows with values around 40 mins:\", count_around_2400)\n",
    "\n"
   ]
  },
  {
   "cell_type": "code",
   "execution_count": null,
   "id": "b6f74223-3a06-470f-8dec-316e916baf31",
   "metadata": {},
   "outputs": [],
   "source": [
    "len(df_ema)"
   ]
  },
  {
   "cell_type": "code",
   "execution_count": null,
   "id": "ec95ceab-a81d-4d50-82b0-31f25ebdb9a6",
   "metadata": {},
   "outputs": [],
   "source": [
    "df_ema['Scheduled Time'] = pd.to_datetime(df_ema['Scheduled Time'])\n",
    "filtered_rows = df_ema[df_ema['Issued_minus_scheduled_time'] > 598.5]\n",
    "daily_counts = filtered_rows.groupby(filtered_rows['Scheduled Time'].dt.date).size()\n",
    "\n",
    "plt.figure(figsize=(10, 6))\n",
    "daily_counts.plot(kind='bar', color='skyblue')\n",
    "plt.xlabel('Date')\n",
    "plt.ylabel('Number of surveys per day')\n",
    "plt.title('Frequency of Occurrences per Day')\n",
    "\n",
    "x_labels = daily_counts.index\n",
    "plt.xticks(range(0, len(x_labels), max(1, len(x_labels) // 5)), x_labels[::max(1, len(x_labels) // 5)], rotation=45, ha='right')\n",
    "\n",
    "plt.show()\n"
   ]
  },
  {
   "cell_type": "code",
   "execution_count": null,
   "id": "c3febc78-8a32-47ed-9902-e0d7b22d8568",
   "metadata": {},
   "outputs": [],
   "source": [
    "df_ema['Scheduled Time'] = pd.to_datetime(df_ema['Scheduled Time'])\n",
    "\n",
    "daily_counts = df_ema.groupby(df_ema['Scheduled Time'].dt.date).size()\n",
    "\n",
    "# Plotting the frequency of occurrences per day\n",
    "plt.figure(figsize=(10, 6))\n",
    "daily_counts.plot(kind='bar', color='skyblue')\n",
    "plt.xlabel('Date')\n",
    "plt.ylabel('Number of surveys per day')\n",
    "plt.title('Frequency of Surveys per Day')\n",
    "\n",
    "# Show only 5 x-axis labels\n",
    "x_labels = daily_counts.index\n",
    "plt.xticks(range(0, len(x_labels), max(1, len(x_labels) // 5)), x_labels[::max(1, len(x_labels) // 5)], rotation=45, ha='right')\n",
    "\n",
    "plt.show()\n"
   ]
  },
  {
   "cell_type": "code",
   "execution_count": 23,
   "id": "280d1cc0-4cc5-4d1b-a139-900e48b13b7a",
   "metadata": {},
   "outputs": [],
   "source": [
    "# Assuming 'Scheduled Time' column is in datetime format\n",
    "df_ema['Scheduled Time'] = pd.to_datetime(df_ema['Scheduled Time'])\n",
    "\n",
    "# Create a new DataFrame containing rows that satisfy the condition\n",
    "filtered_rows = df_ema[df_ema['Issued_minus_scheduled_time'] > 598.5]\n"
   ]
  },
  {
   "cell_type": "code",
   "execution_count": 24,
   "id": "f15a4414-e2ae-4077-8202-5351dbdade89",
   "metadata": {},
   "outputs": [],
   "source": [
    "# Assuming 'Scheduled Time' column is in datetime format\n",
    "df_ema['Scheduled Time'] = pd.to_datetime(df_ema['Scheduled Time'])\n",
    "\n",
    "# Create a new DataFrame containing rows that satisfy the condition\n",
    "filtered_rows = df_ema[df_ema['Issued_minus_scheduled_time'] > 598.5]\n",
    "\n",
    "# Sort the filtered DataFrame by 'Scheduled Time' in descending order and select the top 30 rows\n",
    "recent_rows = filtered_rows.sort_values(by='Scheduled Time', ascending=False).head(42)\n",
    "\n",
    "# Extract unique participant IDs and Ethica IDs\n",
    "unique_participant_ids = recent_rows['Subject_ID_Roman_x'].unique()\n",
    "unique_ethica_ids = recent_rows['ID - Ethica EMA'].unique()\n",
    "\n",
    "# Create a DataFrame with the unique IDs\n",
    "unique_ids_df = pd.DataFrame({'Participant_ID': unique_participant_ids, 'Ethica_ID': unique_ethica_ids})\n"
   ]
  },
  {
   "cell_type": "code",
   "execution_count": null,
   "id": "d9d13def-c067-4e65-9ce3-c76794df7913",
   "metadata": {},
   "outputs": [],
   "source": [
    "unique_ids_df.head(3)"
   ]
  },
  {
   "cell_type": "code",
   "execution_count": 26,
   "id": "8bef7865-d358-4144-ad90-75209dcf3270",
   "metadata": {},
   "outputs": [],
   "source": [
    "unique_ids_df.to_csv(f'../outputs/for_ethica/recent_ethica_and_participant_IDs.csv', index=False)"
   ]
  },
  {
   "cell_type": "markdown",
   "id": "8fb3fb8b-c8cf-490e-92d0-0df5a048fedd",
   "metadata": {},
   "source": [
    "#### Only for ethica (Unique IDs that have a difference in issued and scheduled time)"
   ]
  },
  {
   "cell_type": "markdown",
   "id": "ad015562-7d05-4b96-a91e-e74014aa85bb",
   "metadata": {},
   "source": [
    "#### Back to normal code"
   ]
  },
  {
   "cell_type": "code",
   "execution_count": 27,
   "id": "1dfaba8e-2cf0-4a2d-be4c-dee51b493629",
   "metadata": {
    "tags": []
   },
   "outputs": [],
   "source": [
    "def subtract_duration(row):\n",
    "    duration_column = pd.to_numeric(row['Duration (seconds) from scheduled to completion time'], errors='coerce')\n",
    "    issued_minus_scheduled_column = pd.to_numeric(row['Issued_minus_scheduled_time'], errors='coerce')\n",
    "    \n",
    "    if not np.isnan(duration_column) and not np.isnan(issued_minus_scheduled_column):\n",
    "        return float(duration_column) - float(issued_minus_scheduled_column)\n",
    "    else:\n",
    "        return 'NA'\n",
    "\n",
    "df_ema['Duration (seconds) from issued to completion time'] = df_ema.apply(subtract_duration, axis=1)\n"
   ]
  },
  {
   "cell_type": "markdown",
   "id": "db2b743f-274b-4d51-95f6-dd12ed66e796",
   "metadata": {},
   "source": [
    "#### Just to check whethere there are any inconsistenties in the completion time column, specifically completion times of surveys that have not been completed (compliance = 0)"
   ]
  },
  {
   "cell_type": "code",
   "execution_count": null,
   "id": "dc55c41d-ece1-4996-add5-8bf68c1421a0",
   "metadata": {},
   "outputs": [],
   "source": [
    "import pandas as pd\n",
    "\n",
    "# Assuming you already have df_ema DataFrame\n",
    "\n",
    "# Get the unique participant IDs from the 'Subject_ID_Roman_x' column\n",
    "unique_participant_ids = df_ema['Subject_ID_Roman_x'].unique()\n",
    "\n",
    "# Create the \"compliance\" column and initialize it with 1\n",
    "df_ema['compliance_test'] = 1\n",
    "\n",
    "# Iterate through each unique participant ID\n",
    "for participant_id in tqdm(unique_participant_ids):\n",
    "    # Filter the DataFrame for the current participant ID\n",
    "    participant_df = df_ema[df_ema['Subject_ID_Roman_x'] == participant_id]\n",
    "\n",
    "    # Identify rows where \"Duration (seconds) from scheduled to completion time\" is \"Expired\" or \"Canceled\"\n",
    "    expired_or_canceled = (participant_df['Duration (seconds) from scheduled to completion time'] == \"Expired\") | (participant_df['Duration (seconds) from scheduled to completion time'] == \"Canceled\")\n",
    "\n",
    "    # Update the \"compliance\" column to 0 for these rows\n",
    "    participant_df.loc[expired_or_canceled, 'compliance_test'] = 0\n",
    "\n",
    "    # If the first row is \"Expired\" or \"Canceled,\" set it to 0 since there's no previous row\n",
    "    if expired_or_canceled.iloc[0]:\n",
    "        participant_df.at[participant_df.index[0], 'compliance_test'] = 0\n",
    "\n",
    "    # Update the original DataFrame with the modified values for this participant\n",
    "    df_ema.update(participant_df)\n"
   ]
  },
  {
   "cell_type": "code",
   "execution_count": null,
   "id": "225f7419-3adf-4627-89f4-7ef7afc075b2",
   "metadata": {},
   "outputs": [],
   "source": [
    "import pandas as pd\n",
    "\n",
    "# Assuming df_ema is your DataFrame\n",
    "# Count the number of rows where compliance_new is 0 and Duration (seconds) from issued to completion time is not NaN\n",
    "count_rows = df_ema[(df_ema['compliance_test'] == 0) & (~df_ema['Duration (seconds) from issued to completion time'].isna())].shape[0]\n",
    "\n",
    "print(\"Number of rows satisfying the conditions:\", count_rows)\n"
   ]
  },
  {
   "cell_type": "code",
   "execution_count": 30,
   "id": "fcd07f8e-49d4-47bc-9c1e-bdc983c0af14",
   "metadata": {},
   "outputs": [],
   "source": [
    "filtered_df = df_ema[(df_ema['compliance_test'] == 0) \n",
    "                     & (~df_ema['Duration (seconds) from issued to completion time'].isna()) \n",
    "                     & (df_ema['Duration (seconds) from first response to completion time'] != 'Unknown')]\n"
   ]
  },
  {
   "cell_type": "code",
   "execution_count": null,
   "id": "4173dfc5-0c60-48b3-84ac-cd338372cdde",
   "metadata": {},
   "outputs": [],
   "source": [
    "filtered_df['issue_response_diff'] = filtered_df['Response Time'] - filtered_df['Issued Time']\n"
   ]
  },
  {
   "cell_type": "code",
   "execution_count": null,
   "id": "c0a70ed8-b939-482c-97bb-72b5a416780b",
   "metadata": {},
   "outputs": [],
   "source": [
    "filtered_df['issue_response_diff'].describe()"
   ]
  },
  {
   "cell_type": "code",
   "execution_count": null,
   "id": "d1c2f378-ac8c-45c9-9b4f-e961cd644fa2",
   "metadata": {},
   "outputs": [],
   "source": [
    "filtered_df.head()"
   ]
  },
  {
   "cell_type": "code",
   "execution_count": null,
   "id": "f186e392-9eb9-4ccd-8cba-cdb28f95f995",
   "metadata": {},
   "outputs": [],
   "source": [
    "plt.hist(filtered_df['issue_response_diff'].dt.total_seconds(), bins = 60)\n",
    "plt.show()"
   ]
  },
  {
   "cell_type": "code",
   "execution_count": null,
   "id": "6970ffb6-3e53-462f-b591-9d9eaf55a3b3",
   "metadata": {},
   "outputs": [],
   "source": [
    "filtered_df_subset = filtered_df[filtered_df['issue_response_diff'].dt.total_seconds() <= 3590]\n",
    "\n",
    "# Plot histogram\n",
    "plt.hist(filtered_df_subset['issue_response_diff'].dt.total_seconds(), bins=20, color='skyblue', edgecolor='black')\n",
    "\n",
    "# Add labels and title\n",
    "plt.xlabel('Issue-Response Time Difference (seconds)')\n",
    "plt.ylabel('Frequency')\n",
    "plt.title('Histogram of Issue-Response Time Difference (Excluding >3590 seconds)')\n",
    "\n",
    "# Show plot\n",
    "plt.show()\n"
   ]
  },
  {
   "cell_type": "code",
   "execution_count": null,
   "id": "3d4152f2-88a6-412f-bb60-34cfb4e3c563",
   "metadata": {},
   "outputs": [],
   "source": [
    "len(filtered_df_subset)"
   ]
  },
  {
   "cell_type": "code",
   "execution_count": null,
   "id": "ebb5f7a0-c10b-47eb-be45-e103246c5356",
   "metadata": {},
   "outputs": [],
   "source": [
    "filtered_df_subset.head(5)"
   ]
  },
  {
   "cell_type": "code",
   "execution_count": null,
   "id": "a14b3962-e239-4286-b189-ee6d1951052a",
   "metadata": {},
   "outputs": [],
   "source": [
    "filtered_df.head(1000).tail(5)"
   ]
  },
  {
   "cell_type": "markdown",
   "id": "9e3da06e-7f83-42b6-83ba-df9fce995092",
   "metadata": {},
   "source": [
    "#### Calculate response delay"
   ]
  },
  {
   "cell_type": "code",
   "execution_count": 39,
   "id": "91cd9b8c-f267-4ebf-96a8-abe2ca2f4cfa",
   "metadata": {
    "tags": []
   },
   "outputs": [],
   "source": [
    "\n",
    "# First, convert the columns to numeric and handle conversion errors with NaN\n",
    "df_ema['Duration (seconds) from first response to completion time'] = pd.to_numeric(\n",
    "    df_ema['Duration (seconds) from first response to completion time'], errors='coerce')\n",
    "df_ema['Duration (seconds) from issued to completion time'] = pd.to_numeric(\n",
    "    df_ema['Duration (seconds) from issued to completion time'], errors='coerce')\n",
    "\n",
    "# Then, calculate the 'response delay' column by subtracting the two columns\n",
    "df_ema['response delay'] = df_ema['Duration (seconds) from issued to completion time'] - df_ema['Duration (seconds) from first response to completion time']\n",
    "\n",
    "# Now, the 'response delay' column will contain the time differences, and NaN for non-numeric values\n"
   ]
  },
  {
   "cell_type": "code",
   "execution_count": 40,
   "id": "e9fcdab7-9a88-4e91-8b89-8e6a4efef2a5",
   "metadata": {
    "tags": []
   },
   "outputs": [],
   "source": [
    "response_delay = df_ema['response delay']\n",
    "df_ema = df_ema.drop('response delay', axis=1)\n",
    "position = 8  # Since Python uses 0-based indexing, the 9th position corresponds to index 8\n",
    "df_ema.insert(position, 'response delay', response_delay)\n"
   ]
  },
  {
   "cell_type": "markdown",
   "id": "f594e15c-df75-43ab-903f-b6ed25607aab",
   "metadata": {},
   "source": [
    "#### Make a response_delay_column without the effects of the reminders (everything after 10 minutes is NaN)"
   ]
  },
  {
   "cell_type": "code",
   "execution_count": 41,
   "id": "3eddde17-3696-4973-8f1c-c48190a32b90",
   "metadata": {},
   "outputs": [],
   "source": [
    "df_ema['response_delay_10min'] = df_ema['response delay'].where(df_ema['response delay'] <= 598)\n",
    "\n",
    "# Set values to NaN for rows where 'response delay' is greater than 598\n",
    "df_ema.loc[df_ema['response delay'] > 598, 'response_delay_10min'] = pd.NA"
   ]
  },
  {
   "cell_type": "code",
   "execution_count": null,
   "id": "824a5e85-3f76-4717-878f-ced0a06107fe",
   "metadata": {
    "tags": []
   },
   "outputs": [],
   "source": [
    "df_ema.head(5)"
   ]
  },
  {
   "cell_type": "code",
   "execution_count": null,
   "id": "2bdf6993-a2dc-4537-b009-59c135448625",
   "metadata": {
    "tags": []
   },
   "outputs": [],
   "source": [
    "import pandas as pd\n",
    "\n",
    "# Assuming your DataFrame is named df_ema\n",
    "count_expired = len(df_ema[df_ema['Duration (seconds) from scheduled to completion time'] == 'Expired'])\n",
    "print('Expired:', count_expired)\n",
    "\n",
    "# Assuming your DataFrame is named df_ema\n",
    "count_cancelled = len(df_ema[df_ema['Duration (seconds) from scheduled to completion time'] == 'Canceled'])\n",
    "print('Cancelled:', count_cancelled)\n",
    "\n",
    "# Assuming your DataFrame is named df_ema\n",
    "count_NaN = len(df_ema[df_ema['Duration (seconds) from scheduled to completion time'] == 'NaN'])\n",
    "print('NaN:', count_NaN)\n",
    "\n",
    "\n"
   ]
  },
  {
   "cell_type": "markdown",
   "id": "1ba1b77d-70c9-4d01-a35d-aee866c54ce6",
   "metadata": {},
   "source": [
    "#### Visualisations of response delay"
   ]
  },
  {
   "cell_type": "code",
   "execution_count": null,
   "id": "51182d11-2c82-44cb-858e-f728e85464df",
   "metadata": {
    "tags": []
   },
   "outputs": [],
   "source": [
    "import matplotlib.pyplot as plt\n",
    "import pandas as pd\n",
    "\n",
    "# Assuming you have a DataFrame named 'df_ema' with the 'response delay' column\n",
    "# Filter the data to exclude rows with NaN values in 'response delay'\n",
    "filtered_df = df_ema.dropna(subset=['response delay'])\n",
    "\n",
    "# Create a histogram of 'response delay' values with specified bins\n",
    "bins = list(range(0, 3601, 10))  # Define bins from 0 to 1200 seconds with a bin width of 100 seconds\n",
    "plt.hist(filtered_df['response delay'], bins=bins, edgecolor='k')\n",
    "plt.xticks(range(0, 3601, 300))\n",
    "\n",
    "# Set labels and title\n",
    "plt.xlabel('Response Delay (seconds)')\n",
    "plt.ylabel('Frequency')\n",
    "plt.title('Response Delay Distribution')\n",
    "\n",
    "# Show the plot\n",
    "plt.show()\n"
   ]
  },
  {
   "cell_type": "markdown",
   "id": "4ca87dd8-611f-4645-9418-32ac31b83dcb",
   "metadata": {},
   "source": [
    "### Calculate next-prompt compliance"
   ]
  },
  {
   "cell_type": "markdown",
   "id": "da3656ff-517a-4cb0-b92a-c825cc13375e",
   "metadata": {},
   "source": [
    "#### Make compliance feature"
   ]
  },
  {
   "cell_type": "code",
   "execution_count": null,
   "id": "b41ccb0f-d0b7-42f1-8e07-1d65f2a78e0c",
   "metadata": {},
   "outputs": [],
   "source": [
    "import pandas as pd\n",
    "\n",
    "# Assuming you already have df_ema DataFrame\n",
    "\n",
    "# Get the unique participant IDs from the 'Subject_ID_Roman_x' column\n",
    "unique_participant_ids = df_ema['Subject_ID_Roman_x'].unique()\n",
    "\n",
    "# Create the \"compliance\" column and initialize it with 1\n",
    "df_ema['compliance'] = 1\n",
    "\n",
    "# Iterate through each unique participant ID\n",
    "for participant_id in tqdm(unique_participant_ids):\n",
    "    # Filter the DataFrame for the current participant ID\n",
    "    participant_df = df_ema[df_ema['Subject_ID_Roman_x'] == participant_id]\n",
    "\n",
    "    # Identify rows where \"Duration (seconds) from scheduled to completion time\" is \"Expired\" or \"Canceled\"\n",
    "    expired_or_canceled = (participant_df['Duration (seconds) from scheduled to completion time'] == \"Expired\") | (participant_df['Duration (seconds) from scheduled to completion time'] == \"Canceled\")\n",
    "\n",
    "    # Update the \"compliance\" column to 0 for these rows\n",
    "    participant_df.loc[expired_or_canceled, 'compliance'] = 0\n",
    "\n",
    "    # If the first row is \"Expired\" or \"Canceled,\" set it to 0 since there's no previous row\n",
    "    if expired_or_canceled.iloc[0]:\n",
    "        participant_df.at[participant_df.index[0], 'compliance'] = 0\n",
    "\n",
    "    # Update the original DataFrame with the modified values for this participant\n",
    "    df_ema.update(participant_df)\n"
   ]
  },
  {
   "cell_type": "code",
   "execution_count": null,
   "id": "1de030c4-9021-4518-a9c5-e909234b899e",
   "metadata": {},
   "outputs": [],
   "source": [
    "df_ema['compliance'].value_counts()"
   ]
  },
  {
   "cell_type": "code",
   "execution_count": null,
   "id": "496af7ae-546f-49c2-b0ab-15b702737f59",
   "metadata": {},
   "outputs": [],
   "source": [
    "df_ema.head(37360).tail(5)"
   ]
  },
  {
   "cell_type": "markdown",
   "id": "670fdc62-a20b-43f2-8454-ac6ed8953059",
   "metadata": {
    "tags": []
   },
   "source": [
    "#### Testing above for single participants (Next-promt compliance)"
   ]
  },
  {
   "cell_type": "code",
   "execution_count": null,
   "id": "e2cb8dd5-f243-4213-a71f-d83e8a2e94ce",
   "metadata": {
    "tags": []
   },
   "outputs": [],
   "source": [
    "# Get the unique values in the \"Subject_ID_Roman_x\" column\n",
    "unique_values = df_ema['Subject_ID_Roman_x'].unique()\n",
    "\n",
    "# Randomly choose one value from the unique values\n",
    "chosen_value = random.choice(unique_values)\n",
    "\n",
    "# Filter out all rows with the chosen value\n",
    "single_participant = df_ema[df_ema['Subject_ID_Roman_x'] == chosen_value]\n",
    "\n",
    "# The filtered_df will now contain all rows with a different value in the \"Subject_ID_Roman_x\" column.\n",
    "single_participant.head(5)\n",
    "\n"
   ]
  },
  {
   "cell_type": "markdown",
   "id": "1fc71b72-2f17-42a6-97b6-1156efa1013b",
   "metadata": {},
   "source": [
    "#### Build targets"
   ]
  },
  {
   "cell_type": "code",
   "execution_count": null,
   "id": "4941e5fa-ae04-410b-8659-ec58cfd01286",
   "metadata": {
    "tags": []
   },
   "outputs": [],
   "source": [
    "df_ema['2-min receptivity'] = df_ema['response delay'].apply(lambda x: 1 if x <= 120 else (0 if x > 120 else None))\n",
    "df_ema['2-min receptivity'].value_counts(dropna=False)\n"
   ]
  },
  {
   "cell_type": "code",
   "execution_count": null,
   "id": "ceeb63a2-5e14-40c1-96f5-f26af190795b",
   "metadata": {
    "tags": []
   },
   "outputs": [],
   "source": [
    "df_ema['5-min receptivity'] = df_ema['response delay'].apply(lambda x: 1 if x <= 300 else (0 if x > 300 else None))\n",
    "df_ema['5-min receptivity'].value_counts(dropna=False)"
   ]
  },
  {
   "cell_type": "code",
   "execution_count": null,
   "id": "4862d13d-d837-4c44-bec3-7e7a78a6ea80",
   "metadata": {
    "tags": []
   },
   "outputs": [],
   "source": [
    "df_ema['10-min receptivity'] = df_ema['response delay'].apply(lambda x: 1 if x <= 600 else (0 if x > 600 else None))\n",
    "df_ema['10-min receptivity'].value_counts(dropna=False)"
   ]
  },
  {
   "cell_type": "code",
   "execution_count": null,
   "id": "843aea99-5030-414e-b9b2-fc0f5d20c777",
   "metadata": {
    "tags": []
   },
   "outputs": [],
   "source": [
    "df_ema['20-min receptivity'] = df_ema['response delay'].apply(lambda x: 1 if x <= 1200 else (0 if x > 1200 else None))\n",
    "df_ema['20-min receptivity'].value_counts(dropna=False)"
   ]
  },
  {
   "cell_type": "code",
   "execution_count": null,
   "id": "eeef266d-2fbd-4199-952d-c554b3dc4669",
   "metadata": {
    "tags": []
   },
   "outputs": [],
   "source": [
    "def convert_and_ignore(value):\n",
    "    if value not in ['NaN']:\n",
    "        try:\n",
    "            return float(value)\n",
    "        except (ValueError, TypeError):\n",
    "            pass\n",
    "    return None\n",
    "\n",
    "# Apply the custom function to the DataFrame\n",
    "df_ema['response delay'] = df_ema['response delay'].apply(convert_and_ignore)\n",
    "\n",
    "# Remove non-float values\n",
    "filtered_df = df_ema.dropna(subset=['response delay'])\n",
    "\n",
    "# Define time intervals\n",
    "intervals = [(0, 600), (600, 1200), (1200, 1800), (1800, 2400), (2400, 3000), (3000, 3600), (3600, 4200)]\n",
    "\n",
    "# Initialize counters for each interval\n",
    "counters = {f\"{start}-{end} seconds\": 0 for start, end in intervals}\n",
    "\n",
    "# Count values in each interval\n",
    "for start, end in intervals:\n",
    "    counters[f\"{start}-{end} seconds\"] = ((filtered_df['response delay'] >= start) &\n",
    "                                           (filtered_df['response delay'] < end)).sum()\n",
    "\n",
    "# Print the counts for each interval\n",
    "for interval, count in counters.items():\n",
    "    print(f\"{interval}: {count} responses\")"
   ]
  },
  {
   "cell_type": "code",
   "execution_count": 54,
   "id": "378d7c60-63c6-4001-9c6a-0b2e9019a40d",
   "metadata": {
    "tags": []
   },
   "outputs": [],
   "source": [
    "negative_values_mask = df_ema['response delay'] < 0\n",
    "df_negative_values = df_ema[negative_values_mask]"
   ]
  },
  {
   "cell_type": "code",
   "execution_count": null,
   "id": "65539017-5e23-4d19-8f51-443308abda37",
   "metadata": {
    "tags": []
   },
   "outputs": [],
   "source": [
    "df_negative_values.head()"
   ]
  },
  {
   "cell_type": "code",
   "execution_count": null,
   "id": "c6161a7e-2b76-49b9-9783-676c59880978",
   "metadata": {
    "tags": []
   },
   "outputs": [],
   "source": [
    "df_ema['response delay'].describe()"
   ]
  },
  {
   "cell_type": "markdown",
   "id": "755644da-51c6-4912-aedd-d2f485a60189",
   "metadata": {},
   "source": [
    "### Completion time"
   ]
  },
  {
   "cell_type": "markdown",
   "id": "87f63871-a00b-40b8-b2c8-e24fac7ffd55",
   "metadata": {},
   "source": [
    "#### Visualisations of response delay"
   ]
  },
  {
   "cell_type": "code",
   "execution_count": 57,
   "id": "65c43ead-1476-4ba5-84cf-3ac357e74df2",
   "metadata": {
    "tags": []
   },
   "outputs": [],
   "source": [
    "negative_values_mask = df_ema['Duration (seconds) from first response to completion time'] < 0\n",
    "df_negative_values = df_ema[negative_values_mask]\n"
   ]
  },
  {
   "cell_type": "code",
   "execution_count": null,
   "id": "51ede8ca-e212-487e-a2a0-472a7ca060b0",
   "metadata": {
    "tags": []
   },
   "outputs": [],
   "source": [
    "df_negative_values.head()"
   ]
  },
  {
   "cell_type": "markdown",
   "id": "843f352e-ab8e-4a9d-a6b5-c1e0088dc7d8",
   "metadata": {},
   "source": [
    "There seem to be 2 rows with negative Completion Time values. Therefore, we will drop these two rows (20731, adn 35192) from the dataset"
   ]
  },
  {
   "cell_type": "code",
   "execution_count": 59,
   "id": "baff28ea-1bd8-4135-a644-4201f0601a68",
   "metadata": {
    "tags": []
   },
   "outputs": [],
   "source": [
    "df_ema = df_ema.drop([20731, 35192])"
   ]
  },
  {
   "cell_type": "code",
   "execution_count": null,
   "id": "66e46df5-b551-4104-b926-7ae0aa51ba36",
   "metadata": {
    "tags": []
   },
   "outputs": [],
   "source": [
    "df_ema['Duration (seconds) from first response to completion time'].describe()"
   ]
  },
  {
   "cell_type": "code",
   "execution_count": null,
   "id": "7f852e67-1855-46fa-8e2e-edf101204dc2",
   "metadata": {
    "tags": []
   },
   "outputs": [],
   "source": [
    "import matplotlib.pyplot as plt\n",
    "import pandas as pd\n",
    "\n",
    "# Assuming you have a DataFrame named 'df_ema' with the 'response delay' column\n",
    "# Filter the data to exclude rows with NaN values in 'response delay'\n",
    "filtered_df = df_ema.dropna(subset=['Duration (seconds) from first response to completion time'])\n",
    "\n",
    "# Create a histogram of 'response delay' values with specified bins\n",
    "bins = list(range(0, 901, 10))  # Define bins from 0 to 1200 seconds with a bin width of 100 seconds\n",
    "plt.hist(filtered_df['Duration (seconds) from first response to completion time'], bins=bins, edgecolor='k')\n",
    "plt.xticks(range(0, 901, 60))\n",
    "\n",
    "# Set labels and title\n",
    "plt.xlabel('Completion time (seconds)')\n",
    "plt.ylabel('Frequency')\n",
    "plt.title('Completion Time Distribution')\n",
    "\n",
    "# Show the plot\n",
    "plt.show()\n"
   ]
  },
  {
   "cell_type": "code",
   "execution_count": null,
   "id": "3d8fcc58-4381-4316-830a-3ff04f7adafb",
   "metadata": {
    "tags": []
   },
   "outputs": [],
   "source": [
    "import matplotlib.pyplot as plt\n",
    "import pandas as pd\n",
    "\n",
    "# Assuming you have a DataFrame named 'df_ema' with the 'response delay' column\n",
    "# Filter the data to exclude rows with NaN values in 'response delay'\n",
    "filtered_df = df_ema.dropna(subset=['Duration (seconds) from first response to completion time'])\n",
    "\n",
    "# Create a histogram of 'response delay' values with specified bins\n",
    "bins = list(range(0, 31, 1))  # Define bins from 0 to 1200 seconds with a bin width of 100 seconds\n",
    "plt.hist(filtered_df['Duration (seconds) from first response to completion time'], bins=bins, edgecolor='k')\n",
    "plt.xticks(range(0, 31, 1))\n",
    "\n",
    "# Set labels and title\n",
    "plt.xlabel('Completion time (seconds)')\n",
    "plt.ylabel('Frequency')\n",
    "plt.title('Completion Time Distribution')\n",
    "\n",
    "# Show the plot\n",
    "plt.show()\n"
   ]
  },
  {
   "cell_type": "code",
   "execution_count": null,
   "id": "5608e3e6-da7a-44ac-9d3f-4b0fcda9a572",
   "metadata": {
    "tags": []
   },
   "outputs": [],
   "source": [
    "def convert_and_ignore(value):\n",
    "    if value not in ['NaN']:\n",
    "        try:\n",
    "            return float(value)\n",
    "        except (ValueError, TypeError):\n",
    "            pass\n",
    "    return None\n",
    "\n",
    "# Apply the custom function to the DataFrame\n",
    "df_ema['Duration (seconds) from first response to completion time'] = df_ema['Duration (seconds) from first response to completion time'].apply(convert_and_ignore)\n",
    "\n",
    "# Remove non-float values\n",
    "filtered_df = df_ema.dropna(subset=['Duration (seconds) from first response to completion time'])\n",
    "\n",
    "# Define time intervals\n",
    "intervals = [(0, 60), (60, 120), (120, 180), (180, 240), (240, 300), (300, 360), (360, 420), (420, 480), (360, 420), (480, 540), (540, 600), (600, 660), (660, 720)]\n",
    "\n",
    "# Initialize counters for each interval\n",
    "counters = {f\"{start}-{end} seconds\": 0 for start, end in intervals}\n",
    "\n",
    "# Count values in each interval\n",
    "for start, end in intervals:\n",
    "    counters[f\"{start}-{end} seconds\"] = ((filtered_df['Duration (seconds) from first response to completion time'] >= start) &\n",
    "                                           (filtered_df['Duration (seconds) from first response to completion time'] < end)).sum()\n",
    "\n",
    "# Print the counts for each interval\n",
    "for interval, count in counters.items():\n",
    "    print(f\"{interval}: {count} responses\")"
   ]
  },
  {
   "cell_type": "code",
   "execution_count": null,
   "id": "d287cf18-22b7-4d50-b0ab-17e6a4e348a3",
   "metadata": {},
   "outputs": [],
   "source": [
    "df_ema['Duration (seconds) from first response to completion time'].describe()"
   ]
  },
  {
   "cell_type": "markdown",
   "id": "73398b14-3170-4e35-8206-68880c4895a7",
   "metadata": {},
   "source": [
    "#### Because responses that are quicker than 2 seconds are technically impossible, we remove any responses that are lower than 2 seconds"
   ]
  },
  {
   "cell_type": "code",
   "execution_count": null,
   "id": "53f79964-580e-4c9e-abb8-68d561cbd1b2",
   "metadata": {},
   "outputs": [],
   "source": [
    "num_rows_duration_2_or_less = (df_ema['Duration (seconds) from first response to completion time'] <= 2).sum()\n",
    "print(\"Number of rows with duration of 2 or less:\", num_rows_duration_2_or_less)\n"
   ]
  },
  {
   "cell_type": "code",
   "execution_count": null,
   "id": "76621a5c-04e0-4227-aa39-ac537c060e02",
   "metadata": {},
   "outputs": [],
   "source": [
    "len(df_ema)"
   ]
  },
  {
   "cell_type": "code",
   "execution_count": null,
   "id": "24098d6d-3fe8-4f56-b4e6-5853a134c6ec",
   "metadata": {},
   "outputs": [],
   "source": [
    "\n",
    "# Filter out rows from df_ema that are not in num_rows_duration_2_or_less\n",
    "df_ema = df_ema[~(df_ema['Duration (seconds) from first response to completion time'] < 2)]\n",
    "\n",
    "# Check the number of rows in filtered_df\n",
    "print(\"Number of rows in filtered DataFrame:\", len(filtered_df))\n"
   ]
  },
  {
   "cell_type": "code",
   "execution_count": null,
   "id": "dc08a7cd-c7bc-4f7c-9285-73b0fd4efa03",
   "metadata": {},
   "outputs": [],
   "source": []
  },
  {
   "cell_type": "code",
   "execution_count": null,
   "id": "8e18b8af-bb25-4ef2-a956-8b8a18062759",
   "metadata": {},
   "outputs": [],
   "source": []
  },
  {
   "cell_type": "markdown",
   "id": "4171d07e-e069-4f42-8c1f-7f09301991d2",
   "metadata": {},
   "source": [
    "#### Rename some columns"
   ]
  },
  {
   "cell_type": "code",
   "execution_count": 68,
   "id": "2ae047f9-19ac-4b1a-b2f3-7315368c7d66",
   "metadata": {
    "tags": []
   },
   "outputs": [],
   "source": [
    "df_ema = df_ema.rename(columns={'Duration (seconds) from first response to completion time': 'completion_time'})\n"
   ]
  },
  {
   "cell_type": "code",
   "execution_count": null,
   "id": "44f626fe-7bc2-4cd1-93c5-adb8d76b09ac",
   "metadata": {
    "tags": []
   },
   "outputs": [],
   "source": [
    "df_ema.head(1)"
   ]
  },
  {
   "cell_type": "markdown",
   "id": "957c1612-2f5d-4cbe-83ec-37fbe33f5e99",
   "metadata": {},
   "source": [
    "## Exports"
   ]
  },
  {
   "cell_type": "markdown",
   "id": "9222897b-d65a-4398-b575-959361049892",
   "metadata": {},
   "source": [
    "Which rows from this dataframe need to be preserved for later?"
   ]
  },
  {
   "cell_type": "code",
   "execution_count": 70,
   "id": "327a702b-a7e9-4139-9b5c-60613819a977",
   "metadata": {
    "tags": []
   },
   "outputs": [],
   "source": [
    "df_ema['Duration (seconds) from scheduled to completion time'] = pd.to_numeric(df_ema['Duration (seconds) from scheduled to completion time'], errors='coerce')\n"
   ]
  },
  {
   "cell_type": "code",
   "execution_count": 71,
   "id": "94aa936f-04dd-4556-bf3f-37f852aafe6b",
   "metadata": {
    "tags": []
   },
   "outputs": [],
   "source": [
    "df_ema.to_parquet(f'../outputs/targets.parquet', index=False)"
   ]
  },
  {
   "cell_type": "code",
   "execution_count": null,
   "id": "118ffe1f-fc79-4453-a625-fe4cec2c61d4",
   "metadata": {
    "tags": []
   },
   "outputs": [],
   "source": [
    "df_ema.head()"
   ]
  },
  {
   "cell_type": "code",
   "execution_count": null,
   "id": "c9d82cb4-0428-4ee1-963b-d36c35f882eb",
   "metadata": {},
   "outputs": [],
   "source": [
    "df_ema['Subject_ID_Roman_x'].nunique()"
   ]
  },
  {
   "cell_type": "code",
   "execution_count": null,
   "id": "4f90cabc-273b-402a-b0ff-7fb819e13e4b",
   "metadata": {},
   "outputs": [],
   "source": []
  },
  {
   "cell_type": "code",
   "execution_count": null,
   "id": "1d969f66-dd6d-423b-8b3a-ae560f29a81a",
   "metadata": {},
   "outputs": [],
   "source": []
  },
  {
   "cell_type": "markdown",
   "id": "1010dc68-a458-4327-8671-d65ae6ccc866",
   "metadata": {},
   "source": [
    "##### Below is the output of the 2 participants that did not have 54 surveys"
   ]
  },
  {
   "cell_type": "code",
   "execution_count": null,
   "id": "b4d18b70-a899-416e-a178-4573461d4b5a",
   "metadata": {},
   "outputs": [],
   "source": [
    "import pandas as pd\n",
    "\n",
    "# Assuming df_ema is your DataFrame\n",
    "participant_counts = df_ema['Subject_ID_Roman_x'].value_counts()\n",
    "\n",
    "# Get the participant IDs without exactly 54 surveys\n",
    "participants_without_54_surveys = participant_counts[participant_counts != 54].index\n",
    "\n",
    "# Create a new DataFrame with the participant IDs and their survey counts\n",
    "output_df = pd.DataFrame({\n",
    "    'Subject_ID_Roman_x': participants_without_54_surveys,\n",
    "    'Survey_Count': participant_counts[participants_without_54_surveys]\n",
    "})\n",
    "\n",
    "# Save the DataFrame to a CSV file\n",
    "output_df.to_csv('participants_without_54_surveys.csv', index=False)\n",
    "output_df.to_csv(f'../outputs/participants_without_54_surveys_for_se.csv', index=False)\n",
    "\n",
    "# Create a new DataFrame with only the rows corresponding to the participant IDs without exactly 54 surveys\n",
    "df_ema_filtered = df_ema[df_ema['Subject_ID_Roman_x'].isin(participants_without_54_surveys)]\n",
    "\n",
    "# Sort the filtered DataFrame by participant ID\n",
    "df_ema_filtered_sorted = df_ema_filtered.sort_values('Subject_ID_Roman_x')\n",
    "\n",
    "# Display the counts\n",
    "print(f\"Participants with exactly 54 surveys: {(participant_counts == 54).sum()}\")\n",
    "print(f\"Participants without exactly 54 surveys: {len(participants_without_54_surveys)}\")\n",
    "print(output_df)  # Display the survey counts for participants without exactly 54 surveys\n"
   ]
  },
  {
   "cell_type": "code",
   "execution_count": null,
   "id": "71a2107c-07dd-486f-a2c4-1f4fa0c76e0c",
   "metadata": {},
   "outputs": [],
   "source": [
    "output_df.head()"
   ]
  },
  {
   "cell_type": "code",
   "execution_count": 76,
   "id": "c4af28cf-5a5e-4e0c-bd0a-70d8abda2243",
   "metadata": {},
   "outputs": [],
   "source": [
    "# Assuming df_ema is your DataFrame\n",
    "participant_counts = df_ema['Subject_ID_Roman_x'].value_counts()\n",
    "\n",
    "# Extract the list of participants with exactly 54 surveys\n",
    "participants_with_54_surveys = participant_counts[participant_counts == 54].index.tolist()\n",
    "\n",
    "# Filter the DataFrame to include only participants with exactly 54 surveys\n",
    "df_ema = df_ema[df_ema['Subject_ID_Roman_x'].isin(participants_with_54_surveys)]\n"
   ]
  },
  {
   "cell_type": "code",
   "execution_count": null,
   "id": "225ed0c6-c514-41f3-88a4-493dca032f9e",
   "metadata": {},
   "outputs": [],
   "source": [
    "df_ema['Subject_ID_Roman_x'].nunique()"
   ]
  },
  {
   "cell_type": "code",
   "execution_count": null,
   "id": "a8081d5b-4ee5-40ca-aca9-cf292fdcfb00",
   "metadata": {},
   "outputs": [],
   "source": [
    "# Get all unique participant IDs from df_filtered_deleted_app\n",
    "unique_participant_ids = output_df['Subject_ID_Roman_x'].unique()\n",
    "\n",
    "# Print the unique participant IDs\n",
    "print(\"Unique Participant IDs in df_filtered_not_54_surveys:\")\n",
    "print(unique_participant_ids)\n",
    "\n",
    "# Print the count of unique participant IDs\n",
    "print(\"Number of Unique Participant IDs:\", len(unique_participant_ids))"
   ]
  },
  {
   "cell_type": "code",
   "execution_count": 79,
   "id": "3e4a0366-336a-4723-aefd-dc83d41dc6c3",
   "metadata": {},
   "outputs": [],
   "source": [
    "df_ema_filtered_sorted = df_ema_filtered.sort_values(['Subject_ID_Roman_x', 'Issued Time'])"
   ]
  },
  {
   "cell_type": "code",
   "execution_count": 80,
   "id": "3169c896-cdc9-4df6-b369-a0158f851259",
   "metadata": {},
   "outputs": [],
   "source": [
    "df_ema_filtered_sorted_reindexed = df_ema_filtered_sorted.reset_index(drop=True)"
   ]
  },
  {
   "cell_type": "code",
   "execution_count": null,
   "id": "e2e9596a-8d7d-4708-8be3-183dbf001425",
   "metadata": {},
   "outputs": [],
   "source": [
    "df_ema_filtered_sorted_reindexed.head(3)"
   ]
  },
  {
   "cell_type": "code",
   "execution_count": null,
   "id": "48912a65-cf30-4723-9907-ae160ac88918",
   "metadata": {},
   "outputs": [],
   "source": [
    "df_ema.head(1)"
   ]
  },
  {
   "cell_type": "markdown",
   "id": "41ab92a7-7c0f-4672-bc88-7b015113f05e",
   "metadata": {},
   "source": [
    "# Merge the file together with the independent variables file"
   ]
  },
  {
   "cell_type": "markdown",
   "id": "4c8ad53c-f810-4fa1-a3e1-62eaf1039cb4",
   "metadata": {
    "tags": []
   },
   "source": [
    "## Data Ingestion"
   ]
  },
  {
   "cell_type": "code",
   "execution_count": 83,
   "id": "b37e77b8-170e-443d-93b9-1949ee0def63",
   "metadata": {
    "tags": []
   },
   "outputs": [],
   "source": [
    "df_questionnaires = pd.read_excel('../data_questionnaire/2023006_COBRA_20230811.xlsx')\n",
    "df_id_mapping = pd.read_excel('../data_ema/COBRA ID Mapping for Roman.xlsx')\n",
    "\n",
    "#df_InterVarValue = pd.read_csv('../data/mcd_mongo_exports/InterventionVariableWithValue.csv')\n",
    "#df_PartVarValue = pd.read_csv('../data/mcd_mongo_exports/ParticipantVariableWithValue.csv')"
   ]
  },
  {
   "cell_type": "markdown",
   "id": "4b1ec915-f1e0-4f40-9e54-9ef676691917",
   "metadata": {},
   "source": [
    "#### Joining the two dataframes"
   ]
  },
  {
   "cell_type": "code",
   "execution_count": 84,
   "id": "8383b0e8-1df2-4ebd-9490-3588c1960ea4",
   "metadata": {
    "tags": []
   },
   "outputs": [],
   "source": [
    "df_ema = df_ema.merge(df_id_mapping[['ID - Ethica EMA', 'Subject_ID_Roman']], \n",
    "                    left_on='ID - Ethica EMA', \n",
    "                    right_on='ID - Ethica EMA', \n",
    "                    how='left')\n",
    "\n"
   ]
  },
  {
   "cell_type": "code",
   "execution_count": null,
   "id": "a63acb31-1fd9-46c2-b271-150f370de131",
   "metadata": {},
   "outputs": [],
   "source": [
    "df_ema['Subject_ID_Roman_x'].nunique()"
   ]
  },
  {
   "cell_type": "code",
   "execution_count": null,
   "id": "40eb30a5-886f-46cc-8083-c0d3c2bfa0b4",
   "metadata": {},
   "outputs": [],
   "source": [
    "len(df_ema)"
   ]
  },
  {
   "cell_type": "code",
   "execution_count": null,
   "id": "89b85769-2dd3-4dfe-9b8d-85348387ee64",
   "metadata": {
    "tags": []
   },
   "outputs": [],
   "source": [
    "df_questionnaires.head(2)"
   ]
  },
  {
   "cell_type": "code",
   "execution_count": null,
   "id": "50240157-3c1b-48f7-b6db-1a2f17a7944b",
   "metadata": {
    "tags": []
   },
   "outputs": [],
   "source": [
    "questionnaires_unique = df_questionnaires['SubjectID'].unique()\n",
    "len(questionnaires_unique)"
   ]
  },
  {
   "cell_type": "code",
   "execution_count": null,
   "id": "d548ca36-3b80-4785-a296-f8e1c529975e",
   "metadata": {
    "tags": []
   },
   "outputs": [],
   "source": [
    "# Find values unique to each dataframe\n",
    "unique_to_questionnaires = set(questionnaires_unique) - set(ema_unique)\n",
    "unique_to_ema = set(ema_unique) - set(questionnaires_unique)\n",
    "\n",
    "# Print values unique to each dataframe\n",
    "print(\"Values unique to df_questionnaires:\")\n",
    "print(unique_to_questionnaires)\n",
    "\n",
    "print(\"\\nValues unique to df_ema:\")\n",
    "print(unique_to_ema)"
   ]
  },
  {
   "cell_type": "code",
   "execution_count": 90,
   "id": "7208f922-b21d-4c9b-92d8-0a1d7ab20ba9",
   "metadata": {
    "tags": []
   },
   "outputs": [],
   "source": [
    "# MOve the subject ID to the left side of the dataframe\n",
    "subject_id_roman = df_ema['Subject_ID_Roman']\n",
    "\n",
    "# Drop the \"Subject_ID_Roman\" column from the original DataFrame\n",
    "df_ema = df_ema.drop('Subject_ID_Roman', axis=1)\n",
    "\n",
    "# Insert the \"Subject_ID_Roman\" column at the beginning (left) of the DataFrame\n",
    "df_ema.insert(0, 'Subject_ID_Roman', subject_id_roman)\n"
   ]
  },
  {
   "cell_type": "markdown",
   "id": "61852fac-47a9-448b-962f-36ffda1f9e34",
   "metadata": {},
   "source": [
    "##### Merge with the questionnaires dataframe"
   ]
  },
  {
   "cell_type": "code",
   "execution_count": 91,
   "id": "c7d007b1-5205-4e39-b98e-7bfa064552ce",
   "metadata": {
    "tags": []
   },
   "outputs": [],
   "source": [
    "df_ema = df_ema.merge(\n",
    "    df_id_mapping[['ID - Ethica EMA', 'Subject_ID_Roman']],\n",
    "    left_on='ID - Ethica EMA',\n",
    "    right_on='ID - Ethica EMA',\n",
    "    how='left',\n",
    "    suffixes=('_left', '_right')\n",
    ")"
   ]
  },
  {
   "cell_type": "code",
   "execution_count": null,
   "id": "3e16348e-1178-4ce7-a8be-061b88588e73",
   "metadata": {
    "tags": []
   },
   "outputs": [],
   "source": [
    "df_ema.head(220).tail(2)"
   ]
  },
  {
   "cell_type": "markdown",
   "id": "cddb3c3f-8faa-47a2-bd9a-ccbb8e750be8",
   "metadata": {},
   "source": [
    "#### Create index for each rows for joining with dependent var df later on"
   ]
  },
  {
   "cell_type": "code",
   "execution_count": 93,
   "id": "646e0086-1e7a-48cb-99ed-d2a8eb5473b3",
   "metadata": {
    "tags": []
   },
   "outputs": [],
   "source": [
    "df_ema['initial_index_ema'] = range(len(df_ema))"
   ]
  },
  {
   "cell_type": "code",
   "execution_count": null,
   "id": "536ef6cc-6404-42dc-86e6-6daf59be51c9",
   "metadata": {
    "tags": []
   },
   "outputs": [],
   "source": [
    "df_ema.head(3)"
   ]
  },
  {
   "cell_type": "code",
   "execution_count": 95,
   "id": "ed0f2585-6fa5-4b39-9d16-7ab9f9b30282",
   "metadata": {
    "tags": []
   },
   "outputs": [],
   "source": [
    "df_ema['Issued_minus_scheduled_time'] = (df_ema['Issued Time'] - df_ema['Scheduled Time']).dt.total_seconds()\n",
    "filtered_df = df_ema[df_ema['Issued_minus_scheduled_time'] > 1.0]"
   ]
  },
  {
   "cell_type": "code",
   "execution_count": null,
   "id": "b364e29b-e6d3-4b79-bd64-f89687912cf7",
   "metadata": {},
   "outputs": [],
   "source": [
    "df_ema.head(220).tail(2)"
   ]
  },
  {
   "cell_type": "code",
   "execution_count": null,
   "id": "3aab2dbd-fa90-4be1-aa71-4554ec836d3f",
   "metadata": {
    "tags": []
   },
   "outputs": [],
   "source": [
    "non_zero_count = (df_ema['Issued_minus_scheduled_time'] > 1).sum()\n",
    "non_zero_count"
   ]
  },
  {
   "cell_type": "markdown",
   "id": "fe8945c7-4dae-498a-89d3-6284791a4033",
   "metadata": {},
   "source": [
    "# Feature engineering"
   ]
  },
  {
   "cell_type": "markdown",
   "id": "093eb28f-2950-48a8-b5dd-c8c5aac117bc",
   "metadata": {},
   "source": [
    "#### Buidling time of the day feature"
   ]
  },
  {
   "cell_type": "markdown",
   "id": "dcd2bd42-22be-4816-9df0-543ed2346d28",
   "metadata": {},
   "source": [
    "Labelling:\n",
    "1: 8-10.30am\n",
    "2: 10.30am-1pm\n",
    "3: 1-23.30pm\n",
    "4: 3.30pm-6pm\n",
    "5: 6-8.30pm\n",
    "6: 8.30-12am"
   ]
  },
  {
   "cell_type": "code",
   "execution_count": 98,
   "id": "478ea093-2290-4f7c-bf82-4e016f57c4c9",
   "metadata": {
    "tags": []
   },
   "outputs": [],
   "source": [
    "\n",
    "# Assuming \"issued time\" is in datetime format\n",
    "df_ema['time of the day'] = pd.cut(df_ema['Scheduled Time'].dt.hour*60 + df_ema['Scheduled Time'].dt.minute, \n",
    "                                   bins=np.array([0,1,2,3,4,5,6,7,8.1,9,10,11,12,13.2,14,15,16,17,18,19.2,20,21,22,23,24])*60,\n",
    "                                   labels=[0, 1, 2, 3, 4, 5, 6, 7,8,9,10,11,12,13,14,15,16,17,18,19,20,21,22,23],\n",
    "                                   include_lowest=True)\n",
    "\n"
   ]
  },
  {
   "cell_type": "code",
   "execution_count": 99,
   "id": "ba59ffe8-232d-4124-964b-1cd2e5234e56",
   "metadata": {
    "tags": []
   },
   "outputs": [],
   "source": [
    "# Extract hour and minute from the timestamp\n",
    "df_ema['hour'] = df_ema['Scheduled Time'].dt.hour\n",
    "df_ema['minute'] = df_ema['Scheduled Time'].dt.minute\n",
    "\n",
    "# Combine hour and minute to represent time in minutes\n",
    "df_ema['time_in_minutes'] = df_ema['hour'] * 60 + df_ema['minute']"
   ]
  },
  {
   "cell_type": "code",
   "execution_count": 100,
   "id": "2c4d95ed-ceb2-4b6c-a5ba-22942e31b03a",
   "metadata": {
    "tags": []
   },
   "outputs": [],
   "source": [
    "import pandas as pd\n",
    "\n",
    "# Assuming \"issued time\" is in datetime format\n",
    "df_ema['time_of_the_day_categories'] = pd.cut(\n",
    "    df_ema['Scheduled Time'].dt.hour * 60 + df_ema['Scheduled Time'].dt.minute,\n",
    "    bins=[-1, 479, 629,779, 929, 1079, 1199, 1439],  # The upper bounds represent the end of each time category\n",
    "    labels=[0, 1, 2, 3, 4, 5, 6],  # The assigned values for each time category\n",
    "    include_lowest=True\n",
    ")\n"
   ]
  },
  {
   "cell_type": "code",
   "execution_count": 101,
   "id": "a1d2924f-e12a-4765-a428-a96ea610a686",
   "metadata": {},
   "outputs": [],
   "source": [
    "import pandas as pd\n",
    "\n",
    "# Assuming \"issued time\" is in datetime format\n",
    "df_ema['time_of_the_day_categories_dummy_no_last_p'] = pd.cut(\n",
    "    df_ema['Scheduled Time'].dt.hour * 60 + df_ema['Scheduled Time'].dt.minute,\n",
    "    bins=[-1, 479, 629,779, 929, 1079],  # The upper bounds represent the end of each time category\n",
    "    labels=[0, 1, 2, 3, 4],  # The assigned values for each time category\n",
    "    include_lowest=True\n",
    ")\n"
   ]
  },
  {
   "cell_type": "code",
   "execution_count": 102,
   "id": "18ebdd8f-47a8-42ba-b84a-9d72a3f552ef",
   "metadata": {},
   "outputs": [],
   "source": [
    "import pandas as pd\n",
    "\n",
    "# Assuming \"issued time\" is in datetime format\n",
    "df_ema['time_of_the_day_categories_dummy'] = pd.cut(\n",
    "    df_ema['Scheduled Time'].dt.hour * 60 + df_ema['Scheduled Time'].dt.minute,\n",
    "    bins=[-1, 479, 629,779, 929, 1079, 1199],  # The upper bounds represent the end of each time category\n",
    "    labels=[0, 1, 2, 3, 4, 5],  # The assigned values for each time category\n",
    "    include_lowest=True\n",
    ")\n"
   ]
  },
  {
   "cell_type": "code",
   "execution_count": 103,
   "id": "238921ee-7d60-41b7-bc9f-fb5734aa83c9",
   "metadata": {},
   "outputs": [],
   "source": [
    "dummy_df = pd.get_dummies(df_ema['time_of_the_day_categories'], prefix='time_of_day')\n",
    "\n",
    "# Rename the columns\n",
    "dummy_df.columns = [\n",
    "    'time_of_day_nighttime',\n",
    "    'time_of_day_8_to_930',\n",
    "    'time_of_day_1030_to_12',\n",
    "    'time_of_day_13_to_1430',\n",
    "    'time_of_day_1530_to_17',\n",
    "    'time_of_day_18_to_1930',\n",
    "    'time_of_day_2030_to_2130'\n",
    "]\n",
    "\n",
    "# Concatenate the dummy variables with the original DataFrame\n",
    "df_ema = pd.concat([df_ema, dummy_df], axis=1)"
   ]
  },
  {
   "cell_type": "code",
   "execution_count": null,
   "id": "97773c63-afa8-4394-a8fb-05e4fdfeacb2",
   "metadata": {},
   "outputs": [],
   "source": [
    "result = df_ema.groupby(['Subject_ID_Roman_left', 'time_of_the_day_categories']).size().reset_index(name='count')"
   ]
  },
  {
   "cell_type": "code",
   "execution_count": null,
   "id": "2d83c3ff-4b8f-433d-9acb-f3ce14b6ff35",
   "metadata": {},
   "outputs": [],
   "source": [
    "users_with_value_0 = df_ema[df_ema['time_of_the_day_categories'] == 0]['Subject_ID_Roman_left'].unique()\n",
    "\n",
    "# Count the number of users\n",
    "num_users_with_value_0 = len(users_with_value_0)\n",
    "\n",
    "print(\"Number of users with at least one occurrence of value 0:\", num_users_with_value_0)\n"
   ]
  },
  {
   "cell_type": "markdown",
   "id": "c80e75a6-51ef-41c9-a563-8881124bbcb2",
   "metadata": {},
   "source": []
  },
  {
   "cell_type": "code",
   "execution_count": null,
   "id": "a05a7738-9468-453e-88e5-9de8664cd583",
   "metadata": {},
   "outputs": [],
   "source": [
    "df_ema['Subject_ID_Roman_left'].nunique()"
   ]
  },
  {
   "cell_type": "code",
   "execution_count": null,
   "id": "2fd31d48-2cea-4b21-b4be-c86c9d3e9eab",
   "metadata": {},
   "outputs": [],
   "source": [
    "result = df_ema.groupby(['Subject_ID_Roman_left', 'time_of_the_day_categories']).size().reset_index(name='count')"
   ]
  },
  {
   "cell_type": "code",
   "execution_count": null,
   "id": "931c4d55-def2-4c2f-840b-790d0fbdce4d",
   "metadata": {},
   "outputs": [],
   "source": [
    "df_ema['time_of_the_day_categories'].value_counts()"
   ]
  },
  {
   "cell_type": "code",
   "execution_count": null,
   "id": "849216dd-2aed-447e-bebf-d2e0b1d6a9fd",
   "metadata": {},
   "outputs": [],
   "source": [
    "df_ema['time_of_the_day_categories'].value_counts()"
   ]
  },
  {
   "cell_type": "code",
   "execution_count": null,
   "id": "a26a4ab6-f1e1-430d-943d-75badaa3953c",
   "metadata": {},
   "outputs": [],
   "source": [
    "df_ema['Subject_ID_Roman_left'].nunique()"
   ]
  },
  {
   "cell_type": "code",
   "execution_count": null,
   "id": "601b2dc5-2c81-45d2-a523-2bf85de0d96a",
   "metadata": {},
   "outputs": [],
   "source": [
    "category_counts = df_ema.groupby(['Subject_ID_Roman_left', 'time_of_the_day_categories']).size().unstack(fill_value=0)\n",
    "\n",
    "# Identify subject IDs for each category\n",
    "subjects_category_1 = category_counts[category_counts[1] == 9].index.tolist()\n",
    "subjects_category_2 = category_counts[category_counts[2] == 9].index.tolist()\n",
    "subjects_category_3 = category_counts[category_counts[3] == 9].index.tolist()\n",
    "subjects_category_4 = category_counts[category_counts[4] == 9].index.tolist()\n",
    "subjects_category_5 = category_counts[category_counts[5] == 9].index.tolist()\n",
    "subjects_category_6 = category_counts[category_counts[6] == 9].index.tolist()\n",
    "\n",
    "# Check if there are exactly 9 occurrences for each category\n",
    "are_counts_equal_9 = all(category_counts[i].eq(9).all() for i in range(1, 7))\n",
    "\n",
    "# Combine all subject IDs for each category\n",
    "all_subjects = set(subjects_category_1) & set(subjects_category_2) & set(subjects_category_3) & set(subjects_category_4) & set(subjects_category_5) & set(subjects_category_6)\n",
    "\n",
    "# Create a new object to store the result\n",
    "combined_subjects = list(all_subjects)\n",
    "\n",
    "# Count surveys for participants who do not have exactly 9 surveys in each category\n",
    "excluded_subjects = category_counts.index.difference(combined_subjects)\n",
    "excluded_counts = category_counts.loc[excluded_subjects]\n",
    "\n",
    "# Print the survey counts for excluded participants\n",
    "print(\"Survey counts for participants who do not have exactly 9 surveys in each category:\")\n",
    "print(excluded_counts)\n"
   ]
  },
  {
   "cell_type": "code",
   "execution_count": null,
   "id": "8518aa8a-7717-404b-b824-9934f0a6487f",
   "metadata": {},
   "outputs": [],
   "source": [
    "df_ema['Subject_ID_Roman_left'].nunique()"
   ]
  },
  {
   "cell_type": "code",
   "execution_count": null,
   "id": "383eeac1-ece8-4814-b919-5052d5ffc880",
   "metadata": {},
   "outputs": [],
   "source": [
    "df_ema['Subject_ID_Roman_left'].nunique()"
   ]
  },
  {
   "cell_type": "code",
   "execution_count": null,
   "id": "70e80261-d16a-413c-ab3d-c6e15201d428",
   "metadata": {},
   "outputs": [],
   "source": [
    "len(combined_subjects)"
   ]
  },
  {
   "cell_type": "code",
   "execution_count": 115,
   "id": "d4989f1a-d541-40fd-9428-43867165a9b3",
   "metadata": {},
   "outputs": [],
   "source": [
    "# Combine all subject IDs for each category\n",
    "all_subjects = set(subjects_category_1) & set(subjects_category_2) & set(subjects_category_3) & set(subjects_category_4) & set(subjects_category_5) & set(subjects_category_6)\n",
    "\n",
    "# Identify subject IDs not in all categories\n",
    "not_in_all_categories = set(df_ema['Subject_ID_Roman_left'].unique()) - all_subjects\n",
    "\n",
    "# Create a list of subject IDs not in all categories\n",
    "not_in_all_categories_list = list(not_in_all_categories)\n"
   ]
  },
  {
   "cell_type": "code",
   "execution_count": null,
   "id": "a863012c-f111-459a-8988-31c49b4108c8",
   "metadata": {},
   "outputs": [],
   "source": [
    "len(not_in_all_categories_list)"
   ]
  },
  {
   "cell_type": "code",
   "execution_count": 117,
   "id": "9dedfe36-721a-4ef2-93b1-90159a9ee23c",
   "metadata": {},
   "outputs": [],
   "source": [
    "not_in_all_categories_list = pd.DataFrame(not_in_all_categories_list)\n",
    "not_in_all_categories_list.to_csv(f'../outputs/participant_dropouts_and_timezone_issues.csv', index=False)"
   ]
  },
  {
   "cell_type": "code",
   "execution_count": null,
   "id": "7948bfc9-cde2-4697-a07b-8533fadd44a1",
   "metadata": {},
   "outputs": [],
   "source": [
    "df_ema['Subject_ID_Roman_left'].nunique()"
   ]
  },
  {
   "cell_type": "markdown",
   "id": "2bdd591b-ca6b-45a0-96c4-b04b561c8f05",
   "metadata": {},
   "source": [
    "There are 12 participants who do not have exactly 9 surveys in each category, which we drop now, so from 631 - 12 = 619 participants are now remaining"
   ]
  },
  {
   "cell_type": "code",
   "execution_count": 119,
   "id": "7f0b941a-6a69-442d-b855-1bede2f76283",
   "metadata": {},
   "outputs": [],
   "source": [
    "df_ema = df_ema[df_ema['Subject_ID_Roman_left'].isin(combined_subjects)]"
   ]
  },
  {
   "cell_type": "code",
   "execution_count": null,
   "id": "5282ad39-a215-4a54-85d3-6c1601503a2f",
   "metadata": {
    "tags": []
   },
   "outputs": [],
   "source": [
    "import matplotlib.pyplot as plt\n",
    "\n",
    "# Assuming you have created the 'time_of_the_day_categories' column as described in the adapted code\n",
    "plt.figure(figsize=(10, 6))\n",
    "bins = range(0, int(df_ema['time_in_minutes'].max()) + 60, 1)\n",
    "plt.hist(df_ema['time_in_minutes'], bins=bins, edgecolor='black', alpha=0.7)\n",
    "\n",
    "# Set x-axis ticks to represent hours in a 24-hour format with hourly intervals\n",
    "hour_ticks = range(0, int(df_ema['time_in_minutes'].max()) + 60, 60)\n",
    "hour_labels = ['12a', '1a', '2a', '3a', '4a', '5a', '6a', '7a', '8a', '9a', '10a', '11a', '12p', '1p', '2p', '3p', '4p', '5p', '6p', '7p', '8p', '9p', '10p', '11p', '12a']\n",
    "\n",
    "# Add vertical lines for each time category boundary\n",
    "category_boundaries = [480, 630, 780, 930, 1080, 1200]\n",
    "for i, boundary in enumerate(category_boundaries):\n",
    "    plt.axvline(boundary, color='red', linestyle='--', linewidth=1)\n",
    "    plt.text(boundary + 5, plt.ylim()[1] * 0.95, str(i + 1), color='red', fontweight='bold')\n",
    "\n",
    "# Labeling the plot\n",
    "plt.title('Frequency Plot of Prompt Timings with Category Boundaries')\n",
    "plt.xlabel('Time of the day')\n",
    "plt.ylabel('Number of Prompt')\n",
    "\n",
    "# Show the plot\n",
    "plt.show()\n"
   ]
  },
  {
   "cell_type": "code",
   "execution_count": null,
   "id": "159e21dc-7086-4408-97a2-7748451bfcb8",
   "metadata": {
    "tags": []
   },
   "outputs": [],
   "source": [
    "# Assuming you have created the 'time_of_the_day_categories' column as described in the previous response\n",
    "time_of_day_counts = df_ema['time_of_the_day_categories'].value_counts()\n",
    "\n",
    "# Define explanations for each category\n",
    "category_explanations = {\n",
    "    0: '12am - 8am',\n",
    "    1: '8am - 10:29am',\n",
    "    2: '10:30am - 12:59pm',\n",
    "    3: '1pm - 3:29pm',\n",
    "    4: '3:30pm - 5:59pm',\n",
    "    5: '6pm - 8:29pm',\n",
    "    6: '8:30pm - 11:59pm'\n",
    "}\n",
    "\n",
    "# Sort the counts based on the category\n",
    "sorted_counts = time_of_day_counts.sort_index()\n",
    "\n",
    "# Display the counts and their corresponding categories with explanations\n",
    "print(\"Time of the Day Categories:\")\n",
    "for category, count in sorted_counts.items():\n",
    "    explanation = category_explanations[category]\n",
    "    print(f\"Category {category}: {explanation} - Count: {count}\")\n"
   ]
  },
  {
   "cell_type": "markdown",
   "id": "0882600a-9d45-4193-a582-a85597517787",
   "metadata": {},
   "source": [
    "#### Build sleep quality feature"
   ]
  },
  {
   "cell_type": "code",
   "execution_count": 122,
   "id": "74ef28ae-22eb-42a7-8e17-aff9fb4c489a",
   "metadata": {
    "tags": []
   },
   "outputs": [],
   "source": [
    "# Create a new column 'sleep_quality' and assign values from '[1_VAS] How would you rate your overall sleep quality?&nb'\n",
    "df_ema['sleep_quality'] = df_ema['[1_VAS]  How would you rate your overall sleep quality?&nb']\n",
    "\n",
    "# Convert 'Issued Time' to datetime if it's not already\n",
    "df_ema['Issued Time'] = pd.to_datetime(df_ema['Issued Time'])\n",
    "\n",
    "# Sort DataFrame by 'Issued Time'\n",
    "df_ema = df_ema.sort_values(by='Issued Time')\n",
    "\n",
    "# Iterate over unique participant IDs\n",
    "for participant_id in df_ema['Subject_ID_Roman_x'].unique():\n",
    "    # Select rows for the current participant\n",
    "    participant_df = df_ema[df_ema['Subject_ID_Roman_x'] == participant_id].copy()  # Make a copy to avoid SettingWithCopyWarning\n",
    "    \n",
    "    # Forward-fill the sleep quality values within each date group for the current participant\n",
    "    participant_df['sleep_quality'] = participant_df.groupby(participant_df['Issued Time'].dt.date)['sleep_quality'].transform(lambda x: x.ffill().bfill())\n",
    "    \n",
    "    # Update the original DataFrame with the modified values\n",
    "    df_ema.loc[participant_df.index, 'sleep_quality'] = participant_df['sleep_quality']\n"
   ]
  },
  {
   "cell_type": "code",
   "execution_count": null,
   "id": "a931c8fc-6116-41ce-8d05-2ae4798f83f7",
   "metadata": {
    "tags": []
   },
   "outputs": [],
   "source": [
    "df_ema.head()"
   ]
  },
  {
   "cell_type": "code",
   "execution_count": null,
   "id": "738424cf-c821-4c1e-9d88-2204b0635818",
   "metadata": {
    "tags": []
   },
   "outputs": [],
   "source": [
    "df_ema['sleep_quality'].value_counts()"
   ]
  },
  {
   "cell_type": "code",
   "execution_count": null,
   "id": "f35277ab-66e9-43e5-b2b9-c3eb1ddf6597",
   "metadata": {
    "tags": []
   },
   "outputs": [],
   "source": [
    "df_ema['sleep_quality'].isna().sum()"
   ]
  },
  {
   "cell_type": "code",
   "execution_count": null,
   "id": "0e801da4-df5b-477b-95ff-ad0f0f82d5f6",
   "metadata": {
    "tags": []
   },
   "outputs": [],
   "source": [
    "df_ema['sleep_quality'].notna().sum()"
   ]
  },
  {
   "cell_type": "code",
   "execution_count": null,
   "id": "9c915c02-d12f-4af8-b090-e8bc83317ecd",
   "metadata": {
    "tags": []
   },
   "outputs": [],
   "source": []
  },
  {
   "cell_type": "code",
   "execution_count": null,
   "id": "1d538861-7c7f-499c-ac6c-902ff7889526",
   "metadata": {
    "tags": []
   },
   "outputs": [],
   "source": [
    "df_ema.head()"
   ]
  },
  {
   "cell_type": "markdown",
   "id": "7906069e-893c-43dc-bb1a-037180841e2d",
   "metadata": {
    "tags": []
   },
   "source": [
    "#### Build number of study survey feature"
   ]
  },
  {
   "cell_type": "code",
   "execution_count": 128,
   "id": "04aa03b5-5ae1-41ad-a6a2-5e45f425757e",
   "metadata": {
    "tags": []
   },
   "outputs": [],
   "source": [
    "df_ema['Issued Time'] = pd.to_datetime(df_ema['Issued Time'])  # Convert to datetime if not already\n",
    "\n",
    "# Initialize a new column 'number of survey'\n",
    "df_ema['number_of_survey'] = 0\n",
    "\n",
    "# Iterate through each unique participant ID\n",
    "for participant_id in df_ema['Subject_ID_Roman_x'].unique():\n",
    "    # Filter rows for the current participant\n",
    "    participant_rows = df_ema[df_ema['Subject_ID_Roman_x'] == participant_id]\n",
    "    \n",
    "    # Sort the participant rows based on 'issued time'\n",
    "    sorted_rows = participant_rows.sort_values(by='Issued Time')\n",
    "    \n",
    "    # Assign 'number of survey' based on the sorted order\n",
    "    df_ema.loc[sorted_rows.index, 'number_of_survey'] = range(1, len(sorted_rows) + 1)\n"
   ]
  },
  {
   "cell_type": "code",
   "execution_count": null,
   "id": "a40e761b-05c2-4c44-9153-14720d88b8ee",
   "metadata": {},
   "outputs": [],
   "source": [
    "user_category_counts = df_ema.groupby('Subject_ID_Roman_x')['number_of_survey'].nunique()\n",
    "\n",
    "# Check if all users have exactly one of all 54 categories\n",
    "all_categories_present = all(user_category_counts == 54)\n",
    "\n",
    "if all_categories_present:\n",
    "    print(\"Every user has exactly one of all 54 categories.\")\n",
    "else:\n",
    "    print(\"Not every user has exactly one of all 54 categories.\")\n"
   ]
  },
  {
   "cell_type": "code",
   "execution_count": null,
   "id": "58ae4dde-31f0-4b3f-9339-dc01b76e2e9a",
   "metadata": {},
   "outputs": [],
   "source": [
    "df_ema['number_of_survey'].value_counts()"
   ]
  },
  {
   "cell_type": "markdown",
   "id": "ffe106bc-1c9a-4a53-b26f-39ccba9969e0",
   "metadata": {},
   "source": [
    "#### Build day in study/days of monitoring feature"
   ]
  },
  {
   "cell_type": "code",
   "execution_count": null,
   "id": "593e39a0-391d-456e-8c2d-098289b89c15",
   "metadata": {
    "tags": []
   },
   "outputs": [],
   "source": [
    "# Count rows with non-normal time stamps (NaT values)\n",
    "non_normal_count = df_ema['Issued Time'].isna().sum()\n",
    "\n",
    "print(f\"Number of rows with non-normal time stamps: {non_normal_count}\")"
   ]
  },
  {
   "cell_type": "code",
   "execution_count": null,
   "id": "98ca4847-3a12-4b21-ad46-e560961279ab",
   "metadata": {
    "tags": []
   },
   "outputs": [],
   "source": [
    "# Count rows with non-normal time stamps (NaT values)\n",
    "non_normal_count = df_ema['Scheduled Time'].isna().sum()\n",
    "\n",
    "print(f\"Number of rows with non-normal time stamps: {non_normal_count}\")"
   ]
  },
  {
   "cell_type": "code",
   "execution_count": null,
   "id": "562ab186-1c55-4aca-b90f-d9cf6e266ed0",
   "metadata": {
    "tags": []
   },
   "outputs": [],
   "source": [
    "df_ema['Issued Time'] = pd.to_datetime(df_ema['Issued Time'])\n",
    "\n",
    "# Group by 'Subject_ID_Roman_x'\n",
    "for participant_id, data in tqdm(df_ema.groupby('Subject_ID_Roman_x')):\n",
    "    # Filter out rows with valid 'Issued Time'\n",
    "    data = data.dropna(subset=['Issued Time'])\n",
    "\n",
    "    if not data.empty:  # Proceed if there's data after dropping NaT values\n",
    "        unique_dates = sorted(data['Issued Time'].dt.date.unique())\n",
    "        date_label_mapping = {date: i + 1 for i, date in enumerate(unique_dates)}\n",
    "        data['day_of_monitoring'] = data['Issued Time'].dt.date.map(date_label_mapping)\n",
    "        df_ema.loc[data.index, 'day_of_monitoring'] = data['day_of_monitoring']\n"
   ]
  },
  {
   "cell_type": "code",
   "execution_count": null,
   "id": "9098c6f8-e091-4275-b3b2-04b1f96cef7a",
   "metadata": {
    "tags": []
   },
   "outputs": [],
   "source": [
    "df_ema['day_of_monitoring'].value_counts()"
   ]
  },
  {
   "cell_type": "code",
   "execution_count": null,
   "id": "b2cbe506-94a1-4c72-84c3-3689ea9d71e3",
   "metadata": {},
   "outputs": [],
   "source": [
    "category_counts = df_ema.groupby(['Subject_ID_Roman_left', 'day_of_monitoring']).size().unstack(fill_value=0)\n",
    "\n",
    "# Identify subject IDs for each category\n",
    "subjects_category_1 = category_counts[category_counts[1] != 6].index.tolist()\n",
    "subjects_category_2 = category_counts[category_counts[2] != 6].index.tolist()\n",
    "subjects_category_3 = category_counts[category_counts[3] != 6].index.tolist()\n",
    "subjects_category_4 = category_counts[category_counts[4] != 6].index.tolist()\n",
    "subjects_category_5 = category_counts[category_counts[5] != 6].index.tolist()\n",
    "subjects_category_6 = category_counts[category_counts[6] != 6].index.tolist()\n",
    "subjects_category_7 = category_counts[category_counts[7] != 6].index.tolist()\n",
    "subjects_category_8 = category_counts[category_counts[8] != 6].index.tolist()\n",
    "subjects_category_9 = category_counts[category_counts[9] != 6].index.tolist()\n",
    "\n",
    "# Combine all subject IDs for each category\n",
    "all_subjects = set(subjects_category_1) | set(subjects_category_2) | set(subjects_category_3) | set(subjects_category_4) | set(subjects_category_5) | set(subjects_category_6) | set(subjects_category_7) | set(subjects_category_8) | set(subjects_category_9)\n",
    "\n",
    "# Create a new object to store the result\n",
    "combined_subjects = list(all_subjects)\n",
    "\n",
    "# Count the number of surveys for each participant in each category\n",
    "survey_counts = {}\n",
    "for subject in combined_subjects:\n",
    "    survey_counts[subject] = {}\n",
    "    for category in range(1, 10):\n",
    "        if subject in category_counts.index:\n",
    "            survey_counts[subject][category] = category_counts.loc[subject, category]\n",
    "        else:\n",
    "            survey_counts[subject][category] = 0\n",
    "\n",
    "# Print the survey counts for each participant in each category\n",
    "for subject, counts in survey_counts.items():\n",
    "    print(f\"Subject ID: {subject}\")\n",
    "    for category, count in counts.items():\n",
    "        print(f\"Category {category}: {count} surveys\")\n",
    "    print()\n"
   ]
  },
  {
   "cell_type": "code",
   "execution_count": 136,
   "id": "7065db20-d6ef-4890-8e05-cc0ed68c3293",
   "metadata": {},
   "outputs": [],
   "source": [
    "category_counts = df_ema.groupby(['Subject_ID_Roman_left', 'day_of_monitoring']).size().unstack(fill_value=0)\n",
    "# Identify subject IDs for each category\n",
    "subjects_category_1 = category_counts[category_counts[1] == 6].index.tolist()\n",
    "subjects_category_2 = category_counts[category_counts[2] == 6].index.tolist()\n",
    "subjects_category_3 = category_counts[category_counts[3] == 6].index.tolist()\n",
    "subjects_category_4 = category_counts[category_counts[4] == 6].index.tolist()\n",
    "subjects_category_5 = category_counts[category_counts[5] == 6].index.tolist()\n",
    "subjects_category_6 = category_counts[category_counts[6] == 6].index.tolist()\n",
    "subjects_category_7 = category_counts[category_counts[7] == 6].index.tolist()\n",
    "subjects_category_8 = category_counts[category_counts[8] == 6].index.tolist()\n",
    "subjects_category_9 = category_counts[category_counts[9] == 6].index.tolist()\n",
    "# Check if there are exactly 9 occurrences for each category\n",
    "are_counts_equal_9 = all(category_counts[i].eq(6).all() for i in range(1, 10))"
   ]
  },
  {
   "cell_type": "code",
   "execution_count": 137,
   "id": "7ef99ba0-4aa0-4838-b3a6-9f887b15bf26",
   "metadata": {},
   "outputs": [],
   "source": [
    "# Combine all subject IDs for each category\n",
    "all_subjects = set(subjects_category_1) & set(subjects_category_2) & set(subjects_category_3) & set(subjects_category_4) & set(subjects_category_5) & set(subjects_category_6) & set(subjects_category_7) & set(subjects_category_8) & set(subjects_category_9)\n",
    "# Create a new object to store the result\n",
    "combined_subjects = list(all_subjects)"
   ]
  },
  {
   "cell_type": "code",
   "execution_count": null,
   "id": "79ecc141-4180-4ff9-a97f-24ded4b6a60c",
   "metadata": {},
   "outputs": [],
   "source": [
    "len(combined_subjects)"
   ]
  },
  {
   "cell_type": "code",
   "execution_count": 139,
   "id": "ed933747-79a7-41ef-8815-5a202a401672",
   "metadata": {},
   "outputs": [],
   "source": [
    "# Combine all subject IDs for each category\n",
    "all_subjects = set(subjects_category_1) & set(subjects_category_2) & set(subjects_category_3) & set(subjects_category_4) & set(subjects_category_5) & set(subjects_category_6) & set(subjects_category_7) & set(subjects_category_8) & set(subjects_category_9) \n",
    "\n",
    "# Identify subject IDs not in all categories\n",
    "not_in_all_categories = set(df_ema['Subject_ID_Roman_left'].unique()) - all_subjects\n",
    "\n",
    "# Create a list of subject IDs not in all categories\n",
    "not_in_all_categories_list = list(not_in_all_categories)"
   ]
  },
  {
   "cell_type": "code",
   "execution_count": null,
   "id": "597b6a4d-12b2-42c4-9554-578f4fc40b0c",
   "metadata": {},
   "outputs": [],
   "source": [
    "print(not_in_all_categories)"
   ]
  },
  {
   "cell_type": "code",
   "execution_count": null,
   "id": "f33b759b-f458-4b04-ab87-999010779702",
   "metadata": {},
   "outputs": [],
   "source": [
    "len(not_in_all_categories_list)"
   ]
  },
  {
   "cell_type": "code",
   "execution_count": 142,
   "id": "3121d561-3b36-489b-9879-3b8416f3fcab",
   "metadata": {},
   "outputs": [],
   "source": [
    "not_in_all_categories_list = pd.DataFrame(not_in_all_categories_list)\n",
    "not_in_all_categories_list.to_csv(f'../outputs/participant_not_all_surveys_issued_or_10_days.csv', index=False)"
   ]
  },
  {
   "cell_type": "code",
   "execution_count": 143,
   "id": "f284c14d-c225-4e97-8896-9ca52d5d0693",
   "metadata": {},
   "outputs": [],
   "source": [
    "# Filter the df_ema DataFrame based on the subject IDs in not_in_all_categories_list\n",
    "df_ema_filtered = df_ema[df_ema['Subject_ID_Roman_x'].isin(not_in_all_categories_list)]\n",
    "\n",
    "# Sort the filtered DataFrame by Participant ID and Issued Time\n",
    "df_ema_filtered_sorted = df_ema_filtered.sort_values(['Subject_ID_Roman_x', 'Issued Time'])\n",
    "\n",
    "# Reset the index of the sorted DataFrame\n",
    "df_ema_filtered_sorted_reindexed = df_ema_filtered_sorted.reset_index(drop=True)\n",
    "\n",
    "# Create a boolean mask for participant IDs with at least one row having NaT value in 'Issued Time'\n",
    "mask = df_ema_filtered_sorted_reindexed.groupby('Subject_ID_Roman_x')['Issued Time'].transform(lambda x: x.isnull().any())\n",
    "\n",
    "# Filter the DataFrame based on the mask\n",
    "df_filtered_missing_issued_time = df_ema_filtered_sorted_reindexed[mask]\n",
    "df_filtered_other_issue = df_ema_filtered_sorted_reindexed[~mask]\n"
   ]
  },
  {
   "cell_type": "markdown",
   "id": "08411a82-eb44-461b-bf8d-1bfcbb3fcfd6",
   "metadata": {},
   "source": [
    "From 619 users 37 users did not have exactly 9 values in the day_of_monitoring category, so remaining now are: 619-37 = 582 users"
   ]
  },
  {
   "cell_type": "code",
   "execution_count": 144,
   "id": "fa4e4370-520b-423f-af80-ac1ccd321f7f",
   "metadata": {},
   "outputs": [],
   "source": [
    "df_ema = df_ema[df_ema['Subject_ID_Roman_left'].isin(combined_subjects)]\n"
   ]
  },
  {
   "cell_type": "code",
   "execution_count": null,
   "id": "0f2f34be-98a9-452c-92d8-0755a1c25176",
   "metadata": {},
   "outputs": [],
   "source": [
    "len(df_ema)"
   ]
  },
  {
   "cell_type": "code",
   "execution_count": null,
   "id": "d026c6d7-abe2-4fd4-977e-6f769c341b4b",
   "metadata": {},
   "outputs": [],
   "source": [
    "df_ema['day_of_monitoring'].value_counts()"
   ]
  },
  {
   "cell_type": "code",
   "execution_count": null,
   "id": "4b321c0d-a097-49e2-8190-d8f3240745cb",
   "metadata": {},
   "outputs": [],
   "source": [
    "df_ema['Subject_ID_Roman_x'].nunique()"
   ]
  },
  {
   "cell_type": "markdown",
   "id": "f8bd7f94-d6d7-4e23-96cb-55ed5c6c7749",
   "metadata": {},
   "source": [
    "#### Build day of the week feature"
   ]
  },
  {
   "cell_type": "code",
   "execution_count": 148,
   "id": "990f73f1-e5ee-438e-b846-bbc81ce5367e",
   "metadata": {
    "tags": []
   },
   "outputs": [],
   "source": [
    "df_ema['day_of_the_week'] = df_ema['Issued Time'].dt.dayofweek + 1"
   ]
  },
  {
   "cell_type": "code",
   "execution_count": null,
   "id": "aedd1525-d896-4785-908e-f4056efc3b6f",
   "metadata": {
    "tags": []
   },
   "outputs": [],
   "source": [
    "df_ema['day_of_the_week'].value_counts()"
   ]
  },
  {
   "cell_type": "code",
   "execution_count": null,
   "id": "4cf19542-6838-43e4-a0cc-6fe53742661f",
   "metadata": {
    "tags": []
   },
   "outputs": [],
   "source": [
    "df_ema['day_of_the_week'].isna().sum()"
   ]
  },
  {
   "cell_type": "code",
   "execution_count": null,
   "id": "225ca5d4-8554-4e24-8778-bee765b2ca6a",
   "metadata": {
    "tags": []
   },
   "outputs": [],
   "source": [
    "df_ema['day_of_the_week'].notna().sum()"
   ]
  },
  {
   "cell_type": "code",
   "execution_count": null,
   "id": "c48df05a-b25e-4b5c-b6f1-b7944cf552f5",
   "metadata": {},
   "outputs": [],
   "source": [
    "df_ema.head(2)"
   ]
  },
  {
   "cell_type": "code",
   "execution_count": 153,
   "id": "f39a40f0-c8aa-4206-8c5d-11e869dc146a",
   "metadata": {},
   "outputs": [],
   "source": [
    "day_of_week_dummies = pd.get_dummies(df_ema['day_of_the_week'])\n",
    "\n",
    "# Rename columns to match your specified format\n",
    "day_of_week_dummies.columns = [\n",
    "    'day_of_week_monday',\n",
    "    'day_of_week_tuesday',\n",
    "    'day_of_week_wednesday',\n",
    "    'day_of_week_thursday',\n",
    "    'day_of_week_friday',\n",
    "    'day_of_week_saturday',\n",
    "    'day_of_week_sunday'\n",
    "]\n",
    "\n",
    "# Concatenate the dummy variables with the original DataFrame\n",
    "df_ema = pd.concat([df_ema, day_of_week_dummies], axis=1)\n"
   ]
  },
  {
   "cell_type": "code",
   "execution_count": 154,
   "id": "a22ef83f-2a7a-4290-9f9e-d450ecc7e221",
   "metadata": {},
   "outputs": [],
   "source": [
    "df_ema['day_of_the_week_dummy'] = df_ema['day_of_the_week']\n",
    "\n",
    "# Replace all 1 values with NA in the 'time_of_the_week_dummy' column\n",
    "df_ema.loc[df_ema['day_of_the_week_dummy'] == 1, 'day_of_the_week_dummy'] = pd.NA\n"
   ]
  },
  {
   "cell_type": "code",
   "execution_count": null,
   "id": "355c49b1-32e5-44f4-9247-45ce4f91eb6f",
   "metadata": {},
   "outputs": [],
   "source": [
    "df_ema['day_of_the_week_dummy'].value_counts()"
   ]
  },
  {
   "cell_type": "markdown",
   "id": "83926e57-a3cf-4fce-a28e-8091165139d1",
   "metadata": {},
   "source": [
    "##### Day of Week Bindary (weekday vs. weekend)"
   ]
  },
  {
   "cell_type": "code",
   "execution_count": 156,
   "id": "057011db-918a-4538-b019-9ca2a471bd18",
   "metadata": {},
   "outputs": [],
   "source": [
    "df_ema['day_of_the_week_binary'] = np.where(\n",
    "    df_ema['day_of_the_week'].isin([1, 2, 3, 4, 5]),  # Label as 0 for values 1, 2, 3, 4, 5\n",
    "    0, \n",
    "    np.where(\n",
    "        df_ema['day_of_the_week'].isin([6, 7]),  # Label as 1 for values 6, 7\n",
    "        1,\n",
    "        np.nan  # Preserve NaN values\n",
    "    )\n",
    ")\n"
   ]
  },
  {
   "cell_type": "code",
   "execution_count": null,
   "id": "b7804d57-58a8-4d32-8496-fe49a92ee417",
   "metadata": {},
   "outputs": [],
   "source": [
    "df_ema['day_of_the_week_binary'].value_counts()"
   ]
  },
  {
   "cell_type": "code",
   "execution_count": null,
   "id": "83016800-4b28-4fbe-afdd-36554f71a7f7",
   "metadata": {},
   "outputs": [],
   "source": [
    "df_ema.head(2)"
   ]
  },
  {
   "cell_type": "markdown",
   "id": "6f9e65b5-c0eb-4c72-8339-21ea0d3a11e8",
   "metadata": {},
   "source": [
    "#### Build incentives feature"
   ]
  },
  {
   "cell_type": "markdown",
   "id": "f2a38e4a-02fa-436e-900d-5b0971d79894",
   "metadata": {},
   "source": [
    "Labels incentives:\n",
    "\n",
    "1: Incentive category - 30$ (had at least 1 survey on a date before the 20th of September 2022)\n",
    "\n",
    "0: Incentive category - 20$  (Person joined the study on or after the 20th of September 2022)"
   ]
  },
  {
   "cell_type": "code",
   "execution_count": 159,
   "id": "d5b17f4e-1862-4028-839a-4eabce558eec",
   "metadata": {},
   "outputs": [],
   "source": [
    "df_ema['incentive_category'] = (df_ema['Scheduled Time'] < '2022-09-20').astype(int)\n"
   ]
  },
  {
   "cell_type": "code",
   "execution_count": 160,
   "id": "245a9fb1-5686-4b1b-832b-1e616ac91fde",
   "metadata": {
    "tags": []
   },
   "outputs": [],
   "source": [
    "# Create a mask for rows where 'scheduled time' is before '2023-09-20'\n",
    "mask = df_ema['Scheduled Time'] < '2022-09-20'\n",
    "\n",
    "# Find unique participants meeting the condition\n",
    "participants_with_condition = df_ema.loc[mask, 'Subject_ID_Roman_x'].unique()\n",
    "\n",
    "# Update 'incentive category' based on the condition for each participant\n",
    "for participant in participants_with_condition:\n",
    "    df_ema.loc[df_ema['Subject_ID_Roman_x'] == participant, 'incentive_category'] = 1\n",
    "\n",
    "# Fill NaN values with 0 in the 'incentive category' column\n",
    "df_ema['incentive_category'].fillna(0, inplace=True)\n",
    "\n"
   ]
  },
  {
   "cell_type": "code",
   "execution_count": null,
   "id": "65c3ff26-afaf-49fe-9b99-e6081e844c23",
   "metadata": {
    "tags": []
   },
   "outputs": [],
   "source": [
    "df_ema['incentive_category'].value_counts()"
   ]
  },
  {
   "cell_type": "markdown",
   "id": "e8f56525-17fb-4716-97b4-ab2bda9c3c03",
   "metadata": {},
   "source": [
    "#### Build joining date feature"
   ]
  },
  {
   "cell_type": "code",
   "execution_count": 162,
   "id": "2c3c5aa1-d12c-4cbb-98bc-48deaa962e03",
   "metadata": {
    "tags": []
   },
   "outputs": [],
   "source": [
    "\n",
    "# Create 'joining day' column\n",
    "df_ema['Scheduled Time'] = pd.to_datetime(df_ema['Scheduled Time'])  # Convert to datetime if not already in datetime format\n",
    "df_ema['joining day'] = df_ema['Scheduled Time'].dt.day_name()\n",
    "\n",
    "# Find the oldest 'Scheduled time' for each participant\n",
    "oldest_times = df_ema.groupby('Subject_ID_Roman_x')['Scheduled Time'].min()\n",
    "\n",
    "# Iterate through unique participants to get the oldest 'joining day'\n",
    "for participant, oldest_time in oldest_times.items():\n",
    "    oldest_day = df_ema.loc[(df_ema['Subject_ID_Roman_x'] == participant) & (df_ema['Scheduled Time'] == oldest_time), 'joining day']\n",
    "    if not oldest_day.empty:  # Check if any matching record is found\n",
    "        oldest_day = oldest_day.values[0]  # Extract the value\n",
    "        df_ema.loc[df_ema['Subject_ID_Roman_x'] == participant, 'joining day'] = oldest_day"
   ]
  },
  {
   "cell_type": "code",
   "execution_count": null,
   "id": "846869c0-5296-4000-bb62-a34e99750c52",
   "metadata": {
    "tags": []
   },
   "outputs": [],
   "source": [
    "# Assuming 'df_ema' is your DataFrame and 'Subject_ID_Roman_x' contains participant IDs\n",
    "\n",
    "unique_participant_day_counts = df_ema.groupby(['Subject_ID_Roman_x', 'joining day']).size().reset_index(name='Count')\n",
    "\n",
    "# Count the unique occurrences of each 'joining day'\n",
    "unique_day_counts = unique_participant_day_counts['joining day'].value_counts()\n",
    "\n",
    "unique_day_counts\n"
   ]
  },
  {
   "cell_type": "code",
   "execution_count": null,
   "id": "dc4b81a2-4c26-49b5-a1ff-39ea34b1e00d",
   "metadata": {
    "tags": []
   },
   "outputs": [],
   "source": [
    "# Count the frequencies of each day\n",
    "day_counts = df_ema['joining day'].value_counts()\n",
    "\n",
    "# Plotting the bar chart\n",
    "plt.figure(figsize=(8, 6))\n",
    "day_counts.plot(kind='bar', color='skyblue')\n",
    "plt.title('Frequency of Joining Days')\n",
    "plt.xlabel('Day of the Week')\n",
    "plt.ylabel('Frequency')\n",
    "plt.xticks(rotation=45)  # Rotate x labels for better readability\n",
    "plt.tight_layout()\n",
    "plt.show()"
   ]
  },
  {
   "cell_type": "markdown",
   "id": "26e6e49d-92fc-4014-9ee7-3b9112e6958c",
   "metadata": {},
   "source": [
    "#### Building survey length feature"
   ]
  },
  {
   "cell_type": "code",
   "execution_count": 165,
   "id": "0bc22917-e77a-44fe-96de-7ae408871763",
   "metadata": {
    "tags": []
   },
   "outputs": [],
   "source": [
    "start_column = '[2_MAQ_1] eating/drinking (other than water)'\n",
    "end_column = '[17_MAQ_6] I wanted to please others who wanted me to eat it'\n",
    "\n",
    "# Create a new column \"survey length\" and count non-NaN or non-None values for the specified range of columns\n",
    "df_ema['survey length'] = df_ema.loc[:, start_column:end_column].count(axis=1)\n"
   ]
  },
  {
   "cell_type": "code",
   "execution_count": 166,
   "id": "ad7ddb3f-5e08-4801-ad44-0488bdecb71b",
   "metadata": {
    "tags": []
   },
   "outputs": [],
   "source": [
    "df_ema['survey length'] = df_ema.loc[:, start_column:end_column].apply(lambda row: row.drop('src').count(), axis=1)\n"
   ]
  },
  {
   "cell_type": "markdown",
   "id": "e4ee1732-df7c-4c25-bd38-6f67b5d9e1c2",
   "metadata": {},
   "source": [
    "Survey_length - 4 is done to center the survey length feature"
   ]
  },
  {
   "cell_type": "code",
   "execution_count": 167,
   "id": "1ef7a771-b32f-4436-b447-381d2973d994",
   "metadata": {},
   "outputs": [],
   "source": [
    "df_ema['survey length'] = df_ema['survey length'] - 4"
   ]
  },
  {
   "cell_type": "code",
   "execution_count": null,
   "id": "8aa39036-137e-4fd7-b930-0dd677fc574e",
   "metadata": {},
   "outputs": [],
   "source": [
    "df_ema['survey length'].describe()"
   ]
  },
  {
   "cell_type": "markdown",
   "id": "b5e7d661-362f-4d63-a21f-31d1a3877043",
   "metadata": {},
   "source": [
    "#### Build \"what have you been doing since last prompt?\" - feature as fidelity-check, aka. First_question_length?"
   ]
  },
  {
   "cell_type": "code",
   "execution_count": 169,
   "id": "e25f511b-7063-410f-958c-dd369beca196",
   "metadata": {
    "tags": []
   },
   "outputs": [],
   "source": [
    "start_column = '[2_MAQ_1] eating/drinking (other than water)'\n",
    "end_column = '[2_MAQ_13] praying/meditation'\n",
    "\n",
    "# Create a new column \"survey length\" and count non-NaN or non-None values for the specified range of columns\n",
    "df_ema['First_question_length'] = df_ema.loc[:, start_column:end_column].count(axis=1)\n"
   ]
  },
  {
   "cell_type": "code",
   "execution_count": 170,
   "id": "6e51df3b-848c-4701-a2a7-7b7dd8b06c94",
   "metadata": {},
   "outputs": [],
   "source": [
    "df_ema['nothing'] = df_ema['[2_MAQ_6] nothing\\r'].map({True: 1, False: 0})\n",
    "\n",
    "# Handling None values by replacing them with 0\n",
    "df_ema['nothing'].fillna(0, inplace=True)\n",
    "\n",
    "# Convert the column to integer type\n",
    "df_ema['nothing'] = df_ema['nothing'].astype(int)\n"
   ]
  },
  {
   "cell_type": "code",
   "execution_count": null,
   "id": "aa58bc46-a1ff-404f-b78f-f3bb9bec1209",
   "metadata": {},
   "outputs": [],
   "source": [
    "df_ema['nothing'].value_counts()"
   ]
  },
  {
   "cell_type": "code",
   "execution_count": 172,
   "id": "f3198967-983a-40e1-8543-2875f7f8d443",
   "metadata": {},
   "outputs": [],
   "source": [
    "df_try=df_ema.copy()"
   ]
  },
  {
   "cell_type": "code",
   "execution_count": 173,
   "id": "c56a1285-3c30-45d6-b61b-d0141b8b97bf",
   "metadata": {},
   "outputs": [],
   "source": [
    "df_not = df_ema[df_ema['[2_MAQ_6] nothing\\r'].notna()].copy()"
   ]
  },
  {
   "cell_type": "code",
   "execution_count": null,
   "id": "1f5693d9-ebcd-4580-bffe-5311804ec443",
   "metadata": {},
   "outputs": [],
   "source": [
    "df_not.head(2)"
   ]
  },
  {
   "cell_type": "code",
   "execution_count": null,
   "id": "3e03ece3-d2a5-440d-9ba6-394fb0cda2ab",
   "metadata": {},
   "outputs": [],
   "source": [
    "df_not['First_question_length'].value_counts()"
   ]
  },
  {
   "cell_type": "code",
   "execution_count": null,
   "id": "6d5bf72c-f9a0-4df6-95de-5a79c47e55c7",
   "metadata": {},
   "outputs": [],
   "source": [
    "df_ema.head(2)"
   ]
  },
  {
   "cell_type": "code",
   "execution_count": null,
   "id": "475157c1-d279-4621-9554-87fe38d970ed",
   "metadata": {
    "tags": []
   },
   "outputs": [],
   "source": [
    "df_ema['First_question_length'].value_counts()"
   ]
  },
  {
   "cell_type": "markdown",
   "id": "9ec233a9-f502-44b0-a017-6c2f69709a33",
   "metadata": {},
   "source": [
    "#### Build Social setting feature"
   ]
  },
  {
   "cell_type": "code",
   "execution_count": null,
   "id": "2a971e3d-a957-4838-9df3-10911250ac22",
   "metadata": {
    "tags": []
   },
   "outputs": [],
   "source": [
    "df_ema.head(2)"
   ]
  },
  {
   "cell_type": "code",
   "execution_count": null,
   "id": "51055eba-c11e-46b5-94e6-594dad317979",
   "metadata": {
    "tags": []
   },
   "outputs": [],
   "source": [
    "# Assuming df_ema is your DataFrame\n",
    "# Replace column names accordingly if they are different\n",
    "\n",
    "# Columns of interest\n",
    "columns_25 = [ '[25_MAQ_8] other', '[25_MAQ_7] pet\\r',\n",
    "              '[25_MAQ_6] no one\\r', '[25_MAQ_5] colleagues/fellow students', '[25_MAQ_4] friends\\r',\n",
    "              '[25_MAQ_3] other family members\\r', '[25_MAQ_2] your children\\r', '[25_MAQ_1] spouse/partner\\r']\n",
    "\n",
    "columns_60 = [ '[60_MAQ_8] other', '[60_MAQ_7] pet\\r',\n",
    "              '[60_MAQ_6] no one\\r', '[60_MAQ_5] colleagues\\r', '[60_MAQ_4] friends\\r',\n",
    "              '[60_MAQ_3] other family members\\r', '[60_MAQ_2] your children\\r', '[60_MAQ_1] spouse/partner\\r']\n",
    "\n",
    "columns_58 = [ '[58_MAQ_8] other', '[58_MAQ_7] pet\\r',\n",
    "              '[58_MAQ_6] no one\\r', '[58_MAQ_5] colleagues\\r', '[58_MAQ_4] friends\\r',\n",
    "              '[58_MAQ_3] other family members\\r', '[58_MAQ_2] your children\\r', '[58_MAQ_1] spouse/partner\\r']\n",
    "\n",
    "# Count the number of rows with values in only one column\n",
    "count_only_25 = (df_ema[columns_25].notna().sum(axis=1) == 1).sum()\n",
    "count_only_60 = (df_ema[columns_60].notna().sum(axis=1) == 1).sum()\n",
    "count_only_58 = (df_ema[columns_58].notna().sum(axis=1) == 1).sum()\n",
    "\n",
    "# Count the number of rows with values in two columns\n",
    "count_in_25_and_60 = ((df_ema[columns_25].notna() & df_ema[columns_60].notna()).sum(axis=1) == 2).sum()\n",
    "count_in_25_and_58 = ((df_ema[columns_25].notna() & df_ema[columns_58].notna()).sum(axis=1) == 2).sum()\n",
    "count_in_60_and_58 = ((df_ema[columns_60].notna() & df_ema[columns_58].notna()).sum(axis=1) == 2).sum()\n",
    "\n",
    "# Count the number of rows with values in all three columns\n",
    "count_in_all = ((df_ema[columns_25].notna() & df_ema[columns_60].notna() & df_ema[columns_58].notna()).sum(axis=1) == 3).sum()\n",
    "\n",
    "# Display the counts\n",
    "print(f'Count of rows with values in only one column - 25: {count_only_25}')\n",
    "print(f'Count of rows with values in only one column - 60: {count_only_60}')\n",
    "print(f'Count of rows with values in only one column - 58: {count_only_58}')\n",
    "\n",
    "print(f'Count of rows with values in two columns (25 and 60): {count_in_25_and_60}')\n",
    "print(f'Count of rows with values in two columns (25 and 58): {count_in_25_and_58}')\n",
    "print(f'Count of rows with values in two columns (60 and 58): {count_in_60_and_58}')\n",
    "\n",
    "print(f'Count of rows with values in all three columns: {count_in_all}')\n"
   ]
  },
  {
   "cell_type": "code",
   "execution_count": 180,
   "id": "856f51c4-540c-4d97-b468-c6c95842952c",
   "metadata": {
    "tags": []
   },
   "outputs": [],
   "source": [
    "# Combine values for [MAQ_6] no one\n",
    "df_ema['Social Setting: no one\\r'] = df_ema['[25_MAQ_6] no one\\r'].combine_first(df_ema['[60_MAQ_6] no one\\r']).combine_first(df_ema['[58_MAQ_6] no one\\r'])\n",
    "\n",
    "# Combine values for [MAQ_5] colleagues/fellow students\n",
    "df_ema['Social Setting: colleagues/fellow students'] = df_ema['[25_MAQ_5] colleagues/fellow students'].combine_first(df_ema['[60_MAQ_5] colleagues\\r']).combine_first(df_ema['[58_MAQ_5] colleagues\\r'])\n",
    "\n",
    "# Combine values for [MAQ_4] friends\n",
    "df_ema['Social Setting: friends\\r'] = df_ema['[25_MAQ_4] friends\\r'].combine_first(df_ema['[60_MAQ_4] friends\\r']).combine_first(df_ema['[58_MAQ_4] friends\\r'])\n",
    "\n",
    "# Combine values for [MAQ_3] other family members\n",
    "df_ema['Social Setting: other family members\\r'] = df_ema['[25_MAQ_3] other family members\\r'].combine_first(df_ema['[60_MAQ_3] other family members\\r']).combine_first(df_ema['[58_MAQ_3] other family members\\r'])\n",
    "\n",
    "# Combine values for [MAQ_2] your children\n",
    "df_ema['Social Setting: your children\\r'] = df_ema['[25_MAQ_2] your children\\r'].combine_first(df_ema['[60_MAQ_2] your children\\r']).combine_first(df_ema['[58_MAQ_2] your children\\r'])\n",
    "\n",
    "# Combine values for [MAQ_1] spouse/partner\n",
    "df_ema['Social Setting: spouse/partner\\r'] = df_ema['[25_MAQ_1] spouse/partner\\r'].combine_first(df_ema['[60_MAQ_1] spouse/partner\\r']).combine_first(df_ema['[58_MAQ_1] spouse/partner\\r'])\n",
    "\n",
    "# Combine values for [MAQ_8] other\n",
    "df_ema['Social Setting: other'] = df_ema['[25_MAQ_8] other'].combine_first(df_ema['[60_MAQ_8] other']).combine_first(df_ema['[58_MAQ_8] other'])\n",
    "\n",
    "# Combine values for [MAQ_7] pet\n",
    "df_ema['Social Setting: pet\\r'] = df_ema['[25_MAQ_7] pet\\r'].combine_first(df_ema['[60_MAQ_7] pet\\r']).combine_first(df_ema['[58_MAQ_7] pet\\r'])\n"
   ]
  },
  {
   "cell_type": "code",
   "execution_count": null,
   "id": "54cb3805-1a2d-4b4d-876e-b5cbac767012",
   "metadata": {
    "tags": []
   },
   "outputs": [],
   "source": [
    "# Check the number of rows with at least one value in one of the new columns\n",
    "new_columns = ['Social Setting: no one\\r', 'Social Setting: colleagues/fellow students', \n",
    "               'Social Setting: friends\\r', 'Social Setting: other family members\\r', \n",
    "               'Social Setting: your children\\r', 'Social Setting: spouse/partner\\r', \n",
    "               'Social Setting: other', 'Social Setting: pet\\r']\n",
    "\n",
    "rows_with_values = df_ema[new_columns].any(axis=1).sum()\n",
    "\n",
    "print(f\"Number of record with social settings data: {rows_with_values}\")\n"
   ]
  },
  {
   "cell_type": "code",
   "execution_count": null,
   "id": "24476423-d149-47c6-90e4-5f166a2187ec",
   "metadata": {
    "tags": []
   },
   "outputs": [],
   "source": [
    "\n",
    "# Describe the newly created columns\n",
    "new_columns_description = df_ema[['Social Setting: no one\\r', 'Social Setting: colleagues/fellow students', \n",
    "                                   'Social Setting: friends\\r', 'Social Setting: other family members\\r', \n",
    "                                   'Social Setting: your children\\r', 'Social Setting: spouse/partner\\r', 'Social Setting: other', 'Social Setting: pet\\r']].describe()\n",
    "new_columns_description.head(10)\n",
    "\n"
   ]
  },
  {
   "cell_type": "markdown",
   "id": "4b9d6576-ee5f-4dea-a03a-1671b45f8cac",
   "metadata": {},
   "source": [
    "As we can see above, there are several rows that have overlapping values"
   ]
  },
  {
   "cell_type": "code",
   "execution_count": null,
   "id": "bd96809e-ef49-4630-869c-d7fec2316c05",
   "metadata": {
    "tags": []
   },
   "outputs": [],
   "source": [
    "# Count the number of rows with values in the same columns\n",
    "same_columns_count = df_ema[['[25_MAQ_7] pet\\r', '[60_MAQ_7] pet\\r', '[58_MAQ_7] pet\\r']].count(axis=1)\n",
    "\n",
    "# Count the number of rows with values in only one column\n",
    "one_column_count = same_columns_count[same_columns_count == 1].count()\n",
    "\n",
    "# Count the number of rows with values in two columns\n",
    "two_columns_count = same_columns_count[same_columns_count == 2].count()\n",
    "\n",
    "# Count the number of rows with values in all three columns\n",
    "all_columns_count = same_columns_count[same_columns_count == 3].count()\n",
    "\n",
    "print(f\"Rows with values in the same columns: {all_columns_count}\")\n",
    "print(f\"Rows with values in only one column: {one_column_count}\")\n",
    "print(f\"Rows with values in two columns: {two_columns_count}\")\n"
   ]
  },
  {
   "cell_type": "code",
   "execution_count": null,
   "id": "8cba22c2-025b-4a0c-935f-d46a7a123752",
   "metadata": {
    "tags": []
   },
   "outputs": [],
   "source": [
    "df_ema['[60_MAQ_7] pet\\r'].value_counts()"
   ]
  },
  {
   "cell_type": "code",
   "execution_count": null,
   "id": "3bbd6667-895d-428e-8398-05113c1661f3",
   "metadata": {
    "tags": []
   },
   "outputs": [],
   "source": [
    "df_ema['[58_MAQ_7] pet\\r'].value_counts()"
   ]
  },
  {
   "cell_type": "code",
   "execution_count": null,
   "id": "293c38ae-6716-40be-9ae7-57c1d8be2607",
   "metadata": {
    "tags": []
   },
   "outputs": [],
   "source": [
    "df_ema['[25_MAQ_7] pet\\r'].value_counts()"
   ]
  },
  {
   "cell_type": "code",
   "execution_count": null,
   "id": "1c3f0c16-9f55-4c3d-ae96-98c3d0b994fd",
   "metadata": {
    "tags": []
   },
   "outputs": [],
   "source": [
    "df_ema.head(5)"
   ]
  },
  {
   "cell_type": "markdown",
   "id": "6682bede-242b-4457-8ff6-ec851f3beda9",
   "metadata": {},
   "source": [
    "Finding:\n",
    "1. Values can only in of those 3 questions (questions can never be asked more than once, which avoids repetition or contradiction and is good). \n",
    "2. Only around 3000 rows have even values here, so quite a lot of missing data... --> Would multiple imputation be an option?\n"
   ]
  },
  {
   "cell_type": "markdown",
   "id": "94467320-b6c9-4765-9f39-7e788ea5d505",
   "metadata": {},
   "source": [
    "#### Build Location features"
   ]
  },
  {
   "cell_type": "code",
   "execution_count": null,
   "id": "af937b47-c5dd-434c-9364-8e32413ffb37",
   "metadata": {
    "tags": []
   },
   "outputs": [],
   "source": [
    "rows_with_values_in_both = df_ema[['[29_SAQ]  Where are you right now?', '[42_SAQ]  Where are you right now?']].notna().all(axis=1)\n",
    "\n",
    "# Count the number of rows meeting the criteria\n",
    "count_rows_with_both_values = rows_with_values_in_both.sum()\n",
    "\n",
    "# Display the count\n",
    "print(f'Count of rows with values in both columns: {count_rows_with_both_values}')\n"
   ]
  },
  {
   "cell_type": "code",
   "execution_count": null,
   "id": "8e720ab9-baae-41ee-93f6-a7fdf4477aa7",
   "metadata": {
    "tags": []
   },
   "outputs": [],
   "source": [
    "rows_with_values_in_both = df_ema[['[29_SAQ]  Where are you right now?', '[42_SAQ]  Where are you right now?']].notna().all(axis=1)\n",
    "\n",
    "# Create a new DataFrame with only the rows meeting the criteria\n",
    "df_both_values = df_ema[rows_with_values_in_both].copy()\n",
    "\n",
    "# Display the new DataFrame\n",
    "print(df_both_values[['[29_SAQ]  Where are you right now?', '[42_SAQ]  Where are you right now?']])\n"
   ]
  },
  {
   "cell_type": "markdown",
   "id": "fe356675-d8b1-4ce6-b172-8220e0ed8a7a",
   "metadata": {},
   "source": [
    "--> There seem to be 23 rows which have values in both columns [29_SAQ]  Where are you right now?  [42_SAQ]  Where are you right now? but in almost all instances, the entered values are the same. Therefore, merging both columns to Location_Q seems to have been successful and it can be used as Location-self-report feature. "
   ]
  },
  {
   "cell_type": "markdown",
   "id": "c9701ac9-ab01-4964-ab17-55cc7cb8aa29",
   "metadata": {},
   "source": [
    "Legend labelling - Location Q:\n",
    "1: in my home\n",
    "2: at my work\n",
    "3: somewhere on my commute to work or home\n",
    "4: indoors elsewhere\n",
    "5: outdoors around my home\n",
    "6: outdoors in parks or green space\n",
    "7: ?"
   ]
  },
  {
   "cell_type": "code",
   "execution_count": 190,
   "id": "0321966d-296e-44f6-b4a8-a32f172909b1",
   "metadata": {
    "tags": []
   },
   "outputs": [],
   "source": [
    "column_29_SAQ = '[29_SAQ]  Where are you right now?'\n",
    "column_42_SAQ = '[42_SAQ]  Where are you right now?'\n",
    "\n",
    "# Create a new column Location_Q\n",
    "df_ema['Location_Current_Ordinal'] = df_ema[column_29_SAQ].combine_first(df_ema[column_42_SAQ])\n"
   ]
  },
  {
   "cell_type": "code",
   "execution_count": null,
   "id": "a2d6114c-dcd9-41a6-83c4-872b8812653d",
   "metadata": {
    "tags": []
   },
   "outputs": [],
   "source": [
    "\n",
    "label_mapping = {\n",
    "    1: 'in my home',\n",
    "    2: 'at my work',\n",
    "    3: 'somewhere on my commute to work or home',\n",
    "    4: 'indoors elsewhere',\n",
    "    5: 'outdoors around my home',\n",
    "    6: 'outdoors in parks or green spaces',\n",
    "    7: 'outdoors elsewhere',\n",
    "    8: 'other (please describe)'\n",
    "}\n",
    "\n",
    "print(df_ema['Location_Current_Ordinal'].value_counts().rename(label_mapping))"
   ]
  },
  {
   "cell_type": "code",
   "execution_count": 192,
   "id": "d52bb2eb-e60f-4146-b829-da112b6f66f1",
   "metadata": {},
   "outputs": [],
   "source": [
    "\n",
    "# Mapping of categories\n",
    "category_mapping = {\n",
    "    1: 'location_current_home',\n",
    "    2: 'location_current_work',\n",
    "    3: 'location_current_commute',\n",
    "    4: 'location_current_indoors_elsewhere',\n",
    "    5: 'location_current_home_outside',\n",
    "    6: 'location_current_green_spaces',\n",
    "    7: 'location_current_outdoors_elsewhere',\n",
    "    8: 'location_current_other'\n",
    "}\n",
    "\n",
    "# Create dummy variables with NA handling\n",
    "dummy_columns = pd.get_dummies(df_ema['Location_Current_Ordinal'].map(category_mapping), dummy_na=True)\n",
    "\n",
    "# Concatenate dummy variables to the original DataFrame\n",
    "df_ema = pd.concat([df_ema, dummy_columns], axis=1)\n"
   ]
  },
  {
   "cell_type": "code",
   "execution_count": null,
   "id": "d571c54f-100a-4030-8abb-055a7971ee7e",
   "metadata": {
    "tags": []
   },
   "outputs": [],
   "source": [
    "df_ema['Location_Current_Ordinal'].isna().sum()"
   ]
  },
  {
   "cell_type": "code",
   "execution_count": null,
   "id": "4daa4067-f904-43d6-8684-7578a756387a",
   "metadata": {
    "tags": []
   },
   "outputs": [],
   "source": [
    "\n",
    "print(\"Number of record with social settings data:\", df_ema['Location_Current_Ordinal'].count())"
   ]
  },
  {
   "cell_type": "markdown",
   "id": "ef7814a5-54e6-4775-bd64-0bd8f368828b",
   "metadata": {},
   "source": [
    "#### Exclude all df_ema['time_of_the_day_categories'] = nighttime values as they mess up the auto-correlation analysis"
   ]
  },
  {
   "cell_type": "code",
   "execution_count": 195,
   "id": "152cb902-b8eb-4784-b5c8-01957167084d",
   "metadata": {},
   "outputs": [],
   "source": [
    "df_ema = df_ema[df_ema['time_of_the_day_categories'] != 0 ] "
   ]
  },
  {
   "cell_type": "markdown",
   "id": "7872c929-307d-42f1-9877-4ffd0d8c7ac2",
   "metadata": {},
   "source": [
    "#### Export features df"
   ]
  },
  {
   "cell_type": "code",
   "execution_count": 196,
   "id": "3eeb1655-9cd5-4cab-9feb-0a9b27480f5d",
   "metadata": {
    "tags": []
   },
   "outputs": [],
   "source": [
    "df_ema['Duration (seconds) from scheduled to completion time'] = pd.to_numeric(df_ema['Duration (seconds) from scheduled to completion time'], errors='coerce')"
   ]
  },
  {
   "cell_type": "code",
   "execution_count": 197,
   "id": "d5c15185-4814-466f-9ca6-1cedb7b624b4",
   "metadata": {},
   "outputs": [],
   "source": [
    "df_ema.to_parquet(f'../outputs/targetsEMA_features.parquet', index=False)"
   ]
  },
  {
   "cell_type": "markdown",
   "id": "aa9c0db0-f8ee-46bf-98e8-a842ee370244",
   "metadata": {},
   "source": [
    "#### Export clean"
   ]
  },
  {
   "cell_type": "code",
   "execution_count": null,
   "id": "933e0eac-c606-44f6-a365-05b967ab1c9b",
   "metadata": {
    "tags": []
   },
   "outputs": [],
   "source": [
    "df_ema.head(2)"
   ]
  },
  {
   "cell_type": "code",
   "execution_count": 199,
   "id": "27c9e685-cddd-475b-a9ee-851630ab496e",
   "metadata": {
    "tags": []
   },
   "outputs": [],
   "source": [
    "columns_to_keep = ['Subject_ID_Roman_x', 'initial_index_ema', 'Issued Time', 'response delay', 'response_delay_10min', 'compliance', 'completion_time',  'time of the day', 'hour', 'minute', 'time_in_minutes', 'time_of_the_day_categories', 'time_of_the_day_categories_dummy', 'time_of_the_day_categories_dummy_no_last_p' , 'sleep_quality', 'number_of_survey', 'day_of_monitoring', 'day_of_the_week', 'day_of_the_week_dummy', 'incentive_category', 'joining day', 'survey length', 'First_question_length', 'Social Setting: no one\\r', 'Social Setting: colleagues/fellow students', 'Social Setting: friends\\r', 'Social Setting: other family members\\r', 'Social Setting: your children\\r', 'Social Setting: spouse/partner\\r', 'Social Setting: other', 'Social Setting: pet\\r', '[36_VAS] How stressed do you feel right now?', '[37_VAS]  How hungry do you feel right now?', '[38_VAS] How tired do you feel right now?', '[39_VAS] How happy do you feel right now?','Location_Current_Ordinal', 'location_current_commute', 'location_current_green_spaces', 'location_current_home', 'location_current_home_outside', 'location_current_indoors_elsewhere', 'location_current_other', 'time_of_day_nighttime', 'time_of_day_8_to_930', 'time_of_day_1030_to_12', 'time_of_day_13_to_1430','time_of_day_1530_to_17','time_of_day_18_to_1930','time_of_day_2030_to_2130', 'day_of_week_monday', 'day_of_week_tuesday', 'day_of_week_wednesday', 'day_of_week_thursday', 'day_of_week_friday', 'day_of_week_saturday','day_of_week_sunday', 'day_of_the_week_binary', 'nothing']\n",
    "df_ema = df_ema[columns_to_keep].copy()\n"
   ]
  },
  {
   "cell_type": "code",
   "execution_count": null,
   "id": "8ed4accf-a759-426e-a6ef-60ebac8a127d",
   "metadata": {
    "tags": []
   },
   "outputs": [],
   "source": [
    "df_ema.head(2)"
   ]
  },
  {
   "cell_type": "code",
   "execution_count": null,
   "id": "5f4af0d1-8875-4a7c-bb2b-dc6d0982ec18",
   "metadata": {},
   "outputs": [],
   "source": []
  },
  {
   "cell_type": "code",
   "execution_count": 201,
   "id": "b253d8b7-5eed-4556-8099-fefda29cc9ae",
   "metadata": {},
   "outputs": [],
   "source": [
    "df_ema.rename(columns={\n",
    "    '[36_VAS] How stressed do you feel right now?': 'stress',\n",
    "    '[37_VAS]  How hungry do you feel right now?': 'hunger',\n",
    "    '[38_VAS] How tired do you feel right now?': 'fatigue',\n",
    "    '[39_VAS] How happy do you feel right now?': 'affect'\n",
    "}, inplace=True)\n",
    "\n",
    "# Now df_ema has the columns renamed\n"
   ]
  },
  {
   "cell_type": "code",
   "execution_count": null,
   "id": "ab6f5ec8-230a-43ba-8735-4be8bbf9a140",
   "metadata": {},
   "outputs": [],
   "source": [
    "df_ema.head(2)"
   ]
  },
  {
   "cell_type": "code",
   "execution_count": null,
   "id": "0a55e533-5c76-4e9e-bca4-94fe27794c2a",
   "metadata": {},
   "outputs": [],
   "source": [
    "duplicate_columns = df_ema.columns[df_ema.columns.duplicated()]\n",
    "\n",
    "print(\"Duplicate column names:\", duplicate_columns)\n"
   ]
  },
  {
   "cell_type": "code",
   "execution_count": 204,
   "id": "c94d6c1f-804f-4d69-8260-77a68daa10a4",
   "metadata": {
    "tags": []
   },
   "outputs": [],
   "source": [
    "df_ema.to_parquet(f'../outputs/targetsEMA_features_clean.parquet', index=False)"
   ]
  },
  {
   "cell_type": "code",
   "execution_count": null,
   "id": "8f144fb6-ed49-471f-827e-8f88a156b053",
   "metadata": {},
   "outputs": [],
   "source": [
    "df_ema.head()"
   ]
  },
  {
   "cell_type": "markdown",
   "id": "93cd4246-ac8f-4ad6-ada7-1a1e529e0c0e",
   "metadata": {},
   "source": [
    "# Questionnaire df"
   ]
  },
  {
   "cell_type": "markdown",
   "id": "86af620f-1d2b-4476-8cf5-db142d95b002",
   "metadata": {
    "tags": []
   },
   "source": [
    "## Data Ingestion"
   ]
  },
  {
   "cell_type": "code",
   "execution_count": 206,
   "id": "43db4591-c52d-41e3-b991-023e8083c222",
   "metadata": {
    "tags": []
   },
   "outputs": [],
   "source": [
    "df_questionnaire_sarah = pd.read_excel('../data_questionnaire/COBRA Baseline qn.xlsx')\n",
    "df_questionnaires = pd.read_excel('../data_questionnaire/2023006_COBRA_20230811.xlsx')\n",
    "df_id_mapping = pd.read_excel('../data_ema/COBRA ID Mapping for Roman.xlsx')\n",
    "# df_targets = pd.read_parquet('../outputs/targets.parquet')\n",
    "pd.set_option('display.max_columns', None)\n",
    "pd.set_option('display.max_rows', None)\n"
   ]
  },
  {
   "cell_type": "code",
   "execution_count": 207,
   "id": "c89d6c48-aa12-4427-b55e-6bafe0268066",
   "metadata": {
    "tags": []
   },
   "outputs": [],
   "source": [
    "# Set display options to show all columns and rows\n",
    "pd.set_option('display.max_columns', None)\n",
    "pd.set_option('display.max_rows', None)\n"
   ]
  },
  {
   "cell_type": "code",
   "execution_count": null,
   "id": "68b3d1d8-64c2-4158-9861-3899f547a060",
   "metadata": {
    "tags": []
   },
   "outputs": [],
   "source": [
    "df_questionnaires.head()"
   ]
  },
  {
   "cell_type": "code",
   "execution_count": null,
   "id": "28f65fa9-1572-4a66-99c9-3f3b8356e8ef",
   "metadata": {
    "tags": []
   },
   "outputs": [],
   "source": [
    "df_questionnaire_sarah.head()"
   ]
  },
  {
   "cell_type": "code",
   "execution_count": 210,
   "id": "a48151f1-8dbf-4985-98b5-45f7558da08c",
   "metadata": {
    "tags": []
   },
   "outputs": [],
   "source": [
    "df_questionnaire_all = pd.merge(df_questionnaires, df_questionnaire_sarah, left_on='SubjectID', right_on='Subject_ID', how='right')\n"
   ]
  },
  {
   "cell_type": "code",
   "execution_count": null,
   "id": "204e9c86-3e9c-4ce9-938a-212db977bf9c",
   "metadata": {},
   "outputs": [],
   "source": [
    "df_ema.head()"
   ]
  },
  {
   "cell_type": "code",
   "execution_count": 212,
   "id": "06e21ce5-df29-47e1-9660-63bd6b0fdf9c",
   "metadata": {},
   "outputs": [],
   "source": [
    "df_ema = pd.merge(df_ema, df_questionnaire_all, left_on='Subject_ID_Roman_x', right_on='SubjectID', how='inner')\n"
   ]
  },
  {
   "cell_type": "code",
   "execution_count": null,
   "id": "db7dd92a-9230-4337-9bcb-5defd3042ebd",
   "metadata": {},
   "outputs": [],
   "source": [
    "df_ema.head(30000).tail(5)"
   ]
  },
  {
   "cell_type": "markdown",
   "id": "dfb67531-7fce-40d0-bf35-ec0e83ffea8d",
   "metadata": {
    "tags": []
   },
   "source": [
    "#### Build personality feature"
   ]
  },
  {
   "cell_type": "markdown",
   "id": "5b9eb722-b11f-4cfb-bb0d-6cb5efc1b31e",
   "metadata": {},
   "source": [
    "Legend: \n",
    "a1_personality = is reserved\n",
    "a2 = is generally trusting\n",
    "a3 = tends to be lazy\n",
    "a4 = is relaxed, handles stress well\n",
    "a5 = has few artistic skills\n",
    "a6 = is outgoing, sociable\n",
    "a7 = tends to find faults with others\n",
    "a8 = does a thorough job\n",
    "a9 = gets nervous easily\n",
    "a10 = has an active imagination\n",
    "\n"
   ]
  },
  {
   "cell_type": "code",
   "execution_count": null,
   "id": "b9ddcb6a-ee33-4b10-b543-de1c8e629567",
   "metadata": {
    "tags": []
   },
   "outputs": [],
   "source": [
    "# Assuming df_ema is your DataFrame\n",
    "df_ema['extraversion'] = (df_ema['a6_personality'] + (5 - df_ema['a1_personality']))/2\n",
    "df_ema['agreeableness'] = (df_ema['a2_personality'] + (5 - df_ema['a7_personality']))/2\n",
    "df_ema['conscientiousness'] = (df_ema['a8_personality'] + (5 - df_ema['a3_personality']))/2\n",
    "df_ema['neuroticism'] = (df_ema['a9_personality'] + (5 - df_ema['a4_personality']))/2\n",
    "df_ema['openness'] = (df_ema['a10_personality'] + (5 - df_ema['a5_personality']))/2\n",
    "\n",
    "df_ema.head()\n"
   ]
  },
  {
   "cell_type": "code",
   "execution_count": null,
   "id": "c3023d8d-6e5c-4de9-af9a-5aef824aed7e",
   "metadata": {
    "tags": []
   },
   "outputs": [],
   "source": [
    "df_ema['a1_personality'].value_counts()"
   ]
  },
  {
   "cell_type": "code",
   "execution_count": null,
   "id": "d12f89d4-73a6-4148-91c6-10c55cae83dd",
   "metadata": {
    "tags": []
   },
   "outputs": [],
   "source": [
    "df_ema['extraversion'].value_counts()"
   ]
  },
  {
   "cell_type": "code",
   "execution_count": null,
   "id": "86e83f7a-275f-43c3-b39d-c85b84bd66b3",
   "metadata": {
    "tags": []
   },
   "outputs": [],
   "source": [
    "df_ema['conscientiousness'].value_counts()"
   ]
  },
  {
   "cell_type": "code",
   "execution_count": null,
   "id": "df349268-ca8b-49aa-9497-670e9e28b082",
   "metadata": {
    "tags": []
   },
   "outputs": [],
   "source": [
    "df_ema['agreeableness'].value_counts()"
   ]
  },
  {
   "cell_type": "code",
   "execution_count": null,
   "id": "48399b28-83fa-4822-a360-8d1015cb9e2d",
   "metadata": {
    "tags": []
   },
   "outputs": [],
   "source": [
    "df_ema['neuroticism'].value_counts()"
   ]
  },
  {
   "cell_type": "code",
   "execution_count": null,
   "id": "ed5eb782-03a3-4671-9a07-a2cc139be47d",
   "metadata": {
    "tags": []
   },
   "outputs": [],
   "source": [
    "df_ema['openness'].value_counts()"
   ]
  },
  {
   "cell_type": "code",
   "execution_count": null,
   "id": "615a3678-0cfa-4d97-946c-e5c750763296",
   "metadata": {
    "tags": []
   },
   "outputs": [],
   "source": [
    "\n",
    "# Describe the newly created columns\n",
    "new_columns_description = df_ema[['openness', 'neuroticism', 'conscientiousness', 'agreeableness', 'extraversion']].describe()\n",
    "new_columns_description.head(10)\n",
    "\n"
   ]
  },
  {
   "cell_type": "markdown",
   "id": "4e9dd3b6-9929-42d0-81c0-50cbf5849089",
   "metadata": {},
   "source": [
    "#### Build screen time feature"
   ]
  },
  {
   "cell_type": "code",
   "execution_count": 222,
   "id": "d23b7c0d-1d26-4613-a054-5f8ba31f8709",
   "metadata": {},
   "outputs": [],
   "source": [
    "df_ema['screen_time_weekday_tv_mins'] = (df_ema['e1_screen_hours'] * 60) + df_ema['e1_screen_mins']\n",
    "df_ema['screen_time_weekday_tv_connected_mins'] = (df_ema['e2_screen_hours'] * 60) + df_ema['e2_screen_mins']\n",
    "df_ema['screen_time_weekday_computer_mins'] = (df_ema['e3_screen_hours'] * 60) + df_ema['e3_screen_mins']\n",
    "df_ema['screen_time_weekday_smartphone_mins'] = (df_ema['e4_screen_hours'] * 60) + df_ema['e4_screen_mins']\n",
    "df_ema['screen_time_weekday_tablet_mins'] = (df_ema['e5_screen_hours'] * 60) + df_ema['e5_screen_mins']\n",
    "df_ema['screen_time_weekend_tv_mins'] = (df_ema['e6_screen_hours'] * 60) + df_ema['e6_screen_mins']\n",
    "df_ema['screen_time_weekend_tv_connected_mins'] = (df_ema['e7_screen_hours'] * 60) + df_ema['e7_screen_mins']\n",
    "df_ema['screen_time_weekend_computer_mins'] = (df_ema['e8_screen_hours'] * 60) + df_ema['e8_screen_mins']\n",
    "df_ema['screen_time_weekend_smartphone_mins'] = (df_ema['e9_screen_hours'] * 60) + df_ema['e9_screen_mins']\n",
    "df_ema['screen_time_weekend_tablet_mins'] = (df_ema['e10_screen_hours'] * 60) + df_ema['e10_screen_mins']\n"
   ]
  },
  {
   "cell_type": "markdown",
   "id": "28dd037b-1d88-4722-a075-646a5ae6fc44",
   "metadata": {},
   "source": [
    "##### Average daily screentime (average weekday & weekday) per device"
   ]
  },
  {
   "cell_type": "code",
   "execution_count": 223,
   "id": "7b38b629-5360-4a0d-8603-24f98fc0725c",
   "metadata": {
    "tags": []
   },
   "outputs": [],
   "source": [
    "df_ema['screen_time_average_tv_mins'] = (df_ema['screen_time_weekday_tv_mins']*5+df_ema['screen_time_weekend_tv_mins']*2)/7\n",
    "df_ema['screen_time_average_tv_connected_mins'] = (df_ema['screen_time_weekday_tv_connected_mins']*2+df_ema['screen_time_weekend_tv_connected_mins']*2)/7\n",
    "df_ema['screen_time_average_computer_mins'] = (df_ema['screen_time_weekday_computer_mins']*5+df_ema['screen_time_weekend_computer_mins']*2)/7\n",
    "df_ema['screen_time_average_smartphone_mins'] = (df_ema['screen_time_weekday_smartphone_mins']*5+df_ema['screen_time_weekend_smartphone_mins']*2)/7\n",
    "df_ema['screen_time_average_tablet_mins'] = (df_ema['screen_time_weekday_tablet_mins']*5+df_ema['screen_time_weekend_tablet_mins']*2)/7\n",
    "\n",
    "\n",
    "\n",
    "\n",
    "\n"
   ]
  },
  {
   "cell_type": "markdown",
   "id": "63ba72d6-0102-445b-a666-815cc52f74a8",
   "metadata": {},
   "source": [
    "##### Overall daily screentime (weekend vs. weekdays)"
   ]
  },
  {
   "cell_type": "code",
   "execution_count": 224,
   "id": "caf97feb-b1bd-4b6c-86fa-0f5747133920",
   "metadata": {
    "tags": []
   },
   "outputs": [],
   "source": [
    "df_ema['screen_time_weekend_average'] = df_ema['screen_time_weekend_tv_mins'] + df_ema['screen_time_weekend_tv_connected_mins'] + df_ema['screen_time_weekend_computer_mins'] + df_ema['screen_time_weekend_smartphone_mins'] + df_ema['screen_time_weekend_tablet_mins']\n",
    "df_ema['screen_time_weekday_average'] = df_ema['screen_time_weekday_tv_mins'] + df_ema['screen_time_weekday_tv_connected_mins'] + df_ema['screen_time_weekday_computer_mins'] + df_ema['screen_time_weekday_smartphone_mins'] + df_ema['screen_time_weekday_tablet_mins']\n"
   ]
  },
  {
   "cell_type": "markdown",
   "id": "6e3590d3-4636-4ce0-b5cb-a80739f5115d",
   "metadata": {},
   "source": [
    "##### Overall daily screen time (all devices together and average weekend +weekdays)"
   ]
  },
  {
   "cell_type": "code",
   "execution_count": 225,
   "id": "7b210e3b-026e-4422-a7d2-b816722b5ba2",
   "metadata": {
    "tags": []
   },
   "outputs": [],
   "source": [
    "df_ema['screen_time_average']= (df_ema['screen_time_weekend_average']*2 + df_ema['screen_time_weekday_average']*5)/7"
   ]
  },
  {
   "cell_type": "code",
   "execution_count": null,
   "id": "9a6c7bb1-e88b-4260-be27-5798fc3c6db3",
   "metadata": {
    "tags": []
   },
   "outputs": [],
   "source": [
    "df_ema['screen_time_average_tv_mins'].describe()"
   ]
  },
  {
   "cell_type": "code",
   "execution_count": null,
   "id": "153f071b-dc70-4538-9f76-d56e652b5721",
   "metadata": {
    "tags": []
   },
   "outputs": [],
   "source": [
    "df_ema['screen_time_average_tv_connected_mins'].describe()"
   ]
  },
  {
   "cell_type": "code",
   "execution_count": null,
   "id": "79bd473e-0911-4fc5-b0ac-040ec4865f3d",
   "metadata": {
    "tags": []
   },
   "outputs": [],
   "source": [
    "df_ema['screen_time_average_computer_mins'].describe()"
   ]
  },
  {
   "cell_type": "code",
   "execution_count": null,
   "id": "937866fb-db1e-4fb7-bed2-2b087e45620d",
   "metadata": {
    "tags": []
   },
   "outputs": [],
   "source": [
    "df_ema['screen_time_average_smartphone_mins'].describe()"
   ]
  },
  {
   "cell_type": "code",
   "execution_count": null,
   "id": "5611edb5-7495-4747-ac36-60c7ab33be61",
   "metadata": {
    "tags": []
   },
   "outputs": [],
   "source": [
    "df_ema['screen_time_average_tablet_mins'].describe()"
   ]
  },
  {
   "cell_type": "code",
   "execution_count": null,
   "id": "7d524541-32f6-4d90-a165-b42ad3070fde",
   "metadata": {
    "tags": []
   },
   "outputs": [],
   "source": [
    "df_ema['screen_time_weekend_average'].describe()"
   ]
  },
  {
   "cell_type": "code",
   "execution_count": null,
   "id": "e7b621dc-094d-4fe5-84db-5ad395e1dc51",
   "metadata": {
    "tags": []
   },
   "outputs": [],
   "source": [
    "df_ema['screen_time_weekday_average'].describe()"
   ]
  },
  {
   "cell_type": "code",
   "execution_count": null,
   "id": "e5013e9a-b426-4a3f-98f2-cebd46c1f229",
   "metadata": {
    "tags": []
   },
   "outputs": [],
   "source": [
    "df_ema['screen_time_average'].describe()"
   ]
  },
  {
   "cell_type": "code",
   "execution_count": 234,
   "id": "434961c1-1188-4e05-973e-441577a9ba4e",
   "metadata": {
    "tags": []
   },
   "outputs": [],
   "source": [
    "# Assuming df_questionnaires is your DataFrame\n",
    "df_ema.rename(columns={\n",
    "    'Int_Age': 'age',\n",
    "    'a2': 'ethnicity',\n",
    "    'b1': 'alcohol_consumption',\n",
    "    'c2a': 'smoking_occasionally_binary',\n",
    "    'c3': 'smoking_daily_binary',\n",
    "    'c7': 'smoking_amount',\n",
    "    'i2': 'education_level',\n",
    "    'i3': 'familiarity_digital_devices',\n",
    "    'i4': 'employment_status',\n",
    "    'i41': 'work_hours_per_week_(only_employed)',\n",
    "    'i43': 'night_shifts_binary',\n",
    "    'i5': 'household_income',\n",
    "    'i6': 'owning_home_binary',\n",
    "    'i7': 'accommodation_type',\n",
    "}, inplace=True)\n"
   ]
  },
  {
   "cell_type": "code",
   "execution_count": null,
   "id": "6b460fef-4872-4492-9fcc-800a8fabdb09",
   "metadata": {},
   "outputs": [],
   "source": [
    "df_ema[\"age\"].describe()"
   ]
  },
  {
   "cell_type": "markdown",
   "id": "8873e97e-7e52-4d41-9a0b-66de0beb218c",
   "metadata": {},
   "source": [
    "Age - 20 is done to center the age distribution"
   ]
  },
  {
   "cell_type": "code",
   "execution_count": 236,
   "id": "c5281c3d-67f5-4823-b7b2-711157f3d47a",
   "metadata": {},
   "outputs": [],
   "source": [
    "df_ema[\"age\"]= df_ema[\"age\"]-20"
   ]
  },
  {
   "cell_type": "code",
   "execution_count": null,
   "id": "3bf250eb-d3ad-495e-88b2-49c82749fb27",
   "metadata": {},
   "outputs": [],
   "source": [
    "df_ema[\"age\"].describe()"
   ]
  },
  {
   "cell_type": "markdown",
   "id": "d7f24fc3-d862-440a-a131-f80b1cc0df6f",
   "metadata": {},
   "source": [
    "#### Make employement status variable binary (employed/not employed)"
   ]
  },
  {
   "cell_type": "code",
   "execution_count": null,
   "id": "4c4e6671-381a-4e3f-8bc7-981ca1f0df00",
   "metadata": {},
   "outputs": [],
   "source": [
    "df_ema['employment_status'].value_counts()"
   ]
  },
  {
   "cell_type": "code",
   "execution_count": 239,
   "id": "e3f89eb2-5990-4ba7-826f-9f711be198fa",
   "metadata": {},
   "outputs": [],
   "source": [
    "df_ema['employment_status_binary'] = df_ema['employment_status'].isin([1, 2, 3]).astype(int)\n",
    "df_ema.loc[df_ema['employment_status'].isin([4, 5, 6, 7, 8, 9]), 'employment_status_binary'] = 1\n"
   ]
  },
  {
   "cell_type": "code",
   "execution_count": null,
   "id": "c8407006-7962-4d37-a4a0-4d9e36a8ad17",
   "metadata": {},
   "outputs": [],
   "source": []
  },
  {
   "cell_type": "code",
   "execution_count": null,
   "id": "7d250488-d69e-4336-8353-720c2bbceb7f",
   "metadata": {
    "tags": []
   },
   "outputs": [],
   "source": [
    "df_ema.head()"
   ]
  },
  {
   "cell_type": "code",
   "execution_count": null,
   "id": "2774361d-2376-40c3-a950-9e71d3051f9e",
   "metadata": {
    "tags": []
   },
   "outputs": [],
   "source": [
    "df_ema.head()"
   ]
  },
  {
   "cell_type": "markdown",
   "id": "a64e707e-5caf-42cc-bc65-2be3418201ca",
   "metadata": {},
   "source": []
  },
  {
   "cell_type": "markdown",
   "id": "5646928f-02a0-4092-9d2d-72afc6b9a854",
   "metadata": {},
   "source": [
    "#### Make smoking_minary feature cominign occasional and daily smoking"
   ]
  },
  {
   "cell_type": "code",
   "execution_count": 242,
   "id": "1b7d8302-2fcb-4083-9fc7-5b74913a535f",
   "metadata": {
    "tags": []
   },
   "outputs": [],
   "source": [
    "df_ema['smoking_binary'] = 2  # Default value for all rows\n",
    "df_ema.loc[\n",
    "    (df_ema['smoking_daily_binary'] == 1) | (df_ema['smoking_occasionally_binary'] == 1),\n",
    "    'smoking_binary'\n",
    "] = 1\n"
   ]
  },
  {
   "cell_type": "markdown",
   "id": "b651e2d6-dde1-43c2-99bc-5da928afe2fa",
   "metadata": {},
   "source": [
    "### Get additional dummy variables"
   ]
  },
  {
   "cell_type": "code",
   "execution_count": 243,
   "id": "24ea279a-10c9-4f7f-a496-91c6844a71cd",
   "metadata": {},
   "outputs": [],
   "source": [
    "df_ema['Gender'] = df_ema['Gender'].replace({1: 0, 2: 1})\n",
    "df_ema['night_shifts_binary'] = df_ema['night_shifts_binary'].replace({1: 0, 2: 1})\n",
    "df_ema['owning_home_binary'] = df_ema['owning_home_binary'].replace({1: 0, 2: 1})\n",
    "df_ema['smoking_daily_binary'] = df_ema['smoking_daily_binary'].replace({1: 0, 2: 1})\n",
    "df_ema['smoking_binary'] = df_ema['smoking_binary'].replace({1: 0, 2: 1})\n"
   ]
  },
  {
   "cell_type": "markdown",
   "id": "539c7daf-54ff-4eac-9f4f-147c2828f499",
   "metadata": {},
   "source": [
    "#### Ethnicity"
   ]
  },
  {
   "cell_type": "code",
   "execution_count": 244,
   "id": "c80351fc-3686-46e3-bb3e-a6624e25677e",
   "metadata": {},
   "outputs": [],
   "source": [
    "# Assuming df_questionnaire_all is your DataFrame\n",
    "# Use get_dummies function to one-hot encode 'ethnicity'\n",
    "df_encoded = pd.get_dummies(df_ema['ethnicity'], prefix='ethnicity')\n",
    "\n",
    "# Map the new column names to more descriptive labels\n",
    "ethnicity_labels = {\n",
    "    1: 'Chinese',\n",
    "    2: 'Malay',\n",
    "    3: 'Indian',\n",
    "    4: 'Mixed Chinese/Indian',\n",
    "    5: 'Mixed Chinese/Malay',\n",
    "    6: 'Mixed Indian/Malay',\n",
    "    7: 'Others'\n",
    "}\n",
    "\n",
    "# Set the column names during one-hot encoding\n",
    "df_encoded.columns = [f'ethnicity_{ethnicity_labels.get(int(col.split(\"_\")[1]), \"Unknown\")}'\n",
    "                      for col in df_encoded.columns]\n",
    "\n",
    "# Concatenate the new one-hot encoded columns with the original DataFrame\n",
    "df_ema = pd.concat([df_ema, df_encoded], axis=1)\n"
   ]
  },
  {
   "cell_type": "markdown",
   "id": "db265446-8324-49b5-ad23-70ebdf1d4748",
   "metadata": {},
   "source": [
    "#### Income: Replace \"prefer not to say\" options with NA"
   ]
  },
  {
   "cell_type": "code",
   "execution_count": 245,
   "id": "bddfeb59-9b3c-472f-abf5-b30a30bb01f1",
   "metadata": {},
   "outputs": [],
   "source": [
    "df_ema['household_income'] = df_ema['household_income'].replace([888, 999], pd.NA)"
   ]
  },
  {
   "cell_type": "markdown",
   "id": "4bf49dee-b77f-44bb-b03a-d778f765bf0c",
   "metadata": {},
   "source": [
    "## Exports"
   ]
  },
  {
   "cell_type": "code",
   "execution_count": null,
   "id": "a671c860-df26-49c1-b652-c53c60fce129",
   "metadata": {
    "tags": []
   },
   "outputs": [],
   "source": [
    "df_ema.head()"
   ]
  },
  {
   "cell_type": "code",
   "execution_count": 247,
   "id": "cb421b8f-e4dc-4289-b5e5-00fde15825dd",
   "metadata": {},
   "outputs": [],
   "source": [
    "unique_columns = pd.unique(df_ema.columns)\n",
    "df_ema = df_ema[unique_columns]"
   ]
  },
  {
   "cell_type": "code",
   "execution_count": 248,
   "id": "966cbc90-3e4b-422e-a08f-ab40fa0a988c",
   "metadata": {},
   "outputs": [],
   "source": [
    "\n",
    "duplicate_ethnicity_columns = ['ethnicity_Chinese', 'ethnicity_Malay', 'ethnicity_Indian',\n",
    "                               'ethnicity_Mixed Chinese/Malay', 'ethnicity_Mixed Indian/Malay', 'ethnicity_Others']\n",
    "\n",
    "def deduplicate_columns(df, suffix='_dup'):\n",
    "    cols = pd.Series(df.columns)\n",
    "    for dup in cols[cols.duplicated()].unique():\n",
    "        cols[cols[cols == dup].index.values.tolist()] = [dup + suffix if i != 0 else dup for i in range(sum(cols == dup))]\n",
    "    df.columns = cols\n",
    "\n",
    "deduplicate_columns(df_ema, suffix='_dup')\n"
   ]
  },
  {
   "cell_type": "code",
   "execution_count": 249,
   "id": "602914ef-0f7a-45e1-9287-83ff52afd027",
   "metadata": {
    "tags": []
   },
   "outputs": [],
   "source": [
    "df_ema.to_parquet(f'../outputs/DependentEMA_questionnaire_features.parquet', index=False)"
   ]
  },
  {
   "cell_type": "markdown",
   "id": "740836d4-6ed9-4a9a-9e1a-0ff44864a724",
   "metadata": {},
   "source": [
    "#### Export clean"
   ]
  },
  {
   "cell_type": "code",
   "execution_count": 250,
   "id": "04125c0b-47c0-4bc4-8088-48984e430652",
   "metadata": {
    "tags": []
   },
   "outputs": [],
   "source": [
    "selected_columns = ['Subject_ID_Roman_x', 'Issued Time', 'response delay', 'response_delay_10min', 'compliance', 'completion_time',  'time_of_the_day_categories', 'time_of_the_day_categories_dummy', 'time_of_the_day_categories_dummy_no_last_p', 'sleep_quality', 'stress', 'hunger', 'fatigue', 'affect', 'number_of_survey', 'day_of_monitoring', 'day_of_the_week',  'day_of_the_week_dummy', 'incentive_category', 'survey length', 'First_question_length', 'Location_Current_Ordinal', 'location_current_commute', 'location_current_green_spaces', 'location_current_home', 'location_current_home_outside', 'location_current_indoors_elsewhere', 'location_current_other', 'time_of_day_8_to_930', 'time_of_day_1030_to_12', 'time_of_day_13_to_1430', 'time_of_day_1530_to_17', 'time_of_day_18_to_1930', 'time_of_day_2030_to_2130', 'day_of_week_monday', 'day_of_week_tuesday', 'day_of_week_wednesday', 'day_of_week_thursday', 'day_of_week_friday', 'day_of_week_saturday', 'day_of_week_sunday', 'day_of_the_week_binary',  'age', 'Gender', 'ethnicity', 'education_level', 'familiarity_digital_devices', 'employment_status',  'night_shifts_binary', 'household_income', 'alcohol_consumption', 'extraversion', 'agreeableness', 'conscientiousness',  'neuroticism', 'openness', 'screen_time_average_smartphone_mins', 'screen_time_average', 'smoking_binary', 'employment_status_binary', 'nothing']\n",
    "df_ema = df_ema[selected_columns]"
   ]
  },
  {
   "cell_type": "code",
   "execution_count": 251,
   "id": "a5f3d52c-86bf-4bcc-a189-5c6493a61bf5",
   "metadata": {},
   "outputs": [],
   "source": [
    "df_ema.rename(columns={'Subject_ID_Roman_x': 'subject_id_roman_x', 'Issued Time': 'issued_time', 'survey length': 'survey_length'}, inplace=True)"
   ]
  },
  {
   "cell_type": "code",
   "execution_count": 252,
   "id": "9c4ea25c-952e-41f7-a411-889e6221daef",
   "metadata": {},
   "outputs": [],
   "source": [
    "df_ema.columns = df_ema.columns.str.lower()"
   ]
  },
  {
   "cell_type": "markdown",
   "id": "11679fcb-a957-4ed8-8140-dc48b84cb462",
   "metadata": {},
   "source": [
    "#### Make inter-prompt interval feature (in mins)"
   ]
  },
  {
   "cell_type": "code",
   "execution_count": 253,
   "id": "88dbde96-b49e-4ac7-af91-cc6ada8ca475",
   "metadata": {},
   "outputs": [],
   "source": [
    "df_ema['next_issued_time'] = df_ema['issued_time'].shift(-1)\n",
    "df_ema['ipi'] = (df_ema['next_issued_time'] - df_ema['issued_time']).dt.total_seconds() / 60"
   ]
  },
  {
   "cell_type": "markdown",
   "id": "2fa83e88-715c-4597-b855-4cc4baef141b",
   "metadata": {},
   "source": [
    "#### Make feature in 10 mins responded (yes or no binary)"
   ]
  },
  {
   "cell_type": "code",
   "execution_count": 254,
   "id": "9506e0b9-cf86-4cbb-861e-2e47fd89c91c",
   "metadata": {},
   "outputs": [],
   "source": [
    "df_ema['response_ten_binary'] = df_ema['response_delay_10min'].notna().astype(int)\n",
    "df_ema['response_ten_binary'].fillna(0, inplace=True)\n"
   ]
  },
  {
   "cell_type": "code",
   "execution_count": null,
   "id": "b0802510-1aa1-430a-941c-9919267395bf",
   "metadata": {},
   "outputs": [],
   "source": [
    "df_ema['response_ten_binary'].value_counts()"
   ]
  },
  {
   "cell_type": "markdown",
   "id": "e952dc0b-3e39-470d-b04f-e226732fa21a",
   "metadata": {},
   "source": [
    "#### Make next-prompt compliance feature"
   ]
  },
  {
   "cell_type": "code",
   "execution_count": 256,
   "id": "8fe234cf-88a4-4528-94ea-69946a092d75",
   "metadata": {},
   "outputs": [],
   "source": [
    "df_ema['next_prompt_compliance'] = df_ema['compliance'].shift(-1)"
   ]
  },
  {
   "cell_type": "code",
   "execution_count": null,
   "id": "d9b3004c-d14c-4d35-8bd5-6c864e8c1fac",
   "metadata": {},
   "outputs": [],
   "source": [
    "df_ema['next_prompt_compliance'].value_counts()"
   ]
  },
  {
   "cell_type": "markdown",
   "id": "df606624-d884-40b2-9c0a-614d77e6d6d9",
   "metadata": {},
   "source": [
    "#### Make completion_time per survey item outcome"
   ]
  },
  {
   "cell_type": "code",
   "execution_count": 258,
   "id": "19798cb6-22f0-4b08-b4eb-e22df17fe389",
   "metadata": {},
   "outputs": [],
   "source": [
    "df_ema['survey_length_n'] = df_ema['survey_length'] + 4"
   ]
  },
  {
   "cell_type": "code",
   "execution_count": null,
   "id": "9003d099-e658-4827-bed3-e2e7f294dc04",
   "metadata": {},
   "outputs": [],
   "source": [
    "df_ema['survey_length_n'].value_counts()"
   ]
  },
  {
   "cell_type": "code",
   "execution_count": 260,
   "id": "6cebeeea-9d97-4c87-bae1-7c293ea8ca27",
   "metadata": {},
   "outputs": [],
   "source": [
    "valid_surveys = df_ema[(df_ema['survey_length_n'] != 0) & ~df_ema['survey_length_n'].isna() & ~df_ema['completion_time'].isna()]"
   ]
  },
  {
   "cell_type": "code",
   "execution_count": null,
   "id": "ad2dc472-5ad3-4d21-8cd7-709edc0445c6",
   "metadata": {},
   "outputs": [],
   "source": [
    "len(valid_surveys)"
   ]
  },
  {
   "cell_type": "code",
   "execution_count": null,
   "id": "4c548ebb-1757-4443-b437-7bf4eb8ed408",
   "metadata": {},
   "outputs": [],
   "source": [
    "valid_surveys['survey_length_n'].isna().sum()"
   ]
  },
  {
   "cell_type": "code",
   "execution_count": null,
   "id": "1a95db66-85b6-4d90-9cf2-179b373827e0",
   "metadata": {},
   "outputs": [],
   "source": [
    "valid_surveys['ct_per_survey_item'] = valid_surveys['completion_time'] / (valid_surveys['survey_length_n'] - 1)\n"
   ]
  },
  {
   "cell_type": "code",
   "execution_count": 264,
   "id": "187538c4-f898-4410-95e6-e94b61d14032",
   "metadata": {},
   "outputs": [],
   "source": [
    "inf_rows = valid_surveys[valid_surveys['ct_per_survey_item'] == float('inf')]"
   ]
  },
  {
   "cell_type": "code",
   "execution_count": null,
   "id": "b4423902-caac-4925-a060-e1696af38253",
   "metadata": {},
   "outputs": [],
   "source": [
    "len(inf_rows)"
   ]
  },
  {
   "cell_type": "code",
   "execution_count": null,
   "id": "c95376ad-0056-4f97-82f1-073e06122538",
   "metadata": {},
   "outputs": [],
   "source": [
    "inf_rows['subject_id_roman_x'].nunique()"
   ]
  },
  {
   "cell_type": "code",
   "execution_count": null,
   "id": "ed437ba2-0ad8-468f-b04e-503f0a513737",
   "metadata": {},
   "outputs": [],
   "source": [
    "inf_rows.head(2)"
   ]
  },
  {
   "cell_type": "code",
   "execution_count": 268,
   "id": "f1891e5a-6220-4b4e-a4ed-c9b733a3203a",
   "metadata": {},
   "outputs": [],
   "source": [
    "valid_surveys_indices = (df_ema['survey_length_n'] != 0) & ~df_ema['survey_length_n'].isna() & ~df_ema['completion_time'].isna()\n",
    "\n",
    "# Calculate 'ct_per_survey_item' for valid surveys\n",
    "df_ema.loc[valid_surveys_indices, 'ct_per_survey_item'] = df_ema.loc[valid_surveys_indices, 'completion_time'] / (df_ema.loc[valid_surveys_indices, 'survey_length_n'] - 1)\n",
    "\n",
    "# Fill NA for invalid surveys\n",
    "df_ema.loc[~valid_surveys_indices, 'ct_per_survey_item'] = np.nan\n"
   ]
  },
  {
   "cell_type": "code",
   "execution_count": null,
   "id": "9250d735-2909-4e93-9c33-58a7840d41bf",
   "metadata": {},
   "outputs": [],
   "source": [
    "df_ema['ct_per_survey_item'].describe()"
   ]
  },
  {
   "cell_type": "code",
   "execution_count": null,
   "id": "a19bb831-edbd-466c-9d84-d785fcab03ad",
   "metadata": {},
   "outputs": [],
   "source": [
    "len(df_ema)"
   ]
  },
  {
   "cell_type": "code",
   "execution_count": null,
   "id": "3ab6f60b-75c8-4356-9fd7-61f6eb838091",
   "metadata": {},
   "outputs": [],
   "source": [
    "df_ema['subject_id_roman_x'].nunique()"
   ]
  },
  {
   "cell_type": "markdown",
   "id": "3d3323b0-1caf-45ee-90d0-2bb492e4b9c1",
   "metadata": {},
   "source": [
    "#### Make careless response feature"
   ]
  },
  {
   "cell_type": "code",
   "execution_count": 272,
   "id": "bf26e131-79e4-49d4-bf90-29eb97d022c3",
   "metadata": {},
   "outputs": [],
   "source": [
    "df_ema['careless_response'] = np.where(df_ema['ct_per_survey_item'] <= 2, 1, 0)"
   ]
  },
  {
   "cell_type": "code",
   "execution_count": 273,
   "id": "055fba70-b07f-482f-b326-550ad72e1c81",
   "metadata": {},
   "outputs": [],
   "source": [
    "df_ema['careless_response_one'] = np.where(df_ema['ct_per_survey_item'] <= 1, 1, 0)"
   ]
  },
  {
   "cell_type": "code",
   "execution_count": 274,
   "id": "eb8cdf41-7dce-4686-a40a-d2b9f7c0c4b4",
   "metadata": {},
   "outputs": [],
   "source": [
    "df_ema['careless_response_three'] = np.where(df_ema['ct_per_survey_item'] <= 3, 1, 0)"
   ]
  },
  {
   "cell_type": "code",
   "execution_count": 275,
   "id": "8c6a75de-eb54-4676-be40-8fd9f4f27863",
   "metadata": {},
   "outputs": [],
   "source": [
    "df_ema['careless_response_five'] = np.where(df_ema['ct_per_survey_item'] <= 5, 1, 0)"
   ]
  },
  {
   "cell_type": "code",
   "execution_count": 276,
   "id": "86f9ecef-ff61-4eb1-9cd7-67fd391b3fff",
   "metadata": {},
   "outputs": [],
   "source": [
    "df_ema['careless_response_sub_two'] = np.where(df_ema['ct_per_survey_item'] < 2, 1, 0)"
   ]
  },
  {
   "cell_type": "code",
   "execution_count": 277,
   "id": "8e06f174-d46f-41eb-abeb-c2932f0fa9ca",
   "metadata": {},
   "outputs": [],
   "source": [
    "df_ema['careless_response_sub_one_point_five'] = np.where(df_ema['ct_per_survey_item'] < 1.5, 1, 0)"
   ]
  },
  {
   "cell_type": "code",
   "execution_count": 278,
   "id": "9e38d681-3ce0-450f-9fb8-3d1d11b94e75",
   "metadata": {},
   "outputs": [],
   "source": [
    "df_ema['careless_response_one_point_five'] = np.where(df_ema['ct_per_survey_item'] <= 1.5, 1, 0)"
   ]
  },
  {
   "cell_type": "code",
   "execution_count": null,
   "id": "0bba7823-0191-49e8-a34b-cfa2f11e22e2",
   "metadata": {},
   "outputs": [],
   "source": [
    "df_ema['careless_response'].value_counts()"
   ]
  },
  {
   "cell_type": "code",
   "execution_count": null,
   "id": "010b8460-8c14-4c56-9f06-aecfb155c8cb",
   "metadata": {},
   "outputs": [],
   "source": [
    "df_ema['careless_response_one_point_five'].value_counts()"
   ]
  },
  {
   "cell_type": "code",
   "execution_count": null,
   "id": "df5b201b-1381-4da6-b4d6-120979d64d1d",
   "metadata": {},
   "outputs": [],
   "source": [
    "df_ema['careless_response_sub_two'].value_counts()"
   ]
  },
  {
   "cell_type": "code",
   "execution_count": null,
   "id": "23785b81-03e2-4871-b6d5-7189c44575fe",
   "metadata": {},
   "outputs": [],
   "source": [
    "df_ema['careless_response_one'].value_counts()"
   ]
  },
  {
   "cell_type": "markdown",
   "id": "528e24fe-ec2b-46dd-8871-c36b1a84fc1b",
   "metadata": {},
   "source": [
    "#### Make fast-response feature"
   ]
  },
  {
   "cell_type": "code",
   "execution_count": 283,
   "id": "ed9ab847-0ca4-4b43-883d-4f03c39c1720",
   "metadata": {},
   "outputs": [],
   "source": [
    "\n",
    "df_ema['fast_response_one_three'] = np.where(\n",
    "    (df_ema['ct_per_survey_item'] >= 1) & (df_ema['ct_per_survey_item'] <= 3),\n",
    "    1,\n",
    "    0\n",
    ")\n",
    "\n",
    "df_ema['fast_response_one_three'] = np.where(\n",
    "    df_ema['ct_per_survey_item'] < 1,\n",
    "    np.nan,\n",
    "    df_ema['fast_response_one_three']\n",
    ")\n"
   ]
  },
  {
   "cell_type": "code",
   "execution_count": 284,
   "id": "5c82a317-23cb-44eb-945e-f35b3ed315b4",
   "metadata": {},
   "outputs": [],
   "source": [
    "df_ema['fast_response_one_two'] = np.where(\n",
    "    (df_ema['ct_per_survey_item'] >= 1) & (df_ema['ct_per_survey_item'] <= 2),\n",
    "    1,\n",
    "    0\n",
    ")\n",
    "\n",
    "df_ema['fast_response_one_two'] = np.where(\n",
    "    df_ema['ct_per_survey_item'] < 1,\n",
    "    np.nan,\n",
    "    df_ema['fast_response_one_two']\n",
    ")"
   ]
  },
  {
   "cell_type": "code",
   "execution_count": 285,
   "id": "b3fa8462-e1d2-43eb-94fb-c55974f596dc",
   "metadata": {},
   "outputs": [],
   "source": [
    "df_ema['fast_response_one_sub_two'] = np.where(\n",
    "    (df_ema['ct_per_survey_item'] >= 1) & (df_ema['ct_per_survey_item'] < 2),\n",
    "    1,\n",
    "    0\n",
    ")\n",
    "\n",
    "df_ema['fast_response_one_sub_two'] = np.where(\n",
    "    df_ema['ct_per_survey_item'] < 1,\n",
    "    np.nan,\n",
    "    df_ema['fast_response_one_sub_two']\n",
    ")"
   ]
  },
  {
   "cell_type": "code",
   "execution_count": 286,
   "id": "869823f0-7baf-4196-8bb4-ebe925ce9b23",
   "metadata": {},
   "outputs": [],
   "source": [
    "df_ema['fast_response_point_five_two'] = np.where(\n",
    "    (df_ema['ct_per_survey_item'] >= 0.5) & (df_ema['ct_per_survey_item'] <= 2),\n",
    "    1,\n",
    "    0\n",
    ")\n",
    "\n",
    "df_ema['fast_response_point_five_two'] = np.where(\n",
    "    df_ema['ct_per_survey_item'] < 0.5,\n",
    "    np.nan,\n",
    "    df_ema['fast_response_point_five_two']\n",
    ")"
   ]
  },
  {
   "cell_type": "code",
   "execution_count": 287,
   "id": "40faf6e7-7700-4692-b0e6-075cc572919d",
   "metadata": {},
   "outputs": [],
   "source": [
    "df_ema['fast_response_point_five_three'] = np.where(\n",
    "    (df_ema['ct_per_survey_item'] >= 0.5) & (df_ema['ct_per_survey_item'] <= 3),\n",
    "    1,\n",
    "    0\n",
    ")\n",
    "\n",
    "df_ema['fast_response_point_five_three'] = np.where(\n",
    "    df_ema['ct_per_survey_item'] < 0.5,\n",
    "    np.nan,\n",
    "    df_ema['fast_response_point_five_three']\n",
    ")"
   ]
  },
  {
   "cell_type": "code",
   "execution_count": 288,
   "id": "6909e119-1bf3-42c5-823b-636be6118d85",
   "metadata": {},
   "outputs": [],
   "source": [
    "df_ema['fast_response_point_five_sub_two'] = np.where(\n",
    "    (df_ema['ct_per_survey_item'] >= 0.5) & (df_ema['ct_per_survey_item'] < 2),\n",
    "    1,\n",
    "    0\n",
    ")\n",
    "\n",
    "df_ema['fast_response_point_five_sub_two'] = np.where(\n",
    "    df_ema['ct_per_survey_item'] < 0.5,\n",
    "    np.nan,\n",
    "    df_ema['fast_response_point_five_sub_two']\n",
    ")"
   ]
  },
  {
   "cell_type": "code",
   "execution_count": 289,
   "id": "3b588be5-052f-49dd-ae90-60d76a1f83b7",
   "metadata": {},
   "outputs": [],
   "source": [
    "df_ema['fast_response_two_four'] = np.where(\n",
    "    (df_ema['ct_per_survey_item'] >= 2) & (df_ema['ct_per_survey_item'] <= 4),\n",
    "    1,\n",
    "   0\n",
    ")\n",
    "\n",
    "df_ema['fast_response_two_four'] = np.where(\n",
    "    df_ema['ct_per_survey_item'] < 2,\n",
    "    np.nan,\n",
    "    df_ema['fast_response_two_four']\n",
    ")"
   ]
  },
  {
   "cell_type": "code",
   "execution_count": 290,
   "id": "04d11c3c-8421-413a-8433-1f1b1217e863",
   "metadata": {},
   "outputs": [],
   "source": [
    "df_ema['fast_response_one_one_point_five'] = np.where(\n",
    "    (df_ema['ct_per_survey_item'] >= 1) & (df_ema['ct_per_survey_item'] <= 1.5),\n",
    "    1,\n",
    "   0\n",
    ")\n",
    "\n",
    "df_ema['fast_response_one_one_point_five'] = np.where(\n",
    "    df_ema['ct_per_survey_item'] < 1,\n",
    "    np.nan,\n",
    "    df_ema['fast_response_one_one_point_five']\n",
    ")"
   ]
  },
  {
   "cell_type": "code",
   "execution_count": null,
   "id": "404dbac9-f270-45f1-bb0e-99278064dbbd",
   "metadata": {},
   "outputs": [],
   "source": [
    "df_ema['fast_response_one_one_point_five'].value_counts()"
   ]
  },
  {
   "cell_type": "code",
   "execution_count": null,
   "id": "25288faa-2388-4659-8f0a-e27333ab987b",
   "metadata": {},
   "outputs": [],
   "source": [
    "\n",
    "df_ema['fast_response_point_five_sub_two'].value_counts()"
   ]
  },
  {
   "cell_type": "code",
   "execution_count": null,
   "id": "27567316-bcb9-49b8-ad6d-08e955424776",
   "metadata": {},
   "outputs": [],
   "source": [
    "df_ema['fast_response_point_five_three'].value_counts()"
   ]
  },
  {
   "cell_type": "code",
   "execution_count": null,
   "id": "a961413b-09b7-49b1-85ac-474fd09bd742",
   "metadata": {},
   "outputs": [],
   "source": [
    "df_ema['fast_response_point_five_two'].value_counts()"
   ]
  },
  {
   "cell_type": "code",
   "execution_count": null,
   "id": "38be5a9a-f7ae-4ded-a805-c15b24e48a87",
   "metadata": {},
   "outputs": [],
   "source": [
    "df_ema['fast_response_one_two'].value_counts()"
   ]
  },
  {
   "cell_type": "code",
   "execution_count": null,
   "id": "8e6e876b-f658-4d2e-b318-35fdf184f733",
   "metadata": {},
   "outputs": [],
   "source": [
    "df_ema['fast_response_one_three'].value_counts()"
   ]
  },
  {
   "cell_type": "code",
   "execution_count": null,
   "id": "f9c9c2cb-3ec4-4412-96fa-60f9b8e95054",
   "metadata": {},
   "outputs": [],
   "source": [
    "df_ema['fast_response_one_sub_two'].value_counts()"
   ]
  },
  {
   "cell_type": "code",
   "execution_count": null,
   "id": "1eb98151-4a8a-48c0-8615-8307e8aa6a2d",
   "metadata": {},
   "outputs": [],
   "source": [
    "df_ema['fast_response_two_four'].value_counts()"
   ]
  },
  {
   "cell_type": "markdown",
   "id": "f3c62ff1-3505-4846-9a0b-6ef8e630c100",
   "metadata": {},
   "source": [
    "#### Make minimal engagement response"
   ]
  },
  {
   "cell_type": "code",
   "execution_count": 299,
   "id": "e37a41fc-eca4-4a8a-a88e-fc7ac7ab1976",
   "metadata": {},
   "outputs": [],
   "source": [
    "df_ema['length_zero_binary'] = np.where(\n",
    "    (df_ema['first_question_length'] == 0),\n",
    "    1,\n",
    "   0\n",
    ")\n"
   ]
  },
  {
   "cell_type": "code",
   "execution_count": null,
   "id": "4ce27624-34da-4dcc-886f-143396e48554",
   "metadata": {},
   "outputs": [],
   "source": [
    "df_ema['length_zero_binary'].value_counts()"
   ]
  },
  {
   "cell_type": "code",
   "execution_count": 301,
   "id": "de2612d1-d64b-4310-8703-719ef51e4471",
   "metadata": {},
   "outputs": [],
   "source": [
    "df_ema['length_zero_no_careless_one'] = np.where(\n",
    "    (df_ema['first_question_length'] == 0),\n",
    "    1,\n",
    "   0\n",
    ")\n",
    "\n",
    "df_ema['length_zero_no_careless_one'] = np.where(\n",
    "    df_ema['ct_per_survey_item'] < 1,\n",
    "    np.nan,\n",
    "    df_ema['length_zero_no_careless_one']\n",
    ")"
   ]
  },
  {
   "cell_type": "code",
   "execution_count": null,
   "id": "2d71129c-aa3b-4fb4-8905-ee2a96055435",
   "metadata": {},
   "outputs": [],
   "source": [
    "df_ema['length_zero_no_careless_one'].value_counts()"
   ]
  },
  {
   "cell_type": "code",
   "execution_count": 303,
   "id": "8672301a-7520-4cdd-ba9e-34b0625b8bd7",
   "metadata": {},
   "outputs": [],
   "source": [
    "df_ema['length_zero_no_careless_two'] = np.where(\n",
    "    (df_ema['first_question_length'] == 0),\n",
    "    1,\n",
    "   0\n",
    ")\n",
    "\n",
    "df_ema['length_zero_no_careless_two'] = np.where(\n",
    "    df_ema['ct_per_survey_item'] < 2,\n",
    "    np.nan,\n",
    "    df_ema['length_zero_no_careless_two']\n",
    ")"
   ]
  },
  {
   "cell_type": "code",
   "execution_count": null,
   "id": "184ede1d-90a8-431a-9973-b63039c7cbfe",
   "metadata": {},
   "outputs": [],
   "source": [
    "df_ema['length_zero_no_careless_two'].value_counts()"
   ]
  },
  {
   "cell_type": "code",
   "execution_count": 305,
   "id": "1000d46d-5ff7-4d1c-8817-09d0c0cb9052",
   "metadata": {},
   "outputs": [],
   "source": [
    "df_ema['length_zero_no_careless_one_point_five'] = np.where(\n",
    "    (df_ema['first_question_length'] == 0),\n",
    "    1,\n",
    "   0\n",
    ")\n",
    "\n",
    "df_ema['length_zero_no_careless_one_point_five'] = np.where(\n",
    "    df_ema['ct_per_survey_item'] < 1.5,\n",
    "    np.nan,\n",
    "    df_ema['length_zero_no_careless_one_point_five']\n",
    ")"
   ]
  },
  {
   "cell_type": "code",
   "execution_count": null,
   "id": "f7bdc061-ea16-4d26-804b-fe6ffd50e51c",
   "metadata": {},
   "outputs": [],
   "source": [
    "df_ema['length_zero_no_careless_one_point_five'].value_counts()"
   ]
  },
  {
   "cell_type": "code",
   "execution_count": 307,
   "id": "d512ba5b-4722-46d4-9717-113f7619cbb8",
   "metadata": {},
   "outputs": [],
   "source": [
    "df_ema['nothing_no_careless_one'] = np.where(\n",
    "    (df_ema['nothing'] == 1),\n",
    "    1,\n",
    "   0\n",
    ")\n",
    "\n",
    "df_ema['nothing_no_careless_one'] = np.where(\n",
    "    df_ema['ct_per_survey_item'] < 1,\n",
    "    np.nan,\n",
    "    df_ema['nothing_no_careless_one']\n",
    ")"
   ]
  },
  {
   "cell_type": "code",
   "execution_count": 308,
   "id": "f1836a59-eebf-48d2-a3ef-d9294a6d72a3",
   "metadata": {},
   "outputs": [],
   "source": [
    "df_ema['nothing_no_careless_one_point_five'] = np.where(\n",
    "    (df_ema['nothing'] == 1),\n",
    "    1,\n",
    "   0\n",
    ")\n",
    "\n",
    "df_ema['nothing_no_careless_one_point_five'] = np.where(\n",
    "    df_ema['ct_per_survey_item'] < 1.5,\n",
    "    np.nan,\n",
    "    df_ema['nothing_no_careless_one_point_five']\n",
    ")"
   ]
  },
  {
   "cell_type": "code",
   "execution_count": 309,
   "id": "d254b3a5-2352-4759-bebc-4cc48649882e",
   "metadata": {},
   "outputs": [],
   "source": [
    "df_ema['nothing_no_careless_two'] = np.where(\n",
    "    (df_ema['nothing'] == 1),\n",
    "    1,\n",
    "   0\n",
    ")\n",
    "\n",
    "df_ema['nothing_no_careless_two'] = np.where(\n",
    "    df_ema['ct_per_survey_item'] < 2,\n",
    "    np.nan,\n",
    "    df_ema['nothing_no_careless_two']\n",
    ")"
   ]
  },
  {
   "cell_type": "code",
   "execution_count": 310,
   "id": "2aeffa5e-7f02-491d-ba34-a06e89d26e50",
   "metadata": {},
   "outputs": [],
   "source": [
    "df_ema['nothing_no_careless_one_nulllength'] = np.where(\n",
    "    (df_ema['nothing'] == 1) | (df_ema['first_question_length'] == 0),\n",
    "    1,\n",
    "   0\n",
    ")\n",
    "\n",
    "df_ema['nothing_no_careless_one_nulllength'] = np.where(\n",
    "    df_ema['ct_per_survey_item'] < 1,\n",
    "    np.nan,\n",
    "    df_ema['nothing_no_careless_one_nulllength']\n",
    ")"
   ]
  },
  {
   "cell_type": "code",
   "execution_count": 311,
   "id": "eccc35d6-3e37-4f14-a314-5f8b4b5a31a1",
   "metadata": {},
   "outputs": [],
   "source": [
    "df_ema['nothing_no_careless_one_point_five_nulllength'] = np.where(\n",
    "    (df_ema['nothing'] == 1) | (df_ema['first_question_length'] == 0),\n",
    "    1,\n",
    "   0\n",
    ")\n",
    "\n",
    "df_ema['nothing_no_careless_one_point_five_nulllength'] = np.where(\n",
    "    df_ema['ct_per_survey_item'] < 1.5,\n",
    "    np.nan,\n",
    "    df_ema['nothing_no_careless_one_point_five_nulllength']\n",
    ")"
   ]
  },
  {
   "cell_type": "code",
   "execution_count": 312,
   "id": "12bff08a-1186-4156-bd48-ab92b1c3d9f0",
   "metadata": {},
   "outputs": [],
   "source": [
    "df_ema['nothing_no_careless_two_nulllength'] = np.where(\n",
    "    (df_ema['nothing'] == 1) | (df_ema['first_question_length'] == 0),\n",
    "    1,\n",
    "   0\n",
    ")\n",
    "\n",
    "df_ema['nothing_no_careless_two_nulllength'] = np.where(\n",
    "    df_ema['ct_per_survey_item'] < 2,\n",
    "    np.nan,\n",
    "    df_ema['nothing_no_careless_two_nulllength']\n",
    ")"
   ]
  },
  {
   "cell_type": "code",
   "execution_count": null,
   "id": "4d52b604-d62e-490a-8419-8e47b7a487aa",
   "metadata": {},
   "outputs": [],
   "source": [
    "df_ema['nothing_no_careless_one'].value_counts()"
   ]
  },
  {
   "cell_type": "code",
   "execution_count": null,
   "id": "1e1df4ee-c482-4e3b-9bcb-caebd4a3a1bd",
   "metadata": {},
   "outputs": [],
   "source": [
    "df_ema['nothing_no_careless_one_point_five'].value_counts()"
   ]
  },
  {
   "cell_type": "code",
   "execution_count": null,
   "id": "edb8a123-1b8b-44d3-94a4-30ae175cfd3b",
   "metadata": {},
   "outputs": [],
   "source": [
    "df_ema['nothing_no_careless_two'].value_counts()"
   ]
  },
  {
   "cell_type": "code",
   "execution_count": null,
   "id": "2ee25b8b-5820-4522-8252-02ecb7ac0455",
   "metadata": {},
   "outputs": [],
   "source": [
    "df_ema['nothing_no_careless_one_nulllength'].value_counts()"
   ]
  },
  {
   "cell_type": "code",
   "execution_count": null,
   "id": "9a40fede-73aa-4dc0-a76e-9923b64db391",
   "metadata": {},
   "outputs": [],
   "source": [
    "df_ema['nothing_no_careless_two_nulllength'].value_counts()"
   ]
  },
  {
   "cell_type": "code",
   "execution_count": null,
   "id": "9ab072ed-cca4-4a65-875f-d7dac333533c",
   "metadata": {},
   "outputs": [],
   "source": [
    "df_ema['nothing_no_careless_one_point_five_nulllength'].value_counts()"
   ]
  },
  {
   "cell_type": "code",
   "execution_count": null,
   "id": "00e74f35-6f34-4649-94ca-2016feb69b3c",
   "metadata": {},
   "outputs": [],
   "source": [
    "df_ema.head()"
   ]
  },
  {
   "cell_type": "code",
   "execution_count": null,
   "id": "f59662bb-83db-4118-a620-067dae11e2da",
   "metadata": {},
   "outputs": [],
   "source": [
    "data_to_plot = df_ema['ct_per_survey_item'].dropna()\n",
    "\n",
    "# Define the range for the histogram\n",
    "hist_range = (0, 4.6)\n",
    "\n",
    "# Create histogram with specified range\n",
    "plt.hist(data_to_plot, bins=23, range=hist_range, color='blue', edgecolor='black')\n",
    "\n",
    "# Add labels and title\n",
    "plt.xlabel('ct_per_survey_item_one_median (seconds)')\n",
    "plt.ylabel('Frequency')\n",
    "plt.title('Histogram of ct_per_survey_item_one_median')\n",
    "\n",
    "# Show plot\n",
    "plt.show()\n"
   ]
  },
  {
   "cell_type": "code",
   "execution_count": null,
   "id": "300c93de-f31c-40e4-960e-d23cb220afb5",
   "metadata": {},
   "outputs": [],
   "source": [
    "df_ema['subject_id_roman_x'].nunique()"
   ]
  },
  {
   "cell_type": "markdown",
   "id": "6b3be94d-8af9-4dba-9f1c-18574033aa98",
   "metadata": {},
   "source": [
    "#### Make completion time per survey item intervals"
   ]
  },
  {
   "cell_type": "code",
   "execution_count": 322,
   "id": "dc9fd76e-d14b-46b2-8fe4-e67e29f53b59",
   "metadata": {},
   "outputs": [],
   "source": [
    "df_ema['ct_per_survey_item_one_median'] = df_ema['ct_per_survey_item']\n",
    "df_ema.loc[(df_ema['ct_per_survey_item_one_median'] < 1) | (df_ema['ct_per_survey_item_one_median'] > 4.5), 'ct_per_survey_item_one_median'] = pd.NA\n"
   ]
  },
  {
   "cell_type": "code",
   "execution_count": 323,
   "id": "2b5716d8-0b23-48c6-9a96-4de311dc7a81",
   "metadata": {},
   "outputs": [],
   "source": [
    "df_ema['ct_per_survey_item_one_point_five_median'] = df_ema['ct_per_survey_item']\n",
    "df_ema.loc[(df_ema['ct_per_survey_item_one_point_five_median'] < 1.5) | (df_ema['ct_per_survey_item_one_point_five_median'] > 4.5), 'ct_per_survey_item_one_point_five_median'] = pd.NA\n"
   ]
  },
  {
   "cell_type": "code",
   "execution_count": 324,
   "id": "f40d0477-e262-4c91-bc1b-ed9b4f18cc1c",
   "metadata": {},
   "outputs": [],
   "source": [
    "df_ema['ct_per_survey_item_two_median'] = df_ema['ct_per_survey_item']\n",
    "df_ema.loc[(df_ema['ct_per_survey_item_two_median'] < 2) | (df_ema['ct_per_survey_item_two_median'] > 4.5), 'ct_per_survey_item_two_median'] = pd.NA"
   ]
  },
  {
   "cell_type": "code",
   "execution_count": 325,
   "id": "b93854f6-8b92-4b27-98b7-78b2cd8b92fb",
   "metadata": {},
   "outputs": [],
   "source": [
    "df_ema['ct_per_survey_item_two_point_five_median'] = df_ema['ct_per_survey_item']\n",
    "df_ema.loc[(df_ema['ct_per_survey_item_two_point_five_median'] < 2.5) | (df_ema['ct_per_survey_item_two_point_five_median'] > 4.5), 'ct_per_survey_item_two_point_five_median'] = pd.NA\n"
   ]
  },
  {
   "cell_type": "code",
   "execution_count": 326,
   "id": "470c9098-e867-4853-a655-0f49c37f623a",
   "metadata": {},
   "outputs": [],
   "source": [
    "df_ema['ct_per_survey_item_three_median'] = df_ema['ct_per_survey_item']\n",
    "df_ema.loc[(df_ema['ct_per_survey_item_three_median'] < 3) | (df_ema['ct_per_survey_item_three_median'] > 4.5), 'ct_per_survey_item_three_median'] = pd.NA\n"
   ]
  },
  {
   "cell_type": "code",
   "execution_count": 327,
   "id": "57c438dd-30d7-4426-89cf-9063e1161950",
   "metadata": {},
   "outputs": [],
   "source": [
    "df_ema['ct_per_survey_item_three_point_five_median'] = df_ema['ct_per_survey_item']\n",
    "df_ema.loc[(df_ema['ct_per_survey_item_three_point_five_median'] < 3.5) | (df_ema['ct_per_survey_item_three_point_five_median'] > 4.5), 'ct_per_survey_item_three_point_five_median'] = pd.NA\n"
   ]
  },
  {
   "cell_type": "code",
   "execution_count": 328,
   "id": "a7c3d966-ff88-4923-95eb-bc9c6c77b061",
   "metadata": {},
   "outputs": [],
   "source": [
    "df_ema['ct_per_survey_item_four_median'] = df_ema['ct_per_survey_item']\n",
    "df_ema.loc[(df_ema['ct_per_survey_item_four_median'] < 4) | (df_ema['ct_per_survey_item_four_median'] > 4.5), 'ct_per_survey_item_four_median'] = pd.NA\n"
   ]
  },
  {
   "cell_type": "code",
   "execution_count": null,
   "id": "126629e7-a471-46fd-bd5d-d39420c02870",
   "metadata": {},
   "outputs": [],
   "source": [
    "df_ema['ct_per_survey_item_one_median'].describe()"
   ]
  },
  {
   "cell_type": "code",
   "execution_count": null,
   "id": "f82cdaa0-c07c-4fe2-9698-2465120a6c88",
   "metadata": {},
   "outputs": [],
   "source": [
    "df_ema['ct_per_survey_item_one_point_five_median'].describe()"
   ]
  },
  {
   "cell_type": "code",
   "execution_count": null,
   "id": "3e0e0f49-d49d-43d2-98a0-6e865abb810e",
   "metadata": {},
   "outputs": [],
   "source": [
    "df_ema['ct_per_survey_item_two_median'].describe()"
   ]
  },
  {
   "cell_type": "code",
   "execution_count": null,
   "id": "439ec124-f7aa-4525-88e6-a7f8bdb93ee1",
   "metadata": {},
   "outputs": [],
   "source": [
    "df_ema['ct_per_survey_item_two_point_five_median'].describe()"
   ]
  },
  {
   "cell_type": "code",
   "execution_count": null,
   "id": "495a62a9-a436-4c09-b304-bb333230acd1",
   "metadata": {},
   "outputs": [],
   "source": [
    "df_ema['ct_per_survey_item_three_median'].describe()"
   ]
  },
  {
   "cell_type": "code",
   "execution_count": null,
   "id": "694a24ad-f91a-4ac5-ad9b-71ecd7465586",
   "metadata": {},
   "outputs": [],
   "source": [
    "df_ema['ct_per_survey_item_three_point_five_median'].describe()"
   ]
  },
  {
   "cell_type": "code",
   "execution_count": null,
   "id": "a0ad3e58-f84e-4e42-b2d8-557d120c5fe9",
   "metadata": {},
   "outputs": [],
   "source": [
    "df_ema['ct_per_survey_item_four_median'].describe()"
   ]
  },
  {
   "cell_type": "code",
   "execution_count": null,
   "id": "ca99c190-7ed3-4d45-b7a0-957405cf52ee",
   "metadata": {},
   "outputs": [],
   "source": []
  },
  {
   "cell_type": "markdown",
   "id": "6fce57ee-4d81-4007-9ba0-9624af698668",
   "metadata": {},
   "source": [
    "#### Make longstring feature"
   ]
  },
  {
   "cell_type": "code",
   "execution_count": 336,
   "id": "6579ae81-74f6-43dd-b8d2-81afa2caf666",
   "metadata": {},
   "outputs": [],
   "source": [
    "df_ema['longstring'] = np.nan\n",
    "\n",
    "# Check if all specified columns have the same value in each row\n",
    "same_values_mask = (df_ema['fatigue'] == df_ema['stress']) & \\\n",
    "                   (df_ema['fatigue'] == df_ema['hunger']) & \\\n",
    "                   (df_ema['fatigue'] == df_ema['affect'])\n",
    "\n",
    "# Assign 1 to 'longstring' where all values are the same, otherwise 0\n",
    "df_ema.loc[same_values_mask, 'longstring'] = 1\n",
    "df_ema.loc[~same_values_mask, 'longstring'] = 0"
   ]
  },
  {
   "cell_type": "code",
   "execution_count": null,
   "id": "27a9817d-ae77-4e3f-aede-76e5d10f10f8",
   "metadata": {},
   "outputs": [],
   "source": [
    "df_ema['longstring'].value_counts()"
   ]
  },
  {
   "cell_type": "code",
   "execution_count": null,
   "id": "31de2d40-9910-4cd7-9448-cefd49057c4b",
   "metadata": {},
   "outputs": [],
   "source": [
    "df_ema.head(5)"
   ]
  },
  {
   "cell_type": "code",
   "execution_count": 339,
   "id": "0a8c1985-6143-47b1-9c7c-3c5268c28b62",
   "metadata": {},
   "outputs": [],
   "source": [
    "df_no_longstrings = df_ema[df_ema['longstring'] == 0]"
   ]
  },
  {
   "cell_type": "code",
   "execution_count": null,
   "id": "e37f07ca-7210-4122-ba53-e97df2004c5f",
   "metadata": {},
   "outputs": [],
   "source": [
    "df_no_longstrings['ct_per_survey_item'].describe()"
   ]
  },
  {
   "cell_type": "code",
   "execution_count": null,
   "id": "e8056db0-9817-4ab0-8ae9-640525b1c879",
   "metadata": {},
   "outputs": [],
   "source": [
    "df_no_longstrings['survey_length_n'].describe()"
   ]
  },
  {
   "cell_type": "code",
   "execution_count": null,
   "id": "fbfd3e4f-3029-4e8a-807b-faa7a736e4f8",
   "metadata": {},
   "outputs": [],
   "source": [
    "df_no_longstrings['first_question_length'].describe()"
   ]
  },
  {
   "cell_type": "code",
   "execution_count": null,
   "id": "26242d81-3144-4cc5-b4e4-6449ea94cd25",
   "metadata": {},
   "outputs": [],
   "source": [
    "df_no_longstrings['completion_time'].describe()"
   ]
  },
  {
   "cell_type": "code",
   "execution_count": null,
   "id": "3b471a4f-c9fb-4089-bc9e-295abe0f28a5",
   "metadata": {},
   "outputs": [],
   "source": [
    "df_no_longstrings.head(1)"
   ]
  },
  {
   "cell_type": "code",
   "execution_count": 345,
   "id": "b3de131d-9c08-42ef-ad96-6f1d510d0e0f",
   "metadata": {},
   "outputs": [],
   "source": [
    "df_longstrings = df_ema[df_ema['longstring'] == 1]"
   ]
  },
  {
   "cell_type": "code",
   "execution_count": null,
   "id": "acf7bd42-f035-4a63-8fc8-233fc16631aa",
   "metadata": {},
   "outputs": [],
   "source": [
    "df_longstrings.head(225).tail(1)"
   ]
  },
  {
   "cell_type": "code",
   "execution_count": null,
   "id": "2c179652-973a-4401-9a7b-7a368dc203ca",
   "metadata": {},
   "outputs": [],
   "source": [
    "df_longstrings[\"stress\"].value_counts()"
   ]
  },
  {
   "cell_type": "markdown",
   "id": "939776bb-2419-4962-a9c2-19ef3ab5dfe4",
   "metadata": {},
   "source": [
    "#### Make Longstring_careless_one feature"
   ]
  },
  {
   "cell_type": "code",
   "execution_count": 348,
   "id": "36d2d9f7-a355-4987-8c93-24db1cbe23be",
   "metadata": {},
   "outputs": [],
   "source": [
    "df_ema['longstring'] = df_ema['longstring'].astype(int)\n",
    "df_ema['careless_response_one'] = df_ema['careless_response_one'].astype(int)"
   ]
  },
  {
   "cell_type": "code",
   "execution_count": 349,
   "id": "e6ee2841-ba2a-4216-b445-7e225101431c",
   "metadata": {},
   "outputs": [],
   "source": [
    "df_ema['longstring_careless_one'] = (df_ema['longstring'] | df_ema['careless_response_one']).astype(int)\n"
   ]
  },
  {
   "cell_type": "code",
   "execution_count": null,
   "id": "5088bceb-4d25-4bdc-b26a-e96aec983ab5",
   "metadata": {},
   "outputs": [],
   "source": [
    "df_ema['longstring_careless_one'].value_counts()"
   ]
  },
  {
   "cell_type": "markdown",
   "id": "2622ccd8-d23c-4d51-bab5-39a13b11a1a2",
   "metadata": {},
   "source": [
    "#### Longstring values per participant"
   ]
  },
  {
   "cell_type": "code",
   "execution_count": 351,
   "id": "846ac536-8ccd-4245-833d-d9d0f82dd6a8",
   "metadata": {},
   "outputs": [],
   "source": [
    "participant_counts = df_ema[df_ema['longstring'] == 1].groupby('subject_id_roman_x').size()\n",
    "\n",
    "# Map the participant counts back to the original DataFrame\n",
    "df_ema['longstrings_per_participant'] = df_ema['subject_id_roman_x'].map(participant_counts)\n",
    "\n",
    "# Fill NaN values with 0 for participants with no records\n",
    "df_ema['longstrings_per_participant'].fillna(0, inplace=True)\n"
   ]
  },
  {
   "cell_type": "code",
   "execution_count": null,
   "id": "4f47b62e-05cc-47db-afba-fa2a5771cbd3",
   "metadata": {},
   "outputs": [],
   "source": [
    "df_ema['longstrings_per_participant'].describe()"
   ]
  },
  {
   "cell_type": "markdown",
   "id": "fa675ea9-6130-43d8-b1b2-0106576f7b0e",
   "metadata": {},
   "source": [
    "#### Make longstrings per participants that have at least 2 or 3 instances of longstrings"
   ]
  },
  {
   "cell_type": "code",
   "execution_count": 353,
   "id": "8fd1689d-d9ac-4948-bea6-61a4f74c4e67",
   "metadata": {},
   "outputs": [],
   "source": [
    "# Creating a new column 'longstring_two' and assigning initial value as 0\n",
    "df_ema['longstring_two'] = 0\n",
    "\n",
    "# Conditionally assign 1 to rows where 'longstring' is 1 and 'Longstrings_per_participant' is neither 0 nor 1\n",
    "mask = (df_ema['longstring'] == 1) & (df_ema['longstrings_per_participant'].isin([0, 1]) == False)\n",
    "df_ema.loc[mask, 'longstring_two'] = 1\n"
   ]
  },
  {
   "cell_type": "code",
   "execution_count": null,
   "id": "24b642d1-7b10-47d7-aad5-0d35e27ad54b",
   "metadata": {},
   "outputs": [],
   "source": [
    "df_ema['longstring_two'].value_counts()"
   ]
  },
  {
   "cell_type": "code",
   "execution_count": 355,
   "id": "e53eb9d3-8bd8-4f94-b260-324b94757c64",
   "metadata": {},
   "outputs": [],
   "source": [
    "# Creating a new column 'longstring_two' and assigning initial value as 0\n",
    "df_ema['longstring_three'] = 0\n",
    "\n",
    "# Conditionally assign 1 to rows where 'longstring' is 1 and 'Longstrings_per_participant' is neither 0, 1, nor 2\n",
    "mask = (df_ema['longstring'] == 1) & (~df_ema['longstrings_per_participant'].isin([0, 1, 2]))\n",
    "df_ema.loc[mask, 'longstring_three'] = 1\n"
   ]
  },
  {
   "cell_type": "code",
   "execution_count": null,
   "id": "c44e4fde-0eef-48cd-a023-867181a7fa60",
   "metadata": {},
   "outputs": [],
   "source": [
    "df_ema['longstring_three'].value_counts()"
   ]
  },
  {
   "cell_type": "code",
   "execution_count": 357,
   "id": "04321bfa-d783-4944-a22f-04f6faa6e668",
   "metadata": {},
   "outputs": [],
   "source": [
    "# Creating a new column 'longstring_two' and assigning initial value as 0\n",
    "df_ema['longstring_four'] = 0\n",
    "\n",
    "# Conditionally assign 1 to rows where 'longstring' is 1 and 'Longstrings_per_participant' is neither 0, 1, nor 2\n",
    "mask = (df_ema['longstring'] == 1) & (~df_ema['longstrings_per_participant'].isin([0, 1, 2,3]))\n",
    "df_ema.loc[mask, 'longstring_four'] = 1\n"
   ]
  },
  {
   "cell_type": "code",
   "execution_count": null,
   "id": "5db32ca8-e294-4ccf-b13a-a0e239f3cac0",
   "metadata": {},
   "outputs": [],
   "source": [
    "df_ema['longstring_four'].value_counts()"
   ]
  },
  {
   "cell_type": "code",
   "execution_count": 359,
   "id": "8e32b0fd-8b79-4227-b7cf-9bd45c4a02e4",
   "metadata": {},
   "outputs": [],
   "source": [
    "# Creating a new column 'longstring_two' and assigning initial value as 0\n",
    "df_ema['longstring_five'] = 0\n",
    "\n",
    "# Conditionally assign 1 to rows where 'longstring' is 1 and 'Longstrings_per_participant' is neither 0, 1, nor 2\n",
    "mask = (df_ema['longstring'] == 1) & (~df_ema['longstrings_per_participant'].isin([0, 1, 2,3, 4]))\n",
    "df_ema.loc[mask, 'longstring_five'] = 1\n"
   ]
  },
  {
   "cell_type": "code",
   "execution_count": null,
   "id": "6245108d-efe8-4e82-b469-07a0faac7aa2",
   "metadata": {},
   "outputs": [],
   "source": [
    "df_ema['longstring_five'].value_counts()"
   ]
  },
  {
   "cell_type": "code",
   "execution_count": 361,
   "id": "9457f175-fa35-47ec-976d-b191f5233040",
   "metadata": {},
   "outputs": [],
   "source": [
    "# Creating a new column 'longstring_two' and assigning initial value as 0\n",
    "df_ema['longstring_six'] = 0\n",
    "\n",
    "# Conditionally assign 1 to rows where 'longstring' is 1 and 'Longstrings_per_participant' is neither 0, 1, nor 2\n",
    "mask = (df_ema['longstring'] == 1) & (~df_ema['longstrings_per_participant'].isin([0, 1, 2,3, 4, 5]))\n",
    "df_ema.loc[mask, 'longstring_six'] = 1\n"
   ]
  },
  {
   "cell_type": "code",
   "execution_count": null,
   "id": "5a9c197c-e71b-4490-8246-7c6e801ce1e6",
   "metadata": {},
   "outputs": [],
   "source": [
    "df_ema['longstring_six'].value_counts()"
   ]
  },
  {
   "cell_type": "code",
   "execution_count": 363,
   "id": "ff91c809-8e3f-479a-90b5-3f483962bfea",
   "metadata": {},
   "outputs": [],
   "source": [
    "# Creating a new column 'longstring_two' and assigning initial value as 0\n",
    "df_ema['longstring_seven'] = 0\n",
    "\n",
    "# Conditionally assign 1 to rows where 'longstring' is 1 and 'Longstrings_per_participant' is neither 0, 1, nor 2\n",
    "mask = (df_ema['longstring'] == 1) & (~df_ema['longstrings_per_participant'].isin([0, 1, 2,3, 4, 5, 6]))\n",
    "df_ema.loc[mask, 'longstring_seven'] = 1\n"
   ]
  },
  {
   "cell_type": "code",
   "execution_count": null,
   "id": "4bee6761-b640-4460-9ca0-d854438bef2c",
   "metadata": {},
   "outputs": [],
   "source": [
    "df_ema['longstring_seven'].value_counts()"
   ]
  },
  {
   "cell_type": "markdown",
   "id": "81605803-527a-478f-a642-b5be8f812f63",
   "metadata": {},
   "source": [
    "#### Make longstring & limit completion time feature"
   ]
  },
  {
   "cell_type": "code",
   "execution_count": 365,
   "id": "2637320f-cf60-4a9c-8507-c2ef8569de09",
   "metadata": {},
   "outputs": [],
   "source": [
    "df_ema['longstring_no_three'] = 0\n",
    "\n",
    "# Update the values based on conditions\n",
    "df_ema.loc[(df_ema['longstring'] == 1) & (df_ema['stress'] != 3), 'longstring_no_three'] = 1\n"
   ]
  },
  {
   "cell_type": "code",
   "execution_count": 366,
   "id": "5c111f9d-49fe-47c7-b8ab-45fb1a035ca4",
   "metadata": {},
   "outputs": [],
   "source": [
    "df_ema['longstring_comp_ti_six_point_eight'] = 0\n",
    "df_ema.loc[(df_ema['longstring'] == 1) & (df_ema['ct_per_survey_item'] <= 6.8), 'longstring_comp_ti_six_point_eight'] = 1\n"
   ]
  },
  {
   "cell_type": "code",
   "execution_count": 367,
   "id": "a84e80c9-272a-4b0f-a6a7-68646c7f9e70",
   "metadata": {},
   "outputs": [],
   "source": [
    "df_ema['longstring_comp_ti_four_point_five'] = 0\n",
    "df_ema.loc[(df_ema['longstring'] == 1) & (df_ema['ct_per_survey_item'] <= 4.5), 'longstring_comp_ti_four_point_five'] = 1\n"
   ]
  },
  {
   "cell_type": "code",
   "execution_count": 368,
   "id": "b1c0b782-ae76-4f50-b9f6-a14c519a64c9",
   "metadata": {},
   "outputs": [],
   "source": [
    "df_ema['longstring_comp_ti_three'] = 0\n",
    "df_ema.loc[(df_ema['longstring'] == 1) & (df_ema['ct_per_survey_item'] <= 3), 'longstring_comp_ti_three'] = 1\n"
   ]
  },
  {
   "cell_type": "code",
   "execution_count": 369,
   "id": "b1aa13f2-a4d0-419d-b929-b91850d26331",
   "metadata": {},
   "outputs": [],
   "source": [
    "df_ema['longstring_comp_ti_two'] = 0\n",
    "df_ema.loc[(df_ema['longstring'] == 1) & (df_ema['ct_per_survey_item'] <= 2), 'longstring_comp_ti_two'] = 1\n"
   ]
  },
  {
   "cell_type": "code",
   "execution_count": null,
   "id": "439d6fa1-e8bb-4c81-9abe-6422a7c0569b",
   "metadata": {},
   "outputs": [],
   "source": [
    "df_ema['longstring_comp_ti_six_point_eight'].value_counts()"
   ]
  },
  {
   "cell_type": "code",
   "execution_count": null,
   "id": "b94d0ae8-40e1-492b-9185-bb698d85c9de",
   "metadata": {},
   "outputs": [],
   "source": [
    "df_ema['longstring_comp_ti_four_point_five'].value_counts()"
   ]
  },
  {
   "cell_type": "code",
   "execution_count": null,
   "id": "9948a14e-e546-426f-a0ce-e2be37c64682",
   "metadata": {},
   "outputs": [],
   "source": [
    "df_ema['longstring_comp_ti_three'].value_counts()"
   ]
  },
  {
   "cell_type": "code",
   "execution_count": null,
   "id": "a7f83217-206c-401a-b116-1c042c474254",
   "metadata": {},
   "outputs": [],
   "source": [
    "df_ema['longstring_comp_ti_two'].value_counts()"
   ]
  },
  {
   "cell_type": "code",
   "execution_count": null,
   "id": "e1a4eee9-9372-4c49-959f-c0c3094764d6",
   "metadata": {},
   "outputs": [],
   "source": [
    "df_ema['longstring_no_three'].value_counts()"
   ]
  },
  {
   "cell_type": "code",
   "execution_count": null,
   "id": "07c4d582-274e-417e-995b-c3708ea73406",
   "metadata": {},
   "outputs": [],
   "source": [
    "df_ema['longstring'].value_counts()"
   ]
  },
  {
   "cell_type": "code",
   "execution_count": null,
   "id": "a93ee915-d9a9-4b8a-9ac8-7e824f85d45b",
   "metadata": {},
   "outputs": [],
   "source": [
    "df_ema['ct_per_survey_item'].describe()"
   ]
  },
  {
   "cell_type": "code",
   "execution_count": 377,
   "id": "df592ab6-94a6-47db-9773-71c36eec54c1",
   "metadata": {},
   "outputs": [],
   "source": [
    "df_new = df_ema.copy()"
   ]
  },
  {
   "cell_type": "code",
   "execution_count": 378,
   "id": "0ff6e687-b941-4dfe-82b1-d762febf781e",
   "metadata": {},
   "outputs": [],
   "source": [
    "df_new = df_new[df_new['longstring'] == 1]"
   ]
  },
  {
   "cell_type": "markdown",
   "id": "2b92bd4e-9c0a-4219-a619-ac74b477a103",
   "metadata": {},
   "source": [
    "#### Combine longstring and non-compliance"
   ]
  },
  {
   "cell_type": "code",
   "execution_count": 379,
   "id": "75fdc87d-dcae-451e-a8ea-07929e43ff74",
   "metadata": {},
   "outputs": [],
   "source": [
    "df_ema['long_no_comp'] = ((df_ema['longstring'] == 1) | (df_ema['compliance'] == 0)).astype(int)"
   ]
  },
  {
   "cell_type": "code",
   "execution_count": null,
   "id": "4b775f6e-ad44-405a-8649-34cec9bb4763",
   "metadata": {},
   "outputs": [],
   "source": [
    "df_ema['long_no_comp'].value_counts()"
   ]
  },
  {
   "cell_type": "code",
   "execution_count": null,
   "id": "d14a961f-a3b5-4535-96d3-48045dd6a737",
   "metadata": {},
   "outputs": [],
   "source": [
    "df_ema['longstring'].value_counts()"
   ]
  },
  {
   "cell_type": "code",
   "execution_count": null,
   "id": "fe42373f-ed46-44a6-bdd6-20b7325b04b7",
   "metadata": {},
   "outputs": [],
   "source": [
    "df_ema['compliance'].value_counts()"
   ]
  },
  {
   "cell_type": "markdown",
   "id": "fd9e9be3-4c0f-4a05-8e8c-fbedff0f6e9c",
   "metadata": {},
   "source": [
    "#### Make next-prompt careless feature"
   ]
  },
  {
   "cell_type": "code",
   "execution_count": 383,
   "id": "4a820d82-034c-4d16-8152-7390c044b0c1",
   "metadata": {},
   "outputs": [],
   "source": [
    "df_ema['next_prompt_long_no_comp'] = df_ema['long_no_comp'].shift(-1)"
   ]
  },
  {
   "cell_type": "code",
   "execution_count": 384,
   "id": "1ef5ca1b-1a9b-4c4d-9d34-7bd3e20819d5",
   "metadata": {},
   "outputs": [],
   "source": [
    "df_ema['next_prompt_careless'] = df_ema['careless_response'].shift(-1)"
   ]
  },
  {
   "cell_type": "code",
   "execution_count": 385,
   "id": "09cec16f-ecec-4ea5-80bc-9531f7393ca8",
   "metadata": {},
   "outputs": [],
   "source": [
    "df_ema['next_prompt_careless_one'] = df_ema['careless_response_one'].shift(-1)"
   ]
  },
  {
   "cell_type": "code",
   "execution_count": 386,
   "id": "6d1d68c8-5573-4a1c-9b26-f274eb07b14d",
   "metadata": {},
   "outputs": [],
   "source": [
    "df_ema['next_prompt_careless_one_point_five'] = df_ema['careless_response_one_point_five'].shift(-1)"
   ]
  },
  {
   "cell_type": "code",
   "execution_count": 387,
   "id": "b675934e-0884-48a9-9e63-e0d12d019e84",
   "metadata": {},
   "outputs": [],
   "source": [
    "df_ema['next_prompt_fast_one_two'] = df_ema['fast_response_one_two'].shift(-1)"
   ]
  },
  {
   "cell_type": "code",
   "execution_count": 388,
   "id": "267e149a-3855-4004-9cc0-2bf9416ca286",
   "metadata": {},
   "outputs": [],
   "source": [
    "df_ema['next_prompt_longstring'] = df_ema['longstring'].shift(-1)"
   ]
  },
  {
   "cell_type": "code",
   "execution_count": 389,
   "id": "8cd7baa3-f0a8-4217-a2fb-70be514d047a",
   "metadata": {},
   "outputs": [],
   "source": [
    "df_ema['next_prompt_longstring_two'] = df_ema['longstring_two'].shift(-1)"
   ]
  },
  {
   "cell_type": "code",
   "execution_count": 390,
   "id": "bd30d2cf-5f87-4bc2-b62d-1b5c9c779588",
   "metadata": {},
   "outputs": [],
   "source": [
    "df_ema['next_prompt_longstring_three'] = df_ema['longstring_three'].shift(-1)"
   ]
  },
  {
   "cell_type": "code",
   "execution_count": 391,
   "id": "4602d3ca-5658-4e6e-915c-7f4df0198247",
   "metadata": {},
   "outputs": [],
   "source": [
    "df_ema['next_prompt_longstring_four'] = df_ema['longstring_four'].shift(-1)"
   ]
  },
  {
   "cell_type": "code",
   "execution_count": 392,
   "id": "8c61b3b6-d0f6-495a-944b-2af9a51ad51e",
   "metadata": {},
   "outputs": [],
   "source": [
    "df_ema['next_prompt_longstring_five'] = df_ema['longstring_five'].shift(-1)"
   ]
  },
  {
   "cell_type": "code",
   "execution_count": 393,
   "id": "2dfcbe8d-3caf-4674-963b-be06d1e57a5a",
   "metadata": {},
   "outputs": [],
   "source": [
    "df_ema['next_prompt_longstring_six'] = df_ema['longstring_six'].shift(-1)"
   ]
  },
  {
   "cell_type": "code",
   "execution_count": 394,
   "id": "95e46da0-be55-49f9-aa7d-61df3b67074a",
   "metadata": {},
   "outputs": [],
   "source": [
    "df_ema['next_prompt_longstring_careless_one'] = df_ema['longstring_careless_one'].shift(-1)"
   ]
  },
  {
   "cell_type": "code",
   "execution_count": 395,
   "id": "5c9dec8c-9508-4af3-9be6-9b1eb358628c",
   "metadata": {},
   "outputs": [],
   "source": [
    "df_ema['next_prompt_longstring_comp_ti_six_point_eight'] = df_ema['longstring_comp_ti_six_point_eight'].shift(-1)"
   ]
  },
  {
   "cell_type": "code",
   "execution_count": 396,
   "id": "d6f57301-f024-40fd-a1de-549b9944b1a7",
   "metadata": {},
   "outputs": [],
   "source": [
    "df_ema['next_prompt_longstring_comp_ti_four_point_five'] = df_ema['longstring_comp_ti_four_point_five'].shift(-1)"
   ]
  },
  {
   "cell_type": "code",
   "execution_count": 397,
   "id": "e4c95e6b-0410-402e-b521-5b5363457cc3",
   "metadata": {},
   "outputs": [],
   "source": [
    "df_ema['next_prompt_longstring_comp_ti_three'] = df_ema['longstring_comp_ti_three'].shift(-1)"
   ]
  },
  {
   "cell_type": "code",
   "execution_count": 398,
   "id": "e6165516-c886-4ed7-bae5-26b445cca060",
   "metadata": {},
   "outputs": [],
   "source": [
    "df_ema['next_prompt_longstring_comp_ti_two'] = df_ema['longstring_comp_ti_two'].shift(-1)"
   ]
  },
  {
   "cell_type": "code",
   "execution_count": 399,
   "id": "30c003f9-4a4d-4226-9b88-a0cb581a187c",
   "metadata": {},
   "outputs": [],
   "source": [
    "df_ema['next_prompt_longstring_no_three'] = df_ema['longstring_no_three'].shift(-1)"
   ]
  },
  {
   "cell_type": "code",
   "execution_count": 400,
   "id": "37984155-865d-4c4a-bd78-3bb95ca3d187",
   "metadata": {},
   "outputs": [],
   "source": [
    "df_ema['next_prompt_ct_per_survey_item'] = df_ema['ct_per_survey_item'].shift(-1)"
   ]
  },
  {
   "cell_type": "code",
   "execution_count": 401,
   "id": "fce81cd9-02f6-4e60-b727-ccbc4a9a5cc0",
   "metadata": {},
   "outputs": [],
   "source": [
    "df_ema['next_prompt_completion_time'] = df_ema['completion_time'].shift(-1)"
   ]
  },
  {
   "cell_type": "code",
   "execution_count": null,
   "id": "83a7e486-fbca-4bfc-9272-3cd367d19220",
   "metadata": {},
   "outputs": [],
   "source": [
    "df_ema['next_prompt_ct_per_survey_item'].isna().sum()"
   ]
  },
  {
   "cell_type": "code",
   "execution_count": null,
   "id": "074169d8-a07b-4c66-b00d-72d54c75080a",
   "metadata": {},
   "outputs": [],
   "source": [
    "df_ema['ct_per_survey_item'].isna().sum()"
   ]
  },
  {
   "cell_type": "code",
   "execution_count": null,
   "id": "c6300c8d-74d9-4514-8d08-e49f317ee6fc",
   "metadata": {},
   "outputs": [],
   "source": [
    "df_ema['next_prompt_compliance'].isna().sum()"
   ]
  },
  {
   "cell_type": "code",
   "execution_count": null,
   "id": "eb32d21b-1db5-48b8-840c-1f058fe343ad",
   "metadata": {},
   "outputs": [],
   "source": [
    "df_ema['next_prompt_compliance'].value_counts()"
   ]
  },
  {
   "cell_type": "code",
   "execution_count": null,
   "id": "42291325-aac9-460f-a980-37ea86ef3e2a",
   "metadata": {},
   "outputs": [],
   "source": [
    "df_ema['compliance'].value_counts()"
   ]
  },
  {
   "cell_type": "code",
   "execution_count": null,
   "id": "83adbc44-b3ea-431a-a34b-8d49791f75a9",
   "metadata": {},
   "outputs": [],
   "source": [
    "df_ema.head(102).tail(0)"
   ]
  },
  {
   "cell_type": "code",
   "execution_count": 408,
   "id": "9b0493c3-70bf-4c50-a25b-cbfbd8a73b4a",
   "metadata": {},
   "outputs": [],
   "source": [
    "df_t = df_ema[df_ema['completion_time'].isna()]"
   ]
  },
  {
   "cell_type": "code",
   "execution_count": null,
   "id": "973d21a6-fb29-4f5d-be19-dc28ce355f41",
   "metadata": {},
   "outputs": [],
   "source": [
    "len(df_ema)"
   ]
  },
  {
   "cell_type": "code",
   "execution_count": null,
   "id": "ccc25ff6-678c-4fac-8b49-6729bb3dd725",
   "metadata": {},
   "outputs": [],
   "source": [
    "df_t.head()"
   ]
  },
  {
   "cell_type": "markdown",
   "id": "316654e4-57ab-44f1-a206-200db085a285",
   "metadata": {},
   "source": [
    "#### Make next-prompt careless or non-compliant feature"
   ]
  },
  {
   "cell_type": "code",
   "execution_count": 411,
   "id": "a2240fee-f9be-4732-9b74-57f258d445e0",
   "metadata": {},
   "outputs": [],
   "source": [
    "df_ema['next_prompt_invalid'] = np.where((df_ema['next_prompt_careless'] == 1) | (df_ema['next_prompt_compliance'] == 0), 1, 0)"
   ]
  },
  {
   "cell_type": "code",
   "execution_count": null,
   "id": "ca4e173f-e8f3-4588-bec9-15d8ea91081d",
   "metadata": {},
   "outputs": [],
   "source": [
    "df_ema['next_prompt_invalid'].value_counts()"
   ]
  },
  {
   "cell_type": "code",
   "execution_count": null,
   "id": "36ee5f77-9806-4d1d-bddb-e8e13a34dc62",
   "metadata": {},
   "outputs": [],
   "source": [
    "df_ema.head()"
   ]
  },
  {
   "cell_type": "code",
   "execution_count": 414,
   "id": "0ed8e06c-3cce-4ee5-acca-4112ff638bf0",
   "metadata": {},
   "outputs": [],
   "source": [
    "df = df_ema.copy()"
   ]
  },
  {
   "cell_type": "code",
   "execution_count": 415,
   "id": "849ba928-1f49-4f42-aa24-1c900dd5a748",
   "metadata": {},
   "outputs": [],
   "source": [
    "df['original_time_of_the_day'] = df['time_of_the_day_categories']"
   ]
  },
  {
   "cell_type": "code",
   "execution_count": 416,
   "id": "f8ff3b15-a592-43b5-80a1-05242dbc9520",
   "metadata": {},
   "outputs": [],
   "source": [
    "df.set_index('time_of_the_day_categories', inplace=True)"
   ]
  },
  {
   "cell_type": "code",
   "execution_count": 417,
   "id": "a55624f8-2961-42dd-ae4a-e32add0984a0",
   "metadata": {},
   "outputs": [],
   "source": [
    "df.index.name = None"
   ]
  },
  {
   "cell_type": "code",
   "execution_count": 418,
   "id": "8248f8de-818a-465e-8d7a-41f94bfeb9eb",
   "metadata": {},
   "outputs": [],
   "source": [
    "df['time_of_the_day_categories'] = df['original_time_of_the_day'].copy()"
   ]
  },
  {
   "cell_type": "code",
   "execution_count": null,
   "id": "f8cf1c22-a403-4597-a754-ffa5e29e2bdd",
   "metadata": {},
   "outputs": [],
   "source": [
    "df.head(7)\n"
   ]
  },
  {
   "cell_type": "code",
   "execution_count": null,
   "id": "f0d6c600-d03d-408c-a564-c191ea4cba7d",
   "metadata": {},
   "outputs": [],
   "source": [
    "valid_surveys['ct_per_survey_item'].describe()"
   ]
  },
  {
   "cell_type": "code",
   "execution_count": null,
   "id": "b9d563ff-3c0a-49eb-bfb0-e09b3d58c970",
   "metadata": {},
   "outputs": [],
   "source": [
    "df['ct_per_survey_item'].describe()"
   ]
  },
  {
   "cell_type": "code",
   "execution_count": null,
   "id": "2d543eb8-1195-4c17-a4f9-9b97ab57586b",
   "metadata": {},
   "outputs": [],
   "source": [
    "df.head()"
   ]
  },
  {
   "cell_type": "code",
   "execution_count": null,
   "id": "7ba18eb6-7003-4787-a225-22461e777f82",
   "metadata": {},
   "outputs": [],
   "source": [
    "df['ct_per_survey_item'].describe()"
   ]
  },
  {
   "cell_type": "markdown",
   "id": "685cadd7-28dc-4578-95b3-d6f296c1580b",
   "metadata": {},
   "source": [
    "#### New Autocorrelation Feature"
   ]
  },
  {
   "cell_type": "code",
   "execution_count": 424,
   "id": "9391c999-0bb7-4b88-bd40-346e9911c7e1",
   "metadata": {},
   "outputs": [],
   "source": [
    "# Function to perform the specified steps\n",
    "def process_data(df):\n",
    "    prev_time_of_the_day_category = -1\n",
    "    obscomp_steps_counter = 0  # Counter for obscomp_steps\n",
    "\n",
    "    def calculate_obscomp_steps(row):\n",
    "        # use outer variables instead of creating new ones\n",
    "        nonlocal prev_time_of_the_day_category, obscomp_steps_counter\n",
    "\n",
    "        time_of_the_day_categories = row['time_of_the_day_categories']\n",
    "        compliance = row['compliance']\n",
    "\n",
    "        # reset counter if next day\n",
    "        if time_of_the_day_categories <= prev_time_of_the_day_category:\n",
    "            obscomp_steps_counter = 0\n",
    "\n",
    "        prev_time_of_the_day_category = time_of_the_day_categories\n",
    "        if compliance == 1:\n",
    "            obscomp_steps = obscomp_steps_counter\n",
    "            obscomp_steps_counter = 0\n",
    "            return obscomp_steps\n",
    "        if compliance == 0:\n",
    "            # set to nan if compliance is zero, use other default if desired\n",
    "            obscomp_steps_counter += 1\n",
    "            return np.nan\n",
    "        raise ValueError(f\"Unknown compliance value: {compliance}\")\n",
    "\n",
    "    df['obscomp_steps'] = df.apply(calculate_obscomp_steps, axis=1)\n",
    "process_data(df)\n"
   ]
  },
  {
   "cell_type": "code",
   "execution_count": 425,
   "id": "e905a45f-d3ea-495b-832f-4b73ec1b6408",
   "metadata": {},
   "outputs": [],
   "source": [
    "# Function to perform the specified steps\n",
    "def process_data(df):\n",
    "    prev_time_of_the_day_category = -1\n",
    "    obscomp_steps_counter = 0  # Counter for obscomp_steps\n",
    "\n",
    "    def calculate_obscomp_steps(row):\n",
    "        # use outer variables instead of creating new ones\n",
    "        nonlocal prev_time_of_the_day_category, obscomp_steps_counter\n",
    "\n",
    "        time_of_the_day_categories = row['time_of_the_day_categories']\n",
    "        compliance = row['response_ten_binary']\n",
    "\n",
    "        # reset counter if next day\n",
    "        if time_of_the_day_categories <= prev_time_of_the_day_category:\n",
    "            obscomp_steps_counter = 0\n",
    "\n",
    "        prev_time_of_the_day_category = time_of_the_day_categories\n",
    "        if compliance == 1:\n",
    "            obscomp_steps = obscomp_steps_counter\n",
    "            obscomp_steps_counter = 0\n",
    "            return obscomp_steps\n",
    "        if compliance == 0:\n",
    "            # set to nan if compliance is zero, use other default if desired\n",
    "            obscomp_steps_counter += 1\n",
    "            return np.nan\n",
    "        raise ValueError(f\"Unknown compliance value: {compliance}\")\n",
    "\n",
    "    df['obscomp_steps_ten'] = df.apply(calculate_obscomp_steps, axis=1)\n",
    "process_data(df)\n"
   ]
  },
  {
   "cell_type": "code",
   "execution_count": null,
   "id": "640f3a8b-5472-4c19-84d6-2f43abd461d7",
   "metadata": {},
   "outputs": [],
   "source": [
    "df['obscomp_steps'].value_counts()"
   ]
  },
  {
   "cell_type": "code",
   "execution_count": null,
   "id": "17cdc330-63a3-4a41-83c2-22086f997b0a",
   "metadata": {},
   "outputs": [],
   "source": [
    "len(df)"
   ]
  },
  {
   "cell_type": "code",
   "execution_count": null,
   "id": "f018aa66-c6b5-4532-95ac-3b5a78182754",
   "metadata": {},
   "outputs": [],
   "source": [
    "df['obscomp_steps_ten'].value_counts()"
   ]
  },
  {
   "cell_type": "markdown",
   "id": "3624aa60-cde9-4bad-a7a6-86b3520bb3f6",
   "metadata": {},
   "source": [
    "The Autocorrelation calculation of the code below is correct (without iterating over participants). Iterating over participants is not necessary as every last survey per day anyway receives the value NA, so every day over all participants can be regarded as being calculated independently"
   ]
  },
  {
   "cell_type": "markdown",
   "id": "48d80560-2633-4d06-9e60-3f9996526d85",
   "metadata": {},
   "source": [
    "Debugging obscomp steps below -> Delete again afterwards"
   ]
  },
  {
   "cell_type": "code",
   "execution_count": null,
   "id": "4d7504a9-b041-4871-a194-95fe5e40056b",
   "metadata": {},
   "outputs": [],
   "source": [
    "df['obscomp_steps'].value_counts()"
   ]
  },
  {
   "cell_type": "code",
   "execution_count": null,
   "id": "98df35d6-c3bc-4c7c-9a5a-9a4a21149b27",
   "metadata": {},
   "outputs": [],
   "source": [
    "df['obscomp_steps_ten'].value_counts()"
   ]
  },
  {
   "cell_type": "markdown",
   "id": "f91a77c6-76b7-4544-8e30-4292eaefda30",
   "metadata": {},
   "source": [
    "In the Autocorrelation logic, the value for Obcomp_steps of the first survey of the day always has to be 0 because there cannot be any missed surveys before this. Therefore, the next row sets all Obcomp_step values of the first survey of the day to 0. \n"
   ]
  },
  {
   "cell_type": "code",
   "execution_count": 431,
   "id": "eb658214-b670-4bcf-abc8-ae202f0a12f6",
   "metadata": {},
   "outputs": [],
   "source": [
    "df.loc[df['time_of_the_day_categories'] == 1, 'obscomp_steps'] = 0"
   ]
  },
  {
   "cell_type": "markdown",
   "id": "23e06b25-42be-46f1-a7cc-00df6224a0dc",
   "metadata": {},
   "source": [
    "(Caveat: I think i would need to also calculate the obscomp-steps feature for cases where the count is 6, because I have this also in the logic for the case of response delay and completion time!)"
   ]
  },
  {
   "cell_type": "markdown",
   "id": "ef6d713f-253a-4fd0-9b34-a875c27b6b8f",
   "metadata": {},
   "source": [
    "Do not change anything above this cell as this will also affect the response_delay and completion time dataset!!"
   ]
  },
  {
   "cell_type": "markdown",
   "id": "1beef66d-abd0-46c1-889c-e3ba525195a3",
   "metadata": {},
   "source": [
    "##### Impute sleep quality median for all sleep quality nas if the participant has at least 3 valid entries"
   ]
  },
  {
   "cell_type": "code",
   "execution_count": null,
   "id": "947aa636-34d4-4846-bb47-56cff56f6f56",
   "metadata": {},
   "outputs": [],
   "source": [
    "df['sleep_quality'].isna().sum()"
   ]
  },
  {
   "cell_type": "code",
   "execution_count": null,
   "id": "c26a6f81-9503-441f-86f8-7b88049d2a1f",
   "metadata": {},
   "outputs": [],
   "source": [
    "len(df)"
   ]
  },
  {
   "cell_type": "code",
   "execution_count": null,
   "id": "fc349e68-704b-4362-bc22-f5a8fcc85674",
   "metadata": {},
   "outputs": [],
   "source": [
    "df.head(6)"
   ]
  },
  {
   "cell_type": "code",
   "execution_count": null,
   "id": "24a09b54-f0d5-4997-8469-9c143ecf5afc",
   "metadata": {},
   "outputs": [],
   "source": [
    "df['sleep_quality'].describe()"
   ]
  },
  {
   "cell_type": "markdown",
   "id": "24a42067-fa99-4180-84fe-765272e232b7",
   "metadata": {},
   "source": [
    "#### Median Imputation"
   ]
  },
  {
   "cell_type": "code",
   "execution_count": 436,
   "id": "0a708191-df7f-41d4-8c4f-f4803419dffa",
   "metadata": {},
   "outputs": [],
   "source": [
    "# Identify unique participants with at least two rows where time_of_the_day_categories is 1 and sleep_quality is not NA\n",
    "valid_participants = df[(df['time_of_the_day_categories'] == 1) & ~df['sleep_quality'].isna()]\\\n",
    "    ['subject_id_roman_x'].value_counts()[lambda x: x >= 3].index\n",
    "\n",
    "# Filter the DataFrame to include only rows from valid participants\n",
    "df_filtered = df[df['subject_id_roman_x'].isin(valid_participants)]\n",
    "\n"
   ]
  },
  {
   "cell_type": "code",
   "execution_count": 437,
   "id": "d77fe9cd-315b-4698-99ad-32a3585e48cd",
   "metadata": {},
   "outputs": [],
   "source": [
    "df_filtered_removed_parts_sleep = df[~df['subject_id_roman_x'].isin(valid_participants)]"
   ]
  },
  {
   "cell_type": "code",
   "execution_count": null,
   "id": "3889dbec-6f3d-4411-b9c3-059ba5f56b81",
   "metadata": {},
   "outputs": [],
   "source": [
    "df_filtered_removed_parts_sleep['subject_id_roman_x'].nunique()"
   ]
  },
  {
   "cell_type": "code",
   "execution_count": null,
   "id": "bc2b510b-ea93-4156-a895-e4269df338df",
   "metadata": {},
   "outputs": [],
   "source": [
    "unique_participant_ids = df_filtered_removed_parts_sleep['subject_id_roman_x'].unique()\n",
    "\n",
    "# Print the unique participant IDs\n",
    "print(\"Unique Participant IDs in df_filtered_parts_sleep:\")\n",
    "print(unique_participant_ids)\n",
    "\n",
    "# Print the count of unique participant IDs\n",
    "print(\"Number of Unique Participant IDs:\", len(unique_participant_ids))"
   ]
  },
  {
   "cell_type": "code",
   "execution_count": 440,
   "id": "c70a683d-3a20-42df-a288-731ed0fd33ed",
   "metadata": {},
   "outputs": [],
   "source": [
    "unique_participant_ids = pd.DataFrame(unique_participant_ids)\n",
    "unique_participant_ids.to_csv(f'../outputs/participants_sub_3_first_prompt_responses.csv', index=False)"
   ]
  },
  {
   "cell_type": "code",
   "execution_count": null,
   "id": "6ef96dd1-0efd-4d44-aaef-81501b87dabd",
   "metadata": {},
   "outputs": [],
   "source": [
    "len(df_filtered)"
   ]
  },
  {
   "cell_type": "code",
   "execution_count": null,
   "id": "cf40f288-d9be-4565-a07c-387b5c11d227",
   "metadata": {},
   "outputs": [],
   "source": [
    "df_filtered['subject_id_roman_x'].nunique()"
   ]
  },
  {
   "cell_type": "code",
   "execution_count": null,
   "id": "349369a0-2efe-4e74-8c20-e6ead95be440",
   "metadata": {},
   "outputs": [],
   "source": [
    "df_filtered['sleep_quality'].isna().sum()"
   ]
  },
  {
   "cell_type": "markdown",
   "id": "945629fb-e0ea-4e05-a0a5-f015ccad820e",
   "metadata": {},
   "source": [
    "7 participants have less than 3 unique sleep quality values (in the first survey of the day) and were thus excluded from the imputation process and from the dataset (582-7 = 575 participants)"
   ]
  },
  {
   "cell_type": "code",
   "execution_count": 444,
   "id": "02089483-c12b-486e-a7a1-71dbc3421ba4",
   "metadata": {},
   "outputs": [],
   "source": [
    "df = df_filtered.copy()"
   ]
  },
  {
   "cell_type": "markdown",
   "id": "84dd9d95-cd27-44e9-b129-b3209f4c1649",
   "metadata": {},
   "source": [
    "###### This participant has duplicate rows, therefore one set of duplicates is removed here"
   ]
  },
  {
   "cell_type": "code",
   "execution_count": null,
   "id": "ab86ce94-45e2-4f78-9a5e-60f3bf0b053e",
   "metadata": {},
   "outputs": [],
   "source": [
    "# Get the count of rows for each unique participant ID\n",
    "id_counts = df['subject_id_roman_x'].value_counts()\n",
    "\n",
    "# Check if any participant ID has a count different from 54\n",
    "for participant_id, count in id_counts.items():\n",
    "    if count != 54:\n",
    "        print(f\"Participant ID {participant_id} has {count} rows instead of 54.\")\n"
   ]
  },
  {
   "cell_type": "code",
   "execution_count": 446,
   "id": "ae16250f-9e18-47fd-a83d-a26b9a005d5a",
   "metadata": {},
   "outputs": [],
   "source": [
    "# df_duplicate = df[df['subject_id_roman_x'] == '2023006-00015A']"
   ]
  },
  {
   "cell_type": "code",
   "execution_count": 447,
   "id": "c93c2fe9-a63f-4544-85b5-3e47c2d3a0e0",
   "metadata": {},
   "outputs": [],
   "source": [
    "# Identify the participant ID with duplicate rows\n",
    "duplicate_id = '2023006-00015A'\n",
    "\n",
    "# Create a boolean mask to identify rows to keep\n",
    "mask = (df['subject_id_roman_x'] != duplicate_id) | (df.groupby('subject_id_roman_x').cumcount() % 2 == 0)\n",
    "\n",
    "# Apply the mask to the dataframe to exclude every second row for the duplicate participant\n",
    "df = df[mask]\n"
   ]
  },
  {
   "cell_type": "code",
   "execution_count": null,
   "id": "16ddebdd-1f64-4cba-8dea-c58bcbbea320",
   "metadata": {},
   "outputs": [],
   "source": [
    "df['subject_id_roman_x'].nunique()"
   ]
  },
  {
   "cell_type": "code",
   "execution_count": null,
   "id": "f692b19d-f588-4980-aafe-6260ca03ec33",
   "metadata": {},
   "outputs": [],
   "source": [
    "len(df)"
   ]
  },
  {
   "cell_type": "code",
   "execution_count": null,
   "id": "5d68035a-178d-4aac-b50b-12859103a37a",
   "metadata": {},
   "outputs": [],
   "source": [
    "\n",
    "# Adapted code to count unique participants\n",
    "df_cleaned = df.dropna(subset=['sleep_quality'])\n",
    "\n",
    "# Filter rows where time_of_the_day_categories is 1\n",
    "df_filtered = df_cleaned[df_cleaned['time_of_the_day_categories'] == 1]\n",
    "\n",
    "# Group by participant ID and count occurrences\n",
    "participant_counts = df_filtered.groupby('subject_id_roman_x').size()\n",
    "\n",
    "# Filter participants with at least two rows\n",
    "participants_with_two_rows = participant_counts[participant_counts >= 3]\n",
    "\n",
    "# Display the result\n",
    "print(\"Number of unique participants with at least three rows where time_of_the_day_categories is 1 and sleep_quality is not NA:\",\n",
    "      len(participants_with_two_rows))"
   ]
  },
  {
   "cell_type": "code",
   "execution_count": 451,
   "id": "c2d57e44-0cc7-499e-bfb1-0f69d7b2217d",
   "metadata": {},
   "outputs": [],
   "source": [
    "df['sleep_quality_median'] = df.groupby('subject_id_roman_x')['sleep_quality'].transform('median')"
   ]
  },
  {
   "cell_type": "code",
   "execution_count": null,
   "id": "5dc5b4d5-ecc2-417a-9e64-0711b05e09f0",
   "metadata": {},
   "outputs": [],
   "source": [
    "df['sleep_quality_median'].describe()"
   ]
  },
  {
   "cell_type": "code",
   "execution_count": 453,
   "id": "244ad9ac-ec26-4895-9ac2-0df26808fcba",
   "metadata": {},
   "outputs": [],
   "source": [
    "df.reset_index(drop=True, inplace=True)\n"
   ]
  },
  {
   "cell_type": "code",
   "execution_count": 454,
   "id": "6a3e5e6e-d72a-4d5e-9de2-2111aaa89aba",
   "metadata": {},
   "outputs": [],
   "source": [
    "df['sleep_quality'] = df['sleep_quality'].fillna(df['sleep_quality_median'])\n"
   ]
  },
  {
   "cell_type": "code",
   "execution_count": null,
   "id": "b9da7126-3c02-4dde-8f52-24d50fbbee0c",
   "metadata": {},
   "outputs": [],
   "source": [
    "df.head(100000).tail(2)"
   ]
  },
  {
   "cell_type": "code",
   "execution_count": 456,
   "id": "2b0a9d73-6502-40f9-8e7d-e7f4b583b2cc",
   "metadata": {},
   "outputs": [],
   "source": [
    "df = df.reset_index(drop=True)"
   ]
  },
  {
   "cell_type": "code",
   "execution_count": null,
   "id": "d3195540-b7ff-480a-b9d7-0fb1d80b10ba",
   "metadata": {},
   "outputs": [],
   "source": [
    "df['sleep_quality'].describe()"
   ]
  },
  {
   "cell_type": "code",
   "execution_count": null,
   "id": "52c2526c-fddd-4569-895b-37ea9292b0e2",
   "metadata": {},
   "outputs": [],
   "source": [
    "df['sleep_quality'].isna().sum()"
   ]
  },
  {
   "cell_type": "code",
   "execution_count": 459,
   "id": "e27118da-49c9-4fed-9a91-7cf29ad8374e",
   "metadata": {},
   "outputs": [],
   "source": [
    "df_test = df[df['sleep_quality'].isna()]"
   ]
  },
  {
   "cell_type": "code",
   "execution_count": null,
   "id": "083e4e48-9a47-4d3e-b8dc-9001844bd58c",
   "metadata": {},
   "outputs": [],
   "source": [
    "df['subject_id_roman_x'].nunique()"
   ]
  },
  {
   "cell_type": "code",
   "execution_count": null,
   "id": "1d0c3d02-3894-469a-b17e-e128b53efc7b",
   "metadata": {},
   "outputs": [],
   "source": [
    "len(df)"
   ]
  },
  {
   "cell_type": "markdown",
   "id": "d58c02c7-6c4b-4e8d-aa05-8dfffd5f4d13",
   "metadata": {},
   "source": [
    "#### Frequencies for analysis"
   ]
  },
  {
   "cell_type": "code",
   "execution_count": null,
   "id": "082f0fbf-2ef8-46d5-8923-9d40f9fd9b34",
   "metadata": {},
   "outputs": [],
   "source": [
    "df['next_prompt_compliance'].describe()"
   ]
  },
  {
   "cell_type": "code",
   "execution_count": null,
   "id": "15c9341f-4ebb-43a9-9011-a2c92785bc7b",
   "metadata": {},
   "outputs": [],
   "source": [
    "df['next_prompt_compliance'].value_counts()"
   ]
  },
  {
   "cell_type": "code",
   "execution_count": null,
   "id": "63d6c8de-7739-4bd6-b207-89d3094639b1",
   "metadata": {},
   "outputs": [],
   "source": [
    "df['compliance'].value_counts()"
   ]
  },
  {
   "cell_type": "code",
   "execution_count": null,
   "id": "bad8a7dd-b7d0-451e-90be-3e14f8f55b63",
   "metadata": {},
   "outputs": [],
   "source": [
    "df['longstring'].value_counts()"
   ]
  },
  {
   "cell_type": "code",
   "execution_count": null,
   "id": "46e8028f-6be0-4084-aa1e-fa56ad94fee1",
   "metadata": {},
   "outputs": [],
   "source": [
    "df['response delay'].describe()"
   ]
  },
  {
   "cell_type": "code",
   "execution_count": null,
   "id": "1030de7d-6200-4525-be02-0c44da098b5a",
   "metadata": {},
   "outputs": [],
   "source": [
    "df['ct_per_survey_item'].describe()"
   ]
  },
  {
   "cell_type": "code",
   "execution_count": null,
   "id": "c04d0a64-d447-48aa-828c-ecf22c619d89",
   "metadata": {},
   "outputs": [],
   "source": [
    "df.head()"
   ]
  },
  {
   "cell_type": "markdown",
   "id": "2d42faba-7734-4013-8d5d-a6e8ee363670",
   "metadata": {},
   "source": [
    "##### Remove any participants that still have missing values in any of the predictors"
   ]
  },
  {
   "cell_type": "code",
   "execution_count": null,
   "id": "b853c845-213e-4c95-b52f-bee0669f324b",
   "metadata": {},
   "outputs": [],
   "source": [
    "columns_to_check = ['sleep_quality', 'stress', 'affect', 'fatigue', 'hunger']\n",
    "\n",
    "# Filter the DataFrame to include only rows where compliance is not equal to 0\n",
    "df_filtered = df[df['compliance'] != 0]\n",
    "\n",
    "# Identify subject_id_roman_x values with missing values in specified columns\n",
    "subjects_with_missing_values = df_filtered[df_filtered[columns_to_check].isnull().any(axis=1)]['subject_id_roman_x'].unique()\n",
    "\n",
    "# Creating a new DataFrame without rows containing missing values in specified columns and for the identified subjects\n",
    "df_predict = df_filtered[~df_filtered['subject_id_roman_x'].isin(subjects_with_missing_values)]\n",
    "\n",
    "# Check for NaN values in the specified columns\n",
    "nan_values = df_predict[columns_to_check].isnull().any(axis=1)\n",
    "\n",
    "# Filter the DataFrame to include only rows with NaN values in at least one column\n",
    "filtered_df = df_predict[nan_values]\n",
    "\n",
    "# Count the number of unique participant IDs in the filtered DataFrame\n",
    "unique_participant_count = filtered_df['subject_id_roman_x'].nunique()\n",
    "print(f\"Number of unique participant IDs with NaN values in at least one column: {unique_participant_count}\")\n",
    "\n",
    "# Get all unique participant IDs from filtered_df\n",
    "unique_participant_ids = filtered_df['subject_id_roman_x'].unique()\n",
    "\n",
    "# Print the unique participant IDs\n",
    "print(\"Unique Participant IDs in df_missing_predictors:\")\n",
    "print(unique_participant_ids)\n",
    "\n",
    "# Print the count of unique participant IDs\n",
    "print(\"Number of Unique Participant IDs:\", len(unique_participant_ids))\n",
    "\n",
    "unique_participant_ids = pd.DataFrame(unique_participant_ids)\n",
    "unique_participant_ids.to_csv(f'../outputs/participant_missing_predictors.csv', index=False)\n"
   ]
  },
  {
   "cell_type": "code",
   "execution_count": null,
   "id": "b6c16179-540b-4829-9e34-e4eac8746329",
   "metadata": {},
   "outputs": [],
   "source": [
    "\n",
    "# Get the participant IDs with NaN values in at least one column\n",
    "participants_with_nan = df_predict[df_predict[columns_to_check].isnull().any(axis=1)]['subject_id_roman_x'].unique()\n",
    "\n",
    "# Drop rows corresponding to the participant IDs with NaN values\n",
    "df_no_nan_values = df_predict[~df_predict['subject_id_roman_x'].isin(participants_with_nan)]\n",
    "df_with_nan_values = df_predict[df_predict['subject_id_roman_x'].isin(participants_with_nan)]\n",
    "\n",
    "# Print the shape of the original and filtered DataFrames for comparison\n",
    "print(\"Original DataFrame shape:\", df.shape)\n",
    "print(\"DataFrame after dropping rows with NaN values shape:\", df_no_nan_values.shape)\n",
    "\n",
    "print(\"Number of unique participants in df_no_nan_values:\", df_no_nan_values['subject_id_roman_x'].nunique())\n"
   ]
  },
  {
   "cell_type": "code",
   "execution_count": null,
   "id": "08f7ecd4-71c8-4df5-92df-bc5bdd414583",
   "metadata": {},
   "outputs": [],
   "source": [
    "subjects_with_missing_values"
   ]
  },
  {
   "cell_type": "code",
   "execution_count": null,
   "id": "f1cd6a57-a32a-4271-bc78-f61c263d825b",
   "metadata": {},
   "outputs": [],
   "source": [
    "len(df_filtered)"
   ]
  },
  {
   "cell_type": "code",
   "execution_count": null,
   "id": "482343dc-c92d-450f-81f5-f20a4af7856b",
   "metadata": {},
   "outputs": [],
   "source": [
    "len(df)"
   ]
  },
  {
   "cell_type": "code",
   "execution_count": 474,
   "id": "1f7077b0-192b-404e-bf24-09cbba8219e8",
   "metadata": {},
   "outputs": [],
   "source": [
    "df = df[~df['subject_id_roman_x'].isin(subjects_with_missing_values)]"
   ]
  },
  {
   "cell_type": "code",
   "execution_count": null,
   "id": "508d0a22-8746-4ca3-bcde-101904a55a7d",
   "metadata": {},
   "outputs": [],
   "source": [
    "len(df)"
   ]
  },
  {
   "cell_type": "code",
   "execution_count": null,
   "id": "9c9cd51f-7c25-4bfe-b675-dff9513bf721",
   "metadata": {},
   "outputs": [],
   "source": [
    "participants_with_nan"
   ]
  },
  {
   "cell_type": "code",
   "execution_count": null,
   "id": "3e407097-a6ad-4f57-9541-17434c9509ac",
   "metadata": {},
   "outputs": [],
   "source": [
    "df_no_nan_values.head()"
   ]
  },
  {
   "cell_type": "code",
   "execution_count": null,
   "id": "926ca7cb-520a-4bb1-856a-eb85d58a5c4c",
   "metadata": {},
   "outputs": [],
   "source": [
    "df['ct_per_survey_item'].describe()"
   ]
  },
  {
   "cell_type": "code",
   "execution_count": null,
   "id": "f2a35dff-8584-4aeb-b586-6ff02725ddd6",
   "metadata": {},
   "outputs": [],
   "source": [
    "df['subject_id_roman_x'].nunique()"
   ]
  },
  {
   "cell_type": "code",
   "execution_count": 480,
   "id": "04aa95b9-a0df-491a-b87d-ec68eddfb4f5",
   "metadata": {},
   "outputs": [],
   "source": [
    "inf_rows = df[df['ct_per_survey_item'] == float('inf')]"
   ]
  },
  {
   "cell_type": "code",
   "execution_count": null,
   "id": "4ad55cf3-7859-4c5e-96ab-2b6e9d7affff",
   "metadata": {},
   "outputs": [],
   "source": [
    "inf_rows.head()"
   ]
  },
  {
   "cell_type": "code",
   "execution_count": 482,
   "id": "4d2fa6ac-eed3-48ab-bc99-c29d18b6ee13",
   "metadata": {},
   "outputs": [],
   "source": [
    "df.to_csv(f'../outputs/Full_df_final_descriptives.csv', index=False)"
   ]
  },
  {
   "cell_type": "markdown",
   "id": "151d8aee-c0a7-4981-843d-e3385043334b",
   "metadata": {},
   "source": [
    "##### Remove all non-compliant columns"
   ]
  },
  {
   "cell_type": "code",
   "execution_count": null,
   "id": "30afb533-ed94-49d6-acb5-01146ccacd41",
   "metadata": {},
   "outputs": [],
   "source": [
    "len(df)"
   ]
  },
  {
   "cell_type": "code",
   "execution_count": null,
   "id": "39c25700-0dbf-45a1-9b64-9e1f5317d51a",
   "metadata": {},
   "outputs": [],
   "source": [
    "df['compliance'].value_counts()"
   ]
  },
  {
   "cell_type": "code",
   "execution_count": 485,
   "id": "e9a9cf2f-8036-4e79-bb25-ea0a20c21a85",
   "metadata": {},
   "outputs": [],
   "source": [
    "df = df[df['compliance'] != 0]"
   ]
  },
  {
   "cell_type": "code",
   "execution_count": null,
   "id": "2f17cc1d-6395-4c6b-ab5b-816327e5b172",
   "metadata": {},
   "outputs": [],
   "source": [
    "df['compliance'].value_counts()"
   ]
  },
  {
   "cell_type": "code",
   "execution_count": null,
   "id": "01a2eac8-3dc2-43bc-94f4-83b0cfd00926",
   "metadata": {},
   "outputs": [],
   "source": [
    "len(df)"
   ]
  },
  {
   "cell_type": "code",
   "execution_count": null,
   "id": "dd9fe28b-a197-439a-8d77-4a25aaaa9b81",
   "metadata": {},
   "outputs": [],
   "source": [
    "df['subject_id_roman_x'].nunique()"
   ]
  },
  {
   "cell_type": "code",
   "execution_count": null,
   "id": "75eb1a21-c1da-4594-b01a-4cf0ca107a8d",
   "metadata": {},
   "outputs": [],
   "source": [
    "df['obscomp_steps'].value_counts()"
   ]
  },
  {
   "cell_type": "code",
   "execution_count": null,
   "id": "3a95d60b-207c-4b96-8a86-895bf9f06b1e",
   "metadata": {},
   "outputs": [],
   "source": [
    "df['obscomp_steps'].describe()"
   ]
  },
  {
   "cell_type": "code",
   "execution_count": null,
   "id": "adcc74d3-2776-4989-9ac3-983410f183d8",
   "metadata": {},
   "outputs": [],
   "source": [
    "df['next_prompt_compliance'].isna().sum()"
   ]
  },
  {
   "cell_type": "code",
   "execution_count": 492,
   "id": "ff7d1389-e638-4662-8388-ffbbf756ccf0",
   "metadata": {},
   "outputs": [],
   "source": [
    "df_p = df[df['next_prompt_completion_time'].isna()]"
   ]
  },
  {
   "cell_type": "code",
   "execution_count": null,
   "id": "2184360b-4939-4eb1-a3b9-d1e05b2d241f",
   "metadata": {},
   "outputs": [],
   "source": [
    "df_p.head()"
   ]
  },
  {
   "cell_type": "code",
   "execution_count": null,
   "id": "2bf7d03e-e855-4d36-8384-b32bd8ab9834",
   "metadata": {},
   "outputs": [],
   "source": [
    "len(df)"
   ]
  },
  {
   "cell_type": "code",
   "execution_count": 495,
   "id": "0ec36521-aaae-4726-b54b-85634fcf0495",
   "metadata": {},
   "outputs": [],
   "source": [
    "df.to_csv(f'../outputs/Full_df_final_descriptives_no_non-compliant.csv', index=False)"
   ]
  },
  {
   "cell_type": "markdown",
   "id": "7043e688-60db-4a9c-a90c-a3d390221b77",
   "metadata": {},
   "source": [
    "#### Make careless_response column"
   ]
  },
  {
   "cell_type": "code",
   "execution_count": null,
   "id": "a9009ada-b2c3-4a3a-b5f0-af1b0dade0fa",
   "metadata": {},
   "outputs": [],
   "source": [
    "df['careless_response'].value_counts()"
   ]
  },
  {
   "cell_type": "markdown",
   "id": "8462da0f-afb2-4f70-ad1b-345052a112d3",
   "metadata": {},
   "source": [
    "### Changes for next-prompt compliance outcome  (For response delay and completion time, skip these sections)"
   ]
  },
  {
   "cell_type": "code",
   "execution_count": 497,
   "id": "e34968b6-6ebb-422f-9e41-d109408a0e90",
   "metadata": {},
   "outputs": [],
   "source": [
    "df_ema = df.copy()"
   ]
  },
  {
   "cell_type": "markdown",
   "id": "d574dd90-de43-4f53-84fc-198539968de5",
   "metadata": {},
   "source": [
    "Also, the last survey of each day will afterwards be removed, therefore we assign those surveys the value NA in the obscomp steps column"
   ]
  },
  {
   "cell_type": "code",
   "execution_count": 498,
   "id": "4191114f-b6c3-4308-acaf-de06a699c61b",
   "metadata": {},
   "outputs": [],
   "source": [
    "df_ema.loc[df_ema['time_of_the_day_categories'] == 6, 'obscomp_steps'] = np.nan"
   ]
  },
  {
   "cell_type": "markdown",
   "id": "48376da4-3a63-431d-8e29-976a91411e67",
   "metadata": {},
   "source": [
    "Since there are still a couple of compliance = 0 rows, which do not have an obscomp_step value of na, I manually change this in the row below to make sure all compliance = 0 rows are also having obscomp_steps = 0: "
   ]
  },
  {
   "cell_type": "code",
   "execution_count": null,
   "id": "26160aef-7179-4a4b-8c9d-5baec6023ea2",
   "metadata": {},
   "outputs": [],
   "source": [
    "df_ema.head()"
   ]
  },
  {
   "cell_type": "code",
   "execution_count": 500,
   "id": "e49038bd-b80c-492c-a886-a3723c1f4954",
   "metadata": {},
   "outputs": [],
   "source": [
    "df_ema.loc[df_ema['compliance'] == 0, 'obscomp_steps'] = np.nan"
   ]
  },
  {
   "cell_type": "code",
   "execution_count": null,
   "id": "51aa105a-0ee5-4392-ba23-ad2f0f7723b4",
   "metadata": {},
   "outputs": [],
   "source": [
    "df_ema.head(60).tail(3)"
   ]
  },
  {
   "cell_type": "code",
   "execution_count": null,
   "id": "0e3532e5-da1c-43fa-a3c6-2f2e9ebae763",
   "metadata": {},
   "outputs": [],
   "source": [
    "len(df_ema)"
   ]
  },
  {
   "cell_type": "code",
   "execution_count": null,
   "id": "a3cb504a-c770-49fa-a20f-99ab2178d3c6",
   "metadata": {},
   "outputs": [],
   "source": [
    "df_ema.head(2)"
   ]
  },
  {
   "cell_type": "code",
   "execution_count": 504,
   "id": "8ddaff12-d167-425a-89db-67214e4ba3cb",
   "metadata": {},
   "outputs": [],
   "source": [
    "df_nextprompt_na = df_ema[df_ema['next_prompt_compliance'].isna()]"
   ]
  },
  {
   "cell_type": "code",
   "execution_count": null,
   "id": "fc2747f7-3d65-4772-9c9a-e1f43f7b8444",
   "metadata": {},
   "outputs": [],
   "source": [
    "df_ema['next_prompt_compliance'].isna().sum()"
   ]
  },
  {
   "cell_type": "code",
   "execution_count": null,
   "id": "1ae340d1-3bfd-4b00-848f-53ca69cf7f45",
   "metadata": {},
   "outputs": [],
   "source": [
    "df_nextprompt_na.head()"
   ]
  },
  {
   "cell_type": "code",
   "execution_count": null,
   "id": "0cd1eb9e-28a9-4dbb-8640-960673525200",
   "metadata": {},
   "outputs": [],
   "source": [
    "df_ema.head(60).tail(2)"
   ]
  },
  {
   "cell_type": "code",
   "execution_count": null,
   "id": "97397c46-bebc-4143-9164-45f918f1c1de",
   "metadata": {},
   "outputs": [],
   "source": [
    "df_ema['obscomp_steps'].value_counts()"
   ]
  },
  {
   "cell_type": "code",
   "execution_count": null,
   "id": "9712b1af-72ad-4df9-8f9e-8e255887182c",
   "metadata": {},
   "outputs": [],
   "source": [
    "df_ema['next_prompt_compliance'].describe()"
   ]
  },
  {
   "cell_type": "code",
   "execution_count": null,
   "id": "3af64042-bce5-4024-81b3-4a04f6227f0c",
   "metadata": {},
   "outputs": [],
   "source": [
    "df_ema['next_prompt_compliance'].value_counts()"
   ]
  },
  {
   "cell_type": "code",
   "execution_count": null,
   "id": "f8bb2bea-4015-4359-92d6-be9eaba1d4a1",
   "metadata": {},
   "outputs": [],
   "source": [
    "df_ema['obscomp_steps'].notna().sum()"
   ]
  },
  {
   "cell_type": "code",
   "execution_count": null,
   "id": "f81fd275-a52f-4c9a-af1b-9d8b5d9d5066",
   "metadata": {},
   "outputs": [],
   "source": [
    "df_ema['obscomp_steps'].isna().sum()"
   ]
  },
  {
   "cell_type": "code",
   "execution_count": null,
   "id": "3bccaa82-6926-4f0e-b2a4-7aa813de9179",
   "metadata": {},
   "outputs": [],
   "source": [
    "df_ema['compliance'].value_counts()"
   ]
  },
  {
   "cell_type": "code",
   "execution_count": null,
   "id": "705d501c-5f99-4a6a-9b24-a9242082fc23",
   "metadata": {},
   "outputs": [],
   "source": [
    "len(df_ema)"
   ]
  },
  {
   "cell_type": "code",
   "execution_count": null,
   "id": "39eca7cb-b814-464a-8492-277c4a0feaba",
   "metadata": {},
   "outputs": [],
   "source": [
    "df_ema['subject_id_roman_x'].nunique()"
   ]
  },
  {
   "cell_type": "markdown",
   "id": "1668855a-3693-4f49-95ba-01569a090bd1",
   "metadata": {},
   "source": [
    "#### Export clean"
   ]
  },
  {
   "cell_type": "code",
   "execution_count": null,
   "id": "fe21cd23-135c-4288-a7b6-7d6237704648",
   "metadata": {},
   "outputs": [],
   "source": [
    "df_ema.head(35000).tail(5)"
   ]
  },
  {
   "cell_type": "markdown",
   "id": "be6cfdeb-8df5-4aa8-9a6e-03320f4a473d",
   "metadata": {},
   "source": [
    "#### Set next-prompt compleiton time of last survey of the study to NAN "
   ]
  },
  {
   "cell_type": "code",
   "execution_count": 517,
   "id": "9000a9b1-50b2-4fe7-b753-e7105ecd9484",
   "metadata": {},
   "outputs": [],
   "source": [
    "df_ema.loc[df_ema['number_of_survey'] == 54, 'next_prompt_ct_per_survey_item'] = float('nan')\n"
   ]
  },
  {
   "cell_type": "code",
   "execution_count": 518,
   "id": "5a59eedd-5522-4027-ac06-8a0449707c5d",
   "metadata": {},
   "outputs": [],
   "source": [
    "df_ema.loc[df_ema['number_of_survey'] == 54, 'next_prompt_completion_time'] = float('nan')\n"
   ]
  },
  {
   "cell_type": "code",
   "execution_count": 519,
   "id": "f431f660-34c5-4bd4-90c4-73b54d7e5b6f",
   "metadata": {},
   "outputs": [],
   "source": [
    "df_ema.loc[df_ema['number_of_survey'] == 54, 'next_prompt_long_no_comp'] = float('nan')\n"
   ]
  },
  {
   "cell_type": "markdown",
   "id": "89ab6fad-e6f8-4901-86ca-4b2aaa233160",
   "metadata": {},
   "source": [
    "#### Set ipi of last survey of the study to NAN "
   ]
  },
  {
   "cell_type": "code",
   "execution_count": 520,
   "id": "5563ce96-a9cf-4bf1-b65b-d321ebb95c8f",
   "metadata": {},
   "outputs": [],
   "source": [
    "df_ema.loc[df_ema['number_of_survey'] == 54, 'ipi'] = float('nan')\n"
   ]
  },
  {
   "cell_type": "markdown",
   "id": "20955d06-fcbb-403e-9949-28d21b6e9df2",
   "metadata": {},
   "source": [
    "#### Set longstring and longstring_careless one_of the lats survey of the study to NAN "
   ]
  },
  {
   "cell_type": "code",
   "execution_count": 521,
   "id": "e2a64766-fe4f-4634-a4f3-18133c7932a5",
   "metadata": {},
   "outputs": [],
   "source": [
    "df_ema.loc[df_ema['number_of_survey'] == 54, 'next_prompt_longstring_careless_one'] = float('nan')"
   ]
  },
  {
   "cell_type": "code",
   "execution_count": 522,
   "id": "234532e3-fa73-4b32-9196-d6279baa5239",
   "metadata": {},
   "outputs": [],
   "source": [
    "df_ema.loc[df_ema['number_of_survey'] == 54, 'next_prompt_longstring'] = float('nan')"
   ]
  },
  {
   "cell_type": "code",
   "execution_count": 523,
   "id": "1ab8b6f0-75fd-4633-aea4-dcad5bffcd7b",
   "metadata": {},
   "outputs": [],
   "source": [
    "df_ema.loc[df_ema['number_of_survey'] == 54, 'next_prompt_longstring_two'] = float('nan')"
   ]
  },
  {
   "cell_type": "code",
   "execution_count": 524,
   "id": "ab9c4ffe-c3ca-4565-b62f-1b6452c98586",
   "metadata": {},
   "outputs": [],
   "source": [
    "df_ema.loc[df_ema['number_of_survey'] == 54, 'next_prompt_longstring_three'] = float('nan')"
   ]
  },
  {
   "cell_type": "code",
   "execution_count": 525,
   "id": "11eaf778-ee01-422c-a380-ac4ae4d7398b",
   "metadata": {},
   "outputs": [],
   "source": [
    "df_ema.loc[df_ema['number_of_survey'] == 54, 'next_prompt_longstring_four'] = float('nan')"
   ]
  },
  {
   "cell_type": "code",
   "execution_count": 526,
   "id": "a7aac89b-2656-4228-8e49-31c447174a87",
   "metadata": {},
   "outputs": [],
   "source": [
    "df_ema.loc[df_ema['number_of_survey'] == 54, 'next_prompt_longstring_five'] = float('nan')"
   ]
  },
  {
   "cell_type": "code",
   "execution_count": 527,
   "id": "6b01af29-46c2-4909-80b9-f8655d946b0f",
   "metadata": {},
   "outputs": [],
   "source": [
    "df_ema.loc[df_ema['number_of_survey'] == 54, 'next_prompt_longstring_six'] = float('nan')"
   ]
  },
  {
   "cell_type": "markdown",
   "id": "4a6e4bfb-b254-44fc-a0f6-9473f85008e6",
   "metadata": {},
   "source": [
    "#### Set next-prompt compliance of last survey of the study to NAN "
   ]
  },
  {
   "cell_type": "code",
   "execution_count": 528,
   "id": "058ea07f-33c0-4857-a2b0-a67bf8c12c98",
   "metadata": {},
   "outputs": [],
   "source": [
    "df_ema.loc[df_ema['number_of_survey'] == 54, 'next_prompt_compliance'] = float('nan')\n"
   ]
  },
  {
   "cell_type": "markdown",
   "id": "dbf6a2a3-8321-467f-89c6-73aedfd22764",
   "metadata": {},
   "source": [
    "#### Set next-prompt careless of last survey of the study to NAN "
   ]
  },
  {
   "cell_type": "code",
   "execution_count": 529,
   "id": "76062ff8-c7a2-42cd-ae15-049e551264b7",
   "metadata": {},
   "outputs": [],
   "source": [
    "df_ema.loc[df_ema['number_of_survey'] == 54, 'next_prompt_careless'] = float('nan')\n"
   ]
  },
  {
   "cell_type": "markdown",
   "id": "b6826db7-531f-41d2-8a27-7735c8419ada",
   "metadata": {},
   "source": [
    "#### Set next-prompt invalid of last survey of the study to NAN "
   ]
  },
  {
   "cell_type": "code",
   "execution_count": 530,
   "id": "9bd2d096-ae29-4683-8b5f-9494a4a005a6",
   "metadata": {},
   "outputs": [],
   "source": [
    "df_ema.loc[df_ema['number_of_survey'] == 54, 'next_prompt_invalid'] = float('nan')\n"
   ]
  },
  {
   "cell_type": "markdown",
   "id": "99df5f3d-2e9b-4ec9-84af-858d8b6d1d7d",
   "metadata": {},
   "source": [
    "#### Set next-prompt fast response between one and two of last survey of the study to NAN "
   ]
  },
  {
   "cell_type": "code",
   "execution_count": 531,
   "id": "3228838f-37e9-4cfd-a34d-853c9dd1e7bc",
   "metadata": {},
   "outputs": [],
   "source": [
    "df_ema.loc[df_ema['number_of_survey'] == 54, 'next_prompt_careless_one'] = float('nan')\n"
   ]
  },
  {
   "cell_type": "code",
   "execution_count": 532,
   "id": "124dff2a-e67f-4736-aec2-642b9c282f3d",
   "metadata": {},
   "outputs": [],
   "source": [
    "df_ema.loc[df_ema['number_of_survey'] == 54, 'next_prompt_careless_one_point_five'] = float('nan')\n"
   ]
  },
  {
   "cell_type": "markdown",
   "id": "bba441b7-fff2-4dfb-93c5-c19452bcf893",
   "metadata": {},
   "source": [
    "#### Set next-prompt invalid of last survey of the study to NAN "
   ]
  },
  {
   "cell_type": "code",
   "execution_count": 533,
   "id": "a6f1ea23-54ed-4c51-84d1-a633dd2fc181",
   "metadata": {},
   "outputs": [],
   "source": [
    "df_ema.loc[df_ema['number_of_survey'] == 54, 'next_prompt_fast_one_two'] = float('nan')\n"
   ]
  },
  {
   "cell_type": "code",
   "execution_count": 534,
   "id": "c9321166-59f0-4d48-a857-e1d50836ca94",
   "metadata": {},
   "outputs": [],
   "source": [
    "df_ema.to_csv(f'../outputs/DependentEMA_questionnaire_features_clean.csv', index=False)"
   ]
  },
  {
   "cell_type": "code",
   "execution_count": null,
   "id": "fd648267-dbc0-4db2-a4a8-2f16df28ef84",
   "metadata": {},
   "outputs": [],
   "source": [
    "df_ema['compliance'].value_counts()"
   ]
  },
  {
   "cell_type": "code",
   "execution_count": null,
   "id": "342dafaf-d294-47c3-be65-6e0efe19b2f1",
   "metadata": {},
   "outputs": [],
   "source": [
    "df_ema['next_prompt_compliance'].describe()"
   ]
  },
  {
   "cell_type": "code",
   "execution_count": null,
   "id": "a5f1c790-ba31-452a-ba45-7e835cc93996",
   "metadata": {},
   "outputs": [],
   "source": [
    "df_ema['next_prompt_compliance'].value_counts()"
   ]
  },
  {
   "cell_type": "code",
   "execution_count": null,
   "id": "10b08ff9-b9ce-409f-bacc-102b75a3c69c",
   "metadata": {},
   "outputs": [],
   "source": [
    "df_ema['next_prompt_compliance'].isna().sum()"
   ]
  },
  {
   "cell_type": "code",
   "execution_count": 539,
   "id": "1c448f4e-0243-43f5-95fc-a701841c321c",
   "metadata": {},
   "outputs": [],
   "source": [
    "df_parts_characters = df_ema.copy()"
   ]
  },
  {
   "cell_type": "code",
   "execution_count": null,
   "id": "952a2bd6-4b52-4b48-8375-812a239cea78",
   "metadata": {},
   "outputs": [],
   "source": [
    "unique_df = df_parts_characters.drop_duplicates(subset=['subject_id_roman_x'])\n",
    "filtered_df = unique_df.copy()\n",
    "numeric_df = filtered_df.select_dtypes(include='number')\n",
    "categorical_df = filtered_df.select_dtypes(include='object').drop(columns=['subject_id_roman_x'])\n",
    "mean_values = numeric_df.mean()\n",
    "std_dev_values = numeric_df.std()\n",
    "median_values = numeric_df.median()\n",
    "stats_df = pd.DataFrame({\n",
    "    'Mean': mean_values,\n",
    "    'Standard Deviation': std_dev_values,\n",
    "    'Median': median_values\n",
    "})\n",
    "num_numeric_vars = len(numeric_df.columns)\n",
    "value_counts_dict = {col: categorical_df[col].value_counts() for col in categorical_df.columns}\n",
    "print(\"Mean and Standard Deviation of all numeric columns:\")\n",
    "print(stats_df)\n",
    "print(f\"\\nNumber of numeric variables included: {num_numeric_vars}\")\n",
    "\n",
    "print(\"\\nValue counts for all categorical columns (excluding 'subject_id_roman_x'):\")\n",
    "for col, counts in value_counts_dict.items():\n",
    "    print(f\"\\nColumn: {col}\")\n",
    "    print(counts)\n"
   ]
  },
  {
   "cell_type": "code",
   "execution_count": null,
   "id": "8b99a98d-9495-46d6-b05f-5146a6ce392d",
   "metadata": {},
   "outputs": [],
   "source": [
    "unique_df = df_parts_characters.drop_duplicates(subset=['subject_id_roman_x'])\n",
    "\n",
    "filtered_df = unique_df.copy()\n",
    "\n",
    "numeric_df = filtered_df.select_dtypes(include='number')\n",
    "categorical_df = filtered_df.select_dtypes(include='object').drop(columns=['subject_id_roman_x'])\n",
    "\n",
    "mean_values = numeric_df.mean()\n",
    "std_dev_values = numeric_df.std()\n",
    "\n",
    "stats_df = pd.DataFrame({\n",
    "    'Mean': mean_values,\n",
    "    'Standard Deviation': std_dev_values\n",
    "})\n",
    "\n",
    "num_numeric_vars = len(numeric_df.columns)\n",
    "\n",
    "value_counts_dict = {col: categorical_df[col].value_counts() for col in categorical_df.columns}\n",
    "\n",
    "value_counts_df = pd.concat(value_counts_dict, axis=1)\n",
    "\n",
    "combined_df = pd.concat([stats_df, value_counts_df], axis=1)\n",
    "\n",
    "combined_df.to_csv('../outputs/Part_characteristics.csv', index=True)\n",
    "\n",
    "print(\"Mean and Standard Deviation of all numeric columns:\")\n",
    "print(stats_df)\n",
    "print(f\"\\nNumber of numeric variables included: {num_numeric_vars}\")\n",
    "\n",
    "print(\"\\nValue counts for all categorical columns (excluding 'subject_id_roman_x'):\")\n",
    "for col, counts in value_counts_dict.items():\n",
    "    print(f\"\\nColumn: {col}\")\n",
    "    print(counts)\n"
   ]
  },
  {
   "cell_type": "code",
   "execution_count": null,
   "id": "f1f24223-4b23-4c80-b24d-6fb30568b2b8",
   "metadata": {},
   "outputs": [],
   "source": [
    "unique_df = df_parts_characters.drop_duplicates(subset=['subject_id_roman_x'])\n",
    "filtered_df = unique_df.copy()\n",
    "numeric_df = filtered_df.select_dtypes(include='number')\n",
    "categorical_columns = [\n",
    "    'incentive_category',\n",
    "    'first_question_length',\n",
    "    'location_current_ordinal',\n",
    "    'gender',\n",
    "    'ethnicity',\n",
    "    'education_level',\n",
    "    'familiarity_digital_devices',\n",
    "    'employment_status',\n",
    "    'night_shifts_binary',\n",
    "    'alcohol_consumption',\n",
    "    'smoking_binary',\n",
    "    'employment_status_binary',\n",
    "    'household_income'\n",
    "]\n",
    "\n",
    "categorical_df = filtered_df[categorical_columns]\n",
    "mean_values = numeric_df.mean()\n",
    "std_dev_values = numeric_df.std()\n",
    "stats_df = pd.DataFrame({\n",
    "    'Mean': mean_values,\n",
    "    'Standard Deviation': std_dev_values\n",
    "})\n",
    "\n",
    "num_numeric_vars = len(numeric_df.columns)\n",
    "value_counts_dict = {col: categorical_df[col].value_counts() for col in categorical_df.columns}\n",
    "\n",
    "value_counts_df = pd.concat(value_counts_dict, axis=1)\n",
    "\n",
    "combined_df = pd.concat([stats_df, value_counts_df], axis=1)\n",
    "\n",
    "combined_df.to_csv('../outputs/Part_characteristics.csv', index=True)\n",
    "\n",
    "print(\"Mean and Standard Deviation of all numeric columns:\")\n",
    "print(stats_df)\n",
    "print(f\"\\nNumber of numeric variables included: {num_numeric_vars}\")\n",
    "\n",
    "print(\"\\nValue counts for specified categorical columns:\")\n",
    "for col, counts in value_counts_dict.items():\n",
    "    print(f\"\\nColumn: {col}\")\n",
    "    print(counts)\n"
   ]
  },
  {
   "cell_type": "code",
   "execution_count": null,
   "id": "cbd96670-8ee0-40a4-9e31-f13e0c3554c1",
   "metadata": {},
   "outputs": [],
   "source": [
    "unique_df = df_parts_characters.drop_duplicates(subset=['subject_id_roman_x'])\n",
    "\n",
    "filtered_df = unique_df.copy()\n",
    "\n",
    "numeric_df = filtered_df.select_dtypes(include='number')\n",
    "\n",
    "categorical_columns = [\n",
    "    'incentive_category',\n",
    "    'first_question_length',\n",
    "    'location_current_ordinal',\n",
    "    'gender',\n",
    "    'ethnicity',\n",
    "    'education_level',\n",
    "    'familiarity_digital_devices',\n",
    "    'employment_status',\n",
    "    'night_shifts_binary',\n",
    "    'alcohol_consumption',\n",
    "    'smoking_binary',\n",
    "    'employment_status_binary'\n",
    "]\n",
    "\n",
    "categorical_df = filtered_df[categorical_columns]\n",
    "\n",
    "mean_values = numeric_df.mean()\n",
    "std_dev_values = numeric_df.std()\n",
    "\n",
    "stats_df = pd.DataFrame({\n",
    "    'Mean': mean_values,\n",
    "    'Standard Deviation': std_dev_values\n",
    "})\n",
    "\n",
    "num_numeric_vars = len(numeric_df.columns)\n",
    "\n",
    "value_counts_dict = {col: categorical_df[col].value_counts() for col in categorical_df.columns}\n",
    "\n",
    "value_counts_df = pd.concat(value_counts_dict, axis=1)\n",
    "\n",
    "stats_df.to_csv('../outputs/Part_characteristics_numeric_stats.csv', index=True)\n",
    "\n",
    "value_counts_df.to_csv('../outputs/Part_characteristics_value_counts.csv', index=True)\n",
    "\n",
    "print(\"Mean and Standard Deviation of all numeric columns:\")\n",
    "print(stats_df)\n",
    "print(f\"\\nNumber of numeric variables included: {num_numeric_vars}\")\n",
    "\n",
    "print(\"\\nValue counts for specified categorical columns:\")\n",
    "for col, counts in value_counts_dict.items():\n",
    "    print(f\"\\nColumn: {col}\")\n",
    "    print(counts)\n"
   ]
  },
  {
   "cell_type": "markdown",
   "id": "9e134db3-e17f-4b68-8d6c-4dca013abdd8",
   "metadata": {},
   "source": [
    "# Cleaning Model Ready df"
   ]
  },
  {
   "cell_type": "code",
   "execution_count": 544,
   "id": "952f87e5-171a-4b30-9451-812d35a6a538",
   "metadata": {},
   "outputs": [],
   "source": [
    "df_full = df_ema.copy()\n"
   ]
  },
  {
   "cell_type": "code",
   "execution_count": 545,
   "id": "c79ea18f-0fef-4d92-923c-0b8286916507",
   "metadata": {},
   "outputs": [],
   "source": [
    "df_full = df_full.reset_index(drop=True)"
   ]
  },
  {
   "cell_type": "code",
   "execution_count": null,
   "id": "e7ebe003-0611-493c-8ffd-bc161ab015da",
   "metadata": {},
   "outputs": [],
   "source": [
    "df_full.head(4)"
   ]
  },
  {
   "cell_type": "code",
   "execution_count": null,
   "id": "4e9ae1bc-7b4a-493d-aa07-4e77362dbf4d",
   "metadata": {},
   "outputs": [],
   "source": [
    "df_full['ipi'].describe()"
   ]
  },
  {
   "cell_type": "code",
   "execution_count": null,
   "id": "4b4b3018-0c18-41c7-8d7c-996e773eeaec",
   "metadata": {},
   "outputs": [],
   "source": [
    "len(df_full)"
   ]
  },
  {
   "cell_type": "code",
   "execution_count": null,
   "id": "2dbc59ec-fb0a-42b6-9c8d-ab77958cff8b",
   "metadata": {},
   "outputs": [],
   "source": [
    "df_full.head(2)"
   ]
  },
  {
   "cell_type": "markdown",
   "id": "513cdd31-6273-4889-9d5c-ecf566d692f9",
   "metadata": {},
   "source": [
    "### Make a survey number categorization from 1-54 (excluding the ones that were at the last timepoint)"
   ]
  },
  {
   "cell_type": "markdown",
   "id": "4a3c6c16-752d-428a-b887-95c7191be0db",
   "metadata": {},
   "source": [
    "#### Exclude any surveys that are larger than 54"
   ]
  },
  {
   "cell_type": "code",
   "execution_count": 550,
   "id": "84e773d1-8857-4a39-80df-b0331bba43e1",
   "metadata": {},
   "outputs": [],
   "source": [
    "mask = df_full['number_of_survey'] <= 54\n",
    "\n",
    "# Apply the mask to filter the DataFrame\n",
    "df_full = df_full[mask]"
   ]
  },
  {
   "cell_type": "code",
   "execution_count": null,
   "id": "37604a92-e0b7-4be7-bc09-6f17535b7651",
   "metadata": {},
   "outputs": [],
   "source": [
    "df_full.head(930).tail(2)"
   ]
  },
  {
   "cell_type": "markdown",
   "id": "8bb1eaa0-48bd-4e10-a383-a1de634e3e35",
   "metadata": {},
   "source": [
    "Because the variable above has two participants with a missing 54th survey, the number_of_survey_wo_54 factor does not include the 54th survey"
   ]
  },
  {
   "cell_type": "code",
   "execution_count": 552,
   "id": "b9d0ccf3-9383-4986-9855-0b1091a91328",
   "metadata": {},
   "outputs": [],
   "source": [
    "mask = df_full['number_of_survey'] <= 53\n",
    "\n",
    "# Create the new column 'number_of_survey_wo_54' based on the mask\n",
    "df_full['number_of_survey_wo_54'] = df_full['number_of_survey'][mask]"
   ]
  },
  {
   "cell_type": "code",
   "execution_count": null,
   "id": "9b02fec4-1315-4d4b-bf22-ff7c9ba0c119",
   "metadata": {},
   "outputs": [],
   "source": [
    "df_full['number_of_survey_wo_54'].value_counts()"
   ]
  },
  {
   "cell_type": "code",
   "execution_count": null,
   "id": "f1e42d2c-0a24-403b-8e6f-5c8655e29de5",
   "metadata": {},
   "outputs": [],
   "source": [
    "df_full['number_of_survey'].value_counts()"
   ]
  },
  {
   "cell_type": "code",
   "execution_count": null,
   "id": "bd3f79dd-33a9-4e67-8dd0-db6904829b48",
   "metadata": {},
   "outputs": [],
   "source": [
    "print(df_full['number_of_survey'].value_counts())"
   ]
  },
  {
   "cell_type": "code",
   "execution_count": null,
   "id": "8f8e9b8b-ccb5-483c-aa9c-e871db74bdc5",
   "metadata": {},
   "outputs": [],
   "source": [
    "print(df_full['number_of_survey'].value_counts())\n"
   ]
  },
  {
   "cell_type": "code",
   "execution_count": null,
   "id": "2dc93d91-451c-4f1f-96cd-6947378f2895",
   "metadata": {},
   "outputs": [],
   "source": [
    "counts = df_full['number_of_survey'].value_counts().reset_index()\n",
    "\n",
    "counts.columns = ['survey_number_wo_last', 'frequency']\n",
    "\n",
    "plt.figure(figsize=(10, 6))\n",
    "plt.bar(counts['survey_number_wo_last'], counts['frequency'])\n",
    "plt.xlabel('Number of Surveys')\n",
    "plt.ylabel('Frequency')\n",
    "plt.title('Frequency of Number of Surveys')\n",
    "plt.show()\n",
    "\n"
   ]
  },
  {
   "cell_type": "code",
   "execution_count": null,
   "id": "025ab9b6-1311-45e2-8ccf-b002b0cfb4e4",
   "metadata": {},
   "outputs": [],
   "source": [
    "df_full['next_prompt_compliance'].value_counts()"
   ]
  },
  {
   "cell_type": "markdown",
   "id": "f6bcd70e-9c38-432c-bcb6-d94946e45e08",
   "metadata": {},
   "source": [
    "#### Select a random sample of 100 and 50 participants respectively"
   ]
  },
  {
   "cell_type": "code",
   "execution_count": 559,
   "id": "37857307-a487-48b6-b870-54dff50341ac",
   "metadata": {},
   "outputs": [],
   "source": [
    "\n",
    "random_participant_ids = df_full['subject_id_roman_x'].sample(n=100, random_state=42).tolist()\n",
    "df_100 = df_full[df_full['subject_id_roman_x'].isin(random_participant_ids)]\n"
   ]
  },
  {
   "cell_type": "code",
   "execution_count": 560,
   "id": "66d457b1-bede-4173-99e2-1916e2a0a622",
   "metadata": {},
   "outputs": [],
   "source": [
    "random_participant_ids = df_full['subject_id_roman_x'].sample(n=50, random_state=42).tolist()\n",
    "df_50 = df_full[df_full['subject_id_roman_x'].isin(random_participant_ids)]\n"
   ]
  },
  {
   "cell_type": "code",
   "execution_count": 561,
   "id": "792f146d-d5da-4a43-a50b-0facd247cb71",
   "metadata": {},
   "outputs": [],
   "source": [
    "df_100.to_parquet(f'../outputs/Model_ready_df/df_100.parquet', index=False)"
   ]
  },
  {
   "cell_type": "code",
   "execution_count": 562,
   "id": "e86eb186-c680-4f47-821b-1151e29bb7d4",
   "metadata": {},
   "outputs": [],
   "source": [
    "df_50.to_parquet(f'../outputs/Model_ready_df/df_50.parquet', index=False)"
   ]
  },
  {
   "cell_type": "markdown",
   "id": "49008fa7-74db-4a24-8670-9982ea198805",
   "metadata": {},
   "source": [
    "### Excluding any rows that have a non-completed survey before"
   ]
  },
  {
   "cell_type": "code",
   "execution_count": null,
   "id": "8238692f-1cfc-4c6d-b16e-f217e8c851a7",
   "metadata": {},
   "outputs": [],
   "source": [
    "df_full.head(60).tail(10)"
   ]
  },
  {
   "cell_type": "code",
   "execution_count": null,
   "id": "5f2d9028-ddb6-4471-ad60-bc57646f66ef",
   "metadata": {},
   "outputs": [],
   "source": [
    "df_full.head(930).tail(10)"
   ]
  },
  {
   "cell_type": "code",
   "execution_count": null,
   "id": "68ebde08-2aa6-4b12-aedf-f2e5946cb462",
   "metadata": {},
   "outputs": [],
   "source": [
    "len(df_full)"
   ]
  },
  {
   "cell_type": "code",
   "execution_count": null,
   "id": "3f4d0757-03f6-4b02-98c0-764b5a6fb1c3",
   "metadata": {},
   "outputs": [],
   "source": [
    "df_full['next_prompt_compliance'].value_counts()"
   ]
  },
  {
   "cell_type": "code",
   "execution_count": null,
   "id": "dca2704e-1467-4d30-a396-8c4c4cba49bf",
   "metadata": {},
   "outputs": [],
   "source": [
    "df_full['next_prompt_compliance'].isna().sum()"
   ]
  },
  {
   "cell_type": "code",
   "execution_count": null,
   "id": "1c33ef6b-1113-47c7-81f1-3650625e05ac",
   "metadata": {},
   "outputs": [],
   "source": [
    "df_full['obscomp_steps'].value_counts()"
   ]
  },
  {
   "cell_type": "code",
   "execution_count": null,
   "id": "0ce42de1-2d11-433e-8913-3f876623ae6e",
   "metadata": {},
   "outputs": [],
   "source": [
    "df_full['obscomp_steps'].notna().sum()"
   ]
  },
  {
   "cell_type": "code",
   "execution_count": null,
   "id": "1fc4bd0f-08a1-422a-a6a9-f3be0abf5970",
   "metadata": {},
   "outputs": [],
   "source": [
    "df_full['compliance'].value_counts()"
   ]
  },
  {
   "cell_type": "code",
   "execution_count": null,
   "id": "a0c9b57c-52a7-4be0-b2f7-5b1da587af70",
   "metadata": {},
   "outputs": [],
   "source": [
    "df_full['obscomp_steps'].isna().sum()"
   ]
  },
  {
   "cell_type": "code",
   "execution_count": null,
   "id": "367b5ff7-45bf-4150-8eaf-f63cd3eaa3ab",
   "metadata": {},
   "outputs": [],
   "source": [
    "df_full['compliance'].isna().sum()"
   ]
  },
  {
   "cell_type": "markdown",
   "id": "d8cd8f1d-48e2-4121-8eb2-e9f7437134bf",
   "metadata": {},
   "source": [
    "full_surveys is actually not necessary since all surveys with an NA in compliance have already been excluded before"
   ]
  },
  {
   "cell_type": "markdown",
   "id": "6c44f6de-50ce-45fb-9269-ba0ea69cb474",
   "metadata": {},
   "source": [
    "#### Remove all last prompt of day surveys"
   ]
  },
  {
   "cell_type": "code",
   "execution_count": 573,
   "id": "d0d17ee3-3713-4f84-a37a-987691373333",
   "metadata": {},
   "outputs": [],
   "source": [
    "df_no_lapro = df_full[df_full['time_of_the_day_categories'] != 6]"
   ]
  },
  {
   "cell_type": "code",
   "execution_count": null,
   "id": "0ac3e97a-159a-4058-b45d-b047dc800db5",
   "metadata": {},
   "outputs": [],
   "source": [
    "len(df_no_lapro)"
   ]
  },
  {
   "cell_type": "code",
   "execution_count": null,
   "id": "7c960604-fff7-4381-b7b1-25e5d53a4550",
   "metadata": {},
   "outputs": [],
   "source": [
    "df_no_lapro['next_prompt_compliance'].describe()"
   ]
  },
  {
   "cell_type": "code",
   "execution_count": null,
   "id": "51918b15-ce95-43c5-8481-8fceab5651f5",
   "metadata": {},
   "outputs": [],
   "source": [
    "df_no_lapro['obscomp_steps'].value_counts()"
   ]
  },
  {
   "cell_type": "code",
   "execution_count": null,
   "id": "df22469d-ff40-42b5-91fa-a850a641dabb",
   "metadata": {},
   "outputs": [],
   "source": [
    "df_no_lapro['obscomp_steps'].notna().sum()"
   ]
  },
  {
   "cell_type": "code",
   "execution_count": null,
   "id": "152ba645-f358-4b19-a761-c5e843845c6a",
   "metadata": {},
   "outputs": [],
   "source": [
    "df_no_lapro['obscomp_steps'].isna().sum()"
   ]
  },
  {
   "cell_type": "code",
   "execution_count": null,
   "id": "d7f0dc8c-a7c8-46b4-bc7f-5f1298027f3a",
   "metadata": {},
   "outputs": [],
   "source": [
    "df_no_lapro['compliance'].notna().sum()"
   ]
  },
  {
   "cell_type": "code",
   "execution_count": null,
   "id": "b61f44ec-3084-490d-b5c8-ff098337063b",
   "metadata": {},
   "outputs": [],
   "source": [
    "df_no_lapro['compliance'].isna().sum()"
   ]
  },
  {
   "cell_type": "code",
   "execution_count": null,
   "id": "ac84da05-be4b-45a6-b4bd-fc255c4d9f0c",
   "metadata": {},
   "outputs": [],
   "source": [
    "df_no_lapro['next_prompt_compliance'].notna().sum()"
   ]
  },
  {
   "cell_type": "code",
   "execution_count": null,
   "id": "5764d196-1909-4f3d-8c66-b86735c20c02",
   "metadata": {},
   "outputs": [],
   "source": [
    "df_no_lapro['next_prompt_compliance'].value_counts()"
   ]
  },
  {
   "cell_type": "code",
   "execution_count": null,
   "id": "bb74d68f-3709-4bc0-bd77-eb9efde257c8",
   "metadata": {},
   "outputs": [],
   "source": [
    "df_no_lapro['compliance'].value_counts()"
   ]
  },
  {
   "cell_type": "code",
   "execution_count": null,
   "id": "f9f8f781-aed0-485f-af04-f71649e3667b",
   "metadata": {},
   "outputs": [],
   "source": [
    "len(df_no_lapro)"
   ]
  },
  {
   "cell_type": "markdown",
   "id": "9ec2a703-659b-47ed-b224-904c084ab21a",
   "metadata": {},
   "source": [
    "It turns out that the labelling of na rows in the obscomp_steps column did not work as desired for all! compliance = 0 columns, where obscomp steps should actually be 0 "
   ]
  },
  {
   "cell_type": "code",
   "execution_count": null,
   "id": "6cc00bfb-7f1b-4018-a4a3-02ef5c4d7701",
   "metadata": {},
   "outputs": [],
   "source": [
    "df_no_lapro.head(60).tail(5)"
   ]
  },
  {
   "cell_type": "code",
   "execution_count": null,
   "id": "8c861339-da1b-4b37-aeb6-cbb3a4541f76",
   "metadata": {},
   "outputs": [],
   "source": [
    "df_no_lapro['ct_per_survey_item'].describe()"
   ]
  },
  {
   "cell_type": "code",
   "execution_count": 587,
   "id": "4374bcde-1a8a-4f80-b4e2-b580f4eda534",
   "metadata": {},
   "outputs": [],
   "source": [
    "df_full.to_parquet(f'../outputs/Model_ready_df/df_full_surveys_incl_next_prompt_0.parquet', index=False)"
   ]
  },
  {
   "cell_type": "code",
   "execution_count": 588,
   "id": "4dec9376-550a-4af2-a860-a83b8c704a7b",
   "metadata": {},
   "outputs": [],
   "source": [
    "df_no_lapro.to_parquet(f'../outputs/Model_ready_df/df_no_lapro.parquet', index=False)"
   ]
  },
  {
   "cell_type": "markdown",
   "id": "2dc1bb8d-a91c-4455-b1e0-f598baa7940a",
   "metadata": {},
   "source": [
    "#### Drop any rows where obscopm steps = na (esentially any rows where compliance is = 0)"
   ]
  },
  {
   "cell_type": "code",
   "execution_count": 589,
   "id": "a8ea0aaa-0a47-47af-baf7-88af84e663eb",
   "metadata": {},
   "outputs": [],
   "source": [
    "df_no_lapro_noobsc = df_no_lapro[df_no_lapro['obscomp_steps'].notna()].copy()\n"
   ]
  },
  {
   "cell_type": "code",
   "execution_count": null,
   "id": "5266b784-0ebd-4c75-8661-c1c86a61b38b",
   "metadata": {},
   "outputs": [],
   "source": [
    "df_no_lapro_noobsc['compliance'].value_counts()"
   ]
  },
  {
   "cell_type": "code",
   "execution_count": null,
   "id": "166d9de4-c9ec-41e2-9a65-aca77d153ff5",
   "metadata": {},
   "outputs": [],
   "source": [
    "df_no_lapro_noobsc['next_prompt_compliance'].value_counts()"
   ]
  },
  {
   "cell_type": "code",
   "execution_count": null,
   "id": "84dd2e1f-5347-4763-87a7-5d61fca33309",
   "metadata": {},
   "outputs": [],
   "source": [
    "df_no_lapro_noobsc['next_prompt_compliance'].notna().sum()"
   ]
  },
  {
   "cell_type": "code",
   "execution_count": null,
   "id": "481827af-b9a1-4446-8436-ad50e349ee86",
   "metadata": {},
   "outputs": [],
   "source": [
    "df_no_lapro_noobsc['compliance'].isna().sum()"
   ]
  },
  {
   "cell_type": "code",
   "execution_count": null,
   "id": "9762240b-55e7-49e4-bb31-2978cfd61ae6",
   "metadata": {},
   "outputs": [],
   "source": [
    "df_no_lapro_noobsc['compliance'].notna().sum()"
   ]
  },
  {
   "cell_type": "code",
   "execution_count": null,
   "id": "4ac45cf6-8e51-4ab4-a046-737337eb54d8",
   "metadata": {},
   "outputs": [],
   "source": [
    "df_no_lapro_noobsc['obscomp_steps'].notna().sum()"
   ]
  },
  {
   "cell_type": "code",
   "execution_count": null,
   "id": "bb2cc2cc-31d8-4b7f-a274-b737eb9ef8ec",
   "metadata": {},
   "outputs": [],
   "source": [
    "df_no_lapro_noobsc['obscomp_steps'].isna().sum()"
   ]
  },
  {
   "cell_type": "code",
   "execution_count": null,
   "id": "caf1d328-4aff-4192-b34a-001dd3d384be",
   "metadata": {},
   "outputs": [],
   "source": [
    "df_no_lapro_noobsc['obscomp_steps'].value_counts()"
   ]
  },
  {
   "cell_type": "code",
   "execution_count": null,
   "id": "3a0dd7c9-1714-473a-a73b-f49f24597c9c",
   "metadata": {},
   "outputs": [],
   "source": [
    "df_no_lapro_noobsc['obscomp_steps'].describe()"
   ]
  },
  {
   "cell_type": "code",
   "execution_count": null,
   "id": "3c99871e-c118-4838-8539-e4f9eb15d608",
   "metadata": {},
   "outputs": [],
   "source": [
    "len(df_no_lapro_noobsc)"
   ]
  },
  {
   "cell_type": "code",
   "execution_count": 600,
   "id": "f17ff498-9fe7-4577-9473-d4df1afd0d0f",
   "metadata": {},
   "outputs": [],
   "source": [
    "df_no_lapro_noobsc.to_parquet(f'../outputs/Model_ready_df/df_full_no_last_prompt_full_surveys.parquet', index=False)"
   ]
  },
  {
   "cell_type": "markdown",
   "id": "50968d95-c5bd-4cb3-8c43-458e6a8a2cef",
   "metadata": {},
   "source": [
    "##### Frequencies next-prompt compliance outcome"
   ]
  },
  {
   "cell_type": "code",
   "execution_count": 601,
   "id": "7480dd90-84e7-4dd3-94a9-807e9a41c869",
   "metadata": {},
   "outputs": [],
   "source": [
    "columns_of_interest = ['next_prompt_compliance', 'sleep_quality', 'stress', 'affect', 'hunger', 'fatigue', 'obscomp_steps', \n",
    "                       'age', 'gender', 'day_of_monitoring', 'time_of_the_day_categories_dummy', 'day_of_the_week_binary', 'ipi', \n",
    "                       'subject_id_roman_x']\n",
    "\n",
    "# Calculating descriptive statistics\n",
    "descriptive_stats = df_no_lapro_noobsc[columns_of_interest].describe()\n",
    "\n",
    "descriptive_stats_transposed = descriptive_stats.transpose()"
   ]
  },
  {
   "cell_type": "code",
   "execution_count": null,
   "id": "daca3ea1-4c2a-49ee-bcc6-2ace291e6f8f",
   "metadata": {},
   "outputs": [],
   "source": [
    "descriptive_stats_transposed"
   ]
  },
  {
   "cell_type": "code",
   "execution_count": 603,
   "id": "6cd8b5d8-93f3-4eee-b182-1a9c61e016f5",
   "metadata": {},
   "outputs": [],
   "source": [
    "descriptive_stats_transposed.to_csv('../outputs/for_draft/frequency_tables/frequencies_next_prompt_compliance.csv')"
   ]
  },
  {
   "cell_type": "code",
   "execution_count": null,
   "id": "72522c48-40e9-4ba5-8c81-5e625fb25dde",
   "metadata": {},
   "outputs": [],
   "source": [
    "df_no_lapro_noobsc.head()"
   ]
  },
  {
   "cell_type": "code",
   "execution_count": null,
   "id": "a8f05898-a202-42b7-951e-5de1e12a2a65",
   "metadata": {},
   "outputs": [],
   "source": [
    "unique_subjects_with_nan_sleep_quality = df_no_lapro_noobsc.loc[df_no_lapro_noobsc['sleep_quality'].isna(), 'subject_id_roman_x'].nunique()\n",
    "\n",
    "print(\"Number of unique subject_id_roman_x values where sleep_quality is NaN:\", unique_subjects_with_nan_sleep_quality)\n"
   ]
  },
  {
   "cell_type": "code",
   "execution_count": 606,
   "id": "c7d5ef1b-ee7d-41b1-b8c7-4a8259d8adfb",
   "metadata": {},
   "outputs": [],
   "source": [
    "columns_to_check = ['sleep_quality', 'stress', 'affect', 'fatigue', 'hunger']\n",
    "\n",
    "# Identify subject_id_roman_x values with missing values in specified columns\n",
    "subjects_with_missing_values = df_no_lapro_noobsc[df_no_lapro_noobsc[columns_to_check].isnull().any(axis=1)]['subject_id_roman_x'].unique()\n",
    "\n",
    "# Creating a new DataFrame without rows containing missing values in specified columns and for the identified subjects\n",
    "df_no_lapro_noobscpredict = df_no_lapro_noobsc[~df_no_lapro_noobsc['subject_id_roman_x'].isin(subjects_with_missing_values)]\n",
    "\n",
    "\n"
   ]
  },
  {
   "cell_type": "code",
   "execution_count": null,
   "id": "0e315ee1-21cb-434a-9414-7329295d4236",
   "metadata": {},
   "outputs": [],
   "source": [
    "print(subjects_with_missing_values)"
   ]
  },
  {
   "cell_type": "code",
   "execution_count": null,
   "id": "9c2b6f10-88fa-4e0a-9453-88cf106c25a9",
   "metadata": {},
   "outputs": [],
   "source": [
    "import pandas as pd\n",
    "\n",
    "# Assuming df_no_lapro_noobsc is your DataFrame and columns_to_check is the list of columns\n",
    "columns_to_check = ['sleep_quality', 'stress', 'affect', 'fatigue', 'hunger']\n",
    "\n",
    "# Check for NaN values in the specified columns\n",
    "nan_values = df_no_lapro_noobsc[columns_to_check].isnull().any(axis=1)\n",
    "\n",
    "# Filter the DataFrame to include only rows with NaN values in at least one column\n",
    "filtered_df = df_no_lapro_noobsc[nan_values]\n",
    "\n",
    "# Count the number of unique participant IDs in the filtered DataFrame\n",
    "unique_participant_count = filtered_df['subject_id_roman_x'].nunique()\n",
    "\n",
    "print(f\"Number of unique participant IDs with NaN values in at least one column: {unique_participant_count}\")\n"
   ]
  },
  {
   "cell_type": "code",
   "execution_count": null,
   "id": "20cc4c0a-4838-4ccb-9ec0-a73c1b667f70",
   "metadata": {},
   "outputs": [],
   "source": [
    "filtered_df.head()"
   ]
  },
  {
   "cell_type": "code",
   "execution_count": null,
   "id": "b232a247-2c32-4cf8-8103-7efd92104008",
   "metadata": {},
   "outputs": [],
   "source": [
    "columns_to_check = ['sleep_quality', 'stress', 'affect', 'fatigue', 'hunger']\n",
    "\n",
    "# Get the participant IDs with NaN values in at least one column\n",
    "participants_with_nan = df_no_lapro_noobsc[df_no_lapro_noobsc[columns_to_check].isnull().any(axis=1)]['subject_id_roman_x'].unique()\n",
    "\n",
    "# Drop rows corresponding to the participant IDs with NaN values\n",
    "df_no_nan_values = df_no_lapro_noobsc[~df_no_lapro_noobsc['subject_id_roman_x'].isin(participants_with_nan)]\n",
    "\n",
    "# Print the shape of the original and filtered DataFrames for comparison\n",
    "print(\"Original DataFrame shape:\", df_no_lapro_noobsc.shape)\n",
    "print(\"DataFrame after dropping rows with NaN values shape:\", df_no_nan_values.shape)\n"
   ]
  },
  {
   "cell_type": "markdown",
   "id": "743fbbc2-77a0-46b0-a0f3-da5de6c79c97",
   "metadata": {},
   "source": [
    "Remove rows from 5 participants because they still have missing values in one of the 5 main variables"
   ]
  },
  {
   "cell_type": "code",
   "execution_count": null,
   "id": "f2d82703-a291-4209-8b2a-bf3baee0afa5",
   "metadata": {},
   "outputs": [],
   "source": [
    "df_no_nan_values['subject_id_roman_x'].nunique()"
   ]
  },
  {
   "cell_type": "code",
   "execution_count": null,
   "id": "de5bd638-117f-44d0-9f26-d8e37595ad8c",
   "metadata": {},
   "outputs": [],
   "source": [
    "df_no_nan_values.head()"
   ]
  },
  {
   "cell_type": "code",
   "execution_count": 613,
   "id": "c40c98fb-197d-451d-8592-2ac36cf3b6d6",
   "metadata": {},
   "outputs": [],
   "source": [
    "df_missing_sleep_quality = df_no_lapro_noobsc[df_no_lapro_noobsc['sleep_quality'].isnull()]\n",
    "\n"
   ]
  },
  {
   "cell_type": "code",
   "execution_count": null,
   "id": "b8e25e16-2bab-40d7-8faf-e47ee0e53311",
   "metadata": {},
   "outputs": [],
   "source": [
    "df_missing_sleep_quality.head(1)"
   ]
  },
  {
   "cell_type": "code",
   "execution_count": null,
   "id": "1a5417e2-0b64-4e36-ac1a-bcfe50b5da58",
   "metadata": {},
   "outputs": [],
   "source": [
    "len(df_no_lapro_noobscpredict)"
   ]
  },
  {
   "cell_type": "code",
   "execution_count": null,
   "id": "9bcb5289-28fe-4441-93d6-7f1a01d4efea",
   "metadata": {},
   "outputs": [],
   "source": [
    "df_no_lapro_noobscpredict['subject_id_roman_x'].nunique()"
   ]
  },
  {
   "cell_type": "code",
   "execution_count": null,
   "id": "02dc27af-b4ae-412f-9ce9-1f499b0a4cb3",
   "metadata": {},
   "outputs": [],
   "source": [
    "nan_values = df_no_lapro_noobscpredict.isna().any()\n",
    "\n",
    "# Display columns with NaN values\n",
    "columns_with_nan = nan_values[nan_values].index.tolist()\n",
    "print(\"Columns with NaN values:\", columns_with_nan)\n",
    "\n",
    "# Count the number of NaN values in each column\n",
    "nan_count_per_column = df_no_lapro_noobscpredict.isna().sum()\n",
    "print(\"Number of NaN values in each column:\")\n",
    "print(nan_count_per_column)\n"
   ]
  },
  {
   "cell_type": "markdown",
   "id": "986dac85-7f02-44f9-9e21-33f10fa80a11",
   "metadata": {},
   "source": [
    "#### Make dataset for careless responding outcome and remove all next prompt-compliance = 0 surveys as those should be NAN for careless responding (longstring/ completion time) because the next survey has not been completed"
   ]
  },
  {
   "cell_type": "code",
   "execution_count": null,
   "id": "59e19857-6cf9-42c2-a8b5-020aa79f60fc",
   "metadata": {},
   "outputs": [],
   "source": [
    "df_no_lapro_noobsc.head()"
   ]
  },
  {
   "cell_type": "code",
   "execution_count": null,
   "id": "353d0099-63eb-41c9-a092-c807cf02efa8",
   "metadata": {},
   "outputs": [],
   "source": [
    "df_no_lapro_noobsc['next_prompt_compliance'].value_counts()"
   ]
  },
  {
   "cell_type": "code",
   "execution_count": null,
   "id": "dc88b869-c748-48a8-9661-37cea276d902",
   "metadata": {},
   "outputs": [],
   "source": [
    "df_no_lapro_noobsc['next_prompt_ct_per_survey_item'].isna().sum()"
   ]
  },
  {
   "cell_type": "code",
   "execution_count": null,
   "id": "a6690982-7f24-45dd-8670-48de0a02fb1f",
   "metadata": {},
   "outputs": [],
   "source": [
    "df_no_lapro_noobsc['next_prompt_completion_time'].isna().sum()"
   ]
  },
  {
   "cell_type": "code",
   "execution_count": 622,
   "id": "fe860d92-87af-436c-b370-b93986280071",
   "metadata": {},
   "outputs": [],
   "source": [
    "fil_df = df_no_lapro_noobsc[df_no_lapro_noobsc['next_prompt_compliance'] != 0]\n",
    "\n",
    "# Save the remaining rows to a new DataFrame\n",
    "df_no_lapro_noobsc_no_null_nepro_comp = fil_df.copy()"
   ]
  },
  {
   "cell_type": "code",
   "execution_count": null,
   "id": "0ff68430-dc24-4173-91dd-5c3cdca1c9ba",
   "metadata": {},
   "outputs": [],
   "source": [
    "df_no_lapro_noobsc_no_null_nepro_comp['next_prompt_ct_per_survey_item'].isna().sum()"
   ]
  },
  {
   "cell_type": "code",
   "execution_count": null,
   "id": "2532ec05-f11c-4daf-aec5-009757962571",
   "metadata": {},
   "outputs": [],
   "source": [
    "df_no_lapro_noobsc_no_null_nepro_comp['next_prompt_ct_per_survey_item'].describe()"
   ]
  },
  {
   "cell_type": "code",
   "execution_count": null,
   "id": "1db504cf-ebc9-4eba-9d61-1d9620695cba",
   "metadata": {},
   "outputs": [],
   "source": [
    "df_no_lapro_noobsc_no_null_nepro_comp['next_prompt_longstring'].value_counts()"
   ]
  },
  {
   "cell_type": "code",
   "execution_count": 626,
   "id": "302a69f3-2d1c-40f8-a991-942616eeb5a0",
   "metadata": {},
   "outputs": [],
   "source": [
    "df_no_lapro_noobsc_no_null_nepro_comp.to_parquet(f'../outputs/Model_ready_df/df_nepro_careless.parquet', index=False)"
   ]
  },
  {
   "cell_type": "code",
   "execution_count": null,
   "id": "92348974-f62c-444d-a1c5-d4201bcff413",
   "metadata": {},
   "outputs": [],
   "source": [
    "len(df_no_lapro_noobsc_no_null_nepro_comp)"
   ]
  },
  {
   "cell_type": "markdown",
   "id": "141b5bd4-7a43-420b-aba3-442b6c807a83",
   "metadata": {},
   "source": [
    "#### Frequencies Next-prompt Straightlining"
   ]
  },
  {
   "cell_type": "code",
   "execution_count": 628,
   "id": "7174443f-4cb6-44ca-9a44-c7ca19d7badd",
   "metadata": {},
   "outputs": [],
   "source": [
    "columns_of_interest = ['next_prompt_longstring', 'sleep_quality', 'stress', 'affect', 'hunger', 'fatigue', 'obscomp_steps', \n",
    "                       'age', 'gender', 'day_of_monitoring', 'time_of_the_day_categories_dummy', 'day_of_the_week_binary', 'ipi', \n",
    "                       'subject_id_roman_x']\n",
    "\n",
    "# Calculating descriptive statistics\n",
    "descriptive_stats = df_no_lapro_noobsc_no_null_nepro_comp[columns_of_interest].describe()\n",
    "\n",
    "# Transposing the descriptive statistics DataFrame\n",
    "descriptive_stats_transposed = descriptive_stats.transpose()"
   ]
  },
  {
   "cell_type": "code",
   "execution_count": 629,
   "id": "d064c722-9e09-4361-bca2-1bbbe251f1e1",
   "metadata": {},
   "outputs": [],
   "source": [
    "descriptive_stats_transposed.to_csv('../outputs/for_draft/frequency_tables/frequencies_next_prompt_straightlining.csv')"
   ]
  },
  {
   "cell_type": "markdown",
   "id": "6b37d47b-b584-4305-8c6e-11affc52760b",
   "metadata": {},
   "source": [
    "Finished Next-prompt_compliance"
   ]
  },
  {
   "cell_type": "markdown",
   "id": "a64eaf51-6cb6-4106-b1ab-cf0da6b77e8b",
   "metadata": {},
   "source": [
    "### Dataset for response delay and completion time outcome (including last survey of the day)"
   ]
  },
  {
   "cell_type": "code",
   "execution_count": null,
   "id": "cc0b5f33-7ef6-429b-8fc5-e4cfbda84690",
   "metadata": {},
   "outputs": [],
   "source": [
    "df.head()"
   ]
  },
  {
   "cell_type": "code",
   "execution_count": null,
   "id": "65e15ced-ba56-48de-b0fb-3cc73e509b4b",
   "metadata": {},
   "outputs": [],
   "source": [
    "len(df)"
   ]
  },
  {
   "cell_type": "code",
   "execution_count": 632,
   "id": "47b57ea7-9546-4f3e-bae1-2db5667fd0c3",
   "metadata": {},
   "outputs": [],
   "source": [
    "df_time = df.copy()"
   ]
  },
  {
   "cell_type": "code",
   "execution_count": null,
   "id": "a443bef1-7106-477c-bfa5-02c582f628da",
   "metadata": {},
   "outputs": [],
   "source": [
    "df_time['next_prompt_compliance'].value_counts()"
   ]
  },
  {
   "cell_type": "code",
   "execution_count": null,
   "id": "9446cd1f-1a11-4665-8fc9-31c910f3a577",
   "metadata": {},
   "outputs": [],
   "source": [
    "df_time['next_prompt_compliance'].isna().sum()"
   ]
  },
  {
   "cell_type": "code",
   "execution_count": null,
   "id": "92ae3d1d-1813-4416-a40c-6d96a58e7463",
   "metadata": {},
   "outputs": [],
   "source": [
    "df_time['next_prompt_compliance'].notna().sum()"
   ]
  },
  {
   "cell_type": "code",
   "execution_count": null,
   "id": "46a269bb-0228-43cb-968f-cd03b359fd7f",
   "metadata": {},
   "outputs": [],
   "source": [
    "df_time['compliance'].value_counts()"
   ]
  },
  {
   "cell_type": "code",
   "execution_count": null,
   "id": "d0c25a07-2247-473e-98c7-2bdd1b16da79",
   "metadata": {},
   "outputs": [],
   "source": [
    "df_time['compliance'].isna().sum()"
   ]
  },
  {
   "cell_type": "code",
   "execution_count": null,
   "id": "f680dd12-f1fa-4339-8770-2135d8869e72",
   "metadata": {},
   "outputs": [],
   "source": [
    "df_time['compliance'].notna().sum()"
   ]
  },
  {
   "cell_type": "code",
   "execution_count": null,
   "id": "bda8cd88-b817-4573-94bc-eb6e0b71c26b",
   "metadata": {},
   "outputs": [],
   "source": [
    "df_time['obscomp_steps'].notna().sum()"
   ]
  },
  {
   "cell_type": "code",
   "execution_count": null,
   "id": "f8018e1b-7eb3-4ffa-a68a-5b31efca02a6",
   "metadata": {},
   "outputs": [],
   "source": [
    "df_time['obscomp_steps'].isna().sum()"
   ]
  },
  {
   "cell_type": "code",
   "execution_count": null,
   "id": "de05d908-16ea-4865-90d9-b1224f50725a",
   "metadata": {},
   "outputs": [],
   "source": [
    "df_time['obscomp_steps'].value_counts()"
   ]
  },
  {
   "cell_type": "code",
   "execution_count": 642,
   "id": "48d2e54b-d39a-4aba-a5f6-1bec76f0a962",
   "metadata": {},
   "outputs": [],
   "source": [
    "columns_to_check = ['sleep_quality', 'stress', 'affect', 'fatigue', 'hunger']\n",
    "\n",
    "# Identify subject_id_roman_x values with missing values in specified columns\n",
    "subjects_with_missing_values = df_time[df_time[columns_to_check].isnull().any(axis=1)]['subject_id_roman_x'].unique()\n",
    "\n",
    "# Creating a new DataFrame without rows containing missing values in specified columns and for the identified subjects\n",
    "df_no_lapro_noobscpredict = df_time[~df_time['subject_id_roman_x'].isin(subjects_with_missing_values)]\n",
    "\n",
    "\n"
   ]
  },
  {
   "cell_type": "code",
   "execution_count": null,
   "id": "3d219bf2-e23a-42cb-a8e9-7679a4b2063e",
   "metadata": {},
   "outputs": [],
   "source": [
    "columns_to_check = ['sleep_quality', 'stress', 'affect', 'fatigue', 'hunger']\n",
    "\n",
    "# Check for NaN values in the specified columns\n",
    "nan_values = df_time[columns_to_check].isnull().any(axis=1)\n",
    "\n",
    "# Filter the DataFrame to include only rows with NaN values in at least one column\n",
    "filtered_df = df_time[nan_values]\n",
    "\n",
    "# Count the number of unique participant IDs in the filtered DataFrame\n",
    "unique_participant_count = filtered_df['subject_id_roman_x'].nunique()\n",
    "\n",
    "print(f\"Number of unique participant IDs with NaN values in at least one column: {unique_participant_count}\")\n"
   ]
  },
  {
   "cell_type": "code",
   "execution_count": null,
   "id": "3384f98a-79a7-40d8-8e05-b34ad67d0b5b",
   "metadata": {},
   "outputs": [],
   "source": [
    "columns_to_check = ['sleep_quality', 'stress', 'affect', 'fatigue', 'hunger']\n",
    "\n",
    "# Get the participant IDs with NaN values in at least one column\n",
    "participants_with_nan = df_time[df_time[columns_to_check].isnull().any(axis=1)]['subject_id_roman_x'].unique()\n",
    "\n",
    "# Drop rows corresponding to the participant IDs with NaN values\n",
    "df_no_nan_values = df_time[~df_time['subject_id_roman_x'].isin(participants_with_nan)]\n",
    "\n",
    "# Print the shape of the original and filtered DataFrames for comparison\n",
    "print(\"Original DataFrame shape:\", df_time.shape)\n",
    "print(\"DataFrame after dropping rows with NaN values shape:\", df_no_nan_values.shape)\n"
   ]
  },
  {
   "cell_type": "markdown",
   "id": "18c3fa94-2451-47a0-b8d8-12040564b42f",
   "metadata": {},
   "source": [
    "Remove rows from 5 participants because they still have missing values in one of the 5 main variables"
   ]
  },
  {
   "cell_type": "code",
   "execution_count": null,
   "id": "ed7f3f54-ba52-479a-b1c9-aa7c545fdf2d",
   "metadata": {},
   "outputs": [],
   "source": [
    "df_no_nan_values['subject_id_roman_x'].nunique()"
   ]
  },
  {
   "cell_type": "code",
   "execution_count": null,
   "id": "ce780e64-965f-41c8-a201-4ee646ad31f7",
   "metadata": {},
   "outputs": [],
   "source": [
    "df_no_nan_values.head(1)"
   ]
  },
  {
   "cell_type": "code",
   "execution_count": 647,
   "id": "87ce8fb0-5ca3-4847-b2b2-d66e7f2b4399",
   "metadata": {},
   "outputs": [],
   "source": [
    "df_time = df_no_nan_values.copy()"
   ]
  },
  {
   "cell_type": "code",
   "execution_count": 648,
   "id": "57d54460-462e-4d9d-9aaa-45491138aa38",
   "metadata": {},
   "outputs": [],
   "source": [
    "df_time_comp = df_time[df_time['compliance'] != 0]"
   ]
  },
  {
   "cell_type": "code",
   "execution_count": null,
   "id": "07c04201-2f68-4bf5-bd70-a283d0a895af",
   "metadata": {},
   "outputs": [],
   "source": [
    "df_time_comp['obscomp_steps'].isna().sum()"
   ]
  },
  {
   "cell_type": "code",
   "execution_count": null,
   "id": "f428e238-490c-4c9e-9ca6-3f990b6e3372",
   "metadata": {},
   "outputs": [],
   "source": [
    "df_time_comp['obscomp_steps'].notna().sum()"
   ]
  },
  {
   "cell_type": "code",
   "execution_count": null,
   "id": "a63a2983-adb6-4480-9004-91fecca9edda",
   "metadata": {},
   "outputs": [],
   "source": [
    "df_time_comp['obscomp_steps'].value_counts()"
   ]
  },
  {
   "cell_type": "code",
   "execution_count": null,
   "id": "5b1902f7-fc03-4ae9-a591-25dea5228858",
   "metadata": {},
   "outputs": [],
   "source": [
    "df_time_comp['obscomp_steps'].describe()"
   ]
  },
  {
   "cell_type": "code",
   "execution_count": null,
   "id": "85d345a3-63b9-4279-942f-a384917580ff",
   "metadata": {},
   "outputs": [],
   "source": [
    "df_time_comp['compliance'].notna().sum()"
   ]
  },
  {
   "cell_type": "code",
   "execution_count": null,
   "id": "e1c341e8-7a89-40de-a497-b5e429bc0712",
   "metadata": {},
   "outputs": [],
   "source": [
    "df_time_comp['compliance'].isna().sum()"
   ]
  },
  {
   "cell_type": "code",
   "execution_count": null,
   "id": "38ee71df-9f51-4638-80ca-b446ca820f27",
   "metadata": {},
   "outputs": [],
   "source": [
    "df_time_comp['compliance'].value_counts()"
   ]
  },
  {
   "cell_type": "markdown",
   "id": "65b4868c-6ffd-40b5-971c-4ae44a2da419",
   "metadata": {},
   "source": [
    "#### Remove all rows with response delay > 10 mins"
   ]
  },
  {
   "cell_type": "code",
   "execution_count": null,
   "id": "17afacb0-19a8-42aa-8837-4699abfffafe",
   "metadata": {},
   "outputs": [],
   "source": [
    "df_time_comp.head()"
   ]
  },
  {
   "cell_type": "markdown",
   "id": "149e37b3-fdf7-4bbc-a675-b2d102448d6a",
   "metadata": {},
   "source": [
    "#### This should be the output for completion time"
   ]
  },
  {
   "cell_type": "code",
   "execution_count": null,
   "id": "949b9bed-b2b8-4739-8a84-49648b6186bc",
   "metadata": {},
   "outputs": [],
   "source": [
    "df_time_comp['completion_time'].describe()"
   ]
  },
  {
   "cell_type": "code",
   "execution_count": null,
   "id": "2ca0d89e-76ee-497a-9ae3-158ea3408204",
   "metadata": {},
   "outputs": [],
   "source": [
    "df_time_comp['subject_id_roman_x'].nunique()"
   ]
  },
  {
   "cell_type": "markdown",
   "id": "d2b7d13a-8782-4dce-b8c8-108572f2d931",
   "metadata": {},
   "source": [
    "df_time_comp.to_parquet(f'../outputs/Model_ready_df/df_completion_time.parquet', index=False)"
   ]
  },
  {
   "cell_type": "markdown",
   "id": "32b29ebb-8e6f-4641-86d1-6476bf2a653d",
   "metadata": {},
   "source": [
    "##### Make output TPI one_median"
   ]
  },
  {
   "cell_type": "code",
   "execution_count": null,
   "id": "f1c6cc32-b650-496a-a76c-48a04d806200",
   "metadata": {},
   "outputs": [],
   "source": [
    "len(df_time_comp)"
   ]
  },
  {
   "cell_type": "code",
   "execution_count": 660,
   "id": "d1198f16-6ac7-4235-acce-c48800410e21",
   "metadata": {},
   "outputs": [],
   "source": [
    "df_tpi = df_time_comp.copy()"
   ]
  },
  {
   "cell_type": "code",
   "execution_count": null,
   "id": "05127b58-d8e2-4710-ae59-228a4bfa0978",
   "metadata": {},
   "outputs": [],
   "source": [
    "len(df_tpi)"
   ]
  },
  {
   "cell_type": "code",
   "execution_count": null,
   "id": "df4ee58e-fa61-45cb-9c78-7338806059fb",
   "metadata": {},
   "outputs": [],
   "source": [
    "df_tpi['ct_per_survey_item'].describe()"
   ]
  },
  {
   "cell_type": "code",
   "execution_count": 663,
   "id": "c25a87da-fd51-420d-8a26-cf3fc5458c9b",
   "metadata": {},
   "outputs": [],
   "source": [
    "df_tpi.to_parquet(f'../outputs/Model_ready_df/df_tpi.parquet', index=False)"
   ]
  },
  {
   "cell_type": "markdown",
   "id": "40f0013a-c583-4f54-9b92-998bd2095821",
   "metadata": {},
   "source": [
    "##### Frequencies fast responging/completion time per survey item (TPI)"
   ]
  },
  {
   "cell_type": "code",
   "execution_count": 664,
   "id": "0de54f91-4515-4848-b204-1be370441c85",
   "metadata": {},
   "outputs": [],
   "source": [
    "columns_of_interest = ['ct_per_survey_item_one_median', 'sleep_quality', 'stress', 'affect', 'hunger', 'fatigue', 'obscomp_steps', \n",
    "                       'age', 'gender', 'day_of_monitoring', 'time_of_the_day_categories_dummy', 'day_of_the_week_binary', 'ipi', \n",
    "                       'subject_id_roman_x', 'ct_per_survey_item_one_point_five_median', 'ct_per_survey_item_two_median']\n",
    "\n",
    "# Calculating descriptive statistics\n",
    "descriptive_stats = df_tpi[columns_of_interest].describe()\n",
    "\n",
    "# Transposing the descriptive statistics DataFrame\n",
    "descriptive_stats_transposed = descriptive_stats.transpose()"
   ]
  },
  {
   "cell_type": "code",
   "execution_count": 665,
   "id": "bd6996bb-1ed5-43d9-a8df-5812f255a90e",
   "metadata": {},
   "outputs": [],
   "source": [
    "descriptive_stats_transposed.to_csv('../outputs/for_draft/frequency_tables/frequencies_fast_responding.csv')"
   ]
  },
  {
   "cell_type": "markdown",
   "id": "5dd4c6d4-5bf5-4428-b344-f54be388c32d",
   "metadata": {},
   "source": [
    "#### This is the output for response delay"
   ]
  },
  {
   "cell_type": "code",
   "execution_count": 666,
   "id": "7a3ac85d-b649-4034-a355-475609929a57",
   "metadata": {},
   "outputs": [],
   "source": [
    "df_time_comp_no_respona = df_time_comp.dropna(subset=['response_delay_10min'])"
   ]
  },
  {
   "cell_type": "code",
   "execution_count": null,
   "id": "cfb82162-ddc4-4dd8-9b50-e0d147b43b9f",
   "metadata": {},
   "outputs": [],
   "source": [
    "df_time_comp_no_respona['response_delay_10min'].describe()"
   ]
  },
  {
   "cell_type": "code",
   "execution_count": null,
   "id": "2e9594a0-a87c-41ec-9375-128dfa9c02ff",
   "metadata": {},
   "outputs": [],
   "source": [
    "df_time_comp_no_respona['compliance'].notna().sum()"
   ]
  },
  {
   "cell_type": "code",
   "execution_count": null,
   "id": "244bfcd9-4a76-49d3-8509-69a92c5f0055",
   "metadata": {},
   "outputs": [],
   "source": [
    "df_time_comp_no_respona['obscomp_steps'].value_counts()"
   ]
  },
  {
   "cell_type": "code",
   "execution_count": null,
   "id": "f32ec222-75e6-468b-b50c-161f6cb27b7c",
   "metadata": {},
   "outputs": [],
   "source": [
    "df_time_comp_no_respona['obscomp_steps'].describe()"
   ]
  },
  {
   "cell_type": "code",
   "execution_count": null,
   "id": "4b566d70-9cf1-49d2-ab8e-64b3e5a564ab",
   "metadata": {},
   "outputs": [],
   "source": [
    "df_time_comp_no_respona['obscomp_steps'].notna().sum()"
   ]
  },
  {
   "cell_type": "code",
   "execution_count": 672,
   "id": "88b3a8d6-d46c-48c1-901a-cf50a5e6473f",
   "metadata": {},
   "outputs": [],
   "source": [
    "df_time_comp_no_respona.to_parquet(f'../outputs/Model_ready_df/df_response_delay_10mins.parquet', index=False)"
   ]
  },
  {
   "cell_type": "markdown",
   "id": "ac224d8c-a71b-4464-8b3d-4e9009c5c0d8",
   "metadata": {},
   "source": [
    "##### Frequencies late responing"
   ]
  },
  {
   "cell_type": "code",
   "execution_count": 673,
   "id": "0dce05da-532b-4471-9de2-b07c92f660f2",
   "metadata": {},
   "outputs": [],
   "source": [
    "columns_of_interest = ['response_delay_10min', 'sleep_quality', 'stress', 'affect', 'hunger', 'fatigue', 'obscomp_steps', \n",
    "                       'age', 'gender', 'day_of_monitoring', 'time_of_the_day_categories_dummy', 'day_of_the_week_binary', 'ipi', \n",
    "                       'subject_id_roman_x', 'obscomp_steps_ten', 'survey_length_n']\n",
    "\n",
    "# Calculating descriptive statistics\n",
    "descriptive_stats = df_time_comp_no_respona[columns_of_interest].describe()\n",
    "\n",
    "# Transposing the descriptive statistics DataFrame\n",
    "descriptive_stats_transposed = descriptive_stats.transpose()"
   ]
  },
  {
   "cell_type": "code",
   "execution_count": null,
   "id": "3e1eae0f-3d45-4b2a-9996-cde0326bcf69",
   "metadata": {},
   "outputs": [],
   "source": [
    "df_time_comp_no_respona['survey_length_n'].describe()"
   ]
  },
  {
   "cell_type": "code",
   "execution_count": null,
   "id": "330ad8b3-00ad-4248-81a4-f96dc236620e",
   "metadata": {},
   "outputs": [],
   "source": [
    "df_time_comp_no_respona.head()"
   ]
  },
  {
   "cell_type": "code",
   "execution_count": 676,
   "id": "756f854a-1cb1-4ad3-84e4-281e42129400",
   "metadata": {},
   "outputs": [],
   "source": [
    "descriptive_stats_transposed.to_csv('../outputs/for_draft/frequency_tables/frequencies_late_responding.csv')"
   ]
  },
  {
   "cell_type": "markdown",
   "id": "ff5f5fa1-4c9f-4f14-a132-41eea0fa89b9",
   "metadata": {},
   "source": [
    "### Visualisations"
   ]
  },
  {
   "cell_type": "code",
   "execution_count": null,
   "id": "4cd0aa84-0c4e-4dcb-805f-09c3cf1559ee",
   "metadata": {},
   "outputs": [],
   "source": [
    "df_time_comp_no_respona.head()"
   ]
  },
  {
   "cell_type": "code",
   "execution_count": null,
   "id": "562bace6-337c-4d50-a17d-4de07444bc3b",
   "metadata": {},
   "outputs": [],
   "source": [
    "df_time_comp.head()"
   ]
  },
  {
   "cell_type": "code",
   "execution_count": null,
   "id": "9df3a9c7-759c-4798-97ae-8d9b970edbf5",
   "metadata": {},
   "outputs": [],
   "source": [
    "df_ema['first_question_length'].value_counts().sort_index().plot(kind='bar', color='skyblue')\n",
    "\n",
    "# Add labels and title\n",
    "plt.xlabel('First question Length')\n",
    "plt.ylabel('Count')\n",
    "plt.title('Distribution of first question Length')\n",
    "plt.show()\n"
   ]
  },
  {
   "cell_type": "code",
   "execution_count": null,
   "id": "fd2e7e7f-f94d-4b41-9194-9e3f35d5850d",
   "metadata": {},
   "outputs": [],
   "source": [
    "df_ema['first_question_length'].value_counts()"
   ]
  },
  {
   "cell_type": "code",
   "execution_count": null,
   "id": "daa5b770-2069-4590-b0f8-32a74cc1dd23",
   "metadata": {},
   "outputs": [],
   "source": [
    "df_ema['length_zero_no_careless_one_point_five'].value_counts()"
   ]
  },
  {
   "cell_type": "code",
   "execution_count": null,
   "id": "04c3c187-b799-419a-8228-585c461504a0",
   "metadata": {},
   "outputs": [],
   "source": [
    "df_ema['length_zero_no_careless_one'].value_counts()"
   ]
  },
  {
   "cell_type": "code",
   "execution_count": null,
   "id": "01dca73c-bb99-4302-9bdf-2365ae82f3e7",
   "metadata": {},
   "outputs": [],
   "source": [
    "df_ema['length_zero_no_careless_two'].value_counts()"
   ]
  },
  {
   "cell_type": "code",
   "execution_count": null,
   "id": "c1948aa1-b7e3-4ccf-91f5-5fc8a06f84d1",
   "metadata": {},
   "outputs": [],
   "source": [
    "df_ema['nothing_no_careless_two_nulllength'].value_counts()"
   ]
  },
  {
   "cell_type": "code",
   "execution_count": null,
   "id": "08edf1c0-016c-4c59-8cd2-745a3d445758",
   "metadata": {},
   "outputs": [],
   "source": [
    "df_ema['nothing_no_careless_one_nulllength'].value_counts()"
   ]
  },
  {
   "cell_type": "code",
   "execution_count": null,
   "id": "c4986cd0-bc3d-4f3b-bff6-ec9e4836fb7d",
   "metadata": {},
   "outputs": [],
   "source": [
    "df_ema['nothing_no_careless_one_point_five_nulllength'].value_counts()"
   ]
  },
  {
   "cell_type": "code",
   "execution_count": null,
   "id": "7b3ec701-d63d-4ff4-90ff-c6420504e236",
   "metadata": {},
   "outputs": [],
   "source": [
    "df_tpi['subject_id_roman_x'].nunique()"
   ]
  },
  {
   "cell_type": "markdown",
   "id": "9cea1aee-4f1a-4df6-aea9-d2ffc0c6d604",
   "metadata": {},
   "source": [
    "#### Final participants count"
   ]
  },
  {
   "cell_type": "code",
   "execution_count": null,
   "id": "f3cba084-c1bd-4f2f-a4be-4c922e8df9f7",
   "metadata": {},
   "outputs": [],
   "source": [
    "df_time_comp_no_respona['subject_id_roman_x'].nunique()"
   ]
  },
  {
   "cell_type": "code",
   "execution_count": null,
   "id": "4d1068df-f649-4184-b7d2-d9097a6fc428",
   "metadata": {},
   "outputs": [],
   "source": [
    "len(df_time_comp_no_respona)"
   ]
  },
  {
   "cell_type": "code",
   "execution_count": null,
   "id": "d6104ae9-f26d-43d9-8d6d-8374dd6ed80c",
   "metadata": {},
   "outputs": [],
   "source": [
    "df_time_comp['subject_id_roman_x'].nunique()"
   ]
  },
  {
   "cell_type": "code",
   "execution_count": null,
   "id": "9d1e7a49-2871-468f-898a-60e5f82a0a61",
   "metadata": {},
   "outputs": [],
   "source": [
    "df_tpi['subject_id_roman_x'].nunique()"
   ]
  },
  {
   "cell_type": "code",
   "execution_count": null,
   "id": "9437fe1a-d60a-4dc3-891b-a0a0378b3117",
   "metadata": {},
   "outputs": [],
   "source": [
    "len(df_tpi)"
   ]
  },
  {
   "cell_type": "code",
   "execution_count": null,
   "id": "c95833fa-332c-4fea-8e95-ea52fa9e72cb",
   "metadata": {},
   "outputs": [],
   "source": [
    "df_no_lapro_noobsc_no_null_nepro_comp['subject_id_roman_x'].nunique()"
   ]
  },
  {
   "cell_type": "code",
   "execution_count": null,
   "id": "b81409e5-8032-433b-b30f-96db2a0d7830",
   "metadata": {},
   "outputs": [],
   "source": [
    "len(df_no_lapro_noobsc_no_null_nepro_comp)"
   ]
  },
  {
   "cell_type": "code",
   "execution_count": null,
   "id": "a042613e-c939-4872-843e-0e386283dc1d",
   "metadata": {},
   "outputs": [],
   "source": [
    "df_no_lapro_noobsc['subject_id_roman_x'].nunique()"
   ]
  },
  {
   "cell_type": "code",
   "execution_count": null,
   "id": "5ff51a2c-c532-4671-a106-6ecfeb19d44d",
   "metadata": {},
   "outputs": [],
   "source": [
    "len(df_no_lapro_noobsc)"
   ]
  },
  {
   "cell_type": "code",
   "execution_count": null,
   "id": "91e580dc-204d-488d-aa5f-aac3eb789ffd",
   "metadata": {},
   "outputs": [],
   "source": [
    "df_time_comp_no_respona.head()"
   ]
  },
  {
   "cell_type": "markdown",
   "id": "8a0da369-6052-49f8-99f6-7556c1e64e87",
   "metadata": {},
   "source": [
    "#### Calculate average age and gender for the included participants"
   ]
  },
  {
   "cell_type": "code",
   "execution_count": null,
   "id": "5944c312-c2a6-4d43-bfd4-a4e70e93680e",
   "metadata": {},
   "outputs": [],
   "source": [
    "avg_age = df_no_lapro_noobsc.groupby('subject_id_roman_x')['age'].mean()\n",
    "\n",
    "# Calculating the overall average age\n",
    "overall_avg_age = avg_age.mean()\n",
    "\n",
    "# Calculating the standard deviation of average ages\n",
    "std_avg_age = avg_age.std()\n",
    "\n",
    "# Displaying the results\n",
    "print(\"Overall Average Age:\", overall_avg_age)\n",
    "print(\"Standard Deviation of Average Age:\", std_avg_age)"
   ]
  },
  {
   "cell_type": "code",
   "execution_count": null,
   "id": "e8008e18-cf3a-42b9-b024-d38fa48916fc",
   "metadata": {},
   "outputs": [],
   "source": [
    "avg_age = df_no_lapro_noobsc.groupby('subject_id_roman_x')['age'].mean()\n",
    "\n",
    "# Finding the minimum and maximum average ages\n",
    "min_avg_age = avg_age.min()\n",
    "max_avg_age = avg_age.max()\n",
    "\n",
    "# Displaying the results\n",
    "print(\"Minimum Average Age:\", min_avg_age)\n",
    "print(\"Maximum Average Age:\", max_avg_age)"
   ]
  },
  {
   "cell_type": "code",
   "execution_count": null,
   "id": "567b6465-7060-4758-9bca-88f53d83ec43",
   "metadata": {},
   "outputs": [],
   "source": [
    "gender_distribution = df_no_lapro_noobsc.groupby('subject_id_roman_x')['gender'].unique()\n",
    "\n",
    "# Counting occurrences of 0 (male) and 1 (female) in the gender column\n",
    "male_count = (gender_distribution.apply(lambda x: 0 in x)).sum()\n",
    "female_count = (gender_distribution.apply(lambda x: 1 in x)).sum()\n",
    "\n",
    "# Displaying the results\n",
    "print(\"Male Count:\", male_count)\n",
    "print(\"Female Count:\", female_count)"
   ]
  },
  {
   "cell_type": "code",
   "execution_count": null,
   "id": "bf6dd52d-0461-489f-93a6-814a04987ce0",
   "metadata": {},
   "outputs": [],
   "source": []
  },
  {
   "cell_type": "code",
   "execution_count": null,
   "id": "01313c46-2c28-478e-bc7f-a81f53a05b29",
   "metadata": {},
   "outputs": [],
   "source": []
  },
  {
   "cell_type": "code",
   "execution_count": null,
   "id": "a834dcfc-07dc-4eed-9e24-c44cc5e8575b",
   "metadata": {},
   "outputs": [],
   "source": []
  }
 ],
 "metadata": {
  "kernelspec": {
   "display_name": "Python 3 (ipykernel)",
   "language": "python",
   "name": "python3"
  },
  "language_info": {
   "codemirror_mode": {
    "name": "ipython",
    "version": 3
   },
   "file_extension": ".py",
   "mimetype": "text/x-python",
   "name": "python",
   "nbconvert_exporter": "python",
   "pygments_lexer": "ipython3",
   "version": "3.10.13"
  }
 },
 "nbformat": 4,
 "nbformat_minor": 5
}
