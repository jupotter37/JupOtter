{
 "cells": [
  {
   "cell_type": "markdown",
   "id": "d98e4801",
   "metadata": {},
   "source": [
    "### 1. ASYMPTOTIC ANALYSIS"
   ]
  },
  {
   "cell_type": "markdown",
   "id": "68e3d3ce",
   "metadata": {},
   "source": [
    "- Analysis based on input size\n",
    "- Machine type not considered\n",
    "- Measurement metric - Order of Growth "
   ]
  },
  {
   "cell_type": "code",
   "execution_count": 2,
   "id": "141580d4",
   "metadata": {},
   "outputs": [],
   "source": [
    "def f1(n):\n",
    "    return n*(n+1)/2\n",
    "\n",
    "def f2(n):\n",
    "    summ = 0\n",
    "    for i in range(n+1):\n",
    "        summ = summ + i\n",
    "    return summ\n",
    "\n",
    "def f3(n):\n",
    "    summ = 0\n",
    "    for i in range(n+1):\n",
    "        for j in range(i+1):\n",
    "            summ = summ + 1\n",
    "    return summ"
   ]
  },
  {
   "cell_type": "code",
   "execution_count": 3,
   "id": "f59763ba",
   "metadata": {},
   "outputs": [],
   "source": [
    "# Order of Growth\n",
    "\n",
    "# f1 - C1                  ( constant operation )\n",
    "# f2 - C2*n + C3           ( n iterations + constant operations )\n",
    "# f3 - C4*n^2 + C5*n + C6  ( n*(n+1)/2 iterations + constant operations )"
   ]
  },
  {
   "cell_type": "markdown",
   "id": "2f63fe2b",
   "metadata": {},
   "source": [
    "<img src=\"../images/tc.png\" width='300'/>"
   ]
  },
  {
   "cell_type": "markdown",
   "id": "f1b4f9f7",
   "metadata": {},
   "source": [
    "- Defined for n -> infinity\n",
    "- Fails for smaller values of n"
   ]
  },
  {
   "cell_type": "markdown",
   "id": "f9ec16e5",
   "metadata": {},
   "source": [
    "### 2. ORDER OF GROWTH"
   ]
  },
  {
   "cell_type": "markdown",
   "id": "61ead71f",
   "metadata": {},
   "source": [
    "- A function f(n) is said to be growing faster than g(n) if\n",
    "\n",
    "$$\n",
    "  \\lim_{x -> \\infty} \\frac{g(n)}{f(n)} = {0}\n",
    "$$\n",
    "\n",
    "- Eg : \n",
    "$$ \n",
    "    f(n) = n^2 + n + 6\n",
    "$$\n",
    "$$\n",
    "    g(n) = 2n + 5\n",
    "$$"
   ]
  },
  {
   "cell_type": "markdown",
   "id": "02036f7a",
   "metadata": {},
   "source": [
    "###### DIRECT WAY TO FIND AND COMPARE GROWTHS\n",
    "\n",
    "1. Ignore lower order terms - \n",
    "    - n and 6 in f(n)\n",
    "    - 5 in g(n)\n",
    "2. Ignore leading term from constant\n",
    "    - 2 in g(n)"
   ]
  },
  {
   "cell_type": "markdown",
   "id": "e7a53d9a",
   "metadata": {},
   "source": [
    "RESULT\n",
    "\n",
    "1. Quadratic in f(n)\n",
    "2. Linear in g(n)"
   ]
  },
  {
   "cell_type": "markdown",
   "id": "b2afbab3",
   "metadata": {},
   "source": [
    "How to Compare terms?\n",
    "\n",
    "$$\n",
    "    c < \\log\\log{n} < \\log{n} <  n^\\frac{1}{3} < n^\\frac{1}{2} < n < n^2 < n^3 < n^4 < 2^n < n^n\n",
    "$$"
   ]
  },
  {
   "cell_type": "markdown",
   "id": "5ca50da7",
   "metadata": {},
   "source": [
    "### 3. BIG O NOTATION (upper bound on order of growth)"
   ]
  },
  {
   "cell_type": "markdown",
   "id": "f8cebb42",
   "metadata": {},
   "source": [
    "We say that \n",
    "$$ \n",
    "    f(n) = O(g(n)) \n",
    "$$\n",
    "\n",
    "\n",
    "if there exists constants c and n0 such that \n",
    "\n",
    "$$ \n",
    "    f(n) \\leq g(n)   \\forall n    \\geq n_0 \n",
    "$$"
   ]
  },
  {
   "cell_type": "code",
   "execution_count": null,
   "id": "255c1721",
   "metadata": {},
   "outputs": [],
   "source": []
  },
  {
   "cell_type": "markdown",
   "id": "ec485894",
   "metadata": {},
   "source": [
    "### 4. OMEGA NOTATION"
   ]
  },
  {
   "cell_type": "code",
   "execution_count": null,
   "id": "67f9d834",
   "metadata": {},
   "outputs": [],
   "source": []
  },
  {
   "cell_type": "markdown",
   "id": "c74d4efb",
   "metadata": {},
   "source": [
    "### 5. THETA NOTATION"
   ]
  },
  {
   "cell_type": "code",
   "execution_count": null,
   "id": "d13df520",
   "metadata": {},
   "outputs": [],
   "source": []
  },
  {
   "cell_type": "markdown",
   "id": "c79db3ca",
   "metadata": {},
   "source": [
    "### 6. ANALYSIS OF COMMON LOOPS"
   ]
  },
  {
   "cell_type": "code",
   "execution_count": null,
   "id": "f1bd220f",
   "metadata": {},
   "outputs": [],
   "source": []
  },
  {
   "cell_type": "markdown",
   "id": "2dbb5ba9",
   "metadata": {},
   "source": [
    "### 7. ANALYSIS OF RECURSION"
   ]
  },
  {
   "cell_type": "markdown",
   "id": "348eeab4",
   "metadata": {},
   "source": [
    "Steps to caculate TC\n",
    "\n",
    "1. Write a Recurrence Relation\n",
    "2. Solve the RR"
   ]
  },
  {
   "cell_type": "markdown",
   "id": "3ff378ac",
   "metadata": {},
   "source": [
    "##### 1. Using Recursion Tree Method\n",
    "\n",
    "- Write non-recursive part as root of tree, and recursive part as it's children.\n",
    "- Keep expanding children until a pattern is observed."
   ]
  },
  {
   "cell_type": "markdown",
   "id": "56a1e5e3",
   "metadata": {},
   "source": [
    "* ###### example 1"
   ]
  },
  {
   "cell_type": "code",
   "execution_count": null,
   "id": "1b95cf78",
   "metadata": {},
   "outputs": [],
   "source": [
    "def f(n):\n",
    "    if n == 1:\n",
    "        return\n",
    "    for i in range(n):\n",
    "        print('GFG')\n",
    "    f(n/2)\n",
    "    f(n/2)"
   ]
  },
  {
   "cell_type": "markdown",
   "id": "c4b2e34a",
   "metadata": {},
   "source": [
    "Recurrence relation for time taken\n",
    "\n",
    "For n > 1\n",
    "$$\n",
    "    T(n) = 2T(n/2) + \\theta (n)\n",
    "$$\n",
    "\n",
    "For n = 1\n",
    "$$ \n",
    "    T(n) = \\theta (1)\n",
    "$$"
   ]
  },
  {
   "cell_type": "code",
   "execution_count": 8,
   "id": "50bc3dc5",
   "metadata": {},
   "outputs": [],
   "source": [
    "# NOTE : theta represented as c"
   ]
  },
  {
   "cell_type": "markdown",
   "id": "d75811b3",
   "metadata": {},
   "source": [
    "https://www.geeksforgeeks.org/batch/ds-with-python/track/analysis-of-algorithms-basics-python/video/MjA1Mw%3D%3D"
   ]
  },
  {
   "cell_type": "code",
   "execution_count": 7,
   "id": "958aac76",
   "metadata": {},
   "outputs": [],
   "source": [
    "# Time taken = (cn + (c/2 + c/2)n + (c/4 + c/4 + c/4 + c/4)n + .... )\n",
    "\n",
    "# Number of terms (height of the tree) = log(n)\n",
    "\n",
    "# TC = cn*log(n)\n",
    "\n",
    "# c = theta"
   ]
  },
  {
   "cell_type": "markdown",
   "id": "27646d61",
   "metadata": {},
   "source": [
    "* Time Complexity :\n",
    "$$ \n",
    "     \\theta {(n \\log n )}\n",
    "$$"
   ]
  },
  {
   "cell_type": "markdown",
   "id": "efc1d617",
   "metadata": {},
   "source": [
    "* ###### example 2"
   ]
  },
  {
   "cell_type": "code",
   "execution_count": null,
   "id": "c92d95c5",
   "metadata": {},
   "outputs": [],
   "source": []
  },
  {
   "cell_type": "code",
   "execution_count": null,
   "id": "0375dcf0",
   "metadata": {},
   "outputs": [],
   "source": []
  },
  {
   "cell_type": "markdown",
   "id": "aa13e13c",
   "metadata": {},
   "source": [
    "### 8. SPACE COMPLEXITY"
   ]
  },
  {
   "cell_type": "markdown",
   "id": "b7a39639",
   "metadata": {},
   "source": [
    "- Auxillary Space - Order of growth of extra space (space other than input/output)"
   ]
  },
  {
   "cell_type": "code",
   "execution_count": 9,
   "id": "cee776f1",
   "metadata": {},
   "outputs": [],
   "source": [
    "def calc(n):\n",
    "    summ = 0\n",
    "    for num in range(n):\n",
    "        summ += num\n",
    "    return summ"
   ]
  },
  {
   "cell_type": "code",
   "execution_count": 10,
   "id": "18a5624e",
   "metadata": {},
   "outputs": [],
   "source": [
    "# Space Complexity - O(1)\n",
    "# Auxillary Space - O(1)"
   ]
  },
  {
   "cell_type": "code",
   "execution_count": 11,
   "id": "04371f29",
   "metadata": {},
   "outputs": [],
   "source": [
    "def calc(l):\n",
    "    summ = 0\n",
    "    for num in l:\n",
    "        summ += num\n",
    "    return summ"
   ]
  },
  {
   "cell_type": "code",
   "execution_count": 12,
   "id": "b082fc58",
   "metadata": {},
   "outputs": [],
   "source": [
    "# Space Complexity - O(l)\n",
    "# Auxillary Space - O(1)"
   ]
  },
  {
   "cell_type": "code",
   "execution_count": 13,
   "id": "51f612a6",
   "metadata": {},
   "outputs": [],
   "source": [
    "def fun(n):\n",
    "    if n <= 0:\n",
    "        return 0\n",
    "    else:\n",
    "        return n + fun(n-1)"
   ]
  },
  {
   "cell_type": "code",
   "execution_count": null,
   "id": "3be3d2d7",
   "metadata": {},
   "outputs": [],
   "source": [
    "# Space Complexity - O(n)\n",
    "# Auxillary Space - O(n)"
   ]
  }
 ],
 "metadata": {
  "kernelspec": {
   "display_name": "Python 3 (ipykernel)",
   "language": "python",
   "name": "python3"
  },
  "language_info": {
   "codemirror_mode": {
    "name": "ipython",
    "version": 3
   },
   "file_extension": ".py",
   "mimetype": "text/x-python",
   "name": "python",
   "nbconvert_exporter": "python",
   "pygments_lexer": "ipython3",
   "version": "3.9.16"
  },
  "varInspector": {
   "cols": {
    "lenName": 16,
    "lenType": 16,
    "lenVar": 40
   },
   "kernels_config": {
    "python": {
     "delete_cmd_postfix": "",
     "delete_cmd_prefix": "del ",
     "library": "var_list.py",
     "varRefreshCmd": "print(var_dic_list())"
    },
    "r": {
     "delete_cmd_postfix": ") ",
     "delete_cmd_prefix": "rm(",
     "library": "var_list.r",
     "varRefreshCmd": "cat(var_dic_list()) "
    }
   },
   "types_to_exclude": [
    "module",
    "function",
    "builtin_function_or_method",
    "instance",
    "_Feature"
   ],
   "window_display": false
  }
 },
 "nbformat": 4,
 "nbformat_minor": 5
}
