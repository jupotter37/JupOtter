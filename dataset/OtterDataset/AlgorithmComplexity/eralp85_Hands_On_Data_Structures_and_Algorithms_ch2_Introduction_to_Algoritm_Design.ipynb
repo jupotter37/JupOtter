{
 "cells": [
  {
   "cell_type": "markdown",
   "source": [
    "# INTRODUCTION TO ALGORTIHM DESIGN\n"
   ],
   "metadata": {
    "collapsed": false
   },
   "id": "c174b0ac9e3b5ce4"
  },
  {
   "cell_type": "markdown",
   "source": [
    "Given input data, an algorithm is a step by step set of instructions that should be executed in sequence to solve a given problem.\n",
    "\n",
    "There can be many possible correct solutions for a given problem, we can have several algorithms for the problem for sorting, searching, etc."
   ],
   "metadata": {
    "collapsed": false
   },
   "id": "9832be8ffc465f51"
  },
  {
   "cell_type": "markdown",
   "source": [
    "# Introducing Algorithms"
   ],
   "metadata": {
    "collapsed": false
   },
   "id": "8be7abb2e58509e7"
  },
  {
   "cell_type": "markdown",
   "source": [
    "An algorithm is a sequence of steps that should be followed in order to complete a given problem.\n",
    "\n",
    "It is a well defined procedure that takes input data, processes it, and produces desired output.\n",
    "\n",
    "An efficient algorith should have following characteristics:\n",
    "\n",
    "- It should be as specific as possible\n",
    "- It should have each instruction properly defined\n",
    "- There should not be any ambiguous instructions\n",
    "- All the instructions of the algorithm should be executable in a finite amount of time and in a finite number of steps.\n",
    "- It should have clear inputs and output to solve the problem.\n",
    "- Each instruction of the algorithm should be integral in solving the given problem.\n",
    "\n",
    "\n",
    "The cost of executing different algorithms may be different; it may be measured in terms of the time required to run the algorithm on a computer system and the memory space required for it.\n",
    "\n",
    "There are primarily two things that one should keep in mind while designing an efficient algorithm:\n",
    "\n",
    "1- The algorithm should be correct and should produce the results as expected for all valid input values.\n",
    "\n",
    "2- The algorithm should be optimal in the sense that it should be executed on the computer withing the desired time limit in line with an optimal memory space requirement.\n",
    "\n"
   ],
   "metadata": {
    "collapsed": false
   },
   "id": "f78d4d58b3554753"
  },
  {
   "cell_type": "markdown",
   "source": [
    "# Performance Analysis of an Algorithm"
   ],
   "metadata": {
    "collapsed": false
   },
   "id": "1be5b59de7798707"
  },
  {
   "cell_type": "markdown",
   "source": [
    "The performance of an algorithm is generally measured by the size of its input data, n, and the time and the memory space used by the algorithm.\n",
    "\n",
    "The *TIME REQUIRED* is measured by the key operations to be performed by the algorithm, (such as comparisons, assignments, and arithmetic operations) where key operations are instructions that take a significant amount of time during execution.\n",
    "\n",
    "Whereas *SPACE REQUIRED* is measured by the memory needed to store the variables, constants and instructions during the execution of the algorithm."
   ],
   "metadata": {
    "collapsed": false
   },
   "id": "d1c46985c3385948"
  },
  {
   "cell_type": "markdown",
   "source": [
    "## TIME COMPLEXITY"
   ],
   "metadata": {
    "collapsed": false
   },
   "id": "b98e1f977cbe652b"
  },
  {
   "cell_type": "markdown",
   "source": [
    "The time complexity of the algorithm is the amount of time that an algorithm will take to execute on a computer system to produce the output.\n",
    "\n",
    "The aim of analyzing the time complexity of the algorithm is to determine, for a given problem and more han one algorithm, which one of the algorithms is the most efficient with respect to the time required to execute.\n",
    "\n",
    "The running time required by an algorithm depends on the input size, as the input size, n, increases, the runtime also increases.\n",
    "\n",
    "Input size is measured as the number of items in the input, for example, the inout size for a sorting algorithm will be the number of items in the input.\n",
    "\n",
    "So, a sorting algorithm will have an increased runtime to sort a list of input size 5000 than that of a list of input size 50.\n",
    "\n",
    "The runtime of an algorithm for a specific input depends on the key operations to be executed in the algorithm.\n",
    "\n",
    "For example, the key operation for a sorting algorithm is a comparison operation that will take up most of the runtime compared to assignment or any other operation.\n",
    "\n",
    "Ideally, these key operations should not depend upon the hardware, the operating system, or the programming language being used to implement the algorithm.\n",
    "\n",
    "A constant amount of time is required to execute each line of code; however, each line may take a different amount of time to execute.\n",
    "\n",
    "In order to understand the running time required for an algorithm, consider below code:"
   ],
   "metadata": {
    "collapsed": false
   },
   "id": "38ff1e90bdad90ce"
  },
  {
   "cell_type": "code",
   "execution_count": 44,
   "outputs": [
    {
     "name": "stdout",
     "output_type": "stream",
     "text": [
      "structure\n"
     ]
    }
   ],
   "source": [
    "n = 1\n",
    "\n",
    "if n==0 | n == 3:           \n",
    "  print(\"data\") #constant time\n",
    "else:\n",
    "  for i in range(n):      \n",
    "     print(\"structure\") #loop run for n times\n"
   ],
   "metadata": {
    "collapsed": false,
    "ExecuteTime": {
     "end_time": "2024-02-20T03:05:34.154619300Z",
     "start_time": "2024-02-20T03:05:33.982738400Z"
    }
   },
   "id": "9e8edb483f8bb5d2"
  },
  {
   "cell_type": "markdown",
   "source": [
    "In above example, if the condition is true then \"data\" will be printed, and if the condition is not ture then the for loop will execute n times.\n",
    "\n",
    "The time required by the algorithm depends on the time required for each statement, and how many times each statement is executed.\n",
    "\n",
    "*The running time of the algorithm is the sum of time required by all the statements.*\n",
    "\n",
    "For the above code, assume that statement 1 takes c1 unit of time, statement 2 takes c2 unit of time, and so on.\n",
    "\n",
    "As such, if the $i^{th}$ statement takes a constant amount of time $c_i$ and if the $i^{th}$ statement is executed n times, then it will take $c_i*n$ time.\n",
    "\n",
    "The total running time of T(n) of the algorithm for a given value of  n (assuming the value of n is not zero or three) will be:\n",
    "//\n",
    "\n",
    "\n",
    "$\n",
    "T(n) = c_1 + c_3 + c_4*n + c_5*n\n",
    "$\n",
    "\n",
    "//\n",
    "\n",
    "If the value of n is equal to zero or three, then the time required by the algorithm  will be:\n",
    "\n",
    "//\n",
    "$\n",
    "T(n) = c_1 + c_2\n",
    "$ \n",
    "//\n",
    "\n",
    "Therefore, the running time required for an algorithm also depends upon what input is given in addition to the size of the input given.\n",
    "\n",
    "For the given example, the best case wil be when the input is either zero or three, and in that case, the running time will be $c_1 + c_2$, which is a constant amount of time.\n",
    "\n",
    "In the worst case, the value of n is not equeal to zero or three, then the running time of the algorithm can be represented as a*n +b.\n",
    "\n",
    "Here, the values of a and b are constants that depend  on the statement costs and constant times are not considered in the final time complexity.\n",
    "\n",
    "In the worst case, the runtime required by the algorithm is a linear function of n.\n",
    "\n",
    "Let's consider another example, linear search:\n",
    "\n"
   ],
   "metadata": {
    "collapsed": false
   },
   "id": "82d5a75157c966e5"
  },
  {
   "cell_type": "code",
   "execution_count": 45,
   "outputs": [
    {
     "name": "stdout",
     "output_type": "stream",
     "text": [
      "Index position of the element x is: 4\n"
     ]
    }
   ],
   "source": [
    "def linear_search(input_list, element):\n",
    "    for index, value in enumerate(input_list):\n",
    "        if value == element:\n",
    "            return index\n",
    "    \n",
    "    return -1\n",
    "\n",
    "input_list = [3,4,1,6,14]\n",
    "element = 14\n",
    "\n",
    "print(\"Index position of the element x is:\", linear_search(input_list, element))"
   ],
   "metadata": {
    "collapsed": false,
    "ExecuteTime": {
     "end_time": "2024-02-20T03:05:34.232722800Z",
     "start_time": "2024-02-20T03:05:34.029618Z"
    }
   },
   "id": "5095106a680fb536"
  },
  {
   "cell_type": "markdown",
   "source": [
    "The **worst-case running time** of the algorithm is the upper bound complexity; it is the maximum runtime required for an algorithm to execute for any given input. \n",
    "\n",
    "The worst-case time complexity is very useful in that it guarantees that for any input data, the runtime required will not take more time as compared to the worst-case running time.\n",
    "\n",
    "For example, in the linear search problem, the worst case occurs, when the element to be searched is found in the last comparison or not found in the list.\n",
    "\n",
    "In this case, the running time required will linearly depend upon the length of the list, whereas, in the best case, the search element will be found in the first comparison.\n",
    "\n",
    "the **average-case running time** \n",
    "s the average running time required for an algorithm to execute.\n",
    "\n",
    "In this analysis, we compute the average over the running time for all possible input values.\n",
    "\n",
    "Generally, probabilistic analysis is used to analyze the average-case running time f an algorithm, which is computed by averaging the cost ove the distribution of all possible inputs.\n",
    "\n",
    "For example, in the linear search problem, the number of comparisons at all positions would be 1 if the element to be searched was found at the $0^{th}$ index, and similarly, the number of comparisons would be 2,3 and so forth up to n respectively, for the elements found at 1,2,3, ... (n-1) index position.\n",
    "\n",
    "Thus, average case running time is as follows:\n",
    "//\n",
    "$\n",
    "\n",
    "T(n) = \\frac{1+2+3+...+n}{n} = \\frac{n(n+1)}{2n}\n",
    "\n",
    "$\n",
    "//\n",
    "  \n",
    "For average case, the running time required is also linearly dependent upon the value of n.\n",
    "\n",
    "However, in most real world applications, worst case analysis is mostly used, since it gives a guarantee that the running time will not take any longer than the worst case running time of the algorithm for any input value.\n",
    "\n",
    "**Best-case running time** is the minimum time needed for an algorithm to execute for any input value.\n",
    "\n",
    "It is the lower bound on the running time required for an algorithm; in the example above, the input data is organized in such a way that it takes its minimum running time to execute the given algorithm."
   ],
   "metadata": {
    "collapsed": false
   },
   "id": "29834139d654577"
  },
  {
   "cell_type": "markdown",
   "source": [
    "## SPACE COMPLEXITY"
   ],
   "metadata": {
    "collapsed": false
   },
   "id": "3ecaae92ddce83e7"
  },
  {
   "cell_type": "markdown",
   "source": [
    "While executing the algorithm on the computer system, storage of the input is required, along with intermediate and temporary data in data structures, which are stored in the memory of the computer. \n",
    "\n",
    "In order to write a programming solution for any problem, some memory is required for storing variables, program instructions, and executing the program on the computer. \n",
    "\n",
    "The space complexity of an algorithm is the amount of memory required for executing and producing the result.\n",
    "\n",
    "For computing the space complexity, consider the following example, in which, given a list of integer values, the function returns the square value of the corresponding integer number."
   ],
   "metadata": {
    "collapsed": false
   },
   "id": "132affbcc25ad0a0"
  },
  {
   "cell_type": "code",
   "execution_count": 46,
   "outputs": [
    {
     "name": "stdout",
     "output_type": "stream",
     "text": [
      "[4, 9, 25, 64]\n"
     ]
    }
   ],
   "source": [
    "def square_list(n):\n",
    "    sequare_numbers = []\n",
    "    for number in n:\n",
    "        sequare_numbers.append(number*number)\n",
    "    return sequare_numbers\n",
    "\n",
    "numbers = [2,3,5,8]\n",
    "\n",
    "print(square_list(numbers))"
   ],
   "metadata": {
    "collapsed": false,
    "ExecuteTime": {
     "end_time": "2024-02-20T03:05:34.232722800Z",
     "start_time": "2024-02-20T03:05:34.045235700Z"
    }
   },
   "id": "933af21a6ad02443"
  },
  {
   "cell_type": "markdown",
   "source": [
    "In the above code, the algorithm will require allocating memory for the number of items in the input list.\n",
    "\n",
    "Say number of elements in the input is n, then the space requirement increases with the input size, therefore, the space complexity of the algorithm becomes O(n).\n",
    "\n",
    "Given two algorithms to solve a given problem, with all other requirements being equal, the n the algorithm that requires less memory can be considered more efficient.\n",
    "\n",
    "When the input size becomes large enough, the order of growth also becomes important. In such situations, we study asymptotic efficiency of algorithms.\n",
    "\n"
   ],
   "metadata": {
    "collapsed": false
   },
   "id": "f3d629206dc933b7"
  },
  {
   "cell_type": "markdown",
   "source": [
    "## ASYMPTOTIC NOTATION\n"
   ],
   "metadata": {
    "collapsed": false
   },
   "id": "7bcab10f0d284dec"
  },
  {
   "cell_type": "markdown",
   "source": [
    "To analyze the time complexity of an algorithm, the rate of growth (order of growth) is very important when the input size is large.\n",
    "\n",
    "When the input size becomes large, we only consider the higher-order terms and ignore the insignificant terms.\n",
    "\n",
    "In asymptotic analysis, we analyze the efficiency of algorithms for large input sizes considering the higher order of growth and ignoring the multiplicative constants and lower-order terms.\n",
    "\n",
    "We compare two algorithms with respect to input size rather than the actual runtime and measure how the time taken increase with an increased input size."
   ],
   "metadata": {
    "collapsed": false
   },
   "id": "b49c3a2d51539de1"
  },
  {
   "cell_type": "markdown",
   "source": [
    "*θ notation:* \n",
    "\n",
    "It denotes the worst-case running time complexity with a tight bound.\n",
    "\n",
    "*Ο notation:* \n",
    "\n",
    "It denotes the worst-case running time complexity with an upper bound, which ensures that the function never grows faster than the upper bound.\n",
    "\n",
    "*Ω notation:* \n",
    "\n",
    "It denotes the lower bound of an algorithm’s running time. It measures the best amount of time to execute the algorithm."
   ],
   "metadata": {
    "collapsed": false
   },
   "id": "87ca03c3640610a1"
  },
  {
   "cell_type": "markdown",
   "source": [
    "## THETA NOTATION"
   ],
   "metadata": {
    "collapsed": false
   },
   "id": "1fccf52b3b47dea4"
  },
  {
   "cell_type": "markdown",
   "source": [
    "$$ \n",
    "\n",
    "T(n) = c_1 + c_3 * n + c_5 * n\n",
    "\n",
    "$$"
   ],
   "metadata": {
    "collapsed": false
   },
   "id": "22c1bb90ef14560b"
  },
  {
   "cell_type": "markdown",
   "source": [
    "Here, for a large input size, the worst-case running time will be $\\theta(n)$ (pronounces as theta of n).\n",
    "\n",
    "We consider one algorithm to be more efficient than another if its worst-time case running time has a lower order of growth.\n",
    "\n",
    "Due to constant factors and lower-order terms, an algorithm whose running time has a higher order of growth might take less time for small inputs than an algorithm whose running time has a lower order of growth.\n",
    "\n",
    "For example, once the input size n becomes large enough, the merge sort algorithm performs better as compared to insertion sort with worst-case running times of $\\theta(nlogn)$ and $\\theta(n^2)$ respectively.\n",
    "\n",
    "For a given function F(n), the asymptotic worst-case running time complexity can be defined as follows:\n",
    "\n",
    "$$\n",
    "\n",
    "T(n)= \\theta(F(n))  \n",
    "\n",
    "$$\n",
    "\n",
    "there exist positive constants c_1, c_2, and n_0 such that: \n",
    "\n",
    "$$\n",
    "\n",
    "0 \\leq c_1 * (F(n)) \\leq T(n) \\leq c_2 * F(n)\n",
    "\n",
    "$$\n",
    "$$\n",
    "\n",
    "for all   n \\geq n_0.\n",
    "\n",
    "$$\n"
   ],
   "metadata": {
    "collapsed": false
   },
   "id": "2cebca306ae5a7ff"
  },
  {
   "cell_type": "markdown",
   "source": [
    "The function T(n) belongs to a set of functions ϴ(F(n)) if there exists positive constants c1 and c2 such that the value of T(n) always lies in between c1F(n) and c2F(n) for all large values of n. \n",
    "\n",
    "If this condition is true, then we say F(n) is asymptotically tight bound for T(n).\n",
    "\n"
   ],
   "metadata": {
    "collapsed": false
   },
   "id": "8cb0ae0dcf63f251"
  },
  {
   "cell_type": "markdown",
   "source": [],
   "metadata": {
    "collapsed": false
   },
   "id": "4f8a7cd53bb88e7c"
  },
  {
   "cell_type": "markdown",
   "source": [
    "Let's consider an example to understand what should be the worst case running time complexity with the formal definition of theta notation for a given function f(n).\n",
    "\n",
    "$$\n",
    "\n",
    "f(n) = n^2 + n \n",
    "$$\n",
    "$$\n",
    "is  \\theta(n_2)\n",
    "\n",
    "$$"
   ],
   "metadata": {
    "collapsed": false
   },
   "id": "f380f059563b1b10"
  },
  {
   "cell_type": "markdown",
   "source": [
    "In order to determine the time complexity with the ϴ notation definition, we have to first identify the constants c1,c2,n0 such that\n",
    "\n",
    "$$ \n",
    "\n",
    "0 \\leq c_1 * n^2 \\leq n^2 + n \\leq c_2 * n^2\n",
    "\n",
    "$$, for all \n",
    "$$\n",
    "n \\geq n_0\n",
    "$$"
   ],
   "metadata": {
    "collapsed": false
   },
   "id": "bbf3bee8b18ff0d9"
  },
  {
   "cell_type": "markdown",
   "source": [
    "Dividing by n^2, we get:\n",
    "\n",
    "$$\n",
    "\n",
    "0 \\leq c_1 \\leq 1 + \\frac{1}{n} \\leq c_2\n",
    "\n",
    "$$"
   ],
   "metadata": {
    "collapsed": false
   },
   "id": "fc851bcd152ff0e"
  },
  {
   "cell_type": "markdown",
   "source": [
    "By choosing c1 = 1 and c2 = 2, and n0=1,\n",
    "the following contition can satisfy the definition of theta notation:\n",
    "\n",
    "$$\n",
    "\n",
    "0 \\leq n^2 \\leq n^2 + n \\leq 2n^2\n",
    "\n",
    "for all n \\geq 1\n",
    "\n",
    "$$"
   ],
   "metadata": {
    "collapsed": false
   },
   "id": "867852ad570c31ef"
  },
  {
   "cell_type": "markdown",
   "source": [
    "That gives:\n",
    "\n",
    "$$\n",
    "\n",
    "f(n) = \\theta(g(n))\n",
    "\n",
    "$$\n",
    "\n",
    "where \n",
    "\n",
    "$$\n",
    "f(n) = \\theta(n^2)\n",
    "$$ "
   ],
   "metadata": {
    "collapsed": false
   },
   "id": "1e2f639fb35d440c"
  },
  {
   "cell_type": "markdown",
   "source": [
    "Consider another example to find out the asymptotic tight bound for another function:\n",
    "\n",
    "$$\n",
    "\n",
    "f(n) = (n^2 /2) + (n / 2)\n",
    "\n",
    "$$"
   ],
   "metadata": {
    "collapsed": false
   },
   "id": "58b173e283ca5d91"
  },
  {
   "cell_type": "markdown",
   "source": [
    "In order to identify the constants c1, c2, and n0, such that they satisfy the condition:\n",
    "\n",
    "$$\n",
    "\n",
    "0 \\leq c_1 * n^2 \\leq (n^2 /2)  \\leq c_2 * n^2\n",
    "\n",
    "$$\n",
    "\n",
    "for all\n",
    "\n",
    "$$\n",
    "n \\geq n_0\n",
    "$$"
   ],
   "metadata": {
    "collapsed": false
   },
   "id": "bb55bd85441d45d5"
  },
  {
   "cell_type": "markdown",
   "source": [
    "By choosing c1 = 1/5, c2 = 1, and n0=1, the following condition can satisfy the definition of theta notation:\n",
    "\n",
    "$$\n",
    "\n",
    "0 \\leq (n^2/5) \\leq (n^2 /2) + (n / 2) \\leq n^2\n",
    "\n",
    "$$\n",
    "\n",
    "for all\n",
    "\n",
    "$$\n",
    "n \\geq 1\n",
    "$$\n",
    "\n",
    "-->\n",
    "\n",
    "$$\n",
    "\n",
    "n^2 / 2 + n / 2 = \\theta(n^2) \n",
    "\n",
    "$$\n",
    "\n",
    "with \n",
    "\n",
    "$$\n",
    "\n",
    "c_1 = 1/5, c_2 = 1, and n_0 = 1\n",
    "\n",
    "$$\n",
    "\n",
    "so the following is true:\n",
    "\n",
    "$$\n",
    "\n",
    "f(n) = (n^2/2) + (n/2) = \\theta(n^2)\n",
    "\n",
    "$$"
   ],
   "metadata": {
    "collapsed": false
   },
   "id": "38b55d1e6400889f"
  },
  {
   "cell_type": "markdown",
   "source": [
    "It shows that the given the funciton has the complexity of $\\theta(n^2)$, as per the definition of theta notation.\n",
    "\n",
    "*So, the theta notation provides a tight bound for the time complexity of an algorithm*"
   ],
   "metadata": {
    "collapsed": false
   },
   "id": "b6101181ba27ecb3"
  },
  {
   "cell_type": "markdown",
   "source": [
    "## BIG O NOTATION"
   ],
   "metadata": {
    "collapsed": false
   },
   "id": "77611f92933544cc"
  },
  {
   "cell_type": "markdown",
   "source": [
    "Big O notation characterizes the worst-case running time complexity, which is only the asymptotic upper bound of the function.\n",
    "\n",
    "Big O notation is defined as follows:\n",
    "\n",
    "Given a function F(n), the T(n) is a Big O of function F(n), and we write it as:\n",
    "\n",
    "$$\n",
    "\n",
    "T(n) = O(F(n))\n",
    "\n",
    "$$\n",
    "\n",
    "if there exist constants c and n0 such that:\n",
    "\n",
    "$$\n",
    "\n",
    "T(n) \\leq c(F(n)) \n",
    "\n",
    "$$\n",
    "\n",
    "for all\n",
    "\n",
    "$$\n",
    "\n",
    "n \\geq n_0$$"
   ],
   "metadata": {
    "collapsed": false
   },
   "id": "5bc9a82e4b1dfda3"
  },
  {
   "cell_type": "markdown",
   "source": [
    "In Big O notation, a constant multiple of F(n) is an asymptotic upper bound on T(n), and the positive constants n_0 and c should be in such a way that all values of n greater than n_0 always lie on or below the function c*F(n).\n",
    "\n",
    "Morever, we only care what happens at higher values of n.\n",
    "\n",
    "The variable n_0 represents the threshold below which the rate of growth is not important.\n",
    "\n",
    "In O notation, O(F(n)) is really set of functions that includes all functions wtih the same or smaller rates of growth than F(n).\n",
    "\n",
    "For example, $O(n^2)$ includes $O(n)$ and $O(logn)$ and so on.\n",
    "\n",
    "However, Big O notation should characterize a function as closesly as possible, for example, it is true that function $\n",
    "F(n)= 2n^3 + 2n^2 + 5\n",
    "$ is $O(n^4)$, but it is more accurate that F(n) is $O(n^3)$.\n"
   ],
   "metadata": {
    "collapsed": false
   },
   "id": "9bf397d4d779a0c2"
  },
  {
   "cell_type": "markdown",
   "source": [
    "| Time Complexity | Name              |\n",
    "|-----------------|-------------------|\n",
    "| O(1)            | Constant          |\n",
    "| O(log n)        | Logarithmic       |\n",
    "| O(n)            | Linear            |\n",
    "| O(n log n)      | Linear-logarithmic|\n",
    "| O(n^2)          | Quadratic         |\n",
    "| O(n^3)          | Cubic             |\n",
    "| O(2^n)          | Exponential       |\n"
   ],
   "metadata": {
    "collapsed": false
   },
   "id": "8a37b19920664f1d"
  },
  {
   "cell_type": "markdown",
   "source": [
    "Using Big O notation, the running time of an algorithm can be computed by analyzing the structure of the algorithm.\n",
    "\n",
    "For example, a double nested loop in an algorithm will have an upper bound ob the worst-case running time of O(n^2), since the values of i and j will be at most n, and both loops will run $n^2$ times.\n",
    "\n"
   ],
   "metadata": {
    "collapsed": false
   },
   "id": "aea782ccca5d36e0"
  },
  {
   "cell_type": "code",
   "execution_count": 50,
   "outputs": [
    {
     "name": "stdout",
     "output_type": "stream",
     "text": [
      "0 0\n",
      "0 1\n",
      "0 2\n",
      "1 0\n",
      "1 1\n",
      "1 2\n",
      "2 0\n",
      "2 1\n",
      "2 2\n"
     ]
    }
   ],
   "source": [
    "n = 3\n",
    "\n",
    "for i in range(n):\n",
    "    for j in range(n):\n",
    "        print(i,j)"
   ],
   "metadata": {
    "collapsed": false,
    "ExecuteTime": {
     "end_time": "2024-02-24T07:57:52.313895300Z",
     "start_time": "2024-02-24T07:57:52.251250500Z"
    }
   },
   "id": "c8fdfd15b1c38244"
  },
  {
   "cell_type": "markdown",
   "source": [
    "Lets consider a few examples in order to compute the upper bound of a function using the O notation.\n",
    "\n",
    "$$\n",
    "1-) T(n) = 2n + 7\n",
    "$$\n",
    "\n",
    "\n",
    "*SOLUTION:*\n",
    "\n",
    "Using O notation, the condition for the upper bound is:\n",
    "\n",
    "$$\n",
    "T(n) \\leq c * F(n)\n",
    "$$\n",
    "\n",
    "This condition holds true for all values of n > 7 and c = 3\n",
    "\n",
    "2n + 7 <= 3n holds true for all values of n with c = 3 and n > 7\n",
    "\n",
    "Therefore, T(n) = O(n) = 2n + 7\n",
    "\n",
    "$$\n",
    "2-) Find F(n) for function T(n) = 2n + 5 such that T(n) = O(F(n))\n",
    "$$\n",
    "\n",
    "*SOLUTION:*\n",
    "\n",
    "Using O notation, the condition for the upper bound is T(n) <= c * F(n)\n",
    "\n",
    "Since 2n + 5 <= 3n for all n =>5, the condition is true for c = 3 and n= 5.\n",
    "\n",
    "$$\n",
    "3-) Find F(n) for function T(n) = n^2 + n such that T(n) = O(F(n))\n",
    "$$\n",
    "\n",
    "*SOLUTION:*\n",
    "\n",
    "Using O notation, since n^2 + n <= 2n^2 for all n > 1, the condition is true for c = 2 and n = 2.\n",
    "\n",
    "Therefore,\n",
    "\n",
    "n^2 + 2 <= O(n^2) and \n",
    "\n",
    "F(n) = n^2\n",
    "\n",
    "$$\n",
    "4-)Prove that f(n) = 2n^3 - 6n =! O(n^2)\n",
    "$$\n",
    "\n",
    "*SOLUTION:*\n",
    "\n",
    "Clearly, 2n^3 - 6n => n^2 for n =>2.\n",
    "\n",
    "So it cannot be true that 2n^3 - 6n =! O(n^2)\n",
    "\n",
    "$$\n",
    "5-) Prove that 20n^2 + 2n + 5 = O(n^2)\n",
    "$$\n",
    "\n",
    "*SOLUTION:*\n",
    "\n",
    "20n^2 + 2n + 5 <= 21n^2 for all n > 4 c=21 and n=4\n",
    "\n",
    "n^2 > 2n + 5 for all n > 4\n",
    "\n",
    "So the complexity of the function is O(n^2)"
   ],
   "metadata": {
    "collapsed": false
   },
   "id": "5814a1b8e9abdbcb"
  },
  {
   "cell_type": "markdown",
   "source": [
    "*Big O notation provides an upper bound on a function, which ensures that the function never grows faster than the upper bounded function.*"
   ],
   "metadata": {
    "collapsed": false
   },
   "id": "d9ed58890fa05ade"
  },
  {
   "cell_type": "markdown",
   "source": [
    "## OMEGA NOTATION"
   ],
   "metadata": {
    "collapsed": false
   },
   "id": "e6a23ba78065062a"
  },
  {
   "cell_type": "markdown",
   "source": [
    "Omega notation describes an asymptotic lower bound an algorithms, similar to the way in which Big O notation describes an asymptotic upper bound.\n",
    "\n",
    "*Omega notation computes the best-case runtime complexity of the algorithm.*\n",
    "\n",
    "The Ω notation (Ω(F(n)) is pronounced as omega of F of n), is a set of functions in such a way that there are positive constants n0 and c such that for all values of n greater than n0, T(n) always lies on or above a function to c*F(n).\n",
    "\n",
    "$$\n",
    "T(n) = \\Omega(F(n))\n",
    "$$"
   ],
   "metadata": {
    "collapsed": false
   },
   "id": "89eb67a77e5e33b1"
  },
  {
   "cell_type": "markdown",
   "source": [
    "If constants n_0 and c are present, then:\n",
    "\n",
    "$$\n",
    "0 \\leq c * F(n) \\leq T(n)\n",
    "$$\n",
    "for all\n",
    "$$\n",
    "n \\geq n_0\n",
    "$$"
   ],
   "metadata": {
    "collapsed": false
   },
   "id": "54383077eaf0e12b"
  },
  {
   "cell_type": "markdown",
   "source": [
    "If the running time of an algorithm is Ω(F(n)), it means that the running time of the algorithm is at least a constant multiplier of F(n) for sufficiently large values of input size (n). \n",
    "\n",
    "The Ω notation gives a lower bound on the best-case running time complexity of a given algorithm. \n",
    "\n",
    "*It means that the running time for a given algorithm will be at least F(n) without depending upon the input.*\n",
    "\n",
    "In order to understand the Ω notation and how to compute the lower bound on the best-case runtime complexity of an algorithm:\n",
    "\n",
    "Consider the following example:\n",
    "\n",
    "1-) Find F(n) for the function T(n) =2n2 +3 such that T(n) = Ω(F(n)).\n",
    "\n",
    "*SOLUTION:*\n",
    "\n",
    "Using Ω notation, the condition for the lower bound is T(n) >= c * F(n)\n",
    "\n",
    "This condition holds true for all values of n > 0 and c = 1.\n",
    "\n",
    "0 <= c*n^2 <= 2n^2+3 for all n > 0\n",
    "\n",
    "Therefore,  Ω(n^2) = 2n^2 + 3\n",
    "\n",
    "F(n) = n^2\n",
    "\n",
    "2-) Find the lower bound for T(n) = n^3.\n",
    "\n",
    "*SOLUTION:*\n",
    "\n",
    "Using Ω notation, the condition for the lower bound is T(n) >= c * F(n)\n",
    "\n",
    "Consider 0 <= c*n^2 <= 3n^3. \n",
    " \n",
    "The condition holds true for all values of n > 1 and c = 2.\n",
    "\n",
    "c*n^2 <= 3n^2 for c = 2 and n = 1.\n",
    "\n",
    "3n^2 = Ω(n^2)\n",
    "\n",
    "3-) Prove that 3n = Ω(n)\n",
    "\n",
    "*SOLUTION:*\n",
    "\n",
    "Using Ω notation, the condition for the lower bound is T(n) >= c * F(n)\n",
    "\n",
    "Consider 0 <= c*n <= 3n.\n",
    "\n",
    "The condition holds true for all values of n > 1 and c = 1.\n",
    "\n",
    "c*n^2 <= 3n^2 for c = 2 and n = 1.\n",
    "\n",
    "3n = Ω(n)\n",
    "\n",
    " "
   ],
   "metadata": {
    "collapsed": false
   },
   "id": "86d601f8f526f4a7"
  },
  {
   "cell_type": "markdown",
   "source": [
    "**The Ω notation is used to describe that at least a certain amount of running time will be taken by an algorithm for a large input size.**"
   ],
   "metadata": {
    "collapsed": false
   },
   "id": "f4d3bcce99a237a8"
  },
  {
   "cell_type": "markdown",
   "source": [
    "## AMORTIZED ANALYSIS\n",
    "\n"
   ],
   "metadata": {
    "collapsed": false
   },
   "id": "97bb77f7ec3d8611"
  },
  {
   "cell_type": "markdown",
   "source": [
    "In the amortized analysis of an algorithm, we average the time required to execute a sequence of operations with all the operations of the algorithm.\n",
    "\n",
    "Amortized analysis is important when we are not interested in the time complexity of individual operations but we are interested in the average time complexity of sequence of operations.\n",
    "\n",
    "In an algorithm, certain operations require significant amounts of time and resources while some operations are not costly at all.\n",
    "\n",
    "In amortized analysis, we analyze algorithms considering both the costly and less costly operations in order to analyze all the sequences of operations. \n",
    "\n",
    "So, an amortized analysis is the average performance of each operation in the worst case considering the cost of the complete sequence of all the operations. \n",
    "\n",
    "Amortized analysis is different from average-case analysis since the distribution of the input values is not considered. \n",
    "\n",
    "An amortized analysis gives the average performance of each operation in the worst case.\n",
    "\n",
    "There are three commonly used method for amortized analysis:\n",
    "\n",
    "- **Aggregate method**: Amortized cost is the average cost of all operations in the sequence.\n",
    "\n",
    "- **Accounting method**: We assign an amortized cost to each operation in such a way that the total amortized cost of all operations is equal to the total actual cost.\n",
    "\n",
    "- **Potential method**: We define a potential function that represents the total potential energy of the data structure. The amortized cost of an operation is the actual cost plus the change in potential."
   ],
   "metadata": {
    "collapsed": false
   },
   "id": "fc34fc95b666629d"
  },
  {
   "cell_type": "markdown",
   "source": [
    "## COMPOSING COMPLEXITY CLASSES"
   ],
   "metadata": {
    "collapsed": false
   },
   "id": "d4071e2022580b9f"
  },
  {
   "cell_type": "markdown",
   "source": [
    "Normally, we need to find the total running time of complex operations and algorithms.\n",
    "\n",
    "It turns out that we can combine the complexity classes of simple operations to find the complexity class of more complex, combined operations.\n",
    "\n",
    "The goal is to analyze the combined statements in a function or method to understand the total time complexity of executing several operations.\n",
    "\n",
    "*The simplest way to combine two complexity classes is to add them.*\n",
    "\n",
    "For example, consider two operations of inserting an element into a list and then sorting that list.\n",
    "\n",
    "Assuming that inserting an item occurs in O(n) time and sorting in O(nlogn) time, then we can write the total time complexity as O(n) + O(nlogn). \n",
    "\n",
    "Considering only the hishest order term, the final total time complexity will be O(nlogn).\n",
    "\n",
    "If we repeat an operation, for example in a while loop, then we multiply the complexity class by the number of times the operation is carried out.\n",
    "\n",
    "If an operation with time complexity O(f(n)) is repeated O(n) times, then we multiply the two complexity classes: O(f(n)) * O(n) = O(f(n) * n).\n",
    "\n",
    "For example, suppose the function f(n) has a time complexity of O(n^2) and it is executed n times in a for loop:\n",
    "\n"
   ],
   "metadata": {
    "collapsed": false
   },
   "id": "68e28380459cbe6b"
  },
  {
   "cell_type": "markdown",
   "source": [
    "```python\n",
    "for i in range(n):\n",
    "    f(...)\n",
    "```  \n"
   ],
   "metadata": {
    "collapsed": false
   },
   "id": "e60b83bf70c72512"
  },
  {
   "cell_type": "markdown",
   "source": [
    "The time complexity of the above code then becomes:\n",
    "\n",
    "$$\n",
    "O(n^2) * O(n) = O(n^3)\n",
    "$$"
   ],
   "metadata": {
    "collapsed": false
   },
   "id": "3af71b7a6424b14c"
  },
  {
   "cell_type": "markdown",
   "source": [
    "Here we multiply the time complexity of the inner function by the number of times it is executed in the loop.\n",
    "\n",
    "The runtime of a loop is at mıst the runtime of the statements inside the loop multiplied by the number of iterations.\n",
    "\n",
    "A single nested loop will run n^2 times. "
   ],
   "metadata": {
    "collapsed": false
   },
   "id": "ab9264fe0ddd4138"
  },
  {
   "cell_type": "markdown",
   "source": [
    "```python\n",
    "for i in range(n):\n",
    "    for j in range(n):\n",
    "        statements\n",
    "```"
   ],
   "metadata": {
    "collapsed": false
   },
   "id": "a0990632bcf50d15"
  },
  {
   "cell_type": "markdown",
   "source": [
    "If each execution of statements takes constant time c, O(1), executed n x n times, we can express the running time as follows:\n",
    "\n",
    "$$\n",
    "c * n * n = c * n^2 = O(n^2)\n",
    "$$ "
   ],
   "metadata": {
    "collapsed": false
   },
   "id": "2a5746afa0594169"
  },
  {
   "cell_type": "markdown",
   "source": [
    "For consecutive statements withi nested loops, we add the time complexity of each statement and multiply by the number of times the statement is executed.\n"
   ],
   "metadata": {
    "collapsed": false
   },
   "id": "a7ab50ce9fbb6a5a"
  },
  {
   "cell_type": "markdown",
   "source": [
    "```python\n",
    "\n",
    "def fun(n):\n",
    "    for i in range(n): # Executed n times\n",
    "        print(i)  # c1\n",
    "    for i in range(n):\n",
    "        for j in range(n):\n",
    "            print(j) # c2\n",
    "        \n",
    "```"
   ],
   "metadata": {
    "collapsed": false
   },
   "id": "71f24b952c083d2d"
  },
  {
   "cell_type": "markdown",
   "source": [
    "This can be written as :\n",
    "\n",
    "$$\n",
    "\n",
    "c_1 * n + c_2 * n^2 = O(n^2)\n",
    "\n",
    "$$"
   ],
   "metadata": {
    "collapsed": false
   },
   "id": "20367800a3a69863"
  },
  {
   "cell_type": "markdown",
   "source": [
    "We can define (base 2) logarithmic complexity, reducing the size of the problem by half, in constant time.\n",
    "\n"
   ],
   "metadata": {
    "collapsed": false
   },
   "id": "88df59a3084f9d84"
  },
  {
   "cell_type": "markdown",
   "source": [
    "```python\n",
    "\n",
    "i = 1\n",
    "\n",
    "while i < n:\n",
    "    i = i * 2\n",
    "    print(i)\n",
    "\n",
    "```"
   ],
   "metadata": {
    "collapsed": false
   },
   "id": "f18d3ca181ed2957"
  },
  {
   "cell_type": "markdown",
   "source": [
    "Notice that i is doubling in each iteration.\n",
    "\n",
    "If we run this code with n=10, we see that it prints out four numbers: 2, 4, 8, and 16.\n",
    "\n",
    "If we double n, we see it prints out fice numbers.\n",
    "\n",
    "With subsequent doubling of n, the number of iterations is only increasing by one.\n",
    "\n",
    "If we assume that the loop has k iterations, then the value of n will be 2^n.\n",
    "\n",
    "We can write this as follows:\n",
    "\n",
    "$$ \n",
    "\n",
    "log_2(2^k) = log_2(n)\n",
    "\n",
    "$$\n",
    "\n",
    "-->\n",
    "\n",
    "$$\n",
    "\n",
    "k * log_2(2) = log_2(2)\n",
    "\n",
    "$$\n",
    "\n",
    "-->\n",
    "\n",
    "$$\n",
    "\n",
    "k = log(n)\n",
    "\n",
    "$$\n",
    "\n",
    "From this, the worst case runtime complexity of the above code is equal to O(log(n))."
   ],
   "metadata": {
    "collapsed": false
   },
   "id": "ea3bf651192d23d5"
  },
  {
   "cell_type": "markdown",
   "source": [
    "## COMPUTING THE RUNNING TIME COMPLEXITY OF AN ALGORITHM"
   ],
   "metadata": {
    "collapsed": false
   },
   "id": "dc9bde0f0f6acea7"
  },
  {
   "cell_type": "markdown",
   "source": [
    "To analyze an algorith with respect to e best-, worst-, and average-case runtime of the algorithm, it is not always possible to compute these for every given function or algorithm. \n",
    "\n",
    "However, it is always important to know the upper-bound worst-case runtime complexity of an algorithm in practical situations; therefore, we focus on computing the upper-bound Big O notation to compute the worst-case runtime complexity of an algorithm:\n",
    "\n",
    "1-) Find the worst case running complexity of following function:"
   ],
   "metadata": {
    "collapsed": false
   },
   "id": "587cd00cdfc1295a"
  },
  {
   "cell_type": "markdown",
   "source": [
    "```python\n",
    "for i in range(n):\n",
    "    print(\"Hello\")\n",
    "```"
   ],
   "metadata": {
    "collapsed": false
   },
   "id": "2f20c171ec6877d8"
  },
  {
   "cell_type": "markdown",
   "source": [
    "*SOLUTION:*\n",
    "\n",
    "The runtime for a loop, in general, takes the time taken by all statements in the loop, multiplied by the number of iterations. \n",
    "\n",
    "Here, total runtime is defined as follows:\n",
    "\n",
    "T(n) = constant time (c) * n = c*n = O(n)"
   ],
   "metadata": {
    "collapsed": false
   },
   "id": "a6efe1799dccca25"
  },
  {
   "cell_type": "markdown",
   "source": [
    "2-) Find the worst case running complexity of following function:\n"
   ],
   "metadata": {
    "collapsed": false
   },
   "id": "726b91a8da742d1c"
  },
  {
   "cell_type": "markdown",
   "source": [
    "```python\n",
    "\n",
    "for i in range(n):\n",
    "    for j in range(n):\n",
    "        print(\"Hello\")\n",
    "\n",
    "```"
   ],
   "metadata": {
    "collapsed": false
   },
   "id": "1fc10eaf7eccf232"
  },
  {
   "cell_type": "markdown",
   "source": [
    "*SOLUTION:*\n",
    "\n",
    "O(n) * O(n) = O(n^2)\n",
    "\n",
    "The print statement will be executed n^2 times, n times for the inner loop and for each iteration of the outer loop, the inner loop will be executed."
   ],
   "metadata": {
    "collapsed": false
   },
   "id": "dc0c7f12624d52ef"
  },
  {
   "cell_type": "markdown",
   "source": [
    "3-) Find the worst case running complexity of following function:"
   ],
   "metadata": {
    "collapsed": false
   },
   "id": "c253f69a1a8d0c69"
  },
  {
   "cell_type": "markdown",
   "source": [
    "```python\n",
    "\n",
    "for i in range(n):\n",
    "    for j in range(n):\n",
    "        print(\"Run Fun\")\n",
    "        break\n",
    "\n",
    "```"
   ],
   "metadata": {
    "collapsed": false
   },
   "id": "a942d50228e29828"
  },
  {
   "cell_type": "markdown",
   "source": [
    "*SOLUTION:*\n",
    "\n",
    "The worst case complexity will be O(n) since the print statement will run n times because inner loop executes only once due to a break statement."
   ],
   "metadata": {
    "collapsed": false
   },
   "id": "6eb90bab8cf9ef96"
  },
  {
   "cell_type": "markdown",
   "source": [
    "4-) Find the worst case running complexity of following function:\n"
   ],
   "metadata": {
    "collapsed": false
   },
   "id": "d202aa225178da81"
  },
  {
   "cell_type": "markdown",
   "source": [
    "```python\n",
    "\n",
    "def fun(n):\n",
    "    for i in range(n):\n",
    "        print(\"data\") # constant time\n",
    "# Outer loop execute for n times\n",
    "    for i in range(n):\n",
    "        for j in range(n): # inner loop execute n times\n",
    "            print(\"Run Fun\") # constant time\n",
    "\n",
    "```"
   ],
   "metadata": {
    "collapsed": false
   },
   "id": "1450edd36e0fd3c5"
  },
  {
   "cell_type": "markdown",
   "source": [
    "*SOLUTION:*\n",
    "\n",
    "Here, the print statement will execute n times in the first loop and n^2 times for the second nested loop.\n",
    "\n",
    "Here, the total time required is defined as follow:\n",
    "\n",
    "T(n) = constant time (c1) * n + constant time (c2) * n * n \n",
    "\n",
    "==> \n",
    "\n",
    "c1*n + c2 * (n^2) = O(n^2)"
   ],
   "metadata": {
    "collapsed": false
   },
   "id": "783aafe7ebbb06b1"
  },
  {
   "cell_type": "markdown",
   "source": [
    "5-) Find the worst case running complexity of following function:"
   ],
   "metadata": {
    "collapsed": false
   },
   "id": "5b45c84aa9249042"
  },
  {
   "cell_type": "markdown",
   "source": [
    "```python\n",
    "\n",
    "if n == 0: # constant time\n",
    "    print(\"data\")\n",
    "else:\n",
    "    for i in range(n): # loop run for n times\n",
    "        print(\"structure\")\n",
    "\n",
    "```"
   ],
   "metadata": {
    "collapsed": false
   },
   "id": "4a8ab7920b47122e"
  },
  {
   "cell_type": "markdown",
   "source": [
    "*SOLUTION:*\n",
    "\n",
    "O(n)\n",
    "\n",
    "Here, the worst-case runtime complexity will be the time required for the execution of all the statements; that is, the time required for the execution of the if-else conditions, and the for loop. \n",
    "\n",
    "The time required is defined as the following:\n",
    "\n",
    "T(n) = constant time (c1) + constant time (c2) * n = O(n)"
   ],
   "metadata": {
    "collapsed": false
   },
   "id": "5d22c604382ee6bb"
  },
  {
   "cell_type": "markdown",
   "source": [
    "6-) Find the worst case running complexity of following function:\n"
   ],
   "metadata": {
    "collapsed": false
   },
   "id": "e1d488f26ef2ccda"
  },
  {
   "cell_type": "markdown",
   "source": [
    "```python\n",
    "\n",
    "i = 1\n",
    "j = 0\n",
    "\n",
    "while i*i < n:\n",
    "    j = j + 1\n",
    "    i = i + 1\n",
    "    print(\"data\")\n",
    "\n",
    "```"
   ],
   "metadata": {
    "collapsed": false
   },
   "id": "1a59f00932eb22a2"
  },
  {
   "cell_type": "markdown",
   "source": [
    "*SOLUTION:*\n",
    "\n",
    "O(n^1/2)\n",
    "\n",
    "The loop will terminate based on the value of i; the loop will iterate based on the condition:\n",
    "\n",
    "i * i < n\n",
    "\n",
    "T(n) = O(n^1/2)"
   ],
   "metadata": {
    "collapsed": false
   },
   "id": "b28b0e98ad7c5e2d"
  },
  {
   "cell_type": "markdown",
   "source": [
    "7-) Find the worst case running complexity of following function:\n",
    "\n"
   ],
   "metadata": {
    "collapsed": false
   },
   "id": "ec8afbb792f943aa"
  },
  {
   "cell_type": "markdown",
   "source": [
    "```python\n",
    "\n",
    "i = 0\n",
    "\n",
    "for i in range(int(n/2),n):\n",
    "    j = 1    \n",
    "    while j+n/2  <= n:\n",
    "    k = 1\n",
    "        while k <= n:\n",
    "        k *= 2\n",
    "\n",
    "        print(\"data\")\n",
    "        \n",
    "        j += 1\n",
    "\n",
    "```"
   ],
   "metadata": {
    "collapsed": false
   },
   "id": "2b816e11d026bf19"
  },
  {
   "cell_type": "markdown",
   "source": [
    "*SOLUTION:*\n",
    "\n",
    "Here, the outer loop will execute n/2 times, the middle loop will also run n/2 times, and the innermost loop will run for log(n) time. So, the total running time complexity will be O(n*n*logn):\n",
    "\n",
    "$$\n",
    "O(n/2) * O(n/2) * O(logn) = O(n^2logn)\n",
    "$$"
   ],
   "metadata": {
    "collapsed": false
   },
   "id": "25d2ac5b1b917619"
  },
  {
   "cell_type": "markdown",
   "source": [
    "# EXERCISES\n"
   ],
   "metadata": {
    "collapsed": false
   },
   "id": "dc9cdd39c9cff227"
  },
  {
   "cell_type": "markdown",
   "source": [
    "1-)\n",
    "```python\n",
    "\n",
    "i=1\n",
    "while(i<n):\n",
    "    i*=2\n",
    "    print(\"data\")\n",
    "```"
   ],
   "metadata": {
    "collapsed": false
   },
   "id": "6be488913b6f4490"
  },
  {
   "cell_type": "markdown",
   "source": [
    "2-)\n",
    "```python\n",
    "\n",
    "i=1\n",
    "while(i<n):\n",
    "    i*=2\n",
    "    print(\"data\")\n",
    "```"
   ],
   "metadata": {
    "collapsed": false
   },
   "id": "45f910180821c557"
  },
  {
   "cell_type": "markdown",
   "source": [
    "3-)\n",
    "```python\n",
    "for i in range(1,n):\n",
    "    j = i\n",
    "    while(j<n):\n",
    "        j*=2\n",
    "```\n"
   ],
   "metadata": {
    "collapsed": false
   },
   "id": "9ee88c317401a80e"
  },
  {
   "cell_type": "markdown",
   "source": [
    "4-)\n",
    "```python\n",
    "\n",
    "i=1\n",
    "while(i<n):\n",
    "    print('python')\n",
    "        i = i**2\n",
    "\n",
    "```"
   ],
   "metadata": {
    "collapsed": false
   },
   "id": "517f7aba8d94b6f7"
  },
  {
   "cell_type": "markdown",
   "source": [],
   "metadata": {
    "collapsed": false
   },
   "id": "b4165e4a4e49c204"
  }
 ],
 "metadata": {
  "kernelspec": {
   "display_name": "Python 3",
   "language": "python",
   "name": "python3"
  },
  "language_info": {
   "codemirror_mode": {
    "name": "ipython",
    "version": 2
   },
   "file_extension": ".py",
   "mimetype": "text/x-python",
   "name": "python",
   "nbconvert_exporter": "python",
   "pygments_lexer": "ipython2",
   "version": "2.7.6"
  }
 },
 "nbformat": 4,
 "nbformat_minor": 5
}
