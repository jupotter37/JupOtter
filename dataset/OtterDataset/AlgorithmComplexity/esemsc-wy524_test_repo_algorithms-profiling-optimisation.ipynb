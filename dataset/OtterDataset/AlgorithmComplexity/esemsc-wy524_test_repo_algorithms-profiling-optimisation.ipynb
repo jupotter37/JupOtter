{
 "cells": [
  {
   "cell_type": "markdown",
   "metadata": {
    "slideshow": {
     "slide_type": "slide"
    }
   },
   "source": [
    "# Algorithms 🧠, profiling 🕵️‍♂️, and optimisation 🚀\n",
    "\n",
    "### (How to speed up my code?)"
   ]
  },
  {
   "cell_type": "markdown",
   "metadata": {
    "slideshow": {
     "slide_type": "slide"
    },
    "vscode": {
     "languageId": "markdown"
    }
   },
   "source": [
    "### [~~Dr~~ **Marijan** ~~Beg~~](https://profiles.imperial.ac.uk/m.beg) (MAH - ree - yahn)\n",
    "\n",
    "- (Computational) Physicist: I am attempting to understand the world by delegating the hard work to computers. 🤔😵‍💫 \n",
    "  - BSc/MSc in Nanophysics / Nanoelectronics / Nanotechnology 🔬\n",
    "  - PhD in Computational Physics (nanomagnetism) 🖥️🧲\n",
    "  - nano = very small (my brain thinks in nanometres and picoseconds...)\n",
    "\n",
    "- **Teaching**:\n",
    "  - You already \"saw\" me a bit in the **Introduction to Python** pre-sessional course.\n",
    "  - You will see me several times in MPM/NPP, ACDS (group projects), BDA. 🫣\n",
    "  - You will hear from me a lot about your **IRP** (summer project). 🤯\n",
    "    - First IRP Townhall meeting in several weeks.\n",
    "\n",
    "- **Research**:\n",
    "    - I write simulation and data analysis code (Research Software Engineering) for industry and academia.\n",
    "    - I then use it to explore different nanoscale magnetic phenomena and magnetic materials:\n",
    "      - Fundamental physics, e.g. stability and dynamics of topological quasi-particles (skyrmions, hopfions) and field singularities (Bloch Points).\n",
    "      - Applications: I hope to discover a way to rebuild today's electronics from scratch by employing electron's spin (not only its charge) to store and process 0s and 1s.\n",
    "   - If you are interested in any of the topics for your IRP, let me know."
   ]
  },
  {
   "cell_type": "markdown",
   "metadata": {
    "slideshow": {
     "slide_type": "slide"
    }
   },
   "source": [
    "### How to find me?\n",
    "\n",
    "- **Office**: Royal School of Mines (RSM) 4.95 (4th floor)\n",
    "- **Email**: m.beg@imperial.ac.uk\n",
    "- **GitHub**: [@marijanbeg](https://github.com/marijanbeg)\n",
    "- **Marijan's anonymous feedback form**: https://forms.office.com/e/BiekMgPTMm\n",
    "  - the form is the same all year, and it is available anytime... I'm keeping an eye on it.\n",
    "\n",
    "- I’m also a **Mental Health First Aider**\n",
    "  - If you feel overwhelmed and just need someone to talk to, I'm here to listen, support, and guide you towards helpful resources."
   ]
  },
  {
   "cell_type": "markdown",
   "metadata": {
    "slideshow": {
     "slide_type": "slide"
    }
   },
   "source": [
    "### Don't Hesitate to Interrupt!\n",
    "\n",
    "- [**Cognitive Load Theory (CLT)**](https://www.tandfonline.com/doi/full/10.3109/0142159X.2014.889290)\n",
    "  - On average, our brains can hold **only 7 \"chunks\" of information at once** in working memory.\n",
    "  - A chunk can be a fact, idea, or task.\n",
    "  - Being \"smart\" does not mean more chunks.\n",
    "  - Once we reach this limit, we overlook or forget things.\n",
    "- If I juggle 7 tasks at once, I will forget the 8th one...\n",
    "- **If I say some nonsense, you spot a mistake, or have a question, just speak up: \"Hey Marijan, what...?\"**"
   ]
  },
  {
   "cell_type": "markdown",
   "metadata": {
    "slideshow": {
     "slide_type": "slide"
    }
   },
   "source": [
    "### Intended Learning Outcomes (ILOs)\n",
    "\n",
    "By the end of this lecture you should be able to:\n",
    "\n",
    "1. Identify bits of your code that are (too) slow by **profiling** 🕵️‍♂️.\n",
    "2. Find the *big-O* of a particular **algorithm** 🧠 and understand its impact on the performance.\n",
    "3. Use several **optimisation** 🚀 techniques to speed up your code."
   ]
  },
  {
   "cell_type": "markdown",
   "metadata": {
    "slideshow": {
     "slide_type": "slide"
    }
   },
   "source": [
    "### Intended Learning Outcomes (ILOs)???\n",
    "\n",
    "- An ILO is what you should be able to do by the end of a lecture or a module.\n",
    "- Think about ILOs as your **learning goals**.\n",
    "- At MSc level, we often throw at you much more information than you have time to digest.\n",
    "- ILOs help both you and me to stay focused on what's most important.\n",
    "- If at the end of the lecture, you feel like you can do most ILOs, we did a good job! 🎉🕺"
   ]
  },
  {
   "cell_type": "markdown",
   "metadata": {
    "slideshow": {
     "slide_type": "slide"
    }
   },
   "source": [
    "## Profiling: Identifying bottlenecks 🕵️‍♂️"
   ]
  },
  {
   "cell_type": "markdown",
   "metadata": {
    "slideshow": {
     "slide_type": "slide"
    }
   },
   "source": [
    "Let's have a look at a bit of \"slow\" code:"
   ]
  },
  {
   "cell_type": "code",
   "execution_count": 1,
   "metadata": {
    "slideshow": {
     "slide_type": "-"
    }
   },
   "outputs": [],
   "source": [
    "n = 1_000_000_000\n",
    "s = sum(range(1, n+1))\n",
    "\n",
    "assert s == n * (n+1) / 2"
   ]
  },
  {
   "cell_type": "markdown",
   "metadata": {},
   "source": [
    "We can \"see/feel\" it runs for some time, but for how long?"
   ]
  },
  {
   "cell_type": "markdown",
   "metadata": {},
   "source": [
    "### Stopwatch approach ⏱️"
   ]
  },
  {
   "cell_type": "code",
   "execution_count": 2,
   "metadata": {},
   "outputs": [
    {
     "name": "stdout",
     "output_type": "stream",
     "text": [
      "Wall Time: 23.433 seconds\n"
     ]
    }
   ],
   "source": [
    "import time\n",
    "\n",
    "start_time = time.time()  # start the stopwatch\n",
    "\n",
    "n = 1_000_000_000\n",
    "s = sum(range(1, n+1))\n",
    "\n",
    "end_time = time.time()  # stop the stopwatch\n",
    "\n",
    "wall_time = end_time - start_time\n",
    "print(f\"Wall Time: {wall_time:.3f} seconds\")"
   ]
  },
  {
   "cell_type": "markdown",
   "metadata": {},
   "source": [
    "Why do we call it **wall time**? 🤔"
   ]
  },
  {
   "cell_type": "markdown",
   "metadata": {},
   "source": [
    "### Wall time 🕑 vs. CPU time 🖥️\n",
    "\n",
    "#### Wall Time\n",
    "\n",
    "- The actual time taken from the start to the end of a process as measured by a clock on the wall.\n",
    "- It includes all time spent, including time waiting for I/O operations, time spent in other processes, and any other delays.\n",
    "\n",
    "#### CPU Time\n",
    "- CPU time is the time for which a CPU was actively processing instructions.\n",
    "- It does not include time spent waiting for I/O operations or time when the CPU is idle."
   ]
  },
  {
   "cell_type": "markdown",
   "metadata": {},
   "source": [
    "### Example"
   ]
  },
  {
   "cell_type": "code",
   "execution_count": 3,
   "metadata": {},
   "outputs": [
    {
     "name": "stdout",
     "output_type": "stream",
     "text": [
      "Wall Time: 0.49 seconds\n",
      "CPU Time: 0.04 seconds\n"
     ]
    }
   ],
   "source": [
    "import time\n",
    "import requests\n",
    "\n",
    "start_wall_time = time.time()\n",
    "start_cpu_time = time.process_time()\n",
    "\n",
    "# Simulate a delay by reading something from the internet\n",
    "response = requests.get('https://www.example.com')\n",
    "data = response.text\n",
    "\n",
    "end_wall_time = time.time()\n",
    "end_cpu_time = time.process_time()\n",
    "\n",
    "wall_time = end_wall_time - start_wall_time\n",
    "cpu_time = end_cpu_time - start_cpu_time\n",
    "\n",
    "print(f\"Wall Time: {wall_time:.2f} seconds\")\n",
    "print(f\"CPU Time: {cpu_time:.2f} seconds\")"
   ]
  },
  {
   "cell_type": "markdown",
   "metadata": {},
   "source": [
    "### Wall time 🕑 vs. CPU time 🖥️\n",
    "\n",
    "$$\\text{CPU time}$$\n",
    "\n",
    "$$+$$\n",
    "\n",
    "$$\\text{time spent on thing outside our code (reading/writing to disk, internet,...)}$$\n",
    "\n",
    "$$\\downarrow$$\n",
    "\n",
    "$$\\text{wall time}$$\n",
    "\n",
    "We like to keep things simple - we will measure only **wall time**. In computational science, the code is \"computation heavy\" - we assume that most of the time is spent inside the CPU."
   ]
  },
  {
   "cell_type": "markdown",
   "metadata": {},
   "source": [
    "### [`timeit`](https://docs.python.org/3/library/timeit.html) module\n",
    "\n",
    "- A simple and quick way to time small bits of code.\n",
    "- It measures **wall time**.\n",
    "- Part of the Python standard library (available wherever Python is installed)\n",
    "- We will use it as an IPython magic command\n",
    "  - **IPython** is the kernel that powers Python code execution in Jupyter notebooks (Jupyter used to be called *IPython Notebook*)\n",
    "  - IPython magic commands are special commands:\n",
    "    - prefixed with % (line magic) or %% (cell magic)\n",
    "    - work only when we are working in notebooks"
   ]
  },
  {
   "cell_type": "markdown",
   "metadata": {
    "slideshow": {
     "slide_type": "slide"
    }
   },
   "source": [
    "### `%timeit` magic"
   ]
  },
  {
   "cell_type": "code",
   "execution_count": 4,
   "metadata": {
    "slideshow": {
     "slide_type": "-"
    }
   },
   "outputs": [
    {
     "name": "stdout",
     "output_type": "stream",
     "text": [
      "7.61 ns ± 0.2 ns per loop (mean ± std. dev. of 7 runs, 100,000,000 loops each)\n"
     ]
    }
   ],
   "source": [
    "%timeit 1 + 2"
   ]
  },
  {
   "cell_type": "markdown",
   "metadata": {
    "slideshow": {
     "slide_type": "-"
    }
   },
   "source": [
    "- The command `1 + 2` was executed in `r` runs, each consisting of `n` loops (`r * n` in total) to get better statistics:\n",
    "  - **Runs**: The number of times the entire timing experiment is repeated to help average out any variability in the execution time due to external factors.\n",
    "  - **Loops**: The number of times the code snippet is executed in each run. This helps to get a more accurate measurement by reducing the impact of very short execution times.\n",
    "- We should pay attention to standard deviation - if it's too large, we might want to repeat the measurement.\n",
    "- We can specify the number of runs (`-r`) and the number of iterations (`-n`)."
   ]
  },
  {
   "cell_type": "code",
   "execution_count": 5,
   "metadata": {
    "slideshow": {
     "slide_type": "-"
    }
   },
   "outputs": [
    {
     "name": "stdout",
     "output_type": "stream",
     "text": [
      "11.8 ns ± 1.51 ns per loop (mean ± std. dev. of 10 runs, 100 loops each)\n"
     ]
    }
   ],
   "source": [
    "%timeit -r 10 -n 100 1 + 2"
   ]
  },
  {
   "cell_type": "markdown",
   "metadata": {
    "slideshow": {
     "slide_type": "slide"
    }
   },
   "source": [
    "### `%%timeit` magic\n",
    "\n",
    "Fair enough, but what if I have multiple lines of code? 💁‍♂️"
   ]
  },
  {
   "cell_type": "code",
   "execution_count": 6,
   "metadata": {
    "slideshow": {
     "slide_type": "-"
    }
   },
   "outputs": [
    {
     "name": "stdout",
     "output_type": "stream",
     "text": [
      "60.4 ms ± 651 µs per loop (mean ± std. dev. of 7 runs, 10 loops each)\n"
     ]
    }
   ],
   "source": [
    "%%timeit  # will do that ;)\n",
    "\n",
    "n = 1_000_000\n",
    "total = 0\n",
    "for i in range(n):\n",
    "    total += i"
   ]
  },
  {
   "cell_type": "markdown",
   "metadata": {
    "slideshow": {
     "slide_type": "slide"
    }
   },
   "source": [
    "### `%timeit` output object\n",
    "\n",
    "Instead of a simple print of wall time, we can ask for the output object (`-o`)."
   ]
  },
  {
   "cell_type": "code",
   "execution_count": 7,
   "metadata": {
    "slideshow": {
     "slide_type": "-"
    }
   },
   "outputs": [
    {
     "name": "stdout",
     "output_type": "stream",
     "text": [
      "58.4 ms ± 2.64 ms per loop (mean ± std. dev. of 7 runs, 10 loops each)\n"
     ]
    },
    {
     "data": {
      "text/plain": [
       "<TimeitResult : 58.4 ms ± 2.64 ms per loop (mean ± std. dev. of 7 runs, 10 loops each)>"
      ]
     },
     "execution_count": 7,
     "metadata": {},
     "output_type": "execute_result"
    }
   ],
   "source": [
    "%timeit -o sum(i for i in range(1_000_000))"
   ]
  },
  {
   "cell_type": "markdown",
   "metadata": {
    "slideshow": {
     "slide_type": "fragment"
    }
   },
   "source": [
    "The first line in the output comes from `print`, and the second one comes from `return`. Whatever `return` throws, we can catch it with a variable."
   ]
  },
  {
   "cell_type": "code",
   "execution_count": 8,
   "metadata": {
    "slideshow": {
     "slide_type": "fragment"
    }
   },
   "outputs": [
    {
     "name": "stdout",
     "output_type": "stream",
     "text": [
      "57.1 ms ± 902 µs per loop (mean ± std. dev. of 7 runs, 10 loops each)\n"
     ]
    }
   ],
   "source": [
    "timeit_object = %timeit -o sum(i for i in range(1_000_000))"
   ]
  },
  {
   "cell_type": "markdown",
   "metadata": {
    "slideshow": {
     "slide_type": "slide"
    }
   },
   "source": [
    "#### Times of individual runs"
   ]
  },
  {
   "cell_type": "code",
   "execution_count": 9,
   "metadata": {
    "slideshow": {
     "slide_type": "-"
    }
   },
   "outputs": [
    {
     "data": {
      "text/plain": [
       "[0.058918430795893074,\n",
       " 0.057429522811435166,\n",
       " 0.056229720287956295,\n",
       " 0.0560430329060182,\n",
       " 0.056731209089048204,\n",
       " 0.05762838500086218,\n",
       " 0.057051850901916626]"
      ]
     },
     "execution_count": 9,
     "metadata": {},
     "output_type": "execute_result"
    }
   ],
   "source": [
    "timeit_object.timings"
   ]
  },
  {
   "cell_type": "markdown",
   "metadata": {
    "slideshow": {
     "slide_type": "slide"
    }
   },
   "source": [
    "#### A bit more statistics"
   ]
  },
  {
   "cell_type": "code",
   "execution_count": 10,
   "metadata": {
    "slideshow": {
     "slide_type": "fragment"
    }
   },
   "outputs": [
    {
     "data": {
      "text/plain": [
       "0.05714745025616139"
      ]
     },
     "execution_count": 10,
     "metadata": {},
     "output_type": "execute_result"
    }
   ],
   "source": [
    "timeit_object.average  # average wall time"
   ]
  },
  {
   "cell_type": "code",
   "execution_count": 11,
   "metadata": {
    "slideshow": {
     "slide_type": "fragment"
    }
   },
   "outputs": [
    {
     "data": {
      "text/plain": [
       "0.0560430329060182"
      ]
     },
     "execution_count": 11,
     "metadata": {},
     "output_type": "execute_result"
    }
   ],
   "source": [
    "timeit_object.best  # the best (fastest) time"
   ]
  },
  {
   "cell_type": "code",
   "execution_count": 12,
   "metadata": {
    "slideshow": {
     "slide_type": "fragment"
    }
   },
   "outputs": [
    {
     "data": {
      "text/plain": [
       "0.058918430795893074"
      ]
     },
     "execution_count": 12,
     "metadata": {},
     "output_type": "execute_result"
    }
   ],
   "source": [
    "timeit_object.worst  # the worst (slowest) time"
   ]
  },
  {
   "cell_type": "code",
   "execution_count": 13,
   "metadata": {
    "slideshow": {
     "slide_type": "fragment"
    }
   },
   "outputs": [
    {
     "data": {
      "text/plain": [
       "0.0009017124304644091"
      ]
     },
     "execution_count": 13,
     "metadata": {},
     "output_type": "execute_result"
    }
   ],
   "source": [
    "timeit_object.stdev  # standard deviation"
   ]
  },
  {
   "cell_type": "markdown",
   "metadata": {
    "slideshow": {
     "slide_type": "slide"
    }
   },
   "source": [
    "### Exercise 1: Loop or recursion?\n",
    "\n",
    "Write a function to calculate the factorial of a given number `n`.\n",
    "1. Implement `factorial_loop(n)` using a `for` loop.\n",
    "2. Implement `factorial_recursion(n)` using recursion.\n",
    "3. Use `%timeit` to compare the performance of both implementations and determine which one is faster and how much.\n",
    "\n",
    "#### What is Factorial?\n",
    "The factorial of a non-negative integer `n` is the product of all positive integers less than or equal to `n`. It is denoted by `n!` and defined as:\n",
    "$$n! = n \\times (n-1) \\times (n-2) \\times \\ldots \\times 1 $$\n",
    "\n",
    "For example, $5! = 5 \\times 4 \\times 3 \\times 2 \\times 1 = 120$.\n",
    "\n",
    "#### What is Recursion?\n",
    "Recursion is a programming technique where a function calls itself (😯🤯) to solve smaller instances of the same problem. For example,"
   ]
  },
  {
   "cell_type": "code",
   "execution_count": 14,
   "metadata": {
    "slideshow": {
     "slide_type": "skip"
    }
   },
   "outputs": [
    {
     "name": "stdout",
     "output_type": "stream",
     "text": [
      "3\n",
      "2\n",
      "1\n",
      "Happy New Year!!!\n"
     ]
    }
   ],
   "source": [
    "def countdown(n):\n",
    "    \"\"\"\n",
    "    Print a countdown from n to 0 using recursion.\n",
    "    \n",
    "    Parameters\n",
    "    ----------\n",
    "    n : int\n",
    "\n",
    "        The starting number for the countdown.\n",
    "    \n",
    "    \"\"\"\n",
    "    if n <= 0:\n",
    "        print(\"Happy New Year!!!\")\n",
    "    else:\n",
    "        print(n)\n",
    "        countdown(n-1)  # here, the function calls itself 🤯\n",
    "\n",
    "countdown(3)"
   ]
  },
  {
   "cell_type": "markdown",
   "metadata": {},
   "source": [
    "#### Solution"
   ]
  },
  {
   "cell_type": "code",
   "execution_count": 15,
   "metadata": {
    "slideshow": {
     "slide_type": "skip"
    }
   },
   "outputs": [],
   "source": [
    "def factorial_loop(n):\n",
    "    \"\"\"\n",
    "    Calculate the factorial of a number using a for loop.\n",
    "    \n",
    "    Parameters\n",
    "    ----------\n",
    "    n : int\n",
    "        The number to calculate the factorial of.\n",
    "    \n",
    "    Returns\n",
    "    -------\n",
    "    int\n",
    "        The factorial of the input number.\n",
    "\n",
    "    \"\"\"\n",
    "    product = 1\n",
    "    for i in range(1, n+1):  # we start from 1 to n+1 because range is exclusive\n",
    "        product = product * i\n",
    "\n",
    "    return product\n",
    "\n",
    "\n",
    "def factorial_recursion(n):\n",
    "    \"\"\"\n",
    "    Calculate the factorial of a number using recursion.\n",
    "    \n",
    "    Parameters\n",
    "    ----------\n",
    "    n : int\n",
    "        The number to calculate the factorial of.\n",
    "    \n",
    "    Returns\n",
    "    -------\n",
    "    int\n",
    "        The factorial of the input number.\n",
    "\n",
    "    \"\"\"\n",
    "    if n == 0:\n",
    "        return 1\n",
    "    else:\n",
    "        return n * factorial_recursion(n-1)\n"
   ]
  },
  {
   "cell_type": "code",
   "execution_count": 16,
   "metadata": {
    "slideshow": {
     "slide_type": "skip"
    }
   },
   "outputs": [
    {
     "name": "stdout",
     "output_type": "stream",
     "text": [
      "7.05 µs ± 55.3 ns per loop (mean ± std. dev. of 7 runs, 100,000 loops each)\n"
     ]
    }
   ],
   "source": [
    "timeit_loop = %timeit -o factorial_loop(100)"
   ]
  },
  {
   "cell_type": "code",
   "execution_count": 17,
   "metadata": {
    "slideshow": {
     "slide_type": "skip"
    }
   },
   "outputs": [
    {
     "name": "stdout",
     "output_type": "stream",
     "text": [
      "15.6 µs ± 264 ns per loop (mean ± std. dev. of 7 runs, 100,000 loops each)\n"
     ]
    }
   ],
   "source": [
    "timeit_recursion = %timeit -o factorial_recursion(100)"
   ]
  },
  {
   "cell_type": "code",
   "execution_count": 18,
   "metadata": {
    "slideshow": {
     "slide_type": "skip"
    }
   },
   "outputs": [
    {
     "name": "stdout",
     "output_type": "stream",
     "text": [
      "Recursion version is 2.21 times slower.\n"
     ]
    }
   ],
   "source": [
    "ratio = timeit_recursion.average / timeit_loop.average\n",
    "print(f'Recursion version is {ratio:.2f} times slower.')"
   ]
  },
  {
   "cell_type": "markdown",
   "metadata": {},
   "source": [
    "Recursion solution is slower due to the overhead of function calls. Each recursive call adds a new frame to the call stack, consuming memory and increasing the wall time. Recursion should be avoided in Python for problems that can be solved iteratively, especially when dealing with large input sizes or when performance is critical. In addition, the size of the stack is limited -- we cannot have more than $N$ active function calls. If we do, that results in stack overflow, after which the famous coding forum, [Stack Overflow](https://stackoverflow.com/) is named.\n",
    "\n",
    "**What is a stack?** A stack is a data structure that keeps track of active functions, where each call (`factorial(n)`) adds a new frame to the stack and each `return` removes the top frame, ensuring that the most recently called function is the first to be completed."
   ]
  },
  {
   "cell_type": "markdown",
   "metadata": {
    "slideshow": {
     "slide_type": "slide"
    }
   },
   "source": [
    "### `cProfile` - getting more detail 🔍\n",
    "\n",
    "- Using `timeit` magic, we measured the total wall time of a code snippet.\n",
    "- The code snippet may be calling lots of other functions internally.\n",
    "- How do we then find a bottleneck? 🤔 Where do we spend most time?\n",
    "- `cProfile` provides detailed statistics on how many times each function was called and how much time was spent in each function, allowing us to identify performance bottlenecks at a more granular level."
   ]
  },
  {
   "cell_type": "markdown",
   "metadata": {
    "slideshow": {
     "slide_type": "slide"
    }
   },
   "source": [
    "### Example: Estimating $\\pi$ using the Monte Carlo method\n",
    "\n",
    "The Monte Carlo method involves generating random points in a unit square and determining how many fall within a quarter circle inscribed within the square. The ratio of the points inside the quarter circle $n_\\text{in}$ to the total number of points $n_\\text{total}$ can be used to estimate $\\pi$:\n",
    "\n",
    "$$\\pi = 4\\frac{n_\\text{in}}{n_\\text{total}}$$\n",
    "\n",
    "<div>\n",
    "<center>\n",
    "    <img src=\"images/pi-monte-carlo.png\" width=\"400\" alt=\"pi estimation\" />\n",
    "</center>\n",
    "</div>\n",
    "\n",
    "Marcus Surges. [Java: How to approximate Pi with the Monte Carlo simulation](https://blog.surges.eu/java-how-to-approximate-pi-with-the-monte-carlo-simulation/). (2020)"
   ]
  },
  {
   "cell_type": "code",
   "execution_count": 19,
   "metadata": {
    "slideshow": {
     "slide_type": "slide"
    }
   },
   "outputs": [],
   "source": [
    "import random\n",
    "\n",
    "\n",
    "def random_list(size):\n",
    "    \"\"\"\n",
    "    Generate a list of random numbers between 0 and 1.\n",
    "    \n",
    "    Parameters\n",
    "    ----------\n",
    "    size : int\n",
    "        The number of random numbers to generate.\n",
    "    \n",
    "    Returns\n",
    "    -------\n",
    "    list of float\n",
    "        A list of random numbers between 0 and 1.\n",
    "    \"\"\"\n",
    "    return [random.random() for _ in range(size)]"
   ]
  },
  {
   "cell_type": "code",
   "execution_count": 20,
   "metadata": {
    "slideshow": {
     "slide_type": "slide"
    }
   },
   "outputs": [],
   "source": [
    "def distance(x, y):\n",
    "    \"\"\"\n",
    "    Compute the distance of a point (x, y) from the origin (0, 0).\n",
    "    \n",
    "    Parameters\n",
    "    ----------\n",
    "    x : float\n",
    "        The x-coordinate of the point.\n",
    "    y : float\n",
    "        The y-coordinate of the point.\n",
    "    \n",
    "    Returns\n",
    "    -------\n",
    "    float\n",
    "        The distance from the origin.\n",
    "    \"\"\"\n",
    "    return (x**2 + y**2)**0.5"
   ]
  },
  {
   "cell_type": "code",
   "execution_count": 21,
   "metadata": {
    "slideshow": {
     "slide_type": "slide"
    }
   },
   "outputs": [
    {
     "name": "stdout",
     "output_type": "stream",
     "text": [
      "Estimate of pi: 3.14098\n"
     ]
    }
   ],
   "source": [
    "def estimate_pi(n):\n",
    "    \"\"\"Estimate the value of pi using Monte Carlo simulation.\n",
    "    \n",
    "    Parameters\n",
    "    ----------\n",
    "    n : int\n",
    "        The number of random points generated.\n",
    "        \n",
    "    Returns\n",
    "    -------\n",
    "    float\n",
    "        An estimate of pi.\n",
    "\n",
    "    \"\"\"\n",
    "    x_list = random_list(n)\n",
    "    y_list = random_list(n)\n",
    "    \n",
    "    in_circle = 0\n",
    "    for x, y in zip(x_list, y_list):\n",
    "        if distance(x, y) <= 1:\n",
    "            in_circle += 1\n",
    "            \n",
    "    return 4*in_circle / n\n",
    "\n",
    "print(f'Estimate of pi: {estimate_pi(1_000_000)}')"
   ]
  },
  {
   "cell_type": "markdown",
   "metadata": {
    "slideshow": {
     "slide_type": "slide"
    }
   },
   "source": [
    "### Total wall time"
   ]
  },
  {
   "cell_type": "code",
   "execution_count": 22,
   "metadata": {
    "slideshow": {
     "slide_type": "-"
    }
   },
   "outputs": [
    {
     "name": "stdout",
     "output_type": "stream",
     "text": [
      "696 ms ± 11.1 ms per loop (mean ± std. dev. of 7 runs, 1 loop each)\n"
     ]
    }
   ],
   "source": [
    "%timeit estimate_pi(n=1_000_000)"
   ]
  },
  {
   "cell_type": "markdown",
   "metadata": {
    "slideshow": {
     "slide_type": "-"
    }
   },
   "source": [
    "Well... We have the total wall time, but can we have a look at what happens internally? At the end of the day, we need to find that bottleneck."
   ]
  },
  {
   "cell_type": "markdown",
   "metadata": {
    "slideshow": {
     "slide_type": "slide"
    }
   },
   "source": [
    "### `%prun` magic\n",
    "\n",
    "Just like [`timeit`](https://docs.python.org/3/library/timeit.html) module had its IPython magic command (`%timeit`), [`cProfile`](https://docs.python.org/3/library/profile.html) has its own: `%prun` 🪄🧙"
   ]
  },
  {
   "cell_type": "code",
   "execution_count": 23,
   "metadata": {
    "slideshow": {
     "slide_type": "-"
    }
   },
   "outputs": [
    {
     "name": "stdout",
     "output_type": "stream",
     "text": [
      " "
     ]
    },
    {
     "name": "stdout",
     "output_type": "stream",
     "text": [
      "         3000008 function calls in 1.270 seconds\n",
      "\n",
      "   Ordered by: internal time\n",
      "\n",
      "   ncalls  tottime  percall  cumtime  percall filename:lineno(function)\n",
      "        2    0.441    0.221    0.625    0.312 4180216494.py:18(<listcomp>)\n",
      "  1000000    0.324    0.000    0.324    0.000 1874650273.py:1(distance)\n",
      "        1    0.291    0.291    1.239    1.239 2152092804.py:1(estimate_pi)\n",
      "  2000000    0.183    0.000    0.183    0.000 {method 'random' of '_random.Random' objects}\n",
      "        1    0.031    0.031    1.270    1.270 <string>:1(<module>)\n",
      "        1    0.000    0.000    1.270    1.270 {built-in method builtins.exec}\n",
      "        2    0.000    0.000    0.625    0.312 4180216494.py:4(random_list)\n",
      "        1    0.000    0.000    0.000    0.000 {method 'disable' of '_lsprof.Profiler' objects}"
     ]
    }
   ],
   "source": [
    "%prun estimate_pi(n=1_000_000)"
   ]
  },
  {
   "metadata": {},
   "cell_type": "code",
   "outputs": [],
   "execution_count": null,
   "source": [
    "# cumulative_time = wall_time (spent in the function and all sub-functions)\n",
    "# total_time = time spent in the function itself\n",
    "# if the function calls itself, it will be included in the cumulative time\n",
    "# if the function calls another function, that will be included in the cumulative time\n",
    "# if cumulative_time = total_time, the function does not call any other functions"
   ]
  },
  {
   "cell_type": "markdown",
   "metadata": {
    "slideshow": {
     "slide_type": "slide"
    }
   },
   "source": [
    "### Exercise 2: Understanding the `%prun` table\n",
    "\n",
    "In this exercise, you will analyze the performance of a function that calls two other functions internally. Each of these functions includes a `time.sleep()` call to simulate time-consuming operations and performs a \"useful\" (not really) task. You do not need to write any code in this exercise. Just run the cells.\n",
    "\n",
    "What should I do then? Look at the `%prun` output table and attempt to match it with the code to understand the values of individual columns."
   ]
  },
  {
   "metadata": {},
   "cell_type": "markdown",
   "source": [
    "### What are all those columns?\n",
    "\n",
    "- `filename:lineno(function)` (last column): Somewhat cryptic way of saying what function is the row for. What we are looking for is often in parenthesis at the end.\n",
    "- `ncalls`: Number of times the function was called.\n",
    "- `tottime`: Total time spent in the function (**excluding** time in sub-functions).\n",
    "- `percall`: Time per call (`tottime` divided by `ncalls`).\n",
    "- `cumtime`: Cumulative time spent in the function **and** all sub-functions.\n",
    "- `percall`: Time per call (`cumtime` divided by `ncalls`)."
   ]
  },
  {
   "cell_type": "code",
   "execution_count": 24,
   "metadata": {},
   "outputs": [],
   "source": [
    "import time\n",
    "\n",
    "def lazy_sum(n):\n",
    "    \"\"\"\n",
    "    Lazily sleep for 0.5 seconds and then calculate the sum of the first n natural numbers.\n",
    "    \n",
    "    Parameters\n",
    "    ----------\n",
    "    n : int\n",
    "        The number up to which to lazily calculate the sum.\n",
    "    \n",
    "    Returns\n",
    "    -------\n",
    "    int\n",
    "        The lazy sum of the first n natural numbers.\n",
    "    \"\"\"\n",
    "    time.sleep(0.5)  # sleep for 0.5 seconds and do nothing 😴\n",
    "    return sum(range(1, n+1))\n",
    "\n",
    "def lazy_factorial(n):\n",
    "    \"\"\"\n",
    "    Lazily sleep for 1 second and then calculate the factorial of n.\n",
    "    \n",
    "    Parameters\n",
    "    ----------\n",
    "    n : int\n",
    "        The number for which to lazily calculate the factorial.\n",
    "    \n",
    "    Returns\n",
    "    -------\n",
    "    int\n",
    "        The lazy factorial of n.\n",
    "    \"\"\"\n",
    "    time.sleep(1) # sleep for 1 second and do nothing 😴\n",
    "\n",
    "    # As we have seen earlier, recursion is not the fastest way to calculate factorial.\n",
    "    # So, we will use a for loop.\n",
    "    product = 1\n",
    "    for i in range(1, n+1):\n",
    "        product *= i\n",
    "    return product\n",
    "\n",
    "def lazy_main_function():\n",
    "    \"\"\"\n",
    "    Lazily call lazy_sum and lazy_factorial multiple times.\n",
    "    \"\"\"\n",
    "    results = []\n",
    "    for i in range(1, 4):  # 3 iterations in total i = 1, 2, 3\n",
    "        results.append(lazy_sum(i))\n",
    "        results.append(lazy_factorial(i))\n",
    "    return results"
   ]
  },
  {
   "cell_type": "markdown",
   "metadata": {},
   "source": [
    "We can now run `%prun` magic on `lazy_main_function`:"
   ]
  },
  {
   "cell_type": "code",
   "execution_count": 25,
   "metadata": {},
   "outputs": [
    {
     "name": "stdout",
     "output_type": "stream",
     "text": [
      " "
     ]
    },
    {
     "name": "stdout",
     "output_type": "stream",
     "text": [
      "         25 function calls in 4.505 seconds\n",
      "\n",
      "   Ordered by: internal time\n",
      "\n",
      "   ncalls  tottime  percall  cumtime  percall filename:lineno(function)\n",
      "        6    4.505    0.751    4.505    0.751 {built-in method time.sleep}\n",
      "        3    0.000    0.000    1.502    0.501 955906286.py:3(lazy_sum)\n",
      "        3    0.000    0.000    3.003    1.001 955906286.py:20(lazy_factorial)\n",
      "        1    0.000    0.000    4.505    4.505 955906286.py:43(lazy_main_function)\n",
      "        1    0.000    0.000    4.505    4.505 {built-in method builtins.exec}\n",
      "        3    0.000    0.000    0.000    0.000 {built-in method builtins.sum}\n",
      "        6    0.000    0.000    0.000    0.000 {method 'append' of 'list' objects}\n",
      "        1    0.000    0.000    4.505    4.505 <string>:1(<module>)\n",
      "        1    0.000    0.000    0.000    0.000 {method 'disable' of '_lsprof.Profiler' objects}"
     ]
    }
   ],
   "source": [
    "%prun lazy_main_function()"
   ]
  },
  {
   "cell_type": "markdown",
   "metadata": {
    "slideshow": {
     "slide_type": "slide"
    }
   },
   "source": [
    "### `line_profiler` - even more details 🔬\n",
    "\n",
    "- `cProfile` (`%prun`) told us how many times we called each function and how much time we spent in it.\n",
    "- Let's say we found a function that costs us most time. However, that function has 1000s of lines. 😱\n",
    "- What lines are most computationally-expensive?\n",
    "- For that, we use `line_profiler`\n",
    "    - It is not part of the standard library: install it using `pip install line_profiler`\n",
    "    - activate the extension with `%load_ext line_profiler`"
   ]
  },
  {
   "cell_type": "code",
   "execution_count": 26,
   "metadata": {},
   "outputs": [],
   "source": [
    "%load_ext line_profiler"
   ]
  },
  {
   "cell_type": "markdown",
   "metadata": {},
   "source": [
    "### Example: Line-profiling of Monte Carlo `estimate_pi` simulation\n",
    "\n",
    "We will line-profile by running `%lprun -f estimate_pi estimate_pi(10000)`:\n",
    "- `%lprun` - `line_profiler`'s magic ✨\n",
    "- `-f estimate_pi` - we say that we want to inspect the lines inside `function`\n",
    "- `estimate_pi(10000)` - The function call as the argument. This is the code that will be executed to profile."
   ]
  },
  {
   "cell_type": "code",
   "execution_count": 27,
   "metadata": {
    "slideshow": {
     "slide_type": "slide"
    }
   },
   "outputs": [
    {
     "name": "stdout",
     "output_type": "stream",
     "text": [
      "Timer unit: 1e-06 s\n",
      "\n",
      "Total time: 0.05805 s\n",
      "File: /tmp/ipykernel_3390213/2152092804.py\n",
      "Function: estimate_pi at line 1\n",
      "\n",
      "Line #      Hits         Time  Per Hit   % Time  Line Contents\n",
      "==============================================================\n",
      "     1                                           def estimate_pi(n):\n",
      "     2                                               \"\"\"Estimate the value of pi using Monte Carlo simulation.\n",
      "     3                                               \n",
      "     4                                               Parameters\n",
      "     5                                               ----------\n",
      "     6                                               n : int\n",
      "     7                                                   The number of random points generated.\n",
      "     8                                                   \n",
      "     9                                               Returns\n",
      "    10                                               -------\n",
      "    11                                               float\n",
      "    12                                                   An estimate of pi.\n",
      "    13                                           \n",
      "    14                                               \"\"\"\n",
      "    15         1      10991.0  10991.0     18.9      x_list = random_list(n)\n",
      "    16         1       9332.0   9332.0     16.1      y_list = random_list(n)\n",
      "    17                                               \n",
      "    18         1          3.0      3.0      0.0      in_circle = 0\n",
      "    19     10001       8168.0      0.8     14.1      for x, y in zip(x_list, y_list):\n",
      "    20     10000      22670.0      2.3     39.1          if distance(x, y) <= 1:\n",
      "    21      7791       6885.0      0.9     11.9              in_circle += 1\n",
      "    22                                                       \n",
      "    23         1          1.0      1.0      0.0      return 4*in_circle / n"
     ]
    }
   ],
   "source": [
    "%lprun -f estimate_pi estimate_pi(10000)"
   ]
  },
  {
   "cell_type": "markdown",
   "metadata": {},
   "source": [
    "### What are all those columns `%lprun` gave me?\n",
    "\n",
    "- **Line Number**: The line number in the function.\n",
    "- **Hits**: Number of times the line was executed.\n",
    "- **Time**: Total time spent executing the line (in microseconds).\n",
    "- **Per Hit**: Average time per execution of the line.\n",
    "- **Time**: Percentage of the total time spent on that line."
   ]
  },
  {
   "cell_type": "markdown",
   "metadata": {},
   "source": [
    "### Profiling summary\n",
    "\n",
    "- Slowly increase the level of granularity: `%timeit` $\\rightarrow$ `%prun` $\\rightarrow$ `%lprun`\n",
    "- Profiling is a crucial step in performance optimization.\n",
    "- It helps identify where to focus your efforts for maximum impact: We do not want to optimise everything!\n",
    "- Be mindful of the overhead and use profiling to guide targeted optimizations."
   ]
  },
  {
   "cell_type": "markdown",
   "metadata": {},
   "source": [
    "## Algorithms 🧠"
   ]
  },
  {
   "cell_type": "markdown",
   "metadata": {},
   "source": [
    "### What is an algorithm?\n",
    "\n",
    "- Algorithm is a step-by-step procedure to solve a particular problem (a fancy word for **recipe** 👩‍🍳)\n",
    "- Algorithm is an explicit, precise, finite, and deterministic problem-solving method that can be implemented as a computer program.\n",
    "- Very often, algorithm is independent from the programming language."
   ]
  },
  {
   "cell_type": "markdown",
   "metadata": {},
   "source": [
    "### Example: \"Find the maximum\" algorithm\n",
    "\n",
    "Let's say we have a sequence of numbers and we need to find the maximum. How can we define (explain) that algorithm?"
   ]
  },
  {
   "cell_type": "markdown",
   "metadata": {},
   "source": [
    "#### \"Prose-like\" description\n",
    "\n",
    "> *Declare the first element of the sequence as the current maximum. Then, iterate through the sequence, and for each element, check if it is larger than the current maximum. If yes, set the current maximum to be that element. Return the current maximum when there are no elements left to iterate over.*"
   ]
  },
  {
   "cell_type": "markdown",
   "metadata": {},
   "source": [
    "### Python implementation"
   ]
  },
  {
   "cell_type": "code",
   "execution_count": 29,
   "metadata": {},
   "outputs": [
    {
     "name": "stdout",
     "output_type": "stream",
     "text": [
      "17\n"
     ]
    }
   ],
   "source": [
    "def find_maximum(seq):\n",
    "    current_max = seq[0]\n",
    "    for i in seq:\n",
    "        if i > current_max:\n",
    "            current_max = i\n",
    "    return current_max\n",
    "\n",
    "print(find_maximum([-1, 5, 9, -82, 17]))"
   ]
  },
  {
   "cell_type": "markdown",
   "metadata": {},
   "source": [
    "### What are the characteristics of an algorithm?\n",
    "\n",
    "- **Precise and unambigous**: Clear in all aspects. Every step must mean only one thing.\n",
    "- **Well-defined inputs**: Expected inputs (zero or more) must be clearly explained.\n",
    "- **Well-defined outputs**: The output (one or more) of the algorithm must be well defined.\n",
    "- **Finite**: The algorithm must terminate after a finite time.\n",
    "- **Feasible**: Implementation must be possible with the available resources.\n",
    "- **Language independent**: Ideally, it should not contain language-specific features.\n",
    "- **(Deterministic)**: It gives the same output for same inputs."
   ]
  },
  {
   "cell_type": "markdown",
   "metadata": {},
   "source": [
    "### Analysis of Algorithms\n",
    "\n",
    "- One of the important requirements of an algorithm is to be feasible.\n",
    "- Feasibility means that the algorithm's implementation must be possible with the available resources.\n",
    "- We need to answer the following two questions:\n",
    "    1. How long will it take for my code to run?\n",
    "    2. Will my code run out of memory?\n",
    "- We address those two questions by analysing **time** and **space** complexity."
   ]
  },
  {
   "cell_type": "markdown",
   "metadata": {},
   "source": [
    "### Time complexity\n",
    "\n",
    "- By analysing time complexity, we are predicting how long it will take for the code to execute.\n",
    "- The total running time of the code depends on:\n",
    "    - time it takes for each step to execute (**profiling**)\n",
    "    - the number of times each step is executed (**tilde approximation and big-O**)"
   ]
  },
  {
   "cell_type": "markdown",
   "metadata": {
    "slideshow": {
     "slide_type": "slide"
    }
   },
   "source": [
    "### Definition of Big O\n",
    "\n",
    "Big O notation, represented as $O(f(n))$, describes an upper bound on the time or space complexity of an algorithm.\n",
    "\n",
    "- $n$ represents the size of the input.\n",
    "- $f(n)$ is a function that describes how the resource requirement (time or space) grows as the input size $n$ increases.\n",
    "- The notation $O(f(n))$ captures the asymptotic behavior of the function, meaning we care about what happens as $n$ becomes very large."
   ]
  },
  {
   "cell_type": "markdown",
   "metadata": {},
   "source": [
    "### A bit more details on Big-O\n",
    "\n",
    "1. **Upper Bound**: Big O gives an upper bound on the growth rate of an algorithm. For example, if an algorithm has a time complexity of $O(n^2)$, it means that, in the worst-case scenario, the running time grows no faster than $n^2$ as $n$ increases. This does not mean the running time will always be exactly $n^2$, just that it won’t grow faster than $n^2$.\n",
    "\n",
    "2. **Asymptotic Analysis**: Big O notation focuses on the behavior of the function as $n \\to \\infty$. It ignores constant factors and lower-order terms because they have minimal impact on the growth rate for large $n$. For example, $O(3n^2 + 5n + 7)$ simplifies to $O(n^2)$ because $n^2$ dominates the function as $n$ grows larger.\n",
    "\n",
    "3. **Dominant Term**: In Big O notation, only the most significant term (the one that grows the fastest as $n \\to \\infty$) is considered, and any coefficients are dropped. This simplifies comparisons between algorithms by focusing only on the term that has the largest impact on performance as the input size grows."
   ]
  },
  {
   "cell_type": "markdown",
   "metadata": {},
   "source": [
    "\n",
    "### Common Big O Notations\n",
    "Here are some common Big O notations you’ll encounter:\n",
    "\n",
    "- **$O(1)$** — *Constant Time*: The algorithm's runtime doesn’t change with the input size. Example: accessing an element in an array.\n",
    "- **$O(\\log n)$** — *Logarithmic Time*: The runtime grows logarithmically with the input size. Example: binary search.\n",
    "- **$O(n)$** — *Linear Time*: The runtime grows linearly with the input size. Example: iterating through an array.\n",
    "- **$O(n \\log n)$** — *Linearithmic Time*: The runtime grows in proportion to $n \\times \\log n$. Example: efficient sorting algorithms like merge sort.\n",
    "- **$O(n^2)$** — *Quadratic Time*: The runtime grows with the square of the input size. Example: simple sorting algorithms like bubble sort.\n",
    "- **$O(2^n)$** — *Exponential Time*: The runtime doubles with each additional input element. Example: recursive algorithms for the Fibonacci sequence without memoization.\n",
    "- **$O(n!)$** — *Factorial Time*: The runtime grows as the factorial of the input size. Example: algorithms that generate all possible permutations of a set."
   ]
  },
  {
   "cell_type": "markdown",
   "metadata": {},
   "source": [
    "### Big-O examples\n",
    "\n",
    "<div>\n",
    "<center>\n",
    "    <img src=\"images/big-o.png\" width=\"400\" alt=\"big-O\" />\n",
    "</center>\n",
    "</div>\n",
    "\n",
    "[R. Shrestha. [The Big-Oh (O)— A beginners guide](https://articles.wesionary.team/the-big-oh-o-a-beginners-guide-a4c48af39bfa) (2023).]"
   ]
  },
  {
   "cell_type": "markdown",
   "metadata": {
    "slideshow": {
     "slide_type": "slide"
    }
   },
   "source": [
    "### Examples of different $O(N)$"
   ]
  },
  {
   "cell_type": "markdown",
   "metadata": {
    "slideshow": {
     "slide_type": "slide"
    }
   },
   "source": [
    "#### $O(\\log N)$: binary search\n",
    "\n",
    "Binary search is an efficient algorithm for finding an element in a sorted sequence. It works by repeatedly dividing the search interval in half:\n",
    "\n",
    "1. Compare the target element `x` with the middle element of the sequence.\n",
    "2. If the middle element is equal to `x`, the search is successful, and the index of the middle element is returned.\n",
    "3. If `x` is greater than the middle element, the search continues in the right half of the sequence.\n",
    "4. If `x` is less than the middle element, the search continues in the left half of the sequence.\n",
    "5. This process is repeated on the new half until the target element is found or the search interval is empty."
   ]
  },
  {
   "cell_type": "code",
   "execution_count": 30,
   "metadata": {
    "slideshow": {
     "slide_type": "slide"
    }
   },
   "outputs": [],
   "source": [
    "def binary_search(arr, target):\n",
    "    \"\"\"\n",
    "    Perform binary search on a sorted array to find the target value and count comparisons.\n",
    "    \n",
    "    Parameters\n",
    "    ----------\n",
    "    arr : list of int\n",
    "        The sorted array to search.\n",
    "    target : int\n",
    "        The value to search for.\n",
    "    \n",
    "    Returns\n",
    "    -------\n",
    "    tuple\n",
    "        A tuple containing the index of the target value if found (otherwise -1) and the number of comparisons made.\n",
    "    \"\"\"\n",
    "    left, right = 0, len(arr) - 1\n",
    "    comparisons = 0\n",
    "    while left <= right:\n",
    "        comparisons += 1\n",
    "        mid = (left + right) // 2\n",
    "        if arr[mid] == target:\n",
    "            return mid, comparisons\n",
    "        elif arr[mid] < target:\n",
    "            left = mid + 1\n",
    "        else:\n",
    "            right = mid - 1\n",
    "    return -1, comparisons"
   ]
  },
  {
   "cell_type": "code",
   "execution_count": 31,
   "metadata": {},
   "outputs": [
    {
     "data": {
      "image/png": "[encoded data removed]",
      "text/plain": [
       "<Figure size 1000x600 with 1 Axes>"
      ]
     },
     "metadata": {},
     "output_type": "display_data"
    }
   ],
   "source": [
    "import numpy as np\n",
    "import matplotlib.pyplot as plt\n",
    "\n",
    "n_values = np.arange(1, 1001)\n",
    "comparisons = [binary_search(list(range(n)), -1)[1] for n in n_values]\n",
    "\n",
    "# Plot the data\n",
    "plt.figure(figsize=(10, 6))\n",
    "plt.plot(n_values, comparisons)\n",
    "plt.xlabel(r'$N$')\n",
    "plt.ylabel('Number of steps')\n",
    "plt.grid(True)\n",
    "plt.show()"
   ]
  },
  {
   "cell_type": "markdown",
   "metadata": {
    "slideshow": {
     "slide_type": "slide"
    }
   },
   "source": [
    "#### $O(N)$: Search for a maximum\n",
    "\n",
    "Maximum search is a straightforward algorithm for finding the largest element in a sequence.\n",
    "\n",
    "1. Start by assuming the first element in the sequence is the maximum.\n",
    "2. Iterate through each element in the sequence.\n",
    "3. For each element, compare it with the current assumed maximum.\n",
    "4. If the current element is greater than the assumed maximum, update the assumed maximum to this new element.\n",
    "5. Continue this process until all elements in the sequence have been compared.\n",
    "6. By the end of the iteration, the assumed maximum will be the largest element in the sequence."
   ]
  },
  {
   "cell_type": "code",
   "execution_count": 32,
   "metadata": {
    "slideshow": {
     "slide_type": "-"
    }
   },
   "outputs": [],
   "source": [
    "def find_maximum(seq):\n",
    "    \"\"\"\n",
    "    Find the maximum value in a sequence and count the number of iterations.\n",
    "    \n",
    "    Parameters\n",
    "    ----------\n",
    "    seq : list of int\n",
    "        The sequence to search.\n",
    "    \n",
    "    Returns\n",
    "    -------\n",
    "    tuple\n",
    "        A tuple containing the maximum value in the sequence and the number of iterations.\n",
    "    \"\"\"\n",
    "    current_max = seq[0]\n",
    "    iterations = 0\n",
    "    for i in seq:\n",
    "        iterations += 1\n",
    "        if i > current_max:\n",
    "            current_max = i\n",
    "    return current_max, iterations"
   ]
  },
  {
   "cell_type": "code",
   "execution_count": 33,
   "metadata": {},
   "outputs": [
    {
     "data": {
      "image/png": "[encoded data removed]",
      "text/plain": [
       "<Figure size 1000x600 with 1 Axes>"
      ]
     },
     "metadata": {},
     "output_type": "display_data"
    }
   ],
   "source": [
    "n_values = np.arange(1, 1001, 100)\n",
    "iterations = []\n",
    "\n",
    "for n in n_values:\n",
    "    seq = list(range(n))\n",
    "    _, iter_count = find_maximum(seq)\n",
    "    iterations.append(iter_count)\n",
    "\n",
    "# Plot the data\n",
    "plt.figure(figsize=(10, 6))\n",
    "plt.plot(n_values, iterations)\n",
    "plt.xlabel(r'$N$')\n",
    "plt.ylabel('Number of steps')\n",
    "plt.grid(True)\n",
    "plt.show()"
   ]
  },
  {
   "cell_type": "markdown",
   "metadata": {
    "slideshow": {
     "slide_type": "slide"
    }
   },
   "source": [
    "#### $O(N^{2})$: Look for all pairs (nested for loops)\n",
    "\n",
    "The `find_pairs_with_sum` function finds all pairs of elements in a 1D sequence that sum up to a specific target value.\n",
    "\n",
    "1. Initialize an empty list to store the pairs and a counter for the number of iterations.\n",
    "2. Iterate through each element in the sequence using an outer loop.\n",
    "3. For each element in the outer loop, iterate through the subsequent elements using an inner loop.\n",
    "4. For each pair of elements, check if their sum equals the target value.\n",
    "5. If the sum equals the target value, add the pair to the list of pairs.\n",
    "6. Increment the iteration counter for each pair checked.\n",
    "7. Continue this process until all pairs have been checked.\n",
    "8. Return the list of pairs and the number of iterations."
   ]
  },
  {
   "cell_type": "code",
   "execution_count": 34,
   "metadata": {
    "slideshow": {
     "slide_type": "skip"
    }
   },
   "outputs": [],
   "source": [
    "def find_pairs_with_sum(seq, target):\n",
    "    \"\"\"\n",
    "    Find all pairs of elements in the sequence that sum up to the target value and count the number of iterations.\n",
    "    \n",
    "    Parameters\n",
    "    ----------\n",
    "    seq : list of int\n",
    "        The sequence to search.\n",
    "    target : int\n",
    "        The target sum value.\n",
    "    \n",
    "    Returns\n",
    "    -------\n",
    "    tuple\n",
    "        A tuple containing the list of pairs and the number of iterations.\n",
    "    \"\"\"\n",
    "    pairs = []\n",
    "    iterations = 0\n",
    "    for i in range(len(seq)):\n",
    "        for j in range(i + 1, len(seq)):\n",
    "            iterations += 1\n",
    "            if seq[i] + seq[j] == target:\n",
    "                pairs.append((seq[i], seq[j]))\n",
    "    return pairs, iterations"
   ]
  },
  {
   "cell_type": "code",
   "execution_count": 35,
   "metadata": {
    "slideshow": {
     "slide_type": "skip"
    }
   },
   "outputs": [
    {
     "data": {
      "image/png": "[encoded data removed]",
      "text/plain": [
       "<Figure size 1000x600 with 1 Axes>"
      ]
     },
     "metadata": {},
     "output_type": "display_data"
    }
   ],
   "source": [
    "n_values = np.arange(1, 501, 10)\n",
    "iterations = []\n",
    "\n",
    "for n in n_values:\n",
    "    seq = list(range(n))\n",
    "    _, iter_count = find_pairs_with_sum(seq, n)  # Use n as the target to ensure some pairs exist\n",
    "    iterations.append(iter_count)\n",
    "\n",
    "# Plot the data\n",
    "plt.figure(figsize=(10, 6))\n",
    "plt.plot(n_values, iterations)\n",
    "plt.xlabel(r'$N$')\n",
    "plt.ylabel('Number of steps')\n",
    "plt.grid(True)\n",
    "plt.show()"
   ]
  },
  {
   "cell_type": "markdown",
   "metadata": {
    "slideshow": {
     "slide_type": "slide"
    }
   },
   "source": [
    "#### $O(N^{3})$: Find all triplets (three nested for loops)\n",
    "\n",
    "The `find_triplets_with_sum` function finds all triplets of elements in a 1D sequence that sum up to a specific target value.\n",
    "\n",
    "1. Initialize an empty list to store the triplets and a counter for the number of iterations.\n",
    "2. Iterate through each element in the sequence using an outer loop.\n",
    "3. For each element in the outer loop, iterate through the subsequent elements using a middle loop.\n",
    "4. For each element in the middle loop, iterate through the subsequent elements using an inner loop.\n",
    "5. For each triplet of elements, check if their sum equals the target value.\n",
    "6. If the sum equals the target value, add the triplet to the list of triplets.\n",
    "7. Increment the iteration counter for each triplet checked.\n",
    "8. Continue this process until all triplets have been checked.\n",
    "9. Return the list of triplets and the number of iterations."
   ]
  },
  {
   "cell_type": "code",
   "execution_count": 36,
   "metadata": {
    "slideshow": {
     "slide_type": "skip"
    }
   },
   "outputs": [],
   "source": [
    "def find_triplets_with_sum(seq, target):\n",
    "    \"\"\"\n",
    "    Find all triplets of elements in the sequence that sum up to the target value and count the number of iterations.\n",
    "    \n",
    "    Parameters\n",
    "    ----------\n",
    "    seq : list of int\n",
    "        The sequence to search.\n",
    "    target : int\n",
    "        The target sum value.\n",
    "    \n",
    "    Returns\n",
    "    -------\n",
    "    tuple\n",
    "        A tuple containing the list of triplets and the number of iterations.\n",
    "    \"\"\"\n",
    "    triplets = []\n",
    "    iterations = 0\n",
    "    for i in range(len(seq)):\n",
    "        for j in range(i + 1, len(seq)):\n",
    "            for k in range(j + 1, len(seq)):\n",
    "                iterations += 1\n",
    "                if seq[i] + seq[j] + seq[k] == target:\n",
    "                    triplets.append((seq[i], seq[j], seq[k]))\n",
    "    return triplets, iterations"
   ]
  },
  {
   "cell_type": "code",
   "execution_count": 37,
   "metadata": {
    "slideshow": {
     "slide_type": "skip"
    }
   },
   "outputs": [
    {
     "data": {
      "image/png": "[encoded data removed]",
      "text/plain": [
       "<Figure size 1000x600 with 1 Axes>"
      ]
     },
     "metadata": {},
     "output_type": "display_data"
    }
   ],
   "source": [
    "n_values = np.arange(1, 101, 5)\n",
    "iterations = []\n",
    "\n",
    "for n in n_values:\n",
    "    seq = list(range(n))\n",
    "    _, iter_count = find_triplets_with_sum(seq, n)  # Use n as the target to ensure some triplets exist\n",
    "    iterations.append(iter_count)\n",
    "\n",
    "# Plot the data\n",
    "plt.figure(figsize=(10, 6))\n",
    "plt.plot(n_values, iterations)\n",
    "plt.xlabel(r'$N$')\n",
    "plt.ylabel('Number of steps')\n",
    "plt.grid(True)\n",
    "plt.show()"
   ]
  },
  {
   "cell_type": "markdown",
   "metadata": {
    "slideshow": {
     "slide_type": "slide"
    }
   },
   "source": [
    "#### $O(N\\log N)$: merge sort\n",
    "\n",
    "Merge sort is a divide-and-conquer algorithm used to sort a sequence of elements.\n",
    "\n",
    "1. **Divide**: Recursively divide the sequence into two halves until each sub-sequence contains a single element.\n",
    "2. **Conquer**: Sort each sub-sequence. Since each sub-sequence contains only one element, they are already sorted.\n",
    "3. **Merge**: Merge the sorted sub-sequences to produce new sorted sequences until a single sorted sequence is obtained."
   ]
  },
  {
   "cell_type": "code",
   "execution_count": 38,
   "metadata": {
    "slideshow": {
     "slide_type": "skip"
    }
   },
   "outputs": [],
   "source": [
    "def merge_sort(arr):\n",
    "    \"\"\"\n",
    "    Sort an array using the merge sort algorithm and count the number of operations.\n",
    "    \n",
    "    Parameters\n",
    "    ----------\n",
    "    arr : list of int\n",
    "        The array to sort.\n",
    "    \n",
    "    Returns\n",
    "    -------\n",
    "    tuple\n",
    "        A tuple containing the sorted array and the number of operations.\n",
    "    \"\"\"\n",
    "    if len(arr) <= 1:\n",
    "        return arr, 0\n",
    "\n",
    "    mid = len(arr) // 2\n",
    "    left, left_ops = merge_sort(arr[:mid])\n",
    "    right, right_ops = merge_sort(arr[mid:])\n",
    "    merged, merge_ops = merge(left, right)\n",
    "    \n",
    "    return merged, left_ops + right_ops + merge_ops\n",
    "\n",
    "def merge(left, right):\n",
    "    \"\"\"\n",
    "    Merge two sorted arrays and count the number of operations.\n",
    "    \n",
    "    Parameters\n",
    "    ----------\n",
    "    left : list of int\n",
    "        The left sorted array.\n",
    "    right : list of int\n",
    "        The right sorted array.\n",
    "    \n",
    "    Returns\n",
    "    -------\n",
    "    tuple\n",
    "        A tuple containing the merged sorted array and the number of operations.\n",
    "    \"\"\"\n",
    "    result = []\n",
    "    i = j = 0\n",
    "    operations = 0\n",
    "\n",
    "    while i < len(left) and j < len(right):\n",
    "        operations += 1\n",
    "        if left[i] < right[j]:\n",
    "            result.append(left[i])\n",
    "            i += 1\n",
    "        else:\n",
    "            result.append(right[j])\n",
    "            j += 1\n",
    "\n",
    "    result.extend(left[i:])\n",
    "    result.extend(right[j:])\n",
    "    operations += len(left) - i + len(right) - j\n",
    "\n",
    "    return result, operations"
   ]
  },
  {
   "cell_type": "code",
   "execution_count": 39,
   "metadata": {
    "slideshow": {
     "slide_type": "skip"
    }
   },
   "outputs": [
    {
     "data": {
      "image/png": "[encoded data removed]",
      "text/plain": [
       "<Figure size 1000x600 with 1 Axes>"
      ]
     },
     "metadata": {},
     "output_type": "display_data"
    }
   ],
   "source": [
    "n_values = np.arange(1, 10001, 100)\n",
    "operations = []\n",
    "\n",
    "for n in n_values:\n",
    "    arr = list(range(n, 0, -1))  # Reverse sorted array to ensure worst-case scenario\n",
    "    _, ops_count = merge_sort(arr)\n",
    "    operations.append(ops_count)\n",
    "\n",
    "# Plot the data\n",
    "plt.figure(figsize=(10, 6))\n",
    "plt.plot(n_values, operations, label='Merge Sort Operations (O(N log N))')\n",
    "plt.xlabel('Number of Elements (N)')\n",
    "plt.ylabel('Number of Operations')\n",
    "plt.title('Merge Sort Time Complexity (O(N log N))')\n",
    "plt.legend()\n",
    "plt.grid(True)\n",
    "plt.show()"
   ]
  },
  {
   "cell_type": "markdown",
   "metadata": {
    "slideshow": {
     "slide_type": "slide"
    }
   },
   "source": [
    "## Optimisation 🚀"
   ]
  },
  {
   "cell_type": "markdown",
   "metadata": {
    "slideshow": {
     "slide_type": "slide"
    }
   },
   "source": [
    "*“Premature optimisation is the root of all evil”* - [Sir Tony Hoare](https://en.wikipedia.org/wiki/Tony_Hoare) (or [Donald Knuth](https://en.wikipedia.org/wiki/Donald_Knuth))"
   ]
  },
  {
   "cell_type": "markdown",
   "metadata": {
    "slideshow": {
     "slide_type": "slide"
    }
   },
   "source": [
    "## When we (should) optimise\n",
    "\n",
    "1. **Make it work**: write the code in a simple, readable, and maintainable way.\n",
    "2. **Make it reliable**: write tests and make sure that if we break the code, the tests will let us know\n",
    "3. **Measure, measure, measure**: Measure the performance, do not guess!\n",
    "4. **Convince ourselves that our code is too slow**: Does it hurt if it runs too slow?\n",
    "5. **Consider the costs of optimisation**: Hardware is cheaper than the developer's time.\n",
    "6. **Optimise**"
   ]
  },
  {
   "cell_type": "code",
   "execution_count": 40,
   "metadata": {
    "slideshow": {
     "slide_type": "slide"
    }
   },
   "outputs": [
    {
     "name": "stdout",
     "output_type": "stream",
     "text": [
      "The Zen of Python, by Tim Peters\n",
      "\n",
      "Beautiful is better than ugly.\n",
      "Explicit is better than implicit.\n",
      "Simple is better than complex.\n",
      "Complex is better than complicated.\n",
      "Flat is better than nested.\n",
      "Sparse is better than dense.\n",
      "Readability counts.\n",
      "Special cases aren't special enough to break the rules.\n",
      "Although practicality beats purity.\n",
      "Errors should never pass silently.\n",
      "Unless explicitly silenced.\n",
      "In the face of ambiguity, refuse the temptation to guess.\n",
      "There should be one-- and preferably only one --obvious way to do it.\n",
      "Although that way may not be obvious at first unless you're Dutch.\n",
      "Now is better than never.\n",
      "Although never is often better than *right* now.\n",
      "If the implementation is hard to explain, it's a bad idea.\n",
      "If the implementation is easy to explain, it may be a good idea.\n",
      "Namespaces are one honking great idea -- let's do more of those!\n"
     ]
    }
   ],
   "source": [
    "import this"
   ]
  },
  {
   "cell_type": "markdown",
   "metadata": {
    "slideshow": {
     "slide_type": "slide"
    }
   },
   "source": [
    "### General gudelines\n",
    "\n",
    "1. Convince yourself that your program is too slow.\n",
    "    - Does it hurt if the program runs slowly?\n",
    "    - Is it slow for a realistic use case?\n",
    "    - Are there any external causes (network, IO, ...)\n",
    "    - Find bottlenecks by profiling - measure, don't guess!\n",
    "    - *\"One accurate measurement is worth a thousand expert opinions\".* - **Grace Hopper**\n",
    "2. Optimisation costs.\n",
    "    - Optimisation is time consuming.\n",
    "    - How much readibility and maintainability will suffer?\n",
    "    - Is it cheaper to use better hardware (hardware is cheaper than the developer time).\n",
    "3. Do not optimize while you develop\n",
    "    - Correct first, fast later.\n",
    "4. Always check the result of optimisation (unit tests, coverage)"
   ]
  },
  {
   "cell_type": "markdown",
   "metadata": {
    "slideshow": {
     "slide_type": "slide"
    }
   },
   "source": [
    "### Algorithmic optimisation\n",
    "\n",
    "- Generally, it is the first thing to look for.\n",
    "- Are there any ways to compute less?\n",
    "- Can we use an algorithm with different big O?"
   ]
  },
  {
   "cell_type": "markdown",
   "metadata": {
    "slideshow": {
     "slide_type": "slide"
    }
   },
   "source": [
    "### Example\n",
    "\n",
    "How could we rewrite the following code to run faster?\n",
    "\n",
    "**Hint:** Have a look at Python `set` datatype and its operators (https://realpython.com/python-sets/)."
   ]
  },
  {
   "cell_type": "code",
   "execution_count": 41,
   "metadata": {
    "slideshow": {
     "slide_type": "-"
    }
   },
   "outputs": [],
   "source": [
    "import numpy as np\n",
    "\n",
    "x = np.random.randint(0, 1000, 10000)\n",
    "y = np.random.randint(0, 1000, 10000)\n",
    "\n",
    "def find_common_elements(x, y):\n",
    "    \"\"\"Find common elements in arrays x and y.\"\"\"\n",
    "    res = []\n",
    "    for i in x:\n",
    "        for j in y:\n",
    "            if i==j and i not in res:\n",
    "                res.append(i)\n",
    "    return res"
   ]
  },
  {
   "cell_type": "code",
   "execution_count": 42,
   "metadata": {
    "slideshow": {
     "slide_type": "-"
    }
   },
   "outputs": [
    {
     "name": "stdout",
     "output_type": "stream",
     "text": [
      "9.18 s ± 0 ns per loop (mean ± std. dev. of 1 run, 1 loop each)\n"
     ]
    }
   ],
   "source": [
    "%timeit -n 1 -r 1 find_common_elements(x, y)"
   ]
  },
  {
   "cell_type": "markdown",
   "metadata": {
    "slideshow": {
     "slide_type": "slide"
    }
   },
   "source": [
    "If we use sets:"
   ]
  },
  {
   "cell_type": "code",
   "execution_count": 43,
   "metadata": {
    "slideshow": {
     "slide_type": "-"
    }
   },
   "outputs": [],
   "source": [
    "def using_sets(x, y):\n",
    "    return list(set(x) & set(y))"
   ]
  },
  {
   "cell_type": "code",
   "execution_count": 44,
   "metadata": {
    "slideshow": {
     "slide_type": "-"
    }
   },
   "outputs": [
    {
     "name": "stdout",
     "output_type": "stream",
     "text": [
      "1.89 ms ± 56.5 µs per loop (mean ± std. dev. of 7 runs, 100 loops each)\n"
     ]
    }
   ],
   "source": [
    "%timeit using_sets(x, y)"
   ]
  },
  {
   "cell_type": "markdown",
   "metadata": {
    "slideshow": {
     "slide_type": "slide"
    }
   },
   "source": [
    "### Let NumPy/pandas do the work\n",
    "\n",
    "#### Example: Computing the mean"
   ]
  },
  {
   "cell_type": "code",
   "execution_count": 45,
   "metadata": {
    "slideshow": {
     "slide_type": "-"
    }
   },
   "outputs": [],
   "source": [
    "A = np.random.rand(100, 100)\n",
    "\n",
    "def mean_loops(A):\n",
    "    s = 0\n",
    "    for i in range(A.shape[0]):\n",
    "        for j in range(A.shape[1]):\n",
    "            s += A[i, j]\n",
    "    return s / A.size\n",
    "\n",
    "def mean_numpy(A):\n",
    "    return A.mean()  # or np.mean(A)"
   ]
  },
  {
   "cell_type": "code",
   "execution_count": 46,
   "metadata": {
    "slideshow": {
     "slide_type": "slide"
    }
   },
   "outputs": [
    {
     "name": "stdout",
     "output_type": "stream",
     "text": [
      "2 ms ± 56.2 µs per loop (mean ± std. dev. of 7 runs, 100 loops each)\n"
     ]
    }
   ],
   "source": [
    "%timeit mean_loops(A)"
   ]
  },
  {
   "cell_type": "code",
   "execution_count": 47,
   "metadata": {
    "slideshow": {
     "slide_type": "-"
    }
   },
   "outputs": [
    {
     "name": "stdout",
     "output_type": "stream",
     "text": [
      "9.56 µs ± 93.3 ns per loop (mean ± std. dev. of 7 runs, 100,000 loops each)\n"
     ]
    }
   ],
   "source": [
    "%timeit mean_numpy(A)"
   ]
  },
  {
   "cell_type": "markdown",
   "metadata": {
    "slideshow": {
     "slide_type": "slide"
    }
   },
   "source": [
    "#### Example: Matrix-matrix multiplication"
   ]
  },
  {
   "cell_type": "code",
   "execution_count": 48,
   "metadata": {
    "slideshow": {
     "slide_type": "-"
    }
   },
   "outputs": [],
   "source": [
    "A = np.random.rand(100, 100)\n",
    "B = np.random.rand(100, 100)\n",
    "\n",
    "def matmult_loops(A, B):\n",
    "    res = np.zeros([A.shape[0], B.shape[1]])\n",
    "    for i in range(res.shape[0]):\n",
    "        for j in range(res.shape[1]):\n",
    "            for k in range(res.shape[1]):\n",
    "                res[i, j] += A[i, k] * B[k, j]\n",
    "    return res\n",
    "\n",
    "def matmult_numpy(A, B):\n",
    "    return A @ B  # np.matmult(A, B)\n",
    "\n",
    "assert np.allclose(matmult_loops(A, B), A @ B)"
   ]
  },
  {
   "cell_type": "code",
   "execution_count": 49,
   "metadata": {
    "slideshow": {
     "slide_type": "slide"
    }
   },
   "outputs": [
    {
     "name": "stdout",
     "output_type": "stream",
     "text": [
      "629 ms ± 4.32 ms per loop (mean ± std. dev. of 7 runs, 1 loop each)\n"
     ]
    }
   ],
   "source": [
    "%timeit matmult_loops(A, B)"
   ]
  },
  {
   "cell_type": "code",
   "execution_count": 50,
   "metadata": {
    "slideshow": {
     "slide_type": "-"
    }
   },
   "outputs": [
    {
     "name": "stdout",
     "output_type": "stream",
     "text": [
      "89.6 µs ± 1.14 µs per loop (mean ± std. dev. of 7 runs, 10,000 loops each)\n"
     ]
    }
   ],
   "source": [
    "%timeit matmult_numpy(A, B)"
   ]
  },
  {
   "cell_type": "markdown",
   "metadata": {
    "slideshow": {
     "slide_type": "slide"
    }
   },
   "source": [
    "### Memoisation (caching) - do not compute the same thing twice.\n",
    "\n",
    "#### Example: Fibonacci"
   ]
  },
  {
   "cell_type": "code",
   "execution_count": 51,
   "metadata": {
    "slideshow": {
     "slide_type": "-"
    }
   },
   "outputs": [],
   "source": [
    "def fibonacci(n):\n",
    "    if n == 0:\n",
    "        return 0\n",
    "    elif n == 1:\n",
    "        return 1\n",
    "    else:\n",
    "        return fibonacci(n-1) + fibonacci(n-2)"
   ]
  },
  {
   "cell_type": "code",
   "execution_count": 52,
   "metadata": {
    "slideshow": {
     "slide_type": "-"
    }
   },
   "outputs": [
    {
     "name": "stdout",
     "output_type": "stream",
     "text": [
      "3.69 s ± 79.6 ms per loop (mean ± std. dev. of 7 runs, 1 loop each)\n"
     ]
    }
   ],
   "source": [
    "%timeit fibonacci(35)"
   ]
  },
  {
   "cell_type": "markdown",
   "metadata": {
    "slideshow": {
     "slide_type": "slide"
    }
   },
   "source": [
    "We can use `cache` to save the results of previous calls."
   ]
  },
  {
   "cell_type": "code",
   "execution_count": 53,
   "metadata": {
    "slideshow": {
     "slide_type": "-"
    }
   },
   "outputs": [],
   "source": [
    "import functools\n",
    "\n",
    "@functools.cache\n",
    "def fibonacci(n):\n",
    "    if n == 0:  # There is no 0'th number\n",
    "        return 0\n",
    "    elif n == 1:  # We define the first number as 1\n",
    "        return 1\n",
    "    return fibonacci(n-1) + fibonacci(n-2)"
   ]
  },
  {
   "cell_type": "code",
   "execution_count": 54,
   "metadata": {
    "slideshow": {
     "slide_type": "-"
    }
   },
   "outputs": [
    {
     "name": "stdout",
     "output_type": "stream",
     "text": [
      "86.8 ns ± 3.78 ns per loop (mean ± std. dev. of 7 runs, 10,000,000 loops each)\n"
     ]
    }
   ],
   "source": [
    "%timeit fibonacci(35)"
   ]
  },
  {
   "cell_type": "markdown",
   "metadata": {
    "slideshow": {
     "slide_type": "slide"
    }
   },
   "source": [
    "### Exercise 3: Caching\n",
    "\n",
    "In one of the previous exercises, we wrote a function for computing factorial using recursion. Measure how much the performance improves if caching is used. Measure performance for `n=100`.\n",
    "\n",
    "#### Solution"
   ]
  },
  {
   "cell_type": "code",
   "execution_count": 55,
   "metadata": {
    "slideshow": {
     "slide_type": "skip"
    }
   },
   "outputs": [],
   "source": [
    "import functools\n",
    "\n",
    "def factorial_no_cache(n):\n",
    "    if n == 0:\n",
    "        return 1\n",
    "    else:\n",
    "        return n * factorial_no_cache(n-1)\n",
    "    \n",
    "    \n",
    "@functools.cache\n",
    "def factorial_cache(n):\n",
    "    if n == 0:\n",
    "        return 1\n",
    "    else:\n",
    "        return n * factorial_cache(n-1)"
   ]
  },
  {
   "cell_type": "code",
   "execution_count": 56,
   "metadata": {
    "slideshow": {
     "slide_type": "skip"
    }
   },
   "outputs": [
    {
     "name": "stdout",
     "output_type": "stream",
     "text": [
      "15.4 µs ± 995 ns per loop (mean ± std. dev. of 7 runs, 10,000 loops each)\n"
     ]
    }
   ],
   "source": [
    "%timeit factorial_no_cache(100)"
   ]
  },
  {
   "cell_type": "code",
   "execution_count": 57,
   "metadata": {
    "slideshow": {
     "slide_type": "skip"
    }
   },
   "outputs": [
    {
     "name": "stdout",
     "output_type": "stream",
     "text": [
      "78.3 ns ± 2.13 ns per loop (mean ± std. dev. of 7 runs, 10,000,000 loops each)\n"
     ]
    }
   ],
   "source": [
    "%timeit factorial_cache(100)"
   ]
  },
  {
   "cell_type": "markdown",
   "metadata": {
    "slideshow": {
     "slide_type": "slide"
    }
   },
   "source": [
    "### Exercise 4: Code optimisation\n",
    "\n",
    "Below is the code for estimating $\\pi$ that we used previously to practice profiling.\n",
    "\n",
    "1. Run the following cell, which measures the wall time for `estimate_pi(1_000_000).`\n",
    "2. Using profiling and optimisation, optimise the code. Make it as fast as you can.How much were you able to reduce the wall time?"
   ]
  },
  {
   "cell_type": "code",
   "execution_count": 58,
   "metadata": {
    "slideshow": {
     "slide_type": "skip"
    }
   },
   "outputs": [
    {
     "name": "stdout",
     "output_type": "stream",
     "text": [
      "703 ms ± 8.72 ms per loop (mean ± std. dev. of 7 runs, 1 loop each)\n"
     ]
    }
   ],
   "source": [
    "def random_list(size):\n",
    "    \"\"\"\n",
    "    Generate a list of random numbers between 0 and 1.\n",
    "    \n",
    "    Parameters\n",
    "    ----------\n",
    "    size : int\n",
    "        The number of random numbers to generate.\n",
    "    \n",
    "    Returns\n",
    "    -------\n",
    "    list of float\n",
    "        A list of random numbers between 0 and 1.\n",
    "    \"\"\"\n",
    "    return [random.random() for _ in range(size)]\n",
    "\n",
    "def distance(x, y):\n",
    "    \"\"\"\n",
    "    Compute the distance of a point (x, y) from the origin (0, 0).\n",
    "    \n",
    "    Parameters\n",
    "    ----------\n",
    "    x : float\n",
    "        The x-coordinate of the point.\n",
    "    y : float\n",
    "        The y-coordinate of the point.\n",
    "    \n",
    "    Returns\n",
    "    -------\n",
    "    float\n",
    "        The distance from the origin.\n",
    "    \"\"\"\n",
    "    return (x**2 + y**2)**0.5\n",
    "\n",
    "def estimate_pi(n):\n",
    "    \"\"\"Estimate the value of pi using Monte Carlo simulation.\n",
    "    \n",
    "    Parameters\n",
    "    ----------\n",
    "    n : int\n",
    "        The number of random points generated.\n",
    "        \n",
    "    Returns\n",
    "    -------\n",
    "    float\n",
    "        An estimate of pi.\n",
    "\n",
    "    \"\"\"\n",
    "    x_list = random_list(n)\n",
    "    y_list = random_list(n)\n",
    "    \n",
    "    in_circle = 0\n",
    "    for x, y in zip(x_list, y_list):\n",
    "        if distance(x, y) <= 1:\n",
    "            in_circle += 1\n",
    "            \n",
    "    return 4*in_circle / n\n",
    "\n",
    "%timeit estimate_pi(n=1_000_000)"
   ]
  },
  {
   "cell_type": "markdown",
   "metadata": {},
   "source": [
    "#### Solution\n",
    "\n",
    "This is an open ended problem. There are a lot of possible solutions. The solution I am giving you is just one of them.\n",
    "\n",
    "(If you managed to speed up your code more than 10 times, you did a great job!)"
   ]
  },
  {
   "cell_type": "code",
   "execution_count": 59,
   "metadata": {
    "slideshow": {
     "slide_type": "skip"
    }
   },
   "outputs": [
    {
     "name": "stdout",
     "output_type": "stream",
     "text": [
      "35.6 ms ± 882 µs per loop (mean ± std. dev. of 7 runs, 10 loops each)\n"
     ]
    }
   ],
   "source": [
    "import numpy as np\n",
    "\n",
    "def estimate_pi(n):\n",
    "    \"\"\"Estimate the value of pi using Monte Carlo simulation.\n",
    "    \n",
    "    Parameters\n",
    "    ----------\n",
    "    n : int\n",
    "        The number of random points generated.\n",
    "        \n",
    "    Returns\n",
    "    -------\n",
    "    float\n",
    "        An estimate of pi.\n",
    "\n",
    "    \"\"\"\n",
    "    x = 2*np.random.rand(n) - 1\n",
    "    y = 2*np.random.rand(n) - 1\n",
    "    return 4 * (np.sqrt(x*x + y*y) < 1).sum() / n\n",
    "\n",
    "%timeit estimate_pi(n=1_000_000)"
   ]
  },
  {
   "cell_type": "markdown",
   "metadata": {
    "slideshow": {
     "slide_type": "slide"
    }
   },
   "source": [
    "### My code is still slow. What now?\n",
    "\n",
    "* Replace as much of your code with third-party libraries - they are likely better optimised than what you had time for. \n",
    "* Are you using all the cores in your system? Following step 1 above first will likely mean this is true. If you still see only one core being used, you need to parallelise your program. Tomorrow's lecture will introduce that. \n",
    "* You could transfer the hot spots, i.e. the few lines or functions in which most of the time is spent, to compiled code ([numba](https://numba.pydata.org) or [Cython](https://cython.org/))."
   ]
  },
  {
   "cell_type": "markdown",
   "metadata": {},
   "source": [
    "### Feedback form\n",
    "\n",
    "I’d love to hear your thoughts on today’s lecture — your feedback helps me make future sessions better for you!\n",
    "\n",
    "https://forms.office.com/e/BiekMgPTMm"
   ]
  }
 ],
 "metadata": {
  "celltoolbar": "Slideshow",
  "kernelspec": {
   "display_name": "Python 3 (ipykernel)",
   "language": "python",
   "name": "python3"
  },
  "language_info": {
   "codemirror_mode": {
    "name": "ipython",
    "version": 3
   },
   "file_extension": ".py",
   "mimetype": "text/x-python",
   "name": "python",
   "nbconvert_exporter": "python",
   "pygments_lexer": "ipython3",
   "version": "3.10.4"
  }
 },
 "nbformat": 4,
 "nbformat_minor": 4
}
