{
 "cells": [
  {
   "cell_type": "markdown",
   "id": "2f867990",
   "metadata": {},
   "source": [
    "# Algorithm analysis principles\n",
    "\n",
    "1. Pursue worst case analysis: no assumption with input\n",
    "\n",
    "$\\\\\\\\$\n",
    "\n",
    "2. Ignore constant factors & lower order terms:\n",
    "     * Easier to compute \n",
    "     * Constants highly depend on the programming language used, compiler, and OS\n",
    "     * Very little impact on result with large input size\n",
    "     \n",
    "$$\\\\\\\\$$\n",
    "\n",
    "3. Asymptotic Analysis: focus on large input size when size approaches infinity since smaller input size can be solved quickly with any method\n",
    "\n",
    "### Fast Algorithm = worst case complexity grows slowly with increasing input size"
   ]
  },
  {
   "cell_type": "markdown",
   "id": "a3e0a0f0",
   "metadata": {},
   "source": [
    "# Asmpototic Analysis\n",
    "1. Analyze high-level performance of an algorithm\n",
    "2. Suppress architecture, compiler, programming language depended details (constants & lower order terms)\n",
    "3. Enable comparison between different algorithm"
   ]
  },
  {
   "cell_type": "markdown",
   "id": "177914c5",
   "metadata": {},
   "source": [
    "# Time Complexity (number of operations)\n",
    "Time complexity measures the number of operations required for a program to execute based on the size of the input\n",
    "\n",
    "### Big O notation (Worst case)\n",
    "Let $n$ be the size of the input, $T(n)$ be the bound on the worst-case running time of an algorithm, and $f(n)$ be some canonical function ($n$, $n^2$, $log(n)$...)\n",
    "1. English definition: $T(n) = O(f(n))$ if and only if $T(n)$ is bounded by $constant * f(n)$ for sufficiently large input\n",
    "\n",
    "2. Mathematical definition: $T(n) = O(f(n))$ if and only if there exist positive constants $c$ and $n_0$ such that $T(n) \\leq c * f(n)$ for all $n \\geq n_0$\n",
    "\n",
    "### Big Omega notation (Best case)\n",
    "Mathematical definition: $T(n) = \\Omega(f(n))$ if and only if there exist positive constants $c$ and $n_0$ such that $T(n) \\geq c * f(n)$ for all $n \\geq n_0$\n",
    "\n",
    "### Big Theta notation (Average case)\n",
    "Mathematical definition: $T(n) = \\Theta(f(n))$ if and only if there exist positive constants $c_1$, $c_2$ and $n_0$ such that $ c_1 * f(n) \\leq T(n) \\leq c_2 * f(n)$ for all $n \\geq n_0$"
   ]
  },
  {
   "cell_type": "markdown",
   "id": "9466c0b7",
   "metadata": {},
   "source": [
    "# Space Complexity (amount of memories)\n",
    "Space complexity measures the amount of memories required for a program to execute based on the size of the input\n",
    "\n",
    "The space complexity consist:\n",
    "1. A fixed part: It is independent of the input size. It includes memory for instructions (code), constants, variables, etc\n",
    "\n",
    "2. A variable part: It is dependent on the input size. It includes memory for recursion stack, referenced variables, etc"
   ]
  },
  {
   "cell_type": "code",
   "execution_count": null,
   "id": "4cfe2304",
   "metadata": {},
   "outputs": [],
   "source": []
  }
 ],
 "metadata": {
  "kernelspec": {
   "display_name": "tf",
   "language": "python",
   "name": "tf"
  },
  "language_info": {
   "codemirror_mode": {
    "name": "ipython",
    "version": 3
   },
   "file_extension": ".py",
   "mimetype": "text/x-python",
   "name": "python",
   "nbconvert_exporter": "python",
   "pygments_lexer": "ipython3",
   "version": "3.9.15"
  }
 },
 "nbformat": 4,
 "nbformat_minor": 5
}
