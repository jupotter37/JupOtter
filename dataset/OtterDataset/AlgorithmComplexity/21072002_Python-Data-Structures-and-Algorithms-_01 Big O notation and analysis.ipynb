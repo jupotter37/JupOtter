{
 "cells": [
  {
   "cell_type": "markdown",
   "id": "ef1c6868",
   "metadata": {},
   "source": [
    "### Big O Notation\n",
    "\n",
    "#### Definition\n",
    "\n",
    "- Big O notation is a mathematical notation used to describe the upper bound or worst-case scenario of the time complexity or space complexity of an algorithm.\n",
    "- It provides an asymptotic analysis of how the runtime or space requirements of an algorithm grow with the input size.\n",
    "\n",
    "#### Key Points\n",
    "\n",
    "- Big O notation describes the upper limit of an algorithm's time or space complexity using a simple notation, O(f(n)), where f(n) is a mathematical function.\n",
    "- It helps in comparing and analyzing the efficiency and scalability of algorithms without getting into specific details.\n",
    "\n",
    "#### Common Big O Notations\n",
    "\n",
    "- **O(1)**: Constant time complexity (e.g., accessing an element in an array).\n",
    "- **O(log n)**: Logarithmic time complexity (e.g., binary search).\n",
    "- **O(n)**: Linear time complexity (e.g., simple loop over the input).\n",
    "- **O(n log n)**: Linearithmic time complexity (e.g., quicksort, mergesort).\n",
    "- **O(n^2)**: Quadratic time complexity (e.g., nested loops).\n",
    "- **O(2^n)**: Exponential time complexity (e.g., recursive algorithms with branching).\n"
   ]
  },
  {
   "cell_type": "code",
   "execution_count": 1,
   "id": "1c0135e1",
   "metadata": {},
   "outputs": [],
   "source": [
    "def example_algorithm(arr):\n",
    "    for item in arr:\n",
    "        print(item)\n",
    "\n",
    "# In this example, the time complexity is O(n) since it iterates through the input array once.\n"
   ]
  },
  {
   "cell_type": "markdown",
   "id": "0072fe28",
   "metadata": {},
   "source": [
    "Increasing order of complexity:\n",
    "\n",
    "1. **O(1)**: Constant time complexity.\n",
    "2. **O(log n)**: Logarithmic time complexity.\n",
    "3. **O(n)**: Linear time complexity.\n",
    "4. **O(n log n)**: Linearithmic time complexity.\n",
    "5. **O(n^2)**: Quadratic time complexity.\n",
    "6. **O(2^n)**: Exponential time complexity.\n",
    "\n",
    "As you move down this list, the algorithms become less efficient and take more time to execute as the input size increases.\n",
    "\n"
   ]
  },
  {
   "cell_type": "code",
   "execution_count": null,
   "id": "45330cf4",
   "metadata": {},
   "outputs": [],
   "source": []
  }
 ],
 "metadata": {
  "kernelspec": {
   "display_name": "Python 3 (ipykernel)",
   "language": "python",
   "name": "python3"
  },
  "language_info": {
   "codemirror_mode": {
    "name": "ipython",
    "version": 3
   },
   "file_extension": ".py",
   "mimetype": "text/x-python",
   "name": "python",
   "nbconvert_exporter": "python",
   "pygments_lexer": "ipython3",
   "version": "3.9.18"
  },
  "varInspector": {
   "cols": {
    "lenName": 16,
    "lenType": 16,
    "lenVar": 40
   },
   "kernels_config": {
    "python": {
     "delete_cmd_postfix": "",
     "delete_cmd_prefix": "del ",
     "library": "var_list.py",
     "varRefreshCmd": "print(var_dic_list())"
    },
    "r": {
     "delete_cmd_postfix": ") ",
     "delete_cmd_prefix": "rm(",
     "library": "var_list.r",
     "varRefreshCmd": "cat(var_dic_list()) "
    }
   },
   "types_to_exclude": [
    "module",
    "function",
    "builtin_function_or_method",
    "instance",
    "_Feature"
   ],
   "window_display": false
  }
 },
 "nbformat": 4,
 "nbformat_minor": 5
}
