{
 "cells": [
  {
   "cell_type": "markdown",
   "metadata": {
    "application/vnd.databricks.v1+cell": {
     "cellMetadata": {},
     "inputWidgets": {},
     "nuid": "da7e9d38-8136-4a42-bc69-5e8ae38c3b00",
     "showTitle": false,
     "title": ""
    }
   },
   "source": [
    "\n",
    "\n",
    "## Section 1: Introduction"
   ]
  },
  {
   "cell_type": "markdown",
   "metadata": {
    "application/vnd.databricks.v1+cell": {
     "cellMetadata": {},
     "inputWidgets": {},
     "nuid": "1edbcba1-09a8-4efe-a2c6-5d8b4c11c8c9",
     "showTitle": false,
     "title": ""
    }
   },
   "source": [
    "\n",
    "#### What is Data Structure?\n",
    "\n",
    "Data Structures are different ways of oraganizing data on computer, that can be used effectively."
   ]
  },
  {
   "cell_type": "markdown",
   "metadata": {
    "application/vnd.databricks.v1+cell": {
     "cellMetadata": {},
     "inputWidgets": {},
     "nuid": "5cd45372-8732-41f2-83d0-2869f49055b2",
     "showTitle": false,
     "title": ""
    }
   },
   "source": [
    "\n",
    "#### What is an algorithm? and what makes a good algorithm?\n",
    "\n",
    "Set of Instructions to perform a Task is an alogrithm, and 2 things required for good algorithm-\n",
    "- Correctness\n",
    "- Efficiency"
   ]
  },
  {
   "cell_type": "markdown",
   "metadata": {
    "application/vnd.databricks.v1+cell": {
     "cellMetadata": {},
     "inputWidgets": {},
     "nuid": "4bf723bc-210d-46fc-9a3e-af5c4811edfd",
     "showTitle": false,
     "title": ""
    }
   },
   "source": [
    "\n",
    "#### Why are Data Structures and Algorithms important?\n",
    "\n",
    "- Problem solving skills\n",
    "- Fundamental concepts of programming in limited time"
   ]
  },
  {
   "cell_type": "markdown",
   "metadata": {
    "application/vnd.databricks.v1+cell": {
     "cellMetadata": {},
     "inputWidgets": {},
     "nuid": "b2e2e87f-a26a-48c0-bd25-77683c7c6adc",
     "showTitle": false,
     "title": ""
    }
   },
   "source": [
    "\n",
    "#### Types of Data Structures\n",
    "\n",
    "- Primitive -> Interger | Float | String | Boolean\n",
    "- Non Primitive \n",
    "  - Linear - These data structures are use dto represent a seq of data where the order of elements is important.\n",
    "    - List\n",
    "    - Tuples\n",
    "    - Arrays\n",
    "    - Linked List\n",
    "    - Stack\n",
    "    - Queue\n",
    "  - Non Linear - In which the elements are not arranged in a sequential order. These data structures are used to represent a hierarchical relationship between data elements where each element is connected to one or more other elements in a specific way.\n",
    "    - Non Linear\n",
    "    - Set\n",
    "    - Dictionary\n",
    "    - Tree\n",
    "    - Graph\n",
    "  "
   ]
  },
  {
   "cell_type": "markdown",
   "metadata": {
    "application/vnd.databricks.v1+cell": {
     "cellMetadata": {},
     "inputWidgets": {},
     "nuid": "380cff06-98bd-4665-b2af-b9e22b93774c",
     "showTitle": false,
     "title": ""
    }
   },
   "source": [
    "\n",
    "## Section 2: Big O Notation"
   ]
  },
  {
   "cell_type": "markdown",
   "metadata": {
    "application/vnd.databricks.v1+cell": {
     "cellMetadata": {},
     "inputWidgets": {},
     "nuid": "494a1ce6-16c2-48eb-8e61-f15f67dcdbc5",
     "showTitle": false,
     "title": ""
    }
   },
   "source": [
    "\n",
    "#### What is Big O?\n",
    "\n",
    "Big O is the language and metric we use to describe the efficiency of algorithms.\n",
    "\n",
    "**The Complexity** : A way of showing how the runtime of a function increases as the size of input increases.\n",
    "\n",
    "Electronic - O(s) - electronic transfer increases linearly with the size of the file.  \n",
    "Physical - O(1) - if the file size is increasing, the time that is needed for delivery is constant"
   ]
  },
  {
   "cell_type": "markdown",
   "metadata": {
    "application/vnd.databricks.v1+cell": {
     "cellMetadata": {},
     "inputWidgets": {},
     "nuid": "60b43532-7d22-4536-b548-de91d3c98ae6",
     "showTitle": false,
     "title": ""
    }
   },
   "source": [
    "#### Big O Notations - Theta, Omega and Big O\n",
    "\n",
    "1, 2, 3, 4, 5, 6, 7, 8, 9   \n",
    "|........|..............|  \n",
    "Ω.......θ.............O\n",
    "\n",
    "- Big O : It is a complexity that is going to be less or equal to the worst case.\n",
    "- Big Ω : It is a complexity that is going to be at least more than the best case.\n",
    "- Big θ : It is a complexity that is within bounds of the worst and the best cases."
   ]
  },
  {
   "cell_type": "markdown",
   "metadata": {
    "application/vnd.databricks.v1+cell": {
     "cellMetadata": {},
     "inputWidgets": {},
     "nuid": "a85eee08-d94f-4439-9b88-bb1c26673479",
     "showTitle": false,
     "title": ""
    }
   },
   "source": [
    "#### Common Runtime Complexities : Big O - O(1)\n",
    "\n",
    "| Complexity | Name | Sample|\n",
    "|------------|------|-------|\n",
    "|O(1)        |Constant|A simple add numbers function|\n",
    "|O(n)        |Linear|Loop through numbers from 1 to n|\n",
    "|O(log n)     |Logarithmic|Find an element in sorted array|\n",
    "|O(\\\\(n{^2}\\\\))|Quadratic|Nested Loops|\n",
    "|O(2n)       |Exponential|Double recursion in Fibonacci|"
   ]
  },
  {
   "cell_type": "markdown",
   "metadata": {
    "application/vnd.databricks.v1+cell": {
     "cellMetadata": {},
     "inputWidgets": {},
     "nuid": "c9eb23f6-02ea-44be-bfe8-99ec4adf3c72",
     "showTitle": false,
     "title": ""
    }
   },
   "source": [
    "###### Contant Time Complexity/O(1) time complextiy"
   ]
  },
  {
   "cell_type": "code",
   "execution_count": null,
   "metadata": {
    "application/vnd.databricks.v1+cell": {
     "cellMetadata": {
      "byteLimit": 2048000,
      "rowLimit": 10000
     },
     "inputWidgets": {},
     "nuid": "1b93a073-c0cc-4c23-84c7-3c093e1d2984",
     "showTitle": true,
     "title": "Constant Time Complexity/O(1) time complexity :: O(1) : the number of operations is going to be always one"
    }
   },
   "outputs": [
    {
     "name": "stdout",
     "output_type": "stream",
     "text": [
      "113 ns ± 1.56 ns per loop (mean ± std. dev. of 7 runs, 10,000,000 loops each)\n",
      "141 ns ± 12.2 ns per loop (mean ± std. dev. of 7 runs, 10,000,000 loops each)\n"
     ]
    }
   ],
   "source": [
    "def multiply_numbers(n):\n",
    "  return n*n\n",
    "\n",
    "%timeit multiply_numbers(10)\n",
    "%timeit multiply_numbers(1000)"
   ]
  },
  {
   "cell_type": "code",
   "execution_count": null,
   "metadata": {
    "application/vnd.databricks.v1+cell": {
     "cellMetadata": {
      "byteLimit": 2048000,
      "rowLimit": 10000
     },
     "inputWidgets": {},
     "nuid": "f52fa1e0-01fd-4559-9e35-ad35d65deb12",
     "showTitle": true,
     "title": "graph for O(1) time complexity is going to be a flat line across the bottom | Most efficient big O time complexity"
    }
   },
   "outputs": [
    {
     "name": "stdout",
     "output_type": "stream",
     "text": [
      "Out[11]: [Text(0.5, 0, 'Element'),\n",
      " Text(0, 0.5, 'Operations'),\n",
      " Text(0.5, 1.0, 'Constant Time Complexity Graph')]"
     ]
    },
    {
     "data": {
      "image/png": "[encoded data removed]"
     },
     "metadata": {
      "application/vnd.databricks.v1+output": {
       "addedWidgets": {},
       "arguments": {},
       "data": "data:image/png;base64,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\n",
       "datasetInfos": [],
       "metadata": {},
       "removedWidgets": [],
       "type": "image"
      }
     },
     "output_type": "display_data"
    }
   ],
   "source": [
    "import seaborn as sns\n",
    "O1 = sns.regplot(x=[0,1,2,3,4], y=[1,1,1,1,1])\n",
    "O1.set(xlabel=\"Element\", ylabel=\"Operations\", title=\"Constant Time Complexity Graph\")"
   ]
  },
  {
   "cell_type": "markdown",
   "metadata": {
    "application/vnd.databricks.v1+cell": {
     "cellMetadata": {},
     "inputWidgets": {},
     "nuid": "0815d1ff-29ce-4e3a-9e78-cd352aa0c1ee",
     "showTitle": false,
     "title": ""
    }
   },
   "source": [
    "###### O(n) time complexity / Linear time Complexity\n",
    "\n",
    "Here, Time complexity will grow in direct proportion to the size of input data, the best practice is to try to keep our function running below or within this range of complexity. But obviously it won't be always possible."
   ]
  },
  {
   "cell_type": "code",
   "execution_count": null,
   "metadata": {
    "application/vnd.databricks.v1+cell": {
     "cellMetadata": {
      "byteLimit": 2048000,
      "rowLimit": 10000
     },
     "inputWidgets": {},
     "nuid": "2a47023f-90c5-4936-83f9-4e7d7a601820",
     "showTitle": false,
     "title": ""
    }
   },
   "outputs": [
    {
     "name": "stdout",
     "output_type": "stream",
     "text": [
      "847 ns ± 0.694 ns per loop (mean ± std. dev. of 7 runs, 1,000,000 loops each)\n",
      "1.42 µs ± 1.84 ns per loop (mean ± std. dev. of 7 runs, 1,000,000 loops each)\n"
     ]
    }
   ],
   "source": [
    "def print_items(n):\n",
    "  for i in range(n):\n",
    "    print(i)\n",
    "\n",
    "\n",
    "%timeit for _ in range(50): True \n",
    "%timeit for _ in range(100): True "
   ]
  },
  {
   "cell_type": "code",
   "execution_count": null,
   "metadata": {
    "application/vnd.databricks.v1+cell": {
     "cellMetadata": {
      "byteLimit": 2048000,
      "rowLimit": 10000
     },
     "inputWidgets": {},
     "nuid": "e820846b-53fd-433b-aca6-9d5c101d28cb",
     "showTitle": true,
     "title": "O(n) Graph: number of operations is going to be the proportional to the whatever n(input) is"
    }
   },
   "outputs": [
    {
     "name": "stdout",
     "output_type": "stream",
     "text": [
      "Out[23]: [Text(0.5, 0, 'Element'),\n",
      " Text(0, 0.5, 'Operations'),\n",
      " Text(0.5, 1.0, 'Linear Time Complexity Graph')]"
     ]
    },
    {
     "data": {
      "image/png": "[encoded data removed]"
     },
     "metadata": {
      "application/vnd.databricks.v1+output": {
       "addedWidgets": {},
       "arguments": {},
       "data": "data:image/png;base64,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\n",
       "datasetInfos": [],
       "metadata": {},
       "removedWidgets": [],
       "type": "image"
      }
     },
     "output_type": "display_data"
    }
   ],
   "source": [
    "import seaborn as sns\n",
    "O1 = sns.regplot(x=[0,1,2,3,4], y=[0,1,2,3,4])\n",
    "O1.set(xlabel=\"Element\", ylabel=\"Operations\", title=\"Linear Time Complexity Graph\")"
   ]
  },
  {
   "cell_type": "markdown",
   "metadata": {
    "application/vnd.databricks.v1+cell": {
     "cellMetadata": {},
     "inputWidgets": {},
     "nuid": "f36b6519-2171-4852-8228-befb962d41e6",
     "showTitle": false,
     "title": ""
    }
   },
   "source": [
    "###### Drop Constants\n",
    "\n",
    "Dropping constants means that we can easily eliminate constant values from the asymptotic analysis.  \n",
    "both loops are identical except 'i' and 'j' used here | both of these loops here takes O(n) time complexity. If we sum up them, it's going to take n+n = 2n time complexity = O(2n)\n",
    "\n",
    "if there is a constant, we can easily go ahead and drop that constant. = O(n)\n",
    "\n",
    "We say that this code is O of n, and our first rule for simplifying our big O notation, dropping the constants.  \n",
    "Why we do this? ::  \n",
    "- the first reason is that it is very possible that O(n) code is faster than O(1) code for specific inputs, bug big O just describes the rate of increase\n",
    "- Different computers with different architectures have different constant factors -> A faster computer might be able to access memory faster than a slower computer, so a faster computers will have lower constant factor for memory access than the slower computers. When doing asymptotic analysis, we are just interested in the algorithm, not the hardware. So ignore such constant factors.\n",
    "- Different algorithms with the same basic idea and computational complexity might have slightly different constants. example- inside a loop a(b-c) Vs ab - ac  \n",
    "if the multiplication is slower than the subtraction, then maybe the a*(b-c) will have a lower constant than a*b - a*c. These two expressions basically performing the same operation. But based on the computer constants, one of them might have lower constants. So that's why we have to ignore the constants.  \n",
    "- As n apporaches to infinity n->∞, constant factors are not really a big deal.\n",
    "\n",
    "**All in all, in aymptotic analysis, we ignore constant factors coz it removes a lot of noise from the hardware and small changes in the algorithm that really are not important for analysis. And this makes algorithms easier to compare.**\n",
    "\n",
    "So for this reason we drop constants, which means that O(2) time complexity is actually O(n)"
   ]
  },
  {
   "cell_type": "code",
   "execution_count": null,
   "metadata": {
    "application/vnd.databricks.v1+cell": {
     "cellMetadata": {
      "byteLimit": 2048000,
      "rowLimit": 10000
     },
     "inputWidgets": {},
     "nuid": "dd51a7ba-dbc1-4caa-a4ba-9b19917f3032",
     "showTitle": true,
     "title": "O(2n)"
    }
   },
   "outputs": [],
   "source": [
    "def print_items(n):\n",
    "  for i in range(n):\n",
    "    print(i)\n",
    "\n",
    "  for j in range(n):\n",
    "    print(j)"
   ]
  },
  {
   "cell_type": "markdown",
   "metadata": {
    "application/vnd.databricks.v1+cell": {
     "cellMetadata": {},
     "inputWidgets": {},
     "nuid": "f62887a6-958d-4917-8477-d33c72681972",
     "showTitle": false,
     "title": ""
    }
   },
   "source": [
    "###### Big O - O(\\\\(n{^2}\\\\)) : inefficient code\n",
    "As the number of element increases, operations increase in quadratic manner."
   ]
  },
  {
   "cell_type": "code",
   "execution_count": null,
   "metadata": {
    "application/vnd.databricks.v1+cell": {
     "cellMetadata": {},
     "inputWidgets": {},
     "nuid": "001c5614-8e03-4b43-ad7d-eb2cd0b75bfd",
     "showTitle": false,
     "title": ""
    }
   },
   "outputs": [],
   "source": [
    "def print_items(n):\n",
    "  for i in range(n):\n",
    "    for j in range(n):\n",
    "      print(i, j)"
   ]
  },
  {
   "cell_type": "markdown",
   "metadata": {
    "application/vnd.databricks.v1+cell": {
     "cellMetadata": {},
     "inputWidgets": {},
     "nuid": "616051f1-4e29-411d-acdd-57b434b12f56",
     "showTitle": false,
     "title": ""
    }
   },
   "source": [
    "###### Drop Non Dominant Terms\n",
    "\n",
    "When it comes to the total complexity of this function, it is going to be O(\\\\(n{^2}\\\\)+n) time. In terms of big O, we can go ahead and simplify this. So we are going to remove the non-dominant term, and the one which is low is going to be the non-dominant term.  \n",
    "So we know that O(\\\\(n{^2}\\\\)) is greater than n, so that's why it's going to be O(\\\\(n{^2}\\\\)) time complexity.  \n",
    "\n",
    "So whenever we see that, we have non-dominant terms in our time complexity, can just go ahead and remove or drop that and can simplify our time complexity like this.\n"
   ]
  },
  {
   "cell_type": "code",
   "execution_count": null,
   "metadata": {
    "application/vnd.databricks.v1+cell": {
     "cellMetadata": {
      "byteLimit": 2048000,
      "rowLimit": 10000
     },
     "inputWidgets": {},
     "nuid": "fe01321a-946f-4563-9a64-9df3aac46181",
     "showTitle": false,
     "title": ""
    }
   },
   "outputs": [],
   "source": [
    "def print_items(n):\n",
    "  #Time Complexity - O(\\\\(n{^2}))\n",
    "  for i in range(n):\n",
    "    for j in range(n):\n",
    "      print(i, j)\n",
    "  #Time Complexity - O(n)\n",
    "  for k in range(n):\n",
    "    print(k)\n"
   ]
  },
  {
   "cell_type": "markdown",
   "metadata": {
    "application/vnd.databricks.v1+cell": {
     "cellMetadata": {},
     "inputWidgets": {},
     "nuid": "181ad7b0-449a-47a3-8a76-d522afbb18ec",
     "showTitle": false,
     "title": ""
    }
   },
   "source": [
    "###### Big O - O(logN) : divide and conquer\n",
    "here log of two of eight equals threee :: \\\\(log{_2}\\\\)8 = 3"
   ]
  },
  {
   "cell_type": "markdown",
   "metadata": {
    "application/vnd.databricks.v1+cell": {
     "cellMetadata": {},
     "inputWidgets": {},
     "nuid": "4bc7052b-3f5c-47bd-b020-09b833010ec1",
     "showTitle": false,
     "title": ""
    }
   },
   "source": [
    "###### Space Complexity\n",
    "Space complexity is a meaure of amount of the working storage that an algorithm needs.\n",
    "Time is not the only thing that matters in an alogrithm.We might also care about the amount of memory or the space that is required by the algorithm. Means how much memory in the worst case is needed at any point in the algorithm."
   ]
  },
  {
   "cell_type": "code",
   "execution_count": null,
   "metadata": {
    "application/vnd.databricks.v1+cell": {
     "cellMetadata": {
      "byteLimit": 2048000,
      "rowLimit": 10000
     },
     "inputWidgets": {},
     "nuid": "cc812ec8-0f30-4fc6-a55d-35081615bb2d",
     "showTitle": false,
     "title": ""
    }
   },
   "outputs": [
    {
     "name": "stdout",
     "output_type": "stream",
     "text": [
      "Out[6]: 6"
     ]
    }
   ],
   "source": [
    "def sum(n):\n",
    "  if n <= 0:\n",
    "    return 0\n",
    "  return n + sum(n-1)\n",
    "\n",
    "sum(3)"
   ]
  },
  {
   "cell_type": "code",
   "execution_count": null,
   "metadata": {
    "application/vnd.databricks.v1+cell": {
     "cellMetadata": {},
     "inputWidgets": {},
     "nuid": "6414ca47-945d-4a4c-92ad-a647659cebd4",
     "showTitle": false,
     "title": ""
    }
   },
   "outputs": [],
   "source": [
    "def pair_sum_sequence(n):\n",
    "  total=0\n",
    "  for i in range(n):\n",
    "    total = total + pair_sum(i, i+1)\n",
    "  return total\n",
    "  \n",
    "def pair_sum(a, b):\n",
    "  return a+b\n",
    "\n",
    "pair_sum_sequence(4)"
   ]
  },
  {
   "cell_type": "markdown",
   "metadata": {},
   "source": [
    "##### Summary\n",
    "\n",
    "**1 < logn < n < nlogn < n^2 < n^3 < 2^n < n^x**"
   ]
  },
  {
   "cell_type": "markdown",
   "metadata": {},
   "source": [
    "## Q&A"
   ]
  },
  {
   "cell_type": "markdown",
   "metadata": {},
   "source": [
    "**1.** Find the complexity of the func1 function"
   ]
  },
  {
   "cell_type": "code",
   "execution_count": 1,
   "metadata": {
    "application/vnd.databricks.v1+cell": {
     "cellMetadata": {},
     "inputWidgets": {},
     "nuid": "5357eeb3-a1e9-433c-ad40-315de98c98fe",
     "showTitle": false,
     "title": ""
    }
   },
   "outputs": [],
   "source": [
    "#include<stdio.h>\n",
    "\n",
    "void func1(int array[], int length)\n",
    "{\n",
    "    //f1 :: below 2 lines time complexity let's assume f1 = k1\n",
    "    int sum=0; \n",
    "    int product =1;\n",
    "\n",
    "    //f2 :: loop will run length time = length\n",
    "    for (int i = 0; i <length; i++)\n",
    "    {\n",
    "        //k2\n",
    "        sum+=array[i];\n",
    "    }\n",
    " \n",
    "    //f3 :: loop will run length time = length\n",
    "    for (int i = 0; i < length; i++)\n",
    "    {\n",
    "        //k3 \n",
    "        product*=array[i];\n",
    "    }\n",
    "}\n",
    " \n",
    "int main()\n",
    "{\n",
    "    int arr[] = {3,4,66};\n",
    "    func1(arr,3);\n",
    "    return 0;\n",
    "}"
   ]
  },
  {
   "cell_type": "markdown",
   "metadata": {},
   "source": [
    "Tn = f1 + f2 + f3  \n",
    "=k1 + k2length + k3length  \n",
    "=> (k2+k3)length and eliminate k1 as constant  \n",
    "=> k4length eliminate constant k4  \n",
    "=> O(length)/O(n)  "
   ]
  },
  {
   "cell_type": "markdown",
   "metadata": {},
   "source": [
    "**2.**  Find the time complexity of the func function in the program "
   ]
  },
  {
   "cell_type": "code",
   "execution_count": null,
   "metadata": {
    "application/vnd.databricks.v1+cell": {
     "cellMetadata": {},
     "inputWidgets": {},
     "nuid": "ba030aaf-8aec-49c5-8b0c-fc5713d4b0ca",
     "showTitle": false,
     "title": ""
    }
   },
   "outputs": [],
   "source": [
    "void func(int n)\n",
    "{\n",
    "    //constant for below 2 lines = k1\n",
    "    int sum=0;\n",
    "    int product =1;\n",
    "\n",
    "    //0 to n time this loop\n",
    "    for (int i = 0; i <n; i++)\n",
    "    {\n",
    "        //0 to n this loop will run for above 0 to n\n",
    "        for (int j = 0; j < n; j++)\n",
    "        {\n",
    "            //k2\n",
    "            printf(\"%d , %d\\n\", i,j);\n",
    "        }\n",
    "    }\n",
    "}"
   ]
  },
  {
   "cell_type": "markdown",
   "metadata": {},
   "source": [
    "[n+n+n......+(n-1)n]k2  \n",
    "nk2(1+1+1+1+1....n)  \n",
    "k2n^2  \n",
    "O(n^2)  "
   ]
  },
  {
   "cell_type": "markdown",
   "metadata": {},
   "source": [
    "**3.** Consider the recursive algorithm below, where the random(int n) spends one unit of time to return a random integer where the probability of each integer coming as random is evenly distributed within the range [0,n]. If the average processing time is T(n), what is the value of T(6)?"
   ]
  },
  {
   "cell_type": "code",
   "execution_count": null,
   "metadata": {},
   "outputs": [],
   "source": [
    "//6\n",
    "int function(int n)\n",
    "{\n",
    "    //this block along with if statement constant time = k1, can eliminate\n",
    "    int i = 0;\n",
    "    if (n <= 0)\n",
    "    {\n",
    "        return 0;\n",
    "    }\n",
    "    else\n",
    "    {\n",
    "        //O(1)\n",
    "        i = random(n - 1);\n",
    "        printf(\"this\\n\");\n",
    "\n",
    "        return function(i) + function(n - 1 - i);\n",
    "    }\n",
    "}"
   ]
  },
  {
   "cell_type": "markdown",
   "metadata": {},
   "source": [
    "**4.** Which of the following are equivalent to O(N) and why?\n",
    "- O(N + P) where P < N/9 -> eliminate non dominant term P => O(n)\n",
    "- NO(9N-k) -> eliminate k non dominant term => O(9N) => O(n)\n",
    "- O(N + 8log N) -> eliminate non dominant term 8logn in front of N => O(n)\n",
    "- O(N + M2)"
   ]
  },
  {
   "cell_type": "markdown",
   "metadata": {},
   "source": [
    "**5.** The following simple code sums the values of all the nodes in a balanced binary search tree. What is its runtime?"
   ]
  },
  {
   "cell_type": "code",
   "execution_count": null,
   "metadata": {},
   "outputs": [],
   "source": [
    "//O(n) same will run on each node recursively so same time it will take, so depends on number of nodes\n",
    "{\n",
    "    if (node == NULL)\n",
    "    {\n",
    "        return 0;\n",
    "    }\n",
    "    return sum(node.left) + node.value + sum(node.right);\n",
    "}"
   ]
  },
  {
   "cell_type": "markdown",
   "metadata": {},
   "source": [
    "**6.** Find the complexity of the following code which tests whether a given number is prime or not?"
   ]
  },
  {
   "cell_type": "code",
   "execution_count": null,
   "metadata": {},
   "outputs": [],
   "source": [
    "//O(root n)\n",
    "int isPrime(int n)\n",
    "{\n",
    "    if (n == 1)\n",
    "    {\n",
    "        return 0;\n",
    "    }\n",
    "    for (int i = 2; i * i < n; i++)\n",
    "    {\n",
    "        if (n % i == 0)\n",
    "        {\n",
    "            return 0;\n",
    "        }\n",
    "    }\n",
    "    return 1;\n",
    "}"
   ]
  },
  {
   "cell_type": "markdown",
   "metadata": {},
   "source": [
    "**7.** What is the time complexity of the following snippet of code?"
   ]
  },
  {
   "cell_type": "code",
   "execution_count": 2,
   "metadata": {},
   "outputs": [
    {
     "name": "stderr",
     "output_type": "stream",
     "text": [
      "/tmp/tmpvumsm0rd.c:13:9: error: expected declaration specifiers or ‘...’ before numeric constant\n",
      "   13 | isPrime(18);\n",
      "      |         ^~\n",
      "[C kernel] GCC exited with code 1, the executable will not be executed"
     ]
    }
   ],
   "source": [
    "//O(1), coz n is not involved in for loop\n",
    "int isPrime(int n)\n",
    "{\n",
    "    for (int i = 2; i * i < 10000; i++)\n",
    "    {\n",
    "        if (n % i == 0)\n",
    "        {\n",
    "            return 0;\n",
    "        }\n",
    "    }\n",
    " \n",
    "    return 1;\n",
    "}\n",
    "isPrime(18);"
   ]
  },
  {
   "cell_type": "code",
   "execution_count": null,
   "metadata": {},
   "outputs": [],
   "source": []
  }
 ],
 "metadata": {
  "application/vnd.databricks.v1+notebook": {
   "dashboards": [],
   "language": "python",
   "notebookMetadata": {
    "pythonIndentUnit": 2
   },
   "notebookName": "BigO",
   "widgets": {}
  },
  "kernelspec": {
   "display_name": "C",
   "language": "c",
   "name": "c"
  },
  "language_info": {
   "file_extension": ".c",
   "mimetype": "text/plain",
   "name": "c"
  }
 },
 "nbformat": 4,
 "nbformat_minor": 0
}
