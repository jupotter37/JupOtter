{
 "cells": [
  {
   "cell_type": "markdown",
   "id": "31809c25",
   "metadata": {
    "toc": true
   },
   "source": [
    "<h1>Table of Contents<span class=\"tocSkip\"></span></h1>\n",
    "<div class=\"toc\"><ul class=\"toc-item\"><li><span><a href=\"#-Talent-Hunt-Examination-Case-Study\" data-toc-modified-id=\"-Talent-Hunt-Examination-Case-Study-1\"><span class=\"toc-item-num\">1&nbsp;&nbsp;</span><center><b> Talent Hunt Examination Case Study</b></center></a></span></li><li><span><a href=\"#Problem-Statement\" data-toc-modified-id=\"Problem-Statement-2\"><span class=\"toc-item-num\">2&nbsp;&nbsp;</span>Problem Statement</a></span><ul class=\"toc-item\"><li><span><a href=\"#Business-Context\" data-toc-modified-id=\"Business-Context-2.1\"><span class=\"toc-item-num\">2.1&nbsp;&nbsp;</span>Business Context</a></span></li><li><span><a href=\"#Objective\" data-toc-modified-id=\"Objective-2.2\"><span class=\"toc-item-num\">2.2&nbsp;&nbsp;</span>Objective</a></span></li><li><span><a href=\"#Solution-Approach\" data-toc-modified-id=\"Solution-Approach-2.3\"><span class=\"toc-item-num\">2.3&nbsp;&nbsp;</span>Solution Approach</a></span></li><li><span><a href=\"#Data\" data-toc-modified-id=\"Data-2.4\"><span class=\"toc-item-num\">2.4&nbsp;&nbsp;</span>Data</a></span></li></ul></li><li><span><a href=\"#Import-the-necessary-libraries\" data-toc-modified-id=\"Import-the-necessary-libraries-3\"><span class=\"toc-item-num\">3&nbsp;&nbsp;</span>Import the necessary libraries</a></span></li><li><span><a href=\"#Loading-the-dataset\" data-toc-modified-id=\"Loading-the-dataset-4\"><span class=\"toc-item-num\">4&nbsp;&nbsp;</span>Loading the dataset</a></span></li><li><span><a href=\"#Data-Overview\" data-toc-modified-id=\"Data-Overview-5\"><span class=\"toc-item-num\">5&nbsp;&nbsp;</span>Data Overview</a></span><ul class=\"toc-item\"><li><ul class=\"toc-item\"><li><span><a href=\"#Displaying-the-first-few-rows-of-the-dataset\" data-toc-modified-id=\"Displaying-the-first-few-rows-of-the-dataset-5.0.1\"><span class=\"toc-item-num\">5.0.1&nbsp;&nbsp;</span>Displaying the first few rows of the dataset</a></span></li><li><span><a href=\"#Checking-the-shape-of-the-dataset\" data-toc-modified-id=\"Checking-the-shape-of-the-dataset-5.0.2\"><span class=\"toc-item-num\">5.0.2&nbsp;&nbsp;</span>Checking the shape of the dataset</a></span></li><li><span><a href=\"#Checking-the-data-types-of-the-columns-for-the-dataset\" data-toc-modified-id=\"Checking-the-data-types-of-the-columns-for-the-dataset-5.0.3\"><span class=\"toc-item-num\">5.0.3&nbsp;&nbsp;</span>Checking the data types of the columns for the dataset</a></span></li><li><span><a href=\"#Statistical-summary-of-the-dataset\" data-toc-modified-id=\"Statistical-summary-of-the-dataset-5.0.4\"><span class=\"toc-item-num\">5.0.4&nbsp;&nbsp;</span>Statistical summary of the dataset</a></span></li><li><span><a href=\"#Visualize-data\" data-toc-modified-id=\"Visualize-data-5.0.5\"><span class=\"toc-item-num\">5.0.5&nbsp;&nbsp;</span>Visualize data</a></span></li></ul></li></ul></li><li><span><a href=\"#Reliable-estimate-of-the-average-score-using-confidence-intervals\" data-toc-modified-id=\"Reliable-estimate-of-the-average-score-using-confidence-intervals-6\"><span class=\"toc-item-num\">6&nbsp;&nbsp;</span>Reliable estimate of the average score using confidence intervals</a></span><ul class=\"toc-item\"><li><ul class=\"toc-item\"><li><span><a href=\"#Adel-add-on:-effect-of-size-and-the-knowledge-of-the-standard-deviation\" data-toc-modified-id=\"Adel-add-on:-effect-of-size-and-the-knowledge-of-the-standard-deviation-6.0.1\"><span class=\"toc-item-num\">6.0.1&nbsp;&nbsp;</span>Adel add-on: effect of size and the knowledge of the standard deviation</a></span></li><li><span><a href=\"#Adel-add-on:-interval-formula-for-the-centered-confidence-interval\" data-toc-modified-id=\"Adel-add-on:-interval-formula-for-the-centered-confidence-interval-6.0.2\"><span class=\"toc-item-num\">6.0.2&nbsp;&nbsp;</span>Adel add-on: interval formula for the centered confidence interval</a></span></li></ul></li></ul></li><li><span><a href=\"#Validating-the-critic's-claim-using-a-hypothesis-test\" data-toc-modified-id=\"Validating-the-critic's-claim-using-a-hypothesis-test-7\"><span class=\"toc-item-num\">7&nbsp;&nbsp;</span>Validating the critic's claim using a hypothesis test</a></span><ul class=\"toc-item\"><li><span><a href=\"#P-value-approach\" data-toc-modified-id=\"P-value-approach-7.1\"><span class=\"toc-item-num\">7.1&nbsp;&nbsp;</span>P-value approach</a></span></li><li><span><a href=\"#Critical-region-approach-(ADD-ON)\" data-toc-modified-id=\"Critical-region-approach-(ADD-ON)-7.2\"><span class=\"toc-item-num\">7.2&nbsp;&nbsp;</span>Critical region approach (ADD-ON)</a></span></li></ul></li><li><span><a href=\"#Conclusions-and-Recommendations\" data-toc-modified-id=\"Conclusions-and-Recommendations-8\"><span class=\"toc-item-num\">8&nbsp;&nbsp;</span>Conclusions and Recommendations</a></span></li></ul></div>"
   ]
  },
  {
   "cell_type": "markdown",
   "id": "6683136f",
   "metadata": {
    "id": "b34578ed"
   },
   "source": [
    "<center><p float=\"center\">\n",
    "  <img src=\"https://upload.wikimedia.org/wikipedia/commons/e/e9/4_RGB_McCombs_School_Brand_Branded.png\" width=\"300\" height=\"100\"/>\n",
    "  <img src=\"https://mma.prnewswire.com/media/1458111/Great_Learning_Logo.jpg?p=facebook\" width=\"200\" height=\"100\"/>\n",
    "</p></center>\n",
    "\n",
    "<h1><center><font size=10>Business Statistics</center></font></h1>\n",
    "<h1><center>Estimation and Hypothesis Testing - Week 2</center></h1>\n",
    "\n",
    "\n"
   ]
  },
  {
   "cell_type": "markdown",
   "id": "943d0501",
   "metadata": {
    "id": "0e3e569f"
   },
   "source": [
    "<center><img src=\"http://api.openverse.engineering/v1/images/aac16648-79ea-4b2e-a5fd-e98842f54eb7/thumb/\" width=\"1000\" height=\"600\"></center>\n",
    "\n",
    "<b><h2><center> Talent Hunt Examination Case Study</center></h2></b>"
   ]
  },
  {
   "cell_type": "markdown",
   "id": "435c7132",
   "metadata": {
    "id": "2ab91df6"
   },
   "source": [
    "## Problem Statement"
   ]
  },
  {
   "cell_type": "markdown",
   "id": "50cabac0",
   "metadata": {
    "id": "86a0dc8a"
   },
   "source": [
    "### Business Context\n",
    "\n",
    "A research institute conducts a Talent Hunt Examination every year to hire people who can work on various research projects in the field of Mathematics and Computer Science. **A2Z institute** provides a preparatory program to help the aspirants prepare for the Talent Hunt Exam. The institute has a good record of helping many students clear the exam. Before the application for the next batch starts, the institute wants to attract more aspirants to their program. For this, the institute wants to assure the aspiring students of the quality of results obtained by students enrolled in their program in recent years. \n",
    "\n",
    "However, one challenge in estimating an average score is that every year the exam’s difficulty level varies a little, and the distribution of scores also changes accordingly. The institute keeps a track of the final scores of its alumni who attempted the exam previously. A dataset constituted of a simple random sample of final scores of 600 aspirants from the last three years is prepared by the institute.\n",
    "\n",
    "\n",
    "### Objective\n",
    "\n",
    "The institute wants to provide an estimate of the average score obtained by aspirants who enroll in their program. Keeping in mind the variation in scores every year, the institute wants to provide a more reliable estimate of the average score using a range of scores instead of a single estimate. It is known from previous records that the standard deviation of the scores is 10 and the cut-off score in the most recent year was 84.\n",
    "\n",
    "A recent social media post from A2Z institute received feedback from a reputed critic, mentioning that the students from A2Z institute score less than last year's cut-off on average. The institute wants to test if the claim by the critic is valid.\n",
    "\n",
    "\n",
    "### Solution Approach\n",
    "\n",
    "1. To provide a more reliable estimate of the average score using a range of scores instead of a single estimate, we will construct a 95% confidence interval for the mean score that an aspirant has scored after enrolling in the institute’s program.\n",
    "\n",
    "2. To test the validity of the critic's claim (the mean score of the students from A2Z institute is less than last year’s cut-off score of 84), we will perform a hypothesis test (taking alpha = 5%)\n",
    "\n",
    "\n",
    "### Data \n",
    "\n",
    "The dataset provided (*Talent_hunt.csv*) contains the final scores of 600 aspirants enrolled in the institute’s program in the last three years."
   ]
  },
  {
   "cell_type": "markdown",
   "id": "d3fafbda",
   "metadata": {
    "id": "15c27a03"
   },
   "source": [
    "## Import the necessary libraries \n",
    "\n"
   ]
  },
  {
   "cell_type": "code",
   "execution_count": 2,
   "id": "2de8b3b3",
   "metadata": {
    "id": "e52eb36f"
   },
   "outputs": [],
   "source": [
    "# Libraries to help with reading and manipulating data\n",
    "import pandas as pd\n",
    "import numpy as np\n",
    "\n",
    "# Libraries to help with data visualization\n",
    "import matplotlib.pyplot as plt\n",
    "import seaborn as sns\n",
    "\n",
    "# Library to help with statistical analysis\n",
    "import scipy.stats as stats "
   ]
  },
  {
   "cell_type": "markdown",
   "id": "4a011e68",
   "metadata": {
    "id": "74aae585"
   },
   "source": [
    "## Loading the dataset"
   ]
  },
  {
   "cell_type": "code",
   "execution_count": 3,
   "id": "ab8ead54",
   "metadata": {
    "id": "d4b88271"
   },
   "outputs": [],
   "source": [
    "data = pd.read_csv('Talent_hunt.csv')"
   ]
  },
  {
   "cell_type": "code",
   "execution_count": 4,
   "id": "678fdaaa",
   "metadata": {
    "id": "037469b7"
   },
   "outputs": [],
   "source": [
    "# copying data to another variable to avoid any changes to original data\n",
    "df = data.copy()"
   ]
  },
  {
   "cell_type": "markdown",
   "id": "03e7fb2f",
   "metadata": {
    "id": "4c95d68d"
   },
   "source": [
    "## Data Overview"
   ]
  },
  {
   "cell_type": "markdown",
   "id": "725705d1",
   "metadata": {
    "id": "23b44662"
   },
   "source": [
    "The initial steps to get an overview of any dataset is to: \n",
    "- observe the first few rows of the dataset, to check whether the dataset has been loaded properly or not\n",
    "- get information about the number of rows and columns in the dataset\n",
    "- find out the data types of the columns to ensure that data is stored in the preferred format and the value of each property is as expected.\n",
    "- check the statistical summary of the dataset to get an overview of the numerical columns of the data"
   ]
  },
  {
   "cell_type": "markdown",
   "id": "47ab0c82",
   "metadata": {
    "id": "c25e66c1"
   },
   "source": [
    "#### Displaying the first few rows of the dataset"
   ]
  },
  {
   "cell_type": "code",
   "execution_count": 5,
   "id": "d5fea3fb",
   "metadata": {
    "id": "c5fa6936",
    "outputId": "65022715-0700-40bd-9479-8d587442ed5d"
   },
   "outputs": [
    {
     "data": {
      "text/html": [
       "<div>\n",
       "<style scoped>\n",
       "    .dataframe tbody tr th:only-of-type {\n",
       "        vertical-align: middle;\n",
       "    }\n",
       "\n",
       "    .dataframe tbody tr th {\n",
       "        vertical-align: top;\n",
       "    }\n",
       "\n",
       "    .dataframe thead th {\n",
       "        text-align: right;\n",
       "    }\n",
       "</style>\n",
       "<table border=\"1\" class=\"dataframe\">\n",
       "  <thead>\n",
       "    <tr style=\"text-align: right;\">\n",
       "      <th></th>\n",
       "      <th>final_score</th>\n",
       "    </tr>\n",
       "  </thead>\n",
       "  <tbody>\n",
       "    <tr>\n",
       "      <th>0</th>\n",
       "      <td>85.55</td>\n",
       "    </tr>\n",
       "    <tr>\n",
       "      <th>1</th>\n",
       "      <td>81.11</td>\n",
       "    </tr>\n",
       "    <tr>\n",
       "      <th>2</th>\n",
       "      <td>91.47</td>\n",
       "    </tr>\n",
       "    <tr>\n",
       "      <th>3</th>\n",
       "      <td>83.13</td>\n",
       "    </tr>\n",
       "    <tr>\n",
       "      <th>4</th>\n",
       "      <td>82.73</td>\n",
       "    </tr>\n",
       "  </tbody>\n",
       "</table>\n",
       "</div>"
      ],
      "text/plain": [
       "   final_score\n",
       "0        85.55\n",
       "1        81.11\n",
       "2        91.47\n",
       "3        83.13\n",
       "4        82.73"
      ]
     },
     "execution_count": 5,
     "metadata": {},
     "output_type": "execute_result"
    }
   ],
   "source": [
    "# looking at head (5 observations) \n",
    "df.head()"
   ]
  },
  {
   "cell_type": "markdown",
   "id": "f5bc513a",
   "metadata": {
    "id": "af898527"
   },
   "source": [
    "* There is only one column `final score` in the dataset which represents the final scores of a sample of aspirants."
   ]
  },
  {
   "cell_type": "markdown",
   "id": "d6369a76",
   "metadata": {
    "id": "4f91affe"
   },
   "source": [
    "#### Checking the shape of the dataset"
   ]
  },
  {
   "cell_type": "code",
   "execution_count": 6,
   "id": "ae2d7f64",
   "metadata": {
    "id": "87534031",
    "outputId": "d24c1e4c-4805-4c9d-d126-e65b79507103"
   },
   "outputs": [
    {
     "data": {
      "text/plain": [
       "(600, 1)"
      ]
     },
     "execution_count": 6,
     "metadata": {},
     "output_type": "execute_result"
    }
   ],
   "source": [
    "df.shape"
   ]
  },
  {
   "cell_type": "markdown",
   "id": "b8bcc980",
   "metadata": {
    "id": "912d743d"
   },
   "source": [
    "* There is a total of 600 scores in the sample."
   ]
  },
  {
   "cell_type": "markdown",
   "id": "7df3e6c4",
   "metadata": {
    "id": "9e803198"
   },
   "source": [
    "#### Checking the data types of the columns for the dataset"
   ]
  },
  {
   "cell_type": "code",
   "execution_count": 7,
   "id": "c10f68d5",
   "metadata": {
    "id": "da718cad",
    "outputId": "5b6062d4-46ab-4380-ce48-ee62a0dbc5c0"
   },
   "outputs": [
    {
     "name": "stdout",
     "output_type": "stream",
     "text": [
      "<class 'pandas.core.frame.DataFrame'>\n",
      "RangeIndex: 600 entries, 0 to 599\n",
      "Data columns (total 1 columns):\n",
      " #   Column       Non-Null Count  Dtype  \n",
      "---  ------       --------------  -----  \n",
      " 0   final_score  600 non-null    float64\n",
      "dtypes: float64(1)\n",
      "memory usage: 4.8 KB\n"
     ]
    }
   ],
   "source": [
    "df.info()"
   ]
  },
  {
   "cell_type": "markdown",
   "id": "b59fe454",
   "metadata": {
    "id": "0f8c1da1"
   },
   "source": [
    "* The scores of the aspirants are continuous in nature."
   ]
  },
  {
   "cell_type": "markdown",
   "id": "06b35bcc",
   "metadata": {
    "id": "1eee9694"
   },
   "source": [
    "#### Statistical summary of the dataset"
   ]
  },
  {
   "cell_type": "code",
   "execution_count": 7,
   "id": "aaae8397",
   "metadata": {
    "id": "848897d9",
    "outputId": "1254ba43-f37a-4ae1-bba9-af09b80f824e"
   },
   "outputs": [
    {
     "data": {
      "text/html": [
       "<div>\n",
       "<style scoped>\n",
       "    .dataframe tbody tr th:only-of-type {\n",
       "        vertical-align: middle;\n",
       "    }\n",
       "\n",
       "    .dataframe tbody tr th {\n",
       "        vertical-align: top;\n",
       "    }\n",
       "\n",
       "    .dataframe thead th {\n",
       "        text-align: right;\n",
       "    }\n",
       "</style>\n",
       "<table border=\"1\" class=\"dataframe\">\n",
       "  <thead>\n",
       "    <tr style=\"text-align: right;\">\n",
       "      <th></th>\n",
       "      <th>final_score</th>\n",
       "    </tr>\n",
       "  </thead>\n",
       "  <tbody>\n",
       "    <tr>\n",
       "      <th>count</th>\n",
       "      <td>600.000000</td>\n",
       "    </tr>\n",
       "    <tr>\n",
       "      <th>mean</th>\n",
       "      <td>84.820000</td>\n",
       "    </tr>\n",
       "    <tr>\n",
       "      <th>std</th>\n",
       "      <td>4.161787</td>\n",
       "    </tr>\n",
       "    <tr>\n",
       "      <th>min</th>\n",
       "      <td>76.480000</td>\n",
       "    </tr>\n",
       "    <tr>\n",
       "      <th>25%</th>\n",
       "      <td>81.440000</td>\n",
       "    </tr>\n",
       "    <tr>\n",
       "      <th>50%</th>\n",
       "      <td>83.715000</td>\n",
       "    </tr>\n",
       "    <tr>\n",
       "      <th>75%</th>\n",
       "      <td>87.512500</td>\n",
       "    </tr>\n",
       "    <tr>\n",
       "      <th>max</th>\n",
       "      <td>99.470000</td>\n",
       "    </tr>\n",
       "  </tbody>\n",
       "</table>\n",
       "</div>"
      ],
      "text/plain": [
       "       final_score\n",
       "count   600.000000\n",
       "mean     84.820000\n",
       "std       4.161787\n",
       "min      76.480000\n",
       "25%      81.440000\n",
       "50%      83.715000\n",
       "75%      87.512500\n",
       "max      99.470000"
      ]
     },
     "execution_count": 7,
     "metadata": {},
     "output_type": "execute_result"
    }
   ],
   "source": [
    "df.describe()"
   ]
  },
  {
   "cell_type": "markdown",
   "id": "df0a5d3f",
   "metadata": {
    "id": "85e92dac"
   },
   "source": [
    "* The average score obtained from the sample is 84.82\n",
    "* The median score (83.72) is almost equal to the average, which suggests that the scores might be normally distributed\n",
    "* No student scored less than 76 marks\n",
    "* No student got a 100% score, the highest score by any student in the sample being 99.47"
   ]
  },
  {
   "cell_type": "markdown",
   "id": "7c247ea6",
   "metadata": {
    "id": "34bb910b"
   },
   "source": [
    "#### Visualize data"
   ]
  },
  {
   "cell_type": "code",
   "execution_count": 8,
   "id": "e7ae19d3",
   "metadata": {
    "id": "6fe01324",
    "outputId": "a74a7c76-e793-4d5e-e678-e3abb0bf58b1",
    "scrolled": false
   },
   "outputs": [
    {
     "data": {
      "image/png": "[encoded data removed]",
      "text/plain": [
       "<Figure size 432x288 with 1 Axes>"
      ]
     },
     "metadata": {
      "needs_background": "light"
     },
     "output_type": "display_data"
    }
   ],
   "source": [
    "# plot a density curve of the distribution of the scores\n",
    "sns.distplot(df.final_score,kde=True)\n",
    "plt.show()"
   ]
  },
  {
   "cell_type": "markdown",
   "id": "a26efd23",
   "metadata": {
    "id": "9e234ede"
   },
   "source": [
    "* Even though the mean and the median are almost equal, the above plot shows that the distribution of the scores is slightly skewed to the right\n",
    "* There might be a few outliers at the right tail of the distribution\n",
    "* The distribution seems to be multimodal"
   ]
  },
  {
   "cell_type": "code",
   "execution_count": 9,
   "id": "698e7232",
   "metadata": {
    "id": "eab1ff1d",
    "outputId": "83b95177-785b-4198-cae2-7b5a71fad37a"
   },
   "outputs": [
    {
     "data": {
      "image/png": "[encoded data removed]",
      "text/plain": [
       "<Figure size 432x288 with 1 Axes>"
      ]
     },
     "metadata": {
      "needs_background": "light"
     },
     "output_type": "display_data"
    }
   ],
   "source": [
    "# plot a boxplot to check outliers\n",
    "sns.boxplot(x =df.final_score)\n",
    "plt.show()"
   ]
  },
  {
   "cell_type": "markdown",
   "id": "abc7adc6",
   "metadata": {
    "id": "54344a32"
   },
   "source": [
    "* As observed from the boxplot, there are a few outliers at the right tail of the distribution"
   ]
  },
  {
   "cell_type": "markdown",
   "id": "7f995e3e",
   "metadata": {
    "id": "e8bb4c95"
   },
   "source": [
    "## Reliable estimate of the average score using confidence intervals"
   ]
  },
  {
   "cell_type": "markdown",
   "id": "f34b7dc0",
   "metadata": {
    "id": "n7iD3faMHv3i"
   },
   "source": [
    "To provide a more reliable estimate of the average score using a range of scores instead of a single estimate, we will construct a 95% confidence interval for the mean score that an aspirant has scored after enrolling in the institute’s program."
   ]
  },
  {
   "cell_type": "markdown",
   "id": "87cfdaee",
   "metadata": {
    "id": "FDpNRxi5IABi"
   },
   "source": [
    "* We saw that the distribution of the scores is not strictly normal\n",
    "* For constructing a confidence interval for the mean score, we need to know the underlying distribution of the mean score, which is not available\n",
    "* The Central Limit Theorem (CLT) can help us with this"
   ]
  },
  {
   "cell_type": "markdown",
   "id": "ecc5dab5",
   "metadata": {
    "id": "07333995"
   },
   "source": [
    "**What is Central Limit Theorem (CLT)?**\n",
    "\n",
    "The Central Limit Theorem states that the sampling distribution of the sample means will approach a normal distribution as the sample size gets bigger, no matter what the shape of the population distribution is.\n",
    "\n",
    "Mathematically, if we are drawing multiple samples of size $n$ from a population with mean $\\mu$ and standard deviation $\\sigma$ and $\\bar{X}$ is the random variable representing the sample mean, then $\\bar{X}$ tends to follow a normal distribution as $n$ increases.\n",
    "\n",
    "* The mean of $\\bar{X}$ is equal to $\\mu$\n",
    "* The standard deviation of $\\bar{X}$ (also called as the standard error) is equal to $\\sigma/\\sqrt{n}$"
   ]
  },
  {
   "cell_type": "markdown",
   "id": "2e506030",
   "metadata": {},
   "source": [
    "**Checking the assumptions of the CLT**:\n",
    "- We have a random sample according to the institute\n",
    "- We have a sample size of $n=600 > 30$ so the CLT applies and the following holds\n",
    "    \n",
    "    $$ \\bar X \\sim \\mathcal{N}(\\mu, \\frac{\\sigma^2}{n}) $$ \n",
    "    \n",
    "Here, it is assumed that $\\sigma$ and $\\mu$ are known."
   ]
  },
  {
   "cell_type": "markdown",
   "id": "e2ed5dc7",
   "metadata": {
    "id": "00723391"
   },
   "source": [
    "As the population standard deviation is known, the normal distribution will be used to calculate the confidence interval. The 95% confidence interval for the population mean can be calculated by using the `interval()` function of the `norm` class of `scipy.stats`\n",
    "\n",
    "* The `interval()` function calculates the endpoints within which the specified percentage of values of the distribution lie, where\n",
    "  * `alpha` denotes the confidence level\n",
    "  * `loc` denotes the mean\n",
    "  * `scale` denotes the standard deviation"
   ]
  },
  {
   "cell_type": "markdown",
   "id": "b9805d66",
   "metadata": {},
   "source": [
    "**ADEL'S NOTE**: If the standard deviation is unknown, the confidence interval for the mean should be derived from a student distribution instead. However, when the sample size is big enough, it wouldn't make a difference since then the student distribution converges towards the normal distribution."
   ]
  },
  {
   "cell_type": "code",
   "execution_count": 7,
   "id": "768520ac",
   "metadata": {
    "id": "7e7e7f9a",
    "outputId": "74ca8ccc-e519-4119-b9cc-c4212d1b978b"
   },
   "outputs": [
    {
     "data": {
      "text/plain": [
       "array([84.02, 85.62])"
      ]
     },
     "execution_count": 7,
     "metadata": {},
     "output_type": "execute_result"
    }
   ],
   "source": [
    "# import the required function\n",
    "from scipy.stats import norm, t\n",
    "\n",
    "# calculate the value of sample mean\n",
    "x_bar = df.final_score.mean()\n",
    "\n",
    "# population standard deviation is known to be 10\n",
    "sigma = 10\n",
    "\n",
    "#sample size\n",
    "n = 600\n",
    "\n",
    "# construct the confidence interval\n",
    "np.round(norm.interval(alpha=0.95, loc=x_bar, scale=sigma / np.sqrt(n)), 2)"
   ]
  },
  {
   "cell_type": "code",
   "execution_count": 13,
   "id": "6c511ac1",
   "metadata": {},
   "outputs": [
    {
     "ename": "TypeError",
     "evalue": "_parse_args() missing 1 required positional argument: 'df'",
     "output_type": "error",
     "traceback": [
      "\u001b[1;31m---------------------------------------------------------------------------\u001b[0m",
      "\u001b[1;31mTypeError\u001b[0m                                 Traceback (most recent call last)",
      "Input \u001b[1;32mIn [13]\u001b[0m, in \u001b[0;36m<cell line: 13>\u001b[1;34m()\u001b[0m\n\u001b[0;32m      9\u001b[0m x_bar \u001b[38;5;241m=\u001b[39m \u001b[38;5;241m43\u001b[39m\n\u001b[0;32m     11\u001b[0m sigma \u001b[38;5;241m=\u001b[39m \u001b[38;5;241m3.6\u001b[39m\n\u001b[1;32m---> 13\u001b[0m \u001b[43mstats\u001b[49m\u001b[38;5;241;43m.\u001b[39;49m\u001b[43mt\u001b[49m\u001b[38;5;241;43m.\u001b[39;49m\u001b[43minterval\u001b[49m\u001b[43m(\u001b[49m\u001b[43malpha\u001b[49m\u001b[43m \u001b[49m\u001b[38;5;241;43m=\u001b[39;49m\u001b[43m \u001b[49m\u001b[38;5;241;43m0.95\u001b[39;49m\u001b[43m,\u001b[49m\u001b[43mloc\u001b[49m\u001b[43m \u001b[49m\u001b[38;5;241;43m=\u001b[39;49m\u001b[43m \u001b[49m\u001b[43mx_bar\u001b[49m\u001b[43m,\u001b[49m\u001b[43m \u001b[49m\u001b[43mscale\u001b[49m\u001b[43m \u001b[49m\u001b[38;5;241;43m=\u001b[39;49m\u001b[43m \u001b[49m\u001b[43msigma\u001b[49m\u001b[43m)\u001b[49m\n",
      "File \u001b[1;32m~\\anaconda3\\lib\\site-packages\\scipy\\stats\\_distn_infrastructure.py:1429\u001b[0m, in \u001b[0;36mrv_generic.interval\u001b[1;34m(self, alpha, *args, **kwds)\u001b[0m\n\u001b[0;32m   1427\u001b[0m q1 \u001b[38;5;241m=\u001b[39m (\u001b[38;5;241m1.0\u001b[39m\u001b[38;5;241m-\u001b[39malpha)\u001b[38;5;241m/\u001b[39m\u001b[38;5;241m2\u001b[39m\n\u001b[0;32m   1428\u001b[0m q2 \u001b[38;5;241m=\u001b[39m (\u001b[38;5;241m1.0\u001b[39m\u001b[38;5;241m+\u001b[39malpha)\u001b[38;5;241m/\u001b[39m\u001b[38;5;241m2\u001b[39m\n\u001b[1;32m-> 1429\u001b[0m a \u001b[38;5;241m=\u001b[39m \u001b[38;5;28mself\u001b[39m\u001b[38;5;241m.\u001b[39mppf(q1, \u001b[38;5;241m*\u001b[39margs, \u001b[38;5;241m*\u001b[39m\u001b[38;5;241m*\u001b[39mkwds)\n\u001b[0;32m   1430\u001b[0m b \u001b[38;5;241m=\u001b[39m \u001b[38;5;28mself\u001b[39m\u001b[38;5;241m.\u001b[39mppf(q2, \u001b[38;5;241m*\u001b[39margs, \u001b[38;5;241m*\u001b[39m\u001b[38;5;241m*\u001b[39mkwds)\n\u001b[0;32m   1431\u001b[0m \u001b[38;5;28;01mreturn\u001b[39;00m a, b\n",
      "File \u001b[1;32m~\\anaconda3\\lib\\site-packages\\scipy\\stats\\_distn_infrastructure.py:2117\u001b[0m, in \u001b[0;36mrv_continuous.ppf\u001b[1;34m(self, q, *args, **kwds)\u001b[0m\n\u001b[0;32m   2096\u001b[0m \u001b[38;5;28;01mdef\u001b[39;00m \u001b[38;5;21mppf\u001b[39m(\u001b[38;5;28mself\u001b[39m, q, \u001b[38;5;241m*\u001b[39margs, \u001b[38;5;241m*\u001b[39m\u001b[38;5;241m*\u001b[39mkwds):\n\u001b[0;32m   2097\u001b[0m     \u001b[38;5;124;03m\"\"\"Percent point function (inverse of `cdf`) at q of the given RV.\u001b[39;00m\n\u001b[0;32m   2098\u001b[0m \n\u001b[0;32m   2099\u001b[0m \u001b[38;5;124;03m    Parameters\u001b[39;00m\n\u001b[1;32m   (...)\u001b[0m\n\u001b[0;32m   2115\u001b[0m \n\u001b[0;32m   2116\u001b[0m \u001b[38;5;124;03m    \"\"\"\u001b[39;00m\n\u001b[1;32m-> 2117\u001b[0m     args, loc, scale \u001b[38;5;241m=\u001b[39m \u001b[38;5;28mself\u001b[39m\u001b[38;5;241m.\u001b[39m_parse_args(\u001b[38;5;241m*\u001b[39margs, \u001b[38;5;241m*\u001b[39m\u001b[38;5;241m*\u001b[39mkwds)\n\u001b[0;32m   2118\u001b[0m     q, loc, scale \u001b[38;5;241m=\u001b[39m \u001b[38;5;28mmap\u001b[39m(asarray, (q, loc, scale))\n\u001b[0;32m   2119\u001b[0m     args \u001b[38;5;241m=\u001b[39m \u001b[38;5;28mtuple\u001b[39m(\u001b[38;5;28mmap\u001b[39m(asarray, args))\n",
      "\u001b[1;31mTypeError\u001b[0m: _parse_args() missing 1 required positional argument: 'df'"
     ]
    }
   ],
   "source": [
    "from scipy.stats import norm, t\n",
    "import numpy as np\n",
    "\n",
    "confidence_coef = 0.95\n",
    "\n",
    "#sample size\n",
    "n = 100\n",
    "\n",
    "x_bar = 43\n",
    "\n",
    "sigma = 3.6\n",
    "\n",
    "stats.t.interval(alpha = 0.95,loc = x_bar, scale = sigma)\n",
    "\n"
   ]
  },
  {
   "cell_type": "markdown",
   "id": "8d47ec17",
   "metadata": {
    "id": "01f71f14"
   },
   "source": [
    "* The 95% confidence interval obtained for the mean score is [84.02, 85.62]. \n",
    "* **This means that it is 95% likely that the average score for an aspirant enrolled in the institute's program will be between 84.02 and 85.62.**"
   ]
  },
  {
   "cell_type": "markdown",
   "id": "09c45e85",
   "metadata": {},
   "source": [
    "**Adel's Question**: Can we use this interval to test the hypotheses of question 2 ? (Answer below)"
   ]
  },
  {
   "cell_type": "markdown",
   "id": "db9cff9a",
   "metadata": {},
   "source": [
    "#### Adel add-on: effect of size and the knowledge of the standard deviation\n",
    "\n",
    "- Whenever the CVLT assumptions are fullfilled, the mean always follows a normal distribution (regardless of whether we know the standard deviation of the variables)\n",
    "- To calculate the confidence interval:\n",
    "    - *Standard deviation is known*: use normal distribution interval with the known std\n",
    "    - *Standard deviation is not knwon and size is large*: estimate the std and then use the normal dist intervals \n",
    "    - *Standard deviation is not known and size is small*: estimate the std and use t-distribution intervals\n",
    "\n",
    "- When the sample size is smaller, the confidence interval of the mean is larger"
   ]
  },
  {
   "cell_type": "code",
   "execution_count": 12,
   "id": "f7bf52ef",
   "metadata": {},
   "outputs": [
    {
     "data": {
      "text/plain": [
       "array([82.86, 86.78])"
      ]
     },
     "execution_count": 12,
     "metadata": {},
     "output_type": "execute_result"
    }
   ],
   "source": [
    "np.round(norm.interval(0.95, loc=x_bar, scale=sigma / np.sqrt(100)), 2)"
   ]
  },
  {
   "cell_type": "markdown",
   "id": "2a391b6f",
   "metadata": {},
   "source": [
    "- When the sample size is smaller and the standard deviation unknown, the t-distribution provides largers confidence intervals"
   ]
  },
  {
   "cell_type": "code",
   "execution_count": 13,
   "id": "3e1371c3",
   "metadata": {},
   "outputs": [
    {
     "data": {
      "text/plain": [
       "array([82.24, 87.4 ])"
      ]
     },
     "execution_count": 13,
     "metadata": {},
     "output_type": "execute_result"
    }
   ],
   "source": [
    "n_small = 10\n",
    "\n",
    "np.round(norm.interval(0.95, loc=x_bar, scale=df.final_score.std() / np.sqrt(n_small)), 2)"
   ]
  },
  {
   "cell_type": "code",
   "execution_count": 14,
   "id": "2ea00f99",
   "metadata": {},
   "outputs": [
    {
     "data": {
      "text/plain": [
       "array([81.89, 87.75])"
      ]
     },
     "execution_count": 14,
     "metadata": {},
     "output_type": "execute_result"
    }
   ],
   "source": [
    "np.round(t.interval(0.95, df = n_small, loc=x_bar, scale=df.final_score.std() / np.sqrt(n_small)), 2)"
   ]
  },
  {
   "cell_type": "markdown",
   "id": "0d476e78",
   "metadata": {},
   "source": [
    "#### Adel add-on: interval formula for the centered confidence interval\n",
    "\n",
    "- Notice that the interval in scipy function is calculated using the following formula\n",
    "$$\\left [\\bar x + \\frac{\\sigma}{\\sqrt{n}} \\times z_{\\alpha/2}, \\bar x + \\frac{\\sigma}{\\sqrt{n}} \\times z_{1-\\alpha/2} \\right]$$\n",
    "where $z_{\\alpha}$ is the $\\alpha-$quantile of the standard normal distribution. Let's check it"
   ]
  },
  {
   "cell_type": "code",
   "execution_count": 15,
   "id": "a763a3b5",
   "metadata": {},
   "outputs": [
    {
     "data": {
      "text/plain": [
       "array([84.02, 85.62])"
      ]
     },
     "execution_count": 15,
     "metadata": {},
     "output_type": "execute_result"
    }
   ],
   "source": [
    "alpha = 0.05\n",
    "np.round((x_bar + sigma*norm.ppf(alpha/2)/np.sqrt(n),\n",
    "         x_bar + sigma*norm.ppf(1 - alpha/2)/np.sqrt(n)), 2)"
   ]
  },
  {
   "cell_type": "markdown",
   "id": "9362a4bd",
   "metadata": {},
   "source": [
    "which is the same result"
   ]
  },
  {
   "cell_type": "markdown",
   "id": "122acd27",
   "metadata": {
    "id": "dbfe3778"
   },
   "source": [
    "## Validating the critic's claim using a hypothesis test"
   ]
  },
  {
   "cell_type": "markdown",
   "id": "91475dc0",
   "metadata": {
    "id": "04ef6c7f"
   },
   "source": [
    "To test the validity of the critic's claim (the mean score of the students from A2Z institute is less than last year’s cut-off score of 84), we will perform a hypothesis test (taking alpha = 5%)\n",
    "\n"
   ]
  },
  {
   "cell_type": "markdown",
   "id": "1d8884af",
   "metadata": {
    "id": "946a1f7b"
   },
   "source": [
    "**Null and alternative hypotheses**\n",
    "\n",
    "Let $\\mu$ be the mean final score of all aspirants who enroll in the institute's program.\n",
    "\n",
    "The null hypothesis can be written as\n",
    "\n",
    ">$H_0: \\mu >= 84$\n",
    "\n",
    "against the alternate hypothesis\n",
    "\n",
    ">$H_a: \\mu < 84$"
   ]
  },
  {
   "cell_type": "markdown",
   "id": "bac79ac7",
   "metadata": {
    "id": "CrWJyVhViLN7"
   },
   "source": [
    "For comparing a sample mean $\\bar{x}$ with a hypothesized population mean $\\mu$ where the sample size is $n$ and the population standard deviation is known to be $\\sigma$, the one-sample z-test is used. The test statistic of the z-test is given as:\n",
    "\n",
    "$$z = \\frac{(\\bar{x} - \\mu)}{\\sigma/\\sqrt{n}}\\sim \\mathcal{N}(0,1)$$\n",
    "\n",
    "The test statistic follows a standard normal distribution."
   ]
  },
  {
   "cell_type": "markdown",
   "id": "e3dffe05",
   "metadata": {
    "id": "34c69e47"
   },
   "source": [
    "**Are the assumptions of Z-test satisfied?**"
   ]
  },
  {
   "cell_type": "markdown",
   "id": "40b837bb",
   "metadata": {
    "id": "24b3792a"
   },
   "source": [
    "*   Samples are drawn from a normal distribution - Since the sample size is 600(which is > 30), Central Limit Theorem states that the distribution of sample means will be approximately normal.  \n",
    "*   Observations are from a simple random sample - the institute collected a simple random sample\n",
    "*   Standard deviation is known - Yes\n",
    "\n",
    "\n",
    "Voila! We can use Z-test for this problem."
   ]
  },
  {
   "cell_type": "markdown",
   "id": "7beb0d6f",
   "metadata": {
    "id": "f21091f9"
   },
   "source": [
    "**Calculate the Z-statistic value**"
   ]
  },
  {
   "cell_type": "code",
   "execution_count": 22,
   "id": "c8bf9820",
   "metadata": {
    "id": "8cf5da63",
    "outputId": "abe6ec3f-2a1f-4f50-bd03-0a77368e8468"
   },
   "outputs": [
    {
     "data": {
      "text/plain": [
       "2.008581589082085"
      ]
     },
     "execution_count": 22,
     "metadata": {},
     "output_type": "execute_result"
    }
   ],
   "source": [
    "# set the values of population mean and population standard deviation \n",
    "mu, sigma = 84, 10\n",
    "\n",
    "# calculate the value of the sample mean from the data\n",
    "x_bar = df.final_score.mean()\n",
    "\n",
    "\n",
    "# calculate the test statistic\n",
    "test_stat = (x_bar - mu) / (sigma/np.sqrt(600))\n",
    "test_stat"
   ]
  },
  {
   "cell_type": "markdown",
   "id": "6d70bd54",
   "metadata": {
    "id": "663d42ca"
   },
   "source": [
    "**The Z-test statistic follows a standard normal distribution.**\n",
    "\n",
    "Let's plot the distribution of the Z-test statistic and see where the computed test statistic lies in the plot."
   ]
  },
  {
   "cell_type": "code",
   "execution_count": 27,
   "id": "96a35c87",
   "metadata": {
    "id": "aafe0d41",
    "outputId": "4a071755-265c-4631-e77c-d234e3ab81f0"
   },
   "outputs": [
    {
     "data": {
      "image/png": "[encoded data removed]",
      "text/plain": [
       "<Figure size 432x288 with 1 Axes>"
      ]
     },
     "metadata": {
      "needs_background": "light"
     },
     "output_type": "display_data"
    }
   ],
   "source": [
    "# import the required function\n",
    "from scipy.stats import norm\n",
    "\n",
    "test_stat = -2\n",
    "\n",
    "# plotting the distribution of Z test statistic along with the computed test statistic\n",
    "# We are plotting the distributions here to better visualize the calculations\n",
    "x = np.linspace(-4, 4, 100) # create an array of 100 numbers starting from -4 and ending at 4\n",
    "plt.plot(x, norm.pdf(x, 0, 1)) # plot the pdf of the normal distribution\n",
    "plt.axvline(x = test_stat, c = 'b') # draw a vertical red line through the mentioned point\n",
    "plt.show() # display the plot"
   ]
  },
  {
   "cell_type": "markdown",
   "id": "6bf52b1c",
   "metadata": {},
   "source": [
    "Rejecting the null hypothesis would happen if the test statistics is way below the mean (0) which is obvuiously not the case here. Let's test this using both the p-value and the critical region approaches"
   ]
  },
  {
   "cell_type": "markdown",
   "id": "92e5466d",
   "metadata": {},
   "source": [
    "### P-value approach"
   ]
  },
  {
   "cell_type": "markdown",
   "id": "82081b6c",
   "metadata": {},
   "source": [
    "We have a left-tailed test ($H_a : \\mu < 84)$: mean values $\\bar x$ much smaller than 84 (Eg: $\\bar x = 0$) are unlikely if the null hypothesis holds, i.e. if $\\mu >= 84$. Hence, the p-value is the probability of getting **at most** the observed mean value. The area to consider is to the left and \n",
    "\n",
    "$$p-value = CDF(\\mbox{test_statistic})$$"
   ]
  },
  {
   "cell_type": "markdown",
   "id": "f6b72371",
   "metadata": {},
   "source": [
    "Visually, this would corresopnd to the blue region"
   ]
  },
  {
   "cell_type": "code",
   "execution_count": 28,
   "id": "31de46de",
   "metadata": {},
   "outputs": [
    {
     "data": {
      "image/png": "[encoded data removed]",
      "text/plain": [
       "<Figure size 432x288 with 1 Axes>"
      ]
     },
     "metadata": {
      "needs_background": "light"
     },
     "output_type": "display_data"
    }
   ],
   "source": [
    "# plotting the distribution of Z test statistic along with the computed test statistic\n",
    "# We are plotting the distributions here to better visualize the calculations\n",
    "x = np.linspace(-4, 4, 100) # create an array of 100 numbers starting from -4 and ending at 4\n",
    "plt.plot(x, norm.pdf(x, 0, 1)) # plot the pdf of the normal distribution\n",
    "plt.axvline(x = test_stat, c = 'b') # draw a vertical red line through the mentioned point\n",
    "## Adel add-on for the area below the curve\n",
    "x1 = np.linspace(-4, test_stat, 50)\n",
    "plt.fill_between(x1, norm.pdf(x1, 0, 1), color='b') # fill the area under the curve before the critical value with red color\n",
    "plt.annotate('p-value', (-3, 0.20), color = 'b') # annotate the mentioned text at the mentioned location\n",
    "plt.annotate('Test statistic', (2.2, 0.35), color = 'blue')\n",
    "plt.show() # display the plot"
   ]
  },
  {
   "cell_type": "code",
   "execution_count": 29,
   "id": "589f09b3",
   "metadata": {
    "id": "1cf0b5f9",
    "outputId": "f925ab73-34ea-471b-85b3-5932d3178f9e"
   },
   "outputs": [
    {
     "data": {
      "text/plain": [
       "0.022750131948179195"
      ]
     },
     "execution_count": 29,
     "metadata": {},
     "output_type": "execute_result"
    }
   ],
   "source": [
    "# calculate the p-value using the cdf() function\n",
    "norm.cdf(test_stat)"
   ]
  },
  {
   "cell_type": "markdown",
   "id": "312981dd",
   "metadata": {
    "id": "92d1bee8"
   },
   "source": [
    "**Insights**\n",
    "\n",
    "* As the p-value ~0.98 is greater than the level of significance (0.05), we fail to reject the null hypothesis\n",
    "* We do not have enough statistical evidence to say that the mean final score of all aspirants who enroll in the institute's program is less than last year's cutoff of 84\n",
    "* This result validates the confidence interval as well\n",
    "  * The 95% confidence interval for the mean final score was [84.02,85.62] (NOT TRUE: we cannot validate a one-sided test with a centered confidence interval)\n",
    "  * Using a statistical hypothesis test at 5% alpha, we did not find significant evidence that the mean final score is less than 84"
   ]
  },
  {
   "cell_type": "markdown",
   "id": "816948b6",
   "metadata": {},
   "source": [
    "**Adel's Add-On**: We can **NOT** use the centered confidence interval calculated in Q1 to test a one-sided hypothesis .\n",
    "\n",
    "We need to construct a one-sided interval with the folllowing formula\n",
    "$$\\left [ -\\infty, \\bar x + \\frac{\\sigma}{\\sqrt{n}} \\times z_{1-\\alpha} \\right ]$$\n",
    "Hence the one-sided confidence interval"
   ]
  },
  {
   "cell_type": "code",
   "execution_count": 20,
   "id": "0e2da4b9",
   "metadata": {},
   "outputs": [
    {
     "data": {
      "text/plain": [
       "array([ -inf, 85.49])"
      ]
     },
     "execution_count": 20,
     "metadata": {},
     "output_type": "execute_result"
    }
   ],
   "source": [
    "np.round((-np.inf, x_bar+ sigma * norm.ppf(0.95)/np.sqrt(n)), 2)"
   ]
  },
  {
   "cell_type": "markdown",
   "id": "cea5c08b",
   "metadata": {},
   "source": [
    "Since the value 84 is in that interval, the null hypothesis is not rejected."
   ]
  },
  {
   "cell_type": "markdown",
   "id": "539fe20c",
   "metadata": {},
   "source": [
    "### Critical region approach (ADD-ON)"
   ]
  },
  {
   "cell_type": "markdown",
   "id": "f3dfc23a",
   "metadata": {},
   "source": [
    "Let's calculate the critical value for the test. The critical value $S_{crit}$ is such that \n",
    "$$P(Z < S_{crit}) = 0.05$$\n",
    "\n",
    "Since $Z$ follows a standard normal distribution, the critical value is"
   ]
  },
  {
   "cell_type": "code",
   "execution_count": 21,
   "id": "c544deb9",
   "metadata": {},
   "outputs": [
    {
     "data": {
      "text/plain": [
       "-1.6448536269514729"
      ]
     },
     "execution_count": 21,
     "metadata": {},
     "output_type": "execute_result"
    }
   ],
   "source": [
    "critical_value = norm.ppf(0.05)\n",
    "critical_value"
   ]
  },
  {
   "cell_type": "code",
   "execution_count": 22,
   "id": "7d79b1b5",
   "metadata": {},
   "outputs": [
    {
     "data": {
      "text/plain": [
       "83.32849131873378"
      ]
     },
     "execution_count": 22,
     "metadata": {},
     "output_type": "execute_result"
    }
   ],
   "source": [
    "critical_score = sigma/np.sqrt(n) * critical_value + mu\n",
    "critical_score"
   ]
  },
  {
   "cell_type": "markdown",
   "id": "5e33d1f5",
   "metadata": {},
   "source": [
    "Since the test statistic is bigger than the critical value, the null hypothesis is not rejected"
   ]
  },
  {
   "cell_type": "code",
   "execution_count": 23,
   "id": "dabe883f",
   "metadata": {},
   "outputs": [
    {
     "data": {
      "image/png": "[encoded data removed]",
      "text/plain": [
       "<Figure size 432x288 with 1 Axes>"
      ]
     },
     "metadata": {
      "needs_background": "light"
     },
     "output_type": "display_data"
    }
   ],
   "source": [
    "# plotting the distribution of Z test statistic along with the computed test statistic\n",
    "# We are plotting the distributions here to better visualize the calculations\n",
    "x = np.linspace(-4, 4, 100) # create an array of 100 numbers starting from -4 and ending at 4\n",
    "plt.plot(x, norm.pdf(x, 0, 1)) # plot the pdf of the normal distribution\n",
    "plt.axvline(x = test_stat, c = 'b') # draw a vertical red line through the mentioned point\n",
    "## Adel add-on for the area below the curve\n",
    "x1 = np.linspace(-4, critical_value, 50)\n",
    "plt.fill_between(x1, norm.pdf(x1, 0, 1), color='r') # fill the area under the curve before the critical value with red color\n",
    "plt.fill_between(np.linspace(-4, test_stat, 50), norm.pdf(np.linspace(-4, test_stat, 50), 0, 1), color='b', alpha=0.5) \n",
    "plt.annotate('Reject Null', (-4, 0.05), color = 'r') # annotate the mentioned text at the mentioned location\n",
    "plt.annotate('Test statistic', (2.2, 0.35), color = 'blue')\n",
    "plt.show() # display the plot"
   ]
  },
  {
   "cell_type": "markdown",
   "id": "17f26b50",
   "metadata": {
    "id": "1N7oTwFP3jUT"
   },
   "source": [
    "## Conclusions and Recommendations"
   ]
  },
  {
   "cell_type": "markdown",
   "id": "b333533b",
   "metadata": {
    "id": "f542b10b"
   },
   "source": [
    "* In the sample data from the past three years, the average score of aspirants who enrolled in A2Z institute's program is 84.82\n",
    "\n",
    "* In the sample data from the past three years, no student scored less than 76 marks and no student got a 100% score, the highest score being 99.47\n",
    "\n",
    "* It is 95% likely that an aspirant enrolled in the institute's program will score between 84.02 and 85.62 on an average\n",
    "\n",
    "* There wasn't enough statistical evidence to support the critic's claim that the mean final score of all aspirants who enroll in the institute's program is less than last year's cut-off of 84\n",
    "\n",
    "* The institute can extend the time frame of the data (check 5-10 years of data) to get more reliable estimates of the effect of the institute's curriculum on the aspirants' performance"
   ]
  },
  {
   "cell_type": "markdown",
   "id": "e52a99e5",
   "metadata": {
    "id": "83hTG8scYRyF"
   },
   "source": [
    "---"
   ]
  },
  {
   "cell_type": "code",
   "execution_count": 13,
   "id": "8011c4b7",
   "metadata": {},
   "outputs": [
    {
     "data": {
      "text/plain": [
       "0.033806170189140665"
      ]
     },
     "execution_count": 13,
     "metadata": {},
     "output_type": "execute_result"
    }
   ],
   "source": [
    "n = 35\n",
    "sigma = 0.2\n",
    "\n",
    "x_bar = 1\n",
    "\n",
    "std_error = sigma / np.sqrt(n)\n",
    "\n",
    "std_error "
   ]
  },
  {
   "cell_type": "code",
   "execution_count": null,
   "id": "9836aa4d",
   "metadata": {},
   "outputs": [],
   "source": []
  }
 ],
 "metadata": {
  "colab": {
   "collapsed_sections": [
    "15c27a03",
    "74aae585",
    "4c95d68d",
    "c25e66c1",
    "4f91affe",
    "9e803198",
    "1eee9694",
    "34bb910b",
    "e8bb4c95",
    "dbfe3778"
   ],
   "name": "Talent Hunt Examination Case Study.ipynb",
   "provenance": []
  },
  "kernelspec": {
   "display_name": "Python 3 (ipykernel)",
   "language": "python",
   "name": "python3"
  },
  "language_info": {
   "codemirror_mode": {
    "name": "ipython",
    "version": 3
   },
   "file_extension": ".py",
   "mimetype": "text/x-python",
   "name": "python",
   "nbconvert_exporter": "python",
   "pygments_lexer": "ipython3",
   "version": "3.9.12"
  },
  "toc": {
   "base_numbering": 1,
   "nav_menu": {},
   "number_sections": true,
   "sideBar": true,
   "skip_h1_title": true,
   "title_cell": "Table of Contents",
   "title_sidebar": "Contents",
   "toc_cell": true,
   "toc_position": {},
   "toc_section_display": true,
   "toc_window_display": true
  }
 },
 "nbformat": 4,
 "nbformat_minor": 5
}
