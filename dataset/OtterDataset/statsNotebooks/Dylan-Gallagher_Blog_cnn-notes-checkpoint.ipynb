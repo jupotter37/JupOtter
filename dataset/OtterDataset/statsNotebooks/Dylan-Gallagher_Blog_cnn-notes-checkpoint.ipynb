{
 "cells": [
  {
   "cell_type": "raw",
   "id": "80651a14-dbf5-4a37-936d-225d028773c4",
   "metadata": {},
   "source": [
    "---\n",
    "author: \"Dylan Gallagher\"\n",
    "date: \"2023-11-03\"\n",
    "categories: [Blog]\n",
    "format: \n",
    "  html:\n",
    "    code-fold: false\n",
    "jupyter: python3\n",
    "image: image.jpg\n",
    "title-block-banner: false\n",
    "draft: true\n",
    "---"
   ]
  },
  {
   "cell_type": "markdown",
   "id": "5ba3eceb-74d6-46d7-b1a5-8044590c9ba9",
   "metadata": {},
   "source": [
    "# Best Maths Resources for Machine Learning\n",
    "\n",
    "### Why learn maths anyway?\n",
    "\n",
    "I'll start by saying that if you just want to **use** machine learning libraries, especially the more beginner-friendly ones like [fast.ai](https://docs.fast.ai/), then you don't really need to know much maths at all, it definitely helps, but it's not at all necessary. If, on the other hand, if you want to dive a little deeper and learn **how** and **why** these algorithms work as well as they do, then taking the time to learn some of the maths is a worthwhile investment. \n",
    "\n",
    "By far the most important areas of maths that machine learning is based on are:\n",
    "- Linear Algebra\n",
    "- Calculus\n",
    "- Probability and Statistics\n",
    "\n",
    "I'll discuss these one-by-one and give you my recommended resources for each of them.\n",
    "\n",
    "### Linear Algebra\n",
    "\n",
    "Linear Algebra is used **a lot** in machine learning. Data in machine learning models are represented by *matrices*. Once you learn about matrices, as well as fundamental operations on matrices such as *matrix multiplication* and the *transpose* of a matrix, you'll find that a lot of dauntingly-complex concepts such as neural networks are nothing more than matrix multiplications. There are many other applications of linear algebra in machine learning, and these include Support Vector Machines and Principal Component Analysis, but we won't go into them in this blog post.\n",
    "\n",
    "Now that I've hopefully convinced you of the importance of linear algebra, here are some great resources:\n",
    "\n",
    "#### [**Khan Academy: Linear Algebra**](https://www.khanacademy.org/math/linear-algebra)\n",
    "Khan Academy is a staple in education and the Linear Algebra section is no exception. He explains everything very well and it's relatively easy to follow. If you just want a quick treatment of linear algebra, this is the resource for you. There's no practice problems, which is a real shame because that's where I found a lot of my understanding came from. An introductory linear algebra textbook can solve this problem. I picked up an older edition of 'Elementary Linear Algebra' by Anton for not much on eBay, which had many practice problems. It also served as a useful reference for linear algebra.\n",
    "\n",
    "#### [**3Blue1Brown : The essence of linear algebra**](https://www.youtube.com/playlist?list=PLZHQObOWTQDPD3MizzM2xVFitgF8hE_ab)\n",
    "3Blue1Brown's YouTube channel is aimed at the mathematically curious. His 'essence of' series are some of his best content in my opinion. This series of videos can be watched before, after, or during a more traditional linear algebra course. It doesn't teach you everything there is to know about linear algebra, but that's not its goal either. The videos are made up of intuitive visualisations that help you understand the fundamental operations beyond just the formulas.\n",
    "\n",
    "#### [**MIT OpenCourseWare: Linear Algebra**](https://ocw.mit.edu/courses/18-06-linear-algebra-spring-2010/)\n",
    "If you want to go sligtly deeper into linear algebra, then this is the resource for you. This is a full university treatment of linear algebra. The teacher, Gilbert Strang, is amazing, I cannot complement him enough. His lectures, alongside his book, provide some of the best explanations of linear algebra concepts I've seen anywhere. This course is quite tough, especially compared to the Khan Academy one, but if you complete it, you'll have an excellent understanding of linear algebra and its applications. \n",
    "\n",
    "#### [**Introduction to Linear Algebra - Gilbert Strang**](https://www.amazon.co.uk/Introduction-Linear-Algebra-Gilbert-Strang/dp/1733146679/ref=pd_lpo_sccl_1/259-8119908-7373708?pd_rd_w=Sm7mK&content-id=amzn1.sym.efc89c20-c5a9-4620-b6cd-2f4e51bac956&pf_rd_p=efc89c20-c5a9-4620-b6cd-2f4e51bac956&pf_rd_r=58V9GA1BFJ0BRE4VTMWY&pd_rd_wg=RlVcN&pd_rd_r=d3d6ef4a-e841-489c-a5c7-2684ddc504f9&pd_rd_i=1733146679&psc=1)\n",
    "This is the accompanying book to the MIT lectures. If you are watching those lectures, I *highly* recommend this book. It's amazing. I find it **much** better than Anton's book. It is a bit more expensive, even second hand, but it's definitely worth it in my opinion. This book (and the accompanying lectures) are all you need to master linear algebra. The questions at the end of the chapter start manageable, but then get really tricky, which I think is a good thing.\n",
    "\n",
    "\n",
    "### Calculus\n",
    "\n",
    "Calculus is another fundamental concept in machine learning. You can get by quite well with just a secondary-school-level understanding of calculus. As long as you know what a derivative is and what it represents, that'll get you a long way. However, learning more advanced topics such as Multivariable Calculus is extremely helpful in the context of machine learning, as the functions we are working with are in high-dimensional space. If this sounds interesting to you, these resources will be very helpful.\n",
    "\n",
    "#### [**Professor Leonard**](https://www.youtube.com/playlist?list=PLF797E961509B4EB5)\n",
    "Professor Leonard has an amazing series on YouTube covering everything from the basics of limits all the way up to multivariable calculus. These videos are recorded in a classroom and I found myself paying a lot more attention to this style of video compared to the electronic blackboard videos of Khan Academy (although they're still great). He goes at a nice pace, and his explanations are amazing. He also does a lot of worked examples which helps a ton. The book which he follows is by Stewart. I started that book, but I wasn't a huge fan of it. I found Thomas' Calculus to be a much better book. They're both fairly standard calculus books and cover basically the same stuff, but I found Thomas' book to "
   ]
  },
  {
   "cell_type": "code",
   "execution_count": null,
   "id": "570e2b3e-4b46-4b9a-aa71-f1cb63e8a2c0",
   "metadata": {},
   "outputs": [],
   "source": []
  },
  {
   "cell_type": "markdown",
   "id": "a825ec04-95ff-4ec9-826f-7f922a87bb06",
   "metadata": {},
   "source": []
  }
 ],
 "metadata": {
  "kernelspec": {
   "display_name": "Python 3 (ipykernel)",
   "language": "python",
   "name": "python3"
  },
  "language_info": {
   "codemirror_mode": {
    "name": "ipython",
    "version": 3
   },
   "file_extension": ".py",
   "mimetype": "text/x-python",
   "name": "python",
   "nbconvert_exporter": "python",
   "pygments_lexer": "ipython3",
   "version": "3.10.12"
  }
 },
 "nbformat": 4,
 "nbformat_minor": 5
}
