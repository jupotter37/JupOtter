{
 "cells": [
  {
   "cell_type": "markdown",
   "metadata": {},
   "source": [
    "Dr Tina Heger's (Dept. of Ecology TUM, Munich) experimental finding -  'Light availability experienced in the field affects ability of following generations to respond to shading in an annual grassland plant.' (https://doi.org/10.1111/1365-2745.12607)"
   ]
  },
  {
   "cell_type": "markdown",
   "metadata": {},
   "source": [
    "![Pinweed](files/Erodium_cicutarium,_flower_and_seed-pod.jpg)"
   ]
  },
  {
   "cell_type": "markdown",
   "metadata": {},
   "source": [
    "### Experiments produce data\n",
    "###  Data has attributes\n",
    "###  Data often classified as variables\n",
    "### Variables often classified as dependent and independent"
   ]
  },
  {
   "cell_type": "markdown",
   "metadata": {},
   "source": [
    "Last line is confusing,another way to say it, dependent is what you want to know, and independent is what you think will help you to know what you want to know. I know, still confusing!, lets say, dependent is along y-axis, and independent is along x-axis."
   ]
  },
  {
   "cell_type": "markdown",
   "metadata": {},
   "source": [
    "Lets look at one of the analysis researcher did\n"
   ]
  },
  {
   "cell_type": "markdown",
   "metadata": {},
   "source": [
    "![Longertime to first flowering](files/Tina Heger-longer time to ﬁrst ﬂowering.png)"
   ]
  },
  {
   "cell_type": "markdown",
   "metadata": {},
   "source": [
    "Lets start by looking at some 'Data' from the above experiment. "
   ]
  },
  {
   "cell_type": "code",
   "execution_count": 4,
   "metadata": {},
   "outputs": [
    {
     "name": "stdout",
     "output_type": "stream",
     "text": [
      "'data.frame':\t863 obs. of  19 variables:\n",
      " $ plant.h          : int  1 2 3 5 6 7 8 10 11 12 ...\n",
      " $ block            : int  1 1 1 1 1 1 1 1 1 1 ...\n",
      " $ treatment        : chr  \"c\" \"c\" \"c\" \"c\" ...\n",
      " $ position         : int  1 2 3 5 6 1 2 4 5 6 ...\n",
      " $ source.pop       : chr  \"NUH\" \"SCH\" \"SSH\" \"SHH\" ...\n",
      " $ source.pop.number: int  9 11 15 12 11 13 13 10 14 7 ...\n",
      " $ source.fam       : chr  \"NUH11\" \"SCH15\" \"SSH7\" \"SHH5\" ...\n",
      " $ field.greenhouse : chr  \"G\" \"G\" \"G\" \"G\" ...\n",
      " $ first.flower     : int  113 105 105 92 105 105 105 99 99 92 ...\n",
      " $ rosette.diameter : num  24 28.7 21 22 21.3 ...\n",
      " $ height           : num  5 10 6 8 5 6 6 7 5 4 ...\n",
      " $ leaf.length      : num  12.24 15.21 7.13 13.8 11.51 ...\n",
      " $ SLA              : num  35.6 26.1 38.9 36.7 25.8 ...\n",
      " $ branch.length    : num  NA NA NA NA NA 70 NA NA NA NA ...\n",
      " $ internode.number : chr  NA NA NA NA ...\n",
      " $ internode.length : num  NA NA NA NA NA ...\n",
      " $ biomass          : num  2.34 NA NA NA NA 2.66 NA NA NA NA ...\n",
      " $ seeds.per.fruit  : num  5 4.8 5 5 4.8 5 5 5 4.8 5 ...\n",
      " $ fruits           : chr  \"71\" \"99\" \"121\" \"102\" ...\n"
     ]
    }
   ],
   "source": [
    "# data wrangling\n",
    "# read.csv ideally takes cares of data type, but some times it fails to recognize the values.\n",
    "# Your NA strings in the csv file, N/A, are interpreted as character and then the whole column is converted to character(https://stackoverflow.com/questions/20060706).\n",
    "greenhouse_data <- read.csv('data/Greenhouse_data_TH/het data-Table 1.csv',header = TRUE,as.is = TRUE,na.strings = \"n/a\")\n",
    "str(greenhouse_data)"
   ]
  },
  {
   "cell_type": "markdown",
   "metadata": {},
   "source": [
    "Light availability experienced in the ﬁeld affects ability of following generations to respond to shading in an annual grassland plant"
   ]
  },
  {
   "cell_type": "markdown",
   "metadata": {},
   "source": [
    "Lets do some summary statistics of data elements"
   ]
  },
  {
   "cell_type": "code",
   "execution_count": 5,
   "metadata": {},
   "outputs": [
    {
     "data": {
      "text/plain": [
       "    plant.h          block        treatment            position    \n",
       " Min.   :  1.0   Min.   : 1.00   Length:863         Min.   :1.000  \n",
       " 1st Qu.:231.5   1st Qu.: 7.00   Class :character   1st Qu.:2.000  \n",
       " Median :451.0   Median :13.00   Mode  :character   Median :4.000  \n",
       " Mean   :451.5   Mean   :13.03                      Mean   :3.513  \n",
       " 3rd Qu.:672.5   3rd Qu.:19.00                      3rd Qu.:5.000  \n",
       " Max.   :900.0   Max.   :25.00                      Max.   :6.000  \n",
       "                                                                   \n",
       "  source.pop        source.pop.number  source.fam        field.greenhouse  \n",
       " Length:863         Min.   : 1.000    Length:863         Length:863        \n",
       " Class :character   1st Qu.: 5.000    Class :character   Class :character  \n",
       " Mode  :character   Median : 9.000    Mode  :character   Mode  :character  \n",
       "                    Mean   : 8.803                                         \n",
       "                    3rd Qu.:13.000                                         \n",
       "                    Max.   :16.000                                         \n",
       "                                                                           \n",
       "  first.flower   rosette.diameter     height       leaf.length    \n",
       " Min.   : 92.0   Min.   : 7.67    Min.   : 3.00   Min.   : 5.322  \n",
       " 1st Qu.: 99.0   1st Qu.:22.00    1st Qu.: 8.00   1st Qu.:12.178  \n",
       " Median :105.0   Median :26.00    Median :11.00   Median :14.989  \n",
       " Mean   :107.6   Mean   :26.02    Mean   :11.16   Mean   :15.055  \n",
       " 3rd Qu.:113.0   3rd Qu.:29.67    3rd Qu.:14.00   3rd Qu.:17.654  \n",
       " Max.   :132.0   Max.   :44.67    Max.   :26.00   Max.   :27.345  \n",
       " NA's   :2       NA's   :2        NA's   :2       NA's   :20      \n",
       "      SLA        branch.length    internode.number   internode.length\n",
       " Min.   :14.95   Min.   : 39.00   Length:863         Min.   : 3.900  \n",
       " 1st Qu.:30.42   1st Qu.: 65.00   Class :character   1st Qu.: 6.900  \n",
       " Median :35.46   Median : 72.00   Mode  :character   Median : 7.556  \n",
       " Mean   :36.16   Mean   : 72.13                      Mean   : 7.667  \n",
       " 3rd Qu.:40.19   3rd Qu.: 79.75                      3rd Qu.: 8.444  \n",
       " Max.   :75.66   Max.   :105.00                      Max.   :11.333  \n",
       " NA's   :20      NA's   :189                         NA's   :245     \n",
       "    biomass      seeds.per.fruit    fruits         \n",
       " Min.   :1.160   Min.   :2.600   Length:863        \n",
       " 1st Qu.:2.370   1st Qu.:4.600   Class :character  \n",
       " Median :2.660   Median :5.000   Mode  :character  \n",
       " Mean   :2.803   Mean   :4.797                     \n",
       " 3rd Qu.:3.130   3rd Qu.:5.000                     \n",
       " Max.   :5.510   Max.   :5.000                     \n",
       " NA's   :134     NA's   :117                       "
      ]
     },
     "metadata": {},
     "output_type": "display_data"
    }
   ],
   "source": [
    "summary(greenhouse_data)"
   ]
  },
  {
   "cell_type": "code",
   "execution_count": 6,
   "metadata": {},
   "outputs": [
    {
     "data": {
      "text/html": [
       "<ol class=list-inline>\n",
       "\t<li>'c'</li>\n",
       "\t<li>'he'</li>\n",
       "\t<li>'ho'</li>\n",
       "</ol>\n"
      ],
      "text/latex": [
       "\\begin{enumerate*}\n",
       "\\item 'c'\n",
       "\\item 'he'\n",
       "\\item 'ho'\n",
       "\\end{enumerate*}\n"
      ],
      "text/markdown": [
       "1. 'c'\n",
       "2. 'he'\n",
       "3. 'ho'\n",
       "\n",
       "\n"
      ],
      "text/plain": [
       "[1] \"c\"  \"he\" \"ho\""
      ]
     },
     "metadata": {},
     "output_type": "display_data"
    }
   ],
   "source": [
    "# Lets look at avaliable treatments\n",
    "unique(greenhouse_data$treatment)"
   ]
  },
  {
   "cell_type": "markdown",
   "metadata": {},
   "source": [
    "In the experiment, these are the treatment groups, but what are those , and why are they here.\n",
    "\n",
    "Lets look at the researcher real question 'I wanted to know whether these differences in responses to shading \n",
    "can be traced back to differences inlight availability in the ﬁeld'. So, to setup the scenarios so to speak, \n",
    "she needed to simulate different growing conditions c, control; he, heterogeneous shading; ho, homogeneous shading.\n",
    "\n",
    "Open canopy (no shading, ‘control’), closed canopy (‘homogeneous shade’), and a patchy combination of shade, fully sunlit gaps, and patches of deep shade (‘heterogeneous shade’)\n"
   ]
  },
  {
   "cell_type": "markdown",
   "metadata": {},
   "source": [
    "Finding - Time to ﬁrst ﬂowering is signiﬁcantly inﬂuenced by the light environment in the source populations"
   ]
  },
  {
   "cell_type": "code",
   "execution_count": null,
   "metadata": {
    "collapsed": true
   },
   "outputs": [],
   "source": [
    "# For our purpose, we will consider one question\n",
    "# Time to ﬁrst ﬂowering was determined as the number of days between planting and ﬁrst ﬂowering\n"
   ]
  },
  {
   "cell_type": "markdown",
   "metadata": {},
   "source": [
    "We have data, and we want to emulate the researcher's result. Because we have lot of observations per treatment group, we need a metric, 'mean' is commonly used, i.e. sum of observations(pick the variable of interest) divided by number of observations"
   ]
  },
  {
   "cell_type": "code",
   "execution_count": 8,
   "metadata": {},
   "outputs": [
    {
     "data": {
      "text/html": [
       "<ol class=list-inline>\n",
       "\t<li>101.590909090909</li>\n",
       "\t<li>112.126712328767</li>\n",
       "\t<li>109.053003533569</li>\n",
       "</ol>\n"
      ],
      "text/latex": [
       "\\begin{enumerate*}\n",
       "\\item 101.590909090909\n",
       "\\item 112.126712328767\n",
       "\\item 109.053003533569\n",
       "\\end{enumerate*}\n"
      ],
      "text/markdown": [
       "1. 101.590909090909\n",
       "2. 112.126712328767\n",
       "3. 109.053003533569\n",
       "\n",
       "\n"
      ],
      "text/plain": [
       "[1] 101.5909 112.1267 109.0530"
      ]
     },
     "metadata": {},
     "output_type": "display_data"
    }
   ],
   "source": [
    "# Note - na.rm\ta logical value indicating whether NA values should be stripped before the computation proceeds.\n",
    "mean.c <- mean(greenhouse_data[greenhouse_data$treatment=='c','first.flower'],na.rm=TRUE)\n",
    "mean.he <- mean(greenhouse_data[greenhouse_data$treatment=='he','first.flower'],na.rm=TRUE)\n",
    "mean.ho <- mean(greenhouse_data[greenhouse_data$treatment=='ho','first.flower'],na.rm=TRUE)\n",
    "\n",
    "treatmentxflowering_means <- c(mean.c,mean.he,mean.ho)\n",
    "treatmentxflowering_means"
   ]
  },
  {
   "cell_type": "code",
   "execution_count": 9,
   "metadata": {},
   "outputs": [
    {
     "data": {
      "image/png": "[encoded data removed]",
      "text/plain": [
       "Plot with title “Shading effects on flowering”"
      ]
     },
     "metadata": {},
     "output_type": "display_data"
    }
   ],
   "source": [
    "# Do a box plot to confirm your means\n",
    "boxplot(first.flower~treatment,data=greenhouse_data, main=\"Shading effects on flowering\", \n",
    "  \txlab=\"Shading treatments\", ylab=\"Time to flower (days)\")"
   ]
  },
  {
   "cell_type": "markdown",
   "metadata": {},
   "source": [
    "At this stage we could state that 'he' is mostly influencing the time to flower, hence ...., but as researchers like to be confident in their findings, they attest it by doing a statistical test which gives a probability that the results were not by chance.\n",
    "\n",
    "One such test where we have to compare two means, is t-test"
   ]
  },
  {
   "cell_type": "code",
   "execution_count": 11,
   "metadata": {},
   "outputs": [
    {
     "data": {
      "text/plain": [
       "\n",
       "\tWelch Two Sample t-test\n",
       "\n",
       "data:  greenhouse_data[greenhouse_data$treatment == \"c\", \"first.flower\"] and greenhouse_data[greenhouse_data$treatment == \"he\", \"first.flower\"]\n",
       "t = -18.643, df = 571.65, p-value < 2.2e-16\n",
       "alternative hypothesis: true difference in means is not equal to 0\n",
       "95 percent confidence interval:\n",
       " -11.645768  -9.425838\n",
       "sample estimates:\n",
       "mean of x mean of y \n",
       " 101.5909  112.1267 \n"
      ]
     },
     "metadata": {},
     "output_type": "display_data"
    }
   ],
   "source": [
    "t.test(greenhouse_data[greenhouse_data$treatment=='c','first.flower'],\n",
    "       greenhouse_data[greenhouse_data$treatment=='he','first.flower'],\n",
    "       alternative = \"two.sided\",conf.level = 0.95)"
   ]
  },
  {
   "cell_type": "markdown",
   "metadata": {},
   "source": [
    "We look for two key values - p-value, for now - think that lower than .05 is better (chance of getting this result by random chance). So, we have a 'Measure of the probable truth' (O.N.Bishop) that not subjective."
   ]
  },
  {
   "cell_type": "code",
   "execution_count": 12,
   "metadata": {},
   "outputs": [
    {
     "data": {
      "image/png": "[encoded data removed]",
      "text/plain": [
       "plot without title"
      ]
     },
     "metadata": {},
     "output_type": "display_data"
    }
   ],
   "source": [
    "se <- function(x) sqrt(var(x,na.rm = TRUE)/length(x))\n",
    "treatmentxflowering_se <- c(se(greenhouse_data[greenhouse_data$treatment=='c','first.flower']),\n",
    "                            se(greenhouse_data[greenhouse_data$treatment=='he','first.flower']),\n",
    "                            se(greenhouse_data[greenhouse_data$treatment=='ho','first.flower']))\n",
    "\n",
    "top_SE <- max(treatmentxflowering_means+treatmentxflowering_se*2)\n",
    "treatments <- c(\"c\", \"he\", \"ho\")\n",
    "barCenters <- barplot(treatmentxflowering_means, names.arg=treatments, col=\"gray\", las=1, ylim=c(0,top_SE))"
   ]
  },
  {
   "cell_type": "markdown",
   "metadata": {},
   "source": [
    "Now, the researcher also looked at height, and leaf length. Lets explore that next, shall we ?"
   ]
  },
  {
   "cell_type": "code",
   "execution_count": null,
   "metadata": {
    "collapsed": true
   },
   "outputs": [],
   "source": []
  }
 ],
 "metadata": {
  "kernelspec": {
   "display_name": "R",
   "language": "R",
   "name": "ir"
  },
  "language_info": {
   "codemirror_mode": "r",
   "file_extension": ".r",
   "mimetype": "text/x-r-source",
   "name": "R",
   "pygments_lexer": "r",
   "version": "3.3.2"
  }
 },
 "nbformat": 4,
 "nbformat_minor": 2
}
