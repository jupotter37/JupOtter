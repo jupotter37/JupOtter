{
 "cells": [
  {
   "cell_type": "markdown",
   "metadata": {},
   "source": [
    "# Explaining Text Classifiers with Counterfactual Representations \n",
    "\n",
    "Dataset: EEEC+ with 'gender' as the manipulated concept (2 concept values)\n",
    "\n",
    "Aggressive training scenario"
   ]
  },
  {
   "cell_type": "code",
   "execution_count": 1,
   "metadata": {},
   "outputs": [],
   "source": [
    "from concept_erasure import LeaceEraser, LeaceFitter\n",
    "import torch\n",
    "import numpy as np\n",
    "import scipy\n",
    "\n",
    "from sklearn.linear_model import SGDClassifier, LinearRegression\n",
    "from sklearn.neural_network import MLPClassifier,  MLPRegressor\n",
    "from sklearn.mixture import GaussianMixture\n",
    "from sklearn.model_selection import GridSearchCV\n",
    "\n",
    "\n",
    "from matplotlib import pyplot\n",
    "from matplotlib.ticker import FormatStrFormatter\n"
   ]
  },
  {
   "cell_type": "code",
   "execution_count": 2,
   "metadata": {},
   "outputs": [],
   "source": [
    "# Global parameters\n",
    "\n",
    "projection_method = 'orth' # 'orth' or 'leace' ('leace' is the oblique projection from Belrose et al., 2023, LEACE: Perfect linear concept erasure in closed form, NeurIPS 2023)\n",
    "global_seed = 42 # used for reproductibility\n",
    "rcond = 1e-5 # used for regressions \n",
    "\n",
    "dataset = 'EEEC_plus'\n",
    "dataset = 'aggressive' # 'balanced' or 'aggressive'\n",
    "\n",
    "lin_cl_loss = 'log_loss'\n",
    "concept_manipulated = 'gender' # 'gender' or 'race'"
   ]
  },
  {
   "cell_type": "markdown",
   "metadata": {},
   "source": [
    "## LOADING DATA \n",
    "\n",
    "- Data is located in the dataset: *./datasets/EEEC/EEEC_3race/*\n",
    "- **bert** representations for each observations have been pre-calculated using **bert-base-uncased** model (via Huggingface library) and stored in a dictonnary of arrays *D.npz*"
   ]
  },
  {
   "cell_type": "markdown",
   "metadata": {},
   "source": [
    "## Loading train, validation and test data"
   ]
  },
  {
   "cell_type": "code",
   "execution_count": 3,
   "metadata": {},
   "outputs": [
    {
     "name": "stdout",
     "output_type": "stream",
     "text": [
      " \n",
      "Features:\n",
      "    d = 768\n",
      "Number of observations:\n",
      "    train: 25600\n",
      "    validation: 6400\n",
      "    test: 8000\n",
      "Z labels (protected concept levels): \n",
      "    k = 2 \n",
      "    mapping: {'female': 0, 'male': 1}\n",
      "    num_obs_train: {'female': 8089, 'male': 17511}\n",
      "    num_obs_validation: {'female': 2049, 'male': 4351}\n",
      "    num_obs_test: {'female': 4019, 'male': 3981}\n",
      "Y labels (downstream task): \n",
      "    m = 5\n",
      "    mapping: {'anger': 0, 'fear': 1, 'joy': 2, 'neutral': 3, 'sadness': 4}\n",
      "    num_obs_train: {'anger': 5252, 'fear': 5169, 'joy': 5004, 'neutral': 4988, 'sadness': 5187}\n",
      "    num_obs_validation: {'anger': 1334, 'fear': 1301, 'joy': 1231, 'neutral': 1264, 'sadness': 1270}\n",
      "    num_obs_test: {'anger': 1635, 'fear': 1530, 'joy': 1587, 'neutral': 1639, 'sadness': 1609}\n",
      "\n"
     ]
    }
   ],
   "source": [
    "base_dir = './datasets/EEEC/EEEC_3race/'\n",
    "\n",
    "\n",
    "# Load a train and validation set corresponding to the training scenario (aggressive or balanced)\n",
    "# Load the test set of the balanced version of EEEC+\n",
    "if dataset == 'balanced':\n",
    "    with np.load(base_dir + 'D_balanced.npz') as balanced_data:\n",
    "        X, Z_raw, Y_raw = balanced_data['train_X'], balanced_data[f'train_Z_{concept_manipulated}'], balanced_data['train_Y']\n",
    "        X_test, Z_test_raw, Y_test_raw = balanced_data['test_X'], balanced_data[f'test_Z_{concept_manipulated}'], balanced_data['test_Y']\n",
    "        \n",
    "        X_val, Z_val_raw, Y_val_raw =  balanced_data['validation_X'], balanced_data[f'validation_Z_{concept_manipulated}'], balanced_data['validation_Y']\n",
    "else:\n",
    "    with np.load(base_dir + f'D_aggressive_{concept_manipulated}.npz') as aggressive_data:\n",
    "        X, Z_raw, Y_raw = aggressive_data['train_X'], aggressive_data[f'train_Z_{concept_manipulated}'], aggressive_data['train_Y']\n",
    "        # X_test, Z_test_raw, Y_test_raw = balanced_data['test_X'], balanced_data['test_Z_race'], balanced_data['test_Y']\n",
    "        X_val, Z_val_raw, Y_val_raw =  aggressive_data['validation_X'], aggressive_data[f'validation_Z_{concept_manipulated}'], aggressive_data['validation_Y']\n",
    "    with np.load(base_dir + f'D_balanced.npz') as balanced_data:\n",
    "        # X, Z_raw, Y_raw = balanced_data['train_X'], balanced_data['train_Z_race'], balanced_data['train_Y']\n",
    "        X_test, Z_test_raw, Y_test_raw = balanced_data['test_X'], balanced_data[f'test_Z_{concept_manipulated}'], balanced_data['test_Y']\n",
    "\n",
    "\n",
    "n, d = X.shape # n: number of observations in the train set, d: number of features\n",
    "n_test, _ = X_test.shape # n_test: number of observations in the test set\n",
    "n_validation, _ = X_val.shape # n_validation: number of observations in the validation set\n",
    "z_values = sorted(np.unique(Z_raw)) # list of concept values\n",
    "k = len(z_values) # number of concept values\n",
    "y_values = sorted(np.unique(Y_raw)) # list of labels for the downstream task\n",
    "m = len(y_values) # number of labels for the downstream task\n",
    "\n",
    "z_label2id = {z_values[i]:i for i in range(len(z_values))}\n",
    "y_label2id = {y_values[i]:i for i in range(len(y_values))}\n",
    "\n",
    "Z = np.array([z_label2id[z] for z in Z_raw]).astype(int)\n",
    "Z_test = np.array([z_label2id[z] for z in Z_test_raw]).astype(int)\n",
    "Z_val = np.array([z_label2id[z] for z in Z_val_raw]).astype(int)\n",
    "Y = np.array([y_label2id[y] for y in Y_raw]).astype(int)\n",
    "Y_test = np.array([y_label2id[y] for y in Y_test_raw]).astype(int)\n",
    "Y_val =  np.array([y_label2id[y] for y in Y_val_raw]).astype(int)\n",
    "\n",
    "\n",
    "# Calculate the one hot version of Z\n",
    "def to_one_hot(A):\n",
    "        A_1hot = np.zeros((A.size, A.max()+1))\n",
    "        A_1hot[np.arange(A.size), A] = 1\n",
    "        return A_1hot\n",
    "Z_1hot = to_one_hot(Z)\n",
    "\n",
    "# calculate number of observations per value of Z and Y\n",
    "z_label2numobs_train = {z_values[i]:np.nonzero([Z==z_label2id[z_values[i]]])[0].shape[0] for i in range(len(z_values))}\n",
    "z_label2numobs_validation = {z_values[i]:np.nonzero([Z_val==z_label2id[z_values[i]]])[0].shape[0] for i in range(len(z_values))}\n",
    "z_label2numobs_test = {z_values[i]:np.nonzero([Z_test==z_label2id[z_values[i]]])[0].shape[0] for i in range(len(z_values))}\n",
    "y_label2numobs_train = {y_values[i]:np.nonzero([Y==y_label2id[y_values[i]]])[0].shape[0] for i in range(len(y_values))}\n",
    "y_label2numobs_validation = {y_values[i]:np.nonzero([Y_val==y_label2id[y_values[i]]])[0].shape[0] for i in range(len(y_values))}\n",
    "y_label2numobs_test = {y_values[i]:np.nonzero([Y_test==y_label2id[y_values[i]]])[0].shape[0] for i in range(len(y_values))}\n",
    "\n",
    "# Display dataset statistics:\n",
    "print(f''' \n",
    "Features:\n",
    "    d = {d}\n",
    "Number of observations:\n",
    "    train: {n}\n",
    "    validation: {n_validation}\n",
    "    test: {n_test}\n",
    "Z labels (protected concept levels): \n",
    "    k = {k} \n",
    "    mapping: {z_label2id.__str__()}\n",
    "    num_obs_train: {z_label2numobs_train.__str__()}\n",
    "    num_obs_validation: {z_label2numobs_validation.__str__()}\n",
    "    num_obs_test: {z_label2numobs_test.__str__()}\n",
    "Y labels (downstream task): \n",
    "    m = {m}\n",
    "    mapping: {y_label2id.__str__()}\n",
    "    num_obs_train: {y_label2numobs_train.__str__()}\n",
    "    num_obs_validation: {y_label2numobs_validation.__str__()}\n",
    "    num_obs_test: {y_label2numobs_test.__str__()}\n",
    "''')"
   ]
  },
  {
   "cell_type": "code",
   "execution_count": 4,
   "metadata": {},
   "outputs": [
    {
     "name": "stdout",
     "output_type": "stream",
     "text": [
      "p(y=anger|z=female)=0.20\n",
      "p(y=anger|z=male)=0.80\n",
      " \n",
      "p(y=fear|z=female)=0.20\n",
      "p(y=fear|z=male)=0.80\n",
      " \n",
      "p(y=joy|z=female)=0.79\n",
      "p(y=joy|z=male)=0.21\n",
      " \n",
      "p(y=neutral|z=female)=0.19\n",
      "p(y=neutral|z=male)=0.81\n",
      " \n",
      "p(y=sadness|z=female)=0.20\n",
      "p(y=sadness|z=male)=0.80\n",
      " \n"
     ]
    }
   ],
   "source": [
    "# Displaying correlations in the train set\n",
    "y_id2label = {int(v):k for k,v in y_label2id.items()}\n",
    "z_id2label = {int(v):k for k,v in z_label2id.items()}\n",
    "for i in np.unique(Y):\n",
    "    for j in np.unique(Z):\n",
    "        print(f\"p(y={y_id2label[i]}|z={z_id2label[j]})={sum(Z[Y==i]==j)/sum(Y==i):.2f}\")\n",
    "    print(' ')"
   ]
  },
  {
   "cell_type": "markdown",
   "metadata": {},
   "source": [
    "## Loading balanced counterfactuals of test data"
   ]
  },
  {
   "cell_type": "code",
   "execution_count": 5,
   "metadata": {},
   "outputs": [],
   "source": [
    "with np.load(base_dir + f'D_CF_{concept_manipulated}.npz') as CF_data:\n",
    "    X_CF_test, Z_CF_test_raw, Y_CF_test_raw = CF_data['test_X'], CF_data[f'test_Z_{concept_manipulated}'], CF_data['test_Y']\n",
    "Z_CF_test = np.array([z_label2id[z] for z in Z_CF_test_raw]).astype(int)"
   ]
  },
  {
   "cell_type": "markdown",
   "metadata": {},
   "source": [
    "# Training linear classifiers"
   ]
  },
  {
   "cell_type": "markdown",
   "metadata": {},
   "source": [
    "$\\hat{Y}$: mood state classifier (POMS)\n",
    "\n",
    "$\\hat{Z}$: race classifier (3 values)"
   ]
  },
  {
   "cell_type": "markdown",
   "metadata": {},
   "source": [
    "Training a POMS linear classifier"
   ]
  },
  {
   "cell_type": "code",
   "execution_count": 6,
   "metadata": {},
   "outputs": [],
   "source": [
    "def linear_classifier(args, random_state=global_seed):\n",
    "    lcf = SGDClassifier(\n",
    "        loss=lin_cl_loss, validation_fraction=0.2, early_stopping=True, random_state=random_state, \n",
    "        penalty='l2', max_iter=5000, n_jobs=-1, learning_rate='optimal', warm_start=True, n_iter_no_change=200\n",
    "    )\n",
    "    lcf.set_params(**args)\n",
    "    return lcf"
   ]
  },
  {
   "cell_type": "markdown",
   "metadata": {},
   "source": [
    "### Training of $\\widehat{Y}$"
   ]
  },
  {
   "cell_type": "code",
   "execution_count": 135,
   "metadata": {},
   "outputs": [],
   "source": [
    "## Uncomment if you want to make a grid search\n",
    "#\n",
    "# eta_y = linear_classifier({'alpha': 1e-4})\n",
    "## parameters = {\n",
    "#     'alpha':[1e-3, 1e-4, 1e-5, 1e-6, 1e-7],\n",
    "# }\n",
    "# eta_y = GridSearchCV(eta_y, parameters)"
   ]
  },
  {
   "cell_type": "code",
   "execution_count": 7,
   "metadata": {},
   "outputs": [
    {
     "name": "stdout",
     "output_type": "stream",
     "text": [
      "Train accuracy: 81.18%\n",
      "Test accuracy:  75.19%\n"
     ]
    }
   ],
   "source": [
    "eta_y = linear_classifier({'alpha': 1e-4})\n",
    "eta_y.fit(X, Y)\n",
    "print(\"Train accuracy:\", f\"{100*eta_y.score(X, Y):.2f}%\")\n",
    "print(\"Test accuracy: \", f\"{100*eta_y.score(X_test, Y_test):.2f}%\") # reminder: train is aggressive, test is balanced"
   ]
  },
  {
   "cell_type": "code",
   "execution_count": 8,
   "metadata": {},
   "outputs": [
    {
     "name": "stdout",
     "output_type": "stream",
     "text": [
      "Per value accuracy:\n",
      "\n",
      "label id label name train acc. (%) test acc. (%)\n",
      "0        anger      73.82          68.20        \n",
      "1        fear       83.90          81.76        \n",
      "2        joy        91.81          82.92        \n",
      "3        neutral    78.47          69.43        \n",
      "4        sadness    78.27          74.27        \n"
     ]
    }
   ],
   "source": [
    "print(\"Per value accuracy:\\n\")\n",
    "y_predicted = eta_y.predict(X)\n",
    "y_predicted_test = eta_y.predict(X_test)\n",
    "print(\"label id\", \"label name\", \"train acc. (%)\", \"test acc. (%)\")\n",
    "for i in range(m):\n",
    "    acc_i = np.sum(y_predicted[Y == i] == i) / np.sum([Y == i])\n",
    "    acc_i_test = np.sum(y_predicted_test[Y_test == i] == i) / np.sum([Y_test == i])\n",
    "    print(f\"{i:<8}\",f\"{y_id2label[i]:<10}\", f\"{100*acc_i:<14.2f}\", f\"{100*acc_i_test:<13.2f}\")\n"
   ]
  },
  {
   "cell_type": "markdown",
   "metadata": {},
   "source": [
    "### Training of $\\widehat{Z}$"
   ]
  },
  {
   "cell_type": "code",
   "execution_count": 9,
   "metadata": {},
   "outputs": [],
   "source": [
    "## Uncomment if you want to make a grid search\n",
    "#\n",
    "# eta_z = linear_classifier({'alpha': 1e-5})\n",
    "# parameters = {\n",
    "#     'alpha':[1e-3, 1e-4, 1e-5, 1e-6, 1e-7],\n",
    "# }\n",
    "# eta_z = GridSearchCV(eta_y, parameters)"
   ]
  },
  {
   "cell_type": "code",
   "execution_count": 10,
   "metadata": {},
   "outputs": [
    {
     "name": "stdout",
     "output_type": "stream",
     "text": [
      "Train accuracy: 99.79%\n",
      "Test accuracy:  99.39%\n"
     ]
    }
   ],
   "source": [
    "eta_z = linear_classifier({'alpha': 1e-5})\n",
    "eta_z.fit(X, Z)\n",
    "print(\"Train accuracy:\", f\"{100*eta_z.score(X, Z):.2f}%\")\n",
    "print(\"Test accuracy: \", f\"{100*eta_z.score(X_test, Z_test):.2f}%\") "
   ]
  },
  {
   "cell_type": "code",
   "execution_count": 12,
   "metadata": {},
   "outputs": [
    {
     "name": "stdout",
     "output_type": "stream",
     "text": [
      "Per value accuracy:\n",
      "\n",
      "label id label name                train acc. (%) test acc. (%)\n",
      "0        female                    99.68          99.23        \n",
      "1        male                      99.85          99.55        \n"
     ]
    }
   ],
   "source": [
    "print(\"Per value accuracy:\\n\")\n",
    "z_predicted = eta_z.predict(X)\n",
    "z_predicted_test = eta_z.predict(X_test)\n",
    "print(\"label id\", f\"{'label name':<25}\", \"train acc. (%)\", \"test acc. (%)\")\n",
    "for i in range(k):\n",
    "    acc_i = np.sum(z_predicted[Z == i] == i) / np.sum([Z == i])\n",
    "    acc_i_test = np.sum(z_predicted_test[Z_test == i] == i) / np.sum([Z_test == i])\n",
    "    print(f\"{i:<8}\",f\"{z_id2label[i]:<25}\", f\"{100*acc_i:<14.2f}\", f\"{100*acc_i_test:<13.2f}\")"
   ]
  },
  {
   "cell_type": "markdown",
   "metadata": {},
   "source": [
    "### Training a non-linear classifier (2-layer MLP) on X"
   ]
  },
  {
   "cell_type": "code",
   "execution_count": 13,
   "metadata": {},
   "outputs": [
    {
     "name": "stdout",
     "output_type": "stream",
     "text": [
      "Train accuracy: 92.65%\n",
      "Test accuracy:  79.59%\n"
     ]
    }
   ],
   "source": [
    "mlpclf_y = MLPClassifier(hidden_layer_sizes=(100, 100), random_state=global_seed, max_iter=300, early_stopping=True).fit(X, Y)\n",
    "print(\"Train accuracy:\", f\"{100*mlpclf_y.score(X, Y):.2f}%\")\n",
    "print(\"Test accuracy: \", f\"{100*mlpclf_y.score(X_test, Y_test):.2f}%\") # reminder: train is aggressive, test is balanced"
   ]
  },
  {
   "cell_type": "markdown",
   "metadata": {},
   "source": [
    "## Concept Erasure\n",
    "\n",
    "Concept to erase: gender (2 values)\\\n",
    "Erasure method: orthogonal projection on $V^\\perp$ (by default) or LEACE oblique projection on $V^\\perp$ "
   ]
  },
  {
   "cell_type": "markdown",
   "metadata": {},
   "source": [
    "### Erasure"
   ]
  },
  {
   "cell_type": "code",
   "execution_count": 14,
   "metadata": {},
   "outputs": [],
   "source": [
    "class Erasure:\n",
    "    \n",
    "    def __init__(self, projection='orth', rcond=1e-5):\n",
    "        \"\"\"\n",
    "        Parameters: \n",
    "        projection (str): 'orth' for an orthogonal projection, 'leace' for an oblique projection using the LEACE projector\n",
    "        rcond (str): linalg rcond coef\n",
    "        \"\"\"\n",
    "        self.rcond = rcond\n",
    "        self.projection = projection\n",
    "        self.P = None\n",
    "        self.SigXZ = None\n",
    "        self.E_SigXZ = None\n",
    "        self.E_P = None\n",
    "    \n",
    "    def fit(self, X, Z_1hot):\n",
    "        self.SigXZ = LeaceFitter.fit(\n",
    "            torch.Tensor(X),\n",
    "            torch.Tensor(Z_1hot)\n",
    "        ).sigma_xz.numpy()\n",
    "        self.E_SigXZ = scipy.linalg.orth(self.SigXZ, rcond=self.rcond).T\n",
    "\n",
    "        if self.projection == 'leace':\n",
    "            self.P = LeaceEraser.fit(\n",
    "                torch.Tensor(X),\n",
    "                torch.Tensor(Z_1hot)                    \n",
    "        ).P.numpy()\n",
    "        else:\n",
    "            # I - A (A.T A)^-1 A.T\n",
    "            self.P = np.eye(self.SigXZ.shape[0]) - self.E_SigXZ.T @ np.linalg.inv(self.E_SigXZ @ self.E_SigXZ.T) @ self.E_SigXZ\n",
    "        self.E_P = scipy.linalg.orth(self.P, rcond=self.rcond).T\n",
    "    \n",
    "    def erase_concept(self, X):\n",
    "        return X @ self.P.T\n",
    "    \n",
    "    def to_vec(self, coordinates, subspace):\n",
    "        E_subspace = self.E_P if subspace == 'E_P' else self.E_SigXZ\n",
    "        if len(coordinates.shape) < 2:\n",
    "            return coordinates[:,np.newaxis] @ E_subspace\n",
    "        else:\n",
    "            return coordinates @ E_subspace\n",
    "    \n",
    "    def get_coordinates(self, X, subspace):\n",
    "        E_subspace = self.E_P if subspace == 'E_P' else self.E_SigXZ\n",
    "        if self.projection == 'leace':\n",
    "            return (X - X @ self.P.T) @ E_subspace.T.squeeze()\n",
    "        else:\n",
    "            return X @ E_subspace.T.squeeze()\n"
   ]
  },
  {
   "cell_type": "code",
   "execution_count": 15,
   "metadata": {},
   "outputs": [
    {
     "name": "stdout",
     "output_type": "stream",
     "text": [
      "Rank of colsp(Sigma_XZ): 1 \t(sanity check: must be equal to k-1 = 1)\n",
      "Rank of colsp(P):        767 \t(sanity check: must be equal to d-k+1 = 767)\n"
     ]
    }
   ],
   "source": [
    "LinearErasure = Erasure(projection=projection_method, rcond=rcond)\n",
    "LinearErasure.fit(X, Z_1hot)\n",
    "print(\"Rank of colsp(Sigma_XZ):\", LinearErasure.E_SigXZ.shape[0], f\"\\t(sanity check: must be equal to k-1 = {k-1})\")\n",
    "print(\"Rank of colsp(P):       \", LinearErasure.E_P.shape[0], f\"\\t(sanity check: must be equal to d-k+1 = {d-k+1})\")"
   ]
  },
  {
   "cell_type": "markdown",
   "metadata": {},
   "source": [
    "### Evaluation of the linear erasure"
   ]
  },
  {
   "cell_type": "code",
   "execution_count": 17,
   "metadata": {},
   "outputs": [
    {
     "name": "stdout",
     "output_type": "stream",
     "text": [
      "Accuracy of a linear classifier trained to predict Z from X_orth:\n",
      "Train accuracy: 68.40%\n",
      "Test accuracy:  49.80% \t(must be approx. 50.00%)\n",
      "\n"
     ]
    }
   ],
   "source": [
    "X_ = LinearErasure.erase_concept(X)\n",
    "X_test_ = LinearErasure.erase_concept(X_test)\n",
    "\n",
    "# Check that predicting linearly Z from X_ leads to bad results (concept has been erased linearly)\n",
    "sgdclass = linear_classifier({'alpha': 1e-4}).fit(X_, Z)\n",
    "print(f\"Accuracy of a linear classifier trained to predict Z from X_orth:\")\n",
    "print(\"Train accuracy:\", f\"{100*sgdclass.score(X_,Z):.2f}%\")\n",
    "print(\"Test accuracy: \", f\"{100*sgdclass.score(X_test_, Z_test):.2f}%\", f\"\\t(must be approx. {100/k:.2f}%)\\n\") \n"
   ]
  },
  {
   "cell_type": "code",
   "execution_count": 18,
   "metadata": {},
   "outputs": [
    {
     "name": "stdout",
     "output_type": "stream",
     "text": [
      "Accuracy of a non-linear classifier (2-layer MLP) trained to predict Z from X_orth:\n",
      "Train accuracy: 99.94%\n",
      "Test accuracy:  98.44% \t(>> 50.00%))\n"
     ]
    }
   ],
   "source": [
    "# Check if a non-linear classifier can predict accurately Z from X_\n",
    "mlpclf = MLPClassifier(random_state=global_seed, max_iter=300, early_stopping=True).fit(X_, Z)\n",
    "print(f\"Accuracy of a non-linear classifier (2-layer MLP) trained to predict Z from X_orth:\")\n",
    "print(\"Train accuracy:\", f\"{100*mlpclf.score(X_,Z):.2f}%\")\n",
    "print(\"Test accuracy: \", f\"{100*mlpclf.score(X_test_, Z_test):.2f}%\", f\"\\t(>> {100/k:.2f}%))\")"
   ]
  },
  {
   "cell_type": "markdown",
   "metadata": {},
   "source": [
    "# Plot the data"
   ]
  },
  {
   "cell_type": "code",
   "execution_count": 39,
   "metadata": {},
   "outputs": [
    {
     "data": {
      "image/png": "[encoded data removed]",
      "text/plain": [
       "<Figure size 640x480 with 1 Axes>"
      ]
     },
     "metadata": {},
     "output_type": "display_data"
    }
   ],
   "source": [
    "# Plot\n",
    "\n",
    "# need to add the case where v[0] == 0\n",
    "def vect_to_equation(v, x, intercept_x = 0):\n",
    "    y = v[1] / v[0] * (x - intercept_x) \n",
    "    return y\n",
    "\n",
    "lambda_SigXZ = LinearErasure.get_coordinates(X, subspace='E_SigXZ')\n",
    "mean_lambda = np.mean(lambda_SigXZ)\n",
    "\n",
    "colors = ['pink', 'cyan']\n",
    "\n",
    "# Plot the training data points \n",
    "for z in np.unique(Z):\n",
    "    indices = Z == z\n",
    "    X_SigXZ_z = lambda_SigXZ[indices]\n",
    "    _ = pyplot.hist(X_SigXZ_z, bins=100, label=f'z = {z} ({z_id2label[z]})', color=colors[z])\n",
    "\n",
    "_ = pyplot.title('Train set projected onto colsp(Sigma_XZ)')\n",
    "_ = pyplot.legend()\n"
   ]
  },
  {
   "cell_type": "markdown",
   "metadata": {},
   "source": [
    "# Linear reconstruction of $x^\\parallel$ with a MSE loss objective"
   ]
  },
  {
   "cell_type": "code",
   "execution_count": 40,
   "metadata": {},
   "outputs": [],
   "source": [
    "# To improve\n",
    "# - don't use LEACE library to calculate Sigma_XZ and the LEACE projector\n",
    "\n",
    "class LinearConceptValueAssignmentWithMSEloss:\n",
    "\n",
    "    def __init__(self, random_state=global_seed, rcond=rcond):\n",
    "        self.predictors = {}\n",
    "        self.noises = {}\n",
    "        self.LinearErasure = Erasure() # P and Sigma_XZ in it\n",
    "        self.random_state = random_state\n",
    "        self.alpha = 5e-2 #orth\n",
    "        # self.alpha = 1e-4 #leace\n",
    "        self.lr = 1e-3\n",
    "\n",
    "    def fit_linear_regression(self, X, Z, linreg_args = {}, validate=False, X_validation=None, Z_validation=None):\n",
    "        shuffle = True\n",
    "        validation_fraction = 0.3\n",
    "        if validate:\n",
    "            validation_fraction = X_validation.shape[0] / (X.shape[0] + X_validation.shape[0]) \n",
    "            X = np.concatenate((X,X_validation), axis=0)\n",
    "            Z = np.concatenate((Z,Z_validation))\n",
    "            shuffle = False\n",
    "        \n",
    "        X_ = self.LinearErasure.erase_concept(X)\n",
    "        coord_SigXZ = self.LinearErasure.get_coordinates(X, subspace='E_SigXZ')\n",
    "        for z in np.unique(Z): \n",
    "            linear_regression_mse = MLPRegressor(\n",
    "                hidden_layer_sizes=(), # linear\n",
    "                activation=\"identity\",\n",
    "                max_iter=5000,\n",
    "                solver='adam',\n",
    "                early_stopping=True,\n",
    "                validation_fraction=validation_fraction,\n",
    "                n_iter_no_change=100,\n",
    "                alpha=self.alpha,\n",
    "                learning_rate_init=self.lr,\n",
    "                random_state=self.random_state,\n",
    "                warm_start=True,\n",
    "                shuffle=shuffle\n",
    "            )\n",
    "            linear_regression_mse.set_params(**linreg_args)\n",
    "            linear_regression_mse.fit(X_[Z==z], coord_SigXZ[Z==z])\n",
    "            self.predictors[z] = linear_regression_mse\n",
    "        return True\n",
    "\n",
    "    def fit_gaussian_dispersion(self, X, Z):\n",
    "        X_ = self.LinearErasure.erase_concept(X)\n",
    "        coord_SigXZ = self.LinearErasure.get_coordinates(X, subspace='E_SigXZ')\n",
    "        # Calculate the noise variance per concept value\n",
    "        for z in np.unique(Z):\n",
    "            nu_X = self.predictors[z].predict(X_[Z==z])\n",
    "            noise = coord_SigXZ[Z==z] - nu_X\n",
    "            if noise.ndim == 1:\n",
    "                noise = noise.reshape(-1, 1)\n",
    "            gmm = GaussianMixture(n_components=1, covariance_type='full', max_iter=300)\n",
    "            gmm.fit(noise)\n",
    "            self.noises[z] = gmm\n",
    "        return True\n",
    "\n",
    "    def fit(self, X, Z, validate=False, X_validation=None, Z_validation=None):\n",
    "        self.fit_linear_regression(X, Z, validate=validate, X_validation=X_validation, Z_validation=Z_validation)\n",
    "        self.fit_gaussian_dispersion(X, Z)\n",
    "        return True\n",
    "    \n",
    "    def predict_nu(self, X, Z_assigned):\n",
    "        X_ = self.LinearErasure.erase_concept(X)\n",
    "        coord_SigXZ_predicted = np.empty((X.shape[0], self.LinearErasure.E_SigXZ.shape[0]))\n",
    "        for z in np.unique(Z_assigned):\n",
    "            indices = Z_assigned == z\n",
    "            predictions = self.predictors[z].predict(X_[indices])\n",
    "            if len(predictions.shape) < 2: # predictions must be a matrix with 2 dimensions\n",
    "                predictions = predictions[:,np.newaxis]\n",
    "            coord_SigXZ_predicted[indices] = predictions\n",
    "        X_SigXZ  = self.LinearErasure.to_vec(coord_SigXZ_predicted, subspace='E_SigXZ') \n",
    "        return X_ + X_SigXZ\n",
    "\n",
    "\n",
    "    def predict(self, X, Z_assigned, no_sampling = False):\n",
    "        X_n_nu = self.predict_nu(X, Z_assigned)\n",
    "        # Let's sample noise for each observation\n",
    "        if not no_sampling:\n",
    "            X_noises_sampled = np.empty(X.shape)\n",
    "            for z in np.unique(Z_assigned):\n",
    "                indices = Z_assigned == z\n",
    "                n_noises = np.sum(indices)\n",
    "                noises = self.noises[z].sample(n_noises)\n",
    "                X_noises_sampled[indices] = self.LinearErasure.to_vec(noises[0],subspace='E_SigXZ')\n",
    "            return X_n_nu + X_noises_sampled\n",
    "        else:\n",
    "            return X_n_nu\n",
    "        \n",
    "    def score(self, X, Z):\n",
    "        X_nu = self.predict(X, Z, no_sampling=True) \n",
    "        return np.mean(np.linalg.norm(X-X_nu, axis=1))\n",
    "\n",
    "    def sample_counterfactuals(self, X, z_value, no_sampling=False):\n",
    "        color = 'blue'\n",
    "        Z_assigned = np.full((X.shape[0],), z_value)\n",
    "        X_to_plot = self.predict(X, Z_assigned, no_sampling)\n",
    "        X_to_plot = self.LinearErasure.get_coordinates(X_to_plot, subspace='E_SigXZ')\n",
    "        if len(X_to_plot.shape) > 1 and X_to_plot.shape[1] == 2:\n",
    "            _ = pyplot.scatter(X_to_plot[:,0], X_to_plot[:,1], s=0.1, color=color)\n",
    "        elif len(X_to_plot.shape) == 1:\n",
    "            _ = pyplot.hist(X_to_plot[:,], bins=100, color=color)  \n",
    "    \n"
   ]
  },
  {
   "cell_type": "code",
   "execution_count": 41,
   "metadata": {},
   "outputs": [
    {
     "data": {
      "text/plain": [
       "True"
      ]
     },
     "execution_count": 41,
     "metadata": {},
     "output_type": "execute_result"
    }
   ],
   "source": [
    "LCVA_mse = LinearConceptValueAssignmentWithMSEloss(random_state=global_seed)\n",
    "LCVA_mse.LinearErasure = LinearErasure\n",
    "LCVA_mse.fit(X,Z, validate=True, X_validation=X_val, Z_validation=Z_val)"
   ]
  },
  {
   "cell_type": "code",
   "execution_count": 42,
   "metadata": {},
   "outputs": [
    {
     "name": "stdout",
     "output_type": "stream",
     "text": [
      "MSE (train):      0.1761\n",
      "MSE (validation): 0.1765\n",
      "MSE (test):       0.1780\n"
     ]
    }
   ],
   "source": [
    "print(\"MSE (train):     \", f\"{LCVA_mse.score(X, Z):.4f}\")\n",
    "print(\"MSE (validation):\", f\"{LCVA_mse.score(X_val, Z_val):.4f}\")\n",
    "print(\"MSE (test):      \", f\"{LCVA_mse.score(X_test, Z_test):.4f}\")\n"
   ]
  },
  {
   "cell_type": "code",
   "execution_count": 43,
   "metadata": {},
   "outputs": [
    {
     "name": "stdout",
     "output_type": "stream",
     "text": [
      "Test accuracy of \\hatY (reminder): 75.19%\n",
      "Accuracy of \\hatY on genuine CFs:  75.15% (must be approx. equal to the train accuracy)\n"
     ]
    }
   ],
   "source": [
    "print(\"Test accuracy of \\hatY (reminder):\", f\"{100*eta_y.score(X_test, Y_test):.2f}%\")\n",
    "print(\"Accuracy of \\hatY on genuine CFs: \", f\"{100*eta_y.score(X_CF_test, Y_test):.2f}%\", \"(must be approx. equal to the train accuracy)\") # CFs are labelled with the same Y as original data"
   ]
  },
  {
   "cell_type": "code",
   "execution_count": 44,
   "metadata": {},
   "outputs": [
    {
     "data": {
      "image/png": "[encoded data removed]",
      "text/plain": [
       "<Figure size 640x480 with 1 Axes>"
      ]
     },
     "metadata": {},
     "output_type": "display_data"
    }
   ],
   "source": [
    "# Sample countefractuals and display them in V^{\\parallel}\n",
    "LCVA_mse.sample_counterfactuals(X, z_value=0, no_sampling=True)"
   ]
  },
  {
   "cell_type": "markdown",
   "metadata": {},
   "source": [
    "## Evaluations"
   ]
  },
  {
   "cell_type": "markdown",
   "metadata": {},
   "source": [
    "### $\\mathrm{PIP}$ and $\\mathrm{ATV}$\n",
    "\n"
   ]
  },
  {
   "cell_type": "markdown",
   "metadata": {},
   "source": [
    "From the paper:\n",
    "\n",
    "Let $\\mathcal{S}:=\\{(s_i,z_i)\\}$ be a set of couples of text documents $s_i$ and of CF values $z_i\\neq Z(s_i)$. Define the proportion of identical predictions ($\\mathrm{PIP}$) by\n",
    "\n",
    "$$\\mathrm{PIP}_{\\widehat{Y}}[\\mathcal{S}]:=  \\frac{1}{|\\mathcal{S}|} \\sum_{(s,z)\\in\\mathcal{S}} \\mathbf{1}\\left[\\widehat{Y}(X(s_{Z\\leftarrow z})) = \\widehat{Y}(X(s)_{Z\\leftarrow z})\\right].$$\n",
    "\n",
    "The range of the \\noindent $\\mathrm{PIP}$ metric is $[0,1]$, closer to $1$ being better. Similarly, we define $\\mathrm{PIP}_{\\widehat{Z}}[\\mathcal{S}]$.\n",
    "\n",
    "Let $p_{\\widehat{Y}}(x)$ be the probability distribution over $Y$-values used by the classifier $\\widehat{Y}$. Define the average total variation (ATV) distance by\n",
    "\n",
    "$$\\mathrm{ATV}_{\\widehat{Y}}[\\mathcal{S}]:= \\frac{1}{|\\mathcal{S}|} \\sum_{(s,z)\\in\\mathcal{S}}\\underbrace{\\frac{1}{2}\\big|p_{\\widehat{Y}}(X(s_{Z\\leftarrow z}))-p_{\\widehat{Y}}(X(s)_{Z\\leftarrow z})\\big|}_{=:\\,\\mathrm{TV}_{\\widehat{Y}}(s,z)}.$$ \n",
    "\n",
    "The range of the $\\mathrm{ATV}$ metric is $[0,1]$, closer to $0$ being better. Similarly, we define $\\mathrm{ATV}_{\\widehat{Z}}[\\mathcal{S}]$.\n"
   ]
  },
  {
   "cell_type": "markdown",
   "metadata": {},
   "source": [
    "### $\\mathrm{ATE}$ and $\\widehat{\\mathrm{ATE}}$"
   ]
  },
  {
   "cell_type": "markdown",
   "metadata": {},
   "source": [
    "From the paper:\n",
    "\n",
    "Let's thus define the average treatment effect $\\mathrm{ATE}_{\\widehat{Y}}$, its estimator $\\widehat{\\mathrm{ATE}}_{\\widehat{Y}}$ defined using the CFRs and the corresponding individual effects\n",
    "\n",
    "$$\\mathrm{ATE}_{\\widehat{Y}}[\\mathcal{S}]:=\\frac{1}{|\\mathcal{S}|}\\sum_{(s,z)\\in\\mathcal{S}}\\underbrace{\\frac{1}{2}\\big|p_{\\widehat{Y}}(X(s_{Z\\leftarrow z})- p_{\\widehat{Y}}(X(s))\\big|}_{=:\\,\\mathrm{TE}_{\\widehat{Y}}(s,z)} ,$$\n",
    "\n",
    "$$\\widehat{\\mathrm{ATE}}_{\\widehat{Y}}[\\mathcal{S}] := \\frac{1}{|\\mathcal{S}|}\\sum_{(s,z)\\in\\mathcal{S}} \\underbrace{\\frac{1}{2}\\big|p_{\\widehat{Y}}(X(s)_{Z\\leftarrow z}- p_{\\widehat{Y}}(X(s))\\big|}_{=:\\,\\widehat{\\mathrm{TE}}_{\\widehat{Y}}(s,z)}.$$\n",
    "\n",
    "The large braces define the individual treatment effects $\\mathrm{TE}_{\\widehat{Y}}(s,z)$ and their estimations $\\widehat{\\mathrm{TE}}_{\\widehat{Y}}(s,z)$."
   ]
  },
  {
   "cell_type": "markdown",
   "metadata": {},
   "source": [
    "## Evaluating a counterfactual predictor"
   ]
  },
  {
   "cell_type": "code",
   "execution_count": 45,
   "metadata": {},
   "outputs": [],
   "source": [
    "class CounterfactualClassifier:\n",
    "    \n",
    "    def __init__(self, clf, cf_generator, random_state=42):\n",
    "        self.clf = clf # a classifier \n",
    "        self.cf_generator = cf_generator # a countrefactual generator\n",
    "    \n",
    "\n",
    "    def cf_predict(self, X, Z_assigned, num_cf=20, no_sampling=False):\n",
    "        \"\"\"\n",
    "        Predicts values using the self.clf classifier from CFRs generated \n",
    "        from observations and values of the manipulated attribute to be assigned.\n",
    "\n",
    "        Parameters\n",
    "        ----------\n",
    "        X: ndarray of shape (n_samples, n_features)\n",
    "            Original data representations.\n",
    "\n",
    "        Z_assigned: ndarray of shape (n_samples,)\n",
    "            Counterfactual values of the manipulated attribute to assign.\n",
    "\n",
    "        num_cf: int (default: 20)\n",
    "            Number of counterfactuals to sample when CFRs are considered stochastic.\n",
    "        \n",
    "        no_sampling: bool (default: False)\n",
    "            if True CFRs are deterministic, else CFRs are considered stochastic.\n",
    "\n",
    "        Returns\n",
    "        -------\n",
    "        y: ndarray of shape (n_samples,)\n",
    "            Predictions \n",
    "        \"\"\"\n",
    "        y_probs_avg = self.cf_predict_proba(X, Z_assigned, num_cf, no_sampling)\n",
    "        y = np.argmax(y_probs_avg, axis=1)\n",
    "        return y\n",
    "\n",
    "\n",
    "    def cf_predict_proba(self, X, Z_assigned, num_cf=20, no_sampling=False):\n",
    "        \"\"\"\n",
    "        Predicts probabilities over Y-values using the local classifier from CFRs generated \n",
    "        from observations and values of the manipulated attribute to be assigned.\n",
    "\n",
    "        Parameters\n",
    "        ----------\n",
    "        X: ndarray of shape (n_samples, n_features)\n",
    "            Original data representations.\n",
    "\n",
    "        Z_assigned: ndarray of shape (n_samples,)\n",
    "            Counterfactual values of the manipulated attribute to assign.\n",
    "\n",
    "        num_cf: int (default: 20)\n",
    "            Number of counterfactuals to sample when CFRs are considered stochastic.\n",
    "        \n",
    "        no_sampling: bool (default: False)\n",
    "            if True CFRs are deterministic, else CFRs are considered stochastic.\n",
    "\n",
    "        Returns\n",
    "        -------\n",
    "        y: ndarray of shape (n_samples, n_classes)\n",
    "            Probability distributions over Y-values \n",
    "        \"\"\"\n",
    "        y_probs_avg = np.zeros((X.shape[0], self.clf.classes_.shape[0]))\n",
    "        if no_sampling:\n",
    "            num_cf = 1 \n",
    "        for _ in range(num_cf):\n",
    "            X_sampled= self.cf_generator.predict(X, Z_assigned, no_sampling=no_sampling)\n",
    "            y_probs = self.clf.predict_proba(X_sampled)\n",
    "            y_probs_avg += y_probs\n",
    "        return (1/num_cf)*y_probs_avg\n",
    "    \n",
    "    def orig_score(self, X, Y):\n",
    "        return self.clf.score(X, Y)\n",
    "    \n",
    "    def orig_predict(self, X):\n",
    "        return self.clf.predict(X)\n",
    "    \n",
    "    def orig_predict_proba(self, X):\n",
    "        return self.clf.predict_proba(X)\n",
    "\n",
    "\n",
    "    def evaluate(self, X, Y, X_CF=None, Z_CF=None, Y_CF=None, use_counterfactuals=False):\n",
    "    \n",
    "        results = dict()\n",
    "        y = self.orig_predict(X)\n",
    "        results[\"Accuracy\"] = self.orig_score(X,Y)\n",
    "        \n",
    "        # PIP calculations\n",
    "        if use_counterfactuals:\n",
    "            results[\"Accuracy using CFs\"] = self.orig_score(X_CF,Y_CF)\n",
    "            y_cf = self.orig_predict(X_CF) \n",
    "            y_cf_fict_nu_only = self.cf_predict(X, Z_CF, no_sampling=True)\n",
    "            y_cf_fict_w_sampling = self.cf_predict(X, Z_CF, no_sampling=False)\n",
    "            results[\"PIP (CFRs deterministic)\"] = np.mean(y_cf == y_cf_fict_nu_only)\n",
    "            results[\"PIP (CFRs stochastic)\"] = np.mean(y_cf == y_cf_fict_w_sampling)\n",
    "\n",
    "\n",
    "        # ATE calculations\n",
    "        ATE = lambda a, b : 0.5*np.mean(np.sum(np.abs(a - b), axis = 1))\n",
    "        y_cf_fict_probs = self.cf_predict_proba(X, Z_CF, no_sampling=True) # p( X(s)_{Z<-z} )\n",
    "        y_probs = self.orig_predict_proba(X) # p(X(s))\n",
    "        results[\"ATE estimation\"] = ATE(y_probs, y_cf_fict_probs) # Estimation of the ATE\n",
    "        if use_counterfactuals:\n",
    "            y_cf_probs = self.orig_predict_proba(X_CF) # p( X( s_{Z<-z} ) )\n",
    "            results[\"ATE\"] = ATE(y_probs, y_cf_probs) # real observations if CFs available\n",
    "            results[\"ATV\"] = ATE(y_cf_probs, y_cf_fict_probs)\n",
    "        return results\n",
    "        \n",
    "        \n"
   ]
  },
  {
   "cell_type": "code",
   "execution_count": 46,
   "metadata": {},
   "outputs": [],
   "source": [
    "cf_clf_y = CounterfactualClassifier(eta_y, LCVA_mse)\n",
    "results_eta_y = cf_clf_y.evaluate(X_test, Y_test, X_CF_test, Z_CF_test, Y_test, use_counterfactuals=True)"
   ]
  },
  {
   "cell_type": "code",
   "execution_count": 47,
   "metadata": {},
   "outputs": [
    {
     "name": "stdout",
     "output_type": "stream",
     "text": [
      "Accuracy                  0.751875            \n",
      "Accuracy using CFs        0.7515              \n",
      "PIP (CFRs deterministic)  0.71825             \n",
      "PIP (CFRs stochastic)     0.71925             \n",
      "ATE estimation            0.28023335145596273 \n",
      "ATE                       0.224936842918396   \n",
      "ATV                       0.23676677396013018 \n"
     ]
    }
   ],
   "source": [
    "for key,value in results_eta_y.items():\n",
    "    print(f\"{key:<25} {value:<20}\")"
   ]
  },
  {
   "cell_type": "code",
   "execution_count": 48,
   "metadata": {},
   "outputs": [],
   "source": [
    "cf_clf_z = CounterfactualClassifier(eta_z, LCVA_mse)\n",
    "results_eta_z = cf_clf_z.evaluate(X_test, Z_test, X_CF_test, Z_CF_test, Z_CF_test, use_counterfactuals=True)"
   ]
  },
  {
   "cell_type": "code",
   "execution_count": 49,
   "metadata": {},
   "outputs": [
    {
     "name": "stdout",
     "output_type": "stream",
     "text": [
      "Accuracy                  0.993875            \n",
      "Accuracy using CFs        0.9925              \n",
      "PIP (CFRs deterministic)  0.950125            \n",
      "PIP (CFRs stochastic)     0.950375            \n",
      "ATE estimation            0.9373372368480809  \n",
      "ATE                       0.974089598539099   \n",
      "ATV                       0.05725835169711849 \n"
     ]
    }
   ],
   "source": [
    "for key,value in results_eta_z.items():\n",
    "    print(f\"{key:<25} {value:<20}\")"
   ]
  },
  {
   "cell_type": "markdown",
   "metadata": {},
   "source": [
    "# ATE analysis for $\\eta_y$"
   ]
  },
  {
   "cell_type": "code",
   "execution_count": 50,
   "metadata": {},
   "outputs": [
    {
     "name": "stdout",
     "output_type": "stream",
     "text": [
      "True ATE:\t0.225\n",
      "Est. ATE:\t0.280\n",
      "ATV:\t\t0.237\n"
     ]
    }
   ],
   "source": [
    "print(f\"True ATE:\\t{results_eta_y['ATE']:.3f}\")\n",
    "print(f\"Est. ATE:\\t{results_eta_y['ATE estimation']:.3f}\")\n",
    "print(f\"ATV:\\t\\t{results_eta_y['ATV']:.3f}\")\n"
   ]
  },
  {
   "cell_type": "code",
   "execution_count": 51,
   "metadata": {},
   "outputs": [
    {
     "data": {
      "image/png": "[encoded data removed]",
      "text/plain": [
       "<Figure size 400x600 with 3 Axes>"
      ]
     },
     "metadata": {},
     "output_type": "display_data"
    }
   ],
   "source": [
    "# Let's analyse how ATE and est. ATE evolve while ATV increases\n",
    "\n",
    "# Calculate TEs, TE estimations and TVs\n",
    "y_probs = eta_y.predict_proba(X_test)\n",
    "y_cf_probs = eta_y.predict_proba(X_CF_test)\n",
    "y_cf_fict_probs = eta_y.predict_proba(LCVA_mse.predict(X_test, Z_CF_test, no_sampling=True)) \n",
    "ATE = lambda a, b : 0.5*np.sum(np.abs(a - b), axis = 1) # we don't calculate the mean here to study how the values evolve\n",
    "ATE_true = ATE(y_probs, y_cf_probs)\n",
    "ATE_fict = ATE(y_probs, y_cf_fict_probs)\n",
    "ATV = ATE(y_cf_probs, y_cf_fict_probs)\n",
    "\n",
    "# Calculate the increasing order of TVs \n",
    "index_sort_ATV = np.argsort(ATV)\n",
    "\n",
    "# Calculate linear correlation coefs\n",
    "percent_pop = list(range(1,100)) \n",
    "corrs_x = [int(i*len(index_sort_ATV)/100) for i in percent_pop]\n",
    "pearson_r = [np.corrcoef(ATE_true[index_sort_ATV][:i], ATE_fict[index_sort_ATV][:i])[0,1] for i in corrs_x]\n",
    "\n",
    "# Calculate the coefs of the linear regression \n",
    "regression = [LinearRegression(fit_intercept=False,n_jobs=-1, positive=True).fit(ATE_true[index_sort_ATV][:i].reshape(-1, 1), ATE_fict[index_sort_ATV][:i].reshape(-1, 1)).coef_[0,0] for i in corrs_x]\n",
    "\n",
    "\n",
    "fig, (c_ATE_ATV, c_pearson,c_coef) = pyplot.subplots(3,1, figsize=(4, 6), height_ratios=(1,1,0.5))\n",
    "xticks = sorted([0,20,40, 60, 80, 100])\n",
    "\n",
    "# Linear correlation curve\n",
    "c_pearson.plot(percent_pop, pearson_r, label=\"Pearson's $\\rho$\")\n",
    "try:\n",
    "    i_075 = max([i for i in range(len(pearson_r)) if pearson_r[i]>0.75])\n",
    "except:\n",
    "    i_075 = 0\n",
    "c_pearson.plot([0, i_075], [pearson_r[i_075], pearson_r[i_075]], linestyle='dotted', color=\"grey\")\n",
    "c_pearson.plot([i_075, i_075], [0, 1.5], linestyle='dotted', color=\"grey\")\n",
    "i_050 = max([i for i in range(len(pearson_r)) if pearson_r[i]>0.50])\n",
    "c_pearson.plot([0, i_050], [pearson_r[i_050], pearson_r[i_050]], linestyle='dotted', color=\"grey\")\n",
    "c_pearson.plot([i_050, i_050], [0, 1.5], linestyle='dotted', color=\"grey\")\n",
    "c_pearson.set_xlim(0.0,100)\n",
    "c_pearson.set_ylim(0.0,1.1)\n",
    "c_pearson.set_ylabel(r\"$\\rho$\",fontsize=14)\n",
    "c_pearson.set_xticks(xticks, [])\n",
    "c_pearson.set_yticks([0,0.50, 0.75, 1], [0,0.50, 0.75, 1], fontsize=12)\n",
    "c_pearson.annotate(f'{i_075}%', xy=(i_075, 0), xytext=(i_075-7, 0.1), rotation=90, fontsize=14)\n",
    "c_pearson.annotate(f'{i_050}%', xy=(i_050, 0), xytext=(i_050-7, 0.1), rotation=90, fontsize=14)\n",
    "c_pearson.yaxis.set_major_formatter(FormatStrFormatter('%.2f'))\n",
    "\n",
    "# Linear regression coef. curve\n",
    "c_coef.plot(percent_pop, regression, label='Regression coef.')\n",
    "c_coef.plot([i_050, i_050], [0, 1.5], linestyle='dotted', color=\"grey\")\n",
    "c_coef.plot([i_075, i_075], [0, 1.5], linestyle='dotted', color=\"grey\")\n",
    "c_coef.set_xlim(0.0,100)\n",
    "c_coef.set_ylim(0.5,1.5)\n",
    "c_coef.set_ylabel(r\"$\\alpha$\", fontsize=14)\n",
    "c_coef.set_xticks(xticks, xticks, fontsize=12)\n",
    "c_coef.set_yticks([0.5,1, 1.5], [0.5,1, 1.5], fontsize=12)\n",
    "c_coef.yaxis.set_major_formatter(FormatStrFormatter('%.2f'))\n",
    "\n",
    "# ATE - ATE estimation curve\n",
    "mean_ATE_true = np.cumsum(ATE_true[index_sort_ATV]) / np.arange(start=1, stop=1+len(index_sort_ATV))\n",
    "mean_ATE_fict = np.cumsum(ATE_fict[index_sort_ATV]) / np.arange(start=1, stop=1+len(index_sort_ATV))\n",
    "mean_ATV = np.cumsum(ATV[index_sort_ATV]) / np.arange(start=1, stop=1+len(index_sort_ATV))\n",
    "c_ATE_ATV.plot(percent_pop, [mean_ATE_true[i] for i in corrs_x], color='green', label=r'$\\mathrm{ATE}_{\\widehat{Y}}$')\n",
    "c_ATE_ATV.plot(percent_pop, [mean_ATE_fict[i] for i in corrs_x], color='darkgreen', linestyle='-.', label=r'$\\widehat{\\mathrm{ATE}}_{\\widehat{Y}}$')\n",
    "c_ATE_ATV.plot([i_050, i_050], [0, 1.5], linestyle='dotted', color=\"grey\")\n",
    "c_ATE_ATV.plot([i_075, i_075], [0, 1.5], linestyle='dotted', color=\"grey\")\n",
    "c_ATE_ATV.set_ylim(0.0,0.40)\n",
    "c_ATE_ATV.set_xlim(0.0,100)\n",
    "c_ATE_ATV.legend(loc='upper left', ncols=2, fontsize=14)\n",
    "c_ATE_ATV.set_xticks(xticks, [])\n",
    "c_ATE_ATV.set_yticks([0,0.1, 0.2, 0.3], [0,0.1, 0.2, 0.3], fontsize=12)\n",
    "c_ATE_ATV.yaxis.set_major_formatter(FormatStrFormatter('%.2f'))\n",
    "\n",
    "_ = c_coef.set_xlabel(r\"fraction of $\\mathcal{S}$ in %\", fontsize=14)"
   ]
  },
  {
   "cell_type": "markdown",
   "metadata": {},
   "source": [
    "## Data augmentation for bias mitigation"
   ]
  },
  {
   "cell_type": "markdown",
   "metadata": {},
   "source": [
    "### TPR-GAP (De-Arteaga et al, 2019)"
   ]
  },
  {
   "cell_type": "markdown",
   "metadata": {},
   "source": [
    "From the paper: \n",
    "\n",
    "$$\\mathrm{TPR}\\text{-Gap}_{z,y} := P[\\widehat{Y} = y|Z=z, Y=y] - P[\\widehat{Y} = y|Z=\\bar{z}, Y=y]$$\n",
    "\n"
   ]
  },
  {
   "cell_type": "code",
   "execution_count": 52,
   "metadata": {},
   "outputs": [],
   "source": [
    "def TPR_Gaps(eta, X, Z, Y, ref_z_val, compared_z_val):\n",
    "    \"\"\" \n",
    "    Calculate the TPR-Gaps for a z, compared to the counterfactual value z'\n",
    "    for each Y-value   \n",
    "    \"\"\"\n",
    "    y = eta.predict(X) # model predictions\n",
    "    filter_z_val = lambda z_val: Z == z_val # filter on Z values\n",
    "    filter_y_val = lambda y_val: Y == y_val # filter on True Y predictions\n",
    "\n",
    "    TPR_Gaps = dict()\n",
    "    for y_val in np.unique(Y):\n",
    "        TPR_ref = np.mean(\n",
    "                    y[filter_z_val(ref_z_val)][filter_y_val(y_val)[filter_z_val(ref_z_val)]] == y_val\n",
    "                )\n",
    "        TPR_compared = np.mean(\n",
    "                    y[filter_z_val(compared_z_val)][filter_y_val(y_val)[filter_z_val(compared_z_val)]] == y_val\n",
    "                )\n",
    "        TPR_Gaps[y_val] = TPR_ref - TPR_compared\n",
    "    return TPR_Gaps\n",
    "\n",
    "\n",
    "def Z_proportions(z_val, Z, Y): # gender imbalance\n",
    "    filter_y_val = lambda y_val: Y == y_val # filter on True Y predictions\n",
    "    Z_prop = dict()\n",
    "    for y_val in np.unique(Y):\n",
    "        Z_prop[y_val] = np.mean(Z[filter_y_val(y_val)] == z_val)\n",
    "    return Z_prop"
   ]
  },
  {
   "cell_type": "code",
   "execution_count": 53,
   "metadata": {},
   "outputs": [
    {
     "name": "stdout",
     "output_type": "stream",
     "text": [
      "Average TPR_10: 0.04814664954281493\n"
     ]
    }
   ],
   "source": [
    "TPR_10 = TPR_Gaps(eta_y, X_test, Z_test, Y_test, ref_z_val=1, compared_z_val=0) # 1 reference, 0 concept it is compared to\n",
    "Z_proportions(1, Z_test, Y_test) \n",
    "print(\"Average TPR_10:\", f\"{np.mean(list(TPR_10.values()))}\")"
   ]
  },
  {
   "cell_type": "code",
   "execution_count": 54,
   "metadata": {},
   "outputs": [
    {
     "name": "stdout",
     "output_type": "stream",
     "text": [
      "Augmented train set\n",
      "-----------------\n",
      "Number of observations: 51200 (equals n original + (k-1)*n CFRs = k*n = 51200)\n",
      "\n",
      "Correlations in the augmented train set\n",
      "-----------------\n",
      "p(y=anger|z=female)=0.50\n",
      "p(y=anger|z=male)=0.50\n",
      " \n",
      "p(y=fear|z=female)=0.50\n",
      "p(y=fear|z=male)=0.50\n",
      " \n",
      "p(y=joy|z=female)=0.50\n",
      "p(y=joy|z=male)=0.50\n",
      " \n",
      "p(y=neutral|z=female)=0.50\n",
      "p(y=neutral|z=male)=0.50\n",
      " \n",
      "p(y=sadness|z=female)=0.50\n",
      "p(y=sadness|z=male)=0.50\n",
      " \n"
     ]
    }
   ],
   "source": [
    "# Let's train a new eta_y_aug on an augmented version of the dataset (adding all counterfactuals)\n",
    "\n",
    "Z_new = np.mod(np.concatenate([Z+1+i for i in range(k-1)]), k)\n",
    "Y_new = np.tile(Y, k)\n",
    "\n",
    "X_new = np.tile(X, (k-1, 1))\n",
    "X_new = LCVA_mse.predict(X_new, Z_new, no_sampling=True)\n",
    "X_new = np.concatenate((X, X_new), axis=0)\n",
    "\n",
    "print(\"Augmented train set\")\n",
    "print(\"-----------------\")\n",
    "print(\"Number of observations:\", X_new.shape[0], f\"(equals n original + (k-1)*n CFRs = k*n = {k*n})\\n\")\n",
    "\n",
    "\n",
    "# Displaying correlations in the augmented train set\n",
    "print(\"Correlations in the augmented train set\")\n",
    "print(\"-----------------\")\n",
    "Z_cat = np.concatenate((Z,Z_new))\n",
    "for i in np.unique(Y_new):\n",
    "    for j in np.unique(Z_cat):\n",
    "        print(f\"p(y={y_id2label[i]}|z={z_id2label[j]})={sum(Z_cat[Y_new==i]==j)/sum(Y_new==i):.2f}\")\n",
    "    print(' ')\n",
    "\n"
   ]
  },
  {
   "cell_type": "code",
   "execution_count": 56,
   "metadata": {},
   "outputs": [
    {
     "name": "stdout",
     "output_type": "stream",
     "text": [
      "0.7615\n"
     ]
    }
   ],
   "source": [
    "eta_y_aug = linear_classifier({'alpha': 1e-4, 'validation_fraction':0.2})\n",
    "eta_y_aug.fit(X_new, Y_new)\n",
    "print(eta_y_aug.score(X_test, Y_test))"
   ]
  },
  {
   "cell_type": "code",
   "execution_count": 57,
   "metadata": {},
   "outputs": [
    {
     "name": "stdout",
     "output_type": "stream",
     "text": [
      "Average TPR_10: 0.013748504746988277\n"
     ]
    }
   ],
   "source": [
    "TPR_10 = TPR_Gaps(eta_y_aug, X_test, Z_test, Y_test, ref_z_val=1, compared_z_val=0)\n",
    "print(\"Average TPR_10:\", f\"{np.mean(list(TPR_10.values()))}\")"
   ]
  },
  {
   "cell_type": "code",
   "execution_count": 58,
   "metadata": {},
   "outputs": [
    {
     "name": "stdout",
     "output_type": "stream",
     "text": [
      "Accuracy                  0.7615              \n",
      "Accuracy using CFs        0.764625            \n",
      "PIP (CFRs deterministic)  0.7725              \n",
      "PIP (CFRs stochastic)     0.772375            \n",
      "ATE estimation            0.007115587550400999\n",
      "ATE                       0.2059045359285944  \n",
      "ATV                       0.2095148789107186  \n"
     ]
    }
   ],
   "source": [
    "cf_clf_y_aug = CounterfactualClassifier(eta_y_aug, LCVA_mse)\n",
    "results_eta_y_aug = cf_clf_y_aug.evaluate(X_test, Y_test, X_CF_test, Z_CF_test, Y_test, use_counterfactuals=True)\n",
    "for key,value in results_eta_y_aug.items():\n",
    "    print(f\"{key:<25} {value:<20}\")"
   ]
  },
  {
   "cell_type": "markdown",
   "metadata": {},
   "source": [
    "- No loss in accuracy\n",
    "- ATE estimation close to 0\n",
    "- PIP increased"
   ]
  }
 ],
 "metadata": {
  "kernelspec": {
   "display_name": "base",
   "language": "python",
   "name": "python3"
  },
  "language_info": {
   "codemirror_mode": {
    "name": "ipython",
    "version": 3
   },
   "file_extension": ".py",
   "mimetype": "text/x-python",
   "name": "python",
   "nbconvert_exporter": "python",
   "pygments_lexer": "ipython3",
   "version": "3.10.9"
  }
 },
 "nbformat": 4,
 "nbformat_minor": 2
}
