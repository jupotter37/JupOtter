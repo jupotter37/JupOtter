{
  "nbformat": 4,
  "nbformat_minor": 0,
  "metadata": {
    "colab": {
      "provenance": []
    },
    "kernelspec": {
      "name": "python3",
      "display_name": "Python 3"
    },
    "language_info": {
      "name": "python"
    }
  },
  "cells": [
    {
      "cell_type": "markdown",
      "source": [
        "# **Assignment 2 : Statistics   (Module 3)**"
      ],
      "metadata": {
        "id": "aUjvxqLq6nnh"
      }
    },
    {
      "cell_type": "markdown",
      "source": [
        "Question 1: Generate a list of 100 integers containing values between 90 to 130 and store it in the variable `int_list`.\n",
        "After generating the list, find the following:\n",
        "\n",
        "  \n",
        "\n",
        "  (i) Write a Python function to calculate the mean of a given list of numbers.\n",
        "\n",
        "Create a function to find the median of a list of numbers.\n",
        "\n",
        "  \n",
        "\n",
        "  (ii) Develop a program to compute the mode of a list of integers.\n",
        "\n",
        "  \n",
        "\n",
        "  (iii) Implement a function to calculate the weighted mean of a list of values and their corresponding weights.\n",
        "\n",
        "  \n",
        "\n",
        "  (iv) Write a Python function to find the geometric mean of a list of positive numbers.\n",
        "\n",
        "  \n",
        "\n",
        "  (v) Create a program to calculate the harmonic mean of a list of values.\n",
        "\n",
        "  \n",
        "\n",
        "  (vi) Build a function to determine the midrange of a list of numbers (average of the minimum and maximum).\n",
        "\n",
        "  \n",
        "\n",
        "  (vii) Implement a Python program to find the trimmed mean of a list, excluding a certain percentage of\n",
        "outliers"
      ],
      "metadata": {
        "id": "jTN7kUhM61lQ"
      }
    },
    {
      "cell_type": "markdown",
      "source": [
        "## Solution:"
      ],
      "metadata": {
        "id": "1lZ6ZueY7CLB"
      }
    },
    {
      "cell_type": "markdown",
      "source": [
        "**Generate the List of 100 Integers**"
      ],
      "metadata": {
        "id": "c36ABByG7Es3"
      }
    },
    {
      "cell_type": "code",
      "execution_count": 1,
      "metadata": {
        "id": "MoxhigdI6ekw"
      },
      "outputs": [],
      "source": [
        "import random\n",
        "\n",
        "# Generate a list of 100 integers between 90 and 130\n",
        "int_list = [random.randint(90, 130) for _ in range(100)]"
      ]
    },
    {
      "cell_type": "markdown",
      "source": [
        "**(i) Functions for Mean and Median**"
      ],
      "metadata": {
        "id": "JQ_pgan57cc_"
      }
    },
    {
      "cell_type": "markdown",
      "source": [
        "### Function to Calculate the Mean"
      ],
      "metadata": {
        "id": "46BdzyAf7ndu"
      }
    },
    {
      "cell_type": "code",
      "source": [
        "def calculate_mean(numbers):\n",
        "    return sum(numbers) / len(numbers)"
      ],
      "metadata": {
        "id": "RFRD2UxN7UpA"
      },
      "execution_count": 2,
      "outputs": []
    },
    {
      "cell_type": "markdown",
      "source": [
        "### Function to Calculate the Median"
      ],
      "metadata": {
        "id": "AoCl2R9u7se-"
      }
    },
    {
      "cell_type": "code",
      "source": [
        "def calculate_median(numbers):\n",
        "    sorted_numbers = sorted(numbers)\n",
        "    n = len(sorted_numbers)\n",
        "    mid = n // 2\n",
        "    if n % 2 == 0:\n",
        "        return (sorted_numbers[mid - 1] + sorted_numbers[mid]) / 2\n",
        "    else:\n",
        "        return sorted_numbers[mid]"
      ],
      "metadata": {
        "id": "VwPB1Lah7nFp"
      },
      "execution_count": 3,
      "outputs": []
    },
    {
      "cell_type": "markdown",
      "source": [
        "**(ii) Program to Compute the Mode**"
      ],
      "metadata": {
        "id": "niXSgn0N71Bu"
      }
    },
    {
      "cell_type": "code",
      "source": [
        "from collections import Counter\n",
        "\n",
        "def calculate_mode(numbers):\n",
        "    frequency = Counter(numbers)\n",
        "    max_freq = max(frequency.values())\n",
        "    mode = [key for key, value in frequency.items() if value == max_freq]\n",
        "    return mode"
      ],
      "metadata": {
        "id": "hxKITOQS7y1G"
      },
      "execution_count": 4,
      "outputs": []
    },
    {
      "cell_type": "markdown",
      "source": [
        "**(iii) Function to Calculate Weighted Mean**"
      ],
      "metadata": {
        "id": "DZRsAEVA73wx"
      }
    },
    {
      "cell_type": "code",
      "source": [
        "def calculate_weighted_mean(values, weights):\n",
        "    weighted_sum = sum(v * w for v, w in zip(values, weights))\n",
        "    total_weights = sum(weights)\n",
        "    return weighted_sum / total_weights"
      ],
      "metadata": {
        "id": "CysRlldk73RK"
      },
      "execution_count": 5,
      "outputs": []
    },
    {
      "cell_type": "markdown",
      "source": [
        "**(iv) Function to Calculate Geometric Mean**"
      ],
      "metadata": {
        "id": "JMkNqXG-79ZG"
      }
    },
    {
      "cell_type": "code",
      "source": [
        "import math\n",
        "\n",
        "def calculate_geometric_mean(numbers):\n",
        "    product = 1\n",
        "    for num in numbers:\n",
        "        product *= num\n",
        "    return product ** (1 / len(numbers))"
      ],
      "metadata": {
        "id": "zoIyjLwq7882"
      },
      "execution_count": 6,
      "outputs": []
    },
    {
      "cell_type": "markdown",
      "source": [
        "**(v) Function to Calculate Harmonic Mean**"
      ],
      "metadata": {
        "id": "BmB4NE5X8E7X"
      }
    },
    {
      "cell_type": "code",
      "source": [
        "def calculate_harmonic_mean(numbers):\n",
        "    reciprocal_sum = sum(1 / num for num in numbers)\n",
        "    return len(numbers) / reciprocal_sum"
      ],
      "metadata": {
        "id": "CA9qaSKq8CXu"
      },
      "execution_count": 7,
      "outputs": []
    },
    {
      "cell_type": "markdown",
      "source": [
        "**(vi) Function to Determine Midrange**"
      ],
      "metadata": {
        "id": "dUFVfUzN8Jk9"
      }
    },
    {
      "cell_type": "code",
      "source": [
        "def calculate_midrange(numbers):\n",
        "    return (min(numbers) + max(numbers)) / 2"
      ],
      "metadata": {
        "id": "hD_1-wWF8Hj_"
      },
      "execution_count": 8,
      "outputs": []
    },
    {
      "cell_type": "markdown",
      "source": [
        "**(vii) Function to Find Trimmed Mean**"
      ],
      "metadata": {
        "id": "ev6d17aX8MPu"
      }
    },
    {
      "cell_type": "code",
      "source": [
        "def calculate_trimmed_mean(numbers, trim_percentage):\n",
        "    sorted_numbers = sorted(numbers)\n",
        "    n = len(numbers)\n",
        "    trim_count = int(n * trim_percentage / 100)\n",
        "    trimmed_numbers = sorted_numbers[trim_count:-trim_count]\n",
        "    return sum(trimmed_numbers) / len(trimmed_numbers)"
      ],
      "metadata": {
        "id": "3cMS6BIa8Lx2"
      },
      "execution_count": 9,
      "outputs": []
    },
    {
      "cell_type": "markdown",
      "source": [
        "\n",
        "\n",
        "---\n",
        "\n"
      ],
      "metadata": {
        "id": "0_Cd6Ur08gR7"
      }
    },
    {
      "cell_type": "markdown",
      "source": [
        "Question 2: Generate a list of 500 integers containing values between 200 to 300 and store it in the variable `int_list2`.\n",
        "After generating the list, find the following:\n",
        "\n",
        "\n",
        "  (i) Compare the given list of visualization for the given data:\n",
        "\n",
        "    \n",
        "\n",
        "    1. Frequency & Gaussian distribution\n",
        "\n",
        "    2. Frequency smoothened KDE plot\n",
        "\n",
        "    3. Gaussian distribution & smoothened KDE plot\n",
        "\n",
        "\n",
        "  (ii) Write a Python function to calculate the range of a given list of numbers.\n",
        "\n",
        "\n",
        "  (iii) Create a program to find the variance and standard deviation of a list of numbers.\n",
        "\n",
        "\n",
        "  (iv) Implement a function to compute the interquartile range (IQR) of a list of values.\n",
        "\n",
        "\n",
        "  (v) Build a program to calculate the coefficient of variation for a dataset.\n",
        "\n",
        "  \n",
        "\n",
        "  (vi) Write a Python function to find the mean absolute deviation (MAD) of a list of numbers.\n",
        "\n",
        "\n",
        "  (vii) Create a program to calculate the quartile deviation of a list of values.\n",
        "\n",
        "  \n",
        "\n",
        "  (viii) Implement a function to find the range-based coefficient of dispersion for a dataset."
      ],
      "metadata": {
        "id": "e4Lb9ItW8hL2"
      }
    },
    {
      "cell_type": "markdown",
      "source": [
        "## Solution:"
      ],
      "metadata": {
        "id": "i449ELRv8pg-"
      }
    },
    {
      "cell_type": "markdown",
      "source": [
        "**Generate the List of 500 Integers**"
      ],
      "metadata": {
        "id": "VrIgeBKd8x14"
      }
    },
    {
      "cell_type": "code",
      "source": [
        "import random\n",
        "\n",
        "# Generate a list of 500 integers between 200 and 300\n",
        "int_list2 = [random.randint(200, 300) for _ in range(500)]"
      ],
      "metadata": {
        "id": "ObtP3d7i8RHW"
      },
      "execution_count": 10,
      "outputs": []
    },
    {
      "cell_type": "markdown",
      "source": [
        "**(i) Visualizations: Frequency, Gaussian Distribution, and KDE**"
      ],
      "metadata": {
        "id": "aJatgq4M82ye"
      }
    },
    {
      "cell_type": "code",
      "source": [
        "import matplotlib.pyplot as plt\n",
        "import seaborn as sns\n",
        "import numpy as np\n",
        "\n",
        "# Visualizations\n",
        "def compare_visualizations(data):\n",
        "    # Frequency and Gaussian Distribution\n",
        "    plt.figure(figsize=(12, 6))\n",
        "    sns.histplot(data, bins=20, kde=False, color='blue', alpha=0.6, label='Frequency')\n",
        "    mean, std = np.mean(data), np.std(data)\n",
        "    x = np.linspace(min(data), max(data), 100)\n",
        "    y = (1 / (std * np.sqrt(2 * np.pi))) * np.exp(-0.5 * ((x - mean) / std) ** 2) * len(data)\n",
        "    plt.plot(x, y, color='red', label='Gaussian Distribution')\n",
        "    plt.legend()\n",
        "    plt.title('Frequency & Gaussian Distribution')\n",
        "    plt.show()\n",
        "\n",
        "    # Frequency Smoothened KDE Plot\n",
        "    plt.figure(figsize=(12, 6))\n",
        "    sns.histplot(data, bins=20, kde=True, color='green', label='Smoothened KDE')\n",
        "    plt.legend()\n",
        "    plt.title('Frequency Smoothened KDE Plot')\n",
        "    plt.show()\n",
        "\n",
        "    # Gaussian Distribution & Smoothened KDE\n",
        "    plt.figure(figsize=(12, 6))\n",
        "    sns.kdeplot(data, color='purple', label='Smoothened KDE')\n",
        "    plt.plot(x, y, color='orange', linestyle='--', label='Gaussian Distribution')\n",
        "    plt.legend()\n",
        "    plt.title('Gaussian Distribution & Smoothened KDE')\n",
        "    plt.show()"
      ],
      "metadata": {
        "id": "uBj_J7RH80g4"
      },
      "execution_count": 11,
      "outputs": []
    },
    {
      "cell_type": "markdown",
      "source": [
        "**(ii) Function to Calculate Range**"
      ],
      "metadata": {
        "id": "584k6V8r88mm"
      }
    },
    {
      "cell_type": "code",
      "source": [
        "def calculate_range(numbers):\n",
        "    return max(numbers) - min(numbers)"
      ],
      "metadata": {
        "id": "G7U9kUmA85dm"
      },
      "execution_count": 12,
      "outputs": []
    },
    {
      "cell_type": "markdown",
      "source": [
        "**(iii) Variance and Standard Deviation**"
      ],
      "metadata": {
        "id": "yob1lKWf9BRl"
      }
    },
    {
      "cell_type": "code",
      "source": [
        "def calculate_variance(numbers):\n",
        "    mean = sum(numbers) / len(numbers)\n",
        "    return sum((x - mean) ** 2 for x in numbers) / len(numbers)\n",
        "\n",
        "def calculate_std_deviation(numbers):\n",
        "    return calculate_variance(numbers) ** 0.5"
      ],
      "metadata": {
        "id": "sUTcISH68_Em"
      },
      "execution_count": 13,
      "outputs": []
    },
    {
      "cell_type": "markdown",
      "source": [
        "**(iv) Interquartile Range (IQR)**"
      ],
      "metadata": {
        "id": "GeNOU-3O9EsA"
      }
    },
    {
      "cell_type": "code",
      "source": [
        "def calculate_iqr(numbers):\n",
        "    sorted_numbers = sorted(numbers)\n",
        "    n = len(numbers)\n",
        "    q1 = sorted_numbers[int(n * 0.25)]\n",
        "    q3 = sorted_numbers[int(n * 0.75)]\n",
        "    return q3 - q1"
      ],
      "metadata": {
        "id": "UoR9NzJ_9EAN"
      },
      "execution_count": 14,
      "outputs": []
    },
    {
      "cell_type": "markdown",
      "source": [
        "**(v) Coefficient of Variation**"
      ],
      "metadata": {
        "id": "-JCimAGr9K7Y"
      }
    },
    {
      "cell_type": "code",
      "source": [
        "def calculate_coefficient_of_variation(numbers):\n",
        "    mean = sum(numbers) / len(numbers)\n",
        "    std_dev = calculate_std_deviation(numbers)\n",
        "    return (std_dev / mean) * 100"
      ],
      "metadata": {
        "id": "hRRaeNNo9I8d"
      },
      "execution_count": 15,
      "outputs": []
    },
    {
      "cell_type": "markdown",
      "source": [
        "**(vi) Mean Absolute Deviation (MAD)**"
      ],
      "metadata": {
        "id": "fVp0IVLF9Pbe"
      }
    },
    {
      "cell_type": "code",
      "source": [
        "def calculate_mad(numbers):\n",
        "    mean = sum(numbers) / len(numbers)\n",
        "    return sum(abs(x - mean) for x in numbers) / len(numbers)"
      ],
      "metadata": {
        "id": "7xjFxs_r9NiF"
      },
      "execution_count": 16,
      "outputs": []
    },
    {
      "cell_type": "markdown",
      "source": [
        "**(vii) Quartile Deviation**"
      ],
      "metadata": {
        "id": "eZlyjSPq9TXw"
      }
    },
    {
      "cell_type": "code",
      "source": [
        "def calculate_quartile_deviation(numbers):\n",
        "    iqr = calculate_iqr(numbers)\n",
        "    return iqr / 2"
      ],
      "metadata": {
        "id": "ZvnnbP2I9Rrl"
      },
      "execution_count": 17,
      "outputs": []
    },
    {
      "cell_type": "markdown",
      "source": [
        "**(viii) Range-Based Coefficient of Dispersion**"
      ],
      "metadata": {
        "id": "yQ_b4dXX9YQX"
      }
    },
    {
      "cell_type": "code",
      "source": [
        "def calculate_range_based_dispersion(numbers):\n",
        "    range_val = calculate_range(numbers)\n",
        "    mean = sum(numbers) / len(numbers)\n",
        "    return (range_val / mean) * 100"
      ],
      "metadata": {
        "id": "8xsohr1s9Vqd"
      },
      "execution_count": 18,
      "outputs": []
    },
    {
      "cell_type": "markdown",
      "source": [
        "\n",
        "\n",
        "---\n",
        "\n"
      ],
      "metadata": {
        "id": "oJkhJ2cZ9djr"
      }
    },
    {
      "cell_type": "markdown",
      "source": [
        "Question 3:  Write a Python class representing a discrete random variable with methods to calculate its expectedvalue and variance."
      ],
      "metadata": {
        "id": "chiMxw6Q9elf"
      }
    },
    {
      "cell_type": "markdown",
      "source": [
        "## Solution:"
      ],
      "metadata": {
        "id": "TqtX8lfS9vy1"
      }
    },
    {
      "cell_type": "code",
      "source": [
        "class DiscreteRandomVariable:\n",
        "    def __init__(self, values, probabilities):\n",
        "        \"\"\"\n",
        "        Initializes a discrete random variable.\n",
        "        :param values: List of discrete outcomes (x1, x2, ...).\n",
        "        :param probabilities: List of probabilities corresponding to each outcome.\n",
        "        \"\"\"\n",
        "        if len(values) != len(probabilities):\n",
        "            raise ValueError(\"Values and probabilities must have the same length.\")\n",
        "        if not (0.999 <= sum(probabilities) <= 1.001):  # Allow for floating-point error\n",
        "            raise ValueError(\"Probabilities must sum to 1.\")\n",
        "        if any(p < 0 for p in probabilities):\n",
        "            raise ValueError(\"Probabilities must be non-negative.\")\n",
        "\n",
        "        self.values = values\n",
        "        self.probabilities = probabilities\n",
        "\n",
        "    def expected_value(self):\n",
        "        \"\"\"\n",
        "        Calculates the expected value (mean) of the random variable.\n",
        "        :return: Expected value.\n",
        "        \"\"\"\n",
        "        return sum(v * p for v, p in zip(self.values, self.probabilities))\n",
        "\n",
        "    def variance(self):\n",
        "        \"\"\"\n",
        "        Calculates the variance of the random variable.\n",
        "        :return: Variance.\n",
        "        \"\"\"\n",
        "        mean = self.expected_value()\n",
        "        return sum(p * ((v - mean) ** 2) for v, p in zip(self.values, self.probabilities))\n",
        "\n",
        "\n",
        "# Example Usage\n",
        "values = [1, 2, 3, 4, 5]  # Possible outcomes\n",
        "probabilities = [0.1, 0.2, 0.3, 0.2, 0.2]  # Corresponding probabilities\n",
        "\n",
        "# Create the discrete random variable\n",
        "drv = DiscreteRandomVariable(values, probabilities)\n",
        "\n",
        "# Calculate and print expected value and variance\n",
        "print(\"Expected Value:\", drv.expected_value())\n",
        "print(\"Variance:\", drv.variance())"
      ],
      "metadata": {
        "colab": {
          "base_uri": "https://localhost:8080/"
        },
        "id": "kKwC1hgP9bPl",
        "outputId": "a7d44463-e45b-418a-9adc-b1499a9107fe"
      },
      "execution_count": 19,
      "outputs": [
        {
          "output_type": "stream",
          "name": "stdout",
          "text": [
            "Expected Value: 3.2\n",
            "Variance: 1.56\n"
          ]
        }
      ]
    },
    {
      "cell_type": "markdown",
      "source": [
        "\n",
        "\n",
        "---\n",
        "\n"
      ],
      "metadata": {
        "id": "M4cdox-a91vF"
      }
    },
    {
      "cell_type": "markdown",
      "source": [
        "Question 4: Implement a program to simulate the rolling of a fair six-sided die and calculate the expected value and variance of the outcomes."
      ],
      "metadata": {
        "id": "YjLCtbUF92qh"
      }
    },
    {
      "cell_type": "markdown",
      "source": [
        "## Solution:"
      ],
      "metadata": {
        "id": "Cd07UwZw-Cz2"
      }
    },
    {
      "cell_type": "code",
      "source": [
        "import random\n",
        "\n",
        "class FairDieSimulator:\n",
        "    def __init__(self, sides=6, rolls=10000):\n",
        "        \"\"\"\n",
        "        Initializes the die simulator.\n",
        "        :param sides: Number of sides on the die (default is 6).\n",
        "        :param rolls: Number of rolls to simulate (default is 10,000).\n",
        "        \"\"\"\n",
        "        self.sides = sides\n",
        "        self.rolls = rolls\n",
        "        self.outcomes = list(range(1, sides + 1))\n",
        "        self.probabilities = [1 / sides] * sides  # Fair die\n",
        "\n",
        "    def simulate_rolls(self):\n",
        "        \"\"\"\n",
        "        Simulates rolling the die and records the outcomes.\n",
        "        :return: List of simulated outcomes.\n",
        "        \"\"\"\n",
        "        return [random.choice(self.outcomes) for _ in range(self.rolls)]\n",
        "\n",
        "    def calculate_expected_value(self):\n",
        "        \"\"\"\n",
        "        Calculates the expected value of the outcomes.\n",
        "        :return: Expected value.\n",
        "        \"\"\"\n",
        "        return sum(outcome * prob for outcome, prob in zip(self.outcomes, self.probabilities))\n",
        "\n",
        "    def calculate_variance(self):\n",
        "        \"\"\"\n",
        "        Calculates the variance of the outcomes.\n",
        "        :return: Variance.\n",
        "        \"\"\"\n",
        "        mean = self.calculate_expected_value()\n",
        "        return sum(prob * ((outcome - mean) ** 2) for outcome, prob in zip(self.outcomes, self.probabilities))\n",
        "\n",
        "\n",
        "# Example Usage\n",
        "# Instantiate the simulator\n",
        "die_simulator = FairDieSimulator()\n",
        "\n",
        "# Simulate rolls and calculate statistics\n",
        "simulated_rolls = die_simulator.simulate_rolls()\n",
        "expected_value = die_simulator.calculate_expected_value()\n",
        "variance = die_simulator.calculate_variance()\n",
        "\n",
        "# Output results\n",
        "print(\"Simulated Rolls:\", simulated_rolls[:20], \"...\")  # Show first 20 rolls for brevity\n",
        "print(\"Expected Value:\", expected_value)\n",
        "print(\"Variance:\", variance)"
      ],
      "metadata": {
        "colab": {
          "base_uri": "https://localhost:8080/"
        },
        "id": "bvroDnix90CN",
        "outputId": "31a6e41c-6075-4e82-c84a-e8f4eeff3ce7"
      },
      "execution_count": 20,
      "outputs": [
        {
          "output_type": "stream",
          "name": "stdout",
          "text": [
            "Simulated Rolls: [4, 6, 1, 4, 2, 2, 2, 6, 6, 1, 2, 2, 6, 2, 6, 5, 2, 2, 3, 6] ...\n",
            "Expected Value: 3.5\n",
            "Variance: 2.9166666666666665\n"
          ]
        }
      ]
    },
    {
      "cell_type": "markdown",
      "source": [
        "\n",
        "\n",
        "---\n",
        "\n"
      ],
      "metadata": {
        "id": "aIeCx_rX-Gr2"
      }
    },
    {
      "cell_type": "markdown",
      "source": [
        "Question 5: Create a Python function to generate random samples from a given probability distribution (e.g.,\n",
        "binomial, Poisson) and calculate their mean and variance."
      ],
      "metadata": {
        "id": "oWz5nzNn-HrF"
      }
    },
    {
      "cell_type": "markdown",
      "source": [
        "## Solution:"
      ],
      "metadata": {
        "id": "kL60wH6i-Lsv"
      }
    },
    {
      "cell_type": "code",
      "source": [
        "import numpy as np\n",
        "\n",
        "def generate_samples_and_stats(distribution, params, sample_size=1000):\n",
        "    \"\"\"\n",
        "    Generates random samples from a given probability distribution and calculates mean and variance.\n",
        "\n",
        "    :param distribution: The name of the probability distribution ('binomial', 'poisson', etc.).\n",
        "    :param params: Parameters for the distribution as a dictionary.\n",
        "        - For 'binomial': {'n': int, 'p': float}\n",
        "        - For 'poisson': {'lam': float}\n",
        "    :param sample_size: Number of samples to generate (default: 1000).\n",
        "    :return: Tuple of (samples, mean, variance).\n",
        "    \"\"\"\n",
        "    if distribution == 'binomial':\n",
        "        n, p = params['n'], params['p']\n",
        "        samples = np.random.binomial(n=n, p=p, size=sample_size)\n",
        "    elif distribution == 'poisson':\n",
        "        lam = params['lam']\n",
        "        samples = np.random.poisson(lam=lam, size=sample_size)\n",
        "    else:\n",
        "        raise ValueError(\"Unsupported distribution. Use 'binomial' or 'poisson'.\")\n",
        "\n",
        "    # Calculate mean and variance of the samples\n",
        "    mean = np.mean(samples)\n",
        "    variance = np.var(samples)\n",
        "\n",
        "    return samples, mean, variance\n",
        "\n",
        "# Example Usage\n",
        "# Generate 1000 samples from a binomial distribution with n=10, p=0.5\n",
        "binomial_samples, binomial_mean, binomial_variance = generate_samples_and_stats(\n",
        "    distribution='binomial',\n",
        "    params={'n': 10, 'p': 0.5},\n",
        "    sample_size=1000\n",
        ")\n",
        "\n",
        "print(\"Binomial Distribution:\")\n",
        "print(\"Samples:\", binomial_samples[:20], \"...\")  # Show first 20 samples\n",
        "print(\"Mean:\", binomial_mean)\n",
        "print(\"Variance:\", binomial_variance)\n",
        "\n",
        "# Generate 1000 samples from a Poisson distribution with λ=3\n",
        "poisson_samples, poisson_mean, poisson_variance = generate_samples_and_stats(\n",
        "    distribution='poisson',\n",
        "    params={'lam': 3},\n",
        "    sample_size=1000\n",
        ")\n",
        "\n",
        "print(\"\\nPoisson Distribution:\")\n",
        "print(\"Samples:\", poisson_samples[:20], \"...\")  # Show first 20 samples\n",
        "print(\"Mean:\", poisson_mean)\n",
        "print(\"Variance:\", poisson_variance)"
      ],
      "metadata": {
        "colab": {
          "base_uri": "https://localhost:8080/"
        },
        "id": "wg4b1ppz-Flt",
        "outputId": "6a0aeb9b-14d1-4c52-8129-fae89f74e4ff"
      },
      "execution_count": 21,
      "outputs": [
        {
          "output_type": "stream",
          "name": "stdout",
          "text": [
            "Binomial Distribution:\n",
            "Samples: [3 8 8 5 5 5 4 6 6 5 7 4 5 5 6 5 5 5 3 6] ...\n",
            "Mean: 5.037\n",
            "Variance: 2.4896309999999993\n",
            "\n",
            "Poisson Distribution:\n",
            "Samples: [4 4 0 2 3 2 5 1 2 2 4 4 7 5 1 2 4 4 2 3] ...\n",
            "Mean: 2.996\n",
            "Variance: 3.037984\n"
          ]
        }
      ]
    },
    {
      "cell_type": "markdown",
      "source": [
        "\n",
        "\n",
        "---\n",
        "\n"
      ],
      "metadata": {
        "id": "tkCGdiIG-WXm"
      }
    },
    {
      "cell_type": "markdown",
      "source": [
        "Question 6: Write a Python script to generate random numbers from a Gaussian (normal) distribution and compute the mean, variance, and standard deviation of the samples."
      ],
      "metadata": {
        "id": "7el-jXYN-Yj2"
      }
    },
    {
      "cell_type": "markdown",
      "source": [
        "## Solution:"
      ],
      "metadata": {
        "id": "fBFOdie9-gU2"
      }
    },
    {
      "cell_type": "code",
      "source": [
        "import numpy as np\n",
        "\n",
        "def generate_gaussian_samples(mean, std_dev, sample_size=1000):\n",
        "    \"\"\"\n",
        "    Generates random samples from a Gaussian distribution and computes statistics.\n",
        "\n",
        "    :param mean: Mean of the Gaussian distribution.\n",
        "    :param std_dev: Standard deviation of the Gaussian distribution.\n",
        "    :param sample_size: Number of samples to generate (default: 1000).\n",
        "    :return: Tuple of (samples, calculated_mean, calculated_variance, calculated_std_dev).\n",
        "    \"\"\"\n",
        "    # Generate random samples\n",
        "    samples = np.random.normal(loc=mean, scale=std_dev, size=sample_size)\n",
        "\n",
        "    # Calculate statistics\n",
        "    calculated_mean = np.mean(samples)\n",
        "    calculated_variance = np.var(samples)\n",
        "    calculated_std_dev = np.std(samples)\n",
        "\n",
        "    return samples, calculated_mean, calculated_variance, calculated_std_dev\n",
        "\n",
        "# Example Usage\n",
        "mean = 0        # Mean of the Gaussian distribution\n",
        "std_dev = 1     # Standard deviation\n",
        "sample_size = 1000  # Number of samples\n",
        "\n",
        "# Generate samples and compute statistics\n",
        "samples, calculated_mean, calculated_variance, calculated_std_dev = generate_gaussian_samples(\n",
        "    mean=mean,\n",
        "    std_dev=std_dev,\n",
        "    sample_size=sample_size\n",
        ")\n",
        "\n",
        "# Print results\n",
        "print(\"Generated Samples (first 20):\", samples[:20], \"...\")\n",
        "print(\"Calculated Mean:\", calculated_mean)\n",
        "print(\"Calculated Variance:\", calculated_variance)\n",
        "print(\"Calculated Standard Deviation:\", calculated_std_dev)"
      ],
      "metadata": {
        "colab": {
          "base_uri": "https://localhost:8080/"
        },
        "id": "n8IMkFRC-VaN",
        "outputId": "3200fd60-4d38-4c5e-d500-05b881966418"
      },
      "execution_count": 22,
      "outputs": [
        {
          "output_type": "stream",
          "name": "stdout",
          "text": [
            "Generated Samples (first 20): [ 0.37230723  2.14675701  0.23145124  0.61378877  0.23466292 -0.71027693\n",
            " -1.30807378 -0.23378776 -0.445744   -1.22898103  0.3413648  -0.55931894\n",
            " -0.42005665 -1.49401415 -0.85325489  0.36994673  1.07523597 -0.69211543\n",
            "  0.00770112  1.28736859] ...\n",
            "Calculated Mean: -0.001147525423104133\n",
            "Calculated Variance: 0.9447990579469693\n",
            "Calculated Standard Deviation: 0.9720077458266314\n"
          ]
        }
      ]
    },
    {
      "cell_type": "markdown",
      "source": [
        "\n",
        "\n",
        "---\n",
        "\n"
      ],
      "metadata": {
        "id": "SQInaYkq-6HF"
      }
    },
    {
      "cell_type": "markdown",
      "source": [
        "Question 7: Use seaborn library to load tips dataset. Find the following from the dataset for the columns total_bill\n",
        "and tip`:\n",
        "\n",
        "  \n",
        "\n",
        "  (i) Write a Python function that calculates their skewness.\n",
        "\n",
        "\n",
        "  (ii) Create a program that determines whether the columns exhibit positive skewness, negative skewness, or is\n",
        "approximately symmetric.\n",
        "\n",
        "\n",
        "  (iii) Write a function that calculates the covariance between two columns.\n",
        "\n",
        "\n",
        "  (iv) Implement a Python program that calculates the Pearson correlation coefficient between two columns.\n",
        "\n",
        "\n",
        "  (v) Write a script to visualize the correlation between two specific columns in a Pandas DataFrame using\n",
        "scatter plots"
      ],
      "metadata": {
        "id": "ywMBOvYh-629"
      }
    },
    {
      "cell_type": "markdown",
      "source": [
        "## Solution:"
      ],
      "metadata": {
        "id": "KMTvbwx0_DQ2"
      }
    },
    {
      "cell_type": "code",
      "source": [
        "import seaborn as sns\n",
        "import pandas as pd\n",
        "import numpy as np\n",
        "import matplotlib.pyplot as plt\n",
        "\n",
        "# Load the tips dataset\n",
        "tips = sns.load_dataset('tips')\n",
        "\n",
        "# (i) Function to calculate skewness\n",
        "def calculate_skewness(column):\n",
        "    \"\"\"\n",
        "    Calculates the skewness of a given column.\n",
        "    :param column: Pandas Series representing the column.\n",
        "    :return: Skewness value.\n",
        "    \"\"\"\n",
        "    mean = column.mean()\n",
        "    median = column.median()\n",
        "    std_dev = column.std()\n",
        "    return (3 * (mean - median)) / std_dev\n",
        "\n",
        "# (ii) Function to determine skewness type\n",
        "def skewness_type(skewness_value):\n",
        "    \"\"\"\n",
        "    Determines the skewness type.\n",
        "    :param skewness_value: Calculated skewness value.\n",
        "    :return: String indicating the type of skewness.\n",
        "    \"\"\"\n",
        "    if skewness_value > 0:\n",
        "        return \"Positive Skewness\"\n",
        "    elif skewness_value < 0:\n",
        "        return \"Negative Skewness\"\n",
        "    else:\n",
        "        return \"Approximately Symmetric\"\n",
        "\n",
        "# (iii) Function to calculate covariance\n",
        "def calculate_covariance(column1, column2):\n",
        "    \"\"\"\n",
        "    Calculates the covariance between two columns.\n",
        "    :param column1: Pandas Series for first column.\n",
        "    :param column2: Pandas Series for second column.\n",
        "    :return: Covariance value.\n",
        "    \"\"\"\n",
        "    return np.cov(column1, column2, bias=True)[0][1]\n",
        "\n",
        "# (iv) Function to calculate Pearson correlation coefficient\n",
        "def calculate_pearson_corr(column1, column2):\n",
        "    \"\"\"\n",
        "    Calculates the Pearson correlation coefficient between two columns.\n",
        "    :param column1: Pandas Series for first column.\n",
        "    :param column2: Pandas Series for second column.\n",
        "    :return: Pearson correlation coefficient.\n",
        "    \"\"\"\n",
        "    return np.corrcoef(column1, column2)[0][1]\n",
        "\n",
        "# (v) Function to visualize correlation using scatter plot\n",
        "def visualize_correlation(column1, column2, column1_name, column2_name):\n",
        "    \"\"\"\n",
        "    Visualizes correlation between two columns using scatter plot.\n",
        "    :param column1: Pandas Series for first column.\n",
        "    :param column2: Pandas Series for second column.\n",
        "    :param column1_name: Name of first column for labeling.\n",
        "    :param column2_name: Name of second column for labeling.\n",
        "    \"\"\"\n",
        "    plt.figure(figsize=(8, 6))\n",
        "    plt.scatter(column1, column2, alpha=0.7)\n",
        "    plt.title(f'Scatter Plot: {column1_name} vs {column2_name}')\n",
        "    plt.xlabel(column1_name)\n",
        "    plt.ylabel(column2_name)\n",
        "    plt.grid(True)\n",
        "    plt.show()\n",
        "\n",
        "# Example computations for 'total_bill' and 'tip' columns\n",
        "total_bill = tips['total_bill']\n",
        "tip = tips['tip']\n",
        "\n",
        "# Calculate skewness\n",
        "total_bill_skewness = calculate_skewness(total_bill)\n",
        "tip_skewness = calculate_skewness(tip)\n",
        "\n",
        "# Determine skewness type\n",
        "total_bill_skewness_type = skewness_type(total_bill_skewness)\n",
        "tip_skewness_type = skewness_type(tip_skewness)\n",
        "\n",
        "# Calculate covariance\n",
        "covariance = calculate_covariance(total_bill, tip)\n",
        "\n",
        "# Calculate Pearson correlation coefficient\n",
        "pearson_corr = calculate_pearson_corr(total_bill, tip)\n",
        "\n",
        "# Print results\n",
        "print(\"Skewness of 'total_bill':\", total_bill_skewness, f\"({total_bill_skewness_type})\")\n",
        "print(\"Skewness of 'tip':\", tip_skewness, f\"({tip_skewness_type})\")\n",
        "print(\"Covariance between 'total_bill' and 'tip':\", covariance)\n",
        "print(\"Pearson Correlation Coefficient between 'total_bill' and 'tip':\", pearson_corr)\n",
        "\n",
        "# Visualize correlation using scatter plot\n",
        "visualize_correlation(total_bill, tip, 'Total Bill', 'Tip')"
      ],
      "metadata": {
        "colab": {
          "base_uri": "https://localhost:8080/",
          "height": 633
        },
        "id": "vo2-lQbm-119",
        "outputId": "cdbb46e3-03bf-44d3-8242-4394649f1d0a"
      },
      "execution_count": 23,
      "outputs": [
        {
          "output_type": "stream",
          "name": "stdout",
          "text": [
            "Skewness of 'total_bill': 0.6709224308131329 (Positive Skewness)\n",
            "Skewness of 'tip': 0.21308754551405173 (Positive Skewness)\n",
            "Covariance between 'total_bill' and 'tip': 8.28938891762967\n",
            "Pearson Correlation Coefficient between 'total_bill' and 'tip': 0.6757341092113641\n"
          ]
        },
        {
          "output_type": "display_data",
          "data": {
            "text/plain": [
              "<Figure size 800x600 with 1 Axes>"
            ],
            "image/png": "[encoded data removed]"
          },
          "metadata": {}
        }
      ]
    },
    {
      "cell_type": "markdown",
      "source": [
        "\n",
        "\n",
        "---\n",
        "\n"
      ],
      "metadata": {
        "id": "0ZURk5pj_g21"
      }
    },
    {
      "cell_type": "markdown",
      "source": [
        "Question 8: Write a Python function to calculate the probability density function (PDF) of a continuous random variable for a given normal distribution."
      ],
      "metadata": {
        "id": "AycPo-TQ_MiV"
      }
    },
    {
      "cell_type": "markdown",
      "source": [
        "## Solution:"
      ],
      "metadata": {
        "id": "4_haDv5L_kTt"
      }
    },
    {
      "cell_type": "code",
      "source": [
        "import math\n",
        "\n",
        "def normal_pdf(x, mean, std_dev):\n",
        "    \"\"\"\n",
        "    Calculates the probability density function (PDF) of a normal distribution.\n",
        "\n",
        "    :param x: The value at which to evaluate the PDF.\n",
        "    :param mean: The mean of the normal distribution.\n",
        "    :param std_dev: The standard deviation of the normal distribution.\n",
        "    :return: The PDF value at x.\n",
        "    \"\"\"\n",
        "    # Formula: PDF(x) = (1 / (sqrt(2 * π) * σ)) * exp(-(x - μ)^2 / (2 * σ^2))\n",
        "    coefficient = 1 / (math.sqrt(2 * math.pi) * std_dev)\n",
        "    exponent = math.exp(-((x - mean) ** 2) / (2 * (std_dev ** 2)))\n",
        "    return coefficient * exponent\n",
        "\n",
        "# Example Usage\n",
        "mean = 0  # Mean of the normal distribution\n",
        "std_dev = 1  # Standard deviation of the normal distribution\n",
        "x_values = [-2, -1, 0, 1, 2]  # Points at which to evaluate the PDF\n",
        "\n",
        "# Calculate and display PDF values\n",
        "pdf_values = [normal_pdf(x, mean, std_dev) for x in x_values]\n",
        "for x, pdf in zip(x_values, pdf_values):\n",
        "    print(f\"PDF at x = {x}: {pdf}\")"
      ],
      "metadata": {
        "colab": {
          "base_uri": "https://localhost:8080/"
        },
        "id": "7f3l_dty_ZR1",
        "outputId": "5445cce1-ef24-4164-aeb2-39198284d876"
      },
      "execution_count": 24,
      "outputs": [
        {
          "output_type": "stream",
          "name": "stdout",
          "text": [
            "PDF at x = -2: 0.05399096651318806\n",
            "PDF at x = -1: 0.24197072451914337\n",
            "PDF at x = 0: 0.3989422804014327\n",
            "PDF at x = 1: 0.24197072451914337\n",
            "PDF at x = 2: 0.05399096651318806\n"
          ]
        }
      ]
    },
    {
      "cell_type": "markdown",
      "source": [
        "\n",
        "\n",
        "---\n",
        "\n"
      ],
      "metadata": {
        "id": "qiPFqYjU_zHn"
      }
    },
    {
      "cell_type": "markdown",
      "source": [
        "Question 9: Create a program to calculate the cumulative distribution function (CDF) of exponential distribution."
      ],
      "metadata": {
        "id": "N0QDFnqE_0K-"
      }
    },
    {
      "cell_type": "markdown",
      "source": [
        "## Solution:"
      ],
      "metadata": {
        "id": "LE-tauEF_5Q1"
      }
    },
    {
      "cell_type": "code",
      "source": [
        "import math\n",
        "\n",
        "def exponential_cdf(x, lam):\n",
        "    \"\"\"\n",
        "    Calculates the cumulative distribution function (CDF) of an exponential distribution.\n",
        "\n",
        "    :param x: The value at which to evaluate the CDF.\n",
        "    :param lam: The rate parameter (lambda) of the exponential distribution.\n",
        "    :return: The CDF value at x.\n",
        "    \"\"\"\n",
        "    if x < 0:\n",
        "        return 0  # CDF is 0 for x < 0\n",
        "    return 1 - math.exp(-lam * x)\n",
        "\n",
        "# Example Usage\n",
        "lam = 0.5  # Rate parameter (lambda)\n",
        "x_values = [0, 1, 2, 3, 4]  # Points at which to evaluate the CDF\n",
        "\n",
        "# Calculate and display CDF values\n",
        "cdf_values = [exponential_cdf(x, lam) for x in x_values]\n",
        "for x, cdf in zip(x_values, cdf_values):\n",
        "    print(f\"CDF at x = {x}: {cdf}\")"
      ],
      "metadata": {
        "colab": {
          "base_uri": "https://localhost:8080/"
        },
        "id": "PrrQXFEA_zt1",
        "outputId": "8cb69265-d6fc-4605-e8f4-a285b04783bc"
      },
      "execution_count": 25,
      "outputs": [
        {
          "output_type": "stream",
          "name": "stdout",
          "text": [
            "CDF at x = 0: 0.0\n",
            "CDF at x = 1: 0.3934693402873666\n",
            "CDF at x = 2: 0.6321205588285577\n",
            "CDF at x = 3: 0.7768698398515702\n",
            "CDF at x = 4: 0.8646647167633873\n"
          ]
        }
      ]
    },
    {
      "cell_type": "markdown",
      "source": [
        "\n",
        "\n",
        "---\n",
        "\n"
      ],
      "metadata": {
        "id": "nzl7fAdlAJp-"
      }
    },
    {
      "cell_type": "markdown",
      "source": [
        "Question 10: Write a Python function to calculate the probability mass function (PMF) of Poisson distribution."
      ],
      "metadata": {
        "id": "cj2dseivAKs9"
      }
    },
    {
      "cell_type": "markdown",
      "source": [
        "## Solution:"
      ],
      "metadata": {
        "id": "IRRL-0UyASE_"
      }
    },
    {
      "cell_type": "code",
      "source": [
        "import math\n",
        "\n",
        "def poisson_pmf(k, lam):\n",
        "    \"\"\"\n",
        "    Calculates the probability mass function (PMF) of a Poisson distribution.\n",
        "\n",
        "    :param k: The number of occurrences (non-negative integer).\n",
        "    :param lam: The mean number of occurrences (lambda).\n",
        "    :return: The PMF value at k.\n",
        "    \"\"\"\n",
        "    if k < 0 or not isinstance(k, int):\n",
        "        raise ValueError(\"k must be a non-negative integer.\")\n",
        "    return (math.exp(-lam) * (lam ** k)) / math.factorial(k)\n",
        "\n",
        "# Example Usage\n",
        "lam = 3  # Mean number of occurrences (lambda)\n",
        "k_values = [0, 1, 2, 3, 4, 5]  # Values of k to evaluate the PMF\n",
        "\n",
        "# Calculate and display PMF values\n",
        "pmf_values = [poisson_pmf(k, lam) for k in k_values]\n",
        "for k, pmf in zip(k_values, pmf_values):\n",
        "    print(f\"PMF at k = {k}: {pmf}\")"
      ],
      "metadata": {
        "colab": {
          "base_uri": "https://localhost:8080/"
        },
        "id": "rCgzlIuaAI09",
        "outputId": "8eaa6e05-6774-4036-8fc0-e225fccacd9f"
      },
      "execution_count": 26,
      "outputs": [
        {
          "output_type": "stream",
          "name": "stdout",
          "text": [
            "PMF at k = 0: 0.049787068367863944\n",
            "PMF at k = 1: 0.14936120510359183\n",
            "PMF at k = 2: 0.22404180765538775\n",
            "PMF at k = 3: 0.22404180765538775\n",
            "PMF at k = 4: 0.16803135574154082\n",
            "PMF at k = 5: 0.10081881344492448\n"
          ]
        }
      ]
    },
    {
      "cell_type": "markdown",
      "source": [
        "\n",
        "\n",
        "---\n",
        "\n"
      ],
      "metadata": {
        "id": "zn6Wvv5wAZIo"
      }
    },
    {
      "cell_type": "markdown",
      "source": [
        "Question 11: A company wants to test if a new website layout leads to a higher conversion rate (percentage of visitors\n",
        "who make a purchase). They collect data from the old and new layouts to compare.\n",
        "\n",
        "\n",
        "To generate the data use the following command:\n",
        "\n",
        "```python\n",
        "\n",
        "import numpy as np\n",
        "\n",
        "# 50 purchases out of 1000 visitors\n",
        "\n",
        "old_layout = np.array([1] * 50 + [0] * 950)\n",
        "\n",
        "# 70 purchases out of 1000 visitors  \n",
        "\n",
        "new_layout = np.array([1] * 70 + [0] * 930)\n",
        "\n",
        "  ```\n",
        "\n",
        "Apply z-test to find which layout is successful."
      ],
      "metadata": {
        "id": "05ntClrRAaz_"
      }
    },
    {
      "cell_type": "code",
      "source": [
        "import numpy as np\n",
        "import scipy.stats as stats\n",
        "\n",
        "# Data\n",
        "old_layout = np.array([1] * 50 + [0] * 950)\n",
        "new_layout = np.array([1] * 70 + [0] * 930)\n",
        "\n",
        "# Step 1: Calculate sample proportions\n",
        "p_old = np.mean(old_layout)  # Proportion of purchases in old layout\n",
        "p_new = np.mean(new_layout)  # Proportion of purchases in new layout\n",
        "\n",
        "# Step 2: Calculate sample sizes\n",
        "n_old = len(old_layout)\n",
        "n_new = len(new_layout)\n",
        "\n",
        "# Step 3: Calculate the pooled proportion\n",
        "p_pool = (np.sum(old_layout) + np.sum(new_layout)) / (n_old + n_new)\n",
        "\n",
        "# Step 4: Calculate the standard error\n",
        "SE = np.sqrt(p_pool * (1 - p_pool) * (1/n_old + 1/n_new))\n",
        "\n",
        "# Step 5: Calculate the z-statistic\n",
        "z = (p_new - p_old) / SE\n",
        "\n",
        "# Step 6: Calculate the p-value for the z-statistic (one-tailed test)\n",
        "p_value = 1 - stats.norm.cdf(z)\n",
        "\n",
        "# Output the results\n",
        "print(f\"Old Layout Conversion Rate: {p_old:.4f}\")\n",
        "print(f\"New Layout Conversion Rate: {p_new:.4f}\")\n",
        "print(f\"z-statistic: {z:.4f}\")\n",
        "print(f\"p-value: {p_value:.4f}\")\n",
        "\n",
        "# Step 7: Decision based on p-value (one-tailed test at alpha = 0.05)\n",
        "if p_value < 0.05:\n",
        "    print(\"Reject the null hypothesis. The new layout leads to a higher conversion rate.\")\n",
        "else:\n",
        "    print(\"Fail to reject the null hypothesis. No significant difference in conversion rates.\")"
      ],
      "metadata": {
        "colab": {
          "base_uri": "https://localhost:8080/"
        },
        "id": "s1L4d5RvAXid",
        "outputId": "30606aa9-172b-4aa8-b0e2-502a2d03f7d8"
      },
      "execution_count": 27,
      "outputs": [
        {
          "output_type": "stream",
          "name": "stdout",
          "text": [
            "Old Layout Conversion Rate: 0.0500\n",
            "New Layout Conversion Rate: 0.0700\n",
            "z-statistic: 1.8831\n",
            "p-value: 0.0298\n",
            "Reject the null hypothesis. The new layout leads to a higher conversion rate.\n"
          ]
        }
      ]
    },
    {
      "cell_type": "markdown",
      "source": [
        "\n",
        "\n",
        "---\n",
        "\n"
      ],
      "metadata": {
        "id": "IPOR7AcjAoaF"
      }
    },
    {
      "cell_type": "markdown",
      "source": [
        "Question 12:  A tutoring service claims that its program improves students' exam scores. A sample of students who\n",
        "participated in the program was taken, and their scores before and after the program were recorded.\n",
        "\n",
        "\n",
        "Use the below code to generate samples of respective arrays of marks:\n",
        "\n",
        "```python\n",
        "\n",
        "before_program = np.array([75, 80, 85, 70, 90, 78, 92, 88, 82, 87])\n",
        "\n",
        "after_program = np.array([80, 85, 90, 80, 92, 80, 95, 90, 85, 88])\n",
        "\n",
        "```\n",
        "\n",
        "Use z-test to find if the claims made by tutor are true or false."
      ],
      "metadata": {
        "id": "NzOCAwajAqqk"
      }
    },
    {
      "cell_type": "markdown",
      "source": [
        "## Solution:"
      ],
      "metadata": {
        "id": "VBQsMQ6LAwLu"
      }
    },
    {
      "cell_type": "code",
      "source": [
        "import numpy as np\n",
        "import scipy.stats as stats\n",
        "\n",
        "# Sample data\n",
        "before_program = np.array([75, 80, 85, 70, 90, 78, 92, 88, 82, 87])\n",
        "after_program = np.array([80, 85, 90, 80, 92, 80, 95, 90, 85, 88])\n",
        "\n",
        "# Step 1: Calculate sample means\n",
        "mean_before = np.mean(before_program)\n",
        "mean_after = np.mean(after_program)\n",
        "\n",
        "# Step 2: Calculate standard deviations\n",
        "std_before = np.std(before_program, ddof=1)\n",
        "std_after = np.std(after_program, ddof=1)\n",
        "\n",
        "# Step 3: Calculate sample sizes\n",
        "n = len(before_program)\n",
        "\n",
        "# Step 4: Calculate the standard error of the difference in means\n",
        "SE = np.sqrt((std_before**2 / n) + (std_after**2 / n))\n",
        "\n",
        "# Step 5: Calculate the z-statistic\n",
        "z = (mean_after - mean_before) / SE\n",
        "\n",
        "# Step 6: Calculate the p-value for the z-statistic (one-tailed test)\n",
        "p_value = 1 - stats.norm.cdf(z)\n",
        "\n",
        "# Output the results\n",
        "print(f\"Mean before program: {mean_before:.2f}\")\n",
        "print(f\"Mean after program: {mean_after:.2f}\")\n",
        "print(f\"z-statistic: {z:.4f}\")\n",
        "print(f\"p-value: {p_value:.4f}\")\n",
        "\n",
        "# Step 7: Decision based on p-value (one-tailed test at alpha = 0.05)\n",
        "if p_value < 0.05:\n",
        "    print(\"Reject the null hypothesis. The tutoring program improves students' scores.\")\n",
        "else:\n",
        "    print(\"Fail to reject the null hypothesis. No significant improvement in scores.\")"
      ],
      "metadata": {
        "colab": {
          "base_uri": "https://localhost:8080/"
        },
        "id": "Iw5hKlCeAnj-",
        "outputId": "1066bda8-8bc8-4007-82a0-111b9a120b6a"
      },
      "execution_count": 28,
      "outputs": [
        {
          "output_type": "stream",
          "name": "stdout",
          "text": [
            "Mean before program: 82.70\n",
            "Mean after program: 86.50\n",
            "z-statistic: 1.3600\n",
            "p-value: 0.0869\n",
            "Fail to reject the null hypothesis. No significant improvement in scores.\n"
          ]
        }
      ]
    },
    {
      "cell_type": "markdown",
      "source": [
        "\n",
        "\n",
        "---\n",
        "\n"
      ],
      "metadata": {
        "id": "__EDJTkFA5Pe"
      }
    },
    {
      "cell_type": "markdown",
      "source": [
        "Question 13: A pharmaceutical company wants to determine if a new drug is effective in reducing blood pressure. They\n",
        "conduct a study and record blood pressure measurements before and after administering the drug.\n",
        "\n",
        "\n",
        "Use the below code to generate samples of respective arrays of blood pressure:\n",
        "\n",
        "\n",
        "```python\n",
        "\n",
        "before_drug = np.array([145, 150, 140, 135, 155, 160, 152, 148, 130, 138])\n",
        "\n",
        "after_drug = np.array([130, 140, 132, 128, 145, 148, 138, 136, 125, 130])\n",
        "\n",
        "  ```\n",
        "\n",
        "\n",
        "Implement z-test to find if the drug really works or not."
      ],
      "metadata": {
        "id": "Tuuc-soRA6Cl"
      }
    },
    {
      "cell_type": "markdown",
      "source": [
        "## Solution:"
      ],
      "metadata": {
        "id": "xdtnSE-gBB9O"
      }
    },
    {
      "cell_type": "code",
      "source": [
        "import numpy as np\n",
        "import scipy.stats as stats\n",
        "\n",
        "# Sample data: before and after drug administration\n",
        "before_drug = np.array([145, 150, 140, 135, 155, 160, 152, 148, 130, 138])\n",
        "after_drug = np.array([130, 140, 132, 128, 145, 148, 138, 136, 125, 130])\n",
        "\n",
        "# Step 1: Calculate sample means\n",
        "mean_before = np.mean(before_drug)\n",
        "mean_after = np.mean(after_drug)\n",
        "\n",
        "# Step 2: Calculate sample standard deviations\n",
        "std_before = np.std(before_drug, ddof=1)  # sample standard deviation\n",
        "std_after = np.std(after_drug, ddof=1)\n",
        "\n",
        "# Step 3: Calculate sample sizes\n",
        "n = len(before_drug)\n",
        "\n",
        "# Step 4: Calculate the standard error of the difference in means\n",
        "SE = np.sqrt((std_before**2 / n) + (std_after**2 / n))\n",
        "\n",
        "# Step 5: Calculate the z-statistic\n",
        "z = (mean_before - mean_after) / SE\n",
        "\n",
        "# Step 6: Calculate the p-value for the z-statistic (one-tailed test)\n",
        "p_value = 1 - stats.norm.cdf(z)\n",
        "\n",
        "# Output the results\n",
        "print(f\"Mean before drug: {mean_before:.2f}\")\n",
        "print(f\"Mean after drug: {mean_after:.2f}\")\n",
        "print(f\"z-statistic: {z:.4f}\")\n",
        "print(f\"p-value: {p_value:.4f}\")\n",
        "\n",
        "# Step 7: Decision based on p-value (one-tailed test at alpha = 0.05)\n",
        "if p_value < 0.05:\n",
        "    print(\"Reject the null hypothesis. The drug significantly reduces blood pressure.\")\n",
        "else:\n",
        "    print(\"Fail to reject the null hypothesis. No significant reduction in blood pressure.\")"
      ],
      "metadata": {
        "colab": {
          "base_uri": "https://localhost:8080/"
        },
        "id": "w_2Bl4-zA4fU",
        "outputId": "1b81c94d-493e-4ab2-c846-1d2e7391c046"
      },
      "execution_count": 29,
      "outputs": [
        {
          "output_type": "stream",
          "name": "stdout",
          "text": [
            "Mean before drug: 145.30\n",
            "Mean after drug: 135.20\n",
            "z-statistic: 2.6396\n",
            "p-value: 0.0042\n",
            "Reject the null hypothesis. The drug significantly reduces blood pressure.\n"
          ]
        }
      ]
    },
    {
      "cell_type": "markdown",
      "source": [
        "\n",
        "\n",
        "---\n",
        "\n"
      ],
      "metadata": {
        "id": "5Ypo86zzBI0F"
      }
    },
    {
      "cell_type": "markdown",
      "source": [
        "Question 14: A customer service department claims that their average response time is less than 5 minutes. A sample\n",
        "of recent customer interactions was taken, and the response times were recorded.\n",
        "\n",
        "\n",
        "Implement the below code to generate the array of response time:\n",
        "\n",
        "```python\n",
        "\n",
        "response_times = np.array([4.3, 3.8, 5.1, 4.9, 4.7, 4.2, 5.2, 4.5, 4.6, 4.4])\n",
        "\n",
        "```\n",
        "\n",
        "Implement z-test to find the claims made by customer service department are tru or false."
      ],
      "metadata": {
        "id": "sFvACEbYBJnz"
      }
    },
    {
      "cell_type": "markdown",
      "source": [
        "## Solution:"
      ],
      "metadata": {
        "id": "p8TbfBrqBPA9"
      }
    },
    {
      "cell_type": "code",
      "source": [
        "import numpy as np\n",
        "import scipy.stats as stats\n",
        "\n",
        "# Sample data: response times\n",
        "response_times = np.array([4.3, 3.8, 5.1, 4.9, 4.7, 4.2, 5.2, 4.5, 4.6, 4.4])\n",
        "\n",
        "# Step 1: Calculate sample mean\n",
        "mean_response = np.mean(response_times)\n",
        "\n",
        "# Step 2: Calculate sample standard deviation\n",
        "std_response = np.std(response_times, ddof=1)\n",
        "\n",
        "# Step 3: Calculate sample size\n",
        "n = len(response_times)\n",
        "\n",
        "# Step 4: Calculate standard error (SE)\n",
        "SE = std_response / np.sqrt(n)\n",
        "\n",
        "# Step 5: Calculate the z-statistic\n",
        "z = (mean_response - 5) / SE  # Hypothesized population mean is 5 minutes\n",
        "\n",
        "# Step 6: Calculate the p-value (one-tailed test)\n",
        "p_value = stats.norm.cdf(z)\n",
        "\n",
        "# Output the results\n",
        "print(f\"Sample mean: {mean_response:.2f}\")\n",
        "print(f\"z-statistic: {z:.4f}\")\n",
        "print(f\"p-value: {p_value:.4f}\")\n",
        "\n",
        "# Step 7: Decision based on p-value (one-tailed test at alpha = 0.05)\n",
        "if p_value < 0.05:\n",
        "    print(\"Reject the null hypothesis. The average response time is less than 5 minutes.\")\n",
        "else:\n",
        "    print(\"Fail to reject the null hypothesis. The average response time is not significantly less than 5 minutes.\")"
      ],
      "metadata": {
        "colab": {
          "base_uri": "https://localhost:8080/"
        },
        "id": "i43c3YpxBIBV",
        "outputId": "10768a0e-a66b-415d-8006-d8d7a25ec048"
      },
      "execution_count": 30,
      "outputs": [
        {
          "output_type": "stream",
          "name": "stdout",
          "text": [
            "Sample mean: 4.57\n",
            "z-statistic: -3.1845\n",
            "p-value: 0.0007\n",
            "Reject the null hypothesis. The average response time is less than 5 minutes.\n"
          ]
        }
      ]
    },
    {
      "cell_type": "markdown",
      "source": [
        "\n",
        "\n",
        "---\n",
        "\n"
      ],
      "metadata": {
        "id": "KclakFjjBYR0"
      }
    },
    {
      "cell_type": "markdown",
      "source": [
        "Question 15: A company is testing two different website layouts to see which one leads to higher click-through rates.\n",
        "Write a Python function to perform an A/B test analysis, including calculating the t-statistic, degrees of\n",
        "freedom, and p-value.\n",
        "\n",
        "\n",
        "Use the following data:\n",
        "\n",
        "```python\n",
        "\n",
        "layout_a_clicks = [28, 32, 33, 29, 31, 34, 30, 35, 36, 37]\n",
        "\n",
        "layout_b_clicks = [40, 41, 38, 42, 39, 44, 43, 41, 45, 47]"
      ],
      "metadata": {
        "id": "wArzBn51BZYe"
      }
    },
    {
      "cell_type": "markdown",
      "source": [
        "## Solution:"
      ],
      "metadata": {
        "id": "PBcuHeWKBhU-"
      }
    },
    {
      "cell_type": "code",
      "source": [
        "import numpy as np\n",
        "from scipy import stats\n",
        "\n",
        "def perform_ab_test(layout_a_clicks, layout_b_clicks):\n",
        "    # Step 1: Calculate sample means and standard deviations\n",
        "    mean_a = np.mean(layout_a_clicks)\n",
        "    mean_b = np.mean(layout_b_clicks)\n",
        "\n",
        "    std_a = np.std(layout_a_clicks, ddof=1)\n",
        "    std_b = np.std(layout_b_clicks, ddof=1)\n",
        "\n",
        "    n_a = len(layout_a_clicks)\n",
        "    n_b = len(layout_b_clicks)\n",
        "\n",
        "    # Step 2: Calculate the standard error of the difference between the means\n",
        "    SE = np.sqrt((std_a**2 / n_a) + (std_b**2 / n_b))\n",
        "\n",
        "    # Step 3: Calculate the t-statistic\n",
        "    t_stat = (mean_a - mean_b) / SE\n",
        "\n",
        "    # Step 4: Calculate degrees of freedom (df)\n",
        "    df = ((std_a**2 / n_a + std_b**2 / n_b)**2) / (((std_a**2 / n_a)**2) / (n_a - 1) + ((std_b**2 / n_b)**2) / (n_b - 1))\n",
        "\n",
        "    # Step 5: Calculate the p-value\n",
        "    p_value = stats.t.cdf(t_stat, df)\n",
        "\n",
        "    # Output the results\n",
        "    print(f\"Mean of Layout A: {mean_a:.2f}\")\n",
        "    print(f\"Mean of Layout B: {mean_b:.2f}\")\n",
        "    print(f\"t-statistic: {t_stat:.4f}\")\n",
        "    print(f\"Degrees of Freedom: {df:.2f}\")\n",
        "    print(f\"p-value: {p_value:.4f}\")\n",
        "\n",
        "    # Step 6: Decision based on p-value (two-tailed test)\n",
        "    if p_value < 0.05:\n",
        "        print(\"Reject the null hypothesis. The click-through rates for the two layouts are significantly different.\")\n",
        "    else:\n",
        "        print(\"Fail to reject the null hypothesis. There is no significant difference in the click-through rates.\")\n",
        "\n",
        "# Sample data: click-through rates for layout A and layout B\n",
        "layout_a_clicks = [28, 32, 33, 29, 31, 34, 30, 35, 36, 37]\n",
        "layout_b_clicks = [40, 41, 38, 42, 39, 44, 43, 41, 45, 47]\n",
        "\n",
        "# Perform A/B test\n",
        "perform_ab_test(layout_a_clicks, layout_b_clicks)"
      ],
      "metadata": {
        "colab": {
          "base_uri": "https://localhost:8080/"
        },
        "id": "kiUdjoxMBXe9",
        "outputId": "1f681992-2649-42b2-ab0e-b0439a132926"
      },
      "execution_count": 31,
      "outputs": [
        {
          "output_type": "stream",
          "name": "stdout",
          "text": [
            "Mean of Layout A: 32.50\n",
            "Mean of Layout B: 42.00\n",
            "t-statistic: -7.2981\n",
            "Degrees of Freedom: 17.88\n",
            "p-value: 0.0000\n",
            "Reject the null hypothesis. The click-through rates for the two layouts are significantly different.\n"
          ]
        }
      ]
    },
    {
      "cell_type": "markdown",
      "source": [
        "\n",
        "\n",
        "---\n",
        "\n"
      ],
      "metadata": {
        "id": "p02vrkFhBpz2"
      }
    },
    {
      "cell_type": "markdown",
      "source": [
        "Question 16: A pharmaceutical company wants to determine if a new drug is more effective than an existing drug in\n",
        "reducing cholesterol levels. Create a program to analyze the clinical trial data and calculate the tstatistic and p-value for the treatment effect.\n",
        "\n",
        "\n",
        "Use the following data of cholestrol level:\n",
        "\n",
        "```python\n",
        "\n",
        "existing_drug_levels = [180, 182, 175, 185, 178, 176, 172, 184, 179, 183]\n",
        "\n",
        "new_drug_levels = [170, 172, 165, 168, 175, 173, 170, 178, 172, 176]"
      ],
      "metadata": {
        "id": "VlqPhseXBrey"
      }
    },
    {
      "cell_type": "markdown",
      "source": [
        "## Solution:"
      ],
      "metadata": {
        "id": "WP08zTnWBwHl"
      }
    },
    {
      "cell_type": "code",
      "source": [
        "import numpy as np\n",
        "from scipy import stats\n",
        "\n",
        "def analyze_treatment_effect(existing_drug_levels, new_drug_levels):\n",
        "    # Step 1: Calculate sample means and standard deviations\n",
        "    mean_existing = np.mean(existing_drug_levels)\n",
        "    mean_new = np.mean(new_drug_levels)\n",
        "\n",
        "    std_existing = np.std(existing_drug_levels, ddof=1)\n",
        "    std_new = np.std(new_drug_levels, ddof=1)\n",
        "\n",
        "    n_existing = len(existing_drug_levels)\n",
        "    n_new = len(new_drug_levels)\n",
        "\n",
        "    # Step 2: Calculate the standard error of the difference between the means\n",
        "    SE = np.sqrt((std_existing**2 / n_existing) + (std_new**2 / n_new))\n",
        "\n",
        "    # Step 3: Calculate the t-statistic\n",
        "    t_stat = (mean_existing - mean_new) / SE\n",
        "\n",
        "    # Step 4: Calculate degrees of freedom (df)\n",
        "    df = ((std_existing**2 / n_existing + std_new**2 / n_new)**2) / (((std_existing**2 / n_existing)**2) / (n_existing - 1) + ((std_new**2 / n_new)**2) / (n_new - 1))\n",
        "\n",
        "    # Step 5: Calculate the p-value (one-tailed test)\n",
        "    p_value = stats.t.cdf(t_stat, df)\n",
        "\n",
        "    # Output the results\n",
        "    print(f\"Mean cholesterol level (Existing Drug): {mean_existing:.2f}\")\n",
        "    print(f\"Mean cholesterol level (New Drug): {mean_new:.2f}\")\n",
        "    print(f\"t-statistic: {t_stat:.4f}\")\n",
        "    print(f\"Degrees of Freedom: {df:.2f}\")\n",
        "    print(f\"p-value: {p_value:.4f}\")\n",
        "\n",
        "    # Step 6: Decision based on p-value (one-tailed test at alpha = 0.05)\n",
        "    if p_value < 0.05:\n",
        "        print(\"Reject the null hypothesis. The new drug is more effective than the existing drug.\")\n",
        "    else:\n",
        "        print(\"Fail to reject the null hypothesis. The new drug is not more effective than the existing drug.\")\n",
        "\n",
        "# Sample data: cholesterol levels before and after using the drugs\n",
        "existing_drug_levels = [180, 182, 175, 185, 178, 176, 172, 184, 179, 183]\n",
        "new_drug_levels = [170, 172, 165, 168, 175, 173, 170, 178, 172, 176]\n",
        "\n",
        "# Analyze the treatment effect\n",
        "analyze_treatment_effect(existing_drug_levels, new_drug_levels)"
      ],
      "metadata": {
        "colab": {
          "base_uri": "https://localhost:8080/"
        },
        "id": "dGPHNkktBpPE",
        "outputId": "9b0361c9-e3d3-4770-ab55-c97596ea40a4"
      },
      "execution_count": 32,
      "outputs": [
        {
          "output_type": "stream",
          "name": "stdout",
          "text": [
            "Mean cholesterol level (Existing Drug): 179.40\n",
            "Mean cholesterol level (New Drug): 171.90\n",
            "t-statistic: 4.1405\n",
            "Degrees of Freedom: 17.87\n",
            "p-value: 0.9997\n",
            "Fail to reject the null hypothesis. The new drug is not more effective than the existing drug.\n"
          ]
        }
      ]
    },
    {
      "cell_type": "markdown",
      "source": [
        "\n",
        "\n",
        "---\n",
        "\n"
      ],
      "metadata": {
        "id": "6cywOOpxB5Il"
      }
    },
    {
      "cell_type": "markdown",
      "source": [
        "Question 17: A school district introduces an educational intervention program to improve math scores. Write a Python\n",
        "function to analyze pre- and post-intervention test scores, calculating the t-statistic and p-value to\n",
        "determine if the intervention had a significant impact.\n",
        "\n",
        "\n",
        "Use the following data of test score:\n",
        "\n",
        "\n",
        "  ```python\n",
        "\n",
        "  pre_intervention_scores = [80, 85, 90, 75, 88, 82, 92, 78, 85, 87]\n",
        "\n",
        "  post_intervention_scores = [90, 92, 88, 92, 95, 91, 96, 93, 89, 93]"
      ],
      "metadata": {
        "id": "ZDvkjlOaB6BG"
      }
    },
    {
      "cell_type": "markdown",
      "source": [
        "## Solution:"
      ],
      "metadata": {
        "id": "bMYtwSqGCE3l"
      }
    },
    {
      "cell_type": "code",
      "source": [
        "import numpy as np\n",
        "from scipy import stats\n",
        "\n",
        "def analyze_intervention_effect(pre_scores, post_scores):\n",
        "    # Step 1: Calculate the differences between post and pre-intervention scores\n",
        "    differences = np.array(post_scores) - np.array(pre_scores)\n",
        "\n",
        "    # Step 2: Calculate the mean and standard deviation of the differences\n",
        "    mean_diff = np.mean(differences)\n",
        "    std_diff = np.std(differences, ddof=1)\n",
        "\n",
        "    # Number of paired scores\n",
        "    n = len(differences)\n",
        "\n",
        "    # Step 3: Calculate the t-statistic\n",
        "    t_stat = mean_diff / (std_diff / np.sqrt(n))\n",
        "\n",
        "    # Step 4: Calculate the degrees of freedom (n - 1)\n",
        "    df = n - 1\n",
        "\n",
        "    # Step 5: Calculate the p-value (two-tailed test)\n",
        "    p_value = stats.t.cdf(t_stat, df)\n",
        "\n",
        "    # Output the results\n",
        "    print(f\"Mean difference: {mean_diff:.2f}\")\n",
        "    print(f\"Standard deviation of differences: {std_diff:.2f}\")\n",
        "    print(f\"t-statistic: {t_stat:.4f}\")\n",
        "    print(f\"Degrees of Freedom: {df}\")\n",
        "    print(f\"p-value: {p_value:.4f}\")\n",
        "\n",
        "    # Step 6: Decision based on p-value (two-tailed test at alpha = 0.05)\n",
        "    if p_value < 0.05:\n",
        "        print(\"Reject the null hypothesis. The intervention had a significant effect on math scores.\")\n",
        "    else:\n",
        "        print(\"Fail to reject the null hypothesis. The intervention did not have a significant effect.\")\n",
        "\n",
        "# Sample data: pre-intervention and post-intervention test scores\n",
        "pre_intervention_scores = [80, 85, 90, 75, 88, 82, 92, 78, 85, 87]\n",
        "post_intervention_scores = [90, 92, 88, 92, 95, 91, 96, 93, 89, 93]\n",
        "\n",
        "# Analyze the effect of the intervention\n",
        "analyze_intervention_effect(pre_intervention_scores, post_intervention_scores)"
      ],
      "metadata": {
        "colab": {
          "base_uri": "https://localhost:8080/"
        },
        "id": "1GjZzJhqB4ZM",
        "outputId": "847cea70-39c9-4c30-c70b-6a61accba0f7"
      },
      "execution_count": 33,
      "outputs": [
        {
          "output_type": "stream",
          "name": "stdout",
          "text": [
            "Mean difference: 7.70\n",
            "Standard deviation of differences: 5.50\n",
            "t-statistic: 4.4284\n",
            "Degrees of Freedom: 9\n",
            "p-value: 0.9992\n",
            "Fail to reject the null hypothesis. The intervention did not have a significant effect.\n"
          ]
        }
      ]
    },
    {
      "cell_type": "markdown",
      "source": [
        "\n",
        "\n",
        "---\n",
        "\n"
      ],
      "metadata": {
        "id": "5vABamT7CHC0"
      }
    },
    {
      "cell_type": "markdown",
      "source": [
        "Question 18: An HR department wants to investigate if there's a gender-based salary gap within the company. Develop\n",
        "a program to analyze salary data, calculate the t-statistic, and determine if there's a statistically\n",
        "significant difference between the average salaries of male and female employees.\n",
        "\n",
        "\n",
        "Use the below code to generate synthetic data:\n",
        "\n",
        "\n",
        "```python\n",
        "\n",
        "Generate synthetic salary data for male and female employees\n",
        "\n",
        "np.random.seed(0)  # For reproducibility\n",
        "\n",
        "male_salaries = np.random.normal(loc=50000, scale=10000, size=20)\n",
        "\n",
        "female_salaries = np.random.normal(loc=55000, scale=9000, size=20)"
      ],
      "metadata": {
        "id": "2aHm42-7CHxs"
      }
    },
    {
      "cell_type": "markdown",
      "source": [
        "## Solution:"
      ],
      "metadata": {
        "id": "xsZ_2yX3CQq8"
      }
    },
    {
      "cell_type": "code",
      "source": [
        "import numpy as np\n",
        "from scipy import stats\n",
        "\n",
        "# Generate synthetic salary data for male and female employees\n",
        "np.random.seed(0)  # For reproducibility\n",
        "\n",
        "male_salaries = np.random.normal(loc=50000, scale=10000, size=20)\n",
        "female_salaries = np.random.normal(loc=55000, scale=9000, size=20)\n",
        "\n",
        "def analyze_salary_gap(male_salaries, female_salaries):\n",
        "    # Step 1: Calculate the sample means and standard deviations\n",
        "    mean_male = np.mean(male_salaries)\n",
        "    mean_female = np.mean(female_salaries)\n",
        "    std_male = np.std(male_salaries, ddof=1)  # Sample standard deviation\n",
        "    std_female = np.std(female_salaries, ddof=1)\n",
        "\n",
        "    # Number of samples\n",
        "    n_male = len(male_salaries)\n",
        "    n_female = len(female_salaries)\n",
        "\n",
        "    # Step 2: Calculate the t-statistic\n",
        "    t_stat = (mean_male - mean_female) / np.sqrt((std_male**2 / n_male) + (std_female**2 / n_female))\n",
        "\n",
        "    # Step 3: Calculate degrees of freedom using Welch-Satterthwaite equation\n",
        "    numerator = ((std_male**2 / n_male) + (std_female**2 / n_female))**2\n",
        "    denominator = ((std_male**2 / n_male)**2 / (n_male - 1)) + ((std_female**2 / n_female)**2 / (n_female - 1))\n",
        "    df = numerator / denominator\n",
        "\n",
        "    # Step 4: Calculate the p-value (two-tailed test)\n",
        "    p_value = 2 * (1 - stats.t.cdf(abs(t_stat), df))\n",
        "\n",
        "    # Output the results\n",
        "    print(f\"Mean male salary: {mean_male:.2f}\")\n",
        "    print(f\"Mean female salary: {mean_female:.2f}\")\n",
        "    print(f\"t-statistic: {t_stat:.4f}\")\n",
        "    print(f\"Degrees of Freedom: {df:.2f}\")\n",
        "    print(f\"p-value: {p_value:.4f}\")\n",
        "\n",
        "    # Step 5: Decision based on p-value (two-tailed test at alpha = 0.05)\n",
        "    if p_value < 0.05:\n",
        "        print(\"Reject the null hypothesis. There is a significant salary gap between male and female employees.\")\n",
        "    else:\n",
        "        print(\"Fail to reject the null hypothesis. There is no significant salary gap between male and female employees.\")\n",
        "\n",
        "# Analyze the gender-based salary gap\n",
        "analyze_salary_gap(male_salaries, female_salaries)"
      ],
      "metadata": {
        "colab": {
          "base_uri": "https://localhost:8080/"
        },
        "id": "W4-Vb7jpCELV",
        "outputId": "a543fe0b-b8ac-4e99-8ca7-c4e2e447c68f"
      },
      "execution_count": 34,
      "outputs": [
        {
          "output_type": "stream",
          "name": "stdout",
          "text": [
            "Mean male salary: 55693.35\n",
            "Mean female salary: 55501.75\n",
            "t-statistic: 0.0611\n",
            "Degrees of Freedom: 36.17\n",
            "p-value: 0.9516\n",
            "Fail to reject the null hypothesis. There is no significant salary gap between male and female employees.\n"
          ]
        }
      ]
    },
    {
      "cell_type": "markdown",
      "source": [
        "\n",
        "\n",
        "---\n",
        "\n"
      ],
      "metadata": {
        "id": "ZiTdU6gNCdQY"
      }
    },
    {
      "cell_type": "markdown",
      "source": [
        "Question 19:  A manufacturer produces two different versions of a product and wants to compare their quality scores.\n",
        "Create a Python function to analyze quality assessment data, calculate the t-statistic, and decide\n",
        "whether there's a significant difference in quality between the two versions.\n",
        "\n",
        "\n",
        "Use the following data:\n",
        "\n",
        "\n",
        "```python\n",
        "\n",
        "version1_scores = [85, 88, 82, 89, 87, 84, 90, 88, 85, 86, 91, 83, 87, 84, 89, 86, 84, 88, 85, 86, 89, 90, 87, 88, 85]\n",
        "\n",
        "version2_scores = [80, 78, 83, 81, 79, 82, 76, 80, 78, 81, 77, 82, 80, 79, 82, 79, 80, 81, 79, 82, 79, 78, 80, 81, 82]"
      ],
      "metadata": {
        "id": "el5mK8X9CeVZ"
      }
    },
    {
      "cell_type": "markdown",
      "source": [
        "## Solution:"
      ],
      "metadata": {
        "id": "9iag5w07Cm0V"
      }
    },
    {
      "cell_type": "code",
      "source": [
        "import numpy as np\n",
        "from scipy import stats\n",
        "\n",
        "# Sample data for quality scores of two versions\n",
        "version1_scores = [85, 88, 82, 89, 87, 84, 90, 88, 85, 86, 91, 83, 87, 84, 89, 86, 84, 88, 85, 86, 89, 90, 87, 88, 85]\n",
        "version2_scores = [80, 78, 83, 81, 79, 82, 76, 80, 78, 81, 77, 82, 80, 79, 82, 79, 80, 81, 79, 82, 79, 78, 80, 81, 82]\n",
        "\n",
        "def analyze_quality_scores(version1_scores, version2_scores):\n",
        "    # Step 1: Calculate the sample means and standard deviations\n",
        "    mean_version1 = np.mean(version1_scores)\n",
        "    mean_version2 = np.mean(version2_scores)\n",
        "    std_version1 = np.std(version1_scores, ddof=1)  # Sample standard deviation\n",
        "    std_version2 = np.std(version2_scores, ddof=1)\n",
        "\n",
        "    # Number of samples\n",
        "    n_version1 = len(version1_scores)\n",
        "    n_version2 = len(version2_scores)\n",
        "\n",
        "    # Step 2: Calculate the t-statistic\n",
        "    t_stat = (mean_version1 - mean_version2) / np.sqrt((std_version1**2 / n_version1) + (std_version2**2 / n_version2))\n",
        "\n",
        "    # Step 3: Calculate degrees of freedom using Welch-Satterthwaite equation\n",
        "    numerator = ((std_version1**2 / n_version1) + (std_version2**2 / n_version2))**2\n",
        "    denominator = ((std_version1**2 / n_version1)**2 / (n_version1 - 1)) + ((std_version2**2 / n_version2)**2 / (n_version2 - 1))\n",
        "    df = numerator / denominator\n",
        "\n",
        "    # Step 4: Calculate the p-value (two-tailed test)\n",
        "    p_value = 2 * (1 - stats.t.cdf(abs(t_stat), df))\n",
        "\n",
        "    # Output the results\n",
        "    print(f\"Mean version 1 score: {mean_version1:.2f}\")\n",
        "    print(f\"Mean version 2 score: {mean_version2:.2f}\")\n",
        "    print(f\"t-statistic: {t_stat:.4f}\")\n",
        "    print(f\"Degrees of Freedom: {df:.2f}\")\n",
        "    print(f\"p-value: {p_value:.4f}\")\n",
        "\n",
        "    # Step 5: Decision based on p-value (two-tailed test at alpha = 0.05)\n",
        "    if p_value < 0.05:\n",
        "        print(\"Reject the null hypothesis. There is a significant difference in quality between the two versions.\")\n",
        "    else:\n",
        "        print(\"Fail to reject the null hypothesis. There is no significant difference in quality between the two versions.\")\n",
        "\n",
        "# Analyze the quality scores for both versions\n",
        "analyze_quality_scores(version1_scores, version2_scores)"
      ],
      "metadata": {
        "colab": {
          "base_uri": "https://localhost:8080/"
        },
        "id": "sQYlyTMmCcp0",
        "outputId": "bcd6e290-5016-433d-b13e-e2494df35679"
      },
      "execution_count": 35,
      "outputs": [
        {
          "output_type": "stream",
          "name": "stdout",
          "text": [
            "Mean version 1 score: 86.64\n",
            "Mean version 2 score: 79.96\n",
            "t-statistic: 11.3258\n",
            "Degrees of Freedom: 44.47\n",
            "p-value: 0.0000\n",
            "Reject the null hypothesis. There is a significant difference in quality between the two versions.\n"
          ]
        }
      ]
    },
    {
      "cell_type": "markdown",
      "source": [
        "\n",
        "\n",
        "---\n",
        "\n"
      ],
      "metadata": {
        "id": "G9dzgQepCz5V"
      }
    },
    {
      "cell_type": "markdown",
      "source": [
        "Question 20: A restaurant chain collects customer satisfaction scores for two different branches. Write a program to\n",
        "analyze the scores, calculate the t-statistic, and determine if there's a statistically significant difference in\n",
        "customer satisfaction between the branches.\n",
        "\n",
        "\n",
        "Use the below data of scores:\n",
        "\n",
        "  ```python\n",
        "\n",
        "branch_a_scores = [4, 5, 3, 4, 5, 4, 5, 3, 4, 4, 5, 4, 4, 3, 4, 5, 5, 4, 3, 4, 5, 4, 3, 5, 4, 4, 5, 3, 4, 5, 4]\n",
        "\n",
        "branch_b_scores = [3, 4, 2, 3, 4, 3, 4, 2, 3, 3, 4, 3, 3, 2, 3, 4, 4, 3, 2, 3, 4, 3, 2, 4, 3, 3, 4, 2, 3, 4, 3]"
      ],
      "metadata": {
        "id": "mRXaDxHhC0zJ"
      }
    },
    {
      "cell_type": "markdown",
      "source": [
        "## Solution:"
      ],
      "metadata": {
        "id": "x4plDJSeC7mH"
      }
    },
    {
      "cell_type": "code",
      "source": [
        "import numpy as np\n",
        "from scipy import stats\n",
        "\n",
        "# Sample data for customer satisfaction scores of two branches\n",
        "branch_a_scores = [4, 5, 3, 4, 5, 4, 5, 3, 4, 4, 5, 4, 4, 3, 4, 5, 5, 4, 3, 4, 5, 4, 3, 5, 4, 4, 5, 3, 4, 5, 4]\n",
        "branch_b_scores = [3, 4, 2, 3, 4, 3, 4, 2, 3, 3, 4, 3, 3, 2, 3, 4, 4, 3, 2, 3, 4, 3, 2, 4, 3, 3, 4, 2, 3, 4, 3]\n",
        "\n",
        "def analyze_satisfaction_scores(branch_a_scores, branch_b_scores):\n",
        "    # Step 1: Calculate the sample means and standard deviations\n",
        "    mean_a = np.mean(branch_a_scores)\n",
        "    mean_b = np.mean(branch_b_scores)\n",
        "    std_a = np.std(branch_a_scores, ddof=1)  # Sample standard deviation\n",
        "    std_b = np.std(branch_b_scores, ddof=1)\n",
        "\n",
        "    # Number of samples\n",
        "    n_a = len(branch_a_scores)\n",
        "    n_b = len(branch_b_scores)\n",
        "\n",
        "    # Step 2: Calculate the t-statistic\n",
        "    t_stat = (mean_a - mean_b) / np.sqrt((std_a**2 / n_a) + (std_b**2 / n_b))\n",
        "\n",
        "    # Step 3: Calculate degrees of freedom using Welch-Satterthwaite equation\n",
        "    numerator = ((std_a**2 / n_a) + (std_b**2 / n_b))**2\n",
        "    denominator = ((std_a**2 / n_a)**2 / (n_a - 1)) + ((std_b**2 / n_b)**2 / (n_b - 1))\n",
        "    df = numerator / denominator\n",
        "\n",
        "    # Step 4: Calculate the p-value (two-tailed test)\n",
        "    p_value = 2 * (1 - stats.t.cdf(abs(t_stat), df))\n",
        "\n",
        "    # Output the results\n",
        "    print(f\"Mean Branch A score: {mean_a:.2f}\")\n",
        "    print(f\"Mean Branch B score: {mean_b:.2f}\")\n",
        "    print(f\"t-statistic: {t_stat:.4f}\")\n",
        "    print(f\"Degrees of Freedom: {df:.2f}\")\n",
        "    print(f\"p-value: {p_value:.4f}\")\n",
        "\n",
        "    # Step 5: Decision based on p-value (two-tailed test at alpha = 0.05)\n",
        "    if p_value < 0.05:\n",
        "        print(\"Reject the null hypothesis. There is a significant difference in customer satisfaction between the branches.\")\n",
        "    else:\n",
        "        print(\"Fail to reject the null hypothesis. There is no significant difference in customer satisfaction between the branches.\")\n",
        "\n",
        "# Analyze the satisfaction scores for both branches\n",
        "analyze_satisfaction_scores(branch_a_scores, branch_b_scores)"
      ],
      "metadata": {
        "colab": {
          "base_uri": "https://localhost:8080/"
        },
        "id": "O4AYnAigCzP8",
        "outputId": "bddf3c5e-ecdf-457b-b69e-5d1dec2fa1eb"
      },
      "execution_count": 36,
      "outputs": [
        {
          "output_type": "stream",
          "name": "stdout",
          "text": [
            "Mean Branch A score: 4.13\n",
            "Mean Branch B score: 3.13\n",
            "t-statistic: 5.4801\n",
            "Degrees of Freedom: 60.00\n",
            "p-value: 0.0000\n",
            "Reject the null hypothesis. There is a significant difference in customer satisfaction between the branches.\n"
          ]
        }
      ]
    },
    {
      "cell_type": "markdown",
      "source": [
        "\n",
        "\n",
        "---\n",
        "\n",
        "\n",
        "\n"
      ],
      "metadata": {
        "id": "aJlgVBlEDC01"
      }
    },
    {
      "cell_type": "markdown",
      "source": [
        "Question 21: A political analyst wants to determine if there is a significant association between age groups and voter\n",
        "preferences (Candidate A or Candidate B). They collect data from a sample of 500 voters and classify\n",
        "them into different age groups and candidate preferences. Perform a Chi-Square test to determine if\n",
        "there is a significant association between age groups and voter preferences.\n",
        "\n",
        "\n",
        "Use the below code to generate data:\n",
        "\n",
        "```python\n",
        "\n",
        "np.random.seed(0)\n",
        "\n",
        "age_groups = np.random.choice([ 18 30 , 31 50 , 51+', 51+'], size=30)\n",
        "\n",
        "voter_preferences = np.random.choice(['Candidate A', 'Candidate B'], size=30)"
      ],
      "metadata": {
        "id": "CHEfL-7yDFhQ"
      }
    },
    {
      "cell_type": "markdown",
      "source": [
        "## Solution:"
      ],
      "metadata": {
        "id": "Ini9xl5lDLt0"
      }
    },
    {
      "cell_type": "code",
      "source": [
        "import numpy as np\n",
        "import pandas as pd\n",
        "from scipy.stats import chi2_contingency\n",
        "\n",
        "# Generate synthetic data\n",
        "np.random.seed(0)\n",
        "\n",
        "# Define age groups and voter preferences\n",
        "age_groups = np.random.choice(['18-30', '31-50', '51+'], size=30)\n",
        "voter_preferences = np.random.choice(['Candidate A', 'Candidate B'], size=30)\n",
        "\n",
        "# Create a DataFrame to organize the data\n",
        "data = pd.DataFrame({'Age Group': age_groups, 'Voter Preference': voter_preferences})\n",
        "\n",
        "# Step 1: Create a contingency table\n",
        "contingency_table = pd.crosstab(data['Age Group'], data['Voter Preference'])\n",
        "\n",
        "# Step 2: Perform Chi-Square test for independence\n",
        "chi2_stat, p_value, dof, expected = chi2_contingency(contingency_table)\n",
        "\n",
        "# Step 3: Output results\n",
        "print(\"Contingency Table:\")\n",
        "print(contingency_table)\n",
        "print(\"\\nChi-Square Statistic:\", chi2_stat)\n",
        "print(\"Degrees of Freedom:\", dof)\n",
        "print(\"Expected Frequencies:\")\n",
        "print(expected)\n",
        "print(\"p-value:\", p_value)\n",
        "\n",
        "# Step 4: Decision based on p-value (two-tailed test at alpha = 0.05)\n",
        "if p_value < 0.05:\n",
        "    print(\"\\nReject the null hypothesis. There is a significant association between age groups and voter preferences.\")\n",
        "else:\n",
        "    print(\"\\nFail to reject the null hypothesis. There is no significant association between age groups and voter preferences.\")"
      ],
      "metadata": {
        "colab": {
          "base_uri": "https://localhost:8080/"
        },
        "id": "og5qHIW5DCD0",
        "outputId": "e158e33f-8293-47f0-8c2f-312abe03e463"
      },
      "execution_count": 37,
      "outputs": [
        {
          "output_type": "stream",
          "name": "stdout",
          "text": [
            "Contingency Table:\n",
            "Voter Preference  Candidate A  Candidate B\n",
            "Age Group                                 \n",
            "18-30                       4            8\n",
            "31-50                       6            5\n",
            "51+                         4            3\n",
            "\n",
            "Chi-Square Statistic: 1.4401669758812612\n",
            "Degrees of Freedom: 2\n",
            "Expected Frequencies:\n",
            "[[5.6        6.4       ]\n",
            " [5.13333333 5.86666667]\n",
            " [3.26666667 3.73333333]]\n",
            "p-value: 0.48671161971286614\n",
            "\n",
            "Fail to reject the null hypothesis. There is no significant association between age groups and voter preferences.\n"
          ]
        }
      ]
    },
    {
      "cell_type": "markdown",
      "source": [
        "\n",
        "\n",
        "---\n",
        "\n"
      ],
      "metadata": {
        "id": "w3RJ5hV5DW_v"
      }
    },
    {
      "cell_type": "markdown",
      "source": [
        "Question 22: A company conducted a customer satisfaction survey to determine if there is a significant relationship\n",
        "between product satisfaction levels (Satisfied, Neutral, Dissatisfied) and the region where customers are\n",
        "located (East, West, North, South). The survey data is summarized in a contingency table. Conduct a ChiSquare test to determine if there is a significant relationship between product satisfaction levels and\n",
        "customer regions.\n",
        "\n",
        "Sample data:\n",
        "\n",
        "\n",
        "python\n",
        "\n",
        "### Sample data: Product satisfaction levels (rows) vs. Customer regions (columns)\n",
        "\n",
        "data = np.array([[50, 30, 40, 20], [30, 40, 30, 50], [20, 30, 40, 30]])"
      ],
      "metadata": {
        "id": "bpRSktuXDX_J"
      }
    },
    {
      "cell_type": "markdown",
      "source": [
        "## Solution:"
      ],
      "metadata": {
        "id": "qJDp921EDktq"
      }
    },
    {
      "cell_type": "code",
      "source": [
        "import numpy as np\n",
        "from scipy.stats import chi2_contingency\n",
        "\n",
        "# Sample data: Product satisfaction levels (rows) vs. Customer regions (columns)\n",
        "data = np.array([[50, 30, 40, 20],   # Satisfied\n",
        "                 [30, 40, 30, 50],   # Neutral\n",
        "                 [20, 30, 40, 30]])  # Dissatisfied\n",
        "\n",
        "# Step 1: Perform Chi-Square test for independence\n",
        "chi2_stat, p_value, dof, expected = chi2_contingency(data)\n",
        "\n",
        "# Step 2: Output results\n",
        "print(\"Contingency Table:\")\n",
        "print(data)\n",
        "\n",
        "print(\"\\nChi-Square Statistic:\", chi2_stat)\n",
        "print(\"Degrees of Freedom:\", dof)\n",
        "print(\"Expected Frequencies:\")\n",
        "print(expected)\n",
        "print(\"p-value:\", p_value)\n",
        "\n",
        "# Step 3: Decision based on p-value (two-tailed test at alpha = 0.05)\n",
        "if p_value < 0.05:\n",
        "    print(\"\\nReject the null hypothesis. There is a significant relationship between product satisfaction levels and customer regions.\")\n",
        "else:\n",
        "    print(\"\\nFail to reject the null hypothesis. There is no significant relationship between product satisfaction levels and customer regions.\")"
      ],
      "metadata": {
        "colab": {
          "base_uri": "https://localhost:8080/"
        },
        "id": "dPGo59eiDWHs",
        "outputId": "181489bd-b312-4e20-a7bb-ed0b3e4914df"
      },
      "execution_count": 38,
      "outputs": [
        {
          "output_type": "stream",
          "name": "stdout",
          "text": [
            "Contingency Table:\n",
            "[[50 30 40 20]\n",
            " [30 40 30 50]\n",
            " [20 30 40 30]]\n",
            "\n",
            "Chi-Square Statistic: 27.777056277056275\n",
            "Degrees of Freedom: 6\n",
            "Expected Frequencies:\n",
            "[[34.14634146 34.14634146 37.56097561 34.14634146]\n",
            " [36.58536585 36.58536585 40.24390244 36.58536585]\n",
            " [29.26829268 29.26829268 32.19512195 29.26829268]]\n",
            "p-value: 0.00010349448486004387\n",
            "\n",
            "Reject the null hypothesis. There is a significant relationship between product satisfaction levels and customer regions.\n"
          ]
        }
      ]
    },
    {
      "cell_type": "markdown",
      "source": [
        "\n",
        "\n",
        "---\n",
        "\n"
      ],
      "metadata": {
        "id": "Z1fdUX4GDrzN"
      }
    },
    {
      "cell_type": "markdown",
      "source": [
        "Question 23: A company implemented an employee training program to improve job performance (Effective, Neutral,\n",
        "Ineffective). After the training, they collected data from a sample of employees and classified them based\n",
        "on their job performance before and after the training. Perform a Chi-Square test to determine if there is a\n",
        "significant difference between job performance levels before and after the training.\n",
        "\n",
        "\n",
        "Sample data:\n",
        "\n",
        "```python\n",
        "\n",
        "### Sample data: Job performance levels before (rows) and after (columns) training\n",
        "\n",
        "data = np.array([[50, 30, 20], [30, 40, 30], [20, 30, 40]])"
      ],
      "metadata": {
        "id": "RW3_T8FQDsoR"
      }
    },
    {
      "cell_type": "markdown",
      "source": [
        "## Solution:"
      ],
      "metadata": {
        "id": "XxFCm9lmEFUE"
      }
    },
    {
      "cell_type": "code",
      "source": [
        "import numpy as np\n",
        "from scipy.stats import chi2_contingency\n",
        "\n",
        "# Sample data: Job performance levels before (rows) and after (columns) training\n",
        "# Rows: Effective, Neutral, Ineffective (before training)\n",
        "# Columns: Effective, Neutral, Ineffective (after training)\n",
        "data = np.array([[50, 30, 20],   # Effective, Neutral, Ineffective (before)\n",
        "                 [30, 40, 30],   # Effective, Neutral, Ineffective (before)\n",
        "                 [20, 30, 40]])  # Effective, Neutral, Ineffective (before)\n",
        "\n",
        "# Step 1: Perform Chi-Square test for independence\n",
        "chi2_stat, p_value, dof, expected = chi2_contingency(data)\n",
        "\n",
        "# Step 2: Output results\n",
        "print(\"Contingency Table:\")\n",
        "print(data)\n",
        "\n",
        "print(\"\\nChi-Square Statistic:\", chi2_stat)\n",
        "print(\"Degrees of Freedom:\", dof)\n",
        "print(\"Expected Frequencies:\")\n",
        "print(expected)\n",
        "print(\"p-value:\", p_value)\n",
        "\n",
        "# Step 3: Decision based on p-value (two-tailed test at alpha = 0.05)\n",
        "if p_value < 0.05:\n",
        "    print(\"\\nReject the null hypothesis. There is a significant difference in job performance levels before and after the training.\")\n",
        "else:\n",
        "    print(\"\\nFail to reject the null hypothesis. There is no significant difference in job performance levels before and after the training.\")"
      ],
      "metadata": {
        "colab": {
          "base_uri": "https://localhost:8080/"
        },
        "id": "IM4Ov4NSDrOy",
        "outputId": "aff5e151-a9bd-4471-e976-d3be5910a682"
      },
      "execution_count": 39,
      "outputs": [
        {
          "output_type": "stream",
          "name": "stdout",
          "text": [
            "Contingency Table:\n",
            "[[50 30 20]\n",
            " [30 40 30]\n",
            " [20 30 40]]\n",
            "\n",
            "Chi-Square Statistic: 22.161728395061726\n",
            "Degrees of Freedom: 4\n",
            "Expected Frequencies:\n",
            "[[34.48275862 34.48275862 31.03448276]\n",
            " [34.48275862 34.48275862 31.03448276]\n",
            " [31.03448276 31.03448276 27.93103448]]\n",
            "p-value: 0.00018609719479882557\n",
            "\n",
            "Reject the null hypothesis. There is a significant difference in job performance levels before and after the training.\n"
          ]
        }
      ]
    },
    {
      "cell_type": "markdown",
      "source": [
        "\n",
        "\n",
        "---\n",
        "\n"
      ],
      "metadata": {
        "id": "nmPUqYxEEMe2"
      }
    },
    {
      "cell_type": "markdown",
      "source": [
        "Question 24:  A company produces three different versions of a product: Standard, Premium, and Deluxe. The\n",
        "company wants to determine if there is a significant difference in customer satisfaction scores among the\n",
        "three product versions. They conducted a survey and collected customer satisfaction scores for each\n",
        "version from a random sample of customers. Perform an ANOVA test to determine if there is a significant\n",
        "difference in customer satisfaction scores."
      ],
      "metadata": {
        "id": "Y3SoE7mjENVo"
      }
    },
    {
      "cell_type": "markdown",
      "source": [
        "## Solution:"
      ],
      "metadata": {
        "id": "hHZ8p8JmET7s"
      }
    },
    {
      "cell_type": "code",
      "source": [
        "import numpy as np\n",
        "from scipy.stats import f_oneway\n",
        "\n",
        "# Sample data: Customer satisfaction scores for each product version\n",
        "# Scores for Standard, Premium, and Deluxe product versions\n",
        "standard_scores = np.array([80, 85, 88, 84, 90, 91, 86, 88, 85, 87])\n",
        "premium_scores = np.array([92, 94, 90, 91, 93, 95, 92, 91, 94, 93])\n",
        "deluxe_scores = np.array([98, 100, 97, 99, 98, 100, 97, 99, 101, 98])\n",
        "\n",
        "# Step 1: Perform ANOVA test\n",
        "f_statistic, p_value = f_oneway(standard_scores, premium_scores, deluxe_scores)\n",
        "\n",
        "# Step 2: Output results\n",
        "print(\"F-statistic:\", f_statistic)\n",
        "print(\"p-value:\", p_value)\n",
        "\n",
        "# Step 3: Decision based on p-value (two-tailed test at alpha = 0.05)\n",
        "if p_value < 0.05:\n",
        "    print(\"\\nReject the null hypothesis. There is a significant difference in customer satisfaction scores among the three product versions.\")\n",
        "else:\n",
        "    print(\"\\nFail to reject the null hypothesis. There is no significant difference in customer satisfaction scores among the three product versions.\")"
      ],
      "metadata": {
        "colab": {
          "base_uri": "https://localhost:8080/"
        },
        "id": "ZP_eX1AWELu0",
        "outputId": "f305f6b2-f791-4588-84a9-9af85b1b0f34"
      },
      "execution_count": 40,
      "outputs": [
        {
          "output_type": "stream",
          "name": "stdout",
          "text": [
            "F-statistic: 79.16511627906978\n",
            "p-value: 5.08318787556046e-12\n",
            "\n",
            "Reject the null hypothesis. There is a significant difference in customer satisfaction scores among the three product versions.\n"
          ]
        }
      ]
    },
    {
      "cell_type": "markdown",
      "source": [
        "\n",
        "\n",
        "---\n",
        "\n"
      ],
      "metadata": {
        "id": "NyuWZOTAEcXM"
      }
    }
  ]
}