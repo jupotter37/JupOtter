{
  "cells": [
    {
      "cell_type": "markdown",
      "metadata": {
        "id": "4SAlvDJ1QmEX"
      },
      "source": [
        "# Final Project: HR Analysis"
      ]
    },
    {
      "cell_type": "markdown",
      "metadata": {
        "id": "CA91EwPaQkHU"
      },
      "source": [
        "by Purwadhika JCDS 2021 - Bravo Team\n",
        "\n",
        "* Albert Brian\n",
        "* Deris Triana Noor\n",
        "\n",
        "Dataset: aug_train.csv\n",
        "\n",
        "Source: https://www.kaggle.com/arashnic/hr-analytics-job-change-of-data-scientists"
      ]
    },
    {
      "cell_type": "markdown",
      "metadata": {
        "id": "c0SEqD8NT4LY"
      },
      "source": [
        "# Background"
      ]
    },
    {
      "cell_type": "markdown",
      "metadata": {
        "id": "Wsid2b3tT4LZ"
      },
      "source": [
        "In this project, we position ourselves as a part of the Data Scientist Team at Google. Google has training course mainly focused on Data Science that everyone can sign up. We treated this training course also as a talent pool as it will be easier if we want to hire a data scientist in the future.\n",
        "\n",
        "It happened that we need to hire additional Data Scientist to do a big project. The Company wants to reduce the cost and time in the hiring process. So, the HR prefer to get the candidate from the talent pool that have already complete some courses. \n",
        "\n",
        "From the problem above, we decide to do some analysis and build a machine learning model to know which of these candidates are suit for the job and looking for a new employment in order to reduce the cost and time for HR to recruit them. Information related to demographics, education, experience are in hands from candidates signup and enrollment."
      ]
    },
    {
      "cell_type": "markdown",
      "metadata": {
        "id": "Nnb65mkqBbb3"
      },
      "source": [
        "# Hiring Process Scenario"
      ]
    },
    {
      "cell_type": "markdown",
      "metadata": {
        "id": "d2iRbOd0BdWB"
      },
      "source": [
        "A typical interview timeline is the average time it takes from submitting an application to getting hired for a job. Whenever you apply for a job, you usually need to go through several steps before you are hired and each one of these takes time. However, it's important to remember that every job is different. Some companies may spend a few weeks on one phase, while others spend only a few days. At the same time, some employers may skip certain steps entirely[1].\n",
        "\n",
        "Factors that may impact the speed of the interview timeline include:\n",
        "* A background check\n",
        "* Number of applicants\n",
        "* Level of the position\n",
        "* Number of hiring managers involved\n",
        "* Your current employment situation\n",
        "\n",
        "Here are the different phases involved in the interview process and what to expect during each one[1]:\n",
        "1. Week One: Submitting an application\n",
        "2. Week Two: The screening process\n",
        "3. Week Three: Scheduling an in-person interview\n",
        "4. Week Four: Attending the in-person interview\n",
        "5. Weeks Five and Six: Follow-up interview\n",
        "6. Week Seven: Meeting upper management\n",
        "7. Week Eight: Receiving the job offer\n",
        "8. Week Nine and beyond: Starting the new job\n",
        "\n",
        "While that process takes 9 weeks to complete, we should not forget that we should spend some money in that process. We get the research Summary from Zippia on All Cost of Hiring Statistics. The results are the average cost per hire is $4,425 and it takes 36 to 42 days to fill an average position in the United States.[2]\n",
        "\n",
        "Fairly or not, recruiting departments face constant pressure to reduce cost per hire. Breaking down your cost per hire is an important strategic tool to assess the cost effectiveness and efficiency of your recruiting process, identify areas for improvement, and help guide your recruiting budget. Here’s an overview of how to calculate your cost per hire[3]:\n",
        "\n",
        "<img src=\"datasets/Cost-per-hire-formula-from-SHRM.png\" alt=\"cost-per-hire formula\" width=\"500\"/>\n",
        "\n",
        "We then assume that the cost is from the internal only because no external cost involved as we only use talent pool from training course. So, we divide the cost to each steps in selecting candidate phase.\n",
        "\n",
        "source: <br>\n",
        "[1] https://www.indeed.com/career-advice/interviewing/interview-timeline<br>\n",
        "[2] https://www.zippia.com/advice/cost-of-hiring-statistics-average-cost-per-hire/<br>\n",
        "[3] https://ideal.com/cost-per-hire/"
      ]
    },
    {
      "cell_type": "markdown",
      "metadata": {
        "id": "pRthQKxOT4La"
      },
      "source": [
        "# I.Problem Identification"
      ]
    },
    {
      "cell_type": "markdown",
      "metadata": {
        "id": "VPaqpqEfT4La"
      },
      "source": [
        "## 1. Problem Definition"
      ]
    },
    {
      "cell_type": "markdown",
      "metadata": {
        "id": "zDRFYe-1HbfA"
      },
      "source": [
        "The HR have been struggled to keep their cost balanced. From their perspective, this problem occurs especially when they are trying to hire people to work for the company. And they prove it with the data that the cost for hiring people is much higher if they conduct many interviews and tests. While the process is not be able to be changed, we should at least reduce the cost from reducing candidate who will be proceed to interviews and tests. Meanwhile, reducing the candidate is not something that can be easily done. It takes time to process the candidate if they do it manually. It also prone to bias from the person who grade it. \n",
        "\n",
        "To address the problem, it needs a reliable autonomous system that can suggest:<br>\n",
        "* <b>Which candidate should the HR hire based on skills and experience, and openess to job change?</b>\n",
        "\n",
        "To improve business process, we could suggest the company:<br>\n",
        "* <b>Which city should we hold a jobfair to get more potential candidate?</b>"
      ]
    },
    {
      "cell_type": "markdown",
      "metadata": {
        "id": "ZTqcVhwWT4La"
      },
      "source": [
        "## 2. Business Objectives"
      ]
    },
    {
      "cell_type": "markdown",
      "metadata": {
        "id": "vygaNYFgHjZU"
      },
      "source": [
        "The expected output of this project is a system that can provide list of candidate which should be hired by HR. With this model, <b>we could minimize the cost of hiring people and reduce time for selecting the candidate.</b>"
      ]
    },
    {
      "cell_type": "markdown",
      "metadata": {
        "id": "RM516KjxT4La"
      },
      "source": [
        "## 3. Data"
      ]
    },
    {
      "cell_type": "markdown",
      "metadata": {
        "id": "bRol460SF-XW"
      },
      "source": [
        "### Data Source"
      ]
    },
    {
      "cell_type": "markdown",
      "metadata": {
        "id": "N9M3zEbCF1ar"
      },
      "source": [
        "* <b>Data Source</b><br>\n",
        "The data was downloaded from Kaggle. All data is managed by account Möbius as the owner of the data.\n",
        "<br>\n",
        "<br>\n",
        "* <b>Data Access & Data Privacy</b><br>\n",
        "Open access to public"
      ]
    },
    {
      "cell_type": "markdown",
      "metadata": {
        "id": "y6F6DeouGACW"
      },
      "source": [
        "### Data Description"
      ]
    },
    {
      "cell_type": "markdown",
      "metadata": {
        "id": "-U2VqIZSGHKf"
      },
      "source": [
        "This dataset designed to understand the factors that lead a person to leave current job for HR researches too. By model(s) that uses the current credentials,demographics,experience data you will predict the probability of a candidate to look for a new job or will work for the company, as well as interpreting affected factors on employee decision.\n",
        "\n",
        "The whole data divided to train and test . Target isn't included in test but the test target values data file is in hands for related tasks. A sample submission correspond to enrollee_id of test set provided too with columns : enrollee _id , target\n",
        "\n",
        "<b>Number of records:</b>\n",
        "* Train data (aug_train.csv):\n",
        "    - Rows: 19158 rows\n",
        "    - Columns: 14 columns\n",
        "* Test data (aug_test.csv):\n",
        "    - Rows: 2129 rows\n",
        "    - Columns: 13 columns\n",
        "\n",
        "<b>Features:</b>\n",
        "* <b>enrollee_id:</b> Unique ID for candidate\n",
        "* <b>city:</b> City code\n",
        "* <b>city_development_index:</b> Developement index of the city (scaled)\n",
        "* <b>gender:</b> Gender of candidate\n",
        "* <b>relevent_experience:</b> Relevant experience of candidate\n",
        "* <b>enrolled_university:</b> Type of University course enrolled if any\n",
        "* <b>education_level:</b> Education level of candidate\n",
        "* <b>major_discipline:</b> Education major discipline of candidate\n",
        "* <b>experience:</b> Candidate total experience in years\n",
        "* <b>company_size:</b> No of employees in current employer's company\n",
        "* <b>company_type:</b> Type of current employer\n",
        "* <b>lastnewjob:</b> Difference in years between previous job and current job\n",
        "* <b>training_hours:</b> training hours completed\n",
        "* <b>target:</b> 0 – Not looking for job change, 1 – Looking for a job change"
      ]
    },
    {
      "cell_type": "markdown",
      "metadata": {
        "id": "bXLtHv-KT4La"
      },
      "source": [
        "## 4. Analytics Approach"
      ]
    },
    {
      "cell_type": "markdown",
      "metadata": {
        "id": "T7kuIDcbT4La"
      },
      "source": [
        "Since the target that we want to predict is only 0 and 1, this problem can be addressed with Supervised Learning, more Specifically Classification. We will use the training data to Classification Algorithms which then will tune some parameters to fit the model, and then hopefully it will be able to make good prediction on future instances."
      ]
    },
    {
      "cell_type": "markdown",
      "metadata": {
        "id": "OvqWGjKiT4Lb"
      },
      "source": [
        "### Risk\n",
        "There are possible risk that may be caused by wrong prediction from the ML model:"
      ]
    },
    {
      "cell_type": "markdown",
      "metadata": {
        "id": "PXkFE_kvT4Lb"
      },
      "source": [
        "### Performance Measure\n",
        "The performance measure to evaluate the ML model are Precision Score and Confusion Matrix"
      ]
    },
    {
      "cell_type": "markdown",
      "metadata": {
        "id": "GRuhBuwDT4Lb"
      },
      "source": [
        "## 5. Action"
      ]
    },
    {
      "cell_type": "markdown",
      "metadata": {
        "id": "B7tWxtNtIQWl"
      },
      "source": [
        "The HR department can approach candidate within the list to hire data scientist."
      ]
    },
    {
      "cell_type": "markdown",
      "metadata": {
        "id": "fAKBv9JKT4Lb"
      },
      "source": [
        "## 6. Value"
      ]
    },
    {
      "cell_type": "markdown",
      "metadata": {
        "id": "nOzyNh64InEo"
      },
      "source": [
        "The values created from the project are the improvement in hiring process and minimized cost and time during the hiring process."
      ]
    },
    {
      "cell_type": "markdown",
      "metadata": {
        "id": "195Bg5mZT4Lb"
      },
      "source": [
        "# II. Data Understanding & Data Preparation\n",
        "Please refer to : [Data Understanding & Data Preparation](https://github.com/PurwadhikaDev/BravoTeam_JC_DS_VL_01_FinalProject/blob/main/02_data_understanding_%26_preparation.ipynb)"
      ]
    },
    {
      "cell_type": "markdown",
      "metadata": {
        "id": "mePm1bEyT4Lb"
      },
      "source": [
        "# III. Modeling & Evaluation\n",
        "Please refer to : [Modeling & Evaluation](https://github.com/PurwadhikaDev/BravoTeam_JC_DS_VL_01_FinalProject/blob/main/03_model_%26_evaluation.ipynb)"
      ]
    },
    {
      "cell_type": "markdown",
      "metadata": {
        "id": "mFlnqJj2KAJ8"
      },
      "source": [
        "# IV. Cost Reduction"
      ]
    },
    {
      "cell_type": "markdown",
      "metadata": {
        "id": "rQppVD2CKFrP"
      },
      "source": [
        "If the average cost are $4,425 and we divided it into 9 steps: \n",
        "1. Week One: Gather data from talent pool\n",
        "2. Week Two: The screening process\n",
        "3. Week Three: Scheduling an in-person interview\n",
        "4. Week Four: Attending the in-person interview\n",
        "5. Weeks Five and Six: Follow-up interview\n",
        "6. Week Seven: Meeting upper management\n",
        "7. Week Eight: Receiving the job offer\n",
        "8. Week Nine and beyond: Starting the new job\n",
        "\n",
        "Then each steps would cost $553,125.\n",
        "\n",
        "After we implement the model, we definetly take out the step on screening process. We could take out one week to the process, then it would reduce cost from $4100 to $3871,875. From the average cost to $3871,875, we reduce the cost for 12,5%. \n",
        "\n",
        "source: https://www.indeed.com/career-advice/interviewing/interview-timeline\n",
        "\n"
      ]
    },
    {
      "cell_type": "markdown",
      "metadata": {
        "id": "vD2AfIzuT4Lc"
      },
      "source": [
        "# V. Conclusion & Recommendation"
      ]
    },
    {
      "cell_type": "markdown",
      "metadata": {
        "id": "IDtlNPMWG-u3"
      },
      "source": [
        "### Conclusion"
      ]
    },
    {
      "cell_type": "markdown",
      "metadata": {
        "id": "J-ki42atT4Lc"
      },
      "source": [
        "* From this project, we can conclude that the HR Department can shorten their hiring process by using the model in the compeling and selection process of the candidate up to 11,11% and reduce cost per hire up to 12,5%.\n",
        "* The city with code 21 is the most suitable city to hold a JobFair because it has the most potential employee with 403 candidate."
      ]
    },
    {
      "cell_type": "markdown",
      "metadata": {
        "id": "jiPoinusHAn9"
      },
      "source": [
        "### Recommendation"
      ]
    },
    {
      "cell_type": "markdown",
      "metadata": {
        "id": "kKT3fCsmNcjp"
      },
      "source": [
        "The recommendations that can be made for further development are as follows:\n",
        "* We could encourage the training participant to fill more data to reduce missing value.\n",
        "* We pick the best candidate for data science skills based on training hours only, we can add more data, for example participant grade, to make sure we picked the best data science based on the grade and training hours.\n",
        "* From CDI and target, we can take data on factors in calculating CDI, also population data which contains data on employment and data on the average salary or minimum wage in the city to determine which factor that could drive candidate to change the job.\n",
        "* If we are interested in what factors affect a person to change job, then more data are needed such as salary data, company benefits, career paths, and others, in order to determine what factors are highly affected the person.\n",
        "* we can organise a jobfair in city_21 because it has the most potential employees with total 403 candidates with relevant experience and training hours above average"
      ]
    }
  ],
  "metadata": {
    "colab": {
      "collapsed_sections": [],
      "name": "Background.ipynb",
      "provenance": []
    },
    "interpreter": {
      "hash": "0d89878c39c02ed44faae28197850e828275159266d11aee0c55a2338b4b18d7"
    },
    "kernelspec": {
      "display_name": "Python 3.8.8 64-bit ('base': conda)",
      "name": "python3"
    },
    "language_info": {
      "codemirror_mode": {
        "name": "ipython",
        "version": 3
      },
      "file_extension": ".py",
      "mimetype": "text/x-python",
      "name": "python",
      "nbconvert_exporter": "python",
      "pygments_lexer": "ipython3",
      "version": "3.8.8"
    },
    "orig_nbformat": 4
  },
  "nbformat": 4,
  "nbformat_minor": 0
}
