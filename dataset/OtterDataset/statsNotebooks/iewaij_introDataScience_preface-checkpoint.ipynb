{
 "cells": [
  {
   "cell_type": "markdown",
   "metadata": {},
   "source": [
    "# 数据科学导论：前言"
   ]
  },
  {
   "cell_type": "markdown",
   "metadata": {},
   "source": [
    "去年暑假我开始写一些数据科学入门的笔记，现在回头看惨不忍睹，不至于误人子弟（所以我就赖着不删了），但没达到我现在的期望，决定重写。"
   ]
  },
  {
   "cell_type": "markdown",
   "metadata": {},
   "source": [
    "我用朴素的厨房观看待人类思想：知识的生产就像炒菜，先要有炊具，然后有原材料，加上心灵手巧就能做一盘好菜。数据科学也一样，说来说去核心工具有三大件：数理统计、机器学习、数据编程，带上工具、数据和脑子，你就可以自称数据科学家去解决问题了。数理统计是用数理逻辑分析数据，机器学习从数据里提炼关键信息用于预测，数据编程做数据的维护工作，怎么存储、怎么读取、怎么可视化、怎么高效压榨计算机的性能。"
   ]
  },
  {
   "cell_type": "markdown",
   "metadata": {},
   "source": [
    "说一下我对数理统计和机器学习的理解。数理统计讲求严格的证明推导，是从空地起高楼；机器学习归纳从数据里寻找规律的方法（就是 SICP 说的「抽象」），然后反复调用这些方法用来预测。谈不上高低，数理统计是演绎，对结论的解释和因果推断更到位，令人信服，但预测效果不怎么样；机器学习是归纳，预测得准，但说不清预测是怎么来的。同时了解这两门学科是有必要的，而且很多学者在努力结合这两者。"
   ]
  },
  {
   "cell_type": "markdown",
   "metadata": {},
   "source": [
    "这个专栏是涉及数理统计、机器学习和数据编程三个方面的学习笔记，主要关注数理统计和机器学习。为什么要有笔记？笔记通常比教科书更简洁，比视频和课件更方便阅读，适合读者按图索骥、复习和总结。很多人讲数据科学这么多东西要学怎么学得完，我的看法是，做不到样样精通，因此更需要有一个地图，这样遇到问题了能知道是哪里出了问题、要去哪里找答案。那我写得完吗？当然写不完... ~~拖延症最擅长的就是做完成不了的承诺了，~~ 所以欢迎大家投稿和指责。"
   ]
  },
  {
   "cell_type": "markdown",
   "metadata": {},
   "source": [
    "我这里大致梳理一下数理统计的思路。抛一枚正常的硬币，出现正面的概率 $P$ 是 $\\frac{1}{2}$，这个是概率；抛五枚硬币，有可能是一个正面，两个正面... 一个 $P$ 不够用，怎么用简洁的语言表示不同情况的概率？用 $X$ 表示未知的随机的正面数量，$X = 2$ 表示这个数量是 2，这个是随机变量; 有时候，我们预先知道了 $Y = 1$，而且 $Y = 1$ 对 $X$ 有影响，用 $P(X)$ 不合适，需要用 $P(X| Y = 1)$ 表示，这是条件概率；有时候，我们想要知道某个 $X$ 值和某个 $Y$ 值同时出现的概率，用 $P(X,Y)$ 表示，这是联合概率；我们把随机变量 $X = 0$，$X = 1$，$X = 2...$ 摊在 $x$ 轴上，对应的概率摊在 $y$ 轴上，生成一个个点或者一条线，这是概率分布；随机变量有一些特征，例如期望（均值）、方差，它们具有优雅的性质，可以帮助我们推导和证明；假如某个随机变量服从某个分布，我们要从样本里尽可能地还原出真实的分布，这是估计；如果两个变量都服从正态分布，我们可以推导出这两个变量的关系是线性的，或者我们假设它们服从线性关系，也就是 $Y = aX + b$，加一些噪音就是 $Y = aX + b + \\epsilon$，如果一些条件满足，我们就可以用最小二乘法估计出参数 $a$ 和 $b$，这是线性回归；如果这些条件不满足，那么我们就需要工具变量、随机实验等工具，这个是计量经济学研究的内容。"
   ]
  },
  {
   "cell_type": "markdown",
   "metadata": {},
   "source": [
    "机器学习的思路，相比数理统计清晰得多。数据有两类：有标注的数据和没有标注的数据；机器学习想通过数据解决两类问题：预测数值（回归）和预测类别（分类）；有许多算法能解决这些问题，但不存在最好的算法，它们都各有优劣；还有一些通用的手段让算法的效果更好：交叉验证可以更有效地利用训练集和测试集，正则化可以防止过拟合，特征工程对数据进行预处理，集成方法是综合不同的算法结果。"
   ]
  },
  {
   "cell_type": "markdown",
   "metadata": {},
   "source": [
    "虽然我不喜欢列书单这种营造焦虑感的事情，但考虑到这份笔记的涵盖范围，有必要列出参考书目和课程：\n",
    "\n",
    "[Practical Data Science](http://www.datasciencecourse.org/lectures/)  \n",
    "这门课是 CMU 面向本科生和硕士生的数据科学导论课程，今年第一次把课程视频公开，同时附有详细的笔记和作业。\n",
    "\n",
    "[Statistics 110: Probability](https://projects.iq.harvard.edu/stat110/youtube)  \n",
    "这是 Harvard 面向本科生的数理统计课程。\n",
    "\n",
    "[Learning From Data](https://work.caltech.edu/telecourse.html)  \n",
    "这门课是 Caltech 面向本科生的机器学习线上公开课程，相比于 Cousera 上 Ng 的课程，理论性更强。\n",
    "\n",
    "[Statistical Learning](https://lagunita.stanford.edu/courses/HumanitiesSciences/StatLearning/Winter2016/info)  \n",
    "这门课是 Stanford 面向无统计背景学生的统计学习线上公开课程，统计学习和机器学习非常相似，但数理统计的味道更浓。\n",
    "\n",
    "Rice, J. A. (2007) Mathematical statistics and data analysis. 3rd ed.  \n",
    "Wackerly, D. D., Mendenhall, W. and Scheaffer, R. L. (2008) Mathematical statistics with applications. 7. ed.  \n",
    "Wasserman, L. (2013) All of statistics: a concise course in statistical inference.  \n",
    "这三本都可用作学习数理统计的参考书。"
   ]
  },
  {
   "cell_type": "markdown",
   "metadata": {},
   "source": [
    "笔记更新时间不定，也不会按顺序写，有空就零星地想怎么写就怎么写，还会有一些数据分析。最好的跟踪方式是 [RSS](https://rss.lilydjwg.me/zhihuzhuanlan/introdatascience)，[知乎专栏](https://zhuanlan.zhihu.com/introdatascience)和我的[ Github 仓库](https://github.com/iewaij/introDataScience)。"
   ]
  },
  {
   "cell_type": "markdown",
   "metadata": {},
   "source": [
    "对了，我目前感觉最好的数据科学 IDE 是 [Jupyter Lab](https://github.com/jupyterlab/jupyterlab)，无论是写作还是写代码都好用。"
   ]
  }
 ],
 "metadata": {
  "kernelspec": {
   "display_name": "Python 3",
   "language": "python",
   "name": "python3"
  },
  "language_info": {
   "codemirror_mode": {
    "name": "ipython",
    "version": 3
   },
   "file_extension": ".py",
   "mimetype": "text/x-python",
   "name": "python",
   "nbconvert_exporter": "python",
   "pygments_lexer": "ipython3",
   "version": "3.6.4"
  }
 },
 "nbformat": 4,
 "nbformat_minor": 2
}
