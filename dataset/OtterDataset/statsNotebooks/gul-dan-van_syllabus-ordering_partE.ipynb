{
 "cells": [
  {
   "cell_type": "code",
   "execution_count": 3,
   "metadata": {},
   "outputs": [],
   "source": [
    "import sys\n",
    "sys.setrecursionlimit(5000)"
   ]
  },
  {
   "cell_type": "code",
   "execution_count": 4,
   "metadata": {},
   "outputs": [],
   "source": [
    "class Node:\n",
    "    def __init__(self, url):\n",
    "        self.url = url\n",
    "        self.title = None\n",
    "        self.text = None\n",
    "\n",
    "        self.inlinks = []\n",
    "        self.outlinks = []\n",
    "\n",
    "        self.labels = []\n",
    "        self.label = None\n",
    "        self.keyword = None\n",
    "        self.tags = None\n",
    "        self.features = None"
   ]
  },
  {
   "cell_type": "code",
   "execution_count": 5,
   "metadata": {},
   "outputs": [],
   "source": [
    "import pickle\n",
    "\n",
    "with open('editedGraph.txt','rb') as file:\n",
    "    graph_dict = pickle.load(file)\n",
    "\n",
    "graph = [*graph_dict.values()]"
   ]
  },
  {
   "cell_type": "code",
   "execution_count": 9,
   "metadata": {},
   "outputs": [],
   "source": [
    "from queue import PriorityQueue\n",
    "import random\n",
    "\n",
    "def tell_seq(node, graph_dict):\n",
    "    visited = set()\n",
    "\n",
    "    '''\n",
    "    Maximum number of easy difficulty topics: 15\n",
    "    Maximum number of medium difficulty topics: 10\n",
    "    Maximum number of hard difficulty topics: 5\n",
    "    Maximum number of irrelevant topics: 5\n",
    "    '''\n",
    "    limits = [15,10,5,5]\n",
    "    seq = []\n",
    "\n",
    "    # Priority queue to sort node wrt their \n",
    "    q=PriorityQueue()\n",
    "\n",
    "    # We will convert labels from [0,1,2,3] -> [3,0,1,2] so that irrelevant topics would come at last\n",
    "    q.put(((node.label+3)%4,random.random(),node.url))\n",
    "    while not q.empty():\n",
    "        u = q.get()\n",
    "        node = graph_dict[u[2]]\n",
    "        if node.title in visited or limits[u[0]]<1:\n",
    "            continue\n",
    "        limits[u[0]]-=1\n",
    "\n",
    "        visited.add(node.title)\n",
    "        seq += [node.title]\n",
    "        \n",
    "        adj = node.inlinks+node.outlinks\n",
    "        for v in adj:\n",
    "            if v.url not in visited:\n",
    "                q.put(((v.label+3)%4,random.random(),v.url))\n",
    "\n",
    "    return [x[:-12] for x in seq]"
   ]
  },
  {
   "cell_type": "code",
   "execution_count": 12,
   "metadata": {},
   "outputs": [
    {
     "name": "stdout",
     "output_type": "stream",
     "text": [
      "Algebraically closed field -> Degree of a polynomial -> Quartic function -> 65537-gon -> Equilateral polygon -> Semantic Scholar -> Athens -> Turing completeness -> JSTOR -> Muhammad ibn Musa al-Khwarizmi -> Analog computer -> Horner's method -> Cryptography -> Probability theory -> Centrifugal force -> Statistics -> Algorithm -> Permutation -> Basis (linear algebra) -> Root of unity -> Random variable -> Circumscribed circle -> Polygon -> Gaussian elimination -> Linear algebra -> Dynamical system -> Function (mathematics) -> Vector calculus -> Multivariable calculus -> Differential equation -> Ordinary differential equation -> Discriminant -> Golden ratio -> Triangle -> Multiplicity (mathematics)\n",
      "\n",
      "Mathematical physics -> Theory of computation -> Information theory -> Perturbation theory -> Algorithmic efficiency -> Algorithm -> Analysis of algorithms -> List of algorithm general topics -> Copyright status of works by the federal government of the United States -> Handle System -> Operations research -> Automata theory -> State diagram -> Recursion (computer science) -> Digital object identifier -> Random variable -> Cramer's rule -> Statistics -> Basis (linear algebra) -> Root of unity -> Gaussian elimination -> Linear algebra -> Polygon -> Circle -> Complex number -> Differential equation -> Function (mathematics) -> Multivariable calculus -> Binomial theorem -> Dynamical system -> Ordinary differential equation -> Triangle -> Discriminant -> Multiplicity (mathematics) -> Golden ratio\n",
      "\n",
      "Coprime integers -> Unit (ring theory) -> Field (mathematics) -> Set (mathematics) -> Multiset -> Mathematics -> Real number -> Vector space -> Lambda calculus -> Fast Fourier transform -> Semantic Scholar -> Software patent -> Digital object identifier -> Supersymmetric quantum mechanics -> Inequality (mathematics) -> Linear algebra -> Permutation -> Complex number -> Coefficient matrix -> Gaussian elimination -> Circumscribed circle -> Random variable -> Root of unity -> Statistics -> Basis (linear algebra) -> Binomial theorem -> Vector calculus -> Multivariable calculus -> Taylor series -> Dynamical system -> Multiplicity (mathematics) -> Ordinary differential equation -> Discriminant -> Golden ratio -> Triangle\n",
      "\n",
      "Dimension (vector space) -> Springer Science+Business Media -> Vladimir Arnold -> International Standard Book Number -> Theta function -> Quantum field theory -> Quadratic residue -> 257-gon -> Local ring -> Floyd–Warshall algorithm -> Ninsun -> Extremes on Earth -> Bibcode -> Climate -> Earth's orbit -> Circle -> Algorithm -> Random variable -> Polygon -> Complex number -> Root of unity -> Cube root -> Gaussian elimination -> Statistics -> Circumscribed circle -> Function (mathematics) -> Vector calculus -> Binomial theorem -> Mathematical proof -> Dynamical system -> Triangle -> Multiplicity (mathematics) -> Discriminant -> Golden ratio -> Ordinary differential equation\n",
      "\n",
      "Polynomial -> Prime ideal -> Square-free polynomial -> Affine variety -> Cubic function -> Encyclopedia of Mathematics -> Horner's method -> Factorization of polynomials -> Equation -> Mathematics -> Coding theory -> George Boole -> Holomorphic function -> The Compendious Book on Calculation by Completion and Balancing -> Giuseppe Peano -> Permutation -> Hyperbola -> Parabola -> Root of unity -> Linear algebra -> Basis (linear algebra) -> Cramer's rule -> Cubic equation -> Complex number -> Algorithm -> Mathematical proof -> Differential equation -> Function (mathematics) -> Dynamical system -> Taylor series -> Golden ratio -> Ordinary differential equation -> Multiplicity (mathematics) -> Discriminant -> Triangle\n",
      "\n"
     ]
    }
   ],
   "source": [
    "selected_keys = random.choices([*graph_dict.keys()], k=5)\n",
    "for key in selected_keys:\n",
    "    print(*tell_seq(graph_dict[key], graph_dict), sep=' -> ')\n",
    "    print()"
   ]
  }
 ],
 "metadata": {
  "interpreter": {
   "hash": "9e4788be093d05ba1e11a16fef41a6cfb0c22168c6ce2557c706dc834a611e03"
  },
  "kernelspec": {
   "display_name": "Python 3.8.2 32-bit",
   "language": "python",
   "name": "python3"
  },
  "language_info": {
   "codemirror_mode": {
    "name": "ipython",
    "version": 3
   },
   "file_extension": ".py",
   "mimetype": "text/x-python",
   "name": "python",
   "nbconvert_exporter": "python",
   "pygments_lexer": "ipython3",
   "version": "3.8.2"
  },
  "orig_nbformat": 4
 },
 "nbformat": 4,
 "nbformat_minor": 2
}
