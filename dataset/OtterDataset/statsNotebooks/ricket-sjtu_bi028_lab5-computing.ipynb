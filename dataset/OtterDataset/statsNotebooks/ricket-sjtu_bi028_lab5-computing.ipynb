{
 "cells": [
  {
   "cell_type": "markdown",
   "metadata": {},
   "source": [
    "# Lab 5: Scientific Computing Fundamentals in Python\n",
    "___"
   ]
  },
  {
   "cell_type": "markdown",
   "metadata": {},
   "source": [
    "## 1. Implement your own Cholesky-decomposition (Linear algebra)\n",
    "\n",
    "Say we have a matrix $\\mathbf{A} \\in \\mathbb{R}^{n \\times n}$ with the factorization form $\\mathbf{A = BB^T}$ where $\\mathbf{B}$ is nonsingular. In this fashion, $\\mathbf{A}$ is symmetric and positive definite (SPD). That is,\n",
    "$$\n",
    "\\begin{align}\n",
    "\\mathbf{A = A^T}\\\\\n",
    "\\mathbf{x^T A x} > 0, \\forall \\mathbf{x} \\neq 0 \\in \\mathbb{R}^n\n",
    "\\end{align}\n",
    "$$"
   ]
  },
  {
   "cell_type": "markdown",
   "metadata": {},
   "source": [
    "As a symmetric and positive definite matrix, the matrix $\\mathbf{A}$ has the special form of $\\mathbf{LU}$-decomposition:\n",
    "$$\n",
    "\\mathbf{A = LL^T}\n",
    "$$\n",
    "where $\\mathbf{L}$ is lower triangular and of positive diagonal elements. Here is an example in $\\mathbb{R}^3$:\n",
    "$$\n",
    "\\mathbf{A} = \\left[\n",
    "\\begin{array}{ccc}\n",
    "a_{11} & a_{21} & a_{31}\\\\\n",
    "a_{21} & a_{22} & a_{32}\\\\\n",
    "a_{31} & a_{32} & a_{33}\n",
    "\\end{array}\n",
    "\\right], \\mathbf{L} = \\left[\n",
    "\\begin{array}{ccc}\n",
    "l_{11} & 0 & 0\\\\\n",
    "l_{21} & l_{22} & 0\\\\\n",
    "l_{31} & l_{32} & l_{33}\n",
    "\\end{array}\n",
    "\\right]\n",
    "$$"
   ]
  },
  {
   "cell_type": "markdown",
   "metadata": {},
   "source": [
    "- Compute the entries in $\\mathbf{LL^T}$ symbolically:\n",
    "$$\n",
    "\\mathbf{LL^T} = \\left[\n",
    "\\begin{array}{ccc}\n",
    "l_{11}^2 & - & -\\\\\n",
    "- & - & -\\\\\n",
    "- & - & -\n",
    "\\end{array}\n",
    "\\right]\n",
    "$$\n",
    "- Equate the product with $\\mathbf{A}$:\n",
    "$$\n",
    "\\begin{align}\n",
    "a_{11} = l_{11}^2\\\\\n",
    "a_{21} = -\\\\\n",
    "a_{22} = -\\\\\n",
    "a_{31} = -\\\\\n",
    "a_{32} = -\\\\\n",
    "a_{33} = -\\\\\n",
    "\\end{align}\n",
    "$$\n",
    "- Compute $l_{ij}$ one by one in an order:\n",
    "$$\n",
    "\\begin{align}\n",
    "l_{11} = \\sqrt{a_{11}}\\\\\n",
    "l_{21} = -\\\\\n",
    "l_{22} = -\\\\\n",
    "l_{31} = -\\\\\n",
    "l_{32} = -\\\\\n",
    "l_{33} = -\n",
    "\\end{align}\n",
    "$$"
   ]
  },
  {
   "cell_type": "markdown",
   "metadata": {},
   "source": [
    "- Can you generalize the above equations to $\\mathbb{R}^{n \\times n}$ cases? 将$3 \\times 3$的例子推广到$n \\times n$\n",
    "$$\n",
    "\\begin{array}{lcl}\n",
    "l_{11} &=& \\sqrt{a_{11}}\\\\\n",
    "l_{21} &=& a_{21} / l_{11}\\\\\n",
    "l_{22} &=& \\sqrt{a_{22} - l_{21}^2}\\\\\n",
    "\\vdots & = & \\vdots\\\\\n",
    "l_{ij} &=& - \\\\\n",
    "l_{ii} &=& -\\\\\n",
    "\\vdots & = & \\vdots\n",
    "\\end{array}\n",
    "$$"
   ]
  },
  {
   "cell_type": "markdown",
   "metadata": {},
   "source": [
    "- Implement the above generalization in Python and run it on 3 random SPD matrices of size $5 \\times 5$, $10 \\times 10$ and $20 \\times 20$, respectively. Here is some example scripts to generate a random SPD matrix of size $n \\times n$:"
   ]
  },
  {
   "cell_type": "code",
   "execution_count": 1,
   "metadata": {
    "collapsed": false
   },
   "outputs": [
    {
     "name": "stdout",
     "output_type": "stream",
     "text": [
      "[[ 0.07296473  0.25882103  0.14999367]\n",
      " [ 0.25882103  1.21249605  0.78527317]\n",
      " [ 0.14999367  0.78527317  0.52732145]]\n"
     ]
    }
   ],
   "source": [
    "import numpy as np\n",
    "def rand_spd(n):\n",
    "    B = np.random.rand(n, n)\n",
    "    return np.dot(B, B.T)"
   ]
  },
  {
   "cell_type": "code",
   "execution_count": 40,
   "metadata": {
    "collapsed": false
   },
   "outputs": [],
   "source": [
    "def mycholesky(A):\n",
    "    pass"
   ]
  },
  {
   "cell_type": "code",
   "execution_count": 74,
   "metadata": {
    "collapsed": false
   },
   "outputs": [],
   "source": [
    "A = rand_spd(20)\n",
    "chol1 = mycholesky(A)"
   ]
  },
  {
   "cell_type": "markdown",
   "metadata": {},
   "source": [
    "- Compute the relative error $\\lVert \\mathbf{LL^T - A} \\rVert_2 / \\lVert \\mathbf{A} \\rVert_2$, where the $L_2$-norm can be computed using `numpy.linalg.norm()`."
   ]
  },
  {
   "cell_type": "code",
   "execution_count": 76,
   "metadata": {
    "collapsed": false
   },
   "outputs": [
    {
     "data": {
      "text/plain": [
       "2.056111001573917e-17"
      ]
     },
     "execution_count": 76,
     "metadata": {},
     "output_type": "execute_result"
    }
   ],
   "source": [
    "np.linalg.norm(np.dot(chol1, chol1.T)-A, 2)/np.linalg.norm(A, 2)"
   ]
  },
  {
   "cell_type": "markdown",
   "metadata": {},
   "source": [
    "- For a triangular matrix, the determinant is the product of its diagonal entries. Moreover, $\\textrm{det}(AB) = \\textrm{det}(A)\\textrm{det}(B)$. Therefore, you can compute the determinants of the above SPD matrices and then compare to the results obtained using the function `numpy.linalg.det()`."
   ]
  },
  {
   "cell_type": "code",
   "execution_count": 77,
   "metadata": {
    "collapsed": false
   },
   "outputs": [
    {
     "data": {
      "text/plain": [
       "8.9952276812619192e-09"
      ]
     },
     "execution_count": 77,
     "metadata": {},
     "output_type": "execute_result"
    }
   ],
   "source": [
    "np.diag(chol1).prod()**2"
   ]
  },
  {
   "cell_type": "markdown",
   "metadata": {},
   "source": [
    "## 2. Implement principal component analysis (PCA)\n",
    "\n",
    "Principal component analysis is a statistical procedure that can be used to find the 'main axes' of a data set. Here, data set refers to a set of points in $n$-dimensional space, where the idea is that most of the data lies 'around' these main axes. In the language of statistics, this helps identify variables that vary together, or, literally, are correlated. It also provides so-called 'principal components', which are orthogonal to one another\n",
    "and uncorrelated.\n",
    "\n",
    "For a data set $(\\mathbf{x}_i)_{i=1}^N \\subset \\mathbb{R}^n$, PCA can be performed as follows:"
   ]
  },
  {
   "cell_type": "markdown",
   "metadata": {},
   "source": [
    "#### (1). Compute the empirical mean:\n",
    "$$\n",
    "\\mathbf{u} := \\frac{1}{N}\\sum_{i=1}^N \\mathbf{x}_i\n",
    "$$"
   ]
  },
  {
   "cell_type": "markdown",
   "metadata": {},
   "source": [
    "#### (2). Subtract the mean:\n",
    "$$\n",
    "\\tilde{\\mathbf{x}}_i := \\mathbf{x}_i - \\mathbf{u}\n",
    "$$"
   ]
  },
  {
   "cell_type": "markdown",
   "metadata": {},
   "source": [
    "#### (3). Stack the matrix:\n",
    "$$\n",
    "\\mathbf{Y} := \\frac{1}{\\sqrt{N-1}}\\left[  \n",
    "\\begin{array}{ccc}\n",
    "\\tilde{\\mathbf{x}}_1 & \\cdots & \\tilde{\\mathbf{x}}_N\n",
    "\\end{array}\n",
    "\\right]\n",
    "$$"
   ]
  },
  {
   "cell_type": "markdown",
   "metadata": {},
   "source": [
    "#### (4). Compute the SVD (using `numpy.linalg.svd()`) of $\\mathbf{Y}$:\n",
    "$$\n",
    "\\mathbf{Y} = \\mathbf{U \\Sigma V^T}\n",
    "$$\n",
    "\n",
    "Now the principal components can be computed as the columns of $\\mathbf{U\\Sigma}$. "
   ]
  },
  {
   "cell_type": "markdown",
   "metadata": {},
   "source": [
    "- (1) Use Python to implement the above algorithm to compute the principal components."
   ]
  },
  {
   "cell_type": "code",
   "execution_count": 390,
   "metadata": {
    "collapsed": true
   },
   "outputs": [],
   "source": [
    "def mypca(X):\n",
    "    pass"
   ]
  },
  {
   "cell_type": "markdown",
   "metadata": {},
   "source": [
    "- (2) Plot the 2D data set generated using the following function:"
   ]
  },
  {
   "cell_type": "code",
   "execution_count": 391,
   "metadata": {
    "collapsed": false
   },
   "outputs": [],
   "source": [
    "def make_data(dims=2, npts=3000):\n",
    "    np.random.seed(123)\n",
    "    mix_mat = np.random.randn(dims, dims)\n",
    "    mean = np.random.randn(dims)\n",
    "    return np.dot(\n",
    "        mix_mat,\n",
    "        np.random.randn(dims, npts)) + mean[:, np.newaxis]"
   ]
  },
  {
   "cell_type": "code",
   "execution_count": 400,
   "metadata": {
    "collapsed": true
   },
   "outputs": [],
   "source": [
    "import matplotlib.pyplot as plt\n",
    "%matplotlib inline"
   ]
  },
  {
   "cell_type": "code",
   "execution_count": 401,
   "metadata": {
    "collapsed": false
   },
   "outputs": [
    {
     "data": {
      "text/plain": [
       "[<matplotlib.lines.Line2D at 0x7fe63efd2990>]"
      ]
     },
     "execution_count": 401,
     "metadata": {},
     "output_type": "execute_result"
    },
    {
     "data": {
      "image/png": "[encoded data removed]",
      "text/plain": [
       "<matplotlib.figure.Figure at 0x7fe63ea256d0>"
      ]
     },
     "metadata": {},
     "output_type": "display_data"
    }
   ],
   "source": [
    "fig = plt.figure()\n",
    "ax = plt.gca()\n",
    "ax.set_aspect('equal')\n",
    "ax.plot(X[0,:], X[1,:], 'k.', alpha=0.30)"
   ]
  },
  {
   "cell_type": "markdown",
   "metadata": {},
   "source": [
    "- (3) Compute the principal components of this same data set and draw them into the same plot as the result from above, centered at the mean.\n",
    "    + Use `matplotlib.pyplot.gca().set_aspect(\"equal\")` to make sure Matplotlib does not distort angles in your figure.\n",
    "    + Use `matplotlib.pyplot.arrow()` to draw arrows into the figure. Draw one for each principal component starting from the mean point."
   ]
  },
  {
   "cell_type": "code",
   "execution_count": null,
   "metadata": {
    "collapsed": true
   },
   "outputs": [],
   "source": []
  },
  {
   "cell_type": "markdown",
   "metadata": {},
   "source": [
    "- (4) From $U$, $\\Sigma$, and $V^T$ as returned by `numpy`, reconstruct the matrix $\\tilde{Y}$ :\n",
    "$$\n",
    "\\tilde{Y} = U \\Sigma V^T\n",
    "$$\n",
    "Print the relative error \\Vert \\tilde{Y} − Y \\Vert_2/\\Vert Y \\Vert_2. (This should come out to about machine precision.)"
   ]
  },
  {
   "cell_type": "code",
   "execution_count": 403,
   "metadata": {
    "collapsed": true
   },
   "outputs": [],
   "source": []
  },
  {
   "cell_type": "markdown",
   "metadata": {},
   "source": [
    "- (5) Now set the bottom right nonzero entry of $\\Sigma$ to zero. Call the result $\\Sigma_0$ and reconstruct another matrix $Y_0$:\n",
    "$$\n",
    "Y_0 = U \\Sigma_0 V^T\n",
    "$$\n",
    "Next, undo the transformations done to $Y_0$ to get back to plain data (undo scaling by $1/\\sqrt{N − 1}$, re-add mean) and make a new plot with the principal components and the data set obtained from $Y_0$."
   ]
  },
  {
   "cell_type": "code",
   "execution_count": null,
   "metadata": {
    "collapsed": true
   },
   "outputs": [],
   "source": []
  },
  {
   "cell_type": "markdown",
   "metadata": {},
   "source": [
    "In fact, we can project the original data into the new coordinate system, which will result in a rotation."
   ]
  },
  {
   "cell_type": "code",
   "execution_count": 407,
   "metadata": {
    "collapsed": false
   },
   "outputs": [],
   "source": [
    "y = np.dot(X.T, pc)"
   ]
  },
  {
   "cell_type": "code",
   "execution_count": 408,
   "metadata": {
    "collapsed": false
   },
   "outputs": [
    {
     "data": {
      "text/plain": [
       "[<matplotlib.lines.Line2D at 0x7fe6393d7210>]"
      ]
     },
     "execution_count": 408,
     "metadata": {},
     "output_type": "execute_result"
    },
    {
     "data": {
      "image/png": "[encoded data removed]",
      "text/plain": [
       "<matplotlib.figure.Figure at 0x7fe63ea64250>"
      ]
     },
     "metadata": {},
     "output_type": "display_data"
    }
   ],
   "source": [
    "fig = plt.figure(figsize=(10,10))\n",
    "ax = plt.gca()\n",
    "ax.set_aspect('equal')\n",
    "ax.plot(y[:,0], y[:,1], 'r.', alpha=0.1)"
   ]
  },
  {
   "cell_type": "markdown",
   "metadata": {},
   "source": [
    "## 3. DNA Binding Site Analysis"
   ]
  },
  {
   "cell_type": "markdown",
   "metadata": {},
   "source": [
    "### 3.1 Loading data\n",
    "\n",
    "Our analysis procedure will be operated on a text file containing the nucleotide counts of the E. Coli DNA binding sites of the transcription factor CRP (cAMP receptor protein, a.k.a CAP, catabolite gene activator protein). You can find it at [crp_counts.dat](crp_counts.dat)."
   ]
  },
  {
   "cell_type": "code",
   "execution_count": 409,
   "metadata": {
    "collapsed": false
   },
   "outputs": [
    {
     "name": "stdout",
     "output_type": "stream",
     "text": [
      "109\t61\t57\t115\r\n",
      "95\t74\t62\t111\r\n",
      "111\t70\t70\t91\r\n",
      "89\t68\t83\t102\r\n",
      "99\t79\t72\t92\r\n",
      "93\t66\t72\t111\r\n",
      "83\t79\t77\t103\r\n",
      "91\t85\t70\t96\r\n",
      "121\t63\t71\t87\r\n",
      "143\t38\t57\t104\r\n",
      "162\t25\t38\t117\r\n",
      "155\t28\t43\t116\r\n",
      "127\t43\t46\t126\r\n",
      "40\t40\t29\t233\r\n",
      "32\t16\t240\t54\r\n",
      "30\t36\t27\t249\r\n",
      "29\t18\t254\t41\r\n",
      "227\t41\t46\t28\r\n",
      "74\t54\t53\t161\r\n",
      "68\t106\t77\t91\r\n",
      "70\t81\t55\t136\r\n",
      "131\t45\t88\t78\r\n",
      "77\t74\t100\t91\r\n",
      "134\t60\t59\t89\r\n",
      "32\t31\t30\t249\r\n",
      "46\t247\t14\t35\r\n",
      "238\t29\t41\t34\r\n",
      "60\t232\t16\t34\r\n",
      "217\t35\t45\t45\r\n",
      "94\t62\t49\t137\r\n",
      "116\t39\t20\t167\r\n",
      "113\t43\t24\t162\r\n",
      "89\t51\t38\t164\r\n",
      "100\t62\t58\t122\r\n",
      "110\t72\t67\t93\r\n",
      "105\t62\t76\t99\r\n",
      "108\t90\t65\t79\r\n",
      "110\t71\t72\t89\r\n",
      "93\t76\t65\t108\r\n",
      "102\t74\t66\t100\r\n",
      "121\t72\t44\t105\r\n",
      "130\t49\t52\t111\r\n"
     ]
    }
   ],
   "source": [
    "!cat crp_counts.dat"
   ]
  },
  {
   "cell_type": "markdown",
   "metadata": {},
   "source": [
    "We need to convert it to a numerical array in order to perform computations using the [genfromtxt](http://docs.scipy.org/doc/numpy/reference/generated/numpy.genfromtxt.html) function:"
   ]
  },
  {
   "cell_type": "code",
   "execution_count": 410,
   "metadata": {
    "collapsed": true
   },
   "outputs": [],
   "source": [
    "# loads data from text file and store in an integer NumPy array called 'counts'\n",
    "filename = 'crp_counts.dat'\n",
    "counts=np.genfromtxt(filename,dtype=int)"
   ]
  },
  {
   "cell_type": "markdown",
   "metadata": {},
   "source": [
    "### 3.2 Working with numerical arrays"
   ]
  },
  {
   "cell_type": "code",
   "execution_count": 411,
   "metadata": {
    "collapsed": false
   },
   "outputs": [
    {
     "data": {
      "text/plain": [
       "2"
      ]
     },
     "execution_count": 411,
     "metadata": {},
     "output_type": "execute_result"
    }
   ],
   "source": [
    "counts.ndim # what is the dimensionality of the array?"
   ]
  },
  {
   "cell_type": "code",
   "execution_count": 412,
   "metadata": {
    "collapsed": false
   },
   "outputs": [
    {
     "data": {
      "text/plain": [
       "(42, 4)"
      ]
     },
     "execution_count": 412,
     "metadata": {},
     "output_type": "execute_result"
    }
   ],
   "source": [
    "counts.shape # what is the size of the array? (rows, columns)"
   ]
  },
  {
   "cell_type": "code",
   "execution_count": 413,
   "metadata": {
    "collapsed": false
   },
   "outputs": [
    {
     "data": {
      "text/plain": [
       "dtype('int64')"
      ]
     },
     "execution_count": 413,
     "metadata": {},
     "output_type": "execute_result"
    }
   ],
   "source": [
    "counts.dtype # what is the data type of the array?"
   ]
  },
  {
   "cell_type": "markdown",
   "metadata": {},
   "source": [
    "#### Array indexing\n",
    "\n",
    "Let's practise some array indexing to remember how they work in Python"
   ]
  },
  {
   "cell_type": "code",
   "execution_count": 414,
   "metadata": {
    "collapsed": false
   },
   "outputs": [
    {
     "data": {
      "text/plain": [
       "array([[109,  61,  57, 115],\n",
       "       [ 95,  74,  62, 111],\n",
       "       [111,  70,  70,  91],\n",
       "       [ 89,  68,  83, 102],\n",
       "       [ 99,  79,  72,  92]])"
      ]
     },
     "execution_count": 414,
     "metadata": {},
     "output_type": "execute_result"
    }
   ],
   "source": [
    "# let's have a look at the first five rows\n",
    "counts[0:5]"
   ]
  },
  {
   "cell_type": "code",
   "execution_count": 415,
   "metadata": {
    "collapsed": false
   },
   "outputs": [
    {
     "data": {
      "text/plain": [
       "array([[121,  72,  44, 105],\n",
       "       [130,  49,  52, 111]])"
      ]
     },
     "execution_count": 415,
     "metadata": {},
     "output_type": "execute_result"
    }
   ],
   "source": [
    "# the last two rows\n",
    "counts[-2:]"
   ]
  },
  {
   "cell_type": "code",
   "execution_count": 416,
   "metadata": {
    "collapsed": false
   },
   "outputs": [
    {
     "data": {
      "text/plain": [
       "array([[109,  61,  57, 115],\n",
       "       [ 89,  68,  83, 102],\n",
       "       [ 83,  79,  77, 103],\n",
       "       [143,  38,  57, 104],\n",
       "       [127,  43,  46, 126],\n",
       "       [ 30,  36,  27, 249],\n",
       "       [ 74,  54,  53, 161],\n",
       "       [131,  45,  88,  78],\n",
       "       [ 32,  31,  30, 249],\n",
       "       [ 60, 232,  16,  34],\n",
       "       [116,  39,  20, 167],\n",
       "       [100,  62,  58, 122],\n",
       "       [108,  90,  65,  79],\n",
       "       [102,  74,  66, 100]])"
      ]
     },
     "execution_count": 416,
     "metadata": {},
     "output_type": "execute_result"
    }
   ],
   "source": [
    "# every third row beginning with the first\n",
    "counts[::3]"
   ]
  },
  {
   "cell_type": "code",
   "execution_count": 417,
   "metadata": {
    "collapsed": false
   },
   "outputs": [
    {
     "data": {
      "text/plain": [
       "array([[False, False,  True],\n",
       "       [False,  True,  True]], dtype=bool)"
      ]
     },
     "execution_count": 417,
     "metadata": {},
     "output_type": "execute_result"
    }
   ],
   "source": [
    "# assess whether the previous elements are greater than 70\n",
    "counts[2:4,1:4]>70"
   ]
  },
  {
   "cell_type": "markdown",
   "metadata": {},
   "source": [
    "#### Computations on arrays"
   ]
  },
  {
   "cell_type": "code",
   "execution_count": 418,
   "metadata": {
    "collapsed": false
   },
   "outputs": [
    {
     "data": {
      "text/plain": [
       "(14, 254)"
      ]
     },
     "execution_count": 418,
     "metadata": {},
     "output_type": "execute_result"
    }
   ],
   "source": [
    "# the minimum and maximum element of the array\n",
    "np.min(counts), np.max(counts)"
   ]
  },
  {
   "cell_type": "code",
   "execution_count": 419,
   "metadata": {
    "collapsed": false
   },
   "outputs": [
    {
     "data": {
      "text/plain": [
       "array([233, 240, 249, 254, 227, 249, 247, 238, 232, 217])"
      ]
     },
     "execution_count": 419,
     "metadata": {},
     "output_type": "execute_result"
    }
   ],
   "source": [
    "# select the elements greater than 200\n",
    "counts[counts>200]"
   ]
  },
  {
   "cell_type": "code",
   "execution_count": 420,
   "metadata": {
    "collapsed": false
   },
   "outputs": [
    {
     "data": {
      "text/plain": [
       "(array([13, 14, 15, 16, 17, 24, 25, 26, 27, 28]),\n",
       " array([3, 2, 3, 2, 0, 3, 1, 0, 1, 0]))"
      ]
     },
     "execution_count": 420,
     "metadata": {},
     "output_type": "execute_result"
    }
   ],
   "source": [
    "# what are the indices of the elements greater than 200? \n",
    "# The Numpy function \"where\" returns the indices in separate arrays of rows and columns.\n",
    "np.where(counts>200)"
   ]
  },
  {
   "cell_type": "code",
   "execution_count": 421,
   "metadata": {
    "collapsed": false
   },
   "outputs": [
    {
     "data": {
      "text/plain": [
       "array([240, 249, 249])"
      ]
     },
     "execution_count": 421,
     "metadata": {},
     "output_type": "execute_result"
    }
   ],
   "source": [
    "# select elements that are greater than 200 and also divisible by 3, i.e. counts mod 3 = 0\n",
    "counts[(counts>200) & (counts%3==0)]"
   ]
  },
  {
   "cell_type": "markdown",
   "metadata": {},
   "source": [
    "#### Dot Product\n",
    "\n",
    "Frequently when performing operations on arrays we have to take the dot product of two list of numbers, or two vectors, e.g. $\\vec{x}=\\{x_1,x_2,x_3\\}$ and $\\vec{y}=\\{y_1,y_2,y_3\\}$. The dot product $\\vec{x} \\cdot \\vec{y}$ is defined as\n",
    "$$\n",
    "x \\cdot y = \\sum_{i=1}^{3} x_i y_i\n",
    "$$\n",
    "NumPy provides an efficient way of doing this without explicitly writing a 'for loop'"
   ]
  },
  {
   "cell_type": "code",
   "execution_count": 422,
   "metadata": {
    "collapsed": false
   },
   "outputs": [
    {
     "data": {
      "text/plain": [
       "29687"
      ]
     },
     "execution_count": 422,
     "metadata": {},
     "output_type": "execute_result"
    }
   ],
   "source": [
    "# dot product between rows 3 and 8\n",
    "np.dot(counts[2],counts[7])"
   ]
  },
  {
   "cell_type": "code",
   "execution_count": 423,
   "metadata": {
    "collapsed": false
   },
   "outputs": [
    {
     "data": {
      "text/plain": [
       "array([4374, 2747, 2688, 4555])"
      ]
     },
     "execution_count": 423,
     "metadata": {},
     "output_type": "execute_result"
    }
   ],
   "source": [
    "# sum each column of the array, i.e. sum along the rows, the dimension indexed as 0\n",
    "np.sum(counts,axis=0) "
   ]
  },
  {
   "cell_type": "code",
   "execution_count": 424,
   "metadata": {
    "collapsed": false
   },
   "outputs": [
    {
     "data": {
      "text/plain": [
       "array([342, 342, 342, 342, 342, 342, 342, 342, 342, 342, 342, 342, 342,\n",
       "       342, 342, 342, 342, 342, 342, 342, 342, 342, 342, 342, 342, 342,\n",
       "       342, 342, 342, 342, 342, 342, 342, 342, 342, 342, 342, 342, 342,\n",
       "       342, 342, 342])"
      ]
     },
     "execution_count": 424,
     "metadata": {},
     "output_type": "execute_result"
    }
   ],
   "source": [
    "# sum each row of the array, i.e. sum along the columns, the dimension indexed as 1\n",
    "np.sum(counts, axis=1) "
   ]
  },
  {
   "cell_type": "code",
   "execution_count": 425,
   "metadata": {
    "collapsed": false
   },
   "outputs": [
    {
     "data": {
      "text/plain": [
       "(array([ 104.14285714,   65.4047619 ,   64.        ,  108.45238095]),\n",
       " array([ 101. ,   62. ,   57.5,  102.5]),\n",
       " array([ 47.21106177,  43.99245581,  45.42759807,  50.88933015]))"
      ]
     },
     "execution_count": 425,
     "metadata": {},
     "output_type": "execute_result"
    }
   ],
   "source": [
    "# mean, median and standard deviation of each column\n",
    "np.mean(counts,0), np.median(counts,0), np.std(counts,0) "
   ]
  },
  {
   "cell_type": "markdown",
   "metadata": {},
   "source": [
    "We can add pseudocounts to each element. This is usually a good idea if your count data is undersampled."
   ]
  },
  {
   "cell_type": "markdown",
   "metadata": {},
   "source": [
    "Let's calculate the probabilities of each nucleotide at each position, e.g. the probability of seeing an A at position i is\n",
    "$$\n",
    "\\begin{array}\n",
    "pp_i(A)&=&\\frac{\\rm{counts}_i(A)}{\\rm{counts}_i(A)+\\rm{counts}_i(T)+\\rm{counts}_i(G)+\\rm{counts}_i(C)} \\\\\n",
    "&=&\\frac{\\rm{counts}_i(A)}{\\rm{total\\_counts}_i}\n",
    "\\end{array}\n",
    "$$\n",
    "The total counts is the same for all positions, so we might just as well use only the first position to evaluate it."
   ]
  },
  {
   "cell_type": "code",
   "execution_count": 427,
   "metadata": {
    "collapsed": true
   },
   "outputs": [],
   "source": [
    "# add 1 to EVERY element of the counts matrix to form a new matrix 'new_counts'\n",
    "new_counts=counts+1"
   ]
  },
  {
   "cell_type": "code",
   "execution_count": 428,
   "metadata": {
    "collapsed": false
   },
   "outputs": [
    {
     "name": "stdout",
     "output_type": "stream",
     "text": [
      "[[0 0 0 0]\n",
      " [0 0 0 0]\n",
      " [0 0 0 0]\n",
      " [0 0 0 0]\n",
      " [0 0 0 0]\n",
      " [0 0 0 0]\n",
      " [0 0 0 0]\n",
      " [0 0 0 0]\n",
      " [0 0 0 0]\n",
      " [0 0 0 0]\n",
      " [0 0 0 0]\n",
      " [0 0 0 0]\n",
      " [0 0 0 0]\n",
      " [0 0 0 0]\n",
      " [0 0 0 0]\n",
      " [0 0 0 0]\n",
      " [0 0 0 0]\n",
      " [0 0 0 0]\n",
      " [0 0 0 0]\n",
      " [0 0 0 0]\n",
      " [0 0 0 0]\n",
      " [0 0 0 0]\n",
      " [0 0 0 0]\n",
      " [0 0 0 0]\n",
      " [0 0 0 0]\n",
      " [0 0 0 0]\n",
      " [0 0 0 0]\n",
      " [0 0 0 0]\n",
      " [0 0 0 0]\n",
      " [0 0 0 0]\n",
      " [0 0 0 0]\n",
      " [0 0 0 0]\n",
      " [0 0 0 0]\n",
      " [0 0 0 0]\n",
      " [0 0 0 0]\n",
      " [0 0 0 0]\n",
      " [0 0 0 0]\n",
      " [0 0 0 0]\n",
      " [0 0 0 0]\n",
      " [0 0 0 0]\n",
      " [0 0 0 0]\n",
      " [0 0 0 0]]\n"
     ]
    }
   ],
   "source": [
    "total_counts=sum(new_counts[0])\n",
    "prob=new_counts/total_counts\n",
    "print prob"
   ]
  },
  {
   "cell_type": "markdown",
   "metadata": {},
   "source": [
    "what happened?"
   ]
  },
  {
   "cell_type": "code",
   "execution_count": 429,
   "metadata": {
    "collapsed": false
   },
   "outputs": [
    {
     "name": "stdout",
     "output_type": "stream",
     "text": [
      "[[ 0.31791908  0.17919075  0.16763006  0.33526012]\n",
      " [ 0.27745665  0.21676301  0.18208092  0.32369942]\n",
      " [ 0.32369942  0.20520231  0.20520231  0.26589595]\n",
      " [ 0.26011561  0.19942197  0.24277457  0.29768786]\n",
      " [ 0.28901734  0.23121387  0.21098266  0.26878613]\n",
      " [ 0.2716763   0.19364162  0.21098266  0.32369942]\n",
      " [ 0.24277457  0.23121387  0.22543353  0.30057803]\n",
      " [ 0.26589595  0.24855491  0.20520231  0.28034682]\n",
      " [ 0.35260116  0.1849711   0.20809249  0.25433526]\n",
      " [ 0.41618497  0.11271676  0.16763006  0.30346821]\n",
      " [ 0.47109827  0.07514451  0.11271676  0.34104046]\n",
      " [ 0.45086705  0.08381503  0.12716763  0.33815029]\n",
      " [ 0.3699422   0.12716763  0.13583815  0.36705202]\n",
      " [ 0.11849711  0.11849711  0.0867052   0.67630058]\n",
      " [ 0.09537572  0.04913295  0.69653179  0.15895954]\n",
      " [ 0.08959538  0.10693642  0.08092486  0.72254335]\n",
      " [ 0.0867052   0.05491329  0.73699422  0.12138728]\n",
      " [ 0.65895954  0.12138728  0.13583815  0.08381503]\n",
      " [ 0.21676301  0.15895954  0.15606936  0.46820809]\n",
      " [ 0.19942197  0.30924855  0.22543353  0.26589595]\n",
      " [ 0.20520231  0.23699422  0.16184971  0.39595376]\n",
      " [ 0.38150289  0.13294798  0.25722543  0.2283237 ]\n",
      " [ 0.22543353  0.21676301  0.29190751  0.26589595]\n",
      " [ 0.39017341  0.17630058  0.1734104   0.26011561]\n",
      " [ 0.09537572  0.09248555  0.08959538  0.72254335]\n",
      " [ 0.13583815  0.71676301  0.0433526   0.10404624]\n",
      " [ 0.69075145  0.0867052   0.12138728  0.10115607]\n",
      " [ 0.17630058  0.6734104   0.04913295  0.10115607]\n",
      " [ 0.6300578   0.10404624  0.13294798  0.13294798]\n",
      " [ 0.27456647  0.18208092  0.14450867  0.39884393]\n",
      " [ 0.33815029  0.11560694  0.06069364  0.48554913]\n",
      " [ 0.32947977  0.12716763  0.07225434  0.47109827]\n",
      " [ 0.26011561  0.15028902  0.11271676  0.47687861]\n",
      " [ 0.29190751  0.18208092  0.17052023  0.35549133]\n",
      " [ 0.32080925  0.21098266  0.19653179  0.2716763 ]\n",
      " [ 0.30635838  0.18208092  0.22254335  0.28901734]\n",
      " [ 0.3150289   0.26300578  0.19075145  0.23121387]\n",
      " [ 0.32080925  0.20809249  0.21098266  0.26011561]\n",
      " [ 0.2716763   0.22254335  0.19075145  0.3150289 ]\n",
      " [ 0.29768786  0.21676301  0.19364162  0.29190751]\n",
      " [ 0.35260116  0.21098266  0.1300578   0.30635838]\n",
      " [ 0.37861272  0.14450867  0.15317919  0.32369942]]\n"
     ]
    }
   ],
   "source": [
    "from __future__ import division\n",
    "total_counts=sum(new_counts[0])\n",
    "prob=new_counts/total_counts\n",
    "print prob"
   ]
  },
  {
   "cell_type": "markdown",
   "metadata": {},
   "source": [
    "It's often a good idea to represent the data graphically to glean what's going on"
   ]
  },
  {
   "cell_type": "code",
   "execution_count": 431,
   "metadata": {
    "collapsed": false
   },
   "outputs": [
    {
     "data": {
      "text/plain": [
       "<matplotlib.text.Text at 0x7fe63eca1050>"
      ]
     },
     "execution_count": 431,
     "metadata": {},
     "output_type": "execute_result"
    },
    {
     "data": {
      "image/png": "[encoded data removed]",
      "text/plain": [
       "<matplotlib.figure.Figure at 0x7fe63ed760d0>"
      ]
     },
     "metadata": {},
     "output_type": "display_data"
    }
   ],
   "source": [
    "# set the size of the figure\n",
    "plt.figure(figsize=[15,2])\n",
    "\n",
    "# show the array flipped (transposed) and with no colour interpolation smoothing\n",
    "plt.imshow(prob.T,interpolation='nearest')\n",
    "\n",
    "# set the ticks\n",
    "plt.xticks(range(0,42),range(1,43))\n",
    "plt.yticks(range(4),['A','C','G','T'])\n",
    "\n",
    "# set the colorbar\n",
    "plt.clim([0,1])\n",
    "plt.colorbar(ticks=np.arange(0,1,0.2))\n",
    "\n",
    "# title\n",
    "plt.title('base frequency matrix of CRP binding sites',fontsize=15)"
   ]
  },
  {
   "cell_type": "markdown",
   "metadata": {},
   "source": [
    "### $\\S$Exercise: Entropy function and Sequence Conservation\n",
    "\n",
    "We want to know how conserved the individual positions are. We start by calculating the entropy. The entropy H of nucleotide variability at each site i is defined by, \n",
    "$$\n",
    "H_i=-\\sum_{n=\\{A,C,T,G\\}} p_i(n) \\log_2 p_i(n)\n",
    "$$\n",
    "From the formula, we see that this calculation involves a dot product between the rows of the probability array and the rows of a log probability array. We have to be remember that $0 \\log_2 0 = 0$, if any of the probabilities are zero. This is important since $\\log_20=-\\infty$ and computers don't like dealing with infinities. A simple way to deal with this is to remove all the zero probabilities in the above entropy summation formula.\n",
    "\n",
    "Let's define a function to compute the entropy:"
   ]
  },
  {
   "cell_type": "code",
   "execution_count": 432,
   "metadata": {
    "collapsed": true
   },
   "outputs": [],
   "source": [
    "# defining a new function 'entropy_calc' which takes as input a 1D array p\n",
    "def entropy_calc(p):\n",
    "    p=p[p!=0]\n",
    "    result=np.dot(np.log2(1/p),p)\n",
    "    return result"
   ]
  },
  {
   "cell_type": "markdown",
   "metadata": {},
   "source": [
    "Now we can evaluate the entropy at each nucleotide position:"
   ]
  },
  {
   "cell_type": "code",
   "execution_count": 433,
   "metadata": {
    "collapsed": false
   },
   "outputs": [
    {
     "name": "stdout",
     "output_type": "stream",
     "text": [
      "[ 1.93058651  1.96552364  1.97261799  1.98543983  1.98914028  1.96977195\n",
      "  1.99007327  1.99055291  1.95423939  1.83532602  1.67642971  1.72522979\n",
      "  1.83103394  1.41673422  1.32210514  1.28901589  1.22955655  1.45681499\n",
      "  1.8307097   1.98013624  1.91557164  1.90779924  1.98933969  1.91490193\n",
      "  1.29159019  1.27154435  1.37822325  1.37352383  1.53361903  1.89163949\n",
      "  1.64024155  1.69155439  1.78068749  1.93158424  1.9718647   1.97030341\n",
      "  1.97617255  1.9764238   1.9741195   1.97573143  1.90948341  1.87516361]\n"
     ]
    }
   ],
   "source": [
    "# loop through every row of the 'prob' array and evaluate the entropy \n",
    "DNA_entropy=np.array([entropy_calc(row) for row in prob])\n",
    "print DNA_entropy"
   ]
  },
  {
   "cell_type": "markdown",
   "metadata": {},
   "source": [
    "We see that most entropy values are fairly close to the maximum of two bits, representing a great deal of base variability. Let's plot the results."
   ]
  },
  {
   "cell_type": "code",
   "execution_count": 435,
   "metadata": {
    "collapsed": false
   },
   "outputs": [
    {
     "data": {
      "image/png": "[encoded data removed]",
      "text/plain": [
       "<matplotlib.figure.Figure at 0x7fe63dc7be50>"
      ]
     },
     "metadata": {},
     "output_type": "display_data"
    }
   ],
   "source": [
    "# number of nucleotide positions\n",
    "num_pos=len(DNA_entropy)\n",
    "\n",
    "# set the size of the figure\n",
    "plt.figure(figsize=(12,4))\n",
    "\n",
    "# plot a bar chart\n",
    "plt.bar(np.arange(num_pos),DNA_entropy,color='green')\n",
    "\n",
    "# axes labels\n",
    "plt.xlabel('position',fontsize=15)\n",
    "plt.ylabel('entropy (bits)',fontsize=15)\n",
    "\n",
    "# limit the x axis range to just to the total number of nucleotide positions\n",
    "plt.xlim(0,num_pos)\n",
    "\n",
    "# place the x axis ticks and labels to be centered at each bar\n",
    "plt.xticks(np.arange(num_pos)+0.5,np.arange(1,num_pos+1),fontsize=10);"
   ]
  },
  {
   "cell_type": "markdown",
   "metadata": {},
   "source": [
    "What we really want to calculate is the sequence conservation, R. This is defined to be the total possible entropy at each site minus the observed entropy:\n",
    "$$\n",
    "\\begin{array}\n",
    "RR &=& H_{max}-H_{obs} \\\\\n",
    "&=& \\log_2(\\rm{no. of  states})-\\left( - \\sum_{n=\\{A,C,T,G\\}} p(n) \\log_2 p(n) \\right) \\\\\n",
    "&=& 2 + \\sum_{n=\\{A,C,T,G\\}} p(n) \\log_2 p(n)\n",
    "\\end{array}\n",
    "$$"
   ]
  },
  {
   "cell_type": "code",
   "execution_count": null,
   "metadata": {
    "collapsed": true
   },
   "outputs": [],
   "source": []
  }
 ],
 "metadata": {
  "kernelspec": {
   "display_name": "Python 2",
   "language": "python",
   "name": "python2"
  },
  "language_info": {
   "codemirror_mode": {
    "name": "ipython",
    "version": 2
   },
   "file_extension": ".py",
   "mimetype": "text/x-python",
   "name": "python",
   "nbconvert_exporter": "python",
   "pygments_lexer": "ipython2",
   "version": "2.7.11"
  }
 },
 "nbformat": 4,
 "nbformat_minor": 0
}
