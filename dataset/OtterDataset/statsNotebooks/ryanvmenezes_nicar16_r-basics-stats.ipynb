{
 "cells": [
  {
   "cell_type": "markdown",
   "metadata": {},
   "source": [
    "# R Basics: Stats\n",
    "\n",
    "By **[Olga Pierce](https://twitter.com/olgapierce) (ProPublica)** and **[Ryan Menezes](https://twitter.com/ryanvmenezes) (Los Angeles Times)**\n",
    "\n",
    "*NICAR Conference 2016 -- Denver, CO*\n",
    "\n",
    "In this class, we're going to run through a grab bag of concepts grounded in statistical theory that will enable you to get the most out of your data. This will be done in R, and we hope you already have some familiarity with the language, its syntax and (many) quirks.\n",
    "\n",
    "The lineup:\n",
    "\n",
    "* Ranking with Z-scores\n",
    "* Comparing groups with t-tests and ANOVA\n",
    "* Linear, multivariate and logistic regression\n",
    "* Risk and odds ratios\n",
    "\n",
    "\n",
    "This tutorial was written in a Jupyter notebook and tested in R version 3.2.2 , though we don't anticipate different behaviors across other versions of R.\n",
    "\n",
    "Our point of emphasis throughout this tutorial: **Ask the right questions of your data.** We'll list a few to guide you along the way."
   ]
  },
  {
   "cell_type": "markdown",
   "metadata": {},
   "source": [
    "In the interest of time, we'll be running through pre-loaded datasets across these two packages."
   ]
  },
  {
   "cell_type": "code",
   "execution_count": 1,
   "metadata": {
    "collapsed": false
   },
   "outputs": [],
   "source": [
    "## if you cannot load the libraries, uncomment the two lines below and run the install\n",
    "# install.packages(\"datasets\")\n",
    "# install.packages(\"nlme\")\n",
    "\n",
    "library(\"datasets\")\n",
    "library(\"nlme\")"
   ]
  },
  {
   "cell_type": "markdown",
   "metadata": {},
   "source": [
    "# Ranking\n",
    "\n",
    "It's easy enough to sort columns in R. But rankings mean more if you take into account the center of the data.\n",
    "\n",
    "## Z-scores\n",
    "\n",
    "**When could I use this?** Creating Z-values gives us a way to convert raw numbers into a \"standard score\" that tells us how far above or below the mean a value is.\n",
    "\n",
    "For this example, let's take a look at the ratings of U.S. judges from a 1977 New Haven Register report:"
   ]
  },
  {
   "cell_type": "code",
   "execution_count": 2,
   "metadata": {
    "collapsed": false
   },
   "outputs": [
    {
     "data": {
      "text/html": [
       "<table>\n",
       "<thead><tr><th></th><th scope=col>CONT</th><th scope=col>INTG</th><th scope=col>DMNR</th><th scope=col>DILG</th><th scope=col>CFMG</th><th scope=col>DECI</th><th scope=col>PREP</th><th scope=col>FAMI</th><th scope=col>ORAL</th><th scope=col>WRIT</th><th scope=col>PHYS</th><th scope=col>RTEN</th></tr></thead>\n",
       "<tbody>\n",
       "\t<tr><th scope=row>AARONSON,L.H.</th><td>5.7</td><td>7.9</td><td>7.7</td><td>7.3</td><td>7.1</td><td>7.4</td><td>7.1</td><td>7.1</td><td>7.1</td><td>7</td><td>8.3</td><td>7.8</td></tr>\n",
       "\t<tr><th scope=row>ALEXANDER,J.M.</th><td>6.8</td><td>8.9</td><td>8.8</td><td>8.5</td><td>7.8</td><td>8.1</td><td>8</td><td>8</td><td>7.8</td><td>7.9</td><td>8.5</td><td>8.7</td></tr>\n",
       "\t<tr><th scope=row>ARMENTANO,A.J.</th><td>7.2</td><td>8.1</td><td>7.8</td><td>7.8</td><td>7.5</td><td>7.6</td><td>7.5</td><td>7.5</td><td>7.3</td><td>7.4</td><td>7.9</td><td>7.8</td></tr>\n",
       "\t<tr><th scope=row>BERDON,R.I.</th><td>6.8</td><td>8.8</td><td>8.5</td><td>8.8</td><td>8.3</td><td>8.5</td><td>8.7</td><td>8.7</td><td>8.4</td><td>8.5</td><td>8.8</td><td>8.7</td></tr>\n",
       "\t<tr><th scope=row>BRACKEN,J.J.</th><td>7.3</td><td>6.4</td><td>4.3</td><td>6.5</td><td>6</td><td>6.2</td><td>5.7</td><td>5.7</td><td>5.1</td><td>5.3</td><td>5.5</td><td>4.8</td></tr>\n",
       "\t<tr><th scope=row>BURNS,E.B.</th><td>6.2</td><td>8.8</td><td>8.7</td><td>8.5</td><td>7.9</td><td>8</td><td>8.1</td><td>8</td><td>8</td><td>8</td><td>8.6</td><td>8.6</td></tr>\n",
       "</tbody>\n",
       "</table>\n"
      ],
      "text/latex": [
       "\\begin{tabular}{r|llllllllllll}\n",
       "  & CONT & INTG & DMNR & DILG & CFMG & DECI & PREP & FAMI & ORAL & WRIT & PHYS & RTEN\\\\\n",
       "\\hline\n",
       "\tAARONSON,L.H. & 5.7 & 7.9 & 7.7 & 7.3 & 7.1 & 7.4 & 7.1 & 7.1 & 7.1 & 7 & 8.3 & 7.8\\\\\n",
       "\tALEXANDER,J.M. & 6.8 & 8.9 & 8.8 & 8.5 & 7.8 & 8.1 & 8 & 8 & 7.8 & 7.9 & 8.5 & 8.7\\\\\n",
       "\tARMENTANO,A.J. & 7.2 & 8.1 & 7.8 & 7.8 & 7.5 & 7.6 & 7.5 & 7.5 & 7.3 & 7.4 & 7.9 & 7.8\\\\\n",
       "\tBERDON,R.I. & 6.8 & 8.8 & 8.5 & 8.8 & 8.3 & 8.5 & 8.7 & 8.7 & 8.4 & 8.5 & 8.8 & 8.7\\\\\n",
       "\tBRACKEN,J.J. & 7.3 & 6.4 & 4.3 & 6.5 & 6 & 6.2 & 5.7 & 5.7 & 5.1 & 5.3 & 5.5 & 4.8\\\\\n",
       "\tBURNS,E.B. & 6.2 & 8.8 & 8.7 & 8.5 & 7.9 & 8 & 8.1 & 8 & 8 & 8 & 8.6 & 8.6\\\\\n",
       "\\end{tabular}\n"
      ],
      "text/plain": [
       "               CONT INTG DMNR DILG CFMG DECI PREP FAMI ORAL WRIT PHYS RTEN\n",
       "AARONSON,L.H.   5.7  7.9  7.7  7.3  7.1  7.4  7.1  7.1  7.1  7.0  8.3  7.8\n",
       "ALEXANDER,J.M.  6.8  8.9  8.8  8.5  7.8  8.1  8.0  8.0  7.8  7.9  8.5  8.7\n",
       "ARMENTANO,A.J.  7.2  8.1  7.8  7.8  7.5  7.6  7.5  7.5  7.3  7.4  7.9  7.8\n",
       "BERDON,R.I.     6.8  8.8  8.5  8.8  8.3  8.5  8.7  8.7  8.4  8.5  8.8  8.7\n",
       "BRACKEN,J.J.    7.3  6.4  4.3  6.5  6.0  6.2  5.7  5.7  5.1  5.3  5.5  4.8\n",
       "BURNS,E.B.      6.2  8.8  8.7  8.5  7.9  8.0  8.1  8.0  8.0  8.0  8.6  8.6"
      ]
     },
     "execution_count": 2,
     "metadata": {},
     "output_type": "execute_result"
    }
   ],
   "source": [
    "head(USJudgeRatings)"
   ]
  },
  {
   "cell_type": "markdown",
   "metadata": {},
   "source": [
    "The judges were ranked on a scale of 1-10 across a variety of factors: Number of contacts of lawyer with judge, judicial integrity, demeanor, diligence, case flow managing, prompt decisions, preparation for trial, familiarity with law, sound oral rulings, sound written rulings, physical ability, worthy of retention.\n",
    "\n",
    "**A question we can answer:** Which judge had the overall best performance across all categories?\n",
    "\n",
    "This could be accomplished by summing each row across categories. But a quick printout of the means of each row shows us why that may not be a good idea:"
   ]
  },
  {
   "cell_type": "code",
   "execution_count": 3,
   "metadata": {
    "collapsed": false
   },
   "outputs": [
    {
     "data": {
      "text/html": [
       "<dl class=dl-horizontal>\n",
       "\t<dt>CONT</dt>\n",
       "\t\t<dd>7.43720930232558</dd>\n",
       "\t<dt>INTG</dt>\n",
       "\t\t<dd>8.02093023255814</dd>\n",
       "\t<dt>DMNR</dt>\n",
       "\t\t<dd>7.51627906976744</dd>\n",
       "\t<dt>DILG</dt>\n",
       "\t\t<dd>7.69302325581395</dd>\n",
       "\t<dt>CFMG</dt>\n",
       "\t\t<dd>7.47906976744186</dd>\n",
       "\t<dt>DECI</dt>\n",
       "\t\t<dd>7.56511627906977</dd>\n",
       "\t<dt>PREP</dt>\n",
       "\t\t<dd>7.46744186046512</dd>\n",
       "\t<dt>FAMI</dt>\n",
       "\t\t<dd>7.48837209302326</dd>\n",
       "\t<dt>ORAL</dt>\n",
       "\t\t<dd>7.29302325581395</dd>\n",
       "\t<dt>WRIT</dt>\n",
       "\t\t<dd>7.38372093023256</dd>\n",
       "\t<dt>PHYS</dt>\n",
       "\t\t<dd>7.93488372093023</dd>\n",
       "\t<dt>RTEN</dt>\n",
       "\t\t<dd>7.60232558139535</dd>\n",
       "</dl>\n"
      ],
      "text/latex": [
       "\\begin{description*}\n",
       "\\item[CONT] 7.43720930232558\n",
       "\\item[INTG] 8.02093023255814\n",
       "\\item[DMNR] 7.51627906976744\n",
       "\\item[DILG] 7.69302325581395\n",
       "\\item[CFMG] 7.47906976744186\n",
       "\\item[DECI] 7.56511627906977\n",
       "\\item[PREP] 7.46744186046512\n",
       "\\item[FAMI] 7.48837209302326\n",
       "\\item[ORAL] 7.29302325581395\n",
       "\\item[WRIT] 7.38372093023256\n",
       "\\item[PHYS] 7.93488372093023\n",
       "\\item[RTEN] 7.60232558139535\n",
       "\\end{description*}\n"
      ],
      "text/markdown": [
       "CONT\n",
       ":   7.43720930232558INTG\n",
       ":   8.02093023255814DMNR\n",
       ":   7.51627906976744DILG\n",
       ":   7.69302325581395CFMG\n",
       ":   7.47906976744186DECI\n",
       ":   7.56511627906977PREP\n",
       ":   7.46744186046512FAMI\n",
       ":   7.48837209302326ORAL\n",
       ":   7.29302325581395WRIT\n",
       ":   7.38372093023256PHYS\n",
       ":   7.93488372093023RTEN\n",
       ":   7.60232558139535\n",
       "\n"
      ],
      "text/plain": [
       "    CONT     INTG     DMNR     DILG     CFMG     DECI     PREP     FAMI \n",
       "7.437209 8.020930 7.516279 7.693023 7.479070 7.565116 7.467442 7.488372 \n",
       "    ORAL     WRIT     PHYS     RTEN \n",
       "7.293023 7.383721 7.934884 7.602326 "
      ]
     },
     "execution_count": 3,
     "metadata": {},
     "output_type": "execute_result"
    }
   ],
   "source": [
    "colMeans(USJudgeRatings)"
   ]
  },
  {
   "cell_type": "markdown",
   "metadata": {},
   "source": [
    "These are subtle differences, but important. Integrity, on average, was very high among judges (mean=8.02). Getting a 9 in integrity meant a lot less than a 9 in demeanor (mean=7.51) because integrity ratings skewed high.\n",
    "\n",
    "Z-scores take into account the **center** and the **spread** of the data. The result is a number that reflects how many standard deviations from the mean each individual observation was.\n",
    "\n",
    "The formula is: $$\\frac{x-\\mu}{\\sigma}$$ where $x$ is the individual observation, $\\mu$ is the mean and $\\sigma$ is the standard deviation.\n",
    "\n",
    "R will handle all of the math with the `scale` function."
   ]
  },
  {
   "cell_type": "code",
   "execution_count": 4,
   "metadata": {
    "collapsed": false
   },
   "outputs": [],
   "source": [
    "judges.scaled <- scale(USJudgeRatings)"
   ]
  },
  {
   "cell_type": "code",
   "execution_count": 5,
   "metadata": {
    "collapsed": false
   },
   "outputs": [
    {
     "data": {
      "text/html": [
       "<table>\n",
       "<thead><tr><th></th><th scope=col>CONT</th><th scope=col>INTG</th><th scope=col>DMNR</th><th scope=col>DILG</th><th scope=col>CFMG</th><th scope=col>DECI</th><th scope=col>PREP</th><th scope=col>FAMI</th><th scope=col>ORAL</th><th scope=col>WRIT</th><th scope=col>PHYS</th><th scope=col>RTEN</th></tr></thead>\n",
       "<tbody>\n",
       "\t<tr><th scope=row>AARONSON,L.H.</th><td>-1.8463728</td><td>-0.1570227</td><td> 0.1606366</td><td>-0.4362573</td><td>-0.4407223</td><td>-0.2056406</td><td>-0.3854136</td><td>-0.4092492</td><td>-0.1911039</td><td>-0.3992382</td><td> 0.3885971</td><td> 0.1795455</td></tr>\n",
       "\t<tr><th scope=row>ALEXANDER,J.M.</th><td>-0.6772505</td><td> 1.1414345</td><td> 1.1224227</td><td> 0.8957473</td><td> 0.3731269</td><td> 0.6661597</td><td> 0.5586058</td><td> 0.5391307</td><td> 0.5019355</td><td> 0.5371568</td><td> 0.6014593</td><td> 0.9970057</td></tr>\n",
       "\t<tr><th scope=row>ARMENTANO,A.J.</th><td>-0.252115155</td><td> 0.102668710</td><td> 0.248071691</td><td> 0.118744596</td><td> 0.024334361</td><td> 0.043445197</td><td> 0.034150574</td><td> 0.012252971</td><td> 0.006907369</td><td> 0.016937378</td><td>-0.037127115</td><td> 0.179545514</td></tr>\n",
       "\t<tr><th scope=row>BERDON,R.I.</th><td>-0.6772505</td><td> 1.0115888</td><td> 0.8601174</td><td> 1.2287484</td><td> 0.9544477</td><td> 1.1643313</td><td> 1.2928432</td><td> 1.2767596</td><td> 1.0959692</td><td> 1.1614202</td><td> 0.9207525</td><td> 0.9970057</td></tr>\n",
       "\t<tr><th scope=row>BRACKEN,J.J.</th><td>-0.1458313</td><td>-2.1047086</td><td>-2.8121570</td><td>-1.3242604</td><td>-1.7196282</td><td>-1.7001554</td><td>-1.8538883</td><td>-1.8845069</td><td>-2.1712162</td><td>-2.1679844</td><td>-2.5914726</td><td>-2.5453217</td></tr>\n",
       "\t<tr><th scope=row>BURNS,E.B.</th><td>-1.3149536</td><td> 1.0115888</td><td> 1.0349876</td><td> 0.8957473</td><td> 0.4893910</td><td> 0.5416168</td><td> 0.6634969</td><td> 0.5391307</td><td> 0.6999467</td><td> 0.6412007</td><td> 0.7078903</td><td> 0.9061768</td></tr>\n",
       "</tbody>\n",
       "</table>\n"
      ],
      "text/latex": [
       "\\begin{tabular}{r|llllllllllll}\n",
       "  & CONT & INTG & DMNR & DILG & CFMG & DECI & PREP & FAMI & ORAL & WRIT & PHYS & RTEN\\\\\n",
       "\\hline\n",
       "\tAARONSON,L.H. & -1.8463728 & -0.1570227 &  0.1606366 & -0.4362573 & -0.4407223 & -0.2056406 & -0.3854136 & -0.4092492 & -0.1911039 & -0.3992382 &  0.3885971 &  0.1795455\\\\\n",
       "\tALEXANDER,J.M. & -0.6772505 &  1.1414345 &  1.1224227 &  0.8957473 &  0.3731269 &  0.6661597 &  0.5586058 &  0.5391307 &  0.5019355 &  0.5371568 &  0.6014593 &  0.9970057\\\\\n",
       "\tARMENTANO,A.J. & -0.252115155 &  0.102668710 &  0.248071691 &  0.118744596 &  0.024334361 &  0.043445197 &  0.034150574 &  0.012252971 &  0.006907369 &  0.016937378 & -0.037127115 &  0.179545514\\\\\n",
       "\tBERDON,R.I. & -0.6772505 &  1.0115888 &  0.8601174 &  1.2287484 &  0.9544477 &  1.1643313 &  1.2928432 &  1.2767596 &  1.0959692 &  1.1614202 &  0.9207525 &  0.9970057\\\\\n",
       "\tBRACKEN,J.J. & -0.1458313 & -2.1047086 & -2.8121570 & -1.3242604 & -1.7196282 & -1.7001554 & -1.8538883 & -1.8845069 & -2.1712162 & -2.1679844 & -2.5914726 & -2.5453217\\\\\n",
       "\tBURNS,E.B. & -1.3149536 &  1.0115888 &  1.0349876 &  0.8957473 &  0.4893910 &  0.5416168 &  0.6634969 &  0.5391307 &  0.6999467 &  0.6412007 &  0.7078903 &  0.9061768\\\\\n",
       "\\end{tabular}\n"
      ],
      "text/markdown": [
       "1. -1.84637275143971\n",
       "2. -0.677250513914968\n",
       "3. -0.252115154815061\n",
       "4. -0.677250513914968\n",
       "5. -0.145831315040085\n",
       "6. -1.31495355256483\n",
       "7. -0.157022733477861\n",
       "8. 1.14143448566599\n",
       "9. 0.102668710350909\n",
       "10. 1.01158876375161\n",
       "11. -2.10470856219364\n",
       "12. 1.01158876375161\n",
       "13. 0.160636587090106\n",
       "14. 1.12242273511061\n",
       "15. 0.248071691455606\n",
       "16. 0.860117422014109\n",
       "17. -2.81215696133691\n",
       "18. 1.03498763074511\n",
       "19. -0.436257319116304\n",
       "20. 0.895747276528742\n",
       "21. 0.118744595735799\n",
       "22. 1.22874842544\n",
       "23. -1.32426038287967\n",
       "24. 0.895747276528742\n",
       "25. -0.440722315236665\n",
       "26. 0.373126868114477\n",
       "27. 0.0243343609639879\n",
       "28. 0.954447713365294\n",
       "29. -1.71962817478846\n",
       "30. 0.489391037164641\n",
       "31. -0.205640597633326\n",
       "32. 0.666159682474156\n",
       "33. 0.0434451966830972\n",
       "34. 1.164331271107\n",
       "35. -1.70015536353187\n",
       "36. 0.541616785315945\n",
       "37. -0.385413622534758\n",
       "38. 0.558605820002909\n",
       "39. 0.0341505741486497\n",
       "40. 1.29284316419887\n",
       "41. -1.85388831092668\n",
       "42. 0.66349686917376\n",
       "43. -0.409249224613081\n",
       "44. 0.539130715059148\n",
       "45. 0.0122529707967988\n",
       "46. 1.27675955702644\n",
       "47. -1.88450690854766\n",
       "48. 0.539130715059148\n",
       "49. -0.191103867279433\n",
       "50. 0.501935458637544\n",
       "51. 0.00690736869684643\n",
       "52. 1.09596916656638\n",
       "53. -2.17121622704222\n",
       "54. 0.699946694613823\n",
       "55. -0.399238192176136\n",
       "56. 0.537156840382438\n",
       "57. 0.0169373778498973\n",
       "58. 1.16142019542149\n",
       "59. -2.16798436478677\n",
       "60. 0.641200732888946\n",
       "61. 0.388597138922907\n",
       "62. 0.601459265976218\n",
       "63. -0.0371271151837173\n",
       "64. 0.920752456556187\n",
       "65. -2.59147263982346\n",
       "66. 0.707890329502874\n",
       "67. 0.179545514055831\n",
       "68. 0.997005678051202\n",
       "69. 0.179545514055831\n",
       "70. 0.997005678051202\n",
       "71. -2.54532169926207\n",
       "72. 0.906176770940606\n",
       "\n",
       "\n"
      ],
      "text/plain": [
       "                     CONT       INTG       DMNR       DILG        CFMG\n",
       "AARONSON,L.H.  -1.8463728 -0.1570227  0.1606366 -0.4362573 -0.44072232\n",
       "ALEXANDER,J.M. -0.6772505  1.1414345  1.1224227  0.8957473  0.37312687\n",
       "ARMENTANO,A.J. -0.2521152  0.1026687  0.2480717  0.1187446  0.02433436\n",
       "BERDON,R.I.    -0.6772505  1.0115888  0.8601174  1.2287484  0.95444771\n",
       "BRACKEN,J.J.   -0.1458313 -2.1047086 -2.8121570 -1.3242604 -1.71962817\n",
       "BURNS,E.B.     -1.3149536  1.0115888  1.0349876  0.8957473  0.48939104\n",
       "                     DECI        PREP        FAMI         ORAL        WRIT\n",
       "AARONSON,L.H.  -0.2056406 -0.38541362 -0.40924922 -0.191103867 -0.39923819\n",
       "ALEXANDER,J.M.  0.6661597  0.55860582  0.53913072  0.501935459  0.53715684\n",
       "ARMENTANO,A.J.  0.0434452  0.03415057  0.01225297  0.006907369  0.01693738\n",
       "BERDON,R.I.     1.1643313  1.29284316  1.27675956  1.095969167  1.16142020\n",
       "BRACKEN,J.J.   -1.7001554 -1.85388831 -1.88450691 -2.171216227 -2.16798436\n",
       "BURNS,E.B.      0.5416168  0.66349687  0.53913072  0.699946695  0.64120073\n",
       "                      PHYS       RTEN\n",
       "AARONSON,L.H.   0.38859714  0.1795455\n",
       "ALEXANDER,J.M.  0.60145927  0.9970057\n",
       "ARMENTANO,A.J. -0.03712712  0.1795455\n",
       "BERDON,R.I.     0.92075246  0.9970057\n",
       "BRACKEN,J.J.   -2.59147264 -2.5453217\n",
       "BURNS,E.B.      0.70789033  0.9061768"
      ]
     },
     "execution_count": 5,
     "metadata": {},
     "output_type": "execute_result"
    }
   ],
   "source": [
    "head(judges.scaled)"
   ]
  },
  {
   "cell_type": "markdown",
   "metadata": {},
   "source": [
    "Our new data frame has the z-scores, which correspond to where the raw score would be situated on a normal curve with the mean and standard deviation of that column."
   ]
  },
  {
   "cell_type": "markdown",
   "metadata": {},
   "source": [
    "![](https://upload.wikimedia.org/wikipedia/commons/thumb/b/bb/Normal_distribution_and_scales.gif/800px-Normal_distribution_and_scales.gif)"
   ]
  },
  {
   "cell_type": "markdown",
   "metadata": {},
   "source": [
    "Summing the z-scores for a given judge will tell us how many standard deviations above or below the mean he or she was in the aggregate:"
   ]
  },
  {
   "cell_type": "code",
   "execution_count": 6,
   "metadata": {
    "collapsed": false
   },
   "outputs": [
    {
     "data": {
      "text/html": [
       "<dl class=dl-horizontal>\n",
       "\t<dt>CALLAHAN,R.J.</dt>\n",
       "\t\t<dd>16.3216930867883</dd>\n",
       "\t<dt>RUBINOW,J.E.</dt>\n",
       "\t\t<dd>15.441840604189</dd>\n",
       "\t<dt>NARUK,H.J.</dt>\n",
       "\t\t<dd>15.4274290138873</dd>\n",
       "\t<dt>DALY,J.J.</dt>\n",
       "\t\t<dd>11.9955598750556</dd>\n",
       "\t<dt>SHEA,J.F.JR.</dt>\n",
       "\t\t<dd>11.7818191381066</dd>\n",
       "\t<dt>O'SULLIVAN,T.J.</dt>\n",
       "\t\t<dd>11.6021470794554</dd>\n",
       "</dl>\n"
      ],
      "text/latex": [
       "\\begin{description*}\n",
       "\\item[CALLAHAN,R.J.] 16.3216930867883\n",
       "\\item[RUBINOW,J.E.] 15.441840604189\n",
       "\\item[NARUK,H.J.] 15.4274290138873\n",
       "\\item[DALY,J.J.] 11.9955598750556\n",
       "\\item[SHEA,J.F.JR.] 11.7818191381066\n",
       "\\item[O'SULLIVAN,T.J.] 11.6021470794554\n",
       "\\end{description*}\n"
      ],
      "text/markdown": [
       "CALLAHAN,R.J.\n",
       ":   16.3216930867883RUBINOW,J.E.\n",
       ":   15.441840604189NARUK,H.J.\n",
       ":   15.4274290138873DALY,J.J.\n",
       ":   11.9955598750556SHEA,J.F.JR.\n",
       ":   11.7818191381066O'SULLIVAN,T.J.\n",
       ":   11.6021470794554\n",
       "\n"
      ],
      "text/plain": [
       "  CALLAHAN,R.J.    RUBINOW,J.E.      NARUK,H.J.       DALY,J.J.    SHEA,J.F.JR. \n",
       "       16.32169        15.44184        15.42743        11.99556        11.78182 \n",
       "O'SULLIVAN,T.J. \n",
       "       11.60215 "
      ]
     },
     "execution_count": 6,
     "metadata": {},
     "output_type": "execute_result"
    }
   ],
   "source": [
    "head(sort(rowSums(judges.scaled), decreasing = TRUE))"
   ]
  },
  {
   "cell_type": "markdown",
   "metadata": {},
   "source": [
    "Z-values are also valuable tools for ranking proportions, which are sometimes tricky to sort because of varying denominators. At the L.A. Times, we used a z-value to [identify census tracts where crowded housing was a problem](https://github.com/ryanvmenezes/notebooks/blob/master/Z-values.ipynb)."
   ]
  },
  {
   "cell_type": "markdown",
   "metadata": {},
   "source": [
    "# Basic comparisons of groups\n",
    "\n",
    "Sometimes simpler statistics are all you need to find a great story."
   ]
  },
  {
   "cell_type": "markdown",
   "metadata": {},
   "source": [
    "## T-test for comparison of two means\n",
    "\n",
    "**When could I use this?** This is useful if two groups have different means (averages), and you want to make sure the difference is statistically significant.\n",
    "\n",
    "The below example uses data on language scores from students in the Netherlands."
   ]
  },
  {
   "cell_type": "code",
   "execution_count": 7,
   "metadata": {
    "collapsed": false,
    "scrolled": true
   },
   "outputs": [
    {
     "data": {
      "text/html": [
       "<table>\n",
       "<thead><tr><th></th><th scope=col>schoolNR</th><th scope=col>pupilNR</th><th scope=col>IQ.verb</th><th scope=col>IQ.perf</th><th scope=col>sex</th><th scope=col>Minority</th><th scope=col>repeatgr</th><th scope=col>aritPRET</th><th scope=col>classNR</th><th scope=col>aritPOST</th><th scope=col>ellip.h</th><th scope=col>currmeet</th><th scope=col>mixedgra</th><th scope=col>percmino</th><th scope=col>aritdiff</th><th scope=col>homework</th><th scope=col>classsiz</th><th scope=col>groupsiz</th><th scope=col>IQ.ver.cen</th><th scope=col>avg.IQ.ver.cen</th><th scope=col>grpSiz.cen</th></tr></thead>\n",
       "<tbody>\n",
       "\t<tr><th scope=row>1</th><td>1</td><td>17001</td><td>15</td><td>12.33333</td><td>0</td><td>N</td><td>0</td><td>14</td><td>180</td><td>24</td><td>⋯</td><td>1.83333</td><td>0</td><td>60</td><td>12</td><td>2.33333</td><td>29</td><td>29</td><td>3.165938</td><td>-1.514062</td><td>5.899432</td></tr>\n",
       "\t<tr><th scope=row>2</th><td>1</td><td>17002</td><td>14.5</td><td>10</td><td>0</td><td>Y</td><td>0</td><td>12</td><td>180</td><td>19</td><td>⋯</td><td>1.83333</td><td>0</td><td>60</td><td>12</td><td>2.33333</td><td>29</td><td>29</td><td>2.665938</td><td>-1.514062</td><td>5.899432</td></tr>\n",
       "\t<tr><th scope=row>3</th><td>1</td><td>17003</td><td>9.5</td><td>11</td><td>0</td><td>N</td><td>0</td><td>10</td><td>180</td><td>24</td><td>⋯</td><td>1.83333</td><td>0</td><td>60</td><td>12</td><td>2.33333</td><td>29</td><td>29</td><td>-2.334062</td><td>-1.514062</td><td>5.899432</td></tr>\n",
       "\t<tr><th scope=row>4</th><td>1</td><td>17004</td><td>11</td><td>10</td><td>0</td><td>N</td><td>0</td><td>13</td><td>180</td><td>26</td><td>⋯</td><td>1.83333</td><td>0</td><td>60</td><td>12</td><td>2.33333</td><td>29</td><td>29</td><td>-0.8340621</td><td>-1.514062</td><td>5.899432</td></tr>\n",
       "\t<tr><th scope=row>5</th><td>1</td><td>17005</td><td>8</td><td>6.66667</td><td>0</td><td>N</td><td>0</td><td>8</td><td>180</td><td>9</td><td>⋯</td><td>1.83333</td><td>0</td><td>60</td><td>12</td><td>2.33333</td><td>29</td><td>29</td><td>-3.834062</td><td>-1.514062</td><td>5.899432</td></tr>\n",
       "\t<tr><th scope=row>6</th><td>1</td><td>17006</td><td>9.5</td><td>9</td><td>0</td><td>Y</td><td>0</td><td>8</td><td>180</td><td>13</td><td>⋯</td><td>1.83333</td><td>0</td><td>60</td><td>12</td><td>2.33333</td><td>29</td><td>29</td><td>-2.334062</td><td>-1.514062</td><td>5.899432</td></tr>\n",
       "</tbody>\n",
       "</table>\n"
      ],
      "text/latex": [
       "\\begin{tabular}{r|llllllllllllllllllllllllllll}\n",
       "  & schoolNR & pupilNR & IQ.verb & IQ.perf & sex & Minority & repeatgr & aritPRET & classNR & aritPOST & ellip.h & currmeet & mixedgra & percmino & aritdiff & homework & classsiz & groupsiz & IQ.ver.cen & avg.IQ.ver.cen & grpSiz.cen\\\\\n",
       "\\hline\n",
       "\t1 & 1 & 17001 & 15 & 12.33333 & 0 & N & 0 & 14 & 180 & 24 & ⋯ & 1.83333 & 0 & 60 & 12 & 2.33333 & 29 & 29 & 3.165938 & -1.514062 & 5.899432\\\\\n",
       "\t2 & 1 & 17002 & 14.5 & 10 & 0 & Y & 0 & 12 & 180 & 19 & ⋯ & 1.83333 & 0 & 60 & 12 & 2.33333 & 29 & 29 & 2.665938 & -1.514062 & 5.899432\\\\\n",
       "\t3 & 1 & 17003 & 9.5 & 11 & 0 & N & 0 & 10 & 180 & 24 & ⋯ & 1.83333 & 0 & 60 & 12 & 2.33333 & 29 & 29 & -2.334062 & -1.514062 & 5.899432\\\\\n",
       "\t4 & 1 & 17004 & 11 & 10 & 0 & N & 0 & 13 & 180 & 26 & ⋯ & 1.83333 & 0 & 60 & 12 & 2.33333 & 29 & 29 & -0.8340621 & -1.514062 & 5.899432\\\\\n",
       "\t5 & 1 & 17005 & 8 & 6.66667 & 0 & N & 0 & 8 & 180 & 9 & ⋯ & 1.83333 & 0 & 60 & 12 & 2.33333 & 29 & 29 & -3.834062 & -1.514062 & 5.899432\\\\\n",
       "\t6 & 1 & 17006 & 9.5 & 9 & 0 & Y & 0 & 8 & 180 & 13 & ⋯ & 1.83333 & 0 & 60 & 12 & 2.33333 & 29 & 29 & -2.334062 & -1.514062 & 5.899432\\\\\n",
       "\\end{tabular}\n"
      ],
      "text/plain": [
       "  schoolNR pupilNR IQ.verb  IQ.perf sex Minority repeatgr aritPRET classNR\n",
       "1        1   17001    15.0 12.33333   0        N        0       14     180\n",
       "2        1   17002    14.5 10.00000   0        Y        0       12     180\n",
       "3        1   17003     9.5 11.00000   0        N        0       10     180\n",
       "4        1   17004    11.0 10.00000   0        N        0       13     180\n",
       "5        1   17005     8.0  6.66667   0        N        0        8     180\n",
       "6        1   17006     9.5  9.00000   0        Y        0        8     180\n",
       "  aritPOST langPRET langPOST ses denomina schoolSES satiprin natitest meetings\n",
       "1       24       36       46  23        1        11  3.42857        0      1.7\n",
       "2       19       36       45  10        1        11  3.42857        0      1.7\n",
       "3       24       33       33  15        1        11  3.42857        0      1.7\n",
       "4       26       29       46  23        1        11  3.42857        0      1.7\n",
       "5        9       19       20  10        1        11  3.42857        0      1.7\n",
       "6       13       22       30  10        1        11  3.42857        0      1.7\n",
       "  currmeet mixedgra percmino aritdiff homework classsiz groupsiz IQ.ver.cen\n",
       "1  1.83333        0       60       12  2.33333       29       29  3.1659379\n",
       "2  1.83333        0       60       12  2.33333       29       29  2.6659379\n",
       "3  1.83333        0       60       12  2.33333       29       29 -2.3340621\n",
       "4  1.83333        0       60       12  2.33333       29       29 -0.8340621\n",
       "5  1.83333        0       60       12  2.33333       29       29 -3.8340621\n",
       "6  1.83333        0       60       12  2.33333       29       29 -2.3340621\n",
       "  avg.IQ.ver.cen grpSiz.cen\n",
       "1      -1.514062   5.899432\n",
       "2      -1.514062   5.899432\n",
       "3      -1.514062   5.899432\n",
       "4      -1.514062   5.899432\n",
       "5      -1.514062   5.899432\n",
       "6      -1.514062   5.899432"
      ]
     },
     "execution_count": 7,
     "metadata": {},
     "output_type": "execute_result"
    }
   ],
   "source": [
    "scores <- data.frame(bdf)\n",
    "head(scores)"
   ]
  },
  {
   "cell_type": "markdown",
   "metadata": {},
   "source": [
    "**A question we can answer:** Does being in a large class have an impact on the students' language test scores? \n",
    "\n",
    "First, let's create a binary variable indicating if a class is large or not."
   ]
  },
  {
   "cell_type": "code",
   "execution_count": 8,
   "metadata": {
    "collapsed": false
   },
   "outputs": [
    {
     "data": {
      "text/html": [
       "<table>\n",
       "<thead><tr><th></th><th scope=col>langPOST</th><th scope=col>bigclass</th></tr></thead>\n",
       "<tbody>\n",
       "\t<tr><th scope=row>1</th><td>46</td><td>1</td></tr>\n",
       "\t<tr><th scope=row>2</th><td>45</td><td>1</td></tr>\n",
       "\t<tr><th scope=row>3</th><td>33</td><td>1</td></tr>\n",
       "\t<tr><th scope=row>4</th><td>46</td><td>1</td></tr>\n",
       "\t<tr><th scope=row>5</th><td>20</td><td>1</td></tr>\n",
       "\t<tr><th scope=row>6</th><td>30</td><td>1</td></tr>\n",
       "</tbody>\n",
       "</table>\n"
      ],
      "text/latex": [
       "\\begin{tabular}{r|ll}\n",
       "  & langPOST & bigclass\\\\\n",
       "\\hline\n",
       "\t1 & 46 & 1\\\\\n",
       "\t2 & 45 & 1\\\\\n",
       "\t3 & 33 & 1\\\\\n",
       "\t4 & 46 & 1\\\\\n",
       "\t5 & 20 & 1\\\\\n",
       "\t6 & 30 & 1\\\\\n",
       "\\end{tabular}\n"
      ],
      "text/plain": [
       "  langPOST bigclass\n",
       "1       46        1\n",
       "2       45        1\n",
       "3       33        1\n",
       "4       46        1\n",
       "5       20        1\n",
       "6       30        1"
      ]
     },
     "execution_count": 8,
     "metadata": {},
     "output_type": "execute_result"
    }
   ],
   "source": [
    "bigclass <- ifelse(scores$classsiz>=25, 1, 0) # marking a \"large\" class if it has 25+ students\n",
    "scores <- cbind(scores, bigclass) # adding the column back to the data frame\n",
    "head(scores[,c(\"langPOST\", \"bigclass\")])"
   ]
  },
  {
   "cell_type": "markdown",
   "metadata": {},
   "source": [
    "Now that we have one binary variable (this gives us two categories to compare), and one continuous variable (language scores) we can compare means. First, let's just look to see if the means are different."
   ]
  },
  {
   "cell_type": "code",
   "execution_count": 9,
   "metadata": {
    "collapsed": false
   },
   "outputs": [
    {
     "data": {
      "text/html": [
       "<dl class=dl-horizontal>\n",
       "\t<dt>0</dt>\n",
       "\t\t<dd>41.1153846153846</dd>\n",
       "\t<dt>1</dt>\n",
       "\t\t<dd>40.8460534898891</dd>\n",
       "</dl>\n"
      ],
      "text/latex": [
       "\\begin{description*}\n",
       "\\item[0] 41.1153846153846\n",
       "\\item[1] 40.8460534898891\n",
       "\\end{description*}\n"
      ],
      "text/markdown": [
       "0\n",
       ":   41.11538461538461\n",
       ":   40.8460534898891\n",
       "\n"
      ],
      "text/plain": [
       "       0        1 \n",
       "41.11538 40.84605 "
      ]
     },
     "execution_count": 9,
     "metadata": {},
     "output_type": "execute_result"
    }
   ],
   "source": [
    "tapply(scores$langPOST, scores$bigclass, mean)"
   ]
  },
  {
   "cell_type": "markdown",
   "metadata": {},
   "source": [
    "So, preliminarily, it looks like we have an expected result. Children in smaller classes (bigclass=0) have higher test scores than children in larger classes. But is that result statistically significant? For that we will want to run a t-test. Note that this test defaults to a 95% confidence interval, which is standard. It also defaults to a Welch t-test, which is a good thing because it does not require that the two groups have the same variance.\n",
    "\n",
    "This line of code uses the `response_variable ~ predictor_variable` notation that will be repeated throughout."
   ]
  },
  {
   "cell_type": "code",
   "execution_count": 10,
   "metadata": {
    "collapsed": false,
    "scrolled": true
   },
   "outputs": [
    {
     "data": {
      "text/plain": [
       "\n",
       "\tWelch Two Sample t-test\n",
       "\n",
       "data:  langPOST by bigclass\n",
       "t = 0.68551, df = 1576, p-value = 0.4931\n",
       "alternative hypothesis: true difference in means is not equal to 0\n",
       "95 percent confidence interval:\n",
       " -0.5013166  1.0399788\n",
       "sample estimates:\n",
       "mean in group 0 mean in group 1 \n",
       "       41.11538        40.84605 \n"
      ]
     },
     "execution_count": 10,
     "metadata": {},
     "output_type": "execute_result"
    }
   ],
   "source": [
    "t.test(langPOST ~ bigclass, data=scores)"
   ]
  },
  {
   "cell_type": "markdown",
   "metadata": {},
   "source": [
    "#### How to interpret this result\n",
    "\n",
    "In order to conclude that the means for the two groups are significantly different at 95% confidence, you need a p-value less than .05. In this case, the difference in means is nowhere near significant.\n",
    "\n",
    "Let's see what a significant result looks like. This time comparing the sex variable with test score."
   ]
  },
  {
   "cell_type": "code",
   "execution_count": 11,
   "metadata": {
    "collapsed": false
   },
   "outputs": [
    {
     "data": {
      "text/plain": [
       "\n",
       "\tWelch Two Sample t-test\n",
       "\n",
       "data:  langPOST by sex\n",
       "t = -7.1355, df = 2283.3, p-value = 1.289e-12\n",
       "alternative hypothesis: true difference in means is not equal to 0\n",
       "95 percent confidence interval:\n",
       " -3.382810 -1.924295\n",
       "sample estimates:\n",
       "mean in group 0 mean in group 1 \n",
       "       39.66667        42.32022 \n"
      ]
     },
     "execution_count": 11,
     "metadata": {},
     "output_type": "execute_result"
    }
   ],
   "source": [
    "t.test(langPOST ~ sex, data=scores)"
   ]
  },
  {
   "cell_type": "markdown",
   "metadata": {},
   "source": [
    "## ANOVA (Analysis of Variance) for comparison of multiple means\n",
    "\n",
    "**When could I use this?** If we want to compare the means of multiple groups, we need a special procedure. Simply comparing means pairwise means we will likely not apply a stringent enough standard for significance. Let's use another example from our test result data. \n",
    "\n",
    "**A question we can answer:** Do public and different types of private school have significantly different average test scores?"
   ]
  },
  {
   "cell_type": "markdown",
   "metadata": {},
   "source": [
    "Here's a breakdown of the 'denomina' variable from our table:\n",
    "\n",
    "1=Public school  \n",
    "2=Protestant private school  \n",
    "3=Catholic private school  \n",
    "4=non-denominational private school\n",
    "\n",
    " So, for clarity's sake, let's recode the variable."
   ]
  },
  {
   "cell_type": "code",
   "execution_count": 12,
   "metadata": {
    "collapsed": true
   },
   "outputs": [],
   "source": [
    "denom <- factor(scores$denomina, labels=(c(\"public\",\"Protestant\",\"Catholic\",\"non-denom\")))"
   ]
  },
  {
   "cell_type": "code",
   "execution_count": 13,
   "metadata": {
    "collapsed": false,
    "scrolled": true
   },
   "outputs": [
    {
     "data": {
      "text/html": [
       "<dl class=dl-horizontal>\n",
       "\t<dt>public</dt>\n",
       "\t\t<dd>39.41</dd>\n",
       "\t<dt>Protestant</dt>\n",
       "\t\t<dd>42.22</dd>\n",
       "\t<dt>Catholic</dt>\n",
       "\t\t<dd>40.62</dd>\n",
       "\t<dt>non-denom</dt>\n",
       "\t\t<dd>44.65</dd>\n",
       "</dl>\n"
      ],
      "text/latex": [
       "\\begin{description*}\n",
       "\\item[public] 39.41\n",
       "\\item[Protestant] 42.22\n",
       "\\item[Catholic] 40.62\n",
       "\\item[non-denom] 44.65\n",
       "\\end{description*}\n"
      ],
      "text/markdown": [
       "public\n",
       ":   39.41Protestant\n",
       ":   42.22Catholic\n",
       ":   40.62non-denom\n",
       ":   44.65\n",
       "\n"
      ],
      "text/plain": [
       "    public Protestant   Catholic  non-denom \n",
       "     39.41      42.22      40.62      44.65 "
      ]
     },
     "execution_count": 13,
     "metadata": {},
     "output_type": "execute_result"
    }
   ],
   "source": [
    "round(tapply(scores$langPOST, denom, mean), digits=2)"
   ]
  },
  {
   "cell_type": "markdown",
   "metadata": {},
   "source": [
    "Okay - so now we see if the differences are significant."
   ]
  },
  {
   "cell_type": "code",
   "execution_count": 14,
   "metadata": {
    "collapsed": false
   },
   "outputs": [
    {
     "data": {
      "text/plain": [
       "                   Df Sum Sq Mean Sq F value   Pr(>F)    \n",
       "factor(denomina)    3   4467  1489.0    18.8 4.82e-12 ***\n",
       "Residuals        2283 180850    79.2                     \n",
       "---\n",
       "Signif. codes:  0 ‘***’ 0.001 ‘**’ 0.01 ‘*’ 0.05 ‘.’ 0.1 ‘ ’ 1"
      ]
     },
     "execution_count": 14,
     "metadata": {},
     "output_type": "execute_result"
    }
   ],
   "source": [
    "aov.denom <- aov(langPOST ~ factor(denomina), data=scores)\n",
    "summary(aov.denom)"
   ]
  },
  {
   "cell_type": "markdown",
   "metadata": {},
   "source": [
    "Here we are conducting an F-test, instead of a t-test. The key value here is the `Pr(>F)` value, which we can see is very small. R also helps you out by giving you a key for significance level. Because we have three asterisks, that means our result is significant at the 99.9% confidence level.\n",
    "\n",
    "But what this tells us is just that _one_ of the means is different than the others. It doesn't tell us how many or which ones. For that we need to do an additional _post hoc_ test."
   ]
  },
  {
   "cell_type": "code",
   "execution_count": 15,
   "metadata": {
    "collapsed": false
   },
   "outputs": [
    {
     "data": {
      "text/plain": [
       "\n",
       "\tPairwise comparisons using t tests with pooled SD \n",
       "\n",
       "data:  scores$langPOST and denom \n",
       "\n",
       "           public  Protestant Catholic\n",
       "Protestant 2.5e-09 -          -       \n",
       "Catholic   0.0244  0.0022     -       \n",
       "non-denom  5.1e-07 0.0244     0.0002  \n",
       "\n",
       "P value adjustment method: holm "
      ]
     },
     "execution_count": 15,
     "metadata": {},
     "output_type": "execute_result"
    }
   ],
   "source": [
    "pairwise.t.test(scores$langPOST, denom, p.adj=\"holm\")"
   ]
  },
  {
   "cell_type": "markdown",
   "metadata": {},
   "source": [
    "What this shows us is that each of the means are significantly different from each other. Reminder: because we are talking 95% confidence, we want each of the p-values reported in the table to be less than .05."
   ]
  },
  {
   "cell_type": "markdown",
   "metadata": {},
   "source": [
    "# Regression\n",
    "\n",
    "You might have heard the phrase \"correlation doesn't equal causation.\" If you're looking to establish causation, turn to regression, which helps us discern how much particular variables affect a response, and if that predicting power is significant.\n",
    "\n",
    "There are many different types of regression, but we'll cover two types: ordinary least squares and logistic."
   ]
  },
  {
   "cell_type": "markdown",
   "metadata": {},
   "source": [
    "## Ordinary least squares (OLS) regression\n",
    "\n",
    "**When could I use this?** Use OLS regression if the variable you're trying to predict is a continuous, numerical variable.\n",
    "\n",
    "If you're trying to regress one predictor variable on a response variable, this is commonly called *simple linear regression*. With multiple predictors, this process is referred to as *multivariate regression*.\n",
    "\n",
    "We'll start with a simple linear example.\n",
    "\n",
    "**A question we could answer:** Do states with more high-school graduates have higher life expectancies?\n",
    "\n",
    "For this example, we'll use the [state.x77](https://stat.ethz.ch/R-manual/R-devel/library/datasets/html/state.html) data set, a collection of figures about the 50 U.S. states from the 1970s."
   ]
  },
  {
   "cell_type": "code",
   "execution_count": 16,
   "metadata": {
    "collapsed": false
   },
   "outputs": [
    {
     "data": {
      "text/html": [
       "<table>\n",
       "<thead><tr><th></th><th scope=col>Population</th><th scope=col>Income</th><th scope=col>Illiteracy</th><th scope=col>Life.Exp</th><th scope=col>Murder</th><th scope=col>HS.Grad</th><th scope=col>Frost</th><th scope=col>Area</th></tr></thead>\n",
       "<tbody>\n",
       "\t<tr><th scope=row>Alabama</th><td>3615</td><td>3624</td><td>2.1</td><td>69.05</td><td>15.1</td><td>41.3</td><td>20</td><td>50708</td></tr>\n",
       "\t<tr><th scope=row>Alaska</th><td>365</td><td>6315</td><td>1.5</td><td>69.31</td><td>11.3</td><td>66.7</td><td>152</td><td>566432</td></tr>\n",
       "\t<tr><th scope=row>Arizona</th><td>2212</td><td>4530</td><td>1.8</td><td>70.55</td><td>7.8</td><td>58.1</td><td>15</td><td>113417</td></tr>\n",
       "\t<tr><th scope=row>Arkansas</th><td>2110</td><td>3378</td><td>1.9</td><td>70.66</td><td>10.1</td><td>39.9</td><td>65</td><td>51945</td></tr>\n",
       "\t<tr><th scope=row>California</th><td>21198</td><td>5114</td><td>1.1</td><td>71.71</td><td>10.3</td><td>62.6</td><td>20</td><td>156361</td></tr>\n",
       "\t<tr><th scope=row>Colorado</th><td>2541</td><td>4884</td><td>0.7</td><td>72.06</td><td>6.8</td><td>63.9</td><td>166</td><td>103766</td></tr>\n",
       "</tbody>\n",
       "</table>\n"
      ],
      "text/latex": [
       "\\begin{tabular}{r|llllllll}\n",
       "  & Population & Income & Illiteracy & Life.Exp & Murder & HS.Grad & Frost & Area\\\\\n",
       "\\hline\n",
       "\tAlabama & 3615 & 3624 & 2.1 & 69.05 & 15.1 & 41.3 & 20 & 50708\\\\\n",
       "\tAlaska & 365 & 6315 & 1.5 & 69.31 & 11.3 & 66.7 & 152 & 566432\\\\\n",
       "\tArizona & 2212 & 4530 & 1.8 & 70.55 & 7.8 & 58.1 & 15 & 113417\\\\\n",
       "\tArkansas & 2110 & 3378 & 1.9 & 70.66 & 10.1 & 39.9 & 65 & 51945\\\\\n",
       "\tCalifornia & 21198 & 5114 & 1.1 & 71.71 & 10.3 & 62.6 & 20 & 156361\\\\\n",
       "\tColorado & 2541 & 4884 & 0.7 & 72.06 & 6.8 & 63.9 & 166 & 103766\\\\\n",
       "\\end{tabular}\n"
      ],
      "text/plain": [
       "           Population Income Illiteracy Life.Exp Murder HS.Grad Frost   Area\n",
       "Alabama          3615   3624        2.1    69.05   15.1    41.3    20  50708\n",
       "Alaska            365   6315        1.5    69.31   11.3    66.7   152 566432\n",
       "Arizona          2212   4530        1.8    70.55    7.8    58.1    15 113417\n",
       "Arkansas         2110   3378        1.9    70.66   10.1    39.9    65  51945\n",
       "California      21198   5114        1.1    71.71   10.3    62.6    20 156361\n",
       "Colorado         2541   4884        0.7    72.06    6.8    63.9   166 103766"
      ]
     },
     "execution_count": 16,
     "metadata": {},
     "output_type": "execute_result"
    }
   ],
   "source": [
    "statedata <- data.frame(state.x77)\n",
    "head(statedata)"
   ]
  },
  {
   "cell_type": "markdown",
   "metadata": {},
   "source": [
    "While correlation does not prove causation, the absence of correlation likely means there is no causation. Put another way, you should show your variables are at least associated before moving on with a regression. We can quickly plot the relationship between our two variables of interest as a quick diagnostic."
   ]
  },
  {
   "cell_type": "code",
   "execution_count": 17,
   "metadata": {
    "collapsed": false
   },
   "outputs": [
    {
     "data": {
      "application/pdf": "[encoded data removed]",
      "image/jpeg": "[encoded data removed]",
      "image/png": "[encoded data removed]",
      "image/svg+xml": [
       "<?xml version=\"1.0\" encoding=\"UTF-8\"?>\n",
       "<svg xmlns=\"http://www.w3.org/2000/svg\" xmlns:xlink=\"http://www.w3.org/1999/xlink\" width=\"504pt\" height=\"504pt\" viewBox=\"0 0 504 504\" version=\"1.1\">\n",
       "<defs>\n",
       "<g>\n",
       "<symbol overflow=\"visible\" id=\"glyph0-0\">\n",
       "<path style=\"stroke:none;\" d=\"\"/>\n",
       "</symbol>\n",
       "<symbol overflow=\"visible\" id=\"glyph0-1\">\n",
       "<path style=\"stroke:none;\" d=\"M 3.921875 -2.046875 L 3.921875 0 L 4.984375 0 L 4.984375 -2.046875 L 6.234375 -2.046875 L 6.234375 -2.984375 L 4.984375 -2.984375 L 4.984375 -8.515625 L 4.203125 -8.515625 L 0.34375 -3.15625 L 0.34375 -2.046875 Z M 3.921875 -2.984375 L 1.265625 -2.984375 L 3.921875 -6.703125 Z M 3.921875 -2.984375 \"/>\n",
       "</symbol>\n",
       "<symbol overflow=\"visible\" id=\"glyph0-2\">\n",
       "<path style=\"stroke:none;\" d=\"M 3.296875 -8.515625 C 2.515625 -8.515625 1.78125 -8.15625 1.34375 -7.578125 C 0.796875 -6.828125 0.515625 -5.6875 0.515625 -4.109375 C 0.515625 -1.25 1.46875 0.28125 3.296875 0.28125 C 5.09375 0.28125 6.078125 -1.25 6.078125 -4.046875 C 6.078125 -5.703125 5.8125 -6.796875 5.25 -7.578125 C 4.8125 -8.171875 4.109375 -8.515625 3.296875 -8.515625 Z M 3.296875 -7.578125 C 4.4375 -7.578125 5 -6.421875 5 -4.140625 C 5 -1.734375 4.453125 -0.59375 3.28125 -0.59375 C 2.15625 -0.59375 1.59375 -1.78125 1.59375 -4.109375 C 1.59375 -6.4375 2.15625 -7.578125 3.296875 -7.578125 Z M 3.296875 -7.578125 \"/>\n",
       "</symbol>\n",
       "<symbol overflow=\"visible\" id=\"glyph0-3\">\n",
       "<path style=\"stroke:none;\" d=\"M 5.71875 -8.515625 L 1.3125 -8.515625 L 0.6875 -3.875 L 1.65625 -3.875 C 2.140625 -4.46875 2.5625 -4.671875 3.21875 -4.671875 C 4.359375 -4.671875 5.078125 -3.890625 5.078125 -2.625 C 5.078125 -1.40625 4.375 -0.65625 3.21875 -0.65625 C 2.296875 -0.65625 1.734375 -1.125 1.46875 -2.09375 L 0.421875 -2.09375 C 0.5625 -1.390625 0.6875 -1.0625 0.9375 -0.75 C 1.421875 -0.09375 2.28125 0.28125 3.234375 0.28125 C 4.953125 0.28125 6.15625 -0.96875 6.15625 -2.765625 C 6.15625 -4.453125 5.046875 -5.609375 3.40625 -5.609375 C 2.8125 -5.609375 2.328125 -5.453125 1.84375 -5.09375 L 2.171875 -7.46875 L 5.71875 -7.46875 Z M 5.71875 -8.515625 \"/>\n",
       "</symbol>\n",
       "<symbol overflow=\"visible\" id=\"glyph0-4\">\n",
       "<path style=\"stroke:none;\" d=\"M 5.96875 -6.28125 C 5.765625 -7.6875 4.859375 -8.515625 3.5625 -8.515625 C 2.625 -8.515625 1.78125 -8.046875 1.28125 -7.296875 C 0.75 -6.46875 0.515625 -5.421875 0.515625 -3.875 C 0.515625 -2.453125 0.734375 -1.53125 1.234375 -0.78125 C 1.6875 -0.09375 2.4375 0.28125 3.375 0.28125 C 4.984375 0.28125 6.15625 -0.921875 6.15625 -2.59375 C 6.15625 -4.171875 5.078125 -5.296875 3.546875 -5.296875 C 2.71875 -5.296875 2.046875 -4.96875 1.59375 -4.34375 C 1.609375 -6.421875 2.28125 -7.578125 3.484375 -7.578125 C 4.234375 -7.578125 4.75 -7.109375 4.921875 -6.28125 Z M 3.421875 -4.359375 C 4.4375 -4.359375 5.078125 -3.640625 5.078125 -2.515625 C 5.078125 -1.4375 4.359375 -0.65625 3.390625 -0.65625 C 2.40625 -0.65625 1.65625 -1.46875 1.65625 -2.5625 C 1.65625 -3.625 2.375 -4.359375 3.421875 -4.359375 Z M 3.421875 -4.359375 \"/>\n",
       "</symbol>\n",
       "<symbol overflow=\"visible\" id=\"glyph0-5\">\n",
       "<path style=\"stroke:none;\" d=\"M 6.609375 -3.984375 L 6.609375 0 L 7.734375 0 L 7.734375 -8.75 L 6.609375 -8.75 L 6.609375 -4.96875 L 2.109375 -4.96875 L 2.109375 -8.75 L 1 -8.75 L 1 0 L 2.125 0 L 2.125 -3.984375 Z M 6.609375 -3.984375 \"/>\n",
       "</symbol>\n",
       "<symbol overflow=\"visible\" id=\"glyph0-6\">\n",
       "<path style=\"stroke:none;\" d=\"M 1.796875 -6.28125 L 0.796875 -6.28125 L 0.796875 0 L 1.796875 0 Z M 1.796875 -8.75 L 0.796875 -8.75 L 0.796875 -7.484375 L 1.796875 -7.484375 Z M 1.796875 -8.75 \"/>\n",
       "</symbol>\n",
       "<symbol overflow=\"visible\" id=\"glyph0-7\">\n",
       "<path style=\"stroke:none;\" d=\"M 4.9375 -6.28125 L 4.9375 -5.375 C 4.4375 -6.125 3.828125 -6.46875 3.03125 -6.46875 C 1.421875 -6.46875 0.34375 -5.078125 0.34375 -3.03125 C 0.34375 -2 0.625 -1.15625 1.140625 -0.5625 C 1.609375 -0.03125 2.28125 0.28125 2.9375 0.28125 C 3.734375 0.28125 4.28125 -0.0625 4.84375 -0.859375 L 4.84375 -0.53125 C 4.84375 0.328125 4.734375 0.84375 4.484375 1.1875 C 4.21875 1.5625 3.703125 1.78125 3.09375 1.78125 C 2.640625 1.78125 2.234375 1.65625 1.953125 1.4375 C 1.734375 1.265625 1.625 1.09375 1.578125 0.71875 L 0.546875 0.71875 C 0.65625 1.90625 1.578125 2.609375 3.0625 2.609375 C 4 2.609375 4.796875 2.3125 5.203125 1.8125 C 5.6875 1.234375 5.875 0.4375 5.875 -1.03125 L 5.875 -6.28125 Z M 3.125 -5.546875 C 4.21875 -5.546875 4.84375 -4.625 4.84375 -3.0625 C 4.84375 -1.5625 4.203125 -0.640625 3.140625 -0.640625 C 2.046875 -0.640625 1.390625 -1.578125 1.390625 -3.09375 C 1.390625 -4.609375 2.0625 -5.546875 3.125 -5.546875 Z M 3.125 -5.546875 \"/>\n",
       "</symbol>\n",
       "<symbol overflow=\"visible\" id=\"glyph0-8\">\n",
       "<path style=\"stroke:none;\" d=\"M 0.84375 -8.75 L 0.84375 0 L 1.84375 0 L 1.84375 -3.46875 C 1.84375 -4.75 2.515625 -5.59375 3.546875 -5.59375 C 3.859375 -5.59375 4.1875 -5.484375 4.421875 -5.296875 C 4.71875 -5.09375 4.84375 -4.796875 4.84375 -4.359375 L 4.84375 0 L 5.828125 0 L 5.828125 -4.75 C 5.828125 -5.8125 5.078125 -6.46875 3.859375 -6.46875 C 2.96875 -6.46875 2.421875 -6.1875 1.84375 -5.421875 L 1.84375 -8.75 Z M 0.84375 -8.75 \"/>\n",
       "</symbol>\n",
       "<symbol overflow=\"visible\" id=\"glyph0-9\">\n",
       "<path style=\"stroke:none;\" d=\"\"/>\n",
       "</symbol>\n",
       "<symbol overflow=\"visible\" id=\"glyph0-10\">\n",
       "<path style=\"stroke:none;\" d=\"M 5.25 -4.53125 C 5.25 -5.765625 4.421875 -6.46875 2.96875 -6.46875 C 1.515625 -6.46875 0.5625 -5.71875 0.5625 -4.546875 C 0.5625 -3.5625 1.0625 -3.09375 2.5625 -2.734375 L 3.484375 -2.515625 C 4.1875 -2.34375 4.46875 -2.09375 4.46875 -1.625 C 4.46875 -1.046875 3.875 -0.640625 3 -0.640625 C 2.453125 -0.640625 2 -0.796875 1.75 -1.0625 C 1.59375 -1.25 1.53125 -1.421875 1.46875 -1.875 L 0.40625 -1.875 C 0.453125 -0.421875 1.265625 0.28125 2.921875 0.28125 C 4.5 0.28125 5.515625 -0.5 5.515625 -1.71875 C 5.515625 -2.65625 4.984375 -3.171875 3.734375 -3.46875 L 2.765625 -3.703125 C 1.953125 -3.890625 1.609375 -4.15625 1.609375 -4.59375 C 1.609375 -5.171875 2.125 -5.546875 2.9375 -5.546875 C 3.75 -5.546875 4.171875 -5.203125 4.203125 -4.53125 Z M 5.25 -4.53125 \"/>\n",
       "</symbol>\n",
       "<symbol overflow=\"visible\" id=\"glyph0-11\">\n",
       "<path style=\"stroke:none;\" d=\"M 5.65625 -4.171875 C 5.609375 -4.78125 5.46875 -5.1875 5.234375 -5.53125 C 4.796875 -6.125 4.046875 -6.46875 3.171875 -6.46875 C 1.46875 -6.46875 0.375 -5.125 0.375 -3.03125 C 0.375 -1.015625 1.453125 0.28125 3.15625 0.28125 C 4.65625 0.28125 5.609375 -0.625 5.71875 -2.15625 L 4.71875 -2.15625 C 4.546875 -1.15625 4.03125 -0.640625 3.1875 -0.640625 C 2.078125 -0.640625 1.421875 -1.546875 1.421875 -3.03125 C 1.421875 -4.609375 2.0625 -5.546875 3.15625 -5.546875 C 4 -5.546875 4.53125 -5.046875 4.640625 -4.171875 Z M 5.65625 -4.171875 \"/>\n",
       "</symbol>\n",
       "<symbol overflow=\"visible\" id=\"glyph0-12\">\n",
       "<path style=\"stroke:none;\" d=\"M 3.265625 -6.46875 C 1.5 -6.46875 0.4375 -5.203125 0.4375 -3.09375 C 0.4375 -0.984375 1.484375 0.28125 3.28125 0.28125 C 5.046875 0.28125 6.125 -0.984375 6.125 -3.046875 C 6.125 -5.21875 5.078125 -6.46875 3.265625 -6.46875 Z M 3.28125 -5.546875 C 4.40625 -5.546875 5.078125 -4.625 5.078125 -3.0625 C 5.078125 -1.578125 4.375 -0.640625 3.28125 -0.640625 C 2.15625 -0.640625 1.46875 -1.578125 1.46875 -3.09375 C 1.46875 -4.609375 2.15625 -5.546875 3.28125 -5.546875 Z M 3.28125 -5.546875 \"/>\n",
       "</symbol>\n",
       "<symbol overflow=\"visible\" id=\"glyph0-13\">\n",
       "<path style=\"stroke:none;\" d=\"M 1.828125 -8.75 L 0.8125 -8.75 L 0.8125 0 L 1.828125 0 Z M 1.828125 -8.75 \"/>\n",
       "</symbol>\n",
       "<symbol overflow=\"visible\" id=\"glyph0-14\">\n",
       "<path style=\"stroke:none;\" d=\"M 0.828125 -6.28125 L 0.828125 0 L 1.84375 0 L 1.84375 -3.265625 C 1.84375 -4.15625 2.0625 -4.75 2.546875 -5.09375 C 2.859375 -5.328125 3.15625 -5.40625 3.859375 -5.40625 L 3.859375 -6.4375 C 3.6875 -6.453125 3.59375 -6.46875 3.46875 -6.46875 C 2.8125 -6.46875 2.328125 -6.078125 1.75 -5.140625 L 1.75 -6.28125 Z M 0.828125 -6.28125 \"/>\n",
       "</symbol>\n",
       "<symbol overflow=\"visible\" id=\"glyph0-15\">\n",
       "<path style=\"stroke:none;\" d=\"M 6.421875 -0.59375 C 6.3125 -0.5625 6.265625 -0.5625 6.203125 -0.5625 C 5.859375 -0.5625 5.65625 -0.75 5.65625 -1.0625 L 5.65625 -4.75 C 5.65625 -5.875 4.84375 -6.46875 3.296875 -6.46875 C 2.390625 -6.46875 1.625 -6.203125 1.21875 -5.734375 C 0.921875 -5.40625 0.796875 -5.046875 0.78125 -4.421875 L 1.78125 -4.421875 C 1.875 -5.203125 2.328125 -5.546875 3.265625 -5.546875 C 4.15625 -5.546875 4.671875 -5.203125 4.671875 -4.609375 L 4.671875 -4.34375 C 4.671875 -3.921875 4.421875 -3.75 3.625 -3.640625 C 2.203125 -3.46875 1.984375 -3.421875 1.609375 -3.265625 C 0.875 -2.96875 0.5 -2.40625 0.5 -1.578125 C 0.5 -0.4375 1.296875 0.28125 2.5625 0.28125 C 3.359375 0.28125 4 0 4.703125 -0.640625 C 4.78125 -0.015625 5.09375 0.28125 5.734375 0.28125 C 5.9375 0.28125 6.09375 0.25 6.421875 0.171875 Z M 4.671875 -1.984375 C 4.671875 -1.640625 4.578125 -1.4375 4.265625 -1.15625 C 3.859375 -0.796875 3.375 -0.59375 2.78125 -0.59375 C 2 -0.59375 1.546875 -0.96875 1.546875 -1.609375 C 1.546875 -2.265625 1.984375 -2.609375 3.0625 -2.765625 C 4.109375 -2.90625 4.328125 -2.953125 4.671875 -3.109375 Z M 4.671875 -1.984375 \"/>\n",
       "</symbol>\n",
       "<symbol overflow=\"visible\" id=\"glyph0-16\">\n",
       "<path style=\"stroke:none;\" d=\"M 5.9375 -8.75 L 4.9375 -8.75 L 4.9375 -5.5 C 4.53125 -6.125 3.859375 -6.46875 3.015625 -6.46875 C 1.375 -6.46875 0.3125 -5.15625 0.3125 -3.15625 C 0.3125 -1.03125 1.359375 0.28125 3.046875 0.28125 C 3.90625 0.28125 4.515625 -0.046875 5.046875 -0.828125 L 5.046875 0 L 5.9375 0 Z M 3.1875 -5.53125 C 4.265625 -5.53125 4.9375 -4.578125 4.9375 -3.078125 C 4.9375 -1.625 4.25 -0.65625 3.1875 -0.65625 C 2.09375 -0.65625 1.359375 -1.625 1.359375 -3.09375 C 1.359375 -4.5625 2.09375 -5.53125 3.1875 -5.53125 Z M 3.1875 -5.53125 \"/>\n",
       "</symbol>\n",
       "<symbol overflow=\"visible\" id=\"glyph0-17\">\n",
       "<path style=\"stroke:none;\" d=\"M 5.78125 0 L 5.78125 -6.28125 L 4.78125 -6.28125 L 4.78125 -2.71875 C 4.78125 -1.4375 4.109375 -0.59375 3.078125 -0.59375 C 2.28125 -0.59375 1.78125 -1.078125 1.78125 -1.84375 L 1.78125 -6.28125 L 0.78125 -6.28125 L 0.78125 -1.4375 C 0.78125 -0.390625 1.5625 0.28125 2.78125 0.28125 C 3.703125 0.28125 4.296875 -0.046875 4.890625 -0.875 L 4.890625 0 Z M 5.78125 0 \"/>\n",
       "</symbol>\n",
       "<symbol overflow=\"visible\" id=\"glyph0-18\">\n",
       "<path style=\"stroke:none;\" d=\"M 3.046875 -6.28125 L 2.015625 -6.28125 L 2.015625 -8.015625 L 1.015625 -8.015625 L 1.015625 -6.28125 L 0.171875 -6.28125 L 0.171875 -5.46875 L 1.015625 -5.46875 L 1.015625 -0.71875 C 1.015625 -0.078125 1.453125 0.28125 2.234375 0.28125 C 2.46875 0.28125 2.71875 0.25 3.046875 0.1875 L 3.046875 -0.640625 C 2.921875 -0.609375 2.765625 -0.59375 2.5625 -0.59375 C 2.140625 -0.59375 2.015625 -0.71875 2.015625 -1.15625 L 2.015625 -5.46875 L 3.046875 -5.46875 Z M 3.046875 -6.28125 \"/>\n",
       "</symbol>\n",
       "<symbol overflow=\"visible\" id=\"glyph0-19\">\n",
       "<path style=\"stroke:none;\" d=\"M 6.15625 -2.8125 C 6.15625 -3.765625 6.078125 -4.34375 5.90625 -4.8125 C 5.5 -5.84375 4.53125 -6.46875 3.359375 -6.46875 C 1.609375 -6.46875 0.484375 -5.125 0.484375 -3.0625 C 0.484375 -1 1.578125 0.28125 3.34375 0.28125 C 4.78125 0.28125 5.765625 -0.546875 6.03125 -1.90625 L 5.015625 -1.90625 C 4.734375 -1.078125 4.171875 -0.640625 3.375 -0.640625 C 2.734375 -0.640625 2.203125 -0.9375 1.859375 -1.46875 C 1.625 -1.828125 1.53125 -2.1875 1.53125 -2.8125 Z M 1.546875 -3.625 C 1.625 -4.78125 2.34375 -5.546875 3.34375 -5.546875 C 4.328125 -5.546875 5.09375 -4.734375 5.09375 -3.703125 C 5.09375 -3.671875 5.09375 -3.640625 5.078125 -3.625 Z M 1.546875 -3.625 \"/>\n",
       "</symbol>\n",
       "<symbol overflow=\"visible\" id=\"glyph0-20\">\n",
       "<path style=\"stroke:none;\" d=\"M 2.828125 -8.75 C 1.625 -7.171875 0.875 -4.984375 0.875 -3.109375 C 0.875 -1.21875 1.625 0.96875 2.828125 2.546875 L 3.484375 2.546875 C 2.4375 0.828125 1.84375 -1.1875 1.84375 -3.109375 C 1.84375 -5.015625 2.4375 -7.046875 3.484375 -8.75 Z M 2.828125 -8.75 \"/>\n",
       "</symbol>\n",
       "<symbol overflow=\"visible\" id=\"glyph0-21\">\n",
       "<path style=\"stroke:none;\" d=\"M 2.390625 -8.21875 C 1.265625 -8.21875 0.34375 -7.296875 0.34375 -6.171875 C 0.34375 -5.046875 1.265625 -4.109375 2.40625 -4.109375 C 3.515625 -4.109375 4.4375 -5.046875 4.4375 -6.140625 C 4.4375 -7.3125 3.546875 -8.21875 2.390625 -8.21875 Z M 2.390625 -7.375 C 3.078125 -7.375 3.609375 -6.84375 3.609375 -6.15625 C 3.609375 -5.5 3.0625 -4.953125 2.40625 -4.953125 C 1.734375 -4.953125 1.171875 -5.515625 1.171875 -6.171875 C 1.171875 -6.84375 1.734375 -7.375 2.390625 -7.375 Z M 7.3125 -8.515625 L 2.5625 0.234375 L 3.359375 0.234375 L 8.09375 -8.515625 Z M 8.25 -3.859375 C 7.140625 -3.859375 6.21875 -2.9375 6.21875 -1.828125 C 6.21875 -0.703125 7.140625 0.234375 8.265625 0.234375 C 9.375 0.234375 10.3125 -0.703125 10.3125 -1.796875 C 10.3125 -2.953125 9.40625 -3.859375 8.25 -3.859375 Z M 8.25 -3.03125 C 8.9375 -3.03125 9.484375 -2.484375 9.484375 -1.796875 C 9.484375 -1.15625 8.921875 -0.609375 8.265625 -0.609375 C 7.59375 -0.609375 7.046875 -1.15625 7.046875 -1.828125 C 7.046875 -2.484375 7.59375 -3.03125 8.25 -3.03125 Z M 8.25 -3.03125 \"/>\n",
       "</symbol>\n",
       "<symbol overflow=\"visible\" id=\"glyph0-22\">\n",
       "<path style=\"stroke:none;\" d=\"M 1.109375 2.546875 C 2.3125 0.96875 3.078125 -1.21875 3.078125 -3.09375 C 3.078125 -4.984375 2.3125 -7.171875 1.109375 -8.75 L 0.453125 -8.75 C 1.515625 -7.03125 2.09375 -5.015625 2.09375 -3.09375 C 2.09375 -1.1875 1.515625 0.84375 0.453125 2.546875 Z M 1.109375 2.546875 \"/>\n",
       "</symbol>\n",
       "<symbol overflow=\"visible\" id=\"glyph1-0\">\n",
       "<path style=\"stroke:none;\" d=\"\"/>\n",
       "</symbol>\n",
       "<symbol overflow=\"visible\" id=\"glyph1-1\">\n",
       "<path style=\"stroke:none;\" d=\"M -6.28125 -5.96875 C -7.6875 -5.765625 -8.515625 -4.859375 -8.515625 -3.5625 C -8.515625 -2.625 -8.046875 -1.78125 -7.296875 -1.28125 C -6.46875 -0.75 -5.421875 -0.515625 -3.875 -0.515625 C -2.453125 -0.515625 -1.53125 -0.734375 -0.78125 -1.234375 C -0.09375 -1.6875 0.28125 -2.4375 0.28125 -3.375 C 0.28125 -4.984375 -0.921875 -6.15625 -2.59375 -6.15625 C -4.171875 -6.15625 -5.296875 -5.078125 -5.296875 -3.546875 C -5.296875 -2.71875 -4.96875 -2.046875 -4.34375 -1.59375 C -6.421875 -1.609375 -7.578125 -2.28125 -7.578125 -3.484375 C -7.578125 -4.234375 -7.109375 -4.75 -6.28125 -4.921875 Z M -4.359375 -3.421875 C -4.359375 -4.4375 -3.640625 -5.078125 -2.515625 -5.078125 C -1.4375 -5.078125 -0.65625 -4.359375 -0.65625 -3.390625 C -0.65625 -2.40625 -1.46875 -1.65625 -2.5625 -1.65625 C -3.625 -1.65625 -4.359375 -2.375 -4.359375 -3.421875 Z M -4.359375 -3.421875 \"/>\n",
       "</symbol>\n",
       "<symbol overflow=\"visible\" id=\"glyph1-2\">\n",
       "<path style=\"stroke:none;\" d=\"M -4.46875 -4.6875 C -5 -5.5625 -5.4375 -5.859375 -6.234375 -5.859375 C -7.578125 -5.859375 -8.515625 -4.8125 -8.515625 -3.296875 C -8.515625 -1.796875 -7.578125 -0.75 -6.234375 -0.75 C -5.453125 -0.75 -5.015625 -1.03125 -4.46875 -1.890625 C -4.015625 -0.921875 -3.296875 -0.4375 -2.359375 -0.4375 C -0.796875 -0.4375 0.28125 -1.625 0.28125 -3.296875 C 0.28125 -4.984375 -0.796875 -6.15625 -2.359375 -6.15625 C -3.296875 -6.15625 -4.015625 -5.671875 -4.46875 -4.6875 Z M -7.578125 -3.296875 C -7.578125 -4.203125 -7.046875 -4.78125 -6.21875 -4.78125 C -5.421875 -4.78125 -4.890625 -4.1875 -4.890625 -3.296875 C -4.890625 -2.40625 -5.421875 -1.828125 -6.234375 -1.828125 C -7.046875 -1.828125 -7.578125 -2.40625 -7.578125 -3.296875 Z M -4.015625 -3.296875 C -4.015625 -4.359375 -3.34375 -5.078125 -2.34375 -5.078125 C -1.328125 -5.078125 -0.65625 -4.359375 -0.65625 -3.28125 C -0.65625 -2.25 -1.34375 -1.53125 -2.34375 -1.53125 C -3.34375 -1.53125 -4.015625 -2.25 -4.015625 -3.296875 Z M -4.015625 -3.296875 \"/>\n",
       "</symbol>\n",
       "<symbol overflow=\"visible\" id=\"glyph1-3\">\n",
       "<path style=\"stroke:none;\" d=\"M -1.9375 -0.640625 C -0.546875 -0.84375 0.28125 -1.75 0.28125 -3.046875 C 0.28125 -3.984375 -0.1875 -4.84375 -0.9375 -5.328125 C -1.765625 -5.875 -2.8125 -6.109375 -4.359375 -6.109375 C -5.78125 -6.109375 -6.703125 -5.890625 -7.453125 -5.390625 C -8.140625 -4.921875 -8.515625 -4.171875 -8.515625 -3.234375 C -8.515625 -1.625 -7.3125 -0.453125 -5.640625 -0.453125 C -4.0625 -0.453125 -2.9375 -1.53125 -2.9375 -3.078125 C -2.9375 -3.875 -3.234375 -4.46875 -3.890625 -5.015625 C -1.8125 -5 -0.65625 -4.328125 -0.65625 -3.125 C -0.65625 -2.375 -1.125 -1.859375 -1.9375 -1.6875 Z M -7.578125 -3.234375 C -7.578125 -4.21875 -6.765625 -4.953125 -5.65625 -4.953125 C -4.625 -4.953125 -3.875 -4.21875 -3.875 -3.1875 C -3.875 -2.171875 -4.578125 -1.53125 -5.71875 -1.53125 C -6.796875 -1.53125 -7.578125 -2.25 -7.578125 -3.234375 Z M -7.578125 -3.234375 \"/>\n",
       "</symbol>\n",
       "<symbol overflow=\"visible\" id=\"glyph1-4\">\n",
       "<path style=\"stroke:none;\" d=\"M -8.515625 -6.234375 L -8.515625 -0.546875 L -7.46875 -0.546875 L -7.46875 -5.140625 C -4.578125 -3.125 -2.796875 -2.296875 0 -1.65625 L 0 -2.78125 C -2.71875 -3.25 -5.0625 -4.3125 -7.625 -6.234375 Z M -8.515625 -6.234375 \"/>\n",
       "</symbol>\n",
       "<symbol overflow=\"visible\" id=\"glyph1-5\">\n",
       "<path style=\"stroke:none;\" d=\"M -8.515625 -3.296875 C -8.515625 -2.515625 -8.15625 -1.78125 -7.578125 -1.34375 C -6.828125 -0.796875 -5.6875 -0.515625 -4.109375 -0.515625 C -1.25 -0.515625 0.28125 -1.46875 0.28125 -3.296875 C 0.28125 -5.09375 -1.25 -6.078125 -4.046875 -6.078125 C -5.703125 -6.078125 -6.796875 -5.8125 -7.578125 -5.25 C -8.171875 -4.8125 -8.515625 -4.109375 -8.515625 -3.296875 Z M -7.578125 -3.296875 C -7.578125 -4.4375 -6.421875 -5 -4.140625 -5 C -1.734375 -5 -0.59375 -4.453125 -0.59375 -3.28125 C -0.59375 -2.15625 -1.78125 -1.59375 -4.109375 -1.59375 C -6.4375 -1.59375 -7.578125 -2.15625 -7.578125 -3.296875 Z M -7.578125 -3.296875 \"/>\n",
       "</symbol>\n",
       "<symbol overflow=\"visible\" id=\"glyph1-6\">\n",
       "<path style=\"stroke:none;\" d=\"M -6.0625 -3.109375 L 0 -3.109375 L 0 -4.15625 L -8.515625 -4.15625 L -8.515625 -3.46875 C -7.203125 -3.09375 -7.015625 -2.859375 -6.8125 -1.21875 L -6.0625 -1.21875 Z M -6.0625 -3.109375 \"/>\n",
       "</symbol>\n",
       "<symbol overflow=\"visible\" id=\"glyph1-7\">\n",
       "<path style=\"stroke:none;\" d=\"M -1.046875 -6.078125 L -1.046875 -1.59375 C -1.734375 -1.703125 -2.1875 -2.09375 -2.796875 -3.125 L -3.4375 -4.328125 C -4.09375 -5.515625 -4.96875 -6.125 -6.015625 -6.125 C -6.71875 -6.125 -7.375 -5.84375 -7.84375 -5.34375 C -8.296875 -4.84375 -8.515625 -4.21875 -8.515625 -3.40625 C -8.515625 -2.328125 -8.125 -1.53125 -7.40625 -1.0625 C -6.953125 -0.75 -6.421875 -0.625 -5.5625 -0.59375 L -5.5625 -1.65625 C -6.125 -1.6875 -6.484375 -1.765625 -6.75 -1.90625 C -7.265625 -2.1875 -7.578125 -2.734375 -7.578125 -3.375 C -7.578125 -4.328125 -6.90625 -5.046875 -5.984375 -5.046875 C -5.3125 -5.046875 -4.734375 -4.65625 -4.3125 -3.90625 L -3.6875 -2.796875 C -2.671875 -1.015625 -1.875 -0.5 0 -0.40625 L 0 -6.078125 Z M -1.046875 -6.078125 \"/>\n",
       "</symbol>\n",
       "<symbol overflow=\"visible\" id=\"glyph1-8\">\n",
       "<path style=\"stroke:none;\" d=\"M -3.90625 -2.65625 L -3.90625 -3.234375 C -3.90625 -4.390625 -3.390625 -4.984375 -2.359375 -4.984375 C -1.296875 -4.984375 -0.65625 -4.328125 -0.65625 -3.234375 C -0.65625 -2.078125 -1.234375 -1.515625 -2.46875 -1.4375 L -2.46875 -0.390625 C -1.78125 -0.4375 -1.34375 -0.546875 -0.953125 -0.75 C -0.140625 -1.1875 0.28125 -2.03125 0.28125 -3.1875 C 0.28125 -4.9375 -0.765625 -6.078125 -2.375 -6.078125 C -3.453125 -6.078125 -4.0625 -5.65625 -4.40625 -4.625 C -4.71875 -5.421875 -5.3125 -5.8125 -6.171875 -5.8125 C -7.625 -5.8125 -8.515625 -4.84375 -8.515625 -3.234375 C -8.515625 -1.515625 -7.578125 -0.59375 -5.765625 -0.5625 L -5.765625 -1.625 C -6.28125 -1.625 -6.5625 -1.6875 -6.828125 -1.8125 C -7.296875 -2.046875 -7.578125 -2.578125 -7.578125 -3.234375 C -7.578125 -4.171875 -7.03125 -4.734375 -6.125 -4.734375 C -5.53125 -4.734375 -5.171875 -4.53125 -4.984375 -4.0625 C -4.859375 -3.765625 -4.8125 -3.390625 -4.796875 -2.65625 Z M -3.90625 -2.65625 \"/>\n",
       "</symbol>\n",
       "<symbol overflow=\"visible\" id=\"glyph1-9\">\n",
       "<path style=\"stroke:none;\" d=\"M -8.75 -2.078125 L -8.75 -0.953125 L 0 -0.953125 L 0 -6.390625 L -0.984375 -6.390625 L -0.984375 -2.078125 Z M -8.75 -2.078125 \"/>\n",
       "</symbol>\n",
       "<symbol overflow=\"visible\" id=\"glyph1-10\">\n",
       "<path style=\"stroke:none;\" d=\"M -6.28125 -1.796875 L -6.28125 -0.796875 L 0 -0.796875 L 0 -1.796875 Z M -8.75 -1.796875 L -8.75 -0.796875 L -7.484375 -0.796875 L -7.484375 -1.796875 Z M -8.75 -1.796875 \"/>\n",
       "</symbol>\n",
       "<symbol overflow=\"visible\" id=\"glyph1-11\">\n",
       "<path style=\"stroke:none;\" d=\"M -6.28125 -3.09375 L -6.28125 -2.046875 L -7.265625 -2.046875 C -7.6875 -2.046875 -7.90625 -2.296875 -7.90625 -2.75 C -7.90625 -2.828125 -7.90625 -2.875 -7.890625 -3.09375 L -8.71875 -3.09375 C -8.765625 -2.875 -8.78125 -2.734375 -8.78125 -2.53125 C -8.78125 -1.609375 -8.25 -1.0625 -7.359375 -1.0625 L -6.28125 -1.0625 L -6.28125 -0.21875 L -5.46875 -0.21875 L -5.46875 -1.0625 L 0 -1.0625 L 0 -2.046875 L -5.46875 -2.046875 L -5.46875 -3.09375 Z M -6.28125 -3.09375 \"/>\n",
       "</symbol>\n",
       "<symbol overflow=\"visible\" id=\"glyph1-12\">\n",
       "<path style=\"stroke:none;\" d=\"M -2.8125 -6.15625 C -3.765625 -6.15625 -4.34375 -6.078125 -4.8125 -5.90625 C -5.84375 -5.5 -6.46875 -4.53125 -6.46875 -3.359375 C -6.46875 -1.609375 -5.125 -0.484375 -3.0625 -0.484375 C -1 -0.484375 0.28125 -1.578125 0.28125 -3.34375 C 0.28125 -4.78125 -0.546875 -5.765625 -1.90625 -6.03125 L -1.90625 -5.015625 C -1.078125 -4.734375 -0.640625 -4.171875 -0.640625 -3.375 C -0.640625 -2.734375 -0.9375 -2.203125 -1.46875 -1.859375 C -1.828125 -1.625 -2.1875 -1.53125 -2.8125 -1.53125 Z M -3.625 -1.546875 C -4.78125 -1.625 -5.546875 -2.34375 -5.546875 -3.34375 C -5.546875 -4.328125 -4.734375 -5.09375 -3.703125 -5.09375 C -3.671875 -5.09375 -3.640625 -5.09375 -3.625 -5.078125 Z M -3.625 -1.546875 \"/>\n",
       "</symbol>\n",
       "<symbol overflow=\"visible\" id=\"glyph1-13\">\n",
       "<path style=\"stroke:none;\" d=\"\"/>\n",
       "</symbol>\n",
       "<symbol overflow=\"visible\" id=\"glyph1-14\">\n",
       "<path style=\"stroke:none;\" d=\"M -3.25 -3.5 L -6.28125 -5.609375 L -6.28125 -4.484375 L -4.015625 -2.96875 L -6.28125 -1.46875 L -6.28125 -0.328125 L -3.203125 -2.421875 L 0 -0.203125 L 0 -1.34375 L -2.40625 -2.9375 L 0 -4.515625 L 0 -5.671875 Z M -3.25 -3.5 \"/>\n",
       "</symbol>\n",
       "<symbol overflow=\"visible\" id=\"glyph1-15\">\n",
       "<path style=\"stroke:none;\" d=\"M 2.609375 -0.640625 L 2.609375 -1.65625 L -0.65625 -1.65625 C -0.015625 -2.1875 0.28125 -2.765625 0.28125 -3.59375 C 0.28125 -5.203125 -1.03125 -6.28125 -3.03125 -6.28125 C -5.140625 -6.28125 -6.46875 -5.25 -6.46875 -3.578125 C -6.46875 -2.71875 -6.078125 -2.046875 -5.34375 -1.578125 L -6.28125 -1.578125 L -6.28125 -0.640625 Z M -5.53125 -3.40625 C -5.53125 -4.515625 -4.5625 -5.234375 -3.0625 -5.234375 C -1.625 -5.234375 -0.65625 -4.5 -0.65625 -3.40625 C -0.65625 -2.359375 -1.625 -1.65625 -3.09375 -1.65625 C -4.578125 -1.65625 -5.53125 -2.359375 -5.53125 -3.40625 Z M -5.53125 -3.40625 \"/>\n",
       "</symbol>\n",
       "<symbol overflow=\"visible\" id=\"glyph1-16\">\n",
       "<path style=\"stroke:none;\" d=\"M -4.171875 -5.65625 C -4.78125 -5.609375 -5.1875 -5.46875 -5.53125 -5.234375 C -6.125 -4.796875 -6.46875 -4.046875 -6.46875 -3.171875 C -6.46875 -1.46875 -5.125 -0.375 -3.03125 -0.375 C -1.015625 -0.375 0.28125 -1.453125 0.28125 -3.15625 C 0.28125 -4.65625 -0.625 -5.609375 -2.15625 -5.71875 L -2.15625 -4.71875 C -1.15625 -4.546875 -0.640625 -4.03125 -0.640625 -3.1875 C -0.640625 -2.078125 -1.546875 -1.421875 -3.03125 -1.421875 C -4.609375 -1.421875 -5.546875 -2.0625 -5.546875 -3.15625 C -5.546875 -4 -5.046875 -4.53125 -4.171875 -4.640625 Z M -4.171875 -5.65625 \"/>\n",
       "</symbol>\n",
       "<symbol overflow=\"visible\" id=\"glyph1-17\">\n",
       "<path style=\"stroke:none;\" d=\"M -6.28125 -3.046875 L -6.28125 -2.015625 L -8.015625 -2.015625 L -8.015625 -1.015625 L -6.28125 -1.015625 L -6.28125 -0.171875 L -5.46875 -0.171875 L -5.46875 -1.015625 L -0.71875 -1.015625 C -0.078125 -1.015625 0.28125 -1.453125 0.28125 -2.234375 C 0.28125 -2.46875 0.25 -2.71875 0.1875 -3.046875 L -0.640625 -3.046875 C -0.609375 -2.921875 -0.59375 -2.765625 -0.59375 -2.5625 C -0.59375 -2.140625 -0.71875 -2.015625 -1.15625 -2.015625 L -5.46875 -2.015625 L -5.46875 -3.046875 Z M -6.28125 -3.046875 \"/>\n",
       "</symbol>\n",
       "<symbol overflow=\"visible\" id=\"glyph1-18\">\n",
       "<path style=\"stroke:none;\" d=\"M -0.59375 -6.421875 C -0.5625 -6.3125 -0.5625 -6.265625 -0.5625 -6.203125 C -0.5625 -5.859375 -0.75 -5.65625 -1.0625 -5.65625 L -4.75 -5.65625 C -5.875 -5.65625 -6.46875 -4.84375 -6.46875 -3.296875 C -6.46875 -2.390625 -6.203125 -1.625 -5.734375 -1.21875 C -5.40625 -0.921875 -5.046875 -0.796875 -4.421875 -0.78125 L -4.421875 -1.78125 C -5.203125 -1.875 -5.546875 -2.328125 -5.546875 -3.265625 C -5.546875 -4.15625 -5.203125 -4.671875 -4.609375 -4.671875 L -4.34375 -4.671875 C -3.921875 -4.671875 -3.75 -4.421875 -3.640625 -3.625 C -3.46875 -2.203125 -3.421875 -1.984375 -3.265625 -1.609375 C -2.96875 -0.875 -2.40625 -0.5 -1.578125 -0.5 C -0.4375 -0.5 0.28125 -1.296875 0.28125 -2.5625 C 0.28125 -3.359375 0 -4 -0.640625 -4.703125 C -0.015625 -4.78125 0.28125 -5.09375 0.28125 -5.734375 C 0.28125 -5.9375 0.25 -6.09375 0.171875 -6.421875 Z M -1.984375 -4.671875 C -1.640625 -4.671875 -1.4375 -4.578125 -1.15625 -4.265625 C -0.796875 -3.859375 -0.59375 -3.375 -0.59375 -2.78125 C -0.59375 -2 -0.96875 -1.546875 -1.609375 -1.546875 C -2.265625 -1.546875 -2.609375 -1.984375 -2.765625 -3.0625 C -2.90625 -4.109375 -2.953125 -4.328125 -3.109375 -4.671875 Z M -1.984375 -4.671875 \"/>\n",
       "</symbol>\n",
       "<symbol overflow=\"visible\" id=\"glyph1-19\">\n",
       "<path style=\"stroke:none;\" d=\"M -6.28125 -0.84375 L 0 -0.84375 L 0 -1.84375 L -3.46875 -1.84375 C -4.75 -1.84375 -5.59375 -2.515625 -5.59375 -3.546875 C -5.59375 -4.34375 -5.109375 -4.84375 -4.359375 -4.84375 L 0 -4.84375 L 0 -5.84375 L -4.75 -5.84375 C -5.796875 -5.84375 -6.46875 -5.0625 -6.46875 -3.859375 C -6.46875 -2.921875 -6.109375 -2.3125 -5.234375 -1.765625 L -6.28125 -1.765625 Z M -6.28125 -0.84375 \"/>\n",
       "</symbol>\n",
       "<symbol overflow=\"visible\" id=\"glyph1-20\">\n",
       "<path style=\"stroke:none;\" d=\"M -6.28125 -4.65625 L -1.390625 -2.921875 L -6.28125 -1.3125 L -6.28125 -0.234375 L 0.03125 -2.359375 L 1.015625 -1.984375 C 1.46875 -1.828125 1.625 -1.59375 1.625 -1.171875 C 1.625 -1.03125 1.609375 -0.859375 1.5625 -0.640625 L 2.453125 -0.640625 C 2.5625 -0.859375 2.609375 -1.0625 2.609375 -1.3125 C 2.609375 -1.640625 2.515625 -1.984375 2.3125 -2.25 C 2.09375 -2.5625 1.828125 -2.75 1.3125 -2.9375 L -6.28125 -5.734375 Z M -6.28125 -4.65625 \"/>\n",
       "</symbol>\n",
       "<symbol overflow=\"visible\" id=\"glyph1-21\">\n",
       "<path style=\"stroke:none;\" d=\"M -8.75 -2.828125 C -7.171875 -1.625 -4.984375 -0.875 -3.109375 -0.875 C -1.21875 -0.875 0.96875 -1.625 2.546875 -2.828125 L 2.546875 -3.484375 C 0.828125 -2.4375 -1.1875 -1.84375 -3.109375 -1.84375 C -5.015625 -1.84375 -7.046875 -2.4375 -8.75 -3.484375 Z M -8.75 -2.828125 \"/>\n",
       "</symbol>\n",
       "<symbol overflow=\"visible\" id=\"glyph1-22\">\n",
       "<path style=\"stroke:none;\" d=\"M -6.28125 -0.828125 L 0 -0.828125 L 0 -1.84375 L -3.265625 -1.84375 C -4.15625 -1.84375 -4.75 -2.0625 -5.09375 -2.546875 C -5.328125 -2.859375 -5.40625 -3.15625 -5.40625 -3.859375 L -6.4375 -3.859375 C -6.453125 -3.6875 -6.46875 -3.59375 -6.46875 -3.46875 C -6.46875 -2.8125 -6.078125 -2.328125 -5.140625 -1.75 L -6.28125 -1.75 Z M -6.28125 -0.828125 \"/>\n",
       "</symbol>\n",
       "<symbol overflow=\"visible\" id=\"glyph1-23\">\n",
       "<path style=\"stroke:none;\" d=\"M -4.53125 -5.25 C -5.765625 -5.25 -6.46875 -4.421875 -6.46875 -2.96875 C -6.46875 -1.515625 -5.71875 -0.5625 -4.546875 -0.5625 C -3.5625 -0.5625 -3.09375 -1.0625 -2.734375 -2.5625 L -2.515625 -3.484375 C -2.34375 -4.1875 -2.09375 -4.46875 -1.625 -4.46875 C -1.046875 -4.46875 -0.640625 -3.875 -0.640625 -3 C -0.640625 -2.453125 -0.796875 -2 -1.0625 -1.75 C -1.25 -1.59375 -1.421875 -1.53125 -1.875 -1.46875 L -1.875 -0.40625 C -0.421875 -0.453125 0.28125 -1.265625 0.28125 -2.921875 C 0.28125 -4.5 -0.5 -5.515625 -1.71875 -5.515625 C -2.65625 -5.515625 -3.171875 -4.984375 -3.46875 -3.734375 L -3.703125 -2.765625 C -3.890625 -1.953125 -4.15625 -1.609375 -4.59375 -1.609375 C -5.171875 -1.609375 -5.546875 -2.125 -5.546875 -2.9375 C -5.546875 -3.75 -5.203125 -4.171875 -4.53125 -4.203125 Z M -4.53125 -5.25 \"/>\n",
       "</symbol>\n",
       "<symbol overflow=\"visible\" id=\"glyph1-24\">\n",
       "<path style=\"stroke:none;\" d=\"M 2.546875 -1.109375 C 0.96875 -2.3125 -1.21875 -3.078125 -3.09375 -3.078125 C -4.984375 -3.078125 -7.171875 -2.3125 -8.75 -1.109375 L -8.75 -0.453125 C -7.03125 -1.515625 -5.015625 -2.09375 -3.09375 -2.09375 C -1.1875 -2.09375 0.84375 -1.515625 2.546875 -0.453125 Z M 2.546875 -1.109375 \"/>\n",
       "</symbol>\n",
       "</g>\n",
       "</defs>\n",
       "<g id=\"surface82\">\n",
       "<rect x=\"0\" y=\"0\" width=\"504\" height=\"504\" style=\"fill:rgb(100%,100%,100%);fill-opacity:1;stroke:none;\"/>\n",
       "<path style=\"fill:none;stroke-width:0.75;stroke-linecap:round;stroke-linejoin:round;stroke:rgb(0%,0%,0%);stroke-opacity:1;stroke-miterlimit:10;\" d=\"M 122.660156 350.316406 C 122.660156 353.917969 117.257812 353.917969 117.257812 350.316406 C 117.257812 346.71875 122.660156 346.71875 122.660156 350.316406 \"/>\n",
       "<path style=\"fill:none;stroke-width:0.75;stroke-linecap:round;stroke-linejoin:round;stroke:rgb(0%,0%,0%);stroke-opacity:1;stroke-miterlimit:10;\" d=\"M 453.289062 334.460938 C 453.289062 338.058594 447.890625 338.058594 447.890625 334.460938 C 447.890625 330.859375 453.289062 330.859375 453.289062 334.460938 \"/>\n",
       "<path style=\"fill:none;stroke-width:0.75;stroke-linecap:round;stroke-linejoin:round;stroke:rgb(0%,0%,0%);stroke-opacity:1;stroke-miterlimit:10;\" d=\"M 341.34375 258.828125 C 341.34375 262.429688 335.945312 262.429688 335.945312 258.828125 C 335.945312 255.226562 341.34375 255.226562 341.34375 258.828125 \"/>\n",
       "<path style=\"fill:none;stroke-width:0.75;stroke-linecap:round;stroke-linejoin:round;stroke:rgb(0%,0%,0%);stroke-opacity:1;stroke-miterlimit:10;\" d=\"M 104.4375 252.121094 C 104.4375 255.71875 99.035156 255.71875 99.035156 252.121094 C 99.035156 248.519531 104.4375 248.519531 104.4375 252.121094 \"/>\n",
       "<path style=\"fill:none;stroke-width:0.75;stroke-linecap:round;stroke-linejoin:round;stroke:rgb(0%,0%,0%);stroke-opacity:1;stroke-miterlimit:10;\" d=\"M 399.921875 188.078125 C 399.921875 191.675781 394.519531 191.675781 394.519531 188.078125 C 394.519531 184.476562 399.921875 184.476562 399.921875 188.078125 \"/>\n",
       "<path style=\"fill:none;stroke-width:0.75;stroke-linecap:round;stroke-linejoin:round;stroke:rgb(0%,0%,0%);stroke-opacity:1;stroke-miterlimit:10;\" d=\"M 416.84375 166.730469 C 416.84375 170.328125 411.441406 170.328125 411.441406 166.730469 C 411.441406 163.128906 416.84375 163.128906 416.84375 166.730469 \"/>\n",
       "<path style=\"fill:none;stroke-width:0.75;stroke-linecap:round;stroke-linejoin:round;stroke:rgb(0%,0%,0%);stroke-opacity:1;stroke-miterlimit:10;\" d=\"M 314.007812 141.113281 C 314.007812 144.710938 308.609375 144.710938 308.609375 141.113281 C 308.609375 137.511719 314.007812 137.511719 314.007812 141.113281 \"/>\n",
       "<path style=\"fill:none;stroke-width:0.75;stroke-linecap:round;stroke-linejoin:round;stroke:rgb(0%,0%,0%);stroke-opacity:1;stroke-miterlimit:10;\" d=\"M 295.785156 288.714844 C 295.785156 292.316406 290.382812 292.316406 290.382812 288.714844 C 290.382812 285.113281 295.785156 285.113281 295.785156 288.714844 \"/>\n",
       "<path style=\"fill:none;stroke-width:0.75;stroke-linecap:round;stroke-linejoin:round;stroke:rgb(0%,0%,0%);stroke-opacity:1;stroke-miterlimit:10;\" d=\"M 269.75 252.121094 C 269.75 255.71875 264.351562 255.71875 264.351562 252.121094 C 264.351562 248.519531 269.75 248.519531 269.75 252.121094 \"/>\n",
       "<path style=\"fill:none;stroke-width:0.75;stroke-linecap:round;stroke-linejoin:round;stroke:rgb(0%,0%,0%);stroke-opacity:1;stroke-miterlimit:10;\" d=\"M 113.546875 381.425781 C 113.546875 385.023438 108.148438 385.023438 108.148438 381.425781 C 108.148438 377.824219 113.546875 377.824219 113.546875 381.425781 \"/>\n",
       "<path style=\"fill:none;stroke-width:0.75;stroke-linecap:round;stroke-linejoin:round;stroke:rgb(0%,0%,0%);stroke-opacity:1;stroke-miterlimit:10;\" d=\"M 390.808594 72.800781 C 390.808594 76.398438 385.410156 76.398438 385.410156 72.800781 C 385.410156 69.199219 390.808594 69.199219 390.808594 72.800781 \"/>\n",
       "<path style=\"fill:none;stroke-width:0.75;stroke-linecap:round;stroke-linejoin:round;stroke:rgb(0%,0%,0%);stroke-opacity:1;stroke-miterlimit:10;\" d=\"M 359.566406 178.316406 C 359.566406 181.917969 354.167969 181.917969 354.167969 178.316406 C 354.167969 174.71875 359.566406 174.71875 359.566406 178.316406 \"/>\n",
       "<path style=\"fill:none;stroke-width:0.75;stroke-linecap:round;stroke-linejoin:round;stroke:rgb(0%,0%,0%);stroke-opacity:1;stroke-miterlimit:10;\" d=\"M 269.75 283.835938 C 269.75 287.433594 264.351562 287.433594 264.351562 283.835938 C 264.351562 280.234375 269.75 280.234375 269.75 283.835938 \"/>\n",
       "<path style=\"fill:none;stroke-width:0.75;stroke-linecap:round;stroke-linejoin:round;stroke:rgb(0%,0%,0%);stroke-opacity:1;stroke-miterlimit:10;\" d=\"M 273.65625 238.699219 C 273.65625 242.300781 268.257812 242.300781 268.257812 238.699219 C 268.257812 235.101562 273.65625 235.101562 273.65625 238.699219 \"/>\n",
       "<path style=\"fill:none;stroke-width:0.75;stroke-linecap:round;stroke-linejoin:round;stroke:rgb(0%,0%,0%);stroke-opacity:1;stroke-miterlimit:10;\" d=\"M 353.058594 136.234375 C 353.058594 139.832031 347.660156 139.832031 347.660156 136.234375 C 347.660156 132.632812 353.058594 132.632812 353.058594 136.234375 \"/>\n",
       "<path style=\"fill:none;stroke-width:0.75;stroke-linecap:round;stroke-linejoin:round;stroke:rgb(0%,0%,0%);stroke-opacity:1;stroke-miterlimit:10;\" d=\"M 364.773438 135.011719 C 364.773438 138.613281 359.375 138.613281 359.375 135.011719 C 359.375 131.414062 364.773438 131.414062 364.773438 135.011719 \"/>\n",
       "<path style=\"fill:none;stroke-width:0.75;stroke-linecap:round;stroke-linejoin:round;stroke:rgb(0%,0%,0%);stroke-opacity:1;stroke-miterlimit:10;\" d=\"M 86.210938 286.273438 C 86.210938 289.875 80.8125 289.875 80.8125 286.273438 C 80.8125 282.675781 86.210938 282.675781 86.210938 286.273438 \"/>\n",
       "<path style=\"fill:none;stroke-width:0.75;stroke-linecap:round;stroke-linejoin:round;stroke:rgb(0%,0%,0%);stroke-opacity:1;stroke-miterlimit:10;\" d=\"M 134.375 368.003906 C 134.375 371.605469 128.972656 371.605469 128.972656 368.003906 C 128.972656 364.40625 134.375 364.40625 134.375 368.003906 \"/>\n",
       "<path style=\"fill:none;stroke-width:0.75;stroke-linecap:round;stroke-linejoin:round;stroke:rgb(0%,0%,0%);stroke-opacity:1;stroke-miterlimit:10;\" d=\"M 297.085938 268.585938 C 297.085938 272.1875 291.6875 272.1875 291.6875 268.585938 C 291.6875 264.988281 297.085938 264.988281 297.085938 268.585938 \"/>\n",
       "<path style=\"fill:none;stroke-width:0.75;stroke-linecap:round;stroke-linejoin:round;stroke:rgb(0%,0%,0%);stroke-opacity:1;stroke-miterlimit:10;\" d=\"M 265.847656 278.957031 C 265.847656 282.554688 260.445312 282.554688 260.445312 278.957031 C 260.445312 275.355469 265.847656 275.355469 265.847656 278.957031 \"/>\n",
       "<path style=\"fill:none;stroke-width:0.75;stroke-linecap:round;stroke-linejoin:round;stroke:rgb(0%,0%,0%);stroke-opacity:1;stroke-miterlimit:10;\" d=\"M 346.550781 180.757812 C 346.550781 184.359375 341.152344 184.359375 341.152344 180.757812 C 341.152344 177.15625 346.550781 177.15625 346.550781 180.757812 \"/>\n",
       "<path style=\"fill:none;stroke-width:0.75;stroke-linecap:round;stroke-linejoin:round;stroke:rgb(0%,0%,0%);stroke-opacity:1;stroke-miterlimit:10;\" d=\"M 272.355469 253.949219 C 272.355469 257.550781 266.953125 257.550781 266.953125 253.949219 C 266.953125 250.347656 272.355469 250.347656 272.355469 253.949219 \"/>\n",
       "<path style=\"fill:none;stroke-width:0.75;stroke-linecap:round;stroke-linejoin:round;stroke:rgb(0%,0%,0%);stroke-opacity:1;stroke-miterlimit:10;\" d=\"M 334.835938 111.835938 C 334.835938 115.433594 329.4375 115.433594 329.4375 111.835938 C 329.4375 108.234375 334.835938 108.234375 334.835938 111.835938 \"/>\n",
       "<path style=\"fill:none;stroke-width:0.75;stroke-linecap:round;stroke-linejoin:round;stroke:rgb(0%,0%,0%);stroke-opacity:1;stroke-miterlimit:10;\" d=\"M 118.753906 408.871094 C 118.753906 412.472656 113.355469 412.472656 113.355469 408.871094 C 113.355469 405.269531 118.753906 405.269531 118.753906 408.871094 \"/>\n",
       "<path style=\"fill:none;stroke-width:0.75;stroke-linecap:round;stroke-linejoin:round;stroke:rgb(0%,0%,0%);stroke-opacity:1;stroke-miterlimit:10;\" d=\"M 220.285156 250.289062 C 220.285156 253.890625 214.886719 253.890625 214.886719 250.289062 C 214.886719 246.6875 220.285156 246.6875 220.285156 250.289062 \"/>\n",
       "<path style=\"fill:none;stroke-width:0.75;stroke-linecap:round;stroke-linejoin:round;stroke:rgb(0%,0%,0%);stroke-opacity:1;stroke-miterlimit:10;\" d=\"M 355.664062 258.21875 C 355.664062 261.820312 350.261719 261.820312 350.261719 258.21875 C 350.261719 254.617188 355.664062 254.617188 355.664062 258.21875 \"/>\n",
       "<path style=\"fill:none;stroke-width:0.75;stroke-linecap:round;stroke-linejoin:round;stroke:rgb(0%,0%,0%);stroke-opacity:1;stroke-miterlimit:10;\" d=\"M 356.964844 133.792969 C 356.964844 137.394531 351.5625 137.394531 351.5625 133.792969 C 351.5625 130.191406 356.964844 130.191406 356.964844 133.792969 \"/>\n",
       "<path style=\"fill:none;stroke-width:0.75;stroke-linecap:round;stroke-linejoin:round;stroke:rgb(0%,0%,0%);stroke-opacity:1;stroke-miterlimit:10;\" d=\"M 433.765625 351.539062 C 433.765625 355.136719 428.363281 355.136719 428.363281 351.539062 C 428.363281 347.9375 433.765625 347.9375 433.765625 351.539062 \"/>\n",
       "<path style=\"fill:none;stroke-width:0.75;stroke-linecap:round;stroke-linejoin:round;stroke:rgb(0%,0%,0%);stroke-opacity:1;stroke-miterlimit:10;\" d=\"M 334.835938 217.351562 C 334.835938 220.953125 329.4375 220.953125 329.4375 217.351562 C 329.4375 213.753906 334.835938 213.753906 334.835938 217.351562 \"/>\n",
       "<path style=\"fill:none;stroke-width:0.75;stroke-linecap:round;stroke-linejoin:round;stroke:rgb(0%,0%,0%);stroke-opacity:1;stroke-miterlimit:10;\" d=\"M 268.449219 235.652344 C 268.449219 239.25 263.050781 239.25 263.050781 235.652344 C 263.050781 232.050781 268.449219 232.050781 268.449219 235.652344 \"/>\n",
       "<path style=\"fill:none;stroke-width:0.75;stroke-linecap:round;stroke-linejoin:round;stroke:rgb(0%,0%,0%);stroke-opacity:1;stroke-miterlimit:10;\" d=\"M 303.59375 272.855469 C 303.59375 276.457031 298.195312 276.457031 298.195312 272.855469 C 298.195312 269.257812 303.59375 269.257812 303.59375 272.855469 \"/>\n",
       "<path style=\"fill:none;stroke-width:0.75;stroke-linecap:round;stroke-linejoin:round;stroke:rgb(0%,0%,0%);stroke-opacity:1;stroke-miterlimit:10;\" d=\"M 271.050781 258.828125 C 271.050781 262.429688 265.652344 262.429688 265.652344 258.828125 C 265.652344 255.226562 271.050781 255.226562 271.050781 258.828125 \"/>\n",
       "<path style=\"fill:none;stroke-width:0.75;stroke-linecap:round;stroke-linejoin:round;stroke:rgb(0%,0%,0%);stroke-opacity:1;stroke-miterlimit:10;\" d=\"M 86.210938 340.558594 C 86.210938 344.160156 80.8125 344.160156 80.8125 340.558594 C 80.8125 336.957031 86.210938 336.957031 86.210938 340.558594 \"/>\n",
       "<path style=\"fill:none;stroke-width:0.75;stroke-linecap:round;stroke-linejoin:round;stroke:rgb(0%,0%,0%);stroke-opacity:1;stroke-miterlimit:10;\" d=\"M 239.8125 122.8125 C 239.8125 126.414062 234.410156 126.414062 234.410156 122.8125 C 234.410156 119.214844 239.8125 119.214844 239.8125 122.8125 \"/>\n",
       "<path style=\"fill:none;stroke-width:0.75;stroke-linecap:round;stroke-linejoin:round;stroke:rgb(0%,0%,0%);stroke-opacity:1;stroke-miterlimit:10;\" d=\"M 277.5625 242.359375 C 277.5625 245.960938 272.160156 245.960938 272.160156 242.359375 C 272.160156 238.761719 277.5625 238.761719 277.5625 242.359375 \"/>\n",
       "<path style=\"fill:none;stroke-width:0.75;stroke-linecap:round;stroke-linejoin:round;stroke:rgb(0%,0%,0%);stroke-opacity:1;stroke-miterlimit:10;\" d=\"M 256.734375 205.765625 C 256.734375 209.363281 251.332031 209.363281 251.332031 205.765625 C 251.332031 202.164062 256.734375 202.164062 256.734375 205.765625 \"/>\n",
       "<path style=\"fill:none;stroke-width:0.75;stroke-linecap:round;stroke-linejoin:round;stroke:rgb(0%,0%,0%);stroke-opacity:1;stroke-miterlimit:10;\" d=\"M 366.078125 162.460938 C 366.078125 166.058594 360.675781 166.058594 360.675781 162.460938 C 360.675781 158.859375 366.078125 158.859375 366.078125 162.460938 \"/>\n",
       "<path style=\"fill:none;stroke-width:0.75;stroke-linecap:round;stroke-linejoin:round;stroke:rgb(0%,0%,0%);stroke-opacity:1;stroke-miterlimit:10;\" d=\"M 238.511719 266.148438 C 238.511719 269.746094 233.109375 269.746094 233.109375 266.148438 C 233.109375 262.546875 238.511719 262.546875 238.511719 266.148438 \"/>\n",
       "<path style=\"fill:none;stroke-width:0.75;stroke-linecap:round;stroke-linejoin:round;stroke:rgb(0%,0%,0%);stroke-opacity:1;stroke-miterlimit:10;\" d=\"M 189.046875 176.488281 C 189.046875 180.089844 183.644531 180.089844 183.644531 176.488281 C 183.644531 172.886719 189.046875 172.886719 189.046875 176.488281 \"/>\n",
       "<path style=\"fill:none;stroke-width:0.75;stroke-linecap:round;stroke-linejoin:round;stroke:rgb(0%,0%,0%);stroke-opacity:1;stroke-miterlimit:10;\" d=\"M 77.101562 416.800781 C 77.101562 420.398438 71.699219 420.398438 71.699219 416.800781 C 71.699219 413.199219 77.101562 413.199219 77.101562 416.800781 \"/>\n",
       "<path style=\"fill:none;stroke-width:0.75;stroke-linecap:round;stroke-linejoin:round;stroke:rgb(0%,0%,0%);stroke-opacity:1;stroke-miterlimit:10;\" d=\"M 278.863281 165.507812 C 278.863281 169.109375 273.460938 169.109375 273.460938 165.507812 C 273.460938 161.910156 278.863281 161.910156 278.863281 165.507812 \"/>\n",
       "<path style=\"fill:none;stroke-width:0.75;stroke-linecap:round;stroke-linejoin:round;stroke:rgb(0%,0%,0%);stroke-opacity:1;stroke-miterlimit:10;\" d=\"M 129.167969 285.664062 C 129.167969 289.265625 123.769531 289.265625 123.769531 285.664062 C 123.769531 282.066406 129.167969 282.066406 129.167969 285.664062 \"/>\n",
       "<path style=\"fill:none;stroke-width:0.75;stroke-linecap:round;stroke-linejoin:round;stroke:rgb(0%,0%,0%);stroke-opacity:1;stroke-miterlimit:10;\" d=\"M 202.0625 237.480469 C 202.0625 241.082031 196.664062 241.082031 196.664062 237.480469 C 196.664062 233.878906 202.0625 233.878906 202.0625 237.480469 \"/>\n",
       "<path style=\"fill:none;stroke-width:0.75;stroke-linecap:round;stroke-linejoin:round;stroke:rgb(0%,0%,0%);stroke-opacity:1;stroke-miterlimit:10;\" d=\"M 461.101562 115.496094 C 461.101562 119.09375 455.699219 119.09375 455.699219 115.496094 C 455.699219 111.894531 461.101562 111.894531 461.101562 115.496094 \"/>\n",
       "<path style=\"fill:none;stroke-width:0.75;stroke-linecap:round;stroke-linejoin:round;stroke:rgb(0%,0%,0%);stroke-opacity:1;stroke-miterlimit:10;\" d=\"M 328.328125 192.347656 C 328.328125 195.945312 322.925781 195.945312 322.925781 192.347656 C 322.925781 188.746094 328.328125 188.746094 328.328125 192.347656 \"/>\n",
       "<path style=\"fill:none;stroke-width:0.75;stroke-linecap:round;stroke-linejoin:round;stroke:rgb(0%,0%,0%);stroke-opacity:1;stroke-miterlimit:10;\" d=\"M 207.269531 287.496094 C 207.269531 291.09375 201.871094 291.09375 201.871094 287.496094 C 201.871094 283.894531 207.269531 283.894531 207.269531 287.496094 \"/>\n",
       "<path style=\"fill:none;stroke-width:0.75;stroke-linecap:round;stroke-linejoin:round;stroke:rgb(0%,0%,0%);stroke-opacity:1;stroke-miterlimit:10;\" d=\"M 411.636719 187.464844 C 411.636719 191.066406 406.234375 191.066406 406.234375 187.464844 C 406.234375 183.867188 411.636719 183.867188 411.636719 187.464844 \"/>\n",
       "<path style=\"fill:none;stroke-width:0.75;stroke-linecap:round;stroke-linejoin:round;stroke:rgb(0%,0%,0%);stroke-opacity:1;stroke-miterlimit:10;\" d=\"M 126.5625 324.089844 C 126.5625 327.691406 121.164062 327.691406 121.164062 324.089844 C 121.164062 320.492188 126.5625 320.492188 126.5625 324.089844 \"/>\n",
       "<path style=\"fill:none;stroke-width:0.75;stroke-linecap:round;stroke-linejoin:round;stroke:rgb(0%,0%,0%);stroke-opacity:1;stroke-miterlimit:10;\" d=\"M 294.484375 141.113281 C 294.484375 144.710938 289.082031 144.710938 289.082031 141.113281 C 289.082031 137.511719 294.484375 137.511719 294.484375 141.113281 \"/>\n",
       "<path style=\"fill:none;stroke-width:0.75;stroke-linecap:round;stroke-linejoin:round;stroke:rgb(0%,0%,0%);stroke-opacity:1;stroke-miterlimit:10;\" d=\"M 403.824219 274.6875 C 403.824219 278.285156 398.425781 278.285156 398.425781 274.6875 C 398.425781 271.085938 403.824219 271.085938 403.824219 274.6875 \"/>\n",
       "<path style=\"fill:none;stroke-width:0.75;stroke-linecap:round;stroke-linejoin:round;stroke:rgb(0%,0%,0%);stroke-opacity:1;stroke-miterlimit:10;\" d=\"M 103.039062 430.558594 L 428.460938 430.558594 \"/>\n",
       "<path style=\"fill:none;stroke-width:0.75;stroke-linecap:round;stroke-linejoin:round;stroke:rgb(0%,0%,0%);stroke-opacity:1;stroke-miterlimit:10;\" d=\"M 103.039062 430.558594 L 103.039062 437.761719 \"/>\n",
       "<path style=\"fill:none;stroke-width:0.75;stroke-linecap:round;stroke-linejoin:round;stroke:rgb(0%,0%,0%);stroke-opacity:1;stroke-miterlimit:10;\" d=\"M 168.121094 430.558594 L 168.121094 437.761719 \"/>\n",
       "<path style=\"fill:none;stroke-width:0.75;stroke-linecap:round;stroke-linejoin:round;stroke:rgb(0%,0%,0%);stroke-opacity:1;stroke-miterlimit:10;\" d=\"M 233.207031 430.558594 L 233.207031 437.761719 \"/>\n",
       "<path style=\"fill:none;stroke-width:0.75;stroke-linecap:round;stroke-linejoin:round;stroke:rgb(0%,0%,0%);stroke-opacity:1;stroke-miterlimit:10;\" d=\"M 298.292969 430.558594 L 298.292969 437.761719 \"/>\n",
       "<path style=\"fill:none;stroke-width:0.75;stroke-linecap:round;stroke-linejoin:round;stroke:rgb(0%,0%,0%);stroke-opacity:1;stroke-miterlimit:10;\" d=\"M 363.375 430.558594 L 363.375 437.761719 \"/>\n",
       "<path style=\"fill:none;stroke-width:0.75;stroke-linecap:round;stroke-linejoin:round;stroke:rgb(0%,0%,0%);stroke-opacity:1;stroke-miterlimit:10;\" d=\"M 428.460938 430.558594 L 428.460938 437.761719 \"/>\n",
       "<g style=\"fill:rgb(0%,0%,0%);fill-opacity:1;\">\n",
       "  <use xlink:href=\"#glyph0-1\" x=\"96.039062\" y=\"455.916016\"/>\n",
       "  <use xlink:href=\"#glyph0-2\" x=\"102.710938\" y=\"455.916016\"/>\n",
       "</g>\n",
       "<g style=\"fill:rgb(0%,0%,0%);fill-opacity:1;\">\n",
       "  <use xlink:href=\"#glyph0-1\" x=\"161.121094\" y=\"455.916016\"/>\n",
       "  <use xlink:href=\"#glyph0-3\" x=\"167.792969\" y=\"455.916016\"/>\n",
       "</g>\n",
       "<g style=\"fill:rgb(0%,0%,0%);fill-opacity:1;\">\n",
       "  <use xlink:href=\"#glyph0-3\" x=\"226.207031\" y=\"455.916016\"/>\n",
       "  <use xlink:href=\"#glyph0-2\" x=\"232.878906\" y=\"455.916016\"/>\n",
       "</g>\n",
       "<g style=\"fill:rgb(0%,0%,0%);fill-opacity:1;\">\n",
       "  <use xlink:href=\"#glyph0-3\" x=\"291.292969\" y=\"455.916016\"/>\n",
       "  <use xlink:href=\"#glyph0-3\" x=\"297.964844\" y=\"455.916016\"/>\n",
       "</g>\n",
       "<g style=\"fill:rgb(0%,0%,0%);fill-opacity:1;\">\n",
       "  <use xlink:href=\"#glyph0-4\" x=\"356.375\" y=\"455.916016\"/>\n",
       "  <use xlink:href=\"#glyph0-2\" x=\"363.046875\" y=\"455.916016\"/>\n",
       "</g>\n",
       "<g style=\"fill:rgb(0%,0%,0%);fill-opacity:1;\">\n",
       "  <use xlink:href=\"#glyph0-4\" x=\"421.460938\" y=\"455.916016\"/>\n",
       "  <use xlink:href=\"#glyph0-3\" x=\"428.132812\" y=\"455.916016\"/>\n",
       "</g>\n",
       "<path style=\"fill:none;stroke-width:0.75;stroke-linecap:round;stroke-linejoin:round;stroke:rgb(0%,0%,0%);stroke-opacity:1;stroke-miterlimit:10;\" d=\"M 59.039062 414.359375 L 59.039062 109.394531 \"/>\n",
       "<path style=\"fill:none;stroke-width:0.75;stroke-linecap:round;stroke-linejoin:round;stroke:rgb(0%,0%,0%);stroke-opacity:1;stroke-miterlimit:10;\" d=\"M 59.039062 414.359375 L 51.839844 414.359375 \"/>\n",
       "<path style=\"fill:none;stroke-width:0.75;stroke-linecap:round;stroke-linejoin:round;stroke:rgb(0%,0%,0%);stroke-opacity:1;stroke-miterlimit:10;\" d=\"M 59.039062 353.367188 L 51.839844 353.367188 \"/>\n",
       "<path style=\"fill:none;stroke-width:0.75;stroke-linecap:round;stroke-linejoin:round;stroke:rgb(0%,0%,0%);stroke-opacity:1;stroke-miterlimit:10;\" d=\"M 59.039062 292.375 L 51.839844 292.375 \"/>\n",
       "<path style=\"fill:none;stroke-width:0.75;stroke-linecap:round;stroke-linejoin:round;stroke:rgb(0%,0%,0%);stroke-opacity:1;stroke-miterlimit:10;\" d=\"M 59.039062 231.382812 L 51.839844 231.382812 \"/>\n",
       "<path style=\"fill:none;stroke-width:0.75;stroke-linecap:round;stroke-linejoin:round;stroke:rgb(0%,0%,0%);stroke-opacity:1;stroke-miterlimit:10;\" d=\"M 59.039062 170.386719 L 51.839844 170.386719 \"/>\n",
       "<path style=\"fill:none;stroke-width:0.75;stroke-linecap:round;stroke-linejoin:round;stroke:rgb(0%,0%,0%);stroke-opacity:1;stroke-miterlimit:10;\" d=\"M 59.039062 109.394531 L 51.839844 109.394531 \"/>\n",
       "<g style=\"fill:rgb(0%,0%,0%);fill-opacity:1;\">\n",
       "  <use xlink:href=\"#glyph1-1\" x=\"41.197266\" y=\"421.359375\"/>\n",
       "  <use xlink:href=\"#glyph1-2\" x=\"41.197266\" y=\"414.6875\"/>\n",
       "</g>\n",
       "<g style=\"fill:rgb(0%,0%,0%);fill-opacity:1;\">\n",
       "  <use xlink:href=\"#glyph1-1\" x=\"41.197266\" y=\"360.367188\"/>\n",
       "  <use xlink:href=\"#glyph1-3\" x=\"41.197266\" y=\"353.695312\"/>\n",
       "</g>\n",
       "<g style=\"fill:rgb(0%,0%,0%);fill-opacity:1;\">\n",
       "  <use xlink:href=\"#glyph1-4\" x=\"41.197266\" y=\"299.375\"/>\n",
       "  <use xlink:href=\"#glyph1-5\" x=\"41.197266\" y=\"292.703125\"/>\n",
       "</g>\n",
       "<g style=\"fill:rgb(0%,0%,0%);fill-opacity:1;\">\n",
       "  <use xlink:href=\"#glyph1-4\" x=\"41.197266\" y=\"238.382812\"/>\n",
       "  <use xlink:href=\"#glyph1-6\" x=\"41.197266\" y=\"231.710938\"/>\n",
       "</g>\n",
       "<g style=\"fill:rgb(0%,0%,0%);fill-opacity:1;\">\n",
       "  <use xlink:href=\"#glyph1-4\" x=\"41.197266\" y=\"177.386719\"/>\n",
       "  <use xlink:href=\"#glyph1-7\" x=\"41.197266\" y=\"170.714844\"/>\n",
       "</g>\n",
       "<g style=\"fill:rgb(0%,0%,0%);fill-opacity:1;\">\n",
       "  <use xlink:href=\"#glyph1-4\" x=\"41.197266\" y=\"116.394531\"/>\n",
       "  <use xlink:href=\"#glyph1-8\" x=\"41.197266\" y=\"109.722656\"/>\n",
       "</g>\n",
       "<path style=\"fill:none;stroke-width:0.75;stroke-linecap:round;stroke-linejoin:round;stroke:rgb(0%,0%,0%);stroke-opacity:1;stroke-miterlimit:10;\" d=\"M 59.039062 430.558594 L 473.761719 430.558594 L 473.761719 59.039062 L 59.039062 59.039062 L 59.039062 430.558594 \"/>\n",
       "<g style=\"fill:rgb(0%,0%,0%);fill-opacity:1;\">\n",
       "  <use xlink:href=\"#glyph0-5\" x=\"195.398438\" y=\"484.716797\"/>\n",
       "  <use xlink:href=\"#glyph0-6\" x=\"204.0625\" y=\"484.716797\"/>\n",
       "  <use xlink:href=\"#glyph0-7\" x=\"206.726562\" y=\"484.716797\"/>\n",
       "  <use xlink:href=\"#glyph0-8\" x=\"213.398438\" y=\"484.716797\"/>\n",
       "  <use xlink:href=\"#glyph0-9\" x=\"220.070312\" y=\"484.716797\"/>\n",
       "  <use xlink:href=\"#glyph0-10\" x=\"223.40625\" y=\"484.716797\"/>\n",
       "  <use xlink:href=\"#glyph0-11\" x=\"229.40625\" y=\"484.716797\"/>\n",
       "  <use xlink:href=\"#glyph0-8\" x=\"235.40625\" y=\"484.716797\"/>\n",
       "  <use xlink:href=\"#glyph0-12\" x=\"242.078125\" y=\"484.716797\"/>\n",
       "  <use xlink:href=\"#glyph0-12\" x=\"248.75\" y=\"484.716797\"/>\n",
       "  <use xlink:href=\"#glyph0-13\" x=\"255.421875\" y=\"484.716797\"/>\n",
       "  <use xlink:href=\"#glyph0-9\" x=\"258.085938\" y=\"484.716797\"/>\n",
       "  <use xlink:href=\"#glyph0-7\" x=\"261.421875\" y=\"484.716797\"/>\n",
       "  <use xlink:href=\"#glyph0-14\" x=\"268.09375\" y=\"484.716797\"/>\n",
       "  <use xlink:href=\"#glyph0-15\" x=\"272.089844\" y=\"484.716797\"/>\n",
       "  <use xlink:href=\"#glyph0-16\" x=\"278.761719\" y=\"484.716797\"/>\n",
       "  <use xlink:href=\"#glyph0-17\" x=\"285.433594\" y=\"484.716797\"/>\n",
       "  <use xlink:href=\"#glyph0-15\" x=\"292.105469\" y=\"484.716797\"/>\n",
       "  <use xlink:href=\"#glyph0-18\" x=\"298.777344\" y=\"484.716797\"/>\n",
       "  <use xlink:href=\"#glyph0-19\" x=\"302.113281\" y=\"484.716797\"/>\n",
       "  <use xlink:href=\"#glyph0-10\" x=\"308.785156\" y=\"484.716797\"/>\n",
       "  <use xlink:href=\"#glyph0-9\" x=\"314.785156\" y=\"484.716797\"/>\n",
       "  <use xlink:href=\"#glyph0-20\" x=\"318.121094\" y=\"484.716797\"/>\n",
       "  <use xlink:href=\"#glyph0-21\" x=\"322.117188\" y=\"484.716797\"/>\n",
       "  <use xlink:href=\"#glyph0-22\" x=\"332.785156\" y=\"484.716797\"/>\n",
       "</g>\n",
       "<g style=\"fill:rgb(0%,0%,0%);fill-opacity:1;\">\n",
       "  <use xlink:href=\"#glyph1-9\" x=\"12.396484\" y=\"307.300781\"/>\n",
       "  <use xlink:href=\"#glyph1-10\" x=\"12.396484\" y=\"300.628906\"/>\n",
       "  <use xlink:href=\"#glyph1-11\" x=\"12.396484\" y=\"297.964844\"/>\n",
       "  <use xlink:href=\"#glyph1-12\" x=\"12.396484\" y=\"294.628906\"/>\n",
       "  <use xlink:href=\"#glyph1-13\" x=\"12.396484\" y=\"287.957031\"/>\n",
       "  <use xlink:href=\"#glyph1-12\" x=\"12.396484\" y=\"284.621094\"/>\n",
       "  <use xlink:href=\"#glyph1-14\" x=\"12.396484\" y=\"277.949219\"/>\n",
       "  <use xlink:href=\"#glyph1-15\" x=\"12.396484\" y=\"271.949219\"/>\n",
       "  <use xlink:href=\"#glyph1-12\" x=\"12.396484\" y=\"265.277344\"/>\n",
       "  <use xlink:href=\"#glyph1-16\" x=\"12.396484\" y=\"258.605469\"/>\n",
       "  <use xlink:href=\"#glyph1-17\" x=\"12.396484\" y=\"252.605469\"/>\n",
       "  <use xlink:href=\"#glyph1-18\" x=\"12.396484\" y=\"249.269531\"/>\n",
       "  <use xlink:href=\"#glyph1-19\" x=\"12.396484\" y=\"242.597656\"/>\n",
       "  <use xlink:href=\"#glyph1-16\" x=\"12.396484\" y=\"235.925781\"/>\n",
       "  <use xlink:href=\"#glyph1-20\" x=\"12.396484\" y=\"229.925781\"/>\n",
       "  <use xlink:href=\"#glyph1-13\" x=\"12.396484\" y=\"223.925781\"/>\n",
       "  <use xlink:href=\"#glyph1-21\" x=\"12.396484\" y=\"220.589844\"/>\n",
       "  <use xlink:href=\"#glyph1-20\" x=\"12.396484\" y=\"216.59375\"/>\n",
       "  <use xlink:href=\"#glyph1-12\" x=\"12.396484\" y=\"210.59375\"/>\n",
       "  <use xlink:href=\"#glyph1-18\" x=\"12.396484\" y=\"203.921875\"/>\n",
       "  <use xlink:href=\"#glyph1-22\" x=\"12.396484\" y=\"197.25\"/>\n",
       "  <use xlink:href=\"#glyph1-23\" x=\"12.396484\" y=\"193.253906\"/>\n",
       "  <use xlink:href=\"#glyph1-24\" x=\"12.396484\" y=\"187.253906\"/>\n",
       "</g>\n",
       "</g>\n",
       "</svg>\n"
      ],
      "text/plain": [
       "plot without title"
      ]
     },
     "metadata": {
      "image/svg+xml": {
       "isolated": true
      }
     },
     "output_type": "display_data"
    }
   ],
   "source": [
    "plot(Life.Exp ~ HS.Grad, data = statedata, xlab = \"High school graduates (%)\", ylab = \"Life expectancy (years)\")"
   ]
  },
  {
   "cell_type": "markdown",
   "metadata": {},
   "source": [
    "It appears there is a positive relationship between the percentage of high-school graduates in the state and the life expectacy of that state. So let's move on to modeling the relationship.\n",
    "\n",
    "R's go-to command for an OLS regression is `lm` for \"linear model.\" It is pretty easy to get R to do all the math."
   ]
  },
  {
   "cell_type": "code",
   "execution_count": 18,
   "metadata": {
    "collapsed": true
   },
   "outputs": [],
   "source": [
    "hs_le_model <- lm(Life.Exp ~ HS.Grad, data = statedata)"
   ]
  },
  {
   "cell_type": "markdown",
   "metadata": {},
   "source": [
    "To get all the juicy stuff out of all the math that was just crunched behind the scenes, call `summary` on the model we just created."
   ]
  },
  {
   "cell_type": "code",
   "execution_count": 19,
   "metadata": {
    "collapsed": false
   },
   "outputs": [
    {
     "data": {
      "text/plain": [
       "\n",
       "Call:\n",
       "lm(formula = Life.Exp ~ HS.Grad, data = statedata)\n",
       "\n",
       "Residuals:\n",
       "     Min       1Q   Median       3Q      Max \n",
       "-3.01867 -0.67517 -0.07538  0.64483  2.17311 \n",
       "\n",
       "Coefficients:\n",
       "            Estimate Std. Error t value Pr(>|t|)    \n",
       "(Intercept) 65.73965    1.04748  62.760  < 2e-16 ***\n",
       "HS.Grad      0.09676    0.01950   4.961  9.2e-06 ***\n",
       "---\n",
       "Signif. codes:  0 ‘***’ 0.001 ‘**’ 0.01 ‘*’ 0.05 ‘.’ 0.1 ‘ ’ 1\n",
       "\n",
       "Residual standard error: 1.103 on 48 degrees of freedom\n",
       "Multiple R-squared:  0.339,\tAdjusted R-squared:  0.3252 \n",
       "F-statistic: 24.61 on 1 and 48 DF,  p-value: 9.196e-06\n"
      ]
     },
     "execution_count": 19,
     "metadata": {},
     "output_type": "execute_result"
    }
   ],
   "source": [
    "summary(hs_le_model)"
   ]
  },
  {
   "cell_type": "markdown",
   "metadata": {},
   "source": [
    "### Interpreting the output\n",
    "\n",
    "There is lots to unpack here:\n",
    "\n",
    "* The formula for the regression line that this model created is in the `Estimate` column. For this example, that formula is $$lifeExpectancy = (0.09676) * hsGraduationRate+65.73965$$\n",
    "\n",
    "\n",
    "* The `Estimate` for `HS.Grad` is the slope of that line. It tells us that for every one percent increase in high school graduation rate, there is an expected increase in life expectancy of one 0.1 year.\n",
    "\n",
    "\n",
    "* The `(Intercept)` term (more specifically, the y-intercept) tells us what the value of the response variable would be if the predictor variable was 0. For this model, a state with a high school graduation rate of 0% would be expected to have a life expectancy of 65.7 years.\n",
    "\n",
    "\n",
    "* `Std. Error` is the error associated with estimating each term.\n",
    "\n",
    "\n",
    "* `t value` is the `Estimate` divided by the `Std. Error`. It is where the estimate falls on the [t distribution](https://en.wikipedia.org/wiki/Student%27s_t-distribution), which will help us decide if something other than randomness could account for this result.\n",
    "\n",
    "\n",
    "* `Pr(>|t|)` is the p-value associated with that t. It is the probability that we are seeing this result or a more extreme one, given that we assume there is no relationship between the estimate and the predictor. A rough guideline says that p-values less than .05 are statistically significant at a 95% confidence level, though this should never be the endpoint of any analysis. `Signif. codes` is a legend for R's conventions.\n",
    "\n",
    "**What makes for a \"good\" model?** It depends on your purpose and takes a lot of work past this printout in R to find out. Regression models are done under numerous assumptions; you should check if these are true of your data. On the NICAR-L listserv, folks have circulated many [helpful](https://www.aasv.org/shap/issues/v15n5/v15n5editor.htm) [resources](http://docs.statwing.com/interpreting-residual-plots-to-improve-your-regression/) that should guide a diagnosis of a model. If you're attempting to use a model to make predictions, you may need to turn to a process like [cross-validation](https://www.cs.cmu.edu/~schneide/tut5/node42.html).\n",
    "\n",
    "In this specific case, it does not appear we have a great model. One quick indicator is the `Multiple R-squared`, which in the case of a linear regression is the square of the correlation coefficient.  The closer to 1 an R-squared is, the better the model (but beware of [overfitting](http://blog.minitab.com/blog/adventures-in-statistics/the-danger-of-overfitting-regression-models))."
   ]
  },
  {
   "cell_type": "markdown",
   "metadata": {},
   "source": [
    "### Extending to multiple predictor variables\n",
    "\n",
    "**Another question we can answer:** There were a few other variables in the data set. What else is affecting a state's life expectancy?\n",
    "\n",
    "Let's add a few more variables to our model: murder rate (per 100,000 population) and illiteracy rate."
   ]
  },
  {
   "cell_type": "code",
   "execution_count": 20,
   "metadata": {
    "collapsed": true
   },
   "outputs": [],
   "source": [
    "multi_model <- lm(Life.Exp ~ HS.Grad + Murder + Illiteracy, data = statedata)"
   ]
  },
  {
   "cell_type": "code",
   "execution_count": 21,
   "metadata": {
    "collapsed": false
   },
   "outputs": [
    {
     "data": {
      "text/plain": [
       "\n",
       "Call:\n",
       "lm(formula = Life.Exp ~ HS.Grad + Murder + Illiteracy, data = statedata)\n",
       "\n",
       "Residuals:\n",
       "     Min       1Q   Median       3Q      Max \n",
       "-1.65922 -0.46400  0.08517  0.59643  1.77657 \n",
       "\n",
       "Coefficients:\n",
       "            Estimate Std. Error t value Pr(>|t|)    \n",
       "(Intercept) 69.73545    1.22208  57.063  < 2e-16 ***\n",
       "HS.Grad      0.05179    0.01876   2.761  0.00825 ** \n",
       "Murder      -0.25813    0.04350  -5.934 3.63e-07 ***\n",
       "Illiteracy   0.25398    0.30508   0.833  0.40942    \n",
       "---\n",
       "Signif. codes:  0 ‘***’ 0.001 ‘**’ 0.01 ‘*’ 0.05 ‘.’ 0.1 ‘ ’ 1\n",
       "\n",
       "Residual standard error: 0.7985 on 46 degrees of freedom\n",
       "Multiple R-squared:  0.6679,\tAdjusted R-squared:  0.6462 \n",
       "F-statistic: 30.83 on 3 and 46 DF,  p-value: 4.444e-11\n"
      ]
     },
     "execution_count": 21,
     "metadata": {},
     "output_type": "execute_result"
    }
   ],
   "source": [
    "summary(multi_model)"
   ]
  },
  {
   "cell_type": "markdown",
   "metadata": {},
   "source": [
    "The same principles detailed above apply to the interpretation of this model.\n",
    "\n",
    "It appears that our R-squared increased to 0.6679, so we're on the way to building a better model to predict life expectancy.\n",
    "\n",
    "But this model incorporates one predictor we can deem statistically insignificant: illiteracy rate. The quick way to make that out is the lack of any asterisks next to that line in the table. Some practices call for throwing out insignificant variables from model If we did that here, the R-squared of the reduced model would be 0.6628, meaning we are gaining little predictive power from knowing what the illiteracy rate is in a state.\n",
    "\n",
    "High school graduation rate was significant at a 99% confidence level (a positive relationship) and the murder rate was significant at a 99.9% level (a negative relationship, which is what we might expect)."
   ]
  },
  {
   "cell_type": "markdown",
   "metadata": {},
   "source": [
    "### Residuals\n",
    "\n",
    "Our latest model gives us an expectation for life expectancy, given the rates of high school graduation, murder and illiteracy. If we wanted to know which states outperformed or underperformed relative to the expectation, we can quickly take a look at the *residuals*.\n",
    "\n",
    "A residual is simply the distance of the actual value from the value the model predicts. This would be relatively easy to calculate by hand: multiply each state's three predictors by their respective estimates from the model, sum that, then add the intercept to get a predicted value. Then, subtract the predicted value from the actual value for the residual.\n",
    "\n",
    "Luckily, R can do this with the built-in functions `predict` and `residuals`. We'll use those two to add columns to our data frame and see which states most outperformed expectations:"
   ]
  },
  {
   "cell_type": "code",
   "execution_count": 22,
   "metadata": {
    "collapsed": false
   },
   "outputs": [
    {
     "data": {
      "text/html": [
       "<table>\n",
       "<thead><tr><th></th><th scope=col>HS.Grad</th><th scope=col>Murder</th><th scope=col>Illiteracy</th><th scope=col>Life.Exp</th><th scope=col>Life.Exp_predicted</th><th scope=col>residual</th></tr></thead>\n",
       "<tbody>\n",
       "\t<tr><th scope=row>Hawaii</th><td>61.9</td><td>6.2</td><td>1.9</td><td>73.6</td><td>71.82343</td><td>1.776571</td></tr>\n",
       "\t<tr><th scope=row>Texas</th><td>47.4</td><td>12.2</td><td>2.2</td><td>70.9</td><td>69.59987</td><td>1.300134</td></tr>\n",
       "\t<tr><th scope=row>California</th><td>62.6</td><td>10.3</td><td>1.1</td><td>71.71</td><td>70.59815</td><td>1.111845</td></tr>\n",
       "\t<tr><th scope=row>Arkansas</th><td>39.9</td><td>10.1</td><td>1.9</td><td>70.66</td><td>69.67732</td><td>0.9826796</td></tr>\n",
       "\t<tr><th scope=row>Michigan</th><td>52.8</td><td>11.1</td><td>0.9</td><td>70.63</td><td>69.8333</td><td>0.7966952</td></tr>\n",
       "\t<tr><th scope=row>Kansas</th><td>59.9</td><td>4.5</td><td>0.6</td><td>72.58</td><td>71.8285</td><td>0.7515031</td></tr>\n",
       "</tbody>\n",
       "</table>\n"
      ],
      "text/latex": [
       "\\begin{tabular}{r|llllll}\n",
       "  & HS.Grad & Murder & Illiteracy & Life.Exp & Life.Exp_predicted & residual\\\\\n",
       "\\hline\n",
       "\tHawaii & 61.9 & 6.2 & 1.9 & 73.6 & 71.82343 & 1.776571\\\\\n",
       "\tTexas & 47.4 & 12.2 & 2.2 & 70.9 & 69.59987 & 1.300134\\\\\n",
       "\tCalifornia & 62.6 & 10.3 & 1.1 & 71.71 & 70.59815 & 1.111845\\\\\n",
       "\tArkansas & 39.9 & 10.1 & 1.9 & 70.66 & 69.67732 & 0.9826796\\\\\n",
       "\tMichigan & 52.8 & 11.1 & 0.9 & 70.63 & 69.8333 & 0.7966952\\\\\n",
       "\tKansas & 59.9 & 4.5 & 0.6 & 72.58 & 71.8285 & 0.7515031\\\\\n",
       "\\end{tabular}\n"
      ],
      "text/plain": [
       "           HS.Grad Murder Illiteracy Life.Exp Life.Exp_predicted  residual\n",
       "Hawaii        61.9    6.2        1.9    73.60           71.82343 1.7765705\n",
       "Texas         47.4   12.2        2.2    70.90           69.59987 1.3001335\n",
       "California    62.6   10.3        1.1    71.71           70.59815 1.1118452\n",
       "Arkansas      39.9   10.1        1.9    70.66           69.67732 0.9826796\n",
       "Michigan      52.8   11.1        0.9    70.63           69.83330 0.7966952\n",
       "Kansas        59.9    4.5        0.6    72.58           71.82850 0.7515031"
      ]
     },
     "execution_count": 22,
     "metadata": {},
     "output_type": "execute_result"
    }
   ],
   "source": [
    "statedata$Life.Exp_predicted <- predict(multi_model)\n",
    "statedata$residual <- residuals(multi_model)\n",
    "head(\n",
    "    statedata[\n",
    "        order(statedata$residual, decreasing = TRUE),\n",
    "        c('HS.Grad','Murder','Illiteracy','Life.Exp','Life.Exp_predicted','residual')\n",
    "    ]\n",
    ")"
   ]
  },
  {
   "cell_type": "markdown",
   "metadata": {},
   "source": [
    "## Logistic regression\n",
    "\n",
    "**When could I use this?** Sometimes, the variable you're trying to predict isn't a number. Use logistic regression when you're trying to figure out if variables help predict a *categorical* outcome.\n",
    "\n",
    "**A question we could answer:** When the RMS Titanic sank, did the [\"women and children first\"](https://en.wikipedia.org/wiki/Women_and_children_first) policy have an effect on the survival rates of passengers?\n",
    "\n",
    "For this example, we'll use the [Titanic](https://stat.ethz.ch/R-manual/R-devel/library/datasets/html/Titanic.html) data set.\n",
    "\n",
    "It breaks the passengers of the Titanic down like so:\n",
    "* Class: 1st, 2nd, 3rd, Crew\n",
    "* Sex: Male, Female\n",
    "* Age: Child, Adult\n",
    "* Survived: No, Yes\n",
    "\n",
    "For each of the 32 combinations of the above categories, there is a row that lists the number of people meeting that classification. Here's what it looks like in a data frame:"
   ]
  },
  {
   "cell_type": "code",
   "execution_count": 23,
   "metadata": {
    "collapsed": false
   },
   "outputs": [
    {
     "data": {
      "text/html": [
       "<table>\n",
       "<thead><tr><th></th><th scope=col>Class</th><th scope=col>Sex</th><th scope=col>Age</th><th scope=col>Survived</th><th scope=col>Freq</th></tr></thead>\n",
       "<tbody>\n",
       "\t<tr><th scope=row>12</th><td>Crew</td><td>Male</td><td>Adult</td><td>No</td><td>670</td></tr>\n",
       "\t<tr><th scope=row>11</th><td>3rd</td><td>Male</td><td>Adult</td><td>No</td><td>387</td></tr>\n",
       "\t<tr><th scope=row>28</th><td>Crew</td><td>Male</td><td>Adult</td><td>Yes</td><td>192</td></tr>\n",
       "\t<tr><th scope=row>10</th><td>2nd</td><td>Male</td><td>Adult</td><td>No</td><td>154</td></tr>\n",
       "\t<tr><th scope=row>29</th><td>1st</td><td>Female</td><td>Adult</td><td>Yes</td><td>140</td></tr>\n",
       "\t<tr><th scope=row>9</th><td>1st</td><td>Male</td><td>Adult</td><td>No</td><td>118</td></tr>\n",
       "</tbody>\n",
       "</table>\n"
      ],
      "text/latex": [
       "\\begin{tabular}{r|lllll}\n",
       "  & Class & Sex & Age & Survived & Freq\\\\\n",
       "\\hline\n",
       "\t12 & Crew & Male & Adult & No & 670\\\\\n",
       "\t11 & 3rd & Male & Adult & No & 387\\\\\n",
       "\t28 & Crew & Male & Adult & Yes & 192\\\\\n",
       "\t10 & 2nd & Male & Adult & No & 154\\\\\n",
       "\t29 & 1st & Female & Adult & Yes & 140\\\\\n",
       "\t9 & 1st & Male & Adult & No & 118\\\\\n",
       "\\end{tabular}\n"
      ],
      "text/plain": [
       "   Class    Sex   Age Survived Freq\n",
       "12  Crew   Male Adult       No  670\n",
       "11   3rd   Male Adult       No  387\n",
       "28  Crew   Male Adult      Yes  192\n",
       "10   2nd   Male Adult       No  154\n",
       "29   1st Female Adult      Yes  140\n",
       "9    1st   Male Adult       No  118"
      ]
     },
     "execution_count": 23,
     "metadata": {},
     "output_type": "execute_result"
    }
   ],
   "source": [
    "# save the R data into a new variable\n",
    "titanic <- data.frame(Titanic)\n",
    "head(titanic[order(titanic$Freq, decreasing = TRUE),])"
   ]
  },
  {
   "cell_type": "markdown",
   "metadata": {},
   "source": [
    "If this is confusing to read: The first line tells us that 670 male, adult crew members didn't survive the sinking.\n",
    "\n",
    "These data take a few steps to transform into a tidy format."
   ]
  },
  {
   "cell_type": "code",
   "execution_count": 24,
   "metadata": {
    "collapsed": false
   },
   "outputs": [
    {
     "name": "stdout",
     "output_type": "stream",
     "text": [
      "[1] 2201 2201\n"
     ]
    }
   ],
   "source": [
    "# drop all the rows with a frequency of 0\n",
    "titanic <- titanic[titanic$Freq != 0,]\n",
    "# replicate each line as many times as the \"Freq\" column calls for\n",
    "# also, drop the \"Freq\" column\n",
    "titanic_long <- titanic[,c(1,2,3,4)][rep(seq_len(dim(titanic)[1]), titanic$Freq),]\n",
    "# confirm that we now have a row for every passenger, which matches the sum of \"Freq\"\n",
    "print(c(nrow(titanic_long), sum(titanic$Freq)))"
   ]
  },
  {
   "cell_type": "markdown",
   "metadata": {},
   "source": [
    "Now, `titanic_long` contains a long, tidy data set, with one row for each of the 2,201 passengers."
   ]
  },
  {
   "cell_type": "code",
   "execution_count": 25,
   "metadata": {
    "collapsed": false
   },
   "outputs": [
    {
     "data": {
      "text/html": [
       "<table>\n",
       "<thead><tr><th></th><th scope=col>Class</th><th scope=col>Sex</th><th scope=col>Age</th><th scope=col>Survived</th></tr></thead>\n",
       "<tbody>\n",
       "\t<tr><th scope=row>3</th><td>3rd</td><td>Male</td><td>Child</td><td>No</td></tr>\n",
       "\t<tr><th scope=row>3.1</th><td>3rd</td><td>Male</td><td>Child</td><td>No</td></tr>\n",
       "\t<tr><th scope=row>3.2</th><td>3rd</td><td>Male</td><td>Child</td><td>No</td></tr>\n",
       "\t<tr><th scope=row>3.3</th><td>3rd</td><td>Male</td><td>Child</td><td>No</td></tr>\n",
       "\t<tr><th scope=row>3.4</th><td>3rd</td><td>Male</td><td>Child</td><td>No</td></tr>\n",
       "\t<tr><th scope=row>3.5</th><td>3rd</td><td>Male</td><td>Child</td><td>No</td></tr>\n",
       "</tbody>\n",
       "</table>\n"
      ],
      "text/latex": [
       "\\begin{tabular}{r|llll}\n",
       "  & Class & Sex & Age & Survived\\\\\n",
       "\\hline\n",
       "\t3 & 3rd & Male & Child & No\\\\\n",
       "\t3.1 & 3rd & Male & Child & No\\\\\n",
       "\t3.2 & 3rd & Male & Child & No\\\\\n",
       "\t3.3 & 3rd & Male & Child & No\\\\\n",
       "\t3.4 & 3rd & Male & Child & No\\\\\n",
       "\t3.5 & 3rd & Male & Child & No\\\\\n",
       "\\end{tabular}\n"
      ],
      "text/plain": [
       "    Class  Sex   Age Survived\n",
       "3     3rd Male Child       No\n",
       "3.1   3rd Male Child       No\n",
       "3.2   3rd Male Child       No\n",
       "3.3   3rd Male Child       No\n",
       "3.4   3rd Male Child       No\n",
       "3.5   3rd Male Child       No"
      ]
     },
     "execution_count": 25,
     "metadata": {},
     "output_type": "execute_result"
    }
   ],
   "source": [
    "head(titanic_long)"
   ]
  },
  {
   "cell_type": "markdown",
   "metadata": {},
   "source": [
    "The structure shows all of our variables are already set as factors (this will be important in a second)."
   ]
  },
  {
   "cell_type": "code",
   "execution_count": 26,
   "metadata": {
    "collapsed": false
   },
   "outputs": [
    {
     "name": "stdout",
     "output_type": "stream",
     "text": [
      "'data.frame':\t2201 obs. of  4 variables:\n",
      " $ Class   : Factor w/ 4 levels \"1st\",\"2nd\",\"3rd\",..: 3 3 3 3 3 3 3 3 3 3 ...\n",
      " $ Sex     : Factor w/ 2 levels \"Male\",\"Female\": 1 1 1 1 1 1 1 1 1 1 ...\n",
      " $ Age     : Factor w/ 2 levels \"Child\",\"Adult\": 1 1 1 1 1 1 1 1 1 1 ...\n",
      " $ Survived: Factor w/ 2 levels \"No\",\"Yes\": 1 1 1 1 1 1 1 1 1 1 ...\n"
     ]
    }
   ],
   "source": [
    "str(titanic_long)"
   ]
  },
  {
   "cell_type": "markdown",
   "metadata": {},
   "source": [
    "To run a logistic regression, we need the `glm` command to create a \"generalized linear model.\""
   ]
  },
  {
   "cell_type": "code",
   "execution_count": 27,
   "metadata": {
    "collapsed": true
   },
   "outputs": [],
   "source": [
    "titanic_model <- glm(\n",
    "    Survived ~ Class + Sex + Age,\n",
    "    data = titanic_long,\n",
    "    family = 'binomial'\n",
    ")"
   ]
  },
  {
   "cell_type": "code",
   "execution_count": 28,
   "metadata": {
    "collapsed": false
   },
   "outputs": [
    {
     "data": {
      "text/plain": [
       "\n",
       "Call:\n",
       "glm(formula = Survived ~ Class + Sex + Age, family = \"binomial\", \n",
       "    data = titanic_long)\n",
       "\n",
       "Deviance Residuals: \n",
       "    Min       1Q   Median       3Q      Max  \n",
       "-2.0812  -0.7149  -0.6656   0.6858   2.1278  \n",
       "\n",
       "Coefficients:\n",
       "            Estimate Std. Error z value Pr(>|z|)    \n",
       "(Intercept)   0.6853     0.2730   2.510   0.0121 *  \n",
       "Class2nd     -1.0181     0.1960  -5.194 2.05e-07 ***\n",
       "Class3rd     -1.7778     0.1716 -10.362  < 2e-16 ***\n",
       "ClassCrew    -0.8577     0.1573  -5.451 5.00e-08 ***\n",
       "SexFemale     2.4201     0.1404  17.236  < 2e-16 ***\n",
       "AgeAdult     -1.0615     0.2440  -4.350 1.36e-05 ***\n",
       "---\n",
       "Signif. codes:  0 ‘***’ 0.001 ‘**’ 0.01 ‘*’ 0.05 ‘.’ 0.1 ‘ ’ 1\n",
       "\n",
       "(Dispersion parameter for binomial family taken to be 1)\n",
       "\n",
       "    Null deviance: 2769.5  on 2200  degrees of freedom\n",
       "Residual deviance: 2210.1  on 2195  degrees of freedom\n",
       "AIC: 2222.1\n",
       "\n",
       "Number of Fisher Scoring iterations: 4\n"
      ]
     },
     "execution_count": 28,
     "metadata": {},
     "output_type": "execute_result"
    }
   ],
   "source": [
    "summary(titanic_model)"
   ]
  },
  {
   "cell_type": "markdown",
   "metadata": {},
   "source": [
    "**A note on factors:** Our predictor columns and the response variables were set as [factors](http://www.ats.ucla.edu/stat/r/modules/factor_variables.htm) before we ran this regression. However, if they were character vectors, before the regression they would be treated as factors, and each column's levels would be set in alphabetical order.\n",
    "\n",
    "### Interpreting the output\n",
    "\n",
    "* In any regression output, categorical variables are compared against a baseline group. If the variables were characters, the baseline level would be the first alphabetically. With factors, predictors are compared against the first level.\n",
    "* In a logistic regression, the estimate spit out by R is the \"log-odds\" of that group compared to the baseline group. To get the odds ratio, you must exponentiate the log-odds. (More in a second on odds and the confusion that arises when trying to explain them.)\n",
    "* We can read that the women more likely to survive the sinking than men and adults were less likely to survive than children, simply because of the sign of the estimate and the asterisks indicating statistical significance. These data to appear to back up the assertion that women and children were evacuated first. \n",
    "* Also, the data show that passengers in the more affluent First Class deck of the ship survived at greater rates. This can be surmised because each of those three class estimates are negative (and significant) with respect to the baseline group, which in this case is First Class. This follows logically, as the First Class decks were closer to the top of the ship."
   ]
  },
  {
   "cell_type": "markdown",
   "metadata": {},
   "source": [
    "### Converting odds ratios to risk ratios\n",
    "\n",
    "Reporting relative odds instead of relative risk can be problematic for a few reasons:\n",
    "- Odds are hard to explain.\n",
    "- Readers often think that a ratio of odds expresses relative probabilities, which is not the case.\n",
    "- Odds ratios are sensitive to the numerator of the denominator of the ratio. In other words, the more common the event you are modeling is in the control group, the more the odds ratio will overstate the relative probabilities of something occurring. Generally speaking, odds ratios should only be used as an approximation of relative probability (something was X times more likely) if the event you are modeling occurs less than 10% of the time in the control group (the denominator of your odds ratio.)\n",
    "- An example of this is below, from a study of the effect of active intervention on the rate of patients quitting smoking. The odds ratio can overstate the relative risk by as much as a factor of 3 here."
   ]
  },
  {
   "cell_type": "markdown",
   "metadata": {},
   "source": [
    "![alt text](http://www.treatobacco.net/en/uploads/image/Fig_%201%20Odds%20ratio.jpg)"
   ]
  },
  {
   "cell_type": "markdown",
   "metadata": {},
   "source": [
    "Let's revisit the Titanic example and walk through how to represent the difference between the adult and children groups."
   ]
  },
  {
   "cell_type": "code",
   "execution_count": 29,
   "metadata": {
    "collapsed": false
   },
   "outputs": [
    {
     "data": {
      "text/plain": [
       "       \n",
       "          No  Yes\n",
       "  Child   52   57\n",
       "  Adult 1438  654"
      ]
     },
     "execution_count": 29,
     "metadata": {},
     "output_type": "execute_result"
    }
   ],
   "source": [
    "table(titanic_long$Age, titanic_long$Survived)"
   ]
  },
  {
   "cell_type": "markdown",
   "metadata": {},
   "source": [
    "The logistic regression told us that the relative odds of an adult surviving the wreck were $e^{-1.0615}=0.346$ compared to the child group. But, as mentioned above, this can be a little cumbersom to explain.\n",
    "\n",
    "From the table, we can calculate the **relative risk** of a child surviving the Titanic wreck compared to adults.\n",
    "\n",
    "The process is fairly simple: We first calculate the probability that a child survived, then compare that to a the probability that an adult survived."
   ]
  },
  {
   "cell_type": "code",
   "execution_count": 30,
   "metadata": {
    "collapsed": false
   },
   "outputs": [
    {
     "data": {
      "text/html": [
       "0.522935779816514"
      ],
      "text/latex": [
       "0.522935779816514"
      ],
      "text/markdown": [
       "0.522935779816514"
      ],
      "text/plain": [
       "[1] 0.5229358"
      ]
     },
     "execution_count": 30,
     "metadata": {},
     "output_type": "execute_result"
    }
   ],
   "source": [
    "child_risk <- 57 / (57 + 52)\n",
    "child_risk"
   ]
  },
  {
   "cell_type": "code",
   "execution_count": 31,
   "metadata": {
    "collapsed": false
   },
   "outputs": [
    {
     "data": {
      "text/html": [
       "0.312619502868069"
      ],
      "text/latex": [
       "0.312619502868069"
      ],
      "text/markdown": [
       "0.312619502868069"
      ],
      "text/plain": [
       "[1] 0.3126195"
      ]
     },
     "execution_count": 31,
     "metadata": {},
     "output_type": "execute_result"
    }
   ],
   "source": [
    "adult_risk <- 654 / (654 + 1438)\n",
    "adult_risk"
   ]
  },
  {
   "cell_type": "markdown",
   "metadata": {},
   "source": [
    "The risk ratio, then, is the ratio of those two figures."
   ]
  },
  {
   "cell_type": "code",
   "execution_count": 32,
   "metadata": {
    "collapsed": false
   },
   "outputs": [
    {
     "data": {
      "text/html": [
       "1.67275481861796"
      ],
      "text/latex": [
       "1.67275481861796"
      ],
      "text/markdown": [
       "1.67275481861796"
      ],
      "text/plain": [
       "[1] 1.672755"
      ]
     },
     "execution_count": 32,
     "metadata": {},
     "output_type": "execute_result"
    }
   ],
   "source": [
    "child_risk / adult_risk"
   ]
  },
  {
   "cell_type": "markdown",
   "metadata": {
    "collapsed": true
   },
   "source": [
    "This tells us that children on the Titanic had a 67% greater chance of surviving the wreck that sunk the Titanic."
   ]
  }
 ],
 "metadata": {
  "kernelspec": {
   "display_name": "R",
   "language": "R",
   "name": "ir"
  },
  "language_info": {
   "codemirror_mode": "r",
   "file_extension": ".r",
   "mimetype": "text/x-r-source",
   "name": "R",
   "pygments_lexer": "r",
   "version": "3.2.2"
  }
 },
 "nbformat": 4,
 "nbformat_minor": 0
}
