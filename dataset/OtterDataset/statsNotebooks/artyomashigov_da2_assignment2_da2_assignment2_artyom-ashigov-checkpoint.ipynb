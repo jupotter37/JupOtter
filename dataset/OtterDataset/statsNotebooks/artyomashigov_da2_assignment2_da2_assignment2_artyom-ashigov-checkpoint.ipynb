{
 "cells": [
  {
   "cell_type": "markdown",
   "id": "af73529a",
   "metadata": {},
   "source": [
    "# Assignment 2 \n",
    "In this assignment, we will focus on analyzing hotels in Rome. The dependent variable for our analysis will be a dummy variable named highly_rated, which takes a value of 1 if the hotel's rating is 4 or higher and 0 otherwise.\n",
    "\n",
    "To assess the factors that influence whether a hotel in Rome is considered highly rated, we will employ three different modeling approaches: linear probability models (LPMs), logistic regression (logit) models, and probit models. As exploratory variables, we will consider distance from the city center and the star rating of the hotel. We will introduce a dummy variable named premium_hotels, which will take a value of 1 if the hotel has 4 or more stars and 0 otherwise.\n",
    "\n",
    "To gain further insights from our analysis, we will create visualizations that illustrate the relationships between the variables. Additionally, we will carefully interpret the results of our models to draw meaningful conclusions about the factors that contribute to a hotel being highly rated in Rome.\n",
    "\n",
    "[Github link](https://github.com/artyomashigov/da2_assignment2)"
   ]
  },
  {
   "cell_type": "markdown",
   "id": "42a66360",
   "metadata": {},
   "source": [
    "## Importing the data and libraries"
   ]
  },
  {
   "cell_type": "code",
   "execution_count": 1,
   "id": "432b4dfb",
   "metadata": {},
   "outputs": [],
   "source": [
    "# importing all libraries\n",
    "import os\n",
    "import sys\n",
    "import warnings\n",
    "\n",
    "import numpy as np\n",
    "import pandas as pd\n",
    "import seaborn as sns\n",
    "from patsy import dmatrices\n",
    "import matplotlib.pyplot as plt\n",
    "from mizani.formatters import percent_format\n",
    "from plotnine import *\n",
    "from datetime import datetime\n",
    "from sklearn.metrics import r2_score\n",
    "import statsmodels.api as sm\n",
    "import statsmodels.formula.api as smf\n",
    "from scipy.stats import norm\n",
    "from IPython.core.display import HTML\n",
    "from stargazer.stargazer import Stargazer\n",
    "import statsmodels.nonparametric.kernel_regression as loess\n",
    "\n",
    "from sklearn.metrics import mean_squared_error\n",
    "from sklearn.metrics import r2_score\n",
    "from sklearn.metrics import log_loss\n",
    "\n",
    "\n",
    "from mizani.transforms import log_trans\n",
    "from mizani.formatters import percent_format\n",
    "from mizani.formatters import log_format\n",
    "\n",
    "# removing warnings\n",
    "\n",
    "warnings.filterwarnings(\"ignore\")"
   ]
  },
  {
   "cell_type": "code",
   "execution_count": 2,
   "id": "9c8f0e21",
   "metadata": {},
   "outputs": [
    {
     "data": {
      "text/html": [
       "<div>\n",
       "<style scoped>\n",
       "    .dataframe tbody tr th:only-of-type {\n",
       "        vertical-align: middle;\n",
       "    }\n",
       "\n",
       "    .dataframe tbody tr th {\n",
       "        vertical-align: top;\n",
       "    }\n",
       "\n",
       "    .dataframe thead th {\n",
       "        text-align: right;\n",
       "    }\n",
       "</style>\n",
       "<table border=\"1\" class=\"dataframe\">\n",
       "  <thead>\n",
       "    <tr style=\"text-align: right;\">\n",
       "      <th></th>\n",
       "      <th>hotel_id</th>\n",
       "      <th>price</th>\n",
       "      <th>offer</th>\n",
       "      <th>offer_cat</th>\n",
       "      <th>year</th>\n",
       "      <th>month</th>\n",
       "      <th>weekend</th>\n",
       "      <th>holiday</th>\n",
       "      <th>nnights</th>\n",
       "      <th>scarce_room</th>\n",
       "    </tr>\n",
       "  </thead>\n",
       "  <tbody>\n",
       "    <tr>\n",
       "      <th>0</th>\n",
       "      <td>1</td>\n",
       "      <td>172</td>\n",
       "      <td>0</td>\n",
       "      <td>0% no offer</td>\n",
       "      <td>2017</td>\n",
       "      <td>11</td>\n",
       "      <td>1</td>\n",
       "      <td>0</td>\n",
       "      <td>1</td>\n",
       "      <td>0</td>\n",
       "    </tr>\n",
       "  </tbody>\n",
       "</table>\n",
       "</div>"
      ],
      "text/plain": [
       "   hotel_id  price  offer    offer_cat  year  month  weekend  holiday  \\\n",
       "0         1    172      0  0% no offer  2017     11        1        0   \n",
       "\n",
       "   nnights  scarce_room  \n",
       "0        1            0  "
      ]
     },
     "execution_count": 2,
     "metadata": {},
     "output_type": "execute_result"
    }
   ],
   "source": [
    "# getting prices dataset and checking it\n",
    "prices = pd.read_csv('https://osf.io/download/p6tyr/')\n",
    "prices.head(1)"
   ]
  },
  {
   "cell_type": "code",
   "execution_count": 3,
   "id": "4b3a3699",
   "metadata": {},
   "outputs": [
    {
     "name": "stdout",
     "output_type": "stream",
     "text": [
      "Prices dataset has 148021 rows\n"
     ]
    }
   ],
   "source": [
    "# number of rows\n",
    "print(f'Prices dataset has {prices.shape[0]} rows')"
   ]
  },
  {
   "cell_type": "code",
   "execution_count": 4,
   "id": "98b52631",
   "metadata": {},
   "outputs": [
    {
     "data": {
      "text/html": [
       "<div>\n",
       "<style scoped>\n",
       "    .dataframe tbody tr th:only-of-type {\n",
       "        vertical-align: middle;\n",
       "    }\n",
       "\n",
       "    .dataframe tbody tr th {\n",
       "        vertical-align: top;\n",
       "    }\n",
       "\n",
       "    .dataframe thead th {\n",
       "        text-align: right;\n",
       "    }\n",
       "</style>\n",
       "<table border=\"1\" class=\"dataframe\">\n",
       "  <thead>\n",
       "    <tr style=\"text-align: right;\">\n",
       "      <th></th>\n",
       "      <th>hotel_id</th>\n",
       "      <th>city</th>\n",
       "      <th>distance</th>\n",
       "      <th>stars</th>\n",
       "      <th>rating</th>\n",
       "      <th>country</th>\n",
       "      <th>city_actual</th>\n",
       "      <th>rating_reviewcount</th>\n",
       "      <th>center1label</th>\n",
       "      <th>center2label</th>\n",
       "      <th>neighbourhood</th>\n",
       "      <th>ratingta</th>\n",
       "      <th>ratingta_count</th>\n",
       "      <th>distance_alter</th>\n",
       "      <th>accommodation_type</th>\n",
       "    </tr>\n",
       "  </thead>\n",
       "  <tbody>\n",
       "    <tr>\n",
       "      <th>0</th>\n",
       "      <td>1</td>\n",
       "      <td>Amsterdam</td>\n",
       "      <td>3.1</td>\n",
       "      <td>4.0</td>\n",
       "      <td>4.3</td>\n",
       "      <td>Netherlands</td>\n",
       "      <td>Amsterdam</td>\n",
       "      <td>1030.0</td>\n",
       "      <td>City centre</td>\n",
       "      <td>Montelbaanstoren</td>\n",
       "      <td>Amsterdam</td>\n",
       "      <td>4.0</td>\n",
       "      <td>1115.0</td>\n",
       "      <td>3.6</td>\n",
       "      <td>Hotel</td>\n",
       "    </tr>\n",
       "  </tbody>\n",
       "</table>\n",
       "</div>"
      ],
      "text/plain": [
       "   hotel_id       city  distance  stars  rating      country city_actual  \\\n",
       "0         1  Amsterdam       3.1    4.0     4.3  Netherlands   Amsterdam   \n",
       "\n",
       "   rating_reviewcount center1label      center2label neighbourhood  ratingta  \\\n",
       "0              1030.0  City centre  Montelbaanstoren     Amsterdam       4.0   \n",
       "\n",
       "   ratingta_count  distance_alter accommodation_type  \n",
       "0          1115.0             3.6              Hotel  "
      ]
     },
     "execution_count": 4,
     "metadata": {},
     "output_type": "execute_result"
    }
   ],
   "source": [
    "# getting features dataset and checking it\n",
    "features = pd.read_csv('https://osf.io/download/utwjs/')\n",
    "features.head(1)"
   ]
  },
  {
   "cell_type": "code",
   "execution_count": 5,
   "id": "0efaff0c",
   "metadata": {
    "scrolled": true
   },
   "outputs": [
    {
     "name": "stdout",
     "output_type": "stream",
     "text": [
      "Features dataset has 22902 rows\n"
     ]
    }
   ],
   "source": [
    "# number of rows\n",
    "print(f'Features dataset has {features.shape[0]} rows')"
   ]
  },
  {
   "cell_type": "code",
   "execution_count": 6,
   "id": "b78ff11c",
   "metadata": {},
   "outputs": [
    {
     "name": "stdout",
     "output_type": "stream",
     "text": [
      "We have 148021 rows in our dataset\n"
     ]
    }
   ],
   "source": [
    "# merging the datasets.\n",
    "hotels = prices.merge(features, on = 'hotel_id')\n",
    "print(f'We have {hotels.shape[0]} rows in our dataset')"
   ]
  },
  {
   "cell_type": "code",
   "execution_count": 7,
   "id": "334d450c",
   "metadata": {},
   "outputs": [],
   "source": [
    "# showing all columns\n",
    "pd.set_option('display.max_columns',None)"
   ]
  },
  {
   "cell_type": "code",
   "execution_count": 8,
   "id": "11e7661f",
   "metadata": {},
   "outputs": [
    {
     "data": {
      "text/html": [
       "<div>\n",
       "<style scoped>\n",
       "    .dataframe tbody tr th:only-of-type {\n",
       "        vertical-align: middle;\n",
       "    }\n",
       "\n",
       "    .dataframe tbody tr th {\n",
       "        vertical-align: top;\n",
       "    }\n",
       "\n",
       "    .dataframe thead th {\n",
       "        text-align: right;\n",
       "    }\n",
       "</style>\n",
       "<table border=\"1\" class=\"dataframe\">\n",
       "  <thead>\n",
       "    <tr style=\"text-align: right;\">\n",
       "      <th></th>\n",
       "      <th>hotel_id</th>\n",
       "      <th>price</th>\n",
       "      <th>offer</th>\n",
       "      <th>offer_cat</th>\n",
       "      <th>year</th>\n",
       "      <th>month</th>\n",
       "      <th>weekend</th>\n",
       "      <th>holiday</th>\n",
       "      <th>nnights</th>\n",
       "      <th>scarce_room</th>\n",
       "      <th>city</th>\n",
       "      <th>distance</th>\n",
       "      <th>stars</th>\n",
       "      <th>rating</th>\n",
       "      <th>country</th>\n",
       "      <th>city_actual</th>\n",
       "      <th>rating_reviewcount</th>\n",
       "      <th>center1label</th>\n",
       "      <th>center2label</th>\n",
       "      <th>neighbourhood</th>\n",
       "      <th>ratingta</th>\n",
       "      <th>ratingta_count</th>\n",
       "      <th>distance_alter</th>\n",
       "      <th>accommodation_type</th>\n",
       "    </tr>\n",
       "  </thead>\n",
       "  <tbody>\n",
       "    <tr>\n",
       "      <th>0</th>\n",
       "      <td>1</td>\n",
       "      <td>172</td>\n",
       "      <td>0</td>\n",
       "      <td>0% no offer</td>\n",
       "      <td>2017</td>\n",
       "      <td>11</td>\n",
       "      <td>1</td>\n",
       "      <td>0</td>\n",
       "      <td>1</td>\n",
       "      <td>0</td>\n",
       "      <td>Amsterdam</td>\n",
       "      <td>3.1</td>\n",
       "      <td>4.0</td>\n",
       "      <td>4.3</td>\n",
       "      <td>Netherlands</td>\n",
       "      <td>Amsterdam</td>\n",
       "      <td>1030.0</td>\n",
       "      <td>City centre</td>\n",
       "      <td>Montelbaanstoren</td>\n",
       "      <td>Amsterdam</td>\n",
       "      <td>4.0</td>\n",
       "      <td>1115.0</td>\n",
       "      <td>3.6</td>\n",
       "      <td>Hotel</td>\n",
       "    </tr>\n",
       "  </tbody>\n",
       "</table>\n",
       "</div>"
      ],
      "text/plain": [
       "   hotel_id  price  offer    offer_cat  year  month  weekend  holiday  \\\n",
       "0         1    172      0  0% no offer  2017     11        1        0   \n",
       "\n",
       "   nnights  scarce_room       city  distance  stars  rating      country  \\\n",
       "0        1            0  Amsterdam       3.1    4.0     4.3  Netherlands   \n",
       "\n",
       "  city_actual  rating_reviewcount center1label      center2label  \\\n",
       "0   Amsterdam              1030.0  City centre  Montelbaanstoren   \n",
       "\n",
       "  neighbourhood  ratingta  ratingta_count  distance_alter accommodation_type  \n",
       "0     Amsterdam       4.0          1115.0             3.6              Hotel  "
      ]
     },
     "execution_count": 8,
     "metadata": {},
     "output_type": "execute_result"
    }
   ],
   "source": [
    "# checking hotels dataset\n",
    "hotels.head(1)"
   ]
  },
  {
   "cell_type": "markdown",
   "id": "f85d8250",
   "metadata": {},
   "source": [
    "## Cleaning, filtering the data"
   ]
  },
  {
   "cell_type": "code",
   "execution_count": 9,
   "id": "a7c756c9",
   "metadata": {},
   "outputs": [
    {
     "data": {
      "text/html": [
       "<div>\n",
       "<style scoped>\n",
       "    .dataframe tbody tr th:only-of-type {\n",
       "        vertical-align: middle;\n",
       "    }\n",
       "\n",
       "    .dataframe tbody tr th {\n",
       "        vertical-align: top;\n",
       "    }\n",
       "\n",
       "    .dataframe thead th {\n",
       "        text-align: right;\n",
       "    }\n",
       "</style>\n",
       "<table border=\"1\" class=\"dataframe\">\n",
       "  <thead>\n",
       "    <tr style=\"text-align: right;\">\n",
       "      <th></th>\n",
       "      <th>hotel_id</th>\n",
       "      <th>price</th>\n",
       "      <th>offer</th>\n",
       "      <th>offer_cat</th>\n",
       "      <th>year</th>\n",
       "      <th>month</th>\n",
       "      <th>weekend</th>\n",
       "      <th>holiday</th>\n",
       "      <th>nnights</th>\n",
       "      <th>scarce_room</th>\n",
       "      <th>city</th>\n",
       "      <th>distance</th>\n",
       "      <th>stars</th>\n",
       "      <th>rating</th>\n",
       "      <th>country</th>\n",
       "      <th>city_actual</th>\n",
       "      <th>rating_reviewcount</th>\n",
       "      <th>center1label</th>\n",
       "      <th>center2label</th>\n",
       "      <th>neighbourhood</th>\n",
       "      <th>ratingta</th>\n",
       "      <th>ratingta_count</th>\n",
       "      <th>distance_alter</th>\n",
       "      <th>accommodation_type</th>\n",
       "    </tr>\n",
       "  </thead>\n",
       "  <tbody>\n",
       "    <tr>\n",
       "      <th>0</th>\n",
       "      <td>15165</td>\n",
       "      <td>2433</td>\n",
       "      <td>0</td>\n",
       "      <td>0% no offer</td>\n",
       "      <td>2017</td>\n",
       "      <td>12</td>\n",
       "      <td>0</td>\n",
       "      <td>1</td>\n",
       "      <td>4</td>\n",
       "      <td>1</td>\n",
       "      <td>Rome</td>\n",
       "      <td>2.3</td>\n",
       "      <td>NaN</td>\n",
       "      <td>NaN</td>\n",
       "      <td>Italy</td>\n",
       "      <td>Rome</td>\n",
       "      <td>NaN</td>\n",
       "      <td>City centre</td>\n",
       "      <td>Palazzo Madama</td>\n",
       "      <td>Aurelio</td>\n",
       "      <td>NaN</td>\n",
       "      <td>NaN</td>\n",
       "      <td>2.0</td>\n",
       "      <td>Apartment</td>\n",
       "    </tr>\n",
       "    <tr>\n",
       "      <th>1</th>\n",
       "      <td>15166</td>\n",
       "      <td>119</td>\n",
       "      <td>1</td>\n",
       "      <td>1-15% offer</td>\n",
       "      <td>2018</td>\n",
       "      <td>6</td>\n",
       "      <td>1</td>\n",
       "      <td>0</td>\n",
       "      <td>1</td>\n",
       "      <td>0</td>\n",
       "      <td>Rome</td>\n",
       "      <td>3.2</td>\n",
       "      <td>4.0</td>\n",
       "      <td>3.5</td>\n",
       "      <td>Italy</td>\n",
       "      <td>Rome</td>\n",
       "      <td>19.0</td>\n",
       "      <td>City centre</td>\n",
       "      <td>Palazzo Madama</td>\n",
       "      <td>Aurelio</td>\n",
       "      <td>3.5</td>\n",
       "      <td>300.0</td>\n",
       "      <td>2.9</td>\n",
       "      <td>Hotel</td>\n",
       "    </tr>\n",
       "    <tr>\n",
       "      <th>2</th>\n",
       "      <td>15166</td>\n",
       "      <td>128</td>\n",
       "      <td>0</td>\n",
       "      <td>0% no offer</td>\n",
       "      <td>2018</td>\n",
       "      <td>5</td>\n",
       "      <td>1</td>\n",
       "      <td>0</td>\n",
       "      <td>1</td>\n",
       "      <td>0</td>\n",
       "      <td>Rome</td>\n",
       "      <td>3.2</td>\n",
       "      <td>4.0</td>\n",
       "      <td>3.5</td>\n",
       "      <td>Italy</td>\n",
       "      <td>Rome</td>\n",
       "      <td>19.0</td>\n",
       "      <td>City centre</td>\n",
       "      <td>Palazzo Madama</td>\n",
       "      <td>Aurelio</td>\n",
       "      <td>3.5</td>\n",
       "      <td>300.0</td>\n",
       "      <td>2.9</td>\n",
       "      <td>Hotel</td>\n",
       "    </tr>\n",
       "    <tr>\n",
       "      <th>3</th>\n",
       "      <td>15166</td>\n",
       "      <td>385</td>\n",
       "      <td>1</td>\n",
       "      <td>15-50% offer</td>\n",
       "      <td>2017</td>\n",
       "      <td>12</td>\n",
       "      <td>0</td>\n",
       "      <td>1</td>\n",
       "      <td>4</td>\n",
       "      <td>0</td>\n",
       "      <td>Rome</td>\n",
       "      <td>3.2</td>\n",
       "      <td>4.0</td>\n",
       "      <td>3.5</td>\n",
       "      <td>Italy</td>\n",
       "      <td>Rome</td>\n",
       "      <td>19.0</td>\n",
       "      <td>City centre</td>\n",
       "      <td>Palazzo Madama</td>\n",
       "      <td>Aurelio</td>\n",
       "      <td>3.5</td>\n",
       "      <td>300.0</td>\n",
       "      <td>2.9</td>\n",
       "      <td>Hotel</td>\n",
       "    </tr>\n",
       "    <tr>\n",
       "      <th>4</th>\n",
       "      <td>15166</td>\n",
       "      <td>119</td>\n",
       "      <td>1</td>\n",
       "      <td>1-15% offer</td>\n",
       "      <td>2018</td>\n",
       "      <td>3</td>\n",
       "      <td>1</td>\n",
       "      <td>0</td>\n",
       "      <td>1</td>\n",
       "      <td>0</td>\n",
       "      <td>Rome</td>\n",
       "      <td>3.2</td>\n",
       "      <td>4.0</td>\n",
       "      <td>3.5</td>\n",
       "      <td>Italy</td>\n",
       "      <td>Rome</td>\n",
       "      <td>19.0</td>\n",
       "      <td>City centre</td>\n",
       "      <td>Palazzo Madama</td>\n",
       "      <td>Aurelio</td>\n",
       "      <td>3.5</td>\n",
       "      <td>300.0</td>\n",
       "      <td>2.9</td>\n",
       "      <td>Hotel</td>\n",
       "    </tr>\n",
       "  </tbody>\n",
       "</table>\n",
       "</div>"
      ],
      "text/plain": [
       "   hotel_id  price  offer     offer_cat  year  month  weekend  holiday  \\\n",
       "0     15165   2433      0   0% no offer  2017     12        0        1   \n",
       "1     15166    119      1   1-15% offer  2018      6        1        0   \n",
       "2     15166    128      0   0% no offer  2018      5        1        0   \n",
       "3     15166    385      1  15-50% offer  2017     12        0        1   \n",
       "4     15166    119      1   1-15% offer  2018      3        1        0   \n",
       "\n",
       "   nnights  scarce_room  city  distance  stars  rating country city_actual  \\\n",
       "0        4            1  Rome       2.3    NaN     NaN   Italy        Rome   \n",
       "1        1            0  Rome       3.2    4.0     3.5   Italy        Rome   \n",
       "2        1            0  Rome       3.2    4.0     3.5   Italy        Rome   \n",
       "3        4            0  Rome       3.2    4.0     3.5   Italy        Rome   \n",
       "4        1            0  Rome       3.2    4.0     3.5   Italy        Rome   \n",
       "\n",
       "   rating_reviewcount center1label    center2label neighbourhood  ratingta  \\\n",
       "0                 NaN  City centre  Palazzo Madama       Aurelio       NaN   \n",
       "1                19.0  City centre  Palazzo Madama       Aurelio       3.5   \n",
       "2                19.0  City centre  Palazzo Madama       Aurelio       3.5   \n",
       "3                19.0  City centre  Palazzo Madama       Aurelio       3.5   \n",
       "4                19.0  City centre  Palazzo Madama       Aurelio       3.5   \n",
       "\n",
       "   ratingta_count  distance_alter accommodation_type  \n",
       "0             NaN             2.0          Apartment  \n",
       "1           300.0             2.9              Hotel  \n",
       "2           300.0             2.9              Hotel  \n",
       "3           300.0             2.9              Hotel  \n",
       "4           300.0             2.9              Hotel  "
      ]
     },
     "execution_count": 9,
     "metadata": {},
     "output_type": "execute_result"
    }
   ],
   "source": [
    "# getting only accommodations from Rome\n",
    "hotels_rome = hotels[hotels['city_actual']=='Rome'].reset_index(drop = True)\n",
    "# checking rome accommodations\n",
    "hotels_rome.head()"
   ]
  },
  {
   "cell_type": "code",
   "execution_count": 10,
   "id": "d137596b",
   "metadata": {},
   "outputs": [],
   "source": [
    "# taking only hotels\n",
    "hotels_rome = hotels_rome[hotels_rome['accommodation_type'] == 'Hotel']"
   ]
  },
  {
   "cell_type": "code",
   "execution_count": 11,
   "id": "3596c0e1",
   "metadata": {},
   "outputs": [
    {
     "data": {
      "text/plain": [
       "1455"
      ]
     },
     "execution_count": 11,
     "metadata": {},
     "output_type": "execute_result"
    }
   ],
   "source": [
    "# number of unique hotels in rome\n",
    "hotels_rome['hotel_id'].nunique()"
   ]
  },
  {
   "cell_type": "code",
   "execution_count": 12,
   "id": "7c686624",
   "metadata": {},
   "outputs": [
    {
     "data": {
      "image/png": "[encoded data removed]",
      "text/plain": [
       "<Figure size 1000x600 with 1 Axes>"
      ]
     },
     "metadata": {},
     "output_type": "display_data"
    }
   ],
   "source": [
    "# Set the style for the plot\n",
    "sns.set(style=\"whitegrid\")\n",
    "\n",
    "# Plotting the distribution of prices\n",
    "plt.figure(figsize=(10, 6))\n",
    "sns.histplot(hotels_rome['price'], bins=50)\n",
    "\n",
    "# Adding titles and labels\n",
    "plt.title('Distribution of Hotel Prices in Rome')\n",
    "plt.xlabel('Price (in Euros)')\n",
    "plt.ylabel('Number of Hotels')\n",
    "\n",
    "# Display the plot\n",
    "plt.show()"
   ]
  },
  {
   "cell_type": "markdown",
   "id": "f67b9d09",
   "metadata": {},
   "source": [
    "Price distribution looks normal. We will keep all observations"
   ]
  },
  {
   "cell_type": "code",
   "execution_count": 13,
   "id": "ca2a7530",
   "metadata": {},
   "outputs": [
    {
     "data": {
      "image/png": "[encoded data removed]",
      "text/plain": [
       "<Figure size 1000x600 with 1 Axes>"
      ]
     },
     "metadata": {},
     "output_type": "display_data"
    }
   ],
   "source": [
    "# Set the style for the plot\n",
    "sns.set(style=\"whitegrid\")\n",
    "\n",
    "# Plotting the distribution of prices\n",
    "plt.figure(figsize=(10, 6))\n",
    "sns.histplot(hotels_rome['distance'], bins=30)\n",
    "\n",
    "# Adding a vertical line at 10 miles\n",
    "plt.axvline(x=10, color='red', linestyle='--')\n",
    "\n",
    "# Adding a text label\n",
    "plt.text(10.5, plt.ylim()[1]*0.9, 'Too Far', color='red')\n",
    "\n",
    "# Adding titles and labels\n",
    "plt.title('Distribution of Hotel Prices in Rome')\n",
    "plt.xlabel('Price (in Euros)')\n",
    "plt.ylabel('Number of Hotels')\n",
    "\n",
    "# Display the plot\n",
    "plt.show()"
   ]
  },
  {
   "cell_type": "markdown",
   "id": "a07e51e7",
   "metadata": {},
   "source": [
    "We will disregard hotels more than 10 miles away. They are our extreme values"
   ]
  },
  {
   "cell_type": "code",
   "execution_count": 14,
   "id": "2232287d",
   "metadata": {},
   "outputs": [],
   "source": [
    "# keeping hotels with distance less than 10 miles from the city center\n",
    "hotels_rome = hotels_rome[hotels_rome['distance'] < 10].reset_index(drop = True)"
   ]
  },
  {
   "cell_type": "code",
   "execution_count": 15,
   "id": "bb15b4b1",
   "metadata": {},
   "outputs": [
    {
     "data": {
      "text/plain": [
       "hotel_id               0\n",
       "price                  0\n",
       "offer                  0\n",
       "offer_cat              0\n",
       "year                   0\n",
       "month                  0\n",
       "weekend                0\n",
       "holiday                0\n",
       "nnights                0\n",
       "scarce_room            0\n",
       "city                   0\n",
       "distance               0\n",
       "stars                  0\n",
       "rating                39\n",
       "country                0\n",
       "city_actual            0\n",
       "rating_reviewcount    39\n",
       "center1label           0\n",
       "center2label           0\n",
       "neighbourhood          0\n",
       "ratingta               0\n",
       "ratingta_count         0\n",
       "distance_alter         0\n",
       "accommodation_type     0\n",
       "dtype: int64"
      ]
     },
     "execution_count": 15,
     "metadata": {},
     "output_type": "execute_result"
    }
   ],
   "source": [
    "# to count null values\n",
    "hotels_rome.isna().sum()"
   ]
  },
  {
   "cell_type": "code",
   "execution_count": 16,
   "id": "ee6406fb",
   "metadata": {},
   "outputs": [],
   "source": [
    "# adding binary variable, that is 1 if users rating is higher or equal to 4\n",
    "hotels_rome['highly_rated'] = (hotels_rome['rating'] >= 4).astype(int)"
   ]
  },
  {
   "cell_type": "markdown",
   "id": "bb7b4743",
   "metadata": {},
   "source": [
    "We will add another dummy variable for stars. Stars is an ordinal variable which means there is ranking but the difference between 1 star and 2 stars can be different than between 3 and 4 stars"
   ]
  },
  {
   "cell_type": "code",
   "execution_count": 17,
   "id": "1493806d",
   "metadata": {},
   "outputs": [
    {
     "data": {
      "text/plain": [
       "stars\n",
       "3.0    2090\n",
       "4.0    1988\n",
       "2.0     536\n",
       "5.0     289\n",
       "1.0     266\n",
       "3.5      16\n",
       "Name: count, dtype: int64"
      ]
     },
     "execution_count": 17,
     "metadata": {},
     "output_type": "execute_result"
    }
   ],
   "source": [
    "hotels_rome['stars'].value_counts()"
   ]
  },
  {
   "cell_type": "code",
   "execution_count": 18,
   "id": "4b084613",
   "metadata": {},
   "outputs": [],
   "source": [
    "# Hotels with 4 and 5 stars are coded as 1, others as 0\n",
    "hotels_rome['premium_hotel'] = (hotels_rome['stars'] >= 4).astype(int)"
   ]
  },
  {
   "cell_type": "markdown",
   "id": "7c2994c3",
   "metadata": {},
   "source": [
    "## LPM model"
   ]
  },
  {
   "cell_type": "code",
   "execution_count": 19,
   "id": "a90bbe54",
   "metadata": {},
   "outputs": [],
   "source": [
    "# creating models\n",
    "lpm1 = smf.ols(\"highly_rated ~ distance\", data=hotels_rome).fit(cov_type=\"HC3\") # for robust\n",
    "lpm2 = smf.ols(\"highly_rated ~ distance + premium_hotel\", data=hotels_rome).fit(covtype=\"HC3\") "
   ]
  },
  {
   "cell_type": "code",
   "execution_count": 20,
   "id": "9802e2bb",
   "metadata": {},
   "outputs": [
    {
     "data": {
      "text/html": [
       "<table style=\"text-align:center\"><tr><td colspan=\"3\" style=\"border-bottom: 1px solid black\"></td></tr>\n",
       "<tr><td style=\"text-align:left\"></td><td colspan=\"2\"><em>Dependent variable: highly_rated</em></td></tr><tr><td style=\"text-align:left\"></td><tr><td style=\"text-align:left\"></td><td>(1)</td><td>(2)</td></tr>\n",
       "<tr><td colspan=\"3\" style=\"border-bottom: 1px solid black\"></td></tr>\n",
       "\n",
       "<tr><td style=\"text-align:left\">distance</td><td>-0.039<sup>***</sup></td><td>-0.044<sup>***</sup></td></tr>\n",
       "<tr><td style=\"text-align:left\"></td><td>(0.004)</td><td>(0.004)</td></tr>\n",
       "<tr><td style=\"text-align:left\">premium_hotel</td><td></td><td>0.243<sup>***</sup></td></tr>\n",
       "<tr><td style=\"text-align:left\"></td><td></td><td>(0.013)</td></tr>\n",
       "<tr><td style=\"text-align:left\">Constant</td><td>0.538<sup>***</sup></td><td>0.440<sup>***</sup></td></tr>\n",
       "<tr><td style=\"text-align:left\"></td><td>(0.010)</td><td>(0.011)</td></tr>\n",
       "\n",
       "<td colspan=\"3\" style=\"border-bottom: 1px solid black\"></td></tr>\n",
       "<tr><td style=\"text-align: left\">Observations</td><td>5185</td><td>5185</td></tr><tr><td style=\"text-align: left\">R<sup>2</sup></td><td>0.016</td><td>0.074</td></tr><tr><td style=\"text-align: left\">Adjusted R<sup>2</sup></td><td>0.016</td><td>0.074</td></tr><tr><td style=\"text-align: left\">Residual Std. Error</td><td>0.495 (df=5183)</td><td>0.481 (df=5182)</td></tr><tr><td style=\"text-align: left\">F Statistic</td><td>90.122<sup>***</sup> (df=1; 5183)</td><td>207.906<sup>***</sup> (df=2; 5182)</td></tr>\n",
       "<tr><td colspan=\"3\" style=\"border-bottom: 1px solid black\"></td></tr><tr><td style=\"text-align: left\">Note:</td><td colspan=\"2\" style=\"text-align: right\"><sup>*</sup>p&lt;0.1; <sup>**</sup>p&lt;0.05; <sup>***</sup>p&lt;0.01</td></tr></table>"
      ],
      "text/plain": [
       "<stargazer.stargazer.Stargazer at 0x24ba5053cd0>"
      ]
     },
     "execution_count": 20,
     "metadata": {},
     "output_type": "execute_result"
    }
   ],
   "source": [
    "# adding table\n",
    "stargazer = Stargazer([lpm1, lpm2])\n",
    "stargazer.covariate_order([\"distance\",'premium_hotel', \"Intercept\"])\n",
    "stargazer.rename_covariates({\"Intercept\": \"Constant\"})\n",
    "stargazer"
   ]
  },
  {
   "cell_type": "markdown",
   "id": "9d6bfdb4",
   "metadata": {},
   "source": [
    "From the results, we can see that distance and premium_hotel are significant at 1%. The R-squared is better for the 2nd model when we add the premium_hotel variable (if the hotel has 4 or 5 stars).\n",
    "\n",
    "(2nd model) Our constant means that there is a 44 percent probability of being a highly-rated hotel (rating >=4). The distance coefficient shows that when the distance increases by 1 mile, the probability of being a highly-rated hotel decreases by approximately 4 percent. SE defines the confidence interval. For a 95% CI, it is [-0.052, -0.036], which means that a 1-mile distance affects the probability of being highly rated by around 4-5% negatively. It doesn't include 0, so we can also reject Ho based on that (of course, we can do that by looking at p as well).\n",
    "\n",
    "The coefficient of premium_hotel indicates that if the hotel is premium (stars >=4), there is a 24% higher probability of the hotel being highly rated. Because our coefficients are significant we can conclude that the results also would be applicable for all hotel is Rome"
   ]
  },
  {
   "cell_type": "code",
   "execution_count": 21,
   "id": "f4401399",
   "metadata": {},
   "outputs": [],
   "source": [
    "# predicting the values\n",
    "hotels_rome[\"pred_lpm\"] = lpm2.predict()"
   ]
  },
  {
   "cell_type": "code",
   "execution_count": 22,
   "id": "3030579e",
   "metadata": {},
   "outputs": [
    {
     "data": {
      "text/plain": [
       "count    5185.0000\n",
       "mean        0.4760\n",
       "std         0.1361\n",
       "min         0.0453\n",
       "25%         0.3871\n",
       "50%         0.4181\n",
       "75%         0.6348\n",
       "max         0.6792\n",
       "Name: pred_lpm, dtype: float64"
      ]
     },
     "execution_count": 22,
     "metadata": {},
     "output_type": "execute_result"
    }
   ],
   "source": [
    "# checking the distribution\n",
    "hotels_rome[\"pred_lpm\"].describe().round(4)"
   ]
  },
  {
   "cell_type": "code",
   "execution_count": 23,
   "id": "1f9f0c1d",
   "metadata": {},
   "outputs": [
    {
     "data": {
      "image/png": "[encoded data removed]",
      "text/plain": [
       "<Figure size 640x480 with 1 Axes>"
      ]
     },
     "metadata": {},
     "output_type": "display_data"
    }
   ],
   "source": [
    "sns.histplot(data=hotels_rome, x=\"pred_lpm\", stat=\"density\", bins = 30)\n",
    "plt.xlabel(\"Predicted Probability of being highly rated\")\n",
    "plt.ylabel(\"Relative Frequency\")\n",
    "plt.show()"
   ]
  },
  {
   "cell_type": "markdown",
   "id": "7c2ba671",
   "metadata": {},
   "source": [
    "## Logit model"
   ]
  },
  {
   "cell_type": "code",
   "execution_count": 24,
   "id": "bd99c758",
   "metadata": {},
   "outputs": [
    {
     "name": "stdout",
     "output_type": "stream",
     "text": [
      "Optimization terminated successfully.\n",
      "         Current function value: 0.653708\n",
      "         Iterations 5\n"
     ]
    }
   ],
   "source": [
    "# creating the model\n",
    "y, X = dmatrices(\n",
    "    \"highly_rated ~ distance + premium_hotel\",\n",
    "    hotels_rome,\n",
    ")\n",
    "\n",
    "logit = sm.Logit(y, X)\n",
    "logit_result = logit.fit(cov_type='HC3') # for robust we need to use HC3"
   ]
  },
  {
   "cell_type": "code",
   "execution_count": 25,
   "id": "029d0df9",
   "metadata": {},
   "outputs": [
    {
     "data": {
      "text/html": [
       "<table class=\"simpletable\">\n",
       "<caption>Logit Regression Results</caption>\n",
       "<tr>\n",
       "  <th>Dep. Variable:</th>     <td>highly_rated</td>   <th>  No. Observations:  </th>  <td>  5185</td>  \n",
       "</tr>\n",
       "<tr>\n",
       "  <th>Model:</th>                 <td>Logit</td>      <th>  Df Residuals:      </th>  <td>  5182</td>  \n",
       "</tr>\n",
       "<tr>\n",
       "  <th>Method:</th>                 <td>MLE</td>       <th>  Df Model:          </th>  <td>     2</td>  \n",
       "</tr>\n",
       "<tr>\n",
       "  <th>Date:</th>            <td>Sat, 02 Dec 2023</td> <th>  Pseudo R-squ.:     </th>  <td>0.05533</td> \n",
       "</tr>\n",
       "<tr>\n",
       "  <th>Time:</th>                <td>18:04:57</td>     <th>  Log-Likelihood:    </th> <td> -3389.5</td> \n",
       "</tr>\n",
       "<tr>\n",
       "  <th>converged:</th>             <td>True</td>       <th>  LL-Null:           </th> <td> -3588.0</td> \n",
       "</tr>\n",
       "<tr>\n",
       "  <th>Covariance Type:</th>        <td>HC3</td>       <th>  LLR p-value:       </th> <td>6.125e-87</td>\n",
       "</tr>\n",
       "</table>\n",
       "<table class=\"simpletable\">\n",
       "<tr>\n",
       "        <td></td>           <th>coef</th>     <th>std err</th>      <th>z</th>      <th>P>|z|</th>  <th>[0.025</th>    <th>0.975]</th>  \n",
       "</tr>\n",
       "<tr>\n",
       "  <th>Intercept</th>     <td>   -0.2307</td> <td>    0.046</td> <td>   -4.968</td> <td> 0.000</td> <td>   -0.322</td> <td>   -0.140</td>\n",
       "</tr>\n",
       "<tr>\n",
       "  <th>distance</th>      <td>   -0.1998</td> <td>    0.020</td> <td>   -9.779</td> <td> 0.000</td> <td>   -0.240</td> <td>   -0.160</td>\n",
       "</tr>\n",
       "<tr>\n",
       "  <th>premium_hotel</th> <td>    1.0174</td> <td>    0.059</td> <td>   17.268</td> <td> 0.000</td> <td>    0.902</td> <td>    1.133</td>\n",
       "</tr>\n",
       "</table>"
      ],
      "text/latex": [
       "\\begin{center}\n",
       "\\begin{tabular}{lclc}\n",
       "\\toprule\n",
       "\\textbf{Dep. Variable:}   &  highly\\_rated   & \\textbf{  No. Observations:  } &     5185    \\\\\n",
       "\\textbf{Model:}           &      Logit       & \\textbf{  Df Residuals:      } &     5182    \\\\\n",
       "\\textbf{Method:}          &       MLE        & \\textbf{  Df Model:          } &        2    \\\\\n",
       "\\textbf{Date:}            & Sat, 02 Dec 2023 & \\textbf{  Pseudo R-squ.:     } &  0.05533    \\\\\n",
       "\\textbf{Time:}            &     18:04:57     & \\textbf{  Log-Likelihood:    } &   -3389.5   \\\\\n",
       "\\textbf{converged:}       &       True       & \\textbf{  LL-Null:           } &   -3588.0   \\\\\n",
       "\\textbf{Covariance Type:} &       HC3        & \\textbf{  LLR p-value:       } & 6.125e-87   \\\\\n",
       "\\bottomrule\n",
       "\\end{tabular}\n",
       "\\begin{tabular}{lcccccc}\n",
       "                        & \\textbf{coef} & \\textbf{std err} & \\textbf{z} & \\textbf{P$> |$z$|$} & \\textbf{[0.025} & \\textbf{0.975]}  \\\\\n",
       "\\midrule\n",
       "\\textbf{Intercept}      &      -0.2307  &        0.046     &    -4.968  &         0.000        &       -0.322    &       -0.140     \\\\\n",
       "\\textbf{distance}       &      -0.1998  &        0.020     &    -9.779  &         0.000        &       -0.240    &       -0.160     \\\\\n",
       "\\textbf{premium\\_hotel} &       1.0174  &        0.059     &    17.268  &         0.000        &        0.902    &        1.133     \\\\\n",
       "\\bottomrule\n",
       "\\end{tabular}\n",
       "%\\caption{Logit Regression Results}\n",
       "\\end{center}"
      ],
      "text/plain": [
       "<class 'statsmodels.iolib.summary.Summary'>\n",
       "\"\"\"\n",
       "                           Logit Regression Results                           \n",
       "==============================================================================\n",
       "Dep. Variable:           highly_rated   No. Observations:                 5185\n",
       "Model:                          Logit   Df Residuals:                     5182\n",
       "Method:                           MLE   Df Model:                            2\n",
       "Date:                Sat, 02 Dec 2023   Pseudo R-squ.:                 0.05533\n",
       "Time:                        18:04:57   Log-Likelihood:                -3389.5\n",
       "converged:                       True   LL-Null:                       -3588.0\n",
       "Covariance Type:                  HC3   LLR p-value:                 6.125e-87\n",
       "=================================================================================\n",
       "                    coef    std err          z      P>|z|      [0.025      0.975]\n",
       "---------------------------------------------------------------------------------\n",
       "Intercept        -0.2307      0.046     -4.968      0.000      -0.322      -0.140\n",
       "distance         -0.1998      0.020     -9.779      0.000      -0.240      -0.160\n",
       "premium_hotel     1.0174      0.059     17.268      0.000       0.902       1.133\n",
       "=================================================================================\n",
       "\"\"\""
      ]
     },
     "execution_count": 25,
     "metadata": {},
     "output_type": "execute_result"
    }
   ],
   "source": [
    "# checking the results\n",
    "# notice the method for logit is MLE or maximum likelihood estimation instead of OLS\n",
    "logit_result.summary()"
   ]
  },
  {
   "cell_type": "code",
   "execution_count": 26,
   "id": "ce20dd95",
   "metadata": {},
   "outputs": [
    {
     "data": {
      "text/plain": [
       "count    5185.000000\n",
       "mean        0.475988\n",
       "std         0.136370\n",
       "min         0.118269\n",
       "25%         0.384517\n",
       "50%         0.413252\n",
       "75%         0.638063\n",
       "max         0.682823\n",
       "Name: pred_logit, dtype: float64"
      ]
     },
     "execution_count": 26,
     "metadata": {},
     "output_type": "execute_result"
    }
   ],
   "source": [
    "# predicting and checking the distribution\n",
    "hotels_rome[\"pred_logit\"] = logit_result.predict()\n",
    "hotels_rome[\"pred_logit\"].describe()"
   ]
  },
  {
   "cell_type": "code",
   "execution_count": 27,
   "id": "e756f221",
   "metadata": {},
   "outputs": [
    {
     "data": {
      "text/html": [
       "<table class=\"simpletable\">\n",
       "<caption>Logit Marginal Effects</caption>\n",
       "<tr>\n",
       "  <th>Dep. Variable:</th> <td>highly_rated</td>\n",
       "</tr>\n",
       "<tr>\n",
       "  <th>Method:</th>            <td>dydx</td>    \n",
       "</tr>\n",
       "<tr>\n",
       "  <th>At:</th>               <td>overall</td>  \n",
       "</tr>\n",
       "</table>\n",
       "<table class=\"simpletable\">\n",
       "<tr>\n",
       "        <th></th>           <th>dy/dx</th>    <th>std err</th>      <th>z</th>      <th>P>|z|</th>  <th>[0.025</th>    <th>0.975]</th>  \n",
       "</tr>\n",
       "<tr>\n",
       "  <th>distance</th>      <td>   -0.0461</td> <td>    0.005</td> <td>  -10.194</td> <td> 0.000</td> <td>   -0.055</td> <td>   -0.037</td>\n",
       "</tr>\n",
       "<tr>\n",
       "  <th>premium_hotel</th> <td>    0.2348</td> <td>    0.012</td> <td>   19.618</td> <td> 0.000</td> <td>    0.211</td> <td>    0.258</td>\n",
       "</tr>\n",
       "</table>"
      ],
      "text/latex": [
       "\\begin{center}\n",
       "\\begin{tabular}{lc}\n",
       "\\toprule\n",
       "\\textbf{Dep. Variable:} & highly\\_rated   \\\\\n",
       "\\textbf{Method:}        &      dydx       \\\\\n",
       "\\textbf{At:}            &    overall      \\\\\n",
       "\\bottomrule\n",
       "\\end{tabular}\n",
       "\\begin{tabular}{ccccccc}\n",
       "       \\textbf{}        & \\textbf{dy/dx} & \\textbf{std err} & \\textbf{z} & \\textbf{P$> |$z$|$} & \\textbf{[0.025} & \\textbf{0.975]}  \\\\\n",
       "\\midrule\n",
       "\\bottomrule\n",
       "\\end{tabular}\n",
       "\\begin{tabular}{lcccccc}\n",
       "\\textbf{distance}       &      -0.0461   &        0.005     &   -10.194  &         0.000        &       -0.055    &       -0.037     \\\\\n",
       "\\textbf{premium\\_hotel} &       0.2348   &        0.012     &    19.618  &         0.000        &        0.211    &        0.258     \\\\\n",
       "\\bottomrule\n",
       "\\end{tabular}\n",
       "%\\caption{Logit Marginal Effects}\n",
       "\\end{center}"
      ],
      "text/plain": [
       "<class 'statsmodels.iolib.summary.Summary'>\n",
       "\"\"\"\n",
       "        Logit Marginal Effects       \n",
       "=====================================\n",
       "Dep. Variable:           highly_rated\n",
       "Method:                          dydx\n",
       "At:                           overall\n",
       "=================================================================================\n",
       "                   dy/dx    std err          z      P>|z|      [0.025      0.975]\n",
       "---------------------------------------------------------------------------------\n",
       "distance         -0.0461      0.005    -10.194      0.000      -0.055      -0.037\n",
       "premium_hotel     0.2348      0.012     19.618      0.000       0.211       0.258\n",
       "=================================================================================\n",
       "\"\"\""
      ]
     },
     "execution_count": 27,
     "metadata": {},
     "output_type": "execute_result"
    }
   ],
   "source": [
    "# getting marginal differences\n",
    "logit_margef_results = logit_result.get_margeff()\n",
    "logit_margef_results.summary()"
   ]
  },
  {
   "cell_type": "markdown",
   "id": "d95b759d",
   "metadata": {},
   "source": [
    "We obtained similar results for the logit model as well. The p-values indicate that the coefficients are significant, and the confidence interval values are consistent. However, for the 'premium_hotel' coefficient, the confidence interval is slightly narrower. The coefficient for 'distance' is -0.046, which is slightly larger in absolute value compared to the coefficient in LPM, while the 'premium_hotel' coefficient is a bit smaller."
   ]
  },
  {
   "cell_type": "markdown",
   "id": "40ac2f3c",
   "metadata": {},
   "source": [
    "## Probit model"
   ]
  },
  {
   "cell_type": "code",
   "execution_count": 28,
   "id": "b5f104bc",
   "metadata": {},
   "outputs": [
    {
     "name": "stdout",
     "output_type": "stream",
     "text": [
      "Optimization terminated successfully.\n",
      "         Current function value: 0.653888\n",
      "         Iterations 4\n"
     ]
    }
   ],
   "source": [
    "# creating the model\n",
    "probit = sm.Probit(y, X)\n",
    "probit_result = probit.fit(cov_type='HC3') # for robust cov type"
   ]
  },
  {
   "cell_type": "code",
   "execution_count": 29,
   "id": "fdd0084b",
   "metadata": {},
   "outputs": [
    {
     "data": {
      "text/html": [
       "<table class=\"simpletable\">\n",
       "<caption>Probit Regression Results</caption>\n",
       "<tr>\n",
       "  <th>Dep. Variable:</th>     <td>highly_rated</td>   <th>  No. Observations:  </th>  <td>  5185</td>  \n",
       "</tr>\n",
       "<tr>\n",
       "  <th>Model:</th>                <td>Probit</td>      <th>  Df Residuals:      </th>  <td>  5182</td>  \n",
       "</tr>\n",
       "<tr>\n",
       "  <th>Method:</th>                 <td>MLE</td>       <th>  Df Model:          </th>  <td>     2</td>  \n",
       "</tr>\n",
       "<tr>\n",
       "  <th>Date:</th>            <td>Sat, 02 Dec 2023</td> <th>  Pseudo R-squ.:     </th>  <td>0.05507</td> \n",
       "</tr>\n",
       "<tr>\n",
       "  <th>Time:</th>                <td>18:04:57</td>     <th>  Log-Likelihood:    </th> <td> -3390.4</td> \n",
       "</tr>\n",
       "<tr>\n",
       "  <th>converged:</th>             <td>True</td>       <th>  LL-Null:           </th> <td> -3588.0</td> \n",
       "</tr>\n",
       "<tr>\n",
       "  <th>Covariance Type:</th>        <td>HC3</td>       <th>  LLR p-value:       </th> <td>1.560e-86</td>\n",
       "</tr>\n",
       "</table>\n",
       "<table class=\"simpletable\">\n",
       "<tr>\n",
       "        <td></td>           <th>coef</th>     <th>std err</th>      <th>z</th>      <th>P>|z|</th>  <th>[0.025</th>    <th>0.975]</th>  \n",
       "</tr>\n",
       "<tr>\n",
       "  <th>Intercept</th>     <td>   -0.1472</td> <td>    0.029</td> <td>   -5.137</td> <td> 0.000</td> <td>   -0.203</td> <td>   -0.091</td>\n",
       "</tr>\n",
       "<tr>\n",
       "  <th>distance</th>      <td>   -0.1200</td> <td>    0.012</td> <td>  -10.061</td> <td> 0.000</td> <td>   -0.143</td> <td>   -0.097</td>\n",
       "</tr>\n",
       "<tr>\n",
       "  <th>premium_hotel</th> <td>    0.6303</td> <td>    0.036</td> <td>   17.417</td> <td> 0.000</td> <td>    0.559</td> <td>    0.701</td>\n",
       "</tr>\n",
       "</table>"
      ],
      "text/latex": [
       "\\begin{center}\n",
       "\\begin{tabular}{lclc}\n",
       "\\toprule\n",
       "\\textbf{Dep. Variable:}   &  highly\\_rated   & \\textbf{  No. Observations:  } &     5185    \\\\\n",
       "\\textbf{Model:}           &      Probit      & \\textbf{  Df Residuals:      } &     5182    \\\\\n",
       "\\textbf{Method:}          &       MLE        & \\textbf{  Df Model:          } &        2    \\\\\n",
       "\\textbf{Date:}            & Sat, 02 Dec 2023 & \\textbf{  Pseudo R-squ.:     } &  0.05507    \\\\\n",
       "\\textbf{Time:}            &     18:04:57     & \\textbf{  Log-Likelihood:    } &   -3390.4   \\\\\n",
       "\\textbf{converged:}       &       True       & \\textbf{  LL-Null:           } &   -3588.0   \\\\\n",
       "\\textbf{Covariance Type:} &       HC3        & \\textbf{  LLR p-value:       } & 1.560e-86   \\\\\n",
       "\\bottomrule\n",
       "\\end{tabular}\n",
       "\\begin{tabular}{lcccccc}\n",
       "                        & \\textbf{coef} & \\textbf{std err} & \\textbf{z} & \\textbf{P$> |$z$|$} & \\textbf{[0.025} & \\textbf{0.975]}  \\\\\n",
       "\\midrule\n",
       "\\textbf{Intercept}      &      -0.1472  &        0.029     &    -5.137  &         0.000        &       -0.203    &       -0.091     \\\\\n",
       "\\textbf{distance}       &      -0.1200  &        0.012     &   -10.061  &         0.000        &       -0.143    &       -0.097     \\\\\n",
       "\\textbf{premium\\_hotel} &       0.6303  &        0.036     &    17.417  &         0.000        &        0.559    &        0.701     \\\\\n",
       "\\bottomrule\n",
       "\\end{tabular}\n",
       "%\\caption{Probit Regression Results}\n",
       "\\end{center}"
      ],
      "text/plain": [
       "<class 'statsmodels.iolib.summary.Summary'>\n",
       "\"\"\"\n",
       "                          Probit Regression Results                           \n",
       "==============================================================================\n",
       "Dep. Variable:           highly_rated   No. Observations:                 5185\n",
       "Model:                         Probit   Df Residuals:                     5182\n",
       "Method:                           MLE   Df Model:                            2\n",
       "Date:                Sat, 02 Dec 2023   Pseudo R-squ.:                 0.05507\n",
       "Time:                        18:04:57   Log-Likelihood:                -3390.4\n",
       "converged:                       True   LL-Null:                       -3588.0\n",
       "Covariance Type:                  HC3   LLR p-value:                 1.560e-86\n",
       "=================================================================================\n",
       "                    coef    std err          z      P>|z|      [0.025      0.975]\n",
       "---------------------------------------------------------------------------------\n",
       "Intercept        -0.1472      0.029     -5.137      0.000      -0.203      -0.091\n",
       "distance         -0.1200      0.012    -10.061      0.000      -0.143      -0.097\n",
       "premium_hotel     0.6303      0.036     17.417      0.000       0.559       0.701\n",
       "=================================================================================\n",
       "\"\"\""
      ]
     },
     "execution_count": 29,
     "metadata": {},
     "output_type": "execute_result"
    }
   ],
   "source": [
    "# checking the results\n",
    "probit_result.summary()"
   ]
  },
  {
   "cell_type": "code",
   "execution_count": 30,
   "id": "9e139992",
   "metadata": {},
   "outputs": [
    {
     "data": {
      "text/plain": [
       "count    5185.000000\n",
       "mean        0.476491\n",
       "std         0.135502\n",
       "min         0.112129\n",
       "25%         0.385434\n",
       "50%         0.417912\n",
       "75%         0.637223\n",
       "max         0.681198\n",
       "Name: pred_probit, dtype: float64"
      ]
     },
     "execution_count": 30,
     "metadata": {},
     "output_type": "execute_result"
    }
   ],
   "source": [
    "# predicting and checking the distribution\n",
    "hotels_rome[\"pred_probit\"] = probit_result.predict()\n",
    "hotels_rome[\"pred_probit\"].describe()"
   ]
  },
  {
   "cell_type": "code",
   "execution_count": 31,
   "id": "20074e75",
   "metadata": {},
   "outputs": [
    {
     "data": {
      "text/html": [
       "<table class=\"simpletable\">\n",
       "<caption>Probit Marginal Effects</caption>\n",
       "<tr>\n",
       "  <th>Dep. Variable:</th> <td>highly_rated</td>\n",
       "</tr>\n",
       "<tr>\n",
       "  <th>Method:</th>            <td>dydx</td>    \n",
       "</tr>\n",
       "<tr>\n",
       "  <th>At:</th>               <td>overall</td>  \n",
       "</tr>\n",
       "</table>\n",
       "<table class=\"simpletable\">\n",
       "<tr>\n",
       "        <th></th>           <th>dy/dx</th>    <th>std err</th>      <th>z</th>      <th>P>|z|</th>  <th>[0.025</th>    <th>0.975]</th>  \n",
       "</tr>\n",
       "<tr>\n",
       "  <th>distance</th>      <td>   -0.0450</td> <td>    0.004</td> <td>  -10.401</td> <td> 0.000</td> <td>   -0.053</td> <td>   -0.036</td>\n",
       "</tr>\n",
       "<tr>\n",
       "  <th>premium_hotel</th> <td>    0.2362</td> <td>    0.012</td> <td>   19.251</td> <td> 0.000</td> <td>    0.212</td> <td>    0.260</td>\n",
       "</tr>\n",
       "</table>"
      ],
      "text/latex": [
       "\\begin{center}\n",
       "\\begin{tabular}{lc}\n",
       "\\toprule\n",
       "\\textbf{Dep. Variable:} & highly\\_rated   \\\\\n",
       "\\textbf{Method:}        &      dydx       \\\\\n",
       "\\textbf{At:}            &    overall      \\\\\n",
       "\\bottomrule\n",
       "\\end{tabular}\n",
       "\\begin{tabular}{ccccccc}\n",
       "       \\textbf{}        & \\textbf{dy/dx} & \\textbf{std err} & \\textbf{z} & \\textbf{P$> |$z$|$} & \\textbf{[0.025} & \\textbf{0.975]}  \\\\\n",
       "\\midrule\n",
       "\\bottomrule\n",
       "\\end{tabular}\n",
       "\\begin{tabular}{lcccccc}\n",
       "\\textbf{distance}       &      -0.0450   &        0.004     &   -10.401  &         0.000        &       -0.053    &       -0.036     \\\\\n",
       "\\textbf{premium\\_hotel} &       0.2362   &        0.012     &    19.251  &         0.000        &        0.212    &        0.260     \\\\\n",
       "\\bottomrule\n",
       "\\end{tabular}\n",
       "%\\caption{Probit Marginal Effects}\n",
       "\\end{center}"
      ],
      "text/plain": [
       "<class 'statsmodels.iolib.summary.Summary'>\n",
       "\"\"\"\n",
       "       Probit Marginal Effects       \n",
       "=====================================\n",
       "Dep. Variable:           highly_rated\n",
       "Method:                          dydx\n",
       "At:                           overall\n",
       "=================================================================================\n",
       "                   dy/dx    std err          z      P>|z|      [0.025      0.975]\n",
       "---------------------------------------------------------------------------------\n",
       "distance         -0.0450      0.004    -10.401      0.000      -0.053      -0.036\n",
       "premium_hotel     0.2362      0.012     19.251      0.000       0.212       0.260\n",
       "=================================================================================\n",
       "\"\"\""
      ]
     },
     "execution_count": 31,
     "metadata": {},
     "output_type": "execute_result"
    }
   ],
   "source": [
    "probit_margef_results = probit_result.get_margeff()\n",
    "probit_margef_results.summary()"
   ]
  },
  {
   "cell_type": "markdown",
   "id": "5e4594ec",
   "metadata": {},
   "source": [
    "We obtain similar results as with logit and LPM. The confidence interval of distance is slightly narrower for probit compared to logit. The coefficients are significant at the 1% level."
   ]
  },
  {
   "cell_type": "markdown",
   "id": "cabd192d",
   "metadata": {},
   "source": [
    "## Visualization"
   ]
  },
  {
   "cell_type": "code",
   "execution_count": 32,
   "id": "495f9fc8",
   "metadata": {},
   "outputs": [],
   "source": [
    "df_plot = pd.melt(\n",
    "    hotels_rome[[\"pred_lpm\", \"pred_logit\", \"pred_probit\"]].rename(\n",
    "        columns={\"pred_logit\": \"Logit\", \"pred_probit\": \"Probit\"}\n",
    "    ),\n",
    "    value_vars=[\"Logit\", \"Probit\"],\n",
    "    id_vars=[\"pred_lpm\"],\n",
    ").sort_values(by=[\"variable\"], ascending=False)"
   ]
  },
  {
   "cell_type": "code",
   "execution_count": 33,
   "id": "1b67162e",
   "metadata": {},
   "outputs": [
    {
     "data": {
      "image/png": "[encoded data removed]",
      "text/plain": [
       "<Figure size 640x480 with 1 Axes>"
      ]
     },
     "metadata": {
      "image/png": {
       "height": 480,
       "width": 640
      }
     },
     "output_type": "display_data"
    },
    {
     "data": {
      "text/plain": [
       "<Figure Size: (640 x 480)>"
      ]
     },
     "execution_count": 33,
     "metadata": {},
     "output_type": "execute_result"
    }
   ],
   "source": [
    "g1 = (\n",
    "    ggplot(df_plot, aes(x=\"pred_lpm\", y=\"value\", color=\"variable\"))\n",
    "    + geom_point(size=0.6) \n",
    "    + geom_segment(aes(x=0.04, y=0.04, xend=0.68, yend=0.68), color='red', size=0.5)  # Defining the endpoints\n",
    "    + labs(\n",
    "        x=\"Predicted probability of being highly rated (LPM)\", y=\"Predicted probability\"\n",
    "    )\n",
    "    + scale_y_continuous(expand=[0.00, 0.0], limits=[0, 0.8], breaks=np.arange(0, 1.1, 0.1))\n",
    "    + scale_x_continuous(expand=[0.00, 0.0], limits=[0, 0.8], breaks=np.arange(0, 1.1, 0.1))\n",
    "    + scale_color_manual(values=['green', 'blue'])\n",
    "    + theme_bw()\n",
    "    + theme(\n",
    "        legend_title=element_blank(),\n",
    "        legend_direction=\"horizontal\",\n",
    "        legend_position=(0.75, 0.25),\n",
    "        legend_background=element_blank(),\n",
    "    )\n",
    ")\n",
    "g1\n"
   ]
  },
  {
   "cell_type": "markdown",
   "id": "7be7ceea",
   "metadata": {},
   "source": [
    "The predicted probabilities from the logit and the probit are practically the same. Their range is between 0.11 and 0.68, which is somewhat narrower than the predicted probabilities from the LPM (their range is 0.04 to 0.68 there). The narrower ranges are the results of the S-shaped curves of the logit and the probit that approach zero and one slowly, in contrast with the straight line produced by the LPM."
   ]
  },
  {
   "cell_type": "code",
   "execution_count": 34,
   "id": "29b4cb38",
   "metadata": {},
   "outputs": [],
   "source": [
    "lpmbase = smf.ols(\"highly_rated ~ distance + premium_hotel\", data=hotels_rome).fit(cov_type=\"HC3\")\n",
    "hotels_rome[\"pred_lpmbase\"] = lpmbase.predict()"
   ]
  },
  {
   "cell_type": "code",
   "execution_count": 35,
   "id": "16081ac6",
   "metadata": {},
   "outputs": [
    {
     "data": {
      "text/html": [
       "<div>\n",
       "<style scoped>\n",
       "    .dataframe tbody tr th:only-of-type {\n",
       "        vertical-align: middle;\n",
       "    }\n",
       "\n",
       "    .dataframe tbody tr th {\n",
       "        vertical-align: top;\n",
       "    }\n",
       "\n",
       "    .dataframe thead th {\n",
       "        text-align: right;\n",
       "    }\n",
       "</style>\n",
       "<table border=\"1\" class=\"dataframe\">\n",
       "  <thead>\n",
       "    <tr style=\"text-align: right;\">\n",
       "      <th></th>\n",
       "      <th>LPM</th>\n",
       "      <th>Logit</th>\n",
       "      <th>Probit</th>\n",
       "    </tr>\n",
       "  </thead>\n",
       "  <tbody>\n",
       "    <tr>\n",
       "      <th>R-squared</th>\n",
       "      <td>0.074</td>\n",
       "      <td>0.076</td>\n",
       "      <td>0.076</td>\n",
       "    </tr>\n",
       "    <tr>\n",
       "      <th>Brier-score</th>\n",
       "      <td>0.231</td>\n",
       "      <td>0.230</td>\n",
       "      <td>0.231</td>\n",
       "    </tr>\n",
       "    <tr>\n",
       "      <th>Pseudo R-squared</th>\n",
       "      <td>NaN</td>\n",
       "      <td>0.055</td>\n",
       "      <td>0.055</td>\n",
       "    </tr>\n",
       "    <tr>\n",
       "      <th>Log-loss</th>\n",
       "      <td>-0.655</td>\n",
       "      <td>-0.654</td>\n",
       "      <td>-0.654</td>\n",
       "    </tr>\n",
       "  </tbody>\n",
       "</table>\n",
       "</div>"
      ],
      "text/plain": [
       "                    LPM  Logit  Probit\n",
       "R-squared         0.074  0.076   0.076\n",
       "Brier-score       0.231  0.230   0.231\n",
       "Pseudo R-squared    NaN  0.055   0.055\n",
       "Log-loss         -0.655 -0.654  -0.654"
      ]
     },
     "execution_count": 35,
     "metadata": {},
     "output_type": "execute_result"
    }
   ],
   "source": [
    "# adding a table of 4 measures\n",
    "pd.DataFrame(\n",
    "    {\n",
    "        \"R-squared\": [\n",
    "            lpm2.rsquared,\n",
    "            r2_score(hotels_rome[\"highly_rated\"], hotels_rome[\"pred_logit\"]),\n",
    "            r2_score(hotels_rome[\"highly_rated\"], hotels_rome[\"pred_probit\"]),\n",
    "        ],\n",
    "        \"Brier-score\": [\n",
    "            mean_squared_error(hotels_rome[\"highly_rated\"], hotels_rome[\"pred_lpm\"]),\n",
    "            mean_squared_error(hotels_rome[\"highly_rated\"], hotels_rome[\"pred_logit\"]),\n",
    "            mean_squared_error(hotels_rome[\"highly_rated\"], hotels_rome[\"pred_probit\"]),\n",
    "        ],\n",
    "        \"Pseudo R-squared\": [np.nan, logit_result.prsquared, probit_result.prsquared],\n",
    "        \"Log-loss\": [\n",
    "            -1 * log_loss(hotels_rome[\"highly_rated\"], hotels_rome[\"pred_lpm\"]),\n",
    "            -1 * log_loss(hotels_rome[\"highly_rated\"], hotels_rome[\"pred_logit\"]),\n",
    "            -1 * log_loss(hotels_rome[\"highly_rated\"], hotels_rome[\"pred_probit\"]),\n",
    "        ],\n",
    "    },\n",
    "    index=[\"LPM\", \"Logit\", \"Probit\"],\n",
    ").T.round(3)"
   ]
  },
  {
   "cell_type": "markdown",
   "id": "32d0e7d4",
   "metadata": {},
   "source": [
    "Overall, the Logit and Probit models seem to perform similarly and better than the LPM model in terms of explaining variance, predictive accuracy, goodness of fit. The differences between Logit and Probit are minimal in these statistics.\n",
    "R-squared is higher for Logit and Probit compared to the LPM, Brier-score is around the same,  Log-loss is slightly smaller in absolute value for Logit and Probit compared to the LPM.\n",
    "\n",
    "Given that our coefficients showed significance at the 1% level, we can infer that the observed pattern might be applicable to all hotels in Rome. However, it's challenging to generalize our findings to a broader context, mainly due to the limited external validity. This limitation arises from the fact that our dataset only covers observations for ten specific dates, and when considering the cultural differences between Rome and other cities in different countries, the external validity is likely to be low."
   ]
  }
 ],
 "metadata": {
  "kernelspec": {
   "display_name": "Python 3 (ipykernel)",
   "language": "python",
   "name": "python3"
  },
  "language_info": {
   "codemirror_mode": {
    "name": "ipython",
    "version": 3
   },
   "file_extension": ".py",
   "mimetype": "text/x-python",
   "name": "python",
   "nbconvert_exporter": "python",
   "pygments_lexer": "ipython3",
   "version": "3.11.4"
  }
 },
 "nbformat": 4,
 "nbformat_minor": 5
}
