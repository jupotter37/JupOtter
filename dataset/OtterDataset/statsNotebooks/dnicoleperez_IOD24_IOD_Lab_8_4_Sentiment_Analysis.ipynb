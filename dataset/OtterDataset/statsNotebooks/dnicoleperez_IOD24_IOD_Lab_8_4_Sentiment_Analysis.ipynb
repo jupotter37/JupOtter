{
 "cells": [
  {
   "cell_type": "markdown",
   "metadata": {
    "id": "UYvQOebqLcfM"
   },
   "source": [
    "<div>\n",
    "<img src=https://www.institutedata.com/wp-content/uploads/2019/10/iod_h_tp_primary_c.svg width=\"300\">\n",
    "</div>"
   ]
  },
  {
   "cell_type": "markdown",
   "metadata": {
    "id": "1JWvLBewLcfP"
   },
   "source": [
    "# Lab 8.4: Sentiment Analysis\n",
    "\n",
    "This lab performs sentiment analysis on sentiment-labelled sentences using two types of feature extraction - a count vectoriser and TF-IDF vectoriser."
   ]
  },
  {
   "cell_type": "markdown",
   "metadata": {
    "id": "HbhmKC6NLcfS"
   },
   "source": [
    "Based on the video tutorial **Text Classification with Machine Learning,SpaCy and Scikit(Sentiment Analysis)** by **Jesse E. Agbe (JCharis)**."
   ]
  },
  {
   "cell_type": "markdown",
   "metadata": {
    "id": "NnuAMgbhLcfV"
   },
   "source": [
    "## Data Source: UCI\n",
    "### UCI - Machine Learning Repository\n",
    "- Center for Machine Learning and Intelligent Systems\n",
    "\n",
    "The [**UCI Machine Learning Repository**](http://archive.ics.uci.edu/about) is a collection of databases, domain theories, and data generators that are used by the machine learning community for the empirical analysis of machine learning algorithms.\n",
    "\n",
    "### Dataset\n",
    "- [Sentiment Labelled Sentences Data Set](http://archive.ics.uci.edu/ml/datasets/Sentiment+Labelled+Sentences)\n",
    "\n",
    "### Abstract\n",
    "The dataset contains sentences labelled with positive or negative sentiment.\n",
    "\n",
    "- Data Set Characteristics: Text\n",
    "- Number of Instances: 3000\n",
    "- Area: N/A\n",
    "- Attribute Characteristics: N/A\n",
    "- Number of Attributes: N/A\n",
    "- Date Donated: 2015-05-30\n",
    "- Associated Tasks: Classification\n",
    "- Missing Values? N/A\n",
    "\n",
    "### Source\n",
    "Dimitrios Kotzias dkotzias '@' ics.uci.edu\n",
    "\n",
    "### Data Set Information\n",
    "This dataset was created for the Paper 'From Group to Individual Labels using Deep Features', Kotzias et. al,. KDD 2015\n",
    "\n",
    "Please cite the paper if you want to use it :)\n",
    "\n",
    "It contains sentences labelled with positive or negative sentiment.\n",
    "\n",
    "### Format\n",
    "sentence &lt;tab&gt; score &lt;newline&gt;\n",
    "\n",
    "### Details\n",
    "Score is either 1 (for positive) or 0 (for negative)\n",
    "\n",
    "The sentences come from three different websites/fields:\n",
    "- imdb.com\n",
    "- amazon.com\n",
    "- yelp.com\n",
    "\n",
    "For each website, there exist **500 positive** and **500 negative** sentences. Those were selected randomly for larger datasets of reviews.\n",
    "\n",
    "We attempted to select sentences that have a clearly positive or negative connotation, the goal was for no neutral sentences to be selected.\n",
    "\n",
    "For the full datasets look:\n",
    "\n",
    "- **imdb**: Maas et. al., 2011 _Learning word vectors for sentiment analysis_\n",
    "- **amazon**: McAuley et. al., 2013 _Hidden factors and hidden topics: Understanding rating dimensions with review text_\n",
    "- **yelp**: [Yelp dataset challenge](http://www.yelp.com/dataset_challenge)\n",
    "\n",
    "\n",
    "### Attribute Information\n",
    "The attributes are text sentences, extracted from reviews of products, movies, and restaurants\n",
    "\n",
    "### Relevant Papers\n",
    "**From Group to Individual Labels using Deep Features**, Kotzias et. al,. KDD 2015\n",
    "\n",
    "### Citation Request\n",
    "**From Group to Individual Labels using Deep Features**, Kotzias et. al,. KDD 2015"
   ]
  },
  {
   "cell_type": "markdown",
   "metadata": {
    "id": "abNvVWdlLcfW"
   },
   "source": [
    "## Import libraries"
   ]
  },
  {
   "cell_type": "code",
   "execution_count": 1,
   "metadata": {
    "ExecuteTime": {
     "end_time": "2019-06-17T01:27:26.865620Z",
     "start_time": "2019-06-17T01:27:24.368522Z"
    },
    "id": "4BJWjM0zLcfZ"
   },
   "outputs": [],
   "source": [
    "## Import Libraries\n",
    "import pandas as pd\n",
    "\n",
    "import regex as re\n",
    "import spacy\n",
    "\n",
    "%matplotlib inline\n",
    "import matplotlib.pyplot as plt\n",
    "import matplotlib.gridspec as gridspec\n",
    "\n",
    "from sklearn.feature_extraction.text import CountVectorizer\n",
    "from sklearn.feature_extraction.text import TfidfVectorizer\n",
    "\n",
    "from sklearn.model_selection import train_test_split\n",
    "\n",
    "from sklearn.svm import SVC\n",
    "\n",
    "from sklearn.metrics import confusion_matrix\n",
    "from sklearn.metrics import accuracy_score\n",
    "from sklearn.metrics import precision_score\n",
    "from sklearn.metrics import recall_score\n",
    "from sklearn.metrics import average_precision_score\n",
    "from sklearn.metrics import roc_auc_score\n",
    "from sklearn.metrics import precision_recall_curve\n",
    "from sklearn.metrics import roc_curve\n",
    "from sklearn.metrics import auc\n",
    "\n",
    "import warnings\n",
    "warnings.filterwarnings('ignore')"
   ]
  },
  {
   "cell_type": "markdown",
   "metadata": {
    "id": "Dzzk6JdcLcfh"
   },
   "source": [
    "## Load data\n",
    "\n",
    "Load Yelp, Amazon and Imdb Data into dataframes. Create three column names 'text', 'sentiment' and 'source' (equal to one of 'yelp', 'imdb' or 'amazon' for each dataframe).\n",
    "\n",
    "Hint: Source is separated by tabs and has no headers."
   ]
  },
  {
   "cell_type": "code",
   "execution_count": 2,
   "metadata": {
    "ExecuteTime": {
     "end_time": "2019-06-17T01:29:38.157718Z",
     "start_time": "2019-06-17T01:29:38.152747Z"
    },
    "id": "GZUWhcCuLcfi"
   },
   "outputs": [],
   "source": [
    "yelp_text = 'yelp_labelled.txt'\n",
    "imdb_text = 'imdb_labelled_fixed.txt'\n",
    "amazon_text = 'amazon_cells_labelled.txt'\n",
    "\n",
    "# ANSWER"
   ]
  },
  {
   "cell_type": "code",
   "execution_count": 3,
   "metadata": {},
   "outputs": [
    {
     "name": "stdout",
     "output_type": "stream",
     "text": [
      "Yelp DataFrame:\n",
      "                                                 text  sentiment  \\\n",
      "0                           Wow... Loved this place.          1   \n",
      "1                                 Crust is not good.          0   \n",
      "2          Not tasty and the texture was just nasty.          0   \n",
      "3  Stopped by during the late May bank holiday of...          1   \n",
      "4  The selection on the menu was great and so wer...          1   \n",
      "\n",
      "  yelp_labelled.txt  \n",
      "0              yelp  \n",
      "1              yelp  \n",
      "2              yelp  \n",
      "3              yelp  \n",
      "4              yelp  \n",
      "\n",
      "IMDb DataFrame:\n",
      "                                                 text  sentiment source\n",
      "0  A very, very, very slow-moving, aimless movie ...          0   imdb\n",
      "1  Not sure who was more lost - the flat characte...          0   imdb\n",
      "2  Attempting artiness with black & white and cle...          0   imdb\n",
      "3       Very little music or anything to speak of.            0   imdb\n",
      "4  The best scene in the movie was when Gerardo i...          1   imdb\n",
      "\n",
      "Amazon DataFrame:\n",
      "                                                 text  sentiment  source\n",
      "0  So there is no way for me to plug it in here i...          0  amazon\n",
      "1                        Good case, Excellent value.          1  amazon\n",
      "2                             Great for the jawbone.          1  amazon\n",
      "3  Tied to charger for conversations lasting more...          0  amazon\n",
      "4                                  The mic is great.          1  amazon\n",
      "\n",
      "Combined DataFrame:\n",
      "                                                 text  sentiment  \\\n",
      "0                           Wow... Loved this place.          1   \n",
      "1                                 Crust is not good.          0   \n",
      "2          Not tasty and the texture was just nasty.          0   \n",
      "3  Stopped by during the late May bank holiday of...          1   \n",
      "4  The selection on the menu was great and so wer...          1   \n",
      "\n",
      "  yelp_labelled.txt source  \n",
      "0              yelp    NaN  \n",
      "1              yelp    NaN  \n",
      "2              yelp    NaN  \n",
      "3              yelp    NaN  \n",
      "4              yelp    NaN  \n"
     ]
    }
   ],
   "source": [
    "\n",
    "# Define file paths to the datasets\n",
    "yelp_text = 'yelp_labelled.txt'        \n",
    "imdb_text = 'imdb_labelled_fixed.txt'  \n",
    "amazon_text = 'amazon_cells_labelled.txt'  \n",
    "\n",
    "# Load the Yelp data\n",
    "yelp_df = pd.read_csv(yelp_text, sep='\\t', header=None, names=['text', 'sentiment'])\n",
    "yelp_df['yelp_labelled.txt'] = 'yelp'  # Set source to 'yelp'\n",
    "\n",
    "# Load the IMDb data\n",
    "imdb_df = pd.read_csv(imdb_text, sep='\\t', header=None, names=['text', 'sentiment'])\n",
    "imdb_df['source'] = 'imdb'  # Set source to 'imdb'\n",
    "\n",
    "# Load the Amazon data\n",
    "amazon_df = pd.read_csv(amazon_text, sep='\\t', header=None, names=['text', 'sentiment'])\n",
    "amazon_df['source'] = 'amazon'  # Set source to 'amazon'\n",
    "\n",
    "# Optionally, combine all datasets into a single DataFrame if needed\n",
    "combined_df = pd.concat([yelp_df, imdb_df, amazon_df], ignore_index=True)\n",
    "\n",
    "# Display the first few rows of each dataframe\n",
    "print(\"Yelp DataFrame:\\n\", yelp_df.head())\n",
    "print(\"\\nIMDb DataFrame:\\n\", imdb_df.head())\n",
    "print(\"\\nAmazon DataFrame:\\n\", amazon_df.head())\n",
    "print(\"\\nCombined DataFrame:\\n\", combined_df.head())\n"
   ]
  },
  {
   "cell_type": "markdown",
   "metadata": {
    "id": "pwa3MBrwLcfo"
   },
   "source": [
    "## Inspect the data\n",
    "\n",
    "Check your datasets."
   ]
  },
  {
   "cell_type": "code",
   "execution_count": 4,
   "metadata": {
    "ExecuteTime": {
     "end_time": "2019-06-17T01:30:01.495935Z",
     "start_time": "2019-06-17T01:30:01.492941Z"
    },
    "id": "NddGh-EQLcfq"
   },
   "outputs": [
    {
     "name": "stdout",
     "output_type": "stream",
     "text": [
      "Yelp DataFrame Inspection\n",
      "----------------------------------------\n",
      "Shape: (1000, 3)\n",
      "First 5 Rows:\n",
      "                                                text  sentiment  \\\n",
      "0                           Wow... Loved this place.          1   \n",
      "1                                 Crust is not good.          0   \n",
      "2          Not tasty and the texture was just nasty.          0   \n",
      "3  Stopped by during the late May bank holiday of...          1   \n",
      "4  The selection on the menu was great and so wer...          1   \n",
      "\n",
      "  yelp_labelled.txt  \n",
      "0              yelp  \n",
      "1              yelp  \n",
      "2              yelp  \n",
      "3              yelp  \n",
      "4              yelp  \n",
      "\n",
      "Summary Statistics:\n",
      "        sentiment\n",
      "count  1000.00000\n",
      "mean      0.50000\n",
      "std       0.50025\n",
      "min       0.00000\n",
      "25%       0.00000\n",
      "50%       0.50000\n",
      "75%       1.00000\n",
      "max       1.00000\n",
      "\n",
      "Missing Values:\n",
      "text                 0\n",
      "sentiment            0\n",
      "yelp_labelled.txt    0\n",
      "dtype: int64\n",
      "\n",
      "Unique Sentiment Labels:\n",
      "[1 0]\n",
      "========================================\n",
      "IMDb DataFrame Inspection\n",
      "----------------------------------------\n",
      "Shape: (1000, 3)\n",
      "First 5 Rows:\n",
      "                                                text  sentiment source\n",
      "0  A very, very, very slow-moving, aimless movie ...          0   imdb\n",
      "1  Not sure who was more lost - the flat characte...          0   imdb\n",
      "2  Attempting artiness with black & white and cle...          0   imdb\n",
      "3       Very little music or anything to speak of.            0   imdb\n",
      "4  The best scene in the movie was when Gerardo i...          1   imdb\n",
      "\n",
      "Summary Statistics:\n",
      "        sentiment\n",
      "count  1000.00000\n",
      "mean      0.50000\n",
      "std       0.50025\n",
      "min       0.00000\n",
      "25%       0.00000\n",
      "50%       0.50000\n",
      "75%       1.00000\n",
      "max       1.00000\n",
      "\n",
      "Missing Values:\n",
      "text         0\n",
      "sentiment    0\n",
      "source       0\n",
      "dtype: int64\n",
      "\n",
      "Unique Sentiment Labels:\n",
      "[0 1]\n",
      "========================================\n",
      "Amazon DataFrame Inspection\n",
      "----------------------------------------\n",
      "Shape: (1000, 3)\n",
      "First 5 Rows:\n",
      "                                                text  sentiment  source\n",
      "0  So there is no way for me to plug it in here i...          0  amazon\n",
      "1                        Good case, Excellent value.          1  amazon\n",
      "2                             Great for the jawbone.          1  amazon\n",
      "3  Tied to charger for conversations lasting more...          0  amazon\n",
      "4                                  The mic is great.          1  amazon\n",
      "\n",
      "Summary Statistics:\n",
      "        sentiment\n",
      "count  1000.00000\n",
      "mean      0.50000\n",
      "std       0.50025\n",
      "min       0.00000\n",
      "25%       0.00000\n",
      "50%       0.50000\n",
      "75%       1.00000\n",
      "max       1.00000\n",
      "\n",
      "Missing Values:\n",
      "text         0\n",
      "sentiment    0\n",
      "source       0\n",
      "dtype: int64\n",
      "\n",
      "Unique Sentiment Labels:\n",
      "[0 1]\n",
      "========================================\n"
     ]
    }
   ],
   "source": [
    "# Function to inspect DataFrames\n",
    "def inspect_data(df, source_name):\n",
    "    print(f\"{source_name} DataFrame Inspection\")\n",
    "    print(\"-\" * 40)\n",
    "    \n",
    "    # Display the shape of the DataFrame\n",
    "    print(f\"Shape: {df.shape}\")\n",
    "    \n",
    "    # Display the first few rows of the DataFrame\n",
    "    print(\"First 5 Rows:\")\n",
    "    print(df.head())\n",
    "    \n",
    "    # Display summary statistics\n",
    "    print(\"\\nSummary Statistics:\")\n",
    "    print(df.describe())\n",
    "    \n",
    "    # Check for any null values\n",
    "    print(\"\\nMissing Values:\")\n",
    "    print(df.isnull().sum())\n",
    "    \n",
    "    print(\"\\nUnique Sentiment Labels:\")\n",
    "    print(df['sentiment'].unique())\n",
    "    \n",
    "    print(\"=\" * 40)\n",
    "\n",
    "# Inspecting each DataFrame\n",
    "inspect_data(yelp_df, 'Yelp')\n",
    "inspect_data(imdb_df, 'IMDb')\n",
    "inspect_data(amazon_df, 'Amazon')\n"
   ]
  },
  {
   "cell_type": "markdown",
   "metadata": {
    "id": "meEtfGfELcf4"
   },
   "source": [
    "## Merge the data\n",
    "\n",
    "Merge all three datasets."
   ]
  },
  {
   "cell_type": "code",
   "execution_count": 5,
   "metadata": {
    "ExecuteTime": {
     "end_time": "2019-06-17T01:30:37.302897Z",
     "start_time": "2019-06-17T01:30:37.299903Z"
    },
    "id": "WVpAx-HHcbwn",
    "outputId": "474633c5-4101-4a38-af3c-e2141f0bfecd"
   },
   "outputs": [
    {
     "name": "stdout",
     "output_type": "stream",
     "text": [
      "Merged DataFrame Shape: (3000, 4)\n",
      "                                                text  sentiment  \\\n",
      "0                           Wow... Loved this place.          1   \n",
      "1                                 Crust is not good.          0   \n",
      "2          Not tasty and the texture was just nasty.          0   \n",
      "3  Stopped by during the late May bank holiday of...          1   \n",
      "4  The selection on the menu was great and so wer...          1   \n",
      "\n",
      "  yelp_labelled.txt source  \n",
      "0              yelp    NaN  \n",
      "1              yelp    NaN  \n",
      "2              yelp    NaN  \n",
      "3              yelp    NaN  \n",
      "4              yelp    NaN  \n",
      "\n",
      "Unique Sources in the Merged DataFrame:\n",
      "[nan 'imdb' 'amazon']\n",
      "\n",
      "Counts of each sentiment in the Merged DataFrame:\n",
      "sentiment\n",
      "1    1500\n",
      "0    1500\n",
      "Name: count, dtype: int64\n"
     ]
    }
   ],
   "source": [
    "# ANSWER\n",
    "\n",
    "# Merge all three datasets\n",
    "merged_df = pd.concat([yelp_df, imdb_df, amazon_df], ignore_index=True)\n",
    "\n",
    "# Display the shape of the merged DataFrame\n",
    "print(\"Merged DataFrame Shape:\", merged_df.shape)\n",
    "\n",
    "# Display the first few rows of the merged DataFrame\n",
    "print(merged_df.head())\n",
    "\n",
    "# Optionally, check unique sources to verify they're correctly represented\n",
    "print(\"\\nUnique Sources in the Merged DataFrame:\")\n",
    "print(merged_df['source'].unique())\n",
    "\n",
    "# Optionally, check counts of each sentiment in the merged DataFrame\n",
    "print(\"\\nCounts of each sentiment in the Merged DataFrame:\")\n",
    "print(merged_df['sentiment'].value_counts())\n"
   ]
  },
  {
   "cell_type": "markdown",
   "metadata": {
    "id": "bzA4FQsPLcgA"
   },
   "source": [
    "## Prepare the stage\n",
    "- Load spaCy"
   ]
  },
  {
   "cell_type": "code",
   "execution_count": 6,
   "metadata": {
    "ExecuteTime": {
     "end_time": "2019-06-17T01:31:19.686599Z",
     "start_time": "2019-06-17T01:31:18.952239Z"
    },
    "id": "wVMTSDYQLcgB"
   },
   "outputs": [
    {
     "ename": "OSError",
     "evalue": "[E050] Can't find model 'en_core_web_sm'. It doesn't seem to be a Python package or a valid path to a data directory.",
     "output_type": "error",
     "traceback": [
      "\u001b[0;31m---------------------------------------------------------------------------\u001b[0m",
      "\u001b[0;31mOSError\u001b[0m                                   Traceback (most recent call last)",
      "Cell \u001b[0;32mIn[6], line 1\u001b[0m\n\u001b[0;32m----> 1\u001b[0m nlp \u001b[38;5;241m=\u001b[39m \u001b[43mspacy\u001b[49m\u001b[38;5;241;43m.\u001b[39;49m\u001b[43mload\u001b[49m\u001b[43m(\u001b[49m\u001b[38;5;124;43m'\u001b[39;49m\u001b[38;5;124;43men_core_web_sm\u001b[39;49m\u001b[38;5;124;43m'\u001b[39;49m\u001b[43m)\u001b[49m\n",
      "File \u001b[0;32m/opt/anaconda3/envs/newIOD/lib/python3.8/site-packages/spacy/__init__.py:51\u001b[0m, in \u001b[0;36mload\u001b[0;34m(name, vocab, disable, enable, exclude, config)\u001b[0m\n\u001b[1;32m     27\u001b[0m \u001b[38;5;28;01mdef\u001b[39;00m \u001b[38;5;21mload\u001b[39m(\n\u001b[1;32m     28\u001b[0m     name: Union[\u001b[38;5;28mstr\u001b[39m, Path],\n\u001b[1;32m     29\u001b[0m     \u001b[38;5;241m*\u001b[39m,\n\u001b[0;32m   (...)\u001b[0m\n\u001b[1;32m     34\u001b[0m     config: Union[Dict[\u001b[38;5;28mstr\u001b[39m, Any], Config] \u001b[38;5;241m=\u001b[39m util\u001b[38;5;241m.\u001b[39mSimpleFrozenDict(),\n\u001b[1;32m     35\u001b[0m ) \u001b[38;5;241m-\u001b[39m\u001b[38;5;241m>\u001b[39m Language:\n\u001b[1;32m     36\u001b[0m \u001b[38;5;250m    \u001b[39m\u001b[38;5;124;03m\"\"\"Load a spaCy model from an installed package or a local path.\u001b[39;00m\n\u001b[1;32m     37\u001b[0m \n\u001b[1;32m     38\u001b[0m \u001b[38;5;124;03m    name (str): Package name or model path.\u001b[39;00m\n\u001b[0;32m   (...)\u001b[0m\n\u001b[1;32m     49\u001b[0m \u001b[38;5;124;03m    RETURNS (Language): The loaded nlp object.\u001b[39;00m\n\u001b[1;32m     50\u001b[0m \u001b[38;5;124;03m    \"\"\"\u001b[39;00m\n\u001b[0;32m---> 51\u001b[0m     \u001b[38;5;28;01mreturn\u001b[39;00m \u001b[43mutil\u001b[49m\u001b[38;5;241;43m.\u001b[39;49m\u001b[43mload_model\u001b[49m\u001b[43m(\u001b[49m\n\u001b[1;32m     52\u001b[0m \u001b[43m        \u001b[49m\u001b[43mname\u001b[49m\u001b[43m,\u001b[49m\n\u001b[1;32m     53\u001b[0m \u001b[43m        \u001b[49m\u001b[43mvocab\u001b[49m\u001b[38;5;241;43m=\u001b[39;49m\u001b[43mvocab\u001b[49m\u001b[43m,\u001b[49m\n\u001b[1;32m     54\u001b[0m \u001b[43m        \u001b[49m\u001b[43mdisable\u001b[49m\u001b[38;5;241;43m=\u001b[39;49m\u001b[43mdisable\u001b[49m\u001b[43m,\u001b[49m\n\u001b[1;32m     55\u001b[0m \u001b[43m        \u001b[49m\u001b[43menable\u001b[49m\u001b[38;5;241;43m=\u001b[39;49m\u001b[43menable\u001b[49m\u001b[43m,\u001b[49m\n\u001b[1;32m     56\u001b[0m \u001b[43m        \u001b[49m\u001b[43mexclude\u001b[49m\u001b[38;5;241;43m=\u001b[39;49m\u001b[43mexclude\u001b[49m\u001b[43m,\u001b[49m\n\u001b[1;32m     57\u001b[0m \u001b[43m        \u001b[49m\u001b[43mconfig\u001b[49m\u001b[38;5;241;43m=\u001b[39;49m\u001b[43mconfig\u001b[49m\u001b[43m,\u001b[49m\n\u001b[1;32m     58\u001b[0m \u001b[43m    \u001b[49m\u001b[43m)\u001b[49m\n",
      "File \u001b[0;32m/opt/anaconda3/envs/newIOD/lib/python3.8/site-packages/spacy/util.py:472\u001b[0m, in \u001b[0;36mload_model\u001b[0;34m(name, vocab, disable, enable, exclude, config)\u001b[0m\n\u001b[1;32m    470\u001b[0m \u001b[38;5;28;01mif\u001b[39;00m name \u001b[38;5;129;01min\u001b[39;00m OLD_MODEL_SHORTCUTS:\n\u001b[1;32m    471\u001b[0m     \u001b[38;5;28;01mraise\u001b[39;00m \u001b[38;5;167;01mIOError\u001b[39;00m(Errors\u001b[38;5;241m.\u001b[39mE941\u001b[38;5;241m.\u001b[39mformat(name\u001b[38;5;241m=\u001b[39mname, full\u001b[38;5;241m=\u001b[39mOLD_MODEL_SHORTCUTS[name]))  \u001b[38;5;66;03m# type: ignore[index]\u001b[39;00m\n\u001b[0;32m--> 472\u001b[0m \u001b[38;5;28;01mraise\u001b[39;00m \u001b[38;5;167;01mIOError\u001b[39;00m(Errors\u001b[38;5;241m.\u001b[39mE050\u001b[38;5;241m.\u001b[39mformat(name\u001b[38;5;241m=\u001b[39mname))\n",
      "\u001b[0;31mOSError\u001b[0m: [E050] Can't find model 'en_core_web_sm'. It doesn't seem to be a Python package or a valid path to a data directory."
     ]
    }
   ],
   "source": [
    "nlp = spacy.load('en_core_web_sm')"
   ]
  },
  {
   "cell_type": "code",
   "execution_count": 7,
   "metadata": {},
   "outputs": [
    {
     "name": "stdout",
     "output_type": "stream",
     "text": [
      "Requirement already satisfied: spacy in /opt/anaconda3/lib/python3.12/site-packages (3.7.6)\n",
      "Requirement already satisfied: spacy-legacy<3.1.0,>=3.0.11 in /opt/anaconda3/lib/python3.12/site-packages (from spacy) (3.0.12)\n",
      "Requirement already satisfied: spacy-loggers<2.0.0,>=1.0.0 in /opt/anaconda3/lib/python3.12/site-packages (from spacy) (1.0.5)\n",
      "Requirement already satisfied: murmurhash<1.1.0,>=0.28.0 in /opt/anaconda3/lib/python3.12/site-packages (from spacy) (1.0.10)\n",
      "Requirement already satisfied: cymem<2.1.0,>=2.0.2 in /opt/anaconda3/lib/python3.12/site-packages (from spacy) (2.0.8)\n",
      "Requirement already satisfied: preshed<3.1.0,>=3.0.2 in /opt/anaconda3/lib/python3.12/site-packages (from spacy) (3.0.9)\n",
      "Requirement already satisfied: thinc<8.3.0,>=8.2.2 in /opt/anaconda3/lib/python3.12/site-packages (from spacy) (8.2.5)\n",
      "Requirement already satisfied: wasabi<1.2.0,>=0.9.1 in /opt/anaconda3/lib/python3.12/site-packages (from spacy) (1.1.3)\n",
      "Requirement already satisfied: srsly<3.0.0,>=2.4.3 in /opt/anaconda3/lib/python3.12/site-packages (from spacy) (2.4.8)\n",
      "Requirement already satisfied: catalogue<2.1.0,>=2.0.6 in /opt/anaconda3/lib/python3.12/site-packages (from spacy) (2.0.10)\n",
      "Requirement already satisfied: weasel<0.5.0,>=0.1.0 in /opt/anaconda3/lib/python3.12/site-packages (from spacy) (0.4.1)\n",
      "Requirement already satisfied: typer<1.0.0,>=0.3.0 in /opt/anaconda3/lib/python3.12/site-packages (from spacy) (0.12.5)\n",
      "Requirement already satisfied: tqdm<5.0.0,>=4.38.0 in /opt/anaconda3/lib/python3.12/site-packages (from spacy) (4.66.4)\n",
      "Requirement already satisfied: requests<3.0.0,>=2.13.0 in /opt/anaconda3/lib/python3.12/site-packages (from spacy) (2.32.2)\n",
      "Requirement already satisfied: pydantic!=1.8,!=1.8.1,<3.0.0,>=1.7.4 in /opt/anaconda3/lib/python3.12/site-packages (from spacy) (2.5.3)\n",
      "Requirement already satisfied: jinja2 in /opt/anaconda3/lib/python3.12/site-packages (from spacy) (3.1.4)\n",
      "Requirement already satisfied: setuptools in /opt/anaconda3/lib/python3.12/site-packages (from spacy) (69.5.1)\n",
      "Requirement already satisfied: packaging>=20.0 in /opt/anaconda3/lib/python3.12/site-packages (from spacy) (23.2)\n",
      "Requirement already satisfied: langcodes<4.0.0,>=3.2.0 in /opt/anaconda3/lib/python3.12/site-packages (from spacy) (3.4.0)\n",
      "Requirement already satisfied: numpy>=1.19.0 in /opt/anaconda3/lib/python3.12/site-packages (from spacy) (1.26.4)\n",
      "Requirement already satisfied: language-data>=1.2 in /opt/anaconda3/lib/python3.12/site-packages (from langcodes<4.0.0,>=3.2.0->spacy) (1.2.0)\n",
      "Requirement already satisfied: annotated-types>=0.4.0 in /opt/anaconda3/lib/python3.12/site-packages (from pydantic!=1.8,!=1.8.1,<3.0.0,>=1.7.4->spacy) (0.6.0)\n",
      "Requirement already satisfied: pydantic-core==2.14.6 in /opt/anaconda3/lib/python3.12/site-packages (from pydantic!=1.8,!=1.8.1,<3.0.0,>=1.7.4->spacy) (2.14.6)\n",
      "Requirement already satisfied: typing-extensions>=4.6.1 in /opt/anaconda3/lib/python3.12/site-packages (from pydantic!=1.8,!=1.8.1,<3.0.0,>=1.7.4->spacy) (4.11.0)\n",
      "Requirement already satisfied: charset-normalizer<4,>=2 in /opt/anaconda3/lib/python3.12/site-packages (from requests<3.0.0,>=2.13.0->spacy) (2.0.4)\n",
      "Requirement already satisfied: idna<4,>=2.5 in /opt/anaconda3/lib/python3.12/site-packages (from requests<3.0.0,>=2.13.0->spacy) (3.7)\n",
      "Requirement already satisfied: urllib3<3,>=1.21.1 in /opt/anaconda3/lib/python3.12/site-packages (from requests<3.0.0,>=2.13.0->spacy) (1.26.19)\n",
      "Requirement already satisfied: certifi>=2017.4.17 in /opt/anaconda3/lib/python3.12/site-packages (from requests<3.0.0,>=2.13.0->spacy) (2024.7.4)\n",
      "Requirement already satisfied: blis<0.8.0,>=0.7.8 in /opt/anaconda3/lib/python3.12/site-packages (from thinc<8.3.0,>=8.2.2->spacy) (0.7.11)\n",
      "Requirement already satisfied: confection<1.0.0,>=0.0.1 in /opt/anaconda3/lib/python3.12/site-packages (from thinc<8.3.0,>=8.2.2->spacy) (0.1.5)\n",
      "Requirement already satisfied: click>=8.0.0 in /opt/anaconda3/lib/python3.12/site-packages (from typer<1.0.0,>=0.3.0->spacy) (8.1.7)\n",
      "Requirement already satisfied: shellingham>=1.3.0 in /opt/anaconda3/lib/python3.12/site-packages (from typer<1.0.0,>=0.3.0->spacy) (1.5.4)\n",
      "Requirement already satisfied: rich>=10.11.0 in /opt/anaconda3/lib/python3.12/site-packages (from typer<1.0.0,>=0.3.0->spacy) (13.3.5)\n",
      "Requirement already satisfied: cloudpathlib<1.0.0,>=0.7.0 in /opt/anaconda3/lib/python3.12/site-packages (from weasel<0.5.0,>=0.1.0->spacy) (0.19.0)\n",
      "Requirement already satisfied: smart-open<8.0.0,>=5.2.1 in /opt/anaconda3/lib/python3.12/site-packages (from weasel<0.5.0,>=0.1.0->spacy) (5.2.1)\n",
      "Requirement already satisfied: MarkupSafe>=2.0 in /opt/anaconda3/lib/python3.12/site-packages (from jinja2->spacy) (2.1.3)\n",
      "Requirement already satisfied: marisa-trie>=0.7.7 in /opt/anaconda3/lib/python3.12/site-packages (from language-data>=1.2->langcodes<4.0.0,>=3.2.0->spacy) (1.2.0)\n",
      "Requirement already satisfied: markdown-it-py<3.0.0,>=2.2.0 in /opt/anaconda3/lib/python3.12/site-packages (from rich>=10.11.0->typer<1.0.0,>=0.3.0->spacy) (2.2.0)\n",
      "Requirement already satisfied: pygments<3.0.0,>=2.13.0 in /opt/anaconda3/lib/python3.12/site-packages (from rich>=10.11.0->typer<1.0.0,>=0.3.0->spacy) (2.15.1)\n",
      "Requirement already satisfied: mdurl~=0.1 in /opt/anaconda3/lib/python3.12/site-packages (from markdown-it-py<3.0.0,>=2.2.0->rich>=10.11.0->typer<1.0.0,>=0.3.0->spacy) (0.1.0)\n"
     ]
    }
   ],
   "source": [
    "!pip install spacy\n"
   ]
  },
  {
   "cell_type": "code",
   "execution_count": 9,
   "metadata": {},
   "outputs": [
    {
     "name": "stdout",
     "output_type": "stream",
     "text": [
      "Traceback (most recent call last):\n",
      "  File \"<frozen runpy>\", line 189, in _run_module_as_main\n",
      "  File \"<frozen runpy>\", line 148, in _get_module_details\n",
      "  File \"<frozen runpy>\", line 112, in _get_module_details\n",
      "  File \"/opt/anaconda3/lib/python3.12/site-packages/spacy/__init__.py\", line 13, in <module>\n",
      "    from . import pipeline  # noqa: F401\n",
      "    ^^^^^^^^^^^^^^^^^^^^^^\n",
      "  File \"/opt/anaconda3/lib/python3.12/site-packages/spacy/pipeline/__init__.py\", line 1, in <module>\n",
      "    from .attributeruler import AttributeRuler\n",
      "  File \"/opt/anaconda3/lib/python3.12/site-packages/spacy/pipeline/attributeruler.py\", line 8, in <module>\n",
      "    from ..language import Language\n",
      "  File \"/opt/anaconda3/lib/python3.12/site-packages/spacy/language.py\", line 43, in <module>\n",
      "    from .pipe_analysis import analyze_pipes, print_pipe_analysis, validate_attrs\n",
      "  File \"/opt/anaconda3/lib/python3.12/site-packages/spacy/pipe_analysis.py\", line 6, in <module>\n",
      "    from .tokens import Doc, Span, Token\n",
      "  File \"/opt/anaconda3/lib/python3.12/site-packages/spacy/tokens/__init__.py\", line 1, in <module>\n",
      "    from ._serialize import DocBin\n",
      "  File \"/opt/anaconda3/lib/python3.12/site-packages/spacy/tokens/_serialize.py\", line 14, in <module>\n",
      "    from ..vocab import Vocab\n",
      "  File \"spacy/vocab.pyx\", line 1, in init spacy.vocab\n",
      "  File \"spacy/tokens/doc.pyx\", line 49, in init spacy.tokens.doc\n",
      "  File \"/opt/anaconda3/lib/python3.12/site-packages/spacy/schemas.py\", line 195, in <module>\n",
      "    class TokenPatternString(BaseModel):\n",
      "  File \"/opt/anaconda3/lib/python3.12/site-packages/pydantic/v1/main.py\", line 286, in __new__\n",
      "    cls.__try_update_forward_refs__()\n",
      "  File \"/opt/anaconda3/lib/python3.12/site-packages/pydantic/v1/main.py\", line 808, in __try_update_forward_refs__\n",
      "    update_model_forward_refs(cls, cls.__fields__.values(), cls.__config__.json_encoders, localns, (NameError,))\n",
      "  File \"/opt/anaconda3/lib/python3.12/site-packages/pydantic/v1/typing.py\", line 554, in update_model_forward_refs\n",
      "    update_field_forward_refs(f, globalns=globalns, localns=localns)\n",
      "  File \"/opt/anaconda3/lib/python3.12/site-packages/pydantic/v1/typing.py\", line 529, in update_field_forward_refs\n",
      "    update_field_forward_refs(sub_f, globalns=globalns, localns=localns)\n",
      "  File \"/opt/anaconda3/lib/python3.12/site-packages/pydantic/v1/typing.py\", line 520, in update_field_forward_refs\n",
      "    field.type_ = evaluate_forwardref(field.type_, globalns, localns or None)\n",
      "                  ^^^^^^^^^^^^^^^^^^^^^^^^^^^^^^^^^^^^^^^^^^^^^^^^^^^^^^^^^^^\n",
      "  File \"/opt/anaconda3/lib/python3.12/site-packages/pydantic/v1/typing.py\", line 66, in evaluate_forwardref\n",
      "    return cast(Any, type_)._evaluate(globalns, localns, set())\n",
      "           ^^^^^^^^^^^^^^^^^^^^^^^^^^^^^^^^^^^^^^^^^^^^^^^^^^^^\n",
      "TypeError: ForwardRef._evaluate() missing 1 required keyword-only argument: 'recursive_guard'\n"
     ]
    }
   ],
   "source": [
    "!python -m spacy download en_core_web_sm\n"
   ]
  },
  {
   "cell_type": "code",
   "execution_count": 10,
   "metadata": {},
   "outputs": [
    {
     "name": "stdout",
     "output_type": "stream",
     "text": [
      "Found existing installation: spacy 3.5.0\n",
      "Uninstalling spacy-3.5.0:\n",
      "  Successfully uninstalled spacy-3.5.0\n",
      "Found existing installation: pydantic 1.9.0\n",
      "Uninstalling pydantic-1.9.0:\n",
      "  Successfully uninstalled pydantic-1.9.0\n",
      "Note: you may need to restart the kernel to use updated packages.\n"
     ]
    }
   ],
   "source": [
    "pip uninstall spacy pydantic -y\n"
   ]
  },
  {
   "cell_type": "code",
   "execution_count": 11,
   "metadata": {},
   "outputs": [
    {
     "ename": "SyntaxError",
     "evalue": "invalid syntax (2181000152.py, line 1)",
     "output_type": "error",
     "traceback": [
      "\u001b[0;36m  Cell \u001b[0;32mIn[11], line 1\u001b[0;36m\u001b[0m\n\u001b[0;31m    pip install spacy==3.0.0\u001b[0m\n\u001b[0m        ^\u001b[0m\n\u001b[0;31mSyntaxError\u001b[0m\u001b[0;31m:\u001b[0m invalid syntax\n"
     ]
    }
   ],
   "source": [
    "pip install spacy==3.0.0 \n",
    "pip install pydantic==1.7.3"
   ]
  },
  {
   "cell_type": "code",
   "execution_count": 12,
   "metadata": {},
   "outputs": [
    {
     "name": "stdout",
     "output_type": "stream",
     "text": [
      "Collecting spacy==3.0.0\n",
      "  Downloading spacy-3.0.0.tar.gz (7.0 MB)\n",
      "\u001b[2K     \u001b[90m━━━━━━━━━━━━━━━━━━━━━━━━━━━━━━━━━━━━━━━━\u001b[0m \u001b[32m7.0/7.0 MB\u001b[0m \u001b[31m3.8 MB/s\u001b[0m eta \u001b[36m0:00:00\u001b[0m00:01\u001b[0m00:01\u001b[0m\n",
      "\u001b[?25h  Installing build dependencies ... \u001b[?25lerror\n",
      "  \u001b[1;31merror\u001b[0m: \u001b[1msubprocess-exited-with-error\u001b[0m\n",
      "  \n",
      "  \u001b[31m×\u001b[0m \u001b[32mpip subprocess to install build dependencies\u001b[0m did not run successfully.\n",
      "  \u001b[31m│\u001b[0m exit code: \u001b[1;36m1\u001b[0m\n",
      "  \u001b[31m╰─>\u001b[0m \u001b[31m[651 lines of output]\u001b[0m\n",
      "  \u001b[31m   \u001b[0m Collecting setuptools\n",
      "  \u001b[31m   \u001b[0m   Using cached setuptools-75.1.0-py3-none-any.whl.metadata (6.9 kB)\n",
      "  \u001b[31m   \u001b[0m Collecting cython>=0.25\n",
      "  \u001b[31m   \u001b[0m   Downloading Cython-3.0.11-cp312-cp312-macosx_10_9_x86_64.whl.metadata (3.2 kB)\n",
      "  \u001b[31m   \u001b[0m Collecting cymem<2.1.0,>=2.0.2\n",
      "  \u001b[31m   \u001b[0m   Using cached cymem-2.0.8-cp312-cp312-macosx_10_9_x86_64.whl.metadata (8.4 kB)\n",
      "  \u001b[31m   \u001b[0m Collecting preshed<3.1.0,>=3.0.2\n",
      "  \u001b[31m   \u001b[0m   Using cached preshed-3.0.9-cp312-cp312-macosx_10_9_x86_64.whl.metadata (2.2 kB)\n",
      "  \u001b[31m   \u001b[0m Collecting murmurhash<1.1.0,>=0.28.0\n",
      "  \u001b[31m   \u001b[0m   Using cached murmurhash-1.0.10-cp312-cp312-macosx_10_9_x86_64.whl.metadata (2.0 kB)\n",
      "  \u001b[31m   \u001b[0m Collecting thinc<8.1.0,>=8.0.0\n",
      "  \u001b[31m   \u001b[0m   Downloading thinc-8.0.17.tar.gz (189 kB)\n",
      "  \u001b[31m   \u001b[0m \u001b[?25l     \u001b[90m━━━━━━━━━━━━━━━━━━━━━━━━━━━━━━━━━━━━━━━━\u001b[0m \u001b[32m0.0/189.7 kB\u001b[0m \u001b[31m?\u001b[0m eta \u001b[36m-:--:--\u001b[0m\n",
      "  \u001b[31m   \u001b[0m \u001b[2K     \u001b[91m━━━━━━━━━━━━━━━━━\u001b[0m\u001b[90m╺\u001b[0m\u001b[90m━━━━━━━━━━━━━━━━━━━━━━\u001b[0m \u001b[32m81.9/189.7 kB\u001b[0m \u001b[31m2.1 MB/s\u001b[0m eta \u001b[36m0:00:01\u001b[0m\n",
      "  \u001b[31m   \u001b[0m \u001b[2K     \u001b[91m━━━━━━━━━━━━━━━━━━━━━━━━━\u001b[0m\u001b[90m╺\u001b[0m\u001b[90m━━━━━━━━━━━━━\u001b[0m \u001b[32m122.9/189.7 kB\u001b[0m \u001b[31m1.5 MB/s\u001b[0m eta \u001b[36m0:00:01\u001b[0m\n",
      "  \u001b[31m   \u001b[0m \u001b[2K     \u001b[90m━━━━━━━━━━━━━━━━━━━━━━━━━━━━━━━━━━━━━━━\u001b[0m \u001b[32m189.7/189.7 kB\u001b[0m \u001b[31m1.6 MB/s\u001b[0m eta \u001b[36m0:00:00\u001b[0m\n",
      "  \u001b[31m   \u001b[0m \u001b[?25h  Installing build dependencies: started\n",
      "  \u001b[31m   \u001b[0m   Installing build dependencies: finished with status 'done'\n",
      "  \u001b[31m   \u001b[0m   Getting requirements to build wheel: started\n",
      "  \u001b[31m   \u001b[0m   Getting requirements to build wheel: finished with status 'done'\n",
      "  \u001b[31m   \u001b[0m   Preparing metadata (pyproject.toml): started\n",
      "  \u001b[31m   \u001b[0m   Preparing metadata (pyproject.toml): finished with status 'done'\n",
      "  \u001b[31m   \u001b[0m Collecting blis<0.8.0,>=0.4.0\n",
      "  \u001b[31m   \u001b[0m   Using cached blis-0.7.11-cp312-cp312-macosx_10_9_x86_64.whl.metadata (7.4 kB)\n",
      "  \u001b[31m   \u001b[0m Collecting pathy\n",
      "  \u001b[31m   \u001b[0m   Using cached pathy-0.11.0-py3-none-any.whl.metadata (16 kB)\n",
      "  \u001b[31m   \u001b[0m Collecting numpy>=1.15.0\n",
      "  \u001b[31m   \u001b[0m   Using cached numpy-2.1.2-cp312-cp312-macosx_10_13_x86_64.whl.metadata (60 kB)\n",
      "  \u001b[31m   \u001b[0m Collecting wasabi<1.1.0,>=0.8.1 (from thinc<8.1.0,>=8.0.0)\n",
      "  \u001b[31m   \u001b[0m   Downloading wasabi-0.10.1-py3-none-any.whl.metadata (28 kB)\n",
      "  \u001b[31m   \u001b[0m Collecting srsly<3.0.0,>=2.4.0 (from thinc<8.1.0,>=8.0.0)\n",
      "  \u001b[31m   \u001b[0m   Using cached srsly-2.4.8-cp312-cp312-macosx_10_9_x86_64.whl.metadata (20 kB)\n",
      "  \u001b[31m   \u001b[0m Collecting catalogue<2.1.0,>=2.0.4 (from thinc<8.1.0,>=8.0.0)\n",
      "  \u001b[31m   \u001b[0m   Using cached catalogue-2.0.10-py3-none-any.whl.metadata (14 kB)\n",
      "  \u001b[31m   \u001b[0m Collecting pydantic!=1.8,!=1.8.1,<1.9.0,>=1.7.4 (from thinc<8.1.0,>=8.0.0)\n",
      "  \u001b[31m   \u001b[0m   Downloading pydantic-1.8.2-py3-none-any.whl.metadata (103 kB)\n",
      "  \u001b[31m   \u001b[0m \u001b[?25l     \u001b[90m━━━━━━━━━━━━━━━━━━━━━━━━━━━━━━━━━━━━━━━━\u001b[0m \u001b[32m0.0/103.1 kB\u001b[0m \u001b[31m?\u001b[0m eta \u001b[36m-:--:--\u001b[0m\n",
      "  \u001b[31m   \u001b[0m \u001b[2K     \u001b[90m━━━━━━━━━━━━━━━━━━━━━━━━━━━━━━━━━━━━━━━\u001b[0m \u001b[32m103.1/103.1 kB\u001b[0m \u001b[31m2.9 MB/s\u001b[0m eta \u001b[36m0:00:00\u001b[0m\n",
      "  \u001b[31m   \u001b[0m \u001b[?25hCollecting smart-open<7.0.0,>=5.2.1 (from pathy)\n",
      "  \u001b[31m   \u001b[0m   Downloading smart_open-6.4.0-py3-none-any.whl.metadata (21 kB)\n",
      "  \u001b[31m   \u001b[0m Collecting typer<1.0.0,>=0.3.0 (from pathy)\n",
      "  \u001b[31m   \u001b[0m   Using cached typer-0.12.5-py3-none-any.whl.metadata (15 kB)\n",
      "  \u001b[31m   \u001b[0m Collecting pathlib-abc==0.1.1 (from pathy)\n",
      "  \u001b[31m   \u001b[0m   Using cached pathlib_abc-0.1.1-py3-none-any.whl.metadata (18 kB)\n",
      "  \u001b[31m   \u001b[0m Collecting typing-extensions>=3.7.4.3 (from pydantic!=1.8,!=1.8.1,<1.9.0,>=1.7.4->thinc<8.1.0,>=8.0.0)\n",
      "  \u001b[31m   \u001b[0m   Downloading typing_extensions-4.12.2-py3-none-any.whl.metadata (3.0 kB)\n",
      "  \u001b[31m   \u001b[0m Collecting click>=8.0.0 (from typer<1.0.0,>=0.3.0->pathy)\n",
      "  \u001b[31m   \u001b[0m   Downloading click-8.1.7-py3-none-any.whl.metadata (3.0 kB)\n",
      "  \u001b[31m   \u001b[0m Collecting shellingham>=1.3.0 (from typer<1.0.0,>=0.3.0->pathy)\n",
      "  \u001b[31m   \u001b[0m   Using cached shellingham-1.5.4-py2.py3-none-any.whl.metadata (3.5 kB)\n",
      "  \u001b[31m   \u001b[0m Collecting rich>=10.11.0 (from typer<1.0.0,>=0.3.0->pathy)\n",
      "  \u001b[31m   \u001b[0m   Downloading rich-13.9.2-py3-none-any.whl.metadata (18 kB)\n",
      "  \u001b[31m   \u001b[0m Collecting markdown-it-py>=2.2.0 (from rich>=10.11.0->typer<1.0.0,>=0.3.0->pathy)\n",
      "  \u001b[31m   \u001b[0m   Using cached markdown_it_py-3.0.0-py3-none-any.whl.metadata (6.9 kB)\n",
      "  \u001b[31m   \u001b[0m Collecting pygments<3.0.0,>=2.13.0 (from rich>=10.11.0->typer<1.0.0,>=0.3.0->pathy)\n",
      "  \u001b[31m   \u001b[0m   Using cached pygments-2.18.0-py3-none-any.whl.metadata (2.5 kB)\n",
      "  \u001b[31m   \u001b[0m Collecting mdurl~=0.1 (from markdown-it-py>=2.2.0->rich>=10.11.0->typer<1.0.0,>=0.3.0->pathy)\n",
      "  \u001b[31m   \u001b[0m   Using cached mdurl-0.1.2-py3-none-any.whl.metadata (1.6 kB)\n",
      "  \u001b[31m   \u001b[0m Using cached setuptools-75.1.0-py3-none-any.whl (1.2 MB)\n",
      "  \u001b[31m   \u001b[0m Downloading Cython-3.0.11-cp312-cp312-macosx_10_9_x86_64.whl (3.1 MB)\n",
      "  \u001b[31m   \u001b[0m \u001b[?25l   \u001b[90m━━━━━━━━━━━━━━━━━━━━━━━━━━━━━━━━━━━━━━━━\u001b[0m \u001b[32m0.0/3.1 MB\u001b[0m \u001b[31m?\u001b[0m eta \u001b[36m-:--:--\u001b[0m\n",
      "  \u001b[31m   \u001b[0m \u001b[2K   \u001b[91m━\u001b[0m\u001b[91m╸\u001b[0m\u001b[90m━━━━━━━━━━━━━━━━━━━━━━━━━━━━━━━━━━━━━━\u001b[0m \u001b[32m0.1/3.1 MB\u001b[0m \u001b[31m3.8 MB/s\u001b[0m eta \u001b[36m0:00:01\u001b[0m\n",
      "  \u001b[31m   \u001b[0m \u001b[2K   \u001b[91m━━━\u001b[0m\u001b[90m╺\u001b[0m\u001b[90m━━━━━━━━━━━━━━━━━━━━━━━━━━━━━━━━━━━━\u001b[0m \u001b[32m0.2/3.1 MB\u001b[0m \u001b[31m3.4 MB/s\u001b[0m eta \u001b[36m0:00:01\u001b[0m\n",
      "  \u001b[31m   \u001b[0m \u001b[2K   \u001b[91m━━━\u001b[0m\u001b[90m╺\u001b[0m\u001b[90m━━━━━━━━━━━━━━━━━━━━━━━━━━━━━━━━━━━━\u001b[0m \u001b[32m0.3/3.1 MB\u001b[0m \u001b[31m2.5 MB/s\u001b[0m eta \u001b[36m0:00:02\u001b[0m\n",
      "  \u001b[31m   \u001b[0m \u001b[2K   \u001b[91m━━━━━\u001b[0m\u001b[90m╺\u001b[0m\u001b[90m━━━━━━━━━━━━━━━━━━━━━━━━━━━━━━━━━━\u001b[0m \u001b[32m0.4/3.1 MB\u001b[0m \u001b[31m2.9 MB/s\u001b[0m eta \u001b[36m0:00:01\u001b[0m\n",
      "  \u001b[31m   \u001b[0m \u001b[2K   \u001b[91m━━━━━━\u001b[0m\u001b[91m╸\u001b[0m\u001b[90m━━━━━━━━━━━━━━━━━━━━━━━━━━━━━━━━━\u001b[0m \u001b[32m0.5/3.1 MB\u001b[0m \u001b[31m2.9 MB/s\u001b[0m eta \u001b[36m0:00:01\u001b[0m\n",
      "  \u001b[31m   \u001b[0m \u001b[2K   \u001b[91m━━━━━━━━\u001b[0m\u001b[91m╸\u001b[0m\u001b[90m━━━━━━━━━━━━━━━━━━━━━━━━━━━━━━━\u001b[0m \u001b[32m0.7/3.1 MB\u001b[0m \u001b[31m3.0 MB/s\u001b[0m eta \u001b[36m0:00:01\u001b[0m\n",
      "  \u001b[31m   \u001b[0m \u001b[2K   \u001b[91m━━━━━━━━━━\u001b[0m\u001b[91m╸\u001b[0m\u001b[90m━━━━━━━━━━━━━━━━━━━━━━━━━━━━━\u001b[0m \u001b[32m0.8/3.1 MB\u001b[0m \u001b[31m3.3 MB/s\u001b[0m eta \u001b[36m0:00:01\u001b[0m\n",
      "  \u001b[31m   \u001b[0m \u001b[2K   \u001b[91m━━━━━━━━━━━━\u001b[0m\u001b[90m╺\u001b[0m\u001b[90m━━━━━━━━━━━━━━━━━━━━━━━━━━━\u001b[0m \u001b[32m1.0/3.1 MB\u001b[0m \u001b[31m3.2 MB/s\u001b[0m eta \u001b[36m0:00:01\u001b[0m\n",
      "  \u001b[31m   \u001b[0m \u001b[2K   \u001b[91m━━━━━━━━━━━━━━\u001b[0m\u001b[91m╸\u001b[0m\u001b[90m━━━━━━━━━━━━━━━━━━━━━━━━━\u001b[0m \u001b[32m1.2/3.1 MB\u001b[0m \u001b[31m3.5 MB/s\u001b[0m eta \u001b[36m0:00:01\u001b[0m\n",
      "  \u001b[31m   \u001b[0m \u001b[2K   \u001b[91m━━━━━━━━━━━━━━━━\u001b[0m\u001b[90m╺\u001b[0m\u001b[90m━━━━━━━━━━━━━━━━━━━━━━━\u001b[0m \u001b[32m1.3/3.1 MB\u001b[0m \u001b[31m3.4 MB/s\u001b[0m eta \u001b[36m0:00:01\u001b[0m\n",
      "  \u001b[31m   \u001b[0m \u001b[2K   \u001b[91m━━━━━━━━━━━━━━━━━━\u001b[0m\u001b[90m╺\u001b[0m\u001b[90m━━━━━━━━━━━━━━━━━━━━━\u001b[0m \u001b[32m1.4/3.1 MB\u001b[0m \u001b[31m3.5 MB/s\u001b[0m eta \u001b[36m0:00:01\u001b[0m\n",
      "  \u001b[31m   \u001b[0m \u001b[2K   \u001b[91m━━━━━━━━━━━━━━━━━━━━━\u001b[0m\u001b[91m╸\u001b[0m\u001b[90m━━━━━━━━━━━━━━━━━━\u001b[0m \u001b[32m1.7/3.1 MB\u001b[0m \u001b[31m3.7 MB/s\u001b[0m eta \u001b[36m0:00:01\u001b[0m\n",
      "  \u001b[31m   \u001b[0m \u001b[2K   \u001b[91m━━━━━━━━━━━━━━━━━━━━━━\u001b[0m\u001b[91m╸\u001b[0m\u001b[90m━━━━━━━━━━━━━━━━━\u001b[0m \u001b[32m1.8/3.1 MB\u001b[0m \u001b[31m3.6 MB/s\u001b[0m eta \u001b[36m0:00:01\u001b[0m\n",
      "  \u001b[31m   \u001b[0m \u001b[2K   \u001b[91m━━━━━━━━━━━━━━━━━━━━━━━━━\u001b[0m\u001b[91m╸\u001b[0m\u001b[90m━━━━━━━━━━━━━━\u001b[0m \u001b[32m2.0/3.1 MB\u001b[0m \u001b[31m3.8 MB/s\u001b[0m eta \u001b[36m0:00:01\u001b[0m\n",
      "  \u001b[31m   \u001b[0m \u001b[2K   \u001b[91m━━━━━━━━━━━━━━━━━━━━━━━━━━━━\u001b[0m\u001b[90m╺\u001b[0m\u001b[90m━━━━━━━━━━━\u001b[0m \u001b[32m2.2/3.1 MB\u001b[0m \u001b[31m3.9 MB/s\u001b[0m eta \u001b[36m0:00:01\u001b[0m\n",
      "  \u001b[31m   \u001b[0m \u001b[2K   \u001b[91m━━━━━━━━━━━━━━━━━━━━━━━━━━━━━━━\u001b[0m\u001b[91m╸\u001b[0m\u001b[90m━━━━━━━━\u001b[0m \u001b[32m2.5/3.1 MB\u001b[0m \u001b[31m4.1 MB/s\u001b[0m eta \u001b[36m0:00:01\u001b[0m\n",
      "  \u001b[31m   \u001b[0m \u001b[2K   \u001b[91m━━━━━━━━━━━━━━━━━━━━━━━━━━━━━━━━━━\u001b[0m\u001b[90m╺\u001b[0m\u001b[90m━━━━━\u001b[0m \u001b[32m2.7/3.1 MB\u001b[0m \u001b[31m4.2 MB/s\u001b[0m eta \u001b[36m0:00:01\u001b[0m\n",
      "  \u001b[31m   \u001b[0m \u001b[2K   \u001b[91m━━━━━━━━━━━━━━━━━━━━━━━━━━━━━━━━━━━\u001b[0m\u001b[91m╸\u001b[0m\u001b[90m━━━━\u001b[0m \u001b[32m2.8/3.1 MB\u001b[0m \u001b[31m4.2 MB/s\u001b[0m eta \u001b[36m0:00:01\u001b[0m\n",
      "  \u001b[31m   \u001b[0m \u001b[2K   \u001b[91m━━━━━━━━━━━━━━━━━━━━━━━━━━━━━━━━━━━━━━\u001b[0m\u001b[91m╸\u001b[0m\u001b[90m━\u001b[0m \u001b[32m3.1/3.1 MB\u001b[0m \u001b[31m4.2 MB/s\u001b[0m eta \u001b[36m0:00:01\u001b[0m\n",
      "  \u001b[31m   \u001b[0m \u001b[2K   \u001b[91m━━━━━━━━━━━━━━━━━━━━━━━━━━━━━━━━━━━━━━━\u001b[0m\u001b[91m╸\u001b[0m \u001b[32m3.1/3.1 MB\u001b[0m \u001b[31m4.2 MB/s\u001b[0m eta \u001b[36m0:00:01\u001b[0m\n",
      "  \u001b[31m   \u001b[0m \u001b[2K   \u001b[90m━━━━━━━━━━━━━━━━━━━━━━━━━━━━━━━━━━━━━━━━\u001b[0m \u001b[32m3.1/3.1 MB\u001b[0m \u001b[31m4.0 MB/s\u001b[0m eta \u001b[36m0:00:00\u001b[0m\n",
      "  \u001b[31m   \u001b[0m \u001b[?25hUsing cached cymem-2.0.8-cp312-cp312-macosx_10_9_x86_64.whl (42 kB)\n",
      "  \u001b[31m   \u001b[0m Using cached preshed-3.0.9-cp312-cp312-macosx_10_9_x86_64.whl (133 kB)\n",
      "  \u001b[31m   \u001b[0m Using cached murmurhash-1.0.10-cp312-cp312-macosx_10_9_x86_64.whl (26 kB)\n",
      "  \u001b[31m   \u001b[0m Using cached blis-0.7.11-cp312-cp312-macosx_10_9_x86_64.whl (6.1 MB)\n",
      "  \u001b[31m   \u001b[0m Using cached pathy-0.11.0-py3-none-any.whl (47 kB)\n",
      "  \u001b[31m   \u001b[0m Using cached pathlib_abc-0.1.1-py3-none-any.whl (23 kB)\n",
      "  \u001b[31m   \u001b[0m Using cached numpy-2.1.2-cp312-cp312-macosx_10_13_x86_64.whl (20.8 MB)\n",
      "  \u001b[31m   \u001b[0m Using cached catalogue-2.0.10-py3-none-any.whl (17 kB)\n",
      "  \u001b[31m   \u001b[0m Downloading pydantic-1.8.2-py3-none-any.whl (126 kB)\n",
      "  \u001b[31m   \u001b[0m \u001b[?25l   \u001b[90m━━━━━━━━━━━━━━━━━━━━━━━━━━━━━━━━━━━━━━━━\u001b[0m \u001b[32m0.0/126.0 kB\u001b[0m \u001b[31m?\u001b[0m eta \u001b[36m-:--:--\u001b[0m\n",
      "  \u001b[31m   \u001b[0m \u001b[2K   \u001b[90m━━━━━━━━━━━━━━━━━━━━━━━━━━━━━━━━━━━━━━━━\u001b[0m \u001b[32m126.0/126.0 kB\u001b[0m \u001b[31m3.6 MB/s\u001b[0m eta \u001b[36m0:00:00\u001b[0m\n",
      "  \u001b[31m   \u001b[0m \u001b[?25hDownloading smart_open-6.4.0-py3-none-any.whl (57 kB)\n",
      "  \u001b[31m   \u001b[0m \u001b[?25l   \u001b[90m━━━━━━━━━━━━━━━━━━━━━━━━━━━━━━━━━━━━━━━━\u001b[0m \u001b[32m0.0/57.0 kB\u001b[0m \u001b[31m?\u001b[0m eta \u001b[36m-:--:--\u001b[0m\n",
      "  \u001b[31m   \u001b[0m \u001b[2K   \u001b[90m━━━━━━━━━━━━━━━━━━━━━━━━━━━━━━━━━━━━━━━━\u001b[0m \u001b[32m57.0/57.0 kB\u001b[0m \u001b[31m1.7 MB/s\u001b[0m eta \u001b[36m0:00:00\u001b[0m\n",
      "  \u001b[31m   \u001b[0m \u001b[?25hUsing cached srsly-2.4.8-cp312-cp312-macosx_10_9_x86_64.whl (488 kB)\n",
      "  \u001b[31m   \u001b[0m Using cached typer-0.12.5-py3-none-any.whl (47 kB)\n",
      "  \u001b[31m   \u001b[0m Downloading wasabi-0.10.1-py3-none-any.whl (26 kB)\n",
      "  \u001b[31m   \u001b[0m Downloading click-8.1.7-py3-none-any.whl (97 kB)\n",
      "  \u001b[31m   \u001b[0m \u001b[?25l   \u001b[90m━━━━━━━━━━━━━━━━━━━━━━━━━━━━━━━━━━━━━━━━\u001b[0m \u001b[32m0.0/97.9 kB\u001b[0m \u001b[31m?\u001b[0m eta \u001b[36m-:--:--\u001b[0m\n",
      "  \u001b[31m   \u001b[0m \u001b[2K   \u001b[90m━━━━━━━━━━━━━━━━━━━━━━━━━━━━━━━━━━━━━━━━\u001b[0m \u001b[32m97.9/97.9 kB\u001b[0m \u001b[31m2.8 MB/s\u001b[0m eta \u001b[36m0:00:00\u001b[0m\n",
      "  \u001b[31m   \u001b[0m \u001b[?25hDownloading rich-13.9.2-py3-none-any.whl (242 kB)\n",
      "  \u001b[31m   \u001b[0m \u001b[?25l   \u001b[90m━━━━━━━━━━━━━━━━━━━━━━━━━━━━━━━━━━━━━━━━\u001b[0m \u001b[32m0.0/242.1 kB\u001b[0m \u001b[31m?\u001b[0m eta \u001b[36m-:--:--\u001b[0m\n",
      "  \u001b[31m   \u001b[0m \u001b[2K   \u001b[91m━━━━━━━━━━━━━━━━━━━━━━━━━━━━━━\u001b[0m\u001b[90m╺\u001b[0m\u001b[90m━━━━━━━━━\u001b[0m \u001b[32m184.3/242.1 kB\u001b[0m \u001b[31m6.6 MB/s\u001b[0m eta \u001b[36m0:00:01\u001b[0m\n",
      "  \u001b[31m   \u001b[0m \u001b[2K   \u001b[90m━━━━━━━━━━━━━━━━━━━━━━━━━━━━━━━━━━━━━━━━\u001b[0m \u001b[32m242.1/242.1 kB\u001b[0m \u001b[31m3.5 MB/s\u001b[0m eta \u001b[36m0:00:00\u001b[0m\n",
      "  \u001b[31m   \u001b[0m \u001b[?25hUsing cached shellingham-1.5.4-py2.py3-none-any.whl (9.8 kB)\n",
      "  \u001b[31m   \u001b[0m Downloading typing_extensions-4.12.2-py3-none-any.whl (37 kB)\n",
      "  \u001b[31m   \u001b[0m Using cached markdown_it_py-3.0.0-py3-none-any.whl (87 kB)\n",
      "  \u001b[31m   \u001b[0m Using cached pygments-2.18.0-py3-none-any.whl (1.2 MB)\n",
      "  \u001b[31m   \u001b[0m Using cached mdurl-0.1.2-py3-none-any.whl (10.0 kB)\n",
      "  \u001b[31m   \u001b[0m Building wheels for collected packages: thinc\n",
      "  \u001b[31m   \u001b[0m   Building wheel for thinc (pyproject.toml): started\n",
      "  \u001b[31m   \u001b[0m   Building wheel for thinc (pyproject.toml): finished with status 'error'\n",
      "  \u001b[31m   \u001b[0m   \u001b[1;31merror\u001b[0m: \u001b[1msubprocess-exited-with-error\u001b[0m\n",
      "  \u001b[31m   \u001b[0m \n",
      "  \u001b[31m   \u001b[0m   \u001b[31m×\u001b[0m \u001b[32mBuilding wheel for thinc \u001b[0m\u001b[1;32m(\u001b[0m\u001b[32mpyproject.toml\u001b[0m\u001b[1;32m)\u001b[0m did not run successfully.\n",
      "  \u001b[31m   \u001b[0m   \u001b[31m│\u001b[0m exit code: \u001b[1;36m1\u001b[0m\n",
      "  \u001b[31m   \u001b[0m   \u001b[31m╰─>\u001b[0m \u001b[31m[525 lines of output]\u001b[0m\n",
      "  \u001b[31m   \u001b[0m   \u001b[31m   \u001b[0m Cythonizing sources\n",
      "  \u001b[31m   \u001b[0m   \u001b[31m   \u001b[0m running bdist_wheel\n",
      "  \u001b[31m   \u001b[0m   \u001b[31m   \u001b[0m running build\n",
      "  \u001b[31m   \u001b[0m   \u001b[31m   \u001b[0m running build_py\n",
      "  \u001b[31m   \u001b[0m   \u001b[31m   \u001b[0m creating build/lib.macosx-10.15-x86_64-cpython-312/thinc\n",
      "  \u001b[31m   \u001b[0m   \u001b[31m   \u001b[0m copying thinc/config.py -> build/lib.macosx-10.15-x86_64-cpython-312/thinc\n",
      "  \u001b[31m   \u001b[0m   \u001b[31m   \u001b[0m copying thinc/util.py -> build/lib.macosx-10.15-x86_64-cpython-312/thinc\n",
      "  \u001b[31m   \u001b[0m   \u001b[31m   \u001b[0m copying thinc/__init__.py -> build/lib.macosx-10.15-x86_64-cpython-312/thinc\n",
      "  \u001b[31m   \u001b[0m   \u001b[31m   \u001b[0m copying thinc/mypy.py -> build/lib.macosx-10.15-x86_64-cpython-312/thinc\n",
      "  \u001b[31m   \u001b[0m   \u001b[31m   \u001b[0m copying thinc/types.py -> build/lib.macosx-10.15-x86_64-cpython-312/thinc\n",
      "  \u001b[31m   \u001b[0m   \u001b[31m   \u001b[0m copying thinc/about.py -> build/lib.macosx-10.15-x86_64-cpython-312/thinc\n",
      "  \u001b[31m   \u001b[0m   \u001b[31m   \u001b[0m copying thinc/model.py -> build/lib.macosx-10.15-x86_64-cpython-312/thinc\n",
      "  \u001b[31m   \u001b[0m   \u001b[31m   \u001b[0m copying thinc/optimizers.py -> build/lib.macosx-10.15-x86_64-cpython-312/thinc\n",
      "  \u001b[31m   \u001b[0m   \u001b[31m   \u001b[0m copying thinc/api.py -> build/lib.macosx-10.15-x86_64-cpython-312/thinc\n",
      "  \u001b[31m   \u001b[0m   \u001b[31m   \u001b[0m copying thinc/loss.py -> build/lib.macosx-10.15-x86_64-cpython-312/thinc\n",
      "  \u001b[31m   \u001b[0m   \u001b[31m   \u001b[0m copying thinc/initializers.py -> build/lib.macosx-10.15-x86_64-cpython-312/thinc\n",
      "  \u001b[31m   \u001b[0m   \u001b[31m   \u001b[0m copying thinc/schedules.py -> build/lib.macosx-10.15-x86_64-cpython-312/thinc\n",
      "  \u001b[31m   \u001b[0m   \u001b[31m   \u001b[0m creating build/lib.macosx-10.15-x86_64-cpython-312/thinc/layers\n",
      "  \u001b[31m   \u001b[0m   \u001b[31m   \u001b[0m copying thinc/layers/remap_ids.py -> build/lib.macosx-10.15-x86_64-cpython-312/thinc/layers\n",
      "  \u001b[31m   \u001b[0m   \u001b[31m   \u001b[0m copying thinc/layers/with_debug.py -> build/lib.macosx-10.15-x86_64-cpython-312/thinc/layers\n",
      "  \u001b[31m   \u001b[0m   \u001b[31m   \u001b[0m copying thinc/layers/mxnetwrapper.py -> build/lib.macosx-10.15-x86_64-cpython-312/thinc/layers\n",
      "  \u001b[31m   \u001b[0m   \u001b[31m   \u001b[0m copying thinc/layers/siamese.py -> build/lib.macosx-10.15-x86_64-cpython-312/thinc/layers\n",
      "  \u001b[31m   \u001b[0m   \u001b[31m   \u001b[0m copying thinc/layers/concatenate.py -> build/lib.macosx-10.15-x86_64-cpython-312/thinc/layers\n",
      "  \u001b[31m   \u001b[0m   \u001b[31m   \u001b[0m copying thinc/layers/reduce_sum.py -> build/lib.macosx-10.15-x86_64-cpython-312/thinc/layers\n",
      "  \u001b[31m   \u001b[0m   \u001b[31m   \u001b[0m copying thinc/layers/softmax_activation.py -> build/lib.macosx-10.15-x86_64-cpython-312/thinc/layers\n",
      "  \u001b[31m   \u001b[0m   \u001b[31m   \u001b[0m copying thinc/layers/hashembed.py -> build/lib.macosx-10.15-x86_64-cpython-312/thinc/layers\n",
      "  \u001b[31m   \u001b[0m   \u001b[31m   \u001b[0m copying thinc/layers/expand_window.py -> build/lib.macosx-10.15-x86_64-cpython-312/thinc/layers\n",
      "  \u001b[31m   \u001b[0m   \u001b[31m   \u001b[0m copying thinc/layers/list2padded.py -> build/lib.macosx-10.15-x86_64-cpython-312/thinc/layers\n",
      "  \u001b[31m   \u001b[0m   \u001b[31m   \u001b[0m copying thinc/layers/with_padded.py -> build/lib.macosx-10.15-x86_64-cpython-312/thinc/layers\n",
      "  \u001b[31m   \u001b[0m   \u001b[31m   \u001b[0m copying thinc/layers/with_nvtx_range.py -> build/lib.macosx-10.15-x86_64-cpython-312/thinc/layers\n",
      "  \u001b[31m   \u001b[0m   \u001b[31m   \u001b[0m copying thinc/layers/layernorm.py -> build/lib.macosx-10.15-x86_64-cpython-312/thinc/layers\n",
      "  \u001b[31m   \u001b[0m   \u001b[31m   \u001b[0m copying thinc/layers/maxout.py -> build/lib.macosx-10.15-x86_64-cpython-312/thinc/layers\n",
      "  \u001b[31m   \u001b[0m   \u001b[31m   \u001b[0m copying thinc/layers/add.py -> build/lib.macosx-10.15-x86_64-cpython-312/thinc/layers\n",
      "  \u001b[31m   \u001b[0m   \u001b[31m   \u001b[0m copying thinc/layers/embed.py -> build/lib.macosx-10.15-x86_64-cpython-312/thinc/layers\n",
      "  \u001b[31m   \u001b[0m   \u001b[31m   \u001b[0m copying thinc/layers/residual.py -> build/lib.macosx-10.15-x86_64-cpython-312/thinc/layers\n",
      "  \u001b[31m   \u001b[0m   \u001b[31m   \u001b[0m copying thinc/layers/reduce_first.py -> build/lib.macosx-10.15-x86_64-cpython-312/thinc/layers\n",
      "  \u001b[31m   \u001b[0m   \u001b[31m   \u001b[0m copying thinc/layers/chain.py -> build/lib.macosx-10.15-x86_64-cpython-312/thinc/layers\n",
      "  \u001b[31m   \u001b[0m   \u001b[31m   \u001b[0m copying thinc/layers/logistic.py -> build/lib.macosx-10.15-x86_64-cpython-312/thinc/layers\n",
      "  \u001b[31m   \u001b[0m   \u001b[31m   \u001b[0m copying thinc/layers/linear.py -> build/lib.macosx-10.15-x86_64-cpython-312/thinc/layers\n",
      "  \u001b[31m   \u001b[0m   \u001b[31m   \u001b[0m copying thinc/layers/gelu.py -> build/lib.macosx-10.15-x86_64-cpython-312/thinc/layers\n",
      "  \u001b[31m   \u001b[0m   \u001b[31m   \u001b[0m copying thinc/layers/with_cpu.py -> build/lib.macosx-10.15-x86_64-cpython-312/thinc/layers\n",
      "  \u001b[31m   \u001b[0m   \u001b[31m   \u001b[0m copying thinc/layers/mish.py -> build/lib.macosx-10.15-x86_64-cpython-312/thinc/layers\n",
      "  \u001b[31m   \u001b[0m   \u001b[31m   \u001b[0m copying thinc/layers/sigmoid_activation.py -> build/lib.macosx-10.15-x86_64-cpython-312/thinc/layers\n",
      "  \u001b[31m   \u001b[0m   \u001b[31m   \u001b[0m copying thinc/layers/__init__.py -> build/lib.macosx-10.15-x86_64-cpython-312/thinc/layers\n",
      "  \u001b[31m   \u001b[0m   \u001b[31m   \u001b[0m copying thinc/layers/pytorchwrapper.py -> build/lib.macosx-10.15-x86_64-cpython-312/thinc/layers\n",
      "  \u001b[31m   \u001b[0m   \u001b[31m   \u001b[0m copying thinc/layers/with_array.py -> build/lib.macosx-10.15-x86_64-cpython-312/thinc/layers\n",
      "  \u001b[31m   \u001b[0m   \u001b[31m   \u001b[0m copying thinc/layers/bidirectional.py -> build/lib.macosx-10.15-x86_64-cpython-312/thinc/layers\n",
      "  \u001b[31m   \u001b[0m   \u001b[31m   \u001b[0m copying thinc/layers/hard_swish.py -> build/lib.macosx-10.15-x86_64-cpython-312/thinc/layers\n",
      "  \u001b[31m   \u001b[0m   \u001b[31m   \u001b[0m copying thinc/layers/uniqued.py -> build/lib.macosx-10.15-x86_64-cpython-312/thinc/layers\n",
      "  \u001b[31m   \u001b[0m   \u001b[31m   \u001b[0m copying thinc/layers/padded2list.py -> build/lib.macosx-10.15-x86_64-cpython-312/thinc/layers\n",
      "  \u001b[31m   \u001b[0m   \u001b[31m   \u001b[0m copying thinc/layers/cauchysimilarity.py -> build/lib.macosx-10.15-x86_64-cpython-312/thinc/layers\n",
      "  \u001b[31m   \u001b[0m   \u001b[31m   \u001b[0m copying thinc/layers/with_array2d.py -> build/lib.macosx-10.15-x86_64-cpython-312/thinc/layers\n",
      "  \u001b[31m   \u001b[0m   \u001b[31m   \u001b[0m copying thinc/layers/strings2arrays.py -> build/lib.macosx-10.15-x86_64-cpython-312/thinc/layers\n",
      "  \u001b[31m   \u001b[0m   \u001b[31m   \u001b[0m copying thinc/layers/with_getitem.py -> build/lib.macosx-10.15-x86_64-cpython-312/thinc/layers\n",
      "  \u001b[31m   \u001b[0m   \u001b[31m   \u001b[0m copying thinc/layers/clipped_linear.py -> build/lib.macosx-10.15-x86_64-cpython-312/thinc/layers\n",
      "  \u001b[31m   \u001b[0m   \u001b[31m   \u001b[0m copying thinc/layers/with_reshape.py -> build/lib.macosx-10.15-x86_64-cpython-312/thinc/layers\n",
      "  \u001b[31m   \u001b[0m   \u001b[31m   \u001b[0m copying thinc/layers/tensorflowwrapper.py -> build/lib.macosx-10.15-x86_64-cpython-312/thinc/layers\n",
      "  \u001b[31m   \u001b[0m   \u001b[31m   \u001b[0m copying thinc/layers/hard_swish_mobilenet.py -> build/lib.macosx-10.15-x86_64-cpython-312/thinc/layers\n",
      "  \u001b[31m   \u001b[0m   \u001b[31m   \u001b[0m copying thinc/layers/noop.py -> build/lib.macosx-10.15-x86_64-cpython-312/thinc/layers\n",
      "  \u001b[31m   \u001b[0m   \u001b[31m   \u001b[0m copying thinc/layers/relu.py -> build/lib.macosx-10.15-x86_64-cpython-312/thinc/layers\n",
      "  \u001b[31m   \u001b[0m   \u001b[31m   \u001b[0m copying thinc/layers/swish.py -> build/lib.macosx-10.15-x86_64-cpython-312/thinc/layers\n",
      "  \u001b[31m   \u001b[0m   \u001b[31m   \u001b[0m copying thinc/layers/ragged2list.py -> build/lib.macosx-10.15-x86_64-cpython-312/thinc/layers\n",
      "  \u001b[31m   \u001b[0m   \u001b[31m   \u001b[0m copying thinc/layers/tuplify.py -> build/lib.macosx-10.15-x86_64-cpython-312/thinc/layers\n",
      "  \u001b[31m   \u001b[0m   \u001b[31m   \u001b[0m copying thinc/layers/with_ragged.py -> build/lib.macosx-10.15-x86_64-cpython-312/thinc/layers\n",
      "  \u001b[31m   \u001b[0m   \u001b[31m   \u001b[0m copying thinc/layers/list2ragged.py -> build/lib.macosx-10.15-x86_64-cpython-312/thinc/layers\n",
      "  \u001b[31m   \u001b[0m   \u001b[31m   \u001b[0m copying thinc/layers/map_list.py -> build/lib.macosx-10.15-x86_64-cpython-312/thinc/layers\n",
      "  \u001b[31m   \u001b[0m   \u001b[31m   \u001b[0m copying thinc/layers/dropout.py -> build/lib.macosx-10.15-x86_64-cpython-312/thinc/layers\n",
      "  \u001b[31m   \u001b[0m   \u001b[31m   \u001b[0m copying thinc/layers/reduce_last.py -> build/lib.macosx-10.15-x86_64-cpython-312/thinc/layers\n",
      "  \u001b[31m   \u001b[0m   \u001b[31m   \u001b[0m copying thinc/layers/list2array.py -> build/lib.macosx-10.15-x86_64-cpython-312/thinc/layers\n",
      "  \u001b[31m   \u001b[0m   \u001b[31m   \u001b[0m copying thinc/layers/with_list.py -> build/lib.macosx-10.15-x86_64-cpython-312/thinc/layers\n",
      "  \u001b[31m   \u001b[0m   \u001b[31m   \u001b[0m copying thinc/layers/lstm.py -> build/lib.macosx-10.15-x86_64-cpython-312/thinc/layers\n",
      "  \u001b[31m   \u001b[0m   \u001b[31m   \u001b[0m copying thinc/layers/reduce_max.py -> build/lib.macosx-10.15-x86_64-cpython-312/thinc/layers\n",
      "  \u001b[31m   \u001b[0m   \u001b[31m   \u001b[0m copying thinc/layers/with_flatten.py -> build/lib.macosx-10.15-x86_64-cpython-312/thinc/layers\n",
      "  \u001b[31m   \u001b[0m   \u001b[31m   \u001b[0m copying thinc/layers/resizable.py -> build/lib.macosx-10.15-x86_64-cpython-312/thinc/layers\n",
      "  \u001b[31m   \u001b[0m   \u001b[31m   \u001b[0m copying thinc/layers/sigmoid.py -> build/lib.macosx-10.15-x86_64-cpython-312/thinc/layers\n",
      "  \u001b[31m   \u001b[0m   \u001b[31m   \u001b[0m copying thinc/layers/multisoftmax.py -> build/lib.macosx-10.15-x86_64-cpython-312/thinc/layers\n",
      "  \u001b[31m   \u001b[0m   \u001b[31m   \u001b[0m copying thinc/layers/softmax.py -> build/lib.macosx-10.15-x86_64-cpython-312/thinc/layers\n",
      "  \u001b[31m   \u001b[0m   \u001b[31m   \u001b[0m copying thinc/layers/reduce_mean.py -> build/lib.macosx-10.15-x86_64-cpython-312/thinc/layers\n",
      "  \u001b[31m   \u001b[0m   \u001b[31m   \u001b[0m copying thinc/layers/array_getitem.py -> build/lib.macosx-10.15-x86_64-cpython-312/thinc/layers\n",
      "  \u001b[31m   \u001b[0m   \u001b[31m   \u001b[0m copying thinc/layers/parametricattention.py -> build/lib.macosx-10.15-x86_64-cpython-312/thinc/layers\n",
      "  \u001b[31m   \u001b[0m   \u001b[31m   \u001b[0m copying thinc/layers/clone.py -> build/lib.macosx-10.15-x86_64-cpython-312/thinc/layers\n",
      "  \u001b[31m   \u001b[0m   \u001b[31m   \u001b[0m creating build/lib.macosx-10.15-x86_64-cpython-312/thinc/backends\n",
      "  \u001b[31m   \u001b[0m   \u001b[31m   \u001b[0m copying thinc/backends/__init__.py -> build/lib.macosx-10.15-x86_64-cpython-312/thinc/backends\n",
      "  \u001b[31m   \u001b[0m   \u001b[31m   \u001b[0m copying thinc/backends/_param_server.py -> build/lib.macosx-10.15-x86_64-cpython-312/thinc/backends\n",
      "  \u001b[31m   \u001b[0m   \u001b[31m   \u001b[0m copying thinc/backends/cupy_ops.py -> build/lib.macosx-10.15-x86_64-cpython-312/thinc/backends\n",
      "  \u001b[31m   \u001b[0m   \u001b[31m   \u001b[0m copying thinc/backends/_custom_kernels.py -> build/lib.macosx-10.15-x86_64-cpython-312/thinc/backends\n",
      "  \u001b[31m   \u001b[0m   \u001b[31m   \u001b[0m copying thinc/backends/ops.py -> build/lib.macosx-10.15-x86_64-cpython-312/thinc/backends\n",
      "  \u001b[31m   \u001b[0m   \u001b[31m   \u001b[0m copying thinc/backends/_cupy_allocators.py -> build/lib.macosx-10.15-x86_64-cpython-312/thinc/backends\n",
      "  \u001b[31m   \u001b[0m   \u001b[31m   \u001b[0m creating build/lib.macosx-10.15-x86_64-cpython-312/thinc/tests\n",
      "  \u001b[31m   \u001b[0m   \u001b[31m   \u001b[0m copying thinc/tests/conftest.py -> build/lib.macosx-10.15-x86_64-cpython-312/thinc/tests\n",
      "  \u001b[31m   \u001b[0m   \u001b[31m   \u001b[0m copying thinc/tests/strategies.py -> build/lib.macosx-10.15-x86_64-cpython-312/thinc/tests\n",
      "  \u001b[31m   \u001b[0m   \u001b[31m   \u001b[0m copying thinc/tests/test_schedules.py -> build/lib.macosx-10.15-x86_64-cpython-312/thinc/tests\n",
      "  \u001b[31m   \u001b[0m   \u001b[31m   \u001b[0m copying thinc/tests/util.py -> build/lib.macosx-10.15-x86_64-cpython-312/thinc/tests\n",
      "  \u001b[31m   \u001b[0m   \u001b[31m   \u001b[0m copying thinc/tests/test_initializers.py -> build/lib.macosx-10.15-x86_64-cpython-312/thinc/tests\n",
      "  \u001b[31m   \u001b[0m   \u001b[31m   \u001b[0m copying thinc/tests/test_optimizers.py -> build/lib.macosx-10.15-x86_64-cpython-312/thinc/tests\n",
      "  \u001b[31m   \u001b[0m   \u001b[31m   \u001b[0m copying thinc/tests/__init__.py -> build/lib.macosx-10.15-x86_64-cpython-312/thinc/tests\n",
      "  \u001b[31m   \u001b[0m   \u001b[31m   \u001b[0m copying thinc/tests/test_util.py -> build/lib.macosx-10.15-x86_64-cpython-312/thinc/tests\n",
      "  \u001b[31m   \u001b[0m   \u001b[31m   \u001b[0m copying thinc/tests/test_indexing.py -> build/lib.macosx-10.15-x86_64-cpython-312/thinc/tests\n",
      "  \u001b[31m   \u001b[0m   \u001b[31m   \u001b[0m copying thinc/tests/test_config.py -> build/lib.macosx-10.15-x86_64-cpython-312/thinc/tests\n",
      "  \u001b[31m   \u001b[0m   \u001b[31m   \u001b[0m copying thinc/tests/test_serialize.py -> build/lib.macosx-10.15-x86_64-cpython-312/thinc/tests\n",
      "  \u001b[31m   \u001b[0m   \u001b[31m   \u001b[0m copying thinc/tests/test_loss.py -> build/lib.macosx-10.15-x86_64-cpython-312/thinc/tests\n",
      "  \u001b[31m   \u001b[0m   \u001b[31m   \u001b[0m copying thinc/tests/test_examples.py -> build/lib.macosx-10.15-x86_64-cpython-312/thinc/tests\n",
      "  \u001b[31m   \u001b[0m   \u001b[31m   \u001b[0m copying thinc/tests/test_types.py -> build/lib.macosx-10.15-x86_64-cpython-312/thinc/tests\n",
      "  \u001b[31m   \u001b[0m   \u001b[31m   \u001b[0m creating build/lib.macosx-10.15-x86_64-cpython-312/thinc/extra\n",
      "  \u001b[31m   \u001b[0m   \u001b[31m   \u001b[0m copying thinc/extra/__init__.py -> build/lib.macosx-10.15-x86_64-cpython-312/thinc/extra\n",
      "  \u001b[31m   \u001b[0m   \u001b[31m   \u001b[0m creating build/lib.macosx-10.15-x86_64-cpython-312/thinc/shims\n",
      "  \u001b[31m   \u001b[0m   \u001b[31m   \u001b[0m copying thinc/shims/mxnet.py -> build/lib.macosx-10.15-x86_64-cpython-312/thinc/shims\n",
      "  \u001b[31m   \u001b[0m   \u001b[31m   \u001b[0m copying thinc/shims/__init__.py -> build/lib.macosx-10.15-x86_64-cpython-312/thinc/shims\n",
      "  \u001b[31m   \u001b[0m   \u001b[31m   \u001b[0m copying thinc/shims/tensorflow.py -> build/lib.macosx-10.15-x86_64-cpython-312/thinc/shims\n",
      "  \u001b[31m   \u001b[0m   \u001b[31m   \u001b[0m copying thinc/shims/pytorch.py -> build/lib.macosx-10.15-x86_64-cpython-312/thinc/shims\n",
      "  \u001b[31m   \u001b[0m   \u001b[31m   \u001b[0m copying thinc/shims/pytorch_grad_scaler.py -> build/lib.macosx-10.15-x86_64-cpython-312/thinc/shims\n",
      "  \u001b[31m   \u001b[0m   \u001b[31m   \u001b[0m copying thinc/shims/shim.py -> build/lib.macosx-10.15-x86_64-cpython-312/thinc/shims\n",
      "  \u001b[31m   \u001b[0m   \u001b[31m   \u001b[0m creating build/lib.macosx-10.15-x86_64-cpython-312/thinc/tests/layers\n",
      "  \u001b[31m   \u001b[0m   \u001b[31m   \u001b[0m copying thinc/tests/layers/test_hash_embed.py -> build/lib.macosx-10.15-x86_64-cpython-312/thinc/tests/layers\n",
      "  \u001b[31m   \u001b[0m   \u001b[31m   \u001b[0m copying thinc/tests/layers/test_layers_api.py -> build/lib.macosx-10.15-x86_64-cpython-312/thinc/tests/layers\n",
      "  \u001b[31m   \u001b[0m   \u001b[31m   \u001b[0m copying thinc/tests/layers/test_with_transforms.py -> build/lib.macosx-10.15-x86_64-cpython-312/thinc/tests/layers\n",
      "  \u001b[31m   \u001b[0m   \u001b[31m   \u001b[0m copying thinc/tests/layers/test_sparse_linear.py -> build/lib.macosx-10.15-x86_64-cpython-312/thinc/tests/layers\n",
      "  \u001b[31m   \u001b[0m   \u001b[31m   \u001b[0m copying thinc/tests/layers/test_uniqued.py -> build/lib.macosx-10.15-x86_64-cpython-312/thinc/tests/layers\n",
      "  \u001b[31m   \u001b[0m   \u001b[31m   \u001b[0m copying thinc/tests/layers/test_combinators.py -> build/lib.macosx-10.15-x86_64-cpython-312/thinc/tests/layers\n",
      "  \u001b[31m   \u001b[0m   \u001b[31m   \u001b[0m copying thinc/tests/layers/test_tensorflow_wrapper.py -> build/lib.macosx-10.15-x86_64-cpython-312/thinc/tests/layers\n",
      "  \u001b[31m   \u001b[0m   \u001b[31m   \u001b[0m copying thinc/tests/layers/__init__.py -> build/lib.macosx-10.15-x86_64-cpython-312/thinc/tests/layers\n",
      "  \u001b[31m   \u001b[0m   \u001b[31m   \u001b[0m copying thinc/tests/layers/test_mnist.py -> build/lib.macosx-10.15-x86_64-cpython-312/thinc/tests/layers\n",
      "  \u001b[31m   \u001b[0m   \u001b[31m   \u001b[0m copying thinc/tests/layers/test_feed_forward.py -> build/lib.macosx-10.15-x86_64-cpython-312/thinc/tests/layers\n",
      "  \u001b[31m   \u001b[0m   \u001b[31m   \u001b[0m copying thinc/tests/layers/test_reduce.py -> build/lib.macosx-10.15-x86_64-cpython-312/thinc/tests/layers\n",
      "  \u001b[31m   \u001b[0m   \u001b[31m   \u001b[0m copying thinc/tests/layers/test_transforms.py -> build/lib.macosx-10.15-x86_64-cpython-312/thinc/tests/layers\n",
      "  \u001b[31m   \u001b[0m   \u001b[31m   \u001b[0m copying thinc/tests/layers/test_linear.py -> build/lib.macosx-10.15-x86_64-cpython-312/thinc/tests/layers\n",
      "  \u001b[31m   \u001b[0m   \u001b[31m   \u001b[0m copying thinc/tests/layers/test_softmax.py -> build/lib.macosx-10.15-x86_64-cpython-312/thinc/tests/layers\n",
      "  \u001b[31m   \u001b[0m   \u001b[31m   \u001b[0m copying thinc/tests/layers/test_pytorch_wrapper.py -> build/lib.macosx-10.15-x86_64-cpython-312/thinc/tests/layers\n",
      "  \u001b[31m   \u001b[0m   \u001b[31m   \u001b[0m copying thinc/tests/layers/test_with_debug.py -> build/lib.macosx-10.15-x86_64-cpython-312/thinc/tests/layers\n",
      "  \u001b[31m   \u001b[0m   \u001b[31m   \u001b[0m copying thinc/tests/layers/test_mxnet_wrapper.py -> build/lib.macosx-10.15-x86_64-cpython-312/thinc/tests/layers\n",
      "  \u001b[31m   \u001b[0m   \u001b[31m   \u001b[0m copying thinc/tests/layers/test_shim.py -> build/lib.macosx-10.15-x86_64-cpython-312/thinc/tests/layers\n",
      "  \u001b[31m   \u001b[0m   \u001b[31m   \u001b[0m copying thinc/tests/layers/test_lstm.py -> build/lib.macosx-10.15-x86_64-cpython-312/thinc/tests/layers\n",
      "  \u001b[31m   \u001b[0m   \u001b[31m   \u001b[0m copying thinc/tests/layers/test_basic_tagger.py -> build/lib.macosx-10.15-x86_64-cpython-312/thinc/tests/layers\n",
      "  \u001b[31m   \u001b[0m   \u001b[31m   \u001b[0m creating build/lib.macosx-10.15-x86_64-cpython-312/thinc/tests/backends\n",
      "  \u001b[31m   \u001b[0m   \u001b[31m   \u001b[0m copying thinc/tests/backends/__init__.py -> build/lib.macosx-10.15-x86_64-cpython-312/thinc/tests/backends\n",
      "  \u001b[31m   \u001b[0m   \u001b[31m   \u001b[0m copying thinc/tests/backends/test_ops.py -> build/lib.macosx-10.15-x86_64-cpython-312/thinc/tests/backends\n",
      "  \u001b[31m   \u001b[0m   \u001b[31m   \u001b[0m copying thinc/tests/backends/test_mem.py -> build/lib.macosx-10.15-x86_64-cpython-312/thinc/tests/backends\n",
      "  \u001b[31m   \u001b[0m   \u001b[31m   \u001b[0m creating build/lib.macosx-10.15-x86_64-cpython-312/thinc/tests/extra\n",
      "  \u001b[31m   \u001b[0m   \u001b[31m   \u001b[0m copying thinc/tests/extra/test_beam_search.py -> build/lib.macosx-10.15-x86_64-cpython-312/thinc/tests/extra\n",
      "  \u001b[31m   \u001b[0m   \u001b[31m   \u001b[0m copying thinc/tests/extra/__init__.py -> build/lib.macosx-10.15-x86_64-cpython-312/thinc/tests/extra\n",
      "  \u001b[31m   \u001b[0m   \u001b[31m   \u001b[0m creating build/lib.macosx-10.15-x86_64-cpython-312/thinc/tests/shims\n",
      "  \u001b[31m   \u001b[0m   \u001b[31m   \u001b[0m copying thinc/tests/shims/__init__.py -> build/lib.macosx-10.15-x86_64-cpython-312/thinc/tests/shims\n",
      "  \u001b[31m   \u001b[0m   \u001b[31m   \u001b[0m copying thinc/tests/shims/test_pytorch_grad_scaler.py -> build/lib.macosx-10.15-x86_64-cpython-312/thinc/tests/shims\n",
      "  \u001b[31m   \u001b[0m   \u001b[31m   \u001b[0m creating build/lib.macosx-10.15-x86_64-cpython-312/thinc/tests/mypy\n",
      "  \u001b[31m   \u001b[0m   \u001b[31m   \u001b[0m copying thinc/tests/mypy/test_mypy.py -> build/lib.macosx-10.15-x86_64-cpython-312/thinc/tests/mypy\n",
      "  \u001b[31m   \u001b[0m   \u001b[31m   \u001b[0m copying thinc/tests/mypy/__init__.py -> build/lib.macosx-10.15-x86_64-cpython-312/thinc/tests/mypy\n",
      "  \u001b[31m   \u001b[0m   \u001b[31m   \u001b[0m creating build/lib.macosx-10.15-x86_64-cpython-312/thinc/tests/model\n",
      "  \u001b[31m   \u001b[0m   \u001b[31m   \u001b[0m copying thinc/tests/model/test_model.py -> build/lib.macosx-10.15-x86_64-cpython-312/thinc/tests/model\n",
      "  \u001b[31m   \u001b[0m   \u001b[31m   \u001b[0m copying thinc/tests/model/test_validation.py -> build/lib.macosx-10.15-x86_64-cpython-312/thinc/tests/model\n",
      "  \u001b[31m   \u001b[0m   \u001b[31m   \u001b[0m copying thinc/tests/model/__init__.py -> build/lib.macosx-10.15-x86_64-cpython-312/thinc/tests/model\n",
      "  \u001b[31m   \u001b[0m   \u001b[31m   \u001b[0m creating build/lib.macosx-10.15-x86_64-cpython-312/thinc/tests/regression\n",
      "  \u001b[31m   \u001b[0m   \u001b[31m   \u001b[0m copying thinc/tests/regression/__init__.py -> build/lib.macosx-10.15-x86_64-cpython-312/thinc/tests/regression\n",
      "  \u001b[31m   \u001b[0m   \u001b[31m   \u001b[0m copying thinc/tests/regression/test_issue208.py -> build/lib.macosx-10.15-x86_64-cpython-312/thinc/tests/regression\n",
      "  \u001b[31m   \u001b[0m   \u001b[31m   \u001b[0m copying thinc/tests/regression/test_issue564.py -> build/lib.macosx-10.15-x86_64-cpython-312/thinc/tests/regression\n",
      "  \u001b[31m   \u001b[0m   \u001b[31m   \u001b[0m creating build/lib.macosx-10.15-x86_64-cpython-312/thinc/tests/mypy/modules\n",
      "  \u001b[31m   \u001b[0m   \u001b[31m   \u001b[0m copying thinc/tests/mypy/modules/fail_no_plugin.py -> build/lib.macosx-10.15-x86_64-cpython-312/thinc/tests/mypy/modules\n",
      "  \u001b[31m   \u001b[0m   \u001b[31m   \u001b[0m copying thinc/tests/mypy/modules/success_no_plugin.py -> build/lib.macosx-10.15-x86_64-cpython-312/thinc/tests/mypy/modules\n",
      "  \u001b[31m   \u001b[0m   \u001b[31m   \u001b[0m copying thinc/tests/mypy/modules/fail_plugin.py -> build/lib.macosx-10.15-x86_64-cpython-312/thinc/tests/mypy/modules\n",
      "  \u001b[31m   \u001b[0m   \u001b[31m   \u001b[0m copying thinc/tests/mypy/modules/__init__.py -> build/lib.macosx-10.15-x86_64-cpython-312/thinc/tests/mypy/modules\n",
      "  \u001b[31m   \u001b[0m   \u001b[31m   \u001b[0m copying thinc/tests/mypy/modules/success_plugin.py -> build/lib.macosx-10.15-x86_64-cpython-312/thinc/tests/mypy/modules\n",
      "  \u001b[31m   \u001b[0m   \u001b[31m   \u001b[0m creating build/lib.macosx-10.15-x86_64-cpython-312/thinc/tests/regression/issue519\n",
      "  \u001b[31m   \u001b[0m   \u001b[31m   \u001b[0m copying thinc/tests/regression/issue519/test_issue519.py -> build/lib.macosx-10.15-x86_64-cpython-312/thinc/tests/regression/issue519\n",
      "  \u001b[31m   \u001b[0m   \u001b[31m   \u001b[0m copying thinc/tests/regression/issue519/__init__.py -> build/lib.macosx-10.15-x86_64-cpython-312/thinc/tests/regression/issue519\n",
      "  \u001b[31m   \u001b[0m   \u001b[31m   \u001b[0m copying thinc/tests/regression/issue519/program.py -> build/lib.macosx-10.15-x86_64-cpython-312/thinc/tests/regression/issue519\n",
      "  \u001b[31m   \u001b[0m   \u001b[31m   \u001b[0m creating build/lib.macosx-10.15-x86_64-cpython-312/thinc/extra/tests\n",
      "  \u001b[31m   \u001b[0m   \u001b[31m   \u001b[0m copying thinc/extra/tests/__init__.py -> build/lib.macosx-10.15-x86_64-cpython-312/thinc/extra/tests\n",
      "  \u001b[31m   \u001b[0m   \u001b[31m   \u001b[0m running egg_info\n",
      "  \u001b[31m   \u001b[0m   \u001b[31m   \u001b[0m writing thinc.egg-info/PKG-INFO\n",
      "  \u001b[31m   \u001b[0m   \u001b[31m   \u001b[0m writing dependency_links to thinc.egg-info/dependency_links.txt\n",
      "  \u001b[31m   \u001b[0m   \u001b[31m   \u001b[0m writing requirements to thinc.egg-info/requires.txt\n",
      "  \u001b[31m   \u001b[0m   \u001b[31m   \u001b[0m writing top-level names to thinc.egg-info/top_level.txt\n",
      "  \u001b[31m   \u001b[0m   \u001b[31m   \u001b[0m reading manifest file 'thinc.egg-info/SOURCES.txt'\n",
      "  \u001b[31m   \u001b[0m   \u001b[31m   \u001b[0m reading manifest template 'MANIFEST.in'\n",
      "  \u001b[31m   \u001b[0m   \u001b[31m   \u001b[0m no previously-included directories found matching 'tmp'\n",
      "  \u001b[31m   \u001b[0m   \u001b[31m   \u001b[0m adding license file 'LICENSE'\n",
      "  \u001b[31m   \u001b[0m   \u001b[31m   \u001b[0m writing manifest file 'thinc.egg-info/SOURCES.txt'\n",
      "  \u001b[31m   \u001b[0m   \u001b[31m   \u001b[0m /private/var/folders/q2/7p0pd17s30v5z9s68crbk07c0000gn/T/pip-build-env-qrhdvhcl/overlay/lib/python3.12/site-packages/setuptools/command/build_py.py:218: _Warning: Package 'thinc.tests.mypy.configs' is absent from the `packages` configuration.\n",
      "  \u001b[31m   \u001b[0m   \u001b[31m   \u001b[0m !!\n",
      "  \u001b[31m   \u001b[0m   \u001b[31m   \u001b[0m\n",
      "  \u001b[31m   \u001b[0m   \u001b[31m   \u001b[0m         ********************************************************************************\n",
      "  \u001b[31m   \u001b[0m   \u001b[31m   \u001b[0m         ############################\n",
      "  \u001b[31m   \u001b[0m   \u001b[31m   \u001b[0m         # Package would be ignored #\n",
      "  \u001b[31m   \u001b[0m   \u001b[31m   \u001b[0m         ############################\n",
      "  \u001b[31m   \u001b[0m   \u001b[31m   \u001b[0m         Python recognizes 'thinc.tests.mypy.configs' as an importable package[^1],\n",
      "  \u001b[31m   \u001b[0m   \u001b[31m   \u001b[0m         but it is absent from setuptools' `packages` configuration.\n",
      "  \u001b[31m   \u001b[0m   \u001b[31m   \u001b[0m\n",
      "  \u001b[31m   \u001b[0m   \u001b[31m   \u001b[0m         This leads to an ambiguous overall configuration. If you want to distribute this\n",
      "  \u001b[31m   \u001b[0m   \u001b[31m   \u001b[0m         package, please make sure that 'thinc.tests.mypy.configs' is explicitly added\n",
      "  \u001b[31m   \u001b[0m   \u001b[31m   \u001b[0m         to the `packages` configuration field.\n",
      "  \u001b[31m   \u001b[0m   \u001b[31m   \u001b[0m\n",
      "  \u001b[31m   \u001b[0m   \u001b[31m   \u001b[0m         Alternatively, you can also rely on setuptools' discovery methods\n",
      "  \u001b[31m   \u001b[0m   \u001b[31m   \u001b[0m         (for example by using `find_namespace_packages(...)`/`find_namespace:`\n",
      "  \u001b[31m   \u001b[0m   \u001b[31m   \u001b[0m         instead of `find_packages(...)`/`find:`).\n",
      "  \u001b[31m   \u001b[0m   \u001b[31m   \u001b[0m\n",
      "  \u001b[31m   \u001b[0m   \u001b[31m   \u001b[0m         You can read more about \"package discovery\" on setuptools documentation page:\n",
      "  \u001b[31m   \u001b[0m   \u001b[31m   \u001b[0m\n",
      "  \u001b[31m   \u001b[0m   \u001b[31m   \u001b[0m         - https://setuptools.pypa.io/en/latest/userguide/package_discovery.html\n",
      "  \u001b[31m   \u001b[0m   \u001b[31m   \u001b[0m\n",
      "  \u001b[31m   \u001b[0m   \u001b[31m   \u001b[0m         If you don't want 'thinc.tests.mypy.configs' to be distributed and are\n",
      "  \u001b[31m   \u001b[0m   \u001b[31m   \u001b[0m         already explicitly excluding 'thinc.tests.mypy.configs' via\n",
      "  \u001b[31m   \u001b[0m   \u001b[31m   \u001b[0m         `find_namespace_packages(...)/find_namespace` or `find_packages(...)/find`,\n",
      "  \u001b[31m   \u001b[0m   \u001b[31m   \u001b[0m         you can try to use `exclude_package_data`, or `include-package-data=False` in\n",
      "  \u001b[31m   \u001b[0m   \u001b[31m   \u001b[0m         combination with a more fine grained `package-data` configuration.\n",
      "  \u001b[31m   \u001b[0m   \u001b[31m   \u001b[0m\n",
      "  \u001b[31m   \u001b[0m   \u001b[31m   \u001b[0m         You can read more about \"package data files\" on setuptools documentation page:\n",
      "  \u001b[31m   \u001b[0m   \u001b[31m   \u001b[0m\n",
      "  \u001b[31m   \u001b[0m   \u001b[31m   \u001b[0m         - https://setuptools.pypa.io/en/latest/userguide/datafiles.html\n",
      "  \u001b[31m   \u001b[0m   \u001b[31m   \u001b[0m\n",
      "  \u001b[31m   \u001b[0m   \u001b[31m   \u001b[0m\n",
      "  \u001b[31m   \u001b[0m   \u001b[31m   \u001b[0m         [^1]: For Python, any directory (with suitable naming) can be imported,\n",
      "  \u001b[31m   \u001b[0m   \u001b[31m   \u001b[0m               even if it does not contain any `.py` files.\n",
      "  \u001b[31m   \u001b[0m   \u001b[31m   \u001b[0m               On the other hand, currently there is no concept of package data\n",
      "  \u001b[31m   \u001b[0m   \u001b[31m   \u001b[0m               directory, all directories are treated like packages.\n",
      "  \u001b[31m   \u001b[0m   \u001b[31m   \u001b[0m         ********************************************************************************\n",
      "  \u001b[31m   \u001b[0m   \u001b[31m   \u001b[0m\n",
      "  \u001b[31m   \u001b[0m   \u001b[31m   \u001b[0m !!\n",
      "  \u001b[31m   \u001b[0m   \u001b[31m   \u001b[0m   check.warn(importable)\n",
      "  \u001b[31m   \u001b[0m   \u001b[31m   \u001b[0m /private/var/folders/q2/7p0pd17s30v5z9s68crbk07c0000gn/T/pip-build-env-qrhdvhcl/overlay/lib/python3.12/site-packages/setuptools/command/build_py.py:218: _Warning: Package 'thinc.tests.mypy.outputs' is absent from the `packages` configuration.\n",
      "  \u001b[31m   \u001b[0m   \u001b[31m   \u001b[0m !!\n",
      "  \u001b[31m   \u001b[0m   \u001b[31m   \u001b[0m\n",
      "  \u001b[31m   \u001b[0m   \u001b[31m   \u001b[0m         ********************************************************************************\n",
      "  \u001b[31m   \u001b[0m   \u001b[31m   \u001b[0m         ############################\n",
      "  \u001b[31m   \u001b[0m   \u001b[31m   \u001b[0m         # Package would be ignored #\n",
      "  \u001b[31m   \u001b[0m   \u001b[31m   \u001b[0m         ############################\n",
      "  \u001b[31m   \u001b[0m   \u001b[31m   \u001b[0m         Python recognizes 'thinc.tests.mypy.outputs' as an importable package[^1],\n",
      "  \u001b[31m   \u001b[0m   \u001b[31m   \u001b[0m         but it is absent from setuptools' `packages` configuration.\n",
      "  \u001b[31m   \u001b[0m   \u001b[31m   \u001b[0m\n",
      "  \u001b[31m   \u001b[0m   \u001b[31m   \u001b[0m         This leads to an ambiguous overall configuration. If you want to distribute this\n",
      "  \u001b[31m   \u001b[0m   \u001b[31m   \u001b[0m         package, please make sure that 'thinc.tests.mypy.outputs' is explicitly added\n",
      "  \u001b[31m   \u001b[0m   \u001b[31m   \u001b[0m         to the `packages` configuration field.\n",
      "  \u001b[31m   \u001b[0m   \u001b[31m   \u001b[0m\n",
      "  \u001b[31m   \u001b[0m   \u001b[31m   \u001b[0m         Alternatively, you can also rely on setuptools' discovery methods\n",
      "  \u001b[31m   \u001b[0m   \u001b[31m   \u001b[0m         (for example by using `find_namespace_packages(...)`/`find_namespace:`\n",
      "  \u001b[31m   \u001b[0m   \u001b[31m   \u001b[0m         instead of `find_packages(...)`/`find:`).\n",
      "  \u001b[31m   \u001b[0m   \u001b[31m   \u001b[0m\n",
      "  \u001b[31m   \u001b[0m   \u001b[31m   \u001b[0m         You can read more about \"package discovery\" on setuptools documentation page:\n",
      "  \u001b[31m   \u001b[0m   \u001b[31m   \u001b[0m\n",
      "  \u001b[31m   \u001b[0m   \u001b[31m   \u001b[0m         - https://setuptools.pypa.io/en/latest/userguide/package_discovery.html\n",
      "  \u001b[31m   \u001b[0m   \u001b[31m   \u001b[0m\n",
      "  \u001b[31m   \u001b[0m   \u001b[31m   \u001b[0m         If you don't want 'thinc.tests.mypy.outputs' to be distributed and are\n",
      "  \u001b[31m   \u001b[0m   \u001b[31m   \u001b[0m         already explicitly excluding 'thinc.tests.mypy.outputs' via\n",
      "  \u001b[31m   \u001b[0m   \u001b[31m   \u001b[0m         `find_namespace_packages(...)/find_namespace` or `find_packages(...)/find`,\n",
      "  \u001b[31m   \u001b[0m   \u001b[31m   \u001b[0m         you can try to use `exclude_package_data`, or `include-package-data=False` in\n",
      "  \u001b[31m   \u001b[0m   \u001b[31m   \u001b[0m         combination with a more fine grained `package-data` configuration.\n",
      "  \u001b[31m   \u001b[0m   \u001b[31m   \u001b[0m\n",
      "  \u001b[31m   \u001b[0m   \u001b[31m   \u001b[0m         You can read more about \"package data files\" on setuptools documentation page:\n",
      "  \u001b[31m   \u001b[0m   \u001b[31m   \u001b[0m\n",
      "  \u001b[31m   \u001b[0m   \u001b[31m   \u001b[0m         - https://setuptools.pypa.io/en/latest/userguide/datafiles.html\n",
      "  \u001b[31m   \u001b[0m   \u001b[31m   \u001b[0m\n",
      "  \u001b[31m   \u001b[0m   \u001b[31m   \u001b[0m\n",
      "  \u001b[31m   \u001b[0m   \u001b[31m   \u001b[0m         [^1]: For Python, any directory (with suitable naming) can be imported,\n",
      "  \u001b[31m   \u001b[0m   \u001b[31m   \u001b[0m               even if it does not contain any `.py` files.\n",
      "  \u001b[31m   \u001b[0m   \u001b[31m   \u001b[0m               On the other hand, currently there is no concept of package data\n",
      "  \u001b[31m   \u001b[0m   \u001b[31m   \u001b[0m               directory, all directories are treated like packages.\n",
      "  \u001b[31m   \u001b[0m   \u001b[31m   \u001b[0m         ********************************************************************************\n",
      "  \u001b[31m   \u001b[0m   \u001b[31m   \u001b[0m\n",
      "  \u001b[31m   \u001b[0m   \u001b[31m   \u001b[0m !!\n",
      "  \u001b[31m   \u001b[0m   \u001b[31m   \u001b[0m   check.warn(importable)\n",
      "  \u001b[31m   \u001b[0m   \u001b[31m   \u001b[0m copying thinc/__init__.pxd -> build/lib.macosx-10.15-x86_64-cpython-312/thinc\n",
      "  \u001b[31m   \u001b[0m   \u001b[31m   \u001b[0m copying thinc/py.typed -> build/lib.macosx-10.15-x86_64-cpython-312/thinc\n",
      "  \u001b[31m   \u001b[0m   \u001b[31m   \u001b[0m copying thinc/layers/sparselinear.pyx -> build/lib.macosx-10.15-x86_64-cpython-312/thinc/layers\n",
      "  \u001b[31m   \u001b[0m   \u001b[31m   \u001b[0m copying thinc/backends/__init__.pxd -> build/lib.macosx-10.15-x86_64-cpython-312/thinc/backends\n",
      "  \u001b[31m   \u001b[0m   \u001b[31m   \u001b[0m copying thinc/backends/_custom_kernels.cu -> build/lib.macosx-10.15-x86_64-cpython-312/thinc/backends\n",
      "  \u001b[31m   \u001b[0m   \u001b[31m   \u001b[0m copying thinc/backends/_murmur3.cu -> build/lib.macosx-10.15-x86_64-cpython-312/thinc/backends\n",
      "  \u001b[31m   \u001b[0m   \u001b[31m   \u001b[0m copying thinc/backends/linalg.pxd -> build/lib.macosx-10.15-x86_64-cpython-312/thinc/backends\n",
      "  \u001b[31m   \u001b[0m   \u001b[31m   \u001b[0m copying thinc/backends/linalg.pyx -> build/lib.macosx-10.15-x86_64-cpython-312/thinc/backends\n",
      "  \u001b[31m   \u001b[0m   \u001b[31m   \u001b[0m copying thinc/backends/numpy_ops.pxd -> build/lib.macosx-10.15-x86_64-cpython-312/thinc/backends\n",
      "  \u001b[31m   \u001b[0m   \u001b[31m   \u001b[0m copying thinc/backends/numpy_ops.pyx -> build/lib.macosx-10.15-x86_64-cpython-312/thinc/backends\n",
      "  \u001b[31m   \u001b[0m   \u001b[31m   \u001b[0m copying thinc/extra/__init__.pxd -> build/lib.macosx-10.15-x86_64-cpython-312/thinc/extra\n",
      "  \u001b[31m   \u001b[0m   \u001b[31m   \u001b[0m copying thinc/extra/search.pxd -> build/lib.macosx-10.15-x86_64-cpython-312/thinc/extra\n",
      "  \u001b[31m   \u001b[0m   \u001b[31m   \u001b[0m copying thinc/extra/search.pyx -> build/lib.macosx-10.15-x86_64-cpython-312/thinc/extra\n",
      "  \u001b[31m   \u001b[0m   \u001b[31m   \u001b[0m creating build/lib.macosx-10.15-x86_64-cpython-312/thinc/tests/mypy/configs\n",
      "  \u001b[31m   \u001b[0m   \u001b[31m   \u001b[0m copying thinc/tests/mypy/configs/mypy-default.ini -> build/lib.macosx-10.15-x86_64-cpython-312/thinc/tests/mypy/configs\n",
      "  \u001b[31m   \u001b[0m   \u001b[31m   \u001b[0m copying thinc/tests/mypy/configs/mypy-plugin.ini -> build/lib.macosx-10.15-x86_64-cpython-312/thinc/tests/mypy/configs\n",
      "  \u001b[31m   \u001b[0m   \u001b[31m   \u001b[0m creating build/lib.macosx-10.15-x86_64-cpython-312/thinc/tests/mypy/outputs\n",
      "  \u001b[31m   \u001b[0m   \u001b[31m   \u001b[0m copying thinc/tests/mypy/outputs/fail-no-plugin.txt -> build/lib.macosx-10.15-x86_64-cpython-312/thinc/tests/mypy/outputs\n",
      "  \u001b[31m   \u001b[0m   \u001b[31m   \u001b[0m copying thinc/tests/mypy/outputs/fail-plugin.txt -> build/lib.macosx-10.15-x86_64-cpython-312/thinc/tests/mypy/outputs\n",
      "  \u001b[31m   \u001b[0m   \u001b[31m   \u001b[0m copying thinc/tests/mypy/outputs/success-no-plugin.txt -> build/lib.macosx-10.15-x86_64-cpython-312/thinc/tests/mypy/outputs\n",
      "  \u001b[31m   \u001b[0m   \u001b[31m   \u001b[0m copying thinc/tests/mypy/outputs/success-plugin.txt -> build/lib.macosx-10.15-x86_64-cpython-312/thinc/tests/mypy/outputs\n",
      "  \u001b[31m   \u001b[0m   \u001b[31m   \u001b[0m copying thinc/extra/tests/c_test_search.pyx -> build/lib.macosx-10.15-x86_64-cpython-312/thinc/extra/tests\n",
      "  \u001b[31m   \u001b[0m   \u001b[31m   \u001b[0m running build_ext\n",
      "  \u001b[31m   \u001b[0m   \u001b[31m   \u001b[0m building 'thinc.backends.linalg' extension\n",
      "  \u001b[31m   \u001b[0m   \u001b[31m   \u001b[0m creating build/temp.macosx-10.15-x86_64-cpython-312/thinc/backends\n",
      "  \u001b[31m   \u001b[0m   \u001b[31m   \u001b[0m clang++ -fno-strict-overflow -DNDEBUG -O2 -Wall -fPIC -O2 -isystem /opt/anaconda3/include -fPIC -O2 -isystem /opt/anaconda3/include -I/private/var/folders/q2/7p0pd17s30v5z9s68crbk07c0000gn/T/pip-build-env-qrhdvhcl/overlay/lib/python3.12/site-packages/numpy/_core/include -I/opt/anaconda3/include/python3.12 -I/opt/anaconda3/include/python3.12 -c thinc/backends/linalg.cpp -o build/temp.macosx-10.15-x86_64-cpython-312/thinc/backends/linalg.o -O3 -Wno-strict-prototypes -Wno-unused-function -stdlib=libc++\n",
      "  \u001b[31m   \u001b[0m   \u001b[31m   \u001b[0m clang++ -fno-strict-overflow -DNDEBUG -O2 -Wall -fPIC -O2 -isystem /opt/anaconda3/include -fPIC -O2 -isystem /opt/anaconda3/include -bundle -undefined dynamic_lookup build/temp.macosx-10.15-x86_64-cpython-312/thinc/backends/linalg.o -o build/lib.macosx-10.15-x86_64-cpython-312/thinc/backends/linalg.cpython-312-darwin.so -lc++ -nodefaultlibs\n",
      "  \u001b[31m   \u001b[0m   \u001b[31m   \u001b[0m building 'thinc.backends.numpy_ops' extension\n",
      "  \u001b[31m   \u001b[0m   \u001b[31m   \u001b[0m clang++ -fno-strict-overflow -DNDEBUG -O2 -Wall -fPIC -O2 -isystem /opt/anaconda3/include -fPIC -O2 -isystem /opt/anaconda3/include -I/private/var/folders/q2/7p0pd17s30v5z9s68crbk07c0000gn/T/pip-build-env-qrhdvhcl/overlay/lib/python3.12/site-packages/numpy/_core/include -I/opt/anaconda3/include/python3.12 -I/opt/anaconda3/include/python3.12 -c thinc/backends/numpy_ops.cpp -o build/temp.macosx-10.15-x86_64-cpython-312/thinc/backends/numpy_ops.o -O3 -Wno-strict-prototypes -Wno-unused-function -stdlib=libc++\n",
      "  \u001b[31m   \u001b[0m   \u001b[31m   \u001b[0m In file included from thinc/backends/numpy_ops.cpp:797:\n",
      "  \u001b[31m   \u001b[0m   \u001b[31m   \u001b[0m In file included from /private/var/folders/q2/7p0pd17s30v5z9s68crbk07c0000gn/T/pip-build-env-qrhdvhcl/overlay/lib/python3.12/site-packages/numpy/_core/include/numpy/arrayobject.h:5:\n",
      "  \u001b[31m   \u001b[0m   \u001b[31m   \u001b[0m In file included from /private/var/folders/q2/7p0pd17s30v5z9s68crbk07c0000gn/T/pip-build-env-qrhdvhcl/overlay/lib/python3.12/site-packages/numpy/_core/include/numpy/ndarrayobject.h:12:\n",
      "  \u001b[31m   \u001b[0m   \u001b[31m   \u001b[0m In file included from /private/var/folders/q2/7p0pd17s30v5z9s68crbk07c0000gn/T/pip-build-env-qrhdvhcl/overlay/lib/python3.12/site-packages/numpy/_core/include/numpy/ndarraytypes.h:1909:\n",
      "  \u001b[31m   \u001b[0m   \u001b[31m   \u001b[0m /private/var/folders/q2/7p0pd17s30v5z9s68crbk07c0000gn/T/pip-build-env-qrhdvhcl/overlay/lib/python3.12/site-packages/numpy/_core/include/numpy/npy_1_7_deprecated_api.h:17:2: warning: \"Using deprecated NumPy API, disable it with \"          \"#define NPY_NO_DEPRECATED_API NPY_1_7_API_VERSION\" [-W#warnings]\n",
      "  \u001b[31m   \u001b[0m   \u001b[31m   \u001b[0m #warning \"Using deprecated NumPy API, disable it with \" \\\n",
      "  \u001b[31m   \u001b[0m   \u001b[31m   \u001b[0m  ^\n",
      "  \u001b[31m   \u001b[0m   \u001b[31m   \u001b[0m thinc/backends/numpy_ops.cpp:4645:3: error: no member named 'use_tracing' in '_PyCFrame'\n",
      "  \u001b[31m   \u001b[0m   \u001b[31m   \u001b[0m   __Pyx_TraceCall(\"__init__\", __pyx_f[0], 50, 0, __PYX_ERR(0, 50, __pyx_L1_error));\n",
      "  \u001b[31m   \u001b[0m   \u001b[31m   \u001b[0m   ^~~~~~~~~~~~~~~~~~~~~~~~~~~~~~~~~~~~~~~~~~~~~~~~~~~~~~~~~~~~~~~~~~~~~~~~~~~~~~~~\n",
      "  \u001b[31m   \u001b[0m   \u001b[31m   \u001b[0m thinc/backends/numpy_ops.cpp:2319:15: note: expanded from macro '__Pyx_TraceCall'\n",
      "  \u001b[31m   \u001b[0m   \u001b[31m   \u001b[0m           if (__Pyx_IsTracing(tstate, 1, 1)) {\\\n",
      "  \u001b[31m   \u001b[0m   \u001b[31m   \u001b[0m               ^~~~~~~~~~~~~~~~~~~~~~~~~~~~~\n",
      "  \u001b[31m   \u001b[0m   \u001b[31m   \u001b[0m thinc/backends/numpy_ops.cpp:2280:34: note: expanded from macro '__Pyx_IsTracing'\n",
      "  \u001b[31m   \u001b[0m   \u001b[31m   \u001b[0m      (unlikely((tstate)->cframe->use_tracing) &&\\\n",
      "  \u001b[31m   \u001b[0m   \u001b[31m   \u001b[0m       ~~~~~~~~~~~~~~~~~~~~~~~~~~~^~~~~~~~~~~~\n",
      "  \u001b[31m   \u001b[0m   \u001b[31m   \u001b[0m thinc/backends/numpy_ops.cpp:993:43: note: expanded from macro 'unlikely'\n",
      "  \u001b[31m   \u001b[0m   \u001b[31m   \u001b[0m   #define unlikely(x) __builtin_expect(!!(x), 0)\n",
      "  \u001b[31m   \u001b[0m   \u001b[31m   \u001b[0m                                           ^\n",
      "  \u001b[31m   \u001b[0m   \u001b[31m   \u001b[0m thinc/backends/numpy_ops.cpp:4645:3: error: no member named 'use_tracing' in '_PyCFrame'\n",
      "  \u001b[31m   \u001b[0m   \u001b[31m   \u001b[0m   __Pyx_TraceCall(\"__init__\", __pyx_f[0], 50, 0, __PYX_ERR(0, 50, __pyx_L1_error));\n",
      "  \u001b[31m   \u001b[0m   \u001b[31m   \u001b[0m   ^~~~~~~~~~~~~~~~~~~~~~~~~~~~~~~~~~~~~~~~~~~~~~~~~~~~~~~~~~~~~~~~~~~~~~~~~~~~~~~~\n",
      "  \u001b[31m   \u001b[0m   \u001b[31m   \u001b[0m thinc/backends/numpy_ops.cpp:2327:11: note: expanded from macro '__Pyx_TraceCall'\n",
      "  \u001b[31m   \u001b[0m   \u001b[31m   \u001b[0m       if (__Pyx_IsTracing(tstate, 1, 1)) {\\\n",
      "  \u001b[31m   \u001b[0m   \u001b[31m   \u001b[0m           ^~~~~~~~~~~~~~~~~~~~~~~~~~~~~\n",
      "  \u001b[31m   \u001b[0m   \u001b[31m   \u001b[0m thinc/backends/numpy_ops.cpp:2280:34: note: expanded from macro '__Pyx_IsTracing'\n",
      "  \u001b[31m   \u001b[0m   \u001b[31m   \u001b[0m      (unlikely((tstate)->cframe->use_tracing) &&\\\n",
      "  \u001b[31m   \u001b[0m   \u001b[31m   \u001b[0m       ~~~~~~~~~~~~~~~~~~~~~~~~~~~^~~~~~~~~~~~\n",
      "  \u001b[31m   \u001b[0m   \u001b[31m   \u001b[0m thinc/backends/numpy_ops.cpp:993:43: note: expanded from macro 'unlikely'\n",
      "  \u001b[31m   \u001b[0m   \u001b[31m   \u001b[0m   #define unlikely(x) __builtin_expect(!!(x), 0)\n",
      "  \u001b[31m   \u001b[0m   \u001b[31m   \u001b[0m                                           ^\n",
      "  \u001b[31m   \u001b[0m   \u001b[31m   \u001b[0m thinc/backends/numpy_ops.cpp:4738:3: error: no member named 'use_tracing' in '_PyCFrame'\n",
      "  \u001b[31m   \u001b[0m   \u001b[31m   \u001b[0m   __Pyx_TraceReturn(__pyx_r, 0);\n",
      "  \u001b[31m   \u001b[0m   \u001b[31m   \u001b[0m   ^~~~~~~~~~~~~~~~~~~~~~~~~~~~~\n",
      "  \u001b[31m   \u001b[0m   \u001b[31m   \u001b[0m thinc/backends/numpy_ops.cpp:2378:19: note: expanded from macro '__Pyx_TraceReturn'\n",
      "  \u001b[31m   \u001b[0m   \u001b[31m   \u001b[0m               if (__Pyx_IsTracing(tstate, 0, 0)) {\\\n",
      "  \u001b[31m   \u001b[0m   \u001b[31m   \u001b[0m                   ^~~~~~~~~~~~~~~~~~~~~~~~~~~~~\n",
      "  \u001b[31m   \u001b[0m   \u001b[31m   \u001b[0m thinc/backends/numpy_ops.cpp:2280:34: note: expanded from macro '__Pyx_IsTracing'\n",
      "  \u001b[31m   \u001b[0m   \u001b[31m   \u001b[0m      (unlikely((tstate)->cframe->use_tracing) &&\\\n",
      "  \u001b[31m   \u001b[0m   \u001b[31m   \u001b[0m       ~~~~~~~~~~~~~~~~~~~~~~~~~~~^~~~~~~~~~~~\n",
      "  \u001b[31m   \u001b[0m   \u001b[31m   \u001b[0m thinc/backends/numpy_ops.cpp:993:43: note: expanded from macro 'unlikely'\n",
      "  \u001b[31m   \u001b[0m   \u001b[31m   \u001b[0m   #define unlikely(x) __builtin_expect(!!(x), 0)\n",
      "  \u001b[31m   \u001b[0m   \u001b[31m   \u001b[0m                                           ^\n",
      "  \u001b[31m   \u001b[0m   \u001b[31m   \u001b[0m thinc/backends/numpy_ops.cpp:4738:3: error: no member named 'use_tracing' in '_PyCFrame'\n",
      "  \u001b[31m   \u001b[0m   \u001b[31m   \u001b[0m   __Pyx_TraceReturn(__pyx_r, 0);\n",
      "  \u001b[31m   \u001b[0m   \u001b[31m   \u001b[0m   ^~~~~~~~~~~~~~~~~~~~~~~~~~~~~\n",
      "  \u001b[31m   \u001b[0m   \u001b[31m   \u001b[0m thinc/backends/numpy_ops.cpp:2385:15: note: expanded from macro '__Pyx_TraceReturn'\n",
      "  \u001b[31m   \u001b[0m   \u001b[31m   \u001b[0m           if (__Pyx_IsTracing(tstate, 0, 0)) {\\\n",
      "  \u001b[31m   \u001b[0m   \u001b[31m   \u001b[0m               ^~~~~~~~~~~~~~~~~~~~~~~~~~~~~\n",
      "  \u001b[31m   \u001b[0m   \u001b[31m   \u001b[0m thinc/backends/numpy_ops.cpp:2280:34: note: expanded from macro '__Pyx_IsTracing'\n",
      "  \u001b[31m   \u001b[0m   \u001b[31m   \u001b[0m      (unlikely((tstate)->cframe->use_tracing) &&\\\n",
      "  \u001b[31m   \u001b[0m   \u001b[31m   \u001b[0m       ~~~~~~~~~~~~~~~~~~~~~~~~~~~^~~~~~~~~~~~\n",
      "  \u001b[31m   \u001b[0m   \u001b[31m   \u001b[0m thinc/backends/numpy_ops.cpp:993:43: note: expanded from macro 'unlikely'\n",
      "  \u001b[31m   \u001b[0m   \u001b[31m   \u001b[0m   #define unlikely(x) __builtin_expect(!!(x), 0)\n",
      "  \u001b[31m   \u001b[0m   \u001b[31m   \u001b[0m                                           ^\n",
      "  \u001b[31m   \u001b[0m   \u001b[31m   \u001b[0m thinc/backends/numpy_ops.cpp:4847:3: error: no member named 'use_tracing' in '_PyCFrame'\n",
      "  \u001b[31m   \u001b[0m   \u001b[31m   \u001b[0m   __Pyx_TraceCall(\"asarray\", __pyx_f[0], 63, 0, __PYX_ERR(0, 63, __pyx_L1_error));\n",
      "  \u001b[31m   \u001b[0m   \u001b[31m   \u001b[0m   ^~~~~~~~~~~~~~~~~~~~~~~~~~~~~~~~~~~~~~~~~~~~~~~~~~~~~~~~~~~~~~~~~~~~~~~~~~~~~~~\n",
      "  \u001b[31m   \u001b[0m   \u001b[31m   \u001b[0m thinc/backends/numpy_ops.cpp:2319:15: note: expanded from macro '__Pyx_TraceCall'\n",
      "  \u001b[31m   \u001b[0m   \u001b[31m   \u001b[0m           if (__Pyx_IsTracing(tstate, 1, 1)) {\\\n",
      "  \u001b[31m   \u001b[0m   \u001b[31m   \u001b[0m               ^~~~~~~~~~~~~~~~~~~~~~~~~~~~~\n",
      "  \u001b[31m   \u001b[0m   \u001b[31m   \u001b[0m thinc/backends/numpy_ops.cpp:2280:34: note: expanded from macro '__Pyx_IsTracing'\n",
      "  \u001b[31m   \u001b[0m   \u001b[31m   \u001b[0m      (unlikely((tstate)->cframe->use_tracing) &&\\\n",
      "  \u001b[31m   \u001b[0m   \u001b[31m   \u001b[0m       ~~~~~~~~~~~~~~~~~~~~~~~~~~~^~~~~~~~~~~~\n",
      "  \u001b[31m   \u001b[0m   \u001b[31m   \u001b[0m thinc/backends/numpy_ops.cpp:993:43: note: expanded from macro 'unlikely'\n",
      "  \u001b[31m   \u001b[0m   \u001b[31m   \u001b[0m   #define unlikely(x) __builtin_expect(!!(x), 0)\n",
      "  \u001b[31m   \u001b[0m   \u001b[31m   \u001b[0m                                           ^\n",
      "  \u001b[31m   \u001b[0m   \u001b[31m   \u001b[0m thinc/backends/numpy_ops.cpp:4847:3: error: no member named 'use_tracing' in '_PyCFrame'\n",
      "  \u001b[31m   \u001b[0m   \u001b[31m   \u001b[0m   __Pyx_TraceCall(\"asarray\", __pyx_f[0], 63, 0, __PYX_ERR(0, 63, __pyx_L1_error));\n",
      "  \u001b[31m   \u001b[0m   \u001b[31m   \u001b[0m   ^~~~~~~~~~~~~~~~~~~~~~~~~~~~~~~~~~~~~~~~~~~~~~~~~~~~~~~~~~~~~~~~~~~~~~~~~~~~~~~\n",
      "  \u001b[31m   \u001b[0m   \u001b[31m   \u001b[0m thinc/backends/numpy_ops.cpp:2327:11: note: expanded from macro '__Pyx_TraceCall'\n",
      "  \u001b[31m   \u001b[0m   \u001b[31m   \u001b[0m       if (__Pyx_IsTracing(tstate, 1, 1)) {\\\n",
      "  \u001b[31m   \u001b[0m   \u001b[31m   \u001b[0m           ^~~~~~~~~~~~~~~~~~~~~~~~~~~~~\n",
      "  \u001b[31m   \u001b[0m   \u001b[31m   \u001b[0m thinc/backends/numpy_ops.cpp:2280:34: note: expanded from macro '__Pyx_IsTracing'\n",
      "  \u001b[31m   \u001b[0m   \u001b[31m   \u001b[0m      (unlikely((tstate)->cframe->use_tracing) &&\\\n",
      "  \u001b[31m   \u001b[0m   \u001b[31m   \u001b[0m       ~~~~~~~~~~~~~~~~~~~~~~~~~~~^~~~~~~~~~~~\n",
      "  \u001b[31m   \u001b[0m   \u001b[31m   \u001b[0m thinc/backends/numpy_ops.cpp:993:43: note: expanded from macro 'unlikely'\n",
      "  \u001b[31m   \u001b[0m   \u001b[31m   \u001b[0m   #define unlikely(x) __builtin_expect(!!(x), 0)\n",
      "  \u001b[31m   \u001b[0m   \u001b[31m   \u001b[0m                                           ^\n",
      "  \u001b[31m   \u001b[0m   \u001b[31m   \u001b[0m thinc/backends/numpy_ops.cpp:5085:3: error: no member named 'use_tracing' in '_PyCFrame'\n",
      "  \u001b[31m   \u001b[0m   \u001b[31m   \u001b[0m   __Pyx_TraceReturn(__pyx_r, 0);\n",
      "  \u001b[31m   \u001b[0m   \u001b[31m   \u001b[0m   ^~~~~~~~~~~~~~~~~~~~~~~~~~~~~\n",
      "  \u001b[31m   \u001b[0m   \u001b[31m   \u001b[0m thinc/backends/numpy_ops.cpp:2378:19: note: expanded from macro '__Pyx_TraceReturn'\n",
      "  \u001b[31m   \u001b[0m   \u001b[31m   \u001b[0m               if (__Pyx_IsTracing(tstate, 0, 0)) {\\\n",
      "  \u001b[31m   \u001b[0m   \u001b[31m   \u001b[0m                   ^~~~~~~~~~~~~~~~~~~~~~~~~~~~~\n",
      "  \u001b[31m   \u001b[0m   \u001b[31m   \u001b[0m thinc/backends/numpy_ops.cpp:2280:34: note: expanded from macro '__Pyx_IsTracing'\n",
      "  \u001b[31m   \u001b[0m   \u001b[31m   \u001b[0m      (unlikely((tstate)->cframe->use_tracing) &&\\\n",
      "  \u001b[31m   \u001b[0m   \u001b[31m   \u001b[0m       ~~~~~~~~~~~~~~~~~~~~~~~~~~~^~~~~~~~~~~~\n",
      "  \u001b[31m   \u001b[0m   \u001b[31m   \u001b[0m thinc/backends/numpy_ops.cpp:993:43: note: expanded from macro 'unlikely'\n",
      "  \u001b[31m   \u001b[0m   \u001b[31m   \u001b[0m   #define unlikely(x) __builtin_expect(!!(x), 0)\n",
      "  \u001b[31m   \u001b[0m   \u001b[31m   \u001b[0m                                           ^\n",
      "  \u001b[31m   \u001b[0m   \u001b[31m   \u001b[0m thinc/backends/numpy_ops.cpp:5085:3: error: no member named 'use_tracing' in '_PyCFrame'\n",
      "  \u001b[31m   \u001b[0m   \u001b[31m   \u001b[0m   __Pyx_TraceReturn(__pyx_r, 0);\n",
      "  \u001b[31m   \u001b[0m   \u001b[31m   \u001b[0m   ^~~~~~~~~~~~~~~~~~~~~~~~~~~~~\n",
      "  \u001b[31m   \u001b[0m   \u001b[31m   \u001b[0m thinc/backends/numpy_ops.cpp:2385:15: note: expanded from macro '__Pyx_TraceReturn'\n",
      "  \u001b[31m   \u001b[0m   \u001b[31m   \u001b[0m           if (__Pyx_IsTracing(tstate, 0, 0)) {\\\n",
      "  \u001b[31m   \u001b[0m   \u001b[31m   \u001b[0m               ^~~~~~~~~~~~~~~~~~~~~~~~~~~~~\n",
      "  \u001b[31m   \u001b[0m   \u001b[31m   \u001b[0m thinc/backends/numpy_ops.cpp:2280:34: note: expanded from macro '__Pyx_IsTracing'\n",
      "  \u001b[31m   \u001b[0m   \u001b[31m   \u001b[0m      (unlikely((tstate)->cframe->use_tracing) &&\\\n",
      "  \u001b[31m   \u001b[0m   \u001b[31m   \u001b[0m       ~~~~~~~~~~~~~~~~~~~~~~~~~~~^~~~~~~~~~~~\n",
      "  \u001b[31m   \u001b[0m   \u001b[31m   \u001b[0m thinc/backends/numpy_ops.cpp:993:43: note: expanded from macro 'unlikely'\n",
      "  \u001b[31m   \u001b[0m   \u001b[31m   \u001b[0m   #define unlikely(x) __builtin_expect(!!(x), 0)\n",
      "  \u001b[31m   \u001b[0m   \u001b[31m   \u001b[0m                                           ^\n",
      "  \u001b[31m   \u001b[0m   \u001b[31m   \u001b[0m thinc/backends/numpy_ops.cpp:5185:3: error: no member named 'use_tracing' in '_PyCFrame'\n",
      "  \u001b[31m   \u001b[0m   \u001b[31m   \u001b[0m   __Pyx_TraceCall(\"alloc\", __pyx_f[0], 80, 0, __PYX_ERR(0, 80, __pyx_L1_error));\n",
      "  \u001b[31m   \u001b[0m   \u001b[31m   \u001b[0m   ^~~~~~~~~~~~~~~~~~~~~~~~~~~~~~~~~~~~~~~~~~~~~~~~~~~~~~~~~~~~~~~~~~~~~~~~~~~~~\n",
      "  \u001b[31m   \u001b[0m   \u001b[31m   \u001b[0m thinc/backends/numpy_ops.cpp:2319:15: note: expanded from macro '__Pyx_TraceCall'\n",
      "  \u001b[31m   \u001b[0m   \u001b[31m   \u001b[0m           if (__Pyx_IsTracing(tstate, 1, 1)) {\\\n",
      "  \u001b[31m   \u001b[0m   \u001b[31m   \u001b[0m               ^~~~~~~~~~~~~~~~~~~~~~~~~~~~~\n",
      "  \u001b[31m   \u001b[0m   \u001b[31m   \u001b[0m thinc/backends/numpy_ops.cpp:2280:34: note: expanded from macro '__Pyx_IsTracing'\n",
      "  \u001b[31m   \u001b[0m   \u001b[31m   \u001b[0m      (unlikely((tstate)->cframe->use_tracing) &&\\\n",
      "  \u001b[31m   \u001b[0m   \u001b[31m   \u001b[0m       ~~~~~~~~~~~~~~~~~~~~~~~~~~~^~~~~~~~~~~~\n",
      "  \u001b[31m   \u001b[0m   \u001b[31m   \u001b[0m thinc/backends/numpy_ops.cpp:993:43: note: expanded from macro 'unlikely'\n",
      "  \u001b[31m   \u001b[0m   \u001b[31m   \u001b[0m   #define unlikely(x) __builtin_expect(!!(x), 0)\n",
      "  \u001b[31m   \u001b[0m   \u001b[31m   \u001b[0m                                           ^\n",
      "  \u001b[31m   \u001b[0m   \u001b[31m   \u001b[0m thinc/backends/numpy_ops.cpp:5185:3: error: no member named 'use_tracing' in '_PyCFrame'\n",
      "  \u001b[31m   \u001b[0m   \u001b[31m   \u001b[0m   __Pyx_TraceCall(\"alloc\", __pyx_f[0], 80, 0, __PYX_ERR(0, 80, __pyx_L1_error));\n",
      "  \u001b[31m   \u001b[0m   \u001b[31m   \u001b[0m   ^~~~~~~~~~~~~~~~~~~~~~~~~~~~~~~~~~~~~~~~~~~~~~~~~~~~~~~~~~~~~~~~~~~~~~~~~~~~~\n",
      "  \u001b[31m   \u001b[0m   \u001b[31m   \u001b[0m thinc/backends/numpy_ops.cpp:2327:11: note: expanded from macro '__Pyx_TraceCall'\n",
      "  \u001b[31m   \u001b[0m   \u001b[31m   \u001b[0m       if (__Pyx_IsTracing(tstate, 1, 1)) {\\\n",
      "  \u001b[31m   \u001b[0m   \u001b[31m   \u001b[0m           ^~~~~~~~~~~~~~~~~~~~~~~~~~~~~\n",
      "  \u001b[31m   \u001b[0m   \u001b[31m   \u001b[0m thinc/backends/numpy_ops.cpp:2280:34: note: expanded from macro '__Pyx_IsTracing'\n",
      "  \u001b[31m   \u001b[0m   \u001b[31m   \u001b[0m      (unlikely((tstate)->cframe->use_tracing) &&\\\n",
      "  \u001b[31m   \u001b[0m   \u001b[31m   \u001b[0m       ~~~~~~~~~~~~~~~~~~~~~~~~~~~^~~~~~~~~~~~\n",
      "  \u001b[31m   \u001b[0m   \u001b[31m   \u001b[0m thinc/backends/numpy_ops.cpp:993:43: note: expanded from macro 'unlikely'\n",
      "  \u001b[31m   \u001b[0m   \u001b[31m   \u001b[0m   #define unlikely(x) __builtin_expect(!!(x), 0)\n",
      "  \u001b[31m   \u001b[0m   \u001b[31m   \u001b[0m                                           ^\n",
      "  \u001b[31m   \u001b[0m   \u001b[31m   \u001b[0m thinc/backends/numpy_ops.cpp:5235:3: error: no member named 'use_tracing' in '_PyCFrame'\n",
      "  \u001b[31m   \u001b[0m   \u001b[31m   \u001b[0m   __Pyx_TraceReturn(__pyx_r, 0);\n",
      "  \u001b[31m   \u001b[0m   \u001b[31m   \u001b[0m   ^~~~~~~~~~~~~~~~~~~~~~~~~~~~~\n",
      "  \u001b[31m   \u001b[0m   \u001b[31m   \u001b[0m thinc/backends/numpy_ops.cpp:2378:19: note: expanded from macro '__Pyx_TraceReturn'\n",
      "  \u001b[31m   \u001b[0m   \u001b[31m   \u001b[0m               if (__Pyx_IsTracing(tstate, 0, 0)) {\\\n",
      "  \u001b[31m   \u001b[0m   \u001b[31m   \u001b[0m                   ^~~~~~~~~~~~~~~~~~~~~~~~~~~~~\n",
      "  \u001b[31m   \u001b[0m   \u001b[31m   \u001b[0m thinc/backends/numpy_ops.cpp:2280:34: note: expanded from macro '__Pyx_IsTracing'\n",
      "  \u001b[31m   \u001b[0m   \u001b[31m   \u001b[0m      (unlikely((tstate)->cframe->use_tracing) &&\\\n",
      "  \u001b[31m   \u001b[0m   \u001b[31m   \u001b[0m       ~~~~~~~~~~~~~~~~~~~~~~~~~~~^~~~~~~~~~~~\n",
      "  \u001b[31m   \u001b[0m   \u001b[31m   \u001b[0m thinc/backends/numpy_ops.cpp:993:43: note: expanded from macro 'unlikely'\n",
      "  \u001b[31m   \u001b[0m   \u001b[31m   \u001b[0m   #define unlikely(x) __builtin_expect(!!(x), 0)\n",
      "  \u001b[31m   \u001b[0m   \u001b[31m   \u001b[0m                                           ^\n",
      "  \u001b[31m   \u001b[0m   \u001b[31m   \u001b[0m thinc/backends/numpy_ops.cpp:5235:3: error: no member named 'use_tracing' in '_PyCFrame'\n",
      "  \u001b[31m   \u001b[0m   \u001b[31m   \u001b[0m   __Pyx_TraceReturn(__pyx_r, 0);\n",
      "  \u001b[31m   \u001b[0m   \u001b[31m   \u001b[0m   ^~~~~~~~~~~~~~~~~~~~~~~~~~~~~\n",
      "  \u001b[31m   \u001b[0m   \u001b[31m   \u001b[0m thinc/backends/numpy_ops.cpp:2385:15: note: expanded from macro '__Pyx_TraceReturn'\n",
      "  \u001b[31m   \u001b[0m   \u001b[31m   \u001b[0m           if (__Pyx_IsTracing(tstate, 0, 0)) {\\\n",
      "  \u001b[31m   \u001b[0m   \u001b[31m   \u001b[0m               ^~~~~~~~~~~~~~~~~~~~~~~~~~~~~\n",
      "  \u001b[31m   \u001b[0m   \u001b[31m   \u001b[0m thinc/backends/numpy_ops.cpp:2280:34: note: expanded from macro '__Pyx_IsTracing'\n",
      "  \u001b[31m   \u001b[0m   \u001b[31m   \u001b[0m      (unlikely((tstate)->cframe->use_tracing) &&\\\n",
      "  \u001b[31m   \u001b[0m   \u001b[31m   \u001b[0m       ~~~~~~~~~~~~~~~~~~~~~~~~~~~^~~~~~~~~~~~\n",
      "  \u001b[31m   \u001b[0m   \u001b[31m   \u001b[0m thinc/backends/numpy_ops.cpp:993:43: note: expanded from macro 'unlikely'\n",
      "  \u001b[31m   \u001b[0m   \u001b[31m   \u001b[0m   #define unlikely(x) __builtin_expect(!!(x), 0)\n",
      "  \u001b[31m   \u001b[0m   \u001b[31m   \u001b[0m                                           ^\n",
      "  \u001b[31m   \u001b[0m   \u001b[31m   \u001b[0m thinc/backends/numpy_ops.cpp:5365:3: error: no member named 'use_tracing' in '_PyCFrame'\n",
      "  \u001b[31m   \u001b[0m   \u001b[31m   \u001b[0m   __Pyx_TraceCall(\"gemm\", __pyx_f[0], 83, 0, __PYX_ERR(0, 83, __pyx_L1_error));\n",
      "  \u001b[31m   \u001b[0m   \u001b[31m   \u001b[0m   ^~~~~~~~~~~~~~~~~~~~~~~~~~~~~~~~~~~~~~~~~~~~~~~~~~~~~~~~~~~~~~~~~~~~~~~~~~~~\n",
      "  \u001b[31m   \u001b[0m   \u001b[31m   \u001b[0m thinc/backends/numpy_ops.cpp:2319:15: note: expanded from macro '__Pyx_TraceCall'\n",
      "  \u001b[31m   \u001b[0m   \u001b[31m   \u001b[0m           if (__Pyx_IsTracing(tstate, 1, 1)) {\\\n",
      "  \u001b[31m   \u001b[0m   \u001b[31m   \u001b[0m               ^~~~~~~~~~~~~~~~~~~~~~~~~~~~~\n",
      "  \u001b[31m   \u001b[0m   \u001b[31m   \u001b[0m thinc/backends/numpy_ops.cpp:2280:34: note: expanded from macro '__Pyx_IsTracing'\n",
      "  \u001b[31m   \u001b[0m   \u001b[31m   \u001b[0m      (unlikely((tstate)->cframe->use_tracing) &&\\\n",
      "  \u001b[31m   \u001b[0m   \u001b[31m   \u001b[0m       ~~~~~~~~~~~~~~~~~~~~~~~~~~~^~~~~~~~~~~~\n",
      "  \u001b[31m   \u001b[0m   \u001b[31m   \u001b[0m thinc/backends/numpy_ops.cpp:993:43: note: expanded from macro 'unlikely'\n",
      "  \u001b[31m   \u001b[0m   \u001b[31m   \u001b[0m   #define unlikely(x) __builtin_expect(!!(x), 0)\n",
      "  \u001b[31m   \u001b[0m   \u001b[31m   \u001b[0m                                           ^\n",
      "  \u001b[31m   \u001b[0m   \u001b[31m   \u001b[0m thinc/backends/numpy_ops.cpp:5365:3: error: no member named 'use_tracing' in '_PyCFrame'\n",
      "  \u001b[31m   \u001b[0m   \u001b[31m   \u001b[0m   __Pyx_TraceCall(\"gemm\", __pyx_f[0], 83, 0, __PYX_ERR(0, 83, __pyx_L1_error));\n",
      "  \u001b[31m   \u001b[0m   \u001b[31m   \u001b[0m   ^~~~~~~~~~~~~~~~~~~~~~~~~~~~~~~~~~~~~~~~~~~~~~~~~~~~~~~~~~~~~~~~~~~~~~~~~~~~\n",
      "  \u001b[31m   \u001b[0m   \u001b[31m   \u001b[0m thinc/backends/numpy_ops.cpp:2327:11: note: expanded from macro '__Pyx_TraceCall'\n",
      "  \u001b[31m   \u001b[0m   \u001b[31m   \u001b[0m       if (__Pyx_IsTracing(tstate, 1, 1)) {\\\n",
      "  \u001b[31m   \u001b[0m   \u001b[31m   \u001b[0m           ^~~~~~~~~~~~~~~~~~~~~~~~~~~~~\n",
      "  \u001b[31m   \u001b[0m   \u001b[31m   \u001b[0m thinc/backends/numpy_ops.cpp:2280:34: note: expanded from macro '__Pyx_IsTracing'\n",
      "  \u001b[31m   \u001b[0m   \u001b[31m   \u001b[0m      (unlikely((tstate)->cframe->use_tracing) &&\\\n",
      "  \u001b[31m   \u001b[0m   \u001b[31m   \u001b[0m       ~~~~~~~~~~~~~~~~~~~~~~~~~~~^~~~~~~~~~~~\n",
      "  \u001b[31m   \u001b[0m   \u001b[31m   \u001b[0m thinc/backends/numpy_ops.cpp:993:43: note: expanded from macro 'unlikely'\n",
      "  \u001b[31m   \u001b[0m   \u001b[31m   \u001b[0m   #define unlikely(x) __builtin_expect(!!(x), 0)\n",
      "  \u001b[31m   \u001b[0m   \u001b[31m   \u001b[0m                                           ^\n",
      "  \u001b[31m   \u001b[0m   \u001b[31m   \u001b[0m thinc/backends/numpy_ops.cpp:5712:3: error: no member named 'use_tracing' in '_PyCFrame'\n",
      "  \u001b[31m   \u001b[0m   \u001b[31m   \u001b[0m   __Pyx_TraceReturn(__pyx_r, 0);\n",
      "  \u001b[31m   \u001b[0m   \u001b[31m   \u001b[0m   ^~~~~~~~~~~~~~~~~~~~~~~~~~~~~\n",
      "  \u001b[31m   \u001b[0m   \u001b[31m   \u001b[0m thinc/backends/numpy_ops.cpp:2378:19: note: expanded from macro '__Pyx_TraceReturn'\n",
      "  \u001b[31m   \u001b[0m   \u001b[31m   \u001b[0m               if (__Pyx_IsTracing(tstate, 0, 0)) {\\\n",
      "  \u001b[31m   \u001b[0m   \u001b[31m   \u001b[0m                   ^~~~~~~~~~~~~~~~~~~~~~~~~~~~~\n",
      "  \u001b[31m   \u001b[0m   \u001b[31m   \u001b[0m thinc/backends/numpy_ops.cpp:2280:34: note: expanded from macro '__Pyx_IsTracing'\n",
      "  \u001b[31m   \u001b[0m   \u001b[31m   \u001b[0m      (unlikely((tstate)->cframe->use_tracing) &&\\\n",
      "  \u001b[31m   \u001b[0m   \u001b[31m   \u001b[0m       ~~~~~~~~~~~~~~~~~~~~~~~~~~~^~~~~~~~~~~~\n",
      "  \u001b[31m   \u001b[0m   \u001b[31m   \u001b[0m thinc/backends/numpy_ops.cpp:993:43: note: expanded from macro 'unlikely'\n",
      "  \u001b[31m   \u001b[0m   \u001b[31m   \u001b[0m   #define unlikely(x) __builtin_expect(!!(x), 0)\n",
      "  \u001b[31m   \u001b[0m   \u001b[31m   \u001b[0m                                           ^\n",
      "  \u001b[31m   \u001b[0m   \u001b[31m   \u001b[0m thinc/backends/numpy_ops.cpp:5712:3: error: no member named 'use_tracing' in '_PyCFrame'\n",
      "  \u001b[31m   \u001b[0m   \u001b[31m   \u001b[0m   __Pyx_TraceReturn(__pyx_r, 0);\n",
      "  \u001b[31m   \u001b[0m   \u001b[31m   \u001b[0m   ^~~~~~~~~~~~~~~~~~~~~~~~~~~~~\n",
      "  \u001b[31m   \u001b[0m   \u001b[31m   \u001b[0m thinc/backends/numpy_ops.cpp:2385:15: note: expanded from macro '__Pyx_TraceReturn'\n",
      "  \u001b[31m   \u001b[0m   \u001b[31m   \u001b[0m           if (__Pyx_IsTracing(tstate, 0, 0)) {\\\n",
      "  \u001b[31m   \u001b[0m   \u001b[31m   \u001b[0m               ^~~~~~~~~~~~~~~~~~~~~~~~~~~~~\n",
      "  \u001b[31m   \u001b[0m   \u001b[31m   \u001b[0m thinc/backends/numpy_ops.cpp:2280:34: note: expanded from macro '__Pyx_IsTracing'\n",
      "  \u001b[31m   \u001b[0m   \u001b[31m   \u001b[0m      (unlikely((tstate)->cframe->use_tracing) &&\\\n",
      "  \u001b[31m   \u001b[0m   \u001b[31m   \u001b[0m       ~~~~~~~~~~~~~~~~~~~~~~~~~~~^~~~~~~~~~~~\n",
      "  \u001b[31m   \u001b[0m   \u001b[31m   \u001b[0m thinc/backends/numpy_ops.cpp:993:43: note: expanded from macro 'unlikely'\n",
      "  \u001b[31m   \u001b[0m   \u001b[31m   \u001b[0m   #define unlikely(x) __builtin_expect(!!(x), 0)\n",
      "  \u001b[31m   \u001b[0m   \u001b[31m   \u001b[0m                                           ^\n",
      "  \u001b[31m   \u001b[0m   \u001b[31m   \u001b[0m thinc/backends/numpy_ops.cpp:5832:3: error: no member named 'use_tracing' in '_PyCFrame'\n",
      "  \u001b[31m   \u001b[0m   \u001b[31m   \u001b[0m   __Pyx_TraceCall(\"relu\", __pyx_f[0], 96, 0, __PYX_ERR(0, 96, __pyx_L1_error));\n",
      "  \u001b[31m   \u001b[0m   \u001b[31m   \u001b[0m   ^~~~~~~~~~~~~~~~~~~~~~~~~~~~~~~~~~~~~~~~~~~~~~~~~~~~~~~~~~~~~~~~~~~~~~~~~~~~\n",
      "  \u001b[31m   \u001b[0m   \u001b[31m   \u001b[0m thinc/backends/numpy_ops.cpp:2319:15: note: expanded from macro '__Pyx_TraceCall'\n",
      "  \u001b[31m   \u001b[0m   \u001b[31m   \u001b[0m           if (__Pyx_IsTracing(tstate, 1, 1)) {\\\n",
      "  \u001b[31m   \u001b[0m   \u001b[31m   \u001b[0m               ^~~~~~~~~~~~~~~~~~~~~~~~~~~~~\n",
      "  \u001b[31m   \u001b[0m   \u001b[31m   \u001b[0m thinc/backends/numpy_ops.cpp:2280:34: note: expanded from macro '__Pyx_IsTracing'\n",
      "  \u001b[31m   \u001b[0m   \u001b[31m   \u001b[0m      (unlikely((tstate)->cframe->use_tracing) &&\\\n",
      "  \u001b[31m   \u001b[0m   \u001b[31m   \u001b[0m       ~~~~~~~~~~~~~~~~~~~~~~~~~~~^~~~~~~~~~~~\n",
      "  \u001b[31m   \u001b[0m   \u001b[31m   \u001b[0m thinc/backends/numpy_ops.cpp:993:43: note: expanded from macro 'unlikely'\n",
      "  \u001b[31m   \u001b[0m   \u001b[31m   \u001b[0m   #define unlikely(x) __builtin_expect(!!(x), 0)\n",
      "  \u001b[31m   \u001b[0m   \u001b[31m   \u001b[0m                                           ^\n",
      "  \u001b[31m   \u001b[0m   \u001b[31m   \u001b[0m thinc/backends/numpy_ops.cpp:5832:3: error: no member named 'use_tracing' in '_PyCFrame'\n",
      "  \u001b[31m   \u001b[0m   \u001b[31m   \u001b[0m   __Pyx_TraceCall(\"relu\", __pyx_f[0], 96, 0, __PYX_ERR(0, 96, __pyx_L1_error));\n",
      "  \u001b[31m   \u001b[0m   \u001b[31m   \u001b[0m   ^~~~~~~~~~~~~~~~~~~~~~~~~~~~~~~~~~~~~~~~~~~~~~~~~~~~~~~~~~~~~~~~~~~~~~~~~~~~\n",
      "  \u001b[31m   \u001b[0m   \u001b[31m   \u001b[0m thinc/backends/numpy_ops.cpp:2327:11: note: expanded from macro '__Pyx_TraceCall'\n",
      "  \u001b[31m   \u001b[0m   \u001b[31m   \u001b[0m       if (__Pyx_IsTracing(tstate, 1, 1)) {\\\n",
      "  \u001b[31m   \u001b[0m   \u001b[31m   \u001b[0m           ^~~~~~~~~~~~~~~~~~~~~~~~~~~~~\n",
      "  \u001b[31m   \u001b[0m   \u001b[31m   \u001b[0m thinc/backends/numpy_ops.cpp:2280:34: note: expanded from macro '__Pyx_IsTracing'\n",
      "  \u001b[31m   \u001b[0m   \u001b[31m   \u001b[0m      (unlikely((tstate)->cframe->use_tracing) &&\\\n",
      "  \u001b[31m   \u001b[0m   \u001b[31m   \u001b[0m       ~~~~~~~~~~~~~~~~~~~~~~~~~~~^~~~~~~~~~~~\n",
      "  \u001b[31m   \u001b[0m   \u001b[31m   \u001b[0m thinc/backends/numpy_ops.cpp:993:43: note: expanded from macro 'unlikely'\n",
      "  \u001b[31m   \u001b[0m   \u001b[31m   \u001b[0m   #define unlikely(x) __builtin_expect(!!(x), 0)\n",
      "  \u001b[31m   \u001b[0m   \u001b[31m   \u001b[0m                                           ^\n",
      "  \u001b[31m   \u001b[0m   \u001b[31m   \u001b[0m thinc/backends/numpy_ops.cpp:5964:3: error: no member named 'use_tracing' in '_PyCFrame'\n",
      "  \u001b[31m   \u001b[0m   \u001b[31m   \u001b[0m   __Pyx_TraceReturn(__pyx_r, 0);\n",
      "  \u001b[31m   \u001b[0m   \u001b[31m   \u001b[0m   ^~~~~~~~~~~~~~~~~~~~~~~~~~~~~\n",
      "  \u001b[31m   \u001b[0m   \u001b[31m   \u001b[0m thinc/backends/numpy_ops.cpp:2378:19: note: expanded from macro '__Pyx_TraceReturn'\n",
      "  \u001b[31m   \u001b[0m   \u001b[31m   \u001b[0m               if (__Pyx_IsTracing(tstate, 0, 0)) {\\\n",
      "  \u001b[31m   \u001b[0m   \u001b[31m   \u001b[0m                   ^~~~~~~~~~~~~~~~~~~~~~~~~~~~~\n",
      "  \u001b[31m   \u001b[0m   \u001b[31m   \u001b[0m thinc/backends/numpy_ops.cpp:2280:34: note: expanded from macro '__Pyx_IsTracing'\n",
      "  \u001b[31m   \u001b[0m   \u001b[31m   \u001b[0m      (unlikely((tstate)->cframe->use_tracing) &&\\\n",
      "  \u001b[31m   \u001b[0m   \u001b[31m   \u001b[0m       ~~~~~~~~~~~~~~~~~~~~~~~~~~~^~~~~~~~~~~~\n",
      "  \u001b[31m   \u001b[0m   \u001b[31m   \u001b[0m thinc/backends/numpy_ops.cpp:993:43: note: expanded from macro 'unlikely'\n",
      "  \u001b[31m   \u001b[0m   \u001b[31m   \u001b[0m   #define unlikely(x) __builtin_expect(!!(x), 0)\n",
      "  \u001b[31m   \u001b[0m   \u001b[31m   \u001b[0m                                           ^\n",
      "  \u001b[31m   \u001b[0m   \u001b[31m   \u001b[0m fatal error: too many errors emitted, stopping now [-ferror-limit=]\n",
      "  \u001b[31m   \u001b[0m   \u001b[31m   \u001b[0m 1 warning and 20 errors generated.\n",
      "  \u001b[31m   \u001b[0m   \u001b[31m   \u001b[0m error: command '/usr/bin/clang++' failed with exit code 1\n",
      "  \u001b[31m   \u001b[0m   \u001b[31m   \u001b[0m \u001b[31m[end of output]\u001b[0m\n",
      "  \u001b[31m   \u001b[0m \n",
      "  \u001b[31m   \u001b[0m   \u001b[1;35mnote\u001b[0m: This error originates from a subprocess, and is likely not a problem with pip.\n",
      "  \u001b[31m   \u001b[0m \u001b[31m  ERROR: Failed building wheel for thinc\u001b[0m\u001b[31m\n",
      "  \u001b[31m   \u001b[0m \u001b[0mFailed to build thinc\n",
      "  \u001b[31m   \u001b[0m \u001b[31mERROR: Could not build wheels for thinc, which is required to install pyproject.toml-based projects\u001b[0m\u001b[31m\n",
      "  \u001b[31m   \u001b[0m \u001b[0m\n",
      "  \u001b[31m   \u001b[0m \u001b[31m[end of output]\u001b[0m\n",
      "  \n",
      "  \u001b[1;35mnote\u001b[0m: This error originates from a subprocess, and is likely not a problem with pip.\n",
      "\u001b[1;31merror\u001b[0m: \u001b[1msubprocess-exited-with-error\u001b[0m\n",
      "\n",
      "\u001b[31m×\u001b[0m \u001b[32mpip subprocess to install build dependencies\u001b[0m did not run successfully.\n",
      "\u001b[31m│\u001b[0m exit code: \u001b[1;36m1\u001b[0m\n",
      "\u001b[31m╰─>\u001b[0m See above for output.\n",
      "\n",
      "\u001b[1;35mnote\u001b[0m: This error originates from a subprocess, and is likely not a problem with pip.\n",
      "\u001b[?25h"
     ]
    }
   ],
   "source": [
    "!pip install spacy==3.0.0\n"
   ]
  },
  {
   "cell_type": "code",
   "execution_count": 13,
   "metadata": {},
   "outputs": [
    {
     "name": "stdout",
     "output_type": "stream",
     "text": [
      "Collecting pydantic==1.7.3\n",
      "  Downloading pydantic-1.7.3-py3-none-any.whl.metadata (84 kB)\n",
      "\u001b[2K     \u001b[90m━━━━━━━━━━━━━━━━━━━━━━━━━━━━━━━━━━━━━━━━\u001b[0m \u001b[32m84.9/84.9 kB\u001b[0m \u001b[31m1.2 MB/s\u001b[0m eta \u001b[36m0:00:00\u001b[0ma \u001b[36m0:00:01\u001b[0m\n",
      "\u001b[?25hDownloading pydantic-1.7.3-py3-none-any.whl (107 kB)\n",
      "\u001b[2K   \u001b[90m━━━━━━━━━━━━━━━━━━━━━━━━━━━━━━━━━━━━━━━━\u001b[0m \u001b[32m107.7/107.7 kB\u001b[0m \u001b[31m1.5 MB/s\u001b[0m eta \u001b[36m0:00:00\u001b[0ma \u001b[36m0:00:01\u001b[0m\n",
      "\u001b[?25hInstalling collected packages: pydantic\n",
      "  Attempting uninstall: pydantic\n",
      "    Found existing installation: pydantic 2.5.3\n",
      "    Uninstalling pydantic-2.5.3:\n",
      "      Successfully uninstalled pydantic-2.5.3\n",
      "\u001b[31mERROR: pip's dependency resolver does not currently take into account all the packages that are installed. This behaviour is the source of the following dependency conflicts.\n",
      "thinc 8.2.5 requires pydantic!=1.8,!=1.8.1,<3.0.0,>=1.7.4, but you have pydantic 1.7.3 which is incompatible.\n",
      "weasel 0.4.1 requires pydantic!=1.8,!=1.8.1,<3.0.0,>=1.7.4, but you have pydantic 1.7.3 which is incompatible.\n",
      "confection 0.1.5 requires pydantic!=1.8,!=1.8.1,<3.0.0,>=1.7.4, but you have pydantic 1.7.3 which is incompatible.\n",
      "spacy 3.7.6 requires pydantic!=1.8,!=1.8.1,<3.0.0,>=1.7.4, but you have pydantic 1.7.3 which is incompatible.\u001b[0m\u001b[31m\n",
      "\u001b[0mSuccessfully installed pydantic-1.7.3\n"
     ]
    }
   ],
   "source": [
    "!pip install pydantic==1.7.3\n"
   ]
  },
  {
   "cell_type": "code",
   "execution_count": 14,
   "metadata": {},
   "outputs": [
    {
     "name": "stdout",
     "output_type": "stream",
     "text": [
      "Traceback (most recent call last):\n",
      "  File \"<frozen runpy>\", line 189, in _run_module_as_main\n",
      "  File \"<frozen runpy>\", line 148, in _get_module_details\n",
      "  File \"<frozen runpy>\", line 112, in _get_module_details\n",
      "  File \"/opt/anaconda3/lib/python3.12/site-packages/spacy/__init__.py\", line 13, in <module>\n",
      "    from . import pipeline  # noqa: F401\n",
      "    ^^^^^^^^^^^^^^^^^^^^^^\n",
      "  File \"/opt/anaconda3/lib/python3.12/site-packages/spacy/pipeline/__init__.py\", line 1, in <module>\n",
      "    from .attributeruler import AttributeRuler\n",
      "  File \"/opt/anaconda3/lib/python3.12/site-packages/spacy/pipeline/attributeruler.py\", line 8, in <module>\n",
      "    from ..language import Language\n",
      "  File \"/opt/anaconda3/lib/python3.12/site-packages/spacy/language.py\", line 43, in <module>\n",
      "    from .pipe_analysis import analyze_pipes, print_pipe_analysis, validate_attrs\n",
      "  File \"/opt/anaconda3/lib/python3.12/site-packages/spacy/pipe_analysis.py\", line 6, in <module>\n",
      "    from .tokens import Doc, Span, Token\n",
      "  File \"/opt/anaconda3/lib/python3.12/site-packages/spacy/tokens/__init__.py\", line 1, in <module>\n",
      "    from ._serialize import DocBin\n",
      "  File \"/opt/anaconda3/lib/python3.12/site-packages/spacy/tokens/_serialize.py\", line 14, in <module>\n",
      "    from ..vocab import Vocab\n",
      "  File \"spacy/vocab.pyx\", line 1, in init spacy.vocab\n",
      "  File \"spacy/tokens/doc.pyx\", line 49, in init spacy.tokens.doc\n",
      "  File \"/opt/anaconda3/lib/python3.12/site-packages/spacy/schemas.py\", line 195, in <module>\n",
      "    class TokenPatternString(BaseModel):\n",
      "  File \"/opt/anaconda3/lib/python3.12/site-packages/pydantic/main.py\", line 326, in __new__\n",
      "    cls.__signature__ = ClassAttribute('__signature__', generate_model_signature(cls.__init__, fields, config))\n",
      "                                                        ^^^^^^^^^^^^^^^^^^^^^^^^^^^^^^^^^^^^^^^^^^^^^^^^^^^^^^\n",
      "  File \"/opt/anaconda3/lib/python3.12/site-packages/pydantic/utils.py\", line 225, in generate_model_signature\n",
      "    merged_params[param_name] = Parameter(\n",
      "                                ^^^^^^^^^^\n",
      "  File \"/opt/anaconda3/lib/python3.12/inspect.py\", line 2772, in __init__\n",
      "    raise ValueError('{!r} is not a valid parameter name'.format(name))\n",
      "ValueError: 'in' is not a valid parameter name\n"
     ]
    }
   ],
   "source": [
    "!python -m spacy download en_core_web_sm\n"
   ]
  },
  {
   "cell_type": "code",
   "execution_count": 18,
   "metadata": {},
   "outputs": [
    {
     "ename": "OSError",
     "evalue": "[E050] Can't find model 'en_core_web_sm'. It doesn't seem to be a Python package or a valid path to a data directory.",
     "output_type": "error",
     "traceback": [
      "\u001b[0;31m---------------------------------------------------------------------------\u001b[0m",
      "\u001b[0;31mOSError\u001b[0m                                   Traceback (most recent call last)",
      "Cell \u001b[0;32mIn[18], line 1\u001b[0m\n\u001b[0;32m----> 1\u001b[0m nlp \u001b[38;5;241m=\u001b[39m \u001b[43mspacy\u001b[49m\u001b[38;5;241;43m.\u001b[39;49m\u001b[43mload\u001b[49m\u001b[43m(\u001b[49m\u001b[38;5;124;43m'\u001b[39;49m\u001b[38;5;124;43men_core_web_sm\u001b[39;49m\u001b[38;5;124;43m'\u001b[39;49m\u001b[43m)\u001b[49m\n",
      "File \u001b[0;32m/opt/anaconda3/envs/newIOD/lib/python3.8/site-packages/spacy/__init__.py:51\u001b[0m, in \u001b[0;36mload\u001b[0;34m(name, vocab, disable, enable, exclude, config)\u001b[0m\n\u001b[1;32m     27\u001b[0m \u001b[38;5;28;01mdef\u001b[39;00m \u001b[38;5;21mload\u001b[39m(\n\u001b[1;32m     28\u001b[0m     name: Union[\u001b[38;5;28mstr\u001b[39m, Path],\n\u001b[1;32m     29\u001b[0m     \u001b[38;5;241m*\u001b[39m,\n\u001b[0;32m   (...)\u001b[0m\n\u001b[1;32m     34\u001b[0m     config: Union[Dict[\u001b[38;5;28mstr\u001b[39m, Any], Config] \u001b[38;5;241m=\u001b[39m util\u001b[38;5;241m.\u001b[39mSimpleFrozenDict(),\n\u001b[1;32m     35\u001b[0m ) \u001b[38;5;241m-\u001b[39m\u001b[38;5;241m>\u001b[39m Language:\n\u001b[1;32m     36\u001b[0m \u001b[38;5;250m    \u001b[39m\u001b[38;5;124;03m\"\"\"Load a spaCy model from an installed package or a local path.\u001b[39;00m\n\u001b[1;32m     37\u001b[0m \n\u001b[1;32m     38\u001b[0m \u001b[38;5;124;03m    name (str): Package name or model path.\u001b[39;00m\n\u001b[0;32m   (...)\u001b[0m\n\u001b[1;32m     49\u001b[0m \u001b[38;5;124;03m    RETURNS (Language): The loaded nlp object.\u001b[39;00m\n\u001b[1;32m     50\u001b[0m \u001b[38;5;124;03m    \"\"\"\u001b[39;00m\n\u001b[0;32m---> 51\u001b[0m     \u001b[38;5;28;01mreturn\u001b[39;00m \u001b[43mutil\u001b[49m\u001b[38;5;241;43m.\u001b[39;49m\u001b[43mload_model\u001b[49m\u001b[43m(\u001b[49m\n\u001b[1;32m     52\u001b[0m \u001b[43m        \u001b[49m\u001b[43mname\u001b[49m\u001b[43m,\u001b[49m\n\u001b[1;32m     53\u001b[0m \u001b[43m        \u001b[49m\u001b[43mvocab\u001b[49m\u001b[38;5;241;43m=\u001b[39;49m\u001b[43mvocab\u001b[49m\u001b[43m,\u001b[49m\n\u001b[1;32m     54\u001b[0m \u001b[43m        \u001b[49m\u001b[43mdisable\u001b[49m\u001b[38;5;241;43m=\u001b[39;49m\u001b[43mdisable\u001b[49m\u001b[43m,\u001b[49m\n\u001b[1;32m     55\u001b[0m \u001b[43m        \u001b[49m\u001b[43menable\u001b[49m\u001b[38;5;241;43m=\u001b[39;49m\u001b[43menable\u001b[49m\u001b[43m,\u001b[49m\n\u001b[1;32m     56\u001b[0m \u001b[43m        \u001b[49m\u001b[43mexclude\u001b[49m\u001b[38;5;241;43m=\u001b[39;49m\u001b[43mexclude\u001b[49m\u001b[43m,\u001b[49m\n\u001b[1;32m     57\u001b[0m \u001b[43m        \u001b[49m\u001b[43mconfig\u001b[49m\u001b[38;5;241;43m=\u001b[39;49m\u001b[43mconfig\u001b[49m\u001b[43m,\u001b[49m\n\u001b[1;32m     58\u001b[0m \u001b[43m    \u001b[49m\u001b[43m)\u001b[49m\n",
      "File \u001b[0;32m/opt/anaconda3/envs/newIOD/lib/python3.8/site-packages/spacy/util.py:472\u001b[0m, in \u001b[0;36mload_model\u001b[0;34m(name, vocab, disable, enable, exclude, config)\u001b[0m\n\u001b[1;32m    470\u001b[0m \u001b[38;5;28;01mif\u001b[39;00m name \u001b[38;5;129;01min\u001b[39;00m OLD_MODEL_SHORTCUTS:\n\u001b[1;32m    471\u001b[0m     \u001b[38;5;28;01mraise\u001b[39;00m \u001b[38;5;167;01mIOError\u001b[39;00m(Errors\u001b[38;5;241m.\u001b[39mE941\u001b[38;5;241m.\u001b[39mformat(name\u001b[38;5;241m=\u001b[39mname, full\u001b[38;5;241m=\u001b[39mOLD_MODEL_SHORTCUTS[name]))  \u001b[38;5;66;03m# type: ignore[index]\u001b[39;00m\n\u001b[0;32m--> 472\u001b[0m \u001b[38;5;28;01mraise\u001b[39;00m \u001b[38;5;167;01mIOError\u001b[39;00m(Errors\u001b[38;5;241m.\u001b[39mE050\u001b[38;5;241m.\u001b[39mformat(name\u001b[38;5;241m=\u001b[39mname))\n",
      "\u001b[0;31mOSError\u001b[0m: [E050] Can't find model 'en_core_web_sm'. It doesn't seem to be a Python package or a valid path to a data directory."
     ]
    }
   ],
   "source": [
    "nlp = spacy.load('en_core_web_sm')"
   ]
  },
  {
   "cell_type": "markdown",
   "metadata": {
    "id": "YguMrtDuLcgD"
   },
   "source": [
    "## Prepare the text\n",
    "All the text handling and preparation concerned with the changes and modifications from the raw source text to a format that will be used for the actual processing, things like:\n",
    "- handle encoding\n",
    "- handle extraneous and international characters\n",
    "- handle symbols\n",
    "- handle metadata and embedded information\n",
    "- handle repetitions (such multiple spaces or newlines)\n",
    "\n",
    "Clean text."
   ]
  },
  {
   "cell_type": "code",
   "execution_count": 17,
   "metadata": {
    "ExecuteTime": {
     "end_time": "2019-06-17T01:31:31.608285Z",
     "start_time": "2019-06-17T01:31:31.601306Z"
    },
    "id": "GlsKSvonLcgD",
    "scrolled": true
   },
   "outputs": [],
   "source": [
    "def clean_text(text):\n",
    "    # reduce multiple spaces and newlines to only one\n",
    "    text = re.sub(r'(\\s\\s+|\\n\\n+)', r'\\1', text)\n",
    "    # remove double quotes\n",
    "    text = re.sub(r'\"', '', text)\n",
    "\n",
    "    return text"
   ]
  },
  {
   "cell_type": "code",
   "execution_count": null,
   "metadata": {
    "ExecuteTime": {
     "end_time": "2019-06-17T01:32:56.768268Z",
     "start_time": "2019-06-17T01:32:56.765283Z"
    },
    "id": "upPa3YmmLcgF"
   },
   "outputs": [],
   "source": [
    "# Apply the clean_text function to your dataset.\n",
    "# ANSWER"
   ]
  },
  {
   "cell_type": "markdown",
   "metadata": {
    "id": "za_6vt3MLcgH"
   },
   "source": [
    "## Work the text\n",
    "Using techniques learned in previous labs, remove StopWords, punctuation, and digits. Entities can be retained. Return the lemmatised form of any remaining words in lower case form.\n",
    "\n",
    "This removes meaningless information."
   ]
  },
  {
   "cell_type": "code",
   "execution_count": null,
   "metadata": {
    "ExecuteTime": {
     "end_time": "2019-06-17T01:32:58.911623Z",
     "start_time": "2019-06-17T01:32:58.897659Z"
    },
    "id": "sh_uDWcCLcgI"
   },
   "outputs": [],
   "source": [
    "# Complete the function\n",
    "def convert_text(text):\n",
    "    '''\n",
    "    Use techniques learned in previous labs.\n",
    "    1) Remove StopWords, Punctuation and digits.\n",
    "    2) Retain entities.\n",
    "    3) Return the lemmatised form of remaining words in lower case form.\n",
    "    '''\n",
    "    return text"
   ]
  },
  {
   "cell_type": "code",
   "execution_count": null,
   "metadata": {
    "ExecuteTime": {
     "end_time": "2019-06-17T01:33:42.014624Z",
     "start_time": "2019-06-17T01:33:01.620538Z"
    },
    "id": "0vDv55U1LcgK",
    "outputId": "6ae31463-3509-4ea6-934a-6ea1ff1f6b6c"
   },
   "outputs": [],
   "source": [
    "%%time\n",
    "df['short'] = df['text'].apply(convert_text)"
   ]
  },
  {
   "cell_type": "code",
   "execution_count": null,
   "metadata": {
    "ExecuteTime": {
     "end_time": "2019-06-17T01:35:13.381487Z",
     "start_time": "2019-06-17T01:35:13.362526Z"
    },
    "id": "faiuJfunLcgM",
    "outputId": "67d67ec3-44c6-4315-ef42-7467f69494d5"
   },
   "outputs": [],
   "source": [
    "df.sample(10)"
   ]
  },
  {
   "cell_type": "markdown",
   "metadata": {
    "id": "TbwjijVyLcgP"
   },
   "source": [
    "## Split the dataset"
   ]
  },
  {
   "cell_type": "code",
   "execution_count": null,
   "metadata": {
    "ExecuteTime": {
     "end_time": "2019-06-17T01:35:24.658233Z",
     "start_time": "2019-06-17T01:35:24.649227Z"
    },
    "id": "Hj2aoBqqLcgV"
   },
   "outputs": [],
   "source": [
    "# Features and Labels\n",
    "X = df['short']\n",
    "y = df['sentiment']\n",
    "\n",
    "# Apply a train-test split\n",
    "X_train, X_test, y_train, y_test = train_test_split(X, y, test_size = 0.2, random_state = 42)"
   ]
  },
  {
   "cell_type": "markdown",
   "metadata": {
    "id": "yr_VmeNMLcgY"
   },
   "source": [
    "## Create a Bag-of-Words Model"
   ]
  },
  {
   "cell_type": "code",
   "execution_count": null,
   "metadata": {
    "ExecuteTime": {
     "end_time": "2019-06-17T01:35:32.373670Z",
     "start_time": "2019-06-17T01:35:32.369681Z"
    },
    "id": "Rhd__LD6LcgZ"
   },
   "outputs": [],
   "source": [
    "# create a matrix of word counts from the text\n",
    "counts = CountVectorizer()"
   ]
  },
  {
   "cell_type": "code",
   "execution_count": null,
   "metadata": {
    "ExecuteTime": {
     "end_time": "2019-06-17T01:35:35.842101Z",
     "start_time": "2019-06-17T01:35:35.784219Z"
    },
    "id": "23CpVgPxLcgb"
   },
   "outputs": [],
   "source": [
    "# do the actual counting\n",
    "A = counts.fit_transform(X_train, y_train)"
   ]
  },
  {
   "cell_type": "code",
   "execution_count": null,
   "metadata": {
    "ExecuteTime": {
     "end_time": "2019-06-17T01:35:38.590493Z",
     "start_time": "2019-06-17T01:35:38.586469Z"
    },
    "id": "c_rue57RLcgd"
   },
   "outputs": [],
   "source": [
    "# create a classifier using SVC\n",
    "classifier = SVC(kernel='linear', probability=True)"
   ]
  },
  {
   "cell_type": "code",
   "execution_count": null,
   "metadata": {
    "ExecuteTime": {
     "end_time": "2019-06-17T01:35:41.929126Z",
     "start_time": "2019-06-17T01:35:41.745617Z"
    },
    "id": "Lou4xDLmLcgh"
   },
   "outputs": [],
   "source": [
    "# train the classifier with the training data\n",
    "classifier.fit(A, y_train)"
   ]
  },
  {
   "cell_type": "code",
   "execution_count": null,
   "metadata": {
    "id": "8O_Vkm4tc6jx"
   },
   "outputs": [],
   "source": []
  },
  {
   "cell_type": "code",
   "execution_count": null,
   "metadata": {
    "ExecuteTime": {
     "end_time": "2019-06-17T01:35:47.210207Z",
     "start_time": "2019-06-17T01:35:47.199250Z"
    },
    "id": "inkg1KTiLcgi"
   },
   "outputs": [],
   "source": [
    "# do the transformation for the test data\n",
    "# NOTE: use `transform()` instead of `fit_transform()`\n",
    "B = counts.transform(X_test)"
   ]
  },
  {
   "cell_type": "code",
   "execution_count": null,
   "metadata": {
    "ExecuteTime": {
     "end_time": "2019-06-17T01:35:51.223067Z",
     "start_time": "2019-06-17T01:35:51.209096Z"
    },
    "id": "dg-HpdJ0Lcgk"
   },
   "outputs": [],
   "source": [
    "# make predictions based on the test data\n",
    "predictions = classifier.predict(B)\n",
    "\n",
    "# store probabilities of predictions being 1\n",
    "probabilities = classifier.predict_proba(B)[:, 1]"
   ]
  },
  {
   "cell_type": "code",
   "execution_count": null,
   "metadata": {
    "ExecuteTime": {
     "end_time": "2019-06-17T01:35:54.779047Z",
     "start_time": "2019-06-17T01:35:54.771069Z"
    },
    "id": "t0HJn9qhLcgm",
    "outputId": "0bc7328f-ed1e-4259-e02f-981413ab8bc4"
   },
   "outputs": [],
   "source": [
    "# check the accuracy\n",
    "print('Accuracy: %.4f' % accuracy_score(y_test, predictions))"
   ]
  },
  {
   "cell_type": "markdown",
   "metadata": {
    "id": "z-Ia6a8ULcgn"
   },
   "source": [
    "## Repeat using TF-IDF\n",
    "TF-IDF = Term Frequency - Inverse Document Frequency"
   ]
  },
  {
   "cell_type": "code",
   "execution_count": null,
   "metadata": {
    "ExecuteTime": {
     "end_time": "2019-06-17T01:36:02.927008Z",
     "start_time": "2019-06-17T01:36:02.785387Z"
    },
    "id": "7Tg1dwSpLcgo",
    "outputId": "256d6cbb-663b-4f6d-daa6-c609c9ec18ad"
   },
   "outputs": [],
   "source": [
    "# create a matrix of word counts from the text\n",
    "# use TF-IDF\n",
    "tfidf = TfidfVectorizer()\n",
    "# do the actual counting\n",
    "A = tfidf.fit_transform(X_train, y_train)\n",
    "\n",
    "# train the classifier with the training data\n",
    "classifier.fit(A, y_train)\n",
    "\n",
    "# do the transformation for the test data\n",
    "# NOTE: use `transform()` instead of `fit_transform()`\n",
    "B = tfidf.transform(X_test)\n",
    "\n",
    "# make predictions based on the test data\n",
    "predictions = classifier.predict(B)\n",
    "\n",
    "# store probabilities of predictions being 1\n",
    "probabilities = classifier.predict_proba(B)[:, 1]\n",
    "\n",
    "# check the accuracy\n",
    "print('Accuracy: %.4f' % accuracy_score(y_test, predictions))"
   ]
  },
  {
   "cell_type": "markdown",
   "metadata": {
    "id": "CXbw_oNdZAHv"
   },
   "source": [
    "## Defining a helper function to show results and charts"
   ]
  },
  {
   "cell_type": "code",
   "execution_count": null,
   "metadata": {
    "ExecuteTime": {
     "end_time": "2019-06-17T01:35:22.212854Z",
     "start_time": "2019-06-17T01:35:22.040284Z"
    },
    "id": "eJZpD903LcgQ"
   },
   "outputs": [],
   "source": [
    "\n",
    "def show_summary_report(actual, prediction, probabilities):\n",
    "\n",
    "    if isinstance(actual, pd.Series):\n",
    "        actual = actual.values.astype(int)\n",
    "    prediction = prediction.astype(int)\n",
    "\n",
    "    accuracy_ = accuracy_score(actual, prediction)\n",
    "    precision_ = precision_score(actual, prediction)\n",
    "    recall_ = recall_score(actual, prediction)\n",
    "    roc_auc_ = roc_auc_score(actual, probabilities)\n",
    "\n",
    "    print('Accuracy : %.4f [TP / N] Proportion of predicted labels that match the true labels. Best: 1, Worst: 0' % accuracy_)\n",
    "    print('Precision: %.4f [TP / (TP + FP)] Not to label a negative sample as positive.        Best: 1, Worst: 0' % precision_)\n",
    "    print('Recall   : %.4f [TP / (TP + FN)] Find all the positive samples.                     Best: 1, Worst: 0' % recall_)\n",
    "    print('ROC AUC  : %.4f                                                                     Best: 1, Worst: < 0.5' % roc_auc_)\n",
    "    print('-' * 107)\n",
    "    print('TP: True Positives, FP: False Positives, TN: True Negatives, FN: False Negatives, N: Number of samples')\n",
    "\n",
    "    # Confusion Matrix\n",
    "    mat = confusion_matrix(actual, prediction)\n",
    "\n",
    "    # Precision/Recall\n",
    "    precision, recall, _ = precision_recall_curve(actual, probabilities)\n",
    "    average_precision = average_precision_score(actual, probabilities)\n",
    "\n",
    "    # Compute ROC curve and ROC area\n",
    "    fpr, tpr, _ = roc_curve(actual, probabilities)\n",
    "    roc_auc = auc(fpr, tpr)\n",
    "\n",
    "\n",
    "    # plot\n",
    "    fig, ax = plt.subplots(1, 3, figsize = (18, 6))\n",
    "    fig.subplots_adjust(left = 0.02, right = 0.98, wspace = 0.2)\n",
    "\n",
    "    # Confusion Matrix\n",
    "    sns.heatmap(mat.T, square = True, annot = True, fmt = 'd', cbar = False, cmap = 'Blues', ax = ax[0])\n",
    "\n",
    "    ax[0].set_title('Confusion Matrix')\n",
    "    ax[0].set_xlabel('True label')\n",
    "    ax[0].set_ylabel('Predicted label')\n",
    "\n",
    "    # Precision/Recall\n",
    "    step_kwargs = {'step': 'post'}\n",
    "    ax[1].step(recall, precision, color = 'b', alpha = 0.2, where = 'post')\n",
    "    ax[1].fill_between(recall, precision, alpha = 0.2, color = 'b', **step_kwargs)\n",
    "    ax[1].set_ylim([0.0, 1.0])\n",
    "    ax[1].set_xlim([0.0, 1.0])\n",
    "    ax[1].set_xlabel('Recall')\n",
    "    ax[1].set_ylabel('Precision')\n",
    "    ax[1].set_title('2-class Precision-Recall curve')\n",
    "\n",
    "    # ROC\n",
    "    ax[2].plot(fpr, tpr, color = 'darkorange', lw = 2, label = 'ROC curve (AUC = %0.2f)' % roc_auc)\n",
    "    ax[2].plot([0, 1], [0, 1], color = 'navy', lw = 2, linestyle = '--')\n",
    "    ax[2].set_xlim([0.0, 1.0])\n",
    "    ax[2].set_ylim([0.0, 1.0])\n",
    "    ax[2].set_xlabel('False Positive Rate')\n",
    "    ax[2].set_ylabel('True Positive Rate')\n",
    "    ax[2].set_title('Receiver Operating Characteristic')\n",
    "    ax[2].legend(loc = 'lower right')\n",
    "\n",
    "    plt.show()\n",
    "\n",
    "    return (accuracy_, precision_, recall_, roc_auc_)"
   ]
  },
  {
   "cell_type": "markdown",
   "metadata": {
    "id": "O5PTu402Lcgq"
   },
   "source": [
    "## Repeating it all for comparison\n",
    "Repeat the whole lot in one big block using the show_summary_report function.\n",
    "\n",
    "Find 'Accuracy', 'Precision', 'Recall', 'ROC_AUC' using CountVectorizer and TfidfVectorizer and keep the result in a dataframe."
   ]
  },
  {
   "cell_type": "code",
   "execution_count": null,
   "metadata": {
    "ExecuteTime": {
     "end_time": "2019-06-17T01:37:30.200048Z",
     "start_time": "2019-06-17T01:37:30.197044Z"
    },
    "id": "_98CzdfPLcgq"
   },
   "outputs": [],
   "source": [
    "# ANSWER"
   ]
  },
  {
   "cell_type": "markdown",
   "metadata": {
    "id": "RERADKgNFq9T"
   },
   "source": [
    "\n",
    "\n",
    "---\n",
    "\n",
    "\n",
    "\n",
    "---\n",
    "\n",
    "\n",
    "\n",
    "> > > > > > > > > © 2024 Institute of Data\n",
    "\n",
    "\n",
    "---\n",
    "\n",
    "\n",
    "\n",
    "---\n",
    "\n",
    "\n",
    "\n"
   ]
  }
 ],
 "metadata": {
  "colab": {
   "provenance": [],
   "toc_visible": true
  },
  "kernelspec": {
   "display_name": "Python 3 (ipykernel)",
   "language": "python",
   "name": "python3"
  },
  "language_info": {
   "codemirror_mode": {
    "name": "ipython",
    "version": 3
   },
   "file_extension": ".py",
   "mimetype": "text/x-python",
   "name": "python",
   "nbconvert_exporter": "python",
   "pygments_lexer": "ipython3",
   "version": "3.8.18"
  },
  "varInspector": {
   "cols": {
    "lenName": 16,
    "lenType": 16,
    "lenVar": 40
   },
   "kernels_config": {
    "python": {
     "delete_cmd_postfix": "",
     "delete_cmd_prefix": "del ",
     "library": "var_list.py",
     "varRefreshCmd": "print(var_dic_list())"
    },
    "r": {
     "delete_cmd_postfix": ") ",
     "delete_cmd_prefix": "rm(",
     "library": "var_list.r",
     "varRefreshCmd": "cat(var_dic_list()) "
    }
   },
   "types_to_exclude": [
    "module",
    "function",
    "builtin_function_or_method",
    "instance",
    "_Feature"
   ],
   "window_display": false
  }
 },
 "nbformat": 4,
 "nbformat_minor": 4
}
