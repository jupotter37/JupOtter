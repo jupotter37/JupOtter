{
 "cells": [
  {
   "cell_type": "markdown",
   "metadata": {},
   "source": [
    "1. Explain the effect of Covid on the tourism data. You may assume 2020 and 2021 tobe the Covid years.\n",
    "    - In addition, you may do more fine-grained analysis"
   ]
  },
  {
   "cell_type": "code",
   "execution_count": null,
   "metadata": {},
   "outputs": [],
   "source": [
    "import pandas as pd\n",
    "import warnings\n",
    "pd.set_option('display.max_rows', None)  # Show all rows\n",
    "pd.set_option('display.max_columns', None)  # Show all columns\n",
    "pd.set_option('display.width', None)  # Automatically adjust the width\n",
    "pd.set_option('display.max_colwidth', None)  # Show full content of columns\n",
    "warnings.filterwarnings('ignore')"
   ]
  },
  {
   "cell_type": "code",
   "execution_count": null,
   "metadata": {},
   "outputs": [],
   "source": [
    "df_gender_2013=pd.read_excel('../data-students/TourismData-2013/NATIONALITY-WISE GENDER-WISE DISTRIBUTION OF FTAs IN INDIA.xlsx')\n",
    "df_gender_2014=pd.read_excel('../data-students/TourismData-2014/NATIONALITY-WISE GENDER-WISE DISTRIBUTION OF FTAs IN INDIA.xlsx')\n",
    "df_gender_2016=pd.read_excel('../data-students/TourismData-2016/NATIONALITY-WISE GENDER-WISE DISTRIBUTION OF FTAs IN INDIA.xlsx')\n",
    "df_gender_2017=pd.read_excel('../data-students/TourismData-2017/NATIONALITY-WISE GENDER-WISE DISTRIBUTION OF FTAs IN INDIA.xlsx')\n",
    "df_gender_2018=pd.read_excel('../data-students/TourismData-2018/NATIONALITY-WISE GENDER-WISE DISTRIBUTION OF FTAs IN INDIA.xlsx')\n",
    "df_gender_2019=pd.read_excel('../data-students/TourismData-2019/NATIONALITY-WISE GENDER-WISE DISTRIBUTION OF FTAs IN INDIA.xlsx')\n",
    "df_gender_2020=pd.read_excel('../data-students/TourismData-2020/NATIONALITY-WISE GENDER-WISE DISTRIBUTION OF FTAs IN INDIA.xlsx')\n",
    "df_gender_2021=pd.read_excel('../data-students/TourismData-2021/NATIONALITY-WISE GENDER-WISE DISTRIBUTION OF FTAs IN INDIA.xlsx')\n",
    "df_gender_2022=pd.read_excel('../data-students/TourismData-2022/NATIONALITY-WISE GENDER-WISE DISTRIBUTION OF FTAs IN INDIA.xlsx')"
   ]
  },
  {
   "cell_type": "code",
   "execution_count": null,
   "metadata": {},
   "outputs": [],
   "source": [
    "df_age_2013=pd.read_excel('../data-students/TourismData-2013/DISTRIBUTION OF NATIONALITY-WISE FTAs IN INDIA ACCORDING TO AGE GROUP.xlsx')\n",
    "df_age_2014=pd.read_excel('../data-students/TourismData-2014/DISTRIBUTION OF NATIONALITY-WISE FTAs IN INDIA ACCORDING TO AGE GROUP.xlsx')\n",
    "df_age_2016=pd.read_excel('../data-students/TourismData-2016/DISTRIBUTION OF NATIONALITY-WISE FTAs IN INDIA ACCORDING TO AGE GROUP.xlsx')\n",
    "df_age_2017=pd.read_excel('../data-students/TourismData-2017/DISTRIBUTION OF NATIONALITY-WISE FTAs IN INDIA ACCORDING TO AGE GROUP.xlsx')\n",
    "df_age_2018=pd.read_excel('../data-students/TourismData-2018/DISTRIBUTION OF NATIONALITY-WISE FTAs IN INDIA ACCORDING TO AGE GROUP.xlsx')\n",
    "df_age_2019=pd.read_excel('../data-students/TourismData-2019/DISTRIBUTION OF NATIONALITY-WISE FTAs IN INDIA ACCORDING TO AGE GROUP.xlsx')\n",
    "df_age_2020=pd.read_excel('../data-students/TourismData-2020/DISTRIBUTION OF NATIONALITY-WISE FTAs IN INDIA ACCORDING TO AGE GROUP.xlsx')\n",
    "df_age_2021=pd.read_excel('../data-students/TourismData-2021/DISTRIBUTION OF NATIONALITY-WISE FTAs IN INDIA ACCORDING TO AGE GROUP.xlsx')\n",
    "df_age_2022=pd.read_excel('../data-students/TourismData-2022/DISTRIBUTION OF NATIONALITY-WISE FTAs IN INDIA ACCORDING TO AGE GROUP.xlsx')"
   ]
  },
  {
   "cell_type": "code",
   "execution_count": null,
   "metadata": {},
   "outputs": [],
   "source": [
    "df_purpose_2013=pd.read_excel('../data-students/TourismData-2013/DISTRIBUTION OF NATIONALITY-WISE FTAs IN INDIA ACCORDING TO PURPOSE.xlsx')\n",
    "# df_purpose_2014=pd.read_excel('../data-students/TourismData-2014/DISTRIBUTION OF NATIONALITY-WISE FTAs IN INDIA ACCORDING TO PURPOSE.xlsx')\n",
    "df_purpose_2016=pd.read_excel('../data-students/TourismData-2016/DISTRIBUTION OF NATIONALITY-WISE FTAs IN INDIA ACCORDING TO PURPOSE.xlsx')\n",
    "df_purpose_2017=pd.read_excel('../data-students/TourismData-2017/DISTRIBUTION OF NATIONALITY-WISE FTAs IN INDIA ACCORDING TO PURPOSE.xlsx')\n",
    "df_purpose_2018=pd.read_excel('../data-students/TourismData-2018/DISTRIBUTION OF NATIONALITY-WISE FTAs IN INDIA ACCORDING TO PURPOSE.xlsx')\n",
    "df_purpose_2019=pd.read_excel('../data-students/TourismData-2019/DISTRIBUTION OF NATIONALITY-WISE FTAs IN INDIA ACCORDING TO PURPOSE.xlsx')\n",
    "df_purpose_2020=pd.read_excel('../data-students/TourismData-2020/DISTRIBUTION OF NATIONALITY-WISE FTAs IN INDIA ACCORDING TO PURPOSE.xlsx')\n",
    "df_purpose_2021=pd.read_excel('../data-students/TourismData-2021/DISTRIBUTION OF NATIONALITY-WISE FTAs IN INDIA ACCORDING TO PURPOSE.xlsx')\n",
    "df_purpose_2022=pd.read_excel('../data-students/TourismData-2022/DISTRIBUTION OF NATIONALITY-WISE FTAs IN INDIA ACCORDING TO PURPOSE.xlsx')"
   ]
  },
  {
   "cell_type": "code",
   "execution_count": null,
   "metadata": {},
   "outputs": [],
   "source": [
    "list_gender=[df_gender_2013,df_gender_2014,df_gender_2016,df_gender_2017,df_gender_2018,df_gender_2019,df_gender_2020,df_gender_2021,df_gender_2022]\n",
    "for df in list_gender:\n",
    "    df.columns = df.columns.str.upper()\n",
    "    df['COUNTRY OF NATIONALITY'] = df['COUNTRY OF NATIONALITY'].str.upper()\n",
    "    df['COUNTRY OF NATIONALITY'] = df['COUNTRY OF NATIONALITY'].str.strip()\n",
    "\n",
    "list_gender=[df_gender_2013,df_gender_2014,df_gender_2016,df_gender_2017,df_gender_2018,df_gender_2019,df_gender_2020,df_gender_2021,df_gender_2022]"
   ]
  },
  {
   "cell_type": "code",
   "execution_count": null,
   "metadata": {},
   "outputs": [],
   "source": [
    "list_age=[df_age_2013,df_age_2014,df_age_2016,df_age_2017,df_age_2018,df_age_2019,df_age_2020,df_age_2021,df_age_2022]\n",
    "for df in list_age:\n",
    "    df.columns = df.columns.str.upper()\n",
    "    df['COUNTRY OF NATIONALITY'] = df['COUNTRY OF NATIONALITY'].str.upper()\n",
    "    df['COUNTRY OF NATIONALITY'] = df['COUNTRY OF NATIONALITY'].str.strip()\n",
    "\n",
    "list_age=[df_age_2013,df_age_2014,df_age_2016,df_age_2017,df_age_2018,df_age_2019,df_age_2020,df_age_2021,df_age_2022]"
   ]
  },
  {
   "cell_type": "code",
   "execution_count": null,
   "metadata": {},
   "outputs": [],
   "source": [
    "df_purpose_2013['Others'] = df_purpose_2013['Others'] + df_purpose_2013['Student']\n",
    "df_purpose_2021['Others'] = df_purpose_2021['Others'] + df_purpose_2021['Student']\n",
    "df_purpose_2022['Others'] = df_purpose_2022['Others'] + df_purpose_2022['Student']\n",
    "\n",
    "df_purpose_2013 = df_purpose_2013.drop(columns=['Student'])\n",
    "df_purpose_2021 = df_purpose_2021.drop(columns=['Student'])\n",
    "df_purpose_2022 = df_purpose_2022.drop(columns=['Student'])"
   ]
  },
  {
   "cell_type": "code",
   "execution_count": null,
   "metadata": {},
   "outputs": [],
   "source": [
    "columns = [\n",
    "    'COUNTRY OF NATIONALITY', \n",
    "    'ARRIVALS (IN NUMBERS)', \n",
    "    'BUSINESS AND PROFESSIONAL', \n",
    "    'LEISURE HOLIDAY AND RECREATION', \n",
    "    'MEDICAL', \n",
    "    'INDIAN DIASPORA', \n",
    "    # 'STUDENT', \n",
    "    'OTHERS'\n",
    "]\n",
    "\n",
    "# Create an empty DataFrame with the specified columns\n",
    "df_purpose_2014 = pd.DataFrame(columns=columns)"
   ]
  },
  {
   "cell_type": "code",
   "execution_count": null,
   "metadata": {},
   "outputs": [],
   "source": [
    "list_purpose=[df_purpose_2013,df_purpose_2014,df_purpose_2016,df_purpose_2017,df_purpose_2018,df_purpose_2019,df_purpose_2020,df_purpose_2021,df_purpose_2022]\n",
    "for df in list_purpose:\n",
    "    df.columns = df.columns.str.upper()\n",
    "    df['COUNTRY OF NATIONALITY'] = df['COUNTRY OF NATIONALITY'].str.upper()\n",
    "    df['COUNTRY OF NATIONALITY'] = df['COUNTRY OF NATIONALITY'].str.strip()\n",
    "\n",
    "list_purpose=[df_purpose_2013,df_purpose_2014,df_purpose_2016,df_purpose_2017,df_purpose_2018,df_purpose_2019,df_purpose_2020,df_purpose_2021,df_purpose_2022]"
   ]
  },
  {
   "cell_type": "code",
   "execution_count": null,
   "metadata": {},
   "outputs": [],
   "source": [
    "# df_purpose_2013.to_csv('tp2.csv',index=False)"
   ]
  },
  {
   "cell_type": "code",
   "execution_count": null,
   "metadata": {},
   "outputs": [],
   "source": [
    "df_age_2013.head()"
   ]
  },
  {
   "cell_type": "code",
   "execution_count": null,
   "metadata": {},
   "outputs": [],
   "source": [
    "df_gender_2013.head()"
   ]
  },
  {
   "cell_type": "code",
   "execution_count": null,
   "metadata": {},
   "outputs": [],
   "source": [
    "# for data in list_purpose:\n",
    "for i in range (len(list_gender)):\n",
    "# Remove any rows with NaN values and reset the index\n",
    "    list_gender[i] = list_gender[i].dropna().reset_index(drop=True)\n",
    "\n",
    "    # Convert percentage columns to numeric\n",
    "    percentage_columns = ['MALE','FEMALE']\n",
    "\n",
    "    for col in percentage_columns:\n",
    "        list_gender[i][col] = pd.to_numeric(list_gender[i][col])\n",
    "\n",
    "    # Calculate actual numbers\n",
    "    for col in percentage_columns:\n",
    "        list_gender[i][f'{col}'] = ((list_gender[i]['ARRIVALS (IN NUMBERS)'] * list_gender[i][col]) / 100).astype(int)\n",
    "\n",
    "    # Display the results\n",
    "    result = list_gender[i][['COUNTRY OF NATIONALITY', 'ARRIVALS (IN NUMBERS)'] + [f'{col}' for col in percentage_columns]]\n",
    "    # print(result)\n",
    "\n",
    "# result"
   ]
  },
  {
   "cell_type": "code",
   "execution_count": null,
   "metadata": {},
   "outputs": [],
   "source": [
    "df_age_2013.columns"
   ]
  },
  {
   "cell_type": "code",
   "execution_count": null,
   "metadata": {},
   "outputs": [],
   "source": [
    "# for data in list_purpose:\n",
    "for i in range (len(list_age)):\n",
    "# Remove any rows with NaN values and reset the index\n",
    "    list_age[i] = list_age[i].dropna().reset_index(drop=True)\n",
    "\n",
    "    # Convert percentage columns to numeric\n",
    "    percentage_columns = ['0-14', '15-24', '25-34', '35-44', '45-54', '55-64', '65 AND ABOVE']\n",
    "\n",
    "    for col in percentage_columns:\n",
    "        list_age[i][col] = pd.to_numeric(list_age[i][col])\n",
    "\n",
    "    # Calculate actual numbers\n",
    "    for col in percentage_columns:\n",
    "        list_age[i][f'{col}'] = ((list_age[i]['ARRIVALS (IN NUMBERS)'] * list_age[i][col]) / 100).astype(int)\n",
    "\n",
    "    # Display the results\n",
    "    result = list_age[i][['COUNTRY OF NATIONALITY', 'ARRIVALS (IN NUMBERS)'] + [f'{col}' for col in percentage_columns]]\n",
    "    # print(result)\n",
    "\n",
    "# result"
   ]
  },
  {
   "cell_type": "code",
   "execution_count": null,
   "metadata": {},
   "outputs": [],
   "source": [
    "# for data in list_purpose:\n",
    "for i in range (len(list_purpose)):\n",
    "# Remove any rows with NaN values and reset the index\n",
    "    list_purpose[i] = list_purpose[i].dropna().reset_index(drop=True)\n",
    "\n",
    "    # Convert percentage columns to numeric\n",
    "    percentage_columns = ['BUSINESS AND PROFESSIONAL', 'LEISURE HOLIDAY AND RECREATION', 'MEDICAL', 'INDIAN DIASPORA', 'OTHERS']\n",
    "\n",
    "    for col in percentage_columns:\n",
    "        list_purpose[i][col] = pd.to_numeric(list_purpose[i][col])\n",
    "\n",
    "    # Calculate actual numbers\n",
    "    for col in percentage_columns:\n",
    "        list_purpose[i][f'{col}'] = ((list_purpose[i]['ARRIVALS (IN NUMBERS)'] * list_purpose[i][col]) / 100).astype(int)\n",
    "\n",
    "    # Display the results\n",
    "    result = list_purpose[i][['COUNTRY OF NATIONALITY', 'ARRIVALS (IN NUMBERS)'] + [f'{col}' for col in percentage_columns]]\n",
    "    # print(result)\n",
    "\n",
    "# result"
   ]
  },
  {
   "cell_type": "code",
   "execution_count": null,
   "metadata": {},
   "outputs": [],
   "source": [
    "list_purpose[0].head()"
   ]
  },
  {
   "cell_type": "code",
   "execution_count": null,
   "metadata": {},
   "outputs": [],
   "source": [
    "result.head()"
   ]
  },
  {
   "cell_type": "code",
   "execution_count": null,
   "metadata": {},
   "outputs": [],
   "source": [
    "years=[2013,2014,2016,2017,2018,2019,2020,2021,2022]\n",
    "df=pd.DataFrame(columns=['COUNTRY OF NATIONALITY'])\n"
   ]
  },
  {
   "cell_type": "code",
   "execution_count": null,
   "metadata": {},
   "outputs": [],
   "source": [
    "for i in range(len(list_gender)):\n",
    "    # Convert the string data to a pandas DataFrame\n",
    "    list_gender[i] = list_gender[i][list_gender[i]['COUNTRY OF NATIONALITY'] != 'OTHERS']\n",
    "    list_gender[i] = list_gender[i].reset_index(drop=True)\n",
    "\n",
    "    list_age[i] = list_age[i][list_age[i]['COUNTRY OF NATIONALITY'] != 'OTHERS']\n",
    "    list_age[i] = list_age[i].reset_index(drop=True)\n",
    "\n",
    "    list_purpose[i] = list_purpose[i][list_purpose[i]['COUNTRY OF NATIONALITY'] != 'OTHERS']\n",
    "    list_purpose[i] = list_purpose[i].reset_index(drop=True)\n",
    "\n",
    "    # Add the continent column based on the country names\n",
    "    continent_mapping = {\n",
    "        \"NORTH AMERICA\": [\"CANADA\", \"UNITED STATES OF AMERICA\"],\n",
    "        \"CENTRAL & SOUTH AMERICA\": [\"ARGENTINA\", \"BRAZIL\", \"MEXICO\"],\n",
    "        \"WESTERN EUROPE\": [\"AUSTRIA\", \"BELGIUM\", \"DENMARK\", \"FINLAND\", \"FRANCE\", \"GERMANY\", \"GREECE\", \n",
    "                        \"IRELAND\", \"ITALY\", \"NETHERLANDS\", \"NORWAY\", \"PORTUGAL\", \"SPAIN\", \"SWEDEN\", \n",
    "                        \"SWITZERLAND\", \"UNITED KINGDOM\"],\n",
    "        \"EASTERN EUROPE\": [\"CZECH REPUBLIC\", \"KAZAKHSTAN\", \"POLAND\", \"RUSSIAN FEDERATION\", \"UKRAINE\", \"HUNGARY\"],\n",
    "        \"AFRICA\": [\"EGYPT\", \"KENYA\", \"MAURITIUS\", \"NIGERIA\", \"SOUTH AFRICA\", \"SUDAN\", \"TANZANIA\"],\n",
    "        \"WEST ASIA\": [\"BAHRAIN\", \"IRAQ\", \"ISRAEL\", \"OMAN\", \"SAUDI ARABIA\", \"TURKEY\", \"UNITED ARAB EMIRATES\", \n",
    "                    \"YEMEN\"],\n",
    "        \"SOUTH ASIA\": [\"AFGHANISTAN\", \"IRAN\", \"MALDIVES\", \"NEPAL\", \"PAKISTAN\", \"BANGLADESH\", \"SRI LANKA\", \"BHUTAN\"],\n",
    "        \"SOUTH EAST ASIA\": [\"INDONESIA\", \"MALAYSIA\", \"MYANMAR\", \"PHILIPPINES\", \"SINGAPORE\", \"THAILAND\", \"VIETNAM\"],\n",
    "        \"EAST ASIA\": [\"REPUBLIC OF CHINA\", \"TAIWAN\", \"JAPAN\", \"REPUBLIC OF KOREA\"],\n",
    "        \"AUSTRALASIA\": [\"AUSTRALIA\", \"NEW ZEALAND\"]\n",
    "    }\n",
    "\n",
    "    # Function to assign continent based on the country\n",
    "    def assign_continent(row):\n",
    "        for continent, countries in continent_mapping.items():\n",
    "            if row['COUNTRY OF NATIONALITY'] in countries:\n",
    "                return continent\n",
    "        return \"Unknown\"\n",
    "\n",
    "    # Apply the function to create the new continent column\n",
    "    # list_gender[i]['CONTINENT'] = list_gender[i].apply(assign_continent, axis=1)\n",
    "    list_gender[i].dropna(inplace=True)\n",
    "    list_gender[i] = list_gender[i].reset_index(drop=True)\n",
    "\n",
    "    # list_age[i]['CONTINENT'] = list_age[i].apply(assign_continent, axis=1)\n",
    "    list_age[i].dropna(inplace=True)\n",
    "    list_age[i] = list_age[i].reset_index(drop=True)\n",
    "\n",
    "    # list_purpose[i]['CONTINENT'] = list_purpose[i].apply(assign_continent, axis=1)\n",
    "    list_purpose[i].dropna(inplace=True)\n",
    "    list_purpose[i] = list_purpose[i].reset_index(drop=True)\n",
    "\n",
    "    list_gender[i]=list_gender[i][['COUNTRY OF NATIONALITY','MALE','FEMALE']]\n",
    "    list_age[i]=list_age[i][['COUNTRY OF NATIONALITY', '0-14', '15-24', '25-34', '35-44', '45-54', '55-64', '65 AND ABOVE']]\n",
    "    list_purpose[i]=list_purpose[i][['COUNTRY OF NATIONALITY', 'BUSINESS AND PROFESSIONAL', 'LEISURE HOLIDAY AND RECREATION', 'MEDICAL', 'INDIAN DIASPORA', 'OTHERS',]]\n",
    "\n",
    "    list_gender[i].columns = ['COUNTRY OF NATIONALITY','MALE '+str(years[i]),'FEMALE '+str(years[i])]\n",
    "    list_age[i].columns = ['COUNTRY OF NATIONALITY', '0-14 '+str(years[i]), '15-24 '+str(years[i]), '25-34 '+str(years[i]), '35-44 '+str(years[i]), '45-54 '+str(years[i]), '55-64 '+str(years[i]), '65 AND ABOVE '+str(years[i])]\n",
    "    list_purpose[i].columns = ['COUNTRY OF NATIONALITY', 'BUSINESS AND PROFESSIONAL '+str(years[i]), 'LEISURE HOLIDAY AND RECREATION '+str(years[i]), 'MEDICAL '+str(years[i]), 'INDIAN DIASPORA '+str(years[i]), 'OTHERS '+str(years[i])]\n",
    "\n",
    "    # df = pd.merge(df,list_gender[i][['COUNTRY OF NATIONALITY','MALE','FEMALE']], on='COUNTRY OF NATIONALITY', how='outer')\n",
    "    # df = pd.merge(df,list_age[i][['COUNTRY OF NATIONALITY', '0-14', '15-24',\n",
    "    #    '25-34', '35-44', '45-54', '55-64', '65 AND ABOVE']], on='COUNTRY OF NATIONALITY', how='outer')\n",
    "    # df = pd.merge(df,list_purpose[i][['COUNTRY OF NATIONALITY', 'BUSINESS AND PROFESSIONAL', 'LEISURE HOLIDAY AND RECREATION',\n",
    "    #    'MEDICAL', 'INDIAN DIASPORA', 'OTHERS',]], on='COUNTRY OF NATIONALITY', how='outer')\n",
    "    # # print(\"i : \", i)\n",
    "    df = pd.merge(df,list_gender[i], on='COUNTRY OF NATIONALITY', how='outer')\n",
    "    df = pd.merge(df,list_age[i], on='COUNTRY OF NATIONALITY', how='outer')\n",
    "    df = pd.merge(df,list_purpose[i], on='COUNTRY OF NATIONALITY', how='outer')\n",
    "    # print(\"i : \", i)\n",
    "\n",
    "df['CONTINENT'] = df.apply(assign_continent, axis=1)"
   ]
  },
  {
   "cell_type": "code",
   "execution_count": null,
   "metadata": {},
   "outputs": [],
   "source": [
    "df.head()"
   ]
  },
  {
   "cell_type": "code",
   "execution_count": null,
   "metadata": {},
   "outputs": [],
   "source": [
    "df_combined=df.copy()"
   ]
  },
  {
   "cell_type": "code",
   "execution_count": null,
   "metadata": {},
   "outputs": [],
   "source": [
    "import pandas as pd\n",
    "\n",
    "# Load the dataset\n",
    "# data = pd.read_csv('9temp1.csv')\n",
    "data=df_combined.copy()\n",
    "\n",
    "# Extract gender data\n",
    "gender_columns = ['COUNTRY OF NATIONALITY'] + [col for col in data.columns if col.startswith('MALE') or col.startswith('FEMALE')]\n",
    "gender_df = data[gender_columns]\n",
    "\n",
    "# Extract age group data\n",
    "age_columns = ['COUNTRY OF NATIONALITY'] + [col for col in data.columns if any(age in col for age in ['0-14', '15-24', '25-34', '35-44', '45-54', '55-64', '65 AND ABOVE'])]\n",
    "age_df = data[age_columns]\n",
    "\n",
    "# Extract purpose data\n",
    "purpose_columns = ['COUNTRY OF NATIONALITY'] + [col for col in data.columns if any(purpose in col for purpose in ['BUSINESS AND PROFESSIONAL', 'LEISURE HOLIDAY AND RECREATION', 'MEDICAL', 'INDIAN DIASPORA', 'OTHERS'])]\n",
    "purpose_df = data[purpose_columns]\n",
    "\n",
    "# Display the first few rows of each DataFrame\n",
    "# print(\"Gender Data:\")\n",
    "# print(gender_df.head())\n",
    "# print(\"\\nAge Group Data:\")\n",
    "# print(age_df.head())\n",
    "# print(\"\\nPurpose Data:\")\n",
    "# print(purpose_df.head())"
   ]
  },
  {
   "cell_type": "code",
   "execution_count": null,
   "metadata": {},
   "outputs": [],
   "source": []
  },
  {
   "cell_type": "code",
   "execution_count": null,
   "metadata": {},
   "outputs": [],
   "source": [
    "# df.to_csv(\"9temp1.csv\",index=False)"
   ]
  },
  {
   "cell_type": "code",
   "execution_count": null,
   "metadata": {},
   "outputs": [],
   "source": [
    "# import pandas as pd\n",
    "import numpy as np\n",
    "\n",
    "# Load the dataset\n",
    "# df = pd.read_csv('9temp1.csv')\n",
    "\n",
    "df=gender_df\n",
    "\n",
    "# Function to compare years 2020 and 2021 against other years\n",
    "def compare_years(row, column_prefix):\n",
    "    other_years = [2013, 2014, 2016, 2017, 2018, 2019, 2022]\n",
    "    other_years_mean = np.mean([row[f'{column_prefix} {year}'] for year in other_years]).astype(int)\n",
    "    diff_2020 = row[f'{column_prefix} 2020'] - other_years_mean\n",
    "    diff_2021 = row[f'{column_prefix} 2021'] - other_years_mean\n",
    "    return pd.Series({f'{column_prefix} 2020 Diff': diff_2020, f'{column_prefix} 2021 Diff': diff_2021})\n",
    "\n",
    "# Apply the comparison function\n",
    "male_comparison = df.apply(lambda row: compare_years(row, 'MALE'), axis=1)\n",
    "female_comparison = df.apply(lambda row: compare_years(row, 'FEMALE'), axis=1)\n",
    "\n",
    "# Combine the results\n",
    "comparison_results = pd.concat([df['COUNTRY OF NATIONALITY'], male_comparison, female_comparison], axis=1)\n",
    "\n",
    "# Calculate total differences for 2020 and 2021\n",
    "comparison_results['Total Diff 2020'] = comparison_results['MALE 2020 Diff'].abs() + comparison_results['FEMALE 2020 Diff'].abs()\n",
    "comparison_results['Total Diff 2021'] = comparison_results['MALE 2021 Diff'].abs() + comparison_results['FEMALE 2021 Diff'].abs()\n",
    "\n",
    "# Get top 5 countries with largest total differences for 2020 and 2021\n",
    "largest_diff_2020 = comparison_results.nlargest(5, 'Total Diff 2020')\n",
    "largest_diff_2021 = comparison_results.nlargest(5, 'Total Diff 2021')\n",
    "\n",
    "# Display the first few rows of the results\n",
    "print(\"Comparison Results:\")\n",
    "print(comparison_results.head())\n",
    "\n",
    "# Display the average difference across all countries\n",
    "# average_diff = comparison_results.mean()\n",
    "average_diff = comparison_results.drop('COUNTRY OF NATIONALITY', axis=1).mean()\n",
    "# print(\"\\nAverage difference across all countries:\")\n",
    "# print(average_diff)\n",
    "\n",
    "# # Display the top 5 countries with the largest differences for 2020 and 2021\n",
    "# print(\"\\nTop 5 countries with largest differences in 2020:\")\n",
    "# for index, row in largest_diff_2020.iterrows():\n",
    "#     print(f\"{row['COUNTRY OF NATIONALITY']}:\")\n",
    "#     print(f\"  Male Difference: {row['MALE 2020 Diff']:.2f}\")\n",
    "#     print(f\"  Female Difference: {row['FEMALE 2020 Diff']:.2f}\")\n",
    "#     print(f\"  Total Difference: {row['Total Diff 2020']:.2f}\")\n",
    "#     print()\n",
    "\n",
    "# print(\"\\nTop 5 countries with largest differences in 2021:\")\n",
    "# for index, row in largest_diff_2021.iterrows():\n",
    "#     print(f\"{row['COUNTRY OF NATIONALITY']}:\")\n",
    "#     print(f\"  Male Difference: {row['MALE 2021 Diff']:.2f}\")\n",
    "#     print(f\"  Female Difference: {row['FEMALE 2021 Diff']:.2f}\")\n",
    "#     print(f\"  Total Difference: {row['Total Diff 2021']:.2f}\")\n",
    "#     print()\n",
    "\n",
    "average_diff_df = pd.DataFrame(average_diff, columns=['Average Difference'])\n",
    "average_diff_df['Metric'] = average_diff_df.index\n",
    "average_diff_df = average_diff_df[['Metric', 'Average Difference']]\n",
    "\n",
    "# Find top 5 countries with largest differences\n",
    "largest_diff_2020 = comparison_results.nlargest(5, 'Total Diff 2020')\n",
    "largest_diff_2021 = comparison_results.nlargest(5, 'Total Diff 2021')\n",
    "\n",
    "# Create DataFrames for top 5 countries\n",
    "top_5_2020_df = pd.DataFrame({\n",
    "    'Country': largest_diff_2020['COUNTRY OF NATIONALITY'],\n",
    "    'Male Difference 2020': largest_diff_2020['MALE 2020 Diff'],\n",
    "    'Female Difference 2020': largest_diff_2020['FEMALE 2020 Diff'],\n",
    "    'Total Difference 2020': largest_diff_2020['Total Diff 2020']\n",
    "})\n",
    "\n",
    "top_5_2021_df = pd.DataFrame({\n",
    "    'Country': largest_diff_2021['COUNTRY OF NATIONALITY'],\n",
    "    'Male Difference 2021': largest_diff_2021['MALE 2021 Diff'],\n",
    "    'Female Difference 2021': largest_diff_2021['FEMALE 2021 Diff'],\n",
    "    'Total Difference 2021': largest_diff_2021['Total Diff 2021']\n",
    "})\n",
    "\n",
    "# Display results\n",
    "print(\"Average difference across all countries:\")\n",
    "print(average_diff_df)\n",
    "\n",
    "print(\"\\nTop 5 countries with largest differences in 2020:\")\n",
    "print(top_5_2020_df)\n",
    "\n",
    "print(\"\\nTop 5 countries with largest differences in 2021:\")\n",
    "print(top_5_2021_df)"
   ]
  },
  {
   "cell_type": "code",
   "execution_count": null,
   "metadata": {},
   "outputs": [],
   "source": [
    "# comparison_results.to_csv(\"1_Gender_Yearwise_Avg_Difference.csv\",index=False)\n",
    "# average_diff_df.to_csv(\"1_Gender_Average_difference_across_all_countries.csv\",index=False)\n",
    "# top_5_2020_df.to_csv(\"1_Gender_Top_5_countries_with_largest_differences_in_2020.csv\",index=False)\n",
    "# top_5_2021_df.to_csv(\"1_Gender_Top_5_countries_with_largest_differences_in_2021.csv\",index=False)"
   ]
  },
  {
   "cell_type": "code",
   "execution_count": null,
   "metadata": {},
   "outputs": [],
   "source": [
    "# print(\"\\nAverage difference across all countries:\")\n",
    "# # print(average_diff)\n",
    "# average_diff"
   ]
  },
  {
   "cell_type": "code",
   "execution_count": null,
   "metadata": {},
   "outputs": [],
   "source": [
    "import pandas as pd\n",
    "import numpy as np\n",
    "\n",
    "df=gender_df\n",
    "\n",
    "# Function to calculate percentage changes for MALE and FEMALE\n",
    "def calculate_percentage_change(df, year):\n",
    "    other_years = [2013, 2014, 2016, 2017, 2018, 2019, 2022]\n",
    "    for gender in ['MALE', 'FEMALE']:\n",
    "        avg_other_years = df[[f'{gender} {y}' for y in other_years]].mean(axis=1)\n",
    "        df[f'{gender} {year} % Change'] = ((df[f'{gender} {year}'] - avg_other_years) / avg_other_years) * 100\n",
    "    return df\n",
    "\n",
    "# Calculate percentage changes for 2020 and 2021\n",
    "df_2020 = calculate_percentage_change(df, 2020)\n",
    "df_2021 = calculate_percentage_change(df, 2021)\n",
    "\n",
    "# Calculate average percentage change across all countries\n",
    "avg_change_2020 = df_2020[['MALE 2020 % Change', 'FEMALE 2020 % Change']].mean().mean()\n",
    "avg_change_2021 = df_2021[['MALE 2021 % Change', 'FEMALE 2021 % Change']].mean().mean()\n",
    "\n",
    "# print(f\"Average percentage change across all countries in 2020: {avg_change_2020:.2f}%\")\n",
    "# print(f\"Average percentage change across all countries in 2021: {avg_change_2021:.2f}%\")\n",
    "\n",
    "# Find countries with largest percentage changes\n",
    "largest_change_2020 = df_2020.loc[df_2020[['MALE 2020 % Change', 'FEMALE 2020 % Change']].abs().sum(axis=1).idxmax()]\n",
    "largest_change_2021 = df_2021.loc[df_2021[['MALE 2021 % Change', 'FEMALE 2021 % Change']].abs().sum(axis=1).idxmax()]\n",
    "\n",
    "# print(\"\\nCountry with largest percentage change in 2020:\")\n",
    "# print(f\"Country: {largest_change_2020['COUNTRY OF NATIONALITY']}\")\n",
    "# print(f\"Male change: {largest_change_2020['MALE 2020 % Change']:.2f}%\")\n",
    "# print(f\"Female change: {largest_change_2020['FEMALE 2020 % Change']:.2f}%\")\n",
    "\n",
    "# print(\"\\nCountry with largest percentage change in 2021:\")\n",
    "# print(f\"Country: {largest_change_2021['COUNTRY OF NATIONALITY']}\")\n",
    "# print(f\"Male change: {largest_change_2021['MALE 2021 % Change']:.2f}%\")\n",
    "# print(f\"Female change: {largest_change_2021['FEMALE 2021 % Change']:.2f}%\")\n",
    "\n",
    "result_df = pd.DataFrame({\n",
    "    'Metric': ['Average % Change 2020', 'Average % Change 2021', \n",
    "               'Largest Change Country 2020', 'Male % Change 2020', 'Female % Change 2020',\n",
    "               'Largest Change Country 2021', 'Male % Change 2021', 'Female % Change 2021'],\n",
    "    'Value': [avg_change_2020, avg_change_2021,\n",
    "              largest_change_2020['COUNTRY OF NATIONALITY'], \n",
    "              largest_change_2020['MALE 2020 % Change'], \n",
    "              largest_change_2020['FEMALE 2020 % Change'],\n",
    "              largest_change_2021['COUNTRY OF NATIONALITY'], \n",
    "              largest_change_2021['MALE 2021 % Change'], \n",
    "              largest_change_2021['FEMALE 2021 % Change']]\n",
    "})\n",
    "\n",
    "# Format the percentage values\n",
    "result_df['Value'] = result_df['Value'].apply(lambda x: f\"{x:.2f}%\" if isinstance(x, (int, float)) else x)\n",
    "\n",
    "# Display the resulting DataFrame\n",
    "# print(result_df)\n",
    "# result_df\n",
    "\n",
    "# Display resulting DataFrame with percentage changes\n",
    "# print(\"\\nPercentage changes for all countries:\")\n",
    "# print(df[['COUNTRY OF NATIONALITY', 'MALE 2020 % Change', 'MALE 2021 % Change', 'FEMALE 2020 % Change', 'FEMALE 2021 % Change']])"
   ]
  },
  {
   "cell_type": "code",
   "execution_count": null,
   "metadata": {},
   "outputs": [],
   "source": [
    "df_2020"
   ]
  },
  {
   "cell_type": "code",
   "execution_count": null,
   "metadata": {},
   "outputs": [],
   "source": [
    "result_df"
   ]
  },
  {
   "cell_type": "code",
   "execution_count": null,
   "metadata": {},
   "outputs": [],
   "source": [
    "comparison_results"
   ]
  },
  {
   "cell_type": "code",
   "execution_count": null,
   "metadata": {},
   "outputs": [],
   "source": [
    "# top_5_2020_df.reset_index(inplace=True)\n",
    "top_5_2020_df"
   ]
  },
  {
   "cell_type": "markdown",
   "metadata": {},
   "source": [
    "## Result Gender"
   ]
  },
  {
   "cell_type": "code",
   "execution_count": null,
   "metadata": {},
   "outputs": [],
   "source": [
    "comparison_results.to_csv(\"1_Gender_Yearwise_Avg_Difference.csv\",index=False)\n",
    "average_diff_df.to_csv(\"1_Gender_Average_difference_across_all_countries.csv\",index=False)\n",
    "top_5_2020_df.to_csv(\"1_Gender_Top_5_countries_with_largest_differences_in_2020.csv\",index=False)\n",
    "top_5_2021_df.to_csv(\"1_Gender_Top_5_countries_with_largest_differences_in_2021.csv\",index=False)"
   ]
  },
  {
   "cell_type": "code",
   "execution_count": null,
   "metadata": {},
   "outputs": [],
   "source": [
    "t_df=df[['COUNTRY OF NATIONALITY', 'MALE 2020 % Change', 'MALE 2021 % Change', 'FEMALE 2020 % Change', 'FEMALE 2021 % Change']]\n",
    "t_df.to_csv(\"1_Gender_Percentage_Change_for_All_Countries.csv\",index=False)"
   ]
  },
  {
   "cell_type": "code",
   "execution_count": null,
   "metadata": {},
   "outputs": [],
   "source": [
    "t_df"
   ]
  },
  {
   "cell_type": "code",
   "execution_count": null,
   "metadata": {},
   "outputs": [],
   "source": [
    "result_df.to_csv('1_Gender_Avg_Largest_Pct_Change.csv',index=False)"
   ]
  },
  {
   "cell_type": "code",
   "execution_count": null,
   "metadata": {},
   "outputs": [],
   "source": [
    "result_df"
   ]
  },
  {
   "cell_type": "code",
   "execution_count": null,
   "metadata": {},
   "outputs": [],
   "source": [
    "df_combined.head()"
   ]
  },
  {
   "cell_type": "code",
   "execution_count": null,
   "metadata": {},
   "outputs": [],
   "source": []
  },
  {
   "cell_type": "code",
   "execution_count": null,
   "metadata": {},
   "outputs": [],
   "source": []
  },
  {
   "cell_type": "markdown",
   "metadata": {},
   "source": [
    "## Agewise"
   ]
  },
  {
   "cell_type": "code",
   "execution_count": null,
   "metadata": {},
   "outputs": [],
   "source": [
    "# import pandas as pd\n",
    "\n",
    "# # Load the dataset\n",
    "# # data = pd.read_csv('9temp1.csv')\n",
    "# data=df_combined.copy()\n",
    "\n",
    "# # Extract gender data\n",
    "# gender_columns = ['COUNTRY OF NATIONALITY'] + [col for col in data.columns if col.startswith('MALE') or col.startswith('FEMALE')]\n",
    "# gender_df = data[gender_columns]\n",
    "\n",
    "# # Extract age group data\n",
    "# age_columns = ['COUNTRY OF NATIONALITY'] + [col for col in data.columns if any(age in col for age in ['0-14', '15-24', '25-34', '35-44', '45-54', '55-64', '65 AND ABOVE'])]\n",
    "# age_df = data[age_columns]\n",
    "\n",
    "# # Extract purpose data\n",
    "# purpose_columns = ['COUNTRY OF NATIONALITY'] + [col for col in data.columns if any(purpose in col for purpose in ['BUSINESS AND PROFESSIONAL', 'LEISURE HOLIDAY AND RECREATION', 'MEDICAL', 'INDIAN DIASPORA', 'OTHERS'])]\n",
    "# purpose_df = data[purpose_columns]\n",
    "\n",
    "# # Display the first few rows of each DataFrame\n",
    "# print(\"Gender Data:\")\n",
    "# print(gender_df.head())\n",
    "# print(\"\\nAge Group Data:\")\n",
    "# print(age_df.head())\n",
    "# print(\"\\nPurpose Data:\")\n",
    "# print(purpose_df.head())"
   ]
  },
  {
   "cell_type": "code",
   "execution_count": null,
   "metadata": {},
   "outputs": [],
   "source": [
    "age_df.head()"
   ]
  },
  {
   "cell_type": "code",
   "execution_count": null,
   "metadata": {},
   "outputs": [],
   "source": [
    "df_combined.head()"
   ]
  },
  {
   "cell_type": "code",
   "execution_count": null,
   "metadata": {},
   "outputs": [],
   "source": [
    "# import pandas as pd\n",
    "import numpy as np\n",
    "\n",
    "# data=pd.read_csv('9temp1.csv')\n",
    "data = df_combined.copy()\n",
    "def calculate_age_group_percentage_changes(data):\n",
    "    other_years = [2013, 2014, 2016, 2017, 2018, 2019, 2022]\n",
    "    age_groups = ['0-14', '15-24', '25-34', '35-44', '45-54', '55-64', '65 AND ABOVE']\n",
    "    results = []\n",
    "    for index, row in data.iterrows():\n",
    "        country_results = {'COUNTRY OF NATIONALITY': row['COUNTRY OF NATIONALITY']}\n",
    "        for age in age_groups:\n",
    "            other_years_mean = np.mean([row[f'{age} {year}'] for year in other_years])\n",
    "            if other_years_mean != 0:\n",
    "                diff_2020 = ((row[f'{age} 2020'] - other_years_mean) / other_years_mean) * 100\n",
    "                diff_2021 = ((row[f'{age} 2021'] - other_years_mean) / other_years_mean) * 100\n",
    "            else:\n",
    "                diff_2020 = float('nan')\n",
    "                diff_2021 = float('nan')\n",
    "            country_results[f'{age} 2020 % Change'] = diff_2020\n",
    "            country_results[f'{age} 2021 % Change'] = diff_2021\n",
    "        results.append(country_results)  # Move this line inside the outer loop\n",
    "    return pd.DataFrame(results)\n",
    "\n",
    "# Calculate percentage changes\n",
    "percentage_change_df = calculate_age_group_percentage_changes(data)\n",
    "\n",
    "# Compile average percentage changes for each age group\n",
    "age_groups = ['0-14', '15-24', '25-34', '35-44', '45-54', '55-64', '65 AND ABOVE']\n",
    "avg_changes = {\n",
    "    'Age Group': age_groups,\n",
    "    'Average Change 2020': [percentage_change_df[f'{age} 2020 % Change'].mean() for age in age_groups],\n",
    "    'Average Change 2021': [percentage_change_df[f'{age} 2021 % Change'].mean() for age in age_groups]\n",
    "}\n",
    "average_changes_df = pd.DataFrame(avg_changes)\n",
    "\n",
    "# Format average changes as percentages\n",
    "average_changes_df['Average Change 2020'] = average_changes_df['Average Change 2020'].apply(lambda x: f\"{x:.2f}%\")\n",
    "average_changes_df['Average Change 2021'] = average_changes_df['Average Change 2021'].apply(lambda x: f\"{x:.2f}%\")\n",
    "\n",
    "# Get top 5 countries for each age group\n",
    "top_countries_df = {}\n",
    "for age in age_groups:\n",
    "    # top_2020 = percentage_change_df.nlargest(5, f'{age} 2020 % Change')[['COUNTRY OF NATIONALITY', f'{age} 2020 % Change']]\n",
    "    top_2020 = percentage_change_df.nsmallest(1, f'{age} 2020 % Change')[['COUNTRY OF NATIONALITY', f'{age} 2020 % Change']]\n",
    "    # top_2021 = percentage_change_df.nlargest(5, f'{age} 2021 % Change')[['COUNTRY OF NATIONALITY', f'{age} 2021 % Change']]\n",
    "    top_2021 = percentage_change_df.nsmallest(1, f'{age} 2021 % Change')[['COUNTRY OF NATIONALITY', f'{age} 2021 % Change']]\n",
    "    top_countries_df[f'{age} 2020'] = top_2020\n",
    "    top_countries_df[f'{age} 2021'] = top_2021\n",
    "\n",
    "# Format top countries' changes as percentages\n",
    "for key in top_countries_df:\n",
    "    change_column = f'{key} % Change'\n",
    "    top_countries_df[key][change_column] = top_countries_df[key][change_column].apply(lambda x: f\"{x:.2f}%\")\n",
    "\n",
    "# Display results\n",
    "print(\"Average Percentage Changes by Age Group:\")\n",
    "print(average_changes_df.to_string(index=False))\n",
    "\n",
    "# print(\"\\nTop 5 Countries with Largest Percentage Changes by Age Group:\")\n",
    "# for age_group in age_groups:\n",
    "#     print(f\"\\n{age_group} (2020):\")\n",
    "#     print(top_countries_df[f'{age_group} 2020'].to_string(index=False))\n",
    "#     print(f\"\\n{age_group} (2021):\")\n",
    "#     print(top_countries_df[f'{age_group} 2021'].to_string(index=False))\n",
    "\n",
    "all_data = []\n",
    "\n",
    "for age_group in age_groups:\n",
    "    # # 2020 data\n",
    "    # df_2020 = top_countries_df[f'{age_group} 2020'].copy()\n",
    "    # df_2020['Year'] = 2020\n",
    "    # df_2020['Age Group'] = age_group\n",
    "    # df_2020.rename(columns={'COUNTRY OF NATIONALITY': 'Country', f'{age_group} 2020': 'Percentage Change'}, inplace=True)\n",
    "    \n",
    "    # # 2021 data\n",
    "    # df_2021 = top_countries_df[f'{age_group} 2021'].copy()\n",
    "    # df_2021['Year'] = 2021\n",
    "    # df_2021['Age Group'] = age_group\n",
    "    # df_2021.rename(columns={'COUNTRY OF NATIONALITY': 'Country', f'{age_group} 2021': 'Percentage Change'}, inplace=True)\n",
    "    \n",
    "    # 2020 data\n",
    "    df_2020 = top_countries_df[f'{age_group} 2020'].copy()\n",
    "    df_2020['Year'] = 2020\n",
    "    df_2020['Age Group'] = age_group\n",
    "    df_2020.rename(columns={'COUNTRY OF NATIONALITY': 'Country', f'{age_group} 2020 % Change': 'Percent Change'}, inplace=True)\n",
    "\n",
    "    # 2021 data\n",
    "    df_2021 = top_countries_df[f'{age_group} 2021'].copy()\n",
    "    df_2021['Year'] = 2021\n",
    "    df_2021['Age Group'] = age_group\n",
    "    df_2021.rename(columns={'COUNTRY OF NATIONALITY': 'Country', f'{age_group} 2021 % Change': 'Percent Change'}, inplace=True)\n",
    "\n",
    "\n",
    "\n",
    "    # Append both to the list\n",
    "    all_data.append(df_2020)\n",
    "    all_data.append(df_2021)\n",
    "\n",
    "\n",
    "for df in all_data:\n",
    "    if 'Percentage Change' in df.columns:\n",
    "        df.rename(columns={'Percentage Change': 'Percent Change'}, inplace=True)\n",
    "\n",
    "# Concatenate all the data into a single DataFrame\n",
    "# # Assuming all_data is a list of DataFrames with the correct column names\n",
    "result_df = pd.concat(all_data, ignore_index=True)\n",
    "\n",
    "# Reorder columns for better readability\n",
    "result_df = result_df[['Age Group', 'Year', 'Country', 'Percent Change']]\n",
    "\n",
    "# Sort the DataFrame\n",
    "result_df = result_df.sort_values(['Age Group', 'Year', 'Percent Change'], ascending=[True, True, False])\n",
    "\n",
    "# Display the result\n",
    "# print(result_df.to_string(index=False))\n",
    "# result_df"
   ]
  },
  {
   "cell_type": "code",
   "execution_count": null,
   "metadata": {},
   "outputs": [],
   "source": [
    "percentage_change_df.head()"
   ]
  },
  {
   "cell_type": "code",
   "execution_count": null,
   "metadata": {},
   "outputs": [],
   "source": [
    "percentage_change_df"
   ]
  },
  {
   "cell_type": "markdown",
   "metadata": {},
   "source": [
    "## Result Age"
   ]
  },
  {
   "cell_type": "code",
   "execution_count": null,
   "metadata": {},
   "outputs": [],
   "source": [
    "average_changes_df.to_csv(\"3_Age_Average_Percentage_Changes_by_Age_Group.csv\",index=False)\n",
    "result_df.to_csv(\"3_Age_Top_Country_per_year.csv\",index=False)\n",
    "percentage_change_df.to_csv(\"3_Age_per_Country.csv\",index=False)"
   ]
  },
  {
   "cell_type": "markdown",
   "metadata": {},
   "source": [
    "# 2"
   ]
  },
  {
   "cell_type": "code",
   "execution_count": null,
   "metadata": {},
   "outputs": [],
   "source": [
    "df_dvf_2013=pd.read_excel('../data-students/TourismData-2013/STATE UT-WISE DOMESTIC AND FOREIGN TOURIST VISITS.xlsx')\n",
    "df_dvf_2014=pd.read_excel('../data-students/TourismData-2014/STATE UT-WISE DOMESTIC AND FOREIGN TOURIST VISITS.xlsx')\n",
    "df_dvf_2016=pd.read_excel('../data-students/TourismData-2016/STATE UT-WISE DOMESTIC AND FOREIGN TOURIST VISITS.xlsx')\n",
    "df_dvf_2017=pd.read_excel('../data-students/TourismData-2017/STATE UT-WISE DOMESTIC AND FOREIGN TOURIST VISITS.xlsx')\n",
    "df_dvf_2018=pd.read_excel('../data-students/TourismData-2018/STATE UT-WISE DOMESTIC AND FOREIGN TOURIST VISITS.xlsx')\n",
    "df_dvf_2019=pd.read_excel('../data-students/TourismData-2019/STATE UT-WISE DOMESTIC AND FOREIGN TOURIST VISITS.xlsx')\n",
    "df_dvf_2020=pd.read_excel('../data-students/TourismData-2020/STATE UT-WISE DOMESTIC AND FOREIGN TOURIST VISITS.xlsx')\n",
    "df_dvf_2021=pd.read_excel('../data-students/TourismData-2021/STATE UT-WISE DOMESTIC AND FOREIGN TOURIST VISITS.xlsx')\n",
    "df_dvf_2022=pd.read_excel('../data-students/TourismData-2022/STATE UT-WISE DOMESTIC AND FOREIGN TOURIST VISITS.xlsx')"
   ]
  },
  {
   "cell_type": "code",
   "execution_count": null,
   "metadata": {},
   "outputs": [],
   "source": [
    "list_dvf=[df_dvf_2013,df_dvf_2014,df_dvf_2016,df_dvf_2017,df_dvf_2018,df_dvf_2019,df_dvf_2020,df_dvf_2021,df_dvf_2022]\n",
    "for df in list_dvf:\n",
    "    df.columns = df.columns.str.upper()\n",
    "    df['STATE/UT'] = df['STATE/UT'].str.strip()\n",
    "    df['STATE/UT'] = df['STATE/UT'].str.upper()\n",
    "\n",
    "list_dvf=[df_dvf_2013,df_dvf_2014,df_dvf_2016,df_dvf_2017,df_dvf_2018,df_dvf_2019,df_dvf_2020,df_dvf_2021,df_dvf_2022]"
   ]
  },
  {
   "cell_type": "code",
   "execution_count": null,
   "metadata": {},
   "outputs": [],
   "source": [
    "dfs=list_dvf\n",
    "\n",
    "# Define the specific values for row match in 'A' and 'C' (e.g., \"QW\")\n",
    "match_value_A = \"DADRA & NAGAR HAVELI\"\n",
    "match_value_B = \"DAMAN & DIU\"\n",
    "\n",
    "# Initialize the sum for the specific row and column\n",
    "sum_value_A_Dom = 0\n",
    "sum_value_B_Dom = 0\n",
    "\n",
    "# Iterate over all DataFrames in the list\n",
    "for df in dfs:\n",
    "    # Check if the row in column 'A' and 'C' matches the values\n",
    "    # matching_row = (df['STATE/UT'] == match_value_A) & (df['C'] == match_value_C)\n",
    "    matching_row_DADRA = (df['STATE/UT'] == match_value_A)\n",
    "    matching_row_DAMAN = (df['STATE/UT'] == match_value_B)\n",
    "    \n",
    "    # If a match is found, sum the corresponding 'B' value\n",
    "    sum_value_A_Dom += df.loc[matching_row_DADRA, 'DOMESTIC'].sum()\n",
    "    sum_value_B_Dom += df.loc[matching_row_DAMAN, 'DOMESTIC'].sum()\n",
    "\n",
    "# Display the final sum for column 'B' in the matched row\n",
    "# print(\"Total sum of 'DADRA' for matching row:\", sum_value_A_Dom)\n",
    "# print(\"Total sum of 'DAMAN' for matching row:\", sum_value_B_Dom)\n",
    "DD_Ratio_Dom=sum_value_A_Dom/(sum_value_B_Dom+sum_value_A_Dom)\n",
    "# print(\"The raio for Domestic 'DADRA'/'DAMAN: \",DD_Ratio_Dom)"
   ]
  },
  {
   "cell_type": "code",
   "execution_count": null,
   "metadata": {},
   "outputs": [],
   "source": [
    "dfs=list_dvf\n",
    "\n",
    "# Define the specific values for row match in 'A' and 'C' (e.g., \"QW\")\n",
    "match_value_DADRA = \"DADRA & NAGAR HAVELI\"\n",
    "match_value_DAMAN = \"DAMAN & DIU\"\n",
    "\n",
    "# Initialize the sum for the specific row and column\n",
    "sum_value_DADRA_For = 0\n",
    "sum_value_DAMAN_For = 0\n",
    "\n",
    "# Iterate over all DataFrames in the list\n",
    "for df in dfs:\n",
    "    # Check if the row in column 'A' and 'C' matches the values\n",
    "    # matching_row = (df['STATE/UT'] == match_value_A) & (df['C'] == match_value_C)\n",
    "    matching_row_DADRA = (df['STATE/UT'] == match_value_DADRA)\n",
    "    matching_row_DAMAN = (df['STATE/UT'] == match_value_DAMAN)\n",
    "    \n",
    "    # If a match is found, sum the corresponding 'B' value\n",
    "    sum_value_DADRA_For += df.loc[matching_row_DADRA, 'FOREIGN'].sum()\n",
    "    sum_value_DAMAN_For += df.loc[matching_row_DAMAN, 'FOREIGN'].sum()\n",
    "\n",
    "# Display the final sum for column 'B' in the matched row\n",
    "# print(\"Total sum of 'DADRA' for matching row:\", sum_value_DADRA_For)\n",
    "# print(\"Total sum of 'DAMAN' for matching row:\", sum_value_DAMAN_For)\n",
    "DD_Ratio_For=sum_value_DADRA_For/(sum_value_DAMAN_For+sum_value_DADRA_For)\n",
    "# print(\"The raio for Foreign 'DADRA'/'DAMAN': \",DD_Ratio_For)"
   ]
  },
  {
   "cell_type": "code",
   "execution_count": null,
   "metadata": {},
   "outputs": [],
   "source": [
    "# Rename the 'DOMESTIC' column in each dataframe to include the year to avoid conflicts\n",
    "df_dvf_2013.rename(columns={'DOMESTIC': 'DOMESTIC_2013'}, inplace=True)\n",
    "df_dvf_2014.rename(columns={'DOMESTIC': 'DOMESTIC_2014'}, inplace=True)\n",
    "df_dvf_2016.rename(columns={'DOMESTIC': 'DOMESTIC_2016'}, inplace=True)\n",
    "df_dvf_2017.rename(columns={'DOMESTIC': 'DOMESTIC_2017'}, inplace=True)\n",
    "df_dvf_2018.rename(columns={'DOMESTIC': 'DOMESTIC_2018'}, inplace=True)\n",
    "df_dvf_2019.rename(columns={'DOMESTIC': 'DOMESTIC_2019'}, inplace=True)\n",
    "df_dvf_2020.rename(columns={'DOMESTIC': 'DOMESTIC_2020'}, inplace=True)\n",
    "df_dvf_2021.rename(columns={'DOMESTIC': 'DOMESTIC_2021'}, inplace=True)\n",
    "df_dvf_2022.rename(columns={'DOMESTIC': 'DOMESTIC_2022'}, inplace=True)\n",
    "\n",
    "df_dvf_2013.rename(columns={'FOREIGN': 'FOREIGN_2013'}, inplace=True)\n",
    "df_dvf_2014.rename(columns={'FOREIGN': 'FOREIGN_2014'}, inplace=True)\n",
    "df_dvf_2016.rename(columns={'FOREIGN': 'FOREIGN_2016'}, inplace=True)\n",
    "df_dvf_2017.rename(columns={'FOREIGN': 'FOREIGN_2017'}, inplace=True)\n",
    "df_dvf_2018.rename(columns={'FOREIGN': 'FOREIGN_2018'}, inplace=True)\n",
    "df_dvf_2019.rename(columns={'FOREIGN': 'FOREIGN_2019'}, inplace=True)\n",
    "df_dvf_2020.rename(columns={'FOREIGN': 'FOREIGN_2020'}, inplace=True)\n",
    "df_dvf_2021.rename(columns={'FOREIGN': 'FOREIGN_2021'}, inplace=True)\n",
    "df_dvf_2022.rename(columns={'FOREIGN': 'FOREIGN_2022'}, inplace=True)\n",
    "\n",
    "# List of renamed dataframes to merge\n",
    "dfs_renamed = [df_dvf_2013, df_dvf_2014, df_dvf_2016, df_dvf_2017, df_dvf_2018, df_dvf_2019, df_dvf_2020, df_dvf_2021, df_dvf_2022]\n",
    "\n",
    "# Perform an outer join on \"STATE/UT\" column\n",
    "dvf_df = dfs_renamed[0]\n",
    "for df in dfs_renamed[1:]:\n",
    "    dvf_df = dvf_df.merge(df, on='STATE/UT', how='outer')\n",
    "\n",
    "# Display the combined dataframe\n",
    "# dvf_df\n",
    "# print(dvf_df)\n",
    "# dvf_df"
   ]
  },
  {
   "cell_type": "code",
   "execution_count": null,
   "metadata": {},
   "outputs": [],
   "source": [
    "matching_row_DAD_DAM = (dvf_df['STATE/UT'] == 'UT OF DADRA & NAGAR HAVELI AND DAMAN & DIU')\n",
    "DAD_DAM_Dom=dvf_df.loc[matching_row_DAD_DAM, 'DOMESTIC_2022']\n",
    "DAD_DAM_For=dvf_df.loc[matching_row_DAD_DAM, 'FOREIGN_2022']\n",
    "# matching_row_DAD_DAM\n",
    "# DAD_DAM_For\n",
    "matching_row_DADRA = (dvf_df['STATE/UT'] == match_value_DADRA)\n",
    "matching_row_DAMAN = (dvf_df['STATE/UT'] == match_value_DADRA)\n",
    "# dvf_df.loc[matching_row_DADRA, 'DOMESTIC_2022'] = DD_Ratio_Dom*(DAD_DAM_Dom)\n",
    "# dvf_df.loc[matching_row_DAMAN, 'DOMESTIC_2022'] = (1-DD_Ratio_Dom)*(DAD_DAM_Dom)\n",
    "\n",
    "# # matching_row_DADRA = (dvf_df['STATE/UT'] == match_value_DADRA)\n",
    "# dvf_df.loc[matching_row_DADRA, 'FOREIGN_2022'] = DD_Ratio_For*(DAD_DAM_For)\n",
    "# dvf_df.loc[matching_row_DAMAN, 'FOREIGN_2022'] = (1-DD_Ratio_For)*(DAD_DAM_For)\n",
    "# DAD_DAM_Dom,DAD_DAM_For\n",
    "# x=(1-DD_Ratio_For)*(DAD_DAM_For)\n",
    "# int(x)\n",
    "Dadra_Dom=DD_Ratio_Dom*(DAD_DAM_Dom)\n",
    "Daman_Dom=(1-DD_Ratio_Dom)*(DAD_DAM_Dom)\n",
    "Dadra_For=DD_Ratio_For*(DAD_DAM_For)\n",
    "Daman_For=(1-DD_Ratio_For)*(DAD_DAM_For)"
   ]
  },
  {
   "cell_type": "code",
   "execution_count": null,
   "metadata": {},
   "outputs": [],
   "source": [
    "dvf_df.loc[dvf_df['STATE/UT'] == 'DADRA & NAGAR HAVELI', 'DOMESTIC_2022'] = int(Dadra_Dom)\n",
    "dvf_df.loc[dvf_df['STATE/UT'] == 'DAMAN & DIU', 'DOMESTIC_2022'] = int(Daman_Dom)\n",
    "\n",
    "dvf_df.loc[dvf_df['STATE/UT'] == 'DADRA & NAGAR HAVELI', 'FOREIGN_2022'] = int(Dadra_For)\n",
    "dvf_df.loc[dvf_df['STATE/UT'] == 'DAMAN & DIU', 'FOREIGN_2022'] = int(Daman_For)\n",
    "\n",
    "dvf_df = dvf_df[dvf_df['STATE/UT'] != 'UT OF DADRA & NAGAR HAVELI AND DAMAN & DIU']"
   ]
  },
  {
   "cell_type": "code",
   "execution_count": null,
   "metadata": {},
   "outputs": [],
   "source": [
    "# Assuming dvf_df is your original DataFrame\n",
    "df = dvf_df.copy()\n",
    "\n",
    "# Check the columns in your DataFrame\n",
    "columns_in_df = df.columns\n",
    "# print(\"Columns available in the DataFrame:\", columns_in_df)\n",
    "\n",
    "# Dynamically filter out valid year columns (excluding 2015)\n",
    "valid_years = [str(year) for year in range(2013, 2023) if f'DOMESTIC_{year}' in columns_in_df and f'FOREIGN_{year}' in columns_in_df]\n",
    "\n",
    "# List of year columns (DOMESTIC and FOREIGN for each available year)\n",
    "year_columns = []\n",
    "for year in valid_years:\n",
    "    year_columns.append(f'DOMESTIC_{year}')\n",
    "    year_columns.append(f'FOREIGN_{year}')\n",
    "\n",
    "# Calculate the total sum for each year (sum of domestic and foreign for each year)\n",
    "total_per_year = df[year_columns].sum()\n",
    "\n",
    "# Check if there are any zero or NaN values in the total sums (which could lead to NaNs in the probability calculation)\n",
    "# print(\"Total sum for each year:\\n\", total_per_year)\n",
    "\n",
    "# Handle any NaN or zero values in total_per_year by replacing them with a small number or skipping them\n",
    "total_per_year = total_per_year.replace(0, 1)  # Avoid division by zero by replacing zeros with 1\n",
    "total_per_year = total_per_year.fillna(1)  # Replace NaN with 1 to avoid NaN in division\n"
   ]
  },
  {
   "cell_type": "code",
   "execution_count": null,
   "metadata": {},
   "outputs": [],
   "source": [
    "dvf_df.head()"
   ]
  },
  {
   "cell_type": "code",
   "execution_count": null,
   "metadata": {},
   "outputs": [],
   "source": [
    "import pandas as pd\n",
    "import numpy as np\n",
    "\n",
    "# Load the data\n",
    "# file_path = 't_dvf.csv'\n",
    "# data = pd.read_csv(file_path)\n",
    "data =dvf_df.copy()\n",
    "\n",
    "\n",
    "# Calculate percentage change for domestic and foreign visitors\n",
    "for year in [2020, 2021]:\n",
    "    data[f'DOMESTIC_{year}_% Change'] = ((data[f'DOMESTIC_{year}'] - data[f'DOMESTIC_{year - 7}']) / data[f'DOMESTIC_{year - 7}']) * 100\n",
    "    data[f'FOREIGN_{year}_% Change'] = ((data[f'FOREIGN_{year}'] - data[f'FOREIGN_{year - 7}']) / data[f'FOREIGN_{year - 7}']) * 100\n",
    "\n",
    "# Create a DataFrame for state-wise statistics\n",
    "state_stats = data[['STATE/UT', 'DOMESTIC_2020_% Change', 'FOREIGN_2020_% Change', 'DOMESTIC_2021_% Change', 'FOREIGN_2021_% Change']].copy()\n",
    "state_stats = state_stats.rename(columns={\n",
    "    'DOMESTIC_2020_% Change': 'Domestic 2020',\n",
    "    'FOREIGN_2020_% Change': 'Foreign 2020',\n",
    "    'DOMESTIC_2021_% Change': 'Domestic 2021',\n",
    "    'FOREIGN_2021_% Change': 'Foreign 2021'\n",
    "})\n",
    "\n",
    "# Add max columns (same as min for each state)\n",
    "# state_stats['Max Domestic 2020'] = state_stats['Min Domestic 2020']\n",
    "# state_stats['Max Foreign 2020'] = state_stats['Min Foreign 2020']\n",
    "# state_stats['Max Domestic 2021'] = state_stats['Min Domestic 2021']\n",
    "# state_stats['Max Foreign 2021'] = state_stats['Min Foreign 2021']\n",
    "\n",
    "# Create a DataFrame for overall statistics\n",
    "# overall_stats = {\n",
    "#     'Year': [2020, 2020, 2021, 2021],\n",
    "#     'Stat Type': ['Min', 'Max', 'Min', 'Max'],\n",
    "#     'DOMESTIC': [\n",
    "#         data['DOMESTIC_2020_% Change'].min(),\n",
    "#         data['DOMESTIC_2020_% Change'].max(),\n",
    "#         data['DOMESTIC_2021_% Change'].min(),\n",
    "#         data['DOMESTIC_2021_% Change'].max()\n",
    "#     ],\n",
    "#     'FOREIGN': [\n",
    "#         data['FOREIGN_2020_% Change'].min(),\n",
    "#         data['FOREIGN_2020_% Change'].max(),\n",
    "#         data['FOREIGN_2021_% Change'].min(),\n",
    "#         data['FOREIGN_2021_% Change'].max()\n",
    "#     ]\n",
    "# }\n",
    "# overall_stats_df = pd.DataFrame(overall_stats)\n",
    "\n",
    "# # Display the results\n",
    "# print(\"Overall Percentage Changes:\")\n",
    "# print(overall_stats_df)\n",
    "# print(\"\\nState-wise Percentage Changes:\")\n",
    "# print(state_stats)"
   ]
  },
  {
   "cell_type": "code",
   "execution_count": null,
   "metadata": {},
   "outputs": [],
   "source": [
    "print(\"\\nState-wise Percentage Changes:\")\n",
    "# print(state_stats)\n",
    "state_stats"
   ]
  },
  {
   "cell_type": "code",
   "execution_count": null,
   "metadata": {},
   "outputs": [],
   "source": [
    "state_stats.to_csv(\"4_Dom_Foreign_Statewise_pct.csv\",index=False)"
   ]
  },
  {
   "cell_type": "code",
   "execution_count": null,
   "metadata": {},
   "outputs": [],
   "source": [
    "import pandas as pd\n",
    "\n",
    "# Load the data\n",
    "# file_path = 't_dvf.csv'\n",
    "# data = pd.read_csv(file_path)\n",
    "data =dvf_df.copy()\n",
    "\n",
    "\n",
    "# Calculate percentage change for domestic and foreign visitors\n",
    "for year in [2020, 2021]:\n",
    "    data[f'DOMESTIC_{year}_% Change'] = ((data[f'DOMESTIC_{year}'] - data[f'DOMESTIC_{year - 7}']) / data[f'DOMESTIC_{year - 7}']) * 100\n",
    "    data[f'FOREIGN_{year}_% Change'] = ((data[f'FOREIGN_{year}'] - data[f'FOREIGN_{year - 7}']) / data[f'FOREIGN_{year - 7}']) * 100\n",
    "\n",
    "# Function to find highest and lowest percentage change\n",
    "def find_extreme_changes(data, year, visitor_type):\n",
    "    column = f'{visitor_type}_{year}_% Change'\n",
    "    \n",
    "    highest = data.loc[data[column].idxmax()]\n",
    "    lowest = data.loc[data[column].idxmin()]\n",
    "    \n",
    "    return {\n",
    "        'Year': year,\n",
    "        'Visitor Type': visitor_type,\n",
    "        'Highest State': highest['STATE/UT'],\n",
    "        'Highest %': highest[column],\n",
    "        'Lowest State': lowest['STATE/UT'],\n",
    "        'Lowest %': lowest[column]\n",
    "    }\n",
    "\n",
    "# Find extreme changes for each year and visitor type\n",
    "results = []\n",
    "for year in [2020, 2021]:\n",
    "    for visitor_type in ['DOMESTIC', 'FOREIGN']:\n",
    "        results.append(find_extreme_changes(data, year, visitor_type))\n",
    "\n",
    "# Create a DataFrame with the results\n",
    "extreme_changes_df = pd.DataFrame(results)\n",
    "\n",
    "# Display the results\n",
    "print(\"States with Highest and Lowest Percentage Changes:\")\n",
    "# print(extreme_changes_df.to_string(index=False))\n",
    "extreme_changes_df"
   ]
  },
  {
   "cell_type": "code",
   "execution_count": null,
   "metadata": {},
   "outputs": [],
   "source": [
    "extreme_changes_df.to_csv(\"4_Extreme_State_change.csv\",index=False)"
   ]
  },
  {
   "cell_type": "code",
   "execution_count": null,
   "metadata": {},
   "outputs": [],
   "source": [
    "dvf_df"
   ]
  },
  {
   "cell_type": "code",
   "execution_count": null,
   "metadata": {},
   "outputs": [],
   "source": [
    "import pandas as pd\n",
    "\n",
    "# Load the data\n",
    "# file_path = 't_dvf.csv'\n",
    "# data = pd.read_csv(file_path)\n",
    "data =dvf_df.copy()\n",
    "\n",
    "def calculate_total_change(year):\n",
    "    # Calculate the total domestic change\n",
    "    domestic_current = data[f'DOMESTIC_{year}'].sum()\n",
    "    domestic_previous = data[f'DOMESTIC_{year-7}'].sum()\n",
    "    domestic_change = domestic_current - domestic_previous\n",
    "    \n",
    "    # Calculate the total foreign change\n",
    "    foreign_current = data[f'FOREIGN_{year}'].sum()\n",
    "    foreign_previous = data[f'FOREIGN_{year-7}'].sum()\n",
    "    foreign_change = foreign_current - foreign_previous\n",
    "    \n",
    "    return domestic_change, foreign_change\n",
    "\n",
    "# Calculate changes for 2020 and 2021\n",
    "changes_2020 = calculate_total_change(2020)\n",
    "changes_2021 = calculate_total_change(2021)\n",
    "\n",
    "# Create a DataFrame to store the results\n",
    "results = pd.DataFrame({\n",
    "    'Year': [2020, 2020, 2021, 2021],\n",
    "    'Visitor Type': ['Domestic', 'Foreign', 'Domestic', 'Foreign'],\n",
    "    'Total Change': [changes_2020[0], changes_2020[1], changes_2021[0], changes_2021[1]]\n",
    "})\n",
    "\n",
    "# Calculate percentage change\n",
    "results['Percentage Change'] = (results['Total Change'] / results.groupby('Visitor Type')['Total Change'].transform('first').abs()) * 100\n",
    "\n",
    "# Display the results\n",
    "# print(results.to_string(index=False))\n",
    "results"
   ]
  },
  {
   "cell_type": "code",
   "execution_count": null,
   "metadata": {},
   "outputs": [],
   "source": [
    "# results.to_csv(\"4_Overall_Change_in_Dom_Foreign_Tourist.csv\",index=False)"
   ]
  }
 ],
 "metadata": {
  "kernelspec": {
   "display_name": ".venv",
   "language": "python",
   "name": "python3"
  },
  "language_info": {
   "codemirror_mode": {
    "name": "ipython",
    "version": 3
   },
   "file_extension": ".py",
   "mimetype": "text/x-python",
   "name": "python",
   "nbconvert_exporter": "python",
   "pygments_lexer": "ipython3",
   "version": "3.12.5"
  }
 },
 "nbformat": 4,
 "nbformat_minor": 2
}
