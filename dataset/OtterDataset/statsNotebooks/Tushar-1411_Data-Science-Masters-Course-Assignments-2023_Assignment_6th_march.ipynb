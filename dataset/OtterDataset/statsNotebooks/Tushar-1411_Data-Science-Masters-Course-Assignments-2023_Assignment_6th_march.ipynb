{
 "cells": [
  {
   "cell_type": "markdown",
   "id": "0f8f81b4-7583-4634-bbf9-9969243725cc",
   "metadata": {},
   "source": [
    "### Question 1\n",
    "\n",
    "Statistics is the science of collecting , organizing and analyzing the data."
   ]
  },
  {
   "cell_type": "markdown",
   "id": "364cea16-3d5d-451c-b418-105c9d3bd602",
   "metadata": {},
   "source": [
    "### Question 2\n",
    "\n",
    "There are two types of statistics :\n",
    "1. Descriptive Stats: It is used to summarize the data by means of central tendency and dispersion.\n",
    "2. Inferential Stats: It is used for hypothesis testing and deriving insights based on tests and form conclusion.\n"
   ]
  },
  {
   "cell_type": "markdown",
   "id": "c5965b88-aa83-4f16-b54f-e368d60dc8f2",
   "metadata": {},
   "source": [
    "### Question 3\n",
    "\n",
    "Data can be categorized in basic two types :\n",
    "1. Quantitative data: This type of data can be counted and measured through numbers. Example : Height and weight.\n",
    "2. Qualitative data: This type of data catogrizes the things in different sections or rank or order. They can't be measured. Exmaple : Grades"
   ]
  },
  {
   "cell_type": "markdown",
   "id": "a333f4ad-eba4-44f6-a812-28c5342437ab",
   "metadata": {},
   "source": [
    "### Question 4\n",
    "\n",
    "1. Qualitative data\n",
    "2. Qualitative data\n",
    "3. Quantitative data\n",
    "4. Quantitative data"
   ]
  },
  {
   "cell_type": "markdown",
   "id": "e242bd72-9961-461b-929b-39263bf8ac94",
   "metadata": {},
   "source": [
    "### Question 5\n",
    "\n",
    "The concept of levels of measurement, also known as levels of data or scales of measurement, refers to the different ways in which data can be measured or categorized. There are four commonly recognized levels of measurement: nominal, ordinal, interval, and ratio.\n",
    "\n",
    "1. Nominal level of measurement: This is the lowest level of measurement, where data is simply categorized into distinct categories or groups without any quantitative value or order. Nominal data can only be classified into categories, and no meaningful numerical operations can be performed on it. Examples of nominal variables include gender (e.g., male or female), marital status (e.g., married, single, divorced), or types of animals (e.g., dog, cat, bird).\n",
    "\n",
    "2. Ordinal level of measurement: This level of measurement not only categorizes data, but also provides information about the relative order or rank of the categories. However, the differences between categories are not necessarily equal or meaningful. Ordinal data can be ranked or ordered, but the intervals between categories are not standardized. Examples of ordinal variables include educational attainment (e.g., high school, college, graduate degree) or performance ratings (e.g., poor, fair, good, excellent).\n",
    "\n",
    "3. Interval level of measurement: This level of measurement not only categorizes data and provides information about the relative order of categories, but also allows for meaningful and standardized differences between categories. However, it does not have a true zero point, meaning that ratios and proportions are not meaningful. Examples of interval variables include temperature measured in Celsius or Fahrenheit, or years in the Gregorian calendar.\n",
    "\n",
    "4. Ratio level of measurement: This is the highest level of measurement, which includes all the characteristics of the previous levels (nominal, ordinal, and interval), and also has a true zero point, where zero represents the complete absence of the characteristic being measured. Ratios and proportions are meaningful at this level of measurement. Examples of ratio variables include age, weight, height, or income."
   ]
  },
  {
   "cell_type": "markdown",
   "id": "458e4e56-3441-45a2-8850-86bd782b977d",
   "metadata": {},
   "source": [
    "### Question 6\n",
    "\n",
    "Understanding the level of measurement of a variable is crucial when analyzing data because it determines the types of statistical analyses that can be appropriately applied to the data. Different levels of measurement have different properties and characteristics, and using inappropriate statistical techniques based on the level of measurement can lead to inaccurate or misleading results.\n",
    "\n",
    "For example, let's consider a study that measures the effectiveness of three different treatments (Treatment A, Treatment B, and Treatment C) for a certain medical condition. The study collects data on the number of days it takes for patients to recover from the condition after receiving each treatment.If the data on \"days to recovery\" is simply categorized into three groups, such as \"fast recovery,\" \"moderate recovery,\" and \"slow recovery,\" without any meaningful numerical values, then it is at the nominal level of measurement. In this case, only basic descriptive statistics, such as frequencies or proportions, can be used to summarize the data and compare the effectiveness of the treatments in terms of recovery rates."
   ]
  },
  {
   "cell_type": "markdown",
   "id": "99140bd5-1fbe-4458-bdb5-6727a80cad63",
   "metadata": {},
   "source": [
    "### Question 7\n",
    "\n",
    "Nominal data are simple qualitative data that can be categorized and their order or rank means nothing. For example, colors, gender, labels etc.\n",
    "Whereas ordinal data is where the order or rank matters. For example, educational qualifications, grades etc."
   ]
  },
  {
   "cell_type": "markdown",
   "id": "ee479ec6-dd42-4068-9c88-d1e387f69d0b",
   "metadata": {},
   "source": [
    "### Question 8\n",
    "\n",
    "Histogram is a plot which can be used to display the data that is in the form of range."
   ]
  },
  {
   "cell_type": "markdown",
   "id": "765d236c-13c3-4098-abf9-02ed18d2e9db",
   "metadata": {},
   "source": [
    "### Question 9\n",
    "\n",
    "1. Descriptive statistics: Descriptive statistics involve the collection, presentation, and analysis of data in order to summarize and describe the main features or characteristics of a dataset. Descriptive statistics provide a way to organize and summarize data, making it easier to understand and interpret.\n",
    "\n",
    "Example: A researcher collects data on the ages (in years) of a sample of 100 individuals and calculates the mean, median, and standard deviation of the ages. These statistics provide a summary of the central tendency (mean and median) and variability (standard deviation) of the ages in the sample, helping the researcher to describe the age distribution and characteristics of the sample.\n",
    "\n",
    "2. Inferential statistics: Inferential statistics involve making inferences or drawing conclusions about a population based on the analysis of a sample. Inferential statistics use probability theory to make estimates, predictions, or inferences about a population parameter based on sample data. \n",
    "\n",
    "Example: A researcher conducts a study to investigate the effect of a new drug on blood pressure. The researcher collects data from a sample of 100 individuals, randomly assigned to receive either the new drug or a placebo. The researcher then uses inferential statistics, such as a t-test, to determine if there is a statistically significant difference in blood pressure between the two groups, and to make inferences about the population based on the sample results."
   ]
  },
  {
   "cell_type": "markdown",
   "id": "f0e3a46d-b7e1-4512-8bd3-a2ea2bb8c8fb",
   "metadata": {},
   "source": [
    "### Question 10\n",
    "\n",
    "Here are some common measures of central tendency and variability:\n",
    "\n",
    "Measures of central tendency:\n",
    "1. Mean: The mean is the average of a set of data points. It is calculated by summing all the values in the dataset and dividing by the number of data points. The mean provides an estimate of the \"typical\" value in the dataset and is widely used in many statistical analyses.\n",
    "2. Median: The median is the middle value in a dataset when the data points are arranged in ascending or descending order. It is less sensitive to extreme values compared to the mean and provides a measure of the \"central\" value in the dataset.\n",
    "3. Mode: The mode is the value that appears most frequently in a dataset. It represents the most common value or category in the dataset.\n",
    "\n",
    "Measures of variability:\n",
    "1. Range: The range is the difference between the maximum and minimum values in a dataset. It provides a measure of the spread or dispersion of data in the dataset.\n",
    "2. Variance: Variance is a measure of how much the data points in a dataset deviate from the mean. It is calculated by averaging the squared differences between each data point and the mean. Variance provides a measure of the variability or dispersion of data in the dataset.\n",
    "3. Standard deviation: The standard deviation is the square root of the variance. It represents the average amount of variation or dispersion of data points from the mean. Standard deviation is commonly used as a measure of variability in many statistical analyses."
   ]
  }
 ],
 "metadata": {
  "kernelspec": {
   "display_name": "Python 3 (ipykernel)",
   "language": "python",
   "name": "python3"
  },
  "language_info": {
   "codemirror_mode": {
    "name": "ipython",
    "version": 3
   },
   "file_extension": ".py",
   "mimetype": "text/x-python",
   "name": "python",
   "nbconvert_exporter": "python",
   "pygments_lexer": "ipython3",
   "version": "3.10.8"
  }
 },
 "nbformat": 4,
 "nbformat_minor": 5
}
