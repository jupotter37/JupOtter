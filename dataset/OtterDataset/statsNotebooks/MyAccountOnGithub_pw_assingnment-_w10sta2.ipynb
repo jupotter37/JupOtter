{
 "cells": [
  {
   "cell_type": "code",
   "execution_count": 10,
   "id": "481087e5-529e-4466-8238-97145b06dbcf",
   "metadata": {},
   "outputs": [
    {
     "data": {
      "text/plain": [
       "'Mean,median,mode are the 3 measures of central tendency'"
      ]
     },
     "execution_count": 10,
     "metadata": {},
     "output_type": "execute_result"
    }
   ],
   "source": [
    "# Q1. What are the three measures of central tendency?\n",
    "'''Mean,median,mode are the 3 measures of central tendency'''\n"
   ]
  },
  {
   "cell_type": "code",
   "execution_count": 11,
   "id": "f28ac345-2dbb-438f-aef8-287289a4f4de",
   "metadata": {},
   "outputs": [
    {
     "data": {
      "text/plain": [
       "'Mean is average in the dataset,median is the middle most data item in the dataset,and the mode is the most frequently occuring the data value'"
      ]
     },
     "execution_count": 11,
     "metadata": {},
     "output_type": "execute_result"
    }
   ],
   "source": [
    "# Q2. What is the difference between the mean, median, and mode? How are they used to measure the central tendency of a dataset?\n",
    "'''Mean is average in the dataset,median is the middle most data item in the dataset,and the mode is the most frequently occuring the data value'''"
   ]
  },
  {
   "cell_type": "code",
   "execution_count": 12,
   "id": "169ff936-bc41-4026-b7c0-910f62c931db",
   "metadata": {},
   "outputs": [
    {
     "data": {
      "text/plain": [
       "177.01875"
      ]
     },
     "execution_count": 12,
     "metadata": {},
     "output_type": "execute_result"
    }
   ],
   "source": [
    "# Q3. Measure the three measures of central tendency for the given height data:\n",
    "d=[178,177,176,177,178.2,178,175,179,180,175,178.9,176.2,177,172.5,178,176.5]\n",
    "import numpy as np\n",
    "d1=np.mean(d)\n",
    "d1"
   ]
  },
  {
   "cell_type": "code",
   "execution_count": 13,
   "id": "13a0c4e8-7639-426a-8972-68e2b78d6381",
   "metadata": {},
   "outputs": [
    {
     "data": {
      "text/plain": [
       "177.0"
      ]
     },
     "execution_count": 13,
     "metadata": {},
     "output_type": "execute_result"
    }
   ],
   "source": [
    "d2=np.median(d)\n",
    "d2"
   ]
  },
  {
   "cell_type": "code",
   "execution_count": 15,
   "id": "bad2f20d-b6c8-48f0-94cc-38824a5cb4b7",
   "metadata": {},
   "outputs": [
    {
     "data": {
      "text/plain": [
       "178"
      ]
     },
     "execution_count": 15,
     "metadata": {},
     "output_type": "execute_result"
    }
   ],
   "source": [
    "import statistics\n",
    "d3=statistics.mode(d)\n",
    "d3"
   ]
  },
  {
   "cell_type": "code",
   "execution_count": 16,
   "id": "d95493b4-0088-4c0b-90db-482563127a46",
   "metadata": {},
   "outputs": [],
   "source": [
    "# Q4. Find the standard deviation for the given data:\n",
    "a=[178,177,176,177,178.2,178,175,179,180,175,178.9,176.2,177,172.5,178,176.5]\n",
    "import numpy as np\n",
    "a1=np.std(a)"
   ]
  },
  {
   "cell_type": "code",
   "execution_count": 17,
   "id": "6b18207f-3ac5-44b2-8c9a-85b57ab9951d",
   "metadata": {},
   "outputs": [
    {
     "data": {
      "text/plain": [
       "1.7885814036548633"
      ]
     },
     "execution_count": 17,
     "metadata": {},
     "output_type": "execute_result"
    }
   ],
   "source": [
    "a1"
   ]
  },
  {
   "cell_type": "code",
   "execution_count": 18,
   "id": "1cb352c2-1194-4d73-98b7-dcf6440d2e7f",
   "metadata": {},
   "outputs": [
    {
     "data": {
      "text/plain": [
       "'Measures of dispersion give insights into the spread or variability within a dataset. They help to understand the degree to which the data points \\ndeviate from the central tendency, such as the mean or median.\\nRange is the he difference between the maximum and minimum values in a dataset.\\nvariance is the average of the squared differences from the mean.\\nexample: Consider a simple dataset of test scores: [85, 90, 88, 78, 92]\\nRange:\\nMaximum = 92, Minimum = 78\\nRange = 92 - 78 = 14\\nThe range tells us that the scores span 14 points.\\n\\nVariance (sample):\\nMean= (85 + 90 + 88 + 78 + 92) / 5 = 86.6\\nSum of squared differences = (85 - 86.6)^2 + (90 - 86.6)^2 + (88 - 86.6)^2 + (78 - 86.6)^2 + (92 - 86.6)^2 = 180.8\\nVariance = 180.8 / 4 = 45.2\\nThe variance of 45.2 tells us the average squared difference from the mean is 45.2 points squared.\\n\\nStandard Deviation (sample):\\ns = sqrt root of variance ≈ 6.72\\nThe standard deviation of approximately 6.72 means the average deviation from the mean is about 6.72 points.'"
      ]
     },
     "execution_count": 18,
     "metadata": {},
     "output_type": "execute_result"
    }
   ],
   "source": [
    "# Q5. How are measures of dispersion such as range, variance, and standard deviation used to describe the spread of a dataset? Provide an example.\n",
    "'''Measures of dispersion give insights into the spread or variability within a dataset. They help to understand the degree to which the data points \n",
    "deviate from the central tendency, such as the mean or median.\n",
    "Range is the he difference between the maximum and minimum values in a dataset.\n",
    "variance is the average of the squared differences from the mean.\n",
    "example: Consider a simple dataset of test scores: [85, 90, 88, 78, 92]\n",
    "Range:\n",
    "Maximum = 92, Minimum = 78\n",
    "Range = 92 - 78 = 14\n",
    "The range tells us that the scores span 14 points.\n",
    "\n",
    "Variance (sample):\n",
    "Mean= (85 + 90 + 88 + 78 + 92) / 5 = 86.6\n",
    "Sum of squared differences = (85 - 86.6)^2 + (90 - 86.6)^2 + (88 - 86.6)^2 + (78 - 86.6)^2 + (92 - 86.6)^2 = 180.8\n",
    "Variance = 180.8 / 4 = 45.2\n",
    "The variance of 45.2 tells us the average squared difference from the mean is 45.2 points squared.\n",
    "\n",
    "Standard Deviation (sample):\n",
    "s = sqrt root of variance ≈ 6.72\n",
    "The standard deviation of approximately 6.72 means the average deviation from the mean is about 6.72 points.'''\n"
   ]
  },
  {
   "cell_type": "code",
   "execution_count": 1,
   "id": "76b9d0c4-b9b3-4bda-aeae-6d3dd26497f5",
   "metadata": {},
   "outputs": [
    {
     "data": {
      "text/plain": [
       "'venn daiagram is used to show the relation between the population data'"
      ]
     },
     "execution_count": 1,
     "metadata": {},
     "output_type": "execute_result"
    }
   ],
   "source": [
    "# Q6. What is a Venn diagram?\n",
    "'''venn daiagram is used to show the relation between the population data'''"
   ]
  },
  {
   "cell_type": "code",
   "execution_count": 2,
   "id": "8f1b7737-a4c5-4897-b241-dbadbac046dc",
   "metadata": {},
   "outputs": [
    {
     "data": {
      "text/plain": [
       "'(i)(0,3,4,5,7,8,10)\\n(2)(0,2,3,4,5,6,7,8,10)'"
      ]
     },
     "execution_count": 2,
     "metadata": {},
     "output_type": "execute_result"
    }
   ],
   "source": [
    "# Q7. For the two given sets A = (2,3,4,5,6,7) & B = (0,2,6,8,10). Find:\n",
    "# (i) A B\n",
    "# (ii) A ⋃ B\n",
    "'''(i)(0,3,4,5,7,8,10)\n",
    "(2)(0,2,3,4,5,6,7,8,10)'''"
   ]
  },
  {
   "cell_type": "code",
   "execution_count": 3,
   "id": "c39eac97-52e9-4fce-8415-841f624456a9",
   "metadata": {},
   "outputs": [
    {
     "data": {
      "text/plain": [
       "'Skewness is a measure of the asymmetry of the probability distribution of a real-valued random variable about its mean. Skewness is a\\nmeasure of the asymmetry of the probability distribution of a real-valued random variable about its mean.'"
      ]
     },
     "execution_count": 3,
     "metadata": {},
     "output_type": "execute_result"
    }
   ],
   "source": [
    "# Q8. What do you understand about skewness in data?\n",
    "'''Skewness is a measure of the asymmetry of the probability distribution of a real-valued random variable about its mean. Skewness is a\n",
    "measure of the asymmetry of the probability distribution of a real-valued random variable about its mean.''' "
   ]
  },
  {
   "cell_type": "code",
   "execution_count": 4,
   "id": "a0296df6-bd89-449e-830f-32043d418779",
   "metadata": {},
   "outputs": [
    {
     "data": {
      "text/plain": [
       "'If the data is right skewed distributed then the mean>median'"
      ]
     },
     "execution_count": 4,
     "metadata": {},
     "output_type": "execute_result"
    }
   ],
   "source": [
    "# Q9. If a data is right skewed then what will be the position of median with respect to mean?\n",
    "'''If the data is right skewed distributed then the mean>median'''"
   ]
  },
  {
   "cell_type": "code",
   "execution_count": 5,
   "id": "5f7628d1-be9c-413f-8d90-362bb0ba56bf",
   "metadata": {},
   "outputs": [
    {
     "data": {
      "text/plain": [
       "\"Covariance: Covariance measures the degree to which two variables change together. If the variables tend to increase together, the \\ncovariance is positive; if one variable tends to increase when the other decreases, the covariance is negative.\\nCorrelation: Correlation, specifically the Pearson correlation coefficient, measures the strength and direction of the linear relationship \\nbetween two variables. It's essentially a normalized version of covariance. \""
      ]
     },
     "execution_count": 5,
     "metadata": {},
     "output_type": "execute_result"
    }
   ],
   "source": [
    "# Q10. Explain the difference between covariance and correlation. How are these measures used in statistical analysis?\n",
    "'''Covariance: Covariance measures the degree to which two variables change together. If the variables tend to increase together, the \n",
    "covariance is positive; if one variable tends to increase when the other decreases, the covariance is negative.\n",
    "Correlation: Correlation, specifically the Pearson correlation coefficient, measures the strength and direction of the linear relationship \n",
    "between two variables. It's essentially a normalized version of covariance. '''"
   ]
  },
  {
   "cell_type": "code",
   "execution_count": 6,
   "id": "848e4ae4-89c1-47bd-8bcb-875616c783a7",
   "metadata": {},
   "outputs": [
    {
     "data": {
      "text/plain": [
       "\"sum of observation of data and divide it by its no of observation \\nex=Let's calculate the sample mean for the dataset: 4, 8, 6, 5, 3\\n(4+8+6+5+3)/5=26/5=5.2\""
      ]
     },
     "execution_count": 6,
     "metadata": {},
     "output_type": "execute_result"
    }
   ],
   "source": [
    "# Q11. What is the formula for calculating the sample mean? Provide an example calculation for a dataset.\n",
    "'''sum of observation of data and divide it by its no of observation \n",
    "ex=Let's calculate the sample mean for the dataset: 4, 8, 6, 5, 3\n",
    "(4+8+6+5+3)/5=26/5=5.2'''"
   ]
  },
  {
   "cell_type": "code",
   "execution_count": 7,
   "id": "8fdfd7ef-175e-48af-b8bc-cfa372d958d8",
   "metadata": {},
   "outputs": [
    {
     "data": {
      "text/plain": [
       "' Mean=Median=Mode The reason for this alignment is the symmetry of the normal distribution. The left and right sides of a normal\\ndistribution are mirror images of each other. '"
      ]
     },
     "execution_count": 7,
     "metadata": {},
     "output_type": "execute_result"
    }
   ],
   "source": [
    "# Q12. For a normal distribution data what is the relationship between its measure of central tendency?\n",
    "''' Mean=Median=Mode The reason for this alignment is the symmetry of the normal distribution. The left and right sides of a normal\n",
    "distribution are mirror images of each other. '''"
   ]
  },
  {
   "cell_type": "code",
   "execution_count": 8,
   "id": "edeed8b4-904e-489e-85f0-18285ab3fa08",
   "metadata": {},
   "outputs": [
    {
     "data": {
      "text/plain": [
       "'covariance and correlation provide insights into the relationship between two variables, correlation offers a more standardized and \\ninterpretable measure of the strength and direction of the linear relationship.'"
      ]
     },
     "execution_count": 8,
     "metadata": {},
     "output_type": "execute_result"
    }
   ],
   "source": [
    "# Q13. How is covariance different from correlation?\n",
    "'''covariance and correlation provide insights into the relationship between two variables, correlation offers a more standardized and \n",
    "interpretable measure of the strength and direction of the linear relationship.'''"
   ]
  },
  {
   "cell_type": "code",
   "execution_count": 9,
   "id": "4148983f-905b-4c91-94c4-1301347360b5",
   "metadata": {},
   "outputs": [
    {
     "data": {
      "text/plain": [
       "\"The mean is highly sensitive to outliers.\\nMedian is less affected by outliers compared to the mean, especially when the dataset is large. \\nOutliers typically don't affect the Mode unless there are multiple outliers with the same value that occur more frequently than any other \\nvalue.\\nEx:\\nConsider a small dataset of salaries (in thousands): $40, $45, $50, $55, $60\\n\\nMean = $(40 + 45 + 50 + 55 + 60) / 5$ = $50\\nMedian = $50 (since it's the middle value when sorted)\\n\\nNow, let's introduce an outlier, adding a salary of $500:\\n\\nNew dataset: $40, $45, $50, $55, $60, $500\\nNew Mean = $(40 + 45 + 50 + 55 + 60 + 500) / 6$ ≈ $116.7 (significantly increased)\\nNew Median = $52.5 (the average of $50 and $55, slightly affected)\\nNew Range = $500 - 40$ = $460 (greatly increased)\""
      ]
     },
     "execution_count": 9,
     "metadata": {},
     "output_type": "execute_result"
    }
   ],
   "source": [
    "# Q14. How do outliers affect measures of central tendency and dispersion? Provide an example.\n",
    "'''The mean is highly sensitive to outliers.\n",
    "Median is less affected by outliers compared to the mean, especially when the dataset is large. \n",
    "Outliers typically don't affect the Mode unless there are multiple outliers with the same value that occur more frequently than any other \n",
    "value.\n",
    "Ex:\n",
    "Consider a small dataset of salaries (in thousands): $40, $45, $50, $55, $60\n",
    "\n",
    "Mean = $(40 + 45 + 50 + 55 + 60) / 5$ = $50\n",
    "Median = $50 (since it's the middle value when sorted)\n",
    "\n",
    "Now, let's introduce an outlier, adding a salary of $500:\n",
    "\n",
    "New dataset: $40, $45, $50, $55, $60, $500\n",
    "New Mean = $(40 + 45 + 50 + 55 + 60 + 500) / 6$ ≈ $116.7 (significantly increased)\n",
    "New Median = $52.5 (the average of $50 and $55, slightly affected)\n",
    "New Range = $500 - 40$ = $460 (greatly increased)'''\n"
   ]
  },
  {
   "cell_type": "code",
   "execution_count": null,
   "id": "880d9875-156e-4bf5-87cc-321ec6a97ef7",
   "metadata": {},
   "outputs": [],
   "source": []
  }
 ],
 "metadata": {
  "kernelspec": {
   "display_name": "Python 3 (ipykernel)",
   "language": "python",
   "name": "python3"
  },
  "language_info": {
   "codemirror_mode": {
    "name": "ipython",
    "version": 3
   },
   "file_extension": ".py",
   "mimetype": "text/x-python",
   "name": "python",
   "nbconvert_exporter": "python",
   "pygments_lexer": "ipython3",
   "version": "3.10.8"
  }
 },
 "nbformat": 4,
 "nbformat_minor": 5
}
